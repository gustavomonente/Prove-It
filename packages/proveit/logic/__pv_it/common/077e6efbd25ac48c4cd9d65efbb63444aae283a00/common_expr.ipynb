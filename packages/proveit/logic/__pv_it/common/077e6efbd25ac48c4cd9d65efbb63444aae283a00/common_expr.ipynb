{
 "cells": [
  {
   "cell_type": "markdown",
   "metadata": {},
   "source": [
    "Common <a class=\"ProveItLink\" href=\"../../../_common_.ipynb#QimplPofTrue\">QimplPofTrue</a> of type <a class=\"ProveItLink\" href=\"../../../../../../doc/html/api/proveit.logic.Implies.html\">Implies</a>\n",
    "=======================\n",
    "# from the theory of <a class=\"ProveItLink\" href=\"../../../_theory_nbs_/theory.ipynb\">proveit.logic</a>"
   ]
  },
  {
   "cell_type": "code",
   "execution_count": 1,
   "metadata": {},
   "outputs": [],
   "source": [
    "import proveit\n",
    "# Automation is not needed when only building an expression:\n",
    "proveit.defaults.automation = False # This will speed things up.\n",
    "proveit.defaults.inline_pngs = False # Makes files smaller.\n",
    "%load_expr # Load the stored expression as 'stored_expr'\n",
    "# import the special expression\n",
    "from proveit.logic import QimplPofTrue"
   ]
  },
  {
   "cell_type": "code",
   "execution_count": 2,
   "metadata": {},
   "outputs": [
    {
     "name": "stdout",
     "output_type": "stream",
     "text": [
      "Passed sanity check: QimplPofTrue matches stored_expr\n"
     ]
    }
   ],
   "source": [
    "# check that the built expression is the same as the stored expression\n",
    "assert QimplPofTrue == stored_expr\n",
    "assert QimplPofTrue._style_id == stored_expr._style_id\n",
    "print(\"Passed sanity check: QimplPofTrue matches stored_expr\")"
   ]
  },
  {
   "cell_type": "code",
   "execution_count": 3,
   "metadata": {},
   "outputs": [
    {
     "name": "stdout",
     "output_type": "stream",
     "text": [
      "Q(\\top) \\Rightarrow P(\\top)\n"
     ]
    }
   ],
   "source": [
    "# Show the LaTeX representation of the expression for convenience if you need it.\n",
    "print(QimplPofTrue.latex())"
   ]
  },
  {
   "cell_type": "code",
   "execution_count": 4,
   "metadata": {},
   "outputs": [
    {
     "data": {
      "text/html": [
       "<table><tr><th>&nbsp;</th><th>core type</th><th>sub-expressions</th><th>expression</th></tr>\n",
       "<tr><td>0</td><td>Operation</td><td>operator:&nbsp;1<br>operands:&nbsp;2<br></td><td><a class=\"ProveItLink\" href=\"expr.ipynb\"><img src=\"expr.png\" style=\"display:inline;vertical-align:middle;\" /></a></td></tr>\n",
       "<tr><td>1</td><td>Literal</td><td></td><td><a class=\"ProveItLink\" href=\"../../../booleans/implication/__pv_it/common/02bdb382575728da8cdbaed545b9096ea7a1bd5b0/expr.ipynb\"><img src=\"../../../booleans/implication/__pv_it/common/02bdb382575728da8cdbaed545b9096ea7a1bd5b0/expr.png\" style=\"display:inline;vertical-align:middle;\" /></a></td></tr>\n",
       "<tr><td>2</td><td>ExprTuple</td><td>3, 4</td><td><a class=\"ProveItLink\" href=\"../7fd2696fdc46b9675e858c619b9f3167ce6988af0/expr.ipynb\"><img src=\"../7fd2696fdc46b9675e858c619b9f3167ce6988af0/expr.png\" style=\"display:inline;vertical-align:middle;\" /></a></td></tr>\n",
       "<tr><td>3</td><td>Operation</td><td>operator:&nbsp;5<br>operand:&nbsp;7<br></td><td><a class=\"ProveItLink\" href=\"../3632e3c726e1cb4a90aecfef8cffdd780ef67f6a0/expr.ipynb\"><img src=\"../3632e3c726e1cb4a90aecfef8cffdd780ef67f6a0/expr.png\" style=\"display:inline;vertical-align:middle;\" /></a></td></tr>\n",
       "<tr><td>4</td><td>Operation</td><td>operator:&nbsp;6<br>operand:&nbsp;7<br></td><td><a class=\"ProveItLink\" href=\"../4a34c27c6fa4b7a162456426f0490726e7cb5dd70/expr.ipynb\"><img src=\"../4a34c27c6fa4b7a162456426f0490726e7cb5dd70/expr.png\" style=\"display:inline;vertical-align:middle;\" /></a></td></tr>\n",
       "<tr><td>5</td><td>Variable</td><td></td><td><a class=\"ProveItLink\" href=\"../../../../__pv_it/common/d72bb8b07403efe79afab564c36a28e21330e5f90/expr.ipynb\"><img src=\"../../../../__pv_it/common/d72bb8b07403efe79afab564c36a28e21330e5f90/expr.png\" style=\"display:inline;vertical-align:middle;\" /></a></td></tr>\n",
       "<tr><td>6</td><td>Variable</td><td></td><td><a class=\"ProveItLink\" href=\"../../../../__pv_it/common/de55da274ba0f49c86925fbf3828021c04d27faf0/expr.ipynb\"><img src=\"../../../../__pv_it/common/de55da274ba0f49c86925fbf3828021c04d27faf0/expr.png\" style=\"display:inline;vertical-align:middle;\" /></a></td></tr>\n",
       "<tr><td>7</td><td>Literal</td><td></td><td><a class=\"ProveItLink\" href=\"../../../booleans/__pv_it/common/95025295868b9266d37330b4427adf122f6061770/expr.ipynb\"><img src=\"../../../booleans/__pv_it/common/95025295868b9266d37330b4427adf122f6061770/expr.png\" style=\"display:inline;vertical-align:middle;\" /></a></td></tr>\n",
       "</table>\n"
      ],
      "text/plain": [
       "0. Q(TRUE) => P(TRUE)\n",
       "   core type: Operation\n",
       "   operator: 1\n",
       "   operands: 2\n",
       "1. =>\n",
       "   core type: Literal\n",
       "   sub-expressions: \n",
       "2. (Q(TRUE), P(TRUE))\n",
       "   core type: ExprTuple\n",
       "   sub-expressions: 3, 4\n",
       "3. Q(TRUE)\n",
       "   core type: Operation\n",
       "   operator: 5\n",
       "   operand: 7\n",
       "4. P(TRUE)\n",
       "   core type: Operation\n",
       "   operator: 6\n",
       "   operand: 7\n",
       "5. Q\n",
       "   core type: Variable\n",
       "   sub-expressions: \n",
       "6. P\n",
       "   core type: Variable\n",
       "   sub-expressions: \n",
       "7. TRUE\n",
       "   core type: Literal\n",
       "   sub-expressions: "
      ]
     },
     "execution_count": 4,
     "metadata": {},
     "output_type": "execute_result"
    }
   ],
   "source": [
    "# display the expression information\n",
    "QimplPofTrue.expr_info()"
   ]
  },
  {
   "cell_type": "code",
   "execution_count": null,
   "metadata": {},
   "outputs": [],
   "source": []
  }
 ],
 "metadata": {
  "kernelspec": {
   "display_name": "Python 3",
   "language": "python",
   "name": "python3"
  }
 },
 "nbformat": 4,
 "nbformat_minor": 0
}