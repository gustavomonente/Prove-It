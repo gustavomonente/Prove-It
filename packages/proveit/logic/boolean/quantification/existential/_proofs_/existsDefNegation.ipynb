{
 "cells": [
  {
   "cell_type": "markdown",
   "metadata": {},
   "source": [
    "Proof of <a class=\"ProveItLink\" href=\"../../../../../_context_.ipynb\">proveit</a>.<a class=\"ProveItLink\" href=\"../../../../_context_.ipynb\">logic</a>.<a class=\"ProveItLink\" href=\"../../../_context_.ipynb\">boolean</a>.<a class=\"ProveItLink\" href=\"../../_context_.ipynb\">quantification</a>.<a class=\"ProveItLink\" href=\"../_context_.ipynb\">existential</a>.<a class=\"ProveItLink\" href=\"../_theorems_.ipynb#existsDefNegation\">existsDefNegation</a> theorem\n",
    "========"
   ]
  },
  {
   "cell_type": "code",
   "execution_count": 1,
   "metadata": {},
   "outputs": [],
   "source": [
    "import proveit\n",
    "context = proveit.Context('..') # the theorem's context is in the parent directory"
   ]
  },
  {
   "cell_type": "code",
   "execution_count": 2,
   "metadata": {},
   "outputs": [
    {
     "name": "stdout",
     "output_type": "stream",
     "text": [
      "Beginning proof of existsDefNegation\n",
      "Recorded 'presuming' information\n",
      "Presuming previous theorems (applied transitively).\n"
     ]
    },
    {
     "data": {
      "text/html": [
       "<strong id=\"existsDefNegation\">existsDefNegation:</strong> <a class=\"ProveItLink\" href=\"../__pv_it/27250bf3586e4cecb7a4cc9077eaca0d3bfa27a40/expr.ipynb\"><img src=\"data:image/png;base64,iVBORw0KGgoAAAANSUhEUgAAAcIAAAAzCAMAAAAzf/h/AAAAOVBMVEX///8kJCQNDQ0oKCgQEBCI\n",
       "iIhmZma6urrMzMxUVFQiIiJERETc3Nzu7u6qqqp2dnaYmJgyMjIAAAD9T1yxAAAAAXRSTlMAQObY\n",
       "ZgAAB6pJREFUeNrtnImWpCgQRZ1p2Vf5/48dUVBQUFBs7eninNqyJCS5BATBM7vuTypIdD/lsdKb\n",
       "sajqagrVXD385QgFiTvP9nnfDqHknFf3sKqDTv92R0FDRHTsctkQIb5QCZCSi4YBd9wWyTh/soO4\n",
       "frT/5dx4PVB02YYeNi/gdxGWjaBproVkLHQgfcOpVBNj2Gh2gLNRwR72IcKvrB5xYepLCEWPihH6\n",
       "LmBNV0Mzj2k2D4yBP4xQDPcRbjvtXYQMVkY841LYFCF28Zc0wDol7J4uCtxGuJ26XkUojahDyFlj\n",
       "hMAg99OipPxxhKK/j7Cj6jMIaeGoX96wBo0RMuMmaIuS/45wd0D3EUrDP4JQG16JkODGCN1SyI0d\n",
       "TMCNKAEA4Qi4Oe+it+VsKHgfYTz230RIS+O/6Q0rSqmxXw0RuqVQzjMTm3cUYvxDU9DRCS++FKTG\n",
       "NvZ7ghWhGoICiwe/+ARCbFBX54VTPNfSC4EhSikIZpNUzncTNushOjTOERjCS7NraGMzCdIGXigM\n",
       "+ARCWHxr/4alaoyQRS7tgnX7Elt8D11CGNuIB24DhN0wfAJhT2oRKtkYoYn4BPutdZSjyzGOAc8h\n",
       "BEEY8R5CbHQtwinHPSFUAGJASm54dCU20eLjJtLpH/g2wsWGhhoDHyo5e5m1sHhQ86Dz3kMIDK9F\n",
       "OL17i3BcvMjQTYlGcuyUwZX5XaGfVudukWL8x1z1MsLQhkb9aLjn6XDmameTDyBk5Xd2b5gTj3C8\n",
       "0zD1N1YnKdPlyuSKEke3c7yPjJy2iy7j7REKt/8o+iW0wQWwJvytoGqCkNEQ4boyan0fYbG1ntUh\n",
       "ZLTvxz0Fdcy8D9PTpTHn7XAwhoTr1UxLEAAEgL71ixdSfyfqHSDxi7smtmFvgvyAHXAThMqECNWy\n",
       "BNw7T50RlloTBtZ6Ybii2agAFyF0V2ootT45m0wl2NaJVIqiCTTdMaPzTc0VtGuCUK+r9YiQe3fg\n",
       "rMFEWmoNG1CLkK6L+RgFjC+vCLmdXhPf1islYKcHxqk0t1zqlJxNq2ToYZuJ5DzCQRuEQffZtdC7\n",
       "y+pAd9bCQmvSyEqEYpmjBdFIASVWhLiX9huPv8nwytGHTzMtbOuGHFI/2YqCIZe8BtlpFigdvofb\n",
       "CINJzCLUSthyN8vrEBZaC2aCUi9MVvATaWpARK+N7QH6pOeOjnxL4oTTaxhvhLAzJIpIDbOFqiYI\n",
       "C61V7Ck6QIcMbwwMnEDJhLXoNasbkuqsjx8WXui5ReCO8MIjZBHCOU5gpecGJwgja4gZoiDb796U\n",
       "aXr6ri/6zR9b+iFCiGC01JwUeIIwtqanaFrtplVofhShtxDSeGtv/wTZQYsptHM3cBmBM4SxNULm\n",
       "aXN7NTE/GO4U2scI7RqRCD+EVBCO/5JsOj1xMq9ThJE1OrHcZ+1/ELZFyIcO71OsmkkuLDapgQWn\n",
       "bA4KQjp+ySOEoTUxRS1gvwH/mUhvItxMpGPwQZDb3S5pdbS4m8QSc+DjmFMvXK3ZbOG4LUttEVU6\n",
       "Ip1Uv4+VXMD5exTA+z4Qp1WyquFNODPW8IfTQVp9DW8kHu+mcTFCuR51qyG7qcC5LWCrpG122/ea\n",
       "AngzcIK+gTQoJKyS2UL2ZIPQn08GaXUBQ4SjCypYijA47cwqRXVadmEb3Cppuyur0vclBfAG7K4H\n",
       "JNhXySCMszNTj/rOWtLqmE5bdAZmhONcQ4sRLta6bBpN5hG2StruRs36rl9SAMdOuH93AcKlShqh\n",
       "WJ8h250Xrml1Enlhh7Czic8RrvuRbA4mc2g/NbhR0nYXAfB1Fn9HARw7IT5E6KukEW7S3NHQWNPq\n",
       "arnFnFo8O6pJIASDgbn+SR82TQ1ulLTdjvrV3FsK4BMnjBD6KmmEwSnBFmGYVmfuKkRna6Qa4aFP\n",
       "DFmEjZK22/G0jpmnFMB5E2o3YBk+QeiqpBEGAf2h8AK4tbAw5VOHEJo8wrqkbWFherMUNlcA5wXA\n",
       "wVOBTu/069+E9jdC6KqkEZLo1L5Z1q4OoU7u7ecG1yVtS91erkvhMwrgvAA4ODk+cMIYoTw64A9k\n",
       "K2+KEGUW4UnS9mL70LoUPqMAzguAnXw0+Du5KkUIXZUkQh5oHr4mBXYNziRtGyF8UgGc0ZNsEaYX\n",
       "iWKE35ACpxdDrzdc06xtVL/hRPqkAjgjAA7sTWvhP31S+yv3gro0wkCD+CZClNrc+wYvadZGqt8w\n",
       "nHlMAZwXAG8/5CCTDyoOZz7yWEzyCdHlCRgfTzRS/YZxfYUCeBH3liiADwTATgG8jN5MPihC6Kqk\n",
       "EIKPPJyWjEmXBgfj7L7qN6RSpwBeBMAFCuADAXAXn7/kcr8oHIKuSgphFEa8+qB2r/II1zRrM9Vv\n",
       "LpF2qAAuEQAnLwoFwF4B7C8vScr6KgmE33lQO/VxCdsGt1T95tLZhwrgogyRSoX93SoA3qS5iw5g\n",
       "DtLccUbg3Q8t2T+ZvG1wU9VvLt1zoAAuEQAnLwozlZsshSwZFgeHTTIOCt5FyHd1jjSyt1W/uaPd\n",
       "gyPfovRCsQK4wglZ9sj3Wx8dtM87Pav6fUl4oeMWo4oqCdUw2UxdLyPsIKnvkKvO8v8oejtl4Lc/\n",
       "zJKA7qfUJEQe/TDLax8pC9EPl/Ii4hTV/JGy/wFzvmaBNuI4jgAAAABJRU5ErkJggg==\n",
       "\" style=\"display:inline;vertical-align:middle;\" /></a><br>(see <a class=\"ProveItLink\" href=\"../__pv_it/27250bf3586e4cecb7a4cc9077eaca0d3bfa27a40/dependencies.ipynb\">dependencies</a>)<br>"
      ],
      "text/plain": [
       "existsDefNegation: forall_{n in NaturalsPos} [forall_{P} ([notexists_{x_{1}, ..x_{_a}.., x_{n}} P(x_{1}, ..x_{_a}.., x_{n})] =  \\\\ [forall_{x_{1}, ..x_{_a}.., x_{n}} (P(x_{1}, ..x_{_a}.., x_{n}) != TRUE)])]"
      ]
     },
     "execution_count": 2,
     "metadata": {},
     "output_type": "execute_result"
    }
   ],
   "source": [
    "%proving existsDefNegation presuming []"
   ]
  },
  {
   "cell_type": "code",
   "execution_count": null,
   "metadata": {},
   "outputs": [],
   "source": []
  }
 ],
 "metadata": {
  "kernelspec": {
   "display_name": "Python 3",
   "language": "python",
   "name": "python3"
  }
 },
 "nbformat": 4,
 "nbformat_minor": 0
}
