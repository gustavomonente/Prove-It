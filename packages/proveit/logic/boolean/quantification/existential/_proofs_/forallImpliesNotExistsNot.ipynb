{
 "cells": [
  {
   "cell_type": "markdown",
   "metadata": {},
   "source": [
    "Proof of <a class=\"ProveItLink\" href=\"../../../../../_context_.ipynb\">proveit</a>.<a class=\"ProveItLink\" href=\"../../../../_context_.ipynb\">logic</a>.<a class=\"ProveItLink\" href=\"../../../_context_.ipynb\">boolean</a>.<a class=\"ProveItLink\" href=\"../../_context_.ipynb\">quantification</a>.<a class=\"ProveItLink\" href=\"../_context_.ipynb\">existential</a>.<a class=\"ProveItLink\" href=\"../_theorems_.ipynb#forallImpliesNotExistsNot\">forallImpliesNotExistsNot</a> theorem\n",
    "========"
   ]
  },
  {
   "cell_type": "code",
   "execution_count": 1,
   "metadata": {},
   "outputs": [],
   "source": [
    "import proveit\n",
    "context = proveit.Context('..') # the theorem's context is in the parent directory"
   ]
  },
  {
   "cell_type": "code",
   "execution_count": 2,
   "metadata": {},
   "outputs": [
    {
     "name": "stdout",
     "output_type": "stream",
     "text": [
      "Beginning proof of forallImpliesNotExistsNot\n",
      "Recorded 'presuming' information\n",
      "Presuming previous theorems (applied transitively).\n"
     ]
    },
    {
     "data": {
      "text/html": [
       "<strong id=\"forallImpliesNotExistsNot\">forallImpliesNotExistsNot:</strong> <a class=\"ProveItLink\" href=\"../__pv_it/39be3e6f57cf6c75c84303e72b7d3279e753bbb50/expr.ipynb\"><img src=\"data:image/png;base64,iVBORw0KGgoAAAANSUhEUgAAAZ0AAAAyBAMAAAB1zBseAAAAMFBMVEX///8QEBCIiIhmZma6urrM\n",
       "zMxUVFQiIiJERETc3Nzu7u6qqqp2dnaYmJgyMjIAAAAcRTyBAAAAAXRSTlMAQObYZgAACC1JREFU\n",
       "aN7NmntsFEUcx3+9u727vdtrG4MiGM1BEyAN0AuoJPLwwAQ0GjgwMfxhwlmlCQbhELQoWIokUHyE\n",
       "8xGgGOzSP1BRS6NpeATC2tZ/eHlJUaPhcQkSIka40IJQHnUeu3sz+7ju5ZbQSeZu+9u53fns/OY3\n",
       "3/ltAQYvZQMDit25brj/JZSk39LAQKWT9mUHmmWbU5IyBHhgrsrV/IUznoTtqTHqt+dyovhuiJni\n",
       "2h8AiFyMW5yIZNUDoUSesPZ7KV5OLuyoh78NbKw7j0b86yL5/Wl8I6szH7nEsyuu80jt6KtcdtSx\n",
       "uwDBkQB/FztPsnY8Wj9K5dmgz6O42Ii+tjvql3AbjexViMSKddBOOx7NT0rkCffneeAS+jrmqFue\n",
       "PlRvQyBdLM8ujmczc2atKzyBGMNzes+eb1KOuhXMobnQB9uKDiDlcZZnIXPmSNoNnnNphqeiqWmT\n",
       "s+hdgeZBSwyq0GHrmM/HRwvOmdFLZnXqd4mxPKy/qk+2RJ7VwPD4ExB05kGLFAgjB/kY9VaJvBnI\n",
       "gtBo2/Y7+D3awMRlwuOtJ6WXidj9LvAIfSyPLwZtztymZunxSSgQrkE/k6V+X1qYbO+nR+EX+Tl9\n",
       "vqa4eBD+Jz+MV13g8VayPJCCCc54ttCoPgx1A4J4aHz2PDI0MQ8wx8e3tmH64WUXeMqSHM8JcBYO\n",
       "4D/QeNBcihbmAbhqyyMuzft3Tbp0nkUZjudLAfFJVQsWm9eNJ8YwlxBUv19DrpEYhEe4hj56fh0d\n",
       "o+3o/LlMCzNdWzKl89SkOZ7gVvRR7c+uAj8vEzzyskCcX35wQfEgLNegs4V4DnpyUA2nHoURTDyg\n",
       "xZc1+UppPOuB4wlPQQeJ8gwIP/E8AvzLrSLqKtwFMK99C+yk47MX9w5/hO4yB75bwZyYEVtTgH/k\n",
       "VVieNvYuwZTKQyDPDMZjqTYf5nmop1egQQsYZdxNNopcuU5XnDkAu0e3Ts9QnsC7eBnBT/lt7aBe\n",
       "hlBtdRXqnD/qw0++PMHycH4t5VQeIlEuDcZjpTZDvQaeP8mEgISJR8gJ0HP4tFFd6O5K/O2gWU7J\n",
       "+R54FeQkX3F6h1vsItdUHiwhxcbBeKzUpnDVwIOvlDsJCuYRP4DtMvnYLrdIWQl+aAwYdy0xZl0B\n",
       "MGsLKT/bIfB8ooAe1TqDePBDJ0+/8PyxUJvhW2ae0BsvjJcxj/AIzE8LI9DH/PbdpzqPIvmw0Hhd\n",
       "TVCKU5AHhsyyp1U/mg2eE4X2C5qzIJ7I0T17tg0eDyzUJh1inkf1JPSMwvpf9GEFYIKxK9x+LmK+\n",
       "r3FzGEzb88B1Lb7daGpaOziPhdr0MLPc08AuMDVTyeZYHUbq57vhUKbE/fYf6D4X7XhuaDyL+Z2E\n",
       "VhSeR1Wbz17v2qjNUqm/0M0zBR78vSiPaTzPEL80lRjPo6rNSCVImtt5+2EIleEaTwA87LgLK7th\n",
       "VNLEo6pNfxI8OS09kTNe0yffP54VGo+UyQfSb7umw35J9spmHqo2AxmqiK15yocCj5h9SXf1D3fI\n",
       "cDgak6Br8srJ7RwPUZuwNw1jZVt/C9xHf6vX9dvm1xDJ9AVVeCqh0tHxqWSeP1RtwrzO4zqmxKqY\n",
       "iRfE5ub9zY5uvdORyb7giInr2VVW8QB+RI4UmZkpS1Mt1yF9/7IFD1GbcJKN18z6A93gratreMWJ\n",
       "w4XyaiSy/Ebdsqc4k5OyRK1s8vwhnQdvqXaMhQo5RBg6QOmy4KFqcwO7AvZxPPgeQSc85Wk+NbJe\n",
       "5kwOSptaWZ5enSeCO1ELM0FY3dT0PuLZGbDiIWrzFjvsJp6UI54ePjUCR6KcyUGRorQyPKHb/P7n\n",
       "QZgmQJKOj28B3shY7X8EdsoIdww8YqMjnnfYLSGalDUKZ3LisZW0dlvoUU0Xw6oO+BkfnkJizW4/\n",
       "N7E3bRxihicSdcIjsjJwC6rL42KqyGD2F63dRnGs8/iSMB4tLSh2+Rri4He2P20w8PgTTng8bNoa\n",
       "bUHFXmJqnQTiyEK/Yxt00crw0GBr3G+PQ/PH+X77aY5Hql9Xv84BT5BRIzgzv08hJmUmVh4L7X9H\n",
       "G9ByllaGx58rPX9wTubHpw2cjE8AOcEUnN5Eqt5z/XhXNTGJ7TOQ8nhxir2bkgbqH/toZXjKGl3I\n",
       "V7XzPIcc8ZRpin8rGqt+zRSCB/DCMcc+BtAG6p1pZXhaoq7mE8mljxXNU5HSTb5+nIuz51Eb2PG4\n",
       "kU/05nieS4jHN8ac3eFtgfY8z6KYbvJmYRQU4iEN1MTiHFoZnk0u5Ht9fTxPCvFIFfJ8Yz6R2Mzx\n",
       "YCtdflRTMAkbC/KQBmpi0RwP3MjHw0qOR0winh1zYJwxn4htDF1MTzPCFVk3eZO+O4SH5BO5pCLN\n",
       "NeIGWmJxGq15Ho8b70vYANcNwRXD61fI6Da1Jo/DNuCSbbTMGKjVTaHaqpt0fOplNqlIDnCukTRQ\n",
       "E4sXaO02TuUSecoUdnz8pNkqJJ2MPMgWmXpGsdA7rAlNEMITNgeVg9oMoonFEOZPsTzuvG/Mvw/G\n",
       "l6a7ubd8OWM+EdvC4/S3KT2WEnUZ7I3ThUWyTs6QBjSxaNaj58ENHu0ylIe+nZs9LmvMJxLbYv2l\n",
       "osVbSWR6D5A0+WxdLZtG1NcevLiQBjSxaNovhEe6w/NJguERyK3TKFgZ8onElvKcMu/nmC3erKqE\n",
       "TRpRTXnlG5D82maWx63/pwjrc3vsBVVHKXNN+URsCyXDJ9zab0fStE7U99uvgjs88KRpTTqtmPKJ\n",
       "uu1elUhjcTz2/y/mjw6FXGKx/y9W4P/5Hh8COKHX1ZV6YKDyfzYsdI8eM8YlAAAAAElFTkSuQmCC\n",
       "\" style=\"display:inline;vertical-align:middle;\" /></a><br>(see <a class=\"ProveItLink\" href=\"../__pv_it/39be3e6f57cf6c75c84303e72b7d3279e753bbb50/dependencies.ipynb\">dependencies</a>)<br>"
      ],
      "text/plain": [
       "forallImpliesNotExistsNot: forall_{n in NaturalsPos} [forall_{P} ([forall_{x_{1}, ..x_{_a}.., x_{n}} P(x_{1}, ..x_{_a}.., x_{n})] =>  \\\\ [notexists_{y_{1}, ..y_{_a}.., y_{n}} [not](P(y_{1}, ..y_{_a}.., y_{n}))])]"
      ]
     },
     "execution_count": 2,
     "metadata": {},
     "output_type": "execute_result"
    }
   ],
   "source": [
    "%proving forallImpliesNotExistsNot presuming []"
   ]
  },
  {
   "cell_type": "code",
   "execution_count": null,
   "metadata": {},
   "outputs": [],
   "source": []
  }
 ],
 "metadata": {
  "kernelspec": {
   "display_name": "Python 3",
   "language": "python",
   "name": "python3"
  }
 },
 "nbformat": 4,
 "nbformat_minor": 0
}
