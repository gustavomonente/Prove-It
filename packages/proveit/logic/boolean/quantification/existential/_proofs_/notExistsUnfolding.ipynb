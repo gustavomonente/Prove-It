{
 "cells": [
  {
   "cell_type": "markdown",
   "metadata": {},
   "source": [
    "Proof of <a class=\"ProveItLink\" href=\"../../../../../_context_.ipynb\">proveit</a>.<a class=\"ProveItLink\" href=\"../../../../_context_.ipynb\">logic</a>.<a class=\"ProveItLink\" href=\"../../../_context_.ipynb\">boolean</a>.<a class=\"ProveItLink\" href=\"../../_context_.ipynb\">quantification</a>.<a class=\"ProveItLink\" href=\"../_context_.ipynb\">existential</a>.<a class=\"ProveItLink\" href=\"../_theorems_.ipynb#notExistsUnfolding\">notExistsUnfolding</a> theorem\n",
    "========"
   ]
  },
  {
   "cell_type": "code",
   "execution_count": 1,
   "metadata": {},
   "outputs": [],
   "source": [
    "import proveit\n",
    "context = proveit.Context('..') # the theorem's context is in the parent directory"
   ]
  },
  {
   "cell_type": "code",
   "execution_count": 2,
   "metadata": {},
   "outputs": [
    {
     "name": "stdout",
     "output_type": "stream",
     "text": [
      "Beginning proof of notExistsUnfolding\n",
      "Recorded 'presuming' information\n",
      "Presuming previous theorems (applied transitively).\n"
     ]
    },
    {
     "data": {
      "text/html": [
       "<strong id=\"notExistsUnfolding\">notExistsUnfolding:</strong> <a class=\"ProveItLink\" href=\"../__pv_it/9cb5c971cf34ac03bc0051402fdf80833d85cee00/expr.ipynb\"><img src=\"data:image/png;base64,iVBORw0KGgoAAAANSUhEUgAAAZ4AAAAzBAMAAABVp3O4AAAAMFBMVEX///8QEBCIiIhmZma6urrM\n",
       "zMxUVFQiIiJERETc3Nzu7u6qqqp2dnaYmJgyMjIAAAAcRTyBAAAAAXRSTlMAQObYZgAACD5JREFU\n",
       "aN7VmnlsFFUcx3+7O7PH7GzbGBWhUdc2KaSptBERDygLJBLjwRYTwx8kXas0wSguUi0i0qIJFi8W\n",
       "NUIxhKExVVGhahqOgKwUYwSVNcUYEo41Sgwk6lKO0ALie2+u9+bYzrBLqNN0d47fHJ/3fu/3fr/v\n",
       "LEARF06C/8Vy6+WLdof20hsl14hHSMjfBy6fcmRf3rnO5oiYprcC16rBH5G/Pun8wpH5DbZHqtSV\n",
       "8cdDnZ3bOt09xnp35uEUwNEWqyORrLLSUBhPuEz3O19z87LHHTlc5NnzzQvuRW7S7rIb5hsdXFve\n",
       "LA7PxhgzjuYHnQ2gUtScyyUoSbnk2WzLoz5IgTyvsnEh6ZCnEY263VHodztMxKgdj+oohfGEhxie\n",
       "ULtDnlrUmrVpeNF1HCujeYJ09y4tBk+gjuGJRB3yrEL/z8ZCSddx7A+ah6eH3+5UEXiOpRgef9wh\n",
       "z7+oL0+DF7WGUDF/+p68tl1V79VE1Y0+xt/6zU1bGM9iel4VW9ta2xzx8Gh23pqGYAbgM/g1ugxg\n",
       "jr2LpSPPBdRoDEcVnkmteGmro2LmUOE8/Bk2T9gMzvrHe+6HvmrUpD0A++CA9AA8Osk+BEjiEKe5\n",
       "wVY2Hnzdo3MPFM7jK2N5djrkCcpt6UFRQYIOvDrTvn8gSA2TRpZH+E2bL+Dvwnk8CZZnv0Oe0qTG\n",
       "AzCQnwdZR2153v+eipmpgnkaMyzPScyzZ2JV3OQ0lbPn0efJfo/9Dfizw/E0ostFpsyuVOwIT/3f\n",
       "ZDlBmW3IFMxTm2J5kojHKy0IxOAp1rDan20xTD/Y7dAT7PDmoDofT1iqBa8UmZbxpKh4wGShtLMU\n",
       "xLOcrRtCCcTDw18Ac8ewhvGSDL35j+yVYh1wF4K5UIbwCP+C8rElS63M6lmF0tZ1Y6EUnzSZ5hFO\n",
       "MoMyKfOQWHhkWB4rs5sYnuDCUa0L0U0H0dYS4xigp/L6y01y9ZcEoam68ojib634gV/AfphQV9Bl\n",
       "uiu6piDgJpiGTzlO8/gZvxZzMs9+IJ4/HI+FmXCa7R/5+nyON/M0Qjxy35G0Ya+e78wknmW67w7q\n",
       "CSajywpJmifEJu1nZZ61JPEalsfCjB9geUg1t0HMioRnrRR6nXygv9xPkA6PA2N+o8/vW3EDm++r\n",
       "NUAoBy29+fJR9WkaSI0s9gzLY2EWvsDy4Gweug/u2Ud4Gnr40dCQ4kfz5cIzD9VIMI83tpqWUL7b\n",
       "hjywyzz3aJGaS0BNJl+9oHpLA0T2bdq0Zvh4YGEm97DOw+tb2N80+LD8lfQeND4CA5gx133GHSvz\n",
       "8MA5Jb6d7+hY6iC+mc28g9TG2OPUxuzTPaQ4lpftimYR/rHAejuCLjm+xe7oeYVnnsxt67sKj2zG\n",
       "rXr6bnVyEYfy3jxPw1+V5RaFZwYIWYvDdQYexexngO/U9G1oRIlqoxSeAHjpFuQX7YXbEmYexawZ\n",
       "Te9q/M+NKJ6FCo+Y0WWzT/umwDZR8klmHsXsZZAz4pHLE8o+pvn8G+sk2BWtE6FvwqIJPQyPbCYM\n",
       "gnfJyPS3VjV/W/mkmsDOwLt6e98RLcYPMQPuYs1+LcMYtIlVRFvsdKcthlxFDRQyI3/GlMhpiAfw\n",
       "FZq35QSWxIVe8fO5VjzYDEQqdHjP2swlRFtsdqQtqtIifOyK3o8itxgjX9pyo8qDCyaSwAqEoRfS\n",
       "fVY8pK4K0iU7VW4z2uBe7Z6OpUU44U64yhIeJjCfVnkiuCFxAssv7uh4BfGsD1jxELNSKuUJnwFr\n",
       "rcUNjyItRurcDZY9hAcoaUi4yNQ/JIFNyP3DzcY1i2X900g9JH/JMld2x6NIiwGX0u9GmWejOR+l\n",
       "E9hv8SrKsg7b1XPef+4x9rByfvIKeWRpEda4DGYlMcJTEjNkxw1MAhtE3sQtQ+PMWX26jIoNdVfI\n",
       "I0uLgIKrUBmF1fliSNcdEFILX1TbYh5Rv60cbQ319jg0fpzX21Op1D8DrLbY2trmhEeRFuEt9EBc\n",
       "GUo9ePtSLD0NvOoUHskSnogeEPy5gvWDY3prYq2GiJZL3fWPIi3CSwAf+LLQwU+wFbVDPfW6FhdO\n",
       "Ep6wbu1pL1yv0oOdR3Xk993xKNIiXA8geaIwgEUFW2XxOl2L43OEh9dTrg3RYuqJV8qjSIuYB2ZJ\n",
       "/Nk8PMANES3OhqcIeqIvx/ibiYergoBpgE9P0GqJIi1if4N68Jbl40H+eBv0/1JRJ2tDmIeyfq1w\n",
       "vZc7Y44HNI9YKjWA30CUHuLLTNIijgewAoKJfDzo6Ao4eDOMtowHRdDjYZEeLdXAyVM862bCOP4b\n",
       "lif0YdLbbpIW8YsduAtmZQiPJiiy8qIvwV0KdSUBDzlfmvD4tCraW4T3JVSA49j5tARFuoUSTEZp\n",
       "lNHjfGl/1CQtEgGuu2JqilwI64hEUNTlRSw2Ck2Vg+CPcrh7S+LyfBo3jOXCeDzpPPkOWlrQmUae\n",
       "QMwT799lzEDkfKdeaZgdFjK2MoI8cV8aQXwk5zsfaQZFed9IvQ/ut+J5nsthHkVYlD8C8VnwZbvx\n",
       "lyQoH/VnhTPKjJI23QlXZAtgSww2QODBuEU++jsUgUe9CrAvmzWe+8dlMQ9fToRF/FEOXNPb4I/P\n",
       "MUtrgUwwCqFJ56KUjqjnOqTUR8nL/eD90aJeCI8pCs/quHU9p+xLobCH/S2s9yh8gmJZAG6PGa70\n",
       "MXAVE+10RFnzml4Zp1sP8eiNWKTfU1D5xnqztuhPPwJ87X1A1cXb4WkuC92wM1NQvX0IBTRUbx/S\n",
       "djwBReFBMTbPwh1OGxXFDDz8w1XQQiLtrnjsfy/mj44Ibcfl78Xy/J7vzpGAIygS9IHLp/4DWut0\n",
       "QueSlUEAAAAASUVORK5CYII=\n",
       "\" style=\"display:inline;vertical-align:middle;\" /></a><br>(see <a class=\"ProveItLink\" href=\"../__pv_it/9cb5c971cf34ac03bc0051402fdf80833d85cee00/dependencies.ipynb\">dependencies</a>)<br>"
      ],
      "text/plain": [
       "notExistsUnfolding: forall_{n in NaturalsPos} [forall_{P} ([notexists_{x_{1}, ..x_{_a}.., x_{n}} P(x_{1}, ..x_{_a}.., x_{n})] =>  \\\\ [not](exists_{y_{1}, ..y_{_a}.., y_{n}} P(y_{1}, ..y_{_a}.., y_{n})))]"
      ]
     },
     "execution_count": 2,
     "metadata": {},
     "output_type": "execute_result"
    }
   ],
   "source": [
    "%proving notExistsUnfolding presuming []"
   ]
  },
  {
   "cell_type": "code",
   "execution_count": null,
   "metadata": {},
   "outputs": [],
   "source": []
  }
 ],
 "metadata": {
  "kernelspec": {
   "display_name": "Python 3",
   "language": "python",
   "name": "python3"
  }
 },
 "nbformat": 4,
 "nbformat_minor": 0
}
