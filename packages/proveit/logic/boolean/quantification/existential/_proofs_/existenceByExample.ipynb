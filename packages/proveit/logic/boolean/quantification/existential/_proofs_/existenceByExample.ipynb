{
 "cells": [
  {
   "cell_type": "markdown",
   "metadata": {},
   "source": [
    "Proof of <a class=\"ProveItLink\" href=\"../../../../../_context_.ipynb\">proveit</a>.<a class=\"ProveItLink\" href=\"../../../../_context_.ipynb\">logic</a>.<a class=\"ProveItLink\" href=\"../../../_context_.ipynb\">boolean</a>.<a class=\"ProveItLink\" href=\"../../_context_.ipynb\">quantification</a>.<a class=\"ProveItLink\" href=\"../_context_.ipynb\">existential</a>.<a href=\"../_theorems_.ipynb#existenceByExample\" class=\"ProveItLink\">existenceByExample</a> theorem\n",
    "========\n",
    "*** see <a href=\"../__pv_it/bc2bd06df4a38a6f1f0897e25770909436175d1b0/dependencies.ipynb\" class=\"ProveItLink\">dependencies</a> ***"
   ]
  },
  {
   "cell_type": "code",
   "execution_count": 1,
   "metadata": {},
   "outputs": [
    {
     "name": "stdout",
     "output_type": "stream",
     "text": [
      "Beginning proof of existenceByExample\n",
      "Recorded 'presuming' information\n",
      "Presuming previous theorem (applied transitively).\n"
     ]
    },
    {
     "data": {
      "text/html": [
       "<strong id=\"existenceByExample\">existenceByExample:</strong> <a class=\"ProveItLink\" href=\"../__pv_it/29138514fc5aa41f46d88647faac99eed61456510/expr.ipynb\"><img src=\"data:image/png;base64,iVBORw0KGgoAAAANSUhEUgAAAesAAAAyBAMAAACOm+7BAAAAMFBMVEX///8QEBCIiIhmZma6urrM\n",
       "zMxUVFQiIiJERETc3Nzu7u6qqqp2dnaYmJgyMjIAAAAcRTyBAAAAAXRSTlMAQObYZgAAB8VJREFU\n",
       "aN7VmntsFEUYwL+72729u+71GlMMSIwHTQohQC+ikihggQQ0RrliYvyDhLORJhgCp0ULqFAggaJB\n",
       "zkekxSArMVWqtoemQYiEta3/8LCXgPERHpcof6hRK0VCi1BnZp9zuze3e2lcnaR7251vdvc3j2++\n",
       "xwKULr6xMdnu+l1jf4PLMgCelE71d3DsTwBxbKzKSSPf0Q7J7vrkjn0uHy/K3mBzeeX3UMdhgEjH\n",
       "O86wk/bXJ7h+fG1pkf2ubnjUodxF7aQBH/h/F7ui+OOi6643rb0fDUWrqzsGM87kQrKH2O/VF6+L\n",
       "oXm4VYLKjKs7RvIO5ao9xN7OqFuJxuNEHM66vGWfQ7nD3mFXjDIq69BMqJNho9sJZJzuYskJsmfY\n",
       "QoJRuQf9rasPp13es9JYN08yu3zEM+xLrHV7CyA8DH7UMwfvhvAdrPuYBUSjK6OsXoVmz7A3MOp4\n",
       "ZPkckSGUA5AXgn+INXaKgMqKdVqghZRhZp9LHmHzVxmV/mun+2egdZCFcHYBhFofn1tUVBHQJq9p\n",
       "VVT8ynhAT9wj7ADrYSFF3fnqIQK3QSwOS4tvRoqA2pdDppruaoYSyHuE7UsxKmNpDRu4UViZZGCr\n",
       "Albs8BqG8vCPeIS9MseqVPQRmuQQyMMUYGETgbPfTMVNONxdgd+VwlKZ4ZseYddlSmzbeK6jrgml\n",
       "YAcTmwicuxMmaSqN9jeKlNs9wt7KqvxD0vejQIq7qWD3IJDILfXE+A8LhA+mAauDgOHTdUvMx++k\n",
       "sEkXXSiFXUk2i5wF20FrvUxk1C0Ya1RGDM3ZSGPNiIItbEKHF/BJSju0SKpAMM7hMas0hmQV+/GD\n",
       "FPYp/PtLKWwxix8hWbAdtNYV8LATqY3q4lUm+TGrtSWpAr5kQEbIHxhVJZyYS0kzdjte7q2lsIlE\n",
       "u3WSO2itb9tXnEghV2Qt9KCFfoQYJtZABagCB0B4JOncFUFKM27GxkNIxpK9tvGInrJiO2itj9MN\n",
       "R45xBl6GbQBvbkGzPhK3GqbojwgsAf8Z544nVg0JM3b0ZFfX3tIq7XxX16G0FdtBa91k/svRUmiF\n",
       "RTXaeo1a67F6MQRwLzktsRSlya+3tb1UGjvW1rZTttHkpVsX2AvjG1T63rlorJXCXmXvqco0djBJ\n",
       "evaha/07JDP2qhJ+rmlVjoKnxZensBfbL5AEjc0loBtPuyoQ02bsxY6XV8Br7DSFLYDfvB/zzQMw\n",
       "JWXBhjTMwiG7lOHzEeyC1qxo35C32EIVhS3mBL3qo/758LkoBSQr9hnAvSXkDJ+PYJtb/6+ww/kn\n",
       "dGX76j4JjscTIvTPaZ6TpbDf5bEm7MnANGptk9ZcLQgWy3BRCjb9lya5QE9y2PU0Ap6/vAYvVFR6\n",
       "e98QrWsbQm9jZ2FZ3+ksbZPj1mJMaoBgAbg8Slv8okmTz74c7kDF3XuHc67EK5AGvri+qEqDz1A3\n",
       "RBfmfBnFwu4VP1lhg11Bwh1fW1wR3HrfUpjOf0ljh99P+ynzzW/atwcg0NTU9JTkaL9XEwfwocvh\n",
       "XQ1Uzs1H79skUrFvGsSkCEHtBbnfBhuIbbndgk3iHPOg0TLNA3KQMrKiV83YZLU7szXUxAH87BK7\n",
       "m8aOJWjsKH7fRlgI/Ia2tm0Ie79gh/0DPtywYJPW69F5IbZQ70uePX7emHTlYquJA3Zg1M5QiFPY\n",
       "PbKNvz0B5vGQUkabW45+knb+Nj9i728/zw1h7PAr0C5pByG5DD5tNfQ8f7NMbDVxIGRcYkeqKGza\n",
       "FVFX4hCs74Wv8Ok5ZIAXCzPMHs7YYi+ZnsfY/GRoyPCT8GEycI2vIdvOFPcdLhNbSRzAXte6+ycK\n",
       "+0TWis2lYCbaklENt7kegi6jK5FMKEcmeYUxpeEQ7EbGzKx6/dLmMrGVxAHUYP+r9q2ZceYIT129\n",
       "SPdF+ynswUzRoNJ0tLbLCCoF5ceAr3vAnG4+Cmu4PHTCF8au86AZW2xpadniCFtNHKBOhIgcfU7I\n",
       "A1/cwf8Yvo3r3XuRwl437rE07rxsuIXa2aOnC8MbUlmjrSYO4EWkpCRxlMvwc4onyk7CoPSw9s8R\n",
       "CnuiVwHjbFnYauIAqnFigFjGXHFsCdpMDzRjh694hG1KD7jBVhMHUK1bCRwrLXqlCLZn6YHAkBW7\n",
       "795a683pi2riAE9yULIhLGwe24Jq6mCpGTuU9gibu2rB9ktrhXp4pmAxk4vUto3Lbhw2rUO1LOxj\n",
       "yC2eoaUOKJWmZs08SPQ2W7B5+A1gRUEym1w0ipo4wNvRsuweHHTC2PaZA+5GaCic01IH88zYdZJX\n",
       "2IYqH4BKtIE9i/7HK25ToaDZFtQSB3jKdk49OD+nYNtnDiKNM2ougJY6uGzGVnJBXmD7ZHq08QsM\n",
       "8VZsfNFszas2vq4AySQvljlQXhinDiJp04M8/IjD+GRHe5sDYl4k2IYp3y6Ri2ZrXvXgdFeEpPJl\n",
       "q+uhnympA8oVqUx4hg0/FmJ3nus7SbAbsoopjw5ZcpGy5pWiRWjDc6/Fi2UOVBeBpA4ox/Ow5B32\n",
       "68nCSU4KnuSGKaOcUda8UqgwQ5HMQWE3aQ/y9HM8/UOTaZdNV5cPZ0kEyIgF4XlgtubLCipF0Y1m\n",
       "a0GlYMJDbLiv6DuyhnEcyndQBva4fVgdjHsTNS3vw+rx+4z+Hm+wO9Vh0z+j/wcxSGRlyRCdSAAA\n",
       "AABJRU5ErkJggg==\n",
       "\" style=\"display:inline;vertical-align:middle;\" /></a><br>(see <a class=\"ProveItLink\" href=\"../__pv_it/29138514fc5aa41f46d88647faac99eed61456510/dependencies.ipynb\">dependencies</a>)<br>"
      ],
      "text/plain": [
       "existenceByExample: forall_{n in NaturalsPos} [forall_{P} [forall_{y_{1}, ..y_{_a}.., y_{n}} (P(y_{1}, ..y_{_a}.., y_{n}) =>  \\\\ [exists_{x_{1}, ..x_{_a}.., x_{n}} P(x_{1}, ..x_{_a}.., x_{n})])]]"
      ]
     },
     "execution_count": 1,
     "metadata": {},
     "output_type": "execute_result"
    }
   ],
   "source": [
    "import proveit\n",
    "%proving existenceByExample presuming []"
   ]
  },
  {
   "cell_type": "code",
   "execution_count": null,
   "metadata": {},
   "outputs": [],
   "source": []
  }
 ],
 "metadata": {
  "kernelspec": {
   "display_name": "Python 3",
   "language": "python",
   "name": "python3"
  }
 },
 "nbformat": 4,
 "nbformat_minor": 0
}
