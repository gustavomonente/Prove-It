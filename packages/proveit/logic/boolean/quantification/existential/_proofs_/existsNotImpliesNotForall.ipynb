{
 "cells": [
  {
   "cell_type": "markdown",
   "metadata": {},
   "source": [
    "Proof of <a class=\"ProveItLink\" href=\"../../../../../_context_.ipynb\">proveit</a>.<a class=\"ProveItLink\" href=\"../../../../_context_.ipynb\">logic</a>.<a class=\"ProveItLink\" href=\"../../../_context_.ipynb\">boolean</a>.<a class=\"ProveItLink\" href=\"../../_context_.ipynb\">quantification</a>.<a class=\"ProveItLink\" href=\"../_context_.ipynb\">existential</a>.<a href=\"../_theorems_.ipynb#existsNotImpliesNotForall\" class=\"ProveItLink\">existsNotImpliesNotForall</a> theorem\n",
    "========\n",
    "*** see <a href=\"../__pv_it/d4bc3a79fce958a589b27184855c0498ae128f210/dependencies.ipynb\" class=\"ProveItLink\">dependencies</a> ***"
   ]
  },
  {
   "cell_type": "code",
   "execution_count": 1,
   "metadata": {},
   "outputs": [
    {
     "name": "stdout",
     "output_type": "stream",
     "text": [
      "Beginning proof of existsNotImpliesNotForall\n",
      "Recorded 'presuming' information\n",
      "Presuming previous theorems (applied transitively).\n"
     ]
    },
    {
     "data": {
      "text/html": [
       "<strong id=\"existsNotImpliesNotForall\">existsNotImpliesNotForall:</strong> <a class=\"ProveItLink\" href=\"../__pv_it/c61383eddad177b8579344f12804afc217d892a40/expr.ipynb\"><img src=\"data:image/png;base64,iVBORw0KGgoAAAANSUhEUgAAAbsAAAAyBAMAAAA3j2iJAAAAMFBMVEX///8QEBCIiIhmZma6urrM\n",
       "zMxUVFQiIiJERETc3Nzu7u6qqqp2dnaYmJgyMjIAAAAcRTyBAAAAAXRSTlMAQObYZgAACFtJREFU\n",
       "aN7VmntsFEUcx393t3t7j722MfgAoznaBAgBegGBRHkcmIBGpQt/GP4woanSBINQpVrESgokUHyx\n",
       "GMMzyNIYEFRoNA1CJJxtjQkvLwE1GoRLkBA1woW2CFegzu7s3s7u7O7t9VZTJpm92d/u3c1n5ze/\n",
       "+c33DqBw8Q0MpOyudcOQK5Fa/MoPDFS4ud93ZLtkc4lPDT08mKdibt/pDk+wvTRKffVfFbajIrr6\n",
       "+nDajcmpREVcLzRaXY1l1AZbIl5Uez+fhCn19fUjXHXuU73508D6+kuSweSqLFGr9dx4zyO8PUkd\n",
       "T/vWwuUPon0XIDTCaHJTDqq127FbpeKtg0HgxRJ6m72NXOC6weSq8HFcux2dqkS8aG4weBwxQ/29\n",
       "qN42mNxFxwpcCbyNxOVmT/C4xGDwthLtUBYg2GswuSu/40rgLSSuHhe9wLsoDgavimiXoyC3O6GY\n",
       "2kZ9NC7uOGKVS2Z3aidduHZb+7z63EvEWwkE3vdNTU233Hzc+0R7UQqizYopkoq9xmWAbbF93+fw\n",
       "c3y1dnIBVwUv0KSUHgI15wEe2wuDGb23tA6hlKB66amJkmLiJT7HiOykBtv3nYAfpKe1k8O4kqEl\n",
       "+pc+0Nc9wAtUDApvmLaUo+Rpk6SZIhCSB46xx5OglRh2XA2R8+CwfPOqB3i+2pLx/iFM5XFnPIDr\n",
       "jnjhpXr8rRZLx1uUpvH4qgWLqRs7J48SDM6p4bE9hGmRUACP7UOHsz9WynFjLq547l3FhVhddqdL\n",
       "x6sWabyxwUwjBI0ZuF9axiXp0ILw/L15U1SqRjc64R31Z2EsnHsEhptCCy5MhnKs0vDWAI0nlKWB\n",
       "/daIx8Lf5GmX1hCgLJc31bRvgl149A6hjkbugnrQzpj+UDacDrc1gPymabgSeAfJLw01qHgK82+F\n",
       "8MqUcGtK6x8y4F1BsRBlj+VoSDnz/smwYMzVY9O1G3HNtLeybXoa43GrkOkNUA+cPBBNEkTqxlah\n",
       "fgbjjDwml3El8Axzgs+qeCfl1z8L4fHt6LXM2OtIDzV6ynwXKDw2y8LZY+ctkjLKpDjnUTr9k/TO\n",
       "BFICRNBtciXwDJ8a61PxtsmzoKUQnnLHNlOnr9N44ewZSMl44Xdgm6Qctkm7+QwPX7ZwFukFZYrK\n",
       "ePQemdeDBnDPCAVSaq1vCE8eEmVsnOeePL4nTU+0n8aLvPLsOEnGYx+G+SI7HB3mt+8913kCgsJC\n",
       "q+TXZApPRe4aoXOztnxrDvhPF9oQaZ6F8GInDhzYWji0nD9wYL8pqGEHMDun4mvokUXzZ/jZcTA+\n",
       "SW9nwcoUo6+nLR7HRiep54YWOW+2tjYXxitvbd1g8hk/ETD8q4noylY/AXCEFA5Q2QvfpD0TI2Ii\n",
       "rhMa7e64qeEttvQW0v9lvKAAIfR5T93oWq/Ncj7n1IO0w1j8D+VRDe9JiGQsrieMeExC8fVYBfCa\n",
       "jwZyMHTLgxoeB37SM9gV3TCylsKDBhiPjkGUaWRVczA7hPFe1fD4NJc3ftY1Hb7mpYBE450GedS4\n",
       "NE7s7x28cOb5/DR5d4cEx+IJHromrZjUbsD7mJWzh0MijJbuBedsyuecG19CYNMXVMnTEJWOjg95\n",
       "eu5BaIsc12s6T+Wpeau9+S69OeFy8b0qLoKi6By7ktSDtFVoga+Q18VmpX0izj87+C9esMCLTpWb\n",
       "Z8iFoc9iOSXyn243+azqNstv1i97HIqVc4OisuIGLXS2B/J48jZyx2golyIKUgekuizw8F5yHdmn\n",
       "XvpTy0QSz0U+S0hKa6Ri5Vw55CM8q8jfk8eLyZOpDmYBu7K1dS3C28VZ4f0qH/rJpMwC7yyQeC7y\n",
       "WV1SguPxouXcTpwvddLgt437vfthGgu1ePSYBcpmzGK/x5LTjb1Df9+bBjwX+ay2M0adrE4VLefu\n",
       "wXh77FNqLdOHxg74Tm6eQwmm3XZ2Qo9odgBjZGgw4LnIZ9WyCdXlyaLl3LKkgleWpDZQ/QY8phbG\n",
       "oSUNPWlmNZqr7nbrqymLP2HAc5HPqgXtxsM9isIbqYrDZsnh1raJENZ+ieITCh5P+TSO6mYxYgya\n",
       "e+7FiJmUJZQ24tnks7QvoalyOKVoLjzajFc7qbmpWXriFMsoeDEqtgSzpWstF6mHzKHhnyortM0Y\n",
       "zyafpUf9xqmusVgx2xnIQKuDmhtun6EnTmjzK+NFqbt9LR4IgVTU8GmTYAvGM+WztiWUy+udki+O\n",
       "1iB7wSwC92FFFKscCh5LpYe7457KuDZ4ZD7ruOw16HJujcT2OemBTA4roo54Xsi4gayVc5J4Sj7L\n",
       "jKKlM5hdC6sIP0jocu4M8Fc44SHnHamJuQx2TvruDVA6HtNrG1pUPCWf5cul+WZlF1I58rurk7rC\n",
       "ux5CtU546Op6Tcy1DS1e/IQCK6h4nMgrtxhPzmd3zIUxZmU3/EmDnwiO1yRd4Z0CNWkHNRcCtcwd\n",
       "TcwNpBS8gFla83vxAxgdOhnjsq7+LDINpXxm9wykgroeNmOgTld491bOFB3UXIjUVd3SxNwyAS/r\n",
       "gnVUKBHPl3JOytR8thGlfGY8LukTdGXXKOfOKKDmotmHxVzYh5Oyfeb7vPnxOZpzTqnV8jqTNSq7\n",
       "6MAJNYSyS8i5wUyk11HNXQaHkqqYa5tSXwIv8LSPIea9aIE3Z0zGqOyiFlP3Aans6vollw7FHdXc\n",
       "t2GtJubabYiiI7zB2yw4bmdVm4gCqlHZjcJ+FCUJZVeXc5nKyc5q7uwqgXyYCC9k3md49bcdOhsi\n",
       "xIjRqhgRTM0zKbuotZTJkMru4MSIX1CMvJKUX4zlRfAGD0XxwoU5nzIpu6j13Kn/TkaKtRSHZ/+H\n",
       "x2B8CKpkxf7h0eHvqo8NPbrIy2qYHRio+BdwtIdjhERN9wAAAABJRU5ErkJggg==\n",
       "\" style=\"display:inline;vertical-align:middle;\" /></a><br>(see <a class=\"ProveItLink\" href=\"../__pv_it/c61383eddad177b8579344f12804afc217d892a40/dependencies.ipynb\">dependencies</a>)<br>"
      ],
      "text/plain": [
       "existsNotImpliesNotForall: forall_{n in NaturalsPos} [forall_{P} ([exists_{x_{1}, ..x_{_a}.., x_{n}} [not](P(x_{1}, ..x_{_a}.., x_{n}))] =>  \\\\ [not](forall_{y_{1}, ..y_{_a}.., y_{n}} P(y_{1}, ..y_{_a}.., y_{n})))]"
      ]
     },
     "execution_count": 1,
     "metadata": {},
     "output_type": "execute_result"
    }
   ],
   "source": [
    "import proveit\n",
    "%proving existsNotImpliesNotForall presuming []"
   ]
  },
  {
   "cell_type": "code",
   "execution_count": null,
   "metadata": {},
   "outputs": [],
   "source": []
  }
 ],
 "metadata": {
  "kernelspec": {
   "display_name": "Python 3",
   "language": "python",
   "name": "python3"
  }
 },
 "nbformat": 4,
 "nbformat_minor": 0
}
