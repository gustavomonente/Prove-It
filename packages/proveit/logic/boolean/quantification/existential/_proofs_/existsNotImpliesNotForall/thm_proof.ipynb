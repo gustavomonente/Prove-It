{
 "cells": [
  {
   "cell_type": "markdown",
   "metadata": {},
   "source": [
    "Proof of <a class=\"ProveItLink\" href=\"../../../../../_theory_.ipynb\">proveit</a>.<a class=\"ProveItLink\" href=\"../../../../_theory_.ipynb\">logic</a>.<a class=\"ProveItLink\" href=\"../../../_theory_.ipynb\">boolean</a>.<a class=\"ProveItLink\" href=\"../../_theory_.ipynb\">quantification</a>.<a class=\"ProveItLink\" href=\"../_theory_.ipynb\">existential</a>.<a href=\"../_theorems_.ipynb#existsNotImpliesNotForall\" class=\"ProveItLink\">existsNotImpliesNotForall</a> theorem\n",
    "========\n",
    "*** see <a href=\"../__pv_it/d4bc3a79fce958a589b27184855c0498ae128f210/dependencies.ipynb\" class=\"ProveItLink\">dependencies</a> ***"
   ]
  },
  {
   "cell_type": "code",
   "execution_count": null,
   "metadata": {},
   "outputs": [],
   "source": [
    "import proveit\n",
    "%proving existsNotImpliesNotForall"
   ]
  },
  {
   "cell_type": "code",
   "execution_count": null,
   "metadata": {},
   "outputs": [],
   "source": []
  }
 ],
 "metadata": {
  "kernelspec": {
   "display_name": "Python 3",
   "language": "python",
   "name": "python3"
  }
 },
 "nbformat": 4,
 "nbformat_minor": 0
}
