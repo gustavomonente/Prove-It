{
 "cells": [
  {
   "cell_type": "markdown",
   "metadata": {},
   "source": [
    "Context: <a href=\"../../../../_context_.ipynb\" class=\"ProveItLink\">proveit</a>.<a href=\"../../../_context_.ipynb\" class=\"ProveItLink\">logic</a>.<a href=\"../../_context_.ipynb\" class=\"ProveItLink\">boolean</a>.<a href=\"../_context_.ipynb\" class=\"ProveItLink\">quantification</a>.existential\n",
    "========\n",
    "\n",
    "Existential quantification is a general expression about *something* (`Exists`: $\\exists$).  \n",
    "The `Exists` **Expression** derives from `proveit._generic_.operation_over_instances.OperationOverInstances`.  As such, it has instance variables (`instanceVars`) with an instance expression (`instanceExpr`) and may be restricted to a `domain` and have zero or more `conditions`.  For example $\\exists_{x, y \\in S~|~Q(x, y),~R(y)} P(x, y)$ means that $P(x, y)$ is `TRUE` for some occurrence of $x$ and $y$ in domain $S$ for which the conditions $Q(x, y)$ and $R(y)$ are satisfied.  The `conditions` may be any **Expression**s involving the instance variables.\n",
    "\n",
    "The negation of the existential quantification is compactly expressed as $\\nexists$, represented by the `NotExists` **Expression** type."
   ]
  },
  {
   "cell_type": "code",
   "execution_count": 1,
   "metadata": {},
   "outputs": [
    {
     "data": {
      "text/html": [
       "<table><tr>\n",
       "<th><a class=\"ProveItLink\" href=\"_common_.ipynb\">common expressions</a></th>\n",
       "<th><a class=\"ProveItLink\" href=\"_axioms_.ipynb\">axioms</a></th>\n",
       "<th><a class=\"ProveItLink\" href=\"_theorems_.ipynb\">theorems</a></th>\n",
       "<th><a class=\"ProveItLink\" href=\"_demonstrations_.ipynb\">demonstrations</a></th>\n",
       "</tr></table>\n"
      ],
      "text/plain": [
       "<IPython.core.display.HTML object>"
      ]
     },
     "metadata": {},
     "output_type": "display_data"
    }
   ],
   "source": [
    "import proveit\n",
    "%context"
   ]
  },
  {
   "cell_type": "code",
   "execution_count": null,
   "metadata": {},
   "outputs": [],
   "source": []
  }
 ],
 "metadata": {
  "kernelspec": {
   "display_name": "Python 3",
   "language": "python",
   "name": "python3"
  }
 },
 "nbformat": 4,
 "nbformat_minor": 0
}
