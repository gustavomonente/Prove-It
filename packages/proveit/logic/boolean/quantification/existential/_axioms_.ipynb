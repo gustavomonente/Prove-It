{
 "cells": [
  {
   "cell_type": "markdown",
   "metadata": {},
   "source": [
    "Axioms for the theory of <a href=\"_theory_.ipynb\" class=\"ProveItLink\">proveit.logic.boolean.quantification.existential</a>\n",
    "========\n",
    "\n",
    "Unlike `Forall`, `Exists` is not fundamentally defined in the core of **Prove-It**.  It must be defined via its relationship with `Forall`."
   ]
  },
  {
   "cell_type": "code",
   "execution_count": null,
   "metadata": {},
   "outputs": [],
   "source": [
    "import proveit\n",
    "# Automation is not needed when building axiom expressions:\n",
    "proveit.defaults.automation = False # This will speed things up.\n",
    "from proveit.logic import TRUE, inBool, Forall, Exists, NotExists, Not, Equals, NotEquals\n",
    "from proveit.number import Naturals, NaturalsPos\n",
    "from proveit._common_ import n, P, Q\n",
    "from proveit.logic.boolean.quantification._common_ import (\n",
    "    general_exists_Px_st_Qx, general_exists_Py_st_Qy, general_forall__Py_not_T__st_Qy, general_notexists_Px_st_Qx)\n",
    "%begin axioms"
   ]
  },
  {
   "cell_type": "markdown",
   "metadata": {},
   "source": [
    "**Defines the $\\exists$ operation generically for any number of instance variables or conditions by equating it to an equivalent expression in terms of $\\forall$**:"
   ]
  },
  {
   "cell_type": "code",
   "execution_count": null,
   "metadata": {},
   "outputs": [],
   "source": [
    "existsDef = Forall(n, Forall((P, Q), \n",
    "                             Equals(general_exists_Px_st_Qx, \n",
    "                                    Not(general_forall__Py_not_T__st_Qy)).withWrapAfterOperator()),\n",
    "                  domain=NaturalsPos)"
   ]
  },
  {
   "cell_type": "markdown",
   "metadata": {},
   "source": [
    "The equivalent expression to saying \"there exists an instance of $x_1, \\ldots, x_l$ variables for which the set of $Q_{1}, \\ldots, Q_{k}$ conditions are satisfied such that $P(x_1, \\ldots, x_l)$ is true\" is to say that the following is *not* true: \"for all occurrences of $x_1, \\ldots, x_l$ for which the set of $Q_{1}, \\ldots, Q_{k}$ conditions are satisfied,$P(x_1, \\ldots, x_l)$ is not equal to `TRUE`\".  That is, \"there exists appropriately constrained operands of $P$ for which the $P$ operation is true\" means that \"it is *not* the case that all appropriately constrained operands of $P$ cause the $P$ operation to *not* evaluate to true\".  This is expressed in a way that does not assume that the $P$ operation returns a Boolean, exploiting the fact that `Equals` ($=$) is defined to always evaluate to a Boolean and therefore `NotEquals` ($\\neq$) as well.  Existence in this theory means that the $P$ operation evaluates to true for some instance of appropriately constrained operands but it does not mean that the $P$ operation always evaluates to a Boolean under this constraint."
   ]
  },
  {
   "cell_type": "markdown",
   "metadata": {},
   "source": [
    "**Defines the $\\nexists$ operation generically for any number of instance variables or conditions by equating it to the negation of the corresponding $\\exists$ operation**:"
   ]
  },
  {
   "cell_type": "code",
   "execution_count": null,
   "metadata": {},
   "outputs": [],
   "source": [
    "notExistsDef = Forall(n, Forall((P, Q), \n",
    "                                Equals(general_notexists_Px_st_Qx, \n",
    "                                       Not(general_exists_Py_st_Qy)).withWrapAfterOperator()),\n",
    "                      domain=NaturalsPos)"
   ]
  },
  {
   "cell_type": "code",
   "execution_count": null,
   "metadata": {},
   "outputs": [],
   "source": [
    "%end axioms"
   ]
  },
  {
   "cell_type": "code",
   "execution_count": null,
   "metadata": {},
   "outputs": [],
   "source": []
  }
 ],
 "metadata": {
  "kernelspec": {
   "display_name": "Python 3",
   "language": "python",
   "name": "python3"
  }
 },
 "nbformat": 4,
 "nbformat_minor": 0
}
