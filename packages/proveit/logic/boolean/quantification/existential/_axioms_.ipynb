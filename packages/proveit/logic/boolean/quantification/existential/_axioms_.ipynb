{
 "cells": [
  {
   "cell_type": "markdown",
   "metadata": {},
   "source": [
    "Axioms for context <a href=\"_context_.ipynb\" class=\"ProveItLink\">proveit.logic.boolean.quantification.existential</a>\n",
    "========\n",
    "\n",
    "Unlike `Forall`, `Exists` is not fundamentally defined in the core of **Prove-It**.  It must be defined via its relationship with `Forall`."
   ]
  },
  {
   "cell_type": "code",
   "execution_count": 1,
   "metadata": {},
   "outputs": [
    {
     "name": "stdout",
     "output_type": "stream",
     "text": [
      "Defining axioms for context 'proveit.logic.boolean.quantification.existential'\n",
      "Subsequent end-of-cell assignments will define axioms\n",
      "%end_axioms will finalize the definitions\n"
     ]
    }
   ],
   "source": [
    "import proveit\n",
    "# Automation is not needed when building axiom expressions:\n",
    "proveit.defaults.automation = False # This will speed things up.\n",
    "from proveit.logic import TRUE, inBool, Forall, Exists, NotExists, Not, Equals, NotEquals\n",
    "from proveit.number import Naturals, NaturalsPos\n",
    "from proveit._common_ import n, P\n",
    "from proveit.logic.boolean.quantification._common_ import (\n",
    "    general_exists_Px, general_exists_Py, general_forall__Py_not_T, general_notexists_Px)\n",
    "%begin axioms"
   ]
  },
  {
   "cell_type": "markdown",
   "metadata": {},
   "source": [
    "**Defines the $\\exists$ operation generically for any number of instance variables or conditions by equating it to an equivalent expression in terms of $\\forall$**:"
   ]
  },
  {
   "cell_type": "code",
   "execution_count": 2,
   "metadata": {},
   "outputs": [
    {
     "data": {
      "text/html": [
       "<strong id=\"existsDef\">existsDef:</strong> <a class=\"ProveItLink\" href=\"__pv_it/bdfa5485aa24679792b264ad7932ef7e6ea103cb0/expr.ipynb\"><img src=\"data:image/png;base64,iVBORw0KGgoAAAANSUhEUgAAAeMAAAAyCAMAAABYvEM0AAAAOVBMVEX///8kJCQNDQ0oKCgQEBCI\n",
       "iIhmZma6urrMzMxUVFQiIiJERETc3Nzu7u6qqqp2dnaYmJgyMjIAAAD9T1yxAAAAAXRSTlMAQObY\n",
       "ZgAAB69JREFUeNrtnIuWoygQht0duV/l/R92RTGCcouB6JkN50xPd4Jg+KiiKP44DG3KaOai3r5M\n",
       "oeFX2hVBDsNrqYytWh8l51y8jVj9uDQtaAqZz1BkO8b4wkWAXOkKTBMe+FZ6jhjXXYHI9eb1RNt5\n",
       "Mz0dX8G3Mr44wxb/DslaRtFuzDUxhs1tTnBtVLDOVkd4+xWLqScxFiO6zvg4TG2KWa2ArTNn4p0Z\n",
       "i6k949Oo3sqYweFhjLGLGqUB1qzh0Lso0D7yPHrHOxlLI57GGBjk/resKe/OWIwddhdUPYYxvWom\n",
       "/Rgz4xq1rDn9Qhw8ofaMpeEPYawNfxxjtxxzY6cfcHNQAEA4As6tXrTXVBsKdsgShNZzI2N6OWhd\n",
       "RkTRtZiGjN1yLFdnx9aNk5j/0BQMdOGPL9112MZ5q7MzVpNXrjo6HayC9zHGBg1Ps2NgiFIKgnWE\n",
       "qFx7EzZdJAY0d4QhvOTA/TYOfpV2sGNhwCMYw+s9d2PMgvnv9iD2JfayXnSJcdhGONU7MB6m6RGM\n",
       "R/I8xiYA6O0zd7tAlwMxA77HGPgr2G2MsdENGSsAMSA1d5CriU2wADpfvbyBP2b8akNDjcEWz7n2\n",
       "EuvxZTPg/ujexhh8ECudGM8LKJmGJelL8ntur2Z6d7x57nWcpJjfWC+9zNhvQ6Nxbnjk8ZirFQ3y\n",
       "AMbsg45PjOeupwUIVoX09atmdBULkzLrtgYZuWyb3fHExli4bVbVL34bXADbxNYVVF0YMxow3pdn\n",
       "rT9mXN3YyD5kPLm9k4O6uQVazJ2lHAicjCH+mrniFAQAAeD2cV52TLee6GYykV9cnbAN2wnapviE\n",
       "uzBWJmCsXsvOJD5mXNuYMLCRHe+hC65i7GpqKLUuHF7Hcpm7r5YVoxWtY0dqNt/ldgUdujDWewRh\n",
       "GfPNovhHJ2kr49rGsAHtGHMzhyrzyztjzkT0x15TgvkGC2tr7ExCvq6pUTeoaDxkbxPJ1SZAH8b+\n",
       "+Nr1eLO43QY/WI8rG5NGtmMsiEYKKLEzxqO0P3j4Q/o159i6mLNiR0PmkG7+XFRM0mgdZD05UIvf\n",
       "7nG2ePKTlrFWwpYPU/COcWVjvi9p4at3/+rmWGwKBa/NNwh0YWhzGoGa2KVYh/FOjAdDwrjaMFuo\n",
       "asG4srFPtk4DoFNihmBg4EJSRpoPXrPiNqlKEDprffR6R6Cl1mdjzELGa0qAVY66yjMOGkPMEAXZ\n",
       "edOqjOg7ehct768p4xQyRtBbGooF5hmHjellj6BOnht2Zvy/LyM95EDs3yA5zTGFdr0ALndSYBw2\n",
       "RsjqmY+1iflh6FroeGBs16VIkCSkgnB+S7LlcMyJFUuMg8boAvt85PJj/G3GfBrwOf+tmeTCcpUa\n",
       "WLLKpvcgpPM/mWHsNyaW0AqcExM/X92b8dFXzyESQW7b/zoUQS+DlVhiDrZgq2THe2M2UTvvRmNb\n",
       "ZZWOq+Ox7KKb71WS4XPfuFqmxkCJ0jVOdp9s4RRzzXU3eYN3KLJXknjuVeNaxnLXSqgpuXfC7+1J\n",
       "bUTQKLOe7vLbGvrE2Tf3Rg1Sr5DhKLtPnp6P5Mh4O8D2DkUE9BnPRqxgJWPvNDypoNZJpU9Ct24/\n",
       "UqPMeq7L72roE3sZchobCU7XrIyTu6FDnmsZ823QXocimC7JDAZWxrPXorWMX40NyYylTDFO6dbt\n",
       "R2qUWc90+W0NfVTrGfl0HuNDijuhFhXeV0hP58f7oQgJ7HhA2LWGi4y9IUsZQlIGktKtr+eJTTLr\n",
       "mS6/raEXsVP0iErFZxzK7sWYGF+QZOwdiqhXV2tat3ASF2EMJgN52ZcE/afy3MtHapNZz3T5dQ39\n",
       "hGrMOGB8kN1PKO4nZZKxfyjCXDVE13bIu4yzxhNfSADMMW6TWc902UtDX5DQB4XhAuNQdq+iI+bv\n",
       "W7JaH+DW47rk2XuMYTwJwnSW8XuZ9briddlLQ1+S0Ls9yFL+/BtRzweMQwmYjhoLCXUgjcqbjHU8\n",
       "CeK0kN6OQfmM38usV3oU6S3HfTT0JQl9yYxDxqHsXkZvyJdS3ai9jcZNp28kc+IzLmTWr9048pbj\n",
       "Phr6koTefyG6IgaMQ0k2jjlE7stsnqahLzFOZNYbMe6poc9J6H0z5i0YP0NDn1iQqcwz9pLhbXTz\n",
       "oVS+n4Y+K6Hf1+N/xqh6Xp71ohvj6A350tsbGaNoFuQUcx0Y78nwRrp5v8tuGvqShL6Y5Xs35nrI\n",
       "d9riXzE/7wRwyPiVDG+km/e7fENDnxHMn18qSuj3iZ/YOgaMQ9k9VDFX/YzvpsYja5TNgRym6Oe6\n",
       "eb/L9zT0GQn9SUNflNDvZpz4JMifo6HsPnYcF8Y6dz4rYlTv5jKXqSH82KOFbj6Zssxq6Gsk9NFK\n",
       "EQn9q3pNgjyU3QsaS3I95VkR8We+5M4kwt1BM9188ughq6GvyrWp2LZmOEnoS2Z8iCCDjUYkXD9k\n",
       "UG59dlP0WQiMVzFuqZtP5s0yGvoaCX20UkxCv82fmnlTPluUh/jkVsY8dk1GI5CM3j7UzSelABmN\n",
       "QFUeplTpMIeqzDiU3Uem57OewRbPwyW0Pj118zdpffThhlH9NU52ryMfmRy9472MB0haDtlVc/ur\n",
       "ij75Hnzzs40JGH6lZen7bONrzyiHv2eUtyzikPNbn1H+H0XmaWU55VQUAAAAAElFTkSuQmCC\n",
       "\" style=\"display:inline;vertical-align:middle;\" /></a><br>"
      ],
      "text/plain": [
       "existsDef: forall_{n in NaturalsPos} [forall_{P} ([exists_{x_{1}, ..x_{_a}.., x_{n}} P(x_{1}, ..x_{_a}.., x_{n})] =  \\\\ [not](forall_{x_{1}, ..x_{_a}.., x_{n}} (P(x_{1}, ..x_{_a}.., x_{n}) != TRUE)))]"
      ]
     },
     "execution_count": 2,
     "metadata": {},
     "output_type": "execute_result"
    }
   ],
   "source": [
    "existsDef = Forall(n, Forall(P, \n",
    "                             Equals(general_exists_Px, Not(general_forall__Py_not_T)).withWrapAfterOperator()),\n",
    "                  domain=NaturalsPos)"
   ]
  },
  {
   "cell_type": "markdown",
   "metadata": {},
   "source": [
    "The equivalent expression to saying \"there exists an instance of $x_1, \\ldots, x_l$ variables for which the set of $Q_{1}, \\ldots, Q_{k}$ conditions are satisfied such that $P(x_1, \\ldots, x_l)$ is true\" is to say that the following is *not* true: \"for all occurrences of $x_1, \\ldots, x_l$ for which the set of $Q_{1}, \\ldots, Q_{k}$ conditions are satisfied,$P(x_1, \\ldots, x_l)$ is not equal to `TRUE`\".  That is, \"there exists appropriately constrained operands of $P$ for which the $P$ operation is true\" means that \"it is *not* the case that all appropriately constrained operands of $P$ cause the $P$ operation to *not* evaluate to true\".  This is expressed in a way that does not assume that the $P$ operation returns a Boolean, exploiting the fact that `Equals` ($=$) is defined to always evaluate to a Boolean and therefore `NotEquals` ($\\neq$) as well.  Existence in this context means that the $P$ operation evaluates to true for some instance of appropriately constrained operands but it does not mean that the $P$ operation always evaluates to a Boolean under this constraint."
   ]
  },
  {
   "cell_type": "markdown",
   "metadata": {},
   "source": [
    "**Defines the $\\nexists$ operation generically for any number of instance variables or conditions by equating it to the negation of the corresponding $\\exists$ operation**:"
   ]
  },
  {
   "cell_type": "code",
   "execution_count": 3,
   "metadata": {},
   "outputs": [
    {
     "data": {
      "text/html": [
       "<strong id=\"notExistsDef\">notExistsDef:</strong> <a class=\"ProveItLink\" href=\"__pv_it/7ec466137b81c3b38c0d061a6cc7f0cccc278efb0/expr.ipynb\"><img src=\"data:image/png;base64,iVBORw0KGgoAAAANSUhEUgAAAZ4AAAAzBAMAAABVp3O4AAAAMFBMVEX///8QEBCIiIhmZma6urrM\n",
       "zMxUVFQiIiJERETc3Nzu7u6qqqp2dnaYmJgyMjIAAAAcRTyBAAAAAXRSTlMAQObYZgAAB+RJREFU\n",
       "aN7VmntsU1Ucx39t7+3zdluMiEDUuiVACLJGRHzAKJhAjBE6TIx/kKxOXYIh0IVpEXEbmODwRdFE\n",
       "2AzZhRgQVKiahUcg1A1jAig1wxgSHk0QjSZC2YOw8Zjn3HNu77u9l1vCPMl6b8/9db2fc37nd36/\n",
       "7y1AKRvDw/+hPTRyw+jSUcW7srvD44+R48mRK6bsJ7R3GFzh0oq3nrs04AvJYVf7t6bMxxhemZg/\n",
       "m3bR196+v93afWy1Zh5IApxr0rkQzNKTWns8gQqZ47kaGppfNuVwwRXXGpY/hfyk1eI8LNV4OG0f\n",
       "loZnW0S5kJZ6zS2gcjSea3koS1rk2WPEI96ITZ53VYEhbpKnDi27IyHotbpOuJABj+go9ngCw0oe\n",
       "X6tJnmo0nNVpeMtyIKsw4IE1peDxhJU8wZBJno3ob0XEF7ccyP4w4jmSLAHP+aSSxx01yXMLzWU/\n",
       "ONFw+CuXzusuPCdyix4jHjq09nhWKTZWLtGSaDHFw6LteV8avBmAr+H3UDPAS8bG1IK0c5Tnl0u4\n",
       "XZCFzGH7POyAKlHYA+bmx3n1RM8UNKYpgGNwkn8WXphpbEwsaNtnND/+Pvs8rgoVzyGTPF4ymA4U\n",
       "FXhow6cLjI2pBQ2MRjxwyT6PI6biOW6Spzye5wHoK8JDLYrxVCdt89RlVDz/YJ7uGROjGlNlZx1Z\n",
       "vNjfgB0sxiNY9P5WGSZ2svXzp8yqM2Obpzqp4okjHie/3BOB11ULRuhUbD/Y7dAtHHTmYEpBHmJx\n",
       "6gEYJ4sHRs5ii2etqnDwxRAPC/8CLBmvGmLcKbXLxCu5MDDXvTlfhvDsRUmQ/5b6hFj4tscBL7pZ\n",
       "hjzeOOERMtOzRXn0zO5X8ngbxyYa0Z0OoXer1f9iSHZeM1JPqr84+OunVJ2l/ubBH3oTn8TEE9RD\n",
       "LdwhBkefi4Y8XI7wHAfB8Yvx6Jj5+1Xz4xaWCJtjtTy4s/fwGVWvlO8I/nZQ62uSO0Vd6Sj444Y8\n",
       "wUHCs0XIu4ry6JixfSoeoZrr5LKcwLOF970vvgid37Wqyz0pH92HX9KaL5Z6OsHzXNQ4HxXvplYo\n",
       "kblUUR4ds8B1FQ/O5mHHqe5jAk9tih0HtUn8khI63VF1FuAVA8qnLcgD/SHNJin1zAfnzwXqBdFb\n",
       "aiF4bPfuzcXjgY4ZmWEZDyu9w/4m0adoMf5IRHUPigkPan1I3bHBmAeu0vh2ra1tjYn4pjVzytc4\n",
       "TLooe7O4PyUUx1KZjGcODmXs1dtB9I+mNRlcvEZ5XiPYxq5LeIgZs3HZE+Lewg0X/vICA38n2oOU\n",
       "5xnwZ3Uuh1U81OxXgJ/E9G14VIlqYymPB5xyN2BXHoWHY1oeataAdnfa686NKp5GysNlpDD6Vc9s\n",
       "2M/xLl7LQ83egXy6O0p5fNkX847+QQcPh0NhDnqmr5yeUvAQM/8QOFePTn9LiPnbhlcRyezFVXiN\n",
       "oNbV9Qmns34EM2BuTD2ezzCGDEKVIC22W5MWfRkr1gfQHf8VwQdtPIDvURIRnJtxJEmS1sV9s0SP\n",
       "B5sBJwsdzkGDrUSQFhtMSYuisghfWqJ3o8DNRYRDvt0n8pSjXbhjEpTzfoGhC9I9ejzYDLyy7qC8\n",
       "3C5TSSOg/LJiyiL8bU23ygo8isDcL/IE8UDWw1xgV7W1rUM8Wz16PIJZuSzlCQzopmLWeKiyGAxb\n",
       "WyzdAg/IlCH/DUX9MwZmsRAj88MsRoeobv1TJ7tJ9qZuqmyNhyqLHovK7zbCs02bj9LlmIOmLvgR\n",
       "n54COGNUzzkvP6meYfr5+G3yEGURNlsMZmURgacsosqORR4mBlMz4EXexDSjdWauPm2WxYbwbfIQ\n",
       "ZRFQcPVXhWBToRiy/VHwiXUvKm0xDyd9LYm2qnp7Mlo/5uvtObLMP6OSFhOJFjM8VFmEj9ANoQK0\n",
       "GljjUiw9F5ziFh7MCjxBKSC4c7b1g/PSaGKpZiaCSKyxNj9UWYS3AT53ZaGNnW6oaftSNeAVaQNx\n",
       "gScgWTta7etVUrBziI78mTUeqizCvQC8IwR9WFMwitFwD9kzSP0u8LBSytUZKqWeeLs8VFnEPLCI\n",
       "ZwcL8AAzDHVRQ54S6ImunMLfNDzMRPBoFvi8mFwsocoi9jeoAWdFIR7kjw+LuiJD/E1m/Z59vZcZ\n",
       "0MYDOQ9XzteCW0WUHmYrNMoijgewHryxQjzo6npRV9TGgxLo8bBSipbhvHIo8XQsgMnsD0oe3xdx\n",
       "Z6tGWcTPdeBxWJQRePJ6olJddMWYm6Ku6EoLPK58Fe0swfMSWYBjlPtpGYp0jTzMQmmU2uNcaXdI\n",
       "oywK+tuOyjlJ4R/lhUVJXUzwWFmsGhJ1xbIo2U+jqrVsj8eRLpDvoNaEPqnm8UQcUa2ySPKdGjow\n",
       "WmExwNMVRHRF2EnynZ15g5I8b5Q9D+7V43mDyWEeSVdEL57oIh1lEeWj7qx/gO4oWmERV2TLYW+E\n",
       "6orafJQ+qrP5vP6CVhqU88yfnMU87ASqKybRGVP/sY6yCBvAk/GGwDfzakhHWITtQqm/TtQVNfVC\n",
       "YHxJeDZF9es52pdEYQ/7W0CaUdiFYplWWUT1HFM5w1jfwuFzXlVUPnqIRxrEEv2eQpZvbNVKi+70\n",
       "QmCrnwZZXXwAljFZPWXRWr19GgU0VG+fzne8AiXhQTG2QGPOpKXRFc+eP3EHtJBgqyUe49+LuUOj\n",
       "Qtux+HuxAr/ne2w04PipBH1y5Mp/wcB1FlhIPZkAAAAASUVORK5CYII=\n",
       "\" style=\"display:inline;vertical-align:middle;\" /></a><br>"
      ],
      "text/plain": [
       "notExistsDef: forall_{n in NaturalsPos} [forall_{P} ([notexists_{x_{1}, ..x_{_a}.., x_{n}} P(x_{1}, ..x_{_a}.., x_{n})] =  \\\\ [not](exists_{y_{1}, ..y_{_a}.., y_{n}} P(y_{1}, ..y_{_a}.., y_{n})))]"
      ]
     },
     "execution_count": 3,
     "metadata": {},
     "output_type": "execute_result"
    }
   ],
   "source": [
    "notExistsDef = Forall(n, Forall(P, \n",
    "                                Equals(general_notexists_Px, Not(general_exists_Py)).withWrapAfterOperator()),\n",
    "                      domain=NaturalsPos)"
   ]
  },
  {
   "cell_type": "code",
   "execution_count": 4,
   "metadata": {},
   "outputs": [
    {
     "name": "stdout",
     "output_type": "stream",
     "text": [
      "Axioms may be imported from autogenerated _axioms_.py\n"
     ]
    }
   ],
   "source": [
    "%end axioms"
   ]
  },
  {
   "cell_type": "code",
   "execution_count": null,
   "metadata": {},
   "outputs": [],
   "source": []
  }
 ],
 "metadata": {
  "kernelspec": {
   "display_name": "Python 3",
   "language": "python",
   "name": "python3"
  }
 },
 "nbformat": 4,
 "nbformat_minor": 0
}
