{
 "cells": [
  {
   "cell_type": "markdown",
   "metadata": {},
   "source": [
    "Theorems (or conjectures) for the theory of <a class=\"ProveItLink\" href=\"_theory_.ipynb\">proveit.logic.boolean.quantification.existential</a>\n",
    "========"
   ]
  },
  {
   "cell_type": "code",
   "execution_count": null,
   "metadata": {},
   "outputs": [],
   "source": [
    "import proveit\n",
    "# Prepare this notebook for defining the theorems of a theory:\n",
    "%theorems_notebook # Keep this at the top following 'import proveit'.\n",
    "from proveit.logic import Forall, Exists, NotExists, Boolean\n",
    "from proveit.logic import Implies, Equals, TRUE, NotEquals, Not, And, inBool, SubsetEq\n",
    "from proveit.numbers import Natural, NaturalPos, one, Less, LessEq, LesserSequence\n",
    "from proveit._common_ import n, A, B, P, Q, R, alpha\n",
    "from proveit.core_expr_types._common_ import (\n",
    "    x_1_to_n, y_1_to_n, Q__x_1_to_n, Q__y_1_to_n, P__x_1_to_n, P__y_1_to_n)\n",
    "from proveit.logic.boolean.quantification._common_ import (\n",
    "    general_forall_Px, general_forall_Py, general_forall__Py_not_T, general_forall__Py_not_T__st_Qy,\n",
    "    general_forall_st_Qx__Px_implies_Rx, \n",
    "    general_exists_Px, general_exists_Py, general_exists_Px_st_Qx, general_exists_Py_st_Qy, general_exists_Rz_st_Qz,\n",
    "    general_exists_in_A_Px, general_exists_in_B_Py, \n",
    "    general_exists_notPx, general_notexists_Px, general_notexists_Py, general_notexists_notPy)\n",
    "%begin theorems"
   ]
  },
  {
   "cell_type": "markdown",
   "metadata": {},
   "source": [
    "**By our definition for $\\exists$, such an expression is always a Boolean (it acquires this property from $\\forall$):**"
   ]
  },
  {
   "cell_type": "code",
   "execution_count": null,
   "metadata": {},
   "outputs": [],
   "source": [
    "existsInBool = Forall(n, Forall(P, inBool(general_exists_Px)),\n",
    "                      domain=NaturalPos)"
   ]
  },
  {
   "cell_type": "code",
   "execution_count": null,
   "metadata": {},
   "outputs": [],
   "source": [
    "existsWithConditionsInBool = Forall(n, Forall((P, Q), inBool(general_exists_Py_st_Qy)),\n",
    "                      domain=NaturalPos)"
   ]
  },
  {
   "cell_type": "markdown",
   "metadata": {},
   "source": [
    "**Fold and unfold the definition:**"
   ]
  },
  {
   "cell_type": "code",
   "execution_count": null,
   "metadata": {},
   "outputs": [],
   "source": [
    "existsUnfolding = Forall(n, Forall((P, Q), \n",
    "                                   Implies(general_exists_Px_st_Qx,\n",
    "                                           Not(general_forall__Py_not_T__st_Qy)).withWrapAfterOperator()),\n",
    "                  domain=NaturalPos)"
   ]
  },
  {
   "cell_type": "code",
   "execution_count": null,
   "metadata": {},
   "outputs": [],
   "source": [
    "existsFolding = Forall(n, Forall((P, Q), general_exists_Px_st_Qx ,\n",
    "                                 condition=Not(general_forall__Py_not_T__st_Qy)),\n",
    "                       domain=NaturalPos)"
   ]
  },
  {
   "cell_type": "markdown",
   "metadata": {},
   "source": [
    "**Providing a legitimate example is one way to prove that something exists:**"
   ]
  },
  {
   "cell_type": "code",
   "execution_count": null,
   "metadata": {},
   "outputs": [],
   "source": [
    "existenceByExample = Forall(n, Forall(P,\n",
    "                                    Forall(y_1_to_n,\n",
    "                                           Implies(P__y_1_to_n, general_exists_Px).withWrapAfterOperator())),\n",
    "                            domain=NaturalPos)"
   ]
  },
  {
   "cell_type": "markdown",
   "metadata": {},
   "source": [
    "**If the negation of some instance exists, then it cannot always be true:**"
   ]
  },
  {
   "cell_type": "code",
   "execution_count": null,
   "metadata": {},
   "outputs": [],
   "source": [
    "existsNotImpliesNotForall = Forall(n, Forall(P, \n",
    "                                             Implies(general_exists_notPx, \n",
    "                                                     Not(general_forall_Py)).withWrapAfterOperator()),\n",
    "                                   domain=NaturalPos)"
   ]
  },
  {
   "cell_type": "markdown",
   "metadata": {},
   "source": [
    "**Negating both sides of existsDef:**"
   ]
  },
  {
   "cell_type": "code",
   "execution_count": null,
   "metadata": {},
   "outputs": [],
   "source": [
    "existsDefNegation = Forall(n, Forall(P,\n",
    "                                     Equals(general_notexists_Px, general_forall__Py_not_T).withWrapAfterOperator()),\n",
    "                           domain=NaturalPos)"
   ]
  },
  {
   "cell_type": "markdown",
   "metadata": {},
   "source": [
    "**\"Unfold\" $\\nexists$ to $\\lnot \\exists$:**"
   ]
  },
  {
   "cell_type": "code",
   "execution_count": null,
   "metadata": {},
   "outputs": [],
   "source": [
    "notExistsUnfolding = Forall(n, Forall(P, Implies(general_notexists_Px, \n",
    "                                                 Not(general_exists_Py)).withWrapAfterOperator()),\n",
    "                           domain=NaturalPos)"
   ]
  },
  {
   "cell_type": "markdown",
   "metadata": {},
   "source": [
    "**\"Fold\" $\\lnot \\exists$ into $\\nexists$:**"
   ]
  },
  {
   "cell_type": "code",
   "execution_count": null,
   "metadata": {},
   "outputs": [],
   "source": [
    "notExistsFolding = Forall(n, Forall(P, Implies(Not(general_exists_Px), \n",
    "                                               general_notexists_Py).withWrapAfterOperator()),\n",
    "                          domain=NaturalPos)"
   ]
  },
  {
   "cell_type": "markdown",
   "metadata": {},
   "source": [
    "**If all instances are true, then there exists no counter-example:**"
   ]
  },
  {
   "cell_type": "code",
   "execution_count": null,
   "metadata": {},
   "outputs": [],
   "source": [
    "forallImpliesNotExistsNot = Forall(n, Forall(P,\n",
    "                                             Implies(general_forall_Px, \n",
    "                                                     general_notexists_notPy).withWrapAfterOperator()),\n",
    "                                  domain=NaturalPos)"
   ]
  },
  {
   "cell_type": "markdown",
   "metadata": {},
   "source": [
    "**If elements exists in $A$ that satisfies some criteria, they also exist in $B$ given that $A \\subseteq B$ (simply because all elements in $A$ also exist in $B$):**"
   ]
  },
  {
   "cell_type": "code",
   "execution_count": null,
   "metadata": {},
   "outputs": [],
   "source": [
    "existsInSuperset = Forall(n, Forall((P, A, B),\n",
    "                                    Implies(general_exists_in_A_Px,\n",
    "                                            general_exists_in_B_Py).withWrapAfterOperator(),\n",
    "                                    conditions=[SubsetEq(A, B)]),\n",
    "                         domain=NaturalPos)"
   ]
  },
  {
   "cell_type": "markdown",
   "metadata": {},
   "source": [
    "**If an element exists satisfies some criteria under a certain set of conditions, it also exists under less restrictive criteria:**"
   ]
  },
  {
   "cell_type": "code",
   "execution_count": null,
   "metadata": {},
   "outputs": [],
   "source": [
    "'''\n",
    "LessOp = Less._operator_\n",
    "LessEqOp = LessEq._operator_\n",
    "existsMoreGenerally = Forall((i, j, k), \n",
    "                             Forall(l, Forall((P, iterQ1k), \n",
    "                                              Implies(generalExists_Px,\n",
    "                                                      exists_Px_Q1i_Qjk).withWrapAfterOperator()),\n",
    "                                    domain=NaturalPos),\n",
    "                             domain=Natural, \n",
    "                             conditions=[LesserSequence((LessEqOp, LessOp, LessEqOp),\n",
    "                                                        (one, i, j, k))])\n",
    "'''"
   ]
  },
  {
   "cell_type": "markdown",
   "metadata": {},
   "source": [
    "** If $P(x_{1},\\ldots,x_{l})$ given $R(x_1,\\ldots,x_{l})$ for all appropriately conditioned instances, then existence of a satisfying instance of the former implies existence of a satisfying instance of the latter (e.g., the same instance). **"
   ]
  },
  {
   "cell_type": "code",
   "execution_count": null,
   "metadata": {},
   "outputs": [],
   "source": [
    "existentialImplication = Forall(n, Forall((P, Q, R),\n",
    "                                          Implies(general_forall_st_Qx__Px_implies_Rx,\n",
    "                                                  Implies(general_exists_Py_st_Qy,\n",
    "                                                          general_exists_Rz_st_Qz).withWrapAfterOperator()) \\\n",
    "                                          .withWrapAfterOperator()),\n",
    "                                domain=NaturalPos)"
   ]
  },
  {
   "cell_type": "code",
   "execution_count": null,
   "metadata": {},
   "outputs": [],
   "source": [
    "skolemElimLemma = Forall(\n",
    "        (n, alpha),\n",
    "        Forall((P, Q),\n",
    "               Implies(And(Exists(y_1_to_n, P__y_1_to_n, conditions=[Q__y_1_to_n]), \n",
    "                       Forall(x_1_to_n,\n",
    "                              Implies(P__x_1_to_n, alpha),\n",
    "                              conditions=[Q__x_1_to_n])), alpha)),\n",
    "        domains=[NaturalPos, Boolean])"
   ]
  },
  {
   "cell_type": "code",
   "execution_count": null,
   "metadata": {},
   "outputs": [],
   "source": [
    "skolemElim = Forall(\n",
    "        n,\n",
    "        Forall((P, Q, alpha),\n",
    "               Implies(And(Exists(y_1_to_n, P__y_1_to_n, conditions=[Q__y_1_to_n]), \n",
    "                       Forall(x_1_to_n,\n",
    "                              Implies(P__x_1_to_n, alpha),\n",
    "                              conditions=[Q__x_1_to_n])), alpha)),\n",
    "        domain=NaturalPos)"
   ]
  },
  {
   "cell_type": "code",
   "execution_count": null,
   "metadata": {},
   "outputs": [],
   "source": [
    "%end theorems"
   ]
  },
  {
   "cell_type": "code",
   "execution_count": null,
   "metadata": {},
   "outputs": [],
   "source": []
  },
  {
   "cell_type": "code",
   "execution_count": null,
   "metadata": {},
   "outputs": [],
   "source": []
  }
 ],
 "metadata": {
  "kernelspec": {
   "display_name": "Python 3",
   "language": "python",
   "name": "python3"
  }
 },
 "nbformat": 4,
 "nbformat_minor": 0
}
