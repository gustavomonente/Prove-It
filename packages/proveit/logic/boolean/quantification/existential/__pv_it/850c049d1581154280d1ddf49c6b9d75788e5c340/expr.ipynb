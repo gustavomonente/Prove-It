{
 "cells": [
  {
   "cell_type": "markdown",
   "metadata": {},
   "source": [
    "Expression of type <a class=\"ProveItLink\" href=\"../../../../../../../../doc/html/api/proveit.Conditional.html\">Conditional</a>\n",
    "=======================\n",
    "# from context <a class=\"ProveItLink\" href=\"../../_context_.ipynb\">proveit.logic.boolean.quantification.existential</a>"
   ]
  },
  {
   "cell_type": "code",
   "execution_count": 1,
   "metadata": {},
   "outputs": [],
   "source": [
    "import proveit\n",
    "# Automation is not needed when building an expression:\n",
    "proveit.defaults.automation = False # This will speed things up.\n",
    "proveit.defaults.inline_pngs = False # Makes files smaller.\n",
    "# import Expression classes needed to build the expression\n",
    "from proveit import Conditional\n",
    "from proveit._common_ import P, n\n",
    "from proveit.logic import Forall, Implies, InSet, Not\n",
    "from proveit.logic.boolean.quantification._common_ import general_exists_Px, general_notexists_Py\n",
    "from proveit.number import NaturalsPos"
   ]
  },
  {
   "cell_type": "code",
   "execution_count": 2,
   "metadata": {},
   "outputs": [
    {
     "data": {
      "text/html": [
       "<strong id=\"expr\">expr:</strong> <a class=\"ProveItLink\" href=\"expr.ipynb\"><img src=\"expr.png\" style=\"display:inline;vertical-align:middle;\" /></a><br>"
      ],
      "text/plain": [
       "expr: {forall_{P} ([not](exists_{x_{1}, ..x_{_a}.., x_{n}} P(x_{1}, ..x_{_a}.., x_{n})) =>  \\\\ [notexists_{y_{1}, ..y_{_a}.., y_{n}} P(y_{1}, ..y_{_a}.., y_{n})]) if n in NaturalsPos."
      ]
     },
     "execution_count": 2,
     "metadata": {},
     "output_type": "execute_result"
    }
   ],
   "source": [
    "# build up the expression from sub-expressions\n",
    "expr = Conditional(Forall([P], Implies(Not(general_exists_Px), general_notexists_Py).withWrappingAt(2)), InSet(n, NaturalsPos))"
   ]
  },
  {
   "cell_type": "code",
   "execution_count": 3,
   "metadata": {},
   "outputs": [
    {
     "name": "stdout",
     "output_type": "stream",
     "text": [
      "Passed sanity check: built 'expr' is the same as the stored Expression.\n"
     ]
    }
   ],
   "source": [
    "# check that the built expression is the same as the stored expression\n",
    "%check_expr"
   ]
  },
  {
   "cell_type": "code",
   "execution_count": 4,
   "metadata": {},
   "outputs": [
    {
     "name": "stdout",
     "output_type": "stream",
     "text": [
      "\\left\\{\\forall_{P}~\\left(\\begin{array}{c} (\\lnot \\left[\\exists_{x_{1}, \\ldots, x_{n}}~P(x_{1}, \\ldots, x_{n})\\right]) \\Rightarrow  \\\\ \\left[\\nexists_{y_{1}, \\ldots, y_{n}}~P(y_{1}, \\ldots, y_{n})\\right] \\end{array}\\right) \\textrm{ if } n \\in \\mathbb{N}^+\\right..\n"
     ]
    }
   ],
   "source": [
    "# Show the LaTeX representation of the expression for convenience if you need it.\n",
    "print(expr.latex())"
   ]
  },
  {
   "cell_type": "code",
   "execution_count": 5,
   "metadata": {},
   "outputs": [
    {
     "data": {
      "text/html": [
       "<table><tr><th>&nbsp;</th><th>core type</th><th>sub-expressions</th><th>expression</th></tr>\n",
       "<tr><td>0</td><td>Conditional</td><td>value:&nbsp;1<br>condition:&nbsp;2<br></td><td><a class=\"ProveItLink\" href=\"expr.ipynb\"><img src=\"expr.png\" style=\"display:inline;vertical-align:middle;\" /></a></td></tr>\n",
       "<tr><td>1</td><td>Operation</td><td>operator:&nbsp;3<br>operand:&nbsp;4<br></td><td><a class=\"ProveItLink\" href=\"../0f41202e702c23bd7a0b37010da772bacbaea8820/expr.ipynb\"><img src=\"../0f41202e702c23bd7a0b37010da772bacbaea8820/expr.png\" style=\"display:inline;vertical-align:middle;\" /></a></td></tr>\n",
       "<tr><td>2</td><td>Operation</td><td>operator:&nbsp;5<br>operands:&nbsp;6<br></td><td><a class=\"ProveItLink\" href=\"../a720bba6cdd6f51499c0bd8820ee89528186f3d30/expr.ipynb\"><img src=\"../a720bba6cdd6f51499c0bd8820ee89528186f3d30/expr.png\" style=\"display:inline;vertical-align:middle;\" /></a></td></tr>\n",
       "<tr><td>3</td><td>Literal</td><td></td><td><a class=\"ProveItLink\" href=\"../../../universal/__pv_it/fd9c772d6675566ed52a6897806f45eb08a4ea910/expr.ipynb\"><img src=\"../../../universal/__pv_it/fd9c772d6675566ed52a6897806f45eb08a4ea910/expr.png\" style=\"display:inline;vertical-align:middle;\" /></a></td></tr>\n",
       "<tr><td>4</td><td>Lambda</td><td>parameter:&nbsp;21<br>body:&nbsp;7<br></td><td><a class=\"ProveItLink\" href=\"../59913c7af1c06195b8c4be3709307c9b6b1c1ab30/expr.ipynb\"><img src=\"../59913c7af1c06195b8c4be3709307c9b6b1c1ab30/expr.png\" style=\"display:inline;vertical-align:middle;\" /></a></td></tr>\n",
       "<tr><td>5</td><td>Literal</td><td></td><td><a class=\"ProveItLink\" href=\"../../../../../set_theory/membership/__pv_it/7776fc89cb67d0b5b1ec2c0c8e08da5587921ccf0/expr.ipynb\"><img src=\"../../../../../set_theory/membership/__pv_it/7776fc89cb67d0b5b1ec2c0c8e08da5587921ccf0/expr.png\" style=\"display:inline;vertical-align:middle;\" /></a></td></tr>\n",
       "<tr><td>6</td><td>ExprTuple</td><td>28, 8</td><td><a class=\"ProveItLink\" href=\"../e498da148cb0e1035a34d74f79377ecf4d06d21d0/expr.ipynb\"><img src=\"../e498da148cb0e1035a34d74f79377ecf4d06d21d0/expr.png\" style=\"display:inline;vertical-align:middle;\" /></a></td></tr>\n",
       "<tr><td>7</td><td>Operation</td><td>operator:&nbsp;9<br>operands:&nbsp;10<br></td><td><a class=\"ProveItLink\" href=\"../e85d37c26cf84509b6c1c04fa15d47fbabea55960/expr.ipynb\"><img src=\"../e85d37c26cf84509b6c1c04fa15d47fbabea55960/expr.png\" style=\"display:inline;vertical-align:middle;\" /></a></td></tr>\n",
       "<tr><td>8</td><td>Literal</td><td></td><td><a class=\"ProveItLink\" href=\"../../../../../../number/sets/integer/__pv_it/f6a9f4b6dec6ab4d2dcb6ba1b0ba3cceefc643530/expr.ipynb\"><img src=\"../../../../../../number/sets/integer/__pv_it/f6a9f4b6dec6ab4d2dcb6ba1b0ba3cceefc643530/expr.png\" style=\"display:inline;vertical-align:middle;\" /></a></td></tr>\n",
       "<tr><td>9</td><td>Literal</td><td></td><td><a class=\"ProveItLink\" href=\"../../../../implication/__pv_it/1e62b0c0a90306fc48b17f0dc8d4dc4df8bb234f0/expr.ipynb\"><img src=\"../../../../implication/__pv_it/1e62b0c0a90306fc48b17f0dc8d4dc4df8bb234f0/expr.png\" style=\"display:inline;vertical-align:middle;\" /></a></td></tr>\n",
       "<tr><td>10</td><td>ExprTuple</td><td>11, 12</td><td><a class=\"ProveItLink\" href=\"../ae59592bd7d8a8b2f70562ec406c367e883be74f0/expr.ipynb\"><img src=\"../ae59592bd7d8a8b2f70562ec406c367e883be74f0/expr.png\" style=\"display:inline;vertical-align:middle;\" /></a></td></tr>\n",
       "<tr><td>11</td><td>Operation</td><td>operator:&nbsp;13<br>operand:&nbsp;14<br></td><td><a class=\"ProveItLink\" href=\"../a62f6dae4e8e54fbac6a63c695bfe0709008f3d10/expr.ipynb\"><img src=\"../a62f6dae4e8e54fbac6a63c695bfe0709008f3d10/expr.png\" style=\"display:inline;vertical-align:middle;\" /></a></td></tr>\n",
       "<tr><td>12</td><td>Operation</td><td>operator:&nbsp;15<br>operand:&nbsp;17<br></td><td><a class=\"ProveItLink\" href=\"../../../__pv_it/9eca89ca8934719f382a96c6160a4fe2470eaf4e0/expr.ipynb\"><img src=\"../../../__pv_it/9eca89ca8934719f382a96c6160a4fe2470eaf4e0/expr.png\" style=\"display:inline;vertical-align:middle;\" /></a></td></tr>\n",
       "<tr><td>13</td><td>Literal</td><td></td><td><a class=\"ProveItLink\" href=\"../../../../negation/__pv_it/d347242e9ffe8b0d3a039ea6a149983fef6cbe6c0/expr.ipynb\"><img src=\"../../../../negation/__pv_it/d347242e9ffe8b0d3a039ea6a149983fef6cbe6c0/expr.png\" style=\"display:inline;vertical-align:middle;\" /></a></td></tr>\n",
       "<tr><td>14</td><td>Operation</td><td>operator:&nbsp;16<br>operand:&nbsp;17<br></td><td><a class=\"ProveItLink\" href=\"../../../__pv_it/1ea51ab361bbc415dbaa135622b883f6213900960/expr.ipynb\"><img src=\"../../../__pv_it/1ea51ab361bbc415dbaa135622b883f6213900960/expr.png\" style=\"display:inline;vertical-align:middle;\" /></a></td></tr>\n",
       "<tr><td>15</td><td>Literal</td><td></td><td><a class=\"ProveItLink\" href=\"../5297a8fb20ae490ccea63be4579d6e701db7fda80/expr.ipynb\"><img src=\"../5297a8fb20ae490ccea63be4579d6e701db7fda80/expr.png\" style=\"display:inline;vertical-align:middle;\" /></a></td></tr>\n",
       "<tr><td>16</td><td>Literal</td><td></td><td><a class=\"ProveItLink\" href=\"../a8168c029d342fc3061f84d6d950c32772790ad90/expr.ipynb\"><img src=\"../a8168c029d342fc3061f84d6d950c32772790ad90/expr.png\" style=\"display:inline;vertical-align:middle;\" /></a></td></tr>\n",
       "<tr><td>17</td><td>Lambda</td><td>parameter:&nbsp;24<br>body:&nbsp;19<br></td><td><a class=\"ProveItLink\" href=\"../../../__pv_it/6afdab9de87f9464b786de5fdd351a34550c95830/expr.ipynb\"><img src=\"../../../__pv_it/6afdab9de87f9464b786de5fdd351a34550c95830/expr.png\" style=\"display:inline;vertical-align:middle;\" /></a></td></tr>\n",
       "<tr><td>18</td><td>Operation</td><td>operator:&nbsp;21<br>operands:&nbsp;20<br></td><td><a class=\"ProveItLink\" href=\"../../../../../../core_expr_types/__pv_it/bac4a077c7c4494ec401d9cce3d2d2e392a52ab90/expr.ipynb\"><img src=\"../../../../../../core_expr_types/__pv_it/bac4a077c7c4494ec401d9cce3d2d2e392a52ab90/expr.png\" style=\"display:inline;vertical-align:middle;\" /></a></td></tr>\n",
       "<tr><td>19</td><td>Operation</td><td>operator:&nbsp;21<br>operands:&nbsp;22<br></td><td><a class=\"ProveItLink\" href=\"../../../../../../core_expr_types/__pv_it/ffe9c7d6cc1d4ef11cf0ec4e618481450774fb8c0/expr.ipynb\"><img src=\"../../../../../../core_expr_types/__pv_it/ffe9c7d6cc1d4ef11cf0ec4e618481450774fb8c0/expr.png\" style=\"display:inline;vertical-align:middle;\" /></a></td></tr>\n",
       "<tr><td>20</td><td>ExprTuple</td><td>23</td><td><a class=\"ProveItLink\" href=\"../../../../../../core_expr_types/__pv_it/5cb6916d9e29d58052e5b13a8b89169f4eafca460/expr.ipynb\"><img src=\"../../../../../../core_expr_types/__pv_it/5cb6916d9e29d58052e5b13a8b89169f4eafca460/expr.png\" style=\"display:inline;vertical-align:middle;\" /></a></td></tr>\n",
       "<tr><td>21</td><td>Variable</td><td></td><td><a class=\"ProveItLink\" href=\"../../../../../../__pv_it/390c91a44e60b16c95d2255652741252e8ec8d980/expr.ipynb\"><img src=\"../../../../../../__pv_it/390c91a44e60b16c95d2255652741252e8ec8d980/expr.png\" style=\"display:inline;vertical-align:middle;\" /></a></td></tr>\n",
       "<tr><td>22</td><td>ExprTuple</td><td>24</td><td><a class=\"ProveItLink\" href=\"../../../../../../core_expr_types/__pv_it/8503dd75b8d2c0097310b10afd704e3f48409d280/expr.ipynb\"><img src=\"../../../../../../core_expr_types/__pv_it/8503dd75b8d2c0097310b10afd704e3f48409d280/expr.png\" style=\"display:inline;vertical-align:middle;\" /></a></td></tr>\n",
       "<tr><td>23</td><td>ExprRange</td><td>lambda_map:&nbsp;25<br>start_index:&nbsp;27<br>end_index:&nbsp;28<br></td><td><a class=\"ProveItLink\" href=\"../../../../../../core_expr_types/__pv_it/87b377c364a4602e9ce64fd43004741e2b6395d00/expr.ipynb\"><img src=\"../../../../../../core_expr_types/__pv_it/87b377c364a4602e9ce64fd43004741e2b6395d00/expr.png\" style=\"display:inline;vertical-align:middle;\" /></a></td></tr>\n",
       "<tr><td>24</td><td>ExprRange</td><td>lambda_map:&nbsp;26<br>start_index:&nbsp;27<br>end_index:&nbsp;28<br></td><td><a class=\"ProveItLink\" href=\"../../../../../../core_expr_types/__pv_it/36b186afc91ba7c57b358c8d856ab3c828e9e2c50/expr.ipynb\"><img src=\"../../../../../../core_expr_types/__pv_it/36b186afc91ba7c57b358c8d856ab3c828e9e2c50/expr.png\" style=\"display:inline;vertical-align:middle;\" /></a></td></tr>\n",
       "<tr><td>25</td><td>Lambda</td><td>parameter:&nbsp;33<br>body:&nbsp;29<br></td><td><a class=\"ProveItLink\" href=\"../../../../../../core_expr_types/__pv_it/4d6ce55953d3186b844d94fa964658034e386c2f0/expr.ipynb\"><img src=\"../../../../../../core_expr_types/__pv_it/4d6ce55953d3186b844d94fa964658034e386c2f0/expr.png\" style=\"display:inline;vertical-align:middle;\" /></a></td></tr>\n",
       "<tr><td>26</td><td>Lambda</td><td>parameter:&nbsp;33<br>body:&nbsp;30<br></td><td><a class=\"ProveItLink\" href=\"../../../../../../core_expr_types/__pv_it/15cc35ac7085d75649b82db6beead515f3030ef00/expr.ipynb\"><img src=\"../../../../../../core_expr_types/__pv_it/15cc35ac7085d75649b82db6beead515f3030ef00/expr.png\" style=\"display:inline;vertical-align:middle;\" /></a></td></tr>\n",
       "<tr><td>27</td><td>Literal</td><td></td><td><a class=\"ProveItLink\" href=\"../../../../../../number/numeral/__pv_it/f086f8c372bd40a2458306ddfdbb29f3dc6f63030/expr.ipynb\"><img src=\"../../../../../../number/numeral/__pv_it/f086f8c372bd40a2458306ddfdbb29f3dc6f63030/expr.png\" style=\"display:inline;vertical-align:middle;\" /></a></td></tr>\n",
       "<tr><td>28</td><td>Variable</td><td></td><td><a class=\"ProveItLink\" href=\"../../../../../../__pv_it/0c1c4cb515e0f4344b1ac06650f349123e526deb0/expr.ipynb\"><img src=\"../../../../../../__pv_it/0c1c4cb515e0f4344b1ac06650f349123e526deb0/expr.png\" style=\"display:inline;vertical-align:middle;\" /></a></td></tr>\n",
       "<tr><td>29</td><td>IndexedVar</td><td>variable:&nbsp;31<br>index:&nbsp;33<br></td><td><a class=\"ProveItLink\" href=\"../../../../../../core_expr_types/__pv_it/cbc5b13c7440e4f3ed730e7f45cdfc50ebbcda220/expr.ipynb\"><img src=\"../../../../../../core_expr_types/__pv_it/cbc5b13c7440e4f3ed730e7f45cdfc50ebbcda220/expr.png\" style=\"display:inline;vertical-align:middle;\" /></a></td></tr>\n",
       "<tr><td>30</td><td>IndexedVar</td><td>variable:&nbsp;32<br>index:&nbsp;33<br></td><td><a class=\"ProveItLink\" href=\"../../../../../../core_expr_types/__pv_it/12d6cd514f4a6eb41d13ff30f08a9d01f2c4f4ba0/expr.ipynb\"><img src=\"../../../../../../core_expr_types/__pv_it/12d6cd514f4a6eb41d13ff30f08a9d01f2c4f4ba0/expr.png\" style=\"display:inline;vertical-align:middle;\" /></a></td></tr>\n",
       "<tr><td>31</td><td>Variable</td><td></td><td><a class=\"ProveItLink\" href=\"../../../../../../__pv_it/c6e291955561f22a0e6708fd793ea93f1c7dbb5d0/expr.ipynb\"><img src=\"../../../../../../__pv_it/c6e291955561f22a0e6708fd793ea93f1c7dbb5d0/expr.png\" style=\"display:inline;vertical-align:middle;\" /></a></td></tr>\n",
       "<tr><td>32</td><td>Variable</td><td></td><td><a class=\"ProveItLink\" href=\"../../../../../../__pv_it/72df168d2bfb4e0140af90912ebf83b13772060b0/expr.ipynb\"><img src=\"../../../../../../__pv_it/72df168d2bfb4e0140af90912ebf83b13772060b0/expr.png\" style=\"display:inline;vertical-align:middle;\" /></a></td></tr>\n",
       "<tr><td>33</td><td>Variable</td><td></td><td><a class=\"ProveItLink\" href=\"../../../../../../core_expr_types/__pv_it/1e653f789234b245ee7fea7caad998c139d617410/expr.ipynb\"><img src=\"../../../../../../core_expr_types/__pv_it/1e653f789234b245ee7fea7caad998c139d617410/expr.png\" style=\"display:inline;vertical-align:middle;\" /></a></td></tr>\n",
       "</table>\n"
      ],
      "text/plain": [
       "0. {forall_{P} ([not](exists_{x_{1}, ..x_{_a}.., x_{n}} P(x_{1}, ..x_{_a}.., x_{n})) =>  \\\\ [notexists_{y_{1}, ..y_{_a}.., y_{n}} P(y_{1}, ..y_{_a}.., y_{n})]) if n in NaturalsPos.\n",
       "   core type: Conditional\n",
       "   value: 1\n",
       "   condition: 2\n",
       "1. forall_{P} ([not](exists_{x_{1}, ..x_{_a}.., x_{n}} P(x_{1}, ..x_{_a}.., x_{n})) =>  \\\\ [notexists_{y_{1}, ..y_{_a}.., y_{n}} P(y_{1}, ..y_{_a}.., y_{n})])\n",
       "   core type: Operation\n",
       "   operator: 3\n",
       "   operand: 4\n",
       "2. n in NaturalsPos\n",
       "   core type: Operation\n",
       "   operator: 5\n",
       "   operands: 6\n",
       "3. forall\n",
       "   core type: Literal\n",
       "   sub-expressions: \n",
       "4. P -> ([not](exists_{x_{1}, ..x_{_a}.., x_{n}} P(x_{1}, ..x_{_a}.., x_{n})) =>  \\\\ [notexists_{y_{1}, ..y_{_a}.., y_{n}} P(y_{1}, ..y_{_a}.., y_{n})])\n",
       "   core type: Lambda\n",
       "   parameter: 21\n",
       "   body: 7\n",
       "5. in\n",
       "   core type: Literal\n",
       "   sub-expressions: \n",
       "6. (n, NaturalsPos)\n",
       "   core type: ExprTuple\n",
       "   sub-expressions: 28, 8\n",
       "7. [not](exists_{x_{1}, ..x_{_a}.., x_{n}} P(x_{1}, ..x_{_a}.., x_{n})) =>  \\\\ [notexists_{y_{1}, ..y_{_a}.., y_{n}} P(y_{1}, ..y_{_a}.., y_{n})]\n",
       "   core type: Operation\n",
       "   operator: 9\n",
       "   operands: 10\n",
       "8. NaturalsPos\n",
       "   core type: Literal\n",
       "   sub-expressions: \n",
       "9. =>\n",
       "   core type: Literal\n",
       "   sub-expressions: \n",
       "10. ([not](exists_{x_{1}, ..x_{_a}.., x_{n}} P(x_{1}, ..x_{_a}.., x_{n})), notexists_{y_{1}, ..y_{_a}.., y_{n}} P(y_{1}, ..y_{_a}.., y_{n}))\n",
       "    core type: ExprTuple\n",
       "    sub-expressions: 11, 12\n",
       "11. [not](exists_{x_{1}, ..x_{_a}.., x_{n}} P(x_{1}, ..x_{_a}.., x_{n}))\n",
       "    core type: Operation\n",
       "    operator: 13\n",
       "    operand: 14\n",
       "12. notexists_{y_{1}, ..y_{_a}.., y_{n}} P(y_{1}, ..y_{_a}.., y_{n})\n",
       "    core type: Operation\n",
       "    operator: 15\n",
       "    operand: 17\n",
       "13. not\n",
       "    core type: Literal\n",
       "    sub-expressions: \n",
       "14. exists_{x_{1}, ..x_{_a}.., x_{n}} P(x_{1}, ..x_{_a}.., x_{n})\n",
       "    core type: Operation\n",
       "    operator: 16\n",
       "    operand: 17\n",
       "15. notexists\n",
       "    core type: Literal\n",
       "    sub-expressions: \n",
       "16. exists\n",
       "    core type: Literal\n",
       "    sub-expressions: \n",
       "17. (x_{1}, ..x_{_a}.., x_{n}) -> P(x_{1}, ..x_{_a}.., x_{n})\n",
       "    core type: Lambda\n",
       "    parameter: 24\n",
       "    body: 19\n",
       "18. P(y_{1}, ..y_{_a}.., y_{n})\n",
       "    core type: Operation\n",
       "    operator: 21\n",
       "    operands: 20\n",
       "19. P(x_{1}, ..x_{_a}.., x_{n})\n",
       "    core type: Operation\n",
       "    operator: 21\n",
       "    operands: 22\n",
       "20. (y_{1}, ..y_{_a}.., y_{n})\n",
       "    core type: ExprTuple\n",
       "    sub-expressions: 23\n",
       "21. P\n",
       "    core type: Variable\n",
       "    sub-expressions: \n",
       "22. (x_{1}, ..x_{_a}.., x_{n})\n",
       "    core type: ExprTuple\n",
       "    sub-expressions: 24\n",
       "23. y_{1}, ..y_{_a}.., y_{n}\n",
       "    core type: ExprRange\n",
       "    lambda_map: 25\n",
       "    start_index: 27\n",
       "    end_index: 28\n",
       "24. x_{1}, ..x_{_a}.., x_{n}\n",
       "    core type: ExprRange\n",
       "    lambda_map: 26\n",
       "    start_index: 27\n",
       "    end_index: 28\n",
       "25. _a -> y_{_a}\n",
       "    core type: Lambda\n",
       "    parameter: 33\n",
       "    body: 29\n",
       "26. _a -> x_{_a}\n",
       "    core type: Lambda\n",
       "    parameter: 33\n",
       "    body: 30\n",
       "27. 1\n",
       "    core type: Literal\n",
       "    sub-expressions: \n",
       "28. n\n",
       "    core type: Variable\n",
       "    sub-expressions: \n",
       "29. y_{_a}\n",
       "    core type: IndexedVar\n",
       "variable: 31\n",
       "index: 33\n",
       "30. x_{_a}\n",
       "    core type: IndexedVar\n",
       "variable: 32\n",
       "index: 33\n",
       "31. y\n",
       "    core type: Variable\n",
       "    sub-expressions: \n",
       "32. x\n",
       "    core type: Variable\n",
       "    sub-expressions: \n",
       "33. _a\n",
       "    core type: Variable\n",
       "    sub-expressions: "
      ]
     },
     "execution_count": 5,
     "metadata": {},
     "output_type": "execute_result"
    }
   ],
   "source": [
    "# display the expression information\n",
    "expr.exprInfo()"
   ]
  },
  {
   "cell_type": "code",
   "execution_count": null,
   "metadata": {},
   "outputs": [],
   "source": []
  }
 ],
 "metadata": {
  "kernelspec": {
   "display_name": "Python 3",
   "language": "python",
   "name": "python3"
  },
  "language_info": {
   "codemirror_mode": {
    "name": "ipython",
    "version": 3
   },
   "file_extension": ".py",
   "mimetype": "text/x-python",
   "name": "python",
   "nbconvert_exporter": "python",
   "pygments_lexer": "ipython3",
   "version": "3.7.3"
  }
 },
 "nbformat": 4,
 "nbformat_minor": 1
}
