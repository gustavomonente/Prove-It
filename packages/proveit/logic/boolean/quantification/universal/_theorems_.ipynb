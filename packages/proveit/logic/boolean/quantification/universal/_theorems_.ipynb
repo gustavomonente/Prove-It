{
 "cells": [
  {
   "cell_type": "markdown",
   "metadata": {},
   "source": [
    "Theorems for context <a href=\"_context_.ipynb\" class=\"ProveItLink\">proveit.logic.boolean.quantification.universal</a>\n",
    "========"
   ]
  },
  {
   "cell_type": "code",
   "execution_count": 1,
   "metadata": {},
   "outputs": [
    {
     "name": "stdout",
     "output_type": "stream",
     "text": [
      "Defining theorems for context 'proveit.logic.boolean.quantification.universal'\n",
      "Subsequent end-of-cell assignments will define theorems\n",
      "'%end theorems' will finalize the definitions\n"
     ]
    }
   ],
   "source": [
    "import proveit\n",
    "# Automation is not needed when building theorem expressions:\n",
    "proveit.defaults.automation = False # This will speed things up.\n",
    "from proveit import Function\n",
    "from proveit.logic import Equals, Implies, And, Forall, inBool\n",
    "from proveit.number import Add, num\n",
    "from proveit._common_ import n, m, P, Q, R\n",
    "from proveit.core_expr_types._common_ import (\n",
    "    x_1_to_n, x_1_to_np1, y_1_to_m, P__x_1_to_n, P__x_1_to_np1    \n",
    ")\n",
    "from proveit.logic.boolean.quantification._common_ import (\n",
    "    general_forall_Px_if_Qx, general_nested_forall_Pxy_if_Qx, \n",
    "    general_bundled_forall_Pxy_if_Qx)\n",
    "from proveit.number import Naturals, NaturalsPos\n",
    "%begin theorems"
   ]
  },
  {
   "cell_type": "code",
   "execution_count": 2,
   "metadata": {},
   "outputs": [
    {
     "data": {
      "text/html": [
       "<strong id=\"forall_with_conditions__in_bool\"><a class=\"ProveItLink\" href=\"_proofs_/forall_with_conditions__in_bool.ipynb\">forall_with_conditions__in_bool</a>:</strong> <a class=\"ProveItLink\" href=\"__pv_it/85e1473548f9ac5b8a44e06c760413597390060f0/expr.ipynb\"><img src=\"data:image/png;base64,iVBORw0KGgoAAAANSUhEUgAAAgYAAAAaBAMAAAA+molaAAAAMFBMVEX///8QEBCIiIhmZma6urrM\n",
       "zMxUVFQiIiJERETc3Nzu7u6qqqp2dnaYmJgyMjIAAAAcRTyBAAAAAXRSTlMAQObYZgAABgFJREFU\n",
       "WMPtmX9MHEUUx1+53fuxdwvEaGLbxBwllgZRLm3U2pbmsH+gRgNFY/yDhAuRWjS2xFZO0bRYk3LU\n",
       "P7ioQdKk7cofRKkWEiVoTfWEagyFekYSEwVz/vzDREWJTaUN+mZmZ2/3bncH9LQxcZLb3Zv9vsft\n",
       "Z9+8eTMAiNtD8aTr/fvEkivb6uIp2/4i/Ejxp5fjot39thwTSq50C8RsuyXa3VcABsXaf5UBTBeK\n",
       "wUb4VxkcW5k8mHRh4NMogwy5nhMwKCYnNW3PeFEoKURT917ctWcLgNK1QsM2GwYV1/Z+1RHFhBCh\n",
       "DM6Rvh8EDEIjeszbtFBEKClIK8G39YwGxStNvqfs4iDTqBypwf55yqCfSLoEDKig3/7uqhGhpCCt\n",
       "GXP7e2H4dKV2obANg6574Ho/np+iDMiro+/QNR+QQDlnf/eEJpQUpFVj7Fan4MmV2imlWQZqd/wA\n",
       "Z/AOYbCZMlAnh4ZeEubE2aGhVx3y3idiSUFaL372RgMr/xPfGgzkQ1o2Ds6+gucyNi9cTCTsqoSU\n",
       "hUFJItFtX2fAdrHEbdYS3JeNqyUUL9Aspqxru33c1Wpg/YtVYf5lwmBwSsuOBenxVjzXa5QBXvbY\n",
       "uIlYGHgbwI/J6I4LE4epn/KpLfxuwioRNkk/MxciasEoh3EZYCwFfpx5XoPPwhjSDziHf0p9zJfh\n",
       "3740GLRl80HtwV+I5+YGymAHKBkhAylC86taCiESjMejsJMz/d4qETY/OzEXXiG123hde2FqohJn\n",
       "dExdk/Cxdifce6tzGtRCi5Lhecxg0GXOidOzJJlFKQMfFJlndXnfWSiL5TLAz4149MagCKeTwGoA\n",
       "D0+1+6ySZTLQXTQJ5YPcbJHNQvijNRZ7dc5xAH7TTNfMGcjX/YSNM/BL+NjDjEEo7TPkJydq4K2Q\n",
       "5tEmNu3bNGJmME2PvjT1jicSEqx9Y5Usk4HuolUo5/VASbvBAOBXdwaoDtswCFjiwA8xIw4CmfuN\n",
       "Wuy5oxqcCUdCeWMBjpOVEQwnoUJj2ZTEA22HLZJQeWP+c1k6GQPdBdqN37y+wcWCB2kz+0FkLID8\n",
       "m4gBGedqTWO5rtPHQqmZgZeUyM1Jtl7oeZDrd5Dbo6PP2zDw95EXUD8+NaKnAA9PIrstkkpvZj94\n",
       "c8pF2mllwFzgTFek7fFF4WFwsgjGsuUBsUYkpxFepRuDoFaNftXa9KqkJSdutMSBmjLmBXgDH4Dp\n",
       "6WONhl5vymcQpBnoPOu4TIKSZ/Qyi6ShOA3y+zkMSGcOA+ZC6sLJ70eApjXgZCHpAfyzxitz6ZJ/\n",
       "PpCmDJQl0A/DGdNF/UgvLq2OVkAJMdpmMPAZwzvTBFO36MVNnz52qF6hzz0KqYl8BmwIPss6ruKl\n",
       "EehTrElSktSXY5bhmcxlwFzQBfzv+OkEJwuZxdv2P1oYknZQWirL5/SxECd/qYM8XoxfoKvBdQM1\n",
       "CKkFaonJdwYDZfdd1jWTXidiDBA/RC8/kUgcQgbHSJJsyGHwOTlcYh27lC8CVxvrhahF0oyWeQyw\n",
       "U906lzIxYC5kfMnyvGzDwLCQckr9bK1cR6M+byCcNq6ugW3oWmnP1srSR3qtzNvX5v0Dqo+xOJAa\n",
       "HfYPZPLKAkfg5Ub1XV67gCdlkgTmz2PZgwxQ1a/pB9oZ3KCLGAPmAn/fiVAmRBk4WKg5VVR2zTRG\n",
       "hoZLgYuLwv2jDmsmPokumhgw/QfkcgZLfwcGNy1ghMprQdn8YcwocuVSk0R59O4qjTBA1c6kvJoc\n",
       "1rLOVrnLxEB30QmDM+OTlIGDhSeaM7XyQfLCQRwdA/mPFTbtlFWlHdbOfCKMmRgwvR9zhnQgitOG\n",
       "2z5SkO4hZrdzHsmTkLEQtOiJpGjGXCcyFzfoXzrByaI49xkt6/z8PRs1t6PHbR+pIX8vbQPmA+Fe\n",
       "2tvE6dIayyaFRSJXb2WqrB5/eyw4bWFAXehfGhdGnCzO/M29NNVtL232r+4nUvbd2RANRuz2E9NO\n",
       "74ozoC6ktMBCifyDe6qscFwWg7jgnwdviiWm5skLKrdWVIjdubq4PQOPRv6/0AH/N/gTxlzQTomq\n",
       "TqoAAAAASUVORK5CYII=\n",
       "\" style=\"display:inline;vertical-align:middle;\" /></a><br>"
      ],
      "text/plain": [
       "forall_with_conditions__in_bool: forall_{n in NaturalsPos} [forall_{P, Q} ([forall_{x_{1}, ..x_{_a}.., x_{n} | Q(x_{1}, ..x_{_a}.., x_{n})} P(x_{1}, ..x_{_a}.., x_{n})] in BOOLEANS)]"
      ]
     },
     "execution_count": 2,
     "metadata": {},
     "output_type": "execute_result"
    }
   ],
   "source": [
    "forall_with_conditions__in_bool = Forall(n, Forall((P, Q), inBool(general_forall_Px_if_Qx)),\n",
    "                                         domain=NaturalsPos)"
   ]
  },
  {
   "cell_type": "code",
   "execution_count": 3,
   "metadata": {},
   "outputs": [
    {
     "data": {
      "text/html": [
       "<strong id=\"bundling\"><a class=\"ProveItLink\" href=\"_proofs_/bundling.ipynb\">bundling</a>:</strong> <a class=\"ProveItLink\" href=\"__pv_it/92b564b49567c3ece76c342a694521d94f44588a0/expr.ipynb\"><img src=\"data:image/png;base64,iVBORw0KGgoAAAANSUhEUgAAA8UAAAAzBAMAAABMP7fGAAAAMFBMVEX///8QEBCIiIhmZma6urrM\n",
       "zMxUVFQiIiJERETc3Nzu7u6qqqp2dnaYmJgyMjIAAAAcRTyBAAAAAXRSTlMAQObYZgAADrdJREFU\n",
       "eNrtnA+MFNUdx3+3O7P/ZvfuYjwi0KbrXUMpxd4pKP5BXTXe0fQPC038E423oQWLoboR61n/njTR\n",
       "s2pZ2gYQgwzQoNJaTi3aM1CnnG0TBF0LtlahbCM1sYn1Agf1ToW+fzM7782/B3c72xQfYWd37v3e\n",
       "ezOfef9+v+8uQNgp1vPDUOq5sacEp1Tq6jFA6bl7vIv9wvFPpPO+wo7xkC65CKdaShbQy0r2YRM9\n",
       "pI8fbx5bqZMfWyObNW18xjhMxkqFHFKPPT5Gxi3yWafAKcx4ba0r0EoiY/g7O6qhMdaabYzJI7a/\n",
       "5owb8SFTrh/avxx/YNG7OupMvTWvarGDccIIm/H6nI3xq/j4r5ozTvejQ6Nex/57DN3qSagNtV/9\n",
       "/drBOHV62Ix/BDbGq3GDemvOmFSxuo6IVbQi1Q4B7Kl9VemsyBieDZmxNmpnjPsW6WQ1no/xUPFq\n",
       "HRlHhtF/xDmEzWKq2cE4boTLON5hZ5zZuXnzqhDWXPs2b366nkuvxBBAbBiSYbThoIOxNhIu4wMl\n",
       "O2P4qK/v7hAYN/X1PWjUkXETWlyu64AIesBTrYsv3+GbecOUn0/P8mfOgeQkv77bloUV5nJj0MEY\n",
       "lobL+A7gGC8EeOhkNoDBMyDHOJaHxAkvd8a+PrIa0W2Ahp7lBFra/wr+mr0X4BpvYEbm1niFO2Vc\n",
       "BpEhH5O00gzttq2SyPiAHiZjdZhnfAWkKnKWbDnetutCfNHB837OzljpIOvNoKTQw5yj5y1DN24c\n",
       "NqtmI9qX7DoH3ec4WnrshNf1r8G3Z3kD09OjCvd8JfsvgUSvj8nj0Qr0mR9edDLekg2TcbSZZxyH\n",
       "iOS2la6+n8jBPB1iEl3sAs4HUoSzZKZNesg042XK4nEYo81GLKcDaQNirlMaXd79GPEUz5wGTVkf\n",
       "E70hC4esMcPJuLESJuOGAs84XZb1dpHrTk5Ej0kBrpfIv4ljvFvK28UYoxpiRXU85m+zEf8BizFQ\n",
       "Gl1+s3dWHF9GoTvvZzJXV4/4MI6MhMm4u8wzTlauOhHG8TLpZQsl8lfdDZjuE2pBnnE8Cw1ZNIWP\n",
       "PbFGqIdZwXibSGn4MUY8IXPx/LbIFNYGNBSf6WtyCUSasQUrWWSc/DRMxu0lnjE89F30suPcKY47\n",
       "mm6bv9DB+Ez8UA5ham4mnE11DsCMEytRF7q8AHc6puApENcFxlvyqXNw68Qm0MTVzJmbqVoPa0SE\n",
       "rULwmusl1P5pfsA0vR0ieuaycsNNEfZgJgrwgC/jB1AWbFFyX3PBhDAZ3w8C4+cRgYh+czwHN/E5\n",
       "p8UqtzkYv0cearTNdDXhbLSCnbGGFyzGKLpMwSbdpM8T+/Hc1rNLsIoVFxMQ0po5czELqcfeiEbm\n",
       "+El3gPJxYihZJsBSx/DzVGFvrE9z+5fDWljzJWjKRQ16OlpQPq2a8Hb4DZwHc8vYAjdktgvjBxlj\n",
       "Mi/vP3nGUvZniIzx3KPCBwDXCxvAfGPZOVbjIHWDofS6m3A2Sq+dMZ4Ek78oRnpFmzVdMFVk/BpE\n",
       "izCHFqf+Xhf3Qx8I5mIWUo+9EdEPj9IZVilCasG0tv1srO7BS22M43ZgL3HU/ze1brgYXcYCmEfG\n",
       "dpwptaBtpGpCcxZsJsjm0hKyuAyX808Xxq8zxmOKD7TIxRdSh0XGGXJ/8JpAHEabSk7Gp6H/b4BS\n",
       "8DCx26gVjvHb+F4bsazDZja6NwLjRyAzBJ2sOOdQPCKai1lIPUIjaKr6MrvIqOy4QS/Z7uhUWKea\n",
       "mdCM7G9yCbaYjfKnii6MD+Qp4zHFB1rk4gvqIZExPT2kOoF1Qz5z0f5zt+VtjBel3kmeDmqvh4nd\n",
       "RuHGalphriHvsLkNWpCJYWf8Md7iXUOLczLGNe/Zvue6P5jmjiy4nj3b94G9ETRVYxIvgusO3FrM\n",
       "J4fQw/NWmma6Gbbk/ExildQwtrhtq2tMAl1IljIeU3ygRS6+oH3sxnhdupImwFbryR+TF/Rv6DUw\n",
       "tK/CZM2wMV4/P/O7HH5ULRNmQK3sNhnDyTg/l68GvcAPlCFtKstDGaujaOt07ZNAiiMA7Qak5ucq\n",
       "Df3bgJnzWdAB1/NcL768jLABs5xtP7sPjR4bnOOctWtCT8f7sHInzXQPLPM1iZcTWWwxvewWW8ST\n",
       "dgdlPKb4QItcfCFzxI3xpr07dpKbP69fnQjzSupEdXLq+9+YrsPCVDGaszFOnf/HQhJntUzUycQA\n",
       "v/A20ZyDsbLgJ3w16B10Tq3AQrXXxvhPR0vqsmxcp8VhgHYDUnMs/yTMBNOcy4IahOuJ5fFAUG0E\n",
       "A8KNc07vT8Z5y3Cmy9vyviZK67nW54fcGDcV2Lp6LPGBFrn4QmTEdawmCQ+i1jCgMTxaR1yz+7lA\n",
       "LawF+IrNRAN3m0ZwMH4aHhWqgf5UCW1oipG99rGaNpVlIgOxzYA1/Xko9pvmfBaN1BOHs3L2RrBU\n",
       "c61PpuTKuJcx9owPeHluDZ4xtVeWLzn/pqpn2fT+spJGPRnPP9xPxUgkDdDHvhDJxb7MMU4em2Sx\n",
       "wCYsp9Nmu5PxEqUiVKOVYsa3kIm228GYVai2XwScAfNffREWlJi5kGWA1LMJtpXtjQg1ORg3VBhj\n",
       "z/hA1KOoDp4xs38DjXaWZ9ny/rKSOMYOfXXGZxgzR7kHUfdQym4DHmeTqjaux9RXf3OXWE0GlH2G\n",
       "w8/Fcru1KyO01zK3N92sx96IMFNXTwGUntvtjIuMsTM+cPXsXGSCk7G69BU4s+BgzOwXAY5zMc+y\n",
       "6f1l2WJDJ91w7nYNBGaP6CdRB3eh2thjiyfViFqkeDNjzMcHUttmlLXenXChcOm/HLwYfpvWo7qD\n",
       "MbO/B3BkhXmWTe+vHOOwvjnx/5xcvyBhMebjA28NbAbtz1Ew0jNmzbioOjw9vEaH7dmONAzOWDqj\n",
       "386Y2qdGIHKn5Vk2vb9uY7VLUz5DNA5ppcuNNcdqEh8w4x0K7qTadddmDbMf07jGFfjt1q0/TTvn\n",
       "YxpfUD6Z/qrlWba8v+aaa+RUZpysucJ7wIOxteYi8QEz3kFW/Vp+55tVxiSuQbBtTT9zvQtjbA9p\n",
       "um6jnmXL+2tOUEcCGNdd7V6L7cwtHy26Ge8xnqp5VUQ84cbY3B+T+IAZ79hIGafTHSZjEtegK8Wt\n",
       "YAy6MCax7QQ9Sz3LlvfXvNzhAMb1V7vXIGHF3v3omt6veU1kY+PCuKnDZEziAyzecXVfX19WyyfL\n",
       "RWvNheMa6h19fcsQ47VxF8bEvonO0dSzbHl/zbVqEOO6q91rkbrRePZyFjIh7KR2uDPeYoA9fszi\n",
       "HTHaj+HKrCUvJHGNAu3Hynx0yAuM6QWViBOZepbRG+r9NXddnwbNx/VWu9citaMtfbsB8RC+Br3e\n",
       "nbEZk2DrAhbvSGOAmZzlVV+t07gGibbsBdjn9GXSGffDC4gTmXqW0Rvq/TX/fDiIcb3V7rVIy9H/\n",
       "W3KwKoSqGnOujF/utzO24h0PY4fJQaAdF/vcaVwjgXIr9+ZoP3frx3RMBuZZ1oTK7g1iXG+1ey3S\n",
       "MdR10MON1VZOfbw4ozok9pxA3i3ZFfZ4+eTC+PUSuGl9Img+tn82t8JT+5a51NPiXMMTz7LokLrU\n",
       "Yfnav3F612R8Ump3mRRcKKcPS469RrM8/IW2F9Fz+6ilj2dhLrfEJPa2RAXyPiZUYc8WtRVXxrcA\n",
       "SOi5Ajx7AmOy+cGeZXEXdEAP6MeSaneZlGMP6+xBXUoR/xs6kC3/zveyMip9yfJQA47uGpyGjneZ\n",
       "+nh1hvdsRCX29kQE8j4mVGFvYiq6Mj5DinEGToSx9xKzP8gHIqd2l0n0upMHQZ0EMor4KH2M0Y7v\n",
       "bimVvmR5kGDOvdMtfbzizVivfuHBPNOABfLeJkxhz8aMITfGyUNSjGF8GNs19O6Md4/bbztQxitK\n",
       "WLYoo4hP0badB3CjlEpfsjxoKlqMmQ9B8bvEQ+IJIpD3MaEKez/G4Wroo0Pu8/F7FmM5tbs843tI\n",
       "15RSxFMfxa3YgbNwPBrAfB7dbF98F/mQD2BMJPZ73mztaDXbgAXyfiZEYY8tWMlOxolimIyV4aB+\n",
       "TNTurup1/mSgIJ4yjuALa/dUxHMnySSROgIbs1Iq/cA2nFXdHuP0qKmP9wNGJfZ7Pw8TdPPHcbBA\n",
       "3s+EKOyRxUTPNRcdykP7burSIMZE7e6qXudV9YGCeMq4sUB6wiqZMl8gjA61TQQplX5gG16ghw9Z\n",
       "nYOmPp4A40Xw5icqsU9uKMIwFsNbAnnLhLezFPbYAk/7UcONcbseKmPfhXXcnI9c1eucqj5YEE8Z\n",
       "N+GJ+HOeiniuzDmEUQVmgSKj0g9swxw61B5nAu4uSx+PgRHtu6WGJy89uimxj2URkLvsAnnLpCqe\n",
       "ZyZUYR/LKhhhY96N8QQIlXGDEcT4bYLGTb3OqeoDBfGUMVqUYq1Cp0yZN5CRz4ADcir9wDbcIFyd\n",
       "ZUoG3pec+1OrcQ35SG9yKG8TyPuaoBm5IR81UP4n3XyZYf9WhDYaxJiuU9zU65yqPlAQTxnHCs/0\n",
       "r8h5K+LtZXYSiP1wtpxKP7ANncL204pJ4F2syw68uodfh/plpteoCuT9TIjCfh3Ev573iEk0doTL\n",
       "GN6VYGyp170U8kyozovoBUE8U2S3ZN85iJ9vF0W8qNTfh0Xx3TrcqK6RUOkHt0Hw6Vuq1+Sso1mb\n",
       "XL7qlLTedUJjKblErwrk/UyIwr4TIru9YovP6iEzXpEPZmyp170U8kyozovoBUE82zttfGQRlMBV\n",
       "ES8q9WeiP6XvWwzXtMqo9IPbMFO4vKcCnEpBAvlAhT11A4uMw/8NNq0oM1aTT7q3Ql6rCuKrWXhB\n",
       "vKXWvSpZ9lDEC0r9SvVPMir9wDZURHdTzfUtfwMXxrGOsBljP5IUYyJN91LID1iC+GoWQRBvMV73\n",
       "D91DEc+XqZWrf5JR6Qe1QauTZElk/BaMD+MT+G3jWFayH/PDV1k4bwnVy9WBjRPEW4wTeEfrqojn\n",
       "y9xo+5OESj+wDRvhf4LxuP228Yn8RvlMb8bjqq/mpDUSivhp9g8DY69/Wl0I81+QwNtruuLCv1H+\n",
       "X1WOFNp1R+nZAAAAAElFTkSuQmCC\n",
       "\" style=\"display:inline;vertical-align:middle;\" /></a><br>"
      ],
      "text/plain": [
       "bundling: forall_{m in NaturalsPos, n in NaturalsPos} [forall_{P, Q, R} ([forall_{x_{1}, ..x_{_a}.., x_{m} | Q(x_{1}, ..x_{_a}.., x_{m})} [forall_{y_{1}, ..y_{_a}.., y_{n} | R(x_{1}, ..x_{_a}.., x_{m}, y_{1}, ..y_{_a}.., y_{n})} P(x_{1}, ..x_{_a}.., x_{m}, y_{1}, ..y_{_a}.., y_{n})]] \\\\  = [forall_{x_{1}, ..x_{_a}.., x_{m}, y_{1}, ..y_{_a}.., y_{n} | Q(x_{1}, ..x_{_a}.., x_{m}), R(x_{1}, ..x_{_a}.., x_{m}, y_{1}, ..y_{_a}.., y_{n})} P(x_{1}, ..x_{_a}.., x_{m}, y_{1}, ..y_{_a}.., y_{n})])]"
      ]
     },
     "execution_count": 3,
     "metadata": {},
     "output_type": "execute_result"
    }
   ],
   "source": [
    "bundling = \\\n",
    "    Forall((m, n), Forall((P, Q, R), \n",
    "                          Equals(general_nested_forall_Pxy_if_Qx,\n",
    "                                 general_bundled_forall_Pxy_if_Qx) \\\n",
    "                          .withWrappingAt(1)),\n",
    "           domain=NaturalsPos)"
   ]
  },
  {
   "cell_type": "code",
   "execution_count": 4,
   "metadata": {},
   "outputs": [
    {
     "data": {
      "text/html": [
       "<strong id=\"bundle\"><a class=\"ProveItLink\" href=\"_proofs_/bundle.ipynb\">bundle</a>:</strong> <a class=\"ProveItLink\" href=\"__pv_it/f5aa39a6cda5e95ee6df8aea2b0eda56e9074e850/expr.ipynb\"><img src=\"data:image/png;base64,iVBORw0KGgoAAAANSUhEUgAAA8UAAAAzBAMAAABMP7fGAAAAMFBMVEX///8QEBCIiIhmZma6urrM\n",
       "zMxUVFQiIiJERETc3Nzu7u6qqqp2dnaYmJgyMjIAAAAcRTyBAAAAAXRSTlMAQObYZgAADl9JREFU\n",
       "eNrtnA+MFNUdx3+7O7P/ZvfuYjgi0KbrXUMpxd4qKv5BXTXlaNKWhSaK0XgbWrAYajdiPevfLU30\n",
       "qFqWtkHEICM0qLTK+gctBtop2DYB1LVgayuUbaRNbGO98Mf28A99/2bmzczb2bfc7pwpPsLO7tz7\n",
       "zXszn/f39/vuAgSdooPfC6Sc6wfLcEql/kEDlME7Wn3Zz5z4QDrvS+wYC+iWi3CqpUQBvaxiHzbS\n",
       "Q+rEia7RXXXSQ2tks6aMTxgHyVipkUPyoYdHybhbPutkOIUZr213AVrZzRj+yo5qYIy1Lo4xaWIH\n",
       "2s64Ax/S1bFD+8cT9yx6S0edqdT2ohZ7GMeNoBk/muMY78bHf7adcaqCDh36GPbfj9Cjnojq0P7V\n",
       "31MexslxQTP+AXCMV+MKldrOmBSxegwRq2hFqh0G2Nv+olIZN2N4OmDG2nGeMe5bpJO1eT7GQ8Xu\n",
       "MWQcPor+I84BbBaTXR7GMSNYxrEszzi9a9OmBwNYc+3ftOmJsVx6xYcBokchEUQdDnkYayPBMj5Y\n",
       "5hnDf4eG7giAcefQ0L3GGDLuRIvLdVkIowae7Fl8+Q7fzOsn/3RaxnnmbEhM9Ou7vRlYaS43dnoY\n",
       "w9JgGd8KDsYLAZafzAaw8QzoYBzNQ7zp5c7o10dWJQYM0FBbjqOl/S/gT5m7AObXB2akb4rVHKeM\n",
       "yyA87GOSUrqgj9squRkf1INkrB51Mr4CkjU5S7Yc791zIb7pxvN+jmesZMl6s1FS6GH2e+ctQw+u\n",
       "BZtVsxJ9S/acjZ5zDC09dsGr+pfh6zPqA9NTxxVH+0pULoF4ycfk4UgNhswPL3gZb84EyTjS5WQc\n",
       "g7DktpWuvh/JwVwdohJd7AKHD6QIZ8pMm/SQ7sLLlMUtGKPNSqygA2kIMdcpjf76/RjxdJ85DToz\n",
       "PiZ6KAOHrTHDy7ijFiTjUMHJOFWV9XaR+05MQM2kANdK5N/oYPyylLeLMUYlRItqK+ZvsxL/AYsx\n",
       "UBr9frN3xj2+HIeBvJ/JHF095sM4PBIk44Gqk3GidmUzjGNV0ssWSuS33Q2Y7iNqQZ5xLAOhDJrC\n",
       "R59YJdQj7MJ4m0hp+DFGPCF98bze8GRWBzQUn+FrcgmEu7AFu7KbceLDIBn3lZ2MYfk30cuOcyd7\n",
       "nmiqd95CD+MzcKMcxtREJg4bew7AjOOrUBe6vAC3eabgyRDTXYw355Nn49q5q0CTo2SHuZnsclgl\n",
       "wmwVgtdcL6L6T/UDpul9ENbTl1VDN4RZw4wX4B5fxvegLNiiLF5zwfggGX8fXIyfRQTC+o2xHNzg\n",
       "zDk1WrvZw/gfpFGjbabQxGGjFXjGGl6wGMfRbbpsUp36XHc/ntNzVhkeZJeLuhDSkh3m7iykHL4S\n",
       "Hczxk8qC8n58OFElwJIf4fZUY2+sT3MqK2AtrPkcdOYiBj0dKSgf2iZOO/wGzoM5VWyBKzJTwPhe\n",
       "xpjMywdOnrGU/eluxnjuUeEdgGtdG8B8R9U7VuMgdchQSmITh41S4hnjSTDxs2K45LZZ0w9T3Ixf\n",
       "gUgRZtPLqb/R3fuhd1zm7iykHL4SkXffozOsUoTkgqm9B9hYPYiX2hjHLcBeYqj/b+xZfzG6jQUw\n",
       "l4ztOFNyQe+IbUJzFjgTZHNpGVlchq/zdwHjVxnjUcUHuuXiC8kjbsZp8nzwmsA9jHaWvYxPQ/9f\n",
       "A6VQx4S3UWsOxn/Bz9qIZjw2M9GzcTG+H9LDMItdzjsUj7jN3VlIOa5K0GT7MvvJqOx5QC9yT3QK\n",
       "rFPNTGhG9je5BFvMRPmTRQHjg3nKeFTxgW65+IJ62M2Ynh5WvcAGIJ++6MC52/Ic40XJNxPjQC3V\n",
       "MeFtFMdYTQvMhfIem5uhG5kYPOP38RZvPr2clzEuee/2vdf81jT3ZMHl7N2+H/hK0GTHJF4A4Q7c\n",
       "WswnhlHjeSNFM90Im3N+JtFa8ii2uHmLMCaBbiRDGY8qPtAtF1/Q3hcxXpeqpQiw1Xrih+QF/Rt+\n",
       "BQztizBJMzjGj85L/yqHm6plwgyoFW+TNryM83OcxaAX+K4yrE1heShj9TjaOl39GJDLEYC8ASn5\n",
       "mVqosg2YuTMLOuByninh20u7NmCWs+0nd6PRY713nLN2Tah1vA2rdtFMd8IyX5NYNZ7BFtOqotgi\n",
       "nrSzlPGo4gPdcvGF9DER4437duwiD39uRZ0Ac8vqBHVS8ttfmabDwmQxkuMYJ8//XSGBs1om6iRi\n",
       "gF+cNpGch7Gy4EfOYtA7mDWlBgvVEsf49++V1WWZmE4vhwHyBqTkaP4xOAdMc0cWVCFcTjSPBwK7\n",
       "EgyIY5zzen/S3keGM13em/c1UXrOtT4vFzHuLLB19WjiA91y8YXwiHCsJgkPotYwoDE8Wjam8X4u\n",
       "UAtrAb7AmWggtukAD+Mn4AFXMVBJltGGphjex4/VtKosExmIOQNW9WehWDHNnVk0Uk4MzszxlWCp\n",
       "7VqfdFnIuMQY140P1PPcGk7G1F5ZseT8G2zPsun9ZVc6XpfxvCMVKkYiaStt9oVwLvp5B+PERxMt\n",
       "FtiE5fTabPcyXqLUXMVo5ajxNWSivexhzApU+y4ChwHzX30WFpSZuSvLVlLORthW5SsRaPIwDtUY\n",
       "47rxgUidS2WdjJn9a2i0szzLlveXXcnB2KOvTvsMY+Yody/qHkpVNOA5bJJ25QZNffVX97iLSYOy\n",
       "3/D4uVhuUb3Srvpa5nzVzXL4SgSZ+gcLoAzewjMuMsbe+MBVM3Ph8V7G6tKX4IyChzGzXwQ4zsU8\n",
       "y6b3l2WLDp90xR2Pa2vD7GH9JMpw3Kg2+tjiSVWiHSnWxRg74wPJbdOrWmkXXOi69Z/vvBh+mdIj\n",
       "uocxs78TcGSFeZZN768k46C+OvH/nETfkLAYO+MDb2zdBNofImCkps+YfpE9PN23RoftmWwKdk5f\n",
       "Or3CM6b2yREI32Z5lk3vr2isFrW3TxC1IK3yPldzrCbxATPeoeBOql1zdcYw+zGNa1yB327Z8uOU\n",
       "dz6m8QXlg2m7Lc+y5f0111wjpzTjRNsl3lvFjK01F4kPmPEOsurX8rtetxmTuAbBtiX15LUCxtge\n",
       "UnTdRj3LlvfXnKCONWQ8Krf5xzSZEvrH214SUU8IGJv7YxIfMOMdGyjjVCprMiZxDbpS3ALGTgFj\n",
       "EtuO07PUs2x5f82R/mhDxoHI6oNOTEL/dtsLIjsbL+POrMmYxAdYvOOqoaGhjJZPVIvWmgvHNdRb\n",
       "h4aWIcZrYwLGxL6TztHUs2x5f821amPGgcjqA05MQp8OYCu1Q8h4swF8/JjFO6K0H8OXMpa8kMQ1\n",
       "CrQfK/PQIe9iTNJAmTiRqWcZvaHeX/NmPxRWbDnHOBBZfcCJSehjAXwP+lEhYzMmwZYFLN6RwgDT\n",
       "OcurvlqncQ0SbdkHsN/ry6S38+4FxIlMPcvoDfX+mn8+IqzYfI5xILL6gBOT0AdxWx05EeNfV3jG\n",
       "VrzjPuwwOQS042KfO41rxFFu5a4c7eeifkzHZGCeZc1V2F3CilmDWFCy+oATk9BjuZVXIO+eUT0a\n",
       "e4dCXmjCZcDrJy/jV8sg0vqE0XzMfzaHzylDywTFdHuX8MSz7HZIXer2LA2SdIRjfJKy+oap8UCZ\n",
       "bzK/9PWYhP4BSyCv1l9wMI09l6hC3seEl9CnayLG3wGQ0HM18Oy5GJN9IPYsuzeEB8XtUfuXzVhe\n",
       "Vt8o5VhrnblTl5LEP0dHshXf+FamJRL658w3TEJ/uymQV6fXVwJTjT2fiELez4SX0GtFEePTpRin\n",
       "oRnGddNAndXUU+MsxvKy+kaJtvzEIVAngowkPkLbMdry3QGtkNBHzH7BJPTjLIG8Uh+Ybn/jwTwT\n",
       "wgp5P5OQLaFXhwWME4elGENrGPMaer4SS8oWY3lZvRzjlWWsW5SRxCdp5c4DuB5aIaFPmjfLJPTj\n",
       "LCeC4qfoP+w+QRTyfiachF7IOFgNfcQVlIj8m6ayPVbLy+rlGN9JuqaUJJ76KG7CHpyWSOiZz8OU\n",
       "0N9ORrJ8A8YE197Xe7I9prgbK+R9TTgJvSIaq+PFIBkrQieIUuPWXLKyepEi3nmSMA7jO+uTk8ST\n",
       "70Qlj8GGTGsk9Gfa22OcHjAF8n7AqMZ+36dhvG7+Og5WyPsy5iT0wjUX/XJNYN9NXSqcjXWesaSs\n",
       "XqSI5+TrJuOOAmnoUpL45wm3w70ToDUS+ufZnpVF23aaAnkCzKuex2+oxj6xvghHsRreUsgTE4F6\n",
       "3i2hjxgCxn16oIyFC+uFwDOWk9ULFfGcfN1k3Ikn1k/JSeJnE241mAGtkdDPpvORKaHvtwTyGBgR\n",
       "v9vqedwUB3VTYx/NICK38wp50o8dqnvyxi2h78gLGI+HQBmHDL+tazOyeqEi3pavm4zRmhOLFaQk\n",
       "8deRycuAg9AaCf11zj/YvkwC7EXvFtK6UigfLiWG85xCnpg0ltA/JvBlBv1bEZqvSqAZWb1QEW/L\n",
       "103G0cKTlZU5OUn8LNKQKnAWtEZCP6uOO4/sYgVflLf35OtQT06XDFshT00aS+hFMYmObLCM4S0p\n",
       "xo1k9Uyp7lbRc/J1k3GyO/PmIdy+G0viYT9WxQ/ocL1abk5CX6cOLqe+5b9LzECjd9Lr0rQV8rOg\n",
       "o5xYotsKeWLSWEIvjC0+rQfMeGVehnEjWT1TqrtV9Jx83do7bbh/EZoMZCTx6P/cSuruxTC/B5qT\n",
       "0Nepwzmu23u8gVepoUK+YYa4QCMQ/G+waUWpsZokH1m9ZivieRW9LV8HW657ZaIqJ4mv2X9qUkIv\n",
       "roPbJ9t+rc+fwcs4mg2aMXYjSTL2k9VvtRTxDhW9LV/nGK/7my4nia9yf5LJb0vohXXQxugXOl2M\n",
       "34DWMG7it42jGel+DPVl9ZxSvSo6yTOO4121hCR+A3+iOQm9sA4b4OPAuGW/bdzMb5Sf48O4pfpq\n",
       "h7RGQhI/tcn8TV0vsOT8hgQadOiKC/9G+f8AyLAsDIR0VtEAAAAASUVORK5CYII=\n",
       "\" style=\"display:inline;vertical-align:middle;\" /></a><br>"
      ],
      "text/plain": [
       "bundle: forall_{m in NaturalsPos, n in NaturalsPos} [forall_{P, Q, R} ([forall_{x_{1}, ..x_{_a}.., x_{m} | Q(x_{1}, ..x_{_a}.., x_{m})} [forall_{y_{1}, ..y_{_a}.., y_{n} | R(x_{1}, ..x_{_a}.., x_{m}, y_{1}, ..y_{_a}.., y_{n})} P(x_{1}, ..x_{_a}.., x_{m}, y_{1}, ..y_{_a}.., y_{n})]] \\\\  => [forall_{x_{1}, ..x_{_a}.., x_{m}, y_{1}, ..y_{_a}.., y_{n} | Q(x_{1}, ..x_{_a}.., x_{m}), R(x_{1}, ..x_{_a}.., x_{m}, y_{1}, ..y_{_a}.., y_{n})} P(x_{1}, ..x_{_a}.., x_{m}, y_{1}, ..y_{_a}.., y_{n})])]"
      ]
     },
     "execution_count": 4,
     "metadata": {},
     "output_type": "execute_result"
    }
   ],
   "source": [
    "bundle = Forall((m, n), Forall((P, Q, R), \n",
    "                               Implies(general_nested_forall_Pxy_if_Qx,\n",
    "                                       general_bundled_forall_Pxy_if_Qx) \\\n",
    "                               .withWrappingAt(1)),\n",
    "                  domain=NaturalsPos)"
   ]
  },
  {
   "cell_type": "code",
   "execution_count": 5,
   "metadata": {},
   "outputs": [
    {
     "data": {
      "text/html": [
       "<strong id=\"unbundle\"><a class=\"ProveItLink\" href=\"_proofs_/unbundle.ipynb\">unbundle</a>:</strong> <a class=\"ProveItLink\" href=\"__pv_it/29fb78b037b18d14743493ee8de213075f29bf500/expr.ipynb\"><img src=\"data:image/png;base64,iVBORw0KGgoAAAANSUhEUgAAA98AAAAzBAMAAAB8s6bnAAAAMFBMVEX///8QEBCIiIhmZma6urrM\n",
       "zMxUVFQiIiJERETc3Nzu7u6qqqp2dnaYmJgyMjIAAAAcRTyBAAAAAXRSTlMAQObYZgAADpVJREFU\n",
       "eNrtnA+MFNUdx3+3O7OzO7N7dzE9ItCm611DKYXeKihWEFdNOZtW2aOJYjTe5lqwGKoboZ7170kT\n",
       "PastS9sgYpARmrPSWlYtWgzq1LM1RdS1YGsryBptE01aL/yrh8r1/Zv//97enzmDPMLt7Mzv996b\n",
       "/ex78977ve8CfApSoudHcDKNLgk9t0RQyheHP+a2fcH/knSS1xikdf6X+ulLeni4eXRlTL1/A69p\n",
       "WjsJfMKACzXyIt//wCiBt/CbToPPLPBUdbxL2BECHN5ir2JkwJXmYODkK7j/xAL9t+E7l72jAvx6\n",
       "/AdB5RDgSS1q4A/lg4G/hF/fP8Ga9nH0SU8BeG/cC5JrIcDlz0UN/McQDHw97vp6TyzeIhrRKgch\n",
       "kxv/op4PAQ6PRQxcORYCvBF1fenKiQU8dhj9/xik8vgX9VAYcEmLFriUCwGe2bV1630nWI+eHERP\n",
       "18MQxW015kOAK0PRAj9QDgEOH/b13XKCAW9CT9ZNOWhDh5un/XJmNvAp3Lr8guftZ9qysFYNcrEY\n",
       "pHMhwGFltMBvhDDgSwHuHo9PPbw/LdRpz51flwYK+hL/FLHRMtdLNRD9Bym/hb9nb7MvXAjN0B7k\n",
       "Qg1oytTCgB9QowQuHg4FfiEdao5BYvOB2PwBPC4It/89XZtY893vZ7ns+fJDqX3F7jNQFW5Guarp\n",
       "Y0JZnF3yddoFr6rftJ15IF6DviAXYqD32KUw4NuyUQKPN4cClyA2RusTtE2k3gURTYmWc1SONurX\n",
       "AG7hsufMD2AN7W/RjEiGJK6V4E9PNdgZZxqycDDQhRiwFjUYBryxFiXwhmIo8HR1rNbbKPC16GM/\n",
       "C0SNYxJLK3cWwNVc9pz5AfwPdODoeZ4NBg4GOyMtUsUjgS7EgBd4bChK4F3VUOCp2qVjCvxW0mgT\n",
       "BQ4HujByPcApfPZ8+YF4iL7eTD6BQghwwm7P66251qXszAKINQe6YIPMuYvbWM7BwFOfRAm8vRwK\n",
       "HO7+Hl5AOHOa6yNPty1ear67oAg3uTKwnSTAY/jO2nHOdndjpcJS0CzSLo/AliyfPQjTQFL96zDL\n",
       "nIbjhAZtitoOMTWI3tOxQZgBe78Ak1Q96nAnJIuBwLFB5vxqQ5ln0AaTogR+B4QDfwLdWky9VsrD\n",
       "NfarMxK1VeY77RiqtMOCnrQBbyySJnAfc084+NCCWHqSQDzYNhn47CHdpHa6TMw6PMmemmyxaQB1\n",
       "vpU1sJG2w20IjXwc2B/9nfBRcjBVTW0uwWGYT0+jZ8yiKnGxWdJrhsGGL0MTqkhcCwV+FwNOnuX7\n",
       "Rw6cy/9UDuD4KSfCfwCunOKY5jRaHgipX5VivU4LctIOvAk/jD8PF1F38Y8OOqQgPV1EINZgLvDZ\n",
       "w4YOmO40sdThIjp2++AonXl3APS3bj63SoFLuBu4AdgfCX8ve1SQu2e0oQ8xkUVEbmZG/a3nlWkL\n",
       "RwbU0nAxDbrhfPzlKoQCf5UBH1XUooUv6iEf4gCeIR8gHlo4u+wm6wMhriWyLgty0gYcjWAh0wwL\n",
       "mbu7Bx4yD68iy2IaHAA+e0CNsNtlYtbhKsfdGdUn9J52r4IZOTUUYr2pwYJutIC5KO71F8OgBeaL\n",
       "AA9DKPADBQp8VFGLFr6oh3iQAzgbbYpu4F1QyMzbf+ZO8hCV8g0FlwU+ueeZfRbgieKjlbV5WELd\n",
       "3QBxQXue2XPFn4BShqYKnA589gCr0J07Tcw6LLRfMIMneLYM7nmAOfffhNp4plcjRomafJi5eCwO\n",
       "6AapQVi1nSN4gm4rS4GPKmrRwhf1UD7iBL4pXUsT4OvV1E/IH/Rv8BXQlK/BVEUDdFIqLCIW7Dr9\n",
       "g08+3itZgMst2Tffxd984k7omObrVVLQ47WGyk5kuw+dgC4VrhbLPPbI+IfCIDbxqcM+x+3pK4ip\n",
       "uaiTl90rrJuNo4XQWE6tUImRVE1mqYvFwOgzdQOhCDOr4eFR/NjPUeCjilq08EU9Mkc4gffvfX4X\n",
       "wdlZESdDZ1mcLE6Vf/DtmSoslUvxPIhTQej+GbFAh/g6/kNPJgpLrNOyLfcugzKiQt0xQCNPdEQK\n",
       "ShQehjnIdA46kb59OSxp5bLvrMDC6TVs4lOHOY7bs22AyLhv3z1nxUZC65ncBslyOPCmIhuljyZq\n",
       "gUfpHP6xId4unSTcYRt9hkJfSkpOUvC7R/A05ybzAugnJZiVtwAHuDRVhRjLh/S/Zj9UYcU+AaUK\n",
       "GXfql7jsK3I5WSUm3nVwLhGP/xanfwAH8F4G3Ddq4besrNmBU39hzYqzyWSpbfc5dKh69KzVRk7H\n",
       "6gG++FAFFGOgs4OtXsXyia/gdyuEGrFgF6gJPtkPO6s24JveVvU3Yvs8sOTJjvrhS9BdBqVqucRj\n",
       "X05ol1ATzzoo487XO4UAb6gx4L5Ri7iPZ84OnPm/BvAienkwD51kNIOGyJL+1YiHAXftS8/49HdV\n",
       "uHi364LlpBV4Es/eL/bK096tbrGe4LDPgLBPC6jDlgnBLfTcEAK8xIC7oxaXzc/HJrmBiytfgNOK\n",
       "LuDMfxle2ILUZORH1pLR34S+SpQYjPLWbXstlPBw54w67evK79OTpGYG3B61kHfOriq9u+AcB/Df\n",
       "DJwLf0ircdUFnPnfCjjeI1VJ28b5Z8lcOAz41T3lKO72M6dt6ejRHGIUA7g9avHGjq2g/DUOWnr2\n",
       "3NnzzG7sng0qPJPNpWFg9srZFStw6i8PQQwNpU7DAx+Cd1tBPgPCu/RSRF9v+KylVNHxWJf0Lp1E\n",
       "LXDQJTatAAJuvsoVl2c1vYXTcMyF+HD79p+n3c9wGvUQPp6J19z+jfGSIcGi1tONtpseOgncTBvH\n",
       "uwDyWHIBNwZtJGqBgy7XxIrQSBwKu143gZNwDGG4Pf3olR7AnyjRpWicsNSsgYxoXoG4ATN2JAD4\n",
       "qBbz+YGTO8tUJ45z5roPl12LnpRy77gXtdwTuD4PJ1ELHHTJxzU6wlQKabwpjgIn4RiZQN4O2oAH\n",
       "cBLbT9Kzp9DxOkr3QsZ4cmcOBwCPRIIg0dXARnUCWzbe03iHCo3jP2j5nRfwppwOnEQtuqETpApc\n",
       "1tfXl1UKqWrJGLThcIx4Y1/fagR8o+QBnPg30ef6MvnNFBU5fGTZ16QEAY9EgiDRItZPZFfehXq+\n",
       "57KwZ/xLSmc9gG/TwBoPb4HpsEmEBG3h8I0sDgmyK/NFKNIWLiwG2y5PMx7eVSbL2w8tzjybxwfi\n",
       "MTQru1yf0H3iqFGybAKPRIIg0U7kpYkE3p5H/zWIYLogN3sA14MnbEw3iFryG2lIY5qZPGTYysJ6\n",
       "lYZjSJBorysuYACPffB1srwtn/3nYgofvHi0LK7Wp2XgDI+am29L0UgQEPB9W7c+UppI4GvQ/+vy\n",
       "qSjq8K4H8OcqVuBCEd6DdbsA7sFzOGRfpOc7KzQck0TWwm152gN4tXDadeMsixuta8w03eas0R7L\n",
       "KD0KCQIC3tTXd5c2kcCPIwqHIJbzUh242qjLYvMZkJoS5GI1GPAA/moZvLY4xdAz3Ppe72un9632\n",
       "KMQBHC8tp45Psa4x03SeeTi3B6fbcybwkUoQ6pEYIOCJguVJwj2bHT1nvRJYWviUBsmqoTpY4u/k\n",
       "1iVo5+MFjgAXakDTWx7ArwPg2NMWstLoAE4mPXfl3fG8A67R8bMVAzi/BCHPvpT1SQwYcCFHRq+c\n",
       "hbDYzxh0CXolYkd3D8wAPDJmqoPvzPV3cukSUpUFkOwNcKEG7M1THsBP5QKegXqA+w9QXYMy+e28\n",
       "DpxfgkDvp26JAVt4KenbSXkKobGfxBhMofRKJOlyY0PeUB10+Du5dAkymvGi+a+/CzNgn7cbeOog\n",
       "F3AYG+BuIcK6vxgtnF+CQFnULTFgwF/mW9ajhcRJ7OfKsRgys0o0lQzgTHXQEeTm3BUmHMN72wNc\n",
       "qIEv8GiFCHEzerLgvyS9Zz7D+SUIlEXdEgMG/EGxyF8Ijf0sHYvBGqtEFx22SGSwfCQMuEuXEK/h\n",
       "QEWACzHAHjRnJ/BkKUrggnPl5RLLKN1fguA8SVjULTHQgSfX5b11DHZdAQVOYz8ln3qFayMsec4y\n",
       "p+G4FlVddRBEz61LSBbhzkAXYoA8JnsP2mh3H5lceKWjm3vfCtxXgmDf/j9SiYEOXMEjHi8dA9EV\n",
       "OICT2A+aM3vWi0MbYcmTVeIDWtF0jqkOCD23JIEc2HUJ5HS8KHxCgbslCYYB9sBDhflu4O1qpMAd\n",
       "w3SzPy5BgATBvv1/pBIDHTh+LHrqGLCuwAmcxH6EXu96cWgjLHnSSiwY7qZNv6SrDgg9rDEw9QXk\n",
       "APUWDl0CNpK724aoiyFloJKEIlgMElkBI/2XG/gkiBR4g+YzvcXA/SUI9u3/I5QYGMD/CT46Bqwr\n",
       "cAAnsR+h6FevcG2EmadDl2AurWJ6vhoDcqtMl0CNcNi5w25gzJ51g4ZCXCuAXHIBj/onP3x/1McY\n",
       "OHtKEOzb/0coMTCAkwMvHcMqaMnM269ZgZPYD14B9qwXhzbCzHOhzyIjni37aAxY0nUJ2Oha2Jan\n",
       "Lj5SBmKwCaRvFbyCJ425aIHDOyHA3RIEp1wARiQxcAFnOgarC9YVKNP1qpBCaOwHtRSjXlbRgY82\n",
       "widPR/zBWO77xe3dfhoDlnRdwmYyN1nNXHykDMRgIcRe9gyPPqZGDHxtIRi4W4LglAvAiCQGTuC6\n",
       "jsHqQnQFS/WADnlhsZ+bzHpZRQc+2gifPB26BPsGiCrPWhc2uqCtwGtAVqrtwKP/YT6lFNKlk2ST\n",
       "IDi2/8PIJAYO4IaOweJCdAWl2F6wFYLTVy31sooOaNVd2gjvPJ3rxuO+xSnj3uKUyEUNHP+iRihw\n",
       "uwTBvv3fyqIOiYETuK5jsLpgXYFcVF52A0+a9bKJDugKmlMb4Z3nBOkS7MDfgLEBXsfPZyeyHC0c\n",
       "/Lf/W1nUITFwAtflAlYXQ1fgAi5UvTpfP22Ed54To0uwAx+zn8+u5wfy53ie7alnX/rIJQYS/750\n",
       "WyE7Rv/JT4wuoaOnaBGj9LNFn+Hh5v8DHBs8dLNu8ecAAAAASUVORK5CYII=\n",
       "\" style=\"display:inline;vertical-align:middle;\" /></a><br>"
      ],
      "text/plain": [
       "unbundle: forall_{m in NaturalsPos, n in NaturalsPos} [forall_{P, Q, R} ([forall_{x_{1}, ..x_{_a}.., x_{m}, y_{1}, ..y_{_a}.., y_{n} | Q(x_{1}, ..x_{_a}.., x_{m}), R(x_{1}, ..x_{_a}.., x_{m}, y_{1}, ..y_{_a}.., y_{n})} P(x_{1}, ..x_{_a}.., x_{m}, y_{1}, ..y_{_a}.., y_{n})] \\\\  => [forall_{x_{1}, ..x_{_a}.., x_{m} | Q(x_{1}, ..x_{_a}.., x_{m})} [forall_{y_{1}, ..y_{_a}.., y_{n} | R(x_{1}, ..x_{_a}.., x_{m}, y_{1}, ..y_{_a}.., y_{n})} P(x_{1}, ..x_{_a}.., x_{m}, y_{1}, ..y_{_a}.., y_{n})]])]"
      ]
     },
     "execution_count": 5,
     "metadata": {},
     "output_type": "execute_result"
    }
   ],
   "source": [
    "unbundle = Forall((m, n), Forall((P, Q, R), \n",
    "                                 Implies(general_bundled_forall_Pxy_if_Qx,\n",
    "                                         general_nested_forall_Pxy_if_Qx) \\\n",
    "                                 .withWrappingAt(1)),\n",
    "                    domain=NaturalsPos)"
   ]
  },
  {
   "cell_type": "markdown",
   "metadata": {},
   "source": [
    "**Induction to any number of $\\forall$ instance variables:**"
   ]
  },
  {
   "cell_type": "code",
   "execution_count": 6,
   "metadata": {},
   "outputs": [
    {
     "data": {
      "text/html": [
       "<strong id=\"forallInduction\"><a class=\"ProveItLink\" href=\"_proofs_/forallInduction.ipynb\">forallInduction</a>:</strong> <a class=\"ProveItLink\" href=\"__pv_it/35a76d15af797dc9f8b391d288053c812d9324160/expr.ipynb\"><img src=\"data:image/png;base64,iVBORw0KGgoAAAANSUhEUgAAAjIAAABLCAMAAABdoJ1LAAAAM1BMVEX///+wsLAQEBCIiIhmZma6\n",
       "urrMzMxUVFQiIiJERETc3Nzu7u6qqqp2dnaYmJgyMjIAAAAld9JPAAAAAXRSTlMAQObYZgAADMRJ\n",
       "REFUeNrtnYt2rSgMQB1BeSP//7WjxxcgAUHl2N6y1nR6qyiGTQiEQNMUJNxDV1TXXEitGZNqbkjX\n",
       "yvGrkyCupCaZt6ErVuLk4kvRANbUtfpuJedc3EGM+kMDTJ1TfWIUuWxDV+xErgm0Nxxi6SKMbX+P\n",
       "UOByoGHo61QM108+Xc5VoAdaoE61T0bfQlc2sNpLaptCxK2wfhuZSDnGDmuXir6xVjUxhhFCBjxr\n",
       "ScGeJZLwCz0wUwAyhyv797UXtL+iz5B4GzKxcowSVnL9xyDurEQzs8hm2Q78YYtkuICML6EdGVh2\n",
       "Q3kPwg3UNhluXoFMrByjhPna/vmtiqBf7HZp0NQocfNwUuiCne/p4R0ZWEN3prhyGPRMacQrkImW\n",
       "Y5Lwqlx2dXOL/WS65f8TOpQ/jYxoI8iw1Otd48JCBjY7hqG4MUFKhl5vWLcgEy3HJGGtxJQ4vbUK\n",
       "mVmMjAmdm58drsIORqZnyXbFAWQkNLjpjLxZyWjDX4FMvBwfCRs2JXrvQHwxZbiZiEULtgIhwju0\n",
       "dCJl2gR6hMKRjinZMToNy0YGbnJDWTvg4EwbvcEyuAOZeDk+Eib9KeVdYsrIGUQ2q2Ix/kNT1NDh\n",
       "VNMPEuM84jhUtpDB1EoGp1qWAJDRUMeuTZHdhKE23JvuFcgkyvGRcIetIcdtpgxRSmE0i5vOOlyJ\n",
       "aXZVNN0otB7jklZqP8LrW2jU/JVDtB8RBgHIOFfcLEVawUCCxm3zCmQS5ZglPAkb3TvVxpy2uQxV\n",
       "pz+xTc5dCTLuI9zGER8xiSE66WFbsw4ysJ3LSmwPCRHYtOQdyCTKMUtY6RmbO00Z53lWZe0S60pf\n",
       "GRZ6AhlOFI+rRQ4ggyAy4NqPJAL3S/oVyKTKMUuYD01P1ukN3CNy5r3RO3vXdqByv9BfRWZ7hMa6\n",
       "R6tlvTzOtmUGJ/GUVaoBZOCZN1PwBaY9wew3kUmVY5Ew42SZRRENGZqPo4bEp5WsOyOzMqsKn4Uu\n",
       "xXhhzluKjP0I3bXjc1sOmL/OiDhtqVn62EUG1tRDfi1L0A5ncRNi8tFJXgGZRDlWCcvVFB1fOHyq\n",
       "t1cJJ8p2JyBMcRwATzMZ03TN4qFckBGrPbj9EvjT+ov9CC7Q9IT1TVjByIgTvhBGIWQYBRtkds+E\n",
       "wdmc1rHQwj46ws8hc8Vv2LJTyNjmwdpyaFLKYBvDgzHEluZMhyAICYTXr1i1DF3fRLfWvP22/zLf\n",
       "5D5ieke3Vu/skg8jc6anVQZCxrrid5HZw0wKDdmFr35CPrrDsJaHkbngNxSp6YhVwlrYVmR/Cpnl\n",
       "To2l1qlpwJDDYOuY5JnPCt00yWdULp/iCtrAyJzpP/RuZXnIaNCdZEx2hbSgNFFoYsvz0fkzmAMO\n",
       "InPBb9inNKcnYW4aNYKsdmQ4E8Ef+50SsfR4KzT7KtdMp6adVchinYrZyd4SZvnyQ0tWHjKwFIdc\n",
       "32QHzuVIr8cK++iEVzLmN+zFlin3G8qUH8STsCC6U0iJHZm+ldMP7v6Q9p2j1k9P5B7mljmmS+cl\n",
       "zhgEoZu6qddCStsquxwZSyN7yMC6GucOjBXoLfBVGeCjG5zvIx1CQWTK/YY61QoiEl75DUHn/I1O\n",
       "84CpmoossToldX0SyQuLnA0BkLGuHOzfzOk3BrZhf2wb9NGtA4nNqj/o93XEVOw3TI71EQUWcvbI\n",
       "4M/XhQZ2zt+mRdVSJev92YWcei4RKlrIuVYSA5FhYD+T2YxbsA0r1y4O+ugab2np1O14Xc+KTLHf\n",
       "UF1fs6NL9cKPS+0AIdOCS4Bz7V8DVgh2rwR9dLYBuOj3aRo2hEzCb9hTPOljdJxywkY0f+ksMhRE\n",
       "huYjEFa1MGLEeD1YwEfXrG6RpeWi4wTCNpUH+A2FVBhPs4Ls4+HFIlGOvxSdCGghZGgLdzRZHWEH\n",
       "jrH9qoJ8dDYyywCFBJEJ+w01k1xM2eTIGw6NQ2FkCKXPL658X+rGz1Y3IjPkDZk0PPfndgigj87y\n",
       "ssjlFsd7tiGz+w0tV1y3PVX2sucogAzcMdF/VpmAkY4U7JgohXVD1phEwUtslDNSCfvoXPN3RUXi\n",
       "EDK739Byxe2ZZT92TLpXiXK8Bhle337eB3kgMgXm79gmSY5HB8ODcuSMpYI+us8Ttkre58Ls6bwd\n",
       "mdVvaLniBLaRGVWMwoly+Mg8E/R21Maeh+3xMLiwPuBJZMB5GXjR0UdtnPfoMBgZe1ko4KP7vGGr\n",
       "ULLdb0/nWZ7sbc56c8X19DNbw9CMzNhyabQcR2SeCno7jiscD9vjYXDh8fCQQgac/W1gT52aPu28\n",
       "R2eAnySjhvTmMNjr2Lq9DyKz+Q13VxxxtEzT9SijHLRpngp6O04COB62CmFw4dpFcWTEbpYcHAYK\n",
       "7k5ok+HRGeAnxRfDQW7Jo6rsAyP7ZnXFqe3qPF0fcCdHoqya5qmgt4BcbQ9b86WR2urRg5ApcUuO\n",
       "apw2GR4dGrGW44sOWHjxwxlkbFcck2tPNzurSEY5aNM8FfQW6MHX4cVUTP4ty3vx6EHIWC5cD5mI\n",
       "c1fPEy1nPTo0srKARnGY7T/GC5Bxm+9iyzT55Zjr7ZGgN8iUmT1sVcLgwj0TjiJjjS4PS6w4bIF8\n",
       "msNZj04b6X2wSY4ydY2FnGA5ZmSeCHqDTJnFw1YlDM5+O/OmNCBkCLgqLzKHviDjeHS6cVykMAut\n",
       "nY4ho29x7lxHBizHjMwTQW8BU8b2sFUJg9sr33ry4tGDkLHWvPrLxWGeu8Vp5Hh09Cd7aBMZE1m/\n",
       "1Bv5CmTActDm+KmPmTIOtjXC4Cyzbn/y4p4BkOGWmeEHpaAYMp+Pczw6hMwtJYRMpA99e+jb8n0P\n",
       "BL0d5eS+oEYYXMOykSkIfRvTfwsyViTYKNB5cMJCyOgCI6IyMlA5FkHeH/QWUHTuqK1GGFwQmS7a\n",
       "MdmRJy4yjMbev6jQzaMzTeNMiCGaacuMGusdYfxQOeg23j8GvaVsk9N3OrMyWw1UCIMLIhM3f8Ew\n",
       "/ibWmay2zB4JNv1NIRWe6qLR5fs37Eh0z2YhOIrMMegtGScZDnrbBup+bs/DlhkGFwmMi4TBBZFZ\n",
       "PHphZBC4WQiKjWQ2ZCyw1FA0L3PPmOmeLYlEDJlj0FsyTrIJBr0tZPq5Dx623DC44y+JMDgyBWC3\n",
       "0w/tIrN49MLIODafg0zUKt2R2SPBInsTDvG1Eq16BTJAOXZ1XR70FkLmRO7nw+CCWmb16AWRKdj4\n",
       "bEHmuPoqMlhmca/Au7dXpIcxZn7QmxMneR6Z58PgbGT2J8fckm7UoY3MgOM6vD22J16KTOJl1ZAJ\n",
       "l8NHpiTobYuTVBhjOv4nTyHzeBichYz15NjiB+n2ps4mriJu2/uCRIPBIDMkEffEL9f4PcgEyxEb\n",
       "oZwOerPjJM9rmcfD4Bwtc+A0gEzJVtGL6soL5MepvdIkfQUywXKcQCYZ9ObESWYgU2Eh56FmdGwh\n",
       "J/H08I4MwRcZ8JVS6nb8kmMvAuWAkdniJJNBb06cJPZyfzdFTNYjMtqvx/3Yi1QNE5Nlfci0UiLo\n",
       "GjJ3Ha5zLMftXgLc/JB0QKbkcJ3dns0aF/cmvesmfskRXody0LvjmPofwcsUx0R8w99dzG8f4ZVs\n",
       "rkOe+zk7IPcv/brUZm4wYwz/E9o/nURmTHZDzQtObLxyblu9M99qHvqmr+wYktkb53Y0xLxg14zP\n",
       "8Ti78a9r5Y3PnNSOdnMPfat2+KrO3V8RGfwOZEpj2K7kTXXadaPd3H3PqiGjcgko2MPzGWRKY9iu\n",
       "5E2JpnK0m7O7YjVkWPZ63S8MmQ7+mY94CmPYruRNKeDK0W7OoW/VkKHZrueh/pDpEL3xEU9hDNuV\n",
       "vKnmt5p7taLd7EPfaiEjTPZ5OOoL9q+v42fxlMWwXcl7ypSpGO1mH/pWCxlpsj1CnSFVihY7v2wW\n",
       "T1kM25W8Z0yZmtFu9qkXtZAhBaFH7Tfmf93zy2bxlG3AeCpvmSlTPdrNPvStFjIl1Y/NN1wrzvll\n",
       "i3iKNmCM571kylSPdrNP8KqEDC/pZDqj6hPjnl+2iKdoA8Zo3kumTP1oty8gg4pCYtu2Rtli55ct\n",
       "4inagPGQ96b4t29Eu3X1O6ahLQOttpvJX8OxiqdkA8ZD3psOfftGtFt985cXdjGVxkyWHSPC1V6y\n",
       "AaOf965D326Kdis+9K0OMqVbt6vKW74fuoJNPAUbMB7z3nHo233RbqWHvlVBRpRqC1HZAOYNhEzB\n",
       "BozHvL/j0LcqyJSfOIu+fLLEQTwZGzD6eX/LoW9VkGnLXa2tehcyGRsw+nl/y6FvNZC5EnMvv6tm\n",
       "4uKJb8AYy/uTD32rgIwwV4JHCPsmMuC5bZfy/uRD31CNhZzkmoOFviDW67HKKNULvzt1F5e99O3f\n",
       "2Wr/WLqsx7q/4JR/Kwm7X/kfcGiXOQVJieQAAAAASUVORK5CYII=\n",
       "\" style=\"display:inline;vertical-align:middle;\" /></a><br>"
      ],
      "text/plain": [
       "forallInduction: forall_{P} ((P() and [forall_{n in Naturals} ([forall_{x_{1}, ..x_{_a}.., x_{n}} P(x_{1}, ..x_{_a}.., x_{n})] =>  \\\\ [forall_{x_{1}, ..x_{_a}.., x_{n + 1}} P(x_{1}, ..x_{_a}.., x_{n + 1})])]) \\\\  => [forall_{n in Naturals} [forall_{x_{1}, ..x_{_a}.., x_{n}} P(x_{1}, ..x_{_a}.., x_{n})]])"
      ]
     },
     "execution_count": 6,
     "metadata": {},
     "output_type": "execute_result"
    }
   ],
   "source": [
    "forallInduction = \\\n",
    "    Forall(P, Implies(And(Function(P, []),\n",
    "                          Forall(n, Implies(Forall(x_1_to_n, P__x_1_to_n),\n",
    "                                            Forall(x_1_to_np1, P__x_1_to_np1)) \\\n",
    "                                    .withWrapAfterOperator(),\n",
    "                                 domain=Naturals)),\n",
    "                      Forall(n, Forall(x_1_to_n, P__x_1_to_n),\n",
    "                             domain=Naturals)).withWrapBeforeOperator())"
   ]
  },
  {
   "cell_type": "code",
   "execution_count": 7,
   "metadata": {},
   "outputs": [
    {
     "name": "stdout",
     "output_type": "stream",
     "text": [
      "Theorems may be imported from autogenerated _theorems_.py\n"
     ]
    }
   ],
   "source": [
    "%end theorems"
   ]
  },
  {
   "cell_type": "code",
   "execution_count": null,
   "metadata": {},
   "outputs": [],
   "source": []
  }
 ],
 "metadata": {
  "kernelspec": {
   "display_name": "Python 3",
   "language": "python",
   "name": "python3"
  }
 },
 "nbformat": 4,
 "nbformat_minor": 0
}
