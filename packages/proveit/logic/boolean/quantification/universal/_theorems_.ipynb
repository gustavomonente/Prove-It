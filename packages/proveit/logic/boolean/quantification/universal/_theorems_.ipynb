{
 "cells": [
  {
   "cell_type": "markdown",
   "metadata": {},
   "source": [
    "Theorems (or conjectures) for the theory of <a class=\"ProveItLink\" href=\"_theory_.ipynb\">proveit.logic.boolean.quantification.universal</a>\n",
    "========"
   ]
  },
  {
   "cell_type": "code",
   "execution_count": null,
   "metadata": {},
   "outputs": [],
   "source": [
    "import proveit\n",
    "# Prepare this notebook for defining the theorems of a theory:\n",
    "%theorems_notebook # Keep this at the top following 'import proveit'.\n",
    "from proveit import Function\n",
    "from proveit.logic import Equals, Implies, And, Forall, inBool\n",
    "from proveit.numbers import Add, num\n",
    "from proveit._common_ import n, m, P, Q, R\n",
    "from proveit.core_expr_types._common_ import (\n",
    "    x_1_to_n, x_1_to_np1, y_1_to_m, P__x_1_to_n, P__x_1_to_np1    \n",
    ")\n",
    "from proveit.logic.boolean.quantification._common_ import (\n",
    "    general_forall_Px_if_Qx, general_nested_forall_Pxy_if_Qx, \n",
    "    general_bundled_forall_Pxy_if_Qx)\n",
    "from proveit.numbers import Natural, NaturalPos\n",
    "%begin theorems"
   ]
  },
  {
   "cell_type": "code",
   "execution_count": null,
   "metadata": {},
   "outputs": [],
   "source": [
    "forall_with_conditions__in_bool = Forall(n, Forall((P, Q), inBool(general_forall_Px_if_Qx)),\n",
    "                                         domain=NaturalPos)"
   ]
  },
  {
   "cell_type": "code",
   "execution_count": null,
   "metadata": {},
   "outputs": [],
   "source": [
    "bundling = \\\n",
    "    Forall((m, n), Forall((P, Q, R), \n",
    "                          Equals(general_nested_forall_Pxy_if_Qx,\n",
    "                                 general_bundled_forall_Pxy_if_Qx) \\\n",
    "                          .withWrappingAt(1)),\n",
    "           domain=NaturalPos)"
   ]
  },
  {
   "cell_type": "code",
   "execution_count": null,
   "metadata": {},
   "outputs": [],
   "source": [
    "bundle = Forall((m, n), Forall((P, Q, R), \n",
    "                               Implies(general_nested_forall_Pxy_if_Qx,\n",
    "                                       general_bundled_forall_Pxy_if_Qx) \\\n",
    "                               .withWrappingAt(1)),\n",
    "                  domain=NaturalPos)"
   ]
  },
  {
   "cell_type": "code",
   "execution_count": null,
   "metadata": {},
   "outputs": [],
   "source": [
    "unbundle = Forall((m, n), Forall((P, Q, R), \n",
    "                                 Implies(general_bundled_forall_Pxy_if_Qx,\n",
    "                                         general_nested_forall_Pxy_if_Qx) \\\n",
    "                                 .withWrappingAt(1)),\n",
    "                    domain=NaturalPos)"
   ]
  },
  {
   "cell_type": "markdown",
   "metadata": {},
   "source": [
    "**Induction to any number of $\\forall$ instance variables:**"
   ]
  },
  {
   "cell_type": "code",
   "execution_count": null,
   "metadata": {},
   "outputs": [],
   "source": [
    "forallInduction = \\\n",
    "    Forall(P, Implies(And(Function(P, []),\n",
    "                          Forall(n, Implies(Forall(x_1_to_n, P__x_1_to_n),\n",
    "                                            Forall(x_1_to_np1, P__x_1_to_np1)) \\\n",
    "                                    .withWrapAfterOperator(),\n",
    "                                 domain=Natural)),\n",
    "                      Forall(n, Forall(x_1_to_n, P__x_1_to_n),\n",
    "                             domain=Natural)).withWrapBeforeOperator())"
   ]
  },
  {
   "cell_type": "code",
   "execution_count": null,
   "metadata": {},
   "outputs": [],
   "source": [
    "%end theorems"
   ]
  },
  {
   "cell_type": "code",
   "execution_count": null,
   "metadata": {},
   "outputs": [],
   "source": []
  }
 ],
 "metadata": {
  "kernelspec": {
   "display_name": "Python 3",
   "language": "python",
   "name": "python3"
  }
 },
 "nbformat": 4,
 "nbformat_minor": 0
}
