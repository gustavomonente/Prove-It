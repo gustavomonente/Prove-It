{
 "cells": [
  {
   "cell_type": "markdown",
   "metadata": {},
   "source": [
    "Proof of <a class=\"ProveItLink\" href=\"../../../../../_context_.ipynb\">proveit</a>.<a class=\"ProveItLink\" href=\"../../../../_context_.ipynb\">logic</a>.<a class=\"ProveItLink\" href=\"../../../_context_.ipynb\">boolean</a>.<a class=\"ProveItLink\" href=\"../../_context_.ipynb\">quantification</a>.<a class=\"ProveItLink\" href=\"../_context_.ipynb\">universal</a>.<a class=\"ProveItLink\" href=\"../_theorems_.ipynb#bundling\">bundling</a> theorem\n",
    "========"
   ]
  },
  {
   "cell_type": "code",
   "execution_count": 1,
   "metadata": {},
   "outputs": [],
   "source": [
    "import proveit\n",
    "context = proveit.Context('..') # the theorem's context is in the parent directory"
   ]
  },
  {
   "cell_type": "code",
   "execution_count": 2,
   "metadata": {},
   "outputs": [
    {
     "name": "stdout",
     "output_type": "stream",
     "text": [
      "Beginning proof of bundling\n",
      "Recorded 'presuming' information\n",
      "Presuming previous theorem (applied transitively).\n"
     ]
    },
    {
     "data": {
      "text/html": [
       "<strong id=\"bundling\">bundling:</strong> <a class=\"ProveItLink\" href=\"../__pv_it/663983a81f2abbb93374d217169f21954072bf560/expr.ipynb\"><img src=\"data:image/png;base64,iVBORw0KGgoAAAANSUhEUgAAA8UAAAAzBAMAAABMP7fGAAAAMFBMVEX///8QEBCIiIhmZma6urrM\n",
       "zMxUVFQiIiJERETc3Nzu7u6qqqp2dnaYmJgyMjIAAAAcRTyBAAAAAXRSTlMAQObYZgAADrdJREFU\n",
       "eNrtnA+MFNUdx3+3O7P/ZvfuYjwi0KbrXUMpxd4pKP5BXTXe0fQPC038E423oQWLoboR61n/njTR\n",
       "s2pZ2gYQgwzQoNJaTi3aM1CnnG0TBF0LtlahbCM1sYn1Agf1ToW+fzM7782/B3c72xQfYWd37v3e\n",
       "ezOfef9+v+8uQNgp1vPDUOq5sacEp1Tq6jFA6bl7vIv9wvFPpPO+wo7xkC65CKdaShbQy0r2YRM9\n",
       "pI8fbx5bqZMfWyObNW18xjhMxkqFHFKPPT5Gxi3yWafAKcx4ba0r0EoiY/g7O6qhMdaabYzJI7a/\n",
       "5owb8SFTrh/avxx/YNG7OupMvTWvarGDccIIm/H6nI3xq/j4r5ozTvejQ6Nex/57DN3qSagNtV/9\n",
       "/drBOHV62Ix/BDbGq3GDemvOmFSxuo6IVbQi1Q4B7Kl9VemsyBieDZmxNmpnjPsW6WQ1no/xUPFq\n",
       "HRlHhtF/xDmEzWKq2cE4boTLON5hZ5zZuXnzqhDWXPs2b366nkuvxBBAbBiSYbThoIOxNhIu4wMl\n",
       "O2P4qK/v7hAYN/X1PWjUkXETWlyu64AIesBTrYsv3+GbecOUn0/P8mfOgeQkv77bloUV5nJj0MEY\n",
       "lobL+A7gGC8EeOhkNoDBMyDHOJaHxAkvd8a+PrIa0W2Ahp7lBFra/wr+mr0X4BpvYEbm1niFO2Vc\n",
       "BpEhH5O00gzttq2SyPiAHiZjdZhnfAWkKnKWbDnetutCfNHB837OzljpIOvNoKTQw5yj5y1DN24c\n",
       "NqtmI9qX7DoH3ec4WnrshNf1r8G3Z3kD09OjCvd8JfsvgUSvj8nj0Qr0mR9edDLekg2TcbSZZxyH\n",
       "iOS2la6+n8jBPB1iEl3sAs4HUoSzZKZNesg042XK4nEYo81GLKcDaQNirlMaXd79GPEUz5wGTVkf\n",
       "E70hC4esMcPJuLESJuOGAs84XZb1dpHrTk5Ej0kBrpfIv4ljvFvK28UYoxpiRXU85m+zEf8BizFQ\n",
       "Gl1+s3dWHF9GoTvvZzJXV4/4MI6MhMm4u8wzTlauOhHG8TLpZQsl8lfdDZjuE2pBnnE8Cw1ZNIWP\n",
       "PbFGqIdZwXibSGn4MUY8IXPx/LbIFNYGNBSf6WtyCUSasQUrWWSc/DRMxu0lnjE89F30suPcKY47\n",
       "mm6bv9DB+Ez8UA5ham4mnE11DsCMEytRF7q8AHc6puApENcFxlvyqXNw68Qm0MTVzJmbqVoPa0SE\n",
       "rULwmusl1P5pfsA0vR0ieuaycsNNEfZgJgrwgC/jB1AWbFFyX3PBhDAZ3w8C4+cRgYh+czwHN/E5\n",
       "p8UqtzkYv0cearTNdDXhbLSCnbGGFyzGKLpMwSbdpM8T+/Hc1rNLsIoVFxMQ0po5czELqcfeiEbm\n",
       "+El3gPJxYihZJsBSx/DzVGFvrE9z+5fDWljzJWjKRQ16OlpQPq2a8Hb4DZwHc8vYAjdktgvjBxlj\n",
       "Mi/vP3nGUvZniIzx3KPCBwDXCxvAfGPZOVbjIHWDofS6m3A2Sq+dMZ4Ek78oRnpFmzVdMFVk/BpE\n",
       "izCHFqf+Xhf3Qx8I5mIWUo+9EdEPj9IZVilCasG0tv1srO7BS22M43ZgL3HU/ze1brgYXcYCmEfG\n",
       "dpwptaBtpGpCcxZsJsjm0hKyuAyX808Xxq8zxmOKD7TIxRdSh0XGGXJ/8JpAHEabSk7Gp6H/b4BS\n",
       "8DCx26gVjvHb+F4bsazDZja6NwLjRyAzBJ2sOOdQPCKai1lIPUIjaKr6MrvIqOy4QS/Z7uhUWKea\n",
       "mdCM7G9yCbaYjfKnii6MD+Qp4zHFB1rk4gvqIZExPT2kOoF1Qz5z0f5zt+VtjBel3kmeDmqvh4nd\n",
       "RuHGalphriHvsLkNWpCJYWf8Md7iXUOLczLGNe/Zvue6P5jmjiy4nj3b94G9ETRVYxIvgusO3FrM\n",
       "J4fQw/NWmma6Gbbk/ExildQwtrhtq2tMAl1IljIeU3ygRS6+oH3sxnhdupImwFbryR+TF/Rv6DUw\n",
       "tK/CZM2wMV4/P/O7HH5ULRNmQK3sNhnDyTg/l68GvcAPlCFtKstDGaujaOt07ZNAiiMA7Qak5ucq\n",
       "Df3bgJnzWdAB1/NcL768jLABs5xtP7sPjR4bnOOctWtCT8f7sHInzXQPLPM1iZcTWWwxvewWW8ST\n",
       "dgdlPKb4QItcfCFzxI3xpr07dpKbP69fnQjzSupEdXLq+9+YrsPCVDGaszFOnf/HQhJntUzUycQA\n",
       "v/A20ZyDsbLgJ3w16B10Tq3AQrXXxvhPR0vqsmxcp8VhgHYDUnMs/yTMBNOcy4IahOuJ5fFAUG0E\n",
       "A8KNc07vT8Z5y3Cmy9vyviZK67nW54fcGDcV2Lp6LPGBFrn4QmTEdawmCQ+i1jCgMTxaR1yz+7lA\n",
       "LawF+IrNRAN3m0ZwMH4aHhWqgf5UCW1oipG99rGaNpVlIgOxzYA1/Xko9pvmfBaN1BOHs3L2RrBU\n",
       "c61PpuTKuJcx9owPeHluDZ4xtVeWLzn/pqpn2fT+spJGPRnPP9xPxUgkDdDHvhDJxb7MMU4em2Sx\n",
       "wCYsp9Nmu5PxEqUiVKOVYsa3kIm228GYVai2XwScAfNffREWlJi5kGWA1LMJtpXtjQg1ORg3VBhj\n",
       "z/hA1KOoDp4xs38DjXaWZ9ny/rKSOMYOfXXGZxgzR7kHUfdQym4DHmeTqjaux9RXf3OXWE0GlH2G\n",
       "w8/Fcru1KyO01zK3N92sx96IMFNXTwGUntvtjIuMsTM+cPXsXGSCk7G69BU4s+BgzOwXAY5zMc+y\n",
       "6f1l2WJDJ91w7nYNBGaP6CdRB3eh2thjiyfViFqkeDNjzMcHUttmlLXenXChcOm/HLwYfpvWo7qD\n",
       "MbO/B3BkhXmWTe+vHOOwvjnx/5xcvyBhMebjA28NbAbtz1Ew0jNmzbioOjw9vEaH7dmONAzOWDqj\n",
       "386Y2qdGIHKn5Vk2vb9uY7VLUz5DNA5ppcuNNcdqEh8w4x0K7qTadddmDbMf07jGFfjt1q0/TTvn\n",
       "YxpfUD6Z/qrlWba8v+aaa+RUZpysucJ7wIOxteYi8QEz3kFW/Vp+55tVxiSuQbBtTT9zvQtjbA9p\n",
       "um6jnmXL+2tOUEcCGNdd7V6L7cwtHy26Ge8xnqp5VUQ84cbY3B+T+IAZ79hIGafTHSZjEtegK8Wt\n",
       "YAy6MCax7QQ9Sz3LlvfXvNzhAMb1V7vXIGHF3v3omt6veU1kY+PCuKnDZEziAyzecXVfX19WyyfL\n",
       "RWvNheMa6h19fcsQ47VxF8bEvonO0dSzbHl/zbVqEOO6q91rkbrRePZyFjIh7KR2uDPeYoA9fszi\n",
       "HTHaj+HKrCUvJHGNAu3Hynx0yAuM6QWViBOZepbRG+r9NXddnwbNx/VWu9citaMtfbsB8RC+Br3e\n",
       "nbEZk2DrAhbvSGOAmZzlVV+t07gGibbsBdjn9GXSGffDC4gTmXqW0Rvq/TX/fDiIcb3V7rVIy9H/\n",
       "W3KwKoSqGnOujF/utzO24h0PY4fJQaAdF/vcaVwjgXIr9+ZoP3frx3RMBuZZ1oTK7g1iXG+1ey3S\n",
       "MdR10MON1VZOfbw4ozok9pxA3i3ZFfZ4+eTC+PUSuGl9Img+tn82t8JT+5a51NPiXMMTz7LokLrU\n",
       "Yfnav3F612R8Ump3mRRcKKcPS469RrM8/IW2F9Fz+6ilj2dhLrfEJPa2RAXyPiZUYc8WtRVXxrcA\n",
       "SOi5Ajx7AmOy+cGeZXEXdEAP6MeSaneZlGMP6+xBXUoR/xs6kC3/zveyMip9yfJQA47uGpyGjneZ\n",
       "+nh1hvdsRCX29kQE8j4mVGFvYiq6Mj5DinEGToSx9xKzP8gHIqd2l0n0upMHQZ0EMor4KH2M0Y7v\n",
       "bimVvmR5kGDOvdMtfbzizVivfuHBPNOABfLeJkxhz8aMITfGyUNSjGF8GNs19O6Md4/bbztQxitK\n",
       "WLYoo4hP0badB3CjlEpfsjxoKlqMmQ9B8bvEQ+IJIpD3MaEKez/G4Wroo0Pu8/F7FmM5tbs843tI\n",
       "15RSxFMfxa3YgbNwPBrAfB7dbF98F/mQD2BMJPZ73mztaDXbgAXyfiZEYY8tWMlOxolimIyV4aB+\n",
       "TNTurup1/mSgIJ4yjuALa/dUxHMnySSROgIbs1Iq/cA2nFXdHuP0qKmP9wNGJfZ7Pw8TdPPHcbBA\n",
       "3s+EKOyRxUTPNRcdykP7burSIMZE7e6qXudV9YGCeMq4sUB6wiqZMl8gjA61TQQplX5gG16ghw9Z\n",
       "nYOmPp4A40Xw5icqsU9uKMIwFsNbAnnLhLezFPbYAk/7UcONcbseKmPfhXXcnI9c1eucqj5YEE8Z\n",
       "N+GJ+HOeiniuzDmEUQVmgSKj0g9swxw61B5nAu4uSx+PgRHtu6WGJy89uimxj2URkLvsAnnLpCqe\n",
       "ZyZUYR/LKhhhY96N8QQIlXGDEcT4bYLGTb3OqeoDBfGUMVqUYq1Cp0yZN5CRz4ADcir9wDbcIFyd\n",
       "ZUoG3pec+1OrcQ35SG9yKG8TyPuaoBm5IR81UP4n3XyZYf9WhDYaxJiuU9zU65yqPlAQTxnHCs/0\n",
       "r8h5K+LtZXYSiP1wtpxKP7ANncL204pJ4F2syw68uodfh/plpteoCuT9TIjCfh3Ev573iEk0doTL\n",
       "GN6VYGyp170U8kyozovoBUE8U2S3ZN85iJ9vF0W8qNTfh0Xx3TrcqK6RUOkHt0Hw6Vuq1+Sso1mb\n",
       "XL7qlLTedUJjKblErwrk/UyIwr4TIru9YovP6iEzXpEPZmyp170U8kyozovoBUE82zttfGQRlMBV\n",
       "ES8q9WeiP6XvWwzXtMqo9IPbMFO4vKcCnEpBAvlAhT11A4uMw/8NNq0oM1aTT7q3Ql6rCuKrWXhB\n",
       "vKXWvSpZ9lDEC0r9SvVPMir9wDZURHdTzfUtfwMXxrGOsBljP5IUYyJN91LID1iC+GoWQRBvMV73\n",
       "D91DEc+XqZWrf5JR6Qe1QauTZElk/BaMD+MT+G3jWFayH/PDV1k4bwnVy9WBjRPEW4wTeEfrqojn\n",
       "y9xo+5OESj+wDRvhf4LxuP228Yn8RvlMb8bjqq/mpDUSivhp9g8DY69/Wl0I81+QwNtruuLCv1H+\n",
       "X1WOFNp1R+nZAAAAAElFTkSuQmCC\n",
       "\" style=\"display:inline;vertical-align:middle;\" /></a><br>(see <a class=\"ProveItLink\" href=\"../__pv_it/663983a81f2abbb93374d217169f21954072bf560/dependencies.ipynb\">dependencies</a>)<br>"
      ],
      "text/plain": [
       "bundling: forall_{m in NaturalsPos, n in NaturalsPos} [forall_{P, Q, R} ([forall_{x_{1}, ..x_{_a}.., x_{m} | Q(x_{1}, ..x_{_a}.., x_{m})} [forall_{y_{1}, ..y_{_a}.., y_{n} | R(x_{1}, ..x_{_a}.., x_{m}, y_{1}, ..y_{_a}.., y_{n})} P(x_{1}, ..x_{_a}.., x_{m}, y_{1}, ..y_{_a}.., y_{n})]] \\\\  = [forall_{x_{1}, ..x_{_a}.., x_{m}, y_{1}, ..y_{_a}.., y_{n} | Q(x_{1}, ..x_{_a}.., x_{m}), R(x_{1}, ..x_{_a}.., x_{m}, y_{1}, ..y_{_a}.., y_{n})} P(x_{1}, ..x_{_a}.., x_{m}, y_{1}, ..y_{_a}.., y_{n})])]"
      ]
     },
     "execution_count": 2,
     "metadata": {},
     "output_type": "execute_result"
    }
   ],
   "source": [
    "%proving bundling presuming []"
   ]
  },
  {
   "cell_type": "code",
   "execution_count": null,
   "metadata": {},
   "outputs": [],
   "source": []
  }
 ],
 "metadata": {
  "kernelspec": {
   "display_name": "Python 3",
   "language": "python",
   "name": "python3"
  }
 },
 "nbformat": 4,
 "nbformat_minor": 0
}
