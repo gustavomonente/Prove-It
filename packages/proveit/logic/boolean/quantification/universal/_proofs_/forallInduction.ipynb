{
 "cells": [
  {
   "cell_type": "markdown",
   "metadata": {},
   "source": [
    "Proof of <a class=\"ProveItLink\" href=\"../../../../../_context_.ipynb\">proveit</a>.<a class=\"ProveItLink\" href=\"../../../../_context_.ipynb\">logic</a>.<a class=\"ProveItLink\" href=\"../../../_context_.ipynb\">boolean</a>.<a class=\"ProveItLink\" href=\"../../_context_.ipynb\">quantification</a>.<a class=\"ProveItLink\" href=\"../_context_.ipynb\">universal</a>.<a class=\"ProveItLink\" href=\"../_theorems_.ipynb#forallInduction\">forallInduction</a> theorem\n",
    "========"
   ]
  },
  {
   "cell_type": "code",
   "execution_count": 1,
   "metadata": {},
   "outputs": [],
   "source": [
    "import proveit\n",
    "context = proveit.Context('..') # the theorem's context is in the parent directory"
   ]
  },
  {
   "cell_type": "code",
   "execution_count": 2,
   "metadata": {},
   "outputs": [
    {
     "name": "stdout",
     "output_type": "stream",
     "text": [
      "Beginning proof of forallInduction\n",
      "Recorded 'presuming' information\n",
      "Presuming previous theorems (applied transitively).\n"
     ]
    },
    {
     "data": {
      "text/html": [
       "<strong id=\"forallInduction\">forallInduction:</strong> <a class=\"ProveItLink\" href=\"../__pv_it/f5a431c32962587fe2c946e940d930b88d84abec0/expr.ipynb\"><img src=\"data:image/png;base64,iVBORw0KGgoAAAANSUhEUgAAAjIAAABLCAMAAABdoJ1LAAAAM1BMVEX///+wsLAQEBCIiIhmZma6\n",
       "urrMzMxUVFQiIiJERETc3Nzu7u6qqqp2dnaYmJgyMjIAAAAld9JPAAAAAXRSTlMAQObYZgAADMRJ\n",
       "REFUeNrtnYt2rSgMQB1BeSP//7WjxxcgAUHl2N6y1nR6qyiGTQiEQNMUJNxDV1TXXEitGZNqbkjX\n",
       "yvGrkyCupCaZt6ErVuLk4kvRANbUtfpuJedc3EGM+kMDTJ1TfWIUuWxDV+xErgm0Nxxi6SKMbX+P\n",
       "UOByoGHo61QM108+Xc5VoAdaoE61T0bfQlc2sNpLaptCxK2wfhuZSDnGDmuXir6xVjUxhhFCBjxr\n",
       "ScGeJZLwCz0wUwAyhyv797UXtL+iz5B4GzKxcowSVnL9xyDurEQzs8hm2Q78YYtkuICML6EdGVh2\n",
       "Q3kPwg3UNhluXoFMrByjhPna/vmtiqBf7HZp0NQocfNwUuiCne/p4R0ZWEN3prhyGPRMacQrkImW\n",
       "Y5Lwqlx2dXOL/WS65f8TOpQ/jYxoI8iw1Otd48JCBjY7hqG4MUFKhl5vWLcgEy3HJGGtxJQ4vbUK\n",
       "mVmMjAmdm58drsIORqZnyXbFAWQkNLjpjLxZyWjDX4FMvBwfCRs2JXrvQHwxZbiZiEULtgIhwju0\n",
       "dCJl2gR6hMKRjinZMToNy0YGbnJDWTvg4EwbvcEyuAOZeDk+Eib9KeVdYsrIGUQ2q2Ix/kNT1NDh\n",
       "VNMPEuM84jhUtpDB1EoGp1qWAJDRUMeuTZHdhKE23JvuFcgkyvGRcIetIcdtpgxRSmE0i5vOOlyJ\n",
       "aXZVNN0otB7jklZqP8LrW2jU/JVDtB8RBgHIOFfcLEVawUCCxm3zCmQS5ZglPAkb3TvVxpy2uQxV\n",
       "pz+xTc5dCTLuI9zGER8xiSE66WFbsw4ysJ3LSmwPCRHYtOQdyCTKMUtY6RmbO00Z53lWZe0S60pf\n",
       "GRZ6AhlOFI+rRQ4ggyAy4NqPJAL3S/oVyKTKMUuYD01P1ukN3CNy5r3RO3vXdqByv9BfRWZ7hMa6\n",
       "R6tlvTzOtmUGJ/GUVaoBZOCZN1PwBaY9wew3kUmVY5Ew42SZRRENGZqPo4bEp5WsOyOzMqsKn4Uu\n",
       "xXhhzluKjP0I3bXjc1sOmL/OiDhtqVn62EUG1tRDfi1L0A5ncRNi8tFJXgGZRDlWCcvVFB1fOHyq\n",
       "t1cJJ8p2JyBMcRwATzMZ03TN4qFckBGrPbj9EvjT+ov9CC7Q9IT1TVjByIgTvhBGIWQYBRtkds+E\n",
       "wdmc1rHQwj46ws8hc8Vv2LJTyNjmwdpyaFLKYBvDgzHEluZMhyAICYTXr1i1DF3fRLfWvP22/zLf\n",
       "5D5ieke3Vu/skg8jc6anVQZCxrrid5HZw0wKDdmFr35CPrrDsJaHkbngNxSp6YhVwlrYVmR/Cpnl\n",
       "To2l1qlpwJDDYOuY5JnPCt00yWdULp/iCtrAyJzpP/RuZXnIaNCdZEx2hbSgNFFoYsvz0fkzmAMO\n",
       "InPBb9inNKcnYW4aNYKsdmQ4E8Ef+50SsfR4KzT7KtdMp6adVchinYrZyd4SZvnyQ0tWHjKwFIdc\n",
       "32QHzuVIr8cK++iEVzLmN+zFlin3G8qUH8STsCC6U0iJHZm+ldMP7v6Q9p2j1k9P5B7mljmmS+cl\n",
       "zhgEoZu6qddCStsquxwZSyN7yMC6GucOjBXoLfBVGeCjG5zvIx1CQWTK/YY61QoiEl75DUHn/I1O\n",
       "84CpmoossToldX0SyQuLnA0BkLGuHOzfzOk3BrZhf2wb9NGtA4nNqj/o93XEVOw3TI71EQUWcvbI\n",
       "4M/XhQZ2zt+mRdVSJev92YWcei4RKlrIuVYSA5FhYD+T2YxbsA0r1y4O+ugab2np1O14Xc+KTLHf\n",
       "UF1fs6NL9cKPS+0AIdOCS4Bz7V8DVgh2rwR9dLYBuOj3aRo2hEzCb9hTPOljdJxywkY0f+ksMhRE\n",
       "huYjEFa1MGLEeD1YwEfXrG6RpeWi4wTCNpUH+A2FVBhPs4Ls4+HFIlGOvxSdCGghZGgLdzRZHWEH\n",
       "jrH9qoJ8dDYyywCFBJEJ+w01k1xM2eTIGw6NQ2FkCKXPL658X+rGz1Y3IjPkDZk0PPfndgigj87y\n",
       "ssjlFsd7tiGz+w0tV1y3PVX2sucogAzcMdF/VpmAkY4U7JgohXVD1phEwUtslDNSCfvoXPN3RUXi\n",
       "EDK739Byxe2ZZT92TLpXiXK8Bhle337eB3kgMgXm79gmSY5HB8ODcuSMpYI+us8Ttkre58Ls6bwd\n",
       "mdVvaLniBLaRGVWMwoly+Mg8E/R21Maeh+3xMLiwPuBJZMB5GXjR0UdtnPfoMBgZe1ko4KP7vGGr\n",
       "ULLdb0/nWZ7sbc56c8X19DNbw9CMzNhyabQcR2SeCno7jiscD9vjYXDh8fCQQgac/W1gT52aPu28\n",
       "R2eAnySjhvTmMNjr2Lq9DyKz+Q13VxxxtEzT9SijHLRpngp6O04COB62CmFw4dpFcWTEbpYcHAYK\n",
       "7k5ok+HRGeAnxRfDQW7Jo6rsAyP7ZnXFqe3qPF0fcCdHoqya5qmgt4BcbQ9b86WR2urRg5ApcUuO\n",
       "apw2GR4dGrGW44sOWHjxwxlkbFcck2tPNzurSEY5aNM8FfQW6MHX4cVUTP4ty3vx6EHIWC5cD5mI\n",
       "c1fPEy1nPTo0srKARnGY7T/GC5Bxm+9iyzT55Zjr7ZGgN8iUmT1sVcLgwj0TjiJjjS4PS6w4bIF8\n",
       "msNZj04b6X2wSY4ydY2FnGA5ZmSeCHqDTJnFw1YlDM5+O/OmNCBkCLgqLzKHviDjeHS6cVykMAut\n",
       "nY4ho29x7lxHBizHjMwTQW8BU8b2sFUJg9sr33ry4tGDkLHWvPrLxWGeu8Vp5Hh09Cd7aBMZE1m/\n",
       "1Bv5CmTActDm+KmPmTIOtjXC4Cyzbn/y4p4BkOGWmeEHpaAYMp+Pczw6hMwtJYRMpA99e+jb8n0P\n",
       "BL0d5eS+oEYYXMOykSkIfRvTfwsyViTYKNB5cMJCyOgCI6IyMlA5FkHeH/QWUHTuqK1GGFwQmS7a\n",
       "MdmRJy4yjMbev6jQzaMzTeNMiCGaacuMGusdYfxQOeg23j8GvaVsk9N3OrMyWw1UCIMLIhM3f8Ew\n",
       "/ibWmay2zB4JNv1NIRWe6qLR5fs37Eh0z2YhOIrMMegtGScZDnrbBup+bs/DlhkGFwmMi4TBBZFZ\n",
       "PHphZBC4WQiKjWQ2ZCyw1FA0L3PPmOmeLYlEDJlj0FsyTrIJBr0tZPq5Dx623DC44y+JMDgyBWC3\n",
       "0w/tIrN49MLIODafg0zUKt2R2SPBInsTDvG1Eq16BTJAOXZ1XR70FkLmRO7nw+CCWmb16AWRKdj4\n",
       "bEHmuPoqMlhmca/Au7dXpIcxZn7QmxMneR6Z58PgbGT2J8fckm7UoY3MgOM6vD22J16KTOJl1ZAJ\n",
       "l8NHpiTobYuTVBhjOv4nTyHzeBichYz15NjiB+n2ps4mriJu2/uCRIPBIDMkEffEL9f4PcgEyxEb\n",
       "oZwOerPjJM9rmcfD4Bwtc+A0gEzJVtGL6soL5MepvdIkfQUywXKcQCYZ9ObESWYgU2Eh56FmdGwh\n",
       "J/H08I4MwRcZ8JVS6nb8kmMvAuWAkdniJJNBb06cJPZyfzdFTNYjMtqvx/3Yi1QNE5Nlfci0UiLo\n",
       "GjJ3Ha5zLMftXgLc/JB0QKbkcJ3dns0aF/cmvesmfskRXody0LvjmPofwcsUx0R8w99dzG8f4ZVs\n",
       "rkOe+zk7IPcv/brUZm4wYwz/E9o/nURmTHZDzQtObLxyblu9M99qHvqmr+wYktkb53Y0xLxg14zP\n",
       "8Ti78a9r5Y3PnNSOdnMPfat2+KrO3V8RGfwOZEpj2K7kTXXadaPd3H3PqiGjcgko2MPzGWRKY9iu\n",
       "5E2JpnK0m7O7YjVkWPZ63S8MmQ7+mY94CmPYruRNKeDK0W7OoW/VkKHZrueh/pDpEL3xEU9hDNuV\n",
       "vKnmt5p7taLd7EPfaiEjTPZ5OOoL9q+v42fxlMWwXcl7ypSpGO1mH/pWCxlpsj1CnSFVihY7v2wW\n",
       "T1kM25W8Z0yZmtFu9qkXtZAhBaFH7Tfmf93zy2bxlG3AeCpvmSlTPdrNPvStFjIl1Y/NN1wrzvll\n",
       "i3iKNmCM571kylSPdrNP8KqEDC/pZDqj6hPjnl+2iKdoA8Zo3kumTP1oty8gg4pCYtu2Rtli55ct\n",
       "4inagPGQ96b4t29Eu3X1O6ahLQOttpvJX8OxiqdkA8ZD3psOfftGtFt985cXdjGVxkyWHSPC1V6y\n",
       "AaOf965D326Kdis+9K0OMqVbt6vKW74fuoJNPAUbMB7z3nHo233RbqWHvlVBRpRqC1HZAOYNhEzB\n",
       "BozHvL/j0LcqyJSfOIu+fLLEQTwZGzD6eX/LoW9VkGnLXa2tehcyGRsw+nl/y6FvNZC5EnMvv6tm\n",
       "4uKJb8AYy/uTD32rgIwwV4JHCPsmMuC5bZfy/uRD31CNhZzkmoOFviDW67HKKNULvzt1F5e99O3f\n",
       "2Wr/WLqsx7q/4JR/Kwm7X/kfcGiXOQVJieQAAAAASUVORK5CYII=\n",
       "\" style=\"display:inline;vertical-align:middle;\" /></a><br>(see <a class=\"ProveItLink\" href=\"../__pv_it/f5a431c32962587fe2c946e940d930b88d84abec0/dependencies.ipynb\">dependencies</a>)<br>"
      ],
      "text/plain": [
       "forallInduction: forall_{P} ((P() and [forall_{n in Naturals} ([forall_{x_{1}, ..x_{_a}.., x_{n}} P(x_{1}, ..x_{_a}.., x_{n})] =>  \\\\ [forall_{x_{1}, ..x_{_a}.., x_{n + 1}} P(x_{1}, ..x_{_a}.., x_{n + 1})])]) \\\\  => [forall_{n in Naturals} [forall_{x_{1}, ..x_{_a}.., x_{n}} P(x_{1}, ..x_{_a}.., x_{n})]])"
      ]
     },
     "execution_count": 2,
     "metadata": {},
     "output_type": "execute_result"
    }
   ],
   "source": [
    "%proving forallInduction presuming []"
   ]
  },
  {
   "cell_type": "code",
   "execution_count": null,
   "metadata": {},
   "outputs": [],
   "source": []
  }
 ],
 "metadata": {
  "kernelspec": {
   "display_name": "Python 3",
   "language": "python",
   "name": "python3"
  }
 },
 "nbformat": 4,
 "nbformat_minor": 0
}
