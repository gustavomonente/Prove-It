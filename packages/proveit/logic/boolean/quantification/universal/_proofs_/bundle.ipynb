{
 "cells": [
  {
   "cell_type": "markdown",
   "metadata": {},
   "source": [
    "Proof of <a class=\"ProveItLink\" href=\"../../../../../_context_.ipynb\">proveit</a>.<a class=\"ProveItLink\" href=\"../../../../_context_.ipynb\">logic</a>.<a class=\"ProveItLink\" href=\"../../../_context_.ipynb\">boolean</a>.<a class=\"ProveItLink\" href=\"../../_context_.ipynb\">quantification</a>.<a class=\"ProveItLink\" href=\"../_context_.ipynb\">universal</a>.<a class=\"ProveItLink\" href=\"../_theorems_.ipynb#bundle\">bundle</a> theorem\n",
    "========"
   ]
  },
  {
   "cell_type": "code",
   "execution_count": 1,
   "metadata": {},
   "outputs": [],
   "source": [
    "import proveit\n",
    "context = proveit.Context('..') # the theorem's context is in the parent directory"
   ]
  },
  {
   "cell_type": "code",
   "execution_count": 2,
   "metadata": {},
   "outputs": [
    {
     "name": "stdout",
     "output_type": "stream",
     "text": [
      "Beginning proof of bundle\n",
      "Recorded 'presuming' information\n",
      "Presuming previous theorems (applied transitively).\n"
     ]
    },
    {
     "data": {
      "text/html": [
       "<strong id=\"bundle\">bundle:</strong> <a class=\"ProveItLink\" href=\"../__pv_it/fccbe1069943423c3b103b7d4cd35c698f2641220/expr.ipynb\"><img src=\"data:image/png;base64,iVBORw0KGgoAAAANSUhEUgAAA8UAAAAzBAMAAABMP7fGAAAAMFBMVEX///8QEBCIiIhmZma6urrM\n",
       "zMxUVFQiIiJERETc3Nzu7u6qqqp2dnaYmJgyMjIAAAAcRTyBAAAAAXRSTlMAQObYZgAADl9JREFU\n",
       "eNrtnA+MFNUdx3+7O7P/ZvfuYjgi0KbrXUMpxd4qKv5BXTXlaNKWhSaK0XgbWrAYajdiPevfLU30\n",
       "qFqWtkHEICM0qLTK+gctBtop2DYB1LVgayuUbaRNbGO98Mf28A99/2bmzczb2bfc7pwpPsLO7tz7\n",
       "zXszn/f39/vuAgSdooPfC6Sc6wfLcEql/kEDlME7Wn3Zz5z4QDrvS+wYC+iWi3CqpUQBvaxiHzbS\n",
       "Q+rEia7RXXXSQ2tks6aMTxgHyVipkUPyoYdHybhbPutkOIUZr213AVrZzRj+yo5qYIy1Lo4xaWIH\n",
       "2s64Ax/S1bFD+8cT9yx6S0edqdT2ohZ7GMeNoBk/muMY78bHf7adcaqCDh36GPbfj9Cjnojq0P7V\n",
       "31MexslxQTP+AXCMV+MKldrOmBSxegwRq2hFqh0G2Nv+olIZN2N4OmDG2nGeMe5bpJO1eT7GQ8Xu\n",
       "MWQcPor+I84BbBaTXR7GMSNYxrEszzi9a9OmBwNYc+3ftOmJsVx6xYcBokchEUQdDnkYayPBMj5Y\n",
       "5hnDf4eG7giAcefQ0L3GGDLuRIvLdVkIowae7Fl8+Q7fzOsn/3RaxnnmbEhM9Ou7vRlYaS43dnoY\n",
       "w9JgGd8KDsYLAZafzAaw8QzoYBzNQ7zp5c7o10dWJQYM0FBbjqOl/S/gT5m7AObXB2akb4rVHKeM\n",
       "yyA87GOSUrqgj9squRkf1INkrB51Mr4CkjU5S7Yc791zIb7pxvN+jmesZMl6s1FS6GH2e+ctQw+u\n",
       "BZtVsxJ9S/acjZ5zDC09dsGr+pfh6zPqA9NTxxVH+0pULoF4ycfk4UgNhswPL3gZb84EyTjS5WQc\n",
       "g7DktpWuvh/JwVwdohJd7AKHD6QIZ8pMm/SQ7sLLlMUtGKPNSqygA2kIMdcpjf76/RjxdJ85DToz\n",
       "PiZ6KAOHrTHDy7ijFiTjUMHJOFWV9XaR+05MQM2kANdK5N/oYPyylLeLMUYlRItqK+ZvsxL/AYsx\n",
       "UBr9frN3xj2+HIeBvJ/JHF095sM4PBIk44Gqk3GidmUzjGNV0ssWSuS33Q2Y7iNqQZ5xLAOhDJrC\n",
       "R59YJdQj7MJ4m0hp+DFGPCF98bze8GRWBzQUn+FrcgmEu7AFu7KbceLDIBn3lZ2MYfk30cuOcyd7\n",
       "nmiqd95CD+MzcKMcxtREJg4bew7AjOOrUBe6vAC3eabgyRDTXYw355Nn49q5q0CTo2SHuZnsclgl\n",
       "wmwVgtdcL6L6T/UDpul9ENbTl1VDN4RZw4wX4B5fxvegLNiiLF5zwfggGX8fXIyfRQTC+o2xHNzg\n",
       "zDk1WrvZw/gfpFGjbabQxGGjFXjGGl6wGMfRbbpsUp36XHc/ntNzVhkeZJeLuhDSkh3m7iykHL4S\n",
       "Hczxk8qC8n58OFElwJIf4fZUY2+sT3MqK2AtrPkcdOYiBj0dKSgf2iZOO/wGzoM5VWyBKzJTwPhe\n",
       "xpjMywdOnrGU/eluxnjuUeEdgGtdG8B8R9U7VuMgdchQSmITh41S4hnjSTDxs2K45LZZ0w9T3Ixf\n",
       "gUgRZtPLqb/R3fuhd1zm7iykHL4SkXffozOsUoTkgqm9B9hYPYiX2hjHLcBeYqj/b+xZfzG6jQUw\n",
       "l4ztOFNyQe+IbUJzFjgTZHNpGVlchq/zdwHjVxnjUcUHuuXiC8kjbsZp8nzwmsA9jHaWvYxPQ/9f\n",
       "A6VQx4S3UWsOxn/Bz9qIZjw2M9GzcTG+H9LDMItdzjsUj7jN3VlIOa5K0GT7MvvJqOx5QC9yT3QK\n",
       "rFPNTGhG9je5BFvMRPmTRQHjg3nKeFTxgW65+IJ62M2Ynh5WvcAGIJ++6MC52/Ic40XJNxPjQC3V\n",
       "MeFtFMdYTQvMhfIem5uhG5kYPOP38RZvPr2clzEuee/2vdf81jT3ZMHl7N2+H/hK0GTHJF4A4Q7c\n",
       "WswnhlHjeSNFM90Im3N+JtFa8ii2uHmLMCaBbiRDGY8qPtAtF1/Q3hcxXpeqpQiw1Xrih+QF/Rt+\n",
       "BQztizBJMzjGj85L/yqHm6plwgyoFW+TNryM83OcxaAX+K4yrE1heShj9TjaOl39GJDLEYC8ASn5\n",
       "mVqosg2YuTMLOuByninh20u7NmCWs+0nd6PRY713nLN2Tah1vA2rdtFMd8IyX5NYNZ7BFtOqotgi\n",
       "nrSzlPGo4gPdcvGF9DER4437duwiD39uRZ0Ac8vqBHVS8ttfmabDwmQxkuMYJ8//XSGBs1om6iRi\n",
       "gF+cNpGch7Gy4EfOYtA7mDWlBgvVEsf49++V1WWZmE4vhwHyBqTkaP4xOAdMc0cWVCFcTjSPBwK7\n",
       "EgyIY5zzen/S3keGM13em/c1UXrOtT4vFzHuLLB19WjiA91y8YXwiHCsJgkPotYwoDE8Wjam8X4u\n",
       "UAtrAb7AmWggtukAD+Mn4AFXMVBJltGGphjex4/VtKosExmIOQNW9WehWDHNnVk0Uk4MzszxlWCp\n",
       "7VqfdFnIuMQY140P1PPcGk7G1F5ZseT8G2zPsun9ZVc6XpfxvCMVKkYiaStt9oVwLvp5B+PERxMt\n",
       "FtiE5fTabPcyXqLUXMVo5ajxNWSivexhzApU+y4ChwHzX30WFpSZuSvLVlLORthW5SsRaPIwDtUY\n",
       "47rxgUidS2WdjJn9a2i0szzLlveXXcnB2KOvTvsMY+Yody/qHkpVNOA5bJJ25QZNffVX97iLSYOy\n",
       "3/D4uVhuUb3Srvpa5nzVzXL4SgSZ+gcLoAzewjMuMsbe+MBVM3Ph8V7G6tKX4IyChzGzXwQ4zsU8\n",
       "y6b3l2WLDp90xR2Pa2vD7GH9JMpw3Kg2+tjiSVWiHSnWxRg74wPJbdOrWmkXXOi69Z/vvBh+mdIj\n",
       "uocxs78TcGSFeZZN768k46C+OvH/nETfkLAYO+MDb2zdBNofImCkps+YfpE9PN23RoftmWwKdk5f\n",
       "Or3CM6b2yREI32Z5lk3vr2isFrW3TxC1IK3yPldzrCbxATPeoeBOql1zdcYw+zGNa1yB327Z8uOU\n",
       "dz6m8QXlg2m7Lc+y5f0111wjpzTjRNsl3lvFjK01F4kPmPEOsurX8rtetxmTuAbBtiX15LUCxtge\n",
       "UnTdRj3LlvfXnKCONWQ8Krf5xzSZEvrH214SUU8IGJv7YxIfMOMdGyjjVCprMiZxDbpS3ALGTgFj\n",
       "EtuO07PUs2x5f82R/mhDxoHI6oNOTEL/dtsLIjsbL+POrMmYxAdYvOOqoaGhjJZPVIvWmgvHNdRb\n",
       "h4aWIcZrYwLGxL6TztHUs2x5f821amPGgcjqA05MQp8OYCu1Q8h4swF8/JjFO6K0H8OXMpa8kMQ1\n",
       "CrQfK/PQIe9iTNJAmTiRqWcZvaHeX/NmPxRWbDnHOBBZfcCJSehjAXwP+lEhYzMmwZYFLN6RwgDT\n",
       "OcurvlqncQ0SbdkHsN/ry6S38+4FxIlMPcvoDfX+mn8+IqzYfI5xILL6gBOT0AdxWx05EeNfV3jG\n",
       "VrzjPuwwOQS042KfO41rxFFu5a4c7eeifkzHZGCeZc1V2F3CilmDWFCy+oATk9BjuZVXIO+eUT0a\n",
       "e4dCXmjCZcDrJy/jV8sg0vqE0XzMfzaHzylDywTFdHuX8MSz7HZIXer2LA2SdIRjfJKy+oap8UCZ\n",
       "bzK/9PWYhP4BSyCv1l9wMI09l6hC3seEl9CnayLG3wGQ0HM18Oy5GJN9IPYsuzeEB8XtUfuXzVhe\n",
       "Vt8o5VhrnblTl5LEP0dHshXf+FamJRL658w3TEJ/uymQV6fXVwJTjT2fiELez4SX0GtFEePTpRin\n",
       "oRnGddNAndXUU+MsxvKy+kaJtvzEIVAngowkPkLbMdry3QGtkNBHzH7BJPTjLIG8Uh+Ybn/jwTwT\n",
       "wgp5P5OQLaFXhwWME4elGENrGPMaer4SS8oWY3lZvRzjlWWsW5SRxCdp5c4DuB5aIaFPmjfLJPTj\n",
       "LCeC4qfoP+w+QRTyfiachF7IOFgNfcQVlIj8m6ayPVbLy+rlGN9JuqaUJJ76KG7CHpyWSOiZz8OU\n",
       "0N9ORrJ8A8YE197Xe7I9prgbK+R9TTgJvSIaq+PFIBkrQieIUuPWXLKyepEi3nmSMA7jO+uTk8ST\n",
       "70Qlj8GGTGsk9Gfa22OcHjAF8n7AqMZ+36dhvG7+Og5WyPsy5iT0wjUX/XJNYN9NXSqcjXWesaSs\n",
       "XqSI5+TrJuOOAmnoUpL45wm3w70ToDUS+ufZnpVF23aaAnkCzKuex2+oxj6xvghHsRreUsgTE4F6\n",
       "3i2hjxgCxn16oIyFC+uFwDOWk9ULFfGcfN1k3Ikn1k/JSeJnE241mAGtkdDPpvORKaHvtwTyGBgR\n",
       "v9vqedwUB3VTYx/NICK38wp50o8dqnvyxi2h78gLGI+HQBmHDL+tazOyeqEi3pavm4zRmhOLFaQk\n",
       "8deRycuAg9AaCf11zj/YvkwC7EXvFtK6UigfLiWG85xCnpg0ltA/JvBlBv1bEZqvSqAZWb1QEW/L\n",
       "103G0cKTlZU5OUn8LNKQKnAWtEZCP6uOO4/sYgVflLf35OtQT06XDFshT00aS+hFMYmObLCM4S0p\n",
       "xo1k9Uyp7lbRc/J1k3GyO/PmIdy+G0viYT9WxQ/ocL1abk5CX6cOLqe+5b9LzECjd9Lr0rQV8rOg\n",
       "o5xYotsKeWLSWEIvjC0+rQfMeGVehnEjWT1TqrtV9Jx83do7bbh/EZoMZCTx6P/cSuruxTC/B5qT\n",
       "0Nepwzmu23u8gVepoUK+YYa4QCMQ/G+waUWpsZokH1m9ZivieRW9LV8HW657ZaIqJ4mv2X9qUkIv\n",
       "roPbJ9t+rc+fwcs4mg2aMXYjSTL2k9VvtRTxDhW9LV/nGK/7my4nia9yf5LJb0vohXXQxugXOl2M\n",
       "34DWMG7it42jGel+DPVl9ZxSvSo6yTOO4121hCR+A3+iOQm9sA4b4OPAuGW/bdzMb5Sf48O4pfpq\n",
       "h7RGQhI/tcn8TV0vsOT8hgQadOiKC/9G+f8AyLAsDIR0VtEAAAAASUVORK5CYII=\n",
       "\" style=\"display:inline;vertical-align:middle;\" /></a><br>(see <a class=\"ProveItLink\" href=\"../__pv_it/fccbe1069943423c3b103b7d4cd35c698f2641220/dependencies.ipynb\">dependencies</a>)<br>"
      ],
      "text/plain": [
       "bundle: forall_{m in NaturalsPos, n in NaturalsPos} [forall_{P, Q, R} ([forall_{x_{1}, ..x_{_a}.., x_{m} | Q(x_{1}, ..x_{_a}.., x_{m})} [forall_{y_{1}, ..y_{_a}.., y_{n} | R(x_{1}, ..x_{_a}.., x_{m}, y_{1}, ..y_{_a}.., y_{n})} P(x_{1}, ..x_{_a}.., x_{m}, y_{1}, ..y_{_a}.., y_{n})]] \\\\  => [forall_{x_{1}, ..x_{_a}.., x_{m}, y_{1}, ..y_{_a}.., y_{n} | Q(x_{1}, ..x_{_a}.., x_{m}), R(x_{1}, ..x_{_a}.., x_{m}, y_{1}, ..y_{_a}.., y_{n})} P(x_{1}, ..x_{_a}.., x_{m}, y_{1}, ..y_{_a}.., y_{n})])]"
      ]
     },
     "execution_count": 2,
     "metadata": {},
     "output_type": "execute_result"
    }
   ],
   "source": [
    "%proving bundle presuming []"
   ]
  },
  {
   "cell_type": "code",
   "execution_count": null,
   "metadata": {},
   "outputs": [],
   "source": []
  }
 ],
 "metadata": {
  "kernelspec": {
   "display_name": "Python 3",
   "language": "python",
   "name": "python3"
  }
 },
 "nbformat": 4,
 "nbformat_minor": 0
}
