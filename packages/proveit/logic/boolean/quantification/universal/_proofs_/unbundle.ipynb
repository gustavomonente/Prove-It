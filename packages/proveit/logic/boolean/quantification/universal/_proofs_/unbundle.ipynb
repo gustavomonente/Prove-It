{
 "cells": [
  {
   "cell_type": "markdown",
   "metadata": {},
   "source": [
    "Proof of <a class=\"ProveItLink\" href=\"../../../../../_context_.ipynb\">proveit</a>.<a class=\"ProveItLink\" href=\"../../../../_context_.ipynb\">logic</a>.<a class=\"ProveItLink\" href=\"../../../_context_.ipynb\">boolean</a>.<a class=\"ProveItLink\" href=\"../../_context_.ipynb\">quantification</a>.<a class=\"ProveItLink\" href=\"../_context_.ipynb\">universal</a>.<a class=\"ProveItLink\" href=\"../_theorems_.ipynb#unbundle\">unbundle</a> theorem\n",
    "========"
   ]
  },
  {
   "cell_type": "code",
   "execution_count": 1,
   "metadata": {},
   "outputs": [],
   "source": [
    "import proveit\n",
    "context = proveit.Context('..') # the theorem's context is in the parent directory"
   ]
  },
  {
   "cell_type": "code",
   "execution_count": 2,
   "metadata": {},
   "outputs": [
    {
     "name": "stdout",
     "output_type": "stream",
     "text": [
      "Beginning proof of unbundle\n",
      "Recorded 'presuming' information\n",
      "Presuming previous theorems (applied transitively).\n"
     ]
    },
    {
     "data": {
      "text/html": [
       "<strong id=\"unbundle\">unbundle:</strong> <a class=\"ProveItLink\" href=\"../__pv_it/d9ab4a5c2407329c40a703085173ff67bcd235f20/expr.ipynb\"><img src=\"data:image/png;base64,iVBORw0KGgoAAAANSUhEUgAAA98AAAAzBAMAAAB8s6bnAAAAMFBMVEX///8QEBCIiIhmZma6urrM\n",
       "zMxUVFQiIiJERETc3Nzu7u6qqqp2dnaYmJgyMjIAAAAcRTyBAAAAAXRSTlMAQObYZgAADpVJREFU\n",
       "eNrtnA+MFNUdx3+3O7OzO7N7dzE9ItCm611DKYXeKihWEFdNOZtW2aOJYjTe5lqwGKoboZ7170kT\n",
       "PastS9sgYpARmrPSWlYtWgzq1LM1RdS1YGsryBptE01aL/yrh8r1/Zv//97enzmDPMLt7Mzv996b\n",
       "/ex78977ve8CfApSoudHcDKNLgk9t0RQyheHP+a2fcH/knSS1xikdf6X+ulLeni4eXRlTL1/A69p\n",
       "WjsJfMKACzXyIt//wCiBt/CbToPPLPBUdbxL2BECHN5ir2JkwJXmYODkK7j/xAL9t+E7l72jAvx6\n",
       "/AdB5RDgSS1q4A/lg4G/hF/fP8Ga9nH0SU8BeG/cC5JrIcDlz0UN/McQDHw97vp6TyzeIhrRKgch\n",
       "kxv/op4PAQ6PRQxcORYCvBF1fenKiQU8dhj9/xik8vgX9VAYcEmLFriUCwGe2bV1630nWI+eHERP\n",
       "18MQxW015kOAK0PRAj9QDgEOH/b13XKCAW9CT9ZNOWhDh5un/XJmNvAp3Lr8guftZ9qysFYNcrEY\n",
       "pHMhwGFltMBvhDDgSwHuHo9PPbw/LdRpz51flwYK+hL/FLHRMtdLNRD9Bym/hb9nb7MvXAjN0B7k\n",
       "Qg1oytTCgB9QowQuHg4FfiEdao5BYvOB2PwBPC4It/89XZtY893vZ7ns+fJDqX3F7jNQFW5Guarp\n",
       "Y0JZnF3yddoFr6rftJ15IF6DviAXYqD32KUw4NuyUQKPN4cClyA2RusTtE2k3gURTYmWc1SONurX\n",
       "AG7hsufMD2AN7W/RjEiGJK6V4E9PNdgZZxqycDDQhRiwFjUYBryxFiXwhmIo8HR1rNbbKPC16GM/\n",
       "C0SNYxJLK3cWwNVc9pz5AfwPdODoeZ4NBg4GOyMtUsUjgS7EgBd4bChK4F3VUOCp2qVjCvxW0mgT\n",
       "BQ4HujByPcApfPZ8+YF4iL7eTD6BQghwwm7P66251qXszAKINQe6YIPMuYvbWM7BwFOfRAm8vRwK\n",
       "HO7+Hl5AOHOa6yNPty1ear67oAg3uTKwnSTAY/jO2nHOdndjpcJS0CzSLo/AliyfPQjTQFL96zDL\n",
       "nIbjhAZtitoOMTWI3tOxQZgBe78Ak1Q96nAnJIuBwLFB5vxqQ5ln0AaTogR+B4QDfwLdWky9VsrD\n",
       "NfarMxK1VeY77RiqtMOCnrQBbyySJnAfc084+NCCWHqSQDzYNhn47CHdpHa6TMw6PMmemmyxaQB1\n",
       "vpU1sJG2w20IjXwc2B/9nfBRcjBVTW0uwWGYT0+jZ8yiKnGxWdJrhsGGL0MTqkhcCwV+FwNOnuX7\n",
       "Rw6cy/9UDuD4KSfCfwCunOKY5jRaHgipX5VivU4LctIOvAk/jD8PF1F38Y8OOqQgPV1EINZgLvDZ\n",
       "w4YOmO40sdThIjp2++AonXl3APS3bj63SoFLuBu4AdgfCX8ve1SQu2e0oQ8xkUVEbmZG/a3nlWkL\n",
       "RwbU0nAxDbrhfPzlKoQCf5UBH1XUooUv6iEf4gCeIR8gHlo4u+wm6wMhriWyLgty0gYcjWAh0wwL\n",
       "mbu7Bx4yD68iy2IaHAA+e0CNsNtlYtbhKsfdGdUn9J52r4IZOTUUYr2pwYJutIC5KO71F8OgBeaL\n",
       "AA9DKPADBQp8VFGLFr6oh3iQAzgbbYpu4F1QyMzbf+ZO8hCV8g0FlwU+ueeZfRbgieKjlbV5WELd\n",
       "3QBxQXue2XPFn4BShqYKnA589gCr0J07Tcw6LLRfMIMneLYM7nmAOfffhNp4plcjRomafJi5eCwO\n",
       "6AapQVi1nSN4gm4rS4GPKmrRwhf1UD7iBL4pXUsT4OvV1E/IH/Rv8BXQlK/BVEUDdFIqLCIW7Dr9\n",
       "g08+3itZgMst2Tffxd984k7omObrVVLQ47WGyk5kuw+dgC4VrhbLPPbI+IfCIDbxqcM+x+3pK4ip\n",
       "uaiTl90rrJuNo4XQWE6tUImRVE1mqYvFwOgzdQOhCDOr4eFR/NjPUeCjilq08EU9Mkc4gffvfX4X\n",
       "wdlZESdDZ1mcLE6Vf/DtmSoslUvxPIhTQej+GbFAh/g6/kNPJgpLrNOyLfcugzKiQt0xQCNPdEQK\n",
       "ShQehjnIdA46kb59OSxp5bLvrMDC6TVs4lOHOY7bs22AyLhv3z1nxUZC65ncBslyOPCmIhuljyZq\n",
       "gUfpHP6xId4unSTcYRt9hkJfSkpOUvC7R/A05ybzAugnJZiVtwAHuDRVhRjLh/S/Zj9UYcU+AaUK\n",
       "GXfql7jsK3I5WSUm3nVwLhGP/xanfwAH8F4G3Ddq4besrNmBU39hzYqzyWSpbfc5dKh69KzVRk7H\n",
       "6gG++FAFFGOgs4OtXsXyia/gdyuEGrFgF6gJPtkPO6s24JveVvU3Yvs8sOTJjvrhS9BdBqVqucRj\n",
       "X05ol1ATzzoo487XO4UAb6gx4L5Ri7iPZ84OnPm/BvAienkwD51kNIOGyJL+1YiHAXftS8/49HdV\n",
       "uHi364LlpBV4Es/eL/bK096tbrGe4LDPgLBPC6jDlgnBLfTcEAK8xIC7oxaXzc/HJrmBiytfgNOK\n",
       "LuDMfxle2ILUZORH1pLR34S+SpQYjPLWbXstlPBw54w67evK79OTpGYG3B61kHfOriq9u+AcB/Df\n",
       "DJwLf0ircdUFnPnfCjjeI1VJ28b5Z8lcOAz41T3lKO72M6dt6ejRHGIUA7g9avHGjq2g/DUOWnr2\n",
       "3NnzzG7sng0qPJPNpWFg9srZFStw6i8PQQwNpU7DAx+Cd1tBPgPCu/RSRF9v+KylVNHxWJf0Lp1E\n",
       "LXDQJTatAAJuvsoVl2c1vYXTcMyF+HD79p+n3c9wGvUQPp6J19z+jfGSIcGi1tONtpseOgncTBvH\n",
       "uwDyWHIBNwZtJGqBgy7XxIrQSBwKu143gZNwDGG4Pf3olR7AnyjRpWicsNSsgYxoXoG4ATN2JAD4\n",
       "qBbz+YGTO8tUJ45z5roPl12LnpRy77gXtdwTuD4PJ1ELHHTJxzU6wlQKabwpjgIn4RiZQN4O2oAH\n",
       "cBLbT9Kzp9DxOkr3QsZ4cmcOBwCPRIIg0dXARnUCWzbe03iHCo3jP2j5nRfwppwOnEQtuqETpApc\n",
       "1tfXl1UKqWrJGLThcIx4Y1/fagR8o+QBnPg30ef6MvnNFBU5fGTZ16QEAY9EgiDRItZPZFfehXq+\n",
       "57KwZ/xLSmc9gG/TwBoPb4HpsEmEBG3h8I0sDgmyK/NFKNIWLiwG2y5PMx7eVSbL2w8tzjybxwfi\n",
       "MTQru1yf0H3iqFGybAKPRIIg0U7kpYkE3p5H/zWIYLogN3sA14MnbEw3iFryG2lIY5qZPGTYysJ6\n",
       "lYZjSJBorysuYACPffB1srwtn/3nYgofvHi0LK7Wp2XgDI+am29L0UgQEPB9W7c+UppI4GvQ/+vy\n",
       "qSjq8K4H8OcqVuBCEd6DdbsA7sFzOGRfpOc7KzQck0TWwm152gN4tXDadeMsixuta8w03eas0R7L\n",
       "KD0KCQIC3tTXd5c2kcCPIwqHIJbzUh242qjLYvMZkJoS5GI1GPAA/moZvLY4xdAz3Ppe72un9632\n",
       "KMQBHC8tp45Psa4x03SeeTi3B6fbcybwkUoQ6pEYIOCJguVJwj2bHT1nvRJYWviUBsmqoTpY4u/k\n",
       "1iVo5+MFjgAXakDTWx7ArwPg2NMWstLoAE4mPXfl3fG8A67R8bMVAzi/BCHPvpT1SQwYcCFHRq+c\n",
       "hbDYzxh0CXolYkd3D8wAPDJmqoPvzPV3cukSUpUFkOwNcKEG7M1THsBP5QKegXqA+w9QXYMy+e28\n",
       "DpxfgkDvp26JAVt4KenbSXkKobGfxBhMofRKJOlyY0PeUB10+Du5dAkymvGi+a+/CzNgn7cbeOog\n",
       "F3AYG+BuIcK6vxgtnF+CQFnULTFgwF/mW9ajhcRJ7OfKsRgys0o0lQzgTHXQEeTm3BUmHMN72wNc\n",
       "qIEv8GiFCHEzerLgvyS9Zz7D+SUIlEXdEgMG/EGxyF8Ijf0sHYvBGqtEFx22SGSwfCQMuEuXEK/h\n",
       "QEWACzHAHjRnJ/BkKUrggnPl5RLLKN1fguA8SVjULTHQgSfX5b11DHZdAQVOYz8ln3qFayMsec4y\n",
       "p+G4FlVddRBEz61LSBbhzkAXYoA8JnsP2mh3H5lceKWjm3vfCtxXgmDf/j9SiYEOXMEjHi8dA9EV\n",
       "OICT2A+aM3vWi0MbYcmTVeIDWtF0jqkOCD23JIEc2HUJ5HS8KHxCgbslCYYB9sBDhflu4O1qpMAd\n",
       "w3SzPy5BgATBvv1/pBIDHTh+LHrqGLCuwAmcxH6EXu96cWgjLHnSSiwY7qZNv6SrDgg9rDEw9QXk\n",
       "APUWDl0CNpK724aoiyFloJKEIlgMElkBI/2XG/gkiBR4g+YzvcXA/SUI9u3/I5QYGMD/CT46Bqwr\n",
       "cAAnsR+h6FevcG2EmadDl2AurWJ6vhoDcqtMl0CNcNi5w25gzJ51g4ZCXCuAXHIBj/onP3x/1McY\n",
       "OHtKEOzb/0coMTCAkwMvHcMqaMnM269ZgZPYD14B9qwXhzbCzHOhzyIjni37aAxY0nUJ2Oha2Jan\n",
       "Lj5SBmKwCaRvFbyCJ425aIHDOyHA3RIEp1wARiQxcAFnOgarC9YVKNP1qpBCaOwHtRSjXlbRgY82\n",
       "widPR/zBWO77xe3dfhoDlnRdwmYyN1nNXHykDMRgIcRe9gyPPqZGDHxtIRi4W4LglAvAiCQGTuC6\n",
       "jsHqQnQFS/WADnlhsZ+bzHpZRQc+2gifPB26BPsGiCrPWhc2uqCtwGtAVqrtwKP/YT6lFNKlk2ST\n",
       "IDi2/8PIJAYO4IaOweJCdAWl2F6wFYLTVy31sooOaNVd2gjvPJ3rxuO+xSnj3uKUyEUNHP+iRihw\n",
       "uwTBvv3fyqIOiYETuK5jsLpgXYFcVF52A0+a9bKJDugKmlMb4Z3nBOkS7MDfgLEBXsfPZyeyHC0c\n",
       "/Lf/W1nUITFwAtflAlYXQ1fgAi5UvTpfP22Ed54To0uwAx+zn8+u5wfy53ie7alnX/rIJQYS/750\n",
       "WyE7Rv/JT4wuoaOnaBGj9LNFn+Hh5v8DHBs8dLNu8ecAAAAASUVORK5CYII=\n",
       "\" style=\"display:inline;vertical-align:middle;\" /></a><br>(see <a class=\"ProveItLink\" href=\"../__pv_it/d9ab4a5c2407329c40a703085173ff67bcd235f20/dependencies.ipynb\">dependencies</a>)<br>"
      ],
      "text/plain": [
       "unbundle: forall_{m in NaturalsPos, n in NaturalsPos} [forall_{P, Q, R} ([forall_{x_{1}, ..x_{_a}.., x_{m}, y_{1}, ..y_{_a}.., y_{n} | Q(x_{1}, ..x_{_a}.., x_{m}), R(x_{1}, ..x_{_a}.., x_{m}, y_{1}, ..y_{_a}.., y_{n})} P(x_{1}, ..x_{_a}.., x_{m}, y_{1}, ..y_{_a}.., y_{n})] \\\\  => [forall_{x_{1}, ..x_{_a}.., x_{m} | Q(x_{1}, ..x_{_a}.., x_{m})} [forall_{y_{1}, ..y_{_a}.., y_{n} | R(x_{1}, ..x_{_a}.., x_{m}, y_{1}, ..y_{_a}.., y_{n})} P(x_{1}, ..x_{_a}.., x_{m}, y_{1}, ..y_{_a}.., y_{n})]])]"
      ]
     },
     "execution_count": 2,
     "metadata": {},
     "output_type": "execute_result"
    }
   ],
   "source": [
    "%proving unbundle presuming []"
   ]
  },
  {
   "cell_type": "code",
   "execution_count": null,
   "metadata": {},
   "outputs": [],
   "source": []
  }
 ],
 "metadata": {
  "kernelspec": {
   "display_name": "Python 3",
   "language": "python",
   "name": "python3"
  }
 },
 "nbformat": 4,
 "nbformat_minor": 0
}
