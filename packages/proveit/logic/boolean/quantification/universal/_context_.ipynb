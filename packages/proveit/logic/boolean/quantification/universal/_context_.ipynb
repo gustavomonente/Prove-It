{
 "cells": [
  {
   "cell_type": "markdown",
   "metadata": {},
   "source": [
    "Context: <a href=\"../../../../_context_.ipynb\" class=\"ProveItLink\">proveit</a>.<a href=\"../../../_context_.ipynb\" class=\"ProveItLink\">logic</a>.<a href=\"../../_context_.ipynb\" class=\"ProveItLink\">boolean</a>.<a href=\"../_context_.ipynb\" class=\"ProveItLink\">quantification</a>.universal\n",
    "========\n",
    "\n",
    "Universal quantification is a general expression about *everything* (`Forall`: $\\forall$).  \n",
    "The `Forall` **Expression** derives from `proveit.OperationOverInstances`.  As such, it has instance variables (`instanceVars`) with an instance expression (`instanceExpr`) and may be restricted to a `domain` and have zero or more `conditions`.  For example $\\forall_{x, y \\in S~|~Q(x),~R(x, y)} P(x, y)$ means that $P(x, y)$ is `TRUE` for all occurrences of $x$ and $y$ in domain $S$ given that the conditions $Q(x)$ and $R(x, y)$ are satisfied.    The `conditions` may be any **Expression**s involving the instance variables."
   ]
  },
  {
   "cell_type": "code",
   "execution_count": null,
   "metadata": {},
   "outputs": [],
   "source": [
    "import proveit\n",
    "%context"
   ]
  },
  {
   "cell_type": "code",
   "execution_count": null,
   "metadata": {},
   "outputs": [],
   "source": []
  }
 ],
 "metadata": {
  "kernelspec": {
   "display_name": "Python 3",
   "language": "python",
   "name": "python3"
  }
 },
 "nbformat": 4,
 "nbformat_minor": 0
}
