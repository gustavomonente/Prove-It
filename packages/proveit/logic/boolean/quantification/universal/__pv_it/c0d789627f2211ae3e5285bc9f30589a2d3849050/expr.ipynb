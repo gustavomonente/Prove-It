{
 "cells": [
  {
   "cell_type": "markdown",
   "metadata": {},
   "source": [
    "Axiom <a class=\"ProveItLink\" href=\"../../_axioms_.ipynb#forall_in_bool\">forall_in_bool</a> of type <a class=\"ProveItLink\" href=\"../../../../../../../../doc/html/api/proveit.logic.Forall.html\">Forall</a>\n",
    "=======================\n",
    "# from context <a class=\"ProveItLink\" href=\"../../_context_.ipynb\">proveit.logic.boolean.quantification.universal</a>\n",
    "*** see <a class=\"ProveItLink\" href=\"dependencies.ipynb\">dependencies</a> ***"
   ]
  },
  {
   "cell_type": "code",
   "execution_count": 1,
   "metadata": {},
   "outputs": [],
   "source": [
    "import proveit\n",
    "# Automation is not needed when only building an expression:\n",
    "proveit.defaults.automation = False # This will speed things up.\n",
    "proveit.defaults.inline_pngs = False # Makes files smaller.\n",
    "# import the special expression\n",
    "from proveit.logic.boolean.quantification.universal._axioms_ import forall_in_bool"
   ]
  },
  {
   "cell_type": "code",
   "execution_count": 2,
   "metadata": {},
   "outputs": [
    {
     "name": "stdout",
     "output_type": "stream",
     "text": [
      "Passed sanity check: built 'forall_in_bool' is the same as the stored Expression.\n"
     ]
    }
   ],
   "source": [
    "# check that the built expression is the same as the stored expression\n",
    "%check_expr forall_in_bool"
   ]
  },
  {
   "cell_type": "code",
   "execution_count": 3,
   "metadata": {},
   "outputs": [
    {
     "name": "stdout",
     "output_type": "stream",
     "text": [
      "\\vdash \\forall_{n \\in \\mathbb{N}^+}~\\left[\\forall_{P}~\\left(\\left[\\forall_{x_{1}, \\ldots, x_{n}}~P(x_{1}, \\ldots, x_{n})\\right] \\in \\mathbb{B}\\right)\\right]\n"
     ]
    }
   ],
   "source": [
    "# Show the LaTeX representation of the expression for convenience if you need it.\n",
    "print(forall_in_bool.latex())"
   ]
  },
  {
   "cell_type": "code",
   "execution_count": 4,
   "metadata": {},
   "outputs": [
    {
     "data": {
      "text/html": [
       "<table><tr><th>&nbsp;</th><th>core type</th><th>sub-expressions</th><th>expression</th></tr>\n",
       "<tr><td>0</td><td>Operation</td><td>operator:&nbsp;13<br>operand:&nbsp;1<br></td><td><a class=\"ProveItLink\" href=\"../623fe154eb33f34340de2d2b55d7e1ee063f7cc80/expr.ipynb\"><img src=\"../623fe154eb33f34340de2d2b55d7e1ee063f7cc80/expr.png\" style=\"display:inline;vertical-align:middle;\" /></a></td></tr>\n",
       "<tr><td>1</td><td>Lambda</td><td>parameter:&nbsp;21<br>body:&nbsp;2<br></td><td><a class=\"ProveItLink\" href=\"../e6841d2ecfa3a8e42a8bc65b08e892976d4921da0/expr.ipynb\"><img src=\"../e6841d2ecfa3a8e42a8bc65b08e892976d4921da0/expr.png\" style=\"display:inline;vertical-align:middle;\" /></a></td></tr>\n",
       "<tr><td>2</td><td>Conditional</td><td>value:&nbsp;3<br>condition:&nbsp;4<br></td><td><a class=\"ProveItLink\" href=\"../cb5fe7b947f32c5bd6761b671ec6b995512b53a10/expr.ipynb\"><img src=\"../cb5fe7b947f32c5bd6761b671ec6b995512b53a10/expr.png\" style=\"display:inline;vertical-align:middle;\" /></a></td></tr>\n",
       "<tr><td>3</td><td>Operation</td><td>operator:&nbsp;13<br>operand:&nbsp;5<br></td><td><a class=\"ProveItLink\" href=\"../48e75a139311b923730eed6ab21c57aa139edfed0/expr.ipynb\"><img src=\"../48e75a139311b923730eed6ab21c57aa139edfed0/expr.png\" style=\"display:inline;vertical-align:middle;\" /></a></td></tr>\n",
       "<tr><td>4</td><td>Operation</td><td>operator:&nbsp;9<br>operands:&nbsp;6<br></td><td><a class=\"ProveItLink\" href=\"../a720bba6cdd6f51499c0bd8820ee89528186f3d30/expr.ipynb\"><img src=\"../a720bba6cdd6f51499c0bd8820ee89528186f3d30/expr.png\" style=\"display:inline;vertical-align:middle;\" /></a></td></tr>\n",
       "<tr><td>5</td><td>Lambda</td><td>parameter:&nbsp;16<br>body:&nbsp;7<br></td><td><a class=\"ProveItLink\" href=\"../957b5ea6a65a3363bc78363cc328b8467db8145b0/expr.ipynb\"><img src=\"../957b5ea6a65a3363bc78363cc328b8467db8145b0/expr.png\" style=\"display:inline;vertical-align:middle;\" /></a></td></tr>\n",
       "<tr><td>6</td><td>ExprTuple</td><td>21, 8</td><td><a class=\"ProveItLink\" href=\"../e498da148cb0e1035a34d74f79377ecf4d06d21d0/expr.ipynb\"><img src=\"../e498da148cb0e1035a34d74f79377ecf4d06d21d0/expr.png\" style=\"display:inline;vertical-align:middle;\" /></a></td></tr>\n",
       "<tr><td>7</td><td>Operation</td><td>operator:&nbsp;9<br>operands:&nbsp;10<br></td><td><a class=\"ProveItLink\" href=\"../4b7e473dcf87501ecbfb9133d91c2e6355fb85cc0/expr.ipynb\"><img src=\"../4b7e473dcf87501ecbfb9133d91c2e6355fb85cc0/expr.png\" style=\"display:inline;vertical-align:middle;\" /></a></td></tr>\n",
       "<tr><td>8</td><td>Literal</td><td></td><td><a class=\"ProveItLink\" href=\"../../../../../../number/sets/integer/__pv_it/f6a9f4b6dec6ab4d2dcb6ba1b0ba3cceefc643530/expr.ipynb\"><img src=\"../../../../../../number/sets/integer/__pv_it/f6a9f4b6dec6ab4d2dcb6ba1b0ba3cceefc643530/expr.png\" style=\"display:inline;vertical-align:middle;\" /></a></td></tr>\n",
       "<tr><td>9</td><td>Literal</td><td></td><td><a class=\"ProveItLink\" href=\"../../../../../set_theory/membership/__pv_it/7776fc89cb67d0b5b1ec2c0c8e08da5587921ccf0/expr.ipynb\"><img src=\"../../../../../set_theory/membership/__pv_it/7776fc89cb67d0b5b1ec2c0c8e08da5587921ccf0/expr.png\" style=\"display:inline;vertical-align:middle;\" /></a></td></tr>\n",
       "<tr><td>10</td><td>ExprTuple</td><td>11, 12</td><td><a class=\"ProveItLink\" href=\"../5a4eeb06889b47031caa22734854a430712f67740/expr.ipynb\"><img src=\"../5a4eeb06889b47031caa22734854a430712f67740/expr.png\" style=\"display:inline;vertical-align:middle;\" /></a></td></tr>\n",
       "<tr><td>11</td><td>Operation</td><td>operator:&nbsp;13<br>operand:&nbsp;14<br></td><td><a class=\"ProveItLink\" href=\"../../../__pv_it/b218e09cf725fe7fbc2cd84bb7494b1ba192a4b00/expr.ipynb\"><img src=\"../../../__pv_it/b218e09cf725fe7fbc2cd84bb7494b1ba192a4b00/expr.png\" style=\"display:inline;vertical-align:middle;\" /></a></td></tr>\n",
       "<tr><td>12</td><td>Literal</td><td></td><td><a class=\"ProveItLink\" href=\"../../../../__pv_it/a3b387936f605fef1b535be3e1116cca8bbfc91b0/expr.ipynb\"><img src=\"../../../../__pv_it/a3b387936f605fef1b535be3e1116cca8bbfc91b0/expr.png\" style=\"display:inline;vertical-align:middle;\" /></a></td></tr>\n",
       "<tr><td>13</td><td>Literal</td><td></td><td><a class=\"ProveItLink\" href=\"../fd9c772d6675566ed52a6897806f45eb08a4ea910/expr.ipynb\"><img src=\"../fd9c772d6675566ed52a6897806f45eb08a4ea910/expr.png\" style=\"display:inline;vertical-align:middle;\" /></a></td></tr>\n",
       "<tr><td>14</td><td>Lambda</td><td>parameter:&nbsp;18<br>body:&nbsp;15<br></td><td><a class=\"ProveItLink\" href=\"../../../__pv_it/6afdab9de87f9464b786de5fdd351a34550c95830/expr.ipynb\"><img src=\"../../../__pv_it/6afdab9de87f9464b786de5fdd351a34550c95830/expr.png\" style=\"display:inline;vertical-align:middle;\" /></a></td></tr>\n",
       "<tr><td>15</td><td>Operation</td><td>operator:&nbsp;16<br>operands:&nbsp;17<br></td><td><a class=\"ProveItLink\" href=\"../../../../../../core_expr_types/__pv_it/ffe9c7d6cc1d4ef11cf0ec4e618481450774fb8c0/expr.ipynb\"><img src=\"../../../../../../core_expr_types/__pv_it/ffe9c7d6cc1d4ef11cf0ec4e618481450774fb8c0/expr.png\" style=\"display:inline;vertical-align:middle;\" /></a></td></tr>\n",
       "<tr><td>16</td><td>Variable</td><td></td><td><a class=\"ProveItLink\" href=\"../../../../../../__pv_it/390c91a44e60b16c95d2255652741252e8ec8d980/expr.ipynb\"><img src=\"../../../../../../__pv_it/390c91a44e60b16c95d2255652741252e8ec8d980/expr.png\" style=\"display:inline;vertical-align:middle;\" /></a></td></tr>\n",
       "<tr><td>17</td><td>ExprTuple</td><td>18</td><td><a class=\"ProveItLink\" href=\"../../../../../../core_expr_types/__pv_it/8503dd75b8d2c0097310b10afd704e3f48409d280/expr.ipynb\"><img src=\"../../../../../../core_expr_types/__pv_it/8503dd75b8d2c0097310b10afd704e3f48409d280/expr.png\" style=\"display:inline;vertical-align:middle;\" /></a></td></tr>\n",
       "<tr><td>18</td><td>ExprRange</td><td>lambda_map:&nbsp;19<br>start_index:&nbsp;20<br>end_index:&nbsp;21<br></td><td><a class=\"ProveItLink\" href=\"../../../../../../core_expr_types/__pv_it/36b186afc91ba7c57b358c8d856ab3c828e9e2c50/expr.ipynb\"><img src=\"../../../../../../core_expr_types/__pv_it/36b186afc91ba7c57b358c8d856ab3c828e9e2c50/expr.png\" style=\"display:inline;vertical-align:middle;\" /></a></td></tr>\n",
       "<tr><td>19</td><td>Lambda</td><td>parameter:&nbsp;24<br>body:&nbsp;22<br></td><td><a class=\"ProveItLink\" href=\"../../../../../../core_expr_types/__pv_it/15cc35ac7085d75649b82db6beead515f3030ef00/expr.ipynb\"><img src=\"../../../../../../core_expr_types/__pv_it/15cc35ac7085d75649b82db6beead515f3030ef00/expr.png\" style=\"display:inline;vertical-align:middle;\" /></a></td></tr>\n",
       "<tr><td>20</td><td>Literal</td><td></td><td><a class=\"ProveItLink\" href=\"../../../../../../number/numeral/__pv_it/f086f8c372bd40a2458306ddfdbb29f3dc6f63030/expr.ipynb\"><img src=\"../../../../../../number/numeral/__pv_it/f086f8c372bd40a2458306ddfdbb29f3dc6f63030/expr.png\" style=\"display:inline;vertical-align:middle;\" /></a></td></tr>\n",
       "<tr><td>21</td><td>Variable</td><td></td><td><a class=\"ProveItLink\" href=\"../../../../../../__pv_it/0c1c4cb515e0f4344b1ac06650f349123e526deb0/expr.ipynb\"><img src=\"../../../../../../__pv_it/0c1c4cb515e0f4344b1ac06650f349123e526deb0/expr.png\" style=\"display:inline;vertical-align:middle;\" /></a></td></tr>\n",
       "<tr><td>22</td><td>IndexedVar</td><td>variable:&nbsp;23<br>index:&nbsp;24<br></td><td><a class=\"ProveItLink\" href=\"../../../../../../core_expr_types/__pv_it/12d6cd514f4a6eb41d13ff30f08a9d01f2c4f4ba0/expr.ipynb\"><img src=\"../../../../../../core_expr_types/__pv_it/12d6cd514f4a6eb41d13ff30f08a9d01f2c4f4ba0/expr.png\" style=\"display:inline;vertical-align:middle;\" /></a></td></tr>\n",
       "<tr><td>23</td><td>Variable</td><td></td><td><a class=\"ProveItLink\" href=\"../../../../../../__pv_it/72df168d2bfb4e0140af90912ebf83b13772060b0/expr.ipynb\"><img src=\"../../../../../../__pv_it/72df168d2bfb4e0140af90912ebf83b13772060b0/expr.png\" style=\"display:inline;vertical-align:middle;\" /></a></td></tr>\n",
       "<tr><td>24</td><td>Variable</td><td></td><td><a class=\"ProveItLink\" href=\"../../../../../../core_expr_types/__pv_it/1e653f789234b245ee7fea7caad998c139d617410/expr.ipynb\"><img src=\"../../../../../../core_expr_types/__pv_it/1e653f789234b245ee7fea7caad998c139d617410/expr.png\" style=\"display:inline;vertical-align:middle;\" /></a></td></tr>\n",
       "</table>\n"
      ],
      "text/plain": [
       "0. forall_{n in NaturalsPos} [forall_{P} ([forall_{x_{1}, ..x_{_a}.., x_{n}} P(x_{1}, ..x_{_a}.., x_{n})] in BOOLEANS)]\n",
       "   core type: Operation\n",
       "   operator: 13\n",
       "   operand: 1\n",
       "1. n -> {forall_{P} ([forall_{x_{1}, ..x_{_a}.., x_{n}} P(x_{1}, ..x_{_a}.., x_{n})] in BOOLEANS) if n in NaturalsPos.\n",
       "   core type: Lambda\n",
       "   parameter: 21\n",
       "   body: 2\n",
       "2. {forall_{P} ([forall_{x_{1}, ..x_{_a}.., x_{n}} P(x_{1}, ..x_{_a}.., x_{n})] in BOOLEANS) if n in NaturalsPos.\n",
       "   core type: Conditional\n",
       "   value: 3\n",
       "   condition: 4\n",
       "3. forall_{P} ([forall_{x_{1}, ..x_{_a}.., x_{n}} P(x_{1}, ..x_{_a}.., x_{n})] in BOOLEANS)\n",
       "   core type: Operation\n",
       "   operator: 13\n",
       "   operand: 5\n",
       "4. n in NaturalsPos\n",
       "   core type: Operation\n",
       "   operator: 9\n",
       "   operands: 6\n",
       "5. P -> ([forall_{x_{1}, ..x_{_a}.., x_{n}} P(x_{1}, ..x_{_a}.., x_{n})] in BOOLEANS)\n",
       "   core type: Lambda\n",
       "   parameter: 16\n",
       "   body: 7\n",
       "6. (n, NaturalsPos)\n",
       "   core type: ExprTuple\n",
       "   sub-expressions: 21, 8\n",
       "7. [forall_{x_{1}, ..x_{_a}.., x_{n}} P(x_{1}, ..x_{_a}.., x_{n})] in BOOLEANS\n",
       "   core type: Operation\n",
       "   operator: 9\n",
       "   operands: 10\n",
       "8. NaturalsPos\n",
       "   core type: Literal\n",
       "   sub-expressions: \n",
       "9. in\n",
       "   core type: Literal\n",
       "   sub-expressions: \n",
       "10. (forall_{x_{1}, ..x_{_a}.., x_{n}} P(x_{1}, ..x_{_a}.., x_{n}), BOOLEANS)\n",
       "    core type: ExprTuple\n",
       "    sub-expressions: 11, 12\n",
       "11. forall_{x_{1}, ..x_{_a}.., x_{n}} P(x_{1}, ..x_{_a}.., x_{n})\n",
       "    core type: Operation\n",
       "    operator: 13\n",
       "    operand: 14\n",
       "12. BOOLEANS\n",
       "    core type: Literal\n",
       "    sub-expressions: \n",
       "13. forall\n",
       "    core type: Literal\n",
       "    sub-expressions: \n",
       "14. (x_{1}, ..x_{_a}.., x_{n}) -> P(x_{1}, ..x_{_a}.., x_{n})\n",
       "    core type: Lambda\n",
       "    parameter: 18\n",
       "    body: 15\n",
       "15. P(x_{1}, ..x_{_a}.., x_{n})\n",
       "    core type: Operation\n",
       "    operator: 16\n",
       "    operands: 17\n",
       "16. P\n",
       "    core type: Variable\n",
       "    sub-expressions: \n",
       "17. (x_{1}, ..x_{_a}.., x_{n})\n",
       "    core type: ExprTuple\n",
       "    sub-expressions: 18\n",
       "18. x_{1}, ..x_{_a}.., x_{n}\n",
       "    core type: ExprRange\n",
       "    lambda_map: 19\n",
       "    start_index: 20\n",
       "    end_index: 21\n",
       "19. _a -> x_{_a}\n",
       "    core type: Lambda\n",
       "    parameter: 24\n",
       "    body: 22\n",
       "20. 1\n",
       "    core type: Literal\n",
       "    sub-expressions: \n",
       "21. n\n",
       "    core type: Variable\n",
       "    sub-expressions: \n",
       "22. x_{_a}\n",
       "    core type: IndexedVar\n",
       "variable: 23\n",
       "index: 24\n",
       "23. x\n",
       "    core type: Variable\n",
       "    sub-expressions: \n",
       "24. _a\n",
       "    core type: Variable\n",
       "    sub-expressions: "
      ]
     },
     "execution_count": 4,
     "metadata": {},
     "output_type": "execute_result"
    }
   ],
   "source": [
    "# display the expression information\n",
    "forall_in_bool.exprInfo()"
   ]
  },
  {
   "cell_type": "code",
   "execution_count": null,
   "metadata": {},
   "outputs": [],
   "source": []
  }
 ],
 "metadata": {
  "kernelspec": {
   "display_name": "Python 3",
   "language": "python",
   "name": "python3"
  },
  "language_info": {
   "codemirror_mode": {
    "name": "ipython",
    "version": 3
   },
   "file_extension": ".py",
   "mimetype": "text/x-python",
   "name": "python",
   "nbconvert_exporter": "python",
   "pygments_lexer": "ipython3",
   "version": "3.7.3"
  }
 },
 "nbformat": 4,
 "nbformat_minor": 1
}
