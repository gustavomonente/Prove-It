{
 "cells": [
  {
   "cell_type": "markdown",
   "metadata": {},
   "source": [
    "Theory of <a class=\"ProveItLink\" href=\"../../../_theory_.ipynb\">proveit</a>.<a class=\"ProveItLink\" href=\"../../_theory_.ipynb\">logic</a>.<a class=\"ProveItLink\" href=\"../_theory_.ipynb\">boolean</a>.quantification\n",
    "========\n",
    "\n",
    "Logical quantification is a general expression about *everything* (`Forall`: $\\forall$), *something* (`Exists`: $\\exists$), or *nothing* (`NotExists`: $\\nexists$).  These quantify over instance variables (`instanceVars`) with an instance expression (`instanceExpr`) and may be restricted to a `domain` and have zero or more `conditions`.  For example $\\forall_{x \\in S~|~Q(x)} P(x)$ means that $P(x)$ is `TRUE` for all occurrences of $x$ in domain $S$ given that the condition $Q(x)$ is satisfied.  $\\exists_{x \\in S~|~Q(x)} P(x)$ means that there exists a value for $x$ in domain $S$ with $Q(x)$ satisfied such that $P(x)$ is `TRUE`.  $\\forall$ is the universal quantifier.  $\\exists$ is the existential quantifier.  $\\nexists$ is the negation of the existential quantifier."
   ]
  },
  {
   "cell_type": "code",
   "execution_count": null,
   "metadata": {},
   "outputs": [],
   "source": [
    "import proveit\n",
    "%theory"
   ]
  },
  {
   "cell_type": "code",
   "execution_count": null,
   "metadata": {},
   "outputs": [],
   "source": []
  }
 ],
 "metadata": {
  "kernelspec": {
   "display_name": "Python 3",
   "language": "python",
   "name": "python3"
  }
 },
 "nbformat": 4,
 "nbformat_minor": 0
}
