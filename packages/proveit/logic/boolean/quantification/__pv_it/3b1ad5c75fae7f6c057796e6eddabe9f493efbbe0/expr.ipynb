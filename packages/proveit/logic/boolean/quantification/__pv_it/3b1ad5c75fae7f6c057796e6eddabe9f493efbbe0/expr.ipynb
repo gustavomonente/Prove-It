{
 "cells": [
  {
   "cell_type": "markdown",
   "metadata": {},
   "source": [
    "Expression of type <a class=\"ProveItLink\" href=\"../../../../../../../doc/html/api/proveit.Lambda.html\">Lambda</a>\n",
    "=======================\n",
    "# from context <a class=\"ProveItLink\" href=\"../../_context_.ipynb\">proveit.logic.boolean.quantification</a>"
   ]
  },
  {
   "cell_type": "code",
   "execution_count": 1,
   "metadata": {},
   "outputs": [],
   "source": [
    "import proveit\n",
    "# Automation is not needed when building an expression:\n",
    "proveit.defaults.automation = False # This will speed things up.\n",
    "proveit.defaults.inline_pngs = False # Makes files smaller.\n",
    "# import Expression classes needed to build the expression\n",
    "from proveit import Conditional, Lambda\n",
    "from proveit.core_expr_types._common_ import Q__z_1_to_n, R__z_1_to_n, z_1_to_n"
   ]
  },
  {
   "cell_type": "code",
   "execution_count": 2,
   "metadata": {},
   "outputs": [
    {
     "data": {
      "text/html": [
       "<strong id=\"expr\">expr:</strong> <a class=\"ProveItLink\" href=\"../53bcc87b9d40997a7b38840e2597db6d42b1592a0/expr.ipynb\"><img src=\"../53bcc87b9d40997a7b38840e2597db6d42b1592a0/expr.png\" style=\"display:inline;vertical-align:middle;\" /></a><br>"
      ],
      "text/plain": [
       "expr: (z_{1}, ..z_{_a}.., z_{n}) -> {R(z_{1}, ..z_{_a}.., z_{n}) if Q(z_{1}, ..z_{_a}.., z_{n})."
      ]
     },
     "execution_count": 2,
     "metadata": {},
     "output_type": "execute_result"
    }
   ],
   "source": [
    "# build up the expression from sub-expressions\n",
    "expr = Lambda(z_1_to_n, Conditional(R__z_1_to_n, Q__z_1_to_n))"
   ]
  },
  {
   "cell_type": "code",
   "execution_count": 3,
   "metadata": {},
   "outputs": [
    {
     "name": "stdout",
     "output_type": "stream",
     "text": [
      "Passed sanity check: built 'expr' is the same as the stored Expression.\n"
     ]
    }
   ],
   "source": [
    "# check that the built expression is the same as the stored expression\n",
    "%check_expr"
   ]
  },
  {
   "cell_type": "code",
   "execution_count": 4,
   "metadata": {},
   "outputs": [
    {
     "name": "stdout",
     "output_type": "stream",
     "text": [
      "\\left(z_{1}, \\ldots, z_{n}\\right) \\mapsto \\left\\{R(z_{1}, \\ldots, z_{n}) \\textrm{ if } Q(z_{1}, \\ldots, z_{n})\\right..\n"
     ]
    }
   ],
   "source": [
    "# Show the LaTeX representation of the expression for convenience if you need it.\n",
    "print(expr.latex())"
   ]
  },
  {
   "cell_type": "code",
   "execution_count": 5,
   "metadata": {},
   "outputs": [
    {
     "data": {
      "text/html": [
       "<table><tr><th>&nbsp;</th><th>core type</th><th>sub-expressions</th><th>expression</th></tr>\n",
       "<tr><td>0</td><td>Lambda</td><td>parameter:&nbsp;7<br>body:&nbsp;1<br></td><td><a class=\"ProveItLink\" href=\"../53bcc87b9d40997a7b38840e2597db6d42b1592a0/expr.ipynb\"><img src=\"../53bcc87b9d40997a7b38840e2597db6d42b1592a0/expr.png\" style=\"display:inline;vertical-align:middle;\" /></a></td></tr>\n",
       "<tr><td>1</td><td>Conditional</td><td>value:&nbsp;2<br>condition:&nbsp;3<br></td><td><a class=\"ProveItLink\" href=\"../283f89e59a5dbdd22446410d3d0211cee4caf1d50/expr.ipynb\"><img src=\"../283f89e59a5dbdd22446410d3d0211cee4caf1d50/expr.png\" style=\"display:inline;vertical-align:middle;\" /></a></td></tr>\n",
       "<tr><td>2</td><td>Operation</td><td>operator:&nbsp;4<br>operands:&nbsp;6<br></td><td><a class=\"ProveItLink\" href=\"../../../../../core_expr_types/__pv_it/046a9c5866f0a11f483a6a7f92102cdfd06fbd930/expr.ipynb\"><img src=\"../../../../../core_expr_types/__pv_it/046a9c5866f0a11f483a6a7f92102cdfd06fbd930/expr.png\" style=\"display:inline;vertical-align:middle;\" /></a></td></tr>\n",
       "<tr><td>3</td><td>Operation</td><td>operator:&nbsp;5<br>operands:&nbsp;6<br></td><td><a class=\"ProveItLink\" href=\"../../../../../core_expr_types/__pv_it/233a28f108aa9ca5dd0860ecd3e56ad3a0cf1aa60/expr.ipynb\"><img src=\"../../../../../core_expr_types/__pv_it/233a28f108aa9ca5dd0860ecd3e56ad3a0cf1aa60/expr.png\" style=\"display:inline;vertical-align:middle;\" /></a></td></tr>\n",
       "<tr><td>4</td><td>Variable</td><td></td><td><a class=\"ProveItLink\" href=\"../../../../../__pv_it/0a2bba13f1df910578e611e3c0100cd5999bfe270/expr.ipynb\"><img src=\"../../../../../__pv_it/0a2bba13f1df910578e611e3c0100cd5999bfe270/expr.png\" style=\"display:inline;vertical-align:middle;\" /></a></td></tr>\n",
       "<tr><td>5</td><td>Variable</td><td></td><td><a class=\"ProveItLink\" href=\"../../../../../__pv_it/dbe7145e53d9411a5ba89652cbfea9d54e4b581a0/expr.ipynb\"><img src=\"../../../../../__pv_it/dbe7145e53d9411a5ba89652cbfea9d54e4b581a0/expr.png\" style=\"display:inline;vertical-align:middle;\" /></a></td></tr>\n",
       "<tr><td>6</td><td>ExprTuple</td><td>7</td><td><a class=\"ProveItLink\" href=\"../../../../../core_expr_types/__pv_it/75d3feb729a10cb3a3d1b76716f0502caeb1b1c60/expr.ipynb\"><img src=\"../../../../../core_expr_types/__pv_it/75d3feb729a10cb3a3d1b76716f0502caeb1b1c60/expr.png\" style=\"display:inline;vertical-align:middle;\" /></a></td></tr>\n",
       "<tr><td>7</td><td>ExprRange</td><td>lambda_map:&nbsp;8<br>start_index:&nbsp;9<br>end_index:&nbsp;10<br></td><td><a class=\"ProveItLink\" href=\"../../../../../core_expr_types/__pv_it/1c1d932eff7237ffa4b40765dbd36ae6f36bade30/expr.ipynb\"><img src=\"../../../../../core_expr_types/__pv_it/1c1d932eff7237ffa4b40765dbd36ae6f36bade30/expr.png\" style=\"display:inline;vertical-align:middle;\" /></a></td></tr>\n",
       "<tr><td>8</td><td>Lambda</td><td>parameter:&nbsp;13<br>body:&nbsp;11<br></td><td><a class=\"ProveItLink\" href=\"../../../../../core_expr_types/__pv_it/d469a3ef95d156055418e0131d34ff1e3a115ac30/expr.ipynb\"><img src=\"../../../../../core_expr_types/__pv_it/d469a3ef95d156055418e0131d34ff1e3a115ac30/expr.png\" style=\"display:inline;vertical-align:middle;\" /></a></td></tr>\n",
       "<tr><td>9</td><td>Literal</td><td></td><td><a class=\"ProveItLink\" href=\"../../../../../number/numeral/__pv_it/f086f8c372bd40a2458306ddfdbb29f3dc6f63030/expr.ipynb\"><img src=\"../../../../../number/numeral/__pv_it/f086f8c372bd40a2458306ddfdbb29f3dc6f63030/expr.png\" style=\"display:inline;vertical-align:middle;\" /></a></td></tr>\n",
       "<tr><td>10</td><td>Variable</td><td></td><td><a class=\"ProveItLink\" href=\"../../../../../__pv_it/0c1c4cb515e0f4344b1ac06650f349123e526deb0/expr.ipynb\"><img src=\"../../../../../__pv_it/0c1c4cb515e0f4344b1ac06650f349123e526deb0/expr.png\" style=\"display:inline;vertical-align:middle;\" /></a></td></tr>\n",
       "<tr><td>11</td><td>IndexedVar</td><td>variable:&nbsp;12<br>index:&nbsp;13<br></td><td><a class=\"ProveItLink\" href=\"../../../../../core_expr_types/__pv_it/937e29b683c72d8814408ebec776b478cd0aed820/expr.ipynb\"><img src=\"../../../../../core_expr_types/__pv_it/937e29b683c72d8814408ebec776b478cd0aed820/expr.png\" style=\"display:inline;vertical-align:middle;\" /></a></td></tr>\n",
       "<tr><td>12</td><td>Variable</td><td></td><td><a class=\"ProveItLink\" href=\"../../../../../__pv_it/0d889e00aed425c3081fbda3ac9194ae911895960/expr.ipynb\"><img src=\"../../../../../__pv_it/0d889e00aed425c3081fbda3ac9194ae911895960/expr.png\" style=\"display:inline;vertical-align:middle;\" /></a></td></tr>\n",
       "<tr><td>13</td><td>Variable</td><td></td><td><a class=\"ProveItLink\" href=\"../../../../../core_expr_types/__pv_it/1e653f789234b245ee7fea7caad998c139d617410/expr.ipynb\"><img src=\"../../../../../core_expr_types/__pv_it/1e653f789234b245ee7fea7caad998c139d617410/expr.png\" style=\"display:inline;vertical-align:middle;\" /></a></td></tr>\n",
       "</table>\n"
      ],
      "text/plain": [
       "0. (z_{1}, ..z_{_a}.., z_{n}) -> {R(z_{1}, ..z_{_a}.., z_{n}) if Q(z_{1}, ..z_{_a}.., z_{n}).\n",
       "   core type: Lambda\n",
       "   parameter: 7\n",
       "   body: 1\n",
       "1. {R(z_{1}, ..z_{_a}.., z_{n}) if Q(z_{1}, ..z_{_a}.., z_{n}).\n",
       "   core type: Conditional\n",
       "   value: 2\n",
       "   condition: 3\n",
       "2. R(z_{1}, ..z_{_a}.., z_{n})\n",
       "   core type: Operation\n",
       "   operator: 4\n",
       "   operands: 6\n",
       "3. Q(z_{1}, ..z_{_a}.., z_{n})\n",
       "   core type: Operation\n",
       "   operator: 5\n",
       "   operands: 6\n",
       "4. R\n",
       "   core type: Variable\n",
       "   sub-expressions: \n",
       "5. Q\n",
       "   core type: Variable\n",
       "   sub-expressions: \n",
       "6. (z_{1}, ..z_{_a}.., z_{n})\n",
       "   core type: ExprTuple\n",
       "   sub-expressions: 7\n",
       "7. z_{1}, ..z_{_a}.., z_{n}\n",
       "   core type: ExprRange\n",
       "   lambda_map: 8\n",
       "   start_index: 9\n",
       "   end_index: 10\n",
       "8. _a -> z_{_a}\n",
       "   core type: Lambda\n",
       "   parameter: 13\n",
       "   body: 11\n",
       "9. 1\n",
       "   core type: Literal\n",
       "   sub-expressions: \n",
       "10. n\n",
       "    core type: Variable\n",
       "    sub-expressions: \n",
       "11. z_{_a}\n",
       "    core type: IndexedVar\n",
       "variable: 12\n",
       "index: 13\n",
       "12. z\n",
       "    core type: Variable\n",
       "    sub-expressions: \n",
       "13. _a\n",
       "    core type: Variable\n",
       "    sub-expressions: "
      ]
     },
     "execution_count": 5,
     "metadata": {},
     "output_type": "execute_result"
    }
   ],
   "source": [
    "# display the expression information\n",
    "expr.exprInfo()"
   ]
  },
  {
   "cell_type": "code",
   "execution_count": null,
   "metadata": {},
   "outputs": [],
   "source": []
  }
 ],
 "metadata": {
  "kernelspec": {
   "display_name": "Python 3",
   "language": "python",
   "name": "python3"
  },
  "language_info": {
   "codemirror_mode": {
    "name": "ipython",
    "version": 3
   },
   "file_extension": ".py",
   "mimetype": "text/x-python",
   "name": "python",
   "nbconvert_exporter": "python",
   "pygments_lexer": "ipython3",
   "version": "3.7.3"
  }
 },
 "nbformat": 4,
 "nbformat_minor": 1
}
