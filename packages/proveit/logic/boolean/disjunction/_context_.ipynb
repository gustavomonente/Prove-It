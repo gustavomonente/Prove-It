{
 "cells": [
  {
   "cell_type": "markdown",
   "metadata": {},
   "source": [
    "Context: <a href=\"../../../_context_.ipynb\" class=\"ProveItLink\">proveit</a>.<a href=\"../../_context_.ipynb\" class=\"ProveItLink\">logic</a>.<a href=\"../_context_.ipynb\" class=\"ProveItLink\">boolean</a>.disjunction\n",
    "========\n",
    "\n",
    "Context for the disjunction operation `Or` ($\\lor$).  `Or` may operate on any number of Boolean operands and only evaluates to `FALSE` if all of the operands are `FALSE`.  If any operand is `TRUE` then the `Or` operation evaluates to `TRUE`.  The operation is only defined when all of the operands are Boolean; therefore, if the evaluation of the `Or` operation is a Boolean, all of the operands must be Booleans."
   ]
  },
  {
   "cell_type": "code",
   "execution_count": 1,
   "metadata": {},
   "outputs": [
    {
     "data": {
      "text/html": [
       "<table><tr>\n",
       "<th><a class=\"ProveItLink\" href=\"_common_.ipynb\">common expressions</a></th>\n",
       "<th><a class=\"ProveItLink\" href=\"_axioms_.ipynb\">axioms</a></th>\n",
       "<th><a class=\"ProveItLink\" href=\"_theorems_.ipynb\">theorems</a></th>\n",
       "<th><a class=\"ProveItLink\" href=\"_demonstrations_.ipynb\">demonstrations</a></th>\n",
       "</tr></table>\n"
      ],
      "text/plain": [
       "<IPython.core.display.HTML object>"
      ]
     },
     "metadata": {},
     "output_type": "display_data"
    }
   ],
   "source": [
    "import proveit\n",
    "%context"
   ]
  },
  {
   "cell_type": "code",
   "execution_count": null,
   "metadata": {},
   "outputs": [],
   "source": []
  }
 ],
 "metadata": {
  "kernelspec": {
   "display_name": "Python 3",
   "language": "python",
   "name": "python3"
  }
 },
 "nbformat": 4,
 "nbformat_minor": 0
}
