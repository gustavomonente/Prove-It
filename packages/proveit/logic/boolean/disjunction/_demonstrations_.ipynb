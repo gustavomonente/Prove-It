{
 "cells": [
  {
   "cell_type": "markdown",
   "metadata": {},
   "source": [
    "Demonstrations for context <a class=\"ProveItLink\" href=\"_context_.ipynb\">proveit.logic.boolean.disjunction</a>\n",
    "========"
   ]
  },
  {
   "cell_type": "code",
   "execution_count": 1,
   "metadata": {},
   "outputs": [],
   "source": [
    "import proveit\n",
    "from proveit import defaults\n",
    "from proveit._common_ import A, B, C, D, E,F,G,H,I,J,K,L, m\n",
    "from proveit.number import num, NaturalsPos\n",
    "from proveit.logic import Booleans, inBool, InSet, Or, And, TRUE, FALSE, Not, Implies, Equals\n",
    "from proveit.logic.boolean.disjunction._theorems_ import closure, eachInBool\n",
    "%begin demonstrations"
   ]
  },
  {
   "cell_type": "code",
   "execution_count": 2,
   "metadata": {},
   "outputs": [
    {
     "data": {
      "text/html": [
       "<span style=\"font-size:20px;\"> <a class=\"ProveItLink\" href=\"_proofs_/closure.ipynb\" style=\"text-decoration: none\">&#x22A2;&nbsp;</a><a class=\"ProveItLink\" href=\"__pv_it/7caf76cbf97a353d3f414ffd8c4a2e261bfcd16a0/expr.ipynb\"><img src=\"data:image/png;base64,iVBORw0KGgoAAAANSUhEUgAAAYoAAAAVBAMAAACqF7QBAAAAMFBMVEX///8QEBCIiIhmZma6urrM\n",
       "zMxUVFQiIiJERETc3Nzu7u6qqqp2dnaYmJgyMjIAAAAcRTyBAAAAAXRSTlMAQObYZgAABQ1JREFU\n",
       "WMO1V2+IVFUUP/tm3sy8mfd290NJFi2PtdQv1dCEC7qLI1KCIMzuh7XQdLCklKAJzcLEBiGcVWrm\n",
       "S7ps5E5/aG2kbWiJkpSGVsFWhcFNsLBtau1DftAtLf+A2rnn3vf/jauzdeC8d9959913fvf8vQB3\n",
       "QNKFFDROSpXzzOigvzhWAJjYDDU2/vn2K6jJZnbTGlNlv2CkNXf3pVyzxqGC8928+/K/bkkCbMDx\n",
       "ETjOROenQ6GW8dZcbAjFH4KRLloK0tVr4pT1En84Zb2I1lwzaz3RXV0Aw4Sin9k8Ox0KmtHfEAgt\n",
       "zpkNL5r7EGLqarpn9np2OSUeJq7b3nznmpldAQ9HUDedoWAbTDt9WxRkreMNoQgXOCMdWGy6hZxm\n",
       "r7zG7WWXrWL7R67Z3nwgNmXna9sNFN8gimgrQ6GNlUp7YVoUZ0ulTzMNodgrGKn6WNLhZ0u9s5sR\n",
       "ZzAuFJYu29/Qt/KOomWLIyzczjEUcDWX2+avux1FSy63s9IQijmCUbvit1Z+GEHu88k5iCAiLLY8\n",
       "dsOuDmEbLloeFXyV+d8ooVjvuxpSwI4C/ZgvHin4zfWXEr0tGOBjWItOLPMgDJsjJ6HBnxYOlZT/\n",
       "sscXhfcGKy6WvPknM88EoVjqDX8fFGjlYRr/kvSb65Jqv01uMmLtDcEASRiMg5zgjinpEPJbqh3g\n",
       "eT4KgnLJbiX6LmuP7pNn8f4VoQiD5KoDKzuT0iwXCtyjR2iDFvsVDYf0wGgX6JX3vxSP9wgG+bnE\n",
       "y6hEkKOIZsS2uGjI3NTexIKr9uLB0q7cdgHJQBEJ4m/XEgq1GrbrcyhRjWXHYKGa6EgssqE4CfR3\n",
       "dSjuF0I2qbZ7oAi6rn7mRhEEaKqZKGCRf84LlI2MiT9tc6NQHLaIQNpAodR6bXPPHCxB7FQAKm5b\n",
       "7KPcCD0RP2e2Synx6PqK790ehcqFWy0U+8A35yk1sakx5FcAxk+3x9tZFPPvWu0oQqzzWEYooA/9\n",
       "UOvqmSPNTfEkF1v1jO5BEdlDXpwO4GIb3b8mqVFTCUWiLeWKbqXMi7GBIvKs7huOb4ma9x6v9T88\n",
       "CLOKc83oftxhC61iRDeM4LLakmrTRikN1C/FUmOnPShiHeQuZWkKVt/vLs9MarhknNsi8K4QjApm\n",
       "NSNyzUIhv0BJM3oTL5/XxICFA695CpuWLygfZuAydDJXo0QfNgt0bTWcWID3To6iBfdkYB60JHHe\n",
       "RxyFypKzEwVQ1hvuPHbdrK0mcalQ7vVcbgeLC0kIlnHef+s8xPJX4iYKmOS3LUy3tBiw6kbbEM3f\n",
       "LMLXtzZBSJdbySObybjRF5c7u0H4naPQ2J6sg26Gc2Uul9NjKaWasXoygeInNloIyt9eFCQdPzy+\n",
       "6ijzLm4LNeDtQHgCNVAM1GnknW1JU0rKKlMplrz458dEB2LYPsNREN0L82FQxnghW8CTuqsDEUtg\n",
       "ZrtBKPqLyi664I1Lv6g1lQ/hnKOEoqKe8HaDtrx/xzSI1tCyFW83aOimWyiUKbTGGRVUajWToFV8\n",
       "UeSz0H+lylB0l+XZ0F2QZ8sPCGkoNQRPMN9Hz9W2Tb5jVpA+R6+hdPyj3w2Kp7C1Ul4q1ivNojMX\n",
       "m5zG9mzPGMBu5sXnhF94UAjayvOmlRF5SzECGSadj3FR55Q0A6rX4/TZUFiHU4wL74l1u+M403Op\n",
       "TCdF51HyE3gI1hX+txPrj3VOL/jHRzc3uqhmjmas339A/wJAvWELn9TFzwAAAABJRU5ErkJggg==\n",
       "\" style=\"display:inline;vertical-align:middle;\" /></a></span>"
      ],
      "text/plain": [
       "|- forall_{m in NaturalsPos} [forall_{A_{1}, ..A_{_a}.., A_{m} in BOOLEANS} ((A_{1} or ..A_{_a}.. or A_{m}) in BOOLEANS)]"
      ]
     },
     "execution_count": 2,
     "metadata": {},
     "output_type": "execute_result"
    }
   ],
   "source": [
    "closure"
   ]
  },
  {
   "cell_type": "code",
   "execution_count": 3,
   "metadata": {},
   "outputs": [
    {
     "data": {
      "text/html": [
       "<strong id=\"closure_spec\">closure_spec:</strong> <span style=\"font-size:20px;\"><a class=\"ProveItLink\" href=\"__pv_it/f36cf37a6c371c68f44110218993b9be177dccd20/expr.ipynb\"><img src=\"data:image/png;base64,iVBORw0KGgoAAAANSUhEUgAAAF0AAAAbBAMAAADsXp6BAAAAMFBMVEX///+YmJiqqqpmZmYyMjJE\n",
       "RETu7u5UVFQiIiJ2dnbMzMy6uroQEBCIiIjc3NwAAACK8CUvAAAAAXRSTlMAQObYZgAAAYFJREFU\n",
       "OMtjYCAZ8N0lqIQdRHBZQzh3NhBUzwom091AJPcvBiLVM7iCCN4PRKufAyI4D+BSlfI1JIFhzp8N\n",
       "xKpnCOQqYGD7wFDi4uPiIkCE+ooFwKA7QNg9oh0dDiC6Oox9AUMDQfVLr0EZdcvZ3LCr31n39vqF\n",
       "ldfBMcHmBtNYx3RhObL6+yCCowBITAi9wPZ3AxPYKvYHcPUMsxkvIKlfvwBoWikoqhVaGPh+MjB+\n",
       "QApssHr2hCqQej4In7GbgWHHApAT2H4zMH1jYA8Aia5xAQIHiHq2AhZk77EaMHB7ghhMHxiYGxh4\n",
       "LoDYT5HMZ1jJhaSeyxdI5EwAEswODBwTGPY/SACyeZDVMyoEINS/VwApBTmQZwJD/gYGEz6wwAWY\n",
       "fBUQz0NSfx8enu83MOgzMHhygoWbYPJOEJvhABH+OxgYLjMwKMtB0nl0Aphe8QdoNhtW9ahgZ0SH\n",
       "A7b0RCi9UUf9B9LUA+OVWBACJksSiFTOew5McRcSp5yrNoH0wg0Alg5oCO9SXqgAAAAASUVORK5C\n",
       "YII=\n",
       "\" style=\"display:inline;vertical-align:middle;\" /></a> <a class=\"ProveItLink\" href=\"__pv_it/4e394a61e5f4f78314b188a7f471367e2d544f020/proof.ipynb\" style=\"text-decoration: none\">&#x22A2;&nbsp;</a><a class=\"ProveItLink\" href=\"__pv_it/0e1f9d85a4045b6a2c9fe14302229bc6a545b1ed0/expr.ipynb\"><img src=\"data:image/png;base64,iVBORw0KGgoAAAANSUhEUgAAATcAAAAVBAMAAADRH7SIAAAAMFBMVEX///8QEBCIiIhmZma6urrM\n",
       "zMxUVFQiIiJERETc3Nzu7u6qqqp2dnaYmJgyMjIAAAAcRTyBAAAAAXRSTlMAQObYZgAAA+NJREFU\n",
       "SMfFVl1IFFEUPs46uzu7s6sPkYQki0SPuWVkpZAQJAjBVmBBRCJKBT2sCEX/SxCt9bALPSRFOSVk\n",
       "+FBLPpRgsCmBmMTgFhX+tGA9FFRSRhaonTv3zp2ZnRF0JTpw7tw5c+6d757fC7ACusV4ReRPOsv7\n",
       "kLNkMpHXtr4YZSQxu7ylZv1j1k9Ca3y+pBnAjaBfEMHnvMAFk5TJdJpLI9rP7XCMj1Z9eJC7rRi6\n",
       "36WCD/F34KsUywtchjHS5B8ubSHDqE3ZTXAFQmDTBzlk1fQWqkIEEQ0gTgU/p/ICd4oxOrf3N5c2\n",
       "kOG03XKNOHgUsOmDr5g+A5dPnmfg/CkEdwdFwz091/PCJkUpk32FGYuzC8N29U/IO9ncrA/wgaK/\n",
       "qHDLyfUILlgLMBuPn80LnBCmjFTvnzOyD0VehwzsRW5nc7M+wCANPcVwa10DBoEc1mKErml3hOBN\n",
       "LgbOq1JGx9SK3/FxgMqjfGYhDxqHxTbT12nSmrTewpKFVcS8WWJqn5bXgRlHCO9rLa+TG6qq9b+l\n",
       "KKMXQfoBsK+KyssBmp0MHQI324vqc3qsjTFTQsgTaXRBlJxI0I7fNedYy3aoxry/UhVkaYzVg4Ja\n",
       "ypgDlVtm8VFH5d3stLk7RXnRYPo6HdZCruwrEgMHsd0owXIjqx5NZbjNCZzcbcT2274eEAQYVnPB\n",
       "4VBmgHOlnLO/mtZUQ98CTjJbDmJuCk7KaskvhuJOO+718kVaCgpC4Xgyx61+5FYDnJT1OAbIbYiy\n",
       "lKH6mdfl4fIWvq7YDK4xiP8j6u1ahLgBQ8at5O7Y6IryGqFFjmvjx9yEuIn8zQAHl0adE+gQq7ZM\n",
       "/9VaWK2s5wmxyWK5cZoQ0Kv9fgwqQHyWCy6QEnij6dLACbCNxRxJdcJarUskDXANtAQ/zLLBN08L\n",
       "2RGF10fUl+5GYQZqcF7DHcHaV1oexJLtwqSAInIg39RIQuEV3Oh7NUO80eyPx+MhBJdmBiBmR/Yl\n",
       "5hV4stBmgAvSMPU06sMJKp+iiaHru0NiMZxBCXWF72i9pfFDUGt4BJFLgc6IHdx2kH5C5mnm4HPi\n",
       "eGq5dNjWvijp4CTFuTDesL4WRISYNB0haUwPO0Tbl07dfIapW6QScNIV6FD0Ab0Pc/AoW5DqRxeS\n",
       "kwgyjKTtjd9Ur5ZMnWi7QCxta/w6DfAgnAUpcY6AE0thT1JcQ4ZSSMSg45fqjnTDZlS6ivzm5dYv\n",
       "5uZhaiDXLjQtC9wubMPSccV2ZdLrYm6xJG71G12SN55eiGK4Chhzi1w2V0LtsKS+KVZU0+uxcVEm\n",
       "dA/WQVPyX13TA4s073dOQtVh9p/oL8QwEOwu7MbYAAAAAElFTkSuQmCC\n",
       "\" style=\"display:inline;vertical-align:middle;\" /></a></span><br>"
      ],
      "text/plain": [
       "closure_spec: {m in NaturalsPos} |- forall_{A_{1}, ..A_{_a}.., A_{m} in BOOLEANS} ((A_{1} or ..A_{_a}.. or A_{m}) in BOOLEANS)"
      ]
     },
     "execution_count": 3,
     "metadata": {},
     "output_type": "execute_result"
    }
   ],
   "source": [
    "closure_spec = closure.specialize({m:m}, assumptions=[InSet(m, NaturalsPos)])"
   ]
  },
  {
   "cell_type": "code",
   "execution_count": 4,
   "metadata": {},
   "outputs": [
    {
     "data": {
      "text/html": [
       "<span style=\"font-size:20px;\"> <a class=\"ProveItLink\" href=\"__pv_it/999796f7bd16f0509373f91374f4ef620a2e87cf0/proof.ipynb\" style=\"text-decoration: none\">&#x22A2;&nbsp;</a><a class=\"ProveItLink\" href=\"__pv_it/c1debe2a895b92c6cd2a1651656b8ca711ed38ec0/expr.ipynb\"><img src=\"data:image/png;base64,iVBORw0KGgoAAAANSUhEUgAAASkAAAAVBAMAAADoeAXTAAAAMFBMVEX///8QEBCIiIhmZma6urrM\n",
       "zMxUVFQiIiJERETc3Nzu7u6qqqp2dnaYmJgyMjIAAAAcRTyBAAAAAXRSTlMAQObYZgAABAZJREFU\n",
       "SMe9lk1o1FAQgMfsZn+y6daDICpi9KQ96Iqi1RaseBBEoSqoF7XQqngQ1os/VXEFrVu97M0iaqMF\n",
       "rfVvoYgIgmuLglU01IMr/rD+HSwoxf9/nZn3sukmEdyCPpjJy+Tl5XvzZt4EYLjtqJRht1jG334Z\n",
       "pUCdx+XPqaWEgDa5cVM09/cvnmiZZR3h3sbSB8rm9M/RTQAhpL1FhoHyqeIZITDRgth0SxhV1vWe\n",
       "wfXOQ2U8QPd47p53T6kanR0WaOioNryNpsqnuielsxnVPLkZIfp8heEZvI5UP7t4vwkQ+MJW3TUw\n",
       "ErSUekTpQUAcpWfLp9ou5Sm+D/OlUW1AFTY9g1eQamZ/jEUVHCmCQFwgv3VrQVLFskh1HFfW19V1\n",
       "qHyoaFJI4BvdLbfNr1AW+G93MEG9eeQANSHML1ivqnJ8pS9CqngdwOd0emf5VEpCSHuS7k7b5m6U\n",
       "Vp90w5ER2uXoJ3aS3PBevhkYsoMLV2AM6Anec5qnoqVW8UnVfGNuih9VxBJyV8aGKkIzXOyVNmRf\n",
       "xaH01rbQqCccixmHavSvUYRSIIdT0EefgbbHO9sxAzpHFu+eTJ1dI7vhrJDdIuHUGUnhQgNCdT5U\n",
       "kwCa+LUPtvcGUV1ilqHRrj/GMyaWpOUpuOZ2nCvvjZ73SC7Wrl2ZYSl69KFM+xF1QiZwaJsQFFRa\n",
       "0pPv3E7x0vGVrzwK4CxRraWbpW+w2dEOqSW4RHymW+h2oNBa5pksjOSq2KP85S5QFOizSql288Lr\n",
       "bSqoEQeguwWyIs/DBAMXAaqKVG1DfQWpkKCKFjBvFVpDl2eyaegJjb3BGaQowUeZ0h3kk0qHItUx\n",
       "SPqmbCEs6PikyoGaJaqFvL4Sqoa4nKsVdzwstinkOmq2yeEmxDlqAtNfuqK9nTzZ51BFVhu+Obuv\n",
       "X9BRtOsmrmPQjvaAUeKrRyLaoRsnrORCpl5zUX0Xl/smdDCVAnNkXFH2ksR+4ASmQ6Vu4Cm0n6gu\n",
       "FGyF52izeH4V69NcgAdMVcumHU7Fyem9eA4HCKbSEAGkWZ5jmaLtHATXmLAynU4bSJWTKyMKJulo\n",
       "aawDhwqei8sW2uUGW+EX5cGpVa+fidpgKuH4k3vNkuoMca5bVJlSHB1uqmoOgjNYlULSV7mEq+KA\n",
       "Q8nt8B9qQcnMsdredxYlLLfF+0XFcRLWbrtAu8lU0QPQZtoqbMHZDBhIpRO/osPtnKs6299Jllmx\n",
       "vnqrs916ij29scdkKnUcLM2oY0iNA7hRWwVqz8TrAAcpvu5Uvy6GZkYWEfGR2R+NsqjyH7P+JxvI\n",
       "k23o+YRkMWf9dmcEmhWMK9+/vuG3Vn9zxFX41Gk14gfV+VVlgLtz/sUfcsUf/pAf+Bktn97/br8B\n",
       "OusSPdSTW9AAAAAASUVORK5CYII=\n",
       "\" style=\"display:inline;vertical-align:middle;\" /></a></span>"
      ],
      "text/plain": [
       "|- forall_{C_{1}, ..C_{_a}.., C_{4} in BOOLEANS} ((C_{1} or ..C_{_a}.. or C_{4}) in BOOLEANS)"
      ]
     },
     "execution_count": 4,
     "metadata": {},
     "output_type": "execute_result"
    }
   ],
   "source": [
    "closure.instantiate({m:num(4), A:C}, num_forall_eliminations=1)"
   ]
  },
  {
   "cell_type": "code",
   "execution_count": 5,
   "metadata": {},
   "outputs": [
    {
     "data": {
      "text/html": [
       "<strong id=\"demo1\">demo1:</strong> <span style=\"font-size:20px;\"><a class=\"ProveItLink\" href=\"__pv_it/a4069ea3008f0d8fc39b9aec39df702217cc458b0/expr.ipynb\"><img src=\"data:image/png;base64,iVBORw0KGgoAAAANSUhEUgAAAQ0AAAAVBAMAAACuzqZ5AAAAMFBMVEX///+IiIi6urrc3NxERETM\n",
       "zMwQEBCqqqpUVFQiIiJ2dnYyMjLu7u5mZmaYmJgAAABN0h6tAAAAAXRSTlMAQObYZgAAAw5JREFU\n",
       "SMfNVk1oE0EY/XaTNZvNus1BD4JgTwUlaA6C4CmWIAaUVChSvTRIPIRKycGfi8VgK0RUFMTWoGIQ\n",
       "KSgoOfWgglsoIhSxFQ8Brc3Bk0KT1qixUeP87e5s2N0gPdSFTebn7Zs3b775ZgBA+wjr+kjzOv5T\n",
       "n8I6P+IJ/KvVmKySvXdLOjl1q5tVtGuNhbFeW78wHm9mLpjV6QPlyl4vgno+PuoywntcU67T1lCt\n",
       "TWbpsHrQXLINMYDFPlt/SArPvK4YqoYBRoY9CLrQNKtZZ8BDXseXX206Yjths9+oDKIBd83Z+v1i\n",
       "ReiL0bKaQGu88asXQRgBUs4AXoc6YrB8KhRKDHXWpNkWRdMJU4sThdtMRyDLdIRO4nVOeREgM8U/\n",
       "zgBehyasUFD/Vkvt/RmDZj9SmiFxLe3TTT+UCNOxiB2X5jwIkuj1rToDeB2RABWrPrdcE29eNCoN\n",
       "gKNXSGlWt9Zl+wANGd9P8mnUg6CODWs4AyZxRSYWqd3SMumToyaq5953I9ylxtKmCVocteIj0zpO\n",
       "i8qyteguBBghrDoDqrhyhkxJBN9vys5H0ZPPxnZAwfMyR5u5OFWWiqQY/MaFrzMBRsgrzoAQWtD+\n",
       "G6RpYKFcJ4Ujz9BjRBEaipGjEBR+kIkNYQDTgTFkV5O9pnoR4KzQlXIBXEI7oIf4gewZIh/s5tX6\n",
       "Icd2P/oXiPk+3g+IydQPkntOexHgz6oVZ0AIg2SMCKB3nE6NR8lQstIHdRVSvI5ciBRp5ih6EaAZ\n",
       "q2kXQNXcL3vQ+4JShnm1WtFKH4PUiXmbH3T9fdgqRfciQK7PllwAk4YOH9aSpHE8YWbdY/CoDGoT\n",
       "l6dQJKfpOMGsmdeLyuMcvMHs5ysQ+MDaHQnQJMW7zgArf6jJpg6nWhT3qle3nUIFVL3culqOs/HV\n",
       "sYjtnAvewY3v8m8NdheC/KGoC8B+vpjPjkSBP3oDevsx/YDmdeM5B/9I0A5gOlLetwOl0/WhCGsk\n",
       "oDq0mjdougOJGoa1EbD7B3S4j1U6kGidRulEACI9HQL/w/30L+1MHGD6X4c1AAAAAElFTkSuQmCC\n",
       "\" style=\"display:inline;vertical-align:middle;\" /></a> <a class=\"ProveItLink\" href=\"__pv_it/b1df695420a92cfdbe651862efe7f8e2c13f0bcc0/proof.ipynb\" style=\"text-decoration: none\">&#x22A2;&nbsp;</a><a class=\"ProveItLink\" href=\"__pv_it/d5ac6f783d92e4249756f2632eb5a547bbe38c3f0/expr.ipynb\"><img src=\"data:image/png;base64,iVBORw0KGgoAAAANSUhEUgAAALwAAAAUBAMAAADFKEobAAAAMFBMVEX///9UVFTMzMx2dna6uroQ\n",
       "EBCqqqqIiIgiIiJmZmYyMjJERETu7u6YmJjc3NwAAAC+aOQFAAAAAXRSTlMAQObYZgAAAp1JREFU\n",
       "OMutVU1oE1EQnmRjNuavOXgwRpv1poIkJ6EomIsQodIeegh6MEd7MhcP0kNysYgITZEqvVgRe1DE\n",
       "bEBRKLZ7sEITkBVvQrFHESGNaCoVG+fN7CaZ0IpgHmTy5nvzJt/OfJkFiNowgOXf2OOgzl8n+uBI\n",
       "sjmfeN4HhqfiR6JpAb1vVxNVzD0sI/UbS9u5A7h5xn5FGS9tDbL7TIAFQ2LXbPDP2RLbRiotgFof\n",
       "k6C3UF+zIVJmshULrUfdiBQISWGasbLA6rfRLGwIzLuFZg5AK8j0IZ+tGyYEuGhv1S3wxtAELEKK\n",
       "CHwqCGxR2XMyTv+GZsyG8LhT1Fc3bznp/XkTPjNqFzPgVOo8Iy+w1DmrF9vfUva4jAttomlgPx6R\n",
       "631pddhroyZcJ8dnXSUBTeJnmc+bAMcOC6xRUvadjBsyFXt8mhFya1a3ONmjBrwm5w2kqHYB/H2T\n",
       "aTTXp6ZBYGe75e3G0b0isv9I7nC39rn2BACnyECDWqwXwJNhZe0ArMYENmN0ddeJKyowifsr5Jo9\n",
       "rdXW0zBBVOPzSToIl1yFhbBVektgl+nBLRm3oswP9RiU6OITXE56MC9weh/K/AFF34VTfG0Imetb\n",
       "Apuhv6ch434ptfx200d72YPp4eLksZosrC9Qgo7sPd8FRtrVQGAk+1WVNEv+eG/6WJBaG8X0wU1G\n",
       "Tzr9U7JPmQJrqK8zIDAl+zBVg1t7T7D/QHpS2g/tMJuDjrIWsWSXLIH5sQaTzrGLKVZZUsUdllS+\n",
       "MxTS2khMPVO9/RT8Kz95Ojzm00Pt+OySG+pgsFaNZ0BgnkpzNnGftg956CVGxUgL9E3Sr7sM1X/B\n",
       "wk7PfKd5KLiDtwwDWf0jzV3Lg0lf+/vr5H/XXiwH8zKM7P4y/AOcuMYfYjeKmgAAAABJRU5ErkJg\n",
       "gg==\n",
       "\" style=\"display:inline;vertical-align:middle;\" /></a></span><br>"
      ],
      "text/plain": [
       "demo1: {A in BOOLEANS, B in BOOLEANS, C in BOOLEANS, D in BOOLEANS} |- (A or B or C or D) in BOOLEANS"
      ]
     },
     "execution_count": 5,
     "metadata": {},
     "output_type": "execute_result"
    }
   ],
   "source": [
    "demo1 = closure.specialize({m:num(4), A:[A, B, C, D]}, assumptions = [inBool(A), inBool(B), inBool(C), inBool(D)])"
   ]
  },
  {
   "cell_type": "code",
   "execution_count": 6,
   "metadata": {},
   "outputs": [
    {
     "data": {
      "text/html": [
       "<span style=\"font-size:20px;\"><a class=\"ProveItLink\" href=\"__pv_it/2dd827c8e0f0b4a63fd981067a66d0370bf334ee0/expr.ipynb\"><img src=\"data:image/png;base64,iVBORw0KGgoAAAANSUhEUgAAANEAAAAVBAMAAAAqbRZ+AAAAMFBMVEX///+IiIi6urrc3NxERETM\n",
       "zMwQEBCqqqpUVFQiIiJ2dnYyMjLu7u5mZmaYmJgAAABN0h6tAAAAAXRSTlMAQObYZgAAAv9JREFU\n",
       "SMe1VktoE1EUvZmZ/CeTunAhCM2qCxHJQhBcSJD6KVRSIUhx0yIVBKUE/K2KwQ9UpLYgagstti6E\n",
       "upCsXFShEaRY3FRxEdDWFF2IIrGaSv209d77JjNzUypC44N5w5x33jvv/t4bALDm4D83/4sCvcwJ\n",
       "6vfUZcnT6+DaceqtLySXUuL5GsqH1b5ic6IGfHKwWNotEKu/0tt8CSCUlMwtXemHgzT9NX1FBrCL\n",
       "KkqUVKGNRRW3CyC2KDFfN0BPt8TiuMVyFszaneYPm60UnHFH6bMa+PSb+ivUzSsjV9D0ZYGZLej0\n",
       "2DfJ62hArBNgrEYptQM2G0LpBuNmDy0A7dQNq/0jYC0ILHqKHN8peY1on4a7mrIV3g8N5W2l80JJ\n",
       "H1Du9n0F25XaDCMGrjg1LLC3WbJ1RvLS+Og/EVIxzWx1bbr71KvkU/ztwRV6BfHLUIGL58A/WPBi\n",
       "+g+2Pil5FbJzCRfjhczHrve0m+Tke/QRQjONEhMS/gUeR+2MYnZcn2/JCiyy4EbB4fE8H9pksc/c\n",
       "FEw13flOZpbp4xy6OMyraaAv8/gmgIuK2ZgE84TAwouuksPzERhC1wc5DIY3Ix58JEejrRlKhgC7\n",
       "t322WOHxaSdd95Na1osFOD1NyTOoOuIYUz+XyZFH2KoZYWjksKuYnE1tVSXsTvLEWDaiXAZLpNTg\n",
       "xcK81lnJi1Phl0tVpZ1emwzIoU05Mjpley+Izy0e1/NhcMoJ+hNejCsJRiWPysnsogCw9wJepRDk\n",
       "7ThR7nFG7MJnUhH2qXrkcvJXBKZT8CMFyaNyek7uUhkRa/DaZI3auUdKlJxcU2mVNe2qHiGKrm9q\n",
       "BYFdKEHwDUgMN6iNsIYy9rZzGh2F+0VvPaHRZvpXAc6sjigFVV+hyaXZywfsSTYG5qvelyCxa6t9\n",
       "vYd4j1E+C+HZ3oI8YWtPI6fphbUn/z9h0/Z7W8uQOGyVUqd7wm64ja2Djzv3k5Gsi9CaW6Pa+H6C\n",
       "Cfcm3Ghbb8PaMX4F5+p2u7/7y3/EHzAz3fsWVFxoAAAAAElFTkSuQmCC\n",
       "\" style=\"display:inline;vertical-align:middle;\" /></a> <a class=\"ProveItLink\" href=\"__pv_it/524d12fc2cb180b0c825cc45bff9e6ab87c974b30/proof.ipynb\" style=\"text-decoration: none\">&#x22A2;&nbsp;</a><a class=\"ProveItLink\" href=\"__pv_it/af21e96bc662cb74cc7cb3eb21c032f16e434dba0/expr.ipynb\"><img src=\"data:image/png;base64,iVBORw0KGgoAAAANSUhEUgAAADcAAAAPBAMAAACy3Eq1AAAAMFBMVEX///92dnYyMjKqqqoiIiLu\n",
       "7u7c3NyIiIjMzMwQEBC6urpERERmZmZUVFSYmJgAAADEjrHzAAAAAXRSTlMAQObYZgAAAOZJREFU\n",
       "GNNjYGB4+//O2d0LGJBByez9mr4QodkMDDw/UCQZFNpZt54DMTj+MTBw/UGV3LCOoYIbxGD/xsDA\n",
       "9x0sxrfFxQkmaQyW5J7AwBDpCjZjewBCp1Q0iMF/gYHDFywaFIAwlsvjBojRf+/5FgOw0DWEnSv9\n",
       "f4JdW5/AwDoXIoTsILmHIMZOkAKQVo5JSkAAk+TmegBk/AVJFgAJNhSd3AwXIN5kuA+2YAKyJC+D\n",
       "AsSbHL/BQsdRdPIJMDAwAdWv3AoWYjGAB18jg+BZBgZe/b9nbm+GCLHeXooR8AjAJQ0NPggAAH2B\n",
       "SAzP/7V+AAAAAElFTkSuQmCC\n",
       "\" style=\"display:inline;vertical-align:middle;\" /></a></span>"
      ],
      "text/plain": [
       "{(A or B or C or D) in BOOLEANS} |- B in BOOLEANS"
      ]
     },
     "execution_count": 6,
     "metadata": {},
     "output_type": "execute_result"
    }
   ],
   "source": [
    "demo1.element.deducePartInBool(1, assumptions=[demo1.expr])"
   ]
  },
  {
   "cell_type": "code",
   "execution_count": 7,
   "metadata": {},
   "outputs": [
    {
     "data": {
      "text/html": [
       "<span style=\"font-size:20px;\"> <a class=\"ProveItLink\" href=\"_proofs_/eachInBool.ipynb\" style=\"text-decoration: none\">&#x22A2;&nbsp;</a><a class=\"ProveItLink\" href=\"__pv_it/f09baeaee750b7646a5891b0d0a2f643577fc87b0/expr.ipynb\"><img src=\"data:image/png;base64,iVBORw0KGgoAAAANSUhEUgAAAmoAAAAZBAMAAABz1R8KAAAAMFBMVEX///8QEBCIiIhmZma6urrM\n",
       "zMxUVFQiIiJERETc3Nzu7u6qqqp2dnaYmJgyMjIAAAAcRTyBAAAAAXRSTlMAQObYZgAABr5JREFU\n",
       "WMPtWV1sFFUUPp3Z2Z/56fZBRUTNRI0UE+gmlaJQZA1RiEqY9gEwmLABiciDrpK4KBAXQ2ABY+uD\n",
       "0JBAV0kKVsGNxIcmEAcQlQJmpGCq0rCCL/JgCAjyI+K5987s3JnZLSwBHoo32Zl77jl7ztxvzjn3\n",
       "3DsAVbdXMu1wJ7dQZukN/CsNd3pb9z9q/rZxUG4PQ61IbgPVoVZLbpo1JEGTszi11883LljhGRbe\n",
       "yP077GWAcDtF7QAZO1UdamoBb7X5IYlaLYGlBqGbZHjHJX3rZgvkIkWtA6+xbHWoUfmOoRmgfeQy\n",
       "B+NoesIzHg1ZgoHz3kNRIy5DfaeavEZ888DQRO1tcmlAhzuuU7o/kynaqCkFRO1jiprW2929vtrV\n",
       "4Fh396dDc1GI0Wktx/w2jGagWY+5vqY+h6jVJukaeiGXW1otavFcbpU5JFETaFyeB5i5kK4Np7gI\n",
       "nTIDU52aoKjNB1hdLWphA6K3ttS9HYW0VGYsSioD6fxA/RJKhttd1IZdvYuUDkWK2mS2LlSFWigB\n",
       "25mu8rPzvIapZ/cuYGL988xRQWFtZbNQUhNiN3UQ5VDWcqituWl1WZUV7SnJIDNCUrxwEfNXilrh\n",
       "VwN1AONLSVPUIiD4Kq+ZzUnhnsojafobTfvHk2Wf6y8PVQdqHels0mFrXTCTnAB5uftw7PZqZeV2\n",
       "CzB/BNhdVmVle0/aD3ji5CJnPawhaqP4lMJlQrb8ic1ZDSA7Df3wNEVNtSJ8kbez0VKyvTC+8ghB\n",
       "7RDbIciTypa6m6/wlJgC5RJ5XMRSC9Y4nfic/T7UJJNTrtk/D8FZttivCeDrPOu7Km0eL8jZ68Lf\n",
       "Z3sngm5u/IpHLY5+JpwBT3lFUQuXUIsVZ3Bz6O/pBuWwCGblEYLXJok6sLolUQ613kUep9dBJK8r\n",
       "ghokPSBMlqJWH2phg1MuJLmdn0Nwlh/BOeDTvAnwlN13Vdo8XpCzhxWttnZDHnRd3cZHKCnXwjRe\n",
       "ajyopXBTFGIRCqtxo6BNbH1YeNQgCQtDd/aLOsGo7+hDCe9ICbXoOhogrdFy9bGk53jyCwPGkFW8\n",
       "AS9yYEMhEDfs9qEW8SjPlmLJJTjL+BexHeRzIJxifU4l4/GCvD1MTZPJXden7edXA1KuzaH6Rd3j\n",
       "a8dKqwHsQBi0p62ahUKK7TAVo/cowejIAzDcO1JCTRlHuykRiYV+IMIwjienj66nr3sxI33iES/u\n",
       "DLX1HuXfcP7iEJRprxxJMo3QmcMr7b6tMpx3eLwgb09JsW243vigs30ihQX8huruZe93ibujMtW9\n",
       "aFk0GWpxxHPDSIgncWAzw0glf459koZLnhHuzINGvVYQTsNL9/lR+xUaePIHgJHk/g+l/OJxswxq\n",
       "Uz3Kt3L+YhOU6e630fvUIghp1mcqpd15h8cL8vZCWTnBfE38yBnC2b12dV5Tzl4eulbkPbt3qDUY\n",
       "ahoZnwstJKZn5nI5XTFiFoEmrIfqvCMuar+Qy/bm79Hf3/GfGpw82MYH4vuY8Qt2AtsWECfZTrZ8\n",
       "qD3rUa4mu4BzmK4S03E/GX0gakLsMuvbKiN5h8cL8vakorQ4l3uP5DXBs6Pi2gurMp7CbAt/vnY3\n",
       "1EOnhMFFPQueIfFcY4im4Rnxna+Nh9i5IGpiHjoNbcLA2J3M7XEu04mvPIE/MyAuZkl1huImh9os\n",
       "j3I5O5Y/yRnrMPt29c3eR9xPREPxAoQusj5TyVCjvJKflpjMXigFKeZrqujZvQ/S9nCoxU6jt/Wr\n",
       "oBIbWhI0M7YGOiHyvOGOBFDD/AhX6MQ68ihuXwCLmriljIERCr7+NRC7BLH7SSdiweftQfFlIO8H\n",
       "pd5WG3VeqKsc65xU6T+MYMwvizWFncT9fiIFTB4+NO0+VclQI7RjjGMyezinfRQ1Uz1YqXr2B1KR\n",
       "Qw1R/wPW9QKsRWLK75htpREYJ8IhbiSAWlsWOv62yMRaCtJwaGknl0L0AsTalsF8OS0mAbV8d7Zx\n",
       "Ae3At81kK+wTB3XeHpzefCnLr6F5TjldhW3xdkYwZtjYAo+TmaBPqu82Nq2w+7ZKihqhHWM8k9rD\n",
       "B4xi7tCWnvzA4k8lr7UlCZyAC5jF7AUmMFLhBJxMzD1qcnppJRFRXC1up4K4cIRDTSjw0iB73rab\n",
       "EmEHpIkkn0XdPkXNw+MIao/UB/WY16o4Af/5Gt8Neq7zu0Hr2QIoJbd2enJKSIZHcVp6riGuHOJ3\n",
       "VFlOumLrwrp1bsWAkhomDBJo1N6um/+1xaria4tWpufTYl2XuIPatNvyiSBx81Gr2DK38nuo6PXB\n",
       "W3uWdmNfPkKZt/4D3RAuCPhPvnMAAAAASUVORK5CYII=\n",
       "\" style=\"display:inline;vertical-align:middle;\" /></a></span>"
      ],
      "text/plain": [
       "|- forall_{m in Naturals, n in Naturals} [forall_{A_{1}, ..A_{_a}.., A_{m}, B, C_{1}, ..C_{_a}.., C_{n} | (A_{1} or ..A_{_a}.. or A_{m} or B or C_{1} or ..C_{_a}.. or C_{n}) in BOOLEANS} (B in BOOLEANS)]"
      ]
     },
     "execution_count": 7,
     "metadata": {},
     "output_type": "execute_result"
    }
   ],
   "source": [
    "eachInBool"
   ]
  },
  {
   "cell_type": "code",
   "execution_count": null,
   "metadata": {},
   "outputs": [],
   "source": []
  },
  {
   "cell_type": "code",
   "execution_count": 8,
   "metadata": {},
   "outputs": [
    {
     "data": {
      "text/html": [
       "<span style=\"font-size:20px;\"> <a class=\"ProveItLink\" href=\"__pv_it/3064ac9073c4cad6423581d918dda41c268b33740/proof.ipynb\" style=\"text-decoration: none\">&#x22A2;&nbsp;</a><a class=\"ProveItLink\" href=\"__pv_it/4adbac21b979622f54a8418e5a9d4d51473be0000/expr.ipynb\"><img src=\"data:image/png;base64,iVBORw0KGgoAAAANSUhEUgAAADUAAAAPBAMAAAC2KZqIAAAALVBMVEX///92dnZERETc3NwyMjLu\n",
       "7u7MzMyYmJi6urqIiIiqqqpUVFQiIiJmZmYAAAAtULTAAAAAAXRSTlMAQObYZgAAAHlJREFUGNNj\n",
       "uHMGBE4zIAFesNCZDSD2SogQG5hMAJNcE6DqoHLcIGH2CVjl2ECG8ARglWNwBuJeBuxya4FYGYcc\n",
       "D9BcBRxynBMYuBtwyLEeYAhhwCHHcItBCqecCcMBnHJM6RNwyrHtCUCXa4eHsi+MwVHAgA5MUXgA\n",
       "6F4mSiD358QAAAAASUVORK5CYII=\n",
       "\" style=\"display:inline;vertical-align:middle;\" /></a></span>"
      ],
      "text/plain": [
       "|- TRUE or TRUE"
      ]
     },
     "execution_count": 8,
     "metadata": {},
     "output_type": "execute_result"
    }
   ],
   "source": [
    "Or(TRUE,TRUE).prove()"
   ]
  },
  {
   "cell_type": "code",
   "execution_count": 9,
   "metadata": {},
   "outputs": [
    {
     "data": {
      "text/html": [
       "<span style=\"font-size:20px;\"> <a class=\"ProveItLink\" href=\"__pv_it/a4097a8a3567fa8da700dba4a45b099efeb381580/proof.ipynb\" style=\"text-decoration: none\">&#x22A2;&nbsp;</a><a class=\"ProveItLink\" href=\"__pv_it/39d2e82cf983c93e173d1434bd96b807f88bf65e0/expr.ipynb\"><img src=\"data:image/png;base64,iVBORw0KGgoAAAANSUhEUgAAADUAAAAPBAMAAAC2KZqIAAAAMFBMVEX///8QEBB2dnZERETc3Nwy\n",
       "MjLu7u7MzMyYmJi6urqIiIiqqqpUVFQiIiJmZmYAAACecvKAAAAAAXRSTlMAQObYZgAAAHtJREFU\n",
       "GNNjeHsXBO4woAL2DVDGLigfTBaASe4FqHI8IGGOBVjl2A8ACd4ErHIMIUA8jwG73D4gNsEhxws0\n",
       "1wCHHNcCBp4JOOTYLjCkMuCQY3jNoI1TzpXhAk455ooFOOXYzyagy82AB3EcmOS7e/ei7N27B1CD\n",
       "3w2FBwB6DinsStvkdwAAAABJRU5ErkJggg==\n",
       "\" style=\"display:inline;vertical-align:middle;\" /></a></span>"
      ],
      "text/plain": [
       "|- TRUE or FALSE"
      ]
     },
     "execution_count": 9,
     "metadata": {},
     "output_type": "execute_result"
    }
   ],
   "source": [
    "Or(TRUE,FALSE).prove()"
   ]
  },
  {
   "cell_type": "code",
   "execution_count": 10,
   "metadata": {},
   "outputs": [
    {
     "data": {
      "text/html": [
       "<span style=\"font-size:20px;\"> <a class=\"ProveItLink\" href=\"__pv_it/838fd974fde784a6ab2b6889943baa45c1c4bcea0/proof.ipynb\" style=\"text-decoration: none\">&#x22A2;&nbsp;</a><a class=\"ProveItLink\" href=\"__pv_it/8124e15701680a1378c57092c649e314fb9f14170/expr.ipynb\"><img src=\"data:image/png;base64,iVBORw0KGgoAAAANSUhEUgAAADUAAAAPBAMAAAC2KZqIAAAAMFBMVEX///92dnZERES6urrc3Nwy\n",
       "MjLu7u6YmJhUVFQQEBAiIiJmZmaIiIiqqqrMzMwAAAAH70cZAAAAAXRSTlMAQObYZgAAAH9JREFU\n",
       "GNNjYGBgeMuACrhXgUEDiH0HIsQHJh+ASd4DUHVQOQ6QMPsBrHJ8IEO4ErDKMYQAsTUDdrnbQKyC\n",
       "Q44LaK4CDjmeAwwcBjjk2BYwpDLgkGPYyyCLU86VYQFOOabnB3DK8XUloMjtWrVq5qpVKyBC0TBV\n",
       "zAUM6MANhQcAQLgq4na1HsoAAAAASUVORK5CYII=\n",
       "\" style=\"display:inline;vertical-align:middle;\" /></a></span>"
      ],
      "text/plain": [
       "|- FALSE or TRUE"
      ]
     },
     "execution_count": 10,
     "metadata": {},
     "output_type": "execute_result"
    }
   ],
   "source": [
    "Or(FALSE,TRUE).prove()"
   ]
  },
  {
   "cell_type": "code",
   "execution_count": 11,
   "metadata": {},
   "outputs": [
    {
     "data": {
      "text/html": [
       "<span style=\"font-size:20px;\"> <a class=\"ProveItLink\" href=\"__pv_it/3deeff5ad99c5e9aa7216dd1bea314d24be8136b0/proof.ipynb\" style=\"text-decoration: none\">&#x22A2;&nbsp;</a><a class=\"ProveItLink\" href=\"__pv_it/7b21db2e1c00ae7c03b61376a829f5c4168615860/expr.ipynb\"><img src=\"data:image/png;base64,iVBORw0KGgoAAAANSUhEUgAAAFYAAAAUBAMAAADl6NejAAAAMFBMVEX///+6uroQEBCqqqqIiIgy\n",
       "MjJERETu7u6YmJjMzMxUVFTc3Nx2dnYiIiJmZmYAAAAutVgsAAAAAXRSTlMAQObYZgAAAQNJREFU\n",
       "KM9jYECAHQx4APMGZB57AoicjKmM0wBErkYWYgXrNIFwJoAVQY10AJGlyGr7GJDUrgQRLchqeRyQ\n",
       "1N5GVjsLRFxHVsuugFDKfQFZLchBjA+Q1TIEItSyPEBWywzksW1AUXsOoZatAVktA9CWaQwoalsZ\n",
       "3t4FgjtAJq8BiloXBoaFqGptIbxdQMwkgKK2loE9AFXtfJxq+Qx4DHCqRXMDdwAvA6paWYRaNL8x\n",
       "ZLYwoPuNARaZPA9Q1c66jqb2DSLMGIGhBAwUpbt3b0FiA6KX7+7dS7p37y5gYIjEiGNEPBag8tkv\n",
       "YKQdnAAl7bBtwKu2FDOt4wTZKDy8eYhjAwMArrU82qimWPQAAAAASUVORK5CYII=\n",
       "\" style=\"display:inline;vertical-align:middle;\" /></a></span>"
      ],
      "text/plain": [
       "|- [not](FALSE or FALSE)"
      ]
     },
     "execution_count": 11,
     "metadata": {},
     "output_type": "execute_result"
    }
   ],
   "source": [
    "Not(Or(FALSE,FALSE)).prove()"
   ]
  },
  {
   "cell_type": "code",
   "execution_count": 12,
   "metadata": {},
   "outputs": [
    {
     "data": {
      "text/html": [
       "<span style=\"font-size:20px;\"><a class=\"ProveItLink\" href=\"__pv_it/29a3848f4291b495e33580e0a07a2e54b606c4400/expr.ipynb\"><img src=\"data:image/png;base64,iVBORw0KGgoAAAANSUhEUgAAADsAAAAVBAMAAAAKrYvGAAAAMFBMVEX///+IiIi6urrc3NxERETM\n",
       "zMwQEBCqqqpUVFQiIiJ2dnYyMjLu7u5mZmaYmJgAAABN0h6tAAAAAXRSTlMAQObYZgAAAStJREFU\n",
       "KM9jYGDgu8eADbBePACieHYxYAdMqSCS7wNU9QaY+Iv/vTdcFBgYboM4XBMggtwf4PpSGBh4vzIw\n",
       "rESWfv0Hbus/oMl/UaV5aj/DpBmBLL6PqNJ8jJ9g0iwJDAzH5qBK67D/g0nzNzCwzgD6ahmIwwF2\n",
       "MY8C60eYdHzfQ88CIP0exCkLAHuSgfkvTFregIEnA+SXCwwMIZPBQhF3b3yBSbuBlIC0dwowMKiB\n",
       "dQNDIRsm/QMkDZThbgDZ7QAk2IF4GpK3GfoVoHaDXW4OxPuRvM0KsmkZTJoZpMTfgOE8yBfcQG+r\n",
       "+TAg/M3j//sAQ8n/uQycwMDg2P/jbos7AwNamINBDXKMQqQTkEQWYEjzISKSgUcAWRoc3wxIqYUP\n",
       "JbUkgSl2PGkNAG4YT3Nf1MaEAAAAAElFTkSuQmCC\n",
       "\" style=\"display:inline;vertical-align:middle;\" /></a> <a class=\"ProveItLink\" href=\"__pv_it/5185c8b518f86b22cde474c1c9d66fd57b9b40b60/proof.ipynb\" style=\"text-decoration: none\">&#x22A2;&nbsp;</a><a class=\"ProveItLink\" href=\"__pv_it/6be0ca65fe4dbca58dfc1a28df036ccc656fb6d20/expr.ipynb\"><img src=\"data:image/png;base64,iVBORw0KGgoAAAANSUhEUgAAADcAAAAPBAMAAACy3Eq1AAAAMFBMVEX///92dnYiIiIQEBBERERU\n",
       "VFS6urqIiIjc3NxmZmaqqqru7u6YmJgyMjLMzMwAAADiRdoGAAAAAXRSTlMAQObYZgAAAQVJREFU\n",
       "GNNjYACBtwyogCf+68wQNyjnPojgAzMfgElmBwaG+RAmz/0NQJIVxOEpAIu8P8DAkD8BzNw1vwGk\n",
       "MwBIMG0Ai9QDBc5D1B2oTwBRN4A4E2KPMwMDtxFYHduG9QdA9Eog9oBIfmVgeBQNZm1jeA82gQlo\n",
       "tANYhO/rmRItiLIEhn6w3ewFDKxg8xnYfzAwbA4AK4ucGQ/WwK3AsBeinMUAqOAX2Eqgty6AxWYx\n",
       "SEEk+YG62L+DWAuAthmAxXoZFBjg3mT9BmRwACV5P0BMewPxGtib70FWNYFEf0AcGQQJAobLQMtM\n",
       "gOwt/28zcPl/ggTVTYhc7P/IqS4L0CKDoRuVCwDjpEGwITo9cgAAAABJRU5ErkJggg==\n",
       "\" style=\"display:inline;vertical-align:middle;\" /></a></span>"
      ],
      "text/plain": [
       "{A, B} |- A or B"
      ]
     },
     "execution_count": 12,
     "metadata": {},
     "output_type": "execute_result"
    }
   ],
   "source": [
    "Or(A,B).prove([A,B])"
   ]
  },
  {
   "cell_type": "code",
   "execution_count": 13,
   "metadata": {},
   "outputs": [
    {
     "data": {
      "text/html": [
       "<span style=\"font-size:20px;\"><a class=\"ProveItLink\" href=\"__pv_it/8ae1cbee09d4fcdc5c55ee8702714511e6490eab0/expr.ipynb\"><img src=\"data:image/png;base64,iVBORw0KGgoAAAANSUhEUgAAAEkAAAAVBAMAAAD4Ed5jAAAAMFBMVEX///+IiIi6urrc3NxERETM\n",
       "zMwQEBCqqqpUVFQiIiJ2dnYyMjLu7u5mZmaYmJgAAABN0h6tAAAAAXRSTlMAQObYZgAAAUJJREFU\n",
       "KM9jYGDgu8eAB7BePACieHYx4AVMqSCS7wNU0wY06Rf/e2+4KDAw3AZxuCZABLk/oJuSwsDA+5WB\n",
       "YSWyqtd/0F30D2jdX1RVPLWf0VQxAgX4PqKq4mP8hKaKJYGB4dgcVFU67P/QVPE3MLDOAAbDMhCH\n",
       "A+w3HgXWj2iq4vseehYA6fcgTlkAOFQYmP9CJHlngsACBgZ5AwaeDJDnLzAwhEwGy0XcvfEFyRzm\n",
       "BgYGNyAtDzKsU4CBQQ1sFjD0stFU/QCpAirgbgC5ywFIsAPxNFRVoOBi6FeAugvsR3Mg3o+qChRc\n",
       "rCBXLIOpYgap9DdgOA+PywAGbmBwqfkwIMKLx//3AYaS/3MZOOfATePY/+NuizsDA1o8gkENlqQD\n",
       "UZWAJLIAlyo+pBTDI4BFFTh9MSClVT5saTUJTLETTvcAsE9VecgAmMEAAAAASUVORK5CYII=\n",
       "\" style=\"display:inline;vertical-align:middle;\" /></a> <a class=\"ProveItLink\" href=\"__pv_it/e1e76cee085e8f0ec6998b0eaa6f94cac0f2d6940/proof.ipynb\" style=\"text-decoration: none\">&#x22A2;&nbsp;</a><a class=\"ProveItLink\" href=\"__pv_it/6be0ca65fe4dbca58dfc1a28df036ccc656fb6d20/expr.ipynb\"><img src=\"data:image/png;base64,iVBORw0KGgoAAAANSUhEUgAAADcAAAAPBAMAAACy3Eq1AAAAMFBMVEX///92dnYiIiIQEBBERERU\n",
       "VFS6urqIiIjc3NxmZmaqqqru7u6YmJgyMjLMzMwAAADiRdoGAAAAAXRSTlMAQObYZgAAAQVJREFU\n",
       "GNNjYACBtwyogCf+68wQNyjnPojgAzMfgElmBwaG+RAmz/0NQJIVxOEpAIu8P8DAkD8BzNw1vwGk\n",
       "MwBIMG0Ai9QDBc5D1B2oTwBRN4A4E2KPMwMDtxFYHduG9QdA9Eog9oBIfmVgeBQNZm1jeA82gQlo\n",
       "tANYhO/rmRItiLIEhn6w3ewFDKxg8xnYfzAwbA4AK4ucGQ/WwK3AsBeinMUAqOAX2Eqgty6AxWYx\n",
       "SEEk+YG62L+DWAuAthmAxXoZFBjg3mT9BmRwACV5P0BMewPxGtib70FWNYFEf0AcGQQJAobLQMtM\n",
       "gOwt/28zcPl/ggTVTYhc7P/IqS4L0CKDoRuVCwDjpEGwITo9cgAAAABJRU5ErkJggg==\n",
       "\" style=\"display:inline;vertical-align:middle;\" /></a></span>"
      ],
      "text/plain": [
       "{A, [not](B)} |- A or B"
      ]
     },
     "execution_count": 13,
     "metadata": {},
     "output_type": "execute_result"
    }
   ],
   "source": [
    "Or(A,B).prove([A,Not(B)])"
   ]
  },
  {
   "cell_type": "code",
   "execution_count": 14,
   "metadata": {},
   "outputs": [
    {
     "data": {
      "text/html": [
       "<span style=\"font-size:20px;\"><a class=\"ProveItLink\" href=\"__pv_it/a38995c0586581541e9af4cedd18459e939773360/expr.ipynb\"><img src=\"data:image/png;base64,iVBORw0KGgoAAAANSUhEUgAAAEkAAAAVBAMAAAD4Ed5jAAAAMFBMVEX///+IiIi6urrc3NxERETM\n",
       "zMwQEBCqqqpUVFQiIiJ2dnYyMjLu7u5mZmaYmJgAAABN0h6tAAAAAXRSTlMAQObYZgAAATtJREFU\n",
       "KM9jYGDgu8eAB7BePACieHYx4AVMqSCS7wOq3g0w1ov/vTdcFBgYboM4XBNQVHEjNKUwMPB+ZWBY\n",
       "iUXV6z9wU/8BrfuLVRVP7WcYkxHI4vuIVRUf4ycYkyWBgeHYHKyqdNj/wZj8DQysM4DBsAzE4diA\n",
       "bKEC60cYO77voWcBkH4P4pQFMDDcnAkEs0CBw8D8F6ZK3oCBJwPk6wsMDCGTYaIWQBxx98YXGN8N\n",
       "pBJkWKcAA4NaAJIqYCBmw1T9AKkCKuBuALnLAaGKHUhNQwouhn4FqLvgfgSqMgdS+5GCixVk/TIU\n",
       "VawMzCCmvwHDeZC3uYHBpebDgBFePP6/DzCU/J/LwAkMS479P+62uDMwYI9HMKhB5kBUJWCqWoCh\n",
       "Ci19ga0WQOaB0xcDZlrlQ0mrSWCKnXC6BwDGm1QvwCh0bQAAAABJRU5ErkJggg==\n",
       "\" style=\"display:inline;vertical-align:middle;\" /></a> <a class=\"ProveItLink\" href=\"__pv_it/4853e18993ea05e867f4b73a04134bac4f5dbbfa0/proof.ipynb\" style=\"text-decoration: none\">&#x22A2;&nbsp;</a><a class=\"ProveItLink\" href=\"__pv_it/6be0ca65fe4dbca58dfc1a28df036ccc656fb6d20/expr.ipynb\"><img src=\"data:image/png;base64,iVBORw0KGgoAAAANSUhEUgAAADcAAAAPBAMAAACy3Eq1AAAAMFBMVEX///92dnYiIiIQEBBERERU\n",
       "VFS6urqIiIjc3NxmZmaqqqru7u6YmJgyMjLMzMwAAADiRdoGAAAAAXRSTlMAQObYZgAAAQVJREFU\n",
       "GNNjYACBtwyogCf+68wQNyjnPojgAzMfgElmBwaG+RAmz/0NQJIVxOEpAIu8P8DAkD8BzNw1vwGk\n",
       "MwBIMG0Ai9QDBc5D1B2oTwBRN4A4E2KPMwMDtxFYHduG9QdA9Eog9oBIfmVgeBQNZm1jeA82gQlo\n",
       "tANYhO/rmRItiLIEhn6w3ewFDKxg8xnYfzAwbA4AK4ucGQ/WwK3AsBeinMUAqOAX2Eqgty6AxWYx\n",
       "SEEk+YG62L+DWAuAthmAxXoZFBjg3mT9BmRwACV5P0BMewPxGtib70FWNYFEf0AcGQQJAobLQMtM\n",
       "gOwt/28zcPl/ggTVTYhc7P/IqS4L0CKDoRuVCwDjpEGwITo9cgAAAABJRU5ErkJggg==\n",
       "\" style=\"display:inline;vertical-align:middle;\" /></a></span>"
      ],
      "text/plain": [
       "{[not](A), B} |- A or B"
      ]
     },
     "execution_count": 14,
     "metadata": {},
     "output_type": "execute_result"
    }
   ],
   "source": [
    "Or(A,B).prove([B,Not(A)])"
   ]
  },
  {
   "cell_type": "code",
   "execution_count": 15,
   "metadata": {},
   "outputs": [
    {
     "data": {
      "text/html": [
       "<span style=\"font-size:20px;\"><a class=\"ProveItLink\" href=\"__pv_it/d1afa5b71256d2e778f900bb0f5d5972c165788e0/expr.ipynb\"><img src=\"data:image/png;base64,iVBORw0KGgoAAAANSUhEUgAAAFcAAAAVBAMAAADBdm84AAAAMFBMVEX///+IiIi6urrc3NxERETM\n",
       "zMwQEBCqqqpUVFQiIiJ2dnYyMjLu7u5mZmaYmJgAAABN0h6tAAAAAXRSTlMAQObYZgAAAVVJREFU\n",
       "KM9jYGDgu8dAGLBePACieHYxEAOYUkEk3wdUIzagqXrxv/eGiwIDw20Qh2sCihz3B3QzUxgYeL8y\n",
       "MKzEovj1H3TX/gO64S9WxTy1n9EUMwIF+D5iVczH+AlNMUsCA8OxOVgV67D/Q1PM38DAOgMYbstA\n",
       "HA5k7/MosH5EUxzf99CzAEi/B3HKAhgYbs4Eglmg0GRg/gtRwwsSmrmAgUHegIEnAxRMFxgYQibD\n",
       "jLAA4oi7N74gmcrcwMDgBqTlQUZ3CjAwqAUgKQYGfjaa4h8gxUB13A0gNzsgFLMDqWmoikHBzNCv\n",
       "AHUzPDSAis2B1H5UxaBgZgU5bRmKYlYGZhDT34DhPDyAAhi4gcGs5sOAEc48/r8PMJT8n8vAOQdu\n",
       "Nsf+H3db3BkYsKcNMKjBkkYhihMwJRbgUsyHkSYZeASwKAanZwbMnMKHLackgSl2ovMgACfLWjU5\n",
       "UFdEAAAAAElFTkSuQmCC\n",
       "\" style=\"display:inline;vertical-align:middle;\" /></a> <a class=\"ProveItLink\" href=\"__pv_it/7dc902c6d078d1df504b2a2a35e74ac023cc23c20/proof.ipynb\" style=\"text-decoration: none\">&#x22A2;&nbsp;</a><a class=\"ProveItLink\" href=\"__pv_it/cd3b88d5bae03017034c1892218f088cbe51b4bb0/expr.ipynb\"><img src=\"data:image/png;base64,iVBORw0KGgoAAAANSUhEUgAAAFYAAAAUBAMAAADl6NejAAAAMFBMVEX///+6uroQEBCqqqqIiIgy\n",
       "MjJERETu7u6YmJjMzMxUVFTc3Nx2dnYiIiJmZmYAAAAutVgsAAAAAXRSTlMAQObYZgAAAXlJREFU\n",
       "KM9jYECAHQx4APMGZB57ApjiDEBVxLH+17tliQwMq5EFWSE6WT+AyAlgbWABJqAZ7ycwlCKr7YNQ\n",
       "rd9B5EoQ0QIWmN/AwCD/gIHHAUntbYhL7H6DqFkg4jpYxB9oX78DA7sCQin3BYjzWD7CHMT4ACyS\n",
       "BDRAt4CBIRChlgUiI878A+xtII8N4oFfDAxzlwPpcwi1bA1gJwhwfgFzgbZMg4TLrw63y2CPMLy9\n",
       "CwR3gExeA5AAIwP3P7ASFwaGhRD7gO4vWgBk2ELM3AUKGgGwn969+gYWqmVghwQ0G9BPLJ9B4YGu\n",
       "FkiogoX4DHjAFjHwA81k+YKqFuwGZiC+BAmWAF4GePBygcJGFqEW7LfNQBwPEcuExAQ4eOcngP3G\n",
       "AItMngfQMM6HBNUsSEwwBAE9rAYMXoY3iDBjvMDAnv+1gMHs/z1IuoCE99L/616lgV0eiRHHiHgs\n",
       "QOWzX8BMO7gAStph24BXbSmWtI4LZKPw8OYhjg0MABWuXKLalKd0AAAAAElFTkSuQmCC\n",
       "\" style=\"display:inline;vertical-align:middle;\" /></a></span>"
      ],
      "text/plain": [
       "{[not](A), [not](B)} |- [not](A or B)"
      ]
     },
     "execution_count": 15,
     "metadata": {},
     "output_type": "execute_result"
    }
   ],
   "source": [
    "Not(Or(A,B)).prove([Not(A), Not(B)])"
   ]
  },
  {
   "cell_type": "code",
   "execution_count": 16,
   "metadata": {},
   "outputs": [
    {
     "data": {
      "text/html": [
       "<span style=\"font-size:20px;\"><a class=\"ProveItLink\" href=\"__pv_it/57b49d1c61e0119b0d09e540ba7e945535bc08cb0/expr.ipynb\"><img src=\"data:image/png;base64,iVBORw0KGgoAAAANSUhEUgAAAJkAAAAVBAMAAACnAFEqAAAAMFBMVEX///+IiIi6urrc3NxERETM\n",
       "zMwQEBCqqqpUVFQiIiJ2dnYyMjLu7u5mZmaYmJgAAABN0h6tAAAAAXRSTlMAQObYZgAAAjBJREFU\n",
       "OMutVT9oE2EU/yVt7KW5Xm9wT6ZuYscWBYOKIgjt4CKCCVKhbp2cLM3gUrSm0EFbHDopboLgUJRE\n",
       "kTo4WCcVqY2bk622pRHR+v7kvnz3XbRLHtx39737vV/e93vvXgAEn9EFy7yr881fQVcsfZXXYKu1\n",
       "veS8/ro/9+F0IRHlwoJqc/3mSXr4xLv++Za7JgnL47isE8DAboKt5joOFYENinhkswU1PrjHREEo\n",
       "xH8o/d9urMJsKzWAo2sO2+uNYaao0JKVgNQ2xX532RRmW54cm6HD1siLRk/oOiKO3jKwet9la8Es\n",
       "O0OVvFaPs6XrMw2+T9N1SjyDFWTuuceKYJY1gYu36f6AN95j8b1ESdTK0mmLqsedL+em3NQimNVo\n",
       "zW+H7/LDJi/XtYAFnFgTtUJ4hUgPf1IjBhbZli0Y8JFdSyrvKqudoxcXFvQX5tarkpI/jzdGD+St\n",
       "5HoqFqxlIypvao83s5T1kOSWpr7RI7/HQ6MH8mGcrQ0zbCQvUlz6HCfoyW9RDtmyAI5By8Lthmoh\n",
       "ztaGGTZuN+9HpJvUtIdgOf3Eei9rPqxHZgcxNgtm2LjdSsWopsI2yjTbmtOsdkWOchg6D7w1JxuP\n",
       "YP4vU1DgKZ1/gkNMv73af4a+sZ9areeyejX6mM9yy7Qb2MAW2214i2eD1Cr2LRg77uxvJKdPX73D\n",
       "SFK28gGDaznp6se/2IKt/5P5YdL3ohNQ5hsOmL1BB1+j0+y9oiJ073/hLyIgnCSeNiFxAAAAAElF\n",
       "TkSuQmCC\n",
       "\" style=\"display:inline;vertical-align:middle;\" /></a> <a class=\"ProveItLink\" href=\"__pv_it/d4225b3e148ae88b0d61adca0309b44deffb34300/proof.ipynb\" style=\"text-decoration: none\">&#x22A2;&nbsp;</a><a class=\"ProveItLink\" href=\"../__pv_it/83a1ddf0f64531c80e7f41ea6b904214668818b30/expr.ipynb\"><img src=\"data:image/png;base64,iVBORw0KGgoAAAANSUhEUgAAAA4AAAAOBAMAAADtZjDiAAAAG1BMVEX///9UVFQQEBAiIiJmZmaI\n",
       "iIiqqqrMzMwAAADC2JlRAAAAAXRSTlMAQObYZgAAABlJREFUCNdjYGBgKGOAgFRa0s7GxkrGxoYA\n",
       "QSUGlQeagkgAAAAASUVORK5CYII=\n",
       "\" style=\"display:inline;vertical-align:middle;\" /></a></span>"
      ],
      "text/plain": [
       "{A or B, [not](A), [not](B)} |- FALSE"
      ]
     },
     "execution_count": 16,
     "metadata": {},
     "output_type": "execute_result"
    }
   ],
   "source": [
    "Or(A,B).deriveContradiction([Not(A),Not(B), Or(A,B)])"
   ]
  },
  {
   "cell_type": "code",
   "execution_count": 17,
   "metadata": {},
   "outputs": [
    {
     "data": {
      "text/html": [
       "<span style=\"font-size:20px;\"><a class=\"ProveItLink\" href=\"__pv_it/5d5aca24d98f946142cf11ef8e749dd077b62e6d0/expr.ipynb\"><img src=\"data:image/png;base64,iVBORw0KGgoAAAANSUhEUgAAAPMAAAAVBAMAAABhxcWTAAAAMFBMVEX///+IiIi6urrc3NxERETM\n",
       "zMwQEBCqqqpUVFQiIiJ2dnYyMjLu7u5mZmaYmJgAAABN0h6tAAAAAXRSTlMAQObYZgAAAqhJREFU\n",
       "SMfFVk1oE0EUftkfs82uawU9CII99SBFcxD0GIsKBSEKQaKXBqkH6SUH0ZMg2h5ERUH6s/6giBTq\n",
       "QfbUgwpuQUTx0t4iUk3Bk4KpP2igap3/mUwmCeRQH2R35r3v+97M7JuZAED4Htbb3MUEv4InsP5m\n",
       "ncLPcIWNJG6MbhvJz033sU54vb40NtgGYBAwcYTvHe5lblCvv6KNLD4aHBbfYkMO4MORNgAuQDBu\n",
       "Sw73zaqpP//WUud2wVaHd4arALsX2gC4wDh+LLfkcJ+aOjj/nUU/RlHMlM8J5R1ZgFovXbSh6DY0\n",
       "AbhAET/u6BzQddTUYeobDRa2y0k9eMEph5D2aVKW7v7EBOACPtK2FjSONO5TUw+k/9LBP5PraU2M\n",
       "804d4PhV0nqTGAFcII3SOlmNI437ZnDHI6sb9LlfSczLCuX+ez95Abv1L1umaPMSmABSAM2koHPk\n",
       "LuC+Gn6cJTVogf2HBB21ih5/Yu0U+o4vL1C3ESAFNgNc1DnwNkJ2S/H5aHEKN0msuFT5QRrHniLj\n",
       "ZeZYVUp1Soj2i4x7FANAB0iB1xDEGofZPtV3GdVaP5k1WrhREt+jTsoBNupN6J0iC2rnjAApsLGc\n",
       "KWscmVr4fMzzsFYa/SbpnleVPYjldvToFigZAVLAjnuaOCK18NVEhe9Fv+d00L3qpML7cjsO0/ku\n",
       "ggkgBeDgchNHpBa+GZ7axunztLZFUcYn4FEFglXcnkN1NEJ3VU/ZAFAFivRA4RwqwI5XocP3dZBf\n",
       "TeDM2l0CeDWYNNwOEepeWbtWOcBSBmMDoAMaBHx6oAhOJE8VqdNwhgvbORSpd1A60S+8h+wgbQGw\n",
       "tX6TgExdan+1ZjrdvZlu4rPqfd3K5julnu8mTu5r6PAvpdopdbWLuHWSfov/9N/sH3JoAMB5GGZa\n",
       "AAAAAElFTkSuQmCC\n",
       "\" style=\"display:inline;vertical-align:middle;\" /></a> <a class=\"ProveItLink\" href=\"__pv_it/7b07a3de956d976fdefee81f9915e6210d947fe50/proof.ipynb\" style=\"text-decoration: none\">&#x22A2;&nbsp;</a><a class=\"ProveItLink\" href=\"../../../__pv_it/d3792d0d8642fdf1cd2a3a9b32c673ee13653de00/expr.ipynb\"><img src=\"data:image/png;base64,iVBORw0KGgoAAAANSUhEUgAAAA8AAAAOBAMAAAACpFvcAAAALVBMVEX///8iIiIQEBBERERUVFS6\n",
       "urqIiIjc3NxmZmaqqqru7u6YmJgyMjLMzMwAAACK9jtgAAAAAXRSTlMAQObYZgAAAFtJREFUCNdj\n",
       "YACBOwxQcA5Kc59bAGGs7CuAMDbkBYBp1gXzNoAZSxnuJYAZAQx1DSCa16PDzwCshIGB6QCIMYGB\n",
       "gVEBSLMDGTwPgIxCIGZ+zsCw+N0pBk67hw0AfpEVEQi8t+wAAAAASUVORK5CYII=\n",
       "\" style=\"display:inline;vertical-align:middle;\" /></a></span>"
      ],
      "text/plain": [
       "{A in BOOLEANS, B in BOOLEANS, A or B, [not](B)} |- A"
      ]
     },
     "execution_count": 17,
     "metadata": {},
     "output_type": "execute_result"
    }
   ],
   "source": [
    "Or(A,B).deriveLeftIfNotRight([inBool(A), inBool(B), Not(B), Or(A,B)])"
   ]
  },
  {
   "cell_type": "code",
   "execution_count": 18,
   "metadata": {},
   "outputs": [
    {
     "data": {
      "text/html": [
       "<span style=\"font-size:20px;\"><a class=\"ProveItLink\" href=\"__pv_it/edbdee9c58cb8d874f5af49d11585a0239b901420/expr.ipynb\"><img src=\"data:image/png;base64,iVBORw0KGgoAAAANSUhEUgAAAPIAAAAVBAMAAACOB66tAAAAMFBMVEX///+IiIi6urrc3NxERETM\n",
       "zMwQEBCqqqpUVFQiIiJ2dnYyMjLu7u5mZmaYmJgAAABN0h6tAAAAAXRSTlMAQObYZgAAAv9JREFU\n",
       "SMfFlk1oE0EUgF/+zN+65qAHQWhOASFqbioKRi2CICSCh6pogvRSeslB7MVi0HoQLY2I1fiDQQRB\n",
       "UAJCEbV0laCHIurJeIjNWaGmVTQSNc68+dmdSdvQSx3Y2Uzezzfz3sybBQDzE6x0O7aB9sZTWPkW\n",
       "S5PObLCBr6wK1/enJq5H+cAca9ZG9ihy13hva+Cs44+jmvcFbCRnNe1CBfZPuKGplA8aB2QiViUB\n",
       "ZtKKPOyLVN7U7fEU+sWf6cVsBAehgvzlt6aS3AzrvGKQIYgt7xS51113pZP2Eqcs0gcwjJHFbATH\n",
       "STaGv3EP+4s3BXlIknsSAF8jigIh+3M2+fVMgq45T7qgpdvYjXGcZNM1z9Kw27LXfLciDPYRmwFL\n",
       "USDkUNwm13twUzwmzybdxpl95DjJcf9ffE9bdrTdV8+LQRPg8CVVgZA39sk0uq0zmPNh8uzVbRyN\n",
       "cUJZmhnc00bUN4eSc3aeY3d+iL3ta86uvQaqgtc90D4htV9CBgMbJMpJ3cYRbMbBA3UKp+0Gzx/G\n",
       "c+6wR5/FESLJeZVXFWi0Z0tiFIVduJlcEQhEdRv4WCTthoMzCXDoCor6atXvONHBZ6QJMnHOKSQ6\n",
       "rp+qAhUSHR6U0doYzskowLRuw9s2BydwmZcTMmUYpG+PsmYv8DmvIW/XnKqA5IBIMzm+rBR9gPu6\n",
       "jYMsOE8onbryk2ccxVknOQBl+zgH5lUFSs6H+SBHMswkO6DQYSPJgmPKcrJV1CB4r6zZLNnHOZNU\n",
       "FXDNfCN4crIIeo9HOmwkWXBwb1Oyh9JTCdybOVk9j8CDKhgt+nuCxLOfHSepEPaVQg/z8JaGZTtF\n",
       "slLku8CPHbdhDlhllRxxno1Uy4KT7du4Q0bi6o1RJI4utkervZwoFMSNEbwFUGk/B3/qF6uUk0xP\n",
       "2hRlhbA5St2WJeEer568+fUqpCuc1uQ7tXGHA1nDsktfpaFud20Jlu8AyWZjacMXXRwbEVi+A7yf\n",
       "ocs3Sb2LY7NbTBZyEMMy5/8/32H/AJnS9p7sCnTYAAAAAElFTkSuQmCC\n",
       "\" style=\"display:inline;vertical-align:middle;\" /></a> <a class=\"ProveItLink\" href=\"__pv_it/a87678df50d0e24d2b34283b3882ac5b9278104b0/proof.ipynb\" style=\"text-decoration: none\">&#x22A2;&nbsp;</a><a class=\"ProveItLink\" href=\"../../../__pv_it/4d98b438710c5ada9ffa4646bb123a7d0e69ec000/expr.ipynb\"><img src=\"data:image/png;base64,iVBORw0KGgoAAAANSUhEUgAAABAAAAAOBAMAAADUAYG5AAAALVBMVEX///8yMjKqqqoiIiLu7u7c\n",
       "3NyIiIjMzMwQEBC6urpERERmZmZUVFSYmJgAAACsPVCVAAAAAXRSTlMAQObYZgAAAGxJREFUCNdj\n",
       "YGC48+70nlUTGICgi4GB+zmQZn/LwMD5Gshge8rAwPsMyOBqYGDwMAEy+A4wsNs4ABl1Z68tVgBp\n",
       "ygtgYOkBMVaAOCChNyBGAsQYhnMTIMawvwJyGIHGzFjCwMAj92b3qUUMDAAXABxvZ4rl5AAAAABJ\n",
       "RU5ErkJggg==\n",
       "\" style=\"display:inline;vertical-align:middle;\" /></a></span>"
      ],
      "text/plain": [
       "{A in BOOLEANS, B in BOOLEANS, A or B, [not](A)} |- B"
      ]
     },
     "execution_count": 18,
     "metadata": {},
     "output_type": "execute_result"
    }
   ],
   "source": [
    "Or(A,B).deriveRightIfNotLeft([*inBool(A,B), Not(A), Or(A,B)])"
   ]
  },
  {
   "cell_type": "code",
   "execution_count": 19,
   "metadata": {},
   "outputs": [
    {
     "data": {
      "text/html": [
       "<span style=\"font-size:20px;\"><a class=\"ProveItLink\" href=\"__pv_it/f61bc83c4257038ce5debe98c0e7d602952d17810/expr.ipynb\"><img src=\"data:image/png;base64,iVBORw0KGgoAAAANSUhEUgAAAV0AAAAVBAMAAAAX2iAxAAAAMFBMVEX///+IiIi6urrc3NxERETM\n",
       "zMwQEBCqqqpUVFQiIiJ2dnYyMjLu7u5mZmaYmJgAAABN0h6tAAAAAXRSTlMAQObYZgAAA+tJREFU\n",
       "SMfVV11IVEEUPvvn/t3d9sGCntwnIbDyLfoBt5JQCNzABytKCXsQo3zo5yVJyiCrTSGypMIlwij6\n",
       "EQKDLLyW1INEGlFCmftc4G+lYrXNnJm5d+be1V3wyQP33pmd78z33TPnnpkFgPA3WBHmGdbpQ3sO\n",
       "K8Sch+k9PMnld6uja2srem5EeSfcOjfavEMZd7SXLtSdlX7Yb5ne6mMlYKblJ664kouRcOsvG0lt\n",
       "AfhC24E29ltw0gLq3qPtNlIlLwYwFlfGg57IwLuU2e9DUdiMZ/KxEaCtSYH3U2pREhaaowCN5Lov\n",
       "6/3xx4KKbYDVbtGpJlNuHFLG3c6UIx4zw9lH08tH6cKRTD42AmoDt8htrHhRElyCcjJzaEbVqzXO\n",
       "cN7yjptC7ylDbwGZciKiAIheb4Op9y2yeprIza9bfWQCajtFo4dCC+0kMih4hCZvjao37JhmWbZd\n",
       "N+N7Z0D47iKEdboCIHoDRabeVAEm+1Nyrbf6yARolfwZmqX3A5DJwQCNNVDaIVVvkfcfPgd1Mx+c\n",
       "186LzhzA3ssqgOhdV2Vkm1M/g1nYaAbG9JEJmHi+6iVI/hoyOQiQax6Xh8S+izZ8+NlqUc8Ujp4z\n",
       "87ew87eoD5658fzroALczrr0IQP9CqpxJf0EHLP6SAShDrS/7NcnEbnAGg4KKDAlABP0dhJD5AQX\n",
       "G43J39vj7+ILJbn3pkkF0HwYT4peFEowHI4I+KJWH5mAmfcZPjrlaqA6GCD/L6PCEIbKq9isGh35\n",
       "ie9Y30tM6CWSuDaS7Y5ZFUAHCYbHJjHaim+itcGg1UcmEDaIS3MMk0vP5GCA8rCuaPTWQpajMM7C\n",
       "A/WYLEp83cBfdxV5OqZUAOr1GeGDPLYffIZ7Vh+ZgJvrItawTgxjPJODAfJj3T5B40vV+KgAL7na\n",
       "EVMj6/VBt1kZfdMqgOptCvIO+YT9bGQrtNl8JIJQLzNWcrEGBsDqoIBCWAeTIn+xPmwS+xMMK/EN\n",
       "J83KWB1TARhfnuCuBmP/ch+M2HxkArYcPA4lFPsQMjiYIBcNeYDmTJfQ66KaK/Bt/A3GfrwPHoyA\n",
       "toBlnXjXsjQzAEFPMvCoCd7TWTdToWw/8LTwdOQ+OIFEoBRFWuMadTuJAiKF0vuVNkT91SoWdDie\n",
       "vo153Vyknnc6iNeldGKklOsUAHHe8ZMddSD9ArwV86xevmQ4w4dMIBOgGXX9XVkiCnYSBaR9vPAB\n",
       "ZL3qqe0u349F5umwNOC0ZXybpW+bgFhxDhgbiOutWfrUGch2LE3CMifIEcP1hieXBvVnmUSLwPIm\n",
       "yBXDz7+Q5f9FKssk4WwsqRyU5IIBJ9v9vSvp/9t/u9xlKfIzMSYAAAAASUVORK5CYII=\n",
       "\" style=\"display:inline;vertical-align:middle;\" /></a> <a class=\"ProveItLink\" href=\"__pv_it/4bcb3666d3004c7cfeb8f366244da31665a910d70/proof.ipynb\" style=\"text-decoration: none\">&#x22A2;&nbsp;</a><a class=\"ProveItLink\" href=\"../../../__pv_it/dcb5a3e430485237dfe486162b026a4affb149300/expr.ipynb\"><img src=\"data:image/png;base64,iVBORw0KGgoAAAANSUhEUgAAAA8AAAAOBAMAAAACpFvcAAAAMFBMVEX////MzMy6uroyMjIiIiKq\n",
       "qqoQEBB2dnbc3NyYmJhmZmZUVFRERESIiIju7u4AAACOKgoaAAAAAXRSTlMAQObYZgAAAGRJREFU\n",
       "CNdjYGDgu7NrJ0cBAwPDtQkMrMsmMDC88QNy1jcwMJg9ADLUGBi4vgJpBikGhn4HEOMFA0P9BQYI\n",
       "8BeAMvJBahmAhD+IZhWAmMDADsT9IMV1INGfDAxRYHWvTu9SAFIARRcYB3lKsPwAAAAASUVORK5C\n",
       "YII=\n",
       "\" style=\"display:inline;vertical-align:middle;\" /></a></span>"
      ],
      "text/plain": [
       "{A in BOOLEANS, B in BOOLEANS, A or B, A => C, B => C} |- C"
      ]
     },
     "execution_count": 19,
     "metadata": {},
     "output_type": "execute_result"
    }
   ],
   "source": [
    "Or(A,B).deriveViaDilemma(C,assumptions=[Or(A,B),inBool(B),Implies(A,C), Implies(B,C), inBool(A), Implies(A,Or(C,D)), Implies(B, Or(C,D))])"
   ]
  },
  {
   "cell_type": "code",
   "execution_count": 20,
   "metadata": {},
   "outputs": [
    {
     "data": {
      "text/html": [
       "<span style=\"font-size:20px;\"><a class=\"ProveItLink\" href=\"__pv_it/cf54e40b8c084cf603c20d6ad1a72298e20594f80/expr.ipynb\"><img src=\"data:image/png;base64,iVBORw0KGgoAAAANSUhEUgAAAskAAAAVBAMAAABGeG6jAAAAMFBMVEX///+IiIi6urrc3NxERETM\n",
       "zMwQEBCqqqpUVFQiIiJ2dnYyMjLu7u5mZmaYmJgAAABN0h6tAAAAAXRSTlMAQObYZgAABnNJREFU\n",
       "WMPtWV1oXEUUPrub2/27uV2hCoKQfQpUq9kHwV/IqlUTaMkKRYKiDaWCpdLugz8PNhhqKqmSNiDW\n",
       "BiNZVCqK2oVCBdvSjYZaCcVUpa7U2A30QRSb/sTaNpo4Z+bO7707CSR968De3XvuN9+cc+6ZM2dm\n",
       "AcD7DW6069ackxX8cr+64Yrr2aLP4dU7798+rT+9dWPHwb1Zfvf7XH91ddYCcFf074qVbARtvW05\n",
       "jSCyZ/XMpu2KwNAgbFCAkbZq7X4Tp3M75RBrV8ytre6csTGjSh3TE33D5bo2Bam83dN9q18HC9Vp\n",
       "vEsN+OKjBqz8hLtGJpONAI1/WwC31CB+qmYhIFp5/+gEaSczekLpQzVw6M+CNqgii2wB6N7C75xQ\n",
       "7vT5sKBCt5y1mEPbcuIWL1/fpiAV9pgqWqg+Ub3sHa3oqPxdcHODCI9ZEvv/1QeMDpHLmZyF4AK5\n",
       "nNIJGqK1SCEvbpkGCXSfl9EGlTK3nWAaL5FfOxAxGcr9579hMxdBJyzm0NZCBnHH69sUpFpPejR2\n",
       "Wag0L3/L+c4ODpZ9J70inBQhhnkXmDPaB98DE3AQHdRsI8DIaalpAOLleFF6mWng9JBLsqINKmXp\n",
       "F9BKNKoTEUMBbnwT3ZekrY/wHykEjQTNoYoIV+4n79PNBG3SQBpVE+kRnbVQaV6uNbE8te42GYof\n",
       "jIrOxLBj1CbnoUoQ0Ejn6zM2ApzFrSUNQLycWiW97GtwgHzuNAYVsjM4Nx0MtjQxJzpuctMwiFyU\n",
       "Xl6npJEUxALmsNDOK0mrBLmATTpIo+ogn9g1C5Xq5WjlNRoM7mE54aPv7BBJpgecvdS9Y5UQQCsl\n",
       "+cZGgKO39GgA4uWVnQUxD30NukUEykG5LHaVDoFuiI+LwJHctK2Ky9ACb1wqcA6C5rD2F/8xDR6f\n",
       "E4pNBkijmkbVr1io9uElwVbUr2mCIbci4vPNw5fFMrx+12Q7S/FyPVUA+zNCWo8AEU0lDdAQ3TS3\n",
       "QXTkGiRFQMhBuSwlZzkMiECV3PQdZGmehsZB2nj2bTnyhkwkkvkXChr230V0prqVq6fYpIM0KjpW\n",
       "5JqFagovL7NgykIrfdygLl5f/MFvmnLgPs/EYYDhgkxMdQgQsTurATBjnBMTnWsQyUAiawzKZUml\n",
       "LrgJYLvJTc2DmLquxb8UaVIWeJLZb68WecZNc5Fikw7SqOiakLhooUoTq9a9zV5J/8Ru6r8nD5HG\n",
       "Fy/iBr/rY6gazYmbEQAGYCudfRULAaYvuKwD8CkBga6BOwBjxqBCtoxWDy59+h24ZZMbW+dEdVr1\n",
       "zdgGmSYLpjlixTyYFRnXLw8Vm3SQRkXXhOVdNqqdZFI0F1gAwDKq891qKDYAT3aYeJpwCsXyYYBh\n",
       "GjUFCwEa7s3qAOrlhAhBXwP4GT42BhWyJK2EX2KrUzFVNLnZnIDNitGxN3McVOHVg8rM2r0f8ozr\n",
       "8upBsUkHaVR0TZiqWajS6IIEdRvRN0lfyDLVSQk+M7C+9OdkVxiA1mApsBBg+jqW1wHo5R4+Q4UG\n",
       "8AAMmINyGa2UgSWZWDkZ4Ea/kM8eij3EWk7WuKlKwJzTDHRA1rjwGZg26SCNCtcEdyNYqKZEjREr\n",
       "8h1TY0YNRa8k60uHzcOTEAJoldrVISDpyz1kAGgs+5lbagANz2bMQbksphr46GSAm7R79G1stKzU\n",
       "uJ0QMIe1O5Qa1/Gnn2KTDtKocE0YK9uo9gkv34eGsHXzXbFBfgo+rYJL9+tpEmXNa9hyXwwBYO3U\n",
       "7RsfTkAcuHLcAKSdUurzHvi+rGvg7GRMyqBCRoq9+K88AQ/JDTVyU54YmtMhN2y88MRcgwc3FKQy\n",
       "a9UnZgmSQgM2aSCfihlGXmj0fahPpdTLo3OHId5xlXrh+MMV7bBnkNwmjl6Z6H3cp+ldBQEAnGjr\n",
       "52t8HYJq748GgJ8WJYd0DeAIKwmVQbkM3J/6fhAvaZzjGDfyuB0zFXhxTtrtF+zHkQzPbhCkM/Md\n",
       "POn81lx/tR2dZ9qkgCQVgkiPvrU5G5W+9xPt9vZBdQbEK+Yu/iN/h10PMB+BCYBtxvMHQ04FQmQx\n",
       "k3hbSL/AMUQYKGYKgjovEBRE+V7usp+PpuY7QE0t8jlfzRbfSksGSi0ZyPeyd94OGpmPZWSRz8Xp\n",
       "zGLbgngWNtjIkoH882WY57+S2nwstUU+B2+JQtlbMtD8Oi8YBFG2KYrf+N/vOjb6v9//eUe+y6ti\n",
       "q1sAAAAASUVORK5CYII=\n",
       "\" style=\"display:inline;vertical-align:middle;\" /></a> <a class=\"ProveItLink\" href=\"__pv_it/b4943441eed6d9e69edccf3ec61aa07c94b703440/proof.ipynb\" style=\"text-decoration: none\">&#x22A2;&nbsp;</a><a class=\"ProveItLink\" href=\"../../../__pv_it/e34ca70b41810f8902f1a81ee7caace8a42959280/expr.ipynb\"><img src=\"data:image/png;base64,iVBORw0KGgoAAAANSUhEUgAAABAAAAAOBAMAAADUAYG5AAAALVBMVEX///8QEBDc3NzMzMx2dnbu\n",
       "7u66urqYmJgyMjIiIiJUVFRmZmZERESIiIgAAACJIPtQAAAAAXRSTlMAQObYZgAAAGZJREFUCNdj\n",
       "YGC48+70rpUvGIAARNQAMdtbIBENxCyPgUQsEHM8YGBhYAIy+A4wlIOUMuR1L3wEZvgZMDSAGX0M\n",
       "DA4MBkDGGwaGANYLUGNYAqDGWAEx5wOgqDADQ1Tfq91r5jUwAABgCxlUc9vB0AAAAABJRU5ErkJg\n",
       "gg==\n",
       "\" style=\"display:inline;vertical-align:middle;\" /></a></span>"
      ],
      "text/plain": [
       "{A in BOOLEANS, B in BOOLEANS, C in BOOLEANS, D in BOOLEANS, A or B or C or D, A => E, B => E, C => E, D => E} |- E"
      ]
     },
     "execution_count": 20,
     "metadata": {},
     "output_type": "execute_result"
    }
   ],
   "source": [
    "Or(A,B,C,D).deriveViaDilemma(E,[Or(A,B,C,D),Implies(A,E), Implies(B,E), Implies(C,E), Implies(D,E), inBool(A) ,inBool(B),inBool(C),inBool(D)])"
   ]
  },
  {
   "cell_type": "code",
   "execution_count": 21,
   "metadata": {},
   "outputs": [
    {
     "data": {
      "text/html": [
       "<span style=\"font-size:20px;\"><a class=\"ProveItLink\" href=\"__pv_it/a79a0640cdbc42287784ea8ea00f5f863800eb4f0/expr.ipynb\"><img src=\"data:image/png;base64,iVBORw0KGgoAAAANSUhEUgAAAKQAAAAVBAMAAAA6DViiAAAAMFBMVEX///+IiIi6urrc3NxERETM\n",
       "zMwQEBCqqqpUVFQiIiJ2dnYyMjLu7u5mZmaYmJgAAABN0h6tAAAAAXRSTlMAQObYZgAAAlpJREFU\n",
       "OMtjYGDgu8dANRArAyJ5djFQEagFAAm+DxAO6wZUSckU/20zFKAcvv4fd1ucUOQZp7n8zmxCEgAb\n",
       "wAsiuCZARLg/oFm4IZDHBx4mbA4MDPcDUOS5WQWOnH2AxP8AMw1m5Os/aEY66DGIssA48UC9+hdQ\n",
       "5FmYHjAGOCD4YAOQjeSp/QyVejJz5gaokeVwI+UNGBjeC0ACwXPmbKiR7AUIIyEGIBvJx/gJIhUi\n",
       "g3DloiMwDW5APZkHwEHmeADuSi4dhJEQA5CN1GH/B7FsD8LjTFNbYZwfDAyRPWDW6QMIj2tGIIIX\n",
       "YgBXApDgAPuSR4H1I1iGwwBupNr8b7AYZ/3xTmQ6hNmMCMvM/0kIf0MMAKefMrBFTAzMfyEKkaNn\n",
       "3StYigGG07EGiDBS9HC9WwDjwQzYCwy6yWCRiLs3voAZYbuBABY9QF1Q7UD/MH4HuzcbpABqJEgN\n",
       "FMAM4JgITe8MQB9mg6VMkF3JwgBxGQM/kGYEhwwzsisZHDhgPJgBO0DGgtSwA/E0SJpGNpKDYQMi\n",
       "WXJAkkQCspEN3FAOzAA+eHo3B+L9YDleAWRX8i1AJMt4iPsuorgSFtgwA8AxDjKSGWSsPySup8Mz\n",
       "ZBTDqhsMPL9B7G3A8E+BpB7OAniGXMC1toHhPMgjcANg6ZLH//cBhpL/c8EqTzgdQCk2ZgK53f97\n",
       "b7hAjeJp0UEpNjjnMCAZgJLH4UDLcyZyocR+AE2eaQkkQ8JADTIHYmQC/hKQi1ARuQDDSL4P+HUc\n",
       "JGAijwAyD1xeMhAo1R8QMJIPtVQHZ2F2Ktc9AO46sT3tOkmLAAAAAElFTkSuQmCC\n",
       "\" style=\"display:inline;vertical-align:middle;\" /></a> <a class=\"ProveItLink\" href=\"__pv_it/7b91c56e7f0cb15a22f6ce622446931abb9f69080/proof.ipynb\" style=\"text-decoration: none\">&#x22A2;&nbsp;</a><a class=\"ProveItLink\" href=\"__pv_it/6be0ca65fe4dbca58dfc1a28df036ccc656fb6d20/expr.ipynb\"><img src=\"data:image/png;base64,iVBORw0KGgoAAAANSUhEUgAAADcAAAAPBAMAAACy3Eq1AAAAMFBMVEX///92dnYiIiIQEBBERERU\n",
       "VFS6urqIiIjc3NxmZmaqqqru7u6YmJgyMjLMzMwAAADiRdoGAAAAAXRSTlMAQObYZgAAAQVJREFU\n",
       "GNNjYACBtwyogCf+68wQNyjnPojgAzMfgElmBwaG+RAmz/0NQJIVxOEpAIu8P8DAkD8BzNw1vwGk\n",
       "MwBIMG0Ai9QDBc5D1B2oTwBRN4A4E2KPMwMDtxFYHduG9QdA9Eog9oBIfmVgeBQNZm1jeA82gQlo\n",
       "tANYhO/rmRItiLIEhn6w3ewFDKxg8xnYfzAwbA4AK4ucGQ/WwK3AsBeinMUAqOAX2Eqgty6AxWYx\n",
       "SEEk+YG62L+DWAuAthmAxXoZFBjg3mT9BmRwACV5P0BMewPxGtib70FWNYFEf0AcGQQJAobLQMtM\n",
       "gOwt/28zcPl/ggTVTYhc7P/IqS4L0CKDoRuVCwDjpEGwITo9cgAAAABJRU5ErkJggg==\n",
       "\" style=\"display:inline;vertical-align:middle;\" /></a></span>"
      ],
      "text/plain": [
       "{A in BOOLEANS, B in BOOLEANS, A} |- A or B"
      ]
     },
     "execution_count": 21,
     "metadata": {},
     "output_type": "execute_result"
    }
   ],
   "source": [
    "Or(A,B).prove([inBool(B), A, inBool(A)])"
   ]
  },
  {
   "cell_type": "code",
   "execution_count": 22,
   "metadata": {},
   "outputs": [
    {
     "data": {
      "text/html": [
       "<span style=\"font-size:20px;\"><a class=\"ProveItLink\" href=\"__pv_it/6fc615600d6de7c25eb40f8fd90f952eeffd9fa50/expr.ipynb\"><img src=\"data:image/png;base64,iVBORw0KGgoAAAANSUhEUgAAAKUAAAAVBAMAAADVzzOcAAAAMFBMVEX///+IiIi6urrc3NxERETM\n",
       "zMwQEBCqqqpUVFQiIiJ2dnYyMjLu7u5mZmaYmJgAAABN0h6tAAAAAXRSTlMAQObYZgAAAoxJREFU\n",
       "OMtjYGDgu8dANcB68QCI4tnFQEXAlAoi+T5AudGosozTXH5nNsF4L/733nBRQFEgmeK/bQZMiK//\n",
       "x90WJyDjNojHNQEqvB/NSm5WgSNnH8B4KQwMvF9RFWwI5PGBhxubAwPD/QAGhpXIZvLtP4CqhYXp\n",
       "AWOAAyyg/gH99RdVgYMegygLjBMPtF3/ApqZx+8bQBhPZs7cADWTvQBmJuNnoK0fIZZ7zpwNM7Mc\n",
       "bqY8UPd7ATQzH8hDwiZEBuFOLh2YmSwJDAzH5oBd7HgA4c5FR2BmugFjO/MAqplMB+rBYcezB8nv\n",
       "mhEBUA5/AwPrDLBhpw8g/M40tRXG+cHAENkDpJeBOBxgjzIcYogXAHMNEGZm/k+CB1ffQ88CMKsZ\n",
       "EZ5q87/B4p31xzuR6SDGexBRBnGKAoP9BbBJyHHE9W4BIrh4MiAmIcfRuldI4X2sAZRagKaETIbY\n",
       "03u3H6w6bDcQwOIIpA0eXAzyIIeyZoMUwMwEqYGHN+N3EKsT6F01sDuZgCkMbJIJsjsZHDgQwcUg\n",
       "DwocZhR3sjA0wMObgRGULrhBAhxgRUAncCaA0y6KmQ3ciOTJ0A8OvARkMzkYNiCSJ8cnWHiC450Z\n",
       "aCY3OJPyCqC48xUiuFi/gJkXUdzJtwCRPOMdYPEONtMSZMZnsOx0RN5cwLW2geE8yCXcQNep+YCF\n",
       "OQvgeTOKYdUNBp7fIPY2YPClgFIZPH0e+b+Hgd3/JzjiTzgdQClDOIEpnWM/sIRwh5jE06KDWobM\n",
       "BKrvBhUxYMtQ8hEcaHnO3IDMr0EvzpZA8yYUsKOUExAzEwgUiQsIyHMxYJgJLz9xAB4BAmYeROGB\n",
       "y08GAuU8H6Gi/QFKwEByMzu16yMAiQu8Ex24ca4AAAAASUVORK5CYII=\n",
       "\" style=\"display:inline;vertical-align:middle;\" /></a> <a class=\"ProveItLink\" href=\"__pv_it/12adb06690b21fe070875116b741b3cfcc41d1300/proof.ipynb\" style=\"text-decoration: none\">&#x22A2;&nbsp;</a><a class=\"ProveItLink\" href=\"__pv_it/6be0ca65fe4dbca58dfc1a28df036ccc656fb6d20/expr.ipynb\"><img src=\"data:image/png;base64,iVBORw0KGgoAAAANSUhEUgAAADcAAAAPBAMAAACy3Eq1AAAAMFBMVEX///92dnYiIiIQEBBERERU\n",
       "VFS6urqIiIjc3NxmZmaqqqru7u6YmJgyMjLMzMwAAADiRdoGAAAAAXRSTlMAQObYZgAAAQVJREFU\n",
       "GNNjYACBtwyogCf+68wQNyjnPojgAzMfgElmBwaG+RAmz/0NQJIVxOEpAIu8P8DAkD8BzNw1vwGk\n",
       "MwBIMG0Ai9QDBc5D1B2oTwBRN4A4E2KPMwMDtxFYHduG9QdA9Eog9oBIfmVgeBQNZm1jeA82gQlo\n",
       "tANYhO/rmRItiLIEhn6w3ewFDKxg8xnYfzAwbA4AK4ucGQ/WwK3AsBeinMUAqOAX2Eqgty6AxWYx\n",
       "SEEk+YG62L+DWAuAthmAxXoZFBjg3mT9BmRwACV5P0BMewPxGtib70FWNYFEf0AcGQQJAobLQMtM\n",
       "gOwt/28zcPl/ggTVTYhc7P/IqS4L0CKDoRuVCwDjpEGwITo9cgAAAABJRU5ErkJggg==\n",
       "\" style=\"display:inline;vertical-align:middle;\" /></a></span>"
      ],
      "text/plain": [
       "{A in BOOLEANS, B in BOOLEANS, B} |- A or B"
      ]
     },
     "execution_count": 22,
     "metadata": {},
     "output_type": "execute_result"
    }
   ],
   "source": [
    "Or(A,B).prove([inBool(A), inBool(B), B])"
   ]
  },
  {
   "cell_type": "code",
   "execution_count": 23,
   "metadata": {},
   "outputs": [
    {
     "data": {
      "text/html": [
       "<span style=\"font-size:20px;\"><a class=\"ProveItLink\" href=\"__pv_it/4774cfe440345ae787210fb593706f6acf5b240c0/expr.ipynb\"><img src=\"data:image/png;base64,iVBORw0KGgoAAAANSUhEUgAAAM8AAAAVBAMAAAATCqclAAAAMFBMVEX///+IiIi6urrc3NxERETM\n",
       "zMwQEBCqqqpUVFQiIiJ2dnYyMjLu7u5mZmaYmJgAAABN0h6tAAAAAXRSTlMAQObYZgAAAtBJREFU\n",
       "SMe9Vk1oE0EUfvkzm93tdg8qeGpOgUK1nlXIih5SEBrBgwhqED0UpeaiXgyGGsEeqgFRLAoNIpWK\n",
       "PwGhB0VMMXgpxValBhS7R+nBWrRViVjnzd/uLMie6kBe5yXfN9+892beFACsT7C+IzHXwD/mU1jv\n",
       "ET2B1vpKnalcy93h/zVyY297YEh4n9dyldx2lb/leP/kzbTwzI0jV2I1BSBJH9DTq3TZQYDSoAIz\n",
       "EnZzxhVem2zpR2Cn9f3mPpn3zS4k5wk8Qb28QpqQQmYfSWPHN2WZeNSN5B2R52Vi5gNCzjbYFOfz\n",
       "5m1iFsj2NdSwbIXkCRmnMJUFSrH6Rm9xoWRRCEVWiOl1FQAKnRNCk1jwDK5eJibVUEie0EIRIbN0\n",
       "G7sbMiK9RwjFsZLZmgJAoTtNNu2gaT2M5gn5bFVJUij2i5aTFnu64aWu+2CeO52o2FtWAEQoev0S\n",
       "m2ZppV+iKZHPHpU0jp5WJ2LLXuIvejUaWDsmnKOY9K6aAgAnM7bKT91jW36bIkE7KmkJvbNk06kV\n",
       "X4V9h0H/Is5rF4Z2Na0AMHWPFtl0LO/dCxu0tEoySFEOXCPOht80dbQCJ5+RwYVwKTb60ayqAPwV\n",
       "QThO03yyDlCF6SBpmMSWwYjopT2DJuaPCByNO9/xtP1RAVQIyiwiNEkW1nu4FyAZCNIccYNYmgp+\n",
       "obLhu0avHBWAQhrU6RRvEOjs651QDZCW5KnDr3R2muaUiBa9a2SyfHkAGpHFtpfFuj/gxCN2gDQu\n",
       "79EF0j8+8kNTlC2opj8sw2vcskFy2z0bAED9ENxvgdnGrJEMlfi5TwyziUfytaB3l9+I5ljpUZpq\n",
       "ivQW7cXPVuVtACCb6iiuO5Mbkf31ObU+kiekNPW7vMPwcR5CAMlGALAryGBChZDXpBb23OihD9KE\n",
       "7z365zDtsGWmQoXoewQhL6wVuowb+sKyTpb8L/8z/AWyb98Cma8HdQAAAABJRU5ErkJggg==\n",
       "\" style=\"display:inline;vertical-align:middle;\" /></a> <a class=\"ProveItLink\" href=\"__pv_it/56d8478b40e2e28748bb84294c414c187fef5e7c0/proof.ipynb\" style=\"text-decoration: none\">&#x22A2;&nbsp;</a><a class=\"ProveItLink\" href=\"__pv_it/42fd1705589b2e660f0797e0b71f6408accac22d0/expr.ipynb\"><img src=\"data:image/png;base64,iVBORw0KGgoAAAANSUhEUgAAADgAAAAPBAMAAABD1xE4AAAAMFBMVEX////MzMy6uroyMjIiIiKq\n",
       "qqoQEBB2dnbc3NyYmJhmZmZUVFRERESIiIju7u4AAACOKgoaAAAAAXRSTlMAQObYZgAAAQpJREFU\n",
       "GNNjYGDgu7NrJ0cBAzLg3P9n95kdINa1CQysyyYwMDCCxQXAJL8BA8P8AAaGN35AzvoGBgZukDjn\n",
       "BbCkPJDiSmBgMHsA5KgBMeMGIMHyACx5H6iQ6ScD11cQRwpEWACxFsTS80DM8Z2h3wHEeQEiooD4\n",
       "BETyDxAz/WaovwB3IwvQ6ANgFuNfIMH7ncFfAC7Je4GBWwHC+ggkuD8x5INdACb4HBgeQ5TxfAB5\n",
       "J4HBH8RhhWhfylAKkeQHmT5/AtiHDOwQsWYGBwa4N/lyGBj6QQ6qg5omCXUdyJuPgYHE+hPoB4jP\n",
       "GRi3QBn2QI94gRivTu9SgLnXCkJt/r9r96kGBjTQh8oFAJ5cQFo7ZbdQAAAAAElFTkSuQmCC\n",
       "\" style=\"display:inline;vertical-align:middle;\" /></a></span>"
      ],
      "text/plain": [
       "{C in BOOLEANS, D in BOOLEANS, C or D} |- C or D"
      ]
     },
     "execution_count": 23,
     "metadata": {},
     "output_type": "execute_result"
    }
   ],
   "source": [
    "Or(C,D).deriveViaDilemma(Or(C,D),[Or(A,B), Or(C,D),Implies(A,C), Implies(A,C),Implies(B,D), inBool(A), inBool(B), inBool(C), inBool(D)])"
   ]
  },
  {
   "cell_type": "code",
   "execution_count": 24,
   "metadata": {},
   "outputs": [
    {
     "data": {
      "text/html": [
       "<span style=\"font-size:20px;\"><a class=\"ProveItLink\" href=\"__pv_it/e3c97408eb61de237b80d0cd1024539d3e2041e70/expr.ipynb\"><img src=\"data:image/png;base64,iVBORw0KGgoAAAANSUhEUgAAA8EAAAAVBAMAAACUIfGXAAAAMFBMVEX///+IiIi6urrc3NxERETM\n",
       "zMwQEBCqqqpUVFQiIiJ2dnYyMjLu7u5mZmaYmJgAAABN0h6tAAAAAXRSTlMAQObYZgAAB9RJREFU\n",
       "aN7tWl1sVEUUPvvHtru3222iCSQm7ROJSuw+mCi+sPz4QwJZTIip+EBjMJFgyD6gPghSESKC2CZG\n",
       "oArpRowJJsgmRjQi6WIIgoRQlIcSrF0SE4lGSqFIYaHrzNz5OXPv3LlryhNhkm5vZ777nXO++Tkz\n",
       "swWAzO9wv9yTJXG2Qn8539+X4l4t0VfoZ+YK7/Cy3jprVeHQ7g7+R6Z3cmTzAq09snNRbfUm+efR\n",
       "54arT9kIJrYuetdqYWIo01v7LRgR6a39anEgdf7mUHDzzPp3AL21ZYHsBgXgUn3H8KIOT6U/UF9s\n",
       "L5nUvlRfSn6OVIL0FH4eyQUa4uXAwN5ATYVSPdBU/wbgAlOmz61OX/Hgys87S+QCPiMPMKrpA+lE\n",
       "9tjpqiBdC7BhrYWglcg3VgwBtPZBCCLQARLIdVtzjfysy1nYhQIsyIRbswqg5bpeJwNFdd7YBo0T\n",
       "inpw06KnQgUqysvBZcGayobkQvKwH/fw37c9sPxj8GBc/LGSSNWpzRGIR6uRZXn32VlMxmbLNRtB\n",
       "lgC6LYBOAlg5ZPOhswSBDtAO6rY0R2+RMV+0sQsFttCPi+6kniIv3tHqVKAI54ktM1gxrZjjhPCO\n",
       "RU/pZ7CivByyaCqV+hM8Pexs4GyZxf2fivjflPG3k+E/ltUARMFkkSuYfo16120jIOMuOuU+/9Hf\n",
       "X/YB6MBsL9p8ONihv44doAO3x9KcugrOPoE02hcKdNGPPe40IhWZca1OBYpwODZSfhpVa0U8h5eY\n",
       "yA2DnjrqKvgVpWUh6sBJg6YaC1Hq55y3hzMRlzsxv6JG+GfHxDvPEAVWVzQAUTA1hys4SrsmMWQh\n",
       "KJCfmDtAlz9kAtClrVCx+cAXP/k6doAO3KqlmazAKwTQbF8okCbSRN3ZFScCH9+j1alAEQ7FRku1\n",
       "XeXuRB7ngPhtv55+lFdR12k0z6f8muosg5Bw1zvcw3OS7nunKmoNi368BQ2bFz/QAUTBh7vcjBBj\n",
       "+cXJWQgmqGts8Dk/BAJ4mrJQ4NeRA2zg5izNreWMUCvAvlAgOSRnA1kVErsruA4FinAqNtYBlY1q\n",
       "cwD/yCUmj/cZSk8/yquoO/5UZ6eu+TT1sNTE4xf0o4ktWE5HYpzVqb1ZfvbAv2IwJiYvP7ALdEA8\n",
       "urr+Mrc5rswEEFBEhI23ppwJEK2NjJy7ZaOIukbU68gBWnbamjtL7UJds32lQJ+cMCs/vLi4qNXh\n",
       "QCUOxUbLjyw/Apzvp2VA9EznkZGRQsmnpxeV9SnawhD9MoVDc7dPU50leivC58oY/XiDDfMoxFyK\n",
       "PN6HfPWX2NiRYXO8RwfQVfCy63Iz2sYGEFBEE1sG40YAS1NXbRR8rxwHgwO0hyZtzQfbWkQONNtX\n",
       "CrQBbJLJ0nlVq8OBShyKjZYOmIe3UG8V0T6jw6+nH+U15Jbkt+LpTA+Y7CqW1Hh21H1KE0+Wf8Qe\n",
       "u0aG2SKYWHOYFBE/EQlkRnK3CQpAGwmG7f1ZfnFsBDS/tLLB9wIFlL0AlKYCKHiKUq8jB6gCN2zN\n",
       "g9WYOIeY7UsF4CQ4ZZks+eZP1KFAFQ7FRr3fMdKbR6o7hzq8+wyspwHlNcTLKbEgbSyCwS5iSU/B\n",
       "PB7C+2RNmL3MHXiwhq3/2vyJQ4/ap0bGdQBTsMkdcUz8120EtHqMqfl4IIAfeG0U+HXkAF3Mbtua\n",
       "SecV+PQw25cKQEsxVVR71vYsrkOBKhyKja0FMAMf3J/cp5JmDe/7I+MBKK8hnpm3iewyWgGDXcRC\n",
       "GuLuGpCm0TVRXFLmsW4cfxOU1fGNrwfdWMGetBssy/0lGwERylnlDk8jgB2H+ZraHYjQXkcOxD6B\n",
       "5r7gZpbDO3lfmu0rBWLlZpDHYejtwHU4UIlDsZFSFInywmFWvkbH4Vv4OOzq6Ud5DbW4iMNuB88t\n",
       "QT/47OosRCm+ARuTe+kn5AJxVhvhmZI6vq3M6wA2R9w0FqOOpSo2AjKBTrlitmRNAJymzBQ8RanX\n",
       "kQNkPvDDkrGZ5fBmflQx21cKwNMXVbJMTGh1OFCJQ7ERRFG/HnzUsM/Q9PSh/IZY33MD7Vl5WNLs\n",
       "Yhaq1EBF7qVpD8doLxfYIGmWFz/lFfDlMDg1fosSXeXak4B0opQ60ANnqA1yPkjyK2UzAREvupfX\n",
       "7zIBBlCaMlMMeF9HDiSrzm5LM1v05G7XZB8pAF171CXZ7CWg1aFAZZ2IjVmaS8eWuoqSR7Nmvs/w\n",
       "6elD+RTVTpBvw8keg6YaC1WqvYTPw06hVoF1dYZ2Ns/R7+X7CfV2egXPZRcAcbPfTON0zm39BfR2\n",
       "L8HWpSKPnFhQ8QKcC/V34Fx9fjCFs72+TX9dc6BtZhGCm08PTmZhVn1hsH2kANuA0vQ1ODmy+Vkx\n",
       "XPj2GAUq6mRs1NKx+g+QLKjvQJp48qcetBQmsn49MerE4GTJryjIy1QaVtt7YNAUsTAtIwMTOe+9\n",
       "tFwOPuc3hmKP6r1k9QLWw/8kgEcW95etADuF53WvAyHN4fZjhmvlhurWGzC+mmQlFGXggVwoicEW\n",
       "7+Fu+3eMqbAvIUswTYJQQAiiND3/GrDfYCk1AkrdDZ5GXd6Pvx8OKkdDSJwsTI8gHGBHhDgQ6l8D\n",
       "9hsr4ZYas9YAT6Mus++HIeR/PKohJJkwK9VpA+yIzDT9a8B+YyXTEKp6N3gadDnqXpIk7/+f1j1a\n",
       "2P9p/QfYXrVIqGfKTAAAAABJRU5ErkJggg==\n",
       "\" style=\"display:inline;vertical-align:middle;\" /></a> <a class=\"ProveItLink\" href=\"__pv_it/c312b45a7bd83f5d62a422d1d8ea051b7b79c7710/proof.ipynb\" style=\"text-decoration: none\">&#x22A2;&nbsp;</a><a class=\"ProveItLink\" href=\"__pv_it/06bb16c0a147a643177325f44081e8a39cb4c54d0/expr.ipynb\"><img src=\"data:image/png;base64,iVBORw0KGgoAAAANSUhEUgAAAIMAAAAPBAMAAAA1wWH2AAAAMFBMVEX///8QEBDc3Nyqqqp2dnbM\n",
       "zMyIiIi6uroiIiLu7u4yMjJmZmZERERUVFSYmJgAAADCfy+7AAAAAXRSTlMAQObYZgAAAZdJREFU\n",
       "KM+FUj1LA0EQHfJx3nlJ9Cek1Sq9FkF/gBaWRq4KNiHpLXKCjYWQUhQh2B4SwUZIEwJWFpdGtDOV\n",
       "nSAk5suEODs7u2fuAg7MZPLm3bu53QcAn/NnTK8Gf6M097ILACQeR/chyh3A+2Rf9BPMkWiSNCKM\n",
       "QNkmlcb3Eso2vWhlgJMf0aXFKOMQ2Bf1RZQPllhdj1IyOa1u9Oh9HSwmfVFiKGpBlHOWWOtEKNYO\n",
       "q38BpMbU3mKeaBArrrmiTqDajVAOlHoL06V2C7OtQYA4Pp5Sx7qXDVHqGa3uNZt+nloTN21JkD4X\n",
       "UPlQ3cBpmJIvu0odT6hcodZwIF3RIEYR4JVp1ixMKdo9njUwfekKy4WrAMS4BKvOtHgvTOnGJjyb\n",
       "KhdgPMBuAGLYuUSOR/Y4SvHlrmSLPvM2wdWgiFjdlL9nYLpRSrUT2GLIEqkjJ3CiiCdpLGPAd7pI\n",
       "MeVmZmALXOetpkGKgjRWvGtdLKEYtP11Y+bY/tRhgkf1pjHLs+/46osldSZMEc/B8bwNkdgI/Y/V\n",
       "/qX8AvcUhV+FbUMHAAAAAElFTkSuQmCC\n",
       "\" style=\"display:inline;vertical-align:middle;\" /></a></span>"
      ],
      "text/plain": [
       "{A in BOOLEANS, B in BOOLEANS, C in BOOLEANS, D in BOOLEANS, H in BOOLEANS, I in BOOLEANS, J in BOOLEANS, K in BOOLEANS, A or B or C or D, A => H, B => I, C => J, D => K} |- H or I or J or K"
      ]
     },
     "execution_count": 24,
     "metadata": {},
     "output_type": "execute_result"
    }
   ],
   "source": [
    "Or(A,B,C,D).deriveViaMultiDilemma(Or(H,I,J,K),[Or(A,B,C,D), Implies(A,H), Implies(B,I), Implies(C,J), Implies(D,K),inBool(A), inBool(B), inBool(C), inBool(D), inBool(H), inBool(I), inBool(J), inBool(K)])"
   ]
  },
  {
   "cell_type": "code",
   "execution_count": 25,
   "metadata": {},
   "outputs": [
    {
     "data": {
      "text/html": [
       "<span style=\"font-size:20px;\"><a class=\"ProveItLink\" href=\"__pv_it/e3c97408eb61de237b80d0cd1024539d3e2041e70/expr.ipynb\"><img src=\"data:image/png;base64,iVBORw0KGgoAAAANSUhEUgAAA8EAAAAVBAMAAACUIfGXAAAAMFBMVEX///+IiIi6urrc3NxERETM\n",
       "zMwQEBCqqqpUVFQiIiJ2dnYyMjLu7u5mZmaYmJgAAABN0h6tAAAAAXRSTlMAQObYZgAAB9RJREFU\n",
       "aN7tWl1sVEUUPvvHtru3222iCSQm7ROJSuw+mCi+sPz4QwJZTIip+EBjMJFgyD6gPghSESKC2CZG\n",
       "oArpRowJJsgmRjQi6WIIgoRQlIcSrF0SE4lGSqFIYaHrzNz5OXPv3LlryhNhkm5vZ777nXO++Tkz\n",
       "swWAzO9wv9yTJXG2Qn8539+X4l4t0VfoZ+YK7/Cy3jprVeHQ7g7+R6Z3cmTzAq09snNRbfUm+efR\n",
       "54arT9kIJrYuetdqYWIo01v7LRgR6a39anEgdf7mUHDzzPp3AL21ZYHsBgXgUn3H8KIOT6U/UF9s\n",
       "L5nUvlRfSn6OVIL0FH4eyQUa4uXAwN5ATYVSPdBU/wbgAlOmz61OX/Hgys87S+QCPiMPMKrpA+lE\n",
       "9tjpqiBdC7BhrYWglcg3VgwBtPZBCCLQARLIdVtzjfysy1nYhQIsyIRbswqg5bpeJwNFdd7YBo0T\n",
       "inpw06KnQgUqysvBZcGayobkQvKwH/fw37c9sPxj8GBc/LGSSNWpzRGIR6uRZXn32VlMxmbLNRtB\n",
       "lgC6LYBOAlg5ZPOhswSBDtAO6rY0R2+RMV+0sQsFttCPi+6kniIv3tHqVKAI54ktM1gxrZjjhPCO\n",
       "RU/pZ7CivByyaCqV+hM8Pexs4GyZxf2fivjflPG3k+E/ltUARMFkkSuYfo16120jIOMuOuU+/9Hf\n",
       "X/YB6MBsL9p8ONihv44doAO3x9KcugrOPoE02hcKdNGPPe40IhWZca1OBYpwODZSfhpVa0U8h5eY\n",
       "yA2DnjrqKvgVpWUh6sBJg6YaC1Hq55y3hzMRlzsxv6JG+GfHxDvPEAVWVzQAUTA1hys4SrsmMWQh\n",
       "KJCfmDtAlz9kAtClrVCx+cAXP/k6doAO3KqlmazAKwTQbF8okCbSRN3ZFScCH9+j1alAEQ7FRku1\n",
       "XeXuRB7ngPhtv55+lFdR12k0z6f8muosg5Bw1zvcw3OS7nunKmoNi368BQ2bFz/QAUTBh7vcjBBj\n",
       "+cXJWQgmqGts8Dk/BAJ4mrJQ4NeRA2zg5izNreWMUCvAvlAgOSRnA1kVErsruA4FinAqNtYBlY1q\n",
       "cwD/yCUmj/cZSk8/yquoO/5UZ6eu+TT1sNTE4xf0o4ktWE5HYpzVqb1ZfvbAv2IwJiYvP7ALdEA8\n",
       "urr+Mrc5rswEEFBEhI23ppwJEK2NjJy7ZaOIukbU68gBWnbamjtL7UJds32lQJ+cMCs/vLi4qNXh\n",
       "QCUOxUbLjyw/Apzvp2VA9EznkZGRQsmnpxeV9SnawhD9MoVDc7dPU50leivC58oY/XiDDfMoxFyK\n",
       "PN6HfPWX2NiRYXO8RwfQVfCy63Iz2sYGEFBEE1sG40YAS1NXbRR8rxwHgwO0hyZtzQfbWkQONNtX\n",
       "CrQBbJLJ0nlVq8OBShyKjZYOmIe3UG8V0T6jw6+nH+U15Jbkt+LpTA+Y7CqW1Hh21H1KE0+Wf8Qe\n",
       "u0aG2SKYWHOYFBE/EQlkRnK3CQpAGwmG7f1ZfnFsBDS/tLLB9wIFlL0AlKYCKHiKUq8jB6gCN2zN\n",
       "g9WYOIeY7UsF4CQ4ZZks+eZP1KFAFQ7FRr3fMdKbR6o7hzq8+wyspwHlNcTLKbEgbSyCwS5iSU/B\n",
       "PB7C+2RNmL3MHXiwhq3/2vyJQ4/ap0bGdQBTsMkdcUz8120EtHqMqfl4IIAfeG0U+HXkAF3Mbtua\n",
       "SecV+PQw25cKQEsxVVR71vYsrkOBKhyKja0FMAMf3J/cp5JmDe/7I+MBKK8hnpm3iewyWgGDXcRC\n",
       "GuLuGpCm0TVRXFLmsW4cfxOU1fGNrwfdWMGetBssy/0lGwERylnlDk8jgB2H+ZraHYjQXkcOxD6B\n",
       "5r7gZpbDO3lfmu0rBWLlZpDHYejtwHU4UIlDsZFSFInywmFWvkbH4Vv4OOzq6Ud5DbW4iMNuB88t\n",
       "QT/47OosRCm+ARuTe+kn5AJxVhvhmZI6vq3M6wA2R9w0FqOOpSo2AjKBTrlitmRNAJymzBQ8RanX\n",
       "kQNkPvDDkrGZ5fBmflQx21cKwNMXVbJMTGh1OFCJQ7ERRFG/HnzUsM/Q9PSh/IZY33MD7Vl5WNLs\n",
       "Yhaq1EBF7qVpD8doLxfYIGmWFz/lFfDlMDg1fosSXeXak4B0opQ60ANnqA1yPkjyK2UzAREvupfX\n",
       "7zIBBlCaMlMMeF9HDiSrzm5LM1v05G7XZB8pAF171CXZ7CWg1aFAZZ2IjVmaS8eWuoqSR7Nmvs/w\n",
       "6elD+RTVTpBvw8keg6YaC1WqvYTPw06hVoF1dYZ2Ns/R7+X7CfV2egXPZRcAcbPfTON0zm39BfR2\n",
       "L8HWpSKPnFhQ8QKcC/V34Fx9fjCFs72+TX9dc6BtZhGCm08PTmZhVn1hsH2kANuA0vQ1ODmy+Vkx\n",
       "XPj2GAUq6mRs1NKx+g+QLKjvQJp48qcetBQmsn49MerE4GTJryjIy1QaVtt7YNAUsTAtIwMTOe+9\n",
       "tFwOPuc3hmKP6r1k9QLWw/8kgEcW95etADuF53WvAyHN4fZjhmvlhurWGzC+mmQlFGXggVwoicEW\n",
       "7+Fu+3eMqbAvIUswTYJQQAiiND3/GrDfYCk1AkrdDZ5GXd6Pvx8OKkdDSJwsTI8gHGBHhDgQ6l8D\n",
       "9hsr4ZYas9YAT6Mus++HIeR/PKohJJkwK9VpA+yIzDT9a8B+YyXTEKp6N3gadDnqXpIk7/+f1j1a\n",
       "2P9p/QfYXrVIqGfKTAAAAABJRU5ErkJggg==\n",
       "\" style=\"display:inline;vertical-align:middle;\" /></a> <a class=\"ProveItLink\" href=\"__pv_it/c312b45a7bd83f5d62a422d1d8ea051b7b79c7710/proof.ipynb\" style=\"text-decoration: none\">&#x22A2;&nbsp;</a><a class=\"ProveItLink\" href=\"__pv_it/06bb16c0a147a643177325f44081e8a39cb4c54d0/expr.ipynb\"><img src=\"data:image/png;base64,iVBORw0KGgoAAAANSUhEUgAAAIMAAAAPBAMAAAA1wWH2AAAAMFBMVEX///8QEBDc3Nyqqqp2dnbM\n",
       "zMyIiIi6uroiIiLu7u4yMjJmZmZERERUVFSYmJgAAADCfy+7AAAAAXRSTlMAQObYZgAAAZdJREFU\n",
       "KM+FUj1LA0EQHfJx3nlJ9Cek1Sq9FkF/gBaWRq4KNiHpLXKCjYWQUhQh2B4SwUZIEwJWFpdGtDOV\n",
       "nSAk5suEODs7u2fuAg7MZPLm3bu53QcAn/NnTK8Gf6M097ILACQeR/chyh3A+2Rf9BPMkWiSNCKM\n",
       "QNkmlcb3Eso2vWhlgJMf0aXFKOMQ2Bf1RZQPllhdj1IyOa1u9Oh9HSwmfVFiKGpBlHOWWOtEKNYO\n",
       "q38BpMbU3mKeaBArrrmiTqDajVAOlHoL06V2C7OtQYA4Pp5Sx7qXDVHqGa3uNZt+nloTN21JkD4X\n",
       "UPlQ3cBpmJIvu0odT6hcodZwIF3RIEYR4JVp1ixMKdo9njUwfekKy4WrAMS4BKvOtHgvTOnGJjyb\n",
       "KhdgPMBuAGLYuUSOR/Y4SvHlrmSLPvM2wdWgiFjdlL9nYLpRSrUT2GLIEqkjJ3CiiCdpLGPAd7pI\n",
       "MeVmZmALXOetpkGKgjRWvGtdLKEYtP11Y+bY/tRhgkf1pjHLs+/46osldSZMEc/B8bwNkdgI/Y/V\n",
       "/qX8AvcUhV+FbUMHAAAAAElFTkSuQmCC\n",
       "\" style=\"display:inline;vertical-align:middle;\" /></a></span>"
      ],
      "text/plain": [
       "{A in BOOLEANS, B in BOOLEANS, C in BOOLEANS, D in BOOLEANS, H in BOOLEANS, I in BOOLEANS, J in BOOLEANS, K in BOOLEANS, A or B or C or D, A => H, B => I, C => J, D => K} |- H or I or J or K"
      ]
     },
     "execution_count": 25,
     "metadata": {},
     "output_type": "execute_result"
    }
   ],
   "source": [
    "Or(A,B,C,D).deriveViaDilemma(Or(H,I,J,K),[Or(A,B,C,D), Implies(A,H), Implies(B,I), Implies(C,J), Implies(D,K),inBool(A), inBool(B), inBool(C), inBool(D), inBool(H), inBool(I), inBool(J), inBool(K)])"
   ]
  },
  {
   "cell_type": "code",
   "execution_count": 26,
   "metadata": {},
   "outputs": [
    {
     "data": {
      "text/html": [
       "<span style=\"font-size:20px;\"><a class=\"ProveItLink\" href=\"__pv_it/d77ee6aaf1584b61e29ada936fa610d5f60bde5c0/expr.ipynb\"><img src=\"data:image/png;base64,iVBORw0KGgoAAAANSUhEUgAAAJUAAAAVBAMAAAC9PLGkAAAAMFBMVEX///+IiIi6urrc3NxERETM\n",
       "zMwQEBCqqqpUVFQiIiJ2dnYyMjLu7u5mZmaYmJgAAABN0h6tAAAAAXRSTlMAQObYZgAAAg9JREFU\n",
       "OMutVL9LW1EU/hIjvvzoy/MviJObxLUoNEU6m8Ghk0rBPZObmhaKqEOEToWWZGrpUAyUdigU36oO\n",
       "WhQc/IVTp6K2EdSI8fy4T5P7hA59F+555537ne+dd893LwD3EP89un/6/Mh8RwQjPsXWPWVTaWy5\n",
       "leZ+x3qs0ty2Uj5X39uQMpzWV2CPX1PLbLN1muIVpWYEQeMWTfJKMQzpGSHn0z1X3gMmtth7zeZY\n",
       "gPkaGYczXc9wfXsA8gudXPy9XIm952zeaRF9/P0ymaRvuC7CkPVBi2uV5qgkpGkpLhVKEPhCcyDY\n",
       "4psQpLsGi6tB81KCPQRKyKckCMzQHDFcqb8WpInfuvKBjcMbHG8eHOxcaZS4x7SIM3kk6T8Lhis5\n",
       "aUGuYloBTthM896mzqm/fzTaC7zSIs617x6cPsO1WbYgZ96R7DLSVOvYG/FIZIlrxa8hU0cQZDEv\n",
       "YyPQ01zJgtzgiXpYoFb3c13ZglETjUellGZkzZ/t4mPAdeSHIAmtPs0VO4VAXtoQdNWT6uSNqIYg\n",
       "7cHjGt6GIfGL+/2SPoq8gk15dtymcRqJcSXNeSoJC1L17/ooXNU7ebEUVYYSlNOyoCuzWCs/AMnV\n",
       "2vWV2Wu9xE7rqQGmRYaZpdaiCfwwB7l3Hp0QzotVG4OdWm0fXb4VGMY/IYZrMor7S7nc00i45P5C\n",
       "NPfqCz3MUd33t8NinENjZV+FAAAAAElFTkSuQmCC\n",
       "\" style=\"display:inline;vertical-align:middle;\" /></a> <a class=\"ProveItLink\" href=\"__pv_it/a60b3c99c775f7a97c1272c0efa908e9d57b87f20/proof.ipynb\" style=\"text-decoration: none\">&#x22A2;&nbsp;</a><a class=\"ProveItLink\" href=\"__pv_it/0e470ca90a18c3e832a035a1077905c5e8d6a4740/expr.ipynb\"><img src=\"data:image/png;base64,iVBORw0KGgoAAAANSUhEUgAAADMAAAAPBAMAAAC7N+rPAAAAMFBMVEX///9ERESIiIiqqqru7u7c\n",
       "3NyYmJi6urpUVFQQEBAyMjLMzMwiIiJmZmZ2dnYAAACebuTwAAAAAXRSTlMAQObYZgAAAMJJREFU\n",
       "GNNjYGBgeHv+LAMy0Jkov/JEAYT9fgOKFMOCTSwi1yDMlagyDAJlDNqMEOYPqFDimTMLoFLGECn2\n",
       "bxCZjSoIXc8dwSy+r2CKZQnCQPbT3WAWzwQwxREAl6o8/xPiQv8GMMWI7IxneWCWvQGY2rkKCGDO\n",
       "YGRPALHuO4ClApF1MTI0MMQ8YDgDEeBEluJgWMCgrwBzO68Csi62BwxmDD4NUJHD8IDax/DuBgMD\n",
       "k1IzTMRD3AEjeGGgTgYSUBAAANB4NSWuT2sGAAAAAElFTkSuQmCC\n",
       "\" style=\"display:inline;vertical-align:middle;\" /></a></span>"
      ],
      "text/plain": [
       "{H or I or J or K} |- J in BOOLEANS"
      ]
     },
     "execution_count": 26,
     "metadata": {},
     "output_type": "execute_result"
    }
   ],
   "source": [
    "Or(H, I, J, K).deducePartInBool(2, [Or(H, I, J, K)])"
   ]
  },
  {
   "cell_type": "markdown",
   "metadata": {},
   "source": [
    "destructiveDilemma"
   ]
  },
  {
   "cell_type": "code",
   "execution_count": 27,
   "metadata": {},
   "outputs": [
    {
     "data": {
      "text/html": [
       "<span style=\"font-size:20px;\"><a class=\"ProveItLink\" href=\"__pv_it/596a3ca553fb2ffb4d6b84a07ae0decadb762d540/expr.ipynb\"><img src=\"data:image/png;base64,iVBORw0KGgoAAAANSUhEUgAAAh8AAAAVBAMAAAAUd5GtAAAAMFBMVEX///+IiIi6urrc3NxERETM\n",
       "zMwQEBCqqqpUVFQiIiJ2dnYyMjLu7u5mZmaYmJgAAABN0h6tAAAAAXRSTlMAQObYZgAABfxJREFU\n",
       "WMPtWFtoXEUY/vdysrezp/tQBUFJngLRaPZBMF4waxs0gdpECFIFbQgRDJUa8IZocNEIqZo2UGy6\n",
       "WslWpaJYXRQjNJVusQQlFFOVGq0xR/RBLDZpjW1sbOLMP2cuZ3bP2ZX2oQ8O7NlzZv755r/PPwMA\n",
       "1k/wf6PNOFakf+aBy4Od2/WOx/SOkK33RNKXlIXgQ/RpLTj6KbhHr+rtGN9d53xYO5ZmB9e5xgO7\n",
       "Wpf7nhefh9tm7Fv8ABaHWl/wWcHMyAFz7fD2UD6qS3tEvv622jbYRsZVRF0AFYvPGp5prSulEcyd\n",
       "oF/xEdabWNDICveYG0Q01RB+5zpd4wkjdeQoN1pgK8DAVh+ANYTd+X5vgoQi/pU2RI7bJgpoYA+u\n",
       "/LEydZmIcQ5gSuVnoZxCGJbz0QuQ/KsMEWfuXVUhJ//RqDI3wBVh/rGZYDZNu8bDQTvQ6djVbCfh\n",
       "l/zTDyBFCLq9Cf5QPGEPecylYS/9iFJdWCn6UJY3TpPHccJ8SvaVCKBisVkrJCwulKHizKkKMQcc\n",
       "caz23Ouc3aeEPLUEc56t/msuV3AUEul3FJJ4hIZgtx8AESy44k2wU7I3TnNbPcAkCpEljxjtiSk+\n",
       "FKB2brLBlCoWAiBvaQ2LzSIU1mlBtB505lSFWIEzTIt3FKX93hRheydZsQ9Huq6WHhJvdBQyR4PB\n",
       "mPYB6KBZ8bwnQWhEcJc8R58PEC3X8UC5nr7crHonDY8Wkho+konAEYBJkdGw2Cyivsk9gqgLdOZU\n",
       "hTRGmPmmitKhg6++yD+WAO57BQ1xUAmZhk0srYT+xqG0D8AidaElT4KAjIcWZOhzwhn2DXBbXqMG\n",
       "PRW4iTjPftHFBXBFoMBis7Jg7C5KFU7rzO3DIEX/N+sM5ksyb2fqx87ylGwsnVo7im8y94eDfas9\n",
       "7DUu/dALgFIEznsShOWW+iHPCxZyFuP23qgFPdQSDzkpIoYL8H2OtrFpNxabtf3ndszrSaTJXdCZ\n",
       "m6dfT6KRgxBiwxk15X3wuxJ9k1nkXE2q8VNsQ4spqdsDgFJEz3gSxPodUV6DMb6ZRdC8gRREUWuj\n",
       "XJA8C3rYQbqfFjUEF8Bpz6DkY66NkSRC82G1jPlUYy5B1NjFstmm2ZlFVNaWCdI4u0RmGX0BjMd7\n",
       "6ThPqpQGN2VM8KYfAA36Nd2eBDXclZrhUXRq8jBwHzVHnM21h9dnWRb0cJYanQvHBRAeM04RBRZP\n",
       "hFCrbv1TPRpz24hH1aMSyewtuJrLfmHIiuiDALrkjaqHQCbK7IusP+EHQLvnbU8CRSFjaLxOrhD4\n",
       "Dt4pUQiV3VpRFcIF4K35LfQQjsUTIdQqQRR6Ke1mLkGZidKvCPntwsFuld0oFGQZwhy+xqWQbIIl\n",
       "c9zx8n4AhA+z15sg1i8UglVDnEYBS/e3AvsflQrBoJ+kjDdw7xcCnJjAxqo4gcXLEIwzSDKaibTG\n",
       "3LzYZW4iv0M4eMxlPysvy5DNaNpkyuUhLAWEKIPxoh8AsdJUwZtAJNVmaKErvC+SKoQfZEtulAqh\n",
       "QW9i2PGkKgVg7Tpnl+FYPBEaSlwFC6Axt48rBKuAjrTLVFC4H96bAXMZ6xsyvbfoMhQp3fPx/Vn4\n",
       "iiI9RwrkHwG8AQizwTd8COJ8CzSAbp8DdK0k05WxjS0sdthOrNIbcMYPbLoiAKjFgYPFeEgQ36zf\n",
       "oGQQnlsEc7wOMTuWi/D4KvaZg43uo1eOTHuZnoocOb5YV3Qd7mK00jG/Hfqa8+IBMHR32ocgKAsz\n",
       "ONo2jBkl4cT+Z+yvQRBEDy3NDH6Dr5/gdFUAEAW/gkWXILNmB+9SvIjXSJI511lGONLbTmHNo7Oo\n",
       "Ff7Xtudc58pn4T8ClCXYWXrC+NL5v83xrDJnfbIFleJTj9HvCcrQQCkeU0i3/yVBvNItQh4uEiCu\n",
       "He5426sd0qfLTE1VgQ/V0XCFWAv+RIcrgJgpuDgARhAusZep32+sL506VQ1+lTT8PgQq3JjZFUCs\n",
       "SqvYVRGoF0TaibXMBZGqI7sKSe2q9BFkpU7k8rhTLblC/KXyFaJ1Sa8Q8U71XxDtG75lXaXnAAAA\n",
       "AElFTkSuQmCC\n",
       "\" style=\"display:inline;vertical-align:middle;\" /></a> <a class=\"ProveItLink\" href=\"__pv_it/9cff71f70b2113a0a2e0994cb43c315db5a27aa10/proof.ipynb\" style=\"text-decoration: none\">&#x22A2;&nbsp;</a><a class=\"ProveItLink\" href=\"__pv_it/d4653372a969537cd29b9db7da0d1eea66eb78010/expr.ipynb\"><img src=\"data:image/png;base64,iVBORw0KGgoAAAANSUhEUgAAAG8AAAAUBAMAAABxDn5RAAAAMFBMVEX////MzMxUVFR2dna6uroQ\n",
       "EBCqqqqIiIgiIiJmZmYyMjJERETu7u6YmJjc3NwAAACgK8IjAAAAAXRSTlMAQObYZgAAAeVJREFU\n",
       "OMuFVD0sBEEU/m7dn9u7daVI5JT+gorotqSiUEg0Shq2FYVNJKK6XEiEykkoJIKCSnCFEznNtSfx\n",
       "E5UIcbkIKrw3u8vMrsQkM/feu+/9fW9mAaMMdUXvfAY8+w1TfFwqpibaXT5Ycv9HTHXX1joOoHHs\n",
       "XQW0R7vEQkioaT4SUgkRCrKeTuYpRk72S+0VgDqLJI19UiyhIgEy1NhQDn1AXOnofJ3U5DBnbKEj\n",
       "XmBjVgLM0f+3ForAg1Jpec6kcxNuC4MsGLYEOKS4owUkTMzIfuHCNHPcz/Ik7RMWYnIzNaCxk7rJ\n",
       "4Vh2PEOGu7piOU7lCjp1aV6h2vXsAjefB/3UL/LqId3EC4efEIksaKaIMA6sMmKejJ9AkbqP2hhx\n",
       "YxmkhtrWujlJRkzPduaCiOlC7ik78RZ7I2RVcQwTKu85YgW9AccGQsXeheOC5Eg1xXkUA8LyCIdO\n",
       "LtVz5DFqr5TC/iGHHA1CJKoeOdCbLSjk3DtjzOwLcvo9wtJipDp1j2WHwVYxfqbepRTYomRjZK7v\n",
       "ccsSt/1rB9HTD4JtOIZtd7i/F6D9q23piCtPpH1XDi6fYj25ejaAwIX/kju1WapeCTr2eddKWSWf\n",
       "rgeK4mfle8j4I5T0kOVQgU9H6v9Pxw3wDaZ5ePDKcBH8AAAAAElFTkSuQmCC\n",
       "\" style=\"display:inline;vertical-align:middle;\" /></a></span>"
      ],
      "text/plain": [
       "{A in BOOLEANS, B in BOOLEANS, C in BOOLEANS, D in BOOLEANS, [not](C) or [not](D), A => C, B => D} |- [not](A) or [not](B)"
      ]
     },
     "execution_count": 27,
     "metadata": {},
     "output_type": "execute_result"
    }
   ],
   "source": [
    "Or(Not(C),Not(D)).deriveViaDilemma(Or(Not(A),Not(B)),[Or(Not(C),Not(D)), Implies(A,C), Implies(B,D),inBool(A),inBool(B),inBool(C),inBool(D)])"
   ]
  },
  {
   "cell_type": "code",
   "execution_count": 28,
   "metadata": {},
   "outputs": [
    {
     "data": {
      "text/html": [
       "<span style=\"font-size:20px;\"><a class=\"ProveItLink\" href=\"__pv_it/12ae6cb5d07620083c6fc51a4edaf6af44074a2f0/expr.ipynb\"><img src=\"data:image/png;base64,iVBORw0KGgoAAAANSUhEUgAABDkAAAAVBAMAAAC+gSh5AAAAMFBMVEX///+IiIi6urrc3NxERETM\n",
       "zMwQEBCqqqpUVFQiIiJ2dnYyMjLu7u5mZmaYmJgAAABN0h6tAAAAAXRSTlMAQObYZgAACPZJREFU\n",
       "aN7tWl2IXEUWPv1z7enu23c6oKCgTD8FXIPTD4LRBx1N/AmoPYIsUR8ySBY2KNLgH6Li7Boh/s6A\n",
       "qBmNTEdF2IWYRjEuG8N0JGR1B3HUPETjmA4KiqKTyY7rOJ2krf86Vffeup2MDz7kwvR03/rqnFPf\n",
       "OVXnVN0LAMFXcOY6c1mX90mL/vP/fYYKel1h37jHvpFpnzokV03UE5byh7jSf6GfwVERLE2z9byN\n",
       "tV1bK+JHMLY4u/lqoz31wtrOpr+rn3uvP9i+3CVgYcvax5waFmaCsc6X8YjUWOczhwGFz3+diW8+\n",
       "t/svgLHOcKx0f8iYOYSMPtux+/TX77rPHFxbcUIEI9aYsR7JiSHl9ihPfde9kfztacX5Qo5xTzXW\n",
       "GxZJUf6QLI9CX/cdgEOswzi/XTxq4Zo3+zeopHMWGdRhg1soeuV9H8m5krob4JG7HQL6Cd9z9QRA\n",
       "/zgkIGINIAP52dXcIX/3VuOlF402SobP1LExe+zm2wiwEaD0sxMiGJkGE4L1CE58PK6pyIlMrf/V\n",
       "4QuNivWGRVKUP1RDbg358g8cHT8ct2BDF8M5WfljA6F50JibkE23U8NiJvjrSFyX/ucSUCaAEQdg\n",
       "kAA2zLhsGGxArAGU9xFHc3qJzJe6Q/qPRgsjYzv99jj9OMKmGzLOO0lEnnBBJCOFsgnBeiQn2/Wt\n",
       "YKoVtcrPE5UnHL5QY4z3hkVSlD8Uy9+CFR3+I0JasG7iZcndA8ozAyTk58oGgLCfqwv2i3dR60Zc\n",
       "Akiwp0/y799MTDRDgJ0EMFB32bCzYnbHBtCgH3U0F46B/5pERul/zlj+GRn76df19GMb/cijWZ8i\n",
       "7cG8CyIZ8UdMCNYjOdmvb/3nsBaRreIZn/olwhcm6hiEvUGvNRAiyfCHASEs/7dqR0eQ4rK9q1p6\n",
       "Zr2q8ui1hLJNLQNA2C+sEuwfpm71ZhwCarRm48F9y/lRALqk1louG8Siq7pjA2jQtx3NJFXcJoFR\n",
       "+jNGTuNkFCsiE6TZwC7D6xKhfv82F0Qx8hZgiKFHclKsqFvtAf3dG8KJLns87IswyvYGHzDYJBn+\n",
       "MCFT4PE1GkfHqhwPpOmWXnfTzz8ufywC3Pq0CSDsX7iep78My4l+1SFggYbzIoO9FwsQqdUhAndH\n",
       "BrCgrzqa+5tq1Y/UnzJWak5Ggd7LzcjpeQEYU9Db2nJANCM7AEMMPZKTgrqZbj2Kdj0qC/UP4ZpM\n",
       "+yKMsr0BVsLbWQ35w4J0pMA36EcfW2T9ijfP7uk6dmjl5P9lIHuLP539IpiAbHpT9w6xps1rY2ME\n",
       "UESKxaou0TEg3ZmdPbDkEpHmSnR3ZAC9XnA1DzYGJLuR+rN4KyrICBgz43Ji3YQrhmePrKu7IJqR\n",
       "HwBDsB7FSaDK0vdZPQDw+QS9JqXLBvfMztYaIV/YqHLIGyWGmDhhkYT9YUHSSykxR+fox/1seqUh\n",
       "w9uHcM325vcoz+4fNQF05f6Jm5xH24UYARTRx5JXNhLAUusxlwhRbmchwgDq0kVX884VJZm3I/Xn\n",
       "64LslzQZORZPKwD4vvhFyWSDpX7/ry6IZuRBwBCsR3GSU8tCBa7Ei8tDdVSTVcK+CKNsb4hTl3dN\n",
       "kgx/mJDCfPkwl1ckltzCy6T1swfZwu3duZtckjtCsM6zvCzSANpIMGyPxXKi7xJAc2I/K5T+TAFN\n",
       "G4BSa4wIkVZ1d2QAHd4vruapdkbu9yL1nyW5X63J8JjCD+WOU65DmVGW+lkJHQvRjGwADMF6FCee\n",
       "LBi8Z2bH8LmLv6ti12TYFxEoyxvymr7DIMnwhwkpnoQrxVL2BFmLVg7zoIU72biMeZuFUV3qpuZN\n",
       "AGO/j0crG959LgH09hzzxCWxAHGg4RKBuyMD6Ap53NVMvF0TUytSvxEdggzutFK9UA9FB52CA2UH\n",
       "RDPCo0NCsB7FiYqONAHgw4/Vr+kioYO3Han5GJTlDWnPk1WDJMMfJoQ0ZPnaU6TM9FFcTqWkEcxd\n",
       "HzT1FlusQyOY/dEiV8p2ww2XAEKlv5E7IhLAjjtEHhiJRRjdkQGZlyA/Ht/MapZBEWWR+vN17TVJ\n",
       "RppJzDTzINOGjA563AFjFQdEM3IhYAjWozhJy8xCGvNs8Id2s+ttdNyxhI87uC/CKNsbJY7YXTVJ\n",
       "wv4wIIxlUazOqT3LpWph+sSYWUFDb7E3DJkANjd52s5QwwotlwAycae5I0rlKABOrdEiRFrV3ZEB\n",
       "ZC6JvVpkM6tZ8mLeROpX1eJqTYYoFq85AkbJSaKDpn5vwQXRjPCqVEKwHsWJrEozdfPI+qKImszw\n",
       "RQgV8gaPm6ZFkuEPDOEsT7bUnoVGB9uF16pGcEPzNvjnQfDZiraL9N/YMqO/6DUKO0bhYyqX7MNy\n",
       "XwLECyBsp18Bc4YZgEmUWqNFTNrdkQG5tr/V0cwW29SSQ7/aVHqajBIPnPXbeMsO2W2YnTiuvAFc\n",
       "EMXIF4AhSI/mhEhhVtLjkqw+4lRb77yoyUK+CKFC3sAnBJyksD+MQwTK8kADn3f4tU4L7u0ytL95\n",
       "lfmMaoL0e4o+dBIukwD5lCtPh+0f2PIpmO22gC03yp3kB1e3bIB/qPs3ONC9Kl6E/1T3SbO7YcCK\n",
       "c+sQ3/zR1GIZzuuuidWvF3dERnFY1e6gUgTbE08tzm6+jrXFQTQj7wCGaD2IEyKFWrmv+x7kavpZ\n",
       "Yp8olKj1pdpCOewLjPpgarER9gaoc3xFUsgfCML8kJpcqNrPWdQa87o4xZZ7Afvg3wY8DKcoAP60\n",
       "bqLpBLhFWN1tAxKaY/Q/F37i8KFYqOWKVj0diD9uQiL0MClhKyETupNrJaIi5EA1UQhEjI1Hx4j7\n",
       "OX8h6UWABixTQCIgAdFYnn1c+o/h+9vNn8HM6UAKZfN3hB4mJdHK3pjqQU4BertYdARH3aC9CUL8\n",
       "MixPQDLAjUgwINE+Lj0bmj2+9cIAfpjVO2Ta+p2tRkpJtrI3pnqQs7fH6GDvd0DCu2HtBCFBkpb2\n",
       "sgFuRLBM+7h08+2fSD/ug9OA2PES1sOkBD05LJmp4PcQwrM7P7zJnXmvlF6hN/q+DmX49qlDgh7e\n",
       "HPz6j0gHe6/0N3AOJDiT5aFbAAAAAElFTkSuQmCC\n",
       "\" style=\"display:inline;vertical-align:middle;\" /></a> <a class=\"ProveItLink\" href=\"__pv_it/8da2f94b018d036a0f15a9af8a3ea55aa8193e9b0/proof.ipynb\" style=\"text-decoration: none\">&#x22A2;&nbsp;</a><a class=\"ProveItLink\" href=\"__pv_it/1995088ea6f7bd5cfad004dbdc553b9f7fcd335d0/expr.ipynb\"><img src=\"data:image/png;base64,iVBORw0KGgoAAAANSUhEUgAAAPcAAAAUBAMAAACjcrZMAAAAMFBMVEX////MzMxUVFR2dna6uroQ\n",
       "EBCqqqqIiIgiIiJmZmYyMjJERETu7u6YmJjc3NwAAACgK8IjAAAAAXRSTlMAQObYZgAAAnVJREFU\n",
       "SMeVlr9rE2EYx79NSnKXXOJRRxEiOLiZyeJiO+pUB/+ArCLI0SU6NSgWhw6ZxG7BLYupo0OTIAjV\n",
       "LsGlm9wo4qBJSWsSiO/P3N1zNo++cO+P5/t5v/fyvu+THFAegJbHNEAYTucByxxH4y/z9+Jp9zMh\n",
       "AWPM9rwdLtORfX3eXG7wBrg58RXzNsZMxHMOeC05WFEhH2lG634ExXVkf7EGeBQqptSMwqtnYsZv\n",
       "0VmXo4ycVgpAmJHVr8nqBEQHCvdZg1JNmzhhYs3Ij0Xno1p4RVROH4Q5tfqarPZAdOBShTPw7kCb\n",
       "fIuv+SdQnMnOpt2re7JDGa0XhONqk+rA1oAzuKw7m3gaX/OBeBpydcrzoXi6skMZredEVQypDmyE\n",
       "yw1a5hAEcxhfc3t/v1eVZ6QujCN2Tr4qyQQLXSzzCqgOvGAMqjsN1RHMLuC+lEW8dEPckB25YTkl\n",
       "5wNk1PZRxuh14DqoDm/IGNTdsZolmAf2Z0Dcjo5oe/KCrMiDhdfAZ6VRxuhHJqUSOnJjxmBQnsCY\n",
       "xONTk4VmLl7hVmruNNLdWraWfrk7Yw16vjHZjeIqzUcqF/WpfEfDbmucsXq55YDo5edwGqzBVsWY\n",
       "HEZxleanWNwXFK8GiQtlmIX+7gREz5+pTGMMnJkxuW1voQ/Hpjncqj6VG33VEmahr+2B6LmB94w3\n",
       "yI8Mc3eRA586w8DtTeVaC74OtXUTMR86w2qkF5pUR31bXYMLDeRL8GTe1YwTIl2OTPtDNynG6OX+\n",
       "BTprYJjkn4Ip68lhiuF0HjBMNx026RuV7v/pPGCZ43S8uOxj4R90HrDMX75wvjJfQZzOA5r5A4Bv\n",
       "8wpHS5hbAAAAAElFTkSuQmCC\n",
       "\" style=\"display:inline;vertical-align:middle;\" /></a></span>"
      ],
      "text/plain": [
       "{A in BOOLEANS, B in BOOLEANS, C in BOOLEANS, D in BOOLEANS, H in BOOLEANS, I in BOOLEANS, J in BOOLEANS, K in BOOLEANS, [not](A) or [not](B) or [not](C) or [not](D), A => H, B => I, C => J, D => K} |- [not](H) or [not](I) or [not](J) or [not](K)"
      ]
     },
     "execution_count": 28,
     "metadata": {},
     "output_type": "execute_result"
    }
   ],
   "source": [
    "Or(Not(A), Not(B), Not(C), Not(D)).deriveViaDilemma(Or(Not(H), Not(I), Not(J), Not(K)),[Or(Not(A), Not(B), Not(C), Not(D)),Implies(A,H), Implies(B,I), Implies(C,J), Implies(D,K),inBool(A), inBool(B), inBool(C), inBool(D), inBool(H), inBool(I), inBool(J), inBool(K)])"
   ]
  },
  {
   "cell_type": "code",
   "execution_count": 29,
   "metadata": {},
   "outputs": [
    {
     "data": {
      "text/html": [
       "<span style=\"font-size:20px;\"><a class=\"ProveItLink\" href=\"__pv_it/92b80b46b2a863d0edd684ac159f5bd1484346870/expr.ipynb\"><img src=\"data:image/png;base64,iVBORw0KGgoAAAANSUhEUgAAAGsAAAAVBAMAAACzuQ2OAAAAMFBMVEX///+IiIi6urrc3NxERETM\n",
       "zMwQEBCqqqpUVFQiIiJ2dnYyMjLu7u5mZmaYmJgAAABN0h6tAAAAAXRSTlMAQObYZgAAAc5JREFU\n",
       "OMtjYGDgu8dACmC9eABE8exCEbXDp4XdAEgwpYKYfB+QJXgcIEZuQFXP1//jbosTA0MziHMbRHBN\n",
       "QJbnNoBQYLMCwCaABdiAxt0PYDgNYq/E1PYWQr3+AyJbQcRDsED8AwYG/QsMXALYtU2GOLX2M4iK\n",
       "ABFzwCLyQFe8F2DgScCqjRnC4WP8BHMx0wWwiBvQrExgEG7Cqo0RokiH/R844IA8FohnfzAwRPYA\n",
       "6bVAvAwkwIEcaCwPwG5UYP0I5gJNDIGE7I93ItPBngbi9yBGGTC8bs4EgllADmcBSIiJgfkvWLUg\n",
       "A0MTxBVAvx5rADIqQW4HOiJkMswmC1A4K4CD4u6NL2Chkww8ELewAIOC8TsoREG8TmB4qgVgaAMS\n",
       "2WAh3gIusPUM/ECbGD9CtXGDrOVwQNIGdiQ7EE+DBOwGTgZ4tHGAQlcT5jd4SFrAgsQciPdDxFwh\n",
       "kQ2OtngHaJAsQ9EGSkVcF6Bx5w8J9whIZDNsA4ZTCijl38Iab0wTGHj8fx9gKPk/F5I2IfHY/b/3\n",
       "hgvYl1vxJS5EqjmAyueZANeWgCUp4wKIpIya36BpCRc4Dc9vDLuwZFNcwBnk/yRITr9HdKHAZwAt\n",
       "SwBHZnR7mx/+mwAAAABJRU5ErkJggg==\n",
       "\" style=\"display:inline;vertical-align:middle;\" /></a> <a class=\"ProveItLink\" href=\"__pv_it/196b391dbd582b2bad6a73ec9576d3b30c7d9e970/proof.ipynb\" style=\"text-decoration: none\">&#x22A2;&nbsp;</a><a class=\"ProveItLink\" href=\"__pv_it/98d4bc94e268eb5bd1dd8957b0f9355a80140e9b0/expr.ipynb\"><img src=\"data:image/png;base64,iVBORw0KGgoAAAANSUhEUgAAABwAAAAOBAMAAADOPWE3AAAAMFBMVEX///8QEBBERES6urqIiIiq\n",
       "qqru7u6YmJgyMjLMzMxUVFTc3Nx2dnYiIiJmZmYAAAAfdW6kAAAAAXRSTlMAQObYZgAAAGNJREFU\n",
       "CNdjYEAAzgYGZMDxAYVb8Q2Zxxb3G5nLzvIZmWvG+h1ZrQHnFwaGt3eB4A6Qy8zA/Q8qswuIZ717\n",
       "9QmJa8DAIIHgsgKpiwjuViDVD3MtA/cFIKW/AWaL/o8EhqD/9wA5jBwoctwhSQAAAABJRU5ErkJg\n",
       "gg==\n",
       "\" style=\"display:inline;vertical-align:middle;\" /></a></span>"
      ],
      "text/plain": [
       "{[not](A or B)} |- [not](A)"
      ]
     },
     "execution_count": 29,
     "metadata": {},
     "output_type": "execute_result"
    }
   ],
   "source": [
    "Not(A).prove([Not(Or(A,B))])"
   ]
  },
  {
   "cell_type": "code",
   "execution_count": 30,
   "metadata": {},
   "outputs": [
    {
     "data": {
      "text/html": [
       "<span style=\"font-size:20px;\"><a class=\"ProveItLink\" href=\"__pv_it/92b80b46b2a863d0edd684ac159f5bd1484346870/expr.ipynb\"><img src=\"data:image/png;base64,iVBORw0KGgoAAAANSUhEUgAAAGsAAAAVBAMAAACzuQ2OAAAAMFBMVEX///+IiIi6urrc3NxERETM\n",
       "zMwQEBCqqqpUVFQiIiJ2dnYyMjLu7u5mZmaYmJgAAABN0h6tAAAAAXRSTlMAQObYZgAAAc5JREFU\n",
       "OMtjYGDgu8dACmC9eABE8exCEbXDp4XdAEgwpYKYfB+QJXgcIEZuQFXP1//jbosTA0MziHMbRHBN\n",
       "QJbnNoBQYLMCwCaABdiAxt0PYDgNYq/E1PYWQr3+AyJbQcRDsED8AwYG/QsMXALYtU2GOLX2M4iK\n",
       "ABFzwCLyQFe8F2DgScCqjRnC4WP8BHMx0wWwiBvQrExgEG7Cqo0RokiH/R844IA8FohnfzAwRPYA\n",
       "6bVAvAwkwIEcaCwPwG5UYP0I5gJNDIGE7I93ItPBngbi9yBGGTC8bs4EgllADmcBSIiJgfkvWLUg\n",
       "A0MTxBVAvx5rADIqQW4HOiJkMswmC1A4K4CD4u6NL2Chkww8ELewAIOC8TsoREG8TmB4qgVgaAMS\n",
       "2WAh3gIusPUM/ECbGD9CtXGDrOVwQNIGdiQ7EE+DBOwGTgZ4tHGAQlcT5jd4SFrAgsQciPdDxFwh\n",
       "kQ2OtngHaJAsQ9EGSkVcF6Bx5w8J9whIZDNsA4ZTCijl38Iab0wTGHj8fx9gKPk/F5I2IfHY/b/3\n",
       "hgvYl1vxJS5EqjmAyueZANeWgCUp4wKIpIya36BpCRc4Dc9vDLuwZFNcwBnk/yRITr9HdKHAZwAt\n",
       "SwBHZnR7mx/+mwAAAABJRU5ErkJggg==\n",
       "\" style=\"display:inline;vertical-align:middle;\" /></a> <a class=\"ProveItLink\" href=\"__pv_it/4d4093fecdc5818c0b902cea275d364c5086aa700/proof.ipynb\" style=\"text-decoration: none\">&#x22A2;&nbsp;</a><a class=\"ProveItLink\" href=\"__pv_it/86f671dd514f6e615234986d96edb2c4ebb473e30/expr.ipynb\"><img src=\"data:image/png;base64,iVBORw0KGgoAAAANSUhEUgAAAB0AAAAOBAMAAAAh/woJAAAAMFBMVEX///8yMjKqqqru7u6IiIgQ\n",
       "EBC6urpERESYmJjMzMxUVFTc3Nx2dnYiIiJmZmYAAABbDZECAAAAAXRSTlMAQObYZgAAAH9JREFU\n",
       "CNdjYIACjvW/3i0vY0AA1gIGhvcTEPz5DQwM+Q8QfP8NDAz9Dgh+KQMDc6wBgv+LgWHuYgSX81eH\n",
       "+yUg/fYuENxhYGD5zcBgugAquYuBgT0AKPYJwecHyrF8QfBB1nN9Q/BB1s8vgBnOwCDKwMAWjrB+\n",
       "4f91r8oVGBgAyy8lZJPyWlAAAAAASUVORK5CYII=\n",
       "\" style=\"display:inline;vertical-align:middle;\" /></a></span>"
      ],
      "text/plain": [
       "{[not](A or B)} |- [not](B)"
      ]
     },
     "execution_count": 30,
     "metadata": {},
     "output_type": "execute_result"
    }
   ],
   "source": [
    "Not(B).prove([Not(Or(A,B))])"
   ]
  },
  {
   "cell_type": "code",
   "execution_count": 31,
   "metadata": {},
   "outputs": [
    {
     "data": {
      "text/html": [
       "<strong id=\"reduction\">reduction:</strong> <span style=\"font-size:20px;\"><a class=\"ProveItLink\" href=\"__pv_it/bd7c0c36d4893c1f3a0b239a721b4930fa6f33cb0/expr.ipynb\"><img src=\"data:image/png;base64,iVBORw0KGgoAAAANSUhEUgAAAEkAAAAVBAMAAAD4Ed5jAAAAMFBMVEX///+IiIi6urrc3NxERETM\n",
       "zMwQEBCqqqpUVFQiIiJ2dnYyMjLu7u5mZmaYmJgAAABN0h6tAAAAAXRSTlMAQObYZgAAATVJREFU\n",
       "KM9jYGDgu8eAB7BePACieHYx4AVMqSCS7wNU0wZUWckU/20zFICM2yAe1wSIKPcHNEM2BPL4gByz\n",
       "ElnV6z9oqhz0GERZ0FTx1H6Gyj6ZOXMDVFU5uio+xk8QRSEyCLMWHUFTpcP+D2LmHoSNTFNbgfQy\n",
       "EIcDbDyPAutHsByHAVyV2vxvID++B3HKAsChwsD8FyzHguz6da9Anr8AdMZksFDE3RtfwIyw3UAA\n",
       "cz0L0wMgo1OAgUENbBbQ6GywKhNks1gYGoBmNYAc4gAk2IF4GliODVkVB8MGqLvAfjQH4v1gOV4B\n",
       "ZLP4FkD9CFLFDFLpD/HddHgMRTGsuoEUXjz+vw8wlPyfC5Y84XQANbZR4hEOtDxnoiQPiKoE/OkL\n",
       "oorvAwFV4PTFQCitJoEpdsLpHgBPT1V1M7jh/QAAAABJRU5ErkJggg==\n",
       "\" style=\"display:inline;vertical-align:middle;\" /></a> <a class=\"ProveItLink\" href=\"__pv_it/6b042f719c77570de9aea7147ce590b2c39a7ca30/proof.ipynb\" style=\"text-decoration: none\">&#x22A2;&nbsp;</a><a class=\"ProveItLink\" href=\"__pv_it/1f7f427418295de5e2168cee1c6dcf0694e0b0460/expr.ipynb\"><img src=\"data:image/png;base64,iVBORw0KGgoAAAANSUhEUgAAAGUAAAAUBAMAAABmLO6YAAAAMFBMVEX///8QEBBERESqqqpmZmbc\n",
       "3Nzu7u6YmJhUVFQiIiK6urp2dnbMzMwyMjKIiIgAAABj8LvFAAAAAXRSTlMAQObYZgAAAYlJREFU\n",
       "OMtjeHuHAQJqZ4GpcAYYMGXABXahstgUwGyeCwwMHAHY1J8Fq+QBsw9A9PBCFPJ+AGq/gE3PfbAe\n",
       "jgNAiv0BRE8J1KHfgMQ+LFrY7yeA7WkAsjkTIHqmgmXYTL4CyUQsepL9A8C+uApkL4H4h3UCxDS+\n",
       "XyAHLsDUU/B+AVilCZCtCtHD5wCWWcb8HUhyO2Bo4UqwLwCr5ASGkwJED1MB2GkLeP6BbAMFAvdd\n",
       "MIBqz2I4/wCsku8BAwfERgZOA7BpDKxfgBTzBAx7FjDEO4BVsk1gyIXGDyPYCydcPD6BIukDuhae\n",
       "Fpd+qIucGTaj6AESslj1cAFVXICojGWYwIDkNmYgnghSMQHhnwawHqAspwDU58cfMCCFQTA0utnR\n",
       "EwKrASSFgFTydCZA9YCCFxxH+sCoY9mApicSZOpXaMq8AkujQOew6f9NYDD6PwVo5AFULUn/rzEw\n",
       "6/90gOgJg6frqUhqMonMCyVIUvuI1MOEyDTY8wLuPIemHQ28hOXtt+h5uxSXFgDNpnQviTbCIQAA\n",
       "AABJRU5ErkJggg==\n",
       "\" style=\"display:inline;vertical-align:middle;\" /></a></span><br>"
      ],
      "text/plain": [
       "reduction: {A in BOOLEANS} |- [or](A) = A"
      ]
     },
     "execution_count": 31,
     "metadata": {},
     "output_type": "execute_result"
    }
   ],
   "source": [
    "reduction = Or(A).unaryReduction([inBool(A)])"
   ]
  },
  {
   "cell_type": "code",
   "execution_count": 32,
   "metadata": {},
   "outputs": [
    {
     "data": {
      "text/html": [
       "<span style=\"font-size:20px;\"><a class=\"ProveItLink\" href=\"__pv_it/679725ced1af4863d5311f400ef75460f4186be80/expr.ipynb\"><img src=\"data:image/png;base64,iVBORw0KGgoAAAANSUhEUgAAAKkAAAAVBAMAAADP89MSAAAAMFBMVEX///+IiIi6urrc3NxERETM\n",
       "zMwQEBCqqqpUVFQiIiJ2dnYyMjLu7u5mZmaYmJgAAABN0h6tAAAAAXRSTlMAQObYZgAAAqFJREFU\n",
       "OMutVU1oE0EUfskmZpNs11w8eJDmFBBUcvUHjFTUQLEVPCnYUCoISslFpYdiwQr2UBsQsaJgEVEU\n",
       "KkHRQ1WyStBDLlYEg9o23kQPtsRKC2p9P5lkZ2uEiAP7dufbmW/fzzdvAcCehf84gtMO3awpskal\n",
       "xd2hZJMX/qNk7XmyRYEOe5Z8Whkt7457wGf7ypVtcNaDru/rejROS9/TLJIj+0BeFTgIfuxm2wfQ\n",
       "tqhjvn6AwX4oeZ3MH7A6KZl36qz2K35hFygpJm22Y/yBXxjSTw2z0rimrQqRmIc1tQXWBTTWsGTp\n",
       "5Rzdg0OEcNJ9VeRa0LDoCUpeBqyMkNnpK1cV62mddausqLTHVTo2MxDArS+uadhclj6Csd2Xmu9y\n",
       "Gr7eKGqsG6R8zhmWwiBeHYysHYLguOPGjGUWDsY0yStKTiMD/kvn8H6LJmYezX7Gn0MPJyuMLqQY\n",
       "6bnwMZ0FNxZZUCxf2DakkEpc/06hfqXJKarDZcbjsJOr5ouBKXJqT4J1DNxYeFGxDAiXu1r3PlPi\n",
       "kePgRUJ6OUWjM2O8yMop3ewh5qwbW/ODZxQH7zn+GIdiDfgpgyMYcKJbsfpxT54XvIXbwrpErDE3\n",
       "FuZDc1KxGpqvAUCpREkuZkplAH0Ki1y2Qw6UXGEs7sZQqTgm8NrIcMbNakK+llfWAFXLQNbovAjq\n",
       "iPhHcg1+AzdmULUiTr1a05qv9kRNA8w6WdNsoCo+joheouhJohM0DMUX+kAP70Qb2fqJPQR3y5pe\n",
       "MZriyhMIdS3L0X3K1iwszQzvVbsEA+vN+df88FCmw5s83WXVia2PHX9ocR7MytU6383aiVVDWDON\n",
       "7tLKWNVdNFbprx0ts5aaveD+ClOurt3CaOaHv1f+FbP/8oexk3/5b/0Gz6yxfgSit7EAAAAASUVO\n",
       "RK5CYII=\n",
       "\" style=\"display:inline;vertical-align:middle;\" /></a> <a class=\"ProveItLink\" href=\"__pv_it/077061261becb5ec2ddb3b9e6ad4f4264868f25b0/proof.ipynb\" style=\"text-decoration: none\">&#x22A2;&nbsp;</a><a class=\"ProveItLink\" href=\"__pv_it/af21e96bc662cb74cc7cb3eb21c032f16e434dba0/expr.ipynb\"><img src=\"data:image/png;base64,iVBORw0KGgoAAAANSUhEUgAAADcAAAAPBAMAAACy3Eq1AAAAMFBMVEX///92dnYyMjKqqqoiIiLu\n",
       "7u7c3NyIiIjMzMwQEBC6urpERERmZmZUVFSYmJgAAADEjrHzAAAAAXRSTlMAQObYZgAAAOZJREFU\n",
       "GNNjYGB4+//O2d0LGJBByez9mr4QodkMDDw/UCQZFNpZt54DMTj+MTBw/UGV3LCOoYIbxGD/xsDA\n",
       "9x0sxrfFxQkmaQyW5J7AwBDpCjZjewBCp1Q0iMF/gYHDFywaFIAwlsvjBojRf+/5FgOw0DWEnSv9\n",
       "f4JdW5/AwDoXIoTsILmHIMZOkAKQVo5JSkAAk+TmegBk/AVJFgAJNhSd3AwXIN5kuA+2YAKyJC+D\n",
       "AsSbHL/BQsdRdPIJMDAwAdWv3AoWYjGAB18jg+BZBgZe/b9nbm+GCLHeXooR8AjAJQ0NPggAAH2B\n",
       "SAzP/7V+AAAAAElFTkSuQmCC\n",
       "\" style=\"display:inline;vertical-align:middle;\" /></a></span>"
      ],
      "text/plain": [
       "{(A or B or C) in BOOLEANS} |- B in BOOLEANS"
      ]
     },
     "execution_count": 32,
     "metadata": {},
     "output_type": "execute_result"
    }
   ],
   "source": [
    "inBool(B).prove([inBool(Or(A,B,C))])"
   ]
  },
  {
   "cell_type": "code",
   "execution_count": 33,
   "metadata": {},
   "outputs": [
    {
     "data": {
      "text/html": [
       "<span style=\"font-size:20px;\"><a class=\"ProveItLink\" href=\"__pv_it/a9cc5fe530e99beab09387021b7196251797df290/expr.ipynb\"><img src=\"data:image/png;base64,iVBORw0KGgoAAAANSUhEUgAAAOQAAAAVBAMAAACkt18CAAAAMFBMVEX///+IiIi6urrc3NxERETM\n",
       "zMwQEBCqqqpUVFQiIiJ2dnYyMjLu7u5mZmaYmJgAAABN0h6tAAAAAXRSTlMAQObYZgAAAstJREFU\n",
       "SMe9Vk1oE0EUfvnrbjbbbQ56EAr2FFCC5iAInmIpYkBIBJEqSIP0EiolB38uFkOtIKioiK1BxSCe\n",
       "BCWnIv7gFooIIlbxkIO1OXhSqKm/kahx5s3M7k6IE3LJwO6+2bfv+2be3ywAWO+hZ+PQIL2bD6GH\n",
       "I5YhN6vGJqGyrNwwnp6/NsQn1sX68sywpPfNjjRy0850YXeluuP/AIKgn96MS+xNpNayoPJec4/j\n",
       "874kwEpG0kdC0cWXVbGASYCpSQUAJ0A2QfnpdwtlcgusD4rJGMHeuiTpg/6qL5NkspmyyQ6+KgA4\n",
       "gZfSnOIGVqp4XViccCw2JgA+R1H8UCyWOaWW55SRI+TmzyoAOIGX0vJ9YR7fabuLvL0oDHYRmxxq\n",
       "9g26uzTinHIlT02XFACcwEsZ1/7i84Xt+sV/9YyY1AEOnMfFPvY4dtMoC2/gF6oSCgBOYFBP6Ogl\n",
       "cyi0hprTbihit36IhAvVV9fNoaQnXMpc8zATjTU3ZO0BBAHWx3FcqB8Cf9h33ujf/ygSksThWQGJ\n",
       "vOljrJZQDH/3JE1bAIfgCQnNFXwzulz5htuZeESGsCCoHJ74w/eTSvupXqQP/QZLCLPdVAA4BPpl\n",
       "3g+AOGACoyItMggFJg+Qpw+9t827S0jqbJdY08cUAA7BA0pLv9HINYuqrNdCh7JbljqmdJ9EWYig\n",
       "yCqypAAQBJbTD7aT6ynqXkuLtEpuWY7h+vuj0i5ZrALUAYatABAEmLGUMkBp05iL4bzTrw7C3QqY\n",
       "DSrPk/iPM8g5t+GVjHsFeEX3caoK2jv2ui2AQyDq0kw3bDjavIk5MBOXu3KRMJ1rXqiMcKjnw7bU\n",
       "1sM3qNXbs29ENbQBcAmkHutk8x3er/jQ7JbeuzlVlA6dk9AFAKPMqk84o9MRWIIuAJDSqqktFjog\n",
       "mlHoAgDPS+jwV1DtgGh18oIEEMMOqPX43+cfpR3wbavfwOsAAAAASUVORK5CYII=\n",
       "\" style=\"display:inline;vertical-align:middle;\" /></a> <a class=\"ProveItLink\" href=\"__pv_it/6cdd43f401d09c2c1dea4d955af68242286c6a2c0/proof.ipynb\" style=\"text-decoration: none\">&#x22A2;&nbsp;</a><a class=\"ProveItLink\" href=\"__pv_it/17dba683f9b3310e7cb5d2b58da3bc87973237880/expr.ipynb\"><img src=\"data:image/png;base64,iVBORw0KGgoAAAANSUhEUgAAAF8AAAAPBAMAAABw7A4xAAAAMFBMVEX///92dnYiIiIQEBBERERU\n",
       "VFS6urqIiIjc3NxmZmaqqqru7u6YmJgyMjLMzMwAAADiRdoGAAAAAXRSTlMAQObYZgAAAWRJREFU\n",
       "KM+Fkb1LA0EQxZ/RS+IlntZamFqLBLE34Ad2BrE5VHJgZeWB6SO2IgmIRWyS1soDg6gg5A8QFNIo\n",
       "Fgl2gnIinIYgxJnZEN00Luyb4Tf78XYW4PEGfcSzQWltqQ/GcvZGdEzlDRZL0qboYBooN3W2W4N5\n",
       "VFMHNjxSg3ncFeJTYaeoseo0SXlPytcSrQxJyBOSJ3DnaqzOuqUc1fIOhwea24rMk+UZ7y8bbrO+\n",
       "SDXsnYm1U5rLakMAPK9rrJBgvZTqBXxxGSILaSFWcJubgsYm3d9+OSgUOUZcGOINkRZwntFYstlb\n",
       "b9mlrBwSS+BGoaEULW1rbE5eLhKmtt8LPMG42jBKp0e+NJZkMeWaCjlNCTxEAr1vMD41Jp0f4CxK\n",
       "G0belZPX7sv4G/y0xgocJjjbZ9pSr1lV34Y6GZ31NGZ+U485rXaeYK58SJvwqNZvduzjhUq3J12G\n",
       "q0XbQf84AP5jP88pZENHh0v0AAAAAElFTkSuQmCC\n",
       "\" style=\"display:inline;vertical-align:middle;\" /></a></span>"
      ],
      "text/plain": [
       "{A in BOOLEANS, B in BOOLEANS, C in BOOLEANS, A} |- A or B or C"
      ]
     },
     "execution_count": 33,
     "metadata": {},
     "output_type": "execute_result"
    }
   ],
   "source": [
    "Or(A,B,C).prove([A,inBool(A),inBool(B),inBool(C)])"
   ]
  },
  {
   "cell_type": "code",
   "execution_count": 34,
   "metadata": {},
   "outputs": [
    {
     "data": {
      "text/html": [
       "<span style=\"font-size:20px;\"><a class=\"ProveItLink\" href=\"__pv_it/b45e2663b0433ddfc0c05538f9c378802f6f31cf0/expr.ipynb\"><img src=\"data:image/png;base64,iVBORw0KGgoAAAANSUhEUgAAAH8AAAAVBAMAAACd/CwcAAAAMFBMVEX///+IiIi6urrc3NxERETM\n",
       "zMwQEBCqqqpUVFQiIiJ2dnYyMjLu7u5mZmaYmJgAAABN0h6tAAAAAXRSTlMAQObYZgAAAblJREFU\n",
       "OMtjYGDgu8dAHmC9eABE8exiIBcwpYJIvg+oxm5AU/Xif+8NFwU0wYMeNx5YMTDcBrG5JqBIcX9A\n",
       "tyeFgYH3K6oQYx4DQy0Qr8RiwOs/6D79B3TrXxQhHk+g53k/YzWAp/YzmgGMQAG+j6iuzAEFQAJW\n",
       "A/gYP6EZwAJUeGwOitD9ApDLLmA1QIf9H5oB/A0MrDMOIIsw/wS71YCBYRmIwYEc7DwKrB/RDIjv\n",
       "e+hZgCLCBVfyHkSUBTAw3JwJBLNAHmNghoYXL0ho5gIGBnkDBp4MFDFOeJxwA70RMhnGswDiiLs3\n",
       "viA7toGBwQ1Iyxcgi7GBI4oHRHQKMDCoBSAZAEww2WgG/AAZIIAsxglOKqUgFzSAwsABYQA7kJqG\n",
       "agAoGTD0KyCL8YJjegEsDOCxADTAHEjtRzUAlAxYUb3FDApELlDELEMxgJWBGcT0N2A4D4+YAAZu\n",
       "YDJQ82FAEat/wMB+B8RESwc8/r8PMJT8n8vAiUg3HPt/3G1xBzKQxBh4rnRcYsBiAALUMBAnBjEg\n",
       "AVNiAQNxYiuxlAdgJwowECUGKQ8YMEskPixqsYkxJYEpdorKRAA93nqTItTcWgAAAABJRU5ErkJg\n",
       "gg==\n",
       "\" style=\"display:inline;vertical-align:middle;\" /></a> <a class=\"ProveItLink\" href=\"__pv_it/7dbd2085ec61e9338b3f9194cc272300e0848ce60/proof.ipynb\" style=\"text-decoration: none\">&#x22A2;&nbsp;</a><a class=\"ProveItLink\" href=\"__pv_it/560fe1dd1943a68c3f3604743b07f25c791a514d0/expr.ipynb\"><img src=\"data:image/png;base64,iVBORw0KGgoAAAANSUhEUgAAAH0AAAAUBAMAAABSVS+EAAAAMFBMVEX///+6uroQEBCqqqqIiIgy\n",
       "MjJERETu7u6YmJjMzMxUVFTc3Nx2dnYiIiJmZmYAAAAutVgsAAAAAXRSTlMAQObYZgAAAd9JREFU\n",
       "OMuVlDtLA0EQgCfmksvrNH9AjY3aCLYiaCpLE2wsBBMtRBTxjI9OSClYmEawkaRRQTCxEUEUA1pL\n",
       "wFYhIigIGkVBTAhxdiaX7J02N3Cze9/O3MzO7B5AQ/xJsCmDprc1HrYtRp5c+W1/ygJX5l6S5+A7\n",
       "ltkEDzGhvDRNkW6JA5RSJqb0Agz1ghqV4xR5iOmofcLMEyaSxn11FmWmLqBNawXgWvLXOJnlkhi9\n",
       "GUF0IhEEW2GZuXpQOUIACcn/godkJGhspoPJNAbs02VW6hchMCVXsOk/StqhD1MbhvCZ54UywO6B\n",
       "zPxV8aZiWoFi03+W9BKkadcaBogT8ZY3Rm5BZoGvRs2i8HqPcodztgnCJX1TCYOPk1OwTomMzLQf\n",
       "w99Z4PEMny4Kln3LUVi1AKu85sY6KZ8ya/mmN2H+bvF34Co39RGueK0NYytfMtPIa8DiT/ljYbUQ\n",
       "oROo5yba7/uQmeg8QF6Ek/IX9fOjv4u/6d7h00PtT8dl5hfZBHSuHxjH9aZ+BtwVRkd8emAMw3Tr\n",
       "JoYtdj5TJvlm/9rxBtXGwblY5aZOMt6rZV9m+us2daY+HT7QxJX6c34bcvrPhbWy9b/3x5bI98c4\n",
       "rjbEdH+N/4cNcZu2bP//tQnwC4KifNWvH1K2AAAAAElFTkSuQmCC\n",
       "\" style=\"display:inline;vertical-align:middle;\" /></a></span>"
      ],
      "text/plain": [
       "{[not](A), [not](B), [not](C)} |- [not](A or B or C)"
      ]
     },
     "execution_count": 34,
     "metadata": {},
     "output_type": "execute_result"
    }
   ],
   "source": [
    "Not(Or(A,B,C)).prove([Not(A), Not(B), Not(C)])"
   ]
  },
  {
   "cell_type": "code",
   "execution_count": 35,
   "metadata": {},
   "outputs": [
    {
     "data": {
      "text/html": [
       "<span style=\"font-size:20px;\"><a class=\"ProveItLink\" href=\"__pv_it/51f44ea45f3038aa03eae5c2914746ced9714cfb0/expr.ipynb\"><img src=\"data:image/png;base64,iVBORw0KGgoAAAANSUhEUgAAAOUAAAAVBAMAAABLdTQ8AAAAMFBMVEX///+IiIi6urrc3NxERETM\n",
       "zMwQEBCqqqpUVFQiIiJ2dnYyMjLu7u5mZmaYmJgAAABN0h6tAAAAAXRSTlMAQObYZgAAAr9JREFU\n",
       "SMe9Vj9oE1EY/5preuZyOSuIazNlcugmusRBbQtCMnQIiDSIgqBoBnUyGERBh7QFQSxEmqkgCGZy\n",
       "ECFXLYqDGEUkoLHJJjhYTcWWauP73rv3NxmSJR/k3eN33+/9vvv+3AUAvK8wNAu/9/HiPoMhWugc\n",
       "rt5GEELFuP2tU6wfi+uYu784b5XNg071wYTV6XrzCMBn3DuLDItS7TSVZ8hZgNhvHTvQBPtT09Ss\n",
       "mgBnKjZyCSBPfo9Uze9/cb2NS4s9+C5JxT8NWyuRZX3SUPCqvlE1zlQSNEN8Ym1d08238ZLBpcQi\n",
       "I4D3U8Oe4uEJ86lem1EIprToRSxmVtf0Rn7Re4QeqlFklHi8KqlY7A/ip03N5oRRO8GUtp7D56/p\n",
       "mgftXbzYBB5lYe8tQPiBr2JJ6vrSbEX/hlFhwRRmbdNckkNWcLOH9qsbD7NkkGNnmd/cfGsmp2FP\n",
       "xnu1/wuYM3DJ5OaITP/A5RptyxBYrOj7AG6yuxOT4J7XsOW0PCW2hIZjE4dkTYckk2MR0cVR4jt7\n",
       "j24zjfom3bwBNxjUE6ibU7HLNF9K0qwCKVKxsXBUhySTY2N0KFxc7pKkJGjwpAsusMByTuC9hcxx\n",
       "FVumFU/rAiGAsYoOSSbHInT4r+JzFrCeGKRNfvfZ/UpEDhksxFWMzoQDugCJJpLVIIXJsRgdxDKv\n",
       "J+3bQ/Jtcrwlhyy8qWFJjP2xrmnl+CtMQCozwCzsIQerssI1LdRNsRHJBIMVJcEnToKK4TjlCfGd\n",
       "yGUaDuM8tsHdkRBnqm5knOwvuOXz6aZ2fLjSeSgaC1Ne3WrcmlKaDe3tdBFTFpHzvtZ5DnZquwZL\n",
       "orUEU3ED9+OdD6Bqamb53SNoYte7XewetB5ugWZ28K9guRty+nNjmt7GwJJuj/fRan9u7PsJg/9P\n",
       "8Hpgzf7cQmdYJYb9f+g/u4LgU2j4opEAAAAASUVORK5CYII=\n",
       "\" style=\"display:inline;vertical-align:middle;\" /></a> <a class=\"ProveItLink\" href=\"__pv_it/a4cd818f65fe2f119bc99ea05e54f55011bf69b00/proof.ipynb\" style=\"text-decoration: none\">&#x22A2;&nbsp;</a><a class=\"ProveItLink\" href=\"../__pv_it/83a1ddf0f64531c80e7f41ea6b904214668818b30/expr.ipynb\"><img src=\"data:image/png;base64,iVBORw0KGgoAAAANSUhEUgAAAA4AAAAOBAMAAADtZjDiAAAAG1BMVEX///9UVFQQEBAiIiJmZmaI\n",
       "iIiqqqrMzMwAAADC2JlRAAAAAXRSTlMAQObYZgAAABlJREFUCNdjYGBgKGOAgFRa0s7GxkrGxoYA\n",
       "QSUGlQeagkgAAAAASUVORK5CYII=\n",
       "\" style=\"display:inline;vertical-align:middle;\" /></a></span>"
      ],
      "text/plain": [
       "{A or B or C, [not](A), [not](B), [not](C)} |- FALSE"
      ]
     },
     "execution_count": 35,
     "metadata": {},
     "output_type": "execute_result"
    }
   ],
   "source": [
    "Or(A,B,C).deriveContradiction([Or(A,B,C), Not(A), Not(B), Not(C)])"
   ]
  },
  {
   "cell_type": "code",
   "execution_count": 36,
   "metadata": {},
   "outputs": [
    {
     "data": {
      "text/html": [
       "<strong id=\"groupCD\">groupCD:</strong> <span style=\"font-size:20px;\"><a class=\"ProveItLink\" href=\"__pv_it/2744943d5bbe8a73cb57c558be1830b06b28d6a70/expr.ipynb\"><img src=\"data:image/png;base64,iVBORw0KGgoAAAANSUhEUgAAARAAAAAVBAMAAAB8nqwhAAAAMFBMVEX///+IiIi6urrc3NxERETM\n",
       "zMwQEBCqqqpUVFQiIiJ2dnYyMjLu7u5mZmaYmJgAAABN0h6tAAAAAXRSTlMAQObYZgAAA1FJREFU\n",
       "SMfNVk1oE1EQniZd0ySbNELxJKSnQg/SXv3BBtSaitocPARE24OCB9Eg1JPFoLXYQ23Fi0ihuXls\n",
       "QBCxlmy1VEUKQaUGse1WPHhR+mt/rK0z83bTnW0PvaULO3n7vfnmzZs3M3kAEJ6EEj8X9pPUX0LJ\n",
       "n5oEivCM9XXeNftzo7twvNoFDscL5iG3XrwjXi+xqo0zha6/W7HGWYnpVd2T3gyEsjgO9FpgjoTG\n",
       "wwTLSwChRYmVXQNov2Z/qQnABcNLLi458WMb7Kzk7jPBM24qH2xHwjkDZQUHKcKq6wCefwLTm1An\n",
       "NI+je6QxzUSNdjkuuR7Cxlz2VlF8F9yRPhRT9dKRt1MUXi2Nwm/w7nHB8KzAgldpkVYUSdLoY2IZ\n",
       "Ra3OFNwAYcMue3Mo2gT3OU3UgnTEjHI+PMP3AAPluOBon8CmUmQ7Ty6h15680qMka8gIbnAGAuCV\n",
       "9oJriNxyckNLXDPSEY9x26TfdnyPMVKZBu2x4cS8K5xgFDkfGipXGVoZo4ikJTcGv9X+HFgvHOVB\n",
       "kdvAS79BHyjIFVmefQ0tfJJ+3HKMkZYH000pcGIBR86jjXNqxLxoRnDrhjrnAaS9ujzcldyBiGWM\n",
       "K/emSulqaOBIl0WgQtVstB70K+DE/IubjuwFuKNGUTLQUy24AwlQ+3NiQ52tktufsK0NoWuPVOp3\n",
       "T/Sw43ovfFCTjbRIyontWeMvnn0PurVUM4k/koutIKPK1IEZehoE9zq+vwZP0bE8tLoaeHAZZfgL\n",
       "PFXqy+RIxIn5ufe1MRRKBdS5wQLFdl1yETP0iMRWQLcYNrefA0XxekHOcCBwwq8CdxhU9lIbUREv\n",
       "YtxBIMOQN+uHzTYyGhNcbiMBQ2KrxWO1udwwcnaOcNV4U1xyXI0X1U6ojWgL4MS8DvtwYhqKbUQf\n",
       "FHqqjSRd2NxmgllcqnmN+i1XDTtykBgqz7UutVIQJ2tOg8Cwwn3fLGNJ1c7Y/9q81KMz9FzeioHk\n",
       "+nBjySfg6CMjG6/A17yStzOYTiy3PNFx0pHVnHmf73+0oWDe1it0fJJ674jbnxXYWG65qGVzYSz+\n",
       "1bwBrs5afI5s8z+9DeY1dqa3E65ypLX09xF2JDxTekf4PgK74YbGXcK3K+6s/wHq3A/nk7m/xQAA\n",
       "AABJRU5ErkJggg==\n",
       "\" style=\"display:inline;vertical-align:middle;\" /></a> <a class=\"ProveItLink\" href=\"__pv_it/1a603841b2dc9ed4faa1162a4a459b6ab264e47d0/proof.ipynb\" style=\"text-decoration: none\">&#x22A2;&nbsp;</a><a class=\"ProveItLink\" href=\"__pv_it/4925847fcc5ccd2de0737512fba7e419764ce4d20/expr.ipynb\"><img src=\"data:image/png;base64,iVBORw0KGgoAAAANSUhEUgAAAQ0AAAAUBAMAAABlknXcAAAAMFBMVEX///92dnYiIiIQEBBERERU\n",
       "VFS6urqIiIjc3NxmZmaqqqru7u6YmJgyMjLMzMwAAADiRdoGAAAAAXRSTlMAQObYZgAAA3FJREFU\n",
       "SMe9VktMU0EUPa1QSt9r6Y6oC+rCDSxgoW4kAcEm+Ik0CkYSFQIrVzSRxLhqdauGGqwBNbErIzHB\n",
       "BoiIiUk3iu6auJEY0i5kYaIRkJ98vXOnj/a+GCDRMMm7nTlzz5mZOzN3Cuy2uFPbdj/Hfyg/bO13\n",
       "m23xkx0SG1VmLBhP3bL7BluCURRHbRolzfMDrdVpgfVsnoo3Lkk/o6ftiduv6xllfFzNsj0ClG5I\n",
       "7LPSrgUGay1Ed2IdMFdgpO0aZYSY9RIjX5yV/OspuPp0rM1Mkmyx6jTD7LEGuH4LzIzR1BvIr3SZ\n",
       "WleV1wSTfWp9fUA5pAa66ceISd1ZMu8Ff7SKzFMdzDf86wuRcSY5pjSWuSQwJ7l4j1PFVUNmWnlV\n",
       "6firuHWnMAKpgQoa3whL3UUyQ4L/SXV06simIh1W5K8xUERjjVQJ7LaadkINRUuEl2blimnfGTK9\n",
       "fnhtGmqz/YgKzLsKN14U8ktXFP6Ne13Jl7w/g/Q16a0NwXc4KbCbdGPm+FwpaQ9pFOlgltWreITg\n",
       "iEkNzMPU216gG8BdrmzxewOq+ZrBV/jJu+ekxdYz8vPyREMCAqPT5Sg46UT/qmvMjfhhpqWGaz1e\n",
       "F5Ua6I7hkuRXhPOaHejltZSEUawvayQK4ygEVkl6G3nODeCirkXUMWzvgCcgNRwb8EJqoGLyQo3k\n",
       "V2e3JH1tA+08XSOAtxpqVPoJgR0D9q0yws3h3EUFmpX5RTIzUsM7A4e+mnkskzRCEPw6+j5OneAA\n",
       "0gha8xEOaK8FNY+wwGgeTh5piJulCUfCOgZ0t9aseeQ16NwYGJPYHIwcy+JXc5g4WtR26mjdQwBW\n",
       "+lChLsQqc5kDOvW5007k08cIxdMVEP6cPnBQYK7Z/CuR43PG4DTqTnAM+Qp+1zFQ6cM3D4HROXWr\n",
       "IR06OeDcBLbShzGlYpIW/pw+fCGBORbzByzHpwsP37qVGIqW9drO60G8FJ6uMxDYfvroense53Sm\n",
       "q7aOATo5E/iFP0e8KyswvbGC76G1TR9SeXXzCzzNczonTbItziwMtJy2CBrjlGc8aH1owd6Y5Rtv\n",
       "6WcgW+hvXKGnsmFdaIxnFvph42M8eD/1zP7u3vnLW5zDnLb31J20+Q3vrLEtf5fFjO3gUI69KU3b\n",
       "dxvpPZrH6PbdRdE9mscO/ws//Jv6H1hGDoClC6WpAAAAAElFTkSuQmCC\n",
       "\" style=\"display:inline;vertical-align:middle;\" /></a></span><br>"
      ],
      "text/plain": [
       "groupCD: {A or B or C or D or E or F or G} |- A or B or (C or D) or E or F or G"
      ]
     },
     "execution_count": 36,
     "metadata": {},
     "output_type": "execute_result"
    }
   ],
   "source": [
    "groupCD = Or(A,B,C,D,E,F,G).associate(2,length=2,assumptions=[Or(A,B,Or(C,D),E,F,G),Or(A,B,C,D,E,F,G),inBool(A), inBool(B),inBool(C),inBool(D),inBool(E),inBool(F),inBool(G)])"
   ]
  },
  {
   "cell_type": "code",
   "execution_count": 37,
   "metadata": {},
   "outputs": [
    {
     "data": {
      "text/html": [
       "<span style=\"font-size:20px;\"><a class=\"ProveItLink\" href=\"__pv_it/cafafd740e82c701cfa3cbd809f3a419b2a46f0e0/expr.ipynb\"><img src=\"data:image/png;base64,iVBORw0KGgoAAAANSUhEUgAAASAAAAAVBAMAAAAUbS4ZAAAAMFBMVEX///+IiIi6urrc3NxERETM\n",
       "zMwQEBCqqqpUVFQiIiJ2dnYyMjLu7u5mZmaYmJgAAABN0h6tAAAAAXRSTlMAQObYZgAAA9RJREFU\n",
       "SMfNVk1oU1sQ/rxpTJPcXCOIK6VdCS6k2T4VW/CvFbVduCiIWuQtXIgGRVeKQasoUo24UKTQuHKj\n",
       "NCA8Hv6QqKUiIoSnaHhYTXXjRojaamvVOjPn3iRzkdaSjYE7Ofc7M9+ZM2dm7gHgvMIf8tuxhKV9\n",
       "aw4mgdKM0wfr9GhZFwmn7L5t982+m+4rrmvW2BCLe+3F0kq/bntvewKNCR/HvM6xkdMDWYUtmt5S\n",
       "3PBB69mL+l4FMoixZiTtgjkWQRl2ifwbiI1r7CYvsg84us9DzCSmaGdfYGf9HAsIcdo0RrrYqu0X\n",
       "l2A9LxlfPIecXJ5kowQtLqo/AOu7wpwCbaaD9GKf6O0ka42KcZB3/By4Cs2BFvqzC5r3K4k3yn6o\n",
       "n8TrhHbo4WuOdzBFIpyXcNOizgeFhUklupcGVg+JbtbqN0fDkWwpYRiaA4PkiB3XvB9JHFL2//DE\n",
       "cmiHSk3N3qGsEKCBFh3uV9hfvJEkr0mbRpTcswpGlxOxNYOoj4PzIIOEwqLfEMCRWvvYF6kx7ZCV\n",
       "PyYVdJSeteb4UwhezitsKdXZpCQhrxEisgaTxgvaOEIpRAqaA2NwTGHW8KaxRgYV+1Zx4QH5woFv\n",
       "NDVwH7vkhMO0/TZBdp0b7UhCYZSKkZr6IJ5tZiS2TRk4Wc1hTRX3JzQHWgo4oe0H4y6hVPxhk/rN\n",
       "aJXdzYuj0dR6UwL2HijsEhGPVx1aCBw3oyYmOd+MUFpzRMYRhebA4N1TPdp+oMtjvEsuXjRl0jdy\n",
       "XjZgp/HYTG7ghZIK2w3M/yaIvD5y6xzoZPGZaMqaI1pGxFR2Fcvl7RSU/X563t/exMd1we2OsGgp\n",
       "Q/4C14z6BDsUVxg5FJYlD8lrLBlJeqlC8f7hOVTloNyycU9jk7BdK89+QALH8fuXnZLA0ETYBHIV\n",
       "TJZzG+JTqMUuuR2IKkc+JNkwqm1omIistNKXNoTrCrO+Vj9Err00nJyXQ1JlgaSEVyp4p4kKt6Hg\n",
       "GBRGSR3gtSOmyWD9KCptyL7NjFmlL20omFJY5GM1CV176hcIcv+WKhOHuME0fDK7PWNWi9Lkss1Q\n",
       "2A16qDuEXrqE3f2VVMFy6SgZpS+HYXKigoXLVYdc+xBtsvsKavrQ0PQdhDonC16m80nmJkZ6N9Zk\n",
       "P0wzhf3s9H8eHC14usXepwJ01erbZ+n73DGlOJ7kJp7CZ48n7f+XDsDXqSu/1b+4F7hY2Pc1D+R9\n",
       "eo9m55jJ3jjU8/v3Facwi8LV+u5D4pBTnoPF2pmn7Wx9Dsl9CHO5MQ7NPN2QqPPGKF0mNIc79SxX\n",
       "2Lf136l/AhxzIjcB9w/DAAAAAElFTkSuQmCC\n",
       "\" style=\"display:inline;vertical-align:middle;\" /></a> <a class=\"ProveItLink\" href=\"__pv_it/2ccdb7ded43782f145ff80b76ef31c569aa9c1280/proof.ipynb\" style=\"text-decoration: none\">&#x22A2;&nbsp;</a><a class=\"ProveItLink\" href=\"__pv_it/32c7cf30c48666bf066100473f64823ec85a34b00/expr.ipynb\"><img src=\"data:image/png;base64,iVBORw0KGgoAAAANSUhEUgAAAP0AAAAPBAMAAADdQdTdAAAAMFBMVEX///92dnYiIiIQEBBERERU\n",
       "VFS6urqIiIjc3NxmZmaqqqru7u6YmJgyMjLMzMwAAADiRdoGAAAAAXRSTlMAQObYZgAAAvBJREFU\n",
       "OMuNlU1oE1EQxyexSbbZZJuzl8SDpx7Sg54sGlsDfmFDW8WC2FBPnhqw4DHVq0ojNWJVaE5CEXSx\n",
       "ao0g5KAWwUPAi0FKejAHQWkbm7ba2jozL5vsbHrowk7e/t785703780LAD2/QD4fdoayJ5IOOBfP\n",
       "Fm44/eKD8XHJxnZOZfv/tbLedcn0saHHWki1y2QMbi6yPQTQvi2Zrxtgptv6Uh2A4wT+OrQ09vtd\n",
       "2FmpvVYA72SBm4GyidZDnYEUe2wBeP8IpvegT/sGti6TxzwLDVrTpNR6ieUd8VbQfBTal51oplXu\n",
       "3vKvkUDjNnmtOE5gXbDgEYrdhaZCHp0s9FGORgtC6yI254i3huaZ0H6hjhGVxUKa9/orvlcZtOE4\n",
       "s52CTecoZIZmgpP1ZpTfMpqJkNAGl8EFmowX3ETy1K5tp12DH9zrNZ/zPszge5JJRwKMg6adaVU+\n",
       "M5QnP+rbVOI6YrT+hNTG4LNalo1F4DY3GtqJCH2+YfgalniX3LjAGJOlS/M9ObAzl+30ovS7arEu\n",
       "HRLa0dLABoCMN5qBi1IbTjXjJWGC0+lLgUcVXXoc9MNgZ+7tpv91gAuqlaYjNpwU2vAiFAFkvHBp\n",
       "oEtqo4uNcMbQ1DBPU4/AO4V6KXbOzvZt8hf3vgC9PkIfmd9Si7UcUnVmY6aeAKE9hu+nheO8/Rhd\n",
       "xXsI+5VXjcZP2ZmbThofYTw7OZfaHFilCtuSWmSmnpKsCnpdYWmjnBbODn67VXbuQASs8ldpbTCu\n",
       "fFDXlVZ0Q7P8Z2NCy+XvMiVbaSTb0nLF87Wn5bhmuJx+qnlT+RurYGeaLSycm4dG+esLwk+Vf8XB\n",
       "1pqHp66lojX4lr5JjurEGv1qgCCm48oZEAxL1P+oHqOibh+e9khG+tFGeY+2MpBaP66ncoDuwZ1v\n",
       "4O+rqigltp5ybWrwtCUo1f8u7p2/b6FgxvLLDj6Qfq9IGy0Kli/XGl6WFvLxu4Unjn84uAWtzy5M\n",
       "M/fmtwftfzDO/p6i7ARtAAAAAElFTkSuQmCC\n",
       "\" style=\"display:inline;vertical-align:middle;\" /></a></span>"
      ],
      "text/plain": [
       "{A or B or (C or D) or E or F or G} |- A or B or C or D or E or F or G"
      ]
     },
     "execution_count": 37,
     "metadata": {},
     "output_type": "execute_result"
    }
   ],
   "source": [
    "groupCD.disassociate(2, assumptions=[groupCD.expr])"
   ]
  },
  {
   "cell_type": "code",
   "execution_count": 38,
   "metadata": {},
   "outputs": [
    {
     "data": {
      "text/html": [
       "<span style=\"font-size:20px;\"><a class=\"ProveItLink\" href=\"__pv_it/5080cddc0254a6cbff6d6f28480917a3bb7ce38d0/expr.ipynb\"><img src=\"data:image/png;base64,iVBORw0KGgoAAAANSUhEUgAAAU8AAAAVBAMAAAA0gXHkAAAAMFBMVEX///+IiIi6urrc3NxERETM\n",
       "zMwQEBCqqqpUVFQiIiJ2dnYyMjLu7u5mZmaYmJgAAABN0h6tAAAAAXRSTlMAQObYZgAAA2NJREFU\n",
       "SMfVV09IVEEY/9w/7u7b57YHC4JATwuGpIcunXYLKQXDDSSkCJcwSDq0p7oULbUFHlaDqFwSXCIE\n",
       "o3JPHtLwWYsJISmBLIS1gYfw4B80MyS3+Wbe2/dG35uHeLE5jPO9/c3v933zzXwzAkDgG+zv5p5R\n",
       "8I/8FvZ7c1zBPrCsmhf5X8ueNGx23tWsn8VUvqGaAxzuaBnuLX2SK1PdzoyIoDHZWC9QqCyezXdt\n",
       "mit8RUt6qH4e2xaH3x3MTRU0qwOg4hcPyJ6Tm0vb5lABPLMFAQHxIfAbxACYN1cYNDoaGFN4lMtR\n",
       "KItGtH2yRTLwlwdEjsFBlzrO9ZHue72AYIV0swIFBwKmzBU4Rz9qMvPpdFal8cQ1mrJVEsoKi6gp\n",
       "/Uyjuak5OoxRhkQEmI66gjVAQsC4uQLnaKGK7bfWI3q8Uq1G44oBTPTRpTmp6PE+z7FhBU3qJREB\n",
       "HoVwxhrgXwYJnOYKRkcdyh0arjxqSExNW1Q1DiTA3Uvnf1L0xDge32fDMCX5ICJAh+oSQsAiG+1U\n",
       "GEDDS7MA76E9SM16naazeFkz2rt/NMXp6J6+g0L96+qpHwqWvloRIKIqYw2oe/dgFSwUltC4wUKq\n",
       "hvA0nWzc6tKiVnCq6kG+yiYbt/qbBTbsj+rTLAgQ0VNtDRiKQhYsFPzEtdZH7FCm5noo4PwIadpW\n",
       "RyRrp1ELl9R9DQEaDWKwXafZUgQELditCwCkOmYgaqHQRfIRoovhACink48b44WIVzU20FHMnpOL\n",
       "1wUJtqLYeaICgjU8zVtigCJbKPhRxUu/k8XyxXBQztEk/HoZZYmDmJHGq6aLljYJBARY2iYi1gBa\n",
       "RiXFXGGpdOqdcVofsNAEuXgX9DLqXqPDGS7eANtiYZz1CgQEpErKIwIALaNtFgoDJUdP4DR26J7q\n",
       "F1xGep2Az7hmfhJlqJl+9sVLF9wFeJkHGa8+D1nx22pVMScgq1AzLQD4lrXHxw4FQx3NFUfB0/KH\n",
       "Ek2eUrgng4+Uee/YxlzyjPr6SNbyT4Y04qcaU9r7xIIgn/wiAEyiQn/WXIG/mUrtaFM6a7RvbX90\n",
       "vVAvOLV5lF0S7FpBdTRm8xrM2PwuwR4J7AGD3HvUoslBG5Zx2COBLYC9R8HmhR+wYynAHglsAQ52\n",
       "z3r+i/+Z/gF+LmZvPbB9NQAAAABJRU5ErkJggg==\n",
       "\" style=\"display:inline;vertical-align:middle;\" /></a> <a class=\"ProveItLink\" href=\"__pv_it/973f22ad463ac5afb1dfe985e33d8677953127430/proof.ipynb\" style=\"text-decoration: none\">&#x22A2;&nbsp;</a><a class=\"ProveItLink\" href=\"__pv_it/dbd1b757c8f41146732e976d9571b9181797bbc80/expr.ipynb\"><img src=\"data:image/png;base64,iVBORw0KGgoAAAANSUhEUgAAAZYAAAAUBAMAAABc2QbCAAAAMFBMVEX///9UVFTMzMx2dna6uroQ\n",
       "EBCqqqqIiIgiIiJmZmYyMjJERETu7u6YmJjc3NwAAAC+aOQFAAAAAXRSTlMAQObYZgAABKVJREFU\n",
       "SMe9V11oHFUUPrs72d+ZaSIKXbVm8+YPkjwpitB9CSgIieKDGEsXnwxCuy8ikofEB4VCMLv4A0Eh\n",
       "q9iHiJhUVFKi7gjGtgnI+lQaqV0QRERJ05ZumzVdzzk3M/ee2Y36Ml6YOzPfnPudc+4599w7AG4D\n",
       "ImrHemB/RqUs2cRuQz3fH/r2YydfXS2GwDOnqo1fBOIMtgdW7wmJTXVOVw/uQKzZpdFe5lu8Fsan\n",
       "8ofckX9ldga35+/6XGKpent+YK4GJPqpgpZYBz8WuJ8AyFyRWOoIwOQR/019OIBmXSqFxu7g9RPY\n",
       "tS5fssq97GWQLC83IPlOQ5IEzIZcH87FQqHbAmcZ1rGvKI+XPOxjJOKUWW4XwLopMHsFZTK38Ok2\n",
       "kjjPA4fxS2ZcjrVa2J0DeLjLlwvqtvkXCJaNWewWmoJEM5va0N+xisTGUM6uQKIMaTVT3xMTxPux\n",
       "S3scA7TZaQks+zzZSexDJDHLA6dRu7UrxyYonmcA1rp8eVNl1CRNiMFykoaNShLNbGpDKy+VJXYY\n",
       "5ewy2OPwm1LSmOa1QQn3BAM5tHltVmALnEqVvVSxVEDreLlX5VhMoQS4eA+vN3dGJUHqGpgsmev0\n",
       "ep8k0cyGti/Q7Gc9ieHqGAF8/Qhe5XfLO87lbBKvb1QW9kP8Nc/E3Bs8pxS/JLLkVEDbNHo7NHYZ\n",
       "LnJ8KiFfUgp4MrkLJssWu/iDJNHMhjZ8vfduCFvgsO2PwNf8/h1nJ4YXJ16VmuFD51dKYGKJljYK\n",
       "lT+gKhKBqaty7NjiHZxEDi/+Rz+mtsjBZqV2Md4SLIfLAbEmMZi1tu2LU2+ELLB2qkfZqU1Qn4qw\n",
       "xVOWKkOs6Gem/RSYWPqK9uUVgNvVRwJj1+RYzGD2IjkTikuaZ8cC96ZgmSvoyAUkBrPWhlO01i8t\n",
       "wMWZ5YcX4Rn2Nz8/yLNhz1Bt28tMmC6ZWB8XH5u/nvULbo6q64FxOZYzGO2LXw750sdmDs1X24Ll\n",
       "KOeyJ0kMZq0NX1PXpQW8OKk6DytfLFSjvrwLD4GfmTBdNrE0W/YCQ5lSouQvDawsDTkWLfWwsuzn\n",
       "C3bPCZY5DmJBkhjMWhvGJNXqssCmoom+cI4hmuYZgN9B5QVtLzBYNDHeWUBtzm4tDcEmYE+AGMvb\n",
       "SwKn2ZrR6+WDIMeSeL0uWHg/SEgSk1lra/hppzHaXuAxvB7nte+W/K0Ycg+Wg8yMt8HEXN9Eap+p\n",
       "fYo3gfWakFPby1Cw9o3Ga/9X/5QRsGz55hgkgjnQhk4PL0uMthfeljaxkgHvMblbKh4HlbFZDNPo\n",
       "VyAwLNvJ9/esGpoNloZ1AqQcJaP1NEVyJOQLFWneY+pNk4VK9KQnSQSzr+0kYhOexChBRyk/38LI\n",
       "wEbnE0jWb6jaz7UTYkt4iPvSN2Fx7wD43sDbwcFKSd/ZyQ+cbkq5b2nsHM1othDyBZPOru948FLn\n",
       "hMkC507liyFlgllrq66WBGYTtkLnP/jQP8ME7Y8e5+kemOv9B7mz+5xh/pGllwG95MIYVkCnApG1\n",
       "fc+WUTQ8W/onhghajzN/rhmZtnX9LxZBy+37LxZF4yNjZP/IP/+f/8hOE/4Gu3aNO4D4rywAAAAA\n",
       "SUVORK5CYII=\n",
       "\" style=\"display:inline;vertical-align:middle;\" /></a></span>"
      ],
      "text/plain": [
       "{A in BOOLEANS, B in BOOLEANS, C in BOOLEANS, D in BOOLEANS, E in BOOLEANS} |- (A or B or C or D or E) = (A or C or D or B or E)"
      ]
     },
     "execution_count": 38,
     "metadata": {},
     "output_type": "execute_result"
    }
   ],
   "source": [
    "Or(A,B,C,D,E).commutation(1,3, inBool(A,B,C,D,E))"
   ]
  },
  {
   "cell_type": "code",
   "execution_count": 39,
   "metadata": {},
   "outputs": [
    {
     "data": {
      "text/html": [
       "<span style=\"font-size:20px;\"><a class=\"ProveItLink\" href=\"__pv_it/5080cddc0254a6cbff6d6f28480917a3bb7ce38d0/expr.ipynb\"><img src=\"data:image/png;base64,iVBORw0KGgoAAAANSUhEUgAAAU8AAAAVBAMAAAA0gXHkAAAAMFBMVEX///+IiIi6urrc3NxERETM\n",
       "zMwQEBCqqqpUVFQiIiJ2dnYyMjLu7u5mZmaYmJgAAABN0h6tAAAAAXRSTlMAQObYZgAAA2NJREFU\n",
       "SMfVV09IVEEY/9w/7u7b57YHC4JATwuGpIcunXYLKQXDDSSkCJcwSDq0p7oULbUFHlaDqFwSXCIE\n",
       "o3JPHtLwWYsJISmBLIS1gYfw4B80MyS3+Wbe2/dG35uHeLE5jPO9/c3v933zzXwzAkDgG+zv5p5R\n",
       "8I/8FvZ7c1zBPrCsmhf5X8ueNGx23tWsn8VUvqGaAxzuaBnuLX2SK1PdzoyIoDHZWC9QqCyezXdt\n",
       "mit8RUt6qH4e2xaH3x3MTRU0qwOg4hcPyJ6Tm0vb5lABPLMFAQHxIfAbxACYN1cYNDoaGFN4lMtR\n",
       "KItGtH2yRTLwlwdEjsFBlzrO9ZHue72AYIV0swIFBwKmzBU4Rz9qMvPpdFal8cQ1mrJVEsoKi6gp\n",
       "/Uyjuak5OoxRhkQEmI66gjVAQsC4uQLnaKGK7bfWI3q8Uq1G44oBTPTRpTmp6PE+z7FhBU3qJREB\n",
       "HoVwxhrgXwYJnOYKRkcdyh0arjxqSExNW1Q1DiTA3Uvnf1L0xDge32fDMCX5ICJAh+oSQsAiG+1U\n",
       "GEDDS7MA76E9SM16naazeFkz2rt/NMXp6J6+g0L96+qpHwqWvloRIKIqYw2oe/dgFSwUltC4wUKq\n",
       "hvA0nWzc6tKiVnCq6kG+yiYbt/qbBTbsj+rTLAgQ0VNtDRiKQhYsFPzEtdZH7FCm5noo4PwIadpW\n",
       "RyRrp1ELl9R9DQEaDWKwXafZUgQELditCwCkOmYgaqHQRfIRoovhACink48b44WIVzU20FHMnpOL\n",
       "1wUJtqLYeaICgjU8zVtigCJbKPhRxUu/k8XyxXBQztEk/HoZZYmDmJHGq6aLljYJBARY2iYi1gBa\n",
       "RiXFXGGpdOqdcVofsNAEuXgX9DLqXqPDGS7eANtiYZz1CgQEpErKIwIALaNtFgoDJUdP4DR26J7q\n",
       "F1xGep2Az7hmfhJlqJl+9sVLF9wFeJkHGa8+D1nx22pVMScgq1AzLQD4lrXHxw4FQx3NFUfB0/KH\n",
       "Ek2eUrgng4+Uee/YxlzyjPr6SNbyT4Y04qcaU9r7xIIgn/wiAEyiQn/WXIG/mUrtaFM6a7RvbX90\n",
       "vVAvOLV5lF0S7FpBdTRm8xrM2PwuwR4J7AGD3HvUoslBG5Zx2COBLYC9R8HmhR+wYynAHglsAQ52\n",
       "z3r+i/+Z/gF+LmZvPbB9NQAAAABJRU5ErkJggg==\n",
       "\" style=\"display:inline;vertical-align:middle;\" /></a> <a class=\"ProveItLink\" href=\"__pv_it/9988fe121d28e3d8f7dc9672373d25acc51b4c410/proof.ipynb\" style=\"text-decoration: none\">&#x22A2;&nbsp;</a><a class=\"ProveItLink\" href=\"__pv_it/937f57f39e7579cc39c419c783f0c11f6001cdc20/expr.ipynb\"><img src=\"data:image/png;base64,iVBORw0KGgoAAAANSUhEUgAAAZYAAAAUBAMAAABc2QbCAAAAMFBMVEX///9UVFTMzMx2dna6uroQ\n",
       "EBCqqqqIiIgiIiJmZmYyMjJERETu7u6YmJjc3NwAAAC+aOQFAAAAAXRSTlMAQObYZgAABJRJREFU\n",
       "SMe9V01oXFUUPjPzMr/vvSai0DHWTHZVKclKsQidTaCuEsWFEEsHV2ZTZyMiWUy6KQjBzKAVQsVE\n",
       "sYsUMRNRSYmaJxjbJiDTVWmlzQM3pShJWpvUxCSec+7Me++8uUo3rxfmzpvvne/e79xzzr13AOwG\n",
       "RNROabA/o5os6WK3op6fDb27up+vLRRD4KW5WuN3gVg9O10LT4fMRvcv1g5uQ8xtm9GsA6QWdya7\n",
       "JqbDr8ICrJ6Nye5vwvzR/CG7PyR0rnsOZyIRXylolro4Pxa4HwbI3JVY6gTAyInWL/XiAIpaLYW4\n",
       "2/j5Dcw2vZB1mxSrLhkaAR1oMlWQ2DsNSJ5ttE1mbQIs41dVrcKsg32M3lplHnUXwPhbYOY82mT2\n",
       "8OkxsrjGxD58kxmSXGMLuysAL7T5cp26QTQyq4KhEQB9qHlQmq2MYzflSqE02VmARBnSKhF+IQuI\n",
       "d2KXdjgGqNnaElj2DdJJunvJYpyJFRzV2JXcBMXzEsBSmy8fUHcMKWZZMDQCoILAqjQ7T/1ASChN\n",
       "NtgAcwhuq6EaFa4NSriXGcih5qVxgU1xKlWbqWKogC7ix74nudl1SICN3+F6s8ea2dQPrmBoBMC3\n",
       "6PHrThDLbFL/TEjoOnZrWENfwHsMGM7bvJ2N4OdHVQedED/tBDH7AVcfiUiiHzkV0B1ib4S4dbjJ\n",
       "8amGfElVFcVSe6fP0AgAHPTwUwJb46X4tW0yjAvG6UX4gYGfOe8xbLjwdZWth67NlyCIJbZ8UTjo\n",
       "c+Bla+qe5A7OPLHHNcDFf/QCtRleQ9JrbNdOuiAZGgHxjZujZ6TZsbInICCUwArG5QYo8yKs8ZKl\n",
       "yhArtrLVfAWCWPqu78u7AI+Dl62xvyQXC4K9SI6F4pIuqWrKAkiGRgAV7FKnwCYKfoR9oQT24PNb\n",
       "8BqvQX6yh700x2hva2YrVEpBrOMf/sVvL7c2XM7WA0OSywVBu+l6yJeOYqua4pKhEUAFm9oU2EnO\n",
       "eUfaUcHCfQqQ8sXAaZS2j+F5L1uhUg5iaVb2JkOZUqLkZ+tqQ3KxhhzeqLS+IMWkXS7I0AjAgoXU\n",
       "lsAmONiFtsnA2mVfOMdQV5rXFu6Aygs6XjhyPsYnC6hD155Og5et5jAILh8vCVw+Y8yvl8+8HKPj\n",
       "BV4SDI0APl5U8noYb9sJORkX7BKt6HGufbvEkefIHil72RrfgSBmtyRS+1qdlJyty9PCTh0vvV7t\n",
       "BxrXPh0vfD74DI0APl766gJb81fBF4qTmRfo6QbuZMBnTG5PuXlQic3iKg18DwLDXTP5SVNV77hX\n",
       "Gsb7IO0oGY1XKZL9IV94k6ZMGSgIhkYAnMdBhh2BJTFZRhw5GS3Bcd42PsTIwMr+l5BcfKAOA947\n",
       "ITaLF7vvWhJmmhe7c10feRcrZf3kfr7roivtfiIu3x2zhZAvmHQmUmrz24KhEUAj1xZKUgBcmcsX\n",
       "5WQotNb9KT9+3rrDeO0PzX1ag9nOQ9hd1t9h/n/khxTQhuHOZlUhsvYfd8toGt4tWzeGCJrmzp9z\n",
       "I5tt2f8vFkHL6f+LRdT4yhjZf+Rbj/I/suXCv9JBjwx8/X5bAAAAAElFTkSuQmCC\n",
       "\" style=\"display:inline;vertical-align:middle;\" /></a></span>"
      ],
      "text/plain": [
       "{A in BOOLEANS, B in BOOLEANS, C in BOOLEANS, D in BOOLEANS, E in BOOLEANS} |- (A or B or C or D or E) = (E or A or B or C or D)"
      ]
     },
     "execution_count": 39,
     "metadata": {},
     "output_type": "execute_result"
    }
   ],
   "source": [
    "Or(A,B,C,D,E).commutation(-1,0, inBool(A,B,C,D,E))"
   ]
  },
  {
   "cell_type": "code",
   "execution_count": 40,
   "metadata": {},
   "outputs": [
    {
     "data": {
      "text/html": [
       "<span style=\"font-size:20px;\"><a class=\"ProveItLink\" href=\"__pv_it/feaa129763855064309a6e5c1f083db736bf435d0/expr.ipynb\"><img src=\"data:image/png;base64,iVBORw0KGgoAAAANSUhEUgAAAV0AAAAVBAMAAAAX2iAxAAAAMFBMVEX///+IiIi6urrc3NxERETM\n",
       "zMwQEBCqqqpUVFQiIiJ2dnYyMjLu7u5mZmaYmJgAAABN0h6tAAAAAXRSTlMAQObYZgAAA9VJREFU\n",
       "SMfVV01oE0EU/po0Nj/bbQTxmpyEHqS5+oOtqLUVNT14KIi2iIIHsUGoJ4tRq7RKTcGLSKE5KYJQ\n",
       "QfCglsQfFBEhatGgpqaevIjVtto2tfHNzGZ332YPXrOwb2e/ed+bNzPvvZ0FoE+jJi7fm6x4aA9Q\n",
       "I5fnmJD6rPF60NH9rTyS3xl1gI878sXNTr2OwY4Yx+ri84Wh8bsMW1fel2//yfW0dSPT3jSD9NR8\n",
       "Tk+VPnN7qdI74JNoBkcNLCMXXTa7pDwKNC5wrO4kMHCy8qY6UKJB/ji4TeSr3sYx0sN+zl1fhOd9\n",
       "sZraNOpiD7ft/uoZER5+0a2HpcVV2oK/DNM6SadxjloXhcaMiiuxZu85Fy300HLc3jKJr4z7bIzE\n",
       "l1g1tSfntJd2+vtC8OBLkgjIwK4jv/SfDAudEGHUS6JbaIypvRJ70FJkXEzQWFqY2/tFop9x74uO\n",
       "ZlRTIwknGHX6W4zIWL1H90YJ1JNfz8cY9kWaEXMP0eQ8OaUnEqA1zbgiuNKIMSy0Ai/O2LmNIopw\n",
       "CFVUxLMuIPPXkz1bFM8BuneokEnCdz1rx7xLMkeEGw00Xr1KsqY2sb5JxsU8dGnObm8U22TD5LbK\n",
       "oZ/CSQWW4ALiphB+lcVP0CMjJUAL2CaRnqsznQnYsaAtu2moA6oleZE043pK+b4YuL2WHC5w7kTY\n",
       "NGenFgpTy05QjvxDiNMqAaNoldtbF4ZfFbFIDNpx2LHAguXvWuC8akWEgVSUcYMLCAHc3sTkpV7O\n",
       "He+yCpadqkLdCVIgkYcHrqkkHymk5FS0UbxSJtphxL2JrVmRb7L3JTSjvMaF+M25oVkEVT2ysExW\n",
       "S4Jx++j+/nBPFRX1K6gG6RqmDdkgJ+khb9T4H3BL6SwKf8N2LCBZ/RJqTAQTVmjpq5xLMa3hMceW\n",
       "oBmMCnfczHxOVdXWCZLXYr5+2SR+QO3WFqgEFOVXbbOJycoL9Tny3g3AKr/P2xhX1lDcYZhn2dz8\n",
       "CldW0AyqqT1pF9CIX1kfvAlzzesPqzUV5dc3DzvmFa4FVUHErhmY5Vd7yPRUDfUlGRb8ZQW/wRVF\n",
       "0FdyoUaiLqBRH6S/m0TnnFqvYeVQiJZ7w14wjEpeQ+XD3j1mhVZzjuvJnVaBZmKBWctfg9tA8+++\n",
       "4UKNZ11AW/19Vn6EhviSGnVSSn9msTC4uzLApHE8mRp6W4FCuYpefvAd19Ou0FGps8Sw15lFU6vC\n",
       "xeuOj8VTnPqpfA5T5e1Oe5ed3wvr2upylHPBvNn/0/tfrhvVASp/e2vl/Kv81Wdrxl95/kXt/F8c\n",
       "UVlaS/9v/wA/GVC0TL7nSwAAAABJRU5ErkJggg==\n",
       "\" style=\"display:inline;vertical-align:middle;\" /></a> <a class=\"ProveItLink\" href=\"__pv_it/a2328aca6276b7cabc3f134bbffd607e3c5241fe0/proof.ipynb\" style=\"text-decoration: none\">&#x22A2;&nbsp;</a><a class=\"ProveItLink\" href=\"__pv_it/aef0456e8c1b000d48bff7c397b93606b98242e80/expr.ipynb\"><img src=\"data:image/png;base64,iVBORw0KGgoAAAANSUhEUgAAAUoAAAAPBAMAAABw5ZtdAAAAMFBMVEX///92dnYiIiIQEBBERERU\n",
       "VFS6urqIiIjc3NxmZmaqqqru7u6YmJgyMjLMzMwAAADiRdoGAAAAAXRSTlMAQObYZgAAA3xJREFU\n",
       "SMeNlk1IVFEUx/8zzfeXrttoixbhYoRslaSZUhakmVYD2Qy1aqWQ0HKmthEaaTR94KwCN/UozRSE\n",
       "WRQSBA60SSJ0kYug8AO/Ssfp3Hvf13m+hQ/efe/93v+ce+6Zc88bQBx/wI9PldRIa8YBJ9tGivc4\n",
       "Gqi0j3SVGQp2rOe7m/oZi6XXe1qvOdxFB1IvQtVO3VAsXX7OHabLT9XdghgS8nZRjg1AeI+zYCMw\n",
       "1mg8qRcQEX7krKoE+IrcnWBzBa67U0TgsYuuqhb7oVzDgkajX8CYzEJiFwj8ZSzaQprwNt3dEIpZ\n",
       "aRjYomGKs2XKTyzD3GGZLuF6phuvo2E0x3V9dFkeggPqCZ8WaiQ6afBqMm8UTWyLsfhJEZWYaUko\n",
       "6qShR+R7krMsRRhZZO6QpefALtN9FW9u8mlRQ7pswQn10itm5c03Om9L4KNo3tUxNiqNxTrjtKTA\n",
       "kNTFV+BBiDP6XXIRjblDB52hVbsu/E/wX3xaWXkdmgsUGdLeFMV1jM5zqhQ6kTiq2VloTVa8yHmE\n",
       "ZvHllK4ZX+SNja0hJL3Z3GFdzLJh1w2K6sMHF92amzEd72XdUIYpWc2qjq7PthRgZ54ta9fRBD/V\n",
       "Xd/85W0Ho3L258DdJYRxcNWuq7G6gKULlPP54VUn1GfOYFD+WMF++FUNZHOInoCdefesKO8CV2DU\n",
       "UcnBPOWR4wB3FxTG/k27LrlotRpTJ8o8uOkCxUpT+bQMO1qLGWV4BnoVm+zQjnySb98iWjJLplr1\n",
       "C5PFdzChN0TTnW9FVEe9XddE5+cfp7mOyhy+HeyHIqUUg5rhGQ6rN6KEsv125pXa1xKFC56CWTJa\n",
       "tJ8xanfTepJMd1UiCXNFuy5p271MZ3RHbgyQlVeuEw9RC6NdIp2xM9kpoTpXqOSFVTIejbE+63Ni\n",
       "uJNlH21gtrL3LTh0sl1Wu0CyK5hZ9f1W+RPtMqFvLZ2FrICAi6p/q5JZ4qzG+rAa7mS7nCkx3SAF\n",
       "kyg7dLJdZlwgcF8gtVMTXSqMOKX21gUwRs0qYnxgl+r03UmLC5ziLGntMsNU5CxwjNtGaNVLRxy6\n",
       "pNkuHRDjle+IdKypjjwvR//CRr77vDHXvL4XhnueGCiu1BNClyzZWfRlJZWDw7S3kuppz3FbTLU9\n",
       "Kr5iOrK9iuHKWQ57K5ccf1PwAPsPFxbSDsbc3B1Ux+B/wjBDgx46iK8AAAAASUVORK5CYII=\n",
       "\" style=\"display:inline;vertical-align:middle;\" /></a></span>"
      ],
      "text/plain": [
       "{A or B or C or D or E or F or G or H or I} |- A or B or C or E or F or D or G or H or I"
      ]
     },
     "execution_count": 40,
     "metadata": {},
     "output_type": "execute_result"
    }
   ],
   "source": [
    "Or(A,B,C,D,E,F,G,H,I).commute(3, 5, [Or(A,B,C,D,E,F,G,H,I), *inBool(A,B,C,D,E,F,G,H,I)])"
   ]
  },
  {
   "cell_type": "code",
   "execution_count": 41,
   "metadata": {},
   "outputs": [
    {
     "data": {
      "text/html": [
       "<span style=\"font-size:20px;\"><a class=\"ProveItLink\" href=\"__pv_it/feaa129763855064309a6e5c1f083db736bf435d0/expr.ipynb\"><img src=\"data:image/png;base64,iVBORw0KGgoAAAANSUhEUgAAAV0AAAAVBAMAAAAX2iAxAAAAMFBMVEX///+IiIi6urrc3NxERETM\n",
       "zMwQEBCqqqpUVFQiIiJ2dnYyMjLu7u5mZmaYmJgAAABN0h6tAAAAAXRSTlMAQObYZgAAA9VJREFU\n",
       "SMfVV01oE0EU/po0Nj/bbQTxmpyEHqS5+oOtqLUVNT14KIi2iIIHsUGoJ4tRq7RKTcGLSKE5KYJQ\n",
       "QfCglsQfFBEhatGgpqaevIjVtto2tfHNzGZ332YPXrOwb2e/ed+bNzPvvZ0FoE+jJi7fm6x4aA9Q\n",
       "I5fnmJD6rPF60NH9rTyS3xl1gI878sXNTr2OwY4Yx+ri84Wh8bsMW1fel2//yfW0dSPT3jSD9NR8\n",
       "Tk+VPnN7qdI74JNoBkcNLCMXXTa7pDwKNC5wrO4kMHCy8qY6UKJB/ji4TeSr3sYx0sN+zl1fhOd9\n",
       "sZraNOpiD7ft/uoZER5+0a2HpcVV2oK/DNM6SadxjloXhcaMiiuxZu85Fy300HLc3jKJr4z7bIzE\n",
       "l1g1tSfntJd2+vtC8OBLkgjIwK4jv/SfDAudEGHUS6JbaIypvRJ70FJkXEzQWFqY2/tFop9x74uO\n",
       "ZlRTIwknGHX6W4zIWL1H90YJ1JNfz8cY9kWaEXMP0eQ8OaUnEqA1zbgiuNKIMSy0Ai/O2LmNIopw\n",
       "CFVUxLMuIPPXkz1bFM8BuneokEnCdz1rx7xLMkeEGw00Xr1KsqY2sb5JxsU8dGnObm8U22TD5LbK\n",
       "oZ/CSQWW4ALiphB+lcVP0CMjJUAL2CaRnqsznQnYsaAtu2moA6oleZE043pK+b4YuL2WHC5w7kTY\n",
       "NGenFgpTy05QjvxDiNMqAaNoldtbF4ZfFbFIDNpx2LHAguXvWuC8akWEgVSUcYMLCAHc3sTkpV7O\n",
       "He+yCpadqkLdCVIgkYcHrqkkHymk5FS0UbxSJtphxL2JrVmRb7L3JTSjvMaF+M25oVkEVT2ysExW\n",
       "S4Jx++j+/nBPFRX1K6gG6RqmDdkgJ+khb9T4H3BL6SwKf8N2LCBZ/RJqTAQTVmjpq5xLMa3hMceW\n",
       "oBmMCnfczHxOVdXWCZLXYr5+2SR+QO3WFqgEFOVXbbOJycoL9Tny3g3AKr/P2xhX1lDcYZhn2dz8\n",
       "CldW0AyqqT1pF9CIX1kfvAlzzesPqzUV5dc3DzvmFa4FVUHErhmY5Vd7yPRUDfUlGRb8ZQW/wRVF\n",
       "0FdyoUaiLqBRH6S/m0TnnFqvYeVQiJZ7w14wjEpeQ+XD3j1mhVZzjuvJnVaBZmKBWctfg9tA8+++\n",
       "4UKNZ11AW/19Vn6EhviSGnVSSn9msTC4uzLApHE8mRp6W4FCuYpefvAd19Ou0FGps8Sw15lFU6vC\n",
       "xeuOj8VTnPqpfA5T5e1Oe5ed3wvr2upylHPBvNn/0/tfrhvVASp/e2vl/Kv81Wdrxl95/kXt/F8c\n",
       "UVlaS/9v/wA/GVC0TL7nSwAAAABJRU5ErkJggg==\n",
       "\" style=\"display:inline;vertical-align:middle;\" /></a> <a class=\"ProveItLink\" href=\"__pv_it/861e8c760c3a9e4059c4214709b0f4f00ac476d00/proof.ipynb\" style=\"text-decoration: none\">&#x22A2;&nbsp;</a><a class=\"ProveItLink\" href=\"__pv_it/20bf3123293d892e43ebfe1b9366eab26bf2a8e00/expr.ipynb\"><img src=\"data:image/png;base64,iVBORw0KGgoAAAANSUhEUgAAAUoAAAAPBAMAAABw5ZtdAAAAMFBMVEX///92dnYiIiIQEBBERERU\n",
       "VFS6urqIiIjc3NxmZmaqqqru7u6YmJgyMjLMzMwAAADiRdoGAAAAAXRSTlMAQObYZgAAA01JREFU\n",
       "SMetlj1MU1EUx/8t/f6iszGBxcEwQCJOEiWIUTSxiKA2EdvEiYkOJo6trsbYAYzVELqyyIuKRBKS\n",
       "DhoWEzs4SBxgkE3DR/gyUOo5977XvvPabt7k3ffe7577/vfjf08LcPkDWb5Uk9ODaQdcvDJdetLA\n",
       "Cg4WSe2ODd5zhD2qDk2PVATyJ3YLo5cyzr75SKryRgamKq/00xpXMfW4rupeIHgimb8PmOuz3nQD\n",
       "swkHay8D34qSgUf4uTHOU5KyzNo70QjVHNYMqr0MI2p2sWPA91ew8ADFBA/p6QFHrKAFwyZFB3sk\n",
       "8x1Q9ckRF6cvp4UsJum2mYcDxvUol2ZzPLRhqtyGWiNSjhwIFr3Aaqy+wRFdqLFOwZAlAd+xZC7e\n",
       "l0VHHI0wtC5k0UHv2SIc0LReKaseftA1oYCHRvO+S7BZ1ZnnGaUp+fKtGBJ0BbYli27BhYBktH+5\n",
       "kCFklfMSBhohr4YxX+L7HF3XtBWGETtj2FlgR20xr3mIVDy5FgzY5S/uSdbej6/qwcZ2EFCqNlnV\n",
       "d6cZpPJReYlWmBamX3vm/spAEXbmOqifOtriX2jBEGPo3xYMk6u3Dx1xZHtvDlLWVykUprad0FRJ\n",
       "44XaBH8GXu2BbA7h87Az90l9RI+BO2jB4Gfo3ReM/VZ2xLkq0+cAKcv29e83gTz7ZCGlhh3uxLLu\n",
       "eBmmi2us7Ui9qdZ3CCvNti06YzPf43YGzxbvcI9gbK24zis1Fj3Cgm6sy5J94TlqAnlJSU/3fI1T\n",
       "uoVtlc3YmVvFvlUoWHQVa8y1LxhbkPJlSTC2lhHOyLhOLJn7UJPlvlZ2FJAK9XKrueM528ZMl0il\n",
       "7UxlRejMFSi7UWPmVC2mLB7ulUxZy2UIZmVBm6xOl/EmkPoVa1Ke33r9OF3GzKNlskBdCLip87LK\n",
       "N5tlwVS6XHYwZa0NyTrqP8CWrE6X6SYQeMpIn8DYiB5GlJb24Q0IRskqZP3Abui8jPkMNcclIwv6\n",
       "zjri2Bq+i5J110+eJaFYwmgC8aH6E6HEjs60q6r2ru0VRq9b31g1PT419tJC0bzFkqdDacHGq8mx\n",
       "oZyMW+DvdZftLDxTTeYgJYjdxVT1qoTj1VuOvy54hsbShAWM/8uayQr4D0B6RFUSmlW8AAAAAElF\n",
       "TkSuQmCC\n",
       "\" style=\"display:inline;vertical-align:middle;\" /></a></span>"
      ],
      "text/plain": [
       "{A or B or C or D or E or F or G or H or I} |- A or B or C or G or D or E or F or H or I"
      ]
     },
     "execution_count": 41,
     "metadata": {},
     "output_type": "execute_result"
    }
   ],
   "source": [
    "Or(A,B,C,D,E,F,G,H,I).commute(6, 3, [Or(A,B,C,D,E,F,G,H,I), *inBool(A,B,C,D,E,F,G,H,I)])"
   ]
  },
  {
   "cell_type": "code",
   "execution_count": 42,
   "metadata": {},
   "outputs": [
    {
     "data": {
      "text/html": [
       "<span style=\"font-size:20px;\"><a class=\"ProveItLink\" href=\"__pv_it/feaa129763855064309a6e5c1f083db736bf435d0/expr.ipynb\"><img src=\"data:image/png;base64,iVBORw0KGgoAAAANSUhEUgAAAV0AAAAVBAMAAAAX2iAxAAAAMFBMVEX///+IiIi6urrc3NxERETM\n",
       "zMwQEBCqqqpUVFQiIiJ2dnYyMjLu7u5mZmaYmJgAAABN0h6tAAAAAXRSTlMAQObYZgAAA9VJREFU\n",
       "SMfVV01oE0EU/po0Nj/bbQTxmpyEHqS5+oOtqLUVNT14KIi2iIIHsUGoJ4tRq7RKTcGLSKE5KYJQ\n",
       "QfCglsQfFBEhatGgpqaevIjVtto2tfHNzGZ332YPXrOwb2e/ed+bNzPvvZ0FoE+jJi7fm6x4aA9Q\n",
       "I5fnmJD6rPF60NH9rTyS3xl1gI878sXNTr2OwY4Yx+ri84Wh8bsMW1fel2//yfW0dSPT3jSD9NR8\n",
       "Tk+VPnN7qdI74JNoBkcNLCMXXTa7pDwKNC5wrO4kMHCy8qY6UKJB/ji4TeSr3sYx0sN+zl1fhOd9\n",
       "sZraNOpiD7ft/uoZER5+0a2HpcVV2oK/DNM6SadxjloXhcaMiiuxZu85Fy300HLc3jKJr4z7bIzE\n",
       "l1g1tSfntJd2+vtC8OBLkgjIwK4jv/SfDAudEGHUS6JbaIypvRJ70FJkXEzQWFqY2/tFop9x74uO\n",
       "ZlRTIwknGHX6W4zIWL1H90YJ1JNfz8cY9kWaEXMP0eQ8OaUnEqA1zbgiuNKIMSy0Ai/O2LmNIopw\n",
       "CFVUxLMuIPPXkz1bFM8BuneokEnCdz1rx7xLMkeEGw00Xr1KsqY2sb5JxsU8dGnObm8U22TD5LbK\n",
       "oZ/CSQWW4ALiphB+lcVP0CMjJUAL2CaRnqsznQnYsaAtu2moA6oleZE043pK+b4YuL2WHC5w7kTY\n",
       "NGenFgpTy05QjvxDiNMqAaNoldtbF4ZfFbFIDNpx2LHAguXvWuC8akWEgVSUcYMLCAHc3sTkpV7O\n",
       "He+yCpadqkLdCVIgkYcHrqkkHymk5FS0UbxSJtphxL2JrVmRb7L3JTSjvMaF+M25oVkEVT2ysExW\n",
       "S4Jx++j+/nBPFRX1K6gG6RqmDdkgJ+khb9T4H3BL6SwKf8N2LCBZ/RJqTAQTVmjpq5xLMa3hMceW\n",
       "oBmMCnfczHxOVdXWCZLXYr5+2SR+QO3WFqgEFOVXbbOJycoL9Tny3g3AKr/P2xhX1lDcYZhn2dz8\n",
       "CldW0AyqqT1pF9CIX1kfvAlzzesPqzUV5dc3DzvmFa4FVUHErhmY5Vd7yPRUDfUlGRb8ZQW/wRVF\n",
       "0FdyoUaiLqBRH6S/m0TnnFqvYeVQiJZ7w14wjEpeQ+XD3j1mhVZzjuvJnVaBZmKBWctfg9tA8+++\n",
       "4UKNZ11AW/19Vn6EhviSGnVSSn9msTC4uzLApHE8mRp6W4FCuYpefvAd19Ou0FGps8Sw15lFU6vC\n",
       "xeuOj8VTnPqpfA5T5e1Oe5ed3wvr2upylHPBvNn/0/tfrhvVASp/e2vl/Kv81Wdrxl95/kXt/F8c\n",
       "UVlaS/9v/wA/GVC0TL7nSwAAAABJRU5ErkJggg==\n",
       "\" style=\"display:inline;vertical-align:middle;\" /></a> <a class=\"ProveItLink\" href=\"__pv_it/c5906769d4dadb10abb04a4f84e0a310db5c584d0/proof.ipynb\" style=\"text-decoration: none\">&#x22A2;&nbsp;</a><a class=\"ProveItLink\" href=\"__pv_it/c17abb4079909d66a1b1e1e47659a1595e04c6340/expr.ipynb\"><img src=\"data:image/png;base64,iVBORw0KGgoAAAANSUhEUgAAAUkAAAAPBAMAAACb0iBeAAAAMFBMVEX////MzMy6uroyMjIiIiKq\n",
       "qqoQEBB2dnbc3NyYmJhmZmZUVFRERESIiIju7u4AAACOKgoaAAAAAXRSTlMAQObYZgAAA3dJREFU\n",
       "SMelVktoE2EQ/vIy720OXrRCcxAPHmxBKBKE5KIHD23PRVBQBEFsLh68aEDEWxvwJCIGxCKJ0Pq4\n",
       "GIuNUkSMkJy8qHTBB9IqaOI7bePMv5vszr89CP6ww+b7v9mZf/ab2QAwXlcfRPJwr6vd+kK9ICAk\n",
       "G2vlh+Mj0JZPQ6KLnfLCE6/rwlRTgp/r5eIlaGGf05UxBfiqm+FMXhYRmi1SPAWmlG1TuO/9n9bO\n",
       "AOUTrUkeEPii0bYQZS7ldU3IEMmTwO6TksZh8Q2bgPg0RmaO0o3zVlSd2LdOZpbv7rC5ptjDtGWU\n",
       "BI/W5Q2NNkTZDJc0jF5VNO12NZaoYrFfkuansL4/2vP8P9mOcoF3cWrzZIKq3MmvnBWFwyD/HFP0\n",
       "8xTCaAoeAZMcyU1bpgNfb2oYZRhKuV0DpzmBnKSFKWzyu/a8cItMTKHb2eyja7faSfBrnGGtBiim\n",
       "v6TALJBHQfCoMMkWJO0ppX7c1FxNFEKm23VugutSkjRWT2IDXhAzfB58ZDNJ1zNLRzWuJR88RNSE\n",
       "1UdriBYhecCe0G9IWgfY+kjDviEiXSNKfUZB0jjsQA5eEOed1gvS6WqWjhhcVn1PTjssfbQrUwWN\n",
       "ByOtJOyi+TpXXh+AxPx/EJeu4XWnifs0DGfK5UZeBzmX8ZQzMJqIpy0dMbio7t8Ad3uiCeg8+BFR\n",
       "andoSdLph3mJhduVE9I1+NXJsk9Tyl9ObwJiSrWBMkYOb62dBpsf6vYdjJGePsLWcHB4GCxX1iQt\n",
       "cbTXAS7XDazatbddt5DYojf25wWNlY+GCS+IcSUDq6A3cQa2BOkhSnCITYQnevow8FnyQAc/ptGo\n",
       "jsl1Dcvhve1guwa/9LrXRVNh29gEVJOSiqTWBeTQH5cfLOlFRoIufZwTPIToOihpPC7jLc3V+bLZ\n",
       "rmpSWh8Eh6bG5U94QepxJzgS26xW4nFp7LWf+/iaow/fvODhYu+NODQel0M1zTXdz9J2jXAyQyOS\n",
       "psZlC16QykEvdtIe0b77Zn9E7Sz1pGcNVyWNXSnBi3BdGgVBG6XjnzK9rpAhjjTpNi9pwf641EBa\n",
       "K/Vq/6gZZePZTmXhVg8LqHSNe91qZakteEajbeJw95CLBqa9mJCuN7pV559Lxm6j29WzobSbhpVs\n",
       "pxlrrDUFuJrt5PU/ONPwrojpxab/jfYfrhL8C4tVQDRFt913AAAAAElFTkSuQmCC\n",
       "\" style=\"display:inline;vertical-align:middle;\" /></a></span>"
      ],
      "text/plain": [
       "{A or B or C or D or E or F or G or H or I} |- C or D or E or A or B or F or G or H or I"
      ]
     },
     "execution_count": 42,
     "metadata": {},
     "output_type": "execute_result"
    }
   ],
   "source": [
    "Or(A,B,C,D,E,F,G,H,I).groupCommute(0, 3, length=2, assumptions=[Or(A,B,C,D,E,F,G,H,I), *inBool(A,B,C,D,E,F,G,H,I)])"
   ]
  },
  {
   "cell_type": "code",
   "execution_count": 43,
   "metadata": {},
   "outputs": [
    {
     "data": {
      "text/html": [
       "<span style=\"font-size:20px;\"><a class=\"ProveItLink\" href=\"__pv_it/94cf27f5b939c0f2d0c102bf7f10619419caffc30/expr.ipynb\"><img src=\"data:image/png;base64,iVBORw0KGgoAAAANSUhEUgAAAJoAAAAVBAMAAABMN+opAAAAMFBMVEX///+IiIi6urrc3NxERETM\n",
       "zMwQEBCqqqpUVFQiIiJ2dnYyMjLu7u5mZmaYmJgAAABN0h6tAAAAAXRSTlMAQObYZgAAAllJREFU\n",
       "OMutVU1oE0EUfrubsJt0sokgnoTm1JNCbh4UKlh/Ckpy6CEXbQ49CB7MQbwFij9QKWkrgnhIaW+9\n",
       "FCwIIoXShZZCKYKn2ku1uQkeajViqDbx/UzWnerNHZg3u9978828ed/OAoD/AeJoN0+TVcsQTxso\n",
       "ofG/yEty6Zj3U7e+M5Q3MXWyPuXMG5A/3ZoYeogPGSJIzwjax6wlJhZkDCO+m9ipPXC393pv7IAs\n",
       "suxXNVGP7fMvso/JNGWzHQD7yMDWG2g+FgA8zirHcaM4ZComm6p9o6FMpsGIhYB/YGCvAzofWmkc\n",
       "TSrguH5ktjsmm2995XxxYfsdIwlcb6MRxTI/uHhkXmE/K0kVsTuHJtsZt0ODi7MSBTmPcUi+CKLY\n",
       "IIeukalhvyRsLex2G4lwdfC4liqfPGAfThiRqNGp5nDVwF7mwkqmMNuLcrw0zzrU4rjPlbHBOWLn\n",
       "CYAHMqG/AOq2gc2VQjYrB56ox6Kye3RMK7joM8bKuzstftgEpYV3hRirUewuHzsbNQNbEpagLWU5\n",
       "y6dawoDr3GFnppqW9KBNbLkoNscnKxt8DwsSlqWE91GD8IYY6c3F/pydzlIKQrnBdD6KkdIgLe7z\n",
       "oHVKclNjvY+Ka3oO+6p4LzchlFuyZWCDtNNFneAtXRKS2xZ/VBXN5hBjUYRRbugvDZ0D1yGKkYhq\n",
       "gd76E/2Am7BnAf7oTRV/BnCvOyssol1vtb376KquoMbg7bV6eA2syDDZrU/cKETZjOYEf182/8Iu\n",
       "HAeErRLT/cZsvfvtvxvfbxDb3ctH6sb3X/gN/COdKF0XGQkAAAAASUVORK5CYII=\n",
       "\" style=\"display:inline;vertical-align:middle;\" /></a> <a class=\"ProveItLink\" href=\"__pv_it/3a077ae74a37f8530d53156540c0ad32344185220/proof.ipynb\" style=\"text-decoration: none\">&#x22A2;&nbsp;</a><a class=\"ProveItLink\" href=\"__pv_it/b63c6333aa745968f938604be81aa4c286fb5c7a0/expr.ipynb\"><img src=\"data:image/png;base64,iVBORw0KGgoAAAANSUhEUgAAAIYAAAAPBAMAAADT6KqyAAAAMFBMVEX////MzMy6uroyMjIiIiKq\n",
       "qqoQEBB2dnbc3NyYmJhmZmZUVFRERESIiIju7u4AAACOKgoaAAAAAXRSTlMAQObYZgAAAbVJREFU\n",
       "KM+NkzEsA2EUx/9XPVpc24SFpTcZLDo1YtAuFgNmiw5GCYuVJsx6q6ldGBhIGLgKF4MITdrJ1KQX\n",
       "QkQMCFEpqffuO02/b3LJ9+693728733/7x2ASNU+Di1BefqUOHzW2Dk5V9l3sXTE3o0FfdsCNI/H\n",
       "/O8pNu2o0wH2YjKLJoD8DPA8RcFeFuhhHq74W6RcyChO24wUFEav7gyQ5OQh3nSfTNAVNe65qoRq\n",
       "BPIVhVG9wBe6PzgYZDNKa9g/ilUzFXRBys27MivTCn0il+bgkc0srUvxMeDOWQpqAP2nCvvm1AZW\n",
       "Ky2Zg9SoI9xb76jtSGtsVieUNO2HjPGJ6VirhlFBjylcE7mCjIw68LCvsFfW/Q2LnjqeiaRxJ0po\n",
       "9s6ZI6Nekt/4UNgL328G0xzoopktLPty0DgkZBSlHowfhfE+ecubDHQJtoa0cGhsghkZ8XhQ2zIj\n",
       "zSILQI61W/F7GxACh6hGx4uEvPGIOwqj9u+oX/2LbssfLO1QOOucWJcQknTCBVdm9D8EJtl5urbN\n",
       "v5sZ8+xzcxx6+b3QhnDQtHdLM1Ias+JVVv1ZN4B/IJX9AqQ3jfyUfMEnAAAAAElFTkSuQmCC\n",
       "\" style=\"display:inline;vertical-align:middle;\" /></a></span>"
      ],
      "text/plain": [
       "{A or B or C or D} |- C or A or B or D"
      ]
     },
     "execution_count": 43,
     "metadata": {},
     "output_type": "execute_result"
    }
   ],
   "source": [
    "Or(A,B,C,D).groupCommute(0, 1, length=2, assumptions=[Or(A,B,C,D)])"
   ]
  },
  {
   "cell_type": "code",
   "execution_count": 44,
   "metadata": {},
   "outputs": [
    {
     "data": {
      "text/html": [
       "<span style=\"font-size:20px;\"><a class=\"ProveItLink\" href=\"__pv_it/a4069ea3008f0d8fc39b9aec39df702217cc458b0/expr.ipynb\"><img src=\"data:image/png;base64,iVBORw0KGgoAAAANSUhEUgAAAQ0AAAAVBAMAAACuzqZ5AAAAMFBMVEX///+IiIi6urrc3NxERETM\n",
       "zMwQEBCqqqpUVFQiIiJ2dnYyMjLu7u5mZmaYmJgAAABN0h6tAAAAAXRSTlMAQObYZgAAAw5JREFU\n",
       "SMfNVk1oE0EY/XaTNZvNus1BD4JgTwUlaA6C4CmWIAaUVChSvTRIPIRKycGfi8VgK0RUFMTWoGIQ\n",
       "KSgoOfWgglsoIhSxFQ8Brc3Bk0KT1qixUeP87e5s2N0gPdSFTebn7Zs3b775ZgBA+wjr+kjzOv5T\n",
       "n8I6P+IJ/KvVmKySvXdLOjl1q5tVtGuNhbFeW78wHm9mLpjV6QPlyl4vgno+PuoywntcU67T1lCt\n",
       "TWbpsHrQXLINMYDFPlt/SArPvK4YqoYBRoY9CLrQNKtZZ8BDXseXX206Yjths9+oDKIBd83Z+v1i\n",
       "ReiL0bKaQGu88asXQRgBUs4AXoc6YrB8KhRKDHXWpNkWRdMJU4sThdtMRyDLdIRO4nVOeREgM8U/\n",
       "zgBehyasUFD/Vkvt/RmDZj9SmiFxLe3TTT+UCNOxiB2X5jwIkuj1rToDeB2RABWrPrdcE29eNCoN\n",
       "gKNXSGlWt9Zl+wANGd9P8mnUg6CODWs4AyZxRSYWqd3SMumToyaq5953I9ylxtKmCVocteIj0zpO\n",
       "i8qyteguBBghrDoDqrhyhkxJBN9vys5H0ZPPxnZAwfMyR5u5OFWWiqQY/MaFrzMBRsgrzoAQWtD+\n",
       "G6RpYKFcJ4Ujz9BjRBEaipGjEBR+kIkNYQDTgTFkV5O9pnoR4KzQlXIBXEI7oIf4gewZIh/s5tX6\n",
       "Icd2P/oXiPk+3g+IydQPkntOexHgz6oVZ0AIg2SMCKB3nE6NR8lQstIHdRVSvI5ciBRp5ih6EaAZ\n",
       "q2kXQNXcL3vQ+4JShnm1WtFKH4PUiXmbH3T9fdgqRfciQK7PllwAk4YOH9aSpHE8YWbdY/CoDGoT\n",
       "l6dQJKfpOMGsmdeLyuMcvMHs5ysQ+MDaHQnQJMW7zgArf6jJpg6nWhT3qle3nUIFVL3culqOs/HV\n",
       "sYjtnAvewY3v8m8NdheC/KGoC8B+vpjPjkSBP3oDevsx/YDmdeM5B/9I0A5gOlLetwOl0/WhCGsk\n",
       "oDq0mjdougOJGoa1EbD7B3S4j1U6kGidRulEACI9HQL/w/30L+1MHGD6X4c1AAAAAElFTkSuQmCC\n",
       "\" style=\"display:inline;vertical-align:middle;\" /></a> <a class=\"ProveItLink\" href=\"__pv_it/4e3ac044531ff29c1a8213917eacfaba023d1a200/proof.ipynb\" style=\"text-decoration: none\">&#x22A2;&nbsp;</a><a class=\"ProveItLink\" href=\"__pv_it/190e6a9ea8f527c0b998612dbf199f1d765b6c190/expr.ipynb\"><img src=\"data:image/png;base64,iVBORw0KGgoAAAANSUhEUgAAAUcAAAAUBAMAAADsCuK1AAAAMFBMVEX///9UVFTMzMx2dna6uroQ\n",
       "EBCqqqqIiIgiIiJmZmYyMjJERETu7u6YmJjc3NwAAAC+aOQFAAAAAXRSTlMAQObYZgAABAxJREFU\n",
       "SMe1l11IVEEUx8/e3fbz7qrRQ2bm+tYHYU9JELQvgkGgQQ+RRUtPSVD7EhE+uD0UCIJKHyBFSuRD\n",
       "EqmRYVh6H7IPhVifhKAUgogIdK3cyszOOXPv7p7RKHAb2Nk7v5k99z9zzpyZBYikoADFO7OSFcby\n",
       "aaom1PN2rS9cke4se6BBs6m0PLJLoMnlgbIBVLhlpXm2/HygI/VO7zG6NTC5XNoxHNMELJYMo1UX\n",
       "Tf+eYn38Y36Mcr2uH6ArKtnZFHivpiT7gfYWAMZXiiTLvmMAjcecwYbdE5wDDTUABOYlK8KZTMfB\n",
       "xK9wu9LdZ2HtojHhBJMqFFPXLthEK1ZdM4IZGayuArgTukaybA6h2cAvbK0nNGV3vf4JEhlLAJ7v\n",
       "klWhxUA9QDWAXwXTM3o3GMVY+S0mzQimE4L1UF0jx/lo/nUpMOt1kWQ5eBQfPNRVSajVjppGkp2P\n",
       "fAjCGcmacSU8KH4M4IP6Xao55nhovyKDaOywlc8CC1Rvk+NC5LlZjNPbukiy3BWnKZGzgijZ026v\n",
       "se8LSBTCeYy1SjZKe+8zohicZ+CxzvBWbMTPiLKUBti6WbDZJNWv5LiiflpJXNk9uki0HPnGC0dO\n",
       "8uKbQ3YKOOBdAomKisG4YEm2SLpQhbsdnjB4yhGALsJ596soSb9pugSC7cuFXW4c/64ZV/I1tdy9\n",
       "XHgp0LI7k9OMM9xheztmZDRUVT41FJeMx/hwJcPdoITEYJYN+xLgimWjZKxYsLZo9o25cRQ5UIHP\n",
       "J/WVRMv++VzzHMAG9eSByHcN4QYwD0rGwe7CuPAm4RCrLu2s4IUxk04uoSjxLQh2nHeKJcdR5MBX\n",
       "WgxdJFpex7vY5OYLTia8YTo7FjU0SELjgnGwF6EKY06J9KA91XUNdoMTJeDLCNbGgRSV4+h14aU/\n",
       "iPRzPjzBzUDcrRyKboMjGkqTyIRgHOzTKRbJ7kbsVynkIyQhmyZdXwTjLOUGwThyxshebV5MFtvu\n",
       "5gwJ6oiKdPvtExQ/FyWiNMkxk8co2M0GWsEkb5xI3DkEILQzkY0SqOoXbJa+9oJgFDlmLydofSXR\n",
       "coSm4FZ5F+7bqfy9c77lEG0AY1EyCvZxci9unD12Rgv9UnPaaJvswSk0WIJR4mi0ux1Gc6vlPXdZ\n",
       "F0mWMbF5b9jtSpWjI+SC0Zl8BEF0Y81jMYzm4WnhANhFXppYvgve0W8qhd5RQzbRiW8HjMPg5UBp\n",
       "9hKgmKsv3VF2kx9v6SLJ/+b1kitOO8gvMEd/WHBquSUPkZXOsodiGAkoecRTCUadYzFbPq1yW/oX\n",
       "ZiZXOxbFzc1aeZmz4O/sRfaCseay+gWjEKU6dwqutaxyVSuMZU6bE4UROfKHS++aC5/khbnkh//b\n",
       "34e3AL8BKBxGBm44GnQAAAAASUVORK5CYII=\n",
       "\" style=\"display:inline;vertical-align:middle;\" /></a></span>"
      ],
      "text/plain": [
       "{A in BOOLEANS, B in BOOLEANS, C in BOOLEANS, D in BOOLEANS} |- (A or B or C or D) = (C or A or B or D)"
      ]
     },
     "execution_count": 44,
     "metadata": {},
     "output_type": "execute_result"
    }
   ],
   "source": [
    "Or(A,B,C,D).groupCommutation(0, 1, length=2, assumptions=inBool(A,B,C,D))"
   ]
  },
  {
   "cell_type": "code",
   "execution_count": 45,
   "metadata": {},
   "outputs": [
    {
     "data": {
      "text/html": [
       "<span style=\"font-size:20px;\"><a class=\"ProveItLink\" href=\"__pv_it/a4069ea3008f0d8fc39b9aec39df702217cc458b0/expr.ipynb\"><img src=\"data:image/png;base64,iVBORw0KGgoAAAANSUhEUgAAAQ0AAAAVBAMAAACuzqZ5AAAAMFBMVEX///+IiIi6urrc3NxERETM\n",
       "zMwQEBCqqqpUVFQiIiJ2dnYyMjLu7u5mZmaYmJgAAABN0h6tAAAAAXRSTlMAQObYZgAAAw5JREFU\n",
       "SMfNVk1oE0EY/XaTNZvNus1BD4JgTwUlaA6C4CmWIAaUVChSvTRIPIRKycGfi8VgK0RUFMTWoGIQ\n",
       "KSgoOfWgglsoIhSxFQ8Brc3Bk0KT1qixUeP87e5s2N0gPdSFTebn7Zs3b775ZgBA+wjr+kjzOv5T\n",
       "n8I6P+IJ/KvVmKySvXdLOjl1q5tVtGuNhbFeW78wHm9mLpjV6QPlyl4vgno+PuoywntcU67T1lCt\n",
       "TWbpsHrQXLINMYDFPlt/SArPvK4YqoYBRoY9CLrQNKtZZ8BDXseXX206Yjths9+oDKIBd83Z+v1i\n",
       "ReiL0bKaQGu88asXQRgBUs4AXoc6YrB8KhRKDHXWpNkWRdMJU4sThdtMRyDLdIRO4nVOeREgM8U/\n",
       "zgBehyasUFD/Vkvt/RmDZj9SmiFxLe3TTT+UCNOxiB2X5jwIkuj1rToDeB2RABWrPrdcE29eNCoN\n",
       "gKNXSGlWt9Zl+wANGd9P8mnUg6CODWs4AyZxRSYWqd3SMumToyaq5953I9ylxtKmCVocteIj0zpO\n",
       "i8qyteguBBghrDoDqrhyhkxJBN9vys5H0ZPPxnZAwfMyR5u5OFWWiqQY/MaFrzMBRsgrzoAQWtD+\n",
       "G6RpYKFcJ4Ujz9BjRBEaipGjEBR+kIkNYQDTgTFkV5O9pnoR4KzQlXIBXEI7oIf4gewZIh/s5tX6\n",
       "Icd2P/oXiPk+3g+IydQPkntOexHgz6oVZ0AIg2SMCKB3nE6NR8lQstIHdRVSvI5ciBRp5ih6EaAZ\n",
       "q2kXQNXcL3vQ+4JShnm1WtFKH4PUiXmbH3T9fdgqRfciQK7PllwAk4YOH9aSpHE8YWbdY/CoDGoT\n",
       "l6dQJKfpOMGsmdeLyuMcvMHs5ysQ+MDaHQnQJMW7zgArf6jJpg6nWhT3qle3nUIFVL3culqOs/HV\n",
       "sYjtnAvewY3v8m8NdheC/KGoC8B+vpjPjkSBP3oDevsx/YDmdeM5B/9I0A5gOlLetwOl0/WhCGsk\n",
       "oDq0mjdougOJGoa1EbD7B3S4j1U6kGidRulEACI9HQL/w/30L+1MHGD6X4c1AAAAAElFTkSuQmCC\n",
       "\" style=\"display:inline;vertical-align:middle;\" /></a> <a class=\"ProveItLink\" href=\"__pv_it/5af467d67183697d76ce67d607ea0e765efb43690/proof.ipynb\" style=\"text-decoration: none\">&#x22A2;&nbsp;</a><a class=\"ProveItLink\" href=\"__pv_it/b1e52c18642432c2abb294d49f7867ace4fc0bde0/expr.ipynb\"><img src=\"data:image/png;base64,iVBORw0KGgoAAAANSUhEUgAAAgUAAAAUBAMAAADvp1MpAAAAMFBMVEX///9UVFTMzMx2dna6uroQ\n",
       "EBCqqqqIiIgiIiJmZmYyMjJERETu7u6YmJjc3NwAAAC+aOQFAAAAAXRSTlMAQObYZgAABGtJREFU\n",
       "WMPFWE1oVFcUPvOTmcnMm0kiWTS2qclOCZKsLJVCZyMoCEZwUZpKB3dB0NmIiIukiwpCiBPQgihk\n",
       "XLjQhSZiSkSbzCbUGijjKkTQDBSKFCVGQ6LGv3Pvue++e2bm+iZmqBfOy8z3zvne986cc38CkCpC\n",
       "zeMp1GMcUbYB9joLmaXvwTy/n9yydP7Lmxxzxqq6wv33bSO302Xgn+MjxX/KKNdabn8NECiRQU3s\n",
       "ViHOybb2VE85Sy3hFUKuER5/Rn9TrmMDPme0g2HxkuEqbwXpRh9A43OORQ8C9B/kWBPqW8iAg3+c\n",
       "fEUOGHsNQo4VIXKu6HJ3AFQXp8PtQpI5in3wRnGo79CN9PtyDJs3XTeJyxzl/i1A+BXDnMkC5uUd\n",
       "9+vOItYL8A2Q8TG/PiGzQ3gZFb+keLlkFizidLhdSIyy7/S/I46uIUU2gDcWsgwbNl07xYVuRBFI\n",
       "rjIs/hNewr3cbwDVhjFfM0DGx/D6hFzGJMMu8Qs04yVWAIs4HW4X8li1SHSZPrQeV4+eQMIfCiaW\n",
       "GjRdRT2G6XdJ4LvODDFsNCPU5bjftCB5gVCajA3O7iukcUV82gaqm/cAWMTpcLuQExS7N/KW8piP\n",
       "KbYlgK1fMSyaM10j+C1BRdTUDMFfCiaWeikDS9xvTdQG8oZyZGxwdl8hizJlf4tLP9oUgEWcDrcL\n",
       "+YPY08FV+SGUCWWox5cenjwFDEsUmSuK6FId2z43mWFYaNV7Oe0n46KY/mSeDGDnVTGuVGH3E/J9\n",
       "Vj8AExMcA6guzgi3CqH7YUi9UnypvO7xmWaGxTLMFeuyVXess59hsedeDrRfVIABrNXIIBkbZex+\n",
       "Qs50eBWUhYDqrEpxRrhVyAGJdp4fWQM1b27SPR5dYVhDmrne1QvchMhDxsQa5OzscL+EWLaakDf4\n",
       "jIyNMnY/IT/LGUJenEG4p0gqxRnhViGUAyT9EdS82en2OERXGUYqtWujW62i5WAga2Ix+YaHuF+T\n",
       "KNiF4kdzULOQM7LFqRh+gx2KpFKcEW4VInshgvarO2/QXkUsq4Flhslq1a5Yl2rWEtsD2JI2Mbkz\n",
       "gB7uJ1Zlp09U7CCZOx9cggp2XyFiZwAhIv4PVGNVEeeF24XIOfFftOvumhLJuctq9xjD5KylXQFu\n",
       "zIFuueAaw1Ii86EC9xOr8j1Rjd6caAzO7itkUdTddyp0u5ogq4jzwu1CvnWX5mmR2C69j7iMGeqT\n",
       "L6ExsZJ4rliXascSx87adQcYdhQ3sheBY6gufFpWSQ8ZG5zdV4hYA/tVkoNfFLwtRpk4L9wuZDeW\n",
       "xfTrAhx+L9BWNX/CZnEMou7RGFaN4ap3roHreCr5HfgO17nQchY4hpQtt6TAeAcZG5zdTwjAX+Nt\n",
       "ept1hZ5ZRZwRbhcSYwe4tHEQqsSGy3Z2hcrjaE3YXWXV9sqfIgSebExIMlf7eXse6jM+emb6HEKm\n",
       "ag9JlOryZMvZeR3s9RYyu46Ysbo8WrxBorQR9noL+f//l/ZI2Wf/X5oS8gHAZwFzO6HyjwAAAABJ\n",
       "RU5ErkJggg==\n",
       "\" style=\"display:inline;vertical-align:middle;\" /></a></span>"
      ],
      "text/plain": [
       "{A in BOOLEANS, B in BOOLEANS, C in BOOLEANS, D in BOOLEANS} |- (A and B and (A or B or C or D)) = (A and B and (C or A or B or D))"
      ]
     },
     "execution_count": 45,
     "metadata": {},
     "output_type": "execute_result"
    }
   ],
   "source": [
    "And(A, B, Or(A,B,C,D)).innerExpr().operands[2].groupCommutation(0, 1, length=2, assumptions=inBool(A,B,C,D))"
   ]
  },
  {
   "cell_type": "code",
   "execution_count": 46,
   "metadata": {},
   "outputs": [
    {
     "data": {
      "text/html": [
       "<span style=\"font-size:20px;\"><a class=\"ProveItLink\" href=\"__pv_it/ba0f5b7a395fbd2dedd7574f8e497873d111ce4a0/expr.ipynb\"><img src=\"data:image/png;base64,iVBORw0KGgoAAAANSUhEUgAAAPkAAAAVBAMAAAB251VaAAAAMFBMVEX///+IiIi6urrc3NxERETM\n",
       "zMwQEBCqqqpUVFQiIiJ2dnYyMjLu7u5mZmaYmJgAAABN0h6tAAAAAXRSTlMAQObYZgAAAyhJREFU\n",
       "SMfFVk1IVFEUPjPOa944z+dbSLuYaSO4CGcbBTNklELoLNpElDIY1CpXQQtJyI3U6ECLaSHYqgiS\n",
       "IslFP8yjhmkhgRGYFOa0C4TUtDQi7Zz78+adlwulgd7gvdfvfu+ee+75zj0PAOxP8B8e461LnfV0\n",
       "D+80VOthOZrCJnyBhvaKws4GOF+28/PHkxwr70y1xzYXho8FQKslP9pwJ7Bk53Anmr5O/3ykprGg\n",
       "pkqqT2luP0DTd45N+aiGGGZFuy8DsJjl2P4qROeqHPuFO90AmKHxfb91u+TKwQsdmS08nt8Ms2d9\n",
       "VJMWtB2B9KKV9lmGlcexWUwxzFjFZg5tOkHrrxelg0aX2kVoDV9aZVgs5aMaQ4TIiQQCyw7Dpqlt\n",
       "5bwQHWV7Fay+oPVqQsbYPCjdgQhSKuMMO8yoFIZDEjmBYb7k+rGmDWrPcV6ENJZGLTwOWA+716Se\n",
       "Z0Btp3kIjNsuww4w6iD+dUjuJsCZmwxLizdecV5zhnzHs5jE/q7w65GYeAm90r97+JOxHP3cNQAM\n",
       "62bUGJ5qRkZm82tLERj20PGUXuOJ9xLo+xL2y4RckWpMQlpKqgBHQMfSuggMKzJqyAEz6UmkMsSw\n",
       "iaxnvcZLEDiG46vYx3GR07fk7vMLY2J/KE4zq2MJiQGG5RjVKsjUkRIJbTDssoiZy3k91PygQ6DB\n",
       "CJ5Eq1g3jDkrQoDiFCIVsYSEw7Aco8J7HSSUCIRWGTYhLrUs562TK1vKepyWNIUf6GOsT0tkSqe7\n",
       "OCUfVmRUDIcSKKW7+Y1hIikbgWEi3Stkr03HXWi+AZeMr+j0GNSxNNaBYd2MCpHzjicR6M0wLE3d\n",
       "A2AYpbv1jEZLWvPCOiVyZA2UOMXVEEf/Wk8Bwyb9VJwYURfTNMaj32VYFI9uUE1rjDbdJgT7wZ/v\n",
       "5e3nEO35SVdlUooUzBIWjpPyrtEYHViNWruAb1A9UsnpXdRvOvNeiZIYLjk//E4MnwTvOvmEfSXh\n",
       "byyW4mXs6A7lczeYVfCs9+2+MKsq889Prcp49X03T0d9rM949R328m1Tro91ciKck+rcw3ddfb6s\n",
       "7JT6rvsDtfX60rl/hF4AAAAASUVORK5CYII=\n",
       "\" style=\"display:inline;vertical-align:middle;\" /></a> <a class=\"ProveItLink\" href=\"__pv_it/1b08ed0bfbcfeab537cba2d2ff807dd6d7599d100/proof.ipynb\" style=\"text-decoration: none\">&#x22A2;&nbsp;</a><a class=\"ProveItLink\" href=\"__pv_it/1f33fe68987a71c842a6270ee9884a5a85b6cf420/expr.ipynb\"><img src=\"data:image/png;base64,iVBORw0KGgoAAAANSUhEUgAAAOQAAAAUBAMAAABv64ynAAAAMFBMVEX///92dnYiIiIQEBBERERU\n",
       "VFS6urqIiIjc3NxmZmaqqqru7u6YmJgyMjLMzMwAAADiRdoGAAAAAXRSTlMAQObYZgAAAtRJREFU\n",
       "SMetVj1ok0EYfhLz0+T7ErvqlMWlXTKoiw6lGigqtkgUC2JDHcTJbOKU6CrSiEasDg1uWTTYoCAE\n",
       "spROhU5SEU0HuykttSX+1Mb3vZ98d18GU8iF73L35J737567L0C/baiJAbR4UQ2++35Y6kyXz+Zs\n",
       "rM7du0y5ea/HTj/0pU4mmyF/V9W8pb51CDgOxPZtbI2e6GmgSg/WGUnCpMvZukU3sb+A+xtoSIrb\n",
       "qsnBR2UjuQdEflmYWwKccVoX+0mz6wwtw6SH2bKbt+gm1qbuMRAQM7xfkKkkx5XrKJl12xYWpCWJ\n",
       "UzSIpKnbYGhUuZT05BSvqll0E+OsbzfhpAWnWZCFD9+UISBE+OKohd2nZ6HCZihdJMhJpKRcKjpX\n",
       "/paPbmBb1M0NAx94Fqm9lmpsICWNHJ5C8ljNwu6SZrd54HBKcXIXUrus6VV6Jnx0AxvjLCnrIzx7\n",
       "i02ZyVH6iLZ5bXm8Agu7QNvQ9gRIcXxVQ00PUgXGfHQD4zUFynKFZznMlZSdh9JKoQjnBCxshPj7\n",
       "nss7wBU11PRoHuGcj25grKQZGr/kzZmenxGRkLTCUtBneE3Fwk4Ch/6IwooVb+CsKnVrupPSJ8Cj\n",
       "e9gkdz84Xd4LMiboJC0hMWCXOXkLI5dBVgBeiRWxSkBVvkvHc70vHt3Ddjj+PeWSqMG03us1fa5E\n",
       "EQxsRJ1IDMvrbzWo6tql0w6k4KN7GOtgkasxS2TiJLa0oqv6XCV3YGEknyGmBdTRvaguAo+O0Lc8\n",
       "fHQPIx04n3m0Ig9ciOMX0hLnNkFR3zgPC2Nt02GIv1DJbaiLoEunxZdkOB7dwCiqWaGyR6h3PiE+\n",
       "uU0zIS2SGMKt3fnsOXkRaIzrAefJ5adasgkpco/evRsNuomVs8/E8Itx10eMO7gXCxZ977Ja75vp\n",
       "Af6POam+X3RuCQNp6lrvq00MxmXjAGvrg3F5kMgH80fELeIft4fq884QeyIAAAAASUVORK5CYII=\n",
       "\" style=\"display:inline;vertical-align:middle;\" /></a></span>"
      ],
      "text/plain": [
       "{A and B and (A or B or C or D)} |- A and B and (C or A or B or D)"
      ]
     },
     "execution_count": 46,
     "metadata": {},
     "output_type": "execute_result"
    }
   ],
   "source": [
    "And(A, B, Or(A,B,C,D)).innerExpr().operands[2].groupCommute(0, 1, length=2, assumptions=[And(A, B, Or(A,B,C,D))])"
   ]
  },
  {
   "cell_type": "code",
   "execution_count": 47,
   "metadata": {},
   "outputs": [
    {
     "data": {
      "text/html": [
       "<span style=\"font-size:20px;\"><a class=\"ProveItLink\" href=\"__pv_it/8b8dc4925dcbdd508ed9b8c4a43fa691153824140/expr.ipynb\"><img src=\"data:image/png;base64,iVBORw0KGgoAAAANSUhEUgAAAhMAAAAVBAMAAAAOS3EjAAAAMFBMVEX///+IiIi6urrc3NxERETM\n",
       "zMwQEBCqqqpUVFQiIiJ2dnYyMjLu7u5mZmaYmJgAAABN0h6tAAAAAXRSTlMAQObYZgAABIxJREFU\n",
       "WMPtWF1oFFcUPju7093MTjbzkBYEwTwFLKH6UOhb3UqQWoy7BZG0UFxK+hB8aJDWvigEa0Vp0wpS\n",
       "ddWSpRShRc0+5aE2ZEJDESRUKZSgRJfiQ1HMxrjaNUm7Pfdvdu7s3Lsusk86MD93zjff+e65f+cO\n",
       "AKRuwfN+mNddcrN/hheH8RG5ppZ4ZIqydd1QZvJ0Dy+kvqkuHN6qAYDdPfZ1tKAhqBzt/1xH0F0b\n",
       "mD+26rdHTvavDh/y27c90Cu4JSuQCf6uDeA55YYy3CQl6zh7m1wKRKr4rr3DGzsvpQFuZzWAV0oQ\n",
       "/7OktndhpMsjGgIgYbgj2ZOmMztX8tt36hUYAQWNBE8UlfzRH4p7awFU+jV4OSYKe5Bw0zU1YPYc\n",
       "Xm5v1hA4AJ05jQeDtPicZI8ZpUg2LcbzCl7+ak2BREAcmP8qKukPhX3wIbfeyeeLHPWZJ3QD+ig7\n",
       "rK9vz5+FIGCS9LteHQF2KeM/DcB6hJcZyQPWJD4iahJZxsunTRRslB1IBMRB5B9FJf2hSFFXeOxa\n",
       "Xw/Y97NC6DYM1jAdZuZbbiOgk7r4QEOQwTO6ogHgALUgKnnAmlh9oibJNbQeaE2BTIAzQGxNUUl/\n",
       "KPrirMnsX+p9x/j2C1GoArz3FX266oYAtlCSXzUEFdJFqxpAVxoWQfaANdk4KCaoruPwJrSoQCZI\n",
       "U5JwCedJIUE7it1jstk54Y22dO/4YzE9m9XF7lPssb4M+AATjvdWQUDYIytqAGyaOvIw4CFmDNc+\n",
       "9OzXhOHpFcgEUwsLmYJCY5kU9tOoGRBlM0rMP6NcuisGKqr8bZS9DgOM1xcXBQGZCRLLagBMZIEv\n",
       "52lfo1qLYnmcmDqSgxYVyASI2NCj0JjEJWHXCfpqcGG+Qh92X8ZDzChIxTlzYsox9xIABAAf0z7r\n",
       "agjIUt2VUwNgGqAAWckDMSKG212btYVCAZ73L78jO5AJyIzlqip5DHtVLw0nRmsvRb3uD1gMRvk4\n",
       "w3uEjqBoOgwwTi7xrIaAfFYuqQFkMnFtR/JAa5LghSdgs7REo2CiR3YgEVR4ahEqIUlYEoQ5judJ\n",
       "lkv5UQnRZ0lawbo35MIAdD23dARYSXtIA6BpheVKHkhNRpPcvuJ9plYwHXAgETzguUmohLK3grzh\n",
       "8XQ6/oClCvW0Yg9rjesQAthCvrqgI8Aec7WoAdC0YlD2QBuVzwXWsuc3XAHezNWAA4ngEc9NQiWc\n",
       "F6GIknBk2LR6ystJ34ef5sGm9JMY1SE2zjpGQgBkJT7I17hQAoyz8R1oAB1LYlNU95A0C9bFUfi9\n",
       "yO38CFeAjT54JuAgSCDSiqCEel5hZ1Zd+KTGpF7Z6ko7lTwWv6yNzfdzAfbhPmgAwNzbY2JZVBAc\n",
       "HdisAVyZxv3eeFHyIHZTHZhSz01X//D2XQoFN0r7ZAcBAqczU3HCJch7EO94dXvev0mNu8EN7Q88\n",
       "7VUBmhG07OHAMypoIGhEsFDk9Ft5q9le34I2E0Ch3QQ8FKklPWimGcsMtJnAdtpNwP9XQJO/WKVm\n",
       "LCVoM0Gq7QRgsPQ8/uLfJv23+T8P6C5pPmtDRQAAAABJRU5ErkJggg==\n",
       "\" style=\"display:inline;vertical-align:middle;\" /></a> <a class=\"ProveItLink\" href=\"__pv_it/58eef44330f605d1e4bbb2613a235c6ebcef51b50/proof.ipynb\" style=\"text-decoration: none\">&#x22A2;&nbsp;</a><a class=\"ProveItLink\" href=\"__pv_it/95ffc8806f9eea04e754acb066f911e1afd24b4e0/expr.ipynb\"><img src=\"data:image/png;base64,iVBORw0KGgoAAAANSUhEUgAAAVwAAAAUBAMAAAAzRJiqAAAAMFBMVEX///9UVFTMzMx2dna6uroQ\n",
       "EBCqqqqIiIgiIiJmZmYyMjJERETu7u6YmJjc3NwAAAC+aOQFAAAAAXRSTlMAQObYZgAABC5JREFU\n",
       "SMfNl02IU1cUgE/yYpJJ3ntJi6XGUSez6w8lWRXElslGGEHRhYuhVgxdKRTMppQyi2RTKUWYDEUl\n",
       "TnGGogt/MG+k4hTReYtaOzNQUhQEQRrophRlJuNUh4xOes657+W989TShYtcyH33fvec+84999zz\n",
       "bgDMBvRgiTZfMbCgHu8FsDHQqvX/GID6aGarmRfo9850/3Rg7tjsWu2NsSnBRjs/jV99Gpjv9nSt\n",
       "8WfgtWtVY6D9PWwLTPn19fbIRmxcVv06VWFuZrneYAFMZiX7ogHREw3J2viOJwHdFJpqWC/IwQ23\n",
       "pwZiBwF2HZSMVFMVgPnAyhLh0sJcA4yqWlXdxjpEekaJSQ7N2lsVbOE4VpNNwcLksRMB3b340KVu\n",
       "+DFWd/H3JvXu8V7N4Dv71gVj1RyqaiVpbjLSiGUtiKuN/IWsgHAaq7jNpIzgj5Jg56jeKeViy/SO\n",
       "htQdQjN1qRtbweoz/A1S7zg77FOsIhXBWLVcRPV9TnTMfPOtY260aMFfijbKBXAiY5ciV1FlxPaz\n",
       "PtpzeFfKJZewWsxLXYysPDQFSzwDEz6nBvIIb+lkkVZeFYyDcpZee5a74Wt217vabgu+4k7EPsoJ\n",
       "4gj+bqrxFsA7WwRbJEfAb1IuZZF301J3DQyVb3xyFXikzjyalaSlmKscEU0/I1UAHtjO3XnbC4bh\n",
       "wSxHP8DPkONYieN6LLWs1oPRYyDYkBdOnhzrlfOCRdrjh5oBOTwGzmHHRb9PT82XJ1yGqrXaBIU5\n",
       "3Of+Ni92Rzr7AZRJBVjkvYiVIFRQpxaPwK20YGNZL6905coEBwqCacuQCMoNnX/LicYvATbyUpY9\n",
       "c11GqirM4TD3Ld9R0x7kYT+7MlMb4AG94maQJE4eeyLYId4YW8rNUvWPZIkl0FRe8ljd1tOq9Svo\n",
       "nJI3YNQbpy/m/YxUIfmMt40N++QCFsdcsPYocyOorMRPwodq0hROHnsq2BiHXlbKUawZzwO6Fuhw\n",
       "W7JV0Iuq1VfUuBWnQ6qtCMZHITXVNdf0exeskAoGFI2rrfobKtBNu6EVwTjXaSAYp91bltSl3Akf\n",
       "CRZ53N14cyquTFx3vOljKu2yw4e5v89vbjrBR80sdvWSHzjnidJuzhJs0bOiyyjt6hck49wZTgvm\n",
       "eJHLFfVBMGkFuSnBVNoteEftlPDuHc4XlHuT68pbm5zMcQ49csAWLIp7fsQZdhmtcrgqGUfNzqxg\n",
       "8SXP3EH1QYCjJRzOSzbmpl34TukVux/hvLY9TT5f6FyC6Oyqeul5Nbq5kxm/7oo6DOamMwUQLFRv\n",
       "jfefkUwn3Zm2YHP11hnv8+8sT5/IfBwt+Jl+uvM2THSuUfsHJdO/W1xx4oHb1MOXXNpeMzPt/8F0\n",
       "5xxEdqiPsHtjq0JPluAVxy03e9Pc+f++nvdaeZUXe/PPj/HyPz//AleXWrBbg8W5AAAAAElFTkSu\n",
       "QmCC\n",
       "\" style=\"display:inline;vertical-align:middle;\" /></a></span>"
      ],
      "text/plain": [
       "{A in BOOLEANS, B in BOOLEANS, C in BOOLEANS, D in BOOLEANS, E in BOOLEANS, F in BOOLEANS, G in BOOLEANS, H in BOOLEANS} |- (A or B or C or D or E or F or G or H) in BOOLEANS"
      ]
     },
     "execution_count": 47,
     "metadata": {},
     "output_type": "execute_result"
    }
   ],
   "source": [
    "Or(A,B,C,D,E,F,G,H).deriveInBool(inBool(A,B,C,D,E,F,G,H))"
   ]
  },
  {
   "cell_type": "markdown",
   "metadata": {},
   "source": [
    "trueEval"
   ]
  },
  {
   "cell_type": "code",
   "execution_count": 48,
   "metadata": {},
   "outputs": [
    {
     "data": {
      "text/html": [
       "<span style=\"font-size:20px;\"> <a class=\"ProveItLink\" href=\"__pv_it/ecabf3f74c42f59d007168d7f973ff9172a1e12a0/proof.ipynb\" style=\"text-decoration: none\">&#x22A2;&nbsp;</a><a class=\"ProveItLink\" href=\"__pv_it/fa6873eef77f3f7b906189c0de777c98f258b2b30/expr.ipynb\"><img src=\"data:image/png;base64,iVBORw0KGgoAAAANSUhEUgAAAOYAAAAUBAMAAABrHlyaAAAAMFBMVEX///9UVFTMzMx2dna6uroQ\n",
       "EBCqqqqIiIgiIiJmZmYyMjJERETu7u6YmJjc3NwAAAC+aOQFAAAAAXRSTlMAQObYZgAAAbpJREFU\n",
       "SMe1lq9Pw0AUx1+7pexXl4UgkJvBEBIUC6hJEHOQIOcIhtQRXBGQiokqghxyCELwLDMkyzC4OVJJ\n",
       "CII/gbveRt+7e8cwfcku3fd93vvuuutdAepvkE+c2VOvcnB7ZsLQbiMZl8swERtycBKwNXiQ37xA\n",
       "qc20i7qea26WADixYkRLsdqAmWGa8WNcuCqHGWnmyGZ+QDwZjGgKa9s8SwkubMmhT+fZkNSYeDIY\n",
       "0RT2YvP8IIUV8QuKMW0mb/4BEE8Ow5rCKh2L5wUp9ERRNaHNTsVnRD05DGsKK8QWz2dSCCHAJtBm\n",
       "JXF/H6knh2FNYX66iPbuZQxx5poWngOsac1WAnA6mieDYU1hXmiZ5yEtnGRLfKHVQpiC5slgWFOY\n",
       "+/0/z3Kv0NOb3cCO7slhSFviqd3b+qAEerNPCHVPDkOawoph9n/e/bGG4GlmNKtuBbonhyENryFm\n",
       "nrtaYatvNHPXx4YngyFNYeVti+e+yEXR1XEUNdSDrB4qog1/S7qLCw6ba2InP0p38krT9Oxme18W\n",
       "9bEJfpkSh+naxHaU+THkFW1rZpSXJXuWoTM7j6gm1lRu7ybvtsQPLmCHyvoeiRgAAAAASUVORK5C\n",
       "YII=\n",
       "\" style=\"display:inline;vertical-align:middle;\" /></a></span>"
      ],
      "text/plain": [
       "|- (FALSE or FALSE or TRUE or FALSE or FALSE) = TRUE"
      ]
     },
     "execution_count": 48,
     "metadata": {},
     "output_type": "execute_result"
    }
   ],
   "source": [
    "Or(FALSE,FALSE,TRUE,FALSE,FALSE).evaluation()"
   ]
  },
  {
   "cell_type": "code",
   "execution_count": 49,
   "metadata": {},
   "outputs": [
    {
     "data": {
      "text/html": [
       "<span style=\"font-size:20px;\"><a class=\"ProveItLink\" href=\"__pv_it/a4069ea3008f0d8fc39b9aec39df702217cc458b0/expr.ipynb\"><img src=\"data:image/png;base64,iVBORw0KGgoAAAANSUhEUgAAAQ0AAAAVBAMAAACuzqZ5AAAAMFBMVEX///+IiIi6urrc3NxERETM\n",
       "zMwQEBCqqqpUVFQiIiJ2dnYyMjLu7u5mZmaYmJgAAABN0h6tAAAAAXRSTlMAQObYZgAAAw5JREFU\n",
       "SMfNVk1oE0EY/XaTNZvNus1BD4JgTwUlaA6C4CmWIAaUVChSvTRIPIRKycGfi8VgK0RUFMTWoGIQ\n",
       "KSgoOfWgglsoIhSxFQ8Brc3Bk0KT1qixUeP87e5s2N0gPdSFTebn7Zs3b775ZgBA+wjr+kjzOv5T\n",
       "n8I6P+IJ/KvVmKySvXdLOjl1q5tVtGuNhbFeW78wHm9mLpjV6QPlyl4vgno+PuoywntcU67T1lCt\n",
       "TWbpsHrQXLINMYDFPlt/SArPvK4YqoYBRoY9CLrQNKtZZ8BDXseXX206Yjths9+oDKIBd83Z+v1i\n",
       "ReiL0bKaQGu88asXQRgBUs4AXoc6YrB8KhRKDHXWpNkWRdMJU4sThdtMRyDLdIRO4nVOeREgM8U/\n",
       "zgBehyasUFD/Vkvt/RmDZj9SmiFxLe3TTT+UCNOxiB2X5jwIkuj1rToDeB2RABWrPrdcE29eNCoN\n",
       "gKNXSGlWt9Zl+wANGd9P8mnUg6CODWs4AyZxRSYWqd3SMumToyaq5953I9ylxtKmCVocteIj0zpO\n",
       "i8qyteguBBghrDoDqrhyhkxJBN9vys5H0ZPPxnZAwfMyR5u5OFWWiqQY/MaFrzMBRsgrzoAQWtD+\n",
       "G6RpYKFcJ4Ujz9BjRBEaipGjEBR+kIkNYQDTgTFkV5O9pnoR4KzQlXIBXEI7oIf4gewZIh/s5tX6\n",
       "Icd2P/oXiPk+3g+IydQPkntOexHgz6oVZ0AIg2SMCKB3nE6NR8lQstIHdRVSvI5ciBRp5ih6EaAZ\n",
       "q2kXQNXcL3vQ+4JShnm1WtFKH4PUiXmbH3T9fdgqRfciQK7PllwAk4YOH9aSpHE8YWbdY/CoDGoT\n",
       "l6dQJKfpOMGsmdeLyuMcvMHs5ysQ+MDaHQnQJMW7zgArf6jJpg6nWhT3qle3nUIFVL3culqOs/HV\n",
       "sYjtnAvewY3v8m8NdheC/KGoC8B+vpjPjkSBP3oDevsx/YDmdeM5B/9I0A5gOlLetwOl0/WhCGsk\n",
       "oDq0mjdougOJGoa1EbD7B3S4j1U6kGidRulEACI9HQL/w/30L+1MHGD6X4c1AAAAAElFTkSuQmCC\n",
       "\" style=\"display:inline;vertical-align:middle;\" /></a> <a class=\"ProveItLink\" href=\"__pv_it/a3e8b7e8c38b934e87974ec10f10d6620435f7360/proof.ipynb\" style=\"text-decoration: none\">&#x22A2;&nbsp;</a><a class=\"ProveItLink\" href=\"__pv_it/70012a19a7a6c48d36f2e741fbe03f4e404e6bdc0/expr.ipynb\"><img src=\"data:image/png;base64,iVBORw0KGgoAAAANSUhEUgAAAOgAAAAUBAMAAAB112wpAAAAMFBMVEX///9UVFTMzMx2dna6uroQ\n",
       "EBCqqqqIiIgiIiJmZmYyMjJERETu7u6YmJjc3NwAAAC+aOQFAAAAAXRSTlMAQObYZgAAAq1JREFU\n",
       "SMe1Vj1oU1EUPklek5ef92zEwarYdBNF2smiU0YdihkchFoILtJFs4k4NC5FwSEFEYtC4uBQEVtF\n",
       "QSm2b7Ba6pLNSVNwERFsVLRQbT0/7yfvvt7ikgu599zv3u9895x3z3sBsJvQpXZRv/ROhsMKbPW3\n",
       "p/c/C0F3rlO7pmx8+2Sq+UmhbuTnDwLEVlUt38Njmc9yX6AuzmbPHEC94M0KsuuCDB1YagxgfCxM\n",
       "3dUAaJUh19gmRvZg1eR0sw4Nu6l7z8ggpv00LsbIm1UJiQZY7gXy0psKFVfSJYBhnagpOXhT53GA\n",
       "upuMTCDQQna8l3Y54Uh9LHMOO6OkUPFMxl+AJZ3oZ7GbE0UaMqhkSOzPMYyz5JfyfwpCogFWL9MZ\n",
       "amHqIv7sHwgVNaJX2DScS3yJk8jKSuxtgEMHyBjH34Ii6mH2Os1yq2HqBnlEfqKmEX3F5mt+Dtiq\n",
       "AEckg+0PVyfZMnEyp4h6WOJ34C6gEpjCSC2+SSceUpvp9CCOi/BNTnUZYA8bKbwcS71sVSBWVEQ9\n",
       "zPweiAZUAmM/MfiqJtIzfLa+6X4JZtm76Fm8HKlfnLwqrIAi6mE9f3imUNeobJAfX9tJ1EC6ENLl\n",
       "RFlqDaNMSfJuwzFV1MNMdnteodL5W80dRDm9uNksMWY3TPDLlFKE7QtUI6IuxhUKQwoVr0dulGKp\n",
       "Bs/0vnqRbBTNuKd6KvXNZTooKc8erUREXcymXCQchYplukKJsxqaSI+7tZrdFHBA6hse4EFHxVt8\n",
       "rxMR9TCstOQ9CFPxjWrc4DwMaURP4it/6xEkF9fl+mZk2LfVNzVfdjfO+JQR33Kx3N38LQ8KqPmX\n",
       "XLCZQlR0pOM16DfbiW78Cv+FRajLui+bVYOutWHtykLXNLf9tIU+4l1o2VXtUvf+rnzULfwD6mTE\n",
       "rwFPLyQAAAAASUVORK5CYII=\n",
       "\" style=\"display:inline;vertical-align:middle;\" /></a></span>"
      ],
      "text/plain": [
       "{A in BOOLEANS, B in BOOLEANS, C in BOOLEANS, D in BOOLEANS} |- (A or B or TRUE or C or D) = TRUE"
      ]
     },
     "execution_count": 49,
     "metadata": {},
     "output_type": "execute_result"
    }
   ],
   "source": [
    "Or(A,B,TRUE,C,D).evaluation([inBool(A), inBool(B), inBool(C), inBool(D)])"
   ]
  },
  {
   "cell_type": "markdown",
   "metadata": {},
   "source": [
    "falseEval"
   ]
  },
  {
   "cell_type": "code",
   "execution_count": 50,
   "metadata": {},
   "outputs": [
    {
     "data": {
      "text/html": [
       "<span style=\"font-size:20px;\"><a class=\"ProveItLink\" href=\"__pv_it/41c771e864fa60e8e0a3dc546eaad29747c510a60/expr.ipynb\"><img src=\"data:image/png;base64,iVBORw0KGgoAAAANSUhEUgAAAR8AAAAVBAMAAACNlfesAAAAMFBMVEX///+IiIi6urrc3NxERETM\n",
       "zMwQEBCqqqpUVFQiIiJ2dnYyMjLu7u5mZmaYmJgAAABN0h6tAAAAAXRSTlMAQObYZgAAAmFJREFU\n",
       "SMfNlk1IG0EUx1+My6ZxssmheE1OOXnIzaM9SG1BSQ6CXopSrCg9NELpSSFgD4pEBUEcsOhJEAQ9\n",
       "edCDK5ZeStFeiiK28VboIammVPxInDcpzcZ13uzBQwb27Wzy581v3tv3dgDA+g71MYyvNt7YFtTL\n",
       "aHiF1ir849u4hzldnf8sZw/bY6SEPc5O+5ddkp7q1JopTrSPKxc6RhOcrfzWVHDrzIjjYQAg9IeU\n",
       "NOfA/JZzSUYc87DYdj6t8rLqBPp1TQMZJRHTG0rycVGYHwkSqE/IQ/1egNjYOQ3kE/9bvynJJr6T\n",
       "cSCBoimxrZIXIMt3RgM1in19WiQkob9oX9BASXH5L70AtZglGiicAWPBJiRt0tEeDVTEYrpQeVlB\n",
       "E5DVxWKGTEdwW44DN1Df9OnzNCVZr4prJQ4guYjvUuUlj+ZdSrYA8N/QEYomgA1RkqWUor04gHxY\n",
       "poEzlZcmwdc9J6e9J4dFGugpQqUJyRuZT5sEasTeElZWGUyKe1xuTHS81zQQJj4aoSIkH1MkUPgJ\n",
       "JianjFAGA4gaU1zzjuxnXEDYhmAmRkhkBwqC28tIbRtiA8qF8v+rrFVcO2SEsA0ZZFbbcLZGv0PY\n",
       "hj5vAFllCORHqGTifh27ktEUiY93AiHBvjFmq4D2JYbYdMMHAF0fYskrG96W7yhDnM8Pc54BLlYJ\n",
       "7FycvO+466dGAl+eZd0f3yPOBzlfgEfYU6fK2YmuhNJL7bdMPUwbHkAy6uH8UQHq18mCek8eJMte\n",
       "gayCTrar96SXsIgHIHkeAu2JMaf3pJdYXk6MLyv5r6sz9S2t3stirsYwowAAAABJRU5ErkJggg==\n",
       "\" style=\"display:inline;vertical-align:middle;\" /></a> <a class=\"ProveItLink\" href=\"__pv_it/59077d97569a39896d67a801d7694264a58944f90/proof.ipynb\" style=\"text-decoration: none\">&#x22A2;&nbsp;</a><a class=\"ProveItLink\" href=\"__pv_it/6f28a839861463a4ef78b93058bf20e25cbec0300/expr.ipynb\"><img src=\"data:image/png;base64,iVBORw0KGgoAAAANSUhEUgAAAMAAAAAUBAMAAAApXS8NAAAAMFBMVEX///9UVFTMzMx2dna6uroQ\n",
       "EBCqqqqIiIgiIiJmZmYyMjJERETu7u6YmJjc3NwAAAC+aOQFAAAAAXRSTlMAQObYZgAAAo1JREFU\n",
       "OMutVT1oU1EUPvlp3mvy8lrFwRox7SKilHQS6pSxTu2gIGghuGgns4k4JC4lg0ODP1gUU0UHi5hE\n",
       "FASxfYNVaZc4CQVRcBER2hRtij+N5+e95ibk1qG5kJNzv3v+7zn3AdgV6MAKfdYeLcnf4RY4Gq9O\n",
       "x561gG/L+cqXZuh9vRwro/UDbUwfZPpENkUifmb7mXaVAAr9TZgxDjAx7u3kAH5hMOsAi20cnONI\n",
       "pyTgooPUR5rRNCMJLN3olIpZL1CmexO53STwgcX8NSQ3AAJpjQNTivemQP/+XkIcRjIIfEqrWPgM\n",
       "kuAYkgESuMpixhqS0QpYYxoHX4WvZJJevY4L8hxDPuWoWCFFMVDGYXQelNQjq0hWhgAeaBxcYjbo\n",
       "XOBmmsDfnJxWAQ7tVzF7g3YWZRpC4xFJvadEGWCWwxoHr5h9DQmuoYkhlqS21Y+XJ0HFArWGahbg\n",
       "iHCsl8EMlml3bJbWI9WBGEnCCmdspMGXlNriZS70qpi51nBwEWCPcBnqgTien9dkcILD7ZuOc+BW\n",
       "1uu3CF6asa5iXX94x6fvwJoRuXkiPymV7RwEUV0UbsJROezB6I2aipl0nXCWoe5UICVyv6mJ/27j\n",
       "gEuEwqa02TcqrzcGvh8qxhMAQwzZMyY0xmCBsh9p3MG91ku20UF4VSoz6A4MjUGipGI22QrIkMBT\n",
       "GTMeA2uWuGVNBsPuLEQ2JaK9roWHWLjTThOGnRy64+oOyJhxXCPcH9c0DjCzpfpjCM1vyOC4Lbav\n",
       "3pd/6ZbZw6zbu657umGR9hWr+dhdZu+3WL+Vy53M5a54T8XW+t7m0WqD2U4LYGU1r7X72O14tXvs\n",
       "ZM11xsHi/z44O136ODvzyYzqPpn/AP6zsLSCRYYeAAAAAElFTkSuQmCC\n",
       "\" style=\"display:inline;vertical-align:middle;\" /></a></span>"
      ],
      "text/plain": [
       "{A = FALSE, B = FALSE, C = FALSE, D = FALSE} |- (A or B or C or D) = FALSE"
      ]
     },
     "execution_count": 50,
     "metadata": {},
     "output_type": "execute_result"
    }
   ],
   "source": [
    "Equals(Or(A,B,C,D),FALSE).prove([Equals(A,FALSE), Equals(B,FALSE),Equals(C,FALSE),Equals(D,FALSE)])"
   ]
  },
  {
   "cell_type": "code",
   "execution_count": 51,
   "metadata": {},
   "outputs": [
    {
     "data": {
      "text/html": [
       "<span style=\"font-size:20px;\"><a class=\"ProveItLink\" href=\"__pv_it/a8078e9aae7457a30509e45e2a5f1e2f6a09630b0/expr.ipynb\"><img src=\"data:image/png;base64,iVBORw0KGgoAAAANSUhEUgAAAIsAAAAVBAMAAACEWwD/AAAAMFBMVEX///+IiIi6urrc3NxERETM\n",
       "zMwQEBCqqqpUVFQiIiJ2dnYyMjLu7u5mZmaYmJgAAABN0h6tAAAAAXRSTlMAQObYZgAAAiNJREFU\n",
       "OMtjYGDgu8dACWC9eABE8exioAwwpYJIvg9QbjSqLOM0l9+ZTTDei/+9N1wUUBRIpvhvmwESug3i\n",
       "cU2ACu9Hs4WbVeDI2QcwXgoDA+9XVAUbAnl8QAGyEtkYvv0HUFWxMD1gDHCAhcA/oOv/oipw0GMQ\n",
       "ZUE35vh9AwjjycyZG6DGsBfAjGH8DLToI8Q+z5mzYcaUYxjzQB7i9RAZhGu4dGDGsCQwMBybA3aX\n",
       "4wGEaxYdQTOG6UA9OBx49iB5SjMiAMrhb2BgnQHWf/oAwlNMU1uB9DIQhwPsA4ZDDPECYK4BwpjM\n",
       "/0kwTnzfQ88CMKsZETZq87+BfPAexCmDWKjAYH8BrBk5iLneLYBy5A0YeDIgmpGDeN0rUJQCNYZM\n",
       "hsRE791+sIKw3UAAC2KQSghwAxkFcg5rNkgBzBiQGgaGTqA/1MCuYWJgYANrNkF2DYMDB5TzA2QM\n",
       "yNfMKK5hYWgAuqYBFBhgcaBFnAkgBhuKMQ3ciGTD0A+OygRkYzgYNkDDBhxTzEBjuMG5glcAxTWv\n",
       "EMmG9QuYeRHFNXwLoDEFNsYSpO0zWHI6IjMs4FrbwHAe5FduoBvUfMDCnAXwzBDFsOoGcro58n8P\n",
       "A7v/T3BUnXA6gJI1OYGJjmP/j7st7hDNPC06aFkTJRXDgZYnJDPAQA16wbAEmhlgAGJMAoHyZAGh\n",
       "AmclSnmDA/AIEDIGXN4wECj9+AiWfpAcw06FshgA246bXRlQ7owAAAAASUVORK5CYII=\n",
       "\" style=\"display:inline;vertical-align:middle;\" /></a> <a class=\"ProveItLink\" href=\"__pv_it/74d71b0a971d22a19fc2e0b2a48ecc0843d6d04c0/proof.ipynb\" style=\"text-decoration: none\">&#x22A2;&nbsp;</a><a class=\"ProveItLink\" href=\"__pv_it/d873851b9e308aa1744bd1f78128ed8fa7312d670/expr.ipynb\"><img src=\"data:image/png;base64,iVBORw0KGgoAAAANSUhEUgAAAGwAAAAUBAMAAACaOcVSAAAAMFBMVEX///9UVFTMzMx2dna6uroQ\n",
       "EBCqqqqIiIgiIiJmZmYyMjJERETu7u6YmJjc3NwAAAC+aOQFAAAAAXRSTlMAQObYZgAAAdhJREFU\n",
       "OMt9VD0sQ1EU/tr3tE/7+jTSxU9oN2GoVSzGDhUGQ8PS0aabiIGFiBgqBjERYRHhRQhJgzcgtEsT\n",
       "g0TSMNpoIohB3XtOW32NvjPcc75z7/l537n3AUYeDuJ5brCRY9Vb5w50Fzc6joEuu9u7kPlOhIRx\n",
       "wPiQ1rBc3GQ2mcBmGNm6dD53KneXRyDNyQ8tqVrl8kCeqGh+JA0lZQ/zq3lv2ITGzd9sko7IZYU8\n",
       "c8LxlII+Wm76bGm5HOZJmnhhb35uiFoQZ1WufwLoCdHCDiH3qVWtpsRNzBBQrSki1CNC/Fy/CPR0\n",
       "Cj1AKGv9NRmLhHFO4ApR/oZ5oI/TFwuzi9J4JNj1922J0hhAWxjCK7c2DYSY6R/gOiiMSYJmDSVK\n",
       "oR9jlLpto5s3bqFv8bagwvshGaUD43tCymEwhzlMFWPi081JJUlGi6jk/ayEGbXVYLq4SXFSY6KN\n",
       "LQ3VsbnehREjOFobFvQRJYYI872x+4iHTWOLmlVK1m3V7olfOTv/D7sjPGzsitYnJOtrBLVk9XL1\n",
       "KwNB2UOutA/P5RdT6WPVXmpbzdDRbcJ6R9x2lbW6l2FYdqzPs1YH+XJVHkgajlJ/lSty4RyWdX6m\n",
       "jaRRVuefQuD/n8IvKVd8tEBgfOAAAAAASUVORK5CYII=\n",
       "\" style=\"display:inline;vertical-align:middle;\" /></a></span>"
      ],
      "text/plain": [
       "{A in BOOLEANS, B in BOOLEANS} |- (A or B) in BOOLEANS"
      ]
     },
     "execution_count": 51,
     "metadata": {},
     "output_type": "execute_result"
    }
   ],
   "source": [
    "inBool(Or(A,B)).prove([inBool(A), inBool(B)])"
   ]
  },
  {
   "cell_type": "code",
   "execution_count": 52,
   "metadata": {},
   "outputs": [
    {
     "data": {
      "text/html": [
       "<span style=\"font-size:20px;\"><a class=\"ProveItLink\" href=\"__pv_it/a4069ea3008f0d8fc39b9aec39df702217cc458b0/expr.ipynb\"><img src=\"data:image/png;base64,iVBORw0KGgoAAAANSUhEUgAAAQ0AAAAVBAMAAACuzqZ5AAAAMFBMVEX///+IiIi6urrc3NxERETM\n",
       "zMwQEBCqqqpUVFQiIiJ2dnYyMjLu7u5mZmaYmJgAAABN0h6tAAAAAXRSTlMAQObYZgAAAw5JREFU\n",
       "SMfNVk1oE0EY/XaTNZvNus1BD4JgTwUlaA6C4CmWIAaUVChSvTRIPIRKycGfi8VgK0RUFMTWoGIQ\n",
       "KSgoOfWgglsoIhSxFQ8Brc3Bk0KT1qixUeP87e5s2N0gPdSFTebn7Zs3b775ZgBA+wjr+kjzOv5T\n",
       "n8I6P+IJ/KvVmKySvXdLOjl1q5tVtGuNhbFeW78wHm9mLpjV6QPlyl4vgno+PuoywntcU67T1lCt\n",
       "TWbpsHrQXLINMYDFPlt/SArPvK4YqoYBRoY9CLrQNKtZZ8BDXseXX206Yjths9+oDKIBd83Z+v1i\n",
       "ReiL0bKaQGu88asXQRgBUs4AXoc6YrB8KhRKDHXWpNkWRdMJU4sThdtMRyDLdIRO4nVOeREgM8U/\n",
       "zgBehyasUFD/Vkvt/RmDZj9SmiFxLe3TTT+UCNOxiB2X5jwIkuj1rToDeB2RABWrPrdcE29eNCoN\n",
       "gKNXSGlWt9Zl+wANGd9P8mnUg6CODWs4AyZxRSYWqd3SMumToyaq5953I9ylxtKmCVocteIj0zpO\n",
       "i8qyteguBBghrDoDqrhyhkxJBN9vys5H0ZPPxnZAwfMyR5u5OFWWiqQY/MaFrzMBRsgrzoAQWtD+\n",
       "G6RpYKFcJ4Ujz9BjRBEaipGjEBR+kIkNYQDTgTFkV5O9pnoR4KzQlXIBXEI7oIf4gewZIh/s5tX6\n",
       "Icd2P/oXiPk+3g+IydQPkntOexHgz6oVZ0AIg2SMCKB3nE6NR8lQstIHdRVSvI5ciBRp5ih6EaAZ\n",
       "q2kXQNXcL3vQ+4JShnm1WtFKH4PUiXmbH3T9fdgqRfciQK7PllwAk4YOH9aSpHE8YWbdY/CoDGoT\n",
       "l6dQJKfpOMGsmdeLyuMcvMHs5ysQ+MDaHQnQJMW7zgArf6jJpg6nWhT3qle3nUIFVL3culqOs/HV\n",
       "sYjtnAvewY3v8m8NdheC/KGoC8B+vpjPjkSBP3oDevsx/YDmdeM5B/9I0A5gOlLetwOl0/WhCGsk\n",
       "oDq0mjdougOJGoa1EbD7B3S4j1U6kGidRulEACI9HQL/w/30L+1MHGD6X4c1AAAAAElFTkSuQmCC\n",
       "\" style=\"display:inline;vertical-align:middle;\" /></a> <a class=\"ProveItLink\" href=\"__pv_it/b1df695420a92cfdbe651862efe7f8e2c13f0bcc0/proof.ipynb\" style=\"text-decoration: none\">&#x22A2;&nbsp;</a><a class=\"ProveItLink\" href=\"__pv_it/d5ac6f783d92e4249756f2632eb5a547bbe38c3f0/expr.ipynb\"><img src=\"data:image/png;base64,iVBORw0KGgoAAAANSUhEUgAAALwAAAAUBAMAAADFKEobAAAAMFBMVEX///9UVFTMzMx2dna6uroQ\n",
       "EBCqqqqIiIgiIiJmZmYyMjJERETu7u6YmJjc3NwAAAC+aOQFAAAAAXRSTlMAQObYZgAAAp1JREFU\n",
       "OMutVU1oE1EQnmRjNuavOXgwRpv1poIkJ6EomIsQodIeegh6MEd7MhcP0kNysYgITZEqvVgRe1DE\n",
       "bEBRKLZ7sEITkBVvQrFHESGNaCoVG+fN7CaZ0IpgHmTy5nvzJt/OfJkFiNowgOXf2OOgzl8n+uBI\n",
       "sjmfeN4HhqfiR6JpAb1vVxNVzD0sI/UbS9u5A7h5xn5FGS9tDbL7TIAFQ2LXbPDP2RLbRiotgFof\n",
       "k6C3UF+zIVJmshULrUfdiBQISWGasbLA6rfRLGwIzLuFZg5AK8j0IZ+tGyYEuGhv1S3wxtAELEKK\n",
       "CHwqCGxR2XMyTv+GZsyG8LhT1Fc3bznp/XkTPjNqFzPgVOo8Iy+w1DmrF9vfUva4jAttomlgPx6R\n",
       "631pddhroyZcJ8dnXSUBTeJnmc+bAMcOC6xRUvadjBsyFXt8mhFya1a3ONmjBrwm5w2kqHYB/H2T\n",
       "aTTXp6ZBYGe75e3G0b0isv9I7nC39rn2BACnyECDWqwXwJNhZe0ArMYENmN0ddeJKyowifsr5Jo9\n",
       "rdXW0zBBVOPzSToIl1yFhbBVektgl+nBLRm3oswP9RiU6OITXE56MC9weh/K/AFF34VTfG0Imetb\n",
       "Apuhv6ch434ptfx200d72YPp4eLksZosrC9Qgo7sPd8FRtrVQGAk+1WVNEv+eG/6WJBaG8X0wU1G\n",
       "Tzr9U7JPmQJrqK8zIDAl+zBVg1t7T7D/QHpS2g/tMJuDjrIWsWSXLIH5sQaTzrGLKVZZUsUdllS+\n",
       "MxTS2khMPVO9/RT8Kz95Ojzm00Pt+OySG+pgsFaNZ0BgnkpzNnGftg956CVGxUgL9E3Sr7sM1X/B\n",
       "wk7PfKd5KLiDtwwDWf0jzV3Lg0lf+/vr5H/XXiwH8zKM7P4y/AOcuMYfYjeKmgAAAABJRU5ErkJg\n",
       "gg==\n",
       "\" style=\"display:inline;vertical-align:middle;\" /></a></span>"
      ],
      "text/plain": [
       "{A in BOOLEANS, B in BOOLEANS, C in BOOLEANS, D in BOOLEANS} |- (A or B or C or D) in BOOLEANS"
      ]
     },
     "execution_count": 52,
     "metadata": {},
     "output_type": "execute_result"
    }
   ],
   "source": [
    "inBool(Or(A,B,C,D)).prove([inBool(A), inBool(B), inBool(C), inBool(D)])"
   ]
  },
  {
   "cell_type": "code",
   "execution_count": 53,
   "metadata": {},
   "outputs": [
    {
     "data": {
      "text/html": [
       "<span style=\"font-size:20px;\"><a class=\"ProveItLink\" href=\"__pv_it/03347181a58e856c43d1f29d7e7bd28992a50b540/expr.ipynb\"><img src=\"data:image/png;base64,iVBORw0KGgoAAAANSUhEUgAAAKcAAAAVBAMAAADROuOhAAAAMFBMVEX///+IiIi6urrc3NxERETM\n",
       "zMwQEBCqqqpUVFQiIiJ2dnYyMjLu7u5mZmaYmJgAAABN0h6tAAAAAXRSTlMAQObYZgAAAkxJREFU\n",
       "OMutVT1oFFEQ/vZ+vLvNuiZg71WCILidqeRQsc0VKWKVIFqIzYEiWAgStRAVDwKKIYJpAhbCImiR\n",
       "xlQBsVm7qCRGLEXPqOCBP3Hmzdu3790uFwsHvn375r58O/NmMg9AuIH/Z9VXK7wEy473iIZj5wcd\n",
       "OUYtEqB0hrfhF/vHoCWwvh0D9ciVsBjhnf76taPAVQjwlh9+16aPRALLQx8NYnkvW6zUdtEH3rXx\n",
       "kl4ZeJQX/aSR2cdf9FjUYknGSm16EziUwB+FQpHonEaW6eVv9FyVzeRCxkptH0XdG0UwA4UC0XJX\n",
       "kFnofeUQm2ozO2ZYxk6Q2Fkq+RMI8qJeIsjsYO0Pk5QviBuGZawPnLxF62ONJXbWY4tR2RRk2Ter\n",
       "WxyvIvkdv5OyTHP0P++9p85eo8ebi23g9X2yedo0OgLjKKH8m9tQpdNAWYnbDI+OfPUKOS9pcDEn\n",
       "zaGPc380BcYxtb72neNRzfweuA64jAoVx/vBXaCBG9QD+9vDROn9nBGl2k8Niu6hKL0tS3SEw663\n",
       "LI00/dRRo+UunwKnX0t029sMbtM6N8gBjZ5T/fHBQpHjMC3P00KxIAs7DG7T6ZZVqCVHtKpbx0+M\n",
       "QzXkBP3Z7ofc+voIbAaeURqneTK90cj3KadZMo5g4ucKLmw/oCD54GfZNwabgZvbt9eOq9N4qvEv\n",
       "/6ZiLyBFk3yKGEFXoEVnhg8UZYvutoDhDhR3nlYiwUAYsbvPM7LRp+YplocP6SKRPAPHNEqn5CbY\n",
       "2PE6+bDjdRJGAnVH/QU/I6dLKNK6cgAAAABJRU5ErkJggg==\n",
       "\" style=\"display:inline;vertical-align:middle;\" /></a> <a class=\"ProveItLink\" href=\"__pv_it/4cd7b481512089b4466051474cdb069d3c12b0560/proof.ipynb\" style=\"text-decoration: none\">&#x22A2;&nbsp;</a><a class=\"ProveItLink\" href=\"__pv_it/6be0ca65fe4dbca58dfc1a28df036ccc656fb6d20/expr.ipynb\"><img src=\"data:image/png;base64,iVBORw0KGgoAAAANSUhEUgAAADcAAAAPBAMAAACy3Eq1AAAAMFBMVEX///92dnYiIiIQEBBERERU\n",
       "VFS6urqIiIjc3NxmZmaqqqru7u6YmJgyMjLMzMwAAADiRdoGAAAAAXRSTlMAQObYZgAAAQVJREFU\n",
       "GNNjYACBtwyogCf+68wQNyjnPojgAzMfgElmBwaG+RAmz/0NQJIVxOEpAIu8P8DAkD8BzNw1vwGk\n",
       "MwBIMG0Ai9QDBc5D1B2oTwBRN4A4E2KPMwMDtxFYHduG9QdA9Eog9oBIfmVgeBQNZm1jeA82gQlo\n",
       "tANYhO/rmRItiLIEhn6w3ewFDKxg8xnYfzAwbA4AK4ucGQ/WwK3AsBeinMUAqOAX2Eqgty6AxWYx\n",
       "SEEk+YG62L+DWAuAthmAxXoZFBjg3mT9BmRwACV5P0BMewPxGtib70FWNYFEf0AcGQQJAobLQMtM\n",
       "gOwt/28zcPl/ggTVTYhc7P/IqS4L0CKDoRuVCwDjpEGwITo9cgAAAABJRU5ErkJggg==\n",
       "\" style=\"display:inline;vertical-align:middle;\" /></a></span>"
      ],
      "text/plain": [
       "{[not]([not](A) and [not](B))} |- A or B"
      ]
     },
     "execution_count": 53,
     "metadata": {},
     "output_type": "execute_result"
    }
   ],
   "source": [
    "Or(A,B).prove([Not(And(Not(A), Not(B)))])"
   ]
  },
  {
   "cell_type": "code",
   "execution_count": 54,
   "metadata": {},
   "outputs": [
    {
     "data": {
      "text/html": [
       "<span style=\"font-size:20px;\"><a class=\"ProveItLink\" href=\"__pv_it/f651699891e872c11e7e92ad6c5683a5bbf7f55d0/expr.ipynb\"><img src=\"data:image/png;base64,iVBORw0KGgoAAAANSUhEUgAAAO0AAAAVBAMAAABYonTIAAAAMFBMVEX///+IiIi6urrc3NxERETM\n",
       "zMwQEBCqqqpUVFQiIiJ2dnYyMjLu7u5mZmaYmJgAAABN0h6tAAAAAXRSTlMAQObYZgAAAxpJREFU\n",
       "SMe9Vk1IVFEUPs44Pef5fI0Q7cJZDQgtZldtUjD6gchZuHATShQELRKKwIUgVosWYwNBVhiOGyEo\n",
       "GgxbuFFoEEKCaRNmqCNtAgmzjIRSO+fcd+ed+94w06oL5/6c993v3HvuOfc+AHBX4b+W2Pt5apxZ\n",
       "Q3vSE6PcCCqi5YDCSgchIRKCMCxyhYbuN/nR6VQillcAaAqyFv3ul/3s0qkk3A4gJIlzKDsazTOE\n",
       "YZ+osnMS3pxWIjS4LqfgbVMrXwnAZYCWn7AIJkSSHC6D9aHMEIY9C9v96olfNv5gNemRlVTrloQ/\n",
       "9tBzu2AnTIggKY5jtZZmCMOq2H3gie+joR9YL6hBz7hq42IzDfjd3QKn34QIktcURylgCMPCdqM5\n",
       "JX5xG77TLpI8GGlVyhMC0IhMC2hsGiREkLT8ovoiKMh0VbsNJSV+OWrtEYh1TiGulEcE4OAwxB7h\n",
       "jl6AhAiSDjbwBhSEZIoUTQW5+LIS383J2BbtmkH2gD3A2gsC0Te6fo60GyAhguRlohIqnmzS4FYG\n",
       "XfGYSh4PbkDJRxo/oVyD6C7lHq85DlG1yDExpS0NzlXUDYKECJKJjLY76AnFXk8lAKLDAAeSSrgc\n",
       "R+ldWdqmoOUkXwe4y18uiSmnsW1DK30gIYLkOl9PVPV5AvfQBalMLbvYv1axi9HTG7K7Q3YT2q6G\n",
       "CJIJvqwywm7zMJ1vpyDRftZ2LWwekrvJz1ZJXwdj/hRKX7iPVtpBQgTJGo1t6rd7smnEM9k14grt\n",
       "HsNmTscVEVolGVc4hdI3tq3jqgIRJB0UV89lXE2ZeZRR+WLrFIipLOxGrpY8XQmeI3XO8JRmTN/U\n",
       "eewug4QIEkrEIT7jZU/C+Uv+jFQUTvfvebi5/xT3QcczQrpW7TBVmuZ2Vu6cod4MSEhEsL47m1Wn\n",
       "PePJv9yTqrwFFWO0/sA9qdeYMyFVSAjCMGW3v/a7wGXSHLqlEMJOmOMqJOa7YL6/jWklgZUWAoqu\n",
       "EOliYBwm8d9Bfn9htva7X5WkGCLtqvHuCwhJRKW/tVr3P+dz3f8ct/5/DkFI+P/qL9EI4jA70D4c\n",
       "AAAAAElFTkSuQmCC\n",
       "\" style=\"display:inline;vertical-align:middle;\" /></a> <a class=\"ProveItLink\" href=\"__pv_it/f47d81372f679fccacd760e926ca4bdb79b43c5e0/proof.ipynb\" style=\"text-decoration: none\">&#x22A2;&nbsp;</a><a class=\"ProveItLink\" href=\"__pv_it/17dba683f9b3310e7cb5d2b58da3bc87973237880/expr.ipynb\"><img src=\"data:image/png;base64,iVBORw0KGgoAAAANSUhEUgAAAF8AAAAPBAMAAABw7A4xAAAAMFBMVEX///92dnYiIiIQEBBERERU\n",
       "VFS6urqIiIjc3NxmZmaqqqru7u6YmJgyMjLMzMwAAADiRdoGAAAAAXRSTlMAQObYZgAAAWRJREFU\n",
       "KM+Fkb1LA0EQxZ/RS+IlntZamFqLBLE34Ad2BrE5VHJgZeWB6SO2IgmIRWyS1soDg6gg5A8QFNIo\n",
       "Fgl2gnIinIYgxJnZEN00Luyb4Tf78XYW4PEGfcSzQWltqQ/GcvZGdEzlDRZL0qboYBooN3W2W4N5\n",
       "VFMHNjxSg3ncFeJTYaeoseo0SXlPytcSrQxJyBOSJ3DnaqzOuqUc1fIOhwea24rMk+UZ7y8bbrO+\n",
       "SDXsnYm1U5rLakMAPK9rrJBgvZTqBXxxGSILaSFWcJubgsYm3d9+OSgUOUZcGOINkRZwntFYstlb\n",
       "b9mlrBwSS+BGoaEULW1rbE5eLhKmtt8LPMG42jBKp0e+NJZkMeWaCjlNCTxEAr1vMD41Jp0f4CxK\n",
       "G0belZPX7sv4G/y0xgocJjjbZ9pSr1lV34Y6GZ31NGZ+U485rXaeYK58SJvwqNZvduzjhUq3J12G\n",
       "q0XbQf84AP5jP88pZENHh0v0AAAAAElFTkSuQmCC\n",
       "\" style=\"display:inline;vertical-align:middle;\" /></a></span>"
      ],
      "text/plain": [
       "{[not]([not](A) and [not](B) and [not](C))} |- A or B or C"
      ]
     },
     "execution_count": 54,
     "metadata": {},
     "output_type": "execute_result"
    }
   ],
   "source": [
    "Or(A, B, C).prove([Not(And(Not(A),Not(B),Not(C)))])"
   ]
  },
  {
   "cell_type": "code",
   "execution_count": 55,
   "metadata": {},
   "outputs": [],
   "source": [
    "%end demonstrations"
   ]
  },
  {
   "cell_type": "code",
   "execution_count": null,
   "metadata": {},
   "outputs": [],
   "source": []
  }
 ],
 "metadata": {
  "kernelspec": {
   "display_name": "Python 3",
   "language": "python",
   "name": "python3"
  }
 },
 "nbformat": 4,
 "nbformat_minor": 0
}
