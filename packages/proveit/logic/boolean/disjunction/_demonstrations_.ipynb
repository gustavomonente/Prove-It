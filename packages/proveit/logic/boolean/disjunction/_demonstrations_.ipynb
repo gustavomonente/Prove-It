{
 "cells": [
  {
   "cell_type": "markdown",
   "metadata": {},
   "source": [
    "Demonstrations for context <a class=\"ProveItLink\" href=\"_context_.ipynb\">proveit.logic.boolean.disjunction</a>\n",
    "========"
   ]
  },
  {
   "cell_type": "code",
   "execution_count": null,
   "metadata": {},
   "outputs": [],
   "source": [
    "import proveit\n",
    "from proveit import defaults\n",
    "from proveit._common_ import A, B, C, D, E,F,G,H,I,J,K,L, m\n",
    "from proveit.number import num, NaturalsPos\n",
    "from proveit.logic import Booleans, inBool, InSet, Or, And, TRUE, FALSE, Not, Implies, Equals\n",
    "from proveit.logic.boolean.disjunction._theorems_ import closure, eachInBool\n",
    "%begin demonstrations"
   ]
  },
  {
   "cell_type": "code",
   "execution_count": null,
   "metadata": {},
   "outputs": [],
   "source": [
    "closure"
   ]
  },
  {
   "cell_type": "code",
   "execution_count": null,
   "metadata": {},
   "outputs": [],
   "source": [
    "closure_spec = closure.instantiate({m:m}, assumptions=[InSet(m, NaturalsPos)])"
   ]
  },
  {
   "cell_type": "code",
   "execution_count": null,
   "metadata": {},
   "outputs": [],
   "source": [
    "closure.instantiate({m:num(4), A:C}, num_forall_eliminations=1)"
   ]
  },
  {
   "cell_type": "code",
   "execution_count": null,
   "metadata": {},
   "outputs": [],
   "source": [
    "demo1 = closure.instantiate({m:num(4), A:[A, B, C, D]}, assumptions = [inBool(A), inBool(B), inBool(C), inBool(D)])"
   ]
  },
  {
   "cell_type": "code",
   "execution_count": null,
   "metadata": {},
   "outputs": [],
   "source": [
    "demo1.element.deducePartInBool(1, assumptions=[demo1.expr])"
   ]
  },
  {
   "cell_type": "code",
   "execution_count": null,
   "metadata": {},
   "outputs": [],
   "source": [
    "eachInBool"
   ]
  },
  {
   "cell_type": "code",
   "execution_count": null,
   "metadata": {},
   "outputs": [],
   "source": []
  },
  {
   "cell_type": "code",
   "execution_count": null,
   "metadata": {},
   "outputs": [],
   "source": [
    "Or(TRUE,TRUE).prove()"
   ]
  },
  {
   "cell_type": "code",
   "execution_count": null,
   "metadata": {},
   "outputs": [],
   "source": [
    "Or(TRUE,FALSE).prove()"
   ]
  },
  {
   "cell_type": "code",
   "execution_count": null,
   "metadata": {},
   "outputs": [],
   "source": [
    "Or(FALSE,TRUE).prove()"
   ]
  },
  {
   "cell_type": "code",
   "execution_count": null,
   "metadata": {},
   "outputs": [],
   "source": [
    "Not(Or(FALSE,FALSE)).prove()"
   ]
  },
  {
   "cell_type": "code",
   "execution_count": null,
   "metadata": {},
   "outputs": [],
   "source": [
    "Or(A,B).prove([A,B])"
   ]
  },
  {
   "cell_type": "code",
   "execution_count": null,
   "metadata": {},
   "outputs": [],
   "source": [
    "Or(A,B).prove([A,Not(B)])"
   ]
  },
  {
   "cell_type": "code",
   "execution_count": null,
   "metadata": {},
   "outputs": [],
   "source": [
    "Or(A,B).prove([B,Not(A)])"
   ]
  },
  {
   "cell_type": "code",
   "execution_count": null,
   "metadata": {},
   "outputs": [],
   "source": [
    "Not(Or(A,B)).prove([Not(A), Not(B)])"
   ]
  },
  {
   "cell_type": "code",
   "execution_count": null,
   "metadata": {},
   "outputs": [],
   "source": [
    "Or(A,B).deriveContradiction([Not(A),Not(B), Or(A,B)])"
   ]
  },
  {
   "cell_type": "code",
   "execution_count": null,
   "metadata": {},
   "outputs": [],
   "source": [
    "Or(A,B).deriveLeftIfNotRight([inBool(A), inBool(B), Not(B), Or(A,B)])"
   ]
  },
  {
   "cell_type": "code",
   "execution_count": null,
   "metadata": {},
   "outputs": [],
   "source": [
    "Or(A,B).deriveRightIfNotLeft([*inBool(A,B), Not(A), Or(A,B)])"
   ]
  },
  {
   "cell_type": "code",
   "execution_count": null,
   "metadata": {},
   "outputs": [],
   "source": [
    "Or(A,B).deriveViaDilemma(C,assumptions=[Or(A,B),inBool(B),Implies(A,C), Implies(B,C), inBool(A), Implies(A,Or(C,D)), Implies(B, Or(C,D))])"
   ]
  },
  {
   "cell_type": "code",
   "execution_count": null,
   "metadata": {},
   "outputs": [],
   "source": [
    "Or(A,B,C,D).deriveViaDilemma(E,[Or(A,B,C,D),Implies(A,E), Implies(B,E), Implies(C,E), Implies(D,E), inBool(A) ,inBool(B),inBool(C),inBool(D)])"
   ]
  },
  {
   "cell_type": "code",
   "execution_count": null,
   "metadata": {},
   "outputs": [],
   "source": [
    "Or(A,B).prove([inBool(B), A, inBool(A)])"
   ]
  },
  {
   "cell_type": "code",
   "execution_count": null,
   "metadata": {},
   "outputs": [],
   "source": [
    "Or(A,B).prove([inBool(A), inBool(B), B])"
   ]
  },
  {
   "cell_type": "code",
   "execution_count": null,
   "metadata": {},
   "outputs": [],
   "source": [
    "Or(C,D).deriveViaDilemma(Or(C,D),[Or(A,B), Or(C,D),Implies(A,C), Implies(A,C),Implies(B,D), inBool(A), inBool(B), inBool(C), inBool(D)])"
   ]
  },
  {
   "cell_type": "code",
   "execution_count": null,
   "metadata": {},
   "outputs": [],
   "source": [
    "Or(A,B,C,D).deriveViaMultiDilemma(Or(H,I,J,K),[Or(A,B,C,D), Implies(A,H), Implies(B,I), Implies(C,J), Implies(D,K),inBool(A), inBool(B), inBool(C), inBool(D), inBool(H), inBool(I), inBool(J), inBool(K)])"
   ]
  },
  {
   "cell_type": "code",
   "execution_count": null,
   "metadata": {},
   "outputs": [],
   "source": [
    "Or(A,B,C,D).deriveViaDilemma(Or(H,I,J,K),[Or(A,B,C,D), Implies(A,H), Implies(B,I), Implies(C,J), Implies(D,K),inBool(A), inBool(B), inBool(C), inBool(D), inBool(H), inBool(I), inBool(J), inBool(K)])"
   ]
  },
  {
   "cell_type": "code",
   "execution_count": null,
   "metadata": {},
   "outputs": [],
   "source": [
    "Or(H, I, J, K).deducePartInBool(2, [Or(H, I, J, K)])"
   ]
  },
  {
   "cell_type": "markdown",
   "metadata": {},
   "source": [
    "destructiveDilemma"
   ]
  },
  {
   "cell_type": "code",
   "execution_count": null,
   "metadata": {},
   "outputs": [],
   "source": [
    "Or(Not(C),Not(D)).deriveViaDilemma(Or(Not(A),Not(B)),[Or(Not(C),Not(D)), Implies(A,C), Implies(B,D),inBool(A),inBool(B),inBool(C),inBool(D)])"
   ]
  },
  {
   "cell_type": "code",
   "execution_count": null,
   "metadata": {},
   "outputs": [],
   "source": [
    "Or(Not(A), Not(B), Not(C), Not(D)).deriveViaDilemma(Or(Not(H), Not(I), Not(J), Not(K)),[Or(Not(A), Not(B), Not(C), Not(D)),Implies(A,H), Implies(B,I), Implies(C,J), Implies(D,K),inBool(A), inBool(B), inBool(C), inBool(D), inBool(H), inBool(I), inBool(J), inBool(K)])"
   ]
  },
  {
   "cell_type": "code",
   "execution_count": null,
   "metadata": {},
   "outputs": [],
   "source": [
    "Not(A).prove([Not(Or(A,B))])"
   ]
  },
  {
   "cell_type": "code",
   "execution_count": null,
   "metadata": {},
   "outputs": [],
   "source": [
    "Not(B).prove([Not(Or(A,B))])"
   ]
  },
  {
   "cell_type": "code",
   "execution_count": null,
   "metadata": {},
   "outputs": [],
   "source": [
    "reduction = Or(A).unaryReduction([inBool(A)])"
   ]
  },
  {
   "cell_type": "code",
   "execution_count": null,
   "metadata": {},
   "outputs": [],
   "source": [
    "inBool(B).prove([inBool(Or(A,B,C))])"
   ]
  },
  {
   "cell_type": "code",
   "execution_count": null,
   "metadata": {},
   "outputs": [],
   "source": [
    "Or(A,B,C).prove([A,inBool(A),inBool(B),inBool(C)])"
   ]
  },
  {
   "cell_type": "code",
   "execution_count": null,
   "metadata": {},
   "outputs": [],
   "source": [
    "Not(Or(A,B,C)).prove([Not(A), Not(B), Not(C)])"
   ]
  },
  {
   "cell_type": "code",
   "execution_count": null,
   "metadata": {},
   "outputs": [],
   "source": [
    "Or(A,B,C).deriveContradiction([Or(A,B,C), Not(A), Not(B), Not(C)])"
   ]
  },
  {
   "cell_type": "code",
   "execution_count": null,
   "metadata": {},
   "outputs": [],
   "source": [
    "groupCD = Or(A,B,C,D,E,F,G).associate(2,length=2,assumptions=[Or(A,B,Or(C,D),E,F,G),Or(A,B,C,D,E,F,G),inBool(A), inBool(B),inBool(C),inBool(D),inBool(E),inBool(F),inBool(G)])"
   ]
  },
  {
   "cell_type": "code",
   "execution_count": null,
   "metadata": {},
   "outputs": [],
   "source": [
    "groupCD.disassociate(2, assumptions=[groupCD.expr])"
   ]
  },
  {
   "cell_type": "code",
   "execution_count": null,
   "metadata": {},
   "outputs": [],
   "source": [
    "Or(A,B,C,D,E).commutation(1,3, inBool(A,B,C,D,E))"
   ]
  },
  {
   "cell_type": "code",
   "execution_count": null,
   "metadata": {},
   "outputs": [],
   "source": [
    "Or(A,B,C,D,E).commutation(-1,0, inBool(A,B,C,D,E))"
   ]
  },
  {
   "cell_type": "code",
   "execution_count": null,
   "metadata": {},
   "outputs": [],
   "source": [
    "Or(A,B,C,D,E,F,G,H,I).commute(3, 5, [Or(A,B,C,D,E,F,G,H,I), *inBool(A,B,C,D,E,F,G,H,I)])"
   ]
  },
  {
   "cell_type": "code",
   "execution_count": null,
   "metadata": {},
   "outputs": [],
   "source": [
    "Or(A,B,C,D,E,F,G,H,I).commute(6, 3, [Or(A,B,C,D,E,F,G,H,I), *inBool(A,B,C,D,E,F,G,H,I)])"
   ]
  },
  {
   "cell_type": "code",
   "execution_count": null,
   "metadata": {},
   "outputs": [],
   "source": [
    "Or(A,B,C,D,E,F,G,H,I).groupCommute(0, 3, length=2, assumptions=[Or(A,B,C,D,E,F,G,H,I), *inBool(A,B,C,D,E,F,G,H,I)])"
   ]
  },
  {
   "cell_type": "code",
   "execution_count": null,
   "metadata": {},
   "outputs": [],
   "source": [
    "Or(A,B,C,D).groupCommute(0, 1, length=2, assumptions=[Or(A,B,C,D)])"
   ]
  },
  {
   "cell_type": "code",
   "execution_count": null,
   "metadata": {},
   "outputs": [],
   "source": [
    "Or(A,B,C,D).groupCommutation(1, 0, length=2, assumptions=inBool(A,B,C,D))"
   ]
  },
  {
   "cell_type": "code",
   "execution_count": null,
   "metadata": {},
   "outputs": [],
   "source": [
    "And(A, B, Or(A,B,C,D)).innerExpr().operands[2].groupCommutation(0, 1, length=2, assumptions=inBool(A,B,C,D))"
   ]
  },
  {
   "cell_type": "code",
   "execution_count": null,
   "metadata": {},
   "outputs": [],
   "source": [
    "And(A, B, Or(A,B,C,D)).innerExpr().operands[2].groupCommute(0, 1, length=2, assumptions=[And(A, B, Or(A,B,C,D))])"
   ]
  },
  {
   "cell_type": "code",
   "execution_count": null,
   "metadata": {},
   "outputs": [],
   "source": [
    "Or(A,B,C,D,E,F,G,H).deriveInBool(inBool(A,B,C,D,E,F,G,H))"
   ]
  },
  {
   "cell_type": "markdown",
   "metadata": {},
   "source": [
    "trueEval"
   ]
  },
  {
   "cell_type": "code",
   "execution_count": null,
   "metadata": {},
   "outputs": [],
   "source": [
    "Or(FALSE,FALSE,TRUE,FALSE,FALSE).evaluation()"
   ]
  },
  {
   "cell_type": "code",
   "execution_count": null,
   "metadata": {},
   "outputs": [],
   "source": [
    "Or(A,B,TRUE,C,D).evaluation([inBool(A), inBool(B), inBool(C), inBool(D)])"
   ]
  },
  {
   "cell_type": "markdown",
   "metadata": {},
   "source": [
    "falseEval"
   ]
  },
  {
   "cell_type": "code",
   "execution_count": null,
   "metadata": {},
   "outputs": [],
   "source": [
    "Equals(Or(A,B,C,D),FALSE).prove([Equals(A,FALSE), Equals(B,FALSE),Equals(C,FALSE),Equals(D,FALSE)])"
   ]
  },
  {
   "cell_type": "code",
   "execution_count": null,
   "metadata": {},
   "outputs": [],
   "source": [
    "inBool(Or(A,B)).prove([inBool(A), inBool(B)])"
   ]
  },
  {
   "cell_type": "code",
   "execution_count": null,
   "metadata": {},
   "outputs": [],
   "source": [
    "inBool(Or(A,B,C,D)).prove([inBool(A), inBool(B), inBool(C), inBool(D)])"
   ]
  },
  {
   "cell_type": "code",
   "execution_count": null,
   "metadata": {},
   "outputs": [],
   "source": [
    "Or(A,B).prove([Not(And(Not(A), Not(B)))])"
   ]
  },
  {
   "cell_type": "code",
   "execution_count": null,
   "metadata": {},
   "outputs": [],
   "source": [
    "Or(A, B, C).prove([Not(And(Not(A),Not(B),Not(C)))])"
   ]
  },
  {
   "cell_type": "code",
   "execution_count": null,
   "metadata": {},
   "outputs": [],
   "source": [
    "%end demonstrations"
   ]
  },
  {
   "cell_type": "code",
   "execution_count": null,
   "metadata": {},
   "outputs": [],
   "source": []
  }
 ],
 "metadata": {
  "kernelspec": {
   "display_name": "Python 3",
   "language": "python",
   "name": "python3"
  }
 },
 "nbformat": 4,
 "nbformat_minor": 0
}
