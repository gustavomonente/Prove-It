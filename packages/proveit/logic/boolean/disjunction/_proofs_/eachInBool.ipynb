{
 "cells": [
  {
   "cell_type": "markdown",
   "metadata": {},
   "source": [
    "Proof of <a class=\"ProveItLink\" href=\"../../../../_context_.ipynb\">proveit</a>.<a class=\"ProveItLink\" href=\"../../../_context_.ipynb\">logic</a>.<a class=\"ProveItLink\" href=\"../../_context_.ipynb\">boolean</a>.<a class=\"ProveItLink\" href=\"../_context_.ipynb\">disjunction</a>.<a href=\"../_theorems_.ipynb#eachInBool\" class=\"ProveItLink\">eachInBool</a> theorem\n",
    "========"
   ]
  },
  {
   "cell_type": "code",
   "execution_count": 1,
   "metadata": {},
   "outputs": [],
   "source": [
    "import proveit\n",
    "from proveit import defaults\n",
    "#from proveit import Lambda, Iter, Indexed\n",
    "from proveit._common_ import A, B, C, D, i, j, k, l, m, n\n",
    "from proveit.logic import Or, TRUE, FALSE, Forall, Implies, Not, inBool, And, Booleans, Equals, Set\n",
    "from proveit.core_expr_types._common_ import A_1_to_m, C_1_to_n\n",
    "from proveit.number import Naturals, NaturalsPos, Add, Exp, one, LessEq, LesserSequence\n",
    "from proveit.logic.boolean.disjunction._axioms_ import leftInBool, rightInBool, multiDisjunctionDef\n",
    "context = proveit.Context('..') # the theorem's context is in the parent directory"
   ]
  },
  {
   "cell_type": "code",
   "execution_count": 2,
   "metadata": {},
   "outputs": [
    {
     "name": "stdout",
     "output_type": "stream",
     "text": [
      "Beginning proof of eachInBool\n",
      "Recorded 'presuming' information\n"
     ]
    },
    {
     "name": "stdout",
     "output_type": "stream",
     "text": [
      "Presuming previous theorems (applied transitively).\n"
     ]
    },
    {
     "data": {
      "text/html": [
       "<strong id=\"eachInBool\">eachInBool:</strong> <a class=\"ProveItLink\" href=\"../__pv_it/f09baeaee750b7646a5891b0d0a2f643577fc87b0/expr.ipynb\"><img src=\"data:image/png;base64,iVBORw0KGgoAAAANSUhEUgAAAmoAAAAZBAMAAABz1R8KAAAAMFBMVEX///8QEBCIiIhmZma6urrM\n",
       "zMxUVFQiIiJERETc3Nzu7u6qqqp2dnaYmJgyMjIAAAAcRTyBAAAAAXRSTlMAQObYZgAABr5JREFU\n",
       "WMPtWV1sFFUUPp3Z2Z/56fZBRUTNRI0UE+gmlaJQZA1RiEqY9gEwmLABiciDrpK4KBAXQ2ABY+uD\n",
       "0JBAV0kKVsGNxIcmEAcQlQJmpGCq0rCCL/JgCAjyI+K5987s3JnZLSwBHoo32Zl77jl7ztxvzjn3\n",
       "3DsAVbdXMu1wJ7dQZukN/CsNd3pb9z9q/rZxUG4PQ61IbgPVoVZLbpo1JEGTszi11883LljhGRbe\n",
       "yP077GWAcDtF7QAZO1UdamoBb7X5IYlaLYGlBqGbZHjHJX3rZgvkIkWtA6+xbHWoUfmOoRmgfeQy\n",
       "B+NoesIzHg1ZgoHz3kNRIy5DfaeavEZ888DQRO1tcmlAhzuuU7o/kynaqCkFRO1jiprW2929vtrV\n",
       "4Fh396dDc1GI0Wktx/w2jGagWY+5vqY+h6jVJukaeiGXW1otavFcbpU5JFETaFyeB5i5kK4Np7gI\n",
       "nTIDU52aoKjNB1hdLWphA6K3ttS9HYW0VGYsSioD6fxA/RJKhttd1IZdvYuUDkWK2mS2LlSFWigB\n",
       "25mu8rPzvIapZ/cuYGL988xRQWFtZbNQUhNiN3UQ5VDWcqituWl1WZUV7SnJIDNCUrxwEfNXilrh\n",
       "VwN1AONLSVPUIiD4Kq+ZzUnhnsojafobTfvHk2Wf6y8PVQdqHels0mFrXTCTnAB5uftw7PZqZeV2\n",
       "CzB/BNhdVmVle0/aD3ji5CJnPawhaqP4lMJlQrb8ic1ZDSA7Df3wNEVNtSJ8kbez0VKyvTC+8ghB\n",
       "7RDbIciTypa6m6/wlJgC5RJ5XMRSC9Y4nfic/T7UJJNTrtk/D8FZttivCeDrPOu7Km0eL8jZ68Lf\n",
       "Z3sngm5u/IpHLY5+JpwBT3lFUQuXUIsVZ3Bz6O/pBuWwCGblEYLXJok6sLolUQ613kUep9dBJK8r\n",
       "ghokPSBMlqJWH2phg1MuJLmdn0Nwlh/BOeDTvAnwlN13Vdo8XpCzhxWttnZDHnRd3cZHKCnXwjRe\n",
       "ajyopXBTFGIRCqtxo6BNbH1YeNQgCQtDd/aLOsGo7+hDCe9ICbXoOhogrdFy9bGk53jyCwPGkFW8\n",
       "AS9yYEMhEDfs9qEW8SjPlmLJJTjL+BexHeRzIJxifU4l4/GCvD1MTZPJXden7edXA1KuzaH6Rd3j\n",
       "a8dKqwHsQBi0p62ahUKK7TAVo/cowejIAzDcO1JCTRlHuykRiYV+IMIwjienj66nr3sxI33iES/u\n",
       "DLX1HuXfcP7iEJRprxxJMo3QmcMr7b6tMpx3eLwgb09JsW243vigs30ihQX8huruZe93ibujMtW9\n",
       "aFk0GWpxxHPDSIgncWAzw0glf459koZLnhHuzINGvVYQTsNL9/lR+xUaePIHgJHk/g+l/OJxswxq\n",
       "Uz3Kt3L+YhOU6e630fvUIghp1mcqpd15h8cL8vZCWTnBfE38yBnC2b12dV5Tzl4eulbkPbt3qDUY\n",
       "ahoZnwstJKZn5nI5XTFiFoEmrIfqvCMuar+Qy/bm79Hf3/GfGpw82MYH4vuY8Qt2AtsWECfZTrZ8\n",
       "qD3rUa4mu4BzmK4S03E/GX0gakLsMuvbKiN5h8cL8vakorQ4l3uP5DXBs6Pi2gurMp7CbAt/vnY3\n",
       "1EOnhMFFPQueIfFcY4im4Rnxna+Nh9i5IGpiHjoNbcLA2J3M7XEu04mvPIE/MyAuZkl1huImh9os\n",
       "j3I5O5Y/yRnrMPt29c3eR9xPREPxAoQusj5TyVCjvJKflpjMXigFKeZrqujZvQ/S9nCoxU6jt/Wr\n",
       "oBIbWhI0M7YGOiHyvOGOBFDD/AhX6MQ68ihuXwCLmriljIERCr7+NRC7BLH7SSdiweftQfFlIO8H\n",
       "pd5WG3VeqKsc65xU6T+MYMwvizWFncT9fiIFTB4+NO0+VclQI7RjjGMyezinfRQ1Uz1YqXr2B1KR\n",
       "Qw1R/wPW9QKsRWLK75htpREYJ8IhbiSAWlsWOv62yMRaCtJwaGknl0L0AsTalsF8OS0mAbV8d7Zx\n",
       "Ae3At81kK+wTB3XeHpzefCnLr6F5TjldhW3xdkYwZtjYAo+TmaBPqu82Nq2w+7ZKihqhHWM8k9rD\n",
       "B4xi7tCWnvzA4k8lr7UlCZyAC5jF7AUmMFLhBJxMzD1qcnppJRFRXC1up4K4cIRDTSjw0iB73rab\n",
       "EmEHpIkkn0XdPkXNw+MIao/UB/WY16o4Af/5Gt8Neq7zu0Hr2QIoJbd2enJKSIZHcVp6riGuHOJ3\n",
       "VFlOumLrwrp1bsWAkhomDBJo1N6um/+1xaria4tWpufTYl2XuIPatNvyiSBx81Gr2DK38nuo6PXB\n",
       "W3uWdmNfPkKZt/4D3RAuCPhPvnMAAAAASUVORK5CYII=\n",
       "\" style=\"display:inline;vertical-align:middle;\" /></a><br>(see <a class=\"ProveItLink\" href=\"../__pv_it/f09baeaee750b7646a5891b0d0a2f643577fc87b0/dependencies.ipynb\">dependencies</a>)<br>"
      ],
      "text/plain": [
       "eachInBool: forall_{m in Naturals, n in Naturals} [forall_{A_{1}, ..A_{_a}.., A_{m}, B, C_{1}, ..C_{_a}.., C_{n} | (A_{1} or ..A_{_a}.. or A_{m} or B or C_{1} or ..C_{_a}.. or C_{n}) in BOOLEANS} (B in BOOLEANS)]"
      ]
     },
     "execution_count": 2,
     "metadata": {},
     "output_type": "execute_result"
    }
   ],
   "source": [
    "%proving eachInBool presuming []"
   ]
  },
  {
   "cell_type": "code",
   "execution_count": 3,
   "metadata": {},
   "outputs": [
    {
     "data": {
      "text/html": [
       "<strong id=\"defaults.assumptions\">defaults.assumptions:</strong> <a class=\"ProveItLink\" href=\"../__pv_it/62d76652ea25833584b5ebf1ebbb17acc63805f30/expr.ipynb\"><img src=\"data:image/png;base64,iVBORw0KGgoAAAANSUhEUgAAAfsAAAAUBAMAAAB4wIkCAAAAMFBMVEX////MzMxUVFR2dna6uroQ\n",
       "EBCqqqqIiIgiIiJmZmYyMjJERETu7u6YmJjc3NwAAACgK8IjAAAAAXRSTlMAQObYZgAABT9JREFU\n",
       "WMPdWGtoHFUU/mZ3M/uaHZcVxAeSjQZsDEkXUUPxtQiVChFCW2ipRtcfgkExgyhB/NFQaVEJdImP\n",
       "ND7ICiooxawFbbCtmR/Wti6YrQrBgjYgFBExaUhtmzSJ59557NzduZsNKogXMky+79zvnnNf58wC\n",
       "ehl/v/0jIv9WU2f88WfYoyTp9M3SFybuuJBtiLZFrl+fX0pBQny32jZ8pGpk7cW2Dj3TuPiJQ8Pl\n",
       "X6zXTpEJ7z2yuLMVCLBp+UTW/5iShjaHhmhbZNxlkzy82l4CHpuTUQ8D0fMi9nwZ6hv2JlMqHWTq\n",
       "4V6gr9deqiqzmGKUTpWh0ewn8rL4NiQHgB40QtsiiXHTYVvYY7q2l4CfuSKhlGUgdFnASkP0GLO3\n",
       "cYDFmTDqqGsT5Ep0xYKDVZbxUDmcLAJdQKT6YCQmXn6Vv7QepVEG0Qhti3w95oql2GOoNnwvrvWt\n",
       "SKgwEYmLAvYBm9nNzqlJs0HNOuqxR+gRsldH6xF9p/DVHIV/HPi1+jwedlQ7U9rBmvD9aVukvNs9\n",
       "rzGaiJDPxvLiifCChIqTv8eHvFj0T4ZfB89he7Ce+liOOes48L7oO4Uf7KbwY1m8QB1u+2PgFqWr\n",
       "1Ton7px2qkbKjo9ZjMhpJsKszH43Aag0ctznxvXi3eqyhLoqDWWP6cVm+UjfOrZ99PdlHXX9El91\n",
       "x4FNou8U/pYUnZ9gHsfoGT+MqefwRNUt2YnbE4YVH7eYkdJMhNpXaKZDphT5P8Tc4HdlVHAtq1yU\n",
       "UM0d0xM5AbvPPr62esR981cPispnxNDioZ2r29n2K2AfcE2kgNkMznKq6IkvYLZY8XGLpJRmItSy\n",
       "mM1DGbUwuhdb/cKv4CHolyXU7hloWwVsv3XNO+phA4FsHfXIeQF+UgyNbf6fKIeqg6BZMKey6DfR\n",
       "zvV3fUzNjk9Lx6xLg1mcldNMhLi20Y00Qshy8CTPK7WtgqdGh5ck1GdsCnJe7DG+cU1HXRusyWaC\n",
       "RBPPKZoDN4u+U/goPkTIHPe8HzgA7ODlm3d5cbVix0cWt9aht1uriaaCG340F8z5OVjBafV2Sah5\n",
       "Fr7hxfbzo5101PEm7qynHuEVxeNC+Lp39VEM8PDZvn0LeAmhFT5ZPd74Ejm7C1ks16H55qdxIz1u\n",
       "+Hoh4l8eO7hKf3uBH08P5AdaRIqlfWzMejGeUoOuOn6rTclecyvjZ7g6vWyB4DsLPx3jYuzW2gZt\n",
       "AdHCOUaNCDXEvXZ826BeCcppJqLnrDLOcfDTaf9yycHPWVXiD73Yaj4rUiztK0sCNsv2wt0V9fiN\n",
       "Rj11nV19QZOpP+pefSPC6n/Prz7KCfoC1DnEMrygjrhb9kM2iwVMFbhFsHBaSvPEwnJ/fKXiYMqq\n",
       "YLRFejAj/lLBdWY2OaOfGMQCXhMosCtl81EBYzmyz6yoKxusLOYqTxUECUrB6jtg6uwWsPRd32NK\n",
       "JriJKqdohu0Lkgznob7LM5vW3m3ZXHuBlpYuksgQt9A7clKaiZRWD0KdvJR3HYzZNcceNnDafnFx\n",
       "bXLRxFOrryBg0AWyT+gSGJ8fbf8cosypQ23sNDjq+MiuN9PeISrm2ts3vc6kDF75vQev784nD2LJ\n",
       "2qI3dJdd1Trt6bVpr4jjoG5Kvo1FvCkZLupzSWmXKswN//cG1aOZJMsTvr6frPfJ47TM2rRXRB1c\n",
       "10fvLK1Qotjwh+y61SMPJGs+eZzW5V87it/ZRgN0RUQ/MG+sx8H7qVDXbzYb/Vll3erhe+BfIsAq\n",
       "EUprKCQaoUv4LzfJCltfB//7H7sSkh+7fgb+AhAVuSjE1HnRAAAAAElFTkSuQmCC\n",
       "\" style=\"display:inline;vertical-align:middle;\" /></a><br>"
      ],
      "text/plain": [
       "defaults.assumptions: (m in Naturals, n in Naturals, (A_{1} or ..A_{_a}.. or A_{m} or B or C_{1} or ..C_{_a}.. or C_{n}) in BOOLEANS)"
      ]
     },
     "execution_count": 3,
     "metadata": {},
     "output_type": "execute_result"
    }
   ],
   "source": [
    "defaults.assumptions = eachInBool.allConditions()"
   ]
  },
  {
   "cell_type": "code",
   "execution_count": 4,
   "metadata": {},
   "outputs": [
    {
     "data": {
      "text/html": [
       "<strong id=\"BeqT_or_BeqF\">BeqT_or_BeqF:</strong> <span style=\"font-size:20px;\"><a class=\"ProveItLink\" href=\"../__pv_it/8115aeb0c61b3dc8bca0b96e5233210292f849320/expr.ipynb\"><img src=\"data:image/png;base64,iVBORw0KGgoAAAANSUhEUgAAAEsAAAAVBAMAAAD85A5eAAAAMFBMVEX///+IiIi6urrc3NxERETM\n",
       "zMwQEBCqqqpUVFQiIiJ2dnYyMjLu7u5mZmaYmJgAAABN0h6tAAAAAXRSTlMAQObYZgAAAUlJREFU\n",
       "KM9jYGDgu8eAD7BePACieHYx4AdMqSCS7wOIfPG/94aLAoq0ZIr/thkgodsgHtcEsGAKAwPvV1Rj\n",
       "NgTy+IActBKhjPUf0PS/qMoc9BhEWVCVMX4GWv8RLMvnOXM2TFk5mjKWBAaGY3PA5joeQJi26Aiq\n",
       "Mv4GBtYZYPnTBxCWMk1tBdLLQByODSAyvu+hZwFYshnhNrX530A+fQ/ilAWASHkDBp4MiCSyF9a9\n",
       "AtLcFxgYQiaDhdxASkHGsWbvBgKYMhamB0BGpwADgxrYtB8gZUAeAzOKaSwMDUDTGkBuc4AGG0M/\n",
       "OBYSkJVxMGyAug3sU1CwsX4BS15EMY1vAdSnYGXcQDPUfMCSnAXwyIpiWHUDOdw49v+42+IOkeRp\n",
       "0UGLeqTgRU44S6CRBQMQZQkE0htEGSS94QPg9MZAMPUmgSl2IvICAAMnW7m9w5PtAAAAAElFTkSu\n",
       "QmCC\n",
       "\" style=\"display:inline;vertical-align:middle;\" /></a> <a class=\"ProveItLink\" href=\"../__pv_it/2c7d9fa9539271e0e97223cc04773d480c4f7f5c0/proof.ipynb\" style=\"text-decoration: none\">&#x22A2;&nbsp;</a><a class=\"ProveItLink\" href=\"../__pv_it/18b2a64c872d748277beaa6cab89fbef9482bbf90/expr.ipynb\"><img src=\"data:image/png;base64,iVBORw0KGgoAAAANSUhEUgAAAFUAAAAUBAMAAAAO32ygAAAAMFBMVEX///92dnYyMjKqqqoiIiLu\n",
       "7u7c3NyIiIjMzMwQEBC6urpERERmZmZUVFSYmJgAAADEjrHzAAAAAXRSTlMAQObYZgAAAVVJREFU\n",
       "KM9jYMAK2B6gi5iBybf/75zdvQBVJhrBhErzJoB5sxkYeH4AaQ4wrwFEqCHpg0izKoDYHP8YGLj+\n",
       "ABm8IGV8BSDiAEIpTFocxGH/BpT8DhK9ACRYAkBEAkItTDoSxOGeAGS4wmxeA2KkIDkBJs0E8hL/\n",
       "BQYOX5BpDDZAvA3EqEFSC5NmBLmr/97zLQZgYRagOzaAGPuQ1MKk+UCeq09gYJ0LcVoBAy848JyB\n",
       "XncBAQGENLMDkNgJUg82mNWBIQisaRYsSi4gpDk+ABl/QZwCsNxhBmEMtTBpkFpQ+DHch8RbEoMD\n",
       "A9QNMLVwaS4HSPhx/IaGTx/E/H0ItXBpkN+YgOG3cis0jq6Aw45BBhYIDQhpHgEGXv2/Z25vhsnp\n",
       "QKgl8BBDSDM1oKW8VAiFHMcwEII99aKkHRgQx6EWEtMoAJImsYFoDBHuBFxqMfPQMwYGAHvcYep9\n",
       "mQxtAAAAAElFTkSuQmCC\n",
       "\" style=\"display:inline;vertical-align:middle;\" /></a></span><br>"
      ],
      "text/plain": [
       "BeqT_or_BeqF: {B in BOOLEANS} |- B or [not](B)"
      ]
     },
     "execution_count": 4,
     "metadata": {},
     "output_type": "execute_result"
    }
   ],
   "source": [
    "BeqT_or_BeqF = inBool(B).unfold([inBool(B)])"
   ]
  },
  {
   "cell_type": "code",
   "execution_count": 5,
   "metadata": {},
   "outputs": [
    {
     "data": {
      "text/html": [
       "<strong id=\"BeqT\">BeqT:</strong> <a class=\"ProveItLink\" href=\"../../../../__pv_it/4d98b438710c5ada9ffa4646bb123a7d0e69ec000/expr.ipynb\"><img src=\"data:image/png;base64,iVBORw0KGgoAAAANSUhEUgAAABAAAAAOBAMAAADUAYG5AAAALVBMVEX///8yMjKqqqoiIiLu7u7c\n",
       "3NyIiIjMzMwQEBC6urpERERmZmZUVFSYmJgAAACsPVCVAAAAAXRSTlMAQObYZgAAAGxJREFUCNdj\n",
       "YGC48+70nlUTGICgi4GB+zmQZn/LwMD5Gshge8rAwPsMyOBqYGDwMAEy+A4wsNs4ABl1Z68tVgBp\n",
       "ygtgYOkBMVaAOCChNyBGAsQYhnMTIMawvwJyGIHGzFjCwMAj92b3qUUMDAAXABxvZ4rl5AAAAABJ\n",
       "RU5ErkJggg==\n",
       "\" style=\"display:inline;vertical-align:middle;\" /></a><br>"
      ],
      "text/plain": [
       "BeqT: B"
      ]
     },
     "execution_count": 5,
     "metadata": {},
     "output_type": "execute_result"
    }
   ],
   "source": [
    "BeqT = BeqT_or_BeqF.operands[0]"
   ]
  },
  {
   "cell_type": "code",
   "execution_count": 6,
   "metadata": {},
   "outputs": [
    {
     "data": {
      "text/html": [
       "<span style=\"font-size:20px;\"><a class=\"ProveItLink\" href=\"../__pv_it/2d95f09b10b3b8c8310cb902bd7faba5d3956d540/expr.ipynb\"><img src=\"data:image/png;base64,iVBORw0KGgoAAAANSUhEUgAAACMAAAAVBAMAAAA+1EraAAAAMFBMVEX///+IiIi6urrc3NxERETM\n",
       "zMwQEBCqqqpUVFQiIiJ2dnYyMjLu7u5mZmaYmJgAAABN0h6tAAAAAXRSTlMAQObYZgAAAM5JREFU\n",
       "GNNjYGDgu8cAA6wXD4Aonl0MCMCUCiL5PoCI/h93W5yAjNsgIa4JIJLNgYHhfgADw0qEUPwDBgb9\n",
       "CyhC8gYMDO8FUITcgPZkHkAR+sHAENkDpJeBOBwbQA768U5kOoj3HkSUAe1hYPzMwHCsAcjgBloR\n",
       "MhkkzpIAFP4OYnUC7VADqeIHqmD8CFIFUsrhAHUWxyeYWWAbQc6Kd4DZCBbaBvRxCigU4O7q/t97\n",
       "w6WAgQHFqTAAEUrAEAKHFxyAw4sBJVSTwBQ7WtgDAJxpOkc6jJwBAAAAAElFTkSuQmCC\n",
       "\" style=\"display:inline;vertical-align:middle;\" /></a> <a class=\"ProveItLink\" href=\"../__pv_it/888dfaf497a082ff4fe6e05fbab24b2125cc6d2a0/proof.ipynb\" style=\"text-decoration: none\">&#x22A2;&nbsp;</a><a class=\"ProveItLink\" href=\"../__pv_it/d1c5e1b6d4178fe5f94ef426e90af0d07bc0cb350/expr.ipynb\"><img src=\"data:image/png;base64,iVBORw0KGgoAAAANSUhEUgAAADwAAAAOBAMAAACBYGLnAAAAMFBMVEX///92dnYyMjKqqqoiIiLu\n",
       "7u7c3NyIiIjMzMwQEBC6urpERERmZmZUVFSYmJgAAADEjrHzAAAAAXRSTlMAQObYZgAAAI5JREFU\n",
       "GNNjYGB4+//O2d0LGFDBERcQ8AUxZzMw8PxgwADmEIrjHwMD1x+c0uzfGBj4vuOU5p7AwBDpilOa\n",
       "/wIDh28ATun+e8+3GIBZQkogoIMqXZ/AwDqXAafunSAlBjil/4KkC3BJg7zNcH8Bwm5dFGmQtzl+\n",
       "47SbCejtlVtxSfPq/z1zezMWWYZ1QAwAmGAm6Lnjy/0AAAAASUVORK5CYII=\n",
       "\" style=\"display:inline;vertical-align:middle;\" /></a></span>"
      ],
      "text/plain": [
       "{B} |- B = TRUE"
      ]
     },
     "execution_count": 6,
     "metadata": {},
     "output_type": "execute_result"
    }
   ],
   "source": [
    "BeqT.evaluation([BeqT])"
   ]
  },
  {
   "cell_type": "code",
   "execution_count": 7,
   "metadata": {},
   "outputs": [
    {
     "data": {
      "text/html": [
       "<strong id=\"BeqF\">BeqF:</strong> <a class=\"ProveItLink\" href=\"../__pv_it/86f671dd514f6e615234986d96edb2c4ebb473e30/expr.ipynb\"><img src=\"data:image/png;base64,iVBORw0KGgoAAAANSUhEUgAAAB0AAAAOBAMAAAAh/woJAAAAMFBMVEX///8yMjKqqqru7u6IiIgQ\n",
       "EBC6urpERESYmJjMzMxUVFTc3Nx2dnYiIiJmZmYAAABbDZECAAAAAXRSTlMAQObYZgAAAH9JREFU\n",
       "CNdjYIACjvW/3i0vY0AA1gIGhvcTEPz5DQwM+Q8QfP8NDAz9Dgh+KQMDc6wBgv+LgWHuYgSX81eH\n",
       "+yUg/fYuENxhYGD5zcBgugAquYuBgT0AKPYJwecHyrF8QfBB1nN9Q/BB1s8vgBnOwCDKwMAWjrB+\n",
       "4f91r8oVGBgAyy8lZJPyWlAAAAAASUVORK5CYII=\n",
       "\" style=\"display:inline;vertical-align:middle;\" /></a><br>"
      ],
      "text/plain": [
       "BeqF: [not](B)"
      ]
     },
     "execution_count": 7,
     "metadata": {},
     "output_type": "execute_result"
    }
   ],
   "source": [
    "BeqF = BeqT_or_BeqF.operands[1]"
   ]
  },
  {
   "cell_type": "code",
   "execution_count": 8,
   "metadata": {},
   "outputs": [
    {
     "data": {
      "text/html": [
       "<span style=\"font-size:20px;\"><a class=\"ProveItLink\" href=\"../__pv_it/e229708ae91e933a44ca1cbb9a50ba4bb825d50b0/expr.ipynb\"><img src=\"data:image/png;base64,iVBORw0KGgoAAAANSUhEUgAAADEAAAAVBAMAAAAdjxsPAAAAMFBMVEX///+IiIi6urrc3NxERETM\n",
       "zMwQEBCqqqpUVFQiIiJ2dnYyMjLu7u5mZmaYmJgAAABN0h6tAAAAAXRSTlMAQObYZgAAAOJJREFU\n",
       "KM9jYGDgu8eABlgvHgBRPLsYMABTKojk+4AQ4ev/cbfFCci4DeJxTUBSzObAwHA/gIFhJYZM/AMG\n",
       "Bv0L2GTkDRgY3gtgk3EDuijzADaZHwwMkT1AehmIw7EBySM/3olMBzHeg4gyoFNuzgSCWQwMjJ8Z\n",
       "GI41AAW5ga4ImQzTYMHAwJIAlP0O4nQCnaEWgJDhB6pn/AjSA9LI4YCQAXmH4xPMHrjbLCDeiXeA\n",
       "uQ0uw8rAsA0YmCmgcEb3T/f/3hsuBQwM2HwKAxCZBFwyyPEDB+D4YcAWp0lgih17OgAAhc8/A2yv\n",
       "PboAAAAASUVORK5CYII=\n",
       "\" style=\"display:inline;vertical-align:middle;\" /></a> <a class=\"ProveItLink\" href=\"../__pv_it/cbe1ce7478fc5e2d8e2c93cb3d4364f7e8884c4f0/proof.ipynb\" style=\"text-decoration: none\">&#x22A2;&nbsp;</a><a class=\"ProveItLink\" href=\"../__pv_it/abee9c4fed4a5244bc038a32722b7a16e2614bbe0/expr.ipynb\"><img src=\"data:image/png;base64,iVBORw0KGgoAAAANSUhEUgAAAFgAAAAUBAMAAAD7IecQAAAAMFBMVEX////MzMxUVFR2dna6uroQ\n",
       "EBCqqqqIiIgiIiJmZmYyMjJERETu7u6YmJjc3NwAAACgK8IjAAAAAXRSTlMAQObYZgAAARNJREFU\n",
       "KM9jYOC7wIAG8hhwgtMI5qX/mpN2OzAwPUBXM6MDBJoYGNYhCUYzMHB+ZOBZgMXMdBDBOwEhwPiX\n",
       "gYHlJwODOS7FHEh2sv8Dav7OwHAUl+IXSALcAUCFPQwMXA44FFciCfArMDA2HWBgYJ6AQ/FeJAF5\n",
       "3es7EkD+APvQahUIrERW3AYMAHDAGDAw1D9g4AkCirE14DA5BMrhU2Bg2Aqk64FGM34gQvEnkOIC\n",
       "PIrbEIpBwcygDwwJlgaEmxdh8yBQMSiYGX/DPYjFZEsYT4CBCxjMrnuATE4DHIo94Fym9Z9mam8D\n",
       "sbgEMBX7okc3DJzAlUJ5scSWOc70vA9DBGsSxUj8sPT0AKdizGx1D5dSAGH8SPsa8fbGAAAAAElF\n",
       "TkSuQmCC\n",
       "\" style=\"display:inline;vertical-align:middle;\" /></a></span>"
      ],
      "text/plain": [
       "{[not](B)} |- [not](B) = TRUE"
      ]
     },
     "execution_count": 8,
     "metadata": {},
     "output_type": "execute_result"
    }
   ],
   "source": [
    "BeqF.evaluation([BeqF])"
   ]
  },
  {
   "cell_type": "code",
   "execution_count": null,
   "metadata": {},
   "outputs": [],
   "source": []
  }
 ],
 "metadata": {
  "kernelspec": {
   "display_name": "Python 3",
   "language": "python",
   "name": "python3"
  }
 },
 "nbformat": 4,
 "nbformat_minor": 0
}
