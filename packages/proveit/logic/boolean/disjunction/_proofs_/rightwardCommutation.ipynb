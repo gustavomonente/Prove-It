{
 "cells": [
  {
   "cell_type": "markdown",
   "metadata": {},
   "source": [
    "Proof of <a class=\"ProveItLink\" href=\"../../../../_context_.ipynb\">proveit</a>.<a class=\"ProveItLink\" href=\"../../../_context_.ipynb\">logic</a>.<a class=\"ProveItLink\" href=\"../../_context_.ipynb\">boolean</a>.<a class=\"ProveItLink\" href=\"../_context_.ipynb\">disjunction</a>.<a class=\"ProveItLink\" href=\"../_theorems_.ipynb#rightwardCommutation\">rightwardCommutation</a> theorem\n",
    "========"
   ]
  },
  {
   "cell_type": "code",
   "execution_count": 1,
   "metadata": {},
   "outputs": [],
   "source": [
    "import proveit\n",
    "context = proveit.Context('..') # the theorem's context is in the parent directory"
   ]
  },
  {
   "cell_type": "code",
   "execution_count": 2,
   "metadata": {},
   "outputs": [
    {
     "name": "stdout",
     "output_type": "stream",
     "text": [
      "Beginning proof of rightwardCommutation\n",
      "Recorded 'presuming' information\n"
     ]
    },
    {
     "name": "stdout",
     "output_type": "stream",
     "text": [
      "Presuming previous theorems (applied transitively).\n"
     ]
    },
    {
     "data": {
      "text/html": [
       "<strong id=\"rightwardCommutation\">rightwardCommutation:</strong> <a class=\"ProveItLink\" href=\"../__pv_it/0bdd7a8af860e4f9ea6e02154e9786a89e6d9cc70/expr.ipynb\"><img src=\"data:image/png;base64,iVBORw0KGgoAAAANSUhEUgAABD8AAAAyBAMAAACpNm2wAAAAMFBMVEX///8QEBCIiIhmZma6urrM\n",
       "zMxUVFQiIiJERETc3Nzu7u6qqqp2dnaYmJgyMjIAAAAcRTyBAAAAAXRSTlMAQObYZgAADhNJREFU\n",
       "eNrtXXtsHMUZ/7x35/Pu3dr+owmPAr1CBaZqsSMjB4hRLkIF1IrmAgJaQZtTTNI0AmKaikKAxtAS\n",
       "zKs+tWoLoeANVJCGQq61ohIJlINAK9wA1wQoFY8YQiuBVOLmYfLEndfOzszO+PZ0/BHFO5L31t/+\n",
       "9refZ3477+8M0GhqmpyswDGVsnmY3skpsoyYnGxvnK1p04PesZU/W2G6p28zoTz40OchkMIxljtW\n",
       "cdoLxB1jJ6lYIOH0J3728HQQwyad8b5YIOYG+Av8bIBm0lh9BDr8m5N9PYNK18bp6LvOrqP79ujq\n",
       "nurvtFfenFy9dHUpOpOEb9bduDYfC8SUWrr8s1aada3j/Br5U1NhSQQXRbyIPh4gsU+2fbkKmVlV\n",
       "HYOW2ToZYORk0PryGWoVDtXhpIh3dPrPtMcCMaXNvMu9nX68d5BfW4wP20K3NOMscHOg4AV06ghA\n",
       "co9kW7cSHeaWdAw6Zucu5FfiAOh8Se1Gh1nRnZTxL+hy4dZYIKa0gp/dTN+wkaBUrsCHleGXE3dr\n",
       "00xYAV5AW8jm7pZs72P8PB2Dlrn1RHRICuUlsuO6aX41spMyfq32NSnFAjF04Lkc7H5qsPaC2Ogk\n",
       "u8I3fYR+LvAJOF5At6CMXrtStCVIFX+ZjkHLPLeMy0t4tsiOG7XhSmQnFbxu2ifdFQtEn9IDfLhL\n",
       "8+ibmSNB04xMLZpO3Qj6uZudB3gB3VaE1I2eaBsm8vuDjkHHbH9Kaifh2SI79nl+MbKTMj7bpXtP\n",
       "DsYC0aeF/H1qIXWwkyct9neorZ+fyapCWcmERfGPj8vohddtu6ssMbzGOhzsPoFBy5zdHboksGOu\n",
       "zkpkJ328OOnx6ic47eRDrN2xQPRpVpChpESTYKPO5WWzqe1UgGt0c2s5aGbCovhkv4zuLIEzU2JY\n",
       "RbMt1d2vMmiZ0/tClwR2zLU8H9lJhvdrnH5dPnwSC0SfZgZ/GMnBK7p79qOPi6jtCf2o0OmHp/0u\n",
       "IsHTajtA346LpSzavkS6ix6TksigZW4iVb4jXgrYh/Dhf9Gd9PGsDhvXPbizFAtEO8t1RBEIOpwS\n",
       "CCRRzpZ1t82Bv7MziqfNU4CewFmeE22ryMtb8AUiMGiZ06QUN4pXAnasYPdIdCd9/FQCGa7GAtEl\n",
       "64DcxGTQzw2BQOyxtPa2R4CVM8O3lSQ0kR2t030bmQHJAhcIZ9Az0xmQCmx/49SuUxfLvpBO0tqB\n",
       "yE76eMwFvge0D/KfoFiLsUB0qSXIEVILPIR+dgUCgTu36W/7HutzMvwCGY1ll9ov2YbxDaOBQDiD\n",
       "ntnGhZr14PWTYaZ3usKO+ifOJ9Gd9PGI6wQQVuZkcH8sEO1fEwwlcD+CzIUMlYK8v4LOQG0YYwfn\n",
       "M/pS/sAL5k4QvkNCQyvK53n3SDY8GB7xAoH4DJx0w5hk31yFzHlgP9oPe6FXYUdtxEVdoHWSUClO\n",
       "Mjzmwj2bREWXEdlxJhDixruNCaRhjqMnbQgmBVDROUOfefDM5Iog71vp9XTRP9xI7XR8yPF3SOjm\n",
       "XRPdS++VGeCx1X15CATCGALSdFGyO+csORtT5VCZ3aKy9yw9F0DvJPFPcpLjm3NkZrZV+4a7+5hA\n",
       "SL/l48YE0jDHUTQNIlT0Nwt2P+9tT3/fGvnXGQUjWrFxgayBKMxNBWvAHjew1+lkUyFRKeBBj7a3\n",
       "vpsJ5AFMONCYQBrmOHrSZqH/v12w/6U+mvFcVKR+FsKYhtF77w5U9BfrdHIY0t8qGBbrwNnDBNKK\n",
       "1KYfFUUXSMMcR0/aIdS3wnz1r1YtqoumNx8RaM+eyNVDfCG0luxr9TVEvU5eCNYrhuV+NjLHAnFH\n",
       "16//bYOd1IY5jp7UKSxiOMdGpVhr3GbYabTfH8XsHxy8tdFRTKMcR096TXw5p8WWw38Z7Kf4AlmM\n",
       "1/ic5Q0JZLG/Tnh3LbQOcPGeLUtVGbure60pN9G91Vc5U3vh4okwm9wtHLq2x+jnXA/iRNJxvkAu\n",
       "IK0Q6wBf2Zu3Zqr92RUvwpeLRgsWyAWsJXP3Cqj3zpo9JzR42qu57rZDlk7IuB/sXEH6MvYH4Nw+\n",
       "FdMjOVgnTeKIbKkTggf6jEL6B8CCksHP5bEyWLrBF0garCrAFtTkPttdzQyMwnki7Mkt58MzWS/h\n",
       "GS1YIJQDje39CX7MZWXtt9Uhtg+QrieKkDlIiXOVh8l6wzDq5L01BZONhObyLoLKBksCV31GIfUA\n",
       "NBcNfsYCCQkkW8Uz9/ejAtm0HjLbEiCOodx713jwXK4ra7ZggVAOgFF/vx7msiwYrSpP9QHS9XQO\n",
       "EmOUOJfLPoVNuEdz6RRMaeRkinf/VTY4I3DVZxTSjwCsfoOfcRPjp5/4ArHH8CbGA3SXWuaq7+aw\n",
       "QPw1IbJFbePGX2I5uOdfepps4QKhHKjIBlkzj7ksK/mO0hnwAfL1DQU4y6PEudwlL+NLeAp4/RRM\n",
       "nagcHb8sQ2zwPLGLjOIIfx/4TVqY/bVSLA2lkwp3X0MnRMi0TWH0DSwQf02I9Cw2Zp+6GgtkXrWp\n",
       "JFm4QAgHqrhhNjqgciNcVmLWv5WHYoB9m3p9/tc7iuxRue5TMB3b94eoDEw3ib8obOjneoBlMqPY\n",
       "SR1HzGOaO4nyQvPOdnUaqCETfi9mcoGMoOrWGoDHqECyZI2KrQk5ZFJ/I1RQFwXWnAFtnmQJBDJC\n",
       "quy3oRNSzyOBEC5UdZ+rZDcGwJ3q9Vdxm0CJc7nEr9FHG2nmMJWB6bDUsVHZ4CS4+kSZUUhZJI6m\n",
       "iuZOMlEWmuFaRz++X2eW6/B1hkqZ4e7yie6lP1dt+5cM/jC6gzI+fOMeLpA21Gi35ODKwcHBXKZg\n",
       "V3FZszWh1E2Dg3cgOTxMuhiLYJ5i4QLBHODs3DrkkZ31hAtlfEWeJaSAdvX6fahTWqbEqMdgsS6G\n",
       "U8VUBibcR+FdixAbDvtZCRKjODNU4eGVYfbNIYF8RD92Be0kOYZXuOSApV0atBgqZQhvMkVWKUx4\n",
       "0XluQba1IeHvKEd3UsKHtrM5h7lAXFSiTZej6p/UIPCNHARrQkVaXyRJh3EG9KZkCxcI5gA0sBku\n",
       "EIE0szezIm+YJgC8aCNfP4TahRIlRsWZwMABspkGURmYzgGye+a57Ve9pGHDgYMrQWIUUlsZh1e6\n",
       "c96taNgXqg2KSy+5u3jv1RTkJAUscbyAlkKlDOFNpsgq5bnYzfldig19JNqjOynhsyqUL9axTLMg\n",
       "Syjz4Fbse/ia0Ev44usA78ADnj0OP94oWESBkHQJ4iGvPeWysrAVc6E78eEBjwLcinLdPgj2SUCJ\n",
       "c5XsVoSF28B5mQhEx4QO6Sr8sQR/HmsqP6uwpRDbh0AEIjIGd8NCDx7JQ6YD+oU7uXrUGIA0LaEn\n",
       "g5IyBTlJAUscL6ClUClDeJMpskp5Ll4R2JFTbOiPSR6J7qSEd9SdQZlDkkASLwLgDQsXobwtpr7I\n",
       "14RaUBWU/GkevWoLyskifK0qWFSBtOwHe+g26hXm+uer5/wXENeCUuoEdFhQpoBEXrn+tz3dS5EN\n",
       "E7u37vxFFT0Ksn0vePQP1DChM/hr71fxa/IEnB1m6/NoJoiM9EZ0KGdXdffgqZ7FOAaA38n1MKZk\n",
       "FFtjqnbmpUZHE+QkBSwFeI6WQ6VM4U2myCr5ubejIj3Ok214K7J9OLqTMv5DBZg9IAmEVLWoPWbq\n",
       "CYwdg2zvC5RDFrUGYVnsGbgYQTpjuB5+FKbSIf2zNIxAf1mPWallFM76rdfFO/03Rd3Bexod+Xib\n",
       "g7bHEOQkBiwJeI6WQ6VM4U2myCr5uROo/7RMseHVteREdCdl/BZ1wDkeEkiQNkUbCGkFkuqco+fy\n",
       "CbJn1nqWj1SoNoXOHoevwKKSFnPpnrLWeX7mFDOv6Pr2BxXD/eT4e9Ji1whyEgKWCJ4ucHG0Eipl\n",
       "CG8KRVYJrx6/NzXxbsctqg13GqzDkZ308f6Cg1qsA1MIRDfydyGaQIxcLkR9Vk1ktfbTTIxujcFf\n",
       "6pBioOWQh+GumkFOQsASwdMFLo5WQqUM4U1qZJVYxfPn4k3Qa4uKDe8RbN4b2UmG9+3qZiOyqTre\n",
       "tAz6+SEhka+TSfV1Lx+AWkFOQcASw2+R0EqolCG8KRRZJYw8+XPx3nvrkGLDbUJbe2Qnfbw/fFNw\n",
       "ceCUIc3VCSSJ/swxqBXkFAQsMfz9EloJlTKFN6mRVULiz21DtYe1W7HhNmFHNbKTPt4gkLsgFog2\n",
       "zc9rmhiUpen2mkFOQcASwx+Q0EqolCm8SYmswitg1ukF+bl4GoS1DoENtQnO8dGdZHi6whZsePZT\n",
       "HLxtSOmucCfVLtNgklpBTn7AEsOz3PXRaqiUIbxJiazCK2DL2Bcv8ufi+n/hgGJD5fD0WHQnGZ6u\n",
       "sIU6qVb89Q+mJQplGLOFzYW0HAgFOQVBSSzIyY9kYnhrQESHQqUYmhOw8CYlsgqvgOVZbJPPBO8j\n",
       "luM92bYL2fBmCp2TPM5LcJLhyQob+rVXKdViLBBDOkn+FVW96yY/hszQp12hICcelMSCnFjAko9v\n",
       "yUloNVTKj6DiBDfKdgZfBAvYN1FwpuvxdyaWQbUt+VkJQOtkEOfF6Tl+EZ2tVZbL46+gMqbNnm6q\n",
       "nfY9awQ5KQFLTZdr0T6LKbxJsc+ADhhOmZ+r2up0kq6w4UGPlJi6YoGEU6vcCXGFX+sMcmqztOb6\n",
       "WOxx9I6/lY1+Q51O0hU2dbEuc2IsEGOOzZB/D+ar6w1ywgtcGv76WJJF+Ah+Mxrd/TqdpCts6pxJ\n",
       "/EW6UyRlTnEdTIekLNv0QSwQ84tflF/J6bDl0JVX2njAQCr+dyCatAime/p8/x3IMfcPhRL5aa4P\n",
       "Zxn9xP9Q6P/BjBbxBV+VzwAAAABJRU5ErkJggg==\n",
       "\" style=\"display:inline;vertical-align:middle;\" /></a><br>(see <a class=\"ProveItLink\" href=\"../__pv_it/0bdd7a8af860e4f9ea6e02154e9786a89e6d9cc70/dependencies.ipynb\">dependencies</a>)<br>"
      ],
      "text/plain": [
       "rightwardCommutation: forall_{l in Naturals, m in Naturals, n in Naturals} [forall_{A_{1} in BOOLEANS, ..A_{_a} in BOOLEANS.., A_{l} in BOOLEANS, B in BOOLEANS, C_{1} in BOOLEANS, ..C_{_a} in BOOLEANS.., C_{m} in BOOLEANS, D_{1} in BOOLEANS, ..D_{_a} in BOOLEANS.., D_{n} in BOOLEANS} ((A_{1} or ..A_{_a}.. or A_{l} or B or C_{1} or ..C_{_a}.. or C_{m} or D_{1} or ..D_{_a}.. or D_{n}) =  \\\\ (A_{1} or ..A_{_a}.. or A_{l} or C_{1} or ..C_{_a}.. or C_{m} or B or D_{1} or ..D_{_a}.. or D_{n}))]"
      ]
     },
     "execution_count": 2,
     "metadata": {},
     "output_type": "execute_result"
    }
   ],
   "source": [
    "%proving rightwardCommutation presuming []"
   ]
  },
  {
   "cell_type": "code",
   "execution_count": null,
   "metadata": {},
   "outputs": [],
   "source": []
  }
 ],
 "metadata": {
  "kernelspec": {
   "display_name": "Python 3",
   "language": "python",
   "name": "python3"
  }
 },
 "nbformat": 4,
 "nbformat_minor": 0
}
