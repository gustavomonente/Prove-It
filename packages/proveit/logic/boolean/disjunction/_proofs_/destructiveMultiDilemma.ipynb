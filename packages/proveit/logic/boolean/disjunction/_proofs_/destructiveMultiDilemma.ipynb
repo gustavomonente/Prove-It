{
 "cells": [
  {
   "cell_type": "markdown",
   "metadata": {},
   "source": [
    "Proof of <a class=\"ProveItLink\" href=\"../../../../_context_.ipynb\">proveit</a>.<a class=\"ProveItLink\" href=\"../../../_context_.ipynb\">logic</a>.<a class=\"ProveItLink\" href=\"../../_context_.ipynb\">boolean</a>.<a class=\"ProveItLink\" href=\"../_context_.ipynb\">disjunction</a>.<a class=\"ProveItLink\" href=\"../_theorems_.ipynb#destructiveMultiDilemma\">destructiveMultiDilemma</a> theorem\n",
    "========"
   ]
  },
  {
   "cell_type": "code",
   "execution_count": 1,
   "metadata": {},
   "outputs": [],
   "source": [
    "import proveit\n",
    "context = proveit.Context('..') # the theorem's context is in the parent directory"
   ]
  },
  {
   "cell_type": "code",
   "execution_count": 2,
   "metadata": {},
   "outputs": [
    {
     "name": "stdout",
     "output_type": "stream",
     "text": [
      "Beginning proof of destructiveMultiDilemma\n",
      "Recorded 'presuming' information\n"
     ]
    },
    {
     "name": "stdout",
     "output_type": "stream",
     "text": [
      "Presuming previous theorems (applied transitively).\n"
     ]
    },
    {
     "data": {
      "text/html": [
       "<strong id=\"destructiveMultiDilemma\">destructiveMultiDilemma:</strong> <a class=\"ProveItLink\" href=\"../__pv_it/6ba293dc9a493614ae896386b262c486ed4314a20/expr.ipynb\"><img src=\"data:image/png;base64,iVBORw0KGgoAAAANSUhEUgAAA0MAAAAZBAMAAAABE+jQAAAAMFBMVEX///8QEBCIiIhmZma6urrM\n",
       "zMxUVFQiIiJERETc3Nzu7u6qqqp2dnaYmJgyMjIAAAAcRTyBAAAAAXRSTlMAQObYZgAACAFJREFU\n",
       "aN7tWnuIVFUY//bOzuw87t3dP8oyKy4WaoK6sT5S15yQXP8RZw3UsHTQtlSihoTMRziF1ZihE5Et\n",
       "gu7kgmsb2ZClCEojFtlqMu1mSb62Vv8oCMRXPrA6z3vPOffccU1iCeaDc+fOmd/3nfud33l857sD\n",
       "UFJCy5ZDWfpRGpcVboKoKndSP0skWaboNmQzKx6JZW/FhJ8FYgVR1IMrTvpTVI0/rGKZD69E07Qw\n",
       "sV68XL9oDb1ffAsmNOrMwmJK0SH8/Xd/isw8+qjOlQnxSnWWFi4VqL8nJ8jtDnIl90GPXtD90Ued\n",
       "WdhBKWrBH2l/ishvLWU+NNLNCpf5aK2ZUUduTRtfm/GlyxuDYR4sG/zVmQVcEEV4gpCZ4rcX4Rl2\n",
       "qMyHRpazwmUUmhKnbbqA1eLrLHxZ4Z1FOAKoyoG/OrOAC6LI6uzo+KBUuHCio+OjVJkPTayVosWR\n",
       "11Cn3sW2hDN8Gaus82r+hsoUbkKrziycoRHdlUxmVSmKajKZtwplQrxi1NHiyGWA2UvY/QESlqFf\n",
       "w5rgbicqa7kJrTqzcIBS1MzgfhShlTOc7e/u8DxAoq/AEtjblHCRFmf9unxy2Er+5RS5okkyR9+r\n",
       "wTQ3oVVnFk5RiqZAtKcURWim0vjkpkT5AaZdOLCopK4/oJLtnW4NG06f6y15gSJWHYqVGxrGru2j\n",
       "J15sVZ6WccuQoIXIuArwYZKRsptABgM8o5t/NoTi3ISqzmU3LZiiKjCUU8/shrgxwD26pmAEuT8d\n",
       "FygeOW6ip2URIGKsWjBr3fj/196lSngiA0RMWD1mWBfpZ0BPqRcoYIUqJt8D7NeZUTzRYyvitBDZ\n",
       "iJ4VuWBchyfGkfCM1Lbrh380xUa9Rt0N8GjBFJlFMYUQ3VtfjKU7YYJL0XdANrXo5KILMczIcXX9\n",
       "cAAqJpCE2DVa//GBSWAXNn8hawoABUMpCrp7YdsN1kAScGtOixYpGiDFqlVMxgJ8qTnyiZ74Y1WK\n",
       "alAzxnmARpeiQF4fLE9kMbJOXUNRpGeWoHxsTwfEugJQcCnaQoJEMNvrXIhhQKfqhgNQMVU2BOhg\n",
       "stZtyoFtm58oy6kDUDFh9yBBpXOpExU9KCawjDj2UwdkEZRStY9cXwJ4VLdctkthmA+WL3S8j/G5\n",
       "JnSRUdRIg74efQZtCx31WnUujbQQF9ei5dKaNPMBY0iChoixuU/aAkXhjYTrmWF6wCUQw6g8oS41\n",
       "HODBfJqAkXT8kUjTtqd/K2u6ABUTVjKFQTvD7kbg34TlDrU9XgskWE9VCGtGL4GhS6wInpTASuHC\n",
       "RnqumZ9m7NBwAd7o0u/aT9sghQuuevfRwXWDm+VwAXYiRq3HihVLjCTNyMUSnUcFimJkcYVkAOFQ\n",
       "UEggRuDhs2q7BMBSIxJmxohhqJ0QIoFMFbv+fmWNpAAmEoZS5J7bQjCOWoJdYMaxZ1y+ws4oQC67\n",
       "ZN2DmUxm/R14JJ3vehOIU76eqFhxrtXRwpM6vyDQ3TlGUQOtnkUPrtG/8EDsYTcI/VzOMaGo/3Af\n",
       "DMgNYRYaGEU1iNFNQ6EmHihAG6XI5LpkWJIF0sob5+Cpe4BC0CI2XulnAuAbgYQ5AjAUgvtzEK2j\n",
       "MyTwvqxKAHwfkDCUomm0q5CLx2EUsYTromk0bxzZjqeUDHQjRnJ1dcnTjUY91ANGijjl64mClWK8\n",
       "FC1MXvh74dhMnq9xbABXs358Gfdlkt0g6XVNyOqRrSm4SOg5SwuhyMJPvQCa8Mo4GzloxxKRYkqg\n",
       "6GeS1ms4eI1kMwgEdX/Blh2jABYTSph3AFrzOOMRfCWTeR3vM4asSgFsPEkYStFUNrgh2nt4Q47m\n",
       "TuahiRMVYlQzvs0D5DKPcO/qkq/P5iBcgMh1b4pG9ETFlkoACZtIlPVfxCf/vEkwoSTw7GAtrKQW\n",
       "cHG32zthGLQG0WJAZhE8boOyC0yAyCXiTYjNkIKS2SCA7n3dc79WMcizGVnSOUk6Q8yArEoA1sST\n",
       "Y/YmFAylaA7v+UAOWhO0mxEb2wMJMa0/RgVyi5Q5V/eBeiQL0U1NHiqveikSPVGwrFafRhUoMu2+\n",
       "Z2JlqUgY6ci5hJhGZWyfQ/PomAkmScLGwSooFFWije0G8YZADBMOFyJvQ0uOXyjgs56K/F4FE7kG\n",
       "kXtp3pB4ZxfMw66iA4iNhEGxgohxKGrnPT8ddVWRUnQCtfIjenDWPDobJFUgt4iwLTlBN9rR0bEV\n",
       "92FrDt4tYKf8PVGwrNY94GoOubudlxF9yFB41FvRPLLSBfFlBGMgiSLTjZ0A6/AwOMPGskDRhjS0\n",
       "/FkkAw5DfjryyB8QHARN2eBAfBnEAKFEO4xWMN9cqF8UpxSF0XJmrepdX4SmPFUc6AKao6lAXMS4\n",
       "ER1dLrLhKxDZ8Cr9OpoEWcCs0LBQBTKLCNuUF3VpCAXm6vqxa0guuoQnMlao9bzSY/Le6gWlUmrK\n",
       "CcyjPhWqs5Hnc8TCWtC9GDfQJiIngCRZIUFiTn3Mwe+EVF6LIZ0zDO0zVPKqKqRidVUxCcMpMuTz\n",
       "H7GEAz9poY96gdxij9scpygrO+XviYwVaqHEi3Hrtl+MYwtWFm79vwszL0h9sMdztw0dKBdkdZjg\n",
       "KClj5L7d3+PkAIx46CF1IXAOPUK+EVuK6V/VS0BuEWF5c8pTOE71xRP/2v/0lcctUqRIUXPnj5FH\n",
       "SR9UXYqme35o0+On6yrbxOb+vSf99FbqphT18//oAuqc4zJcj9f+9Wb4//ilVOOy5D/vY8WVoFM5\n",
       "agAAAABJRU5ErkJggg==\n",
       "\" style=\"display:inline;vertical-align:middle;\" /></a><br>(see <a class=\"ProveItLink\" href=\"../__pv_it/6ba293dc9a493614ae896386b262c486ed4314a20/dependencies.ipynb\">dependencies</a>)<br>"
      ],
      "text/plain": [
       "destructiveMultiDilemma: forall_{m in Naturals} [forall_{A_{1} in BOOLEANS, ..A_{_a} in BOOLEANS.., A_{m} in BOOLEANS, B_{1} in BOOLEANS, ..B_{_a} in BOOLEANS.., B_{m} in BOOLEANS | [not](A_{1}) or ..[not](A_{i}).. or [not](A_{m}), A_{1} => B_{1}, ..A_{i} => B_{i}.., A_{m} => B_{m}} ([not](B_{1}) or ..[not](B_{i}).. or [not](B_{m}))]"
      ]
     },
     "execution_count": 2,
     "metadata": {},
     "output_type": "execute_result"
    }
   ],
   "source": [
    "%proving destructiveMultiDilemma presuming []"
   ]
  },
  {
   "cell_type": "code",
   "execution_count": null,
   "metadata": {},
   "outputs": [],
   "source": []
  }
 ],
 "metadata": {
  "kernelspec": {
   "display_name": "Python 3",
   "language": "python",
   "name": "python3"
  }
 },
 "nbformat": 4,
 "nbformat_minor": 0
}
