{
 "cells": [
  {
   "cell_type": "markdown",
   "metadata": {},
   "source": [
    "Proof of <a class=\"ProveItLink\" href=\"../../../../_context_.ipynb\">proveit</a>.<a class=\"ProveItLink\" href=\"../../../_context_.ipynb\">logic</a>.<a class=\"ProveItLink\" href=\"../../_context_.ipynb\">boolean</a>.<a class=\"ProveItLink\" href=\"../_context_.ipynb\">disjunction</a>.<a class=\"ProveItLink\" href=\"../_theorems_.ipynb#trueEval\">trueEval</a> theorem\n",
    "========"
   ]
  },
  {
   "cell_type": "code",
   "execution_count": 1,
   "metadata": {},
   "outputs": [],
   "source": [
    "import proveit\n",
    "context = proveit.Context('..') # the theorem's context is in the parent directory"
   ]
  },
  {
   "cell_type": "code",
   "execution_count": 2,
   "metadata": {},
   "outputs": [
    {
     "name": "stdout",
     "output_type": "stream",
     "text": [
      "Beginning proof of trueEval\n",
      "Recorded 'presuming' information\n"
     ]
    },
    {
     "name": "stdout",
     "output_type": "stream",
     "text": [
      "Presuming previous theorems (applied transitively).\n"
     ]
    },
    {
     "data": {
      "text/html": [
       "<strong id=\"trueEval\">trueEval:</strong> <a class=\"ProveItLink\" href=\"../__pv_it/a4b9483d5a831135a8445349e7aad669e751a5d50/expr.ipynb\"><img src=\"data:image/png;base64,iVBORw0KGgoAAAANSUhEUgAAAuIAAAAWBAMAAAB3UeQqAAAAMFBMVEX///8QEBCIiIhmZma6urrM\n",
       "zMxUVFQiIiJERETc3Nzu7u6qqqp2dnaYmJgyMjIAAAAcRTyBAAAAAXRSTlMAQObYZgAABlpJREFU\n",
       "WMPlWV1oHFUUPplkdzK7s2leFGqpLFWsCk1XUpqYRrJStKAI2wptpWpDahX74oolrUVwX7QbfciC\n",
       "UEPVdq1ia9S4bJAaaHHRKpJaGRKLVWMasH1oQRtaS5vQH8/9mZk7P3czQ8G1eODe3Jz7nW9yv/t/\n",
       "AxDSWk5Dbe09nv6zNiKriBcAJrfCFCn/HpzvSBPJE0at2hPLsYQWmQoX+rS/u20bsV6Xd9/ry413\n",
       "g3ML8GjBVVdPP7CtG54n+sFR4jsbQnG9hHlTsVaKNxVYIsVpy5uhPeABR+xKtHPSqrKHRVkIMLww\n",
       "MLsIj/kMhHiS5ENU8QHMtVwIxSl4oGZzdpwntMlZy7uZZGMecJTIkUiyXxLnirKqspslthOx9TNB\n",
       "2Z3wr2WK60miOBmtdNgGVZxOiKM1U/xlnrCZwzOWdy3JdnhHYTdmKhf6k66CrKrsZmm6DbOG5qDs\n",
       "Tvj7MsVjzUS/xOjg4NsQRvGJwcGPs7USXMuyREaX8rdjrWlIeeFnMK3kZWNpWlZVdrN0kTEYSQVl\n",
       "d8HTEsXhFNEPLufzr4RSfF4+v7NSK8WVFEtoj8Sv2i1CV2PBCx/G1MeKDcWvDEmVqbjFol2iQ7IQ\n",
       "kN0F11Myxb+him+2PxxMcVy+/D7/71ijwRI2MB05b/tx2K/3gas49Pgm9SFsTEqqTMUtFv28k2YO\n",
       "dhc8QbZO/S9qKYfik1Txlb6baxXFcX4NsdbPpbsUcGJT5Z6qkVKAWmIJxyxoF8BSYhHAM35TIglR\n",
       "PsfTsDclqbIUN1nUi9wRjN2Cc3mzsjF+kCquguI6XK/rTCu3yjxHSI8vocWTwno12dK2wvOdk84F\n",
       "zcLsScKB5mqhToCIqEuzhNtZ6/LLAI+3Mf9+/3ETy/LRAZFNrS/k/KtsxU2WOnoKigVlN+Hmjjot\n",
       "U3wj1U83VJHkUKsRz41Ch8yDEceAdmKsy7ARiq79lnH/QV2Gg8XEaLjjJXJVQgWAG2Erjtnt+GMV\n",
       "v2WU/A9cK8xjVQPGTflX2YqbLCrV7Iug7BY8mOLa1FpxOo8MQnysHioyD0bsocci0PenbISiwKj7\n",
       "HmoBXBgVqSLJKqECwI2wVpU4phdtxbUp1XcV2gN8ipO4Zv8qW3GThR2tK0HZLTjv3Ky9jnc7FF9F\n",
       "9YM+XKISD6y5Q7krw85A8Q1PJEn4+PFFKaeHKd64iw6yNY1sGFKEojRMuFdtE+DGLMUjbKxYJdQG\n",
       "eBDWzvkOv0RyTeC1Mf+t5CnWVq1E76hmO8UqQXGTRSNboV4Mym7CqWB85/Qd42znhGHsksSDRt0W\n",
       "pRvoo0k8M3qc6PvTQpjv9DDF42x1667HwC3AEEr9fZ4nLgrgR1QRs5355KHbhUu9C0FOXiTRM3l/\n",
       "wdZkLbuhfI6tjV3jBTLDn2M9R64cjTNWO8UqUXHOAniQjHeAnJ1mNgWHU8FwyFdkincyxefhb7sX\n",
       "w7w0Ij9g+uq0UfuyMOvwcMWBHoYSJWUansTLFkXgxL/ftY5TADcH5gp1VQm9YhfdCDJjMcX6rxXh\n",
       "y+sv2Zo0sb9PJWr2mgW0P2h+4PpZiPdfSpntFKqIPQZOFoi1P7sMQM4OvQ4KBmeCITjjUbyBLYqn\n",
       "mX4J0k89sJqsj+vy+XwyntEMMoSiSby4Ojxc8V/ps0zn97P07ksRKEol6fwKA/DDjoghF67PqoVy\n",
       "gCfQecsHEDXRJG9ru52/8nb6VfmxhGOngpGTjezdM8v0o3YL3A17IxBlIxoeIg2sy9RXMg4PCBEd\n",
       "oF2kskX5MKy4rloUMH54fMO3Lkw722bkoQwwfnjCByG8ZDk0CWi8nUEtHDsVzPcliy+JSVs/bRp7\n",
       "/4QOOn0OS0Oior0Be0F9NGN7nIqTeXKVykYRig4/kJiBopkxQHmqrnTIhVEN+LRQLZQByjlVRAi3\n",
       "KvFmdTDcswxvZ1ALx04Fq3KhHBL164YzsGsU4E3Ssadw14ssgIdBOSZ4nIr352DgkkFf1Aji5x/b\n",
       "/wSMWV2IzCfZAg6IZvbDMhcGvuu8lz/G+YcyQDSzXkR4/yNB7K1Xe8JoYrUzmIVkZ4LJr+J94hph\n",
       "XVxx2eTbq8dDbbHzXLHDN8YuqTAM2ZIvZu7QJWnP52+C/7r9IqtIYFe0bJUHjgRhX3Oh5B9jlj6C\n",
       "O6Gn4IcJEHrIgP+TGTcUY4TlNW7owzeR/QOTN2L0Zu200wAAAABJRU5ErkJggg==\n",
       "\" style=\"display:inline;vertical-align:middle;\" /></a><br>(see <a class=\"ProveItLink\" href=\"../__pv_it/a4b9483d5a831135a8445349e7aad669e751a5d50/dependencies.ipynb\">dependencies</a>)<br>"
      ],
      "text/plain": [
       "trueEval: forall_{m in Naturals, n in Naturals} [forall_{A_{1} in BOOLEANS, ..A_{_a} in BOOLEANS.., A_{m} in BOOLEANS, C_{1} in BOOLEANS, ..C_{_a} in BOOLEANS.., C_{n} in BOOLEANS} ((A_{1} or ..A_{_a}.. or A_{m} or TRUE or C_{1} or ..C_{_a}.. or C_{n}) = TRUE)]"
      ]
     },
     "execution_count": 2,
     "metadata": {},
     "output_type": "execute_result"
    }
   ],
   "source": [
    "%proving trueEval presuming []"
   ]
  },
  {
   "cell_type": "code",
   "execution_count": null,
   "metadata": {},
   "outputs": [],
   "source": []
  }
 ],
 "metadata": {
  "kernelspec": {
   "display_name": "Python 3",
   "language": "python",
   "name": "python3"
  }
 },
 "nbformat": 4,
 "nbformat_minor": 0
}
