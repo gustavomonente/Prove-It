{
 "cells": [
  {
   "cell_type": "markdown",
   "metadata": {},
   "source": [
    "Proof of <a class=\"ProveItLink\" href=\"../../../../_context_.ipynb\">proveit</a>.<a class=\"ProveItLink\" href=\"../../../_context_.ipynb\">logic</a>.<a class=\"ProveItLink\" href=\"../../_context_.ipynb\">boolean</a>.<a class=\"ProveItLink\" href=\"../_context_.ipynb\">disjunction</a>.<a class=\"ProveItLink\" href=\"../_theorems_.ipynb#singularConstructiveMultiDilemma\">singularConstructiveMultiDilemma</a> theorem\n",
    "========"
   ]
  },
  {
   "cell_type": "code",
   "execution_count": 1,
   "metadata": {},
   "outputs": [],
   "source": [
    "import proveit\n",
    "context = proveit.Context('..') # the theorem's context is in the parent directory"
   ]
  },
  {
   "cell_type": "code",
   "execution_count": 2,
   "metadata": {},
   "outputs": [
    {
     "name": "stdout",
     "output_type": "stream",
     "text": [
      "Beginning proof of singularConstructiveMultiDilemma\n",
      "Recorded 'presuming' information\n",
      "Presuming previous theorems (applied transitively).\n"
     ]
    },
    {
     "data": {
      "text/html": [
       "<strong id=\"singularConstructiveMultiDilemma\">singularConstructiveMultiDilemma:</strong> <a class=\"ProveItLink\" href=\"../__pv_it/fa03bcb3e466ee88e051ef9d1ed3b6cf1aa562ea0/expr.ipynb\"><img src=\"data:image/png;base64,iVBORw0KGgoAAAANSUhEUgAAAfoAAAAZBAMAAAArnPHiAAAAMFBMVEX///8QEBCIiIhmZma6urrM\n",
       "zMxUVFQiIiJERETc3Nzu7u6qqqp2dnaYmJgyMjIAAAAcRTyBAAAAAXRSTlMAQObYZgAABQ9JREFU\n",
       "WMPtWF9oHEUc/mX2Lnf7L+mDCjUUDiNqBZuT1jZNIz0R6ZNwyYNF2oejaSvm6UDwRFo4X9qrgrmn\n",
       "GESao4W2LloOgw+FFFdRqdcqi0UbbKvx34OCEGpLa7Hgb2Zvd2d2526l7OVFB24zs/l+33zf7PwH\n",
       "iEkvVOqwqmlVKtxRsSFVORCLK8Mqp9WpUC3hY/Z/9/9h98s0f7WbmDhE4u4H6B/T6RH/sUObnXc8\n",
       "9+fpm9+7iYlDJO7eaOKfgUZv6Mk6gIV1nvs52g2q3cTEIRJ3zyqb6w27dhhbVfnLc0/bmDV2544Y\n",
       "g0h+3NOOdr437AP34yO1xnNvtizrra5i4hDJu79iWe/2aPLbTj9jOu/P+bdqtQPdxcQgknc/WKsd\n",
       "tnsz1d9k3b/uu98HcKS7GB8hx2U77M1ScQA5J1bYX3Rjlqbs9fRVoSPYPDRO6nGMHJNxLbTePw3a\n",
       "sgjdOV4g93FiPIR5Xar/h4JQ/H7Dlm2u6Q4AUf51iftUHk5j7mgOTq2hr6qdwOpPoL0Wy8gxZW6E\n",
       "3GeAcEurtrjR0astGOPEeIjjd6Sz6HZHiCaGernIu/cATvsnFKKcZfZ7DAWiDbPKu4+A57Fdl0Lv\n",
       "JCoDpr7bTFHg3nAyfBc5Y4H+tQI2J8ZDtF6SuTdO5oVoQqDl8O49wIPtOoVClJO6/5I1OmpI53j3\n",
       "PPgsfdDpaDIULzLqVErAlFmhzw8D9+ryc9gyT04Ok4eKtM9hxK7nc7x7hqDxNZn7yay/F2DRhKSu\n",
       "1Hn3HgDLij9G2wUJJ3V/NI3iRnCl1RqcewHcj9GEfklLDA8zvgg8E670mGxun39kL7p/yumbJiV3\n",
       "k6kXW9/w7hkC64Mt+IhswUqKvzixaKI8/qsw7hlgGvtAgTtWtAuMM+o+O4td+hX/Vdu9L+BcrVZ7\n",
       "8x78kpI9GMdoIKz2o8Ck0lnPaHDuF7C+tx+GwYJiw3HXvWHkeTELzN9lGIH0x2H3ZpOs+EOOuSew\n",
       "lR/3DLAbNxlaFbYGM4RboJwS9zp18HfYvSiAbIJBybIYYRwucEzwkQP6GH/GG6QjYg9MQKYJO7G1\n",
       "cnpRdcq8GIbQfr4w04BM2P3p8XO3/cWCRqN7O8e5dwGvYu5TrRTEsYLLKTnjXWsP6vc59yEB2v4G\n",
       "Hc+aeBqKMp6Y5phAG92/STjhmhR9LzwC82nsN+zbwzM5XgxDKA2YL0bdj4F6Ay6evbjrM3Cjqfs8\n",
       "554BmPtTSjGIYwXGaW67+sRiUXT/Hf5G3RHquw8EDG/ENNUABf9hiHJ4RkJhm8d4Jvn5Xl3Br79k\n",
       "gEFVmAUw7chx+1nsAw6tXH0d5hreI4VNfwc+WO5rLoIbTQy4YAfuXQBzb3wLfjAruJz6BhjS7ej5\n",
       "PuPAe3XOvS8ANMuyjtHvcxC0Lzgxcw2REWHWAwKT3H2qBL/BbAvgDXrp9QtOVWEx2VugzhyklaeH\n",
       "YKKeXksfQzBThbmbTn/xJNAORaMvfTX6BzfruQDmXsM+4MatdQttzn1aWSlIbjc+H3+UG/eBAJaY\n",
       "cmPqkwZMND3SiWaE0V1jfaaYux2CI7fbVQutXA9WU+8tLEC5GYrO8nHUPQijJiiU9XxG73a3Uw0J\n",
       "oIn7ls1ILmBUk7zZSo/gLvaMX/RyJ3D3sie83+bdT/7Z+YislUihf/2/dM8EiEmvh3MhxmTv9RxJ\n",
       "Tnb6Sexer/vViinJJXWrWbnr63Xl7sIkFeYTP+nuqJQgVXn5HxBZrulbCogQAAAAAElFTkSuQmCC\n",
       "\" style=\"display:inline;vertical-align:middle;\" /></a><br>(see <a class=\"ProveItLink\" href=\"../__pv_it/fa03bcb3e466ee88e051ef9d1ed3b6cf1aa562ea0/dependencies.ipynb\">dependencies</a>)<br>"
      ],
      "text/plain": [
       "singularConstructiveMultiDilemma: forall_{m in Naturals} [forall_{A_{1}, ..A_{_a}.., A_{m} in BOOLEANS | A_{1} or ..A_{_a}.. or A_{m}} [forall_{C | A_{1} => C, ..A_{i} => C.., A_{m} => C} C]]"
      ]
     },
     "execution_count": 2,
     "metadata": {},
     "output_type": "execute_result"
    }
   ],
   "source": [
    "%proving singularConstructiveMultiDilemma presuming []"
   ]
  },
  {
   "cell_type": "code",
   "execution_count": null,
   "metadata": {},
   "outputs": [],
   "source": []
  }
 ],
 "metadata": {
  "kernelspec": {
   "display_name": "Python 3",
   "language": "python",
   "name": "python3"
  }
 },
 "nbformat": 4,
 "nbformat_minor": 0
}
