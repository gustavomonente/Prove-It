{
 "cells": [
  {
   "cell_type": "markdown",
   "metadata": {},
   "source": [
    "Proof of <a class=\"ProveItLink\" href=\"../../../../_context_.ipynb\">proveit</a>.<a class=\"ProveItLink\" href=\"../../../_context_.ipynb\">logic</a>.<a class=\"ProveItLink\" href=\"../../_context_.ipynb\">boolean</a>.<a class=\"ProveItLink\" href=\"../_context_.ipynb\">disjunction</a>.<a href=\"../_theorems_.ipynb#destructiveDilemma\" class=\"ProveItLink\">destructiveDilemma</a> theorem\n",
    "========"
   ]
  },
  {
   "cell_type": "code",
   "execution_count": 1,
   "metadata": {},
   "outputs": [],
   "source": [
    "import proveit\n",
    "from proveit import defaults\n",
    "from proveit._common_ import A, B, C, D\n",
    "from proveit.logic import Implies, Not, Or\n",
    "from proveit.logic.boolean.disjunction._axioms_ import leftInBool, rightInBool\n",
    "leftInBool.proof().disable(); rightInBool.proof().disable() # disable these to avoid a longer proof\n",
    "context = proveit.Context('..') # the theorem's context is in the parent directory"
   ]
  },
  {
   "cell_type": "code",
   "execution_count": 2,
   "metadata": {},
   "outputs": [
    {
     "name": "stdout",
     "output_type": "stream",
     "text": [
      "Beginning proof of destructiveDilemma\n",
      "Recorded 'presuming' information\n"
     ]
    },
    {
     "name": "stdout",
     "output_type": "stream",
     "text": [
      "Presuming proveit.logic.boolean.implication.toContraposition, proveit.logic.boolean.negation.closure theorems (applied transitively).\n",
      "Presuming previous theorems (applied transitively).\n"
     ]
    },
    {
     "data": {
      "text/html": [
       "<strong id=\"destructiveDilemma\">destructiveDilemma:</strong> <a class=\"ProveItLink\" href=\"../__pv_it/6ba8d8009715f2af12f47ee824dcdf04ea3269aa0/expr.ipynb\"><img src=\"data:image/png;base64,iVBORw0KGgoAAAANSUhEUgAAAfcAAAAWBAMAAAAvNMiHAAAAMFBMVEX///8QEBCIiIhmZma6urrM\n",
       "zMxUVFQiIiJERETc3Nzu7u6qqqp2dnaYmJgyMjIAAAAcRTyBAAAAAXRSTlMAQObYZgAABgxJREFU\n",
       "WMPVWGtsFFUUPp19zuxs2x8kajRmoj+sJNCa1ZZHlU1IpH+aFn+If7Sb1EclBhr5IQSIqyFkK2rr\n",
       "D4GQQIfUFFJFa/AREg0j9VkrWeWHGB4uFH7YxEBAKw8NnnPPvfPY2QViYnRPctp7vz13zuOec+6d\n",
       "Aahl0ovMAUoNlYvtLAcOSC7R5ESNOr9XskdPID9bJmXk3WF69WymbxPEMT7E3xI2U6PO/yLZo3PI\n",
       "79IgJqbd9Kfelwp1GIgl3QZuOfF2yp58bfqebmH2IedsANPCUZz8TtMIjvgEerBIulrgEA6R60l6\n",
       "vDadTwwxe/T2EpwajbTzORKwCVznE2jG33+2YDcOkdOTY2PbajTrt0n2qNicxb9nVEksFV2x3yfw\n",
       "EsbmFhvqUYz4UqGw4d+yLrArsSo4F+Y/obsluxS1D1Lvn6DxfuQBGmj+wpgFWLESc72F+SkpI//6\n",
       "njTY3lqOwdFe595ysedCYlH+Z7qluLldG0pl1dQMLv1A4QOVNHVcnOjzBatj1pu+Jtmlt6CHqvyk\n",
       "qAkMt+hlSd9ZGJs90bSeDCoxLxV9D8e/SUNPT6/hHvA9wGeMnZzftlgMdlmwtzEstnwoiCV5mTpz\n",
       "9NNgYL4tVCa4ZxEvjUhnlAVBTelGMBt9La0RYrfJ8XrmyAtEDk6yMEzb/LHYcAviItwJNKmNJDDB\n",
       "tctY69gNUv3MCdBEaEb+ooYx8SBYzs4PxbNbAQ7aYHySKWqmfoySU0fz0vmwWDwXxNj5mCONHEYj\n",
       "jgKMQpqs93C51MjxTFig4iU1oWs5SF3xfsApPC3HcySLBYjHejOraU2PON37+cyDOpVxW9EwDKN2\n",
       "FSXPM5vFhPhpcg2q27LDBssy9wnkeYCH0OoDY6BpMEkRSqDZMSsspvUHMXY+roqZesojdN5qWTLB\n",
       "xeVSdVSTBXRD82mikQWRkovTFO6p4jxWW11JOQ+L+Q4TcL4BpbQLnvN66VGxTVZBdkfL6vxGhO53\n",
       "0GYgSnmkadHjlJvNeHQYdkiM8jKAsfMJqVSjjRsDyrA8JX/CvXrxUpgHrgWqKqQmpPe6Yb7tVQtO\n",
       "VTGqtHedx/xOUIUs48IBbvOJcc95OubjmFTRfmYYeFJsE7TJu66VuVNsTfTCD5txu4T5kfvO0v+1\n",
       "/JSgGAYwXgpiSfckEtrlHSqVg8/JSPd0kkvhI1AWmAWkU1lXE1LXvKach0MX8qoKDQ+fq6OX9edV\n",
       "w4Pk4xYEGt5WPuZ78l7Dg/0iQMegGYwW3r7Im6InlygnR4TzGiwkr/7kDSsXgzoniLHzHQBfo82l\n",
       "Blnj0TxexLG7KVwuFYLSAnmEZaUmosNemiNOU7hDzifUscYHJgU1iR0N2jmTnuGEMVu8s/YUWnEr\n",
       "whGHGRooQMb01KAdW1sovEyFqwkPHNCvwgo000LnHUsW7z4IicH75ZhQ9jDrzFH9Ghj+GLqbHfVw\n",
       "uZTfRtgC/mV0pdRE9Co2zHEXp2lKNf9lboqLt5xrM5Aa/ANdPcvAtIy5d8lZda23tUAPq+9mhjSp\n",
       "jNgw3A053j4zQv8bxiF6GZORd96h+C1AdiAkZswpw9j5x6STkTwf7VFs7PkHPFwt5WgIC7QMUusi\n",
       "VxMS9uauIRen6e5s1estyD4vaIecrwtfj/ZIZupEL4rwhfDAMadgO5piwxsOmBQfzYQpR38FEkV4\n",
       "B5UFxHps2JX1Y67ze5STG8GgPphGb77L+XC5FI7Tc9iCMaS7yC+hCVXqV0DHNFd4DKdnqr/YcJ5b\n",
       "wfmRsPPyxYYpeQn0wY2QxJRIb5h+vQjLx80XM62b8KctyD8eXvArxG4H+LJ9LkmXiS0KYF63t+Vd\n",
       "1uw9JLIry81a4Wop3I/PkRbIvi01ocqvLmb6sm4/p2mvDf4rYegSKo93j5Kh5FCvtEFqwsJlcl/0\n",
       "NKx52a2vJ+bDlPNa2csiHRxGBZxOCh+k+7/KQGW86seMSvd0I/TGTuEIh+Q634L4w89NiHnX2zKl\n",
       "n6pBGY63lyrPqaTyhp+x0jf+jPWT5GrfCSpgxZsT85zvDG5Ai6/B+Gmk6nMqqfzfU6RSXmh2lXyZ\n",
       "+1+Z+Tdf9OdmMYSqoQAAAABJRU5ErkJggg==\n",
       "\" style=\"display:inline;vertical-align:middle;\" /></a><br>(see <a class=\"ProveItLink\" href=\"../__pv_it/6ba8d8009715f2af12f47ee824dcdf04ea3269aa0/dependencies.ipynb\">dependencies</a>)<br>"
      ],
      "text/plain": [
       "destructiveDilemma: forall_{A in BOOLEANS, B in BOOLEANS, C in BOOLEANS, D in BOOLEANS | [not](C) or [not](D), A => C, B => D} ([not](A) or [not](B))"
      ]
     },
     "execution_count": 2,
     "metadata": {},
     "output_type": "execute_result"
    }
   ],
   "source": [
    "%proving destructiveDilemma presuming [proveit.logic.boolean.implication.toContraposition, proveit.logic.boolean.negation.closure]"
   ]
  },
  {
   "cell_type": "markdown",
   "metadata": {},
   "source": [
    "Prove by applying the **constructiveDilemma** after taking contraposing $A \\Rightarrow C$ to $\\lnot C \\Rightarrow \\lnot A$ and $B \\Rightarrow D$ to $\\lnot D \\Rightarrow \\lnot B$."
   ]
  },
  {
   "cell_type": "code",
   "execution_count": 3,
   "metadata": {},
   "outputs": [
    {
     "data": {
      "text/html": [
       "<strong id=\"defaults.assumptions\">defaults.assumptions:</strong> <a class=\"ProveItLink\" href=\"../__pv_it/8e2ebcc07c0521ffcbc48b74f5bdc2545467bb530/expr.ipynb\"><img src=\"data:image/png;base64,iVBORw0KGgoAAAANSUhEUgAAAhkAAAAUBAMAAADSNTJPAAAAMFBMVEX///9UVFTMzMx2dna6uroQ\n",
       "EBCqqqqIiIgiIiJmZmYyMjJERETu7u6YmJjc3NwAAAC+aOQFAAAAAXRSTlMAQObYZgAABdBJREFU\n",
       "WMPNWFtoXEUY/nf3JHvfbKovaaxJEVHrQxcUSvAWkECQSiL4EIzFxQexIroIoqVCWsWwSmk2aNF6\n",
       "yyLGh1BykaqRNM0KppcEdKUPoUpNgi8FkTRqTZvYxn/+uZ6z55zdhz50HoZz5nzzzX+fmQOQKsNN\n",
       "0CqkqF9yQv6smPTSDRWB2Ob58w77p/DbU+s9t8q3nzebBqfabYDXe2eGD6qhxP6mbamMH8FE88SS\n",
       "zwrzxpfTE4Pl3+F2h7CJcfWYbNlonMLvAZNxh6uKnEvMWj3afNwFI4QjtlE+NOaAxIK5+bPKYb0A\n",
       "0b/sgOJdiROfypdXy1B/pOxDsI7S/Ouzwqhhpj0Ae/fAHL20si5IcEP1hiLAYhYSRYNuzM0Ygou3\n",
       "OrTnUKsLigvH2JIFbrixkh0Rt8rhVumO4DUA66odMP44vBKXnj2E3dCSD8Eadke8VxBSUAxMoiTR\n",
       "6xDKsbctrFtg3Xlj6k78Fu0G2KWHKhQwucQsNH1XoRIlhUO2CNfhlNTl13y+KGStz0plwkiYXOOr\n",
       "TubfldZ4TlpjmEnS4UfAAqur7AmIaEvGnsbO6oZEN3vbzjpmazhsyN+HHrbQQ7N66JTpjJMOLjEL\n",
       "EYs55QyFl8Ih20U+Uu7jNeDeN7TnQrulMnEknCWZgt+WdGzcL7I9Sjlwjx/BJexWMp6Ai1qToSxb\n",
       "Bl34hcwPi/kzdcCwxgwb+Bu/6lomFeBCOLmofY3B0qMiKKjqkBQO2fbRgFV6mRyXOGbEced2mWQN\n",
       "aQgeJJ65ks4U680t/HGFJP3Rj4At3ZX2BOzTm8sVokEjtNHWUhBeDJshvsFEXgUIqUGpgC3xNBc1\n",
       "nHD3bRqkUk8Kh2zTNPADpaJZpeNWz+aTKk+3LUxm6UlX+vGOgcvCHY+o8PMkYIi+jCdgWhGE1uTT\n",
       "L9QfEJ6Olx2JHsbYSKoyKhWI5qlddXDRrNUL+/vp6UPCDBQcwiEb/94OK/Qtbta40IWMzrjEE9wG\n",
       "ZhV96Bx/HNCF2ouAIVraPQH9Uo9MRG1dz1P/GgBtw5Gs0OItkeiBfzByVPpIBeRp5UuaY9sGWfGb\n",
       "TRsDL2TtwiEbeSfYdLSF9LxzBJuscUxhlXHQRzn4FANIazAMa89Q+pR8CFiiw2VvgIyRVLruP4pu\n",
       "5jIaOSP20TpZFpZFojdgLQtekn6XCsg2xxg1lyx+YXOXTwy324RDNpLDwpm05h+m52A8oDMO+lg8\n",
       "pWyxEQdu6gFyR6sPAUv05DVvgLZGhBR8Vlkjmg1lndagRF8sG9ZQCkieW1hCai5R/CBs5s7yw3bh\n",
       "kI0yBdeL0D5UZ5M1HdPHDR7n0G1aIwBcAtrcQuBDwISYHfcG9Ctr8NMBS6BOPlKMgMwUaQ2W6Ile\n",
       "ZgSZKUqB6AhvVJ00lzxusPQC+IhjRh3CIRurXykki5Edozmb587pjAtu0OMHtthI8pVW2KwHwYcA\n",
       "Ezgx4gOYVtZIMdlCJVVF4asFsFXRZZ7oc8wRsopqBUSo8HHNJY8bO410egwcwiFbm9jt49dtTsJz\n",
       "cybUloafGG8Mzd5xwu4iKN4B9w1CYp0lCcbO3hL4EKCknQUfQJscbAXcKes/YY/v8ZHth/j+IItk\n",
       "kA7h1jtk2gyfbigA5jlAcBEGhnFWrz6wqq1eCYdsGI/zm8egfuYKLff98ZLtThVBWQJjeN35RnA0\n",
       "77bf2vIMf3aiSaa1B8Fg82c+AJEVfIWPG9+nh8+FsNwMlj59bd1savyOUiHWStNNBUCd5zUXLbGV\n",
       "3Tyzep2A2Ai1cIzNcXN+dDJvliN40XGotx4QJ3O5lzmvB9UIXAGRpco7hlA/JRY47HLdOuPGj83J\n",
       "5oZJubElC/63/kyVvwKhar8NMrUAXKQI5ezv512m7qqFv0YMZzvpi0jkqlCcrvK9KgEHVEox53iP\n",
       "u4RPsQZ+qA3D2Wz/WSpbshpHtT9nVQmSFX977PdQl789poGSNeiZrCk0yNw36Z/AZA1/An+7oSIg\n",
       "2/8L2y6+s+tJfgAAAABJRU5ErkJggg==\n",
       "\" style=\"display:inline;vertical-align:middle;\" /></a><br>"
      ],
      "text/plain": [
       "defaults.assumptions: (A in BOOLEANS, B in BOOLEANS, C in BOOLEANS, D in BOOLEANS, [not](C) or [not](D), A => C, B => D)"
      ]
     },
     "execution_count": 3,
     "metadata": {},
     "output_type": "execute_result"
    }
   ],
   "source": [
    "defaults.assumptions = destructiveDilemma.allConditions()"
   ]
  },
  {
   "cell_type": "code",
   "execution_count": 4,
   "metadata": {},
   "outputs": [
    {
     "data": {
      "text/html": [
       "<span style=\"font-size:20px;\"><a class=\"ProveItLink\" href=\"../__pv_it/047ead602476d71ecf0c7ff0d017244c2df9c7e10/expr.ipynb\"><img src=\"data:image/png;base64,iVBORw0KGgoAAAANSUhEUgAAAJEAAAAVBAMAAAC01xHeAAAAMFBMVEX///+IiIi6urrc3NxERETM\n",
       "zMwQEBCqqqpUVFQiIiJ2dnYyMjLu7u5mZmaYmJgAAABN0h6tAAAAAXRSTlMAQObYZgAAAfJJREFU\n",
       "OMtjYGDgu8dAIWC9eABE8exioBgwpYJIvg9QgzdgU8Mj0tvHvABuOZoayRT/bTMUgIzbIB7XBIgo\n",
       "9wdsJok9YGC/9gDGw1CzIZDHBxQ4K5FNev0Hi0FH5gCJ+wYwLoYaBz0GURY0k3hqPyMUsMD0bgMF\n",
       "pRrcq3A1T2bO3AA1qRzdJD7GT0iR4QCheb+DyFiYMFxNiAzCTYuOoJmkw/4PydVvIZQ9WO4wTBSm\n",
       "hmcPwndMU1uB9DIQhwPsTB4F1o9guZszQWD+BTBnvQBKPMLUcMADzkFt/jdQ3L0HccoCwCmCgfkv\n",
       "sq7qAhA5PwAl1cDUsCCH+LpXoEgF2hwyGSwUcffGFxT7t4Gsygen3QNQMbiasN1AAAtxFiZQIukE\n",
       "ul4NbC9QXzaySRaLwW4CEewwh8HVmCC7iYWhAeimBpCnQfHEDsTTwHK3d4PBZjAHnJK4oLoQatiQ\n",
       "TeJg2AANJ3DcmQPxfiQnaUPjDhTia6BiCDW8Ashu4lsAjTuQScwg0/wNEKEEjWZQrNceYOD5zYCq\n",
       "Zjo8t0QxrLqBlJ54/H8fYCj5PxduEgcsaM569IJCfuYBVDUnnA6g5mCUfIcMmNH47AfQBLQ8Z6IU\n",
       "CxCTEgiXP1yEFKxELp/wgYOEFIDLJwYiyswHhMrMJEggUKccBwD/oZTS2jVMqAAAAABJRU5ErkJg\n",
       "gg==\n",
       "\" style=\"display:inline;vertical-align:middle;\" /></a> <a class=\"ProveItLink\" href=\"../__pv_it/df7cced2952ab73ccbec3c12c3c68980463f31170/proof.ipynb\" style=\"text-decoration: none\">&#x22A2;&nbsp;</a><a class=\"ProveItLink\" href=\"../__pv_it/6b11ecc4632ea76f8991e9ddd8af86b2414432690/expr.ipynb\"><img src=\"data:image/png;base64,iVBORw0KGgoAAAANSUhEUgAAAHgAAAAUBAMAAAC0fOTAAAAAMFBMVEX////MzMxUVFR2dna6uroQ\n",
       "EBCqqqqIiIgiIiJmZmYyMjJERETu7u6YmJjc3NwAAACgK8IjAAAAAXRSTlMAQObYZgAAAZlJREFU\n",
       "OMuNlDtMAkEQhsfw8MDjYq0FPiobtaWjpKSwhEQ7raSl0opYErUxmoCJsTAGjJUNeIXRhGuorS6x\n",
       "oRMrMTHo7Nzti1sjm+zO7n/f3M3O7B6A0we9JX0wNDPmKcLL/XH/DdZNzp62WsDOsJaUZssAe2Xo\n",
       "mZxb2qqNHbFMXSj2gwuQGkOsEvVVMLZqI4mYJXeYLuEQL4JdlFg3tJaWiOcGLhEbSKmxjcMMfuJK\n",
       "aouhHWhx9A/ywLCqzOeIYsd35qLhVlXfuLvPcp+DjpBin3z2yobUEbWvQOqozk+QrRBW49im9cEf\n",
       "7qrlvCYjMVzk4b1O2BYPeinxTWFjz6qf6REhMUzL2tnGHWFStYbM7kw4O6v+pHMcINEkrCZUrDA2\n",
       "FlaB9nwTNJ+HLZyxKFaRsI5QHZawmMsTFia2qScMnR10Tg8JE2WZB8x/8oJNT5Qdu4FVMFbyuTFh\n",
       "BQna5yunNLmU2nJoJeb93ELycVRnmBW9gPahnPvG48kx/cQHp+XfiyGwbkQ1Xkkz5k3B/YlF/i+Z\n",
       "6X5DiP0CRbd0fszJwaEAAAAASUVORK5CYII=\n",
       "\" style=\"display:inline;vertical-align:middle;\" /></a></span>"
      ],
      "text/plain": [
       "{A => C, A in BOOLEANS} |- [not](C) => [not](A)"
      ]
     },
     "execution_count": 4,
     "metadata": {},
     "output_type": "execute_result"
    }
   ],
   "source": [
    "Implies(A, C).contrapose()"
   ]
  },
  {
   "cell_type": "code",
   "execution_count": 5,
   "metadata": {},
   "outputs": [
    {
     "data": {
      "text/html": [
       "<span style=\"font-size:20px;\"><a class=\"ProveItLink\" href=\"../__pv_it/6b6984d9efdba41b578201d779a464a0684d870b0/expr.ipynb\"><img src=\"data:image/png;base64,iVBORw0KGgoAAAANSUhEUgAAAJcAAAAVBAMAAAC5yWGZAAAAMFBMVEX///+IiIi6urrc3NxERETM\n",
       "zMwQEBCqqqpUVFQiIiJ2dnYyMjLu7u5mZmaYmJgAAABN0h6tAAAAAXRSTlMAQObYZgAAAhBJREFU\n",
       "OMtjYGDgu8dAOWC9eABE8exioAZgSgWRfB9A5Iv/vTdcFDDV8PV/6XBphvGwqJJM8d82AyR0G8Tj\n",
       "mgAWTGFg4P2KxUb+DQwM7wtgPCyqNgTy+IACaiXCMNZ/QJf+xWJYvABQfwIsZLCoctBjEGVBNYzx\n",
       "M9BLH+EqnOEs+QCg/n9QDpIqPs+Zs2GGlaMZxgK0/NgcuBEhcJY/EDP/gnIQqlgdDyBctugIqmH8\n",
       "DQysMw4gwv0CjPUFFFM/YAEIV3X6AMKbTFNbgfQyEIdjAzho+h56goOZdyYYwAKGFeQpRpjL4KoY\n",
       "mhFhpjb/Gyg234M4ZQHgoDFg4MlAClb27dBQAsUdxydYAMJVOSBHwLpXQJob6JmQyWAhN5DSAiTT\n",
       "TidBQgmUCvlhsQlXxZq9GwhghrEwPQAyOoHxrgZ2GShU5AUQZjF3GUBCCeSE9w+gonBVzCguY2Fo\n",
       "ALqsAeQHB2gCYugHeZ13NwQYIJIZTwpSMoOoYkhANoyDYQM0zMCxCUpArF+QctoGpGR2egNSMoOq\n",
       "uojiMr4F0NgEG8YNtEnNBynEYDG/H2jwXCB9fgOqKk54+G6IYlh1Azmdcez/cbfFHSn4W6F09//e\n",
       "Dl+QjznnoKriadFBy+hIiRYNGGCI1KAXOUug2QkGIIYlEFVeLSCkYCWiPCMEeAQIqQCXZwxElbR8\n",
       "BEtaSCJnp1odAABU+KM6uDyY6AAAAABJRU5ErkJggg==\n",
       "\" style=\"display:inline;vertical-align:middle;\" /></a> <a class=\"ProveItLink\" href=\"../__pv_it/abf3ca548abd25e23ae494fefbfaad3a2b142df20/proof.ipynb\" style=\"text-decoration: none\">&#x22A2;&nbsp;</a><a class=\"ProveItLink\" href=\"../__pv_it/541cafefdf5531e7cfbaf0eb4ac8c5cab2896ffe0/expr.ipynb\"><img src=\"data:image/png;base64,iVBORw0KGgoAAAANSUhEUgAAAHsAAAAUBAMAAABfS1/DAAAAMFBMVEX////MzMxUVFR2dna6uroQ\n",
       "EBCqqqqIiIgiIiJmZmYyMjJERETu7u6YmJjc3NwAAACgK8IjAAAAAXRSTlMAQObYZgAAAbtJREFU\n",
       "OMuNlD1IQlEUx//PpFKf5t6Q0RRSuUmbS+BWRFtLY1O4NikN0tAgRkNLGESDQ4VQBH25CGGLtAQO\n",
       "8ca2VKgwsTrnvvd89+qLOsP9OPd37jnnnnsvEKqhT4YNuMggt8HNgzN//C5FS2Q762aucNP5qwQ8\n",
       "7OZEQj6B4DtQdTOXuVXA14ReIDznaLUPavaAodSgtcJ1AW8biAOjUqIjTWoWa9CXHN2t1SvcF21H\n",
       "rirAi+Qh0KDmNQYcObpxq1c42r6yA/gT2JTUY2fsPQLMDwatcBFoW2VKMocbST3BOafJe51nvm0h\n",
       "bXNN4WaeLtd46wKyNkdW6TDp5hLAunwLjkWncAb0ZV7KYMW+FRTzHQ/eeHv5zKsCkblzDpLcaw1F\n",
       "3eGAun3moSmj37zF5ilhnnXUouwVPr6kyL1oimEH3+O6Vo7eTO9ISM1l14s8qTvOvQX16Jijsmsd\n",
       "8+h6NQrDT2VPijrtSpmXzV7mqOwL1xxfzIxTiOe0lY8eiOGhYz5p9Qq3H73gkT+sXEZb9IwzNlwu\n",
       "rS336lOw5a8nY0tcehNypd0e7CDHD1b+Bn4nXbmA4foJBf/5WT0DP2kcgFRLW2/lAAAAAElFTkSu\n",
       "QmCC\n",
       "\" style=\"display:inline;vertical-align:middle;\" /></a></span>"
      ],
      "text/plain": [
       "{B => D, B in BOOLEANS} |- [not](D) => [not](B)"
      ]
     },
     "execution_count": 5,
     "metadata": {},
     "output_type": "execute_result"
    }
   ],
   "source": [
    "Implies(B, D).contrapose()"
   ]
  },
  {
   "cell_type": "code",
   "execution_count": 6,
   "metadata": {},
   "outputs": [],
   "source": [
    "#Or(Not(C), Not(D)).deriveViaMultiDilemma(Or(Not(A), Not(B)))"
   ]
  },
  {
   "cell_type": "code",
   "execution_count": 7,
   "metadata": {},
   "outputs": [],
   "source": [
    "#%qed"
   ]
  },
  {
   "cell_type": "code",
   "execution_count": null,
   "metadata": {},
   "outputs": [],
   "source": []
  }
 ],
 "metadata": {
  "kernelspec": {
   "display_name": "Python 3",
   "language": "python",
   "name": "python3"
  }
 },
 "nbformat": 4,
 "nbformat_minor": 0
}
