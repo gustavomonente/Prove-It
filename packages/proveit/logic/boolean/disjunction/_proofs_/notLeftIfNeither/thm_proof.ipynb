{
 "cells": [
  {
   "cell_type": "markdown",
   "metadata": {},
   "source": [
    "Proof of <a class=\"ProveItLink\" href=\"../../../../../_theory_.ipynb\">proveit</a>.<a class=\"ProveItLink\" href=\"../../../../_theory_.ipynb\">logic</a>.<a class=\"ProveItLink\" href=\"../../../_theory_.ipynb\">boolean</a>.<a class=\"ProveItLink\" href=\"../../_theory_.ipynb\">disjunction</a>.<a class=\"ProveItLink\" href=\"../../_theorems_.ipynb#notLeftIfNeither\">notLeftIfNeither</a> theorem\n",
    "========"
   ]
  },
  {
   "cell_type": "code",
   "execution_count": null,
   "metadata": {},
   "outputs": [],
   "source": [
    "import proveit\n",
    "from proveit import defaults\n",
    "from proveit._common_ import A, B\n",
    "from proveit.logic import inBool, Not, Or\n",
    "theory = proveit.Theory() # the theorem's theory"
   ]
  },
  {
   "cell_type": "code",
   "execution_count": null,
   "metadata": {},
   "outputs": [],
   "source": [
    "%proving notLeftIfNeither"
   ]
  },
  {
   "cell_type": "code",
   "execution_count": null,
   "metadata": {},
   "outputs": [],
   "source": [
    "defaults.assumptions = notLeftIfNeither.allConditions()"
   ]
  },
  {
   "cell_type": "code",
   "execution_count": null,
   "metadata": {},
   "outputs": [],
   "source": [
    "AorB_given_A = Or(A, B).concludeViaExample(A, defaults.assumptions + (A,))"
   ]
  },
  {
   "cell_type": "code",
   "execution_count": null,
   "metadata": {},
   "outputs": [],
   "source": [
    "A_impl_AorB = AorB_given_A.asImplication(A)"
   ]
  },
  {
   "cell_type": "code",
   "execution_count": null,
   "metadata": {},
   "outputs": [],
   "source": [
    "A_impl_AorB.denyAntecedent()"
   ]
  },
  {
   "cell_type": "code",
   "execution_count": null,
   "metadata": {},
   "outputs": [],
   "source": [
    "%qed"
   ]
  },
  {
   "cell_type": "code",
   "execution_count": null,
   "metadata": {},
   "outputs": [],
   "source": []
  }
 ],
 "metadata": {
  "kernelspec": {
   "display_name": "Python 3",
   "language": "python",
   "name": "python3"
  }
 },
 "nbformat": 4,
 "nbformat_minor": 0
}
