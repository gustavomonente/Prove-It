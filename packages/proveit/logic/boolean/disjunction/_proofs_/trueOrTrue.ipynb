{
 "cells": [
  {
   "cell_type": "markdown",
   "metadata": {},
   "source": [
    "Proof of <a class=\"ProveItLink\" href=\"../../../../_context_.ipynb\">proveit</a>.<a class=\"ProveItLink\" href=\"../../../_context_.ipynb\">logic</a>.<a class=\"ProveItLink\" href=\"../../_context_.ipynb\">boolean</a>.<a class=\"ProveItLink\" href=\"../_context_.ipynb\">disjunction</a>.<a href=\"../_theorems_.ipynb#trueOrTrue\" class=\"ProveItLink\">trueOrTrue</a> theorem\n",
    "========"
   ]
  },
  {
   "cell_type": "code",
   "execution_count": 1,
   "metadata": {},
   "outputs": [],
   "source": [
    "import proveit\n",
    "from proveit.logic.boolean.disjunction._axioms_ import orTT\n",
    "context = proveit.Context('..') # the theorem's context is in the parent directory"
   ]
  },
  {
   "cell_type": "code",
   "execution_count": 2,
   "metadata": {},
   "outputs": [
    {
     "name": "stdout",
     "output_type": "stream",
     "text": [
      "Beginning proof of trueOrTrue\n",
      "Recorded 'presuming' information\n",
      "trueOrTrue has been proven.  Now simply execute \"%qed\".\n"
     ]
    },
    {
     "data": {
      "text/html": [
       "<strong id=\"trueOrTrue\">trueOrTrue:</strong> <a class=\"ProveItLink\" href=\"../__pv_it/4adbac21b979622f54a8418e5a9d4d51473be0000/expr.ipynb\"><img src=\"data:image/png;base64,iVBORw0KGgoAAAANSUhEUgAAADUAAAAPBAMAAAC2KZqIAAAALVBMVEX///92dnZERETc3NwyMjLu\n",
       "7u7MzMyYmJi6urqIiIiqqqpUVFQiIiJmZmYAAAAtULTAAAAAAXRSTlMAQObYZgAAAHlJREFUGNNj\n",
       "uHMGBE4zIAFesNCZDSD2SogQG5hMAJNcE6DqoHLcIGH2CVjl2ECG8ARglWNwBuJeBuxya4FYGYcc\n",
       "D9BcBRxynBMYuBtwyLEeYAhhwCHHcItBCqecCcMBnHJM6RNwyrHtCUCXa4eHsi+MwVHAgA5MUXgA\n",
       "6F4mSiD358QAAAAASUVORK5CYII=\n",
       "\" style=\"display:inline;vertical-align:middle;\" /></a><br>(see <a class=\"ProveItLink\" href=\"../__pv_it/4adbac21b979622f54a8418e5a9d4d51473be0000/dependencies.ipynb\">dependencies</a>)<br>"
      ],
      "text/plain": [
       "trueOrTrue: TRUE or TRUE"
      ]
     },
     "execution_count": 2,
     "metadata": {},
     "output_type": "execute_result"
    }
   ],
   "source": [
    "%proving trueOrTrue presuming []"
   ]
  },
  {
   "cell_type": "code",
   "execution_count": 3,
   "metadata": {},
   "outputs": [
    {
     "data": {
      "text/html": [
       "<table><tr><th>&nbsp;</th><th>step type</th><th>requirements</th><th>statement</th></tr>\n",
       "<tr><td><a name=\"-0x54a7002bb59a1d10_step0\">0</a></td><td>instantiation</td><td><a href=\"#-0x54a7002bb59a1d10_step1\">1</a>, <a href=\"#-0x54a7002bb59a1d10_step2\">2</a></td><td><span style=\"font-size:20px;\"> <a class=\"ProveItLink\" href=\"../__pv_it/3064ac9073c4cad6423581d918dda41c268b33740/proof.ipynb\" style=\"text-decoration: none\">&#x22A2;&nbsp;</a><a class=\"ProveItLink\" href=\"../__pv_it/4adbac21b979622f54a8418e5a9d4d51473be0000/expr.ipynb\"><img src=\"data:image/png;base64,iVBORw0KGgoAAAANSUhEUgAAADUAAAAPBAMAAAC2KZqIAAAALVBMVEX///92dnZERETc3NwyMjLu\n",
       "7u7MzMyYmJi6urqIiIiqqqpUVFQiIiJmZmYAAAAtULTAAAAAAXRSTlMAQObYZgAAAHlJREFUGNNj\n",
       "uHMGBE4zIAFesNCZDSD2SogQG5hMAJNcE6DqoHLcIGH2CVjl2ECG8ARglWNwBuJeBuxya4FYGYcc\n",
       "D9BcBRxynBMYuBtwyLEeYAhhwCHHcItBCqecCcMBnHJM6RNwyrHtCUCXa4eHsi+MwVHAgA5MUXgA\n",
       "6F4mSiD358QAAAAASUVORK5CYII=\n",
       "\" style=\"display:inline;vertical-align:middle;\" /></a></span></td></tr>\n",
       "<tr><td>&nbsp;</td><td colspan=4 style=\"text-align:left\"><span style=\"font-size:20px;\"><a class=\"ProveItLink\" href=\"../../../../__pv_it/d3792d0d8642fdf1cd2a3a9b32c673ee13653de00/expr.ipynb\"><img src=\"data:image/png;base64,iVBORw0KGgoAAAANSUhEUgAAAA8AAAAOBAMAAAACpFvcAAAALVBMVEX///8iIiIQEBBERERUVFS6\n",
       "urqIiIjc3NxmZmaqqqru7u6YmJgyMjLMzMwAAACK9jtgAAAAAXRSTlMAQObYZgAAAFtJREFUCNdj\n",
       "YACBOwxQcA5Kc59bAGGs7CuAMDbkBYBp1gXzNoAZSxnuJYAZAQx1DSCa16PDzwCshIGB6QCIMYGB\n",
       "gVEBSLMDGTwPgIxCIGZ+zsCw+N0pBk67hw0AfpEVEQi8t+wAAAAASUVORK5CYII=\n",
       "\" style=\"display:inline;vertical-align:middle;\" /></a> : <a class=\"ProveItLink\" href=\"../__pv_it/4adbac21b979622f54a8418e5a9d4d51473be0000/expr.ipynb\"><img src=\"data:image/png;base64,iVBORw0KGgoAAAANSUhEUgAAADUAAAAPBAMAAAC2KZqIAAAALVBMVEX///92dnZERETc3NwyMjLu\n",
       "7u7MzMyYmJi6urqIiIiqqqpUVFQiIiJmZmYAAAAtULTAAAAAAXRSTlMAQObYZgAAAHlJREFUGNNj\n",
       "uHMGBE4zIAFesNCZDSD2SogQG5hMAJNcE6DqoHLcIGH2CVjl2ECG8ARglWNwBuJeBuxya4FYGYcc\n",
       "D9BcBRxynBMYuBtwyLEeYAhhwCHHcItBCqecCcMBnHJM6RNwyrHtCUCXa4eHsi+MwVHAgA5MUXgA\n",
       "6F4mSiD358QAAAAASUVORK5CYII=\n",
       "\" style=\"display:inline;vertical-align:middle;\" /></a></span></td></tr><tr><td><a name=\"-0x54a7002bb59a1d10_step1\">1</a></td><td>axiom</td><td></td><td><span style=\"font-size:20px;\"> <a class=\"ProveItLink\" href=\"../../_axioms_.ipynb#eqTrueElim\" style=\"text-decoration: none\">&#x22A2;&nbsp;</a><a class=\"ProveItLink\" href=\"../../__pv_it/c40d2fe3b647e54f3c41cbb64fa7a5fea23ad4ba0/expr.ipynb\"><img src=\"data:image/png;base64,iVBORw0KGgoAAAANSUhEUgAAAGgAAAAWBAMAAADeGsQjAAAAMFBMVEX///8QEBCIiIhmZma6urrM\n",
       "zMxUVFQiIiJERETc3Nzu7u6qqqp2dnaYmJgyMjIAAAAcRTyBAAAAAXRSTlMAQObYZgAAAUpJREFU\n",
       "OMtjYCAHPAARd0nQwArUcRrEeEWCJr4PDAwzgDRnAwma7v0CalzAwMCzgXg9XJt/MjDwnlq1ajoJ\n",
       "FvEyfQGSPzo6akjQ5MX9F0imMjB0grkQkgUmyzEBq+scWD8BKWcGLnCw836BqIVJ33eAMng6OiQ6\n",
       "eqAcFgbOz0CKnYHpAoi7+C+KJi77CwjzEaEbZmz2A2TQBXYw91Qxiiae5QbYNAGtlwNF0oMwcEQr\n",
       "dKBoCuJowKKJG4gLwQGQAiLZGMxRNCUwFzBkdADBBWRNs4H4PYixuQBE3mbQR9bEu4HpA6ZNnCCl\n",
       "/aBg5VcA+fvxmf4FSJrW2Zz4haGJq//fAoYd/0Ge5wUpZl7AMD8ASZMVA+dXhrx3QIDiPFTgC7Tx\n",
       "AkITC5D9F1voIQOOHwyc/bUITf0NDDO+IyIqgUDa4iAnJ9NPEzMRagC48VUODJp6sgAAAABJRU5E\n",
       "rkJggg==\n",
       "\" style=\"display:inline;vertical-align:middle;\" /></a></span></td></tr>\n",
       "<tr><td>&nbsp;</td><td colspan=4 style-\"text-align:left\"><a class=\"ProveItLink\" href=\"../../_axioms_.ipynb#eqTrueElim\">proveit.logic.boolean.eqTrueElim</a></td></tr><tr><td><a name=\"-0x54a7002bb59a1d10_step2\">2</a></td><td>axiom</td><td></td><td><span style=\"font-size:20px;\"> <a class=\"ProveItLink\" href=\"../_axioms_.ipynb#orTT\" style=\"text-decoration: none\">&#x22A2;&nbsp;</a><a class=\"ProveItLink\" href=\"../__pv_it/076ee77368cebfdab42bbf9d88db9c33e01699d20/expr.ipynb\"><img src=\"data:image/png;base64,iVBORw0KGgoAAAANSUhEUgAAAHAAAAAUBAMAAACnq6Q0AAAAMFBMVEX////MzMxUVFR2dna6uroQ\n",
       "EBCqqqqIiIgiIiJmZmYyMjJERETu7u6YmJjc3NwAAACgK8IjAAAAAXRSTlMAQObYZgAAAQpJREFU\n",
       "OMtjYOC7wIAH5OGWOs3A2QEGCsiiM8BCTQxMD9DVw2QY1oF4bAUQUQEQwQhhp4MIngVY7ALL8E5A\n",
       "1qgIIq4jSTOY49LI8QBZoxCI6EHWeBSXxhcMyBq5gMawTEDWyOWAQ2MlikY2oCbuB8gamSfg0LgX\n",
       "RSNDAwODNLI0Ay84dKxWgcBKZJk2VI3lDAwqKBrZGnDYGIKq8QQiAiAaGT8Qp5EzgTmBOI1oTuVb\n",
       "wIEizcDSgPDjIjyBw7DxOgOWwMFioyWaRqEeVI2cBjg0ekAcBM8iXPB484XwBTA1+iKSHALwHUDl\n",
       "n8CVq3gnMOAF5jhl9uHVhzVbwTIyPsD9AKcU/qLjHi4JABqGSPnwNDtcAAAAAElFTkSuQmCC\n",
       "\" style=\"display:inline;vertical-align:middle;\" /></a></span></td></tr>\n",
       "<tr><td>&nbsp;</td><td colspan=4 style-\"text-align:left\"><a class=\"ProveItLink\" href=\"../_axioms_.ipynb#orTT\">proveit.logic.boolean.disjunction.orTT</a></td></tr></table>"
      ],
      "text/plain": [
       "\tstep type\trequirements\tstatement\n",
       "0\tinstantiation\t1, 2\t|- TRUE or TRUE\n",
       "\tA : TRUE or TRUE\n",
       "1\taxiom\t\t|- forall_{A | A = TRUE} A\n",
       "\tproveit.logic.boolean.eqTrueElim\n",
       "2\taxiom\t\t|- (TRUE or TRUE) = TRUE\n",
       "\tproveit.logic.boolean.disjunction.orTT"
      ]
     },
     "execution_count": 3,
     "metadata": {},
     "output_type": "execute_result"
    }
   ],
   "source": [
    "%qed"
   ]
  },
  {
   "cell_type": "code",
   "execution_count": null,
   "metadata": {},
   "outputs": [],
   "source": []
  }
 ],
 "metadata": {
  "kernelspec": {
   "display_name": "Python 3",
   "language": "python",
   "name": "python3"
  }
 },
 "nbformat": 4,
 "nbformat_minor": 0
}
