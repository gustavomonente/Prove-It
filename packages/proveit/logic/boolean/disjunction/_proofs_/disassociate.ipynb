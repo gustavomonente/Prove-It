{
 "cells": [
  {
   "cell_type": "markdown",
   "metadata": {},
   "source": [
    "Proof of <a class=\"ProveItLink\" href=\"../../../../_context_.ipynb\">proveit</a>.<a class=\"ProveItLink\" href=\"../../../_context_.ipynb\">logic</a>.<a class=\"ProveItLink\" href=\"../../_context_.ipynb\">boolean</a>.<a class=\"ProveItLink\" href=\"../_context_.ipynb\">disjunction</a>.<a class=\"ProveItLink\" href=\"../_theorems_.ipynb#disassociate\">disassociate</a> theorem\n",
    "========"
   ]
  },
  {
   "cell_type": "code",
   "execution_count": 1,
   "metadata": {},
   "outputs": [],
   "source": [
    "import proveit\n",
    "context = proveit.Context('..') # the theorem's context is in the parent directory"
   ]
  },
  {
   "cell_type": "code",
   "execution_count": 2,
   "metadata": {},
   "outputs": [
    {
     "name": "stdout",
     "output_type": "stream",
     "text": [
      "Beginning proof of disassociate\n",
      "Recorded 'presuming' information\n"
     ]
    },
    {
     "name": "stdout",
     "output_type": "stream",
     "text": [
      "Presuming previous theorems (applied transitively).\n"
     ]
    },
    {
     "data": {
      "text/html": [
       "<strong id=\"disassociate\">disassociate:</strong> <a class=\"ProveItLink\" href=\"../__pv_it/c1feded1e537d181ded01d6c1dfedf8d535b80a10/expr.ipynb\"><img src=\"data:image/png;base64,iVBORw0KGgoAAAANSUhEUgAABEcAAAAZBAMAAAAhw10pAAAAMFBMVEX///8QEBCIiIhmZma6urrM\n",
       "zMxUVFQiIiJERETc3Nzu7u6qqqp2dnaYmJgyMjIAAAAcRTyBAAAAAXRSTlMAQObYZgAACjVJREFU\n",
       "aN7tW29sHEcVf7d3e3e7d2v7C6FpFbiGqrj8kY1c3JK45KKKRgIhzkE0QS34FGNaIkoOgpqQEnJF\n",
       "beo2Qj5AaqNA622DEpPS9lTLopES9doGBIaII06rSDStS8uH9kui1HHipml483dnd3YdH4dAOnmk\n",
       "29v5zZv33u37zcybWRug2XLHlgosltYta7bUmldSWnyOrV2s4iJJ/qvl0db6OZkKI8k0qZxsiiRN\n",
       "q2iZYpfplzndWLdv6pCzabbnzvsWruKVS4O9w/kIrzoH77IaWDOe2Nlb/zW7/Q4jyV/I/TtNkaRp\n",
       "FS1T2lh61nZaACa9FjRBP35KwAWvLYZ8W1XQ8SgtVwDEzyptSper65D5TH1+hxRxYxnA+DIGP81I\n",
       "spt8lZsiSdMqWqZMsa/X3hNAkjx8J6cJ+nDnlMvhIXI5Rm8HMKpf6dbxCC3mRYDEu0qb12VsG15W\n",
       "VeZ3yBO3H0Bv4nMMzuYoSdoQylabIknTKlqm/IhN7+NzcqyTpC/l6nOAij8pIgi3kss2etuF2Os5\n",
       "HY/QYqBJ54zS5nV5gwisvoxDnnjblXhJdPCVqoOSxJk8cOCR5hLXplW0zD6AJfGOMSOht/Fzc4io\n",
       "ite78spylWDTx70YoQ+7Oh6hJY3RfHxbYOWjXeIXSPWrl3HIs7CKDHdTGHuL7W7ODw//uMndTbMq\n",
       "WqUY7NF+MXNRQuP4eTBEVMET7vN1sZtABWk2rcwCrNsIOh6hpb0I5t3qBCG7jFLm/vYyDklx6xyd\n",
       "QYSxlxhJhsJ/RSMkaVbF/2icL1zU/M8spGmw7bzpzfspVBaWrin4b2AgpzzM9cyD2ZOd9/ge8vp5\n",
       "tQzcdeyBajAutMvfclGGQ8WzZ3zwa4wkN4M9DfamZkhCVQBEUUWOgcRIX2+IiAafGKxdF7Ir3Nln\n",
       "yNGUEDfzstPXWIuyr3uRyYdbDZaAo6kqc80iGSQLqpGDZNjOVMHzMNotArAc4FsgcozHi5IaEo/S\n",
       "gimMvcTXJrrs4FsZTo0oh4R46qwP/j0jSQoMHABrGLauL28sCQ6rzUfg6mIkUhIq8IHOhD7K16VT\n",
       "fwd4IUQgAD+Wg7EOfSL4J9j3esQTMZyZhyO+xmQl0r7uxefCrQZK0NEY/aG39vSexyTgBpb5leg2\n",
       "Uj+7kLg52LOpLAKwXww3kmMYF4QWD4/SQnzs8k0lostH6SLkmj2leR0S4jG6M7MFPMBIkq2n2Npj\n",
       "H+qpZ8qTsELt++RLN8FzWTfuRiIloQJg78XQ57FKLLnQC/C8nlkHYAtD6+gz4ihG4IRGEmGyzj++\n",
       "Cm9k1dtVQ2Hiqhf7BCqtOvwDXkVzlJEELx8BOexWsmMkrUgc58TYNA0AyTKrfJuIOQYYZ6QWiUdp\n",
       "mSUk8S0sossOOjUWIFGa1yEhnqJnPBMBkljTZPvzM3wWBw9A5lgc1LM5Z9ceFw7nurPRSEmoAJjc\n",
       "HGY+u1/m5T8A+HyIhB9OoQOmvpMnqfFajSTC5DXqOwZR4Y2sOqQaChNXvcBkn6HSqoGxf1hO87Si\n",
       "OUqXmwx+vu+R5LGI9xYSxz6pDhoAMkCmUyCPSZIzUovEI7SQYxLY5FtGRBe6v8ZoCZJEOCTE2QmJ\n",
       "5MAa/qAeJGvRHNsAZW77eo4ITL28vHv5EN8sTUz8glDCuWntx/yIIAlTgQ9sOMz82rQYbfZZMEJO\n",
       "ZgNwFw5nW5tvDDINHgiSRJrEeryiNJKKaGTVkmooRNznBS6fFFWslpVFiFU0R2ni+it+hMrDm/5G\n",
       "LjxR47hVZSe0/Gjlfn5kRo5JBuQq5OERWkgKY56nITKuLfi6jBKJSY8kUQ5xcYskrlmXMsBLXGEc\n",
       "e5sd0MampcmXCUmOL4Ml7rXAXstMZJ8ic7Wzuh6r+BBJknHqQBJwBU1q4S3GS/AIndsTZ47txK+N\n",
       "wZSRwaJsZV8BqZR/AeIkkSazeW+ciwpptLbzKjnD8OyHiPu8yBQZyq0SC0fU16G0slWbM7v5WclI\n",
       "RYbXvIM9kGfwwdkf8BsFJwdM6TkSAHaoxc863kCHrnA9knBcaqEXT0sbdl/9EA3RRqPo60L24+Ou\n",
       "RxLexfOFOyQs4348s4IyYCnW+jhJ2pFZRhn2MpJk6S99ogQzKGB3swWqRlbMPR+HdteHSJK0U3L+\n",
       "A7rAfCFIEqdqnIY0ZXd2GowS3H5l8NlSWJb36TUo1V4LI4k0aZeVcc4rpBHu59VEWbUfIu7zAqUp\n",
       "yqxSC2PK3MMq72sbpBLYIx+48NylzV543+QkJ4/6bnEj8bFL70Bm5Fy3wcdAG1uav0fe11W9+Ujg\n",
       "Ugu7CC3JU7M9d+5iIcrHa74usHfnYB48kgiHpC/cISFu3/jt6xkDyCz6L04SB59AOgfrhoeHc5mC\n",
       "VSfKkjmk9j1gbh0e/ilS4lG6Xm2A1QFEkISoAPvNv464+pHv031/eg9iLLI1sC7o58scVpOPpzQp\n",
       "kgDY9QBJFJNHbGUDRiussYNXE0WffV3c5wV5j0tQbjVF56p9Cq9JhTuqHcvL1ZyWPRFbIz+e5muA\n",
       "FXh8QovlLkQLhqifb8S1LpIkEQ4FxJM5cjRvl5TkLfY1nJxZFvwF4m6sYJSt0wUosnkjQXO3D0Gf\n",
       "6UcESVjK48JoQSfJCrDO0neAOBtUITGnk4TBU4enbvsDqd7IEqeAVJzMBOCsPFlTSKKYHIsrrzZp\n",
       "hTbSF4+kSo4JFPu6uM8LQimCMqvUgl3+rJJGkQpzdOrwqxKeCgnvwgoGILQ0pgVD1Amj4UeBicb+\n",
       "8CdWiNcK4gUfj5MBWfp+MA9OzXoIRpFJTrkGNGrHAV6F3a51Gn44oSBBknwZ1dBBh/1Rml8SOPov\n",
       "EundGDMXfs7C77VL+NnpWPUQ6Zuqw+8qutR2sP8MmU5uL+03iaF8BaRhWmGNTo23kTHh2Q8RV70A\n",
       "0o2i1CqzcLQoPWIV5uiz5ZR+bMiOoRooGIDQ0pgWDNEGOJENbcs0RpJRSH2pIP5UgI/TIwC7CHHf\n",
       "wkTTvApuwU2g9V0X0jh1JX6Sx2mmv4qj61N1BQmQJH0erJHt5Hli//6KuZRcroKRMuw+V8dVrr+a\n",
       "3dHTex972dhfZe1LPThZ2A/Xk77wx75P6FKQHXwRgzPEDw7TfpN05wJCmlZYYzzP21CfYl8X93kB\n",
       "pBvtxaxSC8/gKOK/i1WYo8nCejW7EeWXOzY0EhMSgJDSoBYM0dvw8GQof26YzTWi6hYwjrIja9+f\n",
       "LxqYk3DSeWAnZiByPx9AAjMJzx1ctb+4K1U9BTRI3tFQVb5UGCdimfmlSsZx3zmJMAngW+ZkJZUR\n",
       "1U+CqjlCXHjRFkBd9RTSdySJPT7tnU+02J8vOhWI/BvXg2GzVSX63Y16Yt+1Uu0v7l6seArWvltV\n",
       "tMm7fXANbKjIHuFSdjFzNEgSajKqZK8LHr9RzZGFe3FY/1HRPQ7VoZVLBEnCfrQDCyJJoH89QoET\n",
       "qbe+ICnfTLLAqbiBUNrdsFguQ5KGypb/y//dxBvvcnDhooa7yA25v9pS/DchBG5YgHbJNgAAAABJ\n",
       "RU5ErkJggg==\n",
       "\" style=\"display:inline;vertical-align:middle;\" /></a><br>(see <a class=\"ProveItLink\" href=\"../__pv_it/c1feded1e537d181ded01d6c1dfedf8d535b80a10/dependencies.ipynb\">dependencies</a>)<br>"
      ],
      "text/plain": [
       "disassociate: forall_{l in Naturals, m in Naturals, n in Naturals} [forall_{A_{1}, ..A_{_a}.., A_{l}, B_{1}, ..B_{_a}.., B_{m}, C_{1}, ..C_{_a}.., C_{n} | A_{1} or ..A_{_a}.. or A_{l} or (B_{1} or ..B_{_a}.. or B_{m}) or C_{1} or ..C_{_a}.. or C_{n}} (A_{1} or ..A_{_a}.. or A_{l} or B_{1} or ..B_{_a}.. or B_{m} or C_{1} or ..C_{_a}.. or C_{n})]"
      ]
     },
     "execution_count": 2,
     "metadata": {},
     "output_type": "execute_result"
    }
   ],
   "source": [
    "%proving disassociate presuming []"
   ]
  },
  {
   "cell_type": "code",
   "execution_count": null,
   "metadata": {},
   "outputs": [],
   "source": []
  }
 ],
 "metadata": {
  "kernelspec": {
   "display_name": "Python 3",
   "language": "python",
   "name": "python3"
  }
 },
 "nbformat": 4,
 "nbformat_minor": 0
}
