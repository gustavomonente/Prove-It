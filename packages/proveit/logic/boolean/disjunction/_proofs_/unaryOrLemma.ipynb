{
 "cells": [
  {
   "cell_type": "markdown",
   "metadata": {},
   "source": [
    "Proof of <a class=\"ProveItLink\" href=\"../../../../_context_.ipynb\">proveit</a>.<a class=\"ProveItLink\" href=\"../../../_context_.ipynb\">logic</a>.<a class=\"ProveItLink\" href=\"../../_context_.ipynb\">boolean</a>.<a class=\"ProveItLink\" href=\"../_context_.ipynb\">disjunction</a>.<a class=\"ProveItLink\" href=\"../_theorems_.ipynb#unaryOrLemma\">unaryOrLemma</a> theorem\n",
    "========"
   ]
  },
  {
   "cell_type": "code",
   "execution_count": 1,
   "metadata": {},
   "outputs": [],
   "source": [
    "import proveit\n",
    "from proveit.number import num\n",
    "from proveit.number.sets.integer._theorems_ import zeroInNats\n",
    "from proveit._common_ import A, B, m\n",
    "from proveit.logic.boolean.disjunction._axioms_ import multiDisjunctionDef\n",
    "context = proveit.Context('..') # the theorem's context is in the parent directory"
   ]
  },
  {
   "cell_type": "code",
   "execution_count": 2,
   "metadata": {},
   "outputs": [
    {
     "name": "stdout",
     "output_type": "stream",
     "text": [
      "Beginning proof of unaryOrLemma\n",
      "Recorded 'presuming' information\n"
     ]
    },
    {
     "name": "stdout",
     "output_type": "stream",
     "text": [
      "Presuming proveit.core_expr_types.tuples.tuple_len_0_typical_equiv, proveit.number.sets.integer.zeroInNats theorems (applied transitively).\n",
      "Presuming previous theorems (applied transitively).\n"
     ]
    },
    {
     "data": {
      "text/html": [
       "<strong id=\"unaryOrLemma\">unaryOrLemma:</strong> <a class=\"ProveItLink\" href=\"../__pv_it/76e0f1d6f437b377accc1d6bf89b6e764903614d0/expr.ipynb\"><img src=\"data:image/png;base64,iVBORw0KGgoAAAANSUhEUgAAAOUAAAAUBAMAAACAKeeZAAAAMFBMVEX///8QEBCIiIhmZma6urrM\n",
       "zMxUVFQiIiJERETc3Nzu7u6qqqp2dnaYmJgyMjIAAAAcRTyBAAAAAXRSTlMAQObYZgAAA0NJREFU\n",
       "SMeVVk1oE0EUfuZvs8luVPBcFj3oqQ0U9KBioIeCUMipCKItaBFPRirG1gpBEBJEk4tUKrUrCi0t\n",
       "lmAR9WSxerAWWexJRAnGCvZgixasgtb35s0m2U021oGdfbNvvvnm/cybBWjaVAtal6T84Zx4jVaU\n",
       "TxoARputFi0wqESD916zJgCeVwZCimSEHERcqFA3n7VHGy11HJ/TDHpF42Uvzi/EFBRikjljTBRb\n",
       "RYJS3XzWPgCJoM3ZqhV8phl0kzyY8aDU48QZIrBuMOeidPQv7J7VAVgrOfuoe2MvtWICaIYAxUgs\n",
       "enAqBWFnL4kmcw6wD2d+Yn+nDjBQy9lN3aDUTB3CtSLbBEifn5wc9nLtMEcRPQwdHE81xbv2rZEn\n",
       "E+6US9VykqMDcamy2mjyJwatZ7NDXpy7mHMGXznm9PEah6O/sdfirvlSKzmjOArLPAuYTy18zTGo\n",
       "T6wHdu9o15hTwVTIMGfYEq5NBL+RtSKJXn+lVoaK1uYEtPqIFO9Bj0FpwKAOmX/6mgz2x3K/Hd+L\n",
       "zOkzIJRgTkWoAqB+J0NS7vgXHZw7AU5KMQFj5INHDFLAJ3Z3l7w1NXcQjNnRh3LmDuaMpCjLBecW\n",
       "EcLu9r3rdA5WXZysrXCOV45T8ET7GTocPQzSLEV8nu9HG6+OmGAY2n0nJ+wXx7jKiV3LJjj9RftE\n",
       "BFBXqnKqJZHTQSMrkhOQs+ul07dwm0JT9W0Un7O0Uqoaz88NfKuWFCnhdwXPCXRKUE74PAT7ZCE0\n",
       "2luSzhyC8DEDanLoliwrursQuXIIrsiKoBa5ctk5BDNit++gDSJxttN/Q2LmJFPwlCklynRxCvN4\n",
       "CPyzLk4t7uTsHqye8zBVkQMStJVsiJQX8mbwQjZ7meLpk5hOu7KX7RqPnonk/5jweAPDH0u6OMlv\n",
       "+9Lp7en0ea4KvIeJjWWI5n/gYEmCdLLBb8JYEnrZTs3vqH3YRir3ykANxbhH7avWJdN17aRqQV1o\n",
       "rwUvBOestuCo8Y67bLFmCa8a79lkjZfBXwc1fwnCGGt9qHzdsr/n6jjD1UuzwV0WLjTlnG4E2oPx\n",
       "3NSd7UEQyTTlzP1zV/xvstv+N2l1/5u8/d9/E70gQH8B/Sj4Z8s4TucAAAAASUVORK5CYII=\n",
       "\" style=\"display:inline;vertical-align:middle;\" /></a><br>(see <a class=\"ProveItLink\" href=\"../__pv_it/76e0f1d6f437b377accc1d6bf89b6e764903614d0/dependencies.ipynb\">dependencies</a>)<br>"
      ],
      "text/plain": [
       "unaryOrLemma: forall_{A in BOOLEANS} ([or](A) = (FALSE or A))"
      ]
     },
     "execution_count": 2,
     "metadata": {},
     "output_type": "execute_result"
    }
   ],
   "source": [
    "%proving unaryOrLemma presuming [zeroInNats, proveit.core_expr_types.tuples.tuple_len_0_typical_equiv]"
   ]
  },
  {
   "cell_type": "code",
   "execution_count": 3,
   "metadata": {},
   "outputs": [
    {
     "data": {
      "text/html": [
       "<span style=\"font-size:20px;\"> <a class=\"ProveItLink\" href=\"../_axioms_.ipynb#multiDisjunctionDef\" style=\"text-decoration: none\">&#x22A2;&nbsp;</a><a class=\"ProveItLink\" href=\"../__pv_it/bae156a516bc74b7c32c6d44f54c03518d86f1dc0/expr.ipynb\"><img src=\"data:image/png;base64,iVBORw0KGgoAAAANSUhEUgAAAl8AAAAWBAMAAAAMWeSjAAAAMFBMVEX///8QEBCIiIhmZma6urrM\n",
       "zMxUVFQiIiJERETc3Nzu7u6qqqp2dnaYmJgyMjIAAAAcRTyBAAAAAXRSTlMAQObYZgAABbhJREFU\n",
       "WMPtWF1oHFUUPp3s7M/M7qYPWpSCLBasvjQLiymYqlOKBARho5Aqol1agyJIVwsBq9II/mwqsiuC\n",
       "DYpmQ4WUCLqQBy0Umm77lIqsEaVFKgtRi3kwIbYxUdJ47t/Mndk7s93BPOmBMz/nnnu+c7+59869\n",
       "FyBYdv0CoSXRYPrvy2k1GHy8CYFtO2rqqgVN8n7FN8KFdg4BcoorytMdVvXz/2HjUG/JgmhFCWaM\n",
       "0Ee9GRqsJbAESDRpwUViXgggrI1DgPzGFWXRNur0mm9xzjuFLn9P0W0AXdfBaCrB0qy56aXQYCyw\n",
       "XM0BJIqEjZHuPBJAWBsHf0llmZLHxar9DUkeqUyL9xC5zImqjr+7SF8HiPwBUFeBwXfs+ae/woPV\n",
       "PdVkwDolLI3eyVoAYW0c/CVWYYry2YN2V9cLpKja4j1ILkf5i+TvLtLWsCXLABMqMHiZ9ZLptfBg\n",
       "E55qMuAEJSw1OzV1AgIIa+PgLye4ojR6LNfY2dfqTYZTJAut/q6i+FbMG1uathRgiSLrMdq18GAs\n",
       "sFNNBkRFwmC1VHo1iLA2Dv6ygyvmVj3r/CynUUdbvU3MP84/tcvfVdRdAH2YdPmsAkxjxofN9fBg\n",
       "LLBTTQZEJYQNKUNKhAU7+Mu7XAE+hQPOPBLDLq+aErF7PM4fXf6uogMvzL1NpocUnZy/+Z3IvACL\n",
       "04Yblr4cHowFdqrJgKiEsH2qf45MmO2gps1ljZT39ArDK1wBLBjP2iloGYhaijh3AjzDH5m/qqin\n",
       "AsY20kWKntoEKEZn2ggkcJLmfHQMxgI71WRAVEJYDDTP4nL/Hkvb5hAmHFLXlP9Ct/VbgHP88Rau\n",
       "oB/KHR4BPccaaRThc1WgSfvDMX9l0eukDciLvuSpTYC20DYO5npXAR7bHQ6MBXaqyYCohLBkIyZF\n",
       "Ms7kGubILNznECYcTq6roD3WXoCzVQ9hEWwLphfhvaKPLe280lUT/2LurypaIflnAgnDyx146w8H\n",
       "xgPb1WRATliiOShFunR6Csy5LphxCBMOs0dU0B7rSwAPeIckphbb6hD2CRSVG6mm+HDcX1FEVkVw\n",
       "2BKx2Bz2q2tImqgvOoR1CsaTFNVcgBE2JGEUR3Pq/kd3aHfl2b/WfPKJjEQYdcC6mZIC2WM1roO2\n",
       "4Jn0EzW2+BaExZ/KKCfDN/lKkvuLlOQisirSV+252fOHoZP+R3zp3h8OjAcW1VyAfNKHaWxIam9j\n",
       "y/NaAdJ04svPfi8TNk1bGgWcFqLeRSC1Sh9oee4t8XyeK1kixdccwvRnaRDjBl6+aIoLTj5HnSUV\n",
       "+ouU5KI09oW9x8mQmvHkcZ4vCeharFyxCeNgFMNB9AfjgUU1FyAqJawbyfxwJ3RbaDjJCEva65wL\n",
       "3AHgR+gB/ZyXMGKVJNkETYyBfqanNhbALP+ZtQmDeXYbJqOoIC6YHMMU/iIlqSi6uJJ77h1q8O4P\n",
       "+9lwMso3qvDVxhGbMAFGMYbbg4nA8wpAVEpYipBwEAbIHLC/VCplzHyiUZQIow7G/Nflass2g1kd\n",
       "ic9A4u/WrZE8PeDX8TkN8sTmKamK8C/nvzVyGAwBNulTbZJp0l6j3Ap3w7iOI4z2MHgoIxHG/itV\n",
       "GM+3EEatqb4r955hX6a7BpG11s23m7CbFJ6SUgI33y7COgSrgz9gXSIssYQcX0pCku7TcYc54yXs\n",
       "EWSjQQhLHIexKr2MVZnV3AXbTayA7+NVeG9GXtKOeteEN3/8yFNSiWKpTYDiUn/+MhSY3xpeOt7h\n",
       "X7+AG84PZgHIgO3/GaDgISy+Conya4QwfTsMVPTb8TJQ49Yho9iFkQZqyWO53jdUB4gkp90rmU7a\n",
       "YKekkHjgASKR948dDAOmCGwDxivykBSi4Rwmv+90H1GTIWnab+LQp2hmY6b0vulH1Jc364j6coAd\n",
       "VbtqdRZP7+mTzr1N/jmMgmZF73He/xe32H0m5Z14/wut/wfY9BIiUfX4lgAAAABJRU5ErkJggg==\n",
       "\" style=\"display:inline;vertical-align:middle;\" /></a></span>"
      ],
      "text/plain": [
       "|- forall_{m in Naturals} [forall_{A_{1}, ..A_{_a}.., A_{m}, B} ((A_{1} or ..A_{_a}.. or A_{m} or B) = ((A_{1} or ..A_{_a}.. or A_{m}) or B))]"
      ]
     },
     "execution_count": 3,
     "metadata": {},
     "output_type": "execute_result"
    }
   ],
   "source": [
    "multiDisjunctionDef"
   ]
  },
  {
   "cell_type": "code",
   "execution_count": 4,
   "metadata": {},
   "outputs": [
    {
     "data": {
      "text/html": [
       "<span style=\"font-size:20px;\"> <a class=\"ProveItLink\" href=\"../__pv_it/05d9f8b1bc0a652ce9194091a6c755122fab095b0/proof.ipynb\" style=\"text-decoration: none\">&#x22A2;&nbsp;</a><a class=\"ProveItLink\" href=\"../__pv_it/bf5b7b0a9282c3cd0cf4144b4d3a16258d9ef92a0/expr.ipynb\"><img src=\"data:image/png;base64,iVBORw0KGgoAAAANSUhEUgAAAJwAAAAUBAMAAACKdUnLAAAAMFBMVEX///8QEBBERESqqqpmZmbc\n",
       "3Nzu7u6YmJhUVFQiIiK6urp2dnbMzMwyMjKIiIgAAABj8LvFAAAAAXRSTlMAQObYZgAAAkZJREFU\n",
       "OMuVlD9IG3EUx19zuUsudwmuFYQs4iIklDg4GdBB6NCAYHEonjqlIDjYUclgh4rQSFWIU4ZScCvo\n",
       "5CDBpVnEDNVBlNzg0iGtlP5BwT/v/d7vkrtfEmkf3O9+v3v3Pr8/7/t70DgHtqVt8XoJng1Bm+kL\n",
       "8IhpOYD95kj0jKTo2zWAaK4tYFb40p1YR/i8JYgthhXGxZkRv0JyrS3mRCzCBRlBbM9Vx2eecFH6\n",
       "HnEZtyh3/gebA5UWyfpxa9Qse666A2ARxC7g0HQYtymcRuY3tjMqzsz5cVVqtqRr7gX6jB6C0BY+\n",
       "8tnpRZ4rcUM7Liu4KfDj6FxiWela+EE/nxEkg51+xiXY/Un7i62VVXCXAZyG7pBMV8wZoaTvEcTE\n",
       "E00yLiSUYJTtO1oj5cK6ECbIAwEc4E4OZfc1HNPXJYIkXIiWGWcKEcRA/0VxRWV1H4K47wCrsluG\n",
       "aZpwmCBGkVIscE/EcVXHxn+SCK4UXG8Ql29qyV4Ze0+CPRaQUdgN4LDp+wdcOG1JRccwstbEvaJj\n",
       "aG1Ww2edfiq2zq7QYbN6zZQ9jDJ78L3DCfjigi8VE1LkEfVaKKmAQSliPc33iFMB9jtH4kgbQnsp\n",
       "VED4s4LbU3DVrZYeQyT853wXvnolAPdnpG4deHa/gRNWFNwOTlEqrT8tlQosZBbm7P0paKlrHJwz\n",
       "brJZUTZ90fnOl8xXr5zgGCWiFKhFn7dLCehulqviQq0FdChQ/Y/j5ruVT4UcKJ/dDWf75hX3hlrc\n",
       "3/xvcY/k4AHENKIqQbvHTwAAAABJRU5ErkJggg==\n",
       "\" style=\"display:inline;vertical-align:middle;\" /></a></span>"
      ],
      "text/plain": [
       "|- [or](A) = (FALSE or A)"
      ]
     },
     "execution_count": 4,
     "metadata": {},
     "output_type": "execute_result"
    }
   ],
   "source": [
    "multiDisjunctionDef.instantiate({m:num(0), A:(), B:A})"
   ]
  },
  {
   "cell_type": "code",
   "execution_count": 5,
   "metadata": {},
   "outputs": [
    {
     "data": {
      "text/html": [
       "<table><tr><th>&nbsp;</th><th>step type</th><th>requirements</th><th>statement</th></tr>\n",
       "<tr><td><a name=\"0x65382becc732be87_step0\">0</a></td><td>generalizaton</td><td><a href=\"#0x65382becc732be87_step1\">1</a></td><td><span style=\"font-size:20px;\"> <a class=\"ProveItLink\" href=\"../__pv_it/0ea435665039645a20c12d4c04a30dc43975960c0/proof.ipynb\" style=\"text-decoration: none\">&#x22A2;&nbsp;</a><a class=\"ProveItLink\" href=\"../__pv_it/76e0f1d6f437b377accc1d6bf89b6e764903614d0/expr.ipynb\"><img src=\"data:image/png;base64,iVBORw0KGgoAAAANSUhEUgAAAOUAAAAUBAMAAACAKeeZAAAAMFBMVEX///8QEBCIiIhmZma6urrM\n",
       "zMxUVFQiIiJERETc3Nzu7u6qqqp2dnaYmJgyMjIAAAAcRTyBAAAAAXRSTlMAQObYZgAAA0NJREFU\n",
       "SMeVVk1oE0EUfuZvs8luVPBcFj3oqQ0U9KBioIeCUMipCKItaBFPRirG1gpBEBJEk4tUKrUrCi0t\n",
       "lmAR9WSxerAWWexJRAnGCvZgixasgtb35s0m2U021oGdfbNvvvnm/cybBWjaVAtal6T84Zx4jVaU\n",
       "TxoARputFi0wqESD916zJgCeVwZCimSEHERcqFA3n7VHGy11HJ/TDHpF42Uvzi/EFBRikjljTBRb\n",
       "RYJS3XzWPgCJoM3ZqhV8phl0kzyY8aDU48QZIrBuMOeidPQv7J7VAVgrOfuoe2MvtWICaIYAxUgs\n",
       "enAqBWFnL4kmcw6wD2d+Yn+nDjBQy9lN3aDUTB3CtSLbBEifn5wc9nLtMEcRPQwdHE81xbv2rZEn\n",
       "E+6US9VykqMDcamy2mjyJwatZ7NDXpy7mHMGXznm9PEah6O/sdfirvlSKzmjOArLPAuYTy18zTGo\n",
       "T6wHdu9o15hTwVTIMGfYEq5NBL+RtSKJXn+lVoaK1uYEtPqIFO9Bj0FpwKAOmX/6mgz2x3K/Hd+L\n",
       "zOkzIJRgTkWoAqB+J0NS7vgXHZw7AU5KMQFj5INHDFLAJ3Z3l7w1NXcQjNnRh3LmDuaMpCjLBecW\n",
       "EcLu9r3rdA5WXZysrXCOV45T8ET7GTocPQzSLEV8nu9HG6+OmGAY2n0nJ+wXx7jKiV3LJjj9RftE\n",
       "BFBXqnKqJZHTQSMrkhOQs+ul07dwm0JT9W0Un7O0Uqoaz88NfKuWFCnhdwXPCXRKUE74PAT7ZCE0\n",
       "2luSzhyC8DEDanLoliwrursQuXIIrsiKoBa5ctk5BDNit++gDSJxttN/Q2LmJFPwlCklynRxCvN4\n",
       "CPyzLk4t7uTsHqye8zBVkQMStJVsiJQX8mbwQjZ7meLpk5hOu7KX7RqPnonk/5jweAPDH0u6OMlv\n",
       "+9Lp7en0ea4KvIeJjWWI5n/gYEmCdLLBb8JYEnrZTs3vqH3YRir3ykANxbhH7avWJdN17aRqQV1o\n",
       "rwUvBOestuCo8Y67bLFmCa8a79lkjZfBXwc1fwnCGGt9qHzdsr/n6jjD1UuzwV0WLjTlnG4E2oPx\n",
       "3NSd7UEQyTTlzP1zV/xvstv+N2l1/5u8/d9/E70gQH8B/Sj4Z8s4TucAAAAASUVORK5CYII=\n",
       "\" style=\"display:inline;vertical-align:middle;\" /></a></span></td></tr>\n",
       "<tr><td><a name=\"0x65382becc732be87_step1\">1</a></td><td>instantiation</td><td><a href=\"#0x65382becc732be87_step2\">2</a>, <a href=\"#0x65382becc732be87_step3\">3</a>, <a href=\"#0x65382becc732be87_step4\">4</a>, <a href=\"#0x65382becc732be87_step5\">5</a><sup>*</sup></td><td><span style=\"font-size:20px;\"> <a class=\"ProveItLink\" href=\"../__pv_it/05d9f8b1bc0a652ce9194091a6c755122fab095b0/proof.ipynb\" style=\"text-decoration: none\">&#x22A2;&nbsp;</a><a class=\"ProveItLink\" href=\"../__pv_it/bf5b7b0a9282c3cd0cf4144b4d3a16258d9ef92a0/expr.ipynb\"><img src=\"data:image/png;base64,iVBORw0KGgoAAAANSUhEUgAAAJwAAAAUBAMAAACKdUnLAAAAMFBMVEX///8QEBBERESqqqpmZmbc\n",
       "3Nzu7u6YmJhUVFQiIiK6urp2dnbMzMwyMjKIiIgAAABj8LvFAAAAAXRSTlMAQObYZgAAAkZJREFU\n",
       "OMuVlD9IG3EUx19zuUsudwmuFYQs4iIklDg4GdBB6NCAYHEonjqlIDjYUclgh4rQSFWIU4ZScCvo\n",
       "5CDBpVnEDNVBlNzg0iGtlP5BwT/v/d7vkrtfEmkf3O9+v3v3Pr8/7/t70DgHtqVt8XoJng1Bm+kL\n",
       "8IhpOYD95kj0jKTo2zWAaK4tYFb40p1YR/i8JYgthhXGxZkRv0JyrS3mRCzCBRlBbM9Vx2eecFH6\n",
       "HnEZtyh3/gebA5UWyfpxa9Qse666A2ARxC7g0HQYtymcRuY3tjMqzsz5cVVqtqRr7gX6jB6C0BY+\n",
       "8tnpRZ4rcUM7Liu4KfDj6FxiWela+EE/nxEkg51+xiXY/Un7i62VVXCXAZyG7pBMV8wZoaTvEcTE\n",
       "E00yLiSUYJTtO1oj5cK6ECbIAwEc4E4OZfc1HNPXJYIkXIiWGWcKEcRA/0VxRWV1H4K47wCrsluG\n",
       "aZpwmCBGkVIscE/EcVXHxn+SCK4UXG8Ql29qyV4Ze0+CPRaQUdgN4LDp+wdcOG1JRccwstbEvaJj\n",
       "aG1Ww2edfiq2zq7QYbN6zZQ9jDJ78L3DCfjigi8VE1LkEfVaKKmAQSliPc33iFMB9jtH4kgbQnsp\n",
       "VED4s4LbU3DVrZYeQyT853wXvnolAPdnpG4deHa/gRNWFNwOTlEqrT8tlQosZBbm7P0paKlrHJwz\n",
       "brJZUTZ90fnOl8xXr5zgGCWiFKhFn7dLCehulqviQq0FdChQ/Y/j5ruVT4UcKJ/dDWf75hX3hlrc\n",
       "3/xvcY/k4AHENKIqQbvHTwAAAABJRU5ErkJggg==\n",
       "\" style=\"display:inline;vertical-align:middle;\" /></a></span></td></tr>\n",
       "<tr><td>&nbsp;</td><td colspan=4 style=\"text-align:left\"><span style=\"font-size:20px;\"><a class=\"ProveItLink\" href=\"../../../../__pv_it/6e8a38e9a7e2b6af352562cd77e0eb4751f142620/expr.ipynb\"><img src=\"data:image/png;base64,iVBORw0KGgoAAAANSUhEUgAAABIAAAAJBAMAAADN8WE8AAAAMFBMVEX///9mZmaYmJgyMjIiIiIQ\n",
       "EBCqqqru7u5ERETMzMyIiIjc3NxUVFR2dna6uroAAAAPJcEmAAAAAXRSTlMAQObYZgAAAGNJREFU\n",
       "CNdj4Luze9UpzlvnGBh4OboY6tcxpDIwTGMxYNh/gUGfgaGg/gFDfgHDCQYGhnwGBhEGhiggS5iB\n",
       "wZeB7zc7A0MsA/s/BkaDbQzc/xjYPjAwX7jAwOfAwCXAwCa0AQBn+hZiKtaxkQAAAABJRU5ErkJg\n",
       "gg==\n",
       "\" style=\"display:inline;vertical-align:middle;\" /></a> : <a class=\"ProveItLink\" href=\"../../../../number/numeral/__pv_it/bcb6bc33e5975ec2290a3272bf7802d26ab8421d0/expr.ipynb\"><img src=\"data:image/png;base64,iVBORw0KGgoAAAANSUhEUgAAAAoAAAAOBAMAAADkjZCYAAAAMFBMVEX///9mZma6urpUVFREREQQ\n",
       "EBDc3NwiIiLu7u6qqqoyMjLMzMyYmJiIiIh2dnYAAADXmt2vAAAAAXRSTlMAQObYZgAAAFFJREFU\n",
       "CNdjYOC785qBgWElQ3sCA08AA98CBhYDBs4fDPwGDEw/GfoFGJj+MuQ/YOAGkgIM3P+gIkBZzp8M\n",
       "LA4MPD+guhgqGVo3MDD03bVmAABi3RThwIkdoQAAAABJRU5ErkJggg==\n",
       "\" style=\"display:inline;vertical-align:middle;\" /></a>, <a class=\"ProveItLink\" href=\"../../../../__pv_it/d3792d0d8642fdf1cd2a3a9b32c673ee13653de00/expr.ipynb\"><img src=\"data:image/png;base64,iVBORw0KGgoAAAANSUhEUgAAAA8AAAAOBAMAAAACpFvcAAAALVBMVEX///8iIiIQEBBERERUVFS6\n",
       "urqIiIjc3NxmZmaqqqru7u6YmJgyMjLMzMwAAACK9jtgAAAAAXRSTlMAQObYZgAAAFtJREFUCNdj\n",
       "YACBOwxQcA5Kc59bAGGs7CuAMDbkBYBp1gXzNoAZSxnuJYAZAQx1DSCa16PDzwCshIGB6QCIMYGB\n",
       "gVEBSLMDGTwPgIxCIGZ+zsCw+N0pBk67hw0AfpEVEQi8t+wAAAAASUVORK5CYII=\n",
       "\" style=\"display:inline;vertical-align:middle;\" /></a> : <a class=\"ProveItLink\" href=\"../__pv_it/30d23d36f0994fc28429b458d9f08265f0433d5f0/expr.ipynb\"><img src=\"data:image/png;base64,iVBORw0KGgoAAAANSUhEUgAAAAwAAAAUBAMAAABL3sEiAAAAMFBMVEX////MzMxUVFR2dna6uroQ\n",
       "EBCqqqqIiIgiIiJmZmYyMjJERETu7u6YmJjc3NwAAACgK8IjAAAAAXRSTlMAQObYZgAAAGNJREFU\n",
       "CNdjYOC7wPaAgYHhNAODHpBax8BwioGBdwIDA3MBAwdQgieA4QVQnGEJQyWIsmTYC6JuMbSBqAyG\n",
       "EBAlD6PAgh4wJZYgajKQDwQLIYY1wIxm2Ae2CGQtkAV0BO8DBgBfVhetSSF8+gAAAABJRU5ErkJg\n",
       "gg==\n",
       "\" style=\"display:inline;vertical-align:middle;\" /></a>, <a class=\"ProveItLink\" href=\"../../../../__pv_it/4d98b438710c5ada9ffa4646bb123a7d0e69ec000/expr.ipynb\"><img src=\"data:image/png;base64,iVBORw0KGgoAAAANSUhEUgAAABAAAAAOBAMAAADUAYG5AAAALVBMVEX///8yMjKqqqoiIiLu7u7c\n",
       "3NyIiIjMzMwQEBC6urpERERmZmZUVFSYmJgAAACsPVCVAAAAAXRSTlMAQObYZgAAAGxJREFUCNdj\n",
       "YGC48+70nlUTGICgi4GB+zmQZn/LwMD5Gshge8rAwPsMyOBqYGDwMAEy+A4wsNs4ABl1Z68tVgBp\n",
       "ygtgYOkBMVaAOCChNyBGAsQYhnMTIMawvwJyGIHGzFjCwMAj92b3qUUMDAAXABxvZ4rl5AAAAABJ\n",
       "RU5ErkJggg==\n",
       "\" style=\"display:inline;vertical-align:middle;\" /></a> : <a class=\"ProveItLink\" href=\"../../../../__pv_it/d3792d0d8642fdf1cd2a3a9b32c673ee13653de00/expr.ipynb\"><img src=\"data:image/png;base64,iVBORw0KGgoAAAANSUhEUgAAAA8AAAAOBAMAAAACpFvcAAAALVBMVEX///8iIiIQEBBERERUVFS6\n",
       "urqIiIjc3NxmZmaqqqru7u6YmJgyMjLMzMwAAACK9jtgAAAAAXRSTlMAQObYZgAAAFtJREFUCNdj\n",
       "YACBOwxQcA5Kc59bAGGs7CuAMDbkBYBp1gXzNoAZSxnuJYAZAQx1DSCa16PDzwCshIGB6QCIMYGB\n",
       "gVEBSLMDGTwPgIxCIGZ+zsCw+N0pBk67hw0AfpEVEQi8t+wAAAAASUVORK5CYII=\n",
       "\" style=\"display:inline;vertical-align:middle;\" /></a></span></td></tr><tr><td><a name=\"0x65382becc732be87_step2\">2</a></td><td>axiom</td><td></td><td><span style=\"font-size:20px;\"> <a class=\"ProveItLink\" href=\"../_axioms_.ipynb#multiDisjunctionDef\" style=\"text-decoration: none\">&#x22A2;&nbsp;</a><a class=\"ProveItLink\" href=\"../__pv_it/bae156a516bc74b7c32c6d44f54c03518d86f1dc0/expr.ipynb\"><img src=\"data:image/png;base64,iVBORw0KGgoAAAANSUhEUgAAAl8AAAAWBAMAAAAMWeSjAAAAMFBMVEX///8QEBCIiIhmZma6urrM\n",
       "zMxUVFQiIiJERETc3Nzu7u6qqqp2dnaYmJgyMjIAAAAcRTyBAAAAAXRSTlMAQObYZgAABbhJREFU\n",
       "WMPtWF1oHFUUPp3s7M/M7qYPWpSCLBasvjQLiymYqlOKBARho5Aqol1agyJIVwsBq9II/mwqsiuC\n",
       "DYpmQ4WUCLqQBy0Umm77lIqsEaVFKgtRi3kwIbYxUdJ47t/Mndk7s93BPOmBMz/nnnu+c7+59869\n",
       "FyBYdv0CoSXRYPrvy2k1GHy8CYFtO2rqqgVN8n7FN8KFdg4BcoorytMdVvXz/2HjUG/JgmhFCWaM\n",
       "0Ee9GRqsJbAESDRpwUViXgggrI1DgPzGFWXRNur0mm9xzjuFLn9P0W0AXdfBaCrB0qy56aXQYCyw\n",
       "XM0BJIqEjZHuPBJAWBsHf0llmZLHxar9DUkeqUyL9xC5zImqjr+7SF8HiPwBUFeBwXfs+ae/woPV\n",
       "PdVkwDolLI3eyVoAYW0c/CVWYYry2YN2V9cLpKja4j1ILkf5i+TvLtLWsCXLABMqMHiZ9ZLptfBg\n",
       "E55qMuAEJSw1OzV1AgIIa+PgLye4ojR6LNfY2dfqTYZTJAut/q6i+FbMG1uathRgiSLrMdq18GAs\n",
       "sFNNBkRFwmC1VHo1iLA2Dv6ygyvmVj3r/CynUUdbvU3MP84/tcvfVdRdAH2YdPmsAkxjxofN9fBg\n",
       "LLBTTQZEJYQNKUNKhAU7+Mu7XAE+hQPOPBLDLq+aErF7PM4fXf6uogMvzL1NpocUnZy/+Z3IvACL\n",
       "04Yblr4cHowFdqrJgKiEsH2qf45MmO2gps1ljZT39ArDK1wBLBjP2iloGYhaijh3AjzDH5m/qqin\n",
       "AsY20kWKntoEKEZn2ggkcJLmfHQMxgI71WRAVEJYDDTP4nL/Hkvb5hAmHFLXlP9Ct/VbgHP88Rau\n",
       "oB/KHR4BPccaaRThc1WgSfvDMX9l0eukDciLvuSpTYC20DYO5npXAR7bHQ6MBXaqyYCohLBkIyZF\n",
       "Ms7kGubILNznECYcTq6roD3WXoCzVQ9hEWwLphfhvaKPLe280lUT/2LurypaIflnAgnDyx146w8H\n",
       "xgPb1WRATliiOShFunR6Csy5LphxCBMOs0dU0B7rSwAPeIckphbb6hD2CRSVG6mm+HDcX1FEVkVw\n",
       "2BKx2Bz2q2tImqgvOoR1CsaTFNVcgBE2JGEUR3Pq/kd3aHfl2b/WfPKJjEQYdcC6mZIC2WM1roO2\n",
       "4Jn0EzW2+BaExZ/KKCfDN/lKkvuLlOQisirSV+252fOHoZP+R3zp3h8OjAcW1VyAfNKHaWxIam9j\n",
       "y/NaAdJ04svPfi8TNk1bGgWcFqLeRSC1Sh9oee4t8XyeK1kixdccwvRnaRDjBl6+aIoLTj5HnSUV\n",
       "+ouU5KI09oW9x8mQmvHkcZ4vCeharFyxCeNgFMNB9AfjgUU1FyAqJawbyfxwJ3RbaDjJCEva65wL\n",
       "3AHgR+gB/ZyXMGKVJNkETYyBfqanNhbALP+ZtQmDeXYbJqOoIC6YHMMU/iIlqSi6uJJ77h1q8O4P\n",
       "+9lwMso3qvDVxhGbMAFGMYbbg4nA8wpAVEpYipBwEAbIHLC/VCplzHyiUZQIow7G/Nflass2g1kd\n",
       "ic9A4u/WrZE8PeDX8TkN8sTmKamK8C/nvzVyGAwBNulTbZJp0l6j3Ap3w7iOI4z2MHgoIxHG/itV\n",
       "GM+3EEatqb4r955hX6a7BpG11s23m7CbFJ6SUgI33y7COgSrgz9gXSIssYQcX0pCku7TcYc54yXs\n",
       "EWSjQQhLHIexKr2MVZnV3AXbTayA7+NVeG9GXtKOeteEN3/8yFNSiWKpTYDiUn/+MhSY3xpeOt7h\n",
       "X7+AG84PZgHIgO3/GaDgISy+Conya4QwfTsMVPTb8TJQ49Yho9iFkQZqyWO53jdUB4gkp90rmU7a\n",
       "YKekkHjgASKR948dDAOmCGwDxivykBSi4Rwmv+90H1GTIWnab+LQp2hmY6b0vulH1Jc364j6coAd\n",
       "VbtqdRZP7+mTzr1N/jmMgmZF73He/xe32H0m5Z14/wut/wfY9BIiUfX4lgAAAABJRU5ErkJggg==\n",
       "\" style=\"display:inline;vertical-align:middle;\" /></a></span></td></tr>\n",
       "<tr><td>&nbsp;</td><td colspan=4 style-\"text-align:left\"><a class=\"ProveItLink\" href=\"../_axioms_.ipynb#multiDisjunctionDef\">proveit.logic.boolean.disjunction.multiDisjunctionDef</a></td></tr><tr><td><a name=\"0x65382becc732be87_step3\">3</a></td><td>theorem</td><td></td><td><span style=\"font-size:20px;\"> <a class=\"ProveItLink\" href=\"../../../../number/sets/integer/_proofs_/zeroInNats.ipynb\" style=\"text-decoration: none\">&#x22A2;&nbsp;</a><a class=\"ProveItLink\" href=\"../../../../number/sets/integer/__pv_it/5071f98c61b3ccd585aa2b44bab9dc29aa2d218e0/expr.ipynb\"><img src=\"data:image/png;base64,iVBORw0KGgoAAAANSUhEUgAAADMAAAAPBAMAAAC7N+rPAAAAMFBMVEX///9mZma6urpUVFREREQQ\n",
       "EBDc3NwiIiLu7u6qqqoyMjLMzMyYmJiIiIh2dnYAAADXmt2vAAAAAXRSTlMAQObYZgAAAONJREFU\n",
       "GNNjYOC785oBBXR98WpgePpVgYFhJUN7AqqcD7cBA8cHBgaeAAa+BahS5hvuMjAEMDCwGDBw/gCL\n",
       "8LiXV4EZRh7MGxgKGBj4DRiYfoIEuH0boLrMNnOsAEn1CzAw/QXbDpNhMOO8sBkklf+AgRssZQa3\n",
       "y4zhEc8FkJQAA/c/kIADkhRzgzWSgdxRq4AAKsVhwBUAdgYnyBlsyLoY9nGDHO/AwAN2fACyFM8E\n",
       "ByQvy8KlrIH4GciQSobWDSAB9gkwqZVAzAhS3nfXGizAYaIBkdn+FaiDAyXwmJ5AAwoKAGQvOOyD\n",
       "fUpGAAAAAElFTkSuQmCC\n",
       "\" style=\"display:inline;vertical-align:middle;\" /></a></span></td></tr>\n",
       "<tr><td>&nbsp;</td><td colspan=4 style-\"text-align:left\"><a class=\"ProveItLink\" href=\"../../../../number/sets/integer/_proofs_/zeroInNats.ipynb\">proveit.number.sets.integer.zeroInNats</a></td></tr><tr><td><a name=\"0x65382becc732be87_step4\">4</a></td><td>theorem</td><td></td><td><span style=\"font-size:20px;\"> <a class=\"ProveItLink\" href=\"../../../../core_expr_types/tuples/_proofs_/tuple_len_0_typical_equiv.ipynb\" style=\"text-decoration: none\">&#x22A2;&nbsp;</a><a class=\"ProveItLink\" href=\"../../../../core_expr_types/tuples/__pv_it/8c13a46665def6f076d59ce4b36ab7e5002543480/expr.ipynb\"><img src=\"data:image/png;base64,iVBORw0KGgoAAAANSUhEUgAAAJkAAAAVBAMAAACnAFEqAAAAMFBMVEX///9UVFQQEBCqqqoiIiJm\n",
       "ZmYyMjJERESYmJjc3NyIiIi6urp2dnbu7u7MzMwAAAADGpxCAAAAAXRSTlMAQObYZgAAAatJREFU\n",
       "OMtjeMsAB0hMHAL4Ad8FhtNAirOBeQKQOo0uDRGYQdgcSzDJswGs4zoDgyRO03gL8Jt0qucBA+ME\n",
       "JNMyGRiu4TSNDaiSWRenYWwGvJ4MvAkI0zgCgKwFuExrZWC4ePAvTtOaGBiOAR2IMI0FaDuvAi7T\n",
       "PIGYA7dphQwM9hcYLiFMmwJiZuMwjdMBv2kfGRj2GzCwbYCbthQkehSHaVwBeE3j/Qo0bQEDTwDc\n",
       "tAqQcBvUNJ40MAiAmcbegNc0zj8MDO8XMHAkwE1zBgmb4HAbiwF+04Bue3+AgdkBbpo2SPg9DtOY\n",
       "NhDjU74PVDENFAv2BsimgX26BTXcBIj0KUM5A0P/BQZuB+yxgO42ArEATb1IsXAUJBqDwzRw3HMB\n",
       "TbsP0gAieL8hM1gMePUYGFgPwE3bAtKZh8M0kB9Yhb5FMLD4gvSCQsARxnC5ADTy1MIHwNz6ADVn\n",
       "OeDLWWBgi+FL5gsw1hUScj0EHMAwjQdRLCGVSJX4SiT2CdCUtQDDtFvwVJeAWlpWEiwtOTDjswHG\n",
       "YIeVluvAJTkHiLsOXfU6YkvyTjDJ9QAAefyjssLNpqIAAAAASUVORK5CYII=\n",
       "\" style=\"display:inline;vertical-align:middle;\" /></a></span></td></tr>\n",
       "<tr><td>&nbsp;</td><td colspan=4 style-\"text-align:left\"><a class=\"ProveItLink\" href=\"../../../../core_expr_types/tuples/_proofs_/tuple_len_0_typical_equiv.ipynb\">proveit.core_expr_types.tuples.tuple_len_0_typical_equiv</a></td></tr><tr><td><a name=\"0x65382becc732be87_step5\">5</a></td><td>theorem</td><td></td><td><span style=\"font-size:20px;\"> <a class=\"ProveItLink\" href=\"emptyDisjunctionEval.ipynb\" style=\"text-decoration: none\">&#x22A2;&nbsp;</a><a class=\"ProveItLink\" href=\"../__pv_it/91fb95a3c5eeee8303236f31252cebce6cc4f52f0/expr.ipynb\"><img src=\"data:image/png;base64,iVBORw0KGgoAAAANSUhEUgAAAFYAAAAUBAMAAADl6NejAAAAMFBMVEX///8QEBBERESqqqpmZmbc\n",
       "3Nzu7u6YmJhUVFQiIiK6urp2dnbMzMwyMjKIiIgAAABj8LvFAAAAAXRSTlMAQObYZgAAAP9JREFU\n",
       "KM9jeHuHAQJqZ4GpcAZTBlxgFyqLTYGBIwCLssMQFTxgzgGIWt4ABrYLWNTaQdRyHABS7A8gakuA\n",
       "eB9utTwNQIozAaJ2KhAn4lbLcBVILYG4l3UCyB0LcKs1AVKqELV8DkCC2wG3Wk4GBh4FiFqmApDb\n",
       "wZ7bexcErqCp5XvAwLEAopbTAEgwT8BtLtsEhlxo+DKCnMrzAbdaBmeGzUSrjWWYwIDkBq4JCPfe\n",
       "QFfLdPwBA4bfcJjL05kAZYGDi2UDHrUMV2AssPW8B9AUes6cKThz5gyI2jC4LlAcZxKZJnGlHWxq\n",
       "mXCkSRxpnSkAl9qXsDz0FpaHSnEpBQCrmFWG51VrCAAAAABJRU5ErkJggg==\n",
       "\" style=\"display:inline;vertical-align:middle;\" /></a></span></td></tr>\n",
       "<tr><td>&nbsp;</td><td colspan=4 style-\"text-align:left\"><a class=\"ProveItLink\" href=\"emptyDisjunctionEval.ipynb\">proveit.logic.boolean.disjunction.emptyDisjunctionEval</a></td></tr><tr><td colspan=4 style=\"text-align:left\"><sup>*</sup>equality replacement requirements</td></tr></table>"
      ],
      "text/plain": [
       "\tstep type\trequirements\tstatement\n",
       "0\tgeneralizaton\t1\t|- forall_{A in BOOLEANS} ([or](A) = (FALSE or A))\n",
       "1\tinstantiation\t2, 3, 4, 5*\t|- [or](A) = (FALSE or A)\n",
       "\tm : 0, A : (), B : A\n",
       "2\taxiom\t\t|- forall_{m in Naturals} [forall_{A_{1}, ..A_{_a}.., A_{m}, B} ((A_{1} or ..A_{_a}.. or A_{m} or B) = ((A_{1} or ..A_{_a}.. or A_{m}) or B))]\n",
       "\tproveit.logic.boolean.disjunction.multiDisjunctionDef\n",
       "3\ttheorem\t\t|- 0 in Naturals\n",
       "\tproveit.number.sets.integer.zeroInNats\n",
       "4\ttheorem\t\t|- |()| = |(1, ..a.., 0)|\n",
       "\tproveit.core_expr_types.tuples.tuple_len_0_typical_equiv\n",
       "5\ttheorem\t\t|- [or]() = FALSE\n",
       "\tproveit.logic.boolean.disjunction.emptyDisjunctionEval"
      ]
     },
     "execution_count": 5,
     "metadata": {},
     "output_type": "execute_result"
    }
   ],
   "source": [
    "%qed"
   ]
  },
  {
   "cell_type": "code",
   "execution_count": null,
   "metadata": {},
   "outputs": [],
   "source": []
  }
 ],
 "metadata": {
  "kernelspec": {
   "display_name": "Python 3",
   "language": "python",
   "name": "python3"
  }
 },
 "nbformat": 4,
 "nbformat_minor": 0
}
