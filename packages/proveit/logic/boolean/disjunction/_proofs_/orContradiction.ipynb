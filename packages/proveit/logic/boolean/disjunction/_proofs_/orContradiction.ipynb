{
 "cells": [
  {
   "cell_type": "markdown",
   "metadata": {},
   "source": [
    "Proof of <a class=\"ProveItLink\" href=\"../../../../_context_.ipynb\">proveit</a>.<a class=\"ProveItLink\" href=\"../../../_context_.ipynb\">logic</a>.<a class=\"ProveItLink\" href=\"../../_context_.ipynb\">boolean</a>.<a class=\"ProveItLink\" href=\"../_context_.ipynb\">disjunction</a>.<a href=\"../_theorems_.ipynb#orContradiction\" class=\"ProveItLink\">orContradiction</a> theorem\n",
    "========"
   ]
  },
  {
   "cell_type": "code",
   "execution_count": 1,
   "metadata": {},
   "outputs": [],
   "source": [
    "import proveit\n",
    "context = proveit.Context('..') # the theorem's context is in the parent directory"
   ]
  },
  {
   "cell_type": "code",
   "execution_count": 2,
   "metadata": {},
   "outputs": [
    {
     "name": "stdout",
     "output_type": "stream",
     "text": [
      "Beginning proof of orContradiction\n",
      "Recorded 'presuming' information\n"
     ]
    },
    {
     "name": "stdout",
     "output_type": "stream",
     "text": [
      "Presuming previous theorems (applied transitively).\n"
     ]
    },
    {
     "data": {
      "text/html": [
       "<strong id=\"orContradiction\">orContradiction:</strong> <a class=\"ProveItLink\" href=\"../__pv_it/071d81040473626c6366feb6d399f5679898366c0/expr.ipynb\"><img src=\"data:image/png;base64,iVBORw0KGgoAAAANSUhEUgAAAX4AAAAZBAMAAADEcliZAAAAMFBMVEX///8QEBCIiIhmZma6urrM\n",
       "zMxUVFQiIiJERETc3Nzu7u6qqqp2dnaYmJgyMjIAAAAcRTyBAAAAAXRSTlMAQObYZgAAAz1JREFU\n",
       "WMPtmE1IFGEYx//O7rrOl9KhQLwsFH1ccqFE/IgmIjoFq4ckvCySl04LQUtgsMe1Du7JpIsLgoaH\n",
       "GvQkGGxQIFvBkARCSAt1qZOHIgmE3vl+552vlaLx0AO+O888///z/pzZeWdmgejoLN/HkY10eSZO\n",
       "ksWRjvn//Anzt/SP3Sj+GEVCMWnxv9E/vkXxxygSijWLf4GMfCWKP0aRMH93HZDUKP4YRcL8cnN1\n",
       "9XHk9RujSJgf+9XqTPT6E61Imn8amI3mdxTBuq4anSn2RkRTxtKOYzaU/yqElrc0MapwJyh+WyF/\n",
       "D2z9SaEz+0IPEQdZ2nD4aw5/Fpzm7hY2L2hipYlhit9WLB0EtRYua0H8lli2/jwJY/E6AsNfc/gl\n",
       "jb7H7mysQnyfQoPitxXNu0GtpZV8EL8l5hTqJm8njMXrCAx/zeHnWzfJUbk0fpI7XUBabyxO3srR\n",
       "/IYCyOSqQa3HuyoB/I6Y5EN0cchvYRxoq+bwY/Y24b+iddzhiujWd4qF5gea31CQR2kMkqHONiqm\n",
       "SgH8jvgV+KJTtBLGwjgQUgvjXyfNnpxBj5JqYMnkl6Q8zb9uTPcR/ci8ZCeQVW4vgN8RP0XKXWzM\n",
       "hLFsVavVVkh7qhbK35MjwxTGkFUxQfQ5scBrJZrfUAif387VkWX5n41u/fLzu2JJWaauFSNhLfoZ\n",
       "CWtP1agYLJePlcv3TH5ZLx3HWSxmyIkyjj+u5Wh+Q5GqY7Hgn2AY/A9sv9iefE3zu2KhMkCtVUbC\n",
       "WgzGkPZuTR7ZHdgshDz/83vkDOxIkHSBrEBu+J7/b5DzoOkT8A+xULeHNFkJD7DW6lA3aX5HDLwj\n",
       "33hLbyYeC9lvMroOp7m3Jp5Hn9gI4U8X8RXzTeARSa5/0U0Mf9c++LkH+gSZPozVMr360Ie5ChZ+\n",
       "ap2FFVyk+F0x8JwcEktvJh4LaaFHjXKMqWbzXqY2LZRSStz7F0e+/1HvX/oEopOJjmodJdWz/tti\n",
       "CJ6bHdXYtIi+9lDZ9maUxHxW/MP3x0z/CLDhpPbWMk5hqsbyG+KwsC0bvvZijW1v/utFTuk89zfe\n",
       "f7WALd/9t93wt5Cj2h+a/7C//+T/6e8/934DwTQoskYL0HwAAAAASUVORK5CYII=\n",
       "\" style=\"display:inline;vertical-align:middle;\" /></a><br>(see <a class=\"ProveItLink\" href=\"../__pv_it/071d81040473626c6366feb6d399f5679898366c0/dependencies.ipynb\">dependencies</a>)<br>"
      ],
      "text/plain": [
       "orContradiction: forall_{m in Naturals} [forall_{A_{1}, ..A_{_a}.., A_{m} | A_{1} or ..A_{_a}.. or A_{m}, [not](A_{1}), ..[not](A_{i}).., [not](A_{m})} FALSE]"
      ]
     },
     "execution_count": 2,
     "metadata": {},
     "output_type": "execute_result"
    }
   ],
   "source": [
    "%proving orContradiction presuming []"
   ]
  },
  {
   "cell_type": "code",
   "execution_count": null,
   "metadata": {},
   "outputs": [],
   "source": []
  }
 ],
 "metadata": {
  "kernelspec": {
   "display_name": "Python 3",
   "language": "python",
   "name": "python3"
  }
 },
 "nbformat": 4,
 "nbformat_minor": 0
}
