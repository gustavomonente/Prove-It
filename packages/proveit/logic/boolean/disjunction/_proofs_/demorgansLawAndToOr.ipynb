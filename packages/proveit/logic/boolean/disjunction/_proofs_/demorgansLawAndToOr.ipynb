{
 "cells": [
  {
   "cell_type": "markdown",
   "metadata": {},
   "source": [
    "Proof of <a class=\"ProveItLink\" href=\"../../../../_context_.ipynb\">proveit</a>.<a class=\"ProveItLink\" href=\"../../../_context_.ipynb\">logic</a>.<a class=\"ProveItLink\" href=\"../../_context_.ipynb\">boolean</a>.<a class=\"ProveItLink\" href=\"../_context_.ipynb\">disjunction</a>.<a class=\"ProveItLink\" href=\"../_theorems_.ipynb#demorgansLawAndToOr\">demorgansLawAndToOr</a> theorem\n",
    "========"
   ]
  },
  {
   "cell_type": "code",
   "execution_count": 1,
   "metadata": {},
   "outputs": [],
   "source": [
    "import proveit\n",
    "context = proveit.Context('..') # the theorem's context is in the parent directory"
   ]
  },
  {
   "cell_type": "code",
   "execution_count": 2,
   "metadata": {},
   "outputs": [
    {
     "name": "stdout",
     "output_type": "stream",
     "text": [
      "Beginning proof of demorgansLawAndToOr\n",
      "Recorded 'presuming' information\n"
     ]
    },
    {
     "name": "stdout",
     "output_type": "stream",
     "text": [
      "Presuming previous theorems (applied transitively).\n"
     ]
    },
    {
     "data": {
      "text/html": [
       "<strong id=\"demorgansLawAndToOr\">demorgansLawAndToOr:</strong> <a class=\"ProveItLink\" href=\"../__pv_it/16bc1a1fb2369355dea7fc088fcaf7dec46e52f80/expr.ipynb\"><img src=\"data:image/png;base64,iVBORw0KGgoAAAANSUhEUgAAAeYAAAAZBAMAAAAWDpCEAAAAMFBMVEX///8QEBCIiIhmZma6urrM\n",
       "zMxUVFQiIiJERETc3Nzu7u6qqqp2dnaYmJgyMjIAAAAcRTyBAAAAAXRSTlMAQObYZgAABVZJREFU\n",
       "WMPtWF1oHFUUPpnd2d2Z2dnmQQtalCWVKhXJQorFGumKGItQ2FZIIi3tUhVpEFwpNFAr7Iuwqeju\n",
       "Uw36kMFIt0SoixE10GJEhBJ9GJIWCpo6YH1oXxpstGkhref+zdz52V3SlkWKhzsz95755p757s85\n",
       "916ANvLmaA3uJ4mPHm2LKcH9Jsf/5/zf5qzZd1mBUWOcHfJYbMW5HaJjcpI99q3tK9Xx8gcZ55/J\n",
       "40orzu0QHZPL7HHVVRQopzDQp88seS9OMc7jZNCUW3Fuh+iUmDn2uGoJzRvkNh9G+vQXb3ov0lnK\n",
       "OYM1pButOLdDdEqSLGh+sd0NnoPkdiSMlPX69A3vhd5NOZtzU1Mft/Rh7RCdEv4Pdm9eaDLIPp4L\n",
       "I2W9qSxLby4xv71SqRxt7bfbIFoI2tZCPqU5NmpiFtzCRramsL533beBvFIR38n6l41V6c2PjDMO\n",
       "/rHWnF1ENM5vNS/l03jNBnFGPrKWtJf1zHxNE5cP6f1z2I+TUi2Lnxtu8tNcr+fVv6QXFxnnF0B3\n",
       "/F8M9eeV9dLnAmEuR/7t7z4SsrPD0JCohXDPRNZy0PNVnplYjSQu7/I2nciB2seWDT0Ar0dV5unj\n",
       "oF2TXnzLOCdBkWK9frrPNspzsE3iLBCTq1H169vtJpxV7OO9YdwJvBT5E4VjuUhm9CJJXB6gdb7W\n",
       "9zaaiDPO9VB/QUA/2Pf0ivRiP+OctpOS8sLMFBjzMW9IljzE3KHIQVnPNeGcKPCw4ccRDzMktxMp\n",
       "JLx5K5u57EZlzjkO0OW4nGON6IDi6XFsPRrmrDno2s3ndm9UNhWYtzP2vJqVOVMENnG2ElX/7lS5\n",
       "Ceekb+nq4sigOSZ3Dyl47e4z8xRN0thGKslul7PmJKNXqUJv4PUOwML5nlwPaf6X+Hp7DIe++bzd\n",
       "NaIUIUOBhbnzMmeKwK6ArXizgvUXY6UmnDG4aCU/boRUX8SRvChPgUU3EAkzQr6hyfNhWoMtrDhn\n",
       "eH8+2vMK/ads3XbuEVhvbfJ8GEzj9588DuvysVmYZJzT6ZzMeZpa+BV6Qf0hyNlsKEshzulKpfIR\n",
       "7MB/K/M8w+19GKguZaUkv08KiD2LQIeZcWUHTV6cIU2TuuFxHmQrD/0W3r50eMbT0yav1rTPSrAM\n",
       "/Zjv55zXkQXZAdgFyQYMod2sUdDsksyZIvQ/fqlakAxyPtV/9mZkPydgAP+tyPMcd4Qt+l/BJnC/\n",
       "oIUBPhi4GSH7pC0FjsuTt6+AUb2eczlneN8cJlOpyDOuXq/esuC724cgkVW76dz4k3M2iYkH4QmY\n",
       "UMnPkX6GF7MyZ4qIWTBRCHPeBtrfsHBmYc9PIc7DbhxNcBzljO0wIs8BWhgWnJkZUeEAiNZw154s\n",
       "BHHOmtVk2+nXdxWUsrZUAL0k7Z+1JezpC2lIE/dp5sGcDe2fd2J/24SzdgzGLXGLo0Naha+crsbp\n",
       "EOc6MCMkz3CUszmr5sgQ5pWwQl1wZmZEhb/R5NtjMN+0tm39BPa0WZ4VewzebkWMCcfnAD4gg+gS\n",
       "MR7gnFoBrfoe4axugF019SFy2wDVMoxftxOFOmwJcNbomODziuNoMZYnjjAlKmEFPn5q3IyocAuI\n",
       "en3rM23rP9m1cB7AAKm9ZYm9ZEAUnM+tzknIvxlec7tRaRpKjaDfVlDzpP9zwjkDOplr7rqDXoo/\n",
       "zooKHQAneGZwFzJ2J2dDau+zADNuUeROwGNwoBZae5ZJD/pi+TXkcSbSjn+Dzis0bJLu2dmQWbvj\n",
       "8zA7Ihf57zg34yGInou0szNKOQksenb4DHB0jefbucCZ20xo9lgtzucCspmme3y+ffhfcYORAjTf\n",
       "dPEAAAAASUVORK5CYII=\n",
       "\" style=\"display:inline;vertical-align:middle;\" /></a><br>(see <a class=\"ProveItLink\" href=\"../__pv_it/16bc1a1fb2369355dea7fc088fcaf7dec46e52f80/dependencies.ipynb\">dependencies</a>)<br>"
      ],
      "text/plain": [
       "demorgansLawAndToOr: forall_{m in Naturals} [forall_{A_{1}, ..A_{_a}.., A_{m} | [not]([not](A_{1}) and ..[not](A_{i}).. and [not](A_{m}))} (A_{1} or ..A_{_a}.. or A_{m})]"
      ]
     },
     "execution_count": 2,
     "metadata": {},
     "output_type": "execute_result"
    }
   ],
   "source": [
    "%proving demorgansLawAndToOr presuming []"
   ]
  },
  {
   "cell_type": "code",
   "execution_count": null,
   "metadata": {},
   "outputs": [],
   "source": []
  }
 ],
 "metadata": {
  "kernelspec": {
   "display_name": "Python 3",
   "language": "python",
   "name": "python3"
  }
 },
 "nbformat": 4,
 "nbformat_minor": 0
}
