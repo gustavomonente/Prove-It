{
 "cells": [
  {
   "cell_type": "markdown",
   "metadata": {},
   "source": [
    "Proof of <a class=\"ProveItLink\" href=\"../../../../_context_.ipynb\">proveit</a>.<a class=\"ProveItLink\" href=\"../../../_context_.ipynb\">logic</a>.<a class=\"ProveItLink\" href=\"../../_context_.ipynb\">boolean</a>.<a class=\"ProveItLink\" href=\"../_context_.ipynb\">disjunction</a>.<a class=\"ProveItLink\" href=\"../_theorems_.ipynb#commute\">commute</a> theorem\n",
    "========"
   ]
  },
  {
   "cell_type": "code",
   "execution_count": 1,
   "metadata": {},
   "outputs": [],
   "source": [
    "import proveit\n",
    "context = proveit.Context('..') # the theorem's context is in the parent directory"
   ]
  },
  {
   "cell_type": "code",
   "execution_count": 2,
   "metadata": {},
   "outputs": [
    {
     "name": "stdout",
     "output_type": "stream",
     "text": [
      "Beginning proof of commute\n",
      "Recorded 'presuming' information\n"
     ]
    },
    {
     "name": "stdout",
     "output_type": "stream",
     "text": [
      "Presuming previous theorems (applied transitively).\n"
     ]
    },
    {
     "data": {
      "text/html": [
       "<strong id=\"commute\">commute:</strong> <a class=\"ProveItLink\" href=\"../__pv_it/1fc0b46f7f326f3f0457aaf66c374ac27d723c5f0/expr.ipynb\"><img src=\"data:image/png;base64,iVBORw0KGgoAAAANSUhEUgAAALMAAAAWBAMAAAB567CdAAAAMFBMVEX///8QEBCIiIhmZma6urrM\n",
       "zMxUVFQiIiJERETc3Nzu7u6qqqp2dnaYmJgyMjIAAAAcRTyBAAAAAXRSTlMAQObYZgAAAt5JREFU\n",
       "OMullU1oE0EUx/9kkya72aQ5iAiKBBX0og0EIkrRiAdFkBYP4s2ACrmIUcGDHxjBj6QqiRcteMiK\n",
       "h5QeNNCLnoytoFSRmENBRA14speWpq1ppNb3ZnfjpMRA0oGZffvezG/nfcws0G1TS+2sL6lXWPja\n",
       "BXqE+tTKqUgqutriImZPFnjPL9NdoH/ysAFQFug5KJCWxT8LaIQfZt+SnZN9IYYtA84qCWdYVbZM\n",
       "3+o0jNMnDEAvdI52k8dwLNE35kg4zqrLpkUbIy2ekGVydPRRF/EQazwBYjDRTx9yhix/HPOsoRTU\n",
       "UqmrXaC38tAbg+sSuQ0vYT1Z03LES2GCHhJhSguVOR6uTsTFHKcNsZfAmemPpG3tfR5Oni3fMYOZ\n",
       "AE5Y8Yi6OEQ+yuNBkU2S5013AtADgmhDvjeq6xPw2pav8NCXhbZevG4BTlsbgMqJ9dLH3HCI4n+6\n",
       "LCxKDN66jNb2l8ATqEeAV4alXsfDDcaLbeetDVJGw5EaFw9VoF5yC9XkRTPzQSgVGa3nQ9hGBRoD\n",
       "LgD7IKMXGR0UOyrYZUY+brbQakVUjiuYEpbng9hlyOhjniTLCvm+AMe0HBAua5wT8VIr5gbhpX6e\n",
       "45Lg9Ikg9WC3MA3s3BGDjI4pCehRPKTZc+XbkNPIZe2qme+3rAPzmPqMlUaMMR9f0CdMH4HtMtpX\n",
       "cMxCS2IPhaYCR8JGT3DtUr4PDFkhNg+MyhMyVFNKkYuTg6X9+JARcbgH5AoS+ln/O8rqG41c8RSh\n",
       "/rbRh8jRmcVw/K59cYgDo2X+GHixQmnz87XiY6RiICfuGFo7kJXQe6HS/TOikLG3AOdS00GX71ij\n",
       "+T3fkI7SypI6BLUOdZMUECfVHCVLnyI5Z+BBsel6atPGGyeuBjVzzbURb6vheFRCZ5IY/lXi4oB+\n",
       "PRy5+W9tui3ZrvJG80qyp8litPwV/L95si1+O63Rnf7APq9WlDpAr6EpawX8BRqzsfBgEjt2AAAA\n",
       "AElFTkSuQmCC\n",
       "\" style=\"display:inline;vertical-align:middle;\" /></a><br>(see <a class=\"ProveItLink\" href=\"../__pv_it/1fc0b46f7f326f3f0457aaf66c374ac27d723c5f0/dependencies.ipynb\">dependencies</a>)<br>"
      ],
      "text/plain": [
       "commute: forall_{A, B | A or B} (B or A)"
      ]
     },
     "execution_count": 2,
     "metadata": {},
     "output_type": "execute_result"
    }
   ],
   "source": [
    "%proving commute presuming []"
   ]
  },
  {
   "cell_type": "code",
   "execution_count": null,
   "metadata": {},
   "outputs": [],
   "source": []
  }
 ],
 "metadata": {
  "kernelspec": {
   "display_name": "Python 3",
   "language": "python",
   "name": "python3"
  }
 },
 "nbformat": 4,
 "nbformat_minor": 0
}
