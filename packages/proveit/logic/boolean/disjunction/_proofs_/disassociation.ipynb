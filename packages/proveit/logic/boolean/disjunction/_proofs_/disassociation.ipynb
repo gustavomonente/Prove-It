{
 "cells": [
  {
   "cell_type": "markdown",
   "metadata": {},
   "source": [
    "Proof of <a class=\"ProveItLink\" href=\"../../../../_context_.ipynb\">proveit</a>.<a class=\"ProveItLink\" href=\"../../../_context_.ipynb\">logic</a>.<a class=\"ProveItLink\" href=\"../../_context_.ipynb\">boolean</a>.<a class=\"ProveItLink\" href=\"../_context_.ipynb\">disjunction</a>.<a class=\"ProveItLink\" href=\"../_theorems_.ipynb#disassociation\">disassociation</a> theorem\n",
    "========"
   ]
  },
  {
   "cell_type": "code",
   "execution_count": 1,
   "metadata": {},
   "outputs": [],
   "source": [
    "import proveit\n",
    "context = proveit.Context('..') # the theorem's context is in the parent directory"
   ]
  },
  {
   "cell_type": "code",
   "execution_count": 2,
   "metadata": {},
   "outputs": [
    {
     "name": "stdout",
     "output_type": "stream",
     "text": [
      "Beginning proof of disassociation\n",
      "Recorded 'presuming' information\n"
     ]
    },
    {
     "name": "stdout",
     "output_type": "stream",
     "text": [
      "Presuming previous theorems (applied transitively).\n"
     ]
    },
    {
     "data": {
      "text/html": [
       "<strong id=\"disassociation\">disassociation:</strong> <a class=\"ProveItLink\" href=\"../__pv_it/c538dbe4e6982849f341f145dd0c5f5f63194d3b0/expr.ipynb\"><img src=\"data:image/png;base64,iVBORw0KGgoAAAANSUhEUgAAA/sAAAAyBAMAAADxWdboAAAAMFBMVEX///8QEBCIiIhmZma6urrM\n",
       "zMxUVFQiIiJERETc3Nzu7u6qqqp2dnaYmJgyMjIAAAAcRTyBAAAAAXRSTlMAQObYZgAADWFJREFU\n",
       "eNrtXX2MFOUZf272dvdmd/bu/qgUtdgREzyalltzFqicYQmpNm2MC6bQprZswGspqeUaGqIgstgC\n",
       "h5ZyrWlFLN6iDVIs5Qy5KIkNW7BtvCJsAFsaBU7RJpq0XOBADorX9/tj9p25XfYawNs3YXbufX/P\n",
       "b559fzPv5zwLQKWpZmgoD9dseg1GX9pKP5yhocbKyWp2P527ZmvCyY9C+Wv7yEfs6WdGQv70NVwT\n",
       "E2A0puPsMzzK5Y+L728XRox0c6UEu0fwGxq56vJV+XHakuJn2+jHd8okMOBjWYDE4nMtC39aOs3f\n",
       "hxZM7hC+RDqLOJsWPGiX3k8p8GIuXP6pqvw4/UScfUA/TomMMDkWf7e0LFTwCroeV3gNugemp4OZ\n",
       "1PyxAKGzQp0+b/HNBYjfVjA5YHRMgVMub3qpKj9u+y/ws0SSfpwSo9gI/loJt8imDR8OcTOOV9CH\n",
       "8WEeqvx7k8FMSn74EhqQnRElez3F25ahw/ROgwNGxzT4XtMXj+ar8qNaSIozWlkvThdtZTiDs4vn\n",
       "NHPwYRn7Q+AV9MP40IzyT7jBTEq+NYiUPi37JE/xO/g4w+SA0TENvsV43w9W5UcCCbGfoh+F5pTW\n",
       "HcwstsFtey2/bSReoO12fFyFmt1P54KZlPw6pMMWKWl9SisOXcTH+0wOmBzzwFOmb76kKj/AQ+Ls\n",
       "Fjohzu2RE4Bd6N86w4ODariO3TYKXqAtosw5gLmLhmFS8hsyEF4q2wcnqRV3kTvqdwYHjI7pcCdp\n",
       "vPFzVfnDA+J0PTn+FuahBjucpf2BONMTqtxvsFOCjy3W0HX4hgifO9a0HDjQj0nmz3vw0NpuWZDo\n",
       "04oP8l4k63XA6NhBbZhBuQ78B6eTInenW5U/JL/9cnJMQVcSwi3k6QHLhYip4RwP8AA7JXi4W0NH\n",
       "u1lfviUD900JZJL5aKgQG6M8yO1a8Upaw9wxxQGjYys1QShXUU/RV5W/JiNOyUQ4vKBlMXrAammF\n",
       "xdrhDyarF8RkiuH3aeiaFOvLrYvszvBlkvmr8C0gH/9wv1b8WdJS57hjL/jM5ng+h6tcRXfeYFX+\n",
       "eQVd/lr0ZfqE/DAN/mZsM7odJhTDr9fQRH7Ul4N1msvvxyTzz2H5XY/8ongleYrT3DHpgNkxDg+S\n",
       "375Ulb+5U2/8UeVFG6X8z4Kx3bT7ouyM4Qc1NGn88Y0VGRDy+zCJfDzth8WpxJ2zb7EmpIUHvJjM\n",
       "Lh2RLR0wO8bgmA24Ee37/yXBY6ryrwJt6Gcj4er7pfx133aNZqvZmgvDszrkaDL0wzfWvKyQ34+J\n",
       "5+OmOHweEjMKNYusDB+uieIu/NErHVt9CIIcY3DM1im4vGltVf6x8nQfm/vXDcpaDn+P9J+xj/FI\n",
       "uY8fAOYsk2sFCG9lVTSdaL2DWMbmhPy8DBNIOplfj2SY8ThsuhUaUqE8asbzWnEcNQ67ctIx5oBg\n",
       "Iicyn8ExW05wedNBJj9x5Fhl8lfMcUVSTK6yYp22DX0I8Q0fJUUtA5snLcVNeoYfkFh0Js3xda6G\n",
       "xtY/xDs43SDk52WEYKlkYvmRU+daFj6BTubDLNJ51Kc1M3h+zYIUSPmZA5JpqZ7P4PPJyl+9+ek8\n",
       "kabyk9HFh5XJXzHHlZn2n1am4Mo6ipB/k9nOzunf/+s6+mHQ7qogJm/+ddAEXWE8hjcWc8c8Dvg5\n",
       "dh20KlzeYa9L5d+I7bKVyV8xxxVJ8YvK4khyuJmyb2qw9L8PK+cvl8Vk96Mn9qjjs01TrmOI7cc9\n",
       "vlw7k1T+enTLmCcSpctfMccVSYmzyh9yUdaecs4ta/HI87qgsiD75Mr55TDVZuAD+HWvz7S+XMcQ\n",
       "2+cLflxkaorlT/Ru3/5UhUO/ijmuSKJLHyxtG7khRcXNoGlFf6S5GrJs5H++o+ORSkf+lXJckeRc\n",
       "UB+tq+hlr3+O4Jf048LrVUT+Ntzy0X2Ly5a/jbee64ZDmwBfObNvYeANHwA4uiA/MbCFX9Nq+ZiG\n",
       "LsDoTTXtTP6ZpH9gY9S5rSlrjHeEvOQ1uDnjm4Pln8n6mMSAgjo+acq0IjUGDOWJRnAag8x0gIp5\n",
       "1oVtQab2uxBTVncS755cIsYokf5RLD9eriTyR8EqkHWP2KsthXi2F+5QYS/uuxNecXKhnG8Olp9y\n",
       "oBnnJd4BIi7Lsd/yTjo5QCsPZfhrVz5mEuDB2OhuSmQDTLvQBPio4rib39xTlV+V3yngpeL1qJp2\n",
       "b4f4oRCoy0SJJzbl4I9u0vHPwfJTDoDeJbxNRlyWBb3eHpUDtPKoC6G+IDMJ8GDwO2thN8AUj0hm\n",
       "K467rrOj2vjjmuONv92H3xIbpC8Kxb/1TRfLf/jN8cnxbexlo56eX2Kx6R6CmiPkpxxIiQ426cBc\n",
       "llX7tqfb5QC9fGcaJuWCzATAi2lGubEAUwsrvJ2eE8dd957XxdBvcDT3/XzoB+seoAsAZGUh3fsm\n",
       "lv/IOBiTmwB0ObfH2XE/lp/sIag5Qn7CgZpTmIIOSA7CZYVue99zUQywV3jL7/1CU4bY+ZlRAE0a\n",
       "hr2ttcjvilFlEkYcd1tuEr2Ddfb/M3C/yha3zAPfmgyXfxdqB6wsPE/ld/Cehf1cOwxAK8TIYlgP\n",
       "5PGWCNlD0HKk/LvIgtRb0AzhPyH5CRdqir/k6cQxAFZ7yw8A3Ers/MwIgI8eVMx/Sdb9N/hdsUF2\n",
       "ZNRx1w39yjQMLZq2h/vKq2UTXg/eGH4ZKig25Lk1kwu/Kd0dBf5987w/yeVvQJ1nnQtzOzo63Hja\n",
       "LmAlIy4qWg7hhzo6HkNibyZdO95D0HOE/JgDYif3b8iRd5MJFxIjry9TUUCjt/xnaIjWje18zBiA\n",
       "zU1UDO7ad5DXm82meGwQo6MB6jjq+8Uabdwofz19WurluNAnrkKP3hB4Fa0Gb5TAosaGeEyscegR\n",
       "G2e6sJFKhRtfNIKdeS5/Ikf2LSL06Ycvu0RTK2v3pyFDn/VaMnwiewhajpAfcwCaDHSlifwR9izm\n",
       "9ddMCQBvDujlF1Hz3ontfMwoIDHt2BdfTeuYqehfnshvNg1lyYsP044hUIY+/U5IVNclU72wJfvj\n",
       "clzoE1ehR28IvILWgjdKYFFjQ3ST2FpUqaFB04VNVBrcMa4U8y0f1hZY4BDrFCTy9uPQhZ7/RDYP\n",
       "f8aFRwDeho05uocgc1T5SboH8RSI/ITLcmA/5kKW+LAxRwGJvKfcvgD2Z0hEg8lMAOKT4MZ4XsdE\n",
       "C/D7TiK/zxVXQOx1iDfh12aI427e2S+q4IypXuiGXWyXHBf6xFVo0RsSr6C14I0SWNTYEN2k/gY8\n",
       "um00XNhIpcFjxnc69nSr8uN9C7zjfPd76DEJ3wh3oUbQ/kEO6hCq9tEUerhmddM9BJnjlb/uPNgb\n",
       "VlAHMNc/Dkz9NyCuWZ3h69FhVjcFhFKe8r+eaVmYoo4bzCSgLdaObVUM/KX1c6yKjFcEZ8FeRNuG\n",
       "X5HGjiceOflzOTN81FAtNEoDEtaA1h2Y4irU6A2JV9Ba8EYJLFpsiGYynYiVNFzYSKXD3zPJf7AT\n",
       "PG/7WKj3ZL2izGxCHSZN3UU53qef9bc5Hy5GEI2by7GdyUyctceT2NaAWRZ8RWi3jhgch+mGaqFR\n",
       "GvDVuOwZ/OIq1OgNiVfQWvBGCSxabIhqYn9EHuNOw4VNVB74PpP8ZJHf52Wv3aVPIIrkDzdPM3Nx\n",
       "Ameisdxjt7voLJaxUpGJJszsM92BV4xl4m+YPD9R3IDSV/UgliLvgrBoCp+4CiV6g+K39utoFrwR\n",
       "HJ0hWXhsiEzcxOE9SGlhI85pLfu46buPDZDftPuVgNLk9+VKQMnX0rILw1OXd0U5/DG8okBe1IVa\n",
       "sNHAgEVp+MVVKNEbFE/fxpFoGrwxTHSGZGGxIUriJlE2fSgxbCSqL2iY3jmxTwfIX9760SchzEPm\n",
       "kXqd0zL5PIh9MJ+4CiV6g+JpOJ1Es+CN4OgMycJjQ2TiJjVkWhErNWxEwNldbrpTqmEeEOr3kx8d\n",
       "bpLy+8VVyOgNiqcdh0Sz4I1hojMEC48NURxkJtF+OtsuMWxEwP3lr2uvyl874NP448Hjj6T8fnEV\n",
       "InqD4Rs6NTQL3hguOkOwsNgQvt2imNApfL7UsBEOx0zyW+iLfm5VfljiM/R7BujPtvCK84mrENEb\n",
       "DD9LR7PgjeGiMwQLiw3h2y2KCempnVypYSMcjpiu9xn6Neeq8puG/mTHA+u1oVPKz+InRKwHi6vg\n",
       "YRgc36ShefDGcNEZnIXFhvDtFo1qTwHid0DJYSMUjpnwKKDV8M3pKz2jXP6afHGH0A6xDR/n4JWh\n",
       "JVJ+Fj8hYz1YXAUNwxD4xzS0CN4YLjqDBXPw2BC23aKZxKZ+93aAUsNGODzikpW/9w2z+OqPu4D6\n",
       "007eRV+aeG37xVV4ozTSRvRw0RmbvPVJt1tMJuWFjdSkQ/k0ng8UJXZbjfYfdjtZnHX5URrQb+6R\n",
       "ywwb4dstpvRymUzRr6WNWz4v5aryo/SLYt8vP0oDWk1rMWWHjfDtFkMq06G7wHrDuOFb/VlH3wez\n",
       "8iiNqywZdgciyar8JE0uzvqEveyVMOzV8Hefw6P9B90jLoy+NLI/6H5N/3cOt49C+bfSxxX/dw7/\n",
       "AwagteUmJWLcAAAAAElFTkSuQmCC\n",
       "\" style=\"display:inline;vertical-align:middle;\" /></a><br>(see <a class=\"ProveItLink\" href=\"../__pv_it/c538dbe4e6982849f341f145dd0c5f5f63194d3b0/dependencies.ipynb\">dependencies</a>)<br>"
      ],
      "text/plain": [
       "disassociation: forall_{l in Naturals, m in Naturals, n in Naturals} [forall_{A_{1} in BOOLEANS, ..A_{_a} in BOOLEANS.., A_{l} in BOOLEANS, B_{1} in BOOLEANS, ..B_{_a} in BOOLEANS.., B_{m} in BOOLEANS, C_{1} in BOOLEANS, ..C_{_a} in BOOLEANS.., C_{n} in BOOLEANS} ((A_{1} or ..A_{_a}.. or A_{l} or (B_{1} or ..B_{_a}.. or B_{m}) or C_{1} or ..C_{_a}.. or C_{n}) =  \\\\ (A_{1} or ..A_{_a}.. or A_{l} or B_{1} or ..B_{_a}.. or B_{m} or C_{1} or ..C_{_a}.. or C_{n}))]"
      ]
     },
     "execution_count": 2,
     "metadata": {},
     "output_type": "execute_result"
    }
   ],
   "source": [
    "%proving disassociation presuming []"
   ]
  },
  {
   "cell_type": "code",
   "execution_count": null,
   "metadata": {},
   "outputs": [],
   "source": []
  }
 ],
 "metadata": {
  "kernelspec": {
   "display_name": "Python 3",
   "language": "python",
   "name": "python3"
  }
 },
 "nbformat": 4,
 "nbformat_minor": 0
}
