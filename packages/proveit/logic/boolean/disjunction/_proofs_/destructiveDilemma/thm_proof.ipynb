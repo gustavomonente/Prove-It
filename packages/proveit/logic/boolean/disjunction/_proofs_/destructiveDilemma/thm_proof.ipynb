{
 "cells": [
  {
   "cell_type": "markdown",
   "metadata": {},
   "source": [
    "Proof of <a class=\"ProveItLink\" href=\"../../../../../_theory_.ipynb\">proveit</a>.<a class=\"ProveItLink\" href=\"../../../../_theory_.ipynb\">logic</a>.<a class=\"ProveItLink\" href=\"../../../_theory_.ipynb\">boolean</a>.<a class=\"ProveItLink\" href=\"../../_theory_.ipynb\">disjunction</a>.<a class=\"ProveItLink\" href=\"../../_theorems_.ipynb#destructiveDilemma\">destructiveDilemma</a> theorem\n",
    "========"
   ]
  },
  {
   "cell_type": "code",
   "execution_count": null,
   "metadata": {},
   "outputs": [],
   "source": [
    "import proveit\n",
    "from proveit import defaults\n",
    "from proveit._common_ import A, B, C, D\n",
    "from proveit.logic import Implies, Not, Or\n",
    "from proveit.logic.boolean.disjunction._axioms_ import leftInBool, rightInBool\n",
    "leftInBool.proof().disable(); rightInBool.proof().disable() # disable these to avoid a longer proof\n",
    "theory = proveit.Theory() # the theorem's theory"
   ]
  },
  {
   "cell_type": "code",
   "execution_count": null,
   "metadata": {},
   "outputs": [],
   "source": [
    "%proving destructiveDilemma"
   ]
  },
  {
   "cell_type": "markdown",
   "metadata": {},
   "source": [
    "Prove by applying the **constructiveDilemma** after taking contraposing $A \\Rightarrow C$ to $\\lnot C \\Rightarrow \\lnot A$ and $B \\Rightarrow D$ to $\\lnot D \\Rightarrow \\lnot B$."
   ]
  },
  {
   "cell_type": "code",
   "execution_count": null,
   "metadata": {},
   "outputs": [],
   "source": [
    "defaults.assumptions = destructiveDilemma.allConditions()"
   ]
  },
  {
   "cell_type": "code",
   "execution_count": null,
   "metadata": {},
   "outputs": [],
   "source": [
    "Implies(A, C).contrapose()"
   ]
  },
  {
   "cell_type": "code",
   "execution_count": null,
   "metadata": {},
   "outputs": [],
   "source": [
    "Implies(B, D).contrapose()"
   ]
  },
  {
   "cell_type": "code",
   "execution_count": null,
   "metadata": {},
   "outputs": [],
   "source": [
    "Or(Not(C), Not(D)).deriveViaMultiDilemma(Or(Not(A), Not(B)))"
   ]
  },
  {
   "cell_type": "code",
   "execution_count": null,
   "metadata": {},
   "outputs": [],
   "source": [
    "%qed"
   ]
  },
  {
   "cell_type": "code",
   "execution_count": null,
   "metadata": {},
   "outputs": [],
   "source": []
  }
 ],
 "metadata": {
  "kernelspec": {
   "display_name": "Python 3",
   "language": "python",
   "name": "python3"
  }
 },
 "nbformat": 4,
 "nbformat_minor": 0
}
