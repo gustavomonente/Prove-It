{
 "cells": [
  {
   "cell_type": "markdown",
   "metadata": {},
   "source": [
    "Proof of <a class=\"ProveItLink\" href=\"../../../../_context_.ipynb\">proveit</a>.<a class=\"ProveItLink\" href=\"../../../_context_.ipynb\">logic</a>.<a class=\"ProveItLink\" href=\"../../_context_.ipynb\">boolean</a>.<a class=\"ProveItLink\" href=\"../_context_.ipynb\">disjunction</a>.<a class=\"ProveItLink\" href=\"../_theorems_.ipynb#leftwardCommute\">leftwardCommute</a> theorem\n",
    "========"
   ]
  },
  {
   "cell_type": "code",
   "execution_count": 1,
   "metadata": {},
   "outputs": [],
   "source": [
    "import proveit\n",
    "context = proveit.Context('..') # the theorem's context is in the parent directory"
   ]
  },
  {
   "cell_type": "code",
   "execution_count": 2,
   "metadata": {},
   "outputs": [
    {
     "name": "stdout",
     "output_type": "stream",
     "text": [
      "Beginning proof of leftwardCommute\n",
      "Recorded 'presuming' information\n"
     ]
    },
    {
     "name": "stdout",
     "output_type": "stream",
     "text": [
      "Presuming previous theorems (applied transitively).\n"
     ]
    },
    {
     "data": {
      "text/html": [
       "<strong id=\"leftwardCommute\">leftwardCommute:</strong> <a class=\"ProveItLink\" href=\"../__pv_it/719bcbe51d376d9ab1e9005914836a58b4cc64ca0/expr.ipynb\"><img src=\"data:image/png;base64,iVBORw0KGgoAAAANSUhEUgAABJYAAAAZBAMAAACRELleAAAAMFBMVEX///8QEBCIiIhmZma6urrM\n",
       "zMxUVFQiIiJERETc3Nzu7u6qqqp2dnaYmJgyMjIAAAAcRTyBAAAAAXRSTlMAQObYZgAACiNJREFU\n",
       "aN7tW22MVFcZfvfO571z7+78oLW0YkbaWGpMdszW7QdbmabRNRrDLEbQtMoEhNKm6Y5iCrGtHWuL\n",
       "g9XsqIklqHBpDWyohdHNpm3ShqngR1DMCLRpopQxrT/sD1lhWVhgwfN9z7n33NmZTIzNsm8yM+e8\n",
       "857nPHPf556vuwvQqd2/qQLzdtVbdNNjnYMU56/jvGH76byW/rdm1q+CH5mqUC018MeJjrTUMcQc\n",
       "tlH68dX2WsUaGudzW/rrP1c8zvBU34anWodtEu8Mn19ffqANim9e2bJhC1/dPEC19Cf88V5HWuoY\n",
       "Yg7bv+jHKeHIE60E1eN9iax7IhhtLAIYW6T6ukoAy/KtIyvxapMeJN+TVS0bPdZlJMCLzL+Pamkb\n",
       "HohLHWmpY4i5a06WfpxyuWcdfjsaCIzjBDkZVnv7QiDa+h6CiEyrCKvRDLo82zqyEu+DQhGRtJaN\n",
       "Fit2Gr19nPntDNFSN6JoVzvSUscQc9cSdBZ4YZnY667Eb98K3vEFHM0UZ41NB6K7r8ebpbSK0Itg\n",
       "T2ZaR1bifVBIJtEZHRs9lnEWvS1nq0ErTbTkHN6799nO1t4dQ8xdY5el3pvjnm6UzmhWPxnew0cz\n",
       "YzIQvQzfrLGsivAdlMYPuK0jK/FqkxE8uVzSsdFjJfE0vLPG/O/Sfdz5cvmxzrTUMcTctRvp2Yt7\n",
       "QGznUih1Sc2J3Bh6bWXlz6Zm/NHmOXL/V1SEKYBVD7aBrMSrTc5jnlM6NnqsHryoWV5g/oNUS+v0\n",
       "rdrRUqcQc9d+SN5/SVYj3vX6km42RKMOW3NaObIYUaLt0xBEiE2dWPIotI7si1egML5xScMmBIv8\n",
       "ol4+Lr1NtXQPWA2whjvREoEACFOUuFmiIwP9mpCA+621tVuI/yF9uOKOBrrR2dZm/cEsXzI+2D4z\n",
       "dXBDJbytnzDNXA52ZkUSFgN8TdPWyEA8x3+ReQZg94QcnTjrhQoEAy2rdhWEgmZF5vE6KIwfn+Qk\n",
       "JTYhWHh9BcM85iWqpQQYaAAepL5VAznjWv+Ca+Mh+HAh1FPkEGien9Re4pOC1V8BXtcE+Nw7MjCa\n",
       "Zv6hijZccieD3Wj2U5NN+mtKRuaDgdIQW9isrUp4Ablca/uGSxDro6e6e/iNp5pVpDtrvCLu60cz\n",
       "TrQoR3eRnZ2lIiQRK+MifOE2aA2ZxUvmQWHl9qQ5SYlNCBZeX8F/uH811ZJdT9AJz3q1r54qHYY7\n",
       "5cYvHLwLXrbdiBvqKXIIgOdntP0vE4uFfoADwd2Bz22ivDsl5o8XtOGSO+nrps5eSoUxY1XRny5W\n",
       "IuOQF+VDyxBBHa+HJm1VwgvYyNnV4OKASFW/511Kz+nIMAYfQhc1K0cnyCg1riL0oL6M02IgmBWZ\n",
       "x3vmQeELfrLOSUpsQrDw+sqZ8WnJbKykE/tbr+yF1NEI1OT7+ZntLryWydrhniKHADi8Ude9vUds\n",
       "Lr4B8ElNhOpOIAKxDPMbRW245E76urkJ8RH55BXGjFVFf7pYiYyRw1eI8qFlSCBiNzdrqxImcxzK\n",
       "ViIttGQ2Etos7eBPo1Lo9XX0u+pyNDlZYqkRCPi4CM1LXEuzIvN4zzwo9Lus6wRJr00IFllf7RJL\n",
       "qkGqJdiKZ8xpujdM3fvlDCZ87I3F2cXr2P5vfPzHWDnOXStuVD1cSxQCXfCyrvsVSd6ldRYMzfm4\n",
       "z92LRgXLpX6w07pw2Z30dYPqkYr0Ja5wZrTq9aeJVcggxDs4H1KG/Xk+Berb+gjjtbdZpQfZPE1P\n",
       "H9WvKr/C1uc/o+fkPRU52sS5s10VAR8XrS4JLc2KzOJ5chUo9Lv2eYOn1yYEC6+vrH9ToXhrbxhD\n",
       "zWNp6Cb3RP7wG1hLxxfBte5HgD5qG7dfvA9r6e56V0XxCC2NEQZxQBN3PDCHFSJFeJbcZNHTR7eg\n",
       "jwf9S1bq5rZZ+FEC4o0AInP7tYS7wdB2TnpizSqYmfk4r3o0NLEKmUN4tNkslWE5Kj0c2lZlxvbK\n",
       "+IwpOe2laSU9HLQuo7f9DVZAKbif/k4Th41UYEiJhgN1SPHVB/f9A4Fe53paYn4MqkPm8Ty5MhQS\n",
       "bxSP3ZwkbyNg9jcUP745BrNEKHj5OMC01IOUZpTgeaolG8/T5nNFmEQBVpbO0jV8TbbfDD2u4hFa\n",
       "6iFi/Rv0Qux1v5acqjEBSfIMx27gKeC+6/2TYEOZGS5JfuiqBRCp268l0g2Gtkp4/OBjGK1gZvA0\n",
       "r3o0NLEKmVE82lySyvAXVPpgk7YyMzr2j155D1Ij57IiTd1syn8Ez+cFVkD2DkUauezCy1c2whI1\n",
       "2rp9/a3iiJH6Hr6ytr9cBU9LzE9Ag8g8nifXB7X+uxVJS7yNgEkUZH/81FT/hjuoUPCu4J9MSw7K\n",
       "VTIDq8rlciaVN+sYLZ5BI9WjENtcLj+JlPMLMquugbt9Hq4lh0xJ7/x5xA2evO8b+OMF6KJpr4F5\n",
       "MXjOz9zc8LHni8wPvw6e5TO3T0ukGwJ9yJKWv6RCmaV5VaIRjFXI2Lndgg8pww/Q/ZZu0lZm5j1D\n",
       "oeMpS5Pp6jeB29Xqk+HRft8gtIXMkqttIrS0HVrEws91rCJ4f7/U9UU0D5BxCT6Fx5iuvFEyJ/JQ\n",
       "oKNQdAX+vAYGYqqHa4kuD13YmQ9q6U4wz5LHv2j4qkJ0Oqgl6j722rF7f4ert/NFJvJbC4Jaom5n\n",
       "6YmarCXSDYEejUgPuEmFMCNPn0lVohGMVchYpU8IPqQMSGa7ck3aysxAPNtV09SaXZNvOXSwvRNB\n",
       "nlztEVmxXaxILc+f7bL8GGCTZ8A5cGrm92EnEpxTqgFJ7nGAv8M215yAb45LHr+WPo9g6jjzqD2K\n",
       "Zm9RtFKawdHbUEJd+FGNJML7Xrh/0+iqvorbJurwqwr2r3ZhRw5UROFOLWE9Uy3RbkiO7TdBNCAV\n",
       "ysypse8kGppYmQzAEXTrUD60HLsA5rsQ1tbHzHdGmmovTROZlkNfai//PLk6a5Mkwkp8Ls//5oSN\n",
       "KYcAnsEKRxeqELsBPg3dFfMhF5JoOo5+O4cGraFqtAAfq0sen5aS58EceRxnHrUfqsQW4rcbYKQE\n",
       "287V0VQ/VLWf6Ot/iiZiqEq/X+i54/k9cCtuC78f+CgPx6tNBdFzr4uVJC3RbkiO8W6Ko5MKZRbJ\n",
       "8T2gRyMYq5Ch2zbKh5b/cKZvrdusrcyMrrLExHTbVKadLA3kWo38yRNr2so/T67G2iWJsIwj7I6R\n",
       "/0bXQOsl74SD2ZIym7ehGvD4xiW2QnDl9rxUrHoAJBHeoVpVPOoZw2Epv9+HKNxF47h67s2hQblK\n",
       "opJI+b5rEsvJsINmtvptrR+PGUnO1fA3uk7FryXPXtENfpXw53Hy45XepXJ7XvptxQNYcaYqoYnS\n",
       "brgJ1lREC+FXEYXbKqSOBLSEocPMvsV37NUklpMJs6ZtBbOrzPRa0t1LDrSkJV/7egiAE4pb1/rr\n",
       "4TSSMG/vYy21ZZv+z/8fF5nP4vvBopse+S9jHr8gteA0lAAAAABJRU5ErkJggg==\n",
       "\" style=\"display:inline;vertical-align:middle;\" /></a><br>(see <a class=\"ProveItLink\" href=\"../__pv_it/719bcbe51d376d9ab1e9005914836a58b4cc64ca0/dependencies.ipynb\">dependencies</a>)<br>"
      ],
      "text/plain": [
       "leftwardCommute: forall_{l in Naturals, m in Naturals, n in Naturals} [forall_{A_{1}, ..A_{_a}.., A_{l}, B_{1}, ..B_{_a}.., B_{m}, C, D_{1}, ..D_{_a}.., D_{n} | A_{1} or ..A_{_a}.. or A_{l} or B_{1} or ..B_{_a}.. or B_{m} or C or D_{1} or ..D_{_a}.. or D_{n}} (A_{1} or ..A_{_a}.. or A_{l} or C or B_{1} or ..B_{_a}.. or B_{m} or D_{1} or ..D_{_a}.. or D_{n})]"
      ]
     },
     "execution_count": 2,
     "metadata": {},
     "output_type": "execute_result"
    }
   ],
   "source": [
    "%proving leftwardCommute presuming []"
   ]
  },
  {
   "cell_type": "code",
   "execution_count": null,
   "metadata": {},
   "outputs": [],
   "source": []
  }
 ],
 "metadata": {
  "kernelspec": {
   "display_name": "Python 3",
   "language": "python",
   "name": "python3"
  }
 },
 "nbformat": 4,
 "nbformat_minor": 0
}
