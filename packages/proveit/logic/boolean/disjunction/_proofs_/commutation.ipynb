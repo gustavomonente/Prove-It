{
 "cells": [
  {
   "cell_type": "markdown",
   "metadata": {},
   "source": [
    "Proof of <a class=\"ProveItLink\" href=\"../../../../_context_.ipynb\">proveit</a>.<a class=\"ProveItLink\" href=\"../../../_context_.ipynb\">logic</a>.<a class=\"ProveItLink\" href=\"../../_context_.ipynb\">boolean</a>.<a class=\"ProveItLink\" href=\"../_context_.ipynb\">disjunction</a>.<a class=\"ProveItLink\" href=\"../_theorems_.ipynb#commutation\">commutation</a> theorem\n",
    "========"
   ]
  },
  {
   "cell_type": "code",
   "execution_count": 1,
   "metadata": {},
   "outputs": [],
   "source": [
    "import proveit\n",
    "context = proveit.Context('..') # the theorem's context is in the parent directory"
   ]
  },
  {
   "cell_type": "code",
   "execution_count": 2,
   "metadata": {},
   "outputs": [
    {
     "name": "stdout",
     "output_type": "stream",
     "text": [
      "Beginning proof of commutation\n",
      "Recorded 'presuming' information\n"
     ]
    },
    {
     "name": "stdout",
     "output_type": "stream",
     "text": [
      "Presuming previous theorems (applied transitively).\n"
     ]
    },
    {
     "data": {
      "text/html": [
       "<strong id=\"commutation\">commutation:</strong> <a class=\"ProveItLink\" href=\"../__pv_it/b63708f4e02ba5023721586cbb0acd87a6be6c020/expr.ipynb\"><img src=\"data:image/png;base64,iVBORw0KGgoAAAANSUhEUgAAARgAAAAVBAMAAABvSezVAAAAMFBMVEX///8QEBCIiIhmZma6urrM\n",
       "zMxUVFQiIiJERETc3Nzu7u6qqqp2dnaYmJgyMjIAAAAcRTyBAAAAAXRSTlMAQObYZgAAA+hJREFU\n",
       "SMfFVk9oFGcU/zm7m+xuZtRDEU8y2Isns2VhtWhrxENAEOJFvbQJqLQexK0Bsf6hUaqdVXTXgyiK\n",
       "OkWhEqksBNFCwS2hh8Yga4QqqGFp9NCARqJJk5Y0vve9b3aH2SxxTj74zc68t2/m971/3weElksa\n",
       "DaWlUK9LlOfzYFT44VkILskeAUmsErD9Obs947RhV73X9Zo1KF8Sdgnu8fNoCDILCwK+fc3XDsVL\n",
       "jEuByARu1nv9XbN6f+7QpjHCTcF5jmFPCDIPNUiG/+XrTr4MSahmgOgbmHbQyUrVrEAT87D0n6wx\n",
       "F8qDsJBviyHIfKtByeqb5p8tfDmgNAYprHEkFwedmgs1K7HqYpUrphvryMYeBGugt/dcCC6JrIDX\n",
       "ZLz18hZNKU2c3vkj8Xoe9Drnt0rSNmhTuZXL6LlgynEOhSBjpAQkG1tmVCvQU1yKaFEXYvtoxf1B\n",
       "r4/9VqCPkBNL1L3LjdYv2Onpc4EXRPNrM7k6MvGygMLaFhtXKorTNjF27h76gVM+zA/mKyWK+Cm/\n",
       "lVJEqdJ1eg2dtvYY5nAlVYdab3VB/TXSLS4PgN90pa5ctcbLflFAZJF4o1TLgR1ibC0guYR+bweX\n",
       "cNBvpdDaaNI93oYrKe1xm1kaaqFXOeY3+j+DXbp0S/0vA9x1kfw1XTbMxBPdiQvaBFS46cyUUv2k\n",
       "lwMc4U8S084gmY/8Vgpq1mv/2Pb0Ho5Rp8AsNyv1QDdF5eQFF7Zt/qw0e4HPgce/9MIwMFAOkqHL\n",
       "MqWKFL12nOTP2Y3IeFaSNTLfOLxYUKmRSVRUb8ZsR1e4bW/6Q9GfgDEqfWIY0aeFQJpaCN9Ig1Wa\n",
       "UR0z2EMk23010+WlqWoluQxpSPDbeBC0a+RUwpuwSu8NdnqZSkl0fOg4Na7KceSTF8ECvqiHJ8mx\n",
       "IVTHTGzKK2C/nPJb+S1fSIQSRT3HdQGjT5F8glYkUxKZyFm1sgqMLK6qrxj4VNeMmRKoWZOXcG05\n",
       "oHcKWuP6E3SzNkim32/lKH3lVudPfFp7MBYxyeTIYN6N7Xeco1wzhmJfQuI/bHUcxyYyJT29o1mF\n",
       "ZP5/F3dmu4WEzJ2mscn01yf57kWQTLvfyjIi2+fsKFry/6TEg2ExyYiLKx3oksiYETWjiohOU/ok\n",
       "MqVU3XZQm8puYGPPzrkd+OVCvUfNaxN9vIzfFZmSOYjzRM7FmRJMTo9hYrBUv1E2kgYb5TweVa/4\n",
       "FBL5w4hTPVmHRk6XsblofpfOfE8mjuyj+6tfVkdwoTr9G8kcR4gc5vWo81pBNVPtOd0iVDMNDleN\n",
       "JDf34Woej1yoo+P7Hjut0MdO9rAaf9HCB5B3ZPUlW0rz414AAAAASUVORK5CYII=\n",
       "\" style=\"display:inline;vertical-align:middle;\" /></a><br>(see <a class=\"ProveItLink\" href=\"../__pv_it/b63708f4e02ba5023721586cbb0acd87a6be6c020/dependencies.ipynb\">dependencies</a>)<br>"
      ],
      "text/plain": [
       "commutation: forall_{A in BOOLEANS, B in BOOLEANS} ((A or B) = (B or A))"
      ]
     },
     "execution_count": 2,
     "metadata": {},
     "output_type": "execute_result"
    }
   ],
   "source": [
    "%proving commutation presuming []"
   ]
  },
  {
   "cell_type": "code",
   "execution_count": null,
   "metadata": {},
   "outputs": [],
   "source": []
  }
 ],
 "metadata": {
  "kernelspec": {
   "display_name": "Python 3",
   "language": "python",
   "name": "python3"
  }
 },
 "nbformat": 4,
 "nbformat_minor": 0
}
