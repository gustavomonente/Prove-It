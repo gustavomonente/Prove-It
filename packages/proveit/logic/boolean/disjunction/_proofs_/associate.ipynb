{
 "cells": [
  {
   "cell_type": "markdown",
   "metadata": {},
   "source": [
    "Proof of <a class=\"ProveItLink\" href=\"../../../../_context_.ipynb\">proveit</a>.<a class=\"ProveItLink\" href=\"../../../_context_.ipynb\">logic</a>.<a class=\"ProveItLink\" href=\"../../_context_.ipynb\">boolean</a>.<a class=\"ProveItLink\" href=\"../_context_.ipynb\">disjunction</a>.<a class=\"ProveItLink\" href=\"../_theorems_.ipynb#associate\">associate</a> theorem\n",
    "========"
   ]
  },
  {
   "cell_type": "code",
   "execution_count": 1,
   "metadata": {},
   "outputs": [],
   "source": [
    "import proveit\n",
    "context = proveit.Context('..') # the theorem's context is in the parent directory"
   ]
  },
  {
   "cell_type": "code",
   "execution_count": 2,
   "metadata": {},
   "outputs": [
    {
     "name": "stdout",
     "output_type": "stream",
     "text": [
      "Beginning proof of associate\n",
      "Recorded 'presuming' information\n"
     ]
    },
    {
     "name": "stdout",
     "output_type": "stream",
     "text": [
      "Presuming previous theorems (applied transitively).\n"
     ]
    },
    {
     "data": {
      "text/html": [
       "<strong id=\"associate\">associate:</strong> <a class=\"ProveItLink\" href=\"../__pv_it/f3ef6799c2c6d4eb5eb4601c97445913ec8cc6000/expr.ipynb\"><img src=\"data:image/png;base64,iVBORw0KGgoAAAANSUhEUgAABEoAAAAZBAMAAADUPdaZAAAAMFBMVEX///8QEBCIiIhmZma6urrM\n",
       "zMxUVFQiIiJERETc3Nzu7u6qqqp2dnaYmJgyMjIAAAAcRTyBAAAAAXRSTlMAQObYZgAACf5JREFU\n",
       "aN7tW32MXFUVP/tmZmfex8zuH9IItToUAotRdszCgnSxsyFaY2KYLbFgQJl0rTRE0tGalrTUjkTK\n",
       "FDQ7ajI0VbsPatq1CEzcbKRJCUNbv1bRcVtIjaKj+A/80027/cRS7/fH+5juOI2wm73JvDf3nHN/\n",
       "58w755177r27AO22BzaWYaHN4xbd+Ej7IIWF5zjfW2UhSi5PM+vvH6T9l/F37adR0sC3N9qKkrYh\n",
       "5kEbo7cvtzYq1ghGev3icH8pO3scXb7TVwI8s62//uPZw1k9ww+ZNYlVgd/j72+3FSVtQ8yD9ha9\n",
       "HReEHIkCv6BGT03zcJE8gvRBgMgpPy8USZUHq+EZZiwBGF/S3DBVy9V1sD9Rl1gV2IGTXLGtKGkb\n",
       "Yu63ZIbejrucsgZfpvySGv3v5/nrj92TTHOk2AVUNJ708UKRNHmAg/ow63FkVeRcc8MULWOb0GV5\n",
       "WWJVIIUQnGpbUdI2xNxvcfpMn10ukv0qfNnkl1Tp1jh3XSyPQVyOZCB68oSPF4qkyQM8rQ9LXYVX\n",
       "Kt3NDVO0/BNfBxWsCiQn9+17qr3qtW2Iud/Yz6/3iuIghbwdzfglVXrSmFFnrDsEUgK59OlNPl4o\n",
       "ki4Pqaw2bDl+g2OZSxgmxCPv4OtdChZa45wtlR5pL0rahpj77Rq6s+C+LBYoNnJEImAnSaV/zr7A\n",
       "yePos10gdeUhtsH18UKRdHlwMuow8wzJW+VLGCa0jJJV688UrAqZp7a3GSXtQsz99j1y/Sncn1af\n",
       "yz0hz4vRrWxMzBJx9LYXBdL9D009LqdwwQtF0uUh2VCHOSfChumTJtfyJ60EwlgVnGVQHWutaydK\n",
       "7mBldUisiMiNjgz0B4j4yMeGazcEVIjbBgzxDkT5l6bhub2ZFrV99uShtd73K9iKAFtQ20yuWRjN\n",
       "CI8uBfhK0FBJj4KJKs49ZJ1jpKEzK5B6y2AtEkiCF4rE5EWWKajD4nzxcw80M0xo2aotpzBWBceQ\n",
       "gdLkCkq7eyBrLPLWNesPw9X5UEqBQ6BnNxP4SP8hfuKfAV4JEPCQd6VhrNu/2/QvsL4tI4+7a6bZ\n",
       "ymOmiRZdshscj8pgK4JsQe0D5LEM960rQqyP7jPu5a+Op0n6qr7+syhWiLhVgOclEsburXIkwQtF\n",
       "ovLSP9PqsA6ykLLgrlugmWFCy0fI1OUqWChKnDrKNXAIiR3oq9vFSbhNHfvsodvhRceNuKGUAocA\n",
       "2H0hcI9muZis+wFe9hfrHrKJfJv0Z9hRFGvHfFHCVdbZR+swJutyLUn2oeFBP5E82Oc1krQiAFq3\n",
       "hfsW5beOBnc7RKrB6z5JRyAf5kUELKPbThTpNPZ6miMJXigSk9ejhA+Lk96EyARhhnEtW0kKyelR\n",
       "YjZW0enw2P59YE9FoKa+Y0/udOGldMYJpxQ4BMDk+iDtzl5RUX8D4FMBEjo5jgyI+bcHcH280hcl\n",
       "XOW1yAqR73iHMVmXazGyyskE68TTEGloJGlFALRuC58n0LOPd4soMRvx4DzE6Tb6fB39EhqBu9hR\n",
       "x2a2/QHrsiJKdgUfgwgkLi8m14I6jO6U1ESUhBnGtZDVvKNi4ae1Hc9S5+jqyL73i2kcJUdeW5pZ\n",
       "uoYtjSYmfoAHJW9feY1O4VFCIdBDLQVpX5ngicE6BUbAHq2H3IteeMuXcQz8qu/zRolQifqRssLE\n",
       "Hc6kXakFmfNJAUQ7L+TgRlcjSSv80B5bWM1pVulmKvftY1PB0xWn/4ju1XZR7MSX0gIJb3/Ezkok\n",
       "zgtDYvLYQcZ1OV698mEmrl4dV0RJmGFcyyi+TTJ38+oVxpEtsW5I0UQz+RqOkqNLYJF7HdAjmgnn\n",
       "ufuw/GC9o6xRRJSMk5/TCWjm6/T5Nx8pwFPkhYmemNqGbg96q1dK5u1hevNIxfU5iEWJUOlklZNL\n",
       "1sFMcwvvSuWHldzAOnd+vMdDklb4oeO++fAQ2+lInJO+XUU3MKx30eWFBvsi6SYWGynDEIv3B1yB\n",
       "lEIZafAJicR4AoleBBKXxw560EC/I1LTINHy3MZlBI8SNkwgMcO4OF6ej7vM3QQL//wuFDtGEXbT\n",
       "KHHwPGk+U4AZGAArQ6e0GrZ95/XQ5WoUESVdJAr/Cr0Qe8UbJcmqMQ0JMs05DTAKcN9V3imJkEX7\n",
       "D7l6pbpqQVEiVFpFJT+wDmbCY7wrlY8puYF1/ghwvU6SVvihPbZQB4xdfBvskTMZ4dsUm2g34BjP\n",
       "sy+Cbo2868KLF9dDD4N4UyB1Hj/dt/ZJOXMInkCK51UNXB47KIu9msppw6xbv3oTKFHChkmkDZo4\n",
       "7N42nGXuplg4SpLoeyINd5dKpbSdM+vYtM40yi6bIfZwqfQoiomfkJlsNQx6KDxKMARYb/5hxPVv\n",
       "JT8/8Nvz0EFdWwPzHf/2MCOrBchzPilcJ1h1T5QoKg9byjKMdCizm3elcie7RwlR0vkuSrRVjaRY\n",
       "4YP22CJ36NWqAEw3ZIGk0x9l953hSJx3CSTkoCGIV/EqJnDYCmhu2E4v2iBQLJ5KO76A8jMtbT+N\n",
       "80JHziia0znI08wRJaXaFTAQ0yk8Smjt7MJozh8lt4F5ihwIonxQheg5f5RQ8pGXjtz7K9y9ldZa\n",
       "HqlIEZdUyWVv1JQoUVSORZRlPukQJjmFJF2p3CrerBRFpIPC584yAr/5QI6RFCt80B5bQJz26b6d\n",
       "XbtCP+1tAwk5qAdGY+y0z99WtIo2EOOnfcxRBjjkUDALyZr5BIyibJIs1oC47SjA32CHa07DNycU\n",
       "ijdKPo9g6thlaDySZpcoeucuYOkdyGkufJ8+eckX5F80OqoH8Nh4HX5e9kttAet3YPcwfQldJfLa\n",
       "6yAUkw5lJmuMpyiHV/MCm3bM82B+COwbYbFdY3xpRQC0botn/85uzbfT6dCdwBaRkINWwzEnZJ8G\n",
       "4JetoiF3s78cYG/qYQA8E674N6o2Y4vhM5Aqm19zIYHyV/RbWZRohqrRPHysrlA8UZI4C+bIFuwy\n",
       "NH6oHLsSXxbDSBF2nKmjeXGo6mzt6/8OPZAcqlL+lZLcmdsLN+Gx8OuBj/qlwBk+iHy6hu1HJnSV\n",
       "ZKEEXJp0KDOSZTxFOV7RcAtp5zcn+9YiwTVWgchjkrTCD+2xhdYy4unecjrdijcGPNuq/zsSctBb\n",
       "UJkMPKVB7YdbV7eIht1dBv0vGg1Ul8iVPGs9JT5vVn0UTy5h86qrjuffClUJQJ683NepinOEcSxm\n",
       "N5cqGEe1/RKuUm4WgtaJ2x4ecbu2Dld+ip0h8pYuHgItbCEefR/9ReNfLuMBFcEK/rvXoD+ctMvh\n",
       "5zjq5n3vMnU8/3awLAFWnqwqaOLbHrgWVpfFiGApK2+/6o0SojKsOZ6jGAwb1qy8ke28oQVxZsu8\n",
       "b8FREhTNSZhVlHjG10MAkqG49VlJablkob0nUdJS2/ie/D9OZMF3/68W3bjhv9XNdQDj64hnAAAA\n",
       "AElFTkSuQmCC\n",
       "\" style=\"display:inline;vertical-align:middle;\" /></a><br>(see <a class=\"ProveItLink\" href=\"../__pv_it/f3ef6799c2c6d4eb5eb4601c97445913ec8cc6000/dependencies.ipynb\">dependencies</a>)<br>"
      ],
      "text/plain": [
       "associate: forall_{l in Naturals, m in Naturals, n in Naturals} [forall_{A_{1}, ..A_{_a}.., A_{l}, B_{1}, ..B_{_a}.., B_{m}, C_{1}, ..C_{_a}.., C_{n} | A_{1} or ..A_{_a}.. or A_{l} or B_{1} or ..B_{_a}.. or B_{m} or C_{1} or ..C_{_a}.. or C_{n}} (A_{1} or ..A_{_a}.. or A_{l} or (B_{1} or ..B_{_a}.. or B_{m}) or C_{1} or ..C_{_a}.. or C_{n})]"
      ]
     },
     "execution_count": 2,
     "metadata": {},
     "output_type": "execute_result"
    }
   ],
   "source": [
    "%proving associate presuming []"
   ]
  },
  {
   "cell_type": "code",
   "execution_count": null,
   "metadata": {},
   "outputs": [],
   "source": []
  }
 ],
 "metadata": {
  "kernelspec": {
   "display_name": "Python 3",
   "language": "python",
   "name": "python3"
  }
 },
 "nbformat": 4,
 "nbformat_minor": 0
}
