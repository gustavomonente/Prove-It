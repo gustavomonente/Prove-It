{
 "cells": [
  {
   "cell_type": "markdown",
   "metadata": {},
   "source": [
    "Proof of <a class=\"ProveItLink\" href=\"../../../../_context_.ipynb\">proveit</a>.<a class=\"ProveItLink\" href=\"../../../_context_.ipynb\">logic</a>.<a class=\"ProveItLink\" href=\"../../_context_.ipynb\">boolean</a>.<a class=\"ProveItLink\" href=\"../_context_.ipynb\">disjunction</a>.<a class=\"ProveItLink\" href=\"../_theorems_.ipynb#rightwardCommute\">rightwardCommute</a> theorem\n",
    "========"
   ]
  },
  {
   "cell_type": "code",
   "execution_count": 1,
   "metadata": {},
   "outputs": [],
   "source": [
    "import proveit\n",
    "context = proveit.Context('..') # the theorem's context is in the parent directory"
   ]
  },
  {
   "cell_type": "code",
   "execution_count": 2,
   "metadata": {},
   "outputs": [
    {
     "name": "stdout",
     "output_type": "stream",
     "text": [
      "Beginning proof of rightwardCommute\n",
      "Recorded 'presuming' information\n"
     ]
    },
    {
     "name": "stdout",
     "output_type": "stream",
     "text": [
      "Presuming previous theorems (applied transitively).\n"
     ]
    },
    {
     "data": {
      "text/html": [
       "<strong id=\"rightwardCommute\">rightwardCommute:</strong> <a class=\"ProveItLink\" href=\"../__pv_it/98fcaa11cfabdc2c7da4a9d5a849163258915cd10/expr.ipynb\"><img src=\"data:image/png;base64,iVBORw0KGgoAAAANSUhEUgAABJMAAAAZBAMAAAB3OXIaAAAAMFBMVEX///8QEBCIiIhmZma6urrM\n",
       "zMxUVFQiIiJERETc3Nzu7u6qqqp2dnaYmJgyMjIAAAAcRTyBAAAAAXRSTlMAQObYZgAACndJREFU\n",
       "aN7tW31sHMUVf9773ruz749CSenHkSIwVSsbuTWFmOYi1KZqVeUcVEIFrU92E0JEybWpSBqa+mjB\n",
       "upRWvlIJolTEm6YibijhimUBUhAX4n65TbnGAUUqIUehf8AfTZo4Jglx0jdvZnZ3dvfqPZ2qIscj\n",
       "3Xrm7Xu/eTfvtzNvZs8AzZa7NpZgoVzqZfnGSvMg+YVxXCgAsdwClf635fFL4DvGS5xKNdY42hSV\n",
       "moaYv0Uv0J9QrTGzb3hBtQ98K+Z/Famvnlw/07X2QafszJri3Q14+OrFobVDMrO5m1Ppz6z+TlNU\n",
       "ahpi/pZWPtqtJ6QgRNesSzFr3cRy3EP7qirEr6/6RrGrO261IL+XZlWUNiT7sXIDTl5A/r0n5Hs5\n",
       "lbaxP4WmqNQ0xPwtU/zP6+ekIMzCkUy7FFezyyE5Rxw3XNqjm/GytOQXRVF3dNCHDFvRqaL04Z9A\n",
       "yr+ToZN4uV7IE2miUit6nSg3RaWmIeZv+R5fbMbOmrMSy04jhkvxNnbZLBpPSg7YtN9g12W+URR1\n",
       "RwcdiH4sraJ0IHuCs/6d1E7jZYWY9fQUUSk5uWfPY82l3U1DzN9tDd+TJLVpU/Q2fm7xXgmDnaJR\n",
       "7cg4tQO0mNzqF8WhrnbwAAb/g4aKMsy8Pe/fyShbskdkLvYW38GdKRa/3+QOrlmIeVs0Pu5fis+a\n",
       "ojH8bPXYBaFmVMxFQePFqlN7hEj5a78oDnW1gxmAVescKGdYvzP+nWxjCc0KeQBwgFNptadVQ1Rq\n",
       "FmLelihRQs9QZsFLBNePgvcw3i6qv6LMRdV+Wc1c5kJ5OV2/g9DM0fb7HSjkoHbev5PkYYeclV7n\n",
       "VLoF9Bro65uhEkEA1COUfNogONzTLVSODFSuc2uq0uDwPd0eiA5x0NWNV9mqAPRYAMmhHq2uocvL\n",
       "Oi6J8sWZA2sVrEiZexg7BTIIWhrCGQ/bxQDfFNUMjHSKiJjag2I/JSI8F8pgtn4HGiZuO3MqCqU+\n",
       "4Wm/8Dy3gvVS51lOpQho+Ows57JVPRntcod9aMMEXJWrK8lLCAzLtOcIHzO9+hvAfqrsSMNoyqXo\n",
       "lKJ6r0eYVXHU3Y3HWcq0A2C/zGb+AfoD9aw8vKzjkuglBaFFdkELuXRbVzeuH7fewFPUPO2dXWW3\n",
       "fBwhNNC1viAiYmp/jJJgI9SV94Ui1D07iOJX0t5TUSj1aUv5hee5Ffxbyvs4lRLVCF/t9H1d1Xhh\n",
       "Em6yGz954GZ4LmEEjLqSvIQA2DXreVi21Dze6AZ4kdnFMLJJ1wzqkqJ6OOcGVMVRRzdV8VEawjPR\n",
       "JDd4fQSDfcRll6SP4o9lyvtOio9NHwJ4Z42bSnj5KJhP6xJ+DucsgbLcBOM021KjiNi0BylXyUIw\n",
       "7wtFqnt10IZeaidVFEp9jlX9wvPcKjnroFKsxvZ4P8URfX4PxA8FwH5Emnx4uwEvpDsT9SV5CQEw\n",
       "ucGr/8RuuTOB7wB8jiZ+7CPkWs5dUlTXPN7LqOKoo5ur7e+DZEN4JprkBq+z7cJKl52G0X9U9ccy\n",
       "5X1zFUUfIqh8rWuBi+Pn2xaVdni/aorVIqKGNpEURcSmTccDOOYy1nOgSHWvDtixUnhaRWGpj36F\n",
       "b3ieW+00H/vlYuy2suXvLN/lxe/4WppRaeqVxZ2LV4sd4fj4I8yr5M0rP65KJJU4BA570av/lVHZ\n",
       "pX4aNDoV78CpSXedWzilqA4J9zLoEEcd3WA7ULLdZA3pGW9yN6iusbPDPW47hLpR9cc0lX2TiqIP\n",
       "T2etldNKu38hjq8FlaJfT3uujg+JA8pYmZ+On1W0R9ifSSvWc6AIdRYy7Zqs2gE7VuorqCgs9dlb\n",
       "8w1PuZX+L84TK+2GMTQPpaCVz4mTrzAqHf4IXG5cA/z12njiqTsZlZZVW0qKxKTSGHkQBkwHwi6G\n",
       "5AJ5eIyWjuDJQ0Mk2sTvrFMVNznzaxzQcM2FKMROKrFuGGIiY80WssE8i22RTe4G1SN8SFkXit0E\n",
       "GxrFH2FquTRhfxnOGyuwdq9i1CnOloZLJpVCd/Hv8zR+Bf2CqLCMShxQshO66FkWEbs2O04YM6xY\n",
       "C7kJQBULRaizkK3TcsoteANRrjAUdEb1IJu4veC9nGRcX95JPGHJYY+gUhsSUCvALk6lBH39X+Zh\n",
       "GhV0WjPGocIW7u3XQpuhSEwqtRGH/w4dENrvpFKyrJ2AKD0ZiZpYHfiu884PqZrnnSsjut9ScSFy\n",
       "sZNK1A1D1Au22UI0mGfwkGxyN6jeRjjUhWI3yqYgxR/TVLo0apvEROOvWPuwwnrsZviCAc9d3GBS\n",
       "Cd4Uix8b+/tkBaPD1+fRi+9AfPjdTq2gaMOuoYGMLdZSfp8dyUIR6ixkmUBFuXXvxYHuYllFQdma\n",
       "H5XqwHs4GT4+0732Rs4TNq//U1ApieMSTcOqYrGYjmdjVYYWTuNTcT+ENhWLP0TiPE5LZD8sc0gk\n",
       "lRgE6G/+Zdhwn7fv7fnjOWjhUa9AjLYOLEN5ynpRIIqQWiTBMfit+wRfiB1Uom4IcUK3perU4J6l\n",
       "ZFO4weosHdKrvAu7XSLzhNMfaSpdIhVFH36Cz2LK48WJmVBQ2V7nZFz9mtG0p7YZa38o/dArTiRc\n",
       "tzxRGoRHngRTtOGzpuiWr+IiwJP+z7Pv0JLVCrETWcjxOShImell0BNSJZJKPL03YCTrptJNEDtN\n",
       "b3xx8ipDkFKAz+Kn4qISl069MHXH76S6/gE3lbg4ueRoxU4l6oYQRwO2nQs1yDN64UxN4QarBwqU\n",
       "nVIXdju98BmnP9JUukQqij4gP3dm0OA1Uz7lQSV/BSPiVYKN/TzsMmiHkZB//QbhkSeBSla+zhXh\n",
       "0SBBr4MzkKzEfgwjyLdkoQIU08MAr8E2I3YCvjtukzip9BWEoQcc7VFbXIKYJc0y7W0YTwN+VmG3\n",
       "I1X4TYkCbyqa0mdqLeV9pN5nwI4Mxc2CM8XxdtEzpxLvhqiUeBVMF6jBPUtWxD3hBq9vAf1PgkqK\n",
       "3UF24mb3h6tbLnEV6RM1Qucg9hbAM4UIeB2bPttQkDAiXiXeUKwxZP1wJOHfIN4glUYg8uWs/JGJ\n",
       "mFEmAB5mTw4ORS50JXwBWkuxewyI4uQY/EEGp6zecjAHn6zaJA4qRc9AbHgLG2W07y2FFrHLlTBc\n",
       "gG3vVj8NCJAY7Op+ENht+H3PJ4AC31vmiotMaTi7G0x1dsaFiKaWTbw6VLBRiXdDVGK7LKlODe5Z\n",
       "ICN3f9wNqkNi4CVDUEOxY5sxxR/TVLjEVcT35I0/nOoaMJjB7fYMS5afD/Y3EiQWEQ9u3DCTbgAE\n",
       "Q/Y2PDrpn3qNwQPyRDvIXyUoP8jVMFcS3LSE7ZgZmccdDoljVhLZpGG3l7V82QKwbm8GD2kExlR1\n",
       "hmj9hMWs5bXD6mm3RFQPec1GJO68ZyhOq/d02+su7o/9NqceeOqjwaesc/dL4Qe5yRLU/W33815T\n",
       "X6n+Ozj7O5WOJXZ7WXupZAOQwpWnyh7SJ+Bq6LepM0RLy6zpufhBF5UYYr2SuK7uLXK6XhH++NZH\n",
       "g31VuORKHSp5jUQSfFHJYV/1AqjCXFJnf8n/4kYUFsr7l0oNlY3/5/+DCyyE8X1Qlm/M/QfsXq1F\n",
       "TtMV4AAAAABJRU5ErkJggg==\n",
       "\" style=\"display:inline;vertical-align:middle;\" /></a><br>(see <a class=\"ProveItLink\" href=\"../__pv_it/98fcaa11cfabdc2c7da4a9d5a849163258915cd10/dependencies.ipynb\">dependencies</a>)<br>"
      ],
      "text/plain": [
       "rightwardCommute: forall_{l in Naturals, m in Naturals, n in Naturals} [forall_{A_{1}, ..A_{_a}.., A_{l}, B, C_{1}, ..C_{_a}.., C_{m}, D_{1}, ..D_{_a}.., D_{n} | A_{1} or ..A_{_a}.. or A_{l} or B or C_{1} or ..C_{_a}.. or C_{m} or D_{1} or ..D_{_a}.. or D_{n}} (A_{1} or ..A_{_a}.. or A_{l} or C_{1} or ..C_{_a}.. or C_{m} or B or D_{1} or ..D_{_a}.. or D_{n})]"
      ]
     },
     "execution_count": 2,
     "metadata": {},
     "output_type": "execute_result"
    }
   ],
   "source": [
    "%proving rightwardCommute presuming []"
   ]
  },
  {
   "cell_type": "code",
   "execution_count": null,
   "metadata": {},
   "outputs": [],
   "source": []
  }
 ],
 "metadata": {
  "kernelspec": {
   "display_name": "Python 3",
   "language": "python",
   "name": "python3"
  }
 },
 "nbformat": 4,
 "nbformat_minor": 0
}
