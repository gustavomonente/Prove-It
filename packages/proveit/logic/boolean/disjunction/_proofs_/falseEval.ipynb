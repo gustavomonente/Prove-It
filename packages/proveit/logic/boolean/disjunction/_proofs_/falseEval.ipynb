{
 "cells": [
  {
   "cell_type": "markdown",
   "metadata": {},
   "source": [
    "Proof of <a class=\"ProveItLink\" href=\"../../../../_context_.ipynb\">proveit</a>.<a class=\"ProveItLink\" href=\"../../../_context_.ipynb\">logic</a>.<a class=\"ProveItLink\" href=\"../../_context_.ipynb\">boolean</a>.<a class=\"ProveItLink\" href=\"../_context_.ipynb\">disjunction</a>.<a class=\"ProveItLink\" href=\"../_theorems_.ipynb#falseEval\">falseEval</a> theorem\n",
    "========"
   ]
  },
  {
   "cell_type": "code",
   "execution_count": 1,
   "metadata": {},
   "outputs": [],
   "source": [
    "import proveit\n",
    "context = proveit.Context('..') # the theorem's context is in the parent directory"
   ]
  },
  {
   "cell_type": "code",
   "execution_count": 2,
   "metadata": {},
   "outputs": [
    {
     "name": "stdout",
     "output_type": "stream",
     "text": [
      "Beginning proof of falseEval\n",
      "Recorded 'presuming' information\n"
     ]
    },
    {
     "name": "stdout",
     "output_type": "stream",
     "text": [
      "Presuming previous theorems (applied transitively).\n"
     ]
    },
    {
     "data": {
      "text/html": [
       "<strong id=\"falseEval\">falseEval:</strong> <a class=\"ProveItLink\" href=\"../__pv_it/571bbd0663d757740377fac0303e3be403c6fe180/expr.ipynb\"><img src=\"data:image/png;base64,iVBORw0KGgoAAAANSUhEUgAAAZwAAAAZBAMAAAD3ZYXVAAAAMFBMVEX///8QEBCIiIhmZma6urrM\n",
       "zMxUVFQiIiJERETc3Nzu7u6qqqp2dnaYmJgyMjIAAAAcRTyBAAAAAXRSTlMAQObYZgAABKFJREFU\n",
       "WMPtmF+IG0Ucx7+XZC/Z3Wx6D1o5ixKuUgUfLnBioZ40IloQhG0f7pSKDVURRTCl0IBWiIiQUyTB\n",
       "h/bQh1s98coJNXgPWqgYLUJJ+7DcWaiINaA+2Ad76GmvwrXOv92dJLOb3FXEgj+YyeQ3v9mZz87M\n",
       "b36zQA95tlTDDSKJ0uGeNkXcQHLkf5yNie7ydH1yIqzCrHGcFv35Pgqnl0V/ckwkIk+ur6XWCsqD\n",
       "io2s1Wn+HMc5Q38uRuH0suhPfhGJyCVfabPhdBu36TPLQYXRUkxMlubHOc40XQjlKJxeFn2JleOJ\n",
       "Fi85nvYZmi12W7fpL/wl1XwVhpPOMpwMeXa6HoXTy6IvSdZ4IvLRTn/FTNDspW5rWW8sXJFq3gvD\n",
       "MYYYjtWcnz8a6Qp6WfQlR0Ui4o7mPW2GgCVy3day3oqtyDX5EBz8xD3baqVyONqz9bDoS7aKRIbp\n",
       "fOE7OJMMOaXY3bL+EXNNqknnwnBOcRyyTqeicXwLtV3XeJ7whqvd7eveEgn4APtI/1rZe/pjIb0K\n",
       "vZHXfpP3IPUF6V+Z5NpwLnCcB7vcxeR4PrZZerBnYa0ocX7omH/9VuZSWdbwlC+LBOQxk4M2xs+z\n",
       "EeBp1TMDfQL67/JUFMNm51OOk0RMOt2Mk2OuWW5ih4TjWcyuqXo2drptrWEy9hTryX9RN4kE7amx\n",
       "F8nMJPiw5pSuV9ZPjN27Kh8yy2E4+zhO2k1KdedPzMNcjKMh4XgWzYOqntNzubbWPXASwEDLx4nX\n",
       "1T4z0JOpv309OHqLuEXr/j1bY9ts7k7MvY9nZRxmQZ6Urah63pPyzyTujJQ4/mIjo0wO+Th6K6kO\n",
       "iTy9SdIBYOncSG6Enkasndg7hTacXSJmmyKr1HrAHXg+VkCG1dvNczIOs6C7YTvJnM6eC3F/OWcQ\n",
       "iuO5Ar3Oj3mBg9cX1R7I07/Lo4hvbsNmZ5vnCpSzI1wBFsiT37kTm/LxBmY5Tjrwh0VhAXyHUWhf\n",
       "duJY9Zg//7MI9j/DMYa9qlMi0bMndSXAmeCHpXGVZB+3RCHQ69SsWtPfL2IF43QVNsJwxgXOJvp3\n",
       "P3YjWcdkpVLJmrbuFmUcZmH8eLbqINmJc3z8tB+EsNbaa/BxMOn1vounY9cuwqxezvk4GfHeDtHI\n",
       "oSAKvt6oXnXw2bWDGMxqQ2yxZuyOTVYqHbilVCItfxY4Fh3hzbgLMxp3r6aNh7IyDrOIO5ixu3F2\n",
       "QP8DS58v7f1aOGf17EhBDt9mAkd3Qu4T7foBO1bWl23q8kLEKEr3HX2ZzM/5NNIU3srDanTddx4l\n",
       "s+RSHP0NTDteliBeeg2ftAbqJ8Fbq/eOFIKGnR9RMkPmxyo3lCGocLBZCSdRINH7kSbwJl0UJPwp\n",
       "dOKkVqFXX6E42hbsrmnDNNuCahnTl91Bew73gLdmDKcrr1YqDQmHRRRBVKFv/zO7HpyHSRinv+CE\n",
       "nFLSBaFDYmT1R91G6WIzg3fsabGAYl20lhikonR9uw5JhX6HmdrI5VobvU++4XqlD3EH9te6GaTi\n",
       "P3O5/jb0PlXb8LcCV1GSN+VwcBdu/Nc+fZTW/53tbT+iPvMvf2c79DdTEluugF8jdwAAAABJRU5E\n",
       "rkJggg==\n",
       "\" style=\"display:inline;vertical-align:middle;\" /></a><br>(see <a class=\"ProveItLink\" href=\"../__pv_it/571bbd0663d757740377fac0303e3be403c6fe180/dependencies.ipynb\">dependencies</a>)<br>"
      ],
      "text/plain": [
       "falseEval: forall_{m in Naturals} [forall_{A_{1}, ..A_{_a}.., A_{m} in {FALSE}} ((A_{1} or ..A_{_a}.. or A_{m}) = FALSE)]"
      ]
     },
     "execution_count": 2,
     "metadata": {},
     "output_type": "execute_result"
    }
   ],
   "source": [
    "%proving falseEval presuming []"
   ]
  },
  {
   "cell_type": "code",
   "execution_count": null,
   "metadata": {},
   "outputs": [],
   "source": []
  }
 ],
 "metadata": {
  "kernelspec": {
   "display_name": "Python 3",
   "language": "python",
   "name": "python3"
  }
 },
 "nbformat": 4,
 "nbformat_minor": 0
}
