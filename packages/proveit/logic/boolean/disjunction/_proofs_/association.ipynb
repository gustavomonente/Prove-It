{
 "cells": [
  {
   "cell_type": "markdown",
   "metadata": {},
   "source": [
    "Proof of <a class=\"ProveItLink\" href=\"../../../../_context_.ipynb\">proveit</a>.<a class=\"ProveItLink\" href=\"../../../_context_.ipynb\">logic</a>.<a class=\"ProveItLink\" href=\"../../_context_.ipynb\">boolean</a>.<a class=\"ProveItLink\" href=\"../_context_.ipynb\">disjunction</a>.<a class=\"ProveItLink\" href=\"../_theorems_.ipynb#association\">association</a> theorem\n",
    "========"
   ]
  },
  {
   "cell_type": "code",
   "execution_count": 1,
   "metadata": {},
   "outputs": [],
   "source": [
    "import proveit\n",
    "context = proveit.Context('..') # the theorem's context is in the parent directory"
   ]
  },
  {
   "cell_type": "code",
   "execution_count": 2,
   "metadata": {},
   "outputs": [
    {
     "name": "stdout",
     "output_type": "stream",
     "text": [
      "Beginning proof of association\n",
      "Recorded 'presuming' information\n"
     ]
    },
    {
     "name": "stdout",
     "output_type": "stream",
     "text": [
      "Presuming previous theorems (applied transitively).\n"
     ]
    },
    {
     "data": {
      "text/html": [
       "<strong id=\"association\">association:</strong> <a class=\"ProveItLink\" href=\"../__pv_it/4ecc5b41abd2ab8d24ec4480b7e01af6597dd0060/expr.ipynb\"><img src=\"data:image/png;base64,iVBORw0KGgoAAAANSUhEUgAAA+sAAAAyBAMAAADW91cAAAAAMFBMVEX///8QEBCIiIhmZma6urrM\n",
       "zMxUVFQiIiJERETc3Nzu7u6qqqp2dnaYmJgyMjIAAAAcRTyBAAAAAXRSTlMAQObYZgAADPJJREFU\n",
       "eNrtXXuMVNUd/u2dmZ2dO/cu+0dFxGKvmCA0LbtmLVDBMIRUmjbWQVOxqe1OXLelppZtaKjlIUtb\n",
       "YfFRtm1aEYs7aJNSLLoJ2SiJjVOxbdyqnSi2NkpdBZtoUtnAguwibs/7ceeceTCbUJg5CXfvnvv9\n",
       "vvv47nnfbwGoNjVMTOTgvE3PQ80kN0N/ehMTLdWzNex/KHvePgovVzuyw1eY/A89PBmyp8/jJzGr\n",
       "hlQHf5jtxGpc9qS4/0T+wpJ4vynz/rrsJO1K8b3d9Mc3KyQw4P1VJ9tX/rR8in9MdM7rTZmPPbp5\n",
       "Xv43FbTeszvvTNBmq7GvyO3Wuuw/EXvv0R9HRUaMbAvvLS0PKngV3dADsDhdPss0gMgJMJ3YmQGw\n",
       "b4bxxEaqy/OQvIpWW+5wkcqtxmVPjosi2kZ/HBW900Z8W35QENOFN6/wMI5X0R3owd/QVjZL7AxA\n",
       "9Lg8JEPcLYg9MmY6sZFq91q0WcyK+XOmG15flx2leJvYow/r8cWibozh4U68cIxyM96sZb8IvIpu\n",
       "RXlvBWWzOEhX/5hS2kVI83S0ibaYTmykehsHLeEVuumGn+2ry47EESI/SH/kW1Natb+0MKYZxUT5\n",
       "6yLxCnoTKqcXZ8tmaUIa7FLlFCGLB7BEbaYTm6gip/GvN/HslP09r3HZ7xJ7V5BtNPus7NDvQ/+2\n",
       "GhoG9OSa2Oui4BX0SYAVd5TPMiUDsTVqfcBDEh+SRrrPcGIjVX83/vX3fEaizTSEG6/LDrFRsfsA\n",
       "2f4WOlDlHOuhJUPs6Qk93FvYLsG7q3R07OSh2euAg0qzdNz5ypYBrUiyEI/X/LcUnNhI9fegcJD+\n",
       "8gc4HRZd/WN12SEi734d2aagvw1i7d20zQ2g0VRRzgS4ne0SPCzT0bit3pWBm+aXyYK6Au5U9RAP\n",
       "ibPuPWNST2yk2qgJkew2YT+oyw4NGbH7CfI0OttXoWIWpQ/M7YYnTFG/E4Mjhj+go3Fb7Zxmb0MZ\n",
       "LJuw9Gpx5yENpEZ2OZMSYqb6FGkpeHMRGzFhW/vqsnfkddmj6GaGheywEP5mrCMGPCYSwz+go1Fb\n",
       "Dc4xIVZJlpNYDa1+ZiFxItygYJIhZqqNpJCni8ren6/L3tqnV/Lo4cVbpOyPgLGeTAzH2R7Dj+lo\n",
       "/DI1jgqxSrHgYTusSvnX3niFMyuthtARe04wyRObqchg0gPMBPwuaNv+n1AFV9uybwKtS5dAMjaP\n",
       "SNmbvhEYw+5hcyYMz56hQOOXqaNHiFWKBXcFYqfAX5JvuMPJqCEJ3P/ysoJJhFio+nHUEGHqU9Zd\n",
       "tNTUXZd9mtw9wMbuTWNS9ti3STvpfow2Tw7zDcDNa+VYH+GdHhUN8DZimCbF4vk4WFJJlmYkwZJ7\n",
       "YceVMCUVyWkhaHSYvAak7CxEsJAdmZ9E9ca+LGHCs3s50y17I0x2chGHqpO9ao5zklxlRhQ92d0T\n",
       "70Ny24dtQnZg4541uJ3N8A0Sio6IOb4p0NDfwysrA4pYLJ8ErylgaTx6sn3lfWjnNlgO8QEtxF3w\n",
       "ratBYWIhkmWNnv/Y5s4UYcIzdc3G0uifYLKT3sP71cleNce5GbYrM6JxZR5EyL7DHJfI6vf/VTN6\n",
       "WUUscBHMhv6YMWSZJcRCdREsiuH+vf2ekezbcVxPdbJXzXFOUvK0UgraSo14rWmKY85/qiKWxAgq\n",
       "pa97k8P0g0HLUgyr4ZDszehVMQ8Mype9ao5zknxltVOZQE3MPxlUNOlj/hzvlxtvq4QlmoH34NdD\n",
       "k8P0mbxliE+Hi1h2f2jPnger7NJVzXFOkjOm/LIbLqxkmr3H6RTvyZ/q7V1fbU++Wo5zkrxxtWq8\n",
       "wD6q+pcl/zIuexeu4eh6wlnL3sVrya2l0CbAF48fWNlXLKgI4PXO3JyiNfnmRY4lNDIOtZcu5rIv\n",
       "Je0A6y2uWJRypoZ7f6ufh8sz1hws+1LWlvijCurfc+cvLFBh1HDcbwGvpViYDlAxjwSwu1ho4h1w\n",
       "lVkZ/53Dq0UfpHGkBmX/Ppc9Dk6ezFe4z7Tnkz1DcI0Ke/zAtfC0l41krTlYdsqBRo5neI8RcTle\n",
       "4o3w4JEDtOORDP+8yRImASFMAr1Ffk+R0H40kH1dufAgt3OwLjuW3cvjKd0H0OPZvweSr0RAnd7x\n",
       "79uRhT8GbZ49B8tOOQCGVvO6F3E5DgyFW0wO0I7HA4gMFwuTgBAmjq41FhQJxT2OG5ULDwJvb01X\n",
       "8j/ksieG8ddYY/TDnOTXvxZg2V99bWbbzC72cc/g4C+wyHSOX80RslMOpEAvG0RgLseJvhlqVjlA\n",
       "P/5kGuZmi4UJQBjTinLdIqEOVnYP3ScXHgTXvyC6dGM1KLvo0sHW2+kAnkxVpIdew7IfnAFTs7OA\n",
       "TrsOentvxbKTOX41R8hOOFC1CfPRBslAuJzIVe+GTooBiQ3h4zd8dnaGxNnCKIAmDcO+irrDdsa4\n",
       "ModELjxov0y0As4JDbtz0h5t1UzJvkmclNK5pgrZ93UDXk94jMru4Y+wEo92wygsApdMXg1CDi9V\n",
       "kDl+LUfKvo/MbL0BrRD7E5KdcKEq9/OhRhoD4J7w8ZcBriRxtjAC4L0DFfMRybp1uu2MU2SDRS88\n",
       "CCK/MnUv0XH6hsSGK3uqBn8EZqrUIxHCf6cAUKFRQoHrXMeF7FNQ49gUwIre3t4gmU7ksYKNATq0\n",
       "DmJ39fb+GIm8kzTdeI5fzxGyYw5wD7+4LUu+9SVcSIScPt9FAS3h4/ejrtcAjrOEMQAba6gY3HTv\n",
       "JZ8Lm0Nx2+/S1p5eOGrbxVxqUpO9mZaKZtnPs/gRdMfD0UI0YVI9EuUwaXj2QY4SpholbJYLi69C\n",
       "+7jH/UjI7mfJekIjLe3whYBo6fQkRtKQoWU7SrpFZI5fyxGyYw5Anfv+NJG9kZW9nP75JgHgyXv9\n",
       "+GlUjffhOEsYBfgLD33umbSOWQDkO4S1tjNGesiHBwsPIVCGlnYvIh7TGRX6KhsDyn6exY+gOR6k\n",
       "n0KiCZPqkSiHScODF+hhmlHCZrmw+Co8FSmWYlht6IBHolLg5xL3Qj8q735PDv6MDx4EeBO2Z+kc\n",
       "v8xRZSfpesSTJ7ITLseDFzEXisSb7VkK8HOh44lxSHySOAJMYQKQnAuXJnM6Jp6HP/QR2S1n3ADu\n",
       "C5CcjT9XIRce5LwX9QqPpx/R0rBP9vMsfgTN8SD9FBJNmFSPRDlMGh7cFj1MM0rYLBcWX4WrznjQ\n",
       "5SchO15PwKu+y46gYhG7FK5DVVXiu1loQnVr9O4UKkzLB+gcv8wJy950ChLbNtATY65/vrzgv4C4\n",
       "lvfFLkGb5QMUEEmFjv/1ePvKFL1gQ5gEdLndOFbFwF8WfZo9GuMZwet8DtF24Q+Q8YX76w//TI7w\n",
       "7lbndeiym++MatW+yY+gOh6kP0KgKZPmkSiDScMDHNHDdKOExXJh81UcUSekxzTZSRWJWkf2TsjM\n",
       "2ahBpGmgICdc2ll7mrVwMYJ40nwcx5nCxF53sg3HGjBri58Rup2DhguHxerN04f0paSs+W1+BMXx\n",
       "oPgjBJoyaR6JMpg0PPsaV4SFjBIWy4XNV3FAbQhGCmSXaX8lg4qQ7LHWhWYuTuDNMR4Pxe0v2HMz\n",
       "Tqpxjglz4/GBomd0M8mXTFf+llJRNhH53BRp/Ir7ERTHg+KPEGjCpHskSjNxvJhm1sJCRgmb5aLA\n",
       "V6Fygeg5WmU3rUb5UJ7sVi4fyj6Xlp0vTV3ZGUXqUN4W+j1TFBLHS/oRFMeD4o8QaMKkeyRKMzG8\n",
       "SE/plLpRwma5CPsqNC42WR0Ukb2idEHYI6CBPMeb2+fhBenifgTpeFD9EQJNmHSPRGkmjhdvpE6p\n",
       "GyVslosCX4XKBaLnWPNmqJGw7Ck6e1nCjyAcD5o/gqMJU8gjUZKJ43WpeFjYKGGxXBT4Kgpl3wJ1\n",
       "2aOjoUo+yZaoSvgRhONB80dwNGEKeSRKMjE8XwphcTwsbJSwWC7CvgrMJu+GpLr1EaXVoS7dw2za\n",
       "rYQfgTsedH8ERxOmkEeiFBPH86UQ3g1jYWGjhM1yEfJVILZL9C6dUzc66115shKBy8q2vgI/grAi\n",
       "MD8Cty/o/giOJsbykEfC5mwIeSr4UgiQfzIsbJSwWS50XwVmG5dcSm+mxmVvkCs10W5wt32chacn\n",
       "Vhf4EaQVgfkRqH0h7I9gaPyZfYFHwuZsCHkq2FIIwLt6WNgoYbFchHwVjQGZqVMWJet/xIQM7MfD\n",
       "k7M0lfIj6PYF7o/g6LNnEkshbrc5rITlInxh6UhOcimvRa3/gbLDcvdVy0i3dAr7I86eSSyFeOa2\n",
       "u0K6foh/Oa1yJafXZcfp5/LalcnTCv0IYX/E2TOJpZAnzIcrpLsOnJe0hdf6nyNkr7+sANlnFpOQ\n",
       "JoFp6yTeo8LVCXXZSZond/+PPqryJ/GjKoXL75lM2c/nPyzeGEDtpMn9w+Ln9X8jcHXtqO6yhV38\n",
       "3wj8DwhTrvv4+HTZAAAAAElFTkSuQmCC\n",
       "\" style=\"display:inline;vertical-align:middle;\" /></a><br>(see <a class=\"ProveItLink\" href=\"../__pv_it/4ecc5b41abd2ab8d24ec4480b7e01af6597dd0060/dependencies.ipynb\">dependencies</a>)<br>"
      ],
      "text/plain": [
       "association: forall_{l in Naturals, m in Naturals, n in Naturals} [forall_{A_{1} in BOOLEANS, ..A_{_a} in BOOLEANS.., A_{l} in BOOLEANS, B_{1} in BOOLEANS, ..B_{_a} in BOOLEANS.., B_{m} in BOOLEANS, C_{1} in BOOLEANS, ..C_{_a} in BOOLEANS.., C_{n} in BOOLEANS} ((A_{1} or ..A_{_a}.. or A_{l} or B_{1} or ..B_{_a}.. or B_{m} or C_{1} or ..C_{_a}.. or C_{n}) =  \\\\ (A_{1} or ..A_{_a}.. or A_{l} or (B_{1} or ..B_{_a}.. or B_{m}) or C_{1} or ..C_{_a}.. or C_{n}))]"
      ]
     },
     "execution_count": 2,
     "metadata": {},
     "output_type": "execute_result"
    }
   ],
   "source": [
    "%proving association presuming []"
   ]
  },
  {
   "cell_type": "code",
   "execution_count": null,
   "metadata": {},
   "outputs": [],
   "source": []
  }
 ],
 "metadata": {
  "kernelspec": {
   "display_name": "Python 3",
   "language": "python",
   "name": "python3"
  }
 },
 "nbformat": 4,
 "nbformat_minor": 0
}
