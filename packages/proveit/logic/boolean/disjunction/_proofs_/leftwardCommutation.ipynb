{
 "cells": [
  {
   "cell_type": "markdown",
   "metadata": {},
   "source": [
    "Proof of <a class=\"ProveItLink\" href=\"../../../../_context_.ipynb\">proveit</a>.<a class=\"ProveItLink\" href=\"../../../_context_.ipynb\">logic</a>.<a class=\"ProveItLink\" href=\"../../_context_.ipynb\">boolean</a>.<a class=\"ProveItLink\" href=\"../_context_.ipynb\">disjunction</a>.<a class=\"ProveItLink\" href=\"../_theorems_.ipynb#leftwardCommutation\">leftwardCommutation</a> theorem\n",
    "========"
   ]
  },
  {
   "cell_type": "code",
   "execution_count": 1,
   "metadata": {},
   "outputs": [],
   "source": [
    "import proveit\n",
    "context = proveit.Context('..') # the theorem's context is in the parent directory"
   ]
  },
  {
   "cell_type": "code",
   "execution_count": 2,
   "metadata": {},
   "outputs": [
    {
     "name": "stdout",
     "output_type": "stream",
     "text": [
      "Beginning proof of leftwardCommutation\n",
      "Recorded 'presuming' information\n"
     ]
    },
    {
     "name": "stdout",
     "output_type": "stream",
     "text": [
      "Presuming previous theorems (applied transitively).\n"
     ]
    },
    {
     "data": {
      "text/html": [
       "<strong id=\"leftwardCommutation\">leftwardCommutation:</strong> <a class=\"ProveItLink\" href=\"../__pv_it/988fba0a96c4dd31ed4a47805a11c6fdcb6ebcb90/expr.ipynb\"><img src=\"data:image/png;base64,iVBORw0KGgoAAAANSUhEUgAABEEAAAAyBAMAAABBttibAAAAMFBMVEX///8QEBCIiIhmZma6urrM\n",
       "zMxUVFQiIiJERETc3Nzu7u6qqqp2dnaYmJgyMjIAAAAcRTyBAAAAAXRSTlMAQObYZgAADb9JREFU\n",
       "eNrtXX+MVMUd/97b29+7d/dHpVjFPjFBaKq35uyBcoYlpmLaGBZNwaY/2IhQalSuvcZYUFm1wqm1\n",
       "d23Tili4hzaUapWzhFQSDM9i2/RqcQvY2ghyFttEk8oVjpOD4nV+vjfzdubt2+79cbl7k/D27cxn\n",
       "Pm925vtmvvPjwwHUGxrGxmyYXOE1mOphO/3IjI211E/WsOcpa3JVT8ae8hbSOEg+Uk89PR4WUphs\n",
       "1TMLwvAO+4yGFlIZ0k6lJMtTwRj2qCITdmgh2rAtz+920I+v10igwGfXjLSt/l5wir+OrWjvzqvT\n",
       "UrNX3JW0PfANqzf0BqfPrjmzqvub7EtMlTH1idBCtOFh5+59+nHCiYiSa+UPLriJAl5EN5QAFhT8\n",
       "WcT46QCR0+qkS8uQvqosP/Rj1Orn1KVRcjQjP+NYPzOGQVUtvBRaiHaQOeu8aTn6ccLxxGP4t2bN\n",
       "ijwr8eUgz8bxIno5atLFOX8WIT56HnmLp5RJO9aiy4Je6aHRk+hylbI0Sg5Yjj4ivPF/q6qGuB1a\n",
       "iCbEc84d7X6fX+B0w9Eijq6cui3Fl7Xsi4MX0a0o7pjpzyLEG6OoMU8qk97F14XyQw3c3Swuq0qj\n",
       "5IBW1GiN5/mwqnxRRkML0YRjjj08ST/KrXlp3Lm+Mk8TytPILcvFC+gHUW/+ScufRYhPoIbZtlaV\n",
       "FCGDyS3yQxND6NJnq0qjpIce7If/l+OVDk9XaCGacK9zdxldGrD2uVOaXejfo4oXDrVHglmWgBfQ\n",
       "IwDL7qjCIsQ3FyF6j6VK6uvE11/KD20u4T6kqCiNmh7O4IKO8PWfnPJNsUILUYbosHP7BLn+nAza\n",
       "0RIdeJw7OaBmu5XdEnxqjYyOjhydvQ44SMfixi+/6+DGfmXSG6biobiE0Grzr0Jp1PTEbzF4H5Il\n",
       "ruqBD3E47qB3mqGFKEPErZJ15JqHvhxE2zrpgG9CTNUnzwS4nd0SPCyS0div2FaEW+b6srjxyG1J\n",
       "TVMmrS8oHordCliTZ/RiadT0xG+J8Xch3amqiKbB0ELUP6fo3JIlgeiKtjXoxWuktZjqhBdVuX7h\n",
       "zBkZfr+Mxn6FcY4ZjpbFjX8QN3u/KunTpPO35IditwL+w+mFBA098VuaeeNHh1SFMUZDC1GG5WXZ\n",
       "QhrRLxx0LATmw5+UPU9/hrUnwz8ho5FfAcZJpwk1LG48dhFaTVXSevLWF+SHYrcie96hdxM09MRv\n",
       "OVb2tZDk+dBClKG1Vx5lUFXHW1wL2QrKLjk5GGd3DD8qo7Hd4V59kS+LE4+XQ9Cokb3u5suMWQUp\n",
       "iUylM/JDiVuxreTQu6VR0xO/JTUdMD/w30b9kH+56GmhhSjDgyB5qknU4k1DroUkvmYqsz3CVqgY\n",
       "nlWsg8Z2t9xtQh0Lj8c9fPQMZBeWG+4wilJSH/4YkB+K3YrUh+DQOwkaeuK3vDhI+Hu5p1oRNoYW\n",
       "ogzT3dv9bE0kMepaSPQbxAVIfcwvO2n1Ll3rrqEgvFES0QDvIobpltOEPB5nFll4fBNql4WPwebL\n",
       "oTkfsaWkNOpedjFW/lBswotygoWwBMLqPEMozglUnC4g/CgmYitr4g1mIaRoR+uzkLo5Jk5ICUvd\n",
       "qL53jH0A6Z6Pco6FAJsO3sMvcfqKN9E1BY5PmBL6brwR1y80IYsnmQUWFh87MdK2+nF0cxssgXi/\n",
       "lAWe3bCCz4PYQxG8ffU1INCzBMLqPEMqzqqHewk/XpxtUr/jxwrUQojv8kF9FlI3xwRaDhGWuuPC\n",
       "qpNjIZvV+ZKWXClfUqMX+bN44y+A2dAX1WbxPNSlr0jQPPYC6IjiqY/aZzephWzChKX6LKRujokT\n",
       "0ufc+6yw1qheM9CGZkMd/5uaWJJD6C1/KxM8Q230mP87uzU7d2h4ylELaULmpp4bBbeQujkmTsgK\n",
       "W+7Cynhy7ohZ07qb+qjrj9ffVgtLYxHeh58OBMbXSI/5P1vW7P7TGTq2kOzAc889WaenWjfHxAl0\n",
       "nYiFHTAVQkJz9IgsmuC5zJnu7vvqncvUyzFxQuas2AtPiVOIf9c17CCzkJW4N6U7Tf+3hazkPfKj\n",
       "1dAqwI2n9q/2PULnA3hrhT3H03X23NnuX4wbR/TPi5yFMLCG7WQWcj0ZiJgXvKwjb0zzuvddr8Gl\n",
       "RW0MtpDr2WCWHRZQ71w5d37FMD+sSM+2QKbFL5sMEDFbTdhBU7L/ON5FXaG/ACzprUIXvVD46uTE\n",
       "M8eh0DT4VK6FWUgcjDJZHUrtbSunSwNwrQh7fv918HLGiljaGGwhlAPN1fmxJcxlZJJve2faHCCl\n",
       "R4r86J8mmwvwYJLI4LIlWibT3rKbANpROxer0MEq4dc4OUMLUVpIpowX8Z9AHfae5yB9MAK2+Lo9\n",
       "vtmCV8xcRh+DLYRyAAx08c4fcRkGDHgHcg6Q0uMmRAb9srkADwYfpoyatEymmXmBAL6N/M3OKnRw\n",
       "ufBrnJzhKCNVEx9lkoP4XOMoPbeW/sqXTWwhh96cmZu5kh1a2737R9ge6D6PGONYCOVAjdXNfAHM\n",
       "ZRiNRzzDPQfI6TsLcKXll80BeDGtKDZl0TKZ5k1/JB0Hmq/SMcmHDl6lt1JO4qmOhqbh9VTh0dvp\n",
       "wghZGCoMvIkt5PAMmGbNArqevjvzwlexhZB9HjHGsRDCgbpomIsuqNUIlxG56p+eh2JA8n5v+uIr\n",
       "ZhdJPl02CqBBwrATg6RMZtslZDRpRONEbNCXDv27W5GTwE9X1NSWqWAO6UrXvaHILWQX6k2MEjxL\n",
       "LSSDTy0mn+mEYeiAFFlV3A023sQi+zxSjGshu0i3/ja0QvRVZCGEC/Xv13g8AAyAR7zpB3Cnj/Pp\n",
       "sh1wRgVPVnqOjpbJNCM/Ib0AavUGuwodXKzIWeFrU0yJdn+DtVW5Ev/Mhvbyz2SvefykVpJMKhiX\n",
       "oMOqzNic4xbSjIblhAnLuru7zXQhWcaNHTNR0jqI3tvd/RCyhy3EzcD7PHKMYyGYA1LHX++xyHl7\n",
       "woXaxpYXIimgxZv+fYC+fpxPk40B2GxLxOBFmBdYmZA3QZa6sZ7wJahCx5SXck7yilRYSBOtwybX\n",
       "hQ2gWBLwAtqYgd6lGXqpVRBmH6mVKJMKJP4SdViVh9522txCshbZaYrRPgQ+b5JmN0rJoQIUaY/R\n",
       "eDP+JPs8UoxjIZgD0PSmr0AsJMbeXls+RU0AeANHTkeFXNyL82myUUB2/tHP7S3ImHnoH/odRdoT\n",
       "ZCKknvqJpNCfblseDr1yxJOT1N15b0UdYrNm14UNoFgS8C46tRFVTWRUL7UKwOwjtZJlUgHEX5IO\n",
       "K1MB5Tt3rEcxIEMo85C1k49BH+pFsiUbfocTDwMcgU0W3edxY0QLIeEmxFMmFkK4jAy8jrlQTnzZ\n",
       "ZFFA1vakJ89C8mLSpKpsDiB9JVyUtmVMvAy/Qq84KZNpZ15HeFhuwda8H10U0b0H8OtSXMzJwylv\n",
       "RX2Xdn+7XBc2gGJJwLvopk9hN6lFL7UKwOwjtZJlUgHEX5IOK1VxVGhfv2gheKcJH0hYhKquGL0I\n",
       "bkCda/JOCxII1fhAHr2OS/rpPo8b47WQxBlI9txPS4W5/nZg3r8BcS3pjV6ILkv6KSCS96T/4VTb\n",
       "atqkqmwuYGWqE+cVMfD7js/gJ6MyZe87/oMyKmVmfVv7tVCFbgXu5wq3ijl5eMBTT0k6cc4aw9K4\n",
       "U0WxJOBd9AJS5TnQS62qM+ulVh6ZVADxl6zDes+LfKMXPGfMDDRqs8HYjZyNxmka+itivH0Im0Zb\n",
       "Gi5GEE+r03E+VTbnrjOdw3lVmMpSVqeLwxX5yl8DCzz1ZNDa/ELaHX4CKJYEvINOfkTe1V7QS62q\n",
       "M+ulVh6ZVADxl6zD2u9Fko0YzSnEPcGmQ0oLibbOV3NxgswcZbon356Ku1TRyMfmVCmmU8qqdLAd\n",
       "9qo25o55OuYEAaXyZNAOqlhi+O1DIjpzUoGUpVbVmfVSK0cmFVj8xXVYzHHyAqf7WIiq5rIQzEK0\n",
       "XFkI/Cwpulydunopg9CxavOcc6GHABshiRyUwIolhqcH0zg6flqBlKVW1Zn1Uisukwou/mI6LBbv\n",
       "PX2UPOljIbUtvU1aRRX9TmpwaVs77sODKpYYngpiObqBzG5SMlKWWlVn1kutHJlUYPEX12GxV8Nr\n",
       "laGiSh0iQyoLQZdLILhiieHpCMXR8SG6UCAhPVKrqsx6qZUjkwos/uI6LLWFJDpDC1GGxmHFKIPd\n",
       "229BcMUSwzf3iugIeSltGemRWlVj9pFacZlUYPEX12HhPTj3t7lLqmZoIerQpfBUnwb6f08FVSwx\n",
       "/BIJTQb2jCUjPVKrasw+Uisukwos/uI6rMMz4EKFp9pqhRaiDp7JDNmmwnXe06tULLnaKlexxPGz\n",
       "JTTsK0OaHb7RSa0qmINLrbhMKrD4i+mw8B4c9pA6PPVA/eHQQhS/x5ZHnU5I9XxswctjXWrFkqOt\n",
       "Aq5YcvAPSWhIzVt1NafVSa28zMGlVo5MKqD4y9FhxUy8zgueHfDwf6nShvRZ1ao7DTUqli4oaNE6\n",
       "qVVQZh+pVY3iL9SAEbuApz7y2msutBBdOC5/PSTc16hYGjIDQ8dRalWj+Av6IP7FQsXO3UtWaCG6\n",
       "8EP5Bwmr4LUqljryQZHjKLWqVfwFN4Dx54rd//B/3PUbZuR3kJ0gmuzBs4UTy4UWog/t8tcpcQox\n",
       "69l2ewvG0UIm3V8PiZkw1cP4/vWQyfcXiK6e8haynb70+C8Q/Q/DOx39pe+SAgAAAABJRU5ErkJg\n",
       "gg==\n",
       "\" style=\"display:inline;vertical-align:middle;\" /></a><br>(see <a class=\"ProveItLink\" href=\"../__pv_it/988fba0a96c4dd31ed4a47805a11c6fdcb6ebcb90/dependencies.ipynb\">dependencies</a>)<br>"
      ],
      "text/plain": [
       "leftwardCommutation: forall_{l in Naturals, m in Naturals, n in Naturals} [forall_{A_{1} in BOOLEANS, ..A_{_a} in BOOLEANS.., A_{l} in BOOLEANS, B_{1} in BOOLEANS, ..B_{_a} in BOOLEANS.., B_{m} in BOOLEANS, C in BOOLEANS, D_{1} in BOOLEANS, ..D_{_a} in BOOLEANS.., D_{n} in BOOLEANS} ((A_{1} or ..A_{_a}.. or A_{l} or B_{1} or ..B_{_a}.. or B_{m} or C or D_{1} or ..D_{_a}.. or D_{n}) =  \\\\ (A_{1} or ..A_{_a}.. or A_{l} or C or B_{1} or ..B_{_a}.. or B_{m} or D_{1} or ..D_{_a}.. or D_{n}))]"
      ]
     },
     "execution_count": 2,
     "metadata": {},
     "output_type": "execute_result"
    }
   ],
   "source": [
    "%proving leftwardCommutation presuming []"
   ]
  },
  {
   "cell_type": "code",
   "execution_count": null,
   "metadata": {},
   "outputs": [],
   "source": []
  }
 ],
 "metadata": {
  "kernelspec": {
   "display_name": "Python 3",
   "language": "python",
   "name": "python3"
  }
 },
 "nbformat": 4,
 "nbformat_minor": 0
}
