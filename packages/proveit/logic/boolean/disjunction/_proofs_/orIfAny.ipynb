{
 "cells": [
  {
   "cell_type": "markdown",
   "metadata": {},
   "source": [
    "Proof of <a class=\"ProveItLink\" href=\"../../../../_context_.ipynb\">proveit</a>.<a class=\"ProveItLink\" href=\"../../../_context_.ipynb\">logic</a>.<a class=\"ProveItLink\" href=\"../../_context_.ipynb\">boolean</a>.<a class=\"ProveItLink\" href=\"../_context_.ipynb\">disjunction</a>.<a href=\"../_theorems_.ipynb#orIfAny\" class=\"ProveItLink\">orIfAny</a> theorem\n",
    "========"
   ]
  },
  {
   "cell_type": "code",
   "execution_count": 1,
   "metadata": {},
   "outputs": [],
   "source": [
    "import proveit\n",
    "context = proveit.Context('..') # the theorem's context is in the parent directory"
   ]
  },
  {
   "cell_type": "code",
   "execution_count": 2,
   "metadata": {},
   "outputs": [
    {
     "name": "stdout",
     "output_type": "stream",
     "text": [
      "Beginning proof of orIfAny\n",
      "Recorded 'presuming' information\n"
     ]
    },
    {
     "name": "stdout",
     "output_type": "stream",
     "text": [
      "Presuming previous theorems (applied transitively).\n"
     ]
    },
    {
     "data": {
      "text/html": [
       "<strong id=\"orIfAny\">orIfAny:</strong> <a class=\"ProveItLink\" href=\"../__pv_it/b7a389ed38cd0bde6357e68a57c1bc9446c701020/expr.ipynb\"><img src=\"data:image/png;base64,iVBORw0KGgoAAAANSUhEUgAAAvIAAAAZBAMAAAChqdcXAAAAMFBMVEX///8QEBCIiIhmZma6urrM\n",
       "zMxUVFQiIiJERETc3Nzu7u6qqqp2dnaYmJgyMjIAAAAcRTyBAAAAAXRSTlMAQObYZgAAB2hJREFU\n",
       "aN7tWm1sFEUYfrt3e3d7u9fyxw8k4IqJFqP0SLUgFHuEqImGeGBSMH7QUBFDopxiWkRMq1E8JLFn\n",
       "jEhQ6EKNIohebIiSYDg0mlhR1yIRA+hh9QckBlI+CwjO1+7O7O0e3WiaSniT7m2eeeaZvWdmZ96Z\n",
       "K0DQWNCag8vxLyPcuix4pcxl3/6LWHWJOr92OD/cNup8EX8cCOR84CpDHvF28iEXg1V7xAdPLDpZ\n",
       "+/hLLnDD8jrznQCPVN38hFIgt5Eccf5bfH84kPOBqwx5VNKlqPKoBcjkmi4hivgRv6IK1JMNaQGT\n",
       "RgN0j2bctFPBT+I6E9QJJu2EInF+Nboq7YGcD1xlyGM3/fj1jAVE8NdP6CVEAU8cMXyK5iLL7kvy\n",
       "WPwVxA0NMO58fOktp75xKbo0sNzkC+J8JVLQ8oGcD1xlyONZOra6B+zR14QuUaN0VPL45oacT1EN\n",
       "KvhN57HKa3CGMoJxG/FlaTn1g/g6jeHrifOJnk2b3gq2wgauMtSh0CwgIR23oUPob7oHlcfNmpRP\n",
       "0QuoG68yeKwBjzw5yc1u4WQZ9dBZfL3foqdIbnM6m10WzPnAVYY6JGrCPerfNtSN/lZ4UDk8bOww\n",
       "fYpOAsxeyGPKKfJSWe+IihqM5cqod5Kx8AGDtSRxfr73I5VzPmiVoY4YcTCekvttKIpGqNfSxOHv\n",
       "wlzdu0g+eaD6OQHT+ktMmVNO/QdBOVEkzk+na20Q5+0qF/XfhxDuqK8rKdrbXBhXVsyHkCqRjJJF\n",
       "KAzKMbAckXSIpLxeDwdPQWfSu0hC68X6Jh6LnmAk5vdYgEfLqbcJaZWaIc5HQTJF/uz6lHSlL5Jx\n",
       "qiSOc/34e9/iklWXJwicHwF2svxj/MQp5GadDhtH2FQbdkIkOAw2ZB1JqCDftrG27jSaWyfS1TYD\n",
       "H3mm2TYuN9cuavcuiqFmpbM8VkGyprilDu97D19b4lqyzForvHyUOK+ZUZ67vdZU23tgsi+Scap0\n",
       "WfPo5i+ngl5Yu9Xdcpcz0YqcOoAdBpGWNGUfHhAK6qREu92iBXPLpkMQGQyjkpzz6DIGfdxNsSl0\n",
       "G1ISNh5G9YreRVVovEv9PBYlO4Wttnoo753sWRJtZKinReeVYiP/Rm/bBGpvCAq+SMap0rOYjeWV\n",
       "awzQdW2Lu2GLUMJ5GuAOKi1J0INfoCjSl3W7RQvm5kyHIDKY81TSmW1U9PeU4/w6n2MPG0d1oiO8\n",
       "i3A6HznOYzSTL9jqSjFaVp3kq5o92dLZBlagGSoxddb10g1pmhqpDz6gY5937xmbFBHr3GYFmdRk\n",
       "PUshkjjp+oxv3PmsRXBz4idAOkylJSm8Hz9WDRqvcTJmBdgJh+BisBeFSHIr7NtsU8q8iT2se6/G\n",
       "DFfyZM9rGSFUwen83HYeU/AboBm2OrzcW1a9E3/0EHVnhYVu5GVimlmxUGqCSvpW9OzBPv80GkaK\n",
       "iOV8N+nJCKBZLoKaJy+pXjvGvTsnBBYCJ9zfuxyotBSa8Cf+XEJpC12wE0u4wwGBQS2hkk7WRnL6\n",
       "jpztjbyA9trH6EHi59kNh+MNSmzANoIvgoNI/mpDwFACqk52+hUa6T7KViY3Dh3nt90GUUePFCpQ\n",
       "56tQf6y5EapSCOiiPmvk2Tdk4IyA2M5XkZ7cBzUg70TTdZKO59CbLucxwVotBI5WBClDpdGkcTvu\n",
       "jXOE9hDaGgqwE+e45UNgUOeppP02xzvOG/DZhcWON31sJsKutlg3Nr7xwmFQO04lLSP4Kk9eaK7L\n",
       "5kWZ+KTHbgXO+UpmTwvfhEOHruXNKWoz6orKNHU+gbtlHszE0+PsbDarq2nFxF8ioqPtsYBYzpMq\n",
       "8b5dHQbeHMtLstkX8RwuuVZ2QmBDTuDECqCcpdLIwALuR7w120K24ALsBCOQVEtgsGmASAqnBzQs\n",
       "b9b45KounBnhW8WFWeqKMUj1aSQT4s7nr4Bq6JTR/EDX4Dvxd6pIhwppARHO50MGdKbJsUQTHc9a\n",
       "SGyGEBJTDty2Pe3iVOUhPEAbwwbi8TKJrlhLQYSdoITdn+93M6jzVFI8MRO8GWQwIwYbgdXrZevE\n",
       "jHXZUdQdezXQyOlaChIF5VXohOi9aQdxOz8DfV2TOP8VcbWg7YLVBqrHLpSgjodRakHkQKcBrxdo\n",
       "Y5IGu3BjURM+zBHnBdgRpIRP2qM8w3GeSloLG7c4fxrsyIcZMdgIrP7MVuuUmM2MTXAIVvUArMT9\n",
       "+AcaovIouAuk7zjE5XzsNCgdzxPnY+jtTCzre82EmXl5JMzM4UueEebHM6GUyNHaauvwDw1Y+ufv\n",
       "J/0FqDH4uv4mduDHw1QrZxMi6Tk8w3bekhR+GcHxRtu8IN7YRgwugqvfbNJxUfJroIRmULbFLUFc\n",
       "Y56tWHiCq0ZzuJ0Vu+4yajKqenNKGyPOe8D2XRRuSbmeyes4Zlj/GvgLQNnfYbf5n9vwKXuNsMlX\n",
       "c+67eJOUiozz5pQ2NutY3vsZrLv3YLvrrAOG9W80vlHGeXNQzrsPajzu/DkXbcy86NNcis77Retw\n",
       "+3+b5P/Q93Bryz+MsYeMiZ1qVgAAAABJRU5ErkJggg==\n",
       "\" style=\"display:inline;vertical-align:middle;\" /></a><br>(see <a class=\"ProveItLink\" href=\"../__pv_it/b7a389ed38cd0bde6357e68a57c1bc9446c701020/dependencies.ipynb\">dependencies</a>)<br>"
      ],
      "text/plain": [
       "orIfAny: forall_{m in Naturals, n in Naturals} [forall_{A_{1} in BOOLEANS, ..A_{_a} in BOOLEANS.., A_{m} in BOOLEANS, B in BOOLEANS, C_{1} in BOOLEANS, ..C_{_a} in BOOLEANS.., C_{n} in BOOLEANS | B} (A_{1} or ..A_{_a}.. or A_{m} or B or C_{1} or ..C_{_a}.. or C_{n})]"
      ]
     },
     "execution_count": 2,
     "metadata": {},
     "output_type": "execute_result"
    }
   ],
   "source": [
    "%proving orIfAny presuming []"
   ]
  },
  {
   "cell_type": "code",
   "execution_count": null,
   "metadata": {},
   "outputs": [],
   "source": []
  }
 ],
 "metadata": {
  "kernelspec": {
   "display_name": "Python 3",
   "language": "python",
   "name": "python3"
  }
 },
 "nbformat": 4,
 "nbformat_minor": 0
}
