{
 "cells": [
  {
   "cell_type": "markdown",
   "metadata": {},
   "source": [
    "Proof of <a class=\"ProveItLink\" href=\"../../../../_context_.ipynb\">proveit</a>.<a class=\"ProveItLink\" href=\"../../../_context_.ipynb\">logic</a>.<a class=\"ProveItLink\" href=\"../../_context_.ipynb\">boolean</a>.<a class=\"ProveItLink\" href=\"../_context_.ipynb\">disjunction</a>.<a class=\"ProveItLink\" href=\"../_theorems_.ipynb#constructiveMultiDilemma\">constructiveMultiDilemma</a> theorem\n",
    "========"
   ]
  },
  {
   "cell_type": "code",
   "execution_count": 1,
   "metadata": {},
   "outputs": [],
   "source": [
    "import proveit\n",
    "context = proveit.Context('..') # the theorem's context is in the parent directory"
   ]
  },
  {
   "cell_type": "code",
   "execution_count": 2,
   "metadata": {},
   "outputs": [
    {
     "name": "stdout",
     "output_type": "stream",
     "text": [
      "Beginning proof of constructiveMultiDilemma\n",
      "Recorded 'presuming' information\n"
     ]
    },
    {
     "name": "stdout",
     "output_type": "stream",
     "text": [
      "Presuming previous theorems (applied transitively).\n"
     ]
    },
    {
     "data": {
      "text/html": [
       "<strong id=\"constructiveMultiDilemma\">constructiveMultiDilemma:</strong> <a class=\"ProveItLink\" href=\"../__pv_it/ed21d9db4bc927278f38247a62ecc33cfc0441fc0/expr.ipynb\"><img src=\"data:image/png;base64,iVBORw0KGgoAAAANSUhEUgAAAtcAAAAZBAMAAAAI3R+DAAAAMFBMVEX///8QEBCIiIhmZma6urrM\n",
       "zMxUVFQiIiJERETc3Nzu7u6qqqp2dnaYmJgyMjIAAAAcRTyBAAAAAXRSTlMAQObYZgAABwBJREFU\n",
       "aN7tmn+IFGUYx5+bvd2d3Zm5uz/KMisGDb3+UDdOz9QzN6TsH3HPQAsLF+3KJGpJyFLDLazWDG8j\n",
       "skPQ2xS0NtIlCRGURiyy02S7S5LUvDr9wyAQf+UPrN5fM/O+78zs7aERtL5ws/O+83nf593vPPPM\n",
       "8757ABVLZNlrcKvclDJzmTUIEb0l0k0rsfQtsasoG290AC1Pxe7HlRPBYjfgD6Ncy1rHs0iBly61\n",
       "LF5dfR+Jf56KfRCf/x4stl5CHw2FWha7AftlHVJ8eoq1kM+wBwy7F0UetlOxu/BHNlhscq2rpqNI\n",
       "Hz4sQA/37ARr6cCHXm86gcU1TPDwoJtEbOy0xHuDYjb2+oM1LTZJyMYj9z5pspa5+LDc69n4FRil\n",
       "UUDgId5ExDZ6isWPKr0gjxeLn2ZqOosg3/4NpNgdBS6w1Ce86Bn0N4OeCjzAKZqNXM7lVlYSuzGX\n",
       "e8eqZbEVouolgHlLnOwCNal5L7oT/a2hpwIPsJ+K3eFc9xcbBSK/cWunqDgVC1860bzCbUPO/oS/\n",
       "XGH6/pN4+IWKPQPi/ZXERo/Ldmp0MMmDgMfO719csW8wUD/Y2L4XZeep72xrXVPljL1sFL/RlCsA\n",
       "H6cdiUcCPOP3EJgQSdIzxttlFxU7CoqURc9rSyrD3EVNBsaS85NJ7kaNmzTVY4oHeMZoAr3JzUB/\n",
       "G1gqvZBFgGfUgLErGjYuyMAPAPuq6OjP1mFIRfNTrsHjk2jbNn8PjWeYY9q8UxZQsfUyv0yM72kp\n",
       "a9kemOKK/T2QN0R8etlFFD12LCVbml4WhnGYUBq0q7T9s/3TwLQ2fin25ACJUaWxDfYnVHjDuGy5\n",
       "LovQCvCVz1JB7ujPErEbkVLKOYCZbMYl/wxuqp242bwkdqx/Lkcf3V0ErTcEliv2JpLRgL4t4SKK\n",
       "Aj3yRB1AZqImhKgfGGs3FMA09c+lYOUAMqNKYyvoi693HlpW4Q3j0rPUPd9Lji8DPOQjjdQxgCVh\n",
       "BKfNkQuO2LF+/42MTcASN5t3tqHY3sgaFH2MaXNGKaNTNJ/R5j9pcmKr68nDNkeloZ8gilJ/XI53\n",
       "NuBhdqRgHPUVkhaZ5qzvxJ4uIDOqPDb6mOz0YxXOMHk3mTlunYFnEL8Iit8iWeoYwJIXJE6bF2Qd\n",
       "seGtXv+3x9MstWZ835GRiZEd7gsSdqKbYTxcrluipOlOiJbqOcKJrdE4lQ4hDiUzBFFCD5yWDRGA\n",
       "5aECM3tsM7ITQXIS9zVb7pUiEAVYERiVHxtnUl/zm2eswhkmmsEkau1ALpdbdxu+9+d63wbaP2jG\n",
       "Msv7P/acX9GVOwuu2HPpkmYHmm38L2AHdKOfY07D+B/vgWGF0ajexsRuRDdjwxhoTIYs2ELF1vUE\n",
       "t+tHQo9RUs7CU3cBRVCImCwpRgA7agrMYYAxEN5XgHiCem3oQ7ErAew4KjAqNzY2Dp9AyH2iaIU3\n",
       "jMsxGE+ssVgzAcnVD0qG9g+ascQK+Qmqvvj3otZcCVyxG6hAUSzgK2AfAAboB+NjmzNwAQsNp5nY\n",
       "Bp7XQmjHwWkeusGmloqVM5zYP5OtlLYDV8kSlSBISMsUp04Bls8IzHsA3SW8jA2/msu9ieOxInal\n",
       "AAsCAqPyY2Nn0pNbOZ8jFd4wvlsDhzoL9qIZVZ8tgGpB7Jp3fS11FFjPct2NvTRoB2zNbZB2S8xw\n",
       "E6wgaQr3SN4OzdAdRo8g8Wx4xJT3s6dA7CKZb4R5rSUtVwnQt7dv/jcyg+Y+O0++fpp6rR4SuxLA\n",
       "mHpi4p6UxKiScYhnJ/J7nxMlwzhRKEB3ilgb1YLKInTSWIL6K16x+Y4S6w5nb0RJYldZ6lJKNnY2\n",
       "ZW9EsRt1Fvn2UR10sm+VBMOSxK5Hb4nrZL4EUXQ4ZMXeha6CfaDAF/11pT0SE7sKsbvpBg2Zv2np\n",
       "h9yODqCNgxGaxTOO2K5xlIiiKbPOtCIYRo2zkGBlYi1eLBY3Y6/pLsD7Fu4fPGOJZa3epc+uoYnd\n",
       "jXzbyFr2FivTMg1nYH0PwFp8904x/+LE7sxC159l8n0x8tPhB/+A8Ahoz4eH48MIBkRS22CCxHx7\n",
       "vmVxkoqtomBhrBxYV4b2Eu043AU64plQkmccsTnjOHOxrdKKYLi9pF6GWOfrThghqeGqltbVZJuu\n",
       "woxFlmulPx6w8sGqhUMS+1FoyMdeKJA1rfdnMQUFW3G5LpTlAqI57ZrD74RMyZchX78ZxWNaSnJX\n",
       "yGiJqCYw3ArS2dOMC0GWmyg1XOKtoZIX+wfPWGS5VrgJP4sZeRj6b5Bzzgvrpt2es61wHyzM+zHh\n",
       "8cL6XsvLQDytJCP3y3lrsHGxMMP2sJI1p381Mw5uvcGt2iGKLZWyz1kwI97rKrrKnl2NCw1yvVyd\n",
       "2X9nX3xQsf/j/xsJ/X92amcuS/8D2MNwl2qOzjcAAAAASUVORK5CYII=\n",
       "\" style=\"display:inline;vertical-align:middle;\" /></a><br>(see <a class=\"ProveItLink\" href=\"../__pv_it/ed21d9db4bc927278f38247a62ecc33cfc0441fc0/dependencies.ipynb\">dependencies</a>)<br>"
      ],
      "text/plain": [
       "constructiveMultiDilemma: forall_{m in Naturals} [forall_{A_{1} in BOOLEANS, ..A_{_a} in BOOLEANS.., A_{m} in BOOLEANS, B_{1} in BOOLEANS, ..B_{_a} in BOOLEANS.., B_{m} in BOOLEANS | A_{1} or ..A_{_a}.. or A_{m}, A_{1} => B_{1}, ..A_{i} => B_{i}.., A_{m} => B_{m}} (B_{1} or ..B_{_a}.. or B_{m})]"
      ]
     },
     "execution_count": 2,
     "metadata": {},
     "output_type": "execute_result"
    }
   ],
   "source": [
    "%proving constructiveMultiDilemma presuming []"
   ]
  },
  {
   "cell_type": "code",
   "execution_count": null,
   "metadata": {},
   "outputs": [],
   "source": []
  }
 ],
 "metadata": {
  "kernelspec": {
   "display_name": "Python 3",
   "language": "python",
   "name": "python3"
  }
 },
 "nbformat": 4,
 "nbformat_minor": 0
}
