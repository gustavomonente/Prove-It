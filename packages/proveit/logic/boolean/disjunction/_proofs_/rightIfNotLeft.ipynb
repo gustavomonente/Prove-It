{
 "cells": [
  {
   "cell_type": "markdown",
   "metadata": {},
   "source": [
    "Proof of <a class=\"ProveItLink\" href=\"../../../../_context_.ipynb\">proveit</a>.<a class=\"ProveItLink\" href=\"../../../_context_.ipynb\">logic</a>.<a class=\"ProveItLink\" href=\"../../_context_.ipynb\">boolean</a>.<a class=\"ProveItLink\" href=\"../_context_.ipynb\">disjunction</a>.<a href=\"../_theorems_.ipynb#rightIfNotLeft\" class=\"ProveItLink\">rightIfNotLeft</a> theorem\n",
    "========"
   ]
  },
  {
   "cell_type": "code",
   "execution_count": 1,
   "metadata": {},
   "outputs": [],
   "source": [
    "import proveit\n",
    "from proveit import defaults\n",
    "from proveit._common_ import A, B\n",
    "from proveit.logic import inBool, Not, Or\n",
    "from proveit.logic.boolean.implication._theorems_ import affirmViaContradiction\n",
    "context = proveit.Context('..') # the theorem's context is in the parent directory"
   ]
  },
  {
   "cell_type": "code",
   "execution_count": 2,
   "metadata": {},
   "outputs": [
    {
     "name": "stdout",
     "output_type": "stream",
     "text": [
      "Beginning proof of rightIfNotLeft\n",
      "Recorded 'presuming' information\n",
      "Presuming proveit.logic.boolean.implication.affirmViaContradiction theorem (applied transitively).\n",
      "Presuming previous theorems (applied transitively).\n"
     ]
    },
    {
     "data": {
      "text/html": [
       "<strong id=\"rightIfNotLeft\">rightIfNotLeft:</strong> <a class=\"ProveItLink\" href=\"../__pv_it/ddf14f0b8202e6e2029e92c0c7e162442c0aa2740/expr.ipynb\"><img src=\"data:image/png;base64,iVBORw0KGgoAAAANSUhEUgAAAMAAAAAWBAMAAABklY4GAAAAMFBMVEX///8QEBCIiIhmZma6urrM\n",
       "zMxUVFQiIiJERETc3Nzu7u6qqqp2dnaYmJgyMjIAAAAcRTyBAAAAAXRSTlMAQObYZgAAAqdJREFU\n",
       "SMe1VEtoE1EUPbyZ2Mx0JroSQZBZuHBlI4HUatWI60J0oUsDKrgRgwURqTSK6KQFExdqEMSRLpSI\n",
       "EhAXBcERFWoMMnZRhfoJBjcFUaqpqSL6PjOdqSaLgHMXk/duzjvn3c+7QNhWZ5+3YTDP/D6QNFN4\n",
       "ztZzodx9DSA1UaIrJRcGf+QXIH9FzAK0ShgCZBHQ56FXy+UroWQougq4cRJomeZIKAIrM4gcp/k5\n",
       "BOS5I/8XQC4MJv/xLV2v2BHl7fYfmT7Pcr8LKm9V/Zvw6x8aw6ImL4FHwvduY/9WweuxvE95Kx/l\n",
       "nnd50FeEupr+9oA4bD9Bi47bj7fBsK/d54gk8NCC+iDhEE2ZTQcF1B0O2CnHQ/nGeZidZiL0qprT\n",
       "w/fVYao+ftWCYWh3uOcYsB14PVkGIag6QQHtZhzraX9nPJRvjIfbAhMwKKi+l3etYbJ0UTOMoWf8\n",
       "lk2QOchx1nFEflMMCuyJ5thaKrqoQPczHu8Z4CjLZP4g269Avzs3jMQ6ng55fvocEOMtLW36uKwG\n",
       "GSkLLYXLHso3zuM9g0iLre5l2XcWfVDjIgLpEk9DHSSLCQ4mGAjWQK+QL1BzGPBQ1KZM06wLHm4x\n",
       "+gx2jvF+NVg+GrWCFTlhmmdYDQgns6H8xD56zqACthEQuDs49QN4omY8lBeY4OGRfF5IHB4X12EO\n",
       "ycL1NAXwCDSJC1cgL9KQRQR2PCCwBUoTuCWlPdSSgOBpY0MU6uApF7C1GkoUaOGiDY3BiYaa7QvI\n",
       "tKNoCbUZuhYoZcwVEDxt5kYLSuEUorRt9ZHGBQe7K9poInmW/sXCfPVi86dAkQs5lL47rIHgoiJr\n",
       "+R9Fl6ezbaA1ELY0YAmtgX+RZejA++rtdlL1FttPyE74yW4FdHQn4PynESx1feIP5pzA7yyGen8A\n",
       "AAAASUVORK5CYII=\n",
       "\" style=\"display:inline;vertical-align:middle;\" /></a><br>(see <a class=\"ProveItLink\" href=\"../__pv_it/ddf14f0b8202e6e2029e92c0c7e162442c0aa2740/dependencies.ipynb\">dependencies</a>)<br>"
      ],
      "text/plain": [
       "rightIfNotLeft: forall_{A in BOOLEANS, B in BOOLEANS | A or B, [not](A)} B"
      ]
     },
     "execution_count": 2,
     "metadata": {},
     "output_type": "execute_result"
    }
   ],
   "source": [
    "%proving rightIfNotLeft presuming [affirmViaContradiction]"
   ]
  },
  {
   "cell_type": "code",
   "execution_count": 3,
   "metadata": {},
   "outputs": [
    {
     "data": {
      "text/html": [
       "<strong id=\"defaults.assumptions\">defaults.assumptions:</strong> <a class=\"ProveItLink\" href=\"../__pv_it/79b4c05114f99e1361ac23e86bae3160114e9f0b0/expr.ipynb\"><img src=\"data:image/png;base64,iVBORw0KGgoAAAANSUhEUgAAARMAAAAUBAMAAABc9cSHAAAAMFBMVEX///9UVFTMzMx2dna6uroQ\n",
       "EBCqqqqIiIgiIiJmZmYyMjJERETu7u6YmJjc3NwAAAC+aOQFAAAAAXRSTlMAQObYZgAAA3dJREFU\n",
       "SMfNVk1oE0EU/jaJ+d3EIB6sPzRFRFGkAcXSgxCQQoUWK3go9pKTUCy6eFIUkiotEQTbi9iDNJce\n",
       "lGL3UKXQalaw/uXQSg+CUq0XERVsRa1W2zg/uzs728T02Ae7OzP7vnnfm/fmzQCxaawDOUNfRd7e\n",
       "K/8K9IwvtW+2ei9LNf3jKUnhfEdhqNsx5Mm7Ji+DKWMH0dqFgW2jUOZI+y4fGnGphD1a8bm9YB1A\n",
       "6JuskN+tTtxy6M8zQqydqIQpYwcbdGAwoRJPon2c3Igha0R804GEbrm8DPh+ywp6K85FRPf1X/pW\n",
       "KIuoVglTxg7qib/H+tAABOfYwJNB/sWbXC5vUvGnLSqBFTLJoqxAqJwSVNTOFWY/Tl5Bw40RYtux\n",
       "JUMG3mmYBD7ygekMD+u+S2JVvC0WlUgbMHlNViBUDhaFt4Hv7EvDfdSNcYhlR8g94ke7gXAKF1jf\n",
       "Z5xleaEOOwLUXJcwOxvj8HQbsoLe6ru8yZ6wxb/Mvp3keejCOMSy45AFYM92wNuHB6z/GPUswMqc\n",
       "oNJeOmHHc8ersTRkBb3p+g/bQzXl4bEIkiDpLoxDLDuOnbcwe7GXLmsevWwgha8sfSPOtPXOJkU8\n",
       "1eOQFUiADs/Y3iLGMzSgQUm5MAjlqCQddoCbdOgKT6lJkmH+LJjnnpqBWubLrjtErLSl1ux4IpOW\n",
       "FchPqsOlbqD/D1+eLF64MVxicYcdU97zlAr8JL/mORUf2d5s/s/OVYGuiHgio8kKlAriZocsxEne\n",
       "uoFDboygYtsRVEhKIbDIqLAAEfLBNlZvJCrxsCgrqE3JCoSKAnNeP3l6ePMTsm6MoGLbEVRoWVHI\n",
       "7vNlWdrG0la1DGnSqsyIsuLhARAKdFWiZjJ9EGU0sl9zY2wqwo6gQstKvc7SthG8tkRYiTKzmBX+\n",
       "pLcxjinqd5h40jQBWSG/Ewf6oS5RK3QhCnxvebbwDWxhpuyAJCw7DAPznBgiC9JBIKEkmsmBWBqG\n",
       "v/CLpfajUUM6DoOkSCkj5MS6b6ItBes4zBlQC0sGTpeucoXbfNNbmKCocradnCg3W+mhSZM7nLAK\n",
       "vy1HxnLSGdvlLg0uBb+7in1x9btW3whWYYg8s4/DipKsctHwVruJJNeGabDLdCVRtSqWnlb5X26C\n",
       "Mhh6SUDxvzNFqzld7Q4YXRsmQvNkfVwo3wL/AH1II/A7mgLSAAAAAElFTkSuQmCC\n",
       "\" style=\"display:inline;vertical-align:middle;\" /></a><br>"
      ],
      "text/plain": [
       "defaults.assumptions: (A in BOOLEANS, B in BOOLEANS, A or B, [not](A), [not](B))"
      ]
     },
     "execution_count": 3,
     "metadata": {},
     "output_type": "execute_result"
    }
   ],
   "source": [
    "defaults.assumptions = [inBool(A), inBool(B), Or(A, B), Not(A), Not(B)]"
   ]
  },
  {
   "cell_type": "code",
   "execution_count": 4,
   "metadata": {},
   "outputs": [
    {
     "data": {
      "text/html": [
       "<strong id=\"AorB\">AorB:</strong> <a class=\"ProveItLink\" href=\"../__pv_it/6be0ca65fe4dbca58dfc1a28df036ccc656fb6d20/expr.ipynb\"><img src=\"data:image/png;base64,iVBORw0KGgoAAAANSUhEUgAAADcAAAAPBAMAAACy3Eq1AAAAMFBMVEX///92dnYiIiIQEBBERERU\n",
       "VFS6urqIiIjc3NxmZmaqqqru7u6YmJgyMjLMzMwAAADiRdoGAAAAAXRSTlMAQObYZgAAAQVJREFU\n",
       "GNNjYACBtwyogCf+68wQNyjnPojgAzMfgElmBwaG+RAmz/0NQJIVxOEpAIu8P8DAkD8BzNw1vwGk\n",
       "MwBIMG0Ai9QDBc5D1B2oTwBRN4A4E2KPMwMDtxFYHduG9QdA9Eog9oBIfmVgeBQNZm1jeA82gQlo\n",
       "tANYhO/rmRItiLIEhn6w3ewFDKxg8xnYfzAwbA4AK4ucGQ/WwK3AsBeinMUAqOAX2Eqgty6AxWYx\n",
       "SEEk+YG62L+DWAuAthmAxXoZFBjg3mT9BmRwACV5P0BMewPxGtib70FWNYFEf0AcGQQJAobLQMtM\n",
       "gOwt/28zcPl/ggTVTYhc7P/IqS4L0CKDoRuVCwDjpEGwITo9cgAAAABJRU5ErkJggg==\n",
       "\" style=\"display:inline;vertical-align:middle;\" /></a><br>"
      ],
      "text/plain": [
       "AorB: A or B"
      ]
     },
     "execution_count": 4,
     "metadata": {},
     "output_type": "execute_result"
    }
   ],
   "source": [
    "AorB = Or(A, B)"
   ]
  },
  {
   "cell_type": "code",
   "execution_count": 5,
   "metadata": {},
   "outputs": [
    {
     "data": {
      "text/html": [
       "<span style=\"font-size:20px;\"><a class=\"ProveItLink\" href=\"../__pv_it/93187714908768be9cdd77583dda081ba13062830/expr.ipynb\"><img src=\"data:image/png;base64,iVBORw0KGgoAAAANSUhEUgAAALIAAAAVBAMAAAAQvakNAAAAMFBMVEX///+IiIi6urrc3NxERETM\n",
       "zMwQEBCqqqpUVFQiIiJ2dnYyMjLu7u5mZmaYmJgAAABN0h6tAAAAAXRSTlMAQObYZgAAAodJREFU\n",
       "OMu1VU1oE0EUfpu47ma7rjl4FJqTIETNTUXBVYvgKTl4qIgmiJfQSw7iyWKwvYiWRoRK/IEcBE9C\n",
       "QRBRS1cpeiiinqyH2JwVamwFI1HjezOzM7MxdS/1wb6deW++b9+8fW8GALyPsNFyejtp9wlsvOwo\n",
       "oPLapKY7zckjEacxM9ItX9YMp/rQAzAk5iyqLaScGs03+wDLhciSITO98Lql5vMMx4Z84QAMwdoh\n",
       "KWcuIsWet5ElmxIto+CrEOcD1DbbZhrWwaB8/hllHs4BfOEA73j9tmC2Kor51XKOYq6iSgXQh1Hi\n",
       "jq9FmY+hrcwA5uFAxuxkFXNrOEOvh/js4haF0bNvrEaZOwAnrzHXYqCysXNUpjERXGI5H8fnKDcp\n",
       "jCZZ6zeRlihz9BvNzsq2m9w1ofJc7p2ViBdQZBtP4WK+EQ2jJSNjfg0L7gKFZWByXlaZz9f+oLPS\n",
       "CGcZOMR+lpEGO8PLUmHgQx3lFm0Nkr/IMAdw4gZjweiN7yySsacoghn83WGVTjWn2TfdGiyKL0uM\n",
       "kH34jDaXvtHYvi7aZSt+26BtQFKPGXw7TDOW7ywbvYf73KQwGjNuZ4zGj4ndF6VprzJ/SWeuDolJ\n",
       "BTPMPQegBrKcBUYyW/iaCfPMaoNKs8ijfReJ+RMfJyuiudB8RpSwhpHMe0WvstpgzI9wv+d4uaUq\n",
       "srsbzoMqvKEk7CfKNZ7xK6IsBcbtyhMDksSVz2n1fLU3tTQiGN3JbORESt0BWOg9Ayv/g3fyHF8n\n",
       "MXXZLG6+G8D53t1Ip2iSuMe7O5SLff6DfXMr+PsU5cylmLO2EeN3YB1mr/1voJuOYX4+wMbOZ4i5\n",
       "U7y4+6M16E5hbWr9n3vwD2efupyB3Ae2AAAAAElFTkSuQmCC\n",
       "\" style=\"display:inline;vertical-align:middle;\" /></a> <a class=\"ProveItLink\" href=\"../__pv_it/8bb39efb6824535f4283a2553fe63843be80c4d40/proof.ipynb\" style=\"text-decoration: none\">&#x22A2;&nbsp;</a><a class=\"ProveItLink\" href=\"../../../../__pv_it/4d98b438710c5ada9ffa4646bb123a7d0e69ec000/expr.ipynb\"><img src=\"data:image/png;base64,iVBORw0KGgoAAAANSUhEUgAAABAAAAAOBAMAAADUAYG5AAAALVBMVEX///8yMjKqqqoiIiLu7u7c\n",
       "3NyIiIjMzMwQEBC6urpERERmZmZUVFSYmJgAAACsPVCVAAAAAXRSTlMAQObYZgAAAGxJREFUCNdj\n",
       "YGC48+70nlUTGICgi4GB+zmQZn/LwMD5Gshge8rAwPsMyOBqYGDwMAEy+A4wsNs4ABl1Z68tVgBp\n",
       "ygtgYOkBMVaAOCChNyBGAsQYhnMTIMawvwJyGIHGzFjCwMAj92b3qUUMDAAXABxvZ4rl5AAAAABJ\n",
       "RU5ErkJggg==\n",
       "\" style=\"display:inline;vertical-align:middle;\" /></a></span>"
      ],
      "text/plain": [
       "{B in BOOLEANS, A or B, [not](A)} |- B"
      ]
     },
     "execution_count": 5,
     "metadata": {},
     "output_type": "execute_result"
    }
   ],
   "source": [
    "AorB.affirmViaContradiction(B)"
   ]
  },
  {
   "cell_type": "code",
   "execution_count": 6,
   "metadata": {},
   "outputs": [
    {
     "data": {
      "text/html": [
       "<table><tr><th>&nbsp;</th><th>step type</th><th>requirements</th><th>statement</th></tr>\n",
       "<tr><td><a name=\"-0x5b242dce89990f45_step0\">0</a></td><td>generalizaton</td><td><a href=\"#-0x5b242dce89990f45_step1\">1</a></td><td><span style=\"font-size:20px;\"> <a class=\"ProveItLink\" href=\"../__pv_it/1d4a02ac24b05ca4fe7fdc9cc39a7cc9b1265e850/proof.ipynb\" style=\"text-decoration: none\">&#x22A2;&nbsp;</a><a class=\"ProveItLink\" href=\"../__pv_it/ddf14f0b8202e6e2029e92c0c7e162442c0aa2740/expr.ipynb\"><img src=\"data:image/png;base64,iVBORw0KGgoAAAANSUhEUgAAAMAAAAAWBAMAAABklY4GAAAAMFBMVEX///8QEBCIiIhmZma6urrM\n",
       "zMxUVFQiIiJERETc3Nzu7u6qqqp2dnaYmJgyMjIAAAAcRTyBAAAAAXRSTlMAQObYZgAAAqdJREFU\n",
       "SMe1VEtoE1EUPbyZ2Mx0JroSQZBZuHBlI4HUatWI60J0oUsDKrgRgwURqTSK6KQFExdqEMSRLpSI\n",
       "EhAXBcERFWoMMnZRhfoJBjcFUaqpqSL6PjOdqSaLgHMXk/duzjvn3c+7QNhWZ5+3YTDP/D6QNFN4\n",
       "ztZzodx9DSA1UaIrJRcGf+QXIH9FzAK0ShgCZBHQ56FXy+UroWQougq4cRJomeZIKAIrM4gcp/k5\n",
       "BOS5I/8XQC4MJv/xLV2v2BHl7fYfmT7Pcr8LKm9V/Zvw6x8aw6ImL4FHwvduY/9WweuxvE95Kx/l\n",
       "nnd50FeEupr+9oA4bD9Bi47bj7fBsK/d54gk8NCC+iDhEE2ZTQcF1B0O2CnHQ/nGeZidZiL0qprT\n",
       "w/fVYao+ftWCYWh3uOcYsB14PVkGIag6QQHtZhzraX9nPJRvjIfbAhMwKKi+l3etYbJ0UTOMoWf8\n",
       "lk2QOchx1nFEflMMCuyJ5thaKrqoQPczHu8Z4CjLZP4g269Avzs3jMQ6ng55fvocEOMtLW36uKwG\n",
       "GSkLLYXLHso3zuM9g0iLre5l2XcWfVDjIgLpEk9DHSSLCQ4mGAjWQK+QL1BzGPBQ1KZM06wLHm4x\n",
       "+gx2jvF+NVg+GrWCFTlhmmdYDQgns6H8xD56zqACthEQuDs49QN4omY8lBeY4OGRfF5IHB4X12EO\n",
       "ycL1NAXwCDSJC1cgL9KQRQR2PCCwBUoTuCWlPdSSgOBpY0MU6uApF7C1GkoUaOGiDY3BiYaa7QvI\n",
       "tKNoCbUZuhYoZcwVEDxt5kYLSuEUorRt9ZHGBQe7K9poInmW/sXCfPVi86dAkQs5lL47rIHgoiJr\n",
       "+R9Fl6ezbaA1ELY0YAmtgX+RZejA++rtdlL1FttPyE74yW4FdHQn4PynESx1feIP5pzA7yyGen8A\n",
       "AAAASUVORK5CYII=\n",
       "\" style=\"display:inline;vertical-align:middle;\" /></a></span></td></tr>\n",
       "<tr><td><a name=\"-0x5b242dce89990f45_step1\">1</a></td><td>instantiation</td><td><a href=\"#-0x5b242dce89990f45_step2\">2</a>, <a href=\"#-0x5b242dce89990f45_step3\">3</a>, <a href=\"#-0x5b242dce89990f45_step4\">4</a></td><td><span style=\"font-size:20px;\"><a class=\"ProveItLink\" href=\"../__pv_it/93187714908768be9cdd77583dda081ba13062830/expr.ipynb\"><img src=\"data:image/png;base64,iVBORw0KGgoAAAANSUhEUgAAALIAAAAVBAMAAAAQvakNAAAAMFBMVEX///+IiIi6urrc3NxERETM\n",
       "zMwQEBCqqqpUVFQiIiJ2dnYyMjLu7u5mZmaYmJgAAABN0h6tAAAAAXRSTlMAQObYZgAAAodJREFU\n",
       "OMu1VU1oE0EUfpu47ma7rjl4FJqTIETNTUXBVYvgKTl4qIgmiJfQSw7iyWKwvYiWRoRK/IEcBE9C\n",
       "QRBRS1cpeiiinqyH2JwVamwFI1HjezOzM7MxdS/1wb6deW++b9+8fW8GALyPsNFyejtp9wlsvOwo\n",
       "oPLapKY7zckjEacxM9ItX9YMp/rQAzAk5iyqLaScGs03+wDLhciSITO98Lql5vMMx4Z84QAMwdoh\n",
       "KWcuIsWet5ElmxIto+CrEOcD1DbbZhrWwaB8/hllHs4BfOEA73j9tmC2Kor51XKOYq6iSgXQh1Hi\n",
       "jq9FmY+hrcwA5uFAxuxkFXNrOEOvh/js4haF0bNvrEaZOwAnrzHXYqCysXNUpjERXGI5H8fnKDcp\n",
       "jCZZ6zeRlihz9BvNzsq2m9w1ofJc7p2ViBdQZBtP4WK+EQ2jJSNjfg0L7gKFZWByXlaZz9f+oLPS\n",
       "CGcZOMR+lpEGO8PLUmHgQx3lFm0Nkr/IMAdw4gZjweiN7yySsacoghn83WGVTjWn2TfdGiyKL0uM\n",
       "kH34jDaXvtHYvi7aZSt+26BtQFKPGXw7TDOW7ywbvYf73KQwGjNuZ4zGj4ndF6VprzJ/SWeuDolJ\n",
       "BTPMPQegBrKcBUYyW/iaCfPMaoNKs8ijfReJ+RMfJyuiudB8RpSwhpHMe0WvstpgzI9wv+d4uaUq\n",
       "srsbzoMqvKEk7CfKNZ7xK6IsBcbtyhMDksSVz2n1fLU3tTQiGN3JbORESt0BWOg9Ayv/g3fyHF8n\n",
       "MXXZLG6+G8D53t1Ip2iSuMe7O5SLff6DfXMr+PsU5cylmLO2EeN3YB1mr/1voJuOYX4+wMbOZ4i5\n",
       "U7y4+6M16E5hbWr9n3vwD2efupyB3Ae2AAAAAElFTkSuQmCC\n",
       "\" style=\"display:inline;vertical-align:middle;\" /></a> <a class=\"ProveItLink\" href=\"../__pv_it/8bb39efb6824535f4283a2553fe63843be80c4d40/proof.ipynb\" style=\"text-decoration: none\">&#x22A2;&nbsp;</a><a class=\"ProveItLink\" href=\"../../../../__pv_it/4d98b438710c5ada9ffa4646bb123a7d0e69ec000/expr.ipynb\"><img src=\"data:image/png;base64,iVBORw0KGgoAAAANSUhEUgAAABAAAAAOBAMAAADUAYG5AAAALVBMVEX///8yMjKqqqoiIiLu7u7c\n",
       "3NyIiIjMzMwQEBC6urpERERmZmZUVFSYmJgAAACsPVCVAAAAAXRSTlMAQObYZgAAAGxJREFUCNdj\n",
       "YGC48+70nlUTGICgi4GB+zmQZn/LwMD5Gshge8rAwPsMyOBqYGDwMAEy+A4wsNs4ABl1Z68tVgBp\n",
       "ygtgYOkBMVaAOCChNyBGAsQYhnMTIMawvwJyGIHGzFjCwMAj92b3qUUMDAAXABxvZ4rl5AAAAABJ\n",
       "RU5ErkJggg==\n",
       "\" style=\"display:inline;vertical-align:middle;\" /></a></span></td></tr>\n",
       "<tr><td>&nbsp;</td><td colspan=4 style=\"text-align:left\"><span style=\"font-size:20px;\"><a class=\"ProveItLink\" href=\"../../../../__pv_it/d3792d0d8642fdf1cd2a3a9b32c673ee13653de00/expr.ipynb\"><img src=\"data:image/png;base64,iVBORw0KGgoAAAANSUhEUgAAAA8AAAAOBAMAAAACpFvcAAAALVBMVEX///8iIiIQEBBERERUVFS6\n",
       "urqIiIjc3NxmZmaqqqru7u6YmJgyMjLMzMwAAACK9jtgAAAAAXRSTlMAQObYZgAAAFtJREFUCNdj\n",
       "YACBOwxQcA5Kc59bAGGs7CuAMDbkBYBp1gXzNoAZSxnuJYAZAQx1DSCa16PDzwCshIGB6QCIMYGB\n",
       "gVEBSLMDGTwPgIxCIGZ+zsCw+N0pBk67hw0AfpEVEQi8t+wAAAAASUVORK5CYII=\n",
       "\" style=\"display:inline;vertical-align:middle;\" /></a> : <a class=\"ProveItLink\" href=\"../../../../__pv_it/4d98b438710c5ada9ffa4646bb123a7d0e69ec000/expr.ipynb\"><img src=\"data:image/png;base64,iVBORw0KGgoAAAANSUhEUgAAABAAAAAOBAMAAADUAYG5AAAALVBMVEX///8yMjKqqqoiIiLu7u7c\n",
       "3NyIiIjMzMwQEBC6urpERERmZmZUVFSYmJgAAACsPVCVAAAAAXRSTlMAQObYZgAAAGxJREFUCNdj\n",
       "YGC48+70nlUTGICgi4GB+zmQZn/LwMD5Gshge8rAwPsMyOBqYGDwMAEy+A4wsNs4ABl1Z68tVgBp\n",
       "ygtgYOkBMVaAOCChNyBGAsQYhnMTIMawvwJyGIHGzFjCwMAj92b3qUUMDAAXABxvZ4rl5AAAAABJ\n",
       "RU5ErkJggg==\n",
       "\" style=\"display:inline;vertical-align:middle;\" /></a></span></td></tr><tr><td><a name=\"-0x5b242dce89990f45_step2\">2</a></td><td>theorem</td><td></td><td><span style=\"font-size:20px;\"> <a class=\"ProveItLink\" href=\"../../implication/_proofs_/affirmViaContradiction.ipynb\" style=\"text-decoration: none\">&#x22A2;&nbsp;</a><a class=\"ProveItLink\" href=\"../../implication/__pv_it/97a8bf4c7551332d8c649c36d3a3509d194aab660/expr.ipynb\"><img src=\"data:image/png;base64,iVBORw0KGgoAAAANSUhEUgAAAJkAAAAWBAMAAAAhlCOEAAAAMFBMVEX///8QEBCIiIhmZma6urrM\n",
       "zMxUVFQiIiJERETc3Nzu7u6qqqp2dnaYmJgyMjIAAAAcRTyBAAAAAXRSTlMAQObYZgAAAidJREFU\n",
       "OMutlE9o1EAUxj832W6SZqsHD55kwIso0oUVBFG6IIiXwuLBk+hCrVcLvYhUWDxNsXRzUYsgDVZQ\n",
       "IkrBP+BBXBCh1h5yV7G4J3upB6VVEH1vZk0mi12wZGAyf/K9X2a+vBkg17LKj495kM5RfcedtTxo\n",
       "61TnqLrNHGDl9RAYouov5kB7OBIQcjmKbuWx0Xi4Rs9NKaf6ylxzUN9KZYevYmrGgWk1nu4V1HTT\n",
       "TiacAE+3ot3DeUHNCXgqS8rfum5+7kxqH/W/GQiSiE81WIGJaJifnq9QU0KBl4iFX2zl6+MQ7TvP\n",
       "DNrZJMAbieE1TFqaC8Wx6iUe+XFJjZcnaV3Xb4cQwn9kaMeTCP8+ff2L6r7spdnADt6iu3pGwYXk\n",
       "XVMRYvStoZ1IIk47NHPI3H5KI29Ku5T7F9R7HOkeM1HdW0+1bkprWNR/jiUp5ezuLM0l2tBX7j1R\n",
       "+vcYhlfRa7NupFq7CZ/DyYbFAulP6fDC4QyNM9b5wb2d/Ge9zkorLF6W8hr7VjBo2vYB4PGxpZ/6\n",
       "bLP+YmjQHvxew2BrgxdT5nkrxHxd/3GiWSmt2PxLOwr3O3AS+6pUxsKsb9kySmuM8UbR2v5KSvMm\n",
       "ujSb8oiS6AO8KIruCvShOZtwW1fhkJnlqc5sbGivdI9Xq4m5jRjKL9zkhJFyj5zpdyb3k289uXnw\n",
       "H7crgv+/FTTNycwNxtu9YzTNzsQvbPvGqujmhTl3oG/EH4NyiW+J0iaOAAAAAElFTkSuQmCC\n",
       "\" style=\"display:inline;vertical-align:middle;\" /></a></span></td></tr>\n",
       "<tr><td>&nbsp;</td><td colspan=4 style-\"text-align:left\"><a class=\"ProveItLink\" href=\"../../implication/_proofs_/affirmViaContradiction.ipynb\">proveit.logic.boolean.implication.affirmViaContradiction</a></td></tr><tr><td><a name=\"-0x5b242dce89990f45_step3\">3</a></td><td>assumption</td><td></td><td><span style=\"font-size:20px;\"><a class=\"ProveItLink\" href=\"../__pv_it/8115aeb0c61b3dc8bca0b96e5233210292f849320/expr.ipynb\"><img src=\"data:image/png;base64,iVBORw0KGgoAAAANSUhEUgAAAEsAAAAVBAMAAAD85A5eAAAAMFBMVEX///+IiIi6urrc3NxERETM\n",
       "zMwQEBCqqqpUVFQiIiJ2dnYyMjLu7u5mZmaYmJgAAABN0h6tAAAAAXRSTlMAQObYZgAAAUlJREFU\n",
       "KM9jYGDgu8eAD7BePACieHYx4AdMqSCS7wOIfPG/94aLAoq0ZIr/thkgodsgHtcEsGAKAwPvV1Rj\n",
       "NgTy+IActBKhjPUf0PS/qMoc9BhEWVCVMX4GWv8RLMvnOXM2TFk5mjKWBAaGY3PA5joeQJi26Aiq\n",
       "Mv4GBtYZYPnTBxCWMk1tBdLLQByODSAyvu+hZwFYshnhNrX530A+fQ/ilAWASHkDBp4MiCSyF9a9\n",
       "AtLcFxgYQiaDhdxASkHGsWbvBgKYMhamB0BGpwADgxrYtB8gZUAeAzOKaSwMDUDTGkBuc4AGG0M/\n",
       "OBYSkJVxMGyAug3sU1CwsX4BS15EMY1vAdSnYGXcQDPUfMCSnAXwyIpiWHUDOdw49v+42+IOkeRp\n",
       "0UGLeqTgRU44S6CRBQMQZQkE0htEGSS94QPg9MZAMPUmgSl2IvICAAMnW7m9w5PtAAAAAElFTkSu\n",
       "QmCC\n",
       "\" style=\"display:inline;vertical-align:middle;\" /></a> <a class=\"ProveItLink\" href=\"../__pv_it/10156da73b693655aaf13b90e42e1c021f7082660/proof.ipynb\" style=\"text-decoration: none\">&#x22A2;&nbsp;</a><a class=\"ProveItLink\" href=\"../__pv_it/af21e96bc662cb74cc7cb3eb21c032f16e434dba0/expr.ipynb\"><img src=\"data:image/png;base64,iVBORw0KGgoAAAANSUhEUgAAADcAAAAPBAMAAACy3Eq1AAAAMFBMVEX///92dnYyMjKqqqoiIiLu\n",
       "7u7c3NyIiIjMzMwQEBC6urpERERmZmZUVFSYmJgAAADEjrHzAAAAAXRSTlMAQObYZgAAAOZJREFU\n",
       "GNNjYGB4+//O2d0LGJBByez9mr4QodkMDDw/UCQZFNpZt54DMTj+MTBw/UGV3LCOoYIbxGD/xsDA\n",
       "9x0sxrfFxQkmaQyW5J7AwBDpCjZjewBCp1Q0iMF/gYHDFywaFIAwlsvjBojRf+/5FgOw0DWEnSv9\n",
       "f4JdW5/AwDoXIoTsILmHIMZOkAKQVo5JSkAAk+TmegBk/AVJFgAJNhSd3AwXIN5kuA+2YAKyJC+D\n",
       "AsSbHL/BQsdRdPIJMDAwAdWv3AoWYjGAB18jg+BZBgZe/b9nbm+GCLHeXooR8AjAJQ0NPggAAH2B\n",
       "SAzP/7V+AAAAAElFTkSuQmCC\n",
       "\" style=\"display:inline;vertical-align:middle;\" /></a></span></td></tr>\n",
       "<tr><td><a name=\"-0x5b242dce89990f45_step4\">4</a></td><td>hypothetical reasoning</td><td><a href=\"#-0x5b242dce89990f45_step5\">5</a></td><td><span style=\"font-size:20px;\"><a class=\"ProveItLink\" href=\"../__pv_it/c55f56289c418d41a60a7b5fffca10fe69af27df0/expr.ipynb\"><img src=\"data:image/png;base64,iVBORw0KGgoAAAANSUhEUgAAAHEAAAAVBAMAAACDNRyvAAAAMFBMVEX///+IiIi6urrc3NxERETM\n",
       "zMwQEBCqqqpUVFQiIiJ2dnYyMjLu7u5mZmaYmJgAAABN0h6tAAAAAXRSTlMAQObYZgAAAaxJREFU\n",
       "OMtjYGDgu8dAImC9eABE8exiIBkwpYJIvg9QbjSa9Iv/vTdcFDB0gZXdBhFcE6BC+8EOATMDwGQK\n",
       "AwPvVwydYGUrkXXy7Qc5ngOkiU8AbMg/oLP+omuEKEPRefy+AUh5A5DgBAcA42eguo/oOiHKUHQ+\n",
       "kAf7aTMQ64IFWBIYGI7NQdcJUYask+lA/QMQXQvEzmAR/gYG1hkH0EMVomwZiM2xASx0iCEe7DtO\n",
       "oIsdwCLxfQ89C9CthCp7D2KXQQJSgcH+Ath3AgwckKiQN2DgyYCo550JAgsQyriBRMhkSLLovdsP\n",
       "topnAsNpiHI3kG4kS5kbkJR1Am1WA9vJxMDABnH2dYblEJU/QDoFUHXClHGDooADbAbQbM4EsAJr\n",
       "BkiQgaKToV8BVSdM2Xt42DIDhbghyZAlDmIPKDpZvzCg6IQrWwbXaQnS8hliVyckJriBZqv5MDCc\n",
       "3wDTGoBQBo/PI//3MLD7/wQHLsNeMMmx/8fdFndQNCESA0IZShqCAxs0fg2WbAbRmUAgMy7ApROe\n",
       "P3EAHgEsguD8yUCgTODDViYkgSl28sohAIRjdrJhLp5XAAAAAElFTkSuQmCC\n",
       "\" style=\"display:inline;vertical-align:middle;\" /></a> <a class=\"ProveItLink\" href=\"../__pv_it/663e60de2f984a567ad5224e530387a713331aeb0/proof.ipynb\" style=\"text-decoration: none\">&#x22A2;&nbsp;</a><a class=\"ProveItLink\" href=\"../__pv_it/3944fa923c686a4de4a75a3fd80996d1124dc2b40/expr.ipynb\"><img src=\"data:image/png;base64,iVBORw0KGgoAAAANSUhEUgAAAFwAAAAUBAMAAADyykdqAAAAMFBMVEX////MzMxUVFR2dna6uroQ\n",
       "EBCqqqqIiIgiIiJmZmYyMjJERETu7u6YmJjc3NwAAACgK8IjAAAAAXRSTlMAQObYZgAAATZJREFU\n",
       "KM9jYOC7wIAG8hjwgNMI5qX/mpN2OzAwPcCqUAxMrkMSiWZg4PzIwLMAq/J0EME7ASHA+JeBgeUn\n",
       "A4M5buUcSDaz/wNq/87AcBQhxP0AVfkLJP3cAUClPQwMXA4ICzegKq9EUs6vwMDYdICBgRnJgTdR\n",
       "le9FUi6ve31HAsg/YL/O6ACB/gkoytuAgQEWN2BgqH/AwBMEFGNrQDIjKwFZeQiUw6fAwLAVSNcD\n",
       "ZRk/ICnnWeqAQ/knkPICNOWP7NAcA1MOCnYGfaBZLGDHzFoFBuuwehWoHBTsjL/hXoUAL9SQsYTx\n",
       "BBi4gMHuugfI5DRAuHwNqnIPOJdp/aeZ2ttALC4BhCCUCQzV0I6OJpREAAMnEEw+NCnkJAYD5njS\n",
       "+z4MERwJGCN7YKZCTICZ+e7hVgwAIjlQQ6/UsSYAAAAASUVORK5CYII=\n",
       "\" style=\"display:inline;vertical-align:middle;\" /></a></span></td></tr>\n",
       "<tr><td><a name=\"-0x5b242dce89990f45_step5\">5</a></td><td>instantiation</td><td><a href=\"#-0x5b242dce89990f45_step6\">6</a>, <a href=\"#-0x5b242dce89990f45_step7\">7</a>, <a href=\"#-0x5b242dce89990f45_step8\">8</a>, <a href=\"#-0x5b242dce89990f45_step9\">9</a></td><td><span style=\"font-size:20px;\"><a class=\"ProveItLink\" href=\"../__pv_it/57b49d1c61e0119b0d09e540ba7e945535bc08cb0/expr.ipynb\"><img src=\"data:image/png;base64,iVBORw0KGgoAAAANSUhEUgAAAJkAAAAVBAMAAACnAFEqAAAAMFBMVEX///+IiIi6urrc3NxERETM\n",
       "zMwQEBCqqqpUVFQiIiJ2dnYyMjLu7u5mZmaYmJgAAABN0h6tAAAAAXRSTlMAQObYZgAAAjBJREFU\n",
       "OMutVT9oE2EU/yVt7KW5Xm9wT6ZuYscWBYOKIgjt4CKCCVKhbp2cLM3gUrSm0EFbHDopboLgUJRE\n",
       "kTo4WCcVqY2bk622pRHR+v7kvnz3XbRLHtx39737vV/e93vvXgAEn9EFy7yr881fQVcsfZXXYKu1\n",
       "veS8/ro/9+F0IRHlwoJqc/3mSXr4xLv++Za7JgnL47isE8DAboKt5joOFYENinhkswU1PrjHREEo\n",
       "xH8o/d9urMJsKzWAo2sO2+uNYaao0JKVgNQ2xX532RRmW54cm6HD1siLRk/oOiKO3jKwet9la8Es\n",
       "O0OVvFaPs6XrMw2+T9N1SjyDFWTuuceKYJY1gYu36f6AN95j8b1ESdTK0mmLqsedL+em3NQimNVo\n",
       "zW+H7/LDJi/XtYAFnFgTtUJ4hUgPf1IjBhbZli0Y8JFdSyrvKqudoxcXFvQX5tarkpI/jzdGD+St\n",
       "5HoqFqxlIypvao83s5T1kOSWpr7RI7/HQ6MH8mGcrQ0zbCQvUlz6HCfoyW9RDtmyAI5By8Lthmoh\n",
       "ztaGGTZuN+9HpJvUtIdgOf3Eei9rPqxHZgcxNgtm2LjdSsWopsI2yjTbmtOsdkWOchg6D7w1JxuP\n",
       "YP4vU1DgKZ1/gkNMv73af4a+sZ9areeyejX6mM9yy7Qb2MAW2214i2eD1Cr2LRg77uxvJKdPX73D\n",
       "SFK28gGDaznp6se/2IKt/5P5YdL3ohNQ5hsOmL1BB1+j0+y9oiJ073/hLyIgnCSeNiFxAAAAAElF\n",
       "TkSuQmCC\n",
       "\" style=\"display:inline;vertical-align:middle;\" /></a> <a class=\"ProveItLink\" href=\"../__pv_it/5cdd12d5395cbd77495507eb38fb85240686eeb30/proof.ipynb\" style=\"text-decoration: none\">&#x22A2;&nbsp;</a><a class=\"ProveItLink\" href=\"../../__pv_it/83a1ddf0f64531c80e7f41ea6b904214668818b30/expr.ipynb\"><img src=\"data:image/png;base64,iVBORw0KGgoAAAANSUhEUgAAAA4AAAAOBAMAAADtZjDiAAAAG1BMVEX///9UVFQQEBAiIiJmZmaI\n",
       "iIiqqqrMzMwAAADC2JlRAAAAAXRSTlMAQObYZgAAABlJREFUCNdjYGBgKGOAgFRa0s7GxkrGxoYA\n",
       "QSUGlQeagkgAAAAASUVORK5CYII=\n",
       "\" style=\"display:inline;vertical-align:middle;\" /></a></span></td></tr>\n",
       "<tr><td>&nbsp;</td><td colspan=4 style=\"text-align:left\"><span style=\"font-size:20px;\"><a class=\"ProveItLink\" href=\"../../../../__pv_it/d3792d0d8642fdf1cd2a3a9b32c673ee13653de00/expr.ipynb\"><img src=\"data:image/png;base64,iVBORw0KGgoAAAANSUhEUgAAAA8AAAAOBAMAAAACpFvcAAAALVBMVEX///8iIiIQEBBERERUVFS6\n",
       "urqIiIjc3NxmZmaqqqru7u6YmJgyMjLMzMwAAACK9jtgAAAAAXRSTlMAQObYZgAAAFtJREFUCNdj\n",
       "YACBOwxQcA5Kc59bAGGs7CuAMDbkBYBp1gXzNoAZSxnuJYAZAQx1DSCa16PDzwCshIGB6QCIMYGB\n",
       "gVEBSLMDGTwPgIxCIGZ+zsCw+N0pBk67hw0AfpEVEQi8t+wAAAAASUVORK5CYII=\n",
       "\" style=\"display:inline;vertical-align:middle;\" /></a> : <a class=\"ProveItLink\" href=\"../../../../__pv_it/d3792d0d8642fdf1cd2a3a9b32c673ee13653de00/expr.ipynb\"><img src=\"data:image/png;base64,iVBORw0KGgoAAAANSUhEUgAAAA8AAAAOBAMAAAACpFvcAAAALVBMVEX///8iIiIQEBBERERUVFS6\n",
       "urqIiIjc3NxmZmaqqqru7u6YmJgyMjLMzMwAAACK9jtgAAAAAXRSTlMAQObYZgAAAFtJREFUCNdj\n",
       "YACBOwxQcA5Kc59bAGGs7CuAMDbkBYBp1gXzNoAZSxnuJYAZAQx1DSCa16PDzwCshIGB6QCIMYGB\n",
       "gVEBSLMDGTwPgIxCIGZ+zsCw+N0pBk67hw0AfpEVEQi8t+wAAAAASUVORK5CYII=\n",
       "\" style=\"display:inline;vertical-align:middle;\" /></a>, <a class=\"ProveItLink\" href=\"../../../../__pv_it/4d98b438710c5ada9ffa4646bb123a7d0e69ec000/expr.ipynb\"><img src=\"data:image/png;base64,iVBORw0KGgoAAAANSUhEUgAAABAAAAAOBAMAAADUAYG5AAAALVBMVEX///8yMjKqqqoiIiLu7u7c\n",
       "3NyIiIjMzMwQEBC6urpERERmZmZUVFSYmJgAAACsPVCVAAAAAXRSTlMAQObYZgAAAGxJREFUCNdj\n",
       "YGC48+70nlUTGICgi4GB+zmQZn/LwMD5Gshge8rAwPsMyOBqYGDwMAEy+A4wsNs4ABl1Z68tVgBp\n",
       "ygtgYOkBMVaAOCChNyBGAsQYhnMTIMawvwJyGIHGzFjCwMAj92b3qUUMDAAXABxvZ4rl5AAAAABJ\n",
       "RU5ErkJggg==\n",
       "\" style=\"display:inline;vertical-align:middle;\" /></a> : <a class=\"ProveItLink\" href=\"../../../../__pv_it/4d98b438710c5ada9ffa4646bb123a7d0e69ec000/expr.ipynb\"><img src=\"data:image/png;base64,iVBORw0KGgoAAAANSUhEUgAAABAAAAAOBAMAAADUAYG5AAAALVBMVEX///8yMjKqqqoiIiLu7u7c\n",
       "3NyIiIjMzMwQEBC6urpERERmZmZUVFSYmJgAAACsPVCVAAAAAXRSTlMAQObYZgAAAGxJREFUCNdj\n",
       "YGC48+70nlUTGICgi4GB+zmQZn/LwMD5Gshge8rAwPsMyOBqYGDwMAEy+A4wsNs4ABl1Z68tVgBp\n",
       "ygtgYOkBMVaAOCChNyBGAsQYhnMTIMawvwJyGIHGzFjCwMAj92b3qUUMDAAXABxvZ4rl5AAAAABJ\n",
       "RU5ErkJggg==\n",
       "\" style=\"display:inline;vertical-align:middle;\" /></a></span></td></tr><tr><td><a name=\"-0x5b242dce89990f45_step6\">6</a></td><td>theorem</td><td></td><td><span style=\"font-size:20px;\"> <a class=\"ProveItLink\" href=\"binaryOrContradiction.ipynb\" style=\"text-decoration: none\">&#x22A2;&nbsp;</a><a class=\"ProveItLink\" href=\"../__pv_it/a385f096f7a23a3ecc62ffe7c9de76c5b43292aa0/expr.ipynb\"><img src=\"data:image/png;base64,iVBORw0KGgoAAAANSUhEUgAAALMAAAAWBAMAAAB567CdAAAAMFBMVEX///8QEBCIiIhmZma6urrM\n",
       "zMxUVFQiIiJERETc3Nzu7u6qqqp2dnaYmJgyMjIAAAAcRTyBAAAAAXRSTlMAQObYZgAAAhtJREFU\n",
       "OMu1lD1IHEEYhl9uz3i77up1Fqa4IqBNNCCcGEQP0tgExcJ6CwOW/hTXGHKFyJ4It2kSu1uwUCzi\n",
       "gpVVEhKImBA2KdJIyIJdKvEHf0LA+du7b9UTQfeD/WZe3vmendmZWSC5CHn6fc/QJp/nrzz9vWd0\n",
       "S47nZfbopUTQrR5g+omgrZ319bdIBI1Tx5lLCP0CKIuOzMOHnyZd3klH4zKu6qQrA/lyDEFUzFTo\n",
       "ZzDEAbSOhLSyMLOCGI37U4h6P4CPlKxKrpoK3YxUwNuV/0JqNlrOKdoYCsAHsCcPvPcITZXIoKZC\n",
       "m0GzaHdm5Zty0EKKNlef4BE7oDYwAwzSWasSGdRUaD0cFxco5wi5MYpuj6LHMiXe11wYx0jRyxWV\n",
       "yMVRU6FRnuD5AfqEGnncZYOibW0KZgFv2E4d/Fygk45K5DZSM0JvTvG8ix6hvgOdFG35qX0YJfSz\n",
       "TxMiJcZuO44T1kqkqpkU3cZbY+9bRXyHJaDqE/S7gW22q58NtpTMB+j/omq7XiJU3dSKxen2YpGv\n",
       "3eK+5qE6yg1mj7gE/RT6MbCmMbPNR/qsjq6VCBUzY/GcVQb6IvRz6A/JB0mzM8eOmPmL9aseXrO5\n",
       "LSpYVCKVNK+JzCn0ysumDnw57J0sEHSlhOWTgO8/zFe9+Xl2LjqE4dZKhFLmDXefvi3meNcPuqwa\n",
       "x1ZDdINBl1XjCG6DDm5Qtwvtrn/WC7y6lVB8SE5IAAAAAElFTkSuQmCC\n",
       "\" style=\"display:inline;vertical-align:middle;\" /></a></span></td></tr>\n",
       "<tr><td>&nbsp;</td><td colspan=4 style-\"text-align:left\"><a class=\"ProveItLink\" href=\"binaryOrContradiction.ipynb\">proveit.logic.boolean.disjunction.binaryOrContradiction</a></td></tr><tr><td><a name=\"-0x5b242dce89990f45_step7\">7</a></td><td>assumption</td><td></td><td><span style=\"font-size:20px;\"><a class=\"ProveItLink\" href=\"../__pv_it/6fa6f97505400a9683634d0c86b34c34d9d5959f0/expr.ipynb\"><img src=\"data:image/png;base64,iVBORw0KGgoAAAANSUhEUgAAAEkAAAAVBAMAAAD4Ed5jAAAAMFBMVEX///+IiIi6urrc3NxERETM\n",
       "zMwQEBCqqqpUVFQiIiJ2dnYyMjLu7u5mZmaYmJgAAABN0h6tAAAAAXRSTlMAQObYZgAAAWNJREFU\n",
       "KM9jYGDgu8eAB7BePACieHYx4AVMqSCS7wNU0wY06Rf/e2+4KDAw3AZxuCZABLnBqgPAGiAiKQwM\n",
       "vF8ZGFYiq3r9B0S2goiHEMP/Aa37i6qKp/YziIoAEXPAIoxAAb6PqKr4GD+B7TUAGnABLMKSwMBw\n",
       "bA6qKh32fyCKHaiCxQAswt/AwDoDGAzLQBwOsN94FFg/guWAekIgDo3ve+hZAKTfgzhlYG8xMTD/\n",
       "BcsJMjA0QVTJGzDwZIAcATQ+ZDJYKOLujS9gxkkGHmjAuYFUggzrFGBgUAObBQy9bLAcbwFXAUTV\n",
       "D5AqoALuBpC7HECOBuJpYDnmDZwM8OBi6FeAugvsR3Mg3g+RdYWEKTi4WEGuWAZTxQxS6Q8JgIg5\n",
       "0BgDBpeaDwMivHj8fx9gKPk/FyILCVOO/T/utrgzMKDFIwwwH0BLGxBVCfjTF0QVLH3hBOD0xUAo\n",
       "rSaBKXbC6R4ASw5ZNwqzGFwAAAAASUVORK5CYII=\n",
       "\" style=\"display:inline;vertical-align:middle;\" /></a> <a class=\"ProveItLink\" href=\"../__pv_it/2e8661c765fdd2c42d03a9e1702961819d487bdb0/proof.ipynb\" style=\"text-decoration: none\">&#x22A2;&nbsp;</a><a class=\"ProveItLink\" href=\"../__pv_it/6be0ca65fe4dbca58dfc1a28df036ccc656fb6d20/expr.ipynb\"><img src=\"data:image/png;base64,iVBORw0KGgoAAAANSUhEUgAAADcAAAAPBAMAAACy3Eq1AAAAMFBMVEX///92dnYiIiIQEBBERERU\n",
       "VFS6urqIiIjc3NxmZmaqqqru7u6YmJgyMjLMzMwAAADiRdoGAAAAAXRSTlMAQObYZgAAAQVJREFU\n",
       "GNNjYACBtwyogCf+68wQNyjnPojgAzMfgElmBwaG+RAmz/0NQJIVxOEpAIu8P8DAkD8BzNw1vwGk\n",
       "MwBIMG0Ai9QDBc5D1B2oTwBRN4A4E2KPMwMDtxFYHduG9QdA9Eog9oBIfmVgeBQNZm1jeA82gQlo\n",
       "tANYhO/rmRItiLIEhn6w3ewFDKxg8xnYfzAwbA4AK4ucGQ/WwK3AsBeinMUAqOAX2Eqgty6AxWYx\n",
       "SEEk+YG62L+DWAuAthmAxXoZFBjg3mT9BmRwACV5P0BMewPxGtib70FWNYFEf0AcGQQJAobLQMtM\n",
       "gOwt/28zcPl/ggTVTYhc7P/IqS4L0CKDoRuVCwDjpEGwITo9cgAAAABJRU5ErkJggg==\n",
       "\" style=\"display:inline;vertical-align:middle;\" /></a></span></td></tr>\n",
       "<tr><td><a name=\"-0x5b242dce89990f45_step8\">8</a></td><td>assumption</td><td></td><td><span style=\"font-size:20px;\"><a class=\"ProveItLink\" href=\"../__pv_it/7a96ead17e54cde96c2fd834dc5be256e7999db50/expr.ipynb\"><img src=\"data:image/png;base64,iVBORw0KGgoAAAANSUhEUgAAADAAAAAVBAMAAADyTXAxAAAAMFBMVEX///+IiIi6urrc3NxERETM\n",
       "zMwQEBCqqqpUVFQiIiJ2dnYyMjLu7u5mZmaYmJgAAABN0h6tAAAAAXRSTlMAQObYZgAAAL9JREFU\n",
       "KM9jYGDgu8eABmJlQCTPLgYMoBYAJPg+oIixbgASvCCCawKKBPcHmBiaxOs/2CV4aj9jl+Bj/IRd\n",
       "Qof9H0gsAUhwbEA2SYH1I8ylZUA335wJBLOAHCYG5r8gBXsZGEImw1RbAHHE3RtfQGyOiVBfwiQU\n",
       "GBiyQewdIEkHhAQ7kJoGswPuKqCEOZDaD3MVXIKVgRnE9DfA8AeP/+8DDCX/52IPKzCASCTgkECL\n",
       "DzAAxwcDthhUAJHsWOMcAJVwM5dvBRS7AAAAAElFTkSuQmCC\n",
       "\" style=\"display:inline;vertical-align:middle;\" /></a> <a class=\"ProveItLink\" href=\"../__pv_it/21c0abe84b58cafe3e37aff9ff0267970c1634470/proof.ipynb\" style=\"text-decoration: none\">&#x22A2;&nbsp;</a><a class=\"ProveItLink\" href=\"../__pv_it/98d4bc94e268eb5bd1dd8957b0f9355a80140e9b0/expr.ipynb\"><img src=\"data:image/png;base64,iVBORw0KGgoAAAANSUhEUgAAABwAAAAOBAMAAADOPWE3AAAAMFBMVEX///8QEBBERES6urqIiIiq\n",
       "qqru7u6YmJgyMjLMzMxUVFTc3Nx2dnYiIiJmZmYAAAAfdW6kAAAAAXRSTlMAQObYZgAAAGNJREFU\n",
       "CNdjYEAAzgYGZMDxAYVb8Q2Zxxb3G5nLzvIZmWvG+h1ZrQHnFwaGt3eB4A6Qy8zA/Q8qswuIZ717\n",
       "9QmJa8DAIIHgsgKpiwjuViDVD3MtA/cFIKW/AWaL/o8EhqD/9wA5jBwoctwhSQAAAABJRU5ErkJg\n",
       "gg==\n",
       "\" style=\"display:inline;vertical-align:middle;\" /></a></span></td></tr>\n",
       "<tr><td><a name=\"-0x5b242dce89990f45_step9\">9</a></td><td>assumption</td><td></td><td><span style=\"font-size:20px;\"><a class=\"ProveItLink\" href=\"../__pv_it/e229708ae91e933a44ca1cbb9a50ba4bb825d50b0/expr.ipynb\"><img src=\"data:image/png;base64,iVBORw0KGgoAAAANSUhEUgAAADEAAAAVBAMAAAAdjxsPAAAAMFBMVEX///+IiIi6urrc3NxERETM\n",
       "zMwQEBCqqqpUVFQiIiJ2dnYyMjLu7u5mZmaYmJgAAABN0h6tAAAAAXRSTlMAQObYZgAAAOJJREFU\n",
       "KM9jYGDgu8eABlgvHgBRPLsYMABTKojk+4AQ4ev/cbfFCci4DeJxTUBSzObAwHA/gIFhJYZM/AMG\n",
       "Bv0L2GTkDRgY3gtgk3EDuijzADaZHwwMkT1AehmIw7EBySM/3olMBzHeg4gyoFNuzgSCWQwMjJ8Z\n",
       "GI41AAW5ga4ImQzTYMHAwJIAlP0O4nQCnaEWgJDhB6pn/AjSA9LI4YCQAXmH4xPMHrjbLCDeiXeA\n",
       "uQ0uw8rAsA0YmCmgcEb3T/f/3hsuBQwM2HwKAxCZBFwyyPEDB+D4YcAWp0lgih17OgAAhc8/A2yv\n",
       "PboAAAAASUVORK5CYII=\n",
       "\" style=\"display:inline;vertical-align:middle;\" /></a> <a class=\"ProveItLink\" href=\"../__pv_it/dd750b3300473f9a3fd8bdd2dcf1c333dfa79c240/proof.ipynb\" style=\"text-decoration: none\">&#x22A2;&nbsp;</a><a class=\"ProveItLink\" href=\"../__pv_it/86f671dd514f6e615234986d96edb2c4ebb473e30/expr.ipynb\"><img src=\"data:image/png;base64,iVBORw0KGgoAAAANSUhEUgAAAB0AAAAOBAMAAAAh/woJAAAAMFBMVEX///8yMjKqqqru7u6IiIgQ\n",
       "EBC6urpERESYmJjMzMxUVFTc3Nx2dnYiIiJmZmYAAABbDZECAAAAAXRSTlMAQObYZgAAAH9JREFU\n",
       "CNdjYIACjvW/3i0vY0AA1gIGhvcTEPz5DQwM+Q8QfP8NDAz9Dgh+KQMDc6wBgv+LgWHuYgSX81eH\n",
       "+yUg/fYuENxhYGD5zcBgugAquYuBgT0AKPYJwecHyrF8QfBB1nN9Q/BB1s8vgBnOwCDKwMAWjrB+\n",
       "4f91r8oVGBgAyy8lZJPyWlAAAAAASUVORK5CYII=\n",
       "\" style=\"display:inline;vertical-align:middle;\" /></a></span></td></tr>\n",
       "</table>"
      ],
      "text/plain": [
       "\tstep type\trequirements\tstatement\n",
       "0\tgeneralizaton\t1\t|- forall_{A in BOOLEANS, B in BOOLEANS | A or B, [not](A)} B\n",
       "1\tinstantiation\t2, 3, 4\t{B in BOOLEANS, A or B, [not](A)} |- B\n",
       "\tA : B\n",
       "2\ttheorem\t\t|- forall_{A in BOOLEANS | [not](A) => FALSE} A\n",
       "\tproveit.logic.boolean.implication.affirmViaContradiction\n",
       "3\tassumption\t\t{B in BOOLEANS} |- B in BOOLEANS\n",
       "4\thypothetical reasoning\t5\t{A or B, [not](A)} |- [not](B) => FALSE\n",
       "5\tinstantiation\t6, 7, 8, 9\t{A or B, [not](A), [not](B)} |- FALSE\n",
       "\tA : A, B : B\n",
       "6\ttheorem\t\t|- forall_{A, B | A or B, [not](A), [not](B)} FALSE\n",
       "\tproveit.logic.boolean.disjunction.binaryOrContradiction\n",
       "7\tassumption\t\t{A or B} |- A or B\n",
       "8\tassumption\t\t{[not](A)} |- [not](A)\n",
       "9\tassumption\t\t{[not](B)} |- [not](B)"
      ]
     },
     "execution_count": 6,
     "metadata": {},
     "output_type": "execute_result"
    }
   ],
   "source": [
    "%qed"
   ]
  },
  {
   "cell_type": "code",
   "execution_count": null,
   "metadata": {},
   "outputs": [],
   "source": []
  }
 ],
 "metadata": {
  "kernelspec": {
   "display_name": "Python 3",
   "language": "python",
   "name": "python3"
  }
 },
 "nbformat": 4,
 "nbformat_minor": 0
}
