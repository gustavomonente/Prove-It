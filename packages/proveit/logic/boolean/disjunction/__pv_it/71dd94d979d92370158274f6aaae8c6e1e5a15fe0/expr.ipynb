{
 "cells": [
  {
   "cell_type": "markdown",
   "metadata": {},
   "source": [
    "Expression of type <a class=\"ProveItLink\" href=\"../../../../../../../doc/html/api/proveit.Lambda.html\">Lambda</a>\n",
    "=======================\n",
    "# from context <a class=\"ProveItLink\" href=\"../../_context_.ipynb\">proveit.logic.boolean.disjunction</a>"
   ]
  },
  {
   "cell_type": "code",
   "execution_count": 1,
   "metadata": {},
   "outputs": [],
   "source": [
    "import proveit\n",
    "# Automation is not needed when building an expression:\n",
    "proveit.defaults.automation = False # This will speed things up.\n",
    "proveit.defaults.inline_pngs = False # Makes files smaller.\n",
    "# import Expression classes needed to build the expression\n",
    "from proveit import Conditional, ExprRange, IndexedVar, Lambda\n",
    "from proveit._common_ import A, C, i, m\n",
    "from proveit.core_expr_types._common_ import A_1_to_m\n",
    "from proveit.logic import Booleans, Forall, Implies, InSet, Or\n",
    "from proveit.number import Naturals, one"
   ]
  },
  {
   "cell_type": "code",
   "execution_count": 2,
   "metadata": {},
   "outputs": [
    {
     "data": {
      "text/html": [
       "<strong id=\"expr\">expr:</strong> <a class=\"ProveItLink\" href=\"../e8004b9d5e2e44d7e2c1debc87194f98ee9d05d60/expr.ipynb\"><img src=\"../e8004b9d5e2e44d7e2c1debc87194f98ee9d05d60/expr.png\" style=\"display:inline;vertical-align:middle;\" /></a><br>"
      ],
      "text/plain": [
       "expr: m -> {forall_{A_{1}, ..A_{_a}.., A_{m} in BOOLEANS | A_{1} or ..A_{_a}.. or A_{m}} [forall_{C | A_{1} => C, ..A_{i} => C.., A_{m} => C} C] if m in Naturals."
      ]
     },
     "execution_count": 2,
     "metadata": {},
     "output_type": "execute_result"
    }
   ],
   "source": [
    "# build up the expression from sub-expressions\n",
    "expr = Lambda(m, Conditional(Forall([A_1_to_m], Forall([C], C, condition = ExprRange(i, Implies(IndexedVar(A, i), C), one, m)), domain = Booleans, condition = Or(A_1_to_m)), InSet(m, Naturals)))"
   ]
  },
  {
   "cell_type": "code",
   "execution_count": 3,
   "metadata": {},
   "outputs": [
    {
     "name": "stdout",
     "output_type": "stream",
     "text": [
      "Passed sanity check: built 'expr' is the same as the stored Expression.\n"
     ]
    }
   ],
   "source": [
    "# check that the built expression is the same as the stored expression\n",
    "%check_expr"
   ]
  },
  {
   "cell_type": "code",
   "execution_count": 4,
   "metadata": {},
   "outputs": [
    {
     "name": "stdout",
     "output_type": "stream",
     "text": [
      "m \\mapsto \\left\\{\\forall_{A_{1}, \\ldots, A_{m} \\in \\mathbb{B}~|~A_{1} \\lor \\ldots \\lor A_{m}}~\\left[\\forall_{C~|~A_{1} \\Rightarrow C, \\ldots, A_{m} \\Rightarrow C}~C\\right] \\textrm{ if } m \\in \\mathbb{N}\\right..\n"
     ]
    }
   ],
   "source": [
    "# Show the LaTeX representation of the expression for convenience if you need it.\n",
    "print(expr.latex())"
   ]
  },
  {
   "cell_type": "code",
   "execution_count": 5,
   "metadata": {},
   "outputs": [
    {
     "data": {
      "text/html": [
       "<table><tr><th>&nbsp;</th><th>core type</th><th>sub-expressions</th><th>expression</th></tr>\n",
       "<tr><td>0</td><td>Lambda</td><td>parameter:&nbsp;30<br>body:&nbsp;1<br></td><td><a class=\"ProveItLink\" href=\"../e8004b9d5e2e44d7e2c1debc87194f98ee9d05d60/expr.ipynb\"><img src=\"../e8004b9d5e2e44d7e2c1debc87194f98ee9d05d60/expr.png\" style=\"display:inline;vertical-align:middle;\" /></a></td></tr>\n",
       "<tr><td>1</td><td>Conditional</td><td>value:&nbsp;2<br>condition:&nbsp;3<br></td><td><a class=\"ProveItLink\" href=\"../188167ae15d0d18b01476519bfba2e3e2267bf500/expr.ipynb\"><img src=\"../188167ae15d0d18b01476519bfba2e3e2267bf500/expr.png\" style=\"display:inline;vertical-align:middle;\" /></a></td></tr>\n",
       "<tr><td>2</td><td>Operation</td><td>operator:&nbsp;10<br>operand:&nbsp;4<br></td><td><a class=\"ProveItLink\" href=\"../c2548ddeaa43fdfde934744486ee7afb8d3f42200/expr.ipynb\"><img src=\"../c2548ddeaa43fdfde934744486ee7afb8d3f42200/expr.png\" style=\"display:inline;vertical-align:middle;\" /></a></td></tr>\n",
       "<tr><td>3</td><td>Operation</td><td>operator:&nbsp;25<br>operands:&nbsp;5<br></td><td><a class=\"ProveItLink\" href=\"../ad11778942ef0375d86b1f7877fe8941c18aa1e90/expr.ipynb\"><img src=\"../ad11778942ef0375d86b1f7877fe8941c18aa1e90/expr.png\" style=\"display:inline;vertical-align:middle;\" /></a></td></tr>\n",
       "<tr><td>4</td><td>Lambda</td><td>parameter:&nbsp;23<br>body:&nbsp;6<br></td><td><a class=\"ProveItLink\" href=\"../c6dc0b15ec6611ace2398c3e6be45ec781336ed00/expr.ipynb\"><img src=\"../c6dc0b15ec6611ace2398c3e6be45ec781336ed00/expr.png\" style=\"display:inline;vertical-align:middle;\" /></a></td></tr>\n",
       "<tr><td>5</td><td>ExprTuple</td><td>30, 7</td><td><a class=\"ProveItLink\" href=\"../13263128595eab3cbb0d7b226b8f6e6eda0ba9a40/expr.ipynb\"><img src=\"../13263128595eab3cbb0d7b226b8f6e6eda0ba9a40/expr.png\" style=\"display:inline;vertical-align:middle;\" /></a></td></tr>\n",
       "<tr><td>6</td><td>Conditional</td><td>value:&nbsp;8<br>condition:&nbsp;9<br></td><td><a class=\"ProveItLink\" href=\"../e5e3e781e433e071f85553e04daedb6336bf03a00/expr.ipynb\"><img src=\"../e5e3e781e433e071f85553e04daedb6336bf03a00/expr.png\" style=\"display:inline;vertical-align:middle;\" /></a></td></tr>\n",
       "<tr><td>7</td><td>Literal</td><td></td><td><a class=\"ProveItLink\" href=\"../../../../../number/sets/integer/__pv_it/b49c37b99b7e8d73a8d7971bcf454d693b90a2c60/expr.ipynb\"><img src=\"../../../../../number/sets/integer/__pv_it/b49c37b99b7e8d73a8d7971bcf454d693b90a2c60/expr.png\" style=\"display:inline;vertical-align:middle;\" /></a></td></tr>\n",
       "<tr><td>8</td><td>Operation</td><td>operator:&nbsp;10<br>operand:&nbsp;11<br></td><td><a class=\"ProveItLink\" href=\"../281e4fa4cf98b0fa04b4ff9436c8e80ea11d5c820/expr.ipynb\"><img src=\"../281e4fa4cf98b0fa04b4ff9436c8e80ea11d5c820/expr.png\" style=\"display:inline;vertical-align:middle;\" /></a></td></tr>\n",
       "<tr><td>9</td><td>Operation</td><td>operator:&nbsp;20<br>operands:&nbsp;12<br></td><td><a class=\"ProveItLink\" href=\"../9576f9b7796f3419dc663c4810220328453da0ea0/expr.ipynb\"><img src=\"../9576f9b7796f3419dc663c4810220328453da0ea0/expr.png\" style=\"display:inline;vertical-align:middle;\" /></a></td></tr>\n",
       "<tr><td>10</td><td>Literal</td><td></td><td><a class=\"ProveItLink\" href=\"../../../quantification/universal/__pv_it/fd9c772d6675566ed52a6897806f45eb08a4ea910/expr.ipynb\"><img src=\"../../../quantification/universal/__pv_it/fd9c772d6675566ed52a6897806f45eb08a4ea910/expr.png\" style=\"display:inline;vertical-align:middle;\" /></a></td></tr>\n",
       "<tr><td>11</td><td>Lambda</td><td>parameter:&nbsp;38<br>body:&nbsp;13<br></td><td><a class=\"ProveItLink\" href=\"../4bf11f698ef38f984f787704f6de8fe8e8a912de0/expr.ipynb\"><img src=\"../4bf11f698ef38f984f787704f6de8fe8e8a912de0/expr.png\" style=\"display:inline;vertical-align:middle;\" /></a></td></tr>\n",
       "<tr><td>12</td><td>ExprTuple</td><td>14, 15</td><td><a class=\"ProveItLink\" href=\"../eae6383b862ed7a3472ed6b44938896ffc42bff60/expr.ipynb\"><img src=\"../eae6383b862ed7a3472ed6b44938896ffc42bff60/expr.png\" style=\"display:inline;vertical-align:middle;\" /></a></td></tr>\n",
       "<tr><td>13</td><td>Conditional</td><td>value:&nbsp;38<br>condition:&nbsp;16<br></td><td><a class=\"ProveItLink\" href=\"../2b4b272d65170c1221caa2490fb60ab4b07822ac0/expr.ipynb\"><img src=\"../2b4b272d65170c1221caa2490fb60ab4b07822ac0/expr.png\" style=\"display:inline;vertical-align:middle;\" /></a></td></tr>\n",
       "<tr><td>14</td><td>ExprRange</td><td>lambda_map:&nbsp;17<br>start_index:&nbsp;29<br>end_index:&nbsp;30<br></td><td><a class=\"ProveItLink\" href=\"../2bab02ebc31c30749fd2730df8ef97663d6a10e30/expr.ipynb\"><img src=\"../2bab02ebc31c30749fd2730df8ef97663d6a10e30/expr.png\" style=\"display:inline;vertical-align:middle;\" /></a></td></tr>\n",
       "<tr><td>15</td><td>Operation</td><td>operator:&nbsp;18<br>operands:&nbsp;19<br></td><td><a class=\"ProveItLink\" href=\"../52e8d39febb62b721c7ca2ea6034a49635df438a0/expr.ipynb\"><img src=\"../52e8d39febb62b721c7ca2ea6034a49635df438a0/expr.png\" style=\"display:inline;vertical-align:middle;\" /></a></td></tr>\n",
       "<tr><td>16</td><td>Operation</td><td>operator:&nbsp;20<br>operands:&nbsp;21<br></td><td><a class=\"ProveItLink\" href=\"../bdebeb287d97fe562ea0afc35061c391cff401030/expr.ipynb\"><img src=\"../bdebeb287d97fe562ea0afc35061c391cff401030/expr.png\" style=\"display:inline;vertical-align:middle;\" /></a></td></tr>\n",
       "<tr><td>17</td><td>Lambda</td><td>parameter:&nbsp;34<br>body:&nbsp;22<br></td><td><a class=\"ProveItLink\" href=\"../e462da948a3a649da62f5e332c58e1cc7cc8ef480/expr.ipynb\"><img src=\"../e462da948a3a649da62f5e332c58e1cc7cc8ef480/expr.png\" style=\"display:inline;vertical-align:middle;\" /></a></td></tr>\n",
       "<tr><td>18</td><td>Literal</td><td></td><td><a class=\"ProveItLink\" href=\"../8a6d9fc46c84b3911a71fbae15627dc2acebe2890/expr.ipynb\"><img src=\"../8a6d9fc46c84b3911a71fbae15627dc2acebe2890/expr.png\" style=\"display:inline;vertical-align:middle;\" /></a></td></tr>\n",
       "<tr><td>19</td><td>ExprTuple</td><td>23</td><td><a class=\"ProveItLink\" href=\"../3971d4e6d8e9af14d4f7b980de24a3075f427e380/expr.ipynb\"><img src=\"../3971d4e6d8e9af14d4f7b980de24a3075f427e380/expr.png\" style=\"display:inline;vertical-align:middle;\" /></a></td></tr>\n",
       "<tr><td>20</td><td>Literal</td><td></td><td><a class=\"ProveItLink\" href=\"../../../conjunction/__pv_it/f41cc6b553210927c09f19a8a39cdf860a5585930/expr.ipynb\"><img src=\"../../../conjunction/__pv_it/f41cc6b553210927c09f19a8a39cdf860a5585930/expr.png\" style=\"display:inline;vertical-align:middle;\" /></a></td></tr>\n",
       "<tr><td>21</td><td>ExprTuple</td><td>24</td><td><a class=\"ProveItLink\" href=\"../29c8a7f9652cdf65a4eb20bf7353bf8a94eeaf920/expr.ipynb\"><img src=\"../29c8a7f9652cdf65a4eb20bf7353bf8a94eeaf920/expr.png\" style=\"display:inline;vertical-align:middle;\" /></a></td></tr>\n",
       "<tr><td>22</td><td>Operation</td><td>operator:&nbsp;25<br>operands:&nbsp;26<br></td><td><a class=\"ProveItLink\" href=\"../f777912892d36c4da6d4f3cf378a718568ef0dcc0/expr.ipynb\"><img src=\"../f777912892d36c4da6d4f3cf378a718568ef0dcc0/expr.png\" style=\"display:inline;vertical-align:middle;\" /></a></td></tr>\n",
       "<tr><td>23</td><td>ExprRange</td><td>lambda_map:&nbsp;27<br>start_index:&nbsp;29<br>end_index:&nbsp;30<br></td><td><a class=\"ProveItLink\" href=\"../../../../../core_expr_types/__pv_it/1b1836f58ac701e2bebc4117b7c7261052ae85ae0/expr.ipynb\"><img src=\"../../../../../core_expr_types/__pv_it/1b1836f58ac701e2bebc4117b7c7261052ae85ae0/expr.png\" style=\"display:inline;vertical-align:middle;\" /></a></td></tr>\n",
       "<tr><td>24</td><td>ExprRange</td><td>lambda_map:&nbsp;28<br>start_index:&nbsp;29<br>end_index:&nbsp;30<br></td><td><a class=\"ProveItLink\" href=\"../2576b5ab38204ac77f71567198fe59910826f0a30/expr.ipynb\"><img src=\"../2576b5ab38204ac77f71567198fe59910826f0a30/expr.png\" style=\"display:inline;vertical-align:middle;\" /></a></td></tr>\n",
       "<tr><td>25</td><td>Literal</td><td></td><td><a class=\"ProveItLink\" href=\"../../../../set_theory/membership/__pv_it/7776fc89cb67d0b5b1ec2c0c8e08da5587921ccf0/expr.ipynb\"><img src=\"../../../../set_theory/membership/__pv_it/7776fc89cb67d0b5b1ec2c0c8e08da5587921ccf0/expr.png\" style=\"display:inline;vertical-align:middle;\" /></a></td></tr>\n",
       "<tr><td>26</td><td>ExprTuple</td><td>32, 31</td><td><a class=\"ProveItLink\" href=\"../3cbf41968ea3876165a26f7dcceb2975b91a45470/expr.ipynb\"><img src=\"../3cbf41968ea3876165a26f7dcceb2975b91a45470/expr.png\" style=\"display:inline;vertical-align:middle;\" /></a></td></tr>\n",
       "<tr><td>27</td><td>Lambda</td><td>parameter:&nbsp;34<br>body:&nbsp;32<br></td><td><a class=\"ProveItLink\" href=\"../../../../../core_expr_types/__pv_it/cbf4a2d6122f8f76eeb36bd1c0d8bf52d8e05a560/expr.ipynb\"><img src=\"../../../../../core_expr_types/__pv_it/cbf4a2d6122f8f76eeb36bd1c0d8bf52d8e05a560/expr.png\" style=\"display:inline;vertical-align:middle;\" /></a></td></tr>\n",
       "<tr><td>28</td><td>Lambda</td><td>parameter:&nbsp;40<br>body:&nbsp;33<br></td><td><a class=\"ProveItLink\" href=\"../361b073b140bdf52d183b6a1b12e0481cd0f3e960/expr.ipynb\"><img src=\"../361b073b140bdf52d183b6a1b12e0481cd0f3e960/expr.png\" style=\"display:inline;vertical-align:middle;\" /></a></td></tr>\n",
       "<tr><td>29</td><td>Literal</td><td></td><td><a class=\"ProveItLink\" href=\"../../../../../number/numeral/__pv_it/f086f8c372bd40a2458306ddfdbb29f3dc6f63030/expr.ipynb\"><img src=\"../../../../../number/numeral/__pv_it/f086f8c372bd40a2458306ddfdbb29f3dc6f63030/expr.png\" style=\"display:inline;vertical-align:middle;\" /></a></td></tr>\n",
       "<tr><td>30</td><td>Variable</td><td></td><td><a class=\"ProveItLink\" href=\"../../../../../__pv_it/6e8a38e9a7e2b6af352562cd77e0eb4751f142620/expr.ipynb\"><img src=\"../../../../../__pv_it/6e8a38e9a7e2b6af352562cd77e0eb4751f142620/expr.png\" style=\"display:inline;vertical-align:middle;\" /></a></td></tr>\n",
       "<tr><td>31</td><td>Literal</td><td></td><td><a class=\"ProveItLink\" href=\"../../../__pv_it/a3b387936f605fef1b535be3e1116cca8bbfc91b0/expr.ipynb\"><img src=\"../../../__pv_it/a3b387936f605fef1b535be3e1116cca8bbfc91b0/expr.png\" style=\"display:inline;vertical-align:middle;\" /></a></td></tr>\n",
       "<tr><td>32</td><td>IndexedVar</td><td>variable:&nbsp;39<br>index:&nbsp;34<br></td><td><a class=\"ProveItLink\" href=\"../../../../../core_expr_types/__pv_it/a433d6021a2b0d85d326303b1d692b18969c0dc30/expr.ipynb\"><img src=\"../../../../../core_expr_types/__pv_it/a433d6021a2b0d85d326303b1d692b18969c0dc30/expr.png\" style=\"display:inline;vertical-align:middle;\" /></a></td></tr>\n",
       "<tr><td>33</td><td>Operation</td><td>operator:&nbsp;35<br>operands:&nbsp;36<br></td><td><a class=\"ProveItLink\" href=\"../8ce09ca3a787822376f3c707c3a112d03d461ca20/expr.ipynb\"><img src=\"../8ce09ca3a787822376f3c707c3a112d03d461ca20/expr.png\" style=\"display:inline;vertical-align:middle;\" /></a></td></tr>\n",
       "<tr><td>34</td><td>Variable</td><td></td><td><a class=\"ProveItLink\" href=\"../../../../../core_expr_types/__pv_it/1e653f789234b245ee7fea7caad998c139d617410/expr.ipynb\"><img src=\"../../../../../core_expr_types/__pv_it/1e653f789234b245ee7fea7caad998c139d617410/expr.png\" style=\"display:inline;vertical-align:middle;\" /></a></td></tr>\n",
       "<tr><td>35</td><td>Literal</td><td></td><td><a class=\"ProveItLink\" href=\"../../../implication/__pv_it/1e62b0c0a90306fc48b17f0dc8d4dc4df8bb234f0/expr.ipynb\"><img src=\"../../../implication/__pv_it/1e62b0c0a90306fc48b17f0dc8d4dc4df8bb234f0/expr.png\" style=\"display:inline;vertical-align:middle;\" /></a></td></tr>\n",
       "<tr><td>36</td><td>ExprTuple</td><td>37, 38</td><td><a class=\"ProveItLink\" href=\"../11807e6a4c8f9070a88f44f12a20e20321fa624e0/expr.ipynb\"><img src=\"../11807e6a4c8f9070a88f44f12a20e20321fa624e0/expr.png\" style=\"display:inline;vertical-align:middle;\" /></a></td></tr>\n",
       "<tr><td>37</td><td>IndexedVar</td><td>variable:&nbsp;39<br>index:&nbsp;40<br></td><td><a class=\"ProveItLink\" href=\"../9c79ac507b7d7d0f650176c17e8ca95736050cc40/expr.ipynb\"><img src=\"../9c79ac507b7d7d0f650176c17e8ca95736050cc40/expr.png\" style=\"display:inline;vertical-align:middle;\" /></a></td></tr>\n",
       "<tr><td>38</td><td>Variable</td><td></td><td><a class=\"ProveItLink\" href=\"../../../../../__pv_it/dcb5a3e430485237dfe486162b026a4affb149300/expr.ipynb\"><img src=\"../../../../../__pv_it/dcb5a3e430485237dfe486162b026a4affb149300/expr.png\" style=\"display:inline;vertical-align:middle;\" /></a></td></tr>\n",
       "<tr><td>39</td><td>Variable</td><td></td><td><a class=\"ProveItLink\" href=\"../../../../../__pv_it/d3792d0d8642fdf1cd2a3a9b32c673ee13653de00/expr.ipynb\"><img src=\"../../../../../__pv_it/d3792d0d8642fdf1cd2a3a9b32c673ee13653de00/expr.png\" style=\"display:inline;vertical-align:middle;\" /></a></td></tr>\n",
       "<tr><td>40</td><td>Variable</td><td></td><td><a class=\"ProveItLink\" href=\"../../../../../__pv_it/557ab5defdcd46aa58168b08767502985122cd490/expr.ipynb\"><img src=\"../../../../../__pv_it/557ab5defdcd46aa58168b08767502985122cd490/expr.png\" style=\"display:inline;vertical-align:middle;\" /></a></td></tr>\n",
       "</table>\n"
      ],
      "text/plain": [
       "0. m -> {forall_{A_{1}, ..A_{_a}.., A_{m} in BOOLEANS | A_{1} or ..A_{_a}.. or A_{m}} [forall_{C | A_{1} => C, ..A_{i} => C.., A_{m} => C} C] if m in Naturals.\n",
       "   core type: Lambda\n",
       "   parameter: 30\n",
       "   body: 1\n",
       "1. {forall_{A_{1}, ..A_{_a}.., A_{m} in BOOLEANS | A_{1} or ..A_{_a}.. or A_{m}} [forall_{C | A_{1} => C, ..A_{i} => C.., A_{m} => C} C] if m in Naturals.\n",
       "   core type: Conditional\n",
       "   value: 2\n",
       "   condition: 3\n",
       "2. forall_{A_{1}, ..A_{_a}.., A_{m} in BOOLEANS | A_{1} or ..A_{_a}.. or A_{m}} [forall_{C | A_{1} => C, ..A_{i} => C.., A_{m} => C} C]\n",
       "   core type: Operation\n",
       "   operator: 10\n",
       "   operand: 4\n",
       "3. m in Naturals\n",
       "   core type: Operation\n",
       "   operator: 25\n",
       "   operands: 5\n",
       "4. (A_{1}, ..A_{_a}.., A_{m}) -> {forall_{C | A_{1} => C, ..A_{i} => C.., A_{m} => C} C if A_{1} in BOOLEANS ,  ..A_{_a} in BOOLEANS.. ,  A_{m} in BOOLEANS ,  A_{1} or ..A_{_a}.. or A_{m}.\n",
       "   core type: Lambda\n",
       "   parameter: 23\n",
       "   body: 6\n",
       "5. (m, Naturals)\n",
       "   core type: ExprTuple\n",
       "   sub-expressions: 30, 7\n",
       "6. {forall_{C | A_{1} => C, ..A_{i} => C.., A_{m} => C} C if A_{1} in BOOLEANS ,  ..A_{_a} in BOOLEANS.. ,  A_{m} in BOOLEANS ,  A_{1} or ..A_{_a}.. or A_{m}.\n",
       "   core type: Conditional\n",
       "   value: 8\n",
       "   condition: 9\n",
       "7. Naturals\n",
       "   core type: Literal\n",
       "   sub-expressions: \n",
       "8. forall_{C | A_{1} => C, ..A_{i} => C.., A_{m} => C} C\n",
       "   core type: Operation\n",
       "   operator: 10\n",
       "   operand: 11\n",
       "9. (A_{1} in BOOLEANS) and ..(A_{_a} in BOOLEANS).. and (A_{m} in BOOLEANS) and (A_{1} or ..A_{_a}.. or A_{m})\n",
       "   core type: Operation\n",
       "   operator: 20\n",
       "   operands: 12\n",
       "10. forall\n",
       "    core type: Literal\n",
       "    sub-expressions: \n",
       "11. C -> {C if (A_{1} => C) and ..(A_{i} => C).. and (A_{m} => C).\n",
       "    core type: Lambda\n",
       "    parameter: 38\n",
       "    body: 13\n",
       "12. (A_{1} in BOOLEANS, ..A_{_a} in BOOLEANS.., A_{m} in BOOLEANS, A_{1} or ..A_{_a}.. or A_{m})\n",
       "    core type: ExprTuple\n",
       "    sub-expressions: 14, 15\n",
       "13. {C if (A_{1} => C) and ..(A_{i} => C).. and (A_{m} => C).\n",
       "    core type: Conditional\n",
       "    value: 38\n",
       "    condition: 16\n",
       "14. (A_{1} in BOOLEANS), ..(A_{_a} in BOOLEANS).., (A_{m} in BOOLEANS)\n",
       "    core type: ExprRange\n",
       "    lambda_map: 17\n",
       "    start_index: 29\n",
       "    end_index: 30\n",
       "15. A_{1} or ..A_{_a}.. or A_{m}\n",
       "    core type: Operation\n",
       "    operator: 18\n",
       "    operands: 19\n",
       "16. (A_{1} => C) and ..(A_{i} => C).. and (A_{m} => C)\n",
       "    core type: Operation\n",
       "    operator: 20\n",
       "    operands: 21\n",
       "17. _a -> (A_{_a} in BOOLEANS)\n",
       "    core type: Lambda\n",
       "    parameter: 34\n",
       "    body: 22\n",
       "18. or\n",
       "    core type: Literal\n",
       "    sub-expressions: \n",
       "19. (A_{1}, ..A_{_a}.., A_{m})\n",
       "    core type: ExprTuple\n",
       "    sub-expressions: 23\n",
       "20. and\n",
       "    core type: Literal\n",
       "    sub-expressions: \n",
       "21. (A_{1} => C, ..A_{i} => C.., A_{m} => C)\n",
       "    core type: ExprTuple\n",
       "    sub-expressions: 24\n",
       "22. A_{_a} in BOOLEANS\n",
       "    core type: Operation\n",
       "    operator: 25\n",
       "    operands: 26\n",
       "23. A_{1}, ..A_{_a}.., A_{m}\n",
       "    core type: ExprRange\n",
       "    lambda_map: 27\n",
       "    start_index: 29\n",
       "    end_index: 30\n",
       "24. (A_{1} => C), ..(A_{i} => C).., (A_{m} => C)\n",
       "    core type: ExprRange\n",
       "    lambda_map: 28\n",
       "    start_index: 29\n",
       "    end_index: 30\n",
       "25. in\n",
       "    core type: Literal\n",
       "    sub-expressions: \n",
       "26. (A_{_a}, BOOLEANS)\n",
       "    core type: ExprTuple\n",
       "    sub-expressions: 32, 31\n",
       "27. _a -> A_{_a}\n",
       "    core type: Lambda\n",
       "    parameter: 34\n",
       "    body: 32\n",
       "28. i -> (A_{i} => C)\n",
       "    core type: Lambda\n",
       "    parameter: 40\n",
       "    body: 33\n",
       "29. 1\n",
       "    core type: Literal\n",
       "    sub-expressions: \n",
       "30. m\n",
       "    core type: Variable\n",
       "    sub-expressions: \n",
       "31. BOOLEANS\n",
       "    core type: Literal\n",
       "    sub-expressions: \n",
       "32. A_{_a}\n",
       "    core type: IndexedVar\n",
       "variable: 39\n",
       "index: 34\n",
       "33. A_{i} => C\n",
       "    core type: Operation\n",
       "    operator: 35\n",
       "    operands: 36\n",
       "34. _a\n",
       "    core type: Variable\n",
       "    sub-expressions: \n",
       "35. =>\n",
       "    core type: Literal\n",
       "    sub-expressions: \n",
       "36. (A_{i}, C)\n",
       "    core type: ExprTuple\n",
       "    sub-expressions: 37, 38\n",
       "37. A_{i}\n",
       "    core type: IndexedVar\n",
       "variable: 39\n",
       "index: 40\n",
       "38. C\n",
       "    core type: Variable\n",
       "    sub-expressions: \n",
       "39. A\n",
       "    core type: Variable\n",
       "    sub-expressions: \n",
       "40. i\n",
       "    core type: Variable\n",
       "    sub-expressions: "
      ]
     },
     "execution_count": 5,
     "metadata": {},
     "output_type": "execute_result"
    }
   ],
   "source": [
    "# display the expression information\n",
    "expr.exprInfo()"
   ]
  },
  {
   "cell_type": "code",
   "execution_count": null,
   "metadata": {},
   "outputs": [],
   "source": []
  }
 ],
 "metadata": {
  "kernelspec": {
   "display_name": "Python 3",
   "language": "python",
   "name": "python3"
  },
  "language_info": {
   "codemirror_mode": {
    "name": "ipython",
    "version": 3
   },
   "file_extension": ".py",
   "mimetype": "text/x-python",
   "name": "python",
   "nbconvert_exporter": "python",
   "pygments_lexer": "ipython3",
   "version": "3.7.3"
  }
 },
 "nbformat": 4,
 "nbformat_minor": 1
}
