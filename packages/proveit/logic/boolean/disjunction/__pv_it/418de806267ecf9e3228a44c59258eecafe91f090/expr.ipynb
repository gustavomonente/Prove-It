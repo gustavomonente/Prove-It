{
 "cells": [
  {
   "cell_type": "markdown",
   "metadata": {},
   "source": [
    "Expression of type <a class=\"ProveItLink\" href=\"../../../../../../../doc/html/api/proveit.Conditional.html\">Conditional</a>\n",
    "=======================\n",
    "# from context <a class=\"ProveItLink\" href=\"../../_context_.ipynb\">proveit.logic.boolean.disjunction</a>"
   ]
  },
  {
   "cell_type": "code",
   "execution_count": 1,
   "metadata": {},
   "outputs": [],
   "source": [
    "import proveit\n",
    "# Automation is not needed when building an expression:\n",
    "proveit.defaults.automation = False # This will speed things up.\n",
    "proveit.defaults.inline_pngs = False # Makes files smaller.\n",
    "# import Expression classes needed to build the expression\n",
    "from proveit import Conditional, ExprRange, IndexedVar, Variable\n",
    "from proveit._common_ import A, n\n",
    "from proveit.logic import Booleans, Forall, InSet, Or\n",
    "from proveit.number import NaturalsPos, one"
   ]
  },
  {
   "cell_type": "code",
   "execution_count": 2,
   "metadata": {},
   "outputs": [
    {
     "data": {
      "text/html": [
       "<strong id=\"expr\">expr:</strong> <a class=\"ProveItLink\" href=\"expr.ipynb\"><img src=\"expr.png\" style=\"display:inline;vertical-align:middle;\" /></a><br>"
      ],
      "text/plain": [
       "expr: {forall_{A_{1}, ..A_{_a}.., A_{n} in BOOLEANS} ((A_{1} or ..A_{_a}.. or A_{n}) in BOOLEANS) if n in NaturalsPos."
      ]
     },
     "execution_count": 2,
     "metadata": {},
     "output_type": "execute_result"
    }
   ],
   "source": [
    "# build up the expression from sub-expressions\n",
    "subExpr1 = Variable(\"_a\", latexFormat = r\"{_{-}a}\")\n",
    "subExpr2 = ExprRange(subExpr1, IndexedVar(A, subExpr1), one, n)\n",
    "expr = Conditional(Forall([subExpr2], InSet(Or(subExpr2), Booleans), domain = Booleans), InSet(n, NaturalsPos))"
   ]
  },
  {
   "cell_type": "code",
   "execution_count": 3,
   "metadata": {},
   "outputs": [
    {
     "name": "stdout",
     "output_type": "stream",
     "text": [
      "Passed sanity check: built 'expr' is the same as the stored Expression.\n"
     ]
    }
   ],
   "source": [
    "# check that the built expression is the same as the stored expression\n",
    "%check_expr"
   ]
  },
  {
   "cell_type": "code",
   "execution_count": 4,
   "metadata": {},
   "outputs": [
    {
     "name": "stdout",
     "output_type": "stream",
     "text": [
      "\\left\\{\\forall_{A_{1}, \\ldots, A_{n} \\in \\mathbb{B}}~\\left(\\left(A_{1} \\lor \\ldots \\lor A_{n}\\right) \\in \\mathbb{B}\\right) \\textrm{ if } n \\in \\mathbb{N}^+\\right..\n"
     ]
    }
   ],
   "source": [
    "# Show the LaTeX representation of the expression for convenience if you need it.\n",
    "print(expr.latex())"
   ]
  },
  {
   "cell_type": "code",
   "execution_count": 5,
   "metadata": {},
   "outputs": [
    {
     "data": {
      "text/html": [
       "<table><tr><th>&nbsp;</th><th>core type</th><th>sub-expressions</th><th>expression</th></tr>\n",
       "<tr><td>0</td><td>Conditional</td><td>value:&nbsp;1<br>condition:&nbsp;2<br></td><td><a class=\"ProveItLink\" href=\"expr.ipynb\"><img src=\"expr.png\" style=\"display:inline;vertical-align:middle;\" /></a></td></tr>\n",
       "<tr><td>1</td><td>Operation</td><td>operator:&nbsp;3<br>operand:&nbsp;4<br></td><td><a class=\"ProveItLink\" href=\"../f70c6912906179171d9425f5d540d57037e833c70/expr.ipynb\"><img src=\"../f70c6912906179171d9425f5d540d57037e833c70/expr.png\" style=\"display:inline;vertical-align:middle;\" /></a></td></tr>\n",
       "<tr><td>2</td><td>Operation</td><td>operator:&nbsp;23<br>operands:&nbsp;5<br></td><td><a class=\"ProveItLink\" href=\"../a720bba6cdd6f51499c0bd8820ee89528186f3d30/expr.ipynb\"><img src=\"../a720bba6cdd6f51499c0bd8820ee89528186f3d30/expr.png\" style=\"display:inline;vertical-align:middle;\" /></a></td></tr>\n",
       "<tr><td>3</td><td>Literal</td><td></td><td><a class=\"ProveItLink\" href=\"../../../quantification/universal/__pv_it/fd9c772d6675566ed52a6897806f45eb08a4ea910/expr.ipynb\"><img src=\"../../../quantification/universal/__pv_it/fd9c772d6675566ed52a6897806f45eb08a4ea910/expr.png\" style=\"display:inline;vertical-align:middle;\" /></a></td></tr>\n",
       "<tr><td>4</td><td>Lambda</td><td>parameter:&nbsp;18<br>body:&nbsp;6<br></td><td><a class=\"ProveItLink\" href=\"../5ab5603737fd115b3c806cc7a3e60e5b5430df490/expr.ipynb\"><img src=\"../5ab5603737fd115b3c806cc7a3e60e5b5430df490/expr.png\" style=\"display:inline;vertical-align:middle;\" /></a></td></tr>\n",
       "<tr><td>5</td><td>ExprTuple</td><td>22, 7</td><td><a class=\"ProveItLink\" href=\"../e498da148cb0e1035a34d74f79377ecf4d06d21d0/expr.ipynb\"><img src=\"../e498da148cb0e1035a34d74f79377ecf4d06d21d0/expr.png\" style=\"display:inline;vertical-align:middle;\" /></a></td></tr>\n",
       "<tr><td>6</td><td>Conditional</td><td>value:&nbsp;8<br>condition:&nbsp;9<br></td><td><a class=\"ProveItLink\" href=\"../76ff57d995da492f0f4f683a4a9b86d497051e940/expr.ipynb\"><img src=\"../76ff57d995da492f0f4f683a4a9b86d497051e940/expr.png\" style=\"display:inline;vertical-align:middle;\" /></a></td></tr>\n",
       "<tr><td>7</td><td>Literal</td><td></td><td><a class=\"ProveItLink\" href=\"../../../../../number/sets/integer/__pv_it/f6a9f4b6dec6ab4d2dcb6ba1b0ba3cceefc643530/expr.ipynb\"><img src=\"../../../../../number/sets/integer/__pv_it/f6a9f4b6dec6ab4d2dcb6ba1b0ba3cceefc643530/expr.png\" style=\"display:inline;vertical-align:middle;\" /></a></td></tr>\n",
       "<tr><td>8</td><td>Operation</td><td>operator:&nbsp;23<br>operands:&nbsp;10<br></td><td><a class=\"ProveItLink\" href=\"../32dd397ddb83ce8c0014de805cc785d81a1c9b570/expr.ipynb\"><img src=\"../32dd397ddb83ce8c0014de805cc785d81a1c9b570/expr.png\" style=\"display:inline;vertical-align:middle;\" /></a></td></tr>\n",
       "<tr><td>9</td><td>Operation</td><td>operator:&nbsp;11<br>operands:&nbsp;12<br></td><td><a class=\"ProveItLink\" href=\"../724fec358262f728a0dfb3667ba84a6df337bc580/expr.ipynb\"><img src=\"../724fec358262f728a0dfb3667ba84a6df337bc580/expr.png\" style=\"display:inline;vertical-align:middle;\" /></a></td></tr>\n",
       "<tr><td>10</td><td>ExprTuple</td><td>13, 26</td><td><a class=\"ProveItLink\" href=\"../707fada71943ac3651ba8416de0d4c58a8b9015f0/expr.ipynb\"><img src=\"../707fada71943ac3651ba8416de0d4c58a8b9015f0/expr.png\" style=\"display:inline;vertical-align:middle;\" /></a></td></tr>\n",
       "<tr><td>11</td><td>Literal</td><td></td><td><a class=\"ProveItLink\" href=\"../../../conjunction/__pv_it/f41cc6b553210927c09f19a8a39cdf860a5585930/expr.ipynb\"><img src=\"../../../conjunction/__pv_it/f41cc6b553210927c09f19a8a39cdf860a5585930/expr.png\" style=\"display:inline;vertical-align:middle;\" /></a></td></tr>\n",
       "<tr><td>12</td><td>ExprTuple</td><td>14</td><td><a class=\"ProveItLink\" href=\"../6a5ca07e2c6c86dfdae3e43b56f2f6aa19ec212a0/expr.ipynb\"><img src=\"../6a5ca07e2c6c86dfdae3e43b56f2f6aa19ec212a0/expr.png\" style=\"display:inline;vertical-align:middle;\" /></a></td></tr>\n",
       "<tr><td>13</td><td>Operation</td><td>operator:&nbsp;15<br>operands:&nbsp;16<br></td><td><a class=\"ProveItLink\" href=\"../1de1c26429400f2b5f10727d32fc44d3b76d15560/expr.ipynb\"><img src=\"../1de1c26429400f2b5f10727d32fc44d3b76d15560/expr.png\" style=\"display:inline;vertical-align:middle;\" /></a></td></tr>\n",
       "<tr><td>14</td><td>ExprRange</td><td>lambda_map:&nbsp;17<br>start_index:&nbsp;21<br>end_index:&nbsp;22<br></td><td><a class=\"ProveItLink\" href=\"../8b0413411a86052b124652e53ebc7343185cd1a90/expr.ipynb\"><img src=\"../8b0413411a86052b124652e53ebc7343185cd1a90/expr.png\" style=\"display:inline;vertical-align:middle;\" /></a></td></tr>\n",
       "<tr><td>15</td><td>Literal</td><td></td><td><a class=\"ProveItLink\" href=\"../8a6d9fc46c84b3911a71fbae15627dc2acebe2890/expr.ipynb\"><img src=\"../8a6d9fc46c84b3911a71fbae15627dc2acebe2890/expr.png\" style=\"display:inline;vertical-align:middle;\" /></a></td></tr>\n",
       "<tr><td>16</td><td>ExprTuple</td><td>18</td><td><a class=\"ProveItLink\" href=\"../6ab669b8ec246fd98945549255b7977868a56eed0/expr.ipynb\"><img src=\"../6ab669b8ec246fd98945549255b7977868a56eed0/expr.png\" style=\"display:inline;vertical-align:middle;\" /></a></td></tr>\n",
       "<tr><td>17</td><td>Lambda</td><td>parameter:&nbsp;28<br>body:&nbsp;19<br></td><td><a class=\"ProveItLink\" href=\"../e462da948a3a649da62f5e332c58e1cc7cc8ef480/expr.ipynb\"><img src=\"../e462da948a3a649da62f5e332c58e1cc7cc8ef480/expr.png\" style=\"display:inline;vertical-align:middle;\" /></a></td></tr>\n",
       "<tr><td>18</td><td>ExprRange</td><td>lambda_map:&nbsp;20<br>start_index:&nbsp;21<br>end_index:&nbsp;22<br></td><td><a class=\"ProveItLink\" href=\"../59f53156e45b4e094d9044f4b6add184706d40110/expr.ipynb\"><img src=\"../59f53156e45b4e094d9044f4b6add184706d40110/expr.png\" style=\"display:inline;vertical-align:middle;\" /></a></td></tr>\n",
       "<tr><td>19</td><td>Operation</td><td>operator:&nbsp;23<br>operands:&nbsp;24<br></td><td><a class=\"ProveItLink\" href=\"../f777912892d36c4da6d4f3cf378a718568ef0dcc0/expr.ipynb\"><img src=\"../f777912892d36c4da6d4f3cf378a718568ef0dcc0/expr.png\" style=\"display:inline;vertical-align:middle;\" /></a></td></tr>\n",
       "<tr><td>20</td><td>Lambda</td><td>parameter:&nbsp;28<br>body:&nbsp;25<br></td><td><a class=\"ProveItLink\" href=\"../cbf4a2d6122f8f76eeb36bd1c0d8bf52d8e05a560/expr.ipynb\"><img src=\"../cbf4a2d6122f8f76eeb36bd1c0d8bf52d8e05a560/expr.png\" style=\"display:inline;vertical-align:middle;\" /></a></td></tr>\n",
       "<tr><td>21</td><td>Literal</td><td></td><td><a class=\"ProveItLink\" href=\"../../../../../number/numeral/__pv_it/f086f8c372bd40a2458306ddfdbb29f3dc6f63030/expr.ipynb\"><img src=\"../../../../../number/numeral/__pv_it/f086f8c372bd40a2458306ddfdbb29f3dc6f63030/expr.png\" style=\"display:inline;vertical-align:middle;\" /></a></td></tr>\n",
       "<tr><td>22</td><td>Variable</td><td></td><td><a class=\"ProveItLink\" href=\"../../../../../__pv_it/0c1c4cb515e0f4344b1ac06650f349123e526deb0/expr.ipynb\"><img src=\"../../../../../__pv_it/0c1c4cb515e0f4344b1ac06650f349123e526deb0/expr.png\" style=\"display:inline;vertical-align:middle;\" /></a></td></tr>\n",
       "<tr><td>23</td><td>Literal</td><td></td><td><a class=\"ProveItLink\" href=\"../../../../set_theory/membership/__pv_it/7776fc89cb67d0b5b1ec2c0c8e08da5587921ccf0/expr.ipynb\"><img src=\"../../../../set_theory/membership/__pv_it/7776fc89cb67d0b5b1ec2c0c8e08da5587921ccf0/expr.png\" style=\"display:inline;vertical-align:middle;\" /></a></td></tr>\n",
       "<tr><td>24</td><td>ExprTuple</td><td>25, 26</td><td><a class=\"ProveItLink\" href=\"../3cbf41968ea3876165a26f7dcceb2975b91a45470/expr.ipynb\"><img src=\"../3cbf41968ea3876165a26f7dcceb2975b91a45470/expr.png\" style=\"display:inline;vertical-align:middle;\" /></a></td></tr>\n",
       "<tr><td>25</td><td>IndexedVar</td><td>variable:&nbsp;27<br>index:&nbsp;28<br></td><td><a class=\"ProveItLink\" href=\"../a433d6021a2b0d85d326303b1d692b18969c0dc30/expr.ipynb\"><img src=\"../a433d6021a2b0d85d326303b1d692b18969c0dc30/expr.png\" style=\"display:inline;vertical-align:middle;\" /></a></td></tr>\n",
       "<tr><td>26</td><td>Literal</td><td></td><td><a class=\"ProveItLink\" href=\"../../../__pv_it/a3b387936f605fef1b535be3e1116cca8bbfc91b0/expr.ipynb\"><img src=\"../../../__pv_it/a3b387936f605fef1b535be3e1116cca8bbfc91b0/expr.png\" style=\"display:inline;vertical-align:middle;\" /></a></td></tr>\n",
       "<tr><td>27</td><td>Variable</td><td></td><td><a class=\"ProveItLink\" href=\"../../../../../__pv_it/d3792d0d8642fdf1cd2a3a9b32c673ee13653de00/expr.ipynb\"><img src=\"../../../../../__pv_it/d3792d0d8642fdf1cd2a3a9b32c673ee13653de00/expr.png\" style=\"display:inline;vertical-align:middle;\" /></a></td></tr>\n",
       "<tr><td>28</td><td>Variable</td><td></td><td><a class=\"ProveItLink\" href=\"../1e653f789234b245ee7fea7caad998c139d617410/expr.ipynb\"><img src=\"../1e653f789234b245ee7fea7caad998c139d617410/expr.png\" style=\"display:inline;vertical-align:middle;\" /></a></td></tr>\n",
       "</table>\n"
      ],
      "text/plain": [
       "0. {forall_{A_{1}, ..A_{_a}.., A_{n} in BOOLEANS} ((A_{1} or ..A_{_a}.. or A_{n}) in BOOLEANS) if n in NaturalsPos.\n",
       "   core type: Conditional\n",
       "   value: 1\n",
       "   condition: 2\n",
       "1. forall_{A_{1}, ..A_{_a}.., A_{n} in BOOLEANS} ((A_{1} or ..A_{_a}.. or A_{n}) in BOOLEANS)\n",
       "   core type: Operation\n",
       "   operator: 3\n",
       "   operand: 4\n",
       "2. n in NaturalsPos\n",
       "   core type: Operation\n",
       "   operator: 23\n",
       "   operands: 5\n",
       "3. forall\n",
       "   core type: Literal\n",
       "   sub-expressions: \n",
       "4. (A_{1}, ..A_{_a}.., A_{n}) -> {(A_{1} or ..A_{_a}.. or A_{n}) in BOOLEANS if (A_{1} in BOOLEANS) and ..(A_{_a} in BOOLEANS).. and (A_{n} in BOOLEANS).\n",
       "   core type: Lambda\n",
       "   parameter: 18\n",
       "   body: 6\n",
       "5. (n, NaturalsPos)\n",
       "   core type: ExprTuple\n",
       "   sub-expressions: 22, 7\n",
       "6. {(A_{1} or ..A_{_a}.. or A_{n}) in BOOLEANS if (A_{1} in BOOLEANS) and ..(A_{_a} in BOOLEANS).. and (A_{n} in BOOLEANS).\n",
       "   core type: Conditional\n",
       "   value: 8\n",
       "   condition: 9\n",
       "7. NaturalsPos\n",
       "   core type: Literal\n",
       "   sub-expressions: \n",
       "8. (A_{1} or ..A_{_a}.. or A_{n}) in BOOLEANS\n",
       "   core type: Operation\n",
       "   operator: 23\n",
       "   operands: 10\n",
       "9. (A_{1} in BOOLEANS) and ..(A_{_a} in BOOLEANS).. and (A_{n} in BOOLEANS)\n",
       "   core type: Operation\n",
       "   operator: 11\n",
       "   operands: 12\n",
       "10. (A_{1} or ..A_{_a}.. or A_{n}, BOOLEANS)\n",
       "    core type: ExprTuple\n",
       "    sub-expressions: 13, 26\n",
       "11. and\n",
       "    core type: Literal\n",
       "    sub-expressions: \n",
       "12. (A_{1} in BOOLEANS, ..A_{_a} in BOOLEANS.., A_{n} in BOOLEANS)\n",
       "    core type: ExprTuple\n",
       "    sub-expressions: 14\n",
       "13. A_{1} or ..A_{_a}.. or A_{n}\n",
       "    core type: Operation\n",
       "    operator: 15\n",
       "    operands: 16\n",
       "14. (A_{1} in BOOLEANS), ..(A_{_a} in BOOLEANS).., (A_{n} in BOOLEANS)\n",
       "    core type: ExprRange\n",
       "    lambda_map: 17\n",
       "    start_index: 21\n",
       "    end_index: 22\n",
       "15. or\n",
       "    core type: Literal\n",
       "    sub-expressions: \n",
       "16. (A_{1}, ..A_{_a}.., A_{n})\n",
       "    core type: ExprTuple\n",
       "    sub-expressions: 18\n",
       "17. _a -> (A_{_a} in BOOLEANS)\n",
       "    core type: Lambda\n",
       "    parameter: 28\n",
       "    body: 19\n",
       "18. A_{1}, ..A_{_a}.., A_{n}\n",
       "    core type: ExprRange\n",
       "    lambda_map: 20\n",
       "    start_index: 21\n",
       "    end_index: 22\n",
       "19. A_{_a} in BOOLEANS\n",
       "    core type: Operation\n",
       "    operator: 23\n",
       "    operands: 24\n",
       "20. _a -> A_{_a}\n",
       "    core type: Lambda\n",
       "    parameter: 28\n",
       "    body: 25\n",
       "21. 1\n",
       "    core type: Literal\n",
       "    sub-expressions: \n",
       "22. n\n",
       "    core type: Variable\n",
       "    sub-expressions: \n",
       "23. in\n",
       "    core type: Literal\n",
       "    sub-expressions: \n",
       "24. (A_{_a}, BOOLEANS)\n",
       "    core type: ExprTuple\n",
       "    sub-expressions: 25, 26\n",
       "25. A_{_a}\n",
       "    core type: IndexedVar\n",
       "variable: 27\n",
       "index: 28\n",
       "26. BOOLEANS\n",
       "    core type: Literal\n",
       "    sub-expressions: \n",
       "27. A\n",
       "    core type: Variable\n",
       "    sub-expressions: \n",
       "28. _a\n",
       "    core type: Variable\n",
       "    sub-expressions: "
      ]
     },
     "execution_count": 5,
     "metadata": {},
     "output_type": "execute_result"
    }
   ],
   "source": [
    "# display the expression information\n",
    "expr.exprInfo()"
   ]
  },
  {
   "cell_type": "code",
   "execution_count": null,
   "metadata": {},
   "outputs": [],
   "source": []
  }
 ],
 "metadata": {
  "kernelspec": {
   "display_name": "Python 3",
   "language": "python",
   "name": "python3"
  },
  "language_info": {
   "codemirror_mode": {
    "name": "ipython",
    "version": 3
   },
   "file_extension": ".py",
   "mimetype": "text/x-python",
   "name": "python",
   "nbconvert_exporter": "python",
   "pygments_lexer": "ipython3",
   "version": "3.7.3"
  }
 },
 "nbformat": 4,
 "nbformat_minor": 1
}
