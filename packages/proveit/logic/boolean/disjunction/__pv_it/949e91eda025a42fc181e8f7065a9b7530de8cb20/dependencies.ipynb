{
 "cells": [
  {
   "cell_type": "markdown",
   "metadata": {},
   "source": [
    "Axiom Dependencies\n",
    "=======================\n",
    "\n",
    "## <a class=\"ProveItLink\" href=\"../../_context_.ipynb\">proveit.logic.boolean.disjunction</a>.<a class=\"ProveItLink\" href=\"../../_axioms_.ipynb#rightInBool\">rightInBool</a> \n"
   ]
  },
  {
   "cell_type": "code",
   "execution_count": 1,
   "metadata": {},
   "outputs": [],
   "source": [
    "import proveit\n",
    "# Automation is not needed when querying dependencies:\n",
    "proveit.defaults.automation = False # This will speed things up.\n",
    "proveit.defaults.inline_pngs = False # Makes files smaller.\n",
    "from proveit.logic.boolean.disjunction._axioms_ import rightInBool"
   ]
  },
  {
   "cell_type": "code",
   "execution_count": 2,
   "metadata": {},
   "outputs": [
    {
     "data": {
      "text/html": [
       "<h3>Theorems that depend directly on rightInBool</h3>"
      ],
      "text/plain": [
       "<IPython.core.display.HTML object>"
      ]
     },
     "metadata": {},
     "output_type": "display_data"
    },
    {
     "data": {
      "text/html": [
       "<dl>"
      ],
      "text/plain": [
       "<IPython.core.display.HTML object>"
      ]
     },
     "metadata": {},
     "output_type": "display_data"
    },
    {
     "data": {
      "text/html": [
       "<dt><a class=\"ProveItLink\" href=\"../../_proofs_/notLeftIfNeither.ipynb\">proveit.logic.boolean.disjunction.notLeftIfNeither</a></dt><dd><a class=\"ProveItLink\" href=\"../5cb8a36de8c6d86ddcc7982880d4de9a99b294610/expr.ipynb\"><img src=\"../5cb8a36de8c6d86ddcc7982880d4de9a99b294610/expr.png\" style=\"display:inline;vertical-align:middle;\" /></a></dd>"
      ],
      "text/plain": [
       "<IPython.core.display.HTML object>"
      ]
     },
     "metadata": {},
     "output_type": "display_data"
    },
    {
     "data": {
      "text/html": [
       "<dt><a class=\"ProveItLink\" href=\"../../_proofs_/notRightIfNeither.ipynb\">proveit.logic.boolean.disjunction.notRightIfNeither</a></dt><dd><a class=\"ProveItLink\" href=\"../7c84145a71523f7a3ce8911a04d39dfcdf665b380/expr.ipynb\"><img src=\"../7c84145a71523f7a3ce8911a04d39dfcdf665b380/expr.png\" style=\"display:inline;vertical-align:middle;\" /></a></dd>"
      ],
      "text/plain": [
       "<IPython.core.display.HTML object>"
      ]
     },
     "metadata": {},
     "output_type": "display_data"
    },
    {
     "data": {
      "text/html": [
       "<dt><a class=\"ProveItLink\" href=\"../../../_proofs_/foldForallOverBool.ipynb\">proveit.logic.boolean.foldForallOverBool</a></dt><dd><a class=\"ProveItLink\" href=\"../../../__pv_it/c9c452c520f370bac18b5f339b7ec8a2c1939e780/expr.ipynb\"><img src=\"../../../__pv_it/c9c452c520f370bac18b5f339b7ec8a2c1939e780/expr.png\" style=\"display:inline;vertical-align:middle;\" /></a></dd>"
      ],
      "text/plain": [
       "<IPython.core.display.HTML object>"
      ]
     },
     "metadata": {},
     "output_type": "display_data"
    },
    {
     "data": {
      "text/html": [
       "<dt><a class=\"ProveItLink\" href=\"../../../_proofs_/unfoldInBool.ipynb\">proveit.logic.boolean.unfoldInBool</a></dt><dd><a class=\"ProveItLink\" href=\"../../../__pv_it/bbc5e2fcc1150e79da44b28fc9b1c538b74c9f1d0/expr.ipynb\"><img src=\"../../../__pv_it/bbc5e2fcc1150e79da44b28fc9b1c538b74c9f1d0/expr.png\" style=\"display:inline;vertical-align:middle;\" /></a></dd>"
      ],
      "text/plain": [
       "<IPython.core.display.HTML object>"
      ]
     },
     "metadata": {},
     "output_type": "display_data"
    },
    {
     "data": {
      "text/html": [
       "<dt><a class=\"ProveItLink\" href=\"../../../../../number/ordering/_proofs_/transitivityGreaterEqGreater.ipynb\">proveit.number.ordering.transitivityGreaterEqGreater</a></dt><dd><a class=\"ProveItLink\" href=\"../../../../../number/ordering/__pv_it/c5da44f4d4e60ef529638d5ff978edeafe88d1f90/expr.ipynb\"><img src=\"../../../../../number/ordering/__pv_it/c5da44f4d4e60ef529638d5ff978edeafe88d1f90/expr.png\" style=\"display:inline;vertical-align:middle;\" /></a></dd>"
      ],
      "text/plain": [
       "<IPython.core.display.HTML object>"
      ]
     },
     "metadata": {},
     "output_type": "display_data"
    },
    {
     "data": {
      "text/html": [
       "<dt><a class=\"ProveItLink\" href=\"../../../../../number/ordering/_proofs_/transitivityGreaterEqGreaterEq.ipynb\">proveit.number.ordering.transitivityGreaterEqGreaterEq</a></dt><dd><a class=\"ProveItLink\" href=\"../../../../../number/ordering/__pv_it/fcfb12bfd015c8bafb25b25e0644b750436f98640/expr.ipynb\"><img src=\"../../../../../number/ordering/__pv_it/fcfb12bfd015c8bafb25b25e0644b750436f98640/expr.png\" style=\"display:inline;vertical-align:middle;\" /></a></dd>"
      ],
      "text/plain": [
       "<IPython.core.display.HTML object>"
      ]
     },
     "metadata": {},
     "output_type": "display_data"
    },
    {
     "data": {
      "text/html": [
       "<dt><a class=\"ProveItLink\" href=\"../../../../../number/ordering/_proofs_/transitivityGreaterGreaterEq.ipynb\">proveit.number.ordering.transitivityGreaterGreaterEq</a></dt><dd><a class=\"ProveItLink\" href=\"../../../../../number/ordering/__pv_it/ca20931f3e0cc5ca0dc1ccf3c162e3c88fa540fe0/expr.ipynb\"><img src=\"../../../../../number/ordering/__pv_it/ca20931f3e0cc5ca0dc1ccf3c162e3c88fa540fe0/expr.png\" style=\"display:inline;vertical-align:middle;\" /></a></dd>"
      ],
      "text/plain": [
       "<IPython.core.display.HTML object>"
      ]
     },
     "metadata": {},
     "output_type": "display_data"
    },
    {
     "data": {
      "text/html": [
       "<dt><a class=\"ProveItLink\" href=\"../../../../../number/ordering/_proofs_/transitivityLessEqLess.ipynb\">proveit.number.ordering.transitivityLessEqLess</a></dt><dd><a class=\"ProveItLink\" href=\"../../../../../number/ordering/__pv_it/a5c785bfd8a4669aa1679d1a5c659d9469b0f4030/expr.ipynb\"><img src=\"../../../../../number/ordering/__pv_it/a5c785bfd8a4669aa1679d1a5c659d9469b0f4030/expr.png\" style=\"display:inline;vertical-align:middle;\" /></a></dd>"
      ],
      "text/plain": [
       "<IPython.core.display.HTML object>"
      ]
     },
     "metadata": {},
     "output_type": "display_data"
    },
    {
     "data": {
      "text/html": [
       "<dt><a class=\"ProveItLink\" href=\"../../../../../number/ordering/_proofs_/transitivityLessEqLessEq.ipynb\">proveit.number.ordering.transitivityLessEqLessEq</a></dt><dd><a class=\"ProveItLink\" href=\"../../../../../number/ordering/__pv_it/9efc47d981685e450d3a4adba1ca9cbd02d79d350/expr.ipynb\"><img src=\"../../../../../number/ordering/__pv_it/9efc47d981685e450d3a4adba1ca9cbd02d79d350/expr.png\" style=\"display:inline;vertical-align:middle;\" /></a></dd>"
      ],
      "text/plain": [
       "<IPython.core.display.HTML object>"
      ]
     },
     "metadata": {},
     "output_type": "display_data"
    },
    {
     "data": {
      "text/html": [
       "<dt><a class=\"ProveItLink\" href=\"../../../../../number/ordering/_proofs_/transitivityLessLessEq.ipynb\">proveit.number.ordering.transitivityLessLessEq</a></dt><dd><a class=\"ProveItLink\" href=\"../../../../../number/ordering/__pv_it/6c7d368d86a5e80526da74448726349c016ad24b0/expr.ipynb\"><img src=\"../../../../../number/ordering/__pv_it/6c7d368d86a5e80526da74448726349c016ad24b0/expr.png\" style=\"display:inline;vertical-align:middle;\" /></a></dd>"
      ],
      "text/plain": [
       "<IPython.core.display.HTML object>"
      ]
     },
     "metadata": {},
     "output_type": "display_data"
    },
    {
     "data": {
      "text/html": [
       "</dl>"
      ],
      "text/plain": [
       "<IPython.core.display.HTML object>"
      ]
     },
     "metadata": {},
     "output_type": "display_data"
    }
   ],
   "source": [
    "%dependencies rightInBool"
   ]
  }
 ],
 "metadata": {
  "kernelspec": {
   "display_name": "Python 3",
   "language": "python",
   "name": "python3"
  },
  "language_info": {
   "codemirror_mode": {
    "name": "ipython",
    "version": 3
   },
   "file_extension": ".py",
   "mimetype": "text/x-python",
   "name": "python",
   "nbconvert_exporter": "python",
   "pygments_lexer": "ipython3",
   "version": "3.7.3"
  }
 },
 "nbformat": 4,
 "nbformat_minor": 1
}
