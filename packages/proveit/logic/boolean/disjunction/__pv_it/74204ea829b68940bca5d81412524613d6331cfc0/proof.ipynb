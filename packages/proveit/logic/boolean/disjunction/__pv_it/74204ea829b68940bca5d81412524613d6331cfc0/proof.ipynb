{
 "cells": [
  {
   "cell_type": "markdown",
   "metadata": {},
   "source": [
    "Show the Proof\n",
    "========"
   ]
  },
  {
   "cell_type": "code",
   "execution_count": 1,
   "metadata": {},
   "outputs": [
    {
     "data": {
      "text/html": [
       "<table><tr><th>&nbsp;</th><th>step type</th><th>requirements</th><th>statement</th></tr>\n",
       "<tr><td><a name=\"proveit.logic.boolean.disjunction.74204ea829b68940bca5d81412524613d6331cfc0_step0\">0</a></td><td>instantiation</td><td><a href=\"#proveit.logic.boolean.disjunction.74204ea829b68940bca5d81412524613d6331cfc0_step1\">1</a>, <a href=\"#proveit.logic.boolean.disjunction.74204ea829b68940bca5d81412524613d6331cfc0_step2\">2</a>, <a href=\"#proveit.logic.boolean.disjunction.74204ea829b68940bca5d81412524613d6331cfc0_step3\">3</a></td><td><span style=\"font-size:20px;\"> <a class=\"ProveItLink\" href=\"proof.ipynb\" style=\"text-decoration: none\">&#x22A2;&nbsp;</a><a class=\"ProveItLink\" href=\"../9f2737f2f251ce24426bec42dd8d5e387fd775340/expr.ipynb\"><img src=\"../9f2737f2f251ce24426bec42dd8d5e387fd775340/expr.png\" style=\"display:inline;vertical-align:middle;\" /></a></span></td></tr>\n",
       "<tr><td>&nbsp;</td><td colspan=4 style=\"text-align:left\"><span style=\"font-size:20px;\"><a class=\"ProveItLink\" href=\"../6adf35e534b0f74f25bdd03c03dfd88a84b3ace50/expr.ipynb\"><img src=\"../6adf35e534b0f74f25bdd03c03dfd88a84b3ace50/expr.png\" style=\"display:inline;vertical-align:middle;\" /></a> : <a class=\"ProveItLink\" href=\"../618602e4d331974689a6ccf1222d752ee993f0ac0/expr.ipynb\"><img src=\"../618602e4d331974689a6ccf1222d752ee993f0ac0/expr.png\" style=\"display:inline;vertical-align:middle;\" /></a>, <a class=\"ProveItLink\" href=\"../../../../../__pv_it/72df168d2bfb4e0140af90912ebf83b13772060b0/expr.ipynb\"><img src=\"../../../../../__pv_it/72df168d2bfb4e0140af90912ebf83b13772060b0/expr.png\" style=\"display:inline;vertical-align:middle;\" /></a> : <a class=\"ProveItLink\" href=\"../5837119ad915bd6003b4cfdbc9b2d832edd01c6d0/expr.ipynb\"><img src=\"../5837119ad915bd6003b4cfdbc9b2d832edd01c6d0/expr.png\" style=\"display:inline;vertical-align:middle;\" /></a>, <a class=\"ProveItLink\" href=\"../../../../../__pv_it/c6e291955561f22a0e6708fd793ea93f1c7dbb5d0/expr.ipynb\"><img src=\"../../../../../__pv_it/c6e291955561f22a0e6708fd793ea93f1c7dbb5d0/expr.png\" style=\"display:inline;vertical-align:middle;\" /></a> : <a class=\"ProveItLink\" href=\"../fd20b383a49e7e2f1ea34913b367d99799d196a90/expr.ipynb\"><img src=\"../fd20b383a49e7e2f1ea34913b367d99799d196a90/expr.png\" style=\"display:inline;vertical-align:middle;\" /></a></span></td></tr><tr><td><a name=\"proveit.logic.boolean.disjunction.74204ea829b68940bca5d81412524613d6331cfc0_step1\">1</a></td><td>theorem</td><td></td><td><span style=\"font-size:20px;\"> <a class=\"ProveItLink\" href=\"../../../../equality/_proofs_/subLeftSideInto.ipynb\" style=\"text-decoration: none\">&#x22A2;&nbsp;</a><a class=\"ProveItLink\" href=\"../b045adeaf94fff26420abf17195299a9ce10046c0/expr.ipynb\"><img src=\"../b045adeaf94fff26420abf17195299a9ce10046c0/expr.png\" style=\"display:inline;vertical-align:middle;\" /></a></span></td></tr>\n",
       "<tr><td>&nbsp;</td><td colspan=4 style-\"text-align:left\"><a class=\"ProveItLink\" href=\"../../../../equality/_proofs_/subLeftSideInto.ipynb\">proveit.logic.equality.subLeftSideInto</a></td></tr><tr><td><a name=\"proveit.logic.boolean.disjunction.74204ea829b68940bca5d81412524613d6331cfc0_step2\">2</a></td><td>axiom</td><td></td><td><span style=\"font-size:20px;\"> <a class=\"ProveItLink\" href=\"../../_axioms_.ipynb#orFF\" style=\"text-decoration: none\">&#x22A2;&nbsp;</a><a class=\"ProveItLink\" href=\"../157e538b35995d1bc78bc7129e3e67c586df31e00/expr.ipynb\"><img src=\"../157e538b35995d1bc78bc7129e3e67c586df31e00/expr.png\" style=\"display:inline;vertical-align:middle;\" /></a></span></td></tr>\n",
       "<tr><td>&nbsp;</td><td colspan=4 style-\"text-align:left\"><a class=\"ProveItLink\" href=\"../../_axioms_.ipynb#orFF\">proveit.logic.boolean.disjunction.orFF</a></td></tr><tr><td><a name=\"proveit.logic.boolean.disjunction.74204ea829b68940bca5d81412524613d6331cfc0_step3\">3</a></td><td>instantiation</td><td><a href=\"#proveit.logic.boolean.disjunction.74204ea829b68940bca5d81412524613d6331cfc0_step4\">4</a>, <a href=\"#proveit.logic.boolean.disjunction.74204ea829b68940bca5d81412524613d6331cfc0_step5\">5</a></td><td><span style=\"font-size:20px;\"> <a class=\"ProveItLink\" href=\"../838fc395d91d609c8617a9e77ec68ee85e01e3d80/proof.ipynb\" style=\"text-decoration: none\">&#x22A2;&nbsp;</a><a class=\"ProveItLink\" href=\"../0f24f6160edb32305020445516f6c4da45d67fc80/expr.ipynb\"><img src=\"../0f24f6160edb32305020445516f6c4da45d67fc80/expr.png\" style=\"display:inline;vertical-align:middle;\" /></a></span></td></tr>\n",
       "<tr><td>&nbsp;</td><td colspan=4 style=\"text-align:left\"><span style=\"font-size:20px;\"><a class=\"ProveItLink\" href=\"../../../../../__pv_it/d3792d0d8642fdf1cd2a3a9b32c673ee13653de00/expr.ipynb\"><img src=\"../../../../../__pv_it/d3792d0d8642fdf1cd2a3a9b32c673ee13653de00/expr.png\" style=\"display:inline;vertical-align:middle;\" /></a> : <a class=\"ProveItLink\" href=\"../../../__pv_it/83a1ddf0f64531c80e7f41ea6b904214668818b30/expr.ipynb\"><img src=\"../../../__pv_it/83a1ddf0f64531c80e7f41ea6b904214668818b30/expr.png\" style=\"display:inline;vertical-align:middle;\" /></a></span></td></tr><tr><td><a name=\"proveit.logic.boolean.disjunction.74204ea829b68940bca5d81412524613d6331cfc0_step4\">4</a></td><td>theorem</td><td></td><td><span style=\"font-size:20px;\"> <a class=\"ProveItLink\" href=\"../../_proofs_/unaryOrLemma.ipynb\" style=\"text-decoration: none\">&#x22A2;&nbsp;</a><a class=\"ProveItLink\" href=\"../76e0f1d6f437b377accc1d6bf89b6e764903614d0/expr.ipynb\"><img src=\"../76e0f1d6f437b377accc1d6bf89b6e764903614d0/expr.png\" style=\"display:inline;vertical-align:middle;\" /></a></span></td></tr>\n",
       "<tr><td>&nbsp;</td><td colspan=4 style-\"text-align:left\"><a class=\"ProveItLink\" href=\"../../_proofs_/unaryOrLemma.ipynb\">proveit.logic.boolean.disjunction.unaryOrLemma</a></td></tr><tr><td><a name=\"proveit.logic.boolean.disjunction.74204ea829b68940bca5d81412524613d6331cfc0_step5\">5</a></td><td>theorem</td><td></td><td><span style=\"font-size:20px;\"> <a class=\"ProveItLink\" href=\"../../../_proofs_/falseInBool.ipynb\" style=\"text-decoration: none\">&#x22A2;&nbsp;</a><a class=\"ProveItLink\" href=\"../2bb7f56da42f89a87e1f899e78805ed2ca5c4d690/expr.ipynb\"><img src=\"../2bb7f56da42f89a87e1f899e78805ed2ca5c4d690/expr.png\" style=\"display:inline;vertical-align:middle;\" /></a></span></td></tr>\n",
       "<tr><td>&nbsp;</td><td colspan=4 style-\"text-align:left\"><a class=\"ProveItLink\" href=\"../../../_proofs_/falseInBool.ipynb\">proveit.logic.boolean.falseInBool</a></td></tr></table>"
      ],
      "text/plain": [
       "<proveit._core_.proof._ShowProof at 0x7f5b8586dda0>"
      ]
     },
     "execution_count": 1,
     "metadata": {},
     "output_type": "execute_result"
    }
   ],
   "source": [
    "import proveit\n",
    "# Automation is not needed when only showing a stored proof:\n",
    "proveit.defaults.automation = False # This will speed things up.\n",
    "proveit.defaults.inline_pngs = False # Makes files smaller.\n",
    "%show_proof"
   ]
  },
  {
   "cell_type": "code",
   "execution_count": null,
   "metadata": {},
   "outputs": [],
   "source": []
  }
 ],
 "metadata": {
  "kernelspec": {
   "display_name": "Python 3",
   "language": "python",
   "name": "python3"
  },
  "language_info": {
   "codemirror_mode": {
    "name": "ipython",
    "version": 3
   },
   "file_extension": ".py",
   "mimetype": "text/x-python",
   "name": "python",
   "nbconvert_exporter": "python",
   "pygments_lexer": "ipython3",
   "version": "3.7.3"
  }
 },
 "nbformat": 4,
 "nbformat_minor": 1
}
