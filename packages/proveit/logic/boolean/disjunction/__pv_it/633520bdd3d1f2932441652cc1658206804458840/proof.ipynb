{
 "cells": [
  {
   "cell_type": "markdown",
   "metadata": {},
   "source": [
    "Show the Proof\n",
    "========"
   ]
  },
  {
   "cell_type": "code",
   "execution_count": 1,
   "metadata": {},
   "outputs": [
    {
     "data": {
      "text/html": [
       "<table><tr><th>&nbsp;</th><th>step type</th><th>requirements</th><th>statement</th></tr>\n",
       "<tr><td><a name=\"proveit.logic.boolean.disjunction.633520bdd3d1f2932441652cc1658206804458840_step0\">0</a></td><td>assumption</td><td></td><td><span style=\"font-size:20px;\"><a class=\"ProveItLink\" href=\"../6073bd11f60d37037ce4490b7963f0f2732647a70/expr.ipynb\"><img src=\"../6073bd11f60d37037ce4490b7963f0f2732647a70/expr.png\" style=\"display:inline;vertical-align:middle;\" /></a> <a class=\"ProveItLink\" href=\"proof.ipynb\" style=\"text-decoration: none\">&#x22A2;&nbsp;</a><a class=\"ProveItLink\" href=\"../15b70137523d7387921b03859cc60e4f1e10597d0/expr.ipynb\"><img src=\"../15b70137523d7387921b03859cc60e4f1e10597d0/expr.png\" style=\"display:inline;vertical-align:middle;\" /></a></span></td></tr>\n",
       "</table>"
      ],
      "text/plain": [
       "<proveit._core_.proof._ShowProof at 0x7f5b8ba5f908>"
      ]
     },
     "execution_count": 1,
     "metadata": {},
     "output_type": "execute_result"
    }
   ],
   "source": [
    "import proveit\n",
    "# Automation is not needed when only showing a stored proof:\n",
    "proveit.defaults.automation = False # This will speed things up.\n",
    "proveit.defaults.inline_pngs = False # Makes files smaller.\n",
    "%show_proof"
   ]
  },
  {
   "cell_type": "code",
   "execution_count": null,
   "metadata": {},
   "outputs": [],
   "source": []
  }
 ],
 "metadata": {
  "kernelspec": {
   "display_name": "Python 3",
   "language": "python",
   "name": "python3"
  },
  "language_info": {
   "codemirror_mode": {
    "name": "ipython",
    "version": 3
   },
   "file_extension": ".py",
   "mimetype": "text/x-python",
   "name": "python",
   "nbconvert_exporter": "python",
   "pygments_lexer": "ipython3",
   "version": "3.7.3"
  }
 },
 "nbformat": 4,
 "nbformat_minor": 1
}
