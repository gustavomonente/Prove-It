{
 "cells": [
  {
   "cell_type": "markdown",
   "metadata": {},
   "source": [
    "Show the Proof\n",
    "========"
   ]
  },
  {
   "cell_type": "code",
   "execution_count": 1,
   "metadata": {},
   "outputs": [
    {
     "data": {
      "text/html": [
       "<table><tr><th>&nbsp;</th><th>step type</th><th>requirements</th><th>statement</th></tr>\n",
       "<tr><td><a name=\"proveit.logic.boolean.disjunction.999796f7bd16f0509373f91374f4ef620a2e87cf0_step0\">0</a></td><td>instantiation</td><td><a href=\"#proveit.logic.boolean.disjunction.999796f7bd16f0509373f91374f4ef620a2e87cf0_step1\">1</a>, <a href=\"#proveit.logic.boolean.disjunction.999796f7bd16f0509373f91374f4ef620a2e87cf0_step2\">2</a></td><td><span style=\"font-size:20px;\"> <a class=\"ProveItLink\" href=\"proof.ipynb\" style=\"text-decoration: none\">&#x22A2;&nbsp;</a><a class=\"ProveItLink\" href=\"../c1debe2a895b92c6cd2a1651656b8ca711ed38ec0/expr.ipynb\"><img src=\"../c1debe2a895b92c6cd2a1651656b8ca711ed38ec0/expr.png\" style=\"display:inline;vertical-align:middle;\" /></a></span></td></tr>\n",
       "<tr><td>&nbsp;</td><td colspan=4 style=\"text-align:left\"><span style=\"font-size:20px;\"><a class=\"ProveItLink\" href=\"../../../../../__pv_it/6e8a38e9a7e2b6af352562cd77e0eb4751f142620/expr.ipynb\"><img src=\"../../../../../__pv_it/6e8a38e9a7e2b6af352562cd77e0eb4751f142620/expr.png\" style=\"display:inline;vertical-align:middle;\" /></a> : <a class=\"ProveItLink\" href=\"../../../../../number/numeral/__pv_it/32801785a546fd942457f8cd430f52e750ed8f980/expr.ipynb\"><img src=\"../../../../../number/numeral/__pv_it/32801785a546fd942457f8cd430f52e750ed8f980/expr.png\" style=\"display:inline;vertical-align:middle;\" /></a>, <a class=\"ProveItLink\" href=\"../../../../../__pv_it/d3792d0d8642fdf1cd2a3a9b32c673ee13653de00/expr.ipynb\"><img src=\"../../../../../__pv_it/d3792d0d8642fdf1cd2a3a9b32c673ee13653de00/expr.png\" style=\"display:inline;vertical-align:middle;\" /></a> : <a class=\"ProveItLink\" href=\"../../../../../__pv_it/dcb5a3e430485237dfe486162b026a4affb149300/expr.ipynb\"><img src=\"../../../../../__pv_it/dcb5a3e430485237dfe486162b026a4affb149300/expr.png\" style=\"display:inline;vertical-align:middle;\" /></a></span></td></tr><tr><td><a name=\"proveit.logic.boolean.disjunction.999796f7bd16f0509373f91374f4ef620a2e87cf0_step1\">1</a></td><td>theorem</td><td></td><td><span style=\"font-size:20px;\"> <a class=\"ProveItLink\" href=\"../../_proofs_/closure.ipynb\" style=\"text-decoration: none\">&#x22A2;&nbsp;</a><a class=\"ProveItLink\" href=\"../7caf76cbf97a353d3f414ffd8c4a2e261bfcd16a0/expr.ipynb\"><img src=\"../7caf76cbf97a353d3f414ffd8c4a2e261bfcd16a0/expr.png\" style=\"display:inline;vertical-align:middle;\" /></a></span></td></tr>\n",
       "<tr><td>&nbsp;</td><td colspan=4 style-\"text-align:left\"><a class=\"ProveItLink\" href=\"../../_proofs_/closure.ipynb\">proveit.logic.boolean.disjunction.closure</a></td></tr><tr><td><a name=\"proveit.logic.boolean.disjunction.999796f7bd16f0509373f91374f4ef620a2e87cf0_step2\">2</a></td><td>theorem</td><td></td><td><span style=\"font-size:20px;\"> <a class=\"ProveItLink\" href=\"../../../../../number/numeral/deci/_proofs_/posnat4.ipynb\" style=\"text-decoration: none\">&#x22A2;&nbsp;</a><a class=\"ProveItLink\" href=\"../19e61fb5d88de8da7347db39628420a26ae102700/expr.ipynb\"><img src=\"../19e61fb5d88de8da7347db39628420a26ae102700/expr.png\" style=\"display:inline;vertical-align:middle;\" /></a></span></td></tr>\n",
       "<tr><td>&nbsp;</td><td colspan=4 style-\"text-align:left\"><a class=\"ProveItLink\" href=\"../../../../../number/numeral/deci/_proofs_/posnat4.ipynb\">proveit.number.numeral.deci.posnat4</a></td></tr></table>"
      ],
      "text/plain": [
       "<proveit._core_.proof._ShowProof at 0x7f5b8ed4e7f0>"
      ]
     },
     "execution_count": 1,
     "metadata": {},
     "output_type": "execute_result"
    }
   ],
   "source": [
    "import proveit\n",
    "# Automation is not needed when only showing a stored proof:\n",
    "proveit.defaults.automation = False # This will speed things up.\n",
    "proveit.defaults.inline_pngs = False # Makes files smaller.\n",
    "%show_proof"
   ]
  },
  {
   "cell_type": "code",
   "execution_count": null,
   "metadata": {},
   "outputs": [],
   "source": []
  }
 ],
 "metadata": {
  "kernelspec": {
   "display_name": "Python 3",
   "language": "python",
   "name": "python3"
  },
  "language_info": {
   "codemirror_mode": {
    "name": "ipython",
    "version": 3
   },
   "file_extension": ".py",
   "mimetype": "text/x-python",
   "name": "python",
   "nbconvert_exporter": "python",
   "pygments_lexer": "ipython3",
   "version": "3.7.3"
  }
 },
 "nbformat": 4,
 "nbformat_minor": 1
}
