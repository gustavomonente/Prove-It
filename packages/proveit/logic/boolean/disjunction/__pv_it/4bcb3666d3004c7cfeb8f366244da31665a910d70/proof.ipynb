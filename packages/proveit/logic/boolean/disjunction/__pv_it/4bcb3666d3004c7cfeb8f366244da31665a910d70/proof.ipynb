{
 "cells": [
  {
   "cell_type": "markdown",
   "metadata": {},
   "source": [
    "Show the Proof\n",
    "========"
   ]
  },
  {
   "cell_type": "code",
   "execution_count": 1,
   "metadata": {},
   "outputs": [
    {
     "data": {
      "text/html": [
       "<table><tr><th>&nbsp;</th><th>step type</th><th>requirements</th><th>statement</th></tr>\n",
       "<tr><td><a name=\"proveit.logic.boolean.disjunction.4bcb3666d3004c7cfeb8f366244da31665a910d70_step0\">0</a></td><td>instantiation</td><td><a href=\"#proveit.logic.boolean.disjunction.4bcb3666d3004c7cfeb8f366244da31665a910d70_step1\">1</a>, <a href=\"#proveit.logic.boolean.disjunction.4bcb3666d3004c7cfeb8f366244da31665a910d70_step2\">2</a>, <a href=\"#proveit.logic.boolean.disjunction.4bcb3666d3004c7cfeb8f366244da31665a910d70_step3\">3</a>, <a href=\"#proveit.logic.boolean.disjunction.4bcb3666d3004c7cfeb8f366244da31665a910d70_step4\">4</a>, <a href=\"#proveit.logic.boolean.disjunction.4bcb3666d3004c7cfeb8f366244da31665a910d70_step5\">5</a>, <a href=\"#proveit.logic.boolean.disjunction.4bcb3666d3004c7cfeb8f366244da31665a910d70_step6\">6</a></td><td><span style=\"font-size:20px;\"><a class=\"ProveItLink\" href=\"../6e173687068fdab946303b94e4f89cd6a077c78c0/expr.ipynb\"><img src=\"../6e173687068fdab946303b94e4f89cd6a077c78c0/expr.png\" style=\"display:inline;vertical-align:middle;\" /></a> <a class=\"ProveItLink\" href=\"proof.ipynb\" style=\"text-decoration: none\">&#x22A2;&nbsp;</a><a class=\"ProveItLink\" href=\"../../../../../__pv_it/dcb5a3e430485237dfe486162b026a4affb149300/expr.ipynb\"><img src=\"../../../../../__pv_it/dcb5a3e430485237dfe486162b026a4affb149300/expr.png\" style=\"display:inline;vertical-align:middle;\" /></a></span></td></tr>\n",
       "<tr><td>&nbsp;</td><td colspan=4 style=\"text-align:left\"><span style=\"font-size:20px;\"><a class=\"ProveItLink\" href=\"../../../../../__pv_it/d3792d0d8642fdf1cd2a3a9b32c673ee13653de00/expr.ipynb\"><img src=\"../../../../../__pv_it/d3792d0d8642fdf1cd2a3a9b32c673ee13653de00/expr.png\" style=\"display:inline;vertical-align:middle;\" /></a> : <a class=\"ProveItLink\" href=\"../../../../../__pv_it/d3792d0d8642fdf1cd2a3a9b32c673ee13653de00/expr.ipynb\"><img src=\"../../../../../__pv_it/d3792d0d8642fdf1cd2a3a9b32c673ee13653de00/expr.png\" style=\"display:inline;vertical-align:middle;\" /></a>, <a class=\"ProveItLink\" href=\"../../../../../__pv_it/4d98b438710c5ada9ffa4646bb123a7d0e69ec000/expr.ipynb\"><img src=\"../../../../../__pv_it/4d98b438710c5ada9ffa4646bb123a7d0e69ec000/expr.png\" style=\"display:inline;vertical-align:middle;\" /></a> : <a class=\"ProveItLink\" href=\"../../../../../__pv_it/4d98b438710c5ada9ffa4646bb123a7d0e69ec000/expr.ipynb\"><img src=\"../../../../../__pv_it/4d98b438710c5ada9ffa4646bb123a7d0e69ec000/expr.png\" style=\"display:inline;vertical-align:middle;\" /></a>, <a class=\"ProveItLink\" href=\"../../../../../__pv_it/dcb5a3e430485237dfe486162b026a4affb149300/expr.ipynb\"><img src=\"../../../../../__pv_it/dcb5a3e430485237dfe486162b026a4affb149300/expr.png\" style=\"display:inline;vertical-align:middle;\" /></a> : <a class=\"ProveItLink\" href=\"../../../../../__pv_it/dcb5a3e430485237dfe486162b026a4affb149300/expr.ipynb\"><img src=\"../../../../../__pv_it/dcb5a3e430485237dfe486162b026a4affb149300/expr.png\" style=\"display:inline;vertical-align:middle;\" /></a></span></td></tr><tr><td><a name=\"proveit.logic.boolean.disjunction.4bcb3666d3004c7cfeb8f366244da31665a910d70_step1\">1</a></td><td>theorem</td><td></td><td><span style=\"font-size:20px;\"> <a class=\"ProveItLink\" href=\"../../_proofs_/singularConstructiveDilemma.ipynb\" style=\"text-decoration: none\">&#x22A2;&nbsp;</a><a class=\"ProveItLink\" href=\"../f8c4721f7e7112038f0ba08afa6894a83010cd840/expr.ipynb\"><img src=\"../f8c4721f7e7112038f0ba08afa6894a83010cd840/expr.png\" style=\"display:inline;vertical-align:middle;\" /></a></span></td></tr>\n",
       "<tr><td>&nbsp;</td><td colspan=4 style-\"text-align:left\"><a class=\"ProveItLink\" href=\"../../_proofs_/singularConstructiveDilemma.ipynb\">proveit.logic.boolean.disjunction.singularConstructiveDilemma</a></td></tr><tr><td><a name=\"proveit.logic.boolean.disjunction.4bcb3666d3004c7cfeb8f366244da31665a910d70_step2\">2</a></td><td>assumption</td><td></td><td><span style=\"font-size:20px;\"><a class=\"ProveItLink\" href=\"../24691600bb1d17fdc591a87dbe69a7a6b4e196f10/expr.ipynb\"><img src=\"../24691600bb1d17fdc591a87dbe69a7a6b4e196f10/expr.png\" style=\"display:inline;vertical-align:middle;\" /></a> <a class=\"ProveItLink\" href=\"../0340c064c83c6205f84cc244ce9c47bf225a315f0/proof.ipynb\" style=\"text-decoration: none\">&#x22A2;&nbsp;</a><a class=\"ProveItLink\" href=\"../../../../../__pv_it/c9b4e272090c87d2bafac1557987ced3b9de5bb70/expr.ipynb\"><img src=\"../../../../../__pv_it/c9b4e272090c87d2bafac1557987ced3b9de5bb70/expr.png\" style=\"display:inline;vertical-align:middle;\" /></a></span></td></tr>\n",
       "<tr><td><a name=\"proveit.logic.boolean.disjunction.4bcb3666d3004c7cfeb8f366244da31665a910d70_step3\">3</a></td><td>assumption</td><td></td><td><span style=\"font-size:20px;\"><a class=\"ProveItLink\" href=\"../7c43ace2cc62a73d611e33e76ff144339afb8c840/expr.ipynb\"><img src=\"../7c43ace2cc62a73d611e33e76ff144339afb8c840/expr.png\" style=\"display:inline;vertical-align:middle;\" /></a> <a class=\"ProveItLink\" href=\"../10156da73b693655aaf13b90e42e1c021f7082660/proof.ipynb\" style=\"text-decoration: none\">&#x22A2;&nbsp;</a><a class=\"ProveItLink\" href=\"../../../../../__pv_it/61d40e543ba346235164e1fec19e2ee8072cb2960/expr.ipynb\"><img src=\"../../../../../__pv_it/61d40e543ba346235164e1fec19e2ee8072cb2960/expr.png\" style=\"display:inline;vertical-align:middle;\" /></a></span></td></tr>\n",
       "<tr><td><a name=\"proveit.logic.boolean.disjunction.4bcb3666d3004c7cfeb8f366244da31665a910d70_step4\">4</a></td><td>assumption</td><td></td><td><span style=\"font-size:20px;\"><a class=\"ProveItLink\" href=\"../12a3d80f99c071d10412e44e1510da5cdff7ecb70/expr.ipynb\"><img src=\"../12a3d80f99c071d10412e44e1510da5cdff7ecb70/expr.png\" style=\"display:inline;vertical-align:middle;\" /></a> <a class=\"ProveItLink\" href=\"../2e8661c765fdd2c42d03a9e1702961819d487bdb0/proof.ipynb\" style=\"text-decoration: none\">&#x22A2;&nbsp;</a><a class=\"ProveItLink\" href=\"../../../../../__pv_it/236aa71eea83bc81ebfba126de5fd15bc836bf7b0/expr.ipynb\"><img src=\"../../../../../__pv_it/236aa71eea83bc81ebfba126de5fd15bc836bf7b0/expr.png\" style=\"display:inline;vertical-align:middle;\" /></a></span></td></tr>\n",
       "<tr><td><a name=\"proveit.logic.boolean.disjunction.4bcb3666d3004c7cfeb8f366244da31665a910d70_step5\">5</a></td><td>assumption</td><td></td><td><span style=\"font-size:20px;\"><a class=\"ProveItLink\" href=\"../4401a38b0dcc9d83a845dea9bdd0271c33cb2f570/expr.ipynb\"><img src=\"../4401a38b0dcc9d83a845dea9bdd0271c33cb2f570/expr.png\" style=\"display:inline;vertical-align:middle;\" /></a> <a class=\"ProveItLink\" href=\"../a3a86b86ed9a31f06eaebf397296f521e60681ab0/proof.ipynb\" style=\"text-decoration: none\">&#x22A2;&nbsp;</a><a class=\"ProveItLink\" href=\"../../../../../__pv_it/9d326a55bcecd44353a0f0d84654c8be64079bfd0/expr.ipynb\"><img src=\"../../../../../__pv_it/9d326a55bcecd44353a0f0d84654c8be64079bfd0/expr.png\" style=\"display:inline;vertical-align:middle;\" /></a></span></td></tr>\n",
       "<tr><td><a name=\"proveit.logic.boolean.disjunction.4bcb3666d3004c7cfeb8f366244da31665a910d70_step6\">6</a></td><td>assumption</td><td></td><td><span style=\"font-size:20px;\"><a class=\"ProveItLink\" href=\"../d79892bb8351e60d9137963228dce91881c0d1eb0/expr.ipynb\"><img src=\"../d79892bb8351e60d9137963228dce91881c0d1eb0/expr.png\" style=\"display:inline;vertical-align:middle;\" /></a> <a class=\"ProveItLink\" href=\"../633520bdd3d1f2932441652cc1658206804458840/proof.ipynb\" style=\"text-decoration: none\">&#x22A2;&nbsp;</a><a class=\"ProveItLink\" href=\"../../../../../__pv_it/45ab3be324b603892f5fcf28689f603b1ee23bc00/expr.ipynb\"><img src=\"../../../../../__pv_it/45ab3be324b603892f5fcf28689f603b1ee23bc00/expr.png\" style=\"display:inline;vertical-align:middle;\" /></a></span></td></tr>\n",
       "</table>"
      ],
      "text/plain": [
       "<proveit._core_.proof._ShowProof at 0x7f5b991d62e8>"
      ]
     },
     "execution_count": 1,
     "metadata": {},
     "output_type": "execute_result"
    }
   ],
   "source": [
    "import proveit\n",
    "# Automation is not needed when only showing a stored proof:\n",
    "proveit.defaults.automation = False # This will speed things up.\n",
    "proveit.defaults.inline_pngs = False # Makes files smaller.\n",
    "%show_proof"
   ]
  },
  {
   "cell_type": "code",
   "execution_count": null,
   "metadata": {},
   "outputs": [],
   "source": []
  }
 ],
 "metadata": {
  "kernelspec": {
   "display_name": "Python 3",
   "language": "python",
   "name": "python3"
  },
  "language_info": {
   "codemirror_mode": {
    "name": "ipython",
    "version": 3
   },
   "file_extension": ".py",
   "mimetype": "text/x-python",
   "name": "python",
   "nbconvert_exporter": "python",
   "pygments_lexer": "ipython3",
   "version": "3.7.3"
  }
 },
 "nbformat": 4,
 "nbformat_minor": 1
}
