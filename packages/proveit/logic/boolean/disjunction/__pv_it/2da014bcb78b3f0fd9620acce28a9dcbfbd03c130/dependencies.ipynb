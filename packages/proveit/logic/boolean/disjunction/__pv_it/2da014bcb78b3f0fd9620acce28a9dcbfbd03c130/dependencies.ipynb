{
 "cells": [
  {
   "cell_type": "markdown",
   "metadata": {},
   "source": [
    "Theorem Dependencies\n",
    "=======================\n",
    "\n",
    "## <a class=\"ProveItLink\" href=\"../../_context_.ipynb\">proveit.logic.boolean.disjunction</a>.<a class=\"ProveItLink\" href=\"../../_theorems_.ipynb#closure\">closure</a> \n",
    "***see <a class=\"ProveItLink\" href=\"../../_proofs_/closure.ipynb\">proof</a>***"
   ]
  },
  {
   "cell_type": "code",
   "execution_count": 1,
   "metadata": {},
   "outputs": [],
   "source": [
    "import proveit\n",
    "# Automation is not needed when querying dependencies:\n",
    "proveit.defaults.automation = False # This will speed things up.\n",
    "proveit.defaults.inline_pngs = False # Makes files smaller.\n",
    "from proveit.logic.boolean.disjunction._theorems_ import closure"
   ]
  },
  {
   "cell_type": "code",
   "execution_count": 2,
   "metadata": {},
   "outputs": [
    {
     "data": {
      "text/html": [
       "<h3>Unproven theorems required (directly or indirectly) to prove closure</h3>"
      ],
      "text/plain": [
       "<IPython.core.display.HTML object>"
      ]
     },
     "metadata": {},
     "output_type": "display_data"
    },
    {
     "data": {
      "text/html": [
       "<dl>"
      ],
      "text/plain": [
       "<IPython.core.display.HTML object>"
      ]
     },
     "metadata": {},
     "output_type": "display_data"
    },
    {
     "data": {
      "text/html": [
       "<dt><a class=\"ProveItLink\" href=\"../../../../../core_expr_types/conditionals/_proofs_/singular_conjunction_condition_reduction.ipynb\">proveit.core_expr_types.conditionals.singular_conjunction_condition_reduction</a></dt><dd><a class=\"ProveItLink\" href=\"../../../../../core_expr_types/conditionals/__pv_it/c53cc249ef7f7bbc11f589da75547d458d6335e40/expr.ipynb\"><img src=\"../../../../../core_expr_types/conditionals/__pv_it/c53cc249ef7f7bbc11f589da75547d458d6335e40/expr.png\" style=\"display:inline;vertical-align:middle;\" /></a></dd>"
      ],
      "text/plain": [
       "<IPython.core.display.HTML object>"
      ]
     },
     "metadata": {},
     "output_type": "display_data"
    },
    {
     "data": {
      "text/html": [
       "<dt><a class=\"ProveItLink\" href=\"../../../../../core_expr_types/tuples/_proofs_/extended_range_from1_len_typical_equiv.ipynb\">proveit.core_expr_types.tuples.extended_range_from1_len_typical_equiv</a></dt><dd><a class=\"ProveItLink\" href=\"../../../../../core_expr_types/tuples/__pv_it/a2bf112434cecad79c2a741e59e9cf48476c3f000/expr.ipynb\"><img src=\"../../../../../core_expr_types/tuples/__pv_it/a2bf112434cecad79c2a741e59e9cf48476c3f000/expr.png\" style=\"display:inline;vertical-align:middle;\" /></a></dd>"
      ],
      "text/plain": [
       "<IPython.core.display.HTML object>"
      ]
     },
     "metadata": {},
     "output_type": "display_data"
    },
    {
     "data": {
      "text/html": [
       "<dt><a class=\"ProveItLink\" href=\"../../../../../core_expr_types/tuples/_proofs_/merge_extension.ipynb\">proveit.core_expr_types.tuples.merge_extension</a></dt><dd><a class=\"ProveItLink\" href=\"../../../../../core_expr_types/tuples/__pv_it/0a72d5e1ec80b7fa78cbd080e42c83b9f2ad03d20/expr.ipynb\"><img src=\"../../../../../core_expr_types/tuples/__pv_it/0a72d5e1ec80b7fa78cbd080e42c83b9f2ad03d20/expr.png\" style=\"display:inline;vertical-align:middle;\" /></a></dd>"
      ],
      "text/plain": [
       "<IPython.core.display.HTML object>"
      ]
     },
     "metadata": {},
     "output_type": "display_data"
    },
    {
     "data": {
      "text/html": [
       "<dt><a class=\"ProveItLink\" href=\"../../../../../core_expr_types/tuples/_proofs_/range_from1_len.ipynb\">proveit.core_expr_types.tuples.range_from1_len</a></dt><dd><a class=\"ProveItLink\" href=\"../../../../../core_expr_types/tuples/__pv_it/b7f3a509180e7239a63f848de5cf5cf54d79b1f80/expr.ipynb\"><img src=\"../../../../../core_expr_types/tuples/__pv_it/b7f3a509180e7239a63f848de5cf5cf54d79b1f80/expr.png\" style=\"display:inline;vertical-align:middle;\" /></a></dd>"
      ],
      "text/plain": [
       "<IPython.core.display.HTML object>"
      ]
     },
     "metadata": {},
     "output_type": "display_data"
    },
    {
     "data": {
      "text/html": [
       "<dt><a class=\"ProveItLink\" href=\"../../../../../core_expr_types/tuples/_proofs_/range_from1_len_typical_equiv.ipynb\">proveit.core_expr_types.tuples.range_from1_len_typical_equiv</a></dt><dd><a class=\"ProveItLink\" href=\"../../../../../core_expr_types/tuples/__pv_it/a6c285edd38bd17d87bdad9565433740df28671c0/expr.ipynb\"><img src=\"../../../../../core_expr_types/tuples/__pv_it/a6c285edd38bd17d87bdad9565433740df28671c0/expr.png\" style=\"display:inline;vertical-align:middle;\" /></a></dd>"
      ],
      "text/plain": [
       "<IPython.core.display.HTML object>"
      ]
     },
     "metadata": {},
     "output_type": "display_data"
    },
    {
     "data": {
      "text/html": [
       "<dt><a class=\"ProveItLink\" href=\"../../../../../core_expr_types/tuples/_proofs_/singular_range_reduction.ipynb\">proveit.core_expr_types.tuples.singular_range_reduction</a></dt><dd><a class=\"ProveItLink\" href=\"../../../../../core_expr_types/tuples/__pv_it/3223de9ff103d8008d15b73bbbe4249bebce511c0/expr.ipynb\"><img src=\"../../../../../core_expr_types/tuples/__pv_it/3223de9ff103d8008d15b73bbbe4249bebce511c0/expr.png\" style=\"display:inline;vertical-align:middle;\" /></a></dd>"
      ],
      "text/plain": [
       "<IPython.core.display.HTML object>"
      ]
     },
     "metadata": {},
     "output_type": "display_data"
    },
    {
     "data": {
      "text/html": [
       "<dt><a class=\"ProveItLink\" href=\"../../../../../core_expr_types/tuples/_proofs_/tuple_len_0_typical_equiv.ipynb\">proveit.core_expr_types.tuples.tuple_len_0_typical_equiv</a></dt><dd><a class=\"ProveItLink\" href=\"../../../../../core_expr_types/tuples/__pv_it/733ff36d65b50b9c829574ca0e2c3fe57ee1e21c0/expr.ipynb\"><img src=\"../../../../../core_expr_types/tuples/__pv_it/733ff36d65b50b9c829574ca0e2c3fe57ee1e21c0/expr.png\" style=\"display:inline;vertical-align:middle;\" /></a></dd>"
      ],
      "text/plain": [
       "<IPython.core.display.HTML object>"
      ]
     },
     "metadata": {},
     "output_type": "display_data"
    },
    {
     "data": {
      "text/html": [
       "<dt><a class=\"ProveItLink\" href=\"../../../conjunction/_proofs_/anyFromAnd.ipynb\">proveit.logic.boolean.conjunction.anyFromAnd</a></dt><dd><a class=\"ProveItLink\" href=\"../../../conjunction/__pv_it/943a6df70d9c4630056092caead28b1962e78e250/expr.ipynb\"><img src=\"../../../conjunction/__pv_it/943a6df70d9c4630056092caead28b1962e78e250/expr.png\" style=\"display:inline;vertical-align:middle;\" /></a></dd>"
      ],
      "text/plain": [
       "<IPython.core.display.HTML object>"
      ]
     },
     "metadata": {},
     "output_type": "display_data"
    },
    {
     "data": {
      "text/html": [
       "<dt><a class=\"ProveItLink\" href=\"../../../conjunction/_proofs_/from_unary_and.ipynb\">proveit.logic.boolean.conjunction.from_unary_and</a></dt><dd><a class=\"ProveItLink\" href=\"../../../conjunction/__pv_it/2a508b8248a4c531934ca65d2e5401c280f712610/expr.ipynb\"><img src=\"../../../conjunction/__pv_it/2a508b8248a4c531934ca65d2e5401c280f712610/expr.png\" style=\"display:inline;vertical-align:middle;\" /></a></dd>"
      ],
      "text/plain": [
       "<IPython.core.display.HTML object>"
      ]
     },
     "metadata": {},
     "output_type": "display_data"
    },
    {
     "data": {
      "text/html": [
       "<dt><a class=\"ProveItLink\" href=\"../../../conjunction/_proofs_/someFromAnd.ipynb\">proveit.logic.boolean.conjunction.someFromAnd</a></dt><dd><a class=\"ProveItLink\" href=\"../../../conjunction/__pv_it/d55c3553be96f90662c6d012882d104df58683570/expr.ipynb\"><img src=\"../../../conjunction/__pv_it/d55c3553be96f90662c6d012882d104df58683570/expr.png\" style=\"display:inline;vertical-align:middle;\" /></a></dd>"
      ],
      "text/plain": [
       "<IPython.core.display.HTML object>"
      ]
     },
     "metadata": {},
     "output_type": "display_data"
    },
    {
     "data": {
      "text/html": [
       "<dt><a class=\"ProveItLink\" href=\"../../../quantification/universal/_proofs_/bundle.ipynb\">proveit.logic.boolean.quantification.universal.bundle</a></dt><dd><a class=\"ProveItLink\" href=\"../../../quantification/universal/__pv_it/fccbe1069943423c3b103b7d4cd35c698f2641220/expr.ipynb\"><img src=\"../../../quantification/universal/__pv_it/fccbe1069943423c3b103b7d4cd35c698f2641220/expr.png\" style=\"display:inline;vertical-align:middle;\" /></a></dd>"
      ],
      "text/plain": [
       "<IPython.core.display.HTML object>"
      ]
     },
     "metadata": {},
     "output_type": "display_data"
    },
    {
     "data": {
      "text/html": [
       "<dt><a class=\"ProveItLink\" href=\"../../../../set_theory/containment/_proofs_/supersetMembershipFromSubset.ipynb\">proveit.logic.set_theory.containment.supersetMembershipFromSubset</a></dt><dd><a class=\"ProveItLink\" href=\"../../../../set_theory/containment/__pv_it/0c084c33e0b61155e80aecb387d7a717678f8ed60/expr.ipynb\"><img src=\"../../../../set_theory/containment/__pv_it/0c084c33e0b61155e80aecb387d7a717678f8ed60/expr.png\" style=\"display:inline;vertical-align:middle;\" /></a></dd>"
      ],
      "text/plain": [
       "<IPython.core.display.HTML object>"
      ]
     },
     "metadata": {},
     "output_type": "display_data"
    },
    {
     "data": {
      "text/html": [
       "<dt><a class=\"ProveItLink\" href=\"../../../../set_theory/enumeration/_proofs_/fold.ipynb\">proveit.logic.set_theory.enumeration.fold</a></dt><dd><a class=\"ProveItLink\" href=\"../../../../set_theory/enumeration/__pv_it/a8768e6f81edbcdb0a1d44f3a219f44ab58026160/expr.ipynb\"><img src=\"../../../../set_theory/enumeration/__pv_it/a8768e6f81edbcdb0a1d44f3a219f44ab58026160/expr.png\" style=\"display:inline;vertical-align:middle;\" /></a></dd>"
      ],
      "text/plain": [
       "<IPython.core.display.HTML object>"
      ]
     },
     "metadata": {},
     "output_type": "display_data"
    },
    {
     "data": {
      "text/html": [
       "<dt><a class=\"ProveItLink\" href=\"../../../../set_theory/enumeration/_proofs_/unfold.ipynb\">proveit.logic.set_theory.enumeration.unfold</a></dt><dd><a class=\"ProveItLink\" href=\"../../../../set_theory/enumeration/__pv_it/e3f0b09ec930e7f470c34206dd6ba5dac3e246f30/expr.ipynb\"><img src=\"../../../../set_theory/enumeration/__pv_it/e3f0b09ec930e7f470c34206dd6ba5dac3e246f30/expr.png\" style=\"display:inline;vertical-align:middle;\" /></a></dd>"
      ],
      "text/plain": [
       "<IPython.core.display.HTML object>"
      ]
     },
     "metadata": {},
     "output_type": "display_data"
    },
    {
     "data": {
      "text/html": [
       "<dt><a class=\"ProveItLink\" href=\"../../../../../number/addition/_proofs_/addNatClosureBin.ipynb\">proveit.number.addition.addNatClosureBin</a></dt><dd><a class=\"ProveItLink\" href=\"../../../../../number/addition/__pv_it/3d70a68ba82b30e88347784e5b0d82ed403d716d0/expr.ipynb\"><img src=\"../../../../../number/addition/__pv_it/3d70a68ba82b30e88347784e5b0d82ed403d716d0/expr.png\" style=\"display:inline;vertical-align:middle;\" /></a></dd>"
      ],
      "text/plain": [
       "<IPython.core.display.HTML object>"
      ]
     },
     "metadata": {},
     "output_type": "display_data"
    },
    {
     "data": {
      "text/html": [
       "<dt><a class=\"ProveItLink\" href=\"../../../../../number/numeral/deci/_proofs_/nat1.ipynb\">proveit.number.numeral.deci.nat1</a></dt><dd><a class=\"ProveItLink\" href=\"../../../../../number/numeral/deci/__pv_it/b64045e23014d4aeb18f7f9a8278edac4a9c78ad0/expr.ipynb\"><img src=\"../../../../../number/numeral/deci/__pv_it/b64045e23014d4aeb18f7f9a8278edac4a9c78ad0/expr.png\" style=\"display:inline;vertical-align:middle;\" /></a></dd>"
      ],
      "text/plain": [
       "<IPython.core.display.HTML object>"
      ]
     },
     "metadata": {},
     "output_type": "display_data"
    },
    {
     "data": {
      "text/html": [
       "<dt><a class=\"ProveItLink\" href=\"../../../../../number/numeral/deci/_proofs_/nat2.ipynb\">proveit.number.numeral.deci.nat2</a></dt><dd><a class=\"ProveItLink\" href=\"../../../../../number/numeral/deci/__pv_it/e1be5cc0ffa039746758df99e3fd79595c567a170/expr.ipynb\"><img src=\"../../../../../number/numeral/deci/__pv_it/e1be5cc0ffa039746758df99e3fd79595c567a170/expr.png\" style=\"display:inline;vertical-align:middle;\" /></a></dd>"
      ],
      "text/plain": [
       "<IPython.core.display.HTML object>"
      ]
     },
     "metadata": {},
     "output_type": "display_data"
    },
    {
     "data": {
      "text/html": [
       "<dt><a class=\"ProveItLink\" href=\"../../../../../number/numeral/deci/_proofs_/posnat1.ipynb\">proveit.number.numeral.deci.posnat1</a></dt><dd><a class=\"ProveItLink\" href=\"../../../../../number/numeral/deci/__pv_it/de9ceaf769f36cdba00e5fe81f80934e583ca7d90/expr.ipynb\"><img src=\"../../../../../number/numeral/deci/__pv_it/de9ceaf769f36cdba00e5fe81f80934e583ca7d90/expr.png\" style=\"display:inline;vertical-align:middle;\" /></a></dd>"
      ],
      "text/plain": [
       "<IPython.core.display.HTML object>"
      ]
     },
     "metadata": {},
     "output_type": "display_data"
    },
    {
     "data": {
      "text/html": [
       "<dt><a class=\"ProveItLink\" href=\"../../../../../number/numeral/deci/_proofs_/tuple_len_1_typical_equiv.ipynb\">proveit.number.numeral.deci.tuple_len_1_typical_equiv</a></dt><dd><a class=\"ProveItLink\" href=\"../../../../../number/numeral/deci/__pv_it/cf1ec1cc7c90e53b012f99f20975a9152032691e0/expr.ipynb\"><img src=\"../../../../../number/numeral/deci/__pv_it/cf1ec1cc7c90e53b012f99f20975a9152032691e0/expr.png\" style=\"display:inline;vertical-align:middle;\" /></a></dd>"
      ],
      "text/plain": [
       "<IPython.core.display.HTML object>"
      ]
     },
     "metadata": {},
     "output_type": "display_data"
    },
    {
     "data": {
      "text/html": [
       "<dt><a class=\"ProveItLink\" href=\"../../../../../number/numeral/deci/_proofs_/tuple_len_2_typical_equiv.ipynb\">proveit.number.numeral.deci.tuple_len_2_typical_equiv</a></dt><dd><a class=\"ProveItLink\" href=\"../../../../../number/numeral/deci/__pv_it/f7888b50fb67fe2efab9b0153f38636b19107f450/expr.ipynb\"><img src=\"../../../../../number/numeral/deci/__pv_it/f7888b50fb67fe2efab9b0153f38636b19107f450/expr.png\" style=\"display:inline;vertical-align:middle;\" /></a></dd>"
      ],
      "text/plain": [
       "<IPython.core.display.HTML object>"
      ]
     },
     "metadata": {},
     "output_type": "display_data"
    },
    {
     "data": {
      "text/html": [
       "<dt><a class=\"ProveItLink\" href=\"../../../../../number/sets/integer/_proofs_/natPosInduction.ipynb\">proveit.number.sets.integer.natPosInduction</a></dt><dd><a class=\"ProveItLink\" href=\"../../../../../number/sets/integer/__pv_it/c468d506c59af2feabc1729fdc7bf647d96781e00/expr.ipynb\"><img src=\"../../../../../number/sets/integer/__pv_it/c468d506c59af2feabc1729fdc7bf647d96781e00/expr.png\" style=\"display:inline;vertical-align:middle;\" /></a></dd>"
      ],
      "text/plain": [
       "<IPython.core.display.HTML object>"
      ]
     },
     "metadata": {},
     "output_type": "display_data"
    },
    {
     "data": {
      "text/html": [
       "<dt><a class=\"ProveItLink\" href=\"../../../../../number/sets/integer/_proofs_/natsPosInNats.ipynb\">proveit.number.sets.integer.natsPosInNats</a></dt><dd><a class=\"ProveItLink\" href=\"../../../../../number/sets/integer/__pv_it/c0b7a97eea33ce9f41807cb7d0db1c4818e32ed80/expr.ipynb\"><img src=\"../../../../../number/sets/integer/__pv_it/c0b7a97eea33ce9f41807cb7d0db1c4818e32ed80/expr.png\" style=\"display:inline;vertical-align:middle;\" /></a></dd>"
      ],
      "text/plain": [
       "<IPython.core.display.HTML object>"
      ]
     },
     "metadata": {},
     "output_type": "display_data"
    },
    {
     "data": {
      "text/html": [
       "</dl>"
      ],
      "text/plain": [
       "<IPython.core.display.HTML object>"
      ]
     },
     "metadata": {},
     "output_type": "display_data"
    },
    {
     "data": {
      "text/html": [
       "<h3>Axioms required (directly or indirectly) to prove closure</h3>"
      ],
      "text/plain": [
       "<IPython.core.display.HTML object>"
      ]
     },
     "metadata": {},
     "output_type": "display_data"
    },
    {
     "data": {
      "text/html": [
       "<dl>"
      ],
      "text/plain": [
       "<IPython.core.display.HTML object>"
      ]
     },
     "metadata": {},
     "output_type": "display_data"
    },
    {
     "data": {
      "text/html": [
       "<dt><a class=\"ProveItLink\" href=\"../../../../../core_expr_types/operations/_axioms_.ipynb#operands_substitution\">proveit.core_expr_types.operations.operands_substitution</a></dt><dd><a class=\"ProveItLink\" href=\"../../../../../core_expr_types/operations/__pv_it/dd922e5e42ac22c24a4a0233cb6a92fb23f8b98a0/expr.ipynb\"><img src=\"../../../../../core_expr_types/operations/__pv_it/dd922e5e42ac22c24a4a0233cb6a92fb23f8b98a0/expr.png\" style=\"display:inline;vertical-align:middle;\" /></a></dd>"
      ],
      "text/plain": [
       "<IPython.core.display.HTML object>"
      ]
     },
     "metadata": {},
     "output_type": "display_data"
    },
    {
     "data": {
      "text/html": [
       "<dt><a class=\"ProveItLink\" href=\"../../../../../core_expr_types/tuples/_axioms_.ipynb#range_extension_def\">proveit.core_expr_types.tuples.range_extension_def</a></dt><dd><a class=\"ProveItLink\" href=\"../../../../../core_expr_types/tuples/__pv_it/297bacb5c2442a19e0f28ba7cf91ebced60b4f260/expr.ipynb\"><img src=\"../../../../../core_expr_types/tuples/__pv_it/297bacb5c2442a19e0f28ba7cf91ebced60b4f260/expr.png\" style=\"display:inline;vertical-align:middle;\" /></a></dd>"
      ],
      "text/plain": [
       "<IPython.core.display.HTML object>"
      ]
     },
     "metadata": {},
     "output_type": "display_data"
    },
    {
     "data": {
      "text/html": [
       "<dt><a class=\"ProveItLink\" href=\"../../../_axioms_.ipynb#boolsDef\">proveit.logic.boolean.boolsDef</a></dt><dd><a class=\"ProveItLink\" href=\"../../../__pv_it/f8b51998348a6385fada5a5dcf4f6799320f28650/expr.ipynb\"><img src=\"../../../__pv_it/f8b51998348a6385fada5a5dcf4f6799320f28650/expr.png\" style=\"display:inline;vertical-align:middle;\" /></a></dd>"
      ],
      "text/plain": [
       "<IPython.core.display.HTML object>"
      ]
     },
     "metadata": {},
     "output_type": "display_data"
    },
    {
     "data": {
      "text/html": [
       "<dt><a class=\"ProveItLink\" href=\"../../../conjunction/_axioms_.ipynb#andTT\">proveit.logic.boolean.conjunction.andTT</a></dt><dd><a class=\"ProveItLink\" href=\"../../../conjunction/__pv_it/7af359f32933cc085d4b6b757e372d44388b32d90/expr.ipynb\"><img src=\"../../../conjunction/__pv_it/7af359f32933cc085d4b6b757e372d44388b32d90/expr.png\" style=\"display:inline;vertical-align:middle;\" /></a></dd>"
      ],
      "text/plain": [
       "<IPython.core.display.HTML object>"
      ]
     },
     "metadata": {},
     "output_type": "display_data"
    },
    {
     "data": {
      "text/html": [
       "<dt><a class=\"ProveItLink\" href=\"../../_axioms_.ipynb#emptyDisjunction\">proveit.logic.boolean.disjunction.emptyDisjunction</a></dt><dd><a class=\"ProveItLink\" href=\"../7b9cec35eba3aad5e21f999e6c8f5df11410946b0/expr.ipynb\"><img src=\"../7b9cec35eba3aad5e21f999e6c8f5df11410946b0/expr.png\" style=\"display:inline;vertical-align:middle;\" /></a></dd>"
      ],
      "text/plain": [
       "<IPython.core.display.HTML object>"
      ]
     },
     "metadata": {},
     "output_type": "display_data"
    },
    {
     "data": {
      "text/html": [
       "<dt><a class=\"ProveItLink\" href=\"../../_axioms_.ipynb#leftInBool\">proveit.logic.boolean.disjunction.leftInBool</a></dt><dd><a class=\"ProveItLink\" href=\"../3f3431be224a134c1b974a7eef2d3730ddb1adf10/expr.ipynb\"><img src=\"../3f3431be224a134c1b974a7eef2d3730ddb1adf10/expr.png\" style=\"display:inline;vertical-align:middle;\" /></a></dd>"
      ],
      "text/plain": [
       "<IPython.core.display.HTML object>"
      ]
     },
     "metadata": {},
     "output_type": "display_data"
    },
    {
     "data": {
      "text/html": [
       "<dt><a class=\"ProveItLink\" href=\"../../_axioms_.ipynb#multiDisjunctionDef\">proveit.logic.boolean.disjunction.multiDisjunctionDef</a></dt><dd><a class=\"ProveItLink\" href=\"../a7cb985eedaf1acae3a9ac9eb8c5828d4e2cb9710/expr.ipynb\"><img src=\"../a7cb985eedaf1acae3a9ac9eb8c5828d4e2cb9710/expr.png\" style=\"display:inline;vertical-align:middle;\" /></a></dd>"
      ],
      "text/plain": [
       "<IPython.core.display.HTML object>"
      ]
     },
     "metadata": {},
     "output_type": "display_data"
    },
    {
     "data": {
      "text/html": [
       "<dt><a class=\"ProveItLink\" href=\"../../_axioms_.ipynb#orFF\">proveit.logic.boolean.disjunction.orFF</a></dt><dd><a class=\"ProveItLink\" href=\"../157e538b35995d1bc78bc7129e3e67c586df31e00/expr.ipynb\"><img src=\"../157e538b35995d1bc78bc7129e3e67c586df31e00/expr.png\" style=\"display:inline;vertical-align:middle;\" /></a></dd>"
      ],
      "text/plain": [
       "<IPython.core.display.HTML object>"
      ]
     },
     "metadata": {},
     "output_type": "display_data"
    },
    {
     "data": {
      "text/html": [
       "<dt><a class=\"ProveItLink\" href=\"../../_axioms_.ipynb#orFT\">proveit.logic.boolean.disjunction.orFT</a></dt><dd><a class=\"ProveItLink\" href=\"../8aa7d69dad51feab352b29ee3ff85b17f11bfe7d0/expr.ipynb\"><img src=\"../8aa7d69dad51feab352b29ee3ff85b17f11bfe7d0/expr.png\" style=\"display:inline;vertical-align:middle;\" /></a></dd>"
      ],
      "text/plain": [
       "<IPython.core.display.HTML object>"
      ]
     },
     "metadata": {},
     "output_type": "display_data"
    },
    {
     "data": {
      "text/html": [
       "<dt><a class=\"ProveItLink\" href=\"../../_axioms_.ipynb#orTF\">proveit.logic.boolean.disjunction.orTF</a></dt><dd><a class=\"ProveItLink\" href=\"../a980f2e4f091260c75434ac31f723f4cc5f16b430/expr.ipynb\"><img src=\"../a980f2e4f091260c75434ac31f723f4cc5f16b430/expr.png\" style=\"display:inline;vertical-align:middle;\" /></a></dd>"
      ],
      "text/plain": [
       "<IPython.core.display.HTML object>"
      ]
     },
     "metadata": {},
     "output_type": "display_data"
    },
    {
     "data": {
      "text/html": [
       "<dt><a class=\"ProveItLink\" href=\"../../_axioms_.ipynb#orTT\">proveit.logic.boolean.disjunction.orTT</a></dt><dd><a class=\"ProveItLink\" href=\"../076ee77368cebfdab42bbf9d88db9c33e01699d20/expr.ipynb\"><img src=\"../076ee77368cebfdab42bbf9d88db9c33e01699d20/expr.png\" style=\"display:inline;vertical-align:middle;\" /></a></dd>"
      ],
      "text/plain": [
       "<IPython.core.display.HTML object>"
      ]
     },
     "metadata": {},
     "output_type": "display_data"
    },
    {
     "data": {
      "text/html": [
       "<dt><a class=\"ProveItLink\" href=\"../../_axioms_.ipynb#rightInBool\">proveit.logic.boolean.disjunction.rightInBool</a></dt><dd><a class=\"ProveItLink\" href=\"../e2b42e3b7b09cfee42af5a45b6d7306ced219af80/expr.ipynb\"><img src=\"../e2b42e3b7b09cfee42af5a45b6d7306ced219af80/expr.png\" style=\"display:inline;vertical-align:middle;\" /></a></dd>"
      ],
      "text/plain": [
       "<IPython.core.display.HTML object>"
      ]
     },
     "metadata": {},
     "output_type": "display_data"
    },
    {
     "data": {
      "text/html": [
       "<dt><a class=\"ProveItLink\" href=\"../../../_axioms_.ipynb#eqTrueElim\">proveit.logic.boolean.eqTrueElim</a></dt><dd><a class=\"ProveItLink\" href=\"../../../__pv_it/c40d2fe3b647e54f3c41cbb64fa7a5fea23ad4ba0/expr.ipynb\"><img src=\"../../../__pv_it/c40d2fe3b647e54f3c41cbb64fa7a5fea23ad4ba0/expr.png\" style=\"display:inline;vertical-align:middle;\" /></a></dd>"
      ],
      "text/plain": [
       "<IPython.core.display.HTML object>"
      ]
     },
     "metadata": {},
     "output_type": "display_data"
    },
    {
     "data": {
      "text/html": [
       "<dt><a class=\"ProveItLink\" href=\"../../../_axioms_.ipynb#eqTrueIntro\">proveit.logic.boolean.eqTrueIntro</a></dt><dd><a class=\"ProveItLink\" href=\"../../../__pv_it/1b97d519b6f842613318d652c6ad18957257936d0/expr.ipynb\"><img src=\"../../../__pv_it/1b97d519b6f842613318d652c6ad18957257936d0/expr.png\" style=\"display:inline;vertical-align:middle;\" /></a></dd>"
      ],
      "text/plain": [
       "<IPython.core.display.HTML object>"
      ]
     },
     "metadata": {},
     "output_type": "display_data"
    },
    {
     "data": {
      "text/html": [
       "<dt><a class=\"ProveItLink\" href=\"../../../_axioms_.ipynb#falseNotTrue\">proveit.logic.boolean.falseNotTrue</a></dt><dd><a class=\"ProveItLink\" href=\"../../../__pv_it/9232c35b58f1471872c4bdc53718ee27a9be34610/expr.ipynb\"><img src=\"../../../__pv_it/9232c35b58f1471872c4bdc53718ee27a9be34610/expr.png\" style=\"display:inline;vertical-align:middle;\" /></a></dd>"
      ],
      "text/plain": [
       "<IPython.core.display.HTML object>"
      ]
     },
     "metadata": {},
     "output_type": "display_data"
    },
    {
     "data": {
      "text/html": [
       "<dt><a class=\"ProveItLink\" href=\"../../../implication/_axioms_.ipynb#impliesFalseDef\">proveit.logic.boolean.implication.impliesFalseDef</a></dt><dd><a class=\"ProveItLink\" href=\"../../../implication/__pv_it/aca4db733abe35764d84bf2837c8f5c6155088360/expr.ipynb\"><img src=\"../../../implication/__pv_it/aca4db733abe35764d84bf2837c8f5c6155088360/expr.png\" style=\"display:inline;vertical-align:middle;\" /></a></dd>"
      ],
      "text/plain": [
       "<IPython.core.display.HTML object>"
      ]
     },
     "metadata": {},
     "output_type": "display_data"
    },
    {
     "data": {
      "text/html": [
       "<dt><a class=\"ProveItLink\" href=\"../../../negation/_axioms_.ipynb#doubleNegationElim\">proveit.logic.boolean.negation.doubleNegationElim</a></dt><dd><a class=\"ProveItLink\" href=\"../../../negation/__pv_it/7b9d51617922c8becadf75227293c8619ec4f9b70/expr.ipynb\"><img src=\"../../../negation/__pv_it/7b9d51617922c8becadf75227293c8619ec4f9b70/expr.png\" style=\"display:inline;vertical-align:middle;\" /></a></dd>"
      ],
      "text/plain": [
       "<IPython.core.display.HTML object>"
      ]
     },
     "metadata": {},
     "output_type": "display_data"
    },
    {
     "data": {
      "text/html": [
       "<dt><a class=\"ProveItLink\" href=\"../../../negation/_axioms_.ipynb#doubleNegationIntro\">proveit.logic.boolean.negation.doubleNegationIntro</a></dt><dd><a class=\"ProveItLink\" href=\"../../../negation/__pv_it/d708a7ae9593f546cdd86f106fd2df0ebb38ad120/expr.ipynb\"><img src=\"../../../negation/__pv_it/d708a7ae9593f546cdd86f106fd2df0ebb38ad120/expr.png\" style=\"display:inline;vertical-align:middle;\" /></a></dd>"
      ],
      "text/plain": [
       "<IPython.core.display.HTML object>"
      ]
     },
     "metadata": {},
     "output_type": "display_data"
    },
    {
     "data": {
      "text/html": [
       "<dt><a class=\"ProveItLink\" href=\"../../../negation/_axioms_.ipynb#negationElim\">proveit.logic.boolean.negation.negationElim</a></dt><dd><a class=\"ProveItLink\" href=\"../../../negation/__pv_it/effe4a00447dd6924d93afef35ad027eae208a7a0/expr.ipynb\"><img src=\"../../../negation/__pv_it/effe4a00447dd6924d93afef35ad027eae208a7a0/expr.png\" style=\"display:inline;vertical-align:middle;\" /></a></dd>"
      ],
      "text/plain": [
       "<IPython.core.display.HTML object>"
      ]
     },
     "metadata": {},
     "output_type": "display_data"
    },
    {
     "data": {
      "text/html": [
       "<dt><a class=\"ProveItLink\" href=\"../../../negation/_axioms_.ipynb#negationIntro\">proveit.logic.boolean.negation.negationIntro</a></dt><dd><a class=\"ProveItLink\" href=\"../../../negation/__pv_it/d92be96a81a927975a3e4fc43cc9e259175feb200/expr.ipynb\"><img src=\"../../../negation/__pv_it/d92be96a81a927975a3e4fc43cc9e259175feb200/expr.png\" style=\"display:inline;vertical-align:middle;\" /></a></dd>"
      ],
      "text/plain": [
       "<IPython.core.display.HTML object>"
      ]
     },
     "metadata": {},
     "output_type": "display_data"
    },
    {
     "data": {
      "text/html": [
       "<dt><a class=\"ProveItLink\" href=\"../../../_axioms_.ipynb#trueAxiom\">proveit.logic.boolean.trueAxiom</a></dt><dd><a class=\"ProveItLink\" href=\"../../../__pv_it/b5b8ce0f03ab68a7c7bb937dfeb4112a686e3cbb0/expr.ipynb\"><img src=\"../../../__pv_it/b5b8ce0f03ab68a7c7bb937dfeb4112a686e3cbb0/expr.png\" style=\"display:inline;vertical-align:middle;\" /></a></dd>"
      ],
      "text/plain": [
       "<IPython.core.display.HTML object>"
      ]
     },
     "metadata": {},
     "output_type": "display_data"
    },
    {
     "data": {
      "text/html": [
       "<dt><a class=\"ProveItLink\" href=\"../../../../equality/_axioms_.ipynb#equalityInBool\">proveit.logic.equality.equalityInBool</a></dt><dd><a class=\"ProveItLink\" href=\"../../../../equality/__pv_it/8e4dcb0131893a0cba30db381aaa3ccc1f1d2dea0/expr.ipynb\"><img src=\"../../../../equality/__pv_it/8e4dcb0131893a0cba30db381aaa3ccc1f1d2dea0/expr.png\" style=\"display:inline;vertical-align:middle;\" /></a></dd>"
      ],
      "text/plain": [
       "<IPython.core.display.HTML object>"
      ]
     },
     "metadata": {},
     "output_type": "display_data"
    },
    {
     "data": {
      "text/html": [
       "<dt><a class=\"ProveItLink\" href=\"../../../../equality/_axioms_.ipynb#equalsReflexivity\">proveit.logic.equality.equalsReflexivity</a></dt><dd><a class=\"ProveItLink\" href=\"../../../../equality/__pv_it/41ee2d23887e0db2fb1c64bf69a66887d78f206e0/expr.ipynb\"><img src=\"../../../../equality/__pv_it/41ee2d23887e0db2fb1c64bf69a66887d78f206e0/expr.png\" style=\"display:inline;vertical-align:middle;\" /></a></dd>"
      ],
      "text/plain": [
       "<IPython.core.display.HTML object>"
      ]
     },
     "metadata": {},
     "output_type": "display_data"
    },
    {
     "data": {
      "text/html": [
       "<dt><a class=\"ProveItLink\" href=\"../../../../equality/_axioms_.ipynb#equalsSymmetry\">proveit.logic.equality.equalsSymmetry</a></dt><dd><a class=\"ProveItLink\" href=\"../../../../equality/__pv_it/2ec3cefd5b68d70e9e028d7461f9728ae37d4c650/expr.ipynb\"><img src=\"../../../../equality/__pv_it/2ec3cefd5b68d70e9e028d7461f9728ae37d4c650/expr.png\" style=\"display:inline;vertical-align:middle;\" /></a></dd>"
      ],
      "text/plain": [
       "<IPython.core.display.HTML object>"
      ]
     },
     "metadata": {},
     "output_type": "display_data"
    },
    {
     "data": {
      "text/html": [
       "<dt><a class=\"ProveItLink\" href=\"../../../../equality/_axioms_.ipynb#equalsTransitivity\">proveit.logic.equality.equalsTransitivity</a></dt><dd><a class=\"ProveItLink\" href=\"../../../../equality/__pv_it/495c166cdd14b46cf3711cb4467adbb9a15d43120/expr.ipynb\"><img src=\"../../../../equality/__pv_it/495c166cdd14b46cf3711cb4467adbb9a15d43120/expr.png\" style=\"display:inline;vertical-align:middle;\" /></a></dd>"
      ],
      "text/plain": [
       "<IPython.core.display.HTML object>"
      ]
     },
     "metadata": {},
     "output_type": "display_data"
    },
    {
     "data": {
      "text/html": [
       "<dt><a class=\"ProveItLink\" href=\"../../../../equality/_axioms_.ipynb#notEqualsDef\">proveit.logic.equality.notEqualsDef</a></dt><dd><a class=\"ProveItLink\" href=\"../../../../equality/__pv_it/3907ab5c01f6c9317b39937a40e58231ca0313cf0/expr.ipynb\"><img src=\"../../../../equality/__pv_it/3907ab5c01f6c9317b39937a40e58231ca0313cf0/expr.png\" style=\"display:inline;vertical-align:middle;\" /></a></dd>"
      ],
      "text/plain": [
       "<IPython.core.display.HTML object>"
      ]
     },
     "metadata": {},
     "output_type": "display_data"
    },
    {
     "data": {
      "text/html": [
       "<dt><a class=\"ProveItLink\" href=\"../../../../equality/_axioms_.ipynb#substitution\">proveit.logic.equality.substitution</a></dt><dd><a class=\"ProveItLink\" href=\"../../../../equality/__pv_it/fce8b52e88693eef9d56c90f8a56ea5fa505017b0/expr.ipynb\"><img src=\"../../../../equality/__pv_it/fce8b52e88693eef9d56c90f8a56ea5fa505017b0/expr.png\" style=\"display:inline;vertical-align:middle;\" /></a></dd>"
      ],
      "text/plain": [
       "<IPython.core.display.HTML object>"
      ]
     },
     "metadata": {},
     "output_type": "display_data"
    },
    {
     "data": {
      "text/html": [
       "<dt><a class=\"ProveItLink\" href=\"../../../../../number/sets/integer/_axioms_.ipynb#naturalsDef\">proveit.number.sets.integer.naturalsDef</a></dt><dd><a class=\"ProveItLink\" href=\"../../../../../number/sets/integer/__pv_it/6161b971c8b2960c689c20f15c5aa5cfa21605d90/expr.ipynb\"><img src=\"../../../../../number/sets/integer/__pv_it/6161b971c8b2960c689c20f15c5aa5cfa21605d90/expr.png\" style=\"display:inline;vertical-align:middle;\" /></a></dd>"
      ],
      "text/plain": [
       "<IPython.core.display.HTML object>"
      ]
     },
     "metadata": {},
     "output_type": "display_data"
    },
    {
     "data": {
      "text/html": [
       "</dl>"
      ],
      "text/plain": [
       "<IPython.core.display.HTML object>"
      ]
     },
     "metadata": {},
     "output_type": "display_data"
    },
    {
     "data": {
      "text/html": [
       "<h3>No theorems depend upon closure</h3>"
      ],
      "text/plain": [
       "<IPython.core.display.HTML object>"
      ]
     },
     "metadata": {},
     "output_type": "display_data"
    }
   ],
   "source": [
    "%dependencies closure"
   ]
  }
 ],
 "metadata": {
  "kernelspec": {
   "display_name": "Python 3",
   "language": "python",
   "name": "python3"
  },
  "language_info": {
   "codemirror_mode": {
    "name": "ipython",
    "version": 3
   },
   "file_extension": ".py",
   "mimetype": "text/x-python",
   "name": "python",
   "nbconvert_exporter": "python",
   "pygments_lexer": "ipython3",
   "version": "3.7.3"
  }
 },
 "nbformat": 4,
 "nbformat_minor": 1
}
