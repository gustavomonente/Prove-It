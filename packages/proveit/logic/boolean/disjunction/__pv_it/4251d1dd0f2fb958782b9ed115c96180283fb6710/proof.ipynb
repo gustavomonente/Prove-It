{
 "cells": [
  {
   "cell_type": "markdown",
   "metadata": {},
   "source": [
    "Show the Proof\n",
    "========"
   ]
  },
  {
   "cell_type": "code",
   "execution_count": 1,
   "metadata": {},
   "outputs": [
    {
     "data": {
      "text/html": [
       "<table><tr><th>&nbsp;</th><th>step type</th><th>requirements</th><th>statement</th></tr>\n",
       "<tr><td><a name=\"proveit.logic.boolean.disjunction.4251d1dd0f2fb958782b9ed115c96180283fb6710_step0\">0</a></td><td>hypothetical reasoning</td><td><a href=\"#proveit.logic.boolean.disjunction.4251d1dd0f2fb958782b9ed115c96180283fb6710_step1\">1</a></td><td><span style=\"font-size:20px;\"><a class=\"ProveItLink\" href=\"../06935b97a014cba71eff47fdc225124a8b09c1ed0/expr.ipynb\"><img src=\"../06935b97a014cba71eff47fdc225124a8b09c1ed0/expr.png\" style=\"display:inline;vertical-align:middle;\" /></a> <a class=\"ProveItLink\" href=\"proof.ipynb\" style=\"text-decoration: none\">&#x22A2;&nbsp;</a><a class=\"ProveItLink\" href=\"../17dced249ff7ef4d9a1ce5b4afdcf8e3998812840/expr.ipynb\"><img src=\"../17dced249ff7ef4d9a1ce5b4afdcf8e3998812840/expr.png\" style=\"display:inline;vertical-align:middle;\" /></a></span></td></tr>\n",
       "<tr><td><a name=\"proveit.logic.boolean.disjunction.4251d1dd0f2fb958782b9ed115c96180283fb6710_step1\">1</a></td><td>instantiation</td><td><a href=\"#proveit.logic.boolean.disjunction.4251d1dd0f2fb958782b9ed115c96180283fb6710_step2\">2</a>, <a href=\"#proveit.logic.boolean.disjunction.4251d1dd0f2fb958782b9ed115c96180283fb6710_step3\">3</a>, <a href=\"#proveit.logic.boolean.disjunction.4251d1dd0f2fb958782b9ed115c96180283fb6710_step4\">4</a>, <a href=\"#proveit.logic.boolean.disjunction.4251d1dd0f2fb958782b9ed115c96180283fb6710_step5\">5</a></td><td><span style=\"font-size:20px;\"><a class=\"ProveItLink\" href=\"../69ea58a8b69ee1a449831616979c23c6beac6c180/expr.ipynb\"><img src=\"../69ea58a8b69ee1a449831616979c23c6beac6c180/expr.png\" style=\"display:inline;vertical-align:middle;\" /></a> <a class=\"ProveItLink\" href=\"../83c5de96d87fff3c5a91b7bfae2875b35cb187ea0/proof.ipynb\" style=\"text-decoration: none\">&#x22A2;&nbsp;</a><a class=\"ProveItLink\" href=\"../../../__pv_it/83a1ddf0f64531c80e7f41ea6b904214668818b30/expr.ipynb\"><img src=\"../../../__pv_it/83a1ddf0f64531c80e7f41ea6b904214668818b30/expr.png\" style=\"display:inline;vertical-align:middle;\" /></a></span></td></tr>\n",
       "<tr><td>&nbsp;</td><td colspan=4 style=\"text-align:left\"><span style=\"font-size:20px;\"><a class=\"ProveItLink\" href=\"../../../../../__pv_it/d3792d0d8642fdf1cd2a3a9b32c673ee13653de00/expr.ipynb\"><img src=\"../../../../../__pv_it/d3792d0d8642fdf1cd2a3a9b32c673ee13653de00/expr.png\" style=\"display:inline;vertical-align:middle;\" /></a> : <a class=\"ProveItLink\" href=\"../../../../../__pv_it/d3792d0d8642fdf1cd2a3a9b32c673ee13653de00/expr.ipynb\"><img src=\"../../../../../__pv_it/d3792d0d8642fdf1cd2a3a9b32c673ee13653de00/expr.png\" style=\"display:inline;vertical-align:middle;\" /></a>, <a class=\"ProveItLink\" href=\"../../../../../__pv_it/4d98b438710c5ada9ffa4646bb123a7d0e69ec000/expr.ipynb\"><img src=\"../../../../../__pv_it/4d98b438710c5ada9ffa4646bb123a7d0e69ec000/expr.png\" style=\"display:inline;vertical-align:middle;\" /></a> : <a class=\"ProveItLink\" href=\"../../../../../__pv_it/4d98b438710c5ada9ffa4646bb123a7d0e69ec000/expr.ipynb\"><img src=\"../../../../../__pv_it/4d98b438710c5ada9ffa4646bb123a7d0e69ec000/expr.png\" style=\"display:inline;vertical-align:middle;\" /></a></span></td></tr><tr><td><a name=\"proveit.logic.boolean.disjunction.4251d1dd0f2fb958782b9ed115c96180283fb6710_step2\">2</a></td><td>theorem</td><td></td><td><span style=\"font-size:20px;\"> <a class=\"ProveItLink\" href=\"../../_proofs_/binaryOrContradiction.ipynb\" style=\"text-decoration: none\">&#x22A2;&nbsp;</a><a class=\"ProveItLink\" href=\"../d7addb37fcfe4856d6fb365d929e3eb80f0b87140/expr.ipynb\"><img src=\"../d7addb37fcfe4856d6fb365d929e3eb80f0b87140/expr.png\" style=\"display:inline;vertical-align:middle;\" /></a></span></td></tr>\n",
       "<tr><td>&nbsp;</td><td colspan=4 style-\"text-align:left\"><a class=\"ProveItLink\" href=\"../../_proofs_/binaryOrContradiction.ipynb\">proveit.logic.boolean.disjunction.binaryOrContradiction</a></td></tr><tr><td><a name=\"proveit.logic.boolean.disjunction.4251d1dd0f2fb958782b9ed115c96180283fb6710_step3\">3</a></td><td>assumption</td><td></td><td><span style=\"font-size:20px;\"><a class=\"ProveItLink\" href=\"../3b9431204ca356866fbc1eb78ecc5e49e2b3b0a90/expr.ipynb\"><img src=\"../3b9431204ca356866fbc1eb78ecc5e49e2b3b0a90/expr.png\" style=\"display:inline;vertical-align:middle;\" /></a> <a class=\"ProveItLink\" href=\"../2e8661c765fdd2c42d03a9e1702961819d487bdb0/proof.ipynb\" style=\"text-decoration: none\">&#x22A2;&nbsp;</a><a class=\"ProveItLink\" href=\"../../../__pv_it/cba9f40dabc910a18358176fe83dfb3c9a5edd230/expr.ipynb\"><img src=\"../../../__pv_it/cba9f40dabc910a18358176fe83dfb3c9a5edd230/expr.png\" style=\"display:inline;vertical-align:middle;\" /></a></span></td></tr>\n",
       "<tr><td><a name=\"proveit.logic.boolean.disjunction.4251d1dd0f2fb958782b9ed115c96180283fb6710_step4\">4</a></td><td>instantiation</td><td><a href=\"#proveit.logic.boolean.disjunction.4251d1dd0f2fb958782b9ed115c96180283fb6710_step8\">8</a>, <a href=\"#proveit.logic.boolean.disjunction.4251d1dd0f2fb958782b9ed115c96180283fb6710_step6\">6</a>, <a href=\"#proveit.logic.boolean.disjunction.4251d1dd0f2fb958782b9ed115c96180283fb6710_step7\">7</a>, <a href=\"#proveit.logic.boolean.disjunction.4251d1dd0f2fb958782b9ed115c96180283fb6710_step11\">11</a></td><td><span style=\"font-size:20px;\"><a class=\"ProveItLink\" href=\"../1fb91202fc17d794dd060482a346c4a0b1e02a480/expr.ipynb\"><img src=\"../1fb91202fc17d794dd060482a346c4a0b1e02a480/expr.png\" style=\"display:inline;vertical-align:middle;\" /></a> <a class=\"ProveItLink\" href=\"../8ca65aab44d04a40ddadec7c39b5338c1c9729720/proof.ipynb\" style=\"text-decoration: none\">&#x22A2;&nbsp;</a><a class=\"ProveItLink\" href=\"../98d4bc94e268eb5bd1dd8957b0f9355a80140e9b0/expr.ipynb\"><img src=\"../98d4bc94e268eb5bd1dd8957b0f9355a80140e9b0/expr.png\" style=\"display:inline;vertical-align:middle;\" /></a></span></td></tr>\n",
       "<tr><td>&nbsp;</td><td colspan=4 style=\"text-align:left\"><span style=\"font-size:20px;\"><a class=\"ProveItLink\" href=\"../../../../../__pv_it/d3792d0d8642fdf1cd2a3a9b32c673ee13653de00/expr.ipynb\"><img src=\"../../../../../__pv_it/d3792d0d8642fdf1cd2a3a9b32c673ee13653de00/expr.png\" style=\"display:inline;vertical-align:middle;\" /></a> : <a class=\"ProveItLink\" href=\"../../../../../__pv_it/d3792d0d8642fdf1cd2a3a9b32c673ee13653de00/expr.ipynb\"><img src=\"../../../../../__pv_it/d3792d0d8642fdf1cd2a3a9b32c673ee13653de00/expr.png\" style=\"display:inline;vertical-align:middle;\" /></a>, <a class=\"ProveItLink\" href=\"../../../../../__pv_it/4d98b438710c5ada9ffa4646bb123a7d0e69ec000/expr.ipynb\"><img src=\"../../../../../__pv_it/4d98b438710c5ada9ffa4646bb123a7d0e69ec000/expr.png\" style=\"display:inline;vertical-align:middle;\" /></a> : <a class=\"ProveItLink\" href=\"../../../../../__pv_it/dcb5a3e430485237dfe486162b026a4affb149300/expr.ipynb\"><img src=\"../../../../../__pv_it/dcb5a3e430485237dfe486162b026a4affb149300/expr.png\" style=\"display:inline;vertical-align:middle;\" /></a></span></td></tr><tr><td><a name=\"proveit.logic.boolean.disjunction.4251d1dd0f2fb958782b9ed115c96180283fb6710_step5\">5</a></td><td>instantiation</td><td><a href=\"#proveit.logic.boolean.disjunction.4251d1dd0f2fb958782b9ed115c96180283fb6710_step8\">8</a>, <a href=\"#proveit.logic.boolean.disjunction.4251d1dd0f2fb958782b9ed115c96180283fb6710_step9\">9</a>, <a href=\"#proveit.logic.boolean.disjunction.4251d1dd0f2fb958782b9ed115c96180283fb6710_step10\">10</a>, <a href=\"#proveit.logic.boolean.disjunction.4251d1dd0f2fb958782b9ed115c96180283fb6710_step11\">11</a></td><td><span style=\"font-size:20px;\"><a class=\"ProveItLink\" href=\"../c45e78c5a51a293856a8ee3160e68dae9e1a83d30/expr.ipynb\"><img src=\"../c45e78c5a51a293856a8ee3160e68dae9e1a83d30/expr.png\" style=\"display:inline;vertical-align:middle;\" /></a> <a class=\"ProveItLink\" href=\"../d4de137007d538fad3becd910b47bb24de90b4840/proof.ipynb\" style=\"text-decoration: none\">&#x22A2;&nbsp;</a><a class=\"ProveItLink\" href=\"../86f671dd514f6e615234986d96edb2c4ebb473e30/expr.ipynb\"><img src=\"../86f671dd514f6e615234986d96edb2c4ebb473e30/expr.png\" style=\"display:inline;vertical-align:middle;\" /></a></span></td></tr>\n",
       "<tr><td>&nbsp;</td><td colspan=4 style=\"text-align:left\"><span style=\"font-size:20px;\"><a class=\"ProveItLink\" href=\"../../../../../__pv_it/d3792d0d8642fdf1cd2a3a9b32c673ee13653de00/expr.ipynb\"><img src=\"../../../../../__pv_it/d3792d0d8642fdf1cd2a3a9b32c673ee13653de00/expr.png\" style=\"display:inline;vertical-align:middle;\" /></a> : <a class=\"ProveItLink\" href=\"../../../../../__pv_it/4d98b438710c5ada9ffa4646bb123a7d0e69ec000/expr.ipynb\"><img src=\"../../../../../__pv_it/4d98b438710c5ada9ffa4646bb123a7d0e69ec000/expr.png\" style=\"display:inline;vertical-align:middle;\" /></a>, <a class=\"ProveItLink\" href=\"../../../../../__pv_it/4d98b438710c5ada9ffa4646bb123a7d0e69ec000/expr.ipynb\"><img src=\"../../../../../__pv_it/4d98b438710c5ada9ffa4646bb123a7d0e69ec000/expr.png\" style=\"display:inline;vertical-align:middle;\" /></a> : <a class=\"ProveItLink\" href=\"../../../../../__pv_it/dcb5a3e430485237dfe486162b026a4affb149300/expr.ipynb\"><img src=\"../../../../../__pv_it/dcb5a3e430485237dfe486162b026a4affb149300/expr.png\" style=\"display:inline;vertical-align:middle;\" /></a></span></td></tr><tr><td><a name=\"proveit.logic.boolean.disjunction.4251d1dd0f2fb958782b9ed115c96180283fb6710_step6\">6</a></td><td>assumption</td><td></td><td><span style=\"font-size:20px;\"><a class=\"ProveItLink\" href=\"../aa0cd37be2faace256e978fc8d33edc14f8b9f690/expr.ipynb\"><img src=\"../aa0cd37be2faace256e978fc8d33edc14f8b9f690/expr.png\" style=\"display:inline;vertical-align:middle;\" /></a> <a class=\"ProveItLink\" href=\"../0340c064c83c6205f84cc244ce9c47bf225a315f0/proof.ipynb\" style=\"text-decoration: none\">&#x22A2;&nbsp;</a><a class=\"ProveItLink\" href=\"../../../__pv_it/6a848856aa8448d2c8078b64fa7ec7edda2394a90/expr.ipynb\"><img src=\"../../../__pv_it/6a848856aa8448d2c8078b64fa7ec7edda2394a90/expr.png\" style=\"display:inline;vertical-align:middle;\" /></a></span></td></tr>\n",
       "<tr><td><a name=\"proveit.logic.boolean.disjunction.4251d1dd0f2fb958782b9ed115c96180283fb6710_step7\">7</a></td><td>assumption</td><td></td><td><span style=\"font-size:20px;\"><a class=\"ProveItLink\" href=\"../2fc72db9c87985283d292ca757403c9bec5506220/expr.ipynb\"><img src=\"../2fc72db9c87985283d292ca757403c9bec5506220/expr.png\" style=\"display:inline;vertical-align:middle;\" /></a> <a class=\"ProveItLink\" href=\"../a3a86b86ed9a31f06eaebf397296f521e60681ab0/proof.ipynb\" style=\"text-decoration: none\">&#x22A2;&nbsp;</a><a class=\"ProveItLink\" href=\"../../../__pv_it/6fa8cde582a96bd3cb54042f5d70b033e26864c40/expr.ipynb\"><img src=\"../../../__pv_it/6fa8cde582a96bd3cb54042f5d70b033e26864c40/expr.png\" style=\"display:inline;vertical-align:middle;\" /></a></span></td></tr>\n",
       "<tr><td><a name=\"proveit.logic.boolean.disjunction.4251d1dd0f2fb958782b9ed115c96180283fb6710_step8\">8</a></td><td>theorem</td><td></td><td><span style=\"font-size:20px;\"> <a class=\"ProveItLink\" href=\"../../../implication/_proofs_/modusTollensDenial.ipynb\" style=\"text-decoration: none\">&#x22A2;&nbsp;</a><a class=\"ProveItLink\" href=\"../1b0f39225167dbc46bbac9cdf74aa9e2feebb1440/expr.ipynb\"><img src=\"../1b0f39225167dbc46bbac9cdf74aa9e2feebb1440/expr.png\" style=\"display:inline;vertical-align:middle;\" /></a></span></td></tr>\n",
       "<tr><td>&nbsp;</td><td colspan=4 style-\"text-align:left\"><a class=\"ProveItLink\" href=\"../../../implication/_proofs_/modusTollensDenial.ipynb\">proveit.logic.boolean.implication.modusTollensDenial</a></td></tr><tr><td><a name=\"proveit.logic.boolean.disjunction.4251d1dd0f2fb958782b9ed115c96180283fb6710_step9\">9</a></td><td>assumption</td><td></td><td><span style=\"font-size:20px;\"><a class=\"ProveItLink\" href=\"../ce848aa8d576486b2f089e8ffe74503692d589a00/expr.ipynb\"><img src=\"../ce848aa8d576486b2f089e8ffe74503692d589a00/expr.png\" style=\"display:inline;vertical-align:middle;\" /></a> <a class=\"ProveItLink\" href=\"../10156da73b693655aaf13b90e42e1c021f7082660/proof.ipynb\" style=\"text-decoration: none\">&#x22A2;&nbsp;</a><a class=\"ProveItLink\" href=\"../../../__pv_it/2c833b8c655f486d4597ef79d3e211329a02a3400/expr.ipynb\"><img src=\"../../../__pv_it/2c833b8c655f486d4597ef79d3e211329a02a3400/expr.png\" style=\"display:inline;vertical-align:middle;\" /></a></span></td></tr>\n",
       "<tr><td><a name=\"proveit.logic.boolean.disjunction.4251d1dd0f2fb958782b9ed115c96180283fb6710_step10\">10</a></td><td>assumption</td><td></td><td><span style=\"font-size:20px;\"><a class=\"ProveItLink\" href=\"../3ccc55c0b4e6253f8cd5b00b2192e4a18025f04f0/expr.ipynb\"><img src=\"../3ccc55c0b4e6253f8cd5b00b2192e4a18025f04f0/expr.png\" style=\"display:inline;vertical-align:middle;\" /></a> <a class=\"ProveItLink\" href=\"../633520bdd3d1f2932441652cc1658206804458840/proof.ipynb\" style=\"text-decoration: none\">&#x22A2;&nbsp;</a><a class=\"ProveItLink\" href=\"../../../__pv_it/15b70137523d7387921b03859cc60e4f1e10597d0/expr.ipynb\"><img src=\"../../../__pv_it/15b70137523d7387921b03859cc60e4f1e10597d0/expr.png\" style=\"display:inline;vertical-align:middle;\" /></a></span></td></tr>\n",
       "<tr><td><a name=\"proveit.logic.boolean.disjunction.4251d1dd0f2fb958782b9ed115c96180283fb6710_step11\">11</a></td><td>assumption</td><td></td><td><span style=\"font-size:20px;\"><a class=\"ProveItLink\" href=\"../457da55fcc13d1861ce15ce7e801dfddf1d8434d0/expr.ipynb\"><img src=\"../457da55fcc13d1861ce15ce7e801dfddf1d8434d0/expr.png\" style=\"display:inline;vertical-align:middle;\" /></a> <a class=\"ProveItLink\" href=\"../4991c746af3c560c250a4e5ccea0f694e40e44aa0/proof.ipynb\" style=\"text-decoration: none\">&#x22A2;&nbsp;</a><a class=\"ProveItLink\" href=\"../../../__pv_it/bcbdf1ce52bb308fdab6c7e95a8776b6409ae2920/expr.ipynb\"><img src=\"../../../__pv_it/bcbdf1ce52bb308fdab6c7e95a8776b6409ae2920/expr.png\" style=\"display:inline;vertical-align:middle;\" /></a></span></td></tr>\n",
       "</table>"
      ],
      "text/plain": [
       "<proveit._core_.proof._ShowProof at 0x7f5bb035dfd0>"
      ]
     },
     "execution_count": 1,
     "metadata": {},
     "output_type": "execute_result"
    }
   ],
   "source": [
    "import proveit\n",
    "# Automation is not needed when only showing a stored proof:\n",
    "proveit.defaults.automation = False # This will speed things up.\n",
    "proveit.defaults.inline_pngs = False # Makes files smaller.\n",
    "%show_proof"
   ]
  },
  {
   "cell_type": "code",
   "execution_count": null,
   "metadata": {},
   "outputs": [],
   "source": []
  }
 ],
 "metadata": {
  "kernelspec": {
   "display_name": "Python 3",
   "language": "python",
   "name": "python3"
  },
  "language_info": {
   "codemirror_mode": {
    "name": "ipython",
    "version": 3
   },
   "file_extension": ".py",
   "mimetype": "text/x-python",
   "name": "python",
   "nbconvert_exporter": "python",
   "pygments_lexer": "ipython3",
   "version": "3.7.3"
  }
 },
 "nbformat": 4,
 "nbformat_minor": 1
}
