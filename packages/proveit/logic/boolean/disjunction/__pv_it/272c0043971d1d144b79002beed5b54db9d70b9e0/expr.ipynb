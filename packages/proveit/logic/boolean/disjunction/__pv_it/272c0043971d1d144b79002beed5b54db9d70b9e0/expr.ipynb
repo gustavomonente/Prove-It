{
 "cells": [
  {
   "cell_type": "markdown",
   "metadata": {},
   "source": [
    "Expression of type <a class=\"ProveItLink\" href=\"../../../../../../../doc/html/api/proveit.logic.Forall.html\">Forall</a>\n",
    "=======================\n",
    "# from context <a class=\"ProveItLink\" href=\"../../_context_.ipynb\">proveit.logic.boolean.disjunction</a>"
   ]
  },
  {
   "cell_type": "code",
   "execution_count": 1,
   "metadata": {},
   "outputs": [],
   "source": [
    "import proveit\n",
    "# Automation is not needed when building an expression:\n",
    "proveit.defaults.automation = False # This will speed things up.\n",
    "proveit.defaults.inline_pngs = False # Makes files smaller.\n",
    "# import Expression classes needed to build the expression\n",
    "from proveit._common_ import A, B, C\n",
    "from proveit.logic import Booleans, Forall, Implies, Or"
   ]
  },
  {
   "cell_type": "code",
   "execution_count": 2,
   "metadata": {},
   "outputs": [
    {
     "data": {
      "text/html": [
       "<strong id=\"expr\">expr:</strong> <a class=\"ProveItLink\" href=\"../53dac557043d426bdf93c0d91a934532bdd764fc0/expr.ipynb\"><img src=\"../53dac557043d426bdf93c0d91a934532bdd764fc0/expr.png\" style=\"display:inline;vertical-align:middle;\" /></a><br>"
      ],
      "text/plain": [
       "expr: forall_{A in BOOLEANS, B in BOOLEANS, C in BOOLEANS | A or B, A => C, B => C} C"
      ]
     },
     "execution_count": 2,
     "metadata": {},
     "output_type": "execute_result"
    }
   ],
   "source": [
    "# build up the expression from sub-expressions\n",
    "expr = Forall([A, B, C], C, domains = [Booleans, Booleans, Booleans], conditions = [Or(A, B), Implies(A, C), Implies(B, C)])"
   ]
  },
  {
   "cell_type": "code",
   "execution_count": 3,
   "metadata": {},
   "outputs": [
    {
     "name": "stdout",
     "output_type": "stream",
     "text": [
      "Passed sanity check: built 'expr' is the same as the stored Expression.\n"
     ]
    }
   ],
   "source": [
    "# check that the built expression is the same as the stored expression\n",
    "%check_expr"
   ]
  },
  {
   "cell_type": "code",
   "execution_count": 4,
   "metadata": {},
   "outputs": [
    {
     "name": "stdout",
     "output_type": "stream",
     "text": [
      "\\forall_{A \\in \\mathbb{B}, B \\in \\mathbb{B}, C \\in \\mathbb{B}~|~A \\lor B, A \\Rightarrow C, B \\Rightarrow C}~C\n"
     ]
    }
   ],
   "source": [
    "# Show the LaTeX representation of the expression for convenience if you need it.\n",
    "print(expr.latex())"
   ]
  },
  {
   "cell_type": "code",
   "execution_count": 5,
   "metadata": {},
   "outputs": [
    {
     "data": {
      "text/html": [
       "<table><tr><th>&nbsp;</th><th>core type</th><th>sub-expressions</th><th>expression</th></tr>\n",
       "<tr><td>0</td><td>Operation</td><td>operator:&nbsp;1<br>operand:&nbsp;2<br></td><td><a class=\"ProveItLink\" href=\"../53dac557043d426bdf93c0d91a934532bdd764fc0/expr.ipynb\"><img src=\"../53dac557043d426bdf93c0d91a934532bdd764fc0/expr.png\" style=\"display:inline;vertical-align:middle;\" /></a></td></tr>\n",
       "<tr><td>1</td><td>Literal</td><td></td><td><a class=\"ProveItLink\" href=\"../../../quantification/universal/__pv_it/fd9c772d6675566ed52a6897806f45eb08a4ea910/expr.ipynb\"><img src=\"../../../quantification/universal/__pv_it/fd9c772d6675566ed52a6897806f45eb08a4ea910/expr.png\" style=\"display:inline;vertical-align:middle;\" /></a></td></tr>\n",
       "<tr><td>2</td><td>Lambda</td><td>parameters:&nbsp;3<br>body:&nbsp;4<br></td><td><a class=\"ProveItLink\" href=\"../9a64b8527bbee0ebb75107eb7ab979cfdecbd0490/expr.ipynb\"><img src=\"../9a64b8527bbee0ebb75107eb7ab979cfdecbd0490/expr.png\" style=\"display:inline;vertical-align:middle;\" /></a></td></tr>\n",
       "<tr><td>3</td><td>ExprTuple</td><td>24, 25, 26</td><td><a class=\"ProveItLink\" href=\"../05c898b44b69f77c3c299c053424d5eabfd7f6960/expr.ipynb\"><img src=\"../05c898b44b69f77c3c299c053424d5eabfd7f6960/expr.png\" style=\"display:inline;vertical-align:middle;\" /></a></td></tr>\n",
       "<tr><td>4</td><td>Conditional</td><td>value:&nbsp;26<br>condition:&nbsp;5<br></td><td><a class=\"ProveItLink\" href=\"../d93ffdff8ee84080978bb996efab654614b6c0a40/expr.ipynb\"><img src=\"../d93ffdff8ee84080978bb996efab654614b6c0a40/expr.png\" style=\"display:inline;vertical-align:middle;\" /></a></td></tr>\n",
       "<tr><td>5</td><td>Operation</td><td>operator:&nbsp;6<br>operands:&nbsp;7<br></td><td><a class=\"ProveItLink\" href=\"../1dc7f232471e55a51814e77858b4c327bfeb151f0/expr.ipynb\"><img src=\"../1dc7f232471e55a51814e77858b4c327bfeb151f0/expr.png\" style=\"display:inline;vertical-align:middle;\" /></a></td></tr>\n",
       "<tr><td>6</td><td>Literal</td><td></td><td><a class=\"ProveItLink\" href=\"../../../conjunction/__pv_it/f41cc6b553210927c09f19a8a39cdf860a5585930/expr.ipynb\"><img src=\"../../../conjunction/__pv_it/f41cc6b553210927c09f19a8a39cdf860a5585930/expr.png\" style=\"display:inline;vertical-align:middle;\" /></a></td></tr>\n",
       "<tr><td>7</td><td>ExprTuple</td><td>8, 9, 10, 11, 12, 13</td><td><a class=\"ProveItLink\" href=\"../fa7a8f195464d47a248558ac659534063f494f050/expr.ipynb\"><img src=\"../fa7a8f195464d47a248558ac659534063f494f050/expr.png\" style=\"display:inline;vertical-align:middle;\" /></a></td></tr>\n",
       "<tr><td>8</td><td>Operation</td><td>operator:&nbsp;16<br>operands:&nbsp;14<br></td><td><a class=\"ProveItLink\" href=\"../../../../../__pv_it/c9b4e272090c87d2bafac1557987ced3b9de5bb70/expr.ipynb\"><img src=\"../../../../../__pv_it/c9b4e272090c87d2bafac1557987ced3b9de5bb70/expr.png\" style=\"display:inline;vertical-align:middle;\" /></a></td></tr>\n",
       "<tr><td>9</td><td>Operation</td><td>operator:&nbsp;16<br>operands:&nbsp;15<br></td><td><a class=\"ProveItLink\" href=\"../../../../../__pv_it/61d40e543ba346235164e1fec19e2ee8072cb2960/expr.ipynb\"><img src=\"../../../../../__pv_it/61d40e543ba346235164e1fec19e2ee8072cb2960/expr.png\" style=\"display:inline;vertical-align:middle;\" /></a></td></tr>\n",
       "<tr><td>10</td><td>Operation</td><td>operator:&nbsp;16<br>operands:&nbsp;17<br></td><td><a class=\"ProveItLink\" href=\"../../../../../__pv_it/322e7dcb3460c149f603e52f96cb5c65e5a5c45f0/expr.ipynb\"><img src=\"../../../../../__pv_it/322e7dcb3460c149f603e52f96cb5c65e5a5c45f0/expr.png\" style=\"display:inline;vertical-align:middle;\" /></a></td></tr>\n",
       "<tr><td>11</td><td>Operation</td><td>operator:&nbsp;18<br>operands:&nbsp;19<br></td><td><a class=\"ProveItLink\" href=\"../../../../../__pv_it/236aa71eea83bc81ebfba126de5fd15bc836bf7b0/expr.ipynb\"><img src=\"../../../../../__pv_it/236aa71eea83bc81ebfba126de5fd15bc836bf7b0/expr.png\" style=\"display:inline;vertical-align:middle;\" /></a></td></tr>\n",
       "<tr><td>12</td><td>Operation</td><td>operator:&nbsp;21<br>operands:&nbsp;20<br></td><td><a class=\"ProveItLink\" href=\"../../../../../__pv_it/9d326a55bcecd44353a0f0d84654c8be64079bfd0/expr.ipynb\"><img src=\"../../../../../__pv_it/9d326a55bcecd44353a0f0d84654c8be64079bfd0/expr.png\" style=\"display:inline;vertical-align:middle;\" /></a></td></tr>\n",
       "<tr><td>13</td><td>Operation</td><td>operator:&nbsp;21<br>operands:&nbsp;22<br></td><td><a class=\"ProveItLink\" href=\"../../../../../__pv_it/45ab3be324b603892f5fcf28689f603b1ee23bc00/expr.ipynb\"><img src=\"../../../../../__pv_it/45ab3be324b603892f5fcf28689f603b1ee23bc00/expr.png\" style=\"display:inline;vertical-align:middle;\" /></a></td></tr>\n",
       "<tr><td>14</td><td>ExprTuple</td><td>24, 23</td><td><a class=\"ProveItLink\" href=\"../../../../../__pv_it/a839b65fb56146bc2d2e0d3471a4965a00836c3b0/expr.ipynb\"><img src=\"../../../../../__pv_it/a839b65fb56146bc2d2e0d3471a4965a00836c3b0/expr.png\" style=\"display:inline;vertical-align:middle;\" /></a></td></tr>\n",
       "<tr><td>15</td><td>ExprTuple</td><td>25, 23</td><td><a class=\"ProveItLink\" href=\"../../../../../__pv_it/51024acc4b6ef682b5a9ce54982aac301377cfbf0/expr.ipynb\"><img src=\"../../../../../__pv_it/51024acc4b6ef682b5a9ce54982aac301377cfbf0/expr.png\" style=\"display:inline;vertical-align:middle;\" /></a></td></tr>\n",
       "<tr><td>16</td><td>Literal</td><td></td><td><a class=\"ProveItLink\" href=\"../../../../set_theory/membership/__pv_it/7776fc89cb67d0b5b1ec2c0c8e08da5587921ccf0/expr.ipynb\"><img src=\"../../../../set_theory/membership/__pv_it/7776fc89cb67d0b5b1ec2c0c8e08da5587921ccf0/expr.png\" style=\"display:inline;vertical-align:middle;\" /></a></td></tr>\n",
       "<tr><td>17</td><td>ExprTuple</td><td>26, 23</td><td><a class=\"ProveItLink\" href=\"../../../../../__pv_it/db624f66ca983276970717e0f37ceca4990e78520/expr.ipynb\"><img src=\"../../../../../__pv_it/db624f66ca983276970717e0f37ceca4990e78520/expr.png\" style=\"display:inline;vertical-align:middle;\" /></a></td></tr>\n",
       "<tr><td>18</td><td>Literal</td><td></td><td><a class=\"ProveItLink\" href=\"../8a6d9fc46c84b3911a71fbae15627dc2acebe2890/expr.ipynb\"><img src=\"../8a6d9fc46c84b3911a71fbae15627dc2acebe2890/expr.png\" style=\"display:inline;vertical-align:middle;\" /></a></td></tr>\n",
       "<tr><td>19</td><td>ExprTuple</td><td>24, 25</td><td><a class=\"ProveItLink\" href=\"../../../../../__pv_it/d7e5ba17602cfca5991aaf75bc3cd9cc3e2c16bf0/expr.ipynb\"><img src=\"../../../../../__pv_it/d7e5ba17602cfca5991aaf75bc3cd9cc3e2c16bf0/expr.png\" style=\"display:inline;vertical-align:middle;\" /></a></td></tr>\n",
       "<tr><td>20</td><td>ExprTuple</td><td>24, 26</td><td><a class=\"ProveItLink\" href=\"../../../../../__pv_it/2b9c12e510908307d6654a62a5f8451d7b497c5a0/expr.ipynb\"><img src=\"../../../../../__pv_it/2b9c12e510908307d6654a62a5f8451d7b497c5a0/expr.png\" style=\"display:inline;vertical-align:middle;\" /></a></td></tr>\n",
       "<tr><td>21</td><td>Literal</td><td></td><td><a class=\"ProveItLink\" href=\"../../../implication/__pv_it/1e62b0c0a90306fc48b17f0dc8d4dc4df8bb234f0/expr.ipynb\"><img src=\"../../../implication/__pv_it/1e62b0c0a90306fc48b17f0dc8d4dc4df8bb234f0/expr.png\" style=\"display:inline;vertical-align:middle;\" /></a></td></tr>\n",
       "<tr><td>22</td><td>ExprTuple</td><td>25, 26</td><td><a class=\"ProveItLink\" href=\"../../../../../__pv_it/89298572ffa585ca58486a71ad0513be56ef31b70/expr.ipynb\"><img src=\"../../../../../__pv_it/89298572ffa585ca58486a71ad0513be56ef31b70/expr.png\" style=\"display:inline;vertical-align:middle;\" /></a></td></tr>\n",
       "<tr><td>23</td><td>Literal</td><td></td><td><a class=\"ProveItLink\" href=\"../../../__pv_it/a3b387936f605fef1b535be3e1116cca8bbfc91b0/expr.ipynb\"><img src=\"../../../__pv_it/a3b387936f605fef1b535be3e1116cca8bbfc91b0/expr.png\" style=\"display:inline;vertical-align:middle;\" /></a></td></tr>\n",
       "<tr><td>24</td><td>Variable</td><td></td><td><a class=\"ProveItLink\" href=\"../../../../../__pv_it/d3792d0d8642fdf1cd2a3a9b32c673ee13653de00/expr.ipynb\"><img src=\"../../../../../__pv_it/d3792d0d8642fdf1cd2a3a9b32c673ee13653de00/expr.png\" style=\"display:inline;vertical-align:middle;\" /></a></td></tr>\n",
       "<tr><td>25</td><td>Variable</td><td></td><td><a class=\"ProveItLink\" href=\"../../../../../__pv_it/4d98b438710c5ada9ffa4646bb123a7d0e69ec000/expr.ipynb\"><img src=\"../../../../../__pv_it/4d98b438710c5ada9ffa4646bb123a7d0e69ec000/expr.png\" style=\"display:inline;vertical-align:middle;\" /></a></td></tr>\n",
       "<tr><td>26</td><td>Variable</td><td></td><td><a class=\"ProveItLink\" href=\"../../../../../__pv_it/dcb5a3e430485237dfe486162b026a4affb149300/expr.ipynb\"><img src=\"../../../../../__pv_it/dcb5a3e430485237dfe486162b026a4affb149300/expr.png\" style=\"display:inline;vertical-align:middle;\" /></a></td></tr>\n",
       "</table>\n"
      ],
      "text/plain": [
       "0. forall_{A in BOOLEANS, B in BOOLEANS, C in BOOLEANS | A or B, A => C, B => C} C\n",
       "   core type: Operation\n",
       "   operator: 1\n",
       "   operand: 2\n",
       "1. forall\n",
       "   core type: Literal\n",
       "   sub-expressions: \n",
       "2. (A, B, C) -> {C if A in BOOLEANS ,  B in BOOLEANS ,  C in BOOLEANS ,  A or B ,  A => C ,  B => C.\n",
       "   core type: Lambda\n",
       "   parameters: 3\\n   body: 4\n",
       "3. (A, B, C)\n",
       "   core type: ExprTuple\n",
       "   sub-expressions: 24, 25, 26\n",
       "4. {C if A in BOOLEANS ,  B in BOOLEANS ,  C in BOOLEANS ,  A or B ,  A => C ,  B => C.\n",
       "   core type: Conditional\n",
       "   value: 26\n",
       "   condition: 5\n",
       "5. (A in BOOLEANS) and (B in BOOLEANS) and (C in BOOLEANS) and (A or B) and (A => C) and (B => C)\n",
       "   core type: Operation\n",
       "   operator: 6\n",
       "   operands: 7\n",
       "6. and\n",
       "   core type: Literal\n",
       "   sub-expressions: \n",
       "7. (A in BOOLEANS, B in BOOLEANS, C in BOOLEANS, A or B, A => C, B => C)\n",
       "   core type: ExprTuple\n",
       "   sub-expressions: 8, 9, 10, 11, 12, 13\n",
       "8. A in BOOLEANS\n",
       "   core type: Operation\n",
       "   operator: 16\n",
       "   operands: 14\n",
       "9. B in BOOLEANS\n",
       "   core type: Operation\n",
       "   operator: 16\n",
       "   operands: 15\n",
       "10. C in BOOLEANS\n",
       "    core type: Operation\n",
       "    operator: 16\n",
       "    operands: 17\n",
       "11. A or B\n",
       "    core type: Operation\n",
       "    operator: 18\n",
       "    operands: 19\n",
       "12. A => C\n",
       "    core type: Operation\n",
       "    operator: 21\n",
       "    operands: 20\n",
       "13. B => C\n",
       "    core type: Operation\n",
       "    operator: 21\n",
       "    operands: 22\n",
       "14. (A, BOOLEANS)\n",
       "    core type: ExprTuple\n",
       "    sub-expressions: 24, 23\n",
       "15. (B, BOOLEANS)\n",
       "    core type: ExprTuple\n",
       "    sub-expressions: 25, 23\n",
       "16. in\n",
       "    core type: Literal\n",
       "    sub-expressions: \n",
       "17. (C, BOOLEANS)\n",
       "    core type: ExprTuple\n",
       "    sub-expressions: 26, 23\n",
       "18. or\n",
       "    core type: Literal\n",
       "    sub-expressions: \n",
       "19. (A, B)\n",
       "    core type: ExprTuple\n",
       "    sub-expressions: 24, 25\n",
       "20. (A, C)\n",
       "    core type: ExprTuple\n",
       "    sub-expressions: 24, 26\n",
       "21. =>\n",
       "    core type: Literal\n",
       "    sub-expressions: \n",
       "22. (B, C)\n",
       "    core type: ExprTuple\n",
       "    sub-expressions: 25, 26\n",
       "23. BOOLEANS\n",
       "    core type: Literal\n",
       "    sub-expressions: \n",
       "24. A\n",
       "    core type: Variable\n",
       "    sub-expressions: \n",
       "25. B\n",
       "    core type: Variable\n",
       "    sub-expressions: \n",
       "26. C\n",
       "    core type: Variable\n",
       "    sub-expressions: "
      ]
     },
     "execution_count": 5,
     "metadata": {},
     "output_type": "execute_result"
    }
   ],
   "source": [
    "# display the expression information\n",
    "expr.exprInfo()"
   ]
  },
  {
   "cell_type": "code",
   "execution_count": null,
   "metadata": {},
   "outputs": [],
   "source": []
  }
 ],
 "metadata": {
  "kernelspec": {
   "display_name": "Python 3",
   "language": "python",
   "name": "python3"
  },
  "language_info": {
   "codemirror_mode": {
    "name": "ipython",
    "version": 3
   },
   "file_extension": ".py",
   "mimetype": "text/x-python",
   "name": "python",
   "nbconvert_exporter": "python",
   "pygments_lexer": "ipython3",
   "version": "3.7.3"
  }
 },
 "nbformat": 4,
 "nbformat_minor": 1
}
