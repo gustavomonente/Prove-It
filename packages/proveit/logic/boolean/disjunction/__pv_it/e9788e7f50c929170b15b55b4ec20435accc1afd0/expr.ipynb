{
 "cells": [
  {
   "cell_type": "markdown",
   "metadata": {},
   "source": [
    "Expression of type <a class=\"ProveItLink\" href=\"../../../../../../../doc/html/api/proveit.ExprTuple.html\">ExprTuple</a>\n",
    "=======================\n",
    "# from context <a class=\"ProveItLink\" href=\"../../_context_.ipynb\">proveit.logic.boolean.disjunction</a>"
   ]
  },
  {
   "cell_type": "code",
   "execution_count": 1,
   "metadata": {},
   "outputs": [],
   "source": [
    "import proveit\n",
    "# Automation is not needed when building an expression:\n",
    "proveit.defaults.automation = False # This will speed things up.\n",
    "proveit.defaults.inline_pngs = False # Makes files smaller.\n",
    "# import Expression classes needed to build the expression\n",
    "from proveit import ExprRange, ExprTuple, IndexedVar, Variable\n",
    "from proveit._common_ import A, m\n",
    "from proveit.core_expr_types._common_ import A_1_to_m\n",
    "from proveit.logic import Booleans, InSet, Or\n",
    "from proveit.number import one"
   ]
  },
  {
   "cell_type": "code",
   "execution_count": 2,
   "metadata": {},
   "outputs": [
    {
     "data": {
      "text/html": [
       "<strong id=\"expr\">expr:</strong> <a class=\"ProveItLink\" href=\"../eae6383b862ed7a3472ed6b44938896ffc42bff60/expr.ipynb\"><img src=\"../eae6383b862ed7a3472ed6b44938896ffc42bff60/expr.png\" style=\"display:inline;vertical-align:middle;\" /></a><br>"
      ],
      "text/plain": [
       "expr: (A_{1} in BOOLEANS, ..A_{_a} in BOOLEANS.., A_{m} in BOOLEANS, A_{1} or ..A_{_a}.. or A_{m})"
      ]
     },
     "execution_count": 2,
     "metadata": {},
     "output_type": "execute_result"
    }
   ],
   "source": [
    "# build up the expression from sub-expressions\n",
    "subExpr1 = Variable(\"_a\", latexFormat = r\"{_{-}a}\")\n",
    "expr = ExprTuple(ExprRange(subExpr1, InSet(IndexedVar(A, subExpr1), Booleans), one, m), Or(A_1_to_m))"
   ]
  },
  {
   "cell_type": "code",
   "execution_count": 3,
   "metadata": {},
   "outputs": [
    {
     "name": "stdout",
     "output_type": "stream",
     "text": [
      "Passed sanity check: built 'expr' is the same as the stored Expression.\n"
     ]
    }
   ],
   "source": [
    "# check that the built expression is the same as the stored expression\n",
    "%check_expr"
   ]
  },
  {
   "cell_type": "code",
   "execution_count": 4,
   "metadata": {},
   "outputs": [
    {
     "name": "stdout",
     "output_type": "stream",
     "text": [
      "\\left(A_{1} \\in \\mathbb{B}, \\ldots, A_{m} \\in \\mathbb{B}, A_{1} \\lor \\ldots \\lor A_{m}\\right)\n"
     ]
    }
   ],
   "source": [
    "# Show the LaTeX representation of the expression for convenience if you need it.\n",
    "print(expr.latex())"
   ]
  },
  {
   "cell_type": "code",
   "execution_count": 5,
   "metadata": {},
   "outputs": [
    {
     "data": {
      "text/html": [
       "<table><tr><th>&nbsp;</th><th>core type</th><th>sub-expressions</th><th>expression</th></tr>\n",
       "<tr><td>0</td><td>ExprTuple</td><td>1, 2</td><td><a class=\"ProveItLink\" href=\"../eae6383b862ed7a3472ed6b44938896ffc42bff60/expr.ipynb\"><img src=\"../eae6383b862ed7a3472ed6b44938896ffc42bff60/expr.png\" style=\"display:inline;vertical-align:middle;\" /></a></td></tr>\n",
       "<tr><td>1</td><td>ExprRange</td><td>lambda_map:&nbsp;3<br>start_index:&nbsp;11<br>end_index:&nbsp;12<br></td><td><a class=\"ProveItLink\" href=\"../2bab02ebc31c30749fd2730df8ef97663d6a10e30/expr.ipynb\"><img src=\"../2bab02ebc31c30749fd2730df8ef97663d6a10e30/expr.png\" style=\"display:inline;vertical-align:middle;\" /></a></td></tr>\n",
       "<tr><td>2</td><td>Operation</td><td>operator:&nbsp;4<br>operands:&nbsp;5<br></td><td><a class=\"ProveItLink\" href=\"../52e8d39febb62b721c7ca2ea6034a49635df438a0/expr.ipynb\"><img src=\"../52e8d39febb62b721c7ca2ea6034a49635df438a0/expr.png\" style=\"display:inline;vertical-align:middle;\" /></a></td></tr>\n",
       "<tr><td>3</td><td>Lambda</td><td>parameter:&nbsp;16<br>body:&nbsp;6<br></td><td><a class=\"ProveItLink\" href=\"../e462da948a3a649da62f5e332c58e1cc7cc8ef480/expr.ipynb\"><img src=\"../e462da948a3a649da62f5e332c58e1cc7cc8ef480/expr.png\" style=\"display:inline;vertical-align:middle;\" /></a></td></tr>\n",
       "<tr><td>4</td><td>Literal</td><td></td><td><a class=\"ProveItLink\" href=\"../8a6d9fc46c84b3911a71fbae15627dc2acebe2890/expr.ipynb\"><img src=\"../8a6d9fc46c84b3911a71fbae15627dc2acebe2890/expr.png\" style=\"display:inline;vertical-align:middle;\" /></a></td></tr>\n",
       "<tr><td>5</td><td>ExprTuple</td><td>7</td><td><a class=\"ProveItLink\" href=\"../3971d4e6d8e9af14d4f7b980de24a3075f427e380/expr.ipynb\"><img src=\"../3971d4e6d8e9af14d4f7b980de24a3075f427e380/expr.png\" style=\"display:inline;vertical-align:middle;\" /></a></td></tr>\n",
       "<tr><td>6</td><td>Operation</td><td>operator:&nbsp;8<br>operands:&nbsp;9<br></td><td><a class=\"ProveItLink\" href=\"../f777912892d36c4da6d4f3cf378a718568ef0dcc0/expr.ipynb\"><img src=\"../f777912892d36c4da6d4f3cf378a718568ef0dcc0/expr.png\" style=\"display:inline;vertical-align:middle;\" /></a></td></tr>\n",
       "<tr><td>7</td><td>ExprRange</td><td>lambda_map:&nbsp;10<br>start_index:&nbsp;11<br>end_index:&nbsp;12<br></td><td><a class=\"ProveItLink\" href=\"../../../../../core_expr_types/__pv_it/1b1836f58ac701e2bebc4117b7c7261052ae85ae0/expr.ipynb\"><img src=\"../../../../../core_expr_types/__pv_it/1b1836f58ac701e2bebc4117b7c7261052ae85ae0/expr.png\" style=\"display:inline;vertical-align:middle;\" /></a></td></tr>\n",
       "<tr><td>8</td><td>Literal</td><td></td><td><a class=\"ProveItLink\" href=\"../../../../set_theory/membership/__pv_it/7776fc89cb67d0b5b1ec2c0c8e08da5587921ccf0/expr.ipynb\"><img src=\"../../../../set_theory/membership/__pv_it/7776fc89cb67d0b5b1ec2c0c8e08da5587921ccf0/expr.png\" style=\"display:inline;vertical-align:middle;\" /></a></td></tr>\n",
       "<tr><td>9</td><td>ExprTuple</td><td>14, 13</td><td><a class=\"ProveItLink\" href=\"../3cbf41968ea3876165a26f7dcceb2975b91a45470/expr.ipynb\"><img src=\"../3cbf41968ea3876165a26f7dcceb2975b91a45470/expr.png\" style=\"display:inline;vertical-align:middle;\" /></a></td></tr>\n",
       "<tr><td>10</td><td>Lambda</td><td>parameter:&nbsp;16<br>body:&nbsp;14<br></td><td><a class=\"ProveItLink\" href=\"../../../../../core_expr_types/__pv_it/cbf4a2d6122f8f76eeb36bd1c0d8bf52d8e05a560/expr.ipynb\"><img src=\"../../../../../core_expr_types/__pv_it/cbf4a2d6122f8f76eeb36bd1c0d8bf52d8e05a560/expr.png\" style=\"display:inline;vertical-align:middle;\" /></a></td></tr>\n",
       "<tr><td>11</td><td>Literal</td><td></td><td><a class=\"ProveItLink\" href=\"../../../../../number/numeral/__pv_it/f086f8c372bd40a2458306ddfdbb29f3dc6f63030/expr.ipynb\"><img src=\"../../../../../number/numeral/__pv_it/f086f8c372bd40a2458306ddfdbb29f3dc6f63030/expr.png\" style=\"display:inline;vertical-align:middle;\" /></a></td></tr>\n",
       "<tr><td>12</td><td>Variable</td><td></td><td><a class=\"ProveItLink\" href=\"../../../../../__pv_it/6e8a38e9a7e2b6af352562cd77e0eb4751f142620/expr.ipynb\"><img src=\"../../../../../__pv_it/6e8a38e9a7e2b6af352562cd77e0eb4751f142620/expr.png\" style=\"display:inline;vertical-align:middle;\" /></a></td></tr>\n",
       "<tr><td>13</td><td>Literal</td><td></td><td><a class=\"ProveItLink\" href=\"../../../__pv_it/a3b387936f605fef1b535be3e1116cca8bbfc91b0/expr.ipynb\"><img src=\"../../../__pv_it/a3b387936f605fef1b535be3e1116cca8bbfc91b0/expr.png\" style=\"display:inline;vertical-align:middle;\" /></a></td></tr>\n",
       "<tr><td>14</td><td>IndexedVar</td><td>variable:&nbsp;15<br>index:&nbsp;16<br></td><td><a class=\"ProveItLink\" href=\"../../../../../core_expr_types/__pv_it/a433d6021a2b0d85d326303b1d692b18969c0dc30/expr.ipynb\"><img src=\"../../../../../core_expr_types/__pv_it/a433d6021a2b0d85d326303b1d692b18969c0dc30/expr.png\" style=\"display:inline;vertical-align:middle;\" /></a></td></tr>\n",
       "<tr><td>15</td><td>Variable</td><td></td><td><a class=\"ProveItLink\" href=\"../../../../../__pv_it/d3792d0d8642fdf1cd2a3a9b32c673ee13653de00/expr.ipynb\"><img src=\"../../../../../__pv_it/d3792d0d8642fdf1cd2a3a9b32c673ee13653de00/expr.png\" style=\"display:inline;vertical-align:middle;\" /></a></td></tr>\n",
       "<tr><td>16</td><td>Variable</td><td></td><td><a class=\"ProveItLink\" href=\"../../../../../core_expr_types/__pv_it/1e653f789234b245ee7fea7caad998c139d617410/expr.ipynb\"><img src=\"../../../../../core_expr_types/__pv_it/1e653f789234b245ee7fea7caad998c139d617410/expr.png\" style=\"display:inline;vertical-align:middle;\" /></a></td></tr>\n",
       "</table>\n"
      ],
      "text/plain": [
       "0. (A_{1} in BOOLEANS, ..A_{_a} in BOOLEANS.., A_{m} in BOOLEANS, A_{1} or ..A_{_a}.. or A_{m})\n",
       "   core type: ExprTuple\n",
       "   sub-expressions: 1, 2\n",
       "1. (A_{1} in BOOLEANS), ..(A_{_a} in BOOLEANS).., (A_{m} in BOOLEANS)\n",
       "   core type: ExprRange\n",
       "   lambda_map: 3\n",
       "   start_index: 11\n",
       "   end_index: 12\n",
       "2. A_{1} or ..A_{_a}.. or A_{m}\n",
       "   core type: Operation\n",
       "   operator: 4\n",
       "   operands: 5\n",
       "3. _a -> (A_{_a} in BOOLEANS)\n",
       "   core type: Lambda\n",
       "   parameter: 16\n",
       "   body: 6\n",
       "4. or\n",
       "   core type: Literal\n",
       "   sub-expressions: \n",
       "5. (A_{1}, ..A_{_a}.., A_{m})\n",
       "   core type: ExprTuple\n",
       "   sub-expressions: 7\n",
       "6. A_{_a} in BOOLEANS\n",
       "   core type: Operation\n",
       "   operator: 8\n",
       "   operands: 9\n",
       "7. A_{1}, ..A_{_a}.., A_{m}\n",
       "   core type: ExprRange\n",
       "   lambda_map: 10\n",
       "   start_index: 11\n",
       "   end_index: 12\n",
       "8. in\n",
       "   core type: Literal\n",
       "   sub-expressions: \n",
       "9. (A_{_a}, BOOLEANS)\n",
       "   core type: ExprTuple\n",
       "   sub-expressions: 14, 13\n",
       "10. _a -> A_{_a}\n",
       "    core type: Lambda\n",
       "    parameter: 16\n",
       "    body: 14\n",
       "11. 1\n",
       "    core type: Literal\n",
       "    sub-expressions: \n",
       "12. m\n",
       "    core type: Variable\n",
       "    sub-expressions: \n",
       "13. BOOLEANS\n",
       "    core type: Literal\n",
       "    sub-expressions: \n",
       "14. A_{_a}\n",
       "    core type: IndexedVar\n",
       "variable: 15\n",
       "index: 16\n",
       "15. A\n",
       "    core type: Variable\n",
       "    sub-expressions: \n",
       "16. _a\n",
       "    core type: Variable\n",
       "    sub-expressions: "
      ]
     },
     "execution_count": 5,
     "metadata": {},
     "output_type": "execute_result"
    }
   ],
   "source": [
    "# display the expression information\n",
    "expr.exprInfo()"
   ]
  },
  {
   "cell_type": "code",
   "execution_count": null,
   "metadata": {},
   "outputs": [],
   "source": []
  }
 ],
 "metadata": {
  "kernelspec": {
   "display_name": "Python 3",
   "language": "python",
   "name": "python3"
  },
  "language_info": {
   "codemirror_mode": {
    "name": "ipython",
    "version": 3
   },
   "file_extension": ".py",
   "mimetype": "text/x-python",
   "name": "python",
   "nbconvert_exporter": "python",
   "pygments_lexer": "ipython3",
   "version": "3.7.3"
  }
 },
 "nbformat": 4,
 "nbformat_minor": 1
}
