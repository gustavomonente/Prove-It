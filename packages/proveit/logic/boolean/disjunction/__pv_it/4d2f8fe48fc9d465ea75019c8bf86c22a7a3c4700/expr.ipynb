{
 "cells": [
  {
   "cell_type": "markdown",
   "metadata": {},
   "source": [
    "Expression of type <a class=\"ProveItLink\" href=\"../../../../../../../doc/html/api/proveit.ExprTuple.html\">ExprTuple</a>\n",
    "=======================\n",
    "# from context <a class=\"ProveItLink\" href=\"../../_context_.ipynb\">proveit.logic.boolean.disjunction</a>"
   ]
  },
  {
   "cell_type": "code",
   "execution_count": 1,
   "metadata": {},
   "outputs": [],
   "source": [
    "import proveit\n",
    "# Automation is not needed when building an expression:\n",
    "proveit.defaults.automation = False # This will speed things up.\n",
    "proveit.defaults.inline_pngs = False # Makes files smaller.\n",
    "# import Expression classes needed to build the expression\n",
    "from proveit import ExprTuple\n",
    "from proveit._common_ import A, B, C, D, H, I, J, K\n",
    "from proveit.logic import Booleans, Implies, InSet, Not, Or"
   ]
  },
  {
   "cell_type": "code",
   "execution_count": 2,
   "metadata": {},
   "outputs": [
    {
     "data": {
      "text/html": [
       "<strong id=\"expr\">expr:</strong> <a class=\"ProveItLink\" href=\"expr.ipynb\"><img src=\"expr.png\" style=\"display:inline;vertical-align:middle;\" /></a><br>"
      ],
      "text/plain": [
       "expr: (A in BOOLEANS, B in BOOLEANS, C in BOOLEANS, D in BOOLEANS, H in BOOLEANS, I in BOOLEANS, J in BOOLEANS, K in BOOLEANS, [not](A) or [not](B) or [not](C) or [not](D), A => H, B => I, C => J, D => K)"
      ]
     },
     "execution_count": 2,
     "metadata": {},
     "output_type": "execute_result"
    }
   ],
   "source": [
    "# build up the expression from sub-expressions\n",
    "expr = ExprTuple(InSet(A, Booleans), InSet(B, Booleans), InSet(C, Booleans), InSet(D, Booleans), InSet(H, Booleans), InSet(I, Booleans), InSet(J, Booleans), InSet(K, Booleans), Or(Not(A), Not(B), Not(C), Not(D)), Implies(A, H), Implies(B, I), Implies(C, J), Implies(D, K))"
   ]
  },
  {
   "cell_type": "code",
   "execution_count": 3,
   "metadata": {},
   "outputs": [
    {
     "name": "stdout",
     "output_type": "stream",
     "text": [
      "Passed sanity check: built 'expr' is the same as the stored Expression.\n"
     ]
    }
   ],
   "source": [
    "# check that the built expression is the same as the stored expression\n",
    "%check_expr"
   ]
  },
  {
   "cell_type": "code",
   "execution_count": 4,
   "metadata": {},
   "outputs": [
    {
     "name": "stdout",
     "output_type": "stream",
     "text": [
      "\\left(A \\in \\mathbb{B}, B \\in \\mathbb{B}, C \\in \\mathbb{B}, D \\in \\mathbb{B}, H \\in \\mathbb{B}, I \\in \\mathbb{B}, J \\in \\mathbb{B}, K \\in \\mathbb{B}, (\\lnot A) \\lor (\\lnot B) \\lor (\\lnot C) \\lor (\\lnot D), A \\Rightarrow H, B \\Rightarrow I, C \\Rightarrow J, D \\Rightarrow K\\right)\n"
     ]
    }
   ],
   "source": [
    "# Show the LaTeX representation of the expression for convenience if you need it.\n",
    "print(expr.latex())"
   ]
  },
  {
   "cell_type": "code",
   "execution_count": 5,
   "metadata": {},
   "outputs": [
    {
     "data": {
      "text/html": [
       "<table><tr><th>&nbsp;</th><th>core type</th><th>sub-expressions</th><th>expression</th></tr>\n",
       "<tr><td>0</td><td>ExprTuple</td><td>1, 2, 3, 4, 5, 6, 7, 8, 9, 10, 11, 12, 13</td><td><a class=\"ProveItLink\" href=\"expr.ipynb\"><img src=\"expr.png\" style=\"display:inline;vertical-align:middle;\" /></a></td></tr>\n",
       "<tr><td>1</td><td>Operation</td><td>operator:&nbsp;21<br>operands:&nbsp;14<br></td><td><a class=\"ProveItLink\" href=\"../8776f6509d0e01db99c8c290ab1853b3db3d048c0/expr.ipynb\"><img src=\"../8776f6509d0e01db99c8c290ab1853b3db3d048c0/expr.png\" style=\"display:inline;vertical-align:middle;\" /></a></td></tr>\n",
       "<tr><td>2</td><td>Operation</td><td>operator:&nbsp;21<br>operands:&nbsp;15<br></td><td><a class=\"ProveItLink\" href=\"../af21e96bc662cb74cc7cb3eb21c032f16e434dba0/expr.ipynb\"><img src=\"../af21e96bc662cb74cc7cb3eb21c032f16e434dba0/expr.png\" style=\"display:inline;vertical-align:middle;\" /></a></td></tr>\n",
       "<tr><td>3</td><td>Operation</td><td>operator:&nbsp;21<br>operands:&nbsp;16<br></td><td><a class=\"ProveItLink\" href=\"../1ecf7187b66dab7a43f7cb1b52e5ac93589ea2190/expr.ipynb\"><img src=\"../1ecf7187b66dab7a43f7cb1b52e5ac93589ea2190/expr.png\" style=\"display:inline;vertical-align:middle;\" /></a></td></tr>\n",
       "<tr><td>4</td><td>Operation</td><td>operator:&nbsp;21<br>operands:&nbsp;17<br></td><td><a class=\"ProveItLink\" href=\"../3f639545e90266cb0216d88a6b051f288bd136600/expr.ipynb\"><img src=\"../3f639545e90266cb0216d88a6b051f288bd136600/expr.png\" style=\"display:inline;vertical-align:middle;\" /></a></td></tr>\n",
       "<tr><td>5</td><td>Operation</td><td>operator:&nbsp;21<br>operands:&nbsp;18<br></td><td><a class=\"ProveItLink\" href=\"../1ca0140a9522d50581ff17dc0d17a73a36c23de10/expr.ipynb\"><img src=\"../1ca0140a9522d50581ff17dc0d17a73a36c23de10/expr.png\" style=\"display:inline;vertical-align:middle;\" /></a></td></tr>\n",
       "<tr><td>6</td><td>Operation</td><td>operator:&nbsp;21<br>operands:&nbsp;19<br></td><td><a class=\"ProveItLink\" href=\"../d561756048e3540c76bf8156d0669d6ddc4430d50/expr.ipynb\"><img src=\"../d561756048e3540c76bf8156d0669d6ddc4430d50/expr.png\" style=\"display:inline;vertical-align:middle;\" /></a></td></tr>\n",
       "<tr><td>7</td><td>Operation</td><td>operator:&nbsp;21<br>operands:&nbsp;20<br></td><td><a class=\"ProveItLink\" href=\"../0e470ca90a18c3e832a035a1077905c5e8d6a4740/expr.ipynb\"><img src=\"../0e470ca90a18c3e832a035a1077905c5e8d6a4740/expr.png\" style=\"display:inline;vertical-align:middle;\" /></a></td></tr>\n",
       "<tr><td>8</td><td>Operation</td><td>operator:&nbsp;21<br>operands:&nbsp;22<br></td><td><a class=\"ProveItLink\" href=\"../cd269619400aee585abca6d0978b26e87202298f0/expr.ipynb\"><img src=\"../cd269619400aee585abca6d0978b26e87202298f0/expr.png\" style=\"display:inline;vertical-align:middle;\" /></a></td></tr>\n",
       "<tr><td>9</td><td>Operation</td><td>operator:&nbsp;23<br>operands:&nbsp;24<br></td><td><a class=\"ProveItLink\" href=\"../fd2abffbdbdcfacf17a6737372dd8b872cafad700/expr.ipynb\"><img src=\"../fd2abffbdbdcfacf17a6737372dd8b872cafad700/expr.png\" style=\"display:inline;vertical-align:middle;\" /></a></td></tr>\n",
       "<tr><td>10</td><td>Operation</td><td>operator:&nbsp;28<br>operands:&nbsp;25<br></td><td><a class=\"ProveItLink\" href=\"../6fecb78b93bfc49e8f9343ce838a275f7e3fd74e0/expr.ipynb\"><img src=\"../6fecb78b93bfc49e8f9343ce838a275f7e3fd74e0/expr.png\" style=\"display:inline;vertical-align:middle;\" /></a></td></tr>\n",
       "<tr><td>11</td><td>Operation</td><td>operator:&nbsp;28<br>operands:&nbsp;26<br></td><td><a class=\"ProveItLink\" href=\"../4aaf3751affc0dd2f6d87a55b2958e7bed05efdd0/expr.ipynb\"><img src=\"../4aaf3751affc0dd2f6d87a55b2958e7bed05efdd0/expr.png\" style=\"display:inline;vertical-align:middle;\" /></a></td></tr>\n",
       "<tr><td>12</td><td>Operation</td><td>operator:&nbsp;28<br>operands:&nbsp;27<br></td><td><a class=\"ProveItLink\" href=\"../cd63e02c236f39c944446e7e316d90a221d83a8e0/expr.ipynb\"><img src=\"../cd63e02c236f39c944446e7e316d90a221d83a8e0/expr.png\" style=\"display:inline;vertical-align:middle;\" /></a></td></tr>\n",
       "<tr><td>13</td><td>Operation</td><td>operator:&nbsp;28<br>operands:&nbsp;29<br></td><td><a class=\"ProveItLink\" href=\"../9b3b44997c3c4aa72dc7bc6278a3fe9c8db9a0b70/expr.ipynb\"><img src=\"../9b3b44997c3c4aa72dc7bc6278a3fe9c8db9a0b70/expr.png\" style=\"display:inline;vertical-align:middle;\" /></a></td></tr>\n",
       "<tr><td>14</td><td>ExprTuple</td><td>39, 30</td><td><a class=\"ProveItLink\" href=\"../0969dc1cafe9ecb1790af088b1aae8d6ce560fda0/expr.ipynb\"><img src=\"../0969dc1cafe9ecb1790af088b1aae8d6ce560fda0/expr.png\" style=\"display:inline;vertical-align:middle;\" /></a></td></tr>\n",
       "<tr><td>15</td><td>ExprTuple</td><td>40, 30</td><td><a class=\"ProveItLink\" href=\"../43cf56dd5c4fd9c5d6ca0453908f71631eb84b860/expr.ipynb\"><img src=\"../43cf56dd5c4fd9c5d6ca0453908f71631eb84b860/expr.png\" style=\"display:inline;vertical-align:middle;\" /></a></td></tr>\n",
       "<tr><td>16</td><td>ExprTuple</td><td>41, 30</td><td><a class=\"ProveItLink\" href=\"../b46b32acf4cf47f37438c1a0f6be2bd65418847d0/expr.ipynb\"><img src=\"../b46b32acf4cf47f37438c1a0f6be2bd65418847d0/expr.png\" style=\"display:inline;vertical-align:middle;\" /></a></td></tr>\n",
       "<tr><td>17</td><td>ExprTuple</td><td>43, 30</td><td><a class=\"ProveItLink\" href=\"../53bfc7547c39624b118fa71b5356259a0c69f1ea0/expr.ipynb\"><img src=\"../53bfc7547c39624b118fa71b5356259a0c69f1ea0/expr.png\" style=\"display:inline;vertical-align:middle;\" /></a></td></tr>\n",
       "<tr><td>18</td><td>ExprTuple</td><td>35, 30</td><td><a class=\"ProveItLink\" href=\"../7bf88858bec556cf9508ed596cda4a1e472999230/expr.ipynb\"><img src=\"../7bf88858bec556cf9508ed596cda4a1e472999230/expr.png\" style=\"display:inline;vertical-align:middle;\" /></a></td></tr>\n",
       "<tr><td>19</td><td>ExprTuple</td><td>36, 30</td><td><a class=\"ProveItLink\" href=\"../eb3dc479d8712260b7d20c0f70b69cf215901b920/expr.ipynb\"><img src=\"../eb3dc479d8712260b7d20c0f70b69cf215901b920/expr.png\" style=\"display:inline;vertical-align:middle;\" /></a></td></tr>\n",
       "<tr><td>20</td><td>ExprTuple</td><td>37, 30</td><td><a class=\"ProveItLink\" href=\"../b3ebb9e53006f6fd1ba626189c7099eacbe01aad0/expr.ipynb\"><img src=\"../b3ebb9e53006f6fd1ba626189c7099eacbe01aad0/expr.png\" style=\"display:inline;vertical-align:middle;\" /></a></td></tr>\n",
       "<tr><td>21</td><td>Literal</td><td></td><td><a class=\"ProveItLink\" href=\"../../../../set_theory/membership/__pv_it/7776fc89cb67d0b5b1ec2c0c8e08da5587921ccf0/expr.ipynb\"><img src=\"../../../../set_theory/membership/__pv_it/7776fc89cb67d0b5b1ec2c0c8e08da5587921ccf0/expr.png\" style=\"display:inline;vertical-align:middle;\" /></a></td></tr>\n",
       "<tr><td>22</td><td>ExprTuple</td><td>38, 30</td><td><a class=\"ProveItLink\" href=\"../ae02c7a7b051f402ba39c9b52660749406c73ca00/expr.ipynb\"><img src=\"../ae02c7a7b051f402ba39c9b52660749406c73ca00/expr.png\" style=\"display:inline;vertical-align:middle;\" /></a></td></tr>\n",
       "<tr><td>23</td><td>Literal</td><td></td><td><a class=\"ProveItLink\" href=\"../8a6d9fc46c84b3911a71fbae15627dc2acebe2890/expr.ipynb\"><img src=\"../8a6d9fc46c84b3911a71fbae15627dc2acebe2890/expr.png\" style=\"display:inline;vertical-align:middle;\" /></a></td></tr>\n",
       "<tr><td>24</td><td>ExprTuple</td><td>31, 32, 33, 34</td><td><a class=\"ProveItLink\" href=\"../8520e1384df22ce4a4d899fc8344d10ecc0c3d070/expr.ipynb\"><img src=\"../8520e1384df22ce4a4d899fc8344d10ecc0c3d070/expr.png\" style=\"display:inline;vertical-align:middle;\" /></a></td></tr>\n",
       "<tr><td>25</td><td>ExprTuple</td><td>39, 35</td><td><a class=\"ProveItLink\" href=\"../a154429e2f9a687740b16d906529815748e7887a0/expr.ipynb\"><img src=\"../a154429e2f9a687740b16d906529815748e7887a0/expr.png\" style=\"display:inline;vertical-align:middle;\" /></a></td></tr>\n",
       "<tr><td>26</td><td>ExprTuple</td><td>40, 36</td><td><a class=\"ProveItLink\" href=\"../0d0a90d87cdaabb5b2e84d2dade66e7ab015a52b0/expr.ipynb\"><img src=\"../0d0a90d87cdaabb5b2e84d2dade66e7ab015a52b0/expr.png\" style=\"display:inline;vertical-align:middle;\" /></a></td></tr>\n",
       "<tr><td>27</td><td>ExprTuple</td><td>41, 37</td><td><a class=\"ProveItLink\" href=\"../05bdf79d5abf63975c1934522f822219ce1ffc060/expr.ipynb\"><img src=\"../05bdf79d5abf63975c1934522f822219ce1ffc060/expr.png\" style=\"display:inline;vertical-align:middle;\" /></a></td></tr>\n",
       "<tr><td>28</td><td>Literal</td><td></td><td><a class=\"ProveItLink\" href=\"../../../implication/__pv_it/1e62b0c0a90306fc48b17f0dc8d4dc4df8bb234f0/expr.ipynb\"><img src=\"../../../implication/__pv_it/1e62b0c0a90306fc48b17f0dc8d4dc4df8bb234f0/expr.png\" style=\"display:inline;vertical-align:middle;\" /></a></td></tr>\n",
       "<tr><td>29</td><td>ExprTuple</td><td>43, 38</td><td><a class=\"ProveItLink\" href=\"../3d73413a7693ed34f0b92f282fd9f8d6e50a74900/expr.ipynb\"><img src=\"../3d73413a7693ed34f0b92f282fd9f8d6e50a74900/expr.png\" style=\"display:inline;vertical-align:middle;\" /></a></td></tr>\n",
       "<tr><td>30</td><td>Literal</td><td></td><td><a class=\"ProveItLink\" href=\"../../../__pv_it/a3b387936f605fef1b535be3e1116cca8bbfc91b0/expr.ipynb\"><img src=\"../../../__pv_it/a3b387936f605fef1b535be3e1116cca8bbfc91b0/expr.png\" style=\"display:inline;vertical-align:middle;\" /></a></td></tr>\n",
       "<tr><td>31</td><td>Operation</td><td>operator:&nbsp;42<br>operand:&nbsp;39<br></td><td><a class=\"ProveItLink\" href=\"../98d4bc94e268eb5bd1dd8957b0f9355a80140e9b0/expr.ipynb\"><img src=\"../98d4bc94e268eb5bd1dd8957b0f9355a80140e9b0/expr.png\" style=\"display:inline;vertical-align:middle;\" /></a></td></tr>\n",
       "<tr><td>32</td><td>Operation</td><td>operator:&nbsp;42<br>operand:&nbsp;40<br></td><td><a class=\"ProveItLink\" href=\"../86f671dd514f6e615234986d96edb2c4ebb473e30/expr.ipynb\"><img src=\"../86f671dd514f6e615234986d96edb2c4ebb473e30/expr.png\" style=\"display:inline;vertical-align:middle;\" /></a></td></tr>\n",
       "<tr><td>33</td><td>Operation</td><td>operator:&nbsp;42<br>operand:&nbsp;41<br></td><td><a class=\"ProveItLink\" href=\"../bcbdf1ce52bb308fdab6c7e95a8776b6409ae2920/expr.ipynb\"><img src=\"../bcbdf1ce52bb308fdab6c7e95a8776b6409ae2920/expr.png\" style=\"display:inline;vertical-align:middle;\" /></a></td></tr>\n",
       "<tr><td>34</td><td>Operation</td><td>operator:&nbsp;42<br>operand:&nbsp;43<br></td><td><a class=\"ProveItLink\" href=\"../26962bbcf1ea19ecd1a959a6f84bb3bd232269e10/expr.ipynb\"><img src=\"../26962bbcf1ea19ecd1a959a6f84bb3bd232269e10/expr.png\" style=\"display:inline;vertical-align:middle;\" /></a></td></tr>\n",
       "<tr><td>35</td><td>Variable</td><td></td><td><a class=\"ProveItLink\" href=\"../../../../../__pv_it/90dd89ccd80bf49396519291652cb152091c59e90/expr.ipynb\"><img src=\"../../../../../__pv_it/90dd89ccd80bf49396519291652cb152091c59e90/expr.png\" style=\"display:inline;vertical-align:middle;\" /></a></td></tr>\n",
       "<tr><td>36</td><td>Variable</td><td></td><td><a class=\"ProveItLink\" href=\"../../../../../__pv_it/4f8f0280e7c3df04ebf74ae2485775c1e6a3c6790/expr.ipynb\"><img src=\"../../../../../__pv_it/4f8f0280e7c3df04ebf74ae2485775c1e6a3c6790/expr.png\" style=\"display:inline;vertical-align:middle;\" /></a></td></tr>\n",
       "<tr><td>37</td><td>Variable</td><td></td><td><a class=\"ProveItLink\" href=\"../../../../../__pv_it/cee9cab6a4478841aae82d0b4a3f7e59e7f4d54c0/expr.ipynb\"><img src=\"../../../../../__pv_it/cee9cab6a4478841aae82d0b4a3f7e59e7f4d54c0/expr.png\" style=\"display:inline;vertical-align:middle;\" /></a></td></tr>\n",
       "<tr><td>38</td><td>Variable</td><td></td><td><a class=\"ProveItLink\" href=\"../../../../../__pv_it/142afa0b5332296fbf9e170569a9a86f078cb7730/expr.ipynb\"><img src=\"../../../../../__pv_it/142afa0b5332296fbf9e170569a9a86f078cb7730/expr.png\" style=\"display:inline;vertical-align:middle;\" /></a></td></tr>\n",
       "<tr><td>39</td><td>Variable</td><td></td><td><a class=\"ProveItLink\" href=\"../../../../../__pv_it/d3792d0d8642fdf1cd2a3a9b32c673ee13653de00/expr.ipynb\"><img src=\"../../../../../__pv_it/d3792d0d8642fdf1cd2a3a9b32c673ee13653de00/expr.png\" style=\"display:inline;vertical-align:middle;\" /></a></td></tr>\n",
       "<tr><td>40</td><td>Variable</td><td></td><td><a class=\"ProveItLink\" href=\"../../../../../__pv_it/4d98b438710c5ada9ffa4646bb123a7d0e69ec000/expr.ipynb\"><img src=\"../../../../../__pv_it/4d98b438710c5ada9ffa4646bb123a7d0e69ec000/expr.png\" style=\"display:inline;vertical-align:middle;\" /></a></td></tr>\n",
       "<tr><td>41</td><td>Variable</td><td></td><td><a class=\"ProveItLink\" href=\"../../../../../__pv_it/dcb5a3e430485237dfe486162b026a4affb149300/expr.ipynb\"><img src=\"../../../../../__pv_it/dcb5a3e430485237dfe486162b026a4affb149300/expr.png\" style=\"display:inline;vertical-align:middle;\" /></a></td></tr>\n",
       "<tr><td>42</td><td>Literal</td><td></td><td><a class=\"ProveItLink\" href=\"../../../negation/__pv_it/d347242e9ffe8b0d3a039ea6a149983fef6cbe6c0/expr.ipynb\"><img src=\"../../../negation/__pv_it/d347242e9ffe8b0d3a039ea6a149983fef6cbe6c0/expr.png\" style=\"display:inline;vertical-align:middle;\" /></a></td></tr>\n",
       "<tr><td>43</td><td>Variable</td><td></td><td><a class=\"ProveItLink\" href=\"../../../../../__pv_it/8f4534f2d0cd8231a9b8a1771e8be76aa52adea40/expr.ipynb\"><img src=\"../../../../../__pv_it/8f4534f2d0cd8231a9b8a1771e8be76aa52adea40/expr.png\" style=\"display:inline;vertical-align:middle;\" /></a></td></tr>\n",
       "</table>\n"
      ],
      "text/plain": [
       "0. (A in BOOLEANS, B in BOOLEANS, C in BOOLEANS, D in BOOLEANS, H in BOOLEANS, I in BOOLEANS, J in BOOLEANS, K in BOOLEANS, [not](A) or [not](B) or [not](C) or [not](D), A => H, B => I, C => J, D => K)\n",
       "   core type: ExprTuple\n",
       "   sub-expressions: 1, 2, 3, 4, 5, 6, 7, 8, 9, 10, 11, 12, 13\n",
       "1. A in BOOLEANS\n",
       "   core type: Operation\n",
       "   operator: 21\n",
       "   operands: 14\n",
       "2. B in BOOLEANS\n",
       "   core type: Operation\n",
       "   operator: 21\n",
       "   operands: 15\n",
       "3. C in BOOLEANS\n",
       "   core type: Operation\n",
       "   operator: 21\n",
       "   operands: 16\n",
       "4. D in BOOLEANS\n",
       "   core type: Operation\n",
       "   operator: 21\n",
       "   operands: 17\n",
       "5. H in BOOLEANS\n",
       "   core type: Operation\n",
       "   operator: 21\n",
       "   operands: 18\n",
       "6. I in BOOLEANS\n",
       "   core type: Operation\n",
       "   operator: 21\n",
       "   operands: 19\n",
       "7. J in BOOLEANS\n",
       "   core type: Operation\n",
       "   operator: 21\n",
       "   operands: 20\n",
       "8. K in BOOLEANS\n",
       "   core type: Operation\n",
       "   operator: 21\n",
       "   operands: 22\n",
       "9. [not](A) or [not](B) or [not](C) or [not](D)\n",
       "   core type: Operation\n",
       "   operator: 23\n",
       "   operands: 24\n",
       "10. A => H\n",
       "    core type: Operation\n",
       "    operator: 28\n",
       "    operands: 25\n",
       "11. B => I\n",
       "    core type: Operation\n",
       "    operator: 28\n",
       "    operands: 26\n",
       "12. C => J\n",
       "    core type: Operation\n",
       "    operator: 28\n",
       "    operands: 27\n",
       "13. D => K\n",
       "    core type: Operation\n",
       "    operator: 28\n",
       "    operands: 29\n",
       "14. (A, BOOLEANS)\n",
       "    core type: ExprTuple\n",
       "    sub-expressions: 39, 30\n",
       "15. (B, BOOLEANS)\n",
       "    core type: ExprTuple\n",
       "    sub-expressions: 40, 30\n",
       "16. (C, BOOLEANS)\n",
       "    core type: ExprTuple\n",
       "    sub-expressions: 41, 30\n",
       "17. (D, BOOLEANS)\n",
       "    core type: ExprTuple\n",
       "    sub-expressions: 43, 30\n",
       "18. (H, BOOLEANS)\n",
       "    core type: ExprTuple\n",
       "    sub-expressions: 35, 30\n",
       "19. (I, BOOLEANS)\n",
       "    core type: ExprTuple\n",
       "    sub-expressions: 36, 30\n",
       "20. (J, BOOLEANS)\n",
       "    core type: ExprTuple\n",
       "    sub-expressions: 37, 30\n",
       "21. in\n",
       "    core type: Literal\n",
       "    sub-expressions: \n",
       "22. (K, BOOLEANS)\n",
       "    core type: ExprTuple\n",
       "    sub-expressions: 38, 30\n",
       "23. or\n",
       "    core type: Literal\n",
       "    sub-expressions: \n",
       "24. ([not](A), [not](B), [not](C), [not](D))\n",
       "    core type: ExprTuple\n",
       "    sub-expressions: 31, 32, 33, 34\n",
       "25. (A, H)\n",
       "    core type: ExprTuple\n",
       "    sub-expressions: 39, 35\n",
       "26. (B, I)\n",
       "    core type: ExprTuple\n",
       "    sub-expressions: 40, 36\n",
       "27. (C, J)\n",
       "    core type: ExprTuple\n",
       "    sub-expressions: 41, 37\n",
       "28. =>\n",
       "    core type: Literal\n",
       "    sub-expressions: \n",
       "29. (D, K)\n",
       "    core type: ExprTuple\n",
       "    sub-expressions: 43, 38\n",
       "30. BOOLEANS\n",
       "    core type: Literal\n",
       "    sub-expressions: \n",
       "31. [not](A)\n",
       "    core type: Operation\n",
       "    operator: 42\n",
       "    operand: 39\n",
       "32. [not](B)\n",
       "    core type: Operation\n",
       "    operator: 42\n",
       "    operand: 40\n",
       "33. [not](C)\n",
       "    core type: Operation\n",
       "    operator: 42\n",
       "    operand: 41\n",
       "34. [not](D)\n",
       "    core type: Operation\n",
       "    operator: 42\n",
       "    operand: 43\n",
       "35. H\n",
       "    core type: Variable\n",
       "    sub-expressions: \n",
       "36. I\n",
       "    core type: Variable\n",
       "    sub-expressions: \n",
       "37. J\n",
       "    core type: Variable\n",
       "    sub-expressions: \n",
       "38. K\n",
       "    core type: Variable\n",
       "    sub-expressions: \n",
       "39. A\n",
       "    core type: Variable\n",
       "    sub-expressions: \n",
       "40. B\n",
       "    core type: Variable\n",
       "    sub-expressions: \n",
       "41. C\n",
       "    core type: Variable\n",
       "    sub-expressions: \n",
       "42. not\n",
       "    core type: Literal\n",
       "    sub-expressions: \n",
       "43. D\n",
       "    core type: Variable\n",
       "    sub-expressions: "
      ]
     },
     "execution_count": 5,
     "metadata": {},
     "output_type": "execute_result"
    }
   ],
   "source": [
    "# display the expression information\n",
    "expr.exprInfo()"
   ]
  },
  {
   "cell_type": "code",
   "execution_count": null,
   "metadata": {},
   "outputs": [],
   "source": []
  }
 ],
 "metadata": {
  "kernelspec": {
   "display_name": "Python 3",
   "language": "python",
   "name": "python3"
  },
  "language_info": {
   "codemirror_mode": {
    "name": "ipython",
    "version": 3
   },
   "file_extension": ".py",
   "mimetype": "text/x-python",
   "name": "python",
   "nbconvert_exporter": "python",
   "pygments_lexer": "ipython3",
   "version": "3.7.3"
  }
 },
 "nbformat": 4,
 "nbformat_minor": 1
}
