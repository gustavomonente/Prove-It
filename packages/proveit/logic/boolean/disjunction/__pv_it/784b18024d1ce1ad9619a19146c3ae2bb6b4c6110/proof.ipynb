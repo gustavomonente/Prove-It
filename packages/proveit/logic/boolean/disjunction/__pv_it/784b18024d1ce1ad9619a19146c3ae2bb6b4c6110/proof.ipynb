{
 "cells": [
  {
   "cell_type": "markdown",
   "metadata": {},
   "source": [
    "Show the Proof\n",
    "========"
   ]
  },
  {
   "cell_type": "code",
   "execution_count": 1,
   "metadata": {},
   "outputs": [
    {
     "data": {
      "text/html": [
       "<table><tr><th>&nbsp;</th><th>step type</th><th>requirements</th><th>statement</th></tr>\n",
       "<tr><td><a name=\"proveit.logic.boolean.disjunction.784b18024d1ce1ad9619a19146c3ae2bb6b4c6110_step0\">0</a></td><td>instantiation</td><td><a href=\"#proveit.logic.boolean.disjunction.784b18024d1ce1ad9619a19146c3ae2bb6b4c6110_step1\">1</a>, <a href=\"#proveit.logic.boolean.disjunction.784b18024d1ce1ad9619a19146c3ae2bb6b4c6110_step2\">2</a></td><td><span style=\"font-size:20px;\"><a class=\"ProveItLink\" href=\"../29334ff616750fc4d38a717b86d4089147ddc53f0/expr.ipynb\"><img src=\"../29334ff616750fc4d38a717b86d4089147ddc53f0/expr.png\" style=\"display:inline;vertical-align:middle;\" /></a> <a class=\"ProveItLink\" href=\"proof.ipynb\" style=\"text-decoration: none\">&#x22A2;&nbsp;</a><a class=\"ProveItLink\" href=\"../8071da77a6319f6de586279c55578ec42bccd0540/expr.ipynb\"><img src=\"../8071da77a6319f6de586279c55578ec42bccd0540/expr.png\" style=\"display:inline;vertical-align:middle;\" /></a></span></td></tr>\n",
       "<tr><td>&nbsp;</td><td colspan=4 style=\"text-align:left\"><span style=\"font-size:20px;\"><a class=\"ProveItLink\" href=\"../../../../../__pv_it/d3792d0d8642fdf1cd2a3a9b32c673ee13653de00/expr.ipynb\"><img src=\"../../../../../__pv_it/d3792d0d8642fdf1cd2a3a9b32c673ee13653de00/expr.png\" style=\"display:inline;vertical-align:middle;\" /></a> : <a class=\"ProveItLink\" href=\"../../../../../__pv_it/dcb5a3e430485237dfe486162b026a4affb149300/expr.ipynb\"><img src=\"../../../../../__pv_it/dcb5a3e430485237dfe486162b026a4affb149300/expr.png\" style=\"display:inline;vertical-align:middle;\" /></a></span></td></tr><tr><td><a name=\"proveit.logic.boolean.disjunction.784b18024d1ce1ad9619a19146c3ae2bb6b4c6110_step1\">1</a></td><td>axiom</td><td></td><td><span style=\"font-size:20px;\"> <a class=\"ProveItLink\" href=\"../../../_axioms_.ipynb#eqTrueIntro\" style=\"text-decoration: none\">&#x22A2;&nbsp;</a><a class=\"ProveItLink\" href=\"../d2a33d0313b7bc56beacbbf95170c2a33b2ae8460/expr.ipynb\"><img src=\"../d2a33d0313b7bc56beacbbf95170c2a33b2ae8460/expr.png\" style=\"display:inline;vertical-align:middle;\" /></a></span></td></tr>\n",
       "<tr><td>&nbsp;</td><td colspan=4 style-\"text-align:left\"><a class=\"ProveItLink\" href=\"../../../_axioms_.ipynb#eqTrueIntro\">proveit.logic.boolean.eqTrueIntro</a></td></tr><tr><td><a name=\"proveit.logic.boolean.disjunction.784b18024d1ce1ad9619a19146c3ae2bb6b4c6110_step2\">2</a></td><td>modus ponens</td><td><a href=\"#proveit.logic.boolean.disjunction.784b18024d1ce1ad9619a19146c3ae2bb6b4c6110_step3\">3</a>, <a href=\"#proveit.logic.boolean.disjunction.784b18024d1ce1ad9619a19146c3ae2bb6b4c6110_step4\">4</a></td><td><span style=\"font-size:20px;\"><a class=\"ProveItLink\" href=\"../29334ff616750fc4d38a717b86d4089147ddc53f0/expr.ipynb\"><img src=\"../29334ff616750fc4d38a717b86d4089147ddc53f0/expr.png\" style=\"display:inline;vertical-align:middle;\" /></a> <a class=\"ProveItLink\" href=\"../cb4128835ab8d946d37d66fb1d3364a24efe9f570/proof.ipynb\" style=\"text-decoration: none\">&#x22A2;&nbsp;</a><a class=\"ProveItLink\" href=\"../../../../../__pv_it/dcb5a3e430485237dfe486162b026a4affb149300/expr.ipynb\"><img src=\"../../../../../__pv_it/dcb5a3e430485237dfe486162b026a4affb149300/expr.png\" style=\"display:inline;vertical-align:middle;\" /></a></span></td></tr>\n",
       "<tr><td><a name=\"proveit.logic.boolean.disjunction.784b18024d1ce1ad9619a19146c3ae2bb6b4c6110_step3\">3</a></td><td>assumption</td><td></td><td><span style=\"font-size:20px;\"><a class=\"ProveItLink\" href=\"../7f90c05b24ba3823b5ea7cb9b886bfb7a3a398740/expr.ipynb\"><img src=\"../7f90c05b24ba3823b5ea7cb9b886bfb7a3a398740/expr.png\" style=\"display:inline;vertical-align:middle;\" /></a> <a class=\"ProveItLink\" href=\"../a3a86b86ed9a31f06eaebf397296f521e60681ab0/proof.ipynb\" style=\"text-decoration: none\">&#x22A2;&nbsp;</a><a class=\"ProveItLink\" href=\"../6fa8cde582a96bd3cb54042f5d70b033e26864c40/expr.ipynb\"><img src=\"../6fa8cde582a96bd3cb54042f5d70b033e26864c40/expr.png\" style=\"display:inline;vertical-align:middle;\" /></a></span></td></tr>\n",
       "<tr><td><a name=\"proveit.logic.boolean.disjunction.784b18024d1ce1ad9619a19146c3ae2bb6b4c6110_step4\">4</a></td><td>assumption</td><td></td><td><span style=\"font-size:20px;\"><a class=\"ProveItLink\" href=\"../1ea553d38af7f0e38bb62d4c24279012575f1f120/expr.ipynb\"><img src=\"../1ea553d38af7f0e38bb62d4c24279012575f1f120/expr.png\" style=\"display:inline;vertical-align:middle;\" /></a> <a class=\"ProveItLink\" href=\"../6df2516a358cef7703b5191c8a812f90d132ebab0/proof.ipynb\" style=\"text-decoration: none\">&#x22A2;&nbsp;</a><a class=\"ProveItLink\" href=\"../../../../../__pv_it/d3792d0d8642fdf1cd2a3a9b32c673ee13653de00/expr.ipynb\"><img src=\"../../../../../__pv_it/d3792d0d8642fdf1cd2a3a9b32c673ee13653de00/expr.png\" style=\"display:inline;vertical-align:middle;\" /></a></span></td></tr>\n",
       "</table>"
      ],
      "text/plain": [
       "<proveit._core_.proof._ShowProof at 0x7f5b99859588>"
      ]
     },
     "execution_count": 1,
     "metadata": {},
     "output_type": "execute_result"
    }
   ],
   "source": [
    "import proveit\n",
    "# Automation is not needed when only showing a stored proof:\n",
    "proveit.defaults.automation = False # This will speed things up.\n",
    "proveit.defaults.inline_pngs = False # Makes files smaller.\n",
    "%show_proof"
   ]
  },
  {
   "cell_type": "code",
   "execution_count": null,
   "metadata": {},
   "outputs": [],
   "source": []
  }
 ],
 "metadata": {
  "kernelspec": {
   "display_name": "Python 3",
   "language": "python",
   "name": "python3"
  },
  "language_info": {
   "codemirror_mode": {
    "name": "ipython",
    "version": 3
   },
   "file_extension": ".py",
   "mimetype": "text/x-python",
   "name": "python",
   "nbconvert_exporter": "python",
   "pygments_lexer": "ipython3",
   "version": "3.7.3"
  }
 },
 "nbformat": 4,
 "nbformat_minor": 1
}
