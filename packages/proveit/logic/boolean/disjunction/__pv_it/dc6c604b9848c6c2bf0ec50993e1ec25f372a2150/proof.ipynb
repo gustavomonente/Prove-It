{
 "cells": [
  {
   "cell_type": "markdown",
   "metadata": {},
   "source": [
    "Show the Proof\n",
    "========"
   ]
  },
  {
   "cell_type": "code",
   "execution_count": 1,
   "metadata": {},
   "outputs": [
    {
     "data": {
      "text/html": [
       "<table><tr><th>&nbsp;</th><th>step type</th><th>requirements</th><th>statement</th></tr>\n",
       "<tr><td><a name=\"proveit.logic.boolean.disjunction.dc6c604b9848c6c2bf0ec50993e1ec25f372a2150_step0\">0</a></td><td>instantiation</td><td><a href=\"#proveit.logic.boolean.disjunction.dc6c604b9848c6c2bf0ec50993e1ec25f372a2150_step1\">1</a>, <a href=\"#proveit.logic.boolean.disjunction.dc6c604b9848c6c2bf0ec50993e1ec25f372a2150_step2\">2</a></td><td><span style=\"font-size:20px;\"><a class=\"ProveItLink\" href=\"../03347181a58e856c43d1f29d7e7bd28992a50b540/expr.ipynb\"><img src=\"../03347181a58e856c43d1f29d7e7bd28992a50b540/expr.png\" style=\"display:inline;vertical-align:middle;\" /></a> <a class=\"ProveItLink\" href=\"proof.ipynb\" style=\"text-decoration: none\">&#x22A2;&nbsp;</a><a class=\"ProveItLink\" href=\"../8776f6509d0e01db99c8c290ab1853b3db3d048c0/expr.ipynb\"><img src=\"../8776f6509d0e01db99c8c290ab1853b3db3d048c0/expr.png\" style=\"display:inline;vertical-align:middle;\" /></a></span></td></tr>\n",
       "<tr><td>&nbsp;</td><td colspan=4 style=\"text-align:left\"><span style=\"font-size:20px;\"><a class=\"ProveItLink\" href=\"../../../../../__pv_it/d3792d0d8642fdf1cd2a3a9b32c673ee13653de00/expr.ipynb\"><img src=\"../../../../../__pv_it/d3792d0d8642fdf1cd2a3a9b32c673ee13653de00/expr.png\" style=\"display:inline;vertical-align:middle;\" /></a> : <a class=\"ProveItLink\" href=\"../../../../../__pv_it/d3792d0d8642fdf1cd2a3a9b32c673ee13653de00/expr.ipynb\"><img src=\"../../../../../__pv_it/d3792d0d8642fdf1cd2a3a9b32c673ee13653de00/expr.png\" style=\"display:inline;vertical-align:middle;\" /></a></span></td></tr><tr><td><a name=\"proveit.logic.boolean.disjunction.dc6c604b9848c6c2bf0ec50993e1ec25f372a2150_step1\">1</a></td><td><i>reference</i></td><td><a href=\"#proveit.logic.boolean.disjunction.dc6c604b9848c6c2bf0ec50993e1ec25f372a2150_step5\">5</a></td><td><span style=\"font-size:20px;\"> <a class=\"ProveItLink\" href=\"../../../negation/_proofs_/operandInBool.ipynb\" style=\"text-decoration: none\">&#x22A2;&nbsp;</a><a class=\"ProveItLink\" href=\"../d67bc8fa0dcf572d8c516e0280cc90dc5026abfb0/expr.ipynb\"><img src=\"../d67bc8fa0dcf572d8c516e0280cc90dc5026abfb0/expr.png\" style=\"display:inline;vertical-align:middle;\" /></a></span></td></tr>\n",
       "<tr><td><a name=\"proveit.logic.boolean.disjunction.dc6c604b9848c6c2bf0ec50993e1ec25f372a2150_step2\">2</a></td><td>instantiation</td><td><a href=\"#proveit.logic.boolean.disjunction.dc6c604b9848c6c2bf0ec50993e1ec25f372a2150_step3\">3</a>, <a href=\"#proveit.logic.boolean.disjunction.dc6c604b9848c6c2bf0ec50993e1ec25f372a2150_step4\">4</a></td><td><span style=\"font-size:20px;\"><a class=\"ProveItLink\" href=\"../03347181a58e856c43d1f29d7e7bd28992a50b540/expr.ipynb\"><img src=\"../03347181a58e856c43d1f29d7e7bd28992a50b540/expr.png\" style=\"display:inline;vertical-align:middle;\" /></a> <a class=\"ProveItLink\" href=\"../dd7a869720f3bebc33114a1ea87dfb6f0c2229e40/proof.ipynb\" style=\"text-decoration: none\">&#x22A2;&nbsp;</a><a class=\"ProveItLink\" href=\"../8c343e6c369f15eeaf513282391479065283c2850/expr.ipynb\"><img src=\"../8c343e6c369f15eeaf513282391479065283c2850/expr.png\" style=\"display:inline;vertical-align:middle;\" /></a></span></td></tr>\n",
       "<tr><td>&nbsp;</td><td colspan=4 style=\"text-align:left\"><span style=\"font-size:20px;\"><a class=\"ProveItLink\" href=\"../../../../../__pv_it/d3792d0d8642fdf1cd2a3a9b32c673ee13653de00/expr.ipynb\"><img src=\"../../../../../__pv_it/d3792d0d8642fdf1cd2a3a9b32c673ee13653de00/expr.png\" style=\"display:inline;vertical-align:middle;\" /></a> : <a class=\"ProveItLink\" href=\"../98d4bc94e268eb5bd1dd8957b0f9355a80140e9b0/expr.ipynb\"><img src=\"../98d4bc94e268eb5bd1dd8957b0f9355a80140e9b0/expr.png\" style=\"display:inline;vertical-align:middle;\" /></a>, <a class=\"ProveItLink\" href=\"../../../../../__pv_it/4d98b438710c5ada9ffa4646bb123a7d0e69ec000/expr.ipynb\"><img src=\"../../../../../__pv_it/4d98b438710c5ada9ffa4646bb123a7d0e69ec000/expr.png\" style=\"display:inline;vertical-align:middle;\" /></a> : <a class=\"ProveItLink\" href=\"../86f671dd514f6e615234986d96edb2c4ebb473e30/expr.ipynb\"><img src=\"../86f671dd514f6e615234986d96edb2c4ebb473e30/expr.png\" style=\"display:inline;vertical-align:middle;\" /></a></span></td></tr><tr><td><a name=\"proveit.logic.boolean.disjunction.dc6c604b9848c6c2bf0ec50993e1ec25f372a2150_step3\">3</a></td><td>axiom</td><td></td><td><span style=\"font-size:20px;\"> <a class=\"ProveItLink\" href=\"../../../conjunction/_axioms_.ipynb#leftInBool\" style=\"text-decoration: none\">&#x22A2;&nbsp;</a><a class=\"ProveItLink\" href=\"../42d9fa45a038ea3636b03acd1b2bc8a20439494a0/expr.ipynb\"><img src=\"../42d9fa45a038ea3636b03acd1b2bc8a20439494a0/expr.png\" style=\"display:inline;vertical-align:middle;\" /></a></span></td></tr>\n",
       "<tr><td>&nbsp;</td><td colspan=4 style-\"text-align:left\"><a class=\"ProveItLink\" href=\"../../../conjunction/_axioms_.ipynb#leftInBool\">proveit.logic.boolean.conjunction.leftInBool</a></td></tr><tr><td><a name=\"proveit.logic.boolean.disjunction.dc6c604b9848c6c2bf0ec50993e1ec25f372a2150_step4\">4</a></td><td>instantiation</td><td><a href=\"#proveit.logic.boolean.disjunction.dc6c604b9848c6c2bf0ec50993e1ec25f372a2150_step5\">5</a>, <a href=\"#proveit.logic.boolean.disjunction.dc6c604b9848c6c2bf0ec50993e1ec25f372a2150_step6\">6</a></td><td><span style=\"font-size:20px;\"><a class=\"ProveItLink\" href=\"../03347181a58e856c43d1f29d7e7bd28992a50b540/expr.ipynb\"><img src=\"../03347181a58e856c43d1f29d7e7bd28992a50b540/expr.png\" style=\"display:inline;vertical-align:middle;\" /></a> <a class=\"ProveItLink\" href=\"../b84eb217937fca11ab5fa4adfa8628cba8b966850/proof.ipynb\" style=\"text-decoration: none\">&#x22A2;&nbsp;</a><a class=\"ProveItLink\" href=\"../98cc1af6cad362cb54264667a12932ecd1ff23ea0/expr.ipynb\"><img src=\"../98cc1af6cad362cb54264667a12932ecd1ff23ea0/expr.png\" style=\"display:inline;vertical-align:middle;\" /></a></span></td></tr>\n",
       "<tr><td>&nbsp;</td><td colspan=4 style=\"text-align:left\"><span style=\"font-size:20px;\"><a class=\"ProveItLink\" href=\"../../../../../__pv_it/d3792d0d8642fdf1cd2a3a9b32c673ee13653de00/expr.ipynb\"><img src=\"../../../../../__pv_it/d3792d0d8642fdf1cd2a3a9b32c673ee13653de00/expr.png\" style=\"display:inline;vertical-align:middle;\" /></a> : <a class=\"ProveItLink\" href=\"../60626756ccb15f128d2bef7354480a44eb8269b70/expr.ipynb\"><img src=\"../60626756ccb15f128d2bef7354480a44eb8269b70/expr.png\" style=\"display:inline;vertical-align:middle;\" /></a></span></td></tr><tr><td><a name=\"proveit.logic.boolean.disjunction.dc6c604b9848c6c2bf0ec50993e1ec25f372a2150_step5\">5</a></td><td>theorem</td><td></td><td><span style=\"font-size:20px;\"> <a class=\"ProveItLink\" href=\"../../../negation/_proofs_/operandInBool.ipynb\" style=\"text-decoration: none\">&#x22A2;&nbsp;</a><a class=\"ProveItLink\" href=\"../d67bc8fa0dcf572d8c516e0280cc90dc5026abfb0/expr.ipynb\"><img src=\"../d67bc8fa0dcf572d8c516e0280cc90dc5026abfb0/expr.png\" style=\"display:inline;vertical-align:middle;\" /></a></span></td></tr>\n",
       "<tr><td>&nbsp;</td><td colspan=4 style-\"text-align:left\"><a class=\"ProveItLink\" href=\"../../../negation/_proofs_/operandInBool.ipynb\">proveit.logic.boolean.negation.operandInBool</a></td></tr><tr><td><a name=\"proveit.logic.boolean.disjunction.dc6c604b9848c6c2bf0ec50993e1ec25f372a2150_step6\">6</a></td><td>instantiation</td><td><a href=\"#proveit.logic.boolean.disjunction.dc6c604b9848c6c2bf0ec50993e1ec25f372a2150_step7\">7</a>, <a href=\"#proveit.logic.boolean.disjunction.dc6c604b9848c6c2bf0ec50993e1ec25f372a2150_step8\">8</a>, <a href=\"#proveit.logic.boolean.disjunction.dc6c604b9848c6c2bf0ec50993e1ec25f372a2150_step9\">9</a></td><td><span style=\"font-size:20px;\"><a class=\"ProveItLink\" href=\"../03347181a58e856c43d1f29d7e7bd28992a50b540/expr.ipynb\"><img src=\"../03347181a58e856c43d1f29d7e7bd28992a50b540/expr.png\" style=\"display:inline;vertical-align:middle;\" /></a> <a class=\"ProveItLink\" href=\"../4b67e9b252632e1a41aa29f2b8ec19a2c4e4cc3f0/proof.ipynb\" style=\"text-decoration: none\">&#x22A2;&nbsp;</a><a class=\"ProveItLink\" href=\"../863f6607ce58852c3aee51aff655d9f8e99365020/expr.ipynb\"><img src=\"../863f6607ce58852c3aee51aff655d9f8e99365020/expr.png\" style=\"display:inline;vertical-align:middle;\" /></a></span></td></tr>\n",
       "<tr><td>&nbsp;</td><td colspan=4 style=\"text-align:left\"><span style=\"font-size:20px;\"><a class=\"ProveItLink\" href=\"../6adf35e534b0f74f25bdd03c03dfd88a84b3ace50/expr.ipynb\"><img src=\"../6adf35e534b0f74f25bdd03c03dfd88a84b3ace50/expr.png\" style=\"display:inline;vertical-align:middle;\" /></a> : <a class=\"ProveItLink\" href=\"../7f5851d30d9071ac5add92b1415dd8c1d59a5c620/expr.ipynb\"><img src=\"../7f5851d30d9071ac5add92b1415dd8c1d59a5c620/expr.png\" style=\"display:inline;vertical-align:middle;\" /></a>, <a class=\"ProveItLink\" href=\"../../../../../__pv_it/72df168d2bfb4e0140af90912ebf83b13772060b0/expr.ipynb\"><img src=\"../../../../../__pv_it/72df168d2bfb4e0140af90912ebf83b13772060b0/expr.png\" style=\"display:inline;vertical-align:middle;\" /></a> : <a class=\"ProveItLink\" href=\"../c606cb2265386734ecf54b6eb01d3e573624d7f80/expr.ipynb\"><img src=\"../c606cb2265386734ecf54b6eb01d3e573624d7f80/expr.png\" style=\"display:inline;vertical-align:middle;\" /></a></span></td></tr><tr><td><a name=\"proveit.logic.boolean.disjunction.dc6c604b9848c6c2bf0ec50993e1ec25f372a2150_step7\">7</a></td><td>theorem</td><td></td><td><span style=\"font-size:20px;\"> <a class=\"ProveItLink\" href=\"../../../../equality/_proofs_/substituteTruth.ipynb\" style=\"text-decoration: none\">&#x22A2;&nbsp;</a><a class=\"ProveItLink\" href=\"../c2cb97100b117f143ca3c09a77f75b44bb41e6160/expr.ipynb\"><img src=\"../c2cb97100b117f143ca3c09a77f75b44bb41e6160/expr.png\" style=\"display:inline;vertical-align:middle;\" /></a></span></td></tr>\n",
       "<tr><td>&nbsp;</td><td colspan=4 style-\"text-align:left\"><a class=\"ProveItLink\" href=\"../../../../equality/_proofs_/substituteTruth.ipynb\">proveit.logic.equality.substituteTruth</a></td></tr><tr><td><a name=\"proveit.logic.boolean.disjunction.dc6c604b9848c6c2bf0ec50993e1ec25f372a2150_step8\">8</a></td><td>theorem</td><td></td><td><span style=\"font-size:20px;\"> <a class=\"ProveItLink\" href=\"../../../_proofs_/trueInBool.ipynb\" style=\"text-decoration: none\">&#x22A2;&nbsp;</a><a class=\"ProveItLink\" href=\"../2f88e5c6f7ea7ef0da11c50a533a1f221022588f0/expr.ipynb\"><img src=\"../2f88e5c6f7ea7ef0da11c50a533a1f221022588f0/expr.png\" style=\"display:inline;vertical-align:middle;\" /></a></span></td></tr>\n",
       "<tr><td>&nbsp;</td><td colspan=4 style-\"text-align:left\"><a class=\"ProveItLink\" href=\"../../../_proofs_/trueInBool.ipynb\">proveit.logic.boolean.trueInBool</a></td></tr><tr><td><a name=\"proveit.logic.boolean.disjunction.dc6c604b9848c6c2bf0ec50993e1ec25f372a2150_step9\">9</a></td><td>assumption</td><td></td><td><span style=\"font-size:20px;\"><a class=\"ProveItLink\" href=\"../03347181a58e856c43d1f29d7e7bd28992a50b540/expr.ipynb\"><img src=\"../03347181a58e856c43d1f29d7e7bd28992a50b540/expr.png\" style=\"display:inline;vertical-align:middle;\" /></a> <a class=\"ProveItLink\" href=\"../76f09c1d12fdd8be16c76c4fc754aa0a970b5bf50/proof.ipynb\" style=\"text-decoration: none\">&#x22A2;&nbsp;</a><a class=\"ProveItLink\" href=\"../c606cb2265386734ecf54b6eb01d3e573624d7f80/expr.ipynb\"><img src=\"../c606cb2265386734ecf54b6eb01d3e573624d7f80/expr.png\" style=\"display:inline;vertical-align:middle;\" /></a></span></td></tr>\n",
       "</table>"
      ],
      "text/plain": [
       "<proveit._core_.proof._ShowProof at 0x7f5b8a83a198>"
      ]
     },
     "execution_count": 1,
     "metadata": {},
     "output_type": "execute_result"
    }
   ],
   "source": [
    "import proveit\n",
    "# Automation is not needed when only showing a stored proof:\n",
    "proveit.defaults.automation = False # This will speed things up.\n",
    "proveit.defaults.inline_pngs = False # Makes files smaller.\n",
    "%show_proof"
   ]
  },
  {
   "cell_type": "code",
   "execution_count": null,
   "metadata": {},
   "outputs": [],
   "source": []
  }
 ],
 "metadata": {
  "kernelspec": {
   "display_name": "Python 3",
   "language": "python",
   "name": "python3"
  },
  "language_info": {
   "codemirror_mode": {
    "name": "ipython",
    "version": 3
   },
   "file_extension": ".py",
   "mimetype": "text/x-python",
   "name": "python",
   "nbconvert_exporter": "python",
   "pygments_lexer": "ipython3",
   "version": "3.7.3"
  }
 },
 "nbformat": 4,
 "nbformat_minor": 1
}
