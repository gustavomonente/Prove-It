{
 "cells": [
  {
   "cell_type": "markdown",
   "metadata": {},
   "source": [
    "Theorem Dependencies\n",
    "=======================\n",
    "\n",
    "## <a class=\"ProveItLink\" href=\"../../_context_.ipynb\">proveit.logic.boolean.disjunction</a>.<a class=\"ProveItLink\" href=\"../../_theorems_.ipynb#notRightIfNeither\">notRightIfNeither</a> \n",
    "***see <a class=\"ProveItLink\" href=\"../../_proofs_/notRightIfNeither.ipynb\">proof</a>***"
   ]
  },
  {
   "cell_type": "code",
   "execution_count": 1,
   "metadata": {},
   "outputs": [],
   "source": [
    "import proveit\n",
    "# Automation is not needed when querying dependencies:\n",
    "proveit.defaults.automation = False # This will speed things up.\n",
    "proveit.defaults.inline_pngs = False # Makes files smaller.\n",
    "from proveit.logic.boolean.disjunction._theorems_ import notRightIfNeither"
   ]
  },
  {
   "cell_type": "code",
   "execution_count": 2,
   "metadata": {},
   "outputs": [
    {
     "data": {
      "text/html": [
       "<h3>Unproven theorems required (directly or indirectly) to prove notRightIfNeither</h3>"
      ],
      "text/plain": [
       "<IPython.core.display.HTML object>"
      ]
     },
     "metadata": {},
     "output_type": "display_data"
    },
    {
     "data": {
      "text/html": [
       "<dl>"
      ],
      "text/plain": [
       "<IPython.core.display.HTML object>"
      ]
     },
     "metadata": {},
     "output_type": "display_data"
    },
    {
     "data": {
      "text/html": [
       "<dt><a class=\"ProveItLink\" href=\"../../../../set_theory/enumeration/_proofs_/fold.ipynb\">proveit.logic.set_theory.enumeration.fold</a></dt><dd><a class=\"ProveItLink\" href=\"../../../../set_theory/enumeration/__pv_it/a8768e6f81edbcdb0a1d44f3a219f44ab58026160/expr.ipynb\"><img src=\"../../../../set_theory/enumeration/__pv_it/a8768e6f81edbcdb0a1d44f3a219f44ab58026160/expr.png\" style=\"display:inline;vertical-align:middle;\" /></a></dd>"
      ],
      "text/plain": [
       "<IPython.core.display.HTML object>"
      ]
     },
     "metadata": {},
     "output_type": "display_data"
    },
    {
     "data": {
      "text/html": [
       "<dt><a class=\"ProveItLink\" href=\"../../../../set_theory/enumeration/_proofs_/unfold.ipynb\">proveit.logic.set_theory.enumeration.unfold</a></dt><dd><a class=\"ProveItLink\" href=\"../../../../set_theory/enumeration/__pv_it/e3f0b09ec930e7f470c34206dd6ba5dac3e246f30/expr.ipynb\"><img src=\"../../../../set_theory/enumeration/__pv_it/e3f0b09ec930e7f470c34206dd6ba5dac3e246f30/expr.png\" style=\"display:inline;vertical-align:middle;\" /></a></dd>"
      ],
      "text/plain": [
       "<IPython.core.display.HTML object>"
      ]
     },
     "metadata": {},
     "output_type": "display_data"
    },
    {
     "data": {
      "text/html": [
       "<dt><a class=\"ProveItLink\" href=\"../../../../../number/numeral/deci/_proofs_/nat2.ipynb\">proveit.number.numeral.deci.nat2</a></dt><dd><a class=\"ProveItLink\" href=\"../../../../../number/numeral/deci/__pv_it/e1be5cc0ffa039746758df99e3fd79595c567a170/expr.ipynb\"><img src=\"../../../../../number/numeral/deci/__pv_it/e1be5cc0ffa039746758df99e3fd79595c567a170/expr.png\" style=\"display:inline;vertical-align:middle;\" /></a></dd>"
      ],
      "text/plain": [
       "<IPython.core.display.HTML object>"
      ]
     },
     "metadata": {},
     "output_type": "display_data"
    },
    {
     "data": {
      "text/html": [
       "<dt><a class=\"ProveItLink\" href=\"../../../../../number/numeral/deci/_proofs_/tuple_len_2_typical_equiv.ipynb\">proveit.number.numeral.deci.tuple_len_2_typical_equiv</a></dt><dd><a class=\"ProveItLink\" href=\"../../../../../number/numeral/deci/__pv_it/31a39e19408f8b414290df245ce20e6a3d0797030/expr.ipynb\"><img src=\"../../../../../number/numeral/deci/__pv_it/31a39e19408f8b414290df245ce20e6a3d0797030/expr.png\" style=\"display:inline;vertical-align:middle;\" /></a></dd>"
      ],
      "text/plain": [
       "<IPython.core.display.HTML object>"
      ]
     },
     "metadata": {},
     "output_type": "display_data"
    },
    {
     "data": {
      "text/html": [
       "</dl>"
      ],
      "text/plain": [
       "<IPython.core.display.HTML object>"
      ]
     },
     "metadata": {},
     "output_type": "display_data"
    },
    {
     "data": {
      "text/html": [
       "<h3>Axioms required (directly or indirectly) to prove notRightIfNeither</h3>"
      ],
      "text/plain": [
       "<IPython.core.display.HTML object>"
      ]
     },
     "metadata": {},
     "output_type": "display_data"
    },
    {
     "data": {
      "text/html": [
       "<dl>"
      ],
      "text/plain": [
       "<IPython.core.display.HTML object>"
      ]
     },
     "metadata": {},
     "output_type": "display_data"
    },
    {
     "data": {
      "text/html": [
       "<dt><a class=\"ProveItLink\" href=\"../../../_axioms_.ipynb#boolsDef\">proveit.logic.boolean.boolsDef</a></dt><dd><a class=\"ProveItLink\" href=\"../../../__pv_it/f8b51998348a6385fada5a5dcf4f6799320f28650/expr.ipynb\"><img src=\"../../../__pv_it/f8b51998348a6385fada5a5dcf4f6799320f28650/expr.png\" style=\"display:inline;vertical-align:middle;\" /></a></dd>"
      ],
      "text/plain": [
       "<IPython.core.display.HTML object>"
      ]
     },
     "metadata": {},
     "output_type": "display_data"
    },
    {
     "data": {
      "text/html": [
       "<dt><a class=\"ProveItLink\" href=\"../../_axioms_.ipynb#leftInBool\">proveit.logic.boolean.disjunction.leftInBool</a></dt><dd><a class=\"ProveItLink\" href=\"../3f3431be224a134c1b974a7eef2d3730ddb1adf10/expr.ipynb\"><img src=\"../3f3431be224a134c1b974a7eef2d3730ddb1adf10/expr.png\" style=\"display:inline;vertical-align:middle;\" /></a></dd>"
      ],
      "text/plain": [
       "<IPython.core.display.HTML object>"
      ]
     },
     "metadata": {},
     "output_type": "display_data"
    },
    {
     "data": {
      "text/html": [
       "<dt><a class=\"ProveItLink\" href=\"../../_axioms_.ipynb#orFF\">proveit.logic.boolean.disjunction.orFF</a></dt><dd><a class=\"ProveItLink\" href=\"../157e538b35995d1bc78bc7129e3e67c586df31e00/expr.ipynb\"><img src=\"../157e538b35995d1bc78bc7129e3e67c586df31e00/expr.png\" style=\"display:inline;vertical-align:middle;\" /></a></dd>"
      ],
      "text/plain": [
       "<IPython.core.display.HTML object>"
      ]
     },
     "metadata": {},
     "output_type": "display_data"
    },
    {
     "data": {
      "text/html": [
       "<dt><a class=\"ProveItLink\" href=\"../../_axioms_.ipynb#orFT\">proveit.logic.boolean.disjunction.orFT</a></dt><dd><a class=\"ProveItLink\" href=\"../8aa7d69dad51feab352b29ee3ff85b17f11bfe7d0/expr.ipynb\"><img src=\"../8aa7d69dad51feab352b29ee3ff85b17f11bfe7d0/expr.png\" style=\"display:inline;vertical-align:middle;\" /></a></dd>"
      ],
      "text/plain": [
       "<IPython.core.display.HTML object>"
      ]
     },
     "metadata": {},
     "output_type": "display_data"
    },
    {
     "data": {
      "text/html": [
       "<dt><a class=\"ProveItLink\" href=\"../../_axioms_.ipynb#orTF\">proveit.logic.boolean.disjunction.orTF</a></dt><dd><a class=\"ProveItLink\" href=\"../a980f2e4f091260c75434ac31f723f4cc5f16b430/expr.ipynb\"><img src=\"../a980f2e4f091260c75434ac31f723f4cc5f16b430/expr.png\" style=\"display:inline;vertical-align:middle;\" /></a></dd>"
      ],
      "text/plain": [
       "<IPython.core.display.HTML object>"
      ]
     },
     "metadata": {},
     "output_type": "display_data"
    },
    {
     "data": {
      "text/html": [
       "<dt><a class=\"ProveItLink\" href=\"../../_axioms_.ipynb#orTT\">proveit.logic.boolean.disjunction.orTT</a></dt><dd><a class=\"ProveItLink\" href=\"../076ee77368cebfdab42bbf9d88db9c33e01699d20/expr.ipynb\"><img src=\"../076ee77368cebfdab42bbf9d88db9c33e01699d20/expr.png\" style=\"display:inline;vertical-align:middle;\" /></a></dd>"
      ],
      "text/plain": [
       "<IPython.core.display.HTML object>"
      ]
     },
     "metadata": {},
     "output_type": "display_data"
    },
    {
     "data": {
      "text/html": [
       "<dt><a class=\"ProveItLink\" href=\"../../_axioms_.ipynb#rightInBool\">proveit.logic.boolean.disjunction.rightInBool</a></dt><dd><a class=\"ProveItLink\" href=\"../e2b42e3b7b09cfee42af5a45b6d7306ced219af80/expr.ipynb\"><img src=\"../e2b42e3b7b09cfee42af5a45b6d7306ced219af80/expr.png\" style=\"display:inline;vertical-align:middle;\" /></a></dd>"
      ],
      "text/plain": [
       "<IPython.core.display.HTML object>"
      ]
     },
     "metadata": {},
     "output_type": "display_data"
    },
    {
     "data": {
      "text/html": [
       "<dt><a class=\"ProveItLink\" href=\"../../../_axioms_.ipynb#eqTrueElim\">proveit.logic.boolean.eqTrueElim</a></dt><dd><a class=\"ProveItLink\" href=\"../../../__pv_it/c40d2fe3b647e54f3c41cbb64fa7a5fea23ad4ba0/expr.ipynb\"><img src=\"../../../__pv_it/c40d2fe3b647e54f3c41cbb64fa7a5fea23ad4ba0/expr.png\" style=\"display:inline;vertical-align:middle;\" /></a></dd>"
      ],
      "text/plain": [
       "<IPython.core.display.HTML object>"
      ]
     },
     "metadata": {},
     "output_type": "display_data"
    },
    {
     "data": {
      "text/html": [
       "<dt><a class=\"ProveItLink\" href=\"../../../_axioms_.ipynb#eqTrueIntro\">proveit.logic.boolean.eqTrueIntro</a></dt><dd><a class=\"ProveItLink\" href=\"../../../__pv_it/1b97d519b6f842613318d652c6ad18957257936d0/expr.ipynb\"><img src=\"../../../__pv_it/1b97d519b6f842613318d652c6ad18957257936d0/expr.png\" style=\"display:inline;vertical-align:middle;\" /></a></dd>"
      ],
      "text/plain": [
       "<IPython.core.display.HTML object>"
      ]
     },
     "metadata": {},
     "output_type": "display_data"
    },
    {
     "data": {
      "text/html": [
       "<dt><a class=\"ProveItLink\" href=\"../../../_axioms_.ipynb#falseNotTrue\">proveit.logic.boolean.falseNotTrue</a></dt><dd><a class=\"ProveItLink\" href=\"../../../__pv_it/9232c35b58f1471872c4bdc53718ee27a9be34610/expr.ipynb\"><img src=\"../../../__pv_it/9232c35b58f1471872c4bdc53718ee27a9be34610/expr.png\" style=\"display:inline;vertical-align:middle;\" /></a></dd>"
      ],
      "text/plain": [
       "<IPython.core.display.HTML object>"
      ]
     },
     "metadata": {},
     "output_type": "display_data"
    },
    {
     "data": {
      "text/html": [
       "<dt><a class=\"ProveItLink\" href=\"../../../implication/_axioms_.ipynb#impliesFalseDef\">proveit.logic.boolean.implication.impliesFalseDef</a></dt><dd><a class=\"ProveItLink\" href=\"../../../implication/__pv_it/aca4db733abe35764d84bf2837c8f5c6155088360/expr.ipynb\"><img src=\"../../../implication/__pv_it/aca4db733abe35764d84bf2837c8f5c6155088360/expr.png\" style=\"display:inline;vertical-align:middle;\" /></a></dd>"
      ],
      "text/plain": [
       "<IPython.core.display.HTML object>"
      ]
     },
     "metadata": {},
     "output_type": "display_data"
    },
    {
     "data": {
      "text/html": [
       "<dt><a class=\"ProveItLink\" href=\"../../../negation/_axioms_.ipynb#doubleNegationElim\">proveit.logic.boolean.negation.doubleNegationElim</a></dt><dd><a class=\"ProveItLink\" href=\"../../../negation/__pv_it/7b9d51617922c8becadf75227293c8619ec4f9b70/expr.ipynb\"><img src=\"../../../negation/__pv_it/7b9d51617922c8becadf75227293c8619ec4f9b70/expr.png\" style=\"display:inline;vertical-align:middle;\" /></a></dd>"
      ],
      "text/plain": [
       "<IPython.core.display.HTML object>"
      ]
     },
     "metadata": {},
     "output_type": "display_data"
    },
    {
     "data": {
      "text/html": [
       "<dt><a class=\"ProveItLink\" href=\"../../../negation/_axioms_.ipynb#doubleNegationIntro\">proveit.logic.boolean.negation.doubleNegationIntro</a></dt><dd><a class=\"ProveItLink\" href=\"../../../negation/__pv_it/d708a7ae9593f546cdd86f106fd2df0ebb38ad120/expr.ipynb\"><img src=\"../../../negation/__pv_it/d708a7ae9593f546cdd86f106fd2df0ebb38ad120/expr.png\" style=\"display:inline;vertical-align:middle;\" /></a></dd>"
      ],
      "text/plain": [
       "<IPython.core.display.HTML object>"
      ]
     },
     "metadata": {},
     "output_type": "display_data"
    },
    {
     "data": {
      "text/html": [
       "<dt><a class=\"ProveItLink\" href=\"../../../negation/_axioms_.ipynb#negationElim\">proveit.logic.boolean.negation.negationElim</a></dt><dd><a class=\"ProveItLink\" href=\"../../../negation/__pv_it/effe4a00447dd6924d93afef35ad027eae208a7a0/expr.ipynb\"><img src=\"../../../negation/__pv_it/effe4a00447dd6924d93afef35ad027eae208a7a0/expr.png\" style=\"display:inline;vertical-align:middle;\" /></a></dd>"
      ],
      "text/plain": [
       "<IPython.core.display.HTML object>"
      ]
     },
     "metadata": {},
     "output_type": "display_data"
    },
    {
     "data": {
      "text/html": [
       "<dt><a class=\"ProveItLink\" href=\"../../../negation/_axioms_.ipynb#negationIntro\">proveit.logic.boolean.negation.negationIntro</a></dt><dd><a class=\"ProveItLink\" href=\"../../../negation/__pv_it/d92be96a81a927975a3e4fc43cc9e259175feb200/expr.ipynb\"><img src=\"../../../negation/__pv_it/d92be96a81a927975a3e4fc43cc9e259175feb200/expr.png\" style=\"display:inline;vertical-align:middle;\" /></a></dd>"
      ],
      "text/plain": [
       "<IPython.core.display.HTML object>"
      ]
     },
     "metadata": {},
     "output_type": "display_data"
    },
    {
     "data": {
      "text/html": [
       "<dt><a class=\"ProveItLink\" href=\"../../../_axioms_.ipynb#trueAxiom\">proveit.logic.boolean.trueAxiom</a></dt><dd><a class=\"ProveItLink\" href=\"../../../__pv_it/b5b8ce0f03ab68a7c7bb937dfeb4112a686e3cbb0/expr.ipynb\"><img src=\"../../../__pv_it/b5b8ce0f03ab68a7c7bb937dfeb4112a686e3cbb0/expr.png\" style=\"display:inline;vertical-align:middle;\" /></a></dd>"
      ],
      "text/plain": [
       "<IPython.core.display.HTML object>"
      ]
     },
     "metadata": {},
     "output_type": "display_data"
    },
    {
     "data": {
      "text/html": [
       "<dt><a class=\"ProveItLink\" href=\"../../../../equality/_axioms_.ipynb#equalityInBool\">proveit.logic.equality.equalityInBool</a></dt><dd><a class=\"ProveItLink\" href=\"../../../../equality/__pv_it/8e4dcb0131893a0cba30db381aaa3ccc1f1d2dea0/expr.ipynb\"><img src=\"../../../../equality/__pv_it/8e4dcb0131893a0cba30db381aaa3ccc1f1d2dea0/expr.png\" style=\"display:inline;vertical-align:middle;\" /></a></dd>"
      ],
      "text/plain": [
       "<IPython.core.display.HTML object>"
      ]
     },
     "metadata": {},
     "output_type": "display_data"
    },
    {
     "data": {
      "text/html": [
       "<dt><a class=\"ProveItLink\" href=\"../../../../equality/_axioms_.ipynb#equalsReflexivity\">proveit.logic.equality.equalsReflexivity</a></dt><dd><a class=\"ProveItLink\" href=\"../../../../equality/__pv_it/41ee2d23887e0db2fb1c64bf69a66887d78f206e0/expr.ipynb\"><img src=\"../../../../equality/__pv_it/41ee2d23887e0db2fb1c64bf69a66887d78f206e0/expr.png\" style=\"display:inline;vertical-align:middle;\" /></a></dd>"
      ],
      "text/plain": [
       "<IPython.core.display.HTML object>"
      ]
     },
     "metadata": {},
     "output_type": "display_data"
    },
    {
     "data": {
      "text/html": [
       "<dt><a class=\"ProveItLink\" href=\"../../../../equality/_axioms_.ipynb#equalsSymmetry\">proveit.logic.equality.equalsSymmetry</a></dt><dd><a class=\"ProveItLink\" href=\"../../../../equality/__pv_it/2ec3cefd5b68d70e9e028d7461f9728ae37d4c650/expr.ipynb\"><img src=\"../../../../equality/__pv_it/2ec3cefd5b68d70e9e028d7461f9728ae37d4c650/expr.png\" style=\"display:inline;vertical-align:middle;\" /></a></dd>"
      ],
      "text/plain": [
       "<IPython.core.display.HTML object>"
      ]
     },
     "metadata": {},
     "output_type": "display_data"
    },
    {
     "data": {
      "text/html": [
       "<dt><a class=\"ProveItLink\" href=\"../../../../equality/_axioms_.ipynb#equalsTransitivity\">proveit.logic.equality.equalsTransitivity</a></dt><dd><a class=\"ProveItLink\" href=\"../../../../equality/__pv_it/495c166cdd14b46cf3711cb4467adbb9a15d43120/expr.ipynb\"><img src=\"../../../../equality/__pv_it/495c166cdd14b46cf3711cb4467adbb9a15d43120/expr.png\" style=\"display:inline;vertical-align:middle;\" /></a></dd>"
      ],
      "text/plain": [
       "<IPython.core.display.HTML object>"
      ]
     },
     "metadata": {},
     "output_type": "display_data"
    },
    {
     "data": {
      "text/html": [
       "<dt><a class=\"ProveItLink\" href=\"../../../../equality/_axioms_.ipynb#notEqualsDef\">proveit.logic.equality.notEqualsDef</a></dt><dd><a class=\"ProveItLink\" href=\"../../../../equality/__pv_it/3907ab5c01f6c9317b39937a40e58231ca0313cf0/expr.ipynb\"><img src=\"../../../../equality/__pv_it/3907ab5c01f6c9317b39937a40e58231ca0313cf0/expr.png\" style=\"display:inline;vertical-align:middle;\" /></a></dd>"
      ],
      "text/plain": [
       "<IPython.core.display.HTML object>"
      ]
     },
     "metadata": {},
     "output_type": "display_data"
    },
    {
     "data": {
      "text/html": [
       "<dt><a class=\"ProveItLink\" href=\"../../../../equality/_axioms_.ipynb#substitution\">proveit.logic.equality.substitution</a></dt><dd><a class=\"ProveItLink\" href=\"../../../../equality/__pv_it/fce8b52e88693eef9d56c90f8a56ea5fa505017b0/expr.ipynb\"><img src=\"../../../../equality/__pv_it/fce8b52e88693eef9d56c90f8a56ea5fa505017b0/expr.png\" style=\"display:inline;vertical-align:middle;\" /></a></dd>"
      ],
      "text/plain": [
       "<IPython.core.display.HTML object>"
      ]
     },
     "metadata": {},
     "output_type": "display_data"
    },
    {
     "data": {
      "text/html": [
       "</dl>"
      ],
      "text/plain": [
       "<IPython.core.display.HTML object>"
      ]
     },
     "metadata": {},
     "output_type": "display_data"
    },
    {
     "data": {
      "text/html": [
       "<h3>No theorems depend upon notRightIfNeither</h3>"
      ],
      "text/plain": [
       "<IPython.core.display.HTML object>"
      ]
     },
     "metadata": {},
     "output_type": "display_data"
    }
   ],
   "source": [
    "%dependencies notRightIfNeither"
   ]
  }
 ],
 "metadata": {
  "kernelspec": {
   "display_name": "Python 3",
   "language": "python",
   "name": "python3"
  },
  "language_info": {
   "codemirror_mode": {
    "name": "ipython",
    "version": 3
   },
   "file_extension": ".py",
   "mimetype": "text/x-python",
   "name": "python",
   "nbconvert_exporter": "python",
   "pygments_lexer": "ipython3",
   "version": "3.7.3"
  }
 },
 "nbformat": 4,
 "nbformat_minor": 1
}
