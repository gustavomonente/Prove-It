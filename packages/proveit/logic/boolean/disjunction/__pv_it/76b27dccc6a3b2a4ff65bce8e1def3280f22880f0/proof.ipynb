{
 "cells": [
  {
   "cell_type": "markdown",
   "metadata": {},
   "source": [
    "Show the Proof\n",
    "========"
   ]
  },
  {
   "cell_type": "code",
   "execution_count": 1,
   "metadata": {},
   "outputs": [
    {
     "data": {
      "text/html": [
       "<table><tr><th>&nbsp;</th><th>step type</th><th>requirements</th><th>statement</th></tr>\n",
       "<tr><td><a name=\"proveit.logic.boolean.disjunction.76b27dccc6a3b2a4ff65bce8e1def3280f22880f0_step0\">0</a></td><td>instantiation</td><td><a href=\"#proveit.logic.boolean.disjunction.76b27dccc6a3b2a4ff65bce8e1def3280f22880f0_step1\">1</a>, <a href=\"#proveit.logic.boolean.disjunction.76b27dccc6a3b2a4ff65bce8e1def3280f22880f0_step2\">2</a>, <a href=\"#proveit.logic.boolean.disjunction.76b27dccc6a3b2a4ff65bce8e1def3280f22880f0_step3\">3</a></td><td><span style=\"font-size:20px;\"> <a class=\"ProveItLink\" href=\"proof.ipynb\" style=\"text-decoration: none\">&#x22A2;&nbsp;</a><a class=\"ProveItLink\" href=\"../1373bd71a5c4f0018e6d47dd20a38daa9cbb24500/expr.ipynb\"><img src=\"../1373bd71a5c4f0018e6d47dd20a38daa9cbb24500/expr.png\" style=\"display:inline;vertical-align:middle;\" /></a></span></td></tr>\n",
       "<tr><td>&nbsp;</td><td colspan=4 style=\"text-align:left\"><span style=\"font-size:20px;\"><a class=\"ProveItLink\" href=\"../ebe520a25800292157246f20a124f0c70e475fb30/expr.ipynb\"><img src=\"../ebe520a25800292157246f20a124f0c70e475fb30/expr.png\" style=\"display:inline;vertical-align:middle;\" /></a> : <a class=\"ProveItLink\" href=\"../8b7478d368b41c9913efa347d4753afc7ee14a680/expr.ipynb\"><img src=\"../8b7478d368b41c9913efa347d4753afc7ee14a680/expr.png\" style=\"display:inline;vertical-align:middle;\" /></a>, <a class=\"ProveItLink\" href=\"../../../../../__pv_it/d3792d0d8642fdf1cd2a3a9b32c673ee13653de00/expr.ipynb\"><img src=\"../../../../../__pv_it/d3792d0d8642fdf1cd2a3a9b32c673ee13653de00/expr.png\" style=\"display:inline;vertical-align:middle;\" /></a> : <a class=\"ProveItLink\" href=\"../../../../../__pv_it/4d98b438710c5ada9ffa4646bb123a7d0e69ec000/expr.ipynb\"><img src=\"../../../../../__pv_it/4d98b438710c5ada9ffa4646bb123a7d0e69ec000/expr.png\" style=\"display:inline;vertical-align:middle;\" /></a></span></td></tr><tr><td><a name=\"proveit.logic.boolean.disjunction.76b27dccc6a3b2a4ff65bce8e1def3280f22880f0_step1\">1</a></td><td>theorem</td><td></td><td><span style=\"font-size:20px;\"> <a class=\"ProveItLink\" href=\"../../../_proofs_/foldForallOverBool.ipynb\" style=\"text-decoration: none\">&#x22A2;&nbsp;</a><a class=\"ProveItLink\" href=\"../9d3cfe28d69f9d51830bf24aefafa99f7576e45a0/expr.ipynb\"><img src=\"../9d3cfe28d69f9d51830bf24aefafa99f7576e45a0/expr.png\" style=\"display:inline;vertical-align:middle;\" /></a></span></td></tr>\n",
       "<tr><td>&nbsp;</td><td colspan=4 style-\"text-align:left\"><a class=\"ProveItLink\" href=\"../../../_proofs_/foldForallOverBool.ipynb\">proveit.logic.boolean.foldForallOverBool</a></td></tr><tr><td><a name=\"proveit.logic.boolean.disjunction.76b27dccc6a3b2a4ff65bce8e1def3280f22880f0_step2\">2</a></td><td>instantiation</td><td><a href=\"#proveit.logic.boolean.disjunction.76b27dccc6a3b2a4ff65bce8e1def3280f22880f0_step7\">7</a>, <a href=\"#proveit.logic.boolean.disjunction.76b27dccc6a3b2a4ff65bce8e1def3280f22880f0_step8\">8</a>, <a href=\"#proveit.logic.boolean.disjunction.76b27dccc6a3b2a4ff65bce8e1def3280f22880f0_step4\">4</a></td><td><span style=\"font-size:20px;\"> <a class=\"ProveItLink\" href=\"../4a7a4431dca0293272e4c0de968dfe79664b0f4f0/proof.ipynb\" style=\"text-decoration: none\">&#x22A2;&nbsp;</a><a class=\"ProveItLink\" href=\"../e3e61e5863a72efce3959cdaad8b0947ed42b62e0/expr.ipynb\"><img src=\"../e3e61e5863a72efce3959cdaad8b0947ed42b62e0/expr.png\" style=\"display:inline;vertical-align:middle;\" /></a></span></td></tr>\n",
       "<tr><td>&nbsp;</td><td colspan=4 style=\"text-align:left\"><span style=\"font-size:20px;\"><a class=\"ProveItLink\" href=\"../6adf35e534b0f74f25bdd03c03dfd88a84b3ace50/expr.ipynb\"><img src=\"../6adf35e534b0f74f25bdd03c03dfd88a84b3ace50/expr.png\" style=\"display:inline;vertical-align:middle;\" /></a> : <a class=\"ProveItLink\" href=\"../7f5851d30d9071ac5add92b1415dd8c1d59a5c620/expr.ipynb\"><img src=\"../7f5851d30d9071ac5add92b1415dd8c1d59a5c620/expr.png\" style=\"display:inline;vertical-align:middle;\" /></a>, <a class=\"ProveItLink\" href=\"../../../../../__pv_it/72df168d2bfb4e0140af90912ebf83b13772060b0/expr.ipynb\"><img src=\"../../../../../__pv_it/72df168d2bfb4e0140af90912ebf83b13772060b0/expr.png\" style=\"display:inline;vertical-align:middle;\" /></a> : <a class=\"ProveItLink\" href=\"../8124e15701680a1378c57092c649e314fb9f14170/expr.ipynb\"><img src=\"../8124e15701680a1378c57092c649e314fb9f14170/expr.png\" style=\"display:inline;vertical-align:middle;\" /></a></span></td></tr><tr><td><a name=\"proveit.logic.boolean.disjunction.76b27dccc6a3b2a4ff65bce8e1def3280f22880f0_step3\">3</a></td><td>instantiation</td><td><a href=\"#proveit.logic.boolean.disjunction.76b27dccc6a3b2a4ff65bce8e1def3280f22880f0_step5\">5</a>, <a href=\"#proveit.logic.boolean.disjunction.76b27dccc6a3b2a4ff65bce8e1def3280f22880f0_step6\">6</a></td><td><span style=\"font-size:20px;\"> <a class=\"ProveItLink\" href=\"../c8f83fb4d4d249a112e36dcd7a1cd95227e8f5f90/proof.ipynb\" style=\"text-decoration: none\">&#x22A2;&nbsp;</a><a class=\"ProveItLink\" href=\"../c24541690336d71a74981f92400c1937b9d524760/expr.ipynb\"><img src=\"../c24541690336d71a74981f92400c1937b9d524760/expr.png\" style=\"display:inline;vertical-align:middle;\" /></a></span></td></tr>\n",
       "<tr><td>&nbsp;</td><td colspan=4 style=\"text-align:left\"><span style=\"font-size:20px;\"><a class=\"ProveItLink\" href=\"../../../../../__pv_it/d3792d0d8642fdf1cd2a3a9b32c673ee13653de00/expr.ipynb\"><img src=\"../../../../../__pv_it/d3792d0d8642fdf1cd2a3a9b32c673ee13653de00/expr.png\" style=\"display:inline;vertical-align:middle;\" /></a> : <a class=\"ProveItLink\" href=\"../fd20b383a49e7e2f1ea34913b367d99799d196a90/expr.ipynb\"><img src=\"../fd20b383a49e7e2f1ea34913b367d99799d196a90/expr.png\" style=\"display:inline;vertical-align:middle;\" /></a></span></td></tr><tr><td><a name=\"proveit.logic.boolean.disjunction.76b27dccc6a3b2a4ff65bce8e1def3280f22880f0_step4\">4</a></td><td>theorem</td><td></td><td><span style=\"font-size:20px;\"> <a class=\"ProveItLink\" href=\"../../_proofs_/falseOrTrue.ipynb\" style=\"text-decoration: none\">&#x22A2;&nbsp;</a><a class=\"ProveItLink\" href=\"../8124e15701680a1378c57092c649e314fb9f14170/expr.ipynb\"><img src=\"../8124e15701680a1378c57092c649e314fb9f14170/expr.png\" style=\"display:inline;vertical-align:middle;\" /></a></span></td></tr>\n",
       "<tr><td>&nbsp;</td><td colspan=4 style-\"text-align:left\"><a class=\"ProveItLink\" href=\"../../_proofs_/falseOrTrue.ipynb\">proveit.logic.boolean.disjunction.falseOrTrue</a></td></tr><tr><td><a name=\"proveit.logic.boolean.disjunction.76b27dccc6a3b2a4ff65bce8e1def3280f22880f0_step5\">5</a></td><td>theorem</td><td></td><td><span style=\"font-size:20px;\"> <a class=\"ProveItLink\" href=\"../../../negation/_proofs_/operandInBool.ipynb\" style=\"text-decoration: none\">&#x22A2;&nbsp;</a><a class=\"ProveItLink\" href=\"../d67bc8fa0dcf572d8c516e0280cc90dc5026abfb0/expr.ipynb\"><img src=\"../d67bc8fa0dcf572d8c516e0280cc90dc5026abfb0/expr.png\" style=\"display:inline;vertical-align:middle;\" /></a></span></td></tr>\n",
       "<tr><td>&nbsp;</td><td colspan=4 style-\"text-align:left\"><a class=\"ProveItLink\" href=\"../../../negation/_proofs_/operandInBool.ipynb\">proveit.logic.boolean.negation.operandInBool</a></td></tr><tr><td><a name=\"proveit.logic.boolean.disjunction.76b27dccc6a3b2a4ff65bce8e1def3280f22880f0_step6\">6</a></td><td>instantiation</td><td><a href=\"#proveit.logic.boolean.disjunction.76b27dccc6a3b2a4ff65bce8e1def3280f22880f0_step7\">7</a>, <a href=\"#proveit.logic.boolean.disjunction.76b27dccc6a3b2a4ff65bce8e1def3280f22880f0_step8\">8</a>, <a href=\"#proveit.logic.boolean.disjunction.76b27dccc6a3b2a4ff65bce8e1def3280f22880f0_step9\">9</a></td><td><span style=\"font-size:20px;\"> <a class=\"ProveItLink\" href=\"../4312154d48e621c1d8230f448323c70afe436bd80/proof.ipynb\" style=\"text-decoration: none\">&#x22A2;&nbsp;</a><a class=\"ProveItLink\" href=\"../54150a2dff712d2ef38623a5e788eac8e7985fb30/expr.ipynb\"><img src=\"../54150a2dff712d2ef38623a5e788eac8e7985fb30/expr.png\" style=\"display:inline;vertical-align:middle;\" /></a></span></td></tr>\n",
       "<tr><td>&nbsp;</td><td colspan=4 style=\"text-align:left\"><span style=\"font-size:20px;\"><a class=\"ProveItLink\" href=\"../6adf35e534b0f74f25bdd03c03dfd88a84b3ace50/expr.ipynb\"><img src=\"../6adf35e534b0f74f25bdd03c03dfd88a84b3ace50/expr.png\" style=\"display:inline;vertical-align:middle;\" /></a> : <a class=\"ProveItLink\" href=\"../7f5851d30d9071ac5add92b1415dd8c1d59a5c620/expr.ipynb\"><img src=\"../7f5851d30d9071ac5add92b1415dd8c1d59a5c620/expr.png\" style=\"display:inline;vertical-align:middle;\" /></a>, <a class=\"ProveItLink\" href=\"../../../../../__pv_it/72df168d2bfb4e0140af90912ebf83b13772060b0/expr.ipynb\"><img src=\"../../../../../__pv_it/72df168d2bfb4e0140af90912ebf83b13772060b0/expr.png\" style=\"display:inline;vertical-align:middle;\" /></a> : <a class=\"ProveItLink\" href=\"../7b21db2e1c00ae7c03b61376a829f5c4168615860/expr.ipynb\"><img src=\"../7b21db2e1c00ae7c03b61376a829f5c4168615860/expr.png\" style=\"display:inline;vertical-align:middle;\" /></a></span></td></tr><tr><td><a name=\"proveit.logic.boolean.disjunction.76b27dccc6a3b2a4ff65bce8e1def3280f22880f0_step7\">7</a></td><td>theorem</td><td></td><td><span style=\"font-size:20px;\"> <a class=\"ProveItLink\" href=\"../../../../equality/_proofs_/substituteTruth.ipynb\" style=\"text-decoration: none\">&#x22A2;&nbsp;</a><a class=\"ProveItLink\" href=\"../c2cb97100b117f143ca3c09a77f75b44bb41e6160/expr.ipynb\"><img src=\"../c2cb97100b117f143ca3c09a77f75b44bb41e6160/expr.png\" style=\"display:inline;vertical-align:middle;\" /></a></span></td></tr>\n",
       "<tr><td>&nbsp;</td><td colspan=4 style-\"text-align:left\"><a class=\"ProveItLink\" href=\"../../../../equality/_proofs_/substituteTruth.ipynb\">proveit.logic.equality.substituteTruth</a></td></tr><tr><td><a name=\"proveit.logic.boolean.disjunction.76b27dccc6a3b2a4ff65bce8e1def3280f22880f0_step8\">8</a></td><td>theorem</td><td></td><td><span style=\"font-size:20px;\"> <a class=\"ProveItLink\" href=\"../../../_proofs_/trueInBool.ipynb\" style=\"text-decoration: none\">&#x22A2;&nbsp;</a><a class=\"ProveItLink\" href=\"../2f88e5c6f7ea7ef0da11c50a533a1f221022588f0/expr.ipynb\"><img src=\"../2f88e5c6f7ea7ef0da11c50a533a1f221022588f0/expr.png\" style=\"display:inline;vertical-align:middle;\" /></a></span></td></tr>\n",
       "<tr><td>&nbsp;</td><td colspan=4 style-\"text-align:left\"><a class=\"ProveItLink\" href=\"../../../_proofs_/trueInBool.ipynb\">proveit.logic.boolean.trueInBool</a></td></tr><tr><td><a name=\"proveit.logic.boolean.disjunction.76b27dccc6a3b2a4ff65bce8e1def3280f22880f0_step9\">9</a></td><td>theorem</td><td></td><td><span style=\"font-size:20px;\"> <a class=\"ProveItLink\" href=\"../../_proofs_/falseOrFalseNegated.ipynb\" style=\"text-decoration: none\">&#x22A2;&nbsp;</a><a class=\"ProveItLink\" href=\"../7b21db2e1c00ae7c03b61376a829f5c4168615860/expr.ipynb\"><img src=\"../7b21db2e1c00ae7c03b61376a829f5c4168615860/expr.png\" style=\"display:inline;vertical-align:middle;\" /></a></span></td></tr>\n",
       "<tr><td>&nbsp;</td><td colspan=4 style-\"text-align:left\"><a class=\"ProveItLink\" href=\"../../_proofs_/falseOrFalseNegated.ipynb\">proveit.logic.boolean.disjunction.falseOrFalseNegated</a></td></tr></table>"
      ],
      "text/plain": [
       "<proveit._core_.proof._ShowProof at 0x7f5b8eedd908>"
      ]
     },
     "execution_count": 1,
     "metadata": {},
     "output_type": "execute_result"
    }
   ],
   "source": [
    "import proveit\n",
    "# Automation is not needed when only showing a stored proof:\n",
    "proveit.defaults.automation = False # This will speed things up.\n",
    "proveit.defaults.inline_pngs = False # Makes files smaller.\n",
    "%show_proof"
   ]
  },
  {
   "cell_type": "code",
   "execution_count": null,
   "metadata": {},
   "outputs": [],
   "source": []
  }
 ],
 "metadata": {
  "kernelspec": {
   "display_name": "Python 3",
   "language": "python",
   "name": "python3"
  },
  "language_info": {
   "codemirror_mode": {
    "name": "ipython",
    "version": 3
   },
   "file_extension": ".py",
   "mimetype": "text/x-python",
   "name": "python",
   "nbconvert_exporter": "python",
   "pygments_lexer": "ipython3",
   "version": "3.7.3"
  }
 },
 "nbformat": 4,
 "nbformat_minor": 1
}
