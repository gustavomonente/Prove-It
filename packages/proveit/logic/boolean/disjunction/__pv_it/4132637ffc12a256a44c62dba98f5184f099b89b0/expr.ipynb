{
 "cells": [
  {
   "cell_type": "markdown",
   "metadata": {},
   "source": [
    "Expression of type <a class=\"ProveItLink\" href=\"../../../../../../../doc/html/api/proveit.logic.Equals.html\">Equals</a>\n",
    "=======================\n",
    "# from context <a class=\"ProveItLink\" href=\"../../_context_.ipynb\">proveit.logic.boolean.disjunction</a>"
   ]
  },
  {
   "cell_type": "code",
   "execution_count": 1,
   "metadata": {},
   "outputs": [],
   "source": [
    "import proveit\n",
    "# Automation is not needed when building an expression:\n",
    "proveit.defaults.automation = False # This will speed things up.\n",
    "proveit.defaults.inline_pngs = False # Makes files smaller.\n",
    "# import Expression classes needed to build the expression\n",
    "from proveit import ExprRange\n",
    "from proveit._common_ import a, b, c, d, e, f, g, k\n",
    "from proveit.core_expr_types import Len\n",
    "from proveit.logic import Equals\n",
    "from proveit.number import one, seven"
   ]
  },
  {
   "cell_type": "code",
   "execution_count": 2,
   "metadata": {},
   "outputs": [
    {
     "data": {
      "text/html": [
       "<strong id=\"expr\">expr:</strong> <a class=\"ProveItLink\" href=\"expr.ipynb\"><img src=\"expr.png\" style=\"display:inline;vertical-align:middle;\" /></a><br>"
      ],
      "text/plain": [
       "expr: |(a, b, c, d, e, f, g)| = |(1, ..k.., 7)|"
      ]
     },
     "execution_count": 2,
     "metadata": {},
     "output_type": "execute_result"
    }
   ],
   "source": [
    "# build up the expression from sub-expressions\n",
    "expr = Equals(Len([a, b, c, d, e, f, g]), Len([ExprRange(k, k, one, seven)]))"
   ]
  },
  {
   "cell_type": "code",
   "execution_count": 3,
   "metadata": {},
   "outputs": [
    {
     "name": "stdout",
     "output_type": "stream",
     "text": [
      "Passed sanity check: built 'expr' is the same as the stored Expression.\n"
     ]
    }
   ],
   "source": [
    "# check that the built expression is the same as the stored expression\n",
    "%check_expr"
   ]
  },
  {
   "cell_type": "code",
   "execution_count": 4,
   "metadata": {},
   "outputs": [
    {
     "name": "stdout",
     "output_type": "stream",
     "text": [
      "|\\left(a, b, c, d, e, f, g\\right)| = |\\left(1, \\ldots, 7\\right)|\n"
     ]
    }
   ],
   "source": [
    "# Show the LaTeX representation of the expression for convenience if you need it.\n",
    "print(expr.latex())"
   ]
  },
  {
   "cell_type": "code",
   "execution_count": 5,
   "metadata": {},
   "outputs": [
    {
     "data": {
      "text/html": [
       "<table><tr><th>&nbsp;</th><th>core type</th><th>sub-expressions</th><th>expression</th></tr>\n",
       "<tr><td>0</td><td>Operation</td><td>operator:&nbsp;1<br>operands:&nbsp;2<br></td><td><a class=\"ProveItLink\" href=\"expr.ipynb\"><img src=\"expr.png\" style=\"display:inline;vertical-align:middle;\" /></a></td></tr>\n",
       "<tr><td>1</td><td>Literal</td><td></td><td><a class=\"ProveItLink\" href=\"../../../../equality/__pv_it/e16d2caa26a16688b658bdb9c422caf4b84579e10/expr.ipynb\"><img src=\"../../../../equality/__pv_it/e16d2caa26a16688b658bdb9c422caf4b84579e10/expr.png\" style=\"display:inline;vertical-align:middle;\" /></a></td></tr>\n",
       "<tr><td>2</td><td>ExprTuple</td><td>3, 4</td><td><a class=\"ProveItLink\" href=\"../160b760c4eddc2564c2df38b3e6c1cdfb7dff5220/expr.ipynb\"><img src=\"../160b760c4eddc2564c2df38b3e6c1cdfb7dff5220/expr.png\" style=\"display:inline;vertical-align:middle;\" /></a></td></tr>\n",
       "<tr><td>3</td><td>Operation</td><td>operator:&nbsp;6<br>operand:&nbsp;8<br></td><td><a class=\"ProveItLink\" href=\"../16cb3ac147e0c7fbd5c72993c8ccf7fdb714bc410/expr.ipynb\"><img src=\"../16cb3ac147e0c7fbd5c72993c8ccf7fdb714bc410/expr.png\" style=\"display:inline;vertical-align:middle;\" /></a></td></tr>\n",
       "<tr><td>4</td><td>Operation</td><td>operator:&nbsp;6<br>operand:&nbsp;9<br></td><td><a class=\"ProveItLink\" href=\"../cdab0867c16315f11a33e6a46bfa36dfb7aad4c40/expr.ipynb\"><img src=\"../cdab0867c16315f11a33e6a46bfa36dfb7aad4c40/expr.png\" style=\"display:inline;vertical-align:middle;\" /></a></td></tr>\n",
       "<tr><td>5</td><td>ExprTuple</td><td>8</td><td><a class=\"ProveItLink\" href=\"../e6020fc8e9a2343f6a0b8d1e88531537cba8b1130/expr.ipynb\"><img src=\"../e6020fc8e9a2343f6a0b8d1e88531537cba8b1130/expr.png\" style=\"display:inline;vertical-align:middle;\" /></a></td></tr>\n",
       "<tr><td>6</td><td>Literal</td><td></td><td><a class=\"ProveItLink\" href=\"../../../../../core_expr_types/tuples/__pv_it/92831c6291223dfbd76a11e90e750ae52564aa9f0/expr.ipynb\"><img src=\"../../../../../core_expr_types/tuples/__pv_it/92831c6291223dfbd76a11e90e750ae52564aa9f0/expr.png\" style=\"display:inline;vertical-align:middle;\" /></a></td></tr>\n",
       "<tr><td>7</td><td>ExprTuple</td><td>9</td><td><a class=\"ProveItLink\" href=\"../d0996b805cb900101c17bdcc32a2a08f5f0c1bbb0/expr.ipynb\"><img src=\"../d0996b805cb900101c17bdcc32a2a08f5f0c1bbb0/expr.png\" style=\"display:inline;vertical-align:middle;\" /></a></td></tr>\n",
       "<tr><td>8</td><td>ExprTuple</td><td>10, 11, 12, 13, 14, 15, 16</td><td><a class=\"ProveItLink\" href=\"../59ac1f01f1d1ec85d1d19541ffae72ec35500a240/expr.ipynb\"><img src=\"../59ac1f01f1d1ec85d1d19541ffae72ec35500a240/expr.png\" style=\"display:inline;vertical-align:middle;\" /></a></td></tr>\n",
       "<tr><td>9</td><td>ExprTuple</td><td>17</td><td><a class=\"ProveItLink\" href=\"../a69c4e7657a7aa7def35d489dd09bfe8ed7372b70/expr.ipynb\"><img src=\"../a69c4e7657a7aa7def35d489dd09bfe8ed7372b70/expr.png\" style=\"display:inline;vertical-align:middle;\" /></a></td></tr>\n",
       "<tr><td>10</td><td>Variable</td><td></td><td><a class=\"ProveItLink\" href=\"../../../../../__pv_it/a8d4b3a34d2189508f9082853fbac36935714f280/expr.ipynb\"><img src=\"../../../../../__pv_it/a8d4b3a34d2189508f9082853fbac36935714f280/expr.png\" style=\"display:inline;vertical-align:middle;\" /></a></td></tr>\n",
       "<tr><td>11</td><td>Variable</td><td></td><td><a class=\"ProveItLink\" href=\"../../../../../__pv_it/53e304ff98ebc000dbe3ef224f4637dbafd46ba70/expr.ipynb\"><img src=\"../../../../../__pv_it/53e304ff98ebc000dbe3ef224f4637dbafd46ba70/expr.png\" style=\"display:inline;vertical-align:middle;\" /></a></td></tr>\n",
       "<tr><td>12</td><td>Variable</td><td></td><td><a class=\"ProveItLink\" href=\"../../../../../__pv_it/b2b446b221a34ee579eb9a1fbdd4ac4e2891d8c70/expr.ipynb\"><img src=\"../../../../../__pv_it/b2b446b221a34ee579eb9a1fbdd4ac4e2891d8c70/expr.png\" style=\"display:inline;vertical-align:middle;\" /></a></td></tr>\n",
       "<tr><td>13</td><td>Variable</td><td></td><td><a class=\"ProveItLink\" href=\"../../../../../__pv_it/445e790c2b62732eb8597a2ddda4cbd1a8fb79140/expr.ipynb\"><img src=\"../../../../../__pv_it/445e790c2b62732eb8597a2ddda4cbd1a8fb79140/expr.png\" style=\"display:inline;vertical-align:middle;\" /></a></td></tr>\n",
       "<tr><td>14</td><td>Variable</td><td></td><td><a class=\"ProveItLink\" href=\"../../../../../__pv_it/6567d413600fdd7d84eba6ba11e2ea39697434560/expr.ipynb\"><img src=\"../../../../../__pv_it/6567d413600fdd7d84eba6ba11e2ea39697434560/expr.png\" style=\"display:inline;vertical-align:middle;\" /></a></td></tr>\n",
       "<tr><td>15</td><td>Variable</td><td></td><td><a class=\"ProveItLink\" href=\"../../../../../__pv_it/d7bbb04e874e28c7cefb21d4eea40806ae52f1f70/expr.ipynb\"><img src=\"../../../../../__pv_it/d7bbb04e874e28c7cefb21d4eea40806ae52f1f70/expr.png\" style=\"display:inline;vertical-align:middle;\" /></a></td></tr>\n",
       "<tr><td>16</td><td>Variable</td><td></td><td><a class=\"ProveItLink\" href=\"../../../../../__pv_it/ee4ad292e488e3f95383e0f20138837b9e0a20550/expr.ipynb\"><img src=\"../../../../../__pv_it/ee4ad292e488e3f95383e0f20138837b9e0a20550/expr.png\" style=\"display:inline;vertical-align:middle;\" /></a></td></tr>\n",
       "<tr><td>17</td><td>ExprRange</td><td>lambda_map:&nbsp;18<br>start_index:&nbsp;19<br>end_index:&nbsp;20<br></td><td><a class=\"ProveItLink\" href=\"../47e41c877abfe52cd4335a388bfa111c5f696aea0/expr.ipynb\"><img src=\"../47e41c877abfe52cd4335a388bfa111c5f696aea0/expr.png\" style=\"display:inline;vertical-align:middle;\" /></a></td></tr>\n",
       "<tr><td>18</td><td>Lambda</td><td>parameter:&nbsp;21<br>body:&nbsp;21<br></td><td><a class=\"ProveItLink\" href=\"../627c209e964673b8a193e829389aa751568b13af0/expr.ipynb\"><img src=\"../627c209e964673b8a193e829389aa751568b13af0/expr.png\" style=\"display:inline;vertical-align:middle;\" /></a></td></tr>\n",
       "<tr><td>19</td><td>Literal</td><td></td><td><a class=\"ProveItLink\" href=\"../../../../../number/numeral/__pv_it/f086f8c372bd40a2458306ddfdbb29f3dc6f63030/expr.ipynb\"><img src=\"../../../../../number/numeral/__pv_it/f086f8c372bd40a2458306ddfdbb29f3dc6f63030/expr.png\" style=\"display:inline;vertical-align:middle;\" /></a></td></tr>\n",
       "<tr><td>20</td><td>Literal</td><td></td><td><a class=\"ProveItLink\" href=\"../../../../../number/numeral/__pv_it/71262bf4a24ecd1a7e4b184eac38f55d5950e1560/expr.ipynb\"><img src=\"../../../../../number/numeral/__pv_it/71262bf4a24ecd1a7e4b184eac38f55d5950e1560/expr.png\" style=\"display:inline;vertical-align:middle;\" /></a></td></tr>\n",
       "<tr><td>21</td><td>Variable</td><td></td><td><a class=\"ProveItLink\" href=\"../../../../../__pv_it/273f49450ca25e1b56abbd98a7aef618f8f6c1360/expr.ipynb\"><img src=\"../../../../../__pv_it/273f49450ca25e1b56abbd98a7aef618f8f6c1360/expr.png\" style=\"display:inline;vertical-align:middle;\" /></a></td></tr>\n",
       "</table>\n"
      ],
      "text/plain": [
       "0. |(a, b, c, d, e, f, g)| = |(1, ..k.., 7)|\n",
       "   core type: Operation\n",
       "   operator: 1\n",
       "   operands: 2\n",
       "1. =\n",
       "   core type: Literal\n",
       "   sub-expressions: \n",
       "2. (|(a, b, c, d, e, f, g)|, |(1, ..k.., 7)|)\n",
       "   core type: ExprTuple\n",
       "   sub-expressions: 3, 4\n",
       "3. |(a, b, c, d, e, f, g)|\n",
       "   core type: Operation\n",
       "   operator: 6\n",
       "   operand: 8\n",
       "4. |(1, ..k.., 7)|\n",
       "   core type: Operation\n",
       "   operator: 6\n",
       "   operand: 9\n",
       "5. ((a, b, c, d, e, f, g))\n",
       "   core type: ExprTuple\n",
       "   sub-expressions: 8\n",
       "6. length\n",
       "   core type: Literal\n",
       "   sub-expressions: \n",
       "7. ((1, ..k.., 7))\n",
       "   core type: ExprTuple\n",
       "   sub-expressions: 9\n",
       "8. (a, b, c, d, e, f, g)\n",
       "   core type: ExprTuple\n",
       "   sub-expressions: 10, 11, 12, 13, 14, 15, 16\n",
       "9. (1, ..k.., 7)\n",
       "   core type: ExprTuple\n",
       "   sub-expressions: 17\n",
       "10. a\n",
       "    core type: Variable\n",
       "    sub-expressions: \n",
       "11. b\n",
       "    core type: Variable\n",
       "    sub-expressions: \n",
       "12. c\n",
       "    core type: Variable\n",
       "    sub-expressions: \n",
       "13. d\n",
       "    core type: Variable\n",
       "    sub-expressions: \n",
       "14. e\n",
       "    core type: Variable\n",
       "    sub-expressions: \n",
       "15. f\n",
       "    core type: Variable\n",
       "    sub-expressions: \n",
       "16. g\n",
       "    core type: Variable\n",
       "    sub-expressions: \n",
       "17. 1, ..k.., 7\n",
       "    core type: ExprRange\n",
       "    lambda_map: 18\n",
       "    start_index: 19\n",
       "    end_index: 20\n",
       "18. k -> k\n",
       "    core type: Lambda\n",
       "    parameter: 21\n",
       "    body: 21\n",
       "19. 1\n",
       "    core type: Literal\n",
       "    sub-expressions: \n",
       "20. 7\n",
       "    core type: Literal\n",
       "    sub-expressions: \n",
       "21. k\n",
       "    core type: Variable\n",
       "    sub-expressions: "
      ]
     },
     "execution_count": 5,
     "metadata": {},
     "output_type": "execute_result"
    }
   ],
   "source": [
    "# display the expression information\n",
    "expr.exprInfo()"
   ]
  },
  {
   "cell_type": "code",
   "execution_count": null,
   "metadata": {},
   "outputs": [],
   "source": []
  }
 ],
 "metadata": {
  "kernelspec": {
   "display_name": "Python 3",
   "language": "python",
   "name": "python3"
  },
  "language_info": {
   "codemirror_mode": {
    "name": "ipython",
    "version": 3
   },
   "file_extension": ".py",
   "mimetype": "text/x-python",
   "name": "python",
   "nbconvert_exporter": "python",
   "pygments_lexer": "ipython3",
   "version": "3.7.3"
  }
 },
 "nbformat": 4,
 "nbformat_minor": 1
}
