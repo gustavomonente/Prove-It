{
 "cells": [
  {
   "cell_type": "markdown",
   "metadata": {},
   "source": [
    "Expression of type <a class=\"ProveItLink\" href=\"../../../../../../../doc/html/api/proveit.Conditional.html\">Conditional</a>\n",
    "=======================\n",
    "# from context <a class=\"ProveItLink\" href=\"../../_context_.ipynb\">proveit.logic.boolean.disjunction</a>"
   ]
  },
  {
   "cell_type": "code",
   "execution_count": 1,
   "metadata": {},
   "outputs": [],
   "source": [
    "import proveit\n",
    "# Automation is not needed when building an expression:\n",
    "proveit.defaults.automation = False # This will speed things up.\n",
    "proveit.defaults.inline_pngs = False # Makes files smaller.\n",
    "# import Expression classes needed to build the expression\n",
    "from proveit import Conditional\n",
    "from proveit._common_ import A, B\n",
    "from proveit.logic import And, Booleans, Forall, InSet, Not, Or"
   ]
  },
  {
   "cell_type": "code",
   "execution_count": 2,
   "metadata": {},
   "outputs": [
    {
     "data": {
      "text/html": [
       "<strong id=\"expr\">expr:</strong> <a class=\"ProveItLink\" href=\"expr.ipynb\"><img src=\"expr.png\" style=\"display:inline;vertical-align:middle;\" /></a><br>"
      ],
      "text/plain": [
       "expr: {forall_{B in BOOLEANS | [not]([not](A) and [not](B))} (A or B) if A in BOOLEANS."
      ]
     },
     "execution_count": 2,
     "metadata": {},
     "output_type": "execute_result"
    }
   ],
   "source": [
    "# build up the expression from sub-expressions\n",
    "expr = Conditional(Forall([B], Or(A, B), domain = Booleans, condition = Not(And(Not(A), Not(B)))), InSet(A, Booleans))"
   ]
  },
  {
   "cell_type": "code",
   "execution_count": 3,
   "metadata": {},
   "outputs": [
    {
     "name": "stdout",
     "output_type": "stream",
     "text": [
      "Passed sanity check: built 'expr' is the same as the stored Expression.\n"
     ]
    }
   ],
   "source": [
    "# check that the built expression is the same as the stored expression\n",
    "%check_expr"
   ]
  },
  {
   "cell_type": "code",
   "execution_count": 4,
   "metadata": {},
   "outputs": [
    {
     "name": "stdout",
     "output_type": "stream",
     "text": [
      "\\left\\{\\forall_{B \\in \\mathbb{B}~|~\\lnot \\left((\\lnot A) \\land (\\lnot B)\\right)}~\\left(A \\lor B\\right) \\textrm{ if } A \\in \\mathbb{B}\\right..\n"
     ]
    }
   ],
   "source": [
    "# Show the LaTeX representation of the expression for convenience if you need it.\n",
    "print(expr.latex())"
   ]
  },
  {
   "cell_type": "code",
   "execution_count": 5,
   "metadata": {},
   "outputs": [
    {
     "data": {
      "text/html": [
       "<table><tr><th>&nbsp;</th><th>core type</th><th>sub-expressions</th><th>expression</th></tr>\n",
       "<tr><td>0</td><td>Conditional</td><td>value:&nbsp;1<br>condition:&nbsp;2<br></td><td><a class=\"ProveItLink\" href=\"expr.ipynb\"><img src=\"expr.png\" style=\"display:inline;vertical-align:middle;\" /></a></td></tr>\n",
       "<tr><td>1</td><td>Operation</td><td>operator:&nbsp;3<br>operand:&nbsp;4<br></td><td><a class=\"ProveItLink\" href=\"../15da9e243f1177f54c0f1cd818d558392f27981b0/expr.ipynb\"><img src=\"../15da9e243f1177f54c0f1cd818d558392f27981b0/expr.png\" style=\"display:inline;vertical-align:middle;\" /></a></td></tr>\n",
       "<tr><td>2</td><td>Operation</td><td>operator:&nbsp;14<br>operands:&nbsp;5<br></td><td><a class=\"ProveItLink\" href=\"../8776f6509d0e01db99c8c290ab1853b3db3d048c0/expr.ipynb\"><img src=\"../8776f6509d0e01db99c8c290ab1853b3db3d048c0/expr.png\" style=\"display:inline;vertical-align:middle;\" /></a></td></tr>\n",
       "<tr><td>3</td><td>Literal</td><td></td><td><a class=\"ProveItLink\" href=\"../../../quantification/universal/__pv_it/fd9c772d6675566ed52a6897806f45eb08a4ea910/expr.ipynb\"><img src=\"../../../quantification/universal/__pv_it/fd9c772d6675566ed52a6897806f45eb08a4ea910/expr.png\" style=\"display:inline;vertical-align:middle;\" /></a></td></tr>\n",
       "<tr><td>4</td><td>Lambda</td><td>parameter:&nbsp;24<br>body:&nbsp;6<br></td><td><a class=\"ProveItLink\" href=\"../b44e4065990f943e3627211014854a9bbc39127b0/expr.ipynb\"><img src=\"../b44e4065990f943e3627211014854a9bbc39127b0/expr.png\" style=\"display:inline;vertical-align:middle;\" /></a></td></tr>\n",
       "<tr><td>5</td><td>ExprTuple</td><td>22, 17</td><td><a class=\"ProveItLink\" href=\"../0969dc1cafe9ecb1790af088b1aae8d6ce560fda0/expr.ipynb\"><img src=\"../0969dc1cafe9ecb1790af088b1aae8d6ce560fda0/expr.png\" style=\"display:inline;vertical-align:middle;\" /></a></td></tr>\n",
       "<tr><td>6</td><td>Conditional</td><td>value:&nbsp;7<br>condition:&nbsp;8<br></td><td><a class=\"ProveItLink\" href=\"../d4602266fcc0b5e45820944e19d6bc92c18d759f0/expr.ipynb\"><img src=\"../d4602266fcc0b5e45820944e19d6bc92c18d759f0/expr.png\" style=\"display:inline;vertical-align:middle;\" /></a></td></tr>\n",
       "<tr><td>7</td><td>Operation</td><td>operator:&nbsp;9<br>operands:&nbsp;10<br></td><td><a class=\"ProveItLink\" href=\"../6be0ca65fe4dbca58dfc1a28df036ccc656fb6d20/expr.ipynb\"><img src=\"../6be0ca65fe4dbca58dfc1a28df036ccc656fb6d20/expr.png\" style=\"display:inline;vertical-align:middle;\" /></a></td></tr>\n",
       "<tr><td>8</td><td>Operation</td><td>operator:&nbsp;18<br>operands:&nbsp;11<br></td><td><a class=\"ProveItLink\" href=\"../4a070a0d87bfc2e1c11ca373daa7cd67903ff1c70/expr.ipynb\"><img src=\"../4a070a0d87bfc2e1c11ca373daa7cd67903ff1c70/expr.png\" style=\"display:inline;vertical-align:middle;\" /></a></td></tr>\n",
       "<tr><td>9</td><td>Literal</td><td></td><td><a class=\"ProveItLink\" href=\"../8a6d9fc46c84b3911a71fbae15627dc2acebe2890/expr.ipynb\"><img src=\"../8a6d9fc46c84b3911a71fbae15627dc2acebe2890/expr.png\" style=\"display:inline;vertical-align:middle;\" /></a></td></tr>\n",
       "<tr><td>10</td><td>ExprTuple</td><td>22, 24</td><td><a class=\"ProveItLink\" href=\"../5ba9a2996c4f7c4d12731615ed3a34ca901fa86c0/expr.ipynb\"><img src=\"../5ba9a2996c4f7c4d12731615ed3a34ca901fa86c0/expr.png\" style=\"display:inline;vertical-align:middle;\" /></a></td></tr>\n",
       "<tr><td>11</td><td>ExprTuple</td><td>12, 13</td><td><a class=\"ProveItLink\" href=\"../11972031700ccd10f4bc9a3be73660d5f6626be30/expr.ipynb\"><img src=\"../11972031700ccd10f4bc9a3be73660d5f6626be30/expr.png\" style=\"display:inline;vertical-align:middle;\" /></a></td></tr>\n",
       "<tr><td>12</td><td>Operation</td><td>operator:&nbsp;14<br>operands:&nbsp;15<br></td><td><a class=\"ProveItLink\" href=\"../af21e96bc662cb74cc7cb3eb21c032f16e434dba0/expr.ipynb\"><img src=\"../af21e96bc662cb74cc7cb3eb21c032f16e434dba0/expr.png\" style=\"display:inline;vertical-align:middle;\" /></a></td></tr>\n",
       "<tr><td>13</td><td>Operation</td><td>operator:&nbsp;23<br>operand:&nbsp;16<br></td><td><a class=\"ProveItLink\" href=\"../c606cb2265386734ecf54b6eb01d3e573624d7f80/expr.ipynb\"><img src=\"../c606cb2265386734ecf54b6eb01d3e573624d7f80/expr.png\" style=\"display:inline;vertical-align:middle;\" /></a></td></tr>\n",
       "<tr><td>14</td><td>Literal</td><td></td><td><a class=\"ProveItLink\" href=\"../../../../set_theory/membership/__pv_it/7776fc89cb67d0b5b1ec2c0c8e08da5587921ccf0/expr.ipynb\"><img src=\"../../../../set_theory/membership/__pv_it/7776fc89cb67d0b5b1ec2c0c8e08da5587921ccf0/expr.png\" style=\"display:inline;vertical-align:middle;\" /></a></td></tr>\n",
       "<tr><td>15</td><td>ExprTuple</td><td>24, 17</td><td><a class=\"ProveItLink\" href=\"../43cf56dd5c4fd9c5d6ca0453908f71631eb84b860/expr.ipynb\"><img src=\"../43cf56dd5c4fd9c5d6ca0453908f71631eb84b860/expr.png\" style=\"display:inline;vertical-align:middle;\" /></a></td></tr>\n",
       "<tr><td>16</td><td>Operation</td><td>operator:&nbsp;18<br>operands:&nbsp;19<br></td><td><a class=\"ProveItLink\" href=\"../60626756ccb15f128d2bef7354480a44eb8269b70/expr.ipynb\"><img src=\"../60626756ccb15f128d2bef7354480a44eb8269b70/expr.png\" style=\"display:inline;vertical-align:middle;\" /></a></td></tr>\n",
       "<tr><td>17</td><td>Literal</td><td></td><td><a class=\"ProveItLink\" href=\"../../../__pv_it/a3b387936f605fef1b535be3e1116cca8bbfc91b0/expr.ipynb\"><img src=\"../../../__pv_it/a3b387936f605fef1b535be3e1116cca8bbfc91b0/expr.png\" style=\"display:inline;vertical-align:middle;\" /></a></td></tr>\n",
       "<tr><td>18</td><td>Literal</td><td></td><td><a class=\"ProveItLink\" href=\"../../../conjunction/__pv_it/f41cc6b553210927c09f19a8a39cdf860a5585930/expr.ipynb\"><img src=\"../../../conjunction/__pv_it/f41cc6b553210927c09f19a8a39cdf860a5585930/expr.png\" style=\"display:inline;vertical-align:middle;\" /></a></td></tr>\n",
       "<tr><td>19</td><td>ExprTuple</td><td>20, 21</td><td><a class=\"ProveItLink\" href=\"../8def3782901b4827ac54881d22f2b05bd6d5d3f50/expr.ipynb\"><img src=\"../8def3782901b4827ac54881d22f2b05bd6d5d3f50/expr.png\" style=\"display:inline;vertical-align:middle;\" /></a></td></tr>\n",
       "<tr><td>20</td><td>Operation</td><td>operator:&nbsp;23<br>operand:&nbsp;22<br></td><td><a class=\"ProveItLink\" href=\"../98d4bc94e268eb5bd1dd8957b0f9355a80140e9b0/expr.ipynb\"><img src=\"../98d4bc94e268eb5bd1dd8957b0f9355a80140e9b0/expr.png\" style=\"display:inline;vertical-align:middle;\" /></a></td></tr>\n",
       "<tr><td>21</td><td>Operation</td><td>operator:&nbsp;23<br>operand:&nbsp;24<br></td><td><a class=\"ProveItLink\" href=\"../86f671dd514f6e615234986d96edb2c4ebb473e30/expr.ipynb\"><img src=\"../86f671dd514f6e615234986d96edb2c4ebb473e30/expr.png\" style=\"display:inline;vertical-align:middle;\" /></a></td></tr>\n",
       "<tr><td>22</td><td>Variable</td><td></td><td><a class=\"ProveItLink\" href=\"../../../../../__pv_it/d3792d0d8642fdf1cd2a3a9b32c673ee13653de00/expr.ipynb\"><img src=\"../../../../../__pv_it/d3792d0d8642fdf1cd2a3a9b32c673ee13653de00/expr.png\" style=\"display:inline;vertical-align:middle;\" /></a></td></tr>\n",
       "<tr><td>23</td><td>Literal</td><td></td><td><a class=\"ProveItLink\" href=\"../../../negation/__pv_it/d347242e9ffe8b0d3a039ea6a149983fef6cbe6c0/expr.ipynb\"><img src=\"../../../negation/__pv_it/d347242e9ffe8b0d3a039ea6a149983fef6cbe6c0/expr.png\" style=\"display:inline;vertical-align:middle;\" /></a></td></tr>\n",
       "<tr><td>24</td><td>Variable</td><td></td><td><a class=\"ProveItLink\" href=\"../../../../../__pv_it/4d98b438710c5ada9ffa4646bb123a7d0e69ec000/expr.ipynb\"><img src=\"../../../../../__pv_it/4d98b438710c5ada9ffa4646bb123a7d0e69ec000/expr.png\" style=\"display:inline;vertical-align:middle;\" /></a></td></tr>\n",
       "</table>\n"
      ],
      "text/plain": [
       "0. {forall_{B in BOOLEANS | [not]([not](A) and [not](B))} (A or B) if A in BOOLEANS.\n",
       "   core type: Conditional\n",
       "   value: 1\n",
       "   condition: 2\n",
       "1. forall_{B in BOOLEANS | [not]([not](A) and [not](B))} (A or B)\n",
       "   core type: Operation\n",
       "   operator: 3\n",
       "   operand: 4\n",
       "2. A in BOOLEANS\n",
       "   core type: Operation\n",
       "   operator: 14\n",
       "   operands: 5\n",
       "3. forall\n",
       "   core type: Literal\n",
       "   sub-expressions: \n",
       "4. B -> {A or B if B in BOOLEANS ,  [not]([not](A) and [not](B)).\n",
       "   core type: Lambda\n",
       "   parameter: 24\n",
       "   body: 6\n",
       "5. (A, BOOLEANS)\n",
       "   core type: ExprTuple\n",
       "   sub-expressions: 22, 17\n",
       "6. {A or B if B in BOOLEANS ,  [not]([not](A) and [not](B)).\n",
       "   core type: Conditional\n",
       "   value: 7\n",
       "   condition: 8\n",
       "7. A or B\n",
       "   core type: Operation\n",
       "   operator: 9\n",
       "   operands: 10\n",
       "8. (B in BOOLEANS) and [not]([not](A) and [not](B))\n",
       "   core type: Operation\n",
       "   operator: 18\n",
       "   operands: 11\n",
       "9. or\n",
       "   core type: Literal\n",
       "   sub-expressions: \n",
       "10. (A, B)\n",
       "    core type: ExprTuple\n",
       "    sub-expressions: 22, 24\n",
       "11. (B in BOOLEANS, [not]([not](A) and [not](B)))\n",
       "    core type: ExprTuple\n",
       "    sub-expressions: 12, 13\n",
       "12. B in BOOLEANS\n",
       "    core type: Operation\n",
       "    operator: 14\n",
       "    operands: 15\n",
       "13. [not]([not](A) and [not](B))\n",
       "    core type: Operation\n",
       "    operator: 23\n",
       "    operand: 16\n",
       "14. in\n",
       "    core type: Literal\n",
       "    sub-expressions: \n",
       "15. (B, BOOLEANS)\n",
       "    core type: ExprTuple\n",
       "    sub-expressions: 24, 17\n",
       "16. [not](A) and [not](B)\n",
       "    core type: Operation\n",
       "    operator: 18\n",
       "    operands: 19\n",
       "17. BOOLEANS\n",
       "    core type: Literal\n",
       "    sub-expressions: \n",
       "18. and\n",
       "    core type: Literal\n",
       "    sub-expressions: \n",
       "19. ([not](A), [not](B))\n",
       "    core type: ExprTuple\n",
       "    sub-expressions: 20, 21\n",
       "20. [not](A)\n",
       "    core type: Operation\n",
       "    operator: 23\n",
       "    operand: 22\n",
       "21. [not](B)\n",
       "    core type: Operation\n",
       "    operator: 23\n",
       "    operand: 24\n",
       "22. A\n",
       "    core type: Variable\n",
       "    sub-expressions: \n",
       "23. not\n",
       "    core type: Literal\n",
       "    sub-expressions: \n",
       "24. B\n",
       "    core type: Variable\n",
       "    sub-expressions: "
      ]
     },
     "execution_count": 5,
     "metadata": {},
     "output_type": "execute_result"
    }
   ],
   "source": [
    "# display the expression information\n",
    "expr.exprInfo()"
   ]
  },
  {
   "cell_type": "code",
   "execution_count": null,
   "metadata": {},
   "outputs": [],
   "source": []
  }
 ],
 "metadata": {
  "kernelspec": {
   "display_name": "Python 3",
   "language": "python",
   "name": "python3"
  },
  "language_info": {
   "codemirror_mode": {
    "name": "ipython",
    "version": 3
   },
   "file_extension": ".py",
   "mimetype": "text/x-python",
   "name": "python",
   "nbconvert_exporter": "python",
   "pygments_lexer": "ipython3",
   "version": "3.7.3"
  }
 },
 "nbformat": 4,
 "nbformat_minor": 1
}
