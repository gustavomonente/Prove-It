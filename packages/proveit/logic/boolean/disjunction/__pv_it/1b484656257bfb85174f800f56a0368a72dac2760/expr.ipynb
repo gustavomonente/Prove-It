{
 "cells": [
  {
   "cell_type": "markdown",
   "metadata": {},
   "source": [
    "Expression of type <a class=\"ProveItLink\" href=\"../../../../../../../doc/html/api/proveit.logic.Equals.html\">Equals</a>\n",
    "=======================\n",
    "# from context <a class=\"ProveItLink\" href=\"../../_context_.ipynb\">proveit.logic.boolean.disjunction</a>"
   ]
  },
  {
   "cell_type": "code",
   "execution_count": 1,
   "metadata": {},
   "outputs": [],
   "source": [
    "import proveit\n",
    "# Automation is not needed when building an expression:\n",
    "proveit.defaults.automation = False # This will speed things up.\n",
    "proveit.defaults.inline_pngs = False # Makes files smaller.\n",
    "# import Expression classes needed to build the expression\n",
    "from proveit import ExprRange, IndexedVar\n",
    "from proveit._common_ import A, a, k, m\n",
    "from proveit.core_expr_types import Len\n",
    "from proveit.logic import Booleans, Equals, InSet\n",
    "from proveit.number import Add, one"
   ]
  },
  {
   "cell_type": "code",
   "execution_count": 2,
   "metadata": {},
   "outputs": [
    {
     "data": {
      "text/html": [
       "<strong id=\"expr\">expr:</strong> <a class=\"ProveItLink\" href=\"expr.ipynb\"><img src=\"expr.png\" style=\"display:inline;vertical-align:middle;\" /></a><br>"
      ],
      "text/plain": [
       "expr: |(A_{1} in BOOLEANS, ..A_{a} in BOOLEANS.., A_{m + 1} in BOOLEANS)| = |(1, ..k.., m + 1)|"
      ]
     },
     "execution_count": 2,
     "metadata": {},
     "output_type": "execute_result"
    }
   ],
   "source": [
    "# build up the expression from sub-expressions\n",
    "subExpr1 = Add(m, one)\n",
    "expr = Equals(Len([ExprRange(a, InSet(IndexedVar(A, a), Booleans), one, subExpr1)]), Len([ExprRange(k, k, one, subExpr1)]))"
   ]
  },
  {
   "cell_type": "code",
   "execution_count": 3,
   "metadata": {},
   "outputs": [
    {
     "name": "stdout",
     "output_type": "stream",
     "text": [
      "Passed sanity check: built 'expr' is the same as the stored Expression.\n"
     ]
    }
   ],
   "source": [
    "# check that the built expression is the same as the stored expression\n",
    "%check_expr"
   ]
  },
  {
   "cell_type": "code",
   "execution_count": 4,
   "metadata": {},
   "outputs": [
    {
     "name": "stdout",
     "output_type": "stream",
     "text": [
      "|\\left(A_{1} \\in \\mathbb{B}, \\ldots, A_{m + 1} \\in \\mathbb{B}\\right)| = |\\left(1, \\ldots, m + 1\\right)|\n"
     ]
    }
   ],
   "source": [
    "# Show the LaTeX representation of the expression for convenience if you need it.\n",
    "print(expr.latex())"
   ]
  },
  {
   "cell_type": "code",
   "execution_count": 5,
   "metadata": {},
   "outputs": [
    {
     "data": {
      "text/html": [
       "<table><tr><th>&nbsp;</th><th>core type</th><th>sub-expressions</th><th>expression</th></tr>\n",
       "<tr><td>0</td><td>Operation</td><td>operator:&nbsp;1<br>operands:&nbsp;2<br></td><td><a class=\"ProveItLink\" href=\"expr.ipynb\"><img src=\"expr.png\" style=\"display:inline;vertical-align:middle;\" /></a></td></tr>\n",
       "<tr><td>1</td><td>Literal</td><td></td><td><a class=\"ProveItLink\" href=\"../../../../equality/__pv_it/e16d2caa26a16688b658bdb9c422caf4b84579e10/expr.ipynb\"><img src=\"../../../../equality/__pv_it/e16d2caa26a16688b658bdb9c422caf4b84579e10/expr.png\" style=\"display:inline;vertical-align:middle;\" /></a></td></tr>\n",
       "<tr><td>2</td><td>ExprTuple</td><td>3, 4</td><td><a class=\"ProveItLink\" href=\"../a7676d49b28c62bc4571ae92f17a2894fb33eeac0/expr.ipynb\"><img src=\"../a7676d49b28c62bc4571ae92f17a2894fb33eeac0/expr.png\" style=\"display:inline;vertical-align:middle;\" /></a></td></tr>\n",
       "<tr><td>3</td><td>Operation</td><td>operator:&nbsp;6<br>operand:&nbsp;8<br></td><td><a class=\"ProveItLink\" href=\"../c21e8d8615f15ace5f86fe4292ac839a276877a50/expr.ipynb\"><img src=\"../c21e8d8615f15ace5f86fe4292ac839a276877a50/expr.png\" style=\"display:inline;vertical-align:middle;\" /></a></td></tr>\n",
       "<tr><td>4</td><td>Operation</td><td>operator:&nbsp;6<br>operand:&nbsp;9<br></td><td><a class=\"ProveItLink\" href=\"../92141ca657e2f165beab74506d6ce609e7dbc2dd0/expr.ipynb\"><img src=\"../92141ca657e2f165beab74506d6ce609e7dbc2dd0/expr.png\" style=\"display:inline;vertical-align:middle;\" /></a></td></tr>\n",
       "<tr><td>5</td><td>ExprTuple</td><td>8</td><td><a class=\"ProveItLink\" href=\"../fa17a6c1bc358441ab0bfb48b5e8931be40c4a3f0/expr.ipynb\"><img src=\"../fa17a6c1bc358441ab0bfb48b5e8931be40c4a3f0/expr.png\" style=\"display:inline;vertical-align:middle;\" /></a></td></tr>\n",
       "<tr><td>6</td><td>Literal</td><td></td><td><a class=\"ProveItLink\" href=\"../../../../../core_expr_types/tuples/__pv_it/92831c6291223dfbd76a11e90e750ae52564aa9f0/expr.ipynb\"><img src=\"../../../../../core_expr_types/tuples/__pv_it/92831c6291223dfbd76a11e90e750ae52564aa9f0/expr.png\" style=\"display:inline;vertical-align:middle;\" /></a></td></tr>\n",
       "<tr><td>7</td><td>ExprTuple</td><td>9</td><td><a class=\"ProveItLink\" href=\"../51e80cc6a3207474a92a1155929997704bc3b3860/expr.ipynb\"><img src=\"../51e80cc6a3207474a92a1155929997704bc3b3860/expr.png\" style=\"display:inline;vertical-align:middle;\" /></a></td></tr>\n",
       "<tr><td>8</td><td>ExprTuple</td><td>10</td><td><a class=\"ProveItLink\" href=\"../a21babf0ac3afdee6d662db84c12565f5bba6c870/expr.ipynb\"><img src=\"../a21babf0ac3afdee6d662db84c12565f5bba6c870/expr.png\" style=\"display:inline;vertical-align:middle;\" /></a></td></tr>\n",
       "<tr><td>9</td><td>ExprTuple</td><td>11</td><td><a class=\"ProveItLink\" href=\"../ee0a3fd9063eef6a3e683d003c2ee963b1829b830/expr.ipynb\"><img src=\"../ee0a3fd9063eef6a3e683d003c2ee963b1829b830/expr.png\" style=\"display:inline;vertical-align:middle;\" /></a></td></tr>\n",
       "<tr><td>10</td><td>ExprRange</td><td>lambda_map:&nbsp;12<br>start_index:&nbsp;22<br>end_index:&nbsp;14<br></td><td><a class=\"ProveItLink\" href=\"../b5308686e3dfc93c4db5927e1f62305a1d8779b40/expr.ipynb\"><img src=\"../b5308686e3dfc93c4db5927e1f62305a1d8779b40/expr.png\" style=\"display:inline;vertical-align:middle;\" /></a></td></tr>\n",
       "<tr><td>11</td><td>ExprRange</td><td>lambda_map:&nbsp;13<br>start_index:&nbsp;22<br>end_index:&nbsp;14<br></td><td><a class=\"ProveItLink\" href=\"../eb837a8b80adf398e163dfbe5930e8ed9adc06fc0/expr.ipynb\"><img src=\"../eb837a8b80adf398e163dfbe5930e8ed9adc06fc0/expr.png\" style=\"display:inline;vertical-align:middle;\" /></a></td></tr>\n",
       "<tr><td>12</td><td>Lambda</td><td>parameter:&nbsp;26<br>body:&nbsp;15<br></td><td><a class=\"ProveItLink\" href=\"../3917f56cea6d8ea8c47f92b2944dab896b91bae60/expr.ipynb\"><img src=\"../3917f56cea6d8ea8c47f92b2944dab896b91bae60/expr.png\" style=\"display:inline;vertical-align:middle;\" /></a></td></tr>\n",
       "<tr><td>13</td><td>Lambda</td><td>parameter:&nbsp;16<br>body:&nbsp;16<br></td><td><a class=\"ProveItLink\" href=\"../627c209e964673b8a193e829389aa751568b13af0/expr.ipynb\"><img src=\"../627c209e964673b8a193e829389aa751568b13af0/expr.png\" style=\"display:inline;vertical-align:middle;\" /></a></td></tr>\n",
       "<tr><td>14</td><td>Operation</td><td>operator:&nbsp;17<br>operands:&nbsp;18<br></td><td><a class=\"ProveItLink\" href=\"../2405c78a618b87810578a8f1ea9b7025f87fb8f80/expr.ipynb\"><img src=\"../2405c78a618b87810578a8f1ea9b7025f87fb8f80/expr.png\" style=\"display:inline;vertical-align:middle;\" /></a></td></tr>\n",
       "<tr><td>15</td><td>Operation</td><td>operator:&nbsp;19<br>operands:&nbsp;20<br></td><td><a class=\"ProveItLink\" href=\"../c4059f748d26fc0d3a45b6756a2af0961e2f81740/expr.ipynb\"><img src=\"../c4059f748d26fc0d3a45b6756a2af0961e2f81740/expr.png\" style=\"display:inline;vertical-align:middle;\" /></a></td></tr>\n",
       "<tr><td>16</td><td>Variable</td><td></td><td><a class=\"ProveItLink\" href=\"../../../../../__pv_it/273f49450ca25e1b56abbd98a7aef618f8f6c1360/expr.ipynb\"><img src=\"../../../../../__pv_it/273f49450ca25e1b56abbd98a7aef618f8f6c1360/expr.png\" style=\"display:inline;vertical-align:middle;\" /></a></td></tr>\n",
       "<tr><td>17</td><td>Literal</td><td></td><td><a class=\"ProveItLink\" href=\"../../../../../number/addition/__pv_it/65ad7e8aee19b10110d590375ba95a879c4fb7ea0/expr.ipynb\"><img src=\"../../../../../number/addition/__pv_it/65ad7e8aee19b10110d590375ba95a879c4fb7ea0/expr.png\" style=\"display:inline;vertical-align:middle;\" /></a></td></tr>\n",
       "<tr><td>18</td><td>ExprTuple</td><td>21, 22</td><td><a class=\"ProveItLink\" href=\"../2245a4534d7703e5e3dc7e3cfd7b6bb4ebb3f45b0/expr.ipynb\"><img src=\"../2245a4534d7703e5e3dc7e3cfd7b6bb4ebb3f45b0/expr.png\" style=\"display:inline;vertical-align:middle;\" /></a></td></tr>\n",
       "<tr><td>19</td><td>Literal</td><td></td><td><a class=\"ProveItLink\" href=\"../../../../set_theory/membership/__pv_it/7776fc89cb67d0b5b1ec2c0c8e08da5587921ccf0/expr.ipynb\"><img src=\"../../../../set_theory/membership/__pv_it/7776fc89cb67d0b5b1ec2c0c8e08da5587921ccf0/expr.png\" style=\"display:inline;vertical-align:middle;\" /></a></td></tr>\n",
       "<tr><td>20</td><td>ExprTuple</td><td>23, 24</td><td><a class=\"ProveItLink\" href=\"../184dd0664f5b89ad14415d1892b10cc58fb3b7b30/expr.ipynb\"><img src=\"../184dd0664f5b89ad14415d1892b10cc58fb3b7b30/expr.png\" style=\"display:inline;vertical-align:middle;\" /></a></td></tr>\n",
       "<tr><td>21</td><td>Variable</td><td></td><td><a class=\"ProveItLink\" href=\"../../../../../__pv_it/6e8a38e9a7e2b6af352562cd77e0eb4751f142620/expr.ipynb\"><img src=\"../../../../../__pv_it/6e8a38e9a7e2b6af352562cd77e0eb4751f142620/expr.png\" style=\"display:inline;vertical-align:middle;\" /></a></td></tr>\n",
       "<tr><td>22</td><td>Literal</td><td></td><td><a class=\"ProveItLink\" href=\"../../../../../number/numeral/__pv_it/f086f8c372bd40a2458306ddfdbb29f3dc6f63030/expr.ipynb\"><img src=\"../../../../../number/numeral/__pv_it/f086f8c372bd40a2458306ddfdbb29f3dc6f63030/expr.png\" style=\"display:inline;vertical-align:middle;\" /></a></td></tr>\n",
       "<tr><td>23</td><td>IndexedVar</td><td>variable:&nbsp;25<br>index:&nbsp;26<br></td><td><a class=\"ProveItLink\" href=\"../432feb4d36afc0a064468d6f87e33f4ac10a273a0/expr.ipynb\"><img src=\"../432feb4d36afc0a064468d6f87e33f4ac10a273a0/expr.png\" style=\"display:inline;vertical-align:middle;\" /></a></td></tr>\n",
       "<tr><td>24</td><td>Literal</td><td></td><td><a class=\"ProveItLink\" href=\"../../../__pv_it/a3b387936f605fef1b535be3e1116cca8bbfc91b0/expr.ipynb\"><img src=\"../../../__pv_it/a3b387936f605fef1b535be3e1116cca8bbfc91b0/expr.png\" style=\"display:inline;vertical-align:middle;\" /></a></td></tr>\n",
       "<tr><td>25</td><td>Variable</td><td></td><td><a class=\"ProveItLink\" href=\"../../../../../__pv_it/d3792d0d8642fdf1cd2a3a9b32c673ee13653de00/expr.ipynb\"><img src=\"../../../../../__pv_it/d3792d0d8642fdf1cd2a3a9b32c673ee13653de00/expr.png\" style=\"display:inline;vertical-align:middle;\" /></a></td></tr>\n",
       "<tr><td>26</td><td>Variable</td><td></td><td><a class=\"ProveItLink\" href=\"../../../../../__pv_it/a8d4b3a34d2189508f9082853fbac36935714f280/expr.ipynb\"><img src=\"../../../../../__pv_it/a8d4b3a34d2189508f9082853fbac36935714f280/expr.png\" style=\"display:inline;vertical-align:middle;\" /></a></td></tr>\n",
       "</table>\n"
      ],
      "text/plain": [
       "0. |(A_{1} in BOOLEANS, ..A_{a} in BOOLEANS.., A_{m + 1} in BOOLEANS)| = |(1, ..k.., m + 1)|\n",
       "   core type: Operation\n",
       "   operator: 1\n",
       "   operands: 2\n",
       "1. =\n",
       "   core type: Literal\n",
       "   sub-expressions: \n",
       "2. (|(A_{1} in BOOLEANS, ..A_{a} in BOOLEANS.., A_{m + 1} in BOOLEANS)|, |(1, ..k.., m + 1)|)\n",
       "   core type: ExprTuple\n",
       "   sub-expressions: 3, 4\n",
       "3. |(A_{1} in BOOLEANS, ..A_{a} in BOOLEANS.., A_{m + 1} in BOOLEANS)|\n",
       "   core type: Operation\n",
       "   operator: 6\n",
       "   operand: 8\n",
       "4. |(1, ..k.., m + 1)|\n",
       "   core type: Operation\n",
       "   operator: 6\n",
       "   operand: 9\n",
       "5. ((A_{1} in BOOLEANS, ..A_{a} in BOOLEANS.., A_{m + 1} in BOOLEANS))\n",
       "   core type: ExprTuple\n",
       "   sub-expressions: 8\n",
       "6. length\n",
       "   core type: Literal\n",
       "   sub-expressions: \n",
       "7. ((1, ..k.., m + 1))\n",
       "   core type: ExprTuple\n",
       "   sub-expressions: 9\n",
       "8. (A_{1} in BOOLEANS, ..A_{a} in BOOLEANS.., A_{m + 1} in BOOLEANS)\n",
       "   core type: ExprTuple\n",
       "   sub-expressions: 10\n",
       "9. (1, ..k.., m + 1)\n",
       "   core type: ExprTuple\n",
       "   sub-expressions: 11\n",
       "10. (A_{1} in BOOLEANS), ..(A_{a} in BOOLEANS).., (A_{m + 1} in BOOLEANS)\n",
       "    core type: ExprRange\n",
       "    lambda_map: 12\n",
       "    start_index: 22\n",
       "    end_index: 14\n",
       "11. 1, ..k.., (m + 1)\n",
       "    core type: ExprRange\n",
       "    lambda_map: 13\n",
       "    start_index: 22\n",
       "    end_index: 14\n",
       "12. a -> (A_{a} in BOOLEANS)\n",
       "    core type: Lambda\n",
       "    parameter: 26\n",
       "    body: 15\n",
       "13. k -> k\n",
       "    core type: Lambda\n",
       "    parameter: 16\n",
       "    body: 16\n",
       "14. m + 1\n",
       "    core type: Operation\n",
       "    operator: 17\n",
       "    operands: 18\n",
       "15. A_{a} in BOOLEANS\n",
       "    core type: Operation\n",
       "    operator: 19\n",
       "    operands: 20\n",
       "16. k\n",
       "    core type: Variable\n",
       "    sub-expressions: \n",
       "17. +\n",
       "    core type: Literal\n",
       "    sub-expressions: \n",
       "18. (m, 1)\n",
       "    core type: ExprTuple\n",
       "    sub-expressions: 21, 22\n",
       "19. in\n",
       "    core type: Literal\n",
       "    sub-expressions: \n",
       "20. (A_{a}, BOOLEANS)\n",
       "    core type: ExprTuple\n",
       "    sub-expressions: 23, 24\n",
       "21. m\n",
       "    core type: Variable\n",
       "    sub-expressions: \n",
       "22. 1\n",
       "    core type: Literal\n",
       "    sub-expressions: \n",
       "23. A_{a}\n",
       "    core type: IndexedVar\n",
       "variable: 25\n",
       "index: 26\n",
       "24. BOOLEANS\n",
       "    core type: Literal\n",
       "    sub-expressions: \n",
       "25. A\n",
       "    core type: Variable\n",
       "    sub-expressions: \n",
       "26. a\n",
       "    core type: Variable\n",
       "    sub-expressions: "
      ]
     },
     "execution_count": 5,
     "metadata": {},
     "output_type": "execute_result"
    }
   ],
   "source": [
    "# display the expression information\n",
    "expr.exprInfo()"
   ]
  },
  {
   "cell_type": "code",
   "execution_count": null,
   "metadata": {},
   "outputs": [],
   "source": []
  }
 ],
 "metadata": {
  "kernelspec": {
   "display_name": "Python 3",
   "language": "python",
   "name": "python3"
  },
  "language_info": {
   "codemirror_mode": {
    "name": "ipython",
    "version": 3
   },
   "file_extension": ".py",
   "mimetype": "text/x-python",
   "name": "python",
   "nbconvert_exporter": "python",
   "pygments_lexer": "ipython3",
   "version": "3.7.3"
  }
 },
 "nbformat": 4,
 "nbformat_minor": 1
}
