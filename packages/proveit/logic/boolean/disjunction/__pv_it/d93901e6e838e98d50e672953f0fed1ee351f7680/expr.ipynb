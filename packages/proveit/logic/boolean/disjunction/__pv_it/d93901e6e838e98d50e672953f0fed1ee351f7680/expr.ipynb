{
 "cells": [
  {
   "cell_type": "markdown",
   "metadata": {},
   "source": [
    "Expression of type <a class=\"ProveItLink\" href=\"../../../../../../../doc/html/api/proveit.logic.Set.html\">Set</a>\n",
    "=======================\n",
    "# from context <a class=\"ProveItLink\" href=\"../../_context_.ipynb\">proveit.logic.boolean.disjunction</a>"
   ]
  },
  {
   "cell_type": "code",
   "execution_count": 1,
   "metadata": {},
   "outputs": [],
   "source": [
    "import proveit\n",
    "# Automation is not needed when building an expression:\n",
    "proveit.defaults.automation = False # This will speed things up.\n",
    "proveit.defaults.inline_pngs = False # Makes files smaller.\n",
    "# import Expression classes needed to build the expression\n",
    "from proveit._common_ import A, B, C, D, E\n",
    "from proveit.logic import Booleans, Implies, InSet, Or, Set"
   ]
  },
  {
   "cell_type": "code",
   "execution_count": 2,
   "metadata": {},
   "outputs": [
    {
     "data": {
      "text/html": [
       "<strong id=\"expr\">expr:</strong> <a class=\"ProveItLink\" href=\"../cf54e40b8c084cf603c20d6ad1a72298e20594f80/expr.ipynb\"><img src=\"../cf54e40b8c084cf603c20d6ad1a72298e20594f80/expr.png\" style=\"display:inline;vertical-align:middle;\" /></a><br>"
      ],
      "text/plain": [
       "expr: {A in BOOLEANS, B in BOOLEANS, C in BOOLEANS, D in BOOLEANS, A or B or C or D, A => E, B => E, C => E, D => E}"
      ]
     },
     "execution_count": 2,
     "metadata": {},
     "output_type": "execute_result"
    }
   ],
   "source": [
    "# build up the expression from sub-expressions\n",
    "expr = Set(InSet(A, Booleans), InSet(B, Booleans), InSet(C, Booleans), InSet(D, Booleans), Or(A, B, C, D), Implies(A, E), Implies(B, E), Implies(C, E), Implies(D, E))"
   ]
  },
  {
   "cell_type": "code",
   "execution_count": 3,
   "metadata": {},
   "outputs": [
    {
     "name": "stdout",
     "output_type": "stream",
     "text": [
      "Passed sanity check: built 'expr' is the same as the stored Expression.\n"
     ]
    }
   ],
   "source": [
    "# check that the built expression is the same as the stored expression\n",
    "%check_expr"
   ]
  },
  {
   "cell_type": "code",
   "execution_count": 4,
   "metadata": {},
   "outputs": [
    {
     "name": "stdout",
     "output_type": "stream",
     "text": [
      "\\left\\{A \\in \\mathbb{B}, B \\in \\mathbb{B}, C \\in \\mathbb{B}, D \\in \\mathbb{B}, A \\lor B \\lor C \\lor D, A \\Rightarrow E, B \\Rightarrow E, C \\Rightarrow E, D \\Rightarrow E\\right\\}\n"
     ]
    }
   ],
   "source": [
    "# Show the LaTeX representation of the expression for convenience if you need it.\n",
    "print(expr.latex())"
   ]
  },
  {
   "cell_type": "code",
   "execution_count": 5,
   "metadata": {},
   "outputs": [
    {
     "data": {
      "text/html": [
       "<table><tr><th>&nbsp;</th><th>core type</th><th>sub-expressions</th><th>expression</th></tr>\n",
       "<tr><td>0</td><td>Operation</td><td>operator:&nbsp;1<br>operands:&nbsp;2<br></td><td><a class=\"ProveItLink\" href=\"../cf54e40b8c084cf603c20d6ad1a72298e20594f80/expr.ipynb\"><img src=\"../cf54e40b8c084cf603c20d6ad1a72298e20594f80/expr.png\" style=\"display:inline;vertical-align:middle;\" /></a></td></tr>\n",
       "<tr><td>1</td><td>Literal</td><td></td><td><a class=\"ProveItLink\" href=\"../../../../set_theory/enumeration/__pv_it/031f443c811429025ee9cba8d75037dd468e2c850/expr.ipynb\"><img src=\"../../../../set_theory/enumeration/__pv_it/031f443c811429025ee9cba8d75037dd468e2c850/expr.png\" style=\"display:inline;vertical-align:middle;\" /></a></td></tr>\n",
       "<tr><td>2</td><td>ExprTuple</td><td>3, 4, 5, 6, 7, 8, 9, 10, 11</td><td><a class=\"ProveItLink\" href=\"../63fe64be33d1a82c7e922628cc7fd5fb585acd4f0/expr.ipynb\"><img src=\"../63fe64be33d1a82c7e922628cc7fd5fb585acd4f0/expr.png\" style=\"display:inline;vertical-align:middle;\" /></a></td></tr>\n",
       "<tr><td>3</td><td>Operation</td><td>operator:&nbsp;15<br>operands:&nbsp;12<br></td><td><a class=\"ProveItLink\" href=\"../../../../../__pv_it/c9b4e272090c87d2bafac1557987ced3b9de5bb70/expr.ipynb\"><img src=\"../../../../../__pv_it/c9b4e272090c87d2bafac1557987ced3b9de5bb70/expr.png\" style=\"display:inline;vertical-align:middle;\" /></a></td></tr>\n",
       "<tr><td>4</td><td>Operation</td><td>operator:&nbsp;15<br>operands:&nbsp;13<br></td><td><a class=\"ProveItLink\" href=\"../../../../../__pv_it/61d40e543ba346235164e1fec19e2ee8072cb2960/expr.ipynb\"><img src=\"../../../../../__pv_it/61d40e543ba346235164e1fec19e2ee8072cb2960/expr.png\" style=\"display:inline;vertical-align:middle;\" /></a></td></tr>\n",
       "<tr><td>5</td><td>Operation</td><td>operator:&nbsp;15<br>operands:&nbsp;14<br></td><td><a class=\"ProveItLink\" href=\"../../../../../__pv_it/322e7dcb3460c149f603e52f96cb5c65e5a5c45f0/expr.ipynb\"><img src=\"../../../../../__pv_it/322e7dcb3460c149f603e52f96cb5c65e5a5c45f0/expr.png\" style=\"display:inline;vertical-align:middle;\" /></a></td></tr>\n",
       "<tr><td>6</td><td>Operation</td><td>operator:&nbsp;15<br>operands:&nbsp;16<br></td><td><a class=\"ProveItLink\" href=\"../../../../../__pv_it/a6b26b2cc7696d0469fd773805b1fde42238f0d10/expr.ipynb\"><img src=\"../../../../../__pv_it/a6b26b2cc7696d0469fd773805b1fde42238f0d10/expr.png\" style=\"display:inline;vertical-align:middle;\" /></a></td></tr>\n",
       "<tr><td>7</td><td>Operation</td><td>operator:&nbsp;17<br>operands:&nbsp;18<br></td><td><a class=\"ProveItLink\" href=\"../../../../../__pv_it/4f2f5a015a8d60d1296baafceff87a793fea3bb00/expr.ipynb\"><img src=\"../../../../../__pv_it/4f2f5a015a8d60d1296baafceff87a793fea3bb00/expr.png\" style=\"display:inline;vertical-align:middle;\" /></a></td></tr>\n",
       "<tr><td>8</td><td>Operation</td><td>operator:&nbsp;22<br>operands:&nbsp;19<br></td><td><a class=\"ProveItLink\" href=\"../../../../../__pv_it/042dc7c693a7842d93b6dc6e921b391962ad19ea0/expr.ipynb\"><img src=\"../../../../../__pv_it/042dc7c693a7842d93b6dc6e921b391962ad19ea0/expr.png\" style=\"display:inline;vertical-align:middle;\" /></a></td></tr>\n",
       "<tr><td>9</td><td>Operation</td><td>operator:&nbsp;22<br>operands:&nbsp;20<br></td><td><a class=\"ProveItLink\" href=\"../../../../../__pv_it/edd548943fe3fd294e9b0253c6a91746de80ad930/expr.ipynb\"><img src=\"../../../../../__pv_it/edd548943fe3fd294e9b0253c6a91746de80ad930/expr.png\" style=\"display:inline;vertical-align:middle;\" /></a></td></tr>\n",
       "<tr><td>10</td><td>Operation</td><td>operator:&nbsp;22<br>operands:&nbsp;21<br></td><td><a class=\"ProveItLink\" href=\"../../../../../__pv_it/ef778f2571765e0e845bcc9d820fc61fe3ea66c50/expr.ipynb\"><img src=\"../../../../../__pv_it/ef778f2571765e0e845bcc9d820fc61fe3ea66c50/expr.png\" style=\"display:inline;vertical-align:middle;\" /></a></td></tr>\n",
       "<tr><td>11</td><td>Operation</td><td>operator:&nbsp;22<br>operands:&nbsp;23<br></td><td><a class=\"ProveItLink\" href=\"../../../../../__pv_it/95dc372055c555b09b6361b8a854c802af1f89c10/expr.ipynb\"><img src=\"../../../../../__pv_it/95dc372055c555b09b6361b8a854c802af1f89c10/expr.png\" style=\"display:inline;vertical-align:middle;\" /></a></td></tr>\n",
       "<tr><td>12</td><td>ExprTuple</td><td>25, 24</td><td><a class=\"ProveItLink\" href=\"../../../../../__pv_it/a839b65fb56146bc2d2e0d3471a4965a00836c3b0/expr.ipynb\"><img src=\"../../../../../__pv_it/a839b65fb56146bc2d2e0d3471a4965a00836c3b0/expr.png\" style=\"display:inline;vertical-align:middle;\" /></a></td></tr>\n",
       "<tr><td>13</td><td>ExprTuple</td><td>26, 24</td><td><a class=\"ProveItLink\" href=\"../../../../../__pv_it/51024acc4b6ef682b5a9ce54982aac301377cfbf0/expr.ipynb\"><img src=\"../../../../../__pv_it/51024acc4b6ef682b5a9ce54982aac301377cfbf0/expr.png\" style=\"display:inline;vertical-align:middle;\" /></a></td></tr>\n",
       "<tr><td>14</td><td>ExprTuple</td><td>27, 24</td><td><a class=\"ProveItLink\" href=\"../../../../../__pv_it/db624f66ca983276970717e0f37ceca4990e78520/expr.ipynb\"><img src=\"../../../../../__pv_it/db624f66ca983276970717e0f37ceca4990e78520/expr.png\" style=\"display:inline;vertical-align:middle;\" /></a></td></tr>\n",
       "<tr><td>15</td><td>Literal</td><td></td><td><a class=\"ProveItLink\" href=\"../../../../set_theory/membership/__pv_it/7776fc89cb67d0b5b1ec2c0c8e08da5587921ccf0/expr.ipynb\"><img src=\"../../../../set_theory/membership/__pv_it/7776fc89cb67d0b5b1ec2c0c8e08da5587921ccf0/expr.png\" style=\"display:inline;vertical-align:middle;\" /></a></td></tr>\n",
       "<tr><td>16</td><td>ExprTuple</td><td>28, 24</td><td><a class=\"ProveItLink\" href=\"../../../../../__pv_it/e15bef7bca8b94332ebbcfa0801d2044cb6b525a0/expr.ipynb\"><img src=\"../../../../../__pv_it/e15bef7bca8b94332ebbcfa0801d2044cb6b525a0/expr.png\" style=\"display:inline;vertical-align:middle;\" /></a></td></tr>\n",
       "<tr><td>17</td><td>Literal</td><td></td><td><a class=\"ProveItLink\" href=\"../8a6d9fc46c84b3911a71fbae15627dc2acebe2890/expr.ipynb\"><img src=\"../8a6d9fc46c84b3911a71fbae15627dc2acebe2890/expr.png\" style=\"display:inline;vertical-align:middle;\" /></a></td></tr>\n",
       "<tr><td>18</td><td>ExprTuple</td><td>25, 26, 27, 28</td><td><a class=\"ProveItLink\" href=\"../../../../../__pv_it/ac21912955b467c121905cbcbf0a7648310143e30/expr.ipynb\"><img src=\"../../../../../__pv_it/ac21912955b467c121905cbcbf0a7648310143e30/expr.png\" style=\"display:inline;vertical-align:middle;\" /></a></td></tr>\n",
       "<tr><td>19</td><td>ExprTuple</td><td>25, 29</td><td><a class=\"ProveItLink\" href=\"../../../../../__pv_it/8cec2275954714d5c2cf94ee68df1301bc8f9e3a0/expr.ipynb\"><img src=\"../../../../../__pv_it/8cec2275954714d5c2cf94ee68df1301bc8f9e3a0/expr.png\" style=\"display:inline;vertical-align:middle;\" /></a></td></tr>\n",
       "<tr><td>20</td><td>ExprTuple</td><td>26, 29</td><td><a class=\"ProveItLink\" href=\"../../../../../__pv_it/ff282b315825233873e7e8f55ee993f3dc5de8e60/expr.ipynb\"><img src=\"../../../../../__pv_it/ff282b315825233873e7e8f55ee993f3dc5de8e60/expr.png\" style=\"display:inline;vertical-align:middle;\" /></a></td></tr>\n",
       "<tr><td>21</td><td>ExprTuple</td><td>27, 29</td><td><a class=\"ProveItLink\" href=\"../../../../../__pv_it/16733b1f2202b60035fa9f42770443c5a6084ca90/expr.ipynb\"><img src=\"../../../../../__pv_it/16733b1f2202b60035fa9f42770443c5a6084ca90/expr.png\" style=\"display:inline;vertical-align:middle;\" /></a></td></tr>\n",
       "<tr><td>22</td><td>Literal</td><td></td><td><a class=\"ProveItLink\" href=\"../../../implication/__pv_it/1e62b0c0a90306fc48b17f0dc8d4dc4df8bb234f0/expr.ipynb\"><img src=\"../../../implication/__pv_it/1e62b0c0a90306fc48b17f0dc8d4dc4df8bb234f0/expr.png\" style=\"display:inline;vertical-align:middle;\" /></a></td></tr>\n",
       "<tr><td>23</td><td>ExprTuple</td><td>28, 29</td><td><a class=\"ProveItLink\" href=\"../../../../../__pv_it/af3369084f131813e40e4250f02402452a95bbb30/expr.ipynb\"><img src=\"../../../../../__pv_it/af3369084f131813e40e4250f02402452a95bbb30/expr.png\" style=\"display:inline;vertical-align:middle;\" /></a></td></tr>\n",
       "<tr><td>24</td><td>Literal</td><td></td><td><a class=\"ProveItLink\" href=\"../../../__pv_it/a3b387936f605fef1b535be3e1116cca8bbfc91b0/expr.ipynb\"><img src=\"../../../__pv_it/a3b387936f605fef1b535be3e1116cca8bbfc91b0/expr.png\" style=\"display:inline;vertical-align:middle;\" /></a></td></tr>\n",
       "<tr><td>25</td><td>Variable</td><td></td><td><a class=\"ProveItLink\" href=\"../../../../../__pv_it/d3792d0d8642fdf1cd2a3a9b32c673ee13653de00/expr.ipynb\"><img src=\"../../../../../__pv_it/d3792d0d8642fdf1cd2a3a9b32c673ee13653de00/expr.png\" style=\"display:inline;vertical-align:middle;\" /></a></td></tr>\n",
       "<tr><td>26</td><td>Variable</td><td></td><td><a class=\"ProveItLink\" href=\"../../../../../__pv_it/4d98b438710c5ada9ffa4646bb123a7d0e69ec000/expr.ipynb\"><img src=\"../../../../../__pv_it/4d98b438710c5ada9ffa4646bb123a7d0e69ec000/expr.png\" style=\"display:inline;vertical-align:middle;\" /></a></td></tr>\n",
       "<tr><td>27</td><td>Variable</td><td></td><td><a class=\"ProveItLink\" href=\"../../../../../__pv_it/dcb5a3e430485237dfe486162b026a4affb149300/expr.ipynb\"><img src=\"../../../../../__pv_it/dcb5a3e430485237dfe486162b026a4affb149300/expr.png\" style=\"display:inline;vertical-align:middle;\" /></a></td></tr>\n",
       "<tr><td>28</td><td>Variable</td><td></td><td><a class=\"ProveItLink\" href=\"../../../../../__pv_it/8f4534f2d0cd8231a9b8a1771e8be76aa52adea40/expr.ipynb\"><img src=\"../../../../../__pv_it/8f4534f2d0cd8231a9b8a1771e8be76aa52adea40/expr.png\" style=\"display:inline;vertical-align:middle;\" /></a></td></tr>\n",
       "<tr><td>29</td><td>Variable</td><td></td><td><a class=\"ProveItLink\" href=\"../../../../../__pv_it/e34ca70b41810f8902f1a81ee7caace8a42959280/expr.ipynb\"><img src=\"../../../../../__pv_it/e34ca70b41810f8902f1a81ee7caace8a42959280/expr.png\" style=\"display:inline;vertical-align:middle;\" /></a></td></tr>\n",
       "</table>\n"
      ],
      "text/plain": [
       "0. {A in BOOLEANS, B in BOOLEANS, C in BOOLEANS, D in BOOLEANS, A or B or C or D, A => E, B => E, C => E, D => E}\n",
       "   core type: Operation\n",
       "   operator: 1\n",
       "   operands: 2\n",
       "1. Set\n",
       "   core type: Literal\n",
       "   sub-expressions: \n",
       "2. (A in BOOLEANS, B in BOOLEANS, C in BOOLEANS, D in BOOLEANS, A or B or C or D, A => E, B => E, C => E, D => E)\n",
       "   core type: ExprTuple\n",
       "   sub-expressions: 3, 4, 5, 6, 7, 8, 9, 10, 11\n",
       "3. A in BOOLEANS\n",
       "   core type: Operation\n",
       "   operator: 15\n",
       "   operands: 12\n",
       "4. B in BOOLEANS\n",
       "   core type: Operation\n",
       "   operator: 15\n",
       "   operands: 13\n",
       "5. C in BOOLEANS\n",
       "   core type: Operation\n",
       "   operator: 15\n",
       "   operands: 14\n",
       "6. D in BOOLEANS\n",
       "   core type: Operation\n",
       "   operator: 15\n",
       "   operands: 16\n",
       "7. A or B or C or D\n",
       "   core type: Operation\n",
       "   operator: 17\n",
       "   operands: 18\n",
       "8. A => E\n",
       "   core type: Operation\n",
       "   operator: 22\n",
       "   operands: 19\n",
       "9. B => E\n",
       "   core type: Operation\n",
       "   operator: 22\n",
       "   operands: 20\n",
       "10. C => E\n",
       "    core type: Operation\n",
       "    operator: 22\n",
       "    operands: 21\n",
       "11. D => E\n",
       "    core type: Operation\n",
       "    operator: 22\n",
       "    operands: 23\n",
       "12. (A, BOOLEANS)\n",
       "    core type: ExprTuple\n",
       "    sub-expressions: 25, 24\n",
       "13. (B, BOOLEANS)\n",
       "    core type: ExprTuple\n",
       "    sub-expressions: 26, 24\n",
       "14. (C, BOOLEANS)\n",
       "    core type: ExprTuple\n",
       "    sub-expressions: 27, 24\n",
       "15. in\n",
       "    core type: Literal\n",
       "    sub-expressions: \n",
       "16. (D, BOOLEANS)\n",
       "    core type: ExprTuple\n",
       "    sub-expressions: 28, 24\n",
       "17. or\n",
       "    core type: Literal\n",
       "    sub-expressions: \n",
       "18. (A, B, C, D)\n",
       "    core type: ExprTuple\n",
       "    sub-expressions: 25, 26, 27, 28\n",
       "19. (A, E)\n",
       "    core type: ExprTuple\n",
       "    sub-expressions: 25, 29\n",
       "20. (B, E)\n",
       "    core type: ExprTuple\n",
       "    sub-expressions: 26, 29\n",
       "21. (C, E)\n",
       "    core type: ExprTuple\n",
       "    sub-expressions: 27, 29\n",
       "22. =>\n",
       "    core type: Literal\n",
       "    sub-expressions: \n",
       "23. (D, E)\n",
       "    core type: ExprTuple\n",
       "    sub-expressions: 28, 29\n",
       "24. BOOLEANS\n",
       "    core type: Literal\n",
       "    sub-expressions: \n",
       "25. A\n",
       "    core type: Variable\n",
       "    sub-expressions: \n",
       "26. B\n",
       "    core type: Variable\n",
       "    sub-expressions: \n",
       "27. C\n",
       "    core type: Variable\n",
       "    sub-expressions: \n",
       "28. D\n",
       "    core type: Variable\n",
       "    sub-expressions: \n",
       "29. E\n",
       "    core type: Variable\n",
       "    sub-expressions: "
      ]
     },
     "execution_count": 5,
     "metadata": {},
     "output_type": "execute_result"
    }
   ],
   "source": [
    "# display the expression information\n",
    "expr.exprInfo()"
   ]
  },
  {
   "cell_type": "code",
   "execution_count": null,
   "metadata": {},
   "outputs": [],
   "source": []
  }
 ],
 "metadata": {
  "kernelspec": {
   "display_name": "Python 3",
   "language": "python",
   "name": "python3"
  },
  "language_info": {
   "codemirror_mode": {
    "name": "ipython",
    "version": 3
   },
   "file_extension": ".py",
   "mimetype": "text/x-python",
   "name": "python",
   "nbconvert_exporter": "python",
   "pygments_lexer": "ipython3",
   "version": "3.7.3"
  }
 },
 "nbformat": 4,
 "nbformat_minor": 1
}
