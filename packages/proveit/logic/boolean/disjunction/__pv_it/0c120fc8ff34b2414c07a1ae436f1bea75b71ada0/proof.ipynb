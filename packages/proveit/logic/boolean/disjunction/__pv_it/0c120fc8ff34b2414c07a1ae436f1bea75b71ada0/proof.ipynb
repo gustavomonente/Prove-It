{
 "cells": [
  {
   "cell_type": "markdown",
   "metadata": {},
   "source": [
    "Show the Proof\n",
    "========"
   ]
  },
  {
   "cell_type": "code",
   "execution_count": 1,
   "metadata": {},
   "outputs": [
    {
     "data": {
      "text/html": [
       "<table><tr><th>&nbsp;</th><th>step type</th><th>requirements</th><th>statement</th></tr>\n",
       "<tr><td><a name=\"proveit.logic.boolean.disjunction.0c120fc8ff34b2414c07a1ae436f1bea75b71ada0_step0\">0</a></td><td>instantiation</td><td><a href=\"#proveit.logic.boolean.disjunction.0c120fc8ff34b2414c07a1ae436f1bea75b71ada0_step1\">1</a>, <a href=\"#proveit.logic.boolean.disjunction.0c120fc8ff34b2414c07a1ae436f1bea75b71ada0_step2\">2</a>, <a href=\"#proveit.logic.boolean.disjunction.0c120fc8ff34b2414c07a1ae436f1bea75b71ada0_step3\">3</a></td><td><span style=\"font-size:20px;\"> <a class=\"ProveItLink\" href=\"proof.ipynb\" style=\"text-decoration: none\">&#x22A2;&nbsp;</a><a class=\"ProveItLink\" href=\"../4a5ab6876ec3cbfe55db00a3745e71c8c27175140/expr.ipynb\"><img src=\"../4a5ab6876ec3cbfe55db00a3745e71c8c27175140/expr.png\" style=\"display:inline;vertical-align:middle;\" /></a></span></td></tr>\n",
       "<tr><td>&nbsp;</td><td colspan=4 style=\"text-align:left\"><span style=\"font-size:20px;\"><a class=\"ProveItLink\" href=\"../ebe520a25800292157246f20a124f0c70e475fb30/expr.ipynb\"><img src=\"../ebe520a25800292157246f20a124f0c70e475fb30/expr.png\" style=\"display:inline;vertical-align:middle;\" /></a> : <a class=\"ProveItLink\" href=\"../417c52c06b62662f236e3edd33490d0b265ba3b50/expr.ipynb\"><img src=\"../417c52c06b62662f236e3edd33490d0b265ba3b50/expr.png\" style=\"display:inline;vertical-align:middle;\" /></a>, <a class=\"ProveItLink\" href=\"../0c6e4718b0540c1822cc08271ad77d7171fd7b950/expr.ipynb\"><img src=\"../0c6e4718b0540c1822cc08271ad77d7171fd7b950/expr.png\" style=\"display:inline;vertical-align:middle;\" /></a> : <a class=\"ProveItLink\" href=\"../d8ed39d8c7ecf08f137dbee05b95b356590a12bc0/expr.ipynb\"><img src=\"../d8ed39d8c7ecf08f137dbee05b95b356590a12bc0/expr.png\" style=\"display:inline;vertical-align:middle;\" /></a>, <a class=\"ProveItLink\" href=\"../../../../../__pv_it/d3792d0d8642fdf1cd2a3a9b32c673ee13653de00/expr.ipynb\"><img src=\"../../../../../__pv_it/d3792d0d8642fdf1cd2a3a9b32c673ee13653de00/expr.png\" style=\"display:inline;vertical-align:middle;\" /></a> : <a class=\"ProveItLink\" href=\"../../../../../__pv_it/4d98b438710c5ada9ffa4646bb123a7d0e69ec000/expr.ipynb\"><img src=\"../../../../../__pv_it/4d98b438710c5ada9ffa4646bb123a7d0e69ec000/expr.png\" style=\"display:inline;vertical-align:middle;\" /></a></span></td></tr><tr><td><a name=\"proveit.logic.boolean.disjunction.0c120fc8ff34b2414c07a1ae436f1bea75b71ada0_step1\">1</a></td><td>theorem</td><td></td><td><span style=\"font-size:20px;\"> <a class=\"ProveItLink\" href=\"../../../_proofs_/foldConditionedForallOverBool.ipynb\" style=\"text-decoration: none\">&#x22A2;&nbsp;</a><a class=\"ProveItLink\" href=\"../f032a0687bb5fcc84ca9e07f9f79b40a747bd0680/expr.ipynb\"><img src=\"../f032a0687bb5fcc84ca9e07f9f79b40a747bd0680/expr.png\" style=\"display:inline;vertical-align:middle;\" /></a></span></td></tr>\n",
       "<tr><td>&nbsp;</td><td colspan=4 style-\"text-align:left\"><a class=\"ProveItLink\" href=\"../../../_proofs_/foldConditionedForallOverBool.ipynb\">proveit.logic.boolean.foldConditionedForallOverBool</a></td></tr><tr><td><a name=\"proveit.logic.boolean.disjunction.0c120fc8ff34b2414c07a1ae436f1bea75b71ada0_step2\">2</a></td><td>hypothetical reasoning</td><td><a href=\"#proveit.logic.boolean.disjunction.0c120fc8ff34b2414c07a1ae436f1bea75b71ada0_step4\">4</a></td><td><span style=\"font-size:20px;\"> <a class=\"ProveItLink\" href=\"../37e299525a7e327c62594fbee8246f71d0c17e9a0/proof.ipynb\" style=\"text-decoration: none\">&#x22A2;&nbsp;</a><a class=\"ProveItLink\" href=\"../72eb0d5d244e3d3e979ddd45c5b91895494c05580/expr.ipynb\"><img src=\"../72eb0d5d244e3d3e979ddd45c5b91895494c05580/expr.png\" style=\"display:inline;vertical-align:middle;\" /></a></span></td></tr>\n",
       "<tr><td><a name=\"proveit.logic.boolean.disjunction.0c120fc8ff34b2414c07a1ae436f1bea75b71ada0_step3\">3</a></td><td>hypothetical reasoning</td><td><a href=\"#proveit.logic.boolean.disjunction.0c120fc8ff34b2414c07a1ae436f1bea75b71ada0_step5\">5</a></td><td><span style=\"font-size:20px;\"> <a class=\"ProveItLink\" href=\"../d92b7697ea039b4304215823a3400eb638d5800a0/proof.ipynb\" style=\"text-decoration: none\">&#x22A2;&nbsp;</a><a class=\"ProveItLink\" href=\"../803293940e8bf1e34cfc03066fea50e6d1b081c50/expr.ipynb\"><img src=\"../803293940e8bf1e34cfc03066fea50e6d1b081c50/expr.png\" style=\"display:inline;vertical-align:middle;\" /></a></span></td></tr>\n",
       "<tr><td><a name=\"proveit.logic.boolean.disjunction.0c120fc8ff34b2414c07a1ae436f1bea75b71ada0_step4\">4</a></td><td>instantiation</td><td><a href=\"#proveit.logic.boolean.disjunction.0c120fc8ff34b2414c07a1ae436f1bea75b71ada0_step7\">7</a>, <a href=\"#proveit.logic.boolean.disjunction.0c120fc8ff34b2414c07a1ae436f1bea75b71ada0_step6\">6</a></td><td><span style=\"font-size:20px;\"> <a class=\"ProveItLink\" href=\"../3064ac9073c4cad6423581d918dda41c268b33740/proof.ipynb\" style=\"text-decoration: none\">&#x22A2;&nbsp;</a><a class=\"ProveItLink\" href=\"../4adbac21b979622f54a8418e5a9d4d51473be0000/expr.ipynb\"><img src=\"../4adbac21b979622f54a8418e5a9d4d51473be0000/expr.png\" style=\"display:inline;vertical-align:middle;\" /></a></span></td></tr>\n",
       "<tr><td>&nbsp;</td><td colspan=4 style=\"text-align:left\"><span style=\"font-size:20px;\"><a class=\"ProveItLink\" href=\"../../../../../__pv_it/d3792d0d8642fdf1cd2a3a9b32c673ee13653de00/expr.ipynb\"><img src=\"../../../../../__pv_it/d3792d0d8642fdf1cd2a3a9b32c673ee13653de00/expr.png\" style=\"display:inline;vertical-align:middle;\" /></a> : <a class=\"ProveItLink\" href=\"../4adbac21b979622f54a8418e5a9d4d51473be0000/expr.ipynb\"><img src=\"../4adbac21b979622f54a8418e5a9d4d51473be0000/expr.png\" style=\"display:inline;vertical-align:middle;\" /></a></span></td></tr><tr><td><a name=\"proveit.logic.boolean.disjunction.0c120fc8ff34b2414c07a1ae436f1bea75b71ada0_step5\">5</a></td><td>instantiation</td><td><a href=\"#proveit.logic.boolean.disjunction.0c120fc8ff34b2414c07a1ae436f1bea75b71ada0_step7\">7</a>, <a href=\"#proveit.logic.boolean.disjunction.0c120fc8ff34b2414c07a1ae436f1bea75b71ada0_step8\">8</a></td><td><span style=\"font-size:20px;\"> <a class=\"ProveItLink\" href=\"../a4097a8a3567fa8da700dba4a45b099efeb381580/proof.ipynb\" style=\"text-decoration: none\">&#x22A2;&nbsp;</a><a class=\"ProveItLink\" href=\"../39d2e82cf983c93e173d1434bd96b807f88bf65e0/expr.ipynb\"><img src=\"../39d2e82cf983c93e173d1434bd96b807f88bf65e0/expr.png\" style=\"display:inline;vertical-align:middle;\" /></a></span></td></tr>\n",
       "<tr><td>&nbsp;</td><td colspan=4 style=\"text-align:left\"><span style=\"font-size:20px;\"><a class=\"ProveItLink\" href=\"../../../../../__pv_it/d3792d0d8642fdf1cd2a3a9b32c673ee13653de00/expr.ipynb\"><img src=\"../../../../../__pv_it/d3792d0d8642fdf1cd2a3a9b32c673ee13653de00/expr.png\" style=\"display:inline;vertical-align:middle;\" /></a> : <a class=\"ProveItLink\" href=\"../39d2e82cf983c93e173d1434bd96b807f88bf65e0/expr.ipynb\"><img src=\"../39d2e82cf983c93e173d1434bd96b807f88bf65e0/expr.png\" style=\"display:inline;vertical-align:middle;\" /></a></span></td></tr><tr><td><a name=\"proveit.logic.boolean.disjunction.0c120fc8ff34b2414c07a1ae436f1bea75b71ada0_step6\">6</a></td><td>axiom</td><td></td><td><span style=\"font-size:20px;\"> <a class=\"ProveItLink\" href=\"../../_axioms_.ipynb#orTT\" style=\"text-decoration: none\">&#x22A2;&nbsp;</a><a class=\"ProveItLink\" href=\"../076ee77368cebfdab42bbf9d88db9c33e01699d20/expr.ipynb\"><img src=\"../076ee77368cebfdab42bbf9d88db9c33e01699d20/expr.png\" style=\"display:inline;vertical-align:middle;\" /></a></span></td></tr>\n",
       "<tr><td>&nbsp;</td><td colspan=4 style-\"text-align:left\"><a class=\"ProveItLink\" href=\"../../_axioms_.ipynb#orTT\">proveit.logic.boolean.disjunction.orTT</a></td></tr><tr><td><a name=\"proveit.logic.boolean.disjunction.0c120fc8ff34b2414c07a1ae436f1bea75b71ada0_step7\">7</a></td><td>axiom</td><td></td><td><span style=\"font-size:20px;\"> <a class=\"ProveItLink\" href=\"../../../_axioms_.ipynb#eqTrueElim\" style=\"text-decoration: none\">&#x22A2;&nbsp;</a><a class=\"ProveItLink\" href=\"../0db883caac0b35e60730c46a57094d54df062e250/expr.ipynb\"><img src=\"../0db883caac0b35e60730c46a57094d54df062e250/expr.png\" style=\"display:inline;vertical-align:middle;\" /></a></span></td></tr>\n",
       "<tr><td>&nbsp;</td><td colspan=4 style-\"text-align:left\"><a class=\"ProveItLink\" href=\"../../../_axioms_.ipynb#eqTrueElim\">proveit.logic.boolean.eqTrueElim</a></td></tr><tr><td><a name=\"proveit.logic.boolean.disjunction.0c120fc8ff34b2414c07a1ae436f1bea75b71ada0_step8\">8</a></td><td>axiom</td><td></td><td><span style=\"font-size:20px;\"> <a class=\"ProveItLink\" href=\"../../_axioms_.ipynb#orTF\" style=\"text-decoration: none\">&#x22A2;&nbsp;</a><a class=\"ProveItLink\" href=\"../a980f2e4f091260c75434ac31f723f4cc5f16b430/expr.ipynb\"><img src=\"../a980f2e4f091260c75434ac31f723f4cc5f16b430/expr.png\" style=\"display:inline;vertical-align:middle;\" /></a></span></td></tr>\n",
       "<tr><td>&nbsp;</td><td colspan=4 style-\"text-align:left\"><a class=\"ProveItLink\" href=\"../../_axioms_.ipynb#orTF\">proveit.logic.boolean.disjunction.orTF</a></td></tr></table>"
      ],
      "text/plain": [
       "<proveit._core_.proof._ShowProof at 0x7f5b8bbab9b0>"
      ]
     },
     "execution_count": 1,
     "metadata": {},
     "output_type": "execute_result"
    }
   ],
   "source": [
    "import proveit\n",
    "# Automation is not needed when only showing a stored proof:\n",
    "proveit.defaults.automation = False # This will speed things up.\n",
    "proveit.defaults.inline_pngs = False # Makes files smaller.\n",
    "%show_proof"
   ]
  },
  {
   "cell_type": "code",
   "execution_count": null,
   "metadata": {},
   "outputs": [],
   "source": []
  }
 ],
 "metadata": {
  "kernelspec": {
   "display_name": "Python 3",
   "language": "python",
   "name": "python3"
  },
  "language_info": {
   "codemirror_mode": {
    "name": "ipython",
    "version": 3
   },
   "file_extension": ".py",
   "mimetype": "text/x-python",
   "name": "python",
   "nbconvert_exporter": "python",
   "pygments_lexer": "ipython3",
   "version": "3.7.3"
  }
 },
 "nbformat": 4,
 "nbformat_minor": 1
}
