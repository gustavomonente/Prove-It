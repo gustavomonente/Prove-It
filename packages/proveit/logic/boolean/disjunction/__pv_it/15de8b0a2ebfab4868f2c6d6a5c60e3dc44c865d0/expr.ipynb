{
 "cells": [
  {
   "cell_type": "markdown",
   "metadata": {},
   "source": [
    "Expression of type <a class=\"ProveItLink\" href=\"../../../../../../../doc/html/api/proveit.ExprTuple.html\">ExprTuple</a>\n",
    "=======================\n",
    "# from context <a class=\"ProveItLink\" href=\"../../_context_.ipynb\">proveit.logic.boolean.disjunction</a>"
   ]
  },
  {
   "cell_type": "code",
   "execution_count": 1,
   "metadata": {},
   "outputs": [],
   "source": [
    "import proveit\n",
    "# Automation is not needed when building an expression:\n",
    "proveit.defaults.automation = False # This will speed things up.\n",
    "proveit.defaults.inline_pngs = False # Makes files smaller.\n",
    "# import Expression classes needed to build the expression\n",
    "from proveit import ExprTuple\n",
    "from proveit._common_ import B\n",
    "from proveit.core_expr_types._common_ import A_1_to_l, C_1_to_m, D_1_to_n"
   ]
  },
  {
   "cell_type": "code",
   "execution_count": 2,
   "metadata": {},
   "outputs": [
    {
     "data": {
      "text/html": [
       "<strong id=\"expr\">expr:</strong> <a class=\"ProveItLink\" href=\"expr.ipynb\"><img src=\"expr.png\" style=\"display:inline;vertical-align:middle;\" /></a><br>"
      ],
      "text/plain": [
       "expr: (A_{1}, ..A_{_a}.., A_{l}, C_{1}, ..C_{_a}.., C_{m}, B, D_{1}, ..D_{_a}.., D_{n})"
      ]
     },
     "execution_count": 2,
     "metadata": {},
     "output_type": "execute_result"
    }
   ],
   "source": [
    "# build up the expression from sub-expressions\n",
    "expr = ExprTuple(A_1_to_l, C_1_to_m, B, D_1_to_n)"
   ]
  },
  {
   "cell_type": "code",
   "execution_count": 3,
   "metadata": {},
   "outputs": [
    {
     "name": "stdout",
     "output_type": "stream",
     "text": [
      "Passed sanity check: built 'expr' is the same as the stored Expression.\n"
     ]
    }
   ],
   "source": [
    "# check that the built expression is the same as the stored expression\n",
    "%check_expr"
   ]
  },
  {
   "cell_type": "code",
   "execution_count": 4,
   "metadata": {},
   "outputs": [
    {
     "name": "stdout",
     "output_type": "stream",
     "text": [
      "\\left(A_{1}, \\ldots, A_{l}, C_{1}, \\ldots, C_{m}, B, D_{1}, \\ldots, D_{n}\\right)\n"
     ]
    }
   ],
   "source": [
    "# Show the LaTeX representation of the expression for convenience if you need it.\n",
    "print(expr.latex())"
   ]
  },
  {
   "cell_type": "code",
   "execution_count": 5,
   "metadata": {},
   "outputs": [
    {
     "data": {
      "text/html": [
       "<table><tr><th>&nbsp;</th><th>core type</th><th>sub-expressions</th><th>expression</th></tr>\n",
       "<tr><td>0</td><td>ExprTuple</td><td>1, 2, 3, 4</td><td><a class=\"ProveItLink\" href=\"expr.ipynb\"><img src=\"expr.png\" style=\"display:inline;vertical-align:middle;\" /></a></td></tr>\n",
       "<tr><td>1</td><td>ExprRange</td><td>lambda_map:&nbsp;5<br>start_index:&nbsp;10<br>end_index:&nbsp;6<br></td><td><a class=\"ProveItLink\" href=\"../../../../../core_expr_types/__pv_it/839a259a6ca8466c24593b83470b919b844a19800/expr.ipynb\"><img src=\"../../../../../core_expr_types/__pv_it/839a259a6ca8466c24593b83470b919b844a19800/expr.png\" style=\"display:inline;vertical-align:middle;\" /></a></td></tr>\n",
       "<tr><td>2</td><td>ExprRange</td><td>lambda_map:&nbsp;7<br>start_index:&nbsp;10<br>end_index:&nbsp;8<br></td><td><a class=\"ProveItLink\" href=\"../../../../../core_expr_types/__pv_it/e8fcfaab76a2780ebd9a29bc1646b28b4fad22100/expr.ipynb\"><img src=\"../../../../../core_expr_types/__pv_it/e8fcfaab76a2780ebd9a29bc1646b28b4fad22100/expr.png\" style=\"display:inline;vertical-align:middle;\" /></a></td></tr>\n",
       "<tr><td>3</td><td>Variable</td><td></td><td><a class=\"ProveItLink\" href=\"../../../../../__pv_it/4d98b438710c5ada9ffa4646bb123a7d0e69ec000/expr.ipynb\"><img src=\"../../../../../__pv_it/4d98b438710c5ada9ffa4646bb123a7d0e69ec000/expr.png\" style=\"display:inline;vertical-align:middle;\" /></a></td></tr>\n",
       "<tr><td>4</td><td>ExprRange</td><td>lambda_map:&nbsp;9<br>start_index:&nbsp;10<br>end_index:&nbsp;11<br></td><td><a class=\"ProveItLink\" href=\"../../../../../core_expr_types/__pv_it/abd8ac7ab341f351f205db76c0c12d9ee3e308080/expr.ipynb\"><img src=\"../../../../../core_expr_types/__pv_it/abd8ac7ab341f351f205db76c0c12d9ee3e308080/expr.png\" style=\"display:inline;vertical-align:middle;\" /></a></td></tr>\n",
       "<tr><td>5</td><td>Lambda</td><td>parameter:&nbsp;18<br>body:&nbsp;12<br></td><td><a class=\"ProveItLink\" href=\"../../../../../core_expr_types/__pv_it/cbf4a2d6122f8f76eeb36bd1c0d8bf52d8e05a560/expr.ipynb\"><img src=\"../../../../../core_expr_types/__pv_it/cbf4a2d6122f8f76eeb36bd1c0d8bf52d8e05a560/expr.png\" style=\"display:inline;vertical-align:middle;\" /></a></td></tr>\n",
       "<tr><td>6</td><td>Variable</td><td></td><td><a class=\"ProveItLink\" href=\"../../../../../__pv_it/146a2ac733407ae00030c58af25a3e0f465a566a0/expr.ipynb\"><img src=\"../../../../../__pv_it/146a2ac733407ae00030c58af25a3e0f465a566a0/expr.png\" style=\"display:inline;vertical-align:middle;\" /></a></td></tr>\n",
       "<tr><td>7</td><td>Lambda</td><td>parameter:&nbsp;18<br>body:&nbsp;13<br></td><td><a class=\"ProveItLink\" href=\"../../../../../core_expr_types/__pv_it/1f1f93a97ffa923da2b370597cfe676c10d3dee70/expr.ipynb\"><img src=\"../../../../../core_expr_types/__pv_it/1f1f93a97ffa923da2b370597cfe676c10d3dee70/expr.png\" style=\"display:inline;vertical-align:middle;\" /></a></td></tr>\n",
       "<tr><td>8</td><td>Variable</td><td></td><td><a class=\"ProveItLink\" href=\"../../../../../__pv_it/6e8a38e9a7e2b6af352562cd77e0eb4751f142620/expr.ipynb\"><img src=\"../../../../../__pv_it/6e8a38e9a7e2b6af352562cd77e0eb4751f142620/expr.png\" style=\"display:inline;vertical-align:middle;\" /></a></td></tr>\n",
       "<tr><td>9</td><td>Lambda</td><td>parameter:&nbsp;18<br>body:&nbsp;14<br></td><td><a class=\"ProveItLink\" href=\"../../../../../core_expr_types/__pv_it/2108d9d41458d68021f5c317e86b85035a3e8c530/expr.ipynb\"><img src=\"../../../../../core_expr_types/__pv_it/2108d9d41458d68021f5c317e86b85035a3e8c530/expr.png\" style=\"display:inline;vertical-align:middle;\" /></a></td></tr>\n",
       "<tr><td>10</td><td>Literal</td><td></td><td><a class=\"ProveItLink\" href=\"../../../../../number/numeral/__pv_it/f086f8c372bd40a2458306ddfdbb29f3dc6f63030/expr.ipynb\"><img src=\"../../../../../number/numeral/__pv_it/f086f8c372bd40a2458306ddfdbb29f3dc6f63030/expr.png\" style=\"display:inline;vertical-align:middle;\" /></a></td></tr>\n",
       "<tr><td>11</td><td>Variable</td><td></td><td><a class=\"ProveItLink\" href=\"../../../../../__pv_it/0c1c4cb515e0f4344b1ac06650f349123e526deb0/expr.ipynb\"><img src=\"../../../../../__pv_it/0c1c4cb515e0f4344b1ac06650f349123e526deb0/expr.png\" style=\"display:inline;vertical-align:middle;\" /></a></td></tr>\n",
       "<tr><td>12</td><td>IndexedVar</td><td>variable:&nbsp;15<br>index:&nbsp;18<br></td><td><a class=\"ProveItLink\" href=\"../../../../../core_expr_types/__pv_it/a433d6021a2b0d85d326303b1d692b18969c0dc30/expr.ipynb\"><img src=\"../../../../../core_expr_types/__pv_it/a433d6021a2b0d85d326303b1d692b18969c0dc30/expr.png\" style=\"display:inline;vertical-align:middle;\" /></a></td></tr>\n",
       "<tr><td>13</td><td>IndexedVar</td><td>variable:&nbsp;16<br>index:&nbsp;18<br></td><td><a class=\"ProveItLink\" href=\"../../../../../core_expr_types/__pv_it/3b86bd3b2e16136132e508dd7cfa1ad89a15b7bf0/expr.ipynb\"><img src=\"../../../../../core_expr_types/__pv_it/3b86bd3b2e16136132e508dd7cfa1ad89a15b7bf0/expr.png\" style=\"display:inline;vertical-align:middle;\" /></a></td></tr>\n",
       "<tr><td>14</td><td>IndexedVar</td><td>variable:&nbsp;17<br>index:&nbsp;18<br></td><td><a class=\"ProveItLink\" href=\"../../../../../core_expr_types/__pv_it/4d7493ad3ae7a58d4af1deba676835c9b640a4da0/expr.ipynb\"><img src=\"../../../../../core_expr_types/__pv_it/4d7493ad3ae7a58d4af1deba676835c9b640a4da0/expr.png\" style=\"display:inline;vertical-align:middle;\" /></a></td></tr>\n",
       "<tr><td>15</td><td>Variable</td><td></td><td><a class=\"ProveItLink\" href=\"../../../../../__pv_it/d3792d0d8642fdf1cd2a3a9b32c673ee13653de00/expr.ipynb\"><img src=\"../../../../../__pv_it/d3792d0d8642fdf1cd2a3a9b32c673ee13653de00/expr.png\" style=\"display:inline;vertical-align:middle;\" /></a></td></tr>\n",
       "<tr><td>16</td><td>Variable</td><td></td><td><a class=\"ProveItLink\" href=\"../../../../../__pv_it/dcb5a3e430485237dfe486162b026a4affb149300/expr.ipynb\"><img src=\"../../../../../__pv_it/dcb5a3e430485237dfe486162b026a4affb149300/expr.png\" style=\"display:inline;vertical-align:middle;\" /></a></td></tr>\n",
       "<tr><td>17</td><td>Variable</td><td></td><td><a class=\"ProveItLink\" href=\"../../../../../__pv_it/8f4534f2d0cd8231a9b8a1771e8be76aa52adea40/expr.ipynb\"><img src=\"../../../../../__pv_it/8f4534f2d0cd8231a9b8a1771e8be76aa52adea40/expr.png\" style=\"display:inline;vertical-align:middle;\" /></a></td></tr>\n",
       "<tr><td>18</td><td>Variable</td><td></td><td><a class=\"ProveItLink\" href=\"../../../../../core_expr_types/__pv_it/1e653f789234b245ee7fea7caad998c139d617410/expr.ipynb\"><img src=\"../../../../../core_expr_types/__pv_it/1e653f789234b245ee7fea7caad998c139d617410/expr.png\" style=\"display:inline;vertical-align:middle;\" /></a></td></tr>\n",
       "</table>\n"
      ],
      "text/plain": [
       "0. (A_{1}, ..A_{_a}.., A_{l}, C_{1}, ..C_{_a}.., C_{m}, B, D_{1}, ..D_{_a}.., D_{n})\n",
       "   core type: ExprTuple\n",
       "   sub-expressions: 1, 2, 3, 4\n",
       "1. A_{1}, ..A_{_a}.., A_{l}\n",
       "   core type: ExprRange\n",
       "   lambda_map: 5\n",
       "   start_index: 10\n",
       "   end_index: 6\n",
       "2. C_{1}, ..C_{_a}.., C_{m}\n",
       "   core type: ExprRange\n",
       "   lambda_map: 7\n",
       "   start_index: 10\n",
       "   end_index: 8\n",
       "3. B\n",
       "   core type: Variable\n",
       "   sub-expressions: \n",
       "4. D_{1}, ..D_{_a}.., D_{n}\n",
       "   core type: ExprRange\n",
       "   lambda_map: 9\n",
       "   start_index: 10\n",
       "   end_index: 11\n",
       "5. _a -> A_{_a}\n",
       "   core type: Lambda\n",
       "   parameter: 18\n",
       "   body: 12\n",
       "6. l\n",
       "   core type: Variable\n",
       "   sub-expressions: \n",
       "7. _a -> C_{_a}\n",
       "   core type: Lambda\n",
       "   parameter: 18\n",
       "   body: 13\n",
       "8. m\n",
       "   core type: Variable\n",
       "   sub-expressions: \n",
       "9. _a -> D_{_a}\n",
       "   core type: Lambda\n",
       "   parameter: 18\n",
       "   body: 14\n",
       "10. 1\n",
       "    core type: Literal\n",
       "    sub-expressions: \n",
       "11. n\n",
       "    core type: Variable\n",
       "    sub-expressions: \n",
       "12. A_{_a}\n",
       "    core type: IndexedVar\n",
       "variable: 15\n",
       "index: 18\n",
       "13. C_{_a}\n",
       "    core type: IndexedVar\n",
       "variable: 16\n",
       "index: 18\n",
       "14. D_{_a}\n",
       "    core type: IndexedVar\n",
       "variable: 17\n",
       "index: 18\n",
       "15. A\n",
       "    core type: Variable\n",
       "    sub-expressions: \n",
       "16. C\n",
       "    core type: Variable\n",
       "    sub-expressions: \n",
       "17. D\n",
       "    core type: Variable\n",
       "    sub-expressions: \n",
       "18. _a\n",
       "    core type: Variable\n",
       "    sub-expressions: "
      ]
     },
     "execution_count": 5,
     "metadata": {},
     "output_type": "execute_result"
    }
   ],
   "source": [
    "# display the expression information\n",
    "expr.exprInfo()"
   ]
  },
  {
   "cell_type": "code",
   "execution_count": null,
   "metadata": {},
   "outputs": [],
   "source": []
  }
 ],
 "metadata": {
  "kernelspec": {
   "display_name": "Python 3",
   "language": "python",
   "name": "python3"
  },
  "language_info": {
   "codemirror_mode": {
    "name": "ipython",
    "version": 3
   },
   "file_extension": ".py",
   "mimetype": "text/x-python",
   "name": "python",
   "nbconvert_exporter": "python",
   "pygments_lexer": "ipython3",
   "version": "3.7.3"
  }
 },
 "nbformat": 4,
 "nbformat_minor": 1
}
