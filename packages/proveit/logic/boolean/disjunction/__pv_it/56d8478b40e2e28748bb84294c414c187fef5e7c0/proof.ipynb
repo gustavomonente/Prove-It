{
 "cells": [
  {
   "cell_type": "markdown",
   "metadata": {},
   "source": [
    "Show the Proof\n",
    "========"
   ]
  },
  {
   "cell_type": "code",
   "execution_count": 1,
   "metadata": {},
   "outputs": [
    {
     "data": {
      "text/html": [
       "<table><tr><th>&nbsp;</th><th>step type</th><th>requirements</th><th>statement</th></tr>\n",
       "<tr><td><a name=\"proveit.logic.boolean.disjunction.56d8478b40e2e28748bb84294c414c187fef5e7c0_step0\">0</a></td><td>instantiation</td><td><a href=\"#proveit.logic.boolean.disjunction.56d8478b40e2e28748bb84294c414c187fef5e7c0_step1\">1</a>, <a href=\"#proveit.logic.boolean.disjunction.56d8478b40e2e28748bb84294c414c187fef5e7c0_step2\">2</a>, <a href=\"#proveit.logic.boolean.disjunction.56d8478b40e2e28748bb84294c414c187fef5e7c0_step3\">3</a>, <a href=\"#proveit.logic.boolean.disjunction.56d8478b40e2e28748bb84294c414c187fef5e7c0_step4\">4</a>, <a href=\"#proveit.logic.boolean.disjunction.56d8478b40e2e28748bb84294c414c187fef5e7c0_step5\">5</a>, <a href=\"#proveit.logic.boolean.disjunction.56d8478b40e2e28748bb84294c414c187fef5e7c0_step6\">6</a></td><td><span style=\"font-size:20px;\"><a class=\"ProveItLink\" href=\"../4774cfe440345ae787210fb593706f6acf5b240c0/expr.ipynb\"><img src=\"../4774cfe440345ae787210fb593706f6acf5b240c0/expr.png\" style=\"display:inline;vertical-align:middle;\" /></a> <a class=\"ProveItLink\" href=\"proof.ipynb\" style=\"text-decoration: none\">&#x22A2;&nbsp;</a><a class=\"ProveItLink\" href=\"../42fd1705589b2e660f0797e0b71f6408accac22d0/expr.ipynb\"><img src=\"../42fd1705589b2e660f0797e0b71f6408accac22d0/expr.png\" style=\"display:inline;vertical-align:middle;\" /></a></span></td></tr>\n",
       "<tr><td>&nbsp;</td><td colspan=4 style=\"text-align:left\"><span style=\"font-size:20px;\"><a class=\"ProveItLink\" href=\"../../../../../__pv_it/d3792d0d8642fdf1cd2a3a9b32c673ee13653de00/expr.ipynb\"><img src=\"../../../../../__pv_it/d3792d0d8642fdf1cd2a3a9b32c673ee13653de00/expr.png\" style=\"display:inline;vertical-align:middle;\" /></a> : <a class=\"ProveItLink\" href=\"../../../../../__pv_it/dcb5a3e430485237dfe486162b026a4affb149300/expr.ipynb\"><img src=\"../../../../../__pv_it/dcb5a3e430485237dfe486162b026a4affb149300/expr.png\" style=\"display:inline;vertical-align:middle;\" /></a>, <a class=\"ProveItLink\" href=\"../../../../../__pv_it/4d98b438710c5ada9ffa4646bb123a7d0e69ec000/expr.ipynb\"><img src=\"../../../../../__pv_it/4d98b438710c5ada9ffa4646bb123a7d0e69ec000/expr.png\" style=\"display:inline;vertical-align:middle;\" /></a> : <a class=\"ProveItLink\" href=\"../../../../../__pv_it/8f4534f2d0cd8231a9b8a1771e8be76aa52adea40/expr.ipynb\"><img src=\"../../../../../__pv_it/8f4534f2d0cd8231a9b8a1771e8be76aa52adea40/expr.png\" style=\"display:inline;vertical-align:middle;\" /></a>, <a class=\"ProveItLink\" href=\"../../../../../__pv_it/dcb5a3e430485237dfe486162b026a4affb149300/expr.ipynb\"><img src=\"../../../../../__pv_it/dcb5a3e430485237dfe486162b026a4affb149300/expr.png\" style=\"display:inline;vertical-align:middle;\" /></a> : <a class=\"ProveItLink\" href=\"../../../../../__pv_it/dcb5a3e430485237dfe486162b026a4affb149300/expr.ipynb\"><img src=\"../../../../../__pv_it/dcb5a3e430485237dfe486162b026a4affb149300/expr.png\" style=\"display:inline;vertical-align:middle;\" /></a>, <a class=\"ProveItLink\" href=\"../../../../../__pv_it/8f4534f2d0cd8231a9b8a1771e8be76aa52adea40/expr.ipynb\"><img src=\"../../../../../__pv_it/8f4534f2d0cd8231a9b8a1771e8be76aa52adea40/expr.png\" style=\"display:inline;vertical-align:middle;\" /></a> : <a class=\"ProveItLink\" href=\"../../../../../__pv_it/8f4534f2d0cd8231a9b8a1771e8be76aa52adea40/expr.ipynb\"><img src=\"../../../../../__pv_it/8f4534f2d0cd8231a9b8a1771e8be76aa52adea40/expr.png\" style=\"display:inline;vertical-align:middle;\" /></a></span></td></tr><tr><td><a name=\"proveit.logic.boolean.disjunction.56d8478b40e2e28748bb84294c414c187fef5e7c0_step1\">1</a></td><td>theorem</td><td></td><td><span style=\"font-size:20px;\"> <a class=\"ProveItLink\" href=\"../../_proofs_/constructiveDilemma.ipynb\" style=\"text-decoration: none\">&#x22A2;&nbsp;</a><a class=\"ProveItLink\" href=\"../fc21b083e5e678fd67e91e08f5612df8bc9bed040/expr.ipynb\"><img src=\"../fc21b083e5e678fd67e91e08f5612df8bc9bed040/expr.png\" style=\"display:inline;vertical-align:middle;\" /></a></span></td></tr>\n",
       "<tr><td>&nbsp;</td><td colspan=4 style-\"text-align:left\"><a class=\"ProveItLink\" href=\"../../_proofs_/constructiveDilemma.ipynb\">proveit.logic.boolean.disjunction.constructiveDilemma</a></td></tr><tr><td><a name=\"proveit.logic.boolean.disjunction.56d8478b40e2e28748bb84294c414c187fef5e7c0_step2\">2</a></td><td>assumption</td><td></td><td><span style=\"font-size:20px;\"><a class=\"ProveItLink\" href=\"../5716b8322f8147a4323611d0cc131f79fce462c90/expr.ipynb\"><img src=\"../5716b8322f8147a4323611d0cc131f79fce462c90/expr.png\" style=\"display:inline;vertical-align:middle;\" /></a> <a class=\"ProveItLink\" href=\"../2d6f5afd122ba1bb1da3ccb20164c3f975b790600/proof.ipynb\" style=\"text-decoration: none\">&#x22A2;&nbsp;</a><a class=\"ProveItLink\" href=\"../1ecf7187b66dab7a43f7cb1b52e5ac93589ea2190/expr.ipynb\"><img src=\"../1ecf7187b66dab7a43f7cb1b52e5ac93589ea2190/expr.png\" style=\"display:inline;vertical-align:middle;\" /></a></span></td></tr>\n",
       "<tr><td><a name=\"proveit.logic.boolean.disjunction.56d8478b40e2e28748bb84294c414c187fef5e7c0_step3\">3</a></td><td>assumption</td><td></td><td><span style=\"font-size:20px;\"><a class=\"ProveItLink\" href=\"../483cbfa29583b105496f24ff0da4717ef48b52d10/expr.ipynb\"><img src=\"../483cbfa29583b105496f24ff0da4717ef48b52d10/expr.png\" style=\"display:inline;vertical-align:middle;\" /></a> <a class=\"ProveItLink\" href=\"../5d9889589be756cdf687f32f5fb814872feadd8f0/proof.ipynb\" style=\"text-decoration: none\">&#x22A2;&nbsp;</a><a class=\"ProveItLink\" href=\"../3f639545e90266cb0216d88a6b051f288bd136600/expr.ipynb\"><img src=\"../3f639545e90266cb0216d88a6b051f288bd136600/expr.png\" style=\"display:inline;vertical-align:middle;\" /></a></span></td></tr>\n",
       "<tr><td><a name=\"proveit.logic.boolean.disjunction.56d8478b40e2e28748bb84294c414c187fef5e7c0_step4\">4</a></td><td>assumption</td><td></td><td><span style=\"font-size:20px;\"><a class=\"ProveItLink\" href=\"../ebdd3ba2c0de718b82c45a7ef6b5bd514097574a0/expr.ipynb\"><img src=\"../ebdd3ba2c0de718b82c45a7ef6b5bd514097574a0/expr.png\" style=\"display:inline;vertical-align:middle;\" /></a> <a class=\"ProveItLink\" href=\"../f0c12351eff32d05ec249309d5771c6a57e9b4060/proof.ipynb\" style=\"text-decoration: none\">&#x22A2;&nbsp;</a><a class=\"ProveItLink\" href=\"../42fd1705589b2e660f0797e0b71f6408accac22d0/expr.ipynb\"><img src=\"../42fd1705589b2e660f0797e0b71f6408accac22d0/expr.png\" style=\"display:inline;vertical-align:middle;\" /></a></span></td></tr>\n",
       "<tr><td><a name=\"proveit.logic.boolean.disjunction.56d8478b40e2e28748bb84294c414c187fef5e7c0_step5\">5</a></td><td>instantiation</td><td><a href=\"#proveit.logic.boolean.disjunction.56d8478b40e2e28748bb84294c414c187fef5e7c0_step7\">7</a></td><td><span style=\"font-size:20px;\"> <a class=\"ProveItLink\" href=\"../0240732535e2af67d4e7a75daca7add897b8b06f0/proof.ipynb\" style=\"text-decoration: none\">&#x22A2;&nbsp;</a><a class=\"ProveItLink\" href=\"../90bb05cae7cb6caf1b99a0d41ac2c9f93c3170460/expr.ipynb\"><img src=\"../90bb05cae7cb6caf1b99a0d41ac2c9f93c3170460/expr.png\" style=\"display:inline;vertical-align:middle;\" /></a></span></td></tr>\n",
       "<tr><td>&nbsp;</td><td colspan=4 style=\"text-align:left\"><span style=\"font-size:20px;\"><a class=\"ProveItLink\" href=\"../../../../../__pv_it/d3792d0d8642fdf1cd2a3a9b32c673ee13653de00/expr.ipynb\"><img src=\"../../../../../__pv_it/d3792d0d8642fdf1cd2a3a9b32c673ee13653de00/expr.png\" style=\"display:inline;vertical-align:middle;\" /></a> : <a class=\"ProveItLink\" href=\"../../../../../__pv_it/dcb5a3e430485237dfe486162b026a4affb149300/expr.ipynb\"><img src=\"../../../../../__pv_it/dcb5a3e430485237dfe486162b026a4affb149300/expr.png\" style=\"display:inline;vertical-align:middle;\" /></a></span></td></tr><tr><td><a name=\"proveit.logic.boolean.disjunction.56d8478b40e2e28748bb84294c414c187fef5e7c0_step6\">6</a></td><td>instantiation</td><td><a href=\"#proveit.logic.boolean.disjunction.56d8478b40e2e28748bb84294c414c187fef5e7c0_step7\">7</a></td><td><span style=\"font-size:20px;\"> <a class=\"ProveItLink\" href=\"../e4883393cc0bfdc626c739b716915ad65a6d37430/proof.ipynb\" style=\"text-decoration: none\">&#x22A2;&nbsp;</a><a class=\"ProveItLink\" href=\"../d81cde9ddb23902b7a5ca6c6d7e815eeb04714910/expr.ipynb\"><img src=\"../d81cde9ddb23902b7a5ca6c6d7e815eeb04714910/expr.png\" style=\"display:inline;vertical-align:middle;\" /></a></span></td></tr>\n",
       "<tr><td>&nbsp;</td><td colspan=4 style=\"text-align:left\"><span style=\"font-size:20px;\"><a class=\"ProveItLink\" href=\"../../../../../__pv_it/d3792d0d8642fdf1cd2a3a9b32c673ee13653de00/expr.ipynb\"><img src=\"../../../../../__pv_it/d3792d0d8642fdf1cd2a3a9b32c673ee13653de00/expr.png\" style=\"display:inline;vertical-align:middle;\" /></a> : <a class=\"ProveItLink\" href=\"../../../../../__pv_it/8f4534f2d0cd8231a9b8a1771e8be76aa52adea40/expr.ipynb\"><img src=\"../../../../../__pv_it/8f4534f2d0cd8231a9b8a1771e8be76aa52adea40/expr.png\" style=\"display:inline;vertical-align:middle;\" /></a></span></td></tr><tr><td><a name=\"proveit.logic.boolean.disjunction.56d8478b40e2e28748bb84294c414c187fef5e7c0_step7\">7</a></td><td>theorem</td><td></td><td><span style=\"font-size:20px;\"> <a class=\"ProveItLink\" href=\"../../../implication/_proofs_/selfImplication.ipynb\" style=\"text-decoration: none\">&#x22A2;&nbsp;</a><a class=\"ProveItLink\" href=\"../e6b91b4b1a4de12316edbc63fce675a169163d110/expr.ipynb\"><img src=\"../e6b91b4b1a4de12316edbc63fce675a169163d110/expr.png\" style=\"display:inline;vertical-align:middle;\" /></a></span></td></tr>\n",
       "<tr><td>&nbsp;</td><td colspan=4 style-\"text-align:left\"><a class=\"ProveItLink\" href=\"../../../implication/_proofs_/selfImplication.ipynb\">proveit.logic.boolean.implication.selfImplication</a></td></tr></table>"
      ],
      "text/plain": [
       "<proveit._core_.proof._ShowProof at 0x7f5b86a61358>"
      ]
     },
     "execution_count": 1,
     "metadata": {},
     "output_type": "execute_result"
    }
   ],
   "source": [
    "import proveit\n",
    "# Automation is not needed when only showing a stored proof:\n",
    "proveit.defaults.automation = False # This will speed things up.\n",
    "proveit.defaults.inline_pngs = False # Makes files smaller.\n",
    "%show_proof"
   ]
  },
  {
   "cell_type": "code",
   "execution_count": null,
   "metadata": {},
   "outputs": [],
   "source": []
  }
 ],
 "metadata": {
  "kernelspec": {
   "display_name": "Python 3",
   "language": "python",
   "name": "python3"
  },
  "language_info": {
   "codemirror_mode": {
    "name": "ipython",
    "version": 3
   },
   "file_extension": ".py",
   "mimetype": "text/x-python",
   "name": "python",
   "nbconvert_exporter": "python",
   "pygments_lexer": "ipython3",
   "version": "3.7.3"
  }
 },
 "nbformat": 4,
 "nbformat_minor": 1
}
