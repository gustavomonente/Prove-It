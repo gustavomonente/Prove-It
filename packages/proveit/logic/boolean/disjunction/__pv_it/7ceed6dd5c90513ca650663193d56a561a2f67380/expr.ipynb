{
 "cells": [
  {
   "cell_type": "markdown",
   "metadata": {},
   "source": [
    "Expression of type <a class=\"ProveItLink\" href=\"../../../../../../../doc/html/api/proveit.Conditional.html\">Conditional</a>\n",
    "=======================\n",
    "# from context <a class=\"ProveItLink\" href=\"../../_context_.ipynb\">proveit.logic.boolean.disjunction</a>"
   ]
  },
  {
   "cell_type": "code",
   "execution_count": 1,
   "metadata": {},
   "outputs": [],
   "source": [
    "import proveit\n",
    "# Automation is not needed when building an expression:\n",
    "proveit.defaults.automation = False # This will speed things up.\n",
    "proveit.defaults.inline_pngs = False # Makes files smaller.\n",
    "# import Expression classes needed to build the expression\n",
    "from proveit import Conditional\n",
    "from proveit.core_expr_types import Len\n",
    "from proveit.core_expr_types._common_ import f_i_to_j, iter_ext_equiv\n",
    "from proveit.logic import InSet\n",
    "from proveit.number import Naturals"
   ]
  },
  {
   "cell_type": "code",
   "execution_count": 2,
   "metadata": {},
   "outputs": [
    {
     "data": {
      "text/html": [
       "<strong id=\"expr\">expr:</strong> <a class=\"ProveItLink\" href=\"expr.ipynb\"><img src=\"expr.png\" style=\"display:inline;vertical-align:middle;\" /></a><br>"
      ],
      "text/plain": [
       "expr: {(f(i), ..f(a).., f(j + 1)) =  \\\\ (f(i), ..f(a).., f(j), f(j + 1)) if |(f(i), ..f(a).., f(j))| in Naturals."
      ]
     },
     "execution_count": 2,
     "metadata": {},
     "output_type": "execute_result"
    }
   ],
   "source": [
    "# build up the expression from sub-expressions\n",
    "expr = Conditional(iter_ext_equiv, InSet(Len([f_i_to_j]), Naturals))"
   ]
  },
  {
   "cell_type": "code",
   "execution_count": 3,
   "metadata": {},
   "outputs": [
    {
     "name": "stdout",
     "output_type": "stream",
     "text": [
      "Passed sanity check: built 'expr' is the same as the stored Expression.\n"
     ]
    }
   ],
   "source": [
    "# check that the built expression is the same as the stored expression\n",
    "%check_expr"
   ]
  },
  {
   "cell_type": "code",
   "execution_count": 4,
   "metadata": {},
   "outputs": [
    {
     "name": "stdout",
     "output_type": "stream",
     "text": [
      "\\left\\{\\begin{array}{c} \\left(f(i), \\ldots, f(j + 1)\\right) =  \\\\ \\left(f(i), \\ldots, f(j), f(j + 1)\\right) \\end{array} \\textrm{ if } |\\left(f(i), \\ldots, f(j)\\right)| \\in \\mathbb{N}\\right..\n"
     ]
    }
   ],
   "source": [
    "# Show the LaTeX representation of the expression for convenience if you need it.\n",
    "print(expr.latex())"
   ]
  },
  {
   "cell_type": "code",
   "execution_count": 5,
   "metadata": {},
   "outputs": [
    {
     "data": {
      "text/html": [
       "<table><tr><th>&nbsp;</th><th>core type</th><th>sub-expressions</th><th>expression</th></tr>\n",
       "<tr><td>0</td><td>Conditional</td><td>value:&nbsp;1<br>condition:&nbsp;2<br></td><td><a class=\"ProveItLink\" href=\"expr.ipynb\"><img src=\"expr.png\" style=\"display:inline;vertical-align:middle;\" /></a></td></tr>\n",
       "<tr><td>1</td><td>Operation</td><td>operator:&nbsp;3<br>operands:&nbsp;4<br></td><td><a class=\"ProveItLink\" href=\"../../../../../core_expr_types/__pv_it/4a2663b53818f40fc1fea0431673a19d23546dd60/expr.ipynb\"><img src=\"../../../../../core_expr_types/__pv_it/4a2663b53818f40fc1fea0431673a19d23546dd60/expr.png\" style=\"display:inline;vertical-align:middle;\" /></a></td></tr>\n",
       "<tr><td>2</td><td>Operation</td><td>operator:&nbsp;5<br>operands:&nbsp;6<br></td><td><a class=\"ProveItLink\" href=\"../7f37fad2925f02114b937f3239c80f5ff4916ed40/expr.ipynb\"><img src=\"../7f37fad2925f02114b937f3239c80f5ff4916ed40/expr.png\" style=\"display:inline;vertical-align:middle;\" /></a></td></tr>\n",
       "<tr><td>3</td><td>Literal</td><td></td><td><a class=\"ProveItLink\" href=\"../../../../equality/__pv_it/e16d2caa26a16688b658bdb9c422caf4b84579e10/expr.ipynb\"><img src=\"../../../../equality/__pv_it/e16d2caa26a16688b658bdb9c422caf4b84579e10/expr.png\" style=\"display:inline;vertical-align:middle;\" /></a></td></tr>\n",
       "<tr><td>4</td><td>ExprTuple</td><td>7, 8</td><td><a class=\"ProveItLink\" href=\"../../../../../core_expr_types/__pv_it/3298e33897aacc921c92bfc8ea9e769eda1e5eb40/expr.ipynb\"><img src=\"../../../../../core_expr_types/__pv_it/3298e33897aacc921c92bfc8ea9e769eda1e5eb40/expr.png\" style=\"display:inline;vertical-align:middle;\" /></a></td></tr>\n",
       "<tr><td>5</td><td>Literal</td><td></td><td><a class=\"ProveItLink\" href=\"../../../../set_theory/membership/__pv_it/7776fc89cb67d0b5b1ec2c0c8e08da5587921ccf0/expr.ipynb\"><img src=\"../../../../set_theory/membership/__pv_it/7776fc89cb67d0b5b1ec2c0c8e08da5587921ccf0/expr.png\" style=\"display:inline;vertical-align:middle;\" /></a></td></tr>\n",
       "<tr><td>6</td><td>ExprTuple</td><td>9, 10</td><td><a class=\"ProveItLink\" href=\"../2b91d0f8937c9fa499e16106b4411add738becbc0/expr.ipynb\"><img src=\"../2b91d0f8937c9fa499e16106b4411add738becbc0/expr.png\" style=\"display:inline;vertical-align:middle;\" /></a></td></tr>\n",
       "<tr><td>7</td><td>ExprTuple</td><td>11</td><td><a class=\"ProveItLink\" href=\"../../../../../core_expr_types/__pv_it/f83bc66cc77e8335fc4fd31c4d8f614b94feb4d60/expr.ipynb\"><img src=\"../../../../../core_expr_types/__pv_it/f83bc66cc77e8335fc4fd31c4d8f614b94feb4d60/expr.png\" style=\"display:inline;vertical-align:middle;\" /></a></td></tr>\n",
       "<tr><td>8</td><td>ExprTuple</td><td>19, 12</td><td><a class=\"ProveItLink\" href=\"../../../../../core_expr_types/__pv_it/aea678e7a599e18d04c1a63cad4ca5d47f535f5b0/expr.ipynb\"><img src=\"../../../../../core_expr_types/__pv_it/aea678e7a599e18d04c1a63cad4ca5d47f535f5b0/expr.png\" style=\"display:inline;vertical-align:middle;\" /></a></td></tr>\n",
       "<tr><td>9</td><td>Operation</td><td>operator:&nbsp;13<br>operand:&nbsp;16<br></td><td><a class=\"ProveItLink\" href=\"../a2d24c98db66eb6f2ef3b0fea7778c013bef5de50/expr.ipynb\"><img src=\"../a2d24c98db66eb6f2ef3b0fea7778c013bef5de50/expr.png\" style=\"display:inline;vertical-align:middle;\" /></a></td></tr>\n",
       "<tr><td>10</td><td>Literal</td><td></td><td><a class=\"ProveItLink\" href=\"../../../../../number/sets/integer/__pv_it/b49c37b99b7e8d73a8d7971bcf454d693b90a2c60/expr.ipynb\"><img src=\"../../../../../number/sets/integer/__pv_it/b49c37b99b7e8d73a8d7971bcf454d693b90a2c60/expr.png\" style=\"display:inline;vertical-align:middle;\" /></a></td></tr>\n",
       "<tr><td>11</td><td>ExprRange</td><td>lambda_map:&nbsp;21<br>start_index:&nbsp;22<br>end_index:&nbsp;15<br></td><td><a class=\"ProveItLink\" href=\"../../../../../core_expr_types/__pv_it/82ac923a3af9d063c57c5188cdb2e6bb29d238160/expr.ipynb\"><img src=\"../../../../../core_expr_types/__pv_it/82ac923a3af9d063c57c5188cdb2e6bb29d238160/expr.png\" style=\"display:inline;vertical-align:middle;\" /></a></td></tr>\n",
       "<tr><td>12</td><td>Operation</td><td>operator:&nbsp;25<br>operand:&nbsp;15<br></td><td><a class=\"ProveItLink\" href=\"../../../../../core_expr_types/__pv_it/d02749ef70de8c3d71e116f0089329254ac020f70/expr.ipynb\"><img src=\"../../../../../core_expr_types/__pv_it/d02749ef70de8c3d71e116f0089329254ac020f70/expr.png\" style=\"display:inline;vertical-align:middle;\" /></a></td></tr>\n",
       "<tr><td>13</td><td>Literal</td><td></td><td><a class=\"ProveItLink\" href=\"../../../../../core_expr_types/tuples/__pv_it/92831c6291223dfbd76a11e90e750ae52564aa9f0/expr.ipynb\"><img src=\"../../../../../core_expr_types/tuples/__pv_it/92831c6291223dfbd76a11e90e750ae52564aa9f0/expr.png\" style=\"display:inline;vertical-align:middle;\" /></a></td></tr>\n",
       "<tr><td>14</td><td>ExprTuple</td><td>16</td><td><a class=\"ProveItLink\" href=\"../011de34d7a2e8e552b6478f2e7506b8ddb0812b30/expr.ipynb\"><img src=\"../011de34d7a2e8e552b6478f2e7506b8ddb0812b30/expr.png\" style=\"display:inline;vertical-align:middle;\" /></a></td></tr>\n",
       "<tr><td>15</td><td>Operation</td><td>operator:&nbsp;17<br>operands:&nbsp;18<br></td><td><a class=\"ProveItLink\" href=\"../../../../../core_expr_types/__pv_it/c24113b5c38ba32e99d87d214af69362016a17fe0/expr.ipynb\"><img src=\"../../../../../core_expr_types/__pv_it/c24113b5c38ba32e99d87d214af69362016a17fe0/expr.png\" style=\"display:inline;vertical-align:middle;\" /></a></td></tr>\n",
       "<tr><td>16</td><td>ExprTuple</td><td>19</td><td><a class=\"ProveItLink\" href=\"../97b8e21db31cdb2e85faed61a1b631e99b0d8c0b0/expr.ipynb\"><img src=\"../97b8e21db31cdb2e85faed61a1b631e99b0d8c0b0/expr.png\" style=\"display:inline;vertical-align:middle;\" /></a></td></tr>\n",
       "<tr><td>17</td><td>Literal</td><td></td><td><a class=\"ProveItLink\" href=\"../../../../../number/addition/__pv_it/65ad7e8aee19b10110d590375ba95a879c4fb7ea0/expr.ipynb\"><img src=\"../../../../../number/addition/__pv_it/65ad7e8aee19b10110d590375ba95a879c4fb7ea0/expr.png\" style=\"display:inline;vertical-align:middle;\" /></a></td></tr>\n",
       "<tr><td>18</td><td>ExprTuple</td><td>23, 20</td><td><a class=\"ProveItLink\" href=\"../../../../../core_expr_types/__pv_it/a6730aa6a9af9a6e7774016b6b9febfe2d879d590/expr.ipynb\"><img src=\"../../../../../core_expr_types/__pv_it/a6730aa6a9af9a6e7774016b6b9febfe2d879d590/expr.png\" style=\"display:inline;vertical-align:middle;\" /></a></td></tr>\n",
       "<tr><td>19</td><td>ExprRange</td><td>lambda_map:&nbsp;21<br>start_index:&nbsp;22<br>end_index:&nbsp;23<br></td><td><a class=\"ProveItLink\" href=\"../../../../../core_expr_types/__pv_it/4364953c923fa6ca90559992aee2d3b09264c0360/expr.ipynb\"><img src=\"../../../../../core_expr_types/__pv_it/4364953c923fa6ca90559992aee2d3b09264c0360/expr.png\" style=\"display:inline;vertical-align:middle;\" /></a></td></tr>\n",
       "<tr><td>20</td><td>Literal</td><td></td><td><a class=\"ProveItLink\" href=\"../../../../../number/numeral/__pv_it/f086f8c372bd40a2458306ddfdbb29f3dc6f63030/expr.ipynb\"><img src=\"../../../../../number/numeral/__pv_it/f086f8c372bd40a2458306ddfdbb29f3dc6f63030/expr.png\" style=\"display:inline;vertical-align:middle;\" /></a></td></tr>\n",
       "<tr><td>21</td><td>Lambda</td><td>parameter:&nbsp;26<br>body:&nbsp;24<br></td><td><a class=\"ProveItLink\" href=\"../../../../../core_expr_types/__pv_it/4df79cbef650a27c8a09538689706d4ef348e6770/expr.ipynb\"><img src=\"../../../../../core_expr_types/__pv_it/4df79cbef650a27c8a09538689706d4ef348e6770/expr.png\" style=\"display:inline;vertical-align:middle;\" /></a></td></tr>\n",
       "<tr><td>22</td><td>Variable</td><td></td><td><a class=\"ProveItLink\" href=\"../../../../../__pv_it/557ab5defdcd46aa58168b08767502985122cd490/expr.ipynb\"><img src=\"../../../../../__pv_it/557ab5defdcd46aa58168b08767502985122cd490/expr.png\" style=\"display:inline;vertical-align:middle;\" /></a></td></tr>\n",
       "<tr><td>23</td><td>Variable</td><td></td><td><a class=\"ProveItLink\" href=\"../../../../../__pv_it/6a5b5879f51878868f626bf09e4d76392d4779cd0/expr.ipynb\"><img src=\"../../../../../__pv_it/6a5b5879f51878868f626bf09e4d76392d4779cd0/expr.png\" style=\"display:inline;vertical-align:middle;\" /></a></td></tr>\n",
       "<tr><td>24</td><td>Operation</td><td>operator:&nbsp;25<br>operand:&nbsp;26<br></td><td><a class=\"ProveItLink\" href=\"../../../../../__pv_it/e80bce2a0c2e8c976be76e7b3ce08f76e74ec5550/expr.ipynb\"><img src=\"../../../../../__pv_it/e80bce2a0c2e8c976be76e7b3ce08f76e74ec5550/expr.png\" style=\"display:inline;vertical-align:middle;\" /></a></td></tr>\n",
       "<tr><td>25</td><td>Variable</td><td></td><td><a class=\"ProveItLink\" href=\"../../../../../__pv_it/d7bbb04e874e28c7cefb21d4eea40806ae52f1f70/expr.ipynb\"><img src=\"../../../../../__pv_it/d7bbb04e874e28c7cefb21d4eea40806ae52f1f70/expr.png\" style=\"display:inline;vertical-align:middle;\" /></a></td></tr>\n",
       "<tr><td>26</td><td>Variable</td><td></td><td><a class=\"ProveItLink\" href=\"../../../../../__pv_it/a8d4b3a34d2189508f9082853fbac36935714f280/expr.ipynb\"><img src=\"../../../../../__pv_it/a8d4b3a34d2189508f9082853fbac36935714f280/expr.png\" style=\"display:inline;vertical-align:middle;\" /></a></td></tr>\n",
       "</table>\n"
      ],
      "text/plain": [
       "0. {(f(i), ..f(a).., f(j + 1)) =  \\\\ (f(i), ..f(a).., f(j), f(j + 1)) if |(f(i), ..f(a).., f(j))| in Naturals.\n",
       "   core type: Conditional\n",
       "   value: 1\n",
       "   condition: 2\n",
       "1. (f(i), ..f(a).., f(j + 1)) =  \\\\ (f(i), ..f(a).., f(j), f(j + 1))\n",
       "   core type: Operation\n",
       "   operator: 3\n",
       "   operands: 4\n",
       "2. |(f(i), ..f(a).., f(j))| in Naturals\n",
       "   core type: Operation\n",
       "   operator: 5\n",
       "   operands: 6\n",
       "3. =\n",
       "   core type: Literal\n",
       "   sub-expressions: \n",
       "4. ((f(i), ..f(a).., f(j + 1)), (f(i), ..f(a).., f(j), f(j + 1)))\n",
       "   core type: ExprTuple\n",
       "   sub-expressions: 7, 8\n",
       "5. in\n",
       "   core type: Literal\n",
       "   sub-expressions: \n",
       "6. (|(f(i), ..f(a).., f(j))|, Naturals)\n",
       "   core type: ExprTuple\n",
       "   sub-expressions: 9, 10\n",
       "7. (f(i), ..f(a).., f(j + 1))\n",
       "   core type: ExprTuple\n",
       "   sub-expressions: 11\n",
       "8. (f(i), ..f(a).., f(j), f(j + 1))\n",
       "   core type: ExprTuple\n",
       "   sub-expressions: 19, 12\n",
       "9. |(f(i), ..f(a).., f(j))|\n",
       "   core type: Operation\n",
       "   operator: 13\n",
       "   operand: 16\n",
       "10. Naturals\n",
       "    core type: Literal\n",
       "    sub-expressions: \n",
       "11. f(i), ..f(a).., f(j + 1)\n",
       "    core type: ExprRange\n",
       "    lambda_map: 21\n",
       "    start_index: 22\n",
       "    end_index: 15\n",
       "12. f(j + 1)\n",
       "    core type: Operation\n",
       "    operator: 25\n",
       "    operand: 15\n",
       "13. length\n",
       "    core type: Literal\n",
       "    sub-expressions: \n",
       "14. ((f(i), ..f(a).., f(j)))\n",
       "    core type: ExprTuple\n",
       "    sub-expressions: 16\n",
       "15. j + 1\n",
       "    core type: Operation\n",
       "    operator: 17\n",
       "    operands: 18\n",
       "16. (f(i), ..f(a).., f(j))\n",
       "    core type: ExprTuple\n",
       "    sub-expressions: 19\n",
       "17. +\n",
       "    core type: Literal\n",
       "    sub-expressions: \n",
       "18. (j, 1)\n",
       "    core type: ExprTuple\n",
       "    sub-expressions: 23, 20\n",
       "19. f(i), ..f(a).., f(j)\n",
       "    core type: ExprRange\n",
       "    lambda_map: 21\n",
       "    start_index: 22\n",
       "    end_index: 23\n",
       "20. 1\n",
       "    core type: Literal\n",
       "    sub-expressions: \n",
       "21. a -> f(a)\n",
       "    core type: Lambda\n",
       "    parameter: 26\n",
       "    body: 24\n",
       "22. i\n",
       "    core type: Variable\n",
       "    sub-expressions: \n",
       "23. j\n",
       "    core type: Variable\n",
       "    sub-expressions: \n",
       "24. f(a)\n",
       "    core type: Operation\n",
       "    operator: 25\n",
       "    operand: 26\n",
       "25. f\n",
       "    core type: Variable\n",
       "    sub-expressions: \n",
       "26. a\n",
       "    core type: Variable\n",
       "    sub-expressions: "
      ]
     },
     "execution_count": 5,
     "metadata": {},
     "output_type": "execute_result"
    }
   ],
   "source": [
    "# display the expression information\n",
    "expr.exprInfo()"
   ]
  },
  {
   "cell_type": "code",
   "execution_count": null,
   "metadata": {},
   "outputs": [],
   "source": []
  }
 ],
 "metadata": {
  "kernelspec": {
   "display_name": "Python 3",
   "language": "python",
   "name": "python3"
  },
  "language_info": {
   "codemirror_mode": {
    "name": "ipython",
    "version": 3
   },
   "file_extension": ".py",
   "mimetype": "text/x-python",
   "name": "python",
   "nbconvert_exporter": "python",
   "pygments_lexer": "ipython3",
   "version": "3.7.3"
  }
 },
 "nbformat": 4,
 "nbformat_minor": 1
}
