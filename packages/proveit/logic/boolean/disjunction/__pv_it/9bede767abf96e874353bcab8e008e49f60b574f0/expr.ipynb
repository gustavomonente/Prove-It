{
 "cells": [
  {
   "cell_type": "markdown",
   "metadata": {},
   "source": [
    "Expression of type <a class=\"ProveItLink\" href=\"../../../../../../../doc/html/api/proveit.Lambda.html\">Lambda</a>\n",
    "=======================\n",
    "# from context <a class=\"ProveItLink\" href=\"../../_context_.ipynb\">proveit.logic.boolean.disjunction</a>"
   ]
  },
  {
   "cell_type": "code",
   "execution_count": 1,
   "metadata": {},
   "outputs": [],
   "source": [
    "import proveit\n",
    "# Automation is not needed when building an expression:\n",
    "proveit.defaults.automation = False # This will speed things up.\n",
    "proveit.defaults.inline_pngs = False # Makes files smaller.\n",
    "# import Expression classes needed to build the expression\n",
    "from proveit import Conditional, ExprRange, IndexedVar, Lambda, Variable\n",
    "from proveit._common_ import A, B, i, m\n",
    "from proveit.core_expr_types._common_ import A_1_to_m, B_1_to_m\n",
    "from proveit.logic import And, Booleans, Implies, InSet, Or\n",
    "from proveit.number import one"
   ]
  },
  {
   "cell_type": "code",
   "execution_count": 2,
   "metadata": {},
   "outputs": [
    {
     "data": {
      "text/html": [
       "<strong id=\"expr\">expr:</strong> <a class=\"ProveItLink\" href=\"../dc9fc34cef14f98a385ffffa162ad815fde0e6130/expr.ipynb\"><img src=\"../dc9fc34cef14f98a385ffffa162ad815fde0e6130/expr.png\" style=\"display:inline;vertical-align:middle;\" /></a><br>"
      ],
      "text/plain": [
       "expr: (A_{1}, ..A_{_a}.., A_{m}, B_{1}, ..B_{_a}.., B_{m}) -> {B_{1} or ..B_{_a}.. or B_{m} if A_{1} in BOOLEANS ,  ..A_{_a} in BOOLEANS.. ,  A_{m} in BOOLEANS ,  B_{1} in BOOLEANS ,  ..B_{_a} in BOOLEANS.. ,  B_{m} in BOOLEANS ,  A_{1} or ..A_{_a}.. or A_{m} ,  A_{1} => B_{1} ,  ..A_{i} => B_{i}.. ,  A_{m} => B_{m}."
      ]
     },
     "execution_count": 2,
     "metadata": {},
     "output_type": "execute_result"
    }
   ],
   "source": [
    "# build up the expression from sub-expressions\n",
    "subExpr1 = Variable(\"_a\", latexFormat = r\"{_{-}a}\")\n",
    "expr = Lambda([A_1_to_m, B_1_to_m], Conditional(Or(B_1_to_m), And(ExprRange(subExpr1, InSet(IndexedVar(A, subExpr1), Booleans), one, m), ExprRange(subExpr1, InSet(IndexedVar(B, subExpr1), Booleans), one, m), Or(A_1_to_m), ExprRange(i, Implies(IndexedVar(A, i), IndexedVar(B, i)), one, m))))"
   ]
  },
  {
   "cell_type": "code",
   "execution_count": 3,
   "metadata": {},
   "outputs": [
    {
     "name": "stdout",
     "output_type": "stream",
     "text": [
      "Passed sanity check: built 'expr' is the same as the stored Expression.\n"
     ]
    }
   ],
   "source": [
    "# check that the built expression is the same as the stored expression\n",
    "%check_expr"
   ]
  },
  {
   "cell_type": "code",
   "execution_count": 4,
   "metadata": {},
   "outputs": [
    {
     "name": "stdout",
     "output_type": "stream",
     "text": [
      "\\left(A_{1}, \\ldots, A_{m}, B_{1}, \\ldots, B_{m}\\right) \\mapsto \\left\\{B_{1} \\lor \\ldots \\lor B_{m} \\textrm{ if } A_{1} \\in \\mathbb{B} ,  \\ldots ,  A_{m} \\in \\mathbb{B} ,  B_{1} \\in \\mathbb{B} ,  \\ldots ,  B_{m} \\in \\mathbb{B} ,  A_{1} \\lor \\ldots \\lor A_{m} ,  A_{1} \\Rightarrow B_{1} ,  \\ldots ,  A_{m} \\Rightarrow B_{m}\\right..\n"
     ]
    }
   ],
   "source": [
    "# Show the LaTeX representation of the expression for convenience if you need it.\n",
    "print(expr.latex())"
   ]
  },
  {
   "cell_type": "code",
   "execution_count": 5,
   "metadata": {},
   "outputs": [
    {
     "data": {
      "text/html": [
       "<table><tr><th>&nbsp;</th><th>core type</th><th>sub-expressions</th><th>expression</th></tr>\n",
       "<tr><td>0</td><td>Lambda</td><td>parameters:&nbsp;1<br>body:&nbsp;2<br></td><td><a class=\"ProveItLink\" href=\"../dc9fc34cef14f98a385ffffa162ad815fde0e6130/expr.ipynb\"><img src=\"../dc9fc34cef14f98a385ffffa162ad815fde0e6130/expr.png\" style=\"display:inline;vertical-align:middle;\" /></a></td></tr>\n",
       "<tr><td>1</td><td>ExprTuple</td><td>21, 8</td><td><a class=\"ProveItLink\" href=\"../0cb919a0f6bf94c1ef63445bbef49509599d1ff70/expr.ipynb\"><img src=\"../0cb919a0f6bf94c1ef63445bbef49509599d1ff70/expr.png\" style=\"display:inline;vertical-align:middle;\" /></a></td></tr>\n",
       "<tr><td>2</td><td>Conditional</td><td>value:&nbsp;3<br>condition:&nbsp;4<br></td><td><a class=\"ProveItLink\" href=\"../0b631a274a62bb5d1f48a68dd58d62f7bd5597fe0/expr.ipynb\"><img src=\"../0b631a274a62bb5d1f48a68dd58d62f7bd5597fe0/expr.png\" style=\"display:inline;vertical-align:middle;\" /></a></td></tr>\n",
       "<tr><td>3</td><td>Operation</td><td>operator:&nbsp;16<br>operands:&nbsp;5<br></td><td><a class=\"ProveItLink\" href=\"../c5323d4f7c1b5964b3030efa0e7eef960df8a9b50/expr.ipynb\"><img src=\"../c5323d4f7c1b5964b3030efa0e7eef960df8a9b50/expr.png\" style=\"display:inline;vertical-align:middle;\" /></a></td></tr>\n",
       "<tr><td>4</td><td>Operation</td><td>operator:&nbsp;6<br>operands:&nbsp;7<br></td><td><a class=\"ProveItLink\" href=\"../9534c62a26975db5052041b595d1ac85b69da0660/expr.ipynb\"><img src=\"../9534c62a26975db5052041b595d1ac85b69da0660/expr.png\" style=\"display:inline;vertical-align:middle;\" /></a></td></tr>\n",
       "<tr><td>5</td><td>ExprTuple</td><td>8</td><td><a class=\"ProveItLink\" href=\"../c334c2906f87342c8083cfe44909f589a58c11bd0/expr.ipynb\"><img src=\"../c334c2906f87342c8083cfe44909f589a58c11bd0/expr.png\" style=\"display:inline;vertical-align:middle;\" /></a></td></tr>\n",
       "<tr><td>6</td><td>Literal</td><td></td><td><a class=\"ProveItLink\" href=\"../../../conjunction/__pv_it/f41cc6b553210927c09f19a8a39cdf860a5585930/expr.ipynb\"><img src=\"../../../conjunction/__pv_it/f41cc6b553210927c09f19a8a39cdf860a5585930/expr.png\" style=\"display:inline;vertical-align:middle;\" /></a></td></tr>\n",
       "<tr><td>7</td><td>ExprTuple</td><td>9, 10, 11, 12</td><td><a class=\"ProveItLink\" href=\"../baa5731aae1f1a387bde7187f16d35dcacf4b52a0/expr.ipynb\"><img src=\"../baa5731aae1f1a387bde7187f16d35dcacf4b52a0/expr.png\" style=\"display:inline;vertical-align:middle;\" /></a></td></tr>\n",
       "<tr><td>8</td><td>ExprRange</td><td>lambda_map:&nbsp;13<br>start_index:&nbsp;27<br>end_index:&nbsp;28<br></td><td><a class=\"ProveItLink\" href=\"../../../../../core_expr_types/__pv_it/cc13ebdb97aaba285db2983e69dad633c6b44c830/expr.ipynb\"><img src=\"../../../../../core_expr_types/__pv_it/cc13ebdb97aaba285db2983e69dad633c6b44c830/expr.png\" style=\"display:inline;vertical-align:middle;\" /></a></td></tr>\n",
       "<tr><td>9</td><td>ExprRange</td><td>lambda_map:&nbsp;14<br>start_index:&nbsp;27<br>end_index:&nbsp;28<br></td><td><a class=\"ProveItLink\" href=\"../2bab02ebc31c30749fd2730df8ef97663d6a10e30/expr.ipynb\"><img src=\"../2bab02ebc31c30749fd2730df8ef97663d6a10e30/expr.png\" style=\"display:inline;vertical-align:middle;\" /></a></td></tr>\n",
       "<tr><td>10</td><td>ExprRange</td><td>lambda_map:&nbsp;15<br>start_index:&nbsp;27<br>end_index:&nbsp;28<br></td><td><a class=\"ProveItLink\" href=\"../4acb6d80c985c85caf1f8c5b8b29ab182283f2950/expr.ipynb\"><img src=\"../4acb6d80c985c85caf1f8c5b8b29ab182283f2950/expr.png\" style=\"display:inline;vertical-align:middle;\" /></a></td></tr>\n",
       "<tr><td>11</td><td>Operation</td><td>operator:&nbsp;16<br>operands:&nbsp;17<br></td><td><a class=\"ProveItLink\" href=\"../52e8d39febb62b721c7ca2ea6034a49635df438a0/expr.ipynb\"><img src=\"../52e8d39febb62b721c7ca2ea6034a49635df438a0/expr.png\" style=\"display:inline;vertical-align:middle;\" /></a></td></tr>\n",
       "<tr><td>12</td><td>ExprRange</td><td>lambda_map:&nbsp;18<br>start_index:&nbsp;27<br>end_index:&nbsp;28<br></td><td><a class=\"ProveItLink\" href=\"../c5d561dd8385d90d58aa45f2cff8ae001f38539e0/expr.ipynb\"><img src=\"../c5d561dd8385d90d58aa45f2cff8ae001f38539e0/expr.png\" style=\"display:inline;vertical-align:middle;\" /></a></td></tr>\n",
       "<tr><td>13</td><td>Lambda</td><td>parameter:&nbsp;36<br>body:&nbsp;31<br></td><td><a class=\"ProveItLink\" href=\"../../../../../core_expr_types/__pv_it/99d75944d259e8bc62584dcc098a8987eb98ee6d0/expr.ipynb\"><img src=\"../../../../../core_expr_types/__pv_it/99d75944d259e8bc62584dcc098a8987eb98ee6d0/expr.png\" style=\"display:inline;vertical-align:middle;\" /></a></td></tr>\n",
       "<tr><td>14</td><td>Lambda</td><td>parameter:&nbsp;36<br>body:&nbsp;19<br></td><td><a class=\"ProveItLink\" href=\"../e462da948a3a649da62f5e332c58e1cc7cc8ef480/expr.ipynb\"><img src=\"../e462da948a3a649da62f5e332c58e1cc7cc8ef480/expr.png\" style=\"display:inline;vertical-align:middle;\" /></a></td></tr>\n",
       "<tr><td>15</td><td>Lambda</td><td>parameter:&nbsp;36<br>body:&nbsp;20<br></td><td><a class=\"ProveItLink\" href=\"../c337b26b7e634a9cc0f347bf56a6ba3f6bf6f41c0/expr.ipynb\"><img src=\"../c337b26b7e634a9cc0f347bf56a6ba3f6bf6f41c0/expr.png\" style=\"display:inline;vertical-align:middle;\" /></a></td></tr>\n",
       "<tr><td>16</td><td>Literal</td><td></td><td><a class=\"ProveItLink\" href=\"../8a6d9fc46c84b3911a71fbae15627dc2acebe2890/expr.ipynb\"><img src=\"../8a6d9fc46c84b3911a71fbae15627dc2acebe2890/expr.png\" style=\"display:inline;vertical-align:middle;\" /></a></td></tr>\n",
       "<tr><td>17</td><td>ExprTuple</td><td>21</td><td><a class=\"ProveItLink\" href=\"../3971d4e6d8e9af14d4f7b980de24a3075f427e380/expr.ipynb\"><img src=\"../3971d4e6d8e9af14d4f7b980de24a3075f427e380/expr.png\" style=\"display:inline;vertical-align:middle;\" /></a></td></tr>\n",
       "<tr><td>18</td><td>Lambda</td><td>parameter:&nbsp;39<br>body:&nbsp;22<br></td><td><a class=\"ProveItLink\" href=\"../e028968db96de6d37e0673477b7d733ed8275c3a0/expr.ipynb\"><img src=\"../e028968db96de6d37e0673477b7d733ed8275c3a0/expr.png\" style=\"display:inline;vertical-align:middle;\" /></a></td></tr>\n",
       "<tr><td>19</td><td>Operation</td><td>operator:&nbsp;24<br>operands:&nbsp;23<br></td><td><a class=\"ProveItLink\" href=\"../f777912892d36c4da6d4f3cf378a718568ef0dcc0/expr.ipynb\"><img src=\"../f777912892d36c4da6d4f3cf378a718568ef0dcc0/expr.png\" style=\"display:inline;vertical-align:middle;\" /></a></td></tr>\n",
       "<tr><td>20</td><td>Operation</td><td>operator:&nbsp;24<br>operands:&nbsp;25<br></td><td><a class=\"ProveItLink\" href=\"../3b631771a57ed9bb9d2ad4805c80e6dc83e52c2c0/expr.ipynb\"><img src=\"../3b631771a57ed9bb9d2ad4805c80e6dc83e52c2c0/expr.png\" style=\"display:inline;vertical-align:middle;\" /></a></td></tr>\n",
       "<tr><td>21</td><td>ExprRange</td><td>lambda_map:&nbsp;26<br>start_index:&nbsp;27<br>end_index:&nbsp;28<br></td><td><a class=\"ProveItLink\" href=\"../../../../../core_expr_types/__pv_it/1b1836f58ac701e2bebc4117b7c7261052ae85ae0/expr.ipynb\"><img src=\"../../../../../core_expr_types/__pv_it/1b1836f58ac701e2bebc4117b7c7261052ae85ae0/expr.png\" style=\"display:inline;vertical-align:middle;\" /></a></td></tr>\n",
       "<tr><td>22</td><td>Operation</td><td>operator:&nbsp;29<br>operands:&nbsp;30<br></td><td><a class=\"ProveItLink\" href=\"../185aa0e69bb0865e2beed65790331d380b72660e0/expr.ipynb\"><img src=\"../185aa0e69bb0865e2beed65790331d380b72660e0/expr.png\" style=\"display:inline;vertical-align:middle;\" /></a></td></tr>\n",
       "<tr><td>23</td><td>ExprTuple</td><td>33, 32</td><td><a class=\"ProveItLink\" href=\"../3cbf41968ea3876165a26f7dcceb2975b91a45470/expr.ipynb\"><img src=\"../3cbf41968ea3876165a26f7dcceb2975b91a45470/expr.png\" style=\"display:inline;vertical-align:middle;\" /></a></td></tr>\n",
       "<tr><td>24</td><td>Literal</td><td></td><td><a class=\"ProveItLink\" href=\"../../../../set_theory/membership/__pv_it/7776fc89cb67d0b5b1ec2c0c8e08da5587921ccf0/expr.ipynb\"><img src=\"../../../../set_theory/membership/__pv_it/7776fc89cb67d0b5b1ec2c0c8e08da5587921ccf0/expr.png\" style=\"display:inline;vertical-align:middle;\" /></a></td></tr>\n",
       "<tr><td>25</td><td>ExprTuple</td><td>31, 32</td><td><a class=\"ProveItLink\" href=\"../60a91123f4f74fc89bd9aaf3f24831cd483ea57e0/expr.ipynb\"><img src=\"../60a91123f4f74fc89bd9aaf3f24831cd483ea57e0/expr.png\" style=\"display:inline;vertical-align:middle;\" /></a></td></tr>\n",
       "<tr><td>26</td><td>Lambda</td><td>parameter:&nbsp;36<br>body:&nbsp;33<br></td><td><a class=\"ProveItLink\" href=\"../../../../../core_expr_types/__pv_it/cbf4a2d6122f8f76eeb36bd1c0d8bf52d8e05a560/expr.ipynb\"><img src=\"../../../../../core_expr_types/__pv_it/cbf4a2d6122f8f76eeb36bd1c0d8bf52d8e05a560/expr.png\" style=\"display:inline;vertical-align:middle;\" /></a></td></tr>\n",
       "<tr><td>27</td><td>Literal</td><td></td><td><a class=\"ProveItLink\" href=\"../../../../../number/numeral/__pv_it/f086f8c372bd40a2458306ddfdbb29f3dc6f63030/expr.ipynb\"><img src=\"../../../../../number/numeral/__pv_it/f086f8c372bd40a2458306ddfdbb29f3dc6f63030/expr.png\" style=\"display:inline;vertical-align:middle;\" /></a></td></tr>\n",
       "<tr><td>28</td><td>Variable</td><td></td><td><a class=\"ProveItLink\" href=\"../../../../../__pv_it/6e8a38e9a7e2b6af352562cd77e0eb4751f142620/expr.ipynb\"><img src=\"../../../../../__pv_it/6e8a38e9a7e2b6af352562cd77e0eb4751f142620/expr.png\" style=\"display:inline;vertical-align:middle;\" /></a></td></tr>\n",
       "<tr><td>29</td><td>Literal</td><td></td><td><a class=\"ProveItLink\" href=\"../../../implication/__pv_it/1e62b0c0a90306fc48b17f0dc8d4dc4df8bb234f0/expr.ipynb\"><img src=\"../../../implication/__pv_it/1e62b0c0a90306fc48b17f0dc8d4dc4df8bb234f0/expr.png\" style=\"display:inline;vertical-align:middle;\" /></a></td></tr>\n",
       "<tr><td>30</td><td>ExprTuple</td><td>34, 35</td><td><a class=\"ProveItLink\" href=\"../47b1b6d346677e895f94699d55970f800dbc18530/expr.ipynb\"><img src=\"../47b1b6d346677e895f94699d55970f800dbc18530/expr.png\" style=\"display:inline;vertical-align:middle;\" /></a></td></tr>\n",
       "<tr><td>31</td><td>IndexedVar</td><td>variable:&nbsp;38<br>index:&nbsp;36<br></td><td><a class=\"ProveItLink\" href=\"../../../../../core_expr_types/__pv_it/dd60a21b14ad80238615b0d2b74a678a11574e790/expr.ipynb\"><img src=\"../../../../../core_expr_types/__pv_it/dd60a21b14ad80238615b0d2b74a678a11574e790/expr.png\" style=\"display:inline;vertical-align:middle;\" /></a></td></tr>\n",
       "<tr><td>32</td><td>Literal</td><td></td><td><a class=\"ProveItLink\" href=\"../../../__pv_it/a3b387936f605fef1b535be3e1116cca8bbfc91b0/expr.ipynb\"><img src=\"../../../__pv_it/a3b387936f605fef1b535be3e1116cca8bbfc91b0/expr.png\" style=\"display:inline;vertical-align:middle;\" /></a></td></tr>\n",
       "<tr><td>33</td><td>IndexedVar</td><td>variable:&nbsp;37<br>index:&nbsp;36<br></td><td><a class=\"ProveItLink\" href=\"../../../../../core_expr_types/__pv_it/a433d6021a2b0d85d326303b1d692b18969c0dc30/expr.ipynb\"><img src=\"../../../../../core_expr_types/__pv_it/a433d6021a2b0d85d326303b1d692b18969c0dc30/expr.png\" style=\"display:inline;vertical-align:middle;\" /></a></td></tr>\n",
       "<tr><td>34</td><td>IndexedVar</td><td>variable:&nbsp;37<br>index:&nbsp;39<br></td><td><a class=\"ProveItLink\" href=\"../9c79ac507b7d7d0f650176c17e8ca95736050cc40/expr.ipynb\"><img src=\"../9c79ac507b7d7d0f650176c17e8ca95736050cc40/expr.png\" style=\"display:inline;vertical-align:middle;\" /></a></td></tr>\n",
       "<tr><td>35</td><td>IndexedVar</td><td>variable:&nbsp;38<br>index:&nbsp;39<br></td><td><a class=\"ProveItLink\" href=\"../dd2cdad8eec57919bc773c4a771c051f3def83f50/expr.ipynb\"><img src=\"../dd2cdad8eec57919bc773c4a771c051f3def83f50/expr.png\" style=\"display:inline;vertical-align:middle;\" /></a></td></tr>\n",
       "<tr><td>36</td><td>Variable</td><td></td><td><a class=\"ProveItLink\" href=\"../../../../../core_expr_types/__pv_it/1e653f789234b245ee7fea7caad998c139d617410/expr.ipynb\"><img src=\"../../../../../core_expr_types/__pv_it/1e653f789234b245ee7fea7caad998c139d617410/expr.png\" style=\"display:inline;vertical-align:middle;\" /></a></td></tr>\n",
       "<tr><td>37</td><td>Variable</td><td></td><td><a class=\"ProveItLink\" href=\"../../../../../__pv_it/d3792d0d8642fdf1cd2a3a9b32c673ee13653de00/expr.ipynb\"><img src=\"../../../../../__pv_it/d3792d0d8642fdf1cd2a3a9b32c673ee13653de00/expr.png\" style=\"display:inline;vertical-align:middle;\" /></a></td></tr>\n",
       "<tr><td>38</td><td>Variable</td><td></td><td><a class=\"ProveItLink\" href=\"../../../../../__pv_it/4d98b438710c5ada9ffa4646bb123a7d0e69ec000/expr.ipynb\"><img src=\"../../../../../__pv_it/4d98b438710c5ada9ffa4646bb123a7d0e69ec000/expr.png\" style=\"display:inline;vertical-align:middle;\" /></a></td></tr>\n",
       "<tr><td>39</td><td>Variable</td><td></td><td><a class=\"ProveItLink\" href=\"../../../../../__pv_it/557ab5defdcd46aa58168b08767502985122cd490/expr.ipynb\"><img src=\"../../../../../__pv_it/557ab5defdcd46aa58168b08767502985122cd490/expr.png\" style=\"display:inline;vertical-align:middle;\" /></a></td></tr>\n",
       "</table>\n"
      ],
      "text/plain": [
       "0. (A_{1}, ..A_{_a}.., A_{m}, B_{1}, ..B_{_a}.., B_{m}) -> {B_{1} or ..B_{_a}.. or B_{m} if A_{1} in BOOLEANS ,  ..A_{_a} in BOOLEANS.. ,  A_{m} in BOOLEANS ,  B_{1} in BOOLEANS ,  ..B_{_a} in BOOLEANS.. ,  B_{m} in BOOLEANS ,  A_{1} or ..A_{_a}.. or A_{m} ,  A_{1} => B_{1} ,  ..A_{i} => B_{i}.. ,  A_{m} => B_{m}.\n",
       "   core type: Lambda\n",
       "   parameters: 1\\n   body: 2\n",
       "1. (A_{1}, ..A_{_a}.., A_{m}, B_{1}, ..B_{_a}.., B_{m})\n",
       "   core type: ExprTuple\n",
       "   sub-expressions: 21, 8\n",
       "2. {B_{1} or ..B_{_a}.. or B_{m} if A_{1} in BOOLEANS ,  ..A_{_a} in BOOLEANS.. ,  A_{m} in BOOLEANS ,  B_{1} in BOOLEANS ,  ..B_{_a} in BOOLEANS.. ,  B_{m} in BOOLEANS ,  A_{1} or ..A_{_a}.. or A_{m} ,  A_{1} => B_{1} ,  ..A_{i} => B_{i}.. ,  A_{m} => B_{m}.\n",
       "   core type: Conditional\n",
       "   value: 3\n",
       "   condition: 4\n",
       "3. B_{1} or ..B_{_a}.. or B_{m}\n",
       "   core type: Operation\n",
       "   operator: 16\n",
       "   operands: 5\n",
       "4. (A_{1} in BOOLEANS) and ..(A_{_a} in BOOLEANS).. and (A_{m} in BOOLEANS) and (B_{1} in BOOLEANS) and ..(B_{_a} in BOOLEANS).. and (B_{m} in BOOLEANS) and (A_{1} or ..A_{_a}.. or A_{m}) and (A_{1} => B_{1}) and ..(A_{i} => B_{i}).. and (A_{m} => B_{m})\n",
       "   core type: Operation\n",
       "   operator: 6\n",
       "   operands: 7\n",
       "5. (B_{1}, ..B_{_a}.., B_{m})\n",
       "   core type: ExprTuple\n",
       "   sub-expressions: 8\n",
       "6. and\n",
       "   core type: Literal\n",
       "   sub-expressions: \n",
       "7. (A_{1} in BOOLEANS, ..A_{_a} in BOOLEANS.., A_{m} in BOOLEANS, B_{1} in BOOLEANS, ..B_{_a} in BOOLEANS.., B_{m} in BOOLEANS, A_{1} or ..A_{_a}.. or A_{m}, A_{1} => B_{1}, ..A_{i} => B_{i}.., A_{m} => B_{m})\n",
       "   core type: ExprTuple\n",
       "   sub-expressions: 9, 10, 11, 12\n",
       "8. B_{1}, ..B_{_a}.., B_{m}\n",
       "   core type: ExprRange\n",
       "   lambda_map: 13\n",
       "   start_index: 27\n",
       "   end_index: 28\n",
       "9. (A_{1} in BOOLEANS), ..(A_{_a} in BOOLEANS).., (A_{m} in BOOLEANS)\n",
       "   core type: ExprRange\n",
       "   lambda_map: 14\n",
       "   start_index: 27\n",
       "   end_index: 28\n",
       "10. (B_{1} in BOOLEANS), ..(B_{_a} in BOOLEANS).., (B_{m} in BOOLEANS)\n",
       "    core type: ExprRange\n",
       "    lambda_map: 15\n",
       "    start_index: 27\n",
       "    end_index: 28\n",
       "11. A_{1} or ..A_{_a}.. or A_{m}\n",
       "    core type: Operation\n",
       "    operator: 16\n",
       "    operands: 17\n",
       "12. (A_{1} => B_{1}), ..(A_{i} => B_{i}).., (A_{m} => B_{m})\n",
       "    core type: ExprRange\n",
       "    lambda_map: 18\n",
       "    start_index: 27\n",
       "    end_index: 28\n",
       "13. _a -> B_{_a}\n",
       "    core type: Lambda\n",
       "    parameter: 36\n",
       "    body: 31\n",
       "14. _a -> (A_{_a} in BOOLEANS)\n",
       "    core type: Lambda\n",
       "    parameter: 36\n",
       "    body: 19\n",
       "15. _a -> (B_{_a} in BOOLEANS)\n",
       "    core type: Lambda\n",
       "    parameter: 36\n",
       "    body: 20\n",
       "16. or\n",
       "    core type: Literal\n",
       "    sub-expressions: \n",
       "17. (A_{1}, ..A_{_a}.., A_{m})\n",
       "    core type: ExprTuple\n",
       "    sub-expressions: 21\n",
       "18. i -> (A_{i} => B_{i})\n",
       "    core type: Lambda\n",
       "    parameter: 39\n",
       "    body: 22\n",
       "19. A_{_a} in BOOLEANS\n",
       "    core type: Operation\n",
       "    operator: 24\n",
       "    operands: 23\n",
       "20. B_{_a} in BOOLEANS\n",
       "    core type: Operation\n",
       "    operator: 24\n",
       "    operands: 25\n",
       "21. A_{1}, ..A_{_a}.., A_{m}\n",
       "    core type: ExprRange\n",
       "    lambda_map: 26\n",
       "    start_index: 27\n",
       "    end_index: 28\n",
       "22. A_{i} => B_{i}\n",
       "    core type: Operation\n",
       "    operator: 29\n",
       "    operands: 30\n",
       "23. (A_{_a}, BOOLEANS)\n",
       "    core type: ExprTuple\n",
       "    sub-expressions: 33, 32\n",
       "24. in\n",
       "    core type: Literal\n",
       "    sub-expressions: \n",
       "25. (B_{_a}, BOOLEANS)\n",
       "    core type: ExprTuple\n",
       "    sub-expressions: 31, 32\n",
       "26. _a -> A_{_a}\n",
       "    core type: Lambda\n",
       "    parameter: 36\n",
       "    body: 33\n",
       "27. 1\n",
       "    core type: Literal\n",
       "    sub-expressions: \n",
       "28. m\n",
       "    core type: Variable\n",
       "    sub-expressions: \n",
       "29. =>\n",
       "    core type: Literal\n",
       "    sub-expressions: \n",
       "30. (A_{i}, B_{i})\n",
       "    core type: ExprTuple\n",
       "    sub-expressions: 34, 35\n",
       "31. B_{_a}\n",
       "    core type: IndexedVar\n",
       "variable: 38\n",
       "index: 36\n",
       "32. BOOLEANS\n",
       "    core type: Literal\n",
       "    sub-expressions: \n",
       "33. A_{_a}\n",
       "    core type: IndexedVar\n",
       "variable: 37\n",
       "index: 36\n",
       "34. A_{i}\n",
       "    core type: IndexedVar\n",
       "variable: 37\n",
       "index: 39\n",
       "35. B_{i}\n",
       "    core type: IndexedVar\n",
       "variable: 38\n",
       "index: 39\n",
       "36. _a\n",
       "    core type: Variable\n",
       "    sub-expressions: \n",
       "37. A\n",
       "    core type: Variable\n",
       "    sub-expressions: \n",
       "38. B\n",
       "    core type: Variable\n",
       "    sub-expressions: \n",
       "39. i\n",
       "    core type: Variable\n",
       "    sub-expressions: "
      ]
     },
     "execution_count": 5,
     "metadata": {},
     "output_type": "execute_result"
    }
   ],
   "source": [
    "# display the expression information\n",
    "expr.exprInfo()"
   ]
  },
  {
   "cell_type": "code",
   "execution_count": null,
   "metadata": {},
   "outputs": [],
   "source": []
  }
 ],
 "metadata": {
  "kernelspec": {
   "display_name": "Python 3",
   "language": "python",
   "name": "python3"
  },
  "language_info": {
   "codemirror_mode": {
    "name": "ipython",
    "version": 3
   },
   "file_extension": ".py",
   "mimetype": "text/x-python",
   "name": "python",
   "nbconvert_exporter": "python",
   "pygments_lexer": "ipython3",
   "version": "3.7.3"
  }
 },
 "nbformat": 4,
 "nbformat_minor": 1
}
