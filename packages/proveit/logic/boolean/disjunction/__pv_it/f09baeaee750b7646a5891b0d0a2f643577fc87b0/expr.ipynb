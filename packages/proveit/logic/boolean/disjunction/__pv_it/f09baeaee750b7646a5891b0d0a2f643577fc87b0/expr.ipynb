{
 "cells": [
  {
   "cell_type": "markdown",
   "metadata": {},
   "source": [
    "Theorem <a class=\"ProveItLink\" href=\"../../_theorems_.ipynb#eachInBool\">eachInBool</a> of type <a class=\"ProveItLink\" href=\"../../../../../../../doc/html/api/proveit.logic.Forall.html\">Forall</a>\n",
    "=======================\n",
    "# from context <a class=\"ProveItLink\" href=\"../../_context_.ipynb\">proveit.logic.boolean.disjunction</a>\n",
    "*** see <a class=\"ProveItLink\" href=\"dependencies.ipynb\">dependencies</a> ***"
   ]
  },
  {
   "cell_type": "code",
   "execution_count": 1,
   "metadata": {},
   "outputs": [],
   "source": [
    "import proveit\n",
    "# Automation is not needed when only building an expression:\n",
    "proveit.defaults.automation = False # This will speed things up.\n",
    "proveit.defaults.inline_pngs = False # Makes files smaller.\n",
    "# import the special expression\n",
    "from proveit.logic.boolean.disjunction._theorems_ import eachInBool"
   ]
  },
  {
   "cell_type": "code",
   "execution_count": 2,
   "metadata": {},
   "outputs": [
    {
     "name": "stdout",
     "output_type": "stream",
     "text": [
      "Passed sanity check: built 'eachInBool' is the same as the stored Expression.\n"
     ]
    }
   ],
   "source": [
    "# check that the built expression is the same as the stored expression\n",
    "%check_expr eachInBool"
   ]
  },
  {
   "cell_type": "code",
   "execution_count": 3,
   "metadata": {},
   "outputs": [
    {
     "name": "stdout",
     "output_type": "stream",
     "text": [
      "\\vdash \\forall_{m \\in \\mathbb{N}, n \\in \\mathbb{N}}~\\left[\\forall_{A_{1}, \\ldots, A_{m}, B, C_{1}, \\ldots, C_{n}~|~\\left(A_{1} \\lor \\ldots \\lor A_{m} \\lor B \\lor C_{1} \\lor \\ldots \\lor C_{n}\\right) \\in \\mathbb{B}}~\\left(B \\in \\mathbb{B}\\right)\\right]\n"
     ]
    }
   ],
   "source": [
    "# Show the LaTeX representation of the expression for convenience if you need it.\n",
    "print(eachInBool.latex())"
   ]
  },
  {
   "cell_type": "code",
   "execution_count": 4,
   "metadata": {},
   "outputs": [
    {
     "data": {
      "text/html": [
       "<table><tr><th>&nbsp;</th><th>core type</th><th>sub-expressions</th><th>expression</th></tr>\n",
       "<tr><td>0</td><td>Operation</td><td>operator:&nbsp;6<br>operand:&nbsp;1<br></td><td><a class=\"ProveItLink\" href=\"expr.ipynb\"><img src=\"expr.png\" style=\"display:inline;vertical-align:middle;\" /></a></td></tr>\n",
       "<tr><td>1</td><td>Lambda</td><td>parameters:&nbsp;2<br>body:&nbsp;3<br></td><td><a class=\"ProveItLink\" href=\"../e9810e8b5f59fe522b0cd965ed8038d275dc04dd0/expr.ipynb\"><img src=\"../e9810e8b5f59fe522b0cd965ed8038d275dc04dd0/expr.png\" style=\"display:inline;vertical-align:middle;\" /></a></td></tr>\n",
       "<tr><td>2</td><td>ExprTuple</td><td>29, 32</td><td><a class=\"ProveItLink\" href=\"../275997a66c6a7319792802dbdfe4217fa64681ae0/expr.ipynb\"><img src=\"../275997a66c6a7319792802dbdfe4217fa64681ae0/expr.png\" style=\"display:inline;vertical-align:middle;\" /></a></td></tr>\n",
       "<tr><td>3</td><td>Conditional</td><td>value:&nbsp;4<br>condition:&nbsp;5<br></td><td><a class=\"ProveItLink\" href=\"../f7428cd738510510e4f9133338f82f692045fa650/expr.ipynb\"><img src=\"../f7428cd738510510e4f9133338f82f692045fa650/expr.png\" style=\"display:inline;vertical-align:middle;\" /></a></td></tr>\n",
       "<tr><td>4</td><td>Operation</td><td>operator:&nbsp;6<br>operand:&nbsp;7<br></td><td><a class=\"ProveItLink\" href=\"../e059ba10c91fdaf400fa613b0f8253f08b8b91c50/expr.ipynb\"><img src=\"../e059ba10c91fdaf400fa613b0f8253f08b8b91c50/expr.png\" style=\"display:inline;vertical-align:middle;\" /></a></td></tr>\n",
       "<tr><td>5</td><td>Operation</td><td>operator:&nbsp;8<br>operands:&nbsp;9<br></td><td><a class=\"ProveItLink\" href=\"../952006cf38f98f33847d7a716d7dc08022a94b9b0/expr.ipynb\"><img src=\"../952006cf38f98f33847d7a716d7dc08022a94b9b0/expr.png\" style=\"display:inline;vertical-align:middle;\" /></a></td></tr>\n",
       "<tr><td>6</td><td>Literal</td><td></td><td><a class=\"ProveItLink\" href=\"../../../quantification/universal/__pv_it/fd9c772d6675566ed52a6897806f45eb08a4ea910/expr.ipynb\"><img src=\"../../../quantification/universal/__pv_it/fd9c772d6675566ed52a6897806f45eb08a4ea910/expr.png\" style=\"display:inline;vertical-align:middle;\" /></a></td></tr>\n",
       "<tr><td>7</td><td>Lambda</td><td>parameters:&nbsp;24<br>body:&nbsp;10<br></td><td><a class=\"ProveItLink\" href=\"../3daa3448530fc84e4249ed062bb880122d6f56170/expr.ipynb\"><img src=\"../3daa3448530fc84e4249ed062bb880122d6f56170/expr.png\" style=\"display:inline;vertical-align:middle;\" /></a></td></tr>\n",
       "<tr><td>8</td><td>Literal</td><td></td><td><a class=\"ProveItLink\" href=\"../../../conjunction/__pv_it/f41cc6b553210927c09f19a8a39cdf860a5585930/expr.ipynb\"><img src=\"../../../conjunction/__pv_it/f41cc6b553210927c09f19a8a39cdf860a5585930/expr.png\" style=\"display:inline;vertical-align:middle;\" /></a></td></tr>\n",
       "<tr><td>9</td><td>ExprTuple</td><td>11, 12</td><td><a class=\"ProveItLink\" href=\"../7d47852f5f2840db92e1d08ee1d4f8a98053bc900/expr.ipynb\"><img src=\"../7d47852f5f2840db92e1d08ee1d4f8a98053bc900/expr.png\" style=\"display:inline;vertical-align:middle;\" /></a></td></tr>\n",
       "<tr><td>10</td><td>Conditional</td><td>value:&nbsp;13<br>condition:&nbsp;14<br></td><td><a class=\"ProveItLink\" href=\"../d21f110dcaf3fcb117d4e90eb1101470cd07d3ff0/expr.ipynb\"><img src=\"../d21f110dcaf3fcb117d4e90eb1101470cd07d3ff0/expr.png\" style=\"display:inline;vertical-align:middle;\" /></a></td></tr>\n",
       "<tr><td>11</td><td>Operation</td><td>operator:&nbsp;18<br>operands:&nbsp;15<br></td><td><a class=\"ProveItLink\" href=\"../ad11778942ef0375d86b1f7877fe8941c18aa1e90/expr.ipynb\"><img src=\"../ad11778942ef0375d86b1f7877fe8941c18aa1e90/expr.png\" style=\"display:inline;vertical-align:middle;\" /></a></td></tr>\n",
       "<tr><td>12</td><td>Operation</td><td>operator:&nbsp;18<br>operands:&nbsp;16<br></td><td><a class=\"ProveItLink\" href=\"../2cf8e15839f3241ee91ee5160b94bb56314115740/expr.ipynb\"><img src=\"../2cf8e15839f3241ee91ee5160b94bb56314115740/expr.png\" style=\"display:inline;vertical-align:middle;\" /></a></td></tr>\n",
       "<tr><td>13</td><td>Operation</td><td>operator:&nbsp;18<br>operands:&nbsp;17<br></td><td><a class=\"ProveItLink\" href=\"../af21e96bc662cb74cc7cb3eb21c032f16e434dba0/expr.ipynb\"><img src=\"../af21e96bc662cb74cc7cb3eb21c032f16e434dba0/expr.png\" style=\"display:inline;vertical-align:middle;\" /></a></td></tr>\n",
       "<tr><td>14</td><td>Operation</td><td>operator:&nbsp;18<br>operands:&nbsp;19<br></td><td><a class=\"ProveItLink\" href=\"../88fa74af6deb6f302f84d75516051b6e7eec684c0/expr.ipynb\"><img src=\"../88fa74af6deb6f302f84d75516051b6e7eec684c0/expr.png\" style=\"display:inline;vertical-align:middle;\" /></a></td></tr>\n",
       "<tr><td>15</td><td>ExprTuple</td><td>29, 20</td><td><a class=\"ProveItLink\" href=\"../13263128595eab3cbb0d7b226b8f6e6eda0ba9a40/expr.ipynb\"><img src=\"../13263128595eab3cbb0d7b226b8f6e6eda0ba9a40/expr.png\" style=\"display:inline;vertical-align:middle;\" /></a></td></tr>\n",
       "<tr><td>16</td><td>ExprTuple</td><td>32, 20</td><td><a class=\"ProveItLink\" href=\"../1cec7219484835bb1a8f99347b9938cdf616708c0/expr.ipynb\"><img src=\"../1cec7219484835bb1a8f99347b9938cdf616708c0/expr.png\" style=\"display:inline;vertical-align:middle;\" /></a></td></tr>\n",
       "<tr><td>17</td><td>ExprTuple</td><td>26, 22</td><td><a class=\"ProveItLink\" href=\"../43cf56dd5c4fd9c5d6ca0453908f71631eb84b860/expr.ipynb\"><img src=\"../43cf56dd5c4fd9c5d6ca0453908f71631eb84b860/expr.png\" style=\"display:inline;vertical-align:middle;\" /></a></td></tr>\n",
       "<tr><td>18</td><td>Literal</td><td></td><td><a class=\"ProveItLink\" href=\"../../../../set_theory/membership/__pv_it/7776fc89cb67d0b5b1ec2c0c8e08da5587921ccf0/expr.ipynb\"><img src=\"../../../../set_theory/membership/__pv_it/7776fc89cb67d0b5b1ec2c0c8e08da5587921ccf0/expr.png\" style=\"display:inline;vertical-align:middle;\" /></a></td></tr>\n",
       "<tr><td>19</td><td>ExprTuple</td><td>21, 22</td><td><a class=\"ProveItLink\" href=\"../fe67220b46a10bfd609b823d998dd7f528c320030/expr.ipynb\"><img src=\"../fe67220b46a10bfd609b823d998dd7f528c320030/expr.png\" style=\"display:inline;vertical-align:middle;\" /></a></td></tr>\n",
       "<tr><td>20</td><td>Literal</td><td></td><td><a class=\"ProveItLink\" href=\"../../../../../number/sets/integer/__pv_it/b49c37b99b7e8d73a8d7971bcf454d693b90a2c60/expr.ipynb\"><img src=\"../../../../../number/sets/integer/__pv_it/b49c37b99b7e8d73a8d7971bcf454d693b90a2c60/expr.png\" style=\"display:inline;vertical-align:middle;\" /></a></td></tr>\n",
       "<tr><td>21</td><td>Operation</td><td>operator:&nbsp;23<br>operands:&nbsp;24<br></td><td><a class=\"ProveItLink\" href=\"../434162ed0e0efe4770061e3edd5d314ca56b83560/expr.ipynb\"><img src=\"../434162ed0e0efe4770061e3edd5d314ca56b83560/expr.png\" style=\"display:inline;vertical-align:middle;\" /></a></td></tr>\n",
       "<tr><td>22</td><td>Literal</td><td></td><td><a class=\"ProveItLink\" href=\"../../../__pv_it/a3b387936f605fef1b535be3e1116cca8bbfc91b0/expr.ipynb\"><img src=\"../../../__pv_it/a3b387936f605fef1b535be3e1116cca8bbfc91b0/expr.png\" style=\"display:inline;vertical-align:middle;\" /></a></td></tr>\n",
       "<tr><td>23</td><td>Literal</td><td></td><td><a class=\"ProveItLink\" href=\"../8a6d9fc46c84b3911a71fbae15627dc2acebe2890/expr.ipynb\"><img src=\"../8a6d9fc46c84b3911a71fbae15627dc2acebe2890/expr.png\" style=\"display:inline;vertical-align:middle;\" /></a></td></tr>\n",
       "<tr><td>24</td><td>ExprTuple</td><td>25, 26, 27</td><td><a class=\"ProveItLink\" href=\"../98e42a2044d3519e5284fc65758012508d4b9de00/expr.ipynb\"><img src=\"../98e42a2044d3519e5284fc65758012508d4b9de00/expr.png\" style=\"display:inline;vertical-align:middle;\" /></a></td></tr>\n",
       "<tr><td>25</td><td>ExprRange</td><td>lambda_map:&nbsp;28<br>start_index:&nbsp;31<br>end_index:&nbsp;29<br></td><td><a class=\"ProveItLink\" href=\"../../../../../core_expr_types/__pv_it/1b1836f58ac701e2bebc4117b7c7261052ae85ae0/expr.ipynb\"><img src=\"../../../../../core_expr_types/__pv_it/1b1836f58ac701e2bebc4117b7c7261052ae85ae0/expr.png\" style=\"display:inline;vertical-align:middle;\" /></a></td></tr>\n",
       "<tr><td>26</td><td>Variable</td><td></td><td><a class=\"ProveItLink\" href=\"../../../../../__pv_it/4d98b438710c5ada9ffa4646bb123a7d0e69ec000/expr.ipynb\"><img src=\"../../../../../__pv_it/4d98b438710c5ada9ffa4646bb123a7d0e69ec000/expr.png\" style=\"display:inline;vertical-align:middle;\" /></a></td></tr>\n",
       "<tr><td>27</td><td>ExprRange</td><td>lambda_map:&nbsp;30<br>start_index:&nbsp;31<br>end_index:&nbsp;32<br></td><td><a class=\"ProveItLink\" href=\"../../../../../core_expr_types/__pv_it/4f07bf761c2070b42d61d3523fc3908a9fcc11930/expr.ipynb\"><img src=\"../../../../../core_expr_types/__pv_it/4f07bf761c2070b42d61d3523fc3908a9fcc11930/expr.png\" style=\"display:inline;vertical-align:middle;\" /></a></td></tr>\n",
       "<tr><td>28</td><td>Lambda</td><td>parameter:&nbsp;37<br>body:&nbsp;33<br></td><td><a class=\"ProveItLink\" href=\"../../../../../core_expr_types/__pv_it/cbf4a2d6122f8f76eeb36bd1c0d8bf52d8e05a560/expr.ipynb\"><img src=\"../../../../../core_expr_types/__pv_it/cbf4a2d6122f8f76eeb36bd1c0d8bf52d8e05a560/expr.png\" style=\"display:inline;vertical-align:middle;\" /></a></td></tr>\n",
       "<tr><td>29</td><td>Variable</td><td></td><td><a class=\"ProveItLink\" href=\"../../../../../__pv_it/6e8a38e9a7e2b6af352562cd77e0eb4751f142620/expr.ipynb\"><img src=\"../../../../../__pv_it/6e8a38e9a7e2b6af352562cd77e0eb4751f142620/expr.png\" style=\"display:inline;vertical-align:middle;\" /></a></td></tr>\n",
       "<tr><td>30</td><td>Lambda</td><td>parameter:&nbsp;37<br>body:&nbsp;34<br></td><td><a class=\"ProveItLink\" href=\"../../../../../core_expr_types/__pv_it/1f1f93a97ffa923da2b370597cfe676c10d3dee70/expr.ipynb\"><img src=\"../../../../../core_expr_types/__pv_it/1f1f93a97ffa923da2b370597cfe676c10d3dee70/expr.png\" style=\"display:inline;vertical-align:middle;\" /></a></td></tr>\n",
       "<tr><td>31</td><td>Literal</td><td></td><td><a class=\"ProveItLink\" href=\"../../../../../number/numeral/__pv_it/f086f8c372bd40a2458306ddfdbb29f3dc6f63030/expr.ipynb\"><img src=\"../../../../../number/numeral/__pv_it/f086f8c372bd40a2458306ddfdbb29f3dc6f63030/expr.png\" style=\"display:inline;vertical-align:middle;\" /></a></td></tr>\n",
       "<tr><td>32</td><td>Variable</td><td></td><td><a class=\"ProveItLink\" href=\"../../../../../__pv_it/0c1c4cb515e0f4344b1ac06650f349123e526deb0/expr.ipynb\"><img src=\"../../../../../__pv_it/0c1c4cb515e0f4344b1ac06650f349123e526deb0/expr.png\" style=\"display:inline;vertical-align:middle;\" /></a></td></tr>\n",
       "<tr><td>33</td><td>IndexedVar</td><td>variable:&nbsp;35<br>index:&nbsp;37<br></td><td><a class=\"ProveItLink\" href=\"../../../../../core_expr_types/__pv_it/a433d6021a2b0d85d326303b1d692b18969c0dc30/expr.ipynb\"><img src=\"../../../../../core_expr_types/__pv_it/a433d6021a2b0d85d326303b1d692b18969c0dc30/expr.png\" style=\"display:inline;vertical-align:middle;\" /></a></td></tr>\n",
       "<tr><td>34</td><td>IndexedVar</td><td>variable:&nbsp;36<br>index:&nbsp;37<br></td><td><a class=\"ProveItLink\" href=\"../../../../../core_expr_types/__pv_it/3b86bd3b2e16136132e508dd7cfa1ad89a15b7bf0/expr.ipynb\"><img src=\"../../../../../core_expr_types/__pv_it/3b86bd3b2e16136132e508dd7cfa1ad89a15b7bf0/expr.png\" style=\"display:inline;vertical-align:middle;\" /></a></td></tr>\n",
       "<tr><td>35</td><td>Variable</td><td></td><td><a class=\"ProveItLink\" href=\"../../../../../__pv_it/d3792d0d8642fdf1cd2a3a9b32c673ee13653de00/expr.ipynb\"><img src=\"../../../../../__pv_it/d3792d0d8642fdf1cd2a3a9b32c673ee13653de00/expr.png\" style=\"display:inline;vertical-align:middle;\" /></a></td></tr>\n",
       "<tr><td>36</td><td>Variable</td><td></td><td><a class=\"ProveItLink\" href=\"../../../../../__pv_it/dcb5a3e430485237dfe486162b026a4affb149300/expr.ipynb\"><img src=\"../../../../../__pv_it/dcb5a3e430485237dfe486162b026a4affb149300/expr.png\" style=\"display:inline;vertical-align:middle;\" /></a></td></tr>\n",
       "<tr><td>37</td><td>Variable</td><td></td><td><a class=\"ProveItLink\" href=\"../../../../../core_expr_types/__pv_it/1e653f789234b245ee7fea7caad998c139d617410/expr.ipynb\"><img src=\"../../../../../core_expr_types/__pv_it/1e653f789234b245ee7fea7caad998c139d617410/expr.png\" style=\"display:inline;vertical-align:middle;\" /></a></td></tr>\n",
       "</table>\n"
      ],
      "text/plain": [
       "0. forall_{m in Naturals, n in Naturals} [forall_{A_{1}, ..A_{_a}.., A_{m}, B, C_{1}, ..C_{_a}.., C_{n} | (A_{1} or ..A_{_a}.. or A_{m} or B or C_{1} or ..C_{_a}.. or C_{n}) in BOOLEANS} (B in BOOLEANS)]\n",
       "   core type: Operation\n",
       "   operator: 6\n",
       "   operand: 1\n",
       "1. (m, n) -> {forall_{A_{1}, ..A_{_a}.., A_{m}, B, C_{1}, ..C_{_a}.., C_{n} | (A_{1} or ..A_{_a}.. or A_{m} or B or C_{1} or ..C_{_a}.. or C_{n}) in BOOLEANS} (B in BOOLEANS) if m in Naturals ,  n in Naturals.\n",
       "   core type: Lambda\n",
       "   parameters: 2\\n   body: 3\n",
       "2. (m, n)\n",
       "   core type: ExprTuple\n",
       "   sub-expressions: 29, 32\n",
       "3. {forall_{A_{1}, ..A_{_a}.., A_{m}, B, C_{1}, ..C_{_a}.., C_{n} | (A_{1} or ..A_{_a}.. or A_{m} or B or C_{1} or ..C_{_a}.. or C_{n}) in BOOLEANS} (B in BOOLEANS) if m in Naturals ,  n in Naturals.\n",
       "   core type: Conditional\n",
       "   value: 4\n",
       "   condition: 5\n",
       "4. forall_{A_{1}, ..A_{_a}.., A_{m}, B, C_{1}, ..C_{_a}.., C_{n} | (A_{1} or ..A_{_a}.. or A_{m} or B or C_{1} or ..C_{_a}.. or C_{n}) in BOOLEANS} (B in BOOLEANS)\n",
       "   core type: Operation\n",
       "   operator: 6\n",
       "   operand: 7\n",
       "5. (m in Naturals) and (n in Naturals)\n",
       "   core type: Operation\n",
       "   operator: 8\n",
       "   operands: 9\n",
       "6. forall\n",
       "   core type: Literal\n",
       "   sub-expressions: \n",
       "7. (A_{1}, ..A_{_a}.., A_{m}, B, C_{1}, ..C_{_a}.., C_{n}) -> {B in BOOLEANS if (A_{1} or ..A_{_a}.. or A_{m} or B or C_{1} or ..C_{_a}.. or C_{n}) in BOOLEANS.\n",
       "   core type: Lambda\n",
       "   parameters: 24\\n   body: 10\n",
       "8. and\n",
       "   core type: Literal\n",
       "   sub-expressions: \n",
       "9. (m in Naturals, n in Naturals)\n",
       "   core type: ExprTuple\n",
       "   sub-expressions: 11, 12\n",
       "10. {B in BOOLEANS if (A_{1} or ..A_{_a}.. or A_{m} or B or C_{1} or ..C_{_a}.. or C_{n}) in BOOLEANS.\n",
       "    core type: Conditional\n",
       "    value: 13\n",
       "    condition: 14\n",
       "11. m in Naturals\n",
       "    core type: Operation\n",
       "    operator: 18\n",
       "    operands: 15\n",
       "12. n in Naturals\n",
       "    core type: Operation\n",
       "    operator: 18\n",
       "    operands: 16\n",
       "13. B in BOOLEANS\n",
       "    core type: Operation\n",
       "    operator: 18\n",
       "    operands: 17\n",
       "14. (A_{1} or ..A_{_a}.. or A_{m} or B or C_{1} or ..C_{_a}.. or C_{n}) in BOOLEANS\n",
       "    core type: Operation\n",
       "    operator: 18\n",
       "    operands: 19\n",
       "15. (m, Naturals)\n",
       "    core type: ExprTuple\n",
       "    sub-expressions: 29, 20\n",
       "16. (n, Naturals)\n",
       "    core type: ExprTuple\n",
       "    sub-expressions: 32, 20\n",
       "17. (B, BOOLEANS)\n",
       "    core type: ExprTuple\n",
       "    sub-expressions: 26, 22\n",
       "18. in\n",
       "    core type: Literal\n",
       "    sub-expressions: \n",
       "19. (A_{1} or ..A_{_a}.. or A_{m} or B or C_{1} or ..C_{_a}.. or C_{n}, BOOLEANS)\n",
       "    core type: ExprTuple\n",
       "    sub-expressions: 21, 22\n",
       "20. Naturals\n",
       "    core type: Literal\n",
       "    sub-expressions: \n",
       "21. A_{1} or ..A_{_a}.. or A_{m} or B or C_{1} or ..C_{_a}.. or C_{n}\n",
       "    core type: Operation\n",
       "    operator: 23\n",
       "    operands: 24\n",
       "22. BOOLEANS\n",
       "    core type: Literal\n",
       "    sub-expressions: \n",
       "23. or\n",
       "    core type: Literal\n",
       "    sub-expressions: \n",
       "24. (A_{1}, ..A_{_a}.., A_{m}, B, C_{1}, ..C_{_a}.., C_{n})\n",
       "    core type: ExprTuple\n",
       "    sub-expressions: 25, 26, 27\n",
       "25. A_{1}, ..A_{_a}.., A_{m}\n",
       "    core type: ExprRange\n",
       "    lambda_map: 28\n",
       "    start_index: 31\n",
       "    end_index: 29\n",
       "26. B\n",
       "    core type: Variable\n",
       "    sub-expressions: \n",
       "27. C_{1}, ..C_{_a}.., C_{n}\n",
       "    core type: ExprRange\n",
       "    lambda_map: 30\n",
       "    start_index: 31\n",
       "    end_index: 32\n",
       "28. _a -> A_{_a}\n",
       "    core type: Lambda\n",
       "    parameter: 37\n",
       "    body: 33\n",
       "29. m\n",
       "    core type: Variable\n",
       "    sub-expressions: \n",
       "30. _a -> C_{_a}\n",
       "    core type: Lambda\n",
       "    parameter: 37\n",
       "    body: 34\n",
       "31. 1\n",
       "    core type: Literal\n",
       "    sub-expressions: \n",
       "32. n\n",
       "    core type: Variable\n",
       "    sub-expressions: \n",
       "33. A_{_a}\n",
       "    core type: IndexedVar\n",
       "variable: 35\n",
       "index: 37\n",
       "34. C_{_a}\n",
       "    core type: IndexedVar\n",
       "variable: 36\n",
       "index: 37\n",
       "35. A\n",
       "    core type: Variable\n",
       "    sub-expressions: \n",
       "36. C\n",
       "    core type: Variable\n",
       "    sub-expressions: \n",
       "37. _a\n",
       "    core type: Variable\n",
       "    sub-expressions: "
      ]
     },
     "execution_count": 4,
     "metadata": {},
     "output_type": "execute_result"
    }
   ],
   "source": [
    "# display the expression information\n",
    "eachInBool.exprInfo()"
   ]
  },
  {
   "cell_type": "code",
   "execution_count": null,
   "metadata": {},
   "outputs": [],
   "source": []
  }
 ],
 "metadata": {
  "kernelspec": {
   "display_name": "Python 3",
   "language": "python",
   "name": "python3"
  },
  "language_info": {
   "codemirror_mode": {
    "name": "ipython",
    "version": 3
   },
   "file_extension": ".py",
   "mimetype": "text/x-python",
   "name": "python",
   "nbconvert_exporter": "python",
   "pygments_lexer": "ipython3",
   "version": "3.7.3"
  }
 },
 "nbformat": 4,
 "nbformat_minor": 1
}
