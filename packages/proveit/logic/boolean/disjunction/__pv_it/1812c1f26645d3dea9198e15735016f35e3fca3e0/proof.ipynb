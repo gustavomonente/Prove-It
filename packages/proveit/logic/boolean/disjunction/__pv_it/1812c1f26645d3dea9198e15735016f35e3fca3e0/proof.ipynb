{
 "cells": [
  {
   "cell_type": "markdown",
   "metadata": {},
   "source": [
    "Show the Proof\n",
    "========"
   ]
  },
  {
   "cell_type": "code",
   "execution_count": 1,
   "metadata": {},
   "outputs": [
    {
     "data": {
      "text/html": [
       "<table><tr><th>&nbsp;</th><th>step type</th><th>requirements</th><th>statement</th></tr>\n",
       "<tr><td><a name=\"proveit.logic.boolean.disjunction.1812c1f26645d3dea9198e15735016f35e3fca3e0_step0\">0</a></td><td>instantiation</td><td><a href=\"#proveit.logic.boolean.disjunction.1812c1f26645d3dea9198e15735016f35e3fca3e0_step1\">1</a>, <a href=\"#proveit.logic.boolean.disjunction.1812c1f26645d3dea9198e15735016f35e3fca3e0_step2\">2</a>, <a href=\"#proveit.logic.boolean.disjunction.1812c1f26645d3dea9198e15735016f35e3fca3e0_step3\">3</a></td><td><span style=\"font-size:20px;\"><a class=\"ProveItLink\" href=\"../92b80b46b2a863d0edd684ac159f5bd1484346870/expr.ipynb\"><img src=\"../92b80b46b2a863d0edd684ac159f5bd1484346870/expr.png\" style=\"display:inline;vertical-align:middle;\" /></a> <a class=\"ProveItLink\" href=\"proof.ipynb\" style=\"text-decoration: none\">&#x22A2;&nbsp;</a><a class=\"ProveItLink\" href=\"../03944cb7b285760a48a079249666c3e359f8105b0/expr.ipynb\"><img src=\"../03944cb7b285760a48a079249666c3e359f8105b0/expr.png\" style=\"display:inline;vertical-align:middle;\" /></a></span></td></tr>\n",
       "<tr><td>&nbsp;</td><td colspan=4 style=\"text-align:left\"><span style=\"font-size:20px;\"><a class=\"ProveItLink\" href=\"../6adf35e534b0f74f25bdd03c03dfd88a84b3ace50/expr.ipynb\"><img src=\"../6adf35e534b0f74f25bdd03c03dfd88a84b3ace50/expr.png\" style=\"display:inline;vertical-align:middle;\" /></a> : <a class=\"ProveItLink\" href=\"../7f5851d30d9071ac5add92b1415dd8c1d59a5c620/expr.ipynb\"><img src=\"../7f5851d30d9071ac5add92b1415dd8c1d59a5c620/expr.png\" style=\"display:inline;vertical-align:middle;\" /></a>, <a class=\"ProveItLink\" href=\"../../../../../__pv_it/72df168d2bfb4e0140af90912ebf83b13772060b0/expr.ipynb\"><img src=\"../../../../../__pv_it/72df168d2bfb4e0140af90912ebf83b13772060b0/expr.png\" style=\"display:inline;vertical-align:middle;\" /></a> : <a class=\"ProveItLink\" href=\"../cd3b88d5bae03017034c1892218f088cbe51b4bb0/expr.ipynb\"><img src=\"../cd3b88d5bae03017034c1892218f088cbe51b4bb0/expr.png\" style=\"display:inline;vertical-align:middle;\" /></a></span></td></tr><tr><td><a name=\"proveit.logic.boolean.disjunction.1812c1f26645d3dea9198e15735016f35e3fca3e0_step1\">1</a></td><td>theorem</td><td></td><td><span style=\"font-size:20px;\"> <a class=\"ProveItLink\" href=\"../../../../equality/_proofs_/substituteTruth.ipynb\" style=\"text-decoration: none\">&#x22A2;&nbsp;</a><a class=\"ProveItLink\" href=\"../c2cb97100b117f143ca3c09a77f75b44bb41e6160/expr.ipynb\"><img src=\"../c2cb97100b117f143ca3c09a77f75b44bb41e6160/expr.png\" style=\"display:inline;vertical-align:middle;\" /></a></span></td></tr>\n",
       "<tr><td>&nbsp;</td><td colspan=4 style-\"text-align:left\"><a class=\"ProveItLink\" href=\"../../../../equality/_proofs_/substituteTruth.ipynb\">proveit.logic.equality.substituteTruth</a></td></tr><tr><td><a name=\"proveit.logic.boolean.disjunction.1812c1f26645d3dea9198e15735016f35e3fca3e0_step2\">2</a></td><td>theorem</td><td></td><td><span style=\"font-size:20px;\"> <a class=\"ProveItLink\" href=\"../../../_proofs_/trueInBool.ipynb\" style=\"text-decoration: none\">&#x22A2;&nbsp;</a><a class=\"ProveItLink\" href=\"../2f88e5c6f7ea7ef0da11c50a533a1f221022588f0/expr.ipynb\"><img src=\"../2f88e5c6f7ea7ef0da11c50a533a1f221022588f0/expr.png\" style=\"display:inline;vertical-align:middle;\" /></a></span></td></tr>\n",
       "<tr><td>&nbsp;</td><td colspan=4 style-\"text-align:left\"><a class=\"ProveItLink\" href=\"../../../_proofs_/trueInBool.ipynb\">proveit.logic.boolean.trueInBool</a></td></tr><tr><td><a name=\"proveit.logic.boolean.disjunction.1812c1f26645d3dea9198e15735016f35e3fca3e0_step3\">3</a></td><td>assumption</td><td></td><td><span style=\"font-size:20px;\"><a class=\"ProveItLink\" href=\"../92b80b46b2a863d0edd684ac159f5bd1484346870/expr.ipynb\"><img src=\"../92b80b46b2a863d0edd684ac159f5bd1484346870/expr.png\" style=\"display:inline;vertical-align:middle;\" /></a> <a class=\"ProveItLink\" href=\"../da3af16e06d0b8a75041d80c60ef9dde6aa88f8c0/proof.ipynb\" style=\"text-decoration: none\">&#x22A2;&nbsp;</a><a class=\"ProveItLink\" href=\"../cd3b88d5bae03017034c1892218f088cbe51b4bb0/expr.ipynb\"><img src=\"../cd3b88d5bae03017034c1892218f088cbe51b4bb0/expr.png\" style=\"display:inline;vertical-align:middle;\" /></a></span></td></tr>\n",
       "</table>"
      ],
      "text/plain": [
       "<proveit._core_.proof._ShowProof at 0x7f5b98ff17f0>"
      ]
     },
     "execution_count": 1,
     "metadata": {},
     "output_type": "execute_result"
    }
   ],
   "source": [
    "import proveit\n",
    "# Automation is not needed when only showing a stored proof:\n",
    "proveit.defaults.automation = False # This will speed things up.\n",
    "proveit.defaults.inline_pngs = False # Makes files smaller.\n",
    "%show_proof"
   ]
  },
  {
   "cell_type": "code",
   "execution_count": null,
   "metadata": {},
   "outputs": [],
   "source": []
  }
 ],
 "metadata": {
  "kernelspec": {
   "display_name": "Python 3",
   "language": "python",
   "name": "python3"
  },
  "language_info": {
   "codemirror_mode": {
    "name": "ipython",
    "version": 3
   },
   "file_extension": ".py",
   "mimetype": "text/x-python",
   "name": "python",
   "nbconvert_exporter": "python",
   "pygments_lexer": "ipython3",
   "version": "3.7.3"
  }
 },
 "nbformat": 4,
 "nbformat_minor": 1
}
