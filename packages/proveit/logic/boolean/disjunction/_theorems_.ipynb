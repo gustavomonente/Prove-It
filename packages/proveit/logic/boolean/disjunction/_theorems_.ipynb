{
 "cells": [
  {
   "cell_type": "markdown",
   "metadata": {},
   "source": [
    "Theorems for context <a href=\"_context_.ipynb\" class=\"ProveItLink\">proveit.logic.boolean.disjunction</a>\n",
    "========"
   ]
  },
  {
   "cell_type": "code",
   "execution_count": null,
   "metadata": {},
   "outputs": [],
   "source": [
    "import proveit\n",
    "# Automation is not needed when building theorem expressions:\n",
    "proveit.defaults.automation = False # This will speed things up.\n",
    "from proveit import varIter\n",
    "from proveit import Lambda, Iter, IndexedVar\n",
    "from proveit._common_ import A, B, C, D, E, AA, BB, CC, DD, EE, i, j, k, l, m, n\n",
    "from proveit.logic import Or, TRUE, FALSE, Forall, Implies, Not, inBool, And, Booleans, Equals, Set\n",
    "from proveit.logic._common_ import iterA1l, iterA1m, iterB1m, iterC1m, iterC1n, iterD1n\n",
    "from proveit.number import Naturals, NaturalsPos, Add, Exp, one, LessEq, LesserSequence\n",
    "%begin theorems"
   ]
  },
  {
   "cell_type": "code",
   "execution_count": null,
   "metadata": {},
   "outputs": [],
   "source": [
    "trueOrTrue = Or(TRUE, TRUE)"
   ]
  },
  {
   "cell_type": "code",
   "execution_count": null,
   "metadata": {},
   "outputs": [],
   "source": [
    "trueOrFalse = Or(TRUE, FALSE)"
   ]
  },
  {
   "cell_type": "code",
   "execution_count": null,
   "metadata": {},
   "outputs": [],
   "source": [
    "falseOrTrue = Or(FALSE, TRUE)"
   ]
  },
  {
   "cell_type": "code",
   "execution_count": null,
   "metadata": {},
   "outputs": [],
   "source": [
    "falseOrFalseNegated = Not(Or(FALSE, FALSE))"
   ]
  },
  {
   "cell_type": "code",
   "execution_count": null,
   "metadata": {},
   "outputs": [],
   "source": [
    "orIfBoth = Forall((A, B), Or(A, B), conditions=[A, B])"
   ]
  },
  {
   "cell_type": "code",
   "execution_count": null,
   "metadata": {},
   "outputs": [],
   "source": [
    "orIfOnlyLeft = Forall((A, B), Or(A, B), conditions=[A, Not(B)])"
   ]
  },
  {
   "cell_type": "code",
   "execution_count": null,
   "metadata": {},
   "outputs": [],
   "source": [
    "orIfOnlyRight = Forall((A, B), Or(A, B), conditions=[Not(A), B])"
   ]
  },
  {
   "cell_type": "code",
   "execution_count": null,
   "metadata": {},
   "outputs": [],
   "source": [
    "neitherIntro = Forall((A, B), Not(Or(A, B)), conditions=[Not(A), Not(B)])"
   ]
  },
  {
   "cell_type": "code",
   "execution_count": null,
   "metadata": {},
   "outputs": [],
   "source": [
    "binaryOrContradiction = Forall((A, B), FALSE, conditions=(Or(A, B), Not(A), Not(B)))"
   ]
  },
  {
   "cell_type": "code",
   "execution_count": null,
   "metadata": {},
   "outputs": [],
   "source": [
    "leftIfNotRight = Forall((A, B), A, domain=Booleans, conditions=(Or(A, B), Not(B)))"
   ]
  },
  {
   "cell_type": "code",
   "execution_count": null,
   "metadata": {},
   "outputs": [],
   "source": [
    "rightIfNotLeft = Forall((A, B), B, domain=Booleans, conditions=(Or(A, B), Not(A)))"
   ]
  },
  {
   "cell_type": "markdown",
   "metadata": {},
   "source": [
    "This **constrained singular constructive dilemma** will require a single provable $C$ be designated as a Boolean.  The \"unconstrained\" version will drop this constraint, using the constrained version as a convenient Lemma.  This will all culminate to the **constructive dilemma**, below, that can prove some $C \\lor D$ given $A \\lor B$, $A \\Rightarrow C$ and $B \\Rightarrow D$."
   ]
  },
  {
   "cell_type": "code",
   "execution_count": null,
   "metadata": {},
   "outputs": [],
   "source": [
    "constrainedSingularConstructiveDilemma = Forall((A, B, C), C, conditions=[Or(A, B), Implies(A, C), Implies(B, C)],\n",
    "                                                domain=Booleans)"
   ]
  },
  {
   "cell_type": "code",
   "execution_count": null,
   "metadata": {},
   "outputs": [],
   "source": [
    "singularConstructiveDilemma = Forall((A, B), Forall(C, C, conditions=[Implies(A, C), Implies(B, C)]), \n",
    "                                     domain=Booleans, conditions=[Or(A, B)])"
   ]
  },
  {
   "cell_type": "code",
   "execution_count": null,
   "metadata": {},
   "outputs": [],
   "source": [
    "singularConstructiveMultiDilemma = \\\n",
    "    Forall(m, \n",
    "           Forall(iterA1m,\n",
    "                  Forall(C, C,\n",
    "                         conditions=[Iter(i, Implies(IndexedVar(AA,i),\n",
    "                                                     C), \n",
    "                                          one, m)]),\n",
    "                  domain=Booleans,\n",
    "                  conditions=[Or(iterA1m)]),\n",
    "           domain = Naturals)"
   ]
  },
  {
   "cell_type": "code",
   "execution_count": null,
   "metadata": {},
   "outputs": [],
   "source": []
  },
  {
   "cell_type": "code",
   "execution_count": null,
   "metadata": {},
   "outputs": [],
   "source": [
    "orIfLeft = Forall((A, B), Or(A, B), domain=Booleans, conditions=[A])"
   ]
  },
  {
   "cell_type": "code",
   "execution_count": null,
   "metadata": {},
   "outputs": [],
   "source": [
    "orIfRight = Forall((A, B), Or(A, B), domain=Booleans, conditions=[B])"
   ]
  },
  {
   "cell_type": "code",
   "execution_count": null,
   "metadata": {},
   "outputs": [],
   "source": [
    "constructiveDilemma = Forall((A, B, C, D), Or(C, D), domain=Booleans, \n",
    "                             conditions=[Or(A, B), Implies(A, C), Implies(B, D)])"
   ]
  },
  {
   "cell_type": "code",
   "execution_count": null,
   "metadata": {},
   "outputs": [],
   "source": [
    "constructiveMultiDilemma = \\\n",
    "    Forall(m, \n",
    "           Forall((iterA1m, iterB1m), \n",
    "                  Or(iterB1m),\n",
    "                  domain=Booleans,\n",
    "                  conditions=[Or(iterA1m), \n",
    "                              Iter(i,Implies(IndexedVar(AA,i), \n",
    "                                             IndexedVar(BB,i)),\n",
    "                                   one, m)]),\n",
    "           domain = Naturals)"
   ]
  },
  {
   "cell_type": "code",
   "execution_count": null,
   "metadata": {},
   "outputs": [],
   "source": [
    "destructiveDilemma = Forall((A, B, C, D), Or(Not(A), Not(B)), domain=Booleans, \n",
    "                            conditions=[Or(Not(C), Not(D)), Implies(A, C), Implies(B, D)])"
   ]
  },
  {
   "cell_type": "code",
   "execution_count": null,
   "metadata": {},
   "outputs": [],
   "source": [
    "destructiveMultiDilemma = \\\n",
    "    Forall(m,\n",
    "           Forall((iterA1m, iterB1m), \n",
    "                  Or(Iter(i, Not(IndexedVar(BB,i)), one, m)), \n",
    "                  domain=Booleans, \n",
    "                  conditions=[Or(Iter(i, Not(IndexedVar(AA,i)), \n",
    "                                      one, m)), \n",
    "                              Iter(i,Implies(IndexedVar(AA, i), \n",
    "                                             IndexedVar(BB, i)),\n",
    "                                   one,m)]), \n",
    "           domain=Naturals)"
   ]
  },
  {
   "cell_type": "code",
   "execution_count": null,
   "metadata": {},
   "outputs": [],
   "source": [
    "notLeftIfNeither = Forall((A, B), Not(A), conditions=(Not(Or(A, B))))"
   ]
  },
  {
   "cell_type": "code",
   "execution_count": null,
   "metadata": {},
   "outputs": [],
   "source": [
    "notRightIfNeither = Forall((A, B), Not(B), conditions=(Not(Or(A, B))))"
   ]
  },
  {
   "cell_type": "code",
   "execution_count": null,
   "metadata": {},
   "outputs": [],
   "source": []
  },
  {
   "cell_type": "code",
   "execution_count": null,
   "metadata": {},
   "outputs": [],
   "source": [
    "unaryDisjunctionLemma = Forall(A, (Equals(Or(A), Or(FALSE, A))), domain = Booleans)"
   ]
  },
  {
   "cell_type": "code",
   "execution_count": null,
   "metadata": {},
   "outputs": [],
   "source": [
    "unaryDisjunctionDef = Forall(A, Equals(Or(A), A), domain = Booleans)"
   ]
  },
  {
   "cell_type": "code",
   "execution_count": null,
   "metadata": {},
   "outputs": [],
   "source": [
    "eachInBool = \\\n",
    "    Forall((m, n), \n",
    "           Forall((iterA1m, B, iterC1n), \n",
    "                  inBool(B), \n",
    "                  conditions=inBool(Or(iterA1m, B, iterC1n))),\n",
    "           domain=Naturals)"
   ]
  },
  {
   "cell_type": "code",
   "execution_count": null,
   "metadata": {},
   "outputs": [],
   "source": [
    "orIfAny = Forall((m, n), \n",
    "                 Forall((AA, B, CC),\n",
    "                        Or(iterA1m, B, iterC1n),\n",
    "                        domain=Booleans, \n",
    "                        conditions=[B]),\n",
    "                 domain=Naturals)"
   ]
  },
  {
   "cell_type": "code",
   "execution_count": null,
   "metadata": {},
   "outputs": [],
   "source": [
    "notOrIfNotAny = \\\n",
    "    Forall(m, Forall(iterA1m, Not(Or(iterA1m)),\n",
    "                     conditions=[Iter(i, Not(IndexedVar(AA, i)), \n",
    "                                      one, m)]),\n",
    "           domain=Naturals)"
   ]
  },
  {
   "cell_type": "code",
   "execution_count": null,
   "metadata": {},
   "outputs": [],
   "source": [
    "orContradiction = \\\n",
    "    Forall(m, Forall(iterA1m, FALSE, \n",
    "                     conditions=(Or(iterA1m), \n",
    "                                 Iter(i, Not(IndexedVar(AA, i)), \n",
    "                                      one, m))),\n",
    "           domain=Naturals)"
   ]
  },
  {
   "cell_type": "code",
   "execution_count": null,
   "metadata": {},
   "outputs": [],
   "source": []
  },
  {
   "cell_type": "code",
   "execution_count": null,
   "metadata": {},
   "outputs": [],
   "source": [
    "trueEval = Forall((m, n), \n",
    "                  Forall((iterA1m, iterC1n), \n",
    "                         Equals(Or(iterA1m, TRUE, iterC1n), TRUE),\n",
    "                         domain=Booleans),\n",
    "                  domain=Naturals)"
   ]
  },
  {
   "cell_type": "code",
   "execution_count": null,
   "metadata": {},
   "outputs": [],
   "source": [
    "falseEval = Forall(m, Forall(iterA1m, \n",
    "                             Equals(Or(iterA1m), FALSE), \n",
    "                             domain=Set(FALSE)),\n",
    "                   domain=Naturals)"
   ]
  },
  {
   "cell_type": "code",
   "execution_count": null,
   "metadata": {},
   "outputs": [],
   "source": []
  },
  {
   "cell_type": "code",
   "execution_count": null,
   "metadata": {},
   "outputs": [],
   "source": [
    "binaryClosure = Forall((A, B), inBool(Or(A, B)), domain=Booleans)"
   ]
  },
  {
   "cell_type": "code",
   "execution_count": null,
   "metadata": {},
   "outputs": [],
   "source": [
    "closure = Forall(m, Forall(iterA1m, \n",
    "                           inBool(Or(iterA1m)), \n",
    "                           domain=Booleans),\n",
    "                 domain=Naturals)"
   ]
  },
  {
   "cell_type": "code",
   "execution_count": null,
   "metadata": {},
   "outputs": [],
   "source": [
    "demorgansLawAndToOrBinExplicit = \\\n",
    "    Forall((A,B), Or(A,B), \n",
    "           conditions=[Not(And(Not(A), Not(B)))], \n",
    "           domain=Booleans)"
   ]
  },
  {
   "cell_type": "code",
   "execution_count": null,
   "metadata": {},
   "outputs": [],
   "source": [
    "demorgansLawAndToOrBin = Forall((A,B), Or(A,B), \n",
    "                                conditions=[Not(And(Not(A), Not(B)))])"
   ]
  },
  {
   "cell_type": "code",
   "execution_count": null,
   "metadata": {},
   "outputs": [],
   "source": [
    "demorgansLawAndToOr = \\\n",
    "    Forall(m, Forall(iterA1m, Or(iterA1m), \n",
    "                     conditions=[Not(And(Iter(i, Not(IndexedVar(AA,i)),\n",
    "                                              one, m)))]),\n",
    "           domain=Naturals)"
   ]
  },
  {
   "cell_type": "code",
   "execution_count": null,
   "metadata": {},
   "outputs": [],
   "source": [
    "commutation = Forall((A, B), Equals(Or(A, B), Or(B, A)), \n",
    "                     domain=Booleans)"
   ]
  },
  {
   "cell_type": "code",
   "execution_count": null,
   "metadata": {},
   "outputs": [],
   "source": [
    "leftwardCommutation = \\\n",
    "    Forall((l, m, n),\n",
    "           Forall((iterA1l,iterB1m,C,iterD1n), \n",
    "                  Equals(Or(iterA1l, iterB1m, C, iterD1n), \n",
    "                         Or(iterA1l, C, iterB1m, iterD1n)) \\\n",
    "                  .withWrappingAt(2),\n",
    "                  domain=Booleans), \n",
    "           domain=Naturals)"
   ]
  },
  {
   "cell_type": "code",
   "execution_count": null,
   "metadata": {},
   "outputs": [],
   "source": [
    "rightwardCommutation = \\\n",
    "    Forall((l, m, n),\n",
    "           Forall((iterA1l,B,iterC1m,iterD1n), \n",
    "                  Equals(Or(iterA1l, B, iterC1m, iterD1n), \n",
    "                         Or(iterA1l, iterC1m, B, iterD1n)) \\\n",
    "                  .withWrappingAt(2),\n",
    "                  domain=Booleans),\n",
    "           domain = Naturals)"
   ]
  },
  {
   "cell_type": "code",
   "execution_count": null,
   "metadata": {},
   "outputs": [],
   "source": [
    "commute = Forall((A, B), Or(B, A), conditions=[Or(A, B)])"
   ]
  },
  {
   "cell_type": "code",
   "execution_count": null,
   "metadata": {},
   "outputs": [],
   "source": [
    "rightwardCommute = \\\n",
    "    Forall((l, m, n), \n",
    "           Forall((iterA1l,B,iterC1m,iterD1n), \n",
    "                  Or(iterA1l, iterC1m, B, iterD1n),\n",
    "                  conditions=[Or(iterA1l, B, iterC1m, iterD1n)]),\n",
    "           domain=Naturals)"
   ]
  },
  {
   "cell_type": "code",
   "execution_count": null,
   "metadata": {},
   "outputs": [],
   "source": [
    "leftwardCommute = \\\n",
    "    Forall((l, m, n), \n",
    "           Forall((iterA1l,iterB1m,C,iterD1n), \n",
    "                  Or(iterA1l, C, iterB1m,iterD1n),\n",
    "                  conditions=[Or(iterA1l, iterB1m, C, iterD1n)]),\n",
    "           domain=Naturals)"
   ]
  },
  {
   "cell_type": "code",
   "execution_count": null,
   "metadata": {},
   "outputs": [],
   "source": [
    "association = \\\n",
    "    Forall((l,m,n), \n",
    "           Forall((iterA1l,iterB1m,iterC1n), \n",
    "                  Equals(Or(iterA1l, iterB1m, iterC1n),\n",
    "                         Or(iterA1l, Or(iterB1m), iterC1n)) \\\n",
    "                  .withWrappingAt(2),\n",
    "                  domain=Booleans),\n",
    "           domain=Naturals)"
   ]
  },
  {
   "cell_type": "code",
   "execution_count": null,
   "metadata": {},
   "outputs": [],
   "source": [
    "disassociation = \\\n",
    "    Forall((l,m,n), \n",
    "           Forall((iterA1l,iterB1m,iterC1n), \n",
    "                  Equals(Or(iterA1l, Or(iterB1m), iterC1n),\n",
    "                         Or(iterA1l, iterB1m, iterC1n)) \\\n",
    "                  .withWrappingAt(2),\n",
    "                  domain=Booleans),\n",
    "           domain=Naturals)"
   ]
  },
  {
   "cell_type": "code",
   "execution_count": null,
   "metadata": {},
   "outputs": [],
   "source": [
    "associate = \\\n",
    "    Forall((l,m,n), \n",
    "           Forall((iterA1l,iterB1m,iterC1n), \n",
    "                  Or(iterA1l, Or(iterB1m), iterC1n),\n",
    "                  conditions=[Or(iterA1l, iterB1m, iterC1n)]),\n",
    "           domain=Naturals)"
   ]
  },
  {
   "cell_type": "code",
   "execution_count": null,
   "metadata": {},
   "outputs": [],
   "source": [
    "disassociate = \\\n",
    "    Forall((l,m,n), \n",
    "           Forall((iterA1l,iterB1m,iterC1n), \n",
    "                  Or(iterA1l, iterB1m, iterC1n),\n",
    "                  conditions=[Or(iterA1l, Or(iterB1m), iterC1n)]),\n",
    "           domain=Naturals)"
   ]
  },
  {
   "cell_type": "code",
   "execution_count": null,
   "metadata": {},
   "outputs": [],
   "source": [
    "%end theorems"
   ]
  },
  {
   "cell_type": "code",
   "execution_count": null,
   "metadata": {},
   "outputs": [],
   "source": []
  }
 ],
 "metadata": {
  "kernelspec": {
   "display_name": "Python 3",
   "language": "python",
   "name": "python3"
  }
 },
 "nbformat": 4,
 "nbformat_minor": 0
}
