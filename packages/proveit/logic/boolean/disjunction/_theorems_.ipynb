{
 "cells": [
  {
   "cell_type": "markdown",
   "metadata": {},
   "source": [
    "Theorems for context <a href=\"_context_.ipynb\" class=\"ProveItLink\">proveit.logic.boolean.disjunction</a>\n",
    "========"
   ]
  },
  {
   "cell_type": "code",
   "execution_count": 1,
   "metadata": {},
   "outputs": [
    {
     "name": "stdout",
     "output_type": "stream",
     "text": [
      "Defining theorems for context 'proveit.logic.boolean.disjunction'\n",
      "Subsequent end-of-cell assignments will define theorems\n",
      "'%end theorems' will finalize the definitions\n"
     ]
    }
   ],
   "source": [
    "import proveit\n",
    "# Automation is not needed when building theorem expressions:\n",
    "proveit.defaults.automation = False # This will speed things up.\n",
    "from proveit import Lambda, ExprRange, IndexedVar\n",
    "from proveit._common_ import A, B, C, D, E, i, j, k, l, m, n\n",
    "from proveit.logic import Or, TRUE, FALSE, Forall, Implies, Not, inBool, And, Booleans, Equals, Set\n",
    "from proveit.core_expr_types._common_ import A_1_to_l, A_1_to_m, B_1_to_m, C_1_to_m, C_1_to_n, D_1_to_n\n",
    "from proveit.number import Naturals, NaturalsPos, Add, Exp, one, LessEq, LesserSequence\n",
    "%begin theorems"
   ]
  },
  {
   "cell_type": "code",
   "execution_count": 2,
   "metadata": {},
   "outputs": [
    {
     "data": {
      "text/html": [
       "<strong id=\"trueOrTrue\"><a class=\"ProveItLink\" href=\"_proofs_/trueOrTrue.ipynb\">trueOrTrue</a>:</strong> <a class=\"ProveItLink\" href=\"__pv_it/4adbac21b979622f54a8418e5a9d4d51473be0000/expr.ipynb\"><img src=\"data:image/png;base64,iVBORw0KGgoAAAANSUhEUgAAADUAAAAPBAMAAAC2KZqIAAAALVBMVEX///92dnZERETc3NwyMjLu\n",
       "7u7MzMyYmJi6urqIiIiqqqpUVFQiIiJmZmYAAAAtULTAAAAAAXRSTlMAQObYZgAAAHlJREFUGNNj\n",
       "uHMGBE4zIAFesNCZDSD2SogQG5hMAJNcE6DqoHLcIGH2CVjl2ECG8ARglWNwBuJeBuxya4FYGYcc\n",
       "D9BcBRxynBMYuBtwyLEeYAhhwCHHcItBCqecCcMBnHJM6RNwyrHtCUCXa4eHsi+MwVHAgA5MUXgA\n",
       "6F4mSiD358QAAAAASUVORK5CYII=\n",
       "\" style=\"display:inline;vertical-align:middle;\" /></a><br>"
      ],
      "text/plain": [
       "trueOrTrue: TRUE or TRUE"
      ]
     },
     "execution_count": 2,
     "metadata": {},
     "output_type": "execute_result"
    }
   ],
   "source": [
    "trueOrTrue = Or(TRUE, TRUE)"
   ]
  },
  {
   "cell_type": "code",
   "execution_count": 3,
   "metadata": {},
   "outputs": [
    {
     "data": {
      "text/html": [
       "<strong id=\"trueOrFalse\"><a class=\"ProveItLink\" href=\"_proofs_/trueOrFalse.ipynb\">trueOrFalse</a>:</strong> <a class=\"ProveItLink\" href=\"__pv_it/39d2e82cf983c93e173d1434bd96b807f88bf65e0/expr.ipynb\"><img src=\"data:image/png;base64,iVBORw0KGgoAAAANSUhEUgAAADUAAAAPBAMAAAC2KZqIAAAAMFBMVEX///8QEBB2dnZERETc3Nwy\n",
       "MjLu7u7MzMyYmJi6urqIiIiqqqpUVFQiIiJmZmYAAACecvKAAAAAAXRSTlMAQObYZgAAAHtJREFU\n",
       "GNNjeHsXBO4woAL2DVDGLigfTBaASe4FqHI8IGGOBVjl2A8ACd4ErHIMIUA8jwG73D4gNsEhxws0\n",
       "1wCHHNcCBp4JOOTYLjCkMuCQY3jNoI1TzpXhAk455ooFOOXYzyagy82AB3EcmOS7e/ei7N27B1CD\n",
       "3w2FBwB6DinsStvkdwAAAABJRU5ErkJggg==\n",
       "\" style=\"display:inline;vertical-align:middle;\" /></a><br>"
      ],
      "text/plain": [
       "trueOrFalse: TRUE or FALSE"
      ]
     },
     "execution_count": 3,
     "metadata": {},
     "output_type": "execute_result"
    }
   ],
   "source": [
    "trueOrFalse = Or(TRUE, FALSE)"
   ]
  },
  {
   "cell_type": "code",
   "execution_count": 4,
   "metadata": {},
   "outputs": [
    {
     "data": {
      "text/html": [
       "<strong id=\"falseOrTrue\"><a class=\"ProveItLink\" href=\"_proofs_/falseOrTrue.ipynb\">falseOrTrue</a>:</strong> <a class=\"ProveItLink\" href=\"__pv_it/8124e15701680a1378c57092c649e314fb9f14170/expr.ipynb\"><img src=\"data:image/png;base64,iVBORw0KGgoAAAANSUhEUgAAADUAAAAPBAMAAAC2KZqIAAAAMFBMVEX///92dnZERES6urrc3Nwy\n",
       "MjLu7u6YmJhUVFQQEBAiIiJmZmaIiIiqqqrMzMwAAAAH70cZAAAAAXRSTlMAQObYZgAAAH9JREFU\n",
       "GNNjYGBgeMuACrhXgUEDiH0HIsQHJh+ASd4DUHVQOQ6QMPsBrHJ8IEO4ErDKMYQAsTUDdrnbQKyC\n",
       "Q44LaK4CDjmeAwwcBjjk2BYwpDLgkGPYyyCLU86VYQFOOabnB3DK8XUloMjtWrVq5qpVKyBC0TBV\n",
       "zAUM6MANhQcAQLgq4na1HsoAAAAASUVORK5CYII=\n",
       "\" style=\"display:inline;vertical-align:middle;\" /></a><br>"
      ],
      "text/plain": [
       "falseOrTrue: FALSE or TRUE"
      ]
     },
     "execution_count": 4,
     "metadata": {},
     "output_type": "execute_result"
    }
   ],
   "source": [
    "falseOrTrue = Or(FALSE, TRUE)"
   ]
  },
  {
   "cell_type": "code",
   "execution_count": 5,
   "metadata": {},
   "outputs": [
    {
     "data": {
      "text/html": [
       "<strong id=\"falseOrFalseNegated\"><a class=\"ProveItLink\" href=\"_proofs_/falseOrFalseNegated.ipynb\">falseOrFalseNegated</a>:</strong> <a class=\"ProveItLink\" href=\"__pv_it/7b21db2e1c00ae7c03b61376a829f5c4168615860/expr.ipynb\"><img src=\"data:image/png;base64,iVBORw0KGgoAAAANSUhEUgAAAFYAAAAUBAMAAADl6NejAAAAMFBMVEX///+6uroQEBCqqqqIiIgy\n",
       "MjJERETu7u6YmJjMzMxUVFTc3Nx2dnYiIiJmZmYAAAAutVgsAAAAAXRSTlMAQObYZgAAAQNJREFU\n",
       "KM9jYECAHQx4APMGZB57AoicjKmM0wBErkYWYgXrNIFwJoAVQY10AJGlyGr7GJDUrgQRLchqeRyQ\n",
       "1N5GVjsLRFxHVsuugFDKfQFZLchBjA+Q1TIEItSyPEBWywzksW1AUXsOoZatAVktA9CWaQwoalsZ\n",
       "3t4FgjtAJq8BiloXBoaFqGptIbxdQMwkgKK2loE9AFXtfJxq+Qx4DHCqRXMDdwAvA6paWYRaNL8x\n",
       "ZLYwoPuNARaZPA9Q1c66jqb2DSLMGIGhBAwUpbt3b0FiA6KX7+7dS7p37y5gYIjEiGNEPBag8tkv\n",
       "YKQdnAAl7bBtwKu2FDOt4wTZKDy8eYhjAwMArrU82qimWPQAAAAASUVORK5CYII=\n",
       "\" style=\"display:inline;vertical-align:middle;\" /></a><br>"
      ],
      "text/plain": [
       "falseOrFalseNegated: [not](FALSE or FALSE)"
      ]
     },
     "execution_count": 5,
     "metadata": {},
     "output_type": "execute_result"
    }
   ],
   "source": [
    "falseOrFalseNegated = Not(Or(FALSE, FALSE))"
   ]
  },
  {
   "cell_type": "code",
   "execution_count": 6,
   "metadata": {},
   "outputs": [
    {
     "data": {
      "text/html": [
       "<strong id=\"emptyDisjunctionEval\"><a class=\"ProveItLink\" href=\"_proofs_/emptyDisjunctionEval.ipynb\">emptyDisjunctionEval</a>:</strong> <a class=\"ProveItLink\" href=\"__pv_it/91fb95a3c5eeee8303236f31252cebce6cc4f52f0/expr.ipynb\"><img src=\"data:image/png;base64,iVBORw0KGgoAAAANSUhEUgAAAFYAAAAUBAMAAADl6NejAAAAMFBMVEX///8QEBBERESqqqpmZmbc\n",
       "3Nzu7u6YmJhUVFQiIiK6urp2dnbMzMwyMjKIiIgAAABj8LvFAAAAAXRSTlMAQObYZgAAAP9JREFU\n",
       "KM9jeHuHAQJqZ4GpcAZTBlxgFyqLTYGBIwCLssMQFTxgzgGIWt4ABrYLWNTaQdRyHABS7A8gakuA\n",
       "eB9utTwNQIozAaJ2KhAn4lbLcBVILYG4l3UCyB0LcKs1AVKqELV8DkCC2wG3Wk4GBh4FiFqmApDb\n",
       "wZ7bexcErqCp5XvAwLEAopbTAEgwT8BtLtsEhlxo+DKCnMrzAbdaBmeGzUSrjWWYwIDkBq4JCPfe\n",
       "QFfLdPwBA4bfcJjL05kAZYGDi2UDHrUMV2AssPW8B9AUes6cKThz5gyI2jC4LlAcZxKZJnGlHWxq\n",
       "mXCkSRxpnSkAl9qXsDz0FpaHSnEpBQCrmFWG51VrCAAAAABJRU5ErkJggg==\n",
       "\" style=\"display:inline;vertical-align:middle;\" /></a><br>"
      ],
      "text/plain": [
       "emptyDisjunctionEval: [or]() = FALSE"
      ]
     },
     "execution_count": 6,
     "metadata": {},
     "output_type": "execute_result"
    }
   ],
   "source": [
    "emptyDisjunctionEval = Equals(Or(), FALSE)"
   ]
  },
  {
   "cell_type": "code",
   "execution_count": 7,
   "metadata": {},
   "outputs": [
    {
     "data": {
      "text/html": [
       "<strong id=\"orIfBoth\"><a class=\"ProveItLink\" href=\"_proofs_/orIfBoth.ipynb\">orIfBoth</a>:</strong> <a class=\"ProveItLink\" href=\"__pv_it/154ae82737518142fc73edcda763b593cd2d6f800/expr.ipynb\"><img src=\"data:image/png;base64,iVBORw0KGgoAAAANSUhEUgAAAK0AAAAWBAMAAABAjAHGAAAAMFBMVEX///8QEBCIiIhmZma6urrM\n",
       "zMxUVFQiIiJERETc3Nzu7u6qqqp2dnaYmJgyMjIAAAAcRTyBAAAAAXRSTlMAQObYZgAAArxJREFU\n",
       "OMutVU1oE1EQ/tzsJtnNjz2JoIfc9KIpBCJosREvXqTVgzdtoIq9SIOCoChWEE2rkHiyCNqIQqVC\n",
       "Xeipp9Z6UKpIrCCIiIGezCWltb9S6ryZJDyjKaz6YN+8mXnv+2ZnZt8CfzUebOodp6ekFl88wjp9\n",
       "Ik812D9udCezKfjzwBullz3iRvMiK2qyeNnJ83bAtwiHgh0kze7ziPtBRKRSoNmvICMxplgHzAVg\n",
       "iqjJFXY94l4S8axdxW2laQooBhirxDAPPCIxPTJyzyOsnRFZjKeU+EbPYTYEWwjzMgVL9pVs9opH\n",
       "XKOVhVmYKCo5Rk8/W7amYV1UCaANZ2pGmY8svOyRqqSqKEFWzVxbsr9mYTg8QRdnNUC5kAp1nZu5\n",
       "pXIaKak3cLjXIt+lFi0It/CqVsyvQvAeeFG1BNwq8RAHbsTglz3xPJxtJEMZxWYw/eN1dvnSCK3p\n",
       "uE67RJcEJgpi2sIoVneil/c4GYyK47rCJlJrjnJRDLBt+oLEEoOvpOOGhyWb54GD0HFNWsjOA/IV\n",
       "AEsKNya4dukEs8ey7Hreib0FHfd4UIJahFH+JQ80BSRjDyENotoXvURqKr3/tLL5sY99HXt2p6Hj\n",
       "pn18yJyfuQm9bjbhRudEPxlDrX2tlWrdMMbnPiPOvnfALh034hp8OFyCUW1bbiOopg+uSpxn5Q2j\n",
       "FP6hAVWkSdV0isyZfZtj5x1gyNVwR9tecxmDk7B/VHHVaz7dKCOUW5bcz/Lsrywlem4zAX/aCs9X\n",
       "wBBfHXS2I6/h7oe9yC3vwlxt+I7r436DPlxfHaWTRXsA9hrsnVoeTErlOgaJtYC7kw33TtMxVa/E\n",
       "CuzcVWsHXi0kelIabq4Pg8vFY274WiJ5o34umN/8ei41GEK6ol+e7p/v9SbjN9rxJrihvKf/0KdG\n",
       "Q7EJbgT/cbT+y+GfLICz6m14FxAAAAAASUVORK5CYII=\n",
       "\" style=\"display:inline;vertical-align:middle;\" /></a><br>"
      ],
      "text/plain": [
       "orIfBoth: forall_{A, B | A, B} (A or B)"
      ]
     },
     "execution_count": 7,
     "metadata": {},
     "output_type": "execute_result"
    }
   ],
   "source": [
    "orIfBoth = Forall((A, B), Or(A, B), conditions=[A, B])"
   ]
  },
  {
   "cell_type": "code",
   "execution_count": 8,
   "metadata": {},
   "outputs": [
    {
     "data": {
      "text/html": [
       "<strong id=\"orIfOnlyLeft\"><a class=\"ProveItLink\" href=\"_proofs_/orIfOnlyLeft.ipynb\">orIfOnlyLeft</a>:</strong> <a class=\"ProveItLink\" href=\"__pv_it/f8fde34081738fd14e7ef1998177b77215a55ffd0/expr.ipynb\"><img src=\"data:image/png;base64,iVBORw0KGgoAAAANSUhEUgAAALgAAAAWBAMAAACBC0tqAAAAMFBMVEX///8QEBCIiIhmZma6urrM\n",
       "zMxUVFQiIiJERETc3Nzu7u6qqqp2dnaYmJgyMjIAAAAcRTyBAAAAAXRSTlMAQObYZgAAAqdJREFU\n",
       "OMutVU1oE0EU/rr53c1uzUFQ0MOCB3vRBAIKWkjAg14k0YOeNIEqxh5swGMVInhYRU1uBg9mRcFS\n",
       "IQZ6EE8eelCqyN6lNlI92EvF1vRHSp15k90dAim4+iAzk/ftfDPve+/tAsFNdXZCE3Wgwxfzgcin\n",
       "xHSxz21MdDPl28BV4D3/vxSI/LuYlvkQoWWBxqEqkC2gBTR4fNUg3EZaTMs2G6Oc1zDJU2Ry5dPQ\n",
       "TQwzSG8HIY/VaXqR5XOkxD02eVLMsWBCS8KYm55+GEiV3i4nlXM1OiE8twBtDzvnK7BuWTcCkR+g\n",
       "MWy/oaKZYb87AugC58fZPAtcdp1iPLUyW6Z4wy5JvO4Teiiz+zQ+Q5GUjjFpROoi3fmRSb74zGPR\n",
       "qByNVZGfJPQkcbqECzkpiS7KjAiQQ5MSq5iIigeVDeAJT8ErfqRCcT3dIihUQmJTJteyUq94KLPd\n",
       "dM2xzARdWKvw2qON7HTlN68aVipOjHxz10UNmAh1ZHL9eVqqEBd1yZl4Q8JxXLQMsIvdWvkpyNXO\n",
       "ObqCaRH0soDDtkx+Ni51gYe6srAijgmdHqMCr8yjXOOTPJGXuCuKowTlD42UIJOXQhWf3EN7CVUZ\n",
       "+fAP8fwF0UJU5sWqSChmaPMnpAj6CByUyY22wjfrlmU9kFBRaVTr8Q1RJFd6IX1hYu3l61GuET9R\n",
       "W/xQI/Ae0GxL5K3Rd24GoxIqop7aXkKitiaSsijc17bHjlj0zDd+N04astGk1w5Lc74ukR+D+ssn\n",
       "91C//T171NdkmifnaRaBo96Fugl1vyRLmGVnCw1bkPuo/+IaaLrpduE61NrNyD68XcmUcxJ5rYrG\n",
       "mnOGwlQl1G/pgdbq/3pI67gMtHf4WAyy/rNfDyBP1P/+M2f073EGkBv4zxb6d4o/EcuqnWMUERMA\n",
       "AAAASUVORK5CYII=\n",
       "\" style=\"display:inline;vertical-align:middle;\" /></a><br>"
      ],
      "text/plain": [
       "orIfOnlyLeft: forall_{A, B | A, [not](B)} (A or B)"
      ]
     },
     "execution_count": 8,
     "metadata": {},
     "output_type": "execute_result"
    }
   ],
   "source": [
    "orIfOnlyLeft = Forall((A, B), Or(A, B), conditions=[A, Not(B)])"
   ]
  },
  {
   "cell_type": "code",
   "execution_count": 9,
   "metadata": {},
   "outputs": [
    {
     "data": {
      "text/html": [
       "<strong id=\"orIfOnlyRight\"><a class=\"ProveItLink\" href=\"_proofs_/orIfOnlyRight.ipynb\">orIfOnlyRight</a>:</strong> <a class=\"ProveItLink\" href=\"__pv_it/073424ddabc0b57f250a6589b4b2fe8e6ff1fbfe0/expr.ipynb\"><img src=\"data:image/png;base64,iVBORw0KGgoAAAANSUhEUgAAALgAAAAWBAMAAACBC0tqAAAAMFBMVEX///8QEBCIiIhmZma6urrM\n",
       "zMxUVFQiIiJERETc3Nzu7u6qqqp2dnaYmJgyMjIAAAAcRTyBAAAAAXRSTlMAQObYZgAAAnVJREFU\n",
       "OMutVT1oU1EU/po0P+8lr2YQFHR44GAXTSGgg0IDDrpIMumkCVQxOtiAowopODxFSTbFwUR0KBVq\n",
       "oYN0cuigVJG3SzVSHexSsSX9Ean3nJM0zX1JwKcHcs/J+d797j0/917AvxhuPzRWAepkLPoinxR1\n",
       "UXNb441U4Q5wFXhH/5d9kX8XtUJDiM0sjwMlYDSLaeARxVfyw22NiFqpqTFMvJbNnpxKV2YEcRtD\n",
       "CorP+CGPVFi9GCUdypOnxp6kcny2YSZgLUxNPfSVleYsN5lu5eiUeCYAc59a5yuw4Ti3fJEf4nGw\n",
       "9pqbZlb97grQAM5fU3oeuNxyynhmdb7A8Q52Ummokgc8PkeOMx1RqZHShRqLwzfJ+ESxmNyO1prU\n",
       "J4F4goxoZ/U0VAkTII0qFzZgI8z5QWATeEoleEVLBjiuZ78ZCuYR2/KS66iSvbzNsdQ4b9gsUu/x\n",
       "RLV64Bd1jWoVN8K+hRvSAzaCdS+5jrbIVfIGxHFCjgywR+068FPIjfo53oLtMPQyi6M1D7kHbaVF\n",
       "NXFE8vQERey0eZiyeJpKdYlcYRxnKHNkOA8PuQdtFtRQ5EM/5PsLcoS4zXMlKShmecWPSDL0ATi8\n",
       "i/yt4zj1Lqh0Gvd6dFOCu9IM6YtK1n6yT1KOaEVz6X2ZwftAdaZz5/kuqEQ9ub2MWHld7oElcV/f\n",
       "Hjvm8DffqL1oWrCGKl87qsyZik7uRdvHf0cea4fMLLassyoC17gHYwvGQejkXrR9cfWUeLMGiG7A\n",
       "KN8OHcCb1VQhrZFXuqDtQ9tTpvXXY5cd9b4t3R+LXqKvPdeXfO6vnjlLKwncvuQu/psE/53iD6bn\n",
       "qdpyfaMCAAAAAElFTkSuQmCC\n",
       "\" style=\"display:inline;vertical-align:middle;\" /></a><br>"
      ],
      "text/plain": [
       "orIfOnlyRight: forall_{A, B | [not](A), B} (A or B)"
      ]
     },
     "execution_count": 9,
     "metadata": {},
     "output_type": "execute_result"
    }
   ],
   "source": [
    "orIfOnlyRight = Forall((A, B), Or(A, B), conditions=[Not(A), B])"
   ]
  },
  {
   "cell_type": "code",
   "execution_count": 10,
   "metadata": {},
   "outputs": [
    {
     "data": {
      "text/html": [
       "<strong id=\"neitherIntro\"><a class=\"ProveItLink\" href=\"_proofs_/neitherIntro.ipynb\">neitherIntro</a>:</strong> <a class=\"ProveItLink\" href=\"__pv_it/f0b01493e7cf0c20f88c9edb332ece7ce3402e010/expr.ipynb\"><img src=\"data:image/png;base64,iVBORw0KGgoAAAANSUhEUgAAAOEAAAAWBAMAAADECuboAAAAMFBMVEX///8QEBCIiIhmZma6urrM\n",
       "zMxUVFQiIiJERETc3Nzu7u6qqqp2dnaYmJgyMjIAAAAcRTyBAAAAAXRSTlMAQObYZgAAAudJREFU\n",
       "SMe1Vk1oE0EU/kyySTb/BxFBDwEPetEUAvGgaKQHvUhz8qYNVLEXaVBQsIoKopuqJJ4qHkxEwVJB\n",
       "Cz311GgPShWJPQgiQqAnc2lp2ppWSp15bzc/u1mRlD74duebtzvfvDdvZhfYmqllO2KxKR0VSX52\n",
       "rTjWgZwzPfNtcyChJeHOg/BJ9lW7VvzVgSzIi0LNFF13A84V+ERwEk9kNm53KxjssZLgQlFc3VIs\n",
       "GCXxDcBVA96DEBLuwES3ip68lbw+Lu9KWvZIbTjWhPYS8ByE4Oz4+GjXSR3tQMqxpJHiXurwRoTS\n",
       "dRFcklHXtBtdK+6zEldxmkp2UiBLPeE0lKsylT2MC4aDr6dqM4OUHVf72Nlm05U7mtDpo9ZHmLxE\n",
       "P62eR2SW66P/0tx9uW7BCqOXCki0l3ndIwhEKBftJbLcQr4C77g1LKrwmrQSE2FJFKiCHFG4Kb2I\n",
       "5eHbJe7+DMMDB2XhxQa5nWn4162KupctAUxTTWCnsffTBlEG4kMUmi+DN+y8I1VFkMoiI1D2UP/s\n",
       "FS64KJwVq6LuZbsMHIONoliMHfQ+jvBeB1alYrSpqFbO0NyiGrnfpnCoaFE0vGS+FTiqjaw2FYmI\n",
       "WDy0KniGDIztiCGRYFeGgex52e/GYfL3HTyQhkXR8HLlLM3dQ3vlkKIkqlAMLfIAZ6mCaDsq9ZbK\n",
       "wSRN5Qdi5P8C7G9R/KhpWqXhZRaowMHTx4wxi5RO5J70rnFsF3mtQyLkEyOyREoMhOVUfPOfc/TA\n",
       "Q6Aw0R5juukl5i1B/cPkZGsiBBnbrMKf+83H3TynZ2E1PviApFMMBOVYziIKdOyKofryZsWGl1h4\n",
       "Aq41+1OuYU9Nx8UrHWynRaxldQTqOtS9MCsaXmaFIh6X7E9yW9NPcjZvHWruprIHH2rxwaRJMd/w\n",
       "EgvciifudjiKTMRixteqzfwtba/lFf9/fpFtzJtnWH4M7BWntvbX8V1Hm5X/qVjG9ppzm8b9CxCE\n",
       "z8RBoniFAAAAAElFTkSuQmCC\n",
       "\" style=\"display:inline;vertical-align:middle;\" /></a><br>"
      ],
      "text/plain": [
       "neitherIntro: forall_{A, B | [not](A), [not](B)} [not](A or B)"
      ]
     },
     "execution_count": 10,
     "metadata": {},
     "output_type": "execute_result"
    }
   ],
   "source": [
    "neitherIntro = Forall((A, B), Not(Or(A, B)), conditions=[Not(A), Not(B)])"
   ]
  },
  {
   "cell_type": "code",
   "execution_count": 11,
   "metadata": {},
   "outputs": [
    {
     "data": {
      "text/html": [
       "<strong id=\"binaryOrContradiction\"><a class=\"ProveItLink\" href=\"_proofs_/binaryOrContradiction.ipynb\">binaryOrContradiction</a>:</strong> <a class=\"ProveItLink\" href=\"__pv_it/a385f096f7a23a3ecc62ffe7c9de76c5b43292aa0/expr.ipynb\"><img src=\"data:image/png;base64,iVBORw0KGgoAAAANSUhEUgAAALMAAAAWBAMAAAB567CdAAAAMFBMVEX///8QEBCIiIhmZma6urrM\n",
       "zMxUVFQiIiJERETc3Nzu7u6qqqp2dnaYmJgyMjIAAAAcRTyBAAAAAXRSTlMAQObYZgAAAhtJREFU\n",
       "OMu1lD1IHEEYhl9uz3i77up1Fqa4IqBNNCCcGEQP0tgExcJ6CwOW/hTXGHKFyJ4It2kSu1uwUCzi\n",
       "gpVVEhKImBA2KdJIyIJdKvEHf0LA+du7b9UTQfeD/WZe3vmendmZWSC5CHn6fc/QJp/nrzz9vWd0\n",
       "S47nZfbopUTQrR5g+omgrZ319bdIBI1Tx5lLCP0CKIuOzMOHnyZd3klH4zKu6qQrA/lyDEFUzFTo\n",
       "ZzDEAbSOhLSyMLOCGI37U4h6P4CPlKxKrpoK3YxUwNuV/0JqNlrOKdoYCsAHsCcPvPcITZXIoKZC\n",
       "m0GzaHdm5Zty0EKKNlef4BE7oDYwAwzSWasSGdRUaD0cFxco5wi5MYpuj6LHMiXe11wYx0jRyxWV\n",
       "yMVRU6FRnuD5AfqEGnncZYOibW0KZgFv2E4d/Fygk45K5DZSM0JvTvG8ix6hvgOdFG35qX0YJfSz\n",
       "TxMiJcZuO44T1kqkqpkU3cZbY+9bRXyHJaDqE/S7gW22q58NtpTMB+j/omq7XiJU3dSKxen2YpGv\n",
       "3eK+5qE6yg1mj7gE/RT6MbCmMbPNR/qsjq6VCBUzY/GcVQb6IvRz6A/JB0mzM8eOmPmL9aseXrO5\n",
       "LSpYVCKVNK+JzCn0ysumDnw57J0sEHSlhOWTgO8/zFe9+Xl2LjqE4dZKhFLmDXefvi3meNcPuqwa\n",
       "x1ZDdINBl1XjCG6DDm5Qtwvtrn/WC7y6lVB8SE5IAAAAAElFTkSuQmCC\n",
       "\" style=\"display:inline;vertical-align:middle;\" /></a><br>"
      ],
      "text/plain": [
       "binaryOrContradiction: forall_{A, B | A or B, [not](A), [not](B)} FALSE"
      ]
     },
     "execution_count": 11,
     "metadata": {},
     "output_type": "execute_result"
    }
   ],
   "source": [
    "binaryOrContradiction = Forall((A, B), FALSE, conditions=(Or(A, B), Not(A), Not(B)))"
   ]
  },
  {
   "cell_type": "code",
   "execution_count": 12,
   "metadata": {},
   "outputs": [
    {
     "data": {
      "text/html": [
       "<strong id=\"leftIfNotRight\"><a class=\"ProveItLink\" href=\"_proofs_/leftIfNotRight.ipynb\">leftIfNotRight</a>:</strong> <a class=\"ProveItLink\" href=\"__pv_it/76831553804d72caddae1e6526869b352516679b0/expr.ipynb\"><img src=\"data:image/png;base64,iVBORw0KGgoAAAANSUhEUgAAAMAAAAAWBAMAAABklY4GAAAAMFBMVEX///8QEBCIiIhmZma6urrM\n",
       "zMxUVFQiIiJERETc3Nzu7u6qqqp2dnaYmJgyMjIAAAAcRTyBAAAAAXRSTlMAQObYZgAAAlhJREFU\n",
       "SMe1VM9r1EAU/kh2bZJN7B8glBw8eLOwsKJUXfAmFFYPPe9B76t78VBxEZFUwawH66KIAQ9KRQkU\n",
       "QU+uqFBrD9GDF1EX99aLpba4Vfzx3mwmyabbw4J5kJl5X75537yZNwNkbR1uPmUUPE/R3/JgNSOB\n",
       "3WtAi3q9kZHA558k4gGmn018Y3ELsJYXFm5mlIClbFDbc5zZjASOF35TexqYE+5c6nfOnSptw+RA\n",
       "aw5nJV2jnF+n7hgMUarWRpjX1269fybvgBcpTJOBvpTlKGal3Rz079SNQQnYvcfpPHx5GHb7zhNB\n",
       "KAHPvUFMChhHA/CsIGJJS7gzxVKPOjMYE+5ynVZ69ZYH2zYfCeQscCSFSQHz/iT2Un1XJSuyhEtJ\n",
       "TvAl6MyIS2c7vF1ktj39RqxyE8pqCpMCJ7UGj9WmZEWVGbsF+s6Iwz3F7S4cCN8NuzhREVu4/v4y\n",
       "UpgUqKo1mGXMR6zokGP3Nn3feLBY4/Yj9sOY7K9WvSG2oQOllsJCActX1mA0cFCyyJYcx+nELnTu\n",
       "XC62cZtT6664Xv6c41zk/VZEsDb0X0hhfYHHU0v0CLwyqpIlE4tdw/3j4enfOi+HD131cLdCBLFa\n",
       "U+V+3EduC4NYKHAI+ibwQK1ELCkw4CZtmqgBXotgbXMFLRL0cL2NBBYJ5Kg6qajNDzTus/QroUA4\n",
       "aZtpPejueWh0m6zZ7rUAJ3zzQrF0iX9FWCTgNtD6EXDFIGTl94gfTTlpR9tH+903fwiWuMnCEver\n",
       "MOo7VWgOhbWd+M9GfmkxmkDwnx5gdeQZ/wAOl8HnhDRmIQAAAABJRU5ErkJggg==\n",
       "\" style=\"display:inline;vertical-align:middle;\" /></a><br>"
      ],
      "text/plain": [
       "leftIfNotRight: forall_{A in BOOLEANS, B in BOOLEANS | A or B, [not](B)} A"
      ]
     },
     "execution_count": 12,
     "metadata": {},
     "output_type": "execute_result"
    }
   ],
   "source": [
    "leftIfNotRight = Forall((A, B), A, domain=Booleans, conditions=(Or(A, B), Not(B)))"
   ]
  },
  {
   "cell_type": "code",
   "execution_count": 13,
   "metadata": {},
   "outputs": [
    {
     "data": {
      "text/html": [
       "<strong id=\"rightIfNotLeft\"><a class=\"ProveItLink\" href=\"_proofs_/rightIfNotLeft.ipynb\">rightIfNotLeft</a>:</strong> <a class=\"ProveItLink\" href=\"__pv_it/ddf14f0b8202e6e2029e92c0c7e162442c0aa2740/expr.ipynb\"><img src=\"data:image/png;base64,iVBORw0KGgoAAAANSUhEUgAAAMAAAAAWBAMAAABklY4GAAAAMFBMVEX///8QEBCIiIhmZma6urrM\n",
       "zMxUVFQiIiJERETc3Nzu7u6qqqp2dnaYmJgyMjIAAAAcRTyBAAAAAXRSTlMAQObYZgAAAqdJREFU\n",
       "SMe1VEtoE1EUPbyZ2Mx0JroSQZBZuHBlI4HUatWI60J0oUsDKrgRgwURqTSK6KQFExdqEMSRLpSI\n",
       "EhAXBcERFWoMMnZRhfoJBjcFUaqpqSL6PjOdqSaLgHMXk/duzjvn3c+7QNhWZ5+3YTDP/D6QNFN4\n",
       "ztZzodx9DSA1UaIrJRcGf+QXIH9FzAK0ShgCZBHQ56FXy+UroWQougq4cRJomeZIKAIrM4gcp/k5\n",
       "BOS5I/8XQC4MJv/xLV2v2BHl7fYfmT7Pcr8LKm9V/Zvw6x8aw6ImL4FHwvduY/9WweuxvE95Kx/l\n",
       "nnd50FeEupr+9oA4bD9Bi47bj7fBsK/d54gk8NCC+iDhEE2ZTQcF1B0O2CnHQ/nGeZidZiL0qprT\n",
       "w/fVYao+ftWCYWh3uOcYsB14PVkGIag6QQHtZhzraX9nPJRvjIfbAhMwKKi+l3etYbJ0UTOMoWf8\n",
       "lk2QOchx1nFEflMMCuyJ5thaKrqoQPczHu8Z4CjLZP4g269Avzs3jMQ6ng55fvocEOMtLW36uKwG\n",
       "GSkLLYXLHso3zuM9g0iLre5l2XcWfVDjIgLpEk9DHSSLCQ4mGAjWQK+QL1BzGPBQ1KZM06wLHm4x\n",
       "+gx2jvF+NVg+GrWCFTlhmmdYDQgns6H8xD56zqACthEQuDs49QN4omY8lBeY4OGRfF5IHB4X12EO\n",
       "ycL1NAXwCDSJC1cgL9KQRQR2PCCwBUoTuCWlPdSSgOBpY0MU6uApF7C1GkoUaOGiDY3BiYaa7QvI\n",
       "tKNoCbUZuhYoZcwVEDxt5kYLSuEUorRt9ZHGBQe7K9poInmW/sXCfPVi86dAkQs5lL47rIHgoiJr\n",
       "+R9Fl6ezbaA1ELY0YAmtgX+RZejA++rtdlL1FttPyE74yW4FdHQn4PynESx1feIP5pzA7yyGen8A\n",
       "AAAASUVORK5CYII=\n",
       "\" style=\"display:inline;vertical-align:middle;\" /></a><br>"
      ],
      "text/plain": [
       "rightIfNotLeft: forall_{A in BOOLEANS, B in BOOLEANS | A or B, [not](A)} B"
      ]
     },
     "execution_count": 13,
     "metadata": {},
     "output_type": "execute_result"
    }
   ],
   "source": [
    "rightIfNotLeft = Forall((A, B), B, domain=Booleans, conditions=(Or(A, B), Not(A)))"
   ]
  },
  {
   "cell_type": "markdown",
   "metadata": {},
   "source": [
    "This **constrained singular constructive dilemma** will require a single provable $C$ be designated as a Boolean.  The \"unconstrained\" version will drop this constraint, using the constrained version as a convenient Lemma.  This will all culminate to the **constructive dilemma**, below, that can prove some $C \\lor D$ given $A \\lor B$, $A \\Rightarrow C$ and $B \\Rightarrow D$."
   ]
  },
  {
   "cell_type": "code",
   "execution_count": 14,
   "metadata": {},
   "outputs": [
    {
     "data": {
      "text/html": [
       "<strong id=\"constrainedSingularConstructiveDilemma\"><a class=\"ProveItLink\" href=\"_proofs_/constrainedSingularConstructiveDilemma.ipynb\">constrainedSingularConstructiveDilemma</a>:</strong> <a class=\"ProveItLink\" href=\"__pv_it/53dac557043d426bdf93c0d91a934532bdd764fc0/expr.ipynb\"><img src=\"data:image/png;base64,iVBORw0KGgoAAAANSUhEUgAAASgAAAAWBAMAAACBLhxDAAAAMFBMVEX///8QEBCIiIhmZma6urrM\n",
       "zMxUVFQiIiJERETc3Nzu7u6qqqp2dnaYmJgyMjIAAAAcRTyBAAAAAXRSTlMAQObYZgAAA7VJREFU\n",
       "SMfNlktoFGkQx/9+PXGme3o0B0++aHRBV1CzjIwxRg3sxYuY9aDXgeyKegp68aDsKBLbB2Y8qEF8\n",
       "NAqujK+AeAgo9q66qzFI60EFX9HgRRDEBxofYFV1fz0zcYQNeJiCfFPz66+q/1NV/XWAerRBXh7V\n",
       "jZxjXbngEG6y+6JeNKkpwPkp6CHXLNSJJmu7BxjDGEcfdm+diBo3kZZEIzL9pdKBeuneEq5OQxPw\n",
       "wXU31Ykm8730sAj8AewQtGPElkR3a24kw/0O/+cR27STKtYIjCFbpqtV8felb66sKdZIar/W5FdY\n",
       "cixk3kaRz4Y2hDN2G/g7ZI/nzF8ozhEHJxurUUonetKmvXJgBaRCPIO1RW7RCLuxzOOkyXcaJaEC\n",
       "/jz+hZZTVxbB8Q9fkCs54LIH62I2ULb5oJ3TkvBMoQrFoqwlAThRoAM1jO0oCbzPjpFH+mNZa5iU\n",
       "bIxAi2sWJOVa/wa6tuugB8exzwhZDyymNH0lKIV+zp70aQ6dKhSLsv9qwk90i7wO1JDtEi88uiuk\n",
       "Dg4M6U66Iil7r3jlipiDK9ltcFxuJZnjLLshit9BvUCCsyqVeMhDMJd+v+VVoVjUilSBfaMYBcaQ\n",
       "bSxtVVyHEn871445YSXXxkmlgsO8+jLgv0sY5kfvHCc7VfqSeH2ni44OOWiNX57z58bwNKlEsai8\n",
       "0Qm7Dft1YAyvu667ZwLVIT6il8+emYdN2H3appNKI3nQbdF3vpPXB5gLqymslLFPSj8I1YnjokBh\n",
       "AQv9LLFVSIvK9KpXsApYoANjGL4/5mG8r29+C5gRudPboqRilwOkW8Qbz/20hga6vYaNrruVZ0rJ\n",
       "3XyYn7CKfo9DCnwnmooz1UiLOtt6ndpz1crrwDKUWVjt8exYMoa7aeijl8iJdVHScFfz6nnRb+R6\n",
       "GR6OtiMfVso2RGwvEsPU1rAsPlexWVpehbSoFpj0QJ802nVgDKdnyTo8GNQ+WzApXl5UjHMtOmkt\n",
       "W0a5AlwTUb49gB4S6WGvD5t7pGwM+OZOJAOcLlagsqgElYDOFPsuP/oSSNtDaJVKpWNc1M2wbjA2\n",
       "P8KcTDNPNo2fOUlaw1IfYHZvRoqKmtk0tCfAb732n9ncNrq0i/7u3Wp+iYZJwL+tsypRWVR3AT3v\n",
       "A37wEAXS9giS7Zch7fjHY/zfm+ya8Ew1pTVh0u/bTJqp0OJ/HBQNUOilv0WVJ7qYV3bTFbhYG5uj\n",
       "ezemaxS0r+bO1PdS9I0K/x/L1GDB6EQFo8I/1owfn/IrxnAlaLINkGMAAAAASUVORK5CYII=\n",
       "\" style=\"display:inline;vertical-align:middle;\" /></a><br>"
      ],
      "text/plain": [
       "constrainedSingularConstructiveDilemma: forall_{A in BOOLEANS, B in BOOLEANS, C in BOOLEANS | A or B, A => C, B => C} C"
      ]
     },
     "execution_count": 14,
     "metadata": {},
     "output_type": "execute_result"
    }
   ],
   "source": [
    "constrainedSingularConstructiveDilemma = Forall((A, B, C), C, conditions=[Or(A, B), Implies(A, C), Implies(B, C)],\n",
    "                                                domain=Booleans)"
   ]
  },
  {
   "cell_type": "code",
   "execution_count": 15,
   "metadata": {},
   "outputs": [
    {
     "data": {
      "text/html": [
       "<strong id=\"singularConstructiveDilemma\"><a class=\"ProveItLink\" href=\"_proofs_/singularConstructiveDilemma.ipynb\">singularConstructiveDilemma</a>:</strong> <a class=\"ProveItLink\" href=\"__pv_it/86866f15439b7380fb1e88bc407d59183b4cebbc0/expr.ipynb\"><img src=\"data:image/png;base64,iVBORw0KGgoAAAANSUhEUgAAAUEAAAAZBAMAAABdioEsAAAAMFBMVEX///8QEBCIiIhmZma6urrM\n",
       "zMxUVFQiIiJERETc3Nzu7u6qqqp2dnaYmJgyMjIAAAAcRTyBAAAAAXRSTlMAQObYZgAAA3NJREFU\n",
       "SMftV09IFFEc/trZbXdmZ9RDp8oYKMhLJaxsJZZCh7qIm4fOC5Z4lDxYoLRF2Fqh2yGTKBzsUGxU\n",
       "C+KhQ7hlkZrE1CGCiBa9eRJNNCPovTd/dnw7luHz1jvsvvl+v9/3+97/9wCRZXvnRaF8ONmZF0sY\n",
       "hugiJ/8rFKCwQP+/ilMojG+4J27eowrf0a85cQpF8QUqgZFKqnCQdmVKnEJBfMo1A5B+UIVlpKbm\n",
       "xCkUxFe2k/wEK6hCbSqbvSNwpQjiq6eNDFWztbySTneJXMtC+ORlNtQZpvAc0MvQXs4r2F8XL8Gc\n",
       "SiTj50UV2nxaT10g4xsBj/XU4nibH64uePbDE1DYDqF9t51mZjusefQBeMlhEYfqW4NTK3pZCi0+\n",
       "eQbK5XUiPFatAmqFDx5e8igMI2DS+oNf5Ofx+DHo+fujzBoHxoy1mJNPqTdBo0zXy1Vo8Q0RPZ/5\n",
       "CLe4VimJ6KoPvo2BiqVQNa2TYKqDNOnGXQO6rj5hyHngOIc5+dSH1dhnxVteRYUWH52KzXwELS/g\n",
       "tYZ1SAU/fJ7+jloZ5MIZ+hXS03SESNH1xknWgiUE5jjMydccSdG6lHG8igoZX4D2QZaPYNefjNf6\n",
       "LIGDhg9OdkJS8va53HuWeeCwfWTpsT0JtgYWPvaAw5x8SakdagMGXC/PuUz5wu6e7Y2YSKfTfTu8\n",
       "1qYDVURCKS7TlaIatsKRdop9wSEo1VZ/SbfZuBQQaOcwO5+WC8xDSeGo4+VVSPnK85xCFmEdZzUe\n",
       "63tgP3xwjJmI1jp3m3KdDunsdL8RupBOX6FzLsC485B/gsOs+Kd1E2RAXitJx8urkPKFSS7FLIlg\n",
       "k6fVKFpvktWR88GhHGmtcW9fGp0IkoGhBJJWf6kSy5RDkEyHNZidrxYy2Q4eSQnXy6OQ8klkvFTw\n",
       "EXtjpLQYHitpW1PGB/e5HzaSXCbeMDV5dRqDRLGBW6RRRczNFyTtJHuT+oluEJYXfz/shjIJPkLJ\n",
       "ZrPDumOVr0NehbwbHO6vMLICub8bEdLjWtdsn4nTOfVSLH6VmlzMzdefwuCySZcxHC9eodryykBJ\n",
       "BCkDrjW0C28XY232Rj6wJmr9O3YVmXNWyflgnhOCFWMDd+wI9+0546Lr4Bt7BUT9IyL//Ar4Q8Tz\n",
       "Tb1TNGy9QnMrXlLSXxSWvpelTb6Xk78BLuEtSthWsQoAAAAASUVORK5CYII=\n",
       "\" style=\"display:inline;vertical-align:middle;\" /></a><br>"
      ],
      "text/plain": [
       "singularConstructiveDilemma: forall_{A in BOOLEANS, B in BOOLEANS | A or B} [forall_{C | A => C, B => C} C]"
      ]
     },
     "execution_count": 15,
     "metadata": {},
     "output_type": "execute_result"
    }
   ],
   "source": [
    "singularConstructiveDilemma = Forall((A, B), Forall(C, C, conditions=[Implies(A, C), Implies(B, C)]), \n",
    "                                     domain=Booleans, conditions=[Or(A, B)])"
   ]
  },
  {
   "cell_type": "code",
   "execution_count": 16,
   "metadata": {},
   "outputs": [
    {
     "data": {
      "text/html": [
       "<strong id=\"singularConstructiveMultiDilemma\"><a class=\"ProveItLink\" href=\"_proofs_/singularConstructiveMultiDilemma.ipynb\">singularConstructiveMultiDilemma</a>:</strong> <a class=\"ProveItLink\" href=\"__pv_it/14b1dcd499db294112d8ea70a9563305b8f4cc380/expr.ipynb\"><img src=\"data:image/png;base64,iVBORw0KGgoAAAANSUhEUgAAAfoAAAAZBAMAAAArnPHiAAAAMFBMVEX///8QEBCIiIhmZma6urrM\n",
       "zMxUVFQiIiJERETc3Nzu7u6qqqp2dnaYmJgyMjIAAAAcRTyBAAAAAXRSTlMAQObYZgAABQ9JREFU\n",
       "WMPtWF9oHEUc/mX2Lnf7L+mDCjUUDiNqBZuT1jZNIz0R6ZNwyYNF2oejaSvm6UDwRFo4X9qrgrmn\n",
       "GESao4W2LloOgw+FFFdRqdcqi0UbbKvx34OCEGpLa7Hgb2Zvd2d2526l7OVFB24zs/l+33zf7PwH\n",
       "iEkvVOqwqmlVKtxRsSFVORCLK8Mqp9WpUC3hY/Z/9/9h98s0f7WbmDhE4u4H6B/T6RH/sUObnXc8\n",
       "9+fpm9+7iYlDJO7eaOKfgUZv6Mk6gIV1nvs52g2q3cTEIRJ3zyqb6w27dhhbVfnLc0/bmDV2544Y\n",
       "g0h+3NOOdr437AP34yO1xnNvtizrra5i4hDJu79iWe/2aPLbTj9jOu/P+bdqtQPdxcQgknc/WKsd\n",
       "tnsz1d9k3b/uu98HcKS7GB8hx2U77M1ScQA5J1bYX3Rjlqbs9fRVoSPYPDRO6nGMHJNxLbTePw3a\n",
       "sgjdOV4g93FiPIR5Xar/h4JQ/H7Dlm2u6Q4AUf51iftUHk5j7mgOTq2hr6qdwOpPoL0Wy8gxZW6E\n",
       "3GeAcEurtrjR0astGOPEeIjjd6Sz6HZHiCaGernIu/cATvsnFKKcZfZ7DAWiDbPKu4+A57Fdl0Lv\n",
       "JCoDpr7bTFHg3nAyfBc5Y4H+tQI2J8ZDtF6SuTdO5oVoQqDl8O49wIPtOoVClJO6/5I1OmpI53j3\n",
       "PPgsfdDpaDIULzLqVErAlFmhzw8D9+ryc9gyT04Ok4eKtM9hxK7nc7x7hqDxNZn7yay/F2DRhKSu\n",
       "1Hn3HgDLij9G2wUJJ3V/NI3iRnCl1RqcewHcj9GEfklLDA8zvgg8E670mGxun39kL7p/yumbJiV3\n",
       "k6kXW9/w7hkC64Mt+IhswUqKvzixaKI8/qsw7hlgGvtAgTtWtAuMM+o+O4td+hX/Vdu9L+BcrVZ7\n",
       "8x78kpI9GMdoIKz2o8Ck0lnPaHDuF7C+tx+GwYJiw3HXvWHkeTELzN9lGIH0x2H3ZpOs+EOOuSew\n",
       "lR/3DLAbNxlaFbYGM4RboJwS9zp18HfYvSiAbIJBybIYYRwucEzwkQP6GH/GG6QjYg9MQKYJO7G1\n",
       "cnpRdcq8GIbQfr4w04BM2P3p8XO3/cWCRqN7O8e5dwGvYu5TrRTEsYLLKTnjXWsP6vc59yEB2v4G\n",
       "Hc+aeBqKMp6Y5phAG92/STjhmhR9LzwC82nsN+zbwzM5XgxDKA2YL0bdj4F6Ay6evbjrM3Cjqfs8\n",
       "554BmPtTSjGIYwXGaW67+sRiUXT/Hf5G3RHquw8EDG/ENNUABf9hiHJ4RkJhm8d4Jvn5Xl3Br79k\n",
       "gEFVmAUw7chx+1nsAw6tXH0d5hreI4VNfwc+WO5rLoIbTQy4YAfuXQBzb3wLfjAruJz6BhjS7ej5\n",
       "PuPAe3XOvS8ANMuyjtHvcxC0Lzgxcw2REWHWAwKT3H2qBL/BbAvgDXrp9QtOVWEx2VugzhyklaeH\n",
       "YKKeXksfQzBThbmbTn/xJNAORaMvfTX6BzfruQDmXsM+4MatdQttzn1aWSlIbjc+H3+UG/eBAJaY\n",
       "cmPqkwZMND3SiWaE0V1jfaaYux2CI7fbVQutXA9WU+8tLEC5GYrO8nHUPQijJiiU9XxG73a3Uw0J\n",
       "oIn7ls1ILmBUk7zZSo/gLvaMX/RyJ3D3sie83+bdT/7Z+YislUihf/2/dM8EiEmvh3MhxmTv9RxJ\n",
       "Tnb6Sexer/vViinJJXWrWbnr63Xl7sIkFeYTP+nuqJQgVXn5HxBZrulbCogQAAAAAElFTkSuQmCC\n",
       "\" style=\"display:inline;vertical-align:middle;\" /></a><br>"
      ],
      "text/plain": [
       "singularConstructiveMultiDilemma: forall_{m in Naturals} [forall_{A_{1}, ..A_{_a}.., A_{m} in BOOLEANS | A_{1} or ..A_{_a}.. or A_{m}} [forall_{C | A_{1} => C, ..A_{i} => C.., A_{m} => C} C]]"
      ]
     },
     "execution_count": 16,
     "metadata": {},
     "output_type": "execute_result"
    }
   ],
   "source": [
    "singularConstructiveMultiDilemma = \\\n",
    "    Forall(m, \n",
    "           Forall(A_1_to_m,\n",
    "                  Forall(C, C,\n",
    "                         conditions=[ExprRange(i, Implies(IndexedVar(A,i),\n",
    "                                                          C), \n",
    "                                          one, m)]),\n",
    "                  domain=Booleans,\n",
    "                  conditions=[Or(A_1_to_m)]),\n",
    "           domain = Naturals)"
   ]
  },
  {
   "cell_type": "code",
   "execution_count": null,
   "metadata": {},
   "outputs": [],
   "source": []
  },
  {
   "cell_type": "code",
   "execution_count": 17,
   "metadata": {},
   "outputs": [
    {
     "data": {
      "text/html": [
       "<strong id=\"orIfLeft\"><a class=\"ProveItLink\" href=\"_proofs_/orIfLeft.ipynb\">orIfLeft</a>:</strong> <a class=\"ProveItLink\" href=\"__pv_it/b21ca2e774e031059de7f462560469f0c974dccf0/expr.ipynb\"><img src=\"data:image/png;base64,iVBORw0KGgoAAAANSUhEUgAAAMQAAAAWBAMAAABtfi58AAAAMFBMVEX///8QEBCIiIhmZma6urrM\n",
       "zMxUVFQiIiJERETc3Nzu7u6qqqp2dnaYmJgyMjIAAAAcRTyBAAAAAXRSTlMAQObYZgAAAwFJREFU\n",
       "SMetVU1IVFEU/rrz/3zPXAS1igdtXOXEwFhoKbRoJU2bXJWCRT+LHHITaDRFxBOpmRaRCOULW4iR\n",
       "CBIRBE5Ii0xialNgmjW1SAhDyhQJu+fcNzPPwZFyOvDuve+c8+53z/nOuQ8oV0KZjawVKWCWFtNl\n",
       "QAyq6XiR2mhfjJy+CpwBXtL7XBkQX9U0T4OPlzEetySAhhiGgV6KNbF5BCOspnlbjn7a3TBZ0yIT\n",
       "eDgM3USlNOkjm4cIpHh60ECzr5U0NmtqpOKDCa0KxsTQ0O0y8uR8m6lpzGXtoNJcBrTtEu0zsGRZ\n",
       "XWVA7OLRa49xYY3Kp1sZFoHms3IeB07mlN1FH3uT9dFiXWNukTdc5/E+WpiBgEyWIta3OF3dSYsZ\n",
       "ikvjwjV+OPx9ynYobl4Dz5RuZndtHS9ydZFzBjod6H6mXZjwq2OIZeAeUfOYgAXHOPCbWBvfDzN9\n",
       "5xF7RYExG9rTSEbooamYG4KdWbbxkdsi7WzS4lSlJMEqCbNClSXLKRNg3USHPFxPnw3T1B+y5jxw\n",
       "AHj3ZAhCYCLjhiBnF4RXtgGnAnWq0YCtMgKxoCBCs0f5IKblFINpNr3gE/2EmIOXEiCE933KBcHO\n",
       "rkTJxAaq+PUu4si3hZ/SeYiYO0EqP2qd28SM7OSkeBfeXAMqObGePV/cXLBzge6QhKj8rvJzTDUe\n",
       "t0VLQtGNUcadQg20sIrCc4tmfRYijgGGENjn5oKcHRl3eiO4rOI7pRoPH+UZd9C6nrJGuFp2Mmn7\n",
       "LljWFeJC8IHSCK2g2bIsU0KkzQIEOzsQMg+Dq3OoSP5SN0lWqc+ttkUtLkwK3yBvj43+GFpVFLqH\n",
       "CRuBd1nmREWRDhcglPOaCyQvfUWdpMVzqya5ZQbPGSKtT6JX7mLjZho67SV0TKYLEMp5zTVYUnSH\n",
       "GwSXEEpeRFCGZnRlb2RwZES/FInK+x498nn7au+3At2Oc3Gfry/DxYpqyYWS/OUrJBd5e6LkL6mU\n",
       "dG/4Q1xHEv/6YzVSpU34W4j/LeFNfPMHYWPKO3E6j8YAAAAASUVORK5CYII=\n",
       "\" style=\"display:inline;vertical-align:middle;\" /></a><br>"
      ],
      "text/plain": [
       "orIfLeft: forall_{A in BOOLEANS, B in BOOLEANS | A} (A or B)"
      ]
     },
     "execution_count": 17,
     "metadata": {},
     "output_type": "execute_result"
    }
   ],
   "source": [
    "orIfLeft = Forall((A, B), Or(A, B), domain=Booleans, conditions=[A])"
   ]
  },
  {
   "cell_type": "code",
   "execution_count": 18,
   "metadata": {},
   "outputs": [
    {
     "data": {
      "text/html": [
       "<strong id=\"orIfRight\"><a class=\"ProveItLink\" href=\"_proofs_/orIfRight.ipynb\">orIfRight</a>:</strong> <a class=\"ProveItLink\" href=\"__pv_it/0b55a746a099118e8fd67320d6452aa310e7d7890/expr.ipynb\"><img src=\"data:image/png;base64,iVBORw0KGgoAAAANSUhEUgAAAMUAAAAWBAMAAACCvEVCAAAAMFBMVEX///8QEBCIiIhmZma6urrM\n",
       "zMxUVFQiIiJERETc3Nzu7u6qqqp2dnaYmJgyMjIAAAAcRTyBAAAAAXRSTlMAQObYZgAAAydJREFU\n",
       "SMetVU1oE0EU/tzd/OxmU3sQ8SCy4MFebCuBVKk/EQ96KcaLnrSBKvYiDRZEtOIPohurNh7EUtCu\n",
       "VFAqaqF4KAhdW0SspUQP/lCVYPBgQVpaW/tDqTNvNnGNpqhxYOfNvtmZ773vm3kLFN3U1GKzPexJ\n",
       "88H7YjDuCLMvz/1qoS5sRuBNAs/5+0gxGJ+FGeWdh4ZR6lcA8iQ0lkQrz/ZUERDBSmFGLdZ7+fZB\n",
       "g+DmAWUC6ANK2JTeVQSGL0nm7hZuPTHu4WiQZhjaOHCTmYHOzmvFUOUsTlVEssRtI4e/lO1/jCXB\n",
       "/NOm2VQMxmrqFauXjlc3exLkWRqD5wgniXF5IOtM5C1WWjaGf/EJs2Oivz7puC5Rfwu1pIKP8SXU\n",
       "rT308jzXIJjmmWl0foNfHQ0/ZhqFPi+Ax8L3obyqWhDgfFMKvdTBOE59BO2kvWTAS6ShIgltObOB\n",
       "OEeWKMuOea5c/yYY9vWH9FUY6LWgPQqlJF0djrow5BgCsw7GMjpEdaEGCl+L477wn+Y4LFjPGOMr\n",
       "5SPfQCOLr7nNgmHo98hzGNgMvOnphCRhIOXC8BmQ024MxuES4agWNw6Y4hiGwFDTuykSw3ROhGHU\n",
       "PKOQJiGNQOEUSJLyLunCeBBFueXmisXrE+TdQBzZ64EGRpvC3xP7uc+LKqewGKFVxIsy/vIcO3rE\n",
       "srzuk1uPnWvLYnBprjKMkjHxxV7Snq6HZ9rRHN0EPIwKaJUiD/kqt3oaUhwdtEDCBrceQ8CaLEa/\n",
       "c0f8MyL+gyLBEpbW1gtcO5sfZA6sZQZbLM9R0zzD9ZBoPxvqHPaYpmkwDNtwYVwE2rO1YTurigsj\n",
       "CLR8E0UlQ713dCpU30xgVF44sGyhPYqYyEOX6RJ1QZlhHIo87EoXxhyjK/lzLcm1trwrdTs3qmF7\n",
       "pvCEMGx9EK0M08IVGzoPQ9IxaP/AUGehrsyriQVbX3bgn4bacgJ+RkCwKXM5hV1d+slQ+Cyb4gm/\n",
       "Hlr/xaX504lQfSS3SWJRCC2d7yljeoiWK8US0yM37y/8jyrQ/MmCU4HfT/n/+l/7dpE/D/4Y4383\n",
       "+V8WfQfbKMjke1x0cgAAAABJRU5ErkJggg==\n",
       "\" style=\"display:inline;vertical-align:middle;\" /></a><br>"
      ],
      "text/plain": [
       "orIfRight: forall_{A in BOOLEANS, B in BOOLEANS | B} (A or B)"
      ]
     },
     "execution_count": 18,
     "metadata": {},
     "output_type": "execute_result"
    }
   ],
   "source": [
    "orIfRight = Forall((A, B), Or(A, B), domain=Booleans, conditions=[B])"
   ]
  },
  {
   "cell_type": "code",
   "execution_count": 19,
   "metadata": {},
   "outputs": [
    {
     "data": {
      "text/html": [
       "<strong id=\"constructiveDilemma\"><a class=\"ProveItLink\" href=\"_proofs_/constructiveDilemma.ipynb\">constructiveDilemma</a>:</strong> <a class=\"ProveItLink\" href=\"__pv_it/554c396bac9189ecc8e33df92263690a3b402a550/expr.ipynb\"><img src=\"data:image/png;base64,iVBORw0KGgoAAAANSUhEUgAAAYsAAAAWBAMAAADDQa2RAAAAMFBMVEX///8QEBCIiIhmZma6urrM\n",
       "zMxUVFQiIiJERETc3Nzu7u6qqqp2dnaYmJgyMjIAAAAcRTyBAAAAAXRSTlMAQObYZgAABQFJREFU\n",
       "WMPVV11sFFUU/pjZ7e7Mzm77wIu/mVAT0US6pGRpa5VNfIAX0sID+sYm1aYao428EIFYjdatKF0f\n",
       "xMYonUJim1W0hvhAomFs/YHakJEHxOBPpfogiYrFQgFRz7l3fnZ220190fUmc/ee7545937nnnPu\n",
       "LPA/aJpTdfooPTM8+Ka2aYxxd7A/47wexk//1d/TX0BdAfic5fO1TeMnepRbgCP0oJORqJz4E0he\n",
       "g05HMcSH1lfTLJJpQH/eAtQrJD3E0CkxEZ2jbi0wAaRo2hivaRoxCprUjTSINFC3jaEnxYQyT12H\n",
       "gxGiOlUsvlrbMcXb28CejtKxIEWkImkxEb9A3bCNVBZYyOd31zaNRgr7yzzQiQESRCFeEBP1nAwd\n",
       "ORhpEWsDAhwoezsy2J4px3Cmy76jXO3RCrWIN3DXCxvzQRH4/e0Ky5suTvaU4JsuBeJLFPZzwVQv\n",
       "8IAcbTepa7KRpBy/T2Q62fvdtXtudofMlS+AjyT27Zr1d4vBARNjDZVqWwphLO4t+V3WGwXGSkBy\n",
       "8znoT4t3G2A0lLBrQPQGd7yL0mM+mFoFPChHTVy1Hs8iQcxiUMTtcug6dW9N3gPTfuN9oZUBjlnQ\n",
       "P2h2FEM7y69oRDXZV6lWlwtjHg19gwM27njGPNBvw0TpDA/UHBJXA5xEdLvjlcAKMaULcdT1OzDI\n",
       "3W+UM5QjhhMT2NQO2uLe1yyYpnFYIE8A99IiR4tQFEzx2jGb3jEr1ZTeMObRMEbTuI3Y5zxjHsjt\n",
       "Q+44LbeKcmRCFbtLOK6I2wMaMU5mSLep415lXeBjuy5paDOihEXNPAcYNdPcfEJwn4dyXhYFRYl8\n",
       "zXHTRP7UrQo1DocQ5tHYGu/jsVpwjfkgN758FfZykaV3O7FGntbDrugH4S73xoAt43BG+l1eGyNk\n",
       "LNLLqS0irQ7r3S8Ts/lWcVNG5k71U30TBVpd+yP/7pTvh9XIFXUzYcyjkVN7YWSx3zPmg8fz+fw+\n",
       "9rJ/8XbctZpKDsH57zl1Ouh5LEhxjXdsSJp4Tl5+4trQf+ET4cWPMBecRRP0tHSp+oo4/BkOlkPi\n",
       "BQWtvL8/ZHCXq2GFHcZcGslx5QL0PrR6xnxQbmMd6m2PxskgiBqzQsTNrjxJzzEHiTZX3iYvP6TI\n",
       "zkZeV2Ur9Vy29NnpQSu6M59/hgNcEXuxoV3D/eQfk2jYphvJh1GhhvfKMbnOO+3HKWg+1nOesQAU\n",
       "7ui2ONl0kQwvUrq7If/mI0JMeIVrI+u2dK/zGKdkbtX9einT0yoAdnGSz0q1MNyJnHSpoYrLZRyR\n",
       "KxRs8jRsfrdFBmi5mr6yDHNptEGjcx9TOz1jPtjYTK3LgkpBZQiYOHYUFIYzbVIcyZZ8jIS+262y\n",
       "a2rUH22mlRx8IvZiG9MYIloWXrZhMFPFwLStvYCYg7fJZkhtu4UD2VLMpxEhN1MdMU5zYRXGyIQE\n",
       "9WKxeJDPdw/0EwxrV6FREBFcXMXZS+IPpZ+GVduEf9suQBvcgzgda3L37D4HW8aNp5ozz9LUXnq+\n",
       "PNnyM6I3AZ+238naZWptIcynMdiHocuOLGXSGJlwQWr7RWZ1TVgMf3axuUd6n6szi12Bzweqs/Cu\n",
       "kaCtpgCXzf/oVSg35ChRTa0EK7nFRSuJgUQJXFgc1pb427R0ixeWnEoUFv+zuAy1ChrVTVSBl/kn\n",
       "9qsqf1UWwZzlqVWj4fwj+L9u6r+94N8eT5FQLM4JiwAAAABJRU5ErkJggg==\n",
       "\" style=\"display:inline;vertical-align:middle;\" /></a><br>"
      ],
      "text/plain": [
       "constructiveDilemma: forall_{A in BOOLEANS, B in BOOLEANS, C in BOOLEANS, D in BOOLEANS | A or B, A => C, B => D} (C or D)"
      ]
     },
     "execution_count": 19,
     "metadata": {},
     "output_type": "execute_result"
    }
   ],
   "source": [
    "constructiveDilemma = Forall((A, B, C, D), Or(C, D), domain=Booleans, \n",
    "                             conditions=[Or(A, B), Implies(A, C), Implies(B, D)])"
   ]
  },
  {
   "cell_type": "code",
   "execution_count": 20,
   "metadata": {},
   "outputs": [
    {
     "data": {
      "text/html": [
       "<strong id=\"constructiveMultiDilemma\"><a class=\"ProveItLink\" href=\"_proofs_/constructiveMultiDilemma.ipynb\">constructiveMultiDilemma</a>:</strong> <a class=\"ProveItLink\" href=\"__pv_it/866420af80dd674716eb851c49af4c945cc409800/expr.ipynb\"><img src=\"data:image/png;base64,iVBORw0KGgoAAAANSUhEUgAAAtcAAAAZBAMAAAAI3R+DAAAAMFBMVEX///8QEBCIiIhmZma6urrM\n",
       "zMxUVFQiIiJERETc3Nzu7u6qqqp2dnaYmJgyMjIAAAAcRTyBAAAAAXRSTlMAQObYZgAABwBJREFU\n",
       "aN7tmn+IFGUYx5+bvd2d3Zm5uz/KMisGDb3+UDdOz9QzN6TsH3HPQAsLF+3KJGpJyFLDLazWDG8j\n",
       "skPQ2xS0NtIlCRGURiyy02S7S5LUvDr9wyAQf+UPrN5fM/O+78zs7aERtL5ws/O+83nf593vPPPM\n",
       "8757ABVLZNlrcKvclDJzmTUIEb0l0k0rsfQtsasoG290AC1Pxe7HlRPBYjfgD6Ncy1rHs0iBly61\n",
       "LF5dfR+Jf56KfRCf/x4stl5CHw2FWha7AftlHVJ8eoq1kM+wBwy7F0UetlOxu/BHNlhscq2rpqNI\n",
       "Hz4sQA/37ARr6cCHXm86gcU1TPDwoJtEbOy0xHuDYjb2+oM1LTZJyMYj9z5pspa5+LDc69n4FRil\n",
       "UUDgId5ExDZ6isWPKr0gjxeLn2ZqOosg3/4NpNgdBS6w1Ce86Bn0N4OeCjzAKZqNXM7lVlYSuzGX\n",
       "e8eqZbEVouolgHlLnOwCNal5L7oT/a2hpwIPsJ+K3eFc9xcbBSK/cWunqDgVC1860bzCbUPO/oS/\n",
       "XGH6/pN4+IWKPQPi/ZXERo/Ldmp0MMmDgMfO719csW8wUD/Y2L4XZeep72xrXVPljL1sFL/RlCsA\n",
       "H6cdiUcCPOP3EJgQSdIzxttlFxU7CoqURc9rSyrD3EVNBsaS85NJ7kaNmzTVY4oHeMZoAr3JzUB/\n",
       "G1gqvZBFgGfUgLErGjYuyMAPAPuq6OjP1mFIRfNTrsHjk2jbNn8PjWeYY9q8UxZQsfUyv0yM72kp\n",
       "a9kemOKK/T2QN0R8etlFFD12LCVbml4WhnGYUBq0q7T9s/3TwLQ2fin25ACJUaWxDfYnVHjDuGy5\n",
       "LovQCvCVz1JB7ujPErEbkVLKOYCZbMYl/wxuqp242bwkdqx/Lkcf3V0ErTcEliv2JpLRgL4t4SKK\n",
       "Aj3yRB1AZqImhKgfGGs3FMA09c+lYOUAMqNKYyvoi693HlpW4Q3j0rPUPd9Lji8DPOQjjdQxgCVh\n",
       "BKfNkQuO2LF+/42MTcASN5t3tqHY3sgaFH2MaXNGKaNTNJ/R5j9pcmKr68nDNkeloZ8gilJ/XI53\n",
       "NuBhdqRgHPUVkhaZ5qzvxJ4uIDOqPDb6mOz0YxXOMHk3mTlunYFnEL8Iit8iWeoYwJIXJE6bF2Qd\n",
       "seGtXv+3x9MstWZ835GRiZEd7gsSdqKbYTxcrluipOlOiJbqOcKJrdE4lQ4hDiUzBFFCD5yWDRGA\n",
       "5aECM3tsM7ITQXIS9zVb7pUiEAVYERiVHxtnUl/zm2eswhkmmsEkau1ALpdbdxu+9+d63wbaP2jG\n",
       "Msv7P/acX9GVOwuu2HPpkmYHmm38L2AHdKOfY07D+B/vgWGF0ajexsRuRDdjwxhoTIYs2ELF1vUE\n",
       "t+tHQo9RUs7CU3cBRVCImCwpRgA7agrMYYAxEN5XgHiCem3oQ7ErAew4KjAqNzY2Dp9AyH2iaIU3\n",
       "jMsxGE+ssVgzAcnVD0qG9g+ascQK+Qmqvvj3otZcCVyxG6hAUSzgK2AfAAboB+NjmzNwAQsNp5nY\n",
       "Bp7XQmjHwWkeusGmloqVM5zYP5OtlLYDV8kSlSBISMsUp04Bls8IzHsA3SW8jA2/msu9ieOxInal\n",
       "AAsCAqPyY2Nn0pNbOZ8jFd4wvlsDhzoL9qIZVZ8tgGpB7Jp3fS11FFjPct2NvTRoB2zNbZB2S8xw\n",
       "E6wgaQr3SN4OzdAdRo8g8Wx4xJT3s6dA7CKZb4R5rSUtVwnQt7dv/jcyg+Y+O0++fpp6rR4SuxLA\n",
       "mHpi4p6UxKiScYhnJ/J7nxMlwzhRKEB3ilgb1YLKInTSWIL6K16x+Y4S6w5nb0RJYldZ6lJKNnY2\n",
       "ZW9EsRt1Fvn2UR10sm+VBMOSxK5Hb4nrZL4EUXQ4ZMXeha6CfaDAF/11pT0SE7sKsbvpBg2Zv2np\n",
       "h9yODqCNgxGaxTOO2K5xlIiiKbPOtCIYRo2zkGBlYi1eLBY3Y6/pLsD7Fu4fPGOJZa3epc+uoYnd\n",
       "jXzbyFr2FivTMg1nYH0PwFp8904x/+LE7sxC159l8n0x8tPhB/+A8Ahoz4eH48MIBkRS22CCxHx7\n",
       "vmVxkoqtomBhrBxYV4b2Eu043AU64plQkmccsTnjOHOxrdKKYLi9pF6GWOfrThghqeGqltbVZJuu\n",
       "woxFlmulPx6w8sGqhUMS+1FoyMdeKJA1rfdnMQUFW3G5LpTlAqI57ZrD74RMyZchX78ZxWNaSnJX\n",
       "yGiJqCYw3ArS2dOMC0GWmyg1XOKtoZIX+wfPWGS5VrgJP4sZeRj6b5Bzzgvrpt2es61wHyzM+zHh\n",
       "8cL6XsvLQDytJCP3y3lrsHGxMMP2sJI1p381Mw5uvcGt2iGKLZWyz1kwI97rKrrKnl2NCw1yvVyd\n",
       "2X9nX3xQsf/j/xsJ/X92amcuS/8D2MNwl2qOzjcAAAAASUVORK5CYII=\n",
       "\" style=\"display:inline;vertical-align:middle;\" /></a><br>"
      ],
      "text/plain": [
       "constructiveMultiDilemma: forall_{m in Naturals} [forall_{A_{1} in BOOLEANS, ..A_{_a} in BOOLEANS.., A_{m} in BOOLEANS, B_{1} in BOOLEANS, ..B_{_a} in BOOLEANS.., B_{m} in BOOLEANS | A_{1} or ..A_{_a}.. or A_{m}, A_{1} => B_{1}, ..A_{i} => B_{i}.., A_{m} => B_{m}} (B_{1} or ..B_{_a}.. or B_{m})]"
      ]
     },
     "execution_count": 20,
     "metadata": {},
     "output_type": "execute_result"
    }
   ],
   "source": [
    "constructiveMultiDilemma = \\\n",
    "    Forall(m, \n",
    "           Forall((A_1_to_m, B_1_to_m), \n",
    "                  Or(B_1_to_m),\n",
    "                  domain=Booleans,\n",
    "                  conditions=[Or(A_1_to_m), \n",
    "                              ExprRange(i,Implies(IndexedVar(A,i), \n",
    "                                                  IndexedVar(B,i)),\n",
    "                                   one, m)]),\n",
    "           domain = Naturals)"
   ]
  },
  {
   "cell_type": "code",
   "execution_count": 21,
   "metadata": {},
   "outputs": [
    {
     "data": {
      "text/html": [
       "<strong id=\"destructiveDilemma\"><a class=\"ProveItLink\" href=\"_proofs_/destructiveDilemma.ipynb\">destructiveDilemma</a>:</strong> <a class=\"ProveItLink\" href=\"__pv_it/6ba8d8009715f2af12f47ee824dcdf04ea3269aa0/expr.ipynb\"><img src=\"data:image/png;base64,iVBORw0KGgoAAAANSUhEUgAAAfcAAAAWBAMAAAAvNMiHAAAAMFBMVEX///8QEBCIiIhmZma6urrM\n",
       "zMxUVFQiIiJERETc3Nzu7u6qqqp2dnaYmJgyMjIAAAAcRTyBAAAAAXRSTlMAQObYZgAABgxJREFU\n",
       "WMPVWGtsFFUUPp19zuxs2x8kajRmoj+sJNCa1ZZHlU1IpH+aFn+If7Sb1EclBhr5IQSIqyFkK2rr\n",
       "D4GQQIfUFFJFa/AREg0j9VkrWeWHGB4uFH7YxEBAKw8NnnPPvfPY2QViYnRPctp7vz13zuOec+6d\n",
       "Aahl0ovMAUoNlYvtLAcOSC7R5ESNOr9XskdPID9bJmXk3WF69WymbxPEMT7E3xI2U6PO/yLZo3PI\n",
       "79IgJqbd9Kfelwp1GIgl3QZuOfF2yp58bfqebmH2IedsANPCUZz8TtMIjvgEerBIulrgEA6R60l6\n",
       "vDadTwwxe/T2EpwajbTzORKwCVznE2jG33+2YDcOkdOTY2PbajTrt0n2qNicxb9nVEksFV2x3yfw\n",
       "EsbmFhvqUYz4UqGw4d+yLrArsSo4F+Y/obsluxS1D1Lvn6DxfuQBGmj+wpgFWLESc72F+SkpI//6\n",
       "njTY3lqOwdFe595ysedCYlH+Z7qluLldG0pl1dQMLv1A4QOVNHVcnOjzBatj1pu+Jtmlt6CHqvyk\n",
       "qAkMt+hlSd9ZGJs90bSeDCoxLxV9D8e/SUNPT6/hHvA9wGeMnZzftlgMdlmwtzEstnwoiCV5mTpz\n",
       "9NNgYL4tVCa4ZxEvjUhnlAVBTelGMBt9La0RYrfJ8XrmyAtEDk6yMEzb/LHYcAviItwJNKmNJDDB\n",
       "tctY69gNUv3MCdBEaEb+ooYx8SBYzs4PxbNbAQ7aYHySKWqmfoySU0fz0vmwWDwXxNj5mCONHEYj\n",
       "jgKMQpqs93C51MjxTFig4iU1oWs5SF3xfsApPC3HcySLBYjHejOraU2PON37+cyDOpVxW9EwDKN2\n",
       "FSXPM5vFhPhpcg2q27LDBssy9wnkeYCH0OoDY6BpMEkRSqDZMSsspvUHMXY+roqZesojdN5qWTLB\n",
       "xeVSdVSTBXRD82mikQWRkovTFO6p4jxWW11JOQ+L+Q4TcL4BpbQLnvN66VGxTVZBdkfL6vxGhO53\n",
       "0GYgSnmkadHjlJvNeHQYdkiM8jKAsfMJqVSjjRsDyrA8JX/CvXrxUpgHrgWqKqQmpPe6Yb7tVQtO\n",
       "VTGqtHedx/xOUIUs48IBbvOJcc95OubjmFTRfmYYeFJsE7TJu66VuVNsTfTCD5txu4T5kfvO0v+1\n",
       "/JSgGAYwXgpiSfckEtrlHSqVg8/JSPd0kkvhI1AWmAWkU1lXE1LXvKach0MX8qoKDQ+fq6OX9edV\n",
       "w4Pk4xYEGt5WPuZ78l7Dg/0iQMegGYwW3r7Im6InlygnR4TzGiwkr/7kDSsXgzoniLHzHQBfo82l\n",
       "Blnj0TxexLG7KVwuFYLSAnmEZaUmosNemiNOU7hDzifUscYHJgU1iR0N2jmTnuGEMVu8s/YUWnEr\n",
       "whGHGRooQMb01KAdW1sovEyFqwkPHNCvwgo000LnHUsW7z4IicH75ZhQ9jDrzFH9Ghj+GLqbHfVw\n",
       "uZTfRtgC/mV0pdRE9Co2zHEXp2lKNf9lboqLt5xrM5Aa/ANdPcvAtIy5d8lZda23tUAPq+9mhjSp\n",
       "jNgw3A053j4zQv8bxiF6GZORd96h+C1AdiAkZswpw9j5x6STkTwf7VFs7PkHPFwt5WgIC7QMUusi\n",
       "VxMS9uauIRen6e5s1estyD4vaIecrwtfj/ZIZupEL4rwhfDAMadgO5piwxsOmBQfzYQpR38FEkV4\n",
       "B5UFxHps2JX1Y67ze5STG8GgPphGb77L+XC5FI7Tc9iCMaS7yC+hCVXqV0DHNFd4DKdnqr/YcJ5b\n",
       "wfmRsPPyxYYpeQn0wY2QxJRIb5h+vQjLx80XM62b8KctyD8eXvArxG4H+LJ9LkmXiS0KYF63t+Vd\n",
       "1uw9JLIry81a4Wop3I/PkRbIvi01ocqvLmb6sm4/p2mvDf4rYegSKo93j5Kh5FCvtEFqwsJlcl/0\n",
       "NKx52a2vJ+bDlPNa2csiHRxGBZxOCh+k+7/KQGW86seMSvd0I/TGTuEIh+Q634L4w89NiHnX2zKl\n",
       "n6pBGY63lyrPqaTyhp+x0jf+jPWT5GrfCSpgxZsT85zvDG5Ai6/B+Gmk6nMqqfzfU6RSXmh2lXyZ\n",
       "+1+Z+Tdf9OdmMYSqoQAAAABJRU5ErkJggg==\n",
       "\" style=\"display:inline;vertical-align:middle;\" /></a><br>"
      ],
      "text/plain": [
       "destructiveDilemma: forall_{A in BOOLEANS, B in BOOLEANS, C in BOOLEANS, D in BOOLEANS | [not](C) or [not](D), A => C, B => D} ([not](A) or [not](B))"
      ]
     },
     "execution_count": 21,
     "metadata": {},
     "output_type": "execute_result"
    }
   ],
   "source": [
    "destructiveDilemma = Forall((A, B, C, D), Or(Not(A), Not(B)), domain=Booleans, \n",
    "                            conditions=[Or(Not(C), Not(D)), Implies(A, C), Implies(B, D)])"
   ]
  },
  {
   "cell_type": "code",
   "execution_count": 22,
   "metadata": {},
   "outputs": [
    {
     "data": {
      "text/html": [
       "<strong id=\"destructiveMultiDilemma\"><a class=\"ProveItLink\" href=\"_proofs_/destructiveMultiDilemma.ipynb\">destructiveMultiDilemma</a>:</strong> <a class=\"ProveItLink\" href=\"__pv_it/3729ab776ec77c8150d7a256b1cb9c05919c763d0/expr.ipynb\"><img src=\"data:image/png;base64,iVBORw0KGgoAAAANSUhEUgAAA0MAAAAZBAMAAAABE+jQAAAAMFBMVEX///8QEBCIiIhmZma6urrM\n",
       "zMxUVFQiIiJERETc3Nzu7u6qqqp2dnaYmJgyMjIAAAAcRTyBAAAAAXRSTlMAQObYZgAACAFJREFU\n",
       "aN7tWnuIVFUY//bOzuw87t3dP8oyKy4WaoK6sT5S15yQXP8RZw3UsHTQtlSihoTMRziF1ZihE5Et\n",
       "gu7kgmsb2ZClCEojFtlqMu1mSb62Vv8oCMRXPrA6z3vPOffccU1iCeaDc+fOmd/3nfud33l857sD\n",
       "UFJCy5ZDWfpRGpcVboKoKndSP0skWaboNmQzKx6JZW/FhJ8FYgVR1IMrTvpTVI0/rGKZD69E07Qw\n",
       "sV68XL9oDb1ffAsmNOrMwmJK0SH8/Xd/isw8+qjOlQnxSnWWFi4VqL8nJ8jtDnIl90GPXtD90Ued\n",
       "WdhBKWrBH2l/ishvLWU+NNLNCpf5aK2ZUUduTRtfm/GlyxuDYR4sG/zVmQVcEEV4gpCZ4rcX4Rl2\n",
       "qMyHRpazwmUUmhKnbbqA1eLrLHxZ4Z1FOAKoyoG/OrOAC6LI6uzo+KBUuHCio+OjVJkPTayVosWR\n",
       "11Cn3sW2hDN8Gaus82r+hsoUbkKrziycoRHdlUxmVSmKajKZtwplQrxi1NHiyGWA2UvY/QESlqFf\n",
       "w5rgbicqa7kJrTqzcIBS1MzgfhShlTOc7e/u8DxAoq/AEtjblHCRFmf9unxy2Er+5RS5okkyR9+r\n",
       "wTQ3oVVnFk5RiqZAtKcURWim0vjkpkT5AaZdOLCopK4/oJLtnW4NG06f6y15gSJWHYqVGxrGru2j\n",
       "J15sVZ6WccuQoIXIuArwYZKRsptABgM8o5t/NoTi3ISqzmU3LZiiKjCUU8/shrgxwD26pmAEuT8d\n",
       "FygeOW6ip2URIGKsWjBr3fj/196lSngiA0RMWD1mWBfpZ0BPqRcoYIUqJt8D7NeZUTzRYyvitBDZ\n",
       "iJ4VuWBchyfGkfCM1Lbrh380xUa9Rt0N8GjBFJlFMYUQ3VtfjKU7YYJL0XdANrXo5KILMczIcXX9\n",
       "cAAqJpCE2DVa//GBSWAXNn8hawoABUMpCrp7YdsN1kAScGtOixYpGiDFqlVMxgJ8qTnyiZ74Y1WK\n",
       "alAzxnmARpeiQF4fLE9kMbJOXUNRpGeWoHxsTwfEugJQcCnaQoJEMNvrXIhhQKfqhgNQMVU2BOhg\n",
       "stZtyoFtm58oy6kDUDFh9yBBpXOpExU9KCawjDj2UwdkEZRStY9cXwJ4VLdctkthmA+WL3S8j/G5\n",
       "JnSRUdRIg74efQZtCx31WnUujbQQF9ei5dKaNPMBY0iChoixuU/aAkXhjYTrmWF6wCUQw6g8oS41\n",
       "HODBfJqAkXT8kUjTtqd/K2u6ABUTVjKFQTvD7kbg34TlDrU9XgskWE9VCGtGL4GhS6wInpTASuHC\n",
       "RnqumZ9m7NBwAd7o0u/aT9sghQuuevfRwXWDm+VwAXYiRq3HihVLjCTNyMUSnUcFimJkcYVkAOFQ\n",
       "UEggRuDhs2q7BMBSIxJmxohhqJ0QIoFMFbv+fmWNpAAmEoZS5J7bQjCOWoJdYMaxZ1y+ws4oQC67\n",
       "ZN2DmUxm/R14JJ3vehOIU76eqFhxrtXRwpM6vyDQ3TlGUQOtnkUPrtG/8EDsYTcI/VzOMaGo/3Af\n",
       "DMgNYRYaGEU1iNFNQ6EmHihAG6XI5LpkWJIF0sob5+Cpe4BC0CI2XulnAuAbgYQ5AjAUgvtzEK2j\n",
       "MyTwvqxKAHwfkDCUomm0q5CLx2EUsYTromk0bxzZjqeUDHQjRnJ1dcnTjUY91ANGijjl64mClWK8\n",
       "FC1MXvh74dhMnq9xbABXs358Gfdlkt0g6XVNyOqRrSm4SOg5SwuhyMJPvQCa8Mo4GzloxxKRYkqg\n",
       "6GeS1ms4eI1kMwgEdX/Blh2jABYTSph3AFrzOOMRfCWTeR3vM4asSgFsPEkYStFUNrgh2nt4Q47m\n",
       "TuahiRMVYlQzvs0D5DKPcO/qkq/P5iBcgMh1b4pG9ETFlkoACZtIlPVfxCf/vEkwoSTw7GAtrKQW\n",
       "cHG32zthGLQG0WJAZhE8boOyC0yAyCXiTYjNkIKS2SCA7n3dc79WMcizGVnSOUk6Q8yArEoA1sST\n",
       "Y/YmFAylaA7v+UAOWhO0mxEb2wMJMa0/RgVyi5Q5V/eBeiQL0U1NHiqveikSPVGwrFafRhUoMu2+\n",
       "Z2JlqUgY6ci5hJhGZWyfQ/PomAkmScLGwSooFFWije0G8YZADBMOFyJvQ0uOXyjgs56K/F4FE7kG\n",
       "kXtp3pB4ZxfMw66iA4iNhEGxgohxKGrnPT8ddVWRUnQCtfIjenDWPDobJFUgt4iwLTlBN9rR0bEV\n",
       "92FrDt4tYKf8PVGwrNY94GoOubudlxF9yFB41FvRPLLSBfFlBGMgiSLTjZ0A6/AwOMPGskDRhjS0\n",
       "/FkkAw5DfjryyB8QHARN2eBAfBnEAKFEO4xWMN9cqF8UpxSF0XJmrepdX4SmPFUc6AKao6lAXMS4\n",
       "ER1dLrLhKxDZ8Cr9OpoEWcCs0LBQBTKLCNuUF3VpCAXm6vqxa0guuoQnMlao9bzSY/Le6gWlUmrK\n",
       "CcyjPhWqs5Hnc8TCWtC9GDfQJiIngCRZIUFiTn3Mwe+EVF6LIZ0zDO0zVPKqKqRidVUxCcMpMuTz\n",
       "H7GEAz9poY96gdxij9scpygrO+XviYwVaqHEi3Hrtl+MYwtWFm79vwszL0h9sMdztw0dKBdkdZjg\n",
       "KClj5L7d3+PkAIx46CF1IXAOPUK+EVuK6V/VS0BuEWF5c8pTOE71xRP/2v/0lcctUqRIUXPnj5FH\n",
       "SR9UXYqme35o0+On6yrbxOb+vSf99FbqphT18//oAuqc4zJcj9f+9Wb4//ilVOOy5D/vY8WVoFM5\n",
       "agAAAABJRU5ErkJggg==\n",
       "\" style=\"display:inline;vertical-align:middle;\" /></a><br>"
      ],
      "text/plain": [
       "destructiveMultiDilemma: forall_{m in Naturals} [forall_{A_{1} in BOOLEANS, ..A_{_a} in BOOLEANS.., A_{m} in BOOLEANS, B_{1} in BOOLEANS, ..B_{_a} in BOOLEANS.., B_{m} in BOOLEANS | [not](A_{1}) or ..[not](A_{i}).. or [not](A_{m}), A_{1} => B_{1}, ..A_{i} => B_{i}.., A_{m} => B_{m}} ([not](B_{1}) or ..[not](B_{i}).. or [not](B_{m}))]"
      ]
     },
     "execution_count": 22,
     "metadata": {},
     "output_type": "execute_result"
    }
   ],
   "source": [
    "destructiveMultiDilemma = \\\n",
    "    Forall(m,\n",
    "           Forall((A_1_to_m, B_1_to_m), \n",
    "                  Or(ExprRange(i, Not(IndexedVar(B,i)), one, m)), \n",
    "                  domain=Booleans, \n",
    "                  conditions=[Or(ExprRange(i, Not(IndexedVar(A,i)), \n",
    "                                           one, m)), \n",
    "                              ExprRange(i,Implies(IndexedVar(A, i), \n",
    "                                                  IndexedVar(B, i)),\n",
    "                                   one,m)]), \n",
    "           domain=Naturals)"
   ]
  },
  {
   "cell_type": "code",
   "execution_count": 23,
   "metadata": {},
   "outputs": [
    {
     "data": {
      "text/html": [
       "<strong id=\"notLeftIfNeither\"><a class=\"ProveItLink\" href=\"_proofs_/notLeftIfNeither.ipynb\">notLeftIfNeither</a>:</strong> <a class=\"ProveItLink\" href=\"__pv_it/5cb8a36de8c6d86ddcc7982880d4de9a99b294610/expr.ipynb\"><img src=\"data:image/png;base64,iVBORw0KGgoAAAANSUhEUgAAAK4AAAAWBAMAAACru7rFAAAAMFBMVEX///8QEBCIiIhmZma6urrM\n",
       "zMxUVFQiIiJERETc3Nzu7u6qqqp2dnaYmJgyMjIAAAAcRTyBAAAAAXRSTlMAQObYZgAAAqpJREFU\n",
       "OMulVU1oE1EQ/sxuzO5m0+bgTQ8BBUWpLUQiSrEBQXuRFg+exAa0UE8GPQj+YA4iG1ESL9pbFioo\n",
       "FWJAUTy1EsFSRVYPXvxbUA/20mItrRXRmbebZLNuFNwH7+3MvHnfvpn5dhYIP1TLZ4iXAZuFd6Fw\n",
       "b7dpR2geB56xPBcK90ubNk+zCoxzIIUwsIm+Nm3eBPQUuvhRC4MbK3u1OwOkakkkZicnb4RKQ/tp\n",
       "qzdL6ydgxTDO/bvkAbZh97nRa5TNKWZHHRgFisLkrIOL9TERmOx1n+ZFaQQsl/ozRdx3tatex5sY\n",
       "SdHjPbAXmuBa4puT9yT0pEDxeK8ViB+yDf0l8BiS+5qzgHSaB788iwqX8SGlHRHB64mfwkvKIb7q\n",
       "xz3MizZggT1pZoApU8s5m+sauSI9ejR9gsk1QmSwYsI8e8qpbgqS7ccd5UW/1YdNzvGTwJ4mb724\n",
       "lLw1toOr2ofYGk0ZYvfuMLabftw8LweVAhspfG0JEfqUepp5aOISYWOcxf1cr2Mihdgpdod6tjjx\n",
       "eXBVgZuT8tCzuE63+vrqEhketNeNcFXC7Vpw6oZ74tQb9IrdF8BmD+6MYRi2zClL1CIL0ArYRRmx\n",
       "EaFDgw5evUU8prLynZZ+mt1MDO3j85II/wpQqbXfNydzBNX+GarnE66WMg31h9Nh3JjdBvRrDvHS\n",
       "MhHiM1+E8SQTFUF08h8q+3CjfN/dUJfoqERe3TXIdKt9Qd+xGFq+IR0gb0u9DHUV6gZffnPsJhO9\n",
       "iIn6azJUTFwjsr4N6jti6ClXUFagls5H1+PpYnos68Mt4wxQKmB82WIqQL+Qzlwk+w53v/gHbtXf\n",
       "6D2yl2fbWqLZEu3Avh70pkcdcJWgXhS3Ov2HEv6MWx2wZCsAd+L/2qrUKZDG2Pq3078BfX+j3ZIl\n",
       "ue0AAAAASUVORK5CYII=\n",
       "\" style=\"display:inline;vertical-align:middle;\" /></a><br>"
      ],
      "text/plain": [
       "notLeftIfNeither: forall_{A, B | [not](A or B)} [not](A)"
      ]
     },
     "execution_count": 23,
     "metadata": {},
     "output_type": "execute_result"
    }
   ],
   "source": [
    "notLeftIfNeither = Forall((A, B), Not(A), conditions=(Not(Or(A, B))))"
   ]
  },
  {
   "cell_type": "code",
   "execution_count": 24,
   "metadata": {},
   "outputs": [
    {
     "data": {
      "text/html": [
       "<strong id=\"notRightIfNeither\"><a class=\"ProveItLink\" href=\"_proofs_/notRightIfNeither.ipynb\">notRightIfNeither</a>:</strong> <a class=\"ProveItLink\" href=\"__pv_it/7c84145a71523f7a3ce8911a04d39dfcdf665b380/expr.ipynb\"><img src=\"data:image/png;base64,iVBORw0KGgoAAAANSUhEUgAAAK8AAAAWBAMAAABEedH7AAAAMFBMVEX///8QEBCIiIhmZma6urrM\n",
       "zMxUVFQiIiJERETc3Nzu7u6qqqp2dnaYmJgyMjIAAAAcRTyBAAAAAXRSTlMAQObYZgAAAsVJREFU\n",
       "OMulVUFo02AU/miSrUnTdgcRQQ8FBQXRFgYVZWjEg15kw4MnwYAOehGLgsJUrCCaTqXxorstIjjZ\n",
       "QQuePIhzExxTJO4wEBELnvTi2Nyck6Hv/WmWLG0V7A/58/73/+/Le+977w/Q/lDdqOYpPTUWPrYF\n",
       "/DAQZ36fyFsGOmzgNa+/tgX8JSRvAKQFaOTuEMdSagc3mQtkZQWQ54FxIOUAerUd4E47kGM/6UNz\n",
       "wD16TY2O3m0rE2HreBeBDpC7BrBkWRf/TXwTnVJ/bw7p0iaUc5wDSk8/UBZKbz40P1EQsclhkDHh\n",
       "jh+zXOnJl5EwvNWt0Lnjp6avc16TxN4BwSHJ3z0quqB3CZjQ+Q4B+cnw1++AF8Bub3GBCuE8D/p6\n",
       "1oa2nnSJIuUeMVHg91fEMclEYjkKfIwnbZ8LPklPHnju4IG3uc5PlwlcoXeWXFZmKR1up9BPnfU4\n",
       "zkCqRYH7edJHctji2Z8B9hJDdgPwIgNnPGC1dlRQkbHE9uM+7HSiwEWejsRLrJQo2gXEqKe8SDkV\n",
       "PjCXMU5TxmS2KJ8UacQusd27Y5uJCLAqgE2pCN3AHTKbm77GiTTXkEfAXMbKUp08PBFmH5AV22+B\n",
       "rSHgScuyajJ3ZrIam4VWYsr0GmJkJHsNO+F/vw8pon3/IDPFZZTOMDOf31REBm4Cw9W1Hpsyu/ao\n",
       "Z5JIfamRHB+D+ot8E1zgYFA83xa7CzdYSvWxKwwoORjmBcig144AK+zaHqgLdJNJdCpdhUxBy2ZD\n",
       "S/tjZFU6TMdddRDqMtRNkRybGsdNTBE1+gwphh3cpliTYw2XkD/GV3t8CWrlkrIRr+a7C0YE2AZ1\n",
       "f6WEoR8uFwT0y935qxxlvWHKDbhey4VGInyfhOTtgegEYqrxovdt7Sa/lGbA8aY307OWv6b3UYXb\n",
       "Akx2m+Bquf+7ZqVWoaxe6s7fzP8AH6uqOocefZAAAAAASUVORK5CYII=\n",
       "\" style=\"display:inline;vertical-align:middle;\" /></a><br>"
      ],
      "text/plain": [
       "notRightIfNeither: forall_{A, B | [not](A or B)} [not](B)"
      ]
     },
     "execution_count": 24,
     "metadata": {},
     "output_type": "execute_result"
    }
   ],
   "source": [
    "notRightIfNeither = Forall((A, B), Not(B), conditions=(Not(Or(A, B))))"
   ]
  },
  {
   "cell_type": "code",
   "execution_count": null,
   "metadata": {},
   "outputs": [],
   "source": []
  },
  {
   "cell_type": "code",
   "execution_count": 25,
   "metadata": {},
   "outputs": [
    {
     "data": {
      "text/html": [
       "<strong id=\"unaryOrLemma\"><a class=\"ProveItLink\" href=\"_proofs_/unaryOrLemma.ipynb\">unaryOrLemma</a>:</strong> <a class=\"ProveItLink\" href=\"__pv_it/b7f6cea6cef655b61b97c15a85f41b4e99462e0b0/expr.ipynb\"><img src=\"data:image/png;base64,iVBORw0KGgoAAAANSUhEUgAAAOUAAAAUBAMAAACAKeeZAAAAMFBMVEX///8QEBCIiIhmZma6urrM\n",
       "zMxUVFQiIiJERETc3Nzu7u6qqqp2dnaYmJgyMjIAAAAcRTyBAAAAAXRSTlMAQObYZgAAA0NJREFU\n",
       "SMeVVk1oE0EUfuZvs8luVPBcFj3oqQ0U9KBioIeCUMipCKItaBFPRirG1gpBEBJEk4tUKrUrCi0t\n",
       "lmAR9WSxerAWWexJRAnGCvZgixasgtb35s0m2U021oGdfbNvvvnm/cybBWjaVAtal6T84Zx4jVaU\n",
       "TxoARputFi0wqESD916zJgCeVwZCimSEHERcqFA3n7VHGy11HJ/TDHpF42Uvzi/EFBRikjljTBRb\n",
       "RYJS3XzWPgCJoM3ZqhV8phl0kzyY8aDU48QZIrBuMOeidPQv7J7VAVgrOfuoe2MvtWICaIYAxUgs\n",
       "enAqBWFnL4kmcw6wD2d+Yn+nDjBQy9lN3aDUTB3CtSLbBEifn5wc9nLtMEcRPQwdHE81xbv2rZEn\n",
       "E+6US9VykqMDcamy2mjyJwatZ7NDXpy7mHMGXznm9PEah6O/sdfirvlSKzmjOArLPAuYTy18zTGo\n",
       "T6wHdu9o15hTwVTIMGfYEq5NBL+RtSKJXn+lVoaK1uYEtPqIFO9Bj0FpwKAOmX/6mgz2x3K/Hd+L\n",
       "zOkzIJRgTkWoAqB+J0NS7vgXHZw7AU5KMQFj5INHDFLAJ3Z3l7w1NXcQjNnRh3LmDuaMpCjLBecW\n",
       "EcLu9r3rdA5WXZysrXCOV45T8ET7GTocPQzSLEV8nu9HG6+OmGAY2n0nJ+wXx7jKiV3LJjj9RftE\n",
       "BFBXqnKqJZHTQSMrkhOQs+ul07dwm0JT9W0Un7O0Uqoaz88NfKuWFCnhdwXPCXRKUE74PAT7ZCE0\n",
       "2luSzhyC8DEDanLoliwrursQuXIIrsiKoBa5ctk5BDNit++gDSJxttN/Q2LmJFPwlCklynRxCvN4\n",
       "CPyzLk4t7uTsHqye8zBVkQMStJVsiJQX8mbwQjZ7meLpk5hOu7KX7RqPnonk/5jweAPDH0u6OMlv\n",
       "+9Lp7en0ea4KvIeJjWWI5n/gYEmCdLLBb8JYEnrZTs3vqH3YRir3ykANxbhH7avWJdN17aRqQV1o\n",
       "rwUvBOestuCo8Y67bLFmCa8a79lkjZfBXwc1fwnCGGt9qHzdsr/n6jjD1UuzwV0WLjTlnG4E2oPx\n",
       "3NSd7UEQyTTlzP1zV/xvstv+N2l1/5u8/d9/E70gQH8B/Sj4Z8s4TucAAAAASUVORK5CYII=\n",
       "\" style=\"display:inline;vertical-align:middle;\" /></a><br>"
      ],
      "text/plain": [
       "unaryOrLemma: forall_{A in BOOLEANS} ([or](A) = (FALSE or A))"
      ]
     },
     "execution_count": 25,
     "metadata": {},
     "output_type": "execute_result"
    }
   ],
   "source": [
    "unaryOrLemma = Forall(A, (Equals(Or(A), Or(FALSE, A))), domain = Booleans)"
   ]
  },
  {
   "cell_type": "code",
   "execution_count": 26,
   "metadata": {},
   "outputs": [
    {
     "data": {
      "text/html": [
       "<strong id=\"unaryOrReduction\"><a class=\"ProveItLink\" href=\"_proofs_/unaryOrReduction.ipynb\">unaryOrReduction</a>:</strong> <a class=\"ProveItLink\" href=\"__pv_it/66df64c99882ca200e84c1d7c6f4539ddb5d5cd90/expr.ipynb\"><img src=\"data:image/png;base64,iVBORw0KGgoAAAANSUhEUgAAAK4AAAAUBAMAAADmcxvOAAAAMFBMVEX///8QEBCIiIhmZma6urrM\n",
       "zMxUVFQiIiJERETc3Nzu7u6qqqp2dnaYmJgyMjIAAAAcRTyBAAAAAXRSTlMAQObYZgAAArZJREFU\n",
       "OMuNVU1oE0EU/kyyyWazG3vwXBY86KkNBPSgYsBDQSjk1Js2oCKejNSDxQrBU0LR5CKVSu2KgtKi\n",
       "FIKoJ0OrB2sPCz2JKMHowR5s0YJR0PrezG6S3eyqAzPzdmfeN2++9zPAX1vSxtAnR35/UUxzncVn\n",
       "YVqpGtBk4V3YjgfAi86HkLSSkBXSi9eCVE5SPwe8ZnkjDPczoylCzEvctARLb9ERzSCVTeqPgJt8\n",
       "21IIrJFh3HieRVPirjuk/KRhOUhl0wJ0E2melkJwEzVhb4FFS+JOigWt/oPGOwEqi0dJRxuAsbqw\n",
       "MBNGw4xkldjAMclvsiitimwzGbl+FXuYf34E2uXyVBjuXolbp6kicSMZsXA89YtGPdOnEbOe2zSt\n",
       "AGeEDtzR065J3AT5vyRxVVvQkFO+stXsOP2LaM4R9zBuMv18QelXY9sh/kNrwuX7ssSNmIjnJG5C\n",
       "LMWQ/MZxWuyzJId5PuEJGxMRNtzlmy2uHIHZmHvs7NojcbUiR47A3SUoHcseaHMQb/lhlVPZ8xxc\n",
       "43QPOyF+rU6QrdOzFkxTf+jFxSER5l1cGgYDcWO0oylxk80xcZJZFk4H4Y6+8vKA2yiih4cU9QuM\n",
       "UuzyWxAKtJoYoHmE/XWa/8Rx0ElqMzuY9/oN6gkTPX675aSV4U+45JLMRPYb6oL9txiGlpH2Rm84\n",
       "+1YcNOWs5UgcWiKGqxT+0UZAvKucMYep72ZbtNZa1VIulctXmd+Is2/ErTYtt+7Q1bXqbwtPd8gd\n",
       "6byvSu1sIFX9TkdzDTTYlqiF+TwK0l496sljarOdejbZg3M/LJ+0TgCOkt02Xgrchr7mqTueOrne\n",
       "o74chqubjqC2kaxegUq8G1Ot67a7odKHq3aLbnCdhKyT3raf+P2vuu47wtcqwD/foX3uOzTkf4fe\n",
       "hGkZNfwBoKnHFxsPa6AAAAAASUVORK5CYII=\n",
       "\" style=\"display:inline;vertical-align:middle;\" /></a><br>"
      ],
      "text/plain": [
       "unaryOrReduction: forall_{A in BOOLEANS} ([or](A) = A)"
      ]
     },
     "execution_count": 26,
     "metadata": {},
     "output_type": "execute_result"
    }
   ],
   "source": [
    "unaryOrReduction = Forall(A, Equals(Or(A), A), domain = Booleans)"
   ]
  },
  {
   "cell_type": "code",
   "execution_count": 27,
   "metadata": {},
   "outputs": [
    {
     "data": {
      "text/html": [
       "<strong id=\"eachInBool\"><a class=\"ProveItLink\" href=\"_proofs_/eachInBool.ipynb\">eachInBool</a>:</strong> <a class=\"ProveItLink\" href=\"__pv_it/6c03e4f26d6875630c8b4e6c4520be6f46db122b0/expr.ipynb\"><img src=\"data:image/png;base64,iVBORw0KGgoAAAANSUhEUgAAAmoAAAAZBAMAAABz1R8KAAAAMFBMVEX///8QEBCIiIhmZma6urrM\n",
       "zMxUVFQiIiJERETc3Nzu7u6qqqp2dnaYmJgyMjIAAAAcRTyBAAAAAXRSTlMAQObYZgAABr5JREFU\n",
       "WMPtWV1sFFUUPp3Z2Z/56fZBRUTNRI0UE+gmlaJQZA1RiEqY9gEwmLABiciDrpK4KBAXQ2ABY+uD\n",
       "0JBAV0kKVsGNxIcmEAcQlQJmpGCq0rCCL/JgCAjyI+K5987s3JnZLSwBHoo32Zl77jl7ztxvzjn3\n",
       "3DsAVbdXMu1wJ7dQZukN/CsNd3pb9z9q/rZxUG4PQ61IbgPVoVZLbpo1JEGTszi11883LljhGRbe\n",
       "yP077GWAcDtF7QAZO1UdamoBb7X5IYlaLYGlBqGbZHjHJX3rZgvkIkWtA6+xbHWoUfmOoRmgfeQy\n",
       "B+NoesIzHg1ZgoHz3kNRIy5DfaeavEZ888DQRO1tcmlAhzuuU7o/kynaqCkFRO1jiprW2929vtrV\n",
       "4Fh396dDc1GI0Wktx/w2jGagWY+5vqY+h6jVJukaeiGXW1otavFcbpU5JFETaFyeB5i5kK4Np7gI\n",
       "nTIDU52aoKjNB1hdLWphA6K3ttS9HYW0VGYsSioD6fxA/RJKhttd1IZdvYuUDkWK2mS2LlSFWigB\n",
       "25mu8rPzvIapZ/cuYGL988xRQWFtZbNQUhNiN3UQ5VDWcqituWl1WZUV7SnJIDNCUrxwEfNXilrh\n",
       "VwN1AONLSVPUIiD4Kq+ZzUnhnsojafobTfvHk2Wf6y8PVQdqHels0mFrXTCTnAB5uftw7PZqZeV2\n",
       "CzB/BNhdVmVle0/aD3ji5CJnPawhaqP4lMJlQrb8ic1ZDSA7Df3wNEVNtSJ8kbez0VKyvTC+8ghB\n",
       "7RDbIciTypa6m6/wlJgC5RJ5XMRSC9Y4nfic/T7UJJNTrtk/D8FZttivCeDrPOu7Km0eL8jZ68Lf\n",
       "Z3sngm5u/IpHLY5+JpwBT3lFUQuXUIsVZ3Bz6O/pBuWwCGblEYLXJok6sLolUQ613kUep9dBJK8r\n",
       "ghokPSBMlqJWH2phg1MuJLmdn0Nwlh/BOeDTvAnwlN13Vdo8XpCzhxWttnZDHnRd3cZHKCnXwjRe\n",
       "ajyopXBTFGIRCqtxo6BNbH1YeNQgCQtDd/aLOsGo7+hDCe9ICbXoOhogrdFy9bGk53jyCwPGkFW8\n",
       "AS9yYEMhEDfs9qEW8SjPlmLJJTjL+BexHeRzIJxifU4l4/GCvD1MTZPJXden7edXA1KuzaH6Rd3j\n",
       "a8dKqwHsQBi0p62ahUKK7TAVo/cowejIAzDcO1JCTRlHuykRiYV+IMIwjienj66nr3sxI33iES/u\n",
       "DLX1HuXfcP7iEJRprxxJMo3QmcMr7b6tMpx3eLwgb09JsW243vigs30ihQX8huruZe93ibujMtW9\n",
       "aFk0GWpxxHPDSIgncWAzw0glf459koZLnhHuzINGvVYQTsNL9/lR+xUaePIHgJHk/g+l/OJxswxq\n",
       "Uz3Kt3L+YhOU6e630fvUIghp1mcqpd15h8cL8vZCWTnBfE38yBnC2b12dV5Tzl4eulbkPbt3qDUY\n",
       "ahoZnwstJKZn5nI5XTFiFoEmrIfqvCMuar+Qy/bm79Hf3/GfGpw82MYH4vuY8Qt2AtsWECfZTrZ8\n",
       "qD3rUa4mu4BzmK4S03E/GX0gakLsMuvbKiN5h8cL8vakorQ4l3uP5DXBs6Pi2gurMp7CbAt/vnY3\n",
       "1EOnhMFFPQueIfFcY4im4Rnxna+Nh9i5IGpiHjoNbcLA2J3M7XEu04mvPIE/MyAuZkl1huImh9os\n",
       "j3I5O5Y/yRnrMPt29c3eR9xPREPxAoQusj5TyVCjvJKflpjMXigFKeZrqujZvQ/S9nCoxU6jt/Wr\n",
       "oBIbWhI0M7YGOiHyvOGOBFDD/AhX6MQ68ihuXwCLmriljIERCr7+NRC7BLH7SSdiweftQfFlIO8H\n",
       "pd5WG3VeqKsc65xU6T+MYMwvizWFncT9fiIFTB4+NO0+VclQI7RjjGMyezinfRQ1Uz1YqXr2B1KR\n",
       "Qw1R/wPW9QKsRWLK75htpREYJ8IhbiSAWlsWOv62yMRaCtJwaGknl0L0AsTalsF8OS0mAbV8d7Zx\n",
       "Ae3At81kK+wTB3XeHpzefCnLr6F5TjldhW3xdkYwZtjYAo+TmaBPqu82Nq2w+7ZKihqhHWM8k9rD\n",
       "B4xi7tCWnvzA4k8lr7UlCZyAC5jF7AUmMFLhBJxMzD1qcnppJRFRXC1up4K4cIRDTSjw0iB73rab\n",
       "EmEHpIkkn0XdPkXNw+MIao/UB/WY16o4Af/5Gt8Neq7zu0Hr2QIoJbd2enJKSIZHcVp6riGuHOJ3\n",
       "VFlOumLrwrp1bsWAkhomDBJo1N6um/+1xaria4tWpufTYl2XuIPatNvyiSBx81Gr2DK38nuo6PXB\n",
       "W3uWdmNfPkKZt/4D3RAuCPhPvnMAAAAASUVORK5CYII=\n",
       "\" style=\"display:inline;vertical-align:middle;\" /></a><br>"
      ],
      "text/plain": [
       "eachInBool: forall_{m in Naturals, n in Naturals} [forall_{A_{1}, ..A_{_a}.., A_{m}, B, C_{1}, ..C_{_a}.., C_{n} | (A_{1} or ..A_{_a}.. or A_{m} or B or C_{1} or ..C_{_a}.. or C_{n}) in BOOLEANS} (B in BOOLEANS)]"
      ]
     },
     "execution_count": 27,
     "metadata": {},
     "output_type": "execute_result"
    }
   ],
   "source": [
    "eachInBool = \\\n",
    "    Forall((m, n), \n",
    "           Forall((A_1_to_m, B, C_1_to_n), \n",
    "                  inBool(B), \n",
    "                  conditions=inBool(Or(A_1_to_m, B, C_1_to_n))),\n",
    "           domain=Naturals)"
   ]
  },
  {
   "cell_type": "code",
   "execution_count": 28,
   "metadata": {},
   "outputs": [
    {
     "data": {
      "text/html": [
       "<strong id=\"orIfAny\"><a class=\"ProveItLink\" href=\"_proofs_/orIfAny.ipynb\">orIfAny</a>:</strong> <a class=\"ProveItLink\" href=\"__pv_it/2af9cc844d9fdd139ab9b216fde713bea0460ffe0/expr.ipynb\"><img src=\"data:image/png;base64,iVBORw0KGgoAAAANSUhEUgAAAvIAAAAZBAMAAAChqdcXAAAAMFBMVEX///8QEBCIiIhmZma6urrM\n",
       "zMxUVFQiIiJERETc3Nzu7u6qqqp2dnaYmJgyMjIAAAAcRTyBAAAAAXRSTlMAQObYZgAAB2hJREFU\n",
       "aN7tWm1sFEUYfrt3e3d7u9fyxw8k4IqJFqP0SLUgFHuEqImGeGBSMH7QUBFDopxiWkRMq1E8JLFn\n",
       "jEhQ6EKNIohebIiSYDg0mlhR1yIRA+hh9QckBlI+CwjO1+7O7O0e3WiaSniT7m2eeeaZvWdmZ96Z\n",
       "K0DQWNCag8vxLyPcuix4pcxl3/6LWHWJOr92OD/cNup8EX8cCOR84CpDHvF28iEXg1V7xAdPLDpZ\n",
       "+/hLLnDD8jrznQCPVN38hFIgt5Eccf5bfH84kPOBqwx5VNKlqPKoBcjkmi4hivgRv6IK1JMNaQGT\n",
       "RgN0j2bctFPBT+I6E9QJJu2EInF+Nboq7YGcD1xlyGM3/fj1jAVE8NdP6CVEAU8cMXyK5iLL7kvy\n",
       "WPwVxA0NMO58fOktp75xKbo0sNzkC+J8JVLQ8oGcD1xlyONZOra6B+zR14QuUaN0VPL45oacT1EN\n",
       "KvhN57HKa3CGMoJxG/FlaTn1g/g6jeHrifOJnk2b3gq2wgauMtSh0CwgIR23oUPob7oHlcfNmpRP\n",
       "0QuoG68yeKwBjzw5yc1u4WQZ9dBZfL3foqdIbnM6m10WzPnAVYY6JGrCPerfNtSN/lZ4UDk8bOww\n",
       "fYpOAsxeyGPKKfJSWe+IihqM5cqod5Kx8AGDtSRxfr73I5VzPmiVoY4YcTCekvttKIpGqNfSxOHv\n",
       "wlzdu0g+eaD6OQHT+ktMmVNO/QdBOVEkzk+na20Q5+0qF/XfhxDuqK8rKdrbXBhXVsyHkCqRjJJF\n",
       "KAzKMbAckXSIpLxeDwdPQWfSu0hC68X6Jh6LnmAk5vdYgEfLqbcJaZWaIc5HQTJF/uz6lHSlL5Jx\n",
       "qiSOc/34e9/iklWXJwicHwF2svxj/MQp5GadDhtH2FQbdkIkOAw2ZB1JqCDftrG27jSaWyfS1TYD\n",
       "H3mm2TYuN9cuavcuiqFmpbM8VkGyprilDu97D19b4lqyzForvHyUOK+ZUZ67vdZU23tgsi+Scap0\n",
       "WfPo5i+ngl5Yu9Xdcpcz0YqcOoAdBpGWNGUfHhAK6qREu92iBXPLpkMQGQyjkpzz6DIGfdxNsSl0\n",
       "G1ISNh5G9YreRVVovEv9PBYlO4Wttnoo753sWRJtZKinReeVYiP/Rm/bBGpvCAq+SMap0rOYjeWV\n",
       "awzQdW2Lu2GLUMJ5GuAOKi1J0INfoCjSl3W7RQvm5kyHIDKY81TSmW1U9PeU4/w6n2MPG0d1oiO8\n",
       "i3A6HznOYzSTL9jqSjFaVp3kq5o92dLZBlagGSoxddb10g1pmhqpDz6gY5937xmbFBHr3GYFmdRk\n",
       "PUshkjjp+oxv3PmsRXBz4idAOkylJSm8Hz9WDRqvcTJmBdgJh+BisBeFSHIr7NtsU8q8iT2se6/G\n",
       "DFfyZM9rGSFUwen83HYeU/AboBm2OrzcW1a9E3/0EHVnhYVu5GVimlmxUGqCSvpW9OzBPv80GkaK\n",
       "iOV8N+nJCKBZLoKaJy+pXjvGvTsnBBYCJ9zfuxyotBSa8Cf+XEJpC12wE0u4wwGBQS2hkk7WRnL6\n",
       "jpztjbyA9trH6EHi59kNh+MNSmzANoIvgoNI/mpDwFACqk52+hUa6T7KViY3Dh3nt90GUUePFCpQ\n",
       "56tQf6y5EapSCOiiPmvk2Tdk4IyA2M5XkZ7cBzUg70TTdZKO59CbLucxwVotBI5WBClDpdGkcTvu\n",
       "jXOE9hDaGgqwE+e45UNgUOeppP02xzvOG/DZhcWON31sJsKutlg3Nr7xwmFQO04lLSP4Kk9eaK7L\n",
       "5kWZ+KTHbgXO+UpmTwvfhEOHruXNKWoz6orKNHU+gbtlHszE0+PsbDarq2nFxF8ioqPtsYBYzpMq\n",
       "8b5dHQbeHMtLstkX8RwuuVZ2QmBDTuDECqCcpdLIwALuR7w120K24ALsBCOQVEtgsGmASAqnBzQs\n",
       "b9b45KounBnhW8WFWeqKMUj1aSQT4s7nr4Bq6JTR/EDX4Dvxd6pIhwppARHO50MGdKbJsUQTHc9a\n",
       "SGyGEBJTDty2Pe3iVOUhPEAbwwbi8TKJrlhLQYSdoITdn+93M6jzVFI8MRO8GWQwIwYbgdXrZevE\n",
       "jHXZUdQdezXQyOlaChIF5VXohOi9aQdxOz8DfV2TOP8VcbWg7YLVBqrHLpSgjodRakHkQKcBrxdo\n",
       "Y5IGu3BjURM+zBHnBdgRpIRP2qM8w3GeSloLG7c4fxrsyIcZMdgIrP7MVuuUmM2MTXAIVvUArMT9\n",
       "+AcaovIouAuk7zjE5XzsNCgdzxPnY+jtTCzre82EmXl5JMzM4UueEebHM6GUyNHaauvwDw1Y+ufv\n",
       "J/0FqDH4uv4mduDHw1QrZxMi6Tk8w3bekhR+GcHxRtu8IN7YRgwugqvfbNJxUfJroIRmULbFLUFc\n",
       "Y56tWHiCq0ZzuJ0Vu+4yajKqenNKGyPOe8D2XRRuSbmeyes4Zlj/GvgLQNnfYbf5n9vwKXuNsMlX\n",
       "c+67eJOUiozz5pQ2NutY3vsZrLv3YLvrrAOG9W80vlHGeXNQzrsPajzu/DkXbcy86NNcis77Retw\n",
       "+3+b5P/Q93Bryz+MsYeMiZ1qVgAAAABJRU5ErkJggg==\n",
       "\" style=\"display:inline;vertical-align:middle;\" /></a><br>"
      ],
      "text/plain": [
       "orIfAny: forall_{m in Naturals, n in Naturals} [forall_{A_{1} in BOOLEANS, ..A_{_a} in BOOLEANS.., A_{m} in BOOLEANS, B in BOOLEANS, C_{1} in BOOLEANS, ..C_{_a} in BOOLEANS.., C_{n} in BOOLEANS | B} (A_{1} or ..A_{_a}.. or A_{m} or B or C_{1} or ..C_{_a}.. or C_{n})]"
      ]
     },
     "execution_count": 28,
     "metadata": {},
     "output_type": "execute_result"
    }
   ],
   "source": [
    "orIfAny = Forall((m, n), \n",
    "                 Forall((A_1_to_m, B, C_1_to_n),\n",
    "                        Or(A_1_to_m, B, C_1_to_n),\n",
    "                        domain=Booleans, \n",
    "                        conditions=[B]),\n",
    "                 domain=Naturals)"
   ]
  },
  {
   "cell_type": "code",
   "execution_count": 29,
   "metadata": {},
   "outputs": [
    {
     "data": {
      "text/html": [
       "<strong id=\"notOrIfNotAny\"><a class=\"ProveItLink\" href=\"_proofs_/notOrIfNotAny.ipynb\">notOrIfNotAny</a>:</strong> <a class=\"ProveItLink\" href=\"__pv_it/d69a46e906ec4ccec60954675b403a78347cc2ad0/expr.ipynb\"><img src=\"data:image/png;base64,iVBORw0KGgoAAAANSUhEUgAAAcQAAAAZBAMAAABdpkNpAAAAMFBMVEX///8QEBCIiIhmZma6urrM\n",
       "zMxUVFQiIiJERETc3Nzu7u6qqqp2dnaYmJgyMjIAAAAcRTyBAAAAAXRSTlMAQObYZgAABLZJREFU\n",
       "WMPtWF2IHEUQrtvd2Z3fiw8qSEAWI/68eAunCeQiGRERBGEuQqIEdTkNgi9OCORIjLgvwp6iOyCs\n",
       "R0RvJeKFE+LgPmjgxFMRwsaHJYcQkehAfElecmgkl8Al9u9sz0xvL5esPwELqme6uqq7v66e6poG\n",
       "UFNx+gDczFSYPjRIpQQ3OzX/h/hPQvxAeDe6N9rbccYIYoQfZ1QQB2gMi8yaUDlKH1q0vj6eE4JI\n",
       "QBlBPInr51UQB2gMi0YDoXKOyVa4QCOll7Hyeo2ILggrFlFGEGfxtqipIA7QGBYtC+9OhT5/uRI7\n",
       "BWNxyhmrPbg4xc0utHot3zJuwiiS2qEK4gCNYZF4OJWoR8325diLVSxuZax24uIgq3y6XdgJHzFu\n",
       "gtNZWHhPGW4GaAyJDF+osOGc3MXE1n1Uvr0LzOfQHXOFFpcyiqir9fohdURVawyJchWhsok+nrDW\n",
       "YlEb8UzWzEJmOvNdofW1EIjtCuUm2c0zaoixhlwvIS0o2lKkB4maeEy8Tfepq/2OHk/ziWiygOBz\n",
       "BYCP4XnhY3Uiyk3sfTMVmndtc3O3CxC5hnNRNtOkVFe0pehXN7GW6GvfMo0Ib5hX2XIZfwA8tYV6\n",
       "uQxFV9LLXQAvslcX5oStYPmUmxhETlhAc3G8a9U6sFWAyDWOrMlmmpTqirbUObg9cbyPuEI2cisN\n",
       "JeObV9HjcaruwzFZN/Oxh7QXxl8R/KytUEb92V0xgzl9fAGsU3lYEiByjc4+2RhJqa5oS5I9XxkA\n",
       "EUnujCHCBD2g05QPebRH38hIJIVoRCjwOg/v2JS7x6PBydr9TFmESDSQfrkuGSIl1RVtSdqh19Ib\n",
       "NYZINqqFeG8P4ofgSyNxxD2EOijdEiOBgk8Z9zeD9rLzSHfk5VwVRknfXudHESLRQKcvoK+imD6a\n",
       "iLQPRLkFo2rel4abJg8377N0hUHUny1L+3mDHfxGSLIhjkQMN9BGQx2+Fza4+SU4QiHadkWE2CaT\n",
       "+RnGQPsmPWEszUA8Ua/Xoz4WNmp7B40e5lYS4oqQqn3HD8pGEEPUXiIdmVd58RndlTsP9s5S/XKM\n",
       "BDhjiBvw6kzBJN4ru9D4Zcszur4IkWiYZ39otDIJBpXKvFjtY0HdC8e2nbiSOG1EnyJUZuNqC768\n",
       "ti+GCGfpYz8vSlV6xNO1OXrtPFiNSxWOBEY9yhiig+dwG9wHcxoeG3sRHiuLEIlGvgVzXmbCROpM\n",
       "nHlo0ctAlFswiFvB+BOWv1re/X3/BC7GS+hwn7Qo1T9DgkItZf6/aKwg9KdtsEm264KzlPlffBJ5\n",
       "s4snbLwJsy1SzLao1HoANlpLGYixBdcnBYVYQJ/eGnwejYSLijSc0BfrSwQZEiENZ9ukipLAZgfg\n",
       "Lbxsv+EJpiDqq2A0XsMT1jbCZKDdgYrJkEn3mH7eTUEMehYwGRJ9XJDAaUCjBrOXukVvHh6UJTtC\n",
       "VvTu61PruqxhSISfqXSqiL5F1V8/nrAV13ig961KyZKci9wCwowJ670Nftj/l/gGCK+YHlzHxYY2\n",
       "NsHuC8hHyxberObc4v1yiMTCCtImlD6Bu2Eq+FsuNn5ifH13N/HwjmTxpL04oDD516+n1nmPmv/P\n",
       "3aPu/wtPPVzrZ+3nwAAAAABJRU5ErkJggg==\n",
       "\" style=\"display:inline;vertical-align:middle;\" /></a><br>"
      ],
      "text/plain": [
       "notOrIfNotAny: forall_{m in Naturals} [forall_{A_{1}, ..A_{_a}.., A_{m} | [not](A_{1}), ..[not](A_{i}).., [not](A_{m})} [not](A_{1} or ..A_{_a}.. or A_{m})]"
      ]
     },
     "execution_count": 29,
     "metadata": {},
     "output_type": "execute_result"
    }
   ],
   "source": [
    "notOrIfNotAny = \\\n",
    "    Forall(m, Forall(A_1_to_m, Not(Or(A_1_to_m)),\n",
    "                     conditions=[ExprRange(i, Not(IndexedVar(A, i)),\n",
    "                                           one, m)]),\n",
    "           domain=Naturals)"
   ]
  },
  {
   "cell_type": "code",
   "execution_count": 30,
   "metadata": {},
   "outputs": [
    {
     "data": {
      "text/html": [
       "<strong id=\"orContradiction\"><a class=\"ProveItLink\" href=\"_proofs_/orContradiction.ipynb\">orContradiction</a>:</strong> <a class=\"ProveItLink\" href=\"__pv_it/d9dc35e2b20516ef83d4ab11c15d432960ea7f470/expr.ipynb\"><img src=\"data:image/png;base64,iVBORw0KGgoAAAANSUhEUgAAAX4AAAAZBAMAAADEcliZAAAAMFBMVEX///8QEBCIiIhmZma6urrM\n",
       "zMxUVFQiIiJERETc3Nzu7u6qqqp2dnaYmJgyMjIAAAAcRTyBAAAAAXRSTlMAQObYZgAAAz1JREFU\n",
       "WMPtmE1IFGEYx//O7rrOl9KhQLwsFH1ccqFE/IgmIjoFq4ckvCySl04LQUtgsMe1Du7JpIsLgoaH\n",
       "GvQkGGxQIFvBkARCSAt1qZOHIgmE3vl+552vlaLx0AO+O888///z/pzZeWdmgejoLN/HkY10eSZO\n",
       "ksWRjvn//Anzt/SP3Sj+GEVCMWnxv9E/vkXxxygSijWLf4GMfCWKP0aRMH93HZDUKP4YRcL8cnN1\n",
       "9XHk9RujSJgf+9XqTPT6E61Imn8amI3mdxTBuq4anSn2RkRTxtKOYzaU/yqElrc0MapwJyh+WyF/\n",
       "D2z9SaEz+0IPEQdZ2nD4aw5/Fpzm7hY2L2hipYlhit9WLB0EtRYua0H8lli2/jwJY/E6AsNfc/gl\n",
       "jb7H7mysQnyfQoPitxXNu0GtpZV8EL8l5hTqJm8njMXrCAx/zeHnWzfJUbk0fpI7XUBabyxO3srR\n",
       "/IYCyOSqQa3HuyoB/I6Y5EN0cchvYRxoq+bwY/Y24b+iddzhiujWd4qF5gea31CQR2kMkqHONiqm\n",
       "SgH8jvgV+KJTtBLGwjgQUgvjXyfNnpxBj5JqYMnkl6Q8zb9uTPcR/ci8ZCeQVW4vgN8RP0XKXWzM\n",
       "hLFsVavVVkh7qhbK35MjwxTGkFUxQfQ5scBrJZrfUAif387VkWX5n41u/fLzu2JJWaauFSNhLfoZ\n",
       "CWtP1agYLJePlcv3TH5ZLx3HWSxmyIkyjj+u5Wh+Q5GqY7Hgn2AY/A9sv9iefE3zu2KhMkCtVUbC\n",
       "WgzGkPZuTR7ZHdgshDz/83vkDOxIkHSBrEBu+J7/b5DzoOkT8A+xULeHNFkJD7DW6lA3aX5HDLwj\n",
       "33hLbyYeC9lvMroOp7m3Jp5Hn9gI4U8X8RXzTeARSa5/0U0Mf9c++LkH+gSZPozVMr360Ie5ChZ+\n",
       "ap2FFVyk+F0x8JwcEktvJh4LaaFHjXKMqWbzXqY2LZRSStz7F0e+/1HvX/oEopOJjmodJdWz/tti\n",
       "CJ6bHdXYtIi+9lDZ9maUxHxW/MP3x0z/CLDhpPbWMk5hqsbyG+KwsC0bvvZijW1v/utFTuk89zfe\n",
       "f7WALd/9t93wt5Cj2h+a/7C//+T/6e8/934DwTQoskYL0HwAAAAASUVORK5CYII=\n",
       "\" style=\"display:inline;vertical-align:middle;\" /></a><br>"
      ],
      "text/plain": [
       "orContradiction: forall_{m in Naturals} [forall_{A_{1}, ..A_{_a}.., A_{m} | A_{1} or ..A_{_a}.. or A_{m}, [not](A_{1}), ..[not](A_{i}).., [not](A_{m})} FALSE]"
      ]
     },
     "execution_count": 30,
     "metadata": {},
     "output_type": "execute_result"
    }
   ],
   "source": [
    "orContradiction = \\\n",
    "    Forall(m, Forall(A_1_to_m, FALSE, \n",
    "                     conditions=(Or(A_1_to_m), \n",
    "                                 ExprRange(i, Not(IndexedVar(A, i)),\n",
    "                                           one, m))),\n",
    "           domain=Naturals)"
   ]
  },
  {
   "cell_type": "code",
   "execution_count": null,
   "metadata": {},
   "outputs": [],
   "source": []
  },
  {
   "cell_type": "code",
   "execution_count": 31,
   "metadata": {},
   "outputs": [
    {
     "data": {
      "text/html": [
       "<strong id=\"trueEval\"><a class=\"ProveItLink\" href=\"_proofs_/trueEval.ipynb\">trueEval</a>:</strong> <a class=\"ProveItLink\" href=\"__pv_it/9ed2a672397a60539c6bf752fb4811b96d3520a50/expr.ipynb\"><img src=\"data:image/png;base64,iVBORw0KGgoAAAANSUhEUgAAAuIAAAAWBAMAAAB3UeQqAAAAMFBMVEX///8QEBCIiIhmZma6urrM\n",
       "zMxUVFQiIiJERETc3Nzu7u6qqqp2dnaYmJgyMjIAAAAcRTyBAAAAAXRSTlMAQObYZgAABlpJREFU\n",
       "WMPlWV1oHFUUPplkdzK7s2leFGqpLFWsCk1XUpqYRrJStKAI2wptpWpDahX74oolrUVwX7QbfciC\n",
       "UEPVdq1ia9S4bJAaaHHRKpJaGRKLVWMasH1oQRtaS5vQH8/9mZk7P3czQ8G1eODe3Jz7nW9yv/t/\n",
       "AxDSWk5Dbe09nv6zNiKriBcAJrfCFCn/HpzvSBPJE0at2hPLsYQWmQoX+rS/u20bsV6Xd9/ry413\n",
       "g3ML8GjBVVdPP7CtG54n+sFR4jsbQnG9hHlTsVaKNxVYIsVpy5uhPeABR+xKtHPSqrKHRVkIMLww\n",
       "MLsIj/kMhHiS5ENU8QHMtVwIxSl4oGZzdpwntMlZy7uZZGMecJTIkUiyXxLnirKqspslthOx9TNB\n",
       "2Z3wr2WK60miOBmtdNgGVZxOiKM1U/xlnrCZwzOWdy3JdnhHYTdmKhf6k66CrKrsZmm6DbOG5qDs\n",
       "Tvj7MsVjzUS/xOjg4NsQRvGJwcGPs7USXMuyREaX8rdjrWlIeeFnMK3kZWNpWlZVdrN0kTEYSQVl\n",
       "d8HTEsXhFNEPLufzr4RSfF4+v7NSK8WVFEtoj8Sv2i1CV2PBCx/G1MeKDcWvDEmVqbjFol2iQ7IQ\n",
       "kN0F11Myxb+him+2PxxMcVy+/D7/71ijwRI2MB05b/tx2K/3gas49Pgm9SFsTEqqTMUtFv28k2YO\n",
       "dhc8QbZO/S9qKYfik1Txlb6baxXFcX4NsdbPpbsUcGJT5Z6qkVKAWmIJxyxoF8BSYhHAM35TIglR\n",
       "PsfTsDclqbIUN1nUi9wRjN2Cc3mzsjF+kCquguI6XK/rTCu3yjxHSI8vocWTwno12dK2wvOdk84F\n",
       "zcLsScKB5mqhToCIqEuzhNtZ6/LLAI+3Mf9+/3ETy/LRAZFNrS/k/KtsxU2WOnoKigVlN+Hmjjot\n",
       "U3wj1U83VJHkUKsRz41Ch8yDEceAdmKsy7ARiq79lnH/QV2Gg8XEaLjjJXJVQgWAG2Erjtnt+GMV\n",
       "v2WU/A9cK8xjVQPGTflX2YqbLCrV7Iug7BY8mOLa1FpxOo8MQnysHioyD0bsocci0PenbISiwKj7\n",
       "HmoBXBgVqSLJKqECwI2wVpU4phdtxbUp1XcV2gN8ipO4Zv8qW3GThR2tK0HZLTjv3Ky9jnc7FF9F\n",
       "9YM+XKISD6y5Q7krw85A8Q1PJEn4+PFFKaeHKd64iw6yNY1sGFKEojRMuFdtE+DGLMUjbKxYJdQG\n",
       "eBDWzvkOv0RyTeC1Mf+t5CnWVq1E76hmO8UqQXGTRSNboV4Mym7CqWB85/Qd42znhGHsksSDRt0W\n",
       "pRvoo0k8M3qc6PvTQpjv9DDF42x1667HwC3AEEr9fZ4nLgrgR1QRs5355KHbhUu9C0FOXiTRM3l/\n",
       "wdZkLbuhfI6tjV3jBTLDn2M9R64cjTNWO8UqUXHOAniQjHeAnJ1mNgWHU8FwyFdkincyxefhb7sX\n",
       "w7w0Ij9g+uq0UfuyMOvwcMWBHoYSJWUansTLFkXgxL/ftY5TADcH5gp1VQm9YhfdCDJjMcX6rxXh\n",
       "y+sv2Zo0sb9PJWr2mgW0P2h+4PpZiPdfSpntFKqIPQZOFoi1P7sMQM4OvQ4KBmeCITjjUbyBLYqn\n",
       "mX4J0k89sJqsj+vy+XwyntEMMoSiSby4Ojxc8V/ps0zn97P07ksRKEol6fwKA/DDjoghF67PqoVy\n",
       "gCfQecsHEDXRJG9ru52/8nb6VfmxhGOngpGTjezdM8v0o3YL3A17IxBlIxoeIg2sy9RXMg4PCBEd\n",
       "oF2kskX5MKy4rloUMH54fMO3Lkw722bkoQwwfnjCByG8ZDk0CWi8nUEtHDsVzPcliy+JSVs/bRp7\n",
       "/4QOOn0OS0Oior0Be0F9NGN7nIqTeXKVykYRig4/kJiBopkxQHmqrnTIhVEN+LRQLZQByjlVRAi3\n",
       "KvFmdTDcswxvZ1ALx04Fq3KhHBL164YzsGsU4E3Ssadw14ssgIdBOSZ4nIr352DgkkFf1Aji5x/b\n",
       "/wSMWV2IzCfZAg6IZvbDMhcGvuu8lz/G+YcyQDSzXkR4/yNB7K1Xe8JoYrUzmIVkZ4LJr+J94hph\n",
       "XVxx2eTbq8dDbbHzXLHDN8YuqTAM2ZIvZu7QJWnP52+C/7r9IqtIYFe0bJUHjgRhX3Oh5B9jlj6C\n",
       "O6Gn4IcJEHrIgP+TGTcUY4TlNW7owzeR/QOTN2L0Zu200wAAAABJRU5ErkJggg==\n",
       "\" style=\"display:inline;vertical-align:middle;\" /></a><br>"
      ],
      "text/plain": [
       "trueEval: forall_{m in Naturals, n in Naturals} [forall_{A_{1} in BOOLEANS, ..A_{_a} in BOOLEANS.., A_{m} in BOOLEANS, C_{1} in BOOLEANS, ..C_{_a} in BOOLEANS.., C_{n} in BOOLEANS} ((A_{1} or ..A_{_a}.. or A_{m} or TRUE or C_{1} or ..C_{_a}.. or C_{n}) = TRUE)]"
      ]
     },
     "execution_count": 31,
     "metadata": {},
     "output_type": "execute_result"
    }
   ],
   "source": [
    "trueEval = Forall((m, n), \n",
    "                  Forall((A_1_to_m, C_1_to_n), \n",
    "                         Equals(Or(A_1_to_m, TRUE, C_1_to_n), TRUE),\n",
    "                         domain=Booleans),\n",
    "                  domain=Naturals)"
   ]
  },
  {
   "cell_type": "code",
   "execution_count": 32,
   "metadata": {},
   "outputs": [
    {
     "data": {
      "text/html": [
       "<strong id=\"falseEval\"><a class=\"ProveItLink\" href=\"_proofs_/falseEval.ipynb\">falseEval</a>:</strong> <a class=\"ProveItLink\" href=\"__pv_it/82bd61f7f05870a89b1086ff3930c2d0cb64fb1a0/expr.ipynb\"><img src=\"data:image/png;base64,iVBORw0KGgoAAAANSUhEUgAAAZwAAAAZBAMAAAD3ZYXVAAAAMFBMVEX///8QEBCIiIhmZma6urrM\n",
       "zMxUVFQiIiJERETc3Nzu7u6qqqp2dnaYmJgyMjIAAAAcRTyBAAAAAXRSTlMAQObYZgAABKFJREFU\n",
       "WMPtmF+IG0Ucx7+XZC/Z3Wx6D1o5ixKuUgUfLnBioZ40IloQhG0f7pSKDVURRTCl0IBWiIiQUyTB\n",
       "h/bQh1s98coJNXgPWqgYLUJJ+7DcWaiINaA+2Ad76GmvwrXOv92dJLOb3FXEgj+YyeQ3v9mZz87M\n",
       "b36zQA95tlTDDSKJ0uGeNkXcQHLkf5yNie7ydH1yIqzCrHGcFv35Pgqnl0V/ckwkIk+ur6XWCsqD\n",
       "io2s1Wn+HMc5Q38uRuH0suhPfhGJyCVfabPhdBu36TPLQYXRUkxMlubHOc40XQjlKJxeFn2JleOJ\n",
       "Fi85nvYZmi12W7fpL/wl1XwVhpPOMpwMeXa6HoXTy6IvSdZ4IvLRTn/FTNDspW5rWW8sXJFq3gvD\n",
       "MYYYjtWcnz8a6Qp6WfQlR0Ui4o7mPW2GgCVy3day3oqtyDX5EBz8xD3baqVyONqz9bDoS7aKRIbp\n",
       "fOE7OJMMOaXY3bL+EXNNqknnwnBOcRyyTqeicXwLtV3XeJ7whqvd7eveEgn4APtI/1rZe/pjIb0K\n",
       "vZHXfpP3IPUF6V+Z5NpwLnCcB7vcxeR4PrZZerBnYa0ocX7omH/9VuZSWdbwlC+LBOQxk4M2xs+z\n",
       "EeBp1TMDfQL67/JUFMNm51OOk0RMOt2Mk2OuWW5ih4TjWcyuqXo2drptrWEy9hTryX9RN4kE7amx\n",
       "F8nMJPiw5pSuV9ZPjN27Kh8yy2E4+zhO2k1KdedPzMNcjKMh4XgWzYOqntNzubbWPXASwEDLx4nX\n",
       "1T4z0JOpv309OHqLuEXr/j1bY9ts7k7MvY9nZRxmQZ6Urah63pPyzyTujJQ4/mIjo0wO+Th6K6kO\n",
       "iTy9SdIBYOncSG6Enkasndg7hTacXSJmmyKr1HrAHXg+VkCG1dvNczIOs6C7YTvJnM6eC3F/OWcQ\n",
       "iuO5Ar3Oj3mBg9cX1R7I07/Lo4hvbsNmZ5vnCpSzI1wBFsiT37kTm/LxBmY5Tjrwh0VhAXyHUWhf\n",
       "duJY9Zg//7MI9j/DMYa9qlMi0bMndSXAmeCHpXGVZB+3RCHQ69SsWtPfL2IF43QVNsJwxgXOJvp3\n",
       "P3YjWcdkpVLJmrbuFmUcZmH8eLbqINmJc3z8tB+EsNbaa/BxMOn1vounY9cuwqxezvk4GfHeDtHI\n",
       "oSAKvt6oXnXw2bWDGMxqQ2yxZuyOTVYqHbilVCItfxY4Fh3hzbgLMxp3r6aNh7IyDrOIO5ixu3F2\n",
       "QP8DS58v7f1aOGf17EhBDt9mAkd3Qu4T7foBO1bWl23q8kLEKEr3HX2ZzM/5NNIU3srDanTddx4l\n",
       "s+RSHP0NTDteliBeeg2ftAbqJ8Fbq/eOFIKGnR9RMkPmxyo3lCGocLBZCSdRINH7kSbwJl0UJPwp\n",
       "dOKkVqFXX6E42hbsrmnDNNuCahnTl91Bew73gLdmDKcrr1YqDQmHRRRBVKFv/zO7HpyHSRinv+CE\n",
       "nFLSBaFDYmT1R91G6WIzg3fsabGAYl20lhikonR9uw5JhX6HmdrI5VobvU++4XqlD3EH9te6GaTi\n",
       "P3O5/jb0PlXb8LcCV1GSN+VwcBdu/Nc+fZTW/53tbT+iPvMvf2c79DdTEluugF8jdwAAAABJRU5E\n",
       "rkJggg==\n",
       "\" style=\"display:inline;vertical-align:middle;\" /></a><br>"
      ],
      "text/plain": [
       "falseEval: forall_{m in Naturals} [forall_{A_{1}, ..A_{_a}.., A_{m} in {FALSE}} ((A_{1} or ..A_{_a}.. or A_{m}) = FALSE)]"
      ]
     },
     "execution_count": 32,
     "metadata": {},
     "output_type": "execute_result"
    }
   ],
   "source": [
    "falseEval = Forall(m, Forall(A_1_to_m, \n",
    "                             Equals(Or(A_1_to_m), FALSE), \n",
    "                             domain=Set(FALSE)),\n",
    "                   domain=Naturals)"
   ]
  },
  {
   "cell_type": "code",
   "execution_count": null,
   "metadata": {},
   "outputs": [],
   "source": []
  },
  {
   "cell_type": "code",
   "execution_count": 33,
   "metadata": {},
   "outputs": [
    {
     "data": {
      "text/html": [
       "<strong id=\"binaryClosure\"><a class=\"ProveItLink\" href=\"_proofs_/binaryClosure.ipynb\">binaryClosure</a>:</strong> <a class=\"ProveItLink\" href=\"__pv_it/36609244c420d1df5e6ce5b688701d6e353ec3410/expr.ipynb\"><img src=\"data:image/png;base64,iVBORw0KGgoAAAANSUhEUgAAANwAAAAVBAMAAADfk53OAAAAMFBMVEX///8QEBCIiIhmZma6urrM\n",
       "zMxUVFQiIiJERETc3Nzu7u6qqqp2dnaYmJgyMjIAAAAcRTyBAAAAAXRSTlMAQObYZgAAA2dJREFU\n",
       "SMe1Vl1IFFEUPs3O6s44qz6FTzIEUU+5tbAWaaz0EAiC9WA9BAoV2EO0JVmJ5SaVswrt9hBJIU34\n",
       "UBjJgkRFQRMWlG2xbVCBJlvWi1CWf6yF2bnnzu7qLAvOQwfOnbnfnZnvnu+ce3YBbFuf6XmtKJIf\n",
       "T7KbTzbY5CB3NGfSsvZ+6YBP88NhC7yhLPy51Q8Mf8XmkzboiiPc2e1PNtYTM18sA3DMwaD1neQe\n",
       "ubsaGN6LMylog+6d6Wjjv9l4iA0JHu4igDgDimp5J1gH613A8GIdL1EbdKdNR0mHFtilgQ1thAgI\n",
       "uKdBLuWPurtOnk3TPUI6xN0jAwNXbbBJAe7sa8JsWl3RQ4gLeW4i81cea6eeje7ZbSA8pWntNugE\n",
       "D3e02qJFKjicuXgyS5rA2YocwzQb1LNiiieY5sMkfYiwkOXDYrjKF8qhc8W5ozR+5zRBGOs+vth4\n",
       "JNHFEjNOs2yBBms6fvk5vhNkqmf3rCn4l4kWnsu3AE/NmthUud18szDKHbcD0gxB6wAO8sWKCMhr\n",
       "8XqfkywvlddjHC8EgTbbz5S5M1wNqtF3jx7yATzRQX7sjQuKNFrP31zj544l4vWlCLplbhjgHKPE\n",
       "vTRS6sp/oKXpXGKccCVeSNBIC0bWc00HVVXuEnIcYAfAx4cDIAgwErfS4VBOkCOaLu15RqeadNKK\n",
       "6FzQRLiUpEp2qhoTFk1V615SbuZAmOQ1JwjiWMQiZhH6MV6sSb5hOnZwFLexi6aly+kKWP9ieIiE\n",
       "L4BKs6Op3nISTpxOXMQyp3J0bP5mLZXr6FMcu5CAzLFzpjKlsmVFdG6D40N0ikahAmQPj85xhV2V\n",
       "JAgB6KfvCLDNzJ3i4U5nL8xDbmgz+xvGU9ONN1UZIcwmth9iPhMvYS1HnoiFdecpTetkuRMoDgOk\n",
       "P7BX0zQV6QyzMYkBcjn8V4cHSy2chp/Dgql5b3MPu+NSyM21K1s04W52Gh063Khn2WTRKQ46s1EQ\n",
       "F1BkHp3hyWli2U6jW340AubWXphNzIID1OHn4/Cc6AwlBr1Ir8NlAxQmoqBAzMht0fksp0VbcVcK\n",
       "pPAZcKHa7vaJS3HYHVU6vL7zuMTU+fBm6/dMW4lkelY+G1wtvhFzxy2TZgFzl+fnNZ+FbOL5/wCs\n",
       "5s+DO2IPZ0vwX+wfzeLyrKD7VyEAAAAASUVORK5CYII=\n",
       "\" style=\"display:inline;vertical-align:middle;\" /></a><br>"
      ],
      "text/plain": [
       "binaryClosure: forall_{A in BOOLEANS, B in BOOLEANS} ((A or B) in BOOLEANS)"
      ]
     },
     "execution_count": 33,
     "metadata": {},
     "output_type": "execute_result"
    }
   ],
   "source": [
    "binaryClosure = Forall((A, B), inBool(Or(A, B)), domain=Booleans)"
   ]
  },
  {
   "cell_type": "code",
   "execution_count": 34,
   "metadata": {},
   "outputs": [
    {
     "data": {
      "text/html": [
       "<strong id=\"closure\"><a class=\"ProveItLink\" href=\"_proofs_/closure.ipynb\">closure</a>:</strong> <a class=\"ProveItLink\" href=\"__pv_it/2da014bcb78b3f0fd9620acce28a9dcbfbd03c130/expr.ipynb\"><img src=\"data:image/png;base64,iVBORw0KGgoAAAANSUhEUgAAAYoAAAAVBAMAAACqF7QBAAAAMFBMVEX///8QEBCIiIhmZma6urrM\n",
       "zMxUVFQiIiJERETc3Nzu7u6qqqp2dnaYmJgyMjIAAAAcRTyBAAAAAXRSTlMAQObYZgAABQ1JREFU\n",
       "WMO1V2+IVFUUP/tm3sy8mfd290NJFi2PtdQv1dCEC7qLI1KCIMzuh7XQdLCklKAJzcLEBiGcVWrm\n",
       "S7ps5E5/aG2kbWiJkpSGVsFWhcFNsLBtau1DftAtLf+A2rnn3vf/jauzdeC8d9959913fvf8vQB3\n",
       "QNKFFDROSpXzzOigvzhWAJjYDDU2/vn2K6jJZnbTGlNlv2CkNXf3pVyzxqGC8928+/K/bkkCbMDx\n",
       "ETjOROenQ6GW8dZcbAjFH4KRLloK0tVr4pT1En84Zb2I1lwzaz3RXV0Aw4Sin9k8Ox0KmtHfEAgt\n",
       "zpkNL5r7EGLqarpn9np2OSUeJq7b3nznmpldAQ9HUDedoWAbTDt9WxRkreMNoQgXOCMdWGy6hZxm\n",
       "r7zG7WWXrWL7R67Z3nwgNmXna9sNFN8gimgrQ6GNlUp7YVoUZ0ulTzMNodgrGKn6WNLhZ0u9s5sR\n",
       "ZzAuFJYu29/Qt/KOomWLIyzczjEUcDWX2+avux1FSy63s9IQijmCUbvit1Z+GEHu88k5iCAiLLY8\n",
       "dsOuDmEbLloeFXyV+d8ooVjvuxpSwI4C/ZgvHin4zfWXEr0tGOBjWItOLPMgDJsjJ6HBnxYOlZT/\n",
       "sscXhfcGKy6WvPknM88EoVjqDX8fFGjlYRr/kvSb65Jqv01uMmLtDcEASRiMg5zgjinpEPJbqh3g\n",
       "eT4KgnLJbiX6LmuP7pNn8f4VoQiD5KoDKzuT0iwXCtyjR2iDFvsVDYf0wGgX6JX3vxSP9wgG+bnE\n",
       "y6hEkKOIZsS2uGjI3NTexIKr9uLB0q7cdgHJQBEJ4m/XEgq1GrbrcyhRjWXHYKGa6EgssqE4CfR3\n",
       "dSjuF0I2qbZ7oAi6rn7mRhEEaKqZKGCRf84LlI2MiT9tc6NQHLaIQNpAodR6bXPPHCxB7FQAKm5b\n",
       "7KPcCD0RP2e2Synx6PqK790ehcqFWy0U+8A35yk1sakx5FcAxk+3x9tZFPPvWu0oQqzzWEYooA/9\n",
       "UOvqmSPNTfEkF1v1jO5BEdlDXpwO4GIb3b8mqVFTCUWiLeWKbqXMi7GBIvKs7huOb4ma9x6v9T88\n",
       "CLOKc83oftxhC61iRDeM4LLakmrTRikN1C/FUmOnPShiHeQuZWkKVt/vLs9MarhknNsi8K4QjApm\n",
       "NSNyzUIhv0BJM3oTL5/XxICFA695CpuWLygfZuAydDJXo0QfNgt0bTWcWID3To6iBfdkYB60JHHe\n",
       "RxyFypKzEwVQ1hvuPHbdrK0mcalQ7vVcbgeLC0kIlnHef+s8xPJX4iYKmOS3LUy3tBiw6kbbEM3f\n",
       "LMLXtzZBSJdbySObybjRF5c7u0H4naPQ2J6sg26Gc2Uul9NjKaWasXoygeInNloIyt9eFCQdPzy+\n",
       "6ijzLm4LNeDtQHgCNVAM1GnknW1JU0rKKlMplrz458dEB2LYPsNREN0L82FQxnghW8CTuqsDEUtg\n",
       "ZrtBKPqLyi664I1Lv6g1lQ/hnKOEoqKe8HaDtrx/xzSI1tCyFW83aOimWyiUKbTGGRVUajWToFV8\n",
       "UeSz0H+lylB0l+XZ0F2QZ8sPCGkoNQRPMN9Hz9W2Tb5jVpA+R6+hdPyj3w2Kp7C1Ul4q1ivNojMX\n",
       "m5zG9mzPGMBu5sXnhF94UAjayvOmlRF5SzECGSadj3FR55Q0A6rX4/TZUFiHU4wL74l1u+M403Op\n",
       "TCdF51HyE3gI1hX+txPrj3VOL/jHRzc3uqhmjmas339A/wJAvWELn9TFzwAAAABJRU5ErkJggg==\n",
       "\" style=\"display:inline;vertical-align:middle;\" /></a><br>"
      ],
      "text/plain": [
       "closure: forall_{m in NaturalsPos} [forall_{A_{1}, ..A_{_a}.., A_{m} in BOOLEANS} ((A_{1} or ..A_{_a}.. or A_{m}) in BOOLEANS)]"
      ]
     },
     "execution_count": 34,
     "metadata": {},
     "output_type": "execute_result"
    }
   ],
   "source": [
    "closure = Forall(m, Forall(A_1_to_m, \n",
    "                           inBool(Or(A_1_to_m)), \n",
    "                           domain=Booleans),\n",
    "                 domain=NaturalsPos)"
   ]
  },
  {
   "cell_type": "code",
   "execution_count": 35,
   "metadata": {},
   "outputs": [
    {
     "data": {
      "text/html": [
       "<strong id=\"demorgansLawAndToOrBinExplicit\"><a class=\"ProveItLink\" href=\"_proofs_/demorgansLawAndToOrBinExplicit.ipynb\">demorgansLawAndToOrBinExplicit</a>:</strong> <a class=\"ProveItLink\" href=\"__pv_it/7a274a0bdefa1bb073d5a6de0bebdab7c77bae8e0/expr.ipynb\"><img src=\"data:image/png;base64,iVBORw0KGgoAAAANSUhEUgAAASUAAAAWBAMAAAB00JfzAAAAMFBMVEX///8QEBCIiIhmZma6urrM\n",
       "zMxUVFQiIiJERETc3Nzu7u6qqqp2dnaYmJgyMjIAAAAcRTyBAAAAAXRSTlMAQObYZgAABD9JREFU\n",
       "SMe9Vl1oHFUU/pyf3Z3Z2W0eRHwQGfDBorRZWUkt9WdFqHkprgjWB7ULtRgFabBQSq1YRXTTajM+\n",
       "iKWgGYlYiagLVaGgdNogrTGUsQ9q6Q+LwYcGJKWxNWkp9ZxzZyazo4lFcA937s+5c2e++93vnnuB\n",
       "rpsVLtV7kJ42V850E9Mnqng64/7p2sa+Zg05D/iB29PdxHROFTOcmVKtS34zoF+ETSTtZTZ3dhFS\n",
       "qaKKGZ/yHMMpuQLvKmDMAkeAMnU5rS5iyntSfPoAl2aDPYwO2jyhuwB8SMXE2Nh73Vy66Gdhby1e\n",
       "yIfEUeghPNuJJPLPNZs7/uMGosdLtc2FqtfxYj2WDNttkhv+Idl+B+gZEs+yBsytvGi0tpti51Dm\n",
       "l8bwvX1/86UbAX1goTWEYi2uJ+7+2fEBD1+CU2RvS/4RNoiK8jQVpeYNL5x4kzVUajNztsSD0h+R\n",
       "Bn+d2qL09SNwWPnOrly1RhGcgsS79rkF6dLw1XEjcZd64PRA9zhF9pLkNYyI1jUXOTWVXg/2TVQW\n",
       "BxmpJiyOXmXljd8HN3j/K3mrDzjkw/6mGmqOdaqexfQkTTFIWjz8Y/4J0m69geJl2A1Okd0oy7yx\n",
       "ulnosQfxufK/yriIDPM88RzmxTexhaa1e58P13U+E8+LwP3ALwfHoGmYCLOYNkVbGcnwMpGxPky7\n",
       "8y70tij5XAcm0sANsjpYoyIkcIkxuQqT1X5ckLvNaAe47rrvZQoXoU3DYIo1zTjtZTEJx4m+eTgT\n",
       "vquddn9Rx0rS7QpJqbUjPvI90vyAvxOFJ2ymZTS4PfSMqAOrooPGrd4q8zQunHiD5i6rrt/1W1ZP\n",
       "1mCyr+PhRdo6wZm0+5EVy3nRvpa0oHGLMJXPqy8+JVqX8GTORRrHAQF6Cr2wK4on/V3ZPG1ogxiV\n",
       "ARpWp/R0rNlstg3SQ39UV8NBroJfELdD7j3AceB2iKM/xjQexajCvOLnWYmYKBNtD+5iCbIYlzFQ\n",
       "e2py2De3NZuvsZ40+X8A6wrW08ddwhS4nTw1DCJgbVRXw2G28RhKrdidA94CRlpy3iZH7sN0Cl+b\n",
       "RnH4T3XITKl3Zy5VB3YLODluGKjuY6SOhuLJ0SWItWDM84eFp6CSwcRh5YkYkxpOMJ8HdsZuGnqF\n",
       "ls8T7GszZ0ti+zIhcH9SW0cYQnwnmAJnEnvpJz7eCeAwbM3BZJDBRLs4Ht+IhpcCs8LLuD/GZF2G\n",
       "dQvVTkvqOIMXtSNxpTAHa/hlFIjn0o6pPSEebTmvVPtepy4m9Ofj9/ye0biH7fHpCS8artdyPr8T\n",
       "uS0cna0OcES8W1IS8JcyFcDTtpz0pCy5Kmikp6Q/HQvupL7OC0UZNn8165b93M7e6RaxgrdoV/Gf\n",
       "uwqZeufF69u4krmPFUNO13f3PbnEzQv/iskIRYYp2ispdaZtFCqk/D+mZ67zHXRq/iIs3yHpuu0v\n",
       "RlYZWdZU7cQAAAAASUVORK5CYII=\n",
       "\" style=\"display:inline;vertical-align:middle;\" /></a><br>"
      ],
      "text/plain": [
       "demorgansLawAndToOrBinExplicit: forall_{A in BOOLEANS, B in BOOLEANS | [not]([not](A) and [not](B))} (A or B)"
      ]
     },
     "execution_count": 35,
     "metadata": {},
     "output_type": "execute_result"
    }
   ],
   "source": [
    "demorgansLawAndToOrBinExplicit = \\\n",
    "    Forall((A,B), Or(A,B), \n",
    "           conditions=[Not(And(Not(A), Not(B)))], \n",
    "           domain=Booleans)"
   ]
  },
  {
   "cell_type": "code",
   "execution_count": 36,
   "metadata": {},
   "outputs": [
    {
     "data": {
      "text/html": [
       "<strong id=\"demorgansLawAndToOrBin\"><a class=\"ProveItLink\" href=\"_proofs_/demorgansLawAndToOrBin.ipynb\">demorgansLawAndToOrBin</a>:</strong> <a class=\"ProveItLink\" href=\"__pv_it/cc73822f1938be92f10851833462ddd45997c8710/expr.ipynb\"><img src=\"data:image/png;base64,iVBORw0KGgoAAAANSUhEUgAAAPsAAAAWBAMAAAD0hvfJAAAAMFBMVEX///8QEBCIiIhmZma6urrM\n",
       "zMxUVFQiIiJERETc3Nzu7u6qqqp2dnaYmJgyMjIAAAAcRTyBAAAAAXRSTlMAQObYZgAAA3RJREFU\n",
       "SMe1Vk9IlEEUf+7f79vPXT0EBXVY6JAU5oJRRAcXAvMSLgTZoXTBJOuQQrcs2KDDKpXfreiQnxgZ\n",
       "BiUYQYdI9FBYxHeNkr7wpBclw9QIe+/NN7OzH2oe2sd88735zXvzZt68NzMAlSTT3a73NX4eMbMV\n",
       "Mv9U/NoDcLJnpbH7NsRsgA/UXqiQ+XnxW6QqymyO66oCQFMugUt/QD4qVMZ6MiN+iw7WMbKcTDPS\n",
       "gZvSmoEpgBR2VY9Xxnzc5t+zJvpH84Q4jDQg8C0NwzifmbGx+xXyvT+u25CVO3FSILcAErsdSCG+\n",
       "Wize+HcI42dr7WiJtcsEc3J7ifZzHXHecgJM4NcvOlYA2q6g13FzuiQo6pbl6W4eMaKPOomypVY/\n",
       "WFnJK1govgQqPt3l+jF08I7HcdYiyKIrs3V9FAke+SPByZf8KeKkFqpriTE065Qil0sRhZLHZUPB\n",
       "QjFsU/Gpj+ssDHEIhtIQE7MOrQEMYyhYvTSpEPtm5A93hfNgrQfNn8cZT6oWST6hUUCHhWIiT8Wn\n",
       "XbzUzsYeXnSiF54L3MD1hX5j1xJ6z40zNnNNRGsawl7QfJefN6AkU7jENleHfcV5le2+edzEKh4Q\n",
       "TohDBqAGJxj6Icyb3lmeZLrIXS9ycNgJmmcnqbAjSfLYgKfDvmI9F835mNRx3k14ROPItI/hDkao\n",
       "3X+RtxeOcVdrfZ1wnmbe7FVJJCWtPPp9Vod9xVdcSqFnovnUkhjxgjh0OO07CiL0YILn9AUauOsT\n",
       "wAHN/PtisehFULTF531JhAzHYLga4XtKsYWLoGk/94014bZL4tCB76i/B/kwBU4NzSkx93GQO+8A\n",
       "DI2Xrz4fwWU1+7wvGfXgDCTHJRxTiu3aDXMKL52NBbAGf4nTd07AVzc6jxbJRorPYTIbdmCIowgD\n",
       "stUOmKd0PSfNC0mcEZ4bBQnHlGKzmqk6dBU9DBxmo4o7jV5wzQEw18HcF9j7PKaMFM0LSUhORjO0\n",
       "D6PSvFT8yqXsytmSpiRjrII5eDO6F94tN3ZnA+ZtuK4uC1tIQjgbc0jGh02leISLOh63I3HcaWRp\n",
       "vJ54hzDTym/FFCRogCDMzxcv+NzYggx7k+fPZuaJL38TvJFM4KlguVR29tj6HATcLcxHXI4OzW8Z\n",
       "LWh0GuHyHygccIuluyrkqOWWe/Aglx3TXxaf5/8cSUiOAAAAAElFTkSuQmCC\n",
       "\" style=\"display:inline;vertical-align:middle;\" /></a><br>"
      ],
      "text/plain": [
       "demorgansLawAndToOrBin: forall_{A, B | [not]([not](A) and [not](B))} (A or B)"
      ]
     },
     "execution_count": 36,
     "metadata": {},
     "output_type": "execute_result"
    }
   ],
   "source": [
    "demorgansLawAndToOrBin = Forall((A,B), Or(A,B), \n",
    "                                conditions=[Not(And(Not(A), Not(B)))])"
   ]
  },
  {
   "cell_type": "code",
   "execution_count": 37,
   "metadata": {},
   "outputs": [
    {
     "data": {
      "text/html": [
       "<strong id=\"demorgansLawAndToOr\"><a class=\"ProveItLink\" href=\"_proofs_/demorgansLawAndToOr.ipynb\">demorgansLawAndToOr</a>:</strong> <a class=\"ProveItLink\" href=\"__pv_it/b30655e24303d164140a29daf24422f247100ec00/expr.ipynb\"><img src=\"data:image/png;base64,iVBORw0KGgoAAAANSUhEUgAAAeYAAAAZBAMAAAAWDpCEAAAAMFBMVEX///8QEBCIiIhmZma6urrM\n",
       "zMxUVFQiIiJERETc3Nzu7u6qqqp2dnaYmJgyMjIAAAAcRTyBAAAAAXRSTlMAQObYZgAABVZJREFU\n",
       "WMPtWF1oHFUUPpnd2d2Z2dnmQQtalCWVKhXJQorFGumKGItQ2FZIIi3tUhVpEFwpNFAr7Iuwqeju\n",
       "Uw36kMFIt0SoixE10GJEhBJ9GJIWCpo6YH1oXxpstGkhref+zdz52V3SlkWKhzsz95755p757s85\n",
       "916ANvLmaA3uJ4mPHm2LKcH9Jsf/5/zf5qzZd1mBUWOcHfJYbMW5HaJjcpI99q3tK9Xx8gcZ55/J\n",
       "40orzu0QHZPL7HHVVRQopzDQp88seS9OMc7jZNCUW3Fuh+iUmDn2uGoJzRvkNh9G+vQXb3ov0lnK\n",
       "OYM1pButOLdDdEqSLGh+sd0NnoPkdiSMlPX69A3vhd5NOZtzU1Mft/Rh7RCdEv4Pdm9eaDLIPp4L\n",
       "I2W9qSxLby4xv71SqRxt7bfbIFoI2tZCPqU5NmpiFtzCRramsL533beBvFIR38n6l41V6c2PjDMO\n",
       "/rHWnF1ENM5vNS/l03jNBnFGPrKWtJf1zHxNE5cP6f1z2I+TUi2Lnxtu8tNcr+fVv6QXFxnnF0B3\n",
       "/F8M9eeV9dLnAmEuR/7t7z4SsrPD0JCohXDPRNZy0PNVnplYjSQu7/I2nciB2seWDT0Ar0dV5unj\n",
       "oF2TXnzLOCdBkWK9frrPNspzsE3iLBCTq1H169vtJpxV7OO9YdwJvBT5E4VjuUhm9CJJXB6gdb7W\n",
       "9zaaiDPO9VB/QUA/2Pf0ivRiP+OctpOS8sLMFBjzMW9IljzE3KHIQVnPNeGcKPCw4ccRDzMktxMp\n",
       "JLx5K5u57EZlzjkO0OW4nGON6IDi6XFsPRrmrDno2s3ndm9UNhWYtzP2vJqVOVMENnG2ElX/7lS5\n",
       "Ceekb+nq4sigOSZ3Dyl47e4z8xRN0thGKslul7PmJKNXqUJv4PUOwML5nlwPaf6X+Hp7DIe++bzd\n",
       "NaIUIUOBhbnzMmeKwK6ArXizgvUXY6UmnDG4aCU/boRUX8SRvChPgUU3EAkzQr6hyfNhWoMtrDhn\n",
       "eH8+2vMK/ads3XbuEVhvbfJ8GEzj9588DuvysVmYZJzT6ZzMeZpa+BV6Qf0hyNlsKEshzulKpfIR\n",
       "7MB/K/M8w+19GKguZaUkv08KiD2LQIeZcWUHTV6cIU2TuuFxHmQrD/0W3r50eMbT0yav1rTPSrAM\n",
       "/Zjv55zXkQXZAdgFyQYMod2sUdDsksyZIvQ/fqlakAxyPtV/9mZkPydgAP+tyPMcd4Qt+l/BJnC/\n",
       "oIUBPhi4GSH7pC0FjsuTt6+AUb2eczlneN8cJlOpyDOuXq/esuC724cgkVW76dz4k3M2iYkH4QmY\n",
       "UMnPkX6GF7MyZ4qIWTBRCHPeBtrfsHBmYc9PIc7DbhxNcBzljO0wIs8BWhgWnJkZUeEAiNZw154s\n",
       "BHHOmtVk2+nXdxWUsrZUAL0k7Z+1JezpC2lIE/dp5sGcDe2fd2J/24SzdgzGLXGLo0Naha+crsbp\n",
       "EOc6MCMkz3CUszmr5sgQ5pWwQl1wZmZEhb/R5NtjMN+0tm39BPa0WZ4VewzebkWMCcfnAD4gg+gS\n",
       "MR7gnFoBrfoe4axugF019SFy2wDVMoxftxOFOmwJcNbomODziuNoMZYnjjAlKmEFPn5q3IyocAuI\n",
       "en3rM23rP9m1cB7AAKm9ZYm9ZEAUnM+tzknIvxlec7tRaRpKjaDfVlDzpP9zwjkDOplr7rqDXoo/\n",
       "zooKHQAneGZwFzJ2J2dDau+zADNuUeROwGNwoBZae5ZJD/pi+TXkcSbSjn+Dzis0bJLu2dmQWbvj\n",
       "8zA7Ihf57zg34yGInou0szNKOQksenb4DHB0jefbucCZ20xo9lgtzucCspmme3y+ffhfcYORAjTf\n",
       "dPEAAAAASUVORK5CYII=\n",
       "\" style=\"display:inline;vertical-align:middle;\" /></a><br>"
      ],
      "text/plain": [
       "demorgansLawAndToOr: forall_{m in Naturals} [forall_{A_{1}, ..A_{_a}.., A_{m} | [not]([not](A_{1}) and ..[not](A_{i}).. and [not](A_{m}))} (A_{1} or ..A_{_a}.. or A_{m})]"
      ]
     },
     "execution_count": 37,
     "metadata": {},
     "output_type": "execute_result"
    }
   ],
   "source": [
    "demorgansLawAndToOr = \\\n",
    "    Forall(m, Forall(A_1_to_m, Or(A_1_to_m), \n",
    "                     conditions=[Not(And(ExprRange(i, Not(IndexedVar(A,i)),\n",
    "                                                   one, m)))]),\n",
    "           domain=Naturals)"
   ]
  },
  {
   "cell_type": "code",
   "execution_count": 38,
   "metadata": {},
   "outputs": [
    {
     "data": {
      "text/html": [
       "<strong id=\"commutation\"><a class=\"ProveItLink\" href=\"_proofs_/commutation.ipynb\">commutation</a>:</strong> <a class=\"ProveItLink\" href=\"__pv_it/b63708f4e02ba5023721586cbb0acd87a6be6c020/expr.ipynb\"><img src=\"data:image/png;base64,iVBORw0KGgoAAAANSUhEUgAAARgAAAAVBAMAAABvSezVAAAAMFBMVEX///8QEBCIiIhmZma6urrM\n",
       "zMxUVFQiIiJERETc3Nzu7u6qqqp2dnaYmJgyMjIAAAAcRTyBAAAAAXRSTlMAQObYZgAAA+hJREFU\n",
       "SMfFVk9oFGcU/zm7m+xuZtRDEU8y2Isns2VhtWhrxENAEOJFvbQJqLQexK0Bsf6hUaqdVXTXgyiK\n",
       "OkWhEqksBNFCwS2hh8Yga4QqqGFp9NCARqJJk5Y0vve9b3aH2SxxTj74zc68t2/m971/3weElksa\n",
       "DaWlUK9LlOfzYFT44VkILskeAUmsErD9Obs947RhV73X9Zo1KF8Sdgnu8fNoCDILCwK+fc3XDsVL\n",
       "jEuByARu1nv9XbN6f+7QpjHCTcF5jmFPCDIPNUiG/+XrTr4MSahmgOgbmHbQyUrVrEAT87D0n6wx\n",
       "F8qDsJBviyHIfKtByeqb5p8tfDmgNAYprHEkFwedmgs1K7HqYpUrphvryMYeBGugt/dcCC6JrIDX\n",
       "ZLz18hZNKU2c3vkj8Xoe9Drnt0rSNmhTuZXL6LlgynEOhSBjpAQkG1tmVCvQU1yKaFEXYvtoxf1B\n",
       "r4/9VqCPkBNL1L3LjdYv2Onpc4EXRPNrM7k6MvGygMLaFhtXKorTNjF27h76gVM+zA/mKyWK+Cm/\n",
       "lVJEqdJ1eg2dtvYY5nAlVYdab3VB/TXSLS4PgN90pa5ctcbLflFAZJF4o1TLgR1ibC0guYR+bweX\n",
       "cNBvpdDaaNI93oYrKe1xm1kaaqFXOeY3+j+DXbp0S/0vA9x1kfw1XTbMxBPdiQvaBFS46cyUUv2k\n",
       "lwMc4U8S084gmY/8Vgpq1mv/2Pb0Ho5Rp8AsNyv1QDdF5eQFF7Zt/qw0e4HPgce/9MIwMFAOkqHL\n",
       "MqWKFL12nOTP2Y3IeFaSNTLfOLxYUKmRSVRUb8ZsR1e4bW/6Q9GfgDEqfWIY0aeFQJpaCN9Ig1Wa\n",
       "UR0z2EMk23010+WlqWoluQxpSPDbeBC0a+RUwpuwSu8NdnqZSkl0fOg4Na7KceSTF8ECvqiHJ8mx\n",
       "IVTHTGzKK2C/nPJb+S1fSIQSRT3HdQGjT5F8glYkUxKZyFm1sgqMLK6qrxj4VNeMmRKoWZOXcG05\n",
       "oHcKWuP6E3SzNkim32/lKH3lVudPfFp7MBYxyeTIYN6N7Xeco1wzhmJfQuI/bHUcxyYyJT29o1mF\n",
       "ZP5/F3dmu4WEzJ2mscn01yf57kWQTLvfyjIi2+fsKFry/6TEg2ExyYiLKx3oksiYETWjiohOU/ok\n",
       "MqVU3XZQm8puYGPPzrkd+OVCvUfNaxN9vIzfFZmSOYjzRM7FmRJMTo9hYrBUv1E2kgYb5TweVa/4\n",
       "FBL5w4hTPVmHRk6XsblofpfOfE8mjuyj+6tfVkdwoTr9G8kcR4gc5vWo81pBNVPtOd0iVDMNDleN\n",
       "JDf34Woej1yoo+P7Hjut0MdO9rAaf9HCB5B3ZPUlW0rz414AAAAASUVORK5CYII=\n",
       "\" style=\"display:inline;vertical-align:middle;\" /></a><br>"
      ],
      "text/plain": [
       "commutation: forall_{A in BOOLEANS, B in BOOLEANS} ((A or B) = (B or A))"
      ]
     },
     "execution_count": 38,
     "metadata": {},
     "output_type": "execute_result"
    }
   ],
   "source": [
    "commutation = Forall((A, B), Equals(Or(A, B), Or(B, A)), \n",
    "                     domain=Booleans)"
   ]
  },
  {
   "cell_type": "code",
   "execution_count": 39,
   "metadata": {},
   "outputs": [
    {
     "data": {
      "text/html": [
       "<strong id=\"leftwardCommutation\"><a class=\"ProveItLink\" href=\"_proofs_/leftwardCommutation.ipynb\">leftwardCommutation</a>:</strong> <a class=\"ProveItLink\" href=\"__pv_it/bf0711f2a28f06f418626080c0ff1177ae0d34500/expr.ipynb\"><img src=\"data:image/png;base64,iVBORw0KGgoAAAANSUhEUgAABEEAAAAyBAMAAABBttibAAAAMFBMVEX///8QEBCIiIhmZma6urrM\n",
       "zMxUVFQiIiJERETc3Nzu7u6qqqp2dnaYmJgyMjIAAAAcRTyBAAAAAXRSTlMAQObYZgAADb9JREFU\n",
       "eNrtXX+MVMUd/97b29+7d/dHpVjFPjFBaKq35uyBcoYlpmLaGBZNwaY/2IhQalSuvcZYUFm1wqm1\n",
       "d23Tili4hzaUapWzhFQSDM9i2/RqcQvY2ghyFttEk8oVjpOD4nV+vjfzdubt2+79cbl7k/D27cxn\n",
       "Pm925vtmvvPjwwHUGxrGxmyYXOE1mOphO/3IjI211E/WsOcpa3JVT8ae8hbSOEg+Uk89PR4WUphs\n",
       "1TMLwvAO+4yGFlIZ0k6lJMtTwRj2qCITdmgh2rAtz+920I+v10igwGfXjLSt/l5wir+OrWjvzqvT\n",
       "UrNX3JW0PfANqzf0BqfPrjmzqvub7EtMlTH1idBCtOFh5+59+nHCiYiSa+UPLriJAl5EN5QAFhT8\n",
       "WcT46QCR0+qkS8uQvqosP/Rj1Orn1KVRcjQjP+NYPzOGQVUtvBRaiHaQOeu8aTn6ccLxxGP4t2bN\n",
       "ijwr8eUgz8bxIno5atLFOX8WIT56HnmLp5RJO9aiy4Je6aHRk+hylbI0Sg5Yjj4ivPF/q6qGuB1a\n",
       "iCbEc84d7X6fX+B0w9Eijq6cui3Fl7Xsi4MX0a0o7pjpzyLEG6OoMU8qk97F14XyQw3c3Swuq0qj\n",
       "5IBW1GiN5/mwqnxRRkML0YRjjj08ST/KrXlp3Lm+Mk8TytPILcvFC+gHUW/+ScufRYhPoIbZtlaV\n",
       "FCGDyS3yQxND6NJnq0qjpIce7If/l+OVDk9XaCGacK9zdxldGrD2uVOaXejfo4oXDrVHglmWgBfQ\n",
       "IwDL7qjCIsQ3FyF6j6VK6uvE11/KD20u4T6kqCiNmh7O4IKO8PWfnPJNsUILUYbosHP7BLn+nAza\n",
       "0RIdeJw7OaBmu5XdEnxqjYyOjhydvQ44SMfixi+/6+DGfmXSG6biobiE0Grzr0Jp1PTEbzF4H5Il\n",
       "ruqBD3E47qB3mqGFKEPErZJ15JqHvhxE2zrpgG9CTNUnzwS4nd0SPCyS0div2FaEW+b6srjxyG1J\n",
       "TVMmrS8oHordCliTZ/RiadT0xG+J8Xch3amqiKbB0ELUP6fo3JIlgeiKtjXoxWuktZjqhBdVuX7h\n",
       "zBkZfr+Mxn6FcY4ZjpbFjX8QN3u/KunTpPO35IditwL+w+mFBA098VuaeeNHh1SFMUZDC1GG5WXZ\n",
       "QhrRLxx0LATmw5+UPU9/hrUnwz8ho5FfAcZJpwk1LG48dhFaTVXSevLWF+SHYrcie96hdxM09MRv\n",
       "OVb2tZDk+dBClKG1Vx5lUFXHW1wL2QrKLjk5GGd3DD8qo7Hd4V59kS+LE4+XQ9Cokb3u5suMWQUp\n",
       "iUylM/JDiVuxreTQu6VR0xO/JTUdMD/w30b9kH+56GmhhSjDgyB5qknU4k1DroUkvmYqsz3CVqgY\n",
       "nlWsg8Z2t9xtQh0Lj8c9fPQMZBeWG+4wilJSH/4YkB+K3YrUh+DQOwkaeuK3vDhI+Hu5p1oRNoYW\n",
       "ogzT3dv9bE0kMepaSPQbxAVIfcwvO2n1Ll3rrqEgvFES0QDvIobpltOEPB5nFll4fBNql4WPwebL\n",
       "oTkfsaWkNOpedjFW/lBswotygoWwBMLqPEMozglUnC4g/CgmYitr4g1mIaRoR+uzkLo5Jk5ICUvd\n",
       "qL53jH0A6Z6Pco6FAJsO3sMvcfqKN9E1BY5PmBL6brwR1y80IYsnmQUWFh87MdK2+nF0cxssgXi/\n",
       "lAWe3bCCz4PYQxG8ffU1INCzBMLqPEMqzqqHewk/XpxtUr/jxwrUQojv8kF9FlI3xwRaDhGWuuPC\n",
       "qpNjIZvV+ZKWXClfUqMX+bN44y+A2dAX1WbxPNSlr0jQPPYC6IjiqY/aZzephWzChKX6LKRujokT\n",
       "0ufc+6yw1qheM9CGZkMd/5uaWJJD6C1/KxM8Q230mP87uzU7d2h4ylELaULmpp4bBbeQujkmTsgK\n",
       "W+7Cynhy7ohZ07qb+qjrj9ffVgtLYxHeh58OBMbXSI/5P1vW7P7TGTq2kOzAc889WaenWjfHxAl0\n",
       "nYiFHTAVQkJz9IgsmuC5zJnu7vvqncvUyzFxQuas2AtPiVOIf9c17CCzkJW4N6U7Tf+3hazkPfKj\n",
       "1dAqwI2n9q/2PULnA3hrhT3H03X23NnuX4wbR/TPi5yFMLCG7WQWcj0ZiJgXvKwjb0zzuvddr8Gl\n",
       "RW0MtpDr2WCWHRZQ71w5d37FMD+sSM+2QKbFL5sMEDFbTdhBU7L/ON5FXaG/ACzprUIXvVD46uTE\n",
       "M8eh0DT4VK6FWUgcjDJZHUrtbSunSwNwrQh7fv918HLGiljaGGwhlAPN1fmxJcxlZJJve2faHCCl\n",
       "R4r86J8mmwvwYJLI4LIlWibT3rKbANpROxer0MEq4dc4OUMLUVpIpowX8Z9AHfae5yB9MAK2+Lo9\n",
       "vtmCV8xcRh+DLYRyAAx08c4fcRkGDHgHcg6Q0uMmRAb9srkADwYfpoyatEymmXmBAL6N/M3OKnRw\n",
       "ufBrnJzhKCNVEx9lkoP4XOMoPbeW/sqXTWwhh96cmZu5kh1a2737R9ge6D6PGONYCOVAjdXNfAHM\n",
       "ZRiNRzzDPQfI6TsLcKXll80BeDGtKDZl0TKZ5k1/JB0Hmq/SMcmHDl6lt1JO4qmOhqbh9VTh0dvp\n",
       "wghZGCoMvIkt5PAMmGbNArqevjvzwlexhZB9HjHGsRDCgbpomIsuqNUIlxG56p+eh2JA8n5v+uIr\n",
       "ZhdJPl02CqBBwrATg6RMZtslZDRpRONEbNCXDv27W5GTwE9X1NSWqWAO6UrXvaHILWQX6k2MEjxL\n",
       "LSSDTy0mn+mEYeiAFFlV3A023sQi+zxSjGshu0i3/ja0QvRVZCGEC/Xv13g8AAyAR7zpB3Cnj/Pp\n",
       "sh1wRgVPVnqOjpbJNCM/Ib0AavUGuwodXKzIWeFrU0yJdn+DtVW5Ev/Mhvbyz2SvefykVpJMKhiX\n",
       "oMOqzNic4xbSjIblhAnLuru7zXQhWcaNHTNR0jqI3tvd/RCyhy3EzcD7PHKMYyGYA1LHX++xyHl7\n",
       "woXaxpYXIimgxZv+fYC+fpxPk40B2GxLxOBFmBdYmZA3QZa6sZ7wJahCx5SXck7yilRYSBOtwybX\n",
       "hQ2gWBLwAtqYgd6lGXqpVRBmH6mVKJMKJP4SdViVh9522txCshbZaYrRPgQ+b5JmN0rJoQIUaY/R\n",
       "eDP+JPs8UoxjIZgD0PSmr0AsJMbeXls+RU0AeANHTkeFXNyL82myUUB2/tHP7S3ImHnoH/odRdoT\n",
       "ZCKknvqJpNCfblseDr1yxJOT1N15b0UdYrNm14UNoFgS8C46tRFVTWRUL7UKwOwjtZJlUgHEX5IO\n",
       "K1MB5Tt3rEcxIEMo85C1k49BH+pFsiUbfocTDwMcgU0W3edxY0QLIeEmxFMmFkK4jAy8jrlQTnzZ\n",
       "ZFFA1vakJ89C8mLSpKpsDiB9JVyUtmVMvAy/Qq84KZNpZ15HeFhuwda8H10U0b0H8OtSXMzJwylv\n",
       "RX2Xdn+7XBc2gGJJwLvopk9hN6lFL7UKwOwjtZJlUgHEX5IOK1VxVGhfv2gheKcJH0hYhKquGL0I\n",
       "bkCda/JOCxII1fhAHr2OS/rpPo8b47WQxBlI9txPS4W5/nZg3r8BcS3pjV6ILkv6KSCS96T/4VTb\n",
       "atqkqmwuYGWqE+cVMfD7js/gJ6MyZe87/oMyKmVmfVv7tVCFbgXu5wq3ijl5eMBTT0k6cc4aw9K4\n",
       "U0WxJOBd9AJS5TnQS62qM+ulVh6ZVADxl6zDes+LfKMXPGfMDDRqs8HYjZyNxmka+itivH0Im0Zb\n",
       "Gi5GEE+r03E+VTbnrjOdw3lVmMpSVqeLwxX5yl8DCzz1ZNDa/ELaHX4CKJYEvINOfkTe1V7QS62q\n",
       "M+ulVh6ZVADxl6zD2u9Fko0YzSnEPcGmQ0oLibbOV3NxgswcZbon356Ku1TRyMfmVCmmU8qqdLAd\n",
       "9qo25o55OuYEAaXyZNAOqlhi+O1DIjpzUoGUpVbVmfVSK0cmFVj8xXVYzHHyAqf7WIiq5rIQzEK0\n",
       "XFkI/Cwpulydunopg9CxavOcc6GHABshiRyUwIolhqcH0zg6flqBlKVW1Zn1Uisukwou/mI6LBbv\n",
       "PX2UPOljIbUtvU1aRRX9TmpwaVs77sODKpYYngpiObqBzG5SMlKWWlVn1kutHJlUYPEX12GxV8Nr\n",
       "laGiSh0iQyoLQZdLILhiieHpCMXR8SG6UCAhPVKrqsx6qZUjkwos/uI6LLWFJDpDC1GGxmHFKIPd\n",
       "229BcMUSwzf3iugIeSltGemRWlVj9pFacZlUYPEX12HhPTj3t7lLqmZoIerQpfBUnwb6f08FVSwx\n",
       "/BIJTQb2jCUjPVKrasw+Uisukwos/uI6rMMz4EKFp9pqhRaiDp7JDNmmwnXe06tULLnaKlexxPGz\n",
       "JTTsK0OaHb7RSa0qmINLrbhMKrD4i+mw8B4c9pA6PPVA/eHQQhS/x5ZHnU5I9XxswctjXWrFkqOt\n",
       "Aq5YcvAPSWhIzVt1NafVSa28zMGlVo5MKqD4y9FhxUy8zgueHfDwf6nShvRZ1ao7DTUqli4oaNE6\n",
       "qVVQZh+pVY3iL9SAEbuApz7y2msutBBdOC5/PSTc16hYGjIDQ8dRalWj+Av6IP7FQsXO3UtWaCG6\n",
       "8EP5Bwmr4LUqljryQZHjKLWqVfwFN4Dx54rd//B/3PUbZuR3kJ0gmuzBs4UTy4UWog/t8tcpcQox\n",
       "69l2ewvG0UIm3V8PiZkw1cP4/vWQyfcXiK6e8haynb70+C8Q/Q/DOx39pe+SAgAAAABJRU5ErkJg\n",
       "gg==\n",
       "\" style=\"display:inline;vertical-align:middle;\" /></a><br>"
      ],
      "text/plain": [
       "leftwardCommutation: forall_{l in Naturals, m in Naturals, n in Naturals} [forall_{A_{1} in BOOLEANS, ..A_{_a} in BOOLEANS.., A_{l} in BOOLEANS, B_{1} in BOOLEANS, ..B_{_a} in BOOLEANS.., B_{m} in BOOLEANS, C in BOOLEANS, D_{1} in BOOLEANS, ..D_{_a} in BOOLEANS.., D_{n} in BOOLEANS} ((A_{1} or ..A_{_a}.. or A_{l} or B_{1} or ..B_{_a}.. or B_{m} or C or D_{1} or ..D_{_a}.. or D_{n}) =  \\\\ (A_{1} or ..A_{_a}.. or A_{l} or C or B_{1} or ..B_{_a}.. or B_{m} or D_{1} or ..D_{_a}.. or D_{n}))]"
      ]
     },
     "execution_count": 39,
     "metadata": {},
     "output_type": "execute_result"
    }
   ],
   "source": [
    "leftwardCommutation = \\\n",
    "    Forall((l, m, n),\n",
    "           Forall((A_1_to_l,B_1_to_m,C,D_1_to_n), \n",
    "                  Equals(Or(A_1_to_l, B_1_to_m, C, D_1_to_n), \n",
    "                         Or(A_1_to_l, C, B_1_to_m, D_1_to_n)) \\\n",
    "                  .withWrappingAt(2),\n",
    "                  domain=Booleans), \n",
    "           domain=Naturals)"
   ]
  },
  {
   "cell_type": "code",
   "execution_count": 40,
   "metadata": {},
   "outputs": [
    {
     "data": {
      "text/html": [
       "<strong id=\"rightwardCommutation\"><a class=\"ProveItLink\" href=\"_proofs_/rightwardCommutation.ipynb\">rightwardCommutation</a>:</strong> <a class=\"ProveItLink\" href=\"__pv_it/9899ffff09407a3cc1fc9c3b72fab752a48c3d810/expr.ipynb\"><img src=\"data:image/png;base64,iVBORw0KGgoAAAANSUhEUgAABD8AAAAyBAMAAACpNm2wAAAAMFBMVEX///8QEBCIiIhmZma6urrM\n",
       "zMxUVFQiIiJERETc3Nzu7u6qqqp2dnaYmJgyMjIAAAAcRTyBAAAAAXRSTlMAQObYZgAADhNJREFU\n",
       "eNrtXXtsHMUZ/7x35/Pu3dr+owmPAr1CBaZqsSMjB4hRLkIF1IrmAgJaQZtTTNI0AmKaikKAxtAS\n",
       "zKs+tWoLoeANVJCGQq61ohIJlINAK9wA1wQoFY8YQiuBVOLmYfLEndfOzszO+PZ0/BHFO5L31t/+\n",
       "9refZ3477+8M0GhqmpyswDGVsnmY3skpsoyYnGxvnK1p04PesZU/W2G6p28zoTz40OchkMIxljtW\n",
       "cdoLxB1jJ6lYIOH0J3728HQQwyad8b5YIOYG+Av8bIBm0lh9BDr8m5N9PYNK18bp6LvOrqP79ujq\n",
       "nurvtFfenFy9dHUpOpOEb9bduDYfC8SUWrr8s1aada3j/Br5U1NhSQQXRbyIPh4gsU+2fbkKmVlV\n",
       "HYOW2ToZYORk0PryGWoVDtXhpIh3dPrPtMcCMaXNvMu9nX68d5BfW4wP20K3NOMscHOg4AV06ghA\n",
       "co9kW7cSHeaWdAw6Zucu5FfiAOh8Se1Gh1nRnZTxL+hy4dZYIKa0gp/dTN+wkaBUrsCHleGXE3dr\n",
       "00xYAV5AW8jm7pZs72P8PB2Dlrn1RHRICuUlsuO6aX41spMyfq32NSnFAjF04Lkc7H5qsPaC2Ogk\n",
       "u8I3fYR+LvAJOF5At6CMXrtStCVIFX+ZjkHLPLeMy0t4tsiOG7XhSmQnFbxu2ifdFQtEn9IDfLhL\n",
       "8+ibmSNB04xMLZpO3Qj6uZudB3gB3VaE1I2eaBsm8vuDjkHHbH9Kaifh2SI79nl+MbKTMj7bpXtP\n",
       "DsYC0aeF/H1qIXWwkyct9neorZ+fyapCWcmERfGPj8vohddtu6ssMbzGOhzsPoFBy5zdHboksGOu\n",
       "zkpkJ328OOnx6ic47eRDrN2xQPRpVpChpESTYKPO5WWzqe1UgGt0c2s5aGbCovhkv4zuLIEzU2JY\n",
       "RbMt1d2vMmiZ0/tClwR2zLU8H9lJhvdrnH5dPnwSC0SfZgZ/GMnBK7p79qOPi6jtCf2o0OmHp/0u\n",
       "IsHTajtA346LpSzavkS6ix6TksigZW4iVb4jXgrYh/Dhf9Gd9PGsDhvXPbizFAtEO8t1RBEIOpwS\n",
       "CCRRzpZ1t82Bv7MziqfNU4CewFmeE22ryMtb8AUiMGiZ06QUN4pXAnasYPdIdCd9/FQCGa7GAtEl\n",
       "64DcxGTQzw2BQOyxtPa2R4CVM8O3lSQ0kR2t030bmQHJAhcIZ9Az0xmQCmx/49SuUxfLvpBO0tqB\n",
       "yE76eMwFvge0D/KfoFiLsUB0qSXIEVILPIR+dgUCgTu36W/7HutzMvwCGY1ll9ov2YbxDaOBQDiD\n",
       "ntnGhZr14PWTYaZ3usKO+ifOJ9Gd9PGI6wQQVuZkcH8sEO1fEwwlcD+CzIUMlYK8v4LOQG0YYwfn\n",
       "M/pS/sAL5k4QvkNCQyvK53n3SDY8GB7xAoH4DJx0w5hk31yFzHlgP9oPe6FXYUdtxEVdoHWSUClO\n",
       "Mjzmwj2bREWXEdlxJhDixruNCaRhjqMnbQgmBVDROUOfefDM5Iog71vp9XTRP9xI7XR8yPF3SOjm\n",
       "XRPdS++VGeCx1X15CATCGALSdFGyO+csORtT5VCZ3aKy9yw9F0DvJPFPcpLjm3NkZrZV+4a7+5hA\n",
       "SL/l48YE0jDHUTQNIlT0Nwt2P+9tT3/fGvnXGQUjWrFxgayBKMxNBWvAHjew1+lkUyFRKeBBj7a3\n",
       "vpsJ5AFMONCYQBrmOHrSZqH/v12w/6U+mvFcVKR+FsKYhtF77w5U9BfrdHIY0t8qGBbrwNnDBNKK\n",
       "1KYfFUUXSMMcR0/aIdS3wnz1r1YtqoumNx8RaM+eyNVDfCG0luxr9TVEvU5eCNYrhuV+NjLHAnFH\n",
       "16//bYOd1IY5jp7UKSxiOMdGpVhr3GbYabTfH8XsHxy8tdFRTKMcR096TXw5p8WWw38Z7Kf4AlmM\n",
       "1/ic5Q0JZLG/Tnh3LbQOcPGeLUtVGbure60pN9G91Vc5U3vh4okwm9wtHLq2x+jnXA/iRNJxvkAu\n",
       "IK0Q6wBf2Zu3Zqr92RUvwpeLRgsWyAWsJXP3Cqj3zpo9JzR42qu57rZDlk7IuB/sXEH6MvYH4Nw+\n",
       "FdMjOVgnTeKIbKkTggf6jEL6B8CCksHP5bEyWLrBF0garCrAFtTkPttdzQyMwnki7Mkt58MzWS/h\n",
       "GS1YIJQDje39CX7MZWXtt9Uhtg+QrieKkDlIiXOVh8l6wzDq5L01BZONhObyLoLKBksCV31GIfUA\n",
       "NBcNfsYCCQkkW8Uz9/ejAtm0HjLbEiCOodx713jwXK4ra7ZggVAOgFF/vx7msiwYrSpP9QHS9XQO\n",
       "EmOUOJfLPoVNuEdz6RRMaeRkinf/VTY4I3DVZxTSjwCsfoOfcRPjp5/4ArHH8CbGA3SXWuaq7+aw\n",
       "QPw1IbJFbePGX2I5uOdfepps4QKhHKjIBlkzj7ksK/mO0hnwAfL1DQU4y6PEudwlL+NLeAp4/RRM\n",
       "nagcHb8sQ2zwPLGLjOIIfx/4TVqY/bVSLA2lkwp3X0MnRMi0TWH0DSwQf02I9Cw2Zp+6GgtkXrWp\n",
       "JFm4QAgHqrhhNjqgciNcVmLWv5WHYoB9m3p9/tc7iuxRue5TMB3b94eoDEw3ib8obOjneoBlMqPY\n",
       "SR1HzGOaO4nyQvPOdnUaqCETfi9mcoGMoOrWGoDHqECyZI2KrQk5ZFJ/I1RQFwXWnAFtnmQJBDJC\n",
       "quy3oRNSzyOBEC5UdZ+rZDcGwJ3q9Vdxm0CJc7nEr9FHG2nmMJWB6bDUsVHZ4CS4+kSZUUhZJI6m\n",
       "iuZOMlEWmuFaRz++X2eW6/B1hkqZ4e7yie6lP1dt+5cM/jC6gzI+fOMeLpA21Gi35ODKwcHBXKZg\n",
       "V3FZszWh1E2Dg3cgOTxMuhiLYJ5i4QLBHODs3DrkkZ31hAtlfEWeJaSAdvX6fahTWqbEqMdgsS6G\n",
       "U8VUBibcR+FdixAbDvtZCRKjODNU4eGVYfbNIYF8RD92Be0kOYZXuOSApV0atBgqZQhvMkVWKUx4\n",
       "0XluQba1IeHvKEd3UsKHtrM5h7lAXFSiTZej6p/UIPCNHARrQkVaXyRJh3EG9KZkCxcI5gA0sBku\n",
       "EIE0szezIm+YJgC8aCNfP4TahRIlRsWZwMABspkGURmYzgGye+a57Ve9pGHDgYMrQWIUUlsZh1e6\n",
       "c96taNgXqg2KSy+5u3jv1RTkJAUscbyAlkKlDOFNpsgq5bnYzfldig19JNqjOynhsyqUL9axTLMg\n",
       "Syjz4Fbse/ia0Ev44usA78ADnj0OP94oWESBkHQJ4iGvPeWysrAVc6E78eEBjwLcinLdPgj2SUCJ\n",
       "c5XsVoSF28B5mQhEx4QO6Sr8sQR/HmsqP6uwpRDbh0AEIjIGd8NCDx7JQ6YD+oU7uXrUGIA0LaEn\n",
       "g5IyBTlJAUscL6ClUClDeJMpskp5Ll4R2JFTbOiPSR6J7qSEd9SdQZlDkkASLwLgDQsXobwtpr7I\n",
       "14RaUBWU/GkevWoLyskifK0qWFSBtOwHe+g26hXm+uer5/wXENeCUuoEdFhQpoBEXrn+tz3dS5EN\n",
       "E7u37vxFFT0Ksn0vePQP1DChM/hr71fxa/IEnB1m6/NoJoiM9EZ0KGdXdffgqZ7FOAaA38n1MKZk\n",
       "FFtjqnbmpUZHE+QkBSwFeI6WQ6VM4U2myCr5ubejIj3Ok214K7J9OLqTMv5DBZg9IAmEVLWoPWbq\n",
       "CYwdg2zvC5RDFrUGYVnsGbgYQTpjuB5+FKbSIf2zNIxAf1mPWallFM76rdfFO/03Rd3Bexod+Xib\n",
       "g7bHEOQkBiwJeI6WQ6VM4U2myCr5uROo/7RMseHVteREdCdl/BZ1wDkeEkiQNkUbCGkFkuqco+fy\n",
       "CbJn1nqWj1SoNoXOHoevwKKSFnPpnrLWeX7mFDOv6Pr2BxXD/eT4e9Ji1whyEgKWCJ4ucHG0Eipl\n",
       "CG8KRVYJrx6/NzXxbsctqg13GqzDkZ308f6Cg1qsA1MIRDfydyGaQIxcLkR9Vk1ktfbTTIxujcFf\n",
       "6pBioOWQh+GumkFOQsASwdMFLo5WQqUM4U1qZJVYxfPn4k3Qa4uKDe8RbN4b2UmG9+3qZiOyqTre\n",
       "tAz6+SEhka+TSfV1Lx+AWkFOQcASw2+R0EqolCG8KRRZJYw8+XPx3nvrkGLDbUJbe2Qnfbw/fFNw\n",
       "ceCUIc3VCSSJ/swxqBXkFAQsMfz9EloJlTKFN6mRVULiz21DtYe1W7HhNmFHNbKTPt4gkLsgFog2\n",
       "zc9rmhiUpen2mkFOQcASwx+Q0EqolCm8SYmswitg1ukF+bl4GoS1DoENtQnO8dGdZHi6whZsePZT\n",
       "HLxtSOmucCfVLtNgklpBTn7AEsOz3PXRaqiUIbxJiazCK2DL2Bcv8ufi+n/hgGJD5fD0WHQnGZ6u\n",
       "sIU6qVb89Q+mJQplGLOFzYW0HAgFOQVBSSzIyY9kYnhrQESHQqUYmhOw8CYlsgqvgOVZbJPPBO8j\n",
       "luM92bYL2fBmCp2TPM5LcJLhyQob+rVXKdViLBBDOkn+FVW96yY/hszQp12hICcelMSCnFjAko9v\n",
       "yUloNVTKj6DiBDfKdgZfBAvYN1FwpuvxdyaWQbUt+VkJQOtkEOfF6Tl+EZ2tVZbL46+gMqbNnm6q\n",
       "nfY9awQ5KQFLTZdr0T6LKbxJsc+ADhhOmZ+r2up0kq6w4UGPlJi6YoGEU6vcCXGFX+sMcmqztOb6\n",
       "WOxx9I6/lY1+Q51O0hU2dbEuc2IsEGOOzZB/D+ar6w1ywgtcGv76WJJF+Ah+Mxrd/TqdpCts6pxJ\n",
       "/EW6UyRlTnEdTIekLNv0QSwQ84tflF/J6bDl0JVX2njAQCr+dyCatAime/p8/x3IMfcPhRL5aa4P\n",
       "Zxn9xP9Q6P/BjBbxBV+VzwAAAABJRU5ErkJggg==\n",
       "\" style=\"display:inline;vertical-align:middle;\" /></a><br>"
      ],
      "text/plain": [
       "rightwardCommutation: forall_{l in Naturals, m in Naturals, n in Naturals} [forall_{A_{1} in BOOLEANS, ..A_{_a} in BOOLEANS.., A_{l} in BOOLEANS, B in BOOLEANS, C_{1} in BOOLEANS, ..C_{_a} in BOOLEANS.., C_{m} in BOOLEANS, D_{1} in BOOLEANS, ..D_{_a} in BOOLEANS.., D_{n} in BOOLEANS} ((A_{1} or ..A_{_a}.. or A_{l} or B or C_{1} or ..C_{_a}.. or C_{m} or D_{1} or ..D_{_a}.. or D_{n}) =  \\\\ (A_{1} or ..A_{_a}.. or A_{l} or C_{1} or ..C_{_a}.. or C_{m} or B or D_{1} or ..D_{_a}.. or D_{n}))]"
      ]
     },
     "execution_count": 40,
     "metadata": {},
     "output_type": "execute_result"
    }
   ],
   "source": [
    "rightwardCommutation = \\\n",
    "    Forall((l, m, n),\n",
    "           Forall((A_1_to_l,B,C_1_to_m,D_1_to_n), \n",
    "                  Equals(Or(A_1_to_l, B, C_1_to_m, D_1_to_n), \n",
    "                         Or(A_1_to_l, C_1_to_m, B, D_1_to_n)) \\\n",
    "                  .withWrappingAt(2),\n",
    "                  domain=Booleans),\n",
    "           domain = Naturals)"
   ]
  },
  {
   "cell_type": "code",
   "execution_count": 41,
   "metadata": {},
   "outputs": [
    {
     "data": {
      "text/html": [
       "<strong id=\"commute\"><a class=\"ProveItLink\" href=\"_proofs_/commute.ipynb\">commute</a>:</strong> <a class=\"ProveItLink\" href=\"__pv_it/1fc0b46f7f326f3f0457aaf66c374ac27d723c5f0/expr.ipynb\"><img src=\"data:image/png;base64,iVBORw0KGgoAAAANSUhEUgAAALMAAAAWBAMAAAB567CdAAAAMFBMVEX///8QEBCIiIhmZma6urrM\n",
       "zMxUVFQiIiJERETc3Nzu7u6qqqp2dnaYmJgyMjIAAAAcRTyBAAAAAXRSTlMAQObYZgAAAt5JREFU\n",
       "OMullU1oE0EUx/9kkya72aQ5iAiKBBX0og0EIkrRiAdFkBYP4s2ACrmIUcGDHxjBj6QqiRcteMiK\n",
       "h5QeNNCLnoytoFSRmENBRA14speWpq1ppNb3ZnfjpMRA0oGZffvezG/nfcws0G1TS+2sL6lXWPja\n",
       "BXqE+tTKqUgqutriImZPFnjPL9NdoH/ysAFQFug5KJCWxT8LaIQfZt+SnZN9IYYtA84qCWdYVbZM\n",
       "3+o0jNMnDEAvdI52k8dwLNE35kg4zqrLpkUbIy2ekGVydPRRF/EQazwBYjDRTx9yhix/HPOsoRTU\n",
       "UqmrXaC38tAbg+sSuQ0vYT1Z03LES2GCHhJhSguVOR6uTsTFHKcNsZfAmemPpG3tfR5Oni3fMYOZ\n",
       "AE5Y8Yi6OEQ+yuNBkU2S5013AtADgmhDvjeq6xPw2pav8NCXhbZevG4BTlsbgMqJ9dLH3HCI4n+6\n",
       "LCxKDN66jNb2l8ATqEeAV4alXsfDDcaLbeetDVJGw5EaFw9VoF5yC9XkRTPzQSgVGa3nQ9hGBRoD\n",
       "LgD7IKMXGR0UOyrYZUY+brbQakVUjiuYEpbng9hlyOhjniTLCvm+AMe0HBAua5wT8VIr5gbhpX6e\n",
       "45Lg9Ikg9WC3MA3s3BGDjI4pCehRPKTZc+XbkNPIZe2qme+3rAPzmPqMlUaMMR9f0CdMH4HtMtpX\n",
       "cMxCS2IPhaYCR8JGT3DtUr4PDFkhNg+MyhMyVFNKkYuTg6X9+JARcbgH5AoS+ln/O8rqG41c8RSh\n",
       "/rbRh8jRmcVw/K59cYgDo2X+GHixQmnz87XiY6RiICfuGFo7kJXQe6HS/TOikLG3AOdS00GX71ij\n",
       "+T3fkI7SypI6BLUOdZMUECfVHCVLnyI5Z+BBsel6atPGGyeuBjVzzbURb6vheFRCZ5IY/lXi4oB+\n",
       "PRy5+W9tui3ZrvJG80qyp8litPwV/L95si1+O63Rnf7APq9WlDpAr6EpawX8BRqzsfBgEjt2AAAA\n",
       "AElFTkSuQmCC\n",
       "\" style=\"display:inline;vertical-align:middle;\" /></a><br>"
      ],
      "text/plain": [
       "commute: forall_{A, B | A or B} (B or A)"
      ]
     },
     "execution_count": 41,
     "metadata": {},
     "output_type": "execute_result"
    }
   ],
   "source": [
    "commute = Forall((A, B), Or(B, A), conditions=[Or(A, B)])"
   ]
  },
  {
   "cell_type": "code",
   "execution_count": 42,
   "metadata": {},
   "outputs": [
    {
     "data": {
      "text/html": [
       "<strong id=\"rightwardCommute\"><a class=\"ProveItLink\" href=\"_proofs_/rightwardCommute.ipynb\">rightwardCommute</a>:</strong> <a class=\"ProveItLink\" href=\"__pv_it/7b8e4773d3f15832428e2119493ddae4da453f380/expr.ipynb\"><img src=\"data:image/png;base64,iVBORw0KGgoAAAANSUhEUgAABJMAAAAZBAMAAAB3OXIaAAAAMFBMVEX///8QEBCIiIhmZma6urrM\n",
       "zMxUVFQiIiJERETc3Nzu7u6qqqp2dnaYmJgyMjIAAAAcRTyBAAAAAXRSTlMAQObYZgAACndJREFU\n",
       "aN7tW31sHMUVf9773ruz749CSenHkSIwVSsbuTWFmOYi1KZqVeUcVEIFrU92E0JEybWpSBqa+mjB\n",
       "upRWvlIJolTEm6YibijhimUBUhAX4n65TbnGAUUqIUehf8AfTZo4Jglx0jdvZnZ3dvfqPZ2qIscj\n",
       "3Xrm7Xu/eTfvtzNvZs8AzZa7NpZgoVzqZfnGSvMg+YVxXCgAsdwClf635fFL4DvGS5xKNdY42hSV\n",
       "moaYv0Uv0J9QrTGzb3hBtQ98K+Z/Famvnlw/07X2QafszJri3Q14+OrFobVDMrO5m1Ppz6z+TlNU\n",
       "ahpi/pZWPtqtJ6QgRNesSzFr3cRy3EP7qirEr6/6RrGrO261IL+XZlWUNiT7sXIDTl5A/r0n5Hs5\n",
       "lbaxP4WmqNQ0xPwtU/zP6+ekIMzCkUy7FFezyyE5Rxw3XNqjm/GytOQXRVF3dNCHDFvRqaL04Z9A\n",
       "yr+ToZN4uV7IE2miUit6nSg3RaWmIeZv+R5fbMbOmrMSy04jhkvxNnbZLBpPSg7YtN9g12W+URR1\n",
       "RwcdiH4sraJ0IHuCs/6d1E7jZYWY9fQUUSk5uWfPY82l3U1DzN9tDd+TJLVpU/Q2fm7xXgmDnaJR\n",
       "7cg4tQO0mNzqF8WhrnbwAAb/g4aKMsy8Pe/fyShbskdkLvYW38GdKRa/3+QOrlmIeVs0Pu5fis+a\n",
       "ojH8bPXYBaFmVMxFQePFqlN7hEj5a78oDnW1gxmAVescKGdYvzP+nWxjCc0KeQBwgFNptadVQ1Rq\n",
       "FmLelihRQs9QZsFLBNePgvcw3i6qv6LMRdV+Wc1c5kJ5OV2/g9DM0fb7HSjkoHbev5PkYYeclV7n\n",
       "VLoF9Bro65uhEkEA1COUfNogONzTLVSODFSuc2uq0uDwPd0eiA5x0NWNV9mqAPRYAMmhHq2uocvL\n",
       "Oi6J8sWZA2sVrEiZexg7BTIIWhrCGQ/bxQDfFNUMjHSKiJjag2I/JSI8F8pgtn4HGiZuO3MqCqU+\n",
       "4Wm/8Dy3gvVS51lOpQho+Ows57JVPRntcod9aMMEXJWrK8lLCAzLtOcIHzO9+hvAfqrsSMNoyqXo\n",
       "lKJ6r0eYVXHU3Y3HWcq0A2C/zGb+AfoD9aw8vKzjkuglBaFFdkELuXRbVzeuH7fewFPUPO2dXWW3\n",
       "fBwhNNC1viAiYmp/jJJgI9SV94Ui1D07iOJX0t5TUSj1aUv5hee5Ffxbyvs4lRLVCF/t9H1d1Xhh\n",
       "Em6yGz954GZ4LmEEjLqSvIQA2DXreVi21Dze6AZ4kdnFMLJJ1wzqkqJ6OOcGVMVRRzdV8VEawjPR\n",
       "JDd4fQSDfcRll6SP4o9lyvtOio9NHwJ4Z42bSnj5KJhP6xJ+DucsgbLcBOM021KjiNi0BylXyUIw\n",
       "7wtFqnt10IZeaidVFEp9jlX9wvPcKjnroFKsxvZ4P8URfX4PxA8FwH5Emnx4uwEvpDsT9SV5CQEw\n",
       "ucGr/8RuuTOB7wB8jiZ+7CPkWs5dUlTXPN7LqOKoo5ur7e+DZEN4JprkBq+z7cJKl52G0X9U9ccy\n",
       "5X1zFUUfIqh8rWuBi+Pn2xaVdni/aorVIqKGNpEURcSmTccDOOYy1nOgSHWvDtixUnhaRWGpj36F\n",
       "b3ieW+00H/vlYuy2suXvLN/lxe/4WppRaeqVxZ2LV4sd4fj4I8yr5M0rP65KJJU4BA570av/lVHZ\n",
       "pX4aNDoV78CpSXedWzilqA4J9zLoEEcd3WA7ULLdZA3pGW9yN6iusbPDPW47hLpR9cc0lX2TiqIP\n",
       "T2etldNKu38hjq8FlaJfT3uujg+JA8pYmZ+On1W0R9ifSSvWc6AIdRYy7Zqs2gE7VuorqCgs9dlb\n",
       "8w1PuZX+L84TK+2GMTQPpaCVz4mTrzAqHf4IXG5cA/z12njiqTsZlZZVW0qKxKTSGHkQBkwHwi6G\n",
       "5AJ5eIyWjuDJQ0Mk2sTvrFMVNznzaxzQcM2FKMROKrFuGGIiY80WssE8i22RTe4G1SN8SFkXit0E\n",
       "GxrFH2FquTRhfxnOGyuwdq9i1CnOloZLJpVCd/Hv8zR+Bf2CqLCMShxQshO66FkWEbs2O04YM6xY\n",
       "C7kJQBULRaizkK3TcsoteANRrjAUdEb1IJu4veC9nGRcX95JPGHJYY+gUhsSUCvALk6lBH39X+Zh\n",
       "GhV0WjPGocIW7u3XQpuhSEwqtRGH/w4dENrvpFKyrJ2AKD0ZiZpYHfiu884PqZrnnSsjut9ScSFy\n",
       "sZNK1A1D1Au22UI0mGfwkGxyN6jeRjjUhWI3yqYgxR/TVLo0apvEROOvWPuwwnrsZviCAc9d3GBS\n",
       "Cd4Uix8b+/tkBaPD1+fRi+9AfPjdTq2gaMOuoYGMLdZSfp8dyUIR6ixkmUBFuXXvxYHuYllFQdma\n",
       "H5XqwHs4GT4+0732Rs4TNq//U1ApieMSTcOqYrGYjmdjVYYWTuNTcT+ENhWLP0TiPE5LZD8sc0gk\n",
       "lRgE6G/+Zdhwn7fv7fnjOWjhUa9AjLYOLEN5ynpRIIqQWiTBMfit+wRfiB1Uom4IcUK3perU4J6l\n",
       "ZFO4weosHdKrvAu7XSLzhNMfaSpdIhVFH36Cz2LK48WJmVBQ2V7nZFz9mtG0p7YZa38o/dArTiRc\n",
       "tzxRGoRHngRTtOGzpuiWr+IiwJP+z7Pv0JLVCrETWcjxOShImell0BNSJZJKPL03YCTrptJNEDtN\n",
       "b3xx8ipDkFKAz+Kn4qISl069MHXH76S6/gE3lbg4ueRoxU4l6oYQRwO2nQs1yDN64UxN4QarBwqU\n",
       "nVIXdju98BmnP9JUukQqij4gP3dm0OA1Uz7lQSV/BSPiVYKN/TzsMmiHkZB//QbhkSeBSla+zhXh\n",
       "0SBBr4MzkKzEfgwjyLdkoQIU08MAr8E2I3YCvjtukzip9BWEoQcc7VFbXIKYJc0y7W0YTwN+VmG3\n",
       "I1X4TYkCbyqa0mdqLeV9pN5nwI4Mxc2CM8XxdtEzpxLvhqiUeBVMF6jBPUtWxD3hBq9vAf1PgkqK\n",
       "3UF24mb3h6tbLnEV6RM1Qucg9hbAM4UIeB2bPttQkDAiXiXeUKwxZP1wJOHfIN4glUYg8uWs/JGJ\n",
       "mFEmAB5mTw4ORS50JXwBWkuxewyI4uQY/EEGp6zecjAHn6zaJA4qRc9AbHgLG2W07y2FFrHLlTBc\n",
       "gG3vVj8NCJAY7Op+ENht+H3PJ4AC31vmiotMaTi7G0x1dsaFiKaWTbw6VLBRiXdDVGK7LKlODe5Z\n",
       "ICN3f9wNqkNi4CVDUEOxY5sxxR/TVLjEVcT35I0/nOoaMJjB7fYMS5afD/Y3EiQWEQ9u3DCTbgAE\n",
       "Q/Y2PDrpn3qNwQPyRDvIXyUoP8jVMFcS3LSE7ZgZmccdDoljVhLZpGG3l7V82QKwbm8GD2kExlR1\n",
       "hmj9hMWs5bXD6mm3RFQPec1GJO68ZyhOq/d02+su7o/9NqceeOqjwaesc/dL4Qe5yRLU/W33815T\n",
       "X6n+Ozj7O5WOJXZ7WXupZAOQwpWnyh7SJ+Bq6LepM0RLy6zpufhBF5UYYr2SuK7uLXK6XhH++NZH\n",
       "g31VuORKHSp5jUQSfFHJYV/1AqjCXFJnf8n/4kYUFsr7l0oNlY3/5/+DCyyE8X1Qlm/M/QfsXq1F\n",
       "TtMV4AAAAABJRU5ErkJggg==\n",
       "\" style=\"display:inline;vertical-align:middle;\" /></a><br>"
      ],
      "text/plain": [
       "rightwardCommute: forall_{l in Naturals, m in Naturals, n in Naturals} [forall_{A_{1}, ..A_{_a}.., A_{l}, B, C_{1}, ..C_{_a}.., C_{m}, D_{1}, ..D_{_a}.., D_{n} | A_{1} or ..A_{_a}.. or A_{l} or B or C_{1} or ..C_{_a}.. or C_{m} or D_{1} or ..D_{_a}.. or D_{n}} (A_{1} or ..A_{_a}.. or A_{l} or C_{1} or ..C_{_a}.. or C_{m} or B or D_{1} or ..D_{_a}.. or D_{n})]"
      ]
     },
     "execution_count": 42,
     "metadata": {},
     "output_type": "execute_result"
    }
   ],
   "source": [
    "rightwardCommute = \\\n",
    "    Forall((l, m, n), \n",
    "           Forall((A_1_to_l,B,C_1_to_m,D_1_to_n), \n",
    "                  Or(A_1_to_l, C_1_to_m, B, D_1_to_n),\n",
    "                  conditions=[Or(A_1_to_l, B, C_1_to_m, D_1_to_n)]),\n",
    "           domain=Naturals)"
   ]
  },
  {
   "cell_type": "code",
   "execution_count": 43,
   "metadata": {},
   "outputs": [
    {
     "data": {
      "text/html": [
       "<strong id=\"leftwardCommute\"><a class=\"ProveItLink\" href=\"_proofs_/leftwardCommute.ipynb\">leftwardCommute</a>:</strong> <a class=\"ProveItLink\" href=\"__pv_it/ff8097a3121a7806e6042ae8f326a1afa5c431a60/expr.ipynb\"><img src=\"data:image/png;base64,iVBORw0KGgoAAAANSUhEUgAABJYAAAAZBAMAAACRELleAAAAMFBMVEX///8QEBCIiIhmZma6urrM\n",
       "zMxUVFQiIiJERETc3Nzu7u6qqqp2dnaYmJgyMjIAAAAcRTyBAAAAAXRSTlMAQObYZgAACiNJREFU\n",
       "aN7tW22MVFcZfvfO571z7+78oLW0YkbaWGpMdszW7QdbmabRNRrDLEbQtMoEhNKm6Y5iCrGtHWuL\n",
       "g9XsqIklqHBpDWyohdHNpm3ShqngR1DMCLRpopQxrT/sD1lhWVhgwfN9z7n33NmZTIzNsm8yM+e8\n",
       "857nPHPf556vuwvQqd2/qQLzdtVbdNNjnYMU56/jvGH76byW/rdm1q+CH5mqUC018MeJjrTUMcQc\n",
       "tlH68dX2WsUaGudzW/rrP1c8zvBU34anWodtEu8Mn19ffqANim9e2bJhC1/dPEC19Cf88V5HWuoY\n",
       "Yg7bv+jHKeHIE60E1eN9iax7IhhtLAIYW6T6ukoAy/KtIyvxapMeJN+TVS0bPdZlJMCLzL+Pamkb\n",
       "HohLHWmpY4i5a06WfpxyuWcdfjsaCIzjBDkZVnv7QiDa+h6CiEyrCKvRDLo82zqyEu+DQhGRtJaN\n",
       "Fit2Gr19nPntDNFSN6JoVzvSUscQc9cSdBZ4YZnY667Eb98K3vEFHM0UZ41NB6K7r8ebpbSK0Itg\n",
       "T2ZaR1bifVBIJtEZHRs9lnEWvS1nq0ErTbTkHN6799nO1t4dQ8xdY5el3pvjnm6UzmhWPxnew0cz\n",
       "YzIQvQzfrLGsivAdlMYPuK0jK/FqkxE8uVzSsdFjJfE0vLPG/O/Sfdz5cvmxzrTUMcTctRvp2Yt7\n",
       "QGznUih1Sc2J3Bh6bWXlz6Zm/NHmOXL/V1SEKYBVD7aBrMSrTc5jnlM6NnqsHryoWV5g/oNUS+v0\n",
       "rdrRUqcQc9d+SN5/SVYj3vX6km42RKMOW3NaObIYUaLt0xBEiE2dWPIotI7si1egML5xScMmBIv8\n",
       "ol4+Lr1NtXQPWA2whjvREoEACFOUuFmiIwP9mpCA+621tVuI/yF9uOKOBrrR2dZm/cEsXzI+2D4z\n",
       "dXBDJbytnzDNXA52ZkUSFgN8TdPWyEA8x3+ReQZg94QcnTjrhQoEAy2rdhWEgmZF5vE6KIwfn+Qk\n",
       "JTYhWHh9BcM85iWqpQQYaAAepL5VAznjWv+Ca+Mh+HAh1FPkEGien9Re4pOC1V8BXtcE+Nw7MjCa\n",
       "Zv6hijZccieD3Wj2U5NN+mtKRuaDgdIQW9isrUp4Ablca/uGSxDro6e6e/iNp5pVpDtrvCLu60cz\n",
       "TrQoR3eRnZ2lIiQRK+MifOE2aA2ZxUvmQWHl9qQ5SYlNCBZeX8F/uH811ZJdT9AJz3q1r54qHYY7\n",
       "5cYvHLwLXrbdiBvqKXIIgOdntP0vE4uFfoADwd2Bz22ivDsl5o8XtOGSO+nrps5eSoUxY1XRny5W\n",
       "IuOQF+VDyxBBHa+HJm1VwgvYyNnV4OKASFW/511Kz+nIMAYfQhc1K0cnyCg1riL0oL6M02IgmBWZ\n",
       "x3vmQeELfrLOSUpsQrDw+sqZ8WnJbKykE/tbr+yF1NEI1OT7+ZntLryWydrhniKHADi8Ude9vUds\n",
       "Lr4B8ElNhOpOIAKxDPMbRW245E76urkJ8RH55BXGjFVFf7pYiYyRw1eI8qFlSCBiNzdrqxImcxzK\n",
       "ViIttGQ2Etos7eBPo1Lo9XX0u+pyNDlZYqkRCPi4CM1LXEuzIvN4zzwo9Lus6wRJr00IFllf7RJL\n",
       "qkGqJdiKZ8xpujdM3fvlDCZ87I3F2cXr2P5vfPzHWDnOXStuVD1cSxQCXfCyrvsVSd6ldRYMzfm4\n",
       "z92LRgXLpX6w07pw2Z30dYPqkYr0Ja5wZrTq9aeJVcggxDs4H1KG/Xk+Berb+gjjtbdZpQfZPE1P\n",
       "H9WvKr/C1uc/o+fkPRU52sS5s10VAR8XrS4JLc2KzOJ5chUo9Lv2eYOn1yYEC6+vrH9ToXhrbxhD\n",
       "zWNp6Cb3RP7wG1hLxxfBte5HgD5qG7dfvA9r6e56V0XxCC2NEQZxQBN3PDCHFSJFeJbcZNHTR7eg\n",
       "jwf9S1bq5rZZ+FEC4o0AInP7tYS7wdB2TnpizSqYmfk4r3o0NLEKmUN4tNkslWE5Kj0c2lZlxvbK\n",
       "+IwpOe2laSU9HLQuo7f9DVZAKbif/k4Th41UYEiJhgN1SPHVB/f9A4Fe53paYn4MqkPm8Ty5MhQS\n",
       "bxSP3ZwkbyNg9jcUP745BrNEKHj5OMC01IOUZpTgeaolG8/T5nNFmEQBVpbO0jV8TbbfDD2u4hFa\n",
       "6iFi/Rv0Qux1v5acqjEBSfIMx27gKeC+6/2TYEOZGS5JfuiqBRCp268l0g2Gtkp4/OBjGK1gZvA0\n",
       "r3o0NLEKmVE82lySyvAXVPpgk7YyMzr2j155D1Ij57IiTd1syn8Ez+cFVkD2DkUauezCy1c2whI1\n",
       "2rp9/a3iiJH6Hr6ytr9cBU9LzE9Ag8g8nifXB7X+uxVJS7yNgEkUZH/81FT/hjuoUPCu4J9MSw7K\n",
       "VTIDq8rlciaVN+sYLZ5BI9WjENtcLj+JlPMLMquugbt9Hq4lh0xJ7/x5xA2evO8b+OMF6KJpr4F5\n",
       "MXjOz9zc8LHni8wPvw6e5TO3T0ukGwJ9yJKWv6RCmaV5VaIRjFXI2Lndgg8pww/Q/ZZu0lZm5j1D\n",
       "oeMpS5Pp6jeB29Xqk+HRft8gtIXMkqttIrS0HVrEws91rCJ4f7/U9UU0D5BxCT6Fx5iuvFEyJ/JQ\n",
       "oKNQdAX+vAYGYqqHa4kuD13YmQ9q6U4wz5LHv2j4qkJ0Oqgl6j722rF7f4ert/NFJvJbC4Jaom5n\n",
       "6YmarCXSDYEejUgPuEmFMCNPn0lVohGMVchYpU8IPqQMSGa7ck3aysxAPNtV09SaXZNvOXSwvRNB\n",
       "nlztEVmxXaxILc+f7bL8GGCTZ8A5cGrm92EnEpxTqgFJ7nGAv8M215yAb45LHr+WPo9g6jjzqD2K\n",
       "Zm9RtFKawdHbUEJd+FGNJML7Xrh/0+iqvorbJurwqwr2r3ZhRw5UROFOLWE9Uy3RbkiO7TdBNCAV\n",
       "ysypse8kGppYmQzAEXTrUD60HLsA5rsQ1tbHzHdGmmovTROZlkNfai//PLk6a5Mkwkp8Ls//5oSN\n",
       "KYcAnsEKRxeqELsBPg3dFfMhF5JoOo5+O4cGraFqtAAfq0sen5aS58EceRxnHrUfqsQW4rcbYKQE\n",
       "287V0VQ/VLWf6Ot/iiZiqEq/X+i54/k9cCtuC78f+CgPx6tNBdFzr4uVJC3RbkiO8W6Ko5MKZRbJ\n",
       "8T2gRyMYq5Ch2zbKh5b/cKZvrdusrcyMrrLExHTbVKadLA3kWo38yRNr2so/T67G2iWJsIwj7I6R\n",
       "/0bXQOsl74SD2ZIym7ehGvD4xiW2QnDl9rxUrHoAJBHeoVpVPOoZw2Epv9+HKNxF47h67s2hQblK\n",
       "opJI+b5rEsvJsINmtvptrR+PGUnO1fA3uk7FryXPXtENfpXw53Hy45XepXJ7XvptxQNYcaYqoYnS\n",
       "brgJ1lREC+FXEYXbKqSOBLSEocPMvsV37NUklpMJs6ZtBbOrzPRa0t1LDrSkJV/7egiAE4pb1/rr\n",
       "4TSSMG/vYy21ZZv+z/8fF5nP4vvBopse+S9jHr8gteA0lAAAAABJRU5ErkJggg==\n",
       "\" style=\"display:inline;vertical-align:middle;\" /></a><br>"
      ],
      "text/plain": [
       "leftwardCommute: forall_{l in Naturals, m in Naturals, n in Naturals} [forall_{A_{1}, ..A_{_a}.., A_{l}, B_{1}, ..B_{_a}.., B_{m}, C, D_{1}, ..D_{_a}.., D_{n} | A_{1} or ..A_{_a}.. or A_{l} or B_{1} or ..B_{_a}.. or B_{m} or C or D_{1} or ..D_{_a}.. or D_{n}} (A_{1} or ..A_{_a}.. or A_{l} or C or B_{1} or ..B_{_a}.. or B_{m} or D_{1} or ..D_{_a}.. or D_{n})]"
      ]
     },
     "execution_count": 43,
     "metadata": {},
     "output_type": "execute_result"
    }
   ],
   "source": [
    "leftwardCommute = \\\n",
    "    Forall((l, m, n), \n",
    "           Forall((A_1_to_l,B_1_to_m,C,D_1_to_n), \n",
    "                  Or(A_1_to_l, C, B_1_to_m,D_1_to_n),\n",
    "                  conditions=[Or(A_1_to_l, B_1_to_m, C, D_1_to_n)]),\n",
    "           domain=Naturals)"
   ]
  },
  {
   "cell_type": "code",
   "execution_count": 44,
   "metadata": {},
   "outputs": [
    {
     "data": {
      "text/html": [
       "<strong id=\"association\"><a class=\"ProveItLink\" href=\"_proofs_/association.ipynb\">association</a>:</strong> <a class=\"ProveItLink\" href=\"__pv_it/374d2f9738499fe01bc56b1110bfc12b484741b80/expr.ipynb\"><img src=\"data:image/png;base64,iVBORw0KGgoAAAANSUhEUgAAA+sAAAAyBAMAAADW91cAAAAAMFBMVEX///8QEBCIiIhmZma6urrM\n",
       "zMxUVFQiIiJERETc3Nzu7u6qqqp2dnaYmJgyMjIAAAAcRTyBAAAAAXRSTlMAQObYZgAADPJJREFU\n",
       "eNrtXXuMVNUd/u2dmZ2dO/cu+0dFxGKvmCA0LbtmLVDBMIRUmjbWQVOxqe1OXLelppZtaKjlIUtb\n",
       "YfFRtm1aEYs7aJNSLLoJ2SiJjVOxbdyqnSi2NkpdBZtoUtnAguwibs/7ceeceTCbUJg5CXfvnvv9\n",
       "vvv47nnfbwGoNjVMTOTgvE3PQ80kN0N/ehMTLdWzNex/KHvePgovVzuyw1eY/A89PBmyp8/jJzGr\n",
       "hlQHf5jtxGpc9qS4/0T+wpJ4vynz/rrsJO1K8b3d9Mc3KyQw4P1VJ9tX/rR8in9MdM7rTZmPPbp5\n",
       "Xv43FbTeszvvTNBmq7GvyO3Wuuw/EXvv0R9HRUaMbAvvLS0PKngV3dADsDhdPss0gMgJMJ3YmQGw\n",
       "b4bxxEaqy/OQvIpWW+5wkcqtxmVPjosi2kZ/HBW900Z8W35QENOFN6/wMI5X0R3owd/QVjZL7AxA\n",
       "9Lg8JEPcLYg9MmY6sZFq91q0WcyK+XOmG15flx2leJvYow/r8cWibozh4U68cIxyM96sZb8IvIpu\n",
       "RXlvBWWzOEhX/5hS2kVI83S0ibaYTmykehsHLeEVuumGn+2ry47EESI/SH/kW1Natb+0MKYZxUT5\n",
       "6yLxCnoTKqcXZ8tmaUIa7FLlFCGLB7BEbaYTm6gip/GvN/HslP09r3HZ7xJ7V5BtNPus7NDvQ/+2\n",
       "GhoG9OSa2Oui4BX0SYAVd5TPMiUDsTVqfcBDEh+SRrrPcGIjVX83/vX3fEaizTSEG6/LDrFRsfsA\n",
       "2f4WOlDlHOuhJUPs6Qk93FvYLsG7q3R07OSh2euAg0qzdNz5ypYBrUiyEI/X/LcUnNhI9fegcJD+\n",
       "8gc4HRZd/WN12SEi734d2aagvw1i7d20zQ2g0VRRzgS4ne0SPCzT0bit3pWBm+aXyYK6Au5U9RAP\n",
       "ibPuPWNST2yk2qgJkew2YT+oyw4NGbH7CfI0OttXoWIWpQ/M7YYnTFG/E4Mjhj+go3Fb7Zxmb0MZ\n",
       "LJuw9Gpx5yENpEZ2OZMSYqb6FGkpeHMRGzFhW/vqsnfkddmj6GaGheywEP5mrCMGPCYSwz+go1Fb\n",
       "Dc4xIVZJlpNYDa1+ZiFxItygYJIhZqqNpJCni8ren6/L3tqnV/Lo4cVbpOyPgLGeTAzH2R7Dj+lo\n",
       "/DI1jgqxSrHgYTusSvnX3niFMyuthtARe04wyRObqchg0gPMBPwuaNv+n1AFV9uybwKtS5dAMjaP\n",
       "SNmbvhEYw+5hcyYMz56hQOOXqaNHiFWKBXcFYqfAX5JvuMPJqCEJ3P/ysoJJhFio+nHUEGHqU9Zd\n",
       "tNTUXZd9mtw9wMbuTWNS9ti3STvpfow2Tw7zDcDNa+VYH+GdHhUN8DZimCbF4vk4WFJJlmYkwZJ7\n",
       "YceVMCUVyWkhaHSYvAak7CxEsJAdmZ9E9ca+LGHCs3s50y17I0x2chGHqpO9ao5zklxlRhQ92d0T\n",
       "70Ny24dtQnZg4541uJ3N8A0Sio6IOb4p0NDfwysrA4pYLJ8ErylgaTx6sn3lfWjnNlgO8QEtxF3w\n",
       "ratBYWIhkmWNnv/Y5s4UYcIzdc3G0uifYLKT3sP71cleNce5GbYrM6JxZR5EyL7DHJfI6vf/VTN6\n",
       "WUUscBHMhv6YMWSZJcRCdREsiuH+vf2ekezbcVxPdbJXzXFOUvK0UgraSo14rWmKY85/qiKWxAgq\n",
       "pa97k8P0g0HLUgyr4ZDszehVMQ8Mype9ao5zknxltVOZQE3MPxlUNOlj/hzvlxtvq4QlmoH34NdD\n",
       "k8P0mbxliE+Hi1h2f2jPnger7NJVzXFOkjOm/LIbLqxkmr3H6RTvyZ/q7V1fbU++Wo5zkrxxtWq8\n",
       "wD6q+pcl/zIuexeu4eh6wlnL3sVrya2l0CbAF48fWNlXLKgI4PXO3JyiNfnmRY4lNDIOtZcu5rIv\n",
       "Je0A6y2uWJRypoZ7f6ufh8sz1hws+1LWlvijCurfc+cvLFBh1HDcbwGvpViYDlAxjwSwu1ho4h1w\n",
       "lVkZ/53Dq0UfpHGkBmX/Ppc9Dk6ezFe4z7Tnkz1DcI0Ke/zAtfC0l41krTlYdsqBRo5neI8RcTle\n",
       "4o3w4JEDtOORDP+8yRImASFMAr1Ffk+R0H40kH1dufAgt3OwLjuW3cvjKd0H0OPZvweSr0RAnd7x\n",
       "79uRhT8GbZ49B8tOOQCGVvO6F3E5DgyFW0wO0I7HA4gMFwuTgBAmjq41FhQJxT2OG5ULDwJvb01X\n",
       "8j/ksieG8ddYY/TDnOTXvxZg2V99bWbbzC72cc/g4C+wyHSOX80RslMOpEAvG0RgLseJvhlqVjlA\n",
       "P/5kGuZmi4UJQBjTinLdIqEOVnYP3ScXHgTXvyC6dGM1KLvo0sHW2+kAnkxVpIdew7IfnAFTs7OA\n",
       "TrsOentvxbKTOX41R8hOOFC1CfPRBslAuJzIVe+GTooBiQ3h4zd8dnaGxNnCKIAmDcO+irrDdsa4\n",
       "ModELjxov0y0As4JDbtz0h5t1UzJvkmclNK5pgrZ93UDXk94jMru4Y+wEo92wygsApdMXg1CDi9V\n",
       "kDl+LUfKvo/MbL0BrRD7E5KdcKEq9/OhRhoD4J7w8ZcBriRxtjAC4L0DFfMRybp1uu2MU2SDRS88\n",
       "CCK/MnUv0XH6hsSGK3uqBn8EZqrUIxHCf6cAUKFRQoHrXMeF7FNQ49gUwIre3t4gmU7ksYKNATq0\n",
       "DmJ39fb+GIm8kzTdeI5fzxGyYw5wD7+4LUu+9SVcSIScPt9FAS3h4/ejrtcAjrOEMQAba6gY3HTv\n",
       "JZ8Lm0Nx2+/S1p5eOGrbxVxqUpO9mZaKZtnPs/gRdMfD0UI0YVI9EuUwaXj2QY4SpholbJYLi69C\n",
       "+7jH/UjI7mfJekIjLe3whYBo6fQkRtKQoWU7SrpFZI5fyxGyYw5Anfv+NJG9kZW9nP75JgHgyXv9\n",
       "+GlUjffhOEsYBfgLD33umbSOWQDkO4S1tjNGesiHBwsPIVCGlnYvIh7TGRX6KhsDyn6exY+gOR6k\n",
       "n0KiCZPqkSiHScODF+hhmlHCZrmw+Co8FSmWYlht6IBHolLg5xL3Qj8q735PDv6MDx4EeBO2Z+kc\n",
       "v8xRZSfpesSTJ7ITLseDFzEXisSb7VkK8HOh44lxSHySOAJMYQKQnAuXJnM6Jp6HP/QR2S1n3ADu\n",
       "C5CcjT9XIRce5LwX9QqPpx/R0rBP9vMsfgTN8SD9FBJNmFSPRDlMGh7cFj1MM0rYLBcWX4WrznjQ\n",
       "5SchO15PwKu+y46gYhG7FK5DVVXiu1loQnVr9O4UKkzLB+gcv8wJy950ChLbNtATY65/vrzgv4C4\n",
       "lvfFLkGb5QMUEEmFjv/1ePvKFL1gQ5gEdLndOFbFwF8WfZo9GuMZwet8DtF24Q+Q8YX76w//TI7w\n",
       "7lbndeiym++MatW+yY+gOh6kP0KgKZPmkSiDScMDHNHDdKOExXJh81UcUSekxzTZSRWJWkf2TsjM\n",
       "2ahBpGmgICdc2ll7mrVwMYJ40nwcx5nCxF53sg3HGjBri58Rup2DhguHxerN04f0paSs+W1+BMXx\n",
       "oPgjBJoyaR6JMpg0PPsaV4SFjBIWy4XNV3FAbQhGCmSXaX8lg4qQ7LHWhWYuTuDNMR4Pxe0v2HMz\n",
       "Tqpxjglz4/GBomd0M8mXTFf+llJRNhH53BRp/Ir7ERTHg+KPEGjCpHskSjNxvJhm1sJCRgmb5aLA\n",
       "V6Fygeg5WmU3rUb5UJ7sVi4fyj6Xlp0vTV3ZGUXqUN4W+j1TFBLHS/oRFMeD4o8QaMKkeyRKMzG8\n",
       "SE/plLpRwma5CPsqNC42WR0Ukb2idEHYI6CBPMeb2+fhBenifgTpeFD9EQJNmHSPRGkmjhdvpE6p\n",
       "GyVslosCX4XKBaLnWPNmqJGw7Ck6e1nCjyAcD5o/gqMJU8gjUZKJ43WpeFjYKGGxXBT4Kgpl3wJ1\n",
       "2aOjoUo+yZaoSvgRhONB80dwNGEKeSRKMjE8XwphcTwsbJSwWC7CvgrMJu+GpLr1EaXVoS7dw2za\n",
       "rYQfgTsedH8ERxOmkEeiFBPH86UQ3g1jYWGjhM1yEfJVILZL9C6dUzc66115shKBy8q2vgI/grAi\n",
       "MD8Cty/o/giOJsbykEfC5mwIeSr4UgiQfzIsbJSwWS50XwVmG5dcSm+mxmVvkCs10W5wt32chacn\n",
       "Vhf4EaQVgfkRqH0h7I9gaPyZfYFHwuZsCHkq2FIIwLt6WNgoYbFchHwVjQGZqVMWJet/xIQM7MfD\n",
       "k7M0lfIj6PYF7o/g6LNnEkshbrc5rITlInxh6UhOcimvRa3/gbLDcvdVy0i3dAr7I86eSSyFeOa2\n",
       "u0K6foh/Oa1yJafXZcfp5/LalcnTCv0IYX/E2TOJpZAnzIcrpLsOnJe0hdf6nyNkr7+sANlnFpOQ\n",
       "JoFp6yTeo8LVCXXZSZond/+PPqryJ/GjKoXL75lM2c/nPyzeGEDtpMn9w+Ln9X8jcHXtqO6yhV38\n",
       "3wj8DwhTrvv4+HTZAAAAAElFTkSuQmCC\n",
       "\" style=\"display:inline;vertical-align:middle;\" /></a><br>"
      ],
      "text/plain": [
       "association: forall_{l in Naturals, m in Naturals, n in Naturals} [forall_{A_{1} in BOOLEANS, ..A_{_a} in BOOLEANS.., A_{l} in BOOLEANS, B_{1} in BOOLEANS, ..B_{_a} in BOOLEANS.., B_{m} in BOOLEANS, C_{1} in BOOLEANS, ..C_{_a} in BOOLEANS.., C_{n} in BOOLEANS} ((A_{1} or ..A_{_a}.. or A_{l} or B_{1} or ..B_{_a}.. or B_{m} or C_{1} or ..C_{_a}.. or C_{n}) =  \\\\ (A_{1} or ..A_{_a}.. or A_{l} or (B_{1} or ..B_{_a}.. or B_{m}) or C_{1} or ..C_{_a}.. or C_{n}))]"
      ]
     },
     "execution_count": 44,
     "metadata": {},
     "output_type": "execute_result"
    }
   ],
   "source": [
    "association = \\\n",
    "    Forall((l,m,n), \n",
    "           Forall((A_1_to_l,B_1_to_m,C_1_to_n), \n",
    "                  Equals(Or(A_1_to_l, B_1_to_m, C_1_to_n),\n",
    "                         Or(A_1_to_l, Or(B_1_to_m), C_1_to_n)) \\\n",
    "                  .withWrappingAt(2),\n",
    "                  domain=Booleans),\n",
    "           domain=Naturals)"
   ]
  },
  {
   "cell_type": "code",
   "execution_count": 45,
   "metadata": {},
   "outputs": [
    {
     "data": {
      "text/html": [
       "<strong id=\"disassociation\"><a class=\"ProveItLink\" href=\"_proofs_/disassociation.ipynb\">disassociation</a>:</strong> <a class=\"ProveItLink\" href=\"__pv_it/d2e2c6954653255dd043fb82c709df97cc57253c0/expr.ipynb\"><img src=\"data:image/png;base64,iVBORw0KGgoAAAANSUhEUgAAA/sAAAAyBAMAAADxWdboAAAAMFBMVEX///8QEBCIiIhmZma6urrM\n",
       "zMxUVFQiIiJERETc3Nzu7u6qqqp2dnaYmJgyMjIAAAAcRTyBAAAAAXRSTlMAQObYZgAADWFJREFU\n",
       "eNrtXX2MFOUZf272dvdmd/bu/qgUtdgREzyalltzFqicYQmpNm2MC6bQprZswGspqeUaGqIgstgC\n",
       "h5ZyrWlFLN6iDVIs5Qy5KIkNW7BtvCJsAFsaBU7RJpq0XOBADorX9/tj9p25XfYawNs3YXbufX/P\n",
       "b559fzPv5zwLQKWpZmgoD9dseg1GX9pKP5yhocbKyWp2P527ZmvCyY9C+Wv7yEfs6WdGQv70NVwT\n",
       "E2A0puPsMzzK5Y+L728XRox0c6UEu0fwGxq56vJV+XHakuJn2+jHd8okMOBjWYDE4nMtC39aOs3f\n",
       "hxZM7hC+RDqLOJsWPGiX3k8p8GIuXP6pqvw4/UScfUA/TomMMDkWf7e0LFTwCroeV3gNugemp4OZ\n",
       "1PyxAKGzQp0+b/HNBYjfVjA5YHRMgVMub3qpKj9u+y/ws0SSfpwSo9gI/loJt8imDR8OcTOOV9CH\n",
       "8WEeqvx7k8FMSn74EhqQnRElez3F25ahw/ROgwNGxzT4XtMXj+ar8qNaSIozWlkvThdtZTiDs4vn\n",
       "NHPwYRn7Q+AV9MP40IzyT7jBTEq+NYiUPi37JE/xO/g4w+SA0TENvsV43w9W5UcCCbGfoh+F5pTW\n",
       "HcwstsFtey2/bSReoO12fFyFmt1P54KZlPw6pMMWKWl9SisOXcTH+0wOmBzzwFOmb76kKj/AQ+Ls\n",
       "Fjohzu2RE4Bd6N86w4ODariO3TYKXqAtosw5gLmLhmFS8hsyEF4q2wcnqRV3kTvqdwYHjI7pcCdp\n",
       "vPFzVfnDA+J0PTn+FuahBjucpf2BONMTqtxvsFOCjy3W0HX4hgifO9a0HDjQj0nmz3vw0NpuWZDo\n",
       "04oP8l4k63XA6NhBbZhBuQ78B6eTInenW5U/JL/9cnJMQVcSwi3k6QHLhYip4RwP8AA7JXi4W0NH\n",
       "u1lfviUD900JZJL5aKgQG6M8yO1a8Upaw9wxxQGjYys1QShXUU/RV5W/JiNOyUQ4vKBlMXrAammF\n",
       "xdrhDyarF8RkiuH3aeiaFOvLrYvszvBlkvmr8C0gH/9wv1b8WdJS57hjL/jM5ng+h6tcRXfeYFX+\n",
       "eQVd/lr0ZfqE/DAN/mZsM7odJhTDr9fQRH7Ul4N1msvvxyTzz2H5XY/8ongleYrT3DHpgNkxDg+S\n",
       "375Ulb+5U2/8UeVFG6X8z4Kx3bT7ouyM4Qc1NGn88Y0VGRDy+zCJfDzth8WpxJ2zb7EmpIUHvJjM\n",
       "Lh2RLR0wO8bgmA24Ee37/yXBY6ryrwJt6Gcj4er7pfx133aNZqvZmgvDszrkaDL0wzfWvKyQ34+J\n",
       "5+OmOHweEjMKNYusDB+uieIu/NErHVt9CIIcY3DM1im4vGltVf6x8nQfm/vXDcpaDn+P9J+xj/FI\n",
       "uY8fAOYsk2sFCG9lVTSdaL2DWMbmhPy8DBNIOplfj2SY8ThsuhUaUqE8asbzWnEcNQ67ctIx5oBg\n",
       "Iicyn8ExW05wedNBJj9x5Fhl8lfMcUVSTK6yYp22DX0I8Q0fJUUtA5snLcVNeoYfkFh0Js3xda6G\n",
       "xtY/xDs43SDk52WEYKlkYvmRU+daFj6BTubDLNJ51Kc1M3h+zYIUSPmZA5JpqZ7P4PPJyl+9+ek8\n",
       "kabyk9HFh5XJXzHHlZn2n1am4Mo6ipB/k9nOzunf/+s6+mHQ7qogJm/+ddAEXWE8hjcWc8c8Dvg5\n",
       "dh20KlzeYa9L5d+I7bKVyV8xxxVJ8YvK4khyuJmyb2qw9L8PK+cvl8Vk96Mn9qjjs01TrmOI7cc9\n",
       "vlw7k1T+enTLmCcSpctfMccVSYmzyh9yUdaecs4ta/HI87qgsiD75Mr55TDVZuAD+HWvz7S+XMcQ\n",
       "2+cLflxkaorlT/Ru3/5UhUO/ijmuSKJLHyxtG7khRcXNoGlFf6S5GrJs5H++o+ORSkf+lXJckeRc\n",
       "UB+tq+hlr3+O4Jf048LrVUT+Ntzy0X2Ly5a/jbee64ZDmwBfObNvYeANHwA4uiA/MbCFX9Nq+ZiG\n",
       "LsDoTTXtTP6ZpH9gY9S5rSlrjHeEvOQ1uDnjm4Pln8n6mMSAgjo+acq0IjUGDOWJRnAag8x0gIp5\n",
       "1oVtQab2uxBTVncS755cIsYokf5RLD9eriTyR8EqkHWP2KsthXi2F+5QYS/uuxNecXKhnG8Olp9y\n",
       "oBnnJd4BIi7Lsd/yTjo5QCsPZfhrVz5mEuDB2OhuSmQDTLvQBPio4rib39xTlV+V3yngpeL1qJp2\n",
       "b4f4oRCoy0SJJzbl4I9u0vHPwfJTDoDeJbxNRlyWBb3eHpUDtPKoC6G+IDMJ8GDwO2thN8AUj0hm\n",
       "K467rrOj2vjjmuONv92H3xIbpC8Kxb/1TRfLf/jN8cnxbexlo56eX2Kx6R6CmiPkpxxIiQ426cBc\n",
       "llX7tqfb5QC9fGcaJuWCzATAi2lGubEAUwsrvJ2eE8dd957XxdBvcDT3/XzoB+seoAsAZGUh3fsm\n",
       "lv/IOBiTmwB0ObfH2XE/lp/sIag5Qn7CgZpTmIIOSA7CZYVue99zUQywV3jL7/1CU4bY+ZlRAE0a\n",
       "hr2ttcjvilFlEkYcd1tuEr2Ddfb/M3C/yha3zAPfmgyXfxdqB6wsPE/ld/Cehf1cOwxAK8TIYlgP\n",
       "5PGWCNlD0HKk/LvIgtRb0AzhPyH5CRdqir/k6cQxAFZ7yw8A3Ers/MwIgI8eVMx/Sdb9N/hdsUF2\n",
       "ZNRx1w39yjQMLZq2h/vKq2UTXg/eGH4ZKig25Lk1kwu/Kd0dBf5987w/yeVvQJ1nnQtzOzo63Hja\n",
       "LmAlIy4qWg7hhzo6HkNibyZdO95D0HOE/JgDYif3b8iRd5MJFxIjry9TUUCjt/xnaIjWje18zBiA\n",
       "zU1UDO7ad5DXm82meGwQo6MB6jjq+8Uabdwofz19WurluNAnrkKP3hB4Fa0Gb5TAosaGeEyscegR\n",
       "G2e6sJFKhRtfNIKdeS5/Ikf2LSL06Ycvu0RTK2v3pyFDn/VaMnwiewhajpAfcwCaDHSlifwR9izm\n",
       "9ddMCQBvDujlF1Hz3ontfMwoIDHt2BdfTeuYqehfnshvNg1lyYsP044hUIY+/U5IVNclU72wJfvj\n",
       "clzoE1ehR28IvILWgjdKYFFjQ3ST2FpUqaFB04VNVBrcMa4U8y0f1hZY4BDrFCTy9uPQhZ7/RDYP\n",
       "f8aFRwDeho05uocgc1T5SboH8RSI/ITLcmA/5kKW+LAxRwGJvKfcvgD2Z0hEg8lMAOKT4MZ4XsdE\n",
       "C/D7TiK/zxVXQOx1iDfh12aI427e2S+q4IypXuiGXWyXHBf6xFVo0RsSr6C14I0SWNTYEN2k/gY8\n",
       "um00XNhIpcFjxnc69nSr8uN9C7zjfPd76DEJ3wh3oUbQ/kEO6hCq9tEUerhmddM9BJnjlb/uPNgb\n",
       "VlAHMNc/Dkz9NyCuWZ3h69FhVjcFhFKe8r+eaVmYoo4bzCSgLdaObVUM/KX1c6yKjFcEZ8FeRNuG\n",
       "X5HGjiceOflzOTN81FAtNEoDEtaA1h2Y4irU6A2JV9Ba8EYJLFpsiGYynYiVNFzYSKXD3zPJf7AT\n",
       "PG/7WKj3ZL2izGxCHSZN3UU53qef9bc5Hy5GEI2by7GdyUyctceT2NaAWRZ8RWi3jhgch+mGaqFR\n",
       "GvDVuOwZ/OIq1OgNiVfQWvBGCSxabIhqYn9EHuNOw4VNVB74PpP8ZJHf52Wv3aVPIIrkDzdPM3Nx\n",
       "Ameisdxjt7voLJaxUpGJJszsM92BV4xl4m+YPD9R3IDSV/UgliLvgrBoCp+4CiV6g+K39utoFrwR\n",
       "HJ0hWXhsiEzcxOE9SGlhI85pLfu46buPDZDftPuVgNLk9+VKQMnX0rILw1OXd0U5/DG8okBe1IVa\n",
       "sNHAgEVp+MVVKNEbFE/fxpFoGrwxTHSGZGGxIUriJlE2fSgxbCSqL2iY3jmxTwfIX9760SchzEPm\n",
       "kXqd0zL5PIh9MJ+4CiV6g+JpOJ1Es+CN4OgMycJjQ2TiJjVkWhErNWxEwNldbrpTqmEeEOr3kx8d\n",
       "bpLy+8VVyOgNiqcdh0Sz4I1hojMEC48NURxkJtF+OtsuMWxEwP3lr2uvyl874NP448Hjj6T8fnEV\n",
       "InqD4Rs6NTQL3hguOkOwsNgQvt2imNApfL7UsBEOx0zyW+iLfm5VfljiM/R7BujPtvCK84mrENEb\n",
       "DD9LR7PgjeGiMwQLiw3h2y2KCempnVypYSMcjpiu9xn6Neeq8puG/mTHA+u1oVPKz+InRKwHi6vg\n",
       "YRgc36ShefDGcNEZnIXFhvDtFo1qTwHid0DJYSMUjpnwKKDV8M3pKz2jXP6afHGH0A6xDR/n4JWh\n",
       "JVJ+Fj8hYz1YXAUNwxD4xzS0CN4YLjqDBXPw2BC23aKZxKZ+93aAUsNGODzikpW/9w2z+OqPu4D6\n",
       "007eRV+aeG37xVV4ozTSRvRw0RmbvPVJt1tMJuWFjdSkQ/k0ng8UJXZbjfYfdjtZnHX5URrQb+6R\n",
       "ywwb4dstpvRymUzRr6WNWz4v5aryo/SLYt8vP0oDWk1rMWWHjfDtFkMq06G7wHrDuOFb/VlH3wez\n",
       "8iiNqywZdgciyar8JE0uzvqEveyVMOzV8Hefw6P9B90jLoy+NLI/6H5N/3cOt49C+bfSxxX/dw7/\n",
       "AwagteUmJWLcAAAAAElFTkSuQmCC\n",
       "\" style=\"display:inline;vertical-align:middle;\" /></a><br>"
      ],
      "text/plain": [
       "disassociation: forall_{l in Naturals, m in Naturals, n in Naturals} [forall_{A_{1} in BOOLEANS, ..A_{_a} in BOOLEANS.., A_{l} in BOOLEANS, B_{1} in BOOLEANS, ..B_{_a} in BOOLEANS.., B_{m} in BOOLEANS, C_{1} in BOOLEANS, ..C_{_a} in BOOLEANS.., C_{n} in BOOLEANS} ((A_{1} or ..A_{_a}.. or A_{l} or (B_{1} or ..B_{_a}.. or B_{m}) or C_{1} or ..C_{_a}.. or C_{n}) =  \\\\ (A_{1} or ..A_{_a}.. or A_{l} or B_{1} or ..B_{_a}.. or B_{m} or C_{1} or ..C_{_a}.. or C_{n}))]"
      ]
     },
     "execution_count": 45,
     "metadata": {},
     "output_type": "execute_result"
    }
   ],
   "source": [
    "disassociation = \\\n",
    "    Forall((l,m,n), \n",
    "           Forall((A_1_to_l,B_1_to_m,C_1_to_n), \n",
    "                  Equals(Or(A_1_to_l, Or(B_1_to_m), C_1_to_n),\n",
    "                         Or(A_1_to_l, B_1_to_m, C_1_to_n)) \\\n",
    "                  .withWrappingAt(2),\n",
    "                  domain=Booleans),\n",
    "           domain=Naturals)"
   ]
  },
  {
   "cell_type": "code",
   "execution_count": 46,
   "metadata": {},
   "outputs": [
    {
     "data": {
      "text/html": [
       "<strong id=\"associate\"><a class=\"ProveItLink\" href=\"_proofs_/associate.ipynb\">associate</a>:</strong> <a class=\"ProveItLink\" href=\"__pv_it/b81f37d78f1778c6ae48c5f17c110d82b38591570/expr.ipynb\"><img src=\"data:image/png;base64,iVBORw0KGgoAAAANSUhEUgAABEoAAAAZBAMAAADUPdaZAAAAMFBMVEX///8QEBCIiIhmZma6urrM\n",
       "zMxUVFQiIiJERETc3Nzu7u6qqqp2dnaYmJgyMjIAAAAcRTyBAAAAAXRSTlMAQObYZgAACf5JREFU\n",
       "aN7tW32MXFUVP/tmZmfex8zuH9IItToUAotRdszCgnSxsyFaY2KYLbFgQJl0rTRE0tGalrTUjkTK\n",
       "FDQ7ajI0VbsPatq1CEzcbKRJCUNbv1bRcVtIjaKj+A/80027/cRS7/fH+5juOI2wm73JvDf3nHN/\n",
       "58w755177r27AO22BzaWYaHN4xbd+Ej7IIWF5zjfW2UhSi5PM+vvH6T9l/F37adR0sC3N9qKkrYh\n",
       "5kEbo7cvtzYq1ghGev3icH8pO3scXb7TVwI8s62//uPZw1k9ww+ZNYlVgd/j72+3FSVtQ8yD9ha9\n",
       "HReEHIkCv6BGT03zcJE8gvRBgMgpPy8USZUHq+EZZiwBGF/S3DBVy9V1sD9Rl1gV2IGTXLGtKGkb\n",
       "Yu63ZIbejrucsgZfpvySGv3v5/nrj92TTHOk2AVUNJ708UKRNHmAg/ow63FkVeRcc8MULWOb0GV5\n",
       "WWJVIIUQnGpbUdI2xNxvcfpMn10ukv0qfNnkl1Tp1jh3XSyPQVyOZCB68oSPF4qkyQM8rQ9LXYVX\n",
       "Kt3NDVO0/BNfBxWsCiQn9+17qr3qtW2Iud/Yz6/3iuIghbwdzfglVXrSmFFnrDsEUgK59OlNPl4o\n",
       "ki4Pqaw2bDl+g2OZSxgmxCPv4OtdChZa45wtlR5pL0rahpj77Rq6s+C+LBYoNnJEImAnSaV/zr7A\n",
       "yePos10gdeUhtsH18UKRdHlwMuow8wzJW+VLGCa0jJJV688UrAqZp7a3GSXtQsz99j1y/Sncn1af\n",
       "yz0hz4vRrWxMzBJx9LYXBdL9D009LqdwwQtF0uUh2VCHOSfChumTJtfyJ60EwlgVnGVQHWutaydK\n",
       "7mBldUisiMiNjgz0B4j4yMeGazcEVIjbBgzxDkT5l6bhub2ZFrV99uShtd73K9iKAFtQ20yuWRjN\n",
       "CI8uBfhK0FBJj4KJKs49ZJ1jpKEzK5B6y2AtEkiCF4rE5EWWKajD4nzxcw80M0xo2aotpzBWBceQ\n",
       "gdLkCkq7eyBrLPLWNesPw9X5UEqBQ6BnNxP4SP8hfuKfAV4JEPCQd6VhrNu/2/QvsL4tI4+7a6bZ\n",
       "ymOmiRZdshscj8pgK4JsQe0D5LEM960rQqyP7jPu5a+Op0n6qr7+syhWiLhVgOclEsburXIkwQtF\n",
       "ovLSP9PqsA6ykLLgrlugmWFCy0fI1OUqWChKnDrKNXAIiR3oq9vFSbhNHfvsodvhRceNuKGUAocA\n",
       "2H0hcI9muZis+wFe9hfrHrKJfJv0Z9hRFGvHfFHCVdbZR+swJutyLUn2oeFBP5E82Oc1krQiAFq3\n",
       "hfsW5beOBnc7RKrB6z5JRyAf5kUELKPbThTpNPZ6miMJXigSk9ejhA+Lk96EyARhhnEtW0kKyelR\n",
       "YjZW0enw2P59YE9FoKa+Y0/udOGldMYJpxQ4BMDk+iDtzl5RUX8D4FMBEjo5jgyI+bcHcH280hcl\n",
       "XOW1yAqR73iHMVmXazGyyskE68TTEGloJGlFALRuC58n0LOPd4soMRvx4DzE6Tb6fB39EhqBu9hR\n",
       "x2a2/QHrsiJKdgUfgwgkLi8m14I6jO6U1ESUhBnGtZDVvKNi4ae1Hc9S5+jqyL73i2kcJUdeW5pZ\n",
       "uoYtjSYmfoAHJW9feY1O4VFCIdBDLQVpX5ngicE6BUbAHq2H3IteeMuXcQz8qu/zRolQifqRssLE\n",
       "Hc6kXakFmfNJAUQ7L+TgRlcjSSv80B5bWM1pVulmKvftY1PB0xWn/4ju1XZR7MSX0gIJb3/Ezkok\n",
       "zgtDYvLYQcZ1OV698mEmrl4dV0RJmGFcyyi+TTJ38+oVxpEtsW5I0UQz+RqOkqNLYJF7HdAjmgnn\n",
       "ufuw/GC9o6xRRJSMk5/TCWjm6/T5Nx8pwFPkhYmemNqGbg96q1dK5u1hevNIxfU5iEWJUOlklZNL\n",
       "1sFMcwvvSuWHldzAOnd+vMdDklb4oeO++fAQ2+lInJO+XUU3MKx30eWFBvsi6SYWGynDEIv3B1yB\n",
       "lEIZafAJicR4AoleBBKXxw560EC/I1LTINHy3MZlBI8SNkwgMcO4OF6ej7vM3QQL//wuFDtGEXbT\n",
       "KHHwPGk+U4AZGAArQ6e0GrZ95/XQ5WoUESVdJAr/Cr0Qe8UbJcmqMQ0JMs05DTAKcN9V3imJkEX7\n",
       "D7l6pbpqQVEiVFpFJT+wDmbCY7wrlY8puYF1/ghwvU6SVvihPbZQB4xdfBvskTMZ4dsUm2g34BjP\n",
       "sy+Cbo2868KLF9dDD4N4UyB1Hj/dt/ZJOXMInkCK51UNXB47KIu9msppw6xbv3oTKFHChkmkDZo4\n",
       "7N42nGXuplg4SpLoeyINd5dKpbSdM+vYtM40yi6bIfZwqfQoiomfkJlsNQx6KDxKMARYb/5hxPVv\n",
       "JT8/8Nvz0EFdWwPzHf/2MCOrBchzPilcJ1h1T5QoKg9byjKMdCizm3elcie7RwlR0vkuSrRVjaRY\n",
       "4YP22CJ36NWqAEw3ZIGk0x9l953hSJx3CSTkoCGIV/EqJnDYCmhu2E4v2iBQLJ5KO76A8jMtbT+N\n",
       "80JHziia0znI08wRJaXaFTAQ0yk8Smjt7MJozh8lt4F5ihwIonxQheg5f5RQ8pGXjtz7K9y9ldZa\n",
       "HqlIEZdUyWVv1JQoUVSORZRlPukQJjmFJF2p3CrerBRFpIPC584yAr/5QI6RFCt80B5bQJz26b6d\n",
       "XbtCP+1tAwk5qAdGY+y0z99WtIo2EOOnfcxRBjjkUDALyZr5BIyibJIs1oC47SjA32CHa07DNycU\n",
       "ijdKPo9g6thlaDySZpcoeucuYOkdyGkufJ8+eckX5F80OqoH8Nh4HX5e9kttAet3YPcwfQldJfLa\n",
       "6yAUkw5lJmuMpyiHV/MCm3bM82B+COwbYbFdY3xpRQC0botn/85uzbfT6dCdwBaRkINWwzEnZJ8G\n",
       "4JetoiF3s78cYG/qYQA8E674N6o2Y4vhM5Aqm19zIYHyV/RbWZRohqrRPHysrlA8UZI4C+bIFuwy\n",
       "NH6oHLsSXxbDSBF2nKmjeXGo6mzt6/8OPZAcqlL+lZLcmdsLN+Gx8OuBj/qlwBk+iHy6hu1HJnSV\n",
       "ZKEEXJp0KDOSZTxFOV7RcAtp5zcn+9YiwTVWgchjkrTCD+2xhdYy4unecjrdijcGPNuq/zsSctBb\n",
       "UJkMPKVB7YdbV7eIht1dBv0vGg1Ul8iVPGs9JT5vVn0UTy5h86qrjuffClUJQJ683NepinOEcSxm\n",
       "N5cqGEe1/RKuUm4WgtaJ2x4ecbu2Dld+ip0h8pYuHgItbCEefR/9ReNfLuMBFcEK/rvXoD+ctMvh\n",
       "5zjq5n3vMnU8/3awLAFWnqwqaOLbHrgWVpfFiGApK2+/6o0SojKsOZ6jGAwb1qy8ke28oQVxZsu8\n",
       "b8FREhTNSZhVlHjG10MAkqG49VlJablkob0nUdJS2/ie/D9OZMF3/68W3bjhv9XNdQDj64hnAAAA\n",
       "AElFTkSuQmCC\n",
       "\" style=\"display:inline;vertical-align:middle;\" /></a><br>"
      ],
      "text/plain": [
       "associate: forall_{l in Naturals, m in Naturals, n in Naturals} [forall_{A_{1}, ..A_{_a}.., A_{l}, B_{1}, ..B_{_a}.., B_{m}, C_{1}, ..C_{_a}.., C_{n} | A_{1} or ..A_{_a}.. or A_{l} or B_{1} or ..B_{_a}.. or B_{m} or C_{1} or ..C_{_a}.. or C_{n}} (A_{1} or ..A_{_a}.. or A_{l} or (B_{1} or ..B_{_a}.. or B_{m}) or C_{1} or ..C_{_a}.. or C_{n})]"
      ]
     },
     "execution_count": 46,
     "metadata": {},
     "output_type": "execute_result"
    }
   ],
   "source": [
    "associate = \\\n",
    "    Forall((l,m,n), \n",
    "           Forall((A_1_to_l,B_1_to_m,C_1_to_n), \n",
    "                  Or(A_1_to_l, Or(B_1_to_m), C_1_to_n),\n",
    "                  conditions=[Or(A_1_to_l, B_1_to_m, C_1_to_n)]),\n",
    "           domain=Naturals)"
   ]
  },
  {
   "cell_type": "code",
   "execution_count": 47,
   "metadata": {},
   "outputs": [
    {
     "data": {
      "text/html": [
       "<strong id=\"disassociate\"><a class=\"ProveItLink\" href=\"_proofs_/disassociate.ipynb\">disassociate</a>:</strong> <a class=\"ProveItLink\" href=\"__pv_it/3bb10ada852704c1184c7cefe474c32ddd4483210/expr.ipynb\"><img src=\"data:image/png;base64,iVBORw0KGgoAAAANSUhEUgAABEcAAAAZBAMAAAAhw10pAAAAMFBMVEX///8QEBCIiIhmZma6urrM\n",
       "zMxUVFQiIiJERETc3Nzu7u6qqqp2dnaYmJgyMjIAAAAcRTyBAAAAAXRSTlMAQObYZgAACjVJREFU\n",
       "aN7tW29sHEcVf7d3e3e7d2v7C6FpFbiGqrj8kY1c3JK45KKKRgIhzkE0QS34FGNaIkoOgpqQEnJF\n",
       "beo2Qj5AaqNA622DEpPS9lTLopES9doGBIaII06rSDStS8uH9kui1HHipml483dnd3YdH4dAOnmk\n",
       "29v5zZv33u37zcybWRug2XLHlgosltYta7bUmldSWnyOrV2s4iJJ/qvl0db6OZkKI8k0qZxsiiRN\n",
       "q2iZYpfplzndWLdv6pCzabbnzvsWruKVS4O9w/kIrzoH77IaWDOe2Nlb/zW7/Q4jyV/I/TtNkaRp\n",
       "FS1T2lh61nZaACa9FjRBP35KwAWvLYZ8W1XQ8SgtVwDEzyptSper65D5TH1+hxRxYxnA+DIGP81I\n",
       "spt8lZsiSdMqWqZMsa/X3hNAkjx8J6cJ+nDnlMvhIXI5Rm8HMKpf6dbxCC3mRYDEu0qb12VsG15W\n",
       "VeZ3yBO3H0Bv4nMMzuYoSdoQylabIknTKlqm/IhN7+NzcqyTpC/l6nOAij8pIgi3kss2etuF2Os5\n",
       "HY/QYqBJ54zS5nV5gwisvoxDnnjblXhJdPCVqoOSxJk8cOCR5hLXplW0zD6AJfGOMSOht/Fzc4io\n",
       "ite78spylWDTx70YoQ+7Oh6hJY3RfHxbYOWjXeIXSPWrl3HIs7CKDHdTGHuL7W7ODw//uMndTbMq\n",
       "WqUY7NF+MXNRQuP4eTBEVMET7vN1sZtABWk2rcwCrNsIOh6hpb0I5t3qBCG7jFLm/vYyDklx6xyd\n",
       "QYSxlxhJhsJ/RSMkaVbF/2icL1zU/M8spGmw7bzpzfspVBaWrin4b2AgpzzM9cyD2ZOd9/ge8vp5\n",
       "tQzcdeyBajAutMvfclGGQ8WzZ3zwa4wkN4M9DfamZkhCVQBEUUWOgcRIX2+IiAafGKxdF7Ir3Nln\n",
       "yNGUEDfzstPXWIuyr3uRyYdbDZaAo6kqc80iGSQLqpGDZNjOVMHzMNotArAc4FsgcozHi5IaEo/S\n",
       "gimMvcTXJrrs4FsZTo0oh4R46qwP/j0jSQoMHABrGLauL28sCQ6rzUfg6mIkUhIq8IHOhD7K16VT\n",
       "fwd4IUQgAD+Wg7EOfSL4J9j3esQTMZyZhyO+xmQl0r7uxefCrQZK0NEY/aG39vSexyTgBpb5leg2\n",
       "Uj+7kLg52LOpLAKwXww3kmMYF4QWD4/SQnzs8k0lostH6SLkmj2leR0S4jG6M7MFPMBIkq2n2Npj\n",
       "H+qpZ8qTsELt++RLN8FzWTfuRiIloQJg78XQ57FKLLnQC/C8nlkHYAtD6+gz4ihG4IRGEmGyzj++\n",
       "Cm9k1dtVQ2Hiqhf7BCqtOvwDXkVzlJEELx8BOexWsmMkrUgc58TYNA0AyTKrfJuIOQYYZ6QWiUdp\n",
       "mSUk8S0sossOOjUWIFGa1yEhnqJnPBMBkljTZPvzM3wWBw9A5lgc1LM5Z9ceFw7nurPRSEmoAJjc\n",
       "HGY+u1/m5T8A+HyIhB9OoQOmvpMnqfFajSTC5DXqOwZR4Y2sOqQaChNXvcBkn6HSqoGxf1hO87Si\n",
       "OUqXmwx+vu+R5LGI9xYSxz6pDhoAMkCmUyCPSZIzUovEI7SQYxLY5FtGRBe6v8ZoCZJEOCTE2QmJ\n",
       "5MAa/qAeJGvRHNsAZW77eo4ITL28vHv5EN8sTUz8glDCuWntx/yIIAlTgQ9sOMz82rQYbfZZMEJO\n",
       "ZgNwFw5nW5tvDDINHgiSRJrEeryiNJKKaGTVkmooRNznBS6fFFWslpVFiFU0R2ni+it+hMrDm/5G\n",
       "LjxR47hVZSe0/Gjlfn5kRo5JBuQq5OERWkgKY56nITKuLfi6jBKJSY8kUQ5xcYskrlmXMsBLXGEc\n",
       "e5sd0MampcmXCUmOL4Ml7rXAXstMZJ8ic7Wzuh6r+BBJknHqQBJwBU1q4S3GS/AIndsTZ47txK+N\n",
       "wZSRwaJsZV8BqZR/AeIkkSazeW+ciwpptLbzKjnD8OyHiPu8yBQZyq0SC0fU16G0slWbM7v5WclI\n",
       "RYbXvIM9kGfwwdkf8BsFJwdM6TkSAHaoxc863kCHrnA9knBcaqEXT0sbdl/9EA3RRqPo60L24+Ou\n",
       "RxLexfOFOyQs4348s4IyYCnW+jhJ2pFZRhn2MpJk6S99ogQzKGB3swWqRlbMPR+HdteHSJK0U3L+\n",
       "A7rAfCFIEqdqnIY0ZXd2GowS3H5l8NlSWJb36TUo1V4LI4k0aZeVcc4rpBHu59VEWbUfIu7zAqUp\n",
       "yqxSC2PK3MMq72sbpBLYIx+48NylzV543+QkJ4/6bnEj8bFL70Bm5Fy3wcdAG1uav0fe11W9+Ujg\n",
       "Ugu7CC3JU7M9d+5iIcrHa74usHfnYB48kgiHpC/cISFu3/jt6xkDyCz6L04SB59AOgfrhoeHc5mC\n",
       "VSfKkjmk9j1gbh0e/ilS4lG6Xm2A1QFEkISoAPvNv464+pHv031/eg9iLLI1sC7o58scVpOPpzQp\n",
       "kgDY9QBJFJNHbGUDRiussYNXE0WffV3c5wV5j0tQbjVF56p9Cq9JhTuqHcvL1ZyWPRFbIz+e5muA\n",
       "FXh8QovlLkQLhqifb8S1LpIkEQ4FxJM5cjRvl5TkLfY1nJxZFvwF4m6sYJSt0wUosnkjQXO3D0Gf\n",
       "6UcESVjK48JoQSfJCrDO0neAOBtUITGnk4TBU4enbvsDqd7IEqeAVJzMBOCsPFlTSKKYHIsrrzZp\n",
       "hTbSF4+kSo4JFPu6uM8LQimCMqvUgl3+rJJGkQpzdOrwqxKeCgnvwgoGILQ0pgVD1Amj4UeBicb+\n",
       "8CdWiNcK4gUfj5MBWfp+MA9OzXoIRpFJTrkGNGrHAV6F3a51Gn44oSBBknwZ1dBBh/1Rml8SOPov\n",
       "EundGDMXfs7C77VL+NnpWPUQ6Zuqw+8qutR2sP8MmU5uL+03iaF8BaRhWmGNTo23kTHh2Q8RV70A\n",
       "0o2i1CqzcLQoPWIV5uiz5ZR+bMiOoRooGIDQ0pgWDNEGOJENbcs0RpJRSH2pIP5UgI/TIwC7CHHf\n",
       "wkTTvApuwU2g9V0X0jh1JX6Sx2mmv4qj61N1BQmQJH0erJHt5Hli//6KuZRcroKRMuw+V8dVrr+a\n",
       "3dHTex972dhfZe1LPThZ2A/Xk77wx75P6FKQHXwRgzPEDw7TfpN05wJCmlZYYzzP21CfYl8X93kB\n",
       "pBvtxaxSC8/gKOK/i1WYo8nCejW7EeWXOzY0EhMSgJDSoBYM0dvw8GQof26YzTWi6hYwjrIja9+f\n",
       "LxqYk3DSeWAnZiByPx9AAjMJzx1ctb+4K1U9BTRI3tFQVb5UGCdimfmlSsZx3zmJMAngW+ZkJZUR\n",
       "1U+CqjlCXHjRFkBd9RTSdySJPT7tnU+02J8vOhWI/BvXg2GzVSX63Y16Yt+1Uu0v7l6seArWvltV\n",
       "tMm7fXANbKjIHuFSdjFzNEgSajKqZK8LHr9RzZGFe3FY/1HRPQ7VoZVLBEnCfrQDCyJJoH89QoET\n",
       "qbe+ICnfTLLAqbiBUNrdsFguQ5KGypb/y//dxBvvcnDhooa7yA25v9pS/DchBG5YgHbJNgAAAABJ\n",
       "RU5ErkJggg==\n",
       "\" style=\"display:inline;vertical-align:middle;\" /></a><br>"
      ],
      "text/plain": [
       "disassociate: forall_{l in Naturals, m in Naturals, n in Naturals} [forall_{A_{1}, ..A_{_a}.., A_{l}, B_{1}, ..B_{_a}.., B_{m}, C_{1}, ..C_{_a}.., C_{n} | A_{1} or ..A_{_a}.. or A_{l} or (B_{1} or ..B_{_a}.. or B_{m}) or C_{1} or ..C_{_a}.. or C_{n}} (A_{1} or ..A_{_a}.. or A_{l} or B_{1} or ..B_{_a}.. or B_{m} or C_{1} or ..C_{_a}.. or C_{n})]"
      ]
     },
     "execution_count": 47,
     "metadata": {},
     "output_type": "execute_result"
    }
   ],
   "source": [
    "disassociate = \\\n",
    "    Forall((l,m,n), \n",
    "           Forall((A_1_to_l,B_1_to_m,C_1_to_n), \n",
    "                  Or(A_1_to_l, B_1_to_m, C_1_to_n),\n",
    "                  conditions=[Or(A_1_to_l, Or(B_1_to_m), C_1_to_n)]),\n",
    "           domain=Naturals)"
   ]
  },
  {
   "cell_type": "code",
   "execution_count": 48,
   "metadata": {},
   "outputs": [
    {
     "name": "stdout",
     "output_type": "stream",
     "text": [
      "Theorems may be imported from autogenerated _theorems_.py\n"
     ]
    }
   ],
   "source": [
    "%end theorems"
   ]
  },
  {
   "cell_type": "code",
   "execution_count": null,
   "metadata": {},
   "outputs": [],
   "source": []
  }
 ],
 "metadata": {
  "kernelspec": {
   "display_name": "Python 3",
   "language": "python",
   "name": "python3"
  }
 },
 "nbformat": 4,
 "nbformat_minor": 0
}
