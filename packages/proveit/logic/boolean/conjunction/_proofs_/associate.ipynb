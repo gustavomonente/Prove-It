{
 "cells": [
  {
   "cell_type": "markdown",
   "metadata": {},
   "source": [
    "Proof of <a class=\"ProveItLink\" href=\"../../../../_context_.ipynb\">proveit</a>.<a class=\"ProveItLink\" href=\"../../../_context_.ipynb\">logic</a>.<a class=\"ProveItLink\" href=\"../../_context_.ipynb\">boolean</a>.<a class=\"ProveItLink\" href=\"../_context_.ipynb\">conjunction</a>.<a class=\"ProveItLink\" href=\"../_theorems_.ipynb#associate\">associate</a> theorem\n",
    "========"
   ]
  },
  {
   "cell_type": "code",
   "execution_count": 1,
   "metadata": {},
   "outputs": [],
   "source": [
    "import proveit\n",
    "context = proveit.Context('..') # the theorem's context is in the parent directory"
   ]
  },
  {
   "cell_type": "code",
   "execution_count": 2,
   "metadata": {},
   "outputs": [
    {
     "name": "stdout",
     "output_type": "stream",
     "text": [
      "Beginning proof of associate\n",
      "Recorded 'presuming' information\n"
     ]
    },
    {
     "name": "stdout",
     "output_type": "stream",
     "text": [
      "Presuming previous theorems (applied transitively).\n"
     ]
    },
    {
     "data": {
      "text/html": [
       "<strong id=\"associate\">associate:</strong> <a class=\"ProveItLink\" href=\"../__pv_it/13861c1293c04c5ea243396e3f52787d5eaa05b80/expr.ipynb\"><img src=\"data:image/png;base64,iVBORw0KGgoAAAANSUhEUgAABBgAAAAZBAMAAABp3IDsAAAAMFBMVEX///8QEBCIiIhmZma6urrM\n",
       "zMxUVFQiIiJERETc3Nzu7u6qqqp2dnaYmJgyMjIAAAAcRTyBAAAAAXRSTlMAQObYZgAACWJJREFU\n",
       "aN7tW22MXFUZfvfO3J25X7v7AxqhVodiYDHqrlmyEBjsVKI1JobZEkoNRCa7VBsi6WhNS1pqx0bb\n",
       "ATQ7arI0oOyFGroU0YmTRppAGFr8WvwY22JqFB3FP/Cnm363WOr5uOece849d2fX20QWe5Lee/e5\n",
       "73nec+/7nHPec+4UIGn50sYaXCoLv6Q3PpicpHzpPb5HysQlMcyrWK13D9O+i/hc+6gY2vj0eiIx\n",
       "JKZYOGWKnr4wv1pmW8/0pwtjw9XC3Hlk++7I9PzU9uHWD+ZOZ/eP3W81BdcEvIqv30okhsQUC6e8\n",
       "SU9Hw108ruuLy54ZcV0LM70PIHUyei+WSbK320o1YwlAY0nHhnEvV7XA+XhLcE3ATlytkkgMiSkW\n",
       "TPEG6emoH4r0oN42hP/tnIDfCDGZ51HedjxyL5ZJsd8vV7N3oFalznZsGPMytQkdltUE1wT0IAa3\n",
       "nkgMiSkWTMnQV/fsslAfXr1JbytwuyEiZO7wBZOBcO9Y5F4sk2L/pFyt50q8Jujr1DDu5R/4vDzE\n",
       "NQHe9J49jyZLIBNTLJgSPGVrIDTR37tUbytwzzjB0e5P5gRTFkXuyU2Re7FMin1PQaq2DPdHc7BT\n",
       "w5h56m18vD3EhVYTZ6rVB5OJITHFgilX0xW5/5JYCtjtjD47E/hnnfMc/kmw+iJMvSUwN/iRe7FM\n",
       "ir07GK5mnSbGtU4NY14myemZEBcSwxqAhxKKISnFginfIccfwT2iC7t1/QwpcLtgiqH9VZpuU6Z7\n",
       "7j+4I1SZ3YtlUuy9driaeyyumlyYlz9IwxDmQmK4FaeS9rokYriVZbZ6SWSZWtPj+WGNSQQ+Mta8\n",
       "TpO9bc8bXPdpdhGjQg5/5viBtbXOLiXyWHQzORZgEvUjk6bMGbDa2vSC42mwUNL39Ezwtp4QTAM1\n",
       "sBdxJn4vlimwZ8Uph6tl2DJjNczaMOZlazGMYq4JXMlAg94Kit2ZLxiL1Ixj/StwVSkWKTMK9O5O\n",
       "aAPzdz7D/hHgZY2BAj+Rg6m+6ALrn2B/QwiMhUvvUsBeH7h9HV3K5LHoZeTpx4bWVcAcoqE4SAbG\n",
       "aBH4qqHhM0gSxNzLQXeRM2HugTpj4vdimai9CMNMuFoXWbLYcPsNMFvDuJcPkvnGD3EhMbgtPLcc\n",
       "QDwvDLWcyjTcFK777IFb4HnXT/mxSJlRAOw6r53zlvEZdhjgJU3GLMMWCqQXXalOIkkdiYhB7zIE\n",
       "p0rgnOvkUiGPRS8LBqWuNosuoHxula4FAkckH2ATfMYHs8SZTuHg5hgTvxfLFNjLYmDVMuSvvbxf\n",
       "xzSMe9lKBoSiLAarvYrOYUf27QHnYAqaYR098pgPL+YG3XikzCgAptdr57zdPMP9KsAnNBYynEEN\n",
       "MKN5NU5RV0bEoHcZgjM5SLU7uVTIY1EyuKOumeljYnDQs/VoNosE7qB/X0ENJj2iwbabNgfbBrCu\n",
       "wMTQEJtaeiZmz+e6crga3WFoMjHENYx7IctjN8yFv008dC86nIU0Dplz1+dzWAyHXls6uHQNzgaw\n",
       "2vZ+D1fybll5tYwwMVAKFMGqLjArs6yb2yfB0OxUKvAA6rF2ZPwwcPfeo4ohxmUI/mkRPuZ3cqmQ\n",
       "x6I47bPqdEuRhgK/b0ezuyPwx+mOZW+N7Ts2GBPeNjD5DCLuxTEF9jgOxjVFlkCyahZOIF2fiSGu\n",
       "YdzLJO5v00FUWQIJDdQWsw966LAx/RoWw+ElsMi/Buhnh73uc3dj++WtrpqEcDE0yON0A5quuiNv\n",
       "vpQqw6OkX6SPHdyOTvep2RyFWXmAnhSrjDxxBGKIcYlhawu5vO2j/aWoieIyIFesMpG56kCwQ5A9\n",
       "y0K4OhiRwX4HK68dXAjcwmbjNRghIq3QgZoy9aDxZfnDjInf40z0wJmYPY7DfQZ6qFRTokTrXQdP\n",
       "8StAagBnIrzCHK93G34QVcKFxdCLJGJUYBcVg4snN+upMpyAPNiDdB5q4rY/di30+hLCxdBLRvW/\n",
       "wACYL6uR8erGDGTJ3OS2wSjD3Veq8wiBefk3OapWvU2dGPQuCQzfIpe/B7g2aqK4pOSqleKSvuep\n",
       "C2+BM356MAghGRLJ7s4G/JZLwQXH7fF3fHj+wnroJ2rDY7yRo0zdR08NrX2ED/fiHmciB+6B2eM4\n",
       "FHDweopSNfvGL14PXAy8mmDaIJnDru1jhSCqlAuLwUPX2RzcWa1Wc07RauGmdefQWLEZzAeq1W0o\n",
       "9D8kCeIoLFcQJgZMAfYbvx33qeqkTY78r89BF41gE6y3A5mHA0vh8Ez9XMQKZxJ2SxFDjEsK0zXE\n",
       "t9GAWI+YKC4DcsVKcSm2o0MzNpnBzehoHMG3iQVxUcsk7nVgQnEYgQyarHbrq62AWRoWNR8lW9K7\n",
       "QfyeoesONLTS7PJTWDZdRaNizRShRMeBNEmjLoe8KSNMDDRv92GyGI3MTWCdJN+yUFerQ/psVAwU\n",
       "PvTiobt+gf+8keZBilWqgtMd7+bXmyExxLgkcPDpDIX8tlrERHFJyVUrxSXwD1WhEM65XC6HOQET\n",
       "ikM/TJriQ1V0+JofW95kH6qCl2OAi1vrFcBrWg/DJBobvEoTyKs6DPBX2OlbM/C1vSFEFcPnEA3p\n",
       "Xag+sg4OadS1zmPrnShCPnyXhlnc5/DP2l31F3DdTAt+XItabQH7N+D0B/6yskvZlMBeE5NZ58B6\n",
       "P8itUlxy8oiV7FLZ4nLmF8KZXMyu2LyZUBxG4YgrPmEr5efzZUNRDT5hB53gFQA8fa34F0r4zMXw\n",
       "aZSNWl/2IYtGo/TXC2jYGKmnS/CRVghRxJA9A9b4FrKOXQwjNfMKfFgM4xXYebqFJrORurt1aPib\n",
       "NK0ZqdP7Vwi4u7gbrsd14Zf5D0etwB3bj4K+Jtiuy8ouJVMKpwqY7FfHh9YWQG6V4lKQK1aKS1ym\n",
       "xEu84VRuPi89X5D//u+ZUBzehIlpsbErl+9vHZ0nG45qDeSfvRkoZwikKsD+6rbgqh5BlJGBb2qE\n",
       "6rOrcl0QkAlA7KPV+a5rA5s5s1uVjcPSPgNzGTXNOKGGyK1SXIq/tVbMJQncu+hnb3++iB9dCJf+\n",
       "N5C6X9c5tfhvE+EV/sDN4frsan9NEKw8Xg+x8aun4UMwWuM19FZ2yfmdKgbiMmrqXifcy61SXbK/\n",
       "9Vbc5Xu+6MWgE60HcxKDUr8VQ+DF8rbmZCWNDPGmLS2zN9ujtTo+8P+ZGOZVNv5P/t9ECi6Vi1vS\n",
       "Gzf8BweLTtERUa/YAAAAAElFTkSuQmCC\n",
       "\" style=\"display:inline;vertical-align:middle;\" /></a><br>(see <a class=\"ProveItLink\" href=\"../__pv_it/13861c1293c04c5ea243396e3f52787d5eaa05b80/dependencies.ipynb\">dependencies</a>)<br>"
      ],
      "text/plain": [
       "associate: forall_{l in Naturals, m in Naturals, n in Naturals} [forall_{A_{1}, ..A_{_a}.., A_{l}, B_{1}, ..B_{_a}.., B_{m}, C_{1}, ..C_{_a}.., C_{n} | A_{1}, ..A_{_a}.., A_{l}, B_{1}, ..B_{_a}.., B_{m}, C_{1}, ..C_{_a}.., C_{n}} (A_{1} and ..A_{_a}.. and A_{l} and (B_{1} and ..B_{_a}.. and B_{m}) and C_{1} and ..C_{_a}.. and C_{n})]"
      ]
     },
     "execution_count": 2,
     "metadata": {},
     "output_type": "execute_result"
    }
   ],
   "source": [
    "%proving associate presuming []"
   ]
  },
  {
   "cell_type": "code",
   "execution_count": null,
   "metadata": {},
   "outputs": [],
   "source": []
  }
 ],
 "metadata": {
  "kernelspec": {
   "display_name": "Python 3",
   "language": "python",
   "name": "python3"
  }
 },
 "nbformat": 4,
 "nbformat_minor": 0
}
