{
 "cells": [
  {
   "cell_type": "markdown",
   "metadata": {},
   "source": [
    "Proof of <a class=\"ProveItLink\" href=\"../../../../_context_.ipynb\">proveit</a>.<a class=\"ProveItLink\" href=\"../../../_context_.ipynb\">logic</a>.<a class=\"ProveItLink\" href=\"../../_context_.ipynb\">boolean</a>.<a class=\"ProveItLink\" href=\"../_context_.ipynb\">conjunction</a>.<a class=\"ProveItLink\" href=\"../_theorems_.ipynb#falseEval\">falseEval</a> theorem\n",
    "========"
   ]
  },
  {
   "cell_type": "code",
   "execution_count": 1,
   "metadata": {},
   "outputs": [],
   "source": [
    "import proveit\n",
    "context = proveit.Context('..') # the theorem's context is in the parent directory"
   ]
  },
  {
   "cell_type": "code",
   "execution_count": 2,
   "metadata": {},
   "outputs": [
    {
     "name": "stdout",
     "output_type": "stream",
     "text": [
      "Beginning proof of falseEval\n",
      "Recorded 'presuming' information\n"
     ]
    },
    {
     "name": "stdout",
     "output_type": "stream",
     "text": [
      "Presuming previous theorems (applied transitively).\n"
     ]
    },
    {
     "data": {
      "text/html": [
       "<strong id=\"falseEval\">falseEval:</strong> <a class=\"ProveItLink\" href=\"../__pv_it/2850a99575b581d5b72b853640dadd3eeb79ad2f0/expr.ipynb\"><img src=\"data:image/png;base64,iVBORw0KGgoAAAANSUhEUgAAAuIAAAAWBAMAAAB3UeQqAAAAMFBMVEX///8QEBCIiIhmZma6urrM\n",
       "zMxUVFQiIiJERETc3Nzu7u6qqqp2dnaYmJgyMjIAAAAcRTyBAAAAAXRSTlMAQObYZgAABltJREFU\n",
       "WMPlWV9sFEUY/7r3r3u719YHNUgwFzSiJsAZCMVa01OjJPpyYAI1NdJANZEXj0g4JCbekz30oZeY\n",
       "YOOf9kQjWBUv1xgkgXhRNKYVs6ESUbFcIjxAojQgKSX8ceab2d3ZvZ1jNzycxElmOv2+3/e7m9/O\n",
       "fDOzBxCwLDkFzS3v8/qfLftlDq0IML0FarT/h3++Q220TRjNGk88zyopkVqw0Oeknr56067XVxjv\n",
       "+ecW4NFivTtSpu2LVD+YpN0zARTXaXBbqVmKtxVZpd0Zwa5K8MLwz0pdlToWZQHA+ALf7CI87jER\n",
       "tCRt96Liw5QvH0BxBA83bc1O8UrK9CXxSaS88X9avcTZksxVcbPEBwk2NOeX3Qn/Rqa4nqSK09mK\n",
       "09av4rggJpum+Cu8kmGOzwn23u2e8MigJfOnPUWZq+JmabuDNOEOv+xO+AcyxeMdVL/ExNjY2xBE\n",
       "8eNjY59kmyW4mmWVzlnlH8ExsNATH300aXaNpWmZq+Jm6aFzMJLyy+6Et6UlisNJqh9cLBReDaR4\n",
       "e6EwWG2W4kqKVVKe1K4IG2ot5onfC+bkCJe+NiQuS3GTRZ3F/4o+2V1wPSVT/FtU/HmAHYEUj2ag\n",
       "tdgsxVsNVskA05Fztl0ve6fGSSsBfgTrkxKXpbjJop9zslyH3QVP0K1T/xtLyqH4NCr+mOfm2kDx\n",
       "cAo3Xbi+7lLAsY3V+xpGSgGxMqtkzoJ6nmZYbgfVcxRZGOG9NIymJC5LcZMldsHM377YLTiXNyub\n",
       "4/tQ8RgorsP1uu60cpvMcoh+zmLsnhDy1fSSzofqPueEM6FZmJEk7OloFOoEiIiWNKsAa5etuAjw\n",
       "dCezH8HFWlcSSbokcZPbuOylvLfLVtxkacFTUNwvuwk399MZmeLrUT/dEHNU/MAyQ8tPQJfMQiIO\n",
       "s+wV7zFshKKrv2fcl5Uew8FiYlSy4yXyDUIFgBthK06aO8mfVcxOzhJrvZZECSL9LI2TuJq3y1bc\n",
       "ZImhZl/6Zbfg/hRXayLZsf1joB0JQVVmIREj7Jvqu1M2QlFgwn0PtQAuTIxQRZINQgWAG2FlFY3U\n",
       "zZbiWsq6FznKOKmnsUfjOrxdluIWCztaV/2yW3C+R2ftPN7vUHwV6gc7BsiMenjNXco9GZqjibvv\n",
       "mSQNnzq6MOW0MMVbd+IkW9PKpiEiFCV83P2dTIAbs5QcYuOlBqE2oA5h7Zzv8kvkKusmqnncUk5z\n",
       "XUAt4x3VHKfoshW3WFS6Feolv+wmHAXjO6fnHGc7J4yTR5J4xGjZpPQDvjTRMhNHqb4/L4B5TgtT\n",
       "XGPZrT9EAjcBQyihB+pecSGAj0XEbGM2eeg24SrpQtCTF614Jh8qmpr08rUPX5DRxq/yDkTybO0D\n",
       "0CtH65w1TtFlK26xADlIal0gZ8fGpuBwFIxM+apM8W6meDv5751F0J4myA+ZvjoOalcWLjksXHHA\n",
       "w1CirMzAs+SyhQiy8B905XEE8OLAXEZTg9DLdteNoCuW1PjQ1RJ8de1lU5MB2tBbSoyqudXsROli\n",
       "VMj49lw7A9rQbMocp+CCzlzullxuq8gC8ZUvLAeQs2NjUzA4E4zMEpcQoVxu8+25HIk9xfRL0Ke0\n",
       "AVbT/LiuUCgktYxq0CkUTZKLq8PCFf8NT//dP1zCJ48IIko16boeIIAfdkQMvXB93iiUA+oCnbd8\n",
       "AFsTTHORuqkVxlYUgI/Ty+XFEowdBQPYLX3vmWX6YbkV7oXRCETZjIbH6QBbMqFqxmEBIaIL1Aso\n",
       "W5RPw6or0yFg6uBU33cuzEq2zchDGWDq4HEPhPAmS9DEd+Hj9FuCsaNgnm+yeEpM2vqpM+TpH9NB\n",
       "p08skYZEVX0DRiH2VMa2OBUPk+3rCsqGCEWHH2nMcMlsGKBSaykfcGFiBnxWbBTKAJV8TEQItyrx\n",
       "ZrUv2GsZPk6/JRg7CtbgQrlX1K+fbLw7JwDepA/2JNn1IvPhCVAOCxan4kN5GJ41cD+hiF9+WvkX\n",
       "kJjVxcg82szngGhmNyx3YeD77vv5VuQdygDRTK+IqP9Fgpa3XtsQRBNrnP5KQHYmmPwqvkPMEdab\n",
       "IpI2+fZaZ8GyyHmu2O4ZY/di5PiULXtirh+6OF338TfBr26/yhwJ8iiWbJEH7vfDvuZ82TvG7H0M\n",
       "d8OGohfGR+gBA/5PxbihGCMor3FDH3wTlX8BZbFh5AhHDXMAAAAASUVORK5CYII=\n",
       "\" style=\"display:inline;vertical-align:middle;\" /></a><br>(see <a class=\"ProveItLink\" href=\"../__pv_it/2850a99575b581d5b72b853640dadd3eeb79ad2f0/dependencies.ipynb\">dependencies</a>)<br>"
      ],
      "text/plain": [
       "falseEval: forall_{m in Naturals, n in Naturals} [forall_{A_{1} in BOOLEANS, ..A_{_a} in BOOLEANS.., A_{m} in BOOLEANS, C_{1} in BOOLEANS, ..C_{_a} in BOOLEANS.., C_{n} in BOOLEANS} ((A_{1} and ..A_{_a}.. and A_{m} and FALSE and C_{1} and ..C_{_a}.. and C_{n}) = FALSE)]"
      ]
     },
     "execution_count": 2,
     "metadata": {},
     "output_type": "execute_result"
    }
   ],
   "source": [
    "%proving falseEval presuming []"
   ]
  },
  {
   "cell_type": "code",
   "execution_count": null,
   "metadata": {},
   "outputs": [],
   "source": []
  }
 ],
 "metadata": {
  "kernelspec": {
   "display_name": "Python 3",
   "language": "python",
   "name": "python3"
  }
 },
 "nbformat": 4,
 "nbformat_minor": 0
}
