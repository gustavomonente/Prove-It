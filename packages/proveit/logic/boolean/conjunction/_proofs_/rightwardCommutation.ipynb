{
 "cells": [
  {
   "cell_type": "markdown",
   "metadata": {},
   "source": [
    "Proof of <a class=\"ProveItLink\" href=\"../../../../_context_.ipynb\">proveit</a>.<a class=\"ProveItLink\" href=\"../../../_context_.ipynb\">logic</a>.<a class=\"ProveItLink\" href=\"../../_context_.ipynb\">boolean</a>.<a class=\"ProveItLink\" href=\"../_context_.ipynb\">conjunction</a>.<a class=\"ProveItLink\" href=\"../_theorems_.ipynb#rightwardCommutation\">rightwardCommutation</a> theorem\n",
    "========"
   ]
  },
  {
   "cell_type": "code",
   "execution_count": 1,
   "metadata": {},
   "outputs": [],
   "source": [
    "import proveit\n",
    "context = proveit.Context('..') # the theorem's context is in the parent directory"
   ]
  },
  {
   "cell_type": "code",
   "execution_count": 2,
   "metadata": {},
   "outputs": [
    {
     "name": "stdout",
     "output_type": "stream",
     "text": [
      "Beginning proof of rightwardCommutation\n",
      "Recorded 'presuming' information\n"
     ]
    },
    {
     "name": "stdout",
     "output_type": "stream",
     "text": [
      "Presuming previous theorems (applied transitively).\n"
     ]
    },
    {
     "data": {
      "text/html": [
       "<strong id=\"rightwardCommutation\">rightwardCommutation:</strong> <a class=\"ProveItLink\" href=\"../__pv_it/6e5f5630f3f6113bd0f14130f49808cdca18aa640/expr.ipynb\"><img src=\"data:image/png;base64,iVBORw0KGgoAAAANSUhEUgAABD8AAAAyBAMAAACpNm2wAAAAMFBMVEX///8QEBCIiIhmZma6urrM\n",
       "zMxUVFQiIiJERETc3Nzu7u6qqqp2dnaYmJgyMjIAAAAcRTyBAAAAAXRSTlMAQObYZgAADhVJREFU\n",
       "eNrtXXtsHMUZ/7x35/Pe3dr+owmPAl2gAlO12MjI4WGUS1EJakVzCeJRgZpTTKIUATFNRSFAc9A2\n",
       "Ma/61Kotj4I3UEEaSrjWikokUA4CrXADXAlQKh4xhFYCqcR1EpMn7rx2dmZ2xt7T8UcU70RZ7337\n",
       "29+OZ347883jOwM0mpomJ6twVKVcHmZ2yhRZQUxOtjfO1rT5Ae/oKp9tMNPTd5lQHnjoixBI4Sgr\n",
       "Has44wXijLKTVCyQcPoTP3t4Johhs854bywQcwf8JX5WooU0Wh+BDv/WZF/PgOLaZDr6rrfrcN8e\n",
       "XdNT+532yluTa5avKUdnkvDNuhvX5WOBmFJLl3/WSouudUy4ahvuEkpZwAfoYwESe2XbyTXInlXT\n",
       "MWiZrRMBhk8EbV4+R73CwToyKeIzOv1n22OBmNIW7nJvpz/ePyBcbe3S37UzOBXwHJ06DJDcLdnW\n",
       "r0KHuWUdg445sxblK7EfdHlJjaPDWdEzKeNf0EFviwViSiv52S20ZobFWrlylb5bWctlJeI52kI2\n",
       "Z1yyfYDvmKdj0DK3Ho8OSam+AnbcNi2oRc6kjF+nfU3KsUAMDjyvXrufGqw9wuVrTtHe1fxNlxMI\n",
       "eI5uQQW9bpVoS5Am/lIdg5Z5bgXXl9Q0BOy4UxuqRs6kjG/VTfuku2KB6FO6xIe7tIy+nT0sOJaj\n",
       "ae1dG6HfPxXwAbqtCKmbPNE2RG74g45Bx2x/Rm4WHRWBHed5QTFyJmV8TtchOQdigejTYv4+tZA2\n",
       "OJMnPfaVrDAruYrurr+jf6x2CP7xMRm9+PrX11YkhtfY25wqqQxa5tx46IrAjrk6q5Ez6ePFSY9X\n",
       "P8WJO0KZ8Vgg+hT4emlSykmwkXN56RxmA1s76O2HR9gZxSf7ZXRnGTKzJYbVtNhS3f0qg5Y5vTfc\n",
       "1gXsmGtFPnImGd4fsWibrk9jgejT7OAXIyV4eXfPPvRjPrW9DrBU1yC70MyKgeJpsx2g78DVUhFt\n",
       "XyEdjsekJDJomZtIk58RLwXsg/jwv+iZ9PGsDRvTlUNnORaI1tM/rAgEHU4KBIL8zMt1josHKdal\n",
       "UzztngL0BC5yV7StJi9vwReIwKBlTpNa3CReCtixgp3D0TPp46cSyFAtFoguWfvlLiaL/t/IBZLt\n",
       "4tNnUhpG/z+mCIpvK0toIjvSpnMbmQHJ+Z2RwKBnpjMgVdj+5ildpyyV80KcpHWlyJn08ZgL/BxQ\n",
       "H+Q/QbUWY4HoUktQIqQVeAj938UFgss9q3H6P2blz/ELZTSWXWqfZBvC7ckIF0jAoGe2caXmPHjj\n",
       "RJjtnaawI/8k82n0TPp4xHUcCCtzckH0xwLR/jalYJTQxeZCBst+2V/JWnB4epQdMp/7I5G0BwG+\n",
       "Q0JDKyrneXdLNjwYHvZ8gQQMnJQ8IrBvqUH2PLAf7Yc90Kuwoz5ifhdoM0molEwyPObCnk2iqiuI\n",
       "3BgTCJHPe40JpGGOIyc9Hbx6qOoyg5978MzkSr/sr8EHPAuVLvqHm/AMFO48LNQkcPydErp510T3\n",
       "8ntkBnhsTV+eN/CcISAlJ4E9c86ys7HBRXV2q8res/xcAH0mMZWcSY5vdsnMbKv2DXf2MoGQofEn\n",
       "jQmkYY4jaBpEmM+8RbDP9z1QVGihm5LkKJbzrIIBHbJRgYQZDMxNBatkjxnY68xkUyFRRZ+f0Hvr\n",
       "40wg9+OGsdSYQBrmOHLSFmGKabtg/0t9NGNuVKR+FsKYhtB775Sq+ot1ZnII0t8pGBbrILObCaTV\n",
       "w1NvjQmkYY4jJ+0QXrGWYCjwq9VL6qLpzUcE2nMm3HqIL0I+qH2dp71WbyYvAusVw3I/G5ljgTgj\n",
       "Gzb8tkEntWGOIyd1CuPDzNHRKE43bjNsRNnnj2L2DQzc1ugoplGOIye9Jr6cM2LL4b8M9pN8gSwF\n",
       "uAsyKxoSCOHA6a7p0DrAxbu3Lldl7KzptabcRPd2X/UM7YWLJ8Jssrc2eF2PMZ9zPYgTScf4ArmQ\n",
       "9EJslvaK3rw1W/VnV74IJxeNFiyQC1lP5ohbJ94/c875ocHTHs11px1ydELG+XDnSuLL2B9C5o6p\n",
       "mB5xYb00iSOypY4LHugzCukfAAvLhnyuiJXB0o2+QNJg1QC2oi732e5atjQC54mwJ7deAM/kvIRn\n",
       "tGCBUA40tvcn+DGXlbPfUQduPkC6nihC9gAldqsPk/WGIeTkvT0Fk42E5nAXQWWDZUFWfUYh9QA0\n",
       "Fw35jAUSEkiuhreX3IcqZPMGyL6eAHEM5dzzoAfPuV05swULhHIAjPj79TCXZcFITXmqD5Cup11I\n",
       "jFJi1809hU3Yo1k0BVMaZTLF3X+VDU4PsuozCumHAFa/IZ9xF+OnH/sCsUfx0t9+SOI5xOxV33Ox\n",
       "QPw1oQsxatOmX2I5OBcsOlW2cIFQDlRlA6ybx1yWlXxXcQZ8gHz96QKc6VFi173kZXwJTwFvmIKp\n",
       "E9Vjxq/LEBs8T+wiozjC3wt+lxZmf60cS0NxUuGua+iECJm2KYy8iQXirwkRz2JT7qmrsUDm1ZrK\n",
       "koULhHCghhvmoAOqN8JlJc76t/JQDLBvV68v+EZHkT3K7T4J07F9f4jKwHSz+EFhQ/9vALhWZhSd\n",
       "1DHEPKq5kygvNJtp12aAGrLh92I2F8gwam6tEjxGBZIja1RsTShDViY2QRW5KPDg6dDmSZZAIMOk\n",
       "yX4HOiH1PBII4UJN97lKcWMA/Fy9/iruEyix6yZ+jX60kW4OUxmYDkmOjcoGJ8DVx8uMQsohcTRV\n",
       "NXeSibLQDNd6+uP7dRa5Dl9nqJQZ7qyY6F7+M9W2b9nAD6JnUMaHb9zNBdKGOu0WF64YGBhwswW7\n",
       "huuarQmlbh4YuBPJ4WHiYiyBeYqFCwRzQGbntkGPLBgSLlTwVXmWkALa1ev3Iqe0QomRx2AxFyNT\n",
       "w1QGJuyjcNcixIbDflaBxCjODFV5eGWYfUtIIGyXxi7RZuiHxIClXRq0HCplCm8yRVaJTHjReW5B\n",
       "trUh4e+oRM+khN8YUuchLhAH1WjTZaj5Jy0IfMuFYE2oSNuLJHEYZ0FvSrZwgWAOQAOboQIRSDN7\n",
       "M6vytgQCwIs28vWDqF8oU2JUnQkMLJHNNIjKwHQOkN0zz22/6iUNGw4cXAUSo5DaKji80jn/vaqG\n",
       "fbHaoTj0krNL9F4NQU5CwJKI99FKqJQpvMkUWSU+F2dzQZdiQxWXaI+eSQmfc9XJjXEuEFJoFuRI\n",
       "RefBqdp38zWhl/DFNwDehfs9ewx+tEmwiAIh6RLEQ157ymXlYBvmQnfiw/0eBThV5bp9AOwTgBK7\n",
       "1dw2hIXbIfMyEYiOCR3SNfhjGf482lR5VmFLIbaPgAhEZAzuhsUePJKHbAf0C3dy9ai1lqY19KRY\n",
       "U6YgJyFgScBztBIqZQhvMkVWSc/FKwI7XMWGfpnk4eiZlPAZdWdQ9qAkkMSLAHjDwnxUtsXUl/ma\n",
       "UAtqgpI/yaNXbWElWYSv1wSLKpCWfWAP3k73pGCuf756zn8BcS0sp45Dh4UVCkjklet/2929HNkw\n",
       "sXPbzl/U0KMg1/eCR7e3aJjQGfy192uo6Sg8AWeH2fo8KhCRkd6IDpXc6u4ePNWzFO+g4XdyPYwq\n",
       "BcXWmGqdQt9jCnISApYEvI9WQ6UM4U2myCrpuXegKj3Gk214K7J9KHomZfxHCiy3XxIIaWpRf8zU\n",
       "Exg7Bu5kZ5WQRW1BWBF7Bi5GkM4arocfhal0SP8sDcPQX9FjVmkZhbN+6w3xTv9NUXfwnkpHPt4W\n",
       "oe8xBDkJAUsi3kcroVKm8CZTZJX03AnkP12r2PDqWnIieiZl/FZ1wDkWEkiQNkcbCGkFkuo8X8/l\n",
       "E+TOmO5ZPlKh2hw6exy+CkvKWsyi3RVt5vlZpph9RefbH1AM95Hj70mPPU2QkxCwRPBsgctHK6FS\n",
       "pvAmNbJKSPy5qYn3Om5VbdhpsA5FzqSP9xcc1GotTSEQ3cjfgWgCMXI5EPVZ0yJr0z/NxOhMM/hL\n",
       "HVQMtB7yMNQ1bZCTELBE8GyBy0croVKm8CYlskpM/Ll4E/S6omLDewSb90TOJMP7dnWz0ZA7hUDq\n",
       "Skdt4BRN5OtkUn3dK0owXZBTELDE8FsltBIqZQhvCkVWCTLnz8V7762Dig33CW3tkTPp4/0xjYKL\n",
       "A6cMaa5OIEn0a47CdEFOQcASw98noZVQKUN4UyiySvLu2HPb0A9rXLHhPmFHLXImfbxBIGshFog2\n",
       "LchruhjUa6fbpwtyEgKWGH6/hJZDpUzhTWpkFV4Bs04ryM/F0yC0dxBsqE/IHBs9kwxPV9j4fg+e\n",
       "4uBtQ0p3hZ1Uu0KDSaYOcgoClhieli5Hy6FSpvAmNbIKr4BdS794MXgubv8XlxQbqoeNo9EzyfB0\n",
       "hS3kpFrx1z+YliiUYcxWNhfSsj8U5BQEJZEgpyCSieGtkohWQqU4mhOQk1BkFV4By5PYpoAJPkAs\n",
       "x3qybRey4c0UukzyOC8hkwxPVtjQx16lVouxQAzpBPkjanrXT34C2cHPukJBTjwoiYQo8YAlH9/i\n",
       "Smg5VCqIoOIEN8l2Bl8CC2mYcMB0A/7OxAqotmU/LQNoMxnEeXF6jl9CZ2uV5fL4K6iMaYunm2qn\n",
       "vueUQU7EeREDlpou06IpSwhtYpkFHTCUMjxXY6szk3SFDTLKrBpbyIkFoumlZcfAET7WGeTUZmnN\n",
       "9bHYY+gdfzsX/YY6M0lX2NTFuuzxsUCMJTZL/hxsgK83yAkvcGn462NJFpG/+ZuR6NmvM5N0hU1d\n",
       "7o+/SHeKpMwproeZkJQ4kD6IBWJ+8eX5pRmx5dCRZ2R4wEAq/nMgmrQEZnr6Yv8cyFH3B4US+Rmu\n",
       "jwzdSUD+oND/AcqYFlhFSkqSAAAAAElFTkSuQmCC\n",
       "\" style=\"display:inline;vertical-align:middle;\" /></a><br>(see <a class=\"ProveItLink\" href=\"../__pv_it/6e5f5630f3f6113bd0f14130f49808cdca18aa640/dependencies.ipynb\">dependencies</a>)<br>"
      ],
      "text/plain": [
       "rightwardCommutation: forall_{l in Naturals, m in Naturals, n in Naturals} [forall_{A_{1} in BOOLEANS, ..A_{_a} in BOOLEANS.., A_{l} in BOOLEANS, B in BOOLEANS, C_{1} in BOOLEANS, ..C_{_a} in BOOLEANS.., C_{m} in BOOLEANS, D_{1} in BOOLEANS, ..D_{_a} in BOOLEANS.., D_{n} in BOOLEANS} ((A_{1} and ..A_{_a}.. and A_{l} and B and C_{1} and ..C_{_a}.. and C_{m} and D_{1} and ..D_{_a}.. and D_{n}) =  \\\\ (A_{1} and ..A_{_a}.. and A_{l} and C_{1} and ..C_{_a}.. and C_{m} and B and D_{1} and ..D_{_a}.. and D_{n}))]"
      ]
     },
     "execution_count": 2,
     "metadata": {},
     "output_type": "execute_result"
    }
   ],
   "source": [
    "%proving rightwardCommutation presuming []"
   ]
  },
  {
   "cell_type": "code",
   "execution_count": null,
   "metadata": {},
   "outputs": [],
   "source": []
  }
 ],
 "metadata": {
  "kernelspec": {
   "display_name": "Python 3",
   "language": "python",
   "name": "python3"
  }
 },
 "nbformat": 4,
 "nbformat_minor": 0
}
