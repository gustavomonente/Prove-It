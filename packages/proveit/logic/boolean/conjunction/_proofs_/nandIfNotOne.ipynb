{
 "cells": [
  {
   "cell_type": "markdown",
   "metadata": {},
   "source": [
    "Proof of <a class=\"ProveItLink\" href=\"../../../../_context_.ipynb\">proveit</a>.<a class=\"ProveItLink\" href=\"../../../_context_.ipynb\">logic</a>.<a class=\"ProveItLink\" href=\"../../_context_.ipynb\">boolean</a>.<a class=\"ProveItLink\" href=\"../_context_.ipynb\">conjunction</a>.<a class=\"ProveItLink\" href=\"../_theorems_.ipynb#nandIfNotOne\">nandIfNotOne</a> theorem\n",
    "========"
   ]
  },
  {
   "cell_type": "code",
   "execution_count": 1,
   "metadata": {},
   "outputs": [],
   "source": [
    "import proveit\n",
    "context = proveit.Context('..') # the theorem's context is in the parent directory"
   ]
  },
  {
   "cell_type": "code",
   "execution_count": 2,
   "metadata": {},
   "outputs": [
    {
     "name": "stdout",
     "output_type": "stream",
     "text": [
      "Beginning proof of nandIfNotOne\n",
      "Recorded 'presuming' information\n"
     ]
    },
    {
     "name": "stdout",
     "output_type": "stream",
     "text": [
      "Presuming previous theorems (applied transitively).\n"
     ]
    },
    {
     "data": {
      "text/html": [
       "<strong id=\"nandIfNotOne\">nandIfNotOne:</strong> <a class=\"ProveItLink\" href=\"../__pv_it/29bd7d64b6d04f5fcf09a3ec501725eabc361cd20/expr.ipynb\"><img src=\"data:image/png;base64,iVBORw0KGgoAAAANSUhEUgAAArYAAAAZBAMAAAA2+HDNAAAAMFBMVEX///8QEBCIiIhmZma6urrM\n",
       "zMxUVFQiIiJERETc3Nzu7u6qqqp2dnaYmJgyMjIAAAAcRTyBAAAAAXRSTlMAQObYZgAABwZJREFU\n",
       "aN7tWn2IVFUUP/vm4837mt0/SlITBoXUQHdga1dsy7GoDSIcN8iiyMHVEiEcCtzaFDcId7RiJ4Jp\n",
       "iXJHDbS1ckAiFgQnhbI1Y1o1tg9pyP7Rf3ZxWz+2zO7Xe+/eeXfWeUFLlhfue/fe/d3z7v3dc885\n",
       "984C+E7PdWbhZrpeCnZu/hu90jeJqynlbhRu3+fKWunfTOkgy4jbMn6d8cdtFL+s6Zyh3s1V9tHX\n",
       "Mz5lVMN/d62jOZOoaNy9rbn0Xu2yOXg4SzPi9jiun/fHrVlAr2h+GrmN8ib+HH2N8oAqLkDjyqMV\n",
       "f3O63AYQmBDhyhyAg3OkYmQieLhephlx24e7dvvjluD7pnOjneTKVpy+RvnFPVtlTeJut9EKZbC7\n",
       "hK4izzMuwPUehA1ckYmRiRDhR1jOEfUjeujH3mI9Pz6d3L7MlVWqLfuXcboa6pHvoie6nKKA57so\n",
       "iBTrggCPzsKevkEmRiZChO9iOQfW0MDAO3592U8DAx9Op0vT+I+x0ZYaORsZvj8m7bh2rlMU8HyX\n",
       "CCJlV5cAX4aVLRSXiZGJEOHRBM0oTricyWz2y219JtNTnEZuFX5PzqPxY/4w50w/kUcvell14k0B\n",
       "z3epT0FoU56Ha5dILSsRIxNRATfjNCNu1wFs98ttOAmR6TxARHha3iTPD2A1p6rH5SbKLDjmTsTz\n",
       "XVY/P9xTEODmhapiZCIq4FaZZsTtA9Sr+eI2GEdrRiYtZ1hYrIfHj66nsJGO4kIv2NrWqjhigvzR\n",
       "pre1mUpS0dRaOlHCO+wV0pSAfqQboW57TDtl41BBs+dG8cI0WJfGLOgzBLg6YdtZjxiZCAdOk5Gm\n",
       "OYc7KhWR6qrWhDKjekua5EWk/HNC9k3rN6HWACax8ztjsK/Ba0t/Af1VV0P5P30L8Dkp1CW4s84t\n",
       "xI10NG3shlAT3ddWDG8lbxom29LF86NyuuCPNxZ4eN0k2eTwWEulGJCJsOG2hxujGY3VLPHGRD/U\n",
       "VDK6h2Bp9RY8nRPU0ujLpAeIPVf5WiAFBv66hhi3vNFeP+JtRM5tM8DhvJxbpN91SJeClFs1D6GU\n",
       "ZCDIQz3u7Ic6QffcLhcxtzEero7h56cAbZViQCbCgXu41cp8v5HBATCGA1Cs3oKns5OOy9wrDfyG\n",
       "XhSGEIMAnpaKJIS87hxv83Y5ty8A3OfYBIdbYhNQg9rgcHvQPVEIuzPunDoY3k1OFxzewsYED6eh\n",
       "atHmlhMDMhEOnC1jmmY81u1rkT7d2z5PuSOJDSmS9dSTMYw8eXpuXGxxuI3kiCa1R2SnjlAsw1cP\n",
       "JGEx1r5G9NA9YaiCVXpAyq0+Acp50ZflmC/TEFfRMYfbc2ymktOcQVaf4e1p8l1weBu6LMA17JzM\n",
       "vM2tK0ZMtggbTvgSfBkcROOzlpfqNigpelNgJIdOYyZPzYGZYovDrUEtUSqAKhs8YR+08NUVixYQ\n",
       "JX+JVivgqrg6PLfBC8Pb3LCGLhvKR1mMG7lic0s8moqX7k9gjwNl2xV1gYu3p8l1gShS5+U7QICj\n",
       "cM3ANrANhHYs1P2EK4LBCV9IjYs0Y27r0T59dz7UJ1DDHsqkiSej7U7DpNDC3YORsMMqKGPw9KxK\n",
       "bn+ERr76DcB8/P6D1Crh9UUJt8cymUwZzDIoaWebOQlNeN+182D0XoqzP4TxJlKwudkE7KFiAtfi\n",
       "Gg77bbw9Ta5LePRi0/rX6QnBhoO+5Nm7wOHWaSdCnU+4X6VwyhdarCTNmFsLU78GVmKrtgpNKmYk\n",
       "tRIecziGznFCi8vtDyR2bj02yVaa38pnv+7lt/4byF8VmGH92APHVlgvSfQ2BZEiaL9XPfNypNPA\n",
       "zRsoJGxVdxKbpryLF95WpR2kXyV8Aexl2bm/vRUWQH8IbWeipfAgXo66ZKCYFFoq7m+Xgjbh5TaQ\n",
       "h/6kdc+Zuw/R7yJ6VmA6llCDXwEPoJ1lAoIXPdzWFyB4pepdjVeha0hsmrWmNl/CCV/8XQ0LMsfQ\n",
       "ko6YYGI6rARYRW0H9IP6SNJt8XAbROp2lZDVl0dw9oBH0UYvGYthtoH0bgdok6DdjgtqCT7KeuFb\n",
       "QP8KjAVMLM9tfx7eYl8VzijbxTjdz70Em2at6TNf0glf/B0joymFvF5uCABbnrZf0cxCs+EhUE5w\n",
       "LR5ue7uh71IJk7WyEJoJK7P4UYhcBq13C6zT04EEIClfjjetJwX4ovVO6hR4OJgdR5AFWcdOWC63\n",
       "WXNrU/NrU9yNY65aLsb8zN6ZZm3p7a1r/EinfGE1iGRB8puOgqwrUwlPS5XfdLpo+MiSXUobcdVw\n",
       "pbiFKnDllDe+vSF/0/me5al+Lxuc4j6BT+3jBTCcLWuX9JSSCC/kpAxeB26cmJLbGzBNwW2pRm6J\n",
       "e5GUKqSUaoL/T7itmjr/yf9PCPxXmA12bvoL8WAsus1mjr8AAAAASUVORK5CYII=\n",
       "\" style=\"display:inline;vertical-align:middle;\" /></a><br>(see <a class=\"ProveItLink\" href=\"../__pv_it/29bd7d64b6d04f5fcf09a3ec501725eabc361cd20/dependencies.ipynb\">dependencies</a>)<br>"
      ],
      "text/plain": [
       "nandIfNotOne: forall_{m in Naturals, n in Naturals} [forall_{A_{1}, ..A_{_a}.., A_{m}, B, C_{1}, ..C_{_a}.., C_{n} | [not](B)} [not](A_{1} and ..A_{_a}.. and A_{m} and B and C_{1} and ..C_{_a}.. and C_{n})]"
      ]
     },
     "execution_count": 2,
     "metadata": {},
     "output_type": "execute_result"
    }
   ],
   "source": [
    "%proving nandIfNotOne presuming []"
   ]
  },
  {
   "cell_type": "code",
   "execution_count": null,
   "metadata": {},
   "outputs": [],
   "source": []
  }
 ],
 "metadata": {
  "kernelspec": {
   "display_name": "Python 3",
   "language": "python",
   "name": "python3"
  }
 },
 "nbformat": 4,
 "nbformat_minor": 0
}
