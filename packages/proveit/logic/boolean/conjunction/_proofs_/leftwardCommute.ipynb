{
 "cells": [
  {
   "cell_type": "markdown",
   "metadata": {},
   "source": [
    "Proof of <a class=\"ProveItLink\" href=\"../../../../_context_.ipynb\">proveit</a>.<a class=\"ProveItLink\" href=\"../../../_context_.ipynb\">logic</a>.<a class=\"ProveItLink\" href=\"../../_context_.ipynb\">boolean</a>.<a class=\"ProveItLink\" href=\"../_context_.ipynb\">conjunction</a>.<a class=\"ProveItLink\" href=\"../_theorems_.ipynb#leftwardCommute\">leftwardCommute</a> theorem\n",
    "========"
   ]
  },
  {
   "cell_type": "code",
   "execution_count": 1,
   "metadata": {},
   "outputs": [],
   "source": [
    "import proveit\n",
    "context = proveit.Context('..') # the theorem's context is in the parent directory"
   ]
  },
  {
   "cell_type": "code",
   "execution_count": 2,
   "metadata": {},
   "outputs": [
    {
     "name": "stdout",
     "output_type": "stream",
     "text": [
      "Beginning proof of leftwardCommute\n",
      "Recorded 'presuming' information\n"
     ]
    },
    {
     "name": "stdout",
     "output_type": "stream",
     "text": [
      "Presuming previous theorems (applied transitively).\n"
     ]
    },
    {
     "data": {
      "text/html": [
       "<strong id=\"leftwardCommute\">leftwardCommute:</strong> <a class=\"ProveItLink\" href=\"../__pv_it/b616b694383e1576fbaf93a10121f33b3d84b1150/expr.ipynb\"><img src=\"data:image/png;base64,iVBORw0KGgoAAAANSUhEUgAABFwAAAAZBAMAAAD+jSc2AAAAMFBMVEX///8QEBCIiIhmZma6urrM\n",
       "zMxUVFQiIiJERETc3Nzu7u6qqqp2dnaYmJgyMjIAAAAcRTyBAAAAAXRSTlMAQObYZgAACgZJREFU\n",
       "aN7tW29sW9UVP3n2s/38/JJ86Lp2ZZopCNJpEKOwsJWwukNb+DLFKRrtBFqshnYZAmKtU4sKXc3G\n",
       "goGheJs0KqQlLxTRrAzwiKKtUitMw2ALG3trC+o0qpqxL/BhzfonJC2hu//effe+dz3ZsrQpSq7U\n",
       "5+efz/2943t+75zzrlOARsd3dhVheSyFEd71UOMkueV1XDLjF8tyaXgYzlL4loeoXCr45VRDcmmY\n",
       "YnGPcfry7Tqnqezjbf33GWUJeudyf2chXTOrNTjbMfCI+rN3Lg8NDNXROViDc9sL32VvIkUilzfx\n",
       "+YcNyaVhisU9PqAvZ0SsSlAM4fyMwvpKB8wbHBlbBRC6UDtzUx5gQwaUznyCJHBJ7Y3SvgUlgtMl\n",
       "puQKkcs+PC/fkFwapljUw0rRlzO2AL6vtm1OedMEe9d6fDc6bChKmL6AesxztTP3IbX1pKTPONVZ\n",
       "dLhB6Y3SHvqSSKqt7M1RIpdm5HWi1JBcGqZY1CNKw/v8BuG+1x+1lbZbdvNTwZ5bv4dfN8qYNo+k\n",
       "dbZ25nZEezopfuRR4STV46i8UdpDO8pS4QX2ZozIxZo+ePCpxlrdhikW9WDf3GkXGozIV5NK27vX\n",
       "8lPB3rUOkUJxu8wQQ3f32O7amR9GdePTkqQ8qhl0GC2rvFHawzAuGx+7uShNnozmCoWHGpNLwxSL\n",
       "elxF9yTsV4QHpBfVz4vxSpTvYQj2rvUoefmVzNCSBX2nXTvzLMDme6TPPCrcMPRkFd6o7WEOOzrL\n",
       "3iRSRC7bAB5rUC6NUizq8SQ5PksKvTvepO2/fyRKvGaL9q71X1QMffcde7RUO7M+e6rtQfkzjwrz\n",
       "t5cV3qjtSa+judnFqhC53Iqb3vhgI3K5lfbN1UQTc6t0eLirU2ESgE/2l9cR/F61uQSHA5eRBze9\n",
       "7dzUgMLED1tDXRp+f9us2twP0+CkYRTdfXreXZMRZZsDRoWdEnu26q713oy4qiO8F4mvrJ0Ztzpj\n",
       "WV+ARrxWBAbTsCXgjdqe9DqR8ww2c0QuUdBQWuym2OautLbS3/rseA2uzFZFci4FWunzyoCd5lX6\n",
       "rwCvKgx88EgSxlsZ3ltUmgtwLHgZ6cGF+2S1QqJVYSDDxj8g/jDD9dVKcxleQVakv2MwD3oHTeNW\n",
       "EiIZhS/HSCL27Omqc+vPkZpjywzYl/ZSzcy41dEuSQ7zKbgVgX/D7Tf5vQG1Pel1Wty10WeIXBIO\n",
       "LmFTqJYd7nDM/DSsFyc/P3UL/C5hh+yqSM6lANi/oKyrG3iV7gR4RdHZy7CBAmzlGR7JKs0FOBa8\n",
       "jDg8n0JZMC8GDXzwKBLdSYbDdqW5DK9gKa4J3aphGtSoDbrCb0Ad6x08JWL7Kcl6L7mJMzIDbh3a\n",
       "kzUzo1YHtLNS4uFTcCtiLfDU4HkDanvS65x2ZLkYlTtoBT556CCYx0Ig7ipaTzxtw5FkKlEdybkU\n",
       "ANM7lHX1AH++/x7AVxQWMhxFDuhJhms5pbkAx4KXEYfnUzQJIUX29cG4Z9/EcLhWaS7DpBihJiDa\n",
       "yuUy4W3eicNEDjbTtMjsn5SsyaN1QmbA2y64gNTKjLddIlKS96iwisbcnCZ6A0p70uvEV/GiT4sR\n",
       "PHY3OsxDGK+2eee3klgux99em1q7DXclaExO/gx/CeuWTVfJiCsXSoFiXFAFbFPM3cKLXwBNsfvr\n",
       "g9tRoonbFFeVDx8cC1xGqpueTy9l4HpFapNhDSeagwxXVc4AjENuoPA3z3C5fMBW3b+VVqRB8uzn\n",
       "JetRfI9Mywy4F9HnamfG2y59eR4/iQqtW/xf4MrFmxPcpJ7gvc6LFRZ3t9WFCeSJ3grNNBVOv43l\n",
       "cuKzsNK+BujPQZOJF+7C9hudpqKEcLlMkC8TAVQVI4GIZEM5eIqktPDZY0Po5R5/70phdzzAcbSg\n",
       "kUqAkcF+ueDLBKiJT8YectpzXVtW4R+FefLgmutB/+4PMjLYG1Ns7yU27waVtKVRLPpPgB1ewv5u\n",
       "YSWA2+utojWYKJNM2BIDNCOTjY+rmQmpj/k9ZLrK5vGTqNC6dae4XPgczkVOPHv8M0V4hxt3CJWp\n",
       "XFqQqLU87KdySeDna+OZHJyHLogT9U1CGa/J09dCiy0hXC4tpHb8HdpBf9UfDqukzUCMVOREBVeR\n",
       "uz7jr1YVqeZ8LODQVA4wUtgvF3KZADXxCX5MTt/CVSTo31tScWkpCzhcEWSksDDQ4o9f/hDM4Y9S\n",
       "LKgR3HNreEl2AjtEsSJJCsZbY669lpesYf9QP23XORY5M9sx8ASAkpmQysz34x8kSzx+PqrOgS8D\n",
       "lwuf43HtlC6BuLb/qMjijtSWoXKx0HksCZsLhULSzBgOdiySRMp/EPQHCoUfInH8krSyW2GjD3Hl\n",
       "YpHa8f6fhm0mTHHXp+sPF6GJRrYMxiV2G4gP2hQWu4cXGA6/gQAjg31yIZcJUFOfaOX6CUr3paB/\n",
       "FBYbp7jDcLM1yMjgwI8AvL67j/bBBxgiBV38Jskq1kGsTmYWP/WUbvWcapcmcQc4AN7fuzR9E6Vt\n",
       "2pd/DX+HpoyWN2YykKW5JEyav09Bly4jrlzoM4MNo5lgONaDcYH8Colu3RKE54MRoPDxI8fv/D1+\n",
       "+yX0r8zw+IqgXChs3XyqLMqFXCZATXxiP38iRfYUg/4RGLF98TBeo1De7TYRPpYOMlL4+JF3efZM\n",
       "+YNa80CrXuuol5nFTzm669xZI3FnPzGyEGiQwORWGqyy8TiMIn1a+TKQ+J0AeBf22cYMfH9SQPxy\n",
       "+QaicXA40HxkzQ5hdKsuYOt9KHI2/LRMIuB9zuGXK02lw3hu1IFfFzHeZ8NIGmRGDptt7MpULvQy\n",
       "AWrik1XGBMZFMK6AgH8UNq+HNWYZz9gD8T9iCx3h/wSZ0YNfzkeD+4B0K6uOgVa91lEnsxs/5fht\n",
       "fWqhcWd/wMDuwtcAcInsRkuR1dfA11HjbNxrQwyl6fAP0ij19JbCWfiCIyA+ucTmwBjeQx7b10Bv\n",
       "UV+ND2tgOA/7PnJuBESQ2NvR+QiNQG+Jfr7agyOZA3Ajnguvd33eNV/PNgI4owdvYxudVC70Mn5q\n",
       "6lMojQneONcxkIaAfwzeFs8hs94SJPqP2sy83/Y568GRzBa+nOPewt40m6wnEHjVawxZncxu/FTj\n",
       "53u31iUXFvciyH98qaHehUnZA9tQpwLuVoEP8WUXvssjzHfPciWPgOR3r1so8X3sCWxm+nEfI4dz\n",
       "2gl5V7cqddQUCNT+Qc5MYbOSH5cZPRa4ju8hL40/vvwbQLW/1T2kyobF6r8Zifsc7TeL892zo0WP\n",
       "YNO5ksDGz56Dq2Frkc/guMzI4XjW/HNALmrqxDqPoIp/8ayWjqzz5h5SM3L4OTi8JETiG2q5qFbC\n",
       "gprk4pvvVCGwqvI6Styp7kasqqNWta/kVPumlhK3/uvCLMulrrHr//z/jEKwPP43I7xr538A4QCI\n",
       "3ui4IJYAAAAASUVORK5CYII=\n",
       "\" style=\"display:inline;vertical-align:middle;\" /></a><br>(see <a class=\"ProveItLink\" href=\"../__pv_it/b616b694383e1576fbaf93a10121f33b3d84b1150/dependencies.ipynb\">dependencies</a>)<br>"
      ],
      "text/plain": [
       "leftwardCommute: forall_{l in Naturals, m in Naturals, n in Naturals} [forall_{A_{1}, ..A_{_a}.., A_{l}, B_{1}, ..B_{_a}.., B_{m}, C, D_{1}, ..D_{_a}.., D_{n} | A_{1}, ..A_{_a}.., A_{l}, B_{1}, ..B_{_a}.., B_{m}, C, D_{1}, ..D_{_a}.., D_{n}} (A_{1} and ..A_{_a}.. and A_{l} and C and B_{1} and ..B_{_a}.. and B_{m} and D_{1} and ..D_{_a}.. and D_{n})]"
      ]
     },
     "execution_count": 2,
     "metadata": {},
     "output_type": "execute_result"
    }
   ],
   "source": [
    "%proving leftwardCommute presuming []"
   ]
  },
  {
   "cell_type": "code",
   "execution_count": null,
   "metadata": {},
   "outputs": [],
   "source": []
  }
 ],
 "metadata": {
  "kernelspec": {
   "display_name": "Python 3",
   "language": "python",
   "name": "python3"
  }
 },
 "nbformat": 4,
 "nbformat_minor": 0
}
