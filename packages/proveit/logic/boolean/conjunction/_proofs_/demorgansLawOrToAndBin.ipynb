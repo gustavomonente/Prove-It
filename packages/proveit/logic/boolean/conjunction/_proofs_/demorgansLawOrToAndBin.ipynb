{
 "cells": [
  {
   "cell_type": "markdown",
   "metadata": {},
   "source": [
    "Proof of <a class=\"ProveItLink\" href=\"../../../../_context_.ipynb\">proveit</a>.<a class=\"ProveItLink\" href=\"../../../_context_.ipynb\">logic</a>.<a class=\"ProveItLink\" href=\"../../_context_.ipynb\">boolean</a>.<a class=\"ProveItLink\" href=\"../_context_.ipynb\">conjunction</a>.<a class=\"ProveItLink\" href=\"../_theorems_.ipynb#demorgansLawOrToAndBin\">demorgansLawOrToAndBin</a> theorem\n",
    "========"
   ]
  },
  {
   "cell_type": "code",
   "execution_count": 1,
   "metadata": {},
   "outputs": [],
   "source": [
    "import proveit\n",
    "context = proveit.Context('..') # the theorem's context is in the parent directory"
   ]
  },
  {
   "cell_type": "code",
   "execution_count": 2,
   "metadata": {},
   "outputs": [
    {
     "name": "stdout",
     "output_type": "stream",
     "text": [
      "Beginning proof of demorgansLawOrToAndBin\n",
      "Recorded 'presuming' information\n"
     ]
    },
    {
     "name": "stdout",
     "output_type": "stream",
     "text": [
      "Presuming previous theorems (applied transitively).\n"
     ]
    },
    {
     "data": {
      "text/html": [
       "<strong id=\"demorgansLawOrToAndBin\">demorgansLawOrToAndBin:</strong> <a class=\"ProveItLink\" href=\"../__pv_it/8c3cbf89bb7f1164e01293a5af9fa31d2141e97d0/expr.ipynb\"><img src=\"data:image/png;base64,iVBORw0KGgoAAAANSUhEUgAAAPsAAAAWBAMAAAD0hvfJAAAAMFBMVEX///8QEBCIiIhmZma6urrM\n",
       "zMxUVFQiIiJERETc3Nzu7u6qqqp2dnaYmJgyMjIAAAAcRTyBAAAAAXRSTlMAQObYZgAAA3BJREFU\n",
       "SMe1FktIVFH0OG/mzbx580YXQUEtBlokhSnYh1YOBeYmdFUtQh9YYC1yoF0WTBA0RuVbVascMUwM\n",
       "SjCCFpFoUGjFbKOkCVe6UTJMjbBzzr3vzp1XmovmcN67557PO/eez30XoJJgFTaTvsCnSMRMhdwP\n",
       "i6E9wHa6lxu7roPpAUzTfL5C7ufEsCCnns+vygI0tcVx6/cpRtnKeHcaxLCQF/NZX9CBSWltgAmA\n",
       "JIoSo5VxHxXbfdwkxsgNuQyoR8aXFAzg0qZGRu5VKPbyu4X6NI/m0ZQUXAOIb89DEvkrudyVf5ew\n",
       "njnaSIn0yhTbGCXs5nc4/0o0wBPISMEywKkLGHVMzjmAXuaJd8vSZBd/Max/dRx1S7NesNM+rdjC\n",
       "8BkQSrjN74fQIXY9LeocF788U9tDRYG1dwzi3HzOd1EnNZCoISKmeacWOV+qKNQ84k8UWxgaHqGE\n",
       "Hn6noV+UYAYeCH5oFWDABbAxGlEIcWwGf7HIcMFeC7o/gyseVzPSHAKHXGpsYRh3CSVs4612NnZz\n",
       "ZzkpMEViYri/0E8ULWL0ClHmTV0S1ZoCoxh0jwkySyklzaQXwvjf1djScE51u3SPSaziD0bzEBEr\n",
       "q8Yh9E24t4oneZGpHIuetsH+fNA9B0mVHWlixLKUghJbGtYxasHHpo5yNsfUOURtb2IGw1SKvWc5\n",
       "vXCYRa11tWKJmnsro5rI17RdeA2Wq7Gl4XPGUulZ6D656B+BY6rtO7Ki9GCM2+ET1LPoA8Aezf3b\n",
       "XC5XDKNqi6SlJrKGqciQnUD2HWXYwihgUvZ+bJWClhUJQPiK9juQMqhwqqkt4rPv+lh0C6B/tHz3\n",
       "bhi31SxpqRkpQiI9pNimMmzX/jDH8aezPg923w8sfZN6NUS+Lq53HsqRjyQVjkNujTz0cxVhQbZ6\n",
       "Afe08NO+e6GJK4pnDyq2qQyb1ZLUoSsg7B9LJXikqBMYhYJ1E6w1sHYFcu/GM0rVFZrgYNzeu4pt\n",
       "KsPPjGW/nA1hwidiK2D1XY3shDdLjV3pgHsPLvtZA09ogpHmWvfZljI8wKiOx81AHHca2BqtN94+\n",
       "zFr5XzFJ5vAHm68vxeB1YwOIeX+5/vzNPdHld4KXPhG4KtgFwq1dtj4GGYUN3IcLXB1a3Bq0otFh\n",
       "kPE/gBEIi62HKpRX2y2P4F7GLcNvfzLpNrFD2sgAAAAASUVORK5CYII=\n",
       "\" style=\"display:inline;vertical-align:middle;\" /></a><br>(see <a class=\"ProveItLink\" href=\"../__pv_it/8c3cbf89bb7f1164e01293a5af9fa31d2141e97d0/dependencies.ipynb\">dependencies</a>)<br>"
      ],
      "text/plain": [
       "demorgansLawOrToAndBin: forall_{A, B | [not]([not](A) or [not](B))} (A and B)"
      ]
     },
     "execution_count": 2,
     "metadata": {},
     "output_type": "execute_result"
    }
   ],
   "source": [
    "%proving demorgansLawOrToAndBin presuming []"
   ]
  },
  {
   "cell_type": "code",
   "execution_count": null,
   "metadata": {},
   "outputs": [],
   "source": []
  }
 ],
 "metadata": {
  "kernelspec": {
   "display_name": "Python 3",
   "language": "python",
   "name": "python3"
  }
 },
 "nbformat": 4,
 "nbformat_minor": 0
}
