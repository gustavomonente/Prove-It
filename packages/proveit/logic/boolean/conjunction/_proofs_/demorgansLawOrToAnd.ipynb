{
 "cells": [
  {
   "cell_type": "markdown",
   "metadata": {},
   "source": [
    "Proof of <a class=\"ProveItLink\" href=\"../../../../_context_.ipynb\">proveit</a>.<a class=\"ProveItLink\" href=\"../../../_context_.ipynb\">logic</a>.<a class=\"ProveItLink\" href=\"../../_context_.ipynb\">boolean</a>.<a class=\"ProveItLink\" href=\"../_context_.ipynb\">conjunction</a>.<a class=\"ProveItLink\" href=\"../_theorems_.ipynb#demorgansLawOrToAnd\">demorgansLawOrToAnd</a> theorem\n",
    "========"
   ]
  },
  {
   "cell_type": "code",
   "execution_count": 1,
   "metadata": {},
   "outputs": [],
   "source": [
    "import proveit\n",
    "context = proveit.Context('..') # the theorem's context is in the parent directory"
   ]
  },
  {
   "cell_type": "code",
   "execution_count": 2,
   "metadata": {},
   "outputs": [
    {
     "name": "stdout",
     "output_type": "stream",
     "text": [
      "Beginning proof of demorgansLawOrToAnd\n",
      "Recorded 'presuming' information\n"
     ]
    },
    {
     "name": "stdout",
     "output_type": "stream",
     "text": [
      "Presuming previous theorems (applied transitively).\n"
     ]
    },
    {
     "data": {
      "text/html": [
       "<strong id=\"demorgansLawOrToAnd\">demorgansLawOrToAnd:</strong> <a class=\"ProveItLink\" href=\"../__pv_it/7525a947e7997f4ebfcede18a61d774f3c42f8e00/expr.ipynb\"><img src=\"data:image/png;base64,iVBORw0KGgoAAAANSUhEUgAAAeYAAAAZBAMAAAAWDpCEAAAAMFBMVEX///8QEBCIiIhmZma6urrM\n",
       "zMxUVFQiIiJERETc3Nzu7u6qqqp2dnaYmJgyMjIAAAAcRTyBAAAAAXRSTlMAQObYZgAABUxJREFU\n",
       "WMPtWF1oHFUUPtnd2c38pXnQghZlSaWKIllItVgjXRFjEQrbPrSRlnapFWkRXCk0ECvs40bRnaca\n",
       "9CGLkSREaBcjaqDFiBVKVBgaCwW1Dlgf2pcGG21aSOu5PzP3zszdXdKWRYqHuzP3nvn2nPvd33Mv\n",
       "QAt5fciBe0lSQ0dbYkpwr8mx/zn/tznr7h0aMB3G2SOv35pxboVom0yx197V/UvzRP4g4/wDeV1u\n",
       "xrkVom1yib2uyF3faEiIbNeiyB9nnEcJotyMcytEu8TOsdeVmkQop8ZK+gs3hNrKUs5daMGqN+Pc\n",
       "CtEuybBN87Mt0uY5OKzGCr0xc12ojW7K2Z6fnv6w6RrWCtEu4XVwe/NCd6BHjRV6O7Ek6S+ydXu5\n",
       "UjnafN1ugWgijmLGaY2xMSnQxGU9iylq34jl2/AySluS/mVzRfrwHeP8GsBIc84BQo3rDNVW6gSw\n",
       "8DcXxZl5pRVLZIWbL2ji8j59fgr7cFJqbH2x6upJJ/RGXvtL+nCBcX4BWyX8j139+cRaibOPsJeU\n",
       "tf09REJe7HBrSDsx3DNKKwfFWiXcJB2SuLzN23QsB1ofCxsyoHvKqR/oU6BflT58xThnICHt9cbJ\n",
       "Ptcsz8NmibOPGF9RjqMtbgPOGvbxnjhuAmzCLKBIf5oYD5Ibo0gSl/uozVf73kQXKcb5LB2EcRH6\n",
       "nX1PL0sf9jHOlivPifOz02CeTYohWRKI+cPKcTSZa8A5XZCrFOC6nEReigBZIS3mrezmUrArc84p\n",
       "gA4v4Iyr805VnYQejT8c56x7+Nl+bsf6xIYCpEi9zN2vZGXOFIFNnK2o7O/oLDfgnAmFrgEOB01Z\n",
       "HuG0INo95OZJmqSxjdM00+1zNnOkBRUxZqA38fcWwMK5nlwPaf6XeLw9cgA5P+92HEoUoYsCC/Pn\n",
       "ZM4Ugd0Gm/BRizooJksNOOPmopfCuEPEfBFOgx4MWVYQmyF148uXNIk1TK+zwIpxJrxMRVQi9B+z\n",
       "uO3nh2BtbYNYw2AG///Ro7Amn5yDccbZsnIy5xnq4RfoBe3bKGe7nliMcbYqlcoHsBXrVuZ5htvz\n",
       "IFDdlLQ0sQJizyDQY24C2UqT2GdI03Re9zkP8nEMxk18nPB4Ruhpk1cd/ZMSLEE/5vs55zUkINsP\n",
       "2yFTh13oN2sWdLckc6YI448fqzXIRDkf7z9zQ9nPaRjAuhV5nuOGWdBv5SekBYEUBvhg4G582Ssd\n",
       "KXBcTt26DGb1Wo5zpsOPRh9HyFQq8kygN6o3a/D1rcOQzmrddG78yTnbxMX98BiMaaRypJ/hxazM\n",
       "mSKSNRgrxDlvBv1vWDi1sPv7GOfBYB9NcxzljO1glJ+SFn5SGPQ5Mze+wYGgNYLYk21BpSAWUMQ4\n",
       "MX1HIVHWFwtglKTzs76IPX3eAossn3Ye7LnY+Xkb9rdLOOvvwmjNf6RwA1qBz72O+skY50lgTkie\n",
       "4ShnYvsn7BNuhBUmfc7MjW/wV5pCZwy2Sq3uWD+GPW2X5/wzBm+3Iu4Jx+YB3iOD6CJxHuHcuQx6\n",
       "9R3CWVsH2x3tAfJYB9UyjF5z04VJ2BjhrNMxMczzDEeLSeyGE9i23Agr8PHjcDe+wY3g2w3FZ/qm\n",
       "f7Kr4TyAy5r+Rs0/S0YkgfO52T0JqZspmjvYlWagVI+u2wnUPBHbOOneYISiGo4NBVLMoAfgRe8M\n",
       "7kBGbuduSOt9FmA2KPq5CXgE9jux2BPzneG9/CryOKX0Ez6gc4OmS9Jduxuyndu+D3MVOWXdcW6m\n",
       "YhBDfczfplKOA9s923wHOLTK++1c5M5tNjZ7ak3u5yLyOE13+X77yL8ZoYuWkMjXnQAAAABJRU5E\n",
       "rkJggg==\n",
       "\" style=\"display:inline;vertical-align:middle;\" /></a><br>(see <a class=\"ProveItLink\" href=\"../__pv_it/7525a947e7997f4ebfcede18a61d774f3c42f8e00/dependencies.ipynb\">dependencies</a>)<br>"
      ],
      "text/plain": [
       "demorgansLawOrToAnd: forall_{m in Naturals} [forall_{A_{1}, ..A_{_a}.., A_{m} | [not]([not](A_{1}) or ..[not](A_{i}).. or [not](A_{m}))} (A_{1} and ..A_{_a}.. and A_{m})]"
      ]
     },
     "execution_count": 2,
     "metadata": {},
     "output_type": "execute_result"
    }
   ],
   "source": [
    "%proving demorgansLawOrToAnd presuming []"
   ]
  },
  {
   "cell_type": "code",
   "execution_count": null,
   "metadata": {},
   "outputs": [],
   "source": []
  }
 ],
 "metadata": {
  "kernelspec": {
   "display_name": "Python 3",
   "language": "python",
   "name": "python3"
  }
 },
 "nbformat": 4,
 "nbformat_minor": 0
}
