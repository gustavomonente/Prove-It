{
 "cells": [
  {
   "cell_type": "markdown",
   "metadata": {},
   "source": [
    "Proof of <a class=\"ProveItLink\" href=\"../../../../_context_.ipynb\">proveit</a>.<a class=\"ProveItLink\" href=\"../../../_context_.ipynb\">logic</a>.<a class=\"ProveItLink\" href=\"../../_context_.ipynb\">boolean</a>.<a class=\"ProveItLink\" href=\"../_context_.ipynb\">conjunction</a>.<a class=\"ProveItLink\" href=\"../_theorems_.ipynb#unary_and_is_true_reduction\">unary_and_is_true_reduction</a> theorem\n",
    "========"
   ]
  },
  {
   "cell_type": "code",
   "execution_count": 1,
   "metadata": {},
   "outputs": [],
   "source": [
    "import proveit\n",
    "context = proveit.Context('..') # the theorem's context is in the parent directory"
   ]
  },
  {
   "cell_type": "code",
   "execution_count": 2,
   "metadata": {},
   "outputs": [
    {
     "name": "stdout",
     "output_type": "stream",
     "text": [
      "Beginning proof of unary_and_is_true_reduction\n",
      "Recorded 'presuming' information\n"
     ]
    },
    {
     "name": "stdout",
     "output_type": "stream",
     "text": [
      "Presuming previous theorems (applied transitively).\n"
     ]
    },
    {
     "data": {
      "text/html": [
       "<strong id=\"unary_and_is_true_reduction\">unary_and_is_true_reduction:</strong> <a class=\"ProveItLink\" href=\"../__pv_it/420d5f3b9965a77b620c02906d8d1844816d2a8e0/expr.ipynb\"><img src=\"data:image/png;base64,iVBORw0KGgoAAAANSUhEUgAAAREAAAAUBAMAAABYABS6AAAAMFBMVEX///8QEBCIiIhmZma6urrM\n",
       "zMxUVFQiIiJERETc3Nzu7u6qqqp2dnaYmJgyMjIAAAAcRTyBAAAAAXRSTlMAQObYZgAAAwJJREFU\n",
       "SMedVk1oE1EQHvPT7W6yaQ89S2gP3mygYC+CCx4KgpBT6MkWrAdPRgSFVqHH7KEktwoemqLQUkGK\n",
       "PWhPSpJTFQneihgWapX2YIsWTIVa37wfkvd2J4UOfEvezM63X+bNzj6ACLObHJd3xdL94SmvtE0g\n",
       "LFWJZutlmxIBLr7qsVWBhlqnPeVllmQZfeYD44+4TcPd8JNk3i3TP85THnIyxAd07uv37AmgEruj\n",
       "ZE8EM4cAThBRjixeX4UDMu8gohyv8YJkiKf4uHkt7uYEUEkmp5SgB631l11qlJJ01vTLPPegSijh\n",
       "ZAwZdkN6XYtbFQFUMjmrlFhiR5yNY3ZdppQ4g6Zf5r28VqGULAu4W2tri3p8UQKVzAwrJfImN3aE\n",
       "pfIIJfDN9Mu85qhHKUEyRLtUeqzHRyQauH+WUjIigjdSJ+jJUUrqpl/kJarvmpQSJEPcAfC5w1fx\n",
       "BYkG7hvuHFeyIDbHS/7CymDLpn9yy2lKWmBERN4LmOLxTzywoylBMsR1+Sa4R0rJnARTYoEdSCVz\n",
       "4r+B/RsfW6Rq8sb0izwPlnJUTZAMYUGM1+35iYoPSTAln3nNuJIhHiuMXWnjUDmklEyZfp6XvD12\n",
       "b55SgmSIdNPi660HEUrYm1PQlLBfF8+hJAFwIThLiR0U+DJbCu9OilU0U+nanRTDfWQudrphWlMy\n",
       "AUaE57FmswY7ffJdU4JknNCfwWUfjIc7lqlANZ2OfSaHpRtQNWmZfsyz18Vsjq6J6ljY4N33BUZV\n",
       "vC7RgElczgol6LHx1jKTF39PKblq+utypvQfU0qQjBMOIIWz87GsxvGERAN4tYaFEuZxyv+q8PaU\n",
       "NVQmH2JNiHmxa/pZ3urpPqTKf8Ivz00x2fKS0EUF8Sos5UPTno/FpDbtha1Qn3inSEz7HraiETJ1\n",
       "A82IL2DnVOB2/6UaxUp+AXtYrZuwvw12+Yla+QLG+cTv+ucBxRpxKvDPEKJOBVHW86TEhZMV98mT\n",
       "EmlIRhHK0+Ml2X2x0Olxm2J1z3F63Bb4D0Xw/oZ18y3uAAAAAElFTkSuQmCC\n",
       "\" style=\"display:inline;vertical-align:middle;\" /></a><br>(see <a class=\"ProveItLink\" href=\"../__pv_it/420d5f3b9965a77b620c02906d8d1844816d2a8e0/dependencies.ipynb\">dependencies</a>)<br>"
      ],
      "text/plain": [
       "unary_and_is_true_reduction: forall_{A} (([and](A) = TRUE) = (A = TRUE))"
      ]
     },
     "execution_count": 2,
     "metadata": {},
     "output_type": "execute_result"
    }
   ],
   "source": [
    "%proving unary_and_is_true_reduction presuming []"
   ]
  },
  {
   "cell_type": "code",
   "execution_count": null,
   "metadata": {},
   "outputs": [],
   "source": []
  }
 ],
 "metadata": {
  "kernelspec": {
   "display_name": "Python 3",
   "language": "python",
   "name": "python3"
  }
 },
 "nbformat": 4,
 "nbformat_minor": 0
}
