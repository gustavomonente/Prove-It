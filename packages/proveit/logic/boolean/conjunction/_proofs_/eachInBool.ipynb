{
 "cells": [
  {
   "cell_type": "markdown",
   "metadata": {},
   "source": [
    "Proof of <a class=\"ProveItLink\" href=\"../../../../_context_.ipynb\">proveit</a>.<a class=\"ProveItLink\" href=\"../../../_context_.ipynb\">logic</a>.<a class=\"ProveItLink\" href=\"../../_context_.ipynb\">boolean</a>.<a class=\"ProveItLink\" href=\"../_context_.ipynb\">conjunction</a>.<a class=\"ProveItLink\" href=\"../_theorems_.ipynb#eachInBool\">eachInBool</a> theorem\n",
    "========"
   ]
  },
  {
   "cell_type": "code",
   "execution_count": 1,
   "metadata": {},
   "outputs": [],
   "source": [
    "import proveit\n",
    "context = proveit.Context('..') # the theorem's context is in the parent directory"
   ]
  },
  {
   "cell_type": "code",
   "execution_count": 2,
   "metadata": {},
   "outputs": [
    {
     "name": "stdout",
     "output_type": "stream",
     "text": [
      "Beginning proof of eachInBool\n",
      "Recorded 'presuming' information\n"
     ]
    },
    {
     "name": "stdout",
     "output_type": "stream",
     "text": [
      "Presuming previous theorems (applied transitively).\n"
     ]
    },
    {
     "data": {
      "text/html": [
       "<strong id=\"eachInBool\">eachInBool:</strong> <a class=\"ProveItLink\" href=\"../__pv_it/ceb145e06dee8fbae73717323ba887caaf4002b70/expr.ipynb\"><img src=\"data:image/png;base64,iVBORw0KGgoAAAANSUhEUgAAAmoAAAAZBAMAAABz1R8KAAAAMFBMVEX///8QEBCIiIhmZma6urrM\n",
       "zMxUVFQiIiJERETc3Nzu7u6qqqp2dnaYmJgyMjIAAAAcRTyBAAAAAXRSTlMAQObYZgAABrxJREFU\n",
       "WMPtWW+ME0UUf7ftttvu7vU+qIio2aiRwwSuyemhcEgNUYhC2DsTDgMJDUhEPmiVxKJALIZAAeOd\n",
       "H4QLCVyVBPAUbCR+uATiAkHlALNykJzKhQp+kQ+GgCB/RHwzs9vO7LYHJcCHw0m6O+9P3+z89r03\n",
       "b2YBqm6vpTvgbm7B9NKb+FcK7va27n/UvG3joNIehlqB3AaqQ62W3HR7SIIWzeDU3rzQuGCFwJbe\n",
       "yv477FWAUAdF7SDhna4ONS2Pt9rckEStlsBSg9BNNEW+bGzbbEO0QFHrxGskUx1qVL9zaAZoH7nM\n",
       "wTiaHhf4StCWTJz3XooacRnqO9XkNeKbB4cmau+SSwM63AmD0v3pdMFBTc0jap9S1PTe7u711a4G\n",
       "x7u7Px+ai0KETms55rdhNAPNfKLka9qLiFptgq6hF7PZpdWiFstmV1lDEjWJxuUFgLaFdG04zUXo\n",
       "5BmY6rQ4RW0+wOpqUQuZoNzeUvdOFNJyGZ5CKgP5wkD9EkqGOkqoDbt2DykdChS1SWxdqAq1YBx2\n",
       "MFvlZye8hinn9i1gav3zrFF+ZX1ls1Q0E2Q3bRDjUHbkYHtz0+qyJiuOpyb8wjBJ8dIlzF9JOgq/\n",
       "GmgDGF9qiqIWBslTebU1J6T7KnNS9Dea9k8kyj7XXwJVB1od6WwyYFudP5OchOjy0sOx2+uVjTvN\n",
       "J/wJYE9Zk5XHe8Z5wJOnFrnrYQ0xq+BTSlcI2fInNnc1gMw09MMzFDXNDvNF3q5GW830wrjKHILa\n",
       "YbZDiE4sW+puvspTgSSol8njIpa6v8bpwufs96AmW4JxScg84BuZrnZNAN/mWJ83afD/9Qi34O+L\n",
       "fRPAsDZ+w6MWQz+TzoJQXlHUQkXUIoUZnN3+nm5QjwTAqswheG2SqQNrW+PlUOtdJDi9AQHyusJo\n",
       "QTZ8ymQpavWgFjIF4238u2EEP7K8jFzfBnjW6XMmmYxX5IRY0eprN+TAMLTtfISSci1E46VGQC2J\n",
       "m6Igi1BYjRsFfULro9LjJklYGLqzXjEIRn3HHomLnCJqyjoaIK1KufpYNrI8+ZUJY8gq3oCXqG9D\n",
       "IRE37PagFhaNr+ETLyP4kRWSY6PnQTrN+rxJZQefCz1CTE2TqAsa0w7wqwEp1+ZQ+wFD8LXjxdUA\n",
       "diIM+nN2zUIpyXaYqtl7jGB09CEYLnKKqKljaTcZQGKhF4gQjOXJ6aPrqWMuZqRHPSzizlBbLxiX\n",
       "LW6f7BBU6LTZZEscPHtkpdN3TIZyroxX5MdTk2wbbjQ+7G6fSGEBv6G5+9n7XVLaUVnaPpxHwGKo\n",
       "xRDPDSMhlkDGZoaRRv4c+SwFlwUOd+ZBo17PS2dg9gNe1H6FBp78EWAkuf/DntyjHrPKoDZFMK7k\n",
       "FE6BElRY9D5AJLQCSCnWZyblPTlXxivy4wUz0TjztcAnLgttvHFtXlPWWR62rMgJu3eoNRlqOuHP\n",
       "hRYS023ZbNZQzYhNoAkZwTqRU0LtF3LZ0fwD+vt73lODU4fa+UD8EDNw3kko233qJNtFbQ9qLwjG\n",
       "X0aQigqMYELH++L4nkCxIHKF9R2T4Zwr4xX58eSCvDib/YDkNUnYUXFt6qq0UJht5c/X7oV66JIx\n",
       "uKhnwfMknmvMgGUKHM/52jiInPejFshBl6mPH3hqF3N7XMKnk/roafxZPvUA8RNAdYtDbaZgHKO0\n",
       "5DCMoMK+3X2z9tNIxH/F8hC8xPrMJEWNydzMURKy8YJJSDJf0wLC7n2QtpdDLXIGva1fA41MVE+A\n",
       "bkXWQBeEXzJLHB9qmB/hKp1YZw7VnQtgUROz1TEwQsXXvwYilyHyIOmEbfiyw6++DKIHQK13zCru\n",
       "Cy0ZRxdBH3HUGcGEXxdq8ruI9xH368rBx5bTpyYpapR2B+OEbDyc036KmqUdqlQ9ewOpwKGGqP8B\n",
       "63oB1iIx+XfMtvIIjBPpMMfxodaegc6/bTKxlrw8HFo6yCWvXIRI+zKYH00FEoBWvj/XuIB24Ltm\n",
       "shX2qIM2by9Ob76c4dfQHGecZHXFUe9gBBOGzK3wJFswMtr7jU0rnL5jkqBGaXcwXkjHwwdUMNz1\n",
       "pac+svlTyettSXwn4BJmMWeB8XEqnICTICrlHbeXUuNhtWSl1KmgLh3lUJPynHYU2I9NiiPCsBNS\n",
       "eSA51M2jfJ+gxtMCQccj9UE95rUqTsB/vs53g54b/G7Qei4PatGt3V40KSVCozgrPddRVw/zO6oM\n",
       "p12xbYHHYG7FgJIbxg8SaHS83bf+a4tdxdcWvUzPY8W+IXUXtWl35BNB/NajVrGlb+f30IDog7f3\n",
       "LO3mvnwE0+/8ByJmLWZeVGxmAAAAAElFTkSuQmCC\n",
       "\" style=\"display:inline;vertical-align:middle;\" /></a><br>(see <a class=\"ProveItLink\" href=\"../__pv_it/ceb145e06dee8fbae73717323ba887caaf4002b70/dependencies.ipynb\">dependencies</a>)<br>"
      ],
      "text/plain": [
       "eachInBool: forall_{m in Naturals, n in Naturals} [forall_{A_{1}, ..A_{_a}.., A_{m}, B, C_{1}, ..C_{_a}.., C_{n} | (A_{1} and ..A_{_a}.. and A_{m} and B and C_{1} and ..C_{_a}.. and C_{n}) in BOOLEANS} (B in BOOLEANS)]"
      ]
     },
     "execution_count": 2,
     "metadata": {},
     "output_type": "execute_result"
    }
   ],
   "source": [
    "%proving eachInBool presuming []"
   ]
  },
  {
   "cell_type": "code",
   "execution_count": null,
   "metadata": {},
   "outputs": [],
   "source": []
  }
 ],
 "metadata": {
  "kernelspec": {
   "display_name": "Python 3",
   "language": "python",
   "name": "python3"
  }
 },
 "nbformat": 4,
 "nbformat_minor": 0
}
