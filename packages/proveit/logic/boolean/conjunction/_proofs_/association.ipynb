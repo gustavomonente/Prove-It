{
 "cells": [
  {
   "cell_type": "markdown",
   "metadata": {},
   "source": [
    "Proof of <a class=\"ProveItLink\" href=\"../../../../_context_.ipynb\">proveit</a>.<a class=\"ProveItLink\" href=\"../../../_context_.ipynb\">logic</a>.<a class=\"ProveItLink\" href=\"../../_context_.ipynb\">boolean</a>.<a class=\"ProveItLink\" href=\"../_context_.ipynb\">conjunction</a>.<a class=\"ProveItLink\" href=\"../_theorems_.ipynb#association\">association</a> theorem\n",
    "========"
   ]
  },
  {
   "cell_type": "code",
   "execution_count": 1,
   "metadata": {},
   "outputs": [],
   "source": [
    "import proveit\n",
    "context = proveit.Context('..') # the theorem's context is in the parent directory"
   ]
  },
  {
   "cell_type": "code",
   "execution_count": 2,
   "metadata": {},
   "outputs": [
    {
     "name": "stdout",
     "output_type": "stream",
     "text": [
      "Beginning proof of association\n",
      "Recorded 'presuming' information\n"
     ]
    },
    {
     "name": "stdout",
     "output_type": "stream",
     "text": [
      "Presuming previous theorems (applied transitively).\n"
     ]
    },
    {
     "data": {
      "text/html": [
       "<strong id=\"association\">association:</strong> <a class=\"ProveItLink\" href=\"../__pv_it/24c6687b5947cfad984d208c5b0a783224079c250/expr.ipynb\"><img src=\"data:image/png;base64,iVBORw0KGgoAAAANSUhEUgAAA+sAAAAyBAMAAADW91cAAAAAMFBMVEX///8QEBCIiIhmZma6urrM\n",
       "zMxUVFQiIiJERETc3Nzu7u6qqqp2dnaYmJgyMjIAAAAcRTyBAAAAAXRSTlMAQObYZgAADO9JREFU\n",
       "eNrtXX+MFNUd/97sr9vZmbv7oyJisSMmeDQtd+YsUMGw1FSaNtYFU6Gp6W08rqGkljM01PJDjv6A\n",
       "Q6VsbVpRi7dok1IsuMnloiQ2bsW28Yp0A9jSKPUUbKJJ5cKdJ3eI1/dj3pv3Zt7s3LKbXGH3EWaH\n",
       "9z7fz8zOZ96PeW8+C0C5qW5iIg+XbXoFqibpafppTEw0lc9Wd+jx7GV7KYx89cgOX7flf/zJSsie\n",
       "uoyvxOwqUh3MQXsnUuWyJ/j3jxeuLIkPqTIfqclO0t4k29tHP75dIoECb64dbVv908lT/GOiY15P\n",
       "Ul329LZ5hd+U0Hs3d9wXp91WNFPk61a77D/he+/Rj7NiaUYdFBf2zyrQdd0Ai1OTZ5kOEPoQVAfW\n",
       "ZgL0zVQeWEl1fQESN9FmSx8s0rhVueyJcV5FW+nHWXF0elod1dDq1GwBz9Ht6MLf2TpplshFgPCw\n",
       "VGaH6NsRe2hMdWAl1b4NaLPYvmdeViE31WRHKcavY4xerGcXC3Uzsl39hLJyA98V8A66BeW9ZU2a\n",
       "RUO6mufEIhbSMANtwk2qAyup3sZhS1iDrkK+lKnJjsThoj1GPwotQicb/ZKljFo1i+8KeAe9FdXT\n",
       "q7OTZqlHGuyVBGUhi3NYolbVgVVUoQt4exdrApL+93mVy/4A37uBbMPZl4QB/UHoUo6bBmNsV8Q7\n",
       "6FGAFWsmz9KYhsh6qUWwQ+IfEWBGcWAlVS+J+j2bkVD1COZ4TXaIjPDdnWT7W2hH9SzSTfP+hv6o\n",
       "ZnhyRs7eJXh9rYyOjJ5q3oib3kmytN93bHtOKrNDDNbyr/QcWEn1d8v7kH70A5z48EI/V5MdQs63\n",
       "30i2SehthUibXT274CnlgADibJRM8LBURuO+em8a7po/SRY0FNCnSWV2SMwe3jMm4cBKqi2SEAll\n",
       "I/NBTXaoS/PdT5Gr0dG2FtX0ML1gpgVR1Vc7BtBp12uKPyyjcV+tXWB3QzDLViy9WI1ZSB1pkXXG\n",
       "JISoqT5DegrWXUSGVNiWTE329oIsexh9mUEueywLkbQiCo2+7ra7dorfKaNRXw3aOSZWMMsoVkNs\n",
       "n1lIjAjXz2V3QtRUW0glTxWVvbdQk70lIzfyqMrFmrjsfc4kjtR4oma9gQba+DEZjW+m6AgTK5AF\n",
       "P7bD2qR56/IbtNkpMYQ+secZk3BgNRV5mDQAMwH7FrRv/4+rgatu2beCNKSLIxkbhrjs79kKuOdG\n",
       "MvRKczy9hg4a30zt3UysQBY8FIicB3NJoW6NlhZD4nj8ZWQZkxPiQ9WLm4wBwpQR1l2kVN9Vk326\n",
       "s3vYfnavH2Oyk/E8am9B/wTtPDfINivtdpXjtW4RDfA2YpjOxHLycbBD5bA0IAmWPARP3AiNyVBe\n",
       "CkFPh4lbgMnOQzgL2XHyE6jd6MsSJjy7l1eO+ods2clNcao82cvmmJKkCzOi6Mrum3gfErs+arVl\n",
       "j+LpDg1XoPVYhjTbrMKFeH6E4estCf19vLKSY2I5+SR4vYclena0bfXDaOdeWAaxnBSiL/jOzcBl\n",
       "5yEOy3o5/5ltHUnChGfqGpS10fzQlp08Ir5fnuxlc0zNY7swIxoTOk0qe5jse68dmfyKiN//G2r0\n",
       "0pJY4Cpoht6IMmSpT4gP1VWwCP3zd0W+M5J9N+5FusuTvWyOKUmJC0ItaA164vVNjZo6//mSWOJD\n",
       "qJaeNCrD9IN+n6UYu4VDsjdk8TxPebKXzTElyRRXO3c4l23+qFXSpI/6dbxfbrm3FJZwGg3lfj1Q\n",
       "GabPFdQLr/bjIpbdHNi//7Eyh3Rlc0xJ0saEf+yDKyvV+yzzn2cj+fM9PZvKHcmXyzElyRgXm8Yr\n",
       "7KWqf/nkX8dk78QtnL2ecKmyd7JWckcQWgX4yvDh1ZliQUUAJzvyc4q25NsWaT6hoXGovnQ1k/02\n",
       "0g/YE4ArFiW1ae7R37pX4Pq0bw6W/Ta7LzFHBNS/585f6FFhRFFuNoHRVCxMBoiYpyzYVyw0/g7o\n",
       "wqyM+c7pdXwMEh2qQtnvZ7LHQCuQ+Qr9xbZConsAbhFhzx6+FV4wsqGsbw6WnXKgJ8eLbMSIuDQj\n",
       "/ob70YUBpPJQmr3e5BPmAFyYOLqLzO4iob3o8eakcOJWfk9/TXYsu1HAq/Q70eU5tB8Sx0IgTu+Y\n",
       "Dz+RhT9arYZ/DpadcgAMrGNtL+LSNBhw95gMIJXHLAgNFgtzAC5MDJ1rxCoSikccy4UTtyzjQFU3\n",
       "8j9ksscH8frNGITxo2viW9+0sOzHX5/VOqsTt94o9fc/ikWmc/xiDpedciAFeuyHCMylaeE3Xd0q\n",
       "A8jlz6VgbrZYGAe4MS0oVy8SqmFl99N9cuKWdcerfEg3VoWy8yEd7FhFH+DJVEVq4HUs+4mZMC07\n",
       "G+i0a79x4B4sO5njF3O47IQDNZswH22QDIRLC930ruugGBDf7C6/8/PNaRLnF0YBNEkY+62oNX5H\n",
       "jAlzSOTErbbreC+gyW8p76nYpS2bKZGp4KSUzDWNy97XBXg94Rkqu4Ffwoo/3QUjsAh0MnnVD3m8\n",
       "VEHm+KUcR/Y+MrP1BrRA5E9IdsKFmtwvujppDICfucuPAtxI4vzCCICNDkTMxyTrnhl+R2x0Oix6\n",
       "4pYV+pVqeInK6R0SGSztqir8EZipVI+EC/9dD6BEo4QAl7mGueyNqHOst2BFT0+PlUjFC1jBqIWK\n",
       "NkLkgZ6eHyOR95CuG8/xyzlcdswB+ukju7Jk8YhwIRHy8nwXBTS5yx9BQ68cjvMJswH2s4aIwV33\n",
       "AbL+pA7Ffb9Oe3t64qhv53OpCUl2eym7QRzn+fkRhAp01osmTC6PRCCTjD/oDnMZJTIBdCL8oKTA\n",
       "x1x2M0vWE6K0tsOXLaKl1h0fSkGa1u0wGRaROX4ph8uOOQAN7ntTRPaoXffy8vowAeDJe7n8AmrG\n",
       "MzjOJ4wCzIWnvvBiSsYsAPIewga/I4a6yYsHC08hUJrWdiPEBxoXRehx+xlQHOf5+REcx4Poj2Bo\n",
       "wuTySAQyyXjDksPcRgkfy4XSV2GIFYEvxditoQYGkS8JZj7+EPSi+m525+HPuPAEwJuwO0vn+J0c\n",
       "UXaS7kA8BSI74dIMOIK5UCTe7M5SgJl3lcfHIf5pssSsCuOAxFy4NpGXMbEC/CFDZPc54mbQX4VE\n",
       "M34DmZy4lTeOyA0eSz+iF6xPHOf5+BEEx4Pop2BowiR7JIKZZLzeJIe5jBJ+lgulr0IXZzzo8hOX\n",
       "Ha8n4FXfpWdQtYhcC7ejpir+vSzUo7Y1/GASVaZlOTrH7+S4Za8/D/Fdm+kbApjrn0cX/BcQ17JM\n",
       "5Bq0WZajgFDSVf7X4bbVSfpmgSLMAXTqXThWxMBfFn0W6EsGyiOC0fEyou3Ery7gEzc3nf6584T3\n",
       "oNie2+9NamLL7+NHEBwPop/CRlMm2SMRzOTCn5HDXEYJP8uF2ldxRpyQHpNkJ00k6h3te8LJbEYd\n",
       "Ik05T467ttv9adaHyyaIJdTlOE4Vxve6Eq04VoHZUPyI0KWdUJw4LBa/PL1IX00ILb+fH8FxPIj+\n",
       "CIamTLJHIphJxtO3cXmY2yjhY7nw8VUcFm+MIY/sTjpUykOFS/ZIy0I1FyMw5ijLXXGHPHt6WktG\n",
       "56gwy4dzRY+opxOvqc78LaGprCfy6UnS+QX4ERzHg+iPYGjC5PJIBDIxPJ9mlsLcRgkfy4XHVyFy\n",
       "OSNHX9lVq1EmTE52Xy4TJn0sKbsQTF3aEXlqF6Qg7zNBGOLDwX4Ex/Eg+iMYmjC5PBKBTDaep+dl\n",
       "SpdRwsdy4fZVSFz2ZLVVRPaS0hVhj4A60kff3TYPL0gX9yM4jgfRH8HRhEn2SAQzMTy/I2VK2Sjh\n",
       "Z7nw+CpELmfkWPVmqCG37Ek6e1ncj+A4HkR/BEcTJtkjEczE8LJULMxllPCzXHh8FV7Zt0NN9vCI\n",
       "q5HHg8H7IciP4DgeRH8ERxMm2SMRzGTj2VIIjeNhLqOEj+XC46vAbM5NTFLN+ojSOteQ7kl72q24\n",
       "H4E7HiR/BEcTJtkjEcjE8GwphA7DeJjLKOFjufD4KhDbNfKQTqsZneWhPFmJwI8/uzIePwK3IpCN\n",
       "Y18Q/REOmhjLJY+En7PB46lgSyFA/goeCsko4We5cPsqMNs445JGM1Uue52zUhPuAn3XJ1l4YWKd\n",
       "x4/gWBHwhtsXJH+Eg8av2cseCT9ng9dTYS+FALwrh0lGCT/LhcdXEbXITJ2wKFn7ERPSeY67J2dp\n",
       "KupH8NgXiD9CQF86E18K0bvUYUUtF94TS4XyjEuas6/2HygTljSO+zzpBie3P+LSmfhSiKGefC2R\n",
       "rhdiX0uJXIkZNdlx+oVz7sKL5SX6Edz+iEtn4kshB9XFJdLdDtpr0sJr7ecI7dvfaQDt1ywqkCrA\n",
       "tKOC31Hg6oCa7CTNc3b/j16qMiv4UpXAZXZXUvbL+YfFoxZUT6rsD4tf1v+NwM3Vo7puL+zi/0bg\n",
       "f6jXrnPKG+sFAAAAAElFTkSuQmCC\n",
       "\" style=\"display:inline;vertical-align:middle;\" /></a><br>(see <a class=\"ProveItLink\" href=\"../__pv_it/24c6687b5947cfad984d208c5b0a783224079c250/dependencies.ipynb\">dependencies</a>)<br>"
      ],
      "text/plain": [
       "association: forall_{l in Naturals, m in Naturals, n in Naturals} [forall_{A_{1} in BOOLEANS, ..A_{_a} in BOOLEANS.., A_{l} in BOOLEANS, B_{1} in BOOLEANS, ..B_{_a} in BOOLEANS.., B_{m} in BOOLEANS, C_{1} in BOOLEANS, ..C_{_a} in BOOLEANS.., C_{n} in BOOLEANS} ((A_{1} and ..A_{_a}.. and A_{l} and B_{1} and ..B_{_a}.. and B_{m} and C_{1} and ..C_{_a}.. and C_{n}) =  \\\\ (A_{1} and ..A_{_a}.. and A_{l} and (B_{1} and ..B_{_a}.. and B_{m}) and C_{1} and ..C_{_a}.. and C_{n}))]"
      ]
     },
     "execution_count": 2,
     "metadata": {},
     "output_type": "execute_result"
    }
   ],
   "source": [
    "%proving association presuming []"
   ]
  },
  {
   "cell_type": "code",
   "execution_count": null,
   "metadata": {},
   "outputs": [],
   "source": []
  }
 ],
 "metadata": {
  "kernelspec": {
   "display_name": "Python 3",
   "language": "python",
   "name": "python3"
  }
 },
 "nbformat": 4,
 "nbformat_minor": 0
}
