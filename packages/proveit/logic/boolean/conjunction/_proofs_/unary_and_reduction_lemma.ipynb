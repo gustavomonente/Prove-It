{
 "cells": [
  {
   "cell_type": "markdown",
   "metadata": {},
   "source": [
    "Proof of <a class=\"ProveItLink\" href=\"../../../../_context_.ipynb\">proveit</a>.<a class=\"ProveItLink\" href=\"../../../_context_.ipynb\">logic</a>.<a class=\"ProveItLink\" href=\"../../_context_.ipynb\">boolean</a>.<a class=\"ProveItLink\" href=\"../_context_.ipynb\">conjunction</a>.<a class=\"ProveItLink\" href=\"../_theorems_.ipynb#unary_and_reduction_lemma\">unary_and_reduction_lemma</a> theorem\n",
    "========"
   ]
  },
  {
   "cell_type": "code",
   "execution_count": 1,
   "metadata": {},
   "outputs": [],
   "source": [
    "import proveit\n",
    "from proveit.number import num\n",
    "from proveit.number.sets.integer._theorems_ import zeroInNats\n",
    "from proveit._common_ import A, B, m\n",
    "from proveit.logic.boolean.conjunction._axioms_ import multiConjunctionDef\n",
    "context = proveit.Context('..') # the theorem's context is in the parent directory"
   ]
  },
  {
   "cell_type": "code",
   "execution_count": 2,
   "metadata": {},
   "outputs": [
    {
     "name": "stdout",
     "output_type": "stream",
     "text": [
      "Beginning proof of unary_and_reduction_lemma\n",
      "Recorded 'presuming' information\n"
     ]
    },
    {
     "name": "stdout",
     "output_type": "stream",
     "text": [
      "Presuming proveit.core_expr_types.tuples.tuple_len_0_typical_equiv, proveit.number.sets.integer.zeroInNats theorems (applied transitively).\n",
      "Presuming previous theorems (applied transitively).\n"
     ]
    },
    {
     "data": {
      "text/html": [
       "<strong id=\"unary_and_reduction_lemma\">unary_and_reduction_lemma:</strong> <a class=\"ProveItLink\" href=\"../__pv_it/9c44c6b1055c9edd5bf9ea4e4786e9249da6abae0/expr.ipynb\"><img src=\"data:image/png;base64,iVBORw0KGgoAAAANSUhEUgAAAOUAAAAUBAMAAACAKeeZAAAAMFBMVEX///8QEBCIiIhmZma6urrM\n",
       "zMxUVFQiIiJERETc3Nzu7u6qqqp2dnaYmJgyMjIAAAAcRTyBAAAAAXRSTlMAQObYZgAAAzVJREFU\n",
       "SMeVlkFo1EAUhp+7zWaTTbYePJegBz21CwV7UVz0UBAKeyo92YL14MlIRa1WKF7cRXT3IhWlNqJg\n",
       "abEsFlFPFlsPtkWCnkQsi2sFe7BFC1ZB67yZl9lN0qx1IMkkb/75Ju+9eQlAw6a50LpM/aUz/DIq\n",
       "jc+2EIw2mi1VEqIK3nyIGjUOMCdveE8f5n2F6RKl0Hhm7TiH7WzIdIwdJ4VoAe9XophfiFSSzLQA\n",
       "pdcYoBIaL6yPpJvqTKvsmBKim2gajkCaGSJVJfMtOfoXO70ICYRVMtOZ2lSrDoBhcVEau+UIploS\n",
       "JOWK4zEHhQ+nf7Lz3ZBg0M/suSAtk4fYXPpOLjLnJyZGolw7QqTEYYt6mi1WHVvH18gGU872M/t3\n",
       "S5PbhoM/CdFGPj8UxdxDpCmwqRcT3jqa+s3ORiYwnqweU6+onqXJee6yy6wQnQAo8MeFMPMakRZ4\n",
       "qmEv6fLJsso3fFueRK+/YuMRF1bJNMoyavehF121JERHKP/MdQr2x+qAN/IikWy4Qz2Vm5pA+477\n",
       "zQ7Gv+xjqqB5qZ2FMfTBEyFSIcZXdw+9NTl7EKyZ0cc0cpcgmRYkcoK5g4ewu33/BqbWWoAprJL5\n",
       "hnuRb+fj7adwc/QKkeEKp88PsMmv3nLAsoyHfqbqgNJXz2Snlm0wWdZ2UziZrVJjahX+XLHy6GfW\n",
       "LKvrld+307XqwL2XYsdpnMmuxfNz2LepjCwh7LnK9gl0kqjQj08T0EGF0GpvyflziPGQK3PoNpUV\n",
       "M1iI/DmEvBTPZK0sKpeXQzDNV/se2kDPiPeM36A5ZjlTwUgw/87R9uC7sMgmjM8EmIZvr/SQf8U+\n",
       "T2IVOUCiZkxivbpYdJTz+fxljGeM5ujkzARGKWZxJvOMXvzjwNNNFv50LsAUzoYuqgh4wqowvrkC\n",
       "qeIPtqBlEplY1+IOjOWgT7ynEffVvibez9XXPtEeRNQ+uT8wT3yfHbtexJbW7MJLzpwxFoM1HoI1\n",
       "nreoGh/ZqMZT8DdAK16CJIu1OVS97nrPCyFmsvbR3OJbliw1ZE5tJdrH4rmtb3YEQB9uyCz8c1Xi\n",
       "32Sv92/SGvw3efe//yZmiYv+Aiap+K6FEGOlAAAAAElFTkSuQmCC\n",
       "\" style=\"display:inline;vertical-align:middle;\" /></a><br>(see <a class=\"ProveItLink\" href=\"../__pv_it/9c44c6b1055c9edd5bf9ea4e4786e9249da6abae0/dependencies.ipynb\">dependencies</a>)<br>"
      ],
      "text/plain": [
       "unary_and_reduction_lemma: forall_{A in BOOLEANS} ([and](A) = (TRUE and A))"
      ]
     },
     "execution_count": 2,
     "metadata": {},
     "output_type": "execute_result"
    }
   ],
   "source": [
    "%proving unary_and_reduction_lemma presuming [zeroInNats, proveit.core_expr_types.tuples.tuple_len_0_typical_equiv]"
   ]
  },
  {
   "cell_type": "code",
   "execution_count": 3,
   "metadata": {},
   "outputs": [
    {
     "data": {
      "text/html": [
       "<span style=\"font-size:20px;\"> <a class=\"ProveItLink\" href=\"../_axioms_.ipynb#multiConjunctionDef\" style=\"text-decoration: none\">&#x22A2;&nbsp;</a><a class=\"ProveItLink\" href=\"../__pv_it/aff3babe6f8fd741b55a4f01ecf193aae2107d390/expr.ipynb\"><img src=\"data:image/png;base64,iVBORw0KGgoAAAANSUhEUgAAAl8AAAAWBAMAAAAMWeSjAAAAMFBMVEX///8QEBCIiIhmZma6urrM\n",
       "zMxUVFQiIiJERETc3Nzu7u6qqqp2dnaYmJgyMjIAAAAcRTyBAAAAAXRSTlMAQObYZgAABbFJREFU\n",
       "WMPtWF1oHFUUPp3s7N/sbvqgRSnIYsHqS7OwmIKtOlUkIAiJQloR7NIfEEG6Wgj4RyOI3VRkVwQb\n",
       "FM2ECikRdCEPWig0TfuUFlkjSotUFqKW5sGUtI2JksZzf2bmzOyd2WYwT3rg7N4599zz3fvNvefe\n",
       "uQDhsu03iCyphtB/X06pweCzdQjs2FGzV01osucrgRHOt3MIkZNSUV5cY9Mg/59W93dXTIjXlGDp\n",
       "QV7Um5HBWgITQKYZEy4w81wIYW0cQuSaVJR5aq8FTEhSng+qugeg4xakm0qwnIicux4ZzAlcawVk\n",
       "ioQNs9aDIYS1cQiWbEEoK85bpGJW7Z8ruE09/qRKXwGI3QCYUoHBD6L8y1/RwaZ8zSjgFCcsh96Z\n",
       "eghhbRyCJVETivLl4+RF60ctpf+eN5yix59Wacs4wAWAURUYvC5mycRydLBRXzMKOMoJy06Pjx+H\n",
       "EMLaOATLcakojS6T5Ikn8kr/A/c7RY8/rUpuxH7jWHOmAixVFjNGuxkdTAZ2mlFAVCQMliqVt8II\n",
       "a+MQLFuk4py2zpDN8isoq9zTzYRd9PrTqs4S6ANsyhcUYJowPm2sRAeTgZ1mFBCVEXYQYCiUsHCH\n",
       "YPlAKsAXsJe85wtiH/FLpu4sfK8/rdr7ysxRVszy5PzdH0xmbbAkH3ja1Beig4nAbjMKiMoIe1K1\n",
       "51DCHAc1bR5rrLqz2za8KRXAhBF8QbrcOcrwuTLlQcruh/BXVXXVIL0J/w3/vGFACc5BDFI3WJKK\n",
       "BiYDO80oICojLAGa73C5e6epbXIJsx2yN5V7odf6PcBZWbxLKuj7i4cGQS/KFJOHeK8i0Ayfy66/\n",
       "suodNgbkRb/ua82ANvD801/sXgJ4bns0MBHYbUYBURlhmUaCLu7TxYYxOA2PuITZDidWVIT5rN0A\n",
       "ZywfYTEcC77PmCAsYYFeUgTCzNovp6nwV1Utsv7nQwnDn/vwrycamAjsNqOAkrBUs59EunRqHIyZ\n",
       "Dph0CbMdpg+rCPNZXwN4zL8k8QUlNjqETbjHWSpGwTl4Sn9FFTsVwSHTjiVy2O+eJWmgvuoQtmYw\n",
       "Edhp5gGMiSUJQwdwDj767BbtgV6IseVsvPB8nhDGHbBtvqLgy2dN3wJtzpf0U3Vx+JaEXZMd8p8k\n",
       "a2Icjr/dJVrFTkX6kpubvTsMT/qfyqN7TzQwEdhp5gGUSR8mcCDZXY0NL2slyHH+e6d/pIRN8JHG\n",
       "AdNC3H8M5FbyghZm3rPL56SyI1Jy2SaMp36c8pC+jYWvm/bPHrlSHH+7S7Qqh3Nh1zEsdEz6+nFO\n",
       "Hgn4Waxak4Q5YBzDRQwG44HdZh5AVE5YJy7RT7ZCp4mGE4KwjHPOOS8dAH6GLtDP+gljVrpdN0Gz\n",
       "N7AeoSdX58Co/lmQhMUZpMYiDrBelewfPovZadL2t7tEquLzi8WX3ufM+TN5j1hO6eptC75dPSwJ\n",
       "c8E4xkB7MB7YaeYFROWEZRkJ+6CP5YDdlUolb/SmGmVCGHdIz16sWoJ2ugS51ZXkJKT+bv00Iukh\n",
       "xsutOxdP2Dq1yC6pqmAs5NPIZTAC2FhAszGhGeej4G54EEZ0XGF8hsFTeUIYlw4LRnpbCOPW7I4r\n",
       "D58W4TvrEFtu/fgmhN25yC4pJfTj2yVs7WBTEAw4RQhLXUeOL2Ugw8adxS/MST9hzyAbDUZY6hgM\n",
       "W/xn2BJWYxtsNrABPo9Y8OEkPdIOtZwJ7/j6UXZJ/WWjPD8nyXz+JhJY0BmeXO/It1/CneHjaQC2\n",
       "YHt+BSj5CEsuQar6Nj+gbIa+mn4v/vTVpfVgutyBkfrqmSPF7ndVF4isT9sX82sZg9MlhSRDLxCZ\n",
       "fHRkXxSwZMD1GbMna3RJ2qJhDqPPW71X1GxJGs6T/TlWNgoJgzyv+xX15fW6or4cYkfVrppri6d3\n",
       "7SD33oZ8HemSZsYfcp//F684cybrT7z/hdH/A5UGEe+ZDj9KAAAAAElFTkSuQmCC\n",
       "\" style=\"display:inline;vertical-align:middle;\" /></a></span>"
      ],
      "text/plain": [
       "|- forall_{m in Naturals} [forall_{A_{1}, ..A_{_a}.., A_{m}, B} ((A_{1} and ..A_{_a}.. and A_{m} and B) = ((A_{1} and ..A_{_a}.. and A_{m}) and B))]"
      ]
     },
     "execution_count": 3,
     "metadata": {},
     "output_type": "execute_result"
    }
   ],
   "source": [
    "multiConjunctionDef"
   ]
  },
  {
   "cell_type": "code",
   "execution_count": 4,
   "metadata": {},
   "outputs": [
    {
     "data": {
      "text/html": [
       "<span style=\"font-size:20px;\"> <a class=\"ProveItLink\" href=\"../__pv_it/10303dbf886540f8d0be5179f225a26b708c9a5b0/proof.ipynb\" style=\"text-decoration: none\">&#x22A2;&nbsp;</a><a class=\"ProveItLink\" href=\"../__pv_it/455a3b38fc8bced06966ada5f16a0fb4de2221840/expr.ipynb\"><img src=\"data:image/png;base64,iVBORw0KGgoAAAANSUhEUgAAAJwAAAAUBAMAAACKdUnLAAAAMFBMVEX///8QEBCYmJiqqqpUVFTu\n",
       "7u5ERERmZmbc3NwiIiK6urp2dnbMzMwyMjKIiIgAAADRdxPqAAAAAXRSTlMAQObYZgAAAjhJREFU\n",
       "OMuVlD1o20AUgF8ty5Es2XgOBLKlS4Knup3qrcEUqhIINGAonZLJHgoeOlS0U4dSlVKaZPKSwUsp\n",
       "ZAhkKB5CthIvpSEkxFvJkB8K/YXWfe/d6aw7xaZ94k4nvbvv3rv37sHpIQiZXefXE4jlOqTEmYYx\n",
       "YoUA2+qLR/Z9Hvs9gGyYWrAIE2ss1ZTqA7Z5CQkVriAYhQsk91Jr9tmIvjI2oTrGVpeQTwo3Iz3/\n",
       "it17k5Zp6rhCc6g6DgC8PkP8lSDGrbLSrvzA/q6Jc0Mdt/taqRYeo84uMST7ti9xTiT2Kv6izdsG\n",
       "7hnouNqZUk2f0+QDhtQhkriiMH/D+oK91zRwn3Wc3XNjTT64SUHfYsgmPgKX40yw2/4fspFi4R2x\n",
       "MPmBjvPKXlkOl2CP/s4yJILnEueyPg/Od1oXGda90nEuOHHw2/CCNrxBkEwfsl2Bu8LHtdN6+I0i\n",
       "dGHgJnXcHMBtMfJvte5Qwu4RxA3AryZx2E39Aw7juiOPDlf2YlxFJKhy1sL2kiZFw7Orpp21mirr\n",
       "cZVbwneHIJTrlUQonsokz5jXQg8FoSwOkVMW94hD4ZPX6PC2zA3OvQbOnXhn4LY03K50WORjjhL/\n",
       "EUKydF5FcT/QP7vxO4Brgze4YdfAdcRBybJSo44SeXHwEazGT7TkECF5VnaTl0zIvcsvGajkoHAl\n",
       "/9iRWaBmEtoRJWC0yBKQwOWGBlxSoJbH4+qjyqdBHpbPsYK7ncTF/dQs7lf/t7hnQvgL7fGld17/\n",
       "3scAAAAASUVORK5CYII=\n",
       "\" style=\"display:inline;vertical-align:middle;\" /></a></span>"
      ],
      "text/plain": [
       "|- [and](A) = (TRUE and A)"
      ]
     },
     "execution_count": 4,
     "metadata": {},
     "output_type": "execute_result"
    }
   ],
   "source": [
    "multiConjunctionDef.instantiate({m:num(0), A:(), B:A})"
   ]
  },
  {
   "cell_type": "code",
   "execution_count": 5,
   "metadata": {},
   "outputs": [
    {
     "data": {
      "text/html": [
       "<table><tr><th>&nbsp;</th><th>step type</th><th>requirements</th><th>statement</th></tr>\n",
       "<tr><td><a name=\"-0x5379bba0d9aeeadf_step0\">0</a></td><td>generalizaton</td><td><a href=\"#-0x5379bba0d9aeeadf_step1\">1</a></td><td><span style=\"font-size:20px;\"> <a class=\"ProveItLink\" href=\"../__pv_it/c4b798dbb60fd58fcb87577a6abccbe610b781730/proof.ipynb\" style=\"text-decoration: none\">&#x22A2;&nbsp;</a><a class=\"ProveItLink\" href=\"../__pv_it/9c44c6b1055c9edd5bf9ea4e4786e9249da6abae0/expr.ipynb\"><img src=\"data:image/png;base64,iVBORw0KGgoAAAANSUhEUgAAAOUAAAAUBAMAAACAKeeZAAAAMFBMVEX///8QEBCIiIhmZma6urrM\n",
       "zMxUVFQiIiJERETc3Nzu7u6qqqp2dnaYmJgyMjIAAAAcRTyBAAAAAXRSTlMAQObYZgAAAzVJREFU\n",
       "SMeVlkFo1EAUhp+7zWaTTbYePJegBz21CwV7UVz0UBAKeyo92YL14MlIRa1WKF7cRXT3IhWlNqJg\n",
       "abEsFlFPFlsPtkWCnkQsi2sFe7BFC1ZB67yZl9lN0qx1IMkkb/75Ju+9eQlAw6a50LpM/aUz/DIq\n",
       "jc+2EIw2mi1VEqIK3nyIGjUOMCdveE8f5n2F6RKl0Hhm7TiH7WzIdIwdJ4VoAe9XophfiFSSzLQA\n",
       "pdcYoBIaL6yPpJvqTKvsmBKim2gajkCaGSJVJfMtOfoXO70ICYRVMtOZ2lSrDoBhcVEau+UIploS\n",
       "JOWK4zEHhQ+nf7Lz3ZBg0M/suSAtk4fYXPpOLjLnJyZGolw7QqTEYYt6mi1WHVvH18gGU872M/t3\n",
       "S5PbhoM/CdFGPj8UxdxDpCmwqRcT3jqa+s3ORiYwnqweU6+onqXJee6yy6wQnQAo8MeFMPMakRZ4\n",
       "qmEv6fLJsso3fFueRK+/YuMRF1bJNMoyavehF121JERHKP/MdQr2x+qAN/IikWy4Qz2Vm5pA+477\n",
       "zQ7Gv+xjqqB5qZ2FMfTBEyFSIcZXdw+9NTl7EKyZ0cc0cpcgmRYkcoK5g4ewu33/BqbWWoAprJL5\n",
       "hnuRb+fj7adwc/QKkeEKp88PsMmv3nLAsoyHfqbqgNJXz2Snlm0wWdZ2UziZrVJjahX+XLHy6GfW\n",
       "LKvrld+307XqwL2XYsdpnMmuxfNz2LepjCwh7LnK9gl0kqjQj08T0EGF0GpvyflziPGQK3PoNpUV\n",
       "M1iI/DmEvBTPZK0sKpeXQzDNV/se2kDPiPeM36A5ZjlTwUgw/87R9uC7sMgmjM8EmIZvr/SQf8U+\n",
       "T2IVOUCiZkxivbpYdJTz+fxljGeM5ujkzARGKWZxJvOMXvzjwNNNFv50LsAUzoYuqgh4wqowvrkC\n",
       "qeIPtqBlEplY1+IOjOWgT7ynEffVvibez9XXPtEeRNQ+uT8wT3yfHbtexJbW7MJLzpwxFoM1HoI1\n",
       "nreoGh/ZqMZT8DdAK16CJIu1OVS97nrPCyFmsvbR3OJbliw1ZE5tJdrH4rmtb3YEQB9uyCz8c1Xi\n",
       "32Sv92/SGvw3efe//yZmiYv+Aiap+K6FEGOlAAAAAElFTkSuQmCC\n",
       "\" style=\"display:inline;vertical-align:middle;\" /></a></span></td></tr>\n",
       "<tr><td><a name=\"-0x5379bba0d9aeeadf_step1\">1</a></td><td>instantiation</td><td><a href=\"#-0x5379bba0d9aeeadf_step2\">2</a>, <a href=\"#-0x5379bba0d9aeeadf_step3\">3</a>, <a href=\"#-0x5379bba0d9aeeadf_step4\">4</a>, <a href=\"#-0x5379bba0d9aeeadf_step5\">5</a><sup>*</sup></td><td><span style=\"font-size:20px;\"> <a class=\"ProveItLink\" href=\"../__pv_it/10303dbf886540f8d0be5179f225a26b708c9a5b0/proof.ipynb\" style=\"text-decoration: none\">&#x22A2;&nbsp;</a><a class=\"ProveItLink\" href=\"../__pv_it/455a3b38fc8bced06966ada5f16a0fb4de2221840/expr.ipynb\"><img src=\"data:image/png;base64,iVBORw0KGgoAAAANSUhEUgAAAJwAAAAUBAMAAACKdUnLAAAAMFBMVEX///8QEBCYmJiqqqpUVFTu\n",
       "7u5ERERmZmbc3NwiIiK6urp2dnbMzMwyMjKIiIgAAADRdxPqAAAAAXRSTlMAQObYZgAAAjhJREFU\n",
       "OMuVlD1o20AUgF8ty5Es2XgOBLKlS4Knup3qrcEUqhIINGAonZLJHgoeOlS0U4dSlVKaZPKSwUsp\n",
       "ZAhkKB5CthIvpSEkxFvJkB8K/YXWfe/d6aw7xaZ94k4nvbvv3rv37sHpIQiZXefXE4jlOqTEmYYx\n",
       "YoUA2+qLR/Z9Hvs9gGyYWrAIE2ss1ZTqA7Z5CQkVriAYhQsk91Jr9tmIvjI2oTrGVpeQTwo3Iz3/\n",
       "it17k5Zp6rhCc6g6DgC8PkP8lSDGrbLSrvzA/q6Jc0Mdt/taqRYeo84uMST7ti9xTiT2Kv6izdsG\n",
       "7hnouNqZUk2f0+QDhtQhkriiMH/D+oK91zRwn3Wc3XNjTT64SUHfYsgmPgKX40yw2/4fspFi4R2x\n",
       "MPmBjvPKXlkOl2CP/s4yJILnEueyPg/Od1oXGda90nEuOHHw2/CCNrxBkEwfsl2Bu8LHtdN6+I0i\n",
       "dGHgJnXcHMBtMfJvte5Qwu4RxA3AryZx2E39Aw7juiOPDlf2YlxFJKhy1sL2kiZFw7Orpp21mirr\n",
       "cZVbwneHIJTrlUQonsokz5jXQg8FoSwOkVMW94hD4ZPX6PC2zA3OvQbOnXhn4LY03K50WORjjhL/\n",
       "EUKydF5FcT/QP7vxO4Brgze4YdfAdcRBybJSo44SeXHwEazGT7TkECF5VnaTl0zIvcsvGajkoHAl\n",
       "/9iRWaBmEtoRJWC0yBKQwOWGBlxSoJbH4+qjyqdBHpbPsYK7ncTF/dQs7lf/t7hnQvgL7fGld17/\n",
       "3scAAAAASUVORK5CYII=\n",
       "\" style=\"display:inline;vertical-align:middle;\" /></a></span></td></tr>\n",
       "<tr><td>&nbsp;</td><td colspan=4 style=\"text-align:left\"><span style=\"font-size:20px;\"><a class=\"ProveItLink\" href=\"../../../../__pv_it/6e8a38e9a7e2b6af352562cd77e0eb4751f142620/expr.ipynb\"><img src=\"data:image/png;base64,iVBORw0KGgoAAAANSUhEUgAAABIAAAAJBAMAAADN8WE8AAAAMFBMVEX///9mZmaYmJgyMjIiIiIQ\n",
       "EBCqqqru7u5ERETMzMyIiIjc3NxUVFR2dna6uroAAAAPJcEmAAAAAXRSTlMAQObYZgAAAGNJREFU\n",
       "CNdj4Luze9UpzlvnGBh4OboY6tcxpDIwTGMxYNh/gUGfgaGg/gFDfgHDCQYGhnwGBhEGhiggS5iB\n",
       "wZeB7zc7A0MsA/s/BkaDbQzc/xjYPjAwX7jAwOfAwCXAwCa0AQBn+hZiKtaxkQAAAABJRU5ErkJg\n",
       "gg==\n",
       "\" style=\"display:inline;vertical-align:middle;\" /></a> : <a class=\"ProveItLink\" href=\"../../../../number/numeral/__pv_it/bcb6bc33e5975ec2290a3272bf7802d26ab8421d0/expr.ipynb\"><img src=\"data:image/png;base64,iVBORw0KGgoAAAANSUhEUgAAAAoAAAAOBAMAAADkjZCYAAAAMFBMVEX///9mZma6urpUVFREREQQ\n",
       "EBDc3NwiIiLu7u6qqqoyMjLMzMyYmJiIiIh2dnYAAADXmt2vAAAAAXRSTlMAQObYZgAAAFFJREFU\n",
       "CNdjYOC785qBgWElQ3sCA08AA98CBhYDBs4fDPwGDEw/GfoFGJj+MuQ/YOAGkgIM3P+gIkBZzp8M\n",
       "LA4MPD+guhgqGVo3MDD03bVmAABi3RThwIkdoQAAAABJRU5ErkJggg==\n",
       "\" style=\"display:inline;vertical-align:middle;\" /></a>, <a class=\"ProveItLink\" href=\"../../../../__pv_it/d3792d0d8642fdf1cd2a3a9b32c673ee13653de00/expr.ipynb\"><img src=\"data:image/png;base64,iVBORw0KGgoAAAANSUhEUgAAAA8AAAAOBAMAAAACpFvcAAAALVBMVEX///8iIiIQEBBERERUVFS6\n",
       "urqIiIjc3NxmZmaqqqru7u6YmJgyMjLMzMwAAACK9jtgAAAAAXRSTlMAQObYZgAAAFtJREFUCNdj\n",
       "YACBOwxQcA5Kc59bAGGs7CuAMDbkBYBp1gXzNoAZSxnuJYAZAQx1DSCa16PDzwCshIGB6QCIMYGB\n",
       "gVEBSLMDGTwPgIxCIGZ+zsCw+N0pBk67hw0AfpEVEQi8t+wAAAAASUVORK5CYII=\n",
       "\" style=\"display:inline;vertical-align:middle;\" /></a> : <a class=\"ProveItLink\" href=\"../__pv_it/30d23d36f0994fc28429b458d9f08265f0433d5f0/expr.ipynb\"><img src=\"data:image/png;base64,iVBORw0KGgoAAAANSUhEUgAAAAwAAAAUBAMAAABL3sEiAAAAMFBMVEX////MzMxUVFR2dna6uroQ\n",
       "EBCqqqqIiIgiIiJmZmYyMjJERETu7u6YmJjc3NwAAACgK8IjAAAAAXRSTlMAQObYZgAAAGNJREFU\n",
       "CNdjYOC7wPaAgYHhNAODHpBax8BwioGBdwIDA3MBAwdQgieA4QVQnGEJQyWIsmTYC6JuMbSBqAyG\n",
       "EBAlD6PAgh4wJZYgajKQDwQLIYY1wIxm2Ae2CGQtkAV0BO8DBgBfVhetSSF8+gAAAABJRU5ErkJg\n",
       "gg==\n",
       "\" style=\"display:inline;vertical-align:middle;\" /></a>, <a class=\"ProveItLink\" href=\"../../../../__pv_it/4d98b438710c5ada9ffa4646bb123a7d0e69ec000/expr.ipynb\"><img src=\"data:image/png;base64,iVBORw0KGgoAAAANSUhEUgAAABAAAAAOBAMAAADUAYG5AAAALVBMVEX///8yMjKqqqoiIiLu7u7c\n",
       "3NyIiIjMzMwQEBC6urpERERmZmZUVFSYmJgAAACsPVCVAAAAAXRSTlMAQObYZgAAAGxJREFUCNdj\n",
       "YGC48+70nlUTGICgi4GB+zmQZn/LwMD5Gshge8rAwPsMyOBqYGDwMAEy+A4wsNs4ABl1Z68tVgBp\n",
       "ygtgYOkBMVaAOCChNyBGAsQYhnMTIMawvwJyGIHGzFjCwMAj92b3qUUMDAAXABxvZ4rl5AAAAABJ\n",
       "RU5ErkJggg==\n",
       "\" style=\"display:inline;vertical-align:middle;\" /></a> : <a class=\"ProveItLink\" href=\"../../../../__pv_it/d3792d0d8642fdf1cd2a3a9b32c673ee13653de00/expr.ipynb\"><img src=\"data:image/png;base64,iVBORw0KGgoAAAANSUhEUgAAAA8AAAAOBAMAAAACpFvcAAAALVBMVEX///8iIiIQEBBERERUVFS6\n",
       "urqIiIjc3NxmZmaqqqru7u6YmJgyMjLMzMwAAACK9jtgAAAAAXRSTlMAQObYZgAAAFtJREFUCNdj\n",
       "YACBOwxQcA5Kc59bAGGs7CuAMDbkBYBp1gXzNoAZSxnuJYAZAQx1DSCa16PDzwCshIGB6QCIMYGB\n",
       "gVEBSLMDGTwPgIxCIGZ+zsCw+N0pBk67hw0AfpEVEQi8t+wAAAAASUVORK5CYII=\n",
       "\" style=\"display:inline;vertical-align:middle;\" /></a></span></td></tr><tr><td><a name=\"-0x5379bba0d9aeeadf_step2\">2</a></td><td>axiom</td><td></td><td><span style=\"font-size:20px;\"> <a class=\"ProveItLink\" href=\"../_axioms_.ipynb#multiConjunctionDef\" style=\"text-decoration: none\">&#x22A2;&nbsp;</a><a class=\"ProveItLink\" href=\"../__pv_it/aff3babe6f8fd741b55a4f01ecf193aae2107d390/expr.ipynb\"><img src=\"data:image/png;base64,iVBORw0KGgoAAAANSUhEUgAAAl8AAAAWBAMAAAAMWeSjAAAAMFBMVEX///8QEBCIiIhmZma6urrM\n",
       "zMxUVFQiIiJERETc3Nzu7u6qqqp2dnaYmJgyMjIAAAAcRTyBAAAAAXRSTlMAQObYZgAABbFJREFU\n",
       "WMPtWF1oHFUUPp3s7N/sbvqgRSnIYsHqS7OwmIKtOlUkIAiJQloR7NIfEEG6Wgj4RyOI3VRkVwQb\n",
       "FM2ECikRdCEPWig0TfuUFlkjSotUFqKW5sGUtI2JksZzf2bmzOyd2WYwT3rg7N4599zz3fvNvefe\n",
       "uQDhsu03iCyphtB/X06pweCzdQjs2FGzV01osucrgRHOt3MIkZNSUV5cY9Mg/59W93dXTIjXlGDp\n",
       "QV7Um5HBWgITQKYZEy4w81wIYW0cQuSaVJR5aq8FTEhSng+qugeg4xakm0qwnIicux4ZzAlcawVk\n",
       "ioQNs9aDIYS1cQiWbEEoK85bpGJW7Z8ruE09/qRKXwGI3QCYUoHBD6L8y1/RwaZ8zSjgFCcsh96Z\n",
       "eghhbRyCJVETivLl4+RF60ctpf+eN5yix59Wacs4wAWAURUYvC5mycRydLBRXzMKOMoJy06Pjx+H\n",
       "EMLaOATLcakojS6T5Ikn8kr/A/c7RY8/rUpuxH7jWHOmAixVFjNGuxkdTAZ2mlFAVCQMliqVt8II\n",
       "a+MQLFuk4py2zpDN8isoq9zTzYRd9PrTqs4S6ANsyhcUYJowPm2sRAeTgZ1mFBCVEXYQYCiUsHCH\n",
       "YPlAKsAXsJe85wtiH/FLpu4sfK8/rdr7ysxRVszy5PzdH0xmbbAkH3ja1Beig4nAbjMKiMoIe1K1\n",
       "51DCHAc1bR5rrLqz2za8KRXAhBF8QbrcOcrwuTLlQcruh/BXVXXVIL0J/w3/vGFACc5BDFI3WJKK\n",
       "BiYDO80oICojLAGa73C5e6epbXIJsx2yN5V7odf6PcBZWbxLKuj7i4cGQS/KFJOHeK8i0Ayfy66/\n",
       "suodNgbkRb/ua82ANvD801/sXgJ4bns0MBHYbUYBURlhmUaCLu7TxYYxOA2PuITZDidWVIT5rN0A\n",
       "ZywfYTEcC77PmCAsYYFeUgTCzNovp6nwV1Utsv7nQwnDn/vwrycamAjsNqOAkrBUs59EunRqHIyZ\n",
       "Dph0CbMdpg+rCPNZXwN4zL8k8QUlNjqETbjHWSpGwTl4Sn9FFTsVwSHTjiVy2O+eJWmgvuoQtmYw\n",
       "Edhp5gGMiSUJQwdwDj767BbtgV6IseVsvPB8nhDGHbBtvqLgy2dN3wJtzpf0U3Vx+JaEXZMd8p8k\n",
       "a2Icjr/dJVrFTkX6kpubvTsMT/qfyqN7TzQwEdhp5gGUSR8mcCDZXY0NL2slyHH+e6d/pIRN8JHG\n",
       "AdNC3H8M5FbyghZm3rPL56SyI1Jy2SaMp36c8pC+jYWvm/bPHrlSHH+7S7Qqh3Nh1zEsdEz6+nFO\n",
       "Hgn4Waxak4Q5YBzDRQwG44HdZh5AVE5YJy7RT7ZCp4mGE4KwjHPOOS8dAH6GLtDP+gljVrpdN0Gz\n",
       "N7AeoSdX58Co/lmQhMUZpMYiDrBelewfPovZadL2t7tEquLzi8WX3ufM+TN5j1hO6eptC75dPSwJ\n",
       "c8E4xkB7MB7YaeYFROWEZRkJ+6CP5YDdlUolb/SmGmVCGHdIz16sWoJ2ugS51ZXkJKT+bv00Iukh\n",
       "xsutOxdP2Dq1yC6pqmAs5NPIZTAC2FhAszGhGeej4G54EEZ0XGF8hsFTeUIYlw4LRnpbCOPW7I4r\n",
       "D58W4TvrEFtu/fgmhN25yC4pJfTj2yVs7WBTEAw4RQhLXUeOL2Ugw8adxS/MST9hzyAbDUZY6hgM\n",
       "W/xn2BJWYxtsNrABPo9Y8OEkPdIOtZwJ7/j6UXZJ/WWjPD8nyXz+JhJY0BmeXO/It1/CneHjaQC2\n",
       "YHt+BSj5CEsuQar6Nj+gbIa+mn4v/vTVpfVgutyBkfrqmSPF7ndVF4isT9sX82sZg9MlhSRDLxCZ\n",
       "fHRkXxSwZMD1GbMna3RJ2qJhDqPPW71X1GxJGs6T/TlWNgoJgzyv+xX15fW6or4cYkfVrppri6d3\n",
       "7SD33oZ8HemSZsYfcp//F684cybrT7z/hdH/A5UGEe+ZDj9KAAAAAElFTkSuQmCC\n",
       "\" style=\"display:inline;vertical-align:middle;\" /></a></span></td></tr>\n",
       "<tr><td>&nbsp;</td><td colspan=4 style-\"text-align:left\"><a class=\"ProveItLink\" href=\"../_axioms_.ipynb#multiConjunctionDef\">proveit.logic.boolean.conjunction.multiConjunctionDef</a></td></tr><tr><td><a name=\"-0x5379bba0d9aeeadf_step3\">3</a></td><td>theorem</td><td></td><td><span style=\"font-size:20px;\"> <a class=\"ProveItLink\" href=\"../../../../number/sets/integer/_proofs_/zeroInNats.ipynb\" style=\"text-decoration: none\">&#x22A2;&nbsp;</a><a class=\"ProveItLink\" href=\"../../../../number/sets/integer/__pv_it/5071f98c61b3ccd585aa2b44bab9dc29aa2d218e0/expr.ipynb\"><img src=\"data:image/png;base64,iVBORw0KGgoAAAANSUhEUgAAADMAAAAPBAMAAAC7N+rPAAAAMFBMVEX///9mZma6urpUVFREREQQ\n",
       "EBDc3NwiIiLu7u6qqqoyMjLMzMyYmJiIiIh2dnYAAADXmt2vAAAAAXRSTlMAQObYZgAAAONJREFU\n",
       "GNNjYOC785oBBXR98WpgePpVgYFhJUN7AqqcD7cBA8cHBgaeAAa+BahS5hvuMjAEMDCwGDBw/gCL\n",
       "8LiXV4EZRh7MGxgKGBj4DRiYfoIEuH0boLrMNnOsAEn1CzAw/QXbDpNhMOO8sBkklf+AgRssZQa3\n",
       "y4zhEc8FkJQAA/c/kIADkhRzgzWSgdxRq4AAKsVhwBUAdgYnyBlsyLoY9nGDHO/AwAN2fACyFM8E\n",
       "ByQvy8KlrIH4GciQSobWDSAB9gkwqZVAzAhS3nfXGizAYaIBkdn+FaiDAyXwmJ5AAwoKAGQvOOyD\n",
       "fUpGAAAAAElFTkSuQmCC\n",
       "\" style=\"display:inline;vertical-align:middle;\" /></a></span></td></tr>\n",
       "<tr><td>&nbsp;</td><td colspan=4 style-\"text-align:left\"><a class=\"ProveItLink\" href=\"../../../../number/sets/integer/_proofs_/zeroInNats.ipynb\">proveit.number.sets.integer.zeroInNats</a></td></tr><tr><td><a name=\"-0x5379bba0d9aeeadf_step4\">4</a></td><td>theorem</td><td></td><td><span style=\"font-size:20px;\"> <a class=\"ProveItLink\" href=\"../../../../core_expr_types/tuples/_proofs_/tuple_len_0_typical_equiv.ipynb\" style=\"text-decoration: none\">&#x22A2;&nbsp;</a><a class=\"ProveItLink\" href=\"../../../../core_expr_types/tuples/__pv_it/8c13a46665def6f076d59ce4b36ab7e5002543480/expr.ipynb\"><img src=\"data:image/png;base64,iVBORw0KGgoAAAANSUhEUgAAAJkAAAAVBAMAAACnAFEqAAAAMFBMVEX///9UVFQQEBCqqqoiIiJm\n",
       "ZmYyMjJERESYmJjc3NyIiIi6urp2dnbu7u7MzMwAAAADGpxCAAAAAXRSTlMAQObYZgAAAatJREFU\n",
       "OMtjeMsAB0hMHAL4Ad8FhtNAirOBeQKQOo0uDRGYQdgcSzDJswGs4zoDgyRO03gL8Jt0qucBA+ME\n",
       "JNMyGRiu4TSNDaiSWRenYWwGvJ4MvAkI0zgCgKwFuExrZWC4ePAvTtOaGBiOAR2IMI0FaDuvAi7T\n",
       "PIGYA7dphQwM9hcYLiFMmwJiZuMwjdMBv2kfGRj2GzCwbYCbthQkehSHaVwBeE3j/Qo0bQEDTwDc\n",
       "tAqQcBvUNJ40MAiAmcbegNc0zj8MDO8XMHAkwE1zBgmb4HAbiwF+04Bue3+AgdkBbpo2SPg9DtOY\n",
       "NhDjU74PVDENFAv2BsimgX26BTXcBIj0KUM5A0P/BQZuB+yxgO42ArEATb1IsXAUJBqDwzRw3HMB\n",
       "TbsP0gAieL8hM1gMePUYGFgPwE3bAtKZh8M0kB9Yhb5FMLD4gvSCQsARxnC5ADTy1MIHwNz6ADVn\n",
       "OeDLWWBgi+FL5gsw1hUScj0EHMAwjQdRLCGVSJX4SiT2CdCUtQDDtFvwVJeAWlpWEiwtOTDjswHG\n",
       "YIeVluvAJTkHiLsOXfU6YkvyTjDJ9QAAefyjssLNpqIAAAAASUVORK5CYII=\n",
       "\" style=\"display:inline;vertical-align:middle;\" /></a></span></td></tr>\n",
       "<tr><td>&nbsp;</td><td colspan=4 style-\"text-align:left\"><a class=\"ProveItLink\" href=\"../../../../core_expr_types/tuples/_proofs_/tuple_len_0_typical_equiv.ipynb\">proveit.core_expr_types.tuples.tuple_len_0_typical_equiv</a></td></tr><tr><td><a name=\"-0x5379bba0d9aeeadf_step5\">5</a></td><td>theorem</td><td></td><td><span style=\"font-size:20px;\"> <a class=\"ProveItLink\" href=\"emptyConjunctionEval.ipynb\" style=\"text-decoration: none\">&#x22A2;&nbsp;</a><a class=\"ProveItLink\" href=\"../__pv_it/560f9d7b26bd59dafe8c0d5b346e799351dd8cc70/expr.ipynb\"><img src=\"data:image/png;base64,iVBORw0KGgoAAAANSUhEUgAAAFYAAAAUBAMAAADl6NejAAAAMFBMVEX///8QEBCYmJiqqqpUVFTu\n",
       "7u5ERERmZmbc3NwiIiK6urp2dnbMzMwyMjKIiIgAAADRdxPqAAAAAXRSTlMAQObYZgAAAPFJREFU\n",
       "KM9jeHuHAQJ0Z4GpJgYLBlxgFyqLNYGBpQFdTeVMEJgCUdEAV8vbwMB6AYuRdnAV1+EsdSDeh08t\n",
       "T2YATO0MIA7Ep5Zl3QMoi2MCyB0L8KiNZZgAZfEVAAnuAjxqNwMhhMWmACSYwJ7bexcErqOrncDQ\n",
       "C2VxGgAJ5gm4zWV6wMByAKKWEeRUng+41XIGMPA4EKnWHEjdQHID1wSEe6+gqQWqA6lH8xtWc3kS\n",
       "GMDu2AULLvYNONWygNzI9wCsFmw97wFMtYsgarnAnAOIOI4kMk3iSjvY1LLhSJM40jpbAy61L2F5\n",
       "6C0sD2ngUgoAUTxXQbIhWYQAAAAASUVORK5CYII=\n",
       "\" style=\"display:inline;vertical-align:middle;\" /></a></span></td></tr>\n",
       "<tr><td>&nbsp;</td><td colspan=4 style-\"text-align:left\"><a class=\"ProveItLink\" href=\"emptyConjunctionEval.ipynb\">proveit.logic.boolean.conjunction.emptyConjunctionEval</a></td></tr><tr><td colspan=4 style=\"text-align:left\"><sup>*</sup>equality replacement requirements</td></tr></table>"
      ],
      "text/plain": [
       "\tstep type\trequirements\tstatement\n",
       "0\tgeneralizaton\t1\t|- forall_{A in BOOLEANS} ([and](A) = (TRUE and A))\n",
       "1\tinstantiation\t2, 3, 4, 5*\t|- [and](A) = (TRUE and A)\n",
       "\tm : 0, A : (), B : A\n",
       "2\taxiom\t\t|- forall_{m in Naturals} [forall_{A_{1}, ..A_{_a}.., A_{m}, B} ((A_{1} and ..A_{_a}.. and A_{m} and B) = ((A_{1} and ..A_{_a}.. and A_{m}) and B))]\n",
       "\tproveit.logic.boolean.conjunction.multiConjunctionDef\n",
       "3\ttheorem\t\t|- 0 in Naturals\n",
       "\tproveit.number.sets.integer.zeroInNats\n",
       "4\ttheorem\t\t|- |()| = |(1, ..a.., 0)|\n",
       "\tproveit.core_expr_types.tuples.tuple_len_0_typical_equiv\n",
       "5\ttheorem\t\t|- [and]() = TRUE\n",
       "\tproveit.logic.boolean.conjunction.emptyConjunctionEval"
      ]
     },
     "execution_count": 5,
     "metadata": {},
     "output_type": "execute_result"
    }
   ],
   "source": [
    "%qed"
   ]
  },
  {
   "cell_type": "code",
   "execution_count": null,
   "metadata": {},
   "outputs": [],
   "source": []
  }
 ],
 "metadata": {
  "kernelspec": {
   "display_name": "Python 3",
   "language": "python",
   "name": "python3"
  }
 },
 "nbformat": 4,
 "nbformat_minor": 0
}
