{
 "cells": [
  {
   "cell_type": "markdown",
   "metadata": {},
   "source": [
    "Proof of <a class=\"ProveItLink\" href=\"../../../../_context_.ipynb\">proveit</a>.<a class=\"ProveItLink\" href=\"../../../_context_.ipynb\">logic</a>.<a class=\"ProveItLink\" href=\"../../_context_.ipynb\">boolean</a>.<a class=\"ProveItLink\" href=\"../_context_.ipynb\">conjunction</a>.<a class=\"ProveItLink\" href=\"../_theorems_.ipynb#someFromAnd\">someFromAnd</a> theorem\n",
    "========"
   ]
  },
  {
   "cell_type": "code",
   "execution_count": 1,
   "metadata": {},
   "outputs": [],
   "source": [
    "import proveit\n",
    "context = proveit.Context('..') # the theorem's context is in the parent directory"
   ]
  },
  {
   "cell_type": "code",
   "execution_count": 2,
   "metadata": {},
   "outputs": [
    {
     "name": "stdout",
     "output_type": "stream",
     "text": [
      "Beginning proof of someFromAnd\n",
      "Recorded 'presuming' information\n"
     ]
    },
    {
     "name": "stdout",
     "output_type": "stream",
     "text": [
      "Presuming previous theorems (applied transitively).\n"
     ]
    },
    {
     "data": {
      "text/html": [
       "<strong id=\"someFromAnd\">someFromAnd:</strong> <a class=\"ProveItLink\" href=\"../__pv_it/d55c3553be96f90662c6d012882d104df58683570/expr.ipynb\"><img src=\"data:image/png;base64,iVBORw0KGgoAAAANSUhEUgAAAuwAAAAZBAMAAACYzmZMAAAAMFBMVEX///8QEBCIiIhmZma6urrM\n",
       "zMxUVFQiIiJERETc3Nzu7u6qqqp2dnaYmJgyMjIAAAAcRTyBAAAAAXRSTlMAQObYZgAABxxJREFU\n",
       "aN7tWmtsFFUU/jr7nN2dtj8QQTRZwUgxapuUFANFFoniH8PSRMBAwoZHbIjKRgwlFHQxCAtIuvpD\n",
       "GhJhkURIFdzYNJEE4kLxVdSsBQxGCav4B//YUKg8RL33ztx53JmhbUZjNuEknb3z7bnn3PnunXPO\n",
       "vVvAqzzflsMdGY342zZ4N5K+w+Oo5Z07tI9K5JJXC0dU2sv047wn2j2bqBw5SP6+/3t5UzYx4i7K\n",
       "6qHG1s36bTDHaD9F2795ot2zicqRS/QyDvBdNTCX1CbzRlUGmJXkd5Eyo72TamQ80e7ZRMWI0kAu\n",
       "gVskKw4a4EVn3eoGrbGUBKZ5DTp+gtFenQdiBU+0ezZRMRKiK1u6Tvi/rGOBrXlH3UXrtUY96XQh\n",
       "ruP7GO1KX1fXLm8p1bOJihH2lOFawt16I1g/EXfUXTFRa2wikeVuY2qqE6ySuZbNbvBGu2cTFSOT\n",
       "6KUmhcBag8bDzrVcpBzSWkPAwlXGF7EGRvtKYJtH2r2aqBjZyWL1i/1bTSH1lFpSiBIraHE3MHS+\n",
       "rt2cH8qM9jk0uUZWe6F9jpqf3cgP81zv72huclCxweeWF6c45LMtzZJeNfh5w2W+dfjpwd7W3PAu\n",
       "LcZd0XYtVkfGEjoz/Pn3OKYByConNBXsSxlfRNOM9hAkkmrnqtjC5oQ0VjAQWHMS96dckTQ3QUZ5\n",
       "xZGCC3qR+x1w3EFBgPfEcbDWXpD9gsgmYyo5Mc4uDVipRax2WJdW467oGC1Wo74QaFRjixJHMOkw\n",
       "gn4WBLRUIN00kTfAaI+VaBDqJdHoaGMpmunDdHPvD3pn4pNY3pd3RdLcBLD/lmOUm6Vv7ZqATx3y\n",
       "vhWWCWWKvR7dSybvnI12Z5cm2JdC9MZwLgXjrugYLVajPg6/Snsoj0DKYQQk5y6AlgogXbbRLpcX\n",
       "qFHr3JEuRPt9KJpXzY7deRyLN8TckTQ3AfStcYxyB/Si9WXgcQcNKxwiAwjYqwOatFtstDu7NMGh\n",
       "OHzl4VwKxl3Rdq1sx+oEp72bb6KsEiXPXJ3jZXvQ9E761SCDbSvI5Tr8lJzo4ufilPbTZyc2TFxJ\n",
       "ozaRnp63KcnKzJZJVkQ/k2EmCFdZJwpawnzpRq5CctjNCnA9WYUR2zsh0SXbJdLu4tIEf5TEo/nh\n",
       "XArGXdGdWqwOXAOn/ZJGvbhZyqnUq2X70ozOKE+p6Cb9A7WoZpOU7DtLaT9zH8bmH4R63NITO7SE\n",
       "6s8uVeUsiE57NxtCENPIxfaMKV8au1ic8V/u30I+Von5TYW5rFM/BK2QNexotLu4pLC8kTXnPVKX\n",
       "sqsILjXjglbIFul6KaEkVs/ezmlniTVEF8pfdI7LWgOLtEAD/ExUx+V1RuErqrTXkBdaymC/SnuM\n",
       "1pXye2lcQTMibL56UKT+dk9GTd6C6LTXsJjwI+oROC5yoBSkAYRZ1omVIaWx5B4xCjFYlz/ZVdSq\n",
       "KTrR7uySwXiDNb8FJttVBJeqcVFLcAlWeAR/H2ps3QFOe5CWCxJ9/LWU/5TWAHv96YbpJXpwVtAZ\n",
       "JdOWVGlXiLNwHAuz2Ww8mpRL1FwwTtZ/OwLrstnXCcnvspS5DLMFhNNOTSBy8euOPJt5ixxu/vIG\n",
       "qlSuipBvaovATKEKmyPqIZsWjfiRkkC7i0sVVuuXN0lmLNhUBJeacUFLcMkPB0wxmhey9lKGFW8B\n",
       "8wuoMgocgHHeXvUseTHZaseTdOqqklJGHkgipa5tP0ssd6E5YEU47WrNkMfepJ2D6ZCvstMysnwK\n",
       "8F+3067Cp4+dXvwZvX2M/BVtWj7yNsegzDhfNNHu4pLB2uEcIXdezqYiuFSNi1qCS34UZqF9xMIZ\n",
       "1Y7CtGFIiNEpUxJQivJ27CWzo2SKYIM6A/yEzrw8gFd6TIhI+zPEDFsxpD/R1i5+slxuUe1OwkUe\n",
       "b6mEGt/r8MflqsJR2jdUwoc5u9ZGRL5CtE7zF7a6tKoyWClSY/INyPfCOirBpW7cpmV1KWzOoqOj\n",
       "nTOqHfxqE3sSoAFr7q8kBQYm4CmSiuUX8giTDa7/1QR5FeYX/Ck8XDIhAu3ha5A7NrI6dgLm5wLj\n",
       "6WUCOjLo/KM0FcRA7LXGps1qpplfUL8fb8DB5AFMpX3xefNDdi3Elp8g9K7UNodhq0uLqgr7EtTY\n",
       "F4ONrQlYRyW4NIwLWoJL/jOHtruYNhQfDe06ozlYf9STSGzXJtIA60gkV6VgQ4TVDr59MPXnrXTB\n",
       "MMDCh3GoUdB3091ULXp7rbR0xlK3c5d21VDUNBDrqASXxr2jFnfJyPb8o94PgNtvqUccsGjO/UzG\n",
       "XDHXzzD3560TOcNAy2DBZE1vvY8HsCyn93DWiqSi34i0M5d21dgUw711VKJLfu+spbv8F8WZdqcp\n",
       "VTAi2oX+JRcDiqvd0oi0LKvdXbXkaFm53aOVhn3g/4z2UUnb//J/Mr4KPj72t639B6EJeu6RKMjK\n",
       "AAAAAElFTkSuQmCC\n",
       "\" style=\"display:inline;vertical-align:middle;\" /></a><br>(see <a class=\"ProveItLink\" href=\"../__pv_it/d55c3553be96f90662c6d012882d104df58683570/dependencies.ipynb\">dependencies</a>)<br>"
      ],
      "text/plain": [
       "someFromAnd: forall_{l in Naturals, m in Naturals, n in Naturals} [forall_{A_{1}, ..A_{_a}.., A_{l}, B_{1}, ..B_{_a}.., B_{m}, C_{1}, ..C_{_a}.., C_{n} | A_{1}, ..A_{_a}.., A_{l}, B_{1}, ..B_{_a}.., B_{m}, C_{1}, ..C_{_a}.., C_{n}} (B_{1} and ..B_{_a}.. and B_{m})]"
      ]
     },
     "execution_count": 2,
     "metadata": {},
     "output_type": "execute_result"
    }
   ],
   "source": [
    "%proving someFromAnd presuming []"
   ]
  },
  {
   "cell_type": "code",
   "execution_count": null,
   "metadata": {},
   "outputs": [],
   "source": []
  }
 ],
 "metadata": {
  "kernelspec": {
   "display_name": "Python 3",
   "language": "python",
   "name": "python3"
  }
 },
 "nbformat": 4,
 "nbformat_minor": 0
}
