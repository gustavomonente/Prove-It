{
 "cells": [
  {
   "cell_type": "markdown",
   "metadata": {},
   "source": [
    "Proof of <a class=\"ProveItLink\" href=\"../../../../_context_.ipynb\">proveit</a>.<a class=\"ProveItLink\" href=\"../../../_context_.ipynb\">logic</a>.<a class=\"ProveItLink\" href=\"../../_context_.ipynb\">boolean</a>.<a class=\"ProveItLink\" href=\"../_context_.ipynb\">conjunction</a>.<a class=\"ProveItLink\" href=\"../_theorems_.ipynb#andIfAll\">andIfAll</a> theorem\n",
    "========"
   ]
  },
  {
   "cell_type": "code",
   "execution_count": 1,
   "metadata": {},
   "outputs": [],
   "source": [
    "import proveit\n",
    "context = proveit.Context('..') # the theorem's context is in the parent directory"
   ]
  },
  {
   "cell_type": "code",
   "execution_count": 2,
   "metadata": {},
   "outputs": [
    {
     "name": "stdout",
     "output_type": "stream",
     "text": [
      "Beginning proof of andIfAll\n",
      "Recorded 'presuming' information\n"
     ]
    },
    {
     "name": "stdout",
     "output_type": "stream",
     "text": [
      "Presuming previous theorems (applied transitively).\n"
     ]
    },
    {
     "data": {
      "text/html": [
       "<strong id=\"andIfAll\">andIfAll:</strong> <a class=\"ProveItLink\" href=\"../__pv_it/40f1b364b199531b9d8f4bbf6e7e8977213cff1a0/expr.ipynb\"><img src=\"data:image/png;base64,iVBORw0KGgoAAAANSUhEUgAAAZAAAAAZBAMAAADtWWVbAAAAMFBMVEX///8QEBCIiIhmZma6urrM\n",
       "zMxUVFQiIiJERETc3Nzu7u6qqqp2dnaYmJgyMjIAAAAcRTyBAAAAAXRSTlMAQObYZgAABAJJREFU\n",
       "WMPtmE1oE0EUx/9Ns0k2yUYPKmgvQUW9NVChUBWjIp6E2IMfKFqqXrwYECx+QW5GRZqTFg82UrFS\n",
       "QYM9CYpVESR6WBShImJAL3qx4EerUHW+djLZTHatET/AB93dvvxn9/125r2ZWcDbQn2H8PdbsO+o\n",
       "nySMf8PO/Af5VWbazd7hBgep0NMLLxAfRZN2mZ92zrCZog8VGMhDev3WC8RH0aS94ad3qq/QoPOU\n",
       "a0UfrTCQAarIeYH4KJozK8VP74qK85Vem0hVm6n6uwwkQTzxkheIj6I5C/O3f2W10gvG8aJWu/Ww\n",
       "vKzRX2AgVnlk5KxnsvsomjNxY7s9rQz6tUmtds9CeVmjT6RZ1ZrK5496Vy1vRXO2iE9oxdtK8bqK\n",
       "rE4arcgSWquPpxjIXuCEN4hU6HWRmtxMa70NxMBpdryIXaQTDJGID3l9cVu8JAc418uEqTCQdTzt\n",
       "FduyMh2Yp4A4CuuDNraXafW/nNbbQAwcEfSDKRgdoiOyOK9/p2ZFvq3BauIjlmUgYQSUbore7LBj\n",
       "uTK6FBBHMTSt7fHVtgbE5W0gBuaw7N7dsZ+0C3IQK4lQRtP2MRsbil4WhwkGErfV2Xv8xghij1sx\n",
       "poA4ivIBbY8PpzQgLm8DsQAJAi0VCRIuwujRtCU1a7NIEa53gZgV8rO1qntRYEkGQfqc2PZtSRWE\n",
       "KYg+mdfF1h3JaUBc3gZiMbTI0A/PliCj1WlStRgJLcEzjOudmFk7utY6sYeArLFb9gV6kGBNMuWn\n",
       "KghTkKqITnKoK/E9rVkNCPPug4+YJ7tJAktMSJA3AsY9HRY4jNQ7MTvJjlHS/txSzEq3jmGIg8Tj\n",
       "KRVklD3hOdph3HGDWKXARD0I8+5YAB8xcE/MJZHPDgirXWR4IfoV4nCNjqOtYnhJvRMz6B8FmUUr\n",
       "WS82IVzClnw+n4xlTDurgjBF9NWj/iJ7Qo1dXfngSz0I9x6GjxjYQJaN394i1j+ZEiAhWtcC9IkH\n",
       "IQ5hmjJsVNApUepFzEhkOIhFY5uLZRg0yPBhPYL1SRWEKVqLGMzUg3TB/Ignt55sv6+CMG89iFss\n",
       "lyg8h7Mik4nVly1Wtw3VI2LGsLIfMScI33gccXoDKw1rrG4/spH0jE1BzJMYKDqHICmn07heaSnd\n",
       "VEC4l4J4i+WiUc4HM9nJiJjFolG8jB6SY2fKwCna3a9JVrpBIlMw+4+x2tiGTQVjPj20oT+HgUk7\n",
       "lBnGcgWEeymIt7hmtWB2fkrOaKMuYhbLeJcFSI547RDp0IpV36FUjSJbqpnZndT0FFc3Vk1YpPAT\n",
       "W12jfYXYW1Z3mcQuYTF6C26Q7vclH/Ev2eo+++k9u625qltr/ZD4d358mOl3rdSf+a518DvWP0aR\n",
       "eRXOVAAAAABJRU5ErkJggg==\n",
       "\" style=\"display:inline;vertical-align:middle;\" /></a><br>(see <a class=\"ProveItLink\" href=\"../__pv_it/40f1b364b199531b9d8f4bbf6e7e8977213cff1a0/dependencies.ipynb\">dependencies</a>)<br>"
      ],
      "text/plain": [
       "andIfAll: forall_{m in Naturals} [forall_{A_{1}, ..A_{_a}.., A_{m} | A_{1}, ..A_{_a}.., A_{m}} (A_{1} and ..A_{_a}.. and A_{m})]"
      ]
     },
     "execution_count": 2,
     "metadata": {},
     "output_type": "execute_result"
    }
   ],
   "source": [
    "%proving andIfAll presuming []"
   ]
  },
  {
   "cell_type": "code",
   "execution_count": null,
   "metadata": {},
   "outputs": [],
   "source": []
  }
 ],
 "metadata": {
  "kernelspec": {
   "display_name": "Python 3",
   "language": "python",
   "name": "python3"
  }
 },
 "nbformat": 4,
 "nbformat_minor": 0
}
