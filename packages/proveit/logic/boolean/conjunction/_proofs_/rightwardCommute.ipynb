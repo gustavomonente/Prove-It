{
 "cells": [
  {
   "cell_type": "markdown",
   "metadata": {},
   "source": [
    "Proof of <a class=\"ProveItLink\" href=\"../../../../_context_.ipynb\">proveit</a>.<a class=\"ProveItLink\" href=\"../../../_context_.ipynb\">logic</a>.<a class=\"ProveItLink\" href=\"../../_context_.ipynb\">boolean</a>.<a class=\"ProveItLink\" href=\"../_context_.ipynb\">conjunction</a>.<a class=\"ProveItLink\" href=\"../_theorems_.ipynb#rightwardCommute\">rightwardCommute</a> theorem\n",
    "========"
   ]
  },
  {
   "cell_type": "code",
   "execution_count": 1,
   "metadata": {},
   "outputs": [],
   "source": [
    "import proveit\n",
    "context = proveit.Context('..') # the theorem's context is in the parent directory"
   ]
  },
  {
   "cell_type": "code",
   "execution_count": 2,
   "metadata": {},
   "outputs": [
    {
     "name": "stdout",
     "output_type": "stream",
     "text": [
      "Beginning proof of rightwardCommute\n",
      "Recorded 'presuming' information\n"
     ]
    },
    {
     "name": "stdout",
     "output_type": "stream",
     "text": [
      "Presuming previous theorems (applied transitively).\n"
     ]
    },
    {
     "data": {
      "text/html": [
       "<strong id=\"rightwardCommute\">rightwardCommute:</strong> <a class=\"ProveItLink\" href=\"../__pv_it/a5413f0c76f192984dc0244016be52d09d3260430/expr.ipynb\"><img src=\"data:image/png;base64,iVBORw0KGgoAAAANSUhEUgAABFsAAAAZBAMAAAAcUTxPAAAAMFBMVEX///8QEBCIiIhmZma6urrM\n",
       "zMxUVFQiIiJERETc3Nzu7u6qqqp2dnaYmJgyMjIAAAAcRTyBAAAAAXRSTlMAQObYZgAACapJREFU\n",
       "aN7tW22MXFUZfvfO552Zu7s/ClKLcSgGFiPsmtXFlMVONVr+mM7WSGsgdtKltTRIJ2JoU6wdFOsi\n",
       "kh39IQ2J3Ys1shZbR5qNkrRhYPFrURnbkjSR2kXwR/nTTT+Wforv+bz3fAy9kzGazfZNeufsM899\n",
       "znvP+973nHPvFKBd++rmKly1+WDLN9fbFylfHcf5Ym7parq0P4iNeXCR2SpLl2nyx7G20qVtiblt\n",
       "4+zjKy2eZuNneoa/5kav+M3p3qbZ/g2P6di59SP3R3dQ5d/P0uVV0n6nrXRpW2Ju2wn2cTKMNVnO\n",
       "uaH2SQv7hgZkP96wsa0qKl1R6qgALC2qWBfe18dr0Z1U+PtYuuwkH5W20qVtiTltXh/7OOmHwLfs\n",
       "3M6+4LQQX7DHt+JhadXCtqpodKXfNZhFK/o0LA8Q647upMLP5Wm6dKLXuVpb6dK2xJy2FIvXc+G4\n",
       "Jb7nW7mrt8pmiC/Zb5LPZTa2VUWjK/32ovrxvIZhtYlfju6kws9003Txpvbseaq9pW7bEnPa+JU3\n",
       "egsBlvxM3sq9b7FshviCHbtIjl+0sW0qOl3p91EM8Ad8FRsls8Cl6E6q/LfZzujcyMg329wZtSsx\n",
       "p+1Geoz7L4YWEfvs+8XMdEo0w3zBHqMfv7CwrSoaXe13FmDVRg07R/qdje6kyp9k6bIO4PE206Vd\n",
       "iTltT9Ljz+hML+xVtvzXLVeTc3aYL9iv5ZuxrfhrZnGQ/SZmj/U8omOn8OBciuykxv8HS5fPYj5B\n",
       "ZlM76UIliNmTJi1m6fjo4ACnHB2u32IyVTQ++sCARVGD40Y3qknqXacnNzCKt2PQMckaetesoCtm\n",
       "wCwqBRjDFWKiIsZkl3WZA+40b1I+H3XB3l7kca3obKuKoCux4P065wGeKWnYWTIDnYnspOBz+w1L\n",
       "lxQ4WBaXM2zVYMG5Vjs/8dArcEOpKVIWEjjgZ6wBOy5n6b8BvEQbu/Iw3m0QdRTpQ5aIqXDa7EZJ\n",
       "AumT1w05qu7+EzKPmvtHDUV6YqFFT4cX0BEZ7t9UgUQ/K+9eHpJFiy+HaCEO+GzUJfvDdK3hC5WA\n",
       "bVfh9LBvst80XqhzUcNmyOa4O7KTnC/3VSxdco0Um5kyB/ob2coULAmf/NzknfDbnB/zmyJlIQGw\n",
       "+7J1MlwqZ+kBgBfJeS7G0DO23gaK9GTJFFThtNlN2AKfYiXIXqCTPubVUYOoo0iH9aaeAS/gJa4D\n",
       "78k4i0TKh4TFb8Atx92yJBL+pMLeTg7ZolAJ2HYVQQ8VBtlvF344pzSMDO3xRmQnBV9NF3f6bjYD\n",
       "H31hD2QPxSD8mNB74mkfDub7cs2RspAAmHrIOhk+K58ffB3g09RV7CNhTL0GinTHshxT4bTZTdgC\n",
       "n1J5iNEyS5blKw2ijiIdbrbUah2mkxHO9qlumS77g4d3Ycuig52sLHL+kwqbbq1zQiXEtqsIemBB\n",
       "v+SxC5tHQhh6nrkuupOCz205f2f0+H14OA9xMtrZe76cJ+ly+PXFfYvXkVUJ2sTEj4hX3p0rb1QR\n",
       "kS5MAkM9YgvYyrSoGJmz4NCnv71YYjLGrl9Hkc6nD7VaqXDa6EaZNwOfflWE24i6Q0rMHp1ooEjn\n",
       "M6diBkxC7mL4O2dkJE7waOjPv6osGgH/vMIeI7fKlFAJ2E1UOJ2ExbmpqPZLHrusqWgYcvZNR3eS\n",
       "81nY5VIX9uPpiW7oZLVt6nWSLkc+BNf6NwF7HTSR23svSZdljY6qgsh02U89SMLteDCyoBQrw1O0\n",
       "psVPHdpBoS3sm40qcYu+psUBTU4bihzW04V0oysyn9xttLni1h5afFMsrTTZlJ5sK/Dfg6YihwOb\n",
       "5M9e0udFJOhaMkVy/98kv6bFYTWv9ZKf6A6zIYvz5n5fqEi2VKGNAOd0EpaNTklRgjdR5TpfxU4i\n",
       "RkptVCc5n4UdYJCnSxdmqVOB3SxdcjlMLfenZTiDhAxNswmokzF5+mbo8hVEpksXnUL+Dr2QeElP\n",
       "F6/mzECaZn9ums8ibHd27wdV5iV9FkP3O+qGIoP1dKHd6IrMJ/gubf6VzyJd9FxdtquunYl0uN5U\n",
       "ZHDIsEiPv/cOZEff7eORSJI1t0OG5GESkpI40BJMnoEJvlNR2LB7x3BBxlOyA5WHVZzRSVgKsbqi\n",
       "9OB7wwMjNdCx9d+pSvkrOin4NOz49794unj4RzoPq0ZGRvLZotsgask8Zv4jkNgyMvJtTI6f0KXs\n",
       "WlimISJdiARk3vrzqM8zOfzoaPCPF6CDRbYO7kWxTtjLk1hdPewNb8BxDH4NhiKHtXSh3eiK3Cc2\n",
       "c/0A63eNL5EyDV2Wo4EhPdttKnLYeAnACl852Nqbuw66c0uEryRvZTMVg91MZS0MQarWpF8L1qKT\n",
       "NOw4NuXQ7106voRlmy20P0euoaPoVNyZIpRYLYnTNeA1MJhQEZEubM/gw1jRTJcl4J6lbyHxDq5B\n",
       "nE7Xn8J/dSMUDD188PA9vxP0zAIzXRjs3XGsHk4X2o0RXOoTf/2JibqChDZWoStETZahqPrJA0VB\n",
       "f6ZgKjL48ME3ZPXs0yMR2XDUbdaiyjXQA2OJ6PwW5VnYxStGHgIHcmSUvAJ4dff7MIb1xavUgcbt\n",
       "CMAbsNN3Z+AbEyFET5cvoAy9afF8ZPNDHO/Yy4S9EyPnww/r5OtUA35ZpaGQRIk+P91RO0Dpa3zY\n",
       "VaBxDeQknO3hPbN0Yd0oioRLffJon+4FcK+nutsg8ydTlqLZ22BRltITSH+bTuPK5XD4+UrKfA6I\n",
       "d1trkcBRt1lrKhiWtXA0F/2EFp1kYRc/YOD31isAT5CJGIeilFgEn8cVsvuAD2kscvFvFbD0DNXi\n",
       "JfhYI4Ro6ZI+B+7oNrqdXwRD1cRCclgEoxXY+W7jE4ACue39A48B+Rp+P/hRtqIaqjHiQokmi8+C\n",
       "pC9h6zHJCsHr+NNJli6sG0URW8ynWIH0+YfT/RsK5GvIDb/sG7IcXZcpS/qwT31ULofDyeJqOZ7j\n",
       "wcjePptvJRJk1C3xaU0Fw3ICfjwVPfwtOsnCTm8K5ceXDq5deP4FYA+uVEA8KtAQrbrIR0Wh80Wr\n",
       "XAsEgq+3ggVN4fZOoRPF4OWJbJWdI+pTXUNRtFLZsEu195UtZ/tU+lbb5aCTt8pnyPPix5deFZr+\n",
       "VvcFWwmrNn9nFH7O0XtH+HzRerkaEhDgytM1C/pz+AisDdGJYsCSrUwp+xcjXVRF0crdEnJJgHbZ\n",
       "TMkpJMN0omheDjp5YD4kiV6Y7OliGwkPIqWLdn7DJtCAK6F6f977uJFu6qhnc8mLJNu44uXMR/tv\n",
       "/E+Azf/n/2cUg6v2v7Hlm0v/AeBucq2+eZwtAAAAAElFTkSuQmCC\n",
       "\" style=\"display:inline;vertical-align:middle;\" /></a><br>(see <a class=\"ProveItLink\" href=\"../__pv_it/a5413f0c76f192984dc0244016be52d09d3260430/dependencies.ipynb\">dependencies</a>)<br>"
      ],
      "text/plain": [
       "rightwardCommute: forall_{l in Naturals, m in Naturals, n in Naturals} [forall_{A_{1}, ..A_{_a}.., A_{l}, B, C_{1}, ..C_{_a}.., C_{m}, D_{1}, ..D_{_a}.., D_{n} | A_{1}, ..A_{_a}.., A_{l}, B, C_{1}, ..C_{_a}.., C_{m}, D_{1}, ..D_{_a}.., D_{n}} (A_{1} and ..A_{_a}.. and A_{l} and C_{1} and ..C_{_a}.. and C_{m} and B and D_{1} and ..D_{_a}.. and D_{n})]"
      ]
     },
     "execution_count": 2,
     "metadata": {},
     "output_type": "execute_result"
    }
   ],
   "source": [
    "%proving rightwardCommute presuming []"
   ]
  },
  {
   "cell_type": "code",
   "execution_count": null,
   "metadata": {},
   "outputs": [],
   "source": []
  }
 ],
 "metadata": {
  "kernelspec": {
   "display_name": "Python 3",
   "language": "python",
   "name": "python3"
  }
 },
 "nbformat": 4,
 "nbformat_minor": 0
}
