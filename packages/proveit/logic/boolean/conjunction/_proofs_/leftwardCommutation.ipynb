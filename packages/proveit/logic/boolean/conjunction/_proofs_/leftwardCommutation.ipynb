{
 "cells": [
  {
   "cell_type": "markdown",
   "metadata": {},
   "source": [
    "Proof of <a class=\"ProveItLink\" href=\"../../../../_context_.ipynb\">proveit</a>.<a class=\"ProveItLink\" href=\"../../../_context_.ipynb\">logic</a>.<a class=\"ProveItLink\" href=\"../../_context_.ipynb\">boolean</a>.<a class=\"ProveItLink\" href=\"../_context_.ipynb\">conjunction</a>.<a class=\"ProveItLink\" href=\"../_theorems_.ipynb#leftwardCommutation\">leftwardCommutation</a> theorem\n",
    "========"
   ]
  },
  {
   "cell_type": "code",
   "execution_count": 1,
   "metadata": {},
   "outputs": [],
   "source": [
    "import proveit\n",
    "context = proveit.Context('..') # the theorem's context is in the parent directory"
   ]
  },
  {
   "cell_type": "code",
   "execution_count": 2,
   "metadata": {},
   "outputs": [
    {
     "name": "stdout",
     "output_type": "stream",
     "text": [
      "Beginning proof of leftwardCommutation\n",
      "Recorded 'presuming' information\n"
     ]
    },
    {
     "name": "stdout",
     "output_type": "stream",
     "text": [
      "Presuming previous theorems (applied transitively).\n"
     ]
    },
    {
     "data": {
      "text/html": [
       "<strong id=\"leftwardCommutation\">leftwardCommutation:</strong> <a class=\"ProveItLink\" href=\"../__pv_it/4bc9291228cbe5ae2e23bb5be71aa15eb288d1560/expr.ipynb\"><img src=\"data:image/png;base64,iVBORw0KGgoAAAANSUhEUgAABEEAAAAyBAMAAABBttibAAAAMFBMVEX///8QEBCIiIhmZma6urrM\n",
       "zMxUVFQiIiJERETc3Nzu7u6qqqp2dnaYmJgyMjIAAAAcRTyBAAAAAXRSTlMAQObYZgAADcdJREFU\n",
       "eNrtXX+MXEUd/97bX7e/7u4PqUUoPkoCxQi3zeG1SEkXiZRoSLcQAaOxG0qbSoCeniFYfnQBLQeI\n",
       "t0qUApZ7BVMrCD1sGmkCYbGo8cR2bYtioNxh0QQS6dmWo1cs5/x+M7PzfqzbP5q7N4S3b2c+83mz\n",
       "M983850fnx5Aq6FtaqoG0yu8AjM9bKYfuamprtbJ2nY84kyv6snVZryFxMfIR+aRx06EhZSmW/Wc\n",
       "DVF4i30mIgtpDFlRKen6TDCGHabI9lpkIZ5hU5HfbaEf32iSwIDPr5noWf298BR/nVrRO1A0p2Xm\n",
       "rbgpXdPg61evr4anz685umrgm+xL0pQx84nIQjzDPeLuXfpxUE71aIe0dH/QgG6rACwuBbG48bMB\n",
       "Yh+Yk86sQ3Z+XX3ox6jVPzKXxsjRifyM0WFmDGMm6HORhXgOMsfEm1agHwdlT/yAOVdHwX1BJbxA\n",
       "L0dNurQQxCLiE8eRt3jYmLRlLbosrioPTRxCl/nG0hg5YLmNLJA3/m9N0FQtshCPkBK1m6Kv3NOL\n",
       "pTc+ca954nbtWnEr4V10N4obtYNYRLw1iSztkDHpbfx5ifpQC3c3S+um0hg5oBs1Wvw4H1aNL8pk\n",
       "ZCEeYVS078P0o94tOQTJL9jGXNfPFbcS3kXfhXrzTzpBLCK+HTXMprWmpBgZTK5SH9o+ji5DNVNp\n",
       "jPQwiIei//Iex+jw9EcW4hFuFXdn0aUB5yVpSvMs9Bm9x7GUWEqQ8C56AuCaG4JY3PjOMiRucUxJ\n",
       "Q+Tjl+pDOyu4DykbSmOmh6O4oBN8/cc4Jo06kYWYe+Ij4vZBcv05GbQTFRr3J/SfIeSGc8zvo/jM\n",
       "GhWdmNg/7zbc/fuyuPHLb9pz77AxabdteCguIXTXOL1UGjM98Vss3ofkiau6630cXAdpqx1ZiDHE\n",
       "3Cq5jVyLMFSARA97+/rgcaPzAmk+IyB4WKKisV+xqQxXLfBlceOR25KZZUxaVzI8FLsVsKbI6aXS\n",
       "mOmJ35Lk70LW2KF1jEUWYv45oq8GsiSQWNGzBvUfcVqLeRuSpt+7B2Alez0pfqeKxn6F9RE3HC8W\n",
       "N/4u3OzDpqRPk87fUR+K3Qr4D6eXEjzoid/SyRs/MW6qCGsyshBjWF5XLSSOfuGYsJCUA4myIRdy\n",
       "Kq9mbgjFP6iikV8B1iHehF4sbjx2EbptU9I68taX1IdityJ/XFiIm+BBT/yW0bqvhaSPRxZiDN1V\n",
       "dZRBL3KqS1jINncdTZkaonGlg2Zk+EkVje0O9+pL/FjceLwcgkaN/MVXnmWdXVKSyFQ6pz6UuBWb\n",
       "KpxeKo2ZnvgtmdmA+YH/NuqH/MuFz4osxBjuAsVTTaMW7xgXFvIuq2h9zK7SdhF4WrEuGtvdctGE\n",
       "HixuPO7hE0chf0m97QarrCQN4Z5lRH0odisy7wOndxM86Inf8uwY4a9yT7Uh3BtZiDHMdm93sjWR\n",
       "9kluIWRGgzpryHwM7LJ1jE9R1oKLtyoyGuBtxDDbYU3oxuPMLosb34Ha5ZL74dFzoLMYqylJWdS9\n",
       "bCOc7kOxCS8pCAsRCYRVPEMqzkFUnH4g/Oh7rGasid3MQoj97G/NQlrmOHlCRlrqRvW9Zeo9yA5+\n",
       "WGAWksRrSxZ+i28BdknhV/x6/A2vUnF8u62gb8YbccO8Cd14klmwiPjkwYme1Q+gL9fBMkgNK1ng\n",
       "yfUr6AqXeCiC966+EISFiATCKp6hFGfVPVXCjxdnO8zv+GiJWgiZIb/XmoW0zHESLYdIS90paSyn\n",
       "FhIn940VSposIVfKV8zoJX4sjfGnwDwYSnhkaXgotxBDgsdjT4FFCPcLD5/dphayAQ+eldYspGWO\n",
       "kydkpR3SvDSWm9cMPEOnZY7/TVMs6XH0lr+eC5+hOXrM/53tHjt3aHgqUAvpcPAaXGsW0jLHyRPy\n",
       "8pb7fW5dLpiwm1p3Mx91fWjddc2wxMvIu/zpSGh8k/SY/7N1j91/OkPHFpIfeeqph1v0VFvmOHkC\n",
       "XSdiYQvMhNDucViFLJrguczRgYHbW53LtMpx8oTcMbkXnhGnEP/u1bBjzEJW4t6U7TT9vxaykvfI\n",
       "9wWhTYDLD+9c7XuEzgfw+orauVrXOXhjr38xLp/wfl7sGESBNWwfs5BLyUDE1muvWVS0Zunuff8r\n",
       "cGbZMwZbyKVsMMsfkVBvnb/gooZh/oghPd8FuS6/bCpAxjxuwxaakv/HgX7qCv0FYFk1gC5xqvRV\n",
       "5MRTwvHINPhUrotZSAqsOlkdyrzQU89WRuDzMuzpnRfD8zkn5njGYAuhHGiuzo8tYS4rl35Dn9Jx\n",
       "gJIeK/Ojfx7ZXICGSSODy1domezaxu0E0IvauRxAB6ukXyNyRhZitJBcHR83eRB12DueguyeGMgr\n",
       "bPkHHnXgRbuQ847BFkI5AEb6eeePuCwLRvSBnAOU9JQNsTG/bC5Aw+DDlAmblsm2c88QwLeRv9kX\n",
       "QAfnSL9G5IxGGaWa+CiTHsP7gJMQx9Pf7Ne+amML2fva3MLclXj4QGH79h9je6D7PHKMsBDKgRpr\n",
       "gPkCmMuy4m9qwz0HqOlbS3C+45dNAHRMN4rNOLRMtn3FH0nHgeardEzyoYOX6a2Sk3iqk5Fp6J4q\n",
       "3Hc9XRghC0OlkdewheybA7Ocs4Gup2/PPfN1bCFkn0eOERZCOFAXDQvQBbUa4bJi8/+pPRQD0nfo\n",
       "6UvPm1cm+byyUQANCoadGCRlsnvOIKNJHI0TyTFfOvT/zYacBP5BQ01tnAnmkG103dvK3EK2od7E\n",
       "qsCT1EJy+NRi+ok+OAKLIENWFbdDDW9ikX0eJca1kG2kW38DuiHxMrIQwoX69ws1DwAD4Pt6+i7c\n",
       "6eN8Xtl2iVFBy0rP0dEy2XbsJ6QXQK3eVgugg9MNORt8bYqp0O5vrLkqN+KfWN9b/5nqNZ84qZUi\n",
       "kwrHJemwGjN2FriFdKJhud2GawYGBuxsKV3HjZ20UdJtkLh1YOBuZA8biZuB93nUGGEhmAMyB14d\n",
       "dMjuIeFCbVNTFyIpoEtP/wHA0DDO55GNAdhsS8bgRZhnWJmQN0GWurGe8DkIoGPKSzUneUUaLISd\n",
       "tOiQXdhAxZKCF2hrDnqX5qhITWoVyOwjtZJlUlppwFh4WYf1bANua41bSN4hO01J2ofAF23S7FYl\n",
       "PV6CMu0x4lfiT7LPo8QIC8EcgKY3QyViIUn29tbUUwoEgDdw1HRUyKVVnM8jGwXkL9r/uRdKKmYh\n",
       "+h/9jjLtCXIxUk/DRFLoT7epCHtffFPLSWzmuF5Re9msWXZhAxVLCp6jM1iuEptUkZrUKojZR2ql\n",
       "yqQgWPyl6LByto7jO3fM/CzIkZYuQr6Wvh+GUC+Sr9TgdzhxH8CbsMGh+zxujGwhJFyBeOrEQgiX\n",
       "lYNXMRfKiS8bHArI17T09DFIn06a1JRNALLnw2nZmopJ1eFX6E0hZbJruVcRHpY78HjRjy6B6N4B\n",
       "+HUlJefk4bBeUd+lrbtNdmEDFUsKnqM7PoXdpC4VqUqtApl9pFaqTCqE+EvRYWUajgq9NCxbCN5p\n",
       "wgcSlqCqKydOg8tQ55q+0YF2hIrfWUSv47Jhus/jxugW0n4U0oN30DMqmOtvuxb+GxDXsmriVHRZ\n",
       "NkwBsaKW/ofDPatpk5qyuYCVmT6cV8bA7xd9Bj8ZlSl/+4Ef1lEpc+t6evGKji/dCtzPla6Vc/Jw\n",
       "p94nsyPMljz8BCqWFDxHLyZVXlCRqtQqkNlbaqXJpEKIv1Qd1js6bncVtDNmFhq12WDsRs5D4zQN\n",
       "ww0xeh/CptGOBxcjSGXN6TifKZu468sWcF4TprGUwXQpOK/Y+GtgsVZPFu2Tv5SVhp9gxZKM5+j0\n",
       "h+RbVUWqUqtAZm+plSaTCiH+UnVYO3Ug2YjxOIW4I9x0yGghie6LzFycIHeuMV3Lt6PhLlO2islz\n",
       "A4opShlIB5vhBdPG3KjWNbcTUKZIBu2wiiWG3zwuo3OHDEhNahXI7C21EjKp0OIvrsNijpMOnO1j\n",
       "Iaaay0M4C/HkykPoZynR9WDq4FKGoWPVprUQOQQIcUgjByW0Yonh6cE0jk59YEBqUqtAZm+pFZdJ\n",
       "hRd/MR0Wi9dPH6UP+VhIc0tv01ZRRb+TGry6pxf34WEVSwxPBbEc3UZmNxkVqUqtgpm9pVZCJhVa\n",
       "/MV1WOzV0IfXSFFlDrFxk4WgyxkQXrHE8HSE4ujUOF0oAG+pVTCzt9RKyKRCi7+4DstsIe19kYUY\n",
       "Q/yIYZTB7u23ILxiieE7qzKaroTUVKQqtQpk9pFacZlUaPEX12HhPTjX+t0lVTuyEHPoN3iqjwH9\n",
       "t6fCKpYYfpmCJgN7zlGRqtQqkNlHasVlUqHFX1yHtW8OnGrwVLudyELMQZvMkG0qXOeDVaNiydVW\n",
       "uYoljp+noOGlOmTJ4RsvqZWBObzUisukQou/mA4L78FhD2mRVg/UH44sxPB7auqo0weZwY8deH6q\n",
       "36xYEtoqoVgS+LsVNGQWrrqArmVxpCa1MjCHl1oJmVRI8ZfQYSVtss6r7YBH/0qVZ8geM62609Ck\n",
       "YumUkhntJbVqgtlHatWk+As1YKxWgoy2vMZ2byILMQRtw2uvdN+kYmncDg09gVKrJsVfMASpL5ca\n",
       "du6ecyIL8Qo/Un+QJCdpVrG0qBgWeQKlVs2Kv+AysP7csPsf/Yu7fsOM+g6yE0TTPWgCkmQhshDv\n",
       "0Kt+nRGnEPPaKszrcAItZNr99ZCkDTM9nNi/HjL9/gLRBTPeQjbTlx7/BaL/Af0GJT5MBjM8AAAA\n",
       "AElFTkSuQmCC\n",
       "\" style=\"display:inline;vertical-align:middle;\" /></a><br>(see <a class=\"ProveItLink\" href=\"../__pv_it/4bc9291228cbe5ae2e23bb5be71aa15eb288d1560/dependencies.ipynb\">dependencies</a>)<br>"
      ],
      "text/plain": [
       "leftwardCommutation: forall_{l in Naturals, m in Naturals, n in Naturals} [forall_{A_{1} in BOOLEANS, ..A_{_a} in BOOLEANS.., A_{l} in BOOLEANS, B_{1} in BOOLEANS, ..B_{_a} in BOOLEANS.., B_{m} in BOOLEANS, C in BOOLEANS, D_{1} in BOOLEANS, ..D_{_a} in BOOLEANS.., D_{n} in BOOLEANS} ((A_{1} and ..A_{_a}.. and A_{l} and B_{1} and ..B_{_a}.. and B_{m} and C and D_{1} and ..D_{_a}.. and D_{n}) =  \\\\ (A_{1} and ..A_{_a}.. and A_{l} and C and B_{1} and ..B_{_a}.. and B_{m} and D_{1} and ..D_{_a}.. and D_{n}))]"
      ]
     },
     "execution_count": 2,
     "metadata": {},
     "output_type": "execute_result"
    }
   ],
   "source": [
    "%proving leftwardCommutation presuming []"
   ]
  },
  {
   "cell_type": "code",
   "execution_count": null,
   "metadata": {},
   "outputs": [],
   "source": []
  }
 ],
 "metadata": {
  "kernelspec": {
   "display_name": "Python 3",
   "language": "python",
   "name": "python3"
  }
 },
 "nbformat": 4,
 "nbformat_minor": 0
}
