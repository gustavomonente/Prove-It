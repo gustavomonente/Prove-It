{
 "cells": [
  {
   "cell_type": "markdown",
   "metadata": {},
   "source": [
    "Proof of <a class=\"ProveItLink\" href=\"../../../../_context_.ipynb\">proveit</a>.<a class=\"ProveItLink\" href=\"../../../_context_.ipynb\">logic</a>.<a class=\"ProveItLink\" href=\"../../_context_.ipynb\">boolean</a>.<a class=\"ProveItLink\" href=\"../_context_.ipynb\">conjunction</a>.<a class=\"ProveItLink\" href=\"../_theorems_.ipynb#disassociate\">disassociate</a> theorem\n",
    "========"
   ]
  },
  {
   "cell_type": "code",
   "execution_count": 1,
   "metadata": {},
   "outputs": [],
   "source": [
    "import proveit\n",
    "context = proveit.Context('..') # the theorem's context is in the parent directory"
   ]
  },
  {
   "cell_type": "code",
   "execution_count": 2,
   "metadata": {},
   "outputs": [
    {
     "name": "stdout",
     "output_type": "stream",
     "text": [
      "Beginning proof of disassociate\n",
      "Recorded 'presuming' information\n"
     ]
    },
    {
     "name": "stdout",
     "output_type": "stream",
     "text": [
      "Presuming previous theorems (applied transitively).\n"
     ]
    },
    {
     "data": {
      "text/html": [
       "<strong id=\"disassociate\">disassociate:</strong> <a class=\"ProveItLink\" href=\"../__pv_it/dcc3028a91d55cda8dd411e4caf005835d758a6d0/expr.ipynb\"><img src=\"data:image/png;base64,iVBORw0KGgoAAAANSUhEUgAABBQAAAAZBAMAAABz4GBiAAAAMFBMVEX///8QEBCIiIhmZma6urrM\n",
       "zMxUVFQiIiJERETc3Nzu7u6qqqp2dnaYmJgyMjIAAAAcRTyBAAAAAXRSTlMAQObYZgAACWVJREFU\n",
       "aN7tW3uMVNUZ//bO3Jm5c+fu7h+KD9p0RKOLUXfMKja6ylDT4j+GAaJgNDLZlUiIlok2QFS6Y6M4\n",
       "Qs1O20SJSd2rGFnxNXGzaUkgjqx9uL5GQIOpxFX7D/7DhsfKgtSe9z3n3nNlprdJs5STcB/f+X3f\n",
       "d+75fuec75xZAKKWe9dV4WyZ6SW+7pHoRkpn+/GMKE+fpcJ/UKzGmfU9OygVJvDtQCQqRDYx08ow\n",
       "vd3dopoG76yZ6ln1WPMmPv2+f14lr69Ld/Xfb9WbNiXBE1VChffw8zeRqBDZxEwrB+ntkCwLSZgs\n",
       "6fmQBt1WBphfaN7K+QCxY6B1fFED7KsbOsdaUxI8PUGosAVXlyNRIbKJGVacHL0dciXh13pse85T\n",
       "k/ACvQIFY1GuaSvmKZThHVHquMrwQ+gyv6pxrDWlwHcTKrSj9mVqkagQ2cQMK0naga/Ml8aw+YSr\n",
       "xS5/SDxKeA/djWRfZJu2YkwjSh2Wq4TKl/i+QOdYa0qBP0+o4Ixv3/5MtLQxsokZVti3NrqlRTvx\n",
       "s6wWe88c8SjhPfSjaHo+z23aSqoTxU0JMleJncTXpTrHOlMqvD1PdhDHK5VHolEhsokZVi6mO3H3\n",
       "LWkj8bp+J5WeSIqdu4T30FMAy1Y3b6WjCOZaZebgKkPk9rLGsdaUCs/kCBVWAjwZkQpRTcyw8hS5\n",
       "vggrpCH8Hk2e/SVTEyunjBdoc+pA18MtWFlx/54n1KWYq3yUDXOslatwZ4JQ4WacQKbXRKHCzTQH\n",
       "DSNEiq+R8cHeeRpIQLy/vz5Xk61t7DXEahvnDyEcFOJbjoytCj0O9VcqLkLbQ2OXhyE0lswy74Xn\n",
       "tGkFWBPskeBZPws0XvufL6IVvEkrKLVIz/J1P1UZYNsQ1iDJsdbUQEGW2iVChSQYaOJaSGXLevPG\n",
       "LJ+2+eA7cFExVFLiJlBPHtV2+BdijfwY4G0NwCd+LgvDncFd0FeQftSjFw+e3qUndjoh0xm6F1Ar\n",
       "VReh7TmH9EF/z5oymD10enaykChoHOwhU6aHp/3sofHab5yEpdc1aQW3rlse7kLlJ2TZcHmDPBW9\n",
       "KQbnAZ0kVMg08OoxhpaRnT0NuzwO18uqr4zdCH/OuDE3VFLiJgC2ntIuT/PFGjkP4C1NjqyKLRRG\n",
       "J7g3HUKE2h+ggt6lJI4VwT7BhqCMMHyVQReh7TmHTUttaHzFac8nXTCLmnagDO92MY1h/JiKRms/\n",
       "GIf5SDy9lSlMBXluFyoDZHQXeIM8Fb0pDleoYE3cTte//Tu2g70nBvKBlbP5WRd2ZXOZcEmJmwAY\n",
       "f1C7PG0TW9wHAG7SIFRxEjXADGbSODFdEqCC3qUkTmYhxqbKZfJ5MXmRKoMuQttDFgg0NJOdggoj\n",
       "3sGTMvGiL2+nKw7DP6Wi8bFC4iinwmmt4GMFWCOfNgoVslPN8AZJjvWmOJzxlC4Q8OQ96DINcRww\n",
       "+847spgKez+Zk5uzEmcBqIyO/h4rOTcuuViVcCpQE6i/KrqwLEnxIZU+BobmVNIn7kYTRDowdxh4\n",
       "9G73UyHEpSR+owBXMWOb5NWTvEiVQReh7cHhtFBo2ycFFQ6yqPjPc6q09z38tIrGxwor+Lpxeis4\n",
       "tTCPk0gYlxYUlSFM1nHeIE8lxBSD05jytBFGkLLZCe10yhj/BFNh349hlnsp0J8XRjOv3YXxCxpt\n",
       "VUUiqDBC/CcALXmJQBCLsRI8QwZk/PCejei22p82UjEv6+nNh0qqSwajQohLLLY2kMdFV3YVKcSs\n",
       "S7+T0Bda6XPhN7feb32MnS2kpnnPk1wtiSnzL2CXN3BHLWdzssCbnTIa4Etk4XyXUcGTY2WdlXak\n",
       "vmATicRqo6io2GjCGHF5g4SKsEIePDmD05hCrE6p0IEIYpRhK6VCBu8xrRdKcBR6IU2INQp1/PXP\n",
       "XgYdriIRVOgg8+c/oBvMt/1xcWrGJKQIhTMTYJTgrgv9KwgRi/IdufpRHXUdFfQuiRgeJ48fAlxG\n",
       "ISk3JemTF1LpcxEw953fOorb8PffgD34bY71fALP2QbuhLXALkkcKTJZ4jMdjjfKCvqX+NelGjAq\n",
       "eHKiHLSSODTVs2ozjUQeh09Sga0b+/PAqSBUPCtrVTmFk5giihUoFRzcTVlYVqlUsnbBamBbiSzi\n",
       "78Ngrq9UfoMC/0eSFvbBAp+EUwGbgPTX7w+6jO3yGUjv309AG+3/OlgnGcHlsFKxvGK/FkDhFTvd\n",
       "8FEhxCUV06T/t2gyrBHIUsRKAaEvtNLnwm+OtSdw8CxWWb61DSb/ZFU35U/N6tELW7KCIrEYkjWt\n",
       "Cm1QUCXEVB85fN4G3t8rtN2GJlWaU/4ct7atYJStyQIU6RwQJ8nUudBrqhJOBZqruzBUCMblerCO\n",
       "kV+s0LCrQXw6SAUq3rtr751/wa8/Rf/qAVSsjNMc54YDdYkKIS6JmP1Ahji2qEogaMXxFhn6QiqR\n",
       "zWt3FoSLgDnanr27PhfzXM7f800X1M/asrC1s5xzoQuGTG1Viw0iMWU/R7FoGJDBveHkwalbm2AI\n",
       "zQtOuQ4kNvsAPoctrjUJvxqVJH4q3IrMkDGF9BGaXeJoJJ/C6C0oPi78jgbZqxfiNyfaajuxbrIB\n",
       "r1aDqA2QfhfsLuYvpbpUoUTs1LEx6wRYP6J7rhxeOBiEvtBK+yqYbdeFi8AX0Pa8WU6C5ljLbq3n\n",
       "Owy9/E8tWUGR6IP9GW1daw2iMWU/UrNx9A7AZszOf6I0z5wNv0C5pnWfCyk0C8V/nUdTxuJavAhX\n",
       "NCSJjwqp42ANbiCdPhsWV80L8GU2DJZhy7eNawAZyAz0zHuMpi2La7T+Ak+cKGyDa7Au/LX38iAK\n",
       "Mv27UchXstO0lOpSgVJxLI+N/e1Iz6o8CS/OBlO8YfSFVa5MlxBYuPB/AW1PorBcdOCw15XXTWVb\n",
       "6Xrcz5ryh4G+VqygSByEp8e1sW2tQSymVVD/oM1AuQJjlifsQpkB8I2xT+KbFcSZh6TPn0o1zwCZ\n",
       "+r0VuiaOREcwzP5hVMnYp5wrcJdBaNKWGoIgaZxEiGxCfinZOQyu/eAXJOFKsZ8/0/6g7TOAsL9t\n",
       "3KGbeKrhv0HIO/ruG2R9/rS76hlYcqQmWRNPL8El0FcVGnpUumh/4KcCcRmEZuZ67gkkrKSLRj4x\n",
       "V+iFfMFLsPMMI4Cv6Kmg+2YHmqKCT78RYsAJtdtoCqXMCuHQVoLnnPYL4P+QCi2Vdf+T/wcRg7Pl\n",
       "v1ni69b+Gx3/PNaQB1nWAAAAAElFTkSuQmCC\n",
       "\" style=\"display:inline;vertical-align:middle;\" /></a><br>(see <a class=\"ProveItLink\" href=\"../__pv_it/dcc3028a91d55cda8dd411e4caf005835d758a6d0/dependencies.ipynb\">dependencies</a>)<br>"
      ],
      "text/plain": [
       "disassociate: forall_{l in Naturals, m in Naturals, n in Naturals} [forall_{A_{1}, ..A_{_a}.., A_{l}, B_{1}, ..B_{_a}.., B_{m}, C_{1}, ..C_{_a}.., C_{n} | A_{1}, ..A_{_a}.., A_{l}, B_{1} and ..B_{_a}.. and B_{m}, C_{1}, ..C_{_a}.., C_{n}} (A_{1} and ..A_{_a}.. and A_{l} and B_{1} and ..B_{_a}.. and B_{m} and C_{1} and ..C_{_a}.. and C_{n})]"
      ]
     },
     "execution_count": 2,
     "metadata": {},
     "output_type": "execute_result"
    }
   ],
   "source": [
    "%proving disassociate presuming []"
   ]
  },
  {
   "cell_type": "code",
   "execution_count": null,
   "metadata": {},
   "outputs": [],
   "source": []
  }
 ],
 "metadata": {
  "kernelspec": {
   "display_name": "Python 3",
   "language": "python",
   "name": "python3"
  }
 },
 "nbformat": 4,
 "nbformat_minor": 0
}
