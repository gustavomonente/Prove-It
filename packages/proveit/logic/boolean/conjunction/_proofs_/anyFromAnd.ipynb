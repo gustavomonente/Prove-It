{
 "cells": [
  {
   "cell_type": "markdown",
   "metadata": {},
   "source": [
    "Proof of <a class=\"ProveItLink\" href=\"../../../../_context_.ipynb\">proveit</a>.<a class=\"ProveItLink\" href=\"../../../_context_.ipynb\">logic</a>.<a class=\"ProveItLink\" href=\"../../_context_.ipynb\">boolean</a>.<a class=\"ProveItLink\" href=\"../_context_.ipynb\">conjunction</a>.<a class=\"ProveItLink\" href=\"../_theorems_.ipynb#anyFromAnd\">anyFromAnd</a> theorem\n",
    "========"
   ]
  },
  {
   "cell_type": "code",
   "execution_count": 1,
   "metadata": {},
   "outputs": [],
   "source": [
    "import proveit\n",
    "from proveit.logic import And\n",
    "from proveit._common_ import A, B, C\n",
    "from proveit.logic.boolean._theorems_ import inBoolIfTrue, foldForallOverBool\n",
    "from proveit.logic.boolean.conjunction._axioms_ import leftInBool, rightInBool\n",
    "context = proveit.Context('..') # the theorem's context is in the parent directory\n"
   ]
  },
  {
   "cell_type": "code",
   "execution_count": 2,
   "metadata": {},
   "outputs": [
    {
     "name": "stdout",
     "output_type": "stream",
     "text": [
      "Beginning proof of anyFromAnd\n",
      "Recorded 'presuming' information\n"
     ]
    },
    {
     "name": "stdout",
     "output_type": "stream",
     "text": [
      "Presuming proveit.logic.boolean.foldForallOverBool, proveit.logic.boolean.inBoolIfTrue theorems (applied transitively).\n",
      "Presuming previous theorems (applied transitively).\n"
     ]
    },
    {
     "data": {
      "text/html": [
       "<strong id=\"anyFromAnd\">anyFromAnd:</strong> <a class=\"ProveItLink\" href=\"../__pv_it/943a6df70d9c4630056092caead28b1962e78e250/expr.ipynb\"><img src=\"data:image/png;base64,iVBORw0KGgoAAAANSUhEUgAAAegAAAAZBAMAAAAIx6A3AAAAMFBMVEX///8QEBCIiIhmZma6urrM\n",
       "zMxUVFQiIiJERETc3Nzu7u6qqqp2dnaYmJgyMjIAAAAcRTyBAAAAAXRSTlMAQObYZgAABBJJREFU\n",
       "WMPtmFtoHFUYx/+d2dnZuWX3xWKtwqJgU6FNINhKjbhFvICIkzxYRMGlMRgK4kKhkdJC+tJOq5A8\n",
       "xeBDE+2Dumgd8CnQh0HBy9aUobYSesGgvuiLpbE1jQY935m9zOzZ1YzOCosu7Mz5vv32P+c35ztX\n",
       "IPbnpfEpdPEnNX7ob/yrhC7/TP8P/Z+BXqLb1XjQPXSz/G6D/fr3kR1OgaDPkvljPGjTZbeeua5r\n",
       "4tsB+QZBzzBDm4gHzeNnuo5ZWWNj9zJBU4PxlovTpykzznYdtHSLdcrrBG1VyuU34g5kV8rl97pv\n",
       "PMvkgLcO8tF7xXEOxYXOOs4xr+ugs0UoB+Y49ChwPC502kaGL8syrRdnEcEnlj8ZC8IWR7ytYrB1\n",
       "dFCqy6TqzZK0MvDCy+ePucE8/Qj0pWjsnsGCtLG9h0Gn+nGal78ptKqZ9XPEysHMUeFkHu/mhGDt\n",
       "W+hHGilYKySuDPRNQd8YQKuQQjOufmbANyYq2NXeU+Lfbfy3h1tO1qfWwpZchLFKdWAVtsR5YpbR\n",
       "LQrQySsD9AL6XA5t+mroh8X5MozzMrz2HoJeCNZl5jv9rapW2R+21DxkyiWVKSh5IZgGlGEBOnll\n",
       "4CZB5zm0tvQMe08PDd8j3WtT3gLGc8/mCfGri3f3Rz116JNKkYrDmVYzvJJ3wuaHNrbTQqaPXXRh\n",
       "RSNRU5UF6OSV+TSNVwrB2vv4iwx6t79hn1QMFpiGXblIiBfuwqaopw6dmeZdrigzY1/z09LYGTaf\n",
       "3tbL39CrgdkUrkbhatDJK/NpWlmpbjg+YvJvbkG2IHs4FSCaJmtf7e0SViOeBrTBH2650jU8f0dz\n",
       "1S6jL2yeA7bQ/TduNYdnvVbQHVBGDxvqdp+oQmepN+zFEFQXexzHyRu25hNZOp/KRT2NXdZ1upwe\n",
       "/Jyl0MGmmunffTkZzrXX2ZDiVrvYB0I49Ufdb4bugHL6p5sDY6/VtpYW6dyGXswqLH94u+JRehEb\n",
       "bNmzI54G9CW67IJ2Q6yaPIdZ23rw6v1nbG7/yvKQZssH2NcTwmWWhCZYuBeG7oCyuJ/WrrG2XjRh\n",
       "kppVgOVpJzAL9Um74RH20yn2Gtf4s2bmWHj1gqdY8vjGdmw2PDCPtgrtTiqoPt6fEsMPQ/8CRm9V\n",
       "NtMxZRE6VcQPmK4A1P6Pf88GEmUzHoO0EPII0JMTmPnFp2cNucomDE3Rxc2sQJs8jFG9JBfAVD5b\n",
       "HhjjBXw6eB/QHA5z5GOWaqPKRAi6E8p/cnIisR4clAzB0+bkhLKqsU2rlUpGv2o0VBqFNuHSheiK\n",
       "LHHldR0Xza/zuGh42YVRX+HWSnpRKqS3hlTm/yLcWBCgk1VeF7Qf44zMalFqUvHXFR5t6USV/9nB\n",
       "4Hgnz73lf+Hc+8AfnSCYnxcpscIAAAAASUVORK5CYII=\n",
       "\" style=\"display:inline;vertical-align:middle;\" /></a><br>(see <a class=\"ProveItLink\" href=\"../__pv_it/943a6df70d9c4630056092caead28b1962e78e250/dependencies.ipynb\">dependencies</a>)<br>"
      ],
      "text/plain": [
       "anyFromAnd: forall_{m in Naturals, n in Naturals} [forall_{A_{1}, ..A_{_a}.., A_{m}, B, C_{1}, ..C_{_a}.., C_{n} | A_{1}, ..A_{_a}.., A_{m}, B, C_{1}, ..C_{_a}.., C_{n}} B]"
      ]
     },
     "execution_count": 2,
     "metadata": {},
     "output_type": "execute_result"
    }
   ],
   "source": [
    "%proving anyFromAnd presuming [inBoolIfTrue, foldForallOverBool]"
   ]
  },
  {
   "cell_type": "code",
   "execution_count": null,
   "metadata": {},
   "outputs": [],
   "source": []
  },
  {
   "cell_type": "code",
   "execution_count": null,
   "metadata": {},
   "outputs": [],
   "source": []
  }
 ],
 "metadata": {
  "kernelspec": {
   "display_name": "Python 3",
   "language": "python",
   "name": "python3"
  }
 },
 "nbformat": 4,
 "nbformat_minor": 0
}
