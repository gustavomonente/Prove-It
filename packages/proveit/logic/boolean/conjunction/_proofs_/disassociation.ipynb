{
 "cells": [
  {
   "cell_type": "markdown",
   "metadata": {},
   "source": [
    "Proof of <a class=\"ProveItLink\" href=\"../../../../_context_.ipynb\">proveit</a>.<a class=\"ProveItLink\" href=\"../../../_context_.ipynb\">logic</a>.<a class=\"ProveItLink\" href=\"../../_context_.ipynb\">boolean</a>.<a class=\"ProveItLink\" href=\"../_context_.ipynb\">conjunction</a>.<a class=\"ProveItLink\" href=\"../_theorems_.ipynb#disassociation\">disassociation</a> theorem\n",
    "========"
   ]
  },
  {
   "cell_type": "code",
   "execution_count": 1,
   "metadata": {},
   "outputs": [],
   "source": [
    "import proveit\n",
    "context = proveit.Context('..') # the theorem's context is in the parent directory"
   ]
  },
  {
   "cell_type": "code",
   "execution_count": 2,
   "metadata": {},
   "outputs": [
    {
     "name": "stdout",
     "output_type": "stream",
     "text": [
      "Beginning proof of disassociation\n",
      "Recorded 'presuming' information\n"
     ]
    },
    {
     "name": "stdout",
     "output_type": "stream",
     "text": [
      "Presuming previous theorems (applied transitively).\n"
     ]
    },
    {
     "data": {
      "text/html": [
       "<strong id=\"disassociation\">disassociation:</strong> <a class=\"ProveItLink\" href=\"../__pv_it/a7a3884af9ad70ffb6813500fd9c081cef43c8c70/expr.ipynb\"><img src=\"data:image/png;base64,iVBORw0KGgoAAAANSUhEUgAAA/sAAAAyBAMAAADxWdboAAAAMFBMVEX///8QEBCIiIhmZma6urrM\n",
       "zMxUVFQiIiJERETc3Nzu7u6qqqp2dnaYmJgyMjIAAAAcRTyBAAAAAXRSTlMAQObYZgAADV1JREFU\n",
       "eNrtXXuMXFUZ//bOzszemTu7/UNqAcFLSWAxyg5ZbJEu6VQiNRrCFCLFSOyEUlOJ2DU1BAqlW1S6\n",
       "BWtHjfIS9hZMrUXokqaBJhhGihpWoBMeioG2CwUTSLSbtpRua1nP+3Hnu/PorCll5xDu3D3nd373\n",
       "m/O7532+KUCzoW1iogQnbXgOpl7YyD+8iYlpzZO1bb8vOGlLwitNQfnbR9lH6r4HJkP+/ElcEufA\n",
       "VAy7xWd8isufVt/fLU8a6YPNEmyfxG+IcnWUWvLTsCEn7zbxj283SIDgUwMAmWWHepf+uH6av08s\n",
       "njWobEkUKzi7F9/o1t9PGfBKLpr+qZb8NPxI3b3HP/aZqUU8k2vc76tEd9KbNvIOzM3XYtLxMwBi\n",
       "Hyh1RsPJZ5UhfUEZMwA1zIArLis80ZKftv1H5F0myz/2maPYvXiuzqy6NfES/Qq9LCKFf0W2FpOK\n",
       "jx8jA7IDKvrZUPKmFeQyt4gYgBpmwZ/FkMlSS35SCqock7ywHp1r1NP4GnxGc80KdWvgFfoWeukh\n",
       "8Xv8Wkwq3hknr9J+3SeFkt+in/MwA1DDLPgG9L0fb8lPBFLi3cM/yj05nZr4so/mun6mujXwEu32\n",
       "0+tq0ux+OqjFpOI7iA4btKidOSs5dpRer8IMwAyz4Z05DLq8JT/AzerubD4hDp4xJgCPQz86rhpN\n",
       "qgm0gZdoh7UohwAW3lCLScd3FSB+k24hvKyVPMQ+fo8YgBpmwz20p9gTtOSPH1S369j1t7CI1Lf4\n",
       "AI/7G/kPWyka9obFLcOnllnoDvpCxA/t6r6VNsdVmXT8ohtfXjOs4zOjVvJO0UYIwwwDUMN2Wk0N\n",
       "53rpPzToIcgWvyV/TH/7W9k1B0NZiPeKKtkPD6EDBnDlaJrhYb6FTg6LvnxDAa6aXZVJx5OhQmq6\n",
       "0TX3W8mreAlLwwwDUMNWWYKk0Yanc7Qlf1tB3bKJcHxx7zJSwdp5gWV8SGBf7WWAJaI2cvwOC92W\n",
       "E325c1S+GVFMOn41fQV0lY6PWcmfZS11IA3TBuCGSbjJFQ7OeEv+RWVb/nbyZUaV/MkA4gUkFxmh\n",
       "XS26fo5fZ6GZ/KQvB2e/lD+KSccfovL7IflV8ipWi/PSMG0AbpiEV5PfPdaSv6doN/6k+iWnKfm3\n",
       "6sUgqzHNipUdhR+30Kzxpy9W4qCUP4JJx9NpPyzLZS658mznnLy0QCWz2aUnow0DcMMEnLKBzMT7\n",
       "/n9p9PSW/KvBGvq5RLjOMSX/e0KBcK9Z5CWt8LwMFZoN/eiLtWhAyh/BpONpUxw/DJl55bYbnIIc\n",
       "rqnkIdoujEjDtAERhgk4ZSuqYWQ4rGnJP0Pf7hBz/45xWcpsmE3aX0h9REfKo/JyjWhnFd4ZMNF8\n",
       "ovUWYZkRCPl1GiXQdDq+k8gw7y64/1zoysVKZExaspLTpHHYGkjDlAGKid3oeAGnbIHgqgw7hfzs\n",
       "5djVnPxNc5yQkNKrrFSnTRPvQ3r9h1lRygnahzu0It1EZSjIy/U0ka6vSHyHb6Fp7u/THZxhEPLr\n",
       "NEag6FR8Yt+h3qV3kz+ugwWs8+jMW9ngkTsX51Q7rgzQTDfZ8QJ+HVv568Rr5548l59NLd9vTv6m\n",
       "OU7MtH+/MQozOlNeyu3svrLs2CJa3Pz+37DRt4D1VkUzVcafAt0wRLh/hydzwyoMiDLsFOiTXMiw\n",
       "1+fy30t7sYHm5G+a44SE9FFjDpatNVOODF2O/fcrxv2TDTG5Y6TGvu5FbNM0ahhh++G2SK4tWS5/\n",
       "Z0DXi5qTv2mOExIyHxh/rNXFNvuQ39DiUei4YIduSH656rpGmNoLZLj365GITdpGDSNsny9HcbGp\n",
       "KZU/M7J58z1NDv2a5jghgS99iLBp8oYUTTeDHcXJ+5JRXF0DYuR/eHDwtmZH/s1ynJDgHTGr1sfo\n",
       "sNc/J/FLRnG1jQr5l9CWT+xbHK/8S2TrubYWGgN89cCOpVVf+CqA1xeXzqvawt/Z50RkjR2BqRva\n",
       "+oX8l7L+gS9QwMK+nDM9PEJe/hycVYiMofJfKvqYzEEDtfv82XMq1DiIpGemgTetWjYbYGIe8mFT\n",
       "tazu25AyVncyb+9drsYoibEpLD9drmTyJ8Eps3WP1NO95fTACFxswh7dcQk85QWxIDKGys85yIzz\n",
       "mOwACZfjuW+EpzsSYKXHCvLYVUQ2DQhhXPI2ZQaqZB0i06HXDcP90oPbWvKb8ntlekpgHSmm7Zsh\n",
       "/XIMzGWizN33B/BHP+tFx1D5OQfAyHLZJhMux4GRcI8qAVZ60ofYaLVsGhDC0DNrcb9KVjoiudIw\n",
       "3Pe9x1qNPy052fi7o3SfaBza6Uww/a1v+lT+V16bmZ25hLbqJGzb9gsqNt9DMGOU/JyDKDEoJh2U\n",
       "y3Ha3wx1uxJgp2/Jw/lBtWwKEMb0kNhUlawOVXgzv2eG+/7lz6uh3/hU7vvl0A/WXs8XANjKQn7k\n",
       "NSr/q2fA9OAc4Mu527zHrqXysz0EM0bJzzhIcwqzyYXIwbic2AXvhh5KAe7KcPoVX+gusHxR2TiA\n",
       "BwsjTmvdEPXEpDEJY4b7vWeq3sH54P8zcP+YLW7hA9+2gpR/K2kHnAF4hMvv0T0L9+F+OAh9kGKL\n",
       "YdugRLdE2B6CFaPl38oWpN6AHoj/icjPuEhT/KVQJ04B8JNw+ksA57J8UdkYQI4eTMx/WdS1p0U9\n",
       "sUt3ZNxw34/9ChuGVkzb46ONlTKGt503ai9DVfMNefjOWeXf1G+OAf8uPu/PSvm7SOfZ4cPCwcFB\n",
       "P513y1TJhE+SboX4zYODdxCxH2RdO91DsGOU/JQDUntfWB+wTSrGRcQo2ctUHDAtnP5TMkQbpvki\n",
       "sgmAmJuYGNq1P8b2ufCsdGyQ4qMBbjjp+9UabRqVX2yld5rjwii/CqNiGXiNtpw3arOEfEPMLM4Z\n",
       "pIqdgT0YpTLhj6PILSUpfyZg+xYJXvvhKz7T1Blwx/JQ4HW9nQ2f2B6CFaPkpxxAJgNDeSZ/QtTF\n",
       "kr0vzQB0c8BOP0qa9yLNF5GNAzJzdn3x6byNuYj8X2Ly41ljA+zgw5xdBFTgtd+LqQp7DCsXsWS/\n",
       "2xwXRvlVGN4bBl6hQ84bNVlCviFGlhQ98R8bxx6MUVlwD10plls+oi1wwGMy5iBTcu+CIVL/MwMl\n",
       "+DNNfBXgTbg34HsIOsaUn4XLCU+Zyc+4HA9eoFwkJ73cG3BAphRKd4+A+xm2tY1lU4D0+XB6umRj\n",
       "kmX4Q5HJH/HElZB6HtLd9MQ0M9wveS+oIjiAlQvfsEttNceFEX4VhveGiVfokPNGTRbbN8TM0nka\n",
       "Hd1OQx6MUlnwFHqm45lhU366b0F3nOe/Q6pJ/HS4jDSC7vcC6CCo9ttzpHItGOZ7CDomLH/HYXDX\n",
       "r+QnFCjXP1666N9AuBYU46eSy4JhDojlQul/PdC7NMdPNiDZNGBJqp/mNTHwl77PAT/kgD4RvMXP\n",
       "Etol9OgENTxz296f6Znh7UixuOKcp2P2DBF+FYb3holX6JDzRk0W2zfEzDKXiZVFHoxS2fB3MOjO\n",
       "IoRO+zik9xS9oo7sJh0mD8MVMeHaL/rbIIJLECTTeDrNh2VTd/3pLM2LYFZUfyL0O68ihsNcpFi4\n",
       "lwZ8LW30DFF+FYb3hoHXaNt5ozaL7RtiZHE/ZH8VkQdjVCH4DgzKFvkjDnttr38CUSF/vGcOziUJ\n",
       "vPPQ9FC+7RV3qYKTS5yHYa48MFz1ialC+kXM8j1IE8qO6kEqx86CCC+NKL8K7b3B8RvHbLRw3qjh\n",
       "naFYpG+IDjKLJ3uQ+txGvP1W7G4MOqOK/NjuVwbqkz+SKwN1P8uKLtembuyJeviDyMEO6kI7uGRg\n",
       "IL00ovwqtPcGx/PTOBrNnTdqeWcoFuEbYhojsiTF9KFOt5GkvaCBnTlx91eRv7H1o0+Cm4eOY/P0\n",
       "q3tnHQa1DxbhV2F4b3A8d6fTaOG8Ud07Q7NI3xAdZJY2Nq1I1es2ouDiLcf6uJabB8TGouQnlzO1\n",
       "/BF+FYb3BsfzjkOjhfNGde8MzSJ9Q3SQWZJjfLZdp9uIgkfL39Hfkr/9YETjTwePP1DyR/lVaO8N\n",
       "ge8qWmjhvFHDO0OzCN8Qud1iZOFT+FK9biMSTpn0S2wv+vkt+WF5xNDvAeA/2zJfrQNifhXae0Pg\n",
       "F9ho4bxRwztDswjfELndYmRhPbUX1Os2IuGE6dSIoV9P0JIfG/qzHQ+q1/qiLG3lP6F8PZhfhXbD\n",
       "kPhuCy2dN6p7Z2gW4Rsit1ssqmfKkL4Y6nYb4XDKREcBfcg350d6prj8baXKDqEfUus/CuCpieVS\n",
       "fuU/oX09qF+FcsNQ+DsstHLeqOqdoZ05pG+I2G6xsqQu+s6FAPW6jUh4wmcrf+8is/jWj7uA+dNO\n",
       "4UVfHubLcR3mV4F4aeRRdFXvjEoWud2CZWnMbaQtHyvlIYUsEYm9hKn+w27I1snxe2nAGL4U26Db\n",
       "iNxuwcKTDTIlv55Ht3yeCFryk/DzStuP30sD+nJYbKNuI3K7BQkNGnQZOC+iG76tn3WMrJjNe2l8\n",
       "zAJytD6RbcnPwqzKqE/YYa8MstYgzz7Hp/oPuid8mHphcn/Q/aT+5xwunILyb+TVlf5zDv8Dely5\n",
       "SuxQvHUAAAAASUVORK5CYII=\n",
       "\" style=\"display:inline;vertical-align:middle;\" /></a><br>(see <a class=\"ProveItLink\" href=\"../__pv_it/a7a3884af9ad70ffb6813500fd9c081cef43c8c70/dependencies.ipynb\">dependencies</a>)<br>"
      ],
      "text/plain": [
       "disassociation: forall_{l in Naturals, m in Naturals, n in Naturals} [forall_{A_{1} in BOOLEANS, ..A_{_a} in BOOLEANS.., A_{l} in BOOLEANS, B_{1} in BOOLEANS, ..B_{_a} in BOOLEANS.., B_{m} in BOOLEANS, C_{1} in BOOLEANS, ..C_{_a} in BOOLEANS.., C_{n} in BOOLEANS} ((A_{1} and ..A_{_a}.. and A_{l} and (B_{1} and ..B_{_a}.. and B_{m}) and C_{1} and ..C_{_a}.. and C_{n}) =  \\\\ (A_{1} and ..A_{_a}.. and A_{l} and B_{1} and ..B_{_a}.. and B_{m} and C_{1} and ..C_{_a}.. and C_{n}))]"
      ]
     },
     "execution_count": 2,
     "metadata": {},
     "output_type": "execute_result"
    }
   ],
   "source": [
    "%proving disassociation presuming []"
   ]
  },
  {
   "cell_type": "code",
   "execution_count": null,
   "metadata": {},
   "outputs": [],
   "source": []
  }
 ],
 "metadata": {
  "kernelspec": {
   "display_name": "Python 3",
   "language": "python",
   "name": "python3"
  }
 },
 "nbformat": 4,
 "nbformat_minor": 0
}
