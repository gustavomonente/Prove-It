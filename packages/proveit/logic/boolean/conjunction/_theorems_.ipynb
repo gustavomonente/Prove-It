{
 "cells": [
  {
   "cell_type": "markdown",
   "metadata": {},
   "source": [
    "Theorems for context <a href=\"_context_.ipynb\" class=\"ProveItLink\">proveit.logic.boolean.conjunction</a>\n",
    "========"
   ]
  },
  {
   "cell_type": "code",
   "execution_count": 1,
   "metadata": {},
   "outputs": [
    {
     "name": "stdout",
     "output_type": "stream",
     "text": [
      "Defining theorems for context 'proveit.logic.boolean.conjunction'\n",
      "Subsequent end-of-cell assignments will define theorems\n",
      "'%end theorems' will finalize the definitions\n"
     ]
    }
   ],
   "source": [
    "import proveit\n",
    "# Automation is not needed when building theorem expressions:\n",
    "proveit.defaults.automation = False # This will speed things up.\n",
    "from proveit import ExprRange, IndexedVar\n",
    "from proveit._common_ import A, B, C, D, E, AA, BB,CC, DD, i, j, k, l, m, n\n",
    "from proveit.logic import And, Or, Not, TRUE, FALSE, Forall, inBool, Booleans, Equals\n",
    "from proveit.core_expr_types._common_ import A_1_to_l, A_1_to_m, B_1_to_m, C_1_to_m, C_1_to_n, D_1_to_n\n",
    "from proveit.number import Naturals, one\n",
    "%begin theorems"
   ]
  },
  {
   "cell_type": "code",
   "execution_count": 2,
   "metadata": {},
   "outputs": [
    {
     "data": {
      "text/html": [
       "<strong id=\"trueAndTrue\"><a class=\"ProveItLink\" href=\"_proofs_/trueAndTrue.ipynb\">trueAndTrue</a>:</strong> <a class=\"ProveItLink\" href=\"__pv_it/5483805b01567d7bd159036b48e43639e7ca67500/expr.ipynb\"><img src=\"data:image/png;base64,iVBORw0KGgoAAAANSUhEUgAAADUAAAAPBAMAAAC2KZqIAAAALVBMVEX///92dnbu7u5ERETMzMwy\n",
       "MjLc3NyYmJi6urqIiIiqqqpUVFQiIiJmZmYAAADMZXmcAAAAAXRSTlMAQObYZgAAAHFJREFUGNNj\n",
       "uHMGBE4zIAFesNCZDSD2SrhoAozBNQHKQMjF4pZjsVHAKcfdOQGnnCrDAZxyUkCIS+4AQyouOfYJ\n",
       "DNwOOOR4FBhYNuCQWwvEYTjkwqDyWORYDCDmosi1Q33eACQ4IYIcBQwogANMOiAEAGEgJV+JGj3x\n",
       "AAAAAElFTkSuQmCC\n",
       "\" style=\"display:inline;vertical-align:middle;\" /></a><br>"
      ],
      "text/plain": [
       "trueAndTrue: TRUE and TRUE"
      ]
     },
     "execution_count": 2,
     "metadata": {},
     "output_type": "execute_result"
    }
   ],
   "source": [
    "trueAndTrue = And(TRUE, TRUE)"
   ]
  },
  {
   "cell_type": "code",
   "execution_count": 3,
   "metadata": {},
   "outputs": [
    {
     "data": {
      "text/html": [
       "<strong id=\"trueAndFalseNegated\"><a class=\"ProveItLink\" href=\"_proofs_/trueAndFalseNegated.ipynb\">trueAndFalseNegated</a>:</strong> <a class=\"ProveItLink\" href=\"__pv_it/2c0133563043d3ed120a21814f641d23cec1706f0/expr.ipynb\"><img src=\"data:image/png;base64,iVBORw0KGgoAAAANSUhEUgAAAFYAAAAUBAMAAADl6NejAAAAMFBMVEX///+6uroQEBCqqqqIiIgy\n",
       "MjJERETu7u6YmJjMzMxUVFTc3Nx2dnYiIiJmZmYAAAAutVgsAAAAAXRSTlMAQObYZgAAAPdJREFU\n",
       "KM9jYECAHQx4APMGZB57AsPbuyBwC00ZpwGIXI0sxArWaQLjciOMdACRpchq+xhQ1LI+QFXL44Ck\n",
       "9jaq2mnXUdWyKyCUcl9AVbvQBVUtQyBCLcsDFLXsAbxoas8h1LI1oKjlMeAxQFXbCgmmO0AmrwGK\n",
       "Wl4G7gBUtbYQ3i4gZhJAUdvCwLASVe18nGqBoTALp1pUNzA/gEUOXK0sQi2q30DqmB+g+Q0S4yCP\n",
       "o4TZNKg7kNS+QYQZIyQuJKAxASJAscF39+4l3bt3FzAwRGLEMRQIwKxDJMMLGGkHJ0BJO2wb8Kot\n",
       "RUvr+EA2Cg9vHuLYwAAAxXE7tI62KFkAAAAASUVORK5CYII=\n",
       "\" style=\"display:inline;vertical-align:middle;\" /></a><br>"
      ],
      "text/plain": [
       "trueAndFalseNegated: [not](TRUE and FALSE)"
      ]
     },
     "execution_count": 3,
     "metadata": {},
     "output_type": "execute_result"
    }
   ],
   "source": [
    "trueAndFalseNegated = Not(And(TRUE, FALSE))"
   ]
  },
  {
   "cell_type": "code",
   "execution_count": 4,
   "metadata": {},
   "outputs": [
    {
     "data": {
      "text/html": [
       "<strong id=\"falseAndTrueNegated\"><a class=\"ProveItLink\" href=\"_proofs_/falseAndTrueNegated.ipynb\">falseAndTrueNegated</a>:</strong> <a class=\"ProveItLink\" href=\"__pv_it/8aeaeb949fc56619903ea92adc2283dab31894a00/expr.ipynb\"><img src=\"data:image/png;base64,iVBORw0KGgoAAAANSUhEUgAAAFYAAAAUBAMAAADl6NejAAAAMFBMVEX///+6uroQEBCqqqqIiIgy\n",
       "MjJERETu7u6YmJjMzMxUVFTc3Nx2dnYiIiJmZmYAAAAutVgsAAAAAXRSTlMAQObYZgAAAPZJREFU\n",
       "KM9jYECAHQx4APMGZB57AoicjKaG7y4YLGBYjSzKCtZpAuNyI4x0AJGlyGr7GFDUsj5AVcvjgKT2\n",
       "NqraaddR1bIrIJRyX0BVu9AFVS1DIEItywMUtewBvGhqzyHUsjWgqOUx4DFAVdvK8BYUIneATF4D\n",
       "FLW8DNwBqGptIbxdQMwkgKK2hYFhJara+TjVAkNhFk61qG5gfgCLHLhaWYRaVL+B1DE/QPMbGHCC\n",
       "PI4SZtOg7kBS+wYRZozAuAAGitLdu7dAMQESgsYGI8TGSIw4hgIBmHWIZHgBI+3gBChph20DXrWl\n",
       "mGkdJ8hG4eHNQxwbGACwdDx3X6+6OwAAAABJRU5ErkJggg==\n",
       "\" style=\"display:inline;vertical-align:middle;\" /></a><br>"
      ],
      "text/plain": [
       "falseAndTrueNegated: [not](FALSE and TRUE)"
      ]
     },
     "execution_count": 4,
     "metadata": {},
     "output_type": "execute_result"
    }
   ],
   "source": [
    "falseAndTrueNegated = Not(And(FALSE, TRUE))"
   ]
  },
  {
   "cell_type": "code",
   "execution_count": 5,
   "metadata": {},
   "outputs": [
    {
     "data": {
      "text/html": [
       "<strong id=\"falseAndFalseNegated\"><a class=\"ProveItLink\" href=\"_proofs_/falseAndFalseNegated.ipynb\">falseAndFalseNegated</a>:</strong> <a class=\"ProveItLink\" href=\"__pv_it/198fb19082628ea079557783278dc21d98e172f00/expr.ipynb\"><img src=\"data:image/png;base64,iVBORw0KGgoAAAANSUhEUgAAAFYAAAAUBAMAAADl6NejAAAAMFBMVEX///+6uroQEBCqqqqIiIgy\n",
       "MjJERETu7u6YmJjMzMxUVFTc3Nx2dnYiIiJmZmYAAAAutVgsAAAAAXRSTlMAQObYZgAAAPxJREFU\n",
       "KM9jYECAHQx4APMGZB57AoicjKmM0wBErkYWYgXrNIFxuRFGOoDIUmS1fQwoalkfoKrlcUBSextV\n",
       "7bTrqGrZFRBKuS+gql3ogqqWIRChluUBilr2AF40tecQatkaUNTyGPAYoKptZXh7FwjuAJm8Bihq\n",
       "eRm4A1DV2kJ4u4CYSQBFbQsDw0pUtfNxqgWGwiycalHdwPwAFjlwtbIItah+A6ljfoDmN0iMgzyO\n",
       "EmbToO5AUvsGEWaMwLgABorS3bu3QDEBEgLFBt/du5d0795dwMAQiRHHUCAAsw6RDC9gpB2cACXt\n",
       "sG3Aq7YUM63jBNkoPLx5iGMDAwAx0Tt0ptNgBgAAAABJRU5ErkJggg==\n",
       "\" style=\"display:inline;vertical-align:middle;\" /></a><br>"
      ],
      "text/plain": [
       "falseAndFalseNegated: [not](FALSE and FALSE)"
      ]
     },
     "execution_count": 5,
     "metadata": {},
     "output_type": "execute_result"
    }
   ],
   "source": [
    "falseAndFalseNegated = Not(And(FALSE, FALSE))"
   ]
  },
  {
   "cell_type": "code",
   "execution_count": 6,
   "metadata": {},
   "outputs": [
    {
     "data": {
      "text/html": [
       "<strong id=\"emptyConjunctionEval\"><a class=\"ProveItLink\" href=\"_proofs_/emptyConjunctionEval.ipynb\">emptyConjunctionEval</a>:</strong> <a class=\"ProveItLink\" href=\"__pv_it/560f9d7b26bd59dafe8c0d5b346e799351dd8cc70/expr.ipynb\"><img src=\"data:image/png;base64,iVBORw0KGgoAAAANSUhEUgAAAFYAAAAUBAMAAADl6NejAAAAMFBMVEX///8QEBCYmJiqqqpUVFTu\n",
       "7u5ERERmZmbc3NwiIiK6urp2dnbMzMwyMjKIiIgAAADRdxPqAAAAAXRSTlMAQObYZgAAAPFJREFU\n",
       "KM9jeHuHAQJ0Z4GpJgYLBlxgFyqLNYGBpQFdTeVMEJgCUdEAV8vbwMB6AYuRdnAV1+EsdSDeh08t\n",
       "T2YATO0MIA7Ep5Zl3QMoi2MCyB0L8KiNZZgAZfEVAAnuAjxqNwMhhMWmACSYwJ7bexcErqOrncDQ\n",
       "C2VxGgAJ5gm4zWV6wMByAKKWEeRUng+41XIGMPA4EKnWHEjdQHID1wSEe6+gqQWqA6lH8xtWc3kS\n",
       "GMDu2AULLvYNONWygNzI9wCsFmw97wFMtYsgarnAnAOIOI4kMk3iSjvY1LLhSJM40jpbAy61L2F5\n",
       "6C0sD2ngUgoAUTxXQbIhWYQAAAAASUVORK5CYII=\n",
       "\" style=\"display:inline;vertical-align:middle;\" /></a><br>"
      ],
      "text/plain": [
       "emptyConjunctionEval: [and]() = TRUE"
      ]
     },
     "execution_count": 6,
     "metadata": {},
     "output_type": "execute_result"
    }
   ],
   "source": [
    "emptyConjunctionEval = Equals(And(), TRUE)"
   ]
  },
  {
   "cell_type": "code",
   "execution_count": 7,
   "metadata": {},
   "outputs": [
    {
     "data": {
      "text/html": [
       "<strong id=\"leftFromAnd\"><a class=\"ProveItLink\" href=\"_proofs_/leftFromAnd.ipynb\">leftFromAnd</a>:</strong> <a class=\"ProveItLink\" href=\"__pv_it/051bf41691f1a4e8dba1753e6abc82cebf8154d00/expr.ipynb\"><img src=\"data:image/png;base64,iVBORw0KGgoAAAANSUhEUgAAAHMAAAAWBAMAAAABVL48AAAAMFBMVEX///8QEBCIiIhmZma6urrM\n",
       "zMxUVFQiIiJERETc3Nzu7u6qqqp2dnaYmJgyMjIAAAAcRTyBAAAAAXRSTlMAQObYZgAAAchJREFU\n",
       "OMudkz1IAzEUx//2qm3au+quQzdd/IBCBSm24OIiVQdHLajgpuiq6CDSinB1slsPFJQKeuDkpOKg\n",
       "qMjpKmLBzUXxA1tFNHnnQQa1nAfJS/7v/ZJc3gvw/68oumvX2CBvp2Jw5xq95y3HG5tzS2r3BhDi\n",
       "TTXdopvxLOdPCoUV1+e1WhO8L6XT025Jr7FncTMKZGhu991Ph2NZcjtxfnuqx6IZR1rDUJibLgQo\n",
       "QdqzfQF1UOuIcOJuEmQugANHSiDfxo0PHrE5Vj9IVVIIvsloIE5uRIE9w5aqhyPjIimq5aP5yRQZ\n",
       "XxhKUUbV9Tayk0Cn86tAlYhhxQFaKZwmebsXLYaM9vsp64EXeJzK4bn00U9lRkRfg3aSk81NKcho\n",
       "SpmgnR4vF74VxtHQgxjtkOsKraSfA40yqpkeilKL8EzYkigDf1mMasU9B27PdDrnEpA3JXQrdmzf\n",
       "2j7YOykbn3cI6q/iBjSBKAbyvcLB3cmshHaAvdAGJrzlH+ujhzsttgj2BtYgHdjLM/OBHF/YwPL+\n",
       "T6S/BKbPVNfj6CkylpBQfQ65V6vPVGcj0fm/ajMoryY7Kj+t3V/QYLbyW/oF1dw9LKVSwBeDsXAY\n",
       "KpZ6WQAAAABJRU5ErkJggg==\n",
       "\" style=\"display:inline;vertical-align:middle;\" /></a><br>"
      ],
      "text/plain": [
       "leftFromAnd: forall_{A, B | A, B} A"
      ]
     },
     "execution_count": 7,
     "metadata": {},
     "output_type": "execute_result"
    }
   ],
   "source": [
    "leftFromAnd = Forall((A, B), A, conditions=[A, B])"
   ]
  },
  {
   "cell_type": "code",
   "execution_count": 8,
   "metadata": {},
   "outputs": [
    {
     "data": {
      "text/html": [
       "<strong id=\"rightFromAnd\"><a class=\"ProveItLink\" href=\"_proofs_/rightFromAnd.ipynb\">rightFromAnd</a>:</strong> <a class=\"ProveItLink\" href=\"__pv_it/9ff49477ebd89907b01c5e678b9fa24c70be20aa0/expr.ipynb\"><img src=\"data:image/png;base64,iVBORw0KGgoAAAANSUhEUgAAAHMAAAAWBAMAAAABVL48AAAAMFBMVEX///8QEBCIiIhmZma6urrM\n",
       "zMxUVFQiIiJERETc3Nzu7u6qqqp2dnaYmJgyMjIAAAAcRTyBAAAAAXRSTlMAQObYZgAAAYZJREFU\n",
       "OMudkz9Iw0AUxj8T+ydtYrsp6JDNLlqhoKOCi4u0k44NqFAcVHBUoYJDKkK76daKWxcLTp0dhCqS\n",
       "XYoVN0crpVZE7y6UHjlDOd/w7t3v7rt3914C/N9a1DWlJMZuJ5U7Ae7p5E0u3UgeWMzggoRaXk6a\n",
       "dYD0HMYqgF6TkyZLwLMJo1GtnkvW5xiIjJOUXds+lJR2gPVtMm4BBQZcv9K+zZVoMNrf6OFAoNNM\n",
       "HNBgGRHWIOPDrXwcepwG4X4rPBxQPoFLiwQhKA4FV9+MqxaiPV7q5WSFHKF8kUB3Qgw09tkQMqG2\n",
       "eKmXAzGSUXmnTW2tsQeYNuPXGcxWOKnA3bYG2TMKm9QHscB4eiZhgZMK3G1rln1FN3vUPyHJ+CMw\n",
       "zUsFDryQ8k+wG8RM4iKvD0U2OwPKtYFU5Nj52Zi33dCgS2oF5QydkcqlSwOpyAVbJdkd7RRaD9oU\n",
       "d2GRey3chVY8Ckzirp3KLQ2kf3Afi/Kn+XAfq/tI68Oljo/Ukfuz1GEbfgEUVW+4LH+JngAAAABJ\n",
       "RU5ErkJggg==\n",
       "\" style=\"display:inline;vertical-align:middle;\" /></a><br>"
      ],
      "text/plain": [
       "rightFromAnd: forall_{A, B | A, B} B"
      ]
     },
     "execution_count": 8,
     "metadata": {},
     "output_type": "execute_result"
    }
   ],
   "source": [
    "rightFromAnd = Forall((A, B), B, conditions=[A, B])"
   ]
  },
  {
   "cell_type": "code",
   "execution_count": 9,
   "metadata": {},
   "outputs": [
    {
     "data": {
      "text/html": [
       "<strong id=\"andIfBoth\"><a class=\"ProveItLink\" href=\"_proofs_/andIfBoth.ipynb\">andIfBoth</a>:</strong> <a class=\"ProveItLink\" href=\"__pv_it/e74ee69c57cce49c937433119e1564a28c09d3f00/expr.ipynb\"><img src=\"data:image/png;base64,iVBORw0KGgoAAAANSUhEUgAAAK0AAAAWBAMAAABAjAHGAAAAMFBMVEX///8QEBCIiIhmZma6urrM\n",
       "zMxUVFQiIiJERETc3Nzu7u6qqqp2dnaYmJgyMjIAAAAcRTyBAAAAAXRSTlMAQObYZgAAArtJREFU\n",
       "OMutVU1oE1EQ/tzsJtn81J5E0ENuetEWAhGk2KgXL9LqwaMNVKEXaVEQFKURxKZVyHoyF21EoVKh\n",
       "LuTUU2M9KK1IrCCIiIGe7CWlsb8S6rx5L+EZTWHVB7szb+bN983OTF6Av1oPd/RO01MWyhePsKG0\n",
       "lOeb7B+3+xOZJPwOMC/2Sx5x2xwpK2rv1B17Ad8qQpRsjnZ22iPuBymilbxUFpXdqgFmFZglanJF\n",
       "XI+416R43i0TtUYUvrFJZCvAYxJzk5MPPMLaQ1KWOpIs/Sdi0hBsJ8zrlCzZNzKZGx5xjU4WZn6m\n",
       "xMoUFNHuFKyrogB04CIwykb5PlV9NSC/LqlQgrw1s12J0bpFwj1Fn8xzXnYf6Lu0MCJqGqXGneT2\n",
       "kf5d9qIdkXbW6s38KgneAy+VJeAq4nGZ+BAeSUeHg9AekmHKPwCD6Z/U2OVLIbyl44a6ZXYJYEa1\n",
       "ZxczWf3xQT4TjcHfy45bAptIrWWqRSnAtrkrMpcYfGUdNzIhk7oMHIOOa5LCJwN5WCl2rAncmMS1\n",
       "y+eYPZZh14teHM7ruGeDrIRWYSz9Ugd6BbhiBXq+1ccXg0Rqij6OXuBZwRGO6Tl0UHLXcVM+bra5\n",
       "snAHet9swm1bhsIs1MfX2lB9Q4HjPqODY94BB3TcqGtwcKQMQ00TjxHE0Ac3RZZpWQuiofSPj4km\n",
       "FcXQiWEJLb7N8uffA8ZdDXeq6w23MViE/UPhis98tr2EcHadGPyi2gaB+Ctr8YG7fH+INkYFni+P\n",
       "ce4pxfY4Gu5R2Ks88i7MzabfsWLhd69ummhopymyZI/B3oK9X6uDSaWsIUesedwvNt07LddsoxMb\n",
       "sLM3rX14XY0PJDXcbBq59dIZNzIcT9xuxAWdna/ncpMhrG/0y9P9873eYv1GO90CN+x4+h/61Gwo\n",
       "tcCN4j+uzn8J/glIXrXYTMUp0gAAAABJRU5ErkJggg==\n",
       "\" style=\"display:inline;vertical-align:middle;\" /></a><br>"
      ],
      "text/plain": [
       "andIfBoth: forall_{A, B | A, B} (A and B)"
      ]
     },
     "execution_count": 9,
     "metadata": {},
     "output_type": "execute_result"
    }
   ],
   "source": [
    "andIfBoth = Forall((A, B), And(A, B), conditions=[A, B])"
   ]
  },
  {
   "cell_type": "code",
   "execution_count": 10,
   "metadata": {},
   "outputs": [
    {
     "data": {
      "text/html": [
       "<strong id=\"nandIfLeftButNotRight\"><a class=\"ProveItLink\" href=\"_proofs_/nandIfLeftButNotRight.ipynb\">nandIfLeftButNotRight</a>:</strong> <a class=\"ProveItLink\" href=\"__pv_it/e4d89b904aacdcdcc36e6a3163fc1b5bfc77f08e0/expr.ipynb\"><img src=\"data:image/png;base64,iVBORw0KGgoAAAANSUhEUgAAANYAAAAWBAMAAABOJX+pAAAAMFBMVEX///8QEBCIiIhmZma6urrM\n",
       "zMxUVFQiIiJERETc3Nzu7u6qqqp2dnaYmJgyMjIAAAAcRTyBAAAAAXRSTlMAQObYZgAAAwtJREFU\n",
       "SMe1Vk1IVFEU/pwZZ+bNXy6CgloMtMhNKQgJITjUojbh1KJ2OWCBtUihRYQFEwQ9o5pZmZvySYFi\n",
       "YAMuolWRi0IjBlpFmIa1yI2SOeqE2LnnvvfmKDMRr7ow7/58z/Od893v3ifguT0QY6P4uzef0y+a\n",
       "B+bUZMYDVSQrJqO6O7vtnXhPqaX7JoLEgwvAtFpb8MCVyIvJN90t2lMXqqOE2tMRVdA4MKgUyHrg\n",
       "ei/zb9bdoqXn8w7QSdp2NOMVDWNJJAiOFTxwXRXjkC7kSbvu62/ZnGiihdkkhpXmDYhPjY3d90Bl\n",
       "9IqJHaDYlOI+eCRpAzeIY5eFhFr/AqyZ5jUPXL5mMdnHz4D1QttxHE4iJeDMRRJOvTwJnAf6eV0/\n",
       "jy9PdrMSASdQWJjARRGWLr/Lz8fo1PVMa8eRmKWZxj61kcocn4CjYJsg/kPvbwNiDRzMCTSbEiZw\n",
       "UIRoj1uvUFOi9PFSCkO62F48tItfB4YzdLhUnc/oj+DjFB9tMOzPIFqWXJF2UYGLos7JYIB+O7mI\n",
       "rpYeNnQ8iWBaF095+X4StKQ8SVoWQ7w+dVnnm4R/TnLFRsTOuGgVLhK9jrGQhfoMYzuo832vcBlz\n",
       "pzmrpMnw0zQOWpLrVFicPhdlDV0u1pAWQqzvhHu41fEK0t4ElIbHlCfOsU/RynDHgUadk8OV8Qt3\n",
       "u2jFGwO2NwziSiw5l8iEe7w6sxVvYIJjfUQTw++A/ZIrXvCpADHTNO8JVNuYBdF25jMWXlcLWa0j\n",
       "tc9U0m4a+V/SpE2JqowamX+bY/gOMFQQXONtb8p21KBAtSxOI3lGNxcQza1SBkG1kz4V9NJm1yFT\n",
       "vZ5QVvmqMlccfgtD7B1yTUdecB2GsVLhctGqd5Ru+mCm5cEfUdW4yZ2g+orGbRhlGHuFhgHalg0M\n",
       "Wpqrgla9e2s2++61d3oNRu56/R68Xm7pTgmuXBaDq8WTrJsh0K3XiX3n1PzU2d+ULS0qxmEJFP7s\n",
       "W1mjcVr9VT7W1bii+b/6H+CDknl7iGINrjj+b/P/84i/ALGBykwiTeHHAAAAAElFTkSuQmCC\n",
       "\" style=\"display:inline;vertical-align:middle;\" /></a><br>"
      ],
      "text/plain": [
       "nandIfLeftButNotRight: forall_{A, B | A, [not](B)} [not](A and B)"
      ]
     },
     "execution_count": 10,
     "metadata": {},
     "output_type": "execute_result"
    }
   ],
   "source": [
    "nandIfLeftButNotRight = Forall((A, B), Not(And(A, B)), conditions=[A, Not(B)])"
   ]
  },
  {
   "cell_type": "code",
   "execution_count": 11,
   "metadata": {},
   "outputs": [
    {
     "data": {
      "text/html": [
       "<strong id=\"nandIfRightButNotLeft\"><a class=\"ProveItLink\" href=\"_proofs_/nandIfRightButNotLeft.ipynb\">nandIfRightButNotLeft</a>:</strong> <a class=\"ProveItLink\" href=\"__pv_it/98eca3b7ca5ea40dc2f8552fe019070cbbae4d730/expr.ipynb\"><img src=\"data:image/png;base64,iVBORw0KGgoAAAANSUhEUgAAANYAAAAWBAMAAABOJX+pAAAAMFBMVEX///8QEBCIiIhmZma6urrM\n",
       "zMxUVFQiIiJERETc3Nzu7u6qqqp2dnaYmJgyMjIAAAAcRTyBAAAAAXRSTlMAQObYZgAAAthJREFU\n",
       "SMe1VktoE1EUPc1/mo9ZCAq6CLiwG02gYDdCgy50I8lKdyZQhejCFlyIVCGC4FSUZFXdaFMULBVq\n",
       "IQvpSrELpRUJuBKpRqoLu2mxUvtB6r33TZLJzKTCoA8y73PevHPveee9CeC6PDC1tdpOM2foFy4D\n",
       "de4suKDqLpo6E6o6a5kTHVzrLdxEgHhwAZjnsSUXXLGyqfNdVctGtwl1UUD92W5OaAq4zwoUXXC9\n",
       "N8efUtVyRfUXG0COtM2k8IqakQRiBEemXXBdNbWDKpGn/ar23zI4kaSBzwmMs+ZxROcmJ++5oNKG\n",
       "TB1jgVoyLXXgWMIAbhDHngpiPP4VWNf1ay64PClT54A8fZUXyo5TaASyBpy5SMLx5FngPDAi4+p5\n",
       "cnW2IEr42te2oAiZXX5Xno+RU/nMK8eRmGsLPcO8kWyOT8BxiE0Q/an2N45IXBZrd68FRZD2uO8K\n",
       "FRZlWIbSGFPJDuGhkfwGMJ6nw8V5PqeX4JEQH/0W2JtHeNPOZUXRlTaQUfrtliQGegfF0NEEAlmV\n",
       "PMXl2SJohT1JWtaCMj53WcWbgLdu57KiDlwkepdgwQr8ecF2UeX50eLS6qclqoQu8LMsDldsXDZU\n",
       "NGxyiYY0EBR9q83DzccrQOr7WMMTvOvnxKfoEzhzqEfF1MZlQ1veGDW8oRFXbKVxiVSbxytXbHkD\n",
       "VTHoRyQFfgccNHG90XW97oAqG0vKys5yxkIbPFBUOlL5QintpZb3JXWOsqhs1O7FtyWB7wBj0+15\n",
       "5R1QJUujkDwT20sIl35RBAHeSQ8veml74IjO02NslW9sG17FW8GYeIdckylbueyo4x2lijqYWfMW\n",
       "POFsmsGdovxq2m1om9D2w8plRx3v3o7FuHuNnV6HVrru34fXq72FtIWr7IASXrbdKh0/dcY3pa2E\n",
       "Te2Q7ZXwX7+VHYqENeLwse7MNeP2P8AHlrlsGaztyFXD/yref77iHzs/yYlbBkZPAAAAAElFTkSu\n",
       "QmCC\n",
       "\" style=\"display:inline;vertical-align:middle;\" /></a><br>"
      ],
      "text/plain": [
       "nandIfRightButNotLeft: forall_{A, B | [not](A), B} [not](A and B)"
      ]
     },
     "execution_count": 11,
     "metadata": {},
     "output_type": "execute_result"
    }
   ],
   "source": [
    "nandIfRightButNotLeft = Forall((A, B), Not(And(A, B)), conditions=[Not(A), B])"
   ]
  },
  {
   "cell_type": "code",
   "execution_count": 12,
   "metadata": {},
   "outputs": [
    {
     "data": {
      "text/html": [
       "<strong id=\"nandIfNeither\"><a class=\"ProveItLink\" href=\"_proofs_/nandIfNeither.ipynb\">nandIfNeither</a>:</strong> <a class=\"ProveItLink\" href=\"__pv_it/6aa65b86844199e3d53c37c1ab885b91071958570/expr.ipynb\"><img src=\"data:image/png;base64,iVBORw0KGgoAAAANSUhEUgAAAOEAAAAWBAMAAADECuboAAAAMFBMVEX///8QEBCIiIhmZma6urrM\n",
       "zMxUVFQiIiJERETc3Nzu7u6qqqp2dnaYmJgyMjIAAAAcRTyBAAAAAXRSTlMAQObYZgAAAuhJREFU\n",
       "SMe1Vk1oE0EU/kyySTY/bQ8igh4CHvSiLQTiRTTqQS/SnDzaQBV6kQYFBX+wgthtVbKe6slEFCwV\n",
       "tNBTT432oLQisQdBRAj0ZC8pTVubSqkz780m2WxWJKUPXna+eTvzzXvzzWyAnZledAMOm1ZekuBn\n",
       "24zjLcClpne+bfcnjCT8JsjnZd9S24y/WoCygqbVvx/wriEkkpP+TFZjqF3CaI8TRMt5xouqX9sC\n",
       "fBXgA8g7RDgy2S5jwHSCN6f4qQ0rZk9VLGMFeAHy6NzExFjbRR1rAYrdSXr6z8S4I9glmG6J5JLs\n",
       "G4Zxp23GQ07gy8+wZN8iw/2daWg3ZCl72K8AIxTg3/OV2QGqis8+90i96cueSCj4pPEVBq/Qx7nN\n",
       "syqBvqsLw3LfoiX2syQg0V7lfe9CpItqYZfIagP4Crzn1m2hwpvSCgyEJZFjBWXwnF/qNhHaJ57h\n",
       "DHsAHqrCyy0Ke9MIbzoZVZQtAcywKvZaZz9tAa0/PkjSj8bgT1HwvmQVSWrL7JFigPrnrrPgYvCW\n",
       "nIwqynYNOAkXRrEZe2h8IA8tTcF1yRirM+qli7S2mEHhdykcyzsYrShZaA2epVpV64wERC4B2pUp\n",
       "60qQxxGDQqO+DDtGLpOWcZzG9h49wiuzMVpRVs7KwkPYlUOMEuiCsWPZuoCmrOOobTQoB1Mk4h/o\n",
       "prFfgMMNjJ8MwyjVoowiJXiU8GetVaQUkGcyWJWZDXFlxQJEyqdHpUQK7OiUYg4tfs5SMR8DuUl7\n",
       "jul6lFCwAP0Pg3ONhRBgfHsJ4exvIVa/vAY8Ymp/eT0+8EjGO1LsiMq5vHnkSFliql6zmbEWJdQ5\n",
       "CV/V/ZZTpa+lXrPXytkuiFyL+ij0TegH0cxoRRnl8nhacL/JXU3d5Orq24CevasdwMdKfCDZxGjW\n",
       "ooQi9+KJBy2uoibgMOtrZbNwQzvoGBL+zy+yiwVNdscfA3fG6Z396/iu3GbFfzIWsbvm3aV5/wLa\n",
       "wtGyB0bIlAAAAABJRU5ErkJggg==\n",
       "\" style=\"display:inline;vertical-align:middle;\" /></a><br>"
      ],
      "text/plain": [
       "nandIfNeither: forall_{A, B | [not](A), [not](B)} [not](A and B)"
      ]
     },
     "execution_count": 12,
     "metadata": {},
     "output_type": "execute_result"
    }
   ],
   "source": [
    "nandIfNeither = Forall((A, B), Not(And(A, B)), conditions=[Not(A), Not(B)])"
   ]
  },
  {
   "cell_type": "code",
   "execution_count": 13,
   "metadata": {},
   "outputs": [
    {
     "data": {
      "text/html": [
       "<strong id=\"nandIfNotRight\"><a class=\"ProveItLink\" href=\"_proofs_/nandIfNotRight.ipynb\">nandIfNotRight</a>:</strong> <a class=\"ProveItLink\" href=\"__pv_it/58940e15458f3da6ff43c8e15e3de78f3e24b2a80/expr.ipynb\"><img src=\"data:image/png;base64,iVBORw0KGgoAAAANSUhEUgAAAO4AAAAWBAMAAAA1Ab1lAAAAMFBMVEX///8QEBCIiIhmZma6urrM\n",
       "zMxUVFQiIiJERETc3Nzu7u6qqqp2dnaYmJgyMjIAAAAcRTyBAAAAAXRSTlMAQObYZgAAA3JJREFU\n",
       "SMe1Vk1IVFEU/nzz+2beqIugFhEPWuQmnRjQIkupRW3EaZO7HLDAWuSQi4qMpoh6g+VMi0wC84Ut\n",
       "xMgEiQgCJyQiFZlqUWDalLlICEPL/CHs3HvfzDzHRoqxA2fuvefcd7/ze+8A60LtprkcX2unOyo4\n",
       "wRZjOcK6QqZFlxiOZOzxNMz56i8Dx8F5iMmmcsTNj5oWX8QwbSxTqjwyrsKPHpoSt7HIhHLEfWP2\n",
       "yyuGaV2sJ5KKWop/tReKCsb5pFZ6c8Q9a5o7hIP3K8Rou2rgo4QEH1S4CsHYM9jdfStHWDloWhiH\n",
       "xUsq+WjfpxqKi4S3kYz4DM7zmtaUI67kNS228l+r3i/KugdJo+aAmhM0Dgg+BoS5PJxxmjVSXrpK\n",
       "ZpofnB2oF7F0mjvnOv+9h1rh55CoXAr43FjROTYZF7wfLt5Lnu9GXXyaaBT5fgU8E7Lx4rLdAsFc\n",
       "QIVQCkVKaX/ZaSIWOH42KtEhghDEHSMoC8DdAE0eC3ZA4uZ2/mLVMLAHaqz9Ed9ZCvTrcD31xSVF\n",
       "HvVn4loCcC+KDqk0RK3EG7hzdb4G3iQeFXa/MJlslJZYXQtW4g4uH2ykXc23daiq8oBLTgF7gXdP\n",
       "uiFJGIxn4jpUWBJZcCkfeVzn0GELcF0BDdJMGldOHOYWqhqLOZGqVr3kl9APSFOwsnBJkvV9NBP3\n",
       "oR/FeirOKVweZxI4eA76UhcJa187y+UBg8NHeb2jzLg0Vd8WHhnrzOsrdBXx3Fh2TK7Kb/X2IuFJ\n",
       "uq5ajbqSCTf/W/Ly6ku1b20oXVfo44U+ihK4vMJfy002KglIQXRyXAm70vlVNE1rAUaAbQJOSfaR\n",
       "zWgT1sPOBSYIiVgTfSRPNrFZucEFrOBdE8MR3XZG0y6x/EocIwZ5CTUEohJuTF3hrx24BnSIAFvN\n",
       "9waFsGt5Cu7IT7LGzjIvsU9PLteVanz7pMEeZoRFR4cfAeGvYuGF0AvrAgPg/sa8mbhUm9XRrPek\n",
       "ud/9K96uoGBBVYQTx3OOG1OG0UZ26LgRg8I+khQMxzJw5UXIm7O/C1nJeBeMypiHHDkPJwXC0zTR\n",
       "EsehXuWCr5SeSzQTvx3Z+XVlXcl4MeurT/aP0+xjeG1c4x1cSUWUX0GpJ0qi/Kb0zr9/97NReE3T\n",
       "3NE/ip05/8/xRAVnU+OfcP83WdbroN9TSuVtczFUjwAAAABJRU5ErkJggg==\n",
       "\" style=\"display:inline;vertical-align:middle;\" /></a><br>"
      ],
      "text/plain": [
       "nandIfNotRight: forall_{A in BOOLEANS, B in BOOLEANS | [not](B)} [not](A and B)"
      ]
     },
     "execution_count": 13,
     "metadata": {},
     "output_type": "execute_result"
    }
   ],
   "source": [
    "nandIfNotRight = Forall((A,B), Not(And(A,B)), condition=Not(B), domain = Booleans)"
   ]
  },
  {
   "cell_type": "code",
   "execution_count": 14,
   "metadata": {},
   "outputs": [
    {
     "data": {
      "text/html": [
       "<strong id=\"nandIfNotLeft\"><a class=\"ProveItLink\" href=\"_proofs_/nandIfNotLeft.ipynb\">nandIfNotLeft</a>:</strong> <a class=\"ProveItLink\" href=\"__pv_it/03847f0bc13b68917ff53a303e13f7b4e2d8bffc0/expr.ipynb\"><img src=\"data:image/png;base64,iVBORw0KGgoAAAANSUhEUgAAAO0AAAAWBAMAAADeNgZmAAAAMFBMVEX///8QEBCIiIhmZma6urrM\n",
       "zMxUVFQiIiJERETc3Nzu7u6qqqp2dnaYmJgyMjIAAAAcRTyBAAAAAXRSTlMAQObYZgAAA0BJREFU\n",
       "SMe1Vk1oE0EU/txk89dN24OIJ1nw4slWAqniX9SDp0K86M0GquBFGiyoaMUqYjcWTTxIi6BdqWCp\n",
       "KIXioSB0tQjaFok9+ENVgsGDBWmptrZIqW/mbWqSTURJffCY+d7M22/emzczC6yG+NPlgEOGbM0I\n",
       "8KFC3r4S4HDRnNfLzWEjAk8KUseEbapC3i8lwLQNUzn7esA1hwAFKrRbZKa9MtpgvRMEp03GWduu\n",
       "LgHub8BTSK2mYW2gMl5vygnu7+ZW7bD5lUVazCxwB1KDo/39XRWmuasESNdFZOvZq7PBV0t8ZyjQ\n",
       "COuCYbRVyLvRCdzmMJf1Q8TZXhODelIkt571KJCQA4mir7mTO8IOWyG0h6/m2xjcRRPHOcaVCzQd\n",
       "n+gQ+xnMsO6T5UX973ZdfMq28n6/Ap6w7ePmhu2crMJ6sl3OUqWeEmIxIImgh+srjts8qS6FwDpq\n",
       "q+KsXigyI71LohpGdkK3bj2SM8PAsInA41Ba0fyTUSevdCFZm7sxYjmgNoda5CEJ6vBIT1wQ3BSQ\n",
       "OsOqpb3SPtpKszpvmtB17YG0nAB2AW+H+qEoGE07eYVLaV7ajzUyi14TakwOzgte/TevP3NQrlA3\n",
       "RM5JdL3xhWgDc1Cm4BbpUhT3+5SDV7pgJbU2rwQUl7dWdAZzF4k4vmihOnbHWZE4IusdDfalqYc2\n",
       "yMy4ZycuU8nLs+fa8tm5v9Ilv64krwB+4q2eyV1eg7njqy7k1RUGZaFPog6Beo7XdUO0WgZKHL3S\n",
       "ScG2vP19bhhGhl2kjORWErWBOMO+RRFlO+ealkHh77lCHZfFihpR8IHseNJUTxvGRbG/iuSw4P+J\n",
       "Q8ShE6+lF8YbYxfZ35+fBQJ9y1OoSv6gKDzi8lDI1TM9HzrWKcaro6wICmeXiZ4oYhyv5pIHfQDu\n",
       "RUomx2vVF/OyS7l7Mv+8R/PXdc9WlkbiSeOZ5LW0cXTTR01ct6AJJ0XDuFXMyy7l3oWyYr8L9uW5\n",
       "AH/yHHxUD8G27LU0Dgxo50PhSzQkkvPm5davRXWVsl2cV13ij7S5d7BQNtH+sqw8UQrt78q47+/f\n",
       "/TLiS7GWkarSQ76K/3Pe2VruKce/8P53ca3Wh34BzOvp37UMlqEAAAAASUVORK5CYII=\n",
       "\" style=\"display:inline;vertical-align:middle;\" /></a><br>"
      ],
      "text/plain": [
       "nandIfNotLeft: forall_{A in BOOLEANS, B in BOOLEANS | [not](A)} [not](A and B)"
      ]
     },
     "execution_count": 14,
     "metadata": {},
     "output_type": "execute_result"
    }
   ],
   "source": [
    "nandIfNotLeft = Forall((A,B), Not(And(A,B)), condition=Not(A), domain = Booleans)"
   ]
  },
  {
   "cell_type": "code",
   "execution_count": 15,
   "metadata": {},
   "outputs": [
    {
     "data": {
      "text/html": [
       "<strong id=\"nandIfNotOne\"><a class=\"ProveItLink\" href=\"_proofs_/nandIfNotOne.ipynb\">nandIfNotOne</a>:</strong> <a class=\"ProveItLink\" href=\"__pv_it/186e4e710b00313927fa3a65fc255012b88981310/expr.ipynb\"><img src=\"data:image/png;base64,iVBORw0KGgoAAAANSUhEUgAAArYAAAAZBAMAAAA2+HDNAAAAMFBMVEX///8QEBCIiIhmZma6urrM\n",
       "zMxUVFQiIiJERETc3Nzu7u6qqqp2dnaYmJgyMjIAAAAcRTyBAAAAAXRSTlMAQObYZgAABwZJREFU\n",
       "aN7tWn2IVFUUP/vm4837mt0/SlITBoXUQHdga1dsy7GoDSIcN8iiyMHVEiEcCtzaFDcId7RiJ4Jp\n",
       "iXJHDbS1ckAiFgQnhbI1Y1o1tg9pyP7Rf3ZxWz+2zO7Xe+/eeXfWeUFLlhfue/fe/d3z7v3dc885\n",
       "984C+E7PdWbhZrpeCnZu/hu90jeJqynlbhRu3+fKWunfTOkgy4jbMn6d8cdtFL+s6Zyh3s1V9tHX\n",
       "Mz5lVMN/d62jOZOoaNy9rbn0Xu2yOXg4SzPi9jiun/fHrVlAr2h+GrmN8ib+HH2N8oAqLkDjyqMV\n",
       "f3O63AYQmBDhyhyAg3OkYmQieLhephlx24e7dvvjluD7pnOjneTKVpy+RvnFPVtlTeJut9EKZbC7\n",
       "hK4izzMuwPUehA1ckYmRiRDhR1jOEfUjeujH3mI9Pz6d3L7MlVWqLfuXcboa6pHvoie6nKKA57so\n",
       "iBTrggCPzsKevkEmRiZChO9iOQfW0MDAO3592U8DAx9Op0vT+I+x0ZYaORsZvj8m7bh2rlMU8HyX\n",
       "CCJlV5cAX4aVLRSXiZGJEOHRBM0oTricyWz2y219JtNTnEZuFX5PzqPxY/4w50w/kUcvell14k0B\n",
       "z3epT0FoU56Ha5dILSsRIxNRATfjNCNu1wFs98ttOAmR6TxARHha3iTPD2A1p6rH5SbKLDjmTsTz\n",
       "XVY/P9xTEODmhapiZCIq4FaZZsTtA9Sr+eI2GEdrRiYtZ1hYrIfHj66nsJGO4kIv2NrWqjhigvzR\n",
       "pre1mUpS0dRaOlHCO+wV0pSAfqQboW57TDtl41BBs+dG8cI0WJfGLOgzBLg6YdtZjxiZCAdOk5Gm\n",
       "OYc7KhWR6qrWhDKjekua5EWk/HNC9k3rN6HWACax8ztjsK/Ba0t/Af1VV0P5P30L8Dkp1CW4s84t\n",
       "xI10NG3shlAT3ddWDG8lbxom29LF86NyuuCPNxZ4eN0k2eTwWEulGJCJsOG2hxujGY3VLPHGRD/U\n",
       "VDK6h2Bp9RY8nRPU0ujLpAeIPVf5WiAFBv66hhi3vNFeP+JtRM5tM8DhvJxbpN91SJeClFs1D6GU\n",
       "ZCDIQz3u7Ic6QffcLhcxtzEero7h56cAbZViQCbCgXu41cp8v5HBATCGA1Cs3oKns5OOy9wrDfyG\n",
       "XhSGEIMAnpaKJIS87hxv83Y5ty8A3OfYBIdbYhNQg9rgcHvQPVEIuzPunDoY3k1OFxzewsYED6eh\n",
       "atHmlhMDMhEOnC1jmmY81u1rkT7d2z5PuSOJDSmS9dSTMYw8eXpuXGxxuI3kiCa1R2SnjlAsw1cP\n",
       "JGEx1r5G9NA9YaiCVXpAyq0+Acp50ZflmC/TEFfRMYfbc2ymktOcQVaf4e1p8l1weBu6LMA17JzM\n",
       "vM2tK0ZMtggbTvgSfBkcROOzlpfqNigpelNgJIdOYyZPzYGZYovDrUEtUSqAKhs8YR+08NUVixYQ\n",
       "JX+JVivgqrg6PLfBC8Pb3LCGLhvKR1mMG7lic0s8moqX7k9gjwNl2xV1gYu3p8l1gShS5+U7QICj\n",
       "cM3ANrANhHYs1P2EK4LBCV9IjYs0Y27r0T59dz7UJ1DDHsqkiSej7U7DpNDC3YORsMMqKGPw9KxK\n",
       "bn+ERr76DcB8/P6D1Crh9UUJt8cymUwZzDIoaWebOQlNeN+182D0XoqzP4TxJlKwudkE7KFiAtfi\n",
       "Gg77bbw9Ta5LePRi0/rX6QnBhoO+5Nm7wOHWaSdCnU+4X6VwyhdarCTNmFsLU78GVmKrtgpNKmYk\n",
       "tRIecziGznFCi8vtDyR2bj02yVaa38pnv+7lt/4byF8VmGH92APHVlgvSfQ2BZEiaL9XPfNypNPA\n",
       "zRsoJGxVdxKbpryLF95WpR2kXyV8Aexl2bm/vRUWQH8IbWeipfAgXo66ZKCYFFoq7m+Xgjbh5TaQ\n",
       "h/6kdc+Zuw/R7yJ6VmA6llCDXwEPoJ1lAoIXPdzWFyB4pepdjVeha0hsmrWmNl/CCV/8XQ0LMsfQ\n",
       "ko6YYGI6rARYRW0H9IP6SNJt8XAbROp2lZDVl0dw9oBH0UYvGYthtoH0bgdok6DdjgtqCT7KeuFb\n",
       "QP8KjAVMLM9tfx7eYl8VzijbxTjdz70Em2at6TNf0glf/B0joymFvF5uCABbnrZf0cxCs+EhUE5w\n",
       "LR5ue7uh71IJk7WyEJoJK7P4UYhcBq13C6zT04EEIClfjjetJwX4ovVO6hR4OJgdR5AFWcdOWC63\n",
       "WXNrU/NrU9yNY65aLsb8zN6ZZm3p7a1r/EinfGE1iGRB8puOgqwrUwlPS5XfdLpo+MiSXUobcdVw\n",
       "pbiFKnDllDe+vSF/0/me5al+Lxuc4j6BT+3jBTCcLWuX9JSSCC/kpAxeB26cmJLbGzBNwW2pRm6J\n",
       "e5GUKqSUaoL/T7itmjr/yf9PCPxXmA12bvoL8WAsus1mjr8AAAAASUVORK5CYII=\n",
       "\" style=\"display:inline;vertical-align:middle;\" /></a><br>"
      ],
      "text/plain": [
       "nandIfNotOne: forall_{m in Naturals, n in Naturals} [forall_{A_{1}, ..A_{_a}.., A_{m}, B, C_{1}, ..C_{_a}.., C_{n} | [not](B)} [not](A_{1} and ..A_{_a}.. and A_{m} and B and C_{1} and ..C_{_a}.. and C_{n})]"
      ]
     },
     "execution_count": 15,
     "metadata": {},
     "output_type": "execute_result"
    }
   ],
   "source": [
    "nandIfNotOne = \\\n",
    "    Forall((m, n), \n",
    "           Forall((A_1_to_m, B, C_1_to_n), \n",
    "                  Not(And(A_1_to_m,B,C_1_to_n)), condition=Not(B)),\n",
    "           domain=Naturals)"
   ]
  },
  {
   "cell_type": "code",
   "execution_count": 16,
   "metadata": {},
   "outputs": [
    {
     "data": {
      "text/html": [
       "<strong id=\"falsifiedAndIfNotRight\"><a class=\"ProveItLink\" href=\"_proofs_/falsifiedAndIfNotRight.ipynb\">falsifiedAndIfNotRight</a>:</strong> <a class=\"ProveItLink\" href=\"__pv_it/c163398574854b738198bc6fca1345d0fddf1c940/expr.ipynb\"><img src=\"data:image/png;base64,iVBORw0KGgoAAAANSUhEUgAAAPMAAAAWBAMAAADnUbc9AAAAMFBMVEX///8QEBCIiIhmZma6urrM\n",
       "zMxUVFQiIiJERETc3Nzu7u6qqqp2dnaYmJgyMjIAAAAcRTyBAAAAAXRSTlMAQObYZgAAAyFJREFU\n",
       "SMe9Vk1oE0EU/pr/TbK1gqCgh4AHe9EWAhak0KAHvUijBz0INlCF6sEGBHOoQgTBrajJrT3ZiEJL\n",
       "hRjsQTwp9qC0UnIVqY1UBXuwxWr/pNQ3P7uZhIyFBX3wdl/el91v5s33Zgdwb0ZZuN4ieR3ygrzC\n",
       "gllX1GPSyc7XQWb/SrzvFnCpwWPn2CVAg5pmwYIr6m/SyRZlypllUxboSqLY4LFn7BKmKQ+zymXd\n",
       "MJvtwlm4WBC5eRvsoYXobkc0pqHGa6CZHoqW3FAH88LJnnSJu/+2HALaKDEXQ7hFR/2QBjw1Pj7k\n",
       "qt5D0snKbQl+Dxy1Z3mTarqbxvFZR91MT6xZ1nVX1PulA77CSyH0ItISXAHOXqb7pI46Skt1ERjk\n",
       "P8T1xPJkH6+ez/5rSOkQByW7Jx14jB4x22mhWqr8ymzrAAs+ssvMd2bzNdQm6ewYVxvFP0WqBVG+\n",
       "QCGbbi6hSMtGyQakAwmMCLml8UBgnnVazRQFz3WzjlB9gvDwaj3a5ClvCpENlTrcpewaDkq2Szr8\n",
       "vfF+3iNmDIGkqBSNz/ObKV1H7V+iopeDPJ66KnQbg7eiUkdH2xVV26hKTUvTxJPBAvwpju2gm+fH\n",
       "dtRG5QwPYxZPPU3iUEGlPh1Sut5B1YJTawb5Kkw4ewxr6wBbwePVtf5aQ+1jghy8wPsCHTzVfbBV\n",
       "DNymTnnTVWoHVWRmEHXzkr29TTht3ZO1ZdZo1kxmmOCv/oA2npoBDqjUZsnDXhu1LOu+gsq+mZS9\n",
       "HVpnhcuKopN9omntYVGnjtr7iq0La4zw/Lscf+guMFJSqIudb21dBRRU1pJ8bGsBkdwqCSLAWsHD\n",
       "3nZlq/ewxf/3pY63I5PZmclcozoxPZqM0lvACBcnybI7r1AfgfGrSu2gtRupMLETJFWmcFq3IY06\n",
       "0Umafdm4A2MDxj6l4D7SyyaGC4K6itZ+PrTW6PMB+/Mhd6w1GLkb/r14sxzvSyjUuSyGV8unePEM\n",
       "BbW3v8G/Uxd1QLhSf6pQ4pAKlLY5KuhMO7JQvsGxpRF144PO9gckU3tAel+fKGuoTfxX8/5rgj9f\n",
       "ldxfC6wJFAAAAABJRU5ErkJggg==\n",
       "\" style=\"display:inline;vertical-align:middle;\" /></a><br>"
      ],
      "text/plain": [
       "falsifiedAndIfNotRight: forall_{A, B | A, [not](B)} ((A and B) = FALSE)"
      ]
     },
     "execution_count": 16,
     "metadata": {},
     "output_type": "execute_result"
    }
   ],
   "source": [
    "falsifiedAndIfNotRight = Forall((A, B), Equals(And(A, B), FALSE), conditions=[A, Not(B)])"
   ]
  },
  {
   "cell_type": "code",
   "execution_count": 17,
   "metadata": {},
   "outputs": [
    {
     "data": {
      "text/html": [
       "<strong id=\"falsifiedAndIfNotLeft\"><a class=\"ProveItLink\" href=\"_proofs_/falsifiedAndIfNotLeft.ipynb\">falsifiedAndIfNotLeft</a>:</strong> <a class=\"ProveItLink\" href=\"__pv_it/535ebc174044a095ef964b5b9794aee8dec7ba8e0/expr.ipynb\"><img src=\"data:image/png;base64,iVBORw0KGgoAAAANSUhEUgAAAPMAAAAWBAMAAADnUbc9AAAAMFBMVEX///8QEBCIiIhmZma6urrM\n",
       "zMxUVFQiIiJERETc3Nzu7u6qqqp2dnaYmJgyMjIAAAAcRTyBAAAAAXRSTlMAQObYZgAAAuhJREFU\n",
       "SMe9Vj1oU1EU/pr/l59aQVDQIeBgF00hYBehRQddJJl0EEygCtHBBgQzVCGC4IsoyVYnE1GwVIjF\n",
       "DNJJMYPSSskqUo1UBTvYYqW2Fann/ryY93MrPtAD573T8/Xmu+fvvgu4F60lVC2RigqZJm0zY94V\n",
       "9YRUktMWKDa6msxdA845LDvFHgHa1CwzFl1Rf5ZKsiRdnSh7isBQGnWHZY/ZI0wh32aZK7phjg0I\n",
       "ZeZSTfgWDDBDhUgNIBpXUOM50EuLolNuqIMVoSQPh8Tbf11uAQlyvIsj3KeivksbnpmcHHeV73Gp\n",
       "JK3EMH8HDhtRXqWc7qR9fFBR99KKNV2/7Ip6r1TAV3sqGr2OvARXgZPn6d1UUUepVGeBEv9DPI+t\n",
       "NHM8ez7zAgtKcksqcB8ZEe2s6FrK/Op8/xgz3rLH3BcmCybqGPXZEd5tZH8Trj5EeYFC5p6yoCRj\n",
       "UoFhVEW75XFHYJ51qmaWjCeqqCOUnyA8PFv3fnKXN4vIhp3aipLskAr/SHKUz0gsjkCaYyHan+cH\n",
       "63QVtX+Zkt4KcnvmoujbOLxtO7UV7aam0vRwZ7AGf5Zj2+jl+fonaq19gptxnbsepXGgZqO2od0J\n",
       "p9EM8io0OmcMG+sAq9HR37X+ZKL2sYYsneFzgUHuSu3vFxs3UdvQrjbTiLp32TjeGp2xzhSNNnOK\n",
       "mrUZGnwg3iDBXXPAvi7ql7qutx1QOTdNOduhdZaaokg6yXsKaxezDqmovc9YXdhghBdelfmim0B1\n",
       "yhx11gGVuSSd2FxEpPydWjzAzhUP+7ULmyMHdf5/Hy28g4XC9kLhEuWJ9WOM/ai3hipvTmrLVMVK\n",
       "bUfNB6kQcRKku5nCedWB9KBjHafoW9oNaBvQ9sBKbUfNnw+lOH0+YHw+hITWoJWv+HfjxUoyN2yh\n",
       "rjigxgFX2pq6rgLCbeutossO2e8c6quCSpQ7C1Ucri1q6um/viDFlBek11ZHa0vqFv6TeP81wS/d\n",
       "19ucNRxxYwAAAABJRU5ErkJggg==\n",
       "\" style=\"display:inline;vertical-align:middle;\" /></a><br>"
      ],
      "text/plain": [
       "falsifiedAndIfNotLeft: forall_{A, B | [not](A), B} ((A and B) = FALSE)"
      ]
     },
     "execution_count": 17,
     "metadata": {},
     "output_type": "execute_result"
    }
   ],
   "source": [
    "falsifiedAndIfNotLeft = Forall((A, B), Equals(And(A, B), FALSE), conditions=[Not(A), B])"
   ]
  },
  {
   "cell_type": "code",
   "execution_count": 18,
   "metadata": {},
   "outputs": [
    {
     "data": {
      "text/html": [
       "<strong id=\"falsifiedAndIfNeither\"><a class=\"ProveItLink\" href=\"_proofs_/falsifiedAndIfNeither.ipynb\">falsifiedAndIfNeither</a>:</strong> <a class=\"ProveItLink\" href=\"__pv_it/dff8aec92d68dbb2f13e6ab582bdae46361d6a620/expr.ipynb\"><img src=\"data:image/png;base64,iVBORw0KGgoAAAANSUhEUgAAAP8AAAAWBAMAAAD9bVezAAAAMFBMVEX///8QEBCIiIhmZma6urrM\n",
       "zMxUVFQiIiJERETc3Nzu7u6qqqp2dnaYmJgyMjIAAAAcRTyBAAAAAXRSTlMAQObYZgAAAxBJREFU\n",
       "SMe9lk1oE0EUx/8m2SSbj7aCiKCHgAe9aAuB9CIa9aAXaU5eBBuoQi/SoNCAH1hB7KYqiad6MhEF\n",
       "SwUN9tRTa3tQWimxB0FECBQEe7ClX7aVUmfezG66m920NNAHb3dmfjs7/33z5iVAvaaWhDvbcE1S\n",
       "5o2fdQgYkM7sqgV92+yIaXF4czbTrvALJ5O8MVuHgN/Smc3JIWPBQ4B7GYGyzbQP/MLJcx7Fnt2v\n",
       "H24RzptzBTE2I5myAXgWgTEnAZw0sEmh4u4F+HLCmb09I+5KrxTiWmOqFoCXjgIYCU8MDvbXsQP9\n",
       "0pmVmuN0956LiAF/E1viNvvIuJMATlY17W4dAo5KZ8EujIjD8A4pwRqTULp5hFucBHByHchQR1wv\n",
       "Lo53UiQ95gmZStOTPRUzuk+lA6/RLr58UmQ20H5jupfvbpiycOoPtxmTAE7OyywNL4mhJoSaKH7m\n",
       "XFva0vkKfNTbd6QDceTFl6bwQrDmHAIH2T2YcooAJz64KHKvNmjInURwvVqApMJiwIjMMxyQDqUj\n",
       "2kWnKRyBN0HsARfBQqDMOwngJFTyUXvilsjqCNzlagGSCrsJnIZVANuyfTTRV4CSJLbCBUS2E6CW\n",
       "L1MzotHQ+wROFqoE6JQssAzXbNUWsC/10d4N6ZWJlwF0sTz3pCo58MskgEjmGp0dtNJQ24njQr5J\n",
       "gE7FrIXpR7AmocoENMzrpXFILwPKqpGEdhEgMkT6fqCZhqaAY1sEfNY0rWxQ0QuV4TLSalw6rwX+\n",
       "Nf7dPWIbmB4WkLN9PK9GnQQQaeSHJzDzJUuRfwLki+YIJCuUev5RqP90eEH4wOYsgtm/7Bh4edVx\n",
       "sXd651ainY+p3CQsq7em0/vT6W5JwvzV7gLy9Bh7c1vOKsCg1GsswrNmU4rlBtHVtOQbxzJWIZdY\n",
       "JEpqH9R1qEdgFaBT0csX8GzU5sfI0ca2J/5VqNl7ymF8Wox2xi0CcgalXuh+NPbQXCIzNde3/Tm2\n",
       "J8EtbX/V48Ht/pA4mD+3YzJcU8DwLv+Sfd85KdUUUMKemntvlvkP2oPkpnKa3b0AAAAASUVORK5C\n",
       "YII=\n",
       "\" style=\"display:inline;vertical-align:middle;\" /></a><br>"
      ],
      "text/plain": [
       "falsifiedAndIfNeither: forall_{A, B | [not](A), [not](B)} ((A and B) = FALSE)"
      ]
     },
     "execution_count": 18,
     "metadata": {},
     "output_type": "execute_result"
    }
   ],
   "source": [
    "falsifiedAndIfNeither = Forall((A, B), Equals(And(A, B), FALSE), conditions=[Not(A), Not(B)])"
   ]
  },
  {
   "cell_type": "code",
   "execution_count": 19,
   "metadata": {},
   "outputs": [
    {
     "data": {
      "text/html": [
       "<strong id=\"unary_and_reduction_lemma\"><a class=\"ProveItLink\" href=\"_proofs_/unary_and_reduction_lemma.ipynb\">unary_and_reduction_lemma</a>:</strong> <a class=\"ProveItLink\" href=\"__pv_it/dfc77dbfbf143eb809b3626f967a34698f95ae4b0/expr.ipynb\"><img src=\"data:image/png;base64,iVBORw0KGgoAAAANSUhEUgAAAOUAAAAUBAMAAACAKeeZAAAAMFBMVEX///8QEBCIiIhmZma6urrM\n",
       "zMxUVFQiIiJERETc3Nzu7u6qqqp2dnaYmJgyMjIAAAAcRTyBAAAAAXRSTlMAQObYZgAAAzVJREFU\n",
       "SMeVlkFo1EAUhp+7zWaTTbYePJegBz21CwV7UVz0UBAKeyo92YL14MlIRa1WKF7cRXT3IhWlNqJg\n",
       "abEsFlFPFlsPtkWCnkQsi2sFe7BFC1ZB67yZl9lN0qx1IMkkb/75Ju+9eQlAw6a50LpM/aUz/DIq\n",
       "jc+2EIw2mi1VEqIK3nyIGjUOMCdveE8f5n2F6RKl0Hhm7TiH7WzIdIwdJ4VoAe9XophfiFSSzLQA\n",
       "pdcYoBIaL6yPpJvqTKvsmBKim2gajkCaGSJVJfMtOfoXO70ICYRVMtOZ2lSrDoBhcVEau+UIploS\n",
       "JOWK4zEHhQ+nf7Lz3ZBg0M/suSAtk4fYXPpOLjLnJyZGolw7QqTEYYt6mi1WHVvH18gGU872M/t3\n",
       "S5PbhoM/CdFGPj8UxdxDpCmwqRcT3jqa+s3ORiYwnqweU6+onqXJee6yy6wQnQAo8MeFMPMakRZ4\n",
       "qmEv6fLJsso3fFueRK+/YuMRF1bJNMoyavehF121JERHKP/MdQr2x+qAN/IikWy4Qz2Vm5pA+477\n",
       "zQ7Gv+xjqqB5qZ2FMfTBEyFSIcZXdw+9NTl7EKyZ0cc0cpcgmRYkcoK5g4ewu33/BqbWWoAprJL5\n",
       "hnuRb+fj7adwc/QKkeEKp88PsMmv3nLAsoyHfqbqgNJXz2Snlm0wWdZ2UziZrVJjahX+XLHy6GfW\n",
       "LKvrld+307XqwL2XYsdpnMmuxfNz2LepjCwh7LnK9gl0kqjQj08T0EGF0GpvyflziPGQK3PoNpUV\n",
       "M1iI/DmEvBTPZK0sKpeXQzDNV/se2kDPiPeM36A5ZjlTwUgw/87R9uC7sMgmjM8EmIZvr/SQf8U+\n",
       "T2IVOUCiZkxivbpYdJTz+fxljGeM5ujkzARGKWZxJvOMXvzjwNNNFv50LsAUzoYuqgh4wqowvrkC\n",
       "qeIPtqBlEplY1+IOjOWgT7ynEffVvibez9XXPtEeRNQ+uT8wT3yfHbtexJbW7MJLzpwxFoM1HoI1\n",
       "nreoGh/ZqMZT8DdAK16CJIu1OVS97nrPCyFmsvbR3OJbliw1ZE5tJdrH4rmtb3YEQB9uyCz8c1Xi\n",
       "32Sv92/SGvw3efe//yZmiYv+Aiap+K6FEGOlAAAAAElFTkSuQmCC\n",
       "\" style=\"display:inline;vertical-align:middle;\" /></a><br>"
      ],
      "text/plain": [
       "unary_and_reduction_lemma: forall_{A in BOOLEANS} ([and](A) = (TRUE and A))"
      ]
     },
     "execution_count": 19,
     "metadata": {},
     "output_type": "execute_result"
    }
   ],
   "source": [
    "unary_and_reduction_lemma = Forall(A, Equals(And(A), And(TRUE, A)), domain=Booleans)"
   ]
  },
  {
   "cell_type": "code",
   "execution_count": 20,
   "metadata": {},
   "outputs": [
    {
     "data": {
      "text/html": [
       "<strong id=\"unary_and_reduction\"><a class=\"ProveItLink\" href=\"_proofs_/unary_and_reduction.ipynb\">unary_and_reduction</a>:</strong> <a class=\"ProveItLink\" href=\"__pv_it/b13604058055bcf752c40f3ebd13667c8ae724090/expr.ipynb\"><img src=\"data:image/png;base64,iVBORw0KGgoAAAANSUhEUgAAAK4AAAAUBAMAAADmcxvOAAAAMFBMVEX///8QEBCIiIhmZma6urrM\n",
       "zMxUVFQiIiJERETc3Nzu7u6qqqp2dnaYmJgyMjIAAAAcRTyBAAAAAXRSTlMAQObYZgAAAq9JREFU\n",
       "OMuNlUFoE0EUhn+TbJLd7MYePJcBD3pqAwW9KAY9FIRCTj3agHrwZKQeFCsULyZITS5SUWpXFJQW\n",
       "SyGIejI09WDbw4InEUswerAHW7RgFLS+NzvZNJtddWBn387M+2bmf/Nmgb8W3cHAJ2WvX5SvGa/z\n",
       "RZhXqgI02HgfNuIxsOx9SMuYlLZGfvFKkMspes4Bq2xvhHE/K1rF46ZdWHqLpmgEuWzSswDc5t1O\n",
       "hmCtjKI1Pe4bJcpPqpaCXDZtwBRI82sxhJuouDTtut3mXpYdRvUH1fcDXOaPkY/RB2tlbm46TIZp\n",
       "RYsfF8rSC+6qItssRrbXxRnkxo9Aq1icCOPuV7QFFJQVyciOk6lfVJuZHo+Y/dKhVx04C5RkU6mX\n",
       "O6VoqzK8bCUdKUNW+8qr5sCZX2RRUzzEGG9tHTih4mptK+E/NMfbel9RtALuKSshu2LQv/E5LfSs\n",
       "JItZnuEZjUREruEB72y+fhSiNvNUjdrn0iyBeM7l7pGSjg4danE4t/xY7fTQeT5cY7QPJyGbVsYJ\n",
       "cOOODSHMJ93chA0tv5tLVX8gN0YjGi5Xb4zKmUSRNaEixMjrbh2qnQyROqToucCUQkffvHSg3kQf\n",
       "vYc5Xme4JY7DKqnFUH+uO27EZLYXt7sqrSx/wumLbiZy3FCV6r/DIIyMu97oLTWuLrkaK0ZaLKuj\n",
       "Jc9wmY5/tBZw3pOcMUfo2csHw2iulW3tUrF4jfWNqHHDkhtnTSNCcmnrRvm3jec7FI50zndL7Wwg\n",
       "Vf5OU/MdaHGORm3M5pB312tGu/I4Ju3c7jx2y6OwfDK8AzhC63bwSnJr5pr/3oH/3pFlKYxrCmUk\n",
       "W9DLV5Ek3a2J5k2nPaDUw012Lt3gexLuPdldDpK+/3Wv+6bwlRLwz//QgfZ/aMD/H3ob5mVV8Aek\n",
       "qskFrSFdgQAAAABJRU5ErkJggg==\n",
       "\" style=\"display:inline;vertical-align:middle;\" /></a><br>"
      ],
      "text/plain": [
       "unary_and_reduction: forall_{A in BOOLEANS} ([and](A) = A)"
      ]
     },
     "execution_count": 20,
     "metadata": {},
     "output_type": "execute_result"
    }
   ],
   "source": [
    "unary_and_reduction = Forall(A, Equals(And(A), A), domain=Booleans)"
   ]
  },
  {
   "cell_type": "markdown",
   "metadata": {},
   "source": [
    "**Unproven**"
   ]
  },
  {
   "cell_type": "code",
   "execution_count": 21,
   "metadata": {},
   "outputs": [
    {
     "data": {
      "text/html": [
       "<strong id=\"from_unary_and\"><a class=\"ProveItLink\" href=\"_proofs_/from_unary_and.ipynb\">from_unary_and</a>:</strong> <a class=\"ProveItLink\" href=\"__pv_it/83b7a86375994b9afc789006388d12dd03ec583c0/expr.ipynb\"><img src=\"data:image/png;base64,iVBORw0KGgoAAAANSUhEUgAAAG8AAAAWBAMAAAA8xt9aAAAAMFBMVEX///8QEBCIiIhmZma6urrM\n",
       "zMxUVFQiIiJERETc3Nzu7u6qqqp2dnaYmJgyMjIAAAAcRTyBAAAAAXRSTlMAQObYZgAAAb1JREFU\n",
       "OMudk89LAkEUx79p6q6u1p/gOQiFgiAChSC8CFIQHaKE6lCXhC4dMjxaF73lzQUDw0CEomsdwzrs\n",
       "vV9Cp7zYodCCqPdmXXMzkm1h3nvfnfm8mXkzA/z3q7G5swgtUbvioG4RbFDLUZNT1jhvQwV81JSK\n",
       "NfA4lCW6WiodWFypFgiTbaXTOz1d21nh7oNk9BCxTuegeq6RWwP2hNZtWNh4ewxtXmEvZXHaAQ+x\n",
       "7Cc3Dbc4Eu+LMdQMrrN/CMOeNcAw8rwSF2w8MQofP0C/UI4Lcu6QBreRzLEytsmjFM0ldHXLDDqS\n",
       "Qjl5b0qRpngytggM8Brl2rzI40+bQakslMg6K9Hv0TZIZ+caFkVZZevEhBlc9GqsxFHF7QngTOdk\n",
       "An3PHJ0k2N4gYAb3OUwhwnWr2GhkRAc5k/TG0RBXwf14nVG7QUeQcpGaIVWeunzXbzZw9FmHJ9Pk\n",
       "snoZsKvIx7pBpwqJ1QKpScivECl6vyjNrHWDc7xCUkUqI3XQWd3+xkktyJlkN7ghYqqqikwKuaaG\n",
       "8b8vsAHy+lVStorpyfcHO8p4qx7NIhhth4U+by0o7O73s/K0L/eIedwXyDV1vvSdkD8AAAAASUVO\n",
       "RK5CYII=\n",
       "\" style=\"display:inline;vertical-align:middle;\" /></a><br>"
      ],
      "text/plain": [
       "from_unary_and: forall_{A | [and](A)} A"
      ]
     },
     "execution_count": 21,
     "metadata": {},
     "output_type": "execute_result"
    }
   ],
   "source": [
    "from_unary_and = Forall(A, A, conditions=[And(A)])"
   ]
  },
  {
   "cell_type": "code",
   "execution_count": 22,
   "metadata": {},
   "outputs": [
    {
     "data": {
      "text/html": [
       "<strong id=\"unary_and_is_true_reduction\"><a class=\"ProveItLink\" href=\"_proofs_/unary_and_is_true_reduction.ipynb\">unary_and_is_true_reduction</a>:</strong> <a class=\"ProveItLink\" href=\"__pv_it/420d5f3b9965a77b620c02906d8d1844816d2a8e0/expr.ipynb\"><img src=\"data:image/png;base64,iVBORw0KGgoAAAANSUhEUgAAAREAAAAUBAMAAABYABS6AAAAMFBMVEX///8QEBCIiIhmZma6urrM\n",
       "zMxUVFQiIiJERETc3Nzu7u6qqqp2dnaYmJgyMjIAAAAcRTyBAAAAAXRSTlMAQObYZgAAAwJJREFU\n",
       "SMedVk1oE1EQHvPT7W6yaQ89S2gP3mygYC+CCx4KgpBT6MkWrAdPRgSFVqHH7KEktwoemqLQUkGK\n",
       "PWhPSpJTFQneihgWapX2YIsWTIVa37wfkvd2J4UOfEvezM63X+bNzj6ACLObHJd3xdL94SmvtE0g\n",
       "LFWJZutlmxIBLr7qsVWBhlqnPeVllmQZfeYD44+4TcPd8JNk3i3TP85THnIyxAd07uv37AmgEruj\n",
       "ZE8EM4cAThBRjixeX4UDMu8gohyv8YJkiKf4uHkt7uYEUEkmp5SgB631l11qlJJ01vTLPPegSijh\n",
       "ZAwZdkN6XYtbFQFUMjmrlFhiR5yNY3ZdppQ4g6Zf5r28VqGULAu4W2tri3p8UQKVzAwrJfImN3aE\n",
       "pfIIJfDN9Mu85qhHKUEyRLtUeqzHRyQauH+WUjIigjdSJ+jJUUrqpl/kJarvmpQSJEPcAfC5w1fx\n",
       "BYkG7hvuHFeyIDbHS/7CymDLpn9yy2lKWmBERN4LmOLxTzywoylBMsR1+Sa4R0rJnARTYoEdSCVz\n",
       "4r+B/RsfW6Rq8sb0izwPlnJUTZAMYUGM1+35iYoPSTAln3nNuJIhHiuMXWnjUDmklEyZfp6XvD12\n",
       "b55SgmSIdNPi660HEUrYm1PQlLBfF8+hJAFwIThLiR0U+DJbCu9OilU0U+nanRTDfWQudrphWlMy\n",
       "AUaE57FmswY7ffJdU4JknNCfwWUfjIc7lqlANZ2OfSaHpRtQNWmZfsyz18Vsjq6J6ljY4N33BUZV\n",
       "vC7RgElczgol6LHx1jKTF39PKblq+utypvQfU0qQjBMOIIWz87GsxvGERAN4tYaFEuZxyv+q8PaU\n",
       "NVQmH2JNiHmxa/pZ3urpPqTKf8Ivz00x2fKS0EUF8Sos5UPTno/FpDbtha1Qn3inSEz7HraiETJ1\n",
       "A82IL2DnVOB2/6UaxUp+AXtYrZuwvw12+Yla+QLG+cTv+ucBxRpxKvDPEKJOBVHW86TEhZMV98mT\n",
       "EmlIRhHK0+Ml2X2x0Olxm2J1z3F63Bb4D0Xw/oZ18y3uAAAAAElFTkSuQmCC\n",
       "\" style=\"display:inline;vertical-align:middle;\" /></a><br>"
      ],
      "text/plain": [
       "unary_and_is_true_reduction: forall_{A} (([and](A) = TRUE) = (A = TRUE))"
      ]
     },
     "execution_count": 22,
     "metadata": {},
     "output_type": "execute_result"
    }
   ],
   "source": [
    "unary_and_is_true_reduction = Forall(A, Equals(Equals(And(A), TRUE), \n",
    "                                               Equals(A, TRUE)))"
   ]
  },
  {
   "cell_type": "code",
   "execution_count": 23,
   "metadata": {},
   "outputs": [
    {
     "data": {
      "text/html": [
       "<strong id=\"eachInBool\"><a class=\"ProveItLink\" href=\"_proofs_/eachInBool.ipynb\">eachInBool</a>:</strong> <a class=\"ProveItLink\" href=\"__pv_it/73abc2737f2dc9247a5464e408bce6485bd6c5b50/expr.ipynb\"><img src=\"data:image/png;base64,iVBORw0KGgoAAAANSUhEUgAAAmoAAAAZBAMAAABz1R8KAAAAMFBMVEX///8QEBCIiIhmZma6urrM\n",
       "zMxUVFQiIiJERETc3Nzu7u6qqqp2dnaYmJgyMjIAAAAcRTyBAAAAAXRSTlMAQObYZgAABrxJREFU\n",
       "WMPtWW+ME0UUf7ftttvu7vU+qIio2aiRwwSuyemhcEgNUYhC2DsTDgMJDUhEPmiVxKJALIZAAeOd\n",
       "H4QLCVyVBPAUbCR+uATiAkHlALNykJzKhQp+kQ+GgCB/RHwzs9vO7LYHJcCHw0m6O+9P3+z89r03\n",
       "b2YBqm6vpTvgbm7B9NKb+FcK7va27n/UvG3joNIehlqB3AaqQ62W3HR7SIIWzeDU3rzQuGCFwJbe\n",
       "yv477FWAUAdF7SDhna4ONS2Pt9rckEStlsBSg9BNNEW+bGzbbEO0QFHrxGskUx1qVL9zaAZoH7nM\n",
       "wTiaHhf4StCWTJz3XooacRnqO9XkNeKbB4cmau+SSwM63AmD0v3pdMFBTc0jap9S1PTe7u711a4G\n",
       "x7u7Px+ai0KETms55rdhNAPNfKLka9qLiFptgq6hF7PZpdWiFstmV1lDEjWJxuUFgLaFdG04zUXo\n",
       "5BmY6rQ4RW0+wOpqUQuZoNzeUvdOFNJyGZ5CKgP5wkD9EkqGOkqoDbt2DykdChS1SWxdqAq1YBx2\n",
       "MFvlZye8hinn9i1gav3zrFF+ZX1ls1Q0E2Q3bRDjUHbkYHtz0+qyJiuOpyb8wjBJ8dIlzF9JOgq/\n",
       "GmgDGF9qiqIWBslTebU1J6T7KnNS9Dea9k8kyj7XXwJVB1od6WwyYFudP5OchOjy0sOx2+uVjTvN\n",
       "J/wJYE9Zk5XHe8Z5wJOnFrnrYQ0xq+BTSlcI2fInNnc1gMw09MMzFDXNDvNF3q5GW830wrjKHILa\n",
       "YbZDiE4sW+puvspTgSSol8njIpa6v8bpwufs96AmW4JxScg84BuZrnZNAN/mWJ83afD/9Qi34O+L\n",
       "fRPAsDZ+w6MWQz+TzoJQXlHUQkXUIoUZnN3+nm5QjwTAqswheG2SqQNrW+PlUOtdJDi9AQHyusJo\n",
       "QTZ8ymQpavWgFjIF4238u2EEP7K8jFzfBnjW6XMmmYxX5IRY0eprN+TAMLTtfISSci1E46VGQC2J\n",
       "m6Igi1BYjRsFfULro9LjJklYGLqzXjEIRn3HHomLnCJqyjoaIK1KufpYNrI8+ZUJY8gq3oCXqG9D\n",
       "IRE37PagFhaNr+ETLyP4kRWSY6PnQTrN+rxJZQefCz1CTE2TqAsa0w7wqwEp1+ZQ+wFD8LXjxdUA\n",
       "diIM+nN2zUIpyXaYqtl7jGB09CEYLnKKqKljaTcZQGKhF4gQjOXJ6aPrqWMuZqRHPSzizlBbLxiX\n",
       "LW6f7BBU6LTZZEscPHtkpdN3TIZyroxX5MdTk2wbbjQ+7G6fSGEBv6G5+9n7XVLaUVnaPpxHwGKo\n",
       "xRDPDSMhlkDGZoaRRv4c+SwFlwUOd+ZBo17PS2dg9gNe1H6FBp78EWAkuf/DntyjHrPKoDZFMK7k\n",
       "FE6BElRY9D5AJLQCSCnWZyblPTlXxivy4wUz0TjztcAnLgttvHFtXlPWWR62rMgJu3eoNRlqOuHP\n",
       "hRYS023ZbNZQzYhNoAkZwTqRU0LtF3LZ0fwD+vt73lODU4fa+UD8EDNw3kko233qJNtFbQ9qLwjG\n",
       "X0aQigqMYELH++L4nkCxIHKF9R2T4Zwr4xX58eSCvDib/YDkNUnYUXFt6qq0UJht5c/X7oV66JIx\n",
       "uKhnwfMknmvMgGUKHM/52jiInPejFshBl6mPH3hqF3N7XMKnk/roafxZPvUA8RNAdYtDbaZgHKO0\n",
       "5DCMoMK+3X2z9tNIxH/F8hC8xPrMJEWNydzMURKy8YJJSDJf0wLC7n2QtpdDLXIGva1fA41MVE+A\n",
       "bkXWQBeEXzJLHB9qmB/hKp1YZw7VnQtgUROz1TEwQsXXvwYilyHyIOmEbfiyw6++DKIHQK13zCru\n",
       "Cy0ZRxdBH3HUGcGEXxdq8ruI9xH368rBx5bTpyYpapR2B+OEbDyc036KmqUdqlQ9ewOpwKGGqP8B\n",
       "63oB1iIx+XfMtvIIjBPpMMfxodaegc6/bTKxlrw8HFo6yCWvXIRI+zKYH00FEoBWvj/XuIB24Ltm\n",
       "shX2qIM2by9Ob76c4dfQHGecZHXFUe9gBBOGzK3wJFswMtr7jU0rnL5jkqBGaXcwXkjHwwdUMNz1\n",
       "pac+svlTyettSXwn4BJmMWeB8XEqnICTICrlHbeXUuNhtWSl1KmgLh3lUJPynHYU2I9NiiPCsBNS\n",
       "eSA51M2jfJ+gxtMCQccj9UE95rUqTsB/vs53g54b/G7Qei4PatGt3V40KSVCozgrPddRVw/zO6oM\n",
       "p12xbYHHYG7FgJIbxg8SaHS83bf+a4tdxdcWvUzPY8W+IXUXtWl35BNB/NajVrGlb+f30IDog7f3\n",
       "LO3mvnwE0+/8ByJmLWZeVGxmAAAAAElFTkSuQmCC\n",
       "\" style=\"display:inline;vertical-align:middle;\" /></a><br>"
      ],
      "text/plain": [
       "eachInBool: forall_{m in Naturals, n in Naturals} [forall_{A_{1}, ..A_{_a}.., A_{m}, B, C_{1}, ..C_{_a}.., C_{n} | (A_{1} and ..A_{_a}.. and A_{m} and B and C_{1} and ..C_{_a}.. and C_{n}) in BOOLEANS} (B in BOOLEANS)]"
      ]
     },
     "execution_count": 23,
     "metadata": {},
     "output_type": "execute_result"
    }
   ],
   "source": [
    "eachInBool = \\\n",
    "    Forall((m, n), \n",
    "           Forall((A_1_to_m, B, C_1_to_n), inBool(B), \n",
    "                  conditions=inBool(And(A_1_to_m, B, C_1_to_n))),\n",
    "           domain=Naturals)"
   ]
  },
  {
   "cell_type": "code",
   "execution_count": 24,
   "metadata": {},
   "outputs": [
    {
     "data": {
      "text/html": [
       "<strong id=\"anyFromAnd\"><a class=\"ProveItLink\" href=\"_proofs_/anyFromAnd.ipynb\">anyFromAnd</a>:</strong> <a class=\"ProveItLink\" href=\"__pv_it/493f6b910587a5a66373fad81cf076c1c6e6ecbd0/expr.ipynb\"><img src=\"data:image/png;base64,iVBORw0KGgoAAAANSUhEUgAAAegAAAAZBAMAAAAIx6A3AAAAMFBMVEX///8QEBCIiIhmZma6urrM\n",
       "zMxUVFQiIiJERETc3Nzu7u6qqqp2dnaYmJgyMjIAAAAcRTyBAAAAAXRSTlMAQObYZgAABBJJREFU\n",
       "WMPtmFtoHFUYx/+d2dnZuWX3xWKtwqJgU6FNINhKjbhFvICIkzxYRMGlMRgK4kKhkdJC+tJOq5A8\n",
       "xeBDE+2Dumgd8CnQh0HBy9aUobYSesGgvuiLpbE1jQY935m9zOzZ1YzOCosu7Mz5vv32P+c35ztX\n",
       "IPbnpfEpdPEnNX7ob/yrhC7/TP8P/Z+BXqLb1XjQPXSz/G6D/fr3kR1OgaDPkvljPGjTZbeeua5r\n",
       "4tsB+QZBzzBDm4gHzeNnuo5ZWWNj9zJBU4PxlovTpykzznYdtHSLdcrrBG1VyuU34g5kV8rl97pv\n",
       "PMvkgLcO8tF7xXEOxYXOOs4xr+ugs0UoB+Y49ChwPC502kaGL8syrRdnEcEnlj8ZC8IWR7ytYrB1\n",
       "dFCqy6TqzZK0MvDCy+ePucE8/Qj0pWjsnsGCtLG9h0Gn+nGal78ptKqZ9XPEysHMUeFkHu/mhGDt\n",
       "W+hHGilYKySuDPRNQd8YQKuQQjOufmbANyYq2NXeU+Lfbfy3h1tO1qfWwpZchLFKdWAVtsR5YpbR\n",
       "LQrQySsD9AL6XA5t+mroh8X5MozzMrz2HoJeCNZl5jv9rapW2R+21DxkyiWVKSh5IZgGlGEBOnll\n",
       "4CZB5zm0tvQMe08PDd8j3WtT3gLGc8/mCfGri3f3Rz116JNKkYrDmVYzvJJ3wuaHNrbTQqaPXXRh\n",
       "RSNRU5UF6OSV+TSNVwrB2vv4iwx6t79hn1QMFpiGXblIiBfuwqaopw6dmeZdrigzY1/z09LYGTaf\n",
       "3tbL39CrgdkUrkbhatDJK/NpWlmpbjg+YvJvbkG2IHs4FSCaJmtf7e0SViOeBrTBH2650jU8f0dz\n",
       "1S6jL2yeA7bQ/TduNYdnvVbQHVBGDxvqdp+oQmepN+zFEFQXexzHyRu25hNZOp/KRT2NXdZ1upwe\n",
       "/Jyl0MGmmunffTkZzrXX2ZDiVrvYB0I49Ufdb4bugHL6p5sDY6/VtpYW6dyGXswqLH94u+JRehEb\n",
       "bNmzI54G9CW67IJ2Q6yaPIdZ23rw6v1nbG7/yvKQZssH2NcTwmWWhCZYuBeG7oCyuJ/WrrG2XjRh\n",
       "kppVgOVpJzAL9Um74RH20yn2Gtf4s2bmWHj1gqdY8vjGdmw2PDCPtgrtTiqoPt6fEsMPQ/8CRm9V\n",
       "NtMxZRE6VcQPmK4A1P6Pf88GEmUzHoO0EPII0JMTmPnFp2cNucomDE3Rxc2sQJs8jFG9JBfAVD5b\n",
       "HhjjBXw6eB/QHA5z5GOWaqPKRAi6E8p/cnIisR4clAzB0+bkhLKqsU2rlUpGv2o0VBqFNuHSheiK\n",
       "LHHldR0Xza/zuGh42YVRX+HWSnpRKqS3hlTm/yLcWBCgk1VeF7Qf44zMalFqUvHXFR5t6USV/9nB\n",
       "4Hgnz73lf+Hc+8AfnSCYnxcpscIAAAAASUVORK5CYII=\n",
       "\" style=\"display:inline;vertical-align:middle;\" /></a><br>"
      ],
      "text/plain": [
       "anyFromAnd: forall_{m in Naturals, n in Naturals} [forall_{A_{1}, ..A_{_a}.., A_{m}, B, C_{1}, ..C_{_a}.., C_{n} | A_{1}, ..A_{_a}.., A_{m}, B, C_{1}, ..C_{_a}.., C_{n}} B]"
      ]
     },
     "execution_count": 24,
     "metadata": {},
     "output_type": "execute_result"
    }
   ],
   "source": [
    "anyFromAnd = \\\n",
    "    Forall((m, n), \n",
    "           Forall((A_1_to_m, B, C_1_to_n), B, \n",
    "                  conditions=[A_1_to_m, B, C_1_to_n]),\n",
    "           domain=Naturals)"
   ]
  },
  {
   "cell_type": "code",
   "execution_count": 25,
   "metadata": {},
   "outputs": [
    {
     "data": {
      "text/html": [
       "<strong id=\"someFromAnd\"><a class=\"ProveItLink\" href=\"_proofs_/someFromAnd.ipynb\">someFromAnd</a>:</strong> <a class=\"ProveItLink\" href=\"__pv_it/e65fbcbd74f8f80a2d85345440db267cd39b53cc0/expr.ipynb\"><img src=\"data:image/png;base64,iVBORw0KGgoAAAANSUhEUgAAAuwAAAAZBAMAAACYzmZMAAAAMFBMVEX///8QEBCIiIhmZma6urrM\n",
       "zMxUVFQiIiJERETc3Nzu7u6qqqp2dnaYmJgyMjIAAAAcRTyBAAAAAXRSTlMAQObYZgAABxxJREFU\n",
       "aN7tWmtsFFUU/jr7nN2dtj8QQTRZwUgxapuUFANFFoniH8PSRMBAwoZHbIjKRgwlFHQxCAtIuvpD\n",
       "GhJhkURIFdzYNJEE4kLxVdSsBQxGCav4B//YUKg8RL33ztx53JmhbUZjNuEknb3z7bnn3PnunXPO\n",
       "vVvAqzzflsMdGY342zZ4N5K+w+Oo5Z07tI9K5JJXC0dU2sv047wn2j2bqBw5SP6+/3t5UzYx4i7K\n",
       "6qHG1s36bTDHaD9F2795ot2zicqRS/QyDvBdNTCX1CbzRlUGmJXkd5Eyo72TamQ80e7ZRMWI0kAu\n",
       "gVskKw4a4EVn3eoGrbGUBKZ5DTp+gtFenQdiBU+0ezZRMRKiK1u6Tvi/rGOBrXlH3UXrtUY96XQh\n",
       "ruP7GO1KX1fXLm8p1bOJihH2lOFawt16I1g/EXfUXTFRa2wikeVuY2qqE6ySuZbNbvBGu2cTFSOT\n",
       "6KUmhcBag8bDzrVcpBzSWkPAwlXGF7EGRvtKYJtH2r2aqBjZyWL1i/1bTSH1lFpSiBIraHE3MHS+\n",
       "rt2cH8qM9jk0uUZWe6F9jpqf3cgP81zv72huclCxweeWF6c45LMtzZJeNfh5w2W+dfjpwd7W3PAu\n",
       "LcZd0XYtVkfGEjoz/Pn3OKYByConNBXsSxlfRNOM9hAkkmrnqtjC5oQ0VjAQWHMS96dckTQ3QUZ5\n",
       "xZGCC3qR+x1w3EFBgPfEcbDWXpD9gsgmYyo5Mc4uDVipRax2WJdW467oGC1Wo74QaFRjixJHMOkw\n",
       "gn4WBLRUIN00kTfAaI+VaBDqJdHoaGMpmunDdHPvD3pn4pNY3pd3RdLcBLD/lmOUm6Vv7ZqATx3y\n",
       "vhWWCWWKvR7dSybvnI12Z5cm2JdC9MZwLgXjrugYLVajPg6/Snsoj0DKYQQk5y6AlgogXbbRLpcX\n",
       "qFHr3JEuRPt9KJpXzY7deRyLN8TckTQ3AfStcYxyB/Si9WXgcQcNKxwiAwjYqwOatFtstDu7NMGh\n",
       "OHzl4VwKxl3Rdq1sx+oEp72bb6KsEiXPXJ3jZXvQ9E761SCDbSvI5Tr8lJzo4ufilPbTZyc2TFxJ\n",
       "ozaRnp63KcnKzJZJVkQ/k2EmCFdZJwpawnzpRq5CctjNCnA9WYUR2zsh0SXbJdLu4tIEf5TEo/nh\n",
       "XArGXdGdWqwOXAOn/ZJGvbhZyqnUq2X70ozOKE+p6Cb9A7WoZpOU7DtLaT9zH8bmH4R63NITO7SE\n",
       "6s8uVeUsiE57NxtCENPIxfaMKV8au1ic8V/u30I+Von5TYW5rFM/BK2QNexotLu4pLC8kTXnPVKX\n",
       "sqsILjXjglbIFul6KaEkVs/ezmlniTVEF8pfdI7LWgOLtEAD/ExUx+V1RuErqrTXkBdaymC/SnuM\n",
       "1pXye2lcQTMibL56UKT+dk9GTd6C6LTXsJjwI+oROC5yoBSkAYRZ1omVIaWx5B4xCjFYlz/ZVdSq\n",
       "KTrR7uySwXiDNb8FJttVBJeqcVFLcAlWeAR/H2ps3QFOe5CWCxJ9/LWU/5TWAHv96YbpJXpwVtAZ\n",
       "JdOWVGlXiLNwHAuz2Ww8mpRL1FwwTtZ/OwLrstnXCcnvspS5DLMFhNNOTSBy8euOPJt5ixxu/vIG\n",
       "qlSuipBvaovATKEKmyPqIZsWjfiRkkC7i0sVVuuXN0lmLNhUBJeacUFLcMkPB0wxmhey9lKGFW8B\n",
       "8wuoMgocgHHeXvUseTHZaseTdOqqklJGHkgipa5tP0ssd6E5YEU47WrNkMfepJ2D6ZCvstMysnwK\n",
       "8F+3067Cp4+dXvwZvX2M/BVtWj7yNsegzDhfNNHu4pLB2uEcIXdezqYiuFSNi1qCS34UZqF9xMIZ\n",
       "1Y7CtGFIiNEpUxJQivJ27CWzo2SKYIM6A/yEzrw8gFd6TIhI+zPEDFsxpD/R1i5+slxuUe1OwkUe\n",
       "b6mEGt/r8MflqsJR2jdUwoc5u9ZGRL5CtE7zF7a6tKoyWClSY/INyPfCOirBpW7cpmV1KWzOoqOj\n",
       "nTOqHfxqE3sSoAFr7q8kBQYm4CmSiuUX8giTDa7/1QR5FeYX/Ck8XDIhAu3ha5A7NrI6dgLm5wLj\n",
       "6WUCOjLo/KM0FcRA7LXGps1qpplfUL8fb8DB5AFMpX3xefNDdi3Elp8g9K7UNodhq0uLqgr7EtTY\n",
       "F4ONrQlYRyW4NIwLWoJL/jOHtruYNhQfDe06ozlYf9STSGzXJtIA60gkV6VgQ4TVDr59MPXnrXTB\n",
       "MMDCh3GoUdB3091ULXp7rbR0xlK3c5d21VDUNBDrqASXxr2jFnfJyPb8o94PgNtvqUccsGjO/UzG\n",
       "XDHXzzD3560TOcNAy2DBZE1vvY8HsCyn93DWiqSi34i0M5d21dgUw711VKJLfu+spbv8F8WZdqcp\n",
       "VTAi2oX+JRcDiqvd0oi0LKvdXbXkaFm53aOVhn3g/4z2UUnb//J/Mr4KPj72t639B6EJeu6RKMjK\n",
       "AAAAAElFTkSuQmCC\n",
       "\" style=\"display:inline;vertical-align:middle;\" /></a><br>"
      ],
      "text/plain": [
       "someFromAnd: forall_{l in Naturals, m in Naturals, n in Naturals} [forall_{A_{1}, ..A_{_a}.., A_{l}, B_{1}, ..B_{_a}.., B_{m}, C_{1}, ..C_{_a}.., C_{n} | A_{1}, ..A_{_a}.., A_{l}, B_{1}, ..B_{_a}.., B_{m}, C_{1}, ..C_{_a}.., C_{n}} (B_{1} and ..B_{_a}.. and B_{m})]"
      ]
     },
     "execution_count": 25,
     "metadata": {},
     "output_type": "execute_result"
    }
   ],
   "source": [
    "someFromAnd = \\\n",
    "    Forall((l,m, n),\n",
    "           Forall((A_1_to_l,B_1_to_m,C_1_to_n), \n",
    "                  And(B_1_to_m), \n",
    "                  conditions=[A_1_to_l, B_1_to_m, C_1_to_n]), \n",
    "           domain = Naturals)"
   ]
  },
  {
   "cell_type": "code",
   "execution_count": 26,
   "metadata": {},
   "outputs": [
    {
     "data": {
      "text/html": [
       "<strong id=\"andIfAll\"><a class=\"ProveItLink\" href=\"_proofs_/andIfAll.ipynb\">andIfAll</a>:</strong> <a class=\"ProveItLink\" href=\"__pv_it/f0f18af1543107805fb5a58907d4f7df8189a6e30/expr.ipynb\"><img src=\"data:image/png;base64,iVBORw0KGgoAAAANSUhEUgAAAZAAAAAZBAMAAADtWWVbAAAAMFBMVEX///8QEBCIiIhmZma6urrM\n",
       "zMxUVFQiIiJERETc3Nzu7u6qqqp2dnaYmJgyMjIAAAAcRTyBAAAAAXRSTlMAQObYZgAABAJJREFU\n",
       "WMPtmE1oE0EUx/9Ns0k2yUYPKmgvQUW9NVChUBWjIp6E2IMfKFqqXrwYECx+QW5GRZqTFg82UrFS\n",
       "QYM9CYpVESR6WBShImJAL3qx4EerUHW+djLZTHatET/AB93dvvxn9/125r2ZWcDbQn2H8PdbsO+o\n",
       "nySMf8PO/Af5VWbazd7hBgep0NMLLxAfRZN2mZ92zrCZog8VGMhDev3WC8RH0aS94ad3qq/QoPOU\n",
       "a0UfrTCQAarIeYH4KJozK8VP74qK85Vem0hVm6n6uwwkQTzxkheIj6I5C/O3f2W10gvG8aJWu/Ww\n",
       "vKzRX2AgVnlk5KxnsvsomjNxY7s9rQz6tUmtds9CeVmjT6RZ1ZrK5496Vy1vRXO2iE9oxdtK8bqK\n",
       "rE4arcgSWquPpxjIXuCEN4hU6HWRmtxMa70NxMBpdryIXaQTDJGID3l9cVu8JAc418uEqTCQdTzt\n",
       "FduyMh2Yp4A4CuuDNraXafW/nNbbQAwcEfSDKRgdoiOyOK9/p2ZFvq3BauIjlmUgYQSUbore7LBj\n",
       "uTK6FBBHMTSt7fHVtgbE5W0gBuaw7N7dsZ+0C3IQK4lQRtP2MRsbil4WhwkGErfV2Xv8xghij1sx\n",
       "poA4ivIBbY8PpzQgLm8DsQAJAi0VCRIuwujRtCU1a7NIEa53gZgV8rO1qntRYEkGQfqc2PZtSRWE\n",
       "KYg+mdfF1h3JaUBc3gZiMbTI0A/PliCj1WlStRgJLcEzjOudmFk7utY6sYeArLFb9gV6kGBNMuWn\n",
       "KghTkKqITnKoK/E9rVkNCPPug4+YJ7tJAktMSJA3AsY9HRY4jNQ7MTvJjlHS/txSzEq3jmGIg8Tj\n",
       "KRVklD3hOdph3HGDWKXARD0I8+5YAB8xcE/MJZHPDgirXWR4IfoV4nCNjqOtYnhJvRMz6B8FmUUr\n",
       "WS82IVzClnw+n4xlTDurgjBF9NWj/iJ7Qo1dXfngSz0I9x6GjxjYQJaN394i1j+ZEiAhWtcC9IkH\n",
       "IQ5hmjJsVNApUepFzEhkOIhFY5uLZRg0yPBhPYL1SRWEKVqLGMzUg3TB/Ignt55sv6+CMG89iFss\n",
       "lyg8h7Mik4nVly1Wtw3VI2LGsLIfMScI33gccXoDKw1rrG4/spH0jE1BzJMYKDqHICmn07heaSnd\n",
       "VEC4l4J4i+WiUc4HM9nJiJjFolG8jB6SY2fKwCna3a9JVrpBIlMw+4+x2tiGTQVjPj20oT+HgUk7\n",
       "lBnGcgWEeymIt7hmtWB2fkrOaKMuYhbLeJcFSI547RDp0IpV36FUjSJbqpnZndT0FFc3Vk1YpPAT\n",
       "W12jfYXYW1Z3mcQuYTF6C26Q7vclH/Ev2eo+++k9u625qltr/ZD4d358mOl3rdSf+a518DvWP0aR\n",
       "eRXOVAAAAABJRU5ErkJggg==\n",
       "\" style=\"display:inline;vertical-align:middle;\" /></a><br>"
      ],
      "text/plain": [
       "andIfAll: forall_{m in Naturals} [forall_{A_{1}, ..A_{_a}.., A_{m} | A_{1}, ..A_{_a}.., A_{m}} (A_{1} and ..A_{_a}.. and A_{m})]"
      ]
     },
     "execution_count": 26,
     "metadata": {},
     "output_type": "execute_result"
    }
   ],
   "source": [
    "andIfAll = Forall(m, Forall(A_1_to_m, \n",
    "                            And(A_1_to_m), \n",
    "                            conditions=A_1_to_m), \n",
    "                  domain=Naturals)"
   ]
  },
  {
   "cell_type": "code",
   "execution_count": 27,
   "metadata": {},
   "outputs": [
    {
     "data": {
      "text/html": [
       "<strong id=\"trueEval\"><a class=\"ProveItLink\" href=\"_proofs_/trueEval.ipynb\">trueEval</a>:</strong> <a class=\"ProveItLink\" href=\"__pv_it/066742ca5474fa0323a734df5c2ff438c71cdfd00/expr.ipynb\"><img src=\"data:image/png;base64,iVBORw0KGgoAAAANSUhEUgAAAcwAAAAZBAMAAABOcQOdAAAAMFBMVEX///8QEBCIiIhmZma6urrM\n",
       "zMxUVFQiIiJERETc3Nzu7u6qqqp2dnaYmJgyMjIAAAAcRTyBAAAAAXRSTlMAQObYZgAABJJJREFU\n",
       "WMPtmF2IG1UUx/+bZJKdTCbrgwq1IMGK+raBFQu10qhIQRDSFVqlosvavvTFlMIurhXzZmopCQjp\n",
       "ouCmVNyyQg3NgxYqroogqcjQUqiU1sCK0D60S1vptrCt92tm7szcmWmMSBUP3Mlw7v9m7u9+nDlz\n",
       "gWhLT7+Nf7ulpvfGSTL4L1jzf8x/BlO3eBnMjkfXNNGjP+ejMGMUA9oRUYhpvf6avi6FkIa/cv00\n",
       "tSle08RJ6rsUhRmjGNAuikIsvyz5GyGTL91fcW+zqhE65tQ0MUvbVqMwYxSDmVnkhdqFW1LFklqf\n",
       "L7pNr7Rc/3dhmKymiTzR5tpRmDGKwSzT4IWOe+em69febyn1r8w4t59vkmb8UCjmIYZpdhcWDkaG\n",
       "oBjFYHZQFDo7ievSZnuuoNTveMS5tUZL0iyXwjBpDYm0K7Xa3uhIG60YzNaJQuxFY9X1H0VFJc/2\n",
       "nNCfan0jBehcMQyT1hDMncC+aExHodYNe6JFSekNEQMHRCEEJe0qXZXcf5JHPr/l2s72+RRvSBNu\n",
       "shj082VqSx5MWkMwnw+EqW0bS4kHJUxbYV5X9vxXz3qpKr0hYuAdUcjsQL8GvLye+yv4RD3qes8Z\n",
       "zzlpBo1K2GzSmiZtmZAmP3tizDKqXWyQMG3F4VXlOtpkKTB93hAxcL8owNaxp1bIz2Y+BQWky4r2\n",
       "p9jaYjHqzbG3pPCvLYdh0hqCmbPkTOfs8QUYp5JYlDBtRXePch3NFxWYPm+IWMYk0/ywg5lpQZtQ\n",
       "tCdxdqvYmsBQrw9MvUcams+Mr0s8VkaK9sLY/mpBxmQKoi/UVD0fH64qMH3eELG0aA1SdjuYHTdp\n",
       "kM0g3cvz3U22aOY+p99IVdy9+bsHM8UXLfbtIJjPWkO7EhPIsz8rd8/ImExBYjzIvkkHXmcTyYoC\n",
       "k3l3IUYshaCPRVqz2cmNOorkoMFRydC3WdZk91uEINVsihCEDnnyR49jpJRcxGGOmXPiM8PssL6d\n",
       "wyi0b/2YZjuxHMRk3tceQowY+F4UnT6i3hCYWpUvXGRvQ1y+6NlheMZ+3w7fdPqN5GIYJq2hmCM0\n",
       "Lk9iCzJtbKvVagWjrFsVGZMpsks/1Vvs2R47uvHHW0FM7p1BjJhTkZKt327hqzt7BGaaxuMEfeoU\n",
       "xCVDtypbVTRBOHLnEoz6jaLdb+QVAeslvgLKHNOkPX8AT2BOIwuTzSZeKMiYTJFsYa4cxNwA/Q+c\n",
       "/vr09h9kTOYNYvrFnmTP5abxhViw5+xtpMke0W/Mh77556XvTX2ZjMvZHHL0r80SzMXA9yYZmxGL\n",
       "YuofYLZlX1LkBbGKY72h9gkJk3spZrTYm7oz+7K/r1XRb2XqDil1F+F5guz6ZhfYTwf0NxIr/JjD\n",
       "K9Dr77JIvxZbGtoaelmLehWzN6x0eR5PSpjcSzGjxSKzkrKrD9+b7OuYR/Q7G/qpKj7EfJYgezPq\n",
       "9IAuWsMN8I6qg0rbkwXZwSJS7P2sHsBCUku7pt9DEm30aflEwr77DI9isuHHHL/WjhH/bYckv0TX\n",
       "/KWzIEtxF8hp70p87xx59XtOW7wXz2mn/gTkPHTOCFyfSAAAAABJRU5ErkJggg==\n",
       "\" style=\"display:inline;vertical-align:middle;\" /></a><br>"
      ],
      "text/plain": [
       "trueEval: forall_{m in Naturals} [forall_{A_{1}, ..A_{_a}.., A_{m} | A_{1}, ..A_{_a}.., A_{m}} ((A_{1} and ..A_{_a}.. and A_{m}) = TRUE)]"
      ]
     },
     "execution_count": 27,
     "metadata": {},
     "output_type": "execute_result"
    }
   ],
   "source": [
    "trueEval = Forall(m, Forall(A_1_to_m, \n",
    "                            Equals(And(A_1_to_m), TRUE), \n",
    "                            conditions=A_1_to_m),\n",
    "                  domain=Naturals)"
   ]
  },
  {
   "cell_type": "code",
   "execution_count": 28,
   "metadata": {},
   "outputs": [
    {
     "data": {
      "text/html": [
       "<strong id=\"falseEval\"><a class=\"ProveItLink\" href=\"_proofs_/falseEval.ipynb\">falseEval</a>:</strong> <a class=\"ProveItLink\" href=\"__pv_it/903895f9beb24f56e845fa1176b08e58eda8a7280/expr.ipynb\"><img src=\"data:image/png;base64,iVBORw0KGgoAAAANSUhEUgAAAuIAAAAWBAMAAAB3UeQqAAAAMFBMVEX///8QEBCIiIhmZma6urrM\n",
       "zMxUVFQiIiJERETc3Nzu7u6qqqp2dnaYmJgyMjIAAAAcRTyBAAAAAXRSTlMAQObYZgAABltJREFU\n",
       "WMPlWV9sFEUY/7r3r3u719YHNUgwFzSiJsAZCMVa01OjJPpyYAI1NdJANZEXj0g4JCbekz30oZeY\n",
       "YOOf9kQjWBUv1xgkgXhRNKYVs6ESUbFcIjxAojQgKSX8ceab2d3ZvZ1jNzycxElmOv2+3/e7m9/O\n",
       "fDOzBxCwLDkFzS3v8/qfLftlDq0IML0FarT/h3++Q220TRjNGk88zyopkVqw0Oeknr56067XVxjv\n",
       "+ecW4NFivTtSpu2LVD+YpN0zARTXaXBbqVmKtxVZpd0Zwa5K8MLwz0pdlToWZQHA+ALf7CI87jER\n",
       "tCRt96Liw5QvH0BxBA83bc1O8UrK9CXxSaS88X9avcTZksxVcbPEBwk2NOeX3Qn/Rqa4nqSK09mK\n",
       "09av4rggJpum+Cu8kmGOzwn23u2e8MigJfOnPUWZq+JmabuDNOEOv+xO+AcyxeMdVL/ExNjY2xBE\n",
       "8eNjY59kmyW4mmWVzlnlH8ExsNATH300aXaNpWmZq+Jm6aFzMJLyy+6Et6UlisNJqh9cLBReDaR4\n",
       "e6EwWG2W4kqKVVKe1K4IG2ot5onfC+bkCJe+NiQuS3GTRZ3F/4o+2V1wPSVT/FtU/HmAHYEUj2ag\n",
       "tdgsxVsNVskA05Fztl0ve6fGSSsBfgTrkxKXpbjJop9zslyH3QVP0K1T/xtLyqH4NCr+mOfm2kDx\n",
       "cAo3Xbi+7lLAsY3V+xpGSgGxMqtkzoJ6nmZYbgfVcxRZGOG9NIymJC5LcZMldsHM377YLTiXNyub\n",
       "4/tQ8RgorsP1uu60cpvMcoh+zmLsnhDy1fSSzofqPueEM6FZmJEk7OloFOoEiIiWNKsAa5etuAjw\n",
       "dCezH8HFWlcSSbokcZPbuOylvLfLVtxkacFTUNwvuwk399MZmeLrUT/dEHNU/MAyQ8tPQJfMQiIO\n",
       "s+wV7zFshKKrv2fcl5Uew8FiYlSy4yXyDUIFgBthK06aO8mfVcxOzhJrvZZECSL9LI2TuJq3y1bc\n",
       "ZImhZl/6Zbfg/hRXayLZsf1joB0JQVVmIREj7Jvqu1M2QlFgwn0PtQAuTIxQRZINQgWAG2FlFY3U\n",
       "zZbiWsq6FznKOKmnsUfjOrxdluIWCztaV/2yW3C+R2ftPN7vUHwV6gc7BsiMenjNXco9GZqjibvv\n",
       "mSQNnzq6MOW0MMVbd+IkW9PKpiEiFCV83P2dTIAbs5QcYuOlBqE2oA5h7Zzv8kvkKusmqnncUk5z\n",
       "XUAt4x3VHKfoshW3WFS6Feolv+wmHAXjO6fnHGc7J4yTR5J4xGjZpPQDvjTRMhNHqb4/L4B5TgtT\n",
       "XGPZrT9EAjcBQyihB+pecSGAj0XEbGM2eeg24SrpQtCTF614Jh8qmpr08rUPX5DRxq/yDkTybO0D\n",
       "0CtH65w1TtFlK26xADlIal0gZ8fGpuBwFIxM+apM8W6meDv5751F0J4myA+ZvjoOalcWLjksXHHA\n",
       "w1CirMzAs+SyhQiy8B905XEE8OLAXEZTg9DLdteNoCuW1PjQ1RJ8de1lU5MB2tBbSoyqudXsROli\n",
       "VMj49lw7A9rQbMocp+CCzlzullxuq8gC8ZUvLAeQs2NjUzA4E4zMEpcQoVxu8+25HIk9xfRL0Ke0\n",
       "AVbT/LiuUCgktYxq0CkUTZKLq8PCFf8NT//dP1zCJ48IIko16boeIIAfdkQMvXB93iiUA+oCnbd8\n",
       "AFsTTHORuqkVxlYUgI/Ty+XFEowdBQPYLX3vmWX6YbkV7oXRCETZjIbH6QBbMqFqxmEBIaIL1Aso\n",
       "W5RPw6or0yFg6uBU33cuzEq2zchDGWDq4HEPhPAmS9DEd+Hj9FuCsaNgnm+yeEpM2vqpM+TpH9NB\n",
       "p08skYZEVX0DRiH2VMa2OBUPk+3rCsqGCEWHH2nMcMlsGKBSaykfcGFiBnxWbBTKAJV8TEQItyrx\n",
       "ZrUv2GsZPk6/JRg7CtbgQrlX1K+fbLw7JwDepA/2JNn1IvPhCVAOCxan4kN5GJ41cD+hiF9+WvkX\n",
       "kJjVxcg82szngGhmNyx3YeD77vv5VuQdygDRTK+IqP9Fgpa3XtsQRBNrnP5KQHYmmPwqvkPMEdab\n",
       "IpI2+fZaZ8GyyHmu2O4ZY/di5PiULXtirh+6OF338TfBr26/yhwJ8iiWbJEH7vfDvuZ82TvG7H0M\n",
       "d8OGohfGR+gBA/5PxbihGCMor3FDH3wTlX8BZbFh5AhHDXMAAAAASUVORK5CYII=\n",
       "\" style=\"display:inline;vertical-align:middle;\" /></a><br>"
      ],
      "text/plain": [
       "falseEval: forall_{m in Naturals, n in Naturals} [forall_{A_{1} in BOOLEANS, ..A_{_a} in BOOLEANS.., A_{m} in BOOLEANS, C_{1} in BOOLEANS, ..C_{_a} in BOOLEANS.., C_{n} in BOOLEANS} ((A_{1} and ..A_{_a}.. and A_{m} and FALSE and C_{1} and ..C_{_a}.. and C_{n}) = FALSE)]"
      ]
     },
     "execution_count": 28,
     "metadata": {},
     "output_type": "execute_result"
    }
   ],
   "source": [
    "falseEval = Forall((m, n), \n",
    "                   Forall((A_1_to_m, C_1_to_n), \n",
    "                          Equals(And(A_1_to_m, FALSE, C_1_to_n), FALSE),\n",
    "                          domain=Booleans),\n",
    "                   domain=Naturals)"
   ]
  },
  {
   "cell_type": "code",
   "execution_count": 29,
   "metadata": {},
   "outputs": [
    {
     "data": {
      "text/html": [
       "<strong id=\"binaryClosure\"><a class=\"ProveItLink\" href=\"_proofs_/binaryClosure.ipynb\">binaryClosure</a>:</strong> <a class=\"ProveItLink\" href=\"__pv_it/e9b829427f3ffe051eec5e0bfe099dc7a686f94b0/expr.ipynb\"><img src=\"data:image/png;base64,iVBORw0KGgoAAAANSUhEUgAAANwAAAAVBAMAAADfk53OAAAAMFBMVEX///8QEBCIiIhmZma6urrM\n",
       "zMxUVFQiIiJERETc3Nzu7u6qqqp2dnaYmJgyMjIAAAAcRTyBAAAAAXRSTlMAQObYZgAAA15JREFU\n",
       "SMe1Vl9IU1EY/7q70927u/QpfJJLEPWUq8Es0pj0EAiC9WA+BAoZ2ENkSfYHyyWRdwptPURSSDd8\n",
       "CSMZSFQUtLCgbMUyqECTlfUilKUpszD7vnPOprtj4X3og2/3nt/58zvf3zsA29InNK+4I/nxJL18\n",
       "sMGmBrmiOJOWubdLB/xGAA5Z4I0l4Y9tASD8BY2nbNCtjXCl1+8cUjKTJQCOORi07knuVbsrgfBe\n",
       "Wh60QfdGKMrEL3EDr5hzLgLIs6Dplj3BGtjgAsLXmviI2qA7JRRdOrTAofrTYk5CwDMDajEferpO\n",
       "nE3TPUA6xD0jAwNXbLApLVzpNOknx5rWi0kX8txA7s/c1k5z2bonN4HhKcNot0EnebmiVLsXuZXJ\n",
       "QjFZ1AjONuQYZqNBc9mZ8vGDwHB8hBgWshwshyv8oRw6V4IrsgScMwzSouloNBwe7aLXCTZaTtBg\n",
       "VcePAMd34e2Ya4RnPJ8mW/nu1wCPRU5sLt8hdhZGueJ1QJnlECiiIsoioK7D511OsjJVXo5zvBAk\n",
       "dtl+8syt4UrQY3132CI/wCMT1Ie+hKQpY7V855oAV4A6nz/FoFHmIpJzRIl3aWChK/2GkqZzyQmG\n",
       "awnu+ZFWtKznqgm6rt1myDGAnQDv7w+AJMFIwkqHP6UMwtyo45PzRKcLOiXLOhc0MlxJsrVO3SDH\n",
       "ouh6zXMWmzmQpkCmtJAkeTxicaYb9SjrTd503VPZwRG8xm62tHglXQH1L8JDTYQUQLnoaLqvlDlO\n",
       "nhm9gAexdHRs+WJNlWuo0+k24/amy86ZyqTK1izrPDGOD7EqGoMyUL3cOsdllnBJkFqgn50jwXYR\n",
       "O83LldVemIyqFw5FYrSnqhtfKjKOEE1sP8T9Ai+ilqNOxsOm86RhdFLsJGZHDJTfsM8wDB3pYqIx\n",
       "yS1M1fAfE+4ttVKRE0yFXjA972vuoRF3hdpcnd2iGe6hanSYcL2WoknWaQ5Ws1GQF9DJ3LqYN6eJ\n",
       "CWF548z6aLSIqz0TTcyCA9Tg8Ql4yuhiWhx6kd6ESzHQyImSBvFYbovOJzkt2oq7UqCEz4ALve1p\n",
       "n7yYgD1RrcPnP49T5J13r7Z9zbSVCNd/yOBq8U0YOy6ZMEsYuzyf13wSsonn/wOwmj8Pnog9nKbg\n",
       "v8hfWIjwrQNADjYAAAAASUVORK5CYII=\n",
       "\" style=\"display:inline;vertical-align:middle;\" /></a><br>"
      ],
      "text/plain": [
       "binaryClosure: forall_{A in BOOLEANS, B in BOOLEANS} ((A and B) in BOOLEANS)"
      ]
     },
     "execution_count": 29,
     "metadata": {},
     "output_type": "execute_result"
    }
   ],
   "source": [
    "binaryClosure = Forall((A, B), inBool(And(A, B)), domain=Booleans)"
   ]
  },
  {
   "cell_type": "code",
   "execution_count": 30,
   "metadata": {},
   "outputs": [
    {
     "data": {
      "text/html": [
       "<strong id=\"closure\"><a class=\"ProveItLink\" href=\"_proofs_/closure.ipynb\">closure</a>:</strong> <a class=\"ProveItLink\" href=\"__pv_it/f592bba139d60a48c023680b6534a3c8c4d591680/expr.ipynb\"><img src=\"data:image/png;base64,iVBORw0KGgoAAAANSUhEUgAAAX4AAAAVBAMAAACzsJjiAAAAMFBMVEX///8QEBCIiIhmZma6urrM\n",
       "zMxUVFQiIiJERETc3Nzu7u6qqqp2dnaYmJgyMjIAAAAcRTyBAAAAAXRSTlMAQObYZgAABQVJREFU\n",
       "SMfFl11sU1UcwP+77W17v7o9KPEjkpsRAU2EJo2Q4BaKREmMS7o9wIwEGh0PEhNrhswoamNMdoFo\n",
       "+yI0GFkVI1jibLIQJZLYsJloN5IGJZkKszp8YA8wZcogAfyfj3vvaXs7pcR4knPvv+eec8+v/89z\n",
       "ARZs0sU4NN+UMuu31457D2sZgKkdUCHyuUZr9ViY3IzmII7wjm3Lra2UK64cyFQ/W3ZX+pedMYDn\n",
       "UB6DcTI005hfL+AtnGuK/wLv2C6J45kG5nLF8Kwrq5WaeZUedU8nwDDlz5KFqcb89Fm2KXwjwjoR\n",
       "L4kamPaeH4444tQ1YfxkzbxUF9wfQjaT8BPVUh034Ke2GW+KP5hhHdvRtYLO5UFvc/a+4qh85Kow\n",
       "/gG/Tw4MVDj/l8ivthF+o5TP74cF+M/m858km+Lfzzu28sqY4NCPmp7z+9ody0lzol3Y2t4HXf2P\n",
       "kbA6T/hh3rJ2LcTfalmDxab4l/AO4M99JWSAYfDUh1oJ2uIT2nURgvqVOuP6j/+lbXgfpfwo7V6I\n",
       "PxCHEDV+yDvsGi9+m3eAj2ArqlzmYTbu7Y96wfZjNSb/IcZRpToNpda98TsxyRTlX18X4Js6YtIi\n",
       "h98foZEO8HPMM0jnqn/+Ot1vR9OrvAPEYCgCcpSrPQkHPcMFFA7iB+WymOnpupAYv6fO4v1zyh8E\n",
       "SbCteiJa1lIlWOPw43YP0SdrPYvAIcHSR0c7wSy+f4z/vIN3kJ+NvoC69zN+wyQ2rW+nqS+QtjG6\n",
       "al4sBjSZdl/EZsdvyI8wWym/Xg4KcyeP50E77YOiy3+Kuat+OOLFX+p3db/3QA5MU/+0lt8P0FJx\n",
       "+IM5kBMeb8LssxG4uWBxHX9W1H8IEja/UsFVRmfPEmlpnDgL2uvpp0yB/yDbrSfkVSVk03Lk9eRi\n",
       "ml3f1voPOlSwzeEfcata1XkAtw5TH9ewvwjw3Zn2SDuxCFvXIvIHyLlhA+WH3X3Iv67csl1KAD0t\n",
       "aPHSGYE/tI86fsKHr9leu2sAVrt1kfJHF8dr4lcpsILK+S/w/1BbvTLsPwC8x+r19/fBotxSJ359\n",
       "pqh/o2jHL4zgaw8sg9aYrwiHGL+uR1x+jRIaBWkWNt9Tu+tPsNIJnQjTv+9dPjDKO6kBoas2P81C\n",
       "6EOg3kDhs4p96eU+BAqZls4oHyZhDjoIedExJ9PTZphYhfcOxt9K/tgz0A3BAmyyLMvU4ko56fID\n",
       "zWXDHd9cY++vytnTE2m7mMovW9abxP8lPrCB9SM3Z0BLX4lw/gB5pUT23En+SMK+9JGHWMHU9I0c\n",
       "fHGzHwKm3Eahw8ygH7+Vqzq/wW+M3yDDd8JyGJLRHaj+4TFT4P+RSGtA+bOe35eDobjxyLmHT+Ae\n",
       "CaZ/3Vd/fmBpMcmDGVt9AqJOKgsDLXEppczixMN84MnBATHTq0nGT49+s2iBSR108l4jBobg/2xv\n",
       "zFfXKX82p+yxL9CF5itrK+BeDRd8TfmL+kT9+U3I4/+6DaEFjFSx/vxm1zvT5fcnMKz2lQD2Epuf\n",
       "57oU+NMpyF4pE/7ugnw3dGfIpRCaByX9GmxTkz4S6Binxq7pd8piaXbLs7L6L/NW+B/HkFaez9Wf\n",
       "n51jiMvvfnCh/1efH2pzNLiHVVtKapEgSXrL0f8bfL/cRmtwbqGaGfuHtdLrVY7ac7lAv9vcLzjq\n",
       "iAkpFnjgP/t+/KHB1wXuvmJHE18lHtL/1/4GYexcmcZHeGIAAAAASUVORK5CYII=\n",
       "\" style=\"display:inline;vertical-align:middle;\" /></a><br>"
      ],
      "text/plain": [
       "closure: forall_{m in Naturals} [forall_{A_{1}, ..A_{_a}.., A_{m} in BOOLEANS} ((A_{1} and ..A_{_a}.. and A_{m}) in BOOLEANS)]"
      ]
     },
     "execution_count": 30,
     "metadata": {},
     "output_type": "execute_result"
    }
   ],
   "source": [
    "closure = Forall(m, Forall(A_1_to_m, \n",
    "                           inBool(And(A_1_to_m)), \n",
    "                           domain=Booleans),\n",
    "                 domain=Naturals)"
   ]
  },
  {
   "cell_type": "code",
   "execution_count": 31,
   "metadata": {},
   "outputs": [
    {
     "data": {
      "text/html": [
       "<strong id=\"demorgansLawOrToAndBin\"><a class=\"ProveItLink\" href=\"_proofs_/demorgansLawOrToAndBin.ipynb\">demorgansLawOrToAndBin</a>:</strong> <a class=\"ProveItLink\" href=\"__pv_it/8c3cbf89bb7f1164e01293a5af9fa31d2141e97d0/expr.ipynb\"><img src=\"data:image/png;base64,iVBORw0KGgoAAAANSUhEUgAAAPsAAAAWBAMAAAD0hvfJAAAAMFBMVEX///8QEBCIiIhmZma6urrM\n",
       "zMxUVFQiIiJERETc3Nzu7u6qqqp2dnaYmJgyMjIAAAAcRTyBAAAAAXRSTlMAQObYZgAAA3BJREFU\n",
       "SMe1FktIVFH0OG/mzbx580YXQUEtBlokhSnYh1YOBeYmdFUtQh9YYC1yoF0WTBA0RuVbVascMUwM\n",
       "SjCCFpFoUGjFbKOkCVe6UTJMjbBzzr3vzp1XmovmcN67557PO/eez30XoJJgFTaTvsCnSMRMhdwP\n",
       "i6E9wHa6lxu7roPpAUzTfL5C7ufEsCCnns+vygI0tcVx6/cpRtnKeHcaxLCQF/NZX9CBSWltgAmA\n",
       "JIoSo5VxHxXbfdwkxsgNuQyoR8aXFAzg0qZGRu5VKPbyu4X6NI/m0ZQUXAOIb89DEvkrudyVf5ew\n",
       "njnaSIn0yhTbGCXs5nc4/0o0wBPISMEywKkLGHVMzjmAXuaJd8vSZBd/Max/dRx1S7NesNM+rdjC\n",
       "8BkQSrjN74fQIXY9LeocF788U9tDRYG1dwzi3HzOd1EnNZCoISKmeacWOV+qKNQ84k8UWxgaHqGE\n",
       "Hn6noV+UYAYeCH5oFWDABbAxGlEIcWwGf7HIcMFeC7o/gyseVzPSHAKHXGpsYRh3CSVs4612NnZz\n",
       "ZzkpMEViYri/0E8ULWL0ClHmTV0S1ZoCoxh0jwkySyklzaQXwvjf1djScE51u3SPSaziD0bzEBEr\n",
       "q8Yh9E24t4oneZGpHIuetsH+fNA9B0mVHWlixLKUghJbGtYxasHHpo5yNsfUOURtb2IGw1SKvWc5\n",
       "vXCYRa11tWKJmnsro5rI17RdeA2Wq7Gl4XPGUulZ6D656B+BY6rtO7Ki9GCM2+ET1LPoA8Aezf3b\n",
       "XC5XDKNqi6SlJrKGqciQnUD2HWXYwihgUvZ+bJWClhUJQPiK9juQMqhwqqkt4rPv+lh0C6B/tHz3\n",
       "bhi31SxpqRkpQiI9pNimMmzX/jDH8aezPg923w8sfZN6NUS+Lq53HsqRjyQVjkNujTz0cxVhQbZ6\n",
       "Afe08NO+e6GJK4pnDyq2qQyb1ZLUoSsg7B9LJXikqBMYhYJ1E6w1sHYFcu/GM0rVFZrgYNzeu4pt\n",
       "KsPPjGW/nA1hwidiK2D1XY3shDdLjV3pgHsPLvtZA09ogpHmWvfZljI8wKiOx81AHHca2BqtN94+\n",
       "zFr5XzFJ5vAHm68vxeB1YwOIeX+5/vzNPdHld4KXPhG4KtgFwq1dtj4GGYUN3IcLXB1a3Bq0otFh\n",
       "kPE/gBEIi62HKpRX2y2P4F7GLcNvfzLpNrFD2sgAAAAASUVORK5CYII=\n",
       "\" style=\"display:inline;vertical-align:middle;\" /></a><br>"
      ],
      "text/plain": [
       "demorgansLawOrToAndBin: forall_{A, B | [not]([not](A) or [not](B))} (A and B)"
      ]
     },
     "execution_count": 31,
     "metadata": {},
     "output_type": "execute_result"
    }
   ],
   "source": [
    "demorgansLawOrToAndBin = Forall((A,B), And(A,B), conditions=[Not(Or(Not(A), Not(B)))])"
   ]
  },
  {
   "cell_type": "code",
   "execution_count": 32,
   "metadata": {},
   "outputs": [
    {
     "data": {
      "text/html": [
       "<strong id=\"demorgansLawOrToAnd\"><a class=\"ProveItLink\" href=\"_proofs_/demorgansLawOrToAnd.ipynb\">demorgansLawOrToAnd</a>:</strong> <a class=\"ProveItLink\" href=\"__pv_it/b901c9d93feeeb1d4985ff49d28494b20b1aa06a0/expr.ipynb\"><img src=\"data:image/png;base64,iVBORw0KGgoAAAANSUhEUgAAAeYAAAAZBAMAAAAWDpCEAAAAMFBMVEX///8QEBCIiIhmZma6urrM\n",
       "zMxUVFQiIiJERETc3Nzu7u6qqqp2dnaYmJgyMjIAAAAcRTyBAAAAAXRSTlMAQObYZgAABUxJREFU\n",
       "WMPtWF1oHFUUPtnd2c38pXnQghZlSaWKIllItVgjXRFjEQrbPrSRlnapFWkRXCk0ECvs40bRnaca\n",
       "9CGLkSREaBcjaqDFiBVKVBgaCwW1Dlgf2pcGG21aSOu5PzP3zszdXdKWRYqHuzP3nvn2nPvd33Mv\n",
       "QAt5fciBe0lSQ0dbYkpwr8mx/zn/tznr7h0aMB3G2SOv35pxboVom0yx197V/UvzRP4g4/wDeV1u\n",
       "xrkVom1yib2uyF3faEiIbNeiyB9nnEcJotyMcytEu8TOsdeVmkQop8ZK+gs3hNrKUs5daMGqN+Pc\n",
       "CtEuybBN87Mt0uY5OKzGCr0xc12ojW7K2Z6fnv6w6RrWCtEu4XVwe/NCd6BHjRV6O7Ek6S+ydXu5\n",
       "UjnafN1ugWgijmLGaY2xMSnQxGU9iylq34jl2/AySluS/mVzRfrwHeP8GsBIc84BQo3rDNVW6gSw\n",
       "8DcXxZl5pRVLZIWbL2ji8j59fgr7cFJqbH2x6upJJ/RGXvtL+nCBcX4BWyX8j139+cRaibOPsJeU\n",
       "tf09REJe7HBrSDsx3DNKKwfFWiXcJB2SuLzN23QsB1ofCxsyoHvKqR/oU6BflT58xThnICHt9cbJ\n",
       "Ptcsz8NmibOPGF9RjqMtbgPOGvbxnjhuAmzCLKBIf5oYD5Ibo0gSl/uozVf73kQXKcb5LB2EcRH6\n",
       "nX1PL0sf9jHOlivPifOz02CeTYohWRKI+cPKcTSZa8A5XZCrFOC6nEReigBZIS3mrezmUrArc84p\n",
       "gA4v4Iyr805VnYQejT8c56x7+Nl+bsf6xIYCpEi9zN2vZGXOFIFNnK2o7O/oLDfgnAmFrgEOB01Z\n",
       "HuG0INo95OZJmqSxjdM00+1zNnOkBRUxZqA38fcWwMK5nlwPaf6XeLw9cgA5P+92HEoUoYsCC/Pn\n",
       "ZM4Ugd0Gm/BRizooJksNOOPmopfCuEPEfBFOgx4MWVYQmyF148uXNIk1TK+zwIpxJrxMRVQi9B+z\n",
       "uO3nh2BtbYNYw2AG///Ro7Amn5yDccbZsnIy5xnq4RfoBe3bKGe7nliMcbYqlcoHsBXrVuZ5htvz\n",
       "IFDdlLQ0sQJizyDQY24C2UqT2GdI03Re9zkP8nEMxk18nPB4Ruhpk1cd/ZMSLEE/5vs55zUkINsP\n",
       "2yFTh13oN2sWdLckc6YI448fqzXIRDkf7z9zQ9nPaRjAuhV5nuOGWdBv5SekBYEUBvhg4G582Ssd\n",
       "KXBcTt26DGb1Wo5zpsOPRh9HyFQq8kygN6o3a/D1rcOQzmrddG78yTnbxMX98BiMaaRypJ/hxazM\n",
       "mSKSNRgrxDlvBv1vWDi1sPv7GOfBYB9NcxzljO1glJ+SFn5SGPQ5Mze+wYGgNYLYk21BpSAWUMQ4\n",
       "MX1HIVHWFwtglKTzs76IPX3eAossn3Ye7LnY+Xkb9rdLOOvvwmjNf6RwA1qBz72O+skY50lgTkie\n",
       "4ShnYvsn7BNuhBUmfc7MjW/wV5pCZwy2Sq3uWD+GPW2X5/wzBm+3Iu4Jx+YB3iOD6CJxHuHcuQx6\n",
       "9R3CWVsH2x3tAfJYB9UyjF5z04VJ2BjhrNMxMczzDEeLSeyGE9i23Agr8PHjcDe+wY3g2w3FZ/qm\n",
       "f7Kr4TyAy5r+Rs0/S0YkgfO52T0JqZspmjvYlWagVI+u2wnUPBHbOOneYISiGo4NBVLMoAfgRe8M\n",
       "7kBGbuduSOt9FmA2KPq5CXgE9jux2BPzneG9/CryOKX0Ez6gc4OmS9Jduxuyndu+D3MVOWXdcW6m\n",
       "YhBDfczfplKOA9s923wHOLTK++1c5M5tNjZ7ak3u5yLyOE13+X77yL8ZoYuWkMjXnQAAAABJRU5E\n",
       "rkJggg==\n",
       "\" style=\"display:inline;vertical-align:middle;\" /></a><br>"
      ],
      "text/plain": [
       "demorgansLawOrToAnd: forall_{m in Naturals} [forall_{A_{1}, ..A_{_a}.., A_{m} | [not]([not](A_{1}) or ..[not](A_{i}).. or [not](A_{m}))} (A_{1} and ..A_{_a}.. and A_{m})]"
      ]
     },
     "execution_count": 32,
     "metadata": {},
     "output_type": "execute_result"
    }
   ],
   "source": [
    "demorgansLawOrToAnd = \\\n",
    "    Forall(m, \n",
    "           Forall(A_1_to_m, \n",
    "                  And(A_1_to_m), \n",
    "                  conditions=[Not(Or(ExprRange(i, Not(IndexedVar(A,i)), \n",
    "                                               one, m)))]),\n",
    "           domain = Naturals)"
   ]
  },
  {
   "cell_type": "code",
   "execution_count": 33,
   "metadata": {},
   "outputs": [
    {
     "data": {
      "text/html": [
       "<strong id=\"commutation\"><a class=\"ProveItLink\" href=\"_proofs_/commutation.ipynb\">commutation</a>:</strong> <a class=\"ProveItLink\" href=\"__pv_it/6dd80a70bb7f373ba48ccb3bb5954eef35f6b9890/expr.ipynb\"><img src=\"data:image/png;base64,iVBORw0KGgoAAAANSUhEUgAAARgAAAAVBAMAAABvSezVAAAAMFBMVEX///8QEBCIiIhmZma6urrM\n",
       "zMxUVFQiIiJERETc3Nzu7u6qqqp2dnaYmJgyMjIAAAAcRTyBAAAAAXRSTlMAQObYZgAAA+VJREFU\n",
       "SMfFVl1oFFcU/jq7k+zPjPogpU8ytC99MiMLa4vapvYhIAjxxfpkAirog7g1UKxajKXU2Yrd9UEU\n",
       "i3XEPkhEWQhiC4IrwQdjKNsIKsTKYvTBQE2xVROLTc85987udDZrOk898O3O3m/Pne+ec+65F4ht\n",
       "pzTaWrbcOpauLeTBqPOPX2NoyQwqkJn1CHd7bkve68aOVq9zTTZqmwk7FG7y76kYYhaVFfjxd73s\n",
       "BvkWkHiGi61ej5usWCh404SLCid4ssEYYm5pkN1/qfW5mjNfAck/YDlRJ9ttsmKTTWrah3gQFvFj\n",
       "JYaYzzUoWcOzamjTXs0ZNGA/RWZJ1Kmz3GRF9SE/oM5/SBx7EOzRoaHjMbSkCwq8JuNPNbb1bU2m\n",
       "aM4zpOxh1Ot4mCXrWNsIXq2Ly+ihwozn7Y8hxnAVyNZlX6kI1Ts1ubgf5me05pGo1zthVuqjoJmk\n",
       "f5U32ojCNqAow8XIBMnS6nyxRUyqpkAauk0Vc6sS5Llv5/ghfrwvw0/ERPiRMAveNjf1fD+gz9Ee\n",
       "hI9pZRJ0HXP7weSAcvkFuKYrdfnKVUH2KwokFmlVjZ1I6z3eVUbmTfq+HF3CvjBLVsD3munGaVd7\n",
       "XOapDFnoWY75+ZE1cKqnLsn/8sBVH5kruZphpSd6lfMb3QrAxlx+RobGJbxsB/mVpLQvKmZpmKUF\n",
       "O+hQ85lbcrt4L/cpWDWV8dEB+tPhkz4cx7ogI7uBD4C7Pw3BMDBai4qhj2UyRDW5UZHP+XVOOzEB\n",
       "SwHwYfarWqDZ6k0x6brMZDoep4zMcdbfkJp4BmMKSQ6iYSTvlSNpyhI+lV7uBl2QGwl2kcieUM30\n",
       "B2lqsMBw0AbBs3Ej6NEobpXNhpX6bHByyySEyafjX9NrZAslVjyKFvB3unmKkKwbtBlzJijgsB0J\n",
       "s0rIsDSKiu7juoAxLLtsAl3IuCoyiWOysjqMAs7KWwy8r2vGchWk15Q4IJt0qmhaWuNH39DD6qiY\n",
       "kTALc1ClSvWf1Kz2YCzmNGYmx0q+ucfzvuSaMSQGVaT/wiee5zkkpqq7VLIgyJT+9vHj3AC3PB7m\n",
       "ttcx/Ty3/TD/ehQV0xNm0cG5MmjCc3NTyJZeuMqDYbPEhI/TvehXkbES0qMqSM5S+lRkqm7LcdDY\n",
       "nLzYfx3shXmPg2YHk8/eiEfTaz29vIbrIqZqjeEEifNxtAqLfQwLY9XWg7KdtTkoF/BoeKVmkC59\n",
       "gRTVk71/8tsaNlSsA7n8V0RxZO/8/N5vjRZcVniNzXOFKGJBjxavd6lmEOw5fRhRzbS5XLWz4vyX\n",
       "qwU8irGujv/12mnHvnayh93+jTb+B/sHKaslSnHKcO0AAAAASUVORK5CYII=\n",
       "\" style=\"display:inline;vertical-align:middle;\" /></a><br>"
      ],
      "text/plain": [
       "commutation: forall_{A in BOOLEANS, B in BOOLEANS} ((A and B) = (B and A))"
      ]
     },
     "execution_count": 33,
     "metadata": {},
     "output_type": "execute_result"
    }
   ],
   "source": [
    "commutation = Forall((A, B), Equals(And(A, B), And(B, A)), domain=Booleans)"
   ]
  },
  {
   "cell_type": "code",
   "execution_count": 34,
   "metadata": {},
   "outputs": [
    {
     "data": {
      "text/html": [
       "<strong id=\"commute\"><a class=\"ProveItLink\" href=\"_proofs_/commute.ipynb\">commute</a>:</strong> <a class=\"ProveItLink\" href=\"__pv_it/1e2a85fcb88edaaa965b90b4cdfac71d3f25180c0/expr.ipynb\"><img src=\"data:image/png;base64,iVBORw0KGgoAAAANSUhEUgAAAK0AAAAWBAMAAABAjAHGAAAAMFBMVEX///8QEBCIiIhmZma6urrM\n",
       "zMxUVFQiIiJERETc3Nzu7u6qqqp2dnaYmJgyMjIAAAAcRTyBAAAAAXRSTlMAQObYZgAAArhJREFU\n",
       "OMutVU1oE1EQ/txk2+xP2pxEUKR40Yu2EIggRSteRJBWD8WbASv0IlYFQVGsIJpWIfFkQKQrHgo9\n",
       "6EIv9mStB6WKxAqCiLrgrZeW/plGap2Zlw2v1RRWfbDDm5nMN+99M/MC/NV6sKF3jL6AN58jwtr9\n",
       "JD6snsrkOta7TAJsKACvWZmOiNtUYLkFiC2KbmmuWUpL2EU290fEfS8nWwHi8wqsreb6UiExQSYP\n",
       "cP2IuJdYGMtAck70E5drDI2SFQ/JMzkyci8irNXHMpEiAAXYsyN0JY0FPj/RXs7lrkTENeTazVmY\n",
       "Fz05ZNAYuo44xA5c+sFpYEBMSh6ef9ErVUFY6oSo8Xx7ZiC0lFiePDN1SxHo+iGTdofJzCSpcIek\n",
       "fLRfUBdJwU3JLizmV5XgHfC8amkUlNYC7M1KhxUoTxwWV9LpY6Mh6R+tiCeWhVPRce0D4kYGeOYp\n",
       "0ybJdJ2xJcOU3JpXdzpT5lahZnNLipzJCyp3C2KBjusOqyY6D+yHjrvEuC28o+J1I+RuexXXCsRm\n",
       "tuTE86QLezwd93hCNvYijGmdB25fnOUMTls4KQ5955gObpiBHjY1YK/EdO7elYWOm41JV8Xnpm5C\n",
       "rxu3r1kOp8+RS92nb6ZaN4xK3Ce0SsxbYKeOm/SNWaEjgNFXxeU2QhNV9+CgTEWVC9XXecoSG+c+\n",
       "ZI7sb2/ycv07wJCv4T5ufyVlTIzD+lHF5Ws2zCyle2+rqWBBk2Hnf3p4ukp1auriEzFezMMQK6DY\n",
       "zoKGuw+WvC3NPuLLa+a4tqSKpm4Zru2OUmTJGoRVgbVN4yFOVK6gSFk93B1f8+5ssCZqlSjDyl81\n",
       "t+LlfLq3Q8PN96P4vXTMd6+lMzdqcWoE6z/PwTqDoyv64+n/4V2vv35LO1YH1ylE+h/6uN5QqoOb\n",
       "xH9cbf8S/AtLBLHrZz6oeQAAAABJRU5ErkJggg==\n",
       "\" style=\"display:inline;vertical-align:middle;\" /></a><br>"
      ],
      "text/plain": [
       "commute: forall_{A, B | A, B} (B and A)"
      ]
     },
     "execution_count": 34,
     "metadata": {},
     "output_type": "execute_result"
    }
   ],
   "source": [
    "commute = Forall((A, B), And(B, A), conditions=[A, B])"
   ]
  },
  {
   "cell_type": "code",
   "execution_count": 35,
   "metadata": {},
   "outputs": [
    {
     "data": {
      "text/html": [
       "<strong id=\"rightwardCommutation\"><a class=\"ProveItLink\" href=\"_proofs_/rightwardCommutation.ipynb\">rightwardCommutation</a>:</strong> <a class=\"ProveItLink\" href=\"__pv_it/2a24454ad77d4b87740359cdd4edad3264cb6d890/expr.ipynb\"><img src=\"data:image/png;base64,iVBORw0KGgoAAAANSUhEUgAABD8AAAAyBAMAAACpNm2wAAAAMFBMVEX///8QEBCIiIhmZma6urrM\n",
       "zMxUVFQiIiJERETc3Nzu7u6qqqp2dnaYmJgyMjIAAAAcRTyBAAAAAXRSTlMAQObYZgAADhVJREFU\n",
       "eNrtXXtsHMUZ/7x35/Pe3dr+owmPAl2gAlO12MjI4WGUS1EJakVzCeJRgZpTTKIUATFNRSFAc9A2\n",
       "Ma/61Kotj4I3UEEaSrjWikokUA4CrXADXAlQKh4xhFYCqcR1EpMn7rx2dmZ2xt7T8UcU70RZ7337\n",
       "29+OZ347883jOwM0mpomJ6twVKVcHmZ2yhRZQUxOtjfO1rT5Ae/oKp9tMNPTd5lQHnjoixBI4Sgr\n",
       "Has44wXijLKTVCyQcPoTP3t4Johhs854bywQcwf8JX5WooU0Wh+BDv/WZF/PgOLaZDr6rrfrcN8e\n",
       "XdNT+532yluTa5avKUdnkvDNuhvX5WOBmFJLl3/WSouudUy4ahvuEkpZwAfoYwESe2XbyTXInlXT\n",
       "MWiZrRMBhk8EbV4+R73CwToyKeIzOv1n22OBmNIW7nJvpz/ePyBcbe3S37UzOBXwHJ06DJDcLdnW\n",
       "r0KHuWUdg445sxblK7EfdHlJjaPDWdEzKeNf0EFviwViSiv52S20ZobFWrlylb5bWctlJeI52kI2\n",
       "Z1yyfYDvmKdj0DK3Ho8OSam+AnbcNi2oRc6kjF+nfU3KsUAMDjyvXrufGqw9wuVrTtHe1fxNlxMI\n",
       "eI5uQQW9bpVoS5Am/lIdg5Z5bgXXl9Q0BOy4UxuqRs6kjG/VTfuku2KB6FO6xIe7tIy+nT0sOJaj\n",
       "ae1dG6HfPxXwAbqtCKmbPNE2RG74g45Bx2x/Rm4WHRWBHed5QTFyJmV8TtchOQdigejTYv4+tZA2\n",
       "OJMnPfaVrDAruYrurr+jf6x2CP7xMRm9+PrX11YkhtfY25wqqQxa5tx46IrAjrk6q5Ez6ePFSY9X\n",
       "P8WJO0KZ8Vgg+hT4emlSykmwkXN56RxmA1s76O2HR9gZxSf7ZXRnGTKzJYbVtNhS3f0qg5Y5vTfc\n",
       "1gXsmGtFPnImGd4fsWibrk9jgejT7OAXIyV4eXfPPvRjPrW9DrBU1yC70MyKgeJpsx2g78DVUhFt\n",
       "XyEdjsekJDJomZtIk58RLwXsg/jwv+iZ9PGsDRvTlUNnORaI1tM/rAgEHU4KBIL8zMt1josHKdal\n",
       "UzztngL0BC5yV7StJi9vwReIwKBlTpNa3CReCtixgp3D0TPp46cSyFAtFoguWfvlLiaL/t/IBZLt\n",
       "4tNnUhpG/z+mCIpvK0toIjvSpnMbmQHJ+Z2RwKBnpjMgVdj+5ildpyyV80KcpHWlyJn08ZgL/BxQ\n",
       "H+Q/QbUWY4HoUktQIqQVeAj938UFgss9q3H6P2blz/ELZTSWXWqfZBvC7ckIF0jAoGe2caXmPHjj\n",
       "RJjtnaawI/8k82n0TPp4xHUcCCtzckH0xwLR/jalYJTQxeZCBst+2V/JWnB4epQdMp/7I5G0BwG+\n",
       "Q0JDKyrneXdLNjwYHvZ8gQQMnJQ8IrBvqUH2PLAf7Yc90Kuwoz5ifhdoM0molEwyPObCnk2iqiuI\n",
       "3BgTCJHPe40JpGGOIyc9Hbx6qOoyg5978MzkSr/sr8EHPAuVLvqHm/AMFO48LNQkcPydErp510T3\n",
       "8ntkBnhsTV+eN/CcISAlJ4E9c86ys7HBRXV2q8res/xcAH0mMZWcSY5vdsnMbKv2DXf2MoGQofEn\n",
       "jQmkYY4jaBpEmM+8RbDP9z1QVGihm5LkKJbzrIIBHbJRgYQZDMxNBatkjxnY68xkUyFRRZ+f0Hvr\n",
       "40wg9+OGsdSYQBrmOHLSFmGKabtg/0t9NGNuVKR+FsKYhtB775Sq+ot1ZnII0t8pGBbrILObCaTV\n",
       "w1NvjQmkYY4jJ+0QXrGWYCjwq9VL6qLpzUcE2nMm3HqIL0I+qH2dp71WbyYvAusVw3I/G5ljgTgj\n",
       "Gzb8tkEntWGOIyd1CuPDzNHRKE43bjNsRNnnj2L2DQzc1ugoplGOIye9Jr6cM2LL4b8M9pN8gSwF\n",
       "uAsyKxoSCOHA6a7p0DrAxbu3Lldl7KzptabcRPd2X/UM7YWLJ8Jssrc2eF2PMZ9zPYgTScf4ArmQ\n",
       "9EJslvaK3rw1W/VnV74IJxeNFiyQC1lP5ohbJ94/c875ocHTHs11px1ydELG+XDnSuLL2B9C5o6p\n",
       "mB5xYb00iSOypY4LHugzCukfAAvLhnyuiJXB0o2+QNJg1QC2oi732e5atjQC54mwJ7deAM/kvIRn\n",
       "tGCBUA40tvcn+DGXlbPfUQduPkC6nihC9gAldqsPk/WGIeTkvT0Fk42E5nAXQWWDZUFWfUYh9QA0\n",
       "Fw35jAUSEkiuhreX3IcqZPMGyL6eAHEM5dzzoAfPuV05swULhHIAjPj79TCXZcFITXmqD5Cup11I\n",
       "jFJi1809hU3Yo1k0BVMaZTLF3X+VDU4PsuozCumHAFa/IZ9xF+OnH/sCsUfx0t9+SOI5xOxV33Ox\n",
       "QPw1oQsxatOmX2I5OBcsOlW2cIFQDlRlA6ybx1yWlXxXcQZ8gHz96QKc6VFi173kZXwJTwFvmIKp\n",
       "E9Vjxq/LEBs8T+wiozjC3wt+lxZmf60cS0NxUuGua+iECJm2KYy8iQXirwkRz2JT7qmrsUDm1ZrK\n",
       "koULhHCghhvmoAOqN8JlJc76t/JQDLBvV68v+EZHkT3K7T4J07F9f4jKwHSz+EFhQ/9vALhWZhSd\n",
       "1DHEPKq5kygvNJtp12aAGrLh92I2F8gwam6tEjxGBZIja1RsTShDViY2QRW5KPDg6dDmSZZAIMOk\n",
       "yX4HOiH1PBII4UJN97lKcWMA/Fy9/iruEyix6yZ+jX60kW4OUxmYDkmOjcoGJ8DVx8uMQsohcTRV\n",
       "NXeSibLQDNd6+uP7dRa5Dl9nqJQZ7qyY6F7+M9W2b9nAD6JnUMaHb9zNBdKGOu0WF64YGBhwswW7\n",
       "huuarQmlbh4YuBPJ4WHiYiyBeYqFCwRzQGbntkGPLBgSLlTwVXmWkALa1ev3Iqe0QomRx2AxFyNT\n",
       "w1QGJuyjcNcixIbDflaBxCjODFV5eGWYfUtIIGyXxi7RZuiHxIClXRq0HCplCm8yRVaJTHjReW5B\n",
       "trUh4e+oRM+khN8YUuchLhAH1WjTZaj5Jy0IfMuFYE2oSNuLJHEYZ0FvSrZwgWAOQAOboQIRSDN7\n",
       "M6vytgQCwIs28vWDqF8oU2JUnQkMLJHNNIjKwHQOkN0zz22/6iUNGw4cXAUSo5DaKji80jn/vaqG\n",
       "fbHaoTj0krNL9F4NQU5CwJKI99FKqJQpvMkUWSU+F2dzQZdiQxWXaI+eSQmfc9XJjXEuEFJoFuRI\n",
       "RefBqdp38zWhl/DFNwDehfs9ewx+tEmwiAIh6RLEQ157ymXlYBvmQnfiw/0eBThV5bp9AOwTgBK7\n",
       "1dw2hIXbIfMyEYiOCR3SNfhjGf482lR5VmFLIbaPgAhEZAzuhsUePJKHbAf0C3dy9ai1lqY19KRY\n",
       "U6YgJyFgScBztBIqZQhvMkVWSc/FKwI7XMWGfpnk4eiZlPAZdWdQ9qAkkMSLAHjDwnxUtsXUl/ma\n",
       "UAtqgpI/yaNXbWElWYSv1wSLKpCWfWAP3k73pGCuf756zn8BcS0sp45Dh4UVCkjklet/2929HNkw\n",
       "sXPbzl/U0KMg1/eCR7e3aJjQGfy192uo6Sg8AWeH2fo8KhCRkd6IDpXc6u4ePNWzFO+g4XdyPYwq\n",
       "BcXWmGqdQt9jCnISApYEvI9WQ6UM4U2myCrpuXegKj3Gk214K7J9KHomZfxHCiy3XxIIaWpRf8zU\n",
       "Exg7Bu5kZ5WQRW1BWBF7Bi5GkM4arocfhal0SP8sDcPQX9FjVmkZhbN+6w3xTv9NUXfwnkpHPt4W\n",
       "oe8xBDkJAUsi3kcroVKm8CZTZJX03AnkP12r2PDqWnIieiZl/FZ1wDkWEkiQNkcbCGkFkuo8X8/l\n",
       "E+TOmO5ZPlKh2hw6exy+CkvKWsyi3RVt5vlZpph9RefbH1AM95Hj70mPPU2QkxCwRPBsgctHK6FS\n",
       "pvAmNbJKSPy5qYn3Om5VbdhpsA5FzqSP9xcc1GotTSEQ3cjfgWgCMXI5EPVZ0yJr0z/NxOhMM/hL\n",
       "HVQMtB7yMNQ1bZCTELBE8GyBy0croVKm8CYlskpM/Ll4E/S6omLDewSb90TOJMP7dnWz0ZA7hUDq\n",
       "Skdt4BRN5OtkUn3dK0owXZBTELDE8FsltBIqZQhvCkVWCTLnz8V7762Dig33CW3tkTPp4/0xjYKL\n",
       "A6cMaa5OIEn0a47CdEFOQcASw98noZVQKUN4UyiySvLu2HPb0A9rXLHhPmFHLXImfbxBIGshFog2\n",
       "LchruhjUa6fbpwtyEgKWGH6/hJZDpUzhTWpkFV4Bs04ryM/F0yC0dxBsqE/IHBs9kwxPV9j4fg+e\n",
       "4uBtQ0p3hZ1Uu0KDSaYOcgoClhieli5Hy6FSpvAmNbIKr4BdS794MXgubv8XlxQbqoeNo9EzyfB0\n",
       "hS3kpFrx1z+YliiUYcxWNhfSsj8U5BQEJZEgpyCSieGtkohWQqU4mhOQk1BkFV4By5PYpoAJPkAs\n",
       "x3qybRey4c0UukzyOC8hkwxPVtjQx16lVouxQAzpBPkjanrXT34C2cHPukJBTjwoiYQo8YAlH9/i\n",
       "Smg5VCqIoOIEN8l2Bl8CC2mYcMB0A/7OxAqotmU/LQNoMxnEeXF6jl9CZ2uV5fL4K6iMaYunm2qn\n",
       "vueUQU7EeREDlpou06IpSwhtYpkFHTCUMjxXY6szk3SFDTLKrBpbyIkFoumlZcfAET7WGeTUZmnN\n",
       "9bHYY+gdfzsX/YY6M0lX2NTFuuzxsUCMJTZL/hxsgK83yAkvcGn462NJFpG/+ZuR6NmvM5N0hU1d\n",
       "7o+/SHeKpMwproeZkJQ4kD6IBWJ+8eX5pRmx5dCRZ2R4wEAq/nMgmrQEZnr6Yv8cyFH3B4US+Rmu\n",
       "jwzdSUD+oND/AcqYFlhFSkqSAAAAAElFTkSuQmCC\n",
       "\" style=\"display:inline;vertical-align:middle;\" /></a><br>"
      ],
      "text/plain": [
       "rightwardCommutation: forall_{l in Naturals, m in Naturals, n in Naturals} [forall_{A_{1} in BOOLEANS, ..A_{_a} in BOOLEANS.., A_{l} in BOOLEANS, B in BOOLEANS, C_{1} in BOOLEANS, ..C_{_a} in BOOLEANS.., C_{m} in BOOLEANS, D_{1} in BOOLEANS, ..D_{_a} in BOOLEANS.., D_{n} in BOOLEANS} ((A_{1} and ..A_{_a}.. and A_{l} and B and C_{1} and ..C_{_a}.. and C_{m} and D_{1} and ..D_{_a}.. and D_{n}) =  \\\\ (A_{1} and ..A_{_a}.. and A_{l} and C_{1} and ..C_{_a}.. and C_{m} and B and D_{1} and ..D_{_a}.. and D_{n}))]"
      ]
     },
     "execution_count": 35,
     "metadata": {},
     "output_type": "execute_result"
    }
   ],
   "source": [
    "rightwardCommutation = \\\n",
    "    Forall((l, m, n),\n",
    "           Forall((A_1_to_l,B,C_1_to_m,D_1_to_n),\n",
    "                  Equals(And(A_1_to_l, B, C_1_to_m, D_1_to_n),\n",
    "                         And(A_1_to_l, C_1_to_m, B, D_1_to_n)) \\\n",
    "                  .withWrappingAt(2),\n",
    "                  domain = Booleans), \n",
    "           domain = Naturals)"
   ]
  },
  {
   "cell_type": "code",
   "execution_count": 36,
   "metadata": {},
   "outputs": [
    {
     "data": {
      "text/html": [
       "<strong id=\"leftwardCommutation\"><a class=\"ProveItLink\" href=\"_proofs_/leftwardCommutation.ipynb\">leftwardCommutation</a>:</strong> <a class=\"ProveItLink\" href=\"__pv_it/875c984cb2bb213ca583844e4be17eee4e633d620/expr.ipynb\"><img src=\"data:image/png;base64,iVBORw0KGgoAAAANSUhEUgAABEEAAAAyBAMAAABBttibAAAAMFBMVEX///8QEBCIiIhmZma6urrM\n",
       "zMxUVFQiIiJERETc3Nzu7u6qqqp2dnaYmJgyMjIAAAAcRTyBAAAAAXRSTlMAQObYZgAADcdJREFU\n",
       "eNrtXX+MXEUd/97bX7e/7u4PqUUoPkoCxQi3zeG1SEkXiZRoSLcQAaOxG0qbSoCeniFYfnQBLQeI\n",
       "t0qUApZ7BVMrCD1sGmkCYbGo8cR2bYtioNxh0QQS6dmWo1cs5/x+M7PzfqzbP5q7N4S3b2c+83mz\n",
       "M983850fnx5Aq6FtaqoG0yu8AjM9bKYfuamprtbJ2nY84kyv6snVZryFxMfIR+aRx06EhZSmW/Wc\n",
       "DVF4i30mIgtpDFlRKen6TDCGHabI9lpkIZ5hU5HfbaEf32iSwIDPr5noWf298BR/nVrRO1A0p2Xm\n",
       "rbgpXdPg61evr4anz685umrgm+xL0pQx84nIQjzDPeLuXfpxUE71aIe0dH/QgG6rACwuBbG48bMB\n",
       "Yh+Yk86sQ3Z+XX3ox6jVPzKXxsjRifyM0WFmDGMm6HORhXgOMsfEm1agHwdlT/yAOVdHwX1BJbxA\n",
       "L0dNurQQxCLiE8eRt3jYmLRlLbosrioPTRxCl/nG0hg5YLmNLJA3/m9N0FQtshCPkBK1m6Kv3NOL\n",
       "pTc+ca954nbtWnEr4V10N4obtYNYRLw1iSztkDHpbfx5ifpQC3c3S+um0hg5oBs1Wvw4H1aNL8pk\n",
       "ZCEeYVS078P0o94tOQTJL9jGXNfPFbcS3kXfhXrzTzpBLCK+HTXMprWmpBgZTK5SH9o+ji5DNVNp\n",
       "jPQwiIei//Iex+jw9EcW4hFuFXdn0aUB5yVpSvMs9Bm9x7GUWEqQ8C56AuCaG4JY3PjOMiRucUxJ\n",
       "Q+Tjl+pDOyu4DykbSmOmh6O4oBN8/cc4Jo06kYWYe+Ij4vZBcv05GbQTFRr3J/SfIeSGc8zvo/jM\n",
       "GhWdmNg/7zbc/fuyuPHLb9pz77AxabdteCguIXTXOL1UGjM98Vss3ofkiau6630cXAdpqx1ZiDHE\n",
       "3Cq5jVyLMFSARA97+/rgcaPzAmk+IyB4WKKisV+xqQxXLfBlceOR25KZZUxaVzI8FLsVsKbI6aXS\n",
       "mOmJ35Lk70LW2KF1jEUWYv45oq8GsiSQWNGzBvUfcVqLeRuSpt+7B2Alez0pfqeKxn6F9RE3HC8W\n",
       "N/4u3OzDpqRPk87fUR+K3Qr4D6eXEjzoid/SyRs/MW6qCGsyshBjWF5XLSSOfuGYsJCUA4myIRdy\n",
       "Kq9mbgjFP6iikV8B1iHehF4sbjx2EbptU9I68taX1IdityJ/XFiIm+BBT/yW0bqvhaSPRxZiDN1V\n",
       "dZRBL3KqS1jINncdTZkaonGlg2Zk+EkVje0O9+pL/FjceLwcgkaN/MVXnmWdXVKSyFQ6pz6UuBWb\n",
       "KpxeKo2ZnvgtmdmA+YH/NuqH/MuFz4osxBjuAsVTTaMW7xgXFvIuq2h9zK7SdhF4WrEuGtvdctGE\n",
       "HixuPO7hE0chf0m97QarrCQN4Z5lRH0odisy7wOndxM86Inf8uwY4a9yT7Uh3BtZiDHMdm93sjWR\n",
       "9kluIWRGgzpryHwM7LJ1jE9R1oKLtyoyGuBtxDDbYU3oxuPMLosb34Ha5ZL74dFzoLMYqylJWdS9\n",
       "bCOc7kOxCS8pCAsRCYRVPEMqzkFUnH4g/Oh7rGasid3MQoj97G/NQlrmOHlCRlrqRvW9Zeo9yA5+\n",
       "WGAWksRrSxZ+i28BdknhV/x6/A2vUnF8u62gb8YbccO8Cd14klmwiPjkwYme1Q+gL9fBMkgNK1ng\n",
       "yfUr6AqXeCiC966+EISFiATCKp6hFGfVPVXCjxdnO8zv+GiJWgiZIb/XmoW0zHESLYdIS90paSyn\n",
       "FhIn940VSposIVfKV8zoJX4sjfGnwDwYSnhkaXgotxBDgsdjT4FFCPcLD5/dphayAQ+eldYspGWO\n",
       "kydkpR3SvDSWm9cMPEOnZY7/TVMs6XH0lr+eC5+hOXrM/53tHjt3aHgqUAvpcPAaXGsW0jLHyRPy\n",
       "8pb7fW5dLpiwm1p3Mx91fWjddc2wxMvIu/zpSGh8k/SY/7N1j91/OkPHFpIfeeqph1v0VFvmOHkC\n",
       "XSdiYQvMhNDucViFLJrguczRgYHbW53LtMpx8oTcMbkXnhGnEP/u1bBjzEJW4t6U7TT9vxaykvfI\n",
       "9wWhTYDLD+9c7XuEzgfw+orauVrXOXhjr38xLp/wfl7sGESBNWwfs5BLyUDE1muvWVS0Zunuff8r\n",
       "cGbZMwZbyKVsMMsfkVBvnb/gooZh/oghPd8FuS6/bCpAxjxuwxaakv/HgX7qCv0FYFk1gC5xqvRV\n",
       "5MRTwvHINPhUrotZSAqsOlkdyrzQU89WRuDzMuzpnRfD8zkn5njGYAuhHGiuzo8tYS4rl35Dn9Jx\n",
       "gJIeK/Ojfx7ZXICGSSODy1domezaxu0E0IvauRxAB6ukXyNyRhZitJBcHR83eRB12DueguyeGMgr\n",
       "bPkHHnXgRbuQ847BFkI5AEb6eeePuCwLRvSBnAOU9JQNsTG/bC5Aw+DDlAmblsm2c88QwLeRv9kX\n",
       "QAfnSL9G5IxGGaWa+CiTHsP7gJMQx9Pf7Ne+amML2fva3MLclXj4QGH79h9je6D7PHKMsBDKgRpr\n",
       "gPkCmMuy4m9qwz0HqOlbS3C+45dNAHRMN4rNOLRMtn3FH0nHgeardEzyoYOX6a2Sk3iqk5Fp6J4q\n",
       "3Hc9XRghC0OlkdewheybA7Ocs4Gup2/PPfN1bCFkn0eOERZCOFAXDQvQBbUa4bJi8/+pPRQD0nfo\n",
       "6UvPm1cm+byyUQANCoadGCRlsnvOIKNJHI0TyTFfOvT/zYacBP5BQ01tnAnmkG103dvK3EK2od7E\n",
       "qsCT1EJy+NRi+ok+OAKLIENWFbdDDW9ikX0eJca1kG2kW38DuiHxMrIQwoX69ws1DwAD4Pt6+i7c\n",
       "6eN8Xtl2iVFBy0rP0dEy2XbsJ6QXQK3eVgugg9MNORt8bYqp0O5vrLkqN+KfWN9b/5nqNZ84qZUi\n",
       "kwrHJemwGjN2FriFdKJhud2GawYGBuxsKV3HjZ20UdJtkLh1YOBuZA8biZuB93nUGGEhmAMyB14d\n",
       "dMjuIeFCbVNTFyIpoEtP/wHA0DDO55GNAdhsS8bgRZhnWJmQN0GWurGe8DkIoGPKSzUneUUaLISd\n",
       "tOiQXdhAxZKCF2hrDnqX5qhITWoVyOwjtZJlUlppwFh4WYf1bANua41bSN4hO01J2ofAF23S7FYl\n",
       "PV6CMu0x4lfiT7LPo8QIC8EcgKY3QyViIUn29tbUUwoEgDdw1HRUyKVVnM8jGwXkL9r/uRdKKmYh\n",
       "+h/9jjLtCXIxUk/DRFLoT7epCHtffFPLSWzmuF5Re9msWXZhAxVLCp6jM1iuEptUkZrUKojZR2ql\n",
       "yqQgWPyl6LByto7jO3fM/CzIkZYuQr6Wvh+GUC+Sr9TgdzhxH8CbsMGh+zxujGwhJFyBeOrEQgiX\n",
       "lYNXMRfKiS8bHArI17T09DFIn06a1JRNALLnw2nZmopJ1eFX6E0hZbJruVcRHpY78HjRjy6B6N4B\n",
       "+HUlJefk4bBeUd+lrbtNdmEDFUsKnqM7PoXdpC4VqUqtApl9pFaqTCqE+EvRYWUajgq9NCxbCN5p\n",
       "wgcSlqCqKydOg8tQ55q+0YF2hIrfWUSv47Jhus/jxugW0n4U0oN30DMqmOtvuxb+GxDXsmriVHRZ\n",
       "NkwBsaKW/ofDPatpk5qyuYCVmT6cV8bA7xd9Bj8ZlSl/+4Ef1lEpc+t6evGKji/dCtzPla6Vc/Jw\n",
       "p94nsyPMljz8BCqWFDxHLyZVXlCRqtQqkNlbaqXJpEKIv1Qd1js6bncVtDNmFhq12WDsRs5D4zQN\n",
       "ww0xeh/CptGOBxcjSGXN6TifKZu468sWcF4TprGUwXQpOK/Y+GtgsVZPFu2Tv5SVhp9gxZKM5+j0\n",
       "h+RbVUWqUqtAZm+plSaTCiH+UnVYO3Ug2YjxOIW4I9x0yGghie6LzFycIHeuMV3Lt6PhLlO2islz\n",
       "A4opShlIB5vhBdPG3KjWNbcTUKZIBu2wiiWG3zwuo3OHDEhNahXI7C21EjKp0OIvrsNijpMOnO1j\n",
       "Iaaay0M4C/HkykPoZynR9WDq4FKGoWPVprUQOQQIcUgjByW0Yonh6cE0jk59YEBqUqtAZm+pFZdJ\n",
       "hRd/MR0Wi9dPH6UP+VhIc0tv01ZRRb+TGry6pxf34WEVSwxPBbEc3UZmNxkVqUqtgpm9pVZCJhVa\n",
       "/MV1WOzV0IfXSFFlDrFxk4WgyxkQXrHE8HSE4ujUOF0oAG+pVTCzt9RKyKRCi7+4DstsIe19kYUY\n",
       "Q/yIYZTB7u23ILxiieE7qzKaroTUVKQqtQpk9pFacZlUaPEX12HhPTjX+t0lVTuyEHPoN3iqjwH9\n",
       "t6fCKpYYfpmCJgN7zlGRqtQqkNlHasVlUqHFX1yHtW8OnGrwVLudyELMQZvMkG0qXOeDVaNiydVW\n",
       "uYoljp+noOGlOmTJ4RsvqZWBObzUisukQou/mA4L78FhD2mRVg/UH44sxPB7auqo0weZwY8deH6q\n",
       "36xYEtoqoVgS+LsVNGQWrrqArmVxpCa1MjCHl1oJmVRI8ZfQYSVtss6r7YBH/0qVZ8geM62609Ck\n",
       "YumUkhntJbVqgtlHatWk+As1YKxWgoy2vMZ2byILMQRtw2uvdN+kYmncDg09gVKrJsVfMASpL5ca\n",
       "du6ecyIL8Qo/Un+QJCdpVrG0qBgWeQKlVs2Kv+AysP7csPsf/Yu7fsOM+g6yE0TTPWgCkmQhshDv\n",
       "0Kt+nRGnEPPaKszrcAItZNr99ZCkDTM9nNi/HjL9/gLRBTPeQjbTlx7/BaL/Af0GJT5MBjM8AAAA\n",
       "AElFTkSuQmCC\n",
       "\" style=\"display:inline;vertical-align:middle;\" /></a><br>"
      ],
      "text/plain": [
       "leftwardCommutation: forall_{l in Naturals, m in Naturals, n in Naturals} [forall_{A_{1} in BOOLEANS, ..A_{_a} in BOOLEANS.., A_{l} in BOOLEANS, B_{1} in BOOLEANS, ..B_{_a} in BOOLEANS.., B_{m} in BOOLEANS, C in BOOLEANS, D_{1} in BOOLEANS, ..D_{_a} in BOOLEANS.., D_{n} in BOOLEANS} ((A_{1} and ..A_{_a}.. and A_{l} and B_{1} and ..B_{_a}.. and B_{m} and C and D_{1} and ..D_{_a}.. and D_{n}) =  \\\\ (A_{1} and ..A_{_a}.. and A_{l} and C and B_{1} and ..B_{_a}.. and B_{m} and D_{1} and ..D_{_a}.. and D_{n}))]"
      ]
     },
     "execution_count": 36,
     "metadata": {},
     "output_type": "execute_result"
    }
   ],
   "source": [
    "leftwardCommutation = \\\n",
    "    Forall((l, m, n),\n",
    "           Forall((A_1_to_l,B_1_to_m,C,D_1_to_n), \n",
    "                  Equals(And(A_1_to_l, B_1_to_m, C, D_1_to_n), \n",
    "                         And(A_1_to_l, C, B_1_to_m, D_1_to_n)) \\\n",
    "                  .withWrappingAt(2),\n",
    "                  domain=Booleans), \n",
    "           domain = Naturals)"
   ]
  },
  {
   "cell_type": "code",
   "execution_count": 37,
   "metadata": {},
   "outputs": [
    {
     "data": {
      "text/html": [
       "<strong id=\"rightwardCommute\"><a class=\"ProveItLink\" href=\"_proofs_/rightwardCommute.ipynb\">rightwardCommute</a>:</strong> <a class=\"ProveItLink\" href=\"__pv_it/e08950ccfad5faf37122d7c4430769b7ef8143cb0/expr.ipynb\"><img src=\"data:image/png;base64,iVBORw0KGgoAAAANSUhEUgAABJMAAAAZBAMAAAB3OXIaAAAAMFBMVEX///8QEBCIiIhmZma6urrM\n",
       "zMxUVFQiIiJERETc3Nzu7u6qqqp2dnaYmJgyMjIAAAAcRTyBAAAAAXRSTlMAQObYZgAACm9JREFU\n",
       "aN7tW21sHEcZfr13ex97d7F/0NIQPq4BtS4C+SojF1KXXEBgBEI5J6IuakROdhPSqDQHQU1IMblC\n",
       "MZcU5AMkGhU13hBEQ0rdo5bVVkrVS1O+XEqPOEWRaJorLT/SHyQkjpuk+eCdr92d2TmypxOicjzS\n",
       "nWfefeaZd/d9dubd2TNAq+Wrm8owX6700rep2jpJYf46zheAeH5eSv/b8vAVcI6JMpNSnTSOtCSl\n",
       "linmbrGK9I9Zb67bV3RUnUNfiwdfRRrDUxtmu9fdr9rOrC3d2YSHf7s0sm5EZDZ3Mim9QOpvtiSl\n",
       "linmblnArvaCEx5bg9Qy7qkf16CvrUHixlpgFgXuPdSG+l6ak1naUexHK004eRH19zavjzMp7SB/\n",
       "ii1JqWWKuVum2Z9Xz3lsrzdQXcadI47bPvSeLfi1tByURYV7B1iNCluekVlWpwFCHcGdNE/i1428\n",
       "kUxTKS1Ar5OVlqTUMsXcLd9ii83EWddk/sDWQm/b4lQfdTXgoF8jf5cFZlHg0gBdyH40LbN04SwV\n",
       "vhDcSeM0fi3ns57VQaWUmtq798HW0u6WKebuYw17JkkZM64t8qm0FnvHYqda68qq6BBdTFYGZVHh\n",
       "0gD3YfDfbcsso8Tb88GdjJEle0zkYm+wJ7gzpdK3W3yCa5VizhaDrQefT7j3OyYW2mdeqx4V1bD9\n",
       "bE1Fj9E/vw7KosKlAWYBBtYrLGfIuLPBnWwnCc1ysQFwgElpDcC2FqXUKsWcLTEqCStLMwteXmCP\n",
       "KWpJVpwc4Zc0c5HRLymzxGVYXko3HsCcPdJ5r8JCHTTOB3eSetglZqVXmZQ+jVoDa0MrUqIUpOgF\n",
       "FRMrf3i0t4dDDg9Vb/AjZWt49K4eDaNiDvuG0ZVtEkGvS5Aa6TUadvR52cAlXj43e2CdxBWtMA/j\n",
       "p0ieIa7XTl3fKMTFjkEWxjIiIgK9NcdjXgzEIuC6AQxM3HblZRaa+kRmgtKz3Ao2iHX4SSalKBh4\n",
       "7/Qx20Bv1rha6W9ufB6uzTe0FAQFhmVGe4WPOiv/XwH208rONOzp8AFVK8L7NWGWzTH/MJq9lBmF\n",
       "YL/IZv4B1n2Nemm8bOASH6UDzIVeQxt16dbuHlw/Vt7EMGmI5DR9D9LJnV7doe4NRR4RB/0BmtvY\n",
       "ZnchEAuHaweI4SkZb8ssNPVp7whKz3Ir+Lfz/MeklKxF2Wpn7euuJYpTsMTb+dEDt8BTSTtkN7QU\n",
       "BAXA7gvaBXaps/L3ADxL+sUxsinf9oHPivBI3k8om2O+YaTJPS17lva4QepjGOzDmn6G35+0MrYB\n",
       "Ch5CeGStX0r49X4Qd2vUBlNzToCPRrc602xbnUbEg95KvhI5CBcCsQi4boB27GiclFlo6nO0FpSe\n",
       "5VapC4qU4nVy9Ed4RZ/eC4mDIfBukaYeeMiGZ9KZZGNLQVAATG3ULrCPODsm3wD4JHUVxzB9y7nP\n",
       "inBDk/7J5pg6jDnsnUCHJc9Yk7lB6+RxYYWm30BN9cfpKsYeqCl4iCL4et8Cl8DP1x0pTeDnmP+c\n",
       "EhlnPxP7RDtoRDxouj2A15zH+nIsAq4bgGwrRWZkFpL6WNcEpme51S7nNuvj7+C23YFfZyFMIpG4\n",
       "/ctpIqXplxdnFq8hWRCWycmfEK9St6z4oGwRUmIUeNlLOimtiIkhrdNg0F3xLpwTLN/OhWpFOCT9\n",
       "y6BijqnDxMa9edq45BltcjdI3SB7h3s1/bbXVX9EV2fs7XUFD4/n3JXTTbt/zrevmZSO8UhptsUT\n",
       "9F6IV9ju+FkJPUYkPeXE+nIsHE5CZlyXkwcg20qrizILSX3G64HpaW5l/YvpxE27YQK7mx2wgM2J\n",
       "Uy8TKR16H1xtXwfs9dpk8rFVRErLam1lyeJIaYJ6EAFMByI+heRDBXiQ3sHhkwdHqGkzO7JeBm5W\n",
       "82u8oJG6j5GbVSmRYSjjqpRnumAN4ll8WDS5G6QeZfKjQ3j7mdUjqj+sq+sShUh4WI6fu6UJOcP3\n",
       "lkbLXEo0r42S4R7HU7Au8grLyen+H9mhi50lEfGiyXbChC1i7dgdAlpxWTichGy9kZcOwWvIco0t\n",
       "sROph8nEraPXOUm03pehOiHJYS+XUjsq2CjCbialJD39XxRgBgEWleAkVMnC/dD10G5LFkdK7XQZ\n",
       "+Dt0gblflVKqYpyAGL0zknW+OrCnzlXvkZHn1ZUR3W+r+hiZWZUSHYYybgdPvsUaxDP4vmhyN0i9\n",
       "nfKwIbz9YnZM9Ud0FS5RiISHv+DnvZLqC2CNXrThqUsbuZQiJHsyyOWKkmt/j6jQaZ3s/+259CYk\n",
       "Rt/KGEUJDbtHhrJOrF37PV4ml4XDSciyoap06O5LQz2lisyCtrXfKzeg1zgZOT7bs+4TTCdkXv8n\n",
       "l1KKXJc0DJRKpXQiF68Rtkga74p7wdxcKn0XhfMwTasHYZliEVIiFGC9/udRm6vcU8Z7/3gO2tgF\n",
       "r0KcPjqQDOUxLnC3cKsbH7wGvwUfIzcrUqLDEEYzg8pxZgvaYJ51iCZzg9ZJOmTV6BBSv5UoTdkf\n",
       "p6twiUIkPPwQ78UOzYsTJ6EQWxf+pyOan5ves0xr0SzWgVkGoZ/vSPgOaVmapEedhPGErYLn90pt\n",
       "X8JFgCX9nyHn0JYzivETOcizOShMM9OroNeULUJKbLPehrGcX0pLIH6avvHFyasCYZoCfBw/VZ+U\n",
       "mHX6menbfyfg1rv8UmLm1M1Hql4p0WEIIy4+7nTBGtQz8sKZNZkbtB4q0uyUDCH1w4WyKPvjdBUu\n",
       "UYiEB7xNdmWxwyuOfVqVUuCCEdGVcHM/D7sKOmHMDI5vkh51EqrmxOtcHh4DkkSFqSykqvHtMIZ6\n",
       "SxWrQGN6COAV2GHHT8A3Jz0WVUpfRBp6g2N/RPOvMGYYFwh6B8bThh9XyeFoDX5TpoF3gI71iXpb\n",
       "ZR+Fr7ZhZ5bGzaVzzIlOPjKLPxuGMK4ki52A0wbzLFXlx7gbrD4M1p/ELOP2wymITFlefxjcdYlB\n",
       "uE+sYZ6D+BsATxSjoNs2fbKpILUbWnOiqVhjyAbhcDJ4h0STUhqD6Bdy4kcmfEZ5HuABcufgpcib\n",
       "i+CzmK3H78IbESfH8HeyOGX1V8J5+EjNY1GkFDsD8dFhepUXQX/ZXEi+FsFoEXa8VfsYIEFya3fP\n",
       "/UAOw+97P8wyuP4KAy50rJHcI+DAl7D8z0F5zGv4ziyTEhuGMJLMuyjgtME8C2X5Me4GrUNy6Dnb\n",
       "mWWcfiStjsn+OF25SwzCz5M1/nCqe4hMb7nb3KdNd+L66dbBZoJEIqLRxk2z6SZIMGTH4GdTwaXX\n",
       "HD2gTowX2asE6Qe5BuZKXJuusRMzIxDbHYpFmZVA7G55+otaoeISuIe3gMYaxcdQCU4Y3azEqRWM\n",
       "Q/JuN2e0vdu8nkY0IR/z1skQ3rbFPx5/JFrEeyFyIwofdffdr4Qf5KbK0PC33U/rpr5y43dw3i3B\n",
       "rpu9/UXtubKHQBhXnKporL+CD8GgB04YXZRTs/KJF31SIoyNSvKGhoeo040K9ycwHjvsq8EVVxpI\n",
       "SXclUhBISkr/mo6gBpezquOl/osbMZgv71wpNVU2/Z//Dy40H8Z3QOnblP8Pnwqt/N62+soAAAAA\n",
       "SUVORK5CYII=\n",
       "\" style=\"display:inline;vertical-align:middle;\" /></a><br>"
      ],
      "text/plain": [
       "rightwardCommute: forall_{l in Naturals, m in Naturals, n in Naturals} [forall_{A_{1}, ..A_{_a}.., A_{l}, B, C_{1}, ..C_{_a}.., C_{m}, D_{1}, ..D_{_a}.., D_{n} | A_{1} and ..A_{_a}.. and A_{l} and B and C_{1} and ..C_{_a}.. and C_{m} and D_{1} and ..D_{_a}.. and D_{n}} (A_{1} and ..A_{_a}.. and A_{l} and C_{1} and ..C_{_a}.. and C_{m} and B and D_{1} and ..D_{_a}.. and D_{n})]"
      ]
     },
     "execution_count": 37,
     "metadata": {},
     "output_type": "execute_result"
    }
   ],
   "source": [
    "rightwardCommute = \\\n",
    "    Forall((l, m, n), \n",
    "           Forall((A_1_to_l,B,C_1_to_m,D_1_to_n), \n",
    "                  And(A_1_to_l, C_1_to_m, B, D_1_to_n),\n",
    "                  conditions=[And(A_1_to_l, B, C_1_to_m, D_1_to_n)]),\n",
    "           domain = Naturals)"
   ]
  },
  {
   "cell_type": "code",
   "execution_count": 38,
   "metadata": {},
   "outputs": [
    {
     "data": {
      "text/html": [
       "<strong id=\"leftwardCommute\"><a class=\"ProveItLink\" href=\"_proofs_/leftwardCommute.ipynb\">leftwardCommute</a>:</strong> <a class=\"ProveItLink\" href=\"__pv_it/508f6227f47b73deb8f65570e8254f9f5a3aa87b0/expr.ipynb\"><img src=\"data:image/png;base64,iVBORw0KGgoAAAANSUhEUgAABJYAAAAZBAMAAACRELleAAAAMFBMVEX///8QEBCIiIhmZma6urrM\n",
       "zMxUVFQiIiJERETc3Nzu7u6qqqp2dnaYmJgyMjIAAAAcRTyBAAAAAXRSTlMAQObYZgAACiZJREFU\n",
       "aN7tW22MVFcZfvfufN07c3fnB62liBmpsdSY7JhttpVuZavRNRrDLETAlMgGCtKm6Y5iSmOLHbHS\n",
       "gWp21MSSqjC0piXUbkc3pG3ShqnUj1BrRqCmSaWMaf1hf8gKy8ICC573fN1z7j13mMnE2Cx7kp17\n",
       "7jvvec5z7/vcc95z7ixAu+UbW0owV676EtnyUPsg+bn7OFew/GxOS//bYteugotMlpiW6ng43paW\n",
       "2oaYxWUfO3y9tVbRusH45Pa+2i80izsy1bvpkeZhG/i7I+c2Fu9ugeLfLm/ftF1kN3czLb2Oh/fb\n",
       "0lLbELO4/IsdTqpDVYirknZ2TQS9rYUA4wt1W0cBYGmueWSfv9qkm8j3RMXIxox1iQjwAq+PMS3t\n",
       "QsBCW1pqG2L2FjfLDifLilCyZt93veo75wPezqMEonNaR1hLZtBl2eaRff4aVIbAp41sjFjRU+Tj\n",
       "U/wklaFa6iIUU5W2tNQ2xOwtcfYYP7tUecxXf8c8rz0q9eaMTwe8u67HxVJaR+ghsCcyzSP7/DUo\n",
       "MlxFZkxszFjWGfKxjGeDTppqyT28f//j7eXebUPM3sJvS61nwLPdtcjoGvusDLJrTQa8l+LDGs3q\n",
       "CN8jYfxQuXlkn7/aZBQnl4smNmasBE7De6rc/B5bx50rFh9qT0ttQ8zecgPbeykf9JZzTj1udB3z\n",
       "VsRfSs74ve2z9KykI0wBrLqnBWTdX2tyDnlOmdiYsboxqVk2zM2HmJY2AOxoU0vtQsze8iP6+Sua\n",
       "jYjcomLOB15naxgM8ABNRjTv1CkIIkSnji9+EJpH9vlrUIhvXTSwCcGiV9QjxqV3mJY+R8QJzkg7\n",
       "WqIQWMyKSohkITLa32dwCZjfWl+9idrvNbtr5kigG1PZ0ag/uMKXnA+WL04d2lQKb+snzCI3AHvI\n",
       "5BRly5M42HXzfdwtr8g+DfD0hOodP6MkYQLBImnVXjI0rIbmkIW/CQrxY5OCpMImBAvzKxgRU/cL\n",
       "TEtxsMgAPMhsq/oHrGv96dbm1+Cjw6GWvIAg8/yksf8TMln4K8CrBgefeXcG9qW5fahkdFfMiWA3\n",
       "hvXUZIP+GpJR+SBQGqLzG7XVCc+jt2t970gBor1sdjhCx/EgwwzE+Gp9ZW8fmXEiedW7g67sHB0h\n",
       "QVhZF2DFLdAcMvdXigeFyu1OC5IKmxAszK/gP3KByLSUqsXZhOe83FtLFg7DErXxs4duhxdT5c5y\n",
       "qCUvIACemjHdYGepTBb6AA4a1ge62SZxdwvcHhs2uivmRKAbLWvM6Mwyvv6CvhoZS+GDdegkHW+E\n",
       "Bm11wvP4yNlRF+IAsnBaaVrxlSHKm5Jn4iPkpmZV7zgdpQ7oCN2kgXVKDgRXRBb+XvGg8IafqAmS\n",
       "CpsQLMyv3Bmfluz6Sjaxv/XSfkge6YSqqsPHnijDK5lsKtySFxAAhzebtJR6Ru5ofAvgMwYP3Rwn\n",
       "BKIZbrfyRnfFnPB3E92qDqFbNWbs1OvP4KuRWVXz+GAd4qRyY6O2OmE6x5GMJJ4WWkoSll2GwXZc\n",
       "bmwmyd83yXXVVG+2s1TVEXC7iMxLXEtXRhb+sihQ5Lqc66TgvTYhWDS/2is3FQeZlmDHXeRjGiIY\n",
       "iuSdX8sg4aNvLsou2oCZED4NB36CynFvX36DbhFaYhDkhhdNWlqeEF06Z8Ay7I/7zD1kVHDKzA6p\n",
       "tMldNSf83STG1FxtTGNGT5X+gr46mZ11jw/W4fmcnAKNbX2EMfe2K2wjm4UJQ5fMmjfIx2nt52yf\n",
       "vLuketsYu1RZR8DtorUFoaUrI3N/EVwNilzXmDd4em1CsDC/cv7NhOLl3jBOmkfT0EWFmjv8Jmrp\n",
       "2EK4tvxxYK/aDqSeW4NauqPWUdIsUkvjlEEMyMQdC8xhw515eJzOP5FTR7aTwz3+lJWZRXlA2kkA\n",
       "YvUAIjf7tYTdUOg1rvI+lZ0gM3urOFVoBH01MtHqccmH1mEZ+bsvtK3OjK+VcY8pMS3CtJpPLeBc\n",
       "QmnWeYXmvHG8UhvdRkswpHnDwRokWfbh2f5BQK8rCy1J+/N1M7LwF8FVoYh4Izh2M5JeGwlDQT07\n",
       "PhyDWSoUTB/7uZa6yfBmFeAppqUUztP2k3mYJA5Ols3SVbwnT9wI3WXNIrXUTaekt6EHoq/6teRW\n",
       "rAlI0IQtVccpYM31/kmwrs0MFxU7dFQDiMzs1xLthkLvhILnzE6QGfxAnCo0gr4amUQ5IfnQOvyF\n",
       "/H24QVuVGRv7911+H5KjZ7M8THQEpxuE92NchnklhgsHCyea0UtlePHyZlisezu3bryZby8K232X\n",
       "1/cVKyC0JO0UNIgs/EVwfVAbv1+SWvLaSBhakfbYyam+TZ9mQsFVwT+5llwSq0QGVhWLxUwyZ9cQ\n",
       "LZYhI9WDEH2gWNxGlPNLmluvgzt8FqEll05J7/55tMyfAHV3q/9P56GDhaMK9gX+IKjzAzOLgtue\n",
       "z3E7/AYCiNzs0xLtBqGjWSIdObDQE8YsLU49GgZfjcwKIlHBh9bhh+R5SzdoqzLz3qGw8TTPE2vi\n",
       "HtxOoJ/q0mlbmHfQNggtIfPgGpswksE24Vj4XsfJg/f7pY6vknmAjkvweZRjR84q2BM5GGajUGQ5\n",
       "Hq+B/qhuEVqihazs9uSCWloC9hn6+pcMXxWITAe1xMxHXzl65+/x9FaRZBK7My+oJWZ2bzteVbVE\n",
       "u0FoMiUmvEulJ5QZvn1mpx4Ng69GhkxlBcGH1oHIbO9Ag7YqM5DvdpUwNV2uyTXtOtjajqAIrnGL\n",
       "LN8qVmc1J97t8vhYkEJwdwDcqr0T9hDBuYUq0OAeA/g77CrbE/DtA4rFr6WvEJgaRp60J978I0Ly\n",
       "iBn03kUCWoYfV2kgvO+l+bf1jsrL2DZeg1+X0L62DLsHQEeU5uRi3jMLKOsGoVfgfCca0BPGzK3y\n",
       "7xQaBl+VDL7+epvzYfXoebDfg7C2Pma+PdJka2GayDTt+kJr8RfBNZUWSRKs+Jdz4jcnfEx5DeAx\n",
       "VDi5UcPRBfAFkuLb95KHjQzrke8OkEFrqBIZhk/WFItPS4lzYI9upTsQC2CoFJ2PHwtgtAC7ztbI\n",
       "VD9UST3c2/cIC8RQhX0/3zPHcs/AzdgW/tD/CeG+hO9pSETPvIFv0TItsW4QGtPigkCnJ4xZ5wD/\n",
       "TqER9NXIYNaf4HxY/Y+ne9eXG7VVmWHZ522b3TKVaSVK/QPNev704XUtxV8E11BaJUmwrDf4E6P+\n",
       "Rtci+RLIHQ5eFhe38VolYPGNS3I3S2kvavmKB0DnOO/FUUVu54+jW9Jv9yFKc946pu97c2i8R/I+\n",
       "KSfxpO+7Br6cjCO3mtnRaaYfjxkNztXwG1235NeSV14yDX6l8Pdx6p5dz21qe1H7XckDWH66oqDJ\n",
       "2tPwMVhXki2kXUeUZmc4+UZASwgdVlI3+ba9GvgKMmGlYVvJ7CorZi2ZniUXmtKSr30tBMANxa0Z\n",
       "7bVwGgmYKx9gLbVUtvyf/z+ucy6KH4QS2XL/fwGXSbqv5jCVNwAAAABJRU5ErkJggg==\n",
       "\" style=\"display:inline;vertical-align:middle;\" /></a><br>"
      ],
      "text/plain": [
       "leftwardCommute: forall_{l in Naturals, m in Naturals, n in Naturals} [forall_{A_{1}, ..A_{_a}.., A_{l}, B_{1}, ..B_{_a}.., B_{m}, C, D_{1}, ..D_{_a}.., D_{n} | A_{1} and ..A_{_a}.. and A_{l} and B_{1} and ..B_{_a}.. and B_{m} and C and D_{1} and ..D_{_a}.. and D_{n}} (A_{1} and ..A_{_a}.. and A_{l} and C and B_{1} and ..B_{_a}.. and B_{m} and D_{1} and ..D_{_a}.. and D_{n})]"
      ]
     },
     "execution_count": 38,
     "metadata": {},
     "output_type": "execute_result"
    }
   ],
   "source": [
    "leftwardCommute = \\\n",
    "    Forall((l, m, n), \n",
    "           Forall((A_1_to_l,B_1_to_m,C,D_1_to_n), \n",
    "                  And(A_1_to_l, C, B_1_to_m,D_1_to_n),\n",
    "                  conditions=[And(A_1_to_l, B_1_to_m, C, D_1_to_n)]),\n",
    "           domain = Naturals)"
   ]
  },
  {
   "cell_type": "code",
   "execution_count": 39,
   "metadata": {},
   "outputs": [
    {
     "data": {
      "text/html": [
       "<strong id=\"association\"><a class=\"ProveItLink\" href=\"_proofs_/association.ipynb\">association</a>:</strong> <a class=\"ProveItLink\" href=\"__pv_it/ca38f1c8da74720dc788f6af74f253cf773a1a5f0/expr.ipynb\"><img src=\"data:image/png;base64,iVBORw0KGgoAAAANSUhEUgAAA+sAAAAyBAMAAADW91cAAAAAMFBMVEX///8QEBCIiIhmZma6urrM\n",
       "zMxUVFQiIiJERETc3Nzu7u6qqqp2dnaYmJgyMjIAAAAcRTyBAAAAAXRSTlMAQObYZgAADO9JREFU\n",
       "eNrtXX+MFNUd/97sr9vZmbv7oyJisSMmeDQtd+YsUMGw1FSaNtYFU6Gp6W08rqGkljM01PJDjv6A\n",
       "Q6VsbVpRi7dok1IsuMnloiQ2bsW28Yp0A9jSKPUUbKJJ5cKdJ3eI1/dj3pv3Zt7s3LKbXGH3EWaH\n",
       "9z7fz8zOZ96PeW8+C0C5qW5iIg+XbXoFqibpafppTEw0lc9Wd+jx7GV7KYx89cgOX7flf/zJSsie\n",
       "uoyvxOwqUh3MQXsnUuWyJ/j3jxeuLIkPqTIfqclO0t4k29tHP75dIoECb64dbVv908lT/GOiY15P\n",
       "Ul329LZ5hd+U0Hs3d9wXp91WNFPk61a77D/he+/Rj7NiaUYdFBf2zyrQdd0Ai1OTZ5kOEPoQVAfW\n",
       "ZgL0zVQeWEl1fQESN9FmSx8s0rhVueyJcV5FW+nHWXF0elod1dDq1GwBz9Ht6MLf2TpplshFgPCw\n",
       "VGaH6NsRe2hMdWAl1b4NaLPYvmdeViE31WRHKcavY4xerGcXC3Uzsl39hLJyA98V8A66BeW9ZU2a\n",
       "RUO6mufEIhbSMANtwk2qAyup3sZhS1iDrkK+lKnJjsThoj1GPwotQicb/ZKljFo1i+8KeAe9FdXT\n",
       "q7OTZqlHGuyVBGUhi3NYolbVgVVUoQt4exdrApL+93mVy/4A37uBbMPZl4QB/UHoUo6bBmNsV8Q7\n",
       "6FGAFWsmz9KYhsh6qUWwQ+IfEWBGcWAlVS+J+j2bkVD1COZ4TXaIjPDdnWT7W2hH9SzSTfP+hv6o\n",
       "ZnhyRs7eJXh9rYyOjJ5q3oib3kmytN93bHtOKrNDDNbyr/QcWEn1d8v7kH70A5z48EI/V5MdQs63\n",
       "30i2SehthUibXT274CnlgADibJRM8LBURuO+em8a7po/SRY0FNCnSWV2SMwe3jMm4cBKqi2SEAll\n",
       "I/NBTXaoS/PdT5Gr0dG2FtX0ML1gpgVR1Vc7BtBp12uKPyyjcV+tXWB3QzDLViy9WI1ZSB1pkXXG\n",
       "JISoqT5DegrWXUSGVNiWTE329oIsexh9mUEueywLkbQiCo2+7ra7dorfKaNRXw3aOSZWMMsoVkNs\n",
       "n1lIjAjXz2V3QtRUW0glTxWVvbdQk70lIzfyqMrFmrjsfc4kjtR4oma9gQba+DEZjW+m6AgTK5AF\n",
       "P7bD2qR56/IbtNkpMYQ+secZk3BgNRV5mDQAMwH7FrRv/4+rgatu2beCNKSLIxkbhrjs79kKuOdG\n",
       "MvRKczy9hg4a30zt3UysQBY8FIicB3NJoW6NlhZD4nj8ZWQZkxPiQ9WLm4wBwpQR1l2kVN9Vk326\n",
       "s3vYfnavH2Oyk/E8am9B/wTtPDfINivtdpXjtW4RDfA2YpjOxHLycbBD5bA0IAmWPARP3AiNyVBe\n",
       "CkFPh4lbgMnOQzgL2XHyE6jd6MsSJjy7l1eO+ods2clNcao82cvmmJKkCzOi6Mrum3gfErs+arVl\n",
       "j+LpDg1XoPVYhjTbrMKFeH6E4estCf19vLKSY2I5+SR4vYclena0bfXDaOdeWAaxnBSiL/jOzcBl\n",
       "5yEOy3o5/5ltHUnChGfqGpS10fzQlp08Ir5fnuxlc0zNY7swIxoTOk0qe5jse68dmfyKiN//G2r0\n",
       "0pJY4Cpoht6IMmSpT4gP1VWwCP3zd0W+M5J9N+5FusuTvWyOKUmJC0ItaA164vVNjZo6//mSWOJD\n",
       "qJaeNCrD9IN+n6UYu4VDsjdk8TxPebKXzTElyRRXO3c4l23+qFXSpI/6dbxfbrm3FJZwGg3lfj1Q\n",
       "GabPFdQLr/bjIpbdHNi//7Eyh3Rlc0xJ0saEf+yDKyvV+yzzn2cj+fM9PZvKHcmXyzElyRgXm8Yr\n",
       "7KWqf/nkX8dk78QtnL2ecKmyd7JWckcQWgX4yvDh1ZliQUUAJzvyc4q25NsWaT6hoXGovnQ1k/02\n",
       "0g/YE4ArFiW1ae7R37pX4Pq0bw6W/Ta7LzFHBNS/585f6FFhRFFuNoHRVCxMBoiYpyzYVyw0/g7o\n",
       "wqyM+c7pdXwMEh2qQtnvZ7LHQCuQ+Qr9xbZConsAbhFhzx6+FV4wsqGsbw6WnXKgJ8eLbMSIuDQj\n",
       "/ob70YUBpPJQmr3e5BPmAFyYOLqLzO4iob3o8eakcOJWfk9/TXYsu1HAq/Q70eU5tB8Sx0IgTu+Y\n",
       "Dz+RhT9arYZ/DpadcgAMrGNtL+LSNBhw95gMIJXHLAgNFgtzAC5MDJ1rxCoSikccy4UTtyzjQFU3\n",
       "8j9ksscH8frNGITxo2viW9+0sOzHX5/VOqsTt94o9fc/ikWmc/xiDpedciAFeuyHCMylaeE3Xd0q\n",
       "A8jlz6VgbrZYGAe4MS0oVy8SqmFl99N9cuKWdcerfEg3VoWy8yEd7FhFH+DJVEVq4HUs+4mZMC07\n",
       "G+i0a79x4B4sO5njF3O47IQDNZswH22QDIRLC930ruugGBDf7C6/8/PNaRLnF0YBNEkY+62oNX5H\n",
       "jAlzSOTErbbreC+gyW8p76nYpS2bKZGp4KSUzDWNy97XBXg94Rkqu4Ffwoo/3QUjsAh0MnnVD3m8\n",
       "VEHm+KUcR/Y+MrP1BrRA5E9IdsKFmtwvujppDICfucuPAtxI4vzCCICNDkTMxyTrnhl+R2x0Oix6\n",
       "4pYV+pVqeInK6R0SGSztqir8EZipVI+EC/9dD6BEo4QAl7mGueyNqHOst2BFT0+PlUjFC1jBqIWK\n",
       "NkLkgZ6eHyOR95CuG8/xyzlcdswB+ukju7Jk8YhwIRHy8nwXBTS5yx9BQ68cjvMJswH2s4aIwV33\n",
       "AbL+pA7Ffb9Oe3t64qhv53OpCUl2eym7QRzn+fkRhAp01osmTC6PRCCTjD/oDnMZJTIBdCL8oKTA\n",
       "x1x2M0vWE6K0tsOXLaKl1h0fSkGa1u0wGRaROX4ph8uOOQAN7ntTRPaoXffy8vowAeDJe7n8AmrG\n",
       "MzjOJ4wCzIWnvvBiSsYsAPIewga/I4a6yYsHC08hUJrWdiPEBxoXRehx+xlQHOf5+REcx4Poj2Bo\n",
       "wuTySAQyyXjDksPcRgkfy4XSV2GIFYEvxditoQYGkS8JZj7+EPSi+m525+HPuPAEwJuwO0vn+J0c\n",
       "UXaS7kA8BSI74dIMOIK5UCTe7M5SgJl3lcfHIf5pssSsCuOAxFy4NpGXMbEC/CFDZPc54mbQX4VE\n",
       "M34DmZy4lTeOyA0eSz+iF6xPHOf5+BEEx4Pop2BowiR7JIKZZLzeJIe5jBJ+lgulr0IXZzzo8hOX\n",
       "Ha8n4FXfpWdQtYhcC7ejpir+vSzUo7Y1/GASVaZlOTrH7+S4Za8/D/Fdm+kbApjrn0cX/BcQ17JM\n",
       "5Bq0WZajgFDSVf7X4bbVSfpmgSLMAXTqXThWxMBfFn0W6EsGyiOC0fEyou3Ery7gEzc3nf6584T3\n",
       "oNie2+9NamLL7+NHEBwPop/CRlMm2SMRzOTCn5HDXEYJP8uF2ldxRpyQHpNkJ00k6h3te8LJbEYd\n",
       "Ik05T467ttv9adaHyyaIJdTlOE4Vxve6Eq04VoHZUPyI0KWdUJw4LBa/PL1IX00ILb+fH8FxPIj+\n",
       "CIamTLJHIphJxtO3cXmY2yjhY7nw8VUcFm+MIY/sTjpUykOFS/ZIy0I1FyMw5ijLXXGHPHt6WktG\n",
       "56gwy4dzRY+opxOvqc78LaGprCfy6UnS+QX4ERzHg+iPYGjC5PJIBDIxPJ9mlsLcRgkfy4XHVyFy\n",
       "OSNHX9lVq1EmTE52Xy4TJn0sKbsQTF3aEXlqF6Qg7zNBGOLDwX4Ex/Eg+iMYmjC5PBKBTDaep+dl\n",
       "SpdRwsdy4fZVSFz2ZLVVRPaS0hVhj4A60kff3TYPL0gX9yM4jgfRH8HRhEn2SAQzMTy/I2VK2Sjh\n",
       "Z7nw+CpELmfkWPVmqCG37Ek6e1ncj+A4HkR/BEcTJtkjEczE8LJULMxllPCzXHh8FV7Zt0NN9vCI\n",
       "q5HHg8H7IciP4DgeRH8ERxMm2SMRzGTj2VIIjeNhLqOEj+XC46vAbM5NTFLN+ojSOteQ7kl72q24\n",
       "H4E7HiR/BEcTJtkjEcjE8GwphA7DeJjLKOFjufD4KhDbNfKQTqsZneWhPFmJwI8/uzIePwK3IpCN\n",
       "Y18Q/REOmhjLJY+En7PB46lgSyFA/goeCsko4We5cPsqMNs445JGM1Uue52zUhPuAn3XJ1l4YWKd\n",
       "x4/gWBHwhtsXJH+Eg8av2cseCT9ng9dTYS+FALwrh0lGCT/LhcdXEbXITJ2wKFn7ERPSeY67J2dp\n",
       "KupH8NgXiD9CQF86E18K0bvUYUUtF94TS4XyjEuas6/2HygTljSO+zzpBie3P+LSmfhSiKGefC2R\n",
       "rhdiX0uJXIkZNdlx+oVz7sKL5SX6Edz+iEtn4kshB9XFJdLdDtpr0sJr7ecI7dvfaQDt1ywqkCrA\n",
       "tKOC31Hg6oCa7CTNc3b/j16qMiv4UpXAZXZXUvbL+YfFoxZUT6rsD4tf1v+NwM3Vo7puL+zi/0bg\n",
       "f6jXrnPKG+sFAAAAAElFTkSuQmCC\n",
       "\" style=\"display:inline;vertical-align:middle;\" /></a><br>"
      ],
      "text/plain": [
       "association: forall_{l in Naturals, m in Naturals, n in Naturals} [forall_{A_{1} in BOOLEANS, ..A_{_a} in BOOLEANS.., A_{l} in BOOLEANS, B_{1} in BOOLEANS, ..B_{_a} in BOOLEANS.., B_{m} in BOOLEANS, C_{1} in BOOLEANS, ..C_{_a} in BOOLEANS.., C_{n} in BOOLEANS} ((A_{1} and ..A_{_a}.. and A_{l} and B_{1} and ..B_{_a}.. and B_{m} and C_{1} and ..C_{_a}.. and C_{n}) =  \\\\ (A_{1} and ..A_{_a}.. and A_{l} and (B_{1} and ..B_{_a}.. and B_{m}) and C_{1} and ..C_{_a}.. and C_{n}))]"
      ]
     },
     "execution_count": 39,
     "metadata": {},
     "output_type": "execute_result"
    }
   ],
   "source": [
    "association = \\\n",
    "    Forall((l,m,n),\n",
    "           Forall((A_1_to_l,B_1_to_m,C_1_to_n), \n",
    "                  Equals(And(A_1_to_l, B_1_to_m, C_1_to_n),\n",
    "                         And(A_1_to_l, And(B_1_to_m), C_1_to_n)) \\\n",
    "                  .withWrappingAt(2),\n",
    "                  domain=Booleans),\n",
    "           domain=Naturals)"
   ]
  },
  {
   "cell_type": "code",
   "execution_count": 40,
   "metadata": {},
   "outputs": [
    {
     "data": {
      "text/html": [
       "<strong id=\"disassociation\"><a class=\"ProveItLink\" href=\"_proofs_/disassociation.ipynb\">disassociation</a>:</strong> <a class=\"ProveItLink\" href=\"__pv_it/7cb325e5850b22445561433741614f6b7a17d2120/expr.ipynb\"><img src=\"data:image/png;base64,iVBORw0KGgoAAAANSUhEUgAAA/sAAAAyBAMAAADxWdboAAAAMFBMVEX///8QEBCIiIhmZma6urrM\n",
       "zMxUVFQiIiJERETc3Nzu7u6qqqp2dnaYmJgyMjIAAAAcRTyBAAAAAXRSTlMAQObYZgAADV1JREFU\n",
       "eNrtXXuMXFUZ//bOzszemTu7/UNqAcFLSWAxyg5ZbJEu6VQiNRrCFCLFSOyEUlOJ2DU1BAqlW1S6\n",
       "BWtHjfIS9hZMrUXokqaBJhhGihpWoBMeioG2CwUTSLSbtpRua1nP+3Hnu/PorCll5xDu3D3nd373\n",
       "m/O7532+KUCzoW1iogQnbXgOpl7YyD+8iYlpzZO1bb8vOGlLwitNQfnbR9lH6r4HJkP+/ElcEufA\n",
       "VAy7xWd8isufVt/fLU8a6YPNEmyfxG+IcnWUWvLTsCEn7zbxj283SIDgUwMAmWWHepf+uH6av08s\n",
       "njWobEkUKzi7F9/o1t9PGfBKLpr+qZb8NPxI3b3HP/aZqUU8k2vc76tEd9KbNvIOzM3XYtLxMwBi\n",
       "Hyh1RsPJZ5UhfUEZMwA1zIArLis80ZKftv1H5F0myz/2maPYvXiuzqy6NfES/Qq9LCKFf0W2FpOK\n",
       "jx8jA7IDKvrZUPKmFeQyt4gYgBpmwZ/FkMlSS35SCqock7ywHp1r1NP4GnxGc80KdWvgFfoWeukh\n",
       "8Xv8Wkwq3hknr9J+3SeFkt+in/MwA1DDLPgG9L0fb8lPBFLi3cM/yj05nZr4so/mun6mujXwEu32\n",
       "0+tq0ux+OqjFpOI7iA4btKidOSs5dpRer8IMwAyz4Z05DLq8JT/AzerubD4hDp4xJgCPQz86rhpN\n",
       "qgm0gZdoh7UohwAW3lCLScd3FSB+k24hvKyVPMQ+fo8YgBpmwz20p9gTtOSPH1S369j1t7CI1Lf4\n",
       "AI/7G/kPWyka9obFLcOnllnoDvpCxA/t6r6VNsdVmXT8ohtfXjOs4zOjVvJO0UYIwwwDUMN2Wk0N\n",
       "53rpPzToIcgWvyV/TH/7W9k1B0NZiPeKKtkPD6EDBnDlaJrhYb6FTg6LvnxDAa6aXZVJx5OhQmq6\n",
       "0TX3W8mreAlLwwwDUMNWWYKk0Yanc7Qlf1tB3bKJcHxx7zJSwdp5gWV8SGBf7WWAJaI2cvwOC92W\n",
       "E325c1S+GVFMOn41fQV0lY6PWcmfZS11IA3TBuCGSbjJFQ7OeEv+RWVb/nbyZUaV/MkA4gUkFxmh\n",
       "XS26fo5fZ6GZ/KQvB2e/lD+KSccfovL7IflV8ipWi/PSMG0AbpiEV5PfPdaSv6doN/6k+iWnKfm3\n",
       "6sUgqzHNipUdhR+30Kzxpy9W4qCUP4JJx9NpPyzLZS658mznnLy0QCWz2aUnow0DcMMEnLKBzMT7\n",
       "/n9p9PSW/KvBGvq5RLjOMSX/e0KBcK9Z5CWt8LwMFZoN/eiLtWhAyh/BpONpUxw/DJl55bYbnIIc\n",
       "rqnkIdoujEjDtAERhgk4ZSuqYWQ4rGnJP0Pf7hBz/45xWcpsmE3aX0h9REfKo/JyjWhnFd4ZMNF8\n",
       "ovUWYZkRCPl1GiXQdDq+k8gw7y64/1zoysVKZExaspLTpHHYGkjDlAGKid3oeAGnbIHgqgw7hfzs\n",
       "5djVnPxNc5yQkNKrrFSnTRPvQ3r9h1lRygnahzu0It1EZSjIy/U0ka6vSHyHb6Fp7u/THZxhEPLr\n",
       "NEag6FR8Yt+h3qV3kz+ugwWs8+jMW9ngkTsX51Q7rgzQTDfZ8QJ+HVv568Rr5548l59NLd9vTv6m\n",
       "OU7MtH+/MQozOlNeyu3svrLs2CJa3Pz+37DRt4D1VkUzVcafAt0wRLh/hydzwyoMiDLsFOiTXMiw\n",
       "1+fy30t7sYHm5G+a44SE9FFjDpatNVOODF2O/fcrxv2TDTG5Y6TGvu5FbNM0ahhh++G2SK4tWS5/\n",
       "Z0DXi5qTv2mOExIyHxh/rNXFNvuQ39DiUei4YIduSH656rpGmNoLZLj365GITdpGDSNsny9HcbGp\n",
       "KZU/M7J58z1NDv2a5jghgS99iLBp8oYUTTeDHcXJ+5JRXF0DYuR/eHDwtmZH/s1ynJDgHTGr1sfo\n",
       "sNc/J/FLRnG1jQr5l9CWT+xbHK/8S2TrubYWGgN89cCOpVVf+CqA1xeXzqvawt/Z50RkjR2BqRva\n",
       "+oX8l7L+gS9QwMK+nDM9PEJe/hycVYiMofJfKvqYzEEDtfv82XMq1DiIpGemgTetWjYbYGIe8mFT\n",
       "tazu25AyVncyb+9drsYoibEpLD9drmTyJ8Eps3WP1NO95fTACFxswh7dcQk85QWxIDKGys85yIzz\n",
       "mOwACZfjuW+EpzsSYKXHCvLYVUQ2DQhhXPI2ZQaqZB0i06HXDcP90oPbWvKb8ntlekpgHSmm7Zsh\n",
       "/XIMzGWizN33B/BHP+tFx1D5OQfAyHLZJhMux4GRcI8qAVZ60ofYaLVsGhDC0DNrcb9KVjoiudIw\n",
       "3Pe9x1qNPy052fi7o3SfaBza6Uww/a1v+lT+V16bmZ25hLbqJGzb9gsqNt9DMGOU/JyDKDEoJh2U\n",
       "y3Ha3wx1uxJgp2/Jw/lBtWwKEMb0kNhUlawOVXgzv2eG+/7lz6uh3/hU7vvl0A/WXs8XANjKQn7k\n",
       "NSr/q2fA9OAc4Mu527zHrqXysz0EM0bJzzhIcwqzyYXIwbic2AXvhh5KAe7KcPoVX+gusHxR2TiA\n",
       "BwsjTmvdEPXEpDEJY4b7vWeq3sH54P8zcP+YLW7hA9+2gpR/K2kHnAF4hMvv0T0L9+F+OAh9kGKL\n",
       "YdugRLdE2B6CFaPl38oWpN6AHoj/icjPuEhT/KVQJ04B8JNw+ksA57J8UdkYQI4eTMx/WdS1p0U9\n",
       "sUt3ZNxw34/9ChuGVkzb46ONlTKGt503ai9DVfMNefjOWeXf1G+OAf8uPu/PSvm7SOfZ4cPCwcFB\n",
       "P513y1TJhE+SboX4zYODdxCxH2RdO91DsGOU/JQDUntfWB+wTSrGRcQo2ctUHDAtnP5TMkQbpvki\n",
       "sgmAmJuYGNq1P8b2ufCsdGyQ4qMBbjjp+9UabRqVX2yld5rjwii/CqNiGXiNtpw3arOEfEPMLM4Z\n",
       "pIqdgT0YpTLhj6PILSUpfyZg+xYJXvvhKz7T1Blwx/JQ4HW9nQ2f2B6CFaPkpxxAJgNDeSZ/QtTF\n",
       "kr0vzQB0c8BOP0qa9yLNF5GNAzJzdn3x6byNuYj8X2Ly41ljA+zgw5xdBFTgtd+LqQp7DCsXsWS/\n",
       "2xwXRvlVGN4bBl6hQ84bNVlCviFGlhQ98R8bxx6MUVlwD10plls+oi1wwGMy5iBTcu+CIVL/MwMl\n",
       "+DNNfBXgTbg34HsIOsaUn4XLCU+Zyc+4HA9eoFwkJ73cG3BAphRKd4+A+xm2tY1lU4D0+XB6umRj\n",
       "kmX4Q5HJH/HElZB6HtLd9MQ0M9wveS+oIjiAlQvfsEttNceFEX4VhveGiVfokPNGTRbbN8TM0nka\n",
       "Hd1OQx6MUlnwFHqm45lhU366b0F3nOe/Q6pJ/HS4jDSC7vcC6CCo9ttzpHItGOZ7CDomLH/HYXDX\n",
       "r+QnFCjXP1666N9AuBYU46eSy4JhDojlQul/PdC7NMdPNiDZNGBJqp/mNTHwl77PAT/kgD4RvMXP\n",
       "Etol9OgENTxz296f6Znh7UixuOKcp2P2DBF+FYb3holX6JDzRk0W2zfEzDKXiZVFHoxS2fB3MOjO\n",
       "IoRO+zik9xS9oo7sJh0mD8MVMeHaL/rbIIJLECTTeDrNh2VTd/3pLM2LYFZUfyL0O68ihsNcpFi4\n",
       "lwZ8LW30DFF+FYb3hoHXaNt5ozaL7RtiZHE/ZH8VkQdjVCH4DgzKFvkjDnttr38CUSF/vGcOziUJ\n",
       "vPPQ9FC+7RV3qYKTS5yHYa48MFz1ialC+kXM8j1IE8qO6kEqx86CCC+NKL8K7b3B8RvHbLRw3qjh\n",
       "naFYpG+IDjKLJ3uQ+txGvP1W7G4MOqOK/NjuVwbqkz+SKwN1P8uKLtembuyJeviDyMEO6kI7uGRg\n",
       "IL00ovwqtPcGx/PTOBrNnTdqeWcoFuEbYhojsiTF9KFOt5GkvaCBnTlx91eRv7H1o0+Cm4eOY/P0\n",
       "q3tnHQa1DxbhV2F4b3A8d6fTaOG8Ud07Q7NI3xAdZJY2Nq1I1es2ouDiLcf6uJabB8TGouQnlzO1\n",
       "/BF+FYb3BsfzjkOjhfNGde8MzSJ9Q3SQWZJjfLZdp9uIgkfL39Hfkr/9YETjTwePP1DyR/lVaO8N\n",
       "ge8qWmjhvFHDO0OzCN8Qud1iZOFT+FK9biMSTpn0S2wv+vkt+WF5xNDvAeA/2zJfrQNifhXae0Pg\n",
       "F9ho4bxRwztDswjfELndYmRhPbUX1Os2IuGE6dSIoV9P0JIfG/qzHQ+q1/qiLG3lP6F8PZhfhXbD\n",
       "kPhuCy2dN6p7Z2gW4Rsit1ssqmfKkL4Y6nYb4XDKREcBfcg350d6prj8baXKDqEfUus/CuCpieVS\n",
       "fuU/oX09qF+FcsNQ+DsstHLeqOqdoZ05pG+I2G6xsqQu+s6FAPW6jUh4wmcrf+8is/jWj7uA+dNO\n",
       "4UVfHubLcR3mV4F4aeRRdFXvjEoWud2CZWnMbaQtHyvlIYUsEYm9hKn+w27I1snxe2nAGL4U26Db\n",
       "iNxuwcKTDTIlv55Ht3yeCFryk/DzStuP30sD+nJYbKNuI3K7BQkNGnQZOC+iG76tn3WMrJjNe2l8\n",
       "zAJytD6RbcnPwqzKqE/YYa8MstYgzz7Hp/oPuid8mHphcn/Q/aT+5xwunILyb+TVlf5zDv8Dely5\n",
       "SuxQvHUAAAAASUVORK5CYII=\n",
       "\" style=\"display:inline;vertical-align:middle;\" /></a><br>"
      ],
      "text/plain": [
       "disassociation: forall_{l in Naturals, m in Naturals, n in Naturals} [forall_{A_{1} in BOOLEANS, ..A_{_a} in BOOLEANS.., A_{l} in BOOLEANS, B_{1} in BOOLEANS, ..B_{_a} in BOOLEANS.., B_{m} in BOOLEANS, C_{1} in BOOLEANS, ..C_{_a} in BOOLEANS.., C_{n} in BOOLEANS} ((A_{1} and ..A_{_a}.. and A_{l} and (B_{1} and ..B_{_a}.. and B_{m}) and C_{1} and ..C_{_a}.. and C_{n}) =  \\\\ (A_{1} and ..A_{_a}.. and A_{l} and B_{1} and ..B_{_a}.. and B_{m} and C_{1} and ..C_{_a}.. and C_{n}))]"
      ]
     },
     "execution_count": 40,
     "metadata": {},
     "output_type": "execute_result"
    }
   ],
   "source": [
    "disassociation = \\\n",
    "    Forall((l,m,n), \n",
    "           Forall((A_1_to_l,B_1_to_m,C_1_to_n), \n",
    "                  Equals(And(A_1_to_l, And(B_1_to_m), C_1_to_n),\n",
    "                         And(A_1_to_l, B_1_to_m, C_1_to_n)) \\\n",
    "                  .withWrappingAt(2),\n",
    "                  domain=Booleans),\n",
    "           domain=Naturals)"
   ]
  },
  {
   "cell_type": "code",
   "execution_count": 41,
   "metadata": {},
   "outputs": [
    {
     "data": {
      "text/html": [
       "<strong id=\"associate\"><a class=\"ProveItLink\" href=\"_proofs_/associate.ipynb\">associate</a>:</strong> <a class=\"ProveItLink\" href=\"__pv_it/defaac4b285fb2bd759e412e9124f0f207e995420/expr.ipynb\"><img src=\"data:image/png;base64,iVBORw0KGgoAAAANSUhEUgAABEoAAAAZBAMAAADUPdaZAAAAMFBMVEX///8QEBCIiIhmZma6urrM\n",
       "zMxUVFQiIiJERETc3Nzu7u6qqqp2dnaYmJgyMjIAAAAcRTyBAAAAAXRSTlMAQObYZgAACf1JREFU\n",
       "aN7tW2tsHFcVPp7d8e7M7Nj+QSPaENimqHUR1Itc3Krdkg0VBCGhrhORBDWiK7uBqKLKQlBSOTVZ\n",
       "Ikg2KcgLSG7UQj1tqsZNaViximikVN0m5eXyWJIUBZXCQvnT/omVOM+ShvuY+5qH7WUiWlu+kmfn\n",
       "nnvud87O+ebcM3fWAFHb17ZUYKHN4xbf8nB0kOLCdZzvbXSBJVenGY33D9Khq/i9DlGWNPHHG5FY\n",
       "EhliHrRx+vGV1mbpzWCkv1wZ7CvnZo+j6rf7SoCndvQ1fjJ7OLN78EGjLrBG4VV8/nYklkSGmAft\n",
       "LfpxSk4KYclCnHZMivOKjPRBgNhZ/1gokqJvNj3TtCUAtSUzOsatXN8A65MNgTUKe/C0UiSWRIaY\n",
       "+83O0I9TjkSBTLCuJP/7JSF+U0LSL6Oi8YxvLBTJo39EnWbuRF7FLs7oGLMyPoQOyyoCaxQ6EEKq\n",
       "GoklkSHmfkvQa/rcMumuXzsUrCvkZk2ETt/pCCQNye3TvrFQJI/+k+q0juvwk0rXTI5xK//En8sl\n",
       "rFGwJ/bvfzRa9RoZYu439+s3eqRi4v6lwbpCbmtTXNr+mbRASqKQPjnkGwtF8uh35JRpy/AdrGdm\n",
       "coypx97Bx1USFnrGuVAuPxyNJZEh5n67ge4sOC+JBxSzmQguDYX8C9ZlLj7gPiwSpM4C6Jsd31go\n",
       "kkc/lZGnGeeJcmUmx5iVMfLxrISFWLIeYFdElkSFmPvtB+T4NNwnbvpUNXgVFnIzp4tV4lX6EECR\n",
       "7nvw2E5pMhsLRfLo2015Wup02DS1MSt/UhIXxkIsuRvXsebGKCy5m5XVwVxJMhrHR7J9ASo+8cnB\n",
       "+s0BFeKOrMZviDg7mZaeu6azIrfPnzm6wfsgEexFgC+obSXHHIyhO0+nhXwCjGZgCcPlcTBQxfnM\n",
       "pHsZnxBIPRUwF3EkPhaK5OqzZhXlaQn28LMWpnWMWdmWl6UYaxRP0lCaXEFla7I5bZG3qtn0Clxf\n",
       "CJUUGQS6dlOBl/QffLH+M8DLAQoe8RNpGO/yP/b9C8zvCOaxcE1N9+QxNY0VVbMLUh6TwV4E+YLa\n",
       "B8hlGezdWAK9l8boGMmx/ibkq3v7LiCuEHU7De15joSxe6oMiY+FIlF9EZ9JeVobeZAyYdVtMJ1j\n",
       "3MpHyNLlSFiIJakGXqaOIpzDvQ2rNAF3yHOfO3oXvJByYk6opMggAPZeDlw+l/HFug/gpYByXRUb\n",
       "KLa2/8F6DHHtpI8lwqSSJ9PqYFq1osmqpBMrgHVJEcle+KBVX1hsUX5ra7KwAyomVwddDiFHIB9m\n",
       "RUTCAb3Akc7hqKcZEh8LRXL1VZawaQnSO8gzQYhj3Mo2kkLyKkuM5mq6HJ48tB+sYzGoywR75DEH\n",
       "XkxnUuGSIoMAmNgUuHzu4+X1NwE+HaChihPIAd1f1OP6eKWPJdykPiwnu2FlkHaFlTXyJjjpJNIQ\n",
       "ayoiyQs/tOoLWyfQzZzoYiyx0JfuCNgNE3IL/X0DfRPiTI3tp211tz9gY46xpCZ27YKRmD5fXIvy\n",
       "NLpTUmcsCXOMWyFP8ykZC7/H2XU/OlyEOI6lde+X05glx19bmlm6HlccmIYHf4Qn2XetvEGVMJZQ\n",
       "CHRRy0EsWZlkicE8C1rAHq1H3INueNOXcTR8q+/3skSYTB6QK6EDyiDpSlZ2y+sy6fw8D7c4ikjy\n",
       "wgft8cWtOY0q3UylMcKBsAK2r4T8cbpX21lhO641hoS3P3S+GImxMCRXHwdIuzHPqlc2zcDVa8ph\n",
       "LAlzjFsZw/fGhBtuVr1CDfmid0EHTTQTr2GWnFgCi5wbgb6iOZh6fh3WX95oqygSzpIa+TrtgFa+\n",
       "dl98C7EiPEpumPjpYzvQxwPe6pWKWXuIfni0Euoa5LJEmFxnSwmCdvCgMcy6wrhel1460c49n+gu\n",
       "qCLJCx90wrceHnV3OpIXWWzXuskdzHcxC5vuiZAbWG2kAv3EZInmfIrUgTLS8t0MiY9xJHrgSEwf\n",
       "B+gBDX2PWF2BRI/nFi4jVoDiAEciuEIdP57XHDfcBAuzpBNxRyvBXsqSFF4njaeKMAVZMDN0Satj\n",
       "3x+7CTodRcJZ0klS8+vQA/rLXpbYVW0SkmSZSzVBK8K667xLEhHz9h8aDY9WZz2IJcLkbpBCRzt4\n",
       "EL7HusJ40klKQKTzR4CbVJHkhQ/a4wsNwPiVt8EaOZ9xY0uyK9m+2owvf8E94XJz5F0HXriyCboJ\n",
       "2/FyoaUpUvupc70bHuErhxjjSOTALTB9HKAcjmpHXplm3v7VW4GzhE8TSJsVddi7YzDnhptiYZbY\n",
       "6DyZhjXlcjlt5Y0Gdq09jbLLVtAfKpe3I078lFSnA7DcI2EswRBgvvn7EYfSUdmsyf72ErTRy18H\n",
       "4x2X/3LEqVguQJ73aeE6wWx4WCJM6hlECp4MSIcOdrGuML4KMZfr0s73UaKtKiLhhR/a44vYoZeq\n",
       "AlIl6P7E7pNvFw/2+UAkMTYDEgpQPyTQ19gXPG0FTOOYX32A7NLvA/H7krYvofxMS9vPYj615bWS\n",
       "MZmHAs0ccVKqXQNZXZUwltCdXQfG8n6W3AHGWfJCEOWDKsQv+llCxcdfPH7vr3D3dlprebRiOB2A\n",
       "fecbdYklwiRadUSCoB0yiN9C0q4wjlYRkRxoB9HnngoC/9ThvCsSXvihPb4Af9snxXbW7Ro1/hGQ\n",
       "UIC6YUwXb/v8Ca81tKzO3va5gdIghb21c2DXjd0whrKJXaoDCdsJgL/BHseYhG8dlCRelnwRwTRw\n",
       "yNB8pO0e4uieu4y196CgOfBDeuXFOBf/otlWPYznJhrws4pfaxjM34HV7dpLqibxawe7yrRJhw7a\n",
       "dXdMGMdvNF5nsLRjXALjQ2DdAoutujsuvAiAVn3x7N9ZrcV2Mh26E9giEgrQAJxMiV8OeNovW0VD\n",
       "4XZ/OeDeqa8A4JVwxb9Rtakvhs+hUtj4OrpvUP6KfzuHEk1/NV6AjzckiYclyQtgjAyTx+7F0F/R\n",
       "r8WHxTBSgj3nG2hd7K+mtvX2fZeWTv1VOn6tELfn98GteC78OvsxvxakBo8gNqx39yOTqklSZZaY\n",
       "NunQwVjOHRPGcbGbZB7Szm/O9G5AiuvNItKnIuGFH9rjC27j4uredi7dSjSyObX/vyOhAL0FoxNi\n",
       "r1ttP9420CIaDncF1F80aqgucTkshN3l7e5Z1Sfx5BK+OSPNZ2fFqgAga4koDKp8v7mG1azptYra\n",
       "CWW/hJl0pO1CuZOwPGNDYJKdSPYULneKVgbpK6KhcGjuC4no++gXjX+9ii+oCFbw716DfjhpVcLf\n",
       "48ibTj13yvPZ2ZGKAFh5piqh8bNn4KMwUOEzgrXMgvUHL0uIybCW8ryKwbBhzSxoufabW1B3fZn3\n",
       "LZglQWy2YVYs8cxvhADYobiNWWkpuWShvScsaalteU/+Hye2ELv/V4tv2fxfv590TeIhV2oAAAAA\n",
       "SUVORK5CYII=\n",
       "\" style=\"display:inline;vertical-align:middle;\" /></a><br>"
      ],
      "text/plain": [
       "associate: forall_{l in Naturals, m in Naturals, n in Naturals} [forall_{A_{1}, ..A_{_a}.., A_{l}, B_{1}, ..B_{_a}.., B_{m}, C_{1}, ..C_{_a}.., C_{n} | A_{1} and ..A_{_a}.. and A_{l} and B_{1} and ..B_{_a}.. and B_{m} and C_{1} and ..C_{_a}.. and C_{n}} (A_{1} and ..A_{_a}.. and A_{l} and (B_{1} and ..B_{_a}.. and B_{m}) and C_{1} and ..C_{_a}.. and C_{n})]"
      ]
     },
     "execution_count": 41,
     "metadata": {},
     "output_type": "execute_result"
    }
   ],
   "source": [
    "associate = \\\n",
    "    Forall((l,m,n), \n",
    "           Forall((A_1_to_l,B_1_to_m,C_1_to_n), \n",
    "                  And(A_1_to_l, And(B_1_to_m), C_1_to_n), \n",
    "                  conditions=[And(A_1_to_l, B_1_to_m, C_1_to_n)]),\n",
    "           domain=Naturals)"
   ]
  },
  {
   "cell_type": "code",
   "execution_count": 42,
   "metadata": {},
   "outputs": [
    {
     "data": {
      "text/html": [
       "<strong id=\"disassociate\"><a class=\"ProveItLink\" href=\"_proofs_/disassociate.ipynb\">disassociate</a>:</strong> <a class=\"ProveItLink\" href=\"__pv_it/efbb55c13d237268d2f5580225da68f395dcbf4c0/expr.ipynb\"><img src=\"data:image/png;base64,iVBORw0KGgoAAAANSUhEUgAABEcAAAAZBAMAAAAhw10pAAAAMFBMVEX///8QEBCIiIhmZma6urrM\n",
       "zMxUVFQiIiJERETc3Nzu7u6qqqp2dnaYmJgyMjIAAAAcRTyBAAAAAXRSTlMAQObYZgAACipJREFU\n",
       "aN7tW32MXFUVP/Nm3ny8mbe7/1gpTXWoBhc/smOWLFgWO9VIE4lhtkRaQ+NOulSxETtaQyu4djDY\n",
       "Dm3MjppIg8I+KIFapE7YNNKkDcOHRheJY7eYJlIYBP8o/7Qp222XUur9/nj3vd0dx2gy2Zv07bu/\n",
       "e+45Z+753XvPvTMFaLd8c1sVFkvnljXb6u0rKS2OY2eXVHGRJP/V8nBnfZx0lZKkiSsn2yJJ2yo6\n",
       "pjhl8sduttbt6ybkbpnpv/P+hav4++WRgUo+xKvekbtSLewZj+0caPyavn6LkuRl/P5OWyRpW0XH\n",
       "lC6annWdUbCwjE3BTytrO3+JIL6tKph4mJYrAKLn9G2Cv1zVgPRnG/M5JMSt5QATy+n7QUqSvfhP\n",
       "uS2StK2iY8oU/fP6ewr2VoisxN3TnqRZjr0Mo6jekjPxEC32JYDYuzpjWZf996DHqup8DnFxZxfy\n",
       "JjpLK5ksIUkXgjK1tkjStoqOKT+gwzwxKyF7lxcoquBPKRFcfw976UPYG1kTD9FiIZPuWa2Nd3kT\n",
       "i6ye1yEu3nUlesR6GGN6CEncyQMHHmwvcW1bRcecA2gS71rTEot/IRsoq+CNPplM3LGCvdyHIvRh\n",
       "z8RDtCRRNB/VicS6RC/i563zOsQtrMLT3eYL19v0dHOhUvlhm6ebdlV0SrHo0H45fUliB0OOfxKP\n",
       "ec+JhMFpJtjbDMC6zWDiIVq6i2DfrS0RvMs4kfjNfA5x8dR5UuNr24uUJJsAHmiTJO2q+B/N84WL\n",
       "2v+ZhSQJtpO3lXX/ZZrXG0Xij8OwmNuZGtu37ZmTvfdKaYGHaRm+69guXYJ3+Ws2zHCgeEbfs16n\n",
       "JPkiIhE4W9ohCVGBSzBVkpyWsbHBgQARAz4xUr8m4FS4c9ASm3eMv8zJTq2xHmbf9CKdD7bqLz5H\n",
       "EzXqWgpnkOv58DwSMmwcz8N4jgcgAammyDEeLQotAg/TglIYZ4nWxLvsYEckuzynQ1w8oR+Rfk9J\n",
       "kgALTYA1FFs3mLeW+KfV1pfgqmIoUuIq0IBOB47HG2LI/wbwfICAD34kC/t7zIXgn+DcJ4nHYzg9\n",
       "B0e0xng11L7pxeeCrfqK39EI+aC39Q9cQEnAddSFLMQLQa4J3B7p31LmAThGlmWWY1gXuRaJh2nB\n",
       "PvZpSwnv8lGyCXl2f2lOh7h4hJzMHA4PU5JkGgm69zhH+hvp8iSsVPs+9eKN8GzGi3qhSImrANh3\n",
       "KXC3WyW23AGA5wJyax1OodC65ol6HEXghEESaVJbVbN6I65u0A2Z4qoXT3BUsWpp6UeQo5Qk6PER\n",
       "4FFPeGAXgyauwNGaGGmSAKCCUs/beI4B1lkxeQUepmUGk0T7TLzLDrI0FiBWmtMhLp4gdzyHfCRJ\n",
       "NXHjT9FYHD4A6WNRUO/m3D0PeXA0m8uEIyWuAmBya+Bu96Q4438P4PMBEjqcQA7YZgaOU+O1BkmE\n",
       "SXtUXepGtUZS3aQZChBXvcC3YgRVrK5rKF1wxXCUbDdp9O+7giQT6N+pgI8scdQn0UMCgPrm+IUc\n",
       "viaJT3MtEg/Rgq9JYIt64yq6kPM1ihYjSYhDQpzekAgOrGHf3TxwB3rMQgyHMn3717JYYOrVFbkV\n",
       "m3C2gWl16OeYEu6Naz+mI5wkVAUasEoQSdYm+WxzzoEVcDPrg/vQdHaM9cbCy+ABP0mkyeRBNQs6\n",
       "qDWSakkzZIprXuDtE6Oq1d1qVoArhqMkcf0Vu0Kl4T3F4uIvAk/V6A3tLOdmOsevSYbFLiTxEC04\n",
       "hbEvkBBZVxe0LuOYxpOCJCEOCfEUTlwzHmGATFxhAvW2e6CLLkuTr2KSHF8OS7yrgX4tcyjzNF6r\n",
       "3dWNSFVDBEkmiANxQDto3AhvMVqCB8ksjJ09thP92exPGSnMy3b6xyeV0DcgRhJpcoOrTHRawY2p\n",
       "UVbFdxiKfVNc8yJdpCizii3YdeXrKVLZbqyZOXZXMlZl4SXZYgL79zs0cM4H7EXB8QVTchYHgCe7\n",
       "5LbjTeTQFR4nicCFFvKQWrpQ99W7SYg2W0WtCz6PT3icJKKL9IU8pGV0Hk+vJAxYimqDjCTdiGpW\n",
       "GfZRkmTIJ32sBNNIwMnRDaqOd8yHPgHdnoYIknSTRfcf0Af2836SuDXrDCQJuzNNsEqw4Ur/2BJY\n",
       "lPdp4HxS3fUgkkiTu0FhEa3gRvgJq8bKmn1TXPMCS2OUWiUWkl5SMY8r7xsHpBI4Yx948OzlrSy8\n",
       "cbwDWHh0Enio7+YvAt9/+R1Ij53PWcQdsiDjS63v4O/ramI9ErjQQh5CS/z0TP+de2iI8tG61gX2\n",
       "7RzJAyeJdEj4Qh5S3Ln+G9dSBuBV9F+MJC4egSysq1Qq2XQh1cDK4llE7XvB3l6p/BhR4mGSmG6E\n",
       "1T6EkwSrAOetv4x5lNjafc/gn96DCB3aOqQuMsKqAaewmnw8bUjhBMBp+EgiTdo5xAkxz0mFNvaw\n",
       "aqyo2g8Q17ywmxRlVrGFWxHdRRdSYY4a1/JiN+cndfM0YeDJLMt5fZc0ayAYD9aCQjTEDuJGF0qS\n",
       "MIcM8XgWX807JeX3JJGvosWZZsFfwu5GClY5daYARbpuxEju9iEYtHWEk4Te/3owXjBJshJS58h3\n",
       "gGg1qEFs1iQJhaeOTt3+B1y9niZOPqkonuzg3nCyrpBEmkQbgpzotEIa8RePpIrXWWk/QFzzAlGK\n",
       "oNQqsYA2Kbn4kAp1dOroawKeMsK70IICEFha04JC1AvjwVeBsdZ++BMpROsF/gUfi5MFGUwvNw9u\n",
       "PbUbxhGT3HIdSNSOA7wGe73UGfj+IQXxk+QrSA2ZdKg/kmaPGJr9l7D0XhQzD35Gwy/bBfxMM1I7\n",
       "gvsmGvDbqik1Cs6fId3L7CV1k/i7CbfGpUmFNrp11obnhLQfIK56gQaBocQqOTfm8P7FnKEV6ugz\n",
       "5YR5bUivoVoo3VYw3poWFKKNcCIT2JZujSTjkLi5wH8qwObpSwB7MHHfRommvQxuQulu6ttoLqGl\n",
       "K/ajPFpmhmpodn26oSA+kiQvQGpslIznMhiq2kvxYxmMlWHv+Qba5YZqmR39A/fT/GioRtuXSjhe\n",
       "eBKuxX3hj4OfNKUgM/ICIsMmdnGY1E2SZLTMpUmFNkbzrA3pU+yb4poXgLrRXtQqsoBz1yT/XLRC\n",
       "HY0X1stzmlxrfrFjYysxwQEIKC1qQSE6Bb+cDOTPdTPZVlTdBNYr9Mpa+/mihXISRjoJ9qIMBPh5\n",
       "3of4VhJxv6P052+lmlRANhK5vdfEvfAEFkvPLVWyjmv3JNwk3uTERqdUEmle/ZR6bxQmzr3o8qEe\n",
       "uYMU95BqJQGfkfcTHfbzRbcKob9xPRy0WlXDv7tR76X6blD787cXqlLB2ndrijbx9gR8HDZWRY9g\n",
       "KaeYfsVPEmIyrGSu8V+/Ec2hhXlx1PxQ4T2ONKCTSwhJgj60Cwsiia9/I0SBG6q3sSApbSVZ4FLc\n",
       "QiidHCyWeUjSUtn2f/l/N9HWuxxeuKjlLXJDnK+2Ff8N1jpsasXpSq0AAAAASUVORK5CYII=\n",
       "\" style=\"display:inline;vertical-align:middle;\" /></a><br>"
      ],
      "text/plain": [
       "disassociate: forall_{l in Naturals, m in Naturals, n in Naturals} [forall_{A_{1}, ..A_{_a}.., A_{l}, B_{1}, ..B_{_a}.., B_{m}, C_{1}, ..C_{_a}.., C_{n} | A_{1} and ..A_{_a}.. and A_{l} and (B_{1} and ..B_{_a}.. and B_{m}) and C_{1} and ..C_{_a}.. and C_{n}} (A_{1} and ..A_{_a}.. and A_{l} and B_{1} and ..B_{_a}.. and B_{m} and C_{1} and ..C_{_a}.. and C_{n})]"
      ]
     },
     "execution_count": 42,
     "metadata": {},
     "output_type": "execute_result"
    }
   ],
   "source": [
    "disassociate = \\\n",
    "    Forall((l,m,n), \n",
    "           Forall((A_1_to_l,B_1_to_m,C_1_to_n), \n",
    "                  And(A_1_to_l, B_1_to_m, C_1_to_n),\n",
    "                  conditions=[And(A_1_to_l, And(B_1_to_m), C_1_to_n)]),\n",
    "           domain=Naturals)"
   ]
  },
  {
   "cell_type": "code",
   "execution_count": 43,
   "metadata": {},
   "outputs": [
    {
     "data": {
      "text/html": [
       "<strong id=\"redundant_conjunction\"><a class=\"ProveItLink\" href=\"_proofs_/redundant_conjunction.ipynb\">redundant_conjunction</a>:</strong> <a class=\"ProveItLink\" href=\"__pv_it/2b1c1551404443d5460ea774663713c7a7c156620/expr.ipynb\"><img src=\"data:image/png;base64,iVBORw0KGgoAAAANSUhEUgAAAVAAAAAZBAMAAACV5mv6AAAAMFBMVEX///8QEBCIiIhmZma6urrM\n",
       "zMxUVFQiIiJERETc3Nzu7u6qqqp2dnaYmJgyMjIAAAAcRTyBAAAAAXRSTlMAQObYZgAABLBJREFU\n",
       "WMPll29oG2Ucx79pcvlzl0tkbi8Ukbi+UDGyYGHCaF06X0xkauiL4Qs1wc4XA8siFevmLME3SxmS\n",
       "MKWWiuu5idUONVgCU5QGqyKtm6ETQdfqyWC6oSys1WYbtf6e57lL7ow9G3Fa8Ef6PE/vee7u8/z+\n",
       "Pb8DnMTbtxdrQTx9+50X+LBWZPB/BRooX1XG9wSozrq5FUFDrFOdSd4Q3SNXAVIiPG+eg06z/8+v\n",
       "CBosUBfSHJ92TnQXjH/zTQZKo4Xqw1AFkHUOOsRmMiuC8qkhxzepMdFdMLZzpjnQow1XQrHa8NvL\n",
       "1HzEQZm2uNpW8FGm7GlnRxYqPLZV9NIBrSnQUw1XHtxnjuTxS9S+ykHVqbGxlxyCaXZs7M2045uM\n",
       "u8ub4iL3bos0w6nMN1zatbFmrJYFpuE4j/pqNrvfATSczR4oOb6qVbiaNiFC7m1Y97Vj96FWDn7/\n",
       "ug/O4YXZ3Z7vT7T3kLd1fJrHu9EITi22FaTbZvT6LbJeSzb3KkvUBmMc9DFgwAHUm4Cf21S0iJtz\n",
       "tZue5+1rSApNTts8pZSNyJf46Nr3lzz70Km51mM0hu2a53plLzYDvTxtWDYXLJiuKMeli0yvOge9\n",
       "W4RVLSH0foybUnVQT4x0xOQ7gWjGnbpg3vGMsYEREQNpHLY8rdCPwC98+APgKsEVCaWgLOAGYJ2y\n",
       "AQ9oDLRTQ8QWwbqZEALMMZQ0B/WhpZYmj0124HhQc2uWhJ/G7Xx3W8s20KNL5k3rOVF32x4+pUaY\n",
       "EWpmlBegVvjwLJDsmPuqTDEtz0vzc3M9kKIUgATqq95qUdUMtzKTnW2bq+zZFQ4aLNdcQj04rOHD\n",
       "SCxoPZlOCLMER2M20KleGyhlQxfXg0+DlLLESgVe3cxaEwUj+VSVK2wXP+aTHFQ+uVzPSKCY3wnT\n",
       "zW6sgwZ0uqx2dLUyLyApFg/ZQA+L93b5M1ZQKZK1mZ4QfNewwXj9BGDi1hEucwP9BOHFQqPM9/xp\n",
       "JIcJNDJscSQoxBzi8aDQ3xNMCcL0GNhFoJ1lV14cp8XgWw9ZQf2D3DlT7rQV1Is7rcEUKIhTRECO\n",
       "10HJLSe0kgHq0yEbPtoPHAnT3IuJs4htA3rq6T4vYIGXjePOCCaME8HwzQhrMp8uojRpBVU4kVpo\n",
       "qVhBT2OTuWjSyKV+Ft1SRpgfeEdnv5E4TqrcZ8nE0hW4tdB1GC0hWcAWVwZfPKzdhRgF04CxntK9\n",
       "YX4EmGZyhO0uCdAwM8ij6IT0dDb7HIG+4rNVTxd5dmz/7LIFVD7zec6MuO2UX5bPQ8kt0ka9TP0t\n",
       "7Im+FPvR5OBptuqe5YPA63dMIdSzkUwod0e1QHf0yM/wPp7fMTMbN9ZTumerKeXLud80HF+m/YUS\n",
       "AlRlb9yAdgkpoVFPlw30G9ZsMbOMAKW8MJKwH6HWEiPhcD5YTvI/Fe5okvXKqKUeDVTwZBGfsOGX\n",
       "dGw21KMeyk1LFtD7yBBle1GyWgk1t7xWlBggKUTL8FNIePrjFCl/BM1lMLRYroH6qwjknm04o1Yl\n",
       "vlSTnEaZZ5NbyEf/osLPrFg4r7L83PNrkwWrP/+3PkUy//qnyNf4p0DXwsdd43d97L/A9PQ99Tux\n",
       "lUsPV2ygIwAAAABJRU5ErkJggg==\n",
       "\" style=\"display:inline;vertical-align:middle;\" /></a><br>"
      ],
      "text/plain": [
       "redundant_conjunction: forall_{n in Naturals} [forall_{A | A} (A and ..n repeats.. and A)]"
      ]
     },
     "execution_count": 43,
     "metadata": {},
     "output_type": "execute_result"
    }
   ],
   "source": [
    "redundant_conjunction = Forall(n, Forall(A, And(ExprRange(k, A, one, n)), conditions=[A]),\n",
    "                               domain=Naturals)"
   ]
  },
  {
   "cell_type": "code",
   "execution_count": 44,
   "metadata": {},
   "outputs": [
    {
     "name": "stdout",
     "output_type": "stream",
     "text": [
      "Theorems may be imported from autogenerated _theorems_.py\n"
     ]
    }
   ],
   "source": [
    "%end theorems"
   ]
  },
  {
   "cell_type": "code",
   "execution_count": null,
   "metadata": {},
   "outputs": [],
   "source": []
  }
 ],
 "metadata": {
  "kernelspec": {
   "display_name": "Python 3",
   "language": "python",
   "name": "python3"
  }
 },
 "nbformat": 4,
 "nbformat_minor": 0
}
