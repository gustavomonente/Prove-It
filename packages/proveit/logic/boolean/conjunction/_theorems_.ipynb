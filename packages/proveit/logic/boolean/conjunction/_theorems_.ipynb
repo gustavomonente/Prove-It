{
 "cells": [
  {
   "cell_type": "markdown",
   "metadata": {},
   "source": [
    "Theorems for context <a href=\"_context_.ipynb\" class=\"ProveItLink\">proveit.logic.boolean.conjunction</a>\n",
    "========"
   ]
  },
  {
   "cell_type": "code",
   "execution_count": null,
   "metadata": {},
   "outputs": [],
   "source": [
    "import proveit\n",
    "# Automation is not needed when building theorem expressions:\n",
    "proveit.defaults.automation = False # This will speed things up.\n",
    "from proveit import varIter, Iter, IndexedVar\n",
    "from proveit._common_ import A, B, C, D, E, AA, BB,CC, DD, i, j, k, l, m, n\n",
    "from proveit.logic import And, Or, Not, TRUE, FALSE, Forall, inBool, Booleans, Equals\n",
    "from proveit.logic._common_ import iterA1l, iterA1m, iterB1m, iterC1m, iterC1n, iterD1n\n",
    "from proveit.number import Naturals, LessEq, LesserSequence, one, Add, Exp\n",
    "%begin theorems"
   ]
  },
  {
   "cell_type": "code",
   "execution_count": null,
   "metadata": {},
   "outputs": [],
   "source": [
    "trueAndTrue = And(TRUE, TRUE)"
   ]
  },
  {
   "cell_type": "code",
   "execution_count": null,
   "metadata": {},
   "outputs": [],
   "source": [
    "trueAndFalseNegated = Not(And(TRUE, FALSE))"
   ]
  },
  {
   "cell_type": "code",
   "execution_count": null,
   "metadata": {},
   "outputs": [],
   "source": [
    "falseAndTrueNegated = Not(And(FALSE, TRUE))"
   ]
  },
  {
   "cell_type": "code",
   "execution_count": null,
   "metadata": {},
   "outputs": [],
   "source": [
    "falseAndFalseNegated = Not(And(FALSE, FALSE))"
   ]
  },
  {
   "cell_type": "code",
   "execution_count": null,
   "metadata": {},
   "outputs": [],
   "source": [
    "andIfBoth = Forall((A, B), And(A, B), conditions=[A, B])"
   ]
  },
  {
   "cell_type": "code",
   "execution_count": null,
   "metadata": {},
   "outputs": [],
   "source": [
    "nandIfLeftButNotRight = Forall((A, B), Not(And(A, B)), conditions=[A, Not(B)])"
   ]
  },
  {
   "cell_type": "code",
   "execution_count": null,
   "metadata": {},
   "outputs": [],
   "source": [
    "nandIfRightButNotLeft = Forall((A, B), Not(And(A, B)), conditions=[Not(A), B])"
   ]
  },
  {
   "cell_type": "code",
   "execution_count": null,
   "metadata": {},
   "outputs": [],
   "source": [
    "nandIfNeither = Forall((A, B), Not(And(A, B)), conditions=[Not(A), Not(B)])"
   ]
  },
  {
   "cell_type": "code",
   "execution_count": null,
   "metadata": {},
   "outputs": [],
   "source": [
    "nandIfNotRight = Forall((A,B), Not(And(A,B)), conditions=[Not(B)], domain = Booleans)"
   ]
  },
  {
   "cell_type": "code",
   "execution_count": null,
   "metadata": {},
   "outputs": [],
   "source": [
    "nandIfNotLeft = Forall((A,B), Not(And(A,B)), conditions=[Not(A)], domain = Booleans)"
   ]
  },
  {
   "cell_type": "code",
   "execution_count": null,
   "metadata": {},
   "outputs": [],
   "source": [
    "nandIfNotOne = \\\n",
    "    Forall((m, n), \n",
    "           Forall((iterA1m, B, iterC1n), \n",
    "                  Not(And(iterA1m,B,iterC1n)), conditions=[Not(B)]),\n",
    "           domain=Naturals)"
   ]
  },
  {
   "cell_type": "code",
   "execution_count": null,
   "metadata": {},
   "outputs": [],
   "source": [
    "falsifiedAndIfNotRight = Forall((A, B), Equals(And(A, B), FALSE), conditions=[A, Not(B)])"
   ]
  },
  {
   "cell_type": "code",
   "execution_count": null,
   "metadata": {},
   "outputs": [],
   "source": [
    "falsifiedAndIfNotLeft = Forall((A, B), Equals(And(A, B), FALSE), conditions=[Not(A), B])"
   ]
  },
  {
   "cell_type": "code",
   "execution_count": null,
   "metadata": {},
   "outputs": [],
   "source": [
    "falsifiedAndIfNeither = Forall((A, B), Equals(And(A, B), FALSE), conditions=[Not(A), Not(B)])"
   ]
  },
  {
   "cell_type": "code",
   "execution_count": null,
   "metadata": {},
   "outputs": [],
   "source": []
  },
  {
   "cell_type": "markdown",
   "metadata": {},
   "source": [
    "***Proving this theorem for use in general case"
   ]
  },
  {
   "cell_type": "code",
   "execution_count": null,
   "metadata": {},
   "outputs": [],
   "source": [
    "leftFromAndExplicit = Forall((A,B), A, domain = Booleans, conditions = [And(A,B)])"
   ]
  },
  {
   "cell_type": "code",
   "execution_count": null,
   "metadata": {},
   "outputs": [],
   "source": [
    "leftFromAnd = Forall((A, B), A, conditions=[And(A, B)])"
   ]
  },
  {
   "cell_type": "markdown",
   "metadata": {},
   "source": [
    "***Proving this theorem for use in general case"
   ]
  },
  {
   "cell_type": "code",
   "execution_count": null,
   "metadata": {},
   "outputs": [],
   "source": [
    "rightFromAndExplicit = Forall((A,B), B, domain = Booleans, conditions = [And(A,B)])"
   ]
  },
  {
   "cell_type": "code",
   "execution_count": null,
   "metadata": {},
   "outputs": [],
   "source": [
    "rightFromAnd = Forall((A, B), B, conditions=[And(A, B)])"
   ]
  },
  {
   "cell_type": "markdown",
   "metadata": {},
   "source": [
    "**Unproven**"
   ]
  },
  {
   "cell_type": "code",
   "execution_count": null,
   "metadata": {},
   "outputs": [],
   "source": [
    "eachInBool = \\\n",
    "    Forall((m, n), \n",
    "           Forall((iterA1m, B, iterC1n), inBool(B), \n",
    "                  conditions=inBool(And(iterA1m, B, iterC1n))),\n",
    "           domain=Naturals)"
   ]
  },
  {
   "cell_type": "code",
   "execution_count": null,
   "metadata": {},
   "outputs": [],
   "source": [
    "anyFromAnd = \\\n",
    "    Forall((m, n), \n",
    "           Forall((iterA1m, B, iterC1n), B, \n",
    "                  conditions=[And(iterA1m, B, iterC1n)]),\n",
    "           domain=Naturals)"
   ]
  },
  {
   "cell_type": "code",
   "execution_count": null,
   "metadata": {},
   "outputs": [],
   "source": [
    "someFromAnd = \\\n",
    "    Forall((l,m, n),\n",
    "           Forall((iterA1l,iterB1m,iterC1n), \n",
    "                  And(iterB1m), \n",
    "                  conditions=[And(iterA1l, iterB1m, iterC1n)]), \n",
    "           domain = Naturals)"
   ]
  },
  {
   "cell_type": "code",
   "execution_count": null,
   "metadata": {},
   "outputs": [],
   "source": [
    "andIfAll = Forall(m, Forall(iterA1m, \n",
    "                            And(iterA1m), \n",
    "                            conditions=iterA1m), \n",
    "                  domain=Naturals)"
   ]
  },
  {
   "cell_type": "code",
   "execution_count": null,
   "metadata": {},
   "outputs": [],
   "source": [
    "trueEval = Forall(m, Forall(iterA1m, \n",
    "                            Equals(And(iterA1m), TRUE), \n",
    "                            conditions=iterA1m),\n",
    "                  domain=Naturals)"
   ]
  },
  {
   "cell_type": "code",
   "execution_count": null,
   "metadata": {},
   "outputs": [],
   "source": [
    "falseEval = Forall((m, n), \n",
    "                   Forall((iterA1m, iterC1n), \n",
    "                          Equals(And(iterA1m, FALSE, iterC1n), FALSE),\n",
    "                          domain=Booleans),\n",
    "                   domain=Naturals)"
   ]
  },
  {
   "cell_type": "code",
   "execution_count": null,
   "metadata": {},
   "outputs": [],
   "source": [
    "binaryClosure = Forall((A, B), inBool(And(A, B)), domain=Booleans)"
   ]
  },
  {
   "cell_type": "code",
   "execution_count": null,
   "metadata": {},
   "outputs": [],
   "source": [
    "closure = Forall(m, Forall(iterA1m, \n",
    "                           inBool(And(iterA1m)), \n",
    "                           domain=Booleans),\n",
    "                 domain=Naturals)"
   ]
  },
  {
   "cell_type": "code",
   "execution_count": null,
   "metadata": {},
   "outputs": [],
   "source": [
    "demorgansLawOrToAndBin = Forall((A,B), And(A,B), conditions=[Not(Or(Not(A), Not(B)))])"
   ]
  },
  {
   "cell_type": "code",
   "execution_count": null,
   "metadata": {},
   "outputs": [],
   "source": [
    "demorgansLawOrToAnd = \\\n",
    "    Forall(m, \n",
    "           Forall(iterA1m, \n",
    "                  And(iterA1m), \n",
    "                  conditions=[Not(Or(Iter(i, Not(IndexedVar(AA,i)), \n",
    "                                          one, m)))]),\n",
    "           domain = Naturals)"
   ]
  },
  {
   "cell_type": "code",
   "execution_count": null,
   "metadata": {},
   "outputs": [],
   "source": [
    "commutation = Forall((A, B), Equals(And(A, B), And(B, A)), domain=Booleans)"
   ]
  },
  {
   "cell_type": "code",
   "execution_count": null,
   "metadata": {},
   "outputs": [],
   "source": [
    "commute = Forall((A, B), And(B, A), conditions=[And(A, B)])"
   ]
  },
  {
   "cell_type": "code",
   "execution_count": null,
   "metadata": {},
   "outputs": [],
   "source": [
    "rightwardCommutation = \\\n",
    "    Forall((l, m, n),\n",
    "           Forall((iterA1l,B,iterC1m,iterD1n),\n",
    "                  Equals(And(iterA1l, B, iterC1m, iterD1n),\n",
    "                         And(iterA1l, iterC1m, B, iterD1n)) \\\n",
    "                  .withWrappingAt(2),\n",
    "                  domain = Booleans), \n",
    "           domain = Naturals)"
   ]
  },
  {
   "cell_type": "code",
   "execution_count": null,
   "metadata": {},
   "outputs": [],
   "source": [
    "leftwardCommutation = \\\n",
    "    Forall((l, m, n),\n",
    "           Forall((iterA1l,iterB1m,C,iterD1n), \n",
    "                  Equals(And(iterA1l, iterB1m, C, iterD1n), \n",
    "                         And(iterA1l, C, iterB1m, iterD1n)) \\\n",
    "                  .withWrappingAt(2),\n",
    "                  domain=Booleans), \n",
    "           domain = Naturals)"
   ]
  },
  {
   "cell_type": "code",
   "execution_count": null,
   "metadata": {},
   "outputs": [],
   "source": [
    "rightwardCommute = \\\n",
    "    Forall((l, m, n), \n",
    "           Forall((iterA1l,B,iterC1m,iterD1n), \n",
    "                  And(iterA1l, iterC1m, B, iterD1n),\n",
    "                  conditions=[And(iterA1l, B, iterC1m, iterD1n)]),\n",
    "           domain = Naturals)"
   ]
  },
  {
   "cell_type": "code",
   "execution_count": null,
   "metadata": {},
   "outputs": [],
   "source": [
    "leftwardCommute = \\\n",
    "    Forall((l, m, n), \n",
    "           Forall((iterA1l,iterB1m,C,iterD1n), \n",
    "                  And(iterA1l, C, iterB1m,iterD1n),\n",
    "                  conditions=[And(iterA1l, iterB1m, C, iterD1n)]),\n",
    "           domain = Naturals)"
   ]
  },
  {
   "cell_type": "code",
   "execution_count": null,
   "metadata": {},
   "outputs": [],
   "source": [
    "association = \\\n",
    "    Forall((l,m,n),\n",
    "           Forall((iterA1l,iterB1m,iterC1n), \n",
    "                  Equals(And(iterA1l, iterB1m, iterC1n),\n",
    "                         And(iterA1l, And(iterB1m), iterC1n)) \\\n",
    "                  .withWrappingAt(2),\n",
    "                  domain=Booleans),\n",
    "           domain=Naturals)"
   ]
  },
  {
   "cell_type": "code",
   "execution_count": null,
   "metadata": {},
   "outputs": [],
   "source": [
    "disassociation = \\\n",
    "    Forall((l,m,n), \n",
    "           Forall((iterA1l,iterB1m,iterC1n), \n",
    "                  Equals(And(iterA1l, And(iterB1m), iterC1n),\n",
    "                         And(iterA1l, iterB1m, iterC1n)) \\\n",
    "                  .withWrappingAt(2),\n",
    "                  domain=Booleans),\n",
    "           domain=Naturals)"
   ]
  },
  {
   "cell_type": "code",
   "execution_count": null,
   "metadata": {},
   "outputs": [],
   "source": [
    "associate = \\\n",
    "    Forall((l,m,n), \n",
    "           Forall((iterA1l,iterB1m,iterC1n), \n",
    "                  And(iterA1l, And(iterB1m), iterC1n), \n",
    "                  conditions=[And(iterA1l, iterB1m, iterC1n)]),\n",
    "           domain=Naturals)"
   ]
  },
  {
   "cell_type": "code",
   "execution_count": null,
   "metadata": {},
   "outputs": [],
   "source": [
    "disassociate = \\\n",
    "    Forall((l,m,n), \n",
    "           Forall((iterA1l,iterB1m,iterC1n), \n",
    "                  And(iterA1l, iterB1m, iterC1n),\n",
    "                  conditions=[And(iterA1l, And(iterB1m), iterC1n)]),\n",
    "           domain=Naturals)"
   ]
  },
  {
   "cell_type": "code",
   "execution_count": null,
   "metadata": {},
   "outputs": [],
   "source": [
    "%end theorems"
   ]
  },
  {
   "cell_type": "code",
   "execution_count": null,
   "metadata": {},
   "outputs": [],
   "source": []
  }
 ],
 "metadata": {
  "kernelspec": {
   "display_name": "Python 3",
   "language": "python",
   "name": "python3"
  }
 },
 "nbformat": 4,
 "nbformat_minor": 0
}
