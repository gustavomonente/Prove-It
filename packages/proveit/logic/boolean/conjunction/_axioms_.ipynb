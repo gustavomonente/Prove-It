{
 "cells": [
  {
   "cell_type": "markdown",
   "metadata": {},
   "source": [
    "Axioms for context <a href=\"_context_.ipynb\" class=\"ProveItLink\">proveit.logic.boolean.conjunction</a>\n",
    "========"
   ]
  },
  {
   "cell_type": "code",
   "execution_count": 1,
   "metadata": {},
   "outputs": [],
   "source": [
    "import proveit\n",
    "# Automation is not needed when building axiom expressions:\n",
    "proveit.defaults.automation = False # This will speed things up.\n",
    "from proveit.logic import Equals, And, TRUE, FALSE, Forall, inBool\n",
    "from proveit._common_ import A, B, m, n\n",
    "from proveit.core_expr_types._common_ import A_1_to_m\n",
    "from proveit.number import Naturals"
   ]
  },
  {
   "cell_type": "code",
   "execution_count": 2,
   "metadata": {},
   "outputs": [
    {
     "name": "stdout",
     "output_type": "stream",
     "text": [
      "Defining axioms for context 'proveit.logic.boolean.conjunction'\n",
      "Subsequent end-of-cell assignments will define axioms\n",
      "%end_axioms will finalize the definitions\n"
     ]
    }
   ],
   "source": [
    "%begin axioms"
   ]
  },
  {
   "cell_type": "markdown",
   "metadata": {},
   "source": [
    "### Truth table definitions:"
   ]
  },
  {
   "cell_type": "code",
   "execution_count": 3,
   "metadata": {},
   "outputs": [
    {
     "data": {
      "text/html": [
       "<strong id=\"andTT\">andTT:</strong> <a class=\"ProveItLink\" href=\"__pv_it/7af359f32933cc085d4b6b757e372d44388b32d90/expr.ipynb\"><img src=\"data:image/png;base64,iVBORw0KGgoAAAANSUhEUgAAAHAAAAAUBAMAAACnq6Q0AAAAMFBMVEX////MzMxUVFR2dna6uroQ\n",
       "EBCqqqqIiIgiIiJmZmYyMjJERETu7u6YmJjc3NwAAACgK8IjAAAAAXRSTlMAQObYZgAAAQRJREFU\n",
       "OMtjYOC7wIAH5OGWOs3A2QEGCsiiM8BCTQxMD9DVw2QY1oF4bAUwcT64inQQwbMAi11gGd4JqBq5\n",
       "JqBIM5jj0sjxAFWjdA+qxqO4NL5gQNWoUo6qkcsBh8ZKVI08CzhQNTJPwKFxL6pG5gTmBBSNvODQ\n",
       "sVoFAiuRZdpQNXIw8C1A0cjWgMPGEFSN1xkYFFE0Mn4gTiMwTIWI04jqVDZgUHA9QNbI0oDw4yLc\n",
       "gQPSxDYBM3Cw2GiJolEa6lyERk4DHBo9IA6CZhEVEAFNAr4QNwhgavRFJDkYACcTRmSRE7hyFe8E\n",
       "BrzAHKfMPrz6sGYrWEbGB7gf4JTCX3TcwyUBAKQERsxzlZRzAAAAAElFTkSuQmCC\n",
       "\" style=\"display:inline;vertical-align:middle;\" /></a><br>"
      ],
      "text/plain": [
       "andTT: (TRUE and TRUE) = TRUE"
      ]
     },
     "execution_count": 3,
     "metadata": {},
     "output_type": "execute_result"
    }
   ],
   "source": [
    "andTT = Equals(And(TRUE, TRUE), TRUE)"
   ]
  },
  {
   "cell_type": "code",
   "execution_count": 4,
   "metadata": {},
   "outputs": [
    {
     "data": {
      "text/html": [
       "<strong id=\"andTF\">andTF:</strong> <a class=\"ProveItLink\" href=\"__pv_it/250a64332591223276383d7745689839fd348f2d0/expr.ipynb\"><img src=\"data:image/png;base64,iVBORw0KGgoAAAANSUhEUgAAAHAAAAAUBAMAAACnq6Q0AAAAMFBMVEX////MzMxUVFR2dna6uroQ\n",
       "EBCqqqqIiIgiIiJmZmYyMjJERETu7u6YmJjc3NwAAACgK8IjAAAAAXRSTlMAQObYZgAAAQhJREFU\n",
       "OMtjYOC7wIAH5OGWOs3A2QEGCmgSYiCC6QEWLWAZhnUggq0AJsgHl04HETwLsGgEy/BOQNXINQFF\n",
       "msEcl0aOB6gapXtQNR7FpfEFA6pGlXJUjVwOODRWomrkWcCBqpF5Ag6Ne1E1MicwJ6Bo5AWHjtUq\n",
       "EFiJLNOGqpGDgW8Bika2Bhw2hqBqvM7AoIiikfEDcRqBYSpEnEZUp7IBg4LrAbJGlgaEHxfhDhyQ\n",
       "JrYJmIGDxUZLFI3SUOciNHIa4NDoAXEQNIuogAhQEpjR0RHa0dEEdIMAmi6YDAdK8gcnE0ZkkRO4\n",
       "chXvBAa8wBynzD68+rBmK1hGxge4H+CUwl903MMlAQBm6kX4QLZagwAAAABJRU5ErkJggg==\n",
       "\" style=\"display:inline;vertical-align:middle;\" /></a><br>"
      ],
      "text/plain": [
       "andTF: (TRUE and FALSE) = FALSE"
      ]
     },
     "execution_count": 4,
     "metadata": {},
     "output_type": "execute_result"
    }
   ],
   "source": [
    "andTF = Equals(And(TRUE, FALSE), FALSE)"
   ]
  },
  {
   "cell_type": "code",
   "execution_count": 5,
   "metadata": {},
   "outputs": [
    {
     "data": {
      "text/html": [
       "<strong id=\"andFT\">andFT:</strong> <a class=\"ProveItLink\" href=\"__pv_it/01d3f2e9de4f0cb58655d4537f4661a46db627ce0/expr.ipynb\"><img src=\"data:image/png;base64,iVBORw0KGgoAAAANSUhEUgAAAHAAAAAUBAMAAACnq6Q0AAAAMFBMVEX///9UVFTMzMx2dna6uroQ\n",
       "EBCqqqqIiIgiIiJmZmYyMjJERETu7u6YmJjc3NwAAAC+aOQFAAAAAXRSTlMAQObYZgAAAQtJREFU\n",
       "OMtjYOC7wIAH5OGWOg0imBLQRGd0gEAjA+MDLFrUwOQ6EMFWABPkg0ungwieBVg0gmV4J6Bq5JqA\n",
       "Is1gjksjxwNUjdo9qBqP4tL4ggFVo0g5qkYuBxwaK1E18izgQNXIPAGHxr2oGpkTmBNQNPKCQ8dq\n",
       "FQisRJZpQ9XIwcC3AEUjWwMOG0NQNV5nYBBC0cj0gTiNwDBVJE4jqlPZgEHB9QBZI0sDwo8LcQcO\n",
       "SBPbBMzAwWKjJYpGbahzERo5DXBo9ADKdXS0RnR0CICiHyQETQK+EDcoYCb/UFDy50BJ/uBkwoQs\n",
       "cgJXruKdwIAXmOOU2YdXH9ZshZSRcQLuBzil8Bcd93BJAABbF0XMzCmSpgAAAABJRU5ErkJggg==\n",
       "\" style=\"display:inline;vertical-align:middle;\" /></a><br>"
      ],
      "text/plain": [
       "andFT: (FALSE and TRUE) = FALSE"
      ]
     },
     "execution_count": 5,
     "metadata": {},
     "output_type": "execute_result"
    }
   ],
   "source": [
    "andFT = Equals(And(FALSE, TRUE), FALSE)"
   ]
  },
  {
   "cell_type": "code",
   "execution_count": 6,
   "metadata": {},
   "outputs": [
    {
     "data": {
      "text/html": [
       "<strong id=\"andFF\">andFF:</strong> <a class=\"ProveItLink\" href=\"__pv_it/20b83266f27cc63098abade2298fb7aebfc6c4e40/expr.ipynb\"><img src=\"data:image/png;base64,iVBORw0KGgoAAAANSUhEUgAAAHAAAAAUBAMAAACnq6Q0AAAAMFBMVEX///9UVFTMzMx2dna6uroQ\n",
       "EBCqqqqIiIgiIiJmZmYyMjJERETu7u6YmJjc3NwAAAC+aOQFAAAAAXRSTlMAQObYZgAAAQtJREFU\n",
       "OMtjYOC7wIAH5OGWOg0imBIwJdRABOMDBhwyDOtABFsBTJAPLp0OIngWYNEIluGdgKqRawKKNIM5\n",
       "Lo0cD1A1avegajyKS+MLBlSNIuWoGrkccGisRNXIs4ADVSPzBBwa96JqZE5gTkDRyAsOHatVILAS\n",
       "WaYNVSMHA98CFI1sDThsDEHVeJ2BQQhFI9MH4jQCw1SROI2oTmUDBgXXA2SNLA0IPy7EHTggTWwT\n",
       "MAMHi42WKBq1oc5FaOQ0wKHRAyjX0dEa0dEhAIp+kBAoCczo6Ajt6GgEukEBTRdMhgMl+YOTCROy\n",
       "yAlcuYp3AgNeYI5TZh9efVizFVJGxgm4H+CUwl903MMlAQB8DUVyivSWHQAAAABJRU5ErkJggg==\n",
       "\" style=\"display:inline;vertical-align:middle;\" /></a><br>"
      ],
      "text/plain": [
       "andFF: (FALSE and FALSE) = FALSE"
      ]
     },
     "execution_count": 6,
     "metadata": {},
     "output_type": "execute_result"
    }
   ],
   "source": [
    "andFF = Equals(And(FALSE, FALSE), FALSE)"
   ]
  },
  {
   "cell_type": "markdown",
   "metadata": {},
   "source": [
    "### Conjunction is only well-defined when each input is a Boolean:"
   ]
  },
  {
   "cell_type": "code",
   "execution_count": 7,
   "metadata": {},
   "outputs": [
    {
     "data": {
      "text/html": [
       "<strong id=\"leftInBool\">leftInBool:</strong> <a class=\"ProveItLink\" href=\"__pv_it/a5f716e4cb11897a5cf0e3f5ce14bebda09ff57e0/expr.ipynb\"><img src=\"data:image/png;base64,iVBORw0KGgoAAAANSUhEUgAAANQAAAAWBAMAAABK0K+UAAAAMFBMVEX///8QEBCIiIhmZma6urrM\n",
       "zMxUVFQiIiJERETc3Nzu7u6qqqp2dnaYmJgyMjIAAAAcRTyBAAAAAXRSTlMAQObYZgAAA05JREFU\n",
       "SMetVl1IU2EYfjo7053tHN1lUMhuom6ylaBZVougRBDFwLoQ2kWBdmVFRZA5ImpasHWVEOEBIcML\n",
       "G3hRUtHCIDGLVRcFmi2qm6A/TTLD6v3eb/Oc/SgU++Dbe97v533e/29Awca15TY9USApPl4XAMkd\n",
       "YuJMZi6vXRl5eyIAtAGPBf+xAFAlUUm+Zq0nm9zd24BBoIc4LVQAqBeSTM1nrYfqscYF6D6UmERi\n",
       "BYA6Jd049FOyxoWTZ9JQdwjK7YUxNjBwpQBIWrtEUL7LkJ01Lase3iD6HpgLh08vJyOau+TMc0zx\n",
       "M6nzLDAdNC0HqscPER0BiHTxmvytnRlpZemqPKmLH1caT43UVHbBE8iFciXYfwHnNLNtVqx2dn4T\n",
       "56eAXXBzfhrScsML3ct3Yd15syj7GfAAqE5xU+VVW1OfxTGpnzYjAexp8WSS6C06A4UV6pOWO4Lw\n",
       "zFtQzrjQdYc44RN8JXDfxHWxeLcioejaRKOUuIK1aa6onONrZZ9ppKFcKt0/QB5KFPPS2DGpnQ+O\n",
       "pAVVJCTp/RQIZ4fgjwLbZQ29Gh6AomAsYYeinzJklo+AQpChtGQz6+EL887NRpSbFhSr0eSim65B\n",
       "YcosFKp38oMq0kBR1MmozYEemkeY9dqhikRP2iPS4SCrjyreaVi/LggLiusg6KBMbjFIf3X6+Xkh\n",
       "MogSTjvHxg/2tLhK8wuzmzKsMuKcFhjiipjABt55Sm3LBlUrMiWmULfpFqHWk1DouBpCH0MpqE7F\n",
       "SvenaisStbKEG1MLxinCqKFZKuLtfjceYb9dAnpjFtRuUSM1o/Nw+kkbuOLQfnFP3RcOh30EFfel\n",
       "yqAd7shvE7f/cMzdrXWZ7RbCfENAOEz0sn4kqCFqQe2nuQXaLIpMsVIag0qdRw2Sw6VVcX9GY1oc\n",
       "6miqMaUbf3v6q57EJLRuaPPQVtsc2E+XKAoL2CsciV4Tl8nv5HtdKKboGI9nttulhu5LB3UOWqTD\n",
       "uQqPZipaAzaoYhOREHp+JA6LCOudFZXnhA/oyEWiL59u/rTYLqLLQg1mv5X2TiNbWzq8ZmrKR0ns\n",
       "UKzyPI1Lja4sfjgHCnkF3PvnB9/ItjmRC1Wf7233o6DDYf3/yHkwzP8R+Be3SdbbBDyFcwAAAABJ\n",
       "RU5ErkJggg==\n",
       "\" style=\"display:inline;vertical-align:middle;\" /></a><br>"
      ],
      "text/plain": [
       "leftInBool: forall_{A, B | (A and B) in BOOLEANS} (A in BOOLEANS)"
      ]
     },
     "execution_count": 7,
     "metadata": {},
     "output_type": "execute_result"
    }
   ],
   "source": [
    "leftInBool = Forall((A, B), inBool(A), conditions=[inBool(And(A, B))]) "
   ]
  },
  {
   "cell_type": "code",
   "execution_count": 8,
   "metadata": {},
   "outputs": [
    {
     "data": {
      "text/html": [
       "<strong id=\"rightInBool\">rightInBool:</strong> <a class=\"ProveItLink\" href=\"__pv_it/d09ffe88fcc1bb17ca6ed9f936994d279a5278100/expr.ipynb\"><img src=\"data:image/png;base64,iVBORw0KGgoAAAANSUhEUgAAANUAAAAWBAMAAAClEsSqAAAAMFBMVEX///8QEBCIiIhmZma6urrM\n",
       "zMxUVFQiIiJERETc3Nzu7u6qqqp2dnaYmJgyMjIAAAAcRTyBAAAAAXRSTlMAQObYZgAAAxtJREFU\n",
       "SMetVk1oE0EU/jrJJtlkk/YgVFAkN3uxjRasxYMFQUuhNCC03hqwQvTgDx5E/CGK4LYKza1epCsF\n",
       "Kz1owFNBYWkPSi1lwYNKG42IF0ERK6VWtL6Z2cxumhBQMrDDzPtm53vve29mF2hYu1cXnaWnxAfF\n",
       "BlBFc0D87Fpn9maFmZ03/7SOAKE88JIbPjeAK0GboYkID6Ur7Vry4ZSDKAV1l6Z6rgFcr3g37AAD\n",
       "qQp7JOiwNBHMEa0FGIUGcF3iXQcF9z4p5vFbF6+5XLECcd0n08LMzEQDqPRzvL9OeWu1+Ei7Yam4\n",
       "jD7iSvQA66Z5pd4m+WqTVmMZE8qtAUOnxfyR5Wl4dJBSaNCCk8CoMMq+d3U+K7YPyqWGDyvDsZ5q\n",
       "rojDnVgrtl2W81Nevlo3t3FNqTgOixKh8Q8pcwuMFrHG946LKbjbnb1r7zroDsM85+wn5SUj5jlf\n",
       "bRhFG4iRyGEw7hKmfgsokEFsw+PSbIUxD37Az9PTTocZ+rJb4U081gh5yX6J93Z9peZyIddPlm8k\n",
       "khMWixcuSP+SCJQ8rlBaYUOOgvlZejM7A8aw4Pi4mikm9h0Vx0hwhSSXXhoUjiRNAT1Oo93yuMIe\n",
       "NlZSMCkR5LXAWHAl79OQH6+Q1LvFz5VJUP55oY6OiADQJaCBPW1ScMk1oTDNLio4lkFCFF9g7yd/\n",
       "bfDjNSwj2lcR14qsDTwRJ2MZHQJaAnb7uHoVFrEiCg7mMCW4GLrdfPGSxgeCtltenPKOso158i/A\n",
       "M9/Mz3n04+K4WHQHmCx4XEcUdgzxQhnWShgyTTNJXLa8JYREZzZP7Dddjmi2r+LuRYI7FeccAQuT\n",
       "wkOqooG8x3VcYadFHUs4mCFdZVx2yn9H+Vrwhbyjym1ajagomx19DPoG9J0+DafLmJbiWrpw3IbB\n",
       "PWMGFm3/3VunzakErkMfv6rtwPPVzmyPjytsuVjI4iYXDtBzm9DXSwe+qC3y9T9vpS2GmP/SkXKX\n",
       "Uxx1H5lvjlC+tn4r67QqV2aruFBzh2f//g/wdqvBqebqr6VHCo1tAVfWGmlg1n/t+Bf/gNvfT2GJ\n",
       "ugAAAABJRU5ErkJggg==\n",
       "\" style=\"display:inline;vertical-align:middle;\" /></a><br>"
      ],
      "text/plain": [
       "rightInBool: forall_{A, B | (A and B) in BOOLEANS} (B in BOOLEANS)"
      ]
     },
     "execution_count": 8,
     "metadata": {},
     "output_type": "execute_result"
    }
   ],
   "source": [
    "rightInBool = Forall((A, B), inBool(B), conditions=[inBool(And(A, B))]) "
   ]
  },
  {
   "cell_type": "markdown",
   "metadata": {},
   "source": [
    "### Definition of multi-operand conjunction:"
   ]
  },
  {
   "cell_type": "code",
   "execution_count": 9,
   "metadata": {},
   "outputs": [
    {
     "data": {
      "text/html": [
       "<strong id=\"emptyConjunction\">emptyConjunction:</strong> <a class=\"ProveItLink\" href=\"__pv_it/2bd23e6fb7a8eed2aab0e53bdfd74e42f04960900/expr.ipynb\"><img src=\"data:image/png;base64,iVBORw0KGgoAAAANSUhEUgAAACkAAAAUBAMAAADiqgm2AAAAMFBMVEX///8QEBCYmJiqqqpUVFTu\n",
       "7u5ERERmZmbc3NwiIiK6urp2dnbMzMwyMjKIiIgAAADRdxPqAAAAAXRSTlMAQObYZgAAANFJREFU\n",
       "GNNjeHuHAQJ0Z4GpJgYLILmLAQbALNYEBpYGKLsBLsrbwMB6Acq+DhdVB+J9EDZPZgBMdAYQB0LY\n",
       "LOseQEU5JoBMWQBmxzJMgIryFQAJ7gIwezMQQkTZFIAE0wUwewJDL1SU0wBIME8AsZkeMLAcgIgy\n",
       "LgBZ/gHE5gxg4HHAEDUHsm4gmcAFNgEoApJBtY0ngQFsyi6IoxgY2DcA2Swgs/gegEW5wL44AGRz\n",
       "gUPsAMLHkRghiRQ6SKJsSCGJEupACYaXsBh6C4shDQYGAOiVQ+bRnGebAAAAAElFTkSuQmCC\n",
       "\" style=\"display:inline;vertical-align:middle;\" /></a><br>"
      ],
      "text/plain": [
       "emptyConjunction: [and]()"
      ]
     },
     "execution_count": 9,
     "metadata": {},
     "output_type": "execute_result"
    }
   ],
   "source": [
    "emptyConjunction = And() # base case"
   ]
  },
  {
   "cell_type": "code",
   "execution_count": 10,
   "metadata": {},
   "outputs": [
    {
     "data": {
      "text/html": [
       "<strong id=\"multiConjunctionDef\">multiConjunctionDef:</strong> <a class=\"ProveItLink\" href=\"__pv_it/4c8ce53bc131c463a8d6f18b60702f63f5f6d63e0/expr.ipynb\"><img src=\"data:image/png;base64,iVBORw0KGgoAAAANSUhEUgAAAl8AAAAWBAMAAAAMWeSjAAAAMFBMVEX///8QEBCIiIhmZma6urrM\n",
       "zMxUVFQiIiJERETc3Nzu7u6qqqp2dnaYmJgyMjIAAAAcRTyBAAAAAXRSTlMAQObYZgAABbFJREFU\n",
       "WMPtWF1oHFUUPp3s7N/sbvqgRSnIYsHqS7OwmIKtOlUkIAiJQloR7NIfEEG6Wgj4RyOI3VRkVwQb\n",
       "FM2ECikRdCEPWig0TfuUFlkjSotUFqKW5sGUtI2JksZzf2bmzOyd2WYwT3rg7N4599zz3fvNvefe\n",
       "uQDhsu03iCyphtB/X06pweCzdQjs2FGzV01osucrgRHOt3MIkZNSUV5cY9Mg/59W93dXTIjXlGDp\n",
       "QV7Um5HBWgITQKYZEy4w81wIYW0cQuSaVJR5aq8FTEhSng+qugeg4xakm0qwnIicux4ZzAlcawVk\n",
       "ioQNs9aDIYS1cQiWbEEoK85bpGJW7Z8ruE09/qRKXwGI3QCYUoHBD6L8y1/RwaZ8zSjgFCcsh96Z\n",
       "eghhbRyCJVETivLl4+RF60ctpf+eN5yix59Wacs4wAWAURUYvC5mycRydLBRXzMKOMoJy06Pjx+H\n",
       "EMLaOATLcakojS6T5Ikn8kr/A/c7RY8/rUpuxH7jWHOmAixVFjNGuxkdTAZ2mlFAVCQMliqVt8II\n",
       "a+MQLFuk4py2zpDN8isoq9zTzYRd9PrTqs4S6ANsyhcUYJowPm2sRAeTgZ1mFBCVEXYQYCiUsHCH\n",
       "YPlAKsAXsJe85wtiH/FLpu4sfK8/rdr7ysxRVszy5PzdH0xmbbAkH3ja1Beig4nAbjMKiMoIe1K1\n",
       "51DCHAc1bR5rrLqz2za8KRXAhBF8QbrcOcrwuTLlQcruh/BXVXXVIL0J/w3/vGFACc5BDFI3WJKK\n",
       "BiYDO80oICojLAGa73C5e6epbXIJsx2yN5V7odf6PcBZWbxLKuj7i4cGQS/KFJOHeK8i0Ayfy66/\n",
       "suodNgbkRb/ua82ANvD801/sXgJ4bns0MBHYbUYBURlhmUaCLu7TxYYxOA2PuITZDidWVIT5rN0A\n",
       "ZywfYTEcC77PmCAsYYFeUgTCzNovp6nwV1Utsv7nQwnDn/vwrycamAjsNqOAkrBUs59EunRqHIyZ\n",
       "Dph0CbMdpg+rCPNZXwN4zL8k8QUlNjqETbjHWSpGwTl4Sn9FFTsVwSHTjiVy2O+eJWmgvuoQtmYw\n",
       "Edhp5gGMiSUJQwdwDj767BbtgV6IseVsvPB8nhDGHbBtvqLgy2dN3wJtzpf0U3Vx+JaEXZMd8p8k\n",
       "a2Icjr/dJVrFTkX6kpubvTsMT/qfyqN7TzQwEdhp5gGUSR8mcCDZXY0NL2slyHH+e6d/pIRN8JHG\n",
       "AdNC3H8M5FbyghZm3rPL56SyI1Jy2SaMp36c8pC+jYWvm/bPHrlSHH+7S7Qqh3Nh1zEsdEz6+nFO\n",
       "Hgn4Waxak4Q5YBzDRQwG44HdZh5AVE5YJy7RT7ZCp4mGE4KwjHPOOS8dAH6GLtDP+gljVrpdN0Gz\n",
       "N7AeoSdX58Co/lmQhMUZpMYiDrBelewfPovZadL2t7tEquLzi8WX3ufM+TN5j1hO6eptC75dPSwJ\n",
       "c8E4xkB7MB7YaeYFROWEZRkJ+6CP5YDdlUolb/SmGmVCGHdIz16sWoJ2ugS51ZXkJKT+bv00Iukh\n",
       "xsutOxdP2Dq1yC6pqmAs5NPIZTAC2FhAszGhGeej4G54EEZ0XGF8hsFTeUIYlw4LRnpbCOPW7I4r\n",
       "D58W4TvrEFtu/fgmhN25yC4pJfTj2yVs7WBTEAw4RQhLXUeOL2Ugw8adxS/MST9hzyAbDUZY6hgM\n",
       "W/xn2BJWYxtsNrABPo9Y8OEkPdIOtZwJ7/j6UXZJ/WWjPD8nyXz+JhJY0BmeXO/It1/CneHjaQC2\n",
       "YHt+BSj5CEsuQar6Nj+gbIa+mn4v/vTVpfVgutyBkfrqmSPF7ndVF4isT9sX82sZg9MlhSRDLxCZ\n",
       "fHRkXxSwZMD1GbMna3RJ2qJhDqPPW71X1GxJGs6T/TlWNgoJgzyv+xX15fW6or4cYkfVrppri6d3\n",
       "7SD33oZ8HemSZsYfcp//F684cybrT7z/hdH/A5UGEe+ZDj9KAAAAAElFTkSuQmCC\n",
       "\" style=\"display:inline;vertical-align:middle;\" /></a><br>"
      ],
      "text/plain": [
       "multiConjunctionDef: forall_{m in Naturals} [forall_{A_{1}, ..A_{_a}.., A_{m}, B} ((A_{1} and ..A_{_a}.. and A_{m} and B) = ((A_{1} and ..A_{_a}.. and A_{m}) and B))]"
      ]
     },
     "execution_count": 10,
     "metadata": {},
     "output_type": "execute_result"
    }
   ],
   "source": [
    "multiConjunctionDef = \\\n",
    "    Forall(m, Forall((A_1_to_m, B), \n",
    "                     Equals(And(A_1_to_m, B), And(And(A_1_to_m), B))),\n",
    "           domain=Naturals)"
   ]
  },
  {
   "cell_type": "code",
   "execution_count": 11,
   "metadata": {},
   "outputs": [
    {
     "name": "stdout",
     "output_type": "stream",
     "text": [
      "Axioms may be imported from autogenerated _axioms_.py\n"
     ]
    }
   ],
   "source": [
    "%end axioms"
   ]
  },
  {
   "cell_type": "code",
   "execution_count": null,
   "metadata": {},
   "outputs": [],
   "source": []
  }
 ],
 "metadata": {
  "kernelspec": {
   "display_name": "Python 3",
   "language": "python",
   "name": "python3"
  }
 },
 "nbformat": 4,
 "nbformat_minor": 0
}
