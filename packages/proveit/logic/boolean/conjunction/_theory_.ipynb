{
 "cells": [
  {
   "cell_type": "markdown",
   "metadata": {},
   "source": [
    "Theory of <a href=\"../../../_theory_.ipynb\" class=\"ProveItLink\">proveit</a>.<a href=\"../../_theory_.ipynb\" class=\"ProveItLink\">logic</a>.<a href=\"../_theory_.ipynb\" class=\"ProveItLink\">boolean</a>.conjunction\n",
    "========\n",
    "\n",
    "Theory for the conjunction operation `And` ($\\land$).  `And` may operate on any number of Boolean operands and only evaluates to `TRUE` if all of the operands are `TRUE`.  If any operand is `FALSE` then the `And` operation evaluates to `FALSE`.  The operation is only defined when all of the operands are Boolean; therefore, if the evaluation of the `And` operation is a Boolean, all of the operands must be Boolean values."
   ]
  },
  {
   "cell_type": "code",
   "execution_count": null,
   "metadata": {},
   "outputs": [],
   "source": [
    "import proveit\n",
    "%theory"
   ]
  },
  {
   "cell_type": "code",
   "execution_count": null,
   "metadata": {},
   "outputs": [],
   "source": []
  }
 ],
 "metadata": {
  "kernelspec": {
   "display_name": "Python 3",
   "language": "python",
   "name": "python3"
  }
 },
 "nbformat": 4,
 "nbformat_minor": 0
}
