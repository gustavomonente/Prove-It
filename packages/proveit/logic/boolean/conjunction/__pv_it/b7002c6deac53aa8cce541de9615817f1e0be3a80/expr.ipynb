{
 "cells": [
  {
   "cell_type": "markdown",
   "metadata": {},
   "source": [
    "Expression of type <a class=\"ProveItLink\" href=\"../../../../../../../doc/html/api/proveit.logic.And.html\">And</a>\n",
    "=======================\n",
    "# from context <a class=\"ProveItLink\" href=\"../../_context_.ipynb\">proveit.logic.boolean.conjunction</a>"
   ]
  },
  {
   "cell_type": "code",
   "execution_count": 1,
   "metadata": {},
   "outputs": [],
   "source": [
    "import proveit\n",
    "# Automation is not needed when building an expression:\n",
    "proveit.defaults.automation = False # This will speed things up.\n",
    "proveit.defaults.inline_pngs = False # Makes files smaller.\n",
    "# import Expression classes needed to build the expression\n",
    "from proveit import ExprRange, IndexedVar, Variable\n",
    "from proveit._common_ import A, B, C, D, l, m, n\n",
    "from proveit.logic import And, Booleans, InSet\n",
    "from proveit.number import one"
   ]
  },
  {
   "cell_type": "code",
   "execution_count": 2,
   "metadata": {},
   "outputs": [
    {
     "data": {
      "text/html": [
       "<strong id=\"expr\">expr:</strong> <a class=\"ProveItLink\" href=\"expr.ipynb\"><img src=\"expr.png\" style=\"display:inline;vertical-align:middle;\" /></a><br>"
      ],
      "text/plain": [
       "expr: (A_{1} in BOOLEANS) and ..(A_{_a} in BOOLEANS).. and (A_{l} in BOOLEANS) and (B_{1} in BOOLEANS) and ..(B_{_a} in BOOLEANS).. and (B_{m} in BOOLEANS) and (C in BOOLEANS) and (D_{1} in BOOLEANS) and ..(D_{_a} in BOOLEANS).. and (D_{n} in BOOLEANS)"
      ]
     },
     "execution_count": 2,
     "metadata": {},
     "output_type": "execute_result"
    }
   ],
   "source": [
    "# build up the expression from sub-expressions\n",
    "subExpr1 = Variable(\"_a\", latexFormat = r\"{_{-}a}\")\n",
    "expr = And(ExprRange(subExpr1, InSet(IndexedVar(A, subExpr1), Booleans), one, l), ExprRange(subExpr1, InSet(IndexedVar(B, subExpr1), Booleans), one, m), InSet(C, Booleans), ExprRange(subExpr1, InSet(IndexedVar(D, subExpr1), Booleans), one, n))"
   ]
  },
  {
   "cell_type": "code",
   "execution_count": 3,
   "metadata": {},
   "outputs": [
    {
     "name": "stdout",
     "output_type": "stream",
     "text": [
      "Passed sanity check: built 'expr' is the same as the stored Expression.\n"
     ]
    }
   ],
   "source": [
    "# check that the built expression is the same as the stored expression\n",
    "%check_expr"
   ]
  },
  {
   "cell_type": "code",
   "execution_count": 4,
   "metadata": {},
   "outputs": [
    {
     "name": "stdout",
     "output_type": "stream",
     "text": [
      "\\left(A_{1} \\in \\mathbb{B}\\right) \\land \\ldots \\land \\left(A_{l} \\in \\mathbb{B}\\right) \\land \\left(B_{1} \\in \\mathbb{B}\\right) \\land \\ldots \\land \\left(B_{m} \\in \\mathbb{B}\\right) \\land \\left(C \\in \\mathbb{B}\\right) \\land \\left(D_{1} \\in \\mathbb{B}\\right) \\land \\ldots \\land \\left(D_{n} \\in \\mathbb{B}\\right)\n"
     ]
    }
   ],
   "source": [
    "# Show the LaTeX representation of the expression for convenience if you need it.\n",
    "print(expr.latex())"
   ]
  },
  {
   "cell_type": "code",
   "execution_count": 5,
   "metadata": {},
   "outputs": [
    {
     "data": {
      "text/html": [
       "<table><tr><th>&nbsp;</th><th>core type</th><th>sub-expressions</th><th>expression</th></tr>\n",
       "<tr><td>0</td><td>Operation</td><td>operator:&nbsp;1<br>operands:&nbsp;2<br></td><td><a class=\"ProveItLink\" href=\"expr.ipynb\"><img src=\"expr.png\" style=\"display:inline;vertical-align:middle;\" /></a></td></tr>\n",
       "<tr><td>1</td><td>Literal</td><td></td><td><a class=\"ProveItLink\" href=\"../f41cc6b553210927c09f19a8a39cdf860a5585930/expr.ipynb\"><img src=\"../f41cc6b553210927c09f19a8a39cdf860a5585930/expr.png\" style=\"display:inline;vertical-align:middle;\" /></a></td></tr>\n",
       "<tr><td>2</td><td>ExprTuple</td><td>3, 4, 5, 6</td><td><a class=\"ProveItLink\" href=\"../3db392813059576a46506c31bf3d86a2630e45d30/expr.ipynb\"><img src=\"../3db392813059576a46506c31bf3d86a2630e45d30/expr.png\" style=\"display:inline;vertical-align:middle;\" /></a></td></tr>\n",
       "<tr><td>3</td><td>ExprRange</td><td>lambda_map:&nbsp;7<br>start_index:&nbsp;13<br>end_index:&nbsp;8<br></td><td><a class=\"ProveItLink\" href=\"../e86c64765db9cd7dbd56af54cf1dc3afaae9351c0/expr.ipynb\"><img src=\"../e86c64765db9cd7dbd56af54cf1dc3afaae9351c0/expr.png\" style=\"display:inline;vertical-align:middle;\" /></a></td></tr>\n",
       "<tr><td>4</td><td>ExprRange</td><td>lambda_map:&nbsp;9<br>start_index:&nbsp;13<br>end_index:&nbsp;10<br></td><td><a class=\"ProveItLink\" href=\"../4acb6d80c985c85caf1f8c5b8b29ab182283f2950/expr.ipynb\"><img src=\"../4acb6d80c985c85caf1f8c5b8b29ab182283f2950/expr.png\" style=\"display:inline;vertical-align:middle;\" /></a></td></tr>\n",
       "<tr><td>5</td><td>Operation</td><td>operator:&nbsp;21<br>operands:&nbsp;11<br></td><td><a class=\"ProveItLink\" href=\"../1ecf7187b66dab7a43f7cb1b52e5ac93589ea2190/expr.ipynb\"><img src=\"../1ecf7187b66dab7a43f7cb1b52e5ac93589ea2190/expr.png\" style=\"display:inline;vertical-align:middle;\" /></a></td></tr>\n",
       "<tr><td>6</td><td>ExprRange</td><td>lambda_map:&nbsp;12<br>start_index:&nbsp;13<br>end_index:&nbsp;14<br></td><td><a class=\"ProveItLink\" href=\"../0fb4897d31e715a5ccc9ca0d7d6b4e6464c691620/expr.ipynb\"><img src=\"../0fb4897d31e715a5ccc9ca0d7d6b4e6464c691620/expr.png\" style=\"display:inline;vertical-align:middle;\" /></a></td></tr>\n",
       "<tr><td>7</td><td>Lambda</td><td>parameter:&nbsp;30<br>body:&nbsp;15<br></td><td><a class=\"ProveItLink\" href=\"../e462da948a3a649da62f5e332c58e1cc7cc8ef480/expr.ipynb\"><img src=\"../e462da948a3a649da62f5e332c58e1cc7cc8ef480/expr.png\" style=\"display:inline;vertical-align:middle;\" /></a></td></tr>\n",
       "<tr><td>8</td><td>Variable</td><td></td><td><a class=\"ProveItLink\" href=\"../../../../../__pv_it/146a2ac733407ae00030c58af25a3e0f465a566a0/expr.ipynb\"><img src=\"../../../../../__pv_it/146a2ac733407ae00030c58af25a3e0f465a566a0/expr.png\" style=\"display:inline;vertical-align:middle;\" /></a></td></tr>\n",
       "<tr><td>9</td><td>Lambda</td><td>parameter:&nbsp;30<br>body:&nbsp;16<br></td><td><a class=\"ProveItLink\" href=\"../c337b26b7e634a9cc0f347bf56a6ba3f6bf6f41c0/expr.ipynb\"><img src=\"../c337b26b7e634a9cc0f347bf56a6ba3f6bf6f41c0/expr.png\" style=\"display:inline;vertical-align:middle;\" /></a></td></tr>\n",
       "<tr><td>10</td><td>Variable</td><td></td><td><a class=\"ProveItLink\" href=\"../../../../../__pv_it/6e8a38e9a7e2b6af352562cd77e0eb4751f142620/expr.ipynb\"><img src=\"../../../../../__pv_it/6e8a38e9a7e2b6af352562cd77e0eb4751f142620/expr.png\" style=\"display:inline;vertical-align:middle;\" /></a></td></tr>\n",
       "<tr><td>11</td><td>ExprTuple</td><td>17, 26</td><td><a class=\"ProveItLink\" href=\"../b46b32acf4cf47f37438c1a0f6be2bd65418847d0/expr.ipynb\"><img src=\"../b46b32acf4cf47f37438c1a0f6be2bd65418847d0/expr.png\" style=\"display:inline;vertical-align:middle;\" /></a></td></tr>\n",
       "<tr><td>12</td><td>Lambda</td><td>parameter:&nbsp;30<br>body:&nbsp;18<br></td><td><a class=\"ProveItLink\" href=\"../cb7809fef903ac0e57255286cb62473758e762b40/expr.ipynb\"><img src=\"../cb7809fef903ac0e57255286cb62473758e762b40/expr.png\" style=\"display:inline;vertical-align:middle;\" /></a></td></tr>\n",
       "<tr><td>13</td><td>Literal</td><td></td><td><a class=\"ProveItLink\" href=\"../../../../../number/numeral/__pv_it/f086f8c372bd40a2458306ddfdbb29f3dc6f63030/expr.ipynb\"><img src=\"../../../../../number/numeral/__pv_it/f086f8c372bd40a2458306ddfdbb29f3dc6f63030/expr.png\" style=\"display:inline;vertical-align:middle;\" /></a></td></tr>\n",
       "<tr><td>14</td><td>Variable</td><td></td><td><a class=\"ProveItLink\" href=\"../../../../../__pv_it/0c1c4cb515e0f4344b1ac06650f349123e526deb0/expr.ipynb\"><img src=\"../../../../../__pv_it/0c1c4cb515e0f4344b1ac06650f349123e526deb0/expr.png\" style=\"display:inline;vertical-align:middle;\" /></a></td></tr>\n",
       "<tr><td>15</td><td>Operation</td><td>operator:&nbsp;21<br>operands:&nbsp;19<br></td><td><a class=\"ProveItLink\" href=\"../f777912892d36c4da6d4f3cf378a718568ef0dcc0/expr.ipynb\"><img src=\"../f777912892d36c4da6d4f3cf378a718568ef0dcc0/expr.png\" style=\"display:inline;vertical-align:middle;\" /></a></td></tr>\n",
       "<tr><td>16</td><td>Operation</td><td>operator:&nbsp;21<br>operands:&nbsp;20<br></td><td><a class=\"ProveItLink\" href=\"../3b631771a57ed9bb9d2ad4805c80e6dc83e52c2c0/expr.ipynb\"><img src=\"../3b631771a57ed9bb9d2ad4805c80e6dc83e52c2c0/expr.png\" style=\"display:inline;vertical-align:middle;\" /></a></td></tr>\n",
       "<tr><td>17</td><td>Variable</td><td></td><td><a class=\"ProveItLink\" href=\"../../../../../__pv_it/dcb5a3e430485237dfe486162b026a4affb149300/expr.ipynb\"><img src=\"../../../../../__pv_it/dcb5a3e430485237dfe486162b026a4affb149300/expr.png\" style=\"display:inline;vertical-align:middle;\" /></a></td></tr>\n",
       "<tr><td>18</td><td>Operation</td><td>operator:&nbsp;21<br>operands:&nbsp;22<br></td><td><a class=\"ProveItLink\" href=\"../4d9949d9a7d70af05589d7266ff45b54239a31970/expr.ipynb\"><img src=\"../4d9949d9a7d70af05589d7266ff45b54239a31970/expr.png\" style=\"display:inline;vertical-align:middle;\" /></a></td></tr>\n",
       "<tr><td>19</td><td>ExprTuple</td><td>23, 26</td><td><a class=\"ProveItLink\" href=\"../3cbf41968ea3876165a26f7dcceb2975b91a45470/expr.ipynb\"><img src=\"../3cbf41968ea3876165a26f7dcceb2975b91a45470/expr.png\" style=\"display:inline;vertical-align:middle;\" /></a></td></tr>\n",
       "<tr><td>20</td><td>ExprTuple</td><td>24, 26</td><td><a class=\"ProveItLink\" href=\"../60a91123f4f74fc89bd9aaf3f24831cd483ea57e0/expr.ipynb\"><img src=\"../60a91123f4f74fc89bd9aaf3f24831cd483ea57e0/expr.png\" style=\"display:inline;vertical-align:middle;\" /></a></td></tr>\n",
       "<tr><td>21</td><td>Literal</td><td></td><td><a class=\"ProveItLink\" href=\"../../../../set_theory/membership/__pv_it/7776fc89cb67d0b5b1ec2c0c8e08da5587921ccf0/expr.ipynb\"><img src=\"../../../../set_theory/membership/__pv_it/7776fc89cb67d0b5b1ec2c0c8e08da5587921ccf0/expr.png\" style=\"display:inline;vertical-align:middle;\" /></a></td></tr>\n",
       "<tr><td>22</td><td>ExprTuple</td><td>25, 26</td><td><a class=\"ProveItLink\" href=\"../c036141162ab15ac8e3c60422147283a82c447030/expr.ipynb\"><img src=\"../c036141162ab15ac8e3c60422147283a82c447030/expr.png\" style=\"display:inline;vertical-align:middle;\" /></a></td></tr>\n",
       "<tr><td>23</td><td>IndexedVar</td><td>variable:&nbsp;27<br>index:&nbsp;30<br></td><td><a class=\"ProveItLink\" href=\"../a433d6021a2b0d85d326303b1d692b18969c0dc30/expr.ipynb\"><img src=\"../a433d6021a2b0d85d326303b1d692b18969c0dc30/expr.png\" style=\"display:inline;vertical-align:middle;\" /></a></td></tr>\n",
       "<tr><td>24</td><td>IndexedVar</td><td>variable:&nbsp;28<br>index:&nbsp;30<br></td><td><a class=\"ProveItLink\" href=\"../dd60a21b14ad80238615b0d2b74a678a11574e790/expr.ipynb\"><img src=\"../dd60a21b14ad80238615b0d2b74a678a11574e790/expr.png\" style=\"display:inline;vertical-align:middle;\" /></a></td></tr>\n",
       "<tr><td>25</td><td>IndexedVar</td><td>variable:&nbsp;29<br>index:&nbsp;30<br></td><td><a class=\"ProveItLink\" href=\"../4d7493ad3ae7a58d4af1deba676835c9b640a4da0/expr.ipynb\"><img src=\"../4d7493ad3ae7a58d4af1deba676835c9b640a4da0/expr.png\" style=\"display:inline;vertical-align:middle;\" /></a></td></tr>\n",
       "<tr><td>26</td><td>Literal</td><td></td><td><a class=\"ProveItLink\" href=\"../../../__pv_it/a3b387936f605fef1b535be3e1116cca8bbfc91b0/expr.ipynb\"><img src=\"../../../__pv_it/a3b387936f605fef1b535be3e1116cca8bbfc91b0/expr.png\" style=\"display:inline;vertical-align:middle;\" /></a></td></tr>\n",
       "<tr><td>27</td><td>Variable</td><td></td><td><a class=\"ProveItLink\" href=\"../../../../../__pv_it/d3792d0d8642fdf1cd2a3a9b32c673ee13653de00/expr.ipynb\"><img src=\"../../../../../__pv_it/d3792d0d8642fdf1cd2a3a9b32c673ee13653de00/expr.png\" style=\"display:inline;vertical-align:middle;\" /></a></td></tr>\n",
       "<tr><td>28</td><td>Variable</td><td></td><td><a class=\"ProveItLink\" href=\"../../../../../__pv_it/4d98b438710c5ada9ffa4646bb123a7d0e69ec000/expr.ipynb\"><img src=\"../../../../../__pv_it/4d98b438710c5ada9ffa4646bb123a7d0e69ec000/expr.png\" style=\"display:inline;vertical-align:middle;\" /></a></td></tr>\n",
       "<tr><td>29</td><td>Variable</td><td></td><td><a class=\"ProveItLink\" href=\"../../../../../__pv_it/8f4534f2d0cd8231a9b8a1771e8be76aa52adea40/expr.ipynb\"><img src=\"../../../../../__pv_it/8f4534f2d0cd8231a9b8a1771e8be76aa52adea40/expr.png\" style=\"display:inline;vertical-align:middle;\" /></a></td></tr>\n",
       "<tr><td>30</td><td>Variable</td><td></td><td><a class=\"ProveItLink\" href=\"../1e653f789234b245ee7fea7caad998c139d617410/expr.ipynb\"><img src=\"../1e653f789234b245ee7fea7caad998c139d617410/expr.png\" style=\"display:inline;vertical-align:middle;\" /></a></td></tr>\n",
       "</table>\n"
      ],
      "text/plain": [
       "0. (A_{1} in BOOLEANS) and ..(A_{_a} in BOOLEANS).. and (A_{l} in BOOLEANS) and (B_{1} in BOOLEANS) and ..(B_{_a} in BOOLEANS).. and (B_{m} in BOOLEANS) and (C in BOOLEANS) and (D_{1} in BOOLEANS) and ..(D_{_a} in BOOLEANS).. and (D_{n} in BOOLEANS)\n",
       "   core type: Operation\n",
       "   operator: 1\n",
       "   operands: 2\n",
       "1. and\n",
       "   core type: Literal\n",
       "   sub-expressions: \n",
       "2. (A_{1} in BOOLEANS, ..A_{_a} in BOOLEANS.., A_{l} in BOOLEANS, B_{1} in BOOLEANS, ..B_{_a} in BOOLEANS.., B_{m} in BOOLEANS, C in BOOLEANS, D_{1} in BOOLEANS, ..D_{_a} in BOOLEANS.., D_{n} in BOOLEANS)\n",
       "   core type: ExprTuple\n",
       "   sub-expressions: 3, 4, 5, 6\n",
       "3. (A_{1} in BOOLEANS), ..(A_{_a} in BOOLEANS).., (A_{l} in BOOLEANS)\n",
       "   core type: ExprRange\n",
       "   lambda_map: 7\n",
       "   start_index: 13\n",
       "   end_index: 8\n",
       "4. (B_{1} in BOOLEANS), ..(B_{_a} in BOOLEANS).., (B_{m} in BOOLEANS)\n",
       "   core type: ExprRange\n",
       "   lambda_map: 9\n",
       "   start_index: 13\n",
       "   end_index: 10\n",
       "5. C in BOOLEANS\n",
       "   core type: Operation\n",
       "   operator: 21\n",
       "   operands: 11\n",
       "6. (D_{1} in BOOLEANS), ..(D_{_a} in BOOLEANS).., (D_{n} in BOOLEANS)\n",
       "   core type: ExprRange\n",
       "   lambda_map: 12\n",
       "   start_index: 13\n",
       "   end_index: 14\n",
       "7. _a -> (A_{_a} in BOOLEANS)\n",
       "   core type: Lambda\n",
       "   parameter: 30\n",
       "   body: 15\n",
       "8. l\n",
       "   core type: Variable\n",
       "   sub-expressions: \n",
       "9. _a -> (B_{_a} in BOOLEANS)\n",
       "   core type: Lambda\n",
       "   parameter: 30\n",
       "   body: 16\n",
       "10. m\n",
       "    core type: Variable\n",
       "    sub-expressions: \n",
       "11. (C, BOOLEANS)\n",
       "    core type: ExprTuple\n",
       "    sub-expressions: 17, 26\n",
       "12. _a -> (D_{_a} in BOOLEANS)\n",
       "    core type: Lambda\n",
       "    parameter: 30\n",
       "    body: 18\n",
       "13. 1\n",
       "    core type: Literal\n",
       "    sub-expressions: \n",
       "14. n\n",
       "    core type: Variable\n",
       "    sub-expressions: \n",
       "15. A_{_a} in BOOLEANS\n",
       "    core type: Operation\n",
       "    operator: 21\n",
       "    operands: 19\n",
       "16. B_{_a} in BOOLEANS\n",
       "    core type: Operation\n",
       "    operator: 21\n",
       "    operands: 20\n",
       "17. C\n",
       "    core type: Variable\n",
       "    sub-expressions: \n",
       "18. D_{_a} in BOOLEANS\n",
       "    core type: Operation\n",
       "    operator: 21\n",
       "    operands: 22\n",
       "19. (A_{_a}, BOOLEANS)\n",
       "    core type: ExprTuple\n",
       "    sub-expressions: 23, 26\n",
       "20. (B_{_a}, BOOLEANS)\n",
       "    core type: ExprTuple\n",
       "    sub-expressions: 24, 26\n",
       "21. in\n",
       "    core type: Literal\n",
       "    sub-expressions: \n",
       "22. (D_{_a}, BOOLEANS)\n",
       "    core type: ExprTuple\n",
       "    sub-expressions: 25, 26\n",
       "23. A_{_a}\n",
       "    core type: IndexedVar\n",
       "variable: 27\n",
       "index: 30\n",
       "24. B_{_a}\n",
       "    core type: IndexedVar\n",
       "variable: 28\n",
       "index: 30\n",
       "25. D_{_a}\n",
       "    core type: IndexedVar\n",
       "variable: 29\n",
       "index: 30\n",
       "26. BOOLEANS\n",
       "    core type: Literal\n",
       "    sub-expressions: \n",
       "27. A\n",
       "    core type: Variable\n",
       "    sub-expressions: \n",
       "28. B\n",
       "    core type: Variable\n",
       "    sub-expressions: \n",
       "29. D\n",
       "    core type: Variable\n",
       "    sub-expressions: \n",
       "30. _a\n",
       "    core type: Variable\n",
       "    sub-expressions: "
      ]
     },
     "execution_count": 5,
     "metadata": {},
     "output_type": "execute_result"
    }
   ],
   "source": [
    "# display the expression information\n",
    "expr.exprInfo()"
   ]
  },
  {
   "cell_type": "code",
   "execution_count": null,
   "metadata": {},
   "outputs": [],
   "source": []
  }
 ],
 "metadata": {
  "kernelspec": {
   "display_name": "Python 3",
   "language": "python",
   "name": "python3"
  },
  "language_info": {
   "codemirror_mode": {
    "name": "ipython",
    "version": 3
   },
   "file_extension": ".py",
   "mimetype": "text/x-python",
   "name": "python",
   "nbconvert_exporter": "python",
   "pygments_lexer": "ipython3",
   "version": "3.7.3"
  }
 },
 "nbformat": 4,
 "nbformat_minor": 1
}
