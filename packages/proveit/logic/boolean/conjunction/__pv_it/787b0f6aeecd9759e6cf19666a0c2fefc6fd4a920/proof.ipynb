{
 "cells": [
  {
   "cell_type": "markdown",
   "metadata": {},
   "source": [
    "Show the Proof\n",
    "========"
   ]
  },
  {
   "cell_type": "code",
   "execution_count": 1,
   "metadata": {},
   "outputs": [
    {
     "data": {
      "text/html": [
       "<table><tr><th>&nbsp;</th><th>step type</th><th>requirements</th><th>statement</th></tr>\n",
       "<tr><td><a name=\"proveit.logic.boolean.conjunction.787b0f6aeecd9759e6cf19666a0c2fefc6fd4a920_step0\">0</a></td><td>instantiation</td><td><a href=\"#proveit.logic.boolean.conjunction.787b0f6aeecd9759e6cf19666a0c2fefc6fd4a920_step1\">1</a>, <a href=\"#proveit.logic.boolean.conjunction.787b0f6aeecd9759e6cf19666a0c2fefc6fd4a920_step2\">2</a>, <a href=\"#proveit.logic.boolean.conjunction.787b0f6aeecd9759e6cf19666a0c2fefc6fd4a920_step3\">3</a></td><td><span style=\"font-size:20px;\"><a class=\"ProveItLink\" href=\"../7a96ead17e54cde96c2fd834dc5be256e7999db50/expr.ipynb\"><img src=\"../7a96ead17e54cde96c2fd834dc5be256e7999db50/expr.png\" style=\"display:inline;vertical-align:middle;\" /></a> <a class=\"ProveItLink\" href=\"proof.ipynb\" style=\"text-decoration: none\">&#x22A2;&nbsp;</a><a class=\"ProveItLink\" href=\"../8776f6509d0e01db99c8c290ab1853b3db3d048c0/expr.ipynb\"><img src=\"../8776f6509d0e01db99c8c290ab1853b3db3d048c0/expr.png\" style=\"display:inline;vertical-align:middle;\" /></a></span></td></tr>\n",
       "<tr><td>&nbsp;</td><td colspan=4 style=\"text-align:left\"><span style=\"font-size:20px;\"><a class=\"ProveItLink\" href=\"../6adf35e534b0f74f25bdd03c03dfd88a84b3ace50/expr.ipynb\"><img src=\"../6adf35e534b0f74f25bdd03c03dfd88a84b3ace50/expr.png\" style=\"display:inline;vertical-align:middle;\" /></a> : <a class=\"ProveItLink\" href=\"../7f5851d30d9071ac5add92b1415dd8c1d59a5c620/expr.ipynb\"><img src=\"../7f5851d30d9071ac5add92b1415dd8c1d59a5c620/expr.png\" style=\"display:inline;vertical-align:middle;\" /></a>, <a class=\"ProveItLink\" href=\"../../../../../__pv_it/72df168d2bfb4e0140af90912ebf83b13772060b0/expr.ipynb\"><img src=\"../../../../../__pv_it/72df168d2bfb4e0140af90912ebf83b13772060b0/expr.png\" style=\"display:inline;vertical-align:middle;\" /></a> : <a class=\"ProveItLink\" href=\"../../../../../__pv_it/d3792d0d8642fdf1cd2a3a9b32c673ee13653de00/expr.ipynb\"><img src=\"../../../../../__pv_it/d3792d0d8642fdf1cd2a3a9b32c673ee13653de00/expr.png\" style=\"display:inline;vertical-align:middle;\" /></a></span></td></tr><tr><td><a name=\"proveit.logic.boolean.conjunction.787b0f6aeecd9759e6cf19666a0c2fefc6fd4a920_step1\">1</a></td><td>theorem</td><td></td><td><span style=\"font-size:20px;\"> <a class=\"ProveItLink\" href=\"../../../../equality/_proofs_/substituteFalsehood.ipynb\" style=\"text-decoration: none\">&#x22A2;&nbsp;</a><a class=\"ProveItLink\" href=\"../c962aaa85c916363ef8029fcad203fef73ec8afe0/expr.ipynb\"><img src=\"../c962aaa85c916363ef8029fcad203fef73ec8afe0/expr.png\" style=\"display:inline;vertical-align:middle;\" /></a></span></td></tr>\n",
       "<tr><td>&nbsp;</td><td colspan=4 style-\"text-align:left\"><a class=\"ProveItLink\" href=\"../../../../equality/_proofs_/substituteFalsehood.ipynb\">proveit.logic.equality.substituteFalsehood</a></td></tr><tr><td><a name=\"proveit.logic.boolean.conjunction.787b0f6aeecd9759e6cf19666a0c2fefc6fd4a920_step2\">2</a></td><td>theorem</td><td></td><td><span style=\"font-size:20px;\"> <a class=\"ProveItLink\" href=\"../../../_proofs_/falseInBool.ipynb\" style=\"text-decoration: none\">&#x22A2;&nbsp;</a><a class=\"ProveItLink\" href=\"../2bb7f56da42f89a87e1f899e78805ed2ca5c4d690/expr.ipynb\"><img src=\"../2bb7f56da42f89a87e1f899e78805ed2ca5c4d690/expr.png\" style=\"display:inline;vertical-align:middle;\" /></a></span></td></tr>\n",
       "<tr><td>&nbsp;</td><td colspan=4 style-\"text-align:left\"><a class=\"ProveItLink\" href=\"../../../_proofs_/falseInBool.ipynb\">proveit.logic.boolean.falseInBool</a></td></tr><tr><td><a name=\"proveit.logic.boolean.conjunction.787b0f6aeecd9759e6cf19666a0c2fefc6fd4a920_step3\">3</a></td><td>assumption</td><td></td><td><span style=\"font-size:20px;\"><a class=\"ProveItLink\" href=\"../7a96ead17e54cde96c2fd834dc5be256e7999db50/expr.ipynb\"><img src=\"../7a96ead17e54cde96c2fd834dc5be256e7999db50/expr.png\" style=\"display:inline;vertical-align:middle;\" /></a> <a class=\"ProveItLink\" href=\"../21c0abe84b58cafe3e37aff9ff0267970c1634470/proof.ipynb\" style=\"text-decoration: none\">&#x22A2;&nbsp;</a><a class=\"ProveItLink\" href=\"../98d4bc94e268eb5bd1dd8957b0f9355a80140e9b0/expr.ipynb\"><img src=\"../98d4bc94e268eb5bd1dd8957b0f9355a80140e9b0/expr.png\" style=\"display:inline;vertical-align:middle;\" /></a></span></td></tr>\n",
       "</table>"
      ],
      "text/plain": [
       "<proveit._core_.proof._ShowProof at 0x7f5b999529b0>"
      ]
     },
     "execution_count": 1,
     "metadata": {},
     "output_type": "execute_result"
    }
   ],
   "source": [
    "import proveit\n",
    "# Automation is not needed when only showing a stored proof:\n",
    "proveit.defaults.automation = False # This will speed things up.\n",
    "proveit.defaults.inline_pngs = False # Makes files smaller.\n",
    "%show_proof"
   ]
  },
  {
   "cell_type": "code",
   "execution_count": null,
   "metadata": {},
   "outputs": [],
   "source": []
  }
 ],
 "metadata": {
  "kernelspec": {
   "display_name": "Python 3",
   "language": "python",
   "name": "python3"
  },
  "language_info": {
   "codemirror_mode": {
    "name": "ipython",
    "version": 3
   },
   "file_extension": ".py",
   "mimetype": "text/x-python",
   "name": "python",
   "nbconvert_exporter": "python",
   "pygments_lexer": "ipython3",
   "version": "3.7.3"
  }
 },
 "nbformat": 4,
 "nbformat_minor": 1
}
