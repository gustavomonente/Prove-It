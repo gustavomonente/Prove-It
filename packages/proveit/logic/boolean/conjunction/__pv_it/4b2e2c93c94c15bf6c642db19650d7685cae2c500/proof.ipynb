{
 "cells": [
  {
   "cell_type": "markdown",
   "metadata": {},
   "source": [
    "Show the Proof\n",
    "========"
   ]
  },
  {
   "cell_type": "code",
   "execution_count": 1,
   "metadata": {},
   "outputs": [
    {
     "data": {
      "text/html": [
       "<table><tr><th>&nbsp;</th><th>step type</th><th>requirements</th><th>statement</th></tr>\n",
       "<tr><td><a name=\"proveit.logic.boolean.conjunction.4b2e2c93c94c15bf6c642db19650d7685cae2c500_step0\">0</a></td><td>instantiation</td><td><a href=\"#proveit.logic.boolean.conjunction.4b2e2c93c94c15bf6c642db19650d7685cae2c500_step1\">1</a>, <a href=\"#proveit.logic.boolean.conjunction.4b2e2c93c94c15bf6c642db19650d7685cae2c500_step2\">2</a></td><td><span style=\"font-size:20px;\"> <a class=\"ProveItLink\" href=\"proof.ipynb\" style=\"text-decoration: none\">&#x22A2;&nbsp;</a><a class=\"ProveItLink\" href=\"../4ce31e0ee8105eb88fec277a44173a31c578e03a0/expr.ipynb\"><img src=\"../4ce31e0ee8105eb88fec277a44173a31c578e03a0/expr.png\" style=\"display:inline;vertical-align:middle;\" /></a></span></td></tr>\n",
       "<tr><td>&nbsp;</td><td colspan=4 style=\"text-align:left\"><span style=\"font-size:20px;\"><a class=\"ProveItLink\" href=\"../../../../../__pv_it/72df168d2bfb4e0140af90912ebf83b13772060b0/expr.ipynb\"><img src=\"../../../../../__pv_it/72df168d2bfb4e0140af90912ebf83b13772060b0/expr.png\" style=\"display:inline;vertical-align:middle;\" /></a> : <a class=\"ProveItLink\" href=\"../1bb2ef4d829fd688b5117a2156581a88d698d0df0/expr.ipynb\"><img src=\"../1bb2ef4d829fd688b5117a2156581a88d698d0df0/expr.png\" style=\"display:inline;vertical-align:middle;\" /></a>, <a class=\"ProveItLink\" href=\"../../../../../__pv_it/c6e291955561f22a0e6708fd793ea93f1c7dbb5d0/expr.ipynb\"><img src=\"../../../../../__pv_it/c6e291955561f22a0e6708fd793ea93f1c7dbb5d0/expr.png\" style=\"display:inline;vertical-align:middle;\" /></a> : <a class=\"ProveItLink\" href=\"../d6f743c94b09cb356296f3fa568c7be8ba4128550/expr.ipynb\"><img src=\"../d6f743c94b09cb356296f3fa568c7be8ba4128550/expr.png\" style=\"display:inline;vertical-align:middle;\" /></a></span></td></tr><tr><td><a name=\"proveit.logic.boolean.conjunction.4b2e2c93c94c15bf6c642db19650d7685cae2c500_step1\">1</a></td><td><i>reference</i></td><td><a href=\"#proveit.logic.boolean.conjunction.4b2e2c93c94c15bf6c642db19650d7685cae2c500_step6\">6</a></td><td><span style=\"font-size:20px;\"> <a class=\"ProveItLink\" href=\"../../../../equality/_proofs_/equalsReversal.ipynb\" style=\"text-decoration: none\">&#x22A2;&nbsp;</a><a class=\"ProveItLink\" href=\"../3b4519bd8be8d47d6a3831e66ec9e2b244a18b1b0/expr.ipynb\"><img src=\"../3b4519bd8be8d47d6a3831e66ec9e2b244a18b1b0/expr.png\" style=\"display:inline;vertical-align:middle;\" /></a></span></td></tr>\n",
       "<tr><td><a name=\"proveit.logic.boolean.conjunction.4b2e2c93c94c15bf6c642db19650d7685cae2c500_step2\">2</a></td><td>instantiation</td><td><a href=\"#proveit.logic.boolean.conjunction.4b2e2c93c94c15bf6c642db19650d7685cae2c500_step3\">3</a>, <a href=\"#proveit.logic.boolean.conjunction.4b2e2c93c94c15bf6c642db19650d7685cae2c500_step4\">4</a>, <a href=\"#proveit.logic.boolean.conjunction.4b2e2c93c94c15bf6c642db19650d7685cae2c500_step5\">5</a></td><td><span style=\"font-size:20px;\"> <a class=\"ProveItLink\" href=\"../58ac79565036765e35a79d54d82c4a2a3b74207f0/proof.ipynb\" style=\"text-decoration: none\">&#x22A2;&nbsp;</a><a class=\"ProveItLink\" href=\"../0aec02e30a44e926727c2facf3d5d0734485be4c0/expr.ipynb\"><img src=\"../0aec02e30a44e926727c2facf3d5d0734485be4c0/expr.png\" style=\"display:inline;vertical-align:middle;\" /></a></span></td></tr>\n",
       "<tr><td>&nbsp;</td><td colspan=4 style=\"text-align:left\"><span style=\"font-size:20px;\"><a class=\"ProveItLink\" href=\"../../../../../__pv_it/72df168d2bfb4e0140af90912ebf83b13772060b0/expr.ipynb\"><img src=\"../../../../../__pv_it/72df168d2bfb4e0140af90912ebf83b13772060b0/expr.png\" style=\"display:inline;vertical-align:middle;\" /></a> : <a class=\"ProveItLink\" href=\"../1bb2ef4d829fd688b5117a2156581a88d698d0df0/expr.ipynb\"><img src=\"../1bb2ef4d829fd688b5117a2156581a88d698d0df0/expr.png\" style=\"display:inline;vertical-align:middle;\" /></a>, <a class=\"ProveItLink\" href=\"../../../../../__pv_it/c6e291955561f22a0e6708fd793ea93f1c7dbb5d0/expr.ipynb\"><img src=\"../../../../../__pv_it/c6e291955561f22a0e6708fd793ea93f1c7dbb5d0/expr.png\" style=\"display:inline;vertical-align:middle;\" /></a> : <a class=\"ProveItLink\" href=\"../../../__pv_it/83a1ddf0f64531c80e7f41ea6b904214668818b30/expr.ipynb\"><img src=\"../../../__pv_it/83a1ddf0f64531c80e7f41ea6b904214668818b30/expr.png\" style=\"display:inline;vertical-align:middle;\" /></a>, <a class=\"ProveItLink\" href=\"../../../../../__pv_it/0d889e00aed425c3081fbda3ac9194ae911895960/expr.ipynb\"><img src=\"../../../../../__pv_it/0d889e00aed425c3081fbda3ac9194ae911895960/expr.png\" style=\"display:inline;vertical-align:middle;\" /></a> : <a class=\"ProveItLink\" href=\"../d6f743c94b09cb356296f3fa568c7be8ba4128550/expr.ipynb\"><img src=\"../d6f743c94b09cb356296f3fa568c7be8ba4128550/expr.png\" style=\"display:inline;vertical-align:middle;\" /></a></span></td></tr><tr><td><a name=\"proveit.logic.boolean.conjunction.4b2e2c93c94c15bf6c642db19650d7685cae2c500_step3\">3</a></td><td>axiom</td><td></td><td><span style=\"font-size:20px;\"> <a class=\"ProveItLink\" href=\"../../../../equality/_axioms_.ipynb#equalsTransitivity\" style=\"text-decoration: none\">&#x22A2;&nbsp;</a><a class=\"ProveItLink\" href=\"../a4ef47a7c57d837cad4d462d8c883d5a78cc42ea0/expr.ipynb\"><img src=\"../a4ef47a7c57d837cad4d462d8c883d5a78cc42ea0/expr.png\" style=\"display:inline;vertical-align:middle;\" /></a></span></td></tr>\n",
       "<tr><td>&nbsp;</td><td colspan=4 style-\"text-align:left\"><a class=\"ProveItLink\" href=\"../../../../equality/_axioms_.ipynb#equalsTransitivity\">proveit.logic.equality.equalsTransitivity</a></td></tr><tr><td><a name=\"proveit.logic.boolean.conjunction.4b2e2c93c94c15bf6c642db19650d7685cae2c500_step4\">4</a></td><td>axiom</td><td></td><td><span style=\"font-size:20px;\"> <a class=\"ProveItLink\" href=\"../../_axioms_.ipynb#andTF\" style=\"text-decoration: none\">&#x22A2;&nbsp;</a><a class=\"ProveItLink\" href=\"../250a64332591223276383d7745689839fd348f2d0/expr.ipynb\"><img src=\"../250a64332591223276383d7745689839fd348f2d0/expr.png\" style=\"display:inline;vertical-align:middle;\" /></a></span></td></tr>\n",
       "<tr><td>&nbsp;</td><td colspan=4 style-\"text-align:left\"><a class=\"ProveItLink\" href=\"../../_axioms_.ipynb#andTF\">proveit.logic.boolean.conjunction.andTF</a></td></tr><tr><td><a name=\"proveit.logic.boolean.conjunction.4b2e2c93c94c15bf6c642db19650d7685cae2c500_step5\">5</a></td><td>instantiation</td><td><a href=\"#proveit.logic.boolean.conjunction.4b2e2c93c94c15bf6c642db19650d7685cae2c500_step6\">6</a>, <a href=\"#proveit.logic.boolean.conjunction.4b2e2c93c94c15bf6c642db19650d7685cae2c500_step7\">7</a></td><td><span style=\"font-size:20px;\"> <a class=\"ProveItLink\" href=\"../366f72fcb8aee6d226b0117ffc358bc62188d4200/proof.ipynb\" style=\"text-decoration: none\">&#x22A2;&nbsp;</a><a class=\"ProveItLink\" href=\"../4517a14eddac478f9da2d0f84325b557c4495fae0/expr.ipynb\"><img src=\"../4517a14eddac478f9da2d0f84325b557c4495fae0/expr.png\" style=\"display:inline;vertical-align:middle;\" /></a></span></td></tr>\n",
       "<tr><td>&nbsp;</td><td colspan=4 style=\"text-align:left\"><span style=\"font-size:20px;\"><a class=\"ProveItLink\" href=\"../../../../../__pv_it/72df168d2bfb4e0140af90912ebf83b13772060b0/expr.ipynb\"><img src=\"../../../../../__pv_it/72df168d2bfb4e0140af90912ebf83b13772060b0/expr.png\" style=\"display:inline;vertical-align:middle;\" /></a> : <a class=\"ProveItLink\" href=\"../d6f743c94b09cb356296f3fa568c7be8ba4128550/expr.ipynb\"><img src=\"../d6f743c94b09cb356296f3fa568c7be8ba4128550/expr.png\" style=\"display:inline;vertical-align:middle;\" /></a>, <a class=\"ProveItLink\" href=\"../../../../../__pv_it/c6e291955561f22a0e6708fd793ea93f1c7dbb5d0/expr.ipynb\"><img src=\"../../../../../__pv_it/c6e291955561f22a0e6708fd793ea93f1c7dbb5d0/expr.png\" style=\"display:inline;vertical-align:middle;\" /></a> : <a class=\"ProveItLink\" href=\"../../../__pv_it/83a1ddf0f64531c80e7f41ea6b904214668818b30/expr.ipynb\"><img src=\"../../../__pv_it/83a1ddf0f64531c80e7f41ea6b904214668818b30/expr.png\" style=\"display:inline;vertical-align:middle;\" /></a></span></td></tr><tr><td><a name=\"proveit.logic.boolean.conjunction.4b2e2c93c94c15bf6c642db19650d7685cae2c500_step6\">6</a></td><td>theorem</td><td></td><td><span style=\"font-size:20px;\"> <a class=\"ProveItLink\" href=\"../../../../equality/_proofs_/equalsReversal.ipynb\" style=\"text-decoration: none\">&#x22A2;&nbsp;</a><a class=\"ProveItLink\" href=\"../3b4519bd8be8d47d6a3831e66ec9e2b244a18b1b0/expr.ipynb\"><img src=\"../3b4519bd8be8d47d6a3831e66ec9e2b244a18b1b0/expr.png\" style=\"display:inline;vertical-align:middle;\" /></a></span></td></tr>\n",
       "<tr><td>&nbsp;</td><td colspan=4 style-\"text-align:left\"><a class=\"ProveItLink\" href=\"../../../../equality/_proofs_/equalsReversal.ipynb\">proveit.logic.equality.equalsReversal</a></td></tr><tr><td><a name=\"proveit.logic.boolean.conjunction.4b2e2c93c94c15bf6c642db19650d7685cae2c500_step7\">7</a></td><td>axiom</td><td></td><td><span style=\"font-size:20px;\"> <a class=\"ProveItLink\" href=\"../../_axioms_.ipynb#andFT\" style=\"text-decoration: none\">&#x22A2;&nbsp;</a><a class=\"ProveItLink\" href=\"../01d3f2e9de4f0cb58655d4537f4661a46db627ce0/expr.ipynb\"><img src=\"../01d3f2e9de4f0cb58655d4537f4661a46db627ce0/expr.png\" style=\"display:inline;vertical-align:middle;\" /></a></span></td></tr>\n",
       "<tr><td>&nbsp;</td><td colspan=4 style-\"text-align:left\"><a class=\"ProveItLink\" href=\"../../_axioms_.ipynb#andFT\">proveit.logic.boolean.conjunction.andFT</a></td></tr></table>"
      ],
      "text/plain": [
       "<proveit._core_.proof._ShowProof at 0x7f5bb7b2dbe0>"
      ]
     },
     "execution_count": 1,
     "metadata": {},
     "output_type": "execute_result"
    }
   ],
   "source": [
    "import proveit\n",
    "# Automation is not needed when only showing a stored proof:\n",
    "proveit.defaults.automation = False # This will speed things up.\n",
    "proveit.defaults.inline_pngs = False # Makes files smaller.\n",
    "%show_proof"
   ]
  },
  {
   "cell_type": "code",
   "execution_count": null,
   "metadata": {},
   "outputs": [],
   "source": []
  }
 ],
 "metadata": {
  "kernelspec": {
   "display_name": "Python 3",
   "language": "python",
   "name": "python3"
  },
  "language_info": {
   "codemirror_mode": {
    "name": "ipython",
    "version": 3
   },
   "file_extension": ".py",
   "mimetype": "text/x-python",
   "name": "python",
   "nbconvert_exporter": "python",
   "pygments_lexer": "ipython3",
   "version": "3.7.3"
  }
 },
 "nbformat": 4,
 "nbformat_minor": 1
}
