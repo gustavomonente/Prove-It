{
 "cells": [
  {
   "cell_type": "markdown",
   "metadata": {},
   "source": [
    "Theorem <a class=\"ProveItLink\" href=\"../../_theorems_.ipynb#nandIfNotRight\">nandIfNotRight</a> of type <a class=\"ProveItLink\" href=\"../../../../../../../doc/html/api/proveit.logic.Forall.html\">Forall</a>\n",
    "=======================\n",
    "# from context <a class=\"ProveItLink\" href=\"../../_context_.ipynb\">proveit.logic.boolean.conjunction</a>\n",
    "*** see <a class=\"ProveItLink\" href=\"dependencies.ipynb\">dependencies</a> ***"
   ]
  },
  {
   "cell_type": "code",
   "execution_count": 1,
   "metadata": {},
   "outputs": [],
   "source": [
    "import proveit\n",
    "# Automation is not needed when only building an expression:\n",
    "proveit.defaults.automation = False # This will speed things up.\n",
    "proveit.defaults.inline_pngs = False # Makes files smaller.\n",
    "# import the special expression\n",
    "from proveit.logic.boolean.conjunction._theorems_ import nandIfNotRight"
   ]
  },
  {
   "cell_type": "code",
   "execution_count": 2,
   "metadata": {},
   "outputs": [
    {
     "name": "stdout",
     "output_type": "stream",
     "text": [
      "Passed sanity check: built 'nandIfNotRight' is the same as the stored Expression.\n"
     ]
    }
   ],
   "source": [
    "# check that the built expression is the same as the stored expression\n",
    "%check_expr nandIfNotRight"
   ]
  },
  {
   "cell_type": "code",
   "execution_count": 3,
   "metadata": {},
   "outputs": [
    {
     "name": "stdout",
     "output_type": "stream",
     "text": [
      "\\vdash \\forall_{A \\in \\mathbb{B}, B \\in \\mathbb{B}~|~\\lnot B}~(\\lnot \\left(A \\land B\\right))\n"
     ]
    }
   ],
   "source": [
    "# Show the LaTeX representation of the expression for convenience if you need it.\n",
    "print(nandIfNotRight.latex())"
   ]
  },
  {
   "cell_type": "code",
   "execution_count": 4,
   "metadata": {},
   "outputs": [
    {
     "data": {
      "text/html": [
       "<table><tr><th>&nbsp;</th><th>core type</th><th>sub-expressions</th><th>expression</th></tr>\n",
       "<tr><td>0</td><td>Operation</td><td>operator:&nbsp;1<br>operand:&nbsp;2<br></td><td><a class=\"ProveItLink\" href=\"expr.ipynb\"><img src=\"expr.png\" style=\"display:inline;vertical-align:middle;\" /></a></td></tr>\n",
       "<tr><td>1</td><td>Literal</td><td></td><td><a class=\"ProveItLink\" href=\"../../../quantification/universal/__pv_it/fd9c772d6675566ed52a6897806f45eb08a4ea910/expr.ipynb\"><img src=\"../../../quantification/universal/__pv_it/fd9c772d6675566ed52a6897806f45eb08a4ea910/expr.png\" style=\"display:inline;vertical-align:middle;\" /></a></td></tr>\n",
       "<tr><td>2</td><td>Lambda</td><td>parameters:&nbsp;9<br>body:&nbsp;3<br></td><td><a class=\"ProveItLink\" href=\"../9ebcab11c8b73812582fd42147df7194d36f50a30/expr.ipynb\"><img src=\"../9ebcab11c8b73812582fd42147df7194d36f50a30/expr.png\" style=\"display:inline;vertical-align:middle;\" /></a></td></tr>\n",
       "<tr><td>3</td><td>Conditional</td><td>value:&nbsp;4<br>condition:&nbsp;5<br></td><td><a class=\"ProveItLink\" href=\"../c950be9e62449d45e92f0dd4fe2f3de8716929ab0/expr.ipynb\"><img src=\"../c950be9e62449d45e92f0dd4fe2f3de8716929ab0/expr.png\" style=\"display:inline;vertical-align:middle;\" /></a></td></tr>\n",
       "<tr><td>4</td><td>Operation</td><td>operator:&nbsp;16<br>operand:&nbsp;6<br></td><td><a class=\"ProveItLink\" href=\"../17b8dd5ac7c4f2bbd3baf30fbf3460b8bd2f67a60/expr.ipynb\"><img src=\"../17b8dd5ac7c4f2bbd3baf30fbf3460b8bd2f67a60/expr.png\" style=\"display:inline;vertical-align:middle;\" /></a></td></tr>\n",
       "<tr><td>5</td><td>Operation</td><td>operator:&nbsp;8<br>operands:&nbsp;7<br></td><td><a class=\"ProveItLink\" href=\"../94b7295a50bc471d48cb9ea46a957f261e6365310/expr.ipynb\"><img src=\"../94b7295a50bc471d48cb9ea46a957f261e6365310/expr.png\" style=\"display:inline;vertical-align:middle;\" /></a></td></tr>\n",
       "<tr><td>6</td><td>Operation</td><td>operator:&nbsp;8<br>operands:&nbsp;9<br></td><td><a class=\"ProveItLink\" href=\"../8c9b2529111ee20a14b341c8bc70d8f662a0762c0/expr.ipynb\"><img src=\"../8c9b2529111ee20a14b341c8bc70d8f662a0762c0/expr.png\" style=\"display:inline;vertical-align:middle;\" /></a></td></tr>\n",
       "<tr><td>7</td><td>ExprTuple</td><td>10, 11, 12</td><td><a class=\"ProveItLink\" href=\"../f4bc3bc614e8b1238c9f33a47b3de61a4eaa87eb0/expr.ipynb\"><img src=\"../f4bc3bc614e8b1238c9f33a47b3de61a4eaa87eb0/expr.png\" style=\"display:inline;vertical-align:middle;\" /></a></td></tr>\n",
       "<tr><td>8</td><td>Literal</td><td></td><td><a class=\"ProveItLink\" href=\"../f41cc6b553210927c09f19a8a39cdf860a5585930/expr.ipynb\"><img src=\"../f41cc6b553210927c09f19a8a39cdf860a5585930/expr.png\" style=\"display:inline;vertical-align:middle;\" /></a></td></tr>\n",
       "<tr><td>9</td><td>ExprTuple</td><td>17, 18</td><td><a class=\"ProveItLink\" href=\"../5ba9a2996c4f7c4d12731615ed3a34ca901fa86c0/expr.ipynb\"><img src=\"../5ba9a2996c4f7c4d12731615ed3a34ca901fa86c0/expr.png\" style=\"display:inline;vertical-align:middle;\" /></a></td></tr>\n",
       "<tr><td>10</td><td>Operation</td><td>operator:&nbsp;14<br>operands:&nbsp;13<br></td><td><a class=\"ProveItLink\" href=\"../8776f6509d0e01db99c8c290ab1853b3db3d048c0/expr.ipynb\"><img src=\"../8776f6509d0e01db99c8c290ab1853b3db3d048c0/expr.png\" style=\"display:inline;vertical-align:middle;\" /></a></td></tr>\n",
       "<tr><td>11</td><td>Operation</td><td>operator:&nbsp;14<br>operands:&nbsp;15<br></td><td><a class=\"ProveItLink\" href=\"../af21e96bc662cb74cc7cb3eb21c032f16e434dba0/expr.ipynb\"><img src=\"../af21e96bc662cb74cc7cb3eb21c032f16e434dba0/expr.png\" style=\"display:inline;vertical-align:middle;\" /></a></td></tr>\n",
       "<tr><td>12</td><td>Operation</td><td>operator:&nbsp;16<br>operand:&nbsp;18<br></td><td><a class=\"ProveItLink\" href=\"../86f671dd514f6e615234986d96edb2c4ebb473e30/expr.ipynb\"><img src=\"../86f671dd514f6e615234986d96edb2c4ebb473e30/expr.png\" style=\"display:inline;vertical-align:middle;\" /></a></td></tr>\n",
       "<tr><td>13</td><td>ExprTuple</td><td>17, 19</td><td><a class=\"ProveItLink\" href=\"../0969dc1cafe9ecb1790af088b1aae8d6ce560fda0/expr.ipynb\"><img src=\"../0969dc1cafe9ecb1790af088b1aae8d6ce560fda0/expr.png\" style=\"display:inline;vertical-align:middle;\" /></a></td></tr>\n",
       "<tr><td>14</td><td>Literal</td><td></td><td><a class=\"ProveItLink\" href=\"../../../../set_theory/membership/__pv_it/7776fc89cb67d0b5b1ec2c0c8e08da5587921ccf0/expr.ipynb\"><img src=\"../../../../set_theory/membership/__pv_it/7776fc89cb67d0b5b1ec2c0c8e08da5587921ccf0/expr.png\" style=\"display:inline;vertical-align:middle;\" /></a></td></tr>\n",
       "<tr><td>15</td><td>ExprTuple</td><td>18, 19</td><td><a class=\"ProveItLink\" href=\"../43cf56dd5c4fd9c5d6ca0453908f71631eb84b860/expr.ipynb\"><img src=\"../43cf56dd5c4fd9c5d6ca0453908f71631eb84b860/expr.png\" style=\"display:inline;vertical-align:middle;\" /></a></td></tr>\n",
       "<tr><td>16</td><td>Literal</td><td></td><td><a class=\"ProveItLink\" href=\"../../../negation/__pv_it/d347242e9ffe8b0d3a039ea6a149983fef6cbe6c0/expr.ipynb\"><img src=\"../../../negation/__pv_it/d347242e9ffe8b0d3a039ea6a149983fef6cbe6c0/expr.png\" style=\"display:inline;vertical-align:middle;\" /></a></td></tr>\n",
       "<tr><td>17</td><td>Variable</td><td></td><td><a class=\"ProveItLink\" href=\"../../../../../__pv_it/d3792d0d8642fdf1cd2a3a9b32c673ee13653de00/expr.ipynb\"><img src=\"../../../../../__pv_it/d3792d0d8642fdf1cd2a3a9b32c673ee13653de00/expr.png\" style=\"display:inline;vertical-align:middle;\" /></a></td></tr>\n",
       "<tr><td>18</td><td>Variable</td><td></td><td><a class=\"ProveItLink\" href=\"../../../../../__pv_it/4d98b438710c5ada9ffa4646bb123a7d0e69ec000/expr.ipynb\"><img src=\"../../../../../__pv_it/4d98b438710c5ada9ffa4646bb123a7d0e69ec000/expr.png\" style=\"display:inline;vertical-align:middle;\" /></a></td></tr>\n",
       "<tr><td>19</td><td>Literal</td><td></td><td><a class=\"ProveItLink\" href=\"../../../__pv_it/a3b387936f605fef1b535be3e1116cca8bbfc91b0/expr.ipynb\"><img src=\"../../../__pv_it/a3b387936f605fef1b535be3e1116cca8bbfc91b0/expr.png\" style=\"display:inline;vertical-align:middle;\" /></a></td></tr>\n",
       "</table>\n"
      ],
      "text/plain": [
       "0. forall_{A in BOOLEANS, B in BOOLEANS | [not](B)} [not](A and B)\n",
       "   core type: Operation\n",
       "   operator: 1\n",
       "   operand: 2\n",
       "1. forall\n",
       "   core type: Literal\n",
       "   sub-expressions: \n",
       "2. (A, B) -> {[not](A and B) if A in BOOLEANS ,  B in BOOLEANS ,  [not](B).\n",
       "   core type: Lambda\n",
       "   parameters: 9\\n   body: 3\n",
       "3. {[not](A and B) if A in BOOLEANS ,  B in BOOLEANS ,  [not](B).\n",
       "   core type: Conditional\n",
       "   value: 4\n",
       "   condition: 5\n",
       "4. [not](A and B)\n",
       "   core type: Operation\n",
       "   operator: 16\n",
       "   operand: 6\n",
       "5. (A in BOOLEANS) and (B in BOOLEANS) and [not](B)\n",
       "   core type: Operation\n",
       "   operator: 8\n",
       "   operands: 7\n",
       "6. A and B\n",
       "   core type: Operation\n",
       "   operator: 8\n",
       "   operands: 9\n",
       "7. (A in BOOLEANS, B in BOOLEANS, [not](B))\n",
       "   core type: ExprTuple\n",
       "   sub-expressions: 10, 11, 12\n",
       "8. and\n",
       "   core type: Literal\n",
       "   sub-expressions: \n",
       "9. (A, B)\n",
       "   core type: ExprTuple\n",
       "   sub-expressions: 17, 18\n",
       "10. A in BOOLEANS\n",
       "    core type: Operation\n",
       "    operator: 14\n",
       "    operands: 13\n",
       "11. B in BOOLEANS\n",
       "    core type: Operation\n",
       "    operator: 14\n",
       "    operands: 15\n",
       "12. [not](B)\n",
       "    core type: Operation\n",
       "    operator: 16\n",
       "    operand: 18\n",
       "13. (A, BOOLEANS)\n",
       "    core type: ExprTuple\n",
       "    sub-expressions: 17, 19\n",
       "14. in\n",
       "    core type: Literal\n",
       "    sub-expressions: \n",
       "15. (B, BOOLEANS)\n",
       "    core type: ExprTuple\n",
       "    sub-expressions: 18, 19\n",
       "16. not\n",
       "    core type: Literal\n",
       "    sub-expressions: \n",
       "17. A\n",
       "    core type: Variable\n",
       "    sub-expressions: \n",
       "18. B\n",
       "    core type: Variable\n",
       "    sub-expressions: \n",
       "19. BOOLEANS\n",
       "    core type: Literal\n",
       "    sub-expressions: "
      ]
     },
     "execution_count": 4,
     "metadata": {},
     "output_type": "execute_result"
    }
   ],
   "source": [
    "# display the expression information\n",
    "nandIfNotRight.exprInfo()"
   ]
  },
  {
   "cell_type": "code",
   "execution_count": null,
   "metadata": {},
   "outputs": [],
   "source": []
  }
 ],
 "metadata": {
  "kernelspec": {
   "display_name": "Python 3",
   "language": "python",
   "name": "python3"
  },
  "language_info": {
   "codemirror_mode": {
    "name": "ipython",
    "version": 3
   },
   "file_extension": ".py",
   "mimetype": "text/x-python",
   "name": "python",
   "nbconvert_exporter": "python",
   "pygments_lexer": "ipython3",
   "version": "3.7.3"
  }
 },
 "nbformat": 4,
 "nbformat_minor": 1
}
