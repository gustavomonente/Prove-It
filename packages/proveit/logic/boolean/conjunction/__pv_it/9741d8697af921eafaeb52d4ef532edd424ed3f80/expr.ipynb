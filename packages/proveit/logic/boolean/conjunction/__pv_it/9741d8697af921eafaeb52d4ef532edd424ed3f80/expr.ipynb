{
 "cells": [
  {
   "cell_type": "markdown",
   "metadata": {},
   "source": [
    "Expression of type <a class=\"ProveItLink\" href=\"../../../../../../../doc/html/api/proveit.Lambda.html\">Lambda</a>\n",
    "=======================\n",
    "# from context <a class=\"ProveItLink\" href=\"../../_context_.ipynb\">proveit.logic.boolean.conjunction</a>"
   ]
  },
  {
   "cell_type": "code",
   "execution_count": 1,
   "metadata": {},
   "outputs": [],
   "source": [
    "import proveit\n",
    "# Automation is not needed when building an expression:\n",
    "proveit.defaults.automation = False # This will speed things up.\n",
    "proveit.defaults.inline_pngs = False # Makes files smaller.\n",
    "# import Expression classes needed to build the expression\n",
    "from proveit import Conditional, Lambda\n",
    "from proveit._common_ import B, l, m, n\n",
    "from proveit.core_expr_types._common_ import A_1_to_l, C_1_to_m, D_1_to_n\n",
    "from proveit.logic import And, Forall, InSet\n",
    "from proveit.number import Naturals"
   ]
  },
  {
   "cell_type": "code",
   "execution_count": 2,
   "metadata": {},
   "outputs": [
    {
     "data": {
      "text/html": [
       "<strong id=\"expr\">expr:</strong> <a class=\"ProveItLink\" href=\"../c7cce360165eec9851a0b05604bcae306959e9710/expr.ipynb\"><img src=\"../c7cce360165eec9851a0b05604bcae306959e9710/expr.png\" style=\"display:inline;vertical-align:middle;\" /></a><br>"
      ],
      "text/plain": [
       "expr: (l, m, n) -> {forall_{A_{1}, ..A_{_a}.., A_{l}, B, C_{1}, ..C_{_a}.., C_{m}, D_{1}, ..D_{_a}.., D_{n} | A_{1}, ..A_{_a}.., A_{l}, B, C_{1}, ..C_{_a}.., C_{m}, D_{1}, ..D_{_a}.., D_{n}} (A_{1} and ..A_{_a}.. and A_{l} and C_{1} and ..C_{_a}.. and C_{m} and B and D_{1} and ..D_{_a}.. and D_{n}) if l in Naturals ,  m in Naturals ,  n in Naturals."
      ]
     },
     "execution_count": 2,
     "metadata": {},
     "output_type": "execute_result"
    }
   ],
   "source": [
    "# build up the expression from sub-expressions\n",
    "subExpr1 = [A_1_to_l, B, C_1_to_m, D_1_to_n]\n",
    "expr = Lambda([l, m, n], Conditional(Forall(subExpr1, And(A_1_to_l, C_1_to_m, B, D_1_to_n), conditions = subExpr1), And(InSet(l, Naturals), InSet(m, Naturals), InSet(n, Naturals))))"
   ]
  },
  {
   "cell_type": "code",
   "execution_count": 3,
   "metadata": {},
   "outputs": [
    {
     "name": "stdout",
     "output_type": "stream",
     "text": [
      "Passed sanity check: built 'expr' is the same as the stored Expression.\n"
     ]
    }
   ],
   "source": [
    "# check that the built expression is the same as the stored expression\n",
    "%check_expr"
   ]
  },
  {
   "cell_type": "code",
   "execution_count": 4,
   "metadata": {},
   "outputs": [
    {
     "name": "stdout",
     "output_type": "stream",
     "text": [
      "\\left(l, m, n\\right) \\mapsto \\left\\{\\forall_{A_{1}, \\ldots, A_{l}, B, C_{1}, \\ldots, C_{m}, D_{1}, \\ldots, D_{n}~|~A_{1}, \\ldots, A_{l}, B, C_{1}, \\ldots, C_{m}, D_{1}, \\ldots, D_{n}}~\\left(A_{1} \\land \\ldots \\land A_{l} \\land C_{1} \\land \\ldots \\land C_{m} \\land B \\land D_{1} \\land \\ldots \\land D_{n}\\right) \\textrm{ if } l \\in \\mathbb{N} ,  m \\in \\mathbb{N} ,  n \\in \\mathbb{N}\\right..\n"
     ]
    }
   ],
   "source": [
    "# Show the LaTeX representation of the expression for convenience if you need it.\n",
    "print(expr.latex())"
   ]
  },
  {
   "cell_type": "code",
   "execution_count": 5,
   "metadata": {},
   "outputs": [
    {
     "data": {
      "text/html": [
       "<table><tr><th>&nbsp;</th><th>core type</th><th>sub-expressions</th><th>expression</th></tr>\n",
       "<tr><td>0</td><td>Lambda</td><td>parameters:&nbsp;1<br>body:&nbsp;2<br></td><td><a class=\"ProveItLink\" href=\"../c7cce360165eec9851a0b05604bcae306959e9710/expr.ipynb\"><img src=\"../c7cce360165eec9851a0b05604bcae306959e9710/expr.png\" style=\"display:inline;vertical-align:middle;\" /></a></td></tr>\n",
       "<tr><td>1</td><td>ExprTuple</td><td>27, 29, 32</td><td><a class=\"ProveItLink\" href=\"../a13aa48d72a2c48ce59e63b75a1846058e361a650/expr.ipynb\"><img src=\"../a13aa48d72a2c48ce59e63b75a1846058e361a650/expr.png\" style=\"display:inline;vertical-align:middle;\" /></a></td></tr>\n",
       "<tr><td>2</td><td>Conditional</td><td>value:&nbsp;3<br>condition:&nbsp;4<br></td><td><a class=\"ProveItLink\" href=\"../f2d73c8ce7900f3f2390a87c619ffd305d0f71dc0/expr.ipynb\"><img src=\"../f2d73c8ce7900f3f2390a87c619ffd305d0f71dc0/expr.png\" style=\"display:inline;vertical-align:middle;\" /></a></td></tr>\n",
       "<tr><td>3</td><td>Operation</td><td>operator:&nbsp;5<br>operand:&nbsp;6<br></td><td><a class=\"ProveItLink\" href=\"../4f7a1a592faf0292c40f30f167b2bc933fccdf740/expr.ipynb\"><img src=\"../4f7a1a592faf0292c40f30f167b2bc933fccdf740/expr.png\" style=\"display:inline;vertical-align:middle;\" /></a></td></tr>\n",
       "<tr><td>4</td><td>Operation</td><td>operator:&nbsp;19<br>operands:&nbsp;7<br></td><td><a class=\"ProveItLink\" href=\"../078851b710cf14b613d0666bbab477b74ca7e4cf0/expr.ipynb\"><img src=\"../078851b710cf14b613d0666bbab477b74ca7e4cf0/expr.png\" style=\"display:inline;vertical-align:middle;\" /></a></td></tr>\n",
       "<tr><td>5</td><td>Literal</td><td></td><td><a class=\"ProveItLink\" href=\"../../../quantification/universal/__pv_it/fd9c772d6675566ed52a6897806f45eb08a4ea910/expr.ipynb\"><img src=\"../../../quantification/universal/__pv_it/fd9c772d6675566ed52a6897806f45eb08a4ea910/expr.png\" style=\"display:inline;vertical-align:middle;\" /></a></td></tr>\n",
       "<tr><td>6</td><td>Lambda</td><td>parameters:&nbsp;20<br>body:&nbsp;8<br></td><td><a class=\"ProveItLink\" href=\"../43bc22bcc67bbf01bd6520bf9f9fa45f185104d30/expr.ipynb\"><img src=\"../43bc22bcc67bbf01bd6520bf9f9fa45f185104d30/expr.png\" style=\"display:inline;vertical-align:middle;\" /></a></td></tr>\n",
       "<tr><td>7</td><td>ExprTuple</td><td>9, 10, 11</td><td><a class=\"ProveItLink\" href=\"../6af3cb57398943a61b268f53f264d8597fc6b05e0/expr.ipynb\"><img src=\"../6af3cb57398943a61b268f53f264d8597fc6b05e0/expr.png\" style=\"display:inline;vertical-align:middle;\" /></a></td></tr>\n",
       "<tr><td>8</td><td>Conditional</td><td>value:&nbsp;12<br>condition:&nbsp;13<br></td><td><a class=\"ProveItLink\" href=\"../5cb28c72156ef473a6028fd3b13f3b10b27613070/expr.ipynb\"><img src=\"../5cb28c72156ef473a6028fd3b13f3b10b27613070/expr.png\" style=\"display:inline;vertical-align:middle;\" /></a></td></tr>\n",
       "<tr><td>9</td><td>Operation</td><td>operator:&nbsp;16<br>operands:&nbsp;14<br></td><td><a class=\"ProveItLink\" href=\"../cfcd5127e8d816bc6f9727d775356219cf8352850/expr.ipynb\"><img src=\"../cfcd5127e8d816bc6f9727d775356219cf8352850/expr.png\" style=\"display:inline;vertical-align:middle;\" /></a></td></tr>\n",
       "<tr><td>10</td><td>Operation</td><td>operator:&nbsp;16<br>operands:&nbsp;15<br></td><td><a class=\"ProveItLink\" href=\"../ad11778942ef0375d86b1f7877fe8941c18aa1e90/expr.ipynb\"><img src=\"../ad11778942ef0375d86b1f7877fe8941c18aa1e90/expr.png\" style=\"display:inline;vertical-align:middle;\" /></a></td></tr>\n",
       "<tr><td>11</td><td>Operation</td><td>operator:&nbsp;16<br>operands:&nbsp;17<br></td><td><a class=\"ProveItLink\" href=\"../2cf8e15839f3241ee91ee5160b94bb56314115740/expr.ipynb\"><img src=\"../2cf8e15839f3241ee91ee5160b94bb56314115740/expr.png\" style=\"display:inline;vertical-align:middle;\" /></a></td></tr>\n",
       "<tr><td>12</td><td>Operation</td><td>operator:&nbsp;19<br>operands:&nbsp;18<br></td><td><a class=\"ProveItLink\" href=\"../2a61b14473eb07e1790a7bfe88e3b84792c3425e0/expr.ipynb\"><img src=\"../2a61b14473eb07e1790a7bfe88e3b84792c3425e0/expr.png\" style=\"display:inline;vertical-align:middle;\" /></a></td></tr>\n",
       "<tr><td>13</td><td>Operation</td><td>operator:&nbsp;19<br>operands:&nbsp;20<br></td><td><a class=\"ProveItLink\" href=\"../94e145ca1ec6046e4f65dd463bc5a223bc2959430/expr.ipynb\"><img src=\"../94e145ca1ec6046e4f65dd463bc5a223bc2959430/expr.png\" style=\"display:inline;vertical-align:middle;\" /></a></td></tr>\n",
       "<tr><td>14</td><td>ExprTuple</td><td>27, 21</td><td><a class=\"ProveItLink\" href=\"../e8b59dc7987d380d7cdd4dcb1f08ae0ef5b9bac70/expr.ipynb\"><img src=\"../e8b59dc7987d380d7cdd4dcb1f08ae0ef5b9bac70/expr.png\" style=\"display:inline;vertical-align:middle;\" /></a></td></tr>\n",
       "<tr><td>15</td><td>ExprTuple</td><td>29, 21</td><td><a class=\"ProveItLink\" href=\"../13263128595eab3cbb0d7b226b8f6e6eda0ba9a40/expr.ipynb\"><img src=\"../13263128595eab3cbb0d7b226b8f6e6eda0ba9a40/expr.png\" style=\"display:inline;vertical-align:middle;\" /></a></td></tr>\n",
       "<tr><td>16</td><td>Literal</td><td></td><td><a class=\"ProveItLink\" href=\"../../../../set_theory/membership/__pv_it/7776fc89cb67d0b5b1ec2c0c8e08da5587921ccf0/expr.ipynb\"><img src=\"../../../../set_theory/membership/__pv_it/7776fc89cb67d0b5b1ec2c0c8e08da5587921ccf0/expr.png\" style=\"display:inline;vertical-align:middle;\" /></a></td></tr>\n",
       "<tr><td>17</td><td>ExprTuple</td><td>32, 21</td><td><a class=\"ProveItLink\" href=\"../1cec7219484835bb1a8f99347b9938cdf616708c0/expr.ipynb\"><img src=\"../1cec7219484835bb1a8f99347b9938cdf616708c0/expr.png\" style=\"display:inline;vertical-align:middle;\" /></a></td></tr>\n",
       "<tr><td>18</td><td>ExprTuple</td><td>22, 24, 23, 25</td><td><a class=\"ProveItLink\" href=\"../15de8b0a2ebfab4868f2c6d6a5c60e3dc44c865d0/expr.ipynb\"><img src=\"../15de8b0a2ebfab4868f2c6d6a5c60e3dc44c865d0/expr.png\" style=\"display:inline;vertical-align:middle;\" /></a></td></tr>\n",
       "<tr><td>19</td><td>Literal</td><td></td><td><a class=\"ProveItLink\" href=\"../f41cc6b553210927c09f19a8a39cdf860a5585930/expr.ipynb\"><img src=\"../f41cc6b553210927c09f19a8a39cdf860a5585930/expr.png\" style=\"display:inline;vertical-align:middle;\" /></a></td></tr>\n",
       "<tr><td>20</td><td>ExprTuple</td><td>22, 23, 24, 25</td><td><a class=\"ProveItLink\" href=\"../f1d50cf7c222c277dfe380a1bfdb1f66fb4d490e0/expr.ipynb\"><img src=\"../f1d50cf7c222c277dfe380a1bfdb1f66fb4d490e0/expr.png\" style=\"display:inline;vertical-align:middle;\" /></a></td></tr>\n",
       "<tr><td>21</td><td>Literal</td><td></td><td><a class=\"ProveItLink\" href=\"../../../../../number/sets/integer/__pv_it/b49c37b99b7e8d73a8d7971bcf454d693b90a2c60/expr.ipynb\"><img src=\"../../../../../number/sets/integer/__pv_it/b49c37b99b7e8d73a8d7971bcf454d693b90a2c60/expr.png\" style=\"display:inline;vertical-align:middle;\" /></a></td></tr>\n",
       "<tr><td>22</td><td>ExprRange</td><td>lambda_map:&nbsp;26<br>start_index:&nbsp;31<br>end_index:&nbsp;27<br></td><td><a class=\"ProveItLink\" href=\"../../../../../core_expr_types/__pv_it/839a259a6ca8466c24593b83470b919b844a19800/expr.ipynb\"><img src=\"../../../../../core_expr_types/__pv_it/839a259a6ca8466c24593b83470b919b844a19800/expr.png\" style=\"display:inline;vertical-align:middle;\" /></a></td></tr>\n",
       "<tr><td>23</td><td>Variable</td><td></td><td><a class=\"ProveItLink\" href=\"../../../../../__pv_it/4d98b438710c5ada9ffa4646bb123a7d0e69ec000/expr.ipynb\"><img src=\"../../../../../__pv_it/4d98b438710c5ada9ffa4646bb123a7d0e69ec000/expr.png\" style=\"display:inline;vertical-align:middle;\" /></a></td></tr>\n",
       "<tr><td>24</td><td>ExprRange</td><td>lambda_map:&nbsp;28<br>start_index:&nbsp;31<br>end_index:&nbsp;29<br></td><td><a class=\"ProveItLink\" href=\"../../../../../core_expr_types/__pv_it/e8fcfaab76a2780ebd9a29bc1646b28b4fad22100/expr.ipynb\"><img src=\"../../../../../core_expr_types/__pv_it/e8fcfaab76a2780ebd9a29bc1646b28b4fad22100/expr.png\" style=\"display:inline;vertical-align:middle;\" /></a></td></tr>\n",
       "<tr><td>25</td><td>ExprRange</td><td>lambda_map:&nbsp;30<br>start_index:&nbsp;31<br>end_index:&nbsp;32<br></td><td><a class=\"ProveItLink\" href=\"../../../../../core_expr_types/__pv_it/abd8ac7ab341f351f205db76c0c12d9ee3e308080/expr.ipynb\"><img src=\"../../../../../core_expr_types/__pv_it/abd8ac7ab341f351f205db76c0c12d9ee3e308080/expr.png\" style=\"display:inline;vertical-align:middle;\" /></a></td></tr>\n",
       "<tr><td>26</td><td>Lambda</td><td>parameter:&nbsp;39<br>body:&nbsp;33<br></td><td><a class=\"ProveItLink\" href=\"../../../../../core_expr_types/__pv_it/cbf4a2d6122f8f76eeb36bd1c0d8bf52d8e05a560/expr.ipynb\"><img src=\"../../../../../core_expr_types/__pv_it/cbf4a2d6122f8f76eeb36bd1c0d8bf52d8e05a560/expr.png\" style=\"display:inline;vertical-align:middle;\" /></a></td></tr>\n",
       "<tr><td>27</td><td>Variable</td><td></td><td><a class=\"ProveItLink\" href=\"../../../../../__pv_it/146a2ac733407ae00030c58af25a3e0f465a566a0/expr.ipynb\"><img src=\"../../../../../__pv_it/146a2ac733407ae00030c58af25a3e0f465a566a0/expr.png\" style=\"display:inline;vertical-align:middle;\" /></a></td></tr>\n",
       "<tr><td>28</td><td>Lambda</td><td>parameter:&nbsp;39<br>body:&nbsp;34<br></td><td><a class=\"ProveItLink\" href=\"../../../../../core_expr_types/__pv_it/1f1f93a97ffa923da2b370597cfe676c10d3dee70/expr.ipynb\"><img src=\"../../../../../core_expr_types/__pv_it/1f1f93a97ffa923da2b370597cfe676c10d3dee70/expr.png\" style=\"display:inline;vertical-align:middle;\" /></a></td></tr>\n",
       "<tr><td>29</td><td>Variable</td><td></td><td><a class=\"ProveItLink\" href=\"../../../../../__pv_it/6e8a38e9a7e2b6af352562cd77e0eb4751f142620/expr.ipynb\"><img src=\"../../../../../__pv_it/6e8a38e9a7e2b6af352562cd77e0eb4751f142620/expr.png\" style=\"display:inline;vertical-align:middle;\" /></a></td></tr>\n",
       "<tr><td>30</td><td>Lambda</td><td>parameter:&nbsp;39<br>body:&nbsp;35<br></td><td><a class=\"ProveItLink\" href=\"../../../../../core_expr_types/__pv_it/2108d9d41458d68021f5c317e86b85035a3e8c530/expr.ipynb\"><img src=\"../../../../../core_expr_types/__pv_it/2108d9d41458d68021f5c317e86b85035a3e8c530/expr.png\" style=\"display:inline;vertical-align:middle;\" /></a></td></tr>\n",
       "<tr><td>31</td><td>Literal</td><td></td><td><a class=\"ProveItLink\" href=\"../../../../../number/numeral/__pv_it/f086f8c372bd40a2458306ddfdbb29f3dc6f63030/expr.ipynb\"><img src=\"../../../../../number/numeral/__pv_it/f086f8c372bd40a2458306ddfdbb29f3dc6f63030/expr.png\" style=\"display:inline;vertical-align:middle;\" /></a></td></tr>\n",
       "<tr><td>32</td><td>Variable</td><td></td><td><a class=\"ProveItLink\" href=\"../../../../../__pv_it/0c1c4cb515e0f4344b1ac06650f349123e526deb0/expr.ipynb\"><img src=\"../../../../../__pv_it/0c1c4cb515e0f4344b1ac06650f349123e526deb0/expr.png\" style=\"display:inline;vertical-align:middle;\" /></a></td></tr>\n",
       "<tr><td>33</td><td>IndexedVar</td><td>variable:&nbsp;36<br>index:&nbsp;39<br></td><td><a class=\"ProveItLink\" href=\"../../../../../core_expr_types/__pv_it/a433d6021a2b0d85d326303b1d692b18969c0dc30/expr.ipynb\"><img src=\"../../../../../core_expr_types/__pv_it/a433d6021a2b0d85d326303b1d692b18969c0dc30/expr.png\" style=\"display:inline;vertical-align:middle;\" /></a></td></tr>\n",
       "<tr><td>34</td><td>IndexedVar</td><td>variable:&nbsp;37<br>index:&nbsp;39<br></td><td><a class=\"ProveItLink\" href=\"../../../../../core_expr_types/__pv_it/3b86bd3b2e16136132e508dd7cfa1ad89a15b7bf0/expr.ipynb\"><img src=\"../../../../../core_expr_types/__pv_it/3b86bd3b2e16136132e508dd7cfa1ad89a15b7bf0/expr.png\" style=\"display:inline;vertical-align:middle;\" /></a></td></tr>\n",
       "<tr><td>35</td><td>IndexedVar</td><td>variable:&nbsp;38<br>index:&nbsp;39<br></td><td><a class=\"ProveItLink\" href=\"../../../../../core_expr_types/__pv_it/4d7493ad3ae7a58d4af1deba676835c9b640a4da0/expr.ipynb\"><img src=\"../../../../../core_expr_types/__pv_it/4d7493ad3ae7a58d4af1deba676835c9b640a4da0/expr.png\" style=\"display:inline;vertical-align:middle;\" /></a></td></tr>\n",
       "<tr><td>36</td><td>Variable</td><td></td><td><a class=\"ProveItLink\" href=\"../../../../../__pv_it/d3792d0d8642fdf1cd2a3a9b32c673ee13653de00/expr.ipynb\"><img src=\"../../../../../__pv_it/d3792d0d8642fdf1cd2a3a9b32c673ee13653de00/expr.png\" style=\"display:inline;vertical-align:middle;\" /></a></td></tr>\n",
       "<tr><td>37</td><td>Variable</td><td></td><td><a class=\"ProveItLink\" href=\"../../../../../__pv_it/dcb5a3e430485237dfe486162b026a4affb149300/expr.ipynb\"><img src=\"../../../../../__pv_it/dcb5a3e430485237dfe486162b026a4affb149300/expr.png\" style=\"display:inline;vertical-align:middle;\" /></a></td></tr>\n",
       "<tr><td>38</td><td>Variable</td><td></td><td><a class=\"ProveItLink\" href=\"../../../../../__pv_it/8f4534f2d0cd8231a9b8a1771e8be76aa52adea40/expr.ipynb\"><img src=\"../../../../../__pv_it/8f4534f2d0cd8231a9b8a1771e8be76aa52adea40/expr.png\" style=\"display:inline;vertical-align:middle;\" /></a></td></tr>\n",
       "<tr><td>39</td><td>Variable</td><td></td><td><a class=\"ProveItLink\" href=\"../../../../../core_expr_types/__pv_it/1e653f789234b245ee7fea7caad998c139d617410/expr.ipynb\"><img src=\"../../../../../core_expr_types/__pv_it/1e653f789234b245ee7fea7caad998c139d617410/expr.png\" style=\"display:inline;vertical-align:middle;\" /></a></td></tr>\n",
       "</table>\n"
      ],
      "text/plain": [
       "0. (l, m, n) -> {forall_{A_{1}, ..A_{_a}.., A_{l}, B, C_{1}, ..C_{_a}.., C_{m}, D_{1}, ..D_{_a}.., D_{n} | A_{1}, ..A_{_a}.., A_{l}, B, C_{1}, ..C_{_a}.., C_{m}, D_{1}, ..D_{_a}.., D_{n}} (A_{1} and ..A_{_a}.. and A_{l} and C_{1} and ..C_{_a}.. and C_{m} and B and D_{1} and ..D_{_a}.. and D_{n}) if l in Naturals ,  m in Naturals ,  n in Naturals.\n",
       "   core type: Lambda\n",
       "   parameters: 1\\n   body: 2\n",
       "1. (l, m, n)\n",
       "   core type: ExprTuple\n",
       "   sub-expressions: 27, 29, 32\n",
       "2. {forall_{A_{1}, ..A_{_a}.., A_{l}, B, C_{1}, ..C_{_a}.., C_{m}, D_{1}, ..D_{_a}.., D_{n} | A_{1}, ..A_{_a}.., A_{l}, B, C_{1}, ..C_{_a}.., C_{m}, D_{1}, ..D_{_a}.., D_{n}} (A_{1} and ..A_{_a}.. and A_{l} and C_{1} and ..C_{_a}.. and C_{m} and B and D_{1} and ..D_{_a}.. and D_{n}) if l in Naturals ,  m in Naturals ,  n in Naturals.\n",
       "   core type: Conditional\n",
       "   value: 3\n",
       "   condition: 4\n",
       "3. forall_{A_{1}, ..A_{_a}.., A_{l}, B, C_{1}, ..C_{_a}.., C_{m}, D_{1}, ..D_{_a}.., D_{n} | A_{1}, ..A_{_a}.., A_{l}, B, C_{1}, ..C_{_a}.., C_{m}, D_{1}, ..D_{_a}.., D_{n}} (A_{1} and ..A_{_a}.. and A_{l} and C_{1} and ..C_{_a}.. and C_{m} and B and D_{1} and ..D_{_a}.. and D_{n})\n",
       "   core type: Operation\n",
       "   operator: 5\n",
       "   operand: 6\n",
       "4. (l in Naturals) and (m in Naturals) and (n in Naturals)\n",
       "   core type: Operation\n",
       "   operator: 19\n",
       "   operands: 7\n",
       "5. forall\n",
       "   core type: Literal\n",
       "   sub-expressions: \n",
       "6. (A_{1}, ..A_{_a}.., A_{l}, B, C_{1}, ..C_{_a}.., C_{m}, D_{1}, ..D_{_a}.., D_{n}) -> {A_{1} and ..A_{_a}.. and A_{l} and C_{1} and ..C_{_a}.. and C_{m} and B and D_{1} and ..D_{_a}.. and D_{n} if A_{1} ,  ..A_{_a}.. ,  A_{l} ,  B ,  C_{1} ,  ..C_{_a}.. ,  C_{m} ,  D_{1} ,  ..D_{_a}.. ,  D_{n}.\n",
       "   core type: Lambda\n",
       "   parameters: 20\\n   body: 8\n",
       "7. (l in Naturals, m in Naturals, n in Naturals)\n",
       "   core type: ExprTuple\n",
       "   sub-expressions: 9, 10, 11\n",
       "8. {A_{1} and ..A_{_a}.. and A_{l} and C_{1} and ..C_{_a}.. and C_{m} and B and D_{1} and ..D_{_a}.. and D_{n} if A_{1} ,  ..A_{_a}.. ,  A_{l} ,  B ,  C_{1} ,  ..C_{_a}.. ,  C_{m} ,  D_{1} ,  ..D_{_a}.. ,  D_{n}.\n",
       "   core type: Conditional\n",
       "   value: 12\n",
       "   condition: 13\n",
       "9. l in Naturals\n",
       "   core type: Operation\n",
       "   operator: 16\n",
       "   operands: 14\n",
       "10. m in Naturals\n",
       "    core type: Operation\n",
       "    operator: 16\n",
       "    operands: 15\n",
       "11. n in Naturals\n",
       "    core type: Operation\n",
       "    operator: 16\n",
       "    operands: 17\n",
       "12. A_{1} and ..A_{_a}.. and A_{l} and C_{1} and ..C_{_a}.. and C_{m} and B and D_{1} and ..D_{_a}.. and D_{n}\n",
       "    core type: Operation\n",
       "    operator: 19\n",
       "    operands: 18\n",
       "13. A_{1} and ..A_{_a}.. and A_{l} and B and C_{1} and ..C_{_a}.. and C_{m} and D_{1} and ..D_{_a}.. and D_{n}\n",
       "    core type: Operation\n",
       "    operator: 19\n",
       "    operands: 20\n",
       "14. (l, Naturals)\n",
       "    core type: ExprTuple\n",
       "    sub-expressions: 27, 21\n",
       "15. (m, Naturals)\n",
       "    core type: ExprTuple\n",
       "    sub-expressions: 29, 21\n",
       "16. in\n",
       "    core type: Literal\n",
       "    sub-expressions: \n",
       "17. (n, Naturals)\n",
       "    core type: ExprTuple\n",
       "    sub-expressions: 32, 21\n",
       "18. (A_{1}, ..A_{_a}.., A_{l}, C_{1}, ..C_{_a}.., C_{m}, B, D_{1}, ..D_{_a}.., D_{n})\n",
       "    core type: ExprTuple\n",
       "    sub-expressions: 22, 24, 23, 25\n",
       "19. and\n",
       "    core type: Literal\n",
       "    sub-expressions: \n",
       "20. (A_{1}, ..A_{_a}.., A_{l}, B, C_{1}, ..C_{_a}.., C_{m}, D_{1}, ..D_{_a}.., D_{n})\n",
       "    core type: ExprTuple\n",
       "    sub-expressions: 22, 23, 24, 25\n",
       "21. Naturals\n",
       "    core type: Literal\n",
       "    sub-expressions: \n",
       "22. A_{1}, ..A_{_a}.., A_{l}\n",
       "    core type: ExprRange\n",
       "    lambda_map: 26\n",
       "    start_index: 31\n",
       "    end_index: 27\n",
       "23. B\n",
       "    core type: Variable\n",
       "    sub-expressions: \n",
       "24. C_{1}, ..C_{_a}.., C_{m}\n",
       "    core type: ExprRange\n",
       "    lambda_map: 28\n",
       "    start_index: 31\n",
       "    end_index: 29\n",
       "25. D_{1}, ..D_{_a}.., D_{n}\n",
       "    core type: ExprRange\n",
       "    lambda_map: 30\n",
       "    start_index: 31\n",
       "    end_index: 32\n",
       "26. _a -> A_{_a}\n",
       "    core type: Lambda\n",
       "    parameter: 39\n",
       "    body: 33\n",
       "27. l\n",
       "    core type: Variable\n",
       "    sub-expressions: \n",
       "28. _a -> C_{_a}\n",
       "    core type: Lambda\n",
       "    parameter: 39\n",
       "    body: 34\n",
       "29. m\n",
       "    core type: Variable\n",
       "    sub-expressions: \n",
       "30. _a -> D_{_a}\n",
       "    core type: Lambda\n",
       "    parameter: 39\n",
       "    body: 35\n",
       "31. 1\n",
       "    core type: Literal\n",
       "    sub-expressions: \n",
       "32. n\n",
       "    core type: Variable\n",
       "    sub-expressions: \n",
       "33. A_{_a}\n",
       "    core type: IndexedVar\n",
       "variable: 36\n",
       "index: 39\n",
       "34. C_{_a}\n",
       "    core type: IndexedVar\n",
       "variable: 37\n",
       "index: 39\n",
       "35. D_{_a}\n",
       "    core type: IndexedVar\n",
       "variable: 38\n",
       "index: 39\n",
       "36. A\n",
       "    core type: Variable\n",
       "    sub-expressions: \n",
       "37. C\n",
       "    core type: Variable\n",
       "    sub-expressions: \n",
       "38. D\n",
       "    core type: Variable\n",
       "    sub-expressions: \n",
       "39. _a\n",
       "    core type: Variable\n",
       "    sub-expressions: "
      ]
     },
     "execution_count": 5,
     "metadata": {},
     "output_type": "execute_result"
    }
   ],
   "source": [
    "# display the expression information\n",
    "expr.exprInfo()"
   ]
  },
  {
   "cell_type": "code",
   "execution_count": null,
   "metadata": {},
   "outputs": [],
   "source": []
  }
 ],
 "metadata": {
  "kernelspec": {
   "display_name": "Python 3",
   "language": "python",
   "name": "python3"
  },
  "language_info": {
   "codemirror_mode": {
    "name": "ipython",
    "version": 3
   },
   "file_extension": ".py",
   "mimetype": "text/x-python",
   "name": "python",
   "nbconvert_exporter": "python",
   "pygments_lexer": "ipython3",
   "version": "3.7.3"
  }
 },
 "nbformat": 4,
 "nbformat_minor": 1
}
