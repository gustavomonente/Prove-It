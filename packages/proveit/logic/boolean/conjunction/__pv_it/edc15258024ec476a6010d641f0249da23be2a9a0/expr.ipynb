{
 "cells": [
  {
   "cell_type": "markdown",
   "metadata": {},
   "source": [
    "Expression of type <a class=\"ProveItLink\" href=\"../../../../../../../doc/html/api/proveit.logic.Forall.html\">Forall</a>\n",
    "=======================\n",
    "# from context <a class=\"ProveItLink\" href=\"../../_context_.ipynb\">proveit.logic.boolean.conjunction</a>"
   ]
  },
  {
   "cell_type": "code",
   "execution_count": 1,
   "metadata": {},
   "outputs": [],
   "source": [
    "import proveit\n",
    "# Automation is not needed when building an expression:\n",
    "proveit.defaults.automation = False # This will speed things up.\n",
    "proveit.defaults.inline_pngs = False # Makes files smaller.\n",
    "# import Expression classes needed to build the expression\n",
    "from proveit.core_expr_types._common_ import A_1_to_m, C_1_to_n\n",
    "from proveit.logic import And, Booleans, Equals, FALSE, Forall"
   ]
  },
  {
   "cell_type": "code",
   "execution_count": 2,
   "metadata": {},
   "outputs": [
    {
     "data": {
      "text/html": [
       "<strong id=\"expr\">expr:</strong> <a class=\"ProveItLink\" href=\"expr.ipynb\"><img src=\"expr.png\" style=\"display:inline;vertical-align:middle;\" /></a><br>"
      ],
      "text/plain": [
       "expr: forall_{A_{1} in BOOLEANS, ..A_{_a} in BOOLEANS.., A_{m} in BOOLEANS, C_{1} in BOOLEANS, ..C_{_a} in BOOLEANS.., C_{n} in BOOLEANS} ((A_{1} and ..A_{_a}.. and A_{m} and FALSE and C_{1} and ..C_{_a}.. and C_{n}) = FALSE)"
      ]
     },
     "execution_count": 2,
     "metadata": {},
     "output_type": "execute_result"
    }
   ],
   "source": [
    "# build up the expression from sub-expressions\n",
    "expr = Forall([A_1_to_m, C_1_to_n], Equals(And(A_1_to_m, FALSE, C_1_to_n), FALSE), domains = [Booleans, Booleans])"
   ]
  },
  {
   "cell_type": "code",
   "execution_count": 3,
   "metadata": {},
   "outputs": [
    {
     "name": "stdout",
     "output_type": "stream",
     "text": [
      "Passed sanity check: built 'expr' is the same as the stored Expression.\n"
     ]
    }
   ],
   "source": [
    "# check that the built expression is the same as the stored expression\n",
    "%check_expr"
   ]
  },
  {
   "cell_type": "code",
   "execution_count": 4,
   "metadata": {},
   "outputs": [
    {
     "name": "stdout",
     "output_type": "stream",
     "text": [
      "\\forall_{A_{1} \\in \\mathbb{B}, \\ldots, A_{m} \\in \\mathbb{B}, C_{1} \\in \\mathbb{B}, \\ldots, C_{n} \\in \\mathbb{B}}~\\left(\\left(A_{1} \\land \\ldots \\land A_{m} \\land \\bot \\land C_{1} \\land \\ldots \\land C_{n}\\right) = \\bot\\right)\n"
     ]
    }
   ],
   "source": [
    "# Show the LaTeX representation of the expression for convenience if you need it.\n",
    "print(expr.latex())"
   ]
  },
  {
   "cell_type": "code",
   "execution_count": 5,
   "metadata": {},
   "outputs": [
    {
     "data": {
      "text/html": [
       "<table><tr><th>&nbsp;</th><th>core type</th><th>sub-expressions</th><th>expression</th></tr>\n",
       "<tr><td>0</td><td>Operation</td><td>operator:&nbsp;1<br>operand:&nbsp;2<br></td><td><a class=\"ProveItLink\" href=\"expr.ipynb\"><img src=\"expr.png\" style=\"display:inline;vertical-align:middle;\" /></a></td></tr>\n",
       "<tr><td>1</td><td>Literal</td><td></td><td><a class=\"ProveItLink\" href=\"../../../quantification/universal/__pv_it/fd9c772d6675566ed52a6897806f45eb08a4ea910/expr.ipynb\"><img src=\"../../../quantification/universal/__pv_it/fd9c772d6675566ed52a6897806f45eb08a4ea910/expr.png\" style=\"display:inline;vertical-align:middle;\" /></a></td></tr>\n",
       "<tr><td>2</td><td>Lambda</td><td>parameters:&nbsp;3<br>body:&nbsp;4<br></td><td><a class=\"ProveItLink\" href=\"../a44f2c2ec8a7e1098b85126c8ac469e695516f770/expr.ipynb\"><img src=\"../a44f2c2ec8a7e1098b85126c8ac469e695516f770/expr.png\" style=\"display:inline;vertical-align:middle;\" /></a></td></tr>\n",
       "<tr><td>3</td><td>ExprTuple</td><td>17, 19</td><td><a class=\"ProveItLink\" href=\"../2f65616942dd3a8e7a50d348fef96ed2be54fadc0/expr.ipynb\"><img src=\"../2f65616942dd3a8e7a50d348fef96ed2be54fadc0/expr.png\" style=\"display:inline;vertical-align:middle;\" /></a></td></tr>\n",
       "<tr><td>4</td><td>Conditional</td><td>value:&nbsp;5<br>condition:&nbsp;6<br></td><td><a class=\"ProveItLink\" href=\"../2b1e551b84e61fe9575e2c7c6f728c97707d7ad50/expr.ipynb\"><img src=\"../2b1e551b84e61fe9575e2c7c6f728c97707d7ad50/expr.png\" style=\"display:inline;vertical-align:middle;\" /></a></td></tr>\n",
       "<tr><td>5</td><td>Operation</td><td>operator:&nbsp;7<br>operands:&nbsp;8<br></td><td><a class=\"ProveItLink\" href=\"../bb3b13aee71149c326518f85c4b9ef1784cc46880/expr.ipynb\"><img src=\"../bb3b13aee71149c326518f85c4b9ef1784cc46880/expr.png\" style=\"display:inline;vertical-align:middle;\" /></a></td></tr>\n",
       "<tr><td>6</td><td>Operation</td><td>operator:&nbsp;13<br>operands:&nbsp;9<br></td><td><a class=\"ProveItLink\" href=\"../150fdec83eecb9841779a8d55a2b488bf8d7a9b50/expr.ipynb\"><img src=\"../150fdec83eecb9841779a8d55a2b488bf8d7a9b50/expr.png\" style=\"display:inline;vertical-align:middle;\" /></a></td></tr>\n",
       "<tr><td>7</td><td>Literal</td><td></td><td><a class=\"ProveItLink\" href=\"../../../../equality/__pv_it/e16d2caa26a16688b658bdb9c422caf4b84579e10/expr.ipynb\"><img src=\"../../../../equality/__pv_it/e16d2caa26a16688b658bdb9c422caf4b84579e10/expr.png\" style=\"display:inline;vertical-align:middle;\" /></a></td></tr>\n",
       "<tr><td>8</td><td>ExprTuple</td><td>10, 18</td><td><a class=\"ProveItLink\" href=\"../4951697b019188ef71e7628bf9d30deabb505fa20/expr.ipynb\"><img src=\"../4951697b019188ef71e7628bf9d30deabb505fa20/expr.png\" style=\"display:inline;vertical-align:middle;\" /></a></td></tr>\n",
       "<tr><td>9</td><td>ExprTuple</td><td>11, 12</td><td><a class=\"ProveItLink\" href=\"../732aa3128c051398e0608d22b83de194d35fd0e20/expr.ipynb\"><img src=\"../732aa3128c051398e0608d22b83de194d35fd0e20/expr.png\" style=\"display:inline;vertical-align:middle;\" /></a></td></tr>\n",
       "<tr><td>10</td><td>Operation</td><td>operator:&nbsp;13<br>operands:&nbsp;14<br></td><td><a class=\"ProveItLink\" href=\"../cf3df65773712b4bec6a4d2fc10b1e9fcb90fe880/expr.ipynb\"><img src=\"../cf3df65773712b4bec6a4d2fc10b1e9fcb90fe880/expr.png\" style=\"display:inline;vertical-align:middle;\" /></a></td></tr>\n",
       "<tr><td>11</td><td>ExprRange</td><td>lambda_map:&nbsp;15<br>start_index:&nbsp;25<br>end_index:&nbsp;23<br></td><td><a class=\"ProveItLink\" href=\"../2bab02ebc31c30749fd2730df8ef97663d6a10e30/expr.ipynb\"><img src=\"../2bab02ebc31c30749fd2730df8ef97663d6a10e30/expr.png\" style=\"display:inline;vertical-align:middle;\" /></a></td></tr>\n",
       "<tr><td>12</td><td>ExprRange</td><td>lambda_map:&nbsp;16<br>start_index:&nbsp;25<br>end_index:&nbsp;26<br></td><td><a class=\"ProveItLink\" href=\"../f8e407de585bf0463695b8d4719c39b2495027f30/expr.ipynb\"><img src=\"../f8e407de585bf0463695b8d4719c39b2495027f30/expr.png\" style=\"display:inline;vertical-align:middle;\" /></a></td></tr>\n",
       "<tr><td>13</td><td>Literal</td><td></td><td><a class=\"ProveItLink\" href=\"../f41cc6b553210927c09f19a8a39cdf860a5585930/expr.ipynb\"><img src=\"../f41cc6b553210927c09f19a8a39cdf860a5585930/expr.png\" style=\"display:inline;vertical-align:middle;\" /></a></td></tr>\n",
       "<tr><td>14</td><td>ExprTuple</td><td>17, 18, 19</td><td><a class=\"ProveItLink\" href=\"../e909bcabb9e21339945d45c437fc789d520c0cbb0/expr.ipynb\"><img src=\"../e909bcabb9e21339945d45c437fc789d520c0cbb0/expr.png\" style=\"display:inline;vertical-align:middle;\" /></a></td></tr>\n",
       "<tr><td>15</td><td>Lambda</td><td>parameter:&nbsp;35<br>body:&nbsp;20<br></td><td><a class=\"ProveItLink\" href=\"../e462da948a3a649da62f5e332c58e1cc7cc8ef480/expr.ipynb\"><img src=\"../e462da948a3a649da62f5e332c58e1cc7cc8ef480/expr.png\" style=\"display:inline;vertical-align:middle;\" /></a></td></tr>\n",
       "<tr><td>16</td><td>Lambda</td><td>parameter:&nbsp;35<br>body:&nbsp;21<br></td><td><a class=\"ProveItLink\" href=\"../499ec4d50567f291cc37a4a3d05aa3d2786cd6ca0/expr.ipynb\"><img src=\"../499ec4d50567f291cc37a4a3d05aa3d2786cd6ca0/expr.png\" style=\"display:inline;vertical-align:middle;\" /></a></td></tr>\n",
       "<tr><td>17</td><td>ExprRange</td><td>lambda_map:&nbsp;22<br>start_index:&nbsp;25<br>end_index:&nbsp;23<br></td><td><a class=\"ProveItLink\" href=\"../../../../../core_expr_types/__pv_it/1b1836f58ac701e2bebc4117b7c7261052ae85ae0/expr.ipynb\"><img src=\"../../../../../core_expr_types/__pv_it/1b1836f58ac701e2bebc4117b7c7261052ae85ae0/expr.png\" style=\"display:inline;vertical-align:middle;\" /></a></td></tr>\n",
       "<tr><td>18</td><td>Literal</td><td></td><td><a class=\"ProveItLink\" href=\"../../../__pv_it/83a1ddf0f64531c80e7f41ea6b904214668818b30/expr.ipynb\"><img src=\"../../../__pv_it/83a1ddf0f64531c80e7f41ea6b904214668818b30/expr.png\" style=\"display:inline;vertical-align:middle;\" /></a></td></tr>\n",
       "<tr><td>19</td><td>ExprRange</td><td>lambda_map:&nbsp;24<br>start_index:&nbsp;25<br>end_index:&nbsp;26<br></td><td><a class=\"ProveItLink\" href=\"../../../../../core_expr_types/__pv_it/4f07bf761c2070b42d61d3523fc3908a9fcc11930/expr.ipynb\"><img src=\"../../../../../core_expr_types/__pv_it/4f07bf761c2070b42d61d3523fc3908a9fcc11930/expr.png\" style=\"display:inline;vertical-align:middle;\" /></a></td></tr>\n",
       "<tr><td>20</td><td>Operation</td><td>operator:&nbsp;28<br>operands:&nbsp;27<br></td><td><a class=\"ProveItLink\" href=\"../f777912892d36c4da6d4f3cf378a718568ef0dcc0/expr.ipynb\"><img src=\"../f777912892d36c4da6d4f3cf378a718568ef0dcc0/expr.png\" style=\"display:inline;vertical-align:middle;\" /></a></td></tr>\n",
       "<tr><td>21</td><td>Operation</td><td>operator:&nbsp;28<br>operands:&nbsp;29<br></td><td><a class=\"ProveItLink\" href=\"../a62db14c1b2f94d60e9e7849027930816f572b090/expr.ipynb\"><img src=\"../a62db14c1b2f94d60e9e7849027930816f572b090/expr.png\" style=\"display:inline;vertical-align:middle;\" /></a></td></tr>\n",
       "<tr><td>22</td><td>Lambda</td><td>parameter:&nbsp;35<br>body:&nbsp;30<br></td><td><a class=\"ProveItLink\" href=\"../../../../../core_expr_types/__pv_it/cbf4a2d6122f8f76eeb36bd1c0d8bf52d8e05a560/expr.ipynb\"><img src=\"../../../../../core_expr_types/__pv_it/cbf4a2d6122f8f76eeb36bd1c0d8bf52d8e05a560/expr.png\" style=\"display:inline;vertical-align:middle;\" /></a></td></tr>\n",
       "<tr><td>23</td><td>Variable</td><td></td><td><a class=\"ProveItLink\" href=\"../../../../../__pv_it/6e8a38e9a7e2b6af352562cd77e0eb4751f142620/expr.ipynb\"><img src=\"../../../../../__pv_it/6e8a38e9a7e2b6af352562cd77e0eb4751f142620/expr.png\" style=\"display:inline;vertical-align:middle;\" /></a></td></tr>\n",
       "<tr><td>24</td><td>Lambda</td><td>parameter:&nbsp;35<br>body:&nbsp;31<br></td><td><a class=\"ProveItLink\" href=\"../../../../../core_expr_types/__pv_it/1f1f93a97ffa923da2b370597cfe676c10d3dee70/expr.ipynb\"><img src=\"../../../../../core_expr_types/__pv_it/1f1f93a97ffa923da2b370597cfe676c10d3dee70/expr.png\" style=\"display:inline;vertical-align:middle;\" /></a></td></tr>\n",
       "<tr><td>25</td><td>Literal</td><td></td><td><a class=\"ProveItLink\" href=\"../../../../../number/numeral/__pv_it/f086f8c372bd40a2458306ddfdbb29f3dc6f63030/expr.ipynb\"><img src=\"../../../../../number/numeral/__pv_it/f086f8c372bd40a2458306ddfdbb29f3dc6f63030/expr.png\" style=\"display:inline;vertical-align:middle;\" /></a></td></tr>\n",
       "<tr><td>26</td><td>Variable</td><td></td><td><a class=\"ProveItLink\" href=\"../../../../../__pv_it/0c1c4cb515e0f4344b1ac06650f349123e526deb0/expr.ipynb\"><img src=\"../../../../../__pv_it/0c1c4cb515e0f4344b1ac06650f349123e526deb0/expr.png\" style=\"display:inline;vertical-align:middle;\" /></a></td></tr>\n",
       "<tr><td>27</td><td>ExprTuple</td><td>30, 32</td><td><a class=\"ProveItLink\" href=\"../3cbf41968ea3876165a26f7dcceb2975b91a45470/expr.ipynb\"><img src=\"../3cbf41968ea3876165a26f7dcceb2975b91a45470/expr.png\" style=\"display:inline;vertical-align:middle;\" /></a></td></tr>\n",
       "<tr><td>28</td><td>Literal</td><td></td><td><a class=\"ProveItLink\" href=\"../../../../set_theory/membership/__pv_it/7776fc89cb67d0b5b1ec2c0c8e08da5587921ccf0/expr.ipynb\"><img src=\"../../../../set_theory/membership/__pv_it/7776fc89cb67d0b5b1ec2c0c8e08da5587921ccf0/expr.png\" style=\"display:inline;vertical-align:middle;\" /></a></td></tr>\n",
       "<tr><td>29</td><td>ExprTuple</td><td>31, 32</td><td><a class=\"ProveItLink\" href=\"../7a01e26d9e0e37347482e030763b985c591503280/expr.ipynb\"><img src=\"../7a01e26d9e0e37347482e030763b985c591503280/expr.png\" style=\"display:inline;vertical-align:middle;\" /></a></td></tr>\n",
       "<tr><td>30</td><td>IndexedVar</td><td>variable:&nbsp;33<br>index:&nbsp;35<br></td><td><a class=\"ProveItLink\" href=\"../../../../../core_expr_types/__pv_it/a433d6021a2b0d85d326303b1d692b18969c0dc30/expr.ipynb\"><img src=\"../../../../../core_expr_types/__pv_it/a433d6021a2b0d85d326303b1d692b18969c0dc30/expr.png\" style=\"display:inline;vertical-align:middle;\" /></a></td></tr>\n",
       "<tr><td>31</td><td>IndexedVar</td><td>variable:&nbsp;34<br>index:&nbsp;35<br></td><td><a class=\"ProveItLink\" href=\"../../../../../core_expr_types/__pv_it/3b86bd3b2e16136132e508dd7cfa1ad89a15b7bf0/expr.ipynb\"><img src=\"../../../../../core_expr_types/__pv_it/3b86bd3b2e16136132e508dd7cfa1ad89a15b7bf0/expr.png\" style=\"display:inline;vertical-align:middle;\" /></a></td></tr>\n",
       "<tr><td>32</td><td>Literal</td><td></td><td><a class=\"ProveItLink\" href=\"../../../__pv_it/a3b387936f605fef1b535be3e1116cca8bbfc91b0/expr.ipynb\"><img src=\"../../../__pv_it/a3b387936f605fef1b535be3e1116cca8bbfc91b0/expr.png\" style=\"display:inline;vertical-align:middle;\" /></a></td></tr>\n",
       "<tr><td>33</td><td>Variable</td><td></td><td><a class=\"ProveItLink\" href=\"../../../../../__pv_it/d3792d0d8642fdf1cd2a3a9b32c673ee13653de00/expr.ipynb\"><img src=\"../../../../../__pv_it/d3792d0d8642fdf1cd2a3a9b32c673ee13653de00/expr.png\" style=\"display:inline;vertical-align:middle;\" /></a></td></tr>\n",
       "<tr><td>34</td><td>Variable</td><td></td><td><a class=\"ProveItLink\" href=\"../../../../../__pv_it/dcb5a3e430485237dfe486162b026a4affb149300/expr.ipynb\"><img src=\"../../../../../__pv_it/dcb5a3e430485237dfe486162b026a4affb149300/expr.png\" style=\"display:inline;vertical-align:middle;\" /></a></td></tr>\n",
       "<tr><td>35</td><td>Variable</td><td></td><td><a class=\"ProveItLink\" href=\"../../../../../core_expr_types/__pv_it/1e653f789234b245ee7fea7caad998c139d617410/expr.ipynb\"><img src=\"../../../../../core_expr_types/__pv_it/1e653f789234b245ee7fea7caad998c139d617410/expr.png\" style=\"display:inline;vertical-align:middle;\" /></a></td></tr>\n",
       "</table>\n"
      ],
      "text/plain": [
       "0. forall_{A_{1} in BOOLEANS, ..A_{_a} in BOOLEANS.., A_{m} in BOOLEANS, C_{1} in BOOLEANS, ..C_{_a} in BOOLEANS.., C_{n} in BOOLEANS} ((A_{1} and ..A_{_a}.. and A_{m} and FALSE and C_{1} and ..C_{_a}.. and C_{n}) = FALSE)\n",
       "   core type: Operation\n",
       "   operator: 1\n",
       "   operand: 2\n",
       "1. forall\n",
       "   core type: Literal\n",
       "   sub-expressions: \n",
       "2. (A_{1}, ..A_{_a}.., A_{m}, C_{1}, ..C_{_a}.., C_{n}) -> {(A_{1} and ..A_{_a}.. and A_{m} and FALSE and C_{1} and ..C_{_a}.. and C_{n}) = FALSE if A_{1} in BOOLEANS ,  ..A_{_a} in BOOLEANS.. ,  A_{m} in BOOLEANS ,  C_{1} in BOOLEANS ,  ..C_{_a} in BOOLEANS.. ,  C_{n} in BOOLEANS.\n",
       "   core type: Lambda\n",
       "   parameters: 3\\n   body: 4\n",
       "3. (A_{1}, ..A_{_a}.., A_{m}, C_{1}, ..C_{_a}.., C_{n})\n",
       "   core type: ExprTuple\n",
       "   sub-expressions: 17, 19\n",
       "4. {(A_{1} and ..A_{_a}.. and A_{m} and FALSE and C_{1} and ..C_{_a}.. and C_{n}) = FALSE if A_{1} in BOOLEANS ,  ..A_{_a} in BOOLEANS.. ,  A_{m} in BOOLEANS ,  C_{1} in BOOLEANS ,  ..C_{_a} in BOOLEANS.. ,  C_{n} in BOOLEANS.\n",
       "   core type: Conditional\n",
       "   value: 5\n",
       "   condition: 6\n",
       "5. (A_{1} and ..A_{_a}.. and A_{m} and FALSE and C_{1} and ..C_{_a}.. and C_{n}) = FALSE\n",
       "   core type: Operation\n",
       "   operator: 7\n",
       "   operands: 8\n",
       "6. (A_{1} in BOOLEANS) and ..(A_{_a} in BOOLEANS).. and (A_{m} in BOOLEANS) and (C_{1} in BOOLEANS) and ..(C_{_a} in BOOLEANS).. and (C_{n} in BOOLEANS)\n",
       "   core type: Operation\n",
       "   operator: 13\n",
       "   operands: 9\n",
       "7. =\n",
       "   core type: Literal\n",
       "   sub-expressions: \n",
       "8. (A_{1} and ..A_{_a}.. and A_{m} and FALSE and C_{1} and ..C_{_a}.. and C_{n}, FALSE)\n",
       "   core type: ExprTuple\n",
       "   sub-expressions: 10, 18\n",
       "9. (A_{1} in BOOLEANS, ..A_{_a} in BOOLEANS.., A_{m} in BOOLEANS, C_{1} in BOOLEANS, ..C_{_a} in BOOLEANS.., C_{n} in BOOLEANS)\n",
       "   core type: ExprTuple\n",
       "   sub-expressions: 11, 12\n",
       "10. A_{1} and ..A_{_a}.. and A_{m} and FALSE and C_{1} and ..C_{_a}.. and C_{n}\n",
       "    core type: Operation\n",
       "    operator: 13\n",
       "    operands: 14\n",
       "11. (A_{1} in BOOLEANS), ..(A_{_a} in BOOLEANS).., (A_{m} in BOOLEANS)\n",
       "    core type: ExprRange\n",
       "    lambda_map: 15\n",
       "    start_index: 25\n",
       "    end_index: 23\n",
       "12. (C_{1} in BOOLEANS), ..(C_{_a} in BOOLEANS).., (C_{n} in BOOLEANS)\n",
       "    core type: ExprRange\n",
       "    lambda_map: 16\n",
       "    start_index: 25\n",
       "    end_index: 26\n",
       "13. and\n",
       "    core type: Literal\n",
       "    sub-expressions: \n",
       "14. (A_{1}, ..A_{_a}.., A_{m}, FALSE, C_{1}, ..C_{_a}.., C_{n})\n",
       "    core type: ExprTuple\n",
       "    sub-expressions: 17, 18, 19\n",
       "15. _a -> (A_{_a} in BOOLEANS)\n",
       "    core type: Lambda\n",
       "    parameter: 35\n",
       "    body: 20\n",
       "16. _a -> (C_{_a} in BOOLEANS)\n",
       "    core type: Lambda\n",
       "    parameter: 35\n",
       "    body: 21\n",
       "17. A_{1}, ..A_{_a}.., A_{m}\n",
       "    core type: ExprRange\n",
       "    lambda_map: 22\n",
       "    start_index: 25\n",
       "    end_index: 23\n",
       "18. FALSE\n",
       "    core type: Literal\n",
       "    sub-expressions: \n",
       "19. C_{1}, ..C_{_a}.., C_{n}\n",
       "    core type: ExprRange\n",
       "    lambda_map: 24\n",
       "    start_index: 25\n",
       "    end_index: 26\n",
       "20. A_{_a} in BOOLEANS\n",
       "    core type: Operation\n",
       "    operator: 28\n",
       "    operands: 27\n",
       "21. C_{_a} in BOOLEANS\n",
       "    core type: Operation\n",
       "    operator: 28\n",
       "    operands: 29\n",
       "22. _a -> A_{_a}\n",
       "    core type: Lambda\n",
       "    parameter: 35\n",
       "    body: 30\n",
       "23. m\n",
       "    core type: Variable\n",
       "    sub-expressions: \n",
       "24. _a -> C_{_a}\n",
       "    core type: Lambda\n",
       "    parameter: 35\n",
       "    body: 31\n",
       "25. 1\n",
       "    core type: Literal\n",
       "    sub-expressions: \n",
       "26. n\n",
       "    core type: Variable\n",
       "    sub-expressions: \n",
       "27. (A_{_a}, BOOLEANS)\n",
       "    core type: ExprTuple\n",
       "    sub-expressions: 30, 32\n",
       "28. in\n",
       "    core type: Literal\n",
       "    sub-expressions: \n",
       "29. (C_{_a}, BOOLEANS)\n",
       "    core type: ExprTuple\n",
       "    sub-expressions: 31, 32\n",
       "30. A_{_a}\n",
       "    core type: IndexedVar\n",
       "variable: 33\n",
       "index: 35\n",
       "31. C_{_a}\n",
       "    core type: IndexedVar\n",
       "variable: 34\n",
       "index: 35\n",
       "32. BOOLEANS\n",
       "    core type: Literal\n",
       "    sub-expressions: \n",
       "33. A\n",
       "    core type: Variable\n",
       "    sub-expressions: \n",
       "34. C\n",
       "    core type: Variable\n",
       "    sub-expressions: \n",
       "35. _a\n",
       "    core type: Variable\n",
       "    sub-expressions: "
      ]
     },
     "execution_count": 5,
     "metadata": {},
     "output_type": "execute_result"
    }
   ],
   "source": [
    "# display the expression information\n",
    "expr.exprInfo()"
   ]
  },
  {
   "cell_type": "code",
   "execution_count": null,
   "metadata": {},
   "outputs": [],
   "source": []
  }
 ],
 "metadata": {
  "kernelspec": {
   "display_name": "Python 3",
   "language": "python",
   "name": "python3"
  },
  "language_info": {
   "codemirror_mode": {
    "name": "ipython",
    "version": 3
   },
   "file_extension": ".py",
   "mimetype": "text/x-python",
   "name": "python",
   "nbconvert_exporter": "python",
   "pygments_lexer": "ipython3",
   "version": "3.7.3"
  }
 },
 "nbformat": 4,
 "nbformat_minor": 1
}
