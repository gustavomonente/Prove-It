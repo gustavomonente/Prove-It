{
 "cells": [
  {
   "cell_type": "markdown",
   "metadata": {},
   "source": [
    "Expression of type <a class=\"ProveItLink\" href=\"../../../../../../../doc/html/api/proveit.Lambda.html\">Lambda</a>\n",
    "=======================\n",
    "# from context <a class=\"ProveItLink\" href=\"../../_context_.ipynb\">proveit.logic.boolean.conjunction</a>"
   ]
  },
  {
   "cell_type": "code",
   "execution_count": 1,
   "metadata": {},
   "outputs": [],
   "source": [
    "import proveit\n",
    "# Automation is not needed when building an expression:\n",
    "proveit.defaults.automation = False # This will speed things up.\n",
    "proveit.defaults.inline_pngs = False # Makes files smaller.\n",
    "# import Expression classes needed to build the expression\n",
    "from proveit import Conditional, Lambda\n",
    "from proveit._common_ import B, m, n\n",
    "from proveit.core_expr_types._common_ import A_1_to_m, C_1_to_n\n",
    "from proveit.logic import And, Forall, InSet, Not\n",
    "from proveit.number import Naturals"
   ]
  },
  {
   "cell_type": "code",
   "execution_count": 2,
   "metadata": {},
   "outputs": [
    {
     "data": {
      "text/html": [
       "<strong id=\"expr\">expr:</strong> <a class=\"ProveItLink\" href=\"../96ac3d5e5252397c0b2e900dcce71e35f44adc610/expr.ipynb\"><img src=\"../96ac3d5e5252397c0b2e900dcce71e35f44adc610/expr.png\" style=\"display:inline;vertical-align:middle;\" /></a><br>"
      ],
      "text/plain": [
       "expr: (m, n) -> {forall_{A_{1}, ..A_{_a}.., A_{m}, B, C_{1}, ..C_{_a}.., C_{n} | [not](B)} [not](A_{1} and ..A_{_a}.. and A_{m} and B and C_{1} and ..C_{_a}.. and C_{n}) if m in Naturals ,  n in Naturals."
      ]
     },
     "execution_count": 2,
     "metadata": {},
     "output_type": "execute_result"
    }
   ],
   "source": [
    "# build up the expression from sub-expressions\n",
    "expr = Lambda([m, n], Conditional(Forall([A_1_to_m, B, C_1_to_n], Not(And(A_1_to_m, B, C_1_to_n)), condition = Not(B)), And(InSet(m, Naturals), InSet(n, Naturals))))"
   ]
  },
  {
   "cell_type": "code",
   "execution_count": 3,
   "metadata": {},
   "outputs": [
    {
     "name": "stdout",
     "output_type": "stream",
     "text": [
      "Passed sanity check: built 'expr' is the same as the stored Expression.\n"
     ]
    }
   ],
   "source": [
    "# check that the built expression is the same as the stored expression\n",
    "%check_expr"
   ]
  },
  {
   "cell_type": "code",
   "execution_count": 4,
   "metadata": {},
   "outputs": [
    {
     "name": "stdout",
     "output_type": "stream",
     "text": [
      "\\left(m, n\\right) \\mapsto \\left\\{\\forall_{A_{1}, \\ldots, A_{m}, B, C_{1}, \\ldots, C_{n}~|~\\lnot B}~(\\lnot \\left(A_{1} \\land \\ldots \\land A_{m} \\land B \\land C_{1} \\land \\ldots \\land C_{n}\\right)) \\textrm{ if } m \\in \\mathbb{N} ,  n \\in \\mathbb{N}\\right..\n"
     ]
    }
   ],
   "source": [
    "# Show the LaTeX representation of the expression for convenience if you need it.\n",
    "print(expr.latex())"
   ]
  },
  {
   "cell_type": "code",
   "execution_count": 5,
   "metadata": {},
   "outputs": [
    {
     "data": {
      "text/html": [
       "<table><tr><th>&nbsp;</th><th>core type</th><th>sub-expressions</th><th>expression</th></tr>\n",
       "<tr><td>0</td><td>Lambda</td><td>parameters:&nbsp;1<br>body:&nbsp;2<br></td><td><a class=\"ProveItLink\" href=\"../96ac3d5e5252397c0b2e900dcce71e35f44adc610/expr.ipynb\"><img src=\"../96ac3d5e5252397c0b2e900dcce71e35f44adc610/expr.png\" style=\"display:inline;vertical-align:middle;\" /></a></td></tr>\n",
       "<tr><td>1</td><td>ExprTuple</td><td>25, 28</td><td><a class=\"ProveItLink\" href=\"../275997a66c6a7319792802dbdfe4217fa64681ae0/expr.ipynb\"><img src=\"../275997a66c6a7319792802dbdfe4217fa64681ae0/expr.png\" style=\"display:inline;vertical-align:middle;\" /></a></td></tr>\n",
       "<tr><td>2</td><td>Conditional</td><td>value:&nbsp;3<br>condition:&nbsp;4<br></td><td><a class=\"ProveItLink\" href=\"../b407ecd56a517fe929b5444bfe1510f44eba0ae60/expr.ipynb\"><img src=\"../b407ecd56a517fe929b5444bfe1510f44eba0ae60/expr.png\" style=\"display:inline;vertical-align:middle;\" /></a></td></tr>\n",
       "<tr><td>3</td><td>Operation</td><td>operator:&nbsp;5<br>operand:&nbsp;6<br></td><td><a class=\"ProveItLink\" href=\"../2601720f3965bcbf2f6697c49165988cafc09af30/expr.ipynb\"><img src=\"../2601720f3965bcbf2f6697c49165988cafc09af30/expr.png\" style=\"display:inline;vertical-align:middle;\" /></a></td></tr>\n",
       "<tr><td>4</td><td>Operation</td><td>operator:&nbsp;19<br>operands:&nbsp;7<br></td><td><a class=\"ProveItLink\" href=\"../40c59f874a6d40ea5e1203fd065396f951af05370/expr.ipynb\"><img src=\"../40c59f874a6d40ea5e1203fd065396f951af05370/expr.png\" style=\"display:inline;vertical-align:middle;\" /></a></td></tr>\n",
       "<tr><td>5</td><td>Literal</td><td></td><td><a class=\"ProveItLink\" href=\"../../../quantification/universal/__pv_it/fd9c772d6675566ed52a6897806f45eb08a4ea910/expr.ipynb\"><img src=\"../../../quantification/universal/__pv_it/fd9c772d6675566ed52a6897806f45eb08a4ea910/expr.png\" style=\"display:inline;vertical-align:middle;\" /></a></td></tr>\n",
       "<tr><td>6</td><td>Lambda</td><td>parameters:&nbsp;20<br>body:&nbsp;8<br></td><td><a class=\"ProveItLink\" href=\"../b9cd08902386e926853117403e4b53ac1489e99d0/expr.ipynb\"><img src=\"../b9cd08902386e926853117403e4b53ac1489e99d0/expr.png\" style=\"display:inline;vertical-align:middle;\" /></a></td></tr>\n",
       "<tr><td>7</td><td>ExprTuple</td><td>9, 10</td><td><a class=\"ProveItLink\" href=\"../7d47852f5f2840db92e1d08ee1d4f8a98053bc900/expr.ipynb\"><img src=\"../7d47852f5f2840db92e1d08ee1d4f8a98053bc900/expr.png\" style=\"display:inline;vertical-align:middle;\" /></a></td></tr>\n",
       "<tr><td>8</td><td>Conditional</td><td>value:&nbsp;11<br>condition:&nbsp;12<br></td><td><a class=\"ProveItLink\" href=\"../025e90c9ae63024e48e122bde48c3053fdcdb64b0/expr.ipynb\"><img src=\"../025e90c9ae63024e48e122bde48c3053fdcdb64b0/expr.png\" style=\"display:inline;vertical-align:middle;\" /></a></td></tr>\n",
       "<tr><td>9</td><td>Operation</td><td>operator:&nbsp;14<br>operands:&nbsp;13<br></td><td><a class=\"ProveItLink\" href=\"../ad11778942ef0375d86b1f7877fe8941c18aa1e90/expr.ipynb\"><img src=\"../ad11778942ef0375d86b1f7877fe8941c18aa1e90/expr.png\" style=\"display:inline;vertical-align:middle;\" /></a></td></tr>\n",
       "<tr><td>10</td><td>Operation</td><td>operator:&nbsp;14<br>operands:&nbsp;15<br></td><td><a class=\"ProveItLink\" href=\"../2cf8e15839f3241ee91ee5160b94bb56314115740/expr.ipynb\"><img src=\"../2cf8e15839f3241ee91ee5160b94bb56314115740/expr.png\" style=\"display:inline;vertical-align:middle;\" /></a></td></tr>\n",
       "<tr><td>11</td><td>Operation</td><td>operator:&nbsp;17<br>operand:&nbsp;16<br></td><td><a class=\"ProveItLink\" href=\"../2609931bdf0a7c3439396a3066fa3e28ea0943780/expr.ipynb\"><img src=\"../2609931bdf0a7c3439396a3066fa3e28ea0943780/expr.png\" style=\"display:inline;vertical-align:middle;\" /></a></td></tr>\n",
       "<tr><td>12</td><td>Operation</td><td>operator:&nbsp;17<br>operand:&nbsp;22<br></td><td><a class=\"ProveItLink\" href=\"../86f671dd514f6e615234986d96edb2c4ebb473e30/expr.ipynb\"><img src=\"../86f671dd514f6e615234986d96edb2c4ebb473e30/expr.png\" style=\"display:inline;vertical-align:middle;\" /></a></td></tr>\n",
       "<tr><td>13</td><td>ExprTuple</td><td>25, 18</td><td><a class=\"ProveItLink\" href=\"../13263128595eab3cbb0d7b226b8f6e6eda0ba9a40/expr.ipynb\"><img src=\"../13263128595eab3cbb0d7b226b8f6e6eda0ba9a40/expr.png\" style=\"display:inline;vertical-align:middle;\" /></a></td></tr>\n",
       "<tr><td>14</td><td>Literal</td><td></td><td><a class=\"ProveItLink\" href=\"../../../../set_theory/membership/__pv_it/7776fc89cb67d0b5b1ec2c0c8e08da5587921ccf0/expr.ipynb\"><img src=\"../../../../set_theory/membership/__pv_it/7776fc89cb67d0b5b1ec2c0c8e08da5587921ccf0/expr.png\" style=\"display:inline;vertical-align:middle;\" /></a></td></tr>\n",
       "<tr><td>15</td><td>ExprTuple</td><td>28, 18</td><td><a class=\"ProveItLink\" href=\"../1cec7219484835bb1a8f99347b9938cdf616708c0/expr.ipynb\"><img src=\"../1cec7219484835bb1a8f99347b9938cdf616708c0/expr.png\" style=\"display:inline;vertical-align:middle;\" /></a></td></tr>\n",
       "<tr><td>16</td><td>Operation</td><td>operator:&nbsp;19<br>operands:&nbsp;20<br></td><td><a class=\"ProveItLink\" href=\"../2149da613614025bae6179755f96b10602844a260/expr.ipynb\"><img src=\"../2149da613614025bae6179755f96b10602844a260/expr.png\" style=\"display:inline;vertical-align:middle;\" /></a></td></tr>\n",
       "<tr><td>17</td><td>Literal</td><td></td><td><a class=\"ProveItLink\" href=\"../../../negation/__pv_it/d347242e9ffe8b0d3a039ea6a149983fef6cbe6c0/expr.ipynb\"><img src=\"../../../negation/__pv_it/d347242e9ffe8b0d3a039ea6a149983fef6cbe6c0/expr.png\" style=\"display:inline;vertical-align:middle;\" /></a></td></tr>\n",
       "<tr><td>18</td><td>Literal</td><td></td><td><a class=\"ProveItLink\" href=\"../../../../../number/sets/integer/__pv_it/b49c37b99b7e8d73a8d7971bcf454d693b90a2c60/expr.ipynb\"><img src=\"../../../../../number/sets/integer/__pv_it/b49c37b99b7e8d73a8d7971bcf454d693b90a2c60/expr.png\" style=\"display:inline;vertical-align:middle;\" /></a></td></tr>\n",
       "<tr><td>19</td><td>Literal</td><td></td><td><a class=\"ProveItLink\" href=\"../f41cc6b553210927c09f19a8a39cdf860a5585930/expr.ipynb\"><img src=\"../f41cc6b553210927c09f19a8a39cdf860a5585930/expr.png\" style=\"display:inline;vertical-align:middle;\" /></a></td></tr>\n",
       "<tr><td>20</td><td>ExprTuple</td><td>21, 22, 23</td><td><a class=\"ProveItLink\" href=\"../98e42a2044d3519e5284fc65758012508d4b9de00/expr.ipynb\"><img src=\"../98e42a2044d3519e5284fc65758012508d4b9de00/expr.png\" style=\"display:inline;vertical-align:middle;\" /></a></td></tr>\n",
       "<tr><td>21</td><td>ExprRange</td><td>lambda_map:&nbsp;24<br>start_index:&nbsp;27<br>end_index:&nbsp;25<br></td><td><a class=\"ProveItLink\" href=\"../../../../../core_expr_types/__pv_it/1b1836f58ac701e2bebc4117b7c7261052ae85ae0/expr.ipynb\"><img src=\"../../../../../core_expr_types/__pv_it/1b1836f58ac701e2bebc4117b7c7261052ae85ae0/expr.png\" style=\"display:inline;vertical-align:middle;\" /></a></td></tr>\n",
       "<tr><td>22</td><td>Variable</td><td></td><td><a class=\"ProveItLink\" href=\"../../../../../__pv_it/4d98b438710c5ada9ffa4646bb123a7d0e69ec000/expr.ipynb\"><img src=\"../../../../../__pv_it/4d98b438710c5ada9ffa4646bb123a7d0e69ec000/expr.png\" style=\"display:inline;vertical-align:middle;\" /></a></td></tr>\n",
       "<tr><td>23</td><td>ExprRange</td><td>lambda_map:&nbsp;26<br>start_index:&nbsp;27<br>end_index:&nbsp;28<br></td><td><a class=\"ProveItLink\" href=\"../../../../../core_expr_types/__pv_it/4f07bf761c2070b42d61d3523fc3908a9fcc11930/expr.ipynb\"><img src=\"../../../../../core_expr_types/__pv_it/4f07bf761c2070b42d61d3523fc3908a9fcc11930/expr.png\" style=\"display:inline;vertical-align:middle;\" /></a></td></tr>\n",
       "<tr><td>24</td><td>Lambda</td><td>parameter:&nbsp;33<br>body:&nbsp;29<br></td><td><a class=\"ProveItLink\" href=\"../../../../../core_expr_types/__pv_it/cbf4a2d6122f8f76eeb36bd1c0d8bf52d8e05a560/expr.ipynb\"><img src=\"../../../../../core_expr_types/__pv_it/cbf4a2d6122f8f76eeb36bd1c0d8bf52d8e05a560/expr.png\" style=\"display:inline;vertical-align:middle;\" /></a></td></tr>\n",
       "<tr><td>25</td><td>Variable</td><td></td><td><a class=\"ProveItLink\" href=\"../../../../../__pv_it/6e8a38e9a7e2b6af352562cd77e0eb4751f142620/expr.ipynb\"><img src=\"../../../../../__pv_it/6e8a38e9a7e2b6af352562cd77e0eb4751f142620/expr.png\" style=\"display:inline;vertical-align:middle;\" /></a></td></tr>\n",
       "<tr><td>26</td><td>Lambda</td><td>parameter:&nbsp;33<br>body:&nbsp;30<br></td><td><a class=\"ProveItLink\" href=\"../../../../../core_expr_types/__pv_it/1f1f93a97ffa923da2b370597cfe676c10d3dee70/expr.ipynb\"><img src=\"../../../../../core_expr_types/__pv_it/1f1f93a97ffa923da2b370597cfe676c10d3dee70/expr.png\" style=\"display:inline;vertical-align:middle;\" /></a></td></tr>\n",
       "<tr><td>27</td><td>Literal</td><td></td><td><a class=\"ProveItLink\" href=\"../../../../../number/numeral/__pv_it/f086f8c372bd40a2458306ddfdbb29f3dc6f63030/expr.ipynb\"><img src=\"../../../../../number/numeral/__pv_it/f086f8c372bd40a2458306ddfdbb29f3dc6f63030/expr.png\" style=\"display:inline;vertical-align:middle;\" /></a></td></tr>\n",
       "<tr><td>28</td><td>Variable</td><td></td><td><a class=\"ProveItLink\" href=\"../../../../../__pv_it/0c1c4cb515e0f4344b1ac06650f349123e526deb0/expr.ipynb\"><img src=\"../../../../../__pv_it/0c1c4cb515e0f4344b1ac06650f349123e526deb0/expr.png\" style=\"display:inline;vertical-align:middle;\" /></a></td></tr>\n",
       "<tr><td>29</td><td>IndexedVar</td><td>variable:&nbsp;31<br>index:&nbsp;33<br></td><td><a class=\"ProveItLink\" href=\"../../../../../core_expr_types/__pv_it/a433d6021a2b0d85d326303b1d692b18969c0dc30/expr.ipynb\"><img src=\"../../../../../core_expr_types/__pv_it/a433d6021a2b0d85d326303b1d692b18969c0dc30/expr.png\" style=\"display:inline;vertical-align:middle;\" /></a></td></tr>\n",
       "<tr><td>30</td><td>IndexedVar</td><td>variable:&nbsp;32<br>index:&nbsp;33<br></td><td><a class=\"ProveItLink\" href=\"../../../../../core_expr_types/__pv_it/3b86bd3b2e16136132e508dd7cfa1ad89a15b7bf0/expr.ipynb\"><img src=\"../../../../../core_expr_types/__pv_it/3b86bd3b2e16136132e508dd7cfa1ad89a15b7bf0/expr.png\" style=\"display:inline;vertical-align:middle;\" /></a></td></tr>\n",
       "<tr><td>31</td><td>Variable</td><td></td><td><a class=\"ProveItLink\" href=\"../../../../../__pv_it/d3792d0d8642fdf1cd2a3a9b32c673ee13653de00/expr.ipynb\"><img src=\"../../../../../__pv_it/d3792d0d8642fdf1cd2a3a9b32c673ee13653de00/expr.png\" style=\"display:inline;vertical-align:middle;\" /></a></td></tr>\n",
       "<tr><td>32</td><td>Variable</td><td></td><td><a class=\"ProveItLink\" href=\"../../../../../__pv_it/dcb5a3e430485237dfe486162b026a4affb149300/expr.ipynb\"><img src=\"../../../../../__pv_it/dcb5a3e430485237dfe486162b026a4affb149300/expr.png\" style=\"display:inline;vertical-align:middle;\" /></a></td></tr>\n",
       "<tr><td>33</td><td>Variable</td><td></td><td><a class=\"ProveItLink\" href=\"../../../../../core_expr_types/__pv_it/1e653f789234b245ee7fea7caad998c139d617410/expr.ipynb\"><img src=\"../../../../../core_expr_types/__pv_it/1e653f789234b245ee7fea7caad998c139d617410/expr.png\" style=\"display:inline;vertical-align:middle;\" /></a></td></tr>\n",
       "</table>\n"
      ],
      "text/plain": [
       "0. (m, n) -> {forall_{A_{1}, ..A_{_a}.., A_{m}, B, C_{1}, ..C_{_a}.., C_{n} | [not](B)} [not](A_{1} and ..A_{_a}.. and A_{m} and B and C_{1} and ..C_{_a}.. and C_{n}) if m in Naturals ,  n in Naturals.\n",
       "   core type: Lambda\n",
       "   parameters: 1\\n   body: 2\n",
       "1. (m, n)\n",
       "   core type: ExprTuple\n",
       "   sub-expressions: 25, 28\n",
       "2. {forall_{A_{1}, ..A_{_a}.., A_{m}, B, C_{1}, ..C_{_a}.., C_{n} | [not](B)} [not](A_{1} and ..A_{_a}.. and A_{m} and B and C_{1} and ..C_{_a}.. and C_{n}) if m in Naturals ,  n in Naturals.\n",
       "   core type: Conditional\n",
       "   value: 3\n",
       "   condition: 4\n",
       "3. forall_{A_{1}, ..A_{_a}.., A_{m}, B, C_{1}, ..C_{_a}.., C_{n} | [not](B)} [not](A_{1} and ..A_{_a}.. and A_{m} and B and C_{1} and ..C_{_a}.. and C_{n})\n",
       "   core type: Operation\n",
       "   operator: 5\n",
       "   operand: 6\n",
       "4. (m in Naturals) and (n in Naturals)\n",
       "   core type: Operation\n",
       "   operator: 19\n",
       "   operands: 7\n",
       "5. forall\n",
       "   core type: Literal\n",
       "   sub-expressions: \n",
       "6. (A_{1}, ..A_{_a}.., A_{m}, B, C_{1}, ..C_{_a}.., C_{n}) -> {[not](A_{1} and ..A_{_a}.. and A_{m} and B and C_{1} and ..C_{_a}.. and C_{n}) if [not](B).\n",
       "   core type: Lambda\n",
       "   parameters: 20\\n   body: 8\n",
       "7. (m in Naturals, n in Naturals)\n",
       "   core type: ExprTuple\n",
       "   sub-expressions: 9, 10\n",
       "8. {[not](A_{1} and ..A_{_a}.. and A_{m} and B and C_{1} and ..C_{_a}.. and C_{n}) if [not](B).\n",
       "   core type: Conditional\n",
       "   value: 11\n",
       "   condition: 12\n",
       "9. m in Naturals\n",
       "   core type: Operation\n",
       "   operator: 14\n",
       "   operands: 13\n",
       "10. n in Naturals\n",
       "    core type: Operation\n",
       "    operator: 14\n",
       "    operands: 15\n",
       "11. [not](A_{1} and ..A_{_a}.. and A_{m} and B and C_{1} and ..C_{_a}.. and C_{n})\n",
       "    core type: Operation\n",
       "    operator: 17\n",
       "    operand: 16\n",
       "12. [not](B)\n",
       "    core type: Operation\n",
       "    operator: 17\n",
       "    operand: 22\n",
       "13. (m, Naturals)\n",
       "    core type: ExprTuple\n",
       "    sub-expressions: 25, 18\n",
       "14. in\n",
       "    core type: Literal\n",
       "    sub-expressions: \n",
       "15. (n, Naturals)\n",
       "    core type: ExprTuple\n",
       "    sub-expressions: 28, 18\n",
       "16. A_{1} and ..A_{_a}.. and A_{m} and B and C_{1} and ..C_{_a}.. and C_{n}\n",
       "    core type: Operation\n",
       "    operator: 19\n",
       "    operands: 20\n",
       "17. not\n",
       "    core type: Literal\n",
       "    sub-expressions: \n",
       "18. Naturals\n",
       "    core type: Literal\n",
       "    sub-expressions: \n",
       "19. and\n",
       "    core type: Literal\n",
       "    sub-expressions: \n",
       "20. (A_{1}, ..A_{_a}.., A_{m}, B, C_{1}, ..C_{_a}.., C_{n})\n",
       "    core type: ExprTuple\n",
       "    sub-expressions: 21, 22, 23\n",
       "21. A_{1}, ..A_{_a}.., A_{m}\n",
       "    core type: ExprRange\n",
       "    lambda_map: 24\n",
       "    start_index: 27\n",
       "    end_index: 25\n",
       "22. B\n",
       "    core type: Variable\n",
       "    sub-expressions: \n",
       "23. C_{1}, ..C_{_a}.., C_{n}\n",
       "    core type: ExprRange\n",
       "    lambda_map: 26\n",
       "    start_index: 27\n",
       "    end_index: 28\n",
       "24. _a -> A_{_a}\n",
       "    core type: Lambda\n",
       "    parameter: 33\n",
       "    body: 29\n",
       "25. m\n",
       "    core type: Variable\n",
       "    sub-expressions: \n",
       "26. _a -> C_{_a}\n",
       "    core type: Lambda\n",
       "    parameter: 33\n",
       "    body: 30\n",
       "27. 1\n",
       "    core type: Literal\n",
       "    sub-expressions: \n",
       "28. n\n",
       "    core type: Variable\n",
       "    sub-expressions: \n",
       "29. A_{_a}\n",
       "    core type: IndexedVar\n",
       "variable: 31\n",
       "index: 33\n",
       "30. C_{_a}\n",
       "    core type: IndexedVar\n",
       "variable: 32\n",
       "index: 33\n",
       "31. A\n",
       "    core type: Variable\n",
       "    sub-expressions: \n",
       "32. C\n",
       "    core type: Variable\n",
       "    sub-expressions: \n",
       "33. _a\n",
       "    core type: Variable\n",
       "    sub-expressions: "
      ]
     },
     "execution_count": 5,
     "metadata": {},
     "output_type": "execute_result"
    }
   ],
   "source": [
    "# display the expression information\n",
    "expr.exprInfo()"
   ]
  },
  {
   "cell_type": "code",
   "execution_count": null,
   "metadata": {},
   "outputs": [],
   "source": []
  }
 ],
 "metadata": {
  "kernelspec": {
   "display_name": "Python 3",
   "language": "python",
   "name": "python3"
  },
  "language_info": {
   "codemirror_mode": {
    "name": "ipython",
    "version": 3
   },
   "file_extension": ".py",
   "mimetype": "text/x-python",
   "name": "python",
   "nbconvert_exporter": "python",
   "pygments_lexer": "ipython3",
   "version": "3.7.3"
  }
 },
 "nbformat": 4,
 "nbformat_minor": 1
}
