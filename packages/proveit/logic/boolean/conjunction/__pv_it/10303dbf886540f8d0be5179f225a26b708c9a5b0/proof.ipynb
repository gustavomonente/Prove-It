{
 "cells": [
  {
   "cell_type": "markdown",
   "metadata": {},
   "source": [
    "Show the Proof\n",
    "========"
   ]
  },
  {
   "cell_type": "code",
   "execution_count": 1,
   "metadata": {},
   "outputs": [
    {
     "data": {
      "text/html": [
       "<table><tr><th>&nbsp;</th><th>step type</th><th>requirements</th><th>statement</th></tr>\n",
       "<tr><td><a name=\"proveit.logic.boolean.conjunction.10303dbf886540f8d0be5179f225a26b708c9a5b0_step0\">0</a></td><td>instantiation</td><td><a href=\"#proveit.logic.boolean.conjunction.10303dbf886540f8d0be5179f225a26b708c9a5b0_step1\">1</a>, <a href=\"#proveit.logic.boolean.conjunction.10303dbf886540f8d0be5179f225a26b708c9a5b0_step2\">2</a>, <a href=\"#proveit.logic.boolean.conjunction.10303dbf886540f8d0be5179f225a26b708c9a5b0_step3\">3</a>, <a href=\"#proveit.logic.boolean.conjunction.10303dbf886540f8d0be5179f225a26b708c9a5b0_step4\">4</a><sup>*</sup></td><td><span style=\"font-size:20px;\"> <a class=\"ProveItLink\" href=\"proof.ipynb\" style=\"text-decoration: none\">&#x22A2;&nbsp;</a><a class=\"ProveItLink\" href=\"../455a3b38fc8bced06966ada5f16a0fb4de2221840/expr.ipynb\"><img src=\"../455a3b38fc8bced06966ada5f16a0fb4de2221840/expr.png\" style=\"display:inline;vertical-align:middle;\" /></a></span></td></tr>\n",
       "<tr><td>&nbsp;</td><td colspan=4 style=\"text-align:left\"><span style=\"font-size:20px;\"><a class=\"ProveItLink\" href=\"../../../../../__pv_it/6e8a38e9a7e2b6af352562cd77e0eb4751f142620/expr.ipynb\"><img src=\"../../../../../__pv_it/6e8a38e9a7e2b6af352562cd77e0eb4751f142620/expr.png\" style=\"display:inline;vertical-align:middle;\" /></a> : <a class=\"ProveItLink\" href=\"../../../../../number/numeral/__pv_it/bcb6bc33e5975ec2290a3272bf7802d26ab8421d0/expr.ipynb\"><img src=\"../../../../../number/numeral/__pv_it/bcb6bc33e5975ec2290a3272bf7802d26ab8421d0/expr.png\" style=\"display:inline;vertical-align:middle;\" /></a>, <a class=\"ProveItLink\" href=\"../../../../../__pv_it/d3792d0d8642fdf1cd2a3a9b32c673ee13653de00/expr.ipynb\"><img src=\"../../../../../__pv_it/d3792d0d8642fdf1cd2a3a9b32c673ee13653de00/expr.png\" style=\"display:inline;vertical-align:middle;\" /></a> : <a class=\"ProveItLink\" href=\"../30d23d36f0994fc28429b458d9f08265f0433d5f0/expr.ipynb\"><img src=\"../30d23d36f0994fc28429b458d9f08265f0433d5f0/expr.png\" style=\"display:inline;vertical-align:middle;\" /></a>, <a class=\"ProveItLink\" href=\"../../../../../__pv_it/4d98b438710c5ada9ffa4646bb123a7d0e69ec000/expr.ipynb\"><img src=\"../../../../../__pv_it/4d98b438710c5ada9ffa4646bb123a7d0e69ec000/expr.png\" style=\"display:inline;vertical-align:middle;\" /></a> : <a class=\"ProveItLink\" href=\"../../../../../__pv_it/d3792d0d8642fdf1cd2a3a9b32c673ee13653de00/expr.ipynb\"><img src=\"../../../../../__pv_it/d3792d0d8642fdf1cd2a3a9b32c673ee13653de00/expr.png\" style=\"display:inline;vertical-align:middle;\" /></a></span></td></tr><tr><td><a name=\"proveit.logic.boolean.conjunction.10303dbf886540f8d0be5179f225a26b708c9a5b0_step1\">1</a></td><td>axiom</td><td></td><td><span style=\"font-size:20px;\"> <a class=\"ProveItLink\" href=\"../../_axioms_.ipynb#multiConjunctionDef\" style=\"text-decoration: none\">&#x22A2;&nbsp;</a><a class=\"ProveItLink\" href=\"../aff3babe6f8fd741b55a4f01ecf193aae2107d390/expr.ipynb\"><img src=\"../aff3babe6f8fd741b55a4f01ecf193aae2107d390/expr.png\" style=\"display:inline;vertical-align:middle;\" /></a></span></td></tr>\n",
       "<tr><td>&nbsp;</td><td colspan=4 style-\"text-align:left\"><a class=\"ProveItLink\" href=\"../../_axioms_.ipynb#multiConjunctionDef\">proveit.logic.boolean.conjunction.multiConjunctionDef</a></td></tr><tr><td><a name=\"proveit.logic.boolean.conjunction.10303dbf886540f8d0be5179f225a26b708c9a5b0_step2\">2</a></td><td>theorem</td><td></td><td><span style=\"font-size:20px;\"> <a class=\"ProveItLink\" href=\"../../../../../number/sets/integer/_proofs_/zeroInNats.ipynb\" style=\"text-decoration: none\">&#x22A2;&nbsp;</a><a class=\"ProveItLink\" href=\"../cedef09b506ec97d85fd8abe70c85cb8be648c960/expr.ipynb\"><img src=\"../cedef09b506ec97d85fd8abe70c85cb8be648c960/expr.png\" style=\"display:inline;vertical-align:middle;\" /></a></span></td></tr>\n",
       "<tr><td>&nbsp;</td><td colspan=4 style-\"text-align:left\"><a class=\"ProveItLink\" href=\"../../../../../number/sets/integer/_proofs_/zeroInNats.ipynb\">proveit.number.sets.integer.zeroInNats</a></td></tr><tr><td><a name=\"proveit.logic.boolean.conjunction.10303dbf886540f8d0be5179f225a26b708c9a5b0_step3\">3</a></td><td>theorem</td><td></td><td><span style=\"font-size:20px;\"> <a class=\"ProveItLink\" href=\"../../../../../core_expr_types/tuples/_proofs_/tuple_len_0_typical_equiv.ipynb\" style=\"text-decoration: none\">&#x22A2;&nbsp;</a><a class=\"ProveItLink\" href=\"../3edb3ab3be18dd0ab310e7b35dabf6e60f193f9e0/expr.ipynb\"><img src=\"../3edb3ab3be18dd0ab310e7b35dabf6e60f193f9e0/expr.png\" style=\"display:inline;vertical-align:middle;\" /></a></span></td></tr>\n",
       "<tr><td>&nbsp;</td><td colspan=4 style-\"text-align:left\"><a class=\"ProveItLink\" href=\"../../../../../core_expr_types/tuples/_proofs_/tuple_len_0_typical_equiv.ipynb\">proveit.core_expr_types.tuples.tuple_len_0_typical_equiv</a></td></tr><tr><td><a name=\"proveit.logic.boolean.conjunction.10303dbf886540f8d0be5179f225a26b708c9a5b0_step4\">4</a></td><td>theorem</td><td></td><td><span style=\"font-size:20px;\"> <a class=\"ProveItLink\" href=\"../../_proofs_/emptyConjunctionEval.ipynb\" style=\"text-decoration: none\">&#x22A2;&nbsp;</a><a class=\"ProveItLink\" href=\"../560f9d7b26bd59dafe8c0d5b346e799351dd8cc70/expr.ipynb\"><img src=\"../560f9d7b26bd59dafe8c0d5b346e799351dd8cc70/expr.png\" style=\"display:inline;vertical-align:middle;\" /></a></span></td></tr>\n",
       "<tr><td>&nbsp;</td><td colspan=4 style-\"text-align:left\"><a class=\"ProveItLink\" href=\"../../_proofs_/emptyConjunctionEval.ipynb\">proveit.logic.boolean.conjunction.emptyConjunctionEval</a></td></tr><tr><td colspan=4 style=\"text-align:left\"><sup>*</sup>equality replacement requirements</td></tr></table>"
      ],
      "text/plain": [
       "<proveit._core_.proof._ShowProof at 0x7f5b9a74c438>"
      ]
     },
     "execution_count": 1,
     "metadata": {},
     "output_type": "execute_result"
    }
   ],
   "source": [
    "import proveit\n",
    "# Automation is not needed when only showing a stored proof:\n",
    "proveit.defaults.automation = False # This will speed things up.\n",
    "proveit.defaults.inline_pngs = False # Makes files smaller.\n",
    "%show_proof"
   ]
  },
  {
   "cell_type": "code",
   "execution_count": null,
   "metadata": {},
   "outputs": [],
   "source": []
  }
 ],
 "metadata": {
  "kernelspec": {
   "display_name": "Python 3",
   "language": "python",
   "name": "python3"
  },
  "language_info": {
   "codemirror_mode": {
    "name": "ipython",
    "version": 3
   },
   "file_extension": ".py",
   "mimetype": "text/x-python",
   "name": "python",
   "nbconvert_exporter": "python",
   "pygments_lexer": "ipython3",
   "version": "3.7.3"
  }
 },
 "nbformat": 4,
 "nbformat_minor": 1
}
