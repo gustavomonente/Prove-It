{
 "cells": [
  {
   "cell_type": "markdown",
   "metadata": {},
   "source": [
    "Expression of type <a class=\"ProveItLink\" href=\"../../../../../../../doc/html/api/proveit.logic.Equals.html\">Equals</a>\n",
    "=======================\n",
    "# from context <a class=\"ProveItLink\" href=\"../../_context_.ipynb\">proveit.logic.boolean.conjunction</a>"
   ]
  },
  {
   "cell_type": "code",
   "execution_count": 1,
   "metadata": {},
   "outputs": [],
   "source": [
    "import proveit\n",
    "# Automation is not needed when building an expression:\n",
    "proveit.defaults.automation = False # This will speed things up.\n",
    "proveit.defaults.inline_pngs = False # Makes files smaller.\n",
    "# import Expression classes needed to build the expression\n",
    "from proveit import Conditional\n",
    "from proveit._common_ import Q, a\n",
    "from proveit.core_expr_types._common_ import R_1_to_n\n",
    "from proveit.logic import And, Equals"
   ]
  },
  {
   "cell_type": "code",
   "execution_count": 2,
   "metadata": {},
   "outputs": [
    {
     "data": {
      "text/html": [
       "<strong id=\"expr\">expr:</strong> <a class=\"ProveItLink\" href=\"expr.ipynb\"><img src=\"expr.png\" style=\"display:inline;vertical-align:middle;\" /></a><br>"
      ],
      "text/plain": [
       "expr: {a if Q ,  R_{1} and ..R_{_a}.. and R_{n}. \\\\  = {a if Q ,  R_{1} ,  ..R_{_a}.. ,  R_{n}."
      ]
     },
     "execution_count": 2,
     "metadata": {},
     "output_type": "execute_result"
    }
   ],
   "source": [
    "# build up the expression from sub-expressions\n",
    "expr = Equals(Conditional(a, And(Q, And(R_1_to_n))), Conditional(a, And(Q, R_1_to_n))).withWrappingAt(1)"
   ]
  },
  {
   "cell_type": "code",
   "execution_count": 3,
   "metadata": {},
   "outputs": [
    {
     "name": "stdout",
     "output_type": "stream",
     "text": [
      "Passed sanity check: built 'expr' is the same as the stored Expression.\n"
     ]
    }
   ],
   "source": [
    "# check that the built expression is the same as the stored expression\n",
    "%check_expr"
   ]
  },
  {
   "cell_type": "code",
   "execution_count": 4,
   "metadata": {},
   "outputs": [
    {
     "name": "stdout",
     "output_type": "stream",
     "text": [
      "\\begin{array}{c} \\left\\{a \\textrm{ if } Q ,  R_{1} \\land \\ldots \\land R_{n}\\right.. \\\\  = \\left\\{a \\textrm{ if } Q ,  R_{1} ,  \\ldots ,  R_{n}\\right.. \\end{array}\n"
     ]
    }
   ],
   "source": [
    "# Show the LaTeX representation of the expression for convenience if you need it.\n",
    "print(expr.latex())"
   ]
  },
  {
   "cell_type": "code",
   "execution_count": 5,
   "metadata": {},
   "outputs": [
    {
     "data": {
      "text/html": [
       "<table><tr><th>&nbsp;</th><th>core type</th><th>sub-expressions</th><th>expression</th></tr>\n",
       "<tr><td>0</td><td>Operation</td><td>operator:&nbsp;1<br>operands:&nbsp;2<br></td><td><a class=\"ProveItLink\" href=\"expr.ipynb\"><img src=\"expr.png\" style=\"display:inline;vertical-align:middle;\" /></a></td></tr>\n",
       "<tr><td>1</td><td>Literal</td><td></td><td><a class=\"ProveItLink\" href=\"../../../../equality/__pv_it/e16d2caa26a16688b658bdb9c422caf4b84579e10/expr.ipynb\"><img src=\"../../../../equality/__pv_it/e16d2caa26a16688b658bdb9c422caf4b84579e10/expr.png\" style=\"display:inline;vertical-align:middle;\" /></a></td></tr>\n",
       "<tr><td>2</td><td>ExprTuple</td><td>3, 4</td><td><a class=\"ProveItLink\" href=\"../e4b845fa2b7957ea2d4d052ab935c0ed6ed48d3c0/expr.ipynb\"><img src=\"../e4b845fa2b7957ea2d4d052ab935c0ed6ed48d3c0/expr.png\" style=\"display:inline;vertical-align:middle;\" /></a></td></tr>\n",
       "<tr><td>3</td><td>Conditional</td><td>value:&nbsp;6<br>condition:&nbsp;5<br></td><td><a class=\"ProveItLink\" href=\"../e302e0723570db34c6582775bee5741d3aa1b4870/expr.ipynb\"><img src=\"../e302e0723570db34c6582775bee5741d3aa1b4870/expr.png\" style=\"display:inline;vertical-align:middle;\" /></a></td></tr>\n",
       "<tr><td>4</td><td>Conditional</td><td>value:&nbsp;6<br>condition:&nbsp;7<br></td><td><a class=\"ProveItLink\" href=\"../830719d7ba9eaa6dfda0c15065031561eeba8e190/expr.ipynb\"><img src=\"../830719d7ba9eaa6dfda0c15065031561eeba8e190/expr.png\" style=\"display:inline;vertical-align:middle;\" /></a></td></tr>\n",
       "<tr><td>5</td><td>Operation</td><td>operator:&nbsp;12<br>operands:&nbsp;8<br></td><td><a class=\"ProveItLink\" href=\"../f62e027840ec52e98e21df96416ec69322fd14d50/expr.ipynb\"><img src=\"../f62e027840ec52e98e21df96416ec69322fd14d50/expr.png\" style=\"display:inline;vertical-align:middle;\" /></a></td></tr>\n",
       "<tr><td>6</td><td>Variable</td><td></td><td><a class=\"ProveItLink\" href=\"../../../../../__pv_it/a8d4b3a34d2189508f9082853fbac36935714f280/expr.ipynb\"><img src=\"../../../../../__pv_it/a8d4b3a34d2189508f9082853fbac36935714f280/expr.png\" style=\"display:inline;vertical-align:middle;\" /></a></td></tr>\n",
       "<tr><td>7</td><td>Operation</td><td>operator:&nbsp;12<br>operands:&nbsp;9<br></td><td><a class=\"ProveItLink\" href=\"../a04b247f09fd782c9abc66bb221ae35521609a140/expr.ipynb\"><img src=\"../a04b247f09fd782c9abc66bb221ae35521609a140/expr.png\" style=\"display:inline;vertical-align:middle;\" /></a></td></tr>\n",
       "<tr><td>8</td><td>ExprTuple</td><td>11, 10</td><td><a class=\"ProveItLink\" href=\"../788b4c067e52bc064c502fca1a8d5b864d369c420/expr.ipynb\"><img src=\"../788b4c067e52bc064c502fca1a8d5b864d369c420/expr.png\" style=\"display:inline;vertical-align:middle;\" /></a></td></tr>\n",
       "<tr><td>9</td><td>ExprTuple</td><td>11, 14</td><td><a class=\"ProveItLink\" href=\"../f39bd9adc88aa04acbe710485684dc8540c3e0e10/expr.ipynb\"><img src=\"../f39bd9adc88aa04acbe710485684dc8540c3e0e10/expr.png\" style=\"display:inline;vertical-align:middle;\" /></a></td></tr>\n",
       "<tr><td>10</td><td>Operation</td><td>operator:&nbsp;12<br>operands:&nbsp;13<br></td><td><a class=\"ProveItLink\" href=\"../661bfbbc3766bf98766eafbd97c6e7927cb1bdac0/expr.ipynb\"><img src=\"../661bfbbc3766bf98766eafbd97c6e7927cb1bdac0/expr.png\" style=\"display:inline;vertical-align:middle;\" /></a></td></tr>\n",
       "<tr><td>11</td><td>Variable</td><td></td><td><a class=\"ProveItLink\" href=\"../../../../../__pv_it/dbe7145e53d9411a5ba89652cbfea9d54e4b581a0/expr.ipynb\"><img src=\"../../../../../__pv_it/dbe7145e53d9411a5ba89652cbfea9d54e4b581a0/expr.png\" style=\"display:inline;vertical-align:middle;\" /></a></td></tr>\n",
       "<tr><td>12</td><td>Literal</td><td></td><td><a class=\"ProveItLink\" href=\"../f41cc6b553210927c09f19a8a39cdf860a5585930/expr.ipynb\"><img src=\"../f41cc6b553210927c09f19a8a39cdf860a5585930/expr.png\" style=\"display:inline;vertical-align:middle;\" /></a></td></tr>\n",
       "<tr><td>13</td><td>ExprTuple</td><td>14</td><td><a class=\"ProveItLink\" href=\"../21cc81b60a605df2da75fe1966471dc562c0782e0/expr.ipynb\"><img src=\"../21cc81b60a605df2da75fe1966471dc562c0782e0/expr.png\" style=\"display:inline;vertical-align:middle;\" /></a></td></tr>\n",
       "<tr><td>14</td><td>ExprRange</td><td>lambda_map:&nbsp;15<br>start_index:&nbsp;16<br>end_index:&nbsp;17<br></td><td><a class=\"ProveItLink\" href=\"../../../../../core_expr_types/__pv_it/e7cf71d1173bd34472aca8f19fdd2be36584d8800/expr.ipynb\"><img src=\"../../../../../core_expr_types/__pv_it/e7cf71d1173bd34472aca8f19fdd2be36584d8800/expr.png\" style=\"display:inline;vertical-align:middle;\" /></a></td></tr>\n",
       "<tr><td>15</td><td>Lambda</td><td>parameter:&nbsp;20<br>body:&nbsp;18<br></td><td><a class=\"ProveItLink\" href=\"../../../../../core_expr_types/__pv_it/63dc60a3bb008212be3a2032cc59408d30c88d4b0/expr.ipynb\"><img src=\"../../../../../core_expr_types/__pv_it/63dc60a3bb008212be3a2032cc59408d30c88d4b0/expr.png\" style=\"display:inline;vertical-align:middle;\" /></a></td></tr>\n",
       "<tr><td>16</td><td>Literal</td><td></td><td><a class=\"ProveItLink\" href=\"../../../../../number/numeral/__pv_it/f086f8c372bd40a2458306ddfdbb29f3dc6f63030/expr.ipynb\"><img src=\"../../../../../number/numeral/__pv_it/f086f8c372bd40a2458306ddfdbb29f3dc6f63030/expr.png\" style=\"display:inline;vertical-align:middle;\" /></a></td></tr>\n",
       "<tr><td>17</td><td>Variable</td><td></td><td><a class=\"ProveItLink\" href=\"../../../../../__pv_it/0c1c4cb515e0f4344b1ac06650f349123e526deb0/expr.ipynb\"><img src=\"../../../../../__pv_it/0c1c4cb515e0f4344b1ac06650f349123e526deb0/expr.png\" style=\"display:inline;vertical-align:middle;\" /></a></td></tr>\n",
       "<tr><td>18</td><td>IndexedVar</td><td>variable:&nbsp;19<br>index:&nbsp;20<br></td><td><a class=\"ProveItLink\" href=\"../../../../../core_expr_types/__pv_it/adcb293ddf83ed2a5c74e3e820fa8c7e0cd863fe0/expr.ipynb\"><img src=\"../../../../../core_expr_types/__pv_it/adcb293ddf83ed2a5c74e3e820fa8c7e0cd863fe0/expr.png\" style=\"display:inline;vertical-align:middle;\" /></a></td></tr>\n",
       "<tr><td>19</td><td>Variable</td><td></td><td><a class=\"ProveItLink\" href=\"../../../../../__pv_it/0a2bba13f1df910578e611e3c0100cd5999bfe270/expr.ipynb\"><img src=\"../../../../../__pv_it/0a2bba13f1df910578e611e3c0100cd5999bfe270/expr.png\" style=\"display:inline;vertical-align:middle;\" /></a></td></tr>\n",
       "<tr><td>20</td><td>Variable</td><td></td><td><a class=\"ProveItLink\" href=\"../../../../../core_expr_types/__pv_it/1e653f789234b245ee7fea7caad998c139d617410/expr.ipynb\"><img src=\"../../../../../core_expr_types/__pv_it/1e653f789234b245ee7fea7caad998c139d617410/expr.png\" style=\"display:inline;vertical-align:middle;\" /></a></td></tr>\n",
       "</table>\n"
      ],
      "text/plain": [
       "0. {a if Q ,  R_{1} and ..R_{_a}.. and R_{n}. \\\\  = {a if Q ,  R_{1} ,  ..R_{_a}.. ,  R_{n}.\n",
       "   core type: Operation\n",
       "   operator: 1\n",
       "   operands: 2\n",
       "1. =\n",
       "   core type: Literal\n",
       "   sub-expressions: \n",
       "2. (a if Q ,  R_{1} and ..R_{_a}.. and R_{n}, a if Q ,  R_{1} ,  ..R_{_a}.. ,  R_{n})\n",
       "   core type: ExprTuple\n",
       "   sub-expressions: 3, 4\n",
       "3. {a if Q ,  R_{1} and ..R_{_a}.. and R_{n}.\n",
       "   core type: Conditional\n",
       "   value: 6\n",
       "   condition: 5\n",
       "4. {a if Q ,  R_{1} ,  ..R_{_a}.. ,  R_{n}.\n",
       "   core type: Conditional\n",
       "   value: 6\n",
       "   condition: 7\n",
       "5. Q and (R_{1} and ..R_{_a}.. and R_{n})\n",
       "   core type: Operation\n",
       "   operator: 12\n",
       "   operands: 8\n",
       "6. a\n",
       "   core type: Variable\n",
       "   sub-expressions: \n",
       "7. Q and R_{1} and ..R_{_a}.. and R_{n}\n",
       "   core type: Operation\n",
       "   operator: 12\n",
       "   operands: 9\n",
       "8. (Q, R_{1} and ..R_{_a}.. and R_{n})\n",
       "   core type: ExprTuple\n",
       "   sub-expressions: 11, 10\n",
       "9. (Q, R_{1}, ..R_{_a}.., R_{n})\n",
       "   core type: ExprTuple\n",
       "   sub-expressions: 11, 14\n",
       "10. R_{1} and ..R_{_a}.. and R_{n}\n",
       "    core type: Operation\n",
       "    operator: 12\n",
       "    operands: 13\n",
       "11. Q\n",
       "    core type: Variable\n",
       "    sub-expressions: \n",
       "12. and\n",
       "    core type: Literal\n",
       "    sub-expressions: \n",
       "13. (R_{1}, ..R_{_a}.., R_{n})\n",
       "    core type: ExprTuple\n",
       "    sub-expressions: 14\n",
       "14. R_{1}, ..R_{_a}.., R_{n}\n",
       "    core type: ExprRange\n",
       "    lambda_map: 15\n",
       "    start_index: 16\n",
       "    end_index: 17\n",
       "15. _a -> R_{_a}\n",
       "    core type: Lambda\n",
       "    parameter: 20\n",
       "    body: 18\n",
       "16. 1\n",
       "    core type: Literal\n",
       "    sub-expressions: \n",
       "17. n\n",
       "    core type: Variable\n",
       "    sub-expressions: \n",
       "18. R_{_a}\n",
       "    core type: IndexedVar\n",
       "variable: 19\n",
       "index: 20\n",
       "19. R\n",
       "    core type: Variable\n",
       "    sub-expressions: \n",
       "20. _a\n",
       "    core type: Variable\n",
       "    sub-expressions: "
      ]
     },
     "execution_count": 5,
     "metadata": {},
     "output_type": "execute_result"
    }
   ],
   "source": [
    "# display the expression information\n",
    "expr.exprInfo()"
   ]
  },
  {
   "cell_type": "code",
   "execution_count": null,
   "metadata": {},
   "outputs": [],
   "source": []
  }
 ],
 "metadata": {
  "kernelspec": {
   "display_name": "Python 3",
   "language": "python",
   "name": "python3"
  },
  "language_info": {
   "codemirror_mode": {
    "name": "ipython",
    "version": 3
   },
   "file_extension": ".py",
   "mimetype": "text/x-python",
   "name": "python",
   "nbconvert_exporter": "python",
   "pygments_lexer": "ipython3",
   "version": "3.7.3"
  }
 },
 "nbformat": 4,
 "nbformat_minor": 1
}
