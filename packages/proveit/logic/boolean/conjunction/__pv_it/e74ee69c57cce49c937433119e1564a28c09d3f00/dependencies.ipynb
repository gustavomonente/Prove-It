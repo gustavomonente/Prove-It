{
 "cells": [
  {
   "cell_type": "markdown",
   "metadata": {},
   "source": [
    "Theorem Dependencies\n",
    "=======================\n",
    "\n",
    "## <a class=\"ProveItLink\" href=\"../../_context_.ipynb\">proveit.logic.boolean.conjunction</a>.<a class=\"ProveItLink\" href=\"../../_theorems_.ipynb#andIfBoth\">andIfBoth</a> \n",
    "***see <a class=\"ProveItLink\" href=\"../../_proofs_/andIfBoth.ipynb\">proof</a>***"
   ]
  },
  {
   "cell_type": "code",
   "execution_count": 1,
   "metadata": {},
   "outputs": [],
   "source": [
    "import proveit\n",
    "# Automation is not needed when querying dependencies:\n",
    "proveit.defaults.automation = False # This will speed things up.\n",
    "proveit.defaults.inline_pngs = False # Makes files smaller.\n",
    "from proveit.logic.boolean.conjunction._theorems_ import andIfBoth"
   ]
  },
  {
   "cell_type": "code",
   "execution_count": 2,
   "metadata": {},
   "outputs": [
    {
     "data": {
      "text/html": [
       "<h3>Axioms required (directly or indirectly) to prove andIfBoth</h3>"
      ],
      "text/plain": [
       "<IPython.core.display.HTML object>"
      ]
     },
     "metadata": {},
     "output_type": "display_data"
    },
    {
     "data": {
      "text/html": [
       "<dl>"
      ],
      "text/plain": [
       "<IPython.core.display.HTML object>"
      ]
     },
     "metadata": {},
     "output_type": "display_data"
    },
    {
     "data": {
      "text/html": [
       "<dt><a class=\"ProveItLink\" href=\"../../_axioms_.ipynb#andTT\">proveit.logic.boolean.conjunction.andTT</a></dt><dd><a class=\"ProveItLink\" href=\"../7af359f32933cc085d4b6b757e372d44388b32d90/expr.ipynb\"><img src=\"../7af359f32933cc085d4b6b757e372d44388b32d90/expr.png\" style=\"display:inline;vertical-align:middle;\" /></a></dd>"
      ],
      "text/plain": [
       "<IPython.core.display.HTML object>"
      ]
     },
     "metadata": {},
     "output_type": "display_data"
    },
    {
     "data": {
      "text/html": [
       "<dt><a class=\"ProveItLink\" href=\"../../../_axioms_.ipynb#eqTrueElim\">proveit.logic.boolean.eqTrueElim</a></dt><dd><a class=\"ProveItLink\" href=\"../../../__pv_it/6ff60b895e13190b9801f0a9e710e21dbccdfd7f0/expr.ipynb\"><img src=\"../../../__pv_it/6ff60b895e13190b9801f0a9e710e21dbccdfd7f0/expr.png\" style=\"display:inline;vertical-align:middle;\" /></a></dd>"
      ],
      "text/plain": [
       "<IPython.core.display.HTML object>"
      ]
     },
     "metadata": {},
     "output_type": "display_data"
    },
    {
     "data": {
      "text/html": [
       "<dt><a class=\"ProveItLink\" href=\"../../../_axioms_.ipynb#eqTrueIntro\">proveit.logic.boolean.eqTrueIntro</a></dt><dd><a class=\"ProveItLink\" href=\"../../../__pv_it/7bce5e3cff7f8036cee68d8befe33a38fe32f5c10/expr.ipynb\"><img src=\"../../../__pv_it/7bce5e3cff7f8036cee68d8befe33a38fe32f5c10/expr.png\" style=\"display:inline;vertical-align:middle;\" /></a></dd>"
      ],
      "text/plain": [
       "<IPython.core.display.HTML object>"
      ]
     },
     "metadata": {},
     "output_type": "display_data"
    },
    {
     "data": {
      "text/html": [
       "<dt><a class=\"ProveItLink\" href=\"../../../../equality/_axioms_.ipynb#equalsTransitivity\">proveit.logic.equality.equalsTransitivity</a></dt><dd><a class=\"ProveItLink\" href=\"../../../../equality/__pv_it/62a78d8298863a1032c900aff4af282587b901b20/expr.ipynb\"><img src=\"../../../../equality/__pv_it/62a78d8298863a1032c900aff4af282587b901b20/expr.png\" style=\"display:inline;vertical-align:middle;\" /></a></dd>"
      ],
      "text/plain": [
       "<IPython.core.display.HTML object>"
      ]
     },
     "metadata": {},
     "output_type": "display_data"
    },
    {
     "data": {
      "text/html": [
       "<dt><a class=\"ProveItLink\" href=\"../../../../equality/_axioms_.ipynb#substitution\">proveit.logic.equality.substitution</a></dt><dd><a class=\"ProveItLink\" href=\"../../../../equality/__pv_it/227f37bc1ee52abe3a92ac5130dc32c91fd40c720/expr.ipynb\"><img src=\"../../../../equality/__pv_it/227f37bc1ee52abe3a92ac5130dc32c91fd40c720/expr.png\" style=\"display:inline;vertical-align:middle;\" /></a></dd>"
      ],
      "text/plain": [
       "<IPython.core.display.HTML object>"
      ]
     },
     "metadata": {},
     "output_type": "display_data"
    },
    {
     "data": {
      "text/html": [
       "</dl>"
      ],
      "text/plain": [
       "<IPython.core.display.HTML object>"
      ]
     },
     "metadata": {},
     "output_type": "display_data"
    },
    {
     "data": {
      "text/html": [
       "<h3>Theorems that depend directly on andIfBoth</h3>"
      ],
      "text/plain": [
       "<IPython.core.display.HTML object>"
      ]
     },
     "metadata": {},
     "output_type": "display_data"
    },
    {
     "data": {
      "text/html": [
       "<dl>"
      ],
      "text/plain": [
       "<IPython.core.display.HTML object>"
      ]
     },
     "metadata": {},
     "output_type": "display_data"
    },
    {
     "data": {
      "text/html": [
       "<dt><a class=\"ProveItLink\" href=\"../../../../../core_expr_types/tuples/_proofs_/tuple_eq_via_elem_eq.ipynb\">proveit.core_expr_types.tuples.tuple_eq_via_elem_eq</a></dt><dd><a class=\"ProveItLink\" href=\"../../../../../core_expr_types/tuples/__pv_it/9f983d98baf96b4625eda17ab2804d5facc66fd40/expr.ipynb\"><img src=\"../../../../../core_expr_types/tuples/__pv_it/9f983d98baf96b4625eda17ab2804d5facc66fd40/expr.png\" style=\"display:inline;vertical-align:middle;\" /></a></dd>"
      ],
      "text/plain": [
       "<IPython.core.display.HTML object>"
      ]
     },
     "metadata": {},
     "output_type": "display_data"
    },
    {
     "data": {
      "text/html": [
       "<dt><a class=\"ProveItLink\" href=\"../../../disjunction/_proofs_/closure.ipynb\">proveit.logic.boolean.disjunction.closure</a></dt><dd><a class=\"ProveItLink\" href=\"../../../disjunction/__pv_it/7caf76cbf97a353d3f414ffd8c4a2e261bfcd16a0/expr.ipynb\"><img src=\"../../../disjunction/__pv_it/7caf76cbf97a353d3f414ffd8c4a2e261bfcd16a0/expr.png\" style=\"display:inline;vertical-align:middle;\" /></a></dd>"
      ],
      "text/plain": [
       "<IPython.core.display.HTML object>"
      ]
     },
     "metadata": {},
     "output_type": "display_data"
    },
    {
     "data": {
      "text/html": [
       "<dt><a class=\"ProveItLink\" href=\"../../../disjunction/_proofs_/demorgansLawAndToOrBinExplicit.ipynb\">proveit.logic.boolean.disjunction.demorgansLawAndToOrBinExplicit</a></dt><dd><a class=\"ProveItLink\" href=\"../../../disjunction/__pv_it/ce5aa581146ab8e0818423214a74b2acba0135d70/expr.ipynb\"><img src=\"../../../disjunction/__pv_it/ce5aa581146ab8e0818423214a74b2acba0135d70/expr.png\" style=\"display:inline;vertical-align:middle;\" /></a></dd>"
      ],
      "text/plain": [
       "<IPython.core.display.HTML object>"
      ]
     },
     "metadata": {},
     "output_type": "display_data"
    },
    {
     "name": "stdout",
     "output_type": "stream",
     "text": [
      "iffIntro expression notebook is being updated\n"
     ]
    },
    {
     "data": {
      "text/html": [
       "<dt><a class=\"ProveItLink\" href=\"../../../implication/_proofs_/iffIntro.ipynb\">proveit.logic.boolean.implication.iffIntro</a></dt><dd><a class=\"ProveItLink\" href=\"../../../implication/__pv_it/618cc77f07a8a8ed0cf7982d66d444da6b19890a0/expr.ipynb\"><img src=\"../../../implication/__pv_it/618cc77f07a8a8ed0cf7982d66d444da6b19890a0/expr.png\" style=\"display:inline;vertical-align:middle;\" /></a></dd>"
      ],
      "text/plain": [
       "<IPython.core.display.HTML object>"
      ]
     },
     "metadata": {},
     "output_type": "display_data"
    },
    {
     "data": {
      "text/html": [
       "</dl>"
      ],
      "text/plain": [
       "<IPython.core.display.HTML object>"
      ]
     },
     "metadata": {},
     "output_type": "display_data"
    }
   ],
   "source": [
    "%dependencies andIfBoth"
   ]
  }
 ],
 "metadata": {
  "kernelspec": {
   "display_name": "Python 3",
   "language": "python",
   "name": "python3"
  },
  "language_info": {
   "codemirror_mode": {
    "name": "ipython",
    "version": 3
   },
   "file_extension": ".py",
   "mimetype": "text/x-python",
   "name": "python",
   "nbconvert_exporter": "python",
   "pygments_lexer": "ipython3",
   "version": "3.7.3"
  }
 },
 "nbformat": 4,
 "nbformat_minor": 1
}
