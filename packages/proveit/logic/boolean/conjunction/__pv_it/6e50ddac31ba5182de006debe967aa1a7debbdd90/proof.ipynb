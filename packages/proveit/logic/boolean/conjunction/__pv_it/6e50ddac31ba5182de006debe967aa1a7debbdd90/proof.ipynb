{
 "cells": [
  {
   "cell_type": "markdown",
   "metadata": {},
   "source": [
    "Show the Proof\n",
    "========"
   ]
  },
  {
   "cell_type": "code",
   "execution_count": 1,
   "metadata": {},
   "outputs": [
    {
     "data": {
      "text/html": [
       "<table><tr><th>&nbsp;</th><th>step type</th><th>requirements</th><th>statement</th></tr>\n",
       "<tr><td><a name=\"proveit.logic.boolean.conjunction.6e50ddac31ba5182de006debe967aa1a7debbdd90_step0\">0</a></td><td>generalizaton</td><td><a href=\"#proveit.logic.boolean.conjunction.6e50ddac31ba5182de006debe967aa1a7debbdd90_step1\">1</a></td><td><span style=\"font-size:20px;\"> <a class=\"ProveItLink\" href=\"proof.ipynb\" style=\"text-decoration: none\">&#x22A2;&nbsp;</a><a class=\"ProveItLink\" href=\"../c469119600f1003eb15601135687a8a09e676a5a0/expr.ipynb\"><img src=\"../c469119600f1003eb15601135687a8a09e676a5a0/expr.png\" style=\"display:inline;vertical-align:middle;\" /></a></span></td></tr>\n",
       "<tr><td><a name=\"proveit.logic.boolean.conjunction.6e50ddac31ba5182de006debe967aa1a7debbdd90_step1\">1</a></td><td>instantiation</td><td><a href=\"#proveit.logic.boolean.conjunction.6e50ddac31ba5182de006debe967aa1a7debbdd90_step2\">2</a>, <a href=\"#proveit.logic.boolean.conjunction.6e50ddac31ba5182de006debe967aa1a7debbdd90_step3\">3</a></td><td><span style=\"font-size:20px;\"><a class=\"ProveItLink\" href=\"../8ae1cbee09d4fcdc5c55ee8702714511e6490eab0/expr.ipynb\"><img src=\"../8ae1cbee09d4fcdc5c55ee8702714511e6490eab0/expr.png\" style=\"display:inline;vertical-align:middle;\" /></a> <a class=\"ProveItLink\" href=\"../33cf4ef3142521349818c3ab5cc03bef02afb8d20/proof.ipynb\" style=\"text-decoration: none\">&#x22A2;&nbsp;</a><a class=\"ProveItLink\" href=\"../822f7497a7071b0012c3856a73471370cdcefa4c0/expr.ipynb\"><img src=\"../822f7497a7071b0012c3856a73471370cdcefa4c0/expr.png\" style=\"display:inline;vertical-align:middle;\" /></a></span></td></tr>\n",
       "<tr><td>&nbsp;</td><td colspan=4 style=\"text-align:left\"><span style=\"font-size:20px;\"><a class=\"ProveItLink\" href=\"../../../../../__pv_it/d3792d0d8642fdf1cd2a3a9b32c673ee13653de00/expr.ipynb\"><img src=\"../../../../../__pv_it/d3792d0d8642fdf1cd2a3a9b32c673ee13653de00/expr.png\" style=\"display:inline;vertical-align:middle;\" /></a> : <a class=\"ProveItLink\" href=\"../8c9b2529111ee20a14b341c8bc70d8f662a0762c0/expr.ipynb\"><img src=\"../8c9b2529111ee20a14b341c8bc70d8f662a0762c0/expr.png\" style=\"display:inline;vertical-align:middle;\" /></a></span></td></tr><tr><td><a name=\"proveit.logic.boolean.conjunction.6e50ddac31ba5182de006debe967aa1a7debbdd90_step2\">2</a></td><td>axiom</td><td></td><td><span style=\"font-size:20px;\"> <a class=\"ProveItLink\" href=\"../../../negation/_axioms_.ipynb#negationElim\" style=\"text-decoration: none\">&#x22A2;&nbsp;</a><a class=\"ProveItLink\" href=\"../2cd4c4f7d38d4ee00340575d3092bcf4cb1b4c340/expr.ipynb\"><img src=\"../2cd4c4f7d38d4ee00340575d3092bcf4cb1b4c340/expr.png\" style=\"display:inline;vertical-align:middle;\" /></a></span></td></tr>\n",
       "<tr><td>&nbsp;</td><td colspan=4 style-\"text-align:left\"><a class=\"ProveItLink\" href=\"../../../negation/_axioms_.ipynb#negationElim\">proveit.logic.boolean.negation.negationElim</a></td></tr><tr><td><a name=\"proveit.logic.boolean.conjunction.6e50ddac31ba5182de006debe967aa1a7debbdd90_step3\">3</a></td><td>instantiation</td><td><a href=\"#proveit.logic.boolean.conjunction.6e50ddac31ba5182de006debe967aa1a7debbdd90_step4\">4</a>, <a href=\"#proveit.logic.boolean.conjunction.6e50ddac31ba5182de006debe967aa1a7debbdd90_step5\">5</a>, <a href=\"#proveit.logic.boolean.conjunction.6e50ddac31ba5182de006debe967aa1a7debbdd90_step6\">6</a>, <a href=\"#proveit.logic.boolean.conjunction.6e50ddac31ba5182de006debe967aa1a7debbdd90_step12\">12</a></td><td><span style=\"font-size:20px;\"><a class=\"ProveItLink\" href=\"../8ae1cbee09d4fcdc5c55ee8702714511e6490eab0/expr.ipynb\"><img src=\"../8ae1cbee09d4fcdc5c55ee8702714511e6490eab0/expr.png\" style=\"display:inline;vertical-align:middle;\" /></a> <a class=\"ProveItLink\" href=\"../31a798176abb85366f4d999a475960024ebb2e530/proof.ipynb\" style=\"text-decoration: none\">&#x22A2;&nbsp;</a><a class=\"ProveItLink\" href=\"../17b8dd5ac7c4f2bbd3baf30fbf3460b8bd2f67a60/expr.ipynb\"><img src=\"../17b8dd5ac7c4f2bbd3baf30fbf3460b8bd2f67a60/expr.png\" style=\"display:inline;vertical-align:middle;\" /></a></span></td></tr>\n",
       "<tr><td>&nbsp;</td><td colspan=4 style=\"text-align:left\"><span style=\"font-size:20px;\"><a class=\"ProveItLink\" href=\"../../../../../__pv_it/d3792d0d8642fdf1cd2a3a9b32c673ee13653de00/expr.ipynb\"><img src=\"../../../../../__pv_it/d3792d0d8642fdf1cd2a3a9b32c673ee13653de00/expr.png\" style=\"display:inline;vertical-align:middle;\" /></a> : <a class=\"ProveItLink\" href=\"../../../../../__pv_it/d3792d0d8642fdf1cd2a3a9b32c673ee13653de00/expr.ipynb\"><img src=\"../../../../../__pv_it/d3792d0d8642fdf1cd2a3a9b32c673ee13653de00/expr.png\" style=\"display:inline;vertical-align:middle;\" /></a>, <a class=\"ProveItLink\" href=\"../../../../../__pv_it/4d98b438710c5ada9ffa4646bb123a7d0e69ec000/expr.ipynb\"><img src=\"../../../../../__pv_it/4d98b438710c5ada9ffa4646bb123a7d0e69ec000/expr.png\" style=\"display:inline;vertical-align:middle;\" /></a> : <a class=\"ProveItLink\" href=\"../../../../../__pv_it/4d98b438710c5ada9ffa4646bb123a7d0e69ec000/expr.ipynb\"><img src=\"../../../../../__pv_it/4d98b438710c5ada9ffa4646bb123a7d0e69ec000/expr.png\" style=\"display:inline;vertical-align:middle;\" /></a></span></td></tr><tr><td><a name=\"proveit.logic.boolean.conjunction.6e50ddac31ba5182de006debe967aa1a7debbdd90_step4\">4</a></td><td>theorem</td><td></td><td><span style=\"font-size:20px;\"> <a class=\"ProveItLink\" href=\"../../_proofs_/nandIfNotRight.ipynb\" style=\"text-decoration: none\">&#x22A2;&nbsp;</a><a class=\"ProveItLink\" href=\"../45130db468da66b64b386a601fbc9c61d5f115210/expr.ipynb\"><img src=\"../45130db468da66b64b386a601fbc9c61d5f115210/expr.png\" style=\"display:inline;vertical-align:middle;\" /></a></span></td></tr>\n",
       "<tr><td>&nbsp;</td><td colspan=4 style-\"text-align:left\"><a class=\"ProveItLink\" href=\"../../_proofs_/nandIfNotRight.ipynb\">proveit.logic.boolean.conjunction.nandIfNotRight</a></td></tr><tr><td><a name=\"proveit.logic.boolean.conjunction.6e50ddac31ba5182de006debe967aa1a7debbdd90_step5\">5</a></td><td>instantiation</td><td><a href=\"#proveit.logic.boolean.conjunction.6e50ddac31ba5182de006debe967aa1a7debbdd90_step7\">7</a>, <a href=\"#proveit.logic.boolean.conjunction.6e50ddac31ba5182de006debe967aa1a7debbdd90_step8\">8</a>, <a href=\"#proveit.logic.boolean.conjunction.6e50ddac31ba5182de006debe967aa1a7debbdd90_step9\">9</a></td><td><span style=\"font-size:20px;\"><a class=\"ProveItLink\" href=\"../1ea553d38af7f0e38bb62d4c24279012575f1f120/expr.ipynb\"><img src=\"../1ea553d38af7f0e38bb62d4c24279012575f1f120/expr.png\" style=\"display:inline;vertical-align:middle;\" /></a> <a class=\"ProveItLink\" href=\"../0d8121f6ff7001a9be3cebb34003bfb6a84ffba60/proof.ipynb\" style=\"text-decoration: none\">&#x22A2;&nbsp;</a><a class=\"ProveItLink\" href=\"../8776f6509d0e01db99c8c290ab1853b3db3d048c0/expr.ipynb\"><img src=\"../8776f6509d0e01db99c8c290ab1853b3db3d048c0/expr.png\" style=\"display:inline;vertical-align:middle;\" /></a></span></td></tr>\n",
       "<tr><td>&nbsp;</td><td colspan=4 style=\"text-align:left\"><span style=\"font-size:20px;\"><a class=\"ProveItLink\" href=\"../6adf35e534b0f74f25bdd03c03dfd88a84b3ace50/expr.ipynb\"><img src=\"../6adf35e534b0f74f25bdd03c03dfd88a84b3ace50/expr.png\" style=\"display:inline;vertical-align:middle;\" /></a> : <a class=\"ProveItLink\" href=\"../7f5851d30d9071ac5add92b1415dd8c1d59a5c620/expr.ipynb\"><img src=\"../7f5851d30d9071ac5add92b1415dd8c1d59a5c620/expr.png\" style=\"display:inline;vertical-align:middle;\" /></a>, <a class=\"ProveItLink\" href=\"../../../../../__pv_it/72df168d2bfb4e0140af90912ebf83b13772060b0/expr.ipynb\"><img src=\"../../../../../__pv_it/72df168d2bfb4e0140af90912ebf83b13772060b0/expr.png\" style=\"display:inline;vertical-align:middle;\" /></a> : <a class=\"ProveItLink\" href=\"../../../../../__pv_it/d3792d0d8642fdf1cd2a3a9b32c673ee13653de00/expr.ipynb\"><img src=\"../../../../../__pv_it/d3792d0d8642fdf1cd2a3a9b32c673ee13653de00/expr.png\" style=\"display:inline;vertical-align:middle;\" /></a></span></td></tr><tr><td><a name=\"proveit.logic.boolean.conjunction.6e50ddac31ba5182de006debe967aa1a7debbdd90_step6\">6</a></td><td>instantiation</td><td><a href=\"#proveit.logic.boolean.conjunction.6e50ddac31ba5182de006debe967aa1a7debbdd90_step10\">10</a>, <a href=\"#proveit.logic.boolean.conjunction.6e50ddac31ba5182de006debe967aa1a7debbdd90_step11\">11</a>, <a href=\"#proveit.logic.boolean.conjunction.6e50ddac31ba5182de006debe967aa1a7debbdd90_step12\">12</a></td><td><span style=\"font-size:20px;\"><a class=\"ProveItLink\" href=\"../e229708ae91e933a44ca1cbb9a50ba4bb825d50b0/expr.ipynb\"><img src=\"../e229708ae91e933a44ca1cbb9a50ba4bb825d50b0/expr.png\" style=\"display:inline;vertical-align:middle;\" /></a> <a class=\"ProveItLink\" href=\"../6eb2db233aafc581b040fe3e80b41e975024c37a0/proof.ipynb\" style=\"text-decoration: none\">&#x22A2;&nbsp;</a><a class=\"ProveItLink\" href=\"../af21e96bc662cb74cc7cb3eb21c032f16e434dba0/expr.ipynb\"><img src=\"../af21e96bc662cb74cc7cb3eb21c032f16e434dba0/expr.png\" style=\"display:inline;vertical-align:middle;\" /></a></span></td></tr>\n",
       "<tr><td>&nbsp;</td><td colspan=4 style=\"text-align:left\"><span style=\"font-size:20px;\"><a class=\"ProveItLink\" href=\"../6adf35e534b0f74f25bdd03c03dfd88a84b3ace50/expr.ipynb\"><img src=\"../6adf35e534b0f74f25bdd03c03dfd88a84b3ace50/expr.png\" style=\"display:inline;vertical-align:middle;\" /></a> : <a class=\"ProveItLink\" href=\"../7f5851d30d9071ac5add92b1415dd8c1d59a5c620/expr.ipynb\"><img src=\"../7f5851d30d9071ac5add92b1415dd8c1d59a5c620/expr.png\" style=\"display:inline;vertical-align:middle;\" /></a>, <a class=\"ProveItLink\" href=\"../../../../../__pv_it/72df168d2bfb4e0140af90912ebf83b13772060b0/expr.ipynb\"><img src=\"../../../../../__pv_it/72df168d2bfb4e0140af90912ebf83b13772060b0/expr.png\" style=\"display:inline;vertical-align:middle;\" /></a> : <a class=\"ProveItLink\" href=\"../../../../../__pv_it/4d98b438710c5ada9ffa4646bb123a7d0e69ec000/expr.ipynb\"><img src=\"../../../../../__pv_it/4d98b438710c5ada9ffa4646bb123a7d0e69ec000/expr.png\" style=\"display:inline;vertical-align:middle;\" /></a></span></td></tr><tr><td><a name=\"proveit.logic.boolean.conjunction.6e50ddac31ba5182de006debe967aa1a7debbdd90_step7\">7</a></td><td>theorem</td><td></td><td><span style=\"font-size:20px;\"> <a class=\"ProveItLink\" href=\"../../../../equality/_proofs_/substituteTruth.ipynb\" style=\"text-decoration: none\">&#x22A2;&nbsp;</a><a class=\"ProveItLink\" href=\"../cb4017738b346b94d68e86902ba1797d4614d25f0/expr.ipynb\"><img src=\"../cb4017738b346b94d68e86902ba1797d4614d25f0/expr.png\" style=\"display:inline;vertical-align:middle;\" /></a></span></td></tr>\n",
       "<tr><td>&nbsp;</td><td colspan=4 style-\"text-align:left\"><a class=\"ProveItLink\" href=\"../../../../equality/_proofs_/substituteTruth.ipynb\">proveit.logic.equality.substituteTruth</a></td></tr><tr><td><a name=\"proveit.logic.boolean.conjunction.6e50ddac31ba5182de006debe967aa1a7debbdd90_step8\">8</a></td><td>theorem</td><td></td><td><span style=\"font-size:20px;\"> <a class=\"ProveItLink\" href=\"../../../_proofs_/trueInBool.ipynb\" style=\"text-decoration: none\">&#x22A2;&nbsp;</a><a class=\"ProveItLink\" href=\"../2f88e5c6f7ea7ef0da11c50a533a1f221022588f0/expr.ipynb\"><img src=\"../2f88e5c6f7ea7ef0da11c50a533a1f221022588f0/expr.png\" style=\"display:inline;vertical-align:middle;\" /></a></span></td></tr>\n",
       "<tr><td>&nbsp;</td><td colspan=4 style-\"text-align:left\"><a class=\"ProveItLink\" href=\"../../../_proofs_/trueInBool.ipynb\">proveit.logic.boolean.trueInBool</a></td></tr><tr><td><a name=\"proveit.logic.boolean.conjunction.6e50ddac31ba5182de006debe967aa1a7debbdd90_step9\">9</a></td><td>assumption</td><td></td><td><span style=\"font-size:20px;\"><a class=\"ProveItLink\" href=\"../1ea553d38af7f0e38bb62d4c24279012575f1f120/expr.ipynb\"><img src=\"../1ea553d38af7f0e38bb62d4c24279012575f1f120/expr.png\" style=\"display:inline;vertical-align:middle;\" /></a> <a class=\"ProveItLink\" href=\"../6df2516a358cef7703b5191c8a812f90d132ebab0/proof.ipynb\" style=\"text-decoration: none\">&#x22A2;&nbsp;</a><a class=\"ProveItLink\" href=\"../../../../../__pv_it/d3792d0d8642fdf1cd2a3a9b32c673ee13653de00/expr.ipynb\"><img src=\"../../../../../__pv_it/d3792d0d8642fdf1cd2a3a9b32c673ee13653de00/expr.png\" style=\"display:inline;vertical-align:middle;\" /></a></span></td></tr>\n",
       "<tr><td><a name=\"proveit.logic.boolean.conjunction.6e50ddac31ba5182de006debe967aa1a7debbdd90_step10\">10</a></td><td>theorem</td><td></td><td><span style=\"font-size:20px;\"> <a class=\"ProveItLink\" href=\"../../../../equality/_proofs_/substituteFalsehood.ipynb\" style=\"text-decoration: none\">&#x22A2;&nbsp;</a><a class=\"ProveItLink\" href=\"../c962aaa85c916363ef8029fcad203fef73ec8afe0/expr.ipynb\"><img src=\"../c962aaa85c916363ef8029fcad203fef73ec8afe0/expr.png\" style=\"display:inline;vertical-align:middle;\" /></a></span></td></tr>\n",
       "<tr><td>&nbsp;</td><td colspan=4 style-\"text-align:left\"><a class=\"ProveItLink\" href=\"../../../../equality/_proofs_/substituteFalsehood.ipynb\">proveit.logic.equality.substituteFalsehood</a></td></tr><tr><td><a name=\"proveit.logic.boolean.conjunction.6e50ddac31ba5182de006debe967aa1a7debbdd90_step11\">11</a></td><td>theorem</td><td></td><td><span style=\"font-size:20px;\"> <a class=\"ProveItLink\" href=\"../../../_proofs_/falseInBool.ipynb\" style=\"text-decoration: none\">&#x22A2;&nbsp;</a><a class=\"ProveItLink\" href=\"../2bb7f56da42f89a87e1f899e78805ed2ca5c4d690/expr.ipynb\"><img src=\"../2bb7f56da42f89a87e1f899e78805ed2ca5c4d690/expr.png\" style=\"display:inline;vertical-align:middle;\" /></a></span></td></tr>\n",
       "<tr><td>&nbsp;</td><td colspan=4 style-\"text-align:left\"><a class=\"ProveItLink\" href=\"../../../_proofs_/falseInBool.ipynb\">proveit.logic.boolean.falseInBool</a></td></tr><tr><td><a name=\"proveit.logic.boolean.conjunction.6e50ddac31ba5182de006debe967aa1a7debbdd90_step12\">12</a></td><td>assumption</td><td></td><td><span style=\"font-size:20px;\"><a class=\"ProveItLink\" href=\"../e229708ae91e933a44ca1cbb9a50ba4bb825d50b0/expr.ipynb\"><img src=\"../e229708ae91e933a44ca1cbb9a50ba4bb825d50b0/expr.png\" style=\"display:inline;vertical-align:middle;\" /></a> <a class=\"ProveItLink\" href=\"../dd750b3300473f9a3fd8bdd2dcf1c333dfa79c240/proof.ipynb\" style=\"text-decoration: none\">&#x22A2;&nbsp;</a><a class=\"ProveItLink\" href=\"../86f671dd514f6e615234986d96edb2c4ebb473e30/expr.ipynb\"><img src=\"../86f671dd514f6e615234986d96edb2c4ebb473e30/expr.png\" style=\"display:inline;vertical-align:middle;\" /></a></span></td></tr>\n",
       "</table>"
      ],
      "text/plain": [
       "<proveit._core_.proof._ShowProof at 0x7f5b88912908>"
      ]
     },
     "execution_count": 1,
     "metadata": {},
     "output_type": "execute_result"
    }
   ],
   "source": [
    "import proveit\n",
    "# Automation is not needed when only showing a stored proof:\n",
    "proveit.defaults.automation = False # This will speed things up.\n",
    "proveit.defaults.inline_pngs = False # Makes files smaller.\n",
    "%show_proof"
   ]
  },
  {
   "cell_type": "code",
   "execution_count": null,
   "metadata": {},
   "outputs": [],
   "source": []
  }
 ],
 "metadata": {
  "kernelspec": {
   "display_name": "Python 3",
   "language": "python",
   "name": "python3"
  },
  "language_info": {
   "codemirror_mode": {
    "name": "ipython",
    "version": 3
   },
   "file_extension": ".py",
   "mimetype": "text/x-python",
   "name": "python",
   "nbconvert_exporter": "python",
   "pygments_lexer": "ipython3",
   "version": "3.7.3"
  }
 },
 "nbformat": 4,
 "nbformat_minor": 1
}
