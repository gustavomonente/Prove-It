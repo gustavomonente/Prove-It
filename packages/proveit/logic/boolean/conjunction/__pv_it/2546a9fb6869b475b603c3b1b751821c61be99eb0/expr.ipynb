{
 "cells": [
  {
   "cell_type": "markdown",
   "metadata": {},
   "source": [
    "Expression of type <a class=\"ProveItLink\" href=\"../../../../../../../doc/html/api/proveit.logic.Forall.html\">Forall</a>\n",
    "=======================\n",
    "# from context <a class=\"ProveItLink\" href=\"../../_context_.ipynb\">proveit.logic.boolean.conjunction</a>"
   ]
  },
  {
   "cell_type": "code",
   "execution_count": 1,
   "metadata": {},
   "outputs": [],
   "source": [
    "import proveit\n",
    "# Automation is not needed when building an expression:\n",
    "proveit.defaults.automation = False # This will speed things up.\n",
    "proveit.defaults.inline_pngs = False # Makes files smaller.\n",
    "# import Expression classes needed to build the expression\n",
    "from proveit.core_expr_types._common_ import A_1_to_l, B_1_to_m, C_1_to_n\n",
    "from proveit.logic import And, Forall"
   ]
  },
  {
   "cell_type": "code",
   "execution_count": 2,
   "metadata": {},
   "outputs": [
    {
     "data": {
      "text/html": [
       "<strong id=\"expr\">expr:</strong> <a class=\"ProveItLink\" href=\"expr.ipynb\"><img src=\"expr.png\" style=\"display:inline;vertical-align:middle;\" /></a><br>"
      ],
      "text/plain": [
       "expr: forall_{A_{1}, ..A_{_a}.., A_{l}, B_{1}, ..B_{_a}.., B_{m}, C_{1}, ..C_{_a}.., C_{n} | A_{1}, ..A_{_a}.., A_{l}, B_{1}, ..B_{_a}.., B_{m}, C_{1}, ..C_{_a}.., C_{n}} (A_{1} and ..A_{_a}.. and A_{l} and (B_{1} and ..B_{_a}.. and B_{m}) and C_{1} and ..C_{_a}.. and C_{n})"
      ]
     },
     "execution_count": 2,
     "metadata": {},
     "output_type": "execute_result"
    }
   ],
   "source": [
    "# build up the expression from sub-expressions\n",
    "subExpr1 = [A_1_to_l, B_1_to_m, C_1_to_n]\n",
    "expr = Forall(subExpr1, And(A_1_to_l, And(B_1_to_m), C_1_to_n), conditions = subExpr1)"
   ]
  },
  {
   "cell_type": "code",
   "execution_count": 3,
   "metadata": {},
   "outputs": [
    {
     "name": "stdout",
     "output_type": "stream",
     "text": [
      "Passed sanity check: built 'expr' is the same as the stored Expression.\n"
     ]
    }
   ],
   "source": [
    "# check that the built expression is the same as the stored expression\n",
    "%check_expr"
   ]
  },
  {
   "cell_type": "code",
   "execution_count": 4,
   "metadata": {},
   "outputs": [
    {
     "name": "stdout",
     "output_type": "stream",
     "text": [
      "\\forall_{A_{1}, \\ldots, A_{l}, B_{1}, \\ldots, B_{m}, C_{1}, \\ldots, C_{n}~|~A_{1}, \\ldots, A_{l}, B_{1}, \\ldots, B_{m}, C_{1}, \\ldots, C_{n}}~\\left(A_{1} \\land \\ldots \\land A_{l} \\land \\left(B_{1} \\land \\ldots \\land B_{m}\\right) \\land C_{1} \\land \\ldots \\land C_{n}\\right)\n"
     ]
    }
   ],
   "source": [
    "# Show the LaTeX representation of the expression for convenience if you need it.\n",
    "print(expr.latex())"
   ]
  },
  {
   "cell_type": "code",
   "execution_count": 5,
   "metadata": {},
   "outputs": [
    {
     "data": {
      "text/html": [
       "<table><tr><th>&nbsp;</th><th>core type</th><th>sub-expressions</th><th>expression</th></tr>\n",
       "<tr><td>0</td><td>Operation</td><td>operator:&nbsp;1<br>operand:&nbsp;2<br></td><td><a class=\"ProveItLink\" href=\"expr.ipynb\"><img src=\"expr.png\" style=\"display:inline;vertical-align:middle;\" /></a></td></tr>\n",
       "<tr><td>1</td><td>Literal</td><td></td><td><a class=\"ProveItLink\" href=\"../../../quantification/universal/__pv_it/fd9c772d6675566ed52a6897806f45eb08a4ea910/expr.ipynb\"><img src=\"../../../quantification/universal/__pv_it/fd9c772d6675566ed52a6897806f45eb08a4ea910/expr.png\" style=\"display:inline;vertical-align:middle;\" /></a></td></tr>\n",
       "<tr><td>2</td><td>Lambda</td><td>parameters:&nbsp;7<br>body:&nbsp;3<br></td><td><a class=\"ProveItLink\" href=\"../7253999b5e6c93f37b8a26e46228aeccc38e04e30/expr.ipynb\"><img src=\"../7253999b5e6c93f37b8a26e46228aeccc38e04e30/expr.png\" style=\"display:inline;vertical-align:middle;\" /></a></td></tr>\n",
       "<tr><td>3</td><td>Conditional</td><td>value:&nbsp;4<br>condition:&nbsp;5<br></td><td><a class=\"ProveItLink\" href=\"../19d316ed1b43bbc547967dbe2cd0319fda288a850/expr.ipynb\"><img src=\"../19d316ed1b43bbc547967dbe2cd0319fda288a850/expr.png\" style=\"display:inline;vertical-align:middle;\" /></a></td></tr>\n",
       "<tr><td>4</td><td>Operation</td><td>operator:&nbsp;11<br>operands:&nbsp;6<br></td><td><a class=\"ProveItLink\" href=\"../f89d454e065b209f7b3ff334c764d3ce7e988eec0/expr.ipynb\"><img src=\"../f89d454e065b209f7b3ff334c764d3ce7e988eec0/expr.png\" style=\"display:inline;vertical-align:middle;\" /></a></td></tr>\n",
       "<tr><td>5</td><td>Operation</td><td>operator:&nbsp;11<br>operands:&nbsp;7<br></td><td><a class=\"ProveItLink\" href=\"../71d95aa90034f094bcf5cc885f51034fd9685aad0/expr.ipynb\"><img src=\"../71d95aa90034f094bcf5cc885f51034fd9685aad0/expr.png\" style=\"display:inline;vertical-align:middle;\" /></a></td></tr>\n",
       "<tr><td>6</td><td>ExprTuple</td><td>9, 8, 10</td><td><a class=\"ProveItLink\" href=\"../32e9547e44f2411500b4e50676e2647d45d2a9d30/expr.ipynb\"><img src=\"../32e9547e44f2411500b4e50676e2647d45d2a9d30/expr.png\" style=\"display:inline;vertical-align:middle;\" /></a></td></tr>\n",
       "<tr><td>7</td><td>ExprTuple</td><td>9, 17, 10</td><td><a class=\"ProveItLink\" href=\"../293c3226d72cceab2d572c0e76a2605db99bddd60/expr.ipynb\"><img src=\"../293c3226d72cceab2d572c0e76a2605db99bddd60/expr.png\" style=\"display:inline;vertical-align:middle;\" /></a></td></tr>\n",
       "<tr><td>8</td><td>Operation</td><td>operator:&nbsp;11<br>operands:&nbsp;12<br></td><td><a class=\"ProveItLink\" href=\"../774d2fc2418b5f75ec87b63fe927bd060c6aae4d0/expr.ipynb\"><img src=\"../774d2fc2418b5f75ec87b63fe927bd060c6aae4d0/expr.png\" style=\"display:inline;vertical-align:middle;\" /></a></td></tr>\n",
       "<tr><td>9</td><td>ExprRange</td><td>lambda_map:&nbsp;13<br>start_index:&nbsp;21<br>end_index:&nbsp;14<br></td><td><a class=\"ProveItLink\" href=\"../../../../../core_expr_types/__pv_it/839a259a6ca8466c24593b83470b919b844a19800/expr.ipynb\"><img src=\"../../../../../core_expr_types/__pv_it/839a259a6ca8466c24593b83470b919b844a19800/expr.png\" style=\"display:inline;vertical-align:middle;\" /></a></td></tr>\n",
       "<tr><td>10</td><td>ExprRange</td><td>lambda_map:&nbsp;15<br>start_index:&nbsp;21<br>end_index:&nbsp;16<br></td><td><a class=\"ProveItLink\" href=\"../../../../../core_expr_types/__pv_it/4f07bf761c2070b42d61d3523fc3908a9fcc11930/expr.ipynb\"><img src=\"../../../../../core_expr_types/__pv_it/4f07bf761c2070b42d61d3523fc3908a9fcc11930/expr.png\" style=\"display:inline;vertical-align:middle;\" /></a></td></tr>\n",
       "<tr><td>11</td><td>Literal</td><td></td><td><a class=\"ProveItLink\" href=\"../f41cc6b553210927c09f19a8a39cdf860a5585930/expr.ipynb\"><img src=\"../f41cc6b553210927c09f19a8a39cdf860a5585930/expr.png\" style=\"display:inline;vertical-align:middle;\" /></a></td></tr>\n",
       "<tr><td>12</td><td>ExprTuple</td><td>17</td><td><a class=\"ProveItLink\" href=\"../c334c2906f87342c8083cfe44909f589a58c11bd0/expr.ipynb\"><img src=\"../c334c2906f87342c8083cfe44909f589a58c11bd0/expr.png\" style=\"display:inline;vertical-align:middle;\" /></a></td></tr>\n",
       "<tr><td>13</td><td>Lambda</td><td>parameter:&nbsp;27<br>body:&nbsp;18<br></td><td><a class=\"ProveItLink\" href=\"../../../../../core_expr_types/__pv_it/cbf4a2d6122f8f76eeb36bd1c0d8bf52d8e05a560/expr.ipynb\"><img src=\"../../../../../core_expr_types/__pv_it/cbf4a2d6122f8f76eeb36bd1c0d8bf52d8e05a560/expr.png\" style=\"display:inline;vertical-align:middle;\" /></a></td></tr>\n",
       "<tr><td>14</td><td>Variable</td><td></td><td><a class=\"ProveItLink\" href=\"../../../../../__pv_it/146a2ac733407ae00030c58af25a3e0f465a566a0/expr.ipynb\"><img src=\"../../../../../__pv_it/146a2ac733407ae00030c58af25a3e0f465a566a0/expr.png\" style=\"display:inline;vertical-align:middle;\" /></a></td></tr>\n",
       "<tr><td>15</td><td>Lambda</td><td>parameter:&nbsp;27<br>body:&nbsp;19<br></td><td><a class=\"ProveItLink\" href=\"../../../../../core_expr_types/__pv_it/1f1f93a97ffa923da2b370597cfe676c10d3dee70/expr.ipynb\"><img src=\"../../../../../core_expr_types/__pv_it/1f1f93a97ffa923da2b370597cfe676c10d3dee70/expr.png\" style=\"display:inline;vertical-align:middle;\" /></a></td></tr>\n",
       "<tr><td>16</td><td>Variable</td><td></td><td><a class=\"ProveItLink\" href=\"../../../../../__pv_it/0c1c4cb515e0f4344b1ac06650f349123e526deb0/expr.ipynb\"><img src=\"../../../../../__pv_it/0c1c4cb515e0f4344b1ac06650f349123e526deb0/expr.png\" style=\"display:inline;vertical-align:middle;\" /></a></td></tr>\n",
       "<tr><td>17</td><td>ExprRange</td><td>lambda_map:&nbsp;20<br>start_index:&nbsp;21<br>end_index:&nbsp;22<br></td><td><a class=\"ProveItLink\" href=\"../../../../../core_expr_types/__pv_it/cc13ebdb97aaba285db2983e69dad633c6b44c830/expr.ipynb\"><img src=\"../../../../../core_expr_types/__pv_it/cc13ebdb97aaba285db2983e69dad633c6b44c830/expr.png\" style=\"display:inline;vertical-align:middle;\" /></a></td></tr>\n",
       "<tr><td>18</td><td>IndexedVar</td><td>variable:&nbsp;23<br>index:&nbsp;27<br></td><td><a class=\"ProveItLink\" href=\"../../../../../core_expr_types/__pv_it/a433d6021a2b0d85d326303b1d692b18969c0dc30/expr.ipynb\"><img src=\"../../../../../core_expr_types/__pv_it/a433d6021a2b0d85d326303b1d692b18969c0dc30/expr.png\" style=\"display:inline;vertical-align:middle;\" /></a></td></tr>\n",
       "<tr><td>19</td><td>IndexedVar</td><td>variable:&nbsp;24<br>index:&nbsp;27<br></td><td><a class=\"ProveItLink\" href=\"../../../../../core_expr_types/__pv_it/3b86bd3b2e16136132e508dd7cfa1ad89a15b7bf0/expr.ipynb\"><img src=\"../../../../../core_expr_types/__pv_it/3b86bd3b2e16136132e508dd7cfa1ad89a15b7bf0/expr.png\" style=\"display:inline;vertical-align:middle;\" /></a></td></tr>\n",
       "<tr><td>20</td><td>Lambda</td><td>parameter:&nbsp;27<br>body:&nbsp;25<br></td><td><a class=\"ProveItLink\" href=\"../../../../../core_expr_types/__pv_it/99d75944d259e8bc62584dcc098a8987eb98ee6d0/expr.ipynb\"><img src=\"../../../../../core_expr_types/__pv_it/99d75944d259e8bc62584dcc098a8987eb98ee6d0/expr.png\" style=\"display:inline;vertical-align:middle;\" /></a></td></tr>\n",
       "<tr><td>21</td><td>Literal</td><td></td><td><a class=\"ProveItLink\" href=\"../../../../../number/numeral/__pv_it/f086f8c372bd40a2458306ddfdbb29f3dc6f63030/expr.ipynb\"><img src=\"../../../../../number/numeral/__pv_it/f086f8c372bd40a2458306ddfdbb29f3dc6f63030/expr.png\" style=\"display:inline;vertical-align:middle;\" /></a></td></tr>\n",
       "<tr><td>22</td><td>Variable</td><td></td><td><a class=\"ProveItLink\" href=\"../../../../../__pv_it/6e8a38e9a7e2b6af352562cd77e0eb4751f142620/expr.ipynb\"><img src=\"../../../../../__pv_it/6e8a38e9a7e2b6af352562cd77e0eb4751f142620/expr.png\" style=\"display:inline;vertical-align:middle;\" /></a></td></tr>\n",
       "<tr><td>23</td><td>Variable</td><td></td><td><a class=\"ProveItLink\" href=\"../../../../../__pv_it/d3792d0d8642fdf1cd2a3a9b32c673ee13653de00/expr.ipynb\"><img src=\"../../../../../__pv_it/d3792d0d8642fdf1cd2a3a9b32c673ee13653de00/expr.png\" style=\"display:inline;vertical-align:middle;\" /></a></td></tr>\n",
       "<tr><td>24</td><td>Variable</td><td></td><td><a class=\"ProveItLink\" href=\"../../../../../__pv_it/dcb5a3e430485237dfe486162b026a4affb149300/expr.ipynb\"><img src=\"../../../../../__pv_it/dcb5a3e430485237dfe486162b026a4affb149300/expr.png\" style=\"display:inline;vertical-align:middle;\" /></a></td></tr>\n",
       "<tr><td>25</td><td>IndexedVar</td><td>variable:&nbsp;26<br>index:&nbsp;27<br></td><td><a class=\"ProveItLink\" href=\"../../../../../core_expr_types/__pv_it/dd60a21b14ad80238615b0d2b74a678a11574e790/expr.ipynb\"><img src=\"../../../../../core_expr_types/__pv_it/dd60a21b14ad80238615b0d2b74a678a11574e790/expr.png\" style=\"display:inline;vertical-align:middle;\" /></a></td></tr>\n",
       "<tr><td>26</td><td>Variable</td><td></td><td><a class=\"ProveItLink\" href=\"../../../../../__pv_it/4d98b438710c5ada9ffa4646bb123a7d0e69ec000/expr.ipynb\"><img src=\"../../../../../__pv_it/4d98b438710c5ada9ffa4646bb123a7d0e69ec000/expr.png\" style=\"display:inline;vertical-align:middle;\" /></a></td></tr>\n",
       "<tr><td>27</td><td>Variable</td><td></td><td><a class=\"ProveItLink\" href=\"../../../../../core_expr_types/__pv_it/1e653f789234b245ee7fea7caad998c139d617410/expr.ipynb\"><img src=\"../../../../../core_expr_types/__pv_it/1e653f789234b245ee7fea7caad998c139d617410/expr.png\" style=\"display:inline;vertical-align:middle;\" /></a></td></tr>\n",
       "</table>\n"
      ],
      "text/plain": [
       "0. forall_{A_{1}, ..A_{_a}.., A_{l}, B_{1}, ..B_{_a}.., B_{m}, C_{1}, ..C_{_a}.., C_{n} | A_{1}, ..A_{_a}.., A_{l}, B_{1}, ..B_{_a}.., B_{m}, C_{1}, ..C_{_a}.., C_{n}} (A_{1} and ..A_{_a}.. and A_{l} and (B_{1} and ..B_{_a}.. and B_{m}) and C_{1} and ..C_{_a}.. and C_{n})\n",
       "   core type: Operation\n",
       "   operator: 1\n",
       "   operand: 2\n",
       "1. forall\n",
       "   core type: Literal\n",
       "   sub-expressions: \n",
       "2. (A_{1}, ..A_{_a}.., A_{l}, B_{1}, ..B_{_a}.., B_{m}, C_{1}, ..C_{_a}.., C_{n}) -> {A_{1} and ..A_{_a}.. and A_{l} and (B_{1} and ..B_{_a}.. and B_{m}) and C_{1} and ..C_{_a}.. and C_{n} if A_{1} ,  ..A_{_a}.. ,  A_{l} ,  B_{1} ,  ..B_{_a}.. ,  B_{m} ,  C_{1} ,  ..C_{_a}.. ,  C_{n}.\n",
       "   core type: Lambda\n",
       "   parameters: 7\\n   body: 3\n",
       "3. {A_{1} and ..A_{_a}.. and A_{l} and (B_{1} and ..B_{_a}.. and B_{m}) and C_{1} and ..C_{_a}.. and C_{n} if A_{1} ,  ..A_{_a}.. ,  A_{l} ,  B_{1} ,  ..B_{_a}.. ,  B_{m} ,  C_{1} ,  ..C_{_a}.. ,  C_{n}.\n",
       "   core type: Conditional\n",
       "   value: 4\n",
       "   condition: 5\n",
       "4. A_{1} and ..A_{_a}.. and A_{l} and (B_{1} and ..B_{_a}.. and B_{m}) and C_{1} and ..C_{_a}.. and C_{n}\n",
       "   core type: Operation\n",
       "   operator: 11\n",
       "   operands: 6\n",
       "5. A_{1} and ..A_{_a}.. and A_{l} and B_{1} and ..B_{_a}.. and B_{m} and C_{1} and ..C_{_a}.. and C_{n}\n",
       "   core type: Operation\n",
       "   operator: 11\n",
       "   operands: 7\n",
       "6. (A_{1}, ..A_{_a}.., A_{l}, B_{1} and ..B_{_a}.. and B_{m}, C_{1}, ..C_{_a}.., C_{n})\n",
       "   core type: ExprTuple\n",
       "   sub-expressions: 9, 8, 10\n",
       "7. (A_{1}, ..A_{_a}.., A_{l}, B_{1}, ..B_{_a}.., B_{m}, C_{1}, ..C_{_a}.., C_{n})\n",
       "   core type: ExprTuple\n",
       "   sub-expressions: 9, 17, 10\n",
       "8. B_{1} and ..B_{_a}.. and B_{m}\n",
       "   core type: Operation\n",
       "   operator: 11\n",
       "   operands: 12\n",
       "9. A_{1}, ..A_{_a}.., A_{l}\n",
       "   core type: ExprRange\n",
       "   lambda_map: 13\n",
       "   start_index: 21\n",
       "   end_index: 14\n",
       "10. C_{1}, ..C_{_a}.., C_{n}\n",
       "    core type: ExprRange\n",
       "    lambda_map: 15\n",
       "    start_index: 21\n",
       "    end_index: 16\n",
       "11. and\n",
       "    core type: Literal\n",
       "    sub-expressions: \n",
       "12. (B_{1}, ..B_{_a}.., B_{m})\n",
       "    core type: ExprTuple\n",
       "    sub-expressions: 17\n",
       "13. _a -> A_{_a}\n",
       "    core type: Lambda\n",
       "    parameter: 27\n",
       "    body: 18\n",
       "14. l\n",
       "    core type: Variable\n",
       "    sub-expressions: \n",
       "15. _a -> C_{_a}\n",
       "    core type: Lambda\n",
       "    parameter: 27\n",
       "    body: 19\n",
       "16. n\n",
       "    core type: Variable\n",
       "    sub-expressions: \n",
       "17. B_{1}, ..B_{_a}.., B_{m}\n",
       "    core type: ExprRange\n",
       "    lambda_map: 20\n",
       "    start_index: 21\n",
       "    end_index: 22\n",
       "18. A_{_a}\n",
       "    core type: IndexedVar\n",
       "variable: 23\n",
       "index: 27\n",
       "19. C_{_a}\n",
       "    core type: IndexedVar\n",
       "variable: 24\n",
       "index: 27\n",
       "20. _a -> B_{_a}\n",
       "    core type: Lambda\n",
       "    parameter: 27\n",
       "    body: 25\n",
       "21. 1\n",
       "    core type: Literal\n",
       "    sub-expressions: \n",
       "22. m\n",
       "    core type: Variable\n",
       "    sub-expressions: \n",
       "23. A\n",
       "    core type: Variable\n",
       "    sub-expressions: \n",
       "24. C\n",
       "    core type: Variable\n",
       "    sub-expressions: \n",
       "25. B_{_a}\n",
       "    core type: IndexedVar\n",
       "variable: 26\n",
       "index: 27\n",
       "26. B\n",
       "    core type: Variable\n",
       "    sub-expressions: \n",
       "27. _a\n",
       "    core type: Variable\n",
       "    sub-expressions: "
      ]
     },
     "execution_count": 5,
     "metadata": {},
     "output_type": "execute_result"
    }
   ],
   "source": [
    "# display the expression information\n",
    "expr.exprInfo()"
   ]
  },
  {
   "cell_type": "code",
   "execution_count": null,
   "metadata": {},
   "outputs": [],
   "source": []
  }
 ],
 "metadata": {
  "kernelspec": {
   "display_name": "Python 3",
   "language": "python",
   "name": "python3"
  },
  "language_info": {
   "codemirror_mode": {
    "name": "ipython",
    "version": 3
   },
   "file_extension": ".py",
   "mimetype": "text/x-python",
   "name": "python",
   "nbconvert_exporter": "python",
   "pygments_lexer": "ipython3",
   "version": "3.7.3"
  }
 },
 "nbformat": 4,
 "nbformat_minor": 1
}
