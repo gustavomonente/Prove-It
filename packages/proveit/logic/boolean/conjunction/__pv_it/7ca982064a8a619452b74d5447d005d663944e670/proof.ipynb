{
 "cells": [
  {
   "cell_type": "markdown",
   "metadata": {},
   "source": [
    "Show the Proof\n",
    "========"
   ]
  },
  {
   "cell_type": "code",
   "execution_count": 1,
   "metadata": {},
   "outputs": [
    {
     "data": {
      "text/html": [
       "<table><tr><th>&nbsp;</th><th>step type</th><th>requirements</th><th>statement</th></tr>\n",
       "<tr><td><a name=\"proveit.logic.boolean.conjunction.7ca982064a8a619452b74d5447d005d663944e670_step0\">0</a></td><td>instantiation</td><td><a href=\"#proveit.logic.boolean.conjunction.7ca982064a8a619452b74d5447d005d663944e670_step1\">1</a>, <a href=\"#proveit.logic.boolean.conjunction.7ca982064a8a619452b74d5447d005d663944e670_step2\">2</a>, <a href=\"#proveit.logic.boolean.conjunction.7ca982064a8a619452b74d5447d005d663944e670_step3\">3</a></td><td><span style=\"font-size:20px;\"><a class=\"ProveItLink\" href=\"../8ae1cbee09d4fcdc5c55ee8702714511e6490eab0/expr.ipynb\"><img src=\"../8ae1cbee09d4fcdc5c55ee8702714511e6490eab0/expr.png\" style=\"display:inline;vertical-align:middle;\" /></a> <a class=\"ProveItLink\" href=\"proof.ipynb\" style=\"text-decoration: none\">&#x22A2;&nbsp;</a><a class=\"ProveItLink\" href=\"../17b8dd5ac7c4f2bbd3baf30fbf3460b8bd2f67a60/expr.ipynb\"><img src=\"../17b8dd5ac7c4f2bbd3baf30fbf3460b8bd2f67a60/expr.png\" style=\"display:inline;vertical-align:middle;\" /></a></span></td></tr>\n",
       "<tr><td>&nbsp;</td><td colspan=4 style=\"text-align:left\"><span style=\"font-size:20px;\"><a class=\"ProveItLink\" href=\"../6adf35e534b0f74f25bdd03c03dfd88a84b3ace50/expr.ipynb\"><img src=\"../6adf35e534b0f74f25bdd03c03dfd88a84b3ace50/expr.png\" style=\"display:inline;vertical-align:middle;\" /></a> : <a class=\"ProveItLink\" href=\"../533d6bc8de9de9ed21cd664593fb313f853fa6c90/expr.ipynb\"><img src=\"../533d6bc8de9de9ed21cd664593fb313f853fa6c90/expr.png\" style=\"display:inline;vertical-align:middle;\" /></a>, <a class=\"ProveItLink\" href=\"../../../../../__pv_it/72df168d2bfb4e0140af90912ebf83b13772060b0/expr.ipynb\"><img src=\"../../../../../__pv_it/72df168d2bfb4e0140af90912ebf83b13772060b0/expr.png\" style=\"display:inline;vertical-align:middle;\" /></a> : <a class=\"ProveItLink\" href=\"../../../../../__pv_it/4d98b438710c5ada9ffa4646bb123a7d0e69ec000/expr.ipynb\"><img src=\"../../../../../__pv_it/4d98b438710c5ada9ffa4646bb123a7d0e69ec000/expr.png\" style=\"display:inline;vertical-align:middle;\" /></a>, <a class=\"ProveItLink\" href=\"../../../../../__pv_it/c6e291955561f22a0e6708fd793ea93f1c7dbb5d0/expr.ipynb\"><img src=\"../../../../../__pv_it/c6e291955561f22a0e6708fd793ea93f1c7dbb5d0/expr.png\" style=\"display:inline;vertical-align:middle;\" /></a> : <a class=\"ProveItLink\" href=\"../../../__pv_it/83a1ddf0f64531c80e7f41ea6b904214668818b30/expr.ipynb\"><img src=\"../../../__pv_it/83a1ddf0f64531c80e7f41ea6b904214668818b30/expr.png\" style=\"display:inline;vertical-align:middle;\" /></a></span></td></tr><tr><td><a name=\"proveit.logic.boolean.conjunction.7ca982064a8a619452b74d5447d005d663944e670_step1\">1</a></td><td><i>reference</i></td><td><a href=\"#proveit.logic.boolean.conjunction.7ca982064a8a619452b74d5447d005d663944e670_step4\">4</a></td><td><span style=\"font-size:20px;\"> <a class=\"ProveItLink\" href=\"../../../../equality/_proofs_/subLeftSideInto.ipynb\" style=\"text-decoration: none\">&#x22A2;&nbsp;</a><a class=\"ProveItLink\" href=\"../24262610a5ccb1e3837fb16c72b6c22b3d200a890/expr.ipynb\"><img src=\"../24262610a5ccb1e3837fb16c72b6c22b3d200a890/expr.png\" style=\"display:inline;vertical-align:middle;\" /></a></span></td></tr>\n",
       "<tr><td><a name=\"proveit.logic.boolean.conjunction.7ca982064a8a619452b74d5447d005d663944e670_step2\">2</a></td><td>instantiation</td><td><a href=\"#proveit.logic.boolean.conjunction.7ca982064a8a619452b74d5447d005d663944e670_step4\">4</a>, <a href=\"#proveit.logic.boolean.conjunction.7ca982064a8a619452b74d5447d005d663944e670_step5\">5</a>, <a href=\"#proveit.logic.boolean.conjunction.7ca982064a8a619452b74d5447d005d663944e670_step6\">6</a></td><td><span style=\"font-size:20px;\"><a class=\"ProveItLink\" href=\"../1ea553d38af7f0e38bb62d4c24279012575f1f120/expr.ipynb\"><img src=\"../1ea553d38af7f0e38bb62d4c24279012575f1f120/expr.png\" style=\"display:inline;vertical-align:middle;\" /></a> <a class=\"ProveItLink\" href=\"../1074e43859bf6f01c97f4da5f57ec6e5c91ceab30/proof.ipynb\" style=\"text-decoration: none\">&#x22A2;&nbsp;</a><a class=\"ProveItLink\" href=\"../3c356d2081d8196e204afd72ac281703b5f003a30/expr.ipynb\"><img src=\"../3c356d2081d8196e204afd72ac281703b5f003a30/expr.png\" style=\"display:inline;vertical-align:middle;\" /></a></span></td></tr>\n",
       "<tr><td>&nbsp;</td><td colspan=4 style=\"text-align:left\"><span style=\"font-size:20px;\"><a class=\"ProveItLink\" href=\"../6adf35e534b0f74f25bdd03c03dfd88a84b3ace50/expr.ipynb\"><img src=\"../6adf35e534b0f74f25bdd03c03dfd88a84b3ace50/expr.png\" style=\"display:inline;vertical-align:middle;\" /></a> : <a class=\"ProveItLink\" href=\"../3947156343ee670e569c93d93bba031584b0ee100/expr.ipynb\"><img src=\"../3947156343ee670e569c93d93bba031584b0ee100/expr.png\" style=\"display:inline;vertical-align:middle;\" /></a>, <a class=\"ProveItLink\" href=\"../../../../../__pv_it/72df168d2bfb4e0140af90912ebf83b13772060b0/expr.ipynb\"><img src=\"../../../../../__pv_it/72df168d2bfb4e0140af90912ebf83b13772060b0/expr.png\" style=\"display:inline;vertical-align:middle;\" /></a> : <a class=\"ProveItLink\" href=\"../../../../../__pv_it/d3792d0d8642fdf1cd2a3a9b32c673ee13653de00/expr.ipynb\"><img src=\"../../../../../__pv_it/d3792d0d8642fdf1cd2a3a9b32c673ee13653de00/expr.png\" style=\"display:inline;vertical-align:middle;\" /></a>, <a class=\"ProveItLink\" href=\"../../../../../__pv_it/c6e291955561f22a0e6708fd793ea93f1c7dbb5d0/expr.ipynb\"><img src=\"../../../../../__pv_it/c6e291955561f22a0e6708fd793ea93f1c7dbb5d0/expr.png\" style=\"display:inline;vertical-align:middle;\" /></a> : <a class=\"ProveItLink\" href=\"../../../__pv_it/b5b8ce0f03ab68a7c7bb937dfeb4112a686e3cbb0/expr.ipynb\"><img src=\"../../../__pv_it/b5b8ce0f03ab68a7c7bb937dfeb4112a686e3cbb0/expr.png\" style=\"display:inline;vertical-align:middle;\" /></a></span></td></tr><tr><td><a name=\"proveit.logic.boolean.conjunction.7ca982064a8a619452b74d5447d005d663944e670_step3\">3</a></td><td>instantiation</td><td><a href=\"#proveit.logic.boolean.conjunction.7ca982064a8a619452b74d5447d005d663944e670_step7\">7</a>, <a href=\"#proveit.logic.boolean.conjunction.7ca982064a8a619452b74d5447d005d663944e670_step8\">8</a></td><td><span style=\"font-size:20px;\"><a class=\"ProveItLink\" href=\"../e229708ae91e933a44ca1cbb9a50ba4bb825d50b0/expr.ipynb\"><img src=\"../e229708ae91e933a44ca1cbb9a50ba4bb825d50b0/expr.png\" style=\"display:inline;vertical-align:middle;\" /></a> <a class=\"ProveItLink\" href=\"../df60a95b81c734512c43981173cf8f79027a2d360/proof.ipynb\" style=\"text-decoration: none\">&#x22A2;&nbsp;</a><a class=\"ProveItLink\" href=\"../387cd9895ff1d4aafd53ec22a04eedd890611bf30/expr.ipynb\"><img src=\"../387cd9895ff1d4aafd53ec22a04eedd890611bf30/expr.png\" style=\"display:inline;vertical-align:middle;\" /></a></span></td></tr>\n",
       "<tr><td>&nbsp;</td><td colspan=4 style=\"text-align:left\"><span style=\"font-size:20px;\"><a class=\"ProveItLink\" href=\"../../../../../__pv_it/d3792d0d8642fdf1cd2a3a9b32c673ee13653de00/expr.ipynb\"><img src=\"../../../../../__pv_it/d3792d0d8642fdf1cd2a3a9b32c673ee13653de00/expr.png\" style=\"display:inline;vertical-align:middle;\" /></a> : <a class=\"ProveItLink\" href=\"../../../../../__pv_it/4d98b438710c5ada9ffa4646bb123a7d0e69ec000/expr.ipynb\"><img src=\"../../../../../__pv_it/4d98b438710c5ada9ffa4646bb123a7d0e69ec000/expr.png\" style=\"display:inline;vertical-align:middle;\" /></a></span></td></tr><tr><td><a name=\"proveit.logic.boolean.conjunction.7ca982064a8a619452b74d5447d005d663944e670_step4\">4</a></td><td>theorem</td><td></td><td><span style=\"font-size:20px;\"> <a class=\"ProveItLink\" href=\"../../../../equality/_proofs_/subLeftSideInto.ipynb\" style=\"text-decoration: none\">&#x22A2;&nbsp;</a><a class=\"ProveItLink\" href=\"../24262610a5ccb1e3837fb16c72b6c22b3d200a890/expr.ipynb\"><img src=\"../24262610a5ccb1e3837fb16c72b6c22b3d200a890/expr.png\" style=\"display:inline;vertical-align:middle;\" /></a></span></td></tr>\n",
       "<tr><td>&nbsp;</td><td colspan=4 style-\"text-align:left\"><a class=\"ProveItLink\" href=\"../../../../equality/_proofs_/subLeftSideInto.ipynb\">proveit.logic.equality.subLeftSideInto</a></td></tr><tr><td><a name=\"proveit.logic.boolean.conjunction.7ca982064a8a619452b74d5447d005d663944e670_step5\">5</a></td><td>theorem</td><td></td><td><span style=\"font-size:20px;\"> <a class=\"ProveItLink\" href=\"../../_proofs_/trueAndFalseNegated.ipynb\" style=\"text-decoration: none\">&#x22A2;&nbsp;</a><a class=\"ProveItLink\" href=\"../2c0133563043d3ed120a21814f641d23cec1706f0/expr.ipynb\"><img src=\"../2c0133563043d3ed120a21814f641d23cec1706f0/expr.png\" style=\"display:inline;vertical-align:middle;\" /></a></span></td></tr>\n",
       "<tr><td>&nbsp;</td><td colspan=4 style-\"text-align:left\"><a class=\"ProveItLink\" href=\"../../_proofs_/trueAndFalseNegated.ipynb\">proveit.logic.boolean.conjunction.trueAndFalseNegated</a></td></tr><tr><td><a name=\"proveit.logic.boolean.conjunction.7ca982064a8a619452b74d5447d005d663944e670_step6\">6</a></td><td>instantiation</td><td><a href=\"#proveit.logic.boolean.conjunction.7ca982064a8a619452b74d5447d005d663944e670_step9\">9</a>, <a href=\"#proveit.logic.boolean.conjunction.7ca982064a8a619452b74d5447d005d663944e670_step10\">10</a></td><td><span style=\"font-size:20px;\"><a class=\"ProveItLink\" href=\"../1ea553d38af7f0e38bb62d4c24279012575f1f120/expr.ipynb\"><img src=\"../1ea553d38af7f0e38bb62d4c24279012575f1f120/expr.png\" style=\"display:inline;vertical-align:middle;\" /></a> <a class=\"ProveItLink\" href=\"../ca5364cbb50108d819f80a0f4524b4037a34fe070/proof.ipynb\" style=\"text-decoration: none\">&#x22A2;&nbsp;</a><a class=\"ProveItLink\" href=\"../f75f6197be3d7bd00d96c65437eb63b8e2ad03230/expr.ipynb\"><img src=\"../f75f6197be3d7bd00d96c65437eb63b8e2ad03230/expr.png\" style=\"display:inline;vertical-align:middle;\" /></a></span></td></tr>\n",
       "<tr><td>&nbsp;</td><td colspan=4 style=\"text-align:left\"><span style=\"font-size:20px;\"><a class=\"ProveItLink\" href=\"../../../../../__pv_it/d3792d0d8642fdf1cd2a3a9b32c673ee13653de00/expr.ipynb\"><img src=\"../../../../../__pv_it/d3792d0d8642fdf1cd2a3a9b32c673ee13653de00/expr.png\" style=\"display:inline;vertical-align:middle;\" /></a> : <a class=\"ProveItLink\" href=\"../../../../../__pv_it/d3792d0d8642fdf1cd2a3a9b32c673ee13653de00/expr.ipynb\"><img src=\"../../../../../__pv_it/d3792d0d8642fdf1cd2a3a9b32c673ee13653de00/expr.png\" style=\"display:inline;vertical-align:middle;\" /></a></span></td></tr><tr><td><a name=\"proveit.logic.boolean.conjunction.7ca982064a8a619452b74d5447d005d663944e670_step7\">7</a></td><td>axiom</td><td></td><td><span style=\"font-size:20px;\"> <a class=\"ProveItLink\" href=\"../../../negation/_axioms_.ipynb#negationElim\" style=\"text-decoration: none\">&#x22A2;&nbsp;</a><a class=\"ProveItLink\" href=\"../2cd4c4f7d38d4ee00340575d3092bcf4cb1b4c340/expr.ipynb\"><img src=\"../2cd4c4f7d38d4ee00340575d3092bcf4cb1b4c340/expr.png\" style=\"display:inline;vertical-align:middle;\" /></a></span></td></tr>\n",
       "<tr><td>&nbsp;</td><td colspan=4 style-\"text-align:left\"><a class=\"ProveItLink\" href=\"../../../negation/_axioms_.ipynb#negationElim\">proveit.logic.boolean.negation.negationElim</a></td></tr><tr><td><a name=\"proveit.logic.boolean.conjunction.7ca982064a8a619452b74d5447d005d663944e670_step8\">8</a></td><td>assumption</td><td></td><td><span style=\"font-size:20px;\"><a class=\"ProveItLink\" href=\"../e229708ae91e933a44ca1cbb9a50ba4bb825d50b0/expr.ipynb\"><img src=\"../e229708ae91e933a44ca1cbb9a50ba4bb825d50b0/expr.png\" style=\"display:inline;vertical-align:middle;\" /></a> <a class=\"ProveItLink\" href=\"../dd750b3300473f9a3fd8bdd2dcf1c333dfa79c240/proof.ipynb\" style=\"text-decoration: none\">&#x22A2;&nbsp;</a><a class=\"ProveItLink\" href=\"../86f671dd514f6e615234986d96edb2c4ebb473e30/expr.ipynb\"><img src=\"../86f671dd514f6e615234986d96edb2c4ebb473e30/expr.png\" style=\"display:inline;vertical-align:middle;\" /></a></span></td></tr>\n",
       "<tr><td><a name=\"proveit.logic.boolean.conjunction.7ca982064a8a619452b74d5447d005d663944e670_step9\">9</a></td><td>axiom</td><td></td><td><span style=\"font-size:20px;\"> <a class=\"ProveItLink\" href=\"../../../_axioms_.ipynb#eqTrueIntro\" style=\"text-decoration: none\">&#x22A2;&nbsp;</a><a class=\"ProveItLink\" href=\"../d2a33d0313b7bc56beacbbf95170c2a33b2ae8460/expr.ipynb\"><img src=\"../d2a33d0313b7bc56beacbbf95170c2a33b2ae8460/expr.png\" style=\"display:inline;vertical-align:middle;\" /></a></span></td></tr>\n",
       "<tr><td>&nbsp;</td><td colspan=4 style-\"text-align:left\"><a class=\"ProveItLink\" href=\"../../../_axioms_.ipynb#eqTrueIntro\">proveit.logic.boolean.eqTrueIntro</a></td></tr><tr><td><a name=\"proveit.logic.boolean.conjunction.7ca982064a8a619452b74d5447d005d663944e670_step10\">10</a></td><td>assumption</td><td></td><td><span style=\"font-size:20px;\"><a class=\"ProveItLink\" href=\"../1ea553d38af7f0e38bb62d4c24279012575f1f120/expr.ipynb\"><img src=\"../1ea553d38af7f0e38bb62d4c24279012575f1f120/expr.png\" style=\"display:inline;vertical-align:middle;\" /></a> <a class=\"ProveItLink\" href=\"../6df2516a358cef7703b5191c8a812f90d132ebab0/proof.ipynb\" style=\"text-decoration: none\">&#x22A2;&nbsp;</a><a class=\"ProveItLink\" href=\"../../../../../__pv_it/d3792d0d8642fdf1cd2a3a9b32c673ee13653de00/expr.ipynb\"><img src=\"../../../../../__pv_it/d3792d0d8642fdf1cd2a3a9b32c673ee13653de00/expr.png\" style=\"display:inline;vertical-align:middle;\" /></a></span></td></tr>\n",
       "</table>"
      ],
      "text/plain": [
       "<proveit._core_.proof._ShowProof at 0x7f5b9ad746d8>"
      ]
     },
     "execution_count": 1,
     "metadata": {},
     "output_type": "execute_result"
    }
   ],
   "source": [
    "import proveit\n",
    "# Automation is not needed when only showing a stored proof:\n",
    "proveit.defaults.automation = False # This will speed things up.\n",
    "proveit.defaults.inline_pngs = False # Makes files smaller.\n",
    "%show_proof"
   ]
  },
  {
   "cell_type": "code",
   "execution_count": null,
   "metadata": {},
   "outputs": [],
   "source": []
  }
 ],
 "metadata": {
  "kernelspec": {
   "display_name": "Python 3",
   "language": "python",
   "name": "python3"
  },
  "language_info": {
   "codemirror_mode": {
    "name": "ipython",
    "version": 3
   },
   "file_extension": ".py",
   "mimetype": "text/x-python",
   "name": "python",
   "nbconvert_exporter": "python",
   "pygments_lexer": "ipython3",
   "version": "3.7.3"
  }
 },
 "nbformat": 4,
 "nbformat_minor": 1
}
