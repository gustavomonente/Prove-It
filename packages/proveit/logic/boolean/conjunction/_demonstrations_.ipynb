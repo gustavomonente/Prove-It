{
 "cells": [
  {
   "cell_type": "markdown",
   "metadata": {},
   "source": [
    "Demonstrations for context <a class=\"ProveItLink\" href=\"_context_.ipynb\">proveit.logic.boolean.conjunction</a>\n",
    "========"
   ]
  },
  {
   "cell_type": "code",
   "execution_count": 1,
   "metadata": {},
   "outputs": [],
   "source": [
    "from proveit import ExprTuple\n",
    "from proveit._common_ import a, b, c, d, e, f, A,B,C,D,E,F,G,H, i, j, k, l, m,n\n",
    "from proveit.core_expr_types._common_ import A_1_to_m, B_1_to_n,C_1_to_n\n",
    "from proveit.logic import And, Or, Not, TRUE, FALSE, Equals, inBool, Booleans\n",
    "from proveit.number import zero, one, two, three,five,Add, Exp, subtract\n",
    "%begin demonstrations"
   ]
  },
  {
   "cell_type": "code",
   "execution_count": 2,
   "metadata": {},
   "outputs": [],
   "source": [
    "#And(A,B,C,D,E,F).deriveSomeFromAnd(3, assumptions=[And(A,B,C,varIter(D, one, one),E,F)])"
   ]
  },
  {
   "cell_type": "code",
   "execution_count": 3,
   "metadata": {},
   "outputs": [],
   "source": [
    "#And(varIter(A, one, five), varIter(B, one, two), varIter(C, one, three)).deriveSomeFromAnd(1)"
   ]
  },
  {
   "cell_type": "code",
   "execution_count": 4,
   "metadata": {},
   "outputs": [],
   "source": [
    "#And(A_1_to_m, B_1_to_n, C_1_to_n).deriveSomeFromAnd(1)"
   ]
  },
  {
   "cell_type": "code",
   "execution_count": 5,
   "metadata": {},
   "outputs": [
    {
     "data": {
      "text/html": [
       "<a class=\"ProveItLink\" href=\"__pv_it/c1a379c5402c3c9c994bbe56b770324a67da9b4b0/expr.ipynb\"><img src=\"data:image/png;base64,iVBORw0KGgoAAAANSUhEUgAAAT8AAAAUBAMAAAAJlCfZAAAAMFBMVEX///9UVFTMzMx2dna6uroQ\n",
       "EBCqqqqIiIgiIiJmZmYyMjJERETu7u6YmJjc3NwAAAC+aOQFAAAAAXRSTlMAQObYZgAAAohJREFU\n",
       "SMellj9o1FAcx79eYry7JPUQxUGQm1y9uhzndGPHggeCOLhInewNQukgHIgdJeAiQiGWIpKhdHPq\n",
       "cSKF0grXVQfNJF3UgkVBivjyXpLL++XlfE1/8DvI5+X3fd+8d+8PMLMPRURU3RLHw0JqhXn+DaXl\n",
       "sAcYj2/Qpr04C+NMWEiv5rCzeQq5DeA1dmj7RpzKsO6yPv1CupsrqIfl5VwP7jyMuH0hbmWUpzLe\n",
       "zR6z33byuECp0acVH6EtZ/UJrYawG7COZYOM8lSHG729TQxOqDNPC55BWy4xmNID4HwD5i+5s4M4\n",
       "pyjWuyqDnK7TFTfQl5MNMroMjD2Yv+XOlkWas9+XLlfaF1WKhqcyyGmHvH/O05eTDTK6BfxooUIM\n",
       "bok07LcYP8J9laLrqwxy+il6NAIeUb/2vr6cbJDRFWbQQ+Wn3NmKyGtVP7L/RaVoDVQGOX1A3q/e\n",
       "05eTDTLam0zxzSB4GgSvotaeyNG4i8URrkRolw/IWlpbOYRcM6HXiYOz3ZycI8a3KReyUX9zJwga\n",
       "Wdrji8QiiyQ2iEXgBXBb9cnCIB3BqQZ15OQRZJSNvL0pnvJTjJfAE5h/HYWiqZxiTucy/8FGZop1\n",
       "5GSDjLL/rmKjjhcJbsE5Qs3/WmKRZCJZJDpyuUXS4R+33ZQ764icOYJ1iHqrRbaNqLbWIgYn9Dkx\n",
       "mOw9OnKpwYRG0/F+6QLpbE4kG2G2h1mr8iFQu/Rnle2hTbkmQ9eIwWTedeQSgymVTyC9o47HDq1J\n",
       "qTM42VEnyVl9QuUz/IPOZUFEm9ak9ISXBVnOGVE6VL4/LGxJhPxCmr9u2eEp5NT3yP9eWO2wkA5L\n",
       "XFinyJW88n8upG6ZK3+h3D+2ICUtEPC3AwAAAABJRU5ErkJggg==\n",
       "\" style=\"display:inline;vertical-align:middle;\" /></a>"
      ],
      "text/plain": [
       "(0 + ((m - 1) + 1)) = ((m - 1) + 1)"
      ]
     },
     "execution_count": 5,
     "metadata": {},
     "output_type": "execute_result"
    }
   ],
   "source": [
    "Equals(Add(zero, Add(subtract(m, one), one)), Add(subtract(m, one), one))"
   ]
  },
  {
   "cell_type": "code",
   "execution_count": 6,
   "metadata": {},
   "outputs": [],
   "source": [
    "#Equals(Add(zero, Add(subtract(m, one), one)), Add(subtract(m, one), one)).prove()"
   ]
  },
  {
   "cell_type": "code",
   "execution_count": 7,
   "metadata": {},
   "outputs": [
    {
     "data": {
      "text/html": [
       "<strong id=\"expr\">expr:</strong> <a class=\"ProveItLink\" href=\"__pv_it/176a914976ebfd89fa388e9ab51a82425773327f0/expr.ipynb\"><img src=\"data:image/png;base64,iVBORw0KGgoAAAANSUhEUgAAALEAAAASBAMAAADmjyK2AAAAMFBMVEX///9UVFSqqqrMzMwiIiJE\n",
       "RESYmJgyMjK6urru7u4QEBCIiIh2dnZmZmbc3NwAAABRgo0vAAAAAXRSTlMAQObYZgAAAblJREFU\n",
       "OMu1kz9Lw0AYxp/0f/p/c9AhfgBpP0Id3BQqOHXKVBCX+AEqHZzq0Gx1KQWHgrgEugilUERc6lAc\n",
       "bdEIgqPiotm8u7Tpeyk0Ln1DXvjd+zyXu3svgD/USgkBEa6MAxTtgU1xBvGxzP46i5wWINgqaLRQ\n",
       "k2we++ssmuZqgfp7Ke3xyKQ2j/11FvcBgtCXVFAuLGJbMJa5FiBIi1Zlp5NrgS24rTvtP0mMUb9I\n",
       "OTvtfUsCdeT2yzPEng94rxp23F37HXu47sfs2ITxrkUNyg076lADzu3skDJrFV+82kWmLLCED3FG\n",
       "jluYM/ahaIS5waAG9QrtIjUAn5wzDiJiopgFRQwY6AwpO7MtLjgypANKt39MmUWBp2QZHcERE+G8\n",
       "e52bGuGkuyPKnTodyOVlwfwSsPWJL2CHvWdcqOPVJCw2ILPP4BOwOBQza9gI2bNBXszV2UlS1gGN\n",
       "8JKBn41FmMUNT1Ertpvm17zsbgiKHh1TzuRFgzxeMqQMtG3C/BcUebP3dsv7wM8uxb6tTh5AGY9V\n",
       "S6r7DRhUdYmRkH7BhMjFf/MqQbqM9cR2XF/TzHutNU2Mkxee/wDm5ZwUHgG6lAAAAABJRU5ErkJg\n",
       "gg==\n",
       "\" style=\"display:inline;vertical-align:middle;\" /></a><br>"
      ],
      "text/plain": [
       "expr: a and b and c and d and e and f"
      ]
     },
     "execution_count": 7,
     "metadata": {},
     "output_type": "execute_result"
    }
   ],
   "source": [
    "expr = And(a, b, c, d, e, f)"
   ]
  },
  {
   "cell_type": "code",
   "execution_count": 8,
   "metadata": {},
   "outputs": [
    {
     "data": {
      "text/html": [
       "<a class=\"ProveItLink\" href=\"__pv_it/6a34e5e617a694f4f7f02fd8d8740bc6da2e69710/expr.ipynb\"><img src=\"data:image/png;base64,iVBORw0KGgoAAAANSUhEUgAAAHwAAAArBAMAAABIu/HCAAAAMFBMVEX///9UVFSqqqrMzMwiIiJE\n",
       "RESYmJgyMjK6urru7u4QEBCIiIh2dnZmZmbc3NwAAABRgo0vAAAAAXRSTlMAQObYZgAAAjVJREFU\n",
       "SMftVr+LE0EU/jaXS25MLglaeHjN/gPqWaTVaCeIpBBELUwhNkFYGzslrVrcWgmHsI0KFkrgQIVF\n",
       "CIdeY+MP0CIa18pGQSOowSt87+1edmY9cLOphHshM/N9O9/M7Js38xZIY+p0A5ksCKvii2zyy2FV\n",
       "tTOpZ064Ui+7meTW9a7UTydSVd7170njJkKfXfRfTSC/FhS/SmONfuz5n64XpFaru5hvSquBT1zl\n",
       "Rqh2U8vnR8hL70IX1hITDrxeavmOJjxWIe9iphZu+3L6raOZ9ktjL/2v8La38CH91nk2dueCSMpD\n",
       "VDvkjtQ22y0cLnPQNMMXgNWanSBq1eLqx8ccNB0qSuRE1V/PEHNzUi5h27btP7H6/X8djf6A70Xz\n",
       "loybwySRwNba8K8MEqO50ZYJJsbeVT6R9aPGkseo3EgQyQ7hjbTg609jFE1jPtax5A7l5GUuf1VD\n",
       "wJfnh2yDuOUPDIwLt9+zzi5Tv8oRnMQY0Ys/wFnXII7js47JfstljIpDZQ87YwSstPAWBmGr1zqm\n",
       "Gb9z2QZ2YXwPh0jwMYPY037o6phSj+QxcuQB4E60oBAxVr8M4luiQ7QzOfJvMVAb0YiCyEEb0eCb\n",
       "BBId+DqX/BMI94PKGEENYTn7NIJfpaRjSmWcBuvhil5CPBMh4AzO1Xo68QhqoGMKOo65BW75KK+3\n",
       "ESPghn9wsaMTpTfnjQ70wcJFRz5hNgPJRFsQGn42zXHO1S5NI8+fcqaRF57w9v0BIj6SLUYLDE4A\n",
       "AAAASUVORK5CYII=\n",
       "\" style=\"display:inline;vertical-align:middle;\" /></a>"
      ],
      "text/plain": [
       "a and b \\\\  and c and d and e and f"
      ]
     },
     "execution_count": 8,
     "metadata": {},
     "output_type": "execute_result"
    }
   ],
   "source": [
    "expr.copy().withWrappingAt(3)"
   ]
  },
  {
   "cell_type": "code",
   "execution_count": 9,
   "metadata": {},
   "outputs": [
    {
     "data": {
      "text/html": [
       "<strong id=\"new_expr\">new_expr:</strong> <a class=\"ProveItLink\" href=\"__pv_it/6a34e5e617a694f4f7f02fd8d8740bc6da2e69710/expr.ipynb\"><img src=\"data:image/png;base64,iVBORw0KGgoAAAANSUhEUgAAAHwAAAArBAMAAABIu/HCAAAAMFBMVEX///9UVFSqqqrMzMwiIiJE\n",
       "RESYmJgyMjK6urru7u4QEBCIiIh2dnZmZmbc3NwAAABRgo0vAAAAAXRSTlMAQObYZgAAAjVJREFU\n",
       "SMftVr+LE0EU/jaXS25MLglaeHjN/gPqWaTVaCeIpBBELUwhNkFYGzslrVrcWgmHsI0KFkrgQIVF\n",
       "CIdeY+MP0CIa18pGQSOowSt87+1edmY9cLOphHshM/N9O9/M7Js38xZIY+p0A5ksCKvii2zyy2FV\n",
       "tTOpZ064Ui+7meTW9a7UTydSVd7170njJkKfXfRfTSC/FhS/SmONfuz5n64XpFaru5hvSquBT1zl\n",
       "Rqh2U8vnR8hL70IX1hITDrxeavmOJjxWIe9iphZu+3L6raOZ9ktjL/2v8La38CH91nk2dueCSMpD\n",
       "VDvkjtQ22y0cLnPQNMMXgNWanSBq1eLqx8ccNB0qSuRE1V/PEHNzUi5h27btP7H6/X8djf6A70Xz\n",
       "loybwySRwNba8K8MEqO50ZYJJsbeVT6R9aPGkseo3EgQyQ7hjbTg609jFE1jPtax5A7l5GUuf1VD\n",
       "wJfnh2yDuOUPDIwLt9+zzi5Tv8oRnMQY0Ys/wFnXII7js47JfstljIpDZQ87YwSstPAWBmGr1zqm\n",
       "Gb9z2QZ2YXwPh0jwMYPY037o6phSj+QxcuQB4E60oBAxVr8M4luiQ7QzOfJvMVAb0YiCyEEb0eCb\n",
       "BBId+DqX/BMI94PKGEENYTn7NIJfpaRjSmWcBuvhil5CPBMh4AzO1Xo68QhqoGMKOo65BW75KK+3\n",
       "ESPghn9wsaMTpTfnjQ70wcJFRz5hNgPJRFsQGn42zXHO1S5NI8+fcqaRF57w9v0BIj6SLUYLDE4A\n",
       "AAAASUVORK5CYII=\n",
       "\" style=\"display:inline;vertical-align:middle;\" /></a><br>"
      ],
      "text/plain": [
       "new_expr: a and b \\\\  and c and d and e and f"
      ]
     },
     "execution_count": 9,
     "metadata": {},
     "output_type": "execute_result"
    }
   ],
   "source": [
    "new_expr = expr.copy().withWrappingAt(3)"
   ]
  },
  {
   "cell_type": "code",
   "execution_count": 10,
   "metadata": {},
   "outputs": [
    {
     "data": {
      "text/html": [
       "<a class=\"ProveItLink\" href=\"__pv_it/176a914976ebfd89fa388e9ab51a82425773327f0/expr.ipynb\"><img src=\"data:image/png;base64,iVBORw0KGgoAAAANSUhEUgAAALEAAAASBAMAAADmjyK2AAAAMFBMVEX///9UVFSqqqrMzMwiIiJE\n",
       "RESYmJgyMjK6urru7u4QEBCIiIh2dnZmZmbc3NwAAABRgo0vAAAAAXRSTlMAQObYZgAAAblJREFU\n",
       "OMu1kz9Lw0AYxp/0f/p/c9AhfgBpP0Id3BQqOHXKVBCX+AEqHZzq0Gx1KQWHgrgEugilUERc6lAc\n",
       "bdEIgqPiotm8u7Tpeyk0Ln1DXvjd+zyXu3svgD/USgkBEa6MAxTtgU1xBvGxzP46i5wWINgqaLRQ\n",
       "k2we++ssmuZqgfp7Ke3xyKQ2j/11FvcBgtCXVFAuLGJbMJa5FiBIi1Zlp5NrgS24rTvtP0mMUb9I\n",
       "OTvtfUsCdeT2yzPEng94rxp23F37HXu47sfs2ITxrkUNyg076lADzu3skDJrFV+82kWmLLCED3FG\n",
       "jluYM/ahaIS5waAG9QrtIjUAn5wzDiJiopgFRQwY6AwpO7MtLjgypANKt39MmUWBp2QZHcERE+G8\n",
       "e52bGuGkuyPKnTodyOVlwfwSsPWJL2CHvWdcqOPVJCw2ILPP4BOwOBQza9gI2bNBXszV2UlS1gGN\n",
       "8JKBn41FmMUNT1Ertpvm17zsbgiKHh1TzuRFgzxeMqQMtG3C/BcUebP3dsv7wM8uxb6tTh5AGY9V\n",
       "S6r7DRhUdYmRkH7BhMjFf/MqQbqM9cR2XF/TzHutNU2Mkxee/wDm5ZwUHgG6lAAAAABJRU5ErkJg\n",
       "gg==\n",
       "\" style=\"display:inline;vertical-align:middle;\" /></a>"
      ],
      "text/plain": [
       "a and b and c and d and e and f"
      ]
     },
     "execution_count": 10,
     "metadata": {},
     "output_type": "execute_result"
    }
   ],
   "source": [
    "expr"
   ]
  },
  {
   "cell_type": "code",
   "execution_count": 11,
   "metadata": {},
   "outputs": [
    {
     "data": {
      "text/html": [
       "<a class=\"ProveItLink\" href=\"__pv_it/6a34e5e617a694f4f7f02fd8d8740bc6da2e69710/expr.ipynb\"><img src=\"data:image/png;base64,iVBORw0KGgoAAAANSUhEUgAAAHwAAAArBAMAAABIu/HCAAAAMFBMVEX///9UVFSqqqrMzMwiIiJE\n",
       "RESYmJgyMjK6urru7u4QEBCIiIh2dnZmZmbc3NwAAABRgo0vAAAAAXRSTlMAQObYZgAAAjVJREFU\n",
       "SMftVr+LE0EU/jaXS25MLglaeHjN/gPqWaTVaCeIpBBELUwhNkFYGzslrVrcWgmHsI0KFkrgQIVF\n",
       "CIdeY+MP0CIa18pGQSOowSt87+1edmY9cLOphHshM/N9O9/M7Js38xZIY+p0A5ksCKvii2zyy2FV\n",
       "tTOpZ064Ui+7meTW9a7UTydSVd7170njJkKfXfRfTSC/FhS/SmONfuz5n64XpFaru5hvSquBT1zl\n",
       "Rqh2U8vnR8hL70IX1hITDrxeavmOJjxWIe9iphZu+3L6raOZ9ktjL/2v8La38CH91nk2dueCSMpD\n",
       "VDvkjtQ22y0cLnPQNMMXgNWanSBq1eLqx8ccNB0qSuRE1V/PEHNzUi5h27btP7H6/X8djf6A70Xz\n",
       "loybwySRwNba8K8MEqO50ZYJJsbeVT6R9aPGkseo3EgQyQ7hjbTg609jFE1jPtax5A7l5GUuf1VD\n",
       "wJfnh2yDuOUPDIwLt9+zzi5Tv8oRnMQY0Ys/wFnXII7js47JfstljIpDZQ87YwSstPAWBmGr1zqm\n",
       "Gb9z2QZ2YXwPh0jwMYPY037o6phSj+QxcuQB4E60oBAxVr8M4luiQ7QzOfJvMVAb0YiCyEEb0eCb\n",
       "BBId+DqX/BMI94PKGEENYTn7NIJfpaRjSmWcBuvhil5CPBMh4AzO1Xo68QhqoGMKOo65BW75KK+3\n",
       "ESPghn9wsaMTpTfnjQ70wcJFRz5hNgPJRFsQGn42zXHO1S5NI8+fcqaRF57w9v0BIj6SLUYLDE4A\n",
       "AAAASUVORK5CYII=\n",
       "\" style=\"display:inline;vertical-align:middle;\" /></a>"
      ],
      "text/plain": [
       "a and b \\\\  and c and d and e and f"
      ]
     },
     "execution_count": 11,
     "metadata": {},
     "output_type": "execute_result"
    }
   ],
   "source": [
    "new_expr"
   ]
  },
  {
   "cell_type": "code",
   "execution_count": 12,
   "metadata": {},
   "outputs": [
    {
     "data": {
      "text/html": [
       "<strong id=\"expr\">expr:</strong> <a class=\"ProveItLink\" href=\"__pv_it/383ac03c4533e762bad3a433f1ad8b9adfec0bd80/expr.ipynb\"><img src=\"data:image/png;base64,iVBORw0KGgoAAAANSUhEUgAAAT8AAAAUBAMAAAAJlCfZAAAAMFBMVEX///9UVFTMzMx2dna6uroQ\n",
       "EBCqqqqIiIgiIiJmZmYyMjJERETu7u6YmJjc3NwAAAC+aOQFAAAAAXRSTlMAQObYZgAAAvhJREFU\n",
       "SMe1lr+LE0EUx98md/m9ScBCsco/IAQE4xXCNYexuka08WAtbUw4hJAuIhyITeDwrtNYXhNicWBz\n",
       "RwoFcymSzsaTtQuH4BViISl882Y2+2Z3NgkHmZDd/c57n3k7b2Z2BiA/hqXK82DFykGFDsP1ueNW\n",
       "uNJyAxVDs59eYsdtAygNC9BB0yW06zdG1xL+M21d01t31IMXr2v2C+iCYwLJsIC8ViPU9jtiCYtd\n",
       "VzDXVCrqfiRvAjT66Xq7bwKlYS6Z+/OZYqb8AYgV8ZLqK5hrKl+U1ydZI0Cjn67vGkFpmEsmLmXM\n",
       "CRt1kfsHHsw1lcym7OV92cNJlJ+uj4ygl885ZLwlYzbFsto/fCLqnuH/VDx8aBxoGiqNEsTl0JyB\n",
       "XBnNKD+m8/u7f8EESgPzzFWartaS/fZ1m9ATFFtu5pKSj0nuCe9//ZHLNEycbAdsOdnv4E+Ukyg/\n",
       "prfc7BQMoDIwz6qbL3ON81vkG9E9jLMDaapN1sESw5GYSrOn4RVYDiRkAlpwQfe9KD9fi4bx5cKg\n",
       "MjDPRzAo8ZYAfguN6EOA9BRSND1yLRwHLAiPylxTb2OUZVxjtNYINPppOlU2gtLge1o7je9cY6mp\n",
       "mOi+3oOR/PYcyFHAz9u2w/R6z39BXGO01gRo9tP0aNMEKoPvWSjqpLcAEcWEYxZqsvJCzuPCGN73\n",
       "maY0wVrLm9ZdNVJmP03XjGA4YoDE8lHFxCk7cuBmgj5O2Vs01IVNnCRc4+bpqLneVbEEaPbztWo4\n",
       "DIYiigGvM43lMchFsoGVdftlXH4ob1BCrHG2zXW6KKZwWvSS1hh9Sjei/HytGg6DoYjJDgxcpsVG\n",
       "Qi2WoYrP13d/vuC7Ue7wnr473T7HfmVEbFpjSdHLapQfa0c2bACDEaF5PtY0rNHERTSlnTV+BU4U\n",
       "XH8lbrada+A8bi4YScZ7CrUXnXogeFgAbc9fEfg0M/bQ0yXDzE5NXlkp+OZshg6XjJM1njtXBX57\n",
       "N0OXPYD/uOrJ/cogof8BTbE05R6dUusAAAAASUVORK5CYII=\n",
       "\" style=\"display:inline;vertical-align:middle;\" /></a><br>"
      ],
      "text/plain": [
       "expr: (a or b or c) and (b or c or d) and (d or e or f)"
      ]
     },
     "execution_count": 12,
     "metadata": {},
     "output_type": "execute_result"
    }
   ],
   "source": [
    "expr = And(Or(a, b, c), Or(b, c, d), Or(d, e, f))"
   ]
  },
  {
   "cell_type": "code",
   "execution_count": 13,
   "metadata": {},
   "outputs": [
    {
     "data": {
      "text/html": [
       "<strong id=\"new_expr\">new_expr:</strong> <a class=\"ProveItLink\" href=\"__pv_it/383ac03c4533e762bad3a433f1ad8b9adfec0bd80/expr.ipynb\"><img src=\"data:image/png;base64,iVBORw0KGgoAAAANSUhEUgAAAT8AAAAUBAMAAAAJlCfZAAAAMFBMVEX///9UVFTMzMx2dna6uroQ\n",
       "EBCqqqqIiIgiIiJmZmYyMjJERETu7u6YmJjc3NwAAAC+aOQFAAAAAXRSTlMAQObYZgAAAvhJREFU\n",
       "SMe1lr+LE0EUx98md/m9ScBCsco/IAQE4xXCNYexuka08WAtbUw4hJAuIhyITeDwrtNYXhNicWBz\n",
       "RwoFcymSzsaTtQuH4BViISl882Y2+2Z3NgkHmZDd/c57n3k7b2Z2BiA/hqXK82DFykGFDsP1ueNW\n",
       "uNJyAxVDs59eYsdtAygNC9BB0yW06zdG1xL+M21d01t31IMXr2v2C+iCYwLJsIC8ViPU9jtiCYtd\n",
       "VzDXVCrqfiRvAjT66Xq7bwKlYS6Z+/OZYqb8AYgV8ZLqK5hrKl+U1ydZI0Cjn67vGkFpmEsmLmXM\n",
       "CRt1kfsHHsw1lcym7OV92cNJlJ+uj4ygl885ZLwlYzbFsto/fCLqnuH/VDx8aBxoGiqNEsTl0JyB\n",
       "XBnNKD+m8/u7f8EESgPzzFWartaS/fZ1m9ATFFtu5pKSj0nuCe9//ZHLNEycbAdsOdnv4E+Ukyg/\n",
       "prfc7BQMoDIwz6qbL3ON81vkG9E9jLMDaapN1sESw5GYSrOn4RVYDiRkAlpwQfe9KD9fi4bx5cKg\n",
       "MjDPRzAo8ZYAfguN6EOA9BRSND1yLRwHLAiPylxTb2OUZVxjtNYINPppOlU2gtLge1o7je9cY6mp\n",
       "mOi+3oOR/PYcyFHAz9u2w/R6z39BXGO01gRo9tP0aNMEKoPvWSjqpLcAEcWEYxZqsvJCzuPCGN73\n",
       "maY0wVrLm9ZdNVJmP03XjGA4YoDE8lHFxCk7cuBmgj5O2Vs01IVNnCRc4+bpqLneVbEEaPbztWo4\n",
       "DIYiigGvM43lMchFsoGVdftlXH4ob1BCrHG2zXW6KKZwWvSS1hh9Sjei/HytGg6DoYjJDgxcpsVG\n",
       "Qi2WoYrP13d/vuC7Ue7wnr473T7HfmVEbFpjSdHLapQfa0c2bACDEaF5PtY0rNHERTSlnTV+BU4U\n",
       "XH8lbrada+A8bi4YScZ7CrUXnXogeFgAbc9fEfg0M/bQ0yXDzE5NXlkp+OZshg6XjJM1njtXBX57\n",
       "N0OXPYD/uOrJ/cogof8BTbE05R6dUusAAAAASUVORK5CYII=\n",
       "\" style=\"display:inline;vertical-align:middle;\" /></a><br>"
      ],
      "text/plain": [
       "new_expr: (a or b or c) and (b or c or d) and (d or e or f)"
      ]
     },
     "execution_count": 13,
     "metadata": {},
     "output_type": "execute_result"
    }
   ],
   "source": [
    "new_expr = expr.copy()"
   ]
  },
  {
   "cell_type": "code",
   "execution_count": 14,
   "metadata": {},
   "outputs": [
    {
     "data": {
      "text/html": [
       "<a class=\"ProveItLink\" href=\"__pv_it/38ba89c7a4ee1c31899a937eb4ad8fe40b3cb1290/expr.ipynb\"><img src=\"data:image/png;base64,iVBORw0KGgoAAAANSUhEUgAAAUEAAAAyBAMAAAAw4XTZAAAAMFBMVEX///9UVFTMzMx2dna6uroQ\n",
       "EBCqqqqIiIgiIiJmZmYyMjJERETu7u6YmJjc3NwAAAC+aOQFAAAAAXRSTlMAQObYZgAABOpJREFU\n",
       "WMPNWU9oXEUY/97uuvv27b9QA4oX03MQF5SmPUhzKdZTKgQ9aGA99ODFrEUIObkiFNrmsKK2tzYe\n",
       "e1miEKgHyxYsNOlh9xZQ2z4PQiiCQYJFiaUz3zd/3076XrLidCD75s2beb/fm/m+7/fNBGC88nrK\n",
       "81vgueSbKR0Kq54Zfpza4ye/BItn6Fpd7+zXpdL0yvD2rKhEXf6bw/qU1aU675Xh97LSaPHfgJOr\n",
       "te0+Z70u8p6szfVxDifYT9i3O4U+lznsytpxuvTY31vJz3jskeGDWNa+WbrMLx+yv5vYMLOkzPGC\n",
       "R4aXlDv80x9wtiFb6TXesN2qqED4oO+NYG7XMMgGd5BSGwJ0788haMmHg7Y3huUzqrYKA+4Q1Q5s\n",
       "4v2e0S3yJyvPTYAOh3M4Z5fhGD5ZM7qV/LnKq0MVDodwDa3tIaC4DMwIU//XG8NPlSs3ZqsLpHGv\n",
       "tAVjUHYIb4+JUx9m6/fRSMu6qgXDCoXG3Is4leUJ2NDid+OwkAL07mi7MxEI4mTLe3rAlTdE7Tpd\n",
       "XrtnOPDJ5ECEzK13U+htLMcI2tPRQwm/KxGoSpeUTKt/O976uyuwi1fUZUNPafmUxoERyOcXWxy0\n",
       "pr9EC78zEZixpwlyj7J6VNtMgBQk1/IjvLIFDgpsBnZ/RNBQL54WfmcicFv0uiFain9lZDgQzKZX\n",
       "hJzHSsuP8soKOCiw9+8Q6LbxKiX8zkQgomQweFNMSe3PjAwbIm5OLtF1W69FxMgWui4KbIfRIdBl\n",
       "biBfXnnfEn5nIpCnN21C54CRuLEmDDmke4I8x5egyN5ZwSmtzizHFmTt6wvsIQP9gd2ciqMdMITf\n",
       "nQjUyFWOkWywwXtZtYcG5lt5ipEEWcHh7GunsfF0XG+akEBKz0DPM0ILUMZWKfzuRKBIc9dhwgEj\n",
       "4vtUhjQwhDpRFZB4wxZ+EqfwHYqgChLgD37PQOcRKkTbUsLvTARyOM/M0QKKBsFO1kSXMowt4boS\n",
       "EpXxjohiwcLSLyYFVhYF6Dzq/IBAhfC7EwFiyBwtN3EohivCdSUkTlVZLL30Jgkp3ZWBnkedX6RG\n",
       "IfzuRKDQkd7TO9gqhziQO0UUi1VWkHXhPg2ZazyUjgjfClBmtoMWvFSMTeF3JgLkKT3Bkln+4wN5\n",
       "CmdX7ApP0ZDfban9VtuAZOVdIE85wRrbtc/ypvC7E4Ey/0x0NAqppf3iYVJxKY+cVsHZgjxK8bq0\n",
       "ChuxAcklBaGbcJrVXzj36yemorkTgYjbKjpaCT+ztmvz0pLaaNnxEAlPCtcFG1JK4fK9oS2qBTRz\n",
       "BhrGTxN+8/4OjtM8ijZDQ1Ln7L0TmfGs+gwLst7fBzK/JkBr3YzWpDIHNWl27mxI6nF35iBLJsgP\n",
       "oqEEvZmRYHVkQ5TIvrSkXrcfLLYSA7NAXtpUoHczMqyMZLAX7VshqUJxjXIydmWwKWXrqgLNmpLf\n",
       "H2m5lgh75OlScXV5+fC7gPtjHorYRk6SqhTXtVv433ejtn2RpCrF1TP2yBtDvaM3JFUp7rOwoy8n\n",
       "UgeUVC3yysU63hgWdhNUuKRqxVWS4u9kKXkyiJKqFVcdTfg7nRs5GeSR2hD5/+hQZCxXaaZv5/2e\n",
       "Ehez5LBR1yPDpAA7y9m+T4a/TaUnHH7/41NMD3WB10UG+CK1x89+CUKQFo29//cWvkp5fmtsP3kC\n",
       "F/tlAd2hnLgAAAAASUVORK5CYII=\n",
       "\" style=\"display:inline;vertical-align:middle;\" /></a>"
      ],
      "text/plain": [
       "(a or b or c) and (b or c \\\\  or d) and (d or e or f)"
      ]
     },
     "execution_count": 14,
     "metadata": {},
     "output_type": "execute_result"
    }
   ],
   "source": [
    "new_expr.innerExpr().operands[1].withWrappingAt(3)"
   ]
  },
  {
   "cell_type": "code",
   "execution_count": 15,
   "metadata": {},
   "outputs": [
    {
     "data": {
      "text/html": [
       "<a class=\"ProveItLink\" href=\"__pv_it/383ac03c4533e762bad3a433f1ad8b9adfec0bd80/expr.ipynb\"><img src=\"data:image/png;base64,iVBORw0KGgoAAAANSUhEUgAAAT8AAAAUBAMAAAAJlCfZAAAAMFBMVEX///9UVFTMzMx2dna6uroQ\n",
       "EBCqqqqIiIgiIiJmZmYyMjJERETu7u6YmJjc3NwAAAC+aOQFAAAAAXRSTlMAQObYZgAAAvhJREFU\n",
       "SMe1lr+LE0EUx98md/m9ScBCsco/IAQE4xXCNYexuka08WAtbUw4hJAuIhyITeDwrtNYXhNicWBz\n",
       "RwoFcymSzsaTtQuH4BViISl882Y2+2Z3NgkHmZDd/c57n3k7b2Z2BiA/hqXK82DFykGFDsP1ueNW\n",
       "uNJyAxVDs59eYsdtAygNC9BB0yW06zdG1xL+M21d01t31IMXr2v2C+iCYwLJsIC8ViPU9jtiCYtd\n",
       "VzDXVCrqfiRvAjT66Xq7bwKlYS6Z+/OZYqb8AYgV8ZLqK5hrKl+U1ydZI0Cjn67vGkFpmEsmLmXM\n",
       "CRt1kfsHHsw1lcym7OV92cNJlJ+uj4ygl885ZLwlYzbFsto/fCLqnuH/VDx8aBxoGiqNEsTl0JyB\n",
       "XBnNKD+m8/u7f8EESgPzzFWartaS/fZ1m9ATFFtu5pKSj0nuCe9//ZHLNEycbAdsOdnv4E+Ukyg/\n",
       "prfc7BQMoDIwz6qbL3ON81vkG9E9jLMDaapN1sESw5GYSrOn4RVYDiRkAlpwQfe9KD9fi4bx5cKg\n",
       "MjDPRzAo8ZYAfguN6EOA9BRSND1yLRwHLAiPylxTb2OUZVxjtNYINPppOlU2gtLge1o7je9cY6mp\n",
       "mOi+3oOR/PYcyFHAz9u2w/R6z39BXGO01gRo9tP0aNMEKoPvWSjqpLcAEcWEYxZqsvJCzuPCGN73\n",
       "maY0wVrLm9ZdNVJmP03XjGA4YoDE8lHFxCk7cuBmgj5O2Vs01IVNnCRc4+bpqLneVbEEaPbztWo4\n",
       "DIYiigGvM43lMchFsoGVdftlXH4ob1BCrHG2zXW6KKZwWvSS1hh9Sjei/HytGg6DoYjJDgxcpsVG\n",
       "Qi2WoYrP13d/vuC7Ue7wnr473T7HfmVEbFpjSdHLapQfa0c2bACDEaF5PtY0rNHERTSlnTV+BU4U\n",
       "XH8lbrada+A8bi4YScZ7CrUXnXogeFgAbc9fEfg0M/bQ0yXDzE5NXlkp+OZshg6XjJM1njtXBX57\n",
       "N0OXPYD/uOrJ/cogof8BTbE05R6dUusAAAAASUVORK5CYII=\n",
       "\" style=\"display:inline;vertical-align:middle;\" /></a>"
      ],
      "text/plain": [
       "(a or b or c) and (b or c or d) and (d or e or f)"
      ]
     },
     "execution_count": 15,
     "metadata": {},
     "output_type": "execute_result"
    }
   ],
   "source": [
    "expr"
   ]
  },
  {
   "cell_type": "code",
   "execution_count": 16,
   "metadata": {},
   "outputs": [
    {
     "name": "stdout",
     "output_type": "stream",
     "text": [
      "True\n"
     ]
    }
   ],
   "source": [
    "print(expr==new_expr)"
   ]
  },
  {
   "cell_type": "code",
   "execution_count": 17,
   "metadata": {},
   "outputs": [
    {
     "data": {
      "text/html": [
       "<span style=\"font-size:20px;\"> <a class=\"ProveItLink\" href=\"_axioms_.ipynb#andTT\" style=\"text-decoration: none\">&#x22A2;&nbsp;</a><a class=\"ProveItLink\" href=\"__pv_it/7af359f32933cc085d4b6b757e372d44388b32d90/expr.ipynb\"><img src=\"data:image/png;base64,iVBORw0KGgoAAAANSUhEUgAAAHAAAAAUBAMAAACnq6Q0AAAAMFBMVEX////MzMxUVFR2dna6uroQ\n",
       "EBCqqqqIiIgiIiJmZmYyMjJERETu7u6YmJjc3NwAAACgK8IjAAAAAXRSTlMAQObYZgAAAQRJREFU\n",
       "OMtjYOC7wIAH5OGWOs3A2QEGCsiiM8BCTQxMD9DVw2QY1oF4bAUwcT64inQQwbMAi11gGd4JqBq5\n",
       "JqBIM5jj0sjxAFWjdA+qxqO4NL5gQNWoUo6qkcsBh8ZKVI08CzhQNTJPwKFxL6pG5gTmBBSNvODQ\n",
       "sVoFAiuRZdpQNXIw8C1A0cjWgMPGEFSN1xkYFFE0Mn4gTiMwTIWI04jqVDZgUHA9QNbI0oDw4yLc\n",
       "gQPSxDYBM3Cw2GiJolEa6lyERk4DHBo9IA6CZhEVEAFNAr4QNwhgavRFJDkYACcTRmSRE7hyFe8E\n",
       "BrzAHKfMPrz6sGYrWEbGB7gf4JTCX3TcwyUBAKQERsxzlZRzAAAAAElFTkSuQmCC\n",
       "\" style=\"display:inline;vertical-align:middle;\" /></a></span>"
      ],
      "text/plain": [
       "|- (TRUE and TRUE) = TRUE"
      ]
     },
     "execution_count": 17,
     "metadata": {},
     "output_type": "execute_result"
    }
   ],
   "source": [
    "And(TRUE, TRUE).evaluation()"
   ]
  },
  {
   "cell_type": "code",
   "execution_count": 18,
   "metadata": {},
   "outputs": [
    {
     "data": {
      "text/html": [
       "<span style=\"font-size:20px;\"> <a class=\"ProveItLink\" href=\"__pv_it/47a3c0b4b0db33ba05d88e7cea7aaac28d294fdd0/proof.ipynb\" style=\"text-decoration: none\">&#x22A2;&nbsp;</a><a class=\"ProveItLink\" href=\"__pv_it/d60528651c8588754891ea48f56bcccb304a50a80/expr.ipynb\"><img src=\"data:image/png;base64,iVBORw0KGgoAAAANSUhEUgAAAJgAAAAUBAMAAACDnumxAAAAMFBMVEX////MzMxUVFR2dna6uroQ\n",
       "EBCqqqqIiIgiIiJmZmYyMjJERETu7u6YmJjc3NwAAACgK8IjAAAAAXRSTlMAQObYZgAAAV5JREFU\n",
       "OMtjYOC7wEAiyMMtdZqBYUYHCDQhi3KChToUkMVgypgeoJsBN2AdmJsOE+eDq2ArgLEQmsHKeBZg\n",
       "cRNYhncCqmFcEzANW4mqhcEcl2EcD1ANk+7BMIxxxwFUw47iMuwFA6phKuUYhjG5F6AaxuWAw7BK\n",
       "VMN4FnBgGHaKoQHVMOYJOAzbi2oYcwJzArphZkCIYhgvOAasVoHASmSZNlTDOBj4FqAb1sDwCtUw\n",
       "tgYcLgtBNew6A4MimmG8BQxMAiiGMX4gzjBgXAqhGcZxgIFRgTjDUL3JBgxargeohmUywFI2TBlL\n",
       "AyLMFuGOAJBBbBNQDVsHNRA9ArC4zBLFMGmoV5EMY9wA8SqSMk4DHIZ5QNi+0CQLIqDJlgVSnDCB\n",
       "Uih7AbIyLgFMw3yRshMUgJM2I4oqFjCJov0ErhKIdwIDycAcp8w+ks3CWgTBC0cSAfcDnFKkF9v3\n",
       "cEkAACnVXHaJ7u4NAAAAAElFTkSuQmCC\n",
       "\" style=\"display:inline;vertical-align:middle;\" /></a></span>"
      ],
      "text/plain": [
       "|- (TRUE and TRUE and TRUE) = TRUE"
      ]
     },
     "execution_count": 18,
     "metadata": {},
     "output_type": "execute_result"
    }
   ],
   "source": [
    "And(TRUE, TRUE, TRUE).evaluation()"
   ]
  },
  {
   "cell_type": "code",
   "execution_count": 19,
   "metadata": {},
   "outputs": [
    {
     "data": {
      "text/html": [
       "<span style=\"font-size:20px;\"> <a class=\"ProveItLink\" href=\"../negation/_proofs_/notFalse.ipynb\" style=\"text-decoration: none\">&#x22A2;&nbsp;</a><a class=\"ProveItLink\" href=\"../negation/__pv_it/1fe9807523537bd8965e210ac2f3c711ac9ae0dc0/expr.ipynb\"><img src=\"data:image/png;base64,iVBORw0KGgoAAAANSUhEUgAAABwAAAAOBAMAAADOPWE3AAAAIVBMVEX///8QEBCIiIiqqqrMzMxU\n",
       "VFTc3Nx2dnYiIiJmZmYAAACQPOdZAAAAAXRSTlMAQObYZgAAACVJREFUCNdjYIADZwYUYERl7owO\n",
       "IGhHlU2lgMuCbhHQAsGOjlYA220KwYq1fgIAAAAASUVORK5CYII=\n",
       "\" style=\"display:inline;vertical-align:middle;\" /></a></span>"
      ],
      "text/plain": [
       "|- [not](FALSE)"
      ]
     },
     "execution_count": 19,
     "metadata": {},
     "output_type": "execute_result"
    }
   ],
   "source": [
    "Not(FALSE).prove()"
   ]
  },
  {
   "cell_type": "code",
   "execution_count": 20,
   "metadata": {},
   "outputs": [
    {
     "data": {
      "text/html": [
       "<span style=\"font-size:20px;\"> <a class=\"ProveItLink\" href=\"__pv_it/3ce5ce2a6c42b0fefd7f4b208a881e41d77fd32c0/proof.ipynb\" style=\"text-decoration: none\">&#x22A2;&nbsp;</a><a class=\"ProveItLink\" href=\"__pv_it/f31b6acda2c3d464f2cb438f81eeb0b3585b24e10/expr.ipynb\"><img src=\"data:image/png;base64,iVBORw0KGgoAAAANSUhEUgAAALYAAAAUBAMAAADSCtrSAAAAMFBMVEX////MzMxUVFR2dna6uroQ\n",
       "EBCqqqqIiIgiIiJmZmYyMjJERETu7u6YmJjc3NwAAACgK8IjAAAAAXRSTlMAQObYZgAAAb1JREFU\n",
       "OMuNlb9Lw0AUx1+aEtOYlOLawQrO0slSJze7FBwcHLtpF8lWugVByeAQcHGs4lKH4uiidBGkLm5C\n",
       "B8lYnPwTzN3lxz3uXskLvOS+ufv09b17F4D6F2hN0a1YP/ECSPsEuAuZXSp6bsaA+T08IVtVUX4z\n",
       "58348CwPN3uYySH7zC/SUcHiq9yJJmL+xosw2xHjTJfZpi9GU0yADsW2Y8xu3oi7HSts91gk6GWO\n",
       "2e8UewWYvTsS9xUobHjkvnLkY7ZzSLDHmO1ObPEw1rC7INIeYLYZEexXzDYHJt8TmY7YS+73kwux\n",
       "PV7MgydmU/nNNWbbUBdlT/Qa30rtgn3OfQC/mG0FRNwnmP0NsAOSDvVWwd7mUfpQaSC28VeOneyS\n",
       "rfVsew5Gqxwb58RKyuLEko7YPeaGUl+JVdWgyPcDXUvGtSK5ljJ7mfXrUFNLTdxdxG6mecl1gEbB\n",
       "vmUJeBZ5kVbV2gS7J577aecwN5J04Nvl6jQMk/jvWeewRtnw5VVOQ2X3ld4G3mGGqou+Ynmt5n8m\n",
       "tw/qiPWi0rrp66d2yPP7rbS+0E/UnrHqN2C9TkSxGZPs0t80j2D8UOR/hXR3JQqB1WQAAAAASUVO\n",
       "RK5CYII=\n",
       "\" style=\"display:inline;vertical-align:middle;\" /></a></span>"
      ],
      "text/plain": [
       "|- (TRUE and [not](FALSE) and TRUE) = TRUE"
      ]
     },
     "execution_count": 20,
     "metadata": {},
     "output_type": "execute_result"
    }
   ],
   "source": [
    "And(TRUE, Not(FALSE), TRUE).evaluation()"
   ]
  },
  {
   "cell_type": "code",
   "execution_count": 21,
   "metadata": {},
   "outputs": [
    {
     "data": {
      "text/html": [
       "<span style=\"font-size:20px;\"> <a class=\"ProveItLink\" href=\"__pv_it/8fa4c0200f5c6973d43e02bf711600cf72d024080/proof.ipynb\" style=\"text-decoration: none\">&#x22A2;&nbsp;</a><a class=\"ProveItLink\" href=\"__pv_it/41852de8b66848f2f04467554dae8694dc27c8840/expr.ipynb\"><img src=\"data:image/png;base64,iVBORw0KGgoAAAANSUhEUgAAAHsAAAAUBAMAAABfS1/DAAAAMFBMVEX///8QEBB2dnbu7u5ERETM\n",
       "zMwyMjLc3NyYmJi6urqIiIiqqqpUVFQiIiJmZmYAAAB/Rz/cAAAAAXRSTlMAQObYZgAAAUpJREFU\n",
       "OMtjYMAKKtAFtmNXx/D2LgjcQRVkdkDiRIMIngIUBXxgXXcPgNi74KIwNWzIisHSzAkQDjtcmHsB\n",
       "sjwY5EHpPgZ07QxaUIMf4NbO6msAYVzH1G4I4YRcxq2dZxZEiP0Cpna2CWDq5Crc2s0YIPq4HmBq\n",
       "Z3oACQJe3Nq1gRAEWBowtXOAw45pA9MGnNovMJSBad4N0Ai9hJDmBjuMl4E9AZd2jgUMPAEgBuME\n",
       "qEgNQpr1A4jsYmA4iks7rwED6wH82oHhHoNL+z4gToc5Hl07J8jx3A8QSQpDezrUCETQ1aAFHUgr\n",
       "9wPs2lkdIB6ARRJICCHNpwBKNFAPoGifAU00IB9zLYA5FJ6jBME5ig0UqCdBQtCEw9mAms04wWQA\n",
       "RqKFAFsQMQHuJLygD1NIi4F4wFKALgLLsEQBlOICh4H4AEZh1Y5dHQD3xGPefLx4SgAAAABJRU5E\n",
       "rkJggg==\n",
       "\" style=\"display:inline;vertical-align:middle;\" /></a></span>"
      ],
      "text/plain": [
       "|- TRUE and [not](FALSE) and TRUE"
      ]
     },
     "execution_count": 21,
     "metadata": {},
     "output_type": "execute_result"
    }
   ],
   "source": [
    "And(TRUE, Not(FALSE), TRUE).prove()"
   ]
  },
  {
   "cell_type": "code",
   "execution_count": 22,
   "metadata": {},
   "outputs": [
    {
     "data": {
      "text/html": [
       "<span style=\"font-size:20px;\"> <a class=\"ProveItLink\" href=\"__pv_it/3ce5ce2a6c42b0fefd7f4b208a881e41d77fd32c0/proof.ipynb\" style=\"text-decoration: none\">&#x22A2;&nbsp;</a><a class=\"ProveItLink\" href=\"__pv_it/f31b6acda2c3d464f2cb438f81eeb0b3585b24e10/expr.ipynb\"><img src=\"data:image/png;base64,iVBORw0KGgoAAAANSUhEUgAAALYAAAAUBAMAAADSCtrSAAAAMFBMVEX////MzMxUVFR2dna6uroQ\n",
       "EBCqqqqIiIgiIiJmZmYyMjJERETu7u6YmJjc3NwAAACgK8IjAAAAAXRSTlMAQObYZgAAAb1JREFU\n",
       "OMuNlb9Lw0AUx1+aEtOYlOLawQrO0slSJze7FBwcHLtpF8lWugVByeAQcHGs4lKH4uiidBGkLm5C\n",
       "B8lYnPwTzN3lxz3uXskLvOS+ufv09b17F4D6F2hN0a1YP/ECSPsEuAuZXSp6bsaA+T08IVtVUX4z\n",
       "58348CwPN3uYySH7zC/SUcHiq9yJJmL+xosw2xHjTJfZpi9GU0yADsW2Y8xu3oi7HSts91gk6GWO\n",
       "2e8UewWYvTsS9xUobHjkvnLkY7ZzSLDHmO1ObPEw1rC7INIeYLYZEexXzDYHJt8TmY7YS+73kwux\n",
       "PV7MgydmU/nNNWbbUBdlT/Qa30rtgn3OfQC/mG0FRNwnmP0NsAOSDvVWwd7mUfpQaSC28VeOneyS\n",
       "rfVsew5Gqxwb58RKyuLEko7YPeaGUl+JVdWgyPcDXUvGtSK5ljJ7mfXrUFNLTdxdxG6mecl1gEbB\n",
       "vmUJeBZ5kVbV2gS7J577aecwN5J04Nvl6jQMk/jvWeewRtnw5VVOQ2X3ld4G3mGGqou+Ynmt5n8m\n",
       "tw/qiPWi0rrp66d2yPP7rbS+0E/UnrHqN2C9TkSxGZPs0t80j2D8UOR/hXR3JQqB1WQAAAAASUVO\n",
       "RK5CYII=\n",
       "\" style=\"display:inline;vertical-align:middle;\" /></a></span>"
      ],
      "text/plain": [
       "|- (TRUE and [not](FALSE) and TRUE) = TRUE"
      ]
     },
     "execution_count": 22,
     "metadata": {},
     "output_type": "execute_result"
    }
   ],
   "source": [
    "And(TRUE, Not(FALSE), TRUE).evaluation()"
   ]
  },
  {
   "cell_type": "code",
   "execution_count": 23,
   "metadata": {},
   "outputs": [
    {
     "data": {
      "text/html": [
       "<span style=\"font-size:20px;\"> <a class=\"ProveItLink\" href=\"__pv_it/dd45998b31cdd3a008cff9b96c4c374c544380590/proof.ipynb\" style=\"text-decoration: none\">&#x22A2;&nbsp;</a><a class=\"ProveItLink\" href=\"__pv_it/75baaf2e514d44e1df88ae7a35589a440fce9e3d0/expr.ipynb\"><img src=\"data:image/png;base64,iVBORw0KGgoAAAANSUhEUgAAAKgAAAAUBAMAAADrbWuJAAAAMFBMVEX////MzMxUVFR2dna6uroQ\n",
       "EBCqqqqIiIgiIiJmZmYyMjJERETu7u6YmJjc3NwAAACgK8IjAAAAAXRSTlMAQObYZgAAAYdJREFU\n",
       "OMuVlbFLw0AUxr80EtOYlOLgUgSFDo5Oik4ZdXDTvZu4SLbiFhzEwSGTOAa3Ooj/gKWLILq4uUlG\n",
       "EQf/BHN5l5iXvEjzwXeXfsf9erlLXoDeG0Q15aRT7Qa9onuZaW2+HCuq6SRkrptswjlwr35ZQbHA\n",
       "/KKcG1nbp4Fj1bgxuaZs1Is41ImoZ3lH8bygNA3b2iLUTjh0cEU9yw21BfasDH3SFqGf4NDhmHqe\n",
       "q73YL0+D45NF6BmHurFNFzw/ST1lUDMii9BHDjVH5gj1PP0n44FBvZgM7N4pTcqjFxxqo0dnyvPF\n",
       "AB2fQa2QLK70kEPfgXXUczfEC5sG44c8DzQ9+2UBimtstYDy27TSrXcSYVu+EHLoQkjO9/S2+aAU\n",
       "0IqEA1xaDdBwUMJKd9jkgd6Cag5jY8ah3U2yCN2jm9ElaaiacT0HJkXJOMpKhtMnV3Xw9zrm8ovy\n",
       "YVdK0Hdl8rO2KC9ql+dqKiikacs8f50bSl9ejNvl+mlIyGj32fj/c/KhLeoXDXl0jMZkfNsAAAAA\n",
       "SUVORK5CYII=\n",
       "\" style=\"display:inline;vertical-align:middle;\" /></a></span>"
      ],
      "text/plain": [
       "|- (TRUE and (TRUE or FALSE)) = TRUE"
      ]
     },
     "execution_count": 23,
     "metadata": {},
     "output_type": "execute_result"
    }
   ],
   "source": [
    "And(TRUE, Or(TRUE, FALSE)).evaluation()"
   ]
  },
  {
   "cell_type": "code",
   "execution_count": 24,
   "metadata": {},
   "outputs": [
    {
     "data": {
      "text/html": [
       "<span style=\"font-size:20px;\"> <a class=\"ProveItLink\" href=\"__pv_it/1acd385cfb75c5ab17dac0532619c4818cf6b1ea0/proof.ipynb\" style=\"text-decoration: none\">&#x22A2;&nbsp;</a><a class=\"ProveItLink\" href=\"__pv_it/548aed91798e43aadfd9510d54100f9c26a3d0200/expr.ipynb\"><img src=\"data:image/png;base64,iVBORw0KGgoAAAANSUhEUgAAAM4AAAAUBAMAAAA3lB++AAAAMFBMVEX////MzMxUVFR2dna6uroQ\n",
       "EBCqqqqIiIgiIiJmZmYyMjJERETu7u6YmJjc3NwAAACgK8IjAAAAAXRSTlMAQObYZgAAAcpJREFU\n",
       "SMedlbFLw0AUxl+b2kabFHFwKWKFDk6OQreOOggOCo7d1C2buAVBcZASEMSxgosO0n/A0rku3aRO\n",
       "GUX0fzB3SeN9764p8UHv6MeX98u9vLwQ1cZkjB/KiHKYT4/ijRavZTRAdvp0L+UL5i90xLql5Zml\n",
       "E63K9UXehzcVa8m+JO/sOMkh12X6s46YnetqyCRugJylIN4npHCKAuF6Sj7LQzvXNY4dIqd+E+9d\n",
       "lVMQNbWHSj5nH+1c1zifhJzmWVwPX+XI4u6q+egR7Jqucc6R4/RsuVcC4JxGvwHka4Gd6zrnFTlW\n",
       "x5J9Ux0DJ8pW6EO+D7Az3XqWESicK+TYVOvJvQOcikfFNuQ7ATvX9fMcIOedaEPsC23gOH7asYl1\n",
       "Hexcn8uJ2mfFwKE72jblm9rnc7Bu5SB5Q1nd6It8zLcDdqYnz6cxsw/EReJi3gdUXfMMzzu18/7Q\n",
       "z9MCTj0pBlnY11TYHCLnFuxMN3DkOamUDO2mWMSrV4rLtJean+QajdzLIzlyH8DOdCWiYXwohrEN\n",
       "k7ydTs0u83/jX8dHO+qGcAOzPqHMMM3LLD0dJzyqYSZnlFMX3zljOP1MziCnTv/7brthPp1+ARkF\n",
       "hcBZBBcSAAAAAElFTkSuQmCC\n",
       "\" style=\"display:inline;vertical-align:middle;\" /></a></span>"
      ],
      "text/plain": [
       "|- (TRUE and (TRUE or FALSE) and FALSE) = FALSE"
      ]
     },
     "execution_count": 24,
     "metadata": {},
     "output_type": "execute_result"
    }
   ],
   "source": [
    "And(TRUE, Or(TRUE, FALSE), FALSE).evaluation()"
   ]
  },
  {
   "cell_type": "code",
   "execution_count": null,
   "metadata": {},
   "outputs": [],
   "source": []
  },
  {
   "cell_type": "code",
   "execution_count": null,
   "metadata": {},
   "outputs": [],
   "source": []
  },
  {
   "cell_type": "code",
   "execution_count": 25,
   "metadata": {},
   "outputs": [
    {
     "data": {
      "text/html": [
       "<span style=\"font-size:20px;\"> <a class=\"ProveItLink\" href=\"_proofs_/trueAndTrue.ipynb\" style=\"text-decoration: none\">&#x22A2;&nbsp;</a><a class=\"ProveItLink\" href=\"__pv_it/5483805b01567d7bd159036b48e43639e7ca67500/expr.ipynb\"><img src=\"data:image/png;base64,iVBORw0KGgoAAAANSUhEUgAAADUAAAAPBAMAAAC2KZqIAAAALVBMVEX///92dnbu7u5ERETMzMwy\n",
       "MjLc3NyYmJi6urqIiIiqqqpUVFQiIiJmZmYAAADMZXmcAAAAAXRSTlMAQObYZgAAAHFJREFUGNNj\n",
       "uHMGBE4zIAFesNCZDSD2SrhoAozBNQHKQMjF4pZjsVHAKcfdOQGnnCrDAZxyUkCIS+4AQyouOfYJ\n",
       "DNwOOOR4FBhYNuCQWwvEYTjkwqDyWORYDCDmosi1Q33eACQ4IYIcBQwogANMOiAEAGEgJV+JGj3x\n",
       "AAAAAElFTkSuQmCC\n",
       "\" style=\"display:inline;vertical-align:middle;\" /></a></span>"
      ],
      "text/plain": [
       "|- TRUE and TRUE"
      ]
     },
     "execution_count": 25,
     "metadata": {},
     "output_type": "execute_result"
    }
   ],
   "source": [
    "And(TRUE, TRUE).prove()"
   ]
  },
  {
   "cell_type": "code",
   "execution_count": 26,
   "metadata": {},
   "outputs": [
    {
     "data": {
      "text/html": [
       "<span style=\"font-size:20px;\"> <a class=\"ProveItLink\" href=\"_proofs_/trueAndFalseNegated.ipynb\" style=\"text-decoration: none\">&#x22A2;&nbsp;</a><a class=\"ProveItLink\" href=\"__pv_it/2c0133563043d3ed120a21814f641d23cec1706f0/expr.ipynb\"><img src=\"data:image/png;base64,iVBORw0KGgoAAAANSUhEUgAAAFYAAAAUBAMAAADl6NejAAAAMFBMVEX///+6uroQEBCqqqqIiIgy\n",
       "MjJERETu7u6YmJjMzMxUVFTc3Nx2dnYiIiJmZmYAAAAutVgsAAAAAXRSTlMAQObYZgAAAPdJREFU\n",
       "KM9jYECAHQx4APMGZB57AsPbuyBwC00ZpwGIXI0sxArWaQLjciOMdACRpchq+xhQ1LI+QFXL44Ck\n",
       "9jaq2mnXUdWyKyCUcl9AVbvQBVUtQyBCLcsDFLXsAbxoas8h1LI1oKjlMeAxQFXbCgmmO0AmrwGK\n",
       "Wl4G7gBUtbYQ3i4gZhJAUdvCwLASVe18nGqBoTALp1pUNzA/gEUOXK0sQi2q30DqmB+g+Q0S4yCP\n",
       "o4TZNKg7kNS+QYQZIyQuJKAxASJAscF39+4l3bt3FzAwRGLEMRQIwKxDJMMLGGkHJ0BJO2wb8Kot\n",
       "RUvr+EA2Cg9vHuLYwAAAxXE7tI62KFkAAAAASUVORK5CYII=\n",
       "\" style=\"display:inline;vertical-align:middle;\" /></a></span>"
      ],
      "text/plain": [
       "|- [not](TRUE and FALSE)"
      ]
     },
     "execution_count": 26,
     "metadata": {},
     "output_type": "execute_result"
    }
   ],
   "source": [
    "Not(And(TRUE, FALSE)).prove()"
   ]
  },
  {
   "cell_type": "code",
   "execution_count": 27,
   "metadata": {},
   "outputs": [
    {
     "data": {
      "text/html": [
       "<span style=\"font-size:20px;\"> <a class=\"ProveItLink\" href=\"_proofs_/falseAndTrueNegated.ipynb\" style=\"text-decoration: none\">&#x22A2;&nbsp;</a><a class=\"ProveItLink\" href=\"__pv_it/8aeaeb949fc56619903ea92adc2283dab31894a00/expr.ipynb\"><img src=\"data:image/png;base64,iVBORw0KGgoAAAANSUhEUgAAAFYAAAAUBAMAAADl6NejAAAAMFBMVEX///+6uroQEBCqqqqIiIgy\n",
       "MjJERETu7u6YmJjMzMxUVFTc3Nx2dnYiIiJmZmYAAAAutVgsAAAAAXRSTlMAQObYZgAAAPZJREFU\n",
       "KM9jYECAHQx4APMGZB57AoicjKaG7y4YLGBYjSzKCtZpAuNyI4x0AJGlyGr7GFDUsj5AVcvjgKT2\n",
       "NqraaddR1bIrIJRyX0BVu9AFVS1DIEItywMUtewBvGhqzyHUsjWgqOUx4DFAVdvK8BYUIneATF4D\n",
       "FLW8DNwBqGptIbxdQMwkgKK2hYFhJara+TjVAkNhFk61qG5gfgCLHLhaWYRaVL+B1DE/QPMbGHCC\n",
       "PI4SZtOg7kBS+wYRZozAuAAGitLdu7dAMQESgsYGI8TGSIw4hgIBmHWIZHgBI+3gBChph20DXrWl\n",
       "mGkdJ8hG4eHNQxwbGACwdDx3X6+6OwAAAABJRU5ErkJggg==\n",
       "\" style=\"display:inline;vertical-align:middle;\" /></a></span>"
      ],
      "text/plain": [
       "|- [not](FALSE and TRUE)"
      ]
     },
     "execution_count": 27,
     "metadata": {},
     "output_type": "execute_result"
    }
   ],
   "source": [
    "Not(And(FALSE,TRUE)).prove()"
   ]
  },
  {
   "cell_type": "code",
   "execution_count": 28,
   "metadata": {},
   "outputs": [
    {
     "data": {
      "text/html": [
       "<span style=\"font-size:20px;\"> <a class=\"ProveItLink\" href=\"_proofs_/falseAndFalseNegated.ipynb\" style=\"text-decoration: none\">&#x22A2;&nbsp;</a><a class=\"ProveItLink\" href=\"__pv_it/198fb19082628ea079557783278dc21d98e172f00/expr.ipynb\"><img src=\"data:image/png;base64,iVBORw0KGgoAAAANSUhEUgAAAFYAAAAUBAMAAADl6NejAAAAMFBMVEX///+6uroQEBCqqqqIiIgy\n",
       "MjJERETu7u6YmJjMzMxUVFTc3Nx2dnYiIiJmZmYAAAAutVgsAAAAAXRSTlMAQObYZgAAAPxJREFU\n",
       "KM9jYECAHQx4APMGZB57AoicjKmM0wBErkYWYgXrNIFxuRFGOoDIUmS1fQwoalkfoKrlcUBSextV\n",
       "7bTrqGrZFRBKuS+gql3ogqqWIRChluUBilr2AF40tecQatkaUNTyGPAYoKptZXh7FwjuAJm8Bihq\n",
       "eRm4A1DV2kJ4u4CYSQBFbQsDw0pUtfNxqgWGwiycalHdwPwAFjlwtbIItah+A6ljfoDmN0iMgzyO\n",
       "EmbToO5AUvsGEWaMwLgABorS3bu3QDEBEgLFBt/du5d0795dwMAQiRHHUCAAsw6RDC9gpB2cACXt\n",
       "sG3Aq7YUM63jBNkoPLx5iGMDAwAx0Tt0ptNgBgAAAABJRU5ErkJggg==\n",
       "\" style=\"display:inline;vertical-align:middle;\" /></a></span>"
      ],
      "text/plain": [
       "|- [not](FALSE and FALSE)"
      ]
     },
     "execution_count": 28,
     "metadata": {},
     "output_type": "execute_result"
    }
   ],
   "source": [
    "Not(And(FALSE,FALSE)).prove()"
   ]
  },
  {
   "cell_type": "code",
   "execution_count": 29,
   "metadata": {},
   "outputs": [
    {
     "data": {
      "text/html": [
       "<span style=\"font-size:20px;\"><a class=\"ProveItLink\" href=\"__pv_it/29a3848f4291b495e33580e0a07a2e54b606c4400/expr.ipynb\"><img src=\"data:image/png;base64,iVBORw0KGgoAAAANSUhEUgAAADsAAAAVBAMAAAAKrYvGAAAAMFBMVEX///+IiIi6urrc3NxERETM\n",
       "zMwQEBCqqqpUVFQiIiJ2dnYyMjLu7u5mZmaYmJgAAABN0h6tAAAAAXRSTlMAQObYZgAAAStJREFU\n",
       "KM9jYGDgu8eADbBePACieHYxYAdMqSCS7wNU9QaY+Iv/vTdcFBgYboM4XBMggtwf4PpSGBh4vzIw\n",
       "rESWfv0Hbus/oMl/UaV5aj/DpBmBLL6PqNJ8jJ9g0iwJDAzH5qBK67D/g0nzNzCwzgD6ahmIwwF2\n",
       "MY8C60eYdHzfQ88CIP0exCkLAHuSgfkvTFregIEnA+SXCwwMIZPBQhF3b3yBSbuBlIC0dwowMKiB\n",
       "dQNDIRsm/QMkDZThbgDZ7QAk2IF4GpK3GfoVoHaDXW4OxPuRvM0KsmkZTJoZpMTfgOE8yBfcQG+r\n",
       "+TAg/M3j//sAQ8n/uQycwMDg2P/jbos7AwNamINBDXKMQqQTkEQWYEjzISKSgUcAWRoc3wxIqYUP\n",
       "JbUkgSl2PGkNAG4YT3Nf1MaEAAAAAElFTkSuQmCC\n",
       "\" style=\"display:inline;vertical-align:middle;\" /></a> <a class=\"ProveItLink\" href=\"__pv_it/f99401a8e8252263448ee320840daf743631ead40/proof.ipynb\" style=\"text-decoration: none\">&#x22A2;&nbsp;</a><a class=\"ProveItLink\" href=\"__pv_it/8c9b2529111ee20a14b341c8bc70d8f662a0762c0/expr.ipynb\"><img src=\"data:image/png;base64,iVBORw0KGgoAAAANSUhEUgAAADcAAAAPBAMAAACy3Eq1AAAAMFBMVEX///92dnYiIiIQEBBERERU\n",
       "VFS6urqIiIjc3NxmZmaqqqru7u6YmJgyMjLMzMwAAADiRdoGAAAAAXRSTlMAQObYZgAAAP1JREFU\n",
       "GNNjYACBtwyogCf+68wQNyjnPpRugMkyOzAwzH8AUXh/A0TsJkzy/QEGhvwJYOau+RAtfE5QRQz1\n",
       "QIHzBWDmgfoEMM2aXgCVdGZg4DYCq2TbsP4AWGgvgwJU8isDw6NoMGsbw3uIDikghJj/9UyJFoSZ\n",
       "wNAPsVuBoRciwv6DgWFzAFhZ5Mx4B7CjCxhYIc5nMQAq+AW2EuitCyAG0wYGPrByBn4gxf4dxFoA\n",
       "FDYAMVYC8Q24N1m/ARkcQEneDwxQiZVwb74HWdUEsuMHyG4HiNFAcBlomQmQteX/bQYu/09A57KC\n",
       "QoId5KnY/5FTXRagRAUbmHyAJAIAntVB/gEKLKYAAAAASUVORK5CYII=\n",
       "\" style=\"display:inline;vertical-align:middle;\" /></a></span>"
      ],
      "text/plain": [
       "{A, B} |- A and B"
      ]
     },
     "execution_count": 29,
     "metadata": {},
     "output_type": "execute_result"
    }
   ],
   "source": [
    "And(A,B).prove([A,B])"
   ]
  },
  {
   "cell_type": "code",
   "execution_count": 30,
   "metadata": {},
   "outputs": [
    {
     "data": {
      "text/html": [
       "<span style=\"font-size:20px;\"><a class=\"ProveItLink\" href=\"__pv_it/189a50adacbfcc96cffc5b42b3a5fe6e69c5e6500/expr.ipynb\"><img src=\"data:image/png;base64,iVBORw0KGgoAAAANSUhEUgAAALMAAAAVBAMAAAD/f8IzAAAAMFBMVEX///+IiIi6urrc3NxERETM\n",
       "zMwQEBCqqqpUVFQiIiJ2dnYyMjLu7u5mZmaYmJgAAABN0h6tAAAAAXRSTlMAQObYZgAAAqNJREFU\n",
       "OMu1lU1oE1EQxydp1myS7XYPehCE9BRQivbgQU/GUpRAoRGK+HFIkAgGLznpRTBoPYjWCKLtqmAQ\n",
       "ERSUnHrQQlYJVRCxvVWkNoIH6aFV60ek1Phm3u6+fUvKXuocdt+8nf3t7Lz/mwcA+kfYaFNmLbxp\n",
       "z2DjLXwSr/pX2z0uPw3dGlwtXnC8L+2xucFeKWBrYXhyQp4CvdKaHx1ggw/oxa/b03XflxOK0Xjb\n",
       "dLwCQPdPOaB2SBvyF3NTGmAhC/DIi9brlhwVCTdD2bRTvb/sL9fkgPRO2BLxoXMsl10zPvSrhX4+\n",
       "+GyaNRsdLTno0Ar7+DeeQ8a846DP+tFJBlk2fOhmktdtZJvIOt7noCN5gOm7lP9+S2R9v+FDH2C6\n",
       "KFoyOmydp7pqU56CbD+StZ2eMigTxHxjiYKEb17yoVsAR6+y+0N0VPp7eAk5g9x+gS62T7g1vPYp\n",
       "U6LRRVHr1L1fPoUoraXN4zhYxssZnlgv7JshoHcZ40tVUUPtFAd6l/HpIh++N5nd5ksyXUZ5MdjI\n",
       "Df65sfkKvXT4OTNnGfFtt4aQxLSV0xjgoDHGtT18SUK/0bnMapCirMNMkgTc7c0a0qqoISSxYl1S\n",
       "1hEoS2i2JBBCISVwXqVYllAsT5qX0OWEkDVUqLB5L1qFmoRGWavfnVqTQroYOkE7vtuQsl4UslZ+\n",
       "0HBWylqvSmiUdS7tKITQexG1QgHjYqNX40/K8A7zSrBcU0M0HSu5G/0YPJ4DbdWVB8AkK20B1enq\n",
       "utGegujwH5LI6wFLak8xtlHUOus6BzlAG+2T25MpGsQVbGL0aWk3urYjY9a8/jl/w3xgb3TbolaH\n",
       "rsrR+YDeWw14Hof10G6/Xsc0IwD9otMk9WsIOGX0oBOl2emU4R0i+p/Oxn8vu8DPv8eijgAAAABJ\n",
       "RU5ErkJggg==\n",
       "\" style=\"display:inline;vertical-align:middle;\" /></a> <a class=\"ProveItLink\" href=\"__pv_it/4ec081cb7f38d5652b4921e621d34a58f15def740/proof.ipynb\" style=\"text-decoration: none\">&#x22A2;&nbsp;</a><a class=\"ProveItLink\" href=\"__pv_it/17b8dd5ac7c4f2bbd3baf30fbf3460b8bd2f67a60/expr.ipynb\"><img src=\"data:image/png;base64,iVBORw0KGgoAAAANSUhEUgAAAFYAAAAUBAMAAADl6NejAAAAMFBMVEX///+6uroQEBCqqqqIiIgy\n",
       "MjJERETu7u6YmJjMzMxUVFTc3Nx2dnYiIiJmZmYAAAAutVgsAAAAAXRSTlMAQObYZgAAAXVJREFU\n",
       "KM9jYECAHQx4APMGZB57ApjiDEBVxLH+17tliQwMq5EFWSE6WT9AuNwwcSagGe8nMJQiq+2DUK3f\n",
       "oVofQMXnNzAwyD9g4HFAUnsb4hK73xDutOtQcX+gff0ODOwKCKXcFyDOY/kI4S90gUokAQ3QLWBg\n",
       "CESoZYHYKc78A2J+AC9U4hcDw9zlQPocQi1bA1iJAOcXMJfHgMcAEi6/Otwugz3C8PYuENwBMnnB\n",
       "UowM3P/ASngZuCGBxwJ0f9ECIMMWYuYuUNAIgFiz3r36BhZqYWBYCbEP6CeWz6DwQFcLJFTBQsBQ\n",
       "mAVm8APNZPmCqhbsBmYgvgSO0gewyAEFLxcobGQRasF+2wzE8bBIZH4AC975CWC/QfwK8vgDaBjn\n",
       "g4ybBnUHA0MQ0MNqwOBleIMIM8YLDOz5XwsYzP7fA8UESAgUG0v/r3uVBg6iSIw4hgIBmHWIZHgB\n",
       "M+3gAihph20DXrWlWNI6LpCNwsObhzg2MAAAmLtbPDI+YDoAAAAASUVORK5CYII=\n",
       "\" style=\"display:inline;vertical-align:middle;\" /></a></span>"
      ],
      "text/plain": [
       "{A in BOOLEANS, B in BOOLEANS, [not](B)} |- [not](A and B)"
      ]
     },
     "execution_count": 30,
     "metadata": {},
     "output_type": "execute_result"
    }
   ],
   "source": [
    "Not(And(A,B)).prove([inBool(A), inBool(B), Not(B)])"
   ]
  },
  {
   "cell_type": "code",
   "execution_count": 31,
   "metadata": {},
   "outputs": [
    {
     "data": {
      "text/html": [
       "<span style=\"font-size:20px;\"><a class=\"ProveItLink\" href=\"__pv_it/5e1ecae7e06ff78ba947444902fa8d9d1a4b29970/expr.ipynb\"><img src=\"data:image/png;base64,iVBORw0KGgoAAAANSUhEUgAAALIAAAAVBAMAAAAQvakNAAAAMFBMVEX///+IiIi6urrc3NxERETM\n",
       "zMwQEBCqqqpUVFQiIiJ2dnYyMjLu7u5mZmaYmJgAAABN0h6tAAAAAXRSTlMAQObYZgAAAjZJREFU\n",
       "OMtjYGDgu8dAbRArAyJ5djFQH6gFAAm+DxAO6wZUSckU/20zFKAcvv4fd1uc8ChAALA5vCCCawJE\n",
       "hPsDmpINgTw+8IBic2BguB+ARwEcgM0BGwoz+fUfNCUOegyiLDBO/AMGBv0LeBTAAdgcZJN5aj9D\n",
       "pZ7MnLkBqrEcrlHegIHhvQAkZDxnzmbAUAADEHOQTeZj/ASRCpFBOGnREZgGN6CezAPgcHQ8gE0B\n",
       "DEDMQTZZh/0fxM49CM8yTW2FcX4wMET2gFmnD2BVAAMQc7gSgAQH2Os8CqwfwTIcBnCNavO/waKe\n",
       "9cc7kekQZjMDNgXwwICYA05wZeAYZ2Jg/guWYkGOoHWvoGxGYOAda4AIY1NwcyYQzEIyZy8wWCeD\n",
       "pSLu3vgCZoTtBgJYDLIwPYDoZAH6jvE72PXZIAUM6ApAwALJHI6J0OzCAPRVNljaBNlJLAwQdzLw\n",
       "A2lGcHAxO2BVADMZZs4OkOkgpexAPA2SJZA1cjBsQCRnDkjiScCqAGoyzBw+eHYxB+L9YGleAWQn\n",
       "8S1AJOd4iGsvMmBTADUZZg44bYBMZgaZ7g9JFdPhmTeKYdUNBp7fIPY2YNykQJIbZwE2BeAoQJgD\n",
       "S888/r8PMJT8nwuWP+F0AKXAmQnkdv/vveECNZGnRYcBQwFUCm4OSrkBB1qeM5GLPfYDaPJMS6C5\n",
       "G5cCeB5MwF/UchEqi7EpAJvM9wG/xoOETMamAFw+MxCoUx4QMhmbAjVwrmenTT0IACLSs6HdR9k/\n",
       "AAAAAElFTkSuQmCC\n",
       "\" style=\"display:inline;vertical-align:middle;\" /></a> <a class=\"ProveItLink\" href=\"__pv_it/ec9435242d376cbe19be5d9b95a6e5e854b14c540/proof.ipynb\" style=\"text-decoration: none\">&#x22A2;&nbsp;</a><a class=\"ProveItLink\" href=\"__pv_it/17b8dd5ac7c4f2bbd3baf30fbf3460b8bd2f67a60/expr.ipynb\"><img src=\"data:image/png;base64,iVBORw0KGgoAAAANSUhEUgAAAFYAAAAUBAMAAADl6NejAAAAMFBMVEX///+6uroQEBCqqqqIiIgy\n",
       "MjJERETu7u6YmJjMzMxUVFTc3Nx2dnYiIiJmZmYAAAAutVgsAAAAAXRSTlMAQObYZgAAAXVJREFU\n",
       "KM9jYECAHQx4APMGZB57ApjiDEBVxLH+17tliQwMq5EFWSE6WT9AuNwwcSagGe8nMJQiq+2DUK3f\n",
       "oVofQMXnNzAwyD9g4HFAUnsb4hK73xDutOtQcX+gff0ODOwKCKXcFyDOY/kI4S90gUokAQ3QLWBg\n",
       "CESoZYHYKc78A2J+AC9U4hcDw9zlQPocQi1bA1iJAOcXMJfHgMcAEi6/Otwugz3C8PYuENwBMnnB\n",
       "UowM3P/ASngZuCGBxwJ0f9ECIMMWYuYuUNAIgFiz3r36BhZqYWBYCbEP6CeWz6DwQFcLJFTBQsBQ\n",
       "mAVm8APNZPmCqhbsBmYgvgSO0gewyAEFLxcobGQRasF+2wzE8bBIZH4AC975CWC/QfwK8vgDaBjn\n",
       "g4ybBnUHA0MQ0MNqwOBleIMIM8YLDOz5XwsYzP7fA8UESAgUG0v/r3uVBg6iSIw4hgIBmHWIZHgB\n",
       "M+3gAihph20DXrWlWNI6LpCNwsObhzg2MAAAmLtbPDI+YDoAAAAASUVORK5CYII=\n",
       "\" style=\"display:inline;vertical-align:middle;\" /></a></span>"
      ],
      "text/plain": [
       "{A in BOOLEANS, B in BOOLEANS, [not](A)} |- [not](A and B)"
      ]
     },
     "execution_count": 31,
     "metadata": {},
     "output_type": "execute_result"
    }
   ],
   "source": [
    "Not(And(A,B)).prove([inBool(A), inBool(B), Not(A)])"
   ]
  },
  {
   "cell_type": "code",
   "execution_count": 32,
   "metadata": {},
   "outputs": [
    {
     "data": {
      "text/html": [
       "<span style=\"font-size:20px;\"><a class=\"ProveItLink\" href=\"__pv_it/e229708ae91e933a44ca1cbb9a50ba4bb825d50b0/expr.ipynb\"><img src=\"data:image/png;base64,iVBORw0KGgoAAAANSUhEUgAAADEAAAAVBAMAAAAdjxsPAAAAMFBMVEX///+IiIi6urrc3NxERETM\n",
       "zMwQEBCqqqpUVFQiIiJ2dnYyMjLu7u5mZmaYmJgAAABN0h6tAAAAAXRSTlMAQObYZgAAAOJJREFU\n",
       "KM9jYGDgu8eABlgvHgBRPLsYMABTKojk+4AQ4ev/cbfFCci4DeJxTUBSzObAwHA/gIFhJYZM/AMG\n",
       "Bv0L2GTkDRgY3gtgk3EDuijzADaZHwwMkT1AehmIw7EBySM/3olMBzHeg4gyoFNuzgSCWQwMjJ8Z\n",
       "GI41AAW5ga4ImQzTYMHAwJIAlP0O4nQCnaEWgJDhB6pn/AjSA9LI4YCQAXmH4xPMHrjbLCDeiXeA\n",
       "uQ0uw8rAsA0YmCmgcEb3T/f/3hsuBQwM2HwKAxCZBFwyyPEDB+D4YcAWp0lgih17OgAAhc8/A2yv\n",
       "PboAAAAASUVORK5CYII=\n",
       "\" style=\"display:inline;vertical-align:middle;\" /></a> <a class=\"ProveItLink\" href=\"__pv_it/1d4ead212902dd1401f06d06880d01a4c9fc98590/proof.ipynb\" style=\"text-decoration: none\">&#x22A2;&nbsp;</a><a class=\"ProveItLink\" href=\"__pv_it/7c6f6f8dfd98f438dc71932aa19bba7199adb6890/expr.ipynb\"><img src=\"data:image/png;base64,iVBORw0KGgoAAAANSUhEUgAAAH0AAAAUBAMAAABSVS+EAAAAMFBMVEX///+6uroQEBCqqqqIiIgy\n",
       "MjJERETu7u6YmJjMzMxUVFTc3Nx2dnYiIiJmZmYAAAAutVgsAAAAAXRSTlMAQObYZgAAAdtJREFU\n",
       "OMuVVD1IQlEUPk+fmk+fObRGtpRL4BqBOTWmtDQE+WqIKKSX/WyBY9CQS2PYUkGDtrREkVBzCK0F\n",
       "thQIqZEQGWLn3vN83qct7zzePfd+556fe865F8AkXwZs0pRltUvsqGfTQKFZPVvqAbfXKpkbUC5F\n",
       "bIFY0liaMocGUMtaMDkMEA2DJyH6KRNL6rRe7AhyeK6Rsoh5Urgn8AvwIOirZHyrRtybMuxAHIHD\n",
       "mIi5xnGQQgBpQf+WWCYe5FwZihmCZXQ4oYtYLcKMYUiuYFd/lo+SPk1l2IGSIWgCHJ+LmK/FD4Fh\n",
       "+ctd/VU+bkKOfNzjRwdp7s88gYj5G2bOEvDxgvSMc9oThDuyWYIrI9eYp/SJiKk/HX2nEeM1/qPc\n",
       "Wb5a0LjlGChUMzfmSf4SMcc3j59tr/foSyjlRVV18JLTQWRyQ8RUrjXZo8/jx8SqITaJmg3Fyq98\n",
       "ihirPECRuRPiZ/nzob6r3mnGqFn+nCZiPhaNX6f8UY7xfzR6wM2sezWKF2kO3YzpFgxL7HxnskCx\n",
       "W79hvEHteXButLAACmsMmVXytJ2vrER495iY5+3ilRox29e/RBIfs5Y79w+2139/bJF4f2Ddtrrl\n",
       "/nbeDxvktrwf9t+vA4A/FZ176fWuxUQAAAAASUVORK5CYII=\n",
       "\" style=\"display:inline;vertical-align:middle;\" /></a></span>"
      ],
      "text/plain": [
       "{[not](B)} |- [not](A and B and C)"
      ]
     },
     "execution_count": 32,
     "metadata": {},
     "output_type": "execute_result"
    }
   ],
   "source": [
    "Not(And(A,B,C)).prove([Not(B)])"
   ]
  },
  {
   "cell_type": "code",
   "execution_count": 33,
   "metadata": {},
   "outputs": [
    {
     "data": {
      "text/html": [
       "<span style=\"font-size:20px;\"><a class=\"ProveItLink\" href=\"__pv_it/0a6f8ad2e01a53f211a2f727f9c748787e6924280/expr.ipynb\"><img src=\"data:image/png;base64,iVBORw0KGgoAAAANSUhEUgAAAEkAAAAVBAMAAAD4Ed5jAAAAMFBMVEX///+IiIi6urrc3NxERETM\n",
       "zMwQEBCqqqpUVFQiIiJ2dnYyMjLu7u5mZmaYmJgAAABN0h6tAAAAAXRSTlMAQObYZgAAAVxJREFU\n",
       "KM9jYGDgu8eAB7BePACieHYx4AVMqSCS7wNU0wY06Rf/e2+4KDAw3AZxuCZABLmhqpnhylIYGHi/\n",
       "MjCsRFb1+g9U9QWYi/4BrfuLqoqn9jNEMmQOVBUjUIDvI6oqPsZPEMkmQagqlgQGhmNzUFXpsP+D\n",
       "mLmBE6qKv4GBdQYwGJaBOBxgv/EosH4Ey3EVcBVAVMX3PfQEMd+DOGUB4FBhYP4LluNkYIYGibwB\n",
       "A08G1Dshk8FCEXdvfAEzHjIwtEJUuYFUggzrFGBgUAObBQy9bLAc0LkREFU/QKqACrgbQO5yABLs\n",
       "QDwNJMUONJ7bABZcDP0KUHeB/WgOxPvBYWoAUQkJLlaQK5bBVDGDVPqDjAiB2gpUDwwuNR8GRHjx\n",
       "+P8+wFDyfy4oTEFCoHDl2P/jbos7AwNaPEKAAthJKGkDoioBf/qCqIKlL5wAnL4YCKXVJDDFTjjd\n",
       "AwBj5VcFOzbuEwAAAABJRU5ErkJggg==\n",
       "\" style=\"display:inline;vertical-align:middle;\" /></a> <a class=\"ProveItLink\" href=\"__pv_it/8b993e174ef574477ebf90cf24e307d39c7bf2590/proof.ipynb\" style=\"text-decoration: none\">&#x22A2;&nbsp;</a><a class=\"ProveItLink\" href=\"../../../__pv_it/d3792d0d8642fdf1cd2a3a9b32c673ee13653de00/expr.ipynb\"><img src=\"data:image/png;base64,iVBORw0KGgoAAAANSUhEUgAAAA8AAAAOBAMAAAACpFvcAAAALVBMVEX///8iIiIQEBBERERUVFS6\n",
       "urqIiIjc3NxmZmaqqqru7u6YmJgyMjLMzMwAAACK9jtgAAAAAXRSTlMAQObYZgAAAFtJREFUCNdj\n",
       "YACBOwxQcA5Kc59bAGGs7CuAMDbkBYBp1gXzNoAZSxnuJYAZAQx1DSCa16PDzwCshIGB6QCIMYGB\n",
       "gVEBSLMDGTwPgIxCIGZ+zsCw+N0pBk67hw0AfpEVEQi8t+wAAAAASUVORK5CYII=\n",
       "\" style=\"display:inline;vertical-align:middle;\" /></a></span>"
      ],
      "text/plain": [
       "{A and B} |- A"
      ]
     },
     "execution_count": 33,
     "metadata": {},
     "output_type": "execute_result"
    }
   ],
   "source": [
    "And(A,B).deriveAny(0,[And(A,B), *inBool(A,B)])"
   ]
  },
  {
   "cell_type": "code",
   "execution_count": 34,
   "metadata": {},
   "outputs": [
    {
     "data": {
      "text/html": [
       "<span style=\"font-size:20px;\"><a class=\"ProveItLink\" href=\"__pv_it/0a6f8ad2e01a53f211a2f727f9c748787e6924280/expr.ipynb\"><img src=\"data:image/png;base64,iVBORw0KGgoAAAANSUhEUgAAAEkAAAAVBAMAAAD4Ed5jAAAAMFBMVEX///+IiIi6urrc3NxERETM\n",
       "zMwQEBCqqqpUVFQiIiJ2dnYyMjLu7u5mZmaYmJgAAABN0h6tAAAAAXRSTlMAQObYZgAAAVxJREFU\n",
       "KM9jYGDgu8eAB7BePACieHYx4AVMqSCS7wNU0wY06Rf/e2+4KDAw3AZxuCZABLmhqpnhylIYGHi/\n",
       "MjCsRFb1+g9U9QWYi/4BrfuLqoqn9jNEMmQOVBUjUIDvI6oqPsZPEMkmQagqlgQGhmNzUFXpsP+D\n",
       "mLmBE6qKv4GBdQYwGJaBOBxgv/EosH4Ey3EVcBVAVMX3PfQEMd+DOGUB4FBhYP4LluNkYIYGibwB\n",
       "A08G1Dshk8FCEXdvfAEzHjIwtEJUuYFUggzrFGBgUAObBQy9bLAc0LkREFU/QKqACrgbQO5yABLs\n",
       "QDwNJMUONJ7bABZcDP0KUHeB/WgOxPvBYWoAUQkJLlaQK5bBVDGDVPqDjAiB2gpUDwwuNR8GRHjx\n",
       "+P8+wFDyfy4oTEFCoHDl2P/jbos7AwNaPEKAAthJKGkDoioBf/qCqIKlL5wAnL4YCKXVJDDFTjjd\n",
       "AwBj5VcFOzbuEwAAAABJRU5ErkJggg==\n",
       "\" style=\"display:inline;vertical-align:middle;\" /></a> <a class=\"ProveItLink\" href=\"__pv_it/2ddebf0e775c94ac2121b846aabd86b6f62d4b370/proof.ipynb\" style=\"text-decoration: none\">&#x22A2;&nbsp;</a><a class=\"ProveItLink\" href=\"../../../__pv_it/4d98b438710c5ada9ffa4646bb123a7d0e69ec000/expr.ipynb\"><img src=\"data:image/png;base64,iVBORw0KGgoAAAANSUhEUgAAABAAAAAOBAMAAADUAYG5AAAALVBMVEX///8yMjKqqqoiIiLu7u7c\n",
       "3NyIiIjMzMwQEBC6urpERERmZmZUVFSYmJgAAACsPVCVAAAAAXRSTlMAQObYZgAAAGxJREFUCNdj\n",
       "YGC48+70nlUTGICgi4GB+zmQZn/LwMD5Gshge8rAwPsMyOBqYGDwMAEy+A4wsNs4ABl1Z68tVgBp\n",
       "ygtgYOkBMVaAOCChNyBGAsQYhnMTIMawvwJyGIHGzFjCwMAj92b3qUUMDAAXABxvZ4rl5AAAAABJ\n",
       "RU5ErkJggg==\n",
       "\" style=\"display:inline;vertical-align:middle;\" /></a></span>"
      ],
      "text/plain": [
       "{A and B} |- B"
      ]
     },
     "execution_count": 34,
     "metadata": {},
     "output_type": "execute_result"
    }
   ],
   "source": [
    "And(A,B).deriveAny(1,[And(A,B), *inBool(A,B)])"
   ]
  },
  {
   "cell_type": "code",
   "execution_count": 35,
   "metadata": {},
   "outputs": [
    {
     "data": {
      "text/html": [
       "<span style=\"font-size:20px;\"><a class=\"ProveItLink\" href=\"__pv_it/a8078e9aae7457a30509e45e2a5f1e2f6a09630b0/expr.ipynb\"><img src=\"data:image/png;base64,iVBORw0KGgoAAAANSUhEUgAAAIsAAAAVBAMAAACEWwD/AAAAMFBMVEX///+IiIi6urrc3NxERETM\n",
       "zMwQEBCqqqpUVFQiIiJ2dnYyMjLu7u5mZmaYmJgAAABN0h6tAAAAAXRSTlMAQObYZgAAAiNJREFU\n",
       "OMtjYGDgu8dACWC9eABE8exioAwwpYJIvg9QbjSqLOM0l9+ZTTDei/+9N1wUUBRIpvhvmwESug3i\n",
       "cU2ACu9Hs4WbVeDI2QcwXgoDA+9XVAUbAnl8QAGyEtkYvv0HUFWxMD1gDHCAhcA/oOv/oipw0GMQ\n",
       "ZUE35vh9AwjjycyZG6DGsBfAjGH8DLToI8Q+z5mzYcaUYxjzQB7i9RAZhGu4dGDGsCQwMBybA3aX\n",
       "4wGEaxYdQTOG6UA9OBx49iB5SjMiAMrhb2BgnQHWf/oAwlNMU1uB9DIQhwPsA4ZDDPECYK4BwpjM\n",
       "/0kwTnzfQ88CMKsZETZq87+BfPAexCmDWKjAYH8BrBk5iLneLYBy5A0YeDIgmpGDeN0rUJQCNYZM\n",
       "hsRE791+sIKw3UAAC2KQSghwAxkFcg5rNkgBzBiQGgaGTqA/1MCuYWJgYANrNkF2DYMDB5TzA2QM\n",
       "yNfMKK5hYWgAuqYBFBhgcaBFnAkgBhuKMQ3ciGTD0A+OygRkYzgYNkDDBhxTzEBjuMG5glcAxTWv\n",
       "EMmG9QuYeRHFNXwLoDEFNsYSpO0zWHI6IjMs4FrbwHAe5FduoBvUfMDCnAXwzBDFsOoGcro58n8P\n",
       "A7v/T3BUnXA6gJI1OYGJjmP/j7st7hDNPC06aFkTJRXDgZYnJDPAQA16wbAEmhlgAGJMAoHyZAGh\n",
       "AmclSnmDA/AIEDIGXN4wECj9+AiWfpAcw06FshgA246bXRlQ7owAAAAASUVORK5CYII=\n",
       "\" style=\"display:inline;vertical-align:middle;\" /></a> <a class=\"ProveItLink\" href=\"__pv_it/764de17571230757c9c9b9b6cdd29a0f6dfe527d0/proof.ipynb\" style=\"text-decoration: none\">&#x22A2;&nbsp;</a><a class=\"ProveItLink\" href=\"__pv_it/e6d88d6d83b42cd85725fd5f4810c105007870030/expr.ipynb\"><img src=\"data:image/png;base64,iVBORw0KGgoAAAANSUhEUgAAAKcAAAAUBAMAAAAaZjAEAAAAMFBMVEX///9UVFTMzMx2dna6uroQ\n",
       "EBCqqqqIiIgiIiJmZmYyMjJERETu7u6YmJjc3NwAAAC+aOQFAAAAAXRSTlMAQObYZgAAAm1JREFU\n",
       "OMuVVT1oU1EU/vLjS5q89wzSpf6l3USHuEm3LIKDoEIHsUtGRdBsIg6JgwWhwytOmRpEFxGTQUXQ\n",
       "NhmMiF3qVBDUTOJmI2LVauM5595Xcm+SJx7Iy7v3nu/8fOfc8wB/HRHidIf3ohFX+LGm3o9aZ16+\n",
       "VzvwGDg8DGPE2/7U0vOifRKvAzEO45FaN8IwQoU9TWB5Gm+GjQpiHpj4aiKAzCbgkmEvUIE12no/\n",
       "0AoFSvJMgETZtimI+B8g+dNEAO9+0+MEkFakvVrW5B1b1AoV2vhYhnvWNiqI1A5Z3zIRcC/RLjrA\n",
       "Z7Ver2iCJq9pjSekdJ7Cv2cbFUSWfHUWTQS81DeOvIjrsky2r6qSuvW01ugBRw7S/6xtVBB7c4jf\n",
       "bJsInHaIFCQCrMjyJQqKu0QpUVKF7L2/sSA8yfYDEWFPEIVDG89KJgJuMc6EeHUIEEV8UXSn4dfl\n",
       "hUnr5Ojloh3pgmbcPWcikITPpXOqmJOwpmr5phxsAPsQkpb6zjHZRuc046iUDARmakvbbGxTqSSp\n",
       "LZU74n4GmjSktsYa7bHRsoGgdHFBGZVkyGVaWschEjLdsE1jXMxTA5zmwvS5TZEvGgiHfrc4wqrQ\n",
       "7pfUZVDHThC2aaEZFmpQVjTj8W0T8UnfSyrUrO687I40sk4IuE8u57ln7thGGZGhvE6+MBB+lR4t\n",
       "cjFxnLNb6z+E0/rB7iZZhZt5Pw8MKcRd2yghYg2aNk9V62uE2/rVxuX+bXI4HV5T7HJNeQ3uuNWR\n",
       "1zQC8Xp3oIyVMQMlQmigYDVaZcToi0bw6AuH9DhZHT2kx0u2+8+Pg/ffn5MPwF8S0K+kUaqEVwAA\n",
       "AABJRU5ErkJggg==\n",
       "\" style=\"display:inline;vertical-align:middle;\" /></a></span>"
      ],
      "text/plain": [
       "{A in BOOLEANS, B in BOOLEANS} |- (A and B) = (B and A)"
      ]
     },
     "execution_count": 35,
     "metadata": {},
     "output_type": "execute_result"
    }
   ],
   "source": [
    "And(A,B).commutation(assumptions=inBool(A, B))"
   ]
  },
  {
   "cell_type": "code",
   "execution_count": 36,
   "metadata": {},
   "outputs": [
    {
     "data": {
      "text/html": [
       "<span style=\"font-size:20px;\"><a class=\"ProveItLink\" href=\"__pv_it/0a6f8ad2e01a53f211a2f727f9c748787e6924280/expr.ipynb\"><img src=\"data:image/png;base64,iVBORw0KGgoAAAANSUhEUgAAAEkAAAAVBAMAAAD4Ed5jAAAAMFBMVEX///+IiIi6urrc3NxERETM\n",
       "zMwQEBCqqqpUVFQiIiJ2dnYyMjLu7u5mZmaYmJgAAABN0h6tAAAAAXRSTlMAQObYZgAAAVxJREFU\n",
       "KM9jYGDgu8eAB7BePACieHYx4AVMqSCS7wNU0wY06Rf/e2+4KDAw3AZxuCZABLmhqpnhylIYGHi/\n",
       "MjCsRFb1+g9U9QWYi/4BrfuLqoqn9jNEMmQOVBUjUIDvI6oqPsZPEMkmQagqlgQGhmNzUFXpsP+D\n",
       "mLmBE6qKv4GBdQYwGJaBOBxgv/EosH4Ey3EVcBVAVMX3PfQEMd+DOGUB4FBhYP4LluNkYIYGibwB\n",
       "A08G1Dshk8FCEXdvfAEzHjIwtEJUuYFUggzrFGBgUAObBQy9bLAc0LkREFU/QKqACrgbQO5yABLs\n",
       "QDwNJMUONJ7bABZcDP0KUHeB/WgOxPvBYWoAUQkJLlaQK5bBVDGDVPqDjAiB2gpUDwwuNR8GRHjx\n",
       "+P8+wFDyfy4oTEFCoHDl2P/jbos7AwNaPEKAAthJKGkDoioBf/qCqIKlL5wAnL4YCKXVJDDFTjjd\n",
       "AwBj5VcFOzbuEwAAAABJRU5ErkJggg==\n",
       "\" style=\"display:inline;vertical-align:middle;\" /></a> <a class=\"ProveItLink\" href=\"__pv_it/903b25e5d05536734e73cfb87ee5eb40b59f36a80/proof.ipynb\" style=\"text-decoration: none\">&#x22A2;&nbsp;</a><a class=\"ProveItLink\" href=\"__pv_it/7ddff83a8ef1d13c10052cd699c8f1ea86091d1d0/expr.ipynb\"><img src=\"data:image/png;base64,iVBORw0KGgoAAAANSUhEUgAAADcAAAAPBAMAAACy3Eq1AAAAMFBMVEX///92dnYyMjKqqqoiIiLu\n",
       "7u7c3NyIiIjMzMwQEBC6urpERERmZmZUVFSYmJgAAADEjrHzAAAAAXRSTlMAQObYZgAAAPxJREFU\n",
       "GNNjYGB4+//O2d0LGNBBE4SazcDA8wPMYkOS1AeTHP8YGLj+gJlMB+ByfPoBIIr9G5D5HSzS7QqX\n",
       "DD6fAKK4JzAwREJEb5XDJR/Ug53Bf4GBwxdsBqsCC0yOK8D+AYjuv/d8iwFYhNGA0QAqGcXQXwCi\n",
       "6xMYWOeCRVgY2BSgkgsY8sGO2wlSANbxnIHhBkSO486Z+xtAjL8gSbAZQFf1Qq1kYOBUgHqT4T7I\n",
       "acxAg5jAHmAAGsQyAepNjt/gIEiAKACGFFCS6QNICKhi5VZwEECNZmBIAXkfqIlX/++Z25shQQAi\n",
       "QMEQ/V+VgXn/lwPI8QAOEg4kAQAiLT7KX4RYxQAAAABJRU5ErkJggg==\n",
       "\" style=\"display:inline;vertical-align:middle;\" /></a></span>"
      ],
      "text/plain": [
       "{A and B} |- B and A"
      ]
     },
     "execution_count": 36,
     "metadata": {},
     "output_type": "execute_result"
    }
   ],
   "source": [
    "And(A,B).commute(assumptions=[And(A, B)])"
   ]
  },
  {
   "cell_type": "code",
   "execution_count": 37,
   "metadata": {},
   "outputs": [
    {
     "data": {
      "text/html": [
       "<span style=\"font-size:20px;\"><a class=\"ProveItLink\" href=\"__pv_it/1e86c1bb7a9416d7fc47e7ac8b4ae42c451af9690/expr.ipynb\"><img src=\"data:image/png;base64,iVBORw0KGgoAAAANSUhEUgAAANEAAAAVBAMAAAAqbRZ+AAAAMFBMVEX///+IiIi6urrc3NxERETM\n",
       "zMwQEBCqqqpUVFQiIiJ2dnYyMjLu7u5mZmaYmJgAAABN0h6tAAAAAXRSTlMAQObYZgAAAv1JREFU\n",
       "SMe1Vk1oE0EUfkk22fxsfjx4EITmlIOI5CAIHiRIUQuVRAhSvBikgqCUgH+nYqgWIlJbELWBiq0H\n",
       "oR4kJw9VaAQpipcoHgLamqIHUSStTSX+Nb43M5vdF6kIjQPZYb/9Zr5537w3EwAILcB/bu4XJeqM\n",
       "GXru6ciUp9fBncfpGVoiuYQUL7ZRPjRHKt3RNvDxgUp1N0NCo/V890UAb5wzt/QnH4zT8Nf05h/D\n",
       "R0BSAkuS4Wpx+wGCqxxzDAAMDnAsjEusZcFoX2nxkNFLmzPdUvosP3z6KftA2XR4DUP/xTCjB00P\n",
       "rnDe0QhiGYCpNqXEDtisMaVrcpJBOQGkJ8z1IxBaZljgFBmf4byuFGK4qjn1/r5QKCql80zJNSbt\n",
       "dnyRxKFNaoSGM85NMOxtlmItc16SrPyOy5B7mt5qxXTniV3JIQdu19dkbEWf6X8O3OMlO+b6Jt7i\n",
       "nFenOBs4mZjIeGS557w+jP1devFimFpVEKJuaZQ/688q/68u9mQZ5l+2dqHFE+McGFNIeGalYCJ2\n",
       "+yuFWaOXc2ixTwxwgktuvg9cKom64mCcYJhv1VJq8RwEetF6XWyDZs+I+x9V6qQpGTzC3r75Sl18\n",
       "XwQYlsx9pJa1Yx6RngbnaVQdYdxTtyiTww+xmRmhOcmwy5icsZSphI+TYiCmQJ9UapBSxI75xFxn\n",
       "OS9MhV+rmko77TFpkMOYchR0Qrmn4+8GfdbLZilTOcFo1I7JSprkPCono582QLjnsSt5oaj2iXJP\n",
       "ZMQu/M2COjD0sllO7jrDXLT5/hLnUTk9J7tkRgQj9phCkyr3SImSU9RUkpaYVs7gXGh9rBcYdqEK\n",
       "+hvgGC7QeUtoiGDhZus0OgL3KvZ6wqCN5I8SnGkSf4hgqknvbGP+0n5ZoyYGxqv8S+DYleZI/qCw\n",
       "MZASX57uLfETtv00Uk2kh5sfYP+IPVP9tp4CO2ylUsY6YTfcptbBp1v3kxbviNAft4bZxP0EM9ZN\n",
       "uNG23oKdx0SnL3Tsdn/3l/8RvwE9fddlgoJU/AAAAABJRU5ErkJggg==\n",
       "\" style=\"display:inline;vertical-align:middle;\" /></a> <a class=\"ProveItLink\" href=\"__pv_it/999bd6b8a8ee4f867b9c09a4995a2d6adaa5a0420/proof.ipynb\" style=\"text-decoration: none\">&#x22A2;&nbsp;</a><a class=\"ProveItLink\" href=\"__pv_it/3f639545e90266cb0216d88a6b051f288bd136600/expr.ipynb\"><img src=\"data:image/png;base64,iVBORw0KGgoAAAANSUhEUgAAADgAAAAPBAMAAABD1xE4AAAAMFBMVEX///8iIiLu7u52dna6uroQ\n",
       "EBBmZmaIiIjMzMyqqqoyMjLc3NxERERUVFSYmJgAAAAdjRNVAAAAAXRSTlMAQObYZgAAAONJREFU\n",
       "GNNjYGB4+//snbMbGJABu+iZX4FXwMxfDAx8P1EkGbg4CnTUHgAZHN+BRCqqJA/LA/aGAyAzfgAJ\n",
       "/wdgQb6DglJQSc4JIEmeD0BivwFIjOO4AlwnsxNIkh9E+F8AiWkpIIx17G0AMvoLgEQ9WOdthJ2B\n",
       "/0NAjHqQivsOIOYBJAcxvwOpPw/ifQVbGbUKCKCSDAf8gIw/IFf+AwlxI+tkOMAL9aYqRDgAWfIC\n",
       "F8SbTKsgYukoOh8DQwroTccEiBjjBHjwGTCbXWDgXf839042VIzpjhN6wCMBFhtI8EEAALZERsGv\n",
       "6x6JAAAAAElFTkSuQmCC\n",
       "\" style=\"display:inline;vertical-align:middle;\" /></a></span>"
      ],
      "text/plain": [
       "{(A and B and C and D) in BOOLEANS} |- D in BOOLEANS"
      ]
     },
     "execution_count": 37,
     "metadata": {},
     "output_type": "execute_result"
    }
   ],
   "source": [
    "inBool(D).prove([inBool(And(A,B,C,D))])"
   ]
  },
  {
   "cell_type": "code",
   "execution_count": 38,
   "metadata": {},
   "outputs": [
    {
     "data": {
      "text/html": [
       "<strong id=\"expr\">expr:</strong> <a class=\"ProveItLink\" href=\"__pv_it/2149da613614025bae6179755f96b10602844a260/expr.ipynb\"><img src=\"data:image/png;base64,iVBORw0KGgoAAAANSUhEUgAAATUAAAARBAMAAABOeyajAAAAMFBMVEX///92dnYiIiIQEBBERERU\n",
       "VFS6urqIiIjc3NxmZmaqqqru7u6YmJgyMjLMzMwAAADiRdoGAAAAAXRSTlMAQObYZgAAAxVJREFU\n",
       "SMeVlk1oE0EUx182JrvdbdecVTAgHmwPDaIgGDFU67UVtBDUtiAi6MFAKz22ehQk8aNC8NAcvOSi\n",
       "CxargpiTIvgR6KXioUHagwdJKaat1VrfzO7OzGum0GzIMPve+/92Pt68XQB2/YSWLreqt7cPNYrn\n",
       "zmwxOqPZi1Zi5/CZ3snKLeV+Xulb22gmZLdjibqEJJoBmKpR20gF7AcVHUaLMNMA5bQy33lPeXBB\n",
       "r/4qu5/+UJeQ1HEMNwrENt2FzdSEDqNDOD04lLY16XitaGGhS7+PPWL8TnmN+oRkHDlfcsQ2y2SX\n",
       "dRgtouM4NvGUdFTGh+XNwJhWHLuaE8tsrlCfkJzCgR/2VFvbOmt/6DBaxFSJTUBuXdx7JvPBqRpa\n",
       "8RtIht3r9l+a7ULSAPh+gdjyXPVSh9EhrGV+J7fxBdRxMm6G30RKkZJOvQd/AWfYXSUuIXEbH0c7\n",
       "qW1/sEwBXcFoEZHVLY5hyBfALfoTMsDSVogk3A2XGazfxCUkJubh835i6/ZPbUhXMFqE8W9LlmeL\n",
       "QziruK9+DzCoK105iPmPgcXi5C/iE5JdmMPmOrGd5NnnhXQFo0VEeQVwZLqhqSrGhudlUTcxD9z+\n",
       "cJnhBPEJyW6MMFeJrZs1di2kKxgtwuCV86mw40YbqXBsNh6RDk19LON/jvds/B8A+PB5rDA2SCWs\n",
       "vMVWiI1Xp4iYucSQS4T7lS3B6exolPxC76tZhK2pvnMBGOCO/x55l4aj3k0qYeWtniG2PDsLe8XY\n",
       "JIZW3jDcYqse8Rj9GPZus0RZC9ULwQqDs4HN22rQ4cfMYLljsbC+CWsmCStwj0hgFilHPGJj5abs\n",
       "hXSB4VDxCAWB1cx+DIyOmTe9+Q3svuVCoB5gDa+DBxmmP+jEWHE2cQ2cvg0PnmwegljOTUEnkVza\n",
       "zE6e9quJxLzqzTKtTxcYDpWPkOHOw/OPWGBOfTcEav6CcJsWPc5b9YRFa2bGWqptI2my+fRmzDbh\n",
       "0VpbQgmzky19J+Vxbu2ZHX/7tEw3rsmxWfcbuVbUVzCBrbPeDqNbp5v74D9nPeoof24fiwAAAABJ\n",
       "RU5ErkJggg==\n",
       "\" style=\"display:inline;vertical-align:middle;\" /></a><br>"
      ],
      "text/plain": [
       "expr: A_{1} and ..A_{_a}.. and A_{m} and B and C_{1} and ..C_{_a}.. and C_{n}"
      ]
     },
     "execution_count": 38,
     "metadata": {},
     "output_type": "execute_result"
    }
   ],
   "source": [
    "from  proveit.logic.boolean.conjunction._theorems_ import eachInBool\n",
    "expr = eachInBool.instanceExpr.explicitConditions()[0].element"
   ]
  },
  {
   "cell_type": "code",
   "execution_count": 39,
   "metadata": {},
   "outputs": [
    {
     "data": {
      "text/html": [
       "<span style=\"font-size:20px;\"><a class=\"ProveItLink\" href=\"__pv_it/e4066b638f0c92754619e0aa0ab30bcbee59c4f40/expr.ipynb\"><img src=\"data:image/png;base64,iVBORw0KGgoAAAANSUhEUgAAAcsAAAAVBAMAAADbb9ifAAAAMFBMVEX///+IiIi6urrc3NxERETM\n",
       "zMwQEBCqqqpUVFQiIiJ2dnYyMjLu7u5mZmaYmJgAAABN0h6tAAAAAXRSTlMAQObYZgAABKRJREFU\n",
       "WMPlWF9oHEUY/91t9vZ2b3NepIhvPUGqDwUPVIr6cFcp0jzlHoKmiOTUCtpKeoL2LeSsCaht2gPR\n",
       "Wq3kBPEPiB4U+qCVbLVYIUguIpKqaa5C8UE06UVpSmPj/Nmd3cnNXvfwQagTbjL7/fnt930z830z\n",
       "CyB9Hjdy0+cc+s/+DDd2iz9F+/RyCNue3nEK1r4nIrMf7TLMdTU9fWR1YfzBjW/bNHlYq0UHP71z\n",
       "vnm/O/6JdlY1TLSnOQTMIjJ7OjDWQpRy/jC1Ib5CJVEAFosy7ZYmjB+aKhglRGwEGB1xHz7q7Gby\n",
       "9VgGCURlp6edgA8NtdIX/vC3NZklVIaJO3c1JNqZ46RbzKlgVBB2PzGld6Wzm+n+Y28zP253JmAi\n",
       "KvtswAwMHlcv1H4RCnt0ReYJlc0EZykj0U5StS0qGCVE6lm6J0sd3dS3uxjJeyszTpuboezm5qz/\n",
       "cKBPvQJuy4hoxVoyT6g8RGLwjBOk9V6m/WMqGCXEYpka2tjoZvzDu/te1N89wKgzXqSSuef0iusH\n",
       "lZgLZ1MJZ8zfO3bdVNoxAxHUrcY1OckIlVVg1yGJlmdaX6lgVBDaFfbkLa73mbUk4Vk92zF7M/Yz\n",
       "6ksiZjkre8F9N5PIhbJJ+xLDJMR6gYuXrbLKkA/In2tSVr8ksYSKvvrHpqMy7VN38lz0AIwSwpKR\n",
       "l2i3n+S0R8w68jX+jILvBw4ld/ExkyiGsknLIt+AvsDDbEJTlosqHvAmH9rfEkuoxMie/boi0aZ4\n",
       "3vXQAzBKCPOvtsQ0+BoZOLNZjDkYZ1h7PyfN9eMbnOSiVGIpnE3okwtHSATi3JALwISqJGaQ5BZj\n",
       "aGH+T4knVHpI6ohdlmj72EZxPPQAjBIiwXK4LeivkMWwhSqMAeeAx9nCDk6XXnvYfSASBzuwyewg\n",
       "URdukow3pAq3A73iTT72SjyhchORiF2SaFO0M4oeegBGCWGyivyCmE0qmyzwg8JbiK+wAJQCfuDX\n",
       "Hv8oca0DG2RTmCXPTYMsk5SihI+S3wk2MsjvDeD3i32NvglZhZbNZEuisVJliSD6MFIT4rxi1hi6\n",
       "tzdZQdkDu4Xe+jZKmBN+kHm27nEf9sBYs8LZWpkfa7gh9GWG4oBwwrUR2MZPTb+M4GnnVlmFls3h\n",
       "gkTL0xT0sXDTh5H3oCeu0bVgORT9SS/TUje1FoxlpGrs0Gh6OTJVZrNoXwWTsOoXQ9m4j26qFc+Q\n",
       "QXcJceZs3R2wRGnSfaZRsYGcdrqKFn6UVOh2j+92JBqtPaOOhy5gBDrvfAhS2oyfQdHXpLpZRawB\n",
       "4zxbNPb4Vp5UpnazEoVj/AXa4XIo+8z6KRgDVxquIawAs1L9JrWo4g6S9PxAToiwB646eH79HSQz\n",
       "eglHJZWD65PzO3gofZhvd05SXY4uYHx01vni9vcvf0cFM+wkFHLYi7/HT3NizTvR2dwQdhzS269E\n",
       "rA/myEQxVtCWiyEqbTSO3g4TIp4o9taKnpul611qrC7YRrWry1ieRDxdiHzB6hrdvMNzM/S+6d/d\n",
       "orO1c6uZbgy5k+QN7VUnonT36LFPvPsmrvv1oPmv2P/91wN+8zf+B9+C/gFQGnpudwy9pgAAAABJ\n",
       "RU5ErkJggg==\n",
       "\" style=\"display:inline;vertical-align:middle;\" /></a> <a class=\"ProveItLink\" href=\"__pv_it/b84d05d496e56d46f86ce8245beb0a4cc3666cd80/proof.ipynb\" style=\"text-decoration: none\">&#x22A2;&nbsp;</a><a class=\"ProveItLink\" href=\"../../../__pv_it/4d98b438710c5ada9ffa4646bb123a7d0e69ec000/expr.ipynb\"><img src=\"data:image/png;base64,iVBORw0KGgoAAAANSUhEUgAAABAAAAAOBAMAAADUAYG5AAAALVBMVEX///8yMjKqqqoiIiLu7u7c\n",
       "3NyIiIjMzMwQEBC6urpERERmZmZUVFSYmJgAAACsPVCVAAAAAXRSTlMAQObYZgAAAGxJREFUCNdj\n",
       "YGC48+70nlUTGICgi4GB+zmQZn/LwMD5Gshge8rAwPsMyOBqYGDwMAEy+A4wsNs4ABl1Z68tVgBp\n",
       "ygtgYOkBMVaAOCChNyBGAsQYhnMTIMawvwJyGIHGzFjCwMAj92b3qUUMDAAXABxvZ4rl5AAAAABJ\n",
       "RU5ErkJggg==\n",
       "\" style=\"display:inline;vertical-align:middle;\" /></a></span>"
      ],
      "text/plain": [
       "{m in Naturals, n in Naturals, A_{1} and ..A_{_a}.. and A_{m} and B and C_{1} and ..C_{_a}.. and C_{n}} |- B"
      ]
     },
     "execution_count": 39,
     "metadata": {},
     "output_type": "execute_result"
    }
   ],
   "source": [
    "from proveit.logic import InSet\n",
    "from proveit.number import Naturals\n",
    "expr.deriveAny(1, assumptions=[InSet(m, Naturals), InSet(n, Naturals), expr])"
   ]
  },
  {
   "cell_type": "code",
   "execution_count": 40,
   "metadata": {},
   "outputs": [
    {
     "data": {
      "text/html": [
       "<span style=\"font-size:20px;\"><a class=\"ProveItLink\" href=\"__pv_it/e4066b638f0c92754619e0aa0ab30bcbee59c4f40/expr.ipynb\"><img src=\"data:image/png;base64,iVBORw0KGgoAAAANSUhEUgAAAcsAAAAVBAMAAADbb9ifAAAAMFBMVEX///+IiIi6urrc3NxERETM\n",
       "zMwQEBCqqqpUVFQiIiJ2dnYyMjLu7u5mZmaYmJgAAABN0h6tAAAAAXRSTlMAQObYZgAABKRJREFU\n",
       "WMPlWF9oHEUY/91t9vZ2b3NepIhvPUGqDwUPVIr6cFcp0jzlHoKmiOTUCtpKeoL2LeSsCaht2gPR\n",
       "Wq3kBPEPiB4U+qCVbLVYIUguIpKqaa5C8UE06UVpSmPj/Nmd3cnNXvfwQagTbjL7/fnt930z830z\n",
       "CyB9Hjdy0+cc+s/+DDd2iz9F+/RyCNue3nEK1r4nIrMf7TLMdTU9fWR1YfzBjW/bNHlYq0UHP71z\n",
       "vnm/O/6JdlY1TLSnOQTMIjJ7OjDWQpRy/jC1Ib5CJVEAFosy7ZYmjB+aKhglRGwEGB1xHz7q7Gby\n",
       "9VgGCURlp6edgA8NtdIX/vC3NZklVIaJO3c1JNqZ46RbzKlgVBB2PzGld6Wzm+n+Y28zP253JmAi\n",
       "KvtswAwMHlcv1H4RCnt0ReYJlc0EZykj0U5StS0qGCVE6lm6J0sd3dS3uxjJeyszTpuboezm5qz/\n",
       "cKBPvQJuy4hoxVoyT6g8RGLwjBOk9V6m/WMqGCXEYpka2tjoZvzDu/te1N89wKgzXqSSuef0iusH\n",
       "lZgLZ1MJZ8zfO3bdVNoxAxHUrcY1OckIlVVg1yGJlmdaX6lgVBDaFfbkLa73mbUk4Vk92zF7M/Yz\n",
       "6ksiZjkre8F9N5PIhbJJ+xLDJMR6gYuXrbLKkA/In2tSVr8ksYSKvvrHpqMy7VN38lz0AIwSwpKR\n",
       "l2i3n+S0R8w68jX+jILvBw4ld/ExkyiGsknLIt+AvsDDbEJTlosqHvAmH9rfEkuoxMie/boi0aZ4\n",
       "3vXQAzBKCPOvtsQ0+BoZOLNZjDkYZ1h7PyfN9eMbnOSiVGIpnE3okwtHSATi3JALwISqJGaQ5BZj\n",
       "aGH+T4knVHpI6ohdlmj72EZxPPQAjBIiwXK4LeivkMWwhSqMAeeAx9nCDk6XXnvYfSASBzuwyewg\n",
       "URdukow3pAq3A73iTT72SjyhchORiF2SaFO0M4oeegBGCWGyivyCmE0qmyzwg8JbiK+wAJQCfuDX\n",
       "Hv8oca0DG2RTmCXPTYMsk5SihI+S3wk2MsjvDeD3i32NvglZhZbNZEuisVJliSD6MFIT4rxi1hi6\n",
       "tzdZQdkDu4Xe+jZKmBN+kHm27nEf9sBYs8LZWpkfa7gh9GWG4oBwwrUR2MZPTb+M4GnnVlmFls3h\n",
       "gkTL0xT0sXDTh5H3oCeu0bVgORT9SS/TUje1FoxlpGrs0Gh6OTJVZrNoXwWTsOoXQ9m4j26qFc+Q\n",
       "QXcJceZs3R2wRGnSfaZRsYGcdrqKFn6UVOh2j+92JBqtPaOOhy5gBDrvfAhS2oyfQdHXpLpZRawB\n",
       "4zxbNPb4Vp5UpnazEoVj/AXa4XIo+8z6KRgDVxquIawAs1L9JrWo4g6S9PxAToiwB646eH79HSQz\n",
       "eglHJZWD65PzO3gofZhvd05SXY4uYHx01vni9vcvf0cFM+wkFHLYi7/HT3NizTvR2dwQdhzS269E\n",
       "rA/myEQxVtCWiyEqbTSO3g4TIp4o9taKnpul611qrC7YRrWry1ieRDxdiHzB6hrdvMNzM/S+6d/d\n",
       "orO1c6uZbgy5k+QN7VUnonT36LFPvPsmrvv1oPmv2P/91wN+8zf+B9+C/gFQGnpudwy9pgAAAABJ\n",
       "RU5ErkJggg==\n",
       "\" style=\"display:inline;vertical-align:middle;\" /></a> <a class=\"ProveItLink\" href=\"__pv_it/af53a879da94b4de5bb52a3defec8f3a5c1a0acf0/proof.ipynb\" style=\"text-decoration: none\">&#x22A2;&nbsp;</a><a class=\"ProveItLink\" href=\"__pv_it/a95ed467f7dd0f7a0f6da99e994349889c49451d0/expr.ipynb\"><img src=\"data:image/png;base64,iVBORw0KGgoAAAANSUhEUgAAAH4AAAARBAMAAADprwU0AAAAMFBMVEX///92dnYiIiIQEBBERERU\n",
       "VFS6urqIiIjc3NxmZmaqqqru7u6YmJgyMjLMzMwAAADiRdoGAAAAAXRSTlMAQObYZgAAAWZJREFU\n",
       "OMtjYACBtwykAXT195E5Ddj1cOBSz8DAc38DEu8mdv28E3CoZ2DYNR/JTj6nDVj1P9HGrh4IDtQn\n",
       "IDis6QVY9YeVY1fPwMC2Yf0BBG8vgwI27dwXmLCrZ2DYxvAeaCWfA4QnBYRYAOMCxgUo6hEggaF/\n",
       "AgPfTKi1Cgy92PQzMXBcQFaPFGCRM+OBdrNB9PMUMLA+wKL/OANDHIp6hPcZGJgvwPUzbWDgC8Ci\n",
       "Hxj6T1HUwwHQW0wGcP0rgfgGpnYuoIt5G5DU88x5XsleCnQpB5DP+wGu/wbUDPTU0wAxA66eJ/kA\n",
       "czQ70KVNQDGWHzD94FgA+oGB+y8DlNgPcuwTqB/g6ruLGPgTOAUYtvy/zcDl/2kCVD8rKGWwg6JH\n",
       "lQFKMIGCIwzEA6UguPpwhscMTAuQglEBGjhAgBkB4ATHhyxix1DC0I8kwqVAUhbm+AB0wRFGBH/S\n",
       "1wJS9LMFAIO6VRoA7nVeqSlGNLYAAAAASUVORK5CYII=\n",
       "\" style=\"display:inline;vertical-align:middle;\" /></a></span>"
      ],
      "text/plain": [
       "{m in Naturals, n in Naturals, A_{1} and ..A_{_a}.. and A_{m} and B and C_{1} and ..C_{_a}.. and C_{n}} |- A_{1} and ..A_{_a}.. and A_{m}"
      ]
     },
     "execution_count": 40,
     "metadata": {},
     "output_type": "execute_result"
    }
   ],
   "source": [
    "expr.deriveSome(0, assumptions=[InSet(m, Naturals), InSet(n, Naturals), expr])"
   ]
  },
  {
   "cell_type": "code",
   "execution_count": 41,
   "metadata": {},
   "outputs": [
    {
     "data": {
      "text/html": [
       "<span style=\"font-size:20px;\"><a class=\"ProveItLink\" href=\"__pv_it/e4066b638f0c92754619e0aa0ab30bcbee59c4f40/expr.ipynb\"><img src=\"data:image/png;base64,iVBORw0KGgoAAAANSUhEUgAAAcsAAAAVBAMAAADbb9ifAAAAMFBMVEX///+IiIi6urrc3NxERETM\n",
       "zMwQEBCqqqpUVFQiIiJ2dnYyMjLu7u5mZmaYmJgAAABN0h6tAAAAAXRSTlMAQObYZgAABKRJREFU\n",
       "WMPlWF9oHEUY/91t9vZ2b3NepIhvPUGqDwUPVIr6cFcp0jzlHoKmiOTUCtpKeoL2LeSsCaht2gPR\n",
       "Wq3kBPEPiB4U+qCVbLVYIUguIpKqaa5C8UE06UVpSmPj/Nmd3cnNXvfwQagTbjL7/fnt930z830z\n",
       "CyB9Hjdy0+cc+s/+DDd2iz9F+/RyCNue3nEK1r4nIrMf7TLMdTU9fWR1YfzBjW/bNHlYq0UHP71z\n",
       "vnm/O/6JdlY1TLSnOQTMIjJ7OjDWQpRy/jC1Ib5CJVEAFosy7ZYmjB+aKhglRGwEGB1xHz7q7Gby\n",
       "9VgGCURlp6edgA8NtdIX/vC3NZklVIaJO3c1JNqZ46RbzKlgVBB2PzGld6Wzm+n+Y28zP253JmAi\n",
       "KvtswAwMHlcv1H4RCnt0ReYJlc0EZykj0U5StS0qGCVE6lm6J0sd3dS3uxjJeyszTpuboezm5qz/\n",
       "cKBPvQJuy4hoxVoyT6g8RGLwjBOk9V6m/WMqGCXEYpka2tjoZvzDu/te1N89wKgzXqSSuef0iusH\n",
       "lZgLZ1MJZ8zfO3bdVNoxAxHUrcY1OckIlVVg1yGJlmdaX6lgVBDaFfbkLa73mbUk4Vk92zF7M/Yz\n",
       "6ksiZjkre8F9N5PIhbJJ+xLDJMR6gYuXrbLKkA/In2tSVr8ksYSKvvrHpqMy7VN38lz0AIwSwpKR\n",
       "l2i3n+S0R8w68jX+jILvBw4ld/ExkyiGsknLIt+AvsDDbEJTlosqHvAmH9rfEkuoxMie/boi0aZ4\n",
       "3vXQAzBKCPOvtsQ0+BoZOLNZjDkYZ1h7PyfN9eMbnOSiVGIpnE3okwtHSATi3JALwISqJGaQ5BZj\n",
       "aGH+T4knVHpI6ohdlmj72EZxPPQAjBIiwXK4LeivkMWwhSqMAeeAx9nCDk6XXnvYfSASBzuwyewg\n",
       "URdukow3pAq3A73iTT72SjyhchORiF2SaFO0M4oeegBGCWGyivyCmE0qmyzwg8JbiK+wAJQCfuDX\n",
       "Hv8oca0DG2RTmCXPTYMsk5SihI+S3wk2MsjvDeD3i32NvglZhZbNZEuisVJliSD6MFIT4rxi1hi6\n",
       "tzdZQdkDu4Xe+jZKmBN+kHm27nEf9sBYs8LZWpkfa7gh9GWG4oBwwrUR2MZPTb+M4GnnVlmFls3h\n",
       "gkTL0xT0sXDTh5H3oCeu0bVgORT9SS/TUje1FoxlpGrs0Gh6OTJVZrNoXwWTsOoXQ9m4j26qFc+Q\n",
       "QXcJceZs3R2wRGnSfaZRsYGcdrqKFn6UVOh2j+92JBqtPaOOhy5gBDrvfAhS2oyfQdHXpLpZRawB\n",
       "4zxbNPb4Vp5UpnazEoVj/AXa4XIo+8z6KRgDVxquIawAs1L9JrWo4g6S9PxAToiwB646eH79HSQz\n",
       "eglHJZWD65PzO3gofZhvd05SXY4uYHx01vni9vcvf0cFM+wkFHLYi7/HT3NizTvR2dwQdhzS269E\n",
       "rA/myEQxVtCWiyEqbTSO3g4TIp4o9taKnpul611qrC7YRrWry1ieRDxdiHzB6hrdvMNzM/S+6d/d\n",
       "orO1c6uZbgy5k+QN7VUnonT36LFPvPsmrvv1oPmv2P/91wN+8zf+B9+C/gFQGnpudwy9pgAAAABJ\n",
       "RU5ErkJggg==\n",
       "\" style=\"display:inline;vertical-align:middle;\" /></a> <a class=\"ProveItLink\" href=\"__pv_it/e91c93eddf3c4413fd0ee6a435b86ab52b8455670/proof.ipynb\" style=\"text-decoration: none\">&#x22A2;&nbsp;</a><a class=\"ProveItLink\" href=\"__pv_it/80adbfcf7c9af6d0eca78a0517039adbe7e1d3210/expr.ipynb\"><img src=\"data:image/png;base64,iVBORw0KGgoAAAANSUhEUgAAAHcAAAARBAMAAAAVui7+AAAAMFBMVEX////MzMy6uroyMjIiIiKq\n",
       "qqoQEBB2dnbc3NyYmJhmZmZUVFRERESIiIju7u4AAACOKgoaAAAAAXRSTlMAQObYZgAAAZFJREFU\n",
       "OMuVkj1Iw0AUx/9tkya2NGTWDl10EaGTFKfsQq1rFx3tol0cXLTg4NjqKAgi4qBiazfr4uDWJZOT\n",
       "hYCLiEVFBUUU791HWuwN9kLe173f3bt3B8C5bV3YZfx7dNsntS3l3NRgHtXCuYoesZWRKgHFknQe\n",
       "80zUe8iMHo7tC+1cB0DiQ0anmYOJMClCk5qRzstFlpmILgon8U5yNExKTvlauNkRul6gHWQZVY/k\n",
       "fZh0B0/HOllDHP2Ne/KUG3KjyJXQq+zTDKtgFbj+7o/OuYI9lht62NTBBuws1y/90RXenwBRAY/4\n",
       "SLoaeA84Jx3/4WWrnUmYroKNAJGGBma9HuPzzyTnZZTfsAUFF9mfG2RN1t4YZYobLmN3u8NCVWrY\n",
       "egjn5AJ/n0hFLACbGmYF2ClhiYU+WXagYN5zg9rwxPrjvEoDaVk6sMAe8xnsrgc6/UO7lYGCk2Sm\n",
       "qBiDTj6rjCZN8mfinF4eUKKvXhlCOMrtwXZneFl9gbibKPfSTA/DjCqM8RC2D7/8YeBJpNbwC8D8\n",
       "WiKEwt8HAAAAAElFTkSuQmCC\n",
       "\" style=\"display:inline;vertical-align:middle;\" /></a></span>"
      ],
      "text/plain": [
       "{m in Naturals, n in Naturals, A_{1} and ..A_{_a}.. and A_{m} and B and C_{1} and ..C_{_a}.. and C_{n}} |- C_{1} and ..C_{_a}.. and C_{n}"
      ]
     },
     "execution_count": 41,
     "metadata": {},
     "output_type": "execute_result"
    }
   ],
   "source": [
    "expr.deriveSome(2, assumptions=[InSet(m, Naturals), InSet(n, Naturals), expr])"
   ]
  },
  {
   "cell_type": "code",
   "execution_count": 42,
   "metadata": {},
   "outputs": [
    {
     "data": {
      "text/html": [
       "<span style=\"font-size:20px;\"> <a class=\"ProveItLink\" href=\"_proofs_/anyFromAnd.ipynb\" style=\"text-decoration: none\">&#x22A2;&nbsp;</a><a class=\"ProveItLink\" href=\"__pv_it/943a6df70d9c4630056092caead28b1962e78e250/expr.ipynb\"><img src=\"data:image/png;base64,iVBORw0KGgoAAAANSUhEUgAAAegAAAAZBAMAAAAIx6A3AAAAMFBMVEX///8QEBCIiIhmZma6urrM\n",
       "zMxUVFQiIiJERETc3Nzu7u6qqqp2dnaYmJgyMjIAAAAcRTyBAAAAAXRSTlMAQObYZgAABBJJREFU\n",
       "WMPtmFtoHFUYx/+d2dnZuWX3xWKtwqJgU6FNINhKjbhFvICIkzxYRMGlMRgK4kKhkdJC+tJOq5A8\n",
       "xeBDE+2Dumgd8CnQh0HBy9aUobYSesGgvuiLpbE1jQY935m9zOzZ1YzOCosu7Mz5vv32P+c35ztX\n",
       "IPbnpfEpdPEnNX7ob/yrhC7/TP8P/Z+BXqLb1XjQPXSz/G6D/fr3kR1OgaDPkvljPGjTZbeeua5r\n",
       "4tsB+QZBzzBDm4gHzeNnuo5ZWWNj9zJBU4PxlovTpykzznYdtHSLdcrrBG1VyuU34g5kV8rl97pv\n",
       "PMvkgLcO8tF7xXEOxYXOOs4xr+ugs0UoB+Y49ChwPC502kaGL8syrRdnEcEnlj8ZC8IWR7ytYrB1\n",
       "dFCqy6TqzZK0MvDCy+ePucE8/Qj0pWjsnsGCtLG9h0Gn+nGal78ptKqZ9XPEysHMUeFkHu/mhGDt\n",
       "W+hHGilYKySuDPRNQd8YQKuQQjOufmbANyYq2NXeU+Lfbfy3h1tO1qfWwpZchLFKdWAVtsR5YpbR\n",
       "LQrQySsD9AL6XA5t+mroh8X5MozzMrz2HoJeCNZl5jv9rapW2R+21DxkyiWVKSh5IZgGlGEBOnll\n",
       "4CZB5zm0tvQMe08PDd8j3WtT3gLGc8/mCfGri3f3Rz116JNKkYrDmVYzvJJ3wuaHNrbTQqaPXXRh\n",
       "RSNRU5UF6OSV+TSNVwrB2vv4iwx6t79hn1QMFpiGXblIiBfuwqaopw6dmeZdrigzY1/z09LYGTaf\n",
       "3tbL39CrgdkUrkbhatDJK/NpWlmpbjg+YvJvbkG2IHs4FSCaJmtf7e0SViOeBrTBH2650jU8f0dz\n",
       "1S6jL2yeA7bQ/TduNYdnvVbQHVBGDxvqdp+oQmepN+zFEFQXexzHyRu25hNZOp/KRT2NXdZ1upwe\n",
       "/Jyl0MGmmunffTkZzrXX2ZDiVrvYB0I49Ufdb4bugHL6p5sDY6/VtpYW6dyGXswqLH94u+JRehEb\n",
       "bNmzI54G9CW67IJ2Q6yaPIdZ23rw6v1nbG7/yvKQZssH2NcTwmWWhCZYuBeG7oCyuJ/WrrG2XjRh\n",
       "kppVgOVpJzAL9Um74RH20yn2Gtf4s2bmWHj1gqdY8vjGdmw2PDCPtgrtTiqoPt6fEsMPQ/8CRm9V\n",
       "NtMxZRE6VcQPmK4A1P6Pf88GEmUzHoO0EPII0JMTmPnFp2cNucomDE3Rxc2sQJs8jFG9JBfAVD5b\n",
       "HhjjBXw6eB/QHA5z5GOWaqPKRAi6E8p/cnIisR4clAzB0+bkhLKqsU2rlUpGv2o0VBqFNuHSheiK\n",
       "LHHldR0Xza/zuGh42YVRX+HWSnpRKqS3hlTm/yLcWBCgk1VeF7Qf44zMalFqUvHXFR5t6USV/9nB\n",
       "4Hgnz73lf+Hc+8AfnSCYnxcpscIAAAAASUVORK5CYII=\n",
       "\" style=\"display:inline;vertical-align:middle;\" /></a></span>"
      ],
      "text/plain": [
       "|- forall_{m in Naturals, n in Naturals} [forall_{A_{1}, ..A_{_a}.., A_{m}, B, C_{1}, ..C_{_a}.., C_{n} | A_{1}, ..A_{_a}.., A_{m}, B, C_{1}, ..C_{_a}.., C_{n}} B]"
      ]
     },
     "execution_count": 42,
     "metadata": {},
     "output_type": "execute_result"
    }
   ],
   "source": [
    "from  proveit.logic.boolean.conjunction._theorems_ import anyFromAnd\n",
    "anyFromAnd"
   ]
  },
  {
   "cell_type": "code",
   "execution_count": null,
   "metadata": {},
   "outputs": [],
   "source": []
  },
  {
   "cell_type": "code",
   "execution_count": 43,
   "metadata": {},
   "outputs": [
    {
     "data": {
      "text/html": [
       "<span style=\"font-size:20px;\"><a class=\"ProveItLink\" href=\"__pv_it/61f63727befb1f670cf2bf33f51fdea65c0cb1030/expr.ipynb\"><img src=\"data:image/png;base64,iVBORw0KGgoAAAANSUhEUgAAAFUAAAAVBAMAAADFg78FAAAAMFBMVEX///+IiIi6urrc3NxERETM\n",
       "zMwQEBCqqqpUVFQiIiJ2dnYyMjLu7u5mZmaYmJgAAABN0h6tAAAAAXRSTlMAQObYZgAAAY5JREFU\n",
       "KM9jYGDgu8dAELBePACieHYxEAGYUkEk3weo1g0w8Rf/e2+4KMB4Bz1uPLBiYLgNYnNNgIhxf4Ab\n",
       "ksLAwPsVymbMY2CoBeKVyGpf/4E77h/Qzr8QNo8n0KG8n1HV8tR+hqllBLL4PkJtywE5NgFVLR/j\n",
       "J5haFqDUsTkQ9v0CkEUXUNXqsP+DqeVvYGCdAQ4jBuafYDsNGBiWgRgcYP/zKLB+hKmN73voWQBh\n",
       "csEF34OIsgBw+DEw/4UJyxsw8GRAmJyw4GDgBrojZDKYGXH3xheYsBtIPcRgNnDg8ICITgEGBjWw\n",
       "ucCgz4ap/QFSKwAxFxzopSBzG0DudQAS7EA8DSl4Gfoh8cYLDsgFMPeCw8EciPcjBS8r1EHMIL9x\n",
       "gcJkGUwtM0i9vwHDeVCYcAODV82HAcKpf8DAfgekDBa+PP6/DzCU/J/LwAmMAY79P+62uIPcCooO\n",
       "nisdlxiQ1SJADQMuDkRtApLIAgZcnJXI6RcckAIMODiQ9MuAlC/4kGVROExJYIqd2PwGAMAkacuQ\n",
       "T/XdAAAAAElFTkSuQmCC\n",
       "\" style=\"display:inline;vertical-align:middle;\" /></a> <a class=\"ProveItLink\" href=\"__pv_it/6101243cf79207b067a34221987b5d924eba69890/proof.ipynb\" style=\"text-decoration: none\">&#x22A2;&nbsp;</a><a class=\"ProveItLink\" href=\"__pv_it/6cb34ce46990545589c4d14cf16b0040803dabef0/expr.ipynb\"><img src=\"data:image/png;base64,iVBORw0KGgoAAAANSUhEUgAAAF8AAAAPBAMAAABw7A4xAAAAMFBMVEX///92dnYiIiIQEBBERERU\n",
       "VFS6urqIiIjc3NxmZmaqqqru7u6YmJgyMjLMzMwAAADiRdoGAAAAAXRSTlMAQObYZgAAAVdJREFU\n",
       "KM9jYACBtwyogCf+68wQNzRB7pLIGA4BCPs+VKwBJsnswMAw/wGqWPEBBq7JByAG3t8AEbsJk3wP\n",
       "lMifgCK2RRtIzIdo3wWl+ZygGhnqgQLnC1DELoPoZAj7QH0CmGZNL4BqcAY62WgDshjnLxD5Esxm\n",
       "27Ae4rS9DApQDV8ZGB5Fo4j1g6kdYPY2hvcQU6SAEOK2r2dKtBhQxOQLEOGVwNAP8Z8CQy9EhP0H\n",
       "A8PmABQx/Qdw9XyRM+MdwIFVwMAKEWYxAGr6hSJmD/YRmGADBvsFEINpAwMfxFh+IMX+HUVMH0Rw\n",
       "gfUuAAobgBgrgfgGPBpYv6GIgUOeEcTiAGrg/cAAlVgJj4b3Dihi/SBPS4NYTSA3/wD5xQHiBFAk\n",
       "AR1qsgFFjOsPUCeIseX/bQYu/0/AYGIFxR47yKDY/5FTXRaAow0uxrDTNTIBNTWygckHBMQAif1k\n",
       "34m7olkAAAAASUVORK5CYII=\n",
       "\" style=\"display:inline;vertical-align:middle;\" /></a></span>"
      ],
      "text/plain": [
       "{A, B, C} |- A and B and C"
      ]
     },
     "execution_count": 43,
     "metadata": {},
     "output_type": "execute_result"
    }
   ],
   "source": [
    "And(A,B,C).prove([A,C,B])"
   ]
  },
  {
   "cell_type": "code",
   "execution_count": 44,
   "metadata": {},
   "outputs": [
    {
     "data": {
      "text/html": [
       "<span style=\"font-size:20px;\"><a class=\"ProveItLink\" href=\"__pv_it/de65b3d2e43eafe1dede1025a9b8e4bdd4938b740/expr.ipynb\"><img src=\"data:image/png;base64,iVBORw0KGgoAAAANSUhEUgAAARAAAAAVBAMAAAB8nqwhAAAAMFBMVEX///+IiIi6urrc3NxERETM\n",
       "zMwQEBCqqqpUVFQiIiJ2dnYyMjLu7u5mZmaYmJgAAABN0h6tAAAAAXRSTlMAQObYZgAAA0JJREFU\n",
       "SMfNVk1IVFEUPs74mr834wTSKtA2gitnW0HOImyMylm4EEJ0UdAibAhqlShmUgvTaBMhOLuWDgQR\n",
       "mcyzxIIQhgwZInWMFm0Kf0vNtHPOvW/mnWfQJhjfMNc73z3fud8759zjBYDIApT5aT9Ko/kCyv7U\n",
       "JXGILOtfF12rX/cG86drXeBkIl844bZL9CdiEqveO5+/92s/1rQiMbN6cMGbhnAG58FhDWb136LP\n",
       "SwDhDYlVdAF0d/HUW/SGG0Z+urgk4stfsAuSe6QAnrmC0mALiWQtNZnQRsYugOe3wMxmtAmv8TyU\n",
       "s+3oLeck10PYjMvfNg6fBXdqBIfFmBTyZlFJN5q1oArcMLIisNBV2qST560jdpQoag0FwQ0SNuny\n",
       "t4rDDcF9Rkv1IIUUalQ9+I9FFVCJG06PCGwxRZ7V6/Qd1kIqqcga04IbWoagTkAJ20HklpMb5oS2\n",
       "SyEeq4dfCt6BVlbVC8Yjy4l5tzg/HDkzE9BCquIUkV7JjcN3vVzChuGUzrDmNvLKa9RAQfZnGHwF\n",
       "HUr5E/zw03F/qTkFTizoqPlgKqgXmVeTFtyGiYE1AOmvIQe3JXdMx0qd3JtJntdCowr5MJxUqzUx\n",
       "MK+AEwtslIQEwJvRduRgqFZwx5KgVx3YxECn5I4mbW9Y0K0PVUkNzg/FWVwU/Gq9iTZJObFDOxxY\n",
       "Xl0CuKOctNDwQ3KxFaQh6cIssxcE9xp+v42fpbQ80F0NPLgNqwxYYCj7TRISdWIB7n2q8LGK25Tb\n",
       "ddpuV3IRs8yoxLbA1Mm0uaMcKIrlcxLDgUCTAAeuG79P7TaiI25jqoNwNfgwj6FYsY1MxwWX20jQ\n",
       "kti2nYcilxtG1q4RPjXeFB85Teq224ixDk7MW/JPjnw5u42Y48JOtZE2F7ZqCyly6cwb1G/51LCQ\n",
       "49QP6H2NuAonmuNi3TkQGJ5w3yfVknSIlf76nLSjHHou78dAcn34Ym2PwdFHpvZegq9lC935KRcV\n",
       "mF1/dnO+/4xqSTYG5oe775WzPhqoLaFdvn9W2r0l7mhGYDPZzVlwcWEm8bFwHVydVf+T4DEJ/8K4\n",
       "dgyA/8NVQjrLfx9hIcX7SBkfvo/AQbihcbZ8B+LO+ge43g5z98TGygAAAABJRU5ErkJggg==\n",
       "\" style=\"display:inline;vertical-align:middle;\" /></a> <a class=\"ProveItLink\" href=\"__pv_it/ff7428de85cc7c1e2dd11d401dd1354ece9203dc0/proof.ipynb\" style=\"text-decoration: none\">&#x22A2;&nbsp;</a><a class=\"ProveItLink\" href=\"__pv_it/6417e32913e0f3f7d3fb8a2fc95fe80427bb9cf50/expr.ipynb\"><img src=\"data:image/png;base64,iVBORw0KGgoAAAANSUhEUgAAAQ0AAAAUBAMAAABlknXcAAAAMFBMVEX///92dnYiIiIQEBBERERU\n",
       "VFS6urqIiIjc3NxmZmaqqqru7u6YmJgyMjLMzMwAAADiRdoGAAAAAXRSTlMAQObYZgAAA2tJREFU\n",
       "SMe9Vk1oU0EQ/l5M0iTv5ZlbUQ+NBy/toT2oFwutqQH/oAXbYkFtaQ8eE7AgnhI9K43USIuCOYlF\n",
       "0GCLtYKQi1ZvAS8WKcnBHjxIf+yPtk3r7O57L5mAbUHphkz2fTvz7ezM7LwAex2+3I7Lz/Afxo+q\n",
       "5/fbPekzfRybEGIyms7drtaNdkaT8CSrOGral0e7GvMMG9w+l25b43r6YM9jX0jNCxbmcB0H/Fsc\n",
       "+yK4m4GxZhUeh6gEGOvQ89UcBwkxWjlGurjI7W/k4B1WsTYKWYXNWGvmJuD9zTAjRa5HSM//Sz4H\n",
       "U7auON8wUAvOgVicLFKcd5HEB2Y/0UDiiXL0rfVrRix/amgvY41hLlIJnqKJt0k+f2uw4y/iFsth\n",
       "HJwDdUXyI855V0m8YPafxVK/mucSqhY81+MKcNNe4w0MuyPczghSdZDum9Z27gUSQyEEqzhEskMq\n",
       "Iw4W3KB8PK+0968L+V3OvdmXKj/vELZS2wHzWJZhtyilS7KuJLWed9llIEog1gEtxTmwDMO6YmXe\n",
       "MO5a1WnZD8mVN3L+GvPK38P0kWP+ynQkA4ZRdWkVla5lNEtB2iZCMPKcw1tKtyQ5B2IpXOb2dfEy\n",
       "Zx+G1FnCuKeQRBL6CTCsnkpkq2zjgs+6IAkqA/T2IRDmHNoWguAcqJu51MTtG4sOpdkz2iuvlxGH\n",
       "R8Ftgj/DsJPAgQ0ZUakxDVxT5u1C/CSaBc4RXIAGk2OFrN4BZt9C30+zp2UAaQfpmysLU6mtCD/i\n",
       "DCM/XHInVe5UxHN2GdBOm7YfZQ6qGx2THFuCbmXTtm+UYZIlTisuGa0xq1vJ9iFCXYnV251Dtr4A\n",
       "JTKYdNrHOMXTG2b6sn3gCMO8i3YOHHvZMWQb9WVkDC3dMbt9mMtgGNWpT2ypyWskOAIpu33osyIm\n",
       "eaYv24cKg4Npq7Yfjj1deJgluzG4xUnNVhVD0qLwDFwAww7Rl6534JHqQlZs1RH6BaM/xPRlxAeK\n",
       "DFOJZfYBOtvcUdFXt78i0L5ETB6RiBqKpqewMtp5XnUlG5MtT3/Q9VDxdAshOhHppjtHpEPFSn39\n",
       "Kr0qIyXGMVVYGUGVPaai93NP2YvPK2XxL5iLvU9l7ZhM9dXuHDva73EYqV0UarE/4+zOy3p+n/yY\n",
       "2HnZndwnP3b5X/jx39j/AMlCC4Yl/WY/AAAAAElFTkSuQmCC\n",
       "\" style=\"display:inline;vertical-align:middle;\" /></a></span>"
      ],
      "text/plain": [
       "{A and B and C and D and E and F and G} |- A and B and (C and D) and E and F and G"
      ]
     },
     "execution_count": 44,
     "metadata": {},
     "output_type": "execute_result"
    }
   ],
   "source": [
    "And(A,B,C,D,E,F,G).associate(2,length=2,assumptions=[And(A,B,And(C,D),E,F,G),And(A,B,C,D,E,F,G),inBool(A), inBool(B),inBool(C),inBool(D),inBool(E),inBool(F),inBool(G)])"
   ]
  },
  {
   "cell_type": "code",
   "execution_count": 45,
   "metadata": {},
   "outputs": [
    {
     "data": {
      "text/html": [
       "<span style=\"font-size:20px;\"><a class=\"ProveItLink\" href=\"__pv_it/d05fa55458b446ef3656d479bbc02406d46130910/expr.ipynb\"><img src=\"data:image/png;base64,iVBORw0KGgoAAAANSUhEUgAAAMEAAAAVBAMAAAANw5eWAAAAMFBMVEX///+IiIi6urrc3NxERETM\n",
       "zMwQEBCqqqpUVFQiIiJ2dnYyMjLu7u5mZmaYmJgAAABN0h6tAAAAAXRSTlMAQObYZgAAAnBJREFU\n",
       "SMe1lU1oE0EUx1+yXTfZTLcVvCenngRzEzx5KGqhJTnkkJtBKghK2YN6K5b6QYq0FQTpoWJPgif3\n",
       "LEi3FxFEiOIhoNUUPAiCNTWF2mrje2920n17lR3IbPY3/7dv5s17MwDgfYaUmv0upId6Aam17GXq\n",
       "vZ+RwyAx/K2/2B4vJeDGhXbnjCDecq85fjshO9Gfai8cAHykF/eBhoXIkzWQTQMM70qWmQGYnZFs\n",
       "BKe27Sds8evwFeBZ3MP3P5GnloniIS7zr2BqAgM7/EvqLo4ia0iW7WL3VnpQs9oQaqtmvgi8rmCF\n",
       "a2TdkLpiFdmhZC6tfUN68DI7enD+eKQawi+9WhXsCwXDbkldhcKzLxmG3KWYxT2cdPQ0VJA38Z0D\n",
       "eyWMM+s3v5Wlrkfr2kvYnoUf9HxKXY5zSJVsHRDXd/0ovktbE75gbvcoWwY6tsvsS9tTL+9x0Lep\n",
       "u1nlrQFLb2oerChti2VQVwTL7x55GOgyBHM70vZ5FQKz9bWHjOqb7R7/2QK4q1XnyIsfZ8c43ZTU\n",
       "DVGWjzSk7TrAGtDUFzDRxngNWFlXeQy3tq5VFNriaJzluWRuSB2GHKPRkbY421ChbWGOFkgKB3+P\n",
       "aMjBZRXKphxguRRnuhLWpI7KQU1LxuXghtE+cC6d1ivTCqdlysHuCWYZw7iOyuFNIBmXQ93kEnmw\n",
       "yEuF3Nei1aIeQzs2CYLd6oDzCSTDiWUfJxiFk089Uw+qchDC9T7p5glR3eTW9zbvnNd1ZBioD833\n",
       "INn9/mJzqizZa7J9EkDiXNKNz1JbHpT/wbSHRnr3g/Zg7odUGt8PkOYdd4kfTrr39D8iDMSlboqI\n",
       "gwAAAABJRU5ErkJggg==\n",
       "\" style=\"display:inline;vertical-align:middle;\" /></a> <a class=\"ProveItLink\" href=\"__pv_it/af35b138c62e9bf93dc8df184758a690049b44100/proof.ipynb\" style=\"text-decoration: none\">&#x22A2;&nbsp;</a><a class=\"ProveItLink\" href=\"__pv_it/2d05824034aa4b1b297945a15ea8f93ae7e785d90/expr.ipynb\"><img src=\"data:image/png;base64,iVBORw0KGgoAAAANSUhEUgAAAK8AAAAPBAMAAABgoIKoAAAAMFBMVEX///92dnYiIiIQEBBERERU\n",
       "VFS6urqIiIjc3NxmZmaqqqru7u6YmJgyMjLMzMwAAADiRdoGAAAAAXRSTlMAQObYZgAAAgpJREFU\n",
       "OMutlD9oE3EUx7+xvVybSy+Z7WDnOqSIe49qXNMhDqFKQjs4JmD3FHdJoQTM1KyZetDiPxCyuAkK\n",
       "XSoiCd0cJEUbW4ppfL/3uzN+M3vh3rv7/N7vvd/v+3sXwFzfMXV526VHc1lC78f5Yn6Hw9LlYav4\n",
       "gJlbOG89zH2yL70I/p33tIvUXpfZSBJdTcXNBMB+n1lGkqYDW7gXWvY5Gju6LWZ/h5h/IWaP4zCQ\n",
       "4tVdZtWa7Niyt1EOfy0qcGz8FjP32kzqEkNdJn6sMbslO/CUoVuvqHee2Pd53fE3Ypg9E9PIEsM9\n",
       "yXEnZCa6Zq0wyfDAyvkOS+ob6l4TQ8bIVl0nhiFwusFxOEfapsNLDGy1m/LTzdQmhxwzG1PPEvOH\n",
       "H7aXp+KSo+ZqdJAVNKzWS3iuPtefJI4Z6gaWK8TcS+BwneMS11iIypZaZe2OdA2OplxV1UJiKBjz\n",
       "k9nsiiS/YrZwhgR8Xbu0o/bzjRC+ls8Zk+oTE+lk+m9mGXHuxRQL4OGVeWoLXjEPHblPEHdwAsS0\n",
       "jQ8DYtrGzi9mpo2xKPdcW5cfDXS0K+Kxf5hpY+8rM23jQcDMtLEu/pnR6tKsKbBbEhVkxx2VeMJM\n",
       "7c1dZjgWIe+GzIyOW5L8aPwFqcIPmeKYE3e1097kS9EnEzOnN2wWXzDD43Gpeb9NzDNsbUR/S0m1\n",
       "/f/E/gCrbLKbBlHuKAAAAABJRU5ErkJggg==\n",
       "\" style=\"display:inline;vertical-align:middle;\" /></a></span>"
      ],
      "text/plain": [
       "{A and B and C and D and E} |- A and C and D and B and E"
      ]
     },
     "execution_count": 45,
     "metadata": {},
     "output_type": "execute_result"
    }
   ],
   "source": [
    "And(A,B,C,D,E).commute(1,3,[And(A,B,C,D,E), *inBool(A,B,C,D,E)])"
   ]
  },
  {
   "cell_type": "code",
   "execution_count": 46,
   "metadata": {},
   "outputs": [
    {
     "data": {
      "text/html": [
       "<span style=\"font-size:20px;\"><a class=\"ProveItLink\" href=\"__pv_it/d05fa55458b446ef3656d479bbc02406d46130910/expr.ipynb\"><img src=\"data:image/png;base64,iVBORw0KGgoAAAANSUhEUgAAAMEAAAAVBAMAAAANw5eWAAAAMFBMVEX///+IiIi6urrc3NxERETM\n",
       "zMwQEBCqqqpUVFQiIiJ2dnYyMjLu7u5mZmaYmJgAAABN0h6tAAAAAXRSTlMAQObYZgAAAnBJREFU\n",
       "SMe1lU1oE0EUx1+yXTfZTLcVvCenngRzEzx5KGqhJTnkkJtBKghK2YN6K5b6QYq0FQTpoWJPgif3\n",
       "LEi3FxFEiOIhoNUUPAiCNTWF2mrje2920n17lR3IbPY3/7dv5s17MwDgfYaUmv0upId6Aam17GXq\n",
       "vZ+RwyAx/K2/2B4vJeDGhXbnjCDecq85fjshO9Gfai8cAHykF/eBhoXIkzWQTQMM70qWmQGYnZFs\n",
       "BKe27Sds8evwFeBZ3MP3P5GnloniIS7zr2BqAgM7/EvqLo4ia0iW7WL3VnpQs9oQaqtmvgi8rmCF\n",
       "a2TdkLpiFdmhZC6tfUN68DI7enD+eKQawi+9WhXsCwXDbkldhcKzLxmG3KWYxT2cdPQ0VJA38Z0D\n",
       "eyWMM+s3v5Wlrkfr2kvYnoUf9HxKXY5zSJVsHRDXd/0ovktbE75gbvcoWwY6tsvsS9tTL+9x0Lep\n",
       "u1nlrQFLb2oerChti2VQVwTL7x55GOgyBHM70vZ5FQKz9bWHjOqb7R7/2QK4q1XnyIsfZ8c43ZTU\n",
       "DVGWjzSk7TrAGtDUFzDRxngNWFlXeQy3tq5VFNriaJzluWRuSB2GHKPRkbY421ChbWGOFkgKB3+P\n",
       "aMjBZRXKphxguRRnuhLWpI7KQU1LxuXghtE+cC6d1ivTCqdlysHuCWYZw7iOyuFNIBmXQ93kEnmw\n",
       "yEuF3Nei1aIeQzs2CYLd6oDzCSTDiWUfJxiFk089Uw+qchDC9T7p5glR3eTW9zbvnNd1ZBioD833\n",
       "INn9/mJzqizZa7J9EkDiXNKNz1JbHpT/wbSHRnr3g/Zg7odUGt8PkOYdd4kfTrr39D8iDMSlboqI\n",
       "gwAAAABJRU5ErkJggg==\n",
       "\" style=\"display:inline;vertical-align:middle;\" /></a> <a class=\"ProveItLink\" href=\"__pv_it/a2d59d5c2343e838bea23f7a92710fe477226bc00/proof.ipynb\" style=\"text-decoration: none\">&#x22A2;&nbsp;</a><a class=\"ProveItLink\" href=\"__pv_it/6315974dc84b3da8dca04b2f414e36a3f7a0319a0/expr.ipynb\"><img src=\"data:image/png;base64,iVBORw0KGgoAAAANSUhEUgAAAK8AAAAPBAMAAABgoIKoAAAAMFBMVEX///8iIiLu7u52dna6uroQ\n",
       "EBBmZmaIiIjMzMyqqqoyMjLc3NxERERUVFSYmJgAAAAdjRNVAAAAAXRSTlMAQObYZgAAAkVJREFU\n",
       "OMuFlD9oE1Ecx7/JheYuaa4loJvkliqoQ3FzahSCY5xFaZdmkeAt4iIkk1NLM2Vy6FIHOzSrLmkE\n",
       "B8GQDBJEYu1WEAoiamtMG39/7i734mDCvXt87vf93fv93vcdgONJd9htYfZnb8+A48mg+r5osuTT\n",
       "wUF22UDp3rjyuSDiEeD+VhrLn/mm92xE7gNzpyZ7fAhn/dCULlBSd5+XdkLDusIX08RfvwcvWAtL\n",
       "OAdSvwx2PU/Do5YpLftUCQekeRVlea3d8aIim390spEPayTgnhhsh8NLMKUrdVJTcsxzzW1pVO6O\n",
       "HyZ20z908uFJQObvAkv5OJuTBj6DKd0DlqUxC9yPcp/ZVSyGiW8757ry7UTYuz7sS16ctSX6Gkzp\n",
       "GK52fYtfVZMV36R/0ImirVVbDauhaOvgqNMw2Io/3ZJImhpVV7XrNeoJvoiPFvE6iEshq/uUQDbw\n",
       "Xa2F5AODFerTxJHUOkVGZz0efkpffeSC2M1KdSyTI+CjorecvBFnq9IYz5SSTS3Y2hPi0tCEB7uv\n",
       "WaiAezKh3dpUdMaJ/Tgr8ODUTSltWRJXQhsv8QaiSdeuPHXouiATMmSmFdpYOxYxcbAFU8o2xo3A\n",
       "xsmXwnaDCOCV2kYTOGuhje2xwdphjriUbSyL56N7S6T2vtZER5at0+P1bASlUxzZuPQGccaObHqm\n",
       "VPpTouS5vbPq8KF6nOtM84HsjTw8n1zko8AP+DhQXGX4To9HyHC5OyjOSD/Rp6ozMj9VKRnrBhOd\n",
       "jf+xf6V/AWJIqQCYVF1lAAAAAElFTkSuQmCC\n",
       "\" style=\"display:inline;vertical-align:middle;\" /></a></span>"
      ],
      "text/plain": [
       "{A and B and C and D and E} |- D and A and B and C and E"
      ]
     },
     "execution_count": 46,
     "metadata": {},
     "output_type": "execute_result"
    }
   ],
   "source": [
    "And(A,B,C,D,E).groupCommute(0,1,length=3, assumptions=[And(A,B,C,D,E), *inBool(A,B,C,D,E)])"
   ]
  },
  {
   "cell_type": "code",
   "execution_count": 47,
   "metadata": {},
   "outputs": [
    {
     "data": {
      "text/html": [
       "<strong id=\"expr\">expr:</strong> <a class=\"ProveItLink\" href=\"__pv_it/0a9d0f21d88d5017bcdfdb4ecfef7304c18df2e00/expr.ipynb\"><img src=\"data:image/png;base64,iVBORw0KGgoAAAANSUhEUgAAAL0AAAAUBAMAAAAq6iElAAAAMFBMVEX///92dnYiIiIQEBBERERU\n",
       "VFS6urqIiIjc3NxmZmaqqqru7u6YmJgyMjLMzMwAAADiRdoGAAAAAXRSTlMAQObYZgAAAqZJREFU\n",
       "OMuVlU1oE1EQxydpNkmzSbq3gh66x6KHFPHepRrxliDxEFQS7EE8ZcHeU7xqyUIJGC/N0ZxcTPEL\n",
       "hFwEC4KBXioiCd4EJUUbW4ppnJm322ZEpLtlJ29/+97/zde+Apz6eghBryf+4PtfL5KlYaNwRTLd\n",
       "IrNSvBk3BH87zhayq3JuLLfXuJ7paj7ukUnzsM92CsU2+oKlaPK9DiTWOwyPJUfozyFINtNFaOld\n",
       "z92ei1YjmaTNZIAaFUewLbw3z6PZUCofPan0Ppp1EAwquER3YFY9veYl6TyasMukiuCDLdg83ts0\n",
       "WlayS66XiyPS6wgGc+iXbkNbPXWqZfrZwfuuIpfw9QV3ksVNgGlOw1eeod1RkUJkF03NEIwSbmC2\n",
       "UqwbdZ/y9i28r6r3Q4AvNwSLYbZqJo1e8ow3YHqpprpX8oLBHiRJMuTQw3MY8L5hjNBSwQ/fr5wD\n",
       "wSI4f84+aZEz+KdKRbBqCBYd1Rcp5UkucBlqvE/MBq2scnoA0M4LFm4CZPon+iasqUGVYKksWOgI\n",
       "UvSboHjSxUaJXdRNjFDldAGVDwWbQoVFLh8b7ClN7ZYj81Oy1C6EqLfTVJsoLlaN+tiPbwZ9j+0L\n",
       "RvoZ9oklsKe4tyjVqPxbMqyJDi88fQw8vMB4za8Ptb/2SzDKD7dxCPy67xy3f9sSjNsfzqLruDbe\n",
       "5Hg4Ld+8AlL7DyzBqL41b5mn0/LbX/8sGbc/hUL1vU+LD1TbXPO+j23c+qIrGLVaAtPQ4kfuKf7u\n",
       "yLXbjmScyGXcY9qAzfEnSOR+OJPf961xsX65CeKbp1DhVbaoGox7CnsLtN6wXngkmU7rl0a0eV+e\n",
       "ew/+ccj6bH4SRifOwv+wZwEO8y0Ifs0GmBtZDSzvn8+nm2wF1g/mUvD/j+8A/gDseMdy9ZC/swAA\n",
       "AABJRU5ErkJggg==\n",
       "\" style=\"display:inline;vertical-align:middle;\" /></a><br>"
      ],
      "text/plain": [
       "expr: A or B or (C and D and E)"
      ]
     },
     "execution_count": 47,
     "metadata": {},
     "output_type": "execute_result"
    }
   ],
   "source": [
    "expr = Or(A, B, And(C, D, E))"
   ]
  },
  {
   "cell_type": "code",
   "execution_count": 48,
   "metadata": {},
   "outputs": [
    {
     "data": {
      "text/html": [
       "<span style=\"font-size:20px;\"><a class=\"ProveItLink\" href=\"__pv_it/b5e7f9d1be3d0bcc31620b3180036a4c3c1d60d50/expr.ipynb\"><img src=\"data:image/png;base64,iVBORw0KGgoAAAANSUhEUgAAAM0AAAAVBAMAAAAX/3cYAAAAMFBMVEX///+IiIi6urrc3NxERETM\n",
       "zMwQEBCqqqpUVFQiIiJ2dnYyMjLu7u5mZmaYmJgAAABN0h6tAAAAAXRSTlMAQObYZgAAAqNJREFU\n",
       "SMdjYGDgu8dAU8B68QCI4tnFQGPAlAoi+T6AbRPp7WNegCzLOM3ld2YTjPfiv0eLhwEDbgUi/31v\n",
       "dP5GUSCZ4r9thgKQcRvE45oAIsUeMLBfe4CijJtV4MhZuBDQCL7vDPgVMDxBVbAhkMcHFCkr4fYc\n",
       "mQMk7qO6l4XpAWOAAyyQPwKJawy4FTCBFJxFVeCgxyDKgmLPNlBUqUFkn8ycuQFqDHsBzBjGr0BC\n",
       "H+J4Ps+ZszEUcIEUHEQ1AWhPOYo9vOAQiQUrCpFBOJdLB2YMCygW7cERyOp4AIsC7g8MXAzMqCYA\n",
       "7Vl0BNkee3AcHQYniD1IwaIZEQDl8IPM028AMU8fwKHgHYSFMMFBj2lqK5BeBuJwAL24XgAephwG\n",
       "CHsy/yfBOPEgFfJg/zRjVaC/t+0zugkOavO/gdLbexCnDOii+QGIyEWOZq53sKQuD1LRrwDWjVXB\n",
       "+gCGDegmAMNt3StQmF4ABuZkICMfHBRgImw3EMDSAUglBPiDiG/g6MkGqcBQsJ+BYQFDAKoJQEmQ\n",
       "GgaGTmBoqIH8AxJlB6syQfYPgwMHlPMFlM7+gVjMDrgUHOARQDUBZA8DME65QfHK4QDNOVxgOTYU\n",
       "exq4kbLPMYgNCdgUgLMP1wFUE4D2cIBC8z08vYEcsgYsxyuA4txXiOzDsxvCvohNATj7RKCZAPIP\n",
       "3wJoegPZww4MkVpocp2OKFYWcK1tYDi/AZI7GDQvQMQ5C7Ao4PwAKy+RTNgQxbDqBkp5cNajVwEq\n",
       "ecLpAEoxyQkskjj2/7jRchmqgKdFB0PBif0/7rbM34BqArwcRdiDDLQ8Z25A5tdglPNLIOUOTgXo\n",
       "JkDsSSBQfSxgoFTBSkT9gxvwCDBQqABS/zAQqE/5CJlCUAETpHBip0f7AAAxYeSU/WxTcgAAAABJ\n",
       "RU5ErkJggg==\n",
       "\" style=\"display:inline;vertical-align:middle;\" /></a> <a class=\"ProveItLink\" href=\"__pv_it/c912777d619d633c8024594c08e780bcb0230bb20/proof.ipynb\" style=\"text-decoration: none\">&#x22A2;&nbsp;</a><a class=\"ProveItLink\" href=\"__pv_it/b26bc7188dd6d1aa293503f18231a1a4d7ecd6d40/expr.ipynb\"><img src=\"data:image/png;base64,iVBORw0KGgoAAAANSUhEUgAAAbcAAAAUBAMAAAD8Rm4sAAAAMFBMVEX///9UVFTMzMx2dna6uroQ\n",
       "EBCqqqqIiIgiIiJmZmYyMjJERETu7u6YmJjc3NwAAAC+aOQFAAAAAXRSTlMAQObYZgAABL1JREFU\n",
       "WMO9WE1MXFUUPvPTmWHmzRQbFiK2wE5LzLDSkJh0NkRcoQkLky46S9nobIxpupjphhUpQ0xN2Fhi\n",
       "7MLG8GPUkCgwC9EKiaErUhOVZdNogEZFIS2ev3vfuzN03ryFHnLuu++89+73nXPPPfcOAIVt6Fh+\n",
       "h6iS2hVtlgioUQiqvKMKW3J/sel5vv9gru8L1+YtUXOt93xh2LHfO1nuW27yIL1+PPfMzDxcwP6F\n",
       "VvinoN476Z39utT6ajsElyKzi+GrpLAg1kVuB6iJc/cMenJrwNzxgyy9/942pG5KMC3aEQbjL42z\n",
       "sZ1F2PwSbGJ3s9W5IGoAAS4DdD1ybQshCA4TYefhE9J8XSZqsUGXc9TssKWIDozjwxgh5Ctkuk9x\n",
       "nMbmlgz2qY4YP8TmpvSzdTWO4ydeHRJ4SVSafXNQAwjxxwDJfxwbv9oOIcjEsHsFL6gZ4fmd8B2k\n",
       "ZpotVTT8ip/Hu/Emw67fQL1NvVHxaaWhCUKxHpfZHJpWnEtIz6uA9wawuuKgBhDST9CbQ8fGr7ZD\n",
       "CDIx7DaA9YFYt6slk3hJCcaX+OVbDU2L1zkfapgznBsv8hux13RGcvvY7Mk67HkfbMYNU7p8AqKO\n",
       "uKgWAXIYho1px/YgFMFnYtllS6xX2ZpsvMthSaFjOYnqAcALz1NnEnWNw4oP92rU+5Hf2ISaJj8l\n",
       "/ng3L+j5jEIfQ56HHFF1xEW1CHC2G+LXG47taiiCz8SyS9RZV9n6LRTFd3w6JDl38PO1KUkhvOFl\n",
       "m8OhLgWWz8v4J8uTjFWOa6KcKAvxo9krHKWfVCFxh4XzwkW1CFA8v7NSdlFXQxF8JpZdfp5VHCjB\n",
       "niQjTnkPmOzf4FClKxDj7MngoDMDvnM1eCidKhn75R0oSHFOPIIsd95WdcRFtQi00L03wbFNhSL4\n",
       "TCy7VI11gqepd65fQneXS6hmf5pT2KtpLT+Dg1/hnOEGa1lMBlun5k/QSntOato+JLigF1UdcVEt\n",
       "Ai10qJYd20Qogs/Esovvs/K3SWQuPnWZScfsh/Qhdz/USSfnZjguPBLWMq5plPwI8Bi00g6adejB\n",
       "922d81ENAi10qFYc20Qogs/EslPneNbRn4yU64JZrrTNxf7g7kNdrpSWXLsTYJb8gt3mNpZMQeKt\n",
       "njcheBV1TNWsuW6baz6qQaBtTrPP2qZCEXwmll2yxkrrtVDmSWb5fAfsNleUVM29JLGkgrJnR+Th\n",
       "Js02590Bs5Wk6mYT4nDaghKUJlSDQAs9fgyObTUUwWdi2WlBGdGtJPdExhzULfI2un5Ztsb4s3Kl\n",
       "+prC2E7yLdcy3maJ4ZjUoyF7CKAMGaX0/UDVkSZUg5DFiRz9BhzbSCiCz8Sy6xpmxYzZOvkMUut/\n",
       "14OHm+foBFtWKnq4obmGH5Z7JW24lmFNg9jiwWzfR/JKj1Zcj75fOaK7j1UdaUYVBBxpru8rcFHH\n",
       "QhEsE59ddoA103TWLjRaT7m/6fVG0JgMHHetlPyDsDmm10RPPX61IJxia3q1FeE0JndF8/XOfybd\n",
       "h+jS9uDciUQhaEUPznru6Uhyu9FhnvKTJwLqWnRQ85PH/Gzs6Jul6Dhrp9OLgLoVHZRmgWfiv/03\n",
       "Q35X9P/9N8Mvov8CecS+hQyyTQEAAAAASUVORK5CYII=\n",
       "\" style=\"display:inline;vertical-align:middle;\" /></a></span>"
      ],
      "text/plain": [
       "{C in BOOLEANS, D in BOOLEANS, E in BOOLEANS} |- (A or B or (C and D and E)) = (A or B or (D and E and C))"
      ]
     },
     "execution_count": 48,
     "metadata": {},
     "output_type": "execute_result"
    }
   ],
   "source": [
    "expr.innerExpr().operands[-1].commutation(0, -1, assumptions=inBool(C, D, E))"
   ]
  },
  {
   "cell_type": "code",
   "execution_count": 49,
   "metadata": {},
   "outputs": [
    {
     "data": {
      "text/html": [
       "<strong id=\"kt\">kt:</strong> <span style=\"font-size:20px;\"><a class=\"ProveItLink\" href=\"__pv_it/74e4c99be1436ec44dcec479857e49481def988b0/expr.ipynb\"><img src=\"data:image/png;base64,iVBORw0KGgoAAAANSUhEUgAAANEAAAAVBAMAAAAqbRZ+AAAAMFBMVEX///+IiIi6urrc3NxERETM\n",
       "zMwQEBCqqqpUVFQiIiJ2dnYyMjLu7u5mZmaYmJgAAABN0h6tAAAAAXRSTlMAQObYZgAAAv1JREFU\n",
       "SMe1Vk1oE0EUftk0ptlsNhG8SnMqCIJ7Ez0J1p+CtT3kkFtDqSAoJQcVPBRLayVFaguC9ZBiTwUP\n",
       "YlG8CNIUiihBiOIhqK0peBAK1tQUamMb33szm+YtCs2hCzOZ/XbmffPevG9eAMBehn1+Au9z9GO9\n",
       "bGKNv9QsS9DBzrhEQ/unJp7zzPleGy92xCW2SN3C+WLppIDtiUqmY8Sz/lCtqzhWBYY/U2dOqg9h\n",
       "ZuxhUoX0A0Q2JPYcm28AYHBAuehajeI219ISgyq2b5Cn4eNGptU/1I9St6Kc3EG3twVmFzDanRj0\n",
       "yC+1u4I22htDLCUxo4zdOzBjHiZrkBcnqcsy4kPALgsshEEPXyUrymoiq622od/GjsRMiscCWCkP\n",
       "k+1b5x2hLUPtqgWnvM4K7AS2rxSkgJoyfFBb7aawbUkMj8OkWD7zMB0N8paCaKLFUbEfgsDDnMAO\n",
       "o73fHAF+teZC2mqF/NyUWPQU/KDfJ9hmadDKOWfFA2X+jrwJHft7K51piV3EjZV3s8tMm2oCr/Vt\n",
       "CQyOvbrDB7KKbY0GNzi1DPBv83f0fVjH3gHrssSm8Kg2dplC4FfS8BHYui4weNoDPLqp0yRxn+Hk\n",
       "UrHCg7fov5p5ltjSAusDOMApaoHOx1F1pKSQaEpgMA8wQwrppZcxzMB29gkVeoW/R+reU9jbYgJD\n",
       "phDL7jrofEy6R4IRKgmMzi5nxRRTeIicpllBbA+U8NwTJTnBRFxgU66SZtzsCTuunKx+ibGcTMyo\n",
       "I+45ce4dV97Sc0bpluUUqEgMM8LvGlAWgwVXTvk5ibGckjojZl0mP7F1q+ROauWFMeztF0BglLC3\n",
       "ShD8ojRaVzRu0pj2YBRmvlk/NejJ6q7m4FptuvE2aZ3fXLp9zhWhvmEoENbHzAf1NqzzEu7WxjNd\n",
       "jsTe0PpH5OcL771XLwy5fxQLjYWcRjTecBv/H7Mm60ypvRcbu9B8Gdy9Yd36tKfndPNM+Xp9gmZq\n",
       "7mLzTLQ5o0/V3+X9rO62o/9H/AVmlt1mi/9LuAAAAABJRU5ErkJggg==\n",
       "\" style=\"display:inline;vertical-align:middle;\" /></a> <a class=\"ProveItLink\" href=\"__pv_it/56c1b23cd5c7577492cdbe77b488c805e18a675b0/proof.ipynb\" style=\"text-decoration: none\">&#x22A2;&nbsp;</a><a class=\"ProveItLink\" href=\"__pv_it/edc4d5c03453e74e0cca6ada307009ddc13826440/expr.ipynb\"><img src=\"data:image/png;base64,iVBORw0KGgoAAAANSUhEUgAAAM0AAAAUBAMAAADco6S9AAAAMFBMVEX///92dnYiIiIQEBBERERU\n",
       "VFS6urqIiIjc3NxmZmaqqqru7u6YmJgyMjLMzMwAAADiRdoGAAAAAXRSTlMAQObYZgAAAv9JREFU\n",
       "SMeVVV9oUlEY/zSvOq8638bqYT5GPRgRvU5WRg+BIwySCmV7iJ4U2ktPjr3W0BhC9jLpKZ+SHP0D\n",
       "wZegoJEwiEWU0ltQbNRsQ3L2fd855+oZ5uxc7sc9v3PO9/f3nQsw6nDXUNwbusWzOBh/rD5+HFjw\n",
       "JlqF2AUdW8PXDJNYiF93B7S1191ILIJGrh7Q44ruFK6E6oay3yDh588myyOocLWpYZv4+ujA7Rp4\n",
       "Vmq8YPnfQd/aAFU5tfDxOi6Ezbp0v1FGaZA6b5qRLdSTyvVjXpzBW4rrJIpVoemjVOffRbECYBOn\n",
       "LRxSCJg5mBCzV3zMP4vCXmYkg8D7dD9mpy3H8d2g2bxQP1OW+dknnTUwT+k4TKGfZhoqYlbLJFVm\n",
       "bgnkHC6fLvdjS0SFIMBYm2bfeJdxU/rv2EaRxZp90HEqSACz6GP9zvITTncJ34tivQXw9ZqG3SG3\n",
       "MXfZIM1e8K4qBGUZiB8pjH1Sx2EHvKTaRkmHZ7DF9u0YcVgE3nq3cAI07BK5jWem0j06HcVHlJPA\n",
       "DMazruPOTn6a8u1lIiQhy/ZcaTCSIt97AJVZDSOz9iJAqNmzE4Rl8ZEhMIH7Hum4bR983FgUnz9e\n",
       "SLDLZlAR04H1dLU17CyxHTVNc4lZIA8NYTVK4hcFpuO+bbBRb/ipfk5UIAj+UMU7jrG4djVM2Qmx\n",
       "f6wGech8pDKg9j/KTg/HupnwXNrBZNgFH5dV/ah9jN8apvLGLWADxZFNq30qlJM5Def2gWMYCupw\n",
       "Fzk+Ttd3WWRqn62whikeZOVRqauk2sf8TF/rGs7tQ6ERD6gxHHuCZpdlf22gC2fKGjYp6enB9JQY\n",
       "Yh5yD5Obc0yl+xrOSZ5HW2MBWOt+Ak/0Z67/vrjRjefPF0G7QygjFD68jMQFKZmHyEcwGq187AFj\n",
       "X/pxk/TMdMiRpn6/3h1wqUvMunes4ey7d+Uwg4PxpyP/fXr36LBhSw/GJ0a3w7ePY3H4nupgWP0X\n",
       "RhrWf+4QXwaMw9z73/+29x/63gD8Bf6K2+ZMwRHEAAAAAElFTkSuQmCC\n",
       "\" style=\"display:inline;vertical-align:middle;\" /></a></span><br>"
      ],
      "text/plain": [
       "kt: {A or B or (C and D and E)} |- A or B or ((C and D) and E)"
      ]
     },
     "execution_count": 49,
     "metadata": {},
     "output_type": "execute_result"
    }
   ],
   "source": [
    "kt = expr.innerExpr().operands[-1].associate(0, length=2, assumptions=[expr])"
   ]
  },
  {
   "cell_type": "code",
   "execution_count": 50,
   "metadata": {},
   "outputs": [
    {
     "data": {
      "text/html": [
       "<strong id=\"expr\">expr:</strong> <a class=\"ProveItLink\" href=\"__pv_it/edc4d5c03453e74e0cca6ada307009ddc13826440/expr.ipynb\"><img src=\"data:image/png;base64,iVBORw0KGgoAAAANSUhEUgAAAM0AAAAUBAMAAADco6S9AAAAMFBMVEX///92dnYiIiIQEBBERERU\n",
       "VFS6urqIiIjc3NxmZmaqqqru7u6YmJgyMjLMzMwAAADiRdoGAAAAAXRSTlMAQObYZgAAAv9JREFU\n",
       "SMeVVV9oUlEY/zSvOq8638bqYT5GPRgRvU5WRg+BIwySCmV7iJ4U2ktPjr3W0BhC9jLpKZ+SHP0D\n",
       "wZegoJEwiEWU0ltQbNRsQ3L2fd855+oZ5uxc7sc9v3PO9/f3nQsw6nDXUNwbusWzOBh/rD5+HFjw\n",
       "JlqF2AUdW8PXDJNYiF93B7S1191ILIJGrh7Q44ruFK6E6oay3yDh588myyOocLWpYZv4+ujA7Rp4\n",
       "Vmq8YPnfQd/aAFU5tfDxOi6Ezbp0v1FGaZA6b5qRLdSTyvVjXpzBW4rrJIpVoemjVOffRbECYBOn\n",
       "LRxSCJg5mBCzV3zMP4vCXmYkg8D7dD9mpy3H8d2g2bxQP1OW+dknnTUwT+k4TKGfZhoqYlbLJFVm\n",
       "bgnkHC6fLvdjS0SFIMBYm2bfeJdxU/rv2EaRxZp90HEqSACz6GP9zvITTncJ34tivQXw9ZqG3SG3\n",
       "MXfZIM1e8K4qBGUZiB8pjH1Sx2EHvKTaRkmHZ7DF9u0YcVgE3nq3cAI07BK5jWem0j06HcVHlJPA\n",
       "DMazruPOTn6a8u1lIiQhy/ZcaTCSIt97AJVZDSOz9iJAqNmzE4Rl8ZEhMIH7Hum4bR983FgUnz9e\n",
       "SLDLZlAR04H1dLU17CyxHTVNc4lZIA8NYTVK4hcFpuO+bbBRb/ipfk5UIAj+UMU7jrG4djVM2Qmx\n",
       "f6wGech8pDKg9j/KTg/HupnwXNrBZNgFH5dV/ah9jN8apvLGLWADxZFNq30qlJM5Def2gWMYCupw\n",
       "Fzk+Ttd3WWRqn62whikeZOVRqauk2sf8TF/rGs7tQ6ERD6gxHHuCZpdlf22gC2fKGjYp6enB9JQY\n",
       "Yh5yD5Obc0yl+xrOSZ5HW2MBWOt+Ak/0Z67/vrjRjefPF0G7QygjFD68jMQFKZmHyEcwGq187AFj\n",
       "X/pxk/TMdMiRpn6/3h1wqUvMunes4ey7d+Uwg4PxpyP/fXr36LBhSw/GJ0a3w7ePY3H4nupgWP0X\n",
       "RhrWf+4QXwaMw9z73/+29x/63gD8Bf6K2+ZMwRHEAAAAAElFTkSuQmCC\n",
       "\" style=\"display:inline;vertical-align:middle;\" /></a><br>"
      ],
      "text/plain": [
       "expr: A or B or ((C and D) and E)"
      ]
     },
     "execution_count": 50,
     "metadata": {},
     "output_type": "execute_result"
    }
   ],
   "source": [
    "expr = kt.expr"
   ]
  },
  {
   "cell_type": "code",
   "execution_count": 51,
   "metadata": {},
   "outputs": [
    {
     "data": {
      "text/html": [
       "<strong id=\"expr\">expr:</strong> <span style=\"font-size:20px;\"><a class=\"ProveItLink\" href=\"__pv_it/05450fe5d865a3178273b4fd58e5b15a2e70dc810/expr.ipynb\"><img src=\"data:image/png;base64,iVBORw0KGgoAAAANSUhEUgAAAOEAAAAVBAMAAABCnpRGAAAAMFBMVEX///+IiIi6urrc3NxERETM\n",
       "zMwQEBCqqqpUVFQiIiJ2dnYyMjLu7u5mZmaYmJgAAABN0h6tAAAAAXRSTlMAQObYZgAAA1VJREFU\n",
       "SMe9Vk1oU0EQnrw05m/7EsGrmFNBEMxN9CAF60/B2h56yK2hVBCUEvAHPBRLayVFagMF9dBieyl4\n",
       "EIPiRZCmIMVShCgegtqaogehaBtNoVrbODO7m7yNobYgLuy+zbeTmdmZb+Y9ALAX4D8Nz6sMPcTT\n",
       "HfznKE53fkuRi7VhbxQX6yxt7RXlQLpK5nNpKNcUMSDRiMtz2k2fyuWPGGf2cDHZ1A/gi1bp2VNq\n",
       "yQ2uQz/t39ESSMmDIFtuY+MS6QKoXzWwIGl7jNPVDdDTzVJurTmELi8nQCjPyzis4/wEc7S977S4\n",
       "9IvWAVoW5aU3MQwbBvaF7pLFuzZjQuq/S0+zSnFHGLE4wASYuFXA5SUEwlUWRQ8riNEyyogLAbtg\n",
       "YCM4/XjP4AXSFGex9lGleR/GwkIvZ8DEAxSnaRDxKou265uOmyW9q0ORmVEn5ibRwzg/JCgGUqxv\n",
       "t9LcShI/UTxi4piuAMX4UZXFA95NphSqqZO5D/WC527GibnIxl7U+4OjwmIi7Veai3TvNVSYNfFQ\n",
       "I3yl5wOck7TxcaZFxFPgc7TfrvJya7E5YWB1VBdnUGehwsRAIiCF+P8uvKOdNnA4+OwGJ2wJ5zJt\n",
       "rjAVLXBv8DnGok/lJQrinIH5SccdfK5WLPrBLcnpItCHqfGmDBwetgHvrio6tY8wHJvPFXkzW6b3\n",
       "CbKacGK7KEOd+GRaC1AcHpBpp+oKYe49KwYOUwDjVGEd9GMQGdvAd0Rd5/m8vhyNNbIYdmLaop91\n",
       "XgbF4ZhOF0Ytry2WccpvRoSlxWAvBYIkvThvy8LVGadyhOGIE9NRlZU4rpnGfYHLUXRRglIGzuUY\n",
       "QAbu13lkrh6St6dxXNY/l6OnaGCaOW6tRGr1ZnU5zlHwmTkVnMsxppgzqS1yobXKooipyg1iShpO\n",
       "gxNj3hPJr+XB+17Webk7oMPWGOdg3MApBdzB3zrqUbSuZ+BSaczZnXxTa/PXT4LRsTheFBzxJvla\n",
       "nvQpLsPN0lCyhX0OtjnxF6TnHl37SXVf1cOd+fNVozHd5Soj4uj8aszWxkWqbDG+/dej7uRbjona\n",
       "cKWT6/fjdgb3umNby4h0bXyu/H6EHXwDVN7If/GqxiBHrU75PbDwT786PtaG7aj6zvkN3UX0ZhYu\n",
       "LLQAAAAASUVORK5CYII=\n",
       "\" style=\"display:inline;vertical-align:middle;\" /></a> <a class=\"ProveItLink\" href=\"__pv_it/ef6ef56e2b5514a4539ee85406d3273fb118b9db0/proof.ipynb\" style=\"text-decoration: none\">&#x22A2;&nbsp;</a><a class=\"ProveItLink\" href=\"__pv_it/0a9d0f21d88d5017bcdfdb4ecfef7304c18df2e00/expr.ipynb\"><img src=\"data:image/png;base64,iVBORw0KGgoAAAANSUhEUgAAAL0AAAAUBAMAAAAq6iElAAAAMFBMVEX///92dnYiIiIQEBBERERU\n",
       "VFS6urqIiIjc3NxmZmaqqqru7u6YmJgyMjLMzMwAAADiRdoGAAAAAXRSTlMAQObYZgAAAqZJREFU\n",
       "OMuVlU1oE1EQxydpNkmzSbq3gh66x6KHFPHepRrxliDxEFQS7EE8ZcHeU7xqyUIJGC/N0ZxcTPEL\n",
       "hFwEC4KBXioiCd4EJUUbW4ppnJm322ZEpLtlJ29/+97/zde+Apz6eghBryf+4PtfL5KlYaNwRTLd\n",
       "IrNSvBk3BH87zhayq3JuLLfXuJ7paj7ukUnzsM92CsU2+oKlaPK9DiTWOwyPJUfozyFINtNFaOld\n",
       "z92ei1YjmaTNZIAaFUewLbw3z6PZUCofPan0Ppp1EAwquER3YFY9veYl6TyasMukiuCDLdg83ts0\n",
       "WlayS66XiyPS6wgGc+iXbkNbPXWqZfrZwfuuIpfw9QV3ksVNgGlOw1eeod1RkUJkF03NEIwSbmC2\n",
       "UqwbdZ/y9i28r6r3Q4AvNwSLYbZqJo1e8ow3YHqpprpX8oLBHiRJMuTQw3MY8L5hjNBSwQ/fr5wD\n",
       "wSI4f84+aZEz+KdKRbBqCBYd1Rcp5UkucBlqvE/MBq2scnoA0M4LFm4CZPon+iasqUGVYKksWOgI\n",
       "UvSboHjSxUaJXdRNjFDldAGVDwWbQoVFLh8b7ClN7ZYj81Oy1C6EqLfTVJsoLlaN+tiPbwZ9j+0L\n",
       "RvoZ9oklsKe4tyjVqPxbMqyJDi88fQw8vMB4za8Ptb/2SzDKD7dxCPy67xy3f9sSjNsfzqLruDbe\n",
       "5Hg4Ld+8AlL7DyzBqL41b5mn0/LbX/8sGbc/hUL1vU+LD1TbXPO+j23c+qIrGLVaAtPQ4kfuKf7u\n",
       "yLXbjmScyGXcY9qAzfEnSOR+OJPf961xsX65CeKbp1DhVbaoGox7CnsLtN6wXngkmU7rl0a0eV+e\n",
       "ew/+ccj6bH4SRifOwv+wZwEO8y0Ifs0GmBtZDSzvn8+nm2wF1g/mUvD/j+8A/gDseMdy9ZC/swAA\n",
       "AABJRU5ErkJggg==\n",
       "\" style=\"display:inline;vertical-align:middle;\" /></a></span><br>"
      ],
      "text/plain": [
       "expr: {A or B or ((C and D) and E)} |- A or B or (C and D and E)"
      ]
     },
     "execution_count": 51,
     "metadata": {},
     "output_type": "execute_result"
    }
   ],
   "source": [
    "expr = expr.innerExpr().operands[-1].disassociate(0, assumptions=[expr])"
   ]
  },
  {
   "cell_type": "code",
   "execution_count": 52,
   "metadata": {},
   "outputs": [
    {
     "data": {
      "text/html": [
       "<span style=\"font-size:20px;\"><a class=\"ProveItLink\" href=\"__pv_it/a8078e9aae7457a30509e45e2a5f1e2f6a09630b0/expr.ipynb\"><img src=\"data:image/png;base64,iVBORw0KGgoAAAANSUhEUgAAAIsAAAAVBAMAAACEWwD/AAAAMFBMVEX///+IiIi6urrc3NxERETM\n",
       "zMwQEBCqqqpUVFQiIiJ2dnYyMjLu7u5mZmaYmJgAAABN0h6tAAAAAXRSTlMAQObYZgAAAiNJREFU\n",
       "OMtjYGDgu8dACWC9eABE8exioAwwpYJIvg9QbjSqLOM0l9+ZTTDei/+9N1wUUBRIpvhvmwESug3i\n",
       "cU2ACu9Hs4WbVeDI2QcwXgoDA+9XVAUbAnl8QAGyEtkYvv0HUFWxMD1gDHCAhcA/oOv/oipw0GMQ\n",
       "ZUE35vh9AwjjycyZG6DGsBfAjGH8DLToI8Q+z5mzYcaUYxjzQB7i9RAZhGu4dGDGsCQwMBybA3aX\n",
       "4wGEaxYdQTOG6UA9OBx49iB5SjMiAMrhb2BgnQHWf/oAwlNMU1uB9DIQhwPsA4ZDDPECYK4BwpjM\n",
       "/0kwTnzfQ88CMKsZETZq87+BfPAexCmDWKjAYH8BrBk5iLneLYBy5A0YeDIgmpGDeN0rUJQCNYZM\n",
       "hsRE791+sIKw3UAAC2KQSghwAxkFcg5rNkgBzBiQGgaGTqA/1MCuYWJgYANrNkF2DYMDB5TzA2QM\n",
       "yNfMKK5hYWgAuqYBFBhgcaBFnAkgBhuKMQ3ciGTD0A+OygRkYzgYNkDDBhxTzEBjuMG5glcAxTWv\n",
       "EMmG9QuYeRHFNXwLoDEFNsYSpO0zWHI6IjMs4FrbwHAe5FduoBvUfMDCnAXwzBDFsOoGcro58n8P\n",
       "A7v/T3BUnXA6gJI1OYGJjmP/j7st7hDNPC06aFkTJRXDgZYnJDPAQA16wbAEmhlgAGJMAoHyZAGh\n",
       "AmclSnmDA/AIEDIGXN4wECj9+AiWfpAcw06FshgA246bXRlQ7owAAAAASUVORK5CYII=\n",
       "\" style=\"display:inline;vertical-align:middle;\" /></a> <a class=\"ProveItLink\" href=\"__pv_it/e96a4cc3ba23c0aeb8f01a9f9577eeee70788b5b0/proof.ipynb\" style=\"text-decoration: none\">&#x22A2;&nbsp;</a><a class=\"ProveItLink\" href=\"__pv_it/47780231e99b3d9df12cd008abf11ce1ce4dde3f0/expr.ipynb\"><img src=\"data:image/png;base64,iVBORw0KGgoAAAANSUhEUgAAAGwAAAAUBAMAAACaOcVSAAAAMFBMVEX///9UVFTMzMx2dna6uroQ\n",
       "EBCqqqqIiIgiIiJmZmYyMjJERETu7u6YmJjc3NwAAAC+aOQFAAAAAXRSTlMAQObYZgAAAddJREFU\n",
       "OMt9VD1IQlEU/vKZPvx5SbiUkbZFDbZGi6NDUYOD1OLYlltEgy1FRIPREE5F1BJRbygKpHKoIF2E\n",
       "hiCQHNtKiIqG7L5z7lOf5DvLPT/3u+fc75x7Aa0MG3FVOwRKvIy0uf3hWi50Bgxa3e7V/E8yKJQT\n",
       "tk+lXzM3dOvAbgTFtuM8jnTpoQx/lg8/LUh3VsajovjpLJS0FeZ1lt0RHSoXf78rLzG6KeMZ4XhJ\n",
       "wzcji75c35AwV0rHK3vLmRgrwUUJOwd8SVHCAVmOi0IjmzKpY4kMZ2GBCfXtqRJWA4YHxDpOVrHQ\n",
       "LDI+FMEVGbeI8h2UlJLi42uV5TVDeSZzsHm3ZD0BUAgxvDEVKrQ9ZvoXuAsIZZ5MvYUSpTKGBB3d\n",
       "lwtz4Ano5bCgwv1pMEobZo+ESBj0KYY5RZs4ieBxiJQekcn9ZcK01mzQu7hIcR2ViHaJUj1Vs21d\n",
       "H0KJ0+6ZVljAQ5RoAuZ5p2ZXGcpti+oNSnYs2R6JX6N33l9qtiwUOBSlzxmsbzNVqcZwjSnjAaOG\n",
       "Uv0YrptvI4kxpDAa3l/v28rT1n3uZ2jSMsqq5WXQqDhaPb4VXp0TPFzmA8nCVtpH2ZRre1jR/pl2\n",
       "kk6n2n8K/v8/hT+av3pnLPiN2QAAAABJRU5ErkJggg==\n",
       "\" style=\"display:inline;vertical-align:middle;\" /></a></span>"
      ],
      "text/plain": [
       "{A in BOOLEANS, B in BOOLEANS} |- (A and B) in BOOLEANS"
      ]
     },
     "execution_count": 52,
     "metadata": {},
     "output_type": "execute_result"
    }
   ],
   "source": [
    "inBool(And(A,B)).prove([inBool(A), inBool(B)])"
   ]
  },
  {
   "cell_type": "code",
   "execution_count": 53,
   "metadata": {},
   "outputs": [
    {
     "data": {
      "text/html": [
       "<span style=\"font-size:20px;\"><a class=\"ProveItLink\" href=\"__pv_it/a4069ea3008f0d8fc39b9aec39df702217cc458b0/expr.ipynb\"><img src=\"data:image/png;base64,iVBORw0KGgoAAAANSUhEUgAAAQ0AAAAVBAMAAACuzqZ5AAAAMFBMVEX///+IiIi6urrc3NxERETM\n",
       "zMwQEBCqqqpUVFQiIiJ2dnYyMjLu7u5mZmaYmJgAAABN0h6tAAAAAXRSTlMAQObYZgAAAw5JREFU\n",
       "SMfNVk1oE0EY/XaTNZvNus1BD4JgTwUlaA6C4CmWIAaUVChSvTRIPIRKycGfi8VgK0RUFMTWoGIQ\n",
       "KSgoOfWgglsoIhSxFQ8Brc3Bk0KT1qixUeP87e5s2N0gPdSFTebn7Zs3b775ZgBA+wjr+kjzOv5T\n",
       "n8I6P+IJ/KvVmKySvXdLOjl1q5tVtGuNhbFeW78wHm9mLpjV6QPlyl4vgno+PuoywntcU67T1lCt\n",
       "TWbpsHrQXLINMYDFPlt/SArPvK4YqoYBRoY9CLrQNKtZZ8BDXseXX206Yjths9+oDKIBd83Z+v1i\n",
       "ReiL0bKaQGu88asXQRgBUs4AXoc6YrB8KhRKDHXWpNkWRdMJU4sThdtMRyDLdIRO4nVOeREgM8U/\n",
       "zgBehyasUFD/Vkvt/RmDZj9SmiFxLe3TTT+UCNOxiB2X5jwIkuj1rToDeB2RABWrPrdcE29eNCoN\n",
       "gKNXSGlWt9Zl+wANGd9P8mnUg6CODWs4AyZxRSYWqd3SMumToyaq5953I9ylxtKmCVocteIj0zpO\n",
       "i8qyteguBBghrDoDqrhyhkxJBN9vys5H0ZPPxnZAwfMyR5u5OFWWiqQY/MaFrzMBRsgrzoAQWtD+\n",
       "G6RpYKFcJ4Ujz9BjRBEaipGjEBR+kIkNYQDTgTFkV5O9pnoR4KzQlXIBXEI7oIf4gewZIh/s5tX6\n",
       "Icd2P/oXiPk+3g+IydQPkntOexHgz6oVZ0AIg2SMCKB3nE6NR8lQstIHdRVSvI5ciBRp5ih6EaAZ\n",
       "q2kXQNXcL3vQ+4JShnm1WtFKH4PUiXmbH3T9fdgqRfciQK7PllwAk4YOH9aSpHE8YWbdY/CoDGoT\n",
       "l6dQJKfpOMGsmdeLyuMcvMHs5ysQ+MDaHQnQJMW7zgArf6jJpg6nWhT3qle3nUIFVL3culqOs/HV\n",
       "sYjtnAvewY3v8m8NdheC/KGoC8B+vpjPjkSBP3oDevsx/YDmdeM5B/9I0A5gOlLetwOl0/WhCGsk\n",
       "oDq0mjdougOJGoa1EbD7B3S4j1U6kGidRulEACI9HQL/w/30L+1MHGD6X4c1AAAAAElFTkSuQmCC\n",
       "\" style=\"display:inline;vertical-align:middle;\" /></a> <a class=\"ProveItLink\" href=\"__pv_it/3383aec570538e922f5b5e29d32474338005f78f0/proof.ipynb\" style=\"text-decoration: none\">&#x22A2;&nbsp;</a><a class=\"ProveItLink\" href=\"__pv_it/797ccc0f09dd806ccbc98b2485c626753424185e0/expr.ipynb\"><img src=\"data:image/png;base64,iVBORw0KGgoAAAANSUhEUgAAALwAAAAUBAMAAADFKEobAAAAMFBMVEX///9UVFTMzMx2dna6uroQ\n",
       "EBCqqqqIiIgiIiJmZmYyMjJERETu7u6YmJjc3NwAAAC+aOQFAAAAAXRSTlMAQObYZgAAApdJREFU\n",
       "OMutVU1oE1EQnk1iNuavOXiJ0Wa9qZfkJBQFexFzqLSHHoIezNGczMWD9JBeFBGhKVKkFyuiB0XM\n",
       "BhQLRbsHKzQBWfEmFHsULzGiqVRsnDezu9kJVgrNW3hv3/fmffu9mXmzAEkbhtDCm7sstHg4OQAn\n",
       "sp3FzIsBMD6TPprMC+hDr5FpIPeotNRvrGwXD+HLc57XHdxTccAEWDIkds2G8IItsW2U0gVoDiiJ\n",
       "BiqtdRsSNRZbtxh+4q7nkGayJrDWHeyWNgUW2MJuASBYkfSxkK0bJkTY+p2zK7DsfAaqCHyuCOyx\n",
       "Gs9JO/07dpM2xKccpy7fuu3Qh0smfGHUro7TqJ13VbxEVxctP3awq/oT0i72Dbs2xuMRf/aV5akP\n",
       "TphwnSYh6yq7tAmzDn0H4PgRgbVpeC/tRkylPgUwxrjVd07hmAGvafIWcqzmFD4so7MxcxMEdtbn\n",
       "Xs+O9lVR/SeajvZ9X+xNAzDFOLQ5irPw1fHpDsBaSmBzRp/es6sqMIuevUJT0xfa4EYepklqejFL\n",
       "C4kKaEwSw1DpXYFdpoNb0m5VdT/VMYjo4lNsDj2YF5g+hGn+QL1ELAiw5BEc9C2BzdH1NKTdb/Wx\n",
       "Py590q8eTI2dU8INlFhl756ptNd+CIxyNwgCo7RfU6QFWpjy06eiFNok0kdVgtGWspf2OVNgbRXF\n",
       "MyAwlfZx8gaH9p5Q/5HySeV+bEdpMfng6gqhyy5ZAgujD8q02MeUqgJlxV1ijZS8opAPjqXUmVq9\n",
       "ZxBe/YVGmrpbuhJ5uJeeXyHTPgbrjbRz+VxMq3fmM/cJe8hFLzMhSlrEX0lD1BuieOwRizvXLHSa\n",
       "i4JbeGswlDZY0tz2Zjj0zf//TvbbdlM5nJ9h4t8/w79BMMk97v1KIAAAAABJRU5ErkJggg==\n",
       "\" style=\"display:inline;vertical-align:middle;\" /></a></span>"
      ],
      "text/plain": [
       "{A in BOOLEANS, B in BOOLEANS, C in BOOLEANS, D in BOOLEANS} |- (A and B and C and D) in BOOLEANS"
      ]
     },
     "execution_count": 53,
     "metadata": {},
     "output_type": "execute_result"
    }
   ],
   "source": [
    "inBool(And(A,B,C,D)).prove([inBool(A), inBool(B), inBool(C), inBool(D)])"
   ]
  },
  {
   "cell_type": "code",
   "execution_count": 54,
   "metadata": {},
   "outputs": [
    {
     "data": {
      "text/html": [
       "<span style=\"font-size:20px;\"><a class=\"ProveItLink\" href=\"__pv_it/9c38005aec1c37f2c6bb47c3f1f1ef76c88c11f70/expr.ipynb\"><img src=\"data:image/png;base64,iVBORw0KGgoAAAANSUhEUgAAAKcAAAAVBAMAAADROuOhAAAAMFBMVEX///+IiIi6urrc3NxERETM\n",
       "zMwQEBCqqqpUVFQiIiJ2dnYyMjLu7u5mZmaYmJgAAABN0h6tAAAAAXRSTlMAQObYZgAAAlVJREFU\n",
       "OMutVT1oFEEU/nbvzrvcbdYI9l4lCILbeZUcJqbNFSnOKkG0kDQHSsBCEH8KUfEgkKAoJE3AQlgE\n",
       "LdJ4VSDYrF1U8oel6CUqeOBPfG9mdnZm97hY+OCbn3ffvXlv3ts3APxN/D8pvO3w5K1Y2jMKllxJ\n",
       "KzKMYiAB9xJv/V3zR68uYZwdAqXANmEw/Ie9jdtngVuQwAceym2TXgkkDA0d6oW8aogzYlYsh+iA\n",
       "rQbe0JKBZ1mjnxUS+fSLhiVe3eFhBynG1DZwKkJ5BAL9jM4pJJFe/0bjKi+bPDxBinGMvO6OwJuG\n",
       "QB+jubZEIr7zleOtqqDdCCnGOBm7TCl/AYmsUSeSSORk8Q+TWFekIR8gxegB5+/T/FxhmZWl0GDk\n",
       "tyWS6KuFPfZXkOj4yZili6P35eiCuHuFLm9mKanvHpE8ps1QS0IrXOR+s5MinCPATcBmOHTlqzdI\n",
       "eU2hQmFM6kuvcX1UJbSiubH+nf0Rxbymastk5Ck5zg+uAgXcpRo43hhklNYz2uhwq9xKGz1MXjp7\n",
       "htEKu12qGzbi8GNFkaZ5vgURfi4cQhx+zOAyLXGBnFDoWtmvpRNFitM0vdaJwrkdWImqyTKdqhuJ\n",
       "WraMFlTplCOtEAU5QX8bXhSapih9k4FXFMZF7kzvFbJ1ymG6WuFN/Ozg6v5Tuih58ZVIs5Tc23+w\n",
       "PiZu46XCv3ymUtbUB9dJWCnx2hLK6PTghiJkyd72YdgNxe6n/Bnmg4wbob3PMpLWJ/opVgY36X5G\n",
       "sgyMKrgX5EuweeBz8vHA58QPJMQb9Rfx5Kl9ihnnuQAAAABJRU5ErkJggg==\n",
       "\" style=\"display:inline;vertical-align:middle;\" /></a> <a class=\"ProveItLink\" href=\"__pv_it/964e157a8224e3510f220d5e09c688003c574b380/proof.ipynb\" style=\"text-decoration: none\">&#x22A2;&nbsp;</a><a class=\"ProveItLink\" href=\"__pv_it/8c9b2529111ee20a14b341c8bc70d8f662a0762c0/expr.ipynb\"><img src=\"data:image/png;base64,iVBORw0KGgoAAAANSUhEUgAAADcAAAAPBAMAAACy3Eq1AAAAMFBMVEX///92dnYiIiIQEBBERERU\n",
       "VFS6urqIiIjc3NxmZmaqqqru7u6YmJgyMjLMzMwAAADiRdoGAAAAAXRSTlMAQObYZgAAAP1JREFU\n",
       "GNNjYACBtwyogCf+68wQNyjnPpRugMkyOzAwzH8AUXh/A0TsJkzy/QEGhvwJYOau+RAtfE5QRQz1\n",
       "QIHzBWDmgfoEMM2aXgCVdGZg4DYCq2TbsP4AWGgvgwJU8isDw6NoMGsbw3uIDikghJj/9UyJFoSZ\n",
       "wNAPsVuBoRciwv6DgWFzAFhZ5Mx4B7CjCxhYIc5nMQAq+AW2EuitCyAG0wYGPrByBn4gxf4dxFoA\n",
       "FDYAMVYC8Q24N1m/ARkcQEneDwxQiZVwb74HWdUEsuMHyG4HiNFAcBlomQmQteX/bQYu/09A57KC\n",
       "QoId5KnY/5FTXRagRAUbmHyAJAIAntVB/gEKLKYAAAAASUVORK5CYII=\n",
       "\" style=\"display:inline;vertical-align:middle;\" /></a></span>"
      ],
      "text/plain": [
       "{[not]([not](A) or [not](B))} |- A and B"
      ]
     },
     "execution_count": 54,
     "metadata": {},
     "output_type": "execute_result"
    }
   ],
   "source": [
    "And(A,B).prove([Not(Or(Not(A), Not(B)))])"
   ]
  },
  {
   "cell_type": "code",
   "execution_count": 55,
   "metadata": {},
   "outputs": [
    {
     "data": {
      "text/html": [
       "<span style=\"font-size:20px;\"><a class=\"ProveItLink\" href=\"__pv_it/de0df741c41cc0145f7a1245e47a885feabf03760/expr.ipynb\"><img src=\"data:image/png;base64,iVBORw0KGgoAAAANSUhEUgAAAO0AAAAVBAMAAABYonTIAAAAMFBMVEX///+IiIi6urrc3NxERETM\n",
       "zMwQEBCqqqpUVFQiIiJ2dnYyMjLu7u5mZmaYmJgAAABN0h6tAAAAAXRSTlMAQObYZgAAAyBJREFU\n",
       "SMe9Vk1IVFEUPs5Pb37eTBNEu3BWwkCL2VWbFOwXImfhwk0oURC0aKAIXAhDP4sWmhD0h+G4EYKk\n",
       "wbCFG4VECAmmTZihztAmiDDLSCi1c869771z3xvGVl049+e8737n3nPPefcCQHoF/muJvpulxp42\n",
       "tMe0GOWaXxGu+RRW3g8JkBCEYaFLNEx/kx/tDiVieRWAmJ91zut+3hlcPJ6FWz6EJLH3Dw6Fywxh\n",
       "2EeqEsMSnswrERpcl12hXoGXwcqXAnARIPUTFsCESJIDNbDe1xjCsGdBu1+1eOXLH6zGqHeHqjr7\n",
       "qCr8sY2e24JExoQIkrkRrFbzDGFYA7v3tXg+GviB9Tx1e6giDoiLzbTg9/Q62H0mRJC8ojhqA4Yw\n",
       "LGg3PKzEK+mW7+S1rHZdiHd6VAAiyDSPpiZBQgRJ6hfV50FBJhvabakq8coha5tApLOwivBODwrA\n",
       "3hJEH+GOJkBCBEk7G3gNCkIyTopYRS6+psRzcza6TrtmEBJ0s/acQPQO1c8UKQ5AQgTJi4wbKlrW\n",
       "aHADYzD1mEoZD66o5AONn1CuQXiL9sFr3gdwkwkeiimtebAvo64fJESQjBYcu/1akuiMbjcAwiWA\n",
       "PVklXI5QoCwvblDQcpK/0QkFF8SUk9i2opVekBBBcpV/T1T1aoG76IK2QjO72L/i2k0VE8WA3U2y\n",
       "m3HsOhBBMsoHXxB2kyU63w5B4vjZsWth84DczX4OV+Lg+NmZQukL99BKDiREkKxSnCWon9OyZsQz\n",
       "2TXiCu0exmbGjSs4UQcjrnAKpW90w40rByJI2imunsu4GjfzqKDyJeGkQFRlYReuN1VmTc+I+jLh\n",
       "TUli+radxe4SSIggoUQc4DNe0hLMX/JnyFXYXb9n4frOUzwRFQRJzZZzJ8RmNpdvn6LeFEhISLC+\n",
       "PT2oTntKy7/8J0GHqfLrrGrjgVsP7GET0oCEIAxTdvua3wtcxsxhuhpAJDLmuAGJeS+Y9y/95CKB\n",
       "3dgVn6IzQLrgGwdJvHuQ71+Ybn7vNySZC5B2Nrn3BYQkpNLfWtn1nfNp13dOevd3DkFI+H31F2nD\n",
       "5pS4Qv+JAAAAAElFTkSuQmCC\n",
       "\" style=\"display:inline;vertical-align:middle;\" /></a> <a class=\"ProveItLink\" href=\"__pv_it/f75805f7b2f82e489db9844b70d3bfaf22f9c0640/proof.ipynb\" style=\"text-decoration: none\">&#x22A2;&nbsp;</a><a class=\"ProveItLink\" href=\"__pv_it/6cb34ce46990545589c4d14cf16b0040803dabef0/expr.ipynb\"><img src=\"data:image/png;base64,iVBORw0KGgoAAAANSUhEUgAAAF8AAAAPBAMAAABw7A4xAAAAMFBMVEX///92dnYiIiIQEBBERERU\n",
       "VFS6urqIiIjc3NxmZmaqqqru7u6YmJgyMjLMzMwAAADiRdoGAAAAAXRSTlMAQObYZgAAAVdJREFU\n",
       "KM9jYACBtwyogCf+68wQNzRB7pLIGA4BCPs+VKwBJsnswMAw/wGqWPEBBq7JByAG3t8AEbsJk3wP\n",
       "lMifgCK2RRtIzIdo3wWl+ZygGhnqgQLnC1DELoPoZAj7QH0CmGZNL4BqcAY62WgDshjnLxD5Esxm\n",
       "27Ae4rS9DApQDV8ZGB5Fo4j1g6kdYPY2hvcQU6SAEOK2r2dKtBhQxOQLEOGVwNAP8Z8CQy9EhP0H\n",
       "A8PmABQx/Qdw9XyRM+MdwIFVwMAKEWYxAGr6hSJmD/YRmGADBvsFEINpAwMfxFh+IMX+HUVMH0Rw\n",
       "gfUuAAobgBgrgfgGPBpYv6GIgUOeEcTiAGrg/cAAlVgJj4b3Dihi/SBPS4NYTSA3/wD5xQHiBFAk\n",
       "AR1qsgFFjOsPUCeIseX/bQYu/0/AYGIFxR47yKDY/5FTXRaAow0uxrDTNTIBNTWygckHBMQAif1k\n",
       "34m7olkAAAAASUVORK5CYII=\n",
       "\" style=\"display:inline;vertical-align:middle;\" /></a></span>"
      ],
      "text/plain": [
       "{[not]([not](A) or [not](B) or [not](C))} |- A and B and C"
      ]
     },
     "execution_count": 55,
     "metadata": {},
     "output_type": "execute_result"
    }
   ],
   "source": [
    "And(A,B,C).prove([Not(Or(Not(A), Not(B), Not(C)))])"
   ]
  },
  {
   "cell_type": "markdown",
   "metadata": {},
   "source": [
    "## Axioms"
   ]
  },
  {
   "cell_type": "code",
   "execution_count": 56,
   "metadata": {},
   "outputs": [
    {
     "data": {
      "text/html": [
       "<span style=\"font-size:20px;\"> <a class=\"ProveItLink\" href=\"_axioms_.ipynb#andTT\" style=\"text-decoration: none\">&#x22A2;&nbsp;</a><a class=\"ProveItLink\" href=\"__pv_it/7af359f32933cc085d4b6b757e372d44388b32d90/expr.ipynb\"><img src=\"data:image/png;base64,iVBORw0KGgoAAAANSUhEUgAAAHAAAAAUBAMAAACnq6Q0AAAAMFBMVEX////MzMxUVFR2dna6uroQ\n",
       "EBCqqqqIiIgiIiJmZmYyMjJERETu7u6YmJjc3NwAAACgK8IjAAAAAXRSTlMAQObYZgAAAQRJREFU\n",
       "OMtjYOC7wIAH5OGWOs3A2QEGCsiiM8BCTQxMD9DVw2QY1oF4bAUwcT64inQQwbMAi11gGd4JqBq5\n",
       "JqBIM5jj0sjxAFWjdA+qxqO4NL5gQNWoUo6qkcsBh8ZKVI08CzhQNTJPwKFxL6pG5gTmBBSNvODQ\n",
       "sVoFAiuRZdpQNXIw8C1A0cjWgMPGEFSN1xkYFFE0Mn4gTiMwTIWI04jqVDZgUHA9QNbI0oDw4yLc\n",
       "gQPSxDYBM3Cw2GiJolEa6lyERk4DHBo9IA6CZhEVEAFNAr4QNwhgavRFJDkYACcTRmSRE7hyFe8E\n",
       "BrzAHKfMPrz6sGYrWEbGB7gf4JTCX3TcwyUBAKQERsxzlZRzAAAAAElFTkSuQmCC\n",
       "\" style=\"display:inline;vertical-align:middle;\" /></a></span>"
      ],
      "text/plain": [
       "|- (TRUE and TRUE) = TRUE"
      ]
     },
     "execution_count": 56,
     "metadata": {},
     "output_type": "execute_result"
    }
   ],
   "source": [
    "Equals(And(TRUE, TRUE), TRUE).prove()"
   ]
  },
  {
   "cell_type": "code",
   "execution_count": 57,
   "metadata": {},
   "outputs": [
    {
     "data": {
      "text/html": [
       "<span style=\"font-size:20px;\"> <a class=\"ProveItLink\" href=\"_axioms_.ipynb#andTF\" style=\"text-decoration: none\">&#x22A2;&nbsp;</a><a class=\"ProveItLink\" href=\"__pv_it/250a64332591223276383d7745689839fd348f2d0/expr.ipynb\"><img src=\"data:image/png;base64,iVBORw0KGgoAAAANSUhEUgAAAHAAAAAUBAMAAACnq6Q0AAAAMFBMVEX////MzMxUVFR2dna6uroQ\n",
       "EBCqqqqIiIgiIiJmZmYyMjJERETu7u6YmJjc3NwAAACgK8IjAAAAAXRSTlMAQObYZgAAAQhJREFU\n",
       "OMtjYOC7wIAH5OGWOs3A2QEGCmgSYiCC6QEWLWAZhnUggq0AJsgHl04HETwLsGgEy/BOQNXINQFF\n",
       "msEcl0aOB6gapXtQNR7FpfEFA6pGlXJUjVwOODRWomrkWcCBqpF5Ag6Ne1E1MicwJ6Bo5AWHjtUq\n",
       "EFiJLNOGqpGDgW8Bika2Bhw2hqBqvM7AoIiikfEDcRqBYSpEnEZUp7IBg4LrAbJGlgaEHxfhDhyQ\n",
       "JrYJmIGDxUZLFI3SUOciNHIa4NDoAXEQNIuogAhQEpjR0RHa0dEEdIMAmi6YDAdK8gcnE0ZkkRO4\n",
       "chXvBAa8wBynzD68+rBmK1hGxge4H+CUwl903MMlAQBm6kX4QLZagwAAAABJRU5ErkJggg==\n",
       "\" style=\"display:inline;vertical-align:middle;\" /></a></span>"
      ],
      "text/plain": [
       "|- (TRUE and FALSE) = FALSE"
      ]
     },
     "execution_count": 57,
     "metadata": {},
     "output_type": "execute_result"
    }
   ],
   "source": [
    "Equals(And(TRUE, FALSE), FALSE).prove()"
   ]
  },
  {
   "cell_type": "code",
   "execution_count": 58,
   "metadata": {},
   "outputs": [
    {
     "data": {
      "text/html": [
       "<span style=\"font-size:20px;\"> <a class=\"ProveItLink\" href=\"_axioms_.ipynb#andFT\" style=\"text-decoration: none\">&#x22A2;&nbsp;</a><a class=\"ProveItLink\" href=\"__pv_it/01d3f2e9de4f0cb58655d4537f4661a46db627ce0/expr.ipynb\"><img src=\"data:image/png;base64,iVBORw0KGgoAAAANSUhEUgAAAHAAAAAUBAMAAACnq6Q0AAAAMFBMVEX///9UVFTMzMx2dna6uroQ\n",
       "EBCqqqqIiIgiIiJmZmYyMjJERETu7u6YmJjc3NwAAAC+aOQFAAAAAXRSTlMAQObYZgAAAQtJREFU\n",
       "OMtjYOC7wIAH5OGWOg0imBLQRGd0gEAjA+MDLFrUwOQ6EMFWABPkg0ungwieBVg0gmV4J6Bq5JqA\n",
       "Is1gjksjxwNUjdo9qBqP4tL4ggFVo0g5qkYuBxwaK1E18izgQNXIPAGHxr2oGpkTmBNQNPKCQ8dq\n",
       "FQisRJZpQ9XIwcC3AEUjWwMOG0NQNV5nYBBC0cj0gTiNwDBVJE4jqlPZgEHB9QBZI0sDwo8LcQcO\n",
       "SBPbBMzAwWKjJYpGbahzERo5DXBo9ADKdXS0RnR0CICiHyQETQK+EDcoYCb/UFDy50BJ/uBkwoQs\n",
       "cgJXruKdwIAXmOOU2YdXH9ZshZSRcQLuBzil8Bcd93BJAABbF0XMzCmSpgAAAABJRU5ErkJggg==\n",
       "\" style=\"display:inline;vertical-align:middle;\" /></a></span>"
      ],
      "text/plain": [
       "|- (FALSE and TRUE) = FALSE"
      ]
     },
     "execution_count": 58,
     "metadata": {},
     "output_type": "execute_result"
    }
   ],
   "source": [
    "Equals(And(FALSE, TRUE), FALSE).prove()"
   ]
  },
  {
   "cell_type": "code",
   "execution_count": 59,
   "metadata": {},
   "outputs": [
    {
     "data": {
      "text/html": [
       "<span style=\"font-size:20px;\"> <a class=\"ProveItLink\" href=\"_axioms_.ipynb#andFF\" style=\"text-decoration: none\">&#x22A2;&nbsp;</a><a class=\"ProveItLink\" href=\"__pv_it/20b83266f27cc63098abade2298fb7aebfc6c4e40/expr.ipynb\"><img src=\"data:image/png;base64,iVBORw0KGgoAAAANSUhEUgAAAHAAAAAUBAMAAACnq6Q0AAAAMFBMVEX///9UVFTMzMx2dna6uroQ\n",
       "EBCqqqqIiIgiIiJmZmYyMjJERETu7u6YmJjc3NwAAAC+aOQFAAAAAXRSTlMAQObYZgAAAQtJREFU\n",
       "OMtjYOC7wIAH5OGWOg0imBIwJdRABOMDBhwyDOtABFsBTJAPLp0OIngWYNEIluGdgKqRawKKNIM5\n",
       "Lo0cD1A1avegajyKS+MLBlSNIuWoGrkccGisRNXIs4ADVSPzBBwa96JqZE5gTkDRyAsOHatVILAS\n",
       "WaYNVSMHA98CFI1sDThsDEHVeJ2BQQhFI9MH4jQCw1SROI2oTmUDBgXXA2SNLA0IPy7EHTggTWwT\n",
       "MAMHi42WKBq1oc5FaOQ0wKHRAyjX0dEa0dEhAIp+kBAoCczo6Ajt6GgEukEBTRdMhgMl+YOTCROy\n",
       "yAlcuYp3AgNeYI5TZh9efVizFVJGxgm4H+CUwl903MMlAQB8DUVyivSWHQAAAABJRU5ErkJggg==\n",
       "\" style=\"display:inline;vertical-align:middle;\" /></a></span>"
      ],
      "text/plain": [
       "|- (FALSE and FALSE) = FALSE"
      ]
     },
     "execution_count": 59,
     "metadata": {},
     "output_type": "execute_result"
    }
   ],
   "source": [
    "Equals(And(FALSE, FALSE), FALSE).prove()"
   ]
  },
  {
   "cell_type": "code",
   "execution_count": 60,
   "metadata": {},
   "outputs": [
    {
     "data": {
      "text/html": [
       "<span style=\"font-size:20px;\"><a class=\"ProveItLink\" href=\"__pv_it/f07a44791bd4c030d2c6adfbfda9b46e4f7a6e450/expr.ipynb\"><img src=\"data:image/png;base64,iVBORw0KGgoAAAANSUhEUgAAAIEAAAAVBAMAAACTeZA2AAAAMFBMVEX///+IiIi6urrc3NxERETM\n",
       "zMwQEBCqqqpUVFQiIiJ2dnYyMjLu7u5mZmaYmJgAAABN0h6tAAAAAXRSTlMAQObYZgAAAkFJREFU\n",
       "OMtjYGDgu8dAJmC9eABE8ewCkXZ4lRbjEGdKBZF8H0DGOEAM3YCm5MX/3hsuCgwcBqjCkin+22Yo\n",
       "ABm3QTyuCUCCG6KE+wNUCVxHCgMD71cGHnSTNwTy+IA8vxJuwluIxOs/UBV7YT79B3TqXwaGhWgm\n",
       "OOgxiLKgmDAZLM5T+xmq0fMAhMEIFOD7yMBwDKrzycyZG6AmlKOYwDwBLM/H+AmikENRAMJgSQDq\n",
       "ngP0ngKYGyKDcMOiI8gmMF4Ai+uw/4MoOM0AMZKBv4GBdQbQPVxgBTx7EL5gmtoKpJeB7QM6i+UB\n",
       "WIEC60eIguVACAbxfQ89C0CuA7sdESUOavO/gZz1HsQpC2Bg4CwAxy4D81+IggkM1hCGvAEDTwaQ\n",
       "Zge7iQU5JNe9AkUe0G0hoEBkA3sz4u6NL5DwEGDgCACz3ECmAI1nBUdz2G4ggIUkCxPI4Z3AAFML\n",
       "gJkAJLLB+jgPMLA2gFk/QCYIwEwwQXYDCwNQCTdIGYcD1BfsQDwNLF8LxJthyYGhH2gyE9gXbMgm\n",
       "cDBsgIYDKC7AIWkOxPvB8puhpoCTA+sXeEjyCiC7gW8BNC5AJoAiC5wm/EGhzeoA8QnQkcDkoOYD\n",
       "0rsArHE6PFVHMay6gZwegI7k8f99gKHk/1yQv0Chwgi0j2P/j7st7uAMAwnYE04HUHMWeqqG5Vkw\n",
       "GYAsdBJKa3nORMlkEBMSEDkLJ1iIQ3wlvHxgMcBrAEbuhgFw+cCwC1HC4AK4LGBKAlPs9wiWco/x\n",
       "lJMANvWRwHQNMZgAAAAASUVORK5CYII=\n",
       "\" style=\"display:inline;vertical-align:middle;\" /></a> <a class=\"ProveItLink\" href=\"__pv_it/5b98048760833ca820a1b0df455dc39d6f0d04740/proof.ipynb\" style=\"text-decoration: none\">&#x22A2;&nbsp;</a><a class=\"ProveItLink\" href=\"__pv_it/8776f6509d0e01db99c8c290ab1853b3db3d048c0/expr.ipynb\"><img src=\"data:image/png;base64,iVBORw0KGgoAAAANSUhEUgAAADYAAAAPBAMAAABdHiGLAAAAMFBMVEX///92dnYiIiIQEBBERERU\n",
       "VFS6urqIiIjc3NxmZmaqqqru7u6YmJgyMjLMzMwAAADiRdoGAAAAAXRSTlMAQObYZgAAANdJREFU\n",
       "GNNjYACBtwwogF3Z5a9RGJRzH1WOgZevYMvOA2Amz/0NqHIsbAfYHziAmbvmN0DEeJyUdKFyXAsg\n",
       "cgfqE8A0n/sGuD7GbLAc24b1ELP3bkCYmfT0AYi1jeF9AVgoAmGf0X8zMCuBoX8CmOGA5BbGMwIg\n",
       "WyJnxoNF+WzvAgFUjsEhB2QdAwPzBZAIB7I+BgdWIGMBAwOTAVjIAFkugBeoGijH+wEsNB1F30EG\n",
       "hiYQ+wdYiGkBPMwEGCUDGLb8v83A5f8J7FDukGzMsIYBNhFImEEAAEUpOYcaSaDVAAAAAElFTkSu\n",
       "QmCC\n",
       "\" style=\"display:inline;vertical-align:middle;\" /></a></span>"
      ],
      "text/plain": [
       "{(A and B) in BOOLEANS} |- A in BOOLEANS"
      ]
     },
     "execution_count": 60,
     "metadata": {},
     "output_type": "execute_result"
    }
   ],
   "source": [
    "inBool(A).prove([inBool(And(A,B))])"
   ]
  },
  {
   "cell_type": "code",
   "execution_count": 61,
   "metadata": {},
   "outputs": [
    {
     "data": {
      "text/html": [
       "<span style=\"font-size:20px;\"><a class=\"ProveItLink\" href=\"__pv_it/f07a44791bd4c030d2c6adfbfda9b46e4f7a6e450/expr.ipynb\"><img src=\"data:image/png;base64,iVBORw0KGgoAAAANSUhEUgAAAIEAAAAVBAMAAACTeZA2AAAAMFBMVEX///+IiIi6urrc3NxERETM\n",
       "zMwQEBCqqqpUVFQiIiJ2dnYyMjLu7u5mZmaYmJgAAABN0h6tAAAAAXRSTlMAQObYZgAAAkFJREFU\n",
       "OMtjYGDgu8dAJmC9eABE8ewCkXZ4lRbjEGdKBZF8H0DGOEAM3YCm5MX/3hsuCgwcBqjCkin+22Yo\n",
       "ABm3QTyuCUCCG6KE+wNUCVxHCgMD71cGHnSTNwTy+IA8vxJuwluIxOs/UBV7YT79B3TqXwaGhWgm\n",
       "OOgxiLKgmDAZLM5T+xmq0fMAhMEIFOD7yMBwDKrzycyZG6AmlKOYwDwBLM/H+AmikENRAMJgSQDq\n",
       "ngP0ngKYGyKDcMOiI8gmMF4Ai+uw/4MoOM0AMZKBv4GBdQbQPVxgBTx7EL5gmtoKpJeB7QM6i+UB\n",
       "WIEC60eIguVACAbxfQ89C0CuA7sdESUOavO/gZz1HsQpC2Bg4CwAxy4D81+IggkM1hCGvAEDTwaQ\n",
       "Zge7iQU5JNe9AkUe0G0hoEBkA3sz4u6NL5DwEGDgCACz3ECmAI1nBUdz2G4ggIUkCxPI4Z3AAFML\n",
       "gJkAJLLB+jgPMLA2gFk/QCYIwEwwQXYDCwNQCTdIGYcD1BfsQDwNLF8LxJthyYGhH2gyE9gXbMgm\n",
       "cDBsgIYDKC7AIWkOxPvB8puhpoCTA+sXeEjyCiC7gW8BNC5AJoAiC5wm/EGhzeoA8QnQkcDkoOYD\n",
       "0rsArHE6PFVHMay6gZwegI7k8f99gKHk/1yQv0Chwgi0j2P/j7st7uAMAwnYE04HUHMWeqqG5Vkw\n",
       "GYAsdBJKa3nORMlkEBMSEDkLJ1iIQ3wlvHxgMcBrAEbuhgFw+cCwC1HC4AK4LGBKAlPs9wiWco/x\n",
       "lJMANvWRwHQNMZgAAAAASUVORK5CYII=\n",
       "\" style=\"display:inline;vertical-align:middle;\" /></a> <a class=\"ProveItLink\" href=\"__pv_it/1f9539b07f13cff9f1906accd18789b5c69319be0/proof.ipynb\" style=\"text-decoration: none\">&#x22A2;&nbsp;</a><a class=\"ProveItLink\" href=\"__pv_it/af21e96bc662cb74cc7cb3eb21c032f16e434dba0/expr.ipynb\"><img src=\"data:image/png;base64,iVBORw0KGgoAAAANSUhEUgAAADcAAAAPBAMAAACy3Eq1AAAAMFBMVEX///92dnYyMjKqqqoiIiLu\n",
       "7u7c3NyIiIjMzMwQEBC6urpERERmZmZUVFSYmJgAAADEjrHzAAAAAXRSTlMAQObYZgAAAOZJREFU\n",
       "GNNjYGB4+//O2d0LGJBByez9mr4QodkMDDw/UCQZFNpZt54DMTj+MTBw/UGV3LCOoYIbxGD/xsDA\n",
       "9x0sxrfFxQkmaQyW5J7AwBDpCjZjewBCp1Q0iMF/gYHDFywaFIAwlsvjBojRf+/5FgOw0DWEnSv9\n",
       "f4JdW5/AwDoXIoTsILmHIMZOkAKQVo5JSkAAk+TmegBk/AVJFgAJNhSd3AwXIN5kuA+2YAKyJC+D\n",
       "AsSbHL/BQsdRdPIJMDAwAdWv3AoWYjGAB18jg+BZBgZe/b9nbm+GCLHeXooR8AjAJQ0NPggAAH2B\n",
       "SAzP/7V+AAAAAElFTkSuQmCC\n",
       "\" style=\"display:inline;vertical-align:middle;\" /></a></span>"
      ],
      "text/plain": [
       "{(A and B) in BOOLEANS} |- B in BOOLEANS"
      ]
     },
     "execution_count": 61,
     "metadata": {},
     "output_type": "execute_result"
    }
   ],
   "source": [
    "inBool(B).prove([inBool(And(A,B))])"
   ]
  },
  {
   "cell_type": "code",
   "execution_count": 62,
   "metadata": {},
   "outputs": [
    {
     "data": {
      "text/html": [
       "<span style=\"font-size:20px;\"> <a class=\"ProveItLink\" href=\"_axioms_.ipynb#andFT\" style=\"text-decoration: none\">&#x22A2;&nbsp;</a><a class=\"ProveItLink\" href=\"__pv_it/01d3f2e9de4f0cb58655d4537f4661a46db627ce0/expr.ipynb\"><img src=\"data:image/png;base64,iVBORw0KGgoAAAANSUhEUgAAAHAAAAAUBAMAAACnq6Q0AAAAMFBMVEX///9UVFTMzMx2dna6uroQ\n",
       "EBCqqqqIiIgiIiJmZmYyMjJERETu7u6YmJjc3NwAAAC+aOQFAAAAAXRSTlMAQObYZgAAAQtJREFU\n",
       "OMtjYOC7wIAH5OGWOg0imBLQRGd0gEAjA+MDLFrUwOQ6EMFWABPkg0ungwieBVg0gmV4J6Bq5JqA\n",
       "Is1gjksjxwNUjdo9qBqP4tL4ggFVo0g5qkYuBxwaK1E18izgQNXIPAGHxr2oGpkTmBNQNPKCQ8dq\n",
       "FQisRJZpQ9XIwcC3AEUjWwMOG0NQNV5nYBBC0cj0gTiNwDBVJE4jqlPZgEHB9QBZI0sDwo8LcQcO\n",
       "SBPbBMzAwWKjJYpGbahzERo5DXBo9ADKdXS0RnR0CICiHyQETQK+EDcoYCb/UFDy50BJ/uBkwoQs\n",
       "cgJXruKdwIAXmOOU2YdXH9ZshZSRcQLuBzil8Bcd93BJAABbF0XMzCmSpgAAAABJRU5ErkJggg==\n",
       "\" style=\"display:inline;vertical-align:middle;\" /></a></span>"
      ],
      "text/plain": [
       "|- (FALSE and TRUE) = FALSE"
      ]
     },
     "execution_count": 62,
     "metadata": {},
     "output_type": "execute_result"
    }
   ],
   "source": [
    "Equals(And(FALSE, TRUE), FALSE).prove()"
   ]
  },
  {
   "cell_type": "code",
   "execution_count": 63,
   "metadata": {},
   "outputs": [
    {
     "data": {
      "text/html": [
       "<span style=\"font-size:20px;\"> <a class=\"ProveItLink\" href=\"_axioms_.ipynb#andFF\" style=\"text-decoration: none\">&#x22A2;&nbsp;</a><a class=\"ProveItLink\" href=\"__pv_it/20b83266f27cc63098abade2298fb7aebfc6c4e40/expr.ipynb\"><img src=\"data:image/png;base64,iVBORw0KGgoAAAANSUhEUgAAAHAAAAAUBAMAAACnq6Q0AAAAMFBMVEX///9UVFTMzMx2dna6uroQ\n",
       "EBCqqqqIiIgiIiJmZmYyMjJERETu7u6YmJjc3NwAAAC+aOQFAAAAAXRSTlMAQObYZgAAAQtJREFU\n",
       "OMtjYOC7wIAH5OGWOg0imBIwJdRABOMDBhwyDOtABFsBTJAPLp0OIngWYNEIluGdgKqRawKKNIM5\n",
       "Lo0cD1A1avegajyKS+MLBlSNIuWoGrkccGisRNXIs4ADVSPzBBwa96JqZE5gTkDRyAsOHatVILAS\n",
       "WaYNVSMHA98CFI1sDThsDEHVeJ2BQQhFI9MH4jQCw1SROI2oTmUDBgXXA2SNLA0IPy7EHTggTWwT\n",
       "MAMHi42WKBq1oc5FaOQ0wKHRAyjX0dEa0dEhAIp+kBAoCczo6Ajt6GgEukEBTRdMhgMl+YOTCROy\n",
       "yAlcuYp3AgNeYI5TZh9efVizFVJGxgm4H+CUwl903MMlAQB8DUVyivSWHQAAAABJRU5ErkJggg==\n",
       "\" style=\"display:inline;vertical-align:middle;\" /></a></span>"
      ],
      "text/plain": [
       "|- (FALSE and FALSE) = FALSE"
      ]
     },
     "execution_count": 63,
     "metadata": {},
     "output_type": "execute_result"
    }
   ],
   "source": [
    "Equals(And(FALSE, FALSE), FALSE).prove()"
   ]
  },
  {
   "cell_type": "code",
   "execution_count": 64,
   "metadata": {},
   "outputs": [
    {
     "data": {
      "text/html": [
       "<span style=\"font-size:20px;\"><a class=\"ProveItLink\" href=\"__pv_it/f07a44791bd4c030d2c6adfbfda9b46e4f7a6e450/expr.ipynb\"><img src=\"data:image/png;base64,iVBORw0KGgoAAAANSUhEUgAAAIEAAAAVBAMAAACTeZA2AAAAMFBMVEX///+IiIi6urrc3NxERETM\n",
       "zMwQEBCqqqpUVFQiIiJ2dnYyMjLu7u5mZmaYmJgAAABN0h6tAAAAAXRSTlMAQObYZgAAAkFJREFU\n",
       "OMtjYGDgu8dAJmC9eABE8ewCkXZ4lRbjEGdKBZF8H0DGOEAM3YCm5MX/3hsuCgwcBqjCkin+22Yo\n",
       "ABm3QTyuCUCCG6KE+wNUCVxHCgMD71cGHnSTNwTy+IA8vxJuwluIxOs/UBV7YT79B3TqXwaGhWgm\n",
       "OOgxiLKgmDAZLM5T+xmq0fMAhMEIFOD7yMBwDKrzycyZG6AmlKOYwDwBLM/H+AmikENRAMJgSQDq\n",
       "ngP0ngKYGyKDcMOiI8gmMF4Ai+uw/4MoOM0AMZKBv4GBdQbQPVxgBTx7EL5gmtoKpJeB7QM6i+UB\n",
       "WIEC60eIguVACAbxfQ89C0CuA7sdESUOavO/gZz1HsQpC2Bg4CwAxy4D81+IggkM1hCGvAEDTwaQ\n",
       "Zge7iQU5JNe9AkUe0G0hoEBkA3sz4u6NL5DwEGDgCACz3ECmAI1nBUdz2G4ggIUkCxPI4Z3AAFML\n",
       "gJkAJLLB+jgPMLA2gFk/QCYIwEwwQXYDCwNQCTdIGYcD1BfsQDwNLF8LxJthyYGhH2gyE9gXbMgm\n",
       "cDBsgIYDKC7AIWkOxPvB8puhpoCTA+sXeEjyCiC7gW8BNC5AJoAiC5wm/EGhzeoA8QnQkcDkoOYD\n",
       "0rsArHE6PFVHMay6gZwegI7k8f99gKHk/1yQv0Chwgi0j2P/j7st7uAMAwnYE04HUHMWeqqG5Vkw\n",
       "GYAsdBJKa3nORMlkEBMSEDkLJ1iIQ3wlvHxgMcBrAEbuhgFw+cCwC1HC4AK4LGBKAlPs9wiWco/x\n",
       "lJMANvWRwHQNMZgAAAAASUVORK5CYII=\n",
       "\" style=\"display:inline;vertical-align:middle;\" /></a> <a class=\"ProveItLink\" href=\"__pv_it/5b98048760833ca820a1b0df455dc39d6f0d04740/proof.ipynb\" style=\"text-decoration: none\">&#x22A2;&nbsp;</a><a class=\"ProveItLink\" href=\"__pv_it/8776f6509d0e01db99c8c290ab1853b3db3d048c0/expr.ipynb\"><img src=\"data:image/png;base64,iVBORw0KGgoAAAANSUhEUgAAADYAAAAPBAMAAABdHiGLAAAAMFBMVEX///92dnYiIiIQEBBERERU\n",
       "VFS6urqIiIjc3NxmZmaqqqru7u6YmJgyMjLMzMwAAADiRdoGAAAAAXRSTlMAQObYZgAAANdJREFU\n",
       "GNNjYACBtwwogF3Z5a9RGJRzH1WOgZevYMvOA2Amz/0NqHIsbAfYHziAmbvmN0DEeJyUdKFyXAsg\n",
       "cgfqE8A0n/sGuD7GbLAc24b1ELP3bkCYmfT0AYi1jeF9AVgoAmGf0X8zMCuBoX8CmOGA5BbGMwIg\n",
       "WyJnxoNF+WzvAgFUjsEhB2QdAwPzBZAIB7I+BgdWIGMBAwOTAVjIAFkugBeoGijH+wEsNB1F30EG\n",
       "hiYQ+wdYiGkBPMwEGCUDGLb8v83A5f8J7FDukGzMsIYBNhFImEEAAEUpOYcaSaDVAAAAAElFTkSu\n",
       "QmCC\n",
       "\" style=\"display:inline;vertical-align:middle;\" /></a></span>"
      ],
      "text/plain": [
       "{(A and B) in BOOLEANS} |- A in BOOLEANS"
      ]
     },
     "execution_count": 64,
     "metadata": {},
     "output_type": "execute_result"
    }
   ],
   "source": [
    "inBool(A).prove([inBool(And(A,B))])"
   ]
  },
  {
   "cell_type": "code",
   "execution_count": 65,
   "metadata": {},
   "outputs": [
    {
     "data": {
      "text/html": [
       "<span style=\"font-size:20px;\"><a class=\"ProveItLink\" href=\"__pv_it/f07a44791bd4c030d2c6adfbfda9b46e4f7a6e450/expr.ipynb\"><img src=\"data:image/png;base64,iVBORw0KGgoAAAANSUhEUgAAAIEAAAAVBAMAAACTeZA2AAAAMFBMVEX///+IiIi6urrc3NxERETM\n",
       "zMwQEBCqqqpUVFQiIiJ2dnYyMjLu7u5mZmaYmJgAAABN0h6tAAAAAXRSTlMAQObYZgAAAkFJREFU\n",
       "OMtjYGDgu8dAJmC9eABE8ewCkXZ4lRbjEGdKBZF8H0DGOEAM3YCm5MX/3hsuCgwcBqjCkin+22Yo\n",
       "ABm3QTyuCUCCG6KE+wNUCVxHCgMD71cGHnSTNwTy+IA8vxJuwluIxOs/UBV7YT79B3TqXwaGhWgm\n",
       "OOgxiLKgmDAZLM5T+xmq0fMAhMEIFOD7yMBwDKrzycyZG6AmlKOYwDwBLM/H+AmikENRAMJgSQDq\n",
       "ngP0ngKYGyKDcMOiI8gmMF4Ai+uw/4MoOM0AMZKBv4GBdQbQPVxgBTx7EL5gmtoKpJeB7QM6i+UB\n",
       "WIEC60eIguVACAbxfQ89C0CuA7sdESUOavO/gZz1HsQpC2Bg4CwAxy4D81+IggkM1hCGvAEDTwaQ\n",
       "Zge7iQU5JNe9AkUe0G0hoEBkA3sz4u6NL5DwEGDgCACz3ECmAI1nBUdz2G4ggIUkCxPI4Z3AAFML\n",
       "gJkAJLLB+jgPMLA2gFk/QCYIwEwwQXYDCwNQCTdIGYcD1BfsQDwNLF8LxJthyYGhH2gyE9gXbMgm\n",
       "cDBsgIYDKC7AIWkOxPvB8puhpoCTA+sXeEjyCiC7gW8BNC5AJoAiC5wm/EGhzeoA8QnQkcDkoOYD\n",
       "0rsArHE6PFVHMay6gZwegI7k8f99gKHk/1yQv0Chwgi0j2P/j7st7uAMAwnYE04HUHMWeqqG5Vkw\n",
       "GYAsdBJKa3nORMlkEBMSEDkLJ1iIQ3wlvHxgMcBrAEbuhgFw+cCwC1HC4AK4LGBKAlPs9wiWco/x\n",
       "lJMANvWRwHQNMZgAAAAASUVORK5CYII=\n",
       "\" style=\"display:inline;vertical-align:middle;\" /></a> <a class=\"ProveItLink\" href=\"__pv_it/1f9539b07f13cff9f1906accd18789b5c69319be0/proof.ipynb\" style=\"text-decoration: none\">&#x22A2;&nbsp;</a><a class=\"ProveItLink\" href=\"__pv_it/af21e96bc662cb74cc7cb3eb21c032f16e434dba0/expr.ipynb\"><img src=\"data:image/png;base64,iVBORw0KGgoAAAANSUhEUgAAADcAAAAPBAMAAACy3Eq1AAAAMFBMVEX///92dnYyMjKqqqoiIiLu\n",
       "7u7c3NyIiIjMzMwQEBC6urpERERmZmZUVFSYmJgAAADEjrHzAAAAAXRSTlMAQObYZgAAAOZJREFU\n",
       "GNNjYGB4+//O2d0LGJBByez9mr4QodkMDDw/UCQZFNpZt54DMTj+MTBw/UGV3LCOoYIbxGD/xsDA\n",
       "9x0sxrfFxQkmaQyW5J7AwBDpCjZjewBCp1Q0iMF/gYHDFywaFIAwlsvjBojRf+/5FgOw0DWEnSv9\n",
       "f4JdW5/AwDoXIoTsILmHIMZOkAKQVo5JSkAAk+TmegBk/AVJFgAJNhSd3AwXIN5kuA+2YAKyJC+D\n",
       "AsSbHL/BQsdRdPIJMDAwAdWv3AoWYjGAB18jg+BZBgZe/b9nbm+GCLHeXooR8AjAJQ0NPggAAH2B\n",
       "SAzP/7V+AAAAAElFTkSuQmCC\n",
       "\" style=\"display:inline;vertical-align:middle;\" /></a></span>"
      ],
      "text/plain": [
       "{(A and B) in BOOLEANS} |- B in BOOLEANS"
      ]
     },
     "execution_count": 65,
     "metadata": {},
     "output_type": "execute_result"
    }
   ],
   "source": [
    "inBool(B).prove([inBool(And(A,B))])"
   ]
  },
  {
   "cell_type": "code",
   "execution_count": 66,
   "metadata": {},
   "outputs": [],
   "source": [
    "%end demonstrations"
   ]
  },
  {
   "cell_type": "code",
   "execution_count": null,
   "metadata": {},
   "outputs": [],
   "source": []
  }
 ],
 "metadata": {
  "kernelspec": {
   "display_name": "Python 3",
   "language": "python",
   "name": "python3"
  }
 },
 "nbformat": 4,
 "nbformat_minor": 0
}
