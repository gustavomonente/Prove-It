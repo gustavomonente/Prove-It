{
 "cells": [
  {
   "cell_type": "code",
   "execution_count": null,
   "metadata": {},
   "outputs": [],
   "source": [
    "import proveit.specialStatementMagic # for %begin_axioms and %end_axioms\n",
    "from proveit.basiclogic import BOOLEANS, TRUE, FALSE, inBool, Forall, Exists, NotExists, And, Or, Not, Implies, Iff, \\\n",
    "Union, Singleton, Equals, NotEquals\n",
    "from proveit.common import A, B, C, P, Q, S, x, Px, Qx, Aetc, Cetc, PxEtc, Qetc, xEtc, etc_QxEtc"
   ]
  },
  {
   "cell_type": "code",
   "execution_count": null,
   "metadata": {},
   "outputs": [],
   "source": [
    "%begin_axioms"
   ]
  },
  {
   "cell_type": "code",
   "execution_count": null,
   "metadata": {},
   "outputs": [],
   "source": [
    "trueAxiom = TRUE\n",
    "trueAxiom"
   ]
  },
  {
   "cell_type": "code",
   "execution_count": null,
   "metadata": {},
   "outputs": [],
   "source": [
    "trueAxiom"
   ]
  },
  {
   "cell_type": "code",
   "execution_count": null,
   "metadata": {},
   "outputs": [],
   "source": [
    "boolsDef = Equals(BOOLEANS, Union(Singleton(TRUE), Singleton(FALSE)))\n",
    "boolsDef"
   ]
  },
  {
   "cell_type": "code",
   "execution_count": null,
   "metadata": {},
   "outputs": [],
   "source": [
    "boolsDef = Equals(BOOLEANS, Union(Singleton(TRUE), Singleton(FALSE)))\n",
    "boolsDef"
   ]
  },
  {
   "cell_type": "code",
   "execution_count": null,
   "metadata": {},
   "outputs": [],
   "source": [
    "boolsDef = Equals(BOOLEANS, Union(Singleton(TRUE), Singleton(FALSE)))\n",
    "boolsDef"
   ]
  },
  {
   "cell_type": "code",
   "execution_count": null,
   "metadata": {},
   "outputs": [],
   "source": [
    "falseNotTrue = NotEquals(FALSE, TRUE)\n",
    "falseNotTrue"
   ]
  },
  {
   "cell_type": "code",
   "execution_count": null,
   "metadata": {},
   "outputs": [],
   "source": [
    "forallInBool = Forall((P, Qetc, S), inBool(Forall(xEtc, PxEtc, S, etc_QxEtc)))\n",
    "forallInBool"
   ]
  },
  {
   "cell_type": "code",
   "execution_count": null,
   "metadata": {},
   "outputs": [],
   "source": [
    "existsDef = Forall((P, Qetc, S), Equals(Exists(xEtc, PxEtc, S, etc_QxEtc), Not(Forall(xEtc, NotEquals(PxEtc, TRUE), S, etc_QxEtc))))\n",
    "existsDef"
   ]
  },
  {
   "cell_type": "code",
   "execution_count": null,
   "metadata": {},
   "outputs": [],
   "source": [
    "notExistsDef = Forall((P, Qetc, S), Equals(NotExists(xEtc, PxEtc, S, etc_QxEtc), Not(Exists(xEtc, PxEtc, S, etc_QxEtc))))\n",
    "notExistsDef"
   ]
  },
  {
   "cell_type": "code",
   "execution_count": null,
   "metadata": {},
   "outputs": [],
   "source": [
    "notF = Equals(Not(FALSE), TRUE)\n",
    "notF"
   ]
  },
  {
   "cell_type": "code",
   "execution_count": null,
   "metadata": {},
   "outputs": [],
   "source": [
    "notT = Equals(Not(TRUE), FALSE)\n",
    "notT"
   ]
  },
  {
   "cell_type": "code",
   "execution_count": null,
   "metadata": {},
   "outputs": [],
   "source": [
    "implicitNotF = Forall(A, Implies(Equals(Not(A), TRUE), Equals(A, FALSE)))\n",
    "implicitNotF"
   ]
  },
  {
   "cell_type": "code",
   "execution_count": null,
   "metadata": {},
   "outputs": [],
   "source": [
    "implicitNotT = Forall(A, Implies(Equals(Not(A), FALSE), Equals(A, TRUE)))\n",
    "implicitNotT"
   ]
  },
  {
   "cell_type": "code",
   "execution_count": null,
   "metadata": {},
   "outputs": [],
   "source": [
    "andTT = Equals(And(TRUE, TRUE), TRUE)\n",
    "andTT"
   ]
  },
  {
   "cell_type": "code",
   "execution_count": null,
   "metadata": {},
   "outputs": [],
   "source": [
    "andTF = Equals(And(TRUE, FALSE), FALSE)\n",
    "andTF"
   ]
  },
  {
   "cell_type": "code",
   "execution_count": null,
   "metadata": {},
   "outputs": [],
   "source": [
    "andFT = Equals(And(FALSE, TRUE), FALSE)\n",
    "andFT"
   ]
  },
  {
   "cell_type": "code",
   "execution_count": null,
   "metadata": {},
   "outputs": [],
   "source": [
    "andFF = Equals(And(FALSE, FALSE), FALSE)\n",
    "andFF"
   ]
  },
  {
   "cell_type": "code",
   "execution_count": null,
   "metadata": {},
   "outputs": [],
   "source": [
    "andComposition = Forall((A, B, Cetc), Equals(And(A, B, Cetc), And(A, And(B, Cetc))))\n",
    "andComposition"
   ]
  },
  {
   "cell_type": "code",
   "execution_count": null,
   "metadata": {},
   "outputs": [],
   "source": [
    "andImpliesEach = Forall((Aetc, B, Cetc), Implies(And(Aetc, B, Cetc), B))\n",
    "andImpliesEach"
   ]
  },
  {
   "cell_type": "code",
   "execution_count": null,
   "metadata": {},
   "outputs": [],
   "source": [
    "orTT = Equals(Or(TRUE, TRUE), TRUE)\n",
    "orTT"
   ]
  },
  {
   "cell_type": "code",
   "execution_count": null,
   "metadata": {},
   "outputs": [],
   "source": [
    "orTF = Equals(Or(TRUE, FALSE), TRUE)\n",
    "orTF"
   ]
  },
  {
   "cell_type": "code",
   "execution_count": null,
   "metadata": {},
   "outputs": [],
   "source": [
    "orFT = Equals(Or(FALSE, TRUE), TRUE)\n",
    "orFT"
   ]
  },
  {
   "cell_type": "code",
   "execution_count": null,
   "metadata": {},
   "outputs": [],
   "source": [
    "orFF = Equals(Or(FALSE, FALSE), FALSE)\n",
    "orFF"
   ]
  },
  {
   "cell_type": "code",
   "execution_count": null,
   "metadata": {},
   "outputs": [],
   "source": [
    "orComposition = Forall((A, B, Cetc), Equals(Or(A, B, Cetc), Or(A, Or(B, Cetc))))\n",
    "orComposition"
   ]
  },
  {
   "cell_type": "code",
   "execution_count": null,
   "metadata": {},
   "outputs": [],
   "source": [
    "iffDef = Forall((A, B), Equals(Iff(A, B), And(Implies(A, B), Implies(B, A))))\n",
    "iffDef"
   ]
  },
  {
   "cell_type": "code",
   "execution_count": null,
   "metadata": {},
   "outputs": [],
   "source": [
    "eqTrueIntro = Forall(A, Implies(A, Equals(A, TRUE)))\n",
    "eqTrueIntro"
   ]
  },
  {
   "cell_type": "code",
   "execution_count": null,
   "metadata": {},
   "outputs": [],
   "source": [
    "eqTrueElim = Forall(A, Implies(Equals(A, TRUE), A))\n",
    "eqTrueElim"
   ]
  },
  {
   "cell_type": "code",
   "execution_count": null,
   "metadata": {},
   "outputs": [],
   "source": [
    "impliesTF = Equals(Implies(TRUE, FALSE), FALSE)\n",
    "impliesTF"
   ]
  },
  {
   "cell_type": "code",
   "execution_count": null,
   "metadata": {},
   "outputs": [],
   "source": [
    "contradictoryValidation = Forall(A, Implies(Implies(Not(A), FALSE), A), domain=BOOLEANS)\n",
    "contradictoryValidation"
   ]
  },
  {
   "cell_type": "code",
   "execution_count": null,
   "metadata": {},
   "outputs": [],
   "source": [
    "%end_axioms"
   ]
  },
  {
   "cell_type": "code",
   "execution_count": null,
   "metadata": {},
   "outputs": [],
   "source": []
  }
 ],
 "metadata": {
  "kernelspec": {
   "display_name": "Python 3",
   "language": "python",
   "name": "python3"
  }
 },
 "nbformat": 4,
 "nbformat_minor": 0
}
