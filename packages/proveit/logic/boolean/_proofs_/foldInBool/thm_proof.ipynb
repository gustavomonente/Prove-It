{
 "cells": [
  {
   "cell_type": "markdown",
   "metadata": {},
   "source": [
    "Proof of <a class=\"ProveItLink\" href=\"../../../_context_.ipynb\">proveit</a>.<a class=\"ProveItLink\" href=\"../../_context_.ipynb\">logic</a>.<a class=\"ProveItLink\" href=\"../_context_.ipynb\">boolean</a>.<a class=\"ProveItLink\" href=\"../_theorems_.ipynb#foldInBool\">foldInBool</a> theorem\n",
    "========"
   ]
  },
  {
   "cell_type": "code",
   "execution_count": null,
   "metadata": {},
   "outputs": [],
   "source": [
    "import proveit\n",
    "from proveit import defaults\n",
    "from proveit._common_ import A\n",
    "from proveit.logic import InSet\n",
    "from proveit.logic.boolean._axioms_ import boolsDef\n",
    "context = proveit.Context() # the theorem's context"
   ]
  },
  {
   "cell_type": "code",
   "execution_count": null,
   "metadata": {},
   "outputs": [],
   "source": [
    "%proving foldInBool"
   ]
  },
  {
   "cell_type": "code",
   "execution_count": null,
   "metadata": {},
   "outputs": [],
   "source": [
    "defaults.assumptions = foldInBool.conditions"
   ]
  },
  {
   "cell_type": "code",
   "execution_count": null,
   "metadata": {},
   "outputs": [],
   "source": [
    "boolsDef"
   ]
  },
  {
   "cell_type": "code",
   "execution_count": null,
   "metadata": {},
   "outputs": [],
   "source": [
    "A_in_TorF = InSet(A, boolsDef.rhs).prove()"
   ]
  },
  {
   "cell_type": "code",
   "execution_count": null,
   "metadata": {},
   "outputs": [],
   "source": [
    "boolsDef.subLeftSideInto(A_in_TorF)"
   ]
  },
  {
   "cell_type": "code",
   "execution_count": null,
   "metadata": {},
   "outputs": [],
   "source": [
    "%qed"
   ]
  },
  {
   "cell_type": "code",
   "execution_count": null,
   "metadata": {},
   "outputs": [],
   "source": []
  }
 ],
 "metadata": {
  "kernelspec": {
   "display_name": "Python 3",
   "language": "python",
   "name": "python3"
  }
 },
 "nbformat": 4,
 "nbformat_minor": 0
}
