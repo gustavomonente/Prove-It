{
 "cells": [
  {
   "cell_type": "markdown",
   "metadata": {},
   "source": [
    "Proof of <a class=\"ProveItLink\" href=\"../../../_context_.ipynb\">proveit</a>.<a class=\"ProveItLink\" href=\"../../_context_.ipynb\">logic</a>.<a class=\"ProveItLink\" href=\"../_context_.ipynb\">boolean</a>.<a class=\"ProveItLink\" href=\"../_theorems_.ipynb#falseEqFalse\">falseEqFalse</a> theorem\n",
    "========"
   ]
  },
  {
   "cell_type": "code",
   "execution_count": 1,
   "metadata": {},
   "outputs": [],
   "source": [
    "import proveit\n",
    "context = proveit.Context('..') # the theorem's context is in the parent directory"
   ]
  },
  {
   "cell_type": "code",
   "execution_count": 2,
   "metadata": {},
   "outputs": [
    {
     "name": "stdout",
     "output_type": "stream",
     "text": [
      "Beginning proof of falseEqFalse\n",
      "Recorded 'presuming' information\n",
      "Presuming previous theorem (applied transitively).\n"
     ]
    },
    {
     "data": {
      "text/html": [
       "<strong id=\"falseEqFalse\">falseEqFalse:</strong> <a class=\"ProveItLink\" href=\"../__pv_it/b6aa955766fcceb06fdbaf8194d3185e358b5f140/expr.ipynb\"><img src=\"data:image/png;base64,iVBORw0KGgoAAAANSUhEUgAAADoAAAAOBAMAAACMfhKgAAAAIVBMVEX///8yMjJ2dnZUVFQQEBAi\n",
       "IiJmZmaIiIiqqqrMzMwAAAAsw9r6AAAAAXRSTlMAQObYZgAAAC5JREFUGNNjYGBgmMGADcBE27HK\n",
       "tg8SWUVBEBAbIHuFqWVyamioS2hoMJoUVBQAPnsTjiuM4g8AAAAASUVORK5CYII=\n",
       "\" style=\"display:inline;vertical-align:middle;\" /></a><br>(see <a class=\"ProveItLink\" href=\"../__pv_it/b6aa955766fcceb06fdbaf8194d3185e358b5f140/dependencies.ipynb\">dependencies</a>)<br>"
      ],
      "text/plain": [
       "falseEqFalse: FALSE = FALSE"
      ]
     },
     "execution_count": 2,
     "metadata": {},
     "output_type": "execute_result"
    }
   ],
   "source": [
    "%proving falseEqFalse presuming []"
   ]
  },
  {
   "cell_type": "code",
   "execution_count": 3,
   "metadata": {},
   "outputs": [
    {
     "data": {
      "text/html": [
       "<table><tr><th>&nbsp;</th><th>step type</th><th>requirements</th><th>statement</th></tr>\n",
       "<tr><td><a name=\"-0x7df43e82f6625fc2_step0\">0</a></td><td>instantiation</td><td><a href=\"#-0x7df43e82f6625fc2_step1\">1</a></td><td><span style=\"font-size:20px;\"> <a class=\"ProveItLink\" href=\"../__pv_it/2fb5bc76ef49305f413570c65879b3faddf6bad20/proof.ipynb\" style=\"text-decoration: none\">&#x22A2;&nbsp;</a><a class=\"ProveItLink\" href=\"../__pv_it/b6aa955766fcceb06fdbaf8194d3185e358b5f140/expr.ipynb\"><img src=\"data:image/png;base64,iVBORw0KGgoAAAANSUhEUgAAADoAAAAOBAMAAACMfhKgAAAAIVBMVEX///8yMjJ2dnZUVFQQEBAi\n",
       "IiJmZmaIiIiqqqrMzMwAAAAsw9r6AAAAAXRSTlMAQObYZgAAAC5JREFUGNNjYGBgmMGADcBE27HK\n",
       "tg8SWUVBEBAbIHuFqWVyamioS2hoMJoUVBQAPnsTjiuM4g8AAAAASUVORK5CYII=\n",
       "\" style=\"display:inline;vertical-align:middle;\" /></a></span></td></tr>\n",
       "<tr><td>&nbsp;</td><td colspan=4 style=\"text-align:left\"><span style=\"font-size:20px;\"><a class=\"ProveItLink\" href=\"../../../__pv_it/72df168d2bfb4e0140af90912ebf83b13772060b0/expr.ipynb\"><img src=\"data:image/png;base64,iVBORw0KGgoAAAANSUhEUgAAAAsAAAAJBAMAAAAWSsseAAAALVBMVEX///9mZmaqqqrMzMxEREQy\n",
       "MjIiIiKYmJh2dna6urrc3NxUVFSIiIju7u4AAACJHQtQAAAAAXRSTlMAQObYZgAAAEJJREFUCNdj\n",
       "YLhzeuWJAwy8Dew5bAEMHBc43nIuYOBlYHFgAAG+A2DKzgBIMF04x8BzgWGegh/DcgaG22fuiBcw\n",
       "AAATyhBrnyPYZQAAAABJRU5ErkJggg==\n",
       "\" style=\"display:inline;vertical-align:middle;\" /></a> : <a class=\"ProveItLink\" href=\"../__pv_it/83a1ddf0f64531c80e7f41ea6b904214668818b30/expr.ipynb\"><img src=\"data:image/png;base64,iVBORw0KGgoAAAANSUhEUgAAAA4AAAAOBAMAAADtZjDiAAAAG1BMVEX///9UVFQQEBAiIiJmZmaI\n",
       "iIiqqqrMzMwAAADC2JlRAAAAAXRSTlMAQObYZgAAABlJREFUCNdjYGBgKGOAgFRa0s7GxkrGxoYA\n",
       "QSUGlQeagkgAAAAASUVORK5CYII=\n",
       "\" style=\"display:inline;vertical-align:middle;\" /></a></span></td></tr><tr><td><a name=\"-0x7df43e82f6625fc2_step1\">1</a></td><td>axiom</td><td></td><td><span style=\"font-size:20px;\"> <a class=\"ProveItLink\" href=\"../../equality/_axioms_.ipynb#equalsReflexivity\" style=\"text-decoration: none\">&#x22A2;&nbsp;</a><a class=\"ProveItLink\" href=\"../../equality/__pv_it/3580c570dea9cff591db97db2d7abd66a33477f40/expr.ipynb\"><img src=\"data:image/png;base64,iVBORw0KGgoAAAANSUhEUgAAAGIAAAAUBAMAAACE8PXhAAAAMFBMVEX///8QEBCIiIhmZma6urrM\n",
       "zMxUVFQiIiJERETc3Nzu7u6qqqp2dnaYmJgyMjIAAAAcRTyBAAAAAXRSTlMAQObYZgAAAUFJREFU\n",
       "KM9jYMAAnBcYcALuCQwMD0CMu8iiKxjwgEwGhtMg+hWy4Et8OtYxMMwAuaMBSYzXAJ8OHgUGvgVA\n",
       "agOSGPsEfDq4BBh4T61aNR1ZbDoDXvCEgeFHR0cNspAyEC9Sm6KjgKYUKnaYgSGVgaETWaYXaPUB\n",
       "3iJ2UCDyvAMDkM9gYvcYGJwZuB4g66gGKlzA84sFzTswse1AnzIwoUSZCNA8Bo4GDC9DxeKBmi+w\n",
       "M6DpYGDgV8D0M0QMqIPzQRiQcchULQDuKqA4hAP1RwIDQswdiDtTGBiYFuSxO8B9zr1AHyiClqKg\n",
       "YkCfM2wuYGBgZXgLkwIGn/+Gfoa5aG6CidnA3fcTJgW0dpnSIlv0BAwTewpKSCD7WT+wEpdKCqCM\n",
       "+TwPeIhNiVA7rxw6BRPsJJDaMQHeHIXVOHy5lncCAwDGgVl+SYhJvAAAAABJRU5ErkJggg==\n",
       "\" style=\"display:inline;vertical-align:middle;\" /></a></span></td></tr>\n",
       "<tr><td>&nbsp;</td><td colspan=4 style-\"text-align:left\"><a class=\"ProveItLink\" href=\"../../equality/_axioms_.ipynb#equalsReflexivity\">proveit.logic.equality.equalsReflexivity</a></td></tr></table>"
      ],
      "text/plain": [
       "\tstep type\trequirements\tstatement\n",
       "0\tinstantiation\t1\t|- FALSE = FALSE\n",
       "\tx : FALSE\n",
       "1\taxiom\t\t|- forall_{x} (x = x)\n",
       "\tproveit.logic.equality.equalsReflexivity"
      ]
     },
     "execution_count": 3,
     "metadata": {},
     "output_type": "execute_result"
    }
   ],
   "source": [
    "%qed # automatically proven via Equals.concludeViaReflexivity"
   ]
  },
  {
   "cell_type": "code",
   "execution_count": null,
   "metadata": {},
   "outputs": [],
   "source": []
  }
 ],
 "metadata": {
  "kernelspec": {
   "display_name": "Python 3",
   "language": "python",
   "name": "python3"
  }
 },
 "nbformat": 4,
 "nbformat_minor": 0
}
