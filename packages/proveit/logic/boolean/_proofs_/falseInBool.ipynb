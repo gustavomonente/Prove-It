{
 "cells": [
  {
   "cell_type": "markdown",
   "metadata": {},
   "source": [
    "Proof of <a class=\"ProveItLink\" href=\"../../../_context_.ipynb\">proveit</a>.<a class=\"ProveItLink\" href=\"../../_context_.ipynb\">logic</a>.<a class=\"ProveItLink\" href=\"../_context_.ipynb\">boolean</a>.<a class=\"ProveItLink\" href=\"../_theorems_.ipynb#falseInBool\">falseInBool</a> theorem\n",
    "========"
   ]
  },
  {
   "cell_type": "code",
   "execution_count": 1,
   "metadata": {},
   "outputs": [],
   "source": [
    "import proveit\n",
    "from proveit._common_ import A\n",
    "from proveit.logic import TRUE, FALSE, Or, Equals\n",
    "from proveit.logic.boolean._theorems_ import foldInBool\n",
    "from proveit.logic.boolean.disjunction._theorems_ import falseOrTrue\n",
    "from proveit.logic.equality._theorems_ import unfoldNotEquals, subLeftSideInto\n",
    "context = proveit.Context('..') # the theorem's context is in the parent directory"
   ]
  },
  {
   "cell_type": "code",
   "execution_count": 2,
   "metadata": {},
   "outputs": [
    {
     "name": "stdout",
     "output_type": "stream",
     "text": [
      "Beginning proof of falseInBool\n",
      "Recorded 'presuming' information\n",
      "falseInBool has been proven.  Now simply execute \"%qed\".\n"
     ]
    },
    {
     "data": {
      "text/html": [
       "<strong id=\"falseInBool\">falseInBool:</strong> <a class=\"ProveItLink\" href=\"../__pv_it/05f9092134d7f41a46dc315acb203c11685a8bdd0/expr.ipynb\"><img src=\"data:image/png;base64,iVBORw0KGgoAAAANSUhEUgAAADYAAAAPBAMAAABdHiGLAAAAMFBMVEX///92dna6urrc3Nzu7u4y\n",
       "MjJERESYmJhUVFQQEBAiIiJmZmaIiIiqqqrMzMwAAADwFAjMAAAAAXRSTlMAQObYZgAAAJtJREFU\n",
       "GNNjYGBgeMuABnhWpn2d1QRm3kGXY2DlO+DmXYBdjo2pgOdBAqpc2apVAVA53guocs+OIPQxqqDI\n",
       "sYQgman14gGyHIcBQm7W/0ko7mRDdgtjuQCy3MtQIIC5hSFBHVnODFkfQwIHshwnilwDK7Ic9wEU\n",
       "fYUo/luLCDMBRukGhl2rVs1ctWoFWMgjyQE9rBFAMQsSZhAAAHA/MhEUp0UxAAAAAElFTkSuQmCC\n",
       "\" style=\"display:inline;vertical-align:middle;\" /></a><br>(see <a class=\"ProveItLink\" href=\"../__pv_it/05f9092134d7f41a46dc315acb203c11685a8bdd0/dependencies.ipynb\">dependencies</a>)<br>"
      ],
      "text/plain": [
       "falseInBool: FALSE in BOOLEANS"
      ]
     },
     "execution_count": 2,
     "metadata": {},
     "output_type": "execute_result"
    }
   ],
   "source": [
    "%proving falseInBool presuming [falseOrTrue, unfoldNotEquals]"
   ]
  },
  {
   "cell_type": "code",
   "execution_count": 3,
   "metadata": {},
   "outputs": [
    {
     "data": {
      "text/html": [
       "<span style=\"font-size:20px;\"> <a class=\"ProveItLink\" href=\"foldInBool.ipynb\" style=\"text-decoration: none\">&#x22A2;&nbsp;</a><a class=\"ProveItLink\" href=\"../__pv_it/4a4680c976a706ef68e9f484bdbd57d68707e32e0/expr.ipynb\"><img src=\"data:image/png;base64,iVBORw0KGgoAAAANSUhEUgAAAO0AAAAWBAMAAADeNgZmAAAAMFBMVEX///8QEBCIiIhmZma6urrM\n",
       "zMxUVFQiIiJERETc3Nzu7u6qqqp2dnaYmJgyMjIAAAAcRTyBAAAAAXRSTlMAQObYZgAAArFJREFU\n",
       "SMe1Vs9r1EAUfubH7iabTXso9CYL/gEtiognFwpWCoU9FU+6YAU9WfHgwR9EL6aHsjlZb41U2lJB\n",
       "Fzx5EJfWQ6kKuYoWFjxZ0PYgWA9a38wkmZc2yYrEBzsz+b5Mvpk338wswH8JI8hjX+KvxxpbReuu\n",
       "iOpCElWuu7+HpwFKHsBbBmwXrftFVDsHYFuvrywGYOJkH7GsOAXL1kZFteMn8YoWKE0UW8MhIGV1\n",
       "CtYte7x6esYLx/Hg5t1Qt9pB3ccIba6uzhed5vCDwUiD1/p9P56vNYG6NuJ7rns7pauXgul/Sx/j\n",
       "pea/FrZ+5ss8j081McG4DpcBZjkoSk28YREojmojavWh53j5BC7WeeOqXN/h/SGWdzTWGLcXtr8L\n",
       "CuSrIYSx4d5z3S6cjp4P0Lg1WBHTt3jZgAXhL4f4ytrq4ghn0AOg8Gws/iK6epdAEl+CGtPLpsMY\n",
       "4t+4dOIaV9SPfsMIdcGZRGQXUxaU+bubN4huqUkgiduegrl8mE1TXVyxIzyTBp0vOCWha/Sm+KDq\n",
       "LtEtU0jimBmHpTObJnnGzVke5I+DVLdl45BmmDumxQKdIrrzEVRyMeYivNqCN2C0cmjpKwN17V3+\n",
       "eDwx30/CV/CCicNHGCG65ygkcc3Bk1f1cmgR6+HQKz9F9jrxOdm11nFwKvPHADO7+fld25e6Zykk\n",
       "P6z3wGos5dEixvFm2N+GavsHN7R5ZSJxL4DN/FFjvVUfFppS93wElZgVv8YTaoHpnMyjE+dkHNqG\n",
       "OCejWI5baO6BQOouU0hOqIb5ed/Kpem9kBlrcbc9MNp3iJ99AsmDQcVd9Lx5mA6PFTU+sGZzZc3e\n",
       "YUzoKuk3lM065dOJez8jKl6WLqTfyK+iRh+6z/+cD5CpO5man1Fihzz6H0IN75a0i06J900fun/8\n",
       "AW+5zeQvOwB3AAAAAElFTkSuQmCC\n",
       "\" style=\"display:inline;vertical-align:middle;\" /></a></span>"
      ],
      "text/plain": [
       "|- forall_{A | (A = TRUE) or (A = FALSE)} (A in BOOLEANS)"
      ]
     },
     "execution_count": 3,
     "metadata": {},
     "output_type": "execute_result"
    }
   ],
   "source": [
    "foldInBool"
   ]
  },
  {
   "cell_type": "code",
   "execution_count": 4,
   "metadata": {},
   "outputs": [
    {
     "data": {
      "text/html": [
       "<span style=\"font-size:20px;\"> <a class=\"ProveItLink\" href=\"../disjunction/_proofs_/falseOrTrue.ipynb\" style=\"text-decoration: none\">&#x22A2;&nbsp;</a><a class=\"ProveItLink\" href=\"../disjunction/__pv_it/8124e15701680a1378c57092c649e314fb9f14170/expr.ipynb\"><img src=\"data:image/png;base64,iVBORw0KGgoAAAANSUhEUgAAADUAAAAPBAMAAAC2KZqIAAAAMFBMVEX///92dnZERES6urrc3Nwy\n",
       "MjLu7u6YmJhUVFQQEBAiIiJmZmaIiIiqqqrMzMwAAAAH70cZAAAAAXRSTlMAQObYZgAAAH9JREFU\n",
       "GNNjYGBgeMuACrhXgUEDiH0HIsQHJh+ASd4DUHVQOQ6QMPsBrHJ8IEO4ErDKMYQAsTUDdrnbQKyC\n",
       "Q44LaK4CDjmeAwwcBjjk2BYwpDLgkGPYyyCLU86VYQFOOabnB3DK8XUloMjtWrVq5qpVKyBC0TBV\n",
       "zAUM6MANhQcAQLgq4na1HsoAAAAASUVORK5CYII=\n",
       "\" style=\"display:inline;vertical-align:middle;\" /></a></span>"
      ],
      "text/plain": [
       "|- FALSE or TRUE"
      ]
     },
     "execution_count": 4,
     "metadata": {},
     "output_type": "execute_result"
    }
   ],
   "source": [
    "falseOrTrue"
   ]
  },
  {
   "cell_type": "code",
   "execution_count": 5,
   "metadata": {},
   "outputs": [
    {
     "data": {
      "text/html": [
       "<strong id=\"FeqT_eval\">FeqT_eval:</strong> <span style=\"font-size:20px;\"> <a class=\"ProveItLink\" href=\"../__pv_it/3dc09130790b0d7dbaa06aadcb6b06031bc1b8240/proof.ipynb\" style=\"text-decoration: none\">&#x22A2;&nbsp;</a><a class=\"ProveItLink\" href=\"../__pv_it/068deb4c65226597284b7be44ae6c7f52821606c0/expr.ipynb\"><img src=\"data:image/png;base64,iVBORw0KGgoAAAANSUhEUgAAAHUAAAAUBAMAAABBgm9wAAAAMFBMVEX///9UVFTMzMx2dna6uroQ\n",
       "EBCqqqqIiIgiIiJmZmYyMjJERETu7u6YmJjc3NwAAAC+aOQFAAAAAXRSTlMAQObYZgAAALhJREFU\n",
       "OMtjYOC7wIAXsD3ALXcaRDAlYIhzdoCBAIMcFk1Q9evAhhdgtRIsegqnDO8EQnqZC3DJcDwgpJcn\n",
       "AJfMCwZCehmW4JKpJKzXEpfMXhS9zKvAYAKK3lu4ZNoI25uBSyaEsF59Wuhtw+ZfARS9Hrhk9hK2\n",
       "9xYuGUvCeifjkvEAp/rWCFCqRwcskCy2CDOXQNRzPGAgAHgacMnwTiCkl7kAp9Q+QnpPEcj7+AAe\n",
       "wwmVObw4AwQAv2NEn5KblgsAAAAASUVORK5CYII=\n",
       "\" style=\"display:inline;vertical-align:middle;\" /></a></span><br>"
      ],
      "text/plain": [
       "FeqT_eval: |- (FALSE = TRUE) = FALSE"
      ]
     },
     "execution_count": 5,
     "metadata": {},
     "output_type": "execute_result"
    }
   ],
   "source": [
    "FeqT_eval = Equals(FALSE, TRUE).evaluation()"
   ]
  },
  {
   "cell_type": "code",
   "execution_count": 6,
   "metadata": {},
   "outputs": [
    {
     "data": {
      "text/html": [
       "<strong id=\"FeqF_eval\">FeqF_eval:</strong> <span style=\"font-size:20px;\"> <a class=\"ProveItLink\" href=\"../__pv_it/8ba4ce440fd2454b7b29c713bbc64690bde77d040/proof.ipynb\" style=\"text-decoration: none\">&#x22A2;&nbsp;</a><a class=\"ProveItLink\" href=\"../__pv_it/c97a331222fe8fa5167662c68fc9a21a28b62edb0/expr.ipynb\"><img src=\"data:image/png;base64,iVBORw0KGgoAAAANSUhEUgAAAHUAAAAUBAMAAABBgm9wAAAAMFBMVEX///9UVFTMzMx2dna6uroQ\n",
       "EBCqqqqIiIgiIiJmZmYyMjJERETu7u6YmJjc3NwAAAC+aOQFAAAAAXRSTlMAQObYZgAAALdJREFU\n",
       "OMtjYOC7wIAXsD3ALXcaRDAlYJOCiMqhC3N2gIEAA8M6sOEFWK0Ei57CKcM7gZBe5gJcMhwPCOnl\n",
       "CcAl84KBkF6GJbhkKgnrtcQlsxdFL/MqMJiAovcWLpk2wvZm4JIJIaxXnxZ627D5VwBFrwcumb2E\n",
       "7b2FS8aSsN7JuGQ8wGm7NQKcttFSPFR0EaZelguINIkP8DTgkuGdQEgvcwFOqX2E9J4ikPfxATyG\n",
       "EypzeHEGCACuoUSfGsgJUAAAAABJRU5ErkJggg==\n",
       "\" style=\"display:inline;vertical-align:middle;\" /></a></span><br>"
      ],
      "text/plain": [
       "FeqF_eval: |- (FALSE = FALSE) = TRUE"
      ]
     },
     "execution_count": 6,
     "metadata": {},
     "output_type": "execute_result"
    }
   ],
   "source": [
    "FeqF_eval = Equals(FALSE, FALSE).evaluation()"
   ]
  },
  {
   "cell_type": "code",
   "execution_count": 7,
   "metadata": {},
   "outputs": [
    {
     "data": {
      "text/html": [
       "<strong id=\"FeqT_or_T\">FeqT_or_T:</strong> <span style=\"font-size:20px;\"> <a class=\"ProveItLink\" href=\"../__pv_it/3fc968b6f51c908b98605ea840910b6ef89e30fe0/proof.ipynb\" style=\"text-decoration: none\">&#x22A2;&nbsp;</a><a class=\"ProveItLink\" href=\"../__pv_it/cadf9765234bad5e45dd99eff50d312f1784d3420/expr.ipynb\"><img src=\"data:image/png;base64,iVBORw0KGgoAAAANSUhEUgAAAHAAAAAUBAMAAACnq6Q0AAAAMFBMVEX///9UVFTMzMx2dna6uroQ\n",
       "EBCqqqqIiIgiIiJmZmYyMjJERETu7u6YmJjc3NwAAAC+aOQFAAAAAXRSTlMAQObYZgAAAQRJREFU\n",
       "OMtjYOC7wIAXsD3AIXEaRDAlYIhzdoCBAIMcqvgMsHAjA8M6sLEFWC0Di54CsxXA5kPE00EE7wRC\n",
       "GpnBpBCIuI6kkeMBIY08ASBSEUT0IGl8wUBII8MSEMEFtIBlApLGSsIaLcFsoCbuB0ga96JoZF4F\n",
       "BhNQNN4Ckw0MDNoMSBrbCNuYASbLGRhEkDWGENaoDyZPMPAsIEsjZwJzAm6nQv0ogKLRA0zyLeBg\n",
       "YMAZOFhthAQOw6brKBotCWucDOEp9qBo9AAn59YIUHJGByyQjLMIwuOaABP3RSQ5fICnAULzHUAR\n",
       "5p1ASCNzAXbxfYQ0nsKXkfEBXCYTKjp4sQcCAD38SGTYEQDaAAAAAElFTkSuQmCC\n",
       "\" style=\"display:inline;vertical-align:middle;\" /></a></span><br>"
      ],
      "text/plain": [
       "FeqT_or_T: |- (FALSE = TRUE) or TRUE"
      ]
     },
     "execution_count": 7,
     "metadata": {},
     "output_type": "execute_result"
    }
   ],
   "source": [
    "FeqT_or_T = FeqT_eval.subLeftSideInto(falseOrTrue)"
   ]
  },
  {
   "cell_type": "code",
   "execution_count": 8,
   "metadata": {},
   "outputs": [
    {
     "data": {
      "text/html": [
       "<strong id=\"innerExpr\">innerExpr:</strong> <a class=\"ProveItLink\" href=\"../__pv_it/c7a3a6ed1cb270005e1806d851c2fd76d8d5f2380/expr.ipynb\"><img src=\"data:image/png;base64,iVBORw0KGgoAAAANSUhEUgAAAVUAAAAyCAMAAADbVLhKAAAANlBMVEX///8oKCgNDQ2IiIiYmJgy\n",
       "MjJUVFRERETc3NyqqqrMzMwiIiIQEBC6urpmZmZ2dnbu7u4AAAAKyl11AAAAAXRSTlMAQObYZgAA\n",
       "BD5JREFUeNrtmttinCAQhmk5n+H9X7aCrg6KrhHSJg1zQ+LusPA5Dj8jCC0WvEPDWkxwub9kjVYD\n",
       "TJsRw0NxQcaPR6qyorwQlA1vfDCljTdPkLJ9alK0+RGq7WFsWkMAIvIDM0b9NVQWd1+QNNo3Y/K2\n",
       "MR4CL9s0EHnH0WlgbLrAHmJd/SpzEZHBb8ZjkAXD3vSv/aHTT6dKRdmmm4k/EGnbdwMFEVL98+S+\n",
       "0ou5uAj8I62483dUj8H86VSJK9sGqshvf7OVBXnf2cuvNhcVgX9kX5UqLp9TLcq2hWowIJutPxDe\n",
       "JyFzPpcA1qfwdalKVy4HZdtEFVF7SCz2zqK9+NWpsltUJcY55BU1TmHMMLIY89whdQRjJxe56zFW\n",
       "M9WXy3r/2TVV4bzDZg2ScuHUReS6sm2jChT66+bx0yUMDHLxa6Aq07Pm8sea47QgYZuUWaZq0hi4\n",
       "y09FguszVeCyPDH0kqpN3dBY54gkhMxJ2VapegrMXVAldH/zFD+DCge5+LVQNVMit1ki8IwyazAV\n",
       "E0/K5gQ99c7ppgGAy50MEExC5PgJVYSBtNaybNtiVYJfwvkDZk9zKRjk4teSAZDC3mWIM7ksUkUW\n",
       "EEsgTAk6zNI1LHl1dblD1WX+epvu71+0sLhla2PLto2qigCH3omti0Eufg1UA51SzRyaPN+pLB1K\n",
       "qvwlKGaqwOUOVcOz56bzdsuwBXuYz6OK0vrgT/cTxSDbqXI9P/DhgmqKVUAVuNygOoe5jCfr07RK\n",
       "gn5uZYAir7ILqhb+kqCH3HM2SNucAZbuhFUVqtnLJpSUb3kVuNyimggxum3MdXUzdX+1uh2rpHjg\n",
       "uTrfAZSDbF+tcuj7qEiAVNVMNc84q1aRn0mXPwQudzRAUhZkEl+r+C3KJqWAfGkh30VZOV/WNS52\n",
       "AMUgF78nVBWLkQkkmMM+YEry/0ryaKa+aUw1AI6SXp37Ds6TSa+m2sHqcqZXLX9ZmkZgk9AVDNeX\n",
       "X6dQ5Zld2rliYsxaMXlrFt6yXfmsVGEXg1z8nsXqZ1hrHaC2Y31c/tqlURE+5vf/UK1VVx6PBbf5\n",
       "VecCSIrovwnVdUvJm4P1XJw2VAIRKFSTaL8L1UrVuvH+PParzgXuvPVfgoqw/ipvWIho88OVNyxZ\n",
       "Ub7G5aNAwzoZW2B6YweMjlgTzkBZGCh6mtR4Ul9uUO1qKpe2nBnnK3rKnCWhOjNWq35Q15pmo7I6\n",
       "HGD4wWa3V9e4xy5A4hGo0x4h9t2xDqp5x7rtg0N0g2oX616zGlSfUN2dhUCaDarNVPdnIeB7k0H1\n",
       "IdXDWYiRATpQPZyFGFQ7UD2chRhU26kez0IMqj2o7s9CDKodMsDhLMTQAI+ovjsLsderlgyo/+g8\n",
       "wE+iigbVblRBRcXQAaSLKVj9Y+PddR/DUNGLkQI6JQBeMh66qANUbcr31SSOYwGtJg3dMwxuJIE2\n",
       "E9s56D/pYzfBvbgvWwAAAABJRU5ErkJggg==\n",
       "\" style=\"display:inline;vertical-align:middle;\" /></a><br>"
      ],
      "text/plain": [
       "innerExpr: {lambda:[_a -> ((FALSE = TRUE) or _a)], ${_{-}a}$:TRUE}"
      ]
     },
     "execution_count": 8,
     "metadata": {},
     "output_type": "execute_result"
    }
   ],
   "source": [
    "# just replace TRUE to the right of the logical Or\n",
    "innerExpr = FeqT_or_T.innerExpr().operands[1]"
   ]
  },
  {
   "cell_type": "code",
   "execution_count": 9,
   "metadata": {},
   "outputs": [
    {
     "data": {
      "text/html": [
       "<span style=\"font-size:20px;\"> <a class=\"ProveItLink\" href=\"../__pv_it/7ddccbaf36004d1a27512763328ccb5f138b3e3e0/proof.ipynb\" style=\"text-decoration: none\">&#x22A2;&nbsp;</a><a class=\"ProveItLink\" href=\"../__pv_it/c40b944866cd342d76a0857a55169889b56035e60/expr.ipynb\"><img src=\"data:image/png;base64,iVBORw0KGgoAAAANSUhEUgAAAKsAAAAUBAMAAAAAWtCKAAAAMFBMVEX///9UVFTMzMx2dna6uroQ\n",
       "EBCqqqqIiIgiIiJmZmYyMjJERETu7u6YmJjc3NwAAAC+aOQFAAAAAXRSTlMAQObYZgAAAYpJREFU\n",
       "OMuVlb9Lw0AUx782taZJGoo4S7u4OOgmdero6KDgmE0ncRO3OlgylBJwcYziooOIu8WlIO3STeog\n",
       "HV0E/wTvvWuFnEdefcP3ci93n7x3P16AcIRcK01Mz1f+BByTDEkK0Z+X5ZitilXjRfBIumYlsneB\n",
       "AnngkE6sgbJ3wM81/jqJx+EfWrHsDVKgkkhYh3WZ5I1kDAGLLcCdSNhgl7RO0iHpitg+8AkJi9tZ\n",
       "6kXKLGyJWK+JMxnb4GeF9CmzpUTEOgmeM1jnni3JYN9ZVZDr1PqjDHabJ9xlsJUUbTnaI9ZTYIVa\n",
       "NxKjLbWwJ2M3WF/54ACLTRFb+J4fW46caH5s27a21Qx2hzVMXVgWQa/tdQZbbBlbZo1Wbxme+DKY\n",
       "W2aLVm1ZQ8Ze6l69Mzs9Era8SRmqonJxQEXFtKIO7Eb3vGSWIa7ieD+Oz43hv16vNr28eRboa4Xw\n",
       "RbddaYI6NNNSk2eOsUBjEatKDXrSoIHR96X8+HwPJWzPWsZzjL8r/XQq//7pfAA/l6pyKNxL55wA\n",
       "AAAASUVORK5CYII=\n",
       "\" style=\"display:inline;vertical-align:middle;\" /></a></span>"
      ],
      "text/plain": [
       "|- (FALSE = TRUE) or (FALSE = FALSE)"
      ]
     },
     "execution_count": 9,
     "metadata": {},
     "output_type": "execute_result"
    }
   ],
   "source": [
    "FeqF_eval.subLeftSideInto(innerExpr) "
   ]
  },
  {
   "cell_type": "code",
   "execution_count": 10,
   "metadata": {},
   "outputs": [
    {
     "data": {
      "text/html": [
       "<span style=\"font-size:20px;\"> <a class=\"ProveItLink\" href=\"../__pv_it/dc1ce39ab08cc32a809c1fd58bb11cbfc622a30f0/proof.ipynb\" style=\"text-decoration: none\">&#x22A2;&nbsp;</a><a class=\"ProveItLink\" href=\"../__pv_it/05f9092134d7f41a46dc315acb203c11685a8bdd0/expr.ipynb\"><img src=\"data:image/png;base64,iVBORw0KGgoAAAANSUhEUgAAADYAAAAPBAMAAABdHiGLAAAAMFBMVEX///92dna6urrc3Nzu7u4y\n",
       "MjJERESYmJhUVFQQEBAiIiJmZmaIiIiqqqrMzMwAAADwFAjMAAAAAXRSTlMAQObYZgAAAJtJREFU\n",
       "GNNjYGBgeMuABnhWpn2d1QRm3kGXY2DlO+DmXYBdjo2pgOdBAqpc2apVAVA53guocs+OIPQxqqDI\n",
       "sYQgman14gGyHIcBQm7W/0ko7mRDdgtjuQCy3MtQIIC5hSFBHVnODFkfQwIHshwnilwDK7Ic9wEU\n",
       "fYUo/luLCDMBRukGhl2rVs1ctWoFWMgjyQE9rBFAMQsSZhAAAHA/MhEUp0UxAAAAAElFTkSuQmCC\n",
       "\" style=\"display:inline;vertical-align:middle;\" /></a></span>"
      ],
      "text/plain": [
       "|- FALSE in BOOLEANS"
      ]
     },
     "execution_count": 10,
     "metadata": {},
     "output_type": "execute_result"
    }
   ],
   "source": [
    "foldInBool.specialize({A:FALSE})"
   ]
  },
  {
   "cell_type": "code",
   "execution_count": 11,
   "metadata": {},
   "outputs": [
    {
     "data": {
      "text/html": [
       "<table><tr><th>&nbsp;</th><th>step type</th><th>requirements</th><th>statement</th></tr>\n",
       "<tr><td><a name=\"0x5dc2d924486fb2a2_step0\">0</a></td><td>instantiation</td><td><a href=\"#0x5dc2d924486fb2a2_step1\">1</a>, <a href=\"#0x5dc2d924486fb2a2_step2\">2</a></td><td><span style=\"font-size:20px;\"> <a class=\"ProveItLink\" href=\"../__pv_it/dc1ce39ab08cc32a809c1fd58bb11cbfc622a30f0/proof.ipynb\" style=\"text-decoration: none\">&#x22A2;&nbsp;</a><a class=\"ProveItLink\" href=\"../__pv_it/05f9092134d7f41a46dc315acb203c11685a8bdd0/expr.ipynb\"><img src=\"data:image/png;base64,iVBORw0KGgoAAAANSUhEUgAAADYAAAAPBAMAAABdHiGLAAAAMFBMVEX///92dna6urrc3Nzu7u4y\n",
       "MjJERESYmJhUVFQQEBAiIiJmZmaIiIiqqqrMzMwAAADwFAjMAAAAAXRSTlMAQObYZgAAAJtJREFU\n",
       "GNNjYGBgeMuABnhWpn2d1QRm3kGXY2DlO+DmXYBdjo2pgOdBAqpc2apVAVA53guocs+OIPQxqqDI\n",
       "sYQgman14gGyHIcBQm7W/0ko7mRDdgtjuQCy3MtQIIC5hSFBHVnODFkfQwIHshwnilwDK7Ic9wEU\n",
       "fYUo/luLCDMBRukGhl2rVs1ctWoFWMgjyQE9rBFAMQsSZhAAAHA/MhEUp0UxAAAAAElFTkSuQmCC\n",
       "\" style=\"display:inline;vertical-align:middle;\" /></a></span></td></tr>\n",
       "<tr><td>&nbsp;</td><td colspan=4 style=\"text-align:left\"><span style=\"font-size:20px;\"><a class=\"ProveItLink\" href=\"../../../__pv_it/d3792d0d8642fdf1cd2a3a9b32c673ee13653de00/expr.ipynb\"><img src=\"data:image/png;base64,iVBORw0KGgoAAAANSUhEUgAAAA8AAAAOBAMAAAACpFvcAAAALVBMVEX///8iIiIQEBBERERUVFS6\n",
       "urqIiIjc3NxmZmaqqqru7u6YmJgyMjLMzMwAAACK9jtgAAAAAXRSTlMAQObYZgAAAFtJREFUCNdj\n",
       "YACBOwxQcA5Kc59bAGGs7CuAMDbkBYBp1gXzNoAZSxnuJYAZAQx1DSCa16PDzwCshIGB6QCIMYGB\n",
       "gVEBSLMDGTwPgIxCIGZ+zsCw+N0pBk67hw0AfpEVEQi8t+wAAAAASUVORK5CYII=\n",
       "\" style=\"display:inline;vertical-align:middle;\" /></a> : <a class=\"ProveItLink\" href=\"../__pv_it/83a1ddf0f64531c80e7f41ea6b904214668818b30/expr.ipynb\"><img src=\"data:image/png;base64,iVBORw0KGgoAAAANSUhEUgAAAA4AAAAOBAMAAADtZjDiAAAAG1BMVEX///9UVFQQEBAiIiJmZmaI\n",
       "iIiqqqrMzMwAAADC2JlRAAAAAXRSTlMAQObYZgAAABlJREFUCNdjYGBgKGOAgFRa0s7GxkrGxoYA\n",
       "QSUGlQeagkgAAAAASUVORK5CYII=\n",
       "\" style=\"display:inline;vertical-align:middle;\" /></a>, <a class=\"ProveItLink\" href=\"../../../__pv_it/4d98b438710c5ada9ffa4646bb123a7d0e69ec000/expr.ipynb\"><img src=\"data:image/png;base64,iVBORw0KGgoAAAANSUhEUgAAABAAAAAOBAMAAADUAYG5AAAALVBMVEX///8yMjKqqqoiIiLu7u7c\n",
       "3NyIiIjMzMwQEBC6urpERERmZmZUVFSYmJgAAACsPVCVAAAAAXRSTlMAQObYZgAAAGxJREFUCNdj\n",
       "YGC48+70nlUTGICgi4GB+zmQZn/LwMD5Gshge8rAwPsMyOBqYGDwMAEy+A4wsNs4ABl1Z68tVgBp\n",
       "ygtgYOkBMVaAOCChNyBGAsQYhnMTIMawvwJyGIHGzFjCwMAj92b3qUUMDAAXABxvZ4rl5AAAAABJ\n",
       "RU5ErkJggg==\n",
       "\" style=\"display:inline;vertical-align:middle;\" /></a> : <a class=\"ProveItLink\" href=\"../__pv_it/b5b8ce0f03ab68a7c7bb937dfeb4112a686e3cbb0/expr.ipynb\"><img src=\"data:image/png;base64,iVBORw0KGgoAAAANSUhEUgAAAA4AAAAOBAMAAADtZjDiAAAAG1BMVEX///+YmJi6urqIiIiqqqpU\n",
       "VFQiIiJmZmYAAAD2GhH1AAAAAXRSTlMAQObYZgAAABhJREFUCNdjKEsDgVQGIHBmgABa0YpADADk\n",
       "ogYfXGfJdgAAAABJRU5ErkJggg==\n",
       "\" style=\"display:inline;vertical-align:middle;\" /></a></span></td></tr><tr><td><a name=\"0x5dc2d924486fb2a2_step1\">1</a></td><td>axiom</td><td></td><td><span style=\"font-size:20px;\"> <a class=\"ProveItLink\" href=\"../disjunction/_axioms_.ipynb#leftInBool\" style=\"text-decoration: none\">&#x22A2;&nbsp;</a><a class=\"ProveItLink\" href=\"../disjunction/__pv_it/3f3431be224a134c1b974a7eef2d3730ddb1adf10/expr.ipynb\"><img src=\"data:image/png;base64,iVBORw0KGgoAAAANSUhEUgAAANQAAAAWBAMAAABK0K+UAAAAMFBMVEX///8QEBCIiIhmZma6urrM\n",
       "zMxUVFQiIiJERETc3Nzu7u6qqqp2dnaYmJgyMjIAAAAcRTyBAAAAAXRSTlMAQObYZgAAA1BJREFU\n",
       "SMetVl9IU1EY/3Xvne7e3ekeg0L2UNRLthrMLKtFUCKI4oP1ELSHAn1bRUVQOSJqWrDbSwkRXhBS\n",
       "fLCBDyUVLRQSM1kFFWi2qF6CyjTJjP5855zNe/dHodiBs+9+58/3+/6fAUUbN5bbdBlAin28LgKS\n",
       "FuHEkcpeXrcy9vZEEGgFHjP+YxGgygxBpnPWU01ax3agH+gkTo0UAeq5IFMLOeuReqx1AroXZSaR\n",
       "eBGgTgk3DvwQrPviybMZqLsEpXngHu3ru1YEJDUsEKRvImTnTMuq4V6i74H5aPT0cjKM/CVHgWOS\n",
       "j5M61y9O+03Lgcrxw0SHACLtfE381s4OtXDpijipsx9nBk+J1QTa4QrmQzmT3H9BxwxnW61Y7Wr7\n",
       "ys5PAbuh8fx0C8vdHugefhfWnTeLsp8CD4HqNDdVWbUt/VkaF/qpswLAnhZPJonepjOQuELdwnI5\n",
       "BNeCBeVIMF13JsHO0AwAD0zcZIv3/ElJVycahcQVXJtmf2CeX6v4TCMD5VTo5kHyULKUL40eE9p5\n",
       "IacsqBImSe/xYQ1FPgQcBXaIGno12AdJwmjSDkU/FcguHwaFEIdSU81cD2+U79xqRKVpQXE1mpwR\n",
       "xsoGtDlIVO/kB4WlgSQpk4bNgS6aRzjrsUOVsJ60l6XDIa4+qvhOw4b1IVhQvA5Cchh6EFcpFjPP\n",
       "LjCRIZTxtJM3fbCnxXWaXzi7Ocsqd4KnBQZ4RUxgI98Zp7Zlg6plmRKXplmLo2TQU5DouBJBN4eS\n",
       "UJ2Ole5L11bMsLKEN6YDGKMIo4ZmuZcF+d1YjPvtMtAVt6D2sBqpGaFEGdbIWmcC6k/eU/dFo1Ev\n",
       "QSW86TIIQ4v9NnHnD4+51lKX3W7BzHczCNlEF9ePBDUYFtR+mluhzgG9Mu2Xx6FQ51FC5HBhVcKX\n",
       "1ZgWhzKSbkyZxh/OfNWTmKTaAXUB6mqbA3voEkWBCkF/QWyXiSvkd/K9zhSTdIwlstvtUkP3ZoI6\n",
       "DzV2xrEKj2b9LUEbVKmJWASd35Ms+aC3+QPnmQ/oyCWiL8e3fFpsF8ayUP25b6W904jWZjV90/Y2\n",
       "sR2KVYGncanRnsMP5kGhoID7//zgu3NtTuZD1Rd6230o6pCt/x95D4b5PwL/Av+C11/3FK8+AAAA\n",
       "AElFTkSuQmCC\n",
       "\" style=\"display:inline;vertical-align:middle;\" /></a></span></td></tr>\n",
       "<tr><td>&nbsp;</td><td colspan=4 style-\"text-align:left\"><a class=\"ProveItLink\" href=\"../disjunction/_axioms_.ipynb#leftInBool\">proveit.logic.boolean.disjunction.leftInBool</a></td></tr><tr><td><a name=\"0x5dc2d924486fb2a2_step2\">2</a></td><td>instantiation</td><td><a href=\"#0x5dc2d924486fb2a2_step3\">3</a>, <a href=\"#0x5dc2d924486fb2a2_step4\">4</a>, <a href=\"#0x5dc2d924486fb2a2_step5\">5</a></td><td><span style=\"font-size:20px;\"> <a class=\"ProveItLink\" href=\"../__pv_it/190da202f020775932482778cc108731a72afdac0/proof.ipynb\" style=\"text-decoration: none\">&#x22A2;&nbsp;</a><a class=\"ProveItLink\" href=\"../__pv_it/ad584a4469ddd96a67e4f3ec95869873b5eaf4b10/expr.ipynb\"><img src=\"data:image/png;base64,iVBORw0KGgoAAAANSUhEUgAAAGwAAAAUBAMAAACaOcVSAAAAMFBMVEX///9UVFTMzMx2dna6uroQ\n",
       "EBCqqqqIiIgiIiJmZmYyMjJERETu7u6YmJjc3NwAAAC+aOQFAAAAAXRSTlMAQObYZgAAAWNJREFU\n",
       "OMt9lLFLw0AUxj+T0KZpEoJ0E0ozO9i1+A90qNChQ3DK6NhN3LpUinQIOLgWcXKQ4KIgSkdNl4JD\n",
       "QRA6+je4aPJybe8dbb7hI/fC7727x7sD3DkKVFru+DHLTAuVaGVE8lDn8fLw5TeopR8PlLSfRxuU\n",
       "QxSiWKLks7T+7GMOJ5Kx/cwWMqb3OVY15uVGDHMpY35mYxmzu/nKeR5dCawUxviBjFlpEiOSMdyR\n",
       "a0/TdTW9E+OCYaUUqS4Z1iJPpptNtv0GXhmGAXAIhn2R1zdnC/56wCXHzoEax87IY6kl+ncTPY69\n",
       "w55w7IiOdnqfSmCIT1SsEurhFsyVqyHeUzfpTkxwrE3elTHPUluCxwW2teSGVfsU/d1g/ljBrsnN\n",
       "cD1cTb3lZXtIx3YYZGNL4WiFGfnVuCW3DzpslE3lZrhTvrYHIslxPlxCToRCqaO80lsxlhRd093a\n",
       "lbX4UXC2Pwr/vJFdhJyiafcAAAAASUVORK5CYII=\n",
       "\" style=\"display:inline;vertical-align:middle;\" /></a></span></td></tr>\n",
       "<tr><td>&nbsp;</td><td colspan=4 style=\"text-align:left\"><span style=\"font-size:20px;\"><a class=\"ProveItLink\" href=\"../__pv_it/6adf35e534b0f74f25bdd03c03dfd88a84b3ace50/expr.ipynb\"><img src=\"data:image/png;base64,iVBORw0KGgoAAAANSUhEUgAAADcAAAAUBAMAAADbzbjtAAAAMFBMVEX///8iIiLc3Ny6urqIiIiq\n",
       "qqp2dnbMzMwQEBDu7u5mZmYyMjJERERUVFSYmJgAAAA4CJ/KAAAAAXRSTlMAQObYZgAAAQ1JREFU\n",
       "KM9jYIADpgcMyCAITL79f/burgkMDHNQ5Bh4FcDUbwYGnk4Ghk2okpwbQCT7NwYG1i8MfAtQJRlS\n",
       "QATLZyD+xsCogCY5A0TwfABa8JlBEU2OgdsASPADDddfwOCF5O5lS4BuYAPZU5/AwCrGwHAOIWmh\n",
       "wA00jQ/kIv9raUuAPhFFuLOPgesA0JECQPb5CWChZrgk108GRgegL4C6GT4yoElyHGCYXwCRZP8F\n",
       "EUIYOz+BIR5IMQtAvAkCCAfND2C4zaoAdhD3T4hQFlySx4FPlg1odQID1/6/DmAhQ6BBZ4DgJAPn\n",
       "FXddZ6CuAoTnMIJvIhIbe8DDwCFsUQYDaJHNg2INWjJ5xMAAAHA6PhPQZp1jAAAAAElFTkSuQmCC\n",
       "\" style=\"display:inline;vertical-align:middle;\" /></a> : <a class=\"ProveItLink\" href=\"../__pv_it/5f0111a716bd3f223550c012b63dec59ef78cbac0/expr.ipynb\"><img src=\"data:image/png;base64,iVBORw0KGgoAAAANSUhEUgAAAD4AAAAPBAMAAABOyWF/AAAAMFBMVEX///9UVFSqqqrMzMwiIiKY\n",
       "mJgyMjIQEBCIiIh2dnZmZmbc3Nzu7u5ERES6uroAAACFTSmKAAAAAXRSTlMAQObYZgAAAMRJREFU\n",
       "GNNjYMABONzvfiuRY8AN2Jgbzp4KwC3PyxfAYXABUzzWxSUBKs+kgClv24PQz/kGIb9rVvsBIMWT\n",
       "g2T+E0MDGI+vmiEfRDNuQMiX/K+Daz8ewLAWLIrsPs7QCTDe+gMMHiDaPA0IYO5juPAUJl/LwPMZ\n",
       "RO9F1s9wgRHK4fnJwPQBxGBHkRdgg8l/YmBM0AYyuBpQ9EfCeDcYQgTAjnFChO8EzlkCDG/vAsEB\n",
       "hoMd1hIPQMIH7x3AHz8vr0DCFwIAr5Y54qhCm2YAAAAASUVORK5CYII=\n",
       "\" style=\"display:inline;vertical-align:middle;\" /></a>, <a class=\"ProveItLink\" href=\"../../../__pv_it/72df168d2bfb4e0140af90912ebf83b13772060b0/expr.ipynb\"><img src=\"data:image/png;base64,iVBORw0KGgoAAAANSUhEUgAAAAsAAAAJBAMAAAAWSsseAAAALVBMVEX///9mZmaqqqrMzMxEREQy\n",
       "MjIiIiKYmJh2dna6urrc3NxUVFSIiIju7u4AAACJHQtQAAAAAXRSTlMAQObYZgAAAEJJREFUCNdj\n",
       "YLhzeuWJAwy8Dew5bAEMHBc43nIuYOBlYHFgAAG+A2DKzgBIMF04x8BzgWGegh/DcgaG22fuiBcw\n",
       "AAATyhBrnyPYZQAAAABJRU5ErkJggg==\n",
       "\" style=\"display:inline;vertical-align:middle;\" /></a> : <a class=\"ProveItLink\" href=\"../disjunction/__pv_it/8124e15701680a1378c57092c649e314fb9f14170/expr.ipynb\"><img src=\"data:image/png;base64,iVBORw0KGgoAAAANSUhEUgAAADUAAAAPBAMAAAC2KZqIAAAAMFBMVEX///92dnZERES6urrc3Nwy\n",
       "MjLu7u6YmJhUVFQQEBAiIiJmZmaIiIiqqqrMzMwAAAAH70cZAAAAAXRSTlMAQObYZgAAAH9JREFU\n",
       "GNNjYGBgeMuACrhXgUEDiH0HIsQHJh+ASd4DUHVQOQ6QMPsBrHJ8IEO4ErDKMYQAsTUDdrnbQKyC\n",
       "Q44LaK4CDjmeAwwcBjjk2BYwpDLgkGPYyyCLU86VYQFOOabnB3DK8XUloMjtWrVq5qpVKyBC0TBV\n",
       "zAUM6MANhQcAQLgq4na1HsoAAAAASUVORK5CYII=\n",
       "\" style=\"display:inline;vertical-align:middle;\" /></a></span></td></tr><tr><td><a name=\"0x5dc2d924486fb2a2_step3\">3</a></td><td>theorem</td><td></td><td><span style=\"font-size:20px;\"> <a class=\"ProveItLink\" href=\"../../equality/_proofs_/substituteTruth.ipynb\" style=\"text-decoration: none\">&#x22A2;&nbsp;</a><a class=\"ProveItLink\" href=\"../../equality/__pv_it/c2cb97100b117f143ca3c09a77f75b44bb41e6160/expr.ipynb\"><img src=\"data:image/png;base64,iVBORw0KGgoAAAANSUhEUgAAAJ8AAAAWBAMAAAAsilPDAAAAMFBMVEX///8QEBCIiIhmZma6urrM\n",
       "zMxUVFQiIiJERETc3Nzu7u6qqqp2dnaYmJgyMjIAAAAcRTyBAAAAAXRSTlMAQObYZgAAAmxJREFU\n",
       "OMutVc9rE0EU/txms7vJZvMHeAkWPISCexHUgywVioJC9CDeLMUWKtr24EVRaW9bL82tvYjrpULx\n",
       "EPAgCuJSD0oUjSiIB2HPgjQoSqtFfW9msj9ipLB0YXbefHn7vZ/zAuzGc1vtj2hFLHzKx1OZ3Zya\n",
       "OQKU5hVQbAIvWfic07MqubMQwGmqc4nOK7Rb8zkJz4fA0xrexcA64ASA3cpJeMCjFeJqDNylPLTX\n",
       "1pbzFmOJ1qxnzcWAQxY2ff/6Th+qHOn9+G9K1zdoLmVv3/QoxWuTOAksAoWlS4cuplQ98VaorcCy\n",
       "l+XTt4GHIcwOcB8fajcpXqrKMVEbvAWep3RVmSQ6jRf+gu+HOJwl1H68elYHDCpBG2+CE2SSojeg\n",
       "kQVMUXr/JRSoTrWEycfVLKH5U2x7yPEAvvC5S/F0DBZvQEJZQoEWGz3CuOFUG87FhMDXHqEVneWW\n",
       "3IJ2jRvp4P5GQihRYVAQiljs4TOTqg1dsXHI0L+LpLOJxQssbY/wndGCGcNLCCW6HBOWx+lVL0ZX\n",
       "kjbkn8jMY62LuiwKHjCrHanG+JIOWaLHY8ICww2no0LeCKSWi8Ivs2sRPMTprtZY31VKW2lCiY7F\n",
       "hLowUFWZPPpnAirO0kR9mCeMw/mqsJ2qun16V08RSvRc4uG4SB0a2WonV+9ecs3Z6kpwx47sFKFA\n",
       "pZYgrITWLav7GmGWMDMcVItucM+ebq2+X28nhBKFwSEUWRry9L2lyydHgr5+TI+vzNPq70NpLYYd\n",
       "KvSAqx4PWDPbpyg3BxImhydyyv/3L+Bj/0jHYMJTPU+o6J2ck84d5LkW7PzhX3cQnLjgQEp0AAAA\n",
       "AElFTkSuQmCC\n",
       "\" style=\"display:inline;vertical-align:middle;\" /></a></span></td></tr>\n",
       "<tr><td>&nbsp;</td><td colspan=4 style-\"text-align:left\"><a class=\"ProveItLink\" href=\"../../equality/_proofs_/substituteTruth.ipynb\">proveit.logic.equality.substituteTruth</a></td></tr><tr><td><a name=\"0x5dc2d924486fb2a2_step4\">4</a></td><td>theorem</td><td></td><td><span style=\"font-size:20px;\"> <a class=\"ProveItLink\" href=\"trueInBool.ipynb\" style=\"text-decoration: none\">&#x22A2;&nbsp;</a><a class=\"ProveItLink\" href=\"../__pv_it/54ab6b8ddaa531831870dd80fb2d17566675a46a0/expr.ipynb\"><img src=\"data:image/png;base64,iVBORw0KGgoAAAANSUhEUgAAADYAAAAPBAMAAABdHiGLAAAAMFBMVEX///92dnYQEBDc3Nzu7u7M\n",
       "zMwyMjJERESYmJi6urqIiIiqqqpUVFQiIiJmZmYAAABV8JwGAAAAAXRSTlMAQObYZgAAAJVJREFU\n",
       "GNNjeHsXBO4wIAOuS+XfdE+CmbsY0AEb6wJ3vwbscuycDVwBBahy7XfvJkDluDegyoUvQehjnIIi\n",
       "x5KCZObcmABkOR4DhJzuf00Ud7Iju4WxQwBZLigNCGBuYSiYgSxnjqyPoYAHWY4JRe4AG7Ic3wIU\n",
       "fY0o/ruNCDMBRrkDINYMmJBPpQN6WCPAxFpImEEAACptMtKk+o6sAAAAAElFTkSuQmCC\n",
       "\" style=\"display:inline;vertical-align:middle;\" /></a></span></td></tr>\n",
       "<tr><td>&nbsp;</td><td colspan=4 style-\"text-align:left\"><a class=\"ProveItLink\" href=\"trueInBool.ipynb\">proveit.logic.boolean.trueInBool</a></td></tr><tr><td><a name=\"0x5dc2d924486fb2a2_step5\">5</a></td><td>theorem</td><td></td><td><span style=\"font-size:20px;\"> <a class=\"ProveItLink\" href=\"../disjunction/_proofs_/falseOrTrue.ipynb\" style=\"text-decoration: none\">&#x22A2;&nbsp;</a><a class=\"ProveItLink\" href=\"../disjunction/__pv_it/8124e15701680a1378c57092c649e314fb9f14170/expr.ipynb\"><img src=\"data:image/png;base64,iVBORw0KGgoAAAANSUhEUgAAADUAAAAPBAMAAAC2KZqIAAAAMFBMVEX///92dnZERES6urrc3Nwy\n",
       "MjLu7u6YmJhUVFQQEBAiIiJmZmaIiIiqqqrMzMwAAAAH70cZAAAAAXRSTlMAQObYZgAAAH9JREFU\n",
       "GNNjYGBgeMuACrhXgUEDiH0HIsQHJh+ASd4DUHVQOQ6QMPsBrHJ8IEO4ErDKMYQAsTUDdrnbQKyC\n",
       "Q44LaK4CDjmeAwwcBjjk2BYwpDLgkGPYyyCLU86VYQFOOabnB3DK8XUloMjtWrVq5qpVKyBC0TBV\n",
       "zAUM6MANhQcAQLgq4na1HsoAAAAASUVORK5CYII=\n",
       "\" style=\"display:inline;vertical-align:middle;\" /></a></span></td></tr>\n",
       "<tr><td>&nbsp;</td><td colspan=4 style-\"text-align:left\"><a class=\"ProveItLink\" href=\"../disjunction/_proofs_/falseOrTrue.ipynb\">proveit.logic.boolean.disjunction.falseOrTrue</a></td></tr></table>"
      ],
      "text/plain": [
       "\tstep type\trequirements\tstatement\n",
       "0\tinstantiation\t1, 2\t|- FALSE in BOOLEANS\n",
       "\tA : FALSE, B : TRUE\n",
       "1\taxiom\t\t|- forall_{A, B | (A or B) in BOOLEANS} (A in BOOLEANS)\n",
       "\tproveit.logic.boolean.disjunction.leftInBool\n",
       "2\tinstantiation\t3, 4, 5\t|- (FALSE or TRUE) in BOOLEANS\n",
       "\tP(_a) : _a in BOOLEANS, x : FALSE or TRUE\n",
       "3\ttheorem\t\t|- forall_{P, x | P(TRUE), x} P(x)\n",
       "\tproveit.logic.equality.substituteTruth\n",
       "4\ttheorem\t\t|- TRUE in BOOLEANS\n",
       "\tproveit.logic.boolean.trueInBool\n",
       "5\ttheorem\t\t|- FALSE or TRUE\n",
       "\tproveit.logic.boolean.disjunction.falseOrTrue"
      ]
     },
     "execution_count": 11,
     "metadata": {},
     "output_type": "execute_result"
    }
   ],
   "source": [
    "%qed"
   ]
  },
  {
   "cell_type": "code",
   "execution_count": null,
   "metadata": {},
   "outputs": [],
   "source": []
  }
 ],
 "metadata": {
  "kernelspec": {
   "display_name": "Python 3",
   "language": "python",
   "name": "python3"
  }
 },
 "nbformat": 4,
 "nbformat_minor": 0
}
