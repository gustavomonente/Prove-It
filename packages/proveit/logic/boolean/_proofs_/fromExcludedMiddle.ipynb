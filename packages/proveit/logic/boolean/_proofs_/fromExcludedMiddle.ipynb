{
 "cells": [
  {
   "cell_type": "markdown",
   "metadata": {},
   "source": [
    "Proof of <a class=\"ProveItLink\" href=\"../../../_context_.ipynb\">proveit</a>.<a class=\"ProveItLink\" href=\"../../_context_.ipynb\">logic</a>.<a class=\"ProveItLink\" href=\"../_context_.ipynb\">boolean</a>.<a class=\"ProveItLink\" href=\"../_theorems_.ipynb#fromExcludedMiddle\">fromExcludedMiddle</a> theorem\n",
    "========"
   ]
  },
  {
   "cell_type": "code",
   "execution_count": 1,
   "metadata": {},
   "outputs": [],
   "source": [
    "import proveit\n",
    "from proveit import defaults\n",
    "from proveit._common_ import A, C\n",
    "from proveit.logic import inBool, Implies\n",
    "from proveit.logic.boolean._theorems_ import unfoldInBool\n",
    "context = proveit.Context('..') # the theorem's context is in the parent directory"
   ]
  },
  {
   "cell_type": "code",
   "execution_count": 2,
   "metadata": {},
   "outputs": [
    {
     "name": "stdout",
     "output_type": "stream",
     "text": [
      "Beginning proof of fromExcludedMiddle\n",
      "Recorded 'presuming' information\n"
     ]
    },
    {
     "name": "stdout",
     "output_type": "stream",
     "text": [
      "Presuming proveit.logic.boolean.disjunction.singularConstructiveDilemma theorem (applied transitively).\n",
      "Presuming previous theorems (applied transitively).\n"
     ]
    },
    {
     "data": {
      "text/html": [
       "<strong id=\"fromExcludedMiddle\">fromExcludedMiddle:</strong> <a class=\"ProveItLink\" href=\"../__pv_it/69fc7ea18f6c0b85f57881416f8fe328a14da2f40/expr.ipynb\"><img src=\"data:image/png;base64,iVBORw0KGgoAAAANSUhEUgAAAPoAAAAZBAMAAADqEi4iAAAAMFBMVEX///8QEBCIiIhmZma6urrM\n",
       "zMxUVFQiIiJERETc3Nzu7u6qqqp2dnaYmJgyMjIAAAAcRTyBAAAAAXRSTlMAQObYZgAAAzZJREFU\n",
       "SMfllk1oE0EUx/9ukibZbFrPQiHoyYo2orS1FloQxIsQe9CLSKF+oKeCYEVaWC9timD3VHOQNljw\n",
       "I2gJVIWCYPAg2lbZm8VWrYoHBaGIpbVY8L3ZTXeyu6lQjRcHkpnZeW9+M++9eTOATznTbaDyJdjd\n",
       "4/u9C/+mDP3X9Hmu3rjp1VzFzUphb/Q1mNeZPsW9L266lqeqOlshuFILjNcyPUO9qO6miy+ZCsHV\n",
       "ftpW4AfTeYNip6V+Z2tMVYhevYXP22amxydzuWveqJvL5e5UKvhaebOhpIj55XS6x0uvSaf7CxuY\n",
       "OSp3Uv4iS8L8hqCfAgY4wPtaFMOhV6UQEd2IO+21FRsD8teZzsJ2rp0Vk+J9+Ilo36TzfgAqnbro\n",
       "B6iXpb0HkxgT7Xc27e2uxv2iUYzQ+Hdp5uEEbpMjUeWslRQDho8IwosSPQyFzvUIQWbkbNOFncJA\n",
       "rTSoPtpjKlp0NiXTR1clY9JK4jxw3AlsUlQ7fESwaUWMW3TNDFODXd8u019YGU+7RdExM5GDomDS\n",
       "lOmT50UV449hMngoAeFGuwjFzz4iCC/w/wOLHp0/Suef15OT6cMhsfD2iM5eIAklOGdI9FAibTXO\n",
       "0q+ejq2aLcnRrGiZzyUiTroVIJznB07SenR3no8MCYd3BOy0qwR2f5L9XoVGaGkq70nuYtG8Dp0V\n",
       "8dArQkIcdVrWpo/zASu46bFGEVp5ZQGjgq5gn+z3WdTb0tva8LN4ZesCd9VWxCGvCJXHJmLNxTuu\n",
       "JmF5RTVL7jhxLsZanq3gGE2YIHoh4dDVj9OD9jVw85yImntM77DtYiniBDwirNt0eu/aDRvnrEtz\n",
       "aqU37Gv+a0Z0kScTey8kHXogi5GUsodKA22jyXZkSC/ShSIOwiPie7/3Qn3uvd+DZI5VaGxxRcN0\n",
       "waEfJpuZyFHZymFs4q6BTFbtsumWIubgEilD1zqfZL30QR2ZJRNXqPnqZdNXJ+oiy4gO9ooYEsZ+\n",
       "2lIHHMnjkp1ubUXLwJLIRt42Cvl9raOXT+x57CgdnPfm/j98WellR2IGIqUfzL/+ritPj1uB4pTR\n",
       "Db0qu9d7zyfXnXBC7tT95j1/4Rcm8fakHlyqSwAAAABJRU5ErkJggg==\n",
       "\" style=\"display:inline;vertical-align:middle;\" /></a><br>(see <a class=\"ProveItLink\" href=\"../__pv_it/69fc7ea18f6c0b85f57881416f8fe328a14da2f40/dependencies.ipynb\">dependencies</a>)<br>"
      ],
      "text/plain": [
       "fromExcludedMiddle: forall_{C} [forall_{A in BOOLEANS | A => C, [not](A) => C} C]"
      ]
     },
     "execution_count": 2,
     "metadata": {},
     "output_type": "execute_result"
    }
   ],
   "source": [
    "%proving fromExcludedMiddle presuming [proveit.logic.boolean.disjunction.singularConstructiveDilemma]"
   ]
  },
  {
   "cell_type": "code",
   "execution_count": 3,
   "metadata": {},
   "outputs": [
    {
     "data": {
      "text/html": [
       "<strong id=\"defaults.assumptions\">defaults.assumptions:</strong> <a class=\"ProveItLink\" href=\"../__pv_it/b81de56198760e1ec1655ef1eaf835d2566f06d30/expr.ipynb\"><img src=\"data:image/png;base64,iVBORw0KGgoAAAANSUhEUgAAAPMAAAAUBAMAAACqmRY2AAAAMFBMVEX///9UVFTMzMx2dna6uroQ\n",
       "EBCqqqqIiIgiIiJmZmYyMjJERETu7u6YmJjc3NwAAAC+aOQFAAAAAXRSTlMAQObYZgAAAuhJREFU\n",
       "SMe1Vj1oFEEUnuxe9vbW3SX+NEGUSyk22x1BwTRCihNSWIRgMNgdil5jITYHEjklmAsoKgq5RosU\n",
       "eqkMiGYbicmBLlgpKBcEsZEEEaPnT5x5b+Z2ZnY9rtAHuzsz3/fNm3nzZmYJ8SPyb+yT3nC2Cxmw\n",
       "JpaNugJlpx+3x/dIDRrObWVxLnqPRbdBNHpfK03iXhzc5weAPcAWZ1NlOEa5uSoFRMdxgJOElCY5\n",
       "QXHE6G7qaM9HxLoRMcyrYcubnypjRybK5qWJ6DhMYCkkJPcbK68VCOiFFM/NGfqabzHMxsG6Jd6D\n",
       "t1S9yl1bU7HrDs7sqZjaCfrKjGHlmjIooD9LSsg9OlpyFLCP3GP2C67Ro7Aza7MYuxY42EH+nZ9i\n",
       "CgybX5FdI90ZSUhyX9n7AGAXsKlo/YLvWhgHfHQo35EKHDvm3r7BBDFs2ZrsGulmTZeQDRjhC8Ce\n",
       "YIBGjC0o7I/Xenz7eBxAjueqYN+h0dySc0Peo5zu1XUJOVIWY6mTy1DIEB+xhpRm5ttA1Do4mnWf\n",
       "ve3PUpNNg3+L+bgU062KLiGzIpAUw5kN3Z77AUs9sUCNuyaNY0IocGFrTNYPSe9iS79Y1/WYbmzq\n",
       "EnISFjQEDF1T3QQsnzxr0ugTNYFz83ezBbah51Mprjlddo0SMgszzgMGAbfoMw2MMdn1gCOiI/Dc\n",
       "Ahp0gzs6iAMuXAt6pqJL2I6mSYIYpNkH+jwE6KYy61e8EuO48nhM+SyVzFBLs/WY7tV1CdlgaXYY\n",
       "sWGxJ5dbyuAdIzCHB8jLuoorO/AcPRPv0tVuyxvJiOm5ICFhm67EyhQbpdLldkhOb1+BpNlbVK4P\n",
       "e0bFwXaJPXRn53X2rYY8uNjaoTv5hISsLg5CVlDM1q6XzCE8SIWdSTmH9RvJCvWDFO353yUM82rd\n",
       "b+Ggh5vaTF4fYIUumoJ8sKeaW+7B9QrkWWJi6ZemhDW79ur18n8SJX8V0gejYf/vB+ldFzLF/gDg\n",
       "+PYBqW3STAAAAABJRU5ErkJggg==\n",
       "\" style=\"display:inline;vertical-align:middle;\" /></a><br>"
      ],
      "text/plain": [
       "defaults.assumptions: (A in BOOLEANS, A => C, [not](A) => C)"
      ]
     },
     "execution_count": 3,
     "metadata": {},
     "output_type": "execute_result"
    }
   ],
   "source": [
    "defaults.assumptions = fromExcludedMiddle.allConditions()"
   ]
  },
  {
   "cell_type": "code",
   "execution_count": 4,
   "metadata": {},
   "outputs": [
    {
     "data": {
      "text/html": [
       "<span style=\"font-size:20px;\"> <a class=\"ProveItLink\" href=\"unfoldInBool.ipynb\" style=\"text-decoration: none\">&#x22A2;&nbsp;</a><a class=\"ProveItLink\" href=\"../__pv_it/bbc5e2fcc1150e79da44b28fc9b1c538b74c9f1d0/expr.ipynb\"><img src=\"data:image/png;base64,iVBORw0KGgoAAAANSUhEUgAAAJsAAAAUBAMAAABoqVKyAAAAMFBMVEX///8QEBCIiIhmZma6urrM\n",
       "zMxUVFQiIiJERETc3Nzu7u6qqqp2dnaYmJgyMjIAAAAcRTyBAAAAAXRSTlMAQObYZgAAAjFJREFU\n",
       "OMudVM9LG0EUfiZZk0120/9AFk/euiDoqRDwVhByEo89tPeUHNpKBBGEDYLJpVoq4pYeBEtBkEK9\n",
       "BYsHfxyCnkpRFnPrpdJ6SAutvnlvJrNbMyI++Gbyvm/z5s17MwNwu63dkd6RiIRzaoqWn6PJivrS\n",
       "0oQ62GQcCuK7KVyxydOFGMv03xitPkI1HzHeoG/PmcKd8HT2R4zPxHAcoyGm7jKKIYCzZQr3ive2\n",
       "/VtMU2KY0bTaOanvGO7B5uaKKZpdoclNXaotZnxNS2O1WGJ0g6BmCpfyaXpc+CumAnq5pqalser4\n",
       "DKxInej6zXC5Nu2mZP0kF5Oa1rTaK6tuxJigjuDvS5n7eaeqapmlHxmwf5E7DPBU0eMv0GpaLVQY\n",
       "WUjRYu9Fyh++PAKvtfZJhhsoUQtGx7rkbsiVmUZb1qp1wXDaWZIOqpjZ4tsQPM/5mAiHwxC56S0+\n",
       "A4lwUlXh7IgOgOUFYuNonje5H99sAfGcGx1lYzXgcErNVBhQp3oMwri8cd7oUDneilXED/YXjiHR\n",
       "imWtqlbANp2ib/AQ8j5nl34tPxedp0PW4Fs1NdOj+bZqNd1iwANPtLtz1Aitl0EwL2qXkp9j9vnG\n",
       "vxA+X1X5dvqKVqekpxbLDHBDUeUQ1svwhLNz0slLpm9J2JfmrjPYJjHLNuxRuJZz9N8TYHgZ4iaf\n",
       "AFnzLtiNWchhy9xaZ6l36nPNvuFu0uqBStoI1s78Tt5CiwUMa9/ncf/KuAadcqSbKmjdIwAAAABJ\n",
       "RU5ErkJggg==\n",
       "\" style=\"display:inline;vertical-align:middle;\" /></a></span>"
      ],
      "text/plain": [
       "|- forall_{A in BOOLEANS} (A or [not](A))"
      ]
     },
     "execution_count": 4,
     "metadata": {},
     "output_type": "execute_result"
    }
   ],
   "source": [
    "unfoldInBool"
   ]
  },
  {
   "cell_type": "code",
   "execution_count": 5,
   "metadata": {},
   "outputs": [
    {
     "data": {
      "text/html": [
       "<strong id=\"A_or_notA\">A_or_notA:</strong> <span style=\"font-size:20px;\"><a class=\"ProveItLink\" href=\"../__pv_it/3900818251551f5b9efd236f309711180172b8500/expr.ipynb\"><img src=\"data:image/png;base64,iVBORw0KGgoAAAANSUhEUgAAAEkAAAAVBAMAAAD4Ed5jAAAAMFBMVEX///+IiIi6urrc3NxERETM\n",
       "zMwQEBCqqqpUVFQiIiJ2dnYyMjLu7u5mZmaYmJgAAABN0h6tAAAAAXRSTlMAQObYZgAAATVJREFU\n",
       "KM9jYGDgu8eAB7BePACieHYx4AVMqSCS7wNU0wZUWckU/20zFICM2yAe1wSIKPcHNEM2BPL4gByz\n",
       "ElnV6z9oqhz0GERZ0FTx1H6Gyj6ZOXMDVFU5uio+xk8QRSEyCLMWHUFTpcP+D2LmHoSNTFNbgfQy\n",
       "EIcDbDyPAutHsByHAVyV2vxvID++B3HKAsChwsD8FyzHguz6da9Anr8AdMZksFDE3RtfwIyw3UAA\n",
       "cz0L0wMgo1OAgUENbBbQ6GywKhNks1gYGoBmNYAc4gAk2IF4GliODVkVB8MGqLvAfjQH4v1gOV4B\n",
       "ZLP4FkD9CFLFDFLpD/HddHgMRTGsuoEUXjz+vw8wlPyfC5Y84XQANbZR4hEOtDxnoiQPiKoE/OkL\n",
       "oorvAwFV4PTFQCitJoEpdsLpHgBPT1V1M7jh/QAAAABJRU5ErkJggg==\n",
       "\" style=\"display:inline;vertical-align:middle;\" /></a> <a class=\"ProveItLink\" href=\"../__pv_it/5cb335dae91a2ff3f72b4738d0e22ff031c265850/proof.ipynb\" style=\"text-decoration: none\">&#x22A2;&nbsp;</a><a class=\"ProveItLink\" href=\"../__pv_it/dce300f8f38b6c802ad0067ecb7880ef0edce6bd0/expr.ipynb\"><img src=\"data:image/png;base64,iVBORw0KGgoAAAANSUhEUgAAAFIAAAAUBAMAAADsA3fZAAAAMFBMVEX///92dnYiIiIQEBBERERU\n",
       "VFS6urqIiIjc3NxmZmaqqqru7u6YmJgyMjLMzMwAAADiRdoGAAAAAXRSTlMAQObYZgAAAThJREFU\n",
       "KM9jYMAGOA6gCXA1QBlv0SS2oPBAshFQ9n0QwQdmPgARN1BUgmT3Qpg89zcASVaQIp4CEDEBWSFY\n",
       "lrEAzN41H+QMvgAgwQTSw9SArBIsy20AZh+oT4DZmQliNKFYDpG9BmKybVgP9utKIPYAMSqRFUJl\n",
       "JUHsbQzvwa5gArrAAcTwQVYJlT0LYicw9IO9wF7AwAp2hhYDA6cSCAggZBeBfBI5Mx5sFLcCNDDM\n",
       "YBEQgJB9D3IIAwPzBbDMLAYpDJUwWZDKBUAXQsKgl0GBAWo7XCVMNgnIBbJ5P4BlWN5AwtcHoRIu\n",
       "exYSeCw/wDJ8QRvAtCTM3w8QshMZtvy/zcDl/wkSfzchCpIQSQUuew81DXVDKNTYZICGCzaAmkLA\n",
       "AJpCMIAHhshe7ArRUjJ2vThyB08DAwAvlFMuY44Z2wAAAABJRU5ErkJggg==\n",
       "\" style=\"display:inline;vertical-align:middle;\" /></a></span><br>"
      ],
      "text/plain": [
       "A_or_notA: {A in BOOLEANS} |- A or [not](A)"
      ]
     },
     "execution_count": 5,
     "metadata": {},
     "output_type": "execute_result"
    }
   ],
   "source": [
    "A_or_notA = unfoldInBool.instantiate({A:A})"
   ]
  },
  {
   "cell_type": "code",
   "execution_count": 6,
   "metadata": {},
   "outputs": [
    {
     "data": {
      "text/html": [
       "<strong id=\"Ctruth\">Ctruth:</strong> <span style=\"font-size:20px;\"><a class=\"ProveItLink\" href=\"../__pv_it/767bb45e192c7c875d80207627e7fd04342dd7180/expr.ipynb\"><img src=\"data:image/png;base64,iVBORw0KGgoAAAANSUhEUgAAAPkAAAAVBAMAAAB251VaAAAAMFBMVEX///+IiIi6urrc3NxERETM\n",
       "zMwQEBCqqqpUVFQiIiJ2dnYyMjLu7u5mZmaYmJgAAABN0h6tAAAAAXRSTlMAQObYZgAAAwVJREFU\n",
       "SMfFVk1oE0EUfmZjN0k3Sw4qCIo9BVSQHjyolwa9tCA2QvFgkQTRm6gXFaliQQQ9RAsiGigkKBQq\n",
       "/gTFHGwhqRYUilhFpFq1OXiyiEpRKYo6783M7kxmm+ZQ8EE2M/O+N9++v5kFAPcD/AdZ/qKKf87D\n",
       "pdrQqtUt2O0N0KGD+HS/immvrl19oLt8rU1Z6A3aw1mRu2gV+Xhc0yD8bCDvWOdUbRvANI5jA2Kx\n",
       "Ugcq7XZ2qkmpBO20qgb2a+HzfU2D8Ikgk2WHAU6z37DK7laqOiq1CVaG/amhJ3cH2WOGB9idVDUE\n",
       "jyUCotXFFPG5OvYnYhP4mM+XBPsJhd3TMwnLYRnfKMnHUS3LBHeypknrIUx6to69to4nuWeN7/t1\n",
       "JZVSTwWb4v/xn/jcxydbNRc5/J5hAjNHcTaps4eqZyh9zqgf+dCVc36JCj2Xz/yvg2wf88laraI5\n",
       "/LZhYs0TC4vEEA4iFGZ4BBlKUsSLXypZ+OG7K/Vv8igFnuO7al53qewCPmuYxL5JyBd8HE/TuA06\n",
       "SB1Wq+7OJ28m9UL6MH5QSCtLV1kmiKfow08aJtHvct7KAD2XeVpy7y9RZvaMMJFVFw7JaHt6Wbll\n",
       "DMsRagPRC/vlodPvwzOGSctvGuPjAotOkt4/xNaJc7Pqexj6ZR6lXsiWG+Q7nWhpk13CM4ZJlA63\n",
       "Y+g77h0hl1hUotQeLSp7BCSjp58eIeEnCzVhzI+8xy7h6w0T7HSAosw71bzF4K30VvGE6rsrDlFf\n",
       "z2WjqHkE36qrOsbuwWcNEwurLobJGvLYsVfDc5oLUNoLN6fA+QW6Xm1L+w87NNlOz0tqd6V9+FvD\n",
       "BFgn2u9w4PX7+N9RsLvnqaifbq9qt0y+quupLWWtP+vMYSlFB2WU+fnrwR+AYeK8Ov8SNHZNNnTl\n",
       "1fqyA453q37hlHHScqaBhU0Ee7bxrR1r5movGrcMt000sBnW7vcFZKwJcodYdhjrE42M6H6HRb5t\n",
       "ak2wuwFfF8Hvo9wE/Hywl+q7zviyctsX+a77BwYB8haAAe6BAAAAAElFTkSuQmCC\n",
       "\" style=\"display:inline;vertical-align:middle;\" /></a> <a class=\"ProveItLink\" href=\"../__pv_it/9c73f915e6a05b0d8b4af423ee6c0d5ea1d679940/proof.ipynb\" style=\"text-decoration: none\">&#x22A2;&nbsp;</a><a class=\"ProveItLink\" href=\"../../../__pv_it/dcb5a3e430485237dfe486162b026a4affb149300/expr.ipynb\"><img src=\"data:image/png;base64,iVBORw0KGgoAAAANSUhEUgAAAA8AAAAOBAMAAAACpFvcAAAAMFBMVEX////MzMy6uroyMjIiIiKq\n",
       "qqoQEBB2dnbc3NyYmJhmZmZUVFRERESIiIju7u4AAACOKgoaAAAAAXRSTlMAQObYZgAAAGRJREFU\n",
       "CNdjYGDgu7NrJ0cBAwPDtQkMrMsmMDC88QNy1jcwMJg9ADLUGBi4vgJpBikGhn4HEOMFA0P9BQYI\n",
       "8BeAMvJBahmAhD+IZhWAmMDADsT9IMV1INGfDAxRYHWvTu9SAFIARRcYB3lKsPwAAAAASUVORK5C\n",
       "YII=\n",
       "\" style=\"display:inline;vertical-align:middle;\" /></a></span><br>"
      ],
      "text/plain": [
       "Ctruth: {A in BOOLEANS, A => C, [not](A) => C} |- C"
      ]
     },
     "execution_count": 6,
     "metadata": {},
     "output_type": "execute_result"
    }
   ],
   "source": [
    "Ctruth = A_or_notA.deriveViaDilemma(C)"
   ]
  },
  {
   "cell_type": "code",
   "execution_count": 7,
   "metadata": {},
   "outputs": [
    {
     "data": {
      "text/html": [
       "<table><tr><th>&nbsp;</th><th>step type</th><th>requirements</th><th>statement</th></tr>\n",
       "<tr><td><a name=\"-0x1cb7773a05151673_step0\">0</a></td><td>generalizaton</td><td><a href=\"#-0x1cb7773a05151673_step1\">1</a></td><td><span style=\"font-size:20px;\"> <a class=\"ProveItLink\" href=\"../__pv_it/40023e291e95510efb326a2d874bea8444c8fbd00/proof.ipynb\" style=\"text-decoration: none\">&#x22A2;&nbsp;</a><a class=\"ProveItLink\" href=\"../__pv_it/69fc7ea18f6c0b85f57881416f8fe328a14da2f40/expr.ipynb\"><img src=\"data:image/png;base64,iVBORw0KGgoAAAANSUhEUgAAAPoAAAAZBAMAAADqEi4iAAAAMFBMVEX///8QEBCIiIhmZma6urrM\n",
       "zMxUVFQiIiJERETc3Nzu7u6qqqp2dnaYmJgyMjIAAAAcRTyBAAAAAXRSTlMAQObYZgAAAzZJREFU\n",
       "SMfllk1oE0EUx/9ukibZbFrPQiHoyYo2orS1FloQxIsQe9CLSKF+oKeCYEVaWC9timD3VHOQNljw\n",
       "I2gJVIWCYPAg2lbZm8VWrYoHBaGIpbVY8L3ZTXeyu6lQjRcHkpnZeW9+M++9eTOATznTbaDyJdjd\n",
       "4/u9C/+mDP3X9Hmu3rjp1VzFzUphb/Q1mNeZPsW9L266lqeqOlshuFILjNcyPUO9qO6miy+ZCsHV\n",
       "ftpW4AfTeYNip6V+Z2tMVYhevYXP22amxydzuWveqJvL5e5UKvhaebOhpIj55XS6x0uvSaf7CxuY\n",
       "OSp3Uv4iS8L8hqCfAgY4wPtaFMOhV6UQEd2IO+21FRsD8teZzsJ2rp0Vk+J9+Ilo36TzfgAqnbro\n",
       "B6iXpb0HkxgT7Xc27e2uxv2iUYzQ+Hdp5uEEbpMjUeWslRQDho8IwosSPQyFzvUIQWbkbNOFncJA\n",
       "rTSoPtpjKlp0NiXTR1clY9JK4jxw3AlsUlQ7fESwaUWMW3TNDFODXd8u019YGU+7RdExM5GDomDS\n",
       "lOmT50UV449hMngoAeFGuwjFzz4iCC/w/wOLHp0/Suef15OT6cMhsfD2iM5eIAklOGdI9FAibTXO\n",
       "0q+ejq2aLcnRrGiZzyUiTroVIJznB07SenR3no8MCYd3BOy0qwR2f5L9XoVGaGkq70nuYtG8Dp0V\n",
       "8dArQkIcdVrWpo/zASu46bFGEVp5ZQGjgq5gn+z3WdTb0tva8LN4ZesCd9VWxCGvCJXHJmLNxTuu\n",
       "JmF5RTVL7jhxLsZanq3gGE2YIHoh4dDVj9OD9jVw85yImntM77DtYiniBDwirNt0eu/aDRvnrEtz\n",
       "aqU37Gv+a0Z0kScTey8kHXogi5GUsodKA22jyXZkSC/ShSIOwiPie7/3Qn3uvd+DZI5VaGxxRcN0\n",
       "waEfJpuZyFHZymFs4q6BTFbtsumWIubgEilD1zqfZL30QR2ZJRNXqPnqZdNXJ+oiy4gO9ooYEsZ+\n",
       "2lIHHMnjkp1ubUXLwJLIRt42Cvl9raOXT+x57CgdnPfm/j98WellR2IGIqUfzL/+ritPj1uB4pTR\n",
       "Db0qu9d7zyfXnXBC7tT95j1/4Rcm8fakHlyqSwAAAABJRU5ErkJggg==\n",
       "\" style=\"display:inline;vertical-align:middle;\" /></a></span></td></tr>\n",
       "<tr><td><a name=\"-0x1cb7773a05151673_step1\">1</a></td><td>instantiation</td><td><a href=\"#-0x1cb7773a05151673_step2\">2</a>, <a href=\"#-0x1cb7773a05151673_step9\">9</a>, <a href=\"#-0x1cb7773a05151673_step3\">3</a>, <a href=\"#-0x1cb7773a05151673_step4\">4</a>, <a href=\"#-0x1cb7773a05151673_step5\">5</a>, <a href=\"#-0x1cb7773a05151673_step6\">6</a></td><td><span style=\"font-size:20px;\"><a class=\"ProveItLink\" href=\"../__pv_it/767bb45e192c7c875d80207627e7fd04342dd7180/expr.ipynb\"><img src=\"data:image/png;base64,iVBORw0KGgoAAAANSUhEUgAAAPkAAAAVBAMAAAB251VaAAAAMFBMVEX///+IiIi6urrc3NxERETM\n",
       "zMwQEBCqqqpUVFQiIiJ2dnYyMjLu7u5mZmaYmJgAAABN0h6tAAAAAXRSTlMAQObYZgAAAwVJREFU\n",
       "SMfFVk1oE0EUfmZjN0k3Sw4qCIo9BVSQHjyolwa9tCA2QvFgkQTRm6gXFaliQQQ9RAsiGigkKBQq\n",
       "/gTFHGwhqRYUilhFpFq1OXiyiEpRKYo6783M7kxmm+ZQ8EE2M/O+N9++v5kFAPcD/AdZ/qKKf87D\n",
       "pdrQqtUt2O0N0KGD+HS/immvrl19oLt8rU1Z6A3aw1mRu2gV+Xhc0yD8bCDvWOdUbRvANI5jA2Kx\n",
       "Ugcq7XZ2qkmpBO20qgb2a+HzfU2D8Ikgk2WHAU6z37DK7laqOiq1CVaG/amhJ3cH2WOGB9idVDUE\n",
       "jyUCotXFFPG5OvYnYhP4mM+XBPsJhd3TMwnLYRnfKMnHUS3LBHeypknrIUx6to69to4nuWeN7/t1\n",
       "JZVSTwWb4v/xn/jcxydbNRc5/J5hAjNHcTaps4eqZyh9zqgf+dCVc36JCj2Xz/yvg2wf88laraI5\n",
       "/LZhYs0TC4vEEA4iFGZ4BBlKUsSLXypZ+OG7K/Vv8igFnuO7al53qewCPmuYxL5JyBd8HE/TuA06\n",
       "SB1Wq+7OJ28m9UL6MH5QSCtLV1kmiKfow08aJtHvct7KAD2XeVpy7y9RZvaMMJFVFw7JaHt6Wbll\n",
       "DMsRagPRC/vlodPvwzOGSctvGuPjAotOkt4/xNaJc7Pqexj6ZR6lXsiWG+Q7nWhpk13CM4ZJlA63\n",
       "Y+g77h0hl1hUotQeLSp7BCSjp58eIeEnCzVhzI+8xy7h6w0T7HSAosw71bzF4K30VvGE6rsrDlFf\n",
       "z2WjqHkE36qrOsbuwWcNEwurLobJGvLYsVfDc5oLUNoLN6fA+QW6Xm1L+w87NNlOz0tqd6V9+FvD\n",
       "BFgn2u9w4PX7+N9RsLvnqaifbq9qt0y+quupLWWtP+vMYSlFB2WU+fnrwR+AYeK8Ov8SNHZNNnTl\n",
       "1fqyA453q37hlHHScqaBhU0Ee7bxrR1r5movGrcMt000sBnW7vcFZKwJcodYdhjrE42M6H6HRb5t\n",
       "ak2wuwFfF8Hvo9wE/Hywl+q7zviyctsX+a77BwYB8haAAe6BAAAAAElFTkSuQmCC\n",
       "\" style=\"display:inline;vertical-align:middle;\" /></a> <a class=\"ProveItLink\" href=\"../__pv_it/9c73f915e6a05b0d8b4af423ee6c0d5ea1d679940/proof.ipynb\" style=\"text-decoration: none\">&#x22A2;&nbsp;</a><a class=\"ProveItLink\" href=\"../../../__pv_it/dcb5a3e430485237dfe486162b026a4affb149300/expr.ipynb\"><img src=\"data:image/png;base64,iVBORw0KGgoAAAANSUhEUgAAAA8AAAAOBAMAAAACpFvcAAAAMFBMVEX////MzMy6uroyMjIiIiKq\n",
       "qqoQEBB2dnbc3NyYmJhmZmZUVFRERESIiIju7u4AAACOKgoaAAAAAXRSTlMAQObYZgAAAGRJREFU\n",
       "CNdjYGDgu7NrJ0cBAwPDtQkMrMsmMDC88QNy1jcwMJg9ADLUGBi4vgJpBikGhn4HEOMFA0P9BQYI\n",
       "8BeAMvJBahmAhD+IZhWAmMDADsT9IMV1INGfDAxRYHWvTu9SAFIARRcYB3lKsPwAAAAASUVORK5C\n",
       "YII=\n",
       "\" style=\"display:inline;vertical-align:middle;\" /></a></span></td></tr>\n",
       "<tr><td>&nbsp;</td><td colspan=4 style=\"text-align:left\"><span style=\"font-size:20px;\"><a class=\"ProveItLink\" href=\"../../../__pv_it/d3792d0d8642fdf1cd2a3a9b32c673ee13653de00/expr.ipynb\"><img src=\"data:image/png;base64,iVBORw0KGgoAAAANSUhEUgAAAA8AAAAOBAMAAAACpFvcAAAALVBMVEX///8iIiIQEBBERERUVFS6\n",
       "urqIiIjc3NxmZmaqqqru7u6YmJgyMjLMzMwAAACK9jtgAAAAAXRSTlMAQObYZgAAAFtJREFUCNdj\n",
       "YACBOwxQcA5Kc59bAGGs7CuAMDbkBYBp1gXzNoAZSxnuJYAZAQx1DSCa16PDzwCshIGB6QCIMYGB\n",
       "gVEBSLMDGTwPgIxCIGZ+zsCw+N0pBk67hw0AfpEVEQi8t+wAAAAASUVORK5CYII=\n",
       "\" style=\"display:inline;vertical-align:middle;\" /></a> : <a class=\"ProveItLink\" href=\"../../../__pv_it/d3792d0d8642fdf1cd2a3a9b32c673ee13653de00/expr.ipynb\"><img src=\"data:image/png;base64,iVBORw0KGgoAAAANSUhEUgAAAA8AAAAOBAMAAAACpFvcAAAALVBMVEX///8iIiIQEBBERERUVFS6\n",
       "urqIiIjc3NxmZmaqqqru7u6YmJgyMjLMzMwAAACK9jtgAAAAAXRSTlMAQObYZgAAAFtJREFUCNdj\n",
       "YACBOwxQcA5Kc59bAGGs7CuAMDbkBYBp1gXzNoAZSxnuJYAZAQx1DSCa16PDzwCshIGB6QCIMYGB\n",
       "gVEBSLMDGTwPgIxCIGZ+zsCw+N0pBk67hw0AfpEVEQi8t+wAAAAASUVORK5CYII=\n",
       "\" style=\"display:inline;vertical-align:middle;\" /></a>, <a class=\"ProveItLink\" href=\"../../../__pv_it/4d98b438710c5ada9ffa4646bb123a7d0e69ec000/expr.ipynb\"><img src=\"data:image/png;base64,iVBORw0KGgoAAAANSUhEUgAAABAAAAAOBAMAAADUAYG5AAAALVBMVEX///8yMjKqqqoiIiLu7u7c\n",
       "3NyIiIjMzMwQEBC6urpERERmZmZUVFSYmJgAAACsPVCVAAAAAXRSTlMAQObYZgAAAGxJREFUCNdj\n",
       "YGC48+70nlUTGICgi4GB+zmQZn/LwMD5Gshge8rAwPsMyOBqYGDwMAEy+A4wsNs4ABl1Z68tVgBp\n",
       "ygtgYOkBMVaAOCChNyBGAsQYhnMTIMawvwJyGIHGzFjCwMAj92b3qUUMDAAXABxvZ4rl5AAAAABJ\n",
       "RU5ErkJggg==\n",
       "\" style=\"display:inline;vertical-align:middle;\" /></a> : <a class=\"ProveItLink\" href=\"../__pv_it/98d4bc94e268eb5bd1dd8957b0f9355a80140e9b0/expr.ipynb\"><img src=\"data:image/png;base64,iVBORw0KGgoAAAANSUhEUgAAABwAAAAOBAMAAADOPWE3AAAAMFBMVEX///8QEBBERES6urqIiIiq\n",
       "qqru7u6YmJgyMjLMzMxUVFTc3Nx2dnYiIiJmZmYAAAAfdW6kAAAAAXRSTlMAQObYZgAAAGNJREFU\n",
       "CNdjYEAAzgYGZMDxAYVb8Q2Zxxb3G5nLzvIZmWvG+h1ZrQHnFwaGt3eB4A6Qy8zA/Q8qswuIZ717\n",
       "9QmJa8DAIIHgsgKpiwjuViDVD3MtA/cFIKW/AWaL/o8EhqD/9wA5jBwoctwhSQAAAABJRU5ErkJg\n",
       "gg==\n",
       "\" style=\"display:inline;vertical-align:middle;\" /></a>, <a class=\"ProveItLink\" href=\"../../../__pv_it/dcb5a3e430485237dfe486162b026a4affb149300/expr.ipynb\"><img src=\"data:image/png;base64,iVBORw0KGgoAAAANSUhEUgAAAA8AAAAOBAMAAAACpFvcAAAAMFBMVEX////MzMy6uroyMjIiIiKq\n",
       "qqoQEBB2dnbc3NyYmJhmZmZUVFRERESIiIju7u4AAACOKgoaAAAAAXRSTlMAQObYZgAAAGRJREFU\n",
       "CNdjYGDgu7NrJ0cBAwPDtQkMrMsmMDC88QNy1jcwMJg9ADLUGBi4vgJpBikGhn4HEOMFA0P9BQYI\n",
       "8BeAMvJBahmAhD+IZhWAmMDADsT9IMV1INGfDAxRYHWvTu9SAFIARRcYB3lKsPwAAAAASUVORK5C\n",
       "YII=\n",
       "\" style=\"display:inline;vertical-align:middle;\" /></a> : <a class=\"ProveItLink\" href=\"../../../__pv_it/dcb5a3e430485237dfe486162b026a4affb149300/expr.ipynb\"><img src=\"data:image/png;base64,iVBORw0KGgoAAAANSUhEUgAAAA8AAAAOBAMAAAACpFvcAAAAMFBMVEX////MzMy6uroyMjIiIiKq\n",
       "qqoQEBB2dnbc3NyYmJhmZmZUVFRERESIiIju7u4AAACOKgoaAAAAAXRSTlMAQObYZgAAAGRJREFU\n",
       "CNdjYGDgu7NrJ0cBAwPDtQkMrMsmMDC88QNy1jcwMJg9ADLUGBi4vgJpBikGhn4HEOMFA0P9BQYI\n",
       "8BeAMvJBahmAhD+IZhWAmMDADsT9IMV1INGfDAxRYHWvTu9SAFIARRcYB3lKsPwAAAAASUVORK5C\n",
       "YII=\n",
       "\" style=\"display:inline;vertical-align:middle;\" /></a></span></td></tr><tr><td><a name=\"-0x1cb7773a05151673_step2\">2</a></td><td>theorem</td><td></td><td><span style=\"font-size:20px;\"> <a class=\"ProveItLink\" href=\"../disjunction/_proofs_/singularConstructiveDilemma.ipynb\" style=\"text-decoration: none\">&#x22A2;&nbsp;</a><a class=\"ProveItLink\" href=\"../disjunction/__pv_it/d79a5f4c466f6188b2dd4bf4f19be94653703e510/expr.ipynb\"><img src=\"data:image/png;base64,iVBORw0KGgoAAAANSUhEUgAAAUEAAAAZBAMAAABdioEsAAAAMFBMVEX///8QEBCIiIhmZma6urrM\n",
       "zMxUVFQiIiJERETc3Nzu7u6qqqp2dnaYmJgyMjIAAAAcRTyBAAAAAXRSTlMAQObYZgAAA3NJREFU\n",
       "SMftV09IFFEc/trZbXdmZ9RDp8oYKMhLJaxsJZZCh7qIm4fOC5Z4lDxYoLRF2Fqh2yGTKBzsUGxU\n",
       "C+KhQ7hlkZrE1CGCiBa9eRJNNCPovTd/dnw7luHz1jvsvvl+v9/3+97/9wCRZXvnRaF8ONmZF0sY\n",
       "hugiJ/8rFKCwQP+/ilMojG+4J27eowrf0a85cQpF8QUqgZFKqnCQdmVKnEJBfMo1A5B+UIVlpKbm\n",
       "xCkUxFe2k/wEK6hCbSqbvSNwpQjiq6eNDFWztbySTneJXMtC+ORlNtQZpvAc0MvQXs4r2F8XL8Gc\n",
       "SiTj50UV2nxaT10g4xsBj/XU4nibH64uePbDE1DYDqF9t51mZjusefQBeMlhEYfqW4NTK3pZCi0+\n",
       "eQbK5XUiPFatAmqFDx5e8igMI2DS+oNf5Ofx+DHo+fujzBoHxoy1mJNPqTdBo0zXy1Vo8Q0RPZ/5\n",
       "CLe4VimJ6KoPvo2BiqVQNa2TYKqDNOnGXQO6rj5hyHngOIc5+dSH1dhnxVteRYUWH52KzXwELS/g\n",
       "tYZ1SAU/fJ7+jloZ5MIZ+hXS03SESNH1xknWgiUE5jjMydccSdG6lHG8igoZX4D2QZaPYNefjNf6\n",
       "LIGDhg9OdkJS8va53HuWeeCwfWTpsT0JtgYWPvaAw5x8SakdagMGXC/PuUz5wu6e7Y2YSKfTfTu8\n",
       "1qYDVURCKS7TlaIatsKRdop9wSEo1VZ/SbfZuBQQaOcwO5+WC8xDSeGo4+VVSPnK85xCFmEdZzUe\n",
       "63tgP3xwjJmI1jp3m3KdDunsdL8RupBOX6FzLsC485B/gsOs+Kd1E2RAXitJx8urkPKFSS7FLIlg\n",
       "k6fVKFpvktWR88GhHGmtcW9fGp0IkoGhBJJWf6kSy5RDkEyHNZidrxYy2Q4eSQnXy6OQ8klkvFTw\n",
       "EXtjpLQYHitpW1PGB/e5HzaSXCbeMDV5dRqDRLGBW6RRRczNFyTtJHuT+oluEJYXfz/shjIJPkLJ\n",
       "ZrPDumOVr0NehbwbHO6vMLICub8bEdLjWtdsn4nTOfVSLH6VmlzMzdefwuCySZcxHC9eodryykBJ\n",
       "BCkDrjW0C28XY232Rj6wJmr9O3YVmXNWyflgnhOCFWMDd+wI9+0546Lr4Bt7BUT9IyL//Ar4Q8Tz\n",
       "Tb1TNGy9QnMrXlLSXxSWvpelTb6Xk78BLuEtSthWsQoAAAAASUVORK5CYII=\n",
       "\" style=\"display:inline;vertical-align:middle;\" /></a></span></td></tr>\n",
       "<tr><td>&nbsp;</td><td colspan=4 style-\"text-align:left\"><a class=\"ProveItLink\" href=\"../disjunction/_proofs_/singularConstructiveDilemma.ipynb\">proveit.logic.boolean.disjunction.singularConstructiveDilemma</a></td></tr><tr><td><a name=\"-0x1cb7773a05151673_step3\">3</a></td><td>instantiation</td><td><a href=\"#-0x1cb7773a05151673_step7\">7</a>, <a href=\"#-0x1cb7773a05151673_step9\">9</a></td><td><span style=\"font-size:20px;\"><a class=\"ProveItLink\" href=\"../__pv_it/3900818251551f5b9efd236f309711180172b8500/expr.ipynb\"><img src=\"data:image/png;base64,iVBORw0KGgoAAAANSUhEUgAAAEkAAAAVBAMAAAD4Ed5jAAAAMFBMVEX///+IiIi6urrc3NxERETM\n",
       "zMwQEBCqqqpUVFQiIiJ2dnYyMjLu7u5mZmaYmJgAAABN0h6tAAAAAXRSTlMAQObYZgAAATVJREFU\n",
       "KM9jYGDgu8eAB7BePACieHYx4AVMqSCS7wNU0wZUWckU/20zFICM2yAe1wSIKPcHNEM2BPL4gByz\n",
       "ElnV6z9oqhz0GERZ0FTx1H6Gyj6ZOXMDVFU5uio+xk8QRSEyCLMWHUFTpcP+D2LmHoSNTFNbgfQy\n",
       "EIcDbDyPAutHsByHAVyV2vxvID++B3HKAsChwsD8FyzHguz6da9Anr8AdMZksFDE3RtfwIyw3UAA\n",
       "cz0L0wMgo1OAgUENbBbQ6GywKhNks1gYGoBmNYAc4gAk2IF4GliODVkVB8MGqLvAfjQH4v1gOV4B\n",
       "ZLP4FkD9CFLFDFLpD/HddHgMRTGsuoEUXjz+vw8wlPyfC5Y84XQANbZR4hEOtDxnoiQPiKoE/OkL\n",
       "oorvAwFV4PTFQCitJoEpdsLpHgBPT1V1M7jh/QAAAABJRU5ErkJggg==\n",
       "\" style=\"display:inline;vertical-align:middle;\" /></a> <a class=\"ProveItLink\" href=\"../__pv_it/561ca469fdca919247b7ce0f97e2fe814ed3e88e0/proof.ipynb\" style=\"text-decoration: none\">&#x22A2;&nbsp;</a><a class=\"ProveItLink\" href=\"../__pv_it/797dc3b4f5a3febe227b684e249665cb3ee57a680/expr.ipynb\"><img src=\"data:image/png;base64,iVBORw0KGgoAAAANSUhEUgAAAFIAAAAUBAMAAADsA3fZAAAAMFBMVEX////MzMxUVFR2dna6uroQ\n",
       "EBCqqqqIiIgiIiJmZmYyMjJERETu7u6YmJjc3NwAAACgK8IjAAAAAXRSTlMAQObYZgAAAVFJREFU\n",
       "KM9jYOC7wIAK2B4wYAenUXhSQKyHqoC9dfevCBUgYx2K8HogPoVmFhdjwemTFxh4JyAL8q4/wMDA\n",
       "XICqkpvlArvABgYOFFcdmw/k8gRAte3o6IKqZEvYwPACRfuFegcguQTMZtx+AG4ms88GhkpkhSwH\n",
       "8kEhYQnmnDqAsN1DSIBhL7LKIwzyIDfeAnP0EO6M+B/CwNDGwMDZAQIGQDEHhvcgD2aAFWxA8hHz\n",
       "XQOGECiXTwHoMs2Z+iB5ebAzo1YBAVQlwwZfFJUsDAysC2Aq+ZDNZNjABLIdrjKBgYEDFEIeYJEA\n",
       "ZJUKXHAfAVXyAVVyfYD7aDqKmZehIQIEAuCg5f4HJCaDBTgS4LFpwGypALUJnFT+r2Fg2/8D6PmF\n",
       "YD6Ptg9KCuHATGM8DdB4sIbEJixNTMBQiZ5CYGAfhsgpolIydr3Q4EHPHbzYcwcAqKJYcUJ1dmMA\n",
       "AAAASUVORK5CYII=\n",
       "\" style=\"display:inline;vertical-align:middle;\" /></a></span></td></tr>\n",
       "<tr><td>&nbsp;</td><td colspan=4 style=\"text-align:left\"><span style=\"font-size:20px;\"><a class=\"ProveItLink\" href=\"../../../__pv_it/d3792d0d8642fdf1cd2a3a9b32c673ee13653de00/expr.ipynb\"><img src=\"data:image/png;base64,iVBORw0KGgoAAAANSUhEUgAAAA8AAAAOBAMAAAACpFvcAAAALVBMVEX///8iIiIQEBBERERUVFS6\n",
       "urqIiIjc3NxmZmaqqqru7u6YmJgyMjLMzMwAAACK9jtgAAAAAXRSTlMAQObYZgAAAFtJREFUCNdj\n",
       "YACBOwxQcA5Kc59bAGGs7CuAMDbkBYBp1gXzNoAZSxnuJYAZAQx1DSCa16PDzwCshIGB6QCIMYGB\n",
       "gVEBSLMDGTwPgIxCIGZ+zsCw+N0pBk67hw0AfpEVEQi8t+wAAAAASUVORK5CYII=\n",
       "\" style=\"display:inline;vertical-align:middle;\" /></a> : <a class=\"ProveItLink\" href=\"../../../__pv_it/d3792d0d8642fdf1cd2a3a9b32c673ee13653de00/expr.ipynb\"><img src=\"data:image/png;base64,iVBORw0KGgoAAAANSUhEUgAAAA8AAAAOBAMAAAACpFvcAAAALVBMVEX///8iIiIQEBBERERUVFS6\n",
       "urqIiIjc3NxmZmaqqqru7u6YmJgyMjLMzMwAAACK9jtgAAAAAXRSTlMAQObYZgAAAFtJREFUCNdj\n",
       "YACBOwxQcA5Kc59bAGGs7CuAMDbkBYBp1gXzNoAZSxnuJYAZAQx1DSCa16PDzwCshIGB6QCIMYGB\n",
       "gVEBSLMDGTwPgIxCIGZ+zsCw+N0pBk67hw0AfpEVEQi8t+wAAAAASUVORK5CYII=\n",
       "\" style=\"display:inline;vertical-align:middle;\" /></a></span></td></tr><tr><td><a name=\"-0x1cb7773a05151673_step4\">4</a></td><td>instantiation</td><td><a href=\"#-0x1cb7773a05151673_step8\">8</a>, <a href=\"#-0x1cb7773a05151673_step9\">9</a></td><td><span style=\"font-size:20px;\"><a class=\"ProveItLink\" href=\"../__pv_it/3900818251551f5b9efd236f309711180172b8500/expr.ipynb\"><img src=\"data:image/png;base64,iVBORw0KGgoAAAANSUhEUgAAAEkAAAAVBAMAAAD4Ed5jAAAAMFBMVEX///+IiIi6urrc3NxERETM\n",
       "zMwQEBCqqqpUVFQiIiJ2dnYyMjLu7u5mZmaYmJgAAABN0h6tAAAAAXRSTlMAQObYZgAAATVJREFU\n",
       "KM9jYGDgu8eAB7BePACieHYx4AVMqSCS7wNU0wZUWckU/20zFICM2yAe1wSIKPcHNEM2BPL4gByz\n",
       "ElnV6z9oqhz0GERZ0FTx1H6Gyj6ZOXMDVFU5uio+xk8QRSEyCLMWHUFTpcP+D2LmHoSNTFNbgfQy\n",
       "EIcDbDyPAutHsByHAVyV2vxvID++B3HKAsChwsD8FyzHguz6da9Anr8AdMZksFDE3RtfwIyw3UAA\n",
       "cz0L0wMgo1OAgUENbBbQ6GywKhNks1gYGoBmNYAc4gAk2IF4GliODVkVB8MGqLvAfjQH4v1gOV4B\n",
       "ZLP4FkD9CFLFDFLpD/HddHgMRTGsuoEUXjz+vw8wlPyfC5Y84XQANbZR4hEOtDxnoiQPiKoE/OkL\n",
       "oorvAwFV4PTFQCitJoEpdsLpHgBPT1V1M7jh/QAAAABJRU5ErkJggg==\n",
       "\" style=\"display:inline;vertical-align:middle;\" /></a> <a class=\"ProveItLink\" href=\"../__pv_it/5cb335dae91a2ff3f72b4738d0e22ff031c265850/proof.ipynb\" style=\"text-decoration: none\">&#x22A2;&nbsp;</a><a class=\"ProveItLink\" href=\"../__pv_it/dce300f8f38b6c802ad0067ecb7880ef0edce6bd0/expr.ipynb\"><img src=\"data:image/png;base64,iVBORw0KGgoAAAANSUhEUgAAAFIAAAAUBAMAAADsA3fZAAAAMFBMVEX///92dnYiIiIQEBBERERU\n",
       "VFS6urqIiIjc3NxmZmaqqqru7u6YmJgyMjLMzMwAAADiRdoGAAAAAXRSTlMAQObYZgAAAThJREFU\n",
       "KM9jYMAGOA6gCXA1QBlv0SS2oPBAshFQ9n0QwQdmPgARN1BUgmT3Qpg89zcASVaQIp4CEDEBWSFY\n",
       "lrEAzN41H+QMvgAgwQTSw9SArBIsy20AZh+oT4DZmQliNKFYDpG9BmKybVgP9utKIPYAMSqRFUJl\n",
       "JUHsbQzvwa5gArrAAcTwQVYJlT0LYicw9IO9wF7AwAp2hhYDA6cSCAggZBeBfBI5Mx5sFLcCNDDM\n",
       "YBEQgJB9D3IIAwPzBbDMLAYpDJUwWZDKBUAXQsKgl0GBAWo7XCVMNgnIBbJ5P4BlWN5AwtcHoRIu\n",
       "exYSeCw/wDJ8QRvAtCTM3w8QshMZtvy/zcDl/wkSfzchCpIQSQUuew81DXVDKNTYZICGCzaAmkLA\n",
       "AJpCMIAHhshe7ArRUjJ2vThyB08DAwAvlFMuY44Z2wAAAABJRU5ErkJggg==\n",
       "\" style=\"display:inline;vertical-align:middle;\" /></a></span></td></tr>\n",
       "<tr><td>&nbsp;</td><td colspan=4 style=\"text-align:left\"><span style=\"font-size:20px;\"><a class=\"ProveItLink\" href=\"../../../__pv_it/d3792d0d8642fdf1cd2a3a9b32c673ee13653de00/expr.ipynb\"><img src=\"data:image/png;base64,iVBORw0KGgoAAAANSUhEUgAAAA8AAAAOBAMAAAACpFvcAAAALVBMVEX///8iIiIQEBBERERUVFS6\n",
       "urqIiIjc3NxmZmaqqqru7u6YmJgyMjLMzMwAAACK9jtgAAAAAXRSTlMAQObYZgAAAFtJREFUCNdj\n",
       "YACBOwxQcA5Kc59bAGGs7CuAMDbkBYBp1gXzNoAZSxnuJYAZAQx1DSCa16PDzwCshIGB6QCIMYGB\n",
       "gVEBSLMDGTwPgIxCIGZ+zsCw+N0pBk67hw0AfpEVEQi8t+wAAAAASUVORK5CYII=\n",
       "\" style=\"display:inline;vertical-align:middle;\" /></a> : <a class=\"ProveItLink\" href=\"../../../__pv_it/d3792d0d8642fdf1cd2a3a9b32c673ee13653de00/expr.ipynb\"><img src=\"data:image/png;base64,iVBORw0KGgoAAAANSUhEUgAAAA8AAAAOBAMAAAACpFvcAAAALVBMVEX///8iIiIQEBBERERUVFS6\n",
       "urqIiIjc3NxmZmaqqqru7u6YmJgyMjLMzMwAAACK9jtgAAAAAXRSTlMAQObYZgAAAFtJREFUCNdj\n",
       "YACBOwxQcA5Kc59bAGGs7CuAMDbkBYBp1gXzNoAZSxnuJYAZAQx1DSCa16PDzwCshIGB6QCIMYGB\n",
       "gVEBSLMDGTwPgIxCIGZ+zsCw+N0pBk67hw0AfpEVEQi8t+wAAAAASUVORK5CYII=\n",
       "\" style=\"display:inline;vertical-align:middle;\" /></a></span></td></tr><tr><td><a name=\"-0x1cb7773a05151673_step5\">5</a></td><td>assumption</td><td></td><td><span style=\"font-size:20px;\"><a class=\"ProveItLink\" href=\"../__pv_it/7f90c05b24ba3823b5ea7cb9b886bfb7a3a398740/expr.ipynb\"><img src=\"data:image/png;base64,iVBORw0KGgoAAAANSUhEUgAAAFMAAAAVBAMAAADInc9CAAAAMFBMVEX///+IiIi6urrc3NxERETM\n",
       "zMwQEBCqqqpUVFQiIiJ2dnYyMjLu7u5mZmaYmJgAAABN0h6tAAAAAXRSTlMAQObYZgAAAUpJREFU\n",
       "KM9jYGDgu8dACLBePACieHYxEAZMqSCS7wOUG41NDY9Ibx/zAgaG2yAO1wSo6H5sSsUeMLBfe8DA\n",
       "sBJZKd/+A5gqj8wBEvcN0JQeB4lAAQuMuQ2kXY0BTekDeQWEjx0gNO93EBmLppTpQP0DhMVvIZQ9\n",
       "WO4wEC8DMTg2gEUPMcQLgOibM0Fg/gWw4HoBmN73IKIsAMxWYLC/gOSf6gIQOT8AxucGSoZMhriu\n",
       "926/A3J4bgO5PB8cKGCiE2iBGlgnEwMD2wYkpRaLwaaCCHaQAu4GkFvBhgHt40wAMW7vBoPNYA3g\n",
       "8OOCuxUcAsxApdwfEIZqQ0MA5K01DLAQACu1BIX7Z4RL90Bo9n8MDLVgp8LD9cj/PQzs/j/hQcAB\n",
       "8/lZj15IxKDEFjJgxhCBKE0gIr1ClPJ9IEYpOL0yEJULkiDeJDJvAQAhe1pWhd+g2QAAAABJRU5E\n",
       "rkJggg==\n",
       "\" style=\"display:inline;vertical-align:middle;\" /></a> <a class=\"ProveItLink\" href=\"../__pv_it/a3a86b86ed9a31f06eaebf397296f521e60681ab0/proof.ipynb\" style=\"text-decoration: none\">&#x22A2;&nbsp;</a><a class=\"ProveItLink\" href=\"../__pv_it/6fa8cde582a96bd3cb54042f5d70b033e26864c40/expr.ipynb\"><img src=\"data:image/png;base64,iVBORw0KGgoAAAANSUhEUgAAAD8AAAAPBAMAAAChCwpBAAAAMFBMVEX///92dnYiIiIQEBBERERU\n",
       "VFS6urqIiIjc3NxmZmaqqqru7u6YmJgyMjLMzMwAAADiRdoGAAAAAXRSTlMAQObYZgAAAONJREFU\n",
       "GNNjYACBtwxYAHdJZAyHAIR9H5uC4gMMXJMPgJk89zdgym/RBhLzG8DsXVAaBFhgzMsgTckQ9oH6\n",
       "BLgCPgcIzfkLRL4Es9k2rD+AMPokhOpXAJE7wOxtDO8LQPQkJRDQnwAWlC9A6Elg6J+A5Lq1C0Ck\n",
       "/gOErZEz4x2Q/X8Z5CJ7sMfABBsDA/MFJAWtEmATQAQX2BigiUwGIMbcu2BwA6wM7HNGEIsDqID3\n",
       "A8KAXKgvQI6UBrGaQKHzA+GC2xCa6w8Dw0qQE7b8v83A5f8J7g1WmOt3ukYmYIsiDjQ+AHM/PMle\n",
       "6aWhAAAAAElFTkSuQmCC\n",
       "\" style=\"display:inline;vertical-align:middle;\" /></a></span></td></tr>\n",
       "<tr><td><a name=\"-0x1cb7773a05151673_step6\">6</a></td><td>assumption</td><td></td><td><span style=\"font-size:20px;\"><a class=\"ProveItLink\" href=\"../__pv_it/3b68ef9db7ffda65867274717345eb7ae5359a550/expr.ipynb\"><img src=\"data:image/png;base64,iVBORw0KGgoAAAANSUhEUgAAAHEAAAAVBAMAAACDNRyvAAAAMFBMVEX///+IiIi6urrc3NxERETM\n",
       "zMwQEBCqqqpUVFQiIiJ2dnYyMjLu7u5mZmaYmJgAAABN0h6tAAAAAXRSTlMAQObYZgAAAb1JREFU\n",
       "OMtjYGDgu8dAImC9eABE8ewCkcwP0GTZDfBoZUoFkXwfQOQRFJloIG7GpoVHpLePeQEDw20Qh2sC\n",
       "iNyMomA/EJ/GplPsAQP7NaDzVsJ18l1AlufbD/QHlwCmxiNzgMR9A2SdnCi+Og6S5EmA81lgsttA\n",
       "IaPGgKzTEsXoB/IKQHITIiwdIDTvdxAZi6JTFiXkDtSDQnotQuQthLIHB8lhIF4GYnBsABJ+yDoP\n",
       "McSD/PgaxL45EwTmQ4JhPdzr70FEWQCQmA50ClgNMMQZFBjsQSorkQyrLgCR8wNgfG6ggpDJIFYS\n",
       "VIS5Aeir3rv9II/FI8fjNpDP88FJB0x0Aq1XC0DTycTAwLYBTafFYrCd4MQFUs/dAPKnA8S1cJ1A\n",
       "h3GCYkQTJHB7NxhAEgooshi44P4Eh60fQiczUCf3B1gIQYA2NGxBIbSGARa2YJ3wGAgARy3LZyBx\n",
       "C+HLPdBc8I+BoRbsTUR8aiIS2P89DOz+P4FhtxUuxgEL07MevQoMqDo5MfMUzwQ4kxlDEqIzASPF\n",
       "gwG2FI+qE5I/nTEkT+MrFcD5k2EXZs7GbhZSyobEP/s9bKUJnwGBcggAfPZ0uQVUNg4AAAAASUVO\n",
       "RK5CYII=\n",
       "\" style=\"display:inline;vertical-align:middle;\" /></a> <a class=\"ProveItLink\" href=\"../__pv_it/4db227a98242d9f2e2564fe85c9d1e5c2d2276fd0/proof.ipynb\" style=\"text-decoration: none\">&#x22A2;&nbsp;</a><a class=\"ProveItLink\" href=\"../__pv_it/7a6a273e5d1805a20fa920db566b6b020bad85aa0/expr.ipynb\"><img src=\"data:image/png;base64,iVBORw0KGgoAAAANSUhEUgAAAFsAAAAUBAMAAAAQFlwTAAAAMFBMVEX////MzMxUVFR2dna6uroQ\n",
       "EBCqqqqIiIgiIiJmZmYyMjJERETu7u6YmJjc3NwAAACgK8IjAAAAAXRSTlMAQObYZgAAAV9JREFU\n",
       "KM9jYOC7wIAK2B4w4AGnUXhSQKyHTRlPtaYunwEDwzoU0fVAfAqb8tILDGxTLzDwTkAW5F1/gIGB\n",
       "uQCLG3qAxPwHDBwoLj0GFGHgCYDzuWGyS4HGMLgyMLxAMeRCvQOQXALnM26A0JzfQKQkA0MlsmqW\n",
       "A/mgcLJEiNyEUO8bQOQ5Boa9yMqPMMiD3H0LxJ7RAQL9EK/Zw7zTBrQJLAEMJAYHhvcg6QwkE7IS\n",
       "QGS/AJQbAqX5FIAu1ZypD3KsPHJ4LwX5Jh7kU4YDqMpZGBhYF6Apf2QHNh0c3QJgx8CVA+3lAAWi\n",
       "B0hg1iowgMQiKHwZmBkQXgUq5wMq5/oA8yoEeEFDBuRVG+RAEwBHAfc/IDEZ4fI10GT3l4Eh8wDM\n",
       "Ykg8/1/DwLb/BzBoFsLFmGAhcnKTJsjLaIkAYmQDnMmHLoeaxMAAWxKDg30YIqeIzx7YDUACGJmP\n",
       "F0/mAwCLAlhXFMiNBgAAAABJRU5ErkJggg==\n",
       "\" style=\"display:inline;vertical-align:middle;\" /></a></span></td></tr>\n",
       "<tr><td><a name=\"-0x1cb7773a05151673_step7\">7</a></td><td>theorem</td><td></td><td><span style=\"font-size:20px;\"> <a class=\"ProveItLink\" href=\"../negation/_proofs_/closure.ipynb\" style=\"text-decoration: none\">&#x22A2;&nbsp;</a><a class=\"ProveItLink\" href=\"../negation/__pv_it/9b99fba53d74736609b6aafc7fd28ad167531fa30/expr.ipynb\"><img src=\"data:image/png;base64,iVBORw0KGgoAAAANSUhEUgAAAJsAAAAUBAMAAABoqVKyAAAAMFBMVEX///8QEBCIiIhmZma6urrM\n",
       "zMxUVFQiIiJERETc3Nzu7u6qqqp2dnaYmJgyMjIAAAAcRTyBAAAAAXRSTlMAQObYZgAAAmtJREFU\n",
       "OMudVD1oFEEUft7e3+7tbVIE0oUBG7sEU9goBlIcBAJbpTQHRjCVJykiGOVI4x6id02ICJKVCIaE\n",
       "HAciYuWRQ9CYYlvRyOFpYQqTQjAWGt+bmZvdjTcp/OAt8/P2m/cPcCLMQEgMuVpv5ZcobVrs6ujW\n",
       "pIS4hDIbV0pc9/4MzgCk8Zl3dLCno/smJcQ+Sv2YlpNia6sBWGjaA3KprGHLjwiJnOz7ADaLq2WT\n",
       "QcJFji1kpuuGhi5TExJi4yJurX7JfWf+tqTLNZDuMR5tr68v63xdlhIiGB7D7xe+Ti36yjp7Aukc\n",
       "vDv0vAUd3WkpCkn/FeW5xTd1P3S2MOWilxiXKwAVflj5l+6eFIUnME1x+8Q3s2HsBo8GyHnMxTjP\n",
       "CK5/yIB87sx1Y3lTiDFPaOJmDFYoMy/4bTmSCnsXr3MlDDUkeJ2u/qZIty4Aaz56LvUGpPCKLmK0\n",
       "Lo9eI5JpHrqh7whJB+VJPDlAh4MMV9+eQ8vuPvSBMXtTQ5cEONXu0plR66CcFnRme4q/xTxyHMHY\n",
       "5Nu4s4oOg5ChIinwk/4oXdHB10qUghk6SsM52XFsdMjtkQqkM5HOOVCpOBuz7qNIBTwjTvgAw2CN\n",
       "COuMJanXUkWBcHkJZn/h57wo8oZqsqbdQuMNylYfpd7q7FT91A3PW6TYJaReQTnG58HRHuSqP/HN\n",
       "r3xvXZ2IjQBwyKs8VaPhw4oLRWGdbWibTPCUZFG/EU3WxVO1wjT3BfCa0zXtHe0I4Dg+ArrYUsE8\n",
       "BLN6C7IYjfxC574amJWe3VLvzSbaIYozGLuTx6emHblNNYD/GO55zW/vAf4C0m6ni8+oVXgAAAAA\n",
       "SUVORK5CYII=\n",
       "\" style=\"display:inline;vertical-align:middle;\" /></a></span></td></tr>\n",
       "<tr><td>&nbsp;</td><td colspan=4 style-\"text-align:left\"><a class=\"ProveItLink\" href=\"../negation/_proofs_/closure.ipynb\">proveit.logic.boolean.negation.closure</a></td></tr><tr><td><a name=\"-0x1cb7773a05151673_step8\">8</a></td><td>theorem</td><td></td><td><span style=\"font-size:20px;\"> <a class=\"ProveItLink\" href=\"unfoldInBool.ipynb\" style=\"text-decoration: none\">&#x22A2;&nbsp;</a><a class=\"ProveItLink\" href=\"../__pv_it/bbc5e2fcc1150e79da44b28fc9b1c538b74c9f1d0/expr.ipynb\"><img src=\"data:image/png;base64,iVBORw0KGgoAAAANSUhEUgAAAJsAAAAUBAMAAABoqVKyAAAAMFBMVEX///8QEBCIiIhmZma6urrM\n",
       "zMxUVFQiIiJERETc3Nzu7u6qqqp2dnaYmJgyMjIAAAAcRTyBAAAAAXRSTlMAQObYZgAAAjFJREFU\n",
       "OMudVM9LG0EUfiZZk0120/9AFk/euiDoqRDwVhByEo89tPeUHNpKBBGEDYLJpVoq4pYeBEtBkEK9\n",
       "BYsHfxyCnkpRFnPrpdJ6SAutvnlvJrNbMyI++Gbyvm/z5s17MwNwu63dkd6RiIRzaoqWn6PJivrS\n",
       "0oQ62GQcCuK7KVyxydOFGMv03xitPkI1HzHeoG/PmcKd8HT2R4zPxHAcoyGm7jKKIYCzZQr3ive2\n",
       "/VtMU2KY0bTaOanvGO7B5uaKKZpdoclNXaotZnxNS2O1WGJ0g6BmCpfyaXpc+CumAnq5pqalser4\n",
       "DKxInej6zXC5Nu2mZP0kF5Oa1rTaK6tuxJigjuDvS5n7eaeqapmlHxmwf5E7DPBU0eMv0GpaLVQY\n",
       "WUjRYu9Fyh++PAKvtfZJhhsoUQtGx7rkbsiVmUZb1qp1wXDaWZIOqpjZ4tsQPM/5mAiHwxC56S0+\n",
       "A4lwUlXh7IgOgOUFYuNonje5H99sAfGcGx1lYzXgcErNVBhQp3oMwri8cd7oUDneilXED/YXjiHR\n",
       "imWtqlbANp2ib/AQ8j5nl34tPxedp0PW4Fs1NdOj+bZqNd1iwANPtLtz1Aitl0EwL2qXkp9j9vnG\n",
       "vxA+X1X5dvqKVqekpxbLDHBDUeUQ1svwhLNz0slLpm9J2JfmrjPYJjHLNuxRuJZz9N8TYHgZ4iaf\n",
       "AFnzLtiNWchhy9xaZ6l36nPNvuFu0uqBStoI1s78Tt5CiwUMa9/ncf/KuAadcqSbKmjdIwAAAABJ\n",
       "RU5ErkJggg==\n",
       "\" style=\"display:inline;vertical-align:middle;\" /></a></span></td></tr>\n",
       "<tr><td>&nbsp;</td><td colspan=4 style-\"text-align:left\"><a class=\"ProveItLink\" href=\"unfoldInBool.ipynb\">proveit.logic.boolean.unfoldInBool</a></td></tr><tr><td><a name=\"-0x1cb7773a05151673_step9\">9</a></td><td>assumption</td><td></td><td><span style=\"font-size:20px;\"><a class=\"ProveItLink\" href=\"../__pv_it/3900818251551f5b9efd236f309711180172b8500/expr.ipynb\"><img src=\"data:image/png;base64,iVBORw0KGgoAAAANSUhEUgAAAEkAAAAVBAMAAAD4Ed5jAAAAMFBMVEX///+IiIi6urrc3NxERETM\n",
       "zMwQEBCqqqpUVFQiIiJ2dnYyMjLu7u5mZmaYmJgAAABN0h6tAAAAAXRSTlMAQObYZgAAATVJREFU\n",
       "KM9jYGDgu8eAB7BePACieHYx4AVMqSCS7wNU0wZUWckU/20zFICM2yAe1wSIKPcHNEM2BPL4gByz\n",
       "ElnV6z9oqhz0GERZ0FTx1H6Gyj6ZOXMDVFU5uio+xk8QRSEyCLMWHUFTpcP+D2LmHoSNTFNbgfQy\n",
       "EIcDbDyPAutHsByHAVyV2vxvID++B3HKAsChwsD8FyzHguz6da9Anr8AdMZksFDE3RtfwIyw3UAA\n",
       "cz0L0wMgo1OAgUENbBbQ6GywKhNks1gYGoBmNYAc4gAk2IF4GliODVkVB8MGqLvAfjQH4v1gOV4B\n",
       "ZLP4FkD9CFLFDFLpD/HddHgMRTGsuoEUXjz+vw8wlPyfC5Y84XQANbZR4hEOtDxnoiQPiKoE/OkL\n",
       "oorvAwFV4PTFQCitJoEpdsLpHgBPT1V1M7jh/QAAAABJRU5ErkJggg==\n",
       "\" style=\"display:inline;vertical-align:middle;\" /></a> <a class=\"ProveItLink\" href=\"../__pv_it/d818dd8bdac198af6b3e0a51d5438a543228dbb60/proof.ipynb\" style=\"text-decoration: none\">&#x22A2;&nbsp;</a><a class=\"ProveItLink\" href=\"../__pv_it/6a848856aa8448d2c8078b64fa7ec7edda2394a90/expr.ipynb\"><img src=\"data:image/png;base64,iVBORw0KGgoAAAANSUhEUgAAADYAAAAPBAMAAABdHiGLAAAAMFBMVEX///92dnYiIiIQEBBERERU\n",
       "VFS6urqIiIjc3NxmZmaqqqru7u6YmJgyMjLMzMwAAADiRdoGAAAAAXRSTlMAQObYZgAAANdJREFU\n",
       "GNNjYACBtwwogF3Z5a9RGJRzH1WOgZevYMvOA2Amz/0NqHIsbAfYHziAmbvmN0DEeJyUdKFyXAsg\n",
       "cgfqE8A0n/sGuD7GbLAc24b1ELP3bkCYmfT0AYi1jeF9AVgoAmGf0X8zMCuBoX8CmOGA5BbGMwIg\n",
       "WyJnxoNF+WzvAgFUjsEhB2QdAwPzBZAIB7I+BgdWIGMBAwOTAVjIAFkugBeoGijH+wEsNB1F30EG\n",
       "hiYQ+wdYiGkBPMwEGCUDGLb8v83A5f8J7FDukGzMsIYBNhFImEEAAEUpOYcaSaDVAAAAAElFTkSu\n",
       "QmCC\n",
       "\" style=\"display:inline;vertical-align:middle;\" /></a></span></td></tr>\n",
       "</table>"
      ],
      "text/plain": [
       "\tstep type\trequirements\tstatement\n",
       "0\tgeneralizaton\t1\t|- forall_{C} [forall_{A in BOOLEANS | A => C, [not](A) => C} C]\n",
       "1\tinstantiation\t2, 9, 3, 4, 5, 6\t{A in BOOLEANS, A => C, [not](A) => C} |- C\n",
       "\tA : A, B : [not](A), C : C\n",
       "2\ttheorem\t\t|- forall_{A in BOOLEANS, B in BOOLEANS | A or B} [forall_{C | A => C, B => C} C]\n",
       "\tproveit.logic.boolean.disjunction.singularConstructiveDilemma\n",
       "3\tinstantiation\t7, 9\t{A in BOOLEANS} |- [not](A) in BOOLEANS\n",
       "\tA : A\n",
       "4\tinstantiation\t8, 9\t{A in BOOLEANS} |- A or [not](A)\n",
       "\tA : A\n",
       "5\tassumption\t\t{A => C} |- A => C\n",
       "6\tassumption\t\t{[not](A) => C} |- [not](A) => C\n",
       "7\ttheorem\t\t|- forall_{A in BOOLEANS} ([not](A) in BOOLEANS)\n",
       "\tproveit.logic.boolean.negation.closure\n",
       "8\ttheorem\t\t|- forall_{A in BOOLEANS} (A or [not](A))\n",
       "\tproveit.logic.boolean.unfoldInBool\n",
       "9\tassumption\t\t{A in BOOLEANS} |- A in BOOLEANS"
      ]
     },
     "execution_count": 7,
     "metadata": {},
     "output_type": "execute_result"
    }
   ],
   "source": [
    "%qed"
   ]
  },
  {
   "cell_type": "code",
   "execution_count": null,
   "metadata": {},
   "outputs": [],
   "source": []
  }
 ],
 "metadata": {
  "kernelspec": {
   "display_name": "Python 3",
   "language": "python",
   "name": "python3"
  }
 },
 "nbformat": 4,
 "nbformat_minor": 0
}
