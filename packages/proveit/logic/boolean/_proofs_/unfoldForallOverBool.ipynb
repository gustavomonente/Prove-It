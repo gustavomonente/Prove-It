{
 "cells": [
  {
   "cell_type": "markdown",
   "metadata": {},
   "source": [
    "Proof of <a class=\"ProveItLink\" href=\"../../../_context_.ipynb\">proveit</a>.<a class=\"ProveItLink\" href=\"../../_context_.ipynb\">logic</a>.<a class=\"ProveItLink\" href=\"../_context_.ipynb\">boolean</a>.<a class=\"ProveItLink\" href=\"../_theorems_.ipynb#unfoldForallOverBool\">unfoldForallOverBool</a> theorem\n",
    "========"
   ]
  },
  {
   "cell_type": "code",
   "execution_count": 1,
   "metadata": {},
   "outputs": [],
   "source": [
    "import proveit\n",
    "context = proveit.Context('..') # the theorem's context is in the parent directory"
   ]
  },
  {
   "cell_type": "code",
   "execution_count": 2,
   "metadata": {},
   "outputs": [
    {
     "name": "stdout",
     "output_type": "stream",
     "text": [
      "Beginning proof of unfoldForallOverBool\n",
      "Recorded 'presuming' information\n",
      "Presuming previous theorems (applied transitively).\n"
     ]
    },
    {
     "data": {
      "text/html": [
       "<strong id=\"unfoldForallOverBool\">unfoldForallOverBool:</strong> <a class=\"ProveItLink\" href=\"../__pv_it/de073a3d6fb05b910dbef54a7bc6038276442a220/expr.ipynb\"><img src=\"data:image/png;base64,iVBORw0KGgoAAAANSUhEUgAAAUsAAAAUBAMAAAD2NgI7AAAAMFBMVEX///8QEBCIiIhmZma6urrM\n",
       "zMxUVFQiIiJERETc3Nzu7u6qqqp2dnaYmJgyMjIAAAAcRTyBAAAAAXRSTlMAQObYZgAABApJREFU\n",
       "SMeVl0FoFFkQhmtnMpOZTM8EIScP0uBhRWRtFHQVlKCHhYXAnETwoMgmhyWsI4IaN0L0oBNEZy6i\n",
       "7JJNiwdFMQSDqKcdjCKaHGYRBBFlcBBRwYgGjSFrrHqvXvd73S8hFlRP99Q3r/+uqvf6DYDFsnX4\n",
       "6SUsxYaCs9sA+VediyIRfClDBt6gL56Z5GWAu9aAsvy+mZ4/NgO0DYjLFLLpKoBjkUmIhm88RHZQ\n",
       "4IY9nj/R0/TVkLvoQIzyCfrijfmT1yTTFgisHYUd86Egb1Z4j8M37DIFYuDXhfoGxwO5XwEyyyHK\n",
       "KD9PRR4wc+WRTEsgtN01gH9deCSvns/i4Y5d5qMYLiQQLqzJn6k5gNwHiDHsBUy0M2qM3FolmZZA\n",
       "aGtR0Noa9Mm6jn3B4wVD5qA66YvhUsIFVnfSlyeJafQ5iDHs+YdXrpwzNdDlXVsgtAr6vs5sSWaf\n",
       "bgGFTl3mTjUbSzFcSihINr3NlWAGGyc9DTFG+Uy53G9qWClkWgKhYSNlP0LCExe/5v7Ho+PpMvMe\n",
       "J8mL4VKCIy9GoBR2+7AXZ5R3iwq1VHp//p1vcVrK7FalG4yppEa6WYNMXdS8M/WBhDWkzKSYy4c+\n",
       "cpLqUZwl5OUcmpBTVbRvrh/ijPLtctb9B3CfRfwpZXIA8tOcoBfNA9yriU+T46uxicVlC2UK+79k\n",
       "TKHcW9nno1GcJeRkFkvwD3d77+Q638Iob4UEPUEPknyHDimTA3CRSnp1fAu4taEbnKNZ8fGDkLVj\n",
       "/YYZStl7c6aPdASIgbMExOnRXUgXZbf7dka5U2+lr44ClE2ZHICHB3C4U3/54LrONW6kkjYmHlbE\n",
       "ZWZ7qwFi4IbMVh9Se8T1Z1hcZraxgxrsCySOmEWXAUi5ZWoANNftesCN5IUVzaHvp9pz0ZPvpFVD\n",
       "RMeVhBYhfUy+TPAu3MsxRjkM/kbfzK2ZAHMKyQCkYSO/Ut31K4rhsqnmx9/oU9oUktbS0KaQjptT\n",
       "6DVLFcumlVEOY6TVaYT1GmeZIgBPsWfbPJnN5FlJTPnBgiEWugqmLlnTZY7wqi3WHQ0PJCCOORyQ\n",
       "hcelcRbsjHJopwU244Uyf2GZItDWnKz4qcPl8nHqzYQAts7vVUVpq3z14dY8tm+hqMvsVlktGThZ\n",
       "l1y6qTBp+kECb5Oc+uQGDG5PltH2RDDKIU9P0z4afVlyIOnDcBH2yGw6SXP97NPOLxkvy6oNieC0\n",
       "lpEVFxkycJ4U1ejWgw2fvb0O94TMmjNp2VewLbb1sONWizJ3dDYxtUkLD4YyMzOQrRyFDCY73988\n",
       "UzfHzIQPt9BGTkOiuNUijHKbXdayybYKe9O+59WGX2hbvAButQijfIE/GT9+75+MJ1iS7/iT8WRp\n",
       "Qyr/BncQej609drgAAAAAElFTkSuQmCC\n",
       "\" style=\"display:inline;vertical-align:middle;\" /></a><br>(see <a class=\"ProveItLink\" href=\"../__pv_it/de073a3d6fb05b910dbef54a7bc6038276442a220/dependencies.ipynb\">dependencies</a>)<br>"
      ],
      "text/plain": [
       "unfoldForallOverBool: forall_{P} ([forall_{A in BOOLEANS} P(A)] => (P(TRUE) and P(FALSE)))"
      ]
     },
     "execution_count": 2,
     "metadata": {},
     "output_type": "execute_result"
    }
   ],
   "source": [
    "%proving unfoldForallOverBool presuming []"
   ]
  },
  {
   "cell_type": "code",
   "execution_count": null,
   "metadata": {},
   "outputs": [],
   "source": []
  }
 ],
 "metadata": {
  "kernelspec": {
   "display_name": "Python 3",
   "language": "python",
   "name": "python3"
  }
 },
 "nbformat": 4,
 "nbformat_minor": 0
}
