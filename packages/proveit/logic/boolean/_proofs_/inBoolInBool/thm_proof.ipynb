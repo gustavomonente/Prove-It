{
 "cells": [
  {
   "cell_type": "markdown",
   "metadata": {},
   "source": [
    "Proof of <a class=\"ProveItLink\" href=\"../../../../_theory_.ipynb\">proveit</a>.<a class=\"ProveItLink\" href=\"../../../_theory_.ipynb\">logic</a>.<a class=\"ProveItLink\" href=\"../../_theory_.ipynb\">boolean</a>.<a class=\"ProveItLink\" href=\"../../_theorems_.ipynb#inBoolInBool\">inBoolInBool</a> theorem\n",
    "========"
   ]
  },
  {
   "cell_type": "code",
   "execution_count": null,
   "metadata": {},
   "outputs": [],
   "source": [
    "import proveit\n",
    "from proveit._common_ import l, x, A\n",
    "from proveit.numbers import two\n",
    "from proveit.logic import boolsDef, TRUE, FALSE\n",
    "from proveit.logic.boolean._theorems_ import inBoolDef\n",
    "from proveit.logic.set_theory.enumeration._axioms_ import enumSetDef\n",
    "theory = proveit.Theory() # the theorem's theory"
   ]
  },
  {
   "cell_type": "code",
   "execution_count": null,
   "metadata": {},
   "outputs": [],
   "source": [
    "%proving inBoolInBool"
   ]
  },
  {
   "cell_type": "code",
   "execution_count": null,
   "metadata": {},
   "outputs": [],
   "source": [
    "inBoolDef"
   ]
  },
  {
   "cell_type": "code",
   "execution_count": null,
   "metadata": {},
   "outputs": [],
   "source": [
    "inBoolDefSpec = inBoolDef.instantiate({A:A})"
   ]
  },
  {
   "cell_type": "code",
   "execution_count": null,
   "metadata": {},
   "outputs": [],
   "source": [
    "inBoolDefRHSInBool = inBoolDefSpec.rhs.deduceInBool()"
   ]
  },
  {
   "cell_type": "code",
   "execution_count": null,
   "metadata": {},
   "outputs": [],
   "source": [
    "inBoolDefSpec.subLeftSideInto(inBoolDefRHSInBool)"
   ]
  },
  {
   "cell_type": "code",
   "execution_count": null,
   "metadata": {},
   "outputs": [],
   "source": [
    "%qed"
   ]
  },
  {
   "cell_type": "code",
   "execution_count": null,
   "metadata": {},
   "outputs": [],
   "source": []
  }
 ],
 "metadata": {
  "kernelspec": {
   "display_name": "Python 3",
   "language": "python",
   "name": "python3"
  }
 },
 "nbformat": 4,
 "nbformat_minor": 0
}
