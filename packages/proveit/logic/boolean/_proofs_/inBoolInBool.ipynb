{
 "cells": [
  {
   "cell_type": "markdown",
   "metadata": {},
   "source": [
    "Proof of <a class=\"ProveItLink\" href=\"../../../_context_.ipynb\">proveit</a>.<a class=\"ProveItLink\" href=\"../../_context_.ipynb\">logic</a>.<a class=\"ProveItLink\" href=\"../_context_.ipynb\">boolean</a>.<a class=\"ProveItLink\" href=\"../_theorems_.ipynb#inBoolInBool\">inBoolInBool</a> theorem\n",
    "========"
   ]
  },
  {
   "cell_type": "code",
   "execution_count": 1,
   "metadata": {},
   "outputs": [],
   "source": [
    "import proveit\n",
    "from proveit._common_ import l, x, A, yy\n",
    "from proveit.number import two\n",
    "from proveit.logic import boolsDef, TRUE, FALSE\n",
    "from proveit.logic.boolean._theorems_ import inBoolDef\n",
    "from proveit.logic.set_theory.enumeration._axioms_ import enumSetDef\n",
    "context = proveit.Context('..') # the theorem's context is in the parent directory"
   ]
  },
  {
   "cell_type": "code",
   "execution_count": 2,
   "metadata": {},
   "outputs": [
    {
     "name": "stdout",
     "output_type": "stream",
     "text": [
      "Beginning proof of inBoolInBool\n",
      "Recorded 'presuming' information\n"
     ]
    },
    {
     "name": "stdout",
     "output_type": "stream",
     "text": [
      "Presuming theorems in proveit.logic (except any that presume this theorem).\n",
      "Presuming previous theorems (applied transitively).\n"
     ]
    },
    {
     "data": {
      "text/html": [
       "<strong id=\"inBoolInBool\">inBoolInBool:</strong> <a class=\"ProveItLink\" href=\"../__pv_it/418eeb380605aea477764e689ed252796da66d500/expr.ipynb\"><img src=\"data:image/png;base64,iVBORw0KGgoAAAANSUhEUgAAAKAAAAAUBAMAAAD4uit9AAAAMFBMVEX///8QEBCIiIhmZma6urrM\n",
       "zMxUVFQiIiJERETc3Nzu7u6qqqp2dnaYmJgyMjIAAAAcRTyBAAAAAXRSTlMAQObYZgAAAhhJREFU\n",
       "OMtjYMAC5kIxTsA9Abf4AxDjLoowVwMEAwHrA1Qd6hL9D8scGBgyGXCKnwbxX6HI8k2AYBDzA5rO\n",
       "B0FcXbYMDOsYcIrPAPI4G1AkL0MxENz7haaxwZdBlYOBgUcBpzjfAiC1AUWyEoqBHt/8Eyp2o7z8\n",
       "AVTjbqBGLgGIMG97eR0DqjjvqVWrpqOYx1kAwSD1TF8gYhFaCJccWQGkn0CCuGkBpviPjo4aFAOZ\n",
       "DCAYCLy4/0Jc+grhNZbSVCB9GMxbtwCLOJDqBIt1QuU4LkAw0BwH1k9gITZ4MmlwrP/oAApcMA8R\n",
       "2Ujizgxc4NDhhfqOgX0DBDMwsDBwfobYgRz4Z+8A6e0QHjZxdgYmsHMW/4XKMTpAMANDmLHZD7BQ\n",
       "4DsggEUKBwtQfTw4COVA4gxo4jwX2MFCp4oxDAQScmChGcgu4WBIgBrI2YBNnPNBGNg2hQ50L3MD\n",
       "cSHEDmSNbKDc5Q7mCWAV70wBhzuDOXqkzAbi92AhZgVkl/AegEWKEQM28c3gNHebQR8qx2MAweC0\n",
       "2A+J32p4FothOGMGpG3gnsEU5wdZz/X4TD80UbEUgDFX/78FDDv+Q0J2WcsClEKA4SkkfWZ4MWCK\n",
       "84LUMi9gmB+AkfUQwKe9HLng4SqAWn4CmvXQxBkYfIEuvYBZOOACGIUDujjHDwbO/loYZwIE4wHr\n",
       "SBJHKmBxgU7SxAlWAbwTcIoDAOFcsb5rLLYBAAAAAElFTkSuQmCC\n",
       "\" style=\"display:inline;vertical-align:middle;\" /></a><br>(see <a class=\"ProveItLink\" href=\"../__pv_it/418eeb380605aea477764e689ed252796da66d500/dependencies.ipynb\">dependencies</a>)<br>"
      ],
      "text/plain": [
       "inBoolInBool: forall_{A} ((A in BOOLEANS) in BOOLEANS)"
      ]
     },
     "execution_count": 2,
     "metadata": {},
     "output_type": "execute_result"
    }
   ],
   "source": [
    "%proving inBoolInBool presuming [proveit.logic]"
   ]
  },
  {
   "cell_type": "code",
   "execution_count": 3,
   "metadata": {},
   "outputs": [
    {
     "data": {
      "text/html": [
       "<span style=\"font-size:20px;\"> <a class=\"ProveItLink\" href=\"inBoolDef.ipynb\" style=\"text-decoration: none\">&#x22A2;&nbsp;</a><a class=\"ProveItLink\" href=\"../__pv_it/12999e172d8beca4d19d97228142538442c4792b0/expr.ipynb\"><img src=\"data:image/png;base64,iVBORw0KGgoAAAANSUhEUgAAAVMAAAAUBAMAAADCT8MnAAAAMFBMVEX///8QEBCIiIhmZma6urrM\n",
       "zMxUVFQiIiJERETc3Nzu7u6qqqp2dnaYmJgyMjIAAAAcRTyBAAAAAXRSTlMAQObYZgAAA4ZJREFU\n",
       "SMedV01oE0EUfs1Ps9lsUoVCbxL05qWBgr0IBjwUikK8lIJgC9aDJ1sKLlaFHBSTgyS3FkSaUrGl\n",
       "Qgn2oJ4s7a2KhHqxaEugKthDKyrYClrf/O3u7O5M0AffZLMz37xv3sy8mQUIsWSDQW0vQt495NBY\n",
       "qhpGauVIoElebMr18xxol+SayFjpT9cIQHvAJ5hFBrR401cXtakNw9UQUhiB2EVSEEcCr8iLHbnR\n",
       "Fw60PR8/E8/OzzbADPadqTKQx68hAc2ScpE+F6g8QVIQ4CkdS9PFFJnwotQmnWMgj3s1mW/EGpEC\n",
       "Nl8J9PyWA23rl0qqRcsrpFgHPYFJpY44MqjFqkttElUGtCdn+Ey/s+0ml5qqo9SZQM83ODACSwcq\n",
       "qeYRUg6QYgL0BC51xkV6bWFhUm4zyYHW6M7T38GTblStfpSayfu34igDmYrID5VU+CimPZYDPYFL\n",
       "JY4E9kulW3KbExzYX+0lTQTmjmcB9A3gWrNyvo4jOQa0/tRvpdRV+oztjCroCVwqcSSAC6dMX5ZF\n",
       "m/scAI9gKCv2oZDaddhJAkGXw5tdYtu0osGA48rHv1EntHI3J0ndoiUGc1CQXIK3O0cqcSRwlm/n\n",
       "tDMJNzkA8jBNPRnebWVtLqPnUV8MEnUGnApIfldG9RktjwOMCJKKwKUSRwIJiNCxzTqT0MkB8cs9\n",
       "12hyuEBGK7YVFM9jlT+9tOUZcNP0nNpXSh2i5RwPj47ApRJHAlYjQd+tjQekxrAz2uWUN6pQbNdK\n",
       "xeJYC6nROks6OkKI1GST5o54thRYAGROaXZpk6QOZ3AUo+7i+iwtgBRizLNWhyWpfSxdNBPOqnEJ\n",
       "3u4cqcSRAJTpsmmHXv+2StbFORLNSlH9ILaV92wQ2+pByBnn31Zwd90hqQgh2wqWaIDeQ7dos8pB\n",
       "cqtx4ASaH6zL1ioGKrrs61gkFJoqK1WV1NPs38CEQ1IRuFTiSAA6SCfm9uuKOEP7GOYPdyBV+UlT\n",
       "wOM7Nem6ApmCr2M+SWblTw2eH44HHMfYTe0TH3FOkBSEXts+atvXmSMBSBMV0RpMF4IHq2Pn7tnS\n",
       "lM9pDlaNmTzHJWsuSW9zHjDD/NPRCF5XlKa9rqjNygZJrR2teB0a+5Cs3Bb/yt6zKzw6wUsgOSmN\n",
       "agvHiyGklo4EwsxztVaYob1aq60cfrXWO9IFofUHy8b/fbCk//mDZcPFXwUnQf2viAHxAAAAAElF\n",
       "TkSuQmCC\n",
       "\" style=\"display:inline;vertical-align:middle;\" /></a></span>"
      ],
      "text/plain": [
       "|- forall_{A} ((A in BOOLEANS) = ((A = TRUE) or (A = FALSE)))"
      ]
     },
     "execution_count": 3,
     "metadata": {},
     "output_type": "execute_result"
    }
   ],
   "source": [
    "inBoolDef"
   ]
  },
  {
   "cell_type": "code",
   "execution_count": 4,
   "metadata": {},
   "outputs": [
    {
     "data": {
      "text/html": [
       "<strong id=\"inBoolDefSpec\">inBoolDefSpec:</strong> <span style=\"font-size:20px;\"> <a class=\"ProveItLink\" href=\"../__pv_it/8f324072905b4663e418461fc8594abb026b78750/proof.ipynb\" style=\"text-decoration: none\">&#x22A2;&nbsp;</a><a class=\"ProveItLink\" href=\"../__pv_it/83dbf074467f5461971751d0dfe3e7458b2d0d2a0/expr.ipynb\"><img src=\"data:image/png;base64,iVBORw0KGgoAAAANSUhEUgAAAR0AAAAUBAMAAABCPPQ0AAAAMFBMVEX///9UVFTMzMx2dna6uroQ\n",
       "EBCqqqqIiIgiIiJmZmYyMjJERETu7u6YmJjc3NwAAAC+aOQFAAAAAXRSTlMAQObYZgAAAwxJREFU\n",
       "SMedVj9ok0EUf03S/E8I0kWEmiwOOjSbVJeMHSJ0iFA6ZVMRtJs4GYfKpxRJcdBORnGxiA0uCmKS\n",
       "wUpMloBDsWDJJC6ig6BWbXz33uX7c993F/TB77i777v7/d67d38AsgMw2KWAvs8SBosO1R4zDRMR\n",
       "WZ/bx72fY6sv95dmAKZ8E0O6yUALNZRvCYssB7PqqGAasmOiEERE9pQ7t5SfkqGV/tsBpBu+4ckh\n",
       "Q1S/BoRmRZQ9qudJNFU1NMLOkZcNRqZOfZmtjvenVGQQy2MUTvqGv5dA2/2t0xOm8pAodmh+DY2t\n",
       "h4gQcfb0zX25MJkX1i2pJ1pFPdu+4bcl0J8LBzo96UVRFkSxJgqVxq9nm/GJ+wbXSpwRzzt2fMJl\n",
       "1JMsqYlZYwjtsW86PfBovLQRioxCE6BHECGuUiPSucz53+s467VQwPUP15XRsToDrRz9o9UzT3X8\n",
       "L0URUWgC9AgixCtqvIY5nmbWyZ+lUUXEgBL61Kawx/RhwMA1KYW+00z0cbPu0bNLJcbxBFW8NK7p\n",
       "bD2CCHGDGiX4wtM1Xfkc/lDE6WuKN/EqA72F7E9tfM5TeQVghioKTUB8BBGiQllzeOMoKQktC+FS\n",
       "DzTPYI+6padLDMzWjfVfWj1zVHbHB4aXJkiPIEJU2FOYpnFZd3ygOWXUg8XyBD2Jarjq6LFpDHoo\n",
       "kGIJaIPColtPLolz1JwFf+BZryhi1ZU/OY+eBd6MjTg462XTuKaz9QgihEi0bNU+au964vNunM/u\n",
       "g3Kczx+Dj1tPPsOzHbDz2UUTEB+Zz/PycEgd2Nkq74tieB5dThSV0XJf8hnUHur03OFWYQ3s7e+i\n",
       "CdAjiBAY1/7oCUTbPyjz00fKnvsUknlltIxrur3fgYujm77ZI3zCPJRuyf2k0Dh2z7LOWtZ1JkLE\n",
       "FQ8jp/m+GFvXcF8YLC2Piaw8X+PDSSO6jEzd/JvxPtUb36eOTaKx71Nomf30709xAaQmudtTO1qT\n",
       "AirfG+OHksZSxveY3lqa95iRiMjMD8m9/3uvZv75vbrH+AtergN9Aum3tAAAAABJRU5ErkJggg==\n",
       "\" style=\"display:inline;vertical-align:middle;\" /></a></span><br>"
      ],
      "text/plain": [
       "inBoolDefSpec: |- (A in BOOLEANS) = ((A = TRUE) or (A = FALSE))"
      ]
     },
     "execution_count": 4,
     "metadata": {},
     "output_type": "execute_result"
    }
   ],
   "source": [
    "inBoolDefSpec = inBoolDef.instantiate({A:A})"
   ]
  },
  {
   "cell_type": "code",
   "execution_count": 5,
   "metadata": {},
   "outputs": [
    {
     "data": {
      "text/html": [
       "<strong id=\"inBoolDefRHSInBool\">inBoolDefRHSInBool:</strong> <span style=\"font-size:20px;\"> <a class=\"ProveItLink\" href=\"../__pv_it/fbc97c2197f128d3955c4acc96bdd31460e094860/proof.ipynb\" style=\"text-decoration: none\">&#x22A2;&nbsp;</a><a class=\"ProveItLink\" href=\"../__pv_it/45fd9b7d6a96ca5eb926e9d7752ba56ee4463d6f0/expr.ipynb\"><img src=\"data:image/png;base64,iVBORw0KGgoAAAANSUhEUgAAAOMAAAAUBAMAAACNN5feAAAAMFBMVEX///9UVFTMzMx2dna6uroQ\n",
       "EBCqqqqIiIgiIiJmZmYyMjJERETu7u6YmJjc3NwAAAC+aOQFAAAAAXRSTlMAQObYZgAAAp5JREFU\n",
       "SMeVVktoE1EUPZmOSdrJhOBKEbTiQhCkBcWiImQjKLSQhQupm67UImhwpSvbQmV0UVMEtQsxii4s\n",
       "YrPThTazUBG7CbhqF5KViCi6UPy33nfvSzKTzJvogfPml/fOvWfuuxMgWwMzDqc77nyMn5CsC6Ox\n",
       "pEnY0f7shqcwiUT77EyFD1a5cz1rTI2bNYM4d6x6bzJPJw81CQsREZ1gBV7a4hv9auiTGPo+RyRY\n",
       "VOMrzRDK2zNPbgJuSUhwF3yDJIbUkFBqLq+4LA9Xfpske4rCECojOOsA6bqQ8OJW3ST5nLPM0ZDm\n",
       "sGbE3vFVk2SmIORUHnuXG5LHSfIdhITahbxJso+fKP8Pq5PshKyV+mKSxF1NivSR38pyN5XNeQgB\n",
       "2z9TM0n2sPXjxEV1kpI3MZz8Y5Tcq0mv1G8Za0+tB55CCDzDAP9637zC/ZCky/WTppC5VB2OLZO3\n",
       "vnE8PGG+FJJc0QwWbuXgla9k10UIgTw+lUxZJtnJVBEJdjjNG8FG9ocxy5OaJBQsnwOvgSMQwto4\n",
       "t6VikrR4N2QmdOGvY+Gtc7O/jJIDmrBGlQUNSceutSRtWqkcL4lr2BOQpGG0u2Q2lKWDXMtY8ipd\n",
       "aL3L2yFJW0r0PeTIxiaJ04F3mQtJHtIECkHJBMrN8smORTeTYPnA2Snrcfm8je5XHeVzPZSlO9gs\n",
       "ZrU3nVWTZO+g+LvBb+4Z3pvVuknyqmaj1rjhbcOu2aYBS2sPkKx+7yzZEWkF/XKltw75nKn+9HFq\n",
       "7VL4172eN33U88jjOxBS0W0aDrf1QMOLwUt9/KCPM90mUHEzOcD9uuFpBNp6DIbarpe7TYhs6w0s\n",
       "NrpYXMztu8fp5kvkxyviE22EY/hEmxGbyL/8EXnzv39E3LowCn8BA+PKE2HtJF8AAAAASUVORK5C\n",
       "YII=\n",
       "\" style=\"display:inline;vertical-align:middle;\" /></a></span><br>"
      ],
      "text/plain": [
       "inBoolDefRHSInBool: |- ((A = TRUE) or (A = FALSE)) in BOOLEANS"
      ]
     },
     "execution_count": 5,
     "metadata": {},
     "output_type": "execute_result"
    }
   ],
   "source": [
    "inBoolDefRHSInBool = inBoolDefSpec.rhs.deduceInBool()"
   ]
  },
  {
   "cell_type": "code",
   "execution_count": 6,
   "metadata": {},
   "outputs": [
    {
     "data": {
      "text/html": [
       "<span style=\"font-size:20px;\"> <a class=\"ProveItLink\" href=\"../__pv_it/a73aa39bcb82dfe51e277938983609ae2eb1e4630/proof.ipynb\" style=\"text-decoration: none\">&#x22A2;&nbsp;</a><a class=\"ProveItLink\" href=\"../__pv_it/1b9d4d2250cbe05119127f26421c0f75a1fc3f9d0/expr.ipynb\"><img src=\"data:image/png;base64,iVBORw0KGgoAAAANSUhEUgAAAGsAAAAUBAMAAAB45d4rAAAAMFBMVEX///9UVFTMzMx2dna6uroQ\n",
       "EBCqqqqIiIgiIiJmZmYyMjJERETu7u6YmJjc3NwAAAC+aOQFAAAAAXRSTlMAQObYZgAAAb5JREFU\n",
       "OMtjYOC7wIAH5OGSOA2htFBF2Vt3/4oQYWBgfIAqXhG9f2mjA5CxDsJfj2YaF1PB6ZMXGHgWoIkv\n",
       "UOfZM5eBgXcCmMe7/gCqNDfLBXaFDQwM5mjaNvgyFHEzMHBAXHFsPtQ1tzs6FkC1sSUAtR2FCPPu\n",
       "6OiCaUsDansBEb5Q7wCmtWsQtjH7ALVxgcWZth9A2GYCDI5KMIflQD44QHnWIDnSQ1GBgYEZ7IlT\n",
       "BxCOZGkSYmDYC+YcYdAvANGIgONmifgfAnId2MlyCL+59n8FOqANzHFgeA82lRs5SJjvGjAwsDWA\n",
       "FSMHie1lBoYQsNMlZ8qDZVRXAQEsSEBKGJg+gOSjQOIwbSApsDYWBgZWsOLXyLYxbGCEauNDsY2b\n",
       "QQDiyARgRASAGKwo2gS4gCaCHRmArI2RYQE4SPiA2rhApjJwFqDYdhkWJNNRbOM1YLBkgMQd9z+w\n",
       "aBsicRkwWwoADTIA8TgS4IlLmcF4IgODBzAx/1/DwLb/BzgoD245gJKUGbgUwPEp7YOalDnQkrjz\n",
       "jg6U1HsCQrFYQxMXFECTMk5gjkN8H15dGBkHLZviANwPcEjgLxTuYRcGALrWfv3aWA3cAAAAAElF\n",
       "TkSuQmCC\n",
       "\" style=\"display:inline;vertical-align:middle;\" /></a></span>"
      ],
      "text/plain": [
       "|- (A in BOOLEANS) in BOOLEANS"
      ]
     },
     "execution_count": 6,
     "metadata": {},
     "output_type": "execute_result"
    }
   ],
   "source": [
    "inBoolDefSpec.subLeftSideInto(inBoolDefRHSInBool)"
   ]
  },
  {
   "cell_type": "code",
   "execution_count": 7,
   "metadata": {},
   "outputs": [
    {
     "data": {
      "text/html": [
       "<table><tr><th>&nbsp;</th><th>step type</th><th>requirements</th><th>statement</th></tr>\n",
       "<tr><td><a name=\"-0x72c012bc72c06ad3_step0\">0</a></td><td>generalizaton</td><td><a href=\"#-0x72c012bc72c06ad3_step1\">1</a></td><td><span style=\"font-size:20px;\"> <a class=\"ProveItLink\" href=\"../__pv_it/d62325d7c451dac6a6601cdac423d5b0b85471d40/proof.ipynb\" style=\"text-decoration: none\">&#x22A2;&nbsp;</a><a class=\"ProveItLink\" href=\"../__pv_it/418eeb380605aea477764e689ed252796da66d500/expr.ipynb\"><img src=\"data:image/png;base64,iVBORw0KGgoAAAANSUhEUgAAAKAAAAAUBAMAAAD4uit9AAAAMFBMVEX///8QEBCIiIhmZma6urrM\n",
       "zMxUVFQiIiJERETc3Nzu7u6qqqp2dnaYmJgyMjIAAAAcRTyBAAAAAXRSTlMAQObYZgAAAhhJREFU\n",
       "OMtjYMAC5kIxTsA9Abf4AxDjLoowVwMEAwHrA1Qd6hL9D8scGBgyGXCKnwbxX6HI8k2AYBDzA5rO\n",
       "B0FcXbYMDOsYcIrPAPI4G1AkL0MxENz7haaxwZdBlYOBgUcBpzjfAiC1AUWyEoqBHt/8Eyp2o7z8\n",
       "AVTjbqBGLgGIMG97eR0DqjjvqVWrpqOYx1kAwSD1TF8gYhFaCJccWQGkn0CCuGkBpviPjo4aFAOZ\n",
       "DCAYCLy4/0Jc+grhNZbSVCB9GMxbtwCLOJDqBIt1QuU4LkAw0BwH1k9gITZ4MmlwrP/oAApcMA8R\n",
       "2Ujizgxc4NDhhfqOgX0DBDMwsDBwfobYgRz4Z+8A6e0QHjZxdgYmsHMW/4XKMTpAMANDmLHZD7BQ\n",
       "4DsggEUKBwtQfTw4COVA4gxo4jwX2MFCp4oxDAQScmChGcgu4WBIgBrI2YBNnPNBGNg2hQ50L3MD\n",
       "cSHEDmSNbKDc5Q7mCWAV70wBhzuDOXqkzAbi92AhZgVkl/AegEWKEQM28c3gNHebQR8qx2MAweC0\n",
       "2A+J32p4FothOGMGpG3gnsEU5wdZz/X4TD80UbEUgDFX/78FDDv+Q0J2WcsClEKA4SkkfWZ4MWCK\n",
       "84LUMi9gmB+AkfUQwKe9HLng4SqAWn4CmvXQxBkYfIEuvYBZOOACGIUDujjHDwbO/loYZwIE4wHr\n",
       "SBJHKmBxgU7SxAlWAbwTcIoDAOFcsb5rLLYBAAAAAElFTkSuQmCC\n",
       "\" style=\"display:inline;vertical-align:middle;\" /></a></span></td></tr>\n",
       "<tr><td><a name=\"-0x72c012bc72c06ad3_step1\">1</a></td><td>instantiation</td><td><a href=\"#-0x72c012bc72c06ad3_step2\">2</a>, <a href=\"#-0x72c012bc72c06ad3_step3\">3</a>, <a href=\"#-0x72c012bc72c06ad3_step4\">4</a></td><td><span style=\"font-size:20px;\"> <a class=\"ProveItLink\" href=\"../__pv_it/a73aa39bcb82dfe51e277938983609ae2eb1e4630/proof.ipynb\" style=\"text-decoration: none\">&#x22A2;&nbsp;</a><a class=\"ProveItLink\" href=\"../__pv_it/1b9d4d2250cbe05119127f26421c0f75a1fc3f9d0/expr.ipynb\"><img src=\"data:image/png;base64,iVBORw0KGgoAAAANSUhEUgAAAGsAAAAUBAMAAAB45d4rAAAAMFBMVEX///9UVFTMzMx2dna6uroQ\n",
       "EBCqqqqIiIgiIiJmZmYyMjJERETu7u6YmJjc3NwAAAC+aOQFAAAAAXRSTlMAQObYZgAAAb5JREFU\n",
       "OMtjYOC7wIAH5OGSOA2htFBF2Vt3/4oQYWBgfIAqXhG9f2mjA5CxDsJfj2YaF1PB6ZMXGHgWoIkv\n",
       "UOfZM5eBgXcCmMe7/gCqNDfLBXaFDQwM5mjaNvgyFHEzMHBAXHFsPtQ1tzs6FkC1sSUAtR2FCPPu\n",
       "6OiCaUsDansBEb5Q7wCmtWsQtjH7ALVxgcWZth9A2GYCDI5KMIflQD44QHnWIDnSQ1GBgYEZ7IlT\n",
       "BxCOZGkSYmDYC+YcYdAvANGIgONmifgfAnId2MlyCL+59n8FOqANzHFgeA82lRs5SJjvGjAwsDWA\n",
       "FSMHie1lBoYQsNMlZ8qDZVRXAQEsSEBKGJg+gOSjQOIwbSApsDYWBgZWsOLXyLYxbGCEauNDsY2b\n",
       "QQDiyARgRASAGKwo2gS4gCaCHRmArI2RYQE4SPiA2rhApjJwFqDYdhkWJNNRbOM1YLBkgMQd9z+w\n",
       "aBsicRkwWwoADTIA8TgS4IlLmcF4IgODBzAx/1/DwLb/BzgoD245gJKUGbgUwPEp7YOalDnQkrjz\n",
       "jg6U1HsCQrFYQxMXFECTMk5gjkN8H15dGBkHLZviANwPcEjgLxTuYRcGALrWfv3aWA3cAAAAAElF\n",
       "TkSuQmCC\n",
       "\" style=\"display:inline;vertical-align:middle;\" /></a></span></td></tr>\n",
       "<tr><td>&nbsp;</td><td colspan=4 style=\"text-align:left\"><span style=\"font-size:20px;\"><a class=\"ProveItLink\" href=\"../__pv_it/6adf35e534b0f74f25bdd03c03dfd88a84b3ace50/expr.ipynb\"><img src=\"data:image/png;base64,iVBORw0KGgoAAAANSUhEUgAAADcAAAAUBAMAAADbzbjtAAAAMFBMVEX///8iIiLc3Ny6urqIiIiq\n",
       "qqp2dnbMzMwQEBDu7u5mZmYyMjJERERUVFSYmJgAAAA4CJ/KAAAAAXRSTlMAQObYZgAAAQ1JREFU\n",
       "KM9jYIADpgcMyCAITL79f/burgkMDHNQ5Bh4FcDUbwYGnk4Ghk2okpwbQCT7NwYG1i8MfAtQJRlS\n",
       "QATLZyD+xsCogCY5A0TwfABa8JlBEU2OgdsASPADDddfwOCF5O5lS4BuYAPZU5/AwCrGwHAOIWmh\n",
       "wA00jQ/kIv9raUuAPhFFuLOPgesA0JECQPb5CWChZrgk108GRgegL4C6GT4yoElyHGCYXwCRZP8F\n",
       "EUIYOz+BIR5IMQtAvAkCCAfND2C4zaoAdhD3T4hQFlySx4FPlg1odQID1/6/DmAhQ6BBZ4DgJAPn\n",
       "FXddZ6CuAoTnMIJvIhIbe8DDwCFsUQYDaJHNg2INWjJ5xMAAAHA6PhPQZp1jAAAAAElFTkSuQmCC\n",
       "\" style=\"display:inline;vertical-align:middle;\" /></a> : <a class=\"ProveItLink\" href=\"../__pv_it/5f0111a716bd3f223550c012b63dec59ef78cbac0/expr.ipynb\"><img src=\"data:image/png;base64,iVBORw0KGgoAAAANSUhEUgAAAD4AAAAPBAMAAABOyWF/AAAAMFBMVEX///9UVFSqqqrMzMwiIiKY\n",
       "mJgyMjIQEBCIiIh2dnZmZmbc3Nzu7u5ERES6uroAAACFTSmKAAAAAXRSTlMAQObYZgAAAMRJREFU\n",
       "GNNjYMABONzvfiuRY8AN2Jgbzp4KwC3PyxfAYXABUzzWxSUBKs+kgClv24PQz/kGIb9rVvsBIMWT\n",
       "g2T+E0MDGI+vmiEfRDNuQMiX/K+Daz8ewLAWLIrsPs7QCTDe+gMMHiDaPA0IYO5juPAUJl/LwPMZ\n",
       "RO9F1s9wgRHK4fnJwPQBxGBHkRdgg8l/YmBM0AYyuBpQ9EfCeDcYQgTAjnFChO8EzlkCDG/vAsEB\n",
       "hoMd1hIPQMIH7x3AHz8vr0DCFwIAr5Y54qhCm2YAAAAASUVORK5CYII=\n",
       "\" style=\"display:inline;vertical-align:middle;\" /></a>, <a class=\"ProveItLink\" href=\"../../../__pv_it/72df168d2bfb4e0140af90912ebf83b13772060b0/expr.ipynb\"><img src=\"data:image/png;base64,iVBORw0KGgoAAAANSUhEUgAAAAsAAAAJBAMAAAAWSsseAAAALVBMVEX///9mZmaqqqrMzMxEREQy\n",
       "MjIiIiKYmJh2dna6urrc3NxUVFSIiIju7u4AAACJHQtQAAAAAXRSTlMAQObYZgAAAEJJREFUCNdj\n",
       "YLhzeuWJAwy8Dew5bAEMHBc43nIuYOBlYHFgAAG+A2DKzgBIMF04x8BzgWGegh/DcgaG22fuiBcw\n",
       "AAATyhBrnyPYZQAAAABJRU5ErkJggg==\n",
       "\" style=\"display:inline;vertical-align:middle;\" /></a> : <a class=\"ProveItLink\" href=\"../__pv_it/6a848856aa8448d2c8078b64fa7ec7edda2394a90/expr.ipynb\"><img src=\"data:image/png;base64,iVBORw0KGgoAAAANSUhEUgAAADYAAAAPBAMAAABdHiGLAAAAMFBMVEX///92dnYiIiIQEBBERERU\n",
       "VFS6urqIiIjc3NxmZmaqqqru7u6YmJgyMjLMzMwAAADiRdoGAAAAAXRSTlMAQObYZgAAANdJREFU\n",
       "GNNjYACBtwwogF3Z5a9RGJRzH1WOgZevYMvOA2Amz/0NqHIsbAfYHziAmbvmN0DEeJyUdKFyXAsg\n",
       "cgfqE8A0n/sGuD7GbLAc24b1ELP3bkCYmfT0AYi1jeF9AVgoAmGf0X8zMCuBoX8CmOGA5BbGMwIg\n",
       "WyJnxoNF+WzvAgFUjsEhB2QdAwPzBZAIB7I+BgdWIGMBAwOTAVjIAFkugBeoGijH+wEsNB1F30EG\n",
       "hiYQ+wdYiGkBPMwEGCUDGLb8v83A5f8J7FDukGzMsIYBNhFImEEAAEUpOYcaSaDVAAAAAElFTkSu\n",
       "QmCC\n",
       "\" style=\"display:inline;vertical-align:middle;\" /></a>, <a class=\"ProveItLink\" href=\"../../../__pv_it/c6e291955561f22a0e6708fd793ea93f1c7dbb5d0/expr.ipynb\"><img src=\"data:image/png;base64,iVBORw0KGgoAAAANSUhEUgAAAAsAAAANBAMAAACN24kIAAAAMFBMVEX///8iIiKYmJhUVFTMzMxE\n",
       "REQyMjKqqqq6urp2dnYQEBDc3NxmZmaIiIju7u4AAACH5sGpAAAAAXRSTlMAQObYZgAAAFlJREFU\n",
       "CNdj4LtzgWHXAwZOjgUM9xkYtvMkMIQyMDzgusDwl4GBof8ByxcgdYyBdwGQCmZgNQBShxn6FYDU\n",
       "47vnNzAwgGUZGJgT+H4AKUYF1gtAiuPuESAJAJGkFvXVdzA+AAAAAElFTkSuQmCC\n",
       "\" style=\"display:inline;vertical-align:middle;\" /></a> : <a class=\"ProveItLink\" href=\"../__pv_it/dcd85393e022f3f78c229f3f0768b14e45f5744b0/expr.ipynb\"><img src=\"data:image/png;base64,iVBORw0KGgoAAAANSUhEUgAAAKoAAAAUBAMAAADvmLu0AAAAMFBMVEX///9UVFTMzMx2dna6uroQ\n",
       "EBCqqqqIiIgiIiJmZmYyMjJERETu7u6YmJjc3NwAAAC+aOQFAAAAAXRSTlMAQObYZgAAAbpJREFU\n",
       "OMuVVTtLA0EQnjw8L48LKbXR1ILEyhCrlFoIKSws7dRG01oZC+XKA0G0MoqNQZL8AWMKFTFNagu5\n",
       "UkQwpZW6O7NJ2NPZ04Gb2cd83+089g4g0wOjbAUXwgCWL1SXxjPBzWNXyh5E/MAGBxASXZN6SjwN\n",
       "Wmj+4rQuVbqG/riQAzPAqkj9COB4OHeaHYYVClJFJKEjQSYAscYqYFOA96c+x3qHZ80KZUsiE4BY\n",
       "02V4oXlvt8SxJkuDuJfkwAQgVriAHbTxznaPY41hyJviacuBCaBYi3CN9hbyuLBQl3KpsTpYLltk\n",
       "oSUHOiCGgLqnsT7BAdoSvHvcWa2q1OMViGDMJoBi3YAVrMXkyXSLY432sQRV2TFCTADFmienOMBY\n",
       "zcwKRzA/YmUAQ1YMSFwJuzzK65nGGscMwCuQ1QEqr1mNdRGTnxFOyT53VqoWpGYJYgIMq1VULZj6\n",
       "5FgTc5SIiY5qGx6gWA/FaaH7dQXWzcfPmi7TLcjRTPUbC0i47v6q64pknA8uoEEelH0jEw4Q7eJ4\n",
       "YU4FfRoOEF8XuoamNwc7KAyAfd0N8UkxX21e2n/4YTz/9w/j+PANzSGL1F3BIUQAAAAASUVORK5C\n",
       "YII=\n",
       "\" style=\"display:inline;vertical-align:middle;\" /></a></span></td></tr><tr><td><a name=\"-0x72c012bc72c06ad3_step2\">2</a></td><td>theorem</td><td></td><td><span style=\"font-size:20px;\"> <a class=\"ProveItLink\" href=\"../../equality/_proofs_/subLeftSideInto.ipynb\" style=\"text-decoration: none\">&#x22A2;&nbsp;</a><a class=\"ProveItLink\" href=\"../../equality/__pv_it/bb8aec8150ce7769d7450089d43b4600907c23020/expr.ipynb\"><img src=\"data:image/png;base64,iVBORw0KGgoAAAANSUhEUgAAAL8AAAAWBAMAAABj11ATAAAAMFBMVEX///8QEBCIiIhmZma6urrM\n",
       "zMxUVFQiIiJERETc3Nzu7u6qqqp2dnaYmJgyMjIAAAAcRTyBAAAAAXRSTlMAQObYZgAAAthJREFU\n",
       "SMe1VU1oE0EU/rruTzbZJl48eQkWSgkFcxFUREKFqmA19SDeDMEWKrXtoR4sKvGWCrW5WQRxBalY\n",
       "PAQ8iIK41IMQg0YURFDYs1C7KEpbi/rmp5vdJhHF+GD3zXxvZr43782bAf6H3JD6IX0ua3xoz7qd\n",
       "4yvDY3uBaEECegl4zhof2+R5gty9bCNekv0o9edIm4U2EZxygCdJvPaBRSBuA1a5TQQ7M/Q5OO8D\n",
       "tyhulYWFa+1K7ix94xlzwgfixLhSLF74w/k8tNpvBvygcH+Bkqbo7xjpo/hY1BwCpgF1dnT3mcYZ\n",
       "Gf6XRot3YpmW62vrwAMHkRpwD2+Tlyg+lOUDPNd4BTxrnCKzL4wjorOnJYHyrfo0BRiU0gpe2ofJ\n",
       "G4qWAYUYMUzpaUnAjZojOvMtCSJrXHXQHm0U+Z482njNYM2LEFBTAm7UszJxpZZlMOETAJ83CEz3\n",
       "BCuJVShT7ODu6qZ11G4Ydp1AGMmPvhymxIatruNDclkOijJIc8VCBO0rzx6jnD7NWuu9rKYVe8wg\n",
       "fithDwZ2IIx0mJ01bStiOYJSujupF0lmBOiXAYsUefBI8ZASScZ9xmK54hxgianrB9ETIBDGQzBv\n",
       "TygFqAzMxmtyAwLksmyL4Wmo3yOeSSO2sLwlkow1Lcev8v8+5AMEwtjPxutJaJwu4WeCg0z2/xST\n",
       "KC7RfKqL3aBxlrdOxpuQt4Xm8UKaxLYAgTCepOhmOrJQczzeyOqfSJYEGJL6VXGnfk0xh+bsm5Zr\n",
       "kcI51QsQcCMbbGSPkUOOecX0XkCeWgGGJHTZyRJZZuUzWJ5/s1ghhf4et04gjOxcqfmrFJKMtj16\n",
       "9kivLedyMFwPwes6JDJO5WgpUgvWgXCijLuYobhSgQYncTAk/oMT2VQysZJUunMUDQTUGVXJpcfi\n",
       "KfSFg82fzHebn7wNpb53mhAMYKBK7tGRqoXg6j9c8OnGDSr2X63wC2jlxTKsC1d/AAAAAElFTkSu\n",
       "QmCC\n",
       "\" style=\"display:inline;vertical-align:middle;\" /></a></span></td></tr>\n",
       "<tr><td>&nbsp;</td><td colspan=4 style-\"text-align:left\"><a class=\"ProveItLink\" href=\"../../equality/_proofs_/subLeftSideInto.ipynb\">proveit.logic.equality.subLeftSideInto</a></td></tr><tr><td><a name=\"-0x72c012bc72c06ad3_step3\">3</a></td><td>instantiation</td><td><a href=\"#-0x72c012bc72c06ad3_step5\">5</a>, <a href=\"#-0x72c012bc72c06ad3_step6\">6</a>, <a href=\"#-0x72c012bc72c06ad3_step7\">7</a></td><td><span style=\"font-size:20px;\"> <a class=\"ProveItLink\" href=\"../__pv_it/fbc97c2197f128d3955c4acc96bdd31460e094860/proof.ipynb\" style=\"text-decoration: none\">&#x22A2;&nbsp;</a><a class=\"ProveItLink\" href=\"../__pv_it/45fd9b7d6a96ca5eb926e9d7752ba56ee4463d6f0/expr.ipynb\"><img src=\"data:image/png;base64,iVBORw0KGgoAAAANSUhEUgAAAOMAAAAUBAMAAACNN5feAAAAMFBMVEX///9UVFTMzMx2dna6uroQ\n",
       "EBCqqqqIiIgiIiJmZmYyMjJERETu7u6YmJjc3NwAAAC+aOQFAAAAAXRSTlMAQObYZgAAAp5JREFU\n",
       "SMeVVktoE1EUPZmOSdrJhOBKEbTiQhCkBcWiImQjKLSQhQupm67UImhwpSvbQmV0UVMEtQsxii4s\n",
       "YrPThTazUBG7CbhqF5KViCi6UPy33nfvSzKTzJvogfPml/fOvWfuuxMgWwMzDqc77nyMn5CsC6Ox\n",
       "pEnY0f7shqcwiUT77EyFD1a5cz1rTI2bNYM4d6x6bzJPJw81CQsREZ1gBV7a4hv9auiTGPo+RyRY\n",
       "VOMrzRDK2zNPbgJuSUhwF3yDJIbUkFBqLq+4LA9Xfpske4rCECojOOsA6bqQ8OJW3ST5nLPM0ZDm\n",
       "sGbE3vFVk2SmIORUHnuXG5LHSfIdhITahbxJso+fKP8Pq5PshKyV+mKSxF1NivSR38pyN5XNeQgB\n",
       "2z9TM0n2sPXjxEV1kpI3MZz8Y5Tcq0mv1G8Za0+tB55CCDzDAP9637zC/ZCky/WTppC5VB2OLZO3\n",
       "vnE8PGG+FJJc0QwWbuXgla9k10UIgTw+lUxZJtnJVBEJdjjNG8FG9ocxy5OaJBQsnwOvgSMQwto4\n",
       "t6VikrR4N2QmdOGvY+Gtc7O/jJIDmrBGlQUNSceutSRtWqkcL4lr2BOQpGG0u2Q2lKWDXMtY8ipd\n",
       "aL3L2yFJW0r0PeTIxiaJ04F3mQtJHtIECkHJBMrN8smORTeTYPnA2Snrcfm8je5XHeVzPZSlO9gs\n",
       "ZrU3nVWTZO+g+LvBb+4Z3pvVuknyqmaj1rjhbcOu2aYBS2sPkKx+7yzZEWkF/XKltw75nKn+9HFq\n",
       "7VL4172eN33U88jjOxBS0W0aDrf1QMOLwUt9/KCPM90mUHEzOcD9uuFpBNp6DIbarpe7TYhs6w0s\n",
       "NrpYXMztu8fp5kvkxyviE22EY/hEmxGbyL/8EXnzv39E3LowCn8BA+PKE2HtJF8AAAAASUVORK5C\n",
       "YII=\n",
       "\" style=\"display:inline;vertical-align:middle;\" /></a></span></td></tr>\n",
       "<tr><td>&nbsp;</td><td colspan=4 style=\"text-align:left\"><span style=\"font-size:20px;\"><a class=\"ProveItLink\" href=\"../../../__pv_it/d3792d0d8642fdf1cd2a3a9b32c673ee13653de00/expr.ipynb\"><img src=\"data:image/png;base64,iVBORw0KGgoAAAANSUhEUgAAAA8AAAAOBAMAAAACpFvcAAAALVBMVEX///8iIiIQEBBERERUVFS6\n",
       "urqIiIjc3NxmZmaqqqru7u6YmJgyMjLMzMwAAACK9jtgAAAAAXRSTlMAQObYZgAAAFtJREFUCNdj\n",
       "YACBOwxQcA5Kc59bAGGs7CuAMDbkBYBp1gXzNoAZSxnuJYAZAQx1DSCa16PDzwCshIGB6QCIMYGB\n",
       "gVEBSLMDGTwPgIxCIGZ+zsCw+N0pBk67hw0AfpEVEQi8t+wAAAAASUVORK5CYII=\n",
       "\" style=\"display:inline;vertical-align:middle;\" /></a> : <a class=\"ProveItLink\" href=\"../__pv_it/c84b54bbfaad4bce47785b36ea07aa7ea7fc86900/expr.ipynb\"><img src=\"data:image/png;base64,iVBORw0KGgoAAAANSUhEUgAAADoAAAAOBAMAAACMfhKgAAAAMFBMVEX///92dnYiIiIQEBBERERU\n",
       "VFS6urqIiIjc3NxmZmaqqqru7u6YmJgyMjLMzMwAAADiRdoGAAAAAXRSTlMAQObYZgAAAHlJREFU\n",
       "GNNjYACBtwxoYJISCKhCOPcZMMFyGIPn/gY8srvmN+CRPVCfgFuWbcP6A7hltzG8LwDRsndB4Caa\n",
       "bAJD/wScevkiZ8Y74JRlY2BgvoBTdgEDA5MBwt6rKLIcQFneD7j0NgExyw8cslv+32bg8v+E6egc\n",
       "IAYAzqMrmtpGhM0AAAAASUVORK5CYII=\n",
       "\" style=\"display:inline;vertical-align:middle;\" /></a>, <a class=\"ProveItLink\" href=\"../../../__pv_it/4d98b438710c5ada9ffa4646bb123a7d0e69ec000/expr.ipynb\"><img src=\"data:image/png;base64,iVBORw0KGgoAAAANSUhEUgAAABAAAAAOBAMAAADUAYG5AAAALVBMVEX///8yMjKqqqoiIiLu7u7c\n",
       "3NyIiIjMzMwQEBC6urpERERmZmZUVFSYmJgAAACsPVCVAAAAAXRSTlMAQObYZgAAAGxJREFUCNdj\n",
       "YGC48+70nlUTGICgi4GB+zmQZn/LwMD5Gshge8rAwPsMyOBqYGDwMAEy+A4wsNs4ABl1Z68tVgBp\n",
       "ygtgYOkBMVaAOCChNyBGAsQYhnMTIMawvwJyGIHGzFjCwMAj92b3qUUMDAAXABxvZ4rl5AAAAABJ\n",
       "RU5ErkJggg==\n",
       "\" style=\"display:inline;vertical-align:middle;\" /></a> : <a class=\"ProveItLink\" href=\"../__pv_it/065555d961250d893f246d8a3f1f824c13db078e0/expr.ipynb\"><img src=\"data:image/png;base64,iVBORw0KGgoAAAANSUhEUgAAADoAAAAOBAMAAACMfhKgAAAAMFBMVEX///92dnYiIiIQEBBERERU\n",
       "VFS6urqIiIjc3NxmZmaqqqru7u6YmJgyMjLMzMwAAADiRdoGAAAAAXRSTlMAQObYZgAAAHlJREFU\n",
       "GNNjYACBtwyY4BWcdR+L7HIYg+f+Bjyyu+Y34JE9UJ+AW5Ztw/oDuGW3MbwvANGyd0HgJppsAkP/\n",
       "BJx6+SJnxjvglGVjYGC+gFN2AQMDkwHC3qsoshxAWd4PuPQ2ATHLDxyyW/7fZuDy/4Tm6ElKSsZK\n",
       "SqoAG5UsKS5uX3IAAAAASUVORK5CYII=\n",
       "\" style=\"display:inline;vertical-align:middle;\" /></a></span></td></tr><tr><td><a name=\"-0x72c012bc72c06ad3_step4\">4</a></td><td>instantiation</td><td><a href=\"#-0x72c012bc72c06ad3_step8\">8</a></td><td><span style=\"font-size:20px;\"> <a class=\"ProveItLink\" href=\"../__pv_it/8f324072905b4663e418461fc8594abb026b78750/proof.ipynb\" style=\"text-decoration: none\">&#x22A2;&nbsp;</a><a class=\"ProveItLink\" href=\"../__pv_it/83dbf074467f5461971751d0dfe3e7458b2d0d2a0/expr.ipynb\"><img src=\"data:image/png;base64,iVBORw0KGgoAAAANSUhEUgAAAR0AAAAUBAMAAABCPPQ0AAAAMFBMVEX///9UVFTMzMx2dna6uroQ\n",
       "EBCqqqqIiIgiIiJmZmYyMjJERETu7u6YmJjc3NwAAAC+aOQFAAAAAXRSTlMAQObYZgAAAwxJREFU\n",
       "SMedVj9ok0EUf03S/E8I0kWEmiwOOjSbVJeMHSJ0iFA6ZVMRtJs4GYfKpxRJcdBORnGxiA0uCmKS\n",
       "wUpMloBDsWDJJC6ig6BWbXz33uX7c993F/TB77i777v7/d67d38AsgMw2KWAvs8SBosO1R4zDRMR\n",
       "WZ/bx72fY6sv95dmAKZ8E0O6yUALNZRvCYssB7PqqGAasmOiEERE9pQ7t5SfkqGV/tsBpBu+4ckh\n",
       "Q1S/BoRmRZQ9qudJNFU1NMLOkZcNRqZOfZmtjvenVGQQy2MUTvqGv5dA2/2t0xOm8pAodmh+DY2t\n",
       "h4gQcfb0zX25MJkX1i2pJ1pFPdu+4bcl0J8LBzo96UVRFkSxJgqVxq9nm/GJ+wbXSpwRzzt2fMJl\n",
       "1JMsqYlZYwjtsW86PfBovLQRioxCE6BHECGuUiPSucz53+s467VQwPUP15XRsToDrRz9o9UzT3X8\n",
       "L0URUWgC9AgixCtqvIY5nmbWyZ+lUUXEgBL61Kawx/RhwMA1KYW+00z0cbPu0bNLJcbxBFW8NK7p\n",
       "bD2CCHGDGiX4wtM1Xfkc/lDE6WuKN/EqA72F7E9tfM5TeQVghioKTUB8BBGiQllzeOMoKQktC+FS\n",
       "DzTPYI+6padLDMzWjfVfWj1zVHbHB4aXJkiPIEJU2FOYpnFZd3ygOWXUg8XyBD2Jarjq6LFpDHoo\n",
       "kGIJaIPColtPLolz1JwFf+BZryhi1ZU/OY+eBd6MjTg462XTuKaz9QgihEi0bNU+au964vNunM/u\n",
       "g3Kczx+Dj1tPPsOzHbDz2UUTEB+Zz/PycEgd2Nkq74tieB5dThSV0XJf8hnUHur03OFWYQ3s7e+i\n",
       "CdAjiBAY1/7oCUTbPyjz00fKnvsUknlltIxrur3fgYujm77ZI3zCPJRuyf2k0Dh2z7LOWtZ1JkLE\n",
       "FQ8jp/m+GFvXcF8YLC2Piaw8X+PDSSO6jEzd/JvxPtUb36eOTaKx71Nomf30709xAaQmudtTO1qT\n",
       "AirfG+OHksZSxveY3lqa95iRiMjMD8m9/3uvZv75vbrH+AtergN9Aum3tAAAAABJRU5ErkJggg==\n",
       "\" style=\"display:inline;vertical-align:middle;\" /></a></span></td></tr>\n",
       "<tr><td>&nbsp;</td><td colspan=4 style=\"text-align:left\"><span style=\"font-size:20px;\"><a class=\"ProveItLink\" href=\"../../../__pv_it/d3792d0d8642fdf1cd2a3a9b32c673ee13653de00/expr.ipynb\"><img src=\"data:image/png;base64,iVBORw0KGgoAAAANSUhEUgAAAA8AAAAOBAMAAAACpFvcAAAALVBMVEX///8iIiIQEBBERERUVFS6\n",
       "urqIiIjc3NxmZmaqqqru7u6YmJgyMjLMzMwAAACK9jtgAAAAAXRSTlMAQObYZgAAAFtJREFUCNdj\n",
       "YACBOwxQcA5Kc59bAGGs7CuAMDbkBYBp1gXzNoAZSxnuJYAZAQx1DSCa16PDzwCshIGB6QCIMYGB\n",
       "gVEBSLMDGTwPgIxCIGZ+zsCw+N0pBk67hw0AfpEVEQi8t+wAAAAASUVORK5CYII=\n",
       "\" style=\"display:inline;vertical-align:middle;\" /></a> : <a class=\"ProveItLink\" href=\"../../../__pv_it/d3792d0d8642fdf1cd2a3a9b32c673ee13653de00/expr.ipynb\"><img src=\"data:image/png;base64,iVBORw0KGgoAAAANSUhEUgAAAA8AAAAOBAMAAAACpFvcAAAALVBMVEX///8iIiIQEBBERERUVFS6\n",
       "urqIiIjc3NxmZmaqqqru7u6YmJgyMjLMzMwAAACK9jtgAAAAAXRSTlMAQObYZgAAAFtJREFUCNdj\n",
       "YACBOwxQcA5Kc59bAGGs7CuAMDbkBYBp1gXzNoAZSxnuJYAZAQx1DSCa16PDzwCshIGB6QCIMYGB\n",
       "gVEBSLMDGTwPgIxCIGZ+zsCw+N0pBk67hw0AfpEVEQi8t+wAAAAASUVORK5CYII=\n",
       "\" style=\"display:inline;vertical-align:middle;\" /></a></span></td></tr><tr><td><a name=\"-0x72c012bc72c06ad3_step5\">5</a></td><td>theorem</td><td></td><td><span style=\"font-size:20px;\"> <a class=\"ProveItLink\" href=\"../disjunction/_proofs_/binaryClosure.ipynb\" style=\"text-decoration: none\">&#x22A2;&nbsp;</a><a class=\"ProveItLink\" href=\"../disjunction/__pv_it/304ae2ef1a0f1921f6159b0d8a198cdca8a02de20/expr.ipynb\"><img src=\"data:image/png;base64,iVBORw0KGgoAAAANSUhEUgAAANwAAAAVBAMAAADfk53OAAAAMFBMVEX///8QEBCIiIhmZma6urrM\n",
       "zMxUVFQiIiJERETc3Nzu7u6qqqp2dnaYmJgyMjIAAAAcRTyBAAAAAXRSTlMAQObYZgAAA2dJREFU\n",
       "SMe1Vl1IFFEUPs3O6s44qz6FTzIEUU+5tbAWaaz0EAiC9WA9BAoV2EO0JVmJ5SaVswrt9hBJIU34\n",
       "UBjJgkRFQRMWlG2xbVCBJlvWi1CWf6yF2bnnzu7qLAvOQwfOnbnfnZnvnu+ce3YBbFuf6XmtKJIf\n",
       "T7KbTzbY5CB3NGfSsvZ+6YBP88NhC7yhLPy51Q8Mf8XmkzboiiPc2e1PNtYTM18sA3DMwaD1neQe\n",
       "ubsaGN6LMylog+6d6Wjjv9l4iA0JHu4igDgDimp5J1gH613A8GIdL1EbdKdNR0mHFtilgQ1thAgI\n",
       "uKdBLuWPurtOnk3TPUI6xN0jAwNXbbBJAe7sa8JsWl3RQ4gLeW4i81cea6eeje7ZbSA8pWntNugE\n",
       "D3e02qJFKjicuXgyS5rA2YocwzQb1LNiiieY5sMkfYiwkOXDYrjKF8qhc8W5ozR+5zRBGOs+vth4\n",
       "JNHFEjNOs2yBBms6fvk5vhNkqmf3rCn4l4kWnsu3AE/NmthUud18szDKHbcD0gxB6wAO8sWKCMhr\n",
       "8XqfkywvlddjHC8EgTbbz5S5M1wNqtF3jx7yATzRQX7sjQuKNFrP31zj544l4vWlCLplbhjgHKPE\n",
       "vTRS6sp/oKXpXGKccCVeSNBIC0bWc00HVVXuEnIcYAfAx4cDIAgwErfS4VBOkCOaLu15RqeadNKK\n",
       "6FzQRLiUpEp2qhoTFk1V615SbuZAmOQ1JwjiWMQiZhH6MV6sSb5hOnZwFLexi6aly+kKWP9ieIiE\n",
       "L4BKs6Op3nISTpxOXMQyp3J0bP5mLZXr6FMcu5CAzLFzpjKlsmVFdG6D40N0ikahAmQPj85xhV2V\n",
       "JAgB6KfvCLDNzJ3i4U5nL8xDbmgz+xvGU9ONN1UZIcwmth9iPhMvYS1HnoiFdecpTetkuRMoDgOk\n",
       "P7BX0zQV6QyzMYkBcjn8V4cHSy2chp/Dgql5b3MPu+NSyM21K1s04W52Gh063Khn2WTRKQ46s1EQ\n",
       "F1BkHp3hyWli2U6jW340AubWXphNzIID1OHn4/Cc6AwlBr1Ir8NlAxQmoqBAzMht0fksp0VbcVcK\n",
       "pPAZcKHa7vaJS3HYHVU6vL7zuMTU+fBm6/dMW4lkelY+G1wtvhFzxy2TZgFzl+fnNZ+FbOL5/wCs\n",
       "5s+DO2IPZ0vwX+wfzeLyrKD7VyEAAAAASUVORK5CYII=\n",
       "\" style=\"display:inline;vertical-align:middle;\" /></a></span></td></tr>\n",
       "<tr><td>&nbsp;</td><td colspan=4 style-\"text-align:left\"><a class=\"ProveItLink\" href=\"../disjunction/_proofs_/binaryClosure.ipynb\">proveit.logic.boolean.disjunction.binaryClosure</a></td></tr><tr><td><a name=\"-0x72c012bc72c06ad3_step6\">6</a></td><td>instantiation</td><td><a href=\"#-0x72c012bc72c06ad3_step9\">9</a></td><td><span style=\"font-size:20px;\"> <a class=\"ProveItLink\" href=\"../__pv_it/e47618ab476eb1bafaac8355d65c9fcd4c30e7770/proof.ipynb\" style=\"text-decoration: none\">&#x22A2;&nbsp;</a><a class=\"ProveItLink\" href=\"../__pv_it/88d1f815ed8ac982104324c29f7f74b2f15583040/expr.ipynb\"><img src=\"data:image/png;base64,iVBORw0KGgoAAAANSUhEUgAAAHAAAAAUBAMAAACnq6Q0AAAAMFBMVEX///9UVFTMzMx2dna6uroQ\n",
       "EBCqqqqIiIgiIiJmZmYyMjJERETu7u6YmJjc3NwAAAC+aOQFAAAAAXRSTlMAQObYZgAAAV5JREFU\n",
       "OMtjYOC7wIAXsD3AIXEaQmmhi3N2gIEAgxyqOHvr7l8RIkDGOgh/PTbLCkDkKTRRLqaC0ycvMPBO\n",
       "APN41x/ApZG5AFWUm+UCu8IGBg6IF47Nf4BLI08AhMe7o6MLqpEtYQPDC4johXoHXBoZloBJpu0H\n",
       "4DYy+2xgqARzWA7kX8Cp0RJMnjqAcKqHogLDXjDnCIM+xD+rwGACisZbYFIO4ceI/yEMDG1gjgPD\n",
       "+wk4bcwAkxuQAof5rgFDCNj9kjPlN+DUqA9WEgVyClQjwwZfiEYWBgbWBfg18iHbyLCBEeLUBAYG\n",
       "jgAkPwqgaPQAkwHIGgW4wIHDB9TI9QGnjZDAmY5i42VwWIPikvsfTo2TwSRHAjzJGTBbCoDccfr/\n",
       "Gga2/T8wg5UFEreLwCSPtA9KIud4wEAA8DRAjbGGJDko4J1ASCN6IoeBfYQ0nsKfkXEDXCYTKjp4\n",
       "sQcCAPfGZu/9NRrDAAAAAElFTkSuQmCC\n",
       "\" style=\"display:inline;vertical-align:middle;\" /></a></span></td></tr>\n",
       "<tr><td>&nbsp;</td><td colspan=4 style=\"text-align:left\"><span style=\"font-size:20px;\"><a class=\"ProveItLink\" href=\"../../../__pv_it/72df168d2bfb4e0140af90912ebf83b13772060b0/expr.ipynb\"><img src=\"data:image/png;base64,iVBORw0KGgoAAAANSUhEUgAAAAsAAAAJBAMAAAAWSsseAAAALVBMVEX///9mZmaqqqrMzMxEREQy\n",
       "MjIiIiKYmJh2dna6urrc3NxUVFSIiIju7u4AAACJHQtQAAAAAXRSTlMAQObYZgAAAEJJREFUCNdj\n",
       "YLhzeuWJAwy8Dew5bAEMHBc43nIuYOBlYHFgAAG+A2DKzgBIMF04x8BzgWGegh/DcgaG22fuiBcw\n",
       "AAATyhBrnyPYZQAAAABJRU5ErkJggg==\n",
       "\" style=\"display:inline;vertical-align:middle;\" /></a> : <a class=\"ProveItLink\" href=\"../../../__pv_it/d3792d0d8642fdf1cd2a3a9b32c673ee13653de00/expr.ipynb\"><img src=\"data:image/png;base64,iVBORw0KGgoAAAANSUhEUgAAAA8AAAAOBAMAAAACpFvcAAAALVBMVEX///8iIiIQEBBERERUVFS6\n",
       "urqIiIjc3NxmZmaqqqru7u6YmJgyMjLMzMwAAACK9jtgAAAAAXRSTlMAQObYZgAAAFtJREFUCNdj\n",
       "YACBOwxQcA5Kc59bAGGs7CuAMDbkBYBp1gXzNoAZSxnuJYAZAQx1DSCa16PDzwCshIGB6QCIMYGB\n",
       "gVEBSLMDGTwPgIxCIGZ+zsCw+N0pBk67hw0AfpEVEQi8t+wAAAAASUVORK5CYII=\n",
       "\" style=\"display:inline;vertical-align:middle;\" /></a>, <a class=\"ProveItLink\" href=\"../../../__pv_it/c6e291955561f22a0e6708fd793ea93f1c7dbb5d0/expr.ipynb\"><img src=\"data:image/png;base64,iVBORw0KGgoAAAANSUhEUgAAAAsAAAANBAMAAACN24kIAAAAMFBMVEX///8iIiKYmJhUVFTMzMxE\n",
       "REQyMjKqqqq6urp2dnYQEBDc3NxmZmaIiIju7u4AAACH5sGpAAAAAXRSTlMAQObYZgAAAFlJREFU\n",
       "CNdj4LtzgWHXAwZOjgUM9xkYtvMkMIQyMDzgusDwl4GBof8ByxcgdYyBdwGQCmZgNQBShxn6FYDU\n",
       "47vnNzAwgGUZGJgT+H4AKUYF1gtAiuPuESAJAJGkFvXVdzA+AAAAAElFTkSuQmCC\n",
       "\" style=\"display:inline;vertical-align:middle;\" /></a> : <a class=\"ProveItLink\" href=\"../__pv_it/b5b8ce0f03ab68a7c7bb937dfeb4112a686e3cbb0/expr.ipynb\"><img src=\"data:image/png;base64,iVBORw0KGgoAAAANSUhEUgAAAA4AAAAOBAMAAADtZjDiAAAAG1BMVEX///+YmJi6urqIiIiqqqpU\n",
       "VFQiIiJmZmYAAAD2GhH1AAAAAXRSTlMAQObYZgAAABhJREFUCNdjKEsDgVQGIHBmgABa0YpADADk\n",
       "ogYfXGfJdgAAAABJRU5ErkJggg==\n",
       "\" style=\"display:inline;vertical-align:middle;\" /></a></span></td></tr><tr><td><a name=\"-0x72c012bc72c06ad3_step7\">7</a></td><td>instantiation</td><td><a href=\"#-0x72c012bc72c06ad3_step9\">9</a></td><td><span style=\"font-size:20px;\"> <a class=\"ProveItLink\" href=\"../__pv_it/257d5404002744697250b31d5fe1b3f49eb56f8a0/proof.ipynb\" style=\"text-decoration: none\">&#x22A2;&nbsp;</a><a class=\"ProveItLink\" href=\"../__pv_it/b63a137221f0cb4e02d43c0406fcfbc5200b796a0/expr.ipynb\"><img src=\"data:image/png;base64,iVBORw0KGgoAAAANSUhEUgAAAHAAAAAUBAMAAACnq6Q0AAAAMFBMVEX///9UVFTMzMx2dna6uroQ\n",
       "EBCqqqqIiIgiIiJmZmYyMjJERETu7u6YmJjc3NwAAAC+aOQFAAAAAXRSTlMAQObYZgAAAWNJREFU\n",
       "OMtjYOC7wIAXsD3AIXEaQmlhkWJKAJFyqILsrbt/RYgAGesg/PXYLCsAkafQRLmYCk6fvMDAOwHM\n",
       "411/AJdG5gJUUW6WC+wKGxg4IF44Nv8BLo08ARAe746OLqhGtoQNDC8gohfqHXBpZFgC8fD2A3Ab\n",
       "mX02MFSCOSwH8i/g1GgJJk8dQDjVQ1GBYS+Yc4RBH+KfVWAwAUXjLQaUwOVmifgfwsDQBuY4MLyf\n",
       "gNPGDDC5ASlwmO8aMISA3S85U34DTo36YCVRIKdANTJs8IVoZGFgYF2AXyMfso0MGxghTgWmEI4A\n",
       "JD8KoGj0AJMByBoFuMCBwwfUyPUBp42QwJmOYuNlcFiD4pL7H06Nk8EkRwI8yRkwWwqA3HH6/xoG\n",
       "tv0/0IKVs6OjNaKjA+jqRWA+j7QPSiLneMBAAPA0QGgWa0iSgwLeCYQ0oidyGNhHSOMp/BkZN8Bl\n",
       "MqGigxd7IAAAx39mSvP/KS8AAAAASUVORK5CYII=\n",
       "\" style=\"display:inline;vertical-align:middle;\" /></a></span></td></tr>\n",
       "<tr><td>&nbsp;</td><td colspan=4 style=\"text-align:left\"><span style=\"font-size:20px;\"><a class=\"ProveItLink\" href=\"../../../__pv_it/72df168d2bfb4e0140af90912ebf83b13772060b0/expr.ipynb\"><img src=\"data:image/png;base64,iVBORw0KGgoAAAANSUhEUgAAAAsAAAAJBAMAAAAWSsseAAAALVBMVEX///9mZmaqqqrMzMxEREQy\n",
       "MjIiIiKYmJh2dna6urrc3NxUVFSIiIju7u4AAACJHQtQAAAAAXRSTlMAQObYZgAAAEJJREFUCNdj\n",
       "YLhzeuWJAwy8Dew5bAEMHBc43nIuYOBlYHFgAAG+A2DKzgBIMF04x8BzgWGegh/DcgaG22fuiBcw\n",
       "AAATyhBrnyPYZQAAAABJRU5ErkJggg==\n",
       "\" style=\"display:inline;vertical-align:middle;\" /></a> : <a class=\"ProveItLink\" href=\"../../../__pv_it/d3792d0d8642fdf1cd2a3a9b32c673ee13653de00/expr.ipynb\"><img src=\"data:image/png;base64,iVBORw0KGgoAAAANSUhEUgAAAA8AAAAOBAMAAAACpFvcAAAALVBMVEX///8iIiIQEBBERERUVFS6\n",
       "urqIiIjc3NxmZmaqqqru7u6YmJgyMjLMzMwAAACK9jtgAAAAAXRSTlMAQObYZgAAAFtJREFUCNdj\n",
       "YACBOwxQcA5Kc59bAGGs7CuAMDbkBYBp1gXzNoAZSxnuJYAZAQx1DSCa16PDzwCshIGB6QCIMYGB\n",
       "gVEBSLMDGTwPgIxCIGZ+zsCw+N0pBk67hw0AfpEVEQi8t+wAAAAASUVORK5CYII=\n",
       "\" style=\"display:inline;vertical-align:middle;\" /></a>, <a class=\"ProveItLink\" href=\"../../../__pv_it/c6e291955561f22a0e6708fd793ea93f1c7dbb5d0/expr.ipynb\"><img src=\"data:image/png;base64,iVBORw0KGgoAAAANSUhEUgAAAAsAAAANBAMAAACN24kIAAAAMFBMVEX///8iIiKYmJhUVFTMzMxE\n",
       "REQyMjKqqqq6urp2dnYQEBDc3NxmZmaIiIju7u4AAACH5sGpAAAAAXRSTlMAQObYZgAAAFlJREFU\n",
       "CNdj4LtzgWHXAwZOjgUM9xkYtvMkMIQyMDzgusDwl4GBof8ByxcgdYyBdwGQCmZgNQBShxn6FYDU\n",
       "47vnNzAwgGUZGJgT+H4AKUYF1gtAiuPuESAJAJGkFvXVdzA+AAAAAElFTkSuQmCC\n",
       "\" style=\"display:inline;vertical-align:middle;\" /></a> : <a class=\"ProveItLink\" href=\"../__pv_it/83a1ddf0f64531c80e7f41ea6b904214668818b30/expr.ipynb\"><img src=\"data:image/png;base64,iVBORw0KGgoAAAANSUhEUgAAAA4AAAAOBAMAAADtZjDiAAAAG1BMVEX///9UVFQQEBAiIiJmZmaI\n",
       "iIiqqqrMzMwAAADC2JlRAAAAAXRSTlMAQObYZgAAABlJREFUCNdjYGBgKGOAgFRa0s7GxkrGxoYA\n",
       "QSUGlQeagkgAAAAASUVORK5CYII=\n",
       "\" style=\"display:inline;vertical-align:middle;\" /></a></span></td></tr><tr><td><a name=\"-0x72c012bc72c06ad3_step8\">8</a></td><td>theorem</td><td></td><td><span style=\"font-size:20px;\"> <a class=\"ProveItLink\" href=\"inBoolDef.ipynb\" style=\"text-decoration: none\">&#x22A2;&nbsp;</a><a class=\"ProveItLink\" href=\"../__pv_it/12999e172d8beca4d19d97228142538442c4792b0/expr.ipynb\"><img src=\"data:image/png;base64,iVBORw0KGgoAAAANSUhEUgAAAVMAAAAUBAMAAADCT8MnAAAAMFBMVEX///8QEBCIiIhmZma6urrM\n",
       "zMxUVFQiIiJERETc3Nzu7u6qqqp2dnaYmJgyMjIAAAAcRTyBAAAAAXRSTlMAQObYZgAAA4ZJREFU\n",
       "SMedV01oE0EUfs1Ps9lsUoVCbxL05qWBgr0IBjwUikK8lIJgC9aDJ1sKLlaFHBSTgyS3FkSaUrGl\n",
       "Qgn2oJ4s7a2KhHqxaEugKthDKyrYClrf/O3u7O5M0AffZLMz37xv3sy8mQUIsWSDQW0vQt495NBY\n",
       "qhpGauVIoElebMr18xxol+SayFjpT9cIQHvAJ5hFBrR401cXtakNw9UQUhiB2EVSEEcCr8iLHbnR\n",
       "Fw60PR8/E8/OzzbADPadqTKQx68hAc2ScpE+F6g8QVIQ4CkdS9PFFJnwotQmnWMgj3s1mW/EGpEC\n",
       "Nl8J9PyWA23rl0qqRcsrpFgHPYFJpY44MqjFqkttElUGtCdn+Ey/s+0ml5qqo9SZQM83ODACSwcq\n",
       "qeYRUg6QYgL0BC51xkV6bWFhUm4zyYHW6M7T38GTblStfpSayfu34igDmYrID5VU+CimPZYDPYFL\n",
       "JY4E9kulW3KbExzYX+0lTQTmjmcB9A3gWrNyvo4jOQa0/tRvpdRV+oztjCroCVwqcSSAC6dMX5ZF\n",
       "m/scAI9gKCv2oZDaddhJAkGXw5tdYtu0osGA48rHv1EntHI3J0ndoiUGc1CQXIK3O0cqcSRwlm/n\n",
       "tDMJNzkA8jBNPRnebWVtLqPnUV8MEnUGnApIfldG9RktjwOMCJKKwKUSRwIJiNCxzTqT0MkB8cs9\n",
       "12hyuEBGK7YVFM9jlT+9tOUZcNP0nNpXSh2i5RwPj47ApRJHAlYjQd+tjQekxrAz2uWUN6pQbNdK\n",
       "xeJYC6nROks6OkKI1GST5o54thRYAGROaXZpk6QOZ3AUo+7i+iwtgBRizLNWhyWpfSxdNBPOqnEJ\n",
       "3u4cqcSRAJTpsmmHXv+2StbFORLNSlH9ILaV92wQ2+pByBnn31Zwd90hqQgh2wqWaIDeQ7dos8pB\n",
       "cqtx4ASaH6zL1ioGKrrs61gkFJoqK1WV1NPs38CEQ1IRuFTiSAA6SCfm9uuKOEP7GOYPdyBV+UlT\n",
       "wOM7Nem6ApmCr2M+SWblTw2eH44HHMfYTe0TH3FOkBSEXts+atvXmSMBSBMV0RpMF4IHq2Pn7tnS\n",
       "lM9pDlaNmTzHJWsuSW9zHjDD/NPRCF5XlKa9rqjNygZJrR2teB0a+5Cs3Bb/yt6zKzw6wUsgOSmN\n",
       "agvHiyGklo4EwsxztVaYob1aq60cfrXWO9IFofUHy8b/fbCk//mDZcPFXwUnQf2viAHxAAAAAElF\n",
       "TkSuQmCC\n",
       "\" style=\"display:inline;vertical-align:middle;\" /></a></span></td></tr>\n",
       "<tr><td>&nbsp;</td><td colspan=4 style-\"text-align:left\"><a class=\"ProveItLink\" href=\"inBoolDef.ipynb\">proveit.logic.boolean.inBoolDef</a></td></tr><tr><td><a name=\"-0x72c012bc72c06ad3_step9\">9</a></td><td>axiom</td><td></td><td><span style=\"font-size:20px;\"> <a class=\"ProveItLink\" href=\"../../equality/_axioms_.ipynb#equalityInBool\" style=\"text-decoration: none\">&#x22A2;&nbsp;</a><a class=\"ProveItLink\" href=\"../../equality/__pv_it/8e4dcb0131893a0cba30db381aaa3ccc1f1d2dea0/expr.ipynb\"><img src=\"data:image/png;base64,iVBORw0KGgoAAAANSUhEUgAAAKYAAAAVBAMAAAA++IifAAAAMFBMVEX///8QEBCIiIhmZma6urrM\n",
       "zMxUVFQiIiJERETc3Nzu7u6qqqp2dnaYmJgyMjIAAAAcRTyBAAAAAXRSTlMAQObYZgAAAkxJREFU\n",
       "OMulVT9oE1Ec/oyX3OVyZzMoOMmRYuwgVIR2aqsiGBA0rYOTYBAFXaSI1UGxoYMmgvQEoUURHx1C\n",
       "6SABBweX0DpIVbjBscoJOigoVRTUqe9f2t7LezTgD768u++997vf/wAmyUYCBsmFZj5mD+81m/MS\n",
       "JrmkvO/bPf3x2mHOv2bvXzV3vkiY5KlKxKfcu8Ocn2VuVjuv+AcEjOIFClE9gb0O53cQujQ7r9ih\n",
       "gFHcvPz4neu32jpfOJz3lxcWZjRXZiTM8on/pqfIhp0v5wX/p1a7qbnRKzFXfLBf8dLtDXCfYEmE\n",
       "lWz4bk1coCvl6VLX6Lwn4Lb8KzarDe87FxZhz8qjH/igpL96ZPIHzTvjj8KNNTpvCHjE+2cpYX20\n",
       "PUYNeC40bc7R2xVw3kZKV9k7BVw4HUVBtgX4CZzl4dzDrG/rdKyI815kw6wT6Ak69sok/VvqzCbs\n",
       "dFDhfDY+TYnFgeIoYBVhk4Tv9MioKEcRzwp7HkGKFlKJ8/nNOjOsLRlfPw+kyGWbxtfrIWPJHOVI\n",
       "P91U7LwNp9LO0cGEnX5L8M/GaVjwjdEPS+iTJ5YEys1pPFZ9H0SZxm1I9MZ6v8Rn8GYQghcB+8v5\n",
       "IZyTJ0oCjcLccEcKG4VDtBQ+i2K9eDw5QzjvM9fSq2m2cRW7uurNEapsXDxar2RvtjtC8njixR5m\n",
       "CSas1a1nSCZ2f2lmiDpbGu8WlzHWxLG+9fqvQ99g1PzICTSzTj8Dm27oRFvPZKswYPyeyufCTOtk\n",
       "t/8dftgV78NaaeH/ZQ3wb6WAciBaNgAAAABJRU5ErkJggg==\n",
       "\" style=\"display:inline;vertical-align:middle;\" /></a></span></td></tr>\n",
       "<tr><td>&nbsp;</td><td colspan=4 style-\"text-align:left\"><a class=\"ProveItLink\" href=\"../../equality/_axioms_.ipynb#equalityInBool\">proveit.logic.equality.equalityInBool</a></td></tr></table>"
      ],
      "text/plain": [
       "\tstep type\trequirements\tstatement\n",
       "0\tgeneralizaton\t1\t|- forall_{A} ((A in BOOLEANS) in BOOLEANS)\n",
       "1\tinstantiation\t2, 3, 4\t|- (A in BOOLEANS) in BOOLEANS\n",
       "\tP(_a) : _a in BOOLEANS, x : A in BOOLEANS, y : (A = TRUE) or (A = FALSE)\n",
       "2\ttheorem\t\t|- forall_{P, x, y | P(y), x = y} P(x)\n",
       "\tproveit.logic.equality.subLeftSideInto\n",
       "3\tinstantiation\t5, 6, 7\t|- ((A = TRUE) or (A = FALSE)) in BOOLEANS\n",
       "\tA : A = TRUE, B : A = FALSE\n",
       "4\tinstantiation\t8\t|- (A in BOOLEANS) = ((A = TRUE) or (A = FALSE))\n",
       "\tA : A\n",
       "5\ttheorem\t\t|- forall_{A in BOOLEANS, B in BOOLEANS} ((A or B) in BOOLEANS)\n",
       "\tproveit.logic.boolean.disjunction.binaryClosure\n",
       "6\tinstantiation\t9\t|- (A = TRUE) in BOOLEANS\n",
       "\tx : A, y : TRUE\n",
       "7\tinstantiation\t9\t|- (A = FALSE) in BOOLEANS\n",
       "\tx : A, y : FALSE\n",
       "8\ttheorem\t\t|- forall_{A} ((A in BOOLEANS) = ((A = TRUE) or (A = FALSE)))\n",
       "\tproveit.logic.boolean.inBoolDef\n",
       "9\taxiom\t\t|- forall_{x, y} ((x = y) in BOOLEANS)\n",
       "\tproveit.logic.equality.equalityInBool"
      ]
     },
     "execution_count": 7,
     "metadata": {},
     "output_type": "execute_result"
    }
   ],
   "source": [
    "%qed"
   ]
  },
  {
   "cell_type": "code",
   "execution_count": null,
   "metadata": {},
   "outputs": [],
   "source": []
  }
 ],
 "metadata": {
  "kernelspec": {
   "display_name": "Python 3",
   "language": "python",
   "name": "python3"
  }
 },
 "nbformat": 4,
 "nbformat_minor": 0
}
