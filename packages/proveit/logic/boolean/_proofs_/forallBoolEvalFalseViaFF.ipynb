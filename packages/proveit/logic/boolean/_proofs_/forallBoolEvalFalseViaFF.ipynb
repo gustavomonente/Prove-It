{
 "cells": [
  {
   "cell_type": "markdown",
   "metadata": {},
   "source": [
    "Proof of <a class=\"ProveItLink\" href=\"../../../_context_.ipynb\">proveit</a>.<a class=\"ProveItLink\" href=\"../../_context_.ipynb\">logic</a>.<a class=\"ProveItLink\" href=\"../_context_.ipynb\">boolean</a>.<a class=\"ProveItLink\" href=\"../_theorems_.ipynb#forallBoolEvalFalseViaFF\">forallBoolEvalFalseViaFF</a> theorem\n",
    "========"
   ]
  },
  {
   "cell_type": "code",
   "execution_count": 1,
   "metadata": {},
   "outputs": [],
   "source": [
    "import proveit\n",
    "context = proveit.Context('..') # the theorem's context is in the parent directory"
   ]
  },
  {
   "cell_type": "code",
   "execution_count": 2,
   "metadata": {},
   "outputs": [
    {
     "name": "stdout",
     "output_type": "stream",
     "text": [
      "Beginning proof of forallBoolEvalFalseViaFF\n",
      "Recorded 'presuming' information\n"
     ]
    },
    {
     "name": "stdout",
     "output_type": "stream",
     "text": [
      "Presuming previous theorems (applied transitively).\n"
     ]
    },
    {
     "data": {
      "text/html": [
       "<strong id=\"forallBoolEvalFalseViaFF\">forallBoolEvalFalseViaFF:</strong> <a class=\"ProveItLink\" href=\"../__pv_it/e16202739fc567381a54f9c906e8886178c983390/expr.ipynb\"><img src=\"data:image/png;base64,iVBORw0KGgoAAAANSUhEUgAAAf8AAAAUBAMAAABxKyl4AAAAMFBMVEX///8QEBCIiIhmZma6urrM\n",
       "zMxUVFQiIiJERETc3Nzu7u6qqqp2dnaYmJgyMjIAAAAcRTyBAAAAAXRSTlMAQObYZgAABS5JREFU\n",
       "WMOlWF1oXEUUPu5P9+/upkJA8EEu7YuI2It9qErVBR/yVMiTBAS3aBNQgllpMfZPog+yi9TdF4kI\n",
       "oSsKLRXDokjoU5fuFbENsioIRRoWVwUrJMGGJpVqnDMz986ZuzO3KQ6cZXa/e7/zzbdz5s5cAEPL\n",
       "9VSEbSHsXQRbu2hiGu4XmjYCRCzoAiRWx2EHTc+zcixGK0Yfv1zXsfMkftp+d2rQAsjPwYFZbG/A\n",
       "LpPCF/BjCKEM2Id0Gz9fMRAoxIRifqdsEhu04szW1GtPyZysvSiZ/BitGFfxyw39gj9IwL8A2QcB\n",
       "SnxsX3AtfUN+DclRpoCB9wsufi6a/vwQMaGY3ymbxIZthCV/uyXzAKxJJj9GK8aHqHdO99JTAek7\n",
       "TNtfAD+qW+GyzYAAKXmKKWDgfTlMx7UZgIgJxfxO2SBWtUoH4JIr80BxrSWY/DitLEp4XVvDM00V\n",
       "kNhgwYZwnNz6sdUAiUycUEwBA+/LYeZ32wxAhKL1oHMcDTCIVW1fmUVH5oHPnm0KJj9OK4vilQsX\n",
       "5nV8ngRk11mpbECuSm4tlW2kEjmyRzEFDPNkmPCrzQCOEHQiWNmqaIBBrGoNFjNlmQd66Acy+XFa\n",
       "MbZqtVM6vpcEr6yzHiQ8cqvj2UgFku9nFFPAsJcOs2s1oKujckLz/E7ZIFY1ttTkbsqckGpd6gkm\n",
       "P04rxiSfZ6nG9BOvSvwMCaysAsuZ7ZFbi3yt+24V20AjFYjTlvOUMpyhw1zhl3GCVQ+iCEeT/Jkz\n",
       "e1OgmJ8ZMBkURX34KcLqdKkT5PkUKq5g8uO0Yjwn1u7vAb6R+EkSsG96+XFWeZk2ubVQtbkqkAzk\n",
       "+iFTwHCSDnPJOgOWImjhT7GatLkBUiwUN+QE+WVwVK4JiVvL3UeCnFDGSceZ/DitGBlI4L87xZRK\n",
       "fJQENFr8t/vK5Nb0uo1UID/weRVhGKXDrFgNqETRxdEgPzNAioVP/sF1rvs0uJ2Fr+Qc+Vuph/TL\n",
       "+2fmBJMfpxXD6fGCPQ1QMxmwCfduAHsGPK/EbML/MSA33SQGSLFw5Sj799/7qAWu63wutwFVkifF\n",
       "7ujv0IBcH8Xmb0PihKEE0rIGtRJIVVVd/a6RcqTgBfsmyqCVwBhZAw5DFOFoUqCrTVoCQiyk3RrW\n",
       "Lmuue+hbuQ3wSB52dWa3YPLjtHK99SP47c6jV8GwCCY21CIUWepMrnIEB1/wIMIwvAgaZ8CKjqb6\n",
       "2iIoxMIuOCA38e7+h8bVNiDIk2MGlNbJImjTyvV+iS44ZExdEiVZWQ59DCY7NlKOTMgy0Bm6dJgH\n",
       "rQYc1NHFlsqPBnCx8DNbr/KemAHJD+TWt6Xy4F4ge1sw+XFaud4RzJwlj/YxFcm1Wy6Z9XBIbCGi\n",
       "pzJ2TLofj0kC4X/SHogwjPEn2+sPzM6yOf9bhEBHCDoZzISqMICLzQ+WG630m7XaO7gGJPgFz2y/\n",
       "FKo/v30DCo1NjzP5cVq53iJaN9K2bIXJVjRs56xH0XPiEYRlGm6FCWt4tKvaCBChaFPbCkuxyRac\n",
       "HYfDYgY4SRjayFM2P06rGkmlaTkMkcNI2C5bDYgglIH2jccduPthSPbZPBzpwdfcgI6zbM9pOQwB\n",
       "PQzJXcTak6CfQOqR7VZWOWQ8DpuRurm/aHXQehzONkMDsluQa5yGLJu0xVOD93v2nJbjMNDjsKnR\n",
       "FyLkhYTBi2GVw0yGft1qQN2G8hci+k8PszXAop6w+TFabSO5yyuxa1b513b2SqxodRCRovWV2Fv3\n",
       "+EoMmR47FqOVxX9VTe4/UiWb+gAAAABJRU5ErkJggg==\n",
       "\" style=\"display:inline;vertical-align:middle;\" /></a><br>(see <a class=\"ProveItLink\" href=\"../__pv_it/e16202739fc567381a54f9c906e8886178c983390/dependencies.ipynb\">dependencies</a>)<br>"
      ],
      "text/plain": [
       "forallBoolEvalFalseViaFF: forall_{P} (((P(TRUE) = FALSE) and (P(FALSE) = FALSE)) => ([forall_{A in BOOLEANS} P(A)] = FALSE))"
      ]
     },
     "execution_count": 2,
     "metadata": {},
     "output_type": "execute_result"
    }
   ],
   "source": [
    "%proving forallBoolEvalFalseViaFF presuming []"
   ]
  },
  {
   "cell_type": "code",
   "execution_count": null,
   "metadata": {},
   "outputs": [],
   "source": []
  }
 ],
 "metadata": {
  "kernelspec": {
   "display_name": "Python 3",
   "language": "python",
   "name": "python3"
  }
 },
 "nbformat": 4,
 "nbformat_minor": 0
}
