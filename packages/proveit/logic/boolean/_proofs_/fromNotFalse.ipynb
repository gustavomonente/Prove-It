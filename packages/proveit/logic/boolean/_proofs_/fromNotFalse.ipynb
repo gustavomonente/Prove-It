{
 "cells": [
  {
   "cell_type": "markdown",
   "metadata": {},
   "source": [
    "Proof of <a class=\"ProveItLink\" href=\"../../../_context_.ipynb\">proveit</a>.<a class=\"ProveItLink\" href=\"../../_context_.ipynb\">logic</a>.<a class=\"ProveItLink\" href=\"../_context_.ipynb\">boolean</a>.<a class=\"ProveItLink\" href=\"../_theorems_.ipynb#fromNotFalse\">fromNotFalse</a> theorem\n",
    "========"
   ]
  },
  {
   "cell_type": "code",
   "execution_count": 1,
   "metadata": {},
   "outputs": [],
   "source": [
    "import proveit\n",
    "from proveit import defaults\n",
    "from proveit._common_ import A\n",
    "from proveit.logic.boolean.implication._theorems_ import affirmViaContradiction\n",
    "from proveit.logic.equality._theorems_ import foldNotEquals, notEqualsContradiction\n",
    "from proveit.logic import NotEquals, FALSE, inBool, Booleans\n",
    "context = proveit.Context('..') # the theorem's context is in the parent directory"
   ]
  },
  {
   "cell_type": "code",
   "execution_count": 2,
   "metadata": {},
   "outputs": [
    {
     "name": "stdout",
     "output_type": "stream",
     "text": [
      "Beginning proof of fromNotFalse\n",
      "Recorded 'presuming' information\n"
     ]
    },
    {
     "name": "stdout",
     "output_type": "stream",
     "text": [
      "Presuming proveit.logic.boolean.implication.affirmViaContradiction, proveit.logic.equality.foldNotEquals, proveit.logic.equality.notEqualsContradiction theorems (applied transitively).\n",
      "Presuming previous theorems (applied transitively).\n"
     ]
    },
    {
     "data": {
      "text/html": [
       "<strong id=\"fromNotFalse\">fromNotFalse:</strong> <a class=\"ProveItLink\" href=\"../__pv_it/fd61d0725ee4e756bb0e3d47c4039e7c3aab75f40/expr.ipynb\"><img src=\"data:image/png;base64,iVBORw0KGgoAAAANSUhEUgAAAH0AAAAWCAMAAADabWOOAAAAOVBMVEX///8oKCgUFBQNDQ0QEBCI\n",
       "iIhmZma6urrMzMxUVFQiIiJERETc3Nzu7u6qqqp2dnaYmJgyMjIAAAArQGDrAAAAAXRSTlMAQObY\n",
       "ZgAAAaVJREFUSMfFVglywyAMpK2RuSX4/2PLZY4kuNNOhygTBkxWK6QVMWNvNd9mRDt5RSZG1+Kw\n",
       "W08d0mh0XbbJFiMf7HjknoQNZh0Ek6NAm8yorUdnPJx5FnQyhRvJT8tcKCKXIo3a9M1xvoA/PZkx\n",
       "9wK2ES4CL54gPfBDWsL5oBDuQcGoiyeFzhgQ10yuYjcByiJVnPdmt1CTErWBAHHOGTJDTqzZOya3\n",
       "j1yHmVpdAoAMdQupRFANrSphkXbGphzy+ImPac3eMGXX3rKXLB0128bHcHpknGndKpItsZ+EZsne\n",
       "MMU7sjv2WkF1NMXIXrUYB6j5DuYM4PBiXfcLI3P7fMUvLdmNGy+7FA30xFPc5CGXko1nZ2CWdW+Y\n",
       "8utbebZ7RYcrl1X9WfuAqNMtKFQ+iOZX3RlfOO2YvJr2HtitDiFfri5OLqlQkwnY3A1iapbKDgun\n",
       "HSO9958fcfB0o7r1LVJQuX1QdPaoI8SFmEbM1G2/Zde5CY0OKrnStYCk0IP29NrpjBm6DVPdjjT8\n",
       "7RLnte4vwlxB3I6/C/3zq9Ib2GnLSwL8j5tv6EoSMhn4XR0AAAAASUVORK5CYII=\n",
       "\" style=\"display:inline;vertical-align:middle;\" /></a><br>(see <a class=\"ProveItLink\" href=\"../__pv_it/fd61d0725ee4e756bb0e3d47c4039e7c3aab75f40/dependencies.ipynb\">dependencies</a>)<br>"
      ],
      "text/plain": [
       "fromNotFalse: forall_{A in BOOLEANS | A != FALSE} A"
      ]
     },
     "execution_count": 2,
     "metadata": {},
     "output_type": "execute_result"
    }
   ],
   "source": [
    "%proving fromNotFalse presuming [foldNotEquals, notEqualsContradiction, affirmViaContradiction]"
   ]
  },
  {
   "cell_type": "code",
   "execution_count": 3,
   "metadata": {},
   "outputs": [
    {
     "data": {
      "text/html": [
       "<strong id=\"defaults.assumptions\">defaults.assumptions:</strong> <a class=\"ProveItLink\" href=\"../__pv_it/049d122d1929086fa354510808ccd595bb39157c0/expr.ipynb\"><img src=\"data:image/png;base64,iVBORw0KGgoAAAANSUhEUgAAAIcAAAAUCAMAAACQy97VAAAAOVBMVEX///8kJCQNDQ0oKChUVFTM\n",
       "zMx2dna6uroQEBCqqqqIiIgiIiJmZmYyMjJERETu7u6YmJjc3NwAAABfYoQ1AAAAAXRSTlMAQObY\n",
       "ZgAAAcZJREFUSMe1lutyhCAMhdOWe4AI7/+wBV1XhIjuTMuPlREPfDlkAwAAaYF/b4ouh2zanhTb\n",
       "tzJM53NoYszBoND8B7w+DW+lfXfFBhJSOx7yTWQBpCvs5HkXef1Ibd27Syvk4tvhJWSac0TQhcBJ\n",
       "iNwor0/jtw0HqNrH1g6yPqfzxBFLCz2HtSzHqN/skFMOMgUVT6uCy62FMjpi/VCaOI5ef2nHiQOC\n",
       "Btduiyawudl3CsTvi0bJxDjod4m84VAeYrtsCUXm5gOR2PwwmLNh/i+9XoW1/XzXXz/hWAKgbcKp\n",
       "HmbfrnmVp2pZ1GhHr7+248xhEZq4pPDei3wsLk3YW8+xP04lodfvr+GOQ+aWY+uZMM2vgwMEY8dJ\n",
       "/xKkJxzHvrw6aI5xc80hakU7zzzo1/z4epkqJhwajzxNdiyI3k386BKE04/l+jJP1Sut3nUktoWo\n",
       "zeKjrhcApXwNkPJuCq8voXq45/CqWrKedTmvtcKWDh5SElHT7JxDpJm+YA8VyNcCjcasj223guzq\n",
       "OlOaVDzX9T6u+XFk/YNLAeFwzn1+sbg5nenJHO76f/WwkZvboZ7MEZh70Idt+QM7diP+8V6on4RS\n",
       "MX4BcUMVtip2EFkAAAAASUVORK5CYII=\n",
       "\" style=\"display:inline;vertical-align:middle;\" /></a><br>"
      ],
      "text/plain": [
       "defaults.assumptions: (A in BOOLEANS, A != FALSE)"
      ]
     },
     "execution_count": 3,
     "metadata": {},
     "output_type": "execute_result"
    }
   ],
   "source": [
    "defaults.assumptions = fromNotFalse.conditions"
   ]
  },
  {
   "cell_type": "code",
   "execution_count": 4,
   "metadata": {},
   "outputs": [
    {
     "data": {
      "text/html": [
       "<strong id=\"AneqF\">AneqF:</strong> <a class=\"ProveItLink\" href=\"../__pv_it/6a424a47288c0ee88c93b5aebab7f3f614e56af50/expr.ipynb\"><img src=\"data:image/png;base64,iVBORw0KGgoAAAANSUhEUgAAADoAAAAUCAMAAADrw95cAAAAOVBMVEX///8kJCQNDQ0oKCh2dnYi\n",
       "IiIQEBBERERUVFS6urqIiIjc3NxmZmaqqqru7u6YmJgyMjLMzMwAAAADT7o2AAAAAXRSTlMAQObY\n",
       "ZgAAALxJREFUOMvFk9sSgzAIRGlrbgYi4f8/tkbbqSZRHF/KQ3SYPbNgVgCthqRKIHOvG5tupkbE\n",
       "0kN9qDs01p2JpTNadKCiiVBixzTr6ASjhCumDRoSkEyNzGUVTbNhll9v4KVez3LiKVpGjYJXTCs0\n",
       "e0T0Ui+WPajo+n1sffsuqugnHsbud33YdWN/jEbqx4m7pls0mu98+0wEhHM0OREuCaT5xWzV3OQS\n",
       "TSlrl4c//pEI4W5xukvS8AdTCKriDZWPB9iAwR56AAAAAElFTkSuQmCC\n",
       "\" style=\"display:inline;vertical-align:middle;\" /></a><br>"
      ],
      "text/plain": [
       "AneqF: A != FALSE"
      ]
     },
     "execution_count": 4,
     "metadata": {},
     "output_type": "execute_result"
    }
   ],
   "source": [
    "AneqF = defaults.assumptions[-1]"
   ]
  },
  {
   "cell_type": "code",
   "execution_count": 5,
   "metadata": {},
   "outputs": [
    {
     "data": {
      "text/html": [
       "<span style=\"font-size:20px;\"><a class=\"ProveItLink\" href=\"../__pv_it/29f1a4bd3a430c3da684f34ca34371202770ecd70/expr.ipynb\"><img src=\"data:image/png;base64,iVBORw0KGgoAAAANSUhEUgAAAI0AAAAVCAMAAABMtZ25AAAAOVBMVEX///8kJCQNDQ0oKCiIiIi6\n",
       "urrc3NxERETMzMwQEBCqqqpUVFQiIiJ2dnYyMjLu7u5mZmaYmJgAAACs2H6dAAAAAXRSTlMAQObY\n",
       "ZgAAAcRJREFUSMfFltmCgyAMRTMzIDsB/v9jB61Uloh2Vh5aVC6chJAAsLYYIvxnk4Fh6aN3f7Gk\n",
       "w8lHruTei6kj9dNZmVVCJK+s4SeWkvpleCt19RDKZ2fbUT5dWOlBMkCBJ/tL60d2zWrPWZom+oRz\n",
       "GgE8czCZO0Sj9cs49g4N6pCWdnphc/M9jdYkzah/uEZ+iSYCS7VTpWBI+sZxpGh6/alr7tBwBJ2q\n",
       "eECP9E5xKwl7B32RyCsaVZxYbQJms2SqhpmFjBtlU1LEmer1zm/t4339DROacrC1qrjXBZYU6pXP\n",
       "otjFOOapQX/umpYGNlYpbGW9NCEEkw4EqXxpPU35a1JIry+v4ZIGjGVNGnyYBqD8NPoOGjCEaxr9\n",
       "Lliuafw+l3muuCdHq45B6pzGrHmwnX/Qb3HztjvY3Iib40wtekymgU180wUOpd+eSdecnKlCsxQq\n",
       "Uacvq6nKkDGcC6uxmIqDaH3evgA3aNp8gyKlLbfo3LHHBGgEx1nVtBZn+gw/ZKywJner1PZnpnVq\n",
       "PLVOtJWht3Fe1nS4dd+w/ZZ99eJyUfHxJZqYvgWDbO6ae1e55/0Gvnf3iz/hGl6VGf2L92L+wr34\n",
       "E0zsFdqrfz3SAAAAAElFTkSuQmCC\n",
       "\" style=\"display:inline;vertical-align:middle;\" /></a> <a class=\"ProveItLink\" href=\"../__pv_it/809b6039fa67d183a36b906b6fb9960776c8af330/proof.ipynb\" style=\"text-decoration: none\">&#x22A2;&nbsp;</a><a class=\"ProveItLink\" href=\"../../../__pv_it/d3792d0d8642fdf1cd2a3a9b32c673ee13653de00/expr.ipynb\"><img src=\"data:image/png;base64,iVBORw0KGgoAAAANSUhEUgAAAA8AAAAOBAMAAAACpFvcAAAALVBMVEX///8iIiIQEBBERERUVFS6\n",
       "urqIiIjc3NxmZmaqqqru7u6YmJgyMjLMzMwAAACK9jtgAAAAAXRSTlMAQObYZgAAAFtJREFUCNdj\n",
       "YACBOwxQcA5Kc59bAGGs7CuAMDbkBYBp1gXzNoAZSxnuJYAZAQx1DSCa16PDzwCshIGB6QCIMYGB\n",
       "gVEBSLMDGTwPgIxCIGZ+zsCw+N0pBk67hw0AfpEVEQi8t+wAAAAASUVORK5CYII=\n",
       "\" style=\"display:inline;vertical-align:middle;\" /></a></span>"
      ],
      "text/plain": [
       "{A in BOOLEANS, A != FALSE} |- A"
      ]
     },
     "execution_count": 5,
     "metadata": {},
     "output_type": "execute_result"
    }
   ],
   "source": [
    "AneqF.affirmViaContradiction(A)"
   ]
  },
  {
   "cell_type": "code",
   "execution_count": 6,
   "metadata": {},
   "outputs": [
    {
     "data": {
      "text/html": [
       "<table><tr><th>&nbsp;</th><th>step type</th><th>requirements</th><th>statement</th></tr>\n",
       "<tr><td><a name=\"0x78bfe20adf76f201_step0\">0</a></td><td>generalizaton</td><td><a href=\"#0x78bfe20adf76f201_step1\">1</a></td><td><span style=\"font-size:20px;\"> <a class=\"ProveItLink\" href=\"../__pv_it/b596954c8ac303a75d9adb0f8d763f8559db2f240/proof.ipynb\" style=\"text-decoration: none\">&#x22A2;&nbsp;</a><a class=\"ProveItLink\" href=\"../__pv_it/fd61d0725ee4e756bb0e3d47c4039e7c3aab75f40/expr.ipynb\"><img src=\"data:image/png;base64,iVBORw0KGgoAAAANSUhEUgAAAH0AAAAWCAMAAADabWOOAAAAOVBMVEX///8oKCgUFBQNDQ0QEBCI\n",
       "iIhmZma6urrMzMxUVFQiIiJERETc3Nzu7u6qqqp2dnaYmJgyMjIAAAArQGDrAAAAAXRSTlMAQObY\n",
       "ZgAAAaVJREFUSMfFVglywyAMpK2RuSX4/2PLZY4kuNNOhygTBkxWK6QVMWNvNd9mRDt5RSZG1+Kw\n",
       "W08d0mh0XbbJFiMf7HjknoQNZh0Ek6NAm8yorUdnPJx5FnQyhRvJT8tcKCKXIo3a9M1xvoA/PZkx\n",
       "9wK2ES4CL54gPfBDWsL5oBDuQcGoiyeFzhgQ10yuYjcByiJVnPdmt1CTErWBAHHOGTJDTqzZOya3\n",
       "j1yHmVpdAoAMdQupRFANrSphkXbGphzy+ImPac3eMGXX3rKXLB0128bHcHpknGndKpItsZ+EZsne\n",
       "MMU7sjv2WkF1NMXIXrUYB6j5DuYM4PBiXfcLI3P7fMUvLdmNGy+7FA30xFPc5CGXko1nZ2CWdW+Y\n",
       "8utbebZ7RYcrl1X9WfuAqNMtKFQ+iOZX3RlfOO2YvJr2HtitDiFfri5OLqlQkwnY3A1iapbKDgun\n",
       "HSO9958fcfB0o7r1LVJQuX1QdPaoI8SFmEbM1G2/Zde5CY0OKrnStYCk0IP29NrpjBm6DVPdjjT8\n",
       "7RLnte4vwlxB3I6/C/3zq9Ib2GnLSwL8j5tv6EoSMhn4XR0AAAAASUVORK5CYII=\n",
       "\" style=\"display:inline;vertical-align:middle;\" /></a></span></td></tr>\n",
       "<tr><td><a name=\"0x78bfe20adf76f201_step1\">1</a></td><td>instantiation</td><td><a href=\"#0x78bfe20adf76f201_step2\">2</a>, <a href=\"#0x78bfe20adf76f201_step3\">3</a>, <a href=\"#0x78bfe20adf76f201_step4\">4</a></td><td><span style=\"font-size:20px;\"><a class=\"ProveItLink\" href=\"../__pv_it/29f1a4bd3a430c3da684f34ca34371202770ecd70/expr.ipynb\"><img src=\"data:image/png;base64,iVBORw0KGgoAAAANSUhEUgAAAI0AAAAVCAMAAABMtZ25AAAAOVBMVEX///8kJCQNDQ0oKCiIiIi6\n",
       "urrc3NxERETMzMwQEBCqqqpUVFQiIiJ2dnYyMjLu7u5mZmaYmJgAAACs2H6dAAAAAXRSTlMAQObY\n",
       "ZgAAAcRJREFUSMfFltmCgyAMRTMzIDsB/v9jB61Uloh2Vh5aVC6chJAAsLYYIvxnk4Fh6aN3f7Gk\n",
       "w8lHruTei6kj9dNZmVVCJK+s4SeWkvpleCt19RDKZ2fbUT5dWOlBMkCBJ/tL60d2zWrPWZom+oRz\n",
       "GgE8czCZO0Sj9cs49g4N6pCWdnphc/M9jdYkzah/uEZ+iSYCS7VTpWBI+sZxpGh6/alr7tBwBJ2q\n",
       "eECP9E5xKwl7B32RyCsaVZxYbQJms2SqhpmFjBtlU1LEmer1zm/t4339DROacrC1qrjXBZYU6pXP\n",
       "otjFOOapQX/umpYGNlYpbGW9NCEEkw4EqXxpPU35a1JIry+v4ZIGjGVNGnyYBqD8NPoOGjCEaxr9\n",
       "Lliuafw+l3muuCdHq45B6pzGrHmwnX/Qb3HztjvY3Iib40wtekymgU180wUOpd+eSdecnKlCsxQq\n",
       "Uacvq6nKkDGcC6uxmIqDaH3evgA3aNp8gyKlLbfo3LHHBGgEx1nVtBZn+gw/ZKywJner1PZnpnVq\n",
       "PLVOtJWht3Fe1nS4dd+w/ZZ99eJyUfHxJZqYvgWDbO6ae1e55/0Gvnf3iz/hGl6VGf2L92L+wr34\n",
       "E0zsFdqrfz3SAAAAAElFTkSuQmCC\n",
       "\" style=\"display:inline;vertical-align:middle;\" /></a> <a class=\"ProveItLink\" href=\"../__pv_it/809b6039fa67d183a36b906b6fb9960776c8af330/proof.ipynb\" style=\"text-decoration: none\">&#x22A2;&nbsp;</a><a class=\"ProveItLink\" href=\"../../../__pv_it/d3792d0d8642fdf1cd2a3a9b32c673ee13653de00/expr.ipynb\"><img src=\"data:image/png;base64,iVBORw0KGgoAAAANSUhEUgAAAA8AAAAOBAMAAAACpFvcAAAALVBMVEX///8iIiIQEBBERERUVFS6\n",
       "urqIiIjc3NxmZmaqqqru7u6YmJgyMjLMzMwAAACK9jtgAAAAAXRSTlMAQObYZgAAAFtJREFUCNdj\n",
       "YACBOwxQcA5Kc59bAGGs7CuAMDbkBYBp1gXzNoAZSxnuJYAZAQx1DSCa16PDzwCshIGB6QCIMYGB\n",
       "gVEBSLMDGTwPgIxCIGZ+zsCw+N0pBk67hw0AfpEVEQi8t+wAAAAASUVORK5CYII=\n",
       "\" style=\"display:inline;vertical-align:middle;\" /></a></span></td></tr>\n",
       "<tr><td>&nbsp;</td><td colspan=4 style=\"text-align:left\"><span style=\"font-size:20px;\"><a class=\"ProveItLink\" href=\"../../../__pv_it/d3792d0d8642fdf1cd2a3a9b32c673ee13653de00/expr.ipynb\"><img src=\"data:image/png;base64,iVBORw0KGgoAAAANSUhEUgAAAA8AAAAOBAMAAAACpFvcAAAALVBMVEX///8iIiIQEBBERERUVFS6\n",
       "urqIiIjc3NxmZmaqqqru7u6YmJgyMjLMzMwAAACK9jtgAAAAAXRSTlMAQObYZgAAAFtJREFUCNdj\n",
       "YACBOwxQcA5Kc59bAGGs7CuAMDbkBYBp1gXzNoAZSxnuJYAZAQx1DSCa16PDzwCshIGB6QCIMYGB\n",
       "gVEBSLMDGTwPgIxCIGZ+zsCw+N0pBk67hw0AfpEVEQi8t+wAAAAASUVORK5CYII=\n",
       "\" style=\"display:inline;vertical-align:middle;\" /></a> : <a class=\"ProveItLink\" href=\"../../../__pv_it/d3792d0d8642fdf1cd2a3a9b32c673ee13653de00/expr.ipynb\"><img src=\"data:image/png;base64,iVBORw0KGgoAAAANSUhEUgAAAA8AAAAOBAMAAAACpFvcAAAALVBMVEX///8iIiIQEBBERERUVFS6\n",
       "urqIiIjc3NxmZmaqqqru7u6YmJgyMjLMzMwAAACK9jtgAAAAAXRSTlMAQObYZgAAAFtJREFUCNdj\n",
       "YACBOwxQcA5Kc59bAGGs7CuAMDbkBYBp1gXzNoAZSxnuJYAZAQx1DSCa16PDzwCshIGB6QCIMYGB\n",
       "gVEBSLMDGTwPgIxCIGZ+zsCw+N0pBk67hw0AfpEVEQi8t+wAAAAASUVORK5CYII=\n",
       "\" style=\"display:inline;vertical-align:middle;\" /></a></span></td></tr><tr><td><a name=\"0x78bfe20adf76f201_step2\">2</a></td><td>theorem</td><td></td><td><span style=\"font-size:20px;\"> <a class=\"ProveItLink\" href=\"../implication/_proofs_/affirmViaContradiction.ipynb\" style=\"text-decoration: none\">&#x22A2;&nbsp;</a><a class=\"ProveItLink\" href=\"../implication/__pv_it/5665d4aae4cfdc48c82eb0428082c24badfa76ab0/expr.ipynb\"><img src=\"data:image/png;base64,iVBORw0KGgoAAAANSUhEUgAAAJkAAAAWBAMAAAAhlCOEAAAAMFBMVEX///8QEBCIiIhmZma6urrM\n",
       "zMxUVFQiIiJERETc3Nzu7u6qqqp2dnaYmJgyMjIAAAAcRTyBAAAAAXRSTlMAQObYZgAAAidJREFU\n",
       "OMutlE9o1EAUxj832W6SZqsHD55kwIso0oUVBFG6IIiXwuLBk+hCrVcLvYhUWDxNsXRzUYsgDVZQ\n",
       "IkrBP+BBXBCh1h5yV7G4J3upB6VVEH1vZk0mi12wZGAyf/K9X2a+vBkg17LKj495kM5RfcedtTxo\n",
       "61TnqLrNHGDl9RAYouov5kB7OBIQcjmKbuWx0Xi4Rs9NKaf6ylxzUN9KZYevYmrGgWk1nu4V1HTT\n",
       "TiacAE+3ot3DeUHNCXgqS8rfum5+7kxqH/W/GQiSiE81WIGJaJifnq9QU0KBl4iFX2zl6+MQ7TvP\n",
       "DNrZJMAbieE1TFqaC8Wx6iUe+XFJjZcnaV3Xb4cQwn9kaMeTCP8+ff2L6r7spdnADt6iu3pGwYXk\n",
       "XVMRYvStoZ1IIk47NHPI3H5KI29Ku5T7F9R7HOkeM1HdW0+1bkprWNR/jiUp5ezuLM0l2tBX7j1R\n",
       "+vcYhlfRa7NupFq7CZ/DyYbFAulP6fDC4QyNM9b5wb2d/Ge9zkorLF6W8hr7VjBo2vYB4PGxpZ/6\n",
       "bLP+YmjQHvxew2BrgxdT5nkrxHxd/3GiWSmt2PxLOwr3O3AS+6pUxsKsb9kySmuM8UbR2v5KSvMm\n",
       "ujSb8oiS6AO8KIruCvShOZtwW1fhkJnlqc5sbGivdI9Xq4m5jRjKL9zkhJFyj5zpdyb3k289uXnw\n",
       "H7crgv+/FTTNycwNxtu9YzTNzsQvbPvGqujmhTl3oG/EH4NyiW+J0iaOAAAAAElFTkSuQmCC\n",
       "\" style=\"display:inline;vertical-align:middle;\" /></a></span></td></tr>\n",
       "<tr><td>&nbsp;</td><td colspan=4 style-\"text-align:left\"><a class=\"ProveItLink\" href=\"../implication/_proofs_/affirmViaContradiction.ipynb\">proveit.logic.boolean.implication.affirmViaContradiction</a></td></tr><tr><td><a name=\"0x78bfe20adf76f201_step3\">3</a></td><td>assumption</td><td></td><td><span style=\"font-size:20px;\"><a class=\"ProveItLink\" href=\"../__pv_it/3900818251551f5b9efd236f309711180172b8500/expr.ipynb\"><img src=\"data:image/png;base64,iVBORw0KGgoAAAANSUhEUgAAAEkAAAAVBAMAAAD4Ed5jAAAAMFBMVEX///+IiIi6urrc3NxERETM\n",
       "zMwQEBCqqqpUVFQiIiJ2dnYyMjLu7u5mZmaYmJgAAABN0h6tAAAAAXRSTlMAQObYZgAAATVJREFU\n",
       "KM9jYGDgu8eAB7BePACieHYx4AVMqSCS7wNU0wZUWckU/20zFICM2yAe1wSIKPcHNEM2BPL4gByz\n",
       "ElnV6z9oqhz0GERZ0FTx1H6Gyj6ZOXMDVFU5uio+xk8QRSEyCLMWHUFTpcP+D2LmHoSNTFNbgfQy\n",
       "EIcDbDyPAutHsByHAVyV2vxvID++B3HKAsChwsD8FyzHguz6da9Anr8AdMZksFDE3RtfwIyw3UAA\n",
       "cz0L0wMgo1OAgUENbBbQ6GywKhNks1gYGoBmNYAc4gAk2IF4GliODVkVB8MGqLvAfjQH4v1gOV4B\n",
       "ZLP4FkD9CFLFDFLpD/HddHgMRTGsuoEUXjz+vw8wlPyfC5Y84XQANbZR4hEOtDxnoiQPiKoE/OkL\n",
       "oorvAwFV4PTFQCitJoEpdsLpHgBPT1V1M7jh/QAAAABJRU5ErkJggg==\n",
       "\" style=\"display:inline;vertical-align:middle;\" /></a> <a class=\"ProveItLink\" href=\"../__pv_it/d818dd8bdac198af6b3e0a51d5438a543228dbb60/proof.ipynb\" style=\"text-decoration: none\">&#x22A2;&nbsp;</a><a class=\"ProveItLink\" href=\"../__pv_it/6a848856aa8448d2c8078b64fa7ec7edda2394a90/expr.ipynb\"><img src=\"data:image/png;base64,iVBORw0KGgoAAAANSUhEUgAAADYAAAAPBAMAAABdHiGLAAAAMFBMVEX///92dnYiIiIQEBBERERU\n",
       "VFS6urqIiIjc3NxmZmaqqqru7u6YmJgyMjLMzMwAAADiRdoGAAAAAXRSTlMAQObYZgAAANdJREFU\n",
       "GNNjYACBtwwogF3Z5a9RGJRzH1WOgZevYMvOA2Amz/0NqHIsbAfYHziAmbvmN0DEeJyUdKFyXAsg\n",
       "cgfqE8A0n/sGuD7GbLAc24b1ELP3bkCYmfT0AYi1jeF9AVgoAmGf0X8zMCuBoX8CmOGA5BbGMwIg\n",
       "WyJnxoNF+WzvAgFUjsEhB2QdAwPzBZAIB7I+BgdWIGMBAwOTAVjIAFkugBeoGijH+wEsNB1F30EG\n",
       "hiYQ+wdYiGkBPMwEGCUDGLb8v83A5f8J7FDukGzMsIYBNhFImEEAAEUpOYcaSaDVAAAAAElFTkSu\n",
       "QmCC\n",
       "\" style=\"display:inline;vertical-align:middle;\" /></a></span></td></tr>\n",
       "<tr><td><a name=\"0x78bfe20adf76f201_step4\">4</a></td><td>hypothetical reasoning</td><td><a href=\"#0x78bfe20adf76f201_step5\">5</a></td><td><span style=\"font-size:20px;\"><a class=\"ProveItLink\" href=\"../__pv_it/1cfbab2de0771ea0c52b968868e0294ff54d501c0/expr.ipynb\"><img src=\"data:image/png;base64,iVBORw0KGgoAAAANSUhEUgAAAE0AAAAVCAMAAAA0CpMYAAAAOVBMVEX///8kJCQNDQ0oKCiIiIi6\n",
       "urrc3NxERETMzMwQEBCqqqpUVFQiIiJ2dnYyMjLu7u5mZmaYmJgAAACs2H6dAAAAAXRSTlMAQObY\n",
       "ZgAAARNJREFUOMulVVuCgyAMzG7ljSHk/ofdYmUFRKRtPhQBJ5MwCQDJIkX4xjQtIY8DrjO/rGGw\n",
       "KIzeR5EbT9jbL0+z2hYflJdXX+9C7qE50c7YpWTu+2gRuROTVPAJWrDEskNNf4QWYWExQ20GTQSw\n",
       "fNaL0ndoJgdRnFZ40tJ8bFtxs8dvetIALQvDmsJvilEyzVCr0WDzpZUvcq4dETluk6Qd3KKB80sl\n",
       "4xc1ANMKVcl7NNw9un8qu7i9qfP2Y17ZcxN5O85U2n4xYJfaxZlmNJlRVS1fQTCBVustKGZMJWWf\n",
       "A18C4KnQyCczZnu5YZ2eKNBUv/JtyH3D8BZa5CG1qVZ69DcY9t45asKIIjXX94J44174AyoLC+5V\n",
       "lpF4AAAAAElFTkSuQmCC\n",
       "\" style=\"display:inline;vertical-align:middle;\" /></a> <a class=\"ProveItLink\" href=\"../__pv_it/b671d9b419831ca644787bd7bf729182af7191360/proof.ipynb\" style=\"text-decoration: none\">&#x22A2;&nbsp;</a><a class=\"ProveItLink\" href=\"../__pv_it/7c846d3e8d306c78ae4cc8d62213aa4786a1a59f0/expr.ipynb\"><img src=\"data:image/png;base64,iVBORw0KGgoAAAANSUhEUgAAAFsAAAAUBAMAAAAQFlwTAAAAMFBMVEX////MzMxUVFR2dna6uroQ\n",
       "EBCqqqqIiIgiIiJmZmYyMjJERETu7u6YmJjc3NwAAACgK8IjAAAAAXRSTlMAQObYZgAAAR9JREFU\n",
       "KM9jYOC7wIAK2B4w4AGnUXhSQKyHVR1jAphahyK4HohPYVXOVgAieScgi/GuP8DAwFyAWzkHikuP\n",
       "zQdyeQLgfO4HaMpfoBhxod4BSC5BOHgDmvJKZNUsB/JB4WSJELmJpnwvsvIjDPIgwVsg9owOEOif\n",
       "gKq8jYGBEyxhAOQ4MLwHSWcgmZCVgKI8BMrjUwC6VHOmPsix8kjKeZY64FLOwsDAugBN+SM7dMfA\n",
       "lQPt5QAFogdIYNYqMFiH3atA5XxA5VwfYF6FAC+0kIEHmgA4Crj/AYnJCJevQVPugUhr/9cwsO3/\n",
       "AQyahXAxJgEIDQy81oiODgW0RAAxsgHO5EOXQ01iYIA9iUHBPgyRU8RnD+wGIAGMzMeLJ/MBAEBh\n",
       "Ssfa69w/AAAAAElFTkSuQmCC\n",
       "\" style=\"display:inline;vertical-align:middle;\" /></a></span></td></tr>\n",
       "<tr><td><a name=\"0x78bfe20adf76f201_step5\">5</a></td><td>instantiation</td><td><a href=\"#0x78bfe20adf76f201_step6\">6</a>, <a href=\"#0x78bfe20adf76f201_step7\">7</a>, <a href=\"#0x78bfe20adf76f201_step8\">8</a></td><td><span style=\"font-size:20px;\"><a class=\"ProveItLink\" href=\"../__pv_it/9b87ccb714498a4757fe876e634f85d68f22ec8b0/expr.ipynb\"><img src=\"data:image/png;base64,iVBORw0KGgoAAAANSUhEUgAAAHUAAAAVCAMAAABPLlHUAAAAOVBMVEX///8kJCQNDQ0oKCiIiIi6\n",
       "urrc3NxERETMzMwQEBCqqqpUVFQiIiJ2dnYyMjLu7u5mZmaYmJgAAACs2H6dAAAAAXRSTlMAQObY\n",
       "ZgAAAUtJREFUSMe9Vtl2hSAMTFt2EEL+/2N7XbBe2VtPeVAcjgwzIQGAtUWM8B9NIQupH/zy5NRL\n",
       "aAxyrY5epPYC/RQuMliZywem4cU1WT1N4ZbfEcOuTrgh1ugpTOBCwgOswSCJCdyqJ1gjMOLjeEHq\n",
       "L1h5AENxHJeqx6qTKb7u70uOItbHF7+1r8/1iQ3WlDAmpRC6s6UEXj0UhLnUCl6S+s4K25qUdPmm\n",
       "EPbINIuIlrJY1XHosoJ17K1cZKz7dtG+JLWES9Fn9cfcVlZYj5ri9H2aHN/i+qH36NqBuBb28M4q\n",
       "TLkI1XDwRamVPVzInNVzkWC5lYNAh6E3/OI7wgBrM1+DJPJryTOvjlvncy4U8R+pWYXcs0Lr7WVn\n",
       "6vBlzaE9jEPnoLtb3fuhPezDFGvnfD09Z22pY1eD83yFsbtEfEIq1/wSkr/fm/jEvekbQkUQnR8t\n",
       "4y8AAAAASUVORK5CYII=\n",
       "\" style=\"display:inline;vertical-align:middle;\" /></a> <a class=\"ProveItLink\" href=\"../__pv_it/04f38a597eb870de9e046ee54ce13bbf733d02170/proof.ipynb\" style=\"text-decoration: none\">&#x22A2;&nbsp;</a><a class=\"ProveItLink\" href=\"../__pv_it/83a1ddf0f64531c80e7f41ea6b904214668818b30/expr.ipynb\"><img src=\"data:image/png;base64,iVBORw0KGgoAAAANSUhEUgAAAA4AAAAOBAMAAADtZjDiAAAAG1BMVEX///9UVFQQEBAiIiJmZmaI\n",
       "iIiqqqrMzMwAAADC2JlRAAAAAXRSTlMAQObYZgAAABlJREFUCNdjYGBgKGOAgFRa0s7GxkrGxoYA\n",
       "QSUGlQeagkgAAAAASUVORK5CYII=\n",
       "\" style=\"display:inline;vertical-align:middle;\" /></a></span></td></tr>\n",
       "<tr><td>&nbsp;</td><td colspan=4 style=\"text-align:left\"><span style=\"font-size:20px;\"><a class=\"ProveItLink\" href=\"../../../__pv_it/72df168d2bfb4e0140af90912ebf83b13772060b0/expr.ipynb\"><img src=\"data:image/png;base64,iVBORw0KGgoAAAANSUhEUgAAAAsAAAAJBAMAAAAWSsseAAAALVBMVEX///9mZmaqqqrMzMxEREQy\n",
       "MjIiIiKYmJh2dna6urrc3NxUVFSIiIju7u4AAACJHQtQAAAAAXRSTlMAQObYZgAAAEJJREFUCNdj\n",
       "YLhzeuWJAwy8Dew5bAEMHBc43nIuYOBlYHFgAAG+A2DKzgBIMF04x8BzgWGegh/DcgaG22fuiBcw\n",
       "AAATyhBrnyPYZQAAAABJRU5ErkJggg==\n",
       "\" style=\"display:inline;vertical-align:middle;\" /></a> : <a class=\"ProveItLink\" href=\"../../../__pv_it/d3792d0d8642fdf1cd2a3a9b32c673ee13653de00/expr.ipynb\"><img src=\"data:image/png;base64,iVBORw0KGgoAAAANSUhEUgAAAA8AAAAOBAMAAAACpFvcAAAALVBMVEX///8iIiIQEBBERERUVFS6\n",
       "urqIiIjc3NxmZmaqqqru7u6YmJgyMjLMzMwAAACK9jtgAAAAAXRSTlMAQObYZgAAAFtJREFUCNdj\n",
       "YACBOwxQcA5Kc59bAGGs7CuAMDbkBYBp1gXzNoAZSxnuJYAZAQx1DSCa16PDzwCshIGB6QCIMYGB\n",
       "gVEBSLMDGTwPgIxCIGZ+zsCw+N0pBk67hw0AfpEVEQi8t+wAAAAASUVORK5CYII=\n",
       "\" style=\"display:inline;vertical-align:middle;\" /></a>, <a class=\"ProveItLink\" href=\"../../../__pv_it/c6e291955561f22a0e6708fd793ea93f1c7dbb5d0/expr.ipynb\"><img src=\"data:image/png;base64,iVBORw0KGgoAAAANSUhEUgAAAAsAAAANBAMAAACN24kIAAAAMFBMVEX///8iIiKYmJhUVFTMzMxE\n",
       "REQyMjKqqqq6urp2dnYQEBDc3NxmZmaIiIju7u4AAACH5sGpAAAAAXRSTlMAQObYZgAAAFlJREFU\n",
       "CNdj4LtzgWHXAwZOjgUM9xkYtvMkMIQyMDzgusDwl4GBof8ByxcgdYyBdwGQCmZgNQBShxn6FYDU\n",
       "47vnNzAwgGUZGJgT+H4AKUYF1gtAiuPuESAJAJGkFvXVdzA+AAAAAElFTkSuQmCC\n",
       "\" style=\"display:inline;vertical-align:middle;\" /></a> : <a class=\"ProveItLink\" href=\"../__pv_it/83a1ddf0f64531c80e7f41ea6b904214668818b30/expr.ipynb\"><img src=\"data:image/png;base64,iVBORw0KGgoAAAANSUhEUgAAAA4AAAAOBAMAAADtZjDiAAAAG1BMVEX///9UVFQQEBAiIiJmZmaI\n",
       "iIiqqqrMzMwAAADC2JlRAAAAAXRSTlMAQObYZgAAABlJREFUCNdjYGBgKGOAgFRa0s7GxkrGxoYA\n",
       "QSUGlQeagkgAAAAASUVORK5CYII=\n",
       "\" style=\"display:inline;vertical-align:middle;\" /></a></span></td></tr><tr><td><a name=\"0x78bfe20adf76f201_step6\">6</a></td><td>theorem</td><td></td><td><span style=\"font-size:20px;\"> <a class=\"ProveItLink\" href=\"../../equality/_proofs_/notEqualsContradiction.ipynb\" style=\"text-decoration: none\">&#x22A2;&nbsp;</a><a class=\"ProveItLink\" href=\"../../equality/__pv_it/eca196bb926c80714b00c5a0f0732e147e929edf0/expr.ipynb\"><img src=\"data:image/png;base64,iVBORw0KGgoAAAANSUhEUgAAAJAAAAAWCAMAAAAYceVPAAAAOVBMVEX///8oKCgUFBQNDQ0QEBCI\n",
       "iIhmZma6urrMzMxUVFQiIiJERETc3Nzu7u6qqqp2dnaYmJgyMjIAAAArQGDrAAAAAXRSTlMAQObY\n",
       "ZgAAAX5JREFUSMfNltlywyAMRdXWbGYR8P8fW5QQbDCkeDKpo4eE8dyLD0jCAHxahDLy/koO6fIA\n",
       "XUGzVwI5lgdGt4OLgcrGbFt1MZBHS2FW+BAgiJpixY8BUpJ+tfnbJF59q50CEpykYWK+V8ueyykg\n",
       "oOph/v1ARs2lDNDfod4NpO0kkAkgMzwyLpnKOysYPV1tF6hSluzXjlojsD/rESgVtLrXK7OgAqy5\n",
       "eBGiBbl0d6golX6Ebx2N5qen6QM5njOWFhNKMRkr0mOmu0CVcuCoNcwNZu0AQdydSrv252mTFRvV\n",
       "UOwcFK1j01g90vCVYlluf7l0fMmojLeV5fZLuVvkACgrVXiEPzp2mu+vgeZpX0bAQFlOX1pCXCWI\n",
       "2O2yTVnHw0H+SrNr+XbWZwep8gIZJha5UMaFYjp0gTZl02bZQf5Ks2v5dtbZb0t6ayoA7c+cQztH\n",
       "fXdw2NOc4kk2hSDCqYNxczgzuJceZ50LWoLwiOdO6s1Rb4F3Pc3rwf/hGvILp1gTOyLpDm4AAAAA\n",
       "SUVORK5CYII=\n",
       "\" style=\"display:inline;vertical-align:middle;\" /></a></span></td></tr>\n",
       "<tr><td>&nbsp;</td><td colspan=4 style-\"text-align:left\"><a class=\"ProveItLink\" href=\"../../equality/_proofs_/notEqualsContradiction.ipynb\">proveit.logic.equality.notEqualsContradiction</a></td></tr><tr><td><a name=\"0x78bfe20adf76f201_step7\">7</a></td><td>instantiation</td><td><a href=\"#0x78bfe20adf76f201_step9\">9</a>, <a href=\"#0x78bfe20adf76f201_step10\">10</a></td><td><span style=\"font-size:20px;\"><a class=\"ProveItLink\" href=\"../__pv_it/7a96ead17e54cde96c2fd834dc5be256e7999db50/expr.ipynb\"><img src=\"data:image/png;base64,iVBORw0KGgoAAAANSUhEUgAAADAAAAAVBAMAAADyTXAxAAAAMFBMVEX///+IiIi6urrc3NxERETM\n",
       "zMwQEBCqqqpUVFQiIiJ2dnYyMjLu7u5mZmaYmJgAAABN0h6tAAAAAXRSTlMAQObYZgAAAL9JREFU\n",
       "KM9jYGDgu8eABmJlQCTPLgYMoBYAJPg+oIixbgASvCCCawKKBPcHmBiaxOs/2CV4aj9jl+Bj/IRd\n",
       "Qof9H0gsAUhwbEA2SYH1I8ylZUA335wJBLOAHCYG5r8gBXsZGEImw1RbAHHE3RtfQGyOiVBfwiQU\n",
       "GBiyQewdIEkHhAQ7kJoGswPuKqCEOZDaD3MVXIKVgRnE9DfA8AeP/+8DDCX/52IPKzCASCTgkECL\n",
       "DzAAxwcDthhUAJHsWOMcAJVwM5dvBRS7AAAAAElFTkSuQmCC\n",
       "\" style=\"display:inline;vertical-align:middle;\" /></a> <a class=\"ProveItLink\" href=\"../__pv_it/9a4b893eb057f7aaa4c1c1b0cbb282af56ec779f0/proof.ipynb\" style=\"text-decoration: none\">&#x22A2;&nbsp;</a><a class=\"ProveItLink\" href=\"../__pv_it/065555d961250d893f246d8a3f1f824c13db078e0/expr.ipynb\"><img src=\"data:image/png;base64,iVBORw0KGgoAAAANSUhEUgAAADoAAAAOBAMAAACMfhKgAAAAMFBMVEX///92dnYiIiIQEBBERERU\n",
       "VFS6urqIiIjc3NxmZmaqqqru7u6YmJgyMjLMzMwAAADiRdoGAAAAAXRSTlMAQObYZgAAAHlJREFU\n",
       "GNNjYACBtwyY4BWcdR+L7HIYg+f+Bjyyu+Y34JE9UJ+AW5Ztw/oDuGW3MbwvANGyd0HgJppsAkP/\n",
       "BJx6+SJnxjvglGVjYGC+gFN2AQMDkwHC3qsoshxAWd4PuPQ2ATHLDxyyW/7fZuDy/4Tm6ElKSsZK\n",
       "SqoAG5UsKS5uX3IAAAAASUVORK5CYII=\n",
       "\" style=\"display:inline;vertical-align:middle;\" /></a></span></td></tr>\n",
       "<tr><td>&nbsp;</td><td colspan=4 style=\"text-align:left\"><span style=\"font-size:20px;\"><a class=\"ProveItLink\" href=\"../../../__pv_it/d3792d0d8642fdf1cd2a3a9b32c673ee13653de00/expr.ipynb\"><img src=\"data:image/png;base64,iVBORw0KGgoAAAANSUhEUgAAAA8AAAAOBAMAAAACpFvcAAAALVBMVEX///8iIiIQEBBERERUVFS6\n",
       "urqIiIjc3NxmZmaqqqru7u6YmJgyMjLMzMwAAACK9jtgAAAAAXRSTlMAQObYZgAAAFtJREFUCNdj\n",
       "YACBOwxQcA5Kc59bAGGs7CuAMDbkBYBp1gXzNoAZSxnuJYAZAQx1DSCa16PDzwCshIGB6QCIMYGB\n",
       "gVEBSLMDGTwPgIxCIGZ+zsCw+N0pBk67hw0AfpEVEQi8t+wAAAAASUVORK5CYII=\n",
       "\" style=\"display:inline;vertical-align:middle;\" /></a> : <a class=\"ProveItLink\" href=\"../../../__pv_it/d3792d0d8642fdf1cd2a3a9b32c673ee13653de00/expr.ipynb\"><img src=\"data:image/png;base64,iVBORw0KGgoAAAANSUhEUgAAAA8AAAAOBAMAAAACpFvcAAAALVBMVEX///8iIiIQEBBERERUVFS6\n",
       "urqIiIjc3NxmZmaqqqru7u6YmJgyMjLMzMwAAACK9jtgAAAAAXRSTlMAQObYZgAAAFtJREFUCNdj\n",
       "YACBOwxQcA5Kc59bAGGs7CuAMDbkBYBp1gXzNoAZSxnuJYAZAQx1DSCa16PDzwCshIGB6QCIMYGB\n",
       "gVEBSLMDGTwPgIxCIGZ+zsCw+N0pBk67hw0AfpEVEQi8t+wAAAAASUVORK5CYII=\n",
       "\" style=\"display:inline;vertical-align:middle;\" /></a></span></td></tr><tr><td><a name=\"0x78bfe20adf76f201_step8\">8</a></td><td>assumption</td><td></td><td><span style=\"font-size:20px;\"><a class=\"ProveItLink\" href=\"../__pv_it/1cfbab2de0771ea0c52b968868e0294ff54d501c0/expr.ipynb\"><img src=\"data:image/png;base64,iVBORw0KGgoAAAANSUhEUgAAAE0AAAAVCAMAAAA0CpMYAAAAOVBMVEX///8kJCQNDQ0oKCiIiIi6\n",
       "urrc3NxERETMzMwQEBCqqqpUVFQiIiJ2dnYyMjLu7u5mZmaYmJgAAACs2H6dAAAAAXRSTlMAQObY\n",
       "ZgAAARNJREFUOMulVVuCgyAMzG7ljSHk/ofdYmUFRKRtPhQBJ5MwCQDJIkX4xjQtIY8DrjO/rGGw\n",
       "KIzeR5EbT9jbL0+z2hYflJdXX+9C7qE50c7YpWTu+2gRuROTVPAJWrDEskNNf4QWYWExQ20GTQSw\n",
       "fNaL0ndoJgdRnFZ40tJ8bFtxs8dvetIALQvDmsJvilEyzVCr0WDzpZUvcq4dETluk6Qd3KKB80sl\n",
       "4xc1ANMKVcl7NNw9un8qu7i9qfP2Y17ZcxN5O85U2n4xYJfaxZlmNJlRVS1fQTCBVustKGZMJWWf\n",
       "A18C4KnQyCczZnu5YZ2eKNBUv/JtyH3D8BZa5CG1qVZ69DcY9t45asKIIjXX94J44174AyoLC+5V\n",
       "lpF4AAAAAElFTkSuQmCC\n",
       "\" style=\"display:inline;vertical-align:middle;\" /></a> <a class=\"ProveItLink\" href=\"../__pv_it/568eb827fbdb8a4bc2a2a8164ed0e1ebfd3f668a0/proof.ipynb\" style=\"text-decoration: none\">&#x22A2;&nbsp;</a><a class=\"ProveItLink\" href=\"../__pv_it/6a424a47288c0ee88c93b5aebab7f3f614e56af50/expr.ipynb\"><img src=\"data:image/png;base64,iVBORw0KGgoAAAANSUhEUgAAADoAAAAUCAMAAADrw95cAAAAOVBMVEX///8kJCQNDQ0oKCh2dnYi\n",
       "IiIQEBBERERUVFS6urqIiIjc3NxmZmaqqqru7u6YmJgyMjLMzMwAAAADT7o2AAAAAXRSTlMAQObY\n",
       "ZgAAALxJREFUOMvFk9sSgzAIRGlrbgYi4f8/tkbbqSZRHF/KQ3SYPbNgVgCthqRKIHOvG5tupkbE\n",
       "0kN9qDs01p2JpTNadKCiiVBixzTr6ASjhCumDRoSkEyNzGUVTbNhll9v4KVez3LiKVpGjYJXTCs0\n",
       "e0T0Ui+WPajo+n1sffsuqugnHsbud33YdWN/jEbqx4m7pls0mu98+0wEhHM0OREuCaT5xWzV3OQS\n",
       "TSlrl4c//pEI4W5xukvS8AdTCKriDZWPB9iAwR56AAAAAElFTkSuQmCC\n",
       "\" style=\"display:inline;vertical-align:middle;\" /></a></span></td></tr>\n",
       "<tr><td><a name=\"0x78bfe20adf76f201_step9\">9</a></td><td>axiom</td><td></td><td><span style=\"font-size:20px;\"> <a class=\"ProveItLink\" href=\"../negation/_axioms_.ipynb#negationElim\" style=\"text-decoration: none\">&#x22A2;&nbsp;</a><a class=\"ProveItLink\" href=\"../negation/__pv_it/22bd342d68dbc19f9504d702df4ef3f4fe1381ad0/expr.ipynb\"><img src=\"data:image/png;base64,iVBORw0KGgoAAAANSUhEUgAAAJcAAAAWBAMAAAA/XRM3AAAAMFBMVEX///8QEBCIiIhmZma6urrM\n",
       "zMxUVFQiIiJERETc3Nzu7u6qqqp2dnaYmJgyMjIAAAAcRTyBAAAAAXRSTlMAQObYZgAAAbRJREFU\n",
       "OMtjYCAWcF7AL78TiB+AGHeJMGwFhIrDIhUNItgmMDCcBjFeEWHYSwj1HovUJhDBBXTWDJAPGgib\n",
       "xWsAod4vwGEYwyEGBj6gJM8GwoaxTwBTq+0n4DJsIdCqU6tWTSfCl1A1F/QdcBnGB5T50dFRQ4Rh\n",
       "ymCSZcH+C7gM4wEGRCoDQyeYAyFZUNV1whi9YHIJQ7wCiD73DgQeoxjGC4wBZ3A8ANlfwEIcqMH+\n",
       "BcaqBpMODPMNcLmMuwAYsgxMYJcv/ovFMKggEIiACNZk4/wGXIaxfgB69QI7mH2qGIthUEGYYcAw\n",
       "YHyAzzDOB2FgpkIHpmEwQZg3gUmIXQARZs9QDGMpAIVxCjg3MJhjGgYThEYAJ9Awvg+4XAaKAIbN\n",
       "IBMZbjPoIxl2oqOj4wFCEAgOQ9Max09chjEfABL8oMjmenymfwGqyxIQgkDgDszq/18xcPd/R4tO\n",
       "8/JywfLyMqCbA0DOA6lnXsAwPwDdMLggIjvhAcvhLF+gCy+gGwYXRGR0POAQjMHxg4GzvxbVsAkI\n",
       "QZS8gANwYUkzHAQKR5yAYwIJhhEqtm8ykGAYOYCZAr0AOed5gytoZ+0AAAAASUVORK5CYII=\n",
       "\" style=\"display:inline;vertical-align:middle;\" /></a></span></td></tr>\n",
       "<tr><td>&nbsp;</td><td colspan=4 style-\"text-align:left\"><a class=\"ProveItLink\" href=\"../negation/_axioms_.ipynb#negationElim\">proveit.logic.boolean.negation.negationElim</a></td></tr><tr><td><a name=\"0x78bfe20adf76f201_step10\">10</a></td><td>assumption</td><td></td><td><span style=\"font-size:20px;\"><a class=\"ProveItLink\" href=\"../__pv_it/7a96ead17e54cde96c2fd834dc5be256e7999db50/expr.ipynb\"><img src=\"data:image/png;base64,iVBORw0KGgoAAAANSUhEUgAAADAAAAAVBAMAAADyTXAxAAAAMFBMVEX///+IiIi6urrc3NxERETM\n",
       "zMwQEBCqqqpUVFQiIiJ2dnYyMjLu7u5mZmaYmJgAAABN0h6tAAAAAXRSTlMAQObYZgAAAL9JREFU\n",
       "KM9jYGDgu8eABmJlQCTPLgYMoBYAJPg+oIixbgASvCCCawKKBPcHmBiaxOs/2CV4aj9jl+Bj/IRd\n",
       "Qof9H0gsAUhwbEA2SYH1I8ylZUA335wJBLOAHCYG5r8gBXsZGEImw1RbAHHE3RtfQGyOiVBfwiQU\n",
       "GBiyQewdIEkHhAQ7kJoGswPuKqCEOZDaD3MVXIKVgRnE9DfA8AeP/+8DDCX/52IPKzCASCTgkECL\n",
       "DzAAxwcDthhUAJHsWOMcAJVwM5dvBRS7AAAAAElFTkSuQmCC\n",
       "\" style=\"display:inline;vertical-align:middle;\" /></a> <a class=\"ProveItLink\" href=\"../__pv_it/21c0abe84b58cafe3e37aff9ff0267970c1634470/proof.ipynb\" style=\"text-decoration: none\">&#x22A2;&nbsp;</a><a class=\"ProveItLink\" href=\"../__pv_it/98d4bc94e268eb5bd1dd8957b0f9355a80140e9b0/expr.ipynb\"><img src=\"data:image/png;base64,iVBORw0KGgoAAAANSUhEUgAAABwAAAAOBAMAAADOPWE3AAAAMFBMVEX///8QEBBERES6urqIiIiq\n",
       "qqru7u6YmJgyMjLMzMxUVFTc3Nx2dnYiIiJmZmYAAAAfdW6kAAAAAXRSTlMAQObYZgAAAGNJREFU\n",
       "CNdjYEAAzgYGZMDxAYVb8Q2Zxxb3G5nLzvIZmWvG+h1ZrQHnFwaGt3eB4A6Qy8zA/Q8qswuIZ717\n",
       "9QmJa8DAIIHgsgKpiwjuViDVD3MtA/cFIKW/AWaL/o8EhqD/9wA5jBwoctwhSQAAAABJRU5ErkJg\n",
       "gg==\n",
       "\" style=\"display:inline;vertical-align:middle;\" /></a></span></td></tr>\n",
       "</table>"
      ],
      "text/plain": [
       "\tstep type\trequirements\tstatement\n",
       "0\tgeneralizaton\t1\t|- forall_{A in BOOLEANS | A != FALSE} A\n",
       "1\tinstantiation\t2, 3, 4\t{A in BOOLEANS, A != FALSE} |- A\n",
       "\tA : A\n",
       "2\ttheorem\t\t|- forall_{A in BOOLEANS | [not](A) => FALSE} A\n",
       "\tproveit.logic.boolean.implication.affirmViaContradiction\n",
       "3\tassumption\t\t{A in BOOLEANS} |- A in BOOLEANS\n",
       "4\thypothetical reasoning\t5\t{A != FALSE} |- [not](A) => FALSE\n",
       "5\tinstantiation\t6, 7, 8\t{[not](A), A != FALSE} |- FALSE\n",
       "\tx : A, y : FALSE\n",
       "6\ttheorem\t\t|- forall_{x, y | x = y, x != y} FALSE\n",
       "\tproveit.logic.equality.notEqualsContradiction\n",
       "7\tinstantiation\t9, 10\t{[not](A)} |- A = FALSE\n",
       "\tA : A\n",
       "8\tassumption\t\t{A != FALSE} |- A != FALSE\n",
       "9\taxiom\t\t|- forall_{A | [not](A)} (A = FALSE)\n",
       "\tproveit.logic.boolean.negation.negationElim\n",
       "10\tassumption\t\t{[not](A)} |- [not](A)"
      ]
     },
     "execution_count": 6,
     "metadata": {},
     "output_type": "execute_result"
    }
   ],
   "source": [
    "%qed"
   ]
  },
  {
   "cell_type": "code",
   "execution_count": null,
   "metadata": {},
   "outputs": [],
   "source": []
  }
 ],
 "metadata": {
  "kernelspec": {
   "display_name": "Python 3",
   "language": "python",
   "name": "python3"
  }
 },
 "nbformat": 4,
 "nbformat_minor": 0
}
