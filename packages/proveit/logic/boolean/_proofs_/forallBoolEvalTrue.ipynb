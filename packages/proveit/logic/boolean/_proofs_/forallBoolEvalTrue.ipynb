{
 "cells": [
  {
   "cell_type": "markdown",
   "metadata": {},
   "source": [
    "Proof of <a class=\"ProveItLink\" href=\"../../../_context_.ipynb\">proveit</a>.<a class=\"ProveItLink\" href=\"../../_context_.ipynb\">logic</a>.<a class=\"ProveItLink\" href=\"../_context_.ipynb\">boolean</a>.<a class=\"ProveItLink\" href=\"../_theorems_.ipynb#forallBoolEvalTrue\">forallBoolEvalTrue</a> theorem\n",
    "========"
   ]
  },
  {
   "cell_type": "code",
   "execution_count": 1,
   "metadata": {},
   "outputs": [],
   "source": [
    "import proveit\n",
    "context = proveit.Context('..') # the theorem's context is in the parent directory"
   ]
  },
  {
   "cell_type": "code",
   "execution_count": 2,
   "metadata": {},
   "outputs": [
    {
     "name": "stdout",
     "output_type": "stream",
     "text": [
      "Beginning proof of forallBoolEvalTrue\n",
      "Recorded 'presuming' information\n"
     ]
    },
    {
     "name": "stdout",
     "output_type": "stream",
     "text": [
      "Presuming previous theorems (applied transitively).\n"
     ]
    },
    {
     "data": {
      "text/html": [
       "<strong id=\"forallBoolEvalTrue\">forallBoolEvalTrue:</strong> <a class=\"ProveItLink\" href=\"../__pv_it/90ddacbcd11e8a25f5f934a9c663f8b508d870850/expr.ipynb\"><img src=\"data:image/png;base64,iVBORw0KGgoAAAANSUhEUgAAAWcAAAAWBAMAAADun0BuAAAAMFBMVEX///8QEBCIiIhmZma6urrM\n",
       "zMxUVFQiIiJERETc3Nzu7u6qqqp2dnaYmJgyMjIAAAAcRTyBAAAAAXRSTlMAQObYZgAABAtJREFU\n",
       "SMe9V0loVEEQff5MMtufjAcPHgPeXEcU4oYOCOpFUA96ERPcUBEzB1FcGU/+oJI5aS5qRME4ggwq\n",
       "iiA4qKAYlREPbjEGXMCAJiiuuFVV/z9/mfk/ERwLOtPVedX1urq6fjdQazkK7f2SkQCjJasXzwF9\n",
       "W31gV6j1c+d57TjHstDTjdxLlKoCEm1f12+ZRZ1upa+itpHaTQ+ueTvLNjTQinp4YKB2pBtzRFov\n",
       "cK+rOiJJcdtH/3ur1EFq56qQJjkvUSB4J29MtnakH4JIi4NOH0RLEbjWhERKBX6Q+OtN/qRxXa1f\n",
       "AlEj2cGkZSt7fBBT0tSKCOdEOzuPfmOjA0ifoJXdyeeP1I5zNCOke/P5MxkfSAe1tjRMEiVeA14F\n",
       "kG4kwFfD2O3v0/wNOP7BEC0lpJOGsb/oM8EvmuMjME6UUNc1Pq83AkjrNOU6oJ3AHZtnbJKxtDJW\n",
       "uuXoYuUMlkUAhCRSEtINSxCR7Vd/nVL/A7hMkxwS7RRaKJ/RZ5K+/57lpYt0gk7ifDmPeADckjHz\n",
       "UIrekNMNY6xxEHWWL1MvI6QCoZVaNQgQLgjpUEoqAvBCxQR9k5tnm3vx+e6N8fS7ywzZcT6QlwMi\n",
       "Hac8C0PjDVlPp8FJWvSV1kCs1Ta1So2yCIQAo9JCGhlMkno1j3zFrk4raXr0mUqoyHeFHCNhXzOt\n",
       "jY1bAkjXD9GUpTB39wCG06Ho68oDbysZKYtAiE36HuQc6qcpjo+v5KFpuKM+NsmMg3SILPpHQDra\n",
       "v5xD8A3aTodDpWfKA5MqGJkWQRA7PXCsXjZiWSTLqUJJoYV6VT61qPqs0oPQYSp3WOjK6Tcu0iF2\n",
       "2b6Wez8m9jgdih61GV3CBoOkZDNSFoEQ+yAicliSubUuA/mma3VTX9tlmoUPYpRINw45DmK1SPNB\n",
       "xAX2q/e7oyR6KFseWFQRRmURCDHrE5OON4u/gjaEk0Jaw0yV04Pm152qnNTqyDf6MyeAdB3XqyTX\n",
       "mEjK7VD0UGt5YFUFI2URCDH3kknjA2vn5tz+jhW0HU1Eush+Mff3aoWkjOj+PYB4xxea+HVV0ovV\n",
       "x4UXm+ClJgtuh6LX22FcgC2cXY69VxaBEPszDjxlZRain9BgRrqYcjEKOyp4LFOVtJLT9q0l5yYt\n",
       "esxO2F53GDu7TAt/iPPCZIWdFvQTOkdK03HX/YlMONbgc2GCdWEyK/zgTJdDU5d6Igkw3TZifWnB\n",
       "sthZ/ph4INZJzNmkO7Lo/FLCAeo+uj/jnYdMu931uZrCuppWiPOaOqHc8yILw0McjwDPfYRyugqy\n",
       "283fj3TlRcBDOlJ+AHleHfHcsBDHc2vvXz63EjT7ZL/n1hMMQzpkzXPS+0YaHvJfJeV9RbKM98eP\n",
       "APKv5Q8f+E48VJuVXAAAAABJRU5ErkJggg==\n",
       "\" style=\"display:inline;vertical-align:middle;\" /></a><br>(see <a class=\"ProveItLink\" href=\"../__pv_it/90ddacbcd11e8a25f5f934a9c663f8b508d870850/dependencies.ipynb\">dependencies</a>)<br>"
      ],
      "text/plain": [
       "forallBoolEvalTrue: forall_{P | P(TRUE) = TRUE, P(FALSE) = TRUE} ([forall_{A in BOOLEANS} P(A)] = TRUE)"
      ]
     },
     "execution_count": 2,
     "metadata": {},
     "output_type": "execute_result"
    }
   ],
   "source": [
    "%proving forallBoolEvalTrue presuming []"
   ]
  },
  {
   "cell_type": "code",
   "execution_count": null,
   "metadata": {},
   "outputs": [],
   "source": []
  }
 ],
 "metadata": {
  "kernelspec": {
   "display_name": "Python 3",
   "language": "python",
   "name": "python3"
  }
 },
 "nbformat": 4,
 "nbformat_minor": 0
}
