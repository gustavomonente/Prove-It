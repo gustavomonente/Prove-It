{
 "cells": [
  {
   "cell_type": "markdown",
   "metadata": {},
   "source": [
    "Show the Proof\n",
    "========"
   ]
  },
  {
   "cell_type": "code",
   "execution_count": 1,
   "metadata": {},
   "outputs": [
    {
     "data": {
      "text/html": [
       "<table><tr><th>&nbsp;</th><th>step type</th><th>requirements</th><th>statement</th></tr>\n",
       "<tr><td><a name=\"proveit.logic.boolean.negation.0af8a0eeadb95d248b30fc4f8ce0d05bc74a814c0_step0\">0</a></td><td>instantiation</td><td><a href=\"#proveit.logic.boolean.negation.0af8a0eeadb95d248b30fc4f8ce0d05bc74a814c0_step1\">1</a>, <a href=\"#proveit.logic.boolean.negation.0af8a0eeadb95d248b30fc4f8ce0d05bc74a814c0_step2\">2</a>, <a href=\"#proveit.logic.boolean.negation.0af8a0eeadb95d248b30fc4f8ce0d05bc74a814c0_step3\">3</a></td><td><span style=\"font-size:20px;\"> <a class=\"ProveItLink\" href=\"proof.ipynb\" style=\"text-decoration: none\">&#x22A2;&nbsp;</a><a class=\"ProveItLink\" href=\"../2771f385c3c2e78668793136b6c488aeff13b2390/expr.ipynb\"><img src=\"../2771f385c3c2e78668793136b6c488aeff13b2390/expr.png\" style=\"display:inline;vertical-align:middle;\" /></a></span></td></tr>\n",
       "<tr><td>&nbsp;</td><td colspan=4 style=\"text-align:left\"><span style=\"font-size:20px;\"><a class=\"ProveItLink\" href=\"../../../../../__pv_it/95ad89d6afd0f8299cfb9c71df4233504059396c0/expr.ipynb\"><img src=\"../../../../../__pv_it/95ad89d6afd0f8299cfb9c71df4233504059396c0/expr.png\" style=\"display:inline;vertical-align:middle;\" /></a> : <a class=\"ProveItLink\" href=\"../d57ed627b1b36cce922312c83e58ed93faf289fe0/expr.ipynb\"><img src=\"../d57ed627b1b36cce922312c83e58ed93faf289fe0/expr.png\" style=\"display:inline;vertical-align:middle;\" /></a>, <a class=\"ProveItLink\" href=\"../../../../../__pv_it/d3792d0d8642fdf1cd2a3a9b32c673ee13653de00/expr.ipynb\"><img src=\"../../../../../__pv_it/d3792d0d8642fdf1cd2a3a9b32c673ee13653de00/expr.png\" style=\"display:inline;vertical-align:middle;\" /></a> : <a class=\"ProveItLink\" href=\"../../../../../__pv_it/d3792d0d8642fdf1cd2a3a9b32c673ee13653de00/expr.ipynb\"><img src=\"../../../../../__pv_it/d3792d0d8642fdf1cd2a3a9b32c673ee13653de00/expr.png\" style=\"display:inline;vertical-align:middle;\" /></a></span></td></tr><tr><td><a name=\"proveit.logic.boolean.negation.0af8a0eeadb95d248b30fc4f8ce0d05bc74a814c0_step1\">1</a></td><td>theorem</td><td></td><td><span style=\"font-size:20px;\"> <a class=\"ProveItLink\" href=\"../../../_proofs_/foldForallOverBool.ipynb\" style=\"text-decoration: none\">&#x22A2;&nbsp;</a><a class=\"ProveItLink\" href=\"../2dba78af126794366feede823fb2be77a2a4d8d60/expr.ipynb\"><img src=\"../2dba78af126794366feede823fb2be77a2a4d8d60/expr.png\" style=\"display:inline;vertical-align:middle;\" /></a></span></td></tr>\n",
       "<tr><td>&nbsp;</td><td colspan=4 style-\"text-align:left\"><a class=\"ProveItLink\" href=\"../../../_proofs_/foldForallOverBool.ipynb\">proveit.logic.boolean.foldForallOverBool</a></td></tr><tr><td><a name=\"proveit.logic.boolean.negation.0af8a0eeadb95d248b30fc4f8ce0d05bc74a814c0_step2\">2</a></td><td>instantiation</td><td><a href=\"#proveit.logic.boolean.negation.0af8a0eeadb95d248b30fc4f8ce0d05bc74a814c0_step6\">6</a>, <a href=\"#proveit.logic.boolean.negation.0af8a0eeadb95d248b30fc4f8ce0d05bc74a814c0_step4\">4</a>, <a href=\"#proveit.logic.boolean.negation.0af8a0eeadb95d248b30fc4f8ce0d05bc74a814c0_step5\">5</a></td><td><span style=\"font-size:20px;\"> <a class=\"ProveItLink\" href=\"../752bbda3ff03ed232ca9be8e6615f5fca2086d280/proof.ipynb\" style=\"text-decoration: none\">&#x22A2;&nbsp;</a><a class=\"ProveItLink\" href=\"../2400a0a69658c506c02c9dd2c275a20b1bf220050/expr.ipynb\"><img src=\"../2400a0a69658c506c02c9dd2c275a20b1bf220050/expr.png\" style=\"display:inline;vertical-align:middle;\" /></a></span></td></tr>\n",
       "<tr><td>&nbsp;</td><td colspan=4 style=\"text-align:left\"><span style=\"font-size:20px;\"><a class=\"ProveItLink\" href=\"../0b28339a9470b3064675e3d630fe626bc057a2440/expr.ipynb\"><img src=\"../0b28339a9470b3064675e3d630fe626bc057a2440/expr.png\" style=\"display:inline;vertical-align:middle;\" /></a> : <a class=\"ProveItLink\" href=\"../00cb836c20213ba24cb17cfe8c8e51fdb52a4c3c0/expr.ipynb\"><img src=\"../00cb836c20213ba24cb17cfe8c8e51fdb52a4c3c0/expr.png\" style=\"display:inline;vertical-align:middle;\" /></a>, <a class=\"ProveItLink\" href=\"../../../../../__pv_it/72df168d2bfb4e0140af90912ebf83b13772060b0/expr.ipynb\"><img src=\"../../../../../__pv_it/72df168d2bfb4e0140af90912ebf83b13772060b0/expr.png\" style=\"display:inline;vertical-align:middle;\" /></a> : <a class=\"ProveItLink\" href=\"../2bde9fae4ffa920ed1c9dc690ea7a1aa9d41ac6b0/expr.ipynb\"><img src=\"../2bde9fae4ffa920ed1c9dc690ea7a1aa9d41ac6b0/expr.png\" style=\"display:inline;vertical-align:middle;\" /></a>, <a class=\"ProveItLink\" href=\"../../../../../__pv_it/c6e291955561f22a0e6708fd793ea93f1c7dbb5d0/expr.ipynb\"><img src=\"../../../../../__pv_it/c6e291955561f22a0e6708fd793ea93f1c7dbb5d0/expr.png\" style=\"display:inline;vertical-align:middle;\" /></a> : <a class=\"ProveItLink\" href=\"../../../__pv_it/83a1ddf0f64531c80e7f41ea6b904214668818b30/expr.ipynb\"><img src=\"../../../__pv_it/83a1ddf0f64531c80e7f41ea6b904214668818b30/expr.png\" style=\"display:inline;vertical-align:middle;\" /></a></span></td></tr><tr><td><a name=\"proveit.logic.boolean.negation.0af8a0eeadb95d248b30fc4f8ce0d05bc74a814c0_step3\">3</a></td><td>instantiation</td><td><a href=\"#proveit.logic.boolean.negation.0af8a0eeadb95d248b30fc4f8ce0d05bc74a814c0_step6\">6</a>, <a href=\"#proveit.logic.boolean.negation.0af8a0eeadb95d248b30fc4f8ce0d05bc74a814c0_step7\">7</a>, <a href=\"#proveit.logic.boolean.negation.0af8a0eeadb95d248b30fc4f8ce0d05bc74a814c0_step8\">8</a></td><td><span style=\"font-size:20px;\"> <a class=\"ProveItLink\" href=\"../eb520bc6697400d3f43e6754dbdf3d1d3d9d7b4a0/proof.ipynb\" style=\"text-decoration: none\">&#x22A2;&nbsp;</a><a class=\"ProveItLink\" href=\"../cf96719a4335e61d3502874c2ea5d8e9afd3598f0/expr.ipynb\"><img src=\"../cf96719a4335e61d3502874c2ea5d8e9afd3598f0/expr.png\" style=\"display:inline;vertical-align:middle;\" /></a></span></td></tr>\n",
       "<tr><td>&nbsp;</td><td colspan=4 style=\"text-align:left\"><span style=\"font-size:20px;\"><a class=\"ProveItLink\" href=\"../0b28339a9470b3064675e3d630fe626bc057a2440/expr.ipynb\"><img src=\"../0b28339a9470b3064675e3d630fe626bc057a2440/expr.png\" style=\"display:inline;vertical-align:middle;\" /></a> : <a class=\"ProveItLink\" href=\"../00cb836c20213ba24cb17cfe8c8e51fdb52a4c3c0/expr.ipynb\"><img src=\"../00cb836c20213ba24cb17cfe8c8e51fdb52a4c3c0/expr.png\" style=\"display:inline;vertical-align:middle;\" /></a>, <a class=\"ProveItLink\" href=\"../../../../../__pv_it/72df168d2bfb4e0140af90912ebf83b13772060b0/expr.ipynb\"><img src=\"../../../../../__pv_it/72df168d2bfb4e0140af90912ebf83b13772060b0/expr.png\" style=\"display:inline;vertical-align:middle;\" /></a> : <a class=\"ProveItLink\" href=\"../1fe9807523537bd8965e210ac2f3c711ac9ae0dc0/expr.ipynb\"><img src=\"../1fe9807523537bd8965e210ac2f3c711ac9ae0dc0/expr.png\" style=\"display:inline;vertical-align:middle;\" /></a>, <a class=\"ProveItLink\" href=\"../../../../../__pv_it/c6e291955561f22a0e6708fd793ea93f1c7dbb5d0/expr.ipynb\"><img src=\"../../../../../__pv_it/c6e291955561f22a0e6708fd793ea93f1c7dbb5d0/expr.png\" style=\"display:inline;vertical-align:middle;\" /></a> : <a class=\"ProveItLink\" href=\"../../../__pv_it/b5b8ce0f03ab68a7c7bb937dfeb4112a686e3cbb0/expr.ipynb\"><img src=\"../../../__pv_it/b5b8ce0f03ab68a7c7bb937dfeb4112a686e3cbb0/expr.png\" style=\"display:inline;vertical-align:middle;\" /></a></span></td></tr><tr><td><a name=\"proveit.logic.boolean.negation.0af8a0eeadb95d248b30fc4f8ce0d05bc74a814c0_step4\">4</a></td><td>theorem</td><td></td><td><span style=\"font-size:20px;\"> <a class=\"ProveItLink\" href=\"../../../_proofs_/falseInBool.ipynb\" style=\"text-decoration: none\">&#x22A2;&nbsp;</a><a class=\"ProveItLink\" href=\"../2bb7f56da42f89a87e1f899e78805ed2ca5c4d690/expr.ipynb\"><img src=\"../2bb7f56da42f89a87e1f899e78805ed2ca5c4d690/expr.png\" style=\"display:inline;vertical-align:middle;\" /></a></span></td></tr>\n",
       "<tr><td>&nbsp;</td><td colspan=4 style-\"text-align:left\"><a class=\"ProveItLink\" href=\"../../../_proofs_/falseInBool.ipynb\">proveit.logic.boolean.falseInBool</a></td></tr><tr><td><a name=\"proveit.logic.boolean.negation.0af8a0eeadb95d248b30fc4f8ce0d05bc74a814c0_step5\">5</a></td><td>theorem</td><td></td><td><span style=\"font-size:20px;\"> <a class=\"ProveItLink\" href=\"../../_proofs_/notT.ipynb\" style=\"text-decoration: none\">&#x22A2;&nbsp;</a><a class=\"ProveItLink\" href=\"../1f3907db0dfc11e5c2fe32df32e0d318b7af25b60/expr.ipynb\"><img src=\"../1f3907db0dfc11e5c2fe32df32e0d318b7af25b60/expr.png\" style=\"display:inline;vertical-align:middle;\" /></a></span></td></tr>\n",
       "<tr><td>&nbsp;</td><td colspan=4 style-\"text-align:left\"><a class=\"ProveItLink\" href=\"../../_proofs_/notT.ipynb\">proveit.logic.boolean.negation.notT</a></td></tr><tr><td><a name=\"proveit.logic.boolean.negation.0af8a0eeadb95d248b30fc4f8ce0d05bc74a814c0_step6\">6</a></td><td>theorem</td><td></td><td><span style=\"font-size:20px;\"> <a class=\"ProveItLink\" href=\"../../../../equality/_proofs_/subLeftSideInto.ipynb\" style=\"text-decoration: none\">&#x22A2;&nbsp;</a><a class=\"ProveItLink\" href=\"../5b4d85ee4f1ddf194c06c7ba0ff03c2aad49e1590/expr.ipynb\"><img src=\"../5b4d85ee4f1ddf194c06c7ba0ff03c2aad49e1590/expr.png\" style=\"display:inline;vertical-align:middle;\" /></a></span></td></tr>\n",
       "<tr><td>&nbsp;</td><td colspan=4 style-\"text-align:left\"><a class=\"ProveItLink\" href=\"../../../../equality/_proofs_/subLeftSideInto.ipynb\">proveit.logic.equality.subLeftSideInto</a></td></tr><tr><td><a name=\"proveit.logic.boolean.negation.0af8a0eeadb95d248b30fc4f8ce0d05bc74a814c0_step7\">7</a></td><td>theorem</td><td></td><td><span style=\"font-size:20px;\"> <a class=\"ProveItLink\" href=\"../../../_proofs_/trueInBool.ipynb\" style=\"text-decoration: none\">&#x22A2;&nbsp;</a><a class=\"ProveItLink\" href=\"../2f88e5c6f7ea7ef0da11c50a533a1f221022588f0/expr.ipynb\"><img src=\"../2f88e5c6f7ea7ef0da11c50a533a1f221022588f0/expr.png\" style=\"display:inline;vertical-align:middle;\" /></a></span></td></tr>\n",
       "<tr><td>&nbsp;</td><td colspan=4 style-\"text-align:left\"><a class=\"ProveItLink\" href=\"../../../_proofs_/trueInBool.ipynb\">proveit.logic.boolean.trueInBool</a></td></tr><tr><td><a name=\"proveit.logic.boolean.negation.0af8a0eeadb95d248b30fc4f8ce0d05bc74a814c0_step8\">8</a></td><td>theorem</td><td></td><td><span style=\"font-size:20px;\"> <a class=\"ProveItLink\" href=\"../../_proofs_/notF.ipynb\" style=\"text-decoration: none\">&#x22A2;&nbsp;</a><a class=\"ProveItLink\" href=\"../ebfe22108a293c1c51757f7b61b77da271e434d10/expr.ipynb\"><img src=\"../ebfe22108a293c1c51757f7b61b77da271e434d10/expr.png\" style=\"display:inline;vertical-align:middle;\" /></a></span></td></tr>\n",
       "<tr><td>&nbsp;</td><td colspan=4 style-\"text-align:left\"><a class=\"ProveItLink\" href=\"../../_proofs_/notF.ipynb\">proveit.logic.boolean.negation.notF</a></td></tr></table>"
      ],
      "text/plain": [
       "<proveit._core_.proof._ShowProof at 0x7f5b98286c88>"
      ]
     },
     "execution_count": 1,
     "metadata": {},
     "output_type": "execute_result"
    }
   ],
   "source": [
    "import proveit\n",
    "# Automation is not needed when only showing a stored proof:\n",
    "proveit.defaults.automation = False # This will speed things up.\n",
    "proveit.defaults.inline_pngs = False # Makes files smaller.\n",
    "%show_proof"
   ]
  },
  {
   "cell_type": "code",
   "execution_count": null,
   "metadata": {},
   "outputs": [],
   "source": []
  }
 ],
 "metadata": {
  "kernelspec": {
   "display_name": "Python 3",
   "language": "python",
   "name": "python3"
  },
  "language_info": {
   "codemirror_mode": {
    "name": "ipython",
    "version": 3
   },
   "file_extension": ".py",
   "mimetype": "text/x-python",
   "name": "python",
   "nbconvert_exporter": "python",
   "pygments_lexer": "ipython3",
   "version": "3.7.3"
  }
 },
 "nbformat": 4,
 "nbformat_minor": 1
}
