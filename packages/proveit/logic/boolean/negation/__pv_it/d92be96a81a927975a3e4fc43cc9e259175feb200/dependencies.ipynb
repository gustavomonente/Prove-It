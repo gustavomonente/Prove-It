{
 "cells": [
  {
   "cell_type": "markdown",
   "metadata": {},
   "source": [
    "Axiom Dependencies\n",
    "=======================\n",
    "\n",
    "## <a class=\"ProveItLink\" href=\"../../_context_.ipynb\">proveit.logic.boolean.negation</a>.<a class=\"ProveItLink\" href=\"../../_axioms_.ipynb#negationIntro\">negationIntro</a> \n"
   ]
  },
  {
   "cell_type": "code",
   "execution_count": 1,
   "metadata": {},
   "outputs": [],
   "source": [
    "import proveit\n",
    "# Automation is not needed when querying dependencies:\n",
    "proveit.defaults.automation = False # This will speed things up.\n",
    "proveit.defaults.inline_pngs = False # Makes files smaller.\n",
    "from proveit.logic.boolean.negation._axioms_ import negationIntro"
   ]
  },
  {
   "cell_type": "code",
   "execution_count": 2,
   "metadata": {},
   "outputs": [
    {
     "data": {
      "text/html": [
       "<h3>Theorems that depend directly on negationIntro</h3>"
      ],
      "text/plain": [
       "<IPython.core.display.HTML object>"
      ]
     },
     "metadata": {},
     "output_type": "display_data"
    },
    {
     "data": {
      "text/html": [
       "<dl>"
      ],
      "text/plain": [
       "<IPython.core.display.HTML object>"
      ]
     },
     "metadata": {},
     "output_type": "display_data"
    },
    {
     "data": {
      "text/html": [
       "<dt><a class=\"ProveItLink\" href=\"../../../conjunction/_proofs_/falseAndFalseNegated.ipynb\">proveit.logic.boolean.conjunction.falseAndFalseNegated</a></dt><dd><a class=\"ProveItLink\" href=\"../../../conjunction/__pv_it/198fb19082628ea079557783278dc21d98e172f00/expr.ipynb\"><img src=\"../../../conjunction/__pv_it/198fb19082628ea079557783278dc21d98e172f00/expr.png\" style=\"display:inline;vertical-align:middle;\" /></a></dd>"
      ],
      "text/plain": [
       "<IPython.core.display.HTML object>"
      ]
     },
     "metadata": {},
     "output_type": "display_data"
    },
    {
     "data": {
      "text/html": [
       "<dt><a class=\"ProveItLink\" href=\"../../../conjunction/_proofs_/falseAndTrueNegated.ipynb\">proveit.logic.boolean.conjunction.falseAndTrueNegated</a></dt><dd><a class=\"ProveItLink\" href=\"../../../conjunction/__pv_it/8aeaeb949fc56619903ea92adc2283dab31894a00/expr.ipynb\"><img src=\"../../../conjunction/__pv_it/8aeaeb949fc56619903ea92adc2283dab31894a00/expr.png\" style=\"display:inline;vertical-align:middle;\" /></a></dd>"
      ],
      "text/plain": [
       "<IPython.core.display.HTML object>"
      ]
     },
     "metadata": {},
     "output_type": "display_data"
    },
    {
     "data": {
      "text/html": [
       "<dt><a class=\"ProveItLink\" href=\"../../../conjunction/_proofs_/trueAndFalseNegated.ipynb\">proveit.logic.boolean.conjunction.trueAndFalseNegated</a></dt><dd><a class=\"ProveItLink\" href=\"../../../conjunction/__pv_it/2c0133563043d3ed120a21814f641d23cec1706f0/expr.ipynb\"><img src=\"../../../conjunction/__pv_it/2c0133563043d3ed120a21814f641d23cec1706f0/expr.png\" style=\"display:inline;vertical-align:middle;\" /></a></dd>"
      ],
      "text/plain": [
       "<IPython.core.display.HTML object>"
      ]
     },
     "metadata": {},
     "output_type": "display_data"
    },
    {
     "data": {
      "text/html": [
       "<dt><a class=\"ProveItLink\" href=\"../../../disjunction/_proofs_/demorgansLawAndToOrBinExplicit.ipynb\">proveit.logic.boolean.disjunction.demorgansLawAndToOrBinExplicit</a></dt><dd><a class=\"ProveItLink\" href=\"../../../disjunction/__pv_it/7a274a0bdefa1bb073d5a6de0bebdab7c77bae8e0/expr.ipynb\"><img src=\"../../../disjunction/__pv_it/7a274a0bdefa1bb073d5a6de0bebdab7c77bae8e0/expr.png\" style=\"display:inline;vertical-align:middle;\" /></a></dd>"
      ],
      "text/plain": [
       "<IPython.core.display.HTML object>"
      ]
     },
     "metadata": {},
     "output_type": "display_data"
    },
    {
     "data": {
      "text/html": [
       "<dt><a class=\"ProveItLink\" href=\"../../../disjunction/_proofs_/falseOrFalseNegated.ipynb\">proveit.logic.boolean.disjunction.falseOrFalseNegated</a></dt><dd><a class=\"ProveItLink\" href=\"../../../disjunction/__pv_it/7b21db2e1c00ae7c03b61376a829f5c4168615860/expr.ipynb\"><img src=\"../../../disjunction/__pv_it/7b21db2e1c00ae7c03b61376a829f5c4168615860/expr.png\" style=\"display:inline;vertical-align:middle;\" /></a></dd>"
      ],
      "text/plain": [
       "<IPython.core.display.HTML object>"
      ]
     },
     "metadata": {},
     "output_type": "display_data"
    },
    {
     "data": {
      "text/html": [
       "<dt><a class=\"ProveItLink\" href=\"../../../disjunction/_proofs_/orIfLeft.ipynb\">proveit.logic.boolean.disjunction.orIfLeft</a></dt><dd><a class=\"ProveItLink\" href=\"../../../disjunction/__pv_it/b21ca2e774e031059de7f462560469f0c974dccf0/expr.ipynb\"><img src=\"../../../disjunction/__pv_it/b21ca2e774e031059de7f462560469f0c974dccf0/expr.png\" style=\"display:inline;vertical-align:middle;\" /></a></dd>"
      ],
      "text/plain": [
       "<IPython.core.display.HTML object>"
      ]
     },
     "metadata": {},
     "output_type": "display_data"
    },
    {
     "data": {
      "text/html": [
       "<dt><a class=\"ProveItLink\" href=\"../../../disjunction/_proofs_/orIfRight.ipynb\">proveit.logic.boolean.disjunction.orIfRight</a></dt><dd><a class=\"ProveItLink\" href=\"../../../disjunction/__pv_it/0b55a746a099118e8fd67320d6452aa310e7d7890/expr.ipynb\"><img src=\"../../../disjunction/__pv_it/0b55a746a099118e8fd67320d6452aa310e7d7890/expr.png\" style=\"display:inline;vertical-align:middle;\" /></a></dd>"
      ],
      "text/plain": [
       "<IPython.core.display.HTML object>"
      ]
     },
     "metadata": {},
     "output_type": "display_data"
    },
    {
     "data": {
      "text/html": [
       "<dt><a class=\"ProveItLink\" href=\"../../../implication/_proofs_/falseIffTrueNegated.ipynb\">proveit.logic.boolean.implication.falseIffTrueNegated</a></dt><dd><a class=\"ProveItLink\" href=\"../../../implication/__pv_it/4db284df9c26f21793971fba72eecf463058f6b90/expr.ipynb\"><img src=\"../../../implication/__pv_it/4db284df9c26f21793971fba72eecf463058f6b90/expr.png\" style=\"display:inline;vertical-align:middle;\" /></a></dd>"
      ],
      "text/plain": [
       "<IPython.core.display.HTML object>"
      ]
     },
     "metadata": {},
     "output_type": "display_data"
    },
    {
     "data": {
      "text/html": [
       "<dt><a class=\"ProveItLink\" href=\"../../../implication/_proofs_/iffFT.ipynb\">proveit.logic.boolean.implication.iffFT</a></dt><dd><a class=\"ProveItLink\" href=\"../../../implication/__pv_it/ab1f2bd0369a382c84069ac1ddf30f5c10cdcc330/expr.ipynb\"><img src=\"../../../implication/__pv_it/ab1f2bd0369a382c84069ac1ddf30f5c10cdcc330/expr.png\" style=\"display:inline;vertical-align:middle;\" /></a></dd>"
      ],
      "text/plain": [
       "<IPython.core.display.HTML object>"
      ]
     },
     "metadata": {},
     "output_type": "display_data"
    },
    {
     "data": {
      "text/html": [
       "<dt><a class=\"ProveItLink\" href=\"../../../implication/_proofs_/iffTF.ipynb\">proveit.logic.boolean.implication.iffTF</a></dt><dd><a class=\"ProveItLink\" href=\"../../../implication/__pv_it/66800b56595dfb98cb6339580d262380e788d77a0/expr.ipynb\"><img src=\"../../../implication/__pv_it/66800b56595dfb98cb6339580d262380e788d77a0/expr.png\" style=\"display:inline;vertical-align:middle;\" /></a></dd>"
      ],
      "text/plain": [
       "<IPython.core.display.HTML object>"
      ]
     },
     "metadata": {},
     "output_type": "display_data"
    },
    {
     "data": {
      "text/html": [
       "<dt><a class=\"ProveItLink\" href=\"../../../implication/_proofs_/modusTollensDenial.ipynb\">proveit.logic.boolean.implication.modusTollensDenial</a></dt><dd><a class=\"ProveItLink\" href=\"../../../implication/__pv_it/a661e354dd33009a7eed31e8309e69878687f23d0/expr.ipynb\"><img src=\"../../../implication/__pv_it/a661e354dd33009a7eed31e8309e69878687f23d0/expr.png\" style=\"display:inline;vertical-align:middle;\" /></a></dd>"
      ],
      "text/plain": [
       "<IPython.core.display.HTML object>"
      ]
     },
     "metadata": {},
     "output_type": "display_data"
    },
    {
     "data": {
      "text/html": [
       "<dt><a class=\"ProveItLink\" href=\"../../../implication/_proofs_/trueIffFalseNegated.ipynb\">proveit.logic.boolean.implication.trueIffFalseNegated</a></dt><dd><a class=\"ProveItLink\" href=\"../../../implication/__pv_it/82e051b4002b8eca897f7ea168cdd57531b45f2f0/expr.ipynb\"><img src=\"../../../implication/__pv_it/82e051b4002b8eca897f7ea168cdd57531b45f2f0/expr.png\" style=\"display:inline;vertical-align:middle;\" /></a></dd>"
      ],
      "text/plain": [
       "<IPython.core.display.HTML object>"
      ]
     },
     "metadata": {},
     "output_type": "display_data"
    },
    {
     "data": {
      "text/html": [
       "<dt><a class=\"ProveItLink\" href=\"../../../implication/_proofs_/trueImpliesFalseNegated.ipynb\">proveit.logic.boolean.implication.trueImpliesFalseNegated</a></dt><dd><a class=\"ProveItLink\" href=\"../../../implication/__pv_it/86e6d79f5ac336786c1fbeff653f3f270ae5d8760/expr.ipynb\"><img src=\"../../../implication/__pv_it/86e6d79f5ac336786c1fbeff653f3f270ae5d8760/expr.png\" style=\"display:inline;vertical-align:middle;\" /></a></dd>"
      ],
      "text/plain": [
       "<IPython.core.display.HTML object>"
      ]
     },
     "metadata": {},
     "output_type": "display_data"
    },
    {
     "data": {
      "text/html": [
       "<dt><a class=\"ProveItLink\" href=\"../../_proofs_/doubleNegationEquiv.ipynb\">proveit.logic.boolean.negation.doubleNegationEquiv</a></dt><dd><a class=\"ProveItLink\" href=\"../82a05ca781b3704bf3f23e014d420b2c8d043b310/expr.ipynb\"><img src=\"../82a05ca781b3704bf3f23e014d420b2c8d043b310/expr.png\" style=\"display:inline;vertical-align:middle;\" /></a></dd>"
      ],
      "text/plain": [
       "<IPython.core.display.HTML object>"
      ]
     },
     "metadata": {},
     "output_type": "display_data"
    },
    {
     "data": {
      "text/html": [
       "<dt><a class=\"ProveItLink\" href=\"../../_proofs_/notFalse.ipynb\">proveit.logic.boolean.negation.notFalse</a></dt><dd><a class=\"ProveItLink\" href=\"../1fe9807523537bd8965e210ac2f3c711ac9ae0dc0/expr.ipynb\"><img src=\"../1fe9807523537bd8965e210ac2f3c711ac9ae0dc0/expr.png\" style=\"display:inline;vertical-align:middle;\" /></a></dd>"
      ],
      "text/plain": [
       "<IPython.core.display.HTML object>"
      ]
     },
     "metadata": {},
     "output_type": "display_data"
    },
    {
     "data": {
      "text/html": [
       "<dt><a class=\"ProveItLink\" href=\"../../../_proofs_/unfoldInBool.ipynb\">proveit.logic.boolean.unfoldInBool</a></dt><dd><a class=\"ProveItLink\" href=\"../../../__pv_it/bbc5e2fcc1150e79da44b28fc9b1c538b74c9f1d0/expr.ipynb\"><img src=\"../../../__pv_it/bbc5e2fcc1150e79da44b28fc9b1c538b74c9f1d0/expr.png\" style=\"display:inline;vertical-align:middle;\" /></a></dd>"
      ],
      "text/plain": [
       "<IPython.core.display.HTML object>"
      ]
     },
     "metadata": {},
     "output_type": "display_data"
    },
    {
     "data": {
      "text/html": [
       "<dt><a class=\"ProveItLink\" href=\"../../../../equality/_proofs_/contradictionViaFalsification.ipynb\">proveit.logic.equality.contradictionViaFalsification</a></dt><dd><a class=\"ProveItLink\" href=\"../../../../equality/__pv_it/035c67f0c0c1f6d711f8c36a9b94cfb564be5b110/expr.ipynb\"><img src=\"../../../../equality/__pv_it/035c67f0c0c1f6d711f8c36a9b94cfb564be5b110/expr.png\" style=\"display:inline;vertical-align:middle;\" /></a></dd>"
      ],
      "text/plain": [
       "<IPython.core.display.HTML object>"
      ]
     },
     "metadata": {},
     "output_type": "display_data"
    },
    {
     "data": {
      "text/html": [
       "</dl>"
      ],
      "text/plain": [
       "<IPython.core.display.HTML object>"
      ]
     },
     "metadata": {},
     "output_type": "display_data"
    }
   ],
   "source": [
    "%dependencies negationIntro"
   ]
  }
 ],
 "metadata": {
  "kernelspec": {
   "display_name": "Python 3",
   "language": "python",
   "name": "python3"
  },
  "language_info": {
   "codemirror_mode": {
    "name": "ipython",
    "version": 3
   },
   "file_extension": ".py",
   "mimetype": "text/x-python",
   "name": "python",
   "nbconvert_exporter": "python",
   "pygments_lexer": "ipython3",
   "version": "3.7.3"
  }
 },
 "nbformat": 4,
 "nbformat_minor": 1
}
