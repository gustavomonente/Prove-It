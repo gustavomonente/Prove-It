{
 "cells": [
  {
   "cell_type": "markdown",
   "metadata": {},
   "source": [
    "Context: <a href=\"../../_context_.ipynb\" class=\"ProveItLink\">proveit</a>.<a href=\"../_context_.ipynb\" class=\"ProveItLink\">logic</a>.boolean\n",
    "========\n",
    "\n",
    "Boolean arithmetic.  Booleans ($\\mathbb{B}$) is the set containing only TRUE ($\\top$) and FALSE ($\\bot$).  This context contains operations that are defined to act on Boolean elements: implication ($\\Rightarrow$, $\\Leftrightarrow$), negation ($\\neg$), conjunction ($\\land$), and disjunction ($\\lor$).  The quantification operations, universal ($\\forall$) and existential ($\\exists$), are also defined in this context because these operate on multiple instances of Booleans."
   ]
  },
  {
   "cell_type": "code",
   "execution_count": 1,
   "metadata": {},
   "outputs": [
    {
     "data": {
      "text/html": [
       "<table><tr>\n",
       "<th><a class=\"ProveItLink\" href=\"_common_.ipynb\">common expressions</a></th>\n",
       "<th><a class=\"ProveItLink\" href=\"_axioms_.ipynb\">axioms</a></th>\n",
       "<th><a class=\"ProveItLink\" href=\"_theorems_.ipynb\">theorems</a></th>\n",
       "<th><a class=\"ProveItLink\" href=\"_demonstrations_.ipynb\">demonstrations</a></th>\n",
       "</tr></table>\n",
       "<table>\n",
       "<tr><th><a class=\"ProveItLink\" href=\"implication/_context_.ipynb\">implication</a></th><td>Implies and Iff (if and only if) operations</td></tr>\n",
       "<tr><th><a class=\"ProveItLink\" href=\"negation/_context_.ipynb\">negation</a></th><td>Not operation</td></tr>\n",
       "<tr><th><a class=\"ProveItLink\" href=\"conjunction/_context_.ipynb\">conjunction</a></th><td>And operation</td></tr>\n",
       "<tr><th><a class=\"ProveItLink\" href=\"disjunction/_context_.ipynb\">disjunction</a></th><td>Or operation</td></tr>\n",
       "<tr><th><a class=\"ProveItLink\" href=\"quantification/_context_.ipynb\">quantification</a></th><td>Forall (universal quantification) and Exists (existential quantification) operations</td></tr>\n",
       "</table>\n"
      ],
      "text/plain": [
       "<IPython.core.display.HTML object>"
      ]
     },
     "metadata": {},
     "output_type": "display_data"
    }
   ],
   "source": [
    "import proveit\n",
    "%context"
   ]
  },
  {
   "cell_type": "code",
   "execution_count": null,
   "metadata": {},
   "outputs": [],
   "source": []
  }
 ],
 "metadata": {
  "kernelspec": {
   "display_name": "Python 3",
   "language": "python",
   "name": "python3"
  }
 },
 "nbformat": 4,
 "nbformat_minor": 0
}
