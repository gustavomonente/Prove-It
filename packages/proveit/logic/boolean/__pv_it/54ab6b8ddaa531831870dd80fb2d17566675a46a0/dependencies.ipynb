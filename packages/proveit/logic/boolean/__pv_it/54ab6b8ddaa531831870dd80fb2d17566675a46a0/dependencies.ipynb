{
 "cells": [
  {
   "cell_type": "markdown",
   "metadata": {},
   "source": [
    "Theorem Dependencies\n",
    "=======================\n",
    "\n",
    "## <a class=\"ProveItLink\" href=\"../../_context_.ipynb\">proveit.logic.boolean</a>.<a class=\"ProveItLink\" href=\"../../_theorems_.ipynb#trueInBool\">trueInBool</a> \n",
    "***see <a class=\"ProveItLink\" href=\"../../_proofs_/trueInBool.ipynb\">proof</a>***"
   ]
  },
  {
   "cell_type": "code",
   "execution_count": 1,
   "metadata": {},
   "outputs": [],
   "source": [
    "import proveit\n",
    "# Automation is not needed when querying dependencies:\n",
    "proveit.defaults.automation = False # This will speed things up.\n",
    "proveit.defaults.inline_pngs = False # Makes files smaller.\n",
    "from proveit.logic.boolean._theorems_ import trueInBool"
   ]
  },
  {
   "cell_type": "code",
   "execution_count": 2,
   "metadata": {},
   "outputs": [
    {
     "data": {
      "text/html": [
       "<h3>Unproven theorems required (directly or indirectly) to prove trueInBool</h3>"
      ],
      "text/plain": [
       "<IPython.core.display.HTML object>"
      ]
     },
     "metadata": {},
     "output_type": "display_data"
    },
    {
     "data": {
      "text/html": [
       "<dl>"
      ],
      "text/plain": [
       "<IPython.core.display.HTML object>"
      ]
     },
     "metadata": {},
     "output_type": "display_data"
    },
    {
     "data": {
      "text/html": [
       "<dt><a class=\"ProveItLink\" href=\"../../../set_theory/enumeration/_proofs_/fold.ipynb\">proveit.logic.set_theory.enumeration.fold</a></dt><dd><a class=\"ProveItLink\" href=\"../../../set_theory/enumeration/__pv_it/a8768e6f81edbcdb0a1d44f3a219f44ab58026160/expr.ipynb\"><img src=\"../../../set_theory/enumeration/__pv_it/a8768e6f81edbcdb0a1d44f3a219f44ab58026160/expr.png\" style=\"display:inline;vertical-align:middle;\" /></a></dd>"
      ],
      "text/plain": [
       "<IPython.core.display.HTML object>"
      ]
     },
     "metadata": {},
     "output_type": "display_data"
    },
    {
     "data": {
      "text/html": [
       "<dt><a class=\"ProveItLink\" href=\"../../../../number/numeral/deci/_proofs_/nat2.ipynb\">proveit.number.numeral.deci.nat2</a></dt><dd><a class=\"ProveItLink\" href=\"../../../../number/numeral/deci/__pv_it/e1be5cc0ffa039746758df99e3fd79595c567a170/expr.ipynb\"><img src=\"../../../../number/numeral/deci/__pv_it/e1be5cc0ffa039746758df99e3fd79595c567a170/expr.png\" style=\"display:inline;vertical-align:middle;\" /></a></dd>"
      ],
      "text/plain": [
       "<IPython.core.display.HTML object>"
      ]
     },
     "metadata": {},
     "output_type": "display_data"
    },
    {
     "data": {
      "text/html": [
       "<dt><a class=\"ProveItLink\" href=\"../../../../number/numeral/deci/_proofs_/tuple_len_2_typical_equiv.ipynb\">proveit.number.numeral.deci.tuple_len_2_typical_equiv</a></dt><dd><a class=\"ProveItLink\" href=\"../../../../number/numeral/deci/__pv_it/31a39e19408f8b414290df245ce20e6a3d0797030/expr.ipynb\"><img src=\"../../../../number/numeral/deci/__pv_it/31a39e19408f8b414290df245ce20e6a3d0797030/expr.png\" style=\"display:inline;vertical-align:middle;\" /></a></dd>"
      ],
      "text/plain": [
       "<IPython.core.display.HTML object>"
      ]
     },
     "metadata": {},
     "output_type": "display_data"
    },
    {
     "data": {
      "text/html": [
       "</dl>"
      ],
      "text/plain": [
       "<IPython.core.display.HTML object>"
      ]
     },
     "metadata": {},
     "output_type": "display_data"
    },
    {
     "data": {
      "text/html": [
       "<h3>Axioms required (directly or indirectly) to prove trueInBool</h3>"
      ],
      "text/plain": [
       "<IPython.core.display.HTML object>"
      ]
     },
     "metadata": {},
     "output_type": "display_data"
    },
    {
     "data": {
      "text/html": [
       "<dl>"
      ],
      "text/plain": [
       "<IPython.core.display.HTML object>"
      ]
     },
     "metadata": {},
     "output_type": "display_data"
    },
    {
     "data": {
      "text/html": [
       "<dt><a class=\"ProveItLink\" href=\"../../_axioms_.ipynb#boolsDef\">proveit.logic.boolean.boolsDef</a></dt><dd><a class=\"ProveItLink\" href=\"../f8b51998348a6385fada5a5dcf4f6799320f28650/expr.ipynb\"><img src=\"../f8b51998348a6385fada5a5dcf4f6799320f28650/expr.png\" style=\"display:inline;vertical-align:middle;\" /></a></dd>"
      ],
      "text/plain": [
       "<IPython.core.display.HTML object>"
      ]
     },
     "metadata": {},
     "output_type": "display_data"
    },
    {
     "data": {
      "text/html": [
       "<dt><a class=\"ProveItLink\" href=\"../../disjunction/_axioms_.ipynb#orTF\">proveit.logic.boolean.disjunction.orTF</a></dt><dd><a class=\"ProveItLink\" href=\"../../disjunction/__pv_it/a980f2e4f091260c75434ac31f723f4cc5f16b430/expr.ipynb\"><img src=\"../../disjunction/__pv_it/a980f2e4f091260c75434ac31f723f4cc5f16b430/expr.png\" style=\"display:inline;vertical-align:middle;\" /></a></dd>"
      ],
      "text/plain": [
       "<IPython.core.display.HTML object>"
      ]
     },
     "metadata": {},
     "output_type": "display_data"
    },
    {
     "data": {
      "text/html": [
       "<dt><a class=\"ProveItLink\" href=\"../../_axioms_.ipynb#eqTrueElim\">proveit.logic.boolean.eqTrueElim</a></dt><dd><a class=\"ProveItLink\" href=\"../c40d2fe3b647e54f3c41cbb64fa7a5fea23ad4ba0/expr.ipynb\"><img src=\"../c40d2fe3b647e54f3c41cbb64fa7a5fea23ad4ba0/expr.png\" style=\"display:inline;vertical-align:middle;\" /></a></dd>"
      ],
      "text/plain": [
       "<IPython.core.display.HTML object>"
      ]
     },
     "metadata": {},
     "output_type": "display_data"
    },
    {
     "data": {
      "text/html": [
       "<dt><a class=\"ProveItLink\" href=\"../../_axioms_.ipynb#eqTrueIntro\">proveit.logic.boolean.eqTrueIntro</a></dt><dd><a class=\"ProveItLink\" href=\"../1b97d519b6f842613318d652c6ad18957257936d0/expr.ipynb\"><img src=\"../1b97d519b6f842613318d652c6ad18957257936d0/expr.png\" style=\"display:inline;vertical-align:middle;\" /></a></dd>"
      ],
      "text/plain": [
       "<IPython.core.display.HTML object>"
      ]
     },
     "metadata": {},
     "output_type": "display_data"
    },
    {
     "data": {
      "text/html": [
       "<dt><a class=\"ProveItLink\" href=\"../../_axioms_.ipynb#falseNotTrue\">proveit.logic.boolean.falseNotTrue</a></dt><dd><a class=\"ProveItLink\" href=\"../9232c35b58f1471872c4bdc53718ee27a9be34610/expr.ipynb\"><img src=\"../9232c35b58f1471872c4bdc53718ee27a9be34610/expr.png\" style=\"display:inline;vertical-align:middle;\" /></a></dd>"
      ],
      "text/plain": [
       "<IPython.core.display.HTML object>"
      ]
     },
     "metadata": {},
     "output_type": "display_data"
    },
    {
     "data": {
      "text/html": [
       "<dt><a class=\"ProveItLink\" href=\"../../negation/_axioms_.ipynb#negationElim\">proveit.logic.boolean.negation.negationElim</a></dt><dd><a class=\"ProveItLink\" href=\"../../negation/__pv_it/effe4a00447dd6924d93afef35ad027eae208a7a0/expr.ipynb\"><img src=\"../../negation/__pv_it/effe4a00447dd6924d93afef35ad027eae208a7a0/expr.png\" style=\"display:inline;vertical-align:middle;\" /></a></dd>"
      ],
      "text/plain": [
       "<IPython.core.display.HTML object>"
      ]
     },
     "metadata": {},
     "output_type": "display_data"
    },
    {
     "data": {
      "text/html": [
       "<dt><a class=\"ProveItLink\" href=\"../../../equality/_axioms_.ipynb#equalsReflexivity\">proveit.logic.equality.equalsReflexivity</a></dt><dd><a class=\"ProveItLink\" href=\"../../../equality/__pv_it/41ee2d23887e0db2fb1c64bf69a66887d78f206e0/expr.ipynb\"><img src=\"../../../equality/__pv_it/41ee2d23887e0db2fb1c64bf69a66887d78f206e0/expr.png\" style=\"display:inline;vertical-align:middle;\" /></a></dd>"
      ],
      "text/plain": [
       "<IPython.core.display.HTML object>"
      ]
     },
     "metadata": {},
     "output_type": "display_data"
    },
    {
     "data": {
      "text/html": [
       "<dt><a class=\"ProveItLink\" href=\"../../../equality/_axioms_.ipynb#equalsSymmetry\">proveit.logic.equality.equalsSymmetry</a></dt><dd><a class=\"ProveItLink\" href=\"../../../equality/__pv_it/2ec3cefd5b68d70e9e028d7461f9728ae37d4c650/expr.ipynb\"><img src=\"../../../equality/__pv_it/2ec3cefd5b68d70e9e028d7461f9728ae37d4c650/expr.png\" style=\"display:inline;vertical-align:middle;\" /></a></dd>"
      ],
      "text/plain": [
       "<IPython.core.display.HTML object>"
      ]
     },
     "metadata": {},
     "output_type": "display_data"
    },
    {
     "data": {
      "text/html": [
       "<dt><a class=\"ProveItLink\" href=\"../../../equality/_axioms_.ipynb#equalsTransitivity\">proveit.logic.equality.equalsTransitivity</a></dt><dd><a class=\"ProveItLink\" href=\"../../../equality/__pv_it/495c166cdd14b46cf3711cb4467adbb9a15d43120/expr.ipynb\"><img src=\"../../../equality/__pv_it/495c166cdd14b46cf3711cb4467adbb9a15d43120/expr.png\" style=\"display:inline;vertical-align:middle;\" /></a></dd>"
      ],
      "text/plain": [
       "<IPython.core.display.HTML object>"
      ]
     },
     "metadata": {},
     "output_type": "display_data"
    },
    {
     "data": {
      "text/html": [
       "<dt><a class=\"ProveItLink\" href=\"../../../equality/_axioms_.ipynb#notEqualsDef\">proveit.logic.equality.notEqualsDef</a></dt><dd><a class=\"ProveItLink\" href=\"../../../equality/__pv_it/3907ab5c01f6c9317b39937a40e58231ca0313cf0/expr.ipynb\"><img src=\"../../../equality/__pv_it/3907ab5c01f6c9317b39937a40e58231ca0313cf0/expr.png\" style=\"display:inline;vertical-align:middle;\" /></a></dd>"
      ],
      "text/plain": [
       "<IPython.core.display.HTML object>"
      ]
     },
     "metadata": {},
     "output_type": "display_data"
    },
    {
     "data": {
      "text/html": [
       "<dt><a class=\"ProveItLink\" href=\"../../../equality/_axioms_.ipynb#substitution\">proveit.logic.equality.substitution</a></dt><dd><a class=\"ProveItLink\" href=\"../../../equality/__pv_it/fce8b52e88693eef9d56c90f8a56ea5fa505017b0/expr.ipynb\"><img src=\"../../../equality/__pv_it/fce8b52e88693eef9d56c90f8a56ea5fa505017b0/expr.png\" style=\"display:inline;vertical-align:middle;\" /></a></dd>"
      ],
      "text/plain": [
       "<IPython.core.display.HTML object>"
      ]
     },
     "metadata": {},
     "output_type": "display_data"
    },
    {
     "data": {
      "text/html": [
       "</dl>"
      ],
      "text/plain": [
       "<IPython.core.display.HTML object>"
      ]
     },
     "metadata": {},
     "output_type": "display_data"
    },
    {
     "data": {
      "text/html": [
       "<h3>Theorems that depend directly on trueInBool</h3>"
      ],
      "text/plain": [
       "<IPython.core.display.HTML object>"
      ]
     },
     "metadata": {},
     "output_type": "display_data"
    },
    {
     "data": {
      "text/html": [
       "<dl>"
      ],
      "text/plain": [
       "<IPython.core.display.HTML object>"
      ]
     },
     "metadata": {},
     "output_type": "display_data"
    },
    {
     "data": {
      "text/html": [
       "<dt><a class=\"ProveItLink\" href=\"../../conjunction/_proofs_/binaryClosure.ipynb\">proveit.logic.boolean.conjunction.binaryClosure</a></dt><dd><a class=\"ProveItLink\" href=\"../../conjunction/__pv_it/410e32499ee85f977c3672cdd5d64be52b919fb50/expr.ipynb\"><img src=\"../../conjunction/__pv_it/410e32499ee85f977c3672cdd5d64be52b919fb50/expr.png\" style=\"display:inline;vertical-align:middle;\" /></a></dd>"
      ],
      "text/plain": [
       "<IPython.core.display.HTML object>"
      ]
     },
     "metadata": {},
     "output_type": "display_data"
    },
    {
     "data": {
      "text/html": [
       "<dt><a class=\"ProveItLink\" href=\"../../conjunction/_proofs_/falsifiedAndIfNotLeft.ipynb\">proveit.logic.boolean.conjunction.falsifiedAndIfNotLeft</a></dt><dd><a class=\"ProveItLink\" href=\"../../conjunction/__pv_it/0b6bf1d4826a65268cf1a978c0bf8de36f0b9f8f0/expr.ipynb\"><img src=\"../../conjunction/__pv_it/0b6bf1d4826a65268cf1a978c0bf8de36f0b9f8f0/expr.png\" style=\"display:inline;vertical-align:middle;\" /></a></dd>"
      ],
      "text/plain": [
       "<IPython.core.display.HTML object>"
      ]
     },
     "metadata": {},
     "output_type": "display_data"
    },
    {
     "data": {
      "text/html": [
       "<dt><a class=\"ProveItLink\" href=\"../../conjunction/_proofs_/falsifiedAndIfNotRight.ipynb\">proveit.logic.boolean.conjunction.falsifiedAndIfNotRight</a></dt><dd><a class=\"ProveItLink\" href=\"../../conjunction/__pv_it/c469119600f1003eb15601135687a8a09e676a5a0/expr.ipynb\"><img src=\"../../conjunction/__pv_it/c469119600f1003eb15601135687a8a09e676a5a0/expr.png\" style=\"display:inline;vertical-align:middle;\" /></a></dd>"
      ],
      "text/plain": [
       "<IPython.core.display.HTML object>"
      ]
     },
     "metadata": {},
     "output_type": "display_data"
    },
    {
     "data": {
      "text/html": [
       "<dt><a class=\"ProveItLink\" href=\"../../conjunction/_proofs_/unary_and_reduction.ipynb\">proveit.logic.boolean.conjunction.unary_and_reduction</a></dt><dd><a class=\"ProveItLink\" href=\"../../conjunction/__pv_it/d12737b9a6d077d9d6ccdbdd33c0ad0b61e7d0180/expr.ipynb\"><img src=\"../../conjunction/__pv_it/d12737b9a6d077d9d6ccdbdd33c0ad0b61e7d0180/expr.png\" style=\"display:inline;vertical-align:middle;\" /></a></dd>"
      ],
      "text/plain": [
       "<IPython.core.display.HTML object>"
      ]
     },
     "metadata": {},
     "output_type": "display_data"
    },
    {
     "data": {
      "text/html": [
       "<dt><a class=\"ProveItLink\" href=\"../../disjunction/_proofs_/binaryClosure.ipynb\">proveit.logic.boolean.disjunction.binaryClosure</a></dt><dd><a class=\"ProveItLink\" href=\"../../disjunction/__pv_it/304ae2ef1a0f1921f6159b0d8a198cdca8a02de20/expr.ipynb\"><img src=\"../../disjunction/__pv_it/304ae2ef1a0f1921f6159b0d8a198cdca8a02de20/expr.png\" style=\"display:inline;vertical-align:middle;\" /></a></dd>"
      ],
      "text/plain": [
       "<IPython.core.display.HTML object>"
      ]
     },
     "metadata": {},
     "output_type": "display_data"
    },
    {
     "data": {
      "text/html": [
       "<dt><a class=\"ProveItLink\" href=\"../../disjunction/_proofs_/demorgansLawAndToOrBin.ipynb\">proveit.logic.boolean.disjunction.demorgansLawAndToOrBin</a></dt><dd><a class=\"ProveItLink\" href=\"../../disjunction/__pv_it/f2ae782edf2f1706b10ed49bd8274f4b2efa35930/expr.ipynb\"><img src=\"../../disjunction/__pv_it/f2ae782edf2f1706b10ed49bd8274f4b2efa35930/expr.png\" style=\"display:inline;vertical-align:middle;\" /></a></dd>"
      ],
      "text/plain": [
       "<IPython.core.display.HTML object>"
      ]
     },
     "metadata": {},
     "output_type": "display_data"
    },
    {
     "data": {
      "text/html": [
       "<dt><a class=\"ProveItLink\" href=\"../../disjunction/_proofs_/notLeftIfNeither.ipynb\">proveit.logic.boolean.disjunction.notLeftIfNeither</a></dt><dd><a class=\"ProveItLink\" href=\"../../disjunction/__pv_it/3c27010cb1e3f4f61f42fb5908eb8942377a29940/expr.ipynb\"><img src=\"../../disjunction/__pv_it/3c27010cb1e3f4f61f42fb5908eb8942377a29940/expr.png\" style=\"display:inline;vertical-align:middle;\" /></a></dd>"
      ],
      "text/plain": [
       "<IPython.core.display.HTML object>"
      ]
     },
     "metadata": {},
     "output_type": "display_data"
    },
    {
     "data": {
      "text/html": [
       "<dt><a class=\"ProveItLink\" href=\"../../disjunction/_proofs_/notRightIfNeither.ipynb\">proveit.logic.boolean.disjunction.notRightIfNeither</a></dt><dd><a class=\"ProveItLink\" href=\"../../disjunction/__pv_it/73c2a8ee7d3f9e748ac4ff09c94f8ff6911063d20/expr.ipynb\"><img src=\"../../disjunction/__pv_it/73c2a8ee7d3f9e748ac4ff09c94f8ff6911063d20/expr.png\" style=\"display:inline;vertical-align:middle;\" /></a></dd>"
      ],
      "text/plain": [
       "<IPython.core.display.HTML object>"
      ]
     },
     "metadata": {},
     "output_type": "display_data"
    },
    {
     "data": {
      "text/html": [
       "<dt><a class=\"ProveItLink\" href=\"../../disjunction/_proofs_/unaryOrReduction.ipynb\">proveit.logic.boolean.disjunction.unaryOrReduction</a></dt><dd><a class=\"ProveItLink\" href=\"../../disjunction/__pv_it/3472071821cd1e45a1da7699e498d77401a6158f0/expr.ipynb\"><img src=\"../../disjunction/__pv_it/3472071821cd1e45a1da7699e498d77401a6158f0/expr.png\" style=\"display:inline;vertical-align:middle;\" /></a></dd>"
      ],
      "text/plain": [
       "<IPython.core.display.HTML object>"
      ]
     },
     "metadata": {},
     "output_type": "display_data"
    },
    {
     "data": {
      "text/html": [
       "<dt><a class=\"ProveItLink\" href=\"../../_proofs_/falseInBool.ipynb\">proveit.logic.boolean.falseInBool</a></dt><dd><a class=\"ProveItLink\" href=\"../05f9092134d7f41a46dc315acb203c11685a8bdd0/expr.ipynb\"><img src=\"../05f9092134d7f41a46dc315acb203c11685a8bdd0/expr.png\" style=\"display:inline;vertical-align:middle;\" /></a></dd>"
      ],
      "text/plain": [
       "<IPython.core.display.HTML object>"
      ]
     },
     "metadata": {},
     "output_type": "display_data"
    },
    {
     "data": {
      "text/html": [
       "<dt><a class=\"ProveItLink\" href=\"../../_proofs_/foldForallOverBool.ipynb\">proveit.logic.boolean.foldForallOverBool</a></dt><dd><a class=\"ProveItLink\" href=\"../173afeec84f3dab82ae590b0875382639d87c9760/expr.ipynb\"><img src=\"../173afeec84f3dab82ae590b0875382639d87c9760/expr.png\" style=\"display:inline;vertical-align:middle;\" /></a></dd>"
      ],
      "text/plain": [
       "<IPython.core.display.HTML object>"
      ]
     },
     "metadata": {},
     "output_type": "display_data"
    },
    {
     "data": {
      "text/html": [
       "<dt><a class=\"ProveItLink\" href=\"../../implication/_proofs_/eqFromIff.ipynb\">proveit.logic.boolean.implication.eqFromIff</a></dt><dd><a class=\"ProveItLink\" href=\"../../implication/__pv_it/e2a5761239c91e42418c9df10dadd9a47cd4a9960/expr.ipynb\"><img src=\"../../implication/__pv_it/e2a5761239c91e42418c9df10dadd9a47cd4a9960/expr.png\" style=\"display:inline;vertical-align:middle;\" /></a></dd>"
      ],
      "text/plain": [
       "<IPython.core.display.HTML object>"
      ]
     },
     "metadata": {},
     "output_type": "display_data"
    },
    {
     "data": {
      "text/html": [
       "<dt><a class=\"ProveItLink\" href=\"../../implication/_proofs_/eqFromMutualImpl.ipynb\">proveit.logic.boolean.implication.eqFromMutualImpl</a></dt><dd><a class=\"ProveItLink\" href=\"../../implication/__pv_it/3014b0c5d2dbc9905bde532d9c70011c017201d70/expr.ipynb\"><img src=\"../../implication/__pv_it/3014b0c5d2dbc9905bde532d9c70011c017201d70/expr.png\" style=\"display:inline;vertical-align:middle;\" /></a></dd>"
      ],
      "text/plain": [
       "<IPython.core.display.HTML object>"
      ]
     },
     "metadata": {},
     "output_type": "display_data"
    },
    {
     "data": {
      "text/html": [
       "<dt><a class=\"ProveItLink\" href=\"../../implication/_proofs_/iffClosure.ipynb\">proveit.logic.boolean.implication.iffClosure</a></dt><dd><a class=\"ProveItLink\" href=\"../../implication/__pv_it/5075d3b4faad39e2a7456cd741aeef43664e9e8b0/expr.ipynb\"><img src=\"../../implication/__pv_it/5075d3b4faad39e2a7456cd741aeef43664e9e8b0/expr.png\" style=\"display:inline;vertical-align:middle;\" /></a></dd>"
      ],
      "text/plain": [
       "<IPython.core.display.HTML object>"
      ]
     },
     "metadata": {},
     "output_type": "display_data"
    },
    {
     "data": {
      "text/html": [
       "<dt><a class=\"ProveItLink\" href=\"../../implication/_proofs_/implicationClosure.ipynb\">proveit.logic.boolean.implication.implicationClosure</a></dt><dd><a class=\"ProveItLink\" href=\"../../implication/__pv_it/04da91658689d6e952887c1ad0a486d30145c7ac0/expr.ipynb\"><img src=\"../../implication/__pv_it/04da91658689d6e952887c1ad0a486d30145c7ac0/expr.png\" style=\"display:inline;vertical-align:middle;\" /></a></dd>"
      ],
      "text/plain": [
       "<IPython.core.display.HTML object>"
      ]
     },
     "metadata": {},
     "output_type": "display_data"
    },
    {
     "data": {
      "text/html": [
       "<dt><a class=\"ProveItLink\" href=\"../../_proofs_/inBoolIfTrue.ipynb\">proveit.logic.boolean.inBoolIfTrue</a></dt><dd><a class=\"ProveItLink\" href=\"../df095c0a74043174137e3372c411229e8bf981180/expr.ipynb\"><img src=\"../df095c0a74043174137e3372c411229e8bf981180/expr.png\" style=\"display:inline;vertical-align:middle;\" /></a></dd>"
      ],
      "text/plain": [
       "<IPython.core.display.HTML object>"
      ]
     },
     "metadata": {},
     "output_type": "display_data"
    },
    {
     "data": {
      "text/html": [
       "<dt><a class=\"ProveItLink\" href=\"../../negation/_proofs_/closure.ipynb\">proveit.logic.boolean.negation.closure</a></dt><dd><a class=\"ProveItLink\" href=\"../../negation/__pv_it/9b99fba53d74736609b6aafc7fd28ad167531fa30/expr.ipynb\"><img src=\"../../negation/__pv_it/9b99fba53d74736609b6aafc7fd28ad167531fa30/expr.png\" style=\"display:inline;vertical-align:middle;\" /></a></dd>"
      ],
      "text/plain": [
       "<IPython.core.display.HTML object>"
      ]
     },
     "metadata": {},
     "output_type": "display_data"
    },
    {
     "data": {
      "text/html": [
       "<dt><a class=\"ProveItLink\" href=\"../../negation/_proofs_/operandInBool.ipynb\">proveit.logic.boolean.negation.operandInBool</a></dt><dd><a class=\"ProveItLink\" href=\"../../negation/__pv_it/0a8225af874280ec50bc73ec4ad74a97aabce4440/expr.ipynb\"><img src=\"../../negation/__pv_it/0a8225af874280ec50bc73ec4ad74a97aabce4440/expr.png\" style=\"display:inline;vertical-align:middle;\" /></a></dd>"
      ],
      "text/plain": [
       "<IPython.core.display.HTML object>"
      ]
     },
     "metadata": {},
     "output_type": "display_data"
    },
    {
     "data": {
      "text/html": [
       "<dt><a class=\"ProveItLink\" href=\"../../_proofs_/unfoldInBool.ipynb\">proveit.logic.boolean.unfoldInBool</a></dt><dd><a class=\"ProveItLink\" href=\"../5aa74dace6967a9ad0313df8a08dda92c89cb6f30/expr.ipynb\"><img src=\"../5aa74dace6967a9ad0313df8a08dda92c89cb6f30/expr.png\" style=\"display:inline;vertical-align:middle;\" /></a></dd>"
      ],
      "text/plain": [
       "<IPython.core.display.HTML object>"
      ]
     },
     "metadata": {},
     "output_type": "display_data"
    },
    {
     "data": {
      "text/html": [
       "<dt><a class=\"ProveItLink\" href=\"../../../../number/ordering/_proofs_/transitivityGreaterEqGreater.ipynb\">proveit.number.ordering.transitivityGreaterEqGreater</a></dt><dd><a class=\"ProveItLink\" href=\"../../../../number/ordering/__pv_it/30088d34af4ca5db229a05aa62431160676216e90/expr.ipynb\"><img src=\"../../../../number/ordering/__pv_it/30088d34af4ca5db229a05aa62431160676216e90/expr.png\" style=\"display:inline;vertical-align:middle;\" /></a></dd>"
      ],
      "text/plain": [
       "<IPython.core.display.HTML object>"
      ]
     },
     "metadata": {},
     "output_type": "display_data"
    },
    {
     "data": {
      "text/html": [
       "<dt><a class=\"ProveItLink\" href=\"../../../../number/ordering/_proofs_/transitivityGreaterEqGreaterEq.ipynb\">proveit.number.ordering.transitivityGreaterEqGreaterEq</a></dt><dd><a class=\"ProveItLink\" href=\"../../../../number/ordering/__pv_it/7fdfd2d3a42160ecdbf102e8229b3c38b93751170/expr.ipynb\"><img src=\"../../../../number/ordering/__pv_it/7fdfd2d3a42160ecdbf102e8229b3c38b93751170/expr.png\" style=\"display:inline;vertical-align:middle;\" /></a></dd>"
      ],
      "text/plain": [
       "<IPython.core.display.HTML object>"
      ]
     },
     "metadata": {},
     "output_type": "display_data"
    },
    {
     "data": {
      "text/html": [
       "<dt><a class=\"ProveItLink\" href=\"../../../../number/ordering/_proofs_/transitivityGreaterGreaterEq.ipynb\">proveit.number.ordering.transitivityGreaterGreaterEq</a></dt><dd><a class=\"ProveItLink\" href=\"../../../../number/ordering/__pv_it/e281c509091624e4e0073d15de7e65be2e317e650/expr.ipynb\"><img src=\"../../../../number/ordering/__pv_it/e281c509091624e4e0073d15de7e65be2e317e650/expr.png\" style=\"display:inline;vertical-align:middle;\" /></a></dd>"
      ],
      "text/plain": [
       "<IPython.core.display.HTML object>"
      ]
     },
     "metadata": {},
     "output_type": "display_data"
    },
    {
     "data": {
      "text/html": [
       "<dt><a class=\"ProveItLink\" href=\"../../../../number/ordering/_proofs_/transitivityLessEqLess.ipynb\">proveit.number.ordering.transitivityLessEqLess</a></dt><dd><a class=\"ProveItLink\" href=\"../../../../number/ordering/__pv_it/20c9dacc590c621a4a39021ca63d16bb99cf13820/expr.ipynb\"><img src=\"../../../../number/ordering/__pv_it/20c9dacc590c621a4a39021ca63d16bb99cf13820/expr.png\" style=\"display:inline;vertical-align:middle;\" /></a></dd>"
      ],
      "text/plain": [
       "<IPython.core.display.HTML object>"
      ]
     },
     "metadata": {},
     "output_type": "display_data"
    },
    {
     "data": {
      "text/html": [
       "<dt><a class=\"ProveItLink\" href=\"../../../../number/ordering/_proofs_/transitivityLessEqLessEq.ipynb\">proveit.number.ordering.transitivityLessEqLessEq</a></dt><dd><a class=\"ProveItLink\" href=\"../../../../number/ordering/__pv_it/085bc07ccf65efa73f779729861584abd7be7c160/expr.ipynb\"><img src=\"../../../../number/ordering/__pv_it/085bc07ccf65efa73f779729861584abd7be7c160/expr.png\" style=\"display:inline;vertical-align:middle;\" /></a></dd>"
      ],
      "text/plain": [
       "<IPython.core.display.HTML object>"
      ]
     },
     "metadata": {},
     "output_type": "display_data"
    },
    {
     "data": {
      "text/html": [
       "<dt><a class=\"ProveItLink\" href=\"../../../../number/ordering/_proofs_/transitivityLessLessEq.ipynb\">proveit.number.ordering.transitivityLessLessEq</a></dt><dd><a class=\"ProveItLink\" href=\"../../../../number/ordering/__pv_it/a9cd8ede54f550b738372818a450803443974f580/expr.ipynb\"><img src=\"../../../../number/ordering/__pv_it/a9cd8ede54f550b738372818a450803443974f580/expr.png\" style=\"display:inline;vertical-align:middle;\" /></a></dd>"
      ],
      "text/plain": [
       "<IPython.core.display.HTML object>"
      ]
     },
     "metadata": {},
     "output_type": "display_data"
    },
    {
     "data": {
      "text/html": [
       "</dl>"
      ],
      "text/plain": [
       "<IPython.core.display.HTML object>"
      ]
     },
     "metadata": {},
     "output_type": "display_data"
    }
   ],
   "source": [
    "%dependencies trueInBool"
   ]
  }
 ],
 "metadata": {
  "kernelspec": {
   "display_name": "Python 3",
   "language": "python",
   "name": "python3"
  },
  "language_info": {
   "codemirror_mode": {
    "name": "ipython",
    "version": 3
   },
   "file_extension": ".py",
   "mimetype": "text/x-python",
   "name": "python",
   "nbconvert_exporter": "python",
   "pygments_lexer": "ipython3",
   "version": "3.7.3"
  }
 },
 "nbformat": 4,
 "nbformat_minor": 1
}
