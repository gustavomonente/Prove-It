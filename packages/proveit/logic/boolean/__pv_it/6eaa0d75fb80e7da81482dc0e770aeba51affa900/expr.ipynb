{
 "cells": [
  {
   "cell_type": "markdown",
   "metadata": {},
   "source": [
    "Expression of type <a class=\"ProveItLink\" href=\"../../../../../../doc/html/api/proveit.Lambda.html\">Lambda</a>\n",
    "=======================\n",
    "# from context <a class=\"ProveItLink\" href=\"../../_context_.ipynb\">proveit.logic.boolean</a>"
   ]
  },
  {
   "cell_type": "code",
   "execution_count": 1,
   "metadata": {},
   "outputs": [],
   "source": [
    "import proveit\n",
    "# Automation is not needed when building an expression:\n",
    "proveit.defaults.automation = False # This will speed things up.\n",
    "proveit.defaults.inline_pngs = False # Makes files smaller.\n",
    "# import Expression classes needed to build the expression\n",
    "from proveit import Lambda\n",
    "from proveit._common_ import A, P, PofA\n",
    "from proveit.logic import And, Booleans, Forall, Implies\n",
    "from proveit.logic._common_ import PofFalse, PofTrue"
   ]
  },
  {
   "cell_type": "code",
   "execution_count": 2,
   "metadata": {},
   "outputs": [
    {
     "data": {
      "text/html": [
       "<strong id=\"expr\">expr:</strong> <a class=\"ProveItLink\" href=\"expr.ipynb\"><img src=\"expr.png\" style=\"display:inline;vertical-align:middle;\" /></a><br>"
      ],
      "text/plain": [
       "expr: P -> ([forall_{A in BOOLEANS} P(A)] => (P(TRUE) and P(FALSE)))"
      ]
     },
     "execution_count": 2,
     "metadata": {},
     "output_type": "execute_result"
    }
   ],
   "source": [
    "# build up the expression from sub-expressions\n",
    "expr = Lambda(P, Implies(Forall([A], PofA, domain = Booleans), And(PofTrue, PofFalse)))"
   ]
  },
  {
   "cell_type": "code",
   "execution_count": 3,
   "metadata": {},
   "outputs": [
    {
     "name": "stdout",
     "output_type": "stream",
     "text": [
      "Passed sanity check: built 'expr' is the same as the stored Expression.\n"
     ]
    }
   ],
   "source": [
    "# check that the built expression is the same as the stored expression\n",
    "%check_expr"
   ]
  },
  {
   "cell_type": "code",
   "execution_count": 4,
   "metadata": {},
   "outputs": [
    {
     "name": "stdout",
     "output_type": "stream",
     "text": [
      "P \\mapsto \\left(\\left[\\forall_{A \\in \\mathbb{B}}~P(A)\\right] \\Rightarrow \\left(P(\\top) \\land P(\\bot)\\right)\\right)\n"
     ]
    }
   ],
   "source": [
    "# Show the LaTeX representation of the expression for convenience if you need it.\n",
    "print(expr.latex())"
   ]
  },
  {
   "cell_type": "code",
   "execution_count": 5,
   "metadata": {},
   "outputs": [
    {
     "data": {
      "text/html": [
       "<table><tr><th>&nbsp;</th><th>core type</th><th>sub-expressions</th><th>expression</th></tr>\n",
       "<tr><td>0</td><td>Lambda</td><td>parameter:&nbsp;17<br>body:&nbsp;1<br></td><td><a class=\"ProveItLink\" href=\"expr.ipynb\"><img src=\"expr.png\" style=\"display:inline;vertical-align:middle;\" /></a></td></tr>\n",
       "<tr><td>1</td><td>Operation</td><td>operator:&nbsp;2<br>operands:&nbsp;3<br></td><td><a class=\"ProveItLink\" href=\"../7c0e311dc24f906d094d3fcc15c37c8237a24e7e0/expr.ipynb\"><img src=\"../7c0e311dc24f906d094d3fcc15c37c8237a24e7e0/expr.png\" style=\"display:inline;vertical-align:middle;\" /></a></td></tr>\n",
       "<tr><td>2</td><td>Literal</td><td></td><td><a class=\"ProveItLink\" href=\"../../implication/__pv_it/1e62b0c0a90306fc48b17f0dc8d4dc4df8bb234f0/expr.ipynb\"><img src=\"../../implication/__pv_it/1e62b0c0a90306fc48b17f0dc8d4dc4df8bb234f0/expr.png\" style=\"display:inline;vertical-align:middle;\" /></a></td></tr>\n",
       "<tr><td>3</td><td>ExprTuple</td><td>4, 5</td><td><a class=\"ProveItLink\" href=\"../db07a708f73b3af35bccacc667d196096fb1f1130/expr.ipynb\"><img src=\"../db07a708f73b3af35bccacc667d196096fb1f1130/expr.png\" style=\"display:inline;vertical-align:middle;\" /></a></td></tr>\n",
       "<tr><td>4</td><td>Operation</td><td>operator:&nbsp;6<br>operand:&nbsp;7<br></td><td><a class=\"ProveItLink\" href=\"../136156f02c0f80f879728f5fe7bd85118aab31790/expr.ipynb\"><img src=\"../136156f02c0f80f879728f5fe7bd85118aab31790/expr.png\" style=\"display:inline;vertical-align:middle;\" /></a></td></tr>\n",
       "<tr><td>5</td><td>Operation</td><td>operator:&nbsp;8<br>operands:&nbsp;9<br></td><td><a class=\"ProveItLink\" href=\"../8dca0e3b61b2aca534ed55e4b2d5ae1309df29f50/expr.ipynb\"><img src=\"../8dca0e3b61b2aca534ed55e4b2d5ae1309df29f50/expr.png\" style=\"display:inline;vertical-align:middle;\" /></a></td></tr>\n",
       "<tr><td>6</td><td>Literal</td><td></td><td><a class=\"ProveItLink\" href=\"../../quantification/universal/__pv_it/fd9c772d6675566ed52a6897806f45eb08a4ea910/expr.ipynb\"><img src=\"../../quantification/universal/__pv_it/fd9c772d6675566ed52a6897806f45eb08a4ea910/expr.png\" style=\"display:inline;vertical-align:middle;\" /></a></td></tr>\n",
       "<tr><td>7</td><td>Lambda</td><td>parameter:&nbsp;20<br>body:&nbsp;10<br></td><td><a class=\"ProveItLink\" href=\"../ed5899d38a47c673df9322991b182b33d60daf7e0/expr.ipynb\"><img src=\"../ed5899d38a47c673df9322991b182b33d60daf7e0/expr.png\" style=\"display:inline;vertical-align:middle;\" /></a></td></tr>\n",
       "<tr><td>8</td><td>Literal</td><td></td><td><a class=\"ProveItLink\" href=\"../../conjunction/__pv_it/f41cc6b553210927c09f19a8a39cdf860a5585930/expr.ipynb\"><img src=\"../../conjunction/__pv_it/f41cc6b553210927c09f19a8a39cdf860a5585930/expr.png\" style=\"display:inline;vertical-align:middle;\" /></a></td></tr>\n",
       "<tr><td>9</td><td>ExprTuple</td><td>11, 12</td><td><a class=\"ProveItLink\" href=\"../180b3b677f1d123089069ec74caaf87cba2bd2e20/expr.ipynb\"><img src=\"../180b3b677f1d123089069ec74caaf87cba2bd2e20/expr.png\" style=\"display:inline;vertical-align:middle;\" /></a></td></tr>\n",
       "<tr><td>10</td><td>Conditional</td><td>value:&nbsp;13<br>condition:&nbsp;14<br></td><td><a class=\"ProveItLink\" href=\"../fa73f83611db2664ca1304c1d0f8c3e8968d20900/expr.ipynb\"><img src=\"../fa73f83611db2664ca1304c1d0f8c3e8968d20900/expr.png\" style=\"display:inline;vertical-align:middle;\" /></a></td></tr>\n",
       "<tr><td>11</td><td>Operation</td><td>operator:&nbsp;17<br>operand:&nbsp;15<br></td><td><a class=\"ProveItLink\" href=\"../../../__pv_it/2ef7f508b147ba68d62ebb0d9a3f907c002dbc810/expr.ipynb\"><img src=\"../../../__pv_it/2ef7f508b147ba68d62ebb0d9a3f907c002dbc810/expr.png\" style=\"display:inline;vertical-align:middle;\" /></a></td></tr>\n",
       "<tr><td>12</td><td>Operation</td><td>operator:&nbsp;17<br>operand:&nbsp;16<br></td><td><a class=\"ProveItLink\" href=\"../../../__pv_it/eef16f67fc2ba72bc77e95249fb9eb9ff8728adb0/expr.ipynb\"><img src=\"../../../__pv_it/eef16f67fc2ba72bc77e95249fb9eb9ff8728adb0/expr.png\" style=\"display:inline;vertical-align:middle;\" /></a></td></tr>\n",
       "<tr><td>13</td><td>Operation</td><td>operator:&nbsp;17<br>operand:&nbsp;20<br></td><td><a class=\"ProveItLink\" href=\"../../../../__pv_it/95ad89d6afd0f8299cfb9c71df4233504059396c0/expr.ipynb\"><img src=\"../../../../__pv_it/95ad89d6afd0f8299cfb9c71df4233504059396c0/expr.png\" style=\"display:inline;vertical-align:middle;\" /></a></td></tr>\n",
       "<tr><td>14</td><td>Operation</td><td>operator:&nbsp;18<br>operands:&nbsp;19<br></td><td><a class=\"ProveItLink\" href=\"../6a848856aa8448d2c8078b64fa7ec7edda2394a90/expr.ipynb\"><img src=\"../6a848856aa8448d2c8078b64fa7ec7edda2394a90/expr.png\" style=\"display:inline;vertical-align:middle;\" /></a></td></tr>\n",
       "<tr><td>15</td><td>Literal</td><td></td><td><a class=\"ProveItLink\" href=\"../b5b8ce0f03ab68a7c7bb937dfeb4112a686e3cbb0/expr.ipynb\"><img src=\"../b5b8ce0f03ab68a7c7bb937dfeb4112a686e3cbb0/expr.png\" style=\"display:inline;vertical-align:middle;\" /></a></td></tr>\n",
       "<tr><td>16</td><td>Literal</td><td></td><td><a class=\"ProveItLink\" href=\"../83a1ddf0f64531c80e7f41ea6b904214668818b30/expr.ipynb\"><img src=\"../83a1ddf0f64531c80e7f41ea6b904214668818b30/expr.png\" style=\"display:inline;vertical-align:middle;\" /></a></td></tr>\n",
       "<tr><td>17</td><td>Variable</td><td></td><td><a class=\"ProveItLink\" href=\"../../../../__pv_it/390c91a44e60b16c95d2255652741252e8ec8d980/expr.ipynb\"><img src=\"../../../../__pv_it/390c91a44e60b16c95d2255652741252e8ec8d980/expr.png\" style=\"display:inline;vertical-align:middle;\" /></a></td></tr>\n",
       "<tr><td>18</td><td>Literal</td><td></td><td><a class=\"ProveItLink\" href=\"../../../set_theory/membership/__pv_it/7776fc89cb67d0b5b1ec2c0c8e08da5587921ccf0/expr.ipynb\"><img src=\"../../../set_theory/membership/__pv_it/7776fc89cb67d0b5b1ec2c0c8e08da5587921ccf0/expr.png\" style=\"display:inline;vertical-align:middle;\" /></a></td></tr>\n",
       "<tr><td>19</td><td>ExprTuple</td><td>20, 21</td><td><a class=\"ProveItLink\" href=\"../32d96b0c9b68ba131d7735fd70f64d7165aca3440/expr.ipynb\"><img src=\"../32d96b0c9b68ba131d7735fd70f64d7165aca3440/expr.png\" style=\"display:inline;vertical-align:middle;\" /></a></td></tr>\n",
       "<tr><td>20</td><td>Variable</td><td></td><td><a class=\"ProveItLink\" href=\"../../../../__pv_it/d3792d0d8642fdf1cd2a3a9b32c673ee13653de00/expr.ipynb\"><img src=\"../../../../__pv_it/d3792d0d8642fdf1cd2a3a9b32c673ee13653de00/expr.png\" style=\"display:inline;vertical-align:middle;\" /></a></td></tr>\n",
       "<tr><td>21</td><td>Literal</td><td></td><td><a class=\"ProveItLink\" href=\"../a3b387936f605fef1b535be3e1116cca8bbfc91b0/expr.ipynb\"><img src=\"../a3b387936f605fef1b535be3e1116cca8bbfc91b0/expr.png\" style=\"display:inline;vertical-align:middle;\" /></a></td></tr>\n",
       "</table>\n"
      ],
      "text/plain": [
       "0. P -> ([forall_{A in BOOLEANS} P(A)] => (P(TRUE) and P(FALSE)))\n",
       "   core type: Lambda\n",
       "   parameter: 17\n",
       "   body: 1\n",
       "1. [forall_{A in BOOLEANS} P(A)] => (P(TRUE) and P(FALSE))\n",
       "   core type: Operation\n",
       "   operator: 2\n",
       "   operands: 3\n",
       "2. =>\n",
       "   core type: Literal\n",
       "   sub-expressions: \n",
       "3. (forall_{A in BOOLEANS} P(A), P(TRUE) and P(FALSE))\n",
       "   core type: ExprTuple\n",
       "   sub-expressions: 4, 5\n",
       "4. forall_{A in BOOLEANS} P(A)\n",
       "   core type: Operation\n",
       "   operator: 6\n",
       "   operand: 7\n",
       "5. P(TRUE) and P(FALSE)\n",
       "   core type: Operation\n",
       "   operator: 8\n",
       "   operands: 9\n",
       "6. forall\n",
       "   core type: Literal\n",
       "   sub-expressions: \n",
       "7. A -> {P(A) if A in BOOLEANS.\n",
       "   core type: Lambda\n",
       "   parameter: 20\n",
       "   body: 10\n",
       "8. and\n",
       "   core type: Literal\n",
       "   sub-expressions: \n",
       "9. (P(TRUE), P(FALSE))\n",
       "   core type: ExprTuple\n",
       "   sub-expressions: 11, 12\n",
       "10. {P(A) if A in BOOLEANS.\n",
       "    core type: Conditional\n",
       "    value: 13\n",
       "    condition: 14\n",
       "11. P(TRUE)\n",
       "    core type: Operation\n",
       "    operator: 17\n",
       "    operand: 15\n",
       "12. P(FALSE)\n",
       "    core type: Operation\n",
       "    operator: 17\n",
       "    operand: 16\n",
       "13. P(A)\n",
       "    core type: Operation\n",
       "    operator: 17\n",
       "    operand: 20\n",
       "14. A in BOOLEANS\n",
       "    core type: Operation\n",
       "    operator: 18\n",
       "    operands: 19\n",
       "15. TRUE\n",
       "    core type: Literal\n",
       "    sub-expressions: \n",
       "16. FALSE\n",
       "    core type: Literal\n",
       "    sub-expressions: \n",
       "17. P\n",
       "    core type: Variable\n",
       "    sub-expressions: \n",
       "18. in\n",
       "    core type: Literal\n",
       "    sub-expressions: \n",
       "19. (A, BOOLEANS)\n",
       "    core type: ExprTuple\n",
       "    sub-expressions: 20, 21\n",
       "20. A\n",
       "    core type: Variable\n",
       "    sub-expressions: \n",
       "21. BOOLEANS\n",
       "    core type: Literal\n",
       "    sub-expressions: "
      ]
     },
     "execution_count": 5,
     "metadata": {},
     "output_type": "execute_result"
    }
   ],
   "source": [
    "# display the expression information\n",
    "expr.exprInfo()"
   ]
  },
  {
   "cell_type": "code",
   "execution_count": null,
   "metadata": {},
   "outputs": [],
   "source": []
  }
 ],
 "metadata": {
  "kernelspec": {
   "display_name": "Python 3",
   "language": "python",
   "name": "python3"
  },
  "language_info": {
   "codemirror_mode": {
    "name": "ipython",
    "version": 3
   },
   "file_extension": ".py",
   "mimetype": "text/x-python",
   "name": "python",
   "nbconvert_exporter": "python",
   "pygments_lexer": "ipython3",
   "version": "3.7.3"
  }
 },
 "nbformat": 4,
 "nbformat_minor": 1
}
