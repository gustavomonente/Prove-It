{
 "cells": [
  {
   "cell_type": "markdown",
   "metadata": {},
   "source": [
    "Show the Proof\n",
    "========"
   ]
  },
  {
   "cell_type": "code",
   "execution_count": 1,
   "metadata": {},
   "outputs": [
    {
     "data": {
      "text/html": [
       "<table><tr><th>&nbsp;</th><th>step type</th><th>requirements</th><th>statement</th></tr>\n",
       "<tr><td><a name=\"proveit.logic.boolean.5c8a589f806679f22ee97cb0719067365ea047850_step0\">0</a></td><td>generalizaton</td><td><a href=\"#proveit.logic.boolean.5c8a589f806679f22ee97cb0719067365ea047850_step1\">1</a></td><td><span style=\"font-size:20px;\"> <a class=\"ProveItLink\" href=\"proof.ipynb\" style=\"text-decoration: none\">&#x22A2;&nbsp;</a><a class=\"ProveItLink\" href=\"../36fa2c5440061b0b210aefc8e40f8a3abbaaeb680/expr.ipynb\"><img src=\"../36fa2c5440061b0b210aefc8e40f8a3abbaaeb680/expr.png\" style=\"display:inline;vertical-align:middle;\" /></a></span></td></tr>\n",
       "<tr><td><a name=\"proveit.logic.boolean.5c8a589f806679f22ee97cb0719067365ea047850_step1\">1</a></td><td>modus ponens</td><td><a href=\"#proveit.logic.boolean.5c8a589f806679f22ee97cb0719067365ea047850_step2\">2</a>, <a href=\"#proveit.logic.boolean.5c8a589f806679f22ee97cb0719067365ea047850_step3\">3</a></td><td><span style=\"font-size:20px;\"><a class=\"ProveItLink\" href=\"../16e6a7db6ca9ab7e6102240cf0460ccc9f8f635d0/expr.ipynb\"><img src=\"../16e6a7db6ca9ab7e6102240cf0460ccc9f8f635d0/expr.png\" style=\"display:inline;vertical-align:middle;\" /></a> <a class=\"ProveItLink\" href=\"../5cbd792648a773a3165e5deeefaa0d603a08ef5a0/proof.ipynb\" style=\"text-decoration: none\">&#x22A2;&nbsp;</a><a class=\"ProveItLink\" href=\"../../../../__pv_it/95ad89d6afd0f8299cfb9c71df4233504059396c0/expr.ipynb\"><img src=\"../../../../__pv_it/95ad89d6afd0f8299cfb9c71df4233504059396c0/expr.png\" style=\"display:inline;vertical-align:middle;\" /></a></span></td></tr>\n",
       "<tr><td><a name=\"proveit.logic.boolean.5c8a589f806679f22ee97cb0719067365ea047850_step2\">2</a></td><td>instantiation</td><td><a href=\"#proveit.logic.boolean.5c8a589f806679f22ee97cb0719067365ea047850_step4\">4</a>, <a href=\"#proveit.logic.boolean.5c8a589f806679f22ee97cb0719067365ea047850_step8\">8</a>, <a href=\"#proveit.logic.boolean.5c8a589f806679f22ee97cb0719067365ea047850_step9\">9</a>, <a href=\"#proveit.logic.boolean.5c8a589f806679f22ee97cb0719067365ea047850_step5\">5</a></td><td><span style=\"font-size:20px;\"><a class=\"ProveItLink\" href=\"../011d7fc00180cc4e6584a988b7e3c9f476c99f080/expr.ipynb\"><img src=\"../011d7fc00180cc4e6584a988b7e3c9f476c99f080/expr.png\" style=\"display:inline;vertical-align:middle;\" /></a> <a class=\"ProveItLink\" href=\"../08a12b6e51c95d9f12a576ceb8868043c7c6dd100/proof.ipynb\" style=\"text-decoration: none\">&#x22A2;&nbsp;</a><a class=\"ProveItLink\" href=\"../ea1b5ca424e539152b5e606bccea6b9ff6f3adaf0/expr.ipynb\"><img src=\"../ea1b5ca424e539152b5e606bccea6b9ff6f3adaf0/expr.png\" style=\"display:inline;vertical-align:middle;\" /></a></span></td></tr>\n",
       "<tr><td>&nbsp;</td><td colspan=4 style=\"text-align:left\"><span style=\"font-size:20px;\"><a class=\"ProveItLink\" href=\"../../../../__pv_it/390c91a44e60b16c95d2255652741252e8ec8d980/expr.ipynb\"><img src=\"../../../../__pv_it/390c91a44e60b16c95d2255652741252e8ec8d980/expr.png\" style=\"display:inline;vertical-align:middle;\" /></a> : <a class=\"ProveItLink\" href=\"../../../../__pv_it/390c91a44e60b16c95d2255652741252e8ec8d980/expr.ipynb\"><img src=\"../../../../__pv_it/390c91a44e60b16c95d2255652741252e8ec8d980/expr.png\" style=\"display:inline;vertical-align:middle;\" /></a>, <a class=\"ProveItLink\" href=\"../../../../__pv_it/dbe7145e53d9411a5ba89652cbfea9d54e4b581a0/expr.ipynb\"><img src=\"../../../../__pv_it/dbe7145e53d9411a5ba89652cbfea9d54e4b581a0/expr.png\" style=\"display:inline;vertical-align:middle;\" /></a> : <a class=\"ProveItLink\" href=\"../../../../__pv_it/dbe7145e53d9411a5ba89652cbfea9d54e4b581a0/expr.ipynb\"><img src=\"../../../../__pv_it/dbe7145e53d9411a5ba89652cbfea9d54e4b581a0/expr.png\" style=\"display:inline;vertical-align:middle;\" /></a>, <a class=\"ProveItLink\" href=\"../../../../__pv_it/d3792d0d8642fdf1cd2a3a9b32c673ee13653de00/expr.ipynb\"><img src=\"../../../../__pv_it/d3792d0d8642fdf1cd2a3a9b32c673ee13653de00/expr.png\" style=\"display:inline;vertical-align:middle;\" /></a> : <a class=\"ProveItLink\" href=\"../../../../__pv_it/d3792d0d8642fdf1cd2a3a9b32c673ee13653de00/expr.ipynb\"><img src=\"../../../../__pv_it/d3792d0d8642fdf1cd2a3a9b32c673ee13653de00/expr.png\" style=\"display:inline;vertical-align:middle;\" /></a></span></td></tr><tr><td><a name=\"proveit.logic.boolean.5c8a589f806679f22ee97cb0719067365ea047850_step3\">3</a></td><td>assumption</td><td></td><td><span style=\"font-size:20px;\"><a class=\"ProveItLink\" href=\"../7767157ff4107ce1b8938cf39e99f09880ea68700/expr.ipynb\"><img src=\"../7767157ff4107ce1b8938cf39e99f09880ea68700/expr.png\" style=\"display:inline;vertical-align:middle;\" /></a> <a class=\"ProveItLink\" href=\"../416b57e2d62739cc3d034b153c5503cf33c9ae830/proof.ipynb\" style=\"text-decoration: none\">&#x22A2;&nbsp;</a><a class=\"ProveItLink\" href=\"../../../../__pv_it/1b4e5c8297b907e02d82a14bc65d3d7b1ac303650/expr.ipynb\"><img src=\"../../../../__pv_it/1b4e5c8297b907e02d82a14bc65d3d7b1ac303650/expr.png\" style=\"display:inline;vertical-align:middle;\" /></a></span></td></tr>\n",
       "<tr><td><a name=\"proveit.logic.boolean.5c8a589f806679f22ee97cb0719067365ea047850_step4\">4</a></td><td>generalizaton</td><td><a href=\"#proveit.logic.boolean.5c8a589f806679f22ee97cb0719067365ea047850_step6\">6</a></td><td><span style=\"font-size:20px;\"> <a class=\"ProveItLink\" href=\"../4a6f6c742e739e8c9d25ae3e23925ef528dc6e150/proof.ipynb\" style=\"text-decoration: none\">&#x22A2;&nbsp;</a><a class=\"ProveItLink\" href=\"../59fa4ef59d515b787fcd302025f90cbd78f1c9cf0/expr.ipynb\"><img src=\"../59fa4ef59d515b787fcd302025f90cbd78f1c9cf0/expr.png\" style=\"display:inline;vertical-align:middle;\" /></a></span></td></tr>\n",
       "<tr><td><a name=\"proveit.logic.boolean.5c8a589f806679f22ee97cb0719067365ea047850_step5\">5</a></td><td>assumption</td><td></td><td><span style=\"font-size:20px;\"><a class=\"ProveItLink\" href=\"../3900818251551f5b9efd236f309711180172b8500/expr.ipynb\"><img src=\"../3900818251551f5b9efd236f309711180172b8500/expr.png\" style=\"display:inline;vertical-align:middle;\" /></a> <a class=\"ProveItLink\" href=\"../d818dd8bdac198af6b3e0a51d5438a543228dbb60/proof.ipynb\" style=\"text-decoration: none\">&#x22A2;&nbsp;</a><a class=\"ProveItLink\" href=\"../6a848856aa8448d2c8078b64fa7ec7edda2394a90/expr.ipynb\"><img src=\"../6a848856aa8448d2c8078b64fa7ec7edda2394a90/expr.png\" style=\"display:inline;vertical-align:middle;\" /></a></span></td></tr>\n",
       "<tr><td><a name=\"proveit.logic.boolean.5c8a589f806679f22ee97cb0719067365ea047850_step6\">6</a></td><td>instantiation</td><td><a href=\"#proveit.logic.boolean.5c8a589f806679f22ee97cb0719067365ea047850_step7\">7</a>, <a href=\"#proveit.logic.boolean.5c8a589f806679f22ee97cb0719067365ea047850_step8\">8</a>, <a href=\"#proveit.logic.boolean.5c8a589f806679f22ee97cb0719067365ea047850_step9\">9</a></td><td><span style=\"font-size:20px;\"><a class=\"ProveItLink\" href=\"../8c33bbc716c5ee32f9fd8d1a89da1dd7b3f5e2ba0/expr.ipynb\"><img src=\"../8c33bbc716c5ee32f9fd8d1a89da1dd7b3f5e2ba0/expr.png\" style=\"display:inline;vertical-align:middle;\" /></a> <a class=\"ProveItLink\" href=\"../a886835268f2cc41169f221b2091058ffad06eb40/proof.ipynb\" style=\"text-decoration: none\">&#x22A2;&nbsp;</a><a class=\"ProveItLink\" href=\"../e6424fb598bcf292742e77bb73f57ba5f2bea5d40/expr.ipynb\"><img src=\"../e6424fb598bcf292742e77bb73f57ba5f2bea5d40/expr.png\" style=\"display:inline;vertical-align:middle;\" /></a></span></td></tr>\n",
       "<tr><td>&nbsp;</td><td colspan=4 style=\"text-align:left\"><span style=\"font-size:20px;\"><a class=\"ProveItLink\" href=\"../../../../__pv_it/95ad89d6afd0f8299cfb9c71df4233504059396c0/expr.ipynb\"><img src=\"../../../../__pv_it/95ad89d6afd0f8299cfb9c71df4233504059396c0/expr.png\" style=\"display:inline;vertical-align:middle;\" /></a> : <a class=\"ProveItLink\" href=\"../ea1b5ca424e539152b5e606bccea6b9ff6f3adaf0/expr.ipynb\"><img src=\"../ea1b5ca424e539152b5e606bccea6b9ff6f3adaf0/expr.png\" style=\"display:inline;vertical-align:middle;\" /></a></span></td></tr><tr><td><a name=\"proveit.logic.boolean.5c8a589f806679f22ee97cb0719067365ea047850_step7\">7</a></td><td>theorem</td><td></td><td><span style=\"font-size:20px;\"> <a class=\"ProveItLink\" href=\"../../_proofs_/foldForallOverBool.ipynb\" style=\"text-decoration: none\">&#x22A2;&nbsp;</a><a class=\"ProveItLink\" href=\"../c9c452c520f370bac18b5f339b7ec8a2c1939e780/expr.ipynb\"><img src=\"../c9c452c520f370bac18b5f339b7ec8a2c1939e780/expr.png\" style=\"display:inline;vertical-align:middle;\" /></a></span></td></tr>\n",
       "<tr><td>&nbsp;</td><td colspan=4 style-\"text-align:left\"><a class=\"ProveItLink\" href=\"../../_proofs_/foldForallOverBool.ipynb\">proveit.logic.boolean.foldForallOverBool</a></td></tr><tr><td><a name=\"proveit.logic.boolean.5c8a589f806679f22ee97cb0719067365ea047850_step8\">8</a></td><td>assumption</td><td></td><td><span style=\"font-size:20px;\"><a class=\"ProveItLink\" href=\"../9e72812f1c93245b743b81fd00e4319b3cb0c7e70/expr.ipynb\"><img src=\"../9e72812f1c93245b743b81fd00e4319b3cb0c7e70/expr.png\" style=\"display:inline;vertical-align:middle;\" /></a> <a class=\"ProveItLink\" href=\"../8735b1810c061eb8bf0659b651ccb3262efd8c0d0/proof.ipynb\" style=\"text-decoration: none\">&#x22A2;&nbsp;</a><a class=\"ProveItLink\" href=\"../../../__pv_it/2138fb43f4463c7dfebc3221a800fa3fd0a736e30/expr.ipynb\"><img src=\"../../../__pv_it/2138fb43f4463c7dfebc3221a800fa3fd0a736e30/expr.png\" style=\"display:inline;vertical-align:middle;\" /></a></span></td></tr>\n",
       "<tr><td><a name=\"proveit.logic.boolean.5c8a589f806679f22ee97cb0719067365ea047850_step9\">9</a></td><td>assumption</td><td></td><td><span style=\"font-size:20px;\"><a class=\"ProveItLink\" href=\"../1f15f62dbfac5232005ae0cefe2f6a48506e7caa0/expr.ipynb\"><img src=\"../1f15f62dbfac5232005ae0cefe2f6a48506e7caa0/expr.png\" style=\"display:inline;vertical-align:middle;\" /></a> <a class=\"ProveItLink\" href=\"../f73568239ed7e9f2c4a708e7c92b45e3cbcbd5800/proof.ipynb\" style=\"text-decoration: none\">&#x22A2;&nbsp;</a><a class=\"ProveItLink\" href=\"../../../__pv_it/63fc129b54bfbf1c2d070de4ff3ec86d70bc0e040/expr.ipynb\"><img src=\"../../../__pv_it/63fc129b54bfbf1c2d070de4ff3ec86d70bc0e040/expr.png\" style=\"display:inline;vertical-align:middle;\" /></a></span></td></tr>\n",
       "</table>"
      ],
      "text/plain": [
       "<proveit._core_.proof._ShowProof at 0x7f5b8db1acc0>"
      ]
     },
     "execution_count": 1,
     "metadata": {},
     "output_type": "execute_result"
    }
   ],
   "source": [
    "import proveit\n",
    "# Automation is not needed when only showing a stored proof:\n",
    "proveit.defaults.automation = False # This will speed things up.\n",
    "proveit.defaults.inline_pngs = False # Makes files smaller.\n",
    "%show_proof"
   ]
  },
  {
   "cell_type": "code",
   "execution_count": null,
   "metadata": {},
   "outputs": [],
   "source": []
  }
 ],
 "metadata": {
  "kernelspec": {
   "display_name": "Python 3",
   "language": "python",
   "name": "python3"
  },
  "language_info": {
   "codemirror_mode": {
    "name": "ipython",
    "version": 3
   },
   "file_extension": ".py",
   "mimetype": "text/x-python",
   "name": "python",
   "nbconvert_exporter": "python",
   "pygments_lexer": "ipython3",
   "version": "3.7.3"
  }
 },
 "nbformat": 4,
 "nbformat_minor": 1
}
