{
 "cells": [
  {
   "cell_type": "markdown",
   "metadata": {},
   "source": [
    "Expression of type <a class=\"ProveItLink\" href=\"../../../../../../doc/html/api/proveit.ExprTuple.html\">ExprTuple</a>\n",
    "=======================\n",
    "# from context <a class=\"ProveItLink\" href=\"../../_context_.ipynb\">proveit.logic.boolean</a>"
   ]
  },
  {
   "cell_type": "code",
   "execution_count": 1,
   "metadata": {},
   "outputs": [],
   "source": [
    "import proveit\n",
    "# Automation is not needed when building an expression:\n",
    "proveit.defaults.automation = False # This will speed things up.\n",
    "proveit.defaults.inline_pngs = False # Makes files smaller.\n",
    "# import Expression classes needed to build the expression\n",
    "from proveit import ExprTuple\n",
    "from proveit.logic import Equals, FALSE\n",
    "from proveit.logic._common_ import PofFalse, PofTrue"
   ]
  },
  {
   "cell_type": "code",
   "execution_count": 2,
   "metadata": {},
   "outputs": [
    {
     "data": {
      "text/html": [
       "<strong id=\"expr\">expr:</strong> <a class=\"ProveItLink\" href=\"expr.ipynb\"><img src=\"expr.png\" style=\"display:inline;vertical-align:middle;\" /></a><br>"
      ],
      "text/plain": [
       "expr: (P(TRUE) = FALSE, P(FALSE) = FALSE)"
      ]
     },
     "execution_count": 2,
     "metadata": {},
     "output_type": "execute_result"
    }
   ],
   "source": [
    "# build up the expression from sub-expressions\n",
    "expr = ExprTuple(Equals(PofTrue, FALSE), Equals(PofFalse, FALSE))"
   ]
  },
  {
   "cell_type": "code",
   "execution_count": 3,
   "metadata": {},
   "outputs": [
    {
     "name": "stdout",
     "output_type": "stream",
     "text": [
      "Passed sanity check: built 'expr' is the same as the stored Expression.\n"
     ]
    }
   ],
   "source": [
    "# check that the built expression is the same as the stored expression\n",
    "%check_expr"
   ]
  },
  {
   "cell_type": "code",
   "execution_count": 4,
   "metadata": {},
   "outputs": [
    {
     "name": "stdout",
     "output_type": "stream",
     "text": [
      "\\left(P(\\top) = \\bot, P(\\bot) = \\bot\\right)\n"
     ]
    }
   ],
   "source": [
    "# Show the LaTeX representation of the expression for convenience if you need it.\n",
    "print(expr.latex())"
   ]
  },
  {
   "cell_type": "code",
   "execution_count": 5,
   "metadata": {},
   "outputs": [
    {
     "data": {
      "text/html": [
       "<table><tr><th>&nbsp;</th><th>core type</th><th>sub-expressions</th><th>expression</th></tr>\n",
       "<tr><td>0</td><td>ExprTuple</td><td>1, 2</td><td><a class=\"ProveItLink\" href=\"expr.ipynb\"><img src=\"expr.png\" style=\"display:inline;vertical-align:middle;\" /></a></td></tr>\n",
       "<tr><td>1</td><td>Operation</td><td>operator:&nbsp;4<br>operands:&nbsp;3<br></td><td><a class=\"ProveItLink\" href=\"../97b95e8e983ae7224396b57ddb53146efb35b15e0/expr.ipynb\"><img src=\"../97b95e8e983ae7224396b57ddb53146efb35b15e0/expr.png\" style=\"display:inline;vertical-align:middle;\" /></a></td></tr>\n",
       "<tr><td>2</td><td>Operation</td><td>operator:&nbsp;4<br>operands:&nbsp;5<br></td><td><a class=\"ProveItLink\" href=\"../ece8e38051b1b8c707ef98fb623cd192965813500/expr.ipynb\"><img src=\"../ece8e38051b1b8c707ef98fb623cd192965813500/expr.png\" style=\"display:inline;vertical-align:middle;\" /></a></td></tr>\n",
       "<tr><td>3</td><td>ExprTuple</td><td>6, 10</td><td><a class=\"ProveItLink\" href=\"../07347671419308c731fa201e93669ae39a9ebd600/expr.ipynb\"><img src=\"../07347671419308c731fa201e93669ae39a9ebd600/expr.png\" style=\"display:inline;vertical-align:middle;\" /></a></td></tr>\n",
       "<tr><td>4</td><td>Literal</td><td></td><td><a class=\"ProveItLink\" href=\"../../../equality/__pv_it/e16d2caa26a16688b658bdb9c422caf4b84579e10/expr.ipynb\"><img src=\"../../../equality/__pv_it/e16d2caa26a16688b658bdb9c422caf4b84579e10/expr.png\" style=\"display:inline;vertical-align:middle;\" /></a></td></tr>\n",
       "<tr><td>5</td><td>ExprTuple</td><td>7, 10</td><td><a class=\"ProveItLink\" href=\"../34095bee74d02be8db2db1e15fd11536b27663b40/expr.ipynb\"><img src=\"../34095bee74d02be8db2db1e15fd11536b27663b40/expr.png\" style=\"display:inline;vertical-align:middle;\" /></a></td></tr>\n",
       "<tr><td>6</td><td>Operation</td><td>operator:&nbsp;9<br>operand:&nbsp;8<br></td><td><a class=\"ProveItLink\" href=\"../../../__pv_it/2ef7f508b147ba68d62ebb0d9a3f907c002dbc810/expr.ipynb\"><img src=\"../../../__pv_it/2ef7f508b147ba68d62ebb0d9a3f907c002dbc810/expr.png\" style=\"display:inline;vertical-align:middle;\" /></a></td></tr>\n",
       "<tr><td>7</td><td>Operation</td><td>operator:&nbsp;9<br>operand:&nbsp;10<br></td><td><a class=\"ProveItLink\" href=\"../../../__pv_it/eef16f67fc2ba72bc77e95249fb9eb9ff8728adb0/expr.ipynb\"><img src=\"../../../__pv_it/eef16f67fc2ba72bc77e95249fb9eb9ff8728adb0/expr.png\" style=\"display:inline;vertical-align:middle;\" /></a></td></tr>\n",
       "<tr><td>8</td><td>Literal</td><td></td><td><a class=\"ProveItLink\" href=\"../b5b8ce0f03ab68a7c7bb937dfeb4112a686e3cbb0/expr.ipynb\"><img src=\"../b5b8ce0f03ab68a7c7bb937dfeb4112a686e3cbb0/expr.png\" style=\"display:inline;vertical-align:middle;\" /></a></td></tr>\n",
       "<tr><td>9</td><td>Variable</td><td></td><td><a class=\"ProveItLink\" href=\"../../../../__pv_it/390c91a44e60b16c95d2255652741252e8ec8d980/expr.ipynb\"><img src=\"../../../../__pv_it/390c91a44e60b16c95d2255652741252e8ec8d980/expr.png\" style=\"display:inline;vertical-align:middle;\" /></a></td></tr>\n",
       "<tr><td>10</td><td>Literal</td><td></td><td><a class=\"ProveItLink\" href=\"../83a1ddf0f64531c80e7f41ea6b904214668818b30/expr.ipynb\"><img src=\"../83a1ddf0f64531c80e7f41ea6b904214668818b30/expr.png\" style=\"display:inline;vertical-align:middle;\" /></a></td></tr>\n",
       "</table>\n"
      ],
      "text/plain": [
       "0. (P(TRUE) = FALSE, P(FALSE) = FALSE)\n",
       "   core type: ExprTuple\n",
       "   sub-expressions: 1, 2\n",
       "1. P(TRUE) = FALSE\n",
       "   core type: Operation\n",
       "   operator: 4\n",
       "   operands: 3\n",
       "2. P(FALSE) = FALSE\n",
       "   core type: Operation\n",
       "   operator: 4\n",
       "   operands: 5\n",
       "3. (P(TRUE), FALSE)\n",
       "   core type: ExprTuple\n",
       "   sub-expressions: 6, 10\n",
       "4. =\n",
       "   core type: Literal\n",
       "   sub-expressions: \n",
       "5. (P(FALSE), FALSE)\n",
       "   core type: ExprTuple\n",
       "   sub-expressions: 7, 10\n",
       "6. P(TRUE)\n",
       "   core type: Operation\n",
       "   operator: 9\n",
       "   operand: 8\n",
       "7. P(FALSE)\n",
       "   core type: Operation\n",
       "   operator: 9\n",
       "   operand: 10\n",
       "8. TRUE\n",
       "   core type: Literal\n",
       "   sub-expressions: \n",
       "9. P\n",
       "   core type: Variable\n",
       "   sub-expressions: \n",
       "10. FALSE\n",
       "    core type: Literal\n",
       "    sub-expressions: "
      ]
     },
     "execution_count": 5,
     "metadata": {},
     "output_type": "execute_result"
    }
   ],
   "source": [
    "# display the expression information\n",
    "expr.exprInfo()"
   ]
  },
  {
   "cell_type": "code",
   "execution_count": null,
   "metadata": {},
   "outputs": [],
   "source": []
  }
 ],
 "metadata": {
  "kernelspec": {
   "display_name": "Python 3",
   "language": "python",
   "name": "python3"
  },
  "language_info": {
   "codemirror_mode": {
    "name": "ipython",
    "version": 3
   },
   "file_extension": ".py",
   "mimetype": "text/x-python",
   "name": "python",
   "nbconvert_exporter": "python",
   "pygments_lexer": "ipython3",
   "version": "3.7.3"
  }
 },
 "nbformat": 4,
 "nbformat_minor": 1
}
