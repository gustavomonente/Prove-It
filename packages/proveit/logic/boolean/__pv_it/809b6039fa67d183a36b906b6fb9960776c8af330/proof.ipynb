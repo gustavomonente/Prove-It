{
 "cells": [
  {
   "cell_type": "markdown",
   "metadata": {},
   "source": [
    "Show the Proof\n",
    "========"
   ]
  },
  {
   "cell_type": "code",
   "execution_count": 1,
   "metadata": {},
   "outputs": [
    {
     "data": {
      "text/html": [
       "<table><tr><th>&nbsp;</th><th>step type</th><th>requirements</th><th>statement</th></tr>\n",
       "<tr><td><a name=\"proveit.logic.boolean.809b6039fa67d183a36b906b6fb9960776c8af330_step0\">0</a></td><td>instantiation</td><td><a href=\"#proveit.logic.boolean.809b6039fa67d183a36b906b6fb9960776c8af330_step1\">1</a>, <a href=\"#proveit.logic.boolean.809b6039fa67d183a36b906b6fb9960776c8af330_step2\">2</a>, <a href=\"#proveit.logic.boolean.809b6039fa67d183a36b906b6fb9960776c8af330_step3\">3</a></td><td><span style=\"font-size:20px;\"><a class=\"ProveItLink\" href=\"../e5a59be8ab4aaaef5af9a26aec150259935b1ace0/expr.ipynb\"><img src=\"../e5a59be8ab4aaaef5af9a26aec150259935b1ace0/expr.png\" style=\"display:inline;vertical-align:middle;\" /></a> <a class=\"ProveItLink\" href=\"proof.ipynb\" style=\"text-decoration: none\">&#x22A2;&nbsp;</a><a class=\"ProveItLink\" href=\"../../../../__pv_it/d3792d0d8642fdf1cd2a3a9b32c673ee13653de00/expr.ipynb\"><img src=\"../../../../__pv_it/d3792d0d8642fdf1cd2a3a9b32c673ee13653de00/expr.png\" style=\"display:inline;vertical-align:middle;\" /></a></span></td></tr>\n",
       "<tr><td>&nbsp;</td><td colspan=4 style=\"text-align:left\"><span style=\"font-size:20px;\"><a class=\"ProveItLink\" href=\"../../../../__pv_it/d3792d0d8642fdf1cd2a3a9b32c673ee13653de00/expr.ipynb\"><img src=\"../../../../__pv_it/d3792d0d8642fdf1cd2a3a9b32c673ee13653de00/expr.png\" style=\"display:inline;vertical-align:middle;\" /></a> : <a class=\"ProveItLink\" href=\"../../../../__pv_it/d3792d0d8642fdf1cd2a3a9b32c673ee13653de00/expr.ipynb\"><img src=\"../../../../__pv_it/d3792d0d8642fdf1cd2a3a9b32c673ee13653de00/expr.png\" style=\"display:inline;vertical-align:middle;\" /></a></span></td></tr><tr><td><a name=\"proveit.logic.boolean.809b6039fa67d183a36b906b6fb9960776c8af330_step1\">1</a></td><td>theorem</td><td></td><td><span style=\"font-size:20px;\"> <a class=\"ProveItLink\" href=\"../../implication/_proofs_/affirmViaContradiction.ipynb\" style=\"text-decoration: none\">&#x22A2;&nbsp;</a><a class=\"ProveItLink\" href=\"../a3711a66e32ad6bc81601fb7412c99f8aa359afe0/expr.ipynb\"><img src=\"../a3711a66e32ad6bc81601fb7412c99f8aa359afe0/expr.png\" style=\"display:inline;vertical-align:middle;\" /></a></span></td></tr>\n",
       "<tr><td>&nbsp;</td><td colspan=4 style-\"text-align:left\"><a class=\"ProveItLink\" href=\"../../implication/_proofs_/affirmViaContradiction.ipynb\">proveit.logic.boolean.implication.affirmViaContradiction</a></td></tr><tr><td><a name=\"proveit.logic.boolean.809b6039fa67d183a36b906b6fb9960776c8af330_step2\">2</a></td><td>assumption</td><td></td><td><span style=\"font-size:20px;\"><a class=\"ProveItLink\" href=\"../24691600bb1d17fdc591a87dbe69a7a6b4e196f10/expr.ipynb\"><img src=\"../24691600bb1d17fdc591a87dbe69a7a6b4e196f10/expr.png\" style=\"display:inline;vertical-align:middle;\" /></a> <a class=\"ProveItLink\" href=\"../d818dd8bdac198af6b3e0a51d5438a543228dbb60/proof.ipynb\" style=\"text-decoration: none\">&#x22A2;&nbsp;</a><a class=\"ProveItLink\" href=\"../../../../__pv_it/c9b4e272090c87d2bafac1557987ced3b9de5bb70/expr.ipynb\"><img src=\"../../../../__pv_it/c9b4e272090c87d2bafac1557987ced3b9de5bb70/expr.png\" style=\"display:inline;vertical-align:middle;\" /></a></span></td></tr>\n",
       "<tr><td><a name=\"proveit.logic.boolean.809b6039fa67d183a36b906b6fb9960776c8af330_step3\">3</a></td><td>hypothetical reasoning</td><td><a href=\"#proveit.logic.boolean.809b6039fa67d183a36b906b6fb9960776c8af330_step4\">4</a></td><td><span style=\"font-size:20px;\"><a class=\"ProveItLink\" href=\"../4fd22ba77206bc1d7b4d00ec5ea524f1f57ba9a90/expr.ipynb\"><img src=\"../4fd22ba77206bc1d7b4d00ec5ea524f1f57ba9a90/expr.png\" style=\"display:inline;vertical-align:middle;\" /></a> <a class=\"ProveItLink\" href=\"../b671d9b419831ca644787bd7bf729182af7191360/proof.ipynb\" style=\"text-decoration: none\">&#x22A2;&nbsp;</a><a class=\"ProveItLink\" href=\"../7c846d3e8d306c78ae4cc8d62213aa4786a1a59f0/expr.ipynb\"><img src=\"../7c846d3e8d306c78ae4cc8d62213aa4786a1a59f0/expr.png\" style=\"display:inline;vertical-align:middle;\" /></a></span></td></tr>\n",
       "<tr><td><a name=\"proveit.logic.boolean.809b6039fa67d183a36b906b6fb9960776c8af330_step4\">4</a></td><td>instantiation</td><td><a href=\"#proveit.logic.boolean.809b6039fa67d183a36b906b6fb9960776c8af330_step5\">5</a>, <a href=\"#proveit.logic.boolean.809b6039fa67d183a36b906b6fb9960776c8af330_step6\">6</a>, <a href=\"#proveit.logic.boolean.809b6039fa67d183a36b906b6fb9960776c8af330_step7\">7</a></td><td><span style=\"font-size:20px;\"><a class=\"ProveItLink\" href=\"../1f50eb42c90be8009087e73da667258bcb2810750/expr.ipynb\"><img src=\"../1f50eb42c90be8009087e73da667258bcb2810750/expr.png\" style=\"display:inline;vertical-align:middle;\" /></a> <a class=\"ProveItLink\" href=\"../04f38a597eb870de9e046ee54ce13bbf733d02170/proof.ipynb\" style=\"text-decoration: none\">&#x22A2;&nbsp;</a><a class=\"ProveItLink\" href=\"../83a1ddf0f64531c80e7f41ea6b904214668818b30/expr.ipynb\"><img src=\"../83a1ddf0f64531c80e7f41ea6b904214668818b30/expr.png\" style=\"display:inline;vertical-align:middle;\" /></a></span></td></tr>\n",
       "<tr><td>&nbsp;</td><td colspan=4 style=\"text-align:left\"><span style=\"font-size:20px;\"><a class=\"ProveItLink\" href=\"../../../../__pv_it/72df168d2bfb4e0140af90912ebf83b13772060b0/expr.ipynb\"><img src=\"../../../../__pv_it/72df168d2bfb4e0140af90912ebf83b13772060b0/expr.png\" style=\"display:inline;vertical-align:middle;\" /></a> : <a class=\"ProveItLink\" href=\"../../../../__pv_it/d3792d0d8642fdf1cd2a3a9b32c673ee13653de00/expr.ipynb\"><img src=\"../../../../__pv_it/d3792d0d8642fdf1cd2a3a9b32c673ee13653de00/expr.png\" style=\"display:inline;vertical-align:middle;\" /></a>, <a class=\"ProveItLink\" href=\"../../../../__pv_it/c6e291955561f22a0e6708fd793ea93f1c7dbb5d0/expr.ipynb\"><img src=\"../../../../__pv_it/c6e291955561f22a0e6708fd793ea93f1c7dbb5d0/expr.png\" style=\"display:inline;vertical-align:middle;\" /></a> : <a class=\"ProveItLink\" href=\"../83a1ddf0f64531c80e7f41ea6b904214668818b30/expr.ipynb\"><img src=\"../83a1ddf0f64531c80e7f41ea6b904214668818b30/expr.png\" style=\"display:inline;vertical-align:middle;\" /></a></span></td></tr><tr><td><a name=\"proveit.logic.boolean.809b6039fa67d183a36b906b6fb9960776c8af330_step5\">5</a></td><td>theorem</td><td></td><td><span style=\"font-size:20px;\"> <a class=\"ProveItLink\" href=\"../../../equality/_proofs_/notEqualsContradiction.ipynb\" style=\"text-decoration: none\">&#x22A2;&nbsp;</a><a class=\"ProveItLink\" href=\"../cac5511ed1b5419ffb57b60827fedf0a4ab4778f0/expr.ipynb\"><img src=\"../cac5511ed1b5419ffb57b60827fedf0a4ab4778f0/expr.png\" style=\"display:inline;vertical-align:middle;\" /></a></span></td></tr>\n",
       "<tr><td>&nbsp;</td><td colspan=4 style-\"text-align:left\"><a class=\"ProveItLink\" href=\"../../../equality/_proofs_/notEqualsContradiction.ipynb\">proveit.logic.equality.notEqualsContradiction</a></td></tr><tr><td><a name=\"proveit.logic.boolean.809b6039fa67d183a36b906b6fb9960776c8af330_step6\">6</a></td><td>instantiation</td><td><a href=\"#proveit.logic.boolean.809b6039fa67d183a36b906b6fb9960776c8af330_step8\">8</a>, <a href=\"#proveit.logic.boolean.809b6039fa67d183a36b906b6fb9960776c8af330_step9\">9</a></td><td><span style=\"font-size:20px;\"><a class=\"ProveItLink\" href=\"../7a96ead17e54cde96c2fd834dc5be256e7999db50/expr.ipynb\"><img src=\"../7a96ead17e54cde96c2fd834dc5be256e7999db50/expr.png\" style=\"display:inline;vertical-align:middle;\" /></a> <a class=\"ProveItLink\" href=\"../9a4b893eb057f7aaa4c1c1b0cbb282af56ec779f0/proof.ipynb\" style=\"text-decoration: none\">&#x22A2;&nbsp;</a><a class=\"ProveItLink\" href=\"../0def81db17c6e89af529eed909fd4297624085f10/expr.ipynb\"><img src=\"../0def81db17c6e89af529eed909fd4297624085f10/expr.png\" style=\"display:inline;vertical-align:middle;\" /></a></span></td></tr>\n",
       "<tr><td>&nbsp;</td><td colspan=4 style=\"text-align:left\"><span style=\"font-size:20px;\"><a class=\"ProveItLink\" href=\"../../../../__pv_it/d3792d0d8642fdf1cd2a3a9b32c673ee13653de00/expr.ipynb\"><img src=\"../../../../__pv_it/d3792d0d8642fdf1cd2a3a9b32c673ee13653de00/expr.png\" style=\"display:inline;vertical-align:middle;\" /></a> : <a class=\"ProveItLink\" href=\"../../../../__pv_it/d3792d0d8642fdf1cd2a3a9b32c673ee13653de00/expr.ipynb\"><img src=\"../../../../__pv_it/d3792d0d8642fdf1cd2a3a9b32c673ee13653de00/expr.png\" style=\"display:inline;vertical-align:middle;\" /></a></span></td></tr><tr><td><a name=\"proveit.logic.boolean.809b6039fa67d183a36b906b6fb9960776c8af330_step7\">7</a></td><td>assumption</td><td></td><td><span style=\"font-size:20px;\"><a class=\"ProveItLink\" href=\"../4fd22ba77206bc1d7b4d00ec5ea524f1f57ba9a90/expr.ipynb\"><img src=\"../4fd22ba77206bc1d7b4d00ec5ea524f1f57ba9a90/expr.png\" style=\"display:inline;vertical-align:middle;\" /></a> <a class=\"ProveItLink\" href=\"../568eb827fbdb8a4bc2a2a8164ed0e1ebfd3f668a0/proof.ipynb\" style=\"text-decoration: none\">&#x22A2;&nbsp;</a><a class=\"ProveItLink\" href=\"../../../../__pv_it/d21016aa552d3ffae9af083431e6810d4060eb0d0/expr.ipynb\"><img src=\"../../../../__pv_it/d21016aa552d3ffae9af083431e6810d4060eb0d0/expr.png\" style=\"display:inline;vertical-align:middle;\" /></a></span></td></tr>\n",
       "<tr><td><a name=\"proveit.logic.boolean.809b6039fa67d183a36b906b6fb9960776c8af330_step8\">8</a></td><td>axiom</td><td></td><td><span style=\"font-size:20px;\"> <a class=\"ProveItLink\" href=\"../../negation/_axioms_.ipynb#negationElim\" style=\"text-decoration: none\">&#x22A2;&nbsp;</a><a class=\"ProveItLink\" href=\"../9d56c793680eac611889c147e0457f00c34b13f20/expr.ipynb\"><img src=\"../9d56c793680eac611889c147e0457f00c34b13f20/expr.png\" style=\"display:inline;vertical-align:middle;\" /></a></span></td></tr>\n",
       "<tr><td>&nbsp;</td><td colspan=4 style-\"text-align:left\"><a class=\"ProveItLink\" href=\"../../negation/_axioms_.ipynb#negationElim\">proveit.logic.boolean.negation.negationElim</a></td></tr><tr><td><a name=\"proveit.logic.boolean.809b6039fa67d183a36b906b6fb9960776c8af330_step9\">9</a></td><td>assumption</td><td></td><td><span style=\"font-size:20px;\"><a class=\"ProveItLink\" href=\"../7a96ead17e54cde96c2fd834dc5be256e7999db50/expr.ipynb\"><img src=\"../7a96ead17e54cde96c2fd834dc5be256e7999db50/expr.png\" style=\"display:inline;vertical-align:middle;\" /></a> <a class=\"ProveItLink\" href=\"../21c0abe84b58cafe3e37aff9ff0267970c1634470/proof.ipynb\" style=\"text-decoration: none\">&#x22A2;&nbsp;</a><a class=\"ProveItLink\" href=\"../98d4bc94e268eb5bd1dd8957b0f9355a80140e9b0/expr.ipynb\"><img src=\"../98d4bc94e268eb5bd1dd8957b0f9355a80140e9b0/expr.png\" style=\"display:inline;vertical-align:middle;\" /></a></span></td></tr>\n",
       "</table>"
      ],
      "text/plain": [
       "<proveit._core_.proof._ShowProof at 0x7f5bb033c160>"
      ]
     },
     "execution_count": 1,
     "metadata": {},
     "output_type": "execute_result"
    }
   ],
   "source": [
    "import proveit\n",
    "# Automation is not needed when only showing a stored proof:\n",
    "proveit.defaults.automation = False # This will speed things up.\n",
    "proveit.defaults.inline_pngs = False # Makes files smaller.\n",
    "%show_proof"
   ]
  },
  {
   "cell_type": "code",
   "execution_count": null,
   "metadata": {},
   "outputs": [],
   "source": []
  }
 ],
 "metadata": {
  "kernelspec": {
   "display_name": "Python 3",
   "language": "python",
   "name": "python3"
  },
  "language_info": {
   "codemirror_mode": {
    "name": "ipython",
    "version": 3
   },
   "file_extension": ".py",
   "mimetype": "text/x-python",
   "name": "python",
   "nbconvert_exporter": "python",
   "pygments_lexer": "ipython3",
   "version": "3.7.3"
  }
 },
 "nbformat": 4,
 "nbformat_minor": 1
}
