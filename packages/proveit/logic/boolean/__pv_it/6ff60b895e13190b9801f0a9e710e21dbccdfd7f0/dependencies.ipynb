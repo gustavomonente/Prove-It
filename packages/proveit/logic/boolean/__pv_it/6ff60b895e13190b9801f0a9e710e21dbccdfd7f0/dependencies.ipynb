{
 "cells": [
  {
   "cell_type": "markdown",
   "metadata": {},
   "source": [
    "Axiom Dependencies\n",
    "=======================\n",
    "\n",
    "## <a class=\"ProveItLink\" href=\"../../_context_.ipynb\">proveit.logic.boolean</a>.<a class=\"ProveItLink\" href=\"../../_axioms_.ipynb#eqTrueElim\">eqTrueElim</a> \n"
   ]
  },
  {
   "cell_type": "code",
   "execution_count": 1,
   "metadata": {},
   "outputs": [],
   "source": [
    "import proveit\n",
    "# Automation is not needed when querying dependencies:\n",
    "proveit.defaults.automation = False # This will speed things up.\n",
    "proveit.defaults.inline_pngs = False # Makes files smaller.\n",
    "from proveit.logic.boolean._axioms_ import eqTrueElim"
   ]
  },
  {
   "cell_type": "code",
   "execution_count": 2,
   "metadata": {},
   "outputs": [
    {
     "data": {
      "text/html": [
       "<h3>Theorems that depend directly on eqTrueElim</h3>"
      ],
      "text/plain": [
       "<IPython.core.display.HTML object>"
      ]
     },
     "metadata": {},
     "output_type": "display_data"
    },
    {
     "data": {
      "text/html": [
       "<dl>"
      ],
      "text/plain": [
       "<IPython.core.display.HTML object>"
      ]
     },
     "metadata": {},
     "output_type": "display_data"
    },
    {
     "data": {
      "text/html": [
       "<dt><a class=\"ProveItLink\" href=\"../../conjunction/_proofs_/trueAndTrue.ipynb\">proveit.logic.boolean.conjunction.trueAndTrue</a></dt><dd><a class=\"ProveItLink\" href=\"../../conjunction/__pv_it/5483805b01567d7bd159036b48e43639e7ca67500/expr.ipynb\"><img src=\"../../conjunction/__pv_it/5483805b01567d7bd159036b48e43639e7ca67500/expr.png\" style=\"display:inline;vertical-align:middle;\" /></a></dd>"
      ],
      "text/plain": [
       "<IPython.core.display.HTML object>"
      ]
     },
     "metadata": {},
     "output_type": "display_data"
    },
    {
     "data": {
      "text/html": [
       "<dt><a class=\"ProveItLink\" href=\"../../disjunction/_proofs_/demorgansLawAndToOrBinExplicit.ipynb\">proveit.logic.boolean.disjunction.demorgansLawAndToOrBinExplicit</a></dt><dd><a class=\"ProveItLink\" href=\"../../disjunction/__pv_it/7a274a0bdefa1bb073d5a6de0bebdab7c77bae8e0/expr.ipynb\"><img src=\"../../disjunction/__pv_it/7a274a0bdefa1bb073d5a6de0bebdab7c77bae8e0/expr.png\" style=\"display:inline;vertical-align:middle;\" /></a></dd>"
      ],
      "text/plain": [
       "<IPython.core.display.HTML object>"
      ]
     },
     "metadata": {},
     "output_type": "display_data"
    },
    {
     "data": {
      "text/html": [
       "<dt><a class=\"ProveItLink\" href=\"../../disjunction/_proofs_/falseOrTrue.ipynb\">proveit.logic.boolean.disjunction.falseOrTrue</a></dt><dd><a class=\"ProveItLink\" href=\"../../disjunction/__pv_it/8124e15701680a1378c57092c649e314fb9f14170/expr.ipynb\"><img src=\"../../disjunction/__pv_it/8124e15701680a1378c57092c649e314fb9f14170/expr.png\" style=\"display:inline;vertical-align:middle;\" /></a></dd>"
      ],
      "text/plain": [
       "<IPython.core.display.HTML object>"
      ]
     },
     "metadata": {},
     "output_type": "display_data"
    },
    {
     "data": {
      "text/html": [
       "<dt><a class=\"ProveItLink\" href=\"../../disjunction/_proofs_/orIfLeft.ipynb\">proveit.logic.boolean.disjunction.orIfLeft</a></dt><dd><a class=\"ProveItLink\" href=\"../../disjunction/__pv_it/b21ca2e774e031059de7f462560469f0c974dccf0/expr.ipynb\"><img src=\"../../disjunction/__pv_it/b21ca2e774e031059de7f462560469f0c974dccf0/expr.png\" style=\"display:inline;vertical-align:middle;\" /></a></dd>"
      ],
      "text/plain": [
       "<IPython.core.display.HTML object>"
      ]
     },
     "metadata": {},
     "output_type": "display_data"
    },
    {
     "data": {
      "text/html": [
       "<dt><a class=\"ProveItLink\" href=\"../../disjunction/_proofs_/orIfRight.ipynb\">proveit.logic.boolean.disjunction.orIfRight</a></dt><dd><a class=\"ProveItLink\" href=\"../../disjunction/__pv_it/0b55a746a099118e8fd67320d6452aa310e7d7890/expr.ipynb\"><img src=\"../../disjunction/__pv_it/0b55a746a099118e8fd67320d6452aa310e7d7890/expr.png\" style=\"display:inline;vertical-align:middle;\" /></a></dd>"
      ],
      "text/plain": [
       "<IPython.core.display.HTML object>"
      ]
     },
     "metadata": {},
     "output_type": "display_data"
    },
    {
     "data": {
      "text/html": [
       "<dt><a class=\"ProveItLink\" href=\"../../disjunction/_proofs_/singularConstructiveDilemma.ipynb\">proveit.logic.boolean.disjunction.singularConstructiveDilemma</a></dt><dd><a class=\"ProveItLink\" href=\"../../disjunction/__pv_it/86866f15439b7380fb1e88bc407d59183b4cebbc0/expr.ipynb\"><img src=\"../../disjunction/__pv_it/86866f15439b7380fb1e88bc407d59183b4cebbc0/expr.png\" style=\"display:inline;vertical-align:middle;\" /></a></dd>"
      ],
      "text/plain": [
       "<IPython.core.display.HTML object>"
      ]
     },
     "metadata": {},
     "output_type": "display_data"
    },
    {
     "data": {
      "text/html": [
       "<dt><a class=\"ProveItLink\" href=\"../../disjunction/_proofs_/trueOrFalse.ipynb\">proveit.logic.boolean.disjunction.trueOrFalse</a></dt><dd><a class=\"ProveItLink\" href=\"../../disjunction/__pv_it/39d2e82cf983c93e173d1434bd96b807f88bf65e0/expr.ipynb\"><img src=\"../../disjunction/__pv_it/39d2e82cf983c93e173d1434bd96b807f88bf65e0/expr.png\" style=\"display:inline;vertical-align:middle;\" /></a></dd>"
      ],
      "text/plain": [
       "<IPython.core.display.HTML object>"
      ]
     },
     "metadata": {},
     "output_type": "display_data"
    },
    {
     "data": {
      "text/html": [
       "<dt><a class=\"ProveItLink\" href=\"../../disjunction/_proofs_/trueOrTrue.ipynb\">proveit.logic.boolean.disjunction.trueOrTrue</a></dt><dd><a class=\"ProveItLink\" href=\"../../disjunction/__pv_it/4adbac21b979622f54a8418e5a9d4d51473be0000/expr.ipynb\"><img src=\"../../disjunction/__pv_it/4adbac21b979622f54a8418e5a9d4d51473be0000/expr.png\" style=\"display:inline;vertical-align:middle;\" /></a></dd>"
      ],
      "text/plain": [
       "<IPython.core.display.HTML object>"
      ]
     },
     "metadata": {},
     "output_type": "display_data"
    },
    {
     "data": {
      "text/html": [
       "<dt><a class=\"ProveItLink\" href=\"../../implication/_proofs_/notTrueViaContradiction.ipynb\">proveit.logic.boolean.implication.notTrueViaContradiction</a></dt><dd><a class=\"ProveItLink\" href=\"../../implication/__pv_it/792ea4d452aa85714d7ac07aa0f66c7d7fd9022f0/expr.ipynb\"><img src=\"../../implication/__pv_it/792ea4d452aa85714d7ac07aa0f66c7d7fd9022f0/expr.png\" style=\"display:inline;vertical-align:middle;\" /></a></dd>"
      ],
      "text/plain": [
       "<IPython.core.display.HTML object>"
      ]
     },
     "metadata": {},
     "output_type": "display_data"
    },
    {
     "data": {
      "text/html": [
       "<dt><a class=\"ProveItLink\" href=\"../../_proofs_/unfoldInBool.ipynb\">proveit.logic.boolean.unfoldInBool</a></dt><dd><a class=\"ProveItLink\" href=\"../bbc5e2fcc1150e79da44b28fc9b1c538b74c9f1d0/expr.ipynb\"><img src=\"../bbc5e2fcc1150e79da44b28fc9b1c538b74c9f1d0/expr.png\" style=\"display:inline;vertical-align:middle;\" /></a></dd>"
      ],
      "text/plain": [
       "<IPython.core.display.HTML object>"
      ]
     },
     "metadata": {},
     "output_type": "display_data"
    },
    {
     "data": {
      "text/html": [
       "<dt><a class=\"ProveItLink\" href=\"../../../equality/_proofs_/subLeftSideInto.ipynb\">proveit.logic.equality.subLeftSideInto</a></dt><dd><a class=\"ProveItLink\" href=\"../../../equality/__pv_it/c544cc2018fec56ce96b530fc022bf6c30a3d2a00/expr.ipynb\"><img src=\"../../../equality/__pv_it/c544cc2018fec56ce96b530fc022bf6c30a3d2a00/expr.png\" style=\"display:inline;vertical-align:middle;\" /></a></dd>"
      ],
      "text/plain": [
       "<IPython.core.display.HTML object>"
      ]
     },
     "metadata": {},
     "output_type": "display_data"
    },
    {
     "data": {
      "text/html": [
       "</dl>"
      ],
      "text/plain": [
       "<IPython.core.display.HTML object>"
      ]
     },
     "metadata": {},
     "output_type": "display_data"
    }
   ],
   "source": [
    "%dependencies eqTrueElim"
   ]
  }
 ],
 "metadata": {
  "kernelspec": {
   "display_name": "Python 3",
   "language": "python",
   "name": "python3"
  },
  "language_info": {
   "codemirror_mode": {
    "name": "ipython",
    "version": 3
   },
   "file_extension": ".py",
   "mimetype": "text/x-python",
   "name": "python",
   "nbconvert_exporter": "python",
   "pygments_lexer": "ipython3",
   "version": "3.7.3"
  }
 },
 "nbformat": 4,
 "nbformat_minor": 1
}
