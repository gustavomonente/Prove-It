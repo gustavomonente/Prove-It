{
 "cells": [
  {
   "cell_type": "markdown",
   "metadata": {},
   "source": [
    "Show the Proof\n",
    "========"
   ]
  },
  {
   "cell_type": "code",
   "execution_count": 1,
   "metadata": {},
   "outputs": [
    {
     "data": {
      "text/html": [
       "<table><tr><th>&nbsp;</th><th>step type</th><th>requirements</th><th>statement</th></tr>\n",
       "<tr><td><a name=\"proveit.logic.boolean.b4e7258b34f5c47f7c9ff3514a0af82a307929ad0_step0\">0</a></td><td>instantiation</td><td><a href=\"#proveit.logic.boolean.b4e7258b34f5c47f7c9ff3514a0af82a307929ad0_step1\">1</a>, <a href=\"#proveit.logic.boolean.b4e7258b34f5c47f7c9ff3514a0af82a307929ad0_step2\">2</a></td><td><span style=\"font-size:20px;\"> <a class=\"ProveItLink\" href=\"proof.ipynb\" style=\"text-decoration: none\">&#x22A2;&nbsp;</a><a class=\"ProveItLink\" href=\"../54ab6b8ddaa531831870dd80fb2d17566675a46a0/expr.ipynb\"><img src=\"../54ab6b8ddaa531831870dd80fb2d17566675a46a0/expr.png\" style=\"display:inline;vertical-align:middle;\" /></a></span></td></tr>\n",
       "<tr><td>&nbsp;</td><td colspan=4 style=\"text-align:left\"><span style=\"font-size:20px;\"><a class=\"ProveItLink\" href=\"../../../../__pv_it/d3792d0d8642fdf1cd2a3a9b32c673ee13653de00/expr.ipynb\"><img src=\"../../../../__pv_it/d3792d0d8642fdf1cd2a3a9b32c673ee13653de00/expr.png\" style=\"display:inline;vertical-align:middle;\" /></a> : <a class=\"ProveItLink\" href=\"../b5b8ce0f03ab68a7c7bb937dfeb4112a686e3cbb0/expr.ipynb\"><img src=\"../b5b8ce0f03ab68a7c7bb937dfeb4112a686e3cbb0/expr.png\" style=\"display:inline;vertical-align:middle;\" /></a></span></td></tr><tr><td><a name=\"proveit.logic.boolean.b4e7258b34f5c47f7c9ff3514a0af82a307929ad0_step1\">1</a></td><td>theorem</td><td></td><td><span style=\"font-size:20px;\"> <a class=\"ProveItLink\" href=\"../../_proofs_/foldInBool.ipynb\" style=\"text-decoration: none\">&#x22A2;&nbsp;</a><a class=\"ProveItLink\" href=\"../4a4680c976a706ef68e9f484bdbd57d68707e32e0/expr.ipynb\"><img src=\"../4a4680c976a706ef68e9f484bdbd57d68707e32e0/expr.png\" style=\"display:inline;vertical-align:middle;\" /></a></span></td></tr>\n",
       "<tr><td>&nbsp;</td><td colspan=4 style-\"text-align:left\"><a class=\"ProveItLink\" href=\"../../_proofs_/foldInBool.ipynb\">proveit.logic.boolean.foldInBool</a></td></tr><tr><td><a name=\"proveit.logic.boolean.b4e7258b34f5c47f7c9ff3514a0af82a307929ad0_step2\">2</a></td><td>instantiation</td><td><a href=\"#proveit.logic.boolean.b4e7258b34f5c47f7c9ff3514a0af82a307929ad0_step3\">3</a>, <a href=\"#proveit.logic.boolean.b4e7258b34f5c47f7c9ff3514a0af82a307929ad0_step4\">4</a>, <a href=\"#proveit.logic.boolean.b4e7258b34f5c47f7c9ff3514a0af82a307929ad0_step5\">5</a></td><td><span style=\"font-size:20px;\"> <a class=\"ProveItLink\" href=\"../3f87eb75d1b4ec69640d2c55a8ae95c695f9de490/proof.ipynb\" style=\"text-decoration: none\">&#x22A2;&nbsp;</a><a class=\"ProveItLink\" href=\"../a3edde431209092f55b64566b3167ba19cfecb5c0/expr.ipynb\"><img src=\"../a3edde431209092f55b64566b3167ba19cfecb5c0/expr.png\" style=\"display:inline;vertical-align:middle;\" /></a></span></td></tr>\n",
       "<tr><td>&nbsp;</td><td colspan=4 style=\"text-align:left\"><span style=\"font-size:20px;\"><a class=\"ProveItLink\" href=\"../6adf35e534b0f74f25bdd03c03dfd88a84b3ace50/expr.ipynb\"><img src=\"../6adf35e534b0f74f25bdd03c03dfd88a84b3ace50/expr.png\" style=\"display:inline;vertical-align:middle;\" /></a> : <a class=\"ProveItLink\" href=\"../0cf8460f0b737a7e85e949992701ac0d6c1558c10/expr.ipynb\"><img src=\"../0cf8460f0b737a7e85e949992701ac0d6c1558c10/expr.png\" style=\"display:inline;vertical-align:middle;\" /></a>, <a class=\"ProveItLink\" href=\"../../../../__pv_it/72df168d2bfb4e0140af90912ebf83b13772060b0/expr.ipynb\"><img src=\"../../../../__pv_it/72df168d2bfb4e0140af90912ebf83b13772060b0/expr.png\" style=\"display:inline;vertical-align:middle;\" /></a> : <a class=\"ProveItLink\" href=\"../d63940e812e61b4659508728333df164ab42ca580/expr.ipynb\"><img src=\"../d63940e812e61b4659508728333df164ab42ca580/expr.png\" style=\"display:inline;vertical-align:middle;\" /></a></span></td></tr><tr><td><a name=\"proveit.logic.boolean.b4e7258b34f5c47f7c9ff3514a0af82a307929ad0_step3\">3</a></td><td>theorem</td><td></td><td><span style=\"font-size:20px;\"> <a class=\"ProveItLink\" href=\"../../../equality/_proofs_/substituteFalsehood.ipynb\" style=\"text-decoration: none\">&#x22A2;&nbsp;</a><a class=\"ProveItLink\" href=\"../348d858c756ab9acae5de52d22ac11e60cb5efcf0/expr.ipynb\"><img src=\"../348d858c756ab9acae5de52d22ac11e60cb5efcf0/expr.png\" style=\"display:inline;vertical-align:middle;\" /></a></span></td></tr>\n",
       "<tr><td>&nbsp;</td><td colspan=4 style-\"text-align:left\"><a class=\"ProveItLink\" href=\"../../../equality/_proofs_/substituteFalsehood.ipynb\">proveit.logic.equality.substituteFalsehood</a></td></tr><tr><td><a name=\"proveit.logic.boolean.b4e7258b34f5c47f7c9ff3514a0af82a307929ad0_step4\">4</a></td><td>instantiation</td><td><a href=\"#proveit.logic.boolean.b4e7258b34f5c47f7c9ff3514a0af82a307929ad0_step6\">6</a>, <a href=\"#proveit.logic.boolean.b4e7258b34f5c47f7c9ff3514a0af82a307929ad0_step7\">7</a>, <a href=\"#proveit.logic.boolean.b4e7258b34f5c47f7c9ff3514a0af82a307929ad0_step8\">8</a></td><td><span style=\"font-size:20px;\"> <a class=\"ProveItLink\" href=\"../d65e8dbe4637bc3bc7211693252aa5e95eafc06b0/proof.ipynb\" style=\"text-decoration: none\">&#x22A2;&nbsp;</a><a class=\"ProveItLink\" href=\"../1538496633b6408bdbec0d72a6023cfe765e1f720/expr.ipynb\"><img src=\"../1538496633b6408bdbec0d72a6023cfe765e1f720/expr.png\" style=\"display:inline;vertical-align:middle;\" /></a></span></td></tr>\n",
       "<tr><td>&nbsp;</td><td colspan=4 style=\"text-align:left\"><span style=\"font-size:20px;\"><a class=\"ProveItLink\" href=\"../6adf35e534b0f74f25bdd03c03dfd88a84b3ace50/expr.ipynb\"><img src=\"../6adf35e534b0f74f25bdd03c03dfd88a84b3ace50/expr.png\" style=\"display:inline;vertical-align:middle;\" /></a> : <a class=\"ProveItLink\" href=\"../450562489698bfe2d7d810587d9b81c35d3c52360/expr.ipynb\"><img src=\"../450562489698bfe2d7d810587d9b81c35d3c52360/expr.png\" style=\"display:inline;vertical-align:middle;\" /></a>, <a class=\"ProveItLink\" href=\"../../../../__pv_it/72df168d2bfb4e0140af90912ebf83b13772060b0/expr.ipynb\"><img src=\"../../../../__pv_it/72df168d2bfb4e0140af90912ebf83b13772060b0/expr.png\" style=\"display:inline;vertical-align:middle;\" /></a> : <a class=\"ProveItLink\" href=\"../9698afa151fdc61de8015cfead2d19a50e8321c20/expr.ipynb\"><img src=\"../9698afa151fdc61de8015cfead2d19a50e8321c20/expr.png\" style=\"display:inline;vertical-align:middle;\" /></a></span></td></tr><tr><td><a name=\"proveit.logic.boolean.b4e7258b34f5c47f7c9ff3514a0af82a307929ad0_step5\">5</a></td><td>instantiation</td><td><a href=\"#proveit.logic.boolean.b4e7258b34f5c47f7c9ff3514a0af82a307929ad0_step9\">9</a>, <a href=\"#proveit.logic.boolean.b4e7258b34f5c47f7c9ff3514a0af82a307929ad0_step10\">10</a></td><td><span style=\"font-size:20px;\"> <a class=\"ProveItLink\" href=\"../5d050033d5e7471e7e44b65a8ad5e8d09de7266e0/proof.ipynb\" style=\"text-decoration: none\">&#x22A2;&nbsp;</a><a class=\"ProveItLink\" href=\"../84468e8701c63e0afb45cb42ac788005cf79a5070/expr.ipynb\"><img src=\"../84468e8701c63e0afb45cb42ac788005cf79a5070/expr.png\" style=\"display:inline;vertical-align:middle;\" /></a></span></td></tr>\n",
       "<tr><td>&nbsp;</td><td colspan=4 style=\"text-align:left\"><span style=\"font-size:20px;\"><a class=\"ProveItLink\" href=\"../../../../__pv_it/72df168d2bfb4e0140af90912ebf83b13772060b0/expr.ipynb\"><img src=\"../../../../__pv_it/72df168d2bfb4e0140af90912ebf83b13772060b0/expr.png\" style=\"display:inline;vertical-align:middle;\" /></a> : <a class=\"ProveItLink\" href=\"../b5b8ce0f03ab68a7c7bb937dfeb4112a686e3cbb0/expr.ipynb\"><img src=\"../b5b8ce0f03ab68a7c7bb937dfeb4112a686e3cbb0/expr.png\" style=\"display:inline;vertical-align:middle;\" /></a>, <a class=\"ProveItLink\" href=\"../../../../__pv_it/c6e291955561f22a0e6708fd793ea93f1c7dbb5d0/expr.ipynb\"><img src=\"../../../../__pv_it/c6e291955561f22a0e6708fd793ea93f1c7dbb5d0/expr.png\" style=\"display:inline;vertical-align:middle;\" /></a> : <a class=\"ProveItLink\" href=\"../83a1ddf0f64531c80e7f41ea6b904214668818b30/expr.ipynb\"><img src=\"../83a1ddf0f64531c80e7f41ea6b904214668818b30/expr.png\" style=\"display:inline;vertical-align:middle;\" /></a></span></td></tr><tr><td><a name=\"proveit.logic.boolean.b4e7258b34f5c47f7c9ff3514a0af82a307929ad0_step6\">6</a></td><td>theorem</td><td></td><td><span style=\"font-size:20px;\"> <a class=\"ProveItLink\" href=\"../../../equality/_proofs_/substituteTruth.ipynb\" style=\"text-decoration: none\">&#x22A2;&nbsp;</a><a class=\"ProveItLink\" href=\"../dfeec75a769fe058b2bcf89ef038ee6d6f1fefb00/expr.ipynb\"><img src=\"../dfeec75a769fe058b2bcf89ef038ee6d6f1fefb00/expr.png\" style=\"display:inline;vertical-align:middle;\" /></a></span></td></tr>\n",
       "<tr><td>&nbsp;</td><td colspan=4 style-\"text-align:left\"><a class=\"ProveItLink\" href=\"../../../equality/_proofs_/substituteTruth.ipynb\">proveit.logic.equality.substituteTruth</a></td></tr><tr><td><a name=\"proveit.logic.boolean.b4e7258b34f5c47f7c9ff3514a0af82a307929ad0_step7\">7</a></td><td>theorem</td><td></td><td><span style=\"font-size:20px;\"> <a class=\"ProveItLink\" href=\"../../disjunction/_proofs_/trueOrFalse.ipynb\" style=\"text-decoration: none\">&#x22A2;&nbsp;</a><a class=\"ProveItLink\" href=\"../24ed26694f1cf9c15bd677246f1dd0cec392fca60/expr.ipynb\"><img src=\"../24ed26694f1cf9c15bd677246f1dd0cec392fca60/expr.png\" style=\"display:inline;vertical-align:middle;\" /></a></span></td></tr>\n",
       "<tr><td>&nbsp;</td><td colspan=4 style-\"text-align:left\"><a class=\"ProveItLink\" href=\"../../disjunction/_proofs_/trueOrFalse.ipynb\">proveit.logic.boolean.disjunction.trueOrFalse</a></td></tr><tr><td><a name=\"proveit.logic.boolean.b4e7258b34f5c47f7c9ff3514a0af82a307929ad0_step8\">8</a></td><td>theorem</td><td></td><td><span style=\"font-size:20px;\"> <a class=\"ProveItLink\" href=\"../../_proofs_/trueEqTrue.ipynb\" style=\"text-decoration: none\">&#x22A2;&nbsp;</a><a class=\"ProveItLink\" href=\"../9698afa151fdc61de8015cfead2d19a50e8321c20/expr.ipynb\"><img src=\"../9698afa151fdc61de8015cfead2d19a50e8321c20/expr.png\" style=\"display:inline;vertical-align:middle;\" /></a></span></td></tr>\n",
       "<tr><td>&nbsp;</td><td colspan=4 style-\"text-align:left\"><a class=\"ProveItLink\" href=\"../../_proofs_/trueEqTrue.ipynb\">proveit.logic.boolean.trueEqTrue</a></td></tr><tr><td><a name=\"proveit.logic.boolean.b4e7258b34f5c47f7c9ff3514a0af82a307929ad0_step9\">9</a></td><td>theorem</td><td></td><td><span style=\"font-size:20px;\"> <a class=\"ProveItLink\" href=\"../../../equality/_proofs_/unfoldNotEquals.ipynb\" style=\"text-decoration: none\">&#x22A2;&nbsp;</a><a class=\"ProveItLink\" href=\"../37882f5abd7b3e71c8485eb78784b3144f326a6e0/expr.ipynb\"><img src=\"../37882f5abd7b3e71c8485eb78784b3144f326a6e0/expr.png\" style=\"display:inline;vertical-align:middle;\" /></a></span></td></tr>\n",
       "<tr><td>&nbsp;</td><td colspan=4 style-\"text-align:left\"><a class=\"ProveItLink\" href=\"../../../equality/_proofs_/unfoldNotEquals.ipynb\">proveit.logic.equality.unfoldNotEquals</a></td></tr><tr><td><a name=\"proveit.logic.boolean.b4e7258b34f5c47f7c9ff3514a0af82a307929ad0_step10\">10</a></td><td>theorem</td><td></td><td><span style=\"font-size:20px;\"> <a class=\"ProveItLink\" href=\"../../_proofs_/trueNotFalse.ipynb\" style=\"text-decoration: none\">&#x22A2;&nbsp;</a><a class=\"ProveItLink\" href=\"../7bf2a54a53889c9811775aca32d2a3aeeed46cc10/expr.ipynb\"><img src=\"../7bf2a54a53889c9811775aca32d2a3aeeed46cc10/expr.png\" style=\"display:inline;vertical-align:middle;\" /></a></span></td></tr>\n",
       "<tr><td>&nbsp;</td><td colspan=4 style-\"text-align:left\"><a class=\"ProveItLink\" href=\"../../_proofs_/trueNotFalse.ipynb\">proveit.logic.boolean.trueNotFalse</a></td></tr></table>"
      ],
      "text/plain": [
       "<proveit._core_.proof._ShowProof at 0x7f5b8ec530b8>"
      ]
     },
     "execution_count": 1,
     "metadata": {},
     "output_type": "execute_result"
    }
   ],
   "source": [
    "import proveit\n",
    "# Automation is not needed when only showing a stored proof:\n",
    "proveit.defaults.automation = False # This will speed things up.\n",
    "proveit.defaults.inline_pngs = False # Makes files smaller.\n",
    "%show_proof"
   ]
  },
  {
   "cell_type": "code",
   "execution_count": null,
   "metadata": {},
   "outputs": [],
   "source": []
  }
 ],
 "metadata": {
  "kernelspec": {
   "display_name": "Python 3",
   "language": "python",
   "name": "python3"
  },
  "language_info": {
   "codemirror_mode": {
    "name": "ipython",
    "version": 3
   },
   "file_extension": ".py",
   "mimetype": "text/x-python",
   "name": "python",
   "nbconvert_exporter": "python",
   "pygments_lexer": "ipython3",
   "version": "3.7.3"
  }
 },
 "nbformat": 4,
 "nbformat_minor": 1
}
