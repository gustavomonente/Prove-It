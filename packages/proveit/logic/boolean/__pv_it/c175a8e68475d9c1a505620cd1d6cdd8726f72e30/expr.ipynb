{
 "cells": [
  {
   "cell_type": "markdown",
   "metadata": {},
   "source": [
    "Expression of type <a class=\"ProveItLink\" href=\"../../../../../../doc/html/api/proveit.Lambda.html\">Lambda</a>\n",
    "=======================\n",
    "# from context <a class=\"ProveItLink\" href=\"../../_context_.ipynb\">proveit.logic.boolean</a>"
   ]
  },
  {
   "cell_type": "code",
   "execution_count": 1,
   "metadata": {},
   "outputs": [],
   "source": [
    "import proveit\n",
    "# Automation is not needed when building an expression:\n",
    "proveit.defaults.automation = False # This will speed things up.\n",
    "proveit.defaults.inline_pngs = False # Makes files smaller.\n",
    "# import Expression classes needed to build the expression\n",
    "from proveit import Lambda\n",
    "from proveit._common_ import A, P, PofA\n",
    "from proveit.logic import And, Booleans, Equals, FALSE, Forall, Implies, TRUE\n",
    "from proveit.logic._common_ import PofFalse, PofTrue"
   ]
  },
  {
   "cell_type": "code",
   "execution_count": 2,
   "metadata": {},
   "outputs": [
    {
     "data": {
      "text/html": [
       "<strong id=\"expr\">expr:</strong> <a class=\"ProveItLink\" href=\"expr.ipynb\"><img src=\"expr.png\" style=\"display:inline;vertical-align:middle;\" /></a><br>"
      ],
      "text/plain": [
       "expr: P -> (((P(TRUE) = FALSE) and (P(FALSE) = TRUE)) => ([forall_{A in BOOLEANS} P(A)] = FALSE))"
      ]
     },
     "execution_count": 2,
     "metadata": {},
     "output_type": "execute_result"
    }
   ],
   "source": [
    "# build up the expression from sub-expressions\n",
    "expr = Lambda(P, Implies(And(Equals(PofTrue, FALSE), Equals(PofFalse, TRUE)), Equals(Forall([A], PofA, domain = Booleans), FALSE)))"
   ]
  },
  {
   "cell_type": "code",
   "execution_count": 3,
   "metadata": {},
   "outputs": [
    {
     "name": "stdout",
     "output_type": "stream",
     "text": [
      "Passed sanity check: built 'expr' is the same as the stored Expression.\n"
     ]
    }
   ],
   "source": [
    "# check that the built expression is the same as the stored expression\n",
    "%check_expr"
   ]
  },
  {
   "cell_type": "code",
   "execution_count": 4,
   "metadata": {},
   "outputs": [
    {
     "name": "stdout",
     "output_type": "stream",
     "text": [
      "P \\mapsto \\left(\\left(\\left(P(\\top) = \\bot\\right) \\land \\left(P(\\bot) = \\top\\right)\\right) \\Rightarrow \\left(\\left[\\forall_{A \\in \\mathbb{B}}~P(A)\\right] = \\bot\\right)\\right)\n"
     ]
    }
   ],
   "source": [
    "# Show the LaTeX representation of the expression for convenience if you need it.\n",
    "print(expr.latex())"
   ]
  },
  {
   "cell_type": "code",
   "execution_count": 5,
   "metadata": {},
   "outputs": [
    {
     "data": {
      "text/html": [
       "<table><tr><th>&nbsp;</th><th>core type</th><th>sub-expressions</th><th>expression</th></tr>\n",
       "<tr><td>0</td><td>Lambda</td><td>parameter:&nbsp;24<br>body:&nbsp;1<br></td><td><a class=\"ProveItLink\" href=\"expr.ipynb\"><img src=\"expr.png\" style=\"display:inline;vertical-align:middle;\" /></a></td></tr>\n",
       "<tr><td>1</td><td>Operation</td><td>operator:&nbsp;2<br>operands:&nbsp;3<br></td><td><a class=\"ProveItLink\" href=\"../9a450470762e93a5accfe9123f52fb7a26d076cd0/expr.ipynb\"><img src=\"../9a450470762e93a5accfe9123f52fb7a26d076cd0/expr.png\" style=\"display:inline;vertical-align:middle;\" /></a></td></tr>\n",
       "<tr><td>2</td><td>Literal</td><td></td><td><a class=\"ProveItLink\" href=\"../../implication/__pv_it/1e62b0c0a90306fc48b17f0dc8d4dc4df8bb234f0/expr.ipynb\"><img src=\"../../implication/__pv_it/1e62b0c0a90306fc48b17f0dc8d4dc4df8bb234f0/expr.png\" style=\"display:inline;vertical-align:middle;\" /></a></td></tr>\n",
       "<tr><td>3</td><td>ExprTuple</td><td>4, 5</td><td><a class=\"ProveItLink\" href=\"../4ec90dbc0bf9ae1c66b444cf591c206704d16adb0/expr.ipynb\"><img src=\"../4ec90dbc0bf9ae1c66b444cf591c206704d16adb0/expr.png\" style=\"display:inline;vertical-align:middle;\" /></a></td></tr>\n",
       "<tr><td>4</td><td>Operation</td><td>operator:&nbsp;6<br>operands:&nbsp;7<br></td><td><a class=\"ProveItLink\" href=\"../9499120dc3d916873ecbae66b9dda839143e219d0/expr.ipynb\"><img src=\"../9499120dc3d916873ecbae66b9dda839143e219d0/expr.png\" style=\"display:inline;vertical-align:middle;\" /></a></td></tr>\n",
       "<tr><td>5</td><td>Operation</td><td>operator:&nbsp;13<br>operands:&nbsp;8<br></td><td><a class=\"ProveItLink\" href=\"../b22a2c577ce995552e29c24a7c197f3a4118878a0/expr.ipynb\"><img src=\"../b22a2c577ce995552e29c24a7c197f3a4118878a0/expr.png\" style=\"display:inline;vertical-align:middle;\" /></a></td></tr>\n",
       "<tr><td>6</td><td>Literal</td><td></td><td><a class=\"ProveItLink\" href=\"../../conjunction/__pv_it/f41cc6b553210927c09f19a8a39cdf860a5585930/expr.ipynb\"><img src=\"../../conjunction/__pv_it/f41cc6b553210927c09f19a8a39cdf860a5585930/expr.png\" style=\"display:inline;vertical-align:middle;\" /></a></td></tr>\n",
       "<tr><td>7</td><td>ExprTuple</td><td>9, 10</td><td><a class=\"ProveItLink\" href=\"../0a95d0fe790d406a3b1f40e69d12a32105c69f120/expr.ipynb\"><img src=\"../0a95d0fe790d406a3b1f40e69d12a32105c69f120/expr.png\" style=\"display:inline;vertical-align:middle;\" /></a></td></tr>\n",
       "<tr><td>8</td><td>ExprTuple</td><td>11, 21</td><td><a class=\"ProveItLink\" href=\"../e0de7c88f6acad9ffe47fc361b709c13672d31500/expr.ipynb\"><img src=\"../e0de7c88f6acad9ffe47fc361b709c13672d31500/expr.png\" style=\"display:inline;vertical-align:middle;\" /></a></td></tr>\n",
       "<tr><td>9</td><td>Operation</td><td>operator:&nbsp;13<br>operands:&nbsp;12<br></td><td><a class=\"ProveItLink\" href=\"../97b95e8e983ae7224396b57ddb53146efb35b15e0/expr.ipynb\"><img src=\"../97b95e8e983ae7224396b57ddb53146efb35b15e0/expr.png\" style=\"display:inline;vertical-align:middle;\" /></a></td></tr>\n",
       "<tr><td>10</td><td>Operation</td><td>operator:&nbsp;13<br>operands:&nbsp;14<br></td><td><a class=\"ProveItLink\" href=\"../912a6ad59c0011970e6bb365f32449543df5d3c20/expr.ipynb\"><img src=\"../912a6ad59c0011970e6bb365f32449543df5d3c20/expr.png\" style=\"display:inline;vertical-align:middle;\" /></a></td></tr>\n",
       "<tr><td>11</td><td>Operation</td><td>operator:&nbsp;15<br>operand:&nbsp;16<br></td><td><a class=\"ProveItLink\" href=\"../136156f02c0f80f879728f5fe7bd85118aab31790/expr.ipynb\"><img src=\"../136156f02c0f80f879728f5fe7bd85118aab31790/expr.png\" style=\"display:inline;vertical-align:middle;\" /></a></td></tr>\n",
       "<tr><td>12</td><td>ExprTuple</td><td>17, 21</td><td><a class=\"ProveItLink\" href=\"../07347671419308c731fa201e93669ae39a9ebd600/expr.ipynb\"><img src=\"../07347671419308c731fa201e93669ae39a9ebd600/expr.png\" style=\"display:inline;vertical-align:middle;\" /></a></td></tr>\n",
       "<tr><td>13</td><td>Literal</td><td></td><td><a class=\"ProveItLink\" href=\"../../../equality/__pv_it/e16d2caa26a16688b658bdb9c422caf4b84579e10/expr.ipynb\"><img src=\"../../../equality/__pv_it/e16d2caa26a16688b658bdb9c422caf4b84579e10/expr.png\" style=\"display:inline;vertical-align:middle;\" /></a></td></tr>\n",
       "<tr><td>14</td><td>ExprTuple</td><td>18, 20</td><td><a class=\"ProveItLink\" href=\"../1784fdbddff5c38b7b0873b820fc04e4073058c90/expr.ipynb\"><img src=\"../1784fdbddff5c38b7b0873b820fc04e4073058c90/expr.png\" style=\"display:inline;vertical-align:middle;\" /></a></td></tr>\n",
       "<tr><td>15</td><td>Literal</td><td></td><td><a class=\"ProveItLink\" href=\"../../quantification/universal/__pv_it/fd9c772d6675566ed52a6897806f45eb08a4ea910/expr.ipynb\"><img src=\"../../quantification/universal/__pv_it/fd9c772d6675566ed52a6897806f45eb08a4ea910/expr.png\" style=\"display:inline;vertical-align:middle;\" /></a></td></tr>\n",
       "<tr><td>16</td><td>Lambda</td><td>parameter:&nbsp;27<br>body:&nbsp;19<br></td><td><a class=\"ProveItLink\" href=\"../ed5899d38a47c673df9322991b182b33d60daf7e0/expr.ipynb\"><img src=\"../ed5899d38a47c673df9322991b182b33d60daf7e0/expr.png\" style=\"display:inline;vertical-align:middle;\" /></a></td></tr>\n",
       "<tr><td>17</td><td>Operation</td><td>operator:&nbsp;24<br>operand:&nbsp;20<br></td><td><a class=\"ProveItLink\" href=\"../../../__pv_it/2ef7f508b147ba68d62ebb0d9a3f907c002dbc810/expr.ipynb\"><img src=\"../../../__pv_it/2ef7f508b147ba68d62ebb0d9a3f907c002dbc810/expr.png\" style=\"display:inline;vertical-align:middle;\" /></a></td></tr>\n",
       "<tr><td>18</td><td>Operation</td><td>operator:&nbsp;24<br>operand:&nbsp;21<br></td><td><a class=\"ProveItLink\" href=\"../../../__pv_it/eef16f67fc2ba72bc77e95249fb9eb9ff8728adb0/expr.ipynb\"><img src=\"../../../__pv_it/eef16f67fc2ba72bc77e95249fb9eb9ff8728adb0/expr.png\" style=\"display:inline;vertical-align:middle;\" /></a></td></tr>\n",
       "<tr><td>19</td><td>Conditional</td><td>value:&nbsp;22<br>condition:&nbsp;23<br></td><td><a class=\"ProveItLink\" href=\"../fa73f83611db2664ca1304c1d0f8c3e8968d20900/expr.ipynb\"><img src=\"../fa73f83611db2664ca1304c1d0f8c3e8968d20900/expr.png\" style=\"display:inline;vertical-align:middle;\" /></a></td></tr>\n",
       "<tr><td>20</td><td>Literal</td><td></td><td><a class=\"ProveItLink\" href=\"../b5b8ce0f03ab68a7c7bb937dfeb4112a686e3cbb0/expr.ipynb\"><img src=\"../b5b8ce0f03ab68a7c7bb937dfeb4112a686e3cbb0/expr.png\" style=\"display:inline;vertical-align:middle;\" /></a></td></tr>\n",
       "<tr><td>21</td><td>Literal</td><td></td><td><a class=\"ProveItLink\" href=\"../83a1ddf0f64531c80e7f41ea6b904214668818b30/expr.ipynb\"><img src=\"../83a1ddf0f64531c80e7f41ea6b904214668818b30/expr.png\" style=\"display:inline;vertical-align:middle;\" /></a></td></tr>\n",
       "<tr><td>22</td><td>Operation</td><td>operator:&nbsp;24<br>operand:&nbsp;27<br></td><td><a class=\"ProveItLink\" href=\"../../../../__pv_it/95ad89d6afd0f8299cfb9c71df4233504059396c0/expr.ipynb\"><img src=\"../../../../__pv_it/95ad89d6afd0f8299cfb9c71df4233504059396c0/expr.png\" style=\"display:inline;vertical-align:middle;\" /></a></td></tr>\n",
       "<tr><td>23</td><td>Operation</td><td>operator:&nbsp;25<br>operands:&nbsp;26<br></td><td><a class=\"ProveItLink\" href=\"../6a848856aa8448d2c8078b64fa7ec7edda2394a90/expr.ipynb\"><img src=\"../6a848856aa8448d2c8078b64fa7ec7edda2394a90/expr.png\" style=\"display:inline;vertical-align:middle;\" /></a></td></tr>\n",
       "<tr><td>24</td><td>Variable</td><td></td><td><a class=\"ProveItLink\" href=\"../../../../__pv_it/390c91a44e60b16c95d2255652741252e8ec8d980/expr.ipynb\"><img src=\"../../../../__pv_it/390c91a44e60b16c95d2255652741252e8ec8d980/expr.png\" style=\"display:inline;vertical-align:middle;\" /></a></td></tr>\n",
       "<tr><td>25</td><td>Literal</td><td></td><td><a class=\"ProveItLink\" href=\"../../../set_theory/membership/__pv_it/7776fc89cb67d0b5b1ec2c0c8e08da5587921ccf0/expr.ipynb\"><img src=\"../../../set_theory/membership/__pv_it/7776fc89cb67d0b5b1ec2c0c8e08da5587921ccf0/expr.png\" style=\"display:inline;vertical-align:middle;\" /></a></td></tr>\n",
       "<tr><td>26</td><td>ExprTuple</td><td>27, 28</td><td><a class=\"ProveItLink\" href=\"../32d96b0c9b68ba131d7735fd70f64d7165aca3440/expr.ipynb\"><img src=\"../32d96b0c9b68ba131d7735fd70f64d7165aca3440/expr.png\" style=\"display:inline;vertical-align:middle;\" /></a></td></tr>\n",
       "<tr><td>27</td><td>Variable</td><td></td><td><a class=\"ProveItLink\" href=\"../../../../__pv_it/d3792d0d8642fdf1cd2a3a9b32c673ee13653de00/expr.ipynb\"><img src=\"../../../../__pv_it/d3792d0d8642fdf1cd2a3a9b32c673ee13653de00/expr.png\" style=\"display:inline;vertical-align:middle;\" /></a></td></tr>\n",
       "<tr><td>28</td><td>Literal</td><td></td><td><a class=\"ProveItLink\" href=\"../a3b387936f605fef1b535be3e1116cca8bbfc91b0/expr.ipynb\"><img src=\"../a3b387936f605fef1b535be3e1116cca8bbfc91b0/expr.png\" style=\"display:inline;vertical-align:middle;\" /></a></td></tr>\n",
       "</table>\n"
      ],
      "text/plain": [
       "0. P -> (((P(TRUE) = FALSE) and (P(FALSE) = TRUE)) => ([forall_{A in BOOLEANS} P(A)] = FALSE))\n",
       "   core type: Lambda\n",
       "   parameter: 24\n",
       "   body: 1\n",
       "1. ((P(TRUE) = FALSE) and (P(FALSE) = TRUE)) => ([forall_{A in BOOLEANS} P(A)] = FALSE)\n",
       "   core type: Operation\n",
       "   operator: 2\n",
       "   operands: 3\n",
       "2. =>\n",
       "   core type: Literal\n",
       "   sub-expressions: \n",
       "3. ((P(TRUE) = FALSE) and (P(FALSE) = TRUE), [forall_{A in BOOLEANS} P(A)] = FALSE)\n",
       "   core type: ExprTuple\n",
       "   sub-expressions: 4, 5\n",
       "4. (P(TRUE) = FALSE) and (P(FALSE) = TRUE)\n",
       "   core type: Operation\n",
       "   operator: 6\n",
       "   operands: 7\n",
       "5. [forall_{A in BOOLEANS} P(A)] = FALSE\n",
       "   core type: Operation\n",
       "   operator: 13\n",
       "   operands: 8\n",
       "6. and\n",
       "   core type: Literal\n",
       "   sub-expressions: \n",
       "7. (P(TRUE) = FALSE, P(FALSE) = TRUE)\n",
       "   core type: ExprTuple\n",
       "   sub-expressions: 9, 10\n",
       "8. (forall_{A in BOOLEANS} P(A), FALSE)\n",
       "   core type: ExprTuple\n",
       "   sub-expressions: 11, 21\n",
       "9. P(TRUE) = FALSE\n",
       "   core type: Operation\n",
       "   operator: 13\n",
       "   operands: 12\n",
       "10. P(FALSE) = TRUE\n",
       "    core type: Operation\n",
       "    operator: 13\n",
       "    operands: 14\n",
       "11. forall_{A in BOOLEANS} P(A)\n",
       "    core type: Operation\n",
       "    operator: 15\n",
       "    operand: 16\n",
       "12. (P(TRUE), FALSE)\n",
       "    core type: ExprTuple\n",
       "    sub-expressions: 17, 21\n",
       "13. =\n",
       "    core type: Literal\n",
       "    sub-expressions: \n",
       "14. (P(FALSE), TRUE)\n",
       "    core type: ExprTuple\n",
       "    sub-expressions: 18, 20\n",
       "15. forall\n",
       "    core type: Literal\n",
       "    sub-expressions: \n",
       "16. A -> {P(A) if A in BOOLEANS.\n",
       "    core type: Lambda\n",
       "    parameter: 27\n",
       "    body: 19\n",
       "17. P(TRUE)\n",
       "    core type: Operation\n",
       "    operator: 24\n",
       "    operand: 20\n",
       "18. P(FALSE)\n",
       "    core type: Operation\n",
       "    operator: 24\n",
       "    operand: 21\n",
       "19. {P(A) if A in BOOLEANS.\n",
       "    core type: Conditional\n",
       "    value: 22\n",
       "    condition: 23\n",
       "20. TRUE\n",
       "    core type: Literal\n",
       "    sub-expressions: \n",
       "21. FALSE\n",
       "    core type: Literal\n",
       "    sub-expressions: \n",
       "22. P(A)\n",
       "    core type: Operation\n",
       "    operator: 24\n",
       "    operand: 27\n",
       "23. A in BOOLEANS\n",
       "    core type: Operation\n",
       "    operator: 25\n",
       "    operands: 26\n",
       "24. P\n",
       "    core type: Variable\n",
       "    sub-expressions: \n",
       "25. in\n",
       "    core type: Literal\n",
       "    sub-expressions: \n",
       "26. (A, BOOLEANS)\n",
       "    core type: ExprTuple\n",
       "    sub-expressions: 27, 28\n",
       "27. A\n",
       "    core type: Variable\n",
       "    sub-expressions: \n",
       "28. BOOLEANS\n",
       "    core type: Literal\n",
       "    sub-expressions: "
      ]
     },
     "execution_count": 5,
     "metadata": {},
     "output_type": "execute_result"
    }
   ],
   "source": [
    "# display the expression information\n",
    "expr.exprInfo()"
   ]
  },
  {
   "cell_type": "code",
   "execution_count": null,
   "metadata": {},
   "outputs": [],
   "source": []
  }
 ],
 "metadata": {
  "kernelspec": {
   "display_name": "Python 3",
   "language": "python",
   "name": "python3"
  },
  "language_info": {
   "codemirror_mode": {
    "name": "ipython",
    "version": 3
   },
   "file_extension": ".py",
   "mimetype": "text/x-python",
   "name": "python",
   "nbconvert_exporter": "python",
   "pygments_lexer": "ipython3",
   "version": "3.7.3"
  }
 },
 "nbformat": 4,
 "nbformat_minor": 1
}
