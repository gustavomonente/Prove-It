{
 "cells": [
  {
   "cell_type": "markdown",
   "metadata": {},
   "source": [
    "Theorem Dependencies\n",
    "=======================\n",
    "\n",
    "## <a class=\"ProveItLink\" href=\"../../_context_.ipynb\">proveit.logic.boolean</a>.<a class=\"ProveItLink\" href=\"../../_theorems_.ipynb#foldForallOverBool\">foldForallOverBool</a> \n",
    "***see <a class=\"ProveItLink\" href=\"../../_proofs_/foldForallOverBool.ipynb\">proof</a>***"
   ]
  },
  {
   "cell_type": "code",
   "execution_count": 1,
   "metadata": {},
   "outputs": [],
   "source": [
    "import proveit\n",
    "# Automation is not needed when querying dependencies:\n",
    "proveit.defaults.automation = False # This will speed things up.\n",
    "proveit.defaults.inline_pngs = False # Makes files smaller.\n",
    "from proveit.logic.boolean._theorems_ import foldForallOverBool"
   ]
  },
  {
   "cell_type": "code",
   "execution_count": 2,
   "metadata": {},
   "outputs": [
    {
     "data": {
      "text/html": [
       "<h3>Unproven theorems required (directly or indirectly) to prove foldForallOverBool</h3>"
      ],
      "text/plain": [
       "<IPython.core.display.HTML object>"
      ]
     },
     "metadata": {},
     "output_type": "display_data"
    },
    {
     "data": {
      "text/html": [
       "<dl>"
      ],
      "text/plain": [
       "<IPython.core.display.HTML object>"
      ]
     },
     "metadata": {},
     "output_type": "display_data"
    },
    {
     "data": {
      "text/html": [
       "<dt><a class=\"ProveItLink\" href=\"../../../set_theory/enumeration/_proofs_/fold.ipynb\">proveit.logic.set_theory.enumeration.fold</a></dt><dd><a class=\"ProveItLink\" href=\"../../../set_theory/enumeration/__pv_it/a8768e6f81edbcdb0a1d44f3a219f44ab58026160/expr.ipynb\"><img src=\"../../../set_theory/enumeration/__pv_it/a8768e6f81edbcdb0a1d44f3a219f44ab58026160/expr.png\" style=\"display:inline;vertical-align:middle;\" /></a></dd>"
      ],
      "text/plain": [
       "<IPython.core.display.HTML object>"
      ]
     },
     "metadata": {},
     "output_type": "display_data"
    },
    {
     "data": {
      "text/html": [
       "<dt><a class=\"ProveItLink\" href=\"../../../set_theory/enumeration/_proofs_/unfold.ipynb\">proveit.logic.set_theory.enumeration.unfold</a></dt><dd><a class=\"ProveItLink\" href=\"../../../set_theory/enumeration/__pv_it/e3f0b09ec930e7f470c34206dd6ba5dac3e246f30/expr.ipynb\"><img src=\"../../../set_theory/enumeration/__pv_it/e3f0b09ec930e7f470c34206dd6ba5dac3e246f30/expr.png\" style=\"display:inline;vertical-align:middle;\" /></a></dd>"
      ],
      "text/plain": [
       "<IPython.core.display.HTML object>"
      ]
     },
     "metadata": {},
     "output_type": "display_data"
    },
    {
     "data": {
      "text/html": [
       "<dt><a class=\"ProveItLink\" href=\"../../../../number/numeral/deci/_proofs_/nat2.ipynb\">proveit.number.numeral.deci.nat2</a></dt><dd><a class=\"ProveItLink\" href=\"../../../../number/numeral/deci/__pv_it/e1be5cc0ffa039746758df99e3fd79595c567a170/expr.ipynb\"><img src=\"../../../../number/numeral/deci/__pv_it/e1be5cc0ffa039746758df99e3fd79595c567a170/expr.png\" style=\"display:inline;vertical-align:middle;\" /></a></dd>"
      ],
      "text/plain": [
       "<IPython.core.display.HTML object>"
      ]
     },
     "metadata": {},
     "output_type": "display_data"
    },
    {
     "data": {
      "text/html": [
       "<dt><a class=\"ProveItLink\" href=\"../../../../number/numeral/deci/_proofs_/tuple_len_2_typical_equiv.ipynb\">proveit.number.numeral.deci.tuple_len_2_typical_equiv</a></dt><dd><a class=\"ProveItLink\" href=\"../../../../number/numeral/deci/__pv_it/31a39e19408f8b414290df245ce20e6a3d0797030/expr.ipynb\"><img src=\"../../../../number/numeral/deci/__pv_it/31a39e19408f8b414290df245ce20e6a3d0797030/expr.png\" style=\"display:inline;vertical-align:middle;\" /></a></dd>"
      ],
      "text/plain": [
       "<IPython.core.display.HTML object>"
      ]
     },
     "metadata": {},
     "output_type": "display_data"
    },
    {
     "data": {
      "text/html": [
       "</dl>"
      ],
      "text/plain": [
       "<IPython.core.display.HTML object>"
      ]
     },
     "metadata": {},
     "output_type": "display_data"
    },
    {
     "data": {
      "text/html": [
       "<h3>Axioms required (directly or indirectly) to prove foldForallOverBool</h3>"
      ],
      "text/plain": [
       "<IPython.core.display.HTML object>"
      ]
     },
     "metadata": {},
     "output_type": "display_data"
    },
    {
     "data": {
      "text/html": [
       "<dl>"
      ],
      "text/plain": [
       "<IPython.core.display.HTML object>"
      ]
     },
     "metadata": {},
     "output_type": "display_data"
    },
    {
     "data": {
      "text/html": [
       "<dt><a class=\"ProveItLink\" href=\"../../_axioms_.ipynb#boolsDef\">proveit.logic.boolean.boolsDef</a></dt><dd><a class=\"ProveItLink\" href=\"../f8b51998348a6385fada5a5dcf4f6799320f28650/expr.ipynb\"><img src=\"../f8b51998348a6385fada5a5dcf4f6799320f28650/expr.png\" style=\"display:inline;vertical-align:middle;\" /></a></dd>"
      ],
      "text/plain": [
       "<IPython.core.display.HTML object>"
      ]
     },
     "metadata": {},
     "output_type": "display_data"
    },
    {
     "data": {
      "text/html": [
       "<dt><a class=\"ProveItLink\" href=\"../../disjunction/_axioms_.ipynb#leftInBool\">proveit.logic.boolean.disjunction.leftInBool</a></dt><dd><a class=\"ProveItLink\" href=\"../../disjunction/__pv_it/3f3431be224a134c1b974a7eef2d3730ddb1adf10/expr.ipynb\"><img src=\"../../disjunction/__pv_it/3f3431be224a134c1b974a7eef2d3730ddb1adf10/expr.png\" style=\"display:inline;vertical-align:middle;\" /></a></dd>"
      ],
      "text/plain": [
       "<IPython.core.display.HTML object>"
      ]
     },
     "metadata": {},
     "output_type": "display_data"
    },
    {
     "data": {
      "text/html": [
       "<dt><a class=\"ProveItLink\" href=\"../../disjunction/_axioms_.ipynb#orFF\">proveit.logic.boolean.disjunction.orFF</a></dt><dd><a class=\"ProveItLink\" href=\"../../disjunction/__pv_it/157e538b35995d1bc78bc7129e3e67c586df31e00/expr.ipynb\"><img src=\"../../disjunction/__pv_it/157e538b35995d1bc78bc7129e3e67c586df31e00/expr.png\" style=\"display:inline;vertical-align:middle;\" /></a></dd>"
      ],
      "text/plain": [
       "<IPython.core.display.HTML object>"
      ]
     },
     "metadata": {},
     "output_type": "display_data"
    },
    {
     "data": {
      "text/html": [
       "<dt><a class=\"ProveItLink\" href=\"../../disjunction/_axioms_.ipynb#orTF\">proveit.logic.boolean.disjunction.orTF</a></dt><dd><a class=\"ProveItLink\" href=\"../../disjunction/__pv_it/a980f2e4f091260c75434ac31f723f4cc5f16b430/expr.ipynb\"><img src=\"../../disjunction/__pv_it/a980f2e4f091260c75434ac31f723f4cc5f16b430/expr.png\" style=\"display:inline;vertical-align:middle;\" /></a></dd>"
      ],
      "text/plain": [
       "<IPython.core.display.HTML object>"
      ]
     },
     "metadata": {},
     "output_type": "display_data"
    },
    {
     "data": {
      "text/html": [
       "<dt><a class=\"ProveItLink\" href=\"../../disjunction/_axioms_.ipynb#rightInBool\">proveit.logic.boolean.disjunction.rightInBool</a></dt><dd><a class=\"ProveItLink\" href=\"../../disjunction/__pv_it/e2b42e3b7b09cfee42af5a45b6d7306ced219af80/expr.ipynb\"><img src=\"../../disjunction/__pv_it/e2b42e3b7b09cfee42af5a45b6d7306ced219af80/expr.png\" style=\"display:inline;vertical-align:middle;\" /></a></dd>"
      ],
      "text/plain": [
       "<IPython.core.display.HTML object>"
      ]
     },
     "metadata": {},
     "output_type": "display_data"
    },
    {
     "data": {
      "text/html": [
       "<dt><a class=\"ProveItLink\" href=\"../../_axioms_.ipynb#eqTrueElim\">proveit.logic.boolean.eqTrueElim</a></dt><dd><a class=\"ProveItLink\" href=\"../c40d2fe3b647e54f3c41cbb64fa7a5fea23ad4ba0/expr.ipynb\"><img src=\"../c40d2fe3b647e54f3c41cbb64fa7a5fea23ad4ba0/expr.png\" style=\"display:inline;vertical-align:middle;\" /></a></dd>"
      ],
      "text/plain": [
       "<IPython.core.display.HTML object>"
      ]
     },
     "metadata": {},
     "output_type": "display_data"
    },
    {
     "data": {
      "text/html": [
       "<dt><a class=\"ProveItLink\" href=\"../../_axioms_.ipynb#eqTrueIntro\">proveit.logic.boolean.eqTrueIntro</a></dt><dd><a class=\"ProveItLink\" href=\"../1b97d519b6f842613318d652c6ad18957257936d0/expr.ipynb\"><img src=\"../1b97d519b6f842613318d652c6ad18957257936d0/expr.png\" style=\"display:inline;vertical-align:middle;\" /></a></dd>"
      ],
      "text/plain": [
       "<IPython.core.display.HTML object>"
      ]
     },
     "metadata": {},
     "output_type": "display_data"
    },
    {
     "data": {
      "text/html": [
       "<dt><a class=\"ProveItLink\" href=\"../../_axioms_.ipynb#falseNotTrue\">proveit.logic.boolean.falseNotTrue</a></dt><dd><a class=\"ProveItLink\" href=\"../9232c35b58f1471872c4bdc53718ee27a9be34610/expr.ipynb\"><img src=\"../9232c35b58f1471872c4bdc53718ee27a9be34610/expr.png\" style=\"display:inline;vertical-align:middle;\" /></a></dd>"
      ],
      "text/plain": [
       "<IPython.core.display.HTML object>"
      ]
     },
     "metadata": {},
     "output_type": "display_data"
    },
    {
     "data": {
      "text/html": [
       "<dt><a class=\"ProveItLink\" href=\"../../implication/_axioms_.ipynb#impliesFalseDef\">proveit.logic.boolean.implication.impliesFalseDef</a></dt><dd><a class=\"ProveItLink\" href=\"../../implication/__pv_it/aca4db733abe35764d84bf2837c8f5c6155088360/expr.ipynb\"><img src=\"../../implication/__pv_it/aca4db733abe35764d84bf2837c8f5c6155088360/expr.png\" style=\"display:inline;vertical-align:middle;\" /></a></dd>"
      ],
      "text/plain": [
       "<IPython.core.display.HTML object>"
      ]
     },
     "metadata": {},
     "output_type": "display_data"
    },
    {
     "data": {
      "text/html": [
       "<dt><a class=\"ProveItLink\" href=\"../../negation/_axioms_.ipynb#negationElim\">proveit.logic.boolean.negation.negationElim</a></dt><dd><a class=\"ProveItLink\" href=\"../../negation/__pv_it/effe4a00447dd6924d93afef35ad027eae208a7a0/expr.ipynb\"><img src=\"../../negation/__pv_it/effe4a00447dd6924d93afef35ad027eae208a7a0/expr.png\" style=\"display:inline;vertical-align:middle;\" /></a></dd>"
      ],
      "text/plain": [
       "<IPython.core.display.HTML object>"
      ]
     },
     "metadata": {},
     "output_type": "display_data"
    },
    {
     "data": {
      "text/html": [
       "<dt><a class=\"ProveItLink\" href=\"../../negation/_axioms_.ipynb#negationIntro\">proveit.logic.boolean.negation.negationIntro</a></dt><dd><a class=\"ProveItLink\" href=\"../../negation/__pv_it/d92be96a81a927975a3e4fc43cc9e259175feb200/expr.ipynb\"><img src=\"../../negation/__pv_it/d92be96a81a927975a3e4fc43cc9e259175feb200/expr.png\" style=\"display:inline;vertical-align:middle;\" /></a></dd>"
      ],
      "text/plain": [
       "<IPython.core.display.HTML object>"
      ]
     },
     "metadata": {},
     "output_type": "display_data"
    },
    {
     "data": {
      "text/html": [
       "<dt><a class=\"ProveItLink\" href=\"../../../equality/_axioms_.ipynb#equalityInBool\">proveit.logic.equality.equalityInBool</a></dt><dd><a class=\"ProveItLink\" href=\"../../../equality/__pv_it/8e4dcb0131893a0cba30db381aaa3ccc1f1d2dea0/expr.ipynb\"><img src=\"../../../equality/__pv_it/8e4dcb0131893a0cba30db381aaa3ccc1f1d2dea0/expr.png\" style=\"display:inline;vertical-align:middle;\" /></a></dd>"
      ],
      "text/plain": [
       "<IPython.core.display.HTML object>"
      ]
     },
     "metadata": {},
     "output_type": "display_data"
    },
    {
     "data": {
      "text/html": [
       "<dt><a class=\"ProveItLink\" href=\"../../../equality/_axioms_.ipynb#equalsReflexivity\">proveit.logic.equality.equalsReflexivity</a></dt><dd><a class=\"ProveItLink\" href=\"../../../equality/__pv_it/41ee2d23887e0db2fb1c64bf69a66887d78f206e0/expr.ipynb\"><img src=\"../../../equality/__pv_it/41ee2d23887e0db2fb1c64bf69a66887d78f206e0/expr.png\" style=\"display:inline;vertical-align:middle;\" /></a></dd>"
      ],
      "text/plain": [
       "<IPython.core.display.HTML object>"
      ]
     },
     "metadata": {},
     "output_type": "display_data"
    },
    {
     "data": {
      "text/html": [
       "<dt><a class=\"ProveItLink\" href=\"../../../equality/_axioms_.ipynb#equalsSymmetry\">proveit.logic.equality.equalsSymmetry</a></dt><dd><a class=\"ProveItLink\" href=\"../../../equality/__pv_it/2ec3cefd5b68d70e9e028d7461f9728ae37d4c650/expr.ipynb\"><img src=\"../../../equality/__pv_it/2ec3cefd5b68d70e9e028d7461f9728ae37d4c650/expr.png\" style=\"display:inline;vertical-align:middle;\" /></a></dd>"
      ],
      "text/plain": [
       "<IPython.core.display.HTML object>"
      ]
     },
     "metadata": {},
     "output_type": "display_data"
    },
    {
     "data": {
      "text/html": [
       "<dt><a class=\"ProveItLink\" href=\"../../../equality/_axioms_.ipynb#equalsTransitivity\">proveit.logic.equality.equalsTransitivity</a></dt><dd><a class=\"ProveItLink\" href=\"../../../equality/__pv_it/495c166cdd14b46cf3711cb4467adbb9a15d43120/expr.ipynb\"><img src=\"../../../equality/__pv_it/495c166cdd14b46cf3711cb4467adbb9a15d43120/expr.png\" style=\"display:inline;vertical-align:middle;\" /></a></dd>"
      ],
      "text/plain": [
       "<IPython.core.display.HTML object>"
      ]
     },
     "metadata": {},
     "output_type": "display_data"
    },
    {
     "data": {
      "text/html": [
       "<dt><a class=\"ProveItLink\" href=\"../../../equality/_axioms_.ipynb#notEqualsDef\">proveit.logic.equality.notEqualsDef</a></dt><dd><a class=\"ProveItLink\" href=\"../../../equality/__pv_it/3907ab5c01f6c9317b39937a40e58231ca0313cf0/expr.ipynb\"><img src=\"../../../equality/__pv_it/3907ab5c01f6c9317b39937a40e58231ca0313cf0/expr.png\" style=\"display:inline;vertical-align:middle;\" /></a></dd>"
      ],
      "text/plain": [
       "<IPython.core.display.HTML object>"
      ]
     },
     "metadata": {},
     "output_type": "display_data"
    },
    {
     "data": {
      "text/html": [
       "<dt><a class=\"ProveItLink\" href=\"../../../equality/_axioms_.ipynb#substitution\">proveit.logic.equality.substitution</a></dt><dd><a class=\"ProveItLink\" href=\"../../../equality/__pv_it/fce8b52e88693eef9d56c90f8a56ea5fa505017b0/expr.ipynb\"><img src=\"../../../equality/__pv_it/fce8b52e88693eef9d56c90f8a56ea5fa505017b0/expr.png\" style=\"display:inline;vertical-align:middle;\" /></a></dd>"
      ],
      "text/plain": [
       "<IPython.core.display.HTML object>"
      ]
     },
     "metadata": {},
     "output_type": "display_data"
    },
    {
     "data": {
      "text/html": [
       "</dl>"
      ],
      "text/plain": [
       "<IPython.core.display.HTML object>"
      ]
     },
     "metadata": {},
     "output_type": "display_data"
    },
    {
     "data": {
      "text/html": [
       "<h3>Theorems that depend directly on foldForallOverBool</h3>"
      ],
      "text/plain": [
       "<IPython.core.display.HTML object>"
      ]
     },
     "metadata": {},
     "output_type": "display_data"
    },
    {
     "data": {
      "text/html": [
       "<dl>"
      ],
      "text/plain": [
       "<IPython.core.display.HTML object>"
      ]
     },
     "metadata": {},
     "output_type": "display_data"
    },
    {
     "data": {
      "text/html": [
       "<dt><a class=\"ProveItLink\" href=\"../../conjunction/_proofs_/binaryClosure.ipynb\">proveit.logic.boolean.conjunction.binaryClosure</a></dt><dd><a class=\"ProveItLink\" href=\"../../conjunction/__pv_it/410e32499ee85f977c3672cdd5d64be52b919fb50/expr.ipynb\"><img src=\"../../conjunction/__pv_it/410e32499ee85f977c3672cdd5d64be52b919fb50/expr.png\" style=\"display:inline;vertical-align:middle;\" /></a></dd>"
      ],
      "text/plain": [
       "<IPython.core.display.HTML object>"
      ]
     },
     "metadata": {},
     "output_type": "display_data"
    },
    {
     "data": {
      "text/html": [
       "<dt><a class=\"ProveItLink\" href=\"../../conjunction/_proofs_/commutation.ipynb\">proveit.logic.boolean.conjunction.commutation</a></dt><dd><a class=\"ProveItLink\" href=\"../../conjunction/__pv_it/deda856007f4d21c02a5f337e80d736a6edad62a0/expr.ipynb\"><img src=\"../../conjunction/__pv_it/deda856007f4d21c02a5f337e80d736a6edad62a0/expr.png\" style=\"display:inline;vertical-align:middle;\" /></a></dd>"
      ],
      "text/plain": [
       "<IPython.core.display.HTML object>"
      ]
     },
     "metadata": {},
     "output_type": "display_data"
    },
    {
     "data": {
      "text/html": [
       "<dt><a class=\"ProveItLink\" href=\"../../conjunction/_proofs_/nandIfNotRight.ipynb\">proveit.logic.boolean.conjunction.nandIfNotRight</a></dt><dd><a class=\"ProveItLink\" href=\"../../conjunction/__pv_it/45130db468da66b64b386a601fbc9c61d5f115210/expr.ipynb\"><img src=\"../../conjunction/__pv_it/45130db468da66b64b386a601fbc9c61d5f115210/expr.png\" style=\"display:inline;vertical-align:middle;\" /></a></dd>"
      ],
      "text/plain": [
       "<IPython.core.display.HTML object>"
      ]
     },
     "metadata": {},
     "output_type": "display_data"
    },
    {
     "data": {
      "text/html": [
       "<dt><a class=\"ProveItLink\" href=\"../../conjunction/_proofs_/unary_and_reduction.ipynb\">proveit.logic.boolean.conjunction.unary_and_reduction</a></dt><dd><a class=\"ProveItLink\" href=\"../../conjunction/__pv_it/d12737b9a6d077d9d6ccdbdd33c0ad0b61e7d0180/expr.ipynb\"><img src=\"../../conjunction/__pv_it/d12737b9a6d077d9d6ccdbdd33c0ad0b61e7d0180/expr.png\" style=\"display:inline;vertical-align:middle;\" /></a></dd>"
      ],
      "text/plain": [
       "<IPython.core.display.HTML object>"
      ]
     },
     "metadata": {},
     "output_type": "display_data"
    },
    {
     "data": {
      "text/html": [
       "<dt><a class=\"ProveItLink\" href=\"../../disjunction/_proofs_/binaryClosure.ipynb\">proveit.logic.boolean.disjunction.binaryClosure</a></dt><dd><a class=\"ProveItLink\" href=\"../../disjunction/__pv_it/304ae2ef1a0f1921f6159b0d8a198cdca8a02de20/expr.ipynb\"><img src=\"../../disjunction/__pv_it/304ae2ef1a0f1921f6159b0d8a198cdca8a02de20/expr.png\" style=\"display:inline;vertical-align:middle;\" /></a></dd>"
      ],
      "text/plain": [
       "<IPython.core.display.HTML object>"
      ]
     },
     "metadata": {},
     "output_type": "display_data"
    },
    {
     "data": {
      "text/html": [
       "<dt><a class=\"ProveItLink\" href=\"../../disjunction/_proofs_/demorgansLawAndToOrBinExplicit.ipynb\">proveit.logic.boolean.disjunction.demorgansLawAndToOrBinExplicit</a></dt><dd><a class=\"ProveItLink\" href=\"../../disjunction/__pv_it/ce5aa581146ab8e0818423214a74b2acba0135d70/expr.ipynb\"><img src=\"../../disjunction/__pv_it/ce5aa581146ab8e0818423214a74b2acba0135d70/expr.png\" style=\"display:inline;vertical-align:middle;\" /></a></dd>"
      ],
      "text/plain": [
       "<IPython.core.display.HTML object>"
      ]
     },
     "metadata": {},
     "output_type": "display_data"
    },
    {
     "data": {
      "text/html": [
       "<dt><a class=\"ProveItLink\" href=\"../../disjunction/_proofs_/unaryOrReduction.ipynb\">proveit.logic.boolean.disjunction.unaryOrReduction</a></dt><dd><a class=\"ProveItLink\" href=\"../../disjunction/__pv_it/3472071821cd1e45a1da7699e498d77401a6158f0/expr.ipynb\"><img src=\"../../disjunction/__pv_it/3472071821cd1e45a1da7699e498d77401a6158f0/expr.png\" style=\"display:inline;vertical-align:middle;\" /></a></dd>"
      ],
      "text/plain": [
       "<IPython.core.display.HTML object>"
      ]
     },
     "metadata": {},
     "output_type": "display_data"
    },
    {
     "data": {
      "text/html": [
       "<dt><a class=\"ProveItLink\" href=\"../../_proofs_/foldConditionedForallOverBool.ipynb\">proveit.logic.boolean.foldConditionedForallOverBool</a></dt><dd><a class=\"ProveItLink\" href=\"../78a91c50e6676c948ffd76f3948d6dc31bacce740/expr.ipynb\"><img src=\"../78a91c50e6676c948ffd76f3948d6dc31bacce740/expr.png\" style=\"display:inline;vertical-align:middle;\" /></a></dd>"
      ],
      "text/plain": [
       "<IPython.core.display.HTML object>"
      ]
     },
     "metadata": {},
     "output_type": "display_data"
    },
    {
     "data": {
      "text/html": [
       "<dt><a class=\"ProveItLink\" href=\"../../implication/_proofs_/eqFromIff.ipynb\">proveit.logic.boolean.implication.eqFromIff</a></dt><dd><a class=\"ProveItLink\" href=\"../../implication/__pv_it/e2a5761239c91e42418c9df10dadd9a47cd4a9960/expr.ipynb\"><img src=\"../../implication/__pv_it/e2a5761239c91e42418c9df10dadd9a47cd4a9960/expr.png\" style=\"display:inline;vertical-align:middle;\" /></a></dd>"
      ],
      "text/plain": [
       "<IPython.core.display.HTML object>"
      ]
     },
     "metadata": {},
     "output_type": "display_data"
    },
    {
     "data": {
      "text/html": [
       "<dt><a class=\"ProveItLink\" href=\"../../implication/_proofs_/eqFromMutualImpl.ipynb\">proveit.logic.boolean.implication.eqFromMutualImpl</a></dt><dd><a class=\"ProveItLink\" href=\"../../implication/__pv_it/3014b0c5d2dbc9905bde532d9c70011c017201d70/expr.ipynb\"><img src=\"../../implication/__pv_it/3014b0c5d2dbc9905bde532d9c70011c017201d70/expr.png\" style=\"display:inline;vertical-align:middle;\" /></a></dd>"
      ],
      "text/plain": [
       "<IPython.core.display.HTML object>"
      ]
     },
     "metadata": {},
     "output_type": "display_data"
    },
    {
     "data": {
      "text/html": [
       "<dt><a class=\"ProveItLink\" href=\"../../implication/_proofs_/iffClosure.ipynb\">proveit.logic.boolean.implication.iffClosure</a></dt><dd><a class=\"ProveItLink\" href=\"../../implication/__pv_it/5075d3b4faad39e2a7456cd741aeef43664e9e8b0/expr.ipynb\"><img src=\"../../implication/__pv_it/5075d3b4faad39e2a7456cd741aeef43664e9e8b0/expr.png\" style=\"display:inline;vertical-align:middle;\" /></a></dd>"
      ],
      "text/plain": [
       "<IPython.core.display.HTML object>"
      ]
     },
     "metadata": {},
     "output_type": "display_data"
    },
    {
     "data": {
      "text/html": [
       "<dt><a class=\"ProveItLink\" href=\"../../implication/_proofs_/implicationClosure.ipynb\">proveit.logic.boolean.implication.implicationClosure</a></dt><dd><a class=\"ProveItLink\" href=\"../../implication/__pv_it/04da91658689d6e952887c1ad0a486d30145c7ac0/expr.ipynb\"><img src=\"../../implication/__pv_it/04da91658689d6e952887c1ad0a486d30145c7ac0/expr.png\" style=\"display:inline;vertical-align:middle;\" /></a></dd>"
      ],
      "text/plain": [
       "<IPython.core.display.HTML object>"
      ]
     },
     "metadata": {},
     "output_type": "display_data"
    },
    {
     "data": {
      "text/html": [
       "<dt><a class=\"ProveItLink\" href=\"../../negation/_proofs_/closure.ipynb\">proveit.logic.boolean.negation.closure</a></dt><dd><a class=\"ProveItLink\" href=\"../../negation/__pv_it/9b99fba53d74736609b6aafc7fd28ad167531fa30/expr.ipynb\"><img src=\"../../negation/__pv_it/9b99fba53d74736609b6aafc7fd28ad167531fa30/expr.png\" style=\"display:inline;vertical-align:middle;\" /></a></dd>"
      ],
      "text/plain": [
       "<IPython.core.display.HTML object>"
      ]
     },
     "metadata": {},
     "output_type": "display_data"
    },
    {
     "data": {
      "text/html": [
       "<dt><a class=\"ProveItLink\" href=\"../../negation/_proofs_/doubleNegationEquiv.ipynb\">proveit.logic.boolean.negation.doubleNegationEquiv</a></dt><dd><a class=\"ProveItLink\" href=\"../../negation/__pv_it/10b81b52f518568fcede5b0b7d57e07547a85c390/expr.ipynb\"><img src=\"../../negation/__pv_it/10b81b52f518568fcede5b0b7d57e07547a85c390/expr.png\" style=\"display:inline;vertical-align:middle;\" /></a></dd>"
      ],
      "text/plain": [
       "<IPython.core.display.HTML object>"
      ]
     },
     "metadata": {},
     "output_type": "display_data"
    },
    {
     "data": {
      "text/html": [
       "</dl>"
      ],
      "text/plain": [
       "<IPython.core.display.HTML object>"
      ]
     },
     "metadata": {},
     "output_type": "display_data"
    }
   ],
   "source": [
    "%dependencies foldForallOverBool"
   ]
  }
 ],
 "metadata": {
  "kernelspec": {
   "display_name": "Python 3",
   "language": "python",
   "name": "python3"
  },
  "language_info": {
   "codemirror_mode": {
    "name": "ipython",
    "version": 3
   },
   "file_extension": ".py",
   "mimetype": "text/x-python",
   "name": "python",
   "nbconvert_exporter": "python",
   "pygments_lexer": "ipython3",
   "version": "3.7.3"
  }
 },
 "nbformat": 4,
 "nbformat_minor": 1
}
