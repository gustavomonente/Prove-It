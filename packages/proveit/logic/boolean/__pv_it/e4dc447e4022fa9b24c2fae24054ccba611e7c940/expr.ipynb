{
 "cells": [
  {
   "cell_type": "markdown",
   "metadata": {},
   "source": [
    "Expression of type <a class=\"ProveItLink\" href=\"../../../../../../doc/html/api/proveit.logic.Equals.html\">Equals</a>\n",
    "=======================\n",
    "# from context <a class=\"ProveItLink\" href=\"../../_context_.ipynb\">proveit.logic.boolean</a>"
   ]
  },
  {
   "cell_type": "code",
   "execution_count": 1,
   "metadata": {},
   "outputs": [],
   "source": [
    "import proveit\n",
    "# Automation is not needed when building an expression:\n",
    "proveit.defaults.automation = False # This will speed things up.\n",
    "proveit.defaults.inline_pngs = False # Makes files smaller.\n",
    "# import Expression classes needed to build the expression\n",
    "from proveit._common_ import A\n",
    "from proveit.logic import Equals, FALSE, InSet, Or, Set, TRUE"
   ]
  },
  {
   "cell_type": "code",
   "execution_count": 2,
   "metadata": {},
   "outputs": [
    {
     "data": {
      "text/html": [
       "<strong id=\"expr\">expr:</strong> <a class=\"ProveItLink\" href=\"expr.ipynb\"><img src=\"expr.png\" style=\"display:inline;vertical-align:middle;\" /></a><br>"
      ],
      "text/plain": [
       "expr: (A in {TRUE, FALSE}) = ((A = TRUE) or (A = FALSE))"
      ]
     },
     "execution_count": 2,
     "metadata": {},
     "output_type": "execute_result"
    }
   ],
   "source": [
    "# build up the expression from sub-expressions\n",
    "expr = Equals(InSet(A, Set(TRUE, FALSE)), Or(Equals(A, TRUE), Equals(A, FALSE)))"
   ]
  },
  {
   "cell_type": "code",
   "execution_count": 3,
   "metadata": {},
   "outputs": [
    {
     "name": "stdout",
     "output_type": "stream",
     "text": [
      "Passed sanity check: built 'expr' is the same as the stored Expression.\n"
     ]
    }
   ],
   "source": [
    "# check that the built expression is the same as the stored expression\n",
    "%check_expr"
   ]
  },
  {
   "cell_type": "code",
   "execution_count": 4,
   "metadata": {},
   "outputs": [
    {
     "name": "stdout",
     "output_type": "stream",
     "text": [
      "\\left(A \\in \\left\\{\\top, \\bot\\right\\}\\right) = \\left(\\left(A = \\top\\right) \\lor \\left(A = \\bot\\right)\\right)\n"
     ]
    }
   ],
   "source": [
    "# Show the LaTeX representation of the expression for convenience if you need it.\n",
    "print(expr.latex())"
   ]
  },
  {
   "cell_type": "code",
   "execution_count": 5,
   "metadata": {},
   "outputs": [
    {
     "data": {
      "text/html": [
       "<table><tr><th>&nbsp;</th><th>core type</th><th>sub-expressions</th><th>expression</th></tr>\n",
       "<tr><td>0</td><td>Operation</td><td>operator:&nbsp;14<br>operands:&nbsp;1<br></td><td><a class=\"ProveItLink\" href=\"expr.ipynb\"><img src=\"expr.png\" style=\"display:inline;vertical-align:middle;\" /></a></td></tr>\n",
       "<tr><td>1</td><td>ExprTuple</td><td>2, 3</td><td><a class=\"ProveItLink\" href=\"../9fb40334932bb73667f0cfc8c4c08b001f9533400/expr.ipynb\"><img src=\"../9fb40334932bb73667f0cfc8c4c08b001f9533400/expr.png\" style=\"display:inline;vertical-align:middle;\" /></a></td></tr>\n",
       "<tr><td>2</td><td>Operation</td><td>operator:&nbsp;4<br>operands:&nbsp;5<br></td><td><a class=\"ProveItLink\" href=\"../493dc21a31771955cd4290784ead74c3f29b08080/expr.ipynb\"><img src=\"../493dc21a31771955cd4290784ead74c3f29b08080/expr.png\" style=\"display:inline;vertical-align:middle;\" /></a></td></tr>\n",
       "<tr><td>3</td><td>Operation</td><td>operator:&nbsp;6<br>operands:&nbsp;7<br></td><td><a class=\"ProveItLink\" href=\"../dcd85393e022f3f78c229f3f0768b14e45f5744b0/expr.ipynb\"><img src=\"../dcd85393e022f3f78c229f3f0768b14e45f5744b0/expr.png\" style=\"display:inline;vertical-align:middle;\" /></a></td></tr>\n",
       "<tr><td>4</td><td>Literal</td><td></td><td><a class=\"ProveItLink\" href=\"../../../set_theory/membership/__pv_it/7776fc89cb67d0b5b1ec2c0c8e08da5587921ccf0/expr.ipynb\"><img src=\"../../../set_theory/membership/__pv_it/7776fc89cb67d0b5b1ec2c0c8e08da5587921ccf0/expr.png\" style=\"display:inline;vertical-align:middle;\" /></a></td></tr>\n",
       "<tr><td>5</td><td>ExprTuple</td><td>17, 8</td><td><a class=\"ProveItLink\" href=\"../10ea0e46f55a3d7e1f981ab42bfb3261d4dbca7e0/expr.ipynb\"><img src=\"../10ea0e46f55a3d7e1f981ab42bfb3261d4dbca7e0/expr.png\" style=\"display:inline;vertical-align:middle;\" /></a></td></tr>\n",
       "<tr><td>6</td><td>Literal</td><td></td><td><a class=\"ProveItLink\" href=\"../../disjunction/__pv_it/8a6d9fc46c84b3911a71fbae15627dc2acebe2890/expr.ipynb\"><img src=\"../../disjunction/__pv_it/8a6d9fc46c84b3911a71fbae15627dc2acebe2890/expr.png\" style=\"display:inline;vertical-align:middle;\" /></a></td></tr>\n",
       "<tr><td>7</td><td>ExprTuple</td><td>9, 10</td><td><a class=\"ProveItLink\" href=\"../5b28a90be68cfa9f809771e219355f20d1fbf7fe0/expr.ipynb\"><img src=\"../5b28a90be68cfa9f809771e219355f20d1fbf7fe0/expr.png\" style=\"display:inline;vertical-align:middle;\" /></a></td></tr>\n",
       "<tr><td>8</td><td>Operation</td><td>operator:&nbsp;11<br>operands:&nbsp;12<br></td><td><a class=\"ProveItLink\" href=\"../123644d260f848b49760ceacd3b6b25c37217a8e0/expr.ipynb\"><img src=\"../123644d260f848b49760ceacd3b6b25c37217a8e0/expr.png\" style=\"display:inline;vertical-align:middle;\" /></a></td></tr>\n",
       "<tr><td>9</td><td>Operation</td><td>operator:&nbsp;14<br>operands:&nbsp;13<br></td><td><a class=\"ProveItLink\" href=\"../c84b54bbfaad4bce47785b36ea07aa7ea7fc86900/expr.ipynb\"><img src=\"../c84b54bbfaad4bce47785b36ea07aa7ea7fc86900/expr.png\" style=\"display:inline;vertical-align:middle;\" /></a></td></tr>\n",
       "<tr><td>10</td><td>Operation</td><td>operator:&nbsp;14<br>operands:&nbsp;15<br></td><td><a class=\"ProveItLink\" href=\"../065555d961250d893f246d8a3f1f824c13db078e0/expr.ipynb\"><img src=\"../065555d961250d893f246d8a3f1f824c13db078e0/expr.png\" style=\"display:inline;vertical-align:middle;\" /></a></td></tr>\n",
       "<tr><td>11</td><td>Literal</td><td></td><td><a class=\"ProveItLink\" href=\"../../../set_theory/enumeration/__pv_it/031f443c811429025ee9cba8d75037dd468e2c850/expr.ipynb\"><img src=\"../../../set_theory/enumeration/__pv_it/031f443c811429025ee9cba8d75037dd468e2c850/expr.png\" style=\"display:inline;vertical-align:middle;\" /></a></td></tr>\n",
       "<tr><td>12</td><td>ExprTuple</td><td>16, 18</td><td><a class=\"ProveItLink\" href=\"../5861d9f8f076d08cf6b863d63dcd9da43902b42a0/expr.ipynb\"><img src=\"../5861d9f8f076d08cf6b863d63dcd9da43902b42a0/expr.png\" style=\"display:inline;vertical-align:middle;\" /></a></td></tr>\n",
       "<tr><td>13</td><td>ExprTuple</td><td>17, 16</td><td><a class=\"ProveItLink\" href=\"../602566535081f451abd7a9f48a6951146c747c6a0/expr.ipynb\"><img src=\"../602566535081f451abd7a9f48a6951146c747c6a0/expr.png\" style=\"display:inline;vertical-align:middle;\" /></a></td></tr>\n",
       "<tr><td>14</td><td>Literal</td><td></td><td><a class=\"ProveItLink\" href=\"../../../equality/__pv_it/e16d2caa26a16688b658bdb9c422caf4b84579e10/expr.ipynb\"><img src=\"../../../equality/__pv_it/e16d2caa26a16688b658bdb9c422caf4b84579e10/expr.png\" style=\"display:inline;vertical-align:middle;\" /></a></td></tr>\n",
       "<tr><td>15</td><td>ExprTuple</td><td>17, 18</td><td><a class=\"ProveItLink\" href=\"../d2b6aa783853dce5a1b565f84d51c70e8815fd700/expr.ipynb\"><img src=\"../d2b6aa783853dce5a1b565f84d51c70e8815fd700/expr.png\" style=\"display:inline;vertical-align:middle;\" /></a></td></tr>\n",
       "<tr><td>16</td><td>Literal</td><td></td><td><a class=\"ProveItLink\" href=\"../b5b8ce0f03ab68a7c7bb937dfeb4112a686e3cbb0/expr.ipynb\"><img src=\"../b5b8ce0f03ab68a7c7bb937dfeb4112a686e3cbb0/expr.png\" style=\"display:inline;vertical-align:middle;\" /></a></td></tr>\n",
       "<tr><td>17</td><td>Variable</td><td></td><td><a class=\"ProveItLink\" href=\"../../../../__pv_it/d3792d0d8642fdf1cd2a3a9b32c673ee13653de00/expr.ipynb\"><img src=\"../../../../__pv_it/d3792d0d8642fdf1cd2a3a9b32c673ee13653de00/expr.png\" style=\"display:inline;vertical-align:middle;\" /></a></td></tr>\n",
       "<tr><td>18</td><td>Literal</td><td></td><td><a class=\"ProveItLink\" href=\"../83a1ddf0f64531c80e7f41ea6b904214668818b30/expr.ipynb\"><img src=\"../83a1ddf0f64531c80e7f41ea6b904214668818b30/expr.png\" style=\"display:inline;vertical-align:middle;\" /></a></td></tr>\n",
       "</table>\n"
      ],
      "text/plain": [
       "0. (A in {TRUE, FALSE}) = ((A = TRUE) or (A = FALSE))\n",
       "   core type: Operation\n",
       "   operator: 14\n",
       "   operands: 1\n",
       "1. (A in {TRUE, FALSE}, (A = TRUE) or (A = FALSE))\n",
       "   core type: ExprTuple\n",
       "   sub-expressions: 2, 3\n",
       "2. A in {TRUE, FALSE}\n",
       "   core type: Operation\n",
       "   operator: 4\n",
       "   operands: 5\n",
       "3. (A = TRUE) or (A = FALSE)\n",
       "   core type: Operation\n",
       "   operator: 6\n",
       "   operands: 7\n",
       "4. in\n",
       "   core type: Literal\n",
       "   sub-expressions: \n",
       "5. (A, {TRUE, FALSE})\n",
       "   core type: ExprTuple\n",
       "   sub-expressions: 17, 8\n",
       "6. or\n",
       "   core type: Literal\n",
       "   sub-expressions: \n",
       "7. (A = TRUE, A = FALSE)\n",
       "   core type: ExprTuple\n",
       "   sub-expressions: 9, 10\n",
       "8. {TRUE, FALSE}\n",
       "   core type: Operation\n",
       "   operator: 11\n",
       "   operands: 12\n",
       "9. A = TRUE\n",
       "   core type: Operation\n",
       "   operator: 14\n",
       "   operands: 13\n",
       "10. A = FALSE\n",
       "    core type: Operation\n",
       "    operator: 14\n",
       "    operands: 15\n",
       "11. Set\n",
       "    core type: Literal\n",
       "    sub-expressions: \n",
       "12. (TRUE, FALSE)\n",
       "    core type: ExprTuple\n",
       "    sub-expressions: 16, 18\n",
       "13. (A, TRUE)\n",
       "    core type: ExprTuple\n",
       "    sub-expressions: 17, 16\n",
       "14. =\n",
       "    core type: Literal\n",
       "    sub-expressions: \n",
       "15. (A, FALSE)\n",
       "    core type: ExprTuple\n",
       "    sub-expressions: 17, 18\n",
       "16. TRUE\n",
       "    core type: Literal\n",
       "    sub-expressions: \n",
       "17. A\n",
       "    core type: Variable\n",
       "    sub-expressions: \n",
       "18. FALSE\n",
       "    core type: Literal\n",
       "    sub-expressions: "
      ]
     },
     "execution_count": 5,
     "metadata": {},
     "output_type": "execute_result"
    }
   ],
   "source": [
    "# display the expression information\n",
    "expr.exprInfo()"
   ]
  },
  {
   "cell_type": "code",
   "execution_count": null,
   "metadata": {},
   "outputs": [],
   "source": []
  }
 ],
 "metadata": {
  "kernelspec": {
   "display_name": "Python 3",
   "language": "python",
   "name": "python3"
  },
  "language_info": {
   "codemirror_mode": {
    "name": "ipython",
    "version": 3
   },
   "file_extension": ".py",
   "mimetype": "text/x-python",
   "name": "python",
   "nbconvert_exporter": "python",
   "pygments_lexer": "ipython3",
   "version": "3.7.3"
  }
 },
 "nbformat": 4,
 "nbformat_minor": 1
}
