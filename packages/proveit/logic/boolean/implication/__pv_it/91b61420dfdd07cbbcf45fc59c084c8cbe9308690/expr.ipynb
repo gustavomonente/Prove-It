{
 "cells": [
  {
   "cell_type": "markdown",
   "metadata": {},
   "source": [
    "Expression of type <a class=\"ProveItLink\" href=\"../../../../../../../doc/html/api/proveit.logic.Implies.html\">Implies</a>\n",
    "=======================\n",
    "# from context <a class=\"ProveItLink\" href=\"../../_context_.ipynb\">proveit.logic.boolean.implication</a>"
   ]
  },
  {
   "cell_type": "code",
   "execution_count": 1,
   "metadata": {},
   "outputs": [],
   "source": [
    "import proveit\n",
    "# Automation is not needed when building an expression:\n",
    "proveit.defaults.automation = False # This will speed things up.\n",
    "proveit.defaults.inline_pngs = False # Makes files smaller.\n",
    "# import Expression classes needed to build the expression\n",
    "from proveit._common_ import A, B\n",
    "from proveit.logic import Booleans, Equals, Forall, Implies\n",
    "from proveit.logic.boolean.implication._theorems_ import eqFromMutualImpl"
   ]
  },
  {
   "cell_type": "code",
   "execution_count": 2,
   "metadata": {},
   "outputs": [
    {
     "data": {
      "text/html": [
       "<strong id=\"expr\">expr:</strong> <a class=\"ProveItLink\" href=\"expr.ipynb\"><img src=\"expr.png\" style=\"display:inline;vertical-align:middle;\" /></a><br>"
      ],
      "text/plain": [
       "expr: [forall_{A in BOOLEANS} [forall_{B in BOOLEANS | A => B, B => A} (A = B)]] \\\\  => [forall_{A in BOOLEANS, B in BOOLEANS | A => B, B => A} (A = B)]"
      ]
     },
     "execution_count": 2,
     "metadata": {},
     "output_type": "execute_result"
    }
   ],
   "source": [
    "# build up the expression from sub-expressions\n",
    "expr = Implies(Forall([A], Forall([B], Equals(A, B), domain = Booleans, conditions = [Implies(A, B), Implies(B, A)]), domain = Booleans), eqFromMutualImpl.expr).withWrappingAt(1)"
   ]
  },
  {
   "cell_type": "code",
   "execution_count": 3,
   "metadata": {},
   "outputs": [
    {
     "name": "stdout",
     "output_type": "stream",
     "text": [
      "Passed sanity check: built 'expr' is the same as the stored Expression.\n"
     ]
    }
   ],
   "source": [
    "# check that the built expression is the same as the stored expression\n",
    "%check_expr"
   ]
  },
  {
   "cell_type": "code",
   "execution_count": 4,
   "metadata": {},
   "outputs": [
    {
     "name": "stdout",
     "output_type": "stream",
     "text": [
      "\\begin{array}{c} \\left[\\forall_{A \\in \\mathbb{B}}~\\left[\\forall_{B \\in \\mathbb{B}~|~A \\Rightarrow B, B \\Rightarrow A}~\\left(A = B\\right)\\right]\\right] \\\\  \\Rightarrow \\left[\\forall_{A \\in \\mathbb{B}, B \\in \\mathbb{B}~|~A \\Rightarrow B, B \\Rightarrow A}~\\left(A = B\\right)\\right] \\end{array}\n"
     ]
    }
   ],
   "source": [
    "# Show the LaTeX representation of the expression for convenience if you need it.\n",
    "print(expr.latex())"
   ]
  },
  {
   "cell_type": "code",
   "execution_count": 5,
   "metadata": {},
   "outputs": [
    {
     "data": {
      "text/html": [
       "<table><tr><th>&nbsp;</th><th>core type</th><th>sub-expressions</th><th>expression</th></tr>\n",
       "<tr><td>0</td><td>Operation</td><td>operator:&nbsp;27<br>operands:&nbsp;1<br></td><td><a class=\"ProveItLink\" href=\"expr.ipynb\"><img src=\"expr.png\" style=\"display:inline;vertical-align:middle;\" /></a></td></tr>\n",
       "<tr><td>1</td><td>ExprTuple</td><td>2, 3</td><td><a class=\"ProveItLink\" href=\"../f43e25b542babff1bfe53718bdb5fe47154236da0/expr.ipynb\"><img src=\"../f43e25b542babff1bfe53718bdb5fe47154236da0/expr.png\" style=\"display:inline;vertical-align:middle;\" /></a></td></tr>\n",
       "<tr><td>2</td><td>Operation</td><td>operator:&nbsp;10<br>operand:&nbsp;4<br></td><td><a class=\"ProveItLink\" href=\"../b13d3b9db8d71235fcfd06d774d0f5c6f25e35890/expr.ipynb\"><img src=\"../b13d3b9db8d71235fcfd06d774d0f5c6f25e35890/expr.png\" style=\"display:inline;vertical-align:middle;\" /></a></td></tr>\n",
       "<tr><td>3</td><td>Operation</td><td>operator:&nbsp;10<br>operand:&nbsp;5<br></td><td><a class=\"ProveItLink\" href=\"../3f276a98ff5d2c9b126b1bea3066e685e5174a470/expr.ipynb\"><img src=\"../3f276a98ff5d2c9b126b1bea3066e685e5174a470/expr.png\" style=\"display:inline;vertical-align:middle;\" /></a></td></tr>\n",
       "<tr><td>4</td><td>Lambda</td><td>parameter:&nbsp;31<br>body:&nbsp;6<br></td><td><a class=\"ProveItLink\" href=\"../b866307209defe9df17ec16a4cfc6beab07ad1330/expr.ipynb\"><img src=\"../b866307209defe9df17ec16a4cfc6beab07ad1330/expr.png\" style=\"display:inline;vertical-align:middle;\" /></a></td></tr>\n",
       "<tr><td>5</td><td>Lambda</td><td>parameters:&nbsp;26<br>body:&nbsp;7<br></td><td><a class=\"ProveItLink\" href=\"../781983e63b34f6b2b0613c389f05be713238cf7e0/expr.ipynb\"><img src=\"../781983e63b34f6b2b0613c389f05be713238cf7e0/expr.png\" style=\"display:inline;vertical-align:middle;\" /></a></td></tr>\n",
       "<tr><td>6</td><td>Conditional</td><td>value:&nbsp;8<br>condition:&nbsp;14<br></td><td><a class=\"ProveItLink\" href=\"../bc115c4d18d21fd88b61f99cac2f09b22fe1a6350/expr.ipynb\"><img src=\"../bc115c4d18d21fd88b61f99cac2f09b22fe1a6350/expr.png\" style=\"display:inline;vertical-align:middle;\" /></a></td></tr>\n",
       "<tr><td>7</td><td>Conditional</td><td>value:&nbsp;15<br>condition:&nbsp;9<br></td><td><a class=\"ProveItLink\" href=\"../007be109a8de88f85d8749a5a948d0b9c659ac940/expr.ipynb\"><img src=\"../007be109a8de88f85d8749a5a948d0b9c659ac940/expr.png\" style=\"display:inline;vertical-align:middle;\" /></a></td></tr>\n",
       "<tr><td>8</td><td>Operation</td><td>operator:&nbsp;10<br>operand:&nbsp;11<br></td><td><a class=\"ProveItLink\" href=\"../0a30d0fddf633b5aa867656642234c20074862e00/expr.ipynb\"><img src=\"../0a30d0fddf633b5aa867656642234c20074862e00/expr.png\" style=\"display:inline;vertical-align:middle;\" /></a></td></tr>\n",
       "<tr><td>9</td><td>Operation</td><td>operator:&nbsp;19<br>operands:&nbsp;12<br></td><td><a class=\"ProveItLink\" href=\"../0aa7e6a690681a4f01cc7a62e87a478bad31f10d0/expr.ipynb\"><img src=\"../0aa7e6a690681a4f01cc7a62e87a478bad31f10d0/expr.png\" style=\"display:inline;vertical-align:middle;\" /></a></td></tr>\n",
       "<tr><td>10</td><td>Literal</td><td></td><td><a class=\"ProveItLink\" href=\"../../../quantification/universal/__pv_it/fd9c772d6675566ed52a6897806f45eb08a4ea910/expr.ipynb\"><img src=\"../../../quantification/universal/__pv_it/fd9c772d6675566ed52a6897806f45eb08a4ea910/expr.png\" style=\"display:inline;vertical-align:middle;\" /></a></td></tr>\n",
       "<tr><td>11</td><td>Lambda</td><td>parameter:&nbsp;30<br>body:&nbsp;13<br></td><td><a class=\"ProveItLink\" href=\"../be9740ad0313cf19f7139ade63bcaf96e1b487980/expr.ipynb\"><img src=\"../be9740ad0313cf19f7139ade63bcaf96e1b487980/expr.png\" style=\"display:inline;vertical-align:middle;\" /></a></td></tr>\n",
       "<tr><td>12</td><td>ExprTuple</td><td>14, 21, 22, 23</td><td><a class=\"ProveItLink\" href=\"../7cd01478f35c0d39bd8a3cb1aaa32d0c6395f62f0/expr.ipynb\"><img src=\"../7cd01478f35c0d39bd8a3cb1aaa32d0c6395f62f0/expr.png\" style=\"display:inline;vertical-align:middle;\" /></a></td></tr>\n",
       "<tr><td>13</td><td>Conditional</td><td>value:&nbsp;15<br>condition:&nbsp;16<br></td><td><a class=\"ProveItLink\" href=\"../efa5e4de6df93011becb9aae944720ae0439e8720/expr.ipynb\"><img src=\"../efa5e4de6df93011becb9aae944720ae0439e8720/expr.png\" style=\"display:inline;vertical-align:middle;\" /></a></td></tr>\n",
       "<tr><td>14</td><td>Operation</td><td>operator:&nbsp;24<br>operands:&nbsp;17<br></td><td><a class=\"ProveItLink\" href=\"../8776f6509d0e01db99c8c290ab1853b3db3d048c0/expr.ipynb\"><img src=\"../8776f6509d0e01db99c8c290ab1853b3db3d048c0/expr.png\" style=\"display:inline;vertical-align:middle;\" /></a></td></tr>\n",
       "<tr><td>15</td><td>Operation</td><td>operator:&nbsp;18<br>operands:&nbsp;26<br></td><td><a class=\"ProveItLink\" href=\"../6c889a944770ced08cc513e58d9d65d7096bcb710/expr.ipynb\"><img src=\"../6c889a944770ced08cc513e58d9d65d7096bcb710/expr.png\" style=\"display:inline;vertical-align:middle;\" /></a></td></tr>\n",
       "<tr><td>16</td><td>Operation</td><td>operator:&nbsp;19<br>operands:&nbsp;20<br></td><td><a class=\"ProveItLink\" href=\"../aa54afb5e126a08764a5cd041003f847910761740/expr.ipynb\"><img src=\"../aa54afb5e126a08764a5cd041003f847910761740/expr.png\" style=\"display:inline;vertical-align:middle;\" /></a></td></tr>\n",
       "<tr><td>17</td><td>ExprTuple</td><td>31, 29</td><td><a class=\"ProveItLink\" href=\"../0969dc1cafe9ecb1790af088b1aae8d6ce560fda0/expr.ipynb\"><img src=\"../0969dc1cafe9ecb1790af088b1aae8d6ce560fda0/expr.png\" style=\"display:inline;vertical-align:middle;\" /></a></td></tr>\n",
       "<tr><td>18</td><td>Literal</td><td></td><td><a class=\"ProveItLink\" href=\"../../../../equality/__pv_it/e16d2caa26a16688b658bdb9c422caf4b84579e10/expr.ipynb\"><img src=\"../../../../equality/__pv_it/e16d2caa26a16688b658bdb9c422caf4b84579e10/expr.png\" style=\"display:inline;vertical-align:middle;\" /></a></td></tr>\n",
       "<tr><td>19</td><td>Literal</td><td></td><td><a class=\"ProveItLink\" href=\"../../../conjunction/__pv_it/f41cc6b553210927c09f19a8a39cdf860a5585930/expr.ipynb\"><img src=\"../../../conjunction/__pv_it/f41cc6b553210927c09f19a8a39cdf860a5585930/expr.png\" style=\"display:inline;vertical-align:middle;\" /></a></td></tr>\n",
       "<tr><td>20</td><td>ExprTuple</td><td>21, 22, 23</td><td><a class=\"ProveItLink\" href=\"../5a9b891915d5a23da818af4df32603b090127e230/expr.ipynb\"><img src=\"../5a9b891915d5a23da818af4df32603b090127e230/expr.png\" style=\"display:inline;vertical-align:middle;\" /></a></td></tr>\n",
       "<tr><td>21</td><td>Operation</td><td>operator:&nbsp;24<br>operands:&nbsp;25<br></td><td><a class=\"ProveItLink\" href=\"../af21e96bc662cb74cc7cb3eb21c032f16e434dba0/expr.ipynb\"><img src=\"../af21e96bc662cb74cc7cb3eb21c032f16e434dba0/expr.png\" style=\"display:inline;vertical-align:middle;\" /></a></td></tr>\n",
       "<tr><td>22</td><td>Operation</td><td>operator:&nbsp;27<br>operands:&nbsp;26<br></td><td><a class=\"ProveItLink\" href=\"../8b52df86786c45166e4e597fabcdbadc8276ac2f0/expr.ipynb\"><img src=\"../8b52df86786c45166e4e597fabcdbadc8276ac2f0/expr.png\" style=\"display:inline;vertical-align:middle;\" /></a></td></tr>\n",
       "<tr><td>23</td><td>Operation</td><td>operator:&nbsp;27<br>operands:&nbsp;28<br></td><td><a class=\"ProveItLink\" href=\"../8b9c784705e35002d4429ef743e77d1f418289900/expr.ipynb\"><img src=\"../8b9c784705e35002d4429ef743e77d1f418289900/expr.png\" style=\"display:inline;vertical-align:middle;\" /></a></td></tr>\n",
       "<tr><td>24</td><td>Literal</td><td></td><td><a class=\"ProveItLink\" href=\"../../../../set_theory/membership/__pv_it/7776fc89cb67d0b5b1ec2c0c8e08da5587921ccf0/expr.ipynb\"><img src=\"../../../../set_theory/membership/__pv_it/7776fc89cb67d0b5b1ec2c0c8e08da5587921ccf0/expr.png\" style=\"display:inline;vertical-align:middle;\" /></a></td></tr>\n",
       "<tr><td>25</td><td>ExprTuple</td><td>30, 29</td><td><a class=\"ProveItLink\" href=\"../43cf56dd5c4fd9c5d6ca0453908f71631eb84b860/expr.ipynb\"><img src=\"../43cf56dd5c4fd9c5d6ca0453908f71631eb84b860/expr.png\" style=\"display:inline;vertical-align:middle;\" /></a></td></tr>\n",
       "<tr><td>26</td><td>ExprTuple</td><td>31, 30</td><td><a class=\"ProveItLink\" href=\"../5ba9a2996c4f7c4d12731615ed3a34ca901fa86c0/expr.ipynb\"><img src=\"../5ba9a2996c4f7c4d12731615ed3a34ca901fa86c0/expr.png\" style=\"display:inline;vertical-align:middle;\" /></a></td></tr>\n",
       "<tr><td>27</td><td>Literal</td><td></td><td><a class=\"ProveItLink\" href=\"../1e62b0c0a90306fc48b17f0dc8d4dc4df8bb234f0/expr.ipynb\"><img src=\"../1e62b0c0a90306fc48b17f0dc8d4dc4df8bb234f0/expr.png\" style=\"display:inline;vertical-align:middle;\" /></a></td></tr>\n",
       "<tr><td>28</td><td>ExprTuple</td><td>30, 31</td><td><a class=\"ProveItLink\" href=\"../a3f093f16465bc720870fbe21a7e8d537a741ea00/expr.ipynb\"><img src=\"../a3f093f16465bc720870fbe21a7e8d537a741ea00/expr.png\" style=\"display:inline;vertical-align:middle;\" /></a></td></tr>\n",
       "<tr><td>29</td><td>Literal</td><td></td><td><a class=\"ProveItLink\" href=\"../../../__pv_it/a3b387936f605fef1b535be3e1116cca8bbfc91b0/expr.ipynb\"><img src=\"../../../__pv_it/a3b387936f605fef1b535be3e1116cca8bbfc91b0/expr.png\" style=\"display:inline;vertical-align:middle;\" /></a></td></tr>\n",
       "<tr><td>30</td><td>Variable</td><td></td><td><a class=\"ProveItLink\" href=\"../../../../../__pv_it/4d98b438710c5ada9ffa4646bb123a7d0e69ec000/expr.ipynb\"><img src=\"../../../../../__pv_it/4d98b438710c5ada9ffa4646bb123a7d0e69ec000/expr.png\" style=\"display:inline;vertical-align:middle;\" /></a></td></tr>\n",
       "<tr><td>31</td><td>Variable</td><td></td><td><a class=\"ProveItLink\" href=\"../../../../../__pv_it/d3792d0d8642fdf1cd2a3a9b32c673ee13653de00/expr.ipynb\"><img src=\"../../../../../__pv_it/d3792d0d8642fdf1cd2a3a9b32c673ee13653de00/expr.png\" style=\"display:inline;vertical-align:middle;\" /></a></td></tr>\n",
       "</table>\n"
      ],
      "text/plain": [
       "0. [forall_{A in BOOLEANS} [forall_{B in BOOLEANS | A => B, B => A} (A = B)]] \\\\  => [forall_{A in BOOLEANS, B in BOOLEANS | A => B, B => A} (A = B)]\n",
       "   core type: Operation\n",
       "   operator: 27\n",
       "   operands: 1\n",
       "1. (forall_{A in BOOLEANS} [forall_{B in BOOLEANS | A => B, B => A} (A = B)], forall_{A in BOOLEANS, B in BOOLEANS | A => B, B => A} (A = B))\n",
       "   core type: ExprTuple\n",
       "   sub-expressions: 2, 3\n",
       "2. forall_{A in BOOLEANS} [forall_{B in BOOLEANS | A => B, B => A} (A = B)]\n",
       "   core type: Operation\n",
       "   operator: 10\n",
       "   operand: 4\n",
       "3. forall_{A in BOOLEANS, B in BOOLEANS | A => B, B => A} (A = B)\n",
       "   core type: Operation\n",
       "   operator: 10\n",
       "   operand: 5\n",
       "4. A -> {forall_{B in BOOLEANS | A => B, B => A} (A = B) if A in BOOLEANS.\n",
       "   core type: Lambda\n",
       "   parameter: 31\n",
       "   body: 6\n",
       "5. (A, B) -> {A = B if A in BOOLEANS ,  B in BOOLEANS ,  A => B ,  B => A.\n",
       "   core type: Lambda\n",
       "   parameters: 26\\n   body: 7\n",
       "6. {forall_{B in BOOLEANS | A => B, B => A} (A = B) if A in BOOLEANS.\n",
       "   core type: Conditional\n",
       "   value: 8\n",
       "   condition: 14\n",
       "7. {A = B if A in BOOLEANS ,  B in BOOLEANS ,  A => B ,  B => A.\n",
       "   core type: Conditional\n",
       "   value: 15\n",
       "   condition: 9\n",
       "8. forall_{B in BOOLEANS | A => B, B => A} (A = B)\n",
       "   core type: Operation\n",
       "   operator: 10\n",
       "   operand: 11\n",
       "9. (A in BOOLEANS) and (B in BOOLEANS) and (A => B) and (B => A)\n",
       "   core type: Operation\n",
       "   operator: 19\n",
       "   operands: 12\n",
       "10. forall\n",
       "    core type: Literal\n",
       "    sub-expressions: \n",
       "11. B -> {A = B if B in BOOLEANS ,  A => B ,  B => A.\n",
       "    core type: Lambda\n",
       "    parameter: 30\n",
       "    body: 13\n",
       "12. (A in BOOLEANS, B in BOOLEANS, A => B, B => A)\n",
       "    core type: ExprTuple\n",
       "    sub-expressions: 14, 21, 22, 23\n",
       "13. {A = B if B in BOOLEANS ,  A => B ,  B => A.\n",
       "    core type: Conditional\n",
       "    value: 15\n",
       "    condition: 16\n",
       "14. A in BOOLEANS\n",
       "    core type: Operation\n",
       "    operator: 24\n",
       "    operands: 17\n",
       "15. A = B\n",
       "    core type: Operation\n",
       "    operator: 18\n",
       "    operands: 26\n",
       "16. (B in BOOLEANS) and (A => B) and (B => A)\n",
       "    core type: Operation\n",
       "    operator: 19\n",
       "    operands: 20\n",
       "17. (A, BOOLEANS)\n",
       "    core type: ExprTuple\n",
       "    sub-expressions: 31, 29\n",
       "18. =\n",
       "    core type: Literal\n",
       "    sub-expressions: \n",
       "19. and\n",
       "    core type: Literal\n",
       "    sub-expressions: \n",
       "20. (B in BOOLEANS, A => B, B => A)\n",
       "    core type: ExprTuple\n",
       "    sub-expressions: 21, 22, 23\n",
       "21. B in BOOLEANS\n",
       "    core type: Operation\n",
       "    operator: 24\n",
       "    operands: 25\n",
       "22. A => B\n",
       "    core type: Operation\n",
       "    operator: 27\n",
       "    operands: 26\n",
       "23. B => A\n",
       "    core type: Operation\n",
       "    operator: 27\n",
       "    operands: 28\n",
       "24. in\n",
       "    core type: Literal\n",
       "    sub-expressions: \n",
       "25. (B, BOOLEANS)\n",
       "    core type: ExprTuple\n",
       "    sub-expressions: 30, 29\n",
       "26. (A, B)\n",
       "    core type: ExprTuple\n",
       "    sub-expressions: 31, 30\n",
       "27. =>\n",
       "    core type: Literal\n",
       "    sub-expressions: \n",
       "28. (B, A)\n",
       "    core type: ExprTuple\n",
       "    sub-expressions: 30, 31\n",
       "29. BOOLEANS\n",
       "    core type: Literal\n",
       "    sub-expressions: \n",
       "30. B\n",
       "    core type: Variable\n",
       "    sub-expressions: \n",
       "31. A\n",
       "    core type: Variable\n",
       "    sub-expressions: "
      ]
     },
     "execution_count": 5,
     "metadata": {},
     "output_type": "execute_result"
    }
   ],
   "source": [
    "# display the expression information\n",
    "expr.exprInfo()"
   ]
  },
  {
   "cell_type": "code",
   "execution_count": null,
   "metadata": {},
   "outputs": [],
   "source": []
  }
 ],
 "metadata": {
  "kernelspec": {
   "display_name": "Python 3",
   "language": "python",
   "name": "python3"
  },
  "language_info": {
   "codemirror_mode": {
    "name": "ipython",
    "version": 3
   },
   "file_extension": ".py",
   "mimetype": "text/x-python",
   "name": "python",
   "nbconvert_exporter": "python",
   "pygments_lexer": "ipython3",
   "version": "3.7.3"
  }
 },
 "nbformat": 4,
 "nbformat_minor": 1
}
