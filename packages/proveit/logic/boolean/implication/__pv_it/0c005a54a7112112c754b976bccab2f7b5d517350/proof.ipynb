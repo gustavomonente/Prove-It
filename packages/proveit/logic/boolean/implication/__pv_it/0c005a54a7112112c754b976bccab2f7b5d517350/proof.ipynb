{
 "cells": [
  {
   "cell_type": "markdown",
   "metadata": {},
   "source": [
    "Show the Proof\n",
    "========"
   ]
  },
  {
   "cell_type": "code",
   "execution_count": 1,
   "metadata": {},
   "outputs": [
    {
     "data": {
      "text/html": [
       "<table><tr><th>&nbsp;</th><th>step type</th><th>requirements</th><th>statement</th></tr>\n",
       "<tr><td><a name=\"proveit.logic.boolean.implication.0c005a54a7112112c754b976bccab2f7b5d517350_step0\">0</a></td><td>instantiation</td><td><a href=\"#proveit.logic.boolean.implication.0c005a54a7112112c754b976bccab2f7b5d517350_step1\">1</a>, <a href=\"#proveit.logic.boolean.implication.0c005a54a7112112c754b976bccab2f7b5d517350_step2\">2</a>, <a href=\"#proveit.logic.boolean.implication.0c005a54a7112112c754b976bccab2f7b5d517350_step3\">3</a>, <a href=\"#proveit.logic.boolean.implication.0c005a54a7112112c754b976bccab2f7b5d517350_step4\">4</a></td><td><span style=\"font-size:20px;\"> <a class=\"ProveItLink\" href=\"proof.ipynb\" style=\"text-decoration: none\">&#x22A2;&nbsp;</a><a class=\"ProveItLink\" href=\"../1c07ff627bcf41ccd15638ed419eeb3a9b89adfa0/expr.ipynb\"><img src=\"../1c07ff627bcf41ccd15638ed419eeb3a9b89adfa0/expr.png\" style=\"display:inline;vertical-align:middle;\" /></a></span></td></tr>\n",
       "<tr><td>&nbsp;</td><td colspan=4 style=\"text-align:left\"><span style=\"font-size:20px;\"><a class=\"ProveItLink\" href=\"../../../../../__pv_it/6e8a38e9a7e2b6af352562cd77e0eb4751f142620/expr.ipynb\"><img src=\"../../../../../__pv_it/6e8a38e9a7e2b6af352562cd77e0eb4751f142620/expr.png\" style=\"display:inline;vertical-align:middle;\" /></a> : <a class=\"ProveItLink\" href=\"../../../../../number/numeral/__pv_it/f086f8c372bd40a2458306ddfdbb29f3dc6f63030/expr.ipynb\"><img src=\"../../../../../number/numeral/__pv_it/f086f8c372bd40a2458306ddfdbb29f3dc6f63030/expr.png\" style=\"display:inline;vertical-align:middle;\" /></a>, <a class=\"ProveItLink\" href=\"../../../../../__pv_it/0c1c4cb515e0f4344b1ac06650f349123e526deb0/expr.ipynb\"><img src=\"../../../../../__pv_it/0c1c4cb515e0f4344b1ac06650f349123e526deb0/expr.png\" style=\"display:inline;vertical-align:middle;\" /></a> : <a class=\"ProveItLink\" href=\"../../../../../number/numeral/__pv_it/f086f8c372bd40a2458306ddfdbb29f3dc6f63030/expr.ipynb\"><img src=\"../../../../../number/numeral/__pv_it/f086f8c372bd40a2458306ddfdbb29f3dc6f63030/expr.png\" style=\"display:inline;vertical-align:middle;\" /></a>, <a class=\"ProveItLink\" href=\"../144a3b23cb104ce91c5b1727859129db3fbe2c1b0/expr.ipynb\"><img src=\"../144a3b23cb104ce91c5b1727859129db3fbe2c1b0/expr.png\" style=\"display:inline;vertical-align:middle;\" /></a> : <a class=\"ProveItLink\" href=\"../902b7ea59904613a1a9e1fa2d6696d3ca70ce2f90/expr.ipynb\"><img src=\"../902b7ea59904613a1a9e1fa2d6696d3ca70ce2f90/expr.png\" style=\"display:inline;vertical-align:middle;\" /></a>, <a class=\"ProveItLink\" href=\"../806d332d9ae482bd014e8282d8925209ed3000380/expr.ipynb\"><img src=\"../806d332d9ae482bd014e8282d8925209ed3000380/expr.png\" style=\"display:inline;vertical-align:middle;\" /></a> : <a class=\"ProveItLink\" href=\"../8776f6509d0e01db99c8c290ab1853b3db3d048c0/expr.ipynb\"><img src=\"../8776f6509d0e01db99c8c290ab1853b3db3d048c0/expr.png\" style=\"display:inline;vertical-align:middle;\" /></a>, <a class=\"ProveItLink\" href=\"../8928ee07f15227b1825d52d9552cadf7b6c1ceb10/expr.ipynb\"><img src=\"../8928ee07f15227b1825d52d9552cadf7b6c1ceb10/expr.png\" style=\"display:inline;vertical-align:middle;\" /></a> : <a class=\"ProveItLink\" href=\"../af21e96bc662cb74cc7cb3eb21c032f16e434dba0/expr.ipynb\"><img src=\"../af21e96bc662cb74cc7cb3eb21c032f16e434dba0/expr.png\" style=\"display:inline;vertical-align:middle;\" /></a>, <a class=\"ProveItLink\" href=\"../58451135f7ff4b3f28af533f7ac92e90a02f7aff0/expr.ipynb\"><img src=\"../58451135f7ff4b3f28af533f7ac92e90a02f7aff0/expr.png\" style=\"display:inline;vertical-align:middle;\" /></a> : <a class=\"ProveItLink\" href=\"../16cc7e505ba79fdf552a5fa0a8ca6a0f48245ac40/expr.ipynb\"><img src=\"../16cc7e505ba79fdf552a5fa0a8ca6a0f48245ac40/expr.png\" style=\"display:inline;vertical-align:middle;\" /></a>, <a class=\"ProveItLink\" href=\"../ff3499909a9f270aa04a3189cc91b5e5e93731030/expr.ipynb\"><img src=\"../ff3499909a9f270aa04a3189cc91b5e5e93731030/expr.png\" style=\"display:inline;vertical-align:middle;\" /></a> : <a class=\"ProveItLink\" href=\"../abc210f592ae6a2317f74006313b14fe93b8dacb0/expr.ipynb\"><img src=\"../abc210f592ae6a2317f74006313b14fe93b8dacb0/expr.png\" style=\"display:inline;vertical-align:middle;\" /></a></span></td></tr><tr><td><a name=\"proveit.logic.boolean.implication.0c005a54a7112112c754b976bccab2f7b5d517350_step1\">1</a></td><td>theorem</td><td></td><td><span style=\"font-size:20px;\"> <a class=\"ProveItLink\" href=\"../../../quantification/universal/_proofs_/bundle.ipynb\" style=\"text-decoration: none\">&#x22A2;&nbsp;</a><a class=\"ProveItLink\" href=\"../783e58e2ce70078b1fe63ba6bf1e0d4746e9a0c20/expr.ipynb\"><img src=\"../783e58e2ce70078b1fe63ba6bf1e0d4746e9a0c20/expr.png\" style=\"display:inline;vertical-align:middle;\" /></a></span></td></tr>\n",
       "<tr><td>&nbsp;</td><td colspan=4 style-\"text-align:left\"><a class=\"ProveItLink\" href=\"../../../quantification/universal/_proofs_/bundle.ipynb\">proveit.logic.boolean.quantification.universal.bundle</a></td></tr><tr><td><a name=\"proveit.logic.boolean.implication.0c005a54a7112112c754b976bccab2f7b5d517350_step2\">2</a></td><td>instantiation</td><td><a href=\"#proveit.logic.boolean.implication.0c005a54a7112112c754b976bccab2f7b5d517350_step5\">5</a></td><td><span style=\"font-size:20px;\"> <a class=\"ProveItLink\" href=\"../bc36a025fbd12b84e8bc2c8ccfa47cd15fd788f20/proof.ipynb\" style=\"text-decoration: none\">&#x22A2;&nbsp;</a><a class=\"ProveItLink\" href=\"../a73a4627ccd3e4e518cc67ad3132db85ae63b6ca0/expr.ipynb\"><img src=\"../a73a4627ccd3e4e518cc67ad3132db85ae63b6ca0/expr.png\" style=\"display:inline;vertical-align:middle;\" /></a></span></td></tr>\n",
       "<tr><td>&nbsp;</td><td colspan=4 style=\"text-align:left\"><span style=\"font-size:20px;\"><a class=\"ProveItLink\" href=\"../../../../../__pv_it/a8d4b3a34d2189508f9082853fbac36935714f280/expr.ipynb\"><img src=\"../../../../../__pv_it/a8d4b3a34d2189508f9082853fbac36935714f280/expr.png\" style=\"display:inline;vertical-align:middle;\" /></a> : <a class=\"ProveItLink\" href=\"../../../../../__pv_it/d3792d0d8642fdf1cd2a3a9b32c673ee13653de00/expr.ipynb\"><img src=\"../../../../../__pv_it/d3792d0d8642fdf1cd2a3a9b32c673ee13653de00/expr.png\" style=\"display:inline;vertical-align:middle;\" /></a></span></td></tr><tr><td><a name=\"proveit.logic.boolean.implication.0c005a54a7112112c754b976bccab2f7b5d517350_step3\">3</a></td><td>instantiation</td><td><a href=\"#proveit.logic.boolean.implication.0c005a54a7112112c754b976bccab2f7b5d517350_step5\">5</a></td><td><span style=\"font-size:20px;\"> <a class=\"ProveItLink\" href=\"../97b2bff5580a5e20fbce3f8887f3e53b2f71e7410/proof.ipynb\" style=\"text-decoration: none\">&#x22A2;&nbsp;</a><a class=\"ProveItLink\" href=\"../9cba0721400312dbae1b5c223c907f5607178d1d0/expr.ipynb\"><img src=\"../9cba0721400312dbae1b5c223c907f5607178d1d0/expr.png\" style=\"display:inline;vertical-align:middle;\" /></a></span></td></tr>\n",
       "<tr><td>&nbsp;</td><td colspan=4 style=\"text-align:left\"><span style=\"font-size:20px;\"><a class=\"ProveItLink\" href=\"../../../../../__pv_it/a8d4b3a34d2189508f9082853fbac36935714f280/expr.ipynb\"><img src=\"../../../../../__pv_it/a8d4b3a34d2189508f9082853fbac36935714f280/expr.png\" style=\"display:inline;vertical-align:middle;\" /></a> : <a class=\"ProveItLink\" href=\"../../../../../__pv_it/4d98b438710c5ada9ffa4646bb123a7d0e69ec000/expr.ipynb\"><img src=\"../../../../../__pv_it/4d98b438710c5ada9ffa4646bb123a7d0e69ec000/expr.png\" style=\"display:inline;vertical-align:middle;\" /></a></span></td></tr><tr><td><a name=\"proveit.logic.boolean.implication.0c005a54a7112112c754b976bccab2f7b5d517350_step4\">4</a></td><td>theorem</td><td></td><td><span style=\"font-size:20px;\"> <a class=\"ProveItLink\" href=\"../../../../../number/numeral/deci/_proofs_/posnat1.ipynb\" style=\"text-decoration: none\">&#x22A2;&nbsp;</a><a class=\"ProveItLink\" href=\"../de9ceaf769f36cdba00e5fe81f80934e583ca7d90/expr.ipynb\"><img src=\"../de9ceaf769f36cdba00e5fe81f80934e583ca7d90/expr.png\" style=\"display:inline;vertical-align:middle;\" /></a></span></td></tr>\n",
       "<tr><td>&nbsp;</td><td colspan=4 style-\"text-align:left\"><a class=\"ProveItLink\" href=\"../../../../../number/numeral/deci/_proofs_/posnat1.ipynb\">proveit.number.numeral.deci.posnat1</a></td></tr><tr><td><a name=\"proveit.logic.boolean.implication.0c005a54a7112112c754b976bccab2f7b5d517350_step5\">5</a></td><td>theorem</td><td></td><td><span style=\"font-size:20px;\"> <a class=\"ProveItLink\" href=\"../../../../../number/numeral/deci/_proofs_/tuple_len_1_typical_equiv.ipynb\" style=\"text-decoration: none\">&#x22A2;&nbsp;</a><a class=\"ProveItLink\" href=\"../c70a6e4cbe09567938be76e95e62e9759828831b0/expr.ipynb\"><img src=\"../c70a6e4cbe09567938be76e95e62e9759828831b0/expr.png\" style=\"display:inline;vertical-align:middle;\" /></a></span></td></tr>\n",
       "<tr><td>&nbsp;</td><td colspan=4 style-\"text-align:left\"><a class=\"ProveItLink\" href=\"../../../../../number/numeral/deci/_proofs_/tuple_len_1_typical_equiv.ipynb\">proveit.number.numeral.deci.tuple_len_1_typical_equiv</a></td></tr></table>"
      ],
      "text/plain": [
       "<proveit._core_.proof._ShowProof at 0x7f5b9915b828>"
      ]
     },
     "execution_count": 1,
     "metadata": {},
     "output_type": "execute_result"
    }
   ],
   "source": [
    "import proveit\n",
    "# Automation is not needed when only showing a stored proof:\n",
    "proveit.defaults.automation = False # This will speed things up.\n",
    "proveit.defaults.inline_pngs = False # Makes files smaller.\n",
    "%show_proof"
   ]
  },
  {
   "cell_type": "code",
   "execution_count": null,
   "metadata": {},
   "outputs": [],
   "source": []
  }
 ],
 "metadata": {
  "kernelspec": {
   "display_name": "Python 3",
   "language": "python",
   "name": "python3"
  },
  "language_info": {
   "codemirror_mode": {
    "name": "ipython",
    "version": 3
   },
   "file_extension": ".py",
   "mimetype": "text/x-python",
   "name": "python",
   "nbconvert_exporter": "python",
   "pygments_lexer": "ipython3",
   "version": "3.7.3"
  }
 },
 "nbformat": 4,
 "nbformat_minor": 1
}
