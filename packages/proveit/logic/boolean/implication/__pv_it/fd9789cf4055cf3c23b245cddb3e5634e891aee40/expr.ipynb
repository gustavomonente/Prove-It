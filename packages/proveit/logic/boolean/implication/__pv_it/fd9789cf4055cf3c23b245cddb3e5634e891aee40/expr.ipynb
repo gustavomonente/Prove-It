{
 "cells": [
  {
   "cell_type": "markdown",
   "metadata": {},
   "source": [
    "Expression of type <a class=\"ProveItLink\" href=\"../../../../../../../doc/html/api/proveit.logic.And.html\">And</a>\n",
    "=======================\n",
    "# from context <a class=\"ProveItLink\" href=\"../../_context_.ipynb\">proveit.logic.boolean.implication</a>"
   ]
  },
  {
   "cell_type": "code",
   "execution_count": 1,
   "metadata": {},
   "outputs": [],
   "source": [
    "import proveit\n",
    "# Automation is not needed when building an expression:\n",
    "proveit.defaults.automation = False # This will speed things up.\n",
    "proveit.defaults.inline_pngs = False # Makes files smaller.\n",
    "# import Expression classes needed to build the expression\n",
    "from proveit._common_ import A, B\n",
    "from proveit.logic import And, Booleans, Implies, InSet"
   ]
  },
  {
   "cell_type": "code",
   "execution_count": 2,
   "metadata": {},
   "outputs": [
    {
     "data": {
      "text/html": [
       "<strong id=\"expr\">expr:</strong> <a class=\"ProveItLink\" href=\"expr.ipynb\"><img src=\"expr.png\" style=\"display:inline;vertical-align:middle;\" /></a><br>"
      ],
      "text/plain": [
       "expr: (A in BOOLEANS) and ((B in BOOLEANS) and (A => B) and (B => A))"
      ]
     },
     "execution_count": 2,
     "metadata": {},
     "output_type": "execute_result"
    }
   ],
   "source": [
    "# build up the expression from sub-expressions\n",
    "expr = And(InSet(A, Booleans), And(InSet(B, Booleans), Implies(A, B), Implies(B, A)))"
   ]
  },
  {
   "cell_type": "code",
   "execution_count": 3,
   "metadata": {},
   "outputs": [
    {
     "name": "stdout",
     "output_type": "stream",
     "text": [
      "Passed sanity check: built 'expr' is the same as the stored Expression.\n"
     ]
    }
   ],
   "source": [
    "# check that the built expression is the same as the stored expression\n",
    "%check_expr"
   ]
  },
  {
   "cell_type": "code",
   "execution_count": 4,
   "metadata": {},
   "outputs": [
    {
     "name": "stdout",
     "output_type": "stream",
     "text": [
      "\\left(A \\in \\mathbb{B}\\right) \\land \\left(\\left(B \\in \\mathbb{B}\\right) \\land \\left(A \\Rightarrow B\\right) \\land \\left(B \\Rightarrow A\\right)\\right)\n"
     ]
    }
   ],
   "source": [
    "# Show the LaTeX representation of the expression for convenience if you need it.\n",
    "print(expr.latex())"
   ]
  },
  {
   "cell_type": "code",
   "execution_count": 5,
   "metadata": {},
   "outputs": [
    {
     "data": {
      "text/html": [
       "<table><tr><th>&nbsp;</th><th>core type</th><th>sub-expressions</th><th>expression</th></tr>\n",
       "<tr><td>0</td><td>Operation</td><td>operator:&nbsp;5<br>operands:&nbsp;1<br></td><td><a class=\"ProveItLink\" href=\"expr.ipynb\"><img src=\"expr.png\" style=\"display:inline;vertical-align:middle;\" /></a></td></tr>\n",
       "<tr><td>1</td><td>ExprTuple</td><td>2, 3</td><td><a class=\"ProveItLink\" href=\"../3d8861ac5171776f0e1ca772f1dcf09679e645990/expr.ipynb\"><img src=\"../3d8861ac5171776f0e1ca772f1dcf09679e645990/expr.png\" style=\"display:inline;vertical-align:middle;\" /></a></td></tr>\n",
       "<tr><td>2</td><td>Operation</td><td>operator:&nbsp;10<br>operands:&nbsp;4<br></td><td><a class=\"ProveItLink\" href=\"../8776f6509d0e01db99c8c290ab1853b3db3d048c0/expr.ipynb\"><img src=\"../8776f6509d0e01db99c8c290ab1853b3db3d048c0/expr.png\" style=\"display:inline;vertical-align:middle;\" /></a></td></tr>\n",
       "<tr><td>3</td><td>Operation</td><td>operator:&nbsp;5<br>operands:&nbsp;6<br></td><td><a class=\"ProveItLink\" href=\"../aa54afb5e126a08764a5cd041003f847910761740/expr.ipynb\"><img src=\"../aa54afb5e126a08764a5cd041003f847910761740/expr.png\" style=\"display:inline;vertical-align:middle;\" /></a></td></tr>\n",
       "<tr><td>4</td><td>ExprTuple</td><td>17, 15</td><td><a class=\"ProveItLink\" href=\"../0969dc1cafe9ecb1790af088b1aae8d6ce560fda0/expr.ipynb\"><img src=\"../0969dc1cafe9ecb1790af088b1aae8d6ce560fda0/expr.png\" style=\"display:inline;vertical-align:middle;\" /></a></td></tr>\n",
       "<tr><td>5</td><td>Literal</td><td></td><td><a class=\"ProveItLink\" href=\"../../../conjunction/__pv_it/f41cc6b553210927c09f19a8a39cdf860a5585930/expr.ipynb\"><img src=\"../../../conjunction/__pv_it/f41cc6b553210927c09f19a8a39cdf860a5585930/expr.png\" style=\"display:inline;vertical-align:middle;\" /></a></td></tr>\n",
       "<tr><td>6</td><td>ExprTuple</td><td>7, 8, 9</td><td><a class=\"ProveItLink\" href=\"../5a9b891915d5a23da818af4df32603b090127e230/expr.ipynb\"><img src=\"../5a9b891915d5a23da818af4df32603b090127e230/expr.png\" style=\"display:inline;vertical-align:middle;\" /></a></td></tr>\n",
       "<tr><td>7</td><td>Operation</td><td>operator:&nbsp;10<br>operands:&nbsp;11<br></td><td><a class=\"ProveItLink\" href=\"../af21e96bc662cb74cc7cb3eb21c032f16e434dba0/expr.ipynb\"><img src=\"../af21e96bc662cb74cc7cb3eb21c032f16e434dba0/expr.png\" style=\"display:inline;vertical-align:middle;\" /></a></td></tr>\n",
       "<tr><td>8</td><td>Operation</td><td>operator:&nbsp;13<br>operands:&nbsp;12<br></td><td><a class=\"ProveItLink\" href=\"../8b52df86786c45166e4e597fabcdbadc8276ac2f0/expr.ipynb\"><img src=\"../8b52df86786c45166e4e597fabcdbadc8276ac2f0/expr.png\" style=\"display:inline;vertical-align:middle;\" /></a></td></tr>\n",
       "<tr><td>9</td><td>Operation</td><td>operator:&nbsp;13<br>operands:&nbsp;14<br></td><td><a class=\"ProveItLink\" href=\"../8b9c784705e35002d4429ef743e77d1f418289900/expr.ipynb\"><img src=\"../8b9c784705e35002d4429ef743e77d1f418289900/expr.png\" style=\"display:inline;vertical-align:middle;\" /></a></td></tr>\n",
       "<tr><td>10</td><td>Literal</td><td></td><td><a class=\"ProveItLink\" href=\"../../../../set_theory/membership/__pv_it/7776fc89cb67d0b5b1ec2c0c8e08da5587921ccf0/expr.ipynb\"><img src=\"../../../../set_theory/membership/__pv_it/7776fc89cb67d0b5b1ec2c0c8e08da5587921ccf0/expr.png\" style=\"display:inline;vertical-align:middle;\" /></a></td></tr>\n",
       "<tr><td>11</td><td>ExprTuple</td><td>16, 15</td><td><a class=\"ProveItLink\" href=\"../43cf56dd5c4fd9c5d6ca0453908f71631eb84b860/expr.ipynb\"><img src=\"../43cf56dd5c4fd9c5d6ca0453908f71631eb84b860/expr.png\" style=\"display:inline;vertical-align:middle;\" /></a></td></tr>\n",
       "<tr><td>12</td><td>ExprTuple</td><td>17, 16</td><td><a class=\"ProveItLink\" href=\"../5ba9a2996c4f7c4d12731615ed3a34ca901fa86c0/expr.ipynb\"><img src=\"../5ba9a2996c4f7c4d12731615ed3a34ca901fa86c0/expr.png\" style=\"display:inline;vertical-align:middle;\" /></a></td></tr>\n",
       "<tr><td>13</td><td>Literal</td><td></td><td><a class=\"ProveItLink\" href=\"../1e62b0c0a90306fc48b17f0dc8d4dc4df8bb234f0/expr.ipynb\"><img src=\"../1e62b0c0a90306fc48b17f0dc8d4dc4df8bb234f0/expr.png\" style=\"display:inline;vertical-align:middle;\" /></a></td></tr>\n",
       "<tr><td>14</td><td>ExprTuple</td><td>16, 17</td><td><a class=\"ProveItLink\" href=\"../a3f093f16465bc720870fbe21a7e8d537a741ea00/expr.ipynb\"><img src=\"../a3f093f16465bc720870fbe21a7e8d537a741ea00/expr.png\" style=\"display:inline;vertical-align:middle;\" /></a></td></tr>\n",
       "<tr><td>15</td><td>Literal</td><td></td><td><a class=\"ProveItLink\" href=\"../../../__pv_it/a3b387936f605fef1b535be3e1116cca8bbfc91b0/expr.ipynb\"><img src=\"../../../__pv_it/a3b387936f605fef1b535be3e1116cca8bbfc91b0/expr.png\" style=\"display:inline;vertical-align:middle;\" /></a></td></tr>\n",
       "<tr><td>16</td><td>Variable</td><td></td><td><a class=\"ProveItLink\" href=\"../../../../../__pv_it/4d98b438710c5ada9ffa4646bb123a7d0e69ec000/expr.ipynb\"><img src=\"../../../../../__pv_it/4d98b438710c5ada9ffa4646bb123a7d0e69ec000/expr.png\" style=\"display:inline;vertical-align:middle;\" /></a></td></tr>\n",
       "<tr><td>17</td><td>Variable</td><td></td><td><a class=\"ProveItLink\" href=\"../../../../../__pv_it/d3792d0d8642fdf1cd2a3a9b32c673ee13653de00/expr.ipynb\"><img src=\"../../../../../__pv_it/d3792d0d8642fdf1cd2a3a9b32c673ee13653de00/expr.png\" style=\"display:inline;vertical-align:middle;\" /></a></td></tr>\n",
       "</table>\n"
      ],
      "text/plain": [
       "0. (A in BOOLEANS) and ((B in BOOLEANS) and (A => B) and (B => A))\n",
       "   core type: Operation\n",
       "   operator: 5\n",
       "   operands: 1\n",
       "1. (A in BOOLEANS, (B in BOOLEANS) and (A => B) and (B => A))\n",
       "   core type: ExprTuple\n",
       "   sub-expressions: 2, 3\n",
       "2. A in BOOLEANS\n",
       "   core type: Operation\n",
       "   operator: 10\n",
       "   operands: 4\n",
       "3. (B in BOOLEANS) and (A => B) and (B => A)\n",
       "   core type: Operation\n",
       "   operator: 5\n",
       "   operands: 6\n",
       "4. (A, BOOLEANS)\n",
       "   core type: ExprTuple\n",
       "   sub-expressions: 17, 15\n",
       "5. and\n",
       "   core type: Literal\n",
       "   sub-expressions: \n",
       "6. (B in BOOLEANS, A => B, B => A)\n",
       "   core type: ExprTuple\n",
       "   sub-expressions: 7, 8, 9\n",
       "7. B in BOOLEANS\n",
       "   core type: Operation\n",
       "   operator: 10\n",
       "   operands: 11\n",
       "8. A => B\n",
       "   core type: Operation\n",
       "   operator: 13\n",
       "   operands: 12\n",
       "9. B => A\n",
       "   core type: Operation\n",
       "   operator: 13\n",
       "   operands: 14\n",
       "10. in\n",
       "    core type: Literal\n",
       "    sub-expressions: \n",
       "11. (B, BOOLEANS)\n",
       "    core type: ExprTuple\n",
       "    sub-expressions: 16, 15\n",
       "12. (A, B)\n",
       "    core type: ExprTuple\n",
       "    sub-expressions: 17, 16\n",
       "13. =>\n",
       "    core type: Literal\n",
       "    sub-expressions: \n",
       "14. (B, A)\n",
       "    core type: ExprTuple\n",
       "    sub-expressions: 16, 17\n",
       "15. BOOLEANS\n",
       "    core type: Literal\n",
       "    sub-expressions: \n",
       "16. B\n",
       "    core type: Variable\n",
       "    sub-expressions: \n",
       "17. A\n",
       "    core type: Variable\n",
       "    sub-expressions: "
      ]
     },
     "execution_count": 5,
     "metadata": {},
     "output_type": "execute_result"
    }
   ],
   "source": [
    "# display the expression information\n",
    "expr.exprInfo()"
   ]
  },
  {
   "cell_type": "code",
   "execution_count": null,
   "metadata": {},
   "outputs": [],
   "source": []
  }
 ],
 "metadata": {
  "kernelspec": {
   "display_name": "Python 3",
   "language": "python",
   "name": "python3"
  },
  "language_info": {
   "codemirror_mode": {
    "name": "ipython",
    "version": 3
   },
   "file_extension": ".py",
   "mimetype": "text/x-python",
   "name": "python",
   "nbconvert_exporter": "python",
   "pygments_lexer": "ipython3",
   "version": "3.7.3"
  }
 },
 "nbformat": 4,
 "nbformat_minor": 1
}
