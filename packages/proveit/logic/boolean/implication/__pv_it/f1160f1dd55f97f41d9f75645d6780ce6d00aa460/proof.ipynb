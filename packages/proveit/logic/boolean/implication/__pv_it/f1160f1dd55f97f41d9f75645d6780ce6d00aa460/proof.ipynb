{
 "cells": [
  {
   "cell_type": "markdown",
   "metadata": {},
   "source": [
    "Show the Proof\n",
    "========"
   ]
  },
  {
   "cell_type": "code",
   "execution_count": 1,
   "metadata": {},
   "outputs": [
    {
     "data": {
      "text/html": [
       "<table><tr><th>&nbsp;</th><th>step type</th><th>requirements</th><th>statement</th></tr>\n",
       "<tr><td><a name=\"proveit.logic.boolean.implication.f1160f1dd55f97f41d9f75645d6780ce6d00aa460_step0\">0</a></td><td>instantiation</td><td><a href=\"#proveit.logic.boolean.implication.f1160f1dd55f97f41d9f75645d6780ce6d00aa460_step1\">1</a>, <a href=\"#proveit.logic.boolean.implication.f1160f1dd55f97f41d9f75645d6780ce6d00aa460_step2\">2</a>, <a href=\"#proveit.logic.boolean.implication.f1160f1dd55f97f41d9f75645d6780ce6d00aa460_step3\">3</a></td><td><span style=\"font-size:20px;\"><a class=\"ProveItLink\" href=\"../bef3aefa4cdcb79965eddfefc0fdf570aa3ed5650/expr.ipynb\"><img src=\"../bef3aefa4cdcb79965eddfefc0fdf570aa3ed5650/expr.png\" style=\"display:inline;vertical-align:middle;\" /></a> <a class=\"ProveItLink\" href=\"proof.ipynb\" style=\"text-decoration: none\">&#x22A2;&nbsp;</a><a class=\"ProveItLink\" href=\"../502a0e2beda363613f57dcbceb41b51971081e900/expr.ipynb\"><img src=\"../502a0e2beda363613f57dcbceb41b51971081e900/expr.png\" style=\"display:inline;vertical-align:middle;\" /></a></span></td></tr>\n",
       "<tr><td>&nbsp;</td><td colspan=4 style=\"text-align:left\"><span style=\"font-size:20px;\"><a class=\"ProveItLink\" href=\"../../../../../__pv_it/d3792d0d8642fdf1cd2a3a9b32c673ee13653de00/expr.ipynb\"><img src=\"../../../../../__pv_it/d3792d0d8642fdf1cd2a3a9b32c673ee13653de00/expr.png\" style=\"display:inline;vertical-align:middle;\" /></a> : <a class=\"ProveItLink\" href=\"../8b52df86786c45166e4e597fabcdbadc8276ac2f0/expr.ipynb\"><img src=\"../8b52df86786c45166e4e597fabcdbadc8276ac2f0/expr.png\" style=\"display:inline;vertical-align:middle;\" /></a>, <a class=\"ProveItLink\" href=\"../../../../../__pv_it/4d98b438710c5ada9ffa4646bb123a7d0e69ec000/expr.ipynb\"><img src=\"../../../../../__pv_it/4d98b438710c5ada9ffa4646bb123a7d0e69ec000/expr.png\" style=\"display:inline;vertical-align:middle;\" /></a> : <a class=\"ProveItLink\" href=\"../8b9c784705e35002d4429ef743e77d1f418289900/expr.ipynb\"><img src=\"../8b9c784705e35002d4429ef743e77d1f418289900/expr.png\" style=\"display:inline;vertical-align:middle;\" /></a></span></td></tr><tr><td><a name=\"proveit.logic.boolean.implication.f1160f1dd55f97f41d9f75645d6780ce6d00aa460_step1\">1</a></td><td>theorem</td><td></td><td><span style=\"font-size:20px;\"> <a class=\"ProveItLink\" href=\"../../../conjunction/_proofs_/andIfBoth.ipynb\" style=\"text-decoration: none\">&#x22A2;&nbsp;</a><a class=\"ProveItLink\" href=\"../526f02ab2f02f76e485d5804e471a3e5f26f82d60/expr.ipynb\"><img src=\"../526f02ab2f02f76e485d5804e471a3e5f26f82d60/expr.png\" style=\"display:inline;vertical-align:middle;\" /></a></span></td></tr>\n",
       "<tr><td>&nbsp;</td><td colspan=4 style-\"text-align:left\"><a class=\"ProveItLink\" href=\"../../../conjunction/_proofs_/andIfBoth.ipynb\">proveit.logic.boolean.conjunction.andIfBoth</a></td></tr><tr><td><a name=\"proveit.logic.boolean.implication.f1160f1dd55f97f41d9f75645d6780ce6d00aa460_step2\">2</a></td><td>assumption</td><td></td><td><span style=\"font-size:20px;\"><a class=\"ProveItLink\" href=\"../d724b8b04397244d48f9c771a2569d3864e53e0e0/expr.ipynb\"><img src=\"../d724b8b04397244d48f9c771a2569d3864e53e0e0/expr.png\" style=\"display:inline;vertical-align:middle;\" /></a> <a class=\"ProveItLink\" href=\"../398ad2f600fe9d64fafc0e1a14b5cdb47c57e34a0/proof.ipynb\" style=\"text-decoration: none\">&#x22A2;&nbsp;</a><a class=\"ProveItLink\" href=\"../8b52df86786c45166e4e597fabcdbadc8276ac2f0/expr.ipynb\"><img src=\"../8b52df86786c45166e4e597fabcdbadc8276ac2f0/expr.png\" style=\"display:inline;vertical-align:middle;\" /></a></span></td></tr>\n",
       "<tr><td><a name=\"proveit.logic.boolean.implication.f1160f1dd55f97f41d9f75645d6780ce6d00aa460_step3\">3</a></td><td>assumption</td><td></td><td><span style=\"font-size:20px;\"><a class=\"ProveItLink\" href=\"../63f98eb8b15702d15e76de483ab397fa017ebfc70/expr.ipynb\"><img src=\"../63f98eb8b15702d15e76de483ab397fa017ebfc70/expr.png\" style=\"display:inline;vertical-align:middle;\" /></a> <a class=\"ProveItLink\" href=\"../30ae54578a4410df4855be13bf3d18c71f425f960/proof.ipynb\" style=\"text-decoration: none\">&#x22A2;&nbsp;</a><a class=\"ProveItLink\" href=\"../8b9c784705e35002d4429ef743e77d1f418289900/expr.ipynb\"><img src=\"../8b9c784705e35002d4429ef743e77d1f418289900/expr.png\" style=\"display:inline;vertical-align:middle;\" /></a></span></td></tr>\n",
       "</table>"
      ],
      "text/plain": [
       "<proveit._core_.proof._ShowProof at 0x7f5b84178e10>"
      ]
     },
     "execution_count": 1,
     "metadata": {},
     "output_type": "execute_result"
    }
   ],
   "source": [
    "import proveit\n",
    "# Automation is not needed when only showing a stored proof:\n",
    "proveit.defaults.automation = False # This will speed things up.\n",
    "proveit.defaults.inline_pngs = False # Makes files smaller.\n",
    "%show_proof"
   ]
  },
  {
   "cell_type": "code",
   "execution_count": null,
   "metadata": {},
   "outputs": [],
   "source": []
  }
 ],
 "metadata": {
  "kernelspec": {
   "display_name": "Python 3",
   "language": "python",
   "name": "python3"
  },
  "language_info": {
   "codemirror_mode": {
    "name": "ipython",
    "version": 3
   },
   "file_extension": ".py",
   "mimetype": "text/x-python",
   "name": "python",
   "nbconvert_exporter": "python",
   "pygments_lexer": "ipython3",
   "version": "3.7.3"
  }
 },
 "nbformat": 4,
 "nbformat_minor": 1
}
