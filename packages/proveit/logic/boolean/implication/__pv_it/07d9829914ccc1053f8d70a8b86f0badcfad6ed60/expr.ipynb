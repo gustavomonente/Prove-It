{
 "cells": [
  {
   "cell_type": "markdown",
   "metadata": {},
   "source": [
    "Expression of type <a class=\"ProveItLink\" href=\"../../../../../../../doc/html/api/proveit.logic.Implies.html\">Implies</a>\n",
    "=======================\n",
    "# from context <a class=\"ProveItLink\" href=\"../../_context_.ipynb\">proveit.logic.boolean.implication</a>"
   ]
  },
  {
   "cell_type": "code",
   "execution_count": 1,
   "metadata": {},
   "outputs": [],
   "source": [
    "import proveit\n",
    "# Automation is not needed when building an expression:\n",
    "proveit.defaults.automation = False # This will speed things up.\n",
    "proveit.defaults.inline_pngs = False # Makes files smaller.\n",
    "# import Expression classes needed to build the expression\n",
    "from proveit._common_ import A, B\n",
    "from proveit.logic import Booleans, Equals, Forall, Iff, Implies\n",
    "from proveit.logic.boolean.implication._theorems_ import eqFromIff"
   ]
  },
  {
   "cell_type": "code",
   "execution_count": 2,
   "metadata": {},
   "outputs": [
    {
     "data": {
      "text/html": [
       "<strong id=\"expr\">expr:</strong> <a class=\"ProveItLink\" href=\"../a96a290ee092986d56f5dfeee053ae5d6676175e0/expr.ipynb\"><img src=\"../a96a290ee092986d56f5dfeee053ae5d6676175e0/expr.png\" style=\"display:inline;vertical-align:middle;\" /></a><br>"
      ],
      "text/plain": [
       "expr: [forall_{A in BOOLEANS} [forall_{B in BOOLEANS | A <=> B} (A = B)]] \\\\  => [forall_{A in BOOLEANS, B in BOOLEANS | A <=> B} (A = B)]"
      ]
     },
     "execution_count": 2,
     "metadata": {},
     "output_type": "execute_result"
    }
   ],
   "source": [
    "# build up the expression from sub-expressions\n",
    "expr = Implies(Forall([A], Forall([B], Equals(A, B), domain = Booleans, condition = Iff(A, B)), domain = Booleans), eqFromIff.expr).withWrappingAt(1)"
   ]
  },
  {
   "cell_type": "code",
   "execution_count": 3,
   "metadata": {},
   "outputs": [
    {
     "name": "stdout",
     "output_type": "stream",
     "text": [
      "Passed sanity check: built 'expr' is the same as the stored Expression.\n"
     ]
    }
   ],
   "source": [
    "# check that the built expression is the same as the stored expression\n",
    "%check_expr"
   ]
  },
  {
   "cell_type": "code",
   "execution_count": 4,
   "metadata": {},
   "outputs": [
    {
     "name": "stdout",
     "output_type": "stream",
     "text": [
      "\\begin{array}{c} \\left[\\forall_{A \\in \\mathbb{B}}~\\left[\\forall_{B \\in \\mathbb{B}~|~A \\Leftrightarrow B}~\\left(A = B\\right)\\right]\\right] \\\\  \\Rightarrow \\left[\\forall_{A \\in \\mathbb{B}, B \\in \\mathbb{B}~|~A \\Leftrightarrow B}~\\left(A = B\\right)\\right] \\end{array}\n"
     ]
    }
   ],
   "source": [
    "# Show the LaTeX representation of the expression for convenience if you need it.\n",
    "print(expr.latex())"
   ]
  },
  {
   "cell_type": "code",
   "execution_count": 5,
   "metadata": {},
   "outputs": [
    {
     "data": {
      "text/html": [
       "<table><tr><th>&nbsp;</th><th>core type</th><th>sub-expressions</th><th>expression</th></tr>\n",
       "<tr><td>0</td><td>Operation</td><td>operator:&nbsp;1<br>operands:&nbsp;2<br></td><td><a class=\"ProveItLink\" href=\"../a96a290ee092986d56f5dfeee053ae5d6676175e0/expr.ipynb\"><img src=\"../a96a290ee092986d56f5dfeee053ae5d6676175e0/expr.png\" style=\"display:inline;vertical-align:middle;\" /></a></td></tr>\n",
       "<tr><td>1</td><td>Literal</td><td></td><td><a class=\"ProveItLink\" href=\"../1e62b0c0a90306fc48b17f0dc8d4dc4df8bb234f0/expr.ipynb\"><img src=\"../1e62b0c0a90306fc48b17f0dc8d4dc4df8bb234f0/expr.png\" style=\"display:inline;vertical-align:middle;\" /></a></td></tr>\n",
       "<tr><td>2</td><td>ExprTuple</td><td>3, 4</td><td><a class=\"ProveItLink\" href=\"../7a8d159a1b535db33c116b1b0a0e057b6bcbca260/expr.ipynb\"><img src=\"../7a8d159a1b535db33c116b1b0a0e057b6bcbca260/expr.png\" style=\"display:inline;vertical-align:middle;\" /></a></td></tr>\n",
       "<tr><td>3</td><td>Operation</td><td>operator:&nbsp;11<br>operand:&nbsp;5<br></td><td><a class=\"ProveItLink\" href=\"../a1d559b22b940939b96056976d2079b1ed6d9b480/expr.ipynb\"><img src=\"../a1d559b22b940939b96056976d2079b1ed6d9b480/expr.png\" style=\"display:inline;vertical-align:middle;\" /></a></td></tr>\n",
       "<tr><td>4</td><td>Operation</td><td>operator:&nbsp;11<br>operand:&nbsp;6<br></td><td><a class=\"ProveItLink\" href=\"../01bdd68577324f7cfbfe86b23025825aef6015950/expr.ipynb\"><img src=\"../01bdd68577324f7cfbfe86b23025825aef6015950/expr.png\" style=\"display:inline;vertical-align:middle;\" /></a></td></tr>\n",
       "<tr><td>5</td><td>Lambda</td><td>parameter:&nbsp;29<br>body:&nbsp;7<br></td><td><a class=\"ProveItLink\" href=\"../8ab5b762a77aa7c881e5a4d8bbaf795d080465ec0/expr.ipynb\"><img src=\"../8ab5b762a77aa7c881e5a4d8bbaf795d080465ec0/expr.png\" style=\"display:inline;vertical-align:middle;\" /></a></td></tr>\n",
       "<tr><td>6</td><td>Lambda</td><td>parameters:&nbsp;27<br>body:&nbsp;8<br></td><td><a class=\"ProveItLink\" href=\"../11464254d741a18a80be322d6f4e9f0374fccee50/expr.ipynb\"><img src=\"../11464254d741a18a80be322d6f4e9f0374fccee50/expr.png\" style=\"display:inline;vertical-align:middle;\" /></a></td></tr>\n",
       "<tr><td>7</td><td>Conditional</td><td>value:&nbsp;9<br>condition:&nbsp;15<br></td><td><a class=\"ProveItLink\" href=\"../394b971a3b0277bab83bf33bf95eec9c238d47220/expr.ipynb\"><img src=\"../394b971a3b0277bab83bf33bf95eec9c238d47220/expr.png\" style=\"display:inline;vertical-align:middle;\" /></a></td></tr>\n",
       "<tr><td>8</td><td>Conditional</td><td>value:&nbsp;16<br>condition:&nbsp;10<br></td><td><a class=\"ProveItLink\" href=\"../35f29d11c5240c507c84bf74a15c6cd3d36f12c60/expr.ipynb\"><img src=\"../35f29d11c5240c507c84bf74a15c6cd3d36f12c60/expr.png\" style=\"display:inline;vertical-align:middle;\" /></a></td></tr>\n",
       "<tr><td>9</td><td>Operation</td><td>operator:&nbsp;11<br>operand:&nbsp;12<br></td><td><a class=\"ProveItLink\" href=\"../3f98290b72c0a440a4986881e179ae064bf3c51e0/expr.ipynb\"><img src=\"../3f98290b72c0a440a4986881e179ae064bf3c51e0/expr.png\" style=\"display:inline;vertical-align:middle;\" /></a></td></tr>\n",
       "<tr><td>10</td><td>Operation</td><td>operator:&nbsp;20<br>operands:&nbsp;13<br></td><td><a class=\"ProveItLink\" href=\"../76ff5aedc5df1a505729a0f0ce2621f5665943010/expr.ipynb\"><img src=\"../76ff5aedc5df1a505729a0f0ce2621f5665943010/expr.png\" style=\"display:inline;vertical-align:middle;\" /></a></td></tr>\n",
       "<tr><td>11</td><td>Literal</td><td></td><td><a class=\"ProveItLink\" href=\"../../../quantification/universal/__pv_it/fd9c772d6675566ed52a6897806f45eb08a4ea910/expr.ipynb\"><img src=\"../../../quantification/universal/__pv_it/fd9c772d6675566ed52a6897806f45eb08a4ea910/expr.png\" style=\"display:inline;vertical-align:middle;\" /></a></td></tr>\n",
       "<tr><td>12</td><td>Lambda</td><td>parameter:&nbsp;30<br>body:&nbsp;14<br></td><td><a class=\"ProveItLink\" href=\"../df6f02b1acfdfbaf17d4b15a2dbc8f235e8ee9ce0/expr.ipynb\"><img src=\"../df6f02b1acfdfbaf17d4b15a2dbc8f235e8ee9ce0/expr.png\" style=\"display:inline;vertical-align:middle;\" /></a></td></tr>\n",
       "<tr><td>13</td><td>ExprTuple</td><td>15, 22, 23</td><td><a class=\"ProveItLink\" href=\"../a1148dd39316e29b7ef075a7f5cc04b0ede7cc800/expr.ipynb\"><img src=\"../a1148dd39316e29b7ef075a7f5cc04b0ede7cc800/expr.png\" style=\"display:inline;vertical-align:middle;\" /></a></td></tr>\n",
       "<tr><td>14</td><td>Conditional</td><td>value:&nbsp;16<br>condition:&nbsp;17<br></td><td><a class=\"ProveItLink\" href=\"../4d5c74ef6d7ff5991e9f7af6cbd6645cde24bafc0/expr.ipynb\"><img src=\"../4d5c74ef6d7ff5991e9f7af6cbd6645cde24bafc0/expr.png\" style=\"display:inline;vertical-align:middle;\" /></a></td></tr>\n",
       "<tr><td>15</td><td>Operation</td><td>operator:&nbsp;24<br>operands:&nbsp;18<br></td><td><a class=\"ProveItLink\" href=\"../8776f6509d0e01db99c8c290ab1853b3db3d048c0/expr.ipynb\"><img src=\"../8776f6509d0e01db99c8c290ab1853b3db3d048c0/expr.png\" style=\"display:inline;vertical-align:middle;\" /></a></td></tr>\n",
       "<tr><td>16</td><td>Operation</td><td>operator:&nbsp;19<br>operands:&nbsp;27<br></td><td><a class=\"ProveItLink\" href=\"../6c889a944770ced08cc513e58d9d65d7096bcb710/expr.ipynb\"><img src=\"../6c889a944770ced08cc513e58d9d65d7096bcb710/expr.png\" style=\"display:inline;vertical-align:middle;\" /></a></td></tr>\n",
       "<tr><td>17</td><td>Operation</td><td>operator:&nbsp;20<br>operands:&nbsp;21<br></td><td><a class=\"ProveItLink\" href=\"../5466e8cefa080f7fd1bb42d1b79b96a5d16e5e340/expr.ipynb\"><img src=\"../5466e8cefa080f7fd1bb42d1b79b96a5d16e5e340/expr.png\" style=\"display:inline;vertical-align:middle;\" /></a></td></tr>\n",
       "<tr><td>18</td><td>ExprTuple</td><td>29, 28</td><td><a class=\"ProveItLink\" href=\"../0969dc1cafe9ecb1790af088b1aae8d6ce560fda0/expr.ipynb\"><img src=\"../0969dc1cafe9ecb1790af088b1aae8d6ce560fda0/expr.png\" style=\"display:inline;vertical-align:middle;\" /></a></td></tr>\n",
       "<tr><td>19</td><td>Literal</td><td></td><td><a class=\"ProveItLink\" href=\"../../../../equality/__pv_it/e16d2caa26a16688b658bdb9c422caf4b84579e10/expr.ipynb\"><img src=\"../../../../equality/__pv_it/e16d2caa26a16688b658bdb9c422caf4b84579e10/expr.png\" style=\"display:inline;vertical-align:middle;\" /></a></td></tr>\n",
       "<tr><td>20</td><td>Literal</td><td></td><td><a class=\"ProveItLink\" href=\"../../../conjunction/__pv_it/f41cc6b553210927c09f19a8a39cdf860a5585930/expr.ipynb\"><img src=\"../../../conjunction/__pv_it/f41cc6b553210927c09f19a8a39cdf860a5585930/expr.png\" style=\"display:inline;vertical-align:middle;\" /></a></td></tr>\n",
       "<tr><td>21</td><td>ExprTuple</td><td>22, 23</td><td><a class=\"ProveItLink\" href=\"../cec23b900f675019f754a3b1801528119f6cf0ab0/expr.ipynb\"><img src=\"../cec23b900f675019f754a3b1801528119f6cf0ab0/expr.png\" style=\"display:inline;vertical-align:middle;\" /></a></td></tr>\n",
       "<tr><td>22</td><td>Operation</td><td>operator:&nbsp;24<br>operands:&nbsp;25<br></td><td><a class=\"ProveItLink\" href=\"../af21e96bc662cb74cc7cb3eb21c032f16e434dba0/expr.ipynb\"><img src=\"../af21e96bc662cb74cc7cb3eb21c032f16e434dba0/expr.png\" style=\"display:inline;vertical-align:middle;\" /></a></td></tr>\n",
       "<tr><td>23</td><td>Operation</td><td>operator:&nbsp;26<br>operands:&nbsp;27<br></td><td><a class=\"ProveItLink\" href=\"../639412fc83dccc0c825a7f4479a7068ed18b18c70/expr.ipynb\"><img src=\"../639412fc83dccc0c825a7f4479a7068ed18b18c70/expr.png\" style=\"display:inline;vertical-align:middle;\" /></a></td></tr>\n",
       "<tr><td>24</td><td>Literal</td><td></td><td><a class=\"ProveItLink\" href=\"../../../../set_theory/membership/__pv_it/7776fc89cb67d0b5b1ec2c0c8e08da5587921ccf0/expr.ipynb\"><img src=\"../../../../set_theory/membership/__pv_it/7776fc89cb67d0b5b1ec2c0c8e08da5587921ccf0/expr.png\" style=\"display:inline;vertical-align:middle;\" /></a></td></tr>\n",
       "<tr><td>25</td><td>ExprTuple</td><td>30, 28</td><td><a class=\"ProveItLink\" href=\"../43cf56dd5c4fd9c5d6ca0453908f71631eb84b860/expr.ipynb\"><img src=\"../43cf56dd5c4fd9c5d6ca0453908f71631eb84b860/expr.png\" style=\"display:inline;vertical-align:middle;\" /></a></td></tr>\n",
       "<tr><td>26</td><td>Literal</td><td></td><td><a class=\"ProveItLink\" href=\"../2e5f6cd685d0293c68c776fee2a5c8041d3dff0b0/expr.ipynb\"><img src=\"../2e5f6cd685d0293c68c776fee2a5c8041d3dff0b0/expr.png\" style=\"display:inline;vertical-align:middle;\" /></a></td></tr>\n",
       "<tr><td>27</td><td>ExprTuple</td><td>29, 30</td><td><a class=\"ProveItLink\" href=\"../5ba9a2996c4f7c4d12731615ed3a34ca901fa86c0/expr.ipynb\"><img src=\"../5ba9a2996c4f7c4d12731615ed3a34ca901fa86c0/expr.png\" style=\"display:inline;vertical-align:middle;\" /></a></td></tr>\n",
       "<tr><td>28</td><td>Literal</td><td></td><td><a class=\"ProveItLink\" href=\"../../../__pv_it/a3b387936f605fef1b535be3e1116cca8bbfc91b0/expr.ipynb\"><img src=\"../../../__pv_it/a3b387936f605fef1b535be3e1116cca8bbfc91b0/expr.png\" style=\"display:inline;vertical-align:middle;\" /></a></td></tr>\n",
       "<tr><td>29</td><td>Variable</td><td></td><td><a class=\"ProveItLink\" href=\"../../../../../__pv_it/d3792d0d8642fdf1cd2a3a9b32c673ee13653de00/expr.ipynb\"><img src=\"../../../../../__pv_it/d3792d0d8642fdf1cd2a3a9b32c673ee13653de00/expr.png\" style=\"display:inline;vertical-align:middle;\" /></a></td></tr>\n",
       "<tr><td>30</td><td>Variable</td><td></td><td><a class=\"ProveItLink\" href=\"../../../../../__pv_it/4d98b438710c5ada9ffa4646bb123a7d0e69ec000/expr.ipynb\"><img src=\"../../../../../__pv_it/4d98b438710c5ada9ffa4646bb123a7d0e69ec000/expr.png\" style=\"display:inline;vertical-align:middle;\" /></a></td></tr>\n",
       "</table>\n"
      ],
      "text/plain": [
       "0. [forall_{A in BOOLEANS} [forall_{B in BOOLEANS | A <=> B} (A = B)]] \\\\  => [forall_{A in BOOLEANS, B in BOOLEANS | A <=> B} (A = B)]\n",
       "   core type: Operation\n",
       "   operator: 1\n",
       "   operands: 2\n",
       "1. =>\n",
       "   core type: Literal\n",
       "   sub-expressions: \n",
       "2. (forall_{A in BOOLEANS} [forall_{B in BOOLEANS | A <=> B} (A = B)], forall_{A in BOOLEANS, B in BOOLEANS | A <=> B} (A = B))\n",
       "   core type: ExprTuple\n",
       "   sub-expressions: 3, 4\n",
       "3. forall_{A in BOOLEANS} [forall_{B in BOOLEANS | A <=> B} (A = B)]\n",
       "   core type: Operation\n",
       "   operator: 11\n",
       "   operand: 5\n",
       "4. forall_{A in BOOLEANS, B in BOOLEANS | A <=> B} (A = B)\n",
       "   core type: Operation\n",
       "   operator: 11\n",
       "   operand: 6\n",
       "5. A -> {forall_{B in BOOLEANS | A <=> B} (A = B) if A in BOOLEANS.\n",
       "   core type: Lambda\n",
       "   parameter: 29\n",
       "   body: 7\n",
       "6. (A, B) -> {A = B if A in BOOLEANS ,  B in BOOLEANS ,  A <=> B.\n",
       "   core type: Lambda\n",
       "   parameters: 27\\n   body: 8\n",
       "7. {forall_{B in BOOLEANS | A <=> B} (A = B) if A in BOOLEANS.\n",
       "   core type: Conditional\n",
       "   value: 9\n",
       "   condition: 15\n",
       "8. {A = B if A in BOOLEANS ,  B in BOOLEANS ,  A <=> B.\n",
       "   core type: Conditional\n",
       "   value: 16\n",
       "   condition: 10\n",
       "9. forall_{B in BOOLEANS | A <=> B} (A = B)\n",
       "   core type: Operation\n",
       "   operator: 11\n",
       "   operand: 12\n",
       "10. (A in BOOLEANS) and (B in BOOLEANS) and (A <=> B)\n",
       "    core type: Operation\n",
       "    operator: 20\n",
       "    operands: 13\n",
       "11. forall\n",
       "    core type: Literal\n",
       "    sub-expressions: \n",
       "12. B -> {A = B if B in BOOLEANS ,  A <=> B.\n",
       "    core type: Lambda\n",
       "    parameter: 30\n",
       "    body: 14\n",
       "13. (A in BOOLEANS, B in BOOLEANS, A <=> B)\n",
       "    core type: ExprTuple\n",
       "    sub-expressions: 15, 22, 23\n",
       "14. {A = B if B in BOOLEANS ,  A <=> B.\n",
       "    core type: Conditional\n",
       "    value: 16\n",
       "    condition: 17\n",
       "15. A in BOOLEANS\n",
       "    core type: Operation\n",
       "    operator: 24\n",
       "    operands: 18\n",
       "16. A = B\n",
       "    core type: Operation\n",
       "    operator: 19\n",
       "    operands: 27\n",
       "17. (B in BOOLEANS) and (A <=> B)\n",
       "    core type: Operation\n",
       "    operator: 20\n",
       "    operands: 21\n",
       "18. (A, BOOLEANS)\n",
       "    core type: ExprTuple\n",
       "    sub-expressions: 29, 28\n",
       "19. =\n",
       "    core type: Literal\n",
       "    sub-expressions: \n",
       "20. and\n",
       "    core type: Literal\n",
       "    sub-expressions: \n",
       "21. (B in BOOLEANS, A <=> B)\n",
       "    core type: ExprTuple\n",
       "    sub-expressions: 22, 23\n",
       "22. B in BOOLEANS\n",
       "    core type: Operation\n",
       "    operator: 24\n",
       "    operands: 25\n",
       "23. A <=> B\n",
       "    core type: Operation\n",
       "    operator: 26\n",
       "    operands: 27\n",
       "24. in\n",
       "    core type: Literal\n",
       "    sub-expressions: \n",
       "25. (B, BOOLEANS)\n",
       "    core type: ExprTuple\n",
       "    sub-expressions: 30, 28\n",
       "26. <=>\n",
       "    core type: Literal\n",
       "    sub-expressions: \n",
       "27. (A, B)\n",
       "    core type: ExprTuple\n",
       "    sub-expressions: 29, 30\n",
       "28. BOOLEANS\n",
       "    core type: Literal\n",
       "    sub-expressions: \n",
       "29. A\n",
       "    core type: Variable\n",
       "    sub-expressions: \n",
       "30. B\n",
       "    core type: Variable\n",
       "    sub-expressions: "
      ]
     },
     "execution_count": 5,
     "metadata": {},
     "output_type": "execute_result"
    }
   ],
   "source": [
    "# display the expression information\n",
    "expr.exprInfo()"
   ]
  },
  {
   "cell_type": "code",
   "execution_count": null,
   "metadata": {},
   "outputs": [],
   "source": []
  }
 ],
 "metadata": {
  "kernelspec": {
   "display_name": "Python 3",
   "language": "python",
   "name": "python3"
  },
  "language_info": {
   "codemirror_mode": {
    "name": "ipython",
    "version": 3
   },
   "file_extension": ".py",
   "mimetype": "text/x-python",
   "name": "python",
   "nbconvert_exporter": "python",
   "pygments_lexer": "ipython3",
   "version": "3.7.3"
  }
 },
 "nbformat": 4,
 "nbformat_minor": 1
}
