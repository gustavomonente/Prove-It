{
 "cells": [
  {
   "cell_type": "markdown",
   "metadata": {},
   "source": [
    "Show the Proof\n",
    "========"
   ]
  },
  {
   "cell_type": "code",
   "execution_count": 1,
   "metadata": {},
   "outputs": [
    {
     "data": {
      "text/html": [
       "<table><tr><th>&nbsp;</th><th>step type</th><th>requirements</th><th>statement</th></tr>\n",
       "<tr><td><a name=\"proveit.logic.boolean.implication.cc7dcbb88605b89f8712043988598e4f7460bae70_step0\">0</a></td><td>generalizaton</td><td><a href=\"#proveit.logic.boolean.implication.cc7dcbb88605b89f8712043988598e4f7460bae70_step1\">1</a></td><td><span style=\"font-size:20px;\"> <a class=\"ProveItLink\" href=\"proof.ipynb\" style=\"text-decoration: none\">&#x22A2;&nbsp;</a><a class=\"ProveItLink\" href=\"../5ed788bf61aeeffb0830952bc71134c5539c5e2d0/expr.ipynb\"><img src=\"../5ed788bf61aeeffb0830952bc71134c5539c5e2d0/expr.png\" style=\"display:inline;vertical-align:middle;\" /></a></span></td></tr>\n",
       "<tr><td><a name=\"proveit.logic.boolean.implication.cc7dcbb88605b89f8712043988598e4f7460bae70_step1\">1</a></td><td>instantiation</td><td><a href=\"#proveit.logic.boolean.implication.cc7dcbb88605b89f8712043988598e4f7460bae70_step2\">2</a>, <a href=\"#proveit.logic.boolean.implication.cc7dcbb88605b89f8712043988598e4f7460bae70_step3\">3</a></td><td><span style=\"font-size:20px;\"><a class=\"ProveItLink\" href=\"../4a074b4dd2a39a6b98e67c1d34bf3627e932c58e0/expr.ipynb\"><img src=\"../4a074b4dd2a39a6b98e67c1d34bf3627e932c58e0/expr.png\" style=\"display:inline;vertical-align:middle;\" /></a> <a class=\"ProveItLink\" href=\"../43946604e7ef76379dc9841aeced61bd80a06f140/proof.ipynb\" style=\"text-decoration: none\">&#x22A2;&nbsp;</a><a class=\"ProveItLink\" href=\"../e4e75c1ff8409a6b2185f4f44916b3f4e92f74ba0/expr.ipynb\"><img src=\"../e4e75c1ff8409a6b2185f4f44916b3f4e92f74ba0/expr.png\" style=\"display:inline;vertical-align:middle;\" /></a></span></td></tr>\n",
       "<tr><td>&nbsp;</td><td colspan=4 style=\"text-align:left\"><span style=\"font-size:20px;\"><a class=\"ProveItLink\" href=\"../../../../../__pv_it/72df168d2bfb4e0140af90912ebf83b13772060b0/expr.ipynb\"><img src=\"../../../../../__pv_it/72df168d2bfb4e0140af90912ebf83b13772060b0/expr.png\" style=\"display:inline;vertical-align:middle;\" /></a> : <a class=\"ProveItLink\" href=\"../../../../../__pv_it/4d98b438710c5ada9ffa4646bb123a7d0e69ec000/expr.ipynb\"><img src=\"../../../../../__pv_it/4d98b438710c5ada9ffa4646bb123a7d0e69ec000/expr.png\" style=\"display:inline;vertical-align:middle;\" /></a>, <a class=\"ProveItLink\" href=\"../../../../../__pv_it/c6e291955561f22a0e6708fd793ea93f1c7dbb5d0/expr.ipynb\"><img src=\"../../../../../__pv_it/c6e291955561f22a0e6708fd793ea93f1c7dbb5d0/expr.png\" style=\"display:inline;vertical-align:middle;\" /></a> : <a class=\"ProveItLink\" href=\"../../../__pv_it/83a1ddf0f64531c80e7f41ea6b904214668818b30/expr.ipynb\"><img src=\"../../../__pv_it/83a1ddf0f64531c80e7f41ea6b904214668818b30/expr.png\" style=\"display:inline;vertical-align:middle;\" /></a></span></td></tr><tr><td><a name=\"proveit.logic.boolean.implication.cc7dcbb88605b89f8712043988598e4f7460bae70_step2\">2</a></td><td>theorem</td><td></td><td><span style=\"font-size:20px;\"> <a class=\"ProveItLink\" href=\"../../../../equality/_proofs_/equalsReversal.ipynb\" style=\"text-decoration: none\">&#x22A2;&nbsp;</a><a class=\"ProveItLink\" href=\"../3b4519bd8be8d47d6a3831e66ec9e2b244a18b1b0/expr.ipynb\"><img src=\"../3b4519bd8be8d47d6a3831e66ec9e2b244a18b1b0/expr.png\" style=\"display:inline;vertical-align:middle;\" /></a></span></td></tr>\n",
       "<tr><td>&nbsp;</td><td colspan=4 style-\"text-align:left\"><a class=\"ProveItLink\" href=\"../../../../equality/_proofs_/equalsReversal.ipynb\">proveit.logic.equality.equalsReversal</a></td></tr><tr><td><a name=\"proveit.logic.boolean.implication.cc7dcbb88605b89f8712043988598e4f7460bae70_step3\">3</a></td><td>instantiation</td><td><a href=\"#proveit.logic.boolean.implication.cc7dcbb88605b89f8712043988598e4f7460bae70_step4\">4</a>, <a href=\"#proveit.logic.boolean.implication.cc7dcbb88605b89f8712043988598e4f7460bae70_step5\">5</a></td><td><span style=\"font-size:20px;\"><a class=\"ProveItLink\" href=\"../4a074b4dd2a39a6b98e67c1d34bf3627e932c58e0/expr.ipynb\"><img src=\"../4a074b4dd2a39a6b98e67c1d34bf3627e932c58e0/expr.png\" style=\"display:inline;vertical-align:middle;\" /></a> <a class=\"ProveItLink\" href=\"../38299dbe35a6dbaf15147bd998c7aa99c208385c0/proof.ipynb\" style=\"text-decoration: none\">&#x22A2;&nbsp;</a><a class=\"ProveItLink\" href=\"../387cd9895ff1d4aafd53ec22a04eedd890611bf30/expr.ipynb\"><img src=\"../387cd9895ff1d4aafd53ec22a04eedd890611bf30/expr.png\" style=\"display:inline;vertical-align:middle;\" /></a></span></td></tr>\n",
       "<tr><td>&nbsp;</td><td colspan=4 style=\"text-align:left\"><span style=\"font-size:20px;\"><a class=\"ProveItLink\" href=\"../../../../../__pv_it/d3792d0d8642fdf1cd2a3a9b32c673ee13653de00/expr.ipynb\"><img src=\"../../../../../__pv_it/d3792d0d8642fdf1cd2a3a9b32c673ee13653de00/expr.png\" style=\"display:inline;vertical-align:middle;\" /></a> : <a class=\"ProveItLink\" href=\"../../../../../__pv_it/4d98b438710c5ada9ffa4646bb123a7d0e69ec000/expr.ipynb\"><img src=\"../../../../../__pv_it/4d98b438710c5ada9ffa4646bb123a7d0e69ec000/expr.png\" style=\"display:inline;vertical-align:middle;\" /></a></span></td></tr><tr><td><a name=\"proveit.logic.boolean.implication.cc7dcbb88605b89f8712043988598e4f7460bae70_step4\">4</a></td><td>axiom</td><td></td><td><span style=\"font-size:20px;\"> <a class=\"ProveItLink\" href=\"../../../negation/_axioms_.ipynb#negationElim\" style=\"text-decoration: none\">&#x22A2;&nbsp;</a><a class=\"ProveItLink\" href=\"../2cd4c4f7d38d4ee00340575d3092bcf4cb1b4c340/expr.ipynb\"><img src=\"../2cd4c4f7d38d4ee00340575d3092bcf4cb1b4c340/expr.png\" style=\"display:inline;vertical-align:middle;\" /></a></span></td></tr>\n",
       "<tr><td>&nbsp;</td><td colspan=4 style-\"text-align:left\"><a class=\"ProveItLink\" href=\"../../../negation/_axioms_.ipynb#negationElim\">proveit.logic.boolean.negation.negationElim</a></td></tr><tr><td><a name=\"proveit.logic.boolean.implication.cc7dcbb88605b89f8712043988598e4f7460bae70_step5\">5</a></td><td>instantiation</td><td><a href=\"#proveit.logic.boolean.implication.cc7dcbb88605b89f8712043988598e4f7460bae70_step6\">6</a>, <a href=\"#proveit.logic.boolean.implication.cc7dcbb88605b89f8712043988598e4f7460bae70_step7\">7</a>, <a href=\"#proveit.logic.boolean.implication.cc7dcbb88605b89f8712043988598e4f7460bae70_step8\">8</a></td><td><span style=\"font-size:20px;\"><a class=\"ProveItLink\" href=\"../4a074b4dd2a39a6b98e67c1d34bf3627e932c58e0/expr.ipynb\"><img src=\"../4a074b4dd2a39a6b98e67c1d34bf3627e932c58e0/expr.png\" style=\"display:inline;vertical-align:middle;\" /></a> <a class=\"ProveItLink\" href=\"../675f9dc8a1f847eaf9182a935c0f3a011e1d1d350/proof.ipynb\" style=\"text-decoration: none\">&#x22A2;&nbsp;</a><a class=\"ProveItLink\" href=\"../86f671dd514f6e615234986d96edb2c4ebb473e30/expr.ipynb\"><img src=\"../86f671dd514f6e615234986d96edb2c4ebb473e30/expr.png\" style=\"display:inline;vertical-align:middle;\" /></a></span></td></tr>\n",
       "<tr><td>&nbsp;</td><td colspan=4 style=\"text-align:left\"><span style=\"font-size:20px;\"><a class=\"ProveItLink\" href=\"../../../../../__pv_it/d3792d0d8642fdf1cd2a3a9b32c673ee13653de00/expr.ipynb\"><img src=\"../../../../../__pv_it/d3792d0d8642fdf1cd2a3a9b32c673ee13653de00/expr.png\" style=\"display:inline;vertical-align:middle;\" /></a> : <a class=\"ProveItLink\" href=\"../../../../../__pv_it/4d98b438710c5ada9ffa4646bb123a7d0e69ec000/expr.ipynb\"><img src=\"../../../../../__pv_it/4d98b438710c5ada9ffa4646bb123a7d0e69ec000/expr.png\" style=\"display:inline;vertical-align:middle;\" /></a></span></td></tr><tr><td><a name=\"proveit.logic.boolean.implication.cc7dcbb88605b89f8712043988598e4f7460bae70_step6\">6</a></td><td>theorem</td><td></td><td><span style=\"font-size:20px;\"> <a class=\"ProveItLink\" href=\"../../_proofs_/denyViaContradiction.ipynb\" style=\"text-decoration: none\">&#x22A2;&nbsp;</a><a class=\"ProveItLink\" href=\"../3446ff5c67d9e357e08dbbe83d8db76dcd59f7f70/expr.ipynb\"><img src=\"../3446ff5c67d9e357e08dbbe83d8db76dcd59f7f70/expr.png\" style=\"display:inline;vertical-align:middle;\" /></a></span></td></tr>\n",
       "<tr><td>&nbsp;</td><td colspan=4 style-\"text-align:left\"><a class=\"ProveItLink\" href=\"../../_proofs_/denyViaContradiction.ipynb\">proveit.logic.boolean.implication.denyViaContradiction</a></td></tr><tr><td><a name=\"proveit.logic.boolean.implication.cc7dcbb88605b89f8712043988598e4f7460bae70_step7\">7</a></td><td>assumption</td><td></td><td><span style=\"font-size:20px;\"><a class=\"ProveItLink\" href=\"../8115aeb0c61b3dc8bca0b96e5233210292f849320/expr.ipynb\"><img src=\"../8115aeb0c61b3dc8bca0b96e5233210292f849320/expr.png\" style=\"display:inline;vertical-align:middle;\" /></a> <a class=\"ProveItLink\" href=\"../10156da73b693655aaf13b90e42e1c021f7082660/proof.ipynb\" style=\"text-decoration: none\">&#x22A2;&nbsp;</a><a class=\"ProveItLink\" href=\"../af21e96bc662cb74cc7cb3eb21c032f16e434dba0/expr.ipynb\"><img src=\"../af21e96bc662cb74cc7cb3eb21c032f16e434dba0/expr.png\" style=\"display:inline;vertical-align:middle;\" /></a></span></td></tr>\n",
       "<tr><td><a name=\"proveit.logic.boolean.implication.cc7dcbb88605b89f8712043988598e4f7460bae70_step8\">8</a></td><td>assumption</td><td></td><td><span style=\"font-size:20px;\"><a class=\"ProveItLink\" href=\"../4d8d9d5589b0b4d3b242550daca5672bb424646a0/expr.ipynb\"><img src=\"../4d8d9d5589b0b4d3b242550daca5672bb424646a0/expr.png\" style=\"display:inline;vertical-align:middle;\" /></a> <a class=\"ProveItLink\" href=\"../426ace492284d7a4f3fa99b7646e140215f1dea50/proof.ipynb\" style=\"text-decoration: none\">&#x22A2;&nbsp;</a><a class=\"ProveItLink\" href=\"../9b4689d5a07d270c2c4d459086cb19c8730d1bf50/expr.ipynb\"><img src=\"../9b4689d5a07d270c2c4d459086cb19c8730d1bf50/expr.png\" style=\"display:inline;vertical-align:middle;\" /></a></span></td></tr>\n",
       "</table>"
      ],
      "text/plain": [
       "<proveit._core_.proof._ShowProof at 0x7f5b984b5d68>"
      ]
     },
     "execution_count": 1,
     "metadata": {},
     "output_type": "execute_result"
    }
   ],
   "source": [
    "import proveit\n",
    "# Automation is not needed when only showing a stored proof:\n",
    "proveit.defaults.automation = False # This will speed things up.\n",
    "proveit.defaults.inline_pngs = False # Makes files smaller.\n",
    "%show_proof"
   ]
  },
  {
   "cell_type": "code",
   "execution_count": null,
   "metadata": {},
   "outputs": [],
   "source": []
  }
 ],
 "metadata": {
  "kernelspec": {
   "display_name": "Python 3",
   "language": "python",
   "name": "python3"
  },
  "language_info": {
   "codemirror_mode": {
    "name": "ipython",
    "version": 3
   },
   "file_extension": ".py",
   "mimetype": "text/x-python",
   "name": "python",
   "nbconvert_exporter": "python",
   "pygments_lexer": "ipython3",
   "version": "3.7.3"
  }
 },
 "nbformat": 4,
 "nbformat_minor": 1
}
