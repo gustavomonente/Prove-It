{
 "cells": [
  {
   "cell_type": "markdown",
   "metadata": {},
   "source": [
    "Show the Proof\n",
    "========"
   ]
  },
  {
   "cell_type": "code",
   "execution_count": 1,
   "metadata": {},
   "outputs": [
    {
     "data": {
      "text/html": [
       "<table><tr><th>&nbsp;</th><th>step type</th><th>requirements</th><th>statement</th></tr>\n",
       "<tr><td><a name=\"proveit.logic.boolean.implication.7d2044eb49e1a8f169cc3540efd9b264cb0b83260_step0\">0</a></td><td>modus ponens</td><td><a href=\"#proveit.logic.boolean.implication.7d2044eb49e1a8f169cc3540efd9b264cb0b83260_step1\">1</a>, <a href=\"#proveit.logic.boolean.implication.7d2044eb49e1a8f169cc3540efd9b264cb0b83260_step2\">2</a></td><td><span style=\"font-size:20px;\"><a class=\"ProveItLink\" href=\"../0d823f453dfa51b661db7dc8f2a1c7ae64d225f70/expr.ipynb\"><img src=\"../0d823f453dfa51b661db7dc8f2a1c7ae64d225f70/expr.png\" style=\"display:inline;vertical-align:middle;\" /></a> <a class=\"ProveItLink\" href=\"proof.ipynb\" style=\"text-decoration: none\">&#x22A2;&nbsp;</a><a class=\"ProveItLink\" href=\"../../../../../__pv_it/8f4534f2d0cd8231a9b8a1771e8be76aa52adea40/expr.ipynb\"><img src=\"../../../../../__pv_it/8f4534f2d0cd8231a9b8a1771e8be76aa52adea40/expr.png\" style=\"display:inline;vertical-align:middle;\" /></a></span></td></tr>\n",
       "<tr><td><a name=\"proveit.logic.boolean.implication.7d2044eb49e1a8f169cc3540efd9b264cb0b83260_step1\">1</a></td><td>assumption</td><td></td><td><span style=\"font-size:20px;\"><a class=\"ProveItLink\" href=\"../772ab58ef0e813e6cf0204c0d394cf1532e68a720/expr.ipynb\"><img src=\"../772ab58ef0e813e6cf0204c0d394cf1532e68a720/expr.png\" style=\"display:inline;vertical-align:middle;\" /></a> <a class=\"ProveItLink\" href=\"../1df7a5636febeda7e62e136286d734dc26023f460/proof.ipynb\" style=\"text-decoration: none\">&#x22A2;&nbsp;</a><a class=\"ProveItLink\" href=\"../../../../../__pv_it/9dd33599551a7eb5d8cc7ff0b7016fa9043658d30/expr.ipynb\"><img src=\"../../../../../__pv_it/9dd33599551a7eb5d8cc7ff0b7016fa9043658d30/expr.png\" style=\"display:inline;vertical-align:middle;\" /></a></span></td></tr>\n",
       "<tr><td><a name=\"proveit.logic.boolean.implication.7d2044eb49e1a8f169cc3540efd9b264cb0b83260_step2\">2</a></td><td>modus ponens</td><td><a href=\"#proveit.logic.boolean.implication.7d2044eb49e1a8f169cc3540efd9b264cb0b83260_step3\">3</a>, <a href=\"#proveit.logic.boolean.implication.7d2044eb49e1a8f169cc3540efd9b264cb0b83260_step4\">4</a></td><td><span style=\"font-size:20px;\"><a class=\"ProveItLink\" href=\"../4925a65f4e2fd4e8b10b5b62fffaf661c1182e750/expr.ipynb\"><img src=\"../4925a65f4e2fd4e8b10b5b62fffaf661c1182e750/expr.png\" style=\"display:inline;vertical-align:middle;\" /></a> <a class=\"ProveItLink\" href=\"../024676a405eb6c2f0c85237fc486898f787176440/proof.ipynb\" style=\"text-decoration: none\">&#x22A2;&nbsp;</a><a class=\"ProveItLink\" href=\"../../../../../__pv_it/dcb5a3e430485237dfe486162b026a4affb149300/expr.ipynb\"><img src=\"../../../../../__pv_it/dcb5a3e430485237dfe486162b026a4affb149300/expr.png\" style=\"display:inline;vertical-align:middle;\" /></a></span></td></tr>\n",
       "<tr><td><a name=\"proveit.logic.boolean.implication.7d2044eb49e1a8f169cc3540efd9b264cb0b83260_step3\">3</a></td><td>assumption</td><td></td><td><span style=\"font-size:20px;\"><a class=\"ProveItLink\" href=\"../d79892bb8351e60d9137963228dce91881c0d1eb0/expr.ipynb\"><img src=\"../d79892bb8351e60d9137963228dce91881c0d1eb0/expr.png\" style=\"display:inline;vertical-align:middle;\" /></a> <a class=\"ProveItLink\" href=\"../2e1a9ff3f601588bd5558e6b739ae786c8e3f0f00/proof.ipynb\" style=\"text-decoration: none\">&#x22A2;&nbsp;</a><a class=\"ProveItLink\" href=\"../../../../../__pv_it/45ab3be324b603892f5fcf28689f603b1ee23bc00/expr.ipynb\"><img src=\"../../../../../__pv_it/45ab3be324b603892f5fcf28689f603b1ee23bc00/expr.png\" style=\"display:inline;vertical-align:middle;\" /></a></span></td></tr>\n",
       "<tr><td><a name=\"proveit.logic.boolean.implication.7d2044eb49e1a8f169cc3540efd9b264cb0b83260_step4\">4</a></td><td>modus ponens</td><td><a href=\"#proveit.logic.boolean.implication.7d2044eb49e1a8f169cc3540efd9b264cb0b83260_step5\">5</a>, <a href=\"#proveit.logic.boolean.implication.7d2044eb49e1a8f169cc3540efd9b264cb0b83260_step6\">6</a></td><td><span style=\"font-size:20px;\"><a class=\"ProveItLink\" href=\"../3190a797aa7c0646328c921858ed00dd926381640/expr.ipynb\"><img src=\"../3190a797aa7c0646328c921858ed00dd926381640/expr.png\" style=\"display:inline;vertical-align:middle;\" /></a> <a class=\"ProveItLink\" href=\"../d1d1309e97286ea63331530f504caf9f754012f90/proof.ipynb\" style=\"text-decoration: none\">&#x22A2;&nbsp;</a><a class=\"ProveItLink\" href=\"../../../../../__pv_it/4d98b438710c5ada9ffa4646bb123a7d0e69ec000/expr.ipynb\"><img src=\"../../../../../__pv_it/4d98b438710c5ada9ffa4646bb123a7d0e69ec000/expr.png\" style=\"display:inline;vertical-align:middle;\" /></a></span></td></tr>\n",
       "<tr><td><a name=\"proveit.logic.boolean.implication.7d2044eb49e1a8f169cc3540efd9b264cb0b83260_step5\">5</a></td><td>assumption</td><td></td><td><span style=\"font-size:20px;\"><a class=\"ProveItLink\" href=\"../f5781257aca0c93575bdd94b9845e95caf61e7670/expr.ipynb\"><img src=\"../f5781257aca0c93575bdd94b9845e95caf61e7670/expr.png\" style=\"display:inline;vertical-align:middle;\" /></a> <a class=\"ProveItLink\" href=\"../398ad2f600fe9d64fafc0e1a14b5cdb47c57e34a0/proof.ipynb\" style=\"text-decoration: none\">&#x22A2;&nbsp;</a><a class=\"ProveItLink\" href=\"../../../../../__pv_it/88afd541eb2df1058359bbcb9b47fbcbdb7cf30a0/expr.ipynb\"><img src=\"../../../../../__pv_it/88afd541eb2df1058359bbcb9b47fbcbdb7cf30a0/expr.png\" style=\"display:inline;vertical-align:middle;\" /></a></span></td></tr>\n",
       "<tr><td><a name=\"proveit.logic.boolean.implication.7d2044eb49e1a8f169cc3540efd9b264cb0b83260_step6\">6</a></td><td>assumption</td><td></td><td><span style=\"font-size:20px;\"><a class=\"ProveItLink\" href=\"../1ea553d38af7f0e38bb62d4c24279012575f1f120/expr.ipynb\"><img src=\"../1ea553d38af7f0e38bb62d4c24279012575f1f120/expr.png\" style=\"display:inline;vertical-align:middle;\" /></a> <a class=\"ProveItLink\" href=\"../f7aa928e5488bb87da79ed7f822c857e11b4dd2c0/proof.ipynb\" style=\"text-decoration: none\">&#x22A2;&nbsp;</a><a class=\"ProveItLink\" href=\"../../../../../__pv_it/d3792d0d8642fdf1cd2a3a9b32c673ee13653de00/expr.ipynb\"><img src=\"../../../../../__pv_it/d3792d0d8642fdf1cd2a3a9b32c673ee13653de00/expr.png\" style=\"display:inline;vertical-align:middle;\" /></a></span></td></tr>\n",
       "</table>"
      ],
      "text/plain": [
       "<proveit._core_.proof._ShowProof at 0x7f5b8e22e128>"
      ]
     },
     "execution_count": 1,
     "metadata": {},
     "output_type": "execute_result"
    }
   ],
   "source": [
    "import proveit\n",
    "# Automation is not needed when only showing a stored proof:\n",
    "proveit.defaults.automation = False # This will speed things up.\n",
    "proveit.defaults.inline_pngs = False # Makes files smaller.\n",
    "%show_proof"
   ]
  },
  {
   "cell_type": "code",
   "execution_count": null,
   "metadata": {},
   "outputs": [],
   "source": []
  }
 ],
 "metadata": {
  "kernelspec": {
   "display_name": "Python 3",
   "language": "python",
   "name": "python3"
  },
  "language_info": {
   "codemirror_mode": {
    "name": "ipython",
    "version": 3
   },
   "file_extension": ".py",
   "mimetype": "text/x-python",
   "name": "python",
   "nbconvert_exporter": "python",
   "pygments_lexer": "ipython3",
   "version": "3.7.3"
  }
 },
 "nbformat": 4,
 "nbformat_minor": 1
}
