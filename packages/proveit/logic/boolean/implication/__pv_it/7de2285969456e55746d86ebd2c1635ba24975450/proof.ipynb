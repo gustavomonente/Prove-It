{
 "cells": [
  {
   "cell_type": "markdown",
   "metadata": {},
   "source": [
    "Show the Proof\n",
    "========"
   ]
  },
  {
   "cell_type": "code",
   "execution_count": 1,
   "metadata": {},
   "outputs": [
    {
     "data": {
      "text/html": [
       "<table><tr><th>&nbsp;</th><th>step type</th><th>requirements</th><th>statement</th></tr>\n",
       "<tr><td><a name=\"proveit.logic.boolean.implication.7de2285969456e55746d86ebd2c1635ba24975450_step0\">0</a></td><td>instantiation</td><td><a href=\"#proveit.logic.boolean.implication.7de2285969456e55746d86ebd2c1635ba24975450_step1\">1</a>, <a href=\"#proveit.logic.boolean.implication.7de2285969456e55746d86ebd2c1635ba24975450_step2\">2</a>, <a href=\"#proveit.logic.boolean.implication.7de2285969456e55746d86ebd2c1635ba24975450_step3\">3</a></td><td><span style=\"font-size:20px;\"><a class=\"ProveItLink\" href=\"../59566ee9956ccfbfbc925e67e22c80f9216297dd0/expr.ipynb\"><img src=\"../59566ee9956ccfbfbc925e67e22c80f9216297dd0/expr.png\" style=\"display:inline;vertical-align:middle;\" /></a> <a class=\"ProveItLink\" href=\"proof.ipynb\" style=\"text-decoration: none\">&#x22A2;&nbsp;</a><a class=\"ProveItLink\" href=\"../../../../../__pv_it/d3792d0d8642fdf1cd2a3a9b32c673ee13653de00/expr.ipynb\"><img src=\"../../../../../__pv_it/d3792d0d8642fdf1cd2a3a9b32c673ee13653de00/expr.png\" style=\"display:inline;vertical-align:middle;\" /></a></span></td></tr>\n",
       "<tr><td>&nbsp;</td><td colspan=4 style=\"text-align:left\"><span style=\"font-size:20px;\"><a class=\"ProveItLink\" href=\"../../../../../__pv_it/d3792d0d8642fdf1cd2a3a9b32c673ee13653de00/expr.ipynb\"><img src=\"../../../../../__pv_it/d3792d0d8642fdf1cd2a3a9b32c673ee13653de00/expr.png\" style=\"display:inline;vertical-align:middle;\" /></a> : <a class=\"ProveItLink\" href=\"../../../../../__pv_it/d3792d0d8642fdf1cd2a3a9b32c673ee13653de00/expr.ipynb\"><img src=\"../../../../../__pv_it/d3792d0d8642fdf1cd2a3a9b32c673ee13653de00/expr.png\" style=\"display:inline;vertical-align:middle;\" /></a></span></td></tr><tr><td><a name=\"proveit.logic.boolean.implication.7de2285969456e55746d86ebd2c1635ba24975450_step1\">1</a></td><td>theorem</td><td></td><td><span style=\"font-size:20px;\"> <a class=\"ProveItLink\" href=\"../../_proofs_/affirmViaContradiction.ipynb\" style=\"text-decoration: none\">&#x22A2;&nbsp;</a><a class=\"ProveItLink\" href=\"../a1a27547bca87e7a088a3e6b85d2ab637dd4c3390/expr.ipynb\"><img src=\"../a1a27547bca87e7a088a3e6b85d2ab637dd4c3390/expr.png\" style=\"display:inline;vertical-align:middle;\" /></a></span></td></tr>\n",
       "<tr><td>&nbsp;</td><td colspan=4 style-\"text-align:left\"><a class=\"ProveItLink\" href=\"../../_proofs_/affirmViaContradiction.ipynb\">proveit.logic.boolean.implication.affirmViaContradiction</a></td></tr><tr><td><a name=\"proveit.logic.boolean.implication.7de2285969456e55746d86ebd2c1635ba24975450_step2\">2</a></td><td>assumption</td><td></td><td><span style=\"font-size:20px;\"><a class=\"ProveItLink\" href=\"../24691600bb1d17fdc591a87dbe69a7a6b4e196f10/expr.ipynb\"><img src=\"../24691600bb1d17fdc591a87dbe69a7a6b4e196f10/expr.png\" style=\"display:inline;vertical-align:middle;\" /></a> <a class=\"ProveItLink\" href=\"../0340c064c83c6205f84cc244ce9c47bf225a315f0/proof.ipynb\" style=\"text-decoration: none\">&#x22A2;&nbsp;</a><a class=\"ProveItLink\" href=\"../../../../../__pv_it/c9b4e272090c87d2bafac1557987ced3b9de5bb70/expr.ipynb\"><img src=\"../../../../../__pv_it/c9b4e272090c87d2bafac1557987ced3b9de5bb70/expr.png\" style=\"display:inline;vertical-align:middle;\" /></a></span></td></tr>\n",
       "<tr><td><a name=\"proveit.logic.boolean.implication.7de2285969456e55746d86ebd2c1635ba24975450_step3\">3</a></td><td>hypothetical reasoning</td><td><a href=\"#proveit.logic.boolean.implication.7de2285969456e55746d86ebd2c1635ba24975450_step4\">4</a></td><td><span style=\"font-size:20px;\"><a class=\"ProveItLink\" href=\"../6dc4bd739eb5603c15ca77859fb845ffc8f2eae60/expr.ipynb\"><img src=\"../6dc4bd739eb5603c15ca77859fb845ffc8f2eae60/expr.png\" style=\"display:inline;vertical-align:middle;\" /></a> <a class=\"ProveItLink\" href=\"../9cc390054f85695cc1af062cab39d5eddad088ec0/proof.ipynb\" style=\"text-decoration: none\">&#x22A2;&nbsp;</a><a class=\"ProveItLink\" href=\"../d19ae118899a90ccff415eee289f83371cca33ab0/expr.ipynb\"><img src=\"../d19ae118899a90ccff415eee289f83371cca33ab0/expr.png\" style=\"display:inline;vertical-align:middle;\" /></a></span></td></tr>\n",
       "<tr><td><a name=\"proveit.logic.boolean.implication.7de2285969456e55746d86ebd2c1635ba24975450_step4\">4</a></td><td>instantiation</td><td><a href=\"#proveit.logic.boolean.implication.7de2285969456e55746d86ebd2c1635ba24975450_step5\">5</a>, <a href=\"#proveit.logic.boolean.implication.7de2285969456e55746d86ebd2c1635ba24975450_step6\">6</a>, <a href=\"#proveit.logic.boolean.implication.7de2285969456e55746d86ebd2c1635ba24975450_step7\">7</a></td><td><span style=\"font-size:20px;\"><a class=\"ProveItLink\" href=\"../80534d21ede6a12b5a2fcf6208aaff53a0c764670/expr.ipynb\"><img src=\"../80534d21ede6a12b5a2fcf6208aaff53a0c764670/expr.png\" style=\"display:inline;vertical-align:middle;\" /></a> <a class=\"ProveItLink\" href=\"../0d07c51ca54b973bc09f3220663222f85fac20e20/proof.ipynb\" style=\"text-decoration: none\">&#x22A2;&nbsp;</a><a class=\"ProveItLink\" href=\"../../../__pv_it/83a1ddf0f64531c80e7f41ea6b904214668818b30/expr.ipynb\"><img src=\"../../../__pv_it/83a1ddf0f64531c80e7f41ea6b904214668818b30/expr.png\" style=\"display:inline;vertical-align:middle;\" /></a></span></td></tr>\n",
       "<tr><td>&nbsp;</td><td colspan=4 style=\"text-align:left\"><span style=\"font-size:20px;\"><a class=\"ProveItLink\" href=\"../../../../../__pv_it/d3792d0d8642fdf1cd2a3a9b32c673ee13653de00/expr.ipynb\"><img src=\"../../../../../__pv_it/d3792d0d8642fdf1cd2a3a9b32c673ee13653de00/expr.png\" style=\"display:inline;vertical-align:middle;\" /></a> : <a class=\"ProveItLink\" href=\"../../../../../__pv_it/4d98b438710c5ada9ffa4646bb123a7d0e69ec000/expr.ipynb\"><img src=\"../../../../../__pv_it/4d98b438710c5ada9ffa4646bb123a7d0e69ec000/expr.png\" style=\"display:inline;vertical-align:middle;\" /></a></span></td></tr><tr><td><a name=\"proveit.logic.boolean.implication.7de2285969456e55746d86ebd2c1635ba24975450_step5\">5</a></td><td>theorem</td><td></td><td><span style=\"font-size:20px;\"> <a class=\"ProveItLink\" href=\"../../../negation/_proofs_/negationContradiction.ipynb\" style=\"text-decoration: none\">&#x22A2;&nbsp;</a><a class=\"ProveItLink\" href=\"../36011884d2c14ecfe68583eadf60c753463b351b0/expr.ipynb\"><img src=\"../36011884d2c14ecfe68583eadf60c753463b351b0/expr.png\" style=\"display:inline;vertical-align:middle;\" /></a></span></td></tr>\n",
       "<tr><td>&nbsp;</td><td colspan=4 style-\"text-align:left\"><a class=\"ProveItLink\" href=\"../../../negation/_proofs_/negationContradiction.ipynb\">proveit.logic.boolean.negation.negationContradiction</a></td></tr><tr><td><a name=\"proveit.logic.boolean.implication.7de2285969456e55746d86ebd2c1635ba24975450_step6\">6</a></td><td>modus ponens</td><td><a href=\"#proveit.logic.boolean.implication.7de2285969456e55746d86ebd2c1635ba24975450_step8\">8</a>, <a href=\"#proveit.logic.boolean.implication.7de2285969456e55746d86ebd2c1635ba24975450_step9\">9</a></td><td><span style=\"font-size:20px;\"><a class=\"ProveItLink\" href=\"../c45f745fe571592f9d9673880915bc633006cde70/expr.ipynb\"><img src=\"../c45f745fe571592f9d9673880915bc633006cde70/expr.png\" style=\"display:inline;vertical-align:middle;\" /></a> <a class=\"ProveItLink\" href=\"../22b5847d5d1ef9b778cf4deac45fdd4c79b3d13c0/proof.ipynb\" style=\"text-decoration: none\">&#x22A2;&nbsp;</a><a class=\"ProveItLink\" href=\"../../../../../__pv_it/4d98b438710c5ada9ffa4646bb123a7d0e69ec000/expr.ipynb\"><img src=\"../../../../../__pv_it/4d98b438710c5ada9ffa4646bb123a7d0e69ec000/expr.png\" style=\"display:inline;vertical-align:middle;\" /></a></span></td></tr>\n",
       "<tr><td><a name=\"proveit.logic.boolean.implication.7de2285969456e55746d86ebd2c1635ba24975450_step7\">7</a></td><td>assumption</td><td></td><td><span style=\"font-size:20px;\"><a class=\"ProveItLink\" href=\"../35863576589c4b0e930f05ea2aed96353ca165d80/expr.ipynb\"><img src=\"../35863576589c4b0e930f05ea2aed96353ca165d80/expr.png\" style=\"display:inline;vertical-align:middle;\" /></a> <a class=\"ProveItLink\" href=\"../dd750b3300473f9a3fd8bdd2dcf1c333dfa79c240/proof.ipynb\" style=\"text-decoration: none\">&#x22A2;&nbsp;</a><a class=\"ProveItLink\" href=\"../../../../../__pv_it/00c3c2100d390d37b26d1008f3c4cacbd4272cad0/expr.ipynb\"><img src=\"../../../../../__pv_it/00c3c2100d390d37b26d1008f3c4cacbd4272cad0/expr.png\" style=\"display:inline;vertical-align:middle;\" /></a></span></td></tr>\n",
       "<tr><td><a name=\"proveit.logic.boolean.implication.7de2285969456e55746d86ebd2c1635ba24975450_step8\">8</a></td><td>assumption</td><td></td><td><span style=\"font-size:20px;\"><a class=\"ProveItLink\" href=\"../63e18a7ee1f4a1a07eb27cc80a30927ad6aea3bf0/expr.ipynb\"><img src=\"../63e18a7ee1f4a1a07eb27cc80a30927ad6aea3bf0/expr.png\" style=\"display:inline;vertical-align:middle;\" /></a> <a class=\"ProveItLink\" href=\"../f8fc2e3ab552a3735918bb4b4e327a818748f6090/proof.ipynb\" style=\"text-decoration: none\">&#x22A2;&nbsp;</a><a class=\"ProveItLink\" href=\"../../../../../__pv_it/d4c1f0ca8c53d986b53e510e39c8b6e974eb61780/expr.ipynb\"><img src=\"../../../../../__pv_it/d4c1f0ca8c53d986b53e510e39c8b6e974eb61780/expr.png\" style=\"display:inline;vertical-align:middle;\" /></a></span></td></tr>\n",
       "<tr><td><a name=\"proveit.logic.boolean.implication.7de2285969456e55746d86ebd2c1635ba24975450_step9\">9</a></td><td>assumption</td><td></td><td><span style=\"font-size:20px;\"><a class=\"ProveItLink\" href=\"../6f7c66d50c127358b8ebdc48e703762182a4be410/expr.ipynb\"><img src=\"../6f7c66d50c127358b8ebdc48e703762182a4be410/expr.png\" style=\"display:inline;vertical-align:middle;\" /></a> <a class=\"ProveItLink\" href=\"../21c0abe84b58cafe3e37aff9ff0267970c1634470/proof.ipynb\" style=\"text-decoration: none\">&#x22A2;&nbsp;</a><a class=\"ProveItLink\" href=\"../../../../../__pv_it/82f019ecb6be2bf9ebfc6a3c00838f9d57556fd60/expr.ipynb\"><img src=\"../../../../../__pv_it/82f019ecb6be2bf9ebfc6a3c00838f9d57556fd60/expr.png\" style=\"display:inline;vertical-align:middle;\" /></a></span></td></tr>\n",
       "</table>"
      ],
      "text/plain": [
       "<proveit._core_.proof._ShowProof at 0x7f5b98594240>"
      ]
     },
     "execution_count": 1,
     "metadata": {},
     "output_type": "execute_result"
    }
   ],
   "source": [
    "import proveit\n",
    "# Automation is not needed when only showing a stored proof:\n",
    "proveit.defaults.automation = False # This will speed things up.\n",
    "proveit.defaults.inline_pngs = False # Makes files smaller.\n",
    "%show_proof"
   ]
  },
  {
   "cell_type": "code",
   "execution_count": null,
   "metadata": {},
   "outputs": [],
   "source": []
  }
 ],
 "metadata": {
  "kernelspec": {
   "display_name": "Python 3",
   "language": "python",
   "name": "python3"
  },
  "language_info": {
   "codemirror_mode": {
    "name": "ipython",
    "version": 3
   },
   "file_extension": ".py",
   "mimetype": "text/x-python",
   "name": "python",
   "nbconvert_exporter": "python",
   "pygments_lexer": "ipython3",
   "version": "3.7.3"
  }
 },
 "nbformat": 4,
 "nbformat_minor": 1
}
