{
 "cells": [
  {
   "cell_type": "markdown",
   "metadata": {},
   "source": [
    "Show the Proof\n",
    "========"
   ]
  },
  {
   "cell_type": "code",
   "execution_count": 1,
   "metadata": {},
   "outputs": [
    {
     "data": {
      "text/html": [
       "<table><tr><th>&nbsp;</th><th>step type</th><th>requirements</th><th>statement</th></tr>\n",
       "<tr><td><a name=\"proveit.logic.boolean.implication.48194ddeb5f4551386db72bb65f53c771eef870f0_step0\">0</a></td><td>instantiation</td><td><a href=\"#proveit.logic.boolean.implication.48194ddeb5f4551386db72bb65f53c771eef870f0_step1\">1</a>, <a href=\"#proveit.logic.boolean.implication.48194ddeb5f4551386db72bb65f53c771eef870f0_step2\">2</a></td><td><span style=\"font-size:20px;\"> <a class=\"ProveItLink\" href=\"proof.ipynb\" style=\"text-decoration: none\">&#x22A2;&nbsp;</a><a class=\"ProveItLink\" href=\"../628bc6e9b141e0c930ba3f8018df4c098c974c0f0/expr.ipynb\"><img src=\"../628bc6e9b141e0c930ba3f8018df4c098c974c0f0/expr.png\" style=\"display:inline;vertical-align:middle;\" /></a></span></td></tr>\n",
       "<tr><td>&nbsp;</td><td colspan=4 style=\"text-align:left\"><span style=\"font-size:20px;\"><a class=\"ProveItLink\" href=\"../../../../../__pv_it/d3792d0d8642fdf1cd2a3a9b32c673ee13653de00/expr.ipynb\"><img src=\"../../../../../__pv_it/d3792d0d8642fdf1cd2a3a9b32c673ee13653de00/expr.png\" style=\"display:inline;vertical-align:middle;\" /></a> : <a class=\"ProveItLink\" href=\"../8effe994a020c5ef887802c1c8b179d41666166a0/expr.ipynb\"><img src=\"../8effe994a020c5ef887802c1c8b179d41666166a0/expr.png\" style=\"display:inline;vertical-align:middle;\" /></a></span></td></tr><tr><td><a name=\"proveit.logic.boolean.implication.48194ddeb5f4551386db72bb65f53c771eef870f0_step1\">1</a></td><td>axiom</td><td></td><td><span style=\"font-size:20px;\"> <a class=\"ProveItLink\" href=\"../../../negation/_axioms_.ipynb#negationElim\" style=\"text-decoration: none\">&#x22A2;&nbsp;</a><a class=\"ProveItLink\" href=\"../2cd4c4f7d38d4ee00340575d3092bcf4cb1b4c340/expr.ipynb\"><img src=\"../2cd4c4f7d38d4ee00340575d3092bcf4cb1b4c340/expr.png\" style=\"display:inline;vertical-align:middle;\" /></a></span></td></tr>\n",
       "<tr><td>&nbsp;</td><td colspan=4 style-\"text-align:left\"><a class=\"ProveItLink\" href=\"../../../negation/_axioms_.ipynb#negationElim\">proveit.logic.boolean.negation.negationElim</a></td></tr><tr><td><a name=\"proveit.logic.boolean.implication.48194ddeb5f4551386db72bb65f53c771eef870f0_step2\">2</a></td><td>instantiation</td><td><a href=\"#proveit.logic.boolean.implication.48194ddeb5f4551386db72bb65f53c771eef870f0_step3\">3</a>, <a href=\"#proveit.logic.boolean.implication.48194ddeb5f4551386db72bb65f53c771eef870f0_step4\">4</a>, <a href=\"#proveit.logic.boolean.implication.48194ddeb5f4551386db72bb65f53c771eef870f0_step5\">5</a></td><td><span style=\"font-size:20px;\"> <a class=\"ProveItLink\" href=\"../0545bdc947a3c625f7127401732007c6ce3499b10/proof.ipynb\" style=\"text-decoration: none\">&#x22A2;&nbsp;</a><a class=\"ProveItLink\" href=\"../4a4e7a223fe4c8447b762fe66d6faebe6c2c51d20/expr.ipynb\"><img src=\"../4a4e7a223fe4c8447b762fe66d6faebe6c2c51d20/expr.png\" style=\"display:inline;vertical-align:middle;\" /></a></span></td></tr>\n",
       "<tr><td>&nbsp;</td><td colspan=4 style=\"text-align:left\"><span style=\"font-size:20px;\"><a class=\"ProveItLink\" href=\"../../../../../__pv_it/d3792d0d8642fdf1cd2a3a9b32c673ee13653de00/expr.ipynb\"><img src=\"../../../../../__pv_it/d3792d0d8642fdf1cd2a3a9b32c673ee13653de00/expr.png\" style=\"display:inline;vertical-align:middle;\" /></a> : <a class=\"ProveItLink\" href=\"../13eaced9a06f64c4613a31985a61b37a760408780/expr.ipynb\"><img src=\"../13eaced9a06f64c4613a31985a61b37a760408780/expr.png\" style=\"display:inline;vertical-align:middle;\" /></a>, <a class=\"ProveItLink\" href=\"../../../../../__pv_it/4d98b438710c5ada9ffa4646bb123a7d0e69ec000/expr.ipynb\"><img src=\"../../../../../__pv_it/4d98b438710c5ada9ffa4646bb123a7d0e69ec000/expr.png\" style=\"display:inline;vertical-align:middle;\" /></a> : <a class=\"ProveItLink\" href=\"../e4783dacccf6ca1d4045aa3cd67d4fbc65b37ece0/expr.ipynb\"><img src=\"../e4783dacccf6ca1d4045aa3cd67d4fbc65b37ece0/expr.png\" style=\"display:inline;vertical-align:middle;\" /></a></span></td></tr><tr><td><a name=\"proveit.logic.boolean.implication.48194ddeb5f4551386db72bb65f53c771eef870f0_step3\">3</a></td><td>theorem</td><td></td><td><span style=\"font-size:20px;\"> <a class=\"ProveItLink\" href=\"../../../conjunction/_proofs_/nandIfRightButNotLeft.ipynb\" style=\"text-decoration: none\">&#x22A2;&nbsp;</a><a class=\"ProveItLink\" href=\"../d082d0b24611c3b46543101b6e153bf24aac76cd0/expr.ipynb\"><img src=\"../d082d0b24611c3b46543101b6e153bf24aac76cd0/expr.png\" style=\"display:inline;vertical-align:middle;\" /></a></span></td></tr>\n",
       "<tr><td>&nbsp;</td><td colspan=4 style-\"text-align:left\"><a class=\"ProveItLink\" href=\"../../../conjunction/_proofs_/nandIfRightButNotLeft.ipynb\">proveit.logic.boolean.conjunction.nandIfRightButNotLeft</a></td></tr><tr><td><a name=\"proveit.logic.boolean.implication.48194ddeb5f4551386db72bb65f53c771eef870f0_step4\">4</a></td><td>instantiation</td><td><a href=\"#proveit.logic.boolean.implication.48194ddeb5f4551386db72bb65f53c771eef870f0_step6\">6</a>, <a href=\"#proveit.logic.boolean.implication.48194ddeb5f4551386db72bb65f53c771eef870f0_step7\">7</a></td><td><span style=\"font-size:20px;\"> <a class=\"ProveItLink\" href=\"../26dd8c02e25cc8ca1165c84a509df5fc0bbeb5f40/proof.ipynb\" style=\"text-decoration: none\">&#x22A2;&nbsp;</a><a class=\"ProveItLink\" href=\"../86e6d79f5ac336786c1fbeff653f3f270ae5d8760/expr.ipynb\"><img src=\"../86e6d79f5ac336786c1fbeff653f3f270ae5d8760/expr.png\" style=\"display:inline;vertical-align:middle;\" /></a></span></td></tr>\n",
       "<tr><td>&nbsp;</td><td colspan=4 style=\"text-align:left\"><span style=\"font-size:20px;\"><a class=\"ProveItLink\" href=\"../../../../../__pv_it/d3792d0d8642fdf1cd2a3a9b32c673ee13653de00/expr.ipynb\"><img src=\"../../../../../__pv_it/d3792d0d8642fdf1cd2a3a9b32c673ee13653de00/expr.png\" style=\"display:inline;vertical-align:middle;\" /></a> : <a class=\"ProveItLink\" href=\"../13eaced9a06f64c4613a31985a61b37a760408780/expr.ipynb\"><img src=\"../13eaced9a06f64c4613a31985a61b37a760408780/expr.png\" style=\"display:inline;vertical-align:middle;\" /></a></span></td></tr><tr><td><a name=\"proveit.logic.boolean.implication.48194ddeb5f4551386db72bb65f53c771eef870f0_step5\">5</a></td><td>theorem</td><td></td><td><span style=\"font-size:20px;\"> <a class=\"ProveItLink\" href=\"../../_proofs_/falseImpliesTrue.ipynb\" style=\"text-decoration: none\">&#x22A2;&nbsp;</a><a class=\"ProveItLink\" href=\"../e4783dacccf6ca1d4045aa3cd67d4fbc65b37ece0/expr.ipynb\"><img src=\"../e4783dacccf6ca1d4045aa3cd67d4fbc65b37ece0/expr.png\" style=\"display:inline;vertical-align:middle;\" /></a></span></td></tr>\n",
       "<tr><td>&nbsp;</td><td colspan=4 style-\"text-align:left\"><a class=\"ProveItLink\" href=\"../../_proofs_/falseImpliesTrue.ipynb\">proveit.logic.boolean.implication.falseImpliesTrue</a></td></tr><tr><td><a name=\"proveit.logic.boolean.implication.48194ddeb5f4551386db72bb65f53c771eef870f0_step6\">6</a></td><td>axiom</td><td></td><td><span style=\"font-size:20px;\"> <a class=\"ProveItLink\" href=\"../../../negation/_axioms_.ipynb#negationIntro\" style=\"text-decoration: none\">&#x22A2;&nbsp;</a><a class=\"ProveItLink\" href=\"../de1090f94eb506c2fe3e4ea0a9dbee9221e40b370/expr.ipynb\"><img src=\"../de1090f94eb506c2fe3e4ea0a9dbee9221e40b370/expr.png\" style=\"display:inline;vertical-align:middle;\" /></a></span></td></tr>\n",
       "<tr><td>&nbsp;</td><td colspan=4 style-\"text-align:left\"><a class=\"ProveItLink\" href=\"../../../negation/_axioms_.ipynb#negationIntro\">proveit.logic.boolean.negation.negationIntro</a></td></tr><tr><td><a name=\"proveit.logic.boolean.implication.48194ddeb5f4551386db72bb65f53c771eef870f0_step7\">7</a></td><td>theorem</td><td></td><td><span style=\"font-size:20px;\"> <a class=\"ProveItLink\" href=\"../../_proofs_/impliesTF.ipynb\" style=\"text-decoration: none\">&#x22A2;&nbsp;</a><a class=\"ProveItLink\" href=\"../f54d6f6f58cf70a4aedd93e574230ec4755d46e50/expr.ipynb\"><img src=\"../f54d6f6f58cf70a4aedd93e574230ec4755d46e50/expr.png\" style=\"display:inline;vertical-align:middle;\" /></a></span></td></tr>\n",
       "<tr><td>&nbsp;</td><td colspan=4 style-\"text-align:left\"><a class=\"ProveItLink\" href=\"../../_proofs_/impliesTF.ipynb\">proveit.logic.boolean.implication.impliesTF</a></td></tr></table>"
      ],
      "text/plain": [
       "<proveit._core_.proof._ShowProof at 0x7f5b8ddcc978>"
      ]
     },
     "execution_count": 1,
     "metadata": {},
     "output_type": "execute_result"
    }
   ],
   "source": [
    "import proveit\n",
    "# Automation is not needed when only showing a stored proof:\n",
    "proveit.defaults.automation = False # This will speed things up.\n",
    "proveit.defaults.inline_pngs = False # Makes files smaller.\n",
    "%show_proof"
   ]
  },
  {
   "cell_type": "code",
   "execution_count": null,
   "metadata": {},
   "outputs": [],
   "source": []
  }
 ],
 "metadata": {
  "kernelspec": {
   "display_name": "Python 3",
   "language": "python",
   "name": "python3"
  },
  "language_info": {
   "codemirror_mode": {
    "name": "ipython",
    "version": 3
   },
   "file_extension": ".py",
   "mimetype": "text/x-python",
   "name": "python",
   "nbconvert_exporter": "python",
   "pygments_lexer": "ipython3",
   "version": "3.7.3"
  }
 },
 "nbformat": 4,
 "nbformat_minor": 1
}
