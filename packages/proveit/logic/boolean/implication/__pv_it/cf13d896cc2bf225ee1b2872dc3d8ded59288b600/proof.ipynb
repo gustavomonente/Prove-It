{
 "cells": [
  {
   "cell_type": "markdown",
   "metadata": {},
   "source": [
    "Show the Proof\n",
    "========"
   ]
  },
  {
   "cell_type": "code",
   "execution_count": 1,
   "metadata": {},
   "outputs": [
    {
     "data": {
      "text/html": [
       "<table><tr><th>&nbsp;</th><th>step type</th><th>requirements</th><th>statement</th></tr>\n",
       "<tr><td><a name=\"proveit.logic.boolean.implication.cf13d896cc2bf225ee1b2872dc3d8ded59288b600_step0\">0</a></td><td>instantiation</td><td><a href=\"#proveit.logic.boolean.implication.cf13d896cc2bf225ee1b2872dc3d8ded59288b600_step1\">1</a>, <a href=\"#proveit.logic.boolean.implication.cf13d896cc2bf225ee1b2872dc3d8ded59288b600_step2\">2</a>, <a href=\"#proveit.logic.boolean.implication.cf13d896cc2bf225ee1b2872dc3d8ded59288b600_step3\">3</a></td><td><span style=\"font-size:20px;\"> <a class=\"ProveItLink\" href=\"proof.ipynb\" style=\"text-decoration: none\">&#x22A2;&nbsp;</a><a class=\"ProveItLink\" href=\"../f54d6f6f58cf70a4aedd93e574230ec4755d46e50/expr.ipynb\"><img src=\"../f54d6f6f58cf70a4aedd93e574230ec4755d46e50/expr.png\" style=\"display:inline;vertical-align:middle;\" /></a></span></td></tr>\n",
       "<tr><td>&nbsp;</td><td colspan=4 style=\"text-align:left\"><span style=\"font-size:20px;\"><a class=\"ProveItLink\" href=\"../0b28339a9470b3064675e3d630fe626bc057a2440/expr.ipynb\"><img src=\"../0b28339a9470b3064675e3d630fe626bc057a2440/expr.png\" style=\"display:inline;vertical-align:middle;\" /></a> : <a class=\"ProveItLink\" href=\"../0b3abd26938de19df67eb446759b9530c452941e0/expr.ipynb\"><img src=\"../0b3abd26938de19df67eb446759b9530c452941e0/expr.png\" style=\"display:inline;vertical-align:middle;\" /></a>, <a class=\"ProveItLink\" href=\"../../../../../__pv_it/72df168d2bfb4e0140af90912ebf83b13772060b0/expr.ipynb\"><img src=\"../../../../../__pv_it/72df168d2bfb4e0140af90912ebf83b13772060b0/expr.png\" style=\"display:inline;vertical-align:middle;\" /></a> : <a class=\"ProveItLink\" href=\"../../../negation/__pv_it/1fe9807523537bd8965e210ac2f3c711ac9ae0dc0/expr.ipynb\"><img src=\"../../../negation/__pv_it/1fe9807523537bd8965e210ac2f3c711ac9ae0dc0/expr.png\" style=\"display:inline;vertical-align:middle;\" /></a></span></td></tr><tr><td><a name=\"proveit.logic.boolean.implication.cf13d896cc2bf225ee1b2872dc3d8ded59288b600_step1\">1</a></td><td>theorem</td><td></td><td><span style=\"font-size:20px;\"> <a class=\"ProveItLink\" href=\"../../../../equality/_proofs_/substituteInTrue.ipynb\" style=\"text-decoration: none\">&#x22A2;&nbsp;</a><a class=\"ProveItLink\" href=\"../9f7fa9efcb8d58e2840b52c11fad2d73f75e0efb0/expr.ipynb\"><img src=\"../9f7fa9efcb8d58e2840b52c11fad2d73f75e0efb0/expr.png\" style=\"display:inline;vertical-align:middle;\" /></a></span></td></tr>\n",
       "<tr><td>&nbsp;</td><td colspan=4 style-\"text-align:left\"><a class=\"ProveItLink\" href=\"../../../../equality/_proofs_/substituteInTrue.ipynb\">proveit.logic.equality.substituteInTrue</a></td></tr><tr><td><a name=\"proveit.logic.boolean.implication.cf13d896cc2bf225ee1b2872dc3d8ded59288b600_step2\">2</a></td><td>instantiation</td><td><a href=\"#proveit.logic.boolean.implication.cf13d896cc2bf225ee1b2872dc3d8ded59288b600_step4\">4</a>, <a href=\"#proveit.logic.boolean.implication.cf13d896cc2bf225ee1b2872dc3d8ded59288b600_step5\">5</a></td><td><span style=\"font-size:20px;\"> <a class=\"ProveItLink\" href=\"../9e37146e623be90401bd3443b0ccc3548c356a0c0/proof.ipynb\" style=\"text-decoration: none\">&#x22A2;&nbsp;</a><a class=\"ProveItLink\" href=\"../7b0be37776cffe28ad1bf3e150217463d1e2d1290/expr.ipynb\"><img src=\"../7b0be37776cffe28ad1bf3e150217463d1e2d1290/expr.png\" style=\"display:inline;vertical-align:middle;\" /></a></span></td></tr>\n",
       "<tr><td>&nbsp;</td><td colspan=4 style=\"text-align:left\"><span style=\"font-size:20px;\"><a class=\"ProveItLink\" href=\"../../../../../__pv_it/d3792d0d8642fdf1cd2a3a9b32c673ee13653de00/expr.ipynb\"><img src=\"../../../../../__pv_it/d3792d0d8642fdf1cd2a3a9b32c673ee13653de00/expr.png\" style=\"display:inline;vertical-align:middle;\" /></a> : <a class=\"ProveItLink\" href=\"../../../__pv_it/83a1ddf0f64531c80e7f41ea6b904214668818b30/expr.ipynb\"><img src=\"../../../__pv_it/83a1ddf0f64531c80e7f41ea6b904214668818b30/expr.png\" style=\"display:inline;vertical-align:middle;\" /></a></span></td></tr><tr><td><a name=\"proveit.logic.boolean.implication.cf13d896cc2bf225ee1b2872dc3d8ded59288b600_step3\">3</a></td><td>theorem</td><td></td><td><span style=\"font-size:20px;\"> <a class=\"ProveItLink\" href=\"../../../negation/_proofs_/notFalse.ipynb\" style=\"text-decoration: none\">&#x22A2;&nbsp;</a><a class=\"ProveItLink\" href=\"../../../negation/__pv_it/1fe9807523537bd8965e210ac2f3c711ac9ae0dc0/expr.ipynb\"><img src=\"../../../negation/__pv_it/1fe9807523537bd8965e210ac2f3c711ac9ae0dc0/expr.png\" style=\"display:inline;vertical-align:middle;\" /></a></span></td></tr>\n",
       "<tr><td>&nbsp;</td><td colspan=4 style-\"text-align:left\"><a class=\"ProveItLink\" href=\"../../../negation/_proofs_/notFalse.ipynb\">proveit.logic.boolean.negation.notFalse</a></td></tr><tr><td><a name=\"proveit.logic.boolean.implication.cf13d896cc2bf225ee1b2872dc3d8ded59288b600_step4\">4</a></td><td>axiom</td><td></td><td><span style=\"font-size:20px;\"> <a class=\"ProveItLink\" href=\"../../_axioms_.ipynb#impliesFalseDef\" style=\"text-decoration: none\">&#x22A2;&nbsp;</a><a class=\"ProveItLink\" href=\"../8cd06fe0e7906fea7c352dfbb750668f1ab9fc910/expr.ipynb\"><img src=\"../8cd06fe0e7906fea7c352dfbb750668f1ab9fc910/expr.png\" style=\"display:inline;vertical-align:middle;\" /></a></span></td></tr>\n",
       "<tr><td>&nbsp;</td><td colspan=4 style-\"text-align:left\"><a class=\"ProveItLink\" href=\"../../_axioms_.ipynb#impliesFalseDef\">proveit.logic.boolean.implication.impliesFalseDef</a></td></tr><tr><td><a name=\"proveit.logic.boolean.implication.cf13d896cc2bf225ee1b2872dc3d8ded59288b600_step5\">5</a></td><td>theorem</td><td></td><td><span style=\"font-size:20px;\"> <a class=\"ProveItLink\" href=\"../../../_proofs_/falseInBool.ipynb\" style=\"text-decoration: none\">&#x22A2;&nbsp;</a><a class=\"ProveItLink\" href=\"../2bb7f56da42f89a87e1f899e78805ed2ca5c4d690/expr.ipynb\"><img src=\"../2bb7f56da42f89a87e1f899e78805ed2ca5c4d690/expr.png\" style=\"display:inline;vertical-align:middle;\" /></a></span></td></tr>\n",
       "<tr><td>&nbsp;</td><td colspan=4 style-\"text-align:left\"><a class=\"ProveItLink\" href=\"../../../_proofs_/falseInBool.ipynb\">proveit.logic.boolean.falseInBool</a></td></tr></table>"
      ],
      "text/plain": [
       "<proveit._core_.proof._ShowProof at 0x7f5b855a7550>"
      ]
     },
     "execution_count": 1,
     "metadata": {},
     "output_type": "execute_result"
    }
   ],
   "source": [
    "import proveit\n",
    "# Automation is not needed when only showing a stored proof:\n",
    "proveit.defaults.automation = False # This will speed things up.\n",
    "proveit.defaults.inline_pngs = False # Makes files smaller.\n",
    "%show_proof"
   ]
  },
  {
   "cell_type": "code",
   "execution_count": null,
   "metadata": {},
   "outputs": [],
   "source": []
  }
 ],
 "metadata": {
  "kernelspec": {
   "display_name": "Python 3",
   "language": "python",
   "name": "python3"
  },
  "language_info": {
   "codemirror_mode": {
    "name": "ipython",
    "version": 3
   },
   "file_extension": ".py",
   "mimetype": "text/x-python",
   "name": "python",
   "nbconvert_exporter": "python",
   "pygments_lexer": "ipython3",
   "version": "3.7.3"
  }
 },
 "nbformat": 4,
 "nbformat_minor": 1
}
