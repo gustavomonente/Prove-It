{
 "cells": [
  {
   "cell_type": "markdown",
   "metadata": {},
   "source": [
    "Show the Proof\n",
    "========"
   ]
  },
  {
   "cell_type": "code",
   "execution_count": 1,
   "metadata": {},
   "outputs": [
    {
     "data": {
      "text/html": [
       "<table><tr><th>&nbsp;</th><th>step type</th><th>requirements</th><th>statement</th></tr>\n",
       "<tr><td><a name=\"proveit.logic.boolean.implication.d9f046ab105fbe8c9a5071aa842dd02c9c6626250_step0\">0</a></td><td>instantiation</td><td><a href=\"#proveit.logic.boolean.implication.d9f046ab105fbe8c9a5071aa842dd02c9c6626250_step1\">1</a>, <a href=\"#proveit.logic.boolean.implication.d9f046ab105fbe8c9a5071aa842dd02c9c6626250_step2\">2</a>, <a href=\"#proveit.logic.boolean.implication.d9f046ab105fbe8c9a5071aa842dd02c9c6626250_step3\">3</a></td><td><span style=\"font-size:20px;\"><a class=\"ProveItLink\" href=\"../4c37ed36cebd491dae9622235a362e0d7947a4730/expr.ipynb\"><img src=\"../4c37ed36cebd491dae9622235a362e0d7947a4730/expr.png\" style=\"display:inline;vertical-align:middle;\" /></a> <a class=\"ProveItLink\" href=\"proof.ipynb\" style=\"text-decoration: none\">&#x22A2;&nbsp;</a><a class=\"ProveItLink\" href=\"../../../__pv_it/98d4bc94e268eb5bd1dd8957b0f9355a80140e9b0/expr.ipynb\"><img src=\"../../../__pv_it/98d4bc94e268eb5bd1dd8957b0f9355a80140e9b0/expr.png\" style=\"display:inline;vertical-align:middle;\" /></a></span></td></tr>\n",
       "<tr><td>&nbsp;</td><td colspan=4 style=\"text-align:left\"><span style=\"font-size:20px;\"><a class=\"ProveItLink\" href=\"../../../../../__pv_it/d3792d0d8642fdf1cd2a3a9b32c673ee13653de00/expr.ipynb\"><img src=\"../../../../../__pv_it/d3792d0d8642fdf1cd2a3a9b32c673ee13653de00/expr.png\" style=\"display:inline;vertical-align:middle;\" /></a> : <a class=\"ProveItLink\" href=\"../../../__pv_it/98d4bc94e268eb5bd1dd8957b0f9355a80140e9b0/expr.ipynb\"><img src=\"../../../__pv_it/98d4bc94e268eb5bd1dd8957b0f9355a80140e9b0/expr.png\" style=\"display:inline;vertical-align:middle;\" /></a></span></td></tr><tr><td><a name=\"proveit.logic.boolean.implication.d9f046ab105fbe8c9a5071aa842dd02c9c6626250_step1\">1</a></td><td>theorem</td><td></td><td><span style=\"font-size:20px;\"> <a class=\"ProveItLink\" href=\"../../_proofs_/affirmViaContradiction.ipynb\" style=\"text-decoration: none\">&#x22A2;&nbsp;</a><a class=\"ProveItLink\" href=\"../f7dcbac9565f2512e257fa7bc74a03faa348930d0/expr.ipynb\"><img src=\"../f7dcbac9565f2512e257fa7bc74a03faa348930d0/expr.png\" style=\"display:inline;vertical-align:middle;\" /></a></span></td></tr>\n",
       "<tr><td>&nbsp;</td><td colspan=4 style-\"text-align:left\"><a class=\"ProveItLink\" href=\"../../_proofs_/affirmViaContradiction.ipynb\">proveit.logic.boolean.implication.affirmViaContradiction</a></td></tr><tr><td><a name=\"proveit.logic.boolean.implication.d9f046ab105fbe8c9a5071aa842dd02c9c6626250_step2\">2</a></td><td>instantiation</td><td><a href=\"#proveit.logic.boolean.implication.d9f046ab105fbe8c9a5071aa842dd02c9c6626250_step4\">4</a>, <a href=\"#proveit.logic.boolean.implication.d9f046ab105fbe8c9a5071aa842dd02c9c6626250_step5\">5</a></td><td><span style=\"font-size:20px;\"><a class=\"ProveItLink\" href=\"../bd7c0c36d4893c1f3a0b239a721b4930fa6f33cb0/expr.ipynb\"><img src=\"../bd7c0c36d4893c1f3a0b239a721b4930fa6f33cb0/expr.png\" style=\"display:inline;vertical-align:middle;\" /></a> <a class=\"ProveItLink\" href=\"../8e0043b99bc1410539b7a9aa43e00907b9c1f9330/proof.ipynb\" style=\"text-decoration: none\">&#x22A2;&nbsp;</a><a class=\"ProveItLink\" href=\"../9603a4bba597c8d7cc733f5b318d6ccfa256e40f0/expr.ipynb\"><img src=\"../9603a4bba597c8d7cc733f5b318d6ccfa256e40f0/expr.png\" style=\"display:inline;vertical-align:middle;\" /></a></span></td></tr>\n",
       "<tr><td>&nbsp;</td><td colspan=4 style=\"text-align:left\"><span style=\"font-size:20px;\"><a class=\"ProveItLink\" href=\"../../../../../__pv_it/d3792d0d8642fdf1cd2a3a9b32c673ee13653de00/expr.ipynb\"><img src=\"../../../../../__pv_it/d3792d0d8642fdf1cd2a3a9b32c673ee13653de00/expr.png\" style=\"display:inline;vertical-align:middle;\" /></a> : <a class=\"ProveItLink\" href=\"../../../../../__pv_it/d3792d0d8642fdf1cd2a3a9b32c673ee13653de00/expr.ipynb\"><img src=\"../../../../../__pv_it/d3792d0d8642fdf1cd2a3a9b32c673ee13653de00/expr.png\" style=\"display:inline;vertical-align:middle;\" /></a></span></td></tr><tr><td><a name=\"proveit.logic.boolean.implication.d9f046ab105fbe8c9a5071aa842dd02c9c6626250_step3\">3</a></td><td>hypothetical reasoning</td><td><a href=\"#proveit.logic.boolean.implication.d9f046ab105fbe8c9a5071aa842dd02c9c6626250_step6\">6</a></td><td><span style=\"font-size:20px;\"><a class=\"ProveItLink\" href=\"../6ce2019213f32eada4718d51f869d370f798707a0/expr.ipynb\"><img src=\"../6ce2019213f32eada4718d51f869d370f798707a0/expr.png\" style=\"display:inline;vertical-align:middle;\" /></a> <a class=\"ProveItLink\" href=\"../1e5ea87e50c7f8d31b6569d781160c79748af1930/proof.ipynb\" style=\"text-decoration: none\">&#x22A2;&nbsp;</a><a class=\"ProveItLink\" href=\"../fa60b892786fa0d8ec6c679a15d03d66076709990/expr.ipynb\"><img src=\"../fa60b892786fa0d8ec6c679a15d03d66076709990/expr.png\" style=\"display:inline;vertical-align:middle;\" /></a></span></td></tr>\n",
       "<tr><td><a name=\"proveit.logic.boolean.implication.d9f046ab105fbe8c9a5071aa842dd02c9c6626250_step4\">4</a></td><td>theorem</td><td></td><td><span style=\"font-size:20px;\"> <a class=\"ProveItLink\" href=\"../../../negation/_proofs_/closure.ipynb\" style=\"text-decoration: none\">&#x22A2;&nbsp;</a><a class=\"ProveItLink\" href=\"../41219c6d98d45a7bf2491a73e103beab2d5b87480/expr.ipynb\"><img src=\"../41219c6d98d45a7bf2491a73e103beab2d5b87480/expr.png\" style=\"display:inline;vertical-align:middle;\" /></a></span></td></tr>\n",
       "<tr><td>&nbsp;</td><td colspan=4 style-\"text-align:left\"><a class=\"ProveItLink\" href=\"../../../negation/_proofs_/closure.ipynb\">proveit.logic.boolean.negation.closure</a></td></tr><tr><td><a name=\"proveit.logic.boolean.implication.d9f046ab105fbe8c9a5071aa842dd02c9c6626250_step5\">5</a></td><td>assumption</td><td></td><td><span style=\"font-size:20px;\"><a class=\"ProveItLink\" href=\"../bd7c0c36d4893c1f3a0b239a721b4930fa6f33cb0/expr.ipynb\"><img src=\"../bd7c0c36d4893c1f3a0b239a721b4930fa6f33cb0/expr.png\" style=\"display:inline;vertical-align:middle;\" /></a> <a class=\"ProveItLink\" href=\"../0340c064c83c6205f84cc244ce9c47bf225a315f0/proof.ipynb\" style=\"text-decoration: none\">&#x22A2;&nbsp;</a><a class=\"ProveItLink\" href=\"../8776f6509d0e01db99c8c290ab1853b3db3d048c0/expr.ipynb\"><img src=\"../8776f6509d0e01db99c8c290ab1853b3db3d048c0/expr.png\" style=\"display:inline;vertical-align:middle;\" /></a></span></td></tr>\n",
       "<tr><td><a name=\"proveit.logic.boolean.implication.d9f046ab105fbe8c9a5071aa842dd02c9c6626250_step6\">6</a></td><td>modus ponens</td><td><a href=\"#proveit.logic.boolean.implication.d9f046ab105fbe8c9a5071aa842dd02c9c6626250_step7\">7</a>, <a href=\"#proveit.logic.boolean.implication.d9f046ab105fbe8c9a5071aa842dd02c9c6626250_step8\">8</a></td><td><span style=\"font-size:20px;\"><a class=\"ProveItLink\" href=\"../516bcf1c687a419c4d0ab7c297bf893198a1c0900/expr.ipynb\"><img src=\"../516bcf1c687a419c4d0ab7c297bf893198a1c0900/expr.png\" style=\"display:inline;vertical-align:middle;\" /></a> <a class=\"ProveItLink\" href=\"../e7d45d0fd3fe9b9397ef1890713d0f861bfb36370/proof.ipynb\" style=\"text-decoration: none\">&#x22A2;&nbsp;</a><a class=\"ProveItLink\" href=\"../../../__pv_it/83a1ddf0f64531c80e7f41ea6b904214668818b30/expr.ipynb\"><img src=\"../../../__pv_it/83a1ddf0f64531c80e7f41ea6b904214668818b30/expr.png\" style=\"display:inline;vertical-align:middle;\" /></a></span></td></tr>\n",
       "<tr><td><a name=\"proveit.logic.boolean.implication.d9f046ab105fbe8c9a5071aa842dd02c9c6626250_step7\">7</a></td><td>assumption</td><td></td><td><span style=\"font-size:20px;\"><a class=\"ProveItLink\" href=\"../6ce2019213f32eada4718d51f869d370f798707a0/expr.ipynb\"><img src=\"../6ce2019213f32eada4718d51f869d370f798707a0/expr.png\" style=\"display:inline;vertical-align:middle;\" /></a> <a class=\"ProveItLink\" href=\"../77a075c7eb8297253964562adb78d95ee3caf3740/proof.ipynb\" style=\"text-decoration: none\">&#x22A2;&nbsp;</a><a class=\"ProveItLink\" href=\"../../../__pv_it/36952596d9a898d0a096610788de449cac3139080/expr.ipynb\"><img src=\"../../../__pv_it/36952596d9a898d0a096610788de449cac3139080/expr.png\" style=\"display:inline;vertical-align:middle;\" /></a></span></td></tr>\n",
       "<tr><td><a name=\"proveit.logic.boolean.implication.d9f046ab105fbe8c9a5071aa842dd02c9c6626250_step8\">8</a></td><td>instantiation</td><td><a href=\"#proveit.logic.boolean.implication.d9f046ab105fbe8c9a5071aa842dd02c9c6626250_step9\">9</a>, <a href=\"#proveit.logic.boolean.implication.d9f046ab105fbe8c9a5071aa842dd02c9c6626250_step10\">10</a></td><td><span style=\"font-size:20px;\"><a class=\"ProveItLink\" href=\"../afe9f2663b3ab4f23c17799095d3b3090fee51780/expr.ipynb\"><img src=\"../afe9f2663b3ab4f23c17799095d3b3090fee51780/expr.png\" style=\"display:inline;vertical-align:middle;\" /></a> <a class=\"ProveItLink\" href=\"../a8d23491c7779fdd2905bc1d8c0ab9b39e7acd4b0/proof.ipynb\" style=\"text-decoration: none\">&#x22A2;&nbsp;</a><a class=\"ProveItLink\" href=\"../../../../../__pv_it/d3792d0d8642fdf1cd2a3a9b32c673ee13653de00/expr.ipynb\"><img src=\"../../../../../__pv_it/d3792d0d8642fdf1cd2a3a9b32c673ee13653de00/expr.png\" style=\"display:inline;vertical-align:middle;\" /></a></span></td></tr>\n",
       "<tr><td>&nbsp;</td><td colspan=4 style=\"text-align:left\"><span style=\"font-size:20px;\"><a class=\"ProveItLink\" href=\"../../../../../__pv_it/d3792d0d8642fdf1cd2a3a9b32c673ee13653de00/expr.ipynb\"><img src=\"../../../../../__pv_it/d3792d0d8642fdf1cd2a3a9b32c673ee13653de00/expr.png\" style=\"display:inline;vertical-align:middle;\" /></a> : <a class=\"ProveItLink\" href=\"../../../../../__pv_it/d3792d0d8642fdf1cd2a3a9b32c673ee13653de00/expr.ipynb\"><img src=\"../../../../../__pv_it/d3792d0d8642fdf1cd2a3a9b32c673ee13653de00/expr.png\" style=\"display:inline;vertical-align:middle;\" /></a></span></td></tr><tr><td><a name=\"proveit.logic.boolean.implication.d9f046ab105fbe8c9a5071aa842dd02c9c6626250_step9\">9</a></td><td>axiom</td><td></td><td><span style=\"font-size:20px;\"> <a class=\"ProveItLink\" href=\"../../../negation/_axioms_.ipynb#doubleNegationElim\" style=\"text-decoration: none\">&#x22A2;&nbsp;</a><a class=\"ProveItLink\" href=\"../f50602173a2791e6a2c6f92c720069f5b0ad2b850/expr.ipynb\"><img src=\"../f50602173a2791e6a2c6f92c720069f5b0ad2b850/expr.png\" style=\"display:inline;vertical-align:middle;\" /></a></span></td></tr>\n",
       "<tr><td>&nbsp;</td><td colspan=4 style-\"text-align:left\"><a class=\"ProveItLink\" href=\"../../../negation/_axioms_.ipynb#doubleNegationElim\">proveit.logic.boolean.negation.doubleNegationElim</a></td></tr><tr><td><a name=\"proveit.logic.boolean.implication.d9f046ab105fbe8c9a5071aa842dd02c9c6626250_step10\">10</a></td><td>assumption</td><td></td><td><span style=\"font-size:20px;\"><a class=\"ProveItLink\" href=\"../afe9f2663b3ab4f23c17799095d3b3090fee51780/expr.ipynb\"><img src=\"../afe9f2663b3ab4f23c17799095d3b3090fee51780/expr.png\" style=\"display:inline;vertical-align:middle;\" /></a> <a class=\"ProveItLink\" href=\"../9409b3c14caa339f73332c8039a084e194de0c510/proof.ipynb\" style=\"text-decoration: none\">&#x22A2;&nbsp;</a><a class=\"ProveItLink\" href=\"../../../__pv_it/12f099f08ba58677da9cfcd6cc882029fdbfab2e0/expr.ipynb\"><img src=\"../../../__pv_it/12f099f08ba58677da9cfcd6cc882029fdbfab2e0/expr.png\" style=\"display:inline;vertical-align:middle;\" /></a></span></td></tr>\n",
       "</table>"
      ],
      "text/plain": [
       "<proveit._core_.proof._ShowProof at 0x7f5b8cc8e2b0>"
      ]
     },
     "execution_count": 1,
     "metadata": {},
     "output_type": "execute_result"
    }
   ],
   "source": [
    "import proveit\n",
    "# Automation is not needed when only showing a stored proof:\n",
    "proveit.defaults.automation = False # This will speed things up.\n",
    "proveit.defaults.inline_pngs = False # Makes files smaller.\n",
    "%show_proof"
   ]
  },
  {
   "cell_type": "code",
   "execution_count": null,
   "metadata": {},
   "outputs": [],
   "source": []
  }
 ],
 "metadata": {
  "kernelspec": {
   "display_name": "Python 3",
   "language": "python",
   "name": "python3"
  },
  "language_info": {
   "codemirror_mode": {
    "name": "ipython",
    "version": 3
   },
   "file_extension": ".py",
   "mimetype": "text/x-python",
   "name": "python",
   "nbconvert_exporter": "python",
   "pygments_lexer": "ipython3",
   "version": "3.7.3"
  }
 },
 "nbformat": 4,
 "nbformat_minor": 1
}
