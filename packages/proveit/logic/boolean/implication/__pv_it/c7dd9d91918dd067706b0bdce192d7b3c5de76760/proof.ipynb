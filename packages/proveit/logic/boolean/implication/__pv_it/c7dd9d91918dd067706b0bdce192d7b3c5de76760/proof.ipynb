{
 "cells": [
  {
   "cell_type": "markdown",
   "metadata": {},
   "source": [
    "Show the Proof\n",
    "========"
   ]
  },
  {
   "cell_type": "code",
   "execution_count": 1,
   "metadata": {},
   "outputs": [
    {
     "data": {
      "text/html": [
       "<table><tr><th>&nbsp;</th><th>step type</th><th>requirements</th><th>statement</th></tr>\n",
       "<tr><td><a name=\"proveit.logic.boolean.implication.c7dd9d91918dd067706b0bdce192d7b3c5de76760_step0\">0</a></td><td>generalizaton</td><td><a href=\"#proveit.logic.boolean.implication.c7dd9d91918dd067706b0bdce192d7b3c5de76760_step1\">1</a></td><td><span style=\"font-size:20px;\"> <a class=\"ProveItLink\" href=\"proof.ipynb\" style=\"text-decoration: none\">&#x22A2;&nbsp;</a><a class=\"ProveItLink\" href=\"../e6dae4517c4a00fe471e08a14b59a6b8b027f8d10/expr.ipynb\"><img src=\"../e6dae4517c4a00fe471e08a14b59a6b8b027f8d10/expr.png\" style=\"display:inline;vertical-align:middle;\" /></a></span></td></tr>\n",
       "<tr><td><a name=\"proveit.logic.boolean.implication.c7dd9d91918dd067706b0bdce192d7b3c5de76760_step1\">1</a></td><td>instantiation</td><td><a href=\"#proveit.logic.boolean.implication.c7dd9d91918dd067706b0bdce192d7b3c5de76760_step2\">2</a>, <a href=\"#proveit.logic.boolean.implication.c7dd9d91918dd067706b0bdce192d7b3c5de76760_step3\">3</a></td><td><span style=\"font-size:20px;\"><a class=\"ProveItLink\" href=\"../6ce2019213f32eada4718d51f869d370f798707a0/expr.ipynb\"><img src=\"../6ce2019213f32eada4718d51f869d370f798707a0/expr.png\" style=\"display:inline;vertical-align:middle;\" /></a> <a class=\"ProveItLink\" href=\"../cd7339263c4d579ec5da24235b1d7b58e9e849660/proof.ipynb\" style=\"text-decoration: none\">&#x22A2;&nbsp;</a><a class=\"ProveItLink\" href=\"../33bc293ec83d263a75c2ca581afedc9379de7de20/expr.ipynb\"><img src=\"../33bc293ec83d263a75c2ca581afedc9379de7de20/expr.png\" style=\"display:inline;vertical-align:middle;\" /></a></span></td></tr>\n",
       "<tr><td>&nbsp;</td><td colspan=4 style=\"text-align:left\"><span style=\"font-size:20px;\"><a class=\"ProveItLink\" href=\"../../../../../__pv_it/72df168d2bfb4e0140af90912ebf83b13772060b0/expr.ipynb\"><img src=\"../../../../../__pv_it/72df168d2bfb4e0140af90912ebf83b13772060b0/expr.png\" style=\"display:inline;vertical-align:middle;\" /></a> : <a class=\"ProveItLink\" href=\"../../../../../__pv_it/d3792d0d8642fdf1cd2a3a9b32c673ee13653de00/expr.ipynb\"><img src=\"../../../../../__pv_it/d3792d0d8642fdf1cd2a3a9b32c673ee13653de00/expr.png\" style=\"display:inline;vertical-align:middle;\" /></a>, <a class=\"ProveItLink\" href=\"../../../../../__pv_it/c6e291955561f22a0e6708fd793ea93f1c7dbb5d0/expr.ipynb\"><img src=\"../../../../../__pv_it/c6e291955561f22a0e6708fd793ea93f1c7dbb5d0/expr.png\" style=\"display:inline;vertical-align:middle;\" /></a> : <a class=\"ProveItLink\" href=\"../../../__pv_it/b5b8ce0f03ab68a7c7bb937dfeb4112a686e3cbb0/expr.ipynb\"><img src=\"../../../__pv_it/b5b8ce0f03ab68a7c7bb937dfeb4112a686e3cbb0/expr.png\" style=\"display:inline;vertical-align:middle;\" /></a></span></td></tr><tr><td><a name=\"proveit.logic.boolean.implication.c7dd9d91918dd067706b0bdce192d7b3c5de76760_step2\">2</a></td><td>theorem</td><td></td><td><span style=\"font-size:20px;\"> <a class=\"ProveItLink\" href=\"../../../../equality/_proofs_/foldNotEquals.ipynb\" style=\"text-decoration: none\">&#x22A2;&nbsp;</a><a class=\"ProveItLink\" href=\"../d6b40351cde7c3bae6c7152a6ad8025416a7e05b0/expr.ipynb\"><img src=\"../d6b40351cde7c3bae6c7152a6ad8025416a7e05b0/expr.png\" style=\"display:inline;vertical-align:middle;\" /></a></span></td></tr>\n",
       "<tr><td>&nbsp;</td><td colspan=4 style-\"text-align:left\"><a class=\"ProveItLink\" href=\"../../../../equality/_proofs_/foldNotEquals.ipynb\">proveit.logic.equality.foldNotEquals</a></td></tr><tr><td><a name=\"proveit.logic.boolean.implication.c7dd9d91918dd067706b0bdce192d7b3c5de76760_step3\">3</a></td><td>instantiation</td><td><a href=\"#proveit.logic.boolean.implication.c7dd9d91918dd067706b0bdce192d7b3c5de76760_step4\">4</a>, <a href=\"#proveit.logic.boolean.implication.c7dd9d91918dd067706b0bdce192d7b3c5de76760_step5\">5</a>, <a href=\"#proveit.logic.boolean.implication.c7dd9d91918dd067706b0bdce192d7b3c5de76760_step6\">6</a></td><td><span style=\"font-size:20px;\"><a class=\"ProveItLink\" href=\"../6ce2019213f32eada4718d51f869d370f798707a0/expr.ipynb\"><img src=\"../6ce2019213f32eada4718d51f869d370f798707a0/expr.png\" style=\"display:inline;vertical-align:middle;\" /></a> <a class=\"ProveItLink\" href=\"../8ca5e752464d18d653ecee0119d39deb8d18576f0/proof.ipynb\" style=\"text-decoration: none\">&#x22A2;&nbsp;</a><a class=\"ProveItLink\" href=\"../5ce0b28660b656a9697062bc5fea9dbcf20886ce0/expr.ipynb\"><img src=\"../5ce0b28660b656a9697062bc5fea9dbcf20886ce0/expr.png\" style=\"display:inline;vertical-align:middle;\" /></a></span></td></tr>\n",
       "<tr><td>&nbsp;</td><td colspan=4 style=\"text-align:left\"><span style=\"font-size:20px;\"><a class=\"ProveItLink\" href=\"../../../../../__pv_it/d3792d0d8642fdf1cd2a3a9b32c673ee13653de00/expr.ipynb\"><img src=\"../../../../../__pv_it/d3792d0d8642fdf1cd2a3a9b32c673ee13653de00/expr.png\" style=\"display:inline;vertical-align:middle;\" /></a> : <a class=\"ProveItLink\" href=\"../../../__pv_it/c84b54bbfaad4bce47785b36ea07aa7ea7fc86900/expr.ipynb\"><img src=\"../../../__pv_it/c84b54bbfaad4bce47785b36ea07aa7ea7fc86900/expr.png\" style=\"display:inline;vertical-align:middle;\" /></a></span></td></tr><tr><td><a name=\"proveit.logic.boolean.implication.c7dd9d91918dd067706b0bdce192d7b3c5de76760_step4\">4</a></td><td>theorem</td><td></td><td><span style=\"font-size:20px;\"> <a class=\"ProveItLink\" href=\"../../_proofs_/denyViaContradiction.ipynb\" style=\"text-decoration: none\">&#x22A2;&nbsp;</a><a class=\"ProveItLink\" href=\"../3842593a188eb6c15834bff05b3aae451774541c0/expr.ipynb\"><img src=\"../3842593a188eb6c15834bff05b3aae451774541c0/expr.png\" style=\"display:inline;vertical-align:middle;\" /></a></span></td></tr>\n",
       "<tr><td>&nbsp;</td><td colspan=4 style-\"text-align:left\"><a class=\"ProveItLink\" href=\"../../_proofs_/denyViaContradiction.ipynb\">proveit.logic.boolean.implication.denyViaContradiction</a></td></tr><tr><td><a name=\"proveit.logic.boolean.implication.c7dd9d91918dd067706b0bdce192d7b3c5de76760_step5\">5</a></td><td>instantiation</td><td><a href=\"#proveit.logic.boolean.implication.c7dd9d91918dd067706b0bdce192d7b3c5de76760_step7\">7</a></td><td><span style=\"font-size:20px;\"> <a class=\"ProveItLink\" href=\"../dc8a3666a661ee4abda82d7eaff5d71078354cf20/proof.ipynb\" style=\"text-decoration: none\">&#x22A2;&nbsp;</a><a class=\"ProveItLink\" href=\"../b4edc665d3b1ef20502eaaddbf9d0d6b7f8b9d120/expr.ipynb\"><img src=\"../b4edc665d3b1ef20502eaaddbf9d0d6b7f8b9d120/expr.png\" style=\"display:inline;vertical-align:middle;\" /></a></span></td></tr>\n",
       "<tr><td>&nbsp;</td><td colspan=4 style=\"text-align:left\"><span style=\"font-size:20px;\"><a class=\"ProveItLink\" href=\"../../../../../__pv_it/72df168d2bfb4e0140af90912ebf83b13772060b0/expr.ipynb\"><img src=\"../../../../../__pv_it/72df168d2bfb4e0140af90912ebf83b13772060b0/expr.png\" style=\"display:inline;vertical-align:middle;\" /></a> : <a class=\"ProveItLink\" href=\"../../../../../__pv_it/d3792d0d8642fdf1cd2a3a9b32c673ee13653de00/expr.ipynb\"><img src=\"../../../../../__pv_it/d3792d0d8642fdf1cd2a3a9b32c673ee13653de00/expr.png\" style=\"display:inline;vertical-align:middle;\" /></a>, <a class=\"ProveItLink\" href=\"../../../../../__pv_it/c6e291955561f22a0e6708fd793ea93f1c7dbb5d0/expr.ipynb\"><img src=\"../../../../../__pv_it/c6e291955561f22a0e6708fd793ea93f1c7dbb5d0/expr.png\" style=\"display:inline;vertical-align:middle;\" /></a> : <a class=\"ProveItLink\" href=\"../../../__pv_it/b5b8ce0f03ab68a7c7bb937dfeb4112a686e3cbb0/expr.ipynb\"><img src=\"../../../__pv_it/b5b8ce0f03ab68a7c7bb937dfeb4112a686e3cbb0/expr.png\" style=\"display:inline;vertical-align:middle;\" /></a></span></td></tr><tr><td><a name=\"proveit.logic.boolean.implication.c7dd9d91918dd067706b0bdce192d7b3c5de76760_step6\">6</a></td><td>hypothetical reasoning</td><td><a href=\"#proveit.logic.boolean.implication.c7dd9d91918dd067706b0bdce192d7b3c5de76760_step8\">8</a></td><td><span style=\"font-size:20px;\"><a class=\"ProveItLink\" href=\"../6ce2019213f32eada4718d51f869d370f798707a0/expr.ipynb\"><img src=\"../6ce2019213f32eada4718d51f869d370f798707a0/expr.png\" style=\"display:inline;vertical-align:middle;\" /></a> <a class=\"ProveItLink\" href=\"../079a459ab4774649ea931d5cf8153ac5ef1cefcd0/proof.ipynb\" style=\"text-decoration: none\">&#x22A2;&nbsp;</a><a class=\"ProveItLink\" href=\"../17939dd36f5305025c857d4ec39877d2c662d7ee0/expr.ipynb\"><img src=\"../17939dd36f5305025c857d4ec39877d2c662d7ee0/expr.png\" style=\"display:inline;vertical-align:middle;\" /></a></span></td></tr>\n",
       "<tr><td><a name=\"proveit.logic.boolean.implication.c7dd9d91918dd067706b0bdce192d7b3c5de76760_step7\">7</a></td><td>axiom</td><td></td><td><span style=\"font-size:20px;\"> <a class=\"ProveItLink\" href=\"../../../../equality/_axioms_.ipynb#equalityInBool\" style=\"text-decoration: none\">&#x22A2;&nbsp;</a><a class=\"ProveItLink\" href=\"../730853fd09e641ffaf015489e801f49a257cf5a30/expr.ipynb\"><img src=\"../730853fd09e641ffaf015489e801f49a257cf5a30/expr.png\" style=\"display:inline;vertical-align:middle;\" /></a></span></td></tr>\n",
       "<tr><td>&nbsp;</td><td colspan=4 style-\"text-align:left\"><a class=\"ProveItLink\" href=\"../../../../equality/_axioms_.ipynb#equalityInBool\">proveit.logic.equality.equalityInBool</a></td></tr><tr><td><a name=\"proveit.logic.boolean.implication.c7dd9d91918dd067706b0bdce192d7b3c5de76760_step8\">8</a></td><td>modus ponens</td><td><a href=\"#proveit.logic.boolean.implication.c7dd9d91918dd067706b0bdce192d7b3c5de76760_step9\">9</a>, <a href=\"#proveit.logic.boolean.implication.c7dd9d91918dd067706b0bdce192d7b3c5de76760_step10\">10</a></td><td><span style=\"font-size:20px;\"><a class=\"ProveItLink\" href=\"../a2e66aad340f4ff80b897cb950c39c299f79da590/expr.ipynb\"><img src=\"../a2e66aad340f4ff80b897cb950c39c299f79da590/expr.png\" style=\"display:inline;vertical-align:middle;\" /></a> <a class=\"ProveItLink\" href=\"../e2ca1e38bdbc2ade04c3f9dc9ed6f88049f0ae1b0/proof.ipynb\" style=\"text-decoration: none\">&#x22A2;&nbsp;</a><a class=\"ProveItLink\" href=\"../../../__pv_it/83a1ddf0f64531c80e7f41ea6b904214668818b30/expr.ipynb\"><img src=\"../../../__pv_it/83a1ddf0f64531c80e7f41ea6b904214668818b30/expr.png\" style=\"display:inline;vertical-align:middle;\" /></a></span></td></tr>\n",
       "<tr><td><a name=\"proveit.logic.boolean.implication.c7dd9d91918dd067706b0bdce192d7b3c5de76760_step9\">9</a></td><td>assumption</td><td></td><td><span style=\"font-size:20px;\"><a class=\"ProveItLink\" href=\"../6ce2019213f32eada4718d51f869d370f798707a0/expr.ipynb\"><img src=\"../6ce2019213f32eada4718d51f869d370f798707a0/expr.png\" style=\"display:inline;vertical-align:middle;\" /></a> <a class=\"ProveItLink\" href=\"../77a075c7eb8297253964562adb78d95ee3caf3740/proof.ipynb\" style=\"text-decoration: none\">&#x22A2;&nbsp;</a><a class=\"ProveItLink\" href=\"../../../__pv_it/36952596d9a898d0a096610788de449cac3139080/expr.ipynb\"><img src=\"../../../__pv_it/36952596d9a898d0a096610788de449cac3139080/expr.png\" style=\"display:inline;vertical-align:middle;\" /></a></span></td></tr>\n",
       "<tr><td><a name=\"proveit.logic.boolean.implication.c7dd9d91918dd067706b0bdce192d7b3c5de76760_step10\">10</a></td><td>instantiation</td><td><a href=\"#proveit.logic.boolean.implication.c7dd9d91918dd067706b0bdce192d7b3c5de76760_step11\">11</a>, <a href=\"#proveit.logic.boolean.implication.c7dd9d91918dd067706b0bdce192d7b3c5de76760_step12\">12</a></td><td><span style=\"font-size:20px;\"><a class=\"ProveItLink\" href=\"../1dd4ca61ddc44a51edbf47f5bd039b1939d1acd00/expr.ipynb\"><img src=\"../1dd4ca61ddc44a51edbf47f5bd039b1939d1acd00/expr.png\" style=\"display:inline;vertical-align:middle;\" /></a> <a class=\"ProveItLink\" href=\"../29d194423ee904a6691d8c9f0aca175b47b1bbe30/proof.ipynb\" style=\"text-decoration: none\">&#x22A2;&nbsp;</a><a class=\"ProveItLink\" href=\"../../../../../__pv_it/d3792d0d8642fdf1cd2a3a9b32c673ee13653de00/expr.ipynb\"><img src=\"../../../../../__pv_it/d3792d0d8642fdf1cd2a3a9b32c673ee13653de00/expr.png\" style=\"display:inline;vertical-align:middle;\" /></a></span></td></tr>\n",
       "<tr><td>&nbsp;</td><td colspan=4 style=\"text-align:left\"><span style=\"font-size:20px;\"><a class=\"ProveItLink\" href=\"../../../../../__pv_it/d3792d0d8642fdf1cd2a3a9b32c673ee13653de00/expr.ipynb\"><img src=\"../../../../../__pv_it/d3792d0d8642fdf1cd2a3a9b32c673ee13653de00/expr.png\" style=\"display:inline;vertical-align:middle;\" /></a> : <a class=\"ProveItLink\" href=\"../../../../../__pv_it/d3792d0d8642fdf1cd2a3a9b32c673ee13653de00/expr.ipynb\"><img src=\"../../../../../__pv_it/d3792d0d8642fdf1cd2a3a9b32c673ee13653de00/expr.png\" style=\"display:inline;vertical-align:middle;\" /></a></span></td></tr><tr><td><a name=\"proveit.logic.boolean.implication.c7dd9d91918dd067706b0bdce192d7b3c5de76760_step11\">11</a></td><td>axiom</td><td></td><td><span style=\"font-size:20px;\"> <a class=\"ProveItLink\" href=\"../../../_axioms_.ipynb#eqTrueElim\" style=\"text-decoration: none\">&#x22A2;&nbsp;</a><a class=\"ProveItLink\" href=\"../3f4a98637554902bc98d15802d3beaf2ae9a28b60/expr.ipynb\"><img src=\"../3f4a98637554902bc98d15802d3beaf2ae9a28b60/expr.png\" style=\"display:inline;vertical-align:middle;\" /></a></span></td></tr>\n",
       "<tr><td>&nbsp;</td><td colspan=4 style-\"text-align:left\"><a class=\"ProveItLink\" href=\"../../../_axioms_.ipynb#eqTrueElim\">proveit.logic.boolean.eqTrueElim</a></td></tr><tr><td><a name=\"proveit.logic.boolean.implication.c7dd9d91918dd067706b0bdce192d7b3c5de76760_step12\">12</a></td><td>assumption</td><td></td><td><span style=\"font-size:20px;\"><a class=\"ProveItLink\" href=\"../1dd4ca61ddc44a51edbf47f5bd039b1939d1acd00/expr.ipynb\"><img src=\"../1dd4ca61ddc44a51edbf47f5bd039b1939d1acd00/expr.png\" style=\"display:inline;vertical-align:middle;\" /></a> <a class=\"ProveItLink\" href=\"../e9b08f2adc310271432936e2c85b24494ed995910/proof.ipynb\" style=\"text-decoration: none\">&#x22A2;&nbsp;</a><a class=\"ProveItLink\" href=\"../../../__pv_it/c84b54bbfaad4bce47785b36ea07aa7ea7fc86900/expr.ipynb\"><img src=\"../../../__pv_it/c84b54bbfaad4bce47785b36ea07aa7ea7fc86900/expr.png\" style=\"display:inline;vertical-align:middle;\" /></a></span></td></tr>\n",
       "</table>"
      ],
      "text/plain": [
       "<proveit._core_.proof._ShowProof at 0x7f5b9a332b70>"
      ]
     },
     "execution_count": 1,
     "metadata": {},
     "output_type": "execute_result"
    }
   ],
   "source": [
    "import proveit\n",
    "# Automation is not needed when only showing a stored proof:\n",
    "proveit.defaults.automation = False # This will speed things up.\n",
    "proveit.defaults.inline_pngs = False # Makes files smaller.\n",
    "%show_proof"
   ]
  },
  {
   "cell_type": "code",
   "execution_count": null,
   "metadata": {},
   "outputs": [],
   "source": []
  }
 ],
 "metadata": {
  "kernelspec": {
   "display_name": "Python 3",
   "language": "python",
   "name": "python3"
  },
  "language_info": {
   "codemirror_mode": {
    "name": "ipython",
    "version": 3
   },
   "file_extension": ".py",
   "mimetype": "text/x-python",
   "name": "python",
   "nbconvert_exporter": "python",
   "pygments_lexer": "ipython3",
   "version": "3.7.3"
  }
 },
 "nbformat": 4,
 "nbformat_minor": 1
}
