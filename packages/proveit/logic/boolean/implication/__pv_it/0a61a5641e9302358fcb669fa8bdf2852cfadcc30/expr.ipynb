{
 "cells": [
  {
   "cell_type": "markdown",
   "metadata": {},
   "source": [
    "Expression of type <a class=\"ProveItLink\" href=\"../../../../../../../doc/html/api/proveit.logic.Implies.html\">Implies</a>\n",
    "=======================\n",
    "# from context <a class=\"ProveItLink\" href=\"../../_context_.ipynb\">proveit.logic.boolean.implication</a>"
   ]
  },
  {
   "cell_type": "code",
   "execution_count": 1,
   "metadata": {},
   "outputs": [],
   "source": [
    "import proveit\n",
    "# Automation is not needed when building an expression:\n",
    "proveit.defaults.automation = False # This will speed things up.\n",
    "proveit.defaults.inline_pngs = False # Makes files smaller.\n",
    "# import Expression classes needed to build the expression\n",
    "from proveit._common_ import A, B\n",
    "from proveit.logic import Booleans, Forall, Implies, InSet\n",
    "from proveit.logic.boolean.implication._theorems_ import implicationClosure"
   ]
  },
  {
   "cell_type": "code",
   "execution_count": 2,
   "metadata": {},
   "outputs": [
    {
     "data": {
      "text/html": [
       "<strong id=\"expr\">expr:</strong> <a class=\"ProveItLink\" href=\"expr.ipynb\"><img src=\"expr.png\" style=\"display:inline;vertical-align:middle;\" /></a><br>"
      ],
      "text/plain": [
       "expr: [forall_{A in BOOLEANS} [forall_{B in BOOLEANS} ((A => B) in BOOLEANS)]] \\\\  => [forall_{A in BOOLEANS, B in BOOLEANS} ((A => B) in BOOLEANS)]"
      ]
     },
     "execution_count": 2,
     "metadata": {},
     "output_type": "execute_result"
    }
   ],
   "source": [
    "# build up the expression from sub-expressions\n",
    "expr = Implies(Forall([A], Forall([B], InSet(Implies(A, B), Booleans), domain = Booleans), domain = Booleans), implicationClosure.expr).withWrappingAt(1)"
   ]
  },
  {
   "cell_type": "code",
   "execution_count": 3,
   "metadata": {},
   "outputs": [
    {
     "name": "stdout",
     "output_type": "stream",
     "text": [
      "Passed sanity check: built 'expr' is the same as the stored Expression.\n"
     ]
    }
   ],
   "source": [
    "# check that the built expression is the same as the stored expression\n",
    "%check_expr"
   ]
  },
  {
   "cell_type": "code",
   "execution_count": 4,
   "metadata": {},
   "outputs": [
    {
     "name": "stdout",
     "output_type": "stream",
     "text": [
      "\\begin{array}{c} \\left[\\forall_{A \\in \\mathbb{B}}~\\left[\\forall_{B \\in \\mathbb{B}}~\\left(\\left(A \\Rightarrow B\\right) \\in \\mathbb{B}\\right)\\right]\\right] \\\\  \\Rightarrow \\left[\\forall_{A \\in \\mathbb{B}, B \\in \\mathbb{B}}~\\left(\\left(A \\Rightarrow B\\right) \\in \\mathbb{B}\\right)\\right] \\end{array}\n"
     ]
    }
   ],
   "source": [
    "# Show the LaTeX representation of the expression for convenience if you need it.\n",
    "print(expr.latex())"
   ]
  },
  {
   "cell_type": "code",
   "execution_count": 5,
   "metadata": {},
   "outputs": [
    {
     "data": {
      "text/html": [
       "<table><tr><th>&nbsp;</th><th>core type</th><th>sub-expressions</th><th>expression</th></tr>\n",
       "<tr><td>0</td><td>Operation</td><td>operator:&nbsp;24<br>operands:&nbsp;1<br></td><td><a class=\"ProveItLink\" href=\"expr.ipynb\"><img src=\"expr.png\" style=\"display:inline;vertical-align:middle;\" /></a></td></tr>\n",
       "<tr><td>1</td><td>ExprTuple</td><td>2, 3</td><td><a class=\"ProveItLink\" href=\"../e171b0440b60b5a968e2ec339f03bee667d4e4d50/expr.ipynb\"><img src=\"../e171b0440b60b5a968e2ec339f03bee667d4e4d50/expr.png\" style=\"display:inline;vertical-align:middle;\" /></a></td></tr>\n",
       "<tr><td>2</td><td>Operation</td><td>operator:&nbsp;10<br>operand:&nbsp;4<br></td><td><a class=\"ProveItLink\" href=\"../b41700f6e86f05e427a4caa9c2433717fe197adc0/expr.ipynb\"><img src=\"../b41700f6e86f05e427a4caa9c2433717fe197adc0/expr.png\" style=\"display:inline;vertical-align:middle;\" /></a></td></tr>\n",
       "<tr><td>3</td><td>Operation</td><td>operator:&nbsp;10<br>operand:&nbsp;5<br></td><td><a class=\"ProveItLink\" href=\"../27637bf8d4d3e0baa1956e522fb75235633492100/expr.ipynb\"><img src=\"../27637bf8d4d3e0baa1956e522fb75235633492100/expr.png\" style=\"display:inline;vertical-align:middle;\" /></a></td></tr>\n",
       "<tr><td>4</td><td>Lambda</td><td>parameter:&nbsp;26<br>body:&nbsp;6<br></td><td><a class=\"ProveItLink\" href=\"../7d7e8faf0dd063eeead810e3788bd788b2ad00fe0/expr.ipynb\"><img src=\"../7d7e8faf0dd063eeead810e3788bd788b2ad00fe0/expr.png\" style=\"display:inline;vertical-align:middle;\" /></a></td></tr>\n",
       "<tr><td>5</td><td>Lambda</td><td>parameters:&nbsp;25<br>body:&nbsp;7<br></td><td><a class=\"ProveItLink\" href=\"../2f2ef5784c2973b4e4e94ca67d4f23071c2ea3500/expr.ipynb\"><img src=\"../2f2ef5784c2973b4e4e94ca67d4f23071c2ea3500/expr.png\" style=\"display:inline;vertical-align:middle;\" /></a></td></tr>\n",
       "<tr><td>6</td><td>Conditional</td><td>value:&nbsp;8<br>condition:&nbsp;15<br></td><td><a class=\"ProveItLink\" href=\"../2e0c2b89b4e82ced777018cdfdddd96c54b5b8bd0/expr.ipynb\"><img src=\"../2e0c2b89b4e82ced777018cdfdddd96c54b5b8bd0/expr.png\" style=\"display:inline;vertical-align:middle;\" /></a></td></tr>\n",
       "<tr><td>7</td><td>Conditional</td><td>value:&nbsp;16<br>condition:&nbsp;9<br></td><td><a class=\"ProveItLink\" href=\"../0d1c456318c1bdea7ea86bdf7035086af4682a1e0/expr.ipynb\"><img src=\"../0d1c456318c1bdea7ea86bdf7035086af4682a1e0/expr.png\" style=\"display:inline;vertical-align:middle;\" /></a></td></tr>\n",
       "<tr><td>8</td><td>Operation</td><td>operator:&nbsp;10<br>operand:&nbsp;11<br></td><td><a class=\"ProveItLink\" href=\"../bb541c799be96ddabad7a0e34d67f609c9b1c09a0/expr.ipynb\"><img src=\"../bb541c799be96ddabad7a0e34d67f609c9b1c09a0/expr.png\" style=\"display:inline;vertical-align:middle;\" /></a></td></tr>\n",
       "<tr><td>9</td><td>Operation</td><td>operator:&nbsp;12<br>operands:&nbsp;13<br></td><td><a class=\"ProveItLink\" href=\"../4862c3af65dca17664eeb310557d9dc3f0ce2fc90/expr.ipynb\"><img src=\"../4862c3af65dca17664eeb310557d9dc3f0ce2fc90/expr.png\" style=\"display:inline;vertical-align:middle;\" /></a></td></tr>\n",
       "<tr><td>10</td><td>Literal</td><td></td><td><a class=\"ProveItLink\" href=\"../../../quantification/universal/__pv_it/fd9c772d6675566ed52a6897806f45eb08a4ea910/expr.ipynb\"><img src=\"../../../quantification/universal/__pv_it/fd9c772d6675566ed52a6897806f45eb08a4ea910/expr.png\" style=\"display:inline;vertical-align:middle;\" /></a></td></tr>\n",
       "<tr><td>11</td><td>Lambda</td><td>parameter:&nbsp;27<br>body:&nbsp;14<br></td><td><a class=\"ProveItLink\" href=\"../bbfac8263310abef55f6d967eace1c0077e233ea0/expr.ipynb\"><img src=\"../bbfac8263310abef55f6d967eace1c0077e233ea0/expr.png\" style=\"display:inline;vertical-align:middle;\" /></a></td></tr>\n",
       "<tr><td>12</td><td>Literal</td><td></td><td><a class=\"ProveItLink\" href=\"../../../conjunction/__pv_it/f41cc6b553210927c09f19a8a39cdf860a5585930/expr.ipynb\"><img src=\"../../../conjunction/__pv_it/f41cc6b553210927c09f19a8a39cdf860a5585930/expr.png\" style=\"display:inline;vertical-align:middle;\" /></a></td></tr>\n",
       "<tr><td>13</td><td>ExprTuple</td><td>15, 17</td><td><a class=\"ProveItLink\" href=\"../3dec310d564589a0de7445e83c724859ea33fb340/expr.ipynb\"><img src=\"../3dec310d564589a0de7445e83c724859ea33fb340/expr.png\" style=\"display:inline;vertical-align:middle;\" /></a></td></tr>\n",
       "<tr><td>14</td><td>Conditional</td><td>value:&nbsp;16<br>condition:&nbsp;17<br></td><td><a class=\"ProveItLink\" href=\"../dc7feb89d3ca17a0042f848dee73c413004467eb0/expr.ipynb\"><img src=\"../dc7feb89d3ca17a0042f848dee73c413004467eb0/expr.png\" style=\"display:inline;vertical-align:middle;\" /></a></td></tr>\n",
       "<tr><td>15</td><td>Operation</td><td>operator:&nbsp;20<br>operands:&nbsp;18<br></td><td><a class=\"ProveItLink\" href=\"../8776f6509d0e01db99c8c290ab1853b3db3d048c0/expr.ipynb\"><img src=\"../8776f6509d0e01db99c8c290ab1853b3db3d048c0/expr.png\" style=\"display:inline;vertical-align:middle;\" /></a></td></tr>\n",
       "<tr><td>16</td><td>Operation</td><td>operator:&nbsp;20<br>operands:&nbsp;19<br></td><td><a class=\"ProveItLink\" href=\"../553e28f57d9c567a30adf3d773cd3fa17e3fd5830/expr.ipynb\"><img src=\"../553e28f57d9c567a30adf3d773cd3fa17e3fd5830/expr.png\" style=\"display:inline;vertical-align:middle;\" /></a></td></tr>\n",
       "<tr><td>17</td><td>Operation</td><td>operator:&nbsp;20<br>operands:&nbsp;21<br></td><td><a class=\"ProveItLink\" href=\"../af21e96bc662cb74cc7cb3eb21c032f16e434dba0/expr.ipynb\"><img src=\"../af21e96bc662cb74cc7cb3eb21c032f16e434dba0/expr.png\" style=\"display:inline;vertical-align:middle;\" /></a></td></tr>\n",
       "<tr><td>18</td><td>ExprTuple</td><td>26, 23</td><td><a class=\"ProveItLink\" href=\"../0969dc1cafe9ecb1790af088b1aae8d6ce560fda0/expr.ipynb\"><img src=\"../0969dc1cafe9ecb1790af088b1aae8d6ce560fda0/expr.png\" style=\"display:inline;vertical-align:middle;\" /></a></td></tr>\n",
       "<tr><td>19</td><td>ExprTuple</td><td>22, 23</td><td><a class=\"ProveItLink\" href=\"../573f03745b826381d1c74c7ccf271ada12d637820/expr.ipynb\"><img src=\"../573f03745b826381d1c74c7ccf271ada12d637820/expr.png\" style=\"display:inline;vertical-align:middle;\" /></a></td></tr>\n",
       "<tr><td>20</td><td>Literal</td><td></td><td><a class=\"ProveItLink\" href=\"../../../../set_theory/membership/__pv_it/7776fc89cb67d0b5b1ec2c0c8e08da5587921ccf0/expr.ipynb\"><img src=\"../../../../set_theory/membership/__pv_it/7776fc89cb67d0b5b1ec2c0c8e08da5587921ccf0/expr.png\" style=\"display:inline;vertical-align:middle;\" /></a></td></tr>\n",
       "<tr><td>21</td><td>ExprTuple</td><td>27, 23</td><td><a class=\"ProveItLink\" href=\"../43cf56dd5c4fd9c5d6ca0453908f71631eb84b860/expr.ipynb\"><img src=\"../43cf56dd5c4fd9c5d6ca0453908f71631eb84b860/expr.png\" style=\"display:inline;vertical-align:middle;\" /></a></td></tr>\n",
       "<tr><td>22</td><td>Operation</td><td>operator:&nbsp;24<br>operands:&nbsp;25<br></td><td><a class=\"ProveItLink\" href=\"../8b52df86786c45166e4e597fabcdbadc8276ac2f0/expr.ipynb\"><img src=\"../8b52df86786c45166e4e597fabcdbadc8276ac2f0/expr.png\" style=\"display:inline;vertical-align:middle;\" /></a></td></tr>\n",
       "<tr><td>23</td><td>Literal</td><td></td><td><a class=\"ProveItLink\" href=\"../../../__pv_it/a3b387936f605fef1b535be3e1116cca8bbfc91b0/expr.ipynb\"><img src=\"../../../__pv_it/a3b387936f605fef1b535be3e1116cca8bbfc91b0/expr.png\" style=\"display:inline;vertical-align:middle;\" /></a></td></tr>\n",
       "<tr><td>24</td><td>Literal</td><td></td><td><a class=\"ProveItLink\" href=\"../1e62b0c0a90306fc48b17f0dc8d4dc4df8bb234f0/expr.ipynb\"><img src=\"../1e62b0c0a90306fc48b17f0dc8d4dc4df8bb234f0/expr.png\" style=\"display:inline;vertical-align:middle;\" /></a></td></tr>\n",
       "<tr><td>25</td><td>ExprTuple</td><td>26, 27</td><td><a class=\"ProveItLink\" href=\"../5ba9a2996c4f7c4d12731615ed3a34ca901fa86c0/expr.ipynb\"><img src=\"../5ba9a2996c4f7c4d12731615ed3a34ca901fa86c0/expr.png\" style=\"display:inline;vertical-align:middle;\" /></a></td></tr>\n",
       "<tr><td>26</td><td>Variable</td><td></td><td><a class=\"ProveItLink\" href=\"../../../../../__pv_it/d3792d0d8642fdf1cd2a3a9b32c673ee13653de00/expr.ipynb\"><img src=\"../../../../../__pv_it/d3792d0d8642fdf1cd2a3a9b32c673ee13653de00/expr.png\" style=\"display:inline;vertical-align:middle;\" /></a></td></tr>\n",
       "<tr><td>27</td><td>Variable</td><td></td><td><a class=\"ProveItLink\" href=\"../../../../../__pv_it/4d98b438710c5ada9ffa4646bb123a7d0e69ec000/expr.ipynb\"><img src=\"../../../../../__pv_it/4d98b438710c5ada9ffa4646bb123a7d0e69ec000/expr.png\" style=\"display:inline;vertical-align:middle;\" /></a></td></tr>\n",
       "</table>\n"
      ],
      "text/plain": [
       "0. [forall_{A in BOOLEANS} [forall_{B in BOOLEANS} ((A => B) in BOOLEANS)]] \\\\  => [forall_{A in BOOLEANS, B in BOOLEANS} ((A => B) in BOOLEANS)]\n",
       "   core type: Operation\n",
       "   operator: 24\n",
       "   operands: 1\n",
       "1. (forall_{A in BOOLEANS} [forall_{B in BOOLEANS} ((A => B) in BOOLEANS)], forall_{A in BOOLEANS, B in BOOLEANS} ((A => B) in BOOLEANS))\n",
       "   core type: ExprTuple\n",
       "   sub-expressions: 2, 3\n",
       "2. forall_{A in BOOLEANS} [forall_{B in BOOLEANS} ((A => B) in BOOLEANS)]\n",
       "   core type: Operation\n",
       "   operator: 10\n",
       "   operand: 4\n",
       "3. forall_{A in BOOLEANS, B in BOOLEANS} ((A => B) in BOOLEANS)\n",
       "   core type: Operation\n",
       "   operator: 10\n",
       "   operand: 5\n",
       "4. A -> {forall_{B in BOOLEANS} ((A => B) in BOOLEANS) if A in BOOLEANS.\n",
       "   core type: Lambda\n",
       "   parameter: 26\n",
       "   body: 6\n",
       "5. (A, B) -> {(A => B) in BOOLEANS if A in BOOLEANS ,  B in BOOLEANS.\n",
       "   core type: Lambda\n",
       "   parameters: 25\\n   body: 7\n",
       "6. {forall_{B in BOOLEANS} ((A => B) in BOOLEANS) if A in BOOLEANS.\n",
       "   core type: Conditional\n",
       "   value: 8\n",
       "   condition: 15\n",
       "7. {(A => B) in BOOLEANS if A in BOOLEANS ,  B in BOOLEANS.\n",
       "   core type: Conditional\n",
       "   value: 16\n",
       "   condition: 9\n",
       "8. forall_{B in BOOLEANS} ((A => B) in BOOLEANS)\n",
       "   core type: Operation\n",
       "   operator: 10\n",
       "   operand: 11\n",
       "9. (A in BOOLEANS) and (B in BOOLEANS)\n",
       "   core type: Operation\n",
       "   operator: 12\n",
       "   operands: 13\n",
       "10. forall\n",
       "    core type: Literal\n",
       "    sub-expressions: \n",
       "11. B -> {(A => B) in BOOLEANS if B in BOOLEANS.\n",
       "    core type: Lambda\n",
       "    parameter: 27\n",
       "    body: 14\n",
       "12. and\n",
       "    core type: Literal\n",
       "    sub-expressions: \n",
       "13. (A in BOOLEANS, B in BOOLEANS)\n",
       "    core type: ExprTuple\n",
       "    sub-expressions: 15, 17\n",
       "14. {(A => B) in BOOLEANS if B in BOOLEANS.\n",
       "    core type: Conditional\n",
       "    value: 16\n",
       "    condition: 17\n",
       "15. A in BOOLEANS\n",
       "    core type: Operation\n",
       "    operator: 20\n",
       "    operands: 18\n",
       "16. (A => B) in BOOLEANS\n",
       "    core type: Operation\n",
       "    operator: 20\n",
       "    operands: 19\n",
       "17. B in BOOLEANS\n",
       "    core type: Operation\n",
       "    operator: 20\n",
       "    operands: 21\n",
       "18. (A, BOOLEANS)\n",
       "    core type: ExprTuple\n",
       "    sub-expressions: 26, 23\n",
       "19. (A => B, BOOLEANS)\n",
       "    core type: ExprTuple\n",
       "    sub-expressions: 22, 23\n",
       "20. in\n",
       "    core type: Literal\n",
       "    sub-expressions: \n",
       "21. (B, BOOLEANS)\n",
       "    core type: ExprTuple\n",
       "    sub-expressions: 27, 23\n",
       "22. A => B\n",
       "    core type: Operation\n",
       "    operator: 24\n",
       "    operands: 25\n",
       "23. BOOLEANS\n",
       "    core type: Literal\n",
       "    sub-expressions: \n",
       "24. =>\n",
       "    core type: Literal\n",
       "    sub-expressions: \n",
       "25. (A, B)\n",
       "    core type: ExprTuple\n",
       "    sub-expressions: 26, 27\n",
       "26. A\n",
       "    core type: Variable\n",
       "    sub-expressions: \n",
       "27. B\n",
       "    core type: Variable\n",
       "    sub-expressions: "
      ]
     },
     "execution_count": 5,
     "metadata": {},
     "output_type": "execute_result"
    }
   ],
   "source": [
    "# display the expression information\n",
    "expr.exprInfo()"
   ]
  },
  {
   "cell_type": "code",
   "execution_count": null,
   "metadata": {},
   "outputs": [],
   "source": []
  }
 ],
 "metadata": {
  "kernelspec": {
   "display_name": "Python 3",
   "language": "python",
   "name": "python3"
  },
  "language_info": {
   "codemirror_mode": {
    "name": "ipython",
    "version": 3
   },
   "file_extension": ".py",
   "mimetype": "text/x-python",
   "name": "python",
   "nbconvert_exporter": "python",
   "pygments_lexer": "ipython3",
   "version": "3.7.3"
  }
 },
 "nbformat": 4,
 "nbformat_minor": 1
}
