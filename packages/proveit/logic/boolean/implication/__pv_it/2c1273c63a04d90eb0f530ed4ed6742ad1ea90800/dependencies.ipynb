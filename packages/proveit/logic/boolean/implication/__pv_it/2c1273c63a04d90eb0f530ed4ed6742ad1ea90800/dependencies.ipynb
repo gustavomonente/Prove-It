{
 "cells": [
  {
   "cell_type": "markdown",
   "metadata": {},
   "source": [
    "Theorem Dependencies\n",
    "=======================\n",
    "\n",
    "## <a class=\"ProveItLink\" href=\"../../_context_.ipynb\">proveit.logic.boolean.implication</a>.<a class=\"ProveItLink\" href=\"../../_theorems_.ipynb#trueImpliesTrue\">trueImpliesTrue</a> \n",
    "***see <a class=\"ProveItLink\" href=\"../../_proofs_/trueImpliesTrue.ipynb\">proof</a>***"
   ]
  },
  {
   "cell_type": "code",
   "execution_count": 1,
   "metadata": {},
   "outputs": [],
   "source": [
    "import proveit\n",
    "# Automation is not needed when querying dependencies:\n",
    "proveit.defaults.automation = False # This will speed things up.\n",
    "proveit.defaults.inline_pngs = False # Makes files smaller.\n",
    "from proveit.logic.boolean.implication._theorems_ import trueImpliesTrue"
   ]
  },
  {
   "cell_type": "code",
   "execution_count": 2,
   "metadata": {},
   "outputs": [
    {
     "data": {
      "text/html": [
       "<h3>Theorems that depend directly on trueImpliesTrue</h3>"
      ],
      "text/plain": [
       "<IPython.core.display.HTML object>"
      ]
     },
     "metadata": {},
     "output_type": "display_data"
    },
    {
     "data": {
      "text/html": [
       "<dl>"
      ],
      "text/plain": [
       "<IPython.core.display.HTML object>"
      ]
     },
     "metadata": {},
     "output_type": "display_data"
    },
    {
     "data": {
      "text/html": [
       "<dt><a class=\"ProveItLink\" href=\"../../_proofs_/implicationClosure.ipynb\">proveit.logic.boolean.implication.implicationClosure</a></dt><dd><a class=\"ProveItLink\" href=\"../27637bf8d4d3e0baa1956e522fb75235633492100/expr.ipynb\"><img src=\"../27637bf8d4d3e0baa1956e522fb75235633492100/expr.png\" style=\"display:inline;vertical-align:middle;\" /></a></dd>"
      ],
      "text/plain": [
       "<IPython.core.display.HTML object>"
      ]
     },
     "metadata": {},
     "output_type": "display_data"
    },
    {
     "data": {
      "text/html": [
       "<dt><a class=\"ProveItLink\" href=\"../../_proofs_/impliesTT.ipynb\">proveit.logic.boolean.implication.impliesTT</a></dt><dd><a class=\"ProveItLink\" href=\"../c04578d1cd24af4af4961873baf4cf0d7785851a0/expr.ipynb\"><img src=\"../c04578d1cd24af4af4961873baf4cf0d7785851a0/expr.png\" style=\"display:inline;vertical-align:middle;\" /></a></dd>"
      ],
      "text/plain": [
       "<IPython.core.display.HTML object>"
      ]
     },
     "metadata": {},
     "output_type": "display_data"
    },
    {
     "data": {
      "text/html": [
       "<dt><a class=\"ProveItLink\" href=\"../../_proofs_/trueIffTrue.ipynb\">proveit.logic.boolean.implication.trueIffTrue</a></dt><dd><a class=\"ProveItLink\" href=\"../ace9c8945ccd9113fdad0181a45c8bdd95a9a5630/expr.ipynb\"><img src=\"../ace9c8945ccd9113fdad0181a45c8bdd95a9a5630/expr.png\" style=\"display:inline;vertical-align:middle;\" /></a></dd>"
      ],
      "text/plain": [
       "<IPython.core.display.HTML object>"
      ]
     },
     "metadata": {},
     "output_type": "display_data"
    },
    {
     "data": {
      "text/html": [
       "</dl>"
      ],
      "text/plain": [
       "<IPython.core.display.HTML object>"
      ]
     },
     "metadata": {},
     "output_type": "display_data"
    }
   ],
   "source": [
    "%dependencies trueImpliesTrue"
   ]
  }
 ],
 "metadata": {
  "kernelspec": {
   "display_name": "Python 3",
   "language": "python",
   "name": "python3"
  },
  "language_info": {
   "codemirror_mode": {
    "name": "ipython",
    "version": 3
   },
   "file_extension": ".py",
   "mimetype": "text/x-python",
   "name": "python",
   "nbconvert_exporter": "python",
   "pygments_lexer": "ipython3",
   "version": "3.7.3"
  }
 },
 "nbformat": 4,
 "nbformat_minor": 1
}
