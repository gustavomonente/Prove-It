{
 "cells": [
  {
   "cell_type": "markdown",
   "metadata": {},
   "source": [
    "Proof of <a class=\"ProveItLink\" href=\"../../../../_context_.ipynb\">proveit</a>.<a class=\"ProveItLink\" href=\"../../../_context_.ipynb\">logic</a>.<a class=\"ProveItLink\" href=\"../../_context_.ipynb\">boolean</a>.<a class=\"ProveItLink\" href=\"../_context_.ipynb\">implication</a>.<a href=\"../_theorems_.ipynb#iffTT\" class=\"ProveItLink\">iffTT</a> theorem\n",
    "========"
   ]
  },
  {
   "cell_type": "code",
   "execution_count": 1,
   "metadata": {},
   "outputs": [],
   "source": [
    "import proveit\n",
    "from proveit.logic.boolean.implication._theorems_ import trueIffTrue\n",
    "context = proveit.Context('..') # the theorem's context is in the parent directory"
   ]
  },
  {
   "cell_type": "code",
   "execution_count": 2,
   "metadata": {},
   "outputs": [
    {
     "name": "stdout",
     "output_type": "stream",
     "text": [
      "Beginning proof of iffTT\n",
      "Recorded 'presuming' information\n"
     ]
    },
    {
     "name": "stdout",
     "output_type": "stream",
     "text": [
      "Presuming previous theorems (applied transitively).\n"
     ]
    },
    {
     "data": {
      "text/html": [
       "<strong id=\"iffTT\">iffTT:</strong> <a class=\"ProveItLink\" href=\"../__pv_it/3571fba1d544988549c72a114ef78ff4fdd557ed0/expr.ipynb\"><img src=\"data:image/png;base64,iVBORw0KGgoAAAANSUhEUgAAAHoAAAAUBAMAAACwiTT9AAAAMFBMVEX////MzMxUVFR2dna6uroQ\n",
       "EBCqqqqIiIgiIiJmZmYyMjJERETu7u6YmJjc3NwAAACgK8IjAAAAAXRSTlMAQObYZgAAAQdJREFU\n",
       "OMtjYOC7wEAI5OGWOs3AMKMDBJowpGDiTA9wyTCsA3PTcZgNFudZgEuGdwJh3QzmuGQ4HqDpBtrD\n",
       "qICm+ygu3S8YUHWzgwJxI5puLgccuivRdEuDiFMHUHUzT8Chey+qbsZQUGC2rkHVzQsONqtVILAS\n",
       "WaYNVXcRxFbpBBTdbA047A5B0X0CFl7dKLoZPxClm08ZQh8yIE43mst5u8Cea0T1N0sDwt+L8IQa\n",
       "w01wmD/AFmpY7LZE080EitppaPHNaYBDtweE7QsTBKVpvg1wNRBxLgFM3b5IKRUBgHyeA2hiJ3Bl\n",
       "UN4JDISBOU6ZfYQ1Y82h8NKBEOB+gFOKiJLpHi4JAPnOUnr1aw2TAAAAAElFTkSuQmCC\n",
       "\" style=\"display:inline;vertical-align:middle;\" /></a><br>(see <a class=\"ProveItLink\" href=\"../__pv_it/3571fba1d544988549c72a114ef78ff4fdd557ed0/dependencies.ipynb\">dependencies</a>)<br>"
      ],
      "text/plain": [
       "iffTT: (TRUE <=> TRUE) = TRUE"
      ]
     },
     "execution_count": 2,
     "metadata": {},
     "output_type": "execute_result"
    }
   ],
   "source": [
    "%proving iffTT presuming []"
   ]
  },
  {
   "cell_type": "code",
   "execution_count": 3,
   "metadata": {},
   "outputs": [
    {
     "data": {
      "text/html": [
       "<table><tr><th>&nbsp;</th><th>step type</th><th>requirements</th><th>statement</th></tr>\n",
       "<tr><td><a name=\"0x63b85c6e6d26b2b5_step0\">0</a></td><td>instantiation</td><td><a href=\"#0x63b85c6e6d26b2b5_step1\">1</a>, <a href=\"#0x63b85c6e6d26b2b5_step2\">2</a></td><td><span style=\"font-size:20px;\"> <a class=\"ProveItLink\" href=\"../__pv_it/e050dde41cc85632cf10ae2510d780778df777420/proof.ipynb\" style=\"text-decoration: none\">&#x22A2;&nbsp;</a><a class=\"ProveItLink\" href=\"../__pv_it/3571fba1d544988549c72a114ef78ff4fdd557ed0/expr.ipynb\"><img src=\"data:image/png;base64,iVBORw0KGgoAAAANSUhEUgAAAHoAAAAUBAMAAACwiTT9AAAAMFBMVEX////MzMxUVFR2dna6uroQ\n",
       "EBCqqqqIiIgiIiJmZmYyMjJERETu7u6YmJjc3NwAAACgK8IjAAAAAXRSTlMAQObYZgAAAQdJREFU\n",
       "OMtjYOC7wEAI5OGWOs3AMKMDBJowpGDiTA9wyTCsA3PTcZgNFudZgEuGdwJh3QzmuGQ4HqDpBtrD\n",
       "qICm+ygu3S8YUHWzgwJxI5puLgccuivRdEuDiFMHUHUzT8Chey+qbsZQUGC2rkHVzQsONqtVILAS\n",
       "WaYNVXcRxFbpBBTdbA047A5B0X0CFl7dKLoZPxClm08ZQh8yIE43mst5u8Cea0T1N0sDwt+L8IQa\n",
       "w01wmD/AFmpY7LZE080EitppaPHNaYBDtweE7QsTBKVpvg1wNRBxLgFM3b5IKRUBgHyeA2hiJ3Bl\n",
       "UN4JDISBOU6ZfYQ1Y82h8NKBEOB+gFOKiJLpHi4JAPnOUnr1aw2TAAAAAElFTkSuQmCC\n",
       "\" style=\"display:inline;vertical-align:middle;\" /></a></span></td></tr>\n",
       "<tr><td>&nbsp;</td><td colspan=4 style=\"text-align:left\"><span style=\"font-size:20px;\"><a class=\"ProveItLink\" href=\"../../../../__pv_it/d3792d0d8642fdf1cd2a3a9b32c673ee13653de00/expr.ipynb\"><img src=\"data:image/png;base64,iVBORw0KGgoAAAANSUhEUgAAAA8AAAAOBAMAAAACpFvcAAAALVBMVEX///8iIiIQEBBERERUVFS6\n",
       "urqIiIjc3NxmZmaqqqru7u6YmJgyMjLMzMwAAACK9jtgAAAAAXRSTlMAQObYZgAAAFtJREFUCNdj\n",
       "YACBOwxQcA5Kc59bAGGs7CuAMDbkBYBp1gXzNoAZSxnuJYAZAQx1DSCa16PDzwCshIGB6QCIMYGB\n",
       "gVEBSLMDGTwPgIxCIGZ+zsCw+N0pBk67hw0AfpEVEQi8t+wAAAAASUVORK5CYII=\n",
       "\" style=\"display:inline;vertical-align:middle;\" /></a> : <a class=\"ProveItLink\" href=\"../__pv_it/ace9c8945ccd9113fdad0181a45c8bdd95a9a5630/expr.ipynb\"><img src=\"data:image/png;base64,iVBORw0KGgoAAAANSUhEUgAAAD8AAAAPBAMAAAChCwpBAAAAMFBMVEX///92dnbc3NwQEBDu7u5E\n",
       "RETMzMwyMjKYmJi6urqIiIiqqqpUVFQiIiJmZmYAAACZRlYpAAAAAXRSTlMAQObYZgAAAH5JREFU\n",
       "GNNjeHsXBO4woAM+sPjdAyD2LgbsgHsBlEGCAnYgzsGnYAUQsybgVsAWACRYSnArSLYFOdzcAZcC\n",
       "riMQc6JxKGCBBQZvAA4TdAQgCg/idENvOQjUJuBUwPEAZEARnnA4CYqEDRgKZsAVuAOxKpzH2YAR\n",
       "+kxA7IIqBAB5MC+ONv6d1wAAAABJRU5ErkJggg==\n",
       "\" style=\"display:inline;vertical-align:middle;\" /></a></span></td></tr><tr><td><a name=\"0x63b85c6e6d26b2b5_step1\">1</a></td><td>axiom</td><td></td><td><span style=\"font-size:20px;\"> <a class=\"ProveItLink\" href=\"../../_axioms_.ipynb#eqTrueIntro\" style=\"text-decoration: none\">&#x22A2;&nbsp;</a><a class=\"ProveItLink\" href=\"../../__pv_it/7bce5e3cff7f8036cee68d8befe33a38fe32f5c10/expr.ipynb\"><img src=\"data:image/png;base64,iVBORw0KGgoAAAANSUhEUgAAAIwAAAAWBAMAAADgE2koAAAAMFBMVEX///8QEBCIiIhmZma6urrM\n",
       "zMxUVFQiIiJERETc3Nzu7u6qqqp2dnaYmJgyMjIAAAAcRTyBAAAAAXRSTlMAQObYZgAAAaJJREFU\n",
       "OMtjYCAMOC/gl+eewMDwAMS4i1fZCggVhy7OXA4GCQyZDAynQQKv8BrzEkK9x+YQBRC5joFhBsjV\n",
       "DfhM4TWAUO8X4DKGR4GBDyjJswGfMewTwNRq+wm4jOESYOA9tWrVdLx+gspe0HfAZQzDEwaGHx0d\n",
       "NXiNUQaTLAv2X8BpzGEGhlQGhk4wG0KywFR0whi9YHIJQzwkHN6BgQGKMfcYGJwZuMCRzvsFLMIB\n",
       "C9gvMGOqwaQDw3wDnK7ZDgxBBiawaxf/RTEGygUCERDBmmyc34DTmHigKy+wg5mnilGMgXJhxgD9\n",
       "yvgAnzGcD8LA1il0IBsD48I8BUwS7AJIYZOAYow7KCxTQCw2BnNkY2BcaBBzAo3h+4DTNcAgZthc\n",
       "AGLdZtBHNgbGhcQmOO1w/MRpjA0Q84OYXI/P9C9AGAPnQly84v8rBu7+75hRxQJJS09BUQtSz7yA\n",
       "YX4Awhg4F5EZ8ACuAhjLF+iqCwhj4FxE1sQDeBSgDI4fDJz9tXBjEFyU9IwLrMMU4sBZbOEGnUQZ\n",
       "Q6gQ5Z1AlDHkAGaydAEA+qlrXgbLZpIAAAAASUVORK5CYII=\n",
       "\" style=\"display:inline;vertical-align:middle;\" /></a></span></td></tr>\n",
       "<tr><td>&nbsp;</td><td colspan=4 style-\"text-align:left\"><a class=\"ProveItLink\" href=\"../../_axioms_.ipynb#eqTrueIntro\">proveit.logic.boolean.eqTrueIntro</a></td></tr><tr><td><a name=\"0x63b85c6e6d26b2b5_step2\">2</a></td><td>theorem</td><td></td><td><span style=\"font-size:20px;\"> <a class=\"ProveItLink\" href=\"trueIffTrue.ipynb\" style=\"text-decoration: none\">&#x22A2;&nbsp;</a><a class=\"ProveItLink\" href=\"../__pv_it/ace9c8945ccd9113fdad0181a45c8bdd95a9a5630/expr.ipynb\"><img src=\"data:image/png;base64,iVBORw0KGgoAAAANSUhEUgAAAD8AAAAPBAMAAAChCwpBAAAAMFBMVEX///92dnbc3NwQEBDu7u5E\n",
       "RETMzMwyMjKYmJi6urqIiIiqqqpUVFQiIiJmZmYAAACZRlYpAAAAAXRSTlMAQObYZgAAAH5JREFU\n",
       "GNNjeHsXBO4woAM+sPjdAyD2LgbsgHsBlEGCAnYgzsGnYAUQsybgVsAWACRYSnArSLYFOdzcAZcC\n",
       "riMQc6JxKGCBBQZvAA4TdAQgCg/idENvOQjUJuBUwPEAZEARnnA4CYqEDRgKZsAVuAOxKpzH2YAR\n",
       "+kxA7IIqBAB5MC+ONv6d1wAAAABJRU5ErkJggg==\n",
       "\" style=\"display:inline;vertical-align:middle;\" /></a></span></td></tr>\n",
       "<tr><td>&nbsp;</td><td colspan=4 style-\"text-align:left\"><a class=\"ProveItLink\" href=\"trueIffTrue.ipynb\">proveit.logic.boolean.implication.trueIffTrue</a></td></tr></table>"
      ],
      "text/plain": [
       "\tstep type\trequirements\tstatement\n",
       "0\tinstantiation\t1, 2\t|- (TRUE <=> TRUE) = TRUE\n",
       "\tA : TRUE <=> TRUE\n",
       "1\taxiom\t\t|- forall_{A | A} (A = TRUE)\n",
       "\tproveit.logic.boolean.eqTrueIntro\n",
       "2\ttheorem\t\t|- TRUE <=> TRUE\n",
       "\tproveit.logic.boolean.implication.trueIffTrue"
      ]
     },
     "execution_count": 3,
     "metadata": {},
     "output_type": "execute_result"
    }
   ],
   "source": [
    "%qed"
   ]
  },
  {
   "cell_type": "code",
   "execution_count": null,
   "metadata": {},
   "outputs": [],
   "source": []
  }
 ],
 "metadata": {
  "kernelspec": {
   "display_name": "Python 3",
   "language": "python",
   "name": "python3"
  }
 },
 "nbformat": 4,
 "nbformat_minor": 0
}
