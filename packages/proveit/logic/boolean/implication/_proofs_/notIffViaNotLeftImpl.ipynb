{
 "cells": [
  {
   "cell_type": "markdown",
   "metadata": {},
   "source": [
    "Proof of <a class=\"ProveItLink\" href=\"../../../../_context_.ipynb\">proveit</a>.<a class=\"ProveItLink\" href=\"../../../_context_.ipynb\">logic</a>.<a class=\"ProveItLink\" href=\"../../_context_.ipynb\">boolean</a>.<a class=\"ProveItLink\" href=\"../_context_.ipynb\">implication</a>.<a class=\"ProveItLink\" href=\"../_theorems_.ipynb#notIffViaNotLeftImpl\">notIffViaNotLeftImpl</a> theorem\n",
    "========"
   ]
  },
  {
   "cell_type": "code",
   "execution_count": 1,
   "metadata": {},
   "outputs": [],
   "source": [
    "import proveit\n",
    "from proveit import defaults\n",
    "from proveit._common_ import A, B\n",
    "from proveit.logic.boolean.conjunction import And\n",
    "from proveit.logic.boolean.conjunction._theorems_ import trueAndFalseNegated\n",
    "from proveit.logic.boolean.implication import Implies\n",
    "from proveit.logic.boolean.implication._axioms_ import iffDef\n",
    "from proveit.logic.boolean.implication._theorems_ import negatedReflex\n",
    "from proveit.logic.boolean.negation import Not\n",
    "context = proveit.Context('..') # the theorem's context is in the parent directory"
   ]
  },
  {
   "cell_type": "code",
   "execution_count": 2,
   "metadata": {},
   "outputs": [
    {
     "name": "stdout",
     "output_type": "stream",
     "text": [
      "Beginning proof of notIffViaNotLeftImpl\n",
      "Recorded 'presuming' information\n"
     ]
    },
    {
     "name": "stdout",
     "output_type": "stream",
     "text": [
      "Presuming previous theorems (applied transitively).\n"
     ]
    },
    {
     "data": {
      "text/html": [
       "<strong id=\"notIffViaNotLeftImpl\">notIffViaNotLeftImpl:</strong> <a class=\"ProveItLink\" href=\"../__pv_it/09cf11a078c11b816df0a20ff263aef7159aae7d0/expr.ipynb\"><img src=\"data:image/png;base64,iVBORw0KGgoAAAANSUhEUgAAAPcAAAAWBAMAAADuuhdHAAAAMFBMVEX///8QEBCIiIhmZma6urrM\n",
       "zMxUVFQiIiJERETc3Nzu7u6qqqp2dnaYmJgyMjIAAAAcRTyBAAAAAXRSTlMAQObYZgAAA0VJREFU\n",
       "SMe1Vl9IU1EY/7zbdPfebdpTQRGjoKQwhYWCBQ6CkCAcPZgPkYMSLKImEf2zWFAwI9ieTIjwipDg\n",
       "gwlG5JvUQ2IRF3qKMic91UOJKzOj7DvnO3c7u7tXodUH3935ne9yft/5/t0B/BO57wocZVJoloHZ\n",
       "Mrm1ZCnwZR1eDJ5binTfhMoMcH3B9j6VSR7KlILQgtObFehZS0xDx5gO4I6aLJP8tQN4v+L0ZqcJ\n",
       "0NYAT3GJGjIAAuNlkl8uBdrED4Hxhr64ZazHsMyFYQiXqMGZ0dG7ZXKriVIQVL4SVvCucMuy3kC3\n",
       "NhoQigLX5VSqd/3jnbdj4vwGaU+AQ/ovwh3sMWYI6xLA0dMY6wbSLoA+vk/P1tyzbl4xXpllSjJY\n",
       "4s/AI7Ey5W0OtKhvkYp+w0WUHlHSvqXZ2qssLlnSA7zucE1hCtZAoIYfIh3I2iJvsGQuCh7ypgpr\n",
       "polx9ArAXFdz3LaD7txBZaVgIQxhAegJ0irKCgxTmDxx0Ffs5Mdkg9XOLSZoVEgVUbHXnwftkcZl\n",
       "9jtildolCgu6r/zECCyQBswqvj9znm4RBk/WTt4lG3QKcmAEc/bRjRwfW3mxnCHLgyn+U42+KIsF\n",
       "cjXbzrMRTnHzwxjsMezkCdkAp/jziB+nQ10+7HlyDnTUHkrj9c9MLhTavBLz602QQt9JnlZo4ua2\n",
       "ulqKlN/WPdwQSKHM87vFPbj7uLjg+i1wD/WLNHPGMoU270wWCg4meGO+hXpufgWwUyKfRrKsNykb\n",
       "ALYje3BcwbC1UgasVvMJwL1NE2Elc3WfeGEeL7wJ4+eZIoXqMCufDy/TPKh3AAbHi28e98ZlAyYQ\n",
       "O3Vs/zSW33GOvfKQQaClfxvwZJWKiPWSNb/Prp5oTLFDQjFSCDJSjwGDfGRgKbZlbOS+pGVQIiiN\n",
       "zQibQf0GcNB1vBYET9MM296IUJLDGAFTvQ3qCqhbbDmPa3gzYRhF2cbuh5nF3nzn/mFZU8SHRYyl\n",
       "ZVDT13yb4Xku0h21kWfgCkgGlSUhnYSB7ybszQ+7osm37vdffFKLRJfPkNa73eZ81v3PxFrC/Cvx\n",
       "cdKF3O9yiG7+3d+oN0KLxHQh9JrOhwzDfxKPW0gk2VUexR+PV/DDQQI2/QAAAABJRU5ErkJggg==\n",
       "\" style=\"display:inline;vertical-align:middle;\" /></a><br>(see <a class=\"ProveItLink\" href=\"../__pv_it/09cf11a078c11b816df0a20ff263aef7159aae7d0/dependencies.ipynb\">dependencies</a>)<br>"
      ],
      "text/plain": [
       "notIffViaNotLeftImpl: forall_{A, B | [not](B => A)} [not](A <=> B)"
      ]
     },
     "execution_count": 2,
     "metadata": {},
     "output_type": "execute_result"
    }
   ],
   "source": [
    "%proving notIffViaNotLeftImpl presuming []"
   ]
  },
  {
   "cell_type": "code",
   "execution_count": 3,
   "metadata": {},
   "outputs": [
    {
     "data": {
      "text/html": [
       "<strong id=\"defaults.assumptions\">defaults.assumptions:</strong> <a class=\"ProveItLink\" href=\"../__pv_it/2b24c1713b7f31da644969d251f4d505f8d86cde0/expr.ipynb\"><img src=\"data:image/png;base64,iVBORw0KGgoAAAANSUhEUgAAAG4AAAAUBAMAAACezBVvAAAAMFBMVEX////MzMxUVFR2dna6uroQ\n",
       "EBCqqqqIiIgiIiJmZmYyMjJERETu7u6YmJjc3NwAAACgK8IjAAAAAXRSTlMAQObYZgAAAZlJREFU\n",
       "OMuVVDtMwmAQPqQ8pBQdjQ5onFAjrmyMbDo4mLgwuslqHGAiToboxAQm6mCMMOhkwA7qAAurJsaO\n",
       "LkZDjI9FvLu+LpSk8ZLv79+7+/rf6y9AogeuvIKfhA0T0BXKeBNAS/eri5ejSdOIZQsXQh+jD4WQ\n",
       "XJscyWsgOia0itA/0JLEwFcro2haQwcIFhhRQxj2aSmi5rng6Nqu+b6Gpvga40XQEiVar1C/oTvK\n",
       "GdfeK2ZxPWbsCF6Eo+sDTC2J4JyQFX2bap9htARPJXWg/7Rb5tfxPZYf23wLSQr/kVG27SsA0Twd\n",
       "+gtwNys7dmptsvBGZ28x1u3c0DVE4auYd+RTlrFj+gRS1XST6s3w8CZwE/mS1Zo3S66gQ93hlQWP\n",
       "46T2jX1wfmemWJ1CYxRjgRyjJXhcF2pfsukep9QtB+TF3p26ZGw7TlaQ0j5B101dZGftqdEq1gwO\n",
       "GTmRiYJ9XxikDq7zQjlnPrqDcwjffOOXj4DgnbMhMYbe4yWGd659xJprObegGv486x557q2ftC38\n",
       "8z+hGYw/0Wl2pJ53SNEAAAAASUVORK5CYII=\n",
       "\" style=\"display:inline;vertical-align:middle;\" /></a><br>"
      ],
      "text/plain": [
       "defaults.assumptions: ([not](B => A))"
      ]
     },
     "execution_count": 3,
     "metadata": {},
     "output_type": "execute_result"
    }
   ],
   "source": [
    "defaults.assumptions = notIffViaNotLeftImpl.allConditions()"
   ]
  },
  {
   "cell_type": "code",
   "execution_count": 4,
   "metadata": {},
   "outputs": [
    {
     "data": {
      "text/html": [
       "<strong id=\"notBimplA\">notBimplA:</strong> <a class=\"ProveItLink\" href=\"../__pv_it/15271c97ee8b42c492956337f936a2289bfb14d10/expr.ipynb\"><img src=\"data:image/png;base64,iVBORw0KGgoAAAANSUhEUgAAAF8AAAAUBAMAAAAZ/fxpAAAAMFBMVEX///+6uroQEBCqqqqIiIgy\n",
       "MjJERETu7u6YmJjMzMxUVFTc3Nx2dnYiIiJmZmYAAAAutVgsAAAAAXRSTlMAQObYZgAAAWdJREFU\n",
       "KM9jYIAD7gYGQsAahVcGxF3/171KE8CqmDOAgYFrA7JINIhQY2Dg+4lVA+sHBgb2ACQBjgcgY34w\n",
       "MDD+w6qh9TuQOIIkwAuyjuU3UOcXuBgbwgnsdkAphiIkDXvBKhSAgtcR7k5AOIDlI8hdSP7zAxH8\n",
       "Cxg4bxUgBPvgLHFmoGsZeB4g5DJAxPwVLbkGYO7buyBwH6aAXYAT5FKOAIjEHSD7MkjcfwMDuxay\n",
       "V00h2hkYGbhBYcF8AcLdBcSKIEYSSJMBkgb2IIirZ7179Q3kqQ9oGn6BNDggadh1GkIDtamiabgM\n",
       "jQaG9WAzn4aCQTREATMQXwK5DMlJGdBo4PyGZIEolN4MxPEQT0PCG4jPgYIZGA1C6Ug+CIemS5DB\n",
       "+cBY5DuAkJQFpq34X++WJSNZwDUBoi//awGD2f97QBMnoCUNNMCNLlCLnvgIAeTEx5BNWD1K8gZn\n",
       "IAKADcXZRGTRbgYGAN9IW9L7DIJcAAAAAElFTkSuQmCC\n",
       "\" style=\"display:inline;vertical-align:middle;\" /></a><br>"
      ],
      "text/plain": [
       "notBimplA: [not](B => A)"
      ]
     },
     "execution_count": 4,
     "metadata": {},
     "output_type": "execute_result"
    }
   ],
   "source": [
    "notBimplA = defaults.assumptions[0]"
   ]
  },
  {
   "cell_type": "code",
   "execution_count": 5,
   "metadata": {},
   "outputs": [
    {
     "data": {
      "text/html": [
       "<strong id=\"BimplA\">BimplA:</strong> <a class=\"ProveItLink\" href=\"../__pv_it/8b9c784705e35002d4429ef743e77d1f418289900/expr.ipynb\"><img src=\"data:image/png;base64,iVBORw0KGgoAAAANSUhEUgAAAEAAAAAPBAMAAACmSdRUAAAAMFBMVEX///92dnYyMjKqqqoiIiLu\n",
       "7u7c3NyIiIjMzMwQEBC6urpERERmZmZUVFSYmJgAAADEjrHzAAAAAXRSTlMAQObYZgAAAOpJREFU\n",
       "GNNjYGB4+//O2d0LGLABDgUwNZuBgecHVgVMH8DK/jEwcP3BquDRVxDJ/o2Bge87XJA7Ac5ktfkG\n",
       "FpnAwBDpirB3A5zJx/4LRPFfYODwDUCY+wbOWsr8D0T133u+xQAscMQFBPwPwGxYwAG2uT6BgXUu\n",
       "stOMIMoZuBjYwG7fCVJkgKSAVRMSKr1nzv4G0X9BCgqQFOSKQWigsknQYGC4D9ZzSAkM1CDyzEDs\n",
       "CQ0Gjt9IBiyC0slArA8KTmAwrNyK5AJVCM3mACT2JzDw6v89c3szkgG8DRB1+z8FMFj/98EMfzZU\n",
       "LgBdXD0b6P4qzAAAAABJRU5ErkJggg==\n",
       "\" style=\"display:inline;vertical-align:middle;\" /></a><br>"
      ],
      "text/plain": [
       "BimplA: B => A"
      ]
     },
     "execution_count": 5,
     "metadata": {},
     "output_type": "execute_result"
    }
   ],
   "source": [
    "BimplA = notBimplA.operand"
   ]
  },
  {
   "cell_type": "code",
   "execution_count": 6,
   "metadata": {},
   "outputs": [
    {
     "data": {
      "text/html": [
       "<strong id=\"BimplAeqF\">BimplAeqF:</strong> <span style=\"font-size:20px;\"><a class=\"ProveItLink\" href=\"../__pv_it/1aa8f774db02e9324f315136bde59af024cdb9980/expr.ipynb\"><img src=\"data:image/png;base64,iVBORw0KGgoAAAANSUhEUgAAAHUAAAAVBAMAAACK3rzVAAAAMFBMVEX///+IiIi6urrc3NxERETM\n",
       "zMwQEBCqqqpUVFQiIiJ2dnYyMjLu7u5mZmaYmJgAAABN0h6tAAAAAXRSTlMAQObYZgAAAcBJREFU\n",
       "OMtjYGDgu8dAMmC9eABE8exCEbUjqI/dAEgwpYKYfB+QJXgcgCL9P+62OGHXGA3EzSDGbRDBNQFZ\n",
       "jhtkKBvQgPsBWPXuB+LTIMZKTL1vQUT8AwYG/QvYtPLtB/qTSwC73skgQh5o+XsBuJgzQvr4faAU\n",
       "TwJWvcxgjhtQPvMAXDAEIf9AXgFIbsKqlxHs0h8MDJE9SA6FO5/pQD3QOwxrgXgZiM+xAUkvC0iK\n",
       "9cc7kelgLu9MMPgLkz7EEA/yymsgfg/ilwXA1CxgYOAsAFn+mYHhWANyjG6HMhQY7EFuqARFCJAR\n",
       "MhnuV6ByNpB3WIBhwfgdOQRPJ0FSU+/dfgdQPIA4nUAXqAWg6+UHMhg/IodglwHEu0AFG6B6uUEO\n",
       "43BA0gt2Myh6OT6B/bsbAiBaGYCSnKD40YT5Fx7OIL3gsAJFb7wDwlomaGgyA/Vyf4CG1TLUOAI6\n",
       "ngsUFNuAylMOIPkWyrYEhQUwHBluYY1fJiCn+3/vDZcCJMFWCHXk/x4Gdv+fQNO34kmTaMAAjc8z\n",
       "Aa43ASMvEACIvICaf1kMCOs9Dc+/DLvQ8z4hAMpXTJDUwn6PtDKHzwBaXgEAR2x7CKGngJgAAAAA\n",
       "SUVORK5CYII=\n",
       "\" style=\"display:inline;vertical-align:middle;\" /></a> <a class=\"ProveItLink\" href=\"../__pv_it/7c6f493c1f0f2d22f95b554ec25bb856cdc526890/proof.ipynb\" style=\"text-decoration: none\">&#x22A2;&nbsp;</a><a class=\"ProveItLink\" href=\"../__pv_it/4fb5e4e13f1b5525f2fd6c8b1c56f306c3a074e80/expr.ipynb\"><img src=\"data:image/png;base64,iVBORw0KGgoAAAANSUhEUgAAAHoAAAAUBAMAAACwiTT9AAAAMFBMVEX////MzMxUVFR2dna6uroQ\n",
       "EBCqqqqIiIgiIiJmZmYyMjJERETu7u6YmJjc3NwAAACgK8IjAAAAAXRSTlMAQObYZgAAAX5JREFU\n",
       "OMtjYOC7wEAIsD3AKXUaiC/915y02wG7vBQQ62ERFwOT60BENAMD50fsutcD8Sks4ukggncCkGD8\n",
       "y8DA8hOrZt71BxgYmAtw6OYA+Yn9H1DZd7gEN5I/j80HcngCcOh+AVYOlD3aA5dg3IBQdKEeFB5L\n",
       "cOiuBBH8CgyMTQcQMjfhLJYD+aA4scShey+IkNe9viMBLDajAwT6J8DUHGGQB/n5FohttQoEViLr\n",
       "bgMR9Q8YeIKQDc5KgDIcGN6DTMrAYXcIiNgKMiEBSYpnKST2GTVn6oMCQR6f7k8g3cix8sgO6m0G\n",
       "BtYFeHS3QaObQR9s2yyw31atgyoBuocDFFseCH8vQg81UHQz/kYy1wtK8wF1c32AhRoWu0FxwQU0\n",
       "3nUPkq/XQBmgxMANNJphMg7dQDcxrf80U3sbkgSTADQD/V/DwLb/BzDQF6JpBUZsaEdHEySlogE+\n",
       "dAGeBhwZlHcCA2GALZdAwD4idJ/CWzoQArhtIKJk4sVVMgEAeDNqPB+btSgAAAAASUVORK5CYII=\n",
       "\" style=\"display:inline;vertical-align:middle;\" /></a></span><br>"
      ],
      "text/plain": [
       "BimplAeqF: {[not](B => A)} |- (B => A) = FALSE"
      ]
     },
     "execution_count": 6,
     "metadata": {},
     "output_type": "execute_result"
    }
   ],
   "source": [
    "BimplAeqF = BimplA.evaluation()"
   ]
  },
  {
   "cell_type": "code",
   "execution_count": 7,
   "metadata": {},
   "outputs": [
    {
     "data": {
      "text/html": [
       "<span style=\"font-size:20px;\"><a class=\"ProveItLink\" href=\"../__pv_it/1aa8f774db02e9324f315136bde59af024cdb9980/expr.ipynb\"><img src=\"data:image/png;base64,iVBORw0KGgoAAAANSUhEUgAAAHUAAAAVBAMAAACK3rzVAAAAMFBMVEX///+IiIi6urrc3NxERETM\n",
       "zMwQEBCqqqpUVFQiIiJ2dnYyMjLu7u5mZmaYmJgAAABN0h6tAAAAAXRSTlMAQObYZgAAAcBJREFU\n",
       "OMtjYGDgu8dAMmC9eABE8exCEbUjqI/dAEgwpYKYfB+QJXgcgCL9P+62OGHXGA3EzSDGbRDBNQFZ\n",
       "jhtkKBvQgPsBWPXuB+LTIMZKTL1vQUT8AwYG/QvYtPLtB/qTSwC73skgQh5o+XsBuJgzQvr4faAU\n",
       "TwJWvcxgjhtQPvMAXDAEIf9AXgFIbsKqlxHs0h8MDJE9SA6FO5/pQD3QOwxrgXgZiM+xAUkvC0iK\n",
       "9cc7kelgLu9MMPgLkz7EEA/yymsgfg/ilwXA1CxgYOAsAFn+mYHhWANyjG6HMhQY7EFuqARFCJAR\n",
       "MhnuV6ByNpB3WIBhwfgdOQRPJ0FSU+/dfgdQPIA4nUAXqAWg6+UHMhg/IodglwHEu0AFG6B6uUEO\n",
       "43BA0gt2Myh6OT6B/bsbAiBaGYCSnKD40YT5Fx7OIL3gsAJFb7wDwlomaGgyA/Vyf4CG1TLUOAI6\n",
       "ngsUFNuAylMOIPkWyrYEhQUwHBluYY1fJiCn+3/vDZcCJMFWCHXk/x4Gdv+fQNO34kmTaMAAjc8z\n",
       "Aa43ASMvEACIvICaf1kMCOs9Dc+/DLvQ8z4hAMpXTJDUwn6PtDKHzwBaXgEAR2x7CKGngJgAAAAA\n",
       "SUVORK5CYII=\n",
       "\" style=\"display:inline;vertical-align:middle;\" /></a> <a class=\"ProveItLink\" href=\"../__pv_it/0bdf8b9d94e41f348dea0b86dd4a87286eb26e700/proof.ipynb\" style=\"text-decoration: none\">&#x22A2;&nbsp;</a><a class=\"ProveItLink\" href=\"../__pv_it/8b52df86786c45166e4e597fabcdbadc8276ac2f0/expr.ipynb\"><img src=\"data:image/png;base64,iVBORw0KGgoAAAANSUhEUgAAAEAAAAAPBAMAAACmSdRUAAAAMFBMVEX///92dnYiIiIQEBBERERU\n",
       "VFS6urqIiIjc3NxmZmaqqqru7u6YmJgyMjLMzMwAAADiRdoGAAAAAXRSTlMAQObYZgAAAO5JREFU\n",
       "GNNjYACBtwxYwNH/kVNdEiDs+9gUMJgwMHD+A7N47m/AIs/3h4GB7SeYuWt+A0LcA8Zg/wHU+h3M\n",
       "PFCfgFDwBMZgMWBg2KwNYrFtWH8AoYBnApTBH8DApwq2exvD+wIQzakEBj+hCt7HHHdaAGYlMPRP\n",
       "QHIc1y0IXd/AwG0Kdm3kzHgHZOfvNQNTziBFICPYGBiYLyDJcwRC/PQVpABkN1ARkwHYDXchoAEe\n",
       "DAzxQO9xABXwfkAYwHYBEQx8X4CMJpCXfyC5ABqqvEBTk70ZGLb8v83A5f8J4Y04CMV6/+vMEC9s\n",
       "UdSAygUACNlBmGjrK1sAAAAASUVORK5CYII=\n",
       "\" style=\"display:inline;vertical-align:middle;\" /></a></span>"
      ],
      "text/plain": [
       "{[not](B => A)} |- A => B"
      ]
     },
     "execution_count": 7,
     "metadata": {},
     "output_type": "execute_result"
    }
   ],
   "source": [
    "negatedReflex.instantiate({A:B, B:A})"
   ]
  },
  {
   "cell_type": "code",
   "execution_count": 8,
   "metadata": {},
   "outputs": [
    {
     "data": {
      "text/html": [
       "<strong id=\"AimplB\">AimplB:</strong> <a class=\"ProveItLink\" href=\"../__pv_it/8b52df86786c45166e4e597fabcdbadc8276ac2f0/expr.ipynb\"><img src=\"data:image/png;base64,iVBORw0KGgoAAAANSUhEUgAAAEAAAAAPBAMAAACmSdRUAAAAMFBMVEX///92dnYiIiIQEBBERERU\n",
       "VFS6urqIiIjc3NxmZmaqqqru7u6YmJgyMjLMzMwAAADiRdoGAAAAAXRSTlMAQObYZgAAAO5JREFU\n",
       "GNNjYACBtwxYwNH/kVNdEiDs+9gUMJgwMHD+A7N47m/AIs/3h4GB7SeYuWt+A0LcA8Zg/wHU+h3M\n",
       "PFCfgFDwBMZgMWBg2KwNYrFtWH8AoYBnApTBH8DApwq2exvD+wIQzakEBj+hCt7HHHdaAGYlMPRP\n",
       "QHIc1y0IXd/AwG0Kdm3kzHgHZOfvNQNTziBFICPYGBiYLyDJcwRC/PQVpABkN1ARkwHYDXchoAEe\n",
       "DAzxQO9xABXwfkAYwHYBEQx8X4CMJpCXfyC5ABqqvEBTk70ZGLb8v83A5f8J4Y04CMV6/+vMEC9s\n",
       "UdSAygUACNlBmGjrK1sAAAAASUVORK5CYII=\n",
       "\" style=\"display:inline;vertical-align:middle;\" /></a><br>"
      ],
      "text/plain": [
       "AimplB: A => B"
      ]
     },
     "execution_count": 8,
     "metadata": {},
     "output_type": "execute_result"
    }
   ],
   "source": [
    "AimplB = Implies(A,B)"
   ]
  },
  {
   "cell_type": "code",
   "execution_count": 9,
   "metadata": {},
   "outputs": [
    {
     "data": {
      "text/html": [
       "<strong id=\"AimplBeqT\">AimplBeqT:</strong> <span style=\"font-size:20px;\"><a class=\"ProveItLink\" href=\"../__pv_it/1aa8f774db02e9324f315136bde59af024cdb9980/expr.ipynb\"><img src=\"data:image/png;base64,iVBORw0KGgoAAAANSUhEUgAAAHUAAAAVBAMAAACK3rzVAAAAMFBMVEX///+IiIi6urrc3NxERETM\n",
       "zMwQEBCqqqpUVFQiIiJ2dnYyMjLu7u5mZmaYmJgAAABN0h6tAAAAAXRSTlMAQObYZgAAAcBJREFU\n",
       "OMtjYGDgu8dAMmC9eABE8exCEbUjqI/dAEgwpYKYfB+QJXgcgCL9P+62OGHXGA3EzSDGbRDBNQFZ\n",
       "jhtkKBvQgPsBWPXuB+LTIMZKTL1vQUT8AwYG/QvYtPLtB/qTSwC73skgQh5o+XsBuJgzQvr4faAU\n",
       "TwJWvcxgjhtQPvMAXDAEIf9AXgFIbsKqlxHs0h8MDJE9SA6FO5/pQD3QOwxrgXgZiM+xAUkvC0iK\n",
       "9cc7kelgLu9MMPgLkz7EEA/yymsgfg/ilwXA1CxgYOAsAFn+mYHhWANyjG6HMhQY7EFuqARFCJAR\n",
       "MhnuV6ByNpB3WIBhwfgdOQRPJ0FSU+/dfgdQPIA4nUAXqAWg6+UHMhg/IodglwHEu0AFG6B6uUEO\n",
       "43BA0gt2Myh6OT6B/bsbAiBaGYCSnKD40YT5Fx7OIL3gsAJFb7wDwlomaGgyA/Vyf4CG1TLUOAI6\n",
       "ngsUFNuAylMOIPkWyrYEhQUwHBluYY1fJiCn+3/vDZcCJMFWCHXk/x4Gdv+fQNO34kmTaMAAjc8z\n",
       "Aa43ASMvEACIvICaf1kMCOs9Dc+/DLvQ8z4hAMpXTJDUwn6PtDKHzwBaXgEAR2x7CKGngJgAAAAA\n",
       "SUVORK5CYII=\n",
       "\" style=\"display:inline;vertical-align:middle;\" /></a> <a class=\"ProveItLink\" href=\"../__pv_it/2d21dabaea3c04d9d7bdbf8f44bf9a45aa5b04d80/proof.ipynb\" style=\"text-decoration: none\">&#x22A2;&nbsp;</a><a class=\"ProveItLink\" href=\"../__pv_it/bac898b2d7cd6b51219a90069901b30382d1f0470/expr.ipynb\"><img src=\"data:image/png;base64,iVBORw0KGgoAAAANSUhEUgAAAHoAAAAUBAMAAACwiTT9AAAAMFBMVEX///9UVFTMzMx2dna6uroQ\n",
       "EBCqqqqIiIgiIiJmZmYyMjJERETu7u6YmJjc3NwAAAC+aOQFAAAAAXRSTlMAQObYZgAAAXpJREFU\n",
       "OMtjYOC7wEAI5OGWOg2htLDJXfwvOXG3AwPjA3SJGR0g0MjAsA7CX4/V6GgGBs5PDDwLsEilgwje\n",
       "CWA27/oDWFQw/WVgYPnJwGCOSzcHxFXH5iO5bh+Mwf4PaO53BoajuHS/gLAv1DsgJLRhDO4AoM4e\n",
       "BgYuBxy6K8FMlgP5SEEP9Q0DA78AA1Mj0EvME3Do3gtmHmHQLwDRnOCw7PgJVaEve31HAsg4cLBZ\n",
       "rQKBlci628BMB4b3yMazLYPQ9Q8YeAJB/AYcdoeAw1ZypvwGZKlTYGGGrSATgJYzfcCnm4WBgRU5\n",
       "TvmEITHwEaS7AI9usMuBxnMEgP29CgIewKObQR4Y3iwNCH8vRA81PqBuLiTjWRYgopvpNzzUsNht\n",
       "CY1z7n9IvoamOy6ge1z3gJxkgEO3BzCf/F/DwLb/ByLQhSAU4/qPM6W3gY1RwNTti5RSUQCG0Alc\n",
       "GZR3AgNhYI5TZh9hzVhzKErpgA9wP8ApRUTJdA+XBADZQ2yfK6faCwAAAABJRU5ErkJggg==\n",
       "\" style=\"display:inline;vertical-align:middle;\" /></a></span><br>"
      ],
      "text/plain": [
       "AimplBeqT: {[not](B => A)} |- (A => B) = TRUE"
      ]
     },
     "execution_count": 9,
     "metadata": {},
     "output_type": "execute_result"
    }
   ],
   "source": [
    "AimplBeqT = AimplB.evaluation()"
   ]
  },
  {
   "cell_type": "code",
   "execution_count": 10,
   "metadata": {},
   "outputs": [
    {
     "data": {
      "text/html": [
       "<span style=\"font-size:20px;\"> <a class=\"ProveItLink\" href=\"../../conjunction/_proofs_/trueAndFalseNegated.ipynb\" style=\"text-decoration: none\">&#x22A2;&nbsp;</a><a class=\"ProveItLink\" href=\"../../conjunction/__pv_it/2c0133563043d3ed120a21814f641d23cec1706f0/expr.ipynb\"><img src=\"data:image/png;base64,iVBORw0KGgoAAAANSUhEUgAAAFYAAAAUBAMAAADl6NejAAAAMFBMVEX///+6uroQEBCqqqqIiIgy\n",
       "MjJERETu7u6YmJjMzMxUVFTc3Nx2dnYiIiJmZmYAAAAutVgsAAAAAXRSTlMAQObYZgAAAPdJREFU\n",
       "KM9jYECAHQx4APMGZB57AsPbuyBwC00ZpwGIXI0sxArWaQLjciOMdACRpchq+xhQ1LI+QFXL44Ck\n",
       "9jaq2mnXUdWyKyCUcl9AVbvQBVUtQyBCLcsDFLXsAbxoas8h1LI1oKjlMeAxQFXbCgmmO0AmrwGK\n",
       "Wl4G7gBUtbYQ3i4gZhJAUdvCwLASVe18nGqBoTALp1pUNzA/gEUOXK0sQi2q30DqmB+g+Q0S4yCP\n",
       "o4TZNKg7kNS+QYQZIyQuJKAxASJAscF39+4l3bt3FzAwRGLEMRQIwKxDJMMLGGkHJ0BJO2wb8Kot\n",
       "RUvr+EA2Cg9vHuLYwAAAxXE7tI62KFkAAAAASUVORK5CYII=\n",
       "\" style=\"display:inline;vertical-align:middle;\" /></a></span>"
      ],
      "text/plain": [
       "|- [not](TRUE and FALSE)"
      ]
     },
     "execution_count": 10,
     "metadata": {},
     "output_type": "execute_result"
    }
   ],
   "source": [
    "trueAndFalseNegated"
   ]
  },
  {
   "cell_type": "code",
   "execution_count": 11,
   "metadata": {},
   "outputs": [
    {
     "data": {
      "text/html": [
       "<strong id=\"nTandBimplA\">nTandBimplA:</strong> <span style=\"font-size:20px;\"><a class=\"ProveItLink\" href=\"../__pv_it/1aa8f774db02e9324f315136bde59af024cdb9980/expr.ipynb\"><img src=\"data:image/png;base64,iVBORw0KGgoAAAANSUhEUgAAAHUAAAAVBAMAAACK3rzVAAAAMFBMVEX///+IiIi6urrc3NxERETM\n",
       "zMwQEBCqqqpUVFQiIiJ2dnYyMjLu7u5mZmaYmJgAAABN0h6tAAAAAXRSTlMAQObYZgAAAcBJREFU\n",
       "OMtjYGDgu8dAMmC9eABE8exCEbUjqI/dAEgwpYKYfB+QJXgcgCL9P+62OGHXGA3EzSDGbRDBNQFZ\n",
       "jhtkKBvQgPsBWPXuB+LTIMZKTL1vQUT8AwYG/QvYtPLtB/qTSwC73skgQh5o+XsBuJgzQvr4faAU\n",
       "TwJWvcxgjhtQPvMAXDAEIf9AXgFIbsKqlxHs0h8MDJE9SA6FO5/pQD3QOwxrgXgZiM+xAUkvC0iK\n",
       "9cc7kelgLu9MMPgLkz7EEA/yymsgfg/ilwXA1CxgYOAsAFn+mYHhWANyjG6HMhQY7EFuqARFCJAR\n",
       "MhnuV6ByNpB3WIBhwfgdOQRPJ0FSU+/dfgdQPIA4nUAXqAWg6+UHMhg/IodglwHEu0AFG6B6uUEO\n",
       "43BA0gt2Myh6OT6B/bsbAiBaGYCSnKD40YT5Fx7OIL3gsAJFb7wDwlomaGgyA/Vyf4CG1TLUOAI6\n",
       "ngsUFNuAylMOIPkWyrYEhQUwHBluYY1fJiCn+3/vDZcCJMFWCHXk/x4Gdv+fQNO34kmTaMAAjc8z\n",
       "Aa43ASMvEACIvICaf1kMCOs9Dc+/DLvQ8z4hAMpXTJDUwn6PtDKHzwBaXgEAR2x7CKGngJgAAAAA\n",
       "SUVORK5CYII=\n",
       "\" style=\"display:inline;vertical-align:middle;\" /></a> <a class=\"ProveItLink\" href=\"../__pv_it/3c0fc540f81460aba86ed179c6c928dc04ef9a740/proof.ipynb\" style=\"text-decoration: none\">&#x22A2;&nbsp;</a><a class=\"ProveItLink\" href=\"../__pv_it/72d0b1d80a598a1576d217b07c0bf91df1d913290/expr.ipynb\"><img src=\"data:image/png;base64,iVBORw0KGgoAAAANSUhEUgAAAJYAAAAUBAMAAACdV9kCAAAAMFBMVEX///+6uroQEBCqqqqIiIgy\n",
       "MjJERETu7u6YmJjMzMxUVFTc3Nx2dnYiIiJmZmYAAAAutVgsAAAAAXRSTlMAQObYZgAAAf5JREFU\n",
       "OMullDFIw0AUhv+S1jSmrcXFSdBBB6dOLqI4dNaKOIhDQUEFEUvBboKDLro4dXCxLqIoGnATBAdn\n",
       "KToIotJZVBS0agX1XXLJ3cUUBx9cuPy5fHfvv3cHeGEuIjDq6VL0AJolCwUkbuwoqQML1Fa+9+8m\n",
       "k4EcIwM0EmhXFsfYQ+v3lqPonUDiI5AVeQJ04s1LWrSisiIVSTfegdBXIGv5jR6nQKxfaHFLZRUv\n",
       "JT38SdAXb+yM+E3vo0/IU6dNiMdQWZtpSW+ggflLb2xRSif8zJIgL4eEOKCy9Exc0ptKMK5yPj/s\n",
       "aNEofcRIOBOsaZUVS8VSQt/YXpq1X/lWe9bpSYOlHiXzl/HAPl3T64XKisPM2B1bH7Sgd0mGa8O8\n",
       "E4LJuFoZ6HWUI2rtKmsJ2LE7tj7OeCkJNu8Mx/rjXZXtMxXGRl0WGb0uWDXGkjbd3ONlTp53/Gap\n",
       "OWpkZsRyc2TlhQNW94kRJzhKo3bOUqUcWwVL9Z5xtIrrPSsvoyqWFcrwziG1rOe9c6bgbqnLKvI8\n",
       "HT1C5dU8JbnFy8Ok5WCOpk2cAPfiu7PEEL8UNtkjzfXGbO1xa0JyfocXxNxrDt3ftzTZGjDqP0Nu\n",
       "JN3l+nQnfkkLBC4jqJaVqKcr4Tvb8oFVYuZvlP/Ose+8oCj8zWqwfFP+445eJSss/ADf+4ec2K5a\n",
       "QwAAAABJRU5ErkJggg==\n",
       "\" style=\"display:inline;vertical-align:middle;\" /></a></span><br>"
      ],
      "text/plain": [
       "nTandBimplA: {[not](B => A)} |- [not](TRUE and (B => A))"
      ]
     },
     "execution_count": 11,
     "metadata": {},
     "output_type": "execute_result"
    }
   ],
   "source": [
    "nTandBimplA = BimplAeqF.subLeftSideInto(trueAndFalseNegated)"
   ]
  },
  {
   "cell_type": "code",
   "execution_count": 12,
   "metadata": {},
   "outputs": [
    {
     "data": {
      "text/html": [
       "<strong id=\"not__AimplB_and_BimplA\">not__AimplB_and_BimplA:</strong> <span style=\"font-size:20px;\"><a class=\"ProveItLink\" href=\"../__pv_it/1aa8f774db02e9324f315136bde59af024cdb9980/expr.ipynb\"><img src=\"data:image/png;base64,iVBORw0KGgoAAAANSUhEUgAAAHUAAAAVBAMAAACK3rzVAAAAMFBMVEX///+IiIi6urrc3NxERETM\n",
       "zMwQEBCqqqpUVFQiIiJ2dnYyMjLu7u5mZmaYmJgAAABN0h6tAAAAAXRSTlMAQObYZgAAAcBJREFU\n",
       "OMtjYGDgu8dAMmC9eABE8exCEbUjqI/dAEgwpYKYfB+QJXgcgCL9P+62OGHXGA3EzSDGbRDBNQFZ\n",
       "jhtkKBvQgPsBWPXuB+LTIMZKTL1vQUT8AwYG/QvYtPLtB/qTSwC73skgQh5o+XsBuJgzQvr4faAU\n",
       "TwJWvcxgjhtQPvMAXDAEIf9AXgFIbsKqlxHs0h8MDJE9SA6FO5/pQD3QOwxrgXgZiM+xAUkvC0iK\n",
       "9cc7kelgLu9MMPgLkz7EEA/yymsgfg/ilwXA1CxgYOAsAFn+mYHhWANyjG6HMhQY7EFuqARFCJAR\n",
       "MhnuV6ByNpB3WIBhwfgdOQRPJ0FSU+/dfgdQPIA4nUAXqAWg6+UHMhg/IodglwHEu0AFG6B6uUEO\n",
       "43BA0gt2Myh6OT6B/bsbAiBaGYCSnKD40YT5Fx7OIL3gsAJFb7wDwlomaGgyA/Vyf4CG1TLUOAI6\n",
       "ngsUFNuAylMOIPkWyrYEhQUwHBluYY1fJiCn+3/vDZcCJMFWCHXk/x4Gdv+fQNO34kmTaMAAjc8z\n",
       "Aa43ASMvEACIvICaf1kMCOs9Dc+/DLvQ8z4hAMpXTJDUwn6PtDKHzwBaXgEAR2x7CKGngJgAAAAA\n",
       "SUVORK5CYII=\n",
       "\" style=\"display:inline;vertical-align:middle;\" /></a> <a class=\"ProveItLink\" href=\"../__pv_it/a068ad5b7a9400661025c44e23d30c1b940f74b80/proof.ipynb\" style=\"text-decoration: none\">&#x22A2;&nbsp;</a><a class=\"ProveItLink\" href=\"../__pv_it/f0daa2259c95138d81796808a97a3474ff8049260/expr.ipynb\"><img src=\"data:image/png;base64,iVBORw0KGgoAAAANSUhEUgAAANcAAAAUBAMAAADsL7WcAAAAMFBMVEX///+6uroQEBCqqqqIiIgy\n",
       "MjJERETu7u6YmJjMzMxUVFTc3Nx2dnYiIiJmZmYAAAAutVgsAAAAAXRSTlMAQObYZgAAAnxJREFU\n",
       "SMedljtoFFEUhv9xMjuZ7G5cBLESkkILq220ETRFarMIkiLFBgUVRHaNsF0gRWwMSBot0sQ0ok0y\n",
       "YBcQLbYTREwhiI9tbAKuEWLUBLOee899zYNk8cDP3Ln/fvdx7mMWMFGcYx0S59MVfTJJrqVE8TCP\n",
       "uN9b3bxewVCcqm9ZLy+iGiST5KaUKOq52Glg+A/CmpqQyykvL4ItSEZzMgY7LFGsN/OG+Bvw9oG2\n",
       "aqRjOePlxL1fYKbtVJZjFsXd73bKBVMc2KOWt4EZfn303nLGy0AIL5AlmRmnsxdKFHMTNv3RtGlh\n",
       "hADqIWBzZdxyxstAGBz4AWYCZ00vKVE+mhedDfZAF44+RvSB8luS+QtrZcsZLwPhhE8ZlkypY/2b\n",
       "SsAdLI+J57dPIr7o3yw/nb9dFWOVK12qlqqGM14GCivRtmJI0vxI7xtKQAUvnUHgLLeCiRjhGXr6\n",
       "b+VSocjba8P1MpCH4r5imAPWSaNKiFa7a9MOF17mZF8VjVIb0ZZ4mweeyepR18tAS93NHTDDXKoz\n",
       "Dzjinon11/zcFQ2OaYh2w5LtTHsZiLo8ldOZSSMNsDwiCl+vyJiyxwxrBHsiHT4lOoh1Go2XhnzS\n",
       "OzDjOWnUG6RY5VOv47hzzKIdvUFER35HbxDjpaHn6jpSG4RHTXqjJM5NYc8mf1JfOzTbYzeoMPxK\n",
       "HGmVSmaMl4KKYjKNmBnJqTjJavUm4Tf+mu04tKie9d3uk2uyV1GzIkrjirNeEgobP5s41/vMTLCY\n",
       "e10lPiCZmlm18JyQPCYLzWouexEfHO3ka99MgruldEgkPhXon0lyzsfzoCjkfTz7YJJcn38LFv7j\n",
       "b8EC6x+Vu9KuzagfPQAAAABJRU5ErkJggg==\n",
       "\" style=\"display:inline;vertical-align:middle;\" /></a></span><br>"
      ],
      "text/plain": [
       "not__AimplB_and_BimplA: {[not](B => A)} |- [not]((A => B) and (B => A))"
      ]
     },
     "execution_count": 12,
     "metadata": {},
     "output_type": "execute_result"
    }
   ],
   "source": [
    "not__AimplB_and_BimplA = AimplBeqT.subLeftSideInto(nTandBimplA)"
   ]
  },
  {
   "cell_type": "code",
   "execution_count": 13,
   "metadata": {},
   "outputs": [
    {
     "data": {
      "text/html": [
       "<span style=\"font-size:20px;\"> <a class=\"ProveItLink\" href=\"../_axioms_.ipynb#iffDef\" style=\"text-decoration: none\">&#x22A2;&nbsp;</a><a class=\"ProveItLink\" href=\"../__pv_it/f7ac2e18385869963dda4fdf67ce8c20824572c80/expr.ipynb\"><img src=\"data:image/png;base64,iVBORw0KGgoAAAANSUhEUgAAAXkAAAAVBAMAAABRbIObAAAAMFBMVEX///8QEBCIiIhmZma6urrM\n",
       "zMxUVFQiIiJERETc3Nzu7u6qqqp2dnaYmJgyMjIAAAAcRTyBAAAAAXRSTlMAQObYZgAAA8xJREFU\n",
       "SMfVl09oE0EUxj+TbNNNmrQHUUGRgAe9aAuFetOoB0VQ40U8aUALRRQrQgtWUU+2/iF7qoJgVxQs\n",
       "FarQi15U9CBakaCgFFEiHqQKtjRaa6XW+fdmk+0kTVsvfvC1Yd/8Zt/OvJnZBcrJzkrPovv/jqyQ\n",
       "Ief4hfclGvYqM+0zxd9MH2jqTKLK+WdkrxczyWLpcoY8yC9+KZH9sDLTiLHBMiD4A5HcgkmngFMx\n",
       "k+KjEAz5Cp+uM+bkYw3S/OeIaxqKKSCUBx4vmPzkcTpm0IdJSEY5zvquuWvOPuxIM93eqEYnzryH\n",
       "GgR+sRuOAdcrIbm6SpDWOVdzOqZU7fGRARYSjHLseV/f5RKFc1mZKVuvCnEt7y9FHdexPk6wR0pW\n",
       "QHLthZms2pzQnI7RNHmVEQt8h2TIE52dJ0tkv0qZTaT7MOt1FaF1UpuG1cYnr2F20qsMA9mPVs3p\n",
       "GOm1/rU9yopKMORmmk/5d1v+SQtN1SVl4Cb2y8HZvbSdaaXqe/+RV+d41cX44qv5JtRgJoPtQlTO\n",
       "RSTfOwb1HXUMWC+Y0/TIkaQ1phjyFrXwY9/l6NShpk617lAGkugRXQQOyRm4IBvUO4gsYf+jrb6x\n",
       "n0kqRb8ayVZc05yOaT1Q6zIEO68YchgBMbU3pkSLYBrRSUUtVoZ1oPGoKJk2WpWyFs/ye7GurVFf\n",
       "9jNIrf7FBjKWQFWKOB3zFutHuTr2NDZNQDLkmmxYhJ4fl3klEMz5cwgBi8TF7keyu8OywTi/T6Jc\n",
       "9pqks/SwYyDDLqy0zp5iWt3PoOYRK33Z2zmxAVqJTtHiTgrrXP/8s4EIy3J6K2r7c0pv2jjK+gy1\n",
       "enWfNpNBGf3mGEgM0DnVURgDNkhGHXtR5mOQDBldB8WehfWiya61a9LwrVr7rjzlaNOIDHubtjXh\n",
       "rT1PBlJWbs5IDqsnEIyOkXaq/1fVwV24ajEgHv8d6kWTl8Bqwp4o8124+pe8xh81qIoyzkZ103l+\n",
       "4ZEvexMpqt41kWIbDruK0TGqerU/2zzPjCMZMmp5iUU+vciIni8CPbRitkr3Tn9BNPOTdmb5dsGn\n",
       "a2S8sUXsPvGUL3sTydVsJKt4mQQSkvFiSnI9I5L54+Le9HHJkBHjWQdd9IhWv1nxODPPe2/ZMff5\n",
       "j7VbZd4UiuQYyZD4mYKZsU3MraK77mBzkLXPw56EvcLwrlVe5d7S5kRWzDwuZKsnYGdOWcvxNN/Y\n",
       "kix6qeqavTvDG/J8yQoZcpGipb8xyqm67NfJnMgKGXLZD7UKv++G5v1lODSPL8OhAhcpi/9LfwF9\n",
       "GoUpN6fzvwAAAABJRU5ErkJggg==\n",
       "\" style=\"display:inline;vertical-align:middle;\" /></a></span>"
      ],
      "text/plain": [
       "|- forall_{A, B} ((A <=> B) = ((A => B) and (B => A)))"
      ]
     },
     "execution_count": 13,
     "metadata": {},
     "output_type": "execute_result"
    }
   ],
   "source": [
    "iffDef"
   ]
  },
  {
   "cell_type": "code",
   "execution_count": 14,
   "metadata": {},
   "outputs": [
    {
     "data": {
      "text/html": [
       "<strong id=\"iffDefSpec\">iffDefSpec:</strong> <span style=\"font-size:20px;\"> <a class=\"ProveItLink\" href=\"../__pv_it/6e226db922fef81a3339b703ecddcbb86f02738f0/proof.ipynb\" style=\"text-decoration: none\">&#x22A2;&nbsp;</a><a class=\"ProveItLink\" href=\"../__pv_it/63af5f3c2f364b33f7f867fa32c28001974860380/expr.ipynb\"><img src=\"data:image/png;base64,iVBORw0KGgoAAAANSUhEUgAAATEAAAAUBAMAAAAXXRdqAAAAMFBMVEX///9UVFTMzMx2dna6uroQ\n",
       "EBCqqqqIiIgiIiJmZmYyMjJERETu7u6YmJjc3NwAAAC+aOQFAAAAAXRSTlMAQObYZgAAA5pJREFU\n",
       "SMedVk1IVFEUPu81zozNT5Ir+9N2kYtxVdgiZhNFBBlMELmZZRbUtJQWMwWK/VAjQWQbLTJIRCUq\n",
       "hDInyJBxM60iIXttQoIoQzIztXvPuX++eY0zHjnznvfc753v3HvuORcgWoD15LzH2DehFSLL8OZ3\n",
       "BG6K/t/rNendal33izhYTpElPELKxO7zQEbq53q2Py1GTmmbp3Aau4BwQzQ07DmxFaD6J4SLfW92\n",
       "SPnrDy9kFaPd26CQkuGQtnk65DTygB4jWYpxOOcxz14G8C0C7C+yfBDKZPqvl4sY27bjWYV8LJYy\n",
       "a9i8lprT2JRCj0GK5m2vjIqxtWvEe2CFTV4AmCj6xE2hLLy2FT38Sr2l2fc+pSTSHqXAyZuwCQkZ\n",
       "O440wi3ocZaGCum4IMNT9IkE8Tk32IbF3YmcIeVhBub1eKN6e8Y8nMpJpHWYiMyaNrkxIxpPNB6i\n",
       "x3Yc8eUuFIxv5wVsSw3Yl/n6upc+kCVlcsy/bOyGmjgHsGeHQuaBwmg3bWZmgEmjGXFjOPQGYhSU\n",
       "fbKLScegSJad70eT3CEm8oEBLpgxoQIpCz5uL/BndRfKolyIuY+XOhUS9rE/LmOmDeAuYm6pcASN\n",
       "acTRlDh8J/NFWq3GpEyW8AleYjKuNQsmSVmYEF00i9EjnaETNQqZga/47DRtSs4mxYugcQZxCYyi\n",
       "rqced3tSAq7LhIA0g9nuwlAVJwXY3dO9ZFryCZWhgV8SGUmBhVUiYdp0ceynbJQ0YohLUOBQhcse\n",
       "raW5r5tkQkA6VZIZ+zltHo1aR2YoBBYkMpgT5z1h2pR8PijSTNAgZri+fG9aKIWvYTJdUeUM6plv\n",
       "X0bn2f01u+ln2oF5NkDi6HJmzUtkm6yxnaYN4B5hRLFXNI4gjudkNKkrOR6UvKOSxV7SeaxFnYAv\n",
       "a9uHr88oZ7ERiRwS7OgESJuUo3K9JQ06Ac2iyoREvbT4Ht0RLYgFcOglX5AmFzNeDLhiTRvXpVKW\n",
       "G+hnLFtzAokVK5ijeqBtMstEIdA0biOOrdzU6iD4x3/T4eQdK0oBWcOs8z5Hiu4mxzeJaXj8Tw7O\n",
       "rV5V41vFcxu/CiQlEqMNpGiftE2IJT6uaTxAXNB9G+Dtwd1DJ0t0JzfYA+nD1wbVnVz9pOgek0Fc\n",
       "JAvrS8mOXgmyLG+ioxtN+L/icQvibTjkVI4sw5u8BcmbYykJlbw5VoQswxtnj7gy7r8zG75tz2zg\n",
       "th1xEPcPr/tEHfZflmoAAAAASUVORK5CYII=\n",
       "\" style=\"display:inline;vertical-align:middle;\" /></a></span><br>"
      ],
      "text/plain": [
       "iffDefSpec: |- (A <=> B) = ((A => B) and (B => A))"
      ]
     },
     "execution_count": 14,
     "metadata": {},
     "output_type": "execute_result"
    }
   ],
   "source": [
    "iffDefSpec = iffDef.instantiate({A:A, B:B})"
   ]
  },
  {
   "cell_type": "code",
   "execution_count": 15,
   "metadata": {},
   "outputs": [
    {
     "data": {
      "text/html": [
       "<span style=\"font-size:20px;\"><a class=\"ProveItLink\" href=\"../__pv_it/1aa8f774db02e9324f315136bde59af024cdb9980/expr.ipynb\"><img src=\"data:image/png;base64,iVBORw0KGgoAAAANSUhEUgAAAHUAAAAVBAMAAACK3rzVAAAAMFBMVEX///+IiIi6urrc3NxERETM\n",
       "zMwQEBCqqqpUVFQiIiJ2dnYyMjLu7u5mZmaYmJgAAABN0h6tAAAAAXRSTlMAQObYZgAAAcBJREFU\n",
       "OMtjYGDgu8dAMmC9eABE8exCEbUjqI/dAEgwpYKYfB+QJXgcgCL9P+62OGHXGA3EzSDGbRDBNQFZ\n",
       "jhtkKBvQgPsBWPXuB+LTIMZKTL1vQUT8AwYG/QvYtPLtB/qTSwC73skgQh5o+XsBuJgzQvr4faAU\n",
       "TwJWvcxgjhtQPvMAXDAEIf9AXgFIbsKqlxHs0h8MDJE9SA6FO5/pQD3QOwxrgXgZiM+xAUkvC0iK\n",
       "9cc7kelgLu9MMPgLkz7EEA/yymsgfg/ilwXA1CxgYOAsAFn+mYHhWANyjG6HMhQY7EFuqARFCJAR\n",
       "MhnuV6ByNpB3WIBhwfgdOQRPJ0FSU+/dfgdQPIA4nUAXqAWg6+UHMhg/IodglwHEu0AFG6B6uUEO\n",
       "43BA0gt2Myh6OT6B/bsbAiBaGYCSnKD40YT5Fx7OIL3gsAJFb7wDwlomaGgyA/Vyf4CG1TLUOAI6\n",
       "ngsUFNuAylMOIPkWyrYEhQUwHBluYY1fJiCn+3/vDZcCJMFWCHXk/x4Gdv+fQNO34kmTaMAAjc8z\n",
       "Aa43ASMvEACIvICaf1kMCOs9Dc+/DLvQ8z4hAMpXTJDUwn6PtDKHzwBaXgEAR2x7CKGngJgAAAAA\n",
       "SUVORK5CYII=\n",
       "\" style=\"display:inline;vertical-align:middle;\" /></a> <a class=\"ProveItLink\" href=\"../__pv_it/b95a0131531d32e68c2a281944f78565384a800b0/proof.ipynb\" style=\"text-decoration: none\">&#x22A2;&nbsp;</a><a class=\"ProveItLink\" href=\"../__pv_it/c61df3b97be2f409be6da1843de00fa44c8333570/expr.ipynb\"><img src=\"data:image/png;base64,iVBORw0KGgoAAAANSUhEUgAAAF8AAAAUBAMAAAAZ/fxpAAAAMFBMVEX///+6uroQEBCqqqqIiIgy\n",
       "MjJERETu7u6YmJjMzMxUVFTc3Nx2dnYiIiJmZmYAAAAutVgsAAAAAXRSTlMAQObYZgAAAYVJREFU\n",
       "KM9jYIAD7gYGQsAahVcGoaZiU9n1f92rNAEGrg3IgtEQKh6r2WoMDHw/GdgDkIQ4HkCo+AIs6jl/\n",
       "MDAw/mNgOIIkxguxrvg91FpWIJ4Fk2T5DTTqCwNDEZKGvRCqwV8AwvAAYrYJUEk2BaDi60BTBBAa\n",
       "/MAkY4E9JLA4E4AEezhUkn8BA+ctoFt5HiA0ZIDJQob5DmDGJN27QKAK9dD8FS25BiAfBjC8BYnf\n",
       "AbIvg2UEGPaDDWFZDrEnGaLBfwMDuxaQZr4A4e8CYkWwgnXv1oPdcgsWFAlgKgmkCWgF5wc0DYwM\n",
       "DEzgsN51ACzBvgai4BdIgwOqBrCTgIbwKoCFekNBIHYCPBoY1gNDiBHJSSBPcwM1sH5AxCN7NCIa\n",
       "OL9BPA0xAYjPQeOC7TdEbCEQ8xlAIxFoq1A6SOAAIlhlgcnvfzgDc/5fSFiXAvE2iBRX/K93y8Dh\n",
       "xToBI2kgUjsQl6OnqVrMxIcfICc+hmzC6lGSNywD4QNsKM4mIot2MzAAAKvjXssVpN7aAAAAAElF\n",
       "TkSuQmCC\n",
       "\" style=\"display:inline;vertical-align:middle;\" /></a></span>"
      ],
      "text/plain": [
       "{[not](B => A)} |- [not](A <=> B)"
      ]
     },
     "execution_count": 15,
     "metadata": {},
     "output_type": "execute_result"
    }
   ],
   "source": [
    "iffDefSpec.subLeftSideInto(not__AimplB_and_BimplA)"
   ]
  },
  {
   "cell_type": "code",
   "execution_count": 16,
   "metadata": {},
   "outputs": [
    {
     "data": {
      "text/html": [
       "<table><tr><th>&nbsp;</th><th>step type</th><th>requirements</th><th>statement</th></tr>\n",
       "<tr><td><a name=\"0x60a756fc41bf909e_step0\">0</a></td><td>generalizaton</td><td><a href=\"#0x60a756fc41bf909e_step1\">1</a></td><td><span style=\"font-size:20px;\"> <a class=\"ProveItLink\" href=\"../__pv_it/31fbc29608a7abc6b7bf6b8640425bc495080c520/proof.ipynb\" style=\"text-decoration: none\">&#x22A2;&nbsp;</a><a class=\"ProveItLink\" href=\"../__pv_it/09cf11a078c11b816df0a20ff263aef7159aae7d0/expr.ipynb\"><img src=\"data:image/png;base64,iVBORw0KGgoAAAANSUhEUgAAAPcAAAAWBAMAAADuuhdHAAAAMFBMVEX///8QEBCIiIhmZma6urrM\n",
       "zMxUVFQiIiJERETc3Nzu7u6qqqp2dnaYmJgyMjIAAAAcRTyBAAAAAXRSTlMAQObYZgAAA0VJREFU\n",
       "SMe1Vl9IU1EY/7zbdPfebdpTQRGjoKQwhYWCBQ6CkCAcPZgPkYMSLKImEf2zWFAwI9ieTIjwipDg\n",
       "gwlG5JvUQ2IRF3qKMic91UOJKzOj7DvnO3c7u7tXodUH3935ne9yft/5/t0B/BO57wocZVJoloHZ\n",
       "Mrm1ZCnwZR1eDJ5binTfhMoMcH3B9j6VSR7KlILQgtObFehZS0xDx5gO4I6aLJP8tQN4v+L0ZqcJ\n",
       "0NYAT3GJGjIAAuNlkl8uBdrED4Hxhr64ZazHsMyFYQiXqMGZ0dG7ZXKriVIQVL4SVvCucMuy3kC3\n",
       "NhoQigLX5VSqd/3jnbdj4vwGaU+AQ/ovwh3sMWYI6xLA0dMY6wbSLoA+vk/P1tyzbl4xXpllSjJY\n",
       "4s/AI7Ey5W0OtKhvkYp+w0WUHlHSvqXZ2qssLlnSA7zucE1hCtZAoIYfIh3I2iJvsGQuCh7ypgpr\n",
       "polx9ArAXFdz3LaD7txBZaVgIQxhAegJ0irKCgxTmDxx0Ffs5Mdkg9XOLSZoVEgVUbHXnwftkcZl\n",
       "9jtildolCgu6r/zECCyQBswqvj9znm4RBk/WTt4lG3QKcmAEc/bRjRwfW3mxnCHLgyn+U42+KIsF\n",
       "cjXbzrMRTnHzwxjsMezkCdkAp/jziB+nQ10+7HlyDnTUHkrj9c9MLhTavBLz602QQt9JnlZo4ua2\n",
       "ulqKlN/WPdwQSKHM87vFPbj7uLjg+i1wD/WLNHPGMoU270wWCg4meGO+hXpufgWwUyKfRrKsNykb\n",
       "ALYje3BcwbC1UgasVvMJwL1NE2Elc3WfeGEeL7wJ4+eZIoXqMCufDy/TPKh3AAbHi28e98ZlAyYQ\n",
       "O3Vs/zSW33GOvfKQQaClfxvwZJWKiPWSNb/Prp5oTLFDQjFSCDJSjwGDfGRgKbZlbOS+pGVQIiiN\n",
       "zQibQf0GcNB1vBYET9MM296IUJLDGAFTvQ3qCqhbbDmPa3gzYRhF2cbuh5nF3nzn/mFZU8SHRYyl\n",
       "ZVDT13yb4Xku0h21kWfgCkgGlSUhnYSB7ybszQ+7osm37vdffFKLRJfPkNa73eZ81v3PxFrC/Cvx\n",
       "cdKF3O9yiG7+3d+oN0KLxHQh9JrOhwzDfxKPW0gk2VUexR+PV/DDQQI2/QAAAABJRU5ErkJggg==\n",
       "\" style=\"display:inline;vertical-align:middle;\" /></a></span></td></tr>\n",
       "<tr><td><a name=\"0x60a756fc41bf909e_step1\">1</a></td><td>instantiation</td><td><a href=\"#0x60a756fc41bf909e_step2\">2</a>, <a href=\"#0x60a756fc41bf909e_step3\">3</a>, <a href=\"#0x60a756fc41bf909e_step4\">4</a></td><td><span style=\"font-size:20px;\"><a class=\"ProveItLink\" href=\"../__pv_it/1aa8f774db02e9324f315136bde59af024cdb9980/expr.ipynb\"><img src=\"data:image/png;base64,iVBORw0KGgoAAAANSUhEUgAAAHUAAAAVBAMAAACK3rzVAAAAMFBMVEX///+IiIi6urrc3NxERETM\n",
       "zMwQEBCqqqpUVFQiIiJ2dnYyMjLu7u5mZmaYmJgAAABN0h6tAAAAAXRSTlMAQObYZgAAAcBJREFU\n",
       "OMtjYGDgu8dAMmC9eABE8exCEbUjqI/dAEgwpYKYfB+QJXgcgCL9P+62OGHXGA3EzSDGbRDBNQFZ\n",
       "jhtkKBvQgPsBWPXuB+LTIMZKTL1vQUT8AwYG/QvYtPLtB/qTSwC73skgQh5o+XsBuJgzQvr4faAU\n",
       "TwJWvcxgjhtQPvMAXDAEIf9AXgFIbsKqlxHs0h8MDJE9SA6FO5/pQD3QOwxrgXgZiM+xAUkvC0iK\n",
       "9cc7kelgLu9MMPgLkz7EEA/yymsgfg/ilwXA1CxgYOAsAFn+mYHhWANyjG6HMhQY7EFuqARFCJAR\n",
       "MhnuV6ByNpB3WIBhwfgdOQRPJ0FSU+/dfgdQPIA4nUAXqAWg6+UHMhg/IodglwHEu0AFG6B6uUEO\n",
       "43BA0gt2Myh6OT6B/bsbAiBaGYCSnKD40YT5Fx7OIL3gsAJFb7wDwlomaGgyA/Vyf4CG1TLUOAI6\n",
       "ngsUFNuAylMOIPkWyrYEhQUwHBluYY1fJiCn+3/vDZcCJMFWCHXk/x4Gdv+fQNO34kmTaMAAjc8z\n",
       "Aa43ASMvEACIvICaf1kMCOs9Dc+/DLvQ8z4hAMpXTJDUwn6PtDKHzwBaXgEAR2x7CKGngJgAAAAA\n",
       "SUVORK5CYII=\n",
       "\" style=\"display:inline;vertical-align:middle;\" /></a> <a class=\"ProveItLink\" href=\"../__pv_it/b95a0131531d32e68c2a281944f78565384a800b0/proof.ipynb\" style=\"text-decoration: none\">&#x22A2;&nbsp;</a><a class=\"ProveItLink\" href=\"../__pv_it/c61df3b97be2f409be6da1843de00fa44c8333570/expr.ipynb\"><img src=\"data:image/png;base64,iVBORw0KGgoAAAANSUhEUgAAAF8AAAAUBAMAAAAZ/fxpAAAAMFBMVEX///+6uroQEBCqqqqIiIgy\n",
       "MjJERETu7u6YmJjMzMxUVFTc3Nx2dnYiIiJmZmYAAAAutVgsAAAAAXRSTlMAQObYZgAAAYVJREFU\n",
       "KM9jYIAD7gYGQsAahVcGoaZiU9n1f92rNAEGrg3IgtEQKh6r2WoMDHw/GdgDkIQ4HkCo+AIs6jl/\n",
       "MDAw/mNgOIIkxguxrvg91FpWIJ4Fk2T5DTTqCwNDEZKGvRCqwV8AwvAAYrYJUEk2BaDi60BTBBAa\n",
       "/MAkY4E9JLA4E4AEezhUkn8BA+ctoFt5HiA0ZIDJQob5DmDGJN27QKAK9dD8FS25BiAfBjC8BYnf\n",
       "AbIvg2UEGPaDDWFZDrEnGaLBfwMDuxaQZr4A4e8CYkWwgnXv1oPdcgsWFAlgKgmkCWgF5wc0DYwM\n",
       "DEzgsN51ACzBvgai4BdIgwOqBrCTgIbwKoCFekNBIHYCPBoY1gNDiBHJSSBPcwM1sH5AxCN7NCIa\n",
       "OL9BPA0xAYjPQeOC7TdEbCEQ8xlAIxFoq1A6SOAAIlhlgcnvfzgDc/5fSFiXAvE2iBRX/K93y8Dh\n",
       "xToBI2kgUjsQl6OnqVrMxIcfICc+hmzC6lGSNywD4QNsKM4mIot2MzAAAKvjXssVpN7aAAAAAElF\n",
       "TkSuQmCC\n",
       "\" style=\"display:inline;vertical-align:middle;\" /></a></span></td></tr>\n",
       "<tr><td>&nbsp;</td><td colspan=4 style=\"text-align:left\"><span style=\"font-size:20px;\"><a class=\"ProveItLink\" href=\"../__pv_it/6adf35e534b0f74f25bdd03c03dfd88a84b3ace50/expr.ipynb\"><img src=\"data:image/png;base64,iVBORw0KGgoAAAANSUhEUgAAADcAAAAUBAMAAADbzbjtAAAAMFBMVEX///8iIiLc3Ny6urqIiIiq\n",
       "qqp2dnbMzMwQEBDu7u5mZmYyMjJERERUVFSYmJgAAAA4CJ/KAAAAAXRSTlMAQObYZgAAAQ1JREFU\n",
       "KM9jYIADpgcMyCAITL79f/burgkMDHNQ5Bh4FcDUbwYGnk4Ghk2okpwbQCT7NwYG1i8MfAtQJRlS\n",
       "QATLZyD+xsCogCY5A0TwfABa8JlBEU2OgdsASPADDddfwOCF5O5lS4BuYAPZU5/AwCrGwHAOIWmh\n",
       "wA00jQ/kIv9raUuAPhFFuLOPgesA0JECQPb5CWChZrgk108GRgegL4C6GT4yoElyHGCYXwCRZP8F\n",
       "EUIYOz+BIR5IMQtAvAkCCAfND2C4zaoAdhD3T4hQFlySx4FPlg1odQID1/6/DmAhQ6BBZ4DgJAPn\n",
       "FXddZ6CuAoTnMIJvIhIbe8DDwCFsUQYDaJHNg2INWjJ5xMAAAHA6PhPQZp1jAAAAAElFTkSuQmCC\n",
       "\" style=\"display:inline;vertical-align:middle;\" /></a> : <a class=\"ProveItLink\" href=\"../__pv_it/7d898857db4284d8c4e8f03d0669630b110879700/expr.ipynb\"><img src=\"data:image/png;base64,iVBORw0KGgoAAAANSUhEUgAAACYAAAAJBAMAAACs6UN+AAAAMFBMVEX///+qqqqYmJgyMjIQEBCI\n",
       "iIju7u5ERES6urrMzMxUVFTc3Nx2dnYiIiJmZmYAAABfZT8pAAAAAXRSTlMAQObYZgAAAFZJREFU\n",
       "CNdjYEAF+86FJKAJcXgz2DMwvL0LBHdgYikKDM+hzF0wsfcJDFfRxdwZ2H6iibH9YWD8gC72kYHL\n",
       "QBrC5oTpLWXQXXAAxmkvB4IEhqzQ2UsbAHspGlmWv5xzAAAAAElFTkSuQmCC\n",
       "\" style=\"display:inline;vertical-align:middle;\" /></a>, <a class=\"ProveItLink\" href=\"../../../../__pv_it/72df168d2bfb4e0140af90912ebf83b13772060b0/expr.ipynb\"><img src=\"data:image/png;base64,iVBORw0KGgoAAAANSUhEUgAAAAsAAAAJBAMAAAAWSsseAAAALVBMVEX///9mZmaqqqrMzMxEREQy\n",
       "MjIiIiKYmJh2dna6urrc3NxUVFSIiIju7u4AAACJHQtQAAAAAXRSTlMAQObYZgAAAEJJREFUCNdj\n",
       "YLhzeuWJAwy8Dew5bAEMHBc43nIuYOBlYHFgAAG+A2DKzgBIMF04x8BzgWGegh/DcgaG22fuiBcw\n",
       "AAATyhBrnyPYZQAAAABJRU5ErkJggg==\n",
       "\" style=\"display:inline;vertical-align:middle;\" /></a> : <a class=\"ProveItLink\" href=\"../__pv_it/639412fc83dccc0c825a7f4479a7068ed18b18c70/expr.ipynb\"><img src=\"data:image/png;base64,iVBORw0KGgoAAAANSUhEUgAAAEAAAAAPBAMAAACmSdRUAAAAMFBMVEX///92dnYiIiIQEBBERERU\n",
       "VFS6urqIiIjc3NxmZmaqqqru7u6YmJgyMjLMzMwAAADiRdoGAAAAAXRSTlMAQObYZgAAAQpJREFU\n",
       "GNNjYACBtwxYwNH/kVNdEiDs+9gUMJgwMHD+A7N47m/AIs/3h4GB7SeYuWt+A1TwAlA8AMpm/wHU\n",
       "+h3MPFAPtYr9AJDwgypgMWBg2KwNYrFtWH8AIvYEROyF2scfwMCnCmZvY3hfALHVWAkIlG9DFLyP\n",
       "Oe60AMxKYOifAGaUQvQ+gQjXNzBwm4L1Rc6MdwAxNsGcpwImnUGKQGrZGBiYL4BEOAIh8lsFwNRX\n",
       "kAKQ3UBFTAaQ8NC9CwJ68GBgiAd6jwOogPcDRO9JsC8a4MHA9wXIaAJ5+QdEASsoPGZB2LxAU5O9\n",
       "GRi2/L/NwOX/CeINbqBbOBwgau9/nRnihRH+QNO5UeMFAE9FRwBt4bk1AAAAAElFTkSuQmCC\n",
       "\" style=\"display:inline;vertical-align:middle;\" /></a>, <a class=\"ProveItLink\" href=\"../../../../__pv_it/c6e291955561f22a0e6708fd793ea93f1c7dbb5d0/expr.ipynb\"><img src=\"data:image/png;base64,iVBORw0KGgoAAAANSUhEUgAAAAsAAAANBAMAAACN24kIAAAAMFBMVEX///8iIiKYmJhUVFTMzMxE\n",
       "REQyMjKqqqq6urp2dnYQEBDc3NxmZmaIiIju7u4AAACH5sGpAAAAAXRSTlMAQObYZgAAAFlJREFU\n",
       "CNdj4LtzgWHXAwZOjgUM9xkYtvMkMIQyMDzgusDwl4GBof8ByxcgdYyBdwGQCmZgNQBShxn6FYDU\n",
       "47vnNzAwgGUZGJgT+H4AKUYF1gtAiuPuESAJAJGkFvXVdzA+AAAAAElFTkSuQmCC\n",
       "\" style=\"display:inline;vertical-align:middle;\" /></a> : <a class=\"ProveItLink\" href=\"../__pv_it/502a0e2beda363613f57dcbceb41b51971081e900/expr.ipynb\"><img src=\"data:image/png;base64,iVBORw0KGgoAAAANSUhEUgAAALUAAAAUBAMAAAA5PWHRAAAAMFBMVEX///9UVFTMzMx2dna6uroQ\n",
       "EBCqqqqIiIgiIiJmZmYyMjJERETu7u6YmJjc3NwAAAC+aOQFAAAAAXRSTlMAQObYZgAAAl9JREFU\n",
       "OMudVTFoFEEUfbuud5vc3iVoFUQSWy1iZUgTrpEEsYhwlTZpo6DXpkosPBQEL13Oxm0UDOEujRLQ\n",
       "5K5QkVwTK9FC1kaCjYkIMUZzzvw/szteBm7xHcfMnzdv/p//Z3aAwhZ64Wb3QFpNm/tnbRPedYYW\n",
       "XxThRF3j7YSzwQ3BmjrbDeusa0DfdwShMrWPesLZ0L8D0uSrZOYbLVsAfwBvHxhT9lNuSKM5Cz7+\n",
       "Bml8juXNI2PfG7qTPRQL7QGvlas1DoA0mlPIJfpgVlBSs8321ryRunOxYFrMuS82yaQzWaZ22+T0\n",
       "Flfjbj77A6SZI9Nr3TJKr/IEDAzCvS1iPcYDm1igds7kND7EvcsZkS6pWSfzFUYppL67BJ3G0dPv\n",
       "12akMy7mBfGTWDc5YIk0D3RAQdHdY02F7CK+VY1iZJ5wOx8huCJtjncBX6mtmFyM6+wJHgr7rClR\n",
       "soZqw6vmvE0axjO5hpC4O5SqMpwR2SmZXFLCx1yVM7XFA5CmxK5wPDTv3Umu+q7Ul/XafgvuYLy2\n",
       "5mJ8noDKAa7y2rQ/4d6fpnwvM6L4eGNYzPUoJ7P61lRMDnjIGnUJM+J/B6SRdSnM8F3S8MLkeLsH\n",
       "cS3ran3SxJzGJdV+UZdcaMbVec0dGtlWR6tf7OXiS7md8/oE+5IaNzmd7RWVTrnFZkSaKfHl6awg\n",
       "0/yZHJQT3DiN3dqp5+REltCRCcjKDE+ZnAJXGUHzVws3OvdI40dHvwdHht6qgguMAFZNwaLJV9Eb\n",
       "Y/+aqTUbvacFYddAWk2797yc7W1Io0nxPn36jzdNaP4C8jTBYUc5oRQAAAAASUVORK5CYII=\n",
       "\" style=\"display:inline;vertical-align:middle;\" /></a></span></td></tr><tr><td><a name=\"0x60a756fc41bf909e_step2\">2</a></td><td>theorem</td><td></td><td><span style=\"font-size:20px;\"> <a class=\"ProveItLink\" href=\"../../../equality/_proofs_/subLeftSideInto.ipynb\" style=\"text-decoration: none\">&#x22A2;&nbsp;</a><a class=\"ProveItLink\" href=\"../../../equality/__pv_it/b3dff94cc894a8e233b57c1e58c1052fe6c79fa70/expr.ipynb\"><img src=\"data:image/png;base64,iVBORw0KGgoAAAANSUhEUgAAAL8AAAAWBAMAAABj11ATAAAAMFBMVEX///8QEBCIiIhmZma6urrM\n",
       "zMxUVFQiIiJERETc3Nzu7u6qqqp2dnaYmJgyMjIAAAAcRTyBAAAAAXRSTlMAQObYZgAAAthJREFU\n",
       "SMe1VU1oE0EU/rruTzbZJl48eQkWSgkFcxFUREKFqmA19SDeDMEWKrXtoR4sKvGWCrW5WQRxBalY\n",
       "PAQ8iIK41IMQg0YURFDYs1C7KEpbi/rmp5vdJhHF+GD3zXxvZr43782bAf6H3JD6IX0ua3xoz7qd\n",
       "4yvDY3uBaEECegl4zhof2+R5gty9bCNekv0o9edIm4U2EZxygCdJvPaBRSBuA1a5TQQ7M/Q5OO8D\n",
       "tyhulYWFa+1K7ix94xlzwgfixLhSLF74w/k8tNpvBvygcH+Bkqbo7xjpo/hY1BwCpgF1dnT3mcYZ\n",
       "Gf6XRot3YpmW62vrwAMHkRpwD2+Tlyg+lOUDPNd4BTxrnCKzL4wjorOnJYHyrfo0BRiU0gpe2ofJ\n",
       "G4qWAYUYMUzpaUnAjZojOvMtCSJrXHXQHm0U+Z482njNYM2LEFBTAm7UszJxpZZlMOETAJ83CEz3\n",
       "BCuJVShT7ODu6qZ11G4Ydp1AGMmPvhymxIatruNDclkOijJIc8VCBO0rzx6jnD7NWuu9rKYVe8wg\n",
       "fithDwZ2IIx0mJ01bStiOYJSujupF0lmBOiXAYsUefBI8ZASScZ9xmK54hxgianrB9ETIBDGQzBv\n",
       "TygFqAzMxmtyAwLksmyL4Wmo3yOeSSO2sLwlkow1Lcev8v8+5AMEwtjPxutJaJwu4WeCg0z2/xST\n",
       "KC7RfKqL3aBxlrdOxpuQt4Xm8UKaxLYAgTCepOhmOrJQczzeyOqfSJYEGJL6VXGnfk0xh+bsm5Zr\n",
       "kcI51QsQcCMbbGSPkUOOecX0XkCeWgGGJHTZyRJZZuUzWJ5/s1ghhf4et04gjOxcqfmrFJKMtj16\n",
       "9kivLedyMFwPwes6JDJO5WgpUgvWgXCijLuYobhSgQYncTAk/oMT2VQysZJUunMUDQTUGVXJpcfi\n",
       "KfSFg82fzHebn7wNpb53mhAMYKBK7tGRqoXg6j9c8OnGDSr2X63wC2jlxTKsC1d/AAAAAElFTkSu\n",
       "QmCC\n",
       "\" style=\"display:inline;vertical-align:middle;\" /></a></span></td></tr>\n",
       "<tr><td>&nbsp;</td><td colspan=4 style-\"text-align:left\"><a class=\"ProveItLink\" href=\"../../../equality/_proofs_/subLeftSideInto.ipynb\">proveit.logic.equality.subLeftSideInto</a></td></tr><tr><td><a name=\"0x60a756fc41bf909e_step3\">3</a></td><td>instantiation</td><td><a href=\"#0x60a756fc41bf909e_step5\">5</a>, <a href=\"#0x60a756fc41bf909e_step6\">6</a>, <a href=\"#0x60a756fc41bf909e_step7\">7</a></td><td><span style=\"font-size:20px;\"><a class=\"ProveItLink\" href=\"../__pv_it/1aa8f774db02e9324f315136bde59af024cdb9980/expr.ipynb\"><img src=\"data:image/png;base64,iVBORw0KGgoAAAANSUhEUgAAAHUAAAAVBAMAAACK3rzVAAAAMFBMVEX///+IiIi6urrc3NxERETM\n",
       "zMwQEBCqqqpUVFQiIiJ2dnYyMjLu7u5mZmaYmJgAAABN0h6tAAAAAXRSTlMAQObYZgAAAcBJREFU\n",
       "OMtjYGDgu8dAMmC9eABE8exCEbUjqI/dAEgwpYKYfB+QJXgcgCL9P+62OGHXGA3EzSDGbRDBNQFZ\n",
       "jhtkKBvQgPsBWPXuB+LTIMZKTL1vQUT8AwYG/QvYtPLtB/qTSwC73skgQh5o+XsBuJgzQvr4faAU\n",
       "TwJWvcxgjhtQPvMAXDAEIf9AXgFIbsKqlxHs0h8MDJE9SA6FO5/pQD3QOwxrgXgZiM+xAUkvC0iK\n",
       "9cc7kelgLu9MMPgLkz7EEA/yymsgfg/ilwXA1CxgYOAsAFn+mYHhWANyjG6HMhQY7EFuqARFCJAR\n",
       "MhnuV6ByNpB3WIBhwfgdOQRPJ0FSU+/dfgdQPIA4nUAXqAWg6+UHMhg/IodglwHEu0AFG6B6uUEO\n",
       "43BA0gt2Myh6OT6B/bsbAiBaGYCSnKD40YT5Fx7OIL3gsAJFb7wDwlomaGgyA/Vyf4CG1TLUOAI6\n",
       "ngsUFNuAylMOIPkWyrYEhQUwHBluYY1fJiCn+3/vDZcCJMFWCHXk/x4Gdv+fQNO34kmTaMAAjc8z\n",
       "Aa43ASMvEACIvICaf1kMCOs9Dc+/DLvQ8z4hAMpXTJDUwn6PtDKHzwBaXgEAR2x7CKGngJgAAAAA\n",
       "SUVORK5CYII=\n",
       "\" style=\"display:inline;vertical-align:middle;\" /></a> <a class=\"ProveItLink\" href=\"../__pv_it/a068ad5b7a9400661025c44e23d30c1b940f74b80/proof.ipynb\" style=\"text-decoration: none\">&#x22A2;&nbsp;</a><a class=\"ProveItLink\" href=\"../__pv_it/f0daa2259c95138d81796808a97a3474ff8049260/expr.ipynb\"><img src=\"data:image/png;base64,iVBORw0KGgoAAAANSUhEUgAAANcAAAAUBAMAAADsL7WcAAAAMFBMVEX///+6uroQEBCqqqqIiIgy\n",
       "MjJERETu7u6YmJjMzMxUVFTc3Nx2dnYiIiJmZmYAAAAutVgsAAAAAXRSTlMAQObYZgAAAnxJREFU\n",
       "SMedljtoFFEUhv9xMjuZ7G5cBLESkkILq220ETRFarMIkiLFBgUVRHaNsF0gRWwMSBot0sQ0ok0y\n",
       "YBcQLbYTREwhiI9tbAKuEWLUBLOee899zYNk8cDP3Ln/fvdx7mMWMFGcYx0S59MVfTJJrqVE8TCP\n",
       "uN9b3bxewVCcqm9ZLy+iGiST5KaUKOq52Glg+A/CmpqQyykvL4ItSEZzMgY7LFGsN/OG+Bvw9oG2\n",
       "aqRjOePlxL1fYKbtVJZjFsXd73bKBVMc2KOWt4EZfn303nLGy0AIL5AlmRmnsxdKFHMTNv3RtGlh\n",
       "hADqIWBzZdxyxstAGBz4AWYCZ00vKVE+mhedDfZAF44+RvSB8luS+QtrZcsZLwPhhE8ZlkypY/2b\n",
       "SsAdLI+J57dPIr7o3yw/nb9dFWOVK12qlqqGM14GCivRtmJI0vxI7xtKQAUvnUHgLLeCiRjhGXr6\n",
       "b+VSocjba8P1MpCH4r5imAPWSaNKiFa7a9MOF17mZF8VjVIb0ZZ4mweeyepR18tAS93NHTDDXKoz\n",
       "Dzjinon11/zcFQ2OaYh2w5LtTHsZiLo8ldOZSSMNsDwiCl+vyJiyxwxrBHsiHT4lOoh1Go2XhnzS\n",
       "OzDjOWnUG6RY5VOv47hzzKIdvUFER35HbxDjpaHn6jpSG4RHTXqjJM5NYc8mf1JfOzTbYzeoMPxK\n",
       "HGmVSmaMl4KKYjKNmBnJqTjJavUm4Tf+mu04tKie9d3uk2uyV1GzIkrjirNeEgobP5s41/vMTLCY\n",
       "e10lPiCZmlm18JyQPCYLzWouexEfHO3ka99MgruldEgkPhXon0lyzsfzoCjkfTz7YJJcn38LFv7j\n",
       "b8EC6x+Vu9KuzagfPQAAAABJRU5ErkJggg==\n",
       "\" style=\"display:inline;vertical-align:middle;\" /></a></span></td></tr>\n",
       "<tr><td>&nbsp;</td><td colspan=4 style=\"text-align:left\"><span style=\"font-size:20px;\"><a class=\"ProveItLink\" href=\"../__pv_it/6adf35e534b0f74f25bdd03c03dfd88a84b3ace50/expr.ipynb\"><img src=\"data:image/png;base64,iVBORw0KGgoAAAANSUhEUgAAADcAAAAUBAMAAADbzbjtAAAAMFBMVEX///8iIiLc3Ny6urqIiIiq\n",
       "qqp2dnbMzMwQEBDu7u5mZmYyMjJERERUVFSYmJgAAAA4CJ/KAAAAAXRSTlMAQObYZgAAAQ1JREFU\n",
       "KM9jYIADpgcMyCAITL79f/burgkMDHNQ5Bh4FcDUbwYGnk4Ghk2okpwbQCT7NwYG1i8MfAtQJRlS\n",
       "QATLZyD+xsCogCY5A0TwfABa8JlBEU2OgdsASPADDddfwOCF5O5lS4BuYAPZU5/AwCrGwHAOIWmh\n",
       "wA00jQ/kIv9raUuAPhFFuLOPgesA0JECQPb5CWChZrgk108GRgegL4C6GT4yoElyHGCYXwCRZP8F\n",
       "EUIYOz+BIR5IMQtAvAkCCAfND2C4zaoAdhD3T4hQFlySx4FPlg1odQID1/6/DmAhQ6BBZ4DgJAPn\n",
       "FXddZ6CuAoTnMIJvIhIbe8DDwCFsUQYDaJHNg2INWjJ5xMAAAHA6PhPQZp1jAAAAAElFTkSuQmCC\n",
       "\" style=\"display:inline;vertical-align:middle;\" /></a> : <a class=\"ProveItLink\" href=\"../__pv_it/5a39f302edbd10420017cd33a5bcec4ef54708850/expr.ipynb\"><img src=\"data:image/png;base64,iVBORw0KGgoAAAANSUhEUgAAAJ8AAAAUBAMAAABhQvLIAAAAMFBMVEX///+6uroQEBCqqqqIiIgy\n",
       "MjJERETu7u6YmJjMzMxUVFTc3Nx2dnYiIiJmZmYAAAAutVgsAAAAAXRSTlMAQObYZgAAAhpJREFU\n",
       "OMtjYIAD7gYGnACfHBRYQzEClOFRDZLr+r/uVZoAVmnOAAYGrg0QjADRWFRuQJZTY2Dg+4nVQNYP\n",
       "DAzsARAMBxwPsKiMQ5Lj/MHAwPgPq4Gt34HEESiGAd4NWLySW4CQY/kNNPkLXI4NoZ7dDijFUATF\n",
       "MLAXi81cIg4IOTYFoIbrCMsSEJ5j+QjytwAEw4AfUpy+eaIOZpQyXEDI8S9g4LxVgFDVB2eJMwND\n",
       "g4HnAQTDQAaCKbQBFMpAcBgI4XLzV7TkGoC5b++CwH2YZnYBTlBIcASAMVjyDpB/GREkGgx8EP9c\n",
       "YNgKpsFy/hsY2LWQA8QUYjwDIwM3KK6YL0AwCOwCYkW4Qr7vDLzgsONwYOCawACTSwIZaoBkIHsQ\n",
       "JMRmvXv1DRSoHyAY00CmBIZ6sDm8BQycC+AG/gIZ6IBk4K7TEBporCoWAxFerj/AYA9m2MGS9GVo\n",
       "MmRYD3bT01AwgOYEZiC+BPL5BQiGGYiIlHoDhqXMG6CG2cEiBZQMOb8hOVAUSm8G4nhEpEDSFBCf\n",
       "QyRZB45bPLCUxlsAlWMFJkOhdKQQDIemMZCj8oH28x2AYBiQBTo4DQjSGdiXeO5yBCVrkP9YHCBy\n",
       "XPG/3i1LRk70EyDm5n8tYDD7fw9o4wQIxp31GMHkBBzZkhtdoBaK8RYORMjBAXrhwJCNR3E2YfMw\n",
       "ii+CBSwBACp92DYQW8wTUQV0QzAA7luOCb1jR6wAAAAASUVORK5CYII=\n",
       "\" style=\"display:inline;vertical-align:middle;\" /></a>, <a class=\"ProveItLink\" href=\"../../../../__pv_it/72df168d2bfb4e0140af90912ebf83b13772060b0/expr.ipynb\"><img src=\"data:image/png;base64,iVBORw0KGgoAAAANSUhEUgAAAAsAAAAJBAMAAAAWSsseAAAALVBMVEX///9mZmaqqqrMzMxEREQy\n",
       "MjIiIiKYmJh2dna6urrc3NxUVFSIiIju7u4AAACJHQtQAAAAAXRSTlMAQObYZgAAAEJJREFUCNdj\n",
       "YLhzeuWJAwy8Dew5bAEMHBc43nIuYOBlYHFgAAG+A2DKzgBIMF04x8BzgWGegh/DcgaG22fuiBcw\n",
       "AAATyhBrnyPYZQAAAABJRU5ErkJggg==\n",
       "\" style=\"display:inline;vertical-align:middle;\" /></a> : <a class=\"ProveItLink\" href=\"../__pv_it/8b52df86786c45166e4e597fabcdbadc8276ac2f0/expr.ipynb\"><img src=\"data:image/png;base64,iVBORw0KGgoAAAANSUhEUgAAAEAAAAAPBAMAAACmSdRUAAAAMFBMVEX///92dnYiIiIQEBBERERU\n",
       "VFS6urqIiIjc3NxmZmaqqqru7u6YmJgyMjLMzMwAAADiRdoGAAAAAXRSTlMAQObYZgAAAO5JREFU\n",
       "GNNjYACBtwxYwNH/kVNdEiDs+9gUMJgwMHD+A7N47m/AIs/3h4GB7SeYuWt+A0LcA8Zg/wHU+h3M\n",
       "PFCfgFDwBMZgMWBg2KwNYrFtWH8AoYBnApTBH8DApwq2exvD+wIQzakEBj+hCt7HHHdaAGYlMPRP\n",
       "QHIc1y0IXd/AwG0Kdm3kzHgHZOfvNQNTziBFICPYGBiYLyDJcwRC/PQVpABkN1ARkwHYDXchoAEe\n",
       "DAzxQO9xABXwfkAYwHYBEQx8X4CMJpCXfyC5ABqqvEBTk70ZGLb8v83A5f8J4Y04CMV6/+vMEC9s\n",
       "UdSAygUACNlBmGjrK1sAAAAASUVORK5CYII=\n",
       "\" style=\"display:inline;vertical-align:middle;\" /></a></span></td></tr><tr><td><a name=\"0x60a756fc41bf909e_step4\">4</a></td><td>instantiation</td><td><a href=\"#0x60a756fc41bf909e_step8\">8</a></td><td><span style=\"font-size:20px;\"> <a class=\"ProveItLink\" href=\"../__pv_it/6e226db922fef81a3339b703ecddcbb86f02738f0/proof.ipynb\" style=\"text-decoration: none\">&#x22A2;&nbsp;</a><a class=\"ProveItLink\" href=\"../__pv_it/63af5f3c2f364b33f7f867fa32c28001974860380/expr.ipynb\"><img src=\"data:image/png;base64,iVBORw0KGgoAAAANSUhEUgAAATEAAAAUBAMAAAAXXRdqAAAAMFBMVEX///9UVFTMzMx2dna6uroQ\n",
       "EBCqqqqIiIgiIiJmZmYyMjJERETu7u6YmJjc3NwAAAC+aOQFAAAAAXRSTlMAQObYZgAAA5pJREFU\n",
       "SMedVk1IVFEUPu81zozNT5Ir+9N2kYtxVdgiZhNFBBlMELmZZRbUtJQWMwWK/VAjQWQbLTJIRCUq\n",
       "hDInyJBxM60iIXttQoIoQzIztXvPuX++eY0zHjnznvfc753v3HvuORcgWoD15LzH2DehFSLL8OZ3\n",
       "BG6K/t/rNendal33izhYTpElPELKxO7zQEbq53q2Py1GTmmbp3Aau4BwQzQ07DmxFaD6J4SLfW92\n",
       "SPnrDy9kFaPd26CQkuGQtnk65DTygB4jWYpxOOcxz14G8C0C7C+yfBDKZPqvl4sY27bjWYV8LJYy\n",
       "a9i8lprT2JRCj0GK5m2vjIqxtWvEe2CFTV4AmCj6xE2hLLy2FT38Sr2l2fc+pSTSHqXAyZuwCQkZ\n",
       "O440wi3ocZaGCum4IMNT9IkE8Tk32IbF3YmcIeVhBub1eKN6e8Y8nMpJpHWYiMyaNrkxIxpPNB6i\n",
       "x3Yc8eUuFIxv5wVsSw3Yl/n6upc+kCVlcsy/bOyGmjgHsGeHQuaBwmg3bWZmgEmjGXFjOPQGYhSU\n",
       "fbKLScegSJad70eT3CEm8oEBLpgxoQIpCz5uL/BndRfKolyIuY+XOhUS9rE/LmOmDeAuYm6pcASN\n",
       "acTRlDh8J/NFWq3GpEyW8AleYjKuNQsmSVmYEF00i9EjnaETNQqZga/47DRtSs4mxYugcQZxCYyi\n",
       "rqced3tSAq7LhIA0g9nuwlAVJwXY3dO9ZFryCZWhgV8SGUmBhVUiYdp0ceynbJQ0YohLUOBQhcse\n",
       "raW5r5tkQkA6VZIZ+zltHo1aR2YoBBYkMpgT5z1h2pR8PijSTNAgZri+fG9aKIWvYTJdUeUM6plv\n",
       "X0bn2f01u+ln2oF5NkDi6HJmzUtkm6yxnaYN4B5hRLFXNI4gjudkNKkrOR6UvKOSxV7SeaxFnYAv\n",
       "a9uHr88oZ7ERiRwS7OgESJuUo3K9JQ06Ac2iyoREvbT4Ht0RLYgFcOglX5AmFzNeDLhiTRvXpVKW\n",
       "G+hnLFtzAokVK5ijeqBtMstEIdA0biOOrdzU6iD4x3/T4eQdK0oBWcOs8z5Hiu4mxzeJaXj8Tw7O\n",
       "rV5V41vFcxu/CiQlEqMNpGiftE2IJT6uaTxAXNB9G+Dtwd1DJ0t0JzfYA+nD1wbVnVz9pOgek0Fc\n",
       "JAvrS8mOXgmyLG+ioxtN+L/icQvibTjkVI4sw5u8BcmbYykJlbw5VoQswxtnj7gy7r8zG75tz2zg\n",
       "th1xEPcPr/tEHfZflmoAAAAASUVORK5CYII=\n",
       "\" style=\"display:inline;vertical-align:middle;\" /></a></span></td></tr>\n",
       "<tr><td>&nbsp;</td><td colspan=4 style=\"text-align:left\"><span style=\"font-size:20px;\"><a class=\"ProveItLink\" href=\"../../../../__pv_it/d3792d0d8642fdf1cd2a3a9b32c673ee13653de00/expr.ipynb\"><img src=\"data:image/png;base64,iVBORw0KGgoAAAANSUhEUgAAAA8AAAAOBAMAAAACpFvcAAAALVBMVEX///8iIiIQEBBERERUVFS6\n",
       "urqIiIjc3NxmZmaqqqru7u6YmJgyMjLMzMwAAACK9jtgAAAAAXRSTlMAQObYZgAAAFtJREFUCNdj\n",
       "YACBOwxQcA5Kc59bAGGs7CuAMDbkBYBp1gXzNoAZSxnuJYAZAQx1DSCa16PDzwCshIGB6QCIMYGB\n",
       "gVEBSLMDGTwPgIxCIGZ+zsCw+N0pBk67hw0AfpEVEQi8t+wAAAAASUVORK5CYII=\n",
       "\" style=\"display:inline;vertical-align:middle;\" /></a> : <a class=\"ProveItLink\" href=\"../../../../__pv_it/d3792d0d8642fdf1cd2a3a9b32c673ee13653de00/expr.ipynb\"><img src=\"data:image/png;base64,iVBORw0KGgoAAAANSUhEUgAAAA8AAAAOBAMAAAACpFvcAAAALVBMVEX///8iIiIQEBBERERUVFS6\n",
       "urqIiIjc3NxmZmaqqqru7u6YmJgyMjLMzMwAAACK9jtgAAAAAXRSTlMAQObYZgAAAFtJREFUCNdj\n",
       "YACBOwxQcA5Kc59bAGGs7CuAMDbkBYBp1gXzNoAZSxnuJYAZAQx1DSCa16PDzwCshIGB6QCIMYGB\n",
       "gVEBSLMDGTwPgIxCIGZ+zsCw+N0pBk67hw0AfpEVEQi8t+wAAAAASUVORK5CYII=\n",
       "\" style=\"display:inline;vertical-align:middle;\" /></a>, <a class=\"ProveItLink\" href=\"../../../../__pv_it/4d98b438710c5ada9ffa4646bb123a7d0e69ec000/expr.ipynb\"><img src=\"data:image/png;base64,iVBORw0KGgoAAAANSUhEUgAAABAAAAAOBAMAAADUAYG5AAAALVBMVEX///8yMjKqqqoiIiLu7u7c\n",
       "3NyIiIjMzMwQEBC6urpERERmZmZUVFSYmJgAAACsPVCVAAAAAXRSTlMAQObYZgAAAGxJREFUCNdj\n",
       "YGC48+70nlUTGICgi4GB+zmQZn/LwMD5Gshge8rAwPsMyOBqYGDwMAEy+A4wsNs4ABl1Z68tVgBp\n",
       "ygtgYOkBMVaAOCChNyBGAsQYhnMTIMawvwJyGIHGzFjCwMAj92b3qUUMDAAXABxvZ4rl5AAAAABJ\n",
       "RU5ErkJggg==\n",
       "\" style=\"display:inline;vertical-align:middle;\" /></a> : <a class=\"ProveItLink\" href=\"../../../../__pv_it/4d98b438710c5ada9ffa4646bb123a7d0e69ec000/expr.ipynb\"><img src=\"data:image/png;base64,iVBORw0KGgoAAAANSUhEUgAAABAAAAAOBAMAAADUAYG5AAAALVBMVEX///8yMjKqqqoiIiLu7u7c\n",
       "3NyIiIjMzMwQEBC6urpERERmZmZUVFSYmJgAAACsPVCVAAAAAXRSTlMAQObYZgAAAGxJREFUCNdj\n",
       "YGC48+70nlUTGICgi4GB+zmQZn/LwMD5Gshge8rAwPsMyOBqYGDwMAEy+A4wsNs4ABl1Z68tVgBp\n",
       "ygtgYOkBMVaAOCChNyBGAsQYhnMTIMawvwJyGIHGzFjCwMAj92b3qUUMDAAXABxvZ4rl5AAAAABJ\n",
       "RU5ErkJggg==\n",
       "\" style=\"display:inline;vertical-align:middle;\" /></a></span></td></tr><tr><td><a name=\"0x60a756fc41bf909e_step5\">5</a></td><td>theorem</td><td></td><td><span style=\"font-size:20px;\"> <a class=\"ProveItLink\" href=\"../../../equality/_proofs_/substituteTruth.ipynb\" style=\"text-decoration: none\">&#x22A2;&nbsp;</a><a class=\"ProveItLink\" href=\"../../../equality/__pv_it/c2cb97100b117f143ca3c09a77f75b44bb41e6160/expr.ipynb\"><img src=\"data:image/png;base64,iVBORw0KGgoAAAANSUhEUgAAAJ8AAAAWBAMAAAAsilPDAAAAMFBMVEX///8QEBCIiIhmZma6urrM\n",
       "zMxUVFQiIiJERETc3Nzu7u6qqqp2dnaYmJgyMjIAAAAcRTyBAAAAAXRSTlMAQObYZgAAAmxJREFU\n",
       "OMutVc9rE0EU/txms7vJZvMHeAkWPISCexHUgywVioJC9CDeLMUWKtr24EVRaW9bL82tvYjrpULx\n",
       "EPAgCuJSD0oUjSiIB2HPgjQoSqtFfW9msj9ipLB0YXbefHn7vZ/zAuzGc1vtj2hFLHzKx1OZ3Zya\n",
       "OQKU5hVQbAIvWfic07MqubMQwGmqc4nOK7Rb8zkJz4fA0xrexcA64ASA3cpJeMCjFeJqDNylPLTX\n",
       "1pbzFmOJ1qxnzcWAQxY2ff/6Th+qHOn9+G9K1zdoLmVv3/QoxWuTOAksAoWlS4cuplQ98VaorcCy\n",
       "l+XTt4GHIcwOcB8fajcpXqrKMVEbvAWep3RVmSQ6jRf+gu+HOJwl1H68elYHDCpBG2+CE2SSojeg\n",
       "kQVMUXr/JRSoTrWEycfVLKH5U2x7yPEAvvC5S/F0DBZvQEJZQoEWGz3CuOFUG87FhMDXHqEVneWW\n",
       "3IJ2jRvp4P5GQihRYVAQiljs4TOTqg1dsXHI0L+LpLOJxQssbY/wndGCGcNLCCW6HBOWx+lVL0ZX\n",
       "kjbkn8jMY62LuiwKHjCrHanG+JIOWaLHY8ICww2no0LeCKSWi8Ivs2sRPMTprtZY31VKW2lCiY7F\n",
       "hLowUFWZPPpnAirO0kR9mCeMw/mqsJ2qun16V08RSvRc4uG4SB0a2WonV+9ecs3Z6kpwx47sFKFA\n",
       "pZYgrITWLav7GmGWMDMcVItucM+ebq2+X28nhBKFwSEUWRry9L2lyydHgr5+TI+vzNPq70NpLYYd\n",
       "KvSAqx4PWDPbpyg3BxImhydyyv/3L+Bj/0jHYMJTPU+o6J2ck84d5LkW7PzhX3cQnLjgQEp0AAAA\n",
       "AElFTkSuQmCC\n",
       "\" style=\"display:inline;vertical-align:middle;\" /></a></span></td></tr>\n",
       "<tr><td>&nbsp;</td><td colspan=4 style-\"text-align:left\"><a class=\"ProveItLink\" href=\"../../../equality/_proofs_/substituteTruth.ipynb\">proveit.logic.equality.substituteTruth</a></td></tr><tr><td><a name=\"0x60a756fc41bf909e_step6\">6</a></td><td>instantiation</td><td><a href=\"#0x60a756fc41bf909e_step9\">9</a>, <a href=\"#0x60a756fc41bf909e_step10\">10</a>, <a href=\"#0x60a756fc41bf909e_step12\">12</a></td><td><span style=\"font-size:20px;\"><a class=\"ProveItLink\" href=\"../__pv_it/1aa8f774db02e9324f315136bde59af024cdb9980/expr.ipynb\"><img src=\"data:image/png;base64,iVBORw0KGgoAAAANSUhEUgAAAHUAAAAVBAMAAACK3rzVAAAAMFBMVEX///+IiIi6urrc3NxERETM\n",
       "zMwQEBCqqqpUVFQiIiJ2dnYyMjLu7u5mZmaYmJgAAABN0h6tAAAAAXRSTlMAQObYZgAAAcBJREFU\n",
       "OMtjYGDgu8dAMmC9eABE8exCEbUjqI/dAEgwpYKYfB+QJXgcgCL9P+62OGHXGA3EzSDGbRDBNQFZ\n",
       "jhtkKBvQgPsBWPXuB+LTIMZKTL1vQUT8AwYG/QvYtPLtB/qTSwC73skgQh5o+XsBuJgzQvr4faAU\n",
       "TwJWvcxgjhtQPvMAXDAEIf9AXgFIbsKqlxHs0h8MDJE9SA6FO5/pQD3QOwxrgXgZiM+xAUkvC0iK\n",
       "9cc7kelgLu9MMPgLkz7EEA/yymsgfg/ilwXA1CxgYOAsAFn+mYHhWANyjG6HMhQY7EFuqARFCJAR\n",
       "MhnuV6ByNpB3WIBhwfgdOQRPJ0FSU+/dfgdQPIA4nUAXqAWg6+UHMhg/IodglwHEu0AFG6B6uUEO\n",
       "43BA0gt2Myh6OT6B/bsbAiBaGYCSnKD40YT5Fx7OIL3gsAJFb7wDwlomaGgyA/Vyf4CG1TLUOAI6\n",
       "ngsUFNuAylMOIPkWyrYEhQUwHBluYY1fJiCn+3/vDZcCJMFWCHXk/x4Gdv+fQNO34kmTaMAAjc8z\n",
       "Aa43ASMvEACIvICaf1kMCOs9Dc+/DLvQ8z4hAMpXTJDUwn6PtDKHzwBaXgEAR2x7CKGngJgAAAAA\n",
       "SUVORK5CYII=\n",
       "\" style=\"display:inline;vertical-align:middle;\" /></a> <a class=\"ProveItLink\" href=\"../__pv_it/3c0fc540f81460aba86ed179c6c928dc04ef9a740/proof.ipynb\" style=\"text-decoration: none\">&#x22A2;&nbsp;</a><a class=\"ProveItLink\" href=\"../__pv_it/72d0b1d80a598a1576d217b07c0bf91df1d913290/expr.ipynb\"><img src=\"data:image/png;base64,iVBORw0KGgoAAAANSUhEUgAAAJYAAAAUBAMAAACdV9kCAAAAMFBMVEX///+6uroQEBCqqqqIiIgy\n",
       "MjJERETu7u6YmJjMzMxUVFTc3Nx2dnYiIiJmZmYAAAAutVgsAAAAAXRSTlMAQObYZgAAAf5JREFU\n",
       "OMullDFIw0AUhv+S1jSmrcXFSdBBB6dOLqI4dNaKOIhDQUEFEUvBboKDLro4dXCxLqIoGnATBAdn\n",
       "KToIotJZVBS0agX1XXLJ3cUUBx9cuPy5fHfvv3cHeGEuIjDq6VL0AJolCwUkbuwoqQML1Fa+9+8m\n",
       "k4EcIwM0EmhXFsfYQ+v3lqPonUDiI5AVeQJ04s1LWrSisiIVSTfegdBXIGv5jR6nQKxfaHFLZRUv\n",
       "JT38SdAXb+yM+E3vo0/IU6dNiMdQWZtpSW+ggflLb2xRSif8zJIgL4eEOKCy9Exc0ptKMK5yPj/s\n",
       "aNEofcRIOBOsaZUVS8VSQt/YXpq1X/lWe9bpSYOlHiXzl/HAPl3T64XKisPM2B1bH7Sgd0mGa8O8\n",
       "E4LJuFoZ6HWUI2rtKmsJ2LE7tj7OeCkJNu8Mx/rjXZXtMxXGRl0WGb0uWDXGkjbd3ONlTp53/Gap\n",
       "OWpkZsRyc2TlhQNW94kRJzhKo3bOUqUcWwVL9Z5xtIrrPSsvoyqWFcrwziG1rOe9c6bgbqnLKvI8\n",
       "HT1C5dU8JbnFy8Ok5WCOpk2cAPfiu7PEEL8UNtkjzfXGbO1xa0JyfocXxNxrDt3ftzTZGjDqP0Nu\n",
       "JN3l+nQnfkkLBC4jqJaVqKcr4Tvb8oFVYuZvlP/Ose+8oCj8zWqwfFP+445eJSss/ADf+4ec2K5a\n",
       "QwAAAABJRU5ErkJggg==\n",
       "\" style=\"display:inline;vertical-align:middle;\" /></a></span></td></tr>\n",
       "<tr><td>&nbsp;</td><td colspan=4 style=\"text-align:left\"><span style=\"font-size:20px;\"><a class=\"ProveItLink\" href=\"../__pv_it/6adf35e534b0f74f25bdd03c03dfd88a84b3ace50/expr.ipynb\"><img src=\"data:image/png;base64,iVBORw0KGgoAAAANSUhEUgAAADcAAAAUBAMAAADbzbjtAAAAMFBMVEX///8iIiLc3Ny6urqIiIiq\n",
       "qqp2dnbMzMwQEBDu7u5mZmYyMjJERERUVFSYmJgAAAA4CJ/KAAAAAXRSTlMAQObYZgAAAQ1JREFU\n",
       "KM9jYIADpgcMyCAITL79f/burgkMDHNQ5Bh4FcDUbwYGnk4Ghk2okpwbQCT7NwYG1i8MfAtQJRlS\n",
       "QATLZyD+xsCogCY5A0TwfABa8JlBEU2OgdsASPADDddfwOCF5O5lS4BuYAPZU5/AwCrGwHAOIWmh\n",
       "wA00jQ/kIv9raUuAPhFFuLOPgesA0JECQPb5CWChZrgk108GRgegL4C6GT4yoElyHGCYXwCRZP8F\n",
       "EUIYOz+BIR5IMQtAvAkCCAfND2C4zaoAdhD3T4hQFlySx4FPlg1odQID1/6/DmAhQ6BBZ4DgJAPn\n",
       "FXddZ6CuAoTnMIJvIhIbe8DDwCFsUQYDaJHNg2INWjJ5xMAAAHA6PhPQZp1jAAAAAElFTkSuQmCC\n",
       "\" style=\"display:inline;vertical-align:middle;\" /></a> : <a class=\"ProveItLink\" href=\"../__pv_it/79dd259512957bb42962f5896510b221f2c5c0650/expr.ipynb\"><img src=\"data:image/png;base64,iVBORw0KGgoAAAANSUhEUgAAAF4AAAAUBAMAAAD2P5dXAAAAMFBMVEX///+6uroQEBCqqqqIiIgy\n",
       "MjJERETu7u6YmJjMzMxUVFTc3Nx2dnYiIiJmZmYAAAAutVgsAAAAAXRSTlMAQObYZgAAASJJREFU\n",
       "KM9jYIAD7gYGAoB5AzKvjIHvLhgswKlhNTInGmyEA9w6LOpLkdgcD1DVsz7AVM/jgGDzbkBVP+06\n",
       "pnp2BQR7LwOq+oUuWBwUiGD6oapnD+BFUbnvnFMBA8M5hEAGqnoeAx4DJOWM2gzxQKqV4S0oBO8A\n",
       "mZdR1fMycAcgqS9qYHgGpGwhvF1ArIiqvoWBYSWS+vcFDFeA1Hyc6oGhMwtJvRoD+09U9ajuYQaG\n",
       "Pisi+tn/MDB/ANKyCPWo/gWpZUbEGPtnBq4Aa5B/wYCTARZUMPXToG6CgRSG3gUHGBjeIEQgVjFC\n",
       "E+lCEAGKMbE0IChgqHKZvUSAgSESPT3AgADMWtT0cAE9veEHyOmNIZuw+lLU/EIQoBhJOD9ybGAA\n",
       "AKxeRTGs4zUiAAAAAElFTkSuQmCC\n",
       "\" style=\"display:inline;vertical-align:middle;\" /></a>, <a class=\"ProveItLink\" href=\"../../../../__pv_it/72df168d2bfb4e0140af90912ebf83b13772060b0/expr.ipynb\"><img src=\"data:image/png;base64,iVBORw0KGgoAAAANSUhEUgAAAAsAAAAJBAMAAAAWSsseAAAALVBMVEX///9mZmaqqqrMzMxEREQy\n",
       "MjIiIiKYmJh2dna6urrc3NxUVFSIiIju7u4AAACJHQtQAAAAAXRSTlMAQObYZgAAAEJJREFUCNdj\n",
       "YLhzeuWJAwy8Dew5bAEMHBc43nIuYOBlYHFgAAG+A2DKzgBIMF04x8BzgWGegh/DcgaG22fuiBcw\n",
       "AAATyhBrnyPYZQAAAABJRU5ErkJggg==\n",
       "\" style=\"display:inline;vertical-align:middle;\" /></a> : <a class=\"ProveItLink\" href=\"../__pv_it/8b9c784705e35002d4429ef743e77d1f418289900/expr.ipynb\"><img src=\"data:image/png;base64,iVBORw0KGgoAAAANSUhEUgAAAEAAAAAPBAMAAACmSdRUAAAAMFBMVEX///92dnYyMjKqqqoiIiLu\n",
       "7u7c3NyIiIjMzMwQEBC6urpERERmZmZUVFSYmJgAAADEjrHzAAAAAXRSTlMAQObYZgAAAOpJREFU\n",
       "GNNjYGB4+//O2d0LGLABDgUwNZuBgecHVgVMH8DK/jEwcP3BquDRVxDJ/o2Bge87XJA7Ac5ktfkG\n",
       "FpnAwBDpirB3A5zJx/4LRPFfYODwDUCY+wbOWsr8D0T133u+xQAscMQFBPwPwGxYwAG2uT6BgXUu\n",
       "stOMIMoZuBjYwG7fCVJkgKSAVRMSKr1nzv4G0X9BCgqQFOSKQWigsknQYGC4D9ZzSAkM1CDyzEDs\n",
       "CQ0Gjt9IBiyC0slArA8KTmAwrNyK5AJVCM3mACT2JzDw6v89c3szkgG8DRB1+z8FMFj/98EMfzZU\n",
       "LgBdXD0b6P4qzAAAAABJRU5ErkJggg==\n",
       "\" style=\"display:inline;vertical-align:middle;\" /></a></span></td></tr><tr><td><a name=\"0x60a756fc41bf909e_step7\">7</a></td><td>instantiation</td><td><a href=\"#0x60a756fc41bf909e_step11\">11</a>, <a href=\"#0x60a756fc41bf909e_step12\">12</a></td><td><span style=\"font-size:20px;\"><a class=\"ProveItLink\" href=\"../__pv_it/1aa8f774db02e9324f315136bde59af024cdb9980/expr.ipynb\"><img src=\"data:image/png;base64,iVBORw0KGgoAAAANSUhEUgAAAHUAAAAVBAMAAACK3rzVAAAAMFBMVEX///+IiIi6urrc3NxERETM\n",
       "zMwQEBCqqqpUVFQiIiJ2dnYyMjLu7u5mZmaYmJgAAABN0h6tAAAAAXRSTlMAQObYZgAAAcBJREFU\n",
       "OMtjYGDgu8dAMmC9eABE8exCEbUjqI/dAEgwpYKYfB+QJXgcgCL9P+62OGHXGA3EzSDGbRDBNQFZ\n",
       "jhtkKBvQgPsBWPXuB+LTIMZKTL1vQUT8AwYG/QvYtPLtB/qTSwC73skgQh5o+XsBuJgzQvr4faAU\n",
       "TwJWvcxgjhtQPvMAXDAEIf9AXgFIbsKqlxHs0h8MDJE9SA6FO5/pQD3QOwxrgXgZiM+xAUkvC0iK\n",
       "9cc7kelgLu9MMPgLkz7EEA/yymsgfg/ilwXA1CxgYOAsAFn+mYHhWANyjG6HMhQY7EFuqARFCJAR\n",
       "MhnuV6ByNpB3WIBhwfgdOQRPJ0FSU+/dfgdQPIA4nUAXqAWg6+UHMhg/IodglwHEu0AFG6B6uUEO\n",
       "43BA0gt2Myh6OT6B/bsbAiBaGYCSnKD40YT5Fx7OIL3gsAJFb7wDwlomaGgyA/Vyf4CG1TLUOAI6\n",
       "ngsUFNuAylMOIPkWyrYEhQUwHBluYY1fJiCn+3/vDZcCJMFWCHXk/x4Gdv+fQNO34kmTaMAAjc8z\n",
       "Aa43ASMvEACIvICaf1kMCOs9Dc+/DLvQ8z4hAMpXTJDUwn6PtDKHzwBaXgEAR2x7CKGngJgAAAAA\n",
       "SUVORK5CYII=\n",
       "\" style=\"display:inline;vertical-align:middle;\" /></a> <a class=\"ProveItLink\" href=\"../__pv_it/0bdf8b9d94e41f348dea0b86dd4a87286eb26e700/proof.ipynb\" style=\"text-decoration: none\">&#x22A2;&nbsp;</a><a class=\"ProveItLink\" href=\"../__pv_it/8b52df86786c45166e4e597fabcdbadc8276ac2f0/expr.ipynb\"><img src=\"data:image/png;base64,iVBORw0KGgoAAAANSUhEUgAAAEAAAAAPBAMAAACmSdRUAAAAMFBMVEX///92dnYiIiIQEBBERERU\n",
       "VFS6urqIiIjc3NxmZmaqqqru7u6YmJgyMjLMzMwAAADiRdoGAAAAAXRSTlMAQObYZgAAAO5JREFU\n",
       "GNNjYACBtwxYwNH/kVNdEiDs+9gUMJgwMHD+A7N47m/AIs/3h4GB7SeYuWt+A0LcA8Zg/wHU+h3M\n",
       "PFCfgFDwBMZgMWBg2KwNYrFtWH8AoYBnApTBH8DApwq2exvD+wIQzakEBj+hCt7HHHdaAGYlMPRP\n",
       "QHIc1y0IXd/AwG0Kdm3kzHgHZOfvNQNTziBFICPYGBiYLyDJcwRC/PQVpABkN1ARkwHYDXchoAEe\n",
       "DAzxQO9xABXwfkAYwHYBEQx8X4CMJpCXfyC5ABqqvEBTk70ZGLb8v83A5f8J4Y04CMV6/+vMEC9s\n",
       "UdSAygUACNlBmGjrK1sAAAAASUVORK5CYII=\n",
       "\" style=\"display:inline;vertical-align:middle;\" /></a></span></td></tr>\n",
       "<tr><td>&nbsp;</td><td colspan=4 style=\"text-align:left\"><span style=\"font-size:20px;\"><a class=\"ProveItLink\" href=\"../../../../__pv_it/d3792d0d8642fdf1cd2a3a9b32c673ee13653de00/expr.ipynb\"><img src=\"data:image/png;base64,iVBORw0KGgoAAAANSUhEUgAAAA8AAAAOBAMAAAACpFvcAAAALVBMVEX///8iIiIQEBBERERUVFS6\n",
       "urqIiIjc3NxmZmaqqqru7u6YmJgyMjLMzMwAAACK9jtgAAAAAXRSTlMAQObYZgAAAFtJREFUCNdj\n",
       "YACBOwxQcA5Kc59bAGGs7CuAMDbkBYBp1gXzNoAZSxnuJYAZAQx1DSCa16PDzwCshIGB6QCIMYGB\n",
       "gVEBSLMDGTwPgIxCIGZ+zsCw+N0pBk67hw0AfpEVEQi8t+wAAAAASUVORK5CYII=\n",
       "\" style=\"display:inline;vertical-align:middle;\" /></a> : <a class=\"ProveItLink\" href=\"../../../../__pv_it/4d98b438710c5ada9ffa4646bb123a7d0e69ec000/expr.ipynb\"><img src=\"data:image/png;base64,iVBORw0KGgoAAAANSUhEUgAAABAAAAAOBAMAAADUAYG5AAAALVBMVEX///8yMjKqqqoiIiLu7u7c\n",
       "3NyIiIjMzMwQEBC6urpERERmZmZUVFSYmJgAAACsPVCVAAAAAXRSTlMAQObYZgAAAGxJREFUCNdj\n",
       "YGC48+70nlUTGICgi4GB+zmQZn/LwMD5Gshge8rAwPsMyOBqYGDwMAEy+A4wsNs4ABl1Z68tVgBp\n",
       "ygtgYOkBMVaAOCChNyBGAsQYhnMTIMawvwJyGIHGzFjCwMAj92b3qUUMDAAXABxvZ4rl5AAAAABJ\n",
       "RU5ErkJggg==\n",
       "\" style=\"display:inline;vertical-align:middle;\" /></a>, <a class=\"ProveItLink\" href=\"../../../../__pv_it/4d98b438710c5ada9ffa4646bb123a7d0e69ec000/expr.ipynb\"><img src=\"data:image/png;base64,iVBORw0KGgoAAAANSUhEUgAAABAAAAAOBAMAAADUAYG5AAAALVBMVEX///8yMjKqqqoiIiLu7u7c\n",
       "3NyIiIjMzMwQEBC6urpERERmZmZUVFSYmJgAAACsPVCVAAAAAXRSTlMAQObYZgAAAGxJREFUCNdj\n",
       "YGC48+70nlUTGICgi4GB+zmQZn/LwMD5Gshge8rAwPsMyOBqYGDwMAEy+A4wsNs4ABl1Z68tVgBp\n",
       "ygtgYOkBMVaAOCChNyBGAsQYhnMTIMawvwJyGIHGzFjCwMAj92b3qUUMDAAXABxvZ4rl5AAAAABJ\n",
       "RU5ErkJggg==\n",
       "\" style=\"display:inline;vertical-align:middle;\" /></a> : <a class=\"ProveItLink\" href=\"../../../../__pv_it/d3792d0d8642fdf1cd2a3a9b32c673ee13653de00/expr.ipynb\"><img src=\"data:image/png;base64,iVBORw0KGgoAAAANSUhEUgAAAA8AAAAOBAMAAAACpFvcAAAALVBMVEX///8iIiIQEBBERERUVFS6\n",
       "urqIiIjc3NxmZmaqqqru7u6YmJgyMjLMzMwAAACK9jtgAAAAAXRSTlMAQObYZgAAAFtJREFUCNdj\n",
       "YACBOwxQcA5Kc59bAGGs7CuAMDbkBYBp1gXzNoAZSxnuJYAZAQx1DSCa16PDzwCshIGB6QCIMYGB\n",
       "gVEBSLMDGTwPgIxCIGZ+zsCw+N0pBk67hw0AfpEVEQi8t+wAAAAASUVORK5CYII=\n",
       "\" style=\"display:inline;vertical-align:middle;\" /></a></span></td></tr><tr><td><a name=\"0x60a756fc41bf909e_step8\">8</a></td><td>axiom</td><td></td><td><span style=\"font-size:20px;\"> <a class=\"ProveItLink\" href=\"../_axioms_.ipynb#iffDef\" style=\"text-decoration: none\">&#x22A2;&nbsp;</a><a class=\"ProveItLink\" href=\"../__pv_it/f7ac2e18385869963dda4fdf67ce8c20824572c80/expr.ipynb\"><img src=\"data:image/png;base64,iVBORw0KGgoAAAANSUhEUgAAAXkAAAAVBAMAAABRbIObAAAAMFBMVEX///8QEBCIiIhmZma6urrM\n",
       "zMxUVFQiIiJERETc3Nzu7u6qqqp2dnaYmJgyMjIAAAAcRTyBAAAAAXRSTlMAQObYZgAAA8xJREFU\n",
       "SMfVl09oE0EUxj+TbNNNmrQHUUGRgAe9aAuFetOoB0VQ40U8aUALRRQrQgtWUU+2/iF7qoJgVxQs\n",
       "FarQi15U9CBakaCgFFEiHqQKtjRaa6XW+fdmk+0kTVsvfvC1Yd/8Zt/OvJnZBcrJzkrPovv/jqyQ\n",
       "Ief4hfclGvYqM+0zxd9MH2jqTKLK+WdkrxczyWLpcoY8yC9+KZH9sDLTiLHBMiD4A5HcgkmngFMx\n",
       "k+KjEAz5Cp+uM+bkYw3S/OeIaxqKKSCUBx4vmPzkcTpm0IdJSEY5zvquuWvOPuxIM93eqEYnzryH\n",
       "GgR+sRuOAdcrIbm6SpDWOVdzOqZU7fGRARYSjHLseV/f5RKFc1mZKVuvCnEt7y9FHdexPk6wR0pW\n",
       "QHLthZms2pzQnI7RNHmVEQt8h2TIE52dJ0tkv0qZTaT7MOt1FaF1UpuG1cYnr2F20qsMA9mPVs3p\n",
       "GOm1/rU9yopKMORmmk/5d1v+SQtN1SVl4Cb2y8HZvbSdaaXqe/+RV+d41cX44qv5JtRgJoPtQlTO\n",
       "RSTfOwb1HXUMWC+Y0/TIkaQ1phjyFrXwY9/l6NShpk617lAGkugRXQQOyRm4IBvUO4gsYf+jrb6x\n",
       "n0kqRb8ayVZc05yOaT1Q6zIEO68YchgBMbU3pkSLYBrRSUUtVoZ1oPGoKJk2WpWyFs/ye7GurVFf\n",
       "9jNIrf7FBjKWQFWKOB3zFutHuTr2NDZNQDLkmmxYhJ4fl3klEMz5cwgBi8TF7keyu8OywTi/T6Jc\n",
       "9pqks/SwYyDDLqy0zp5iWt3PoOYRK33Z2zmxAVqJTtHiTgrrXP/8s4EIy3J6K2r7c0pv2jjK+gy1\n",
       "enWfNpNBGf3mGEgM0DnVURgDNkhGHXtR5mOQDBldB8WehfWiya61a9LwrVr7rjzlaNOIDHubtjXh\n",
       "rT1PBlJWbs5IDqsnEIyOkXaq/1fVwV24ajEgHv8d6kWTl8Bqwp4o8124+pe8xh81qIoyzkZ103l+\n",
       "4ZEvexMpqt41kWIbDruK0TGqerU/2zzPjCMZMmp5iUU+vciIni8CPbRitkr3Tn9BNPOTdmb5dsGn\n",
       "a2S8sUXsPvGUL3sTydVsJKt4mQQSkvFiSnI9I5L54+Le9HHJkBHjWQdd9IhWv1nxODPPe2/ZMff5\n",
       "j7VbZd4UiuQYyZD4mYKZsU3MraK77mBzkLXPw56EvcLwrlVe5d7S5kRWzDwuZKsnYGdOWcvxNN/Y\n",
       "kix6qeqavTvDG/J8yQoZcpGipb8xyqm67NfJnMgKGXLZD7UKv++G5v1lODSPL8OhAhcpi/9LfwF9\n",
       "GoUpN6fzvwAAAABJRU5ErkJggg==\n",
       "\" style=\"display:inline;vertical-align:middle;\" /></a></span></td></tr>\n",
       "<tr><td>&nbsp;</td><td colspan=4 style-\"text-align:left\"><a class=\"ProveItLink\" href=\"../_axioms_.ipynb#iffDef\">proveit.logic.boolean.implication.iffDef</a></td></tr><tr><td><a name=\"0x60a756fc41bf909e_step9\">9</a></td><td>theorem</td><td></td><td><span style=\"font-size:20px;\"> <a class=\"ProveItLink\" href=\"../../../equality/_proofs_/substituteFalsehood.ipynb\" style=\"text-decoration: none\">&#x22A2;&nbsp;</a><a class=\"ProveItLink\" href=\"../../../equality/__pv_it/513a5a41962072c31ee6f37381162b908549d4eb0/expr.ipynb\"><img src=\"data:image/png;base64,iVBORw0KGgoAAAANSUhEUgAAAKoAAAAWBAMAAACiUBq/AAAAMFBMVEX///8QEBCIiIhmZma6urrM\n",
       "zMxUVFQiIiJERETc3Nzu7u6qqqp2dnaYmJgyMjIAAAAcRTyBAAAAAXRSTlMAQObYZgAAAn5JREFU\n",
       "OMutlU9oE0EUxj+SdJPNv/bgQfQSLCjUaIt4UNCToD0IVQ+exORgCkqFIJ5ahYJQNqImB8FexKWC\n",
       "lB40oCjegj0IWsp68aQSUA96abCl2hqq783szo7JSoX1wfJmZ9/8Zua9b2aB/2amI32qBjS58T4M\n",
       "7e2vqdGPNjDrdZwHXrP/GmqRG0BiG/DFe38ITPPaJ8NAe9q062/IDHkd6RyytPZ0PQw1skJPG/Ga\n",
       "15HsQ+bV3NydUAlItABjBRrkE/DDsq5sVl3Xnwj82ksFvzeEfmrO7LydzwHzQAmoALHq2IELfmRM\n",
       "uuHV+SnKUMPtfRJILTSQonXdpK03MpfiNMcH4AiSrK43wEttV9Jl+pAuw+CMFemJ1oKog2ML+2jq\n",
       "CaqPnV6PUcwzII4Iy3eUPndRjSIiLZzhJsskWQyiVm3httB3JISaCjSBE+fWVcDqosYdjit5VF+S\n",
       "un2HR6Uc51yq2TzNy1hDZJym6D9V0qiPathlo6yoexTKCyS5Lks/IXiioMfoqZzj8rTzfMoGjOZl\n",
       "jTryYqEO06c+VVQvUMqVjaqVsgcRsUW18JhHpZtSO1lHz8Ci0MOkog5zpGVZt1QgkF2XnuQ0Uq/i\n",
       "LjUPeblIuOett6ZTrwlqUVHPuiRDBSK6tCpyydt+sGPmME/2meXDNex1D21BSt2l/hSJ89d61KcW\n",
       "Os+EdmLLSsrUZ143W4tS8pLas+YHCeo7TAsZGSrQtz9uFzflSwcJsj158Xje9ql7l8X845zLrdYN\n",
       "YD9Oij2ZKlCzinYT6pbq1Ku03apFJf379TbbhZf2PJiqXlKO+H1s8ofJdIQ4wdSY13+fhoS5M6OB\n",
       "exj41+G/AfG2mr66OsvLAAAAAElFTkSuQmCC\n",
       "\" style=\"display:inline;vertical-align:middle;\" /></a></span></td></tr>\n",
       "<tr><td>&nbsp;</td><td colspan=4 style-\"text-align:left\"><a class=\"ProveItLink\" href=\"../../../equality/_proofs_/substituteFalsehood.ipynb\">proveit.logic.equality.substituteFalsehood</a></td></tr><tr><td><a name=\"0x60a756fc41bf909e_step10\">10</a></td><td>theorem</td><td></td><td><span style=\"font-size:20px;\"> <a class=\"ProveItLink\" href=\"../../conjunction/_proofs_/trueAndFalseNegated.ipynb\" style=\"text-decoration: none\">&#x22A2;&nbsp;</a><a class=\"ProveItLink\" href=\"../../conjunction/__pv_it/2c0133563043d3ed120a21814f641d23cec1706f0/expr.ipynb\"><img src=\"data:image/png;base64,iVBORw0KGgoAAAANSUhEUgAAAFYAAAAUBAMAAADl6NejAAAAMFBMVEX///+6uroQEBCqqqqIiIgy\n",
       "MjJERETu7u6YmJjMzMxUVFTc3Nx2dnYiIiJmZmYAAAAutVgsAAAAAXRSTlMAQObYZgAAAPdJREFU\n",
       "KM9jYECAHQx4APMGZB57AsPbuyBwC00ZpwGIXI0sxArWaQLjciOMdACRpchq+xhQ1LI+QFXL44Ck\n",
       "9jaq2mnXUdWyKyCUcl9AVbvQBVUtQyBCLcsDFLXsAbxoas8h1LI1oKjlMeAxQFXbCgmmO0AmrwGK\n",
       "Wl4G7gBUtbYQ3i4gZhJAUdvCwLASVe18nGqBoTALp1pUNzA/gEUOXK0sQi2q30DqmB+g+Q0S4yCP\n",
       "o4TZNKg7kNS+QYQZIyQuJKAxASJAscF39+4l3bt3FzAwRGLEMRQIwKxDJMMLGGkHJ0BJO2wb8Kot\n",
       "RUvr+EA2Cg9vHuLYwAAAxXE7tI62KFkAAAAASUVORK5CYII=\n",
       "\" style=\"display:inline;vertical-align:middle;\" /></a></span></td></tr>\n",
       "<tr><td>&nbsp;</td><td colspan=4 style-\"text-align:left\"><a class=\"ProveItLink\" href=\"../../conjunction/_proofs_/trueAndFalseNegated.ipynb\">proveit.logic.boolean.conjunction.trueAndFalseNegated</a></td></tr><tr><td><a name=\"0x60a756fc41bf909e_step11\">11</a></td><td>theorem</td><td></td><td><span style=\"font-size:20px;\"> <a class=\"ProveItLink\" href=\"negatedReflex.ipynb\" style=\"text-decoration: none\">&#x22A2;&nbsp;</a><a class=\"ProveItLink\" href=\"../__pv_it/4360ef00fbddc0297becbdccbed70c63a8f515560/expr.ipynb\"><img src=\"data:image/png;base64,iVBORw0KGgoAAAANSUhEUgAAANoAAAAWBAMAAABUGZ8nAAAAMFBMVEX///8QEBCIiIhmZma6urrM\n",
       "zMxUVFQiIiJERETc3Nzu7u6qqqp2dnaYmJgyMjIAAAAcRTyBAAAAAXRSTlMAQObYZgAAAydJREFU\n",
       "SMetVk9IFFEY/zk7qzvjrnoICuqw0CEpymBlhRBdCMpLKR3qEu2CGdYhpQ7RP9wgYo1ot4t5iZ0y\n",
       "KDawhaLoUBoeMovY6ljmSnXIQ4rmnxSx73uzo89pl0XWD+bNzPve+37f+31/ZoB1kjt5V5TGgDQ/\n",
       "DBcMpocBT9uMr/Vqdv0xuk4C7/h5rGC0MnIcRQRZ35RVP05XL9BNNy1cMNpnHoIpoHF3NrVn3ADc\n",
       "XpTxLVkw2nkequiAI15ryhVbUT+qpxe9Ap6hROJ2wWBaO49XyOJGw5pzSoylqgI0/gDmIpFL+a1l\n",
       "n16OkSL4mwGOnLKxK0Q1+ohkDAAtQKeYMseGqYFWQYEqm+23U6NGa/2deLrMGhtzzgxXXhSvNedY\n",
       "OpZDeB9BJvgbsBe6qALPHzOeFXBXCAMSWLHAGQlIUx+B13BY+CUceeUvcDckrXll5UMAcUZ+Tguh\n",
       "sGPoWRQKRwil83a0o6Kk6lPSlB/oM3TLdhE74iIvlQW5CEdN/5zNvjYOYpASMlUipobOml564Ujb\n",
       "0Vp4cD8wmXkpxjNAHfBLRisnbGVS2tb1NkM7LUibaFr6sMD3RoTmcRN2GXY0kXGHXOEVWvVpKNQT\n",
       "dspMcrkVi3jU/RZi+ULKEo7Ofs6O48IGaoSmcWelSY/Lnt8hRzsGI5HIzQ3s7uSna3R7JmcJl1tQ\n",
       "SvuD1nZCK5swswRPhK0vqBKqD8A2CY3Np1U24UkqE5l0ryZa01BoX0PGoJtJHiUnNhkrUbP6IZez\n",
       "izIItUw3J6f+/X1ULLwBxJOrzxZS+bS9tYPzGTMnDLj6oS2YzVZEhpBPLzX7I1JXKs5U48OlMZRG\n",
       "Z8mfn+w0ozgMxIWWTDTGbGiiK+yBNo2tPpJm2lCehEru7lvVufJ0BL3dejpABlLadWjz0LbY4hbi\n",
       "ZSpFZhF6IpG4x1zEDdyikv/6f9/ILW6rhbrmoEUvOzfjzZSvNWBDi+ECEA2je1YUXBdv7PD5+UtW\n",
       "na0F55Je++dVepYrYIe8SLablr+m+aTT9v4iB5or18c/tYY/BY/9+KkcCGoqu4Ge9fqrgSPXoSXZ\n",
       "vkab/wBSDM1Ms4MeswAAAABJRU5ErkJggg==\n",
       "\" style=\"display:inline;vertical-align:middle;\" /></a></span></td></tr>\n",
       "<tr><td>&nbsp;</td><td colspan=4 style-\"text-align:left\"><a class=\"ProveItLink\" href=\"negatedReflex.ipynb\">proveit.logic.boolean.implication.negatedReflex</a></td></tr><tr><td><a name=\"0x60a756fc41bf909e_step12\">12</a></td><td>assumption</td><td></td><td><span style=\"font-size:20px;\"><a class=\"ProveItLink\" href=\"../__pv_it/1aa8f774db02e9324f315136bde59af024cdb9980/expr.ipynb\"><img src=\"data:image/png;base64,iVBORw0KGgoAAAANSUhEUgAAAHUAAAAVBAMAAACK3rzVAAAAMFBMVEX///+IiIi6urrc3NxERETM\n",
       "zMwQEBCqqqpUVFQiIiJ2dnYyMjLu7u5mZmaYmJgAAABN0h6tAAAAAXRSTlMAQObYZgAAAcBJREFU\n",
       "OMtjYGDgu8dAMmC9eABE8exCEbUjqI/dAEgwpYKYfB+QJXgcgCL9P+62OGHXGA3EzSDGbRDBNQFZ\n",
       "jhtkKBvQgPsBWPXuB+LTIMZKTL1vQUT8AwYG/QvYtPLtB/qTSwC73skgQh5o+XsBuJgzQvr4faAU\n",
       "TwJWvcxgjhtQPvMAXDAEIf9AXgFIbsKqlxHs0h8MDJE9SA6FO5/pQD3QOwxrgXgZiM+xAUkvC0iK\n",
       "9cc7kelgLu9MMPgLkz7EEA/yymsgfg/ilwXA1CxgYOAsAFn+mYHhWANyjG6HMhQY7EFuqARFCJAR\n",
       "MhnuV6ByNpB3WIBhwfgdOQRPJ0FSU+/dfgdQPIA4nUAXqAWg6+UHMhg/IodglwHEu0AFG6B6uUEO\n",
       "43BA0gt2Myh6OT6B/bsbAiBaGYCSnKD40YT5Fx7OIL3gsAJFb7wDwlomaGgyA/Vyf4CG1TLUOAI6\n",
       "ngsUFNuAylMOIPkWyrYEhQUwHBluYY1fJiCn+3/vDZcCJMFWCHXk/x4Gdv+fQNO34kmTaMAAjc8z\n",
       "Aa43ASMvEACIvICaf1kMCOs9Dc+/DLvQ8z4hAMpXTJDUwn6PtDKHzwBaXgEAR2x7CKGngJgAAAAA\n",
       "SUVORK5CYII=\n",
       "\" style=\"display:inline;vertical-align:middle;\" /></a> <a class=\"ProveItLink\" href=\"../__pv_it/e332d0447da58767faf69bd3b16807f9eb73764c0/proof.ipynb\" style=\"text-decoration: none\">&#x22A2;&nbsp;</a><a class=\"ProveItLink\" href=\"../__pv_it/15271c97ee8b42c492956337f936a2289bfb14d10/expr.ipynb\"><img src=\"data:image/png;base64,iVBORw0KGgoAAAANSUhEUgAAAF8AAAAUBAMAAAAZ/fxpAAAAMFBMVEX///+6uroQEBCqqqqIiIgy\n",
       "MjJERETu7u6YmJjMzMxUVFTc3Nx2dnYiIiJmZmYAAAAutVgsAAAAAXRSTlMAQObYZgAAAWdJREFU\n",
       "KM9jYIAD7gYGQsAahVcGxF3/171KE8CqmDOAgYFrA7JINIhQY2Dg+4lVA+sHBgb2ACQBjgcgY34w\n",
       "MDD+w6qh9TuQOIIkwAuyjuU3UOcXuBgbwgnsdkAphiIkDXvBKhSAgtcR7k5AOIDlI8hdSP7zAxH8\n",
       "Cxg4bxUgBPvgLHFmoGsZeB4g5DJAxPwVLbkGYO7buyBwH6aAXYAT5FKOAIjEHSD7MkjcfwMDuxay\n",
       "V00h2hkYGbhBYcF8AcLdBcSKIEYSSJMBkgb2IIirZ7179Q3kqQ9oGn6BNDggadh1GkIDtamiabgM\n",
       "jQaG9WAzn4aCQTREATMQXwK5DMlJGdBo4PyGZIEolN4MxPEQT0PCG4jPgYIZGA1C6Ug+CIemS5DB\n",
       "+cBY5DuAkJQFpq34X++WJSNZwDUBoi//awGD2f97QBMnoCUNNMCNLlCLnvgIAeTEx5BNWD1K8gZn\n",
       "IAKADcXZRGTRbgYGAN9IW9L7DIJcAAAAAElFTkSuQmCC\n",
       "\" style=\"display:inline;vertical-align:middle;\" /></a></span></td></tr>\n",
       "</table>"
      ],
      "text/plain": [
       "\tstep type\trequirements\tstatement\n",
       "0\tgeneralizaton\t1\t|- forall_{A, B | [not](B => A)} [not](A <=> B)\n",
       "1\tinstantiation\t2, 3, 4\t{[not](B => A)} |- [not](A <=> B)\n",
       "\tP(_a) : [not](_a), x : A <=> B, y : (A => B) and (B => A)\n",
       "2\ttheorem\t\t|- forall_{P, x, y | P(y), x = y} P(x)\n",
       "\tproveit.logic.equality.subLeftSideInto\n",
       "3\tinstantiation\t5, 6, 7\t{[not](B => A)} |- [not]((A => B) and (B => A))\n",
       "\tP(_a) : [not](_a and (B => A)), x : A => B\n",
       "4\tinstantiation\t8\t|- (A <=> B) = ((A => B) and (B => A))\n",
       "\tA : A, B : B\n",
       "5\ttheorem\t\t|- forall_{P, x | P(TRUE), x} P(x)\n",
       "\tproveit.logic.equality.substituteTruth\n",
       "6\tinstantiation\t9, 10, 12\t{[not](B => A)} |- [not](TRUE and (B => A))\n",
       "\tP(_a) : [not](TRUE and _a), x : B => A\n",
       "7\tinstantiation\t11, 12\t{[not](B => A)} |- A => B\n",
       "\tA : B, B : A\n",
       "8\taxiom\t\t|- forall_{A, B} ((A <=> B) = ((A => B) and (B => A)))\n",
       "\tproveit.logic.boolean.implication.iffDef\n",
       "9\ttheorem\t\t|- forall_{P, x | P(FALSE), [not](x)} P(x)\n",
       "\tproveit.logic.equality.substituteFalsehood\n",
       "10\ttheorem\t\t|- [not](TRUE and FALSE)\n",
       "\tproveit.logic.boolean.conjunction.trueAndFalseNegated\n",
       "11\ttheorem\t\t|- forall_{A, B | [not](A => B)} (B => A)\n",
       "\tproveit.logic.boolean.implication.negatedReflex\n",
       "12\tassumption\t\t{[not](B => A)} |- [not](B => A)"
      ]
     },
     "execution_count": 16,
     "metadata": {},
     "output_type": "execute_result"
    }
   ],
   "source": [
    "%qed"
   ]
  },
  {
   "cell_type": "code",
   "execution_count": null,
   "metadata": {},
   "outputs": [],
   "source": []
  }
 ],
 "metadata": {
  "kernelspec": {
   "display_name": "Python 3",
   "language": "python",
   "name": "python3"
  }
 },
 "nbformat": 4,
 "nbformat_minor": 0
}
