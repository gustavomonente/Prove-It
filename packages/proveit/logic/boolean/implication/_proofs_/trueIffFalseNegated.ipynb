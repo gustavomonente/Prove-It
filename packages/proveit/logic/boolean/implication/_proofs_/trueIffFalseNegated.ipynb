{
 "cells": [
  {
   "cell_type": "markdown",
   "metadata": {},
   "source": [
    "Proof of <a class=\"ProveItLink\" href=\"../../../../_context_.ipynb\">proveit</a>.<a class=\"ProveItLink\" href=\"../../../_context_.ipynb\">logic</a>.<a class=\"ProveItLink\" href=\"../../_context_.ipynb\">boolean</a>.<a class=\"ProveItLink\" href=\"../_context_.ipynb\">implication</a>.<a href=\"../_theorems_.ipynb#trueIffFalseNegated\" class=\"ProveItLink\">trueIffFalseNegated</a> theorem\n",
    "========"
   ]
  },
  {
   "cell_type": "code",
   "execution_count": 1,
   "metadata": {},
   "outputs": [],
   "source": [
    "import proveit\n",
    "from proveit.logic.boolean.implication._theorems_ import iffTF\n",
    "context = proveit.Context('..') # the theorem's context is in the parent directory"
   ]
  },
  {
   "cell_type": "code",
   "execution_count": 2,
   "metadata": {},
   "outputs": [
    {
     "name": "stdout",
     "output_type": "stream",
     "text": [
      "Beginning proof of trueIffFalseNegated\n",
      "Recorded 'presuming' information\n"
     ]
    },
    {
     "name": "stdout",
     "output_type": "stream",
     "text": [
      "trueIffFalseNegated has been proven.  Now simply execute \"%qed\".\n"
     ]
    },
    {
     "data": {
      "text/html": [
       "<strong id=\"trueIffFalseNegated\">trueIffFalseNegated:</strong> <a class=\"ProveItLink\" href=\"../__pv_it/82e051b4002b8eca897f7ea168cdd57531b45f2f0/expr.ipynb\"><img src=\"data:image/png;base64,iVBORw0KGgoAAAANSUhEUgAAAF4AAAAUBAMAAAD2P5dXAAAAMFBMVEX///+6uroQEBCqqqqIiIgy\n",
       "MjJERETu7u6YmJjMzMxUVFTc3Nx2dnYiIiJmZmYAAAAutVgsAAAAAXRSTlMAQObYZgAAAPxJREFU\n",
       "KM9jYIAD7gYGAoB5AzKvjIHvLhgswKKU0wBErkYWigYb4YDDaLB4KZIIxwPC6nmQZHk3oKkPALpi\n",
       "Aap6dgWE+r0MqOpZQN7PRFXPEIhQ74emfhrYwQWo6s8h1GegqudUAgXVpXBU9a0Mb0HCd4DMy6jq\n",
       "vSAmTzNAUW8L4e0CYkUU9bUwn15DUT8fl3ruNRC66gAu9Wju4bgaCgI3Ud0vi1CP5l+GPnD4bED3\n",
       "LyQw4EGFUM8lACQeo4X/G0R4QqxihCdSdmD8cieAmcB0eEkXnA4j0dMDEgDy2QtQhdgvoKc3/AA5\n",
       "vTFkE1ZfippfCAIUIwnnR44NDAAZ0UR6pWqsxAAAAABJRU5ErkJggg==\n",
       "\" style=\"display:inline;vertical-align:middle;\" /></a><br>(see <a class=\"ProveItLink\" href=\"../__pv_it/82e051b4002b8eca897f7ea168cdd57531b45f2f0/dependencies.ipynb\">dependencies</a>)<br>"
      ],
      "text/plain": [
       "trueIffFalseNegated: [not](TRUE <=> FALSE)"
      ]
     },
     "execution_count": 2,
     "metadata": {},
     "output_type": "execute_result"
    }
   ],
   "source": [
    "%proving trueIffFalseNegated presuming []"
   ]
  },
  {
   "cell_type": "code",
   "execution_count": 3,
   "metadata": {},
   "outputs": [
    {
     "data": {
      "text/html": [
       "<table><tr><th>&nbsp;</th><th>step type</th><th>requirements</th><th>statement</th></tr>\n",
       "<tr><td><a name=\"-0x1c86c474c8cde89e_step0\">0</a></td><td>instantiation</td><td><a href=\"#-0x1c86c474c8cde89e_step1\">1</a>, <a href=\"#-0x1c86c474c8cde89e_step2\">2</a></td><td><span style=\"font-size:20px;\"> <a class=\"ProveItLink\" href=\"../__pv_it/978e7b9eb73913bcff7411c6a6661ab6d82b4e410/proof.ipynb\" style=\"text-decoration: none\">&#x22A2;&nbsp;</a><a class=\"ProveItLink\" href=\"../__pv_it/82e051b4002b8eca897f7ea168cdd57531b45f2f0/expr.ipynb\"><img src=\"data:image/png;base64,iVBORw0KGgoAAAANSUhEUgAAAF4AAAAUBAMAAAD2P5dXAAAAMFBMVEX///+6uroQEBCqqqqIiIgy\n",
       "MjJERETu7u6YmJjMzMxUVFTc3Nx2dnYiIiJmZmYAAAAutVgsAAAAAXRSTlMAQObYZgAAAPxJREFU\n",
       "KM9jYIAD7gYGAoB5AzKvjIHvLhgswKKU0wBErkYWigYb4YDDaLB4KZIIxwPC6nmQZHk3oKkPALpi\n",
       "Aap6dgWE+r0MqOpZQN7PRFXPEIhQ74emfhrYwQWo6s8h1GegqudUAgXVpXBU9a0Mb0HCd4DMy6jq\n",
       "vSAmTzNAUW8L4e0CYkUU9bUwn15DUT8fl3ruNRC66gAu9Wju4bgaCgI3Ud0vi1CP5l+GPnD4bED3\n",
       "LyQw4EGFUM8lACQeo4X/G0R4QqxihCdSdmD8cieAmcB0eEkXnA4j0dMDEgDy2QtQhdgvoKc3/AA5\n",
       "vTFkE1ZfippfCAIUIwnnR44NDAAZ0UR6pWqsxAAAAABJRU5ErkJggg==\n",
       "\" style=\"display:inline;vertical-align:middle;\" /></a></span></td></tr>\n",
       "<tr><td>&nbsp;</td><td colspan=4 style=\"text-align:left\"><span style=\"font-size:20px;\"><a class=\"ProveItLink\" href=\"../../../../__pv_it/d3792d0d8642fdf1cd2a3a9b32c673ee13653de00/expr.ipynb\"><img src=\"data:image/png;base64,iVBORw0KGgoAAAANSUhEUgAAAA8AAAAOBAMAAAACpFvcAAAALVBMVEX///8iIiIQEBBERERUVFS6\n",
       "urqIiIjc3NxmZmaqqqru7u6YmJgyMjLMzMwAAACK9jtgAAAAAXRSTlMAQObYZgAAAFtJREFUCNdj\n",
       "YACBOwxQcA5Kc59bAGGs7CuAMDbkBYBp1gXzNoAZSxnuJYAZAQx1DSCa16PDzwCshIGB6QCIMYGB\n",
       "gVEBSLMDGTwPgIxCIGZ+zsCw+N0pBk67hw0AfpEVEQi8t+wAAAAASUVORK5CYII=\n",
       "\" style=\"display:inline;vertical-align:middle;\" /></a> : <a class=\"ProveItLink\" href=\"../__pv_it/3d18eae865e4d374fed05ca0dc3a32b3358ff3660/expr.ipynb\"><img src=\"data:image/png;base64,iVBORw0KGgoAAAANSUhEUgAAAD8AAAAPBAMAAAChCwpBAAAAMFBMVEX///92dnbc3NwQEBDu7u5E\n",
       "RETMzMwyMjKYmJi6urqIiIiqqqpUVFQiIiJmZmYAAACZRlYpAAAAAXRSTlMAQObYZgAAAH9JREFU\n",
       "GNNjeHsXBO4wYAFsG6CMXQzYAfcC0hWwA3EOPgUrgJg1AbcCtgAgwVKCW0GyLchH5g64FHAdgZgT\n",
       "jUMBCywweANwmKAjAFF4EKcbestBoDYBpwKOByADivCEw0kg5tuAoWAGXIE7EKtCmHx3714G+voA\n",
       "augzAbELqhAAkD0vEfa5KscAAAAASUVORK5CYII=\n",
       "\" style=\"display:inline;vertical-align:middle;\" /></a></span></td></tr><tr><td><a name=\"-0x1c86c474c8cde89e_step1\">1</a></td><td>axiom</td><td></td><td><span style=\"font-size:20px;\"> <a class=\"ProveItLink\" href=\"../../negation/_axioms_.ipynb#negationIntro\" style=\"text-decoration: none\">&#x22A2;&nbsp;</a><a class=\"ProveItLink\" href=\"../../negation/__pv_it/60d41099a84ffe4c8d1c633bae08f2fab3d7c5640/expr.ipynb\"><img src=\"data:image/png;base64,iVBORw0KGgoAAAANSUhEUgAAAIUAAAAWBAMAAAAcBkLiAAAAMFBMVEX///8QEBCIiIhmZma6urrM\n",
       "zMxUVFQiIiJERETc3Nzu7u6qqqp2dnaYmJgyMjIAAAAcRTyBAAAAAXRSTlMAQObYZgAAAchJREFU\n",
       "OMtjYCANzEUX2AnED0CMu8QawdWAzGMFamabwMBwGsR5RawZfBNQeB+ApgLNmQFkczYQa8ZlFN69\n",
       "X0DiENCsBQwMPBuINaMSxWObfwLJhQwMvKdWrZpOrBGcBcg8XqYvIA85MDD86OioIdYMJgNknhf3\n",
       "XyDJAxRLZWDoBAtBSBaYCo4JmGZwXED2igPrJ5BrgIHqDA5aIPsLRBlMyX0HhPIEKM0ODDjzciCo\n",
       "AdvG+RlIcQP9x87ABDZ98V8UM7jskeyExRsjzNxpQBxmbPYDlEiAEcxzgR0sfKoYxQye5QYEzACy\n",
       "5aBmcD4IA6c5hQ4UM4I4GjDNYN+AMIMbSBWCvASKq84UkCgbgzmKGQnMBQwZHUBwAckMeJgCzZgN\n",
       "pN5Dw5RhMzjSbzPoI5vBu4HpA6Y7eGD+Y4UklX5g3DEfADL4FUBB+PhM/wIkM9bZnPiFaQYLPI1x\n",
       "9f9bwLDjPzAM+QJAVoL0Mi9gmB+AZIYVA+dXhrx3QIDsF9S0DgHL4SxfoHsuIMxgAbL/YroDLc+B\n",
       "wSF4AvzBwNlfizCjv4FhxndoAPJ0dEh09OBKvJAEipacSSiDcGYJEsvCmwwkm0EUYCZdCwB363LP\n",
       "gacX1AAAAABJRU5ErkJggg==\n",
       "\" style=\"display:inline;vertical-align:middle;\" /></a></span></td></tr>\n",
       "<tr><td>&nbsp;</td><td colspan=4 style-\"text-align:left\"><a class=\"ProveItLink\" href=\"../../negation/_axioms_.ipynb#negationIntro\">proveit.logic.boolean.negation.negationIntro</a></td></tr><tr><td><a name=\"-0x1c86c474c8cde89e_step2\">2</a></td><td>theorem</td><td></td><td><span style=\"font-size:20px;\"> <a class=\"ProveItLink\" href=\"iffTF.ipynb\" style=\"text-decoration: none\">&#x22A2;&nbsp;</a><a class=\"ProveItLink\" href=\"../__pv_it/66800b56595dfb98cb6339580d262380e788d77a0/expr.ipynb\"><img src=\"data:image/png;base64,iVBORw0KGgoAAAANSUhEUgAAAHoAAAAUBAMAAACwiTT9AAAAMFBMVEX////MzMxUVFR2dna6uroQ\n",
       "EBCqqqqIiIgiIiJmZmYyMjJERETu7u6YmJjc3NwAAACgK8IjAAAAAXRSTlMAQObYZgAAAQxJREFU\n",
       "OMtjYOC7wEAI5OGWOs3AMKMDBJqwyYqBCKYHuGQY1oHJdBxmg8V5FuCS4Z1AWDeDOS4ZjgdouoH2\n",
       "MCqg6T6KS/cLBlTd7KBA3Iimm8sBh+5KNN3SIOLUAVTdzBNw6N6LqpsxFBT8rWtQdfOCg81qFQis\n",
       "RJZpQ9VdBLFVOgFFN1sDDrtDUHSfgIVXN4puxg9E6eZThtCHDIjTjeZy3i6w5xpR/c3SgPD3Ijyh\n",
       "xnATHOYPsIUaFrst0XQzgaJ2Glp8cxrg0O0BYfvCBEFpmm8DhA3MPaHg3MMlgKYVJsOBnn+AfJ4D\n",
       "aGIncGVQ3gkMhIE5Tpl9hDVjzaHw0oEQ4H6AU4qIkukeLgkAyopRpuBKgI0AAAAASUVORK5CYII=\n",
       "\" style=\"display:inline;vertical-align:middle;\" /></a></span></td></tr>\n",
       "<tr><td>&nbsp;</td><td colspan=4 style-\"text-align:left\"><a class=\"ProveItLink\" href=\"iffTF.ipynb\">proveit.logic.boolean.implication.iffTF</a></td></tr></table>"
      ],
      "text/plain": [
       "\tstep type\trequirements\tstatement\n",
       "0\tinstantiation\t1, 2\t|- [not](TRUE <=> FALSE)\n",
       "\tA : TRUE <=> FALSE\n",
       "1\taxiom\t\t|- forall_{A | A = FALSE} [not](A)\n",
       "\tproveit.logic.boolean.negation.negationIntro\n",
       "2\ttheorem\t\t|- (TRUE <=> FALSE) = FALSE\n",
       "\tproveit.logic.boolean.implication.iffTF"
      ]
     },
     "execution_count": 3,
     "metadata": {},
     "output_type": "execute_result"
    }
   ],
   "source": [
    "%qed"
   ]
  },
  {
   "cell_type": "code",
   "execution_count": null,
   "metadata": {},
   "outputs": [],
   "source": []
  }
 ],
 "metadata": {
  "kernelspec": {
   "display_name": "Python 3",
   "language": "python",
   "name": "python3"
  }
 },
 "nbformat": 4,
 "nbformat_minor": 0
}
