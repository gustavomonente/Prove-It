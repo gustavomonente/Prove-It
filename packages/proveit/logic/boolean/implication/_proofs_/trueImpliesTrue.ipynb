{
 "cells": [
  {
   "cell_type": "markdown",
   "metadata": {},
   "source": [
    "Proof of <a class=\"ProveItLink\" href=\"../../../../_context_.ipynb\">proveit</a>.<a class=\"ProveItLink\" href=\"../../../_context_.ipynb\">logic</a>.<a class=\"ProveItLink\" href=\"../../_context_.ipynb\">boolean</a>.<a class=\"ProveItLink\" href=\"../_context_.ipynb\">implication</a>.<a href=\"../_theorems_.ipynb#trueImpliesTrue\" class=\"ProveItLink\">trueImpliesTrue</a> theorem\n",
    "========"
   ]
  },
  {
   "cell_type": "code",
   "execution_count": 1,
   "metadata": {},
   "outputs": [],
   "source": [
    "import proveit\n",
    "context = proveit.Context('..') # the theorem's context is in the parent directory"
   ]
  },
  {
   "cell_type": "code",
   "execution_count": 2,
   "metadata": {},
   "outputs": [
    {
     "name": "stdout",
     "output_type": "stream",
     "text": [
      "Beginning proof of trueImpliesTrue\n",
      "Recorded 'presuming' information\n",
      "Presuming previous theorem (applied transitively).\n"
     ]
    },
    {
     "data": {
      "text/html": [
       "<strong id=\"trueImpliesTrue\">trueImpliesTrue:</strong> <a class=\"ProveItLink\" href=\"../__pv_it/2c1273c63a04d90eb0f530ed4ed6742ad1ea90800/expr.ipynb\"><img src=\"data:image/png;base64,iVBORw0KGgoAAAANSUhEUgAAAD8AAAAPBAMAAAChCwpBAAAAMFBMVEX///92dnYQEBDu7u4yMjLM\n",
       "zMzc3NxERESYmJi6urqIiIiqqqpUVFQiIiJmZmYAAACJh1oyAAAAAXRSTlMAQObYZgAAAGBJREFU\n",
       "GNNjeHsXBO4woAM+sPjdAyD2LgbsgHsBlEGaAvYEAgpYCwhZ0YdbAcRD9x8QcuSWDQQUMDtNwK8g\n",
       "RwyXCU9cwMCNgBumEPAmszOmghnICngC4EzOBmwRwIbGBwAahy0U7u7JOAAAAABJRU5ErkJggg==\n",
       "\" style=\"display:inline;vertical-align:middle;\" /></a><br>(see <a class=\"ProveItLink\" href=\"../__pv_it/2c1273c63a04d90eb0f530ed4ed6742ad1ea90800/dependencies.ipynb\">dependencies</a>)<br>"
      ],
      "text/plain": [
       "trueImpliesTrue: TRUE => TRUE"
      ]
     },
     "execution_count": 2,
     "metadata": {},
     "output_type": "execute_result"
    }
   ],
   "source": [
    "%proving trueImpliesTrue presuming []"
   ]
  },
  {
   "cell_type": "code",
   "execution_count": 3,
   "metadata": {},
   "outputs": [
    {
     "data": {
      "text/html": [
       "<table><tr><th>&nbsp;</th><th>step type</th><th>requirements</th><th>statement</th></tr>\n",
       "<tr><td><a name=\"0x25a5b2ef26cf71be_step0\">0</a></td><td>instantiation</td><td><a href=\"#0x25a5b2ef26cf71be_step1\">1</a></td><td><span style=\"font-size:20px;\"> <a class=\"ProveItLink\" href=\"../__pv_it/ec37d2ebb9bd2bb32313263d311c4e930ac0aeb70/proof.ipynb\" style=\"text-decoration: none\">&#x22A2;&nbsp;</a><a class=\"ProveItLink\" href=\"../__pv_it/2c1273c63a04d90eb0f530ed4ed6742ad1ea90800/expr.ipynb\"><img src=\"data:image/png;base64,iVBORw0KGgoAAAANSUhEUgAAAD8AAAAPBAMAAAChCwpBAAAAMFBMVEX///92dnYQEBDu7u4yMjLM\n",
       "zMzc3NxERESYmJi6urqIiIiqqqpUVFQiIiJmZmYAAACJh1oyAAAAAXRSTlMAQObYZgAAAGBJREFU\n",
       "GNNjeHsXBO4woAM+sPjdAyD2LgbsgHsBlEGaAvYEAgpYCwhZ0YdbAcRD9x8QcuSWDQQUMDtNwK8g\n",
       "RwyXCU9cwMCNgBumEPAmszOmghnICngC4EzOBmwRwIbGBwAahy0U7u7JOAAAAABJRU5ErkJggg==\n",
       "\" style=\"display:inline;vertical-align:middle;\" /></a></span></td></tr>\n",
       "<tr><td>&nbsp;</td><td colspan=4 style=\"text-align:left\"><span style=\"font-size:20px;\"><a class=\"ProveItLink\" href=\"../../../../__pv_it/d3792d0d8642fdf1cd2a3a9b32c673ee13653de00/expr.ipynb\"><img src=\"data:image/png;base64,iVBORw0KGgoAAAANSUhEUgAAAA8AAAAOBAMAAAACpFvcAAAALVBMVEX///8iIiIQEBBERERUVFS6\n",
       "urqIiIjc3NxmZmaqqqru7u6YmJgyMjLMzMwAAACK9jtgAAAAAXRSTlMAQObYZgAAAFtJREFUCNdj\n",
       "YACBOwxQcA5Kc59bAGGs7CuAMDbkBYBp1gXzNoAZSxnuJYAZAQx1DSCa16PDzwCshIGB6QCIMYGB\n",
       "gVEBSLMDGTwPgIxCIGZ+zsCw+N0pBk67hw0AfpEVEQi8t+wAAAAASUVORK5CYII=\n",
       "\" style=\"display:inline;vertical-align:middle;\" /></a> : <a class=\"ProveItLink\" href=\"../../__pv_it/b5b8ce0f03ab68a7c7bb937dfeb4112a686e3cbb0/expr.ipynb\"><img src=\"data:image/png;base64,iVBORw0KGgoAAAANSUhEUgAAAA4AAAAOBAMAAADtZjDiAAAAG1BMVEX///+YmJi6urqIiIiqqqpU\n",
       "VFQiIiJmZmYAAAD2GhH1AAAAAXRSTlMAQObYZgAAABhJREFUCNdjKEsDgVQGIHBmgABa0YpADADk\n",
       "ogYfXGfJdgAAAABJRU5ErkJggg==\n",
       "\" style=\"display:inline;vertical-align:middle;\" /></a></span></td></tr><tr><td><a name=\"0x25a5b2ef26cf71be_step1\">1</a></td><td>theorem</td><td></td><td><span style=\"font-size:20px;\"> <a class=\"ProveItLink\" href=\"selfImplication.ipynb\" style=\"text-decoration: none\">&#x22A2;&nbsp;</a><a class=\"ProveItLink\" href=\"../__pv_it/cbad95bc603b571c3a75865d0ca73648c95fac040/expr.ipynb\"><img src=\"data:image/png;base64,iVBORw0KGgoAAAANSUhEUgAAAHIAAAAUBAMAAACjXnQJAAAAMFBMVEX///8QEBCIiIhmZma6urrM\n",
       "zMxUVFQiIiJERETc3Nzu7u6qqqp2dnaYmJgyMjIAAAAcRTyBAAAAAXRSTlMAQObYZgAAAZ5JREFU\n",
       "OMtjYMACOC8wEADcExgYHoAYd1HFV0CoOBzaQOKZDAynQexXqFIvIdR7HDpB4usYGGaAXNeAIsNr\n",
       "AKHeL8CqESzOo8DAB6I2oEixTwBTq+0nwIU4EEyIOJcAA++pVaumoxoK5V7Qd4ALsSK5CiL+hIHh\n",
       "R0dHDapOZTDJsmA/UhBfhrOg4ocZGFIZGDrBQp0wuV4wuYQhXgFEm5eDQL0BTBYqfo+BwZmBCxwz\n",
       "vF9gctVg0oFhvgGSQ/bBwgIqvh0YHgxMYFct/gtTJAL2WbJxPnKQcz2E+BomHg8M2AvsYKFTxSg6\n",
       "WRgYGB8g6Zx2EupNqDhQJ+eDMLBZCh0orgU6jl0AxLB7BwbQ1AEXdweFTApIhI3BHDmEOIEq+D4g\n",
       "rPSDJWmYODCEGDYXgIRuM+jDVB2GxinHT4QvXyHFNVjcBoj5QYHM9fhMPyyxAR2y4v8rBu7+7/DA\n",
       "ZQuA5gW4+FNQdIB0MC9gmB+AmvpQ8h26AFcBjOULtPsCaorHC3gUYCn6BwNnfy1MuJOwznXYhVcQ\n",
       "1onDcMKlCe8EBgDLUXFfmLCapgAAAABJRU5ErkJggg==\n",
       "\" style=\"display:inline;vertical-align:middle;\" /></a></span></td></tr>\n",
       "<tr><td>&nbsp;</td><td colspan=4 style-\"text-align:left\"><a class=\"ProveItLink\" href=\"selfImplication.ipynb\">proveit.logic.boolean.implication.selfImplication</a></td></tr></table>"
      ],
      "text/plain": [
       "\tstep type\trequirements\tstatement\n",
       "0\tinstantiation\t1\t|- TRUE => TRUE\n",
       "\tA : TRUE\n",
       "1\ttheorem\t\t|- forall_{A} (A => A)\n",
       "\tproveit.logic.boolean.implication.selfImplication"
      ]
     },
     "execution_count": 3,
     "metadata": {},
     "output_type": "execute_result"
    }
   ],
   "source": [
    "%qed"
   ]
  },
  {
   "cell_type": "code",
   "execution_count": null,
   "metadata": {},
   "outputs": [],
   "source": []
  }
 ],
 "metadata": {
  "kernelspec": {
   "display_name": "Python 3",
   "language": "python",
   "name": "python3"
  }
 },
 "nbformat": 4,
 "nbformat_minor": 0
}
