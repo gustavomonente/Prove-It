{
 "cells": [
  {
   "cell_type": "markdown",
   "metadata": {},
   "source": [
    "Proof of <a class=\"ProveItLink\" href=\"../../../../_context_.ipynb\">proveit</a>.<a class=\"ProveItLink\" href=\"../../../_context_.ipynb\">logic</a>.<a class=\"ProveItLink\" href=\"../../_context_.ipynb\">boolean</a>.<a class=\"ProveItLink\" href=\"../_context_.ipynb\">implication</a>.<a href=\"../_theorems_.ipynb#iffImpliesLeft\" class=\"ProveItLink\">iffImpliesLeft</a> theorem\n",
    "========"
   ]
  },
  {
   "cell_type": "code",
   "execution_count": 1,
   "metadata": {},
   "outputs": [],
   "source": [
    "import proveit\n",
    "from proveit.logic.boolean.implication._axioms_ import iffDef\n",
    "from proveit._common_ import A, B\n",
    "context = proveit.Context('..') # the theorem's context is in the parent directory"
   ]
  },
  {
   "cell_type": "code",
   "execution_count": 2,
   "metadata": {},
   "outputs": [
    {
     "name": "stdout",
     "output_type": "stream",
     "text": [
      "Beginning proof of iffImpliesLeft\n",
      "Recorded 'presuming' information\n"
     ]
    },
    {
     "name": "stdout",
     "output_type": "stream",
     "text": [
      "Presuming proveit.logic.boolean.conjunction.rightFromAnd theorem (applied transitively).\n",
      "Presuming previous theorems (applied transitively).\n"
     ]
    },
    {
     "data": {
      "text/html": [
       "<strong id=\"iffImpliesLeft\">iffImpliesLeft:</strong> <a class=\"ProveItLink\" href=\"../__pv_it/81d0be00c6bed87e04a47496d253ccb34db87b310/expr.ipynb\"><img src=\"data:image/png;base64,iVBORw0KGgoAAAANSUhEUgAAAMIAAAAWBAMAAABgYF47AAAAMFBMVEX///8QEBCIiIhmZma6urrM\n",
       "zMxUVFQiIiJERETc3Nzu7u6qqqp2dnaYmJgyMjIAAAAcRTyBAAAAAXRSTlMAQObYZgAAAuZJREFU\n",
       "SMetVU9IFFEY/zk7u86Mu+qtoA5Ll7yU1tAaIbrQIS+ldKhbK1hhHVLqEFGhUcQYwdqlJIidKCg2\n",
       "2BY6RJfc8FBZxFTHMFeqQx5SNP9G2Pe92cnnuiKNfTBv5r3vzfv93u/7vveAddidNWdU9AF5/hj2\n",
       "BWD0AJHOGbPjSmn/EXpOAG/4e8wXQiURRBnBNLWW9I/TkwH66aX3+EL4yE3CAVrqSrkj4zYQjqKS\n",
       "X1lfCOe4qaWNjES9Ia1vyf2oiTpGNSJD6fQtXwB6F7eXaJUNtjcWlNRwauPUfgXmLOuCLwRFaDMD\n",
       "HD5ZpJww1R4gATEIHAN6xZDbNk8NdoitqqV2riYbYr3eOC8QnBmuOS+69WfZuv+G5D4SLN5nYC8M\n",
       "kbGRn258qhGuFgt4U0fiEvH3wIvCZzlHT5kH7rZJE557MY0jxWhPaSIUJoN7v4Uj0IaKBRnBaHKk\n",
       "BWLAQEH1MkbWiI3ySy6SUZdQsN3s5KAkKJGccjE0dMZlFkUgLyOEHxAVow56jnungUZICFXEX5mU\n",
       "EG6+LuhJE/Iugp4/JDCjlvA8bsV2W0Y4qBGVEMViFzOchjImq8TlEBL6Nv4Q9r3gJWc5q72PI3yU\n",
       "R0KoF56WbTWurB5CW4CycodlWaOEok5+uAo50lwOCSlFD3ipTAiVE26k8UTk9SfUCtc7YKuMEMkq\n",
       "E2gW2u60Ec5D6fLk40COEupGeykK3ga5xDTKAjSwlJxUxpe3STHxOpDKSgiZhlcLOO7yi0PLQffi\n",
       "qhLUqcX2mCWdCKHCCfVwcQwVyVni8I1Z8soBGynhpf9b+iSEPdCnoV82TXM3hboqC3V+2alRVOcr\n",
       "zl9vx9hPfzv6NegL0DdLKqkkNqVx5nY6vYW6KRs3civrd3ULe0eWNgc9eTG4CS+nzI64hJDsQf+s\n",
       "AzUnboNwtxlbugzkYl/NMsVXkvStLfO0wrBL3UBrWW9R/9mqCD5v0UjxNp1/Q1inBf7TOn8ADxy7\n",
       "3ecq6SEAAAAASUVORK5CYII=\n",
       "\" style=\"display:inline;vertical-align:middle;\" /></a><br>(see <a class=\"ProveItLink\" href=\"../__pv_it/81d0be00c6bed87e04a47496d253ccb34db87b310/dependencies.ipynb\">dependencies</a>)<br>"
      ],
      "text/plain": [
       "iffImpliesLeft: forall_{A, B | A <=> B} (B => A)"
      ]
     },
     "execution_count": 2,
     "metadata": {},
     "output_type": "execute_result"
    }
   ],
   "source": [
    "%proving iffImpliesLeft presuming [proveit.logic.boolean.conjunction.rightFromAnd]"
   ]
  },
  {
   "cell_type": "code",
   "execution_count": 3,
   "metadata": {},
   "outputs": [
    {
     "data": {
      "text/html": [
       "<span style=\"font-size:20px;\"> <a class=\"ProveItLink\" href=\"../_axioms_.ipynb#iffDef\" style=\"text-decoration: none\">&#x22A2;&nbsp;</a><a class=\"ProveItLink\" href=\"../__pv_it/7e13510ad32a73fabb39fbd3d838d36a55d815580/expr.ipynb\"><img src=\"data:image/png;base64,iVBORw0KGgoAAAANSUhEUgAAAXkAAAAVBAMAAABRbIObAAAAMFBMVEX///8QEBCIiIhmZma6urrM\n",
       "zMxUVFQiIiJERETc3Nzu7u6qqqp2dnaYmJgyMjIAAAAcRTyBAAAAAXRSTlMAQObYZgAAA8xJREFU\n",
       "SMfVl09oE0EUxj+TbNNNmrQHUUGRgAe9aAuFetOoB0VQ40U8aUALRRQrQgtWUU+2/iF7qoJgVxQs\n",
       "FarQi15U9CBakaCgFFEiHqQKtjRaa6XW+fdmk+0kTVsvfvC1Yd/8Zt/OvJnZBcrJzkrPovv/jqyQ\n",
       "Ief4hfclGvYqM+0zxd9MH2jqTKLK+WdkrxczyWLpcoY8yC9+KZH9sDLTiLHBMiD4A5HcgkmngFMx\n",
       "k+KjEAz5Cp+uM+bkYw3S/OeIaxqKKSCUBx4vmPzkcTpm0IdJSEY5zvquuWvOPuxIM93eqEYnzryH\n",
       "GgR+sRuOAdcrIbm6SpDWOVdzOqZU7fGRARYSjHLseV/f5RKFc1mZKVuvCnEt7y9FHdexPk6wR0pW\n",
       "QHLthZms2pzQnI7RNHmVEQt8h2TIE52dJ0tkv0qZTaT7MOt1FaF1UpuG1cYnr2F20qsMA9mPVs3p\n",
       "GOm1/rU9yopKMORmmk/5d1v+SQtN1SVl4Cb2y8HZvbSdaaXqe/+RV+d41cX44qv5JtRgJoPtQlTO\n",
       "RSTfOwb1HXUMWC+Y0/TIkaQ1phjyFrXwY9/l6NShpk617lAGkugRXQQOyRm4IBvUO4gsYf+jrb6x\n",
       "n0kqRb8ayVZc05yOaT1Q6zIEO68YchgBMbU3pkSLYBrRSUUtVoZ1oPGoKJk2WpWyFs/ye7GurVFf\n",
       "9jNIrf7FBjKWQFWKOB3zFutHuTr2NDZNQDLkmmxYhJ4fl3klEMz5cwgBi8TF7keyu8OywTi/T6Jc\n",
       "9pqks/SwYyDDLqy0zp5iWt3PoOYRK33Z2zmxAVqJTtHiTgrrXP/8s4EIy3J6K2r7c0pv2jjK+gy1\n",
       "enWfNpNBGf3mGEgM0DnVURgDNkhGHXtR5mOQDBldB8WehfWiya61a9LwrVr7rjzlaNOIDHubtjXh\n",
       "rT1PBlJWbs5IDqsnEIyOkXaq/1fVwV24ajEgHv8d6kWTl8Bqwp4o8124+pe8xh81qIoyzkZ103l+\n",
       "4ZEvexMpqt41kWIbDruK0TGqerU/2zzPjCMZMmp5iUU+vciIni8CPbRitkr3Tn9BNPOTdmb5dsGn\n",
       "a2S8sUXsPvGUL3sTydVsJKt4mQQSkvFiSnI9I5L54+Le9HHJkBHjWQdd9IhWv1nxODPPe2/ZMff5\n",
       "j7VbZd4UiuQYyZD4mYKZsU3MraK77mBzkLXPw56EvcLwrlVe5d7S5kRWzDwuZKsnYGdOWcvxNN/Y\n",
       "kix6qeqavTvDG/J8yQoZcpGipb8xyqm67NfJnMgKGXLZD7UKv++G5v1lODSPL8OhAhcpi/9LfwF9\n",
       "GoUpN6fzvwAAAABJRU5ErkJggg==\n",
       "\" style=\"display:inline;vertical-align:middle;\" /></a></span>"
      ],
      "text/plain": [
       "|- forall_{A, B} ((A <=> B) = ((A => B) and (B => A)))"
      ]
     },
     "execution_count": 3,
     "metadata": {},
     "output_type": "execute_result"
    }
   ],
   "source": [
    "iffDef"
   ]
  },
  {
   "cell_type": "code",
   "execution_count": 4,
   "metadata": {},
   "outputs": [
    {
     "data": {
      "text/html": [
       "<strong id=\"iffDefSpec\">iffDefSpec:</strong> <span style=\"font-size:20px;\"> <a class=\"ProveItLink\" href=\"../__pv_it/ea9ccea84dfef3269a03d425b2db548ff04e41f30/proof.ipynb\" style=\"text-decoration: none\">&#x22A2;&nbsp;</a><a class=\"ProveItLink\" href=\"../__pv_it/63af5f3c2f364b33f7f867fa32c28001974860380/expr.ipynb\"><img src=\"data:image/png;base64,iVBORw0KGgoAAAANSUhEUgAAATEAAAAUBAMAAAAXXRdqAAAAMFBMVEX///9UVFTMzMx2dna6uroQ\n",
       "EBCqqqqIiIgiIiJmZmYyMjJERETu7u6YmJjc3NwAAAC+aOQFAAAAAXRSTlMAQObYZgAAA5pJREFU\n",
       "SMedVk1IVFEUPu81zozNT5Ir+9N2kYtxVdgiZhNFBBlMELmZZRbUtJQWMwWK/VAjQWQbLTJIRCUq\n",
       "hDInyJBxM60iIXttQoIoQzIztXvPuX++eY0zHjnznvfc753v3HvuORcgWoD15LzH2DehFSLL8OZ3\n",
       "BG6K/t/rNendal33izhYTpElPELKxO7zQEbq53q2Py1GTmmbp3Aau4BwQzQ07DmxFaD6J4SLfW92\n",
       "SPnrDy9kFaPd26CQkuGQtnk65DTygB4jWYpxOOcxz14G8C0C7C+yfBDKZPqvl4sY27bjWYV8LJYy\n",
       "a9i8lprT2JRCj0GK5m2vjIqxtWvEe2CFTV4AmCj6xE2hLLy2FT38Sr2l2fc+pSTSHqXAyZuwCQkZ\n",
       "O440wi3ocZaGCum4IMNT9IkE8Tk32IbF3YmcIeVhBub1eKN6e8Y8nMpJpHWYiMyaNrkxIxpPNB6i\n",
       "x3Yc8eUuFIxv5wVsSw3Yl/n6upc+kCVlcsy/bOyGmjgHsGeHQuaBwmg3bWZmgEmjGXFjOPQGYhSU\n",
       "fbKLScegSJad70eT3CEm8oEBLpgxoQIpCz5uL/BndRfKolyIuY+XOhUS9rE/LmOmDeAuYm6pcASN\n",
       "acTRlDh8J/NFWq3GpEyW8AleYjKuNQsmSVmYEF00i9EjnaETNQqZga/47DRtSs4mxYugcQZxCYyi\n",
       "rqced3tSAq7LhIA0g9nuwlAVJwXY3dO9ZFryCZWhgV8SGUmBhVUiYdp0ceynbJQ0YohLUOBQhcse\n",
       "raW5r5tkQkA6VZIZ+zltHo1aR2YoBBYkMpgT5z1h2pR8PijSTNAgZri+fG9aKIWvYTJdUeUM6plv\n",
       "X0bn2f01u+ln2oF5NkDi6HJmzUtkm6yxnaYN4B5hRLFXNI4gjudkNKkrOR6UvKOSxV7SeaxFnYAv\n",
       "a9uHr88oZ7ERiRwS7OgESJuUo3K9JQ06Ac2iyoREvbT4Ht0RLYgFcOglX5AmFzNeDLhiTRvXpVKW\n",
       "G+hnLFtzAokVK5ijeqBtMstEIdA0biOOrdzU6iD4x3/T4eQdK0oBWcOs8z5Hiu4mxzeJaXj8Tw7O\n",
       "rV5V41vFcxu/CiQlEqMNpGiftE2IJT6uaTxAXNB9G+Dtwd1DJ0t0JzfYA+nD1wbVnVz9pOgek0Fc\n",
       "JAvrS8mOXgmyLG+ioxtN+L/icQvibTjkVI4sw5u8BcmbYykJlbw5VoQswxtnj7gy7r8zG75tz2zg\n",
       "th1xEPcPr/tEHfZflmoAAAAASUVORK5CYII=\n",
       "\" style=\"display:inline;vertical-align:middle;\" /></a></span><br>"
      ],
      "text/plain": [
       "iffDefSpec: |- (A <=> B) = ((A => B) and (B => A))"
      ]
     },
     "execution_count": 4,
     "metadata": {},
     "output_type": "execute_result"
    }
   ],
   "source": [
    "iffDefSpec = iffDef.instantiate({A:A, B:B})"
   ]
  },
  {
   "cell_type": "code",
   "execution_count": 5,
   "metadata": {},
   "outputs": [
    {
     "data": {
      "text/html": [
       "<strong id=\"iff_unfolded\">iff_unfolded:</strong> <span style=\"font-size:20px;\"><a class=\"ProveItLink\" href=\"../__pv_it/f1249517abb13a455fd388b73ae2537ceffced240/expr.ipynb\"><img src=\"data:image/png;base64,iVBORw0KGgoAAAANSUhEUgAAAFMAAAAVBAMAAADInc9CAAAAMFBMVEX///+IiIi6urrc3NxERETM\n",
       "zMwQEBCqqqpUVFQiIiJ2dnYyMjLu7u5mZmaYmJgAAABN0h6tAAAAAXRSTlMAQObYZgAAAXBJREFU\n",
       "KM9jYGDgu8dACLBePACieHYxEAZMqSCS7wNU5wYsSvj6f9xtcQIyboN4XBMgotwfsBnH5sDAcD+A\n",
       "gWElstLXf7ApjX/AwKB/AVUpT+1nqCw3EEfAlMobMDC8F0BVysf4CSorB8QsAVCOG9CQzAOoSnXY\n",
       "/0G95wCyYw9U6Q8GhsgeIL0MxOEA+5xHgfUjRDIscyYQZB+A6PvxTmQ6iPEeRJSB7WJiYP4LlmTs\n",
       "gahxh/CAHjjWAPIA0Gshk8FiEXdvfAGbPgNqMyfIHQwsCUDl30GsTqDf1MCmKjAwZIOVWCyABEgX\n",
       "mOIHmsgIchk3yGgOkHZ2IJ4GMe7lbhDYGQAPVo5PMLeCQ8AciPdD4/ICyNDNiGCNd4CFAEgpM0i5\n",
       "vwFEugmIeQsg7G1AD6eAAgMWrjz+vw8wlPyfC5E+DcQmEGb3/94bLmBdKGkADpiB+Ax6WoAoTSAi\n",
       "vUKU8n0gRik4vTIQlQuSwBQ7kXkLAEmwYW7uLXXfAAAAAElFTkSuQmCC\n",
       "\" style=\"display:inline;vertical-align:middle;\" /></a> <a class=\"ProveItLink\" href=\"../__pv_it/7443f705ded56225a65ed97d46945d052c4583970/proof.ipynb\" style=\"text-decoration: none\">&#x22A2;&nbsp;</a><a class=\"ProveItLink\" href=\"../__pv_it/502a0e2beda363613f57dcbceb41b51971081e900/expr.ipynb\"><img src=\"data:image/png;base64,iVBORw0KGgoAAAANSUhEUgAAALUAAAAUBAMAAAA5PWHRAAAAMFBMVEX///9UVFTMzMx2dna6uroQ\n",
       "EBCqqqqIiIgiIiJmZmYyMjJERETu7u6YmJjc3NwAAAC+aOQFAAAAAXRSTlMAQObYZgAAAl9JREFU\n",
       "OMudVTFoFEEUfbuud5vc3iVoFUQSWy1iZUgTrpEEsYhwlTZpo6DXpkosPBQEL13Oxm0UDOEujRLQ\n",
       "5K5QkVwTK9FC1kaCjYkIMUZzzvw/szteBm7xHcfMnzdv/p//Z3aAwhZ64Wb3QFpNm/tnbRPedYYW\n",
       "XxThRF3j7YSzwQ3BmjrbDeusa0DfdwShMrWPesLZ0L8D0uSrZOYbLVsAfwBvHxhT9lNuSKM5Cz7+\n",
       "Bml8juXNI2PfG7qTPRQL7QGvlas1DoA0mlPIJfpgVlBSs8321ryRunOxYFrMuS82yaQzWaZ22+T0\n",
       "Flfjbj77A6SZI9Nr3TJKr/IEDAzCvS1iPcYDm1igds7kND7EvcsZkS6pWSfzFUYppL67BJ3G0dPv\n",
       "12akMy7mBfGTWDc5YIk0D3RAQdHdY02F7CK+VY1iZJ5wOx8huCJtjncBX6mtmFyM6+wJHgr7rClR\n",
       "soZqw6vmvE0axjO5hpC4O5SqMpwR2SmZXFLCx1yVM7XFA5CmxK5wPDTv3Umu+q7Ul/XafgvuYLy2\n",
       "5mJ8noDKAa7y2rQ/4d6fpnwvM6L4eGNYzPUoJ7P61lRMDnjIGnUJM+J/B6SRdSnM8F3S8MLkeLsH\n",
       "cS3ran3SxJzGJdV+UZdcaMbVec0dGtlWR6tf7OXiS7md8/oE+5IaNzmd7RWVTrnFZkSaKfHl6awg\n",
       "0/yZHJQT3DiN3dqp5+REltCRCcjKDE+ZnAJXGUHzVws3OvdI40dHvwdHht6qgguMAFZNwaLJV9Eb\n",
       "Y/+aqTUbvacFYddAWk2797yc7W1Io0nxPn36jzdNaP4C8jTBYUc5oRQAAAAASUVORK5CYII=\n",
       "\" style=\"display:inline;vertical-align:middle;\" /></a></span><br>"
      ],
      "text/plain": [
       "iff_unfolded: {A <=> B} |- (A => B) and (B => A)"
      ]
     },
     "execution_count": 5,
     "metadata": {},
     "output_type": "execute_result"
    }
   ],
   "source": [
    "iff_unfolded = iffDefSpec.deriveRightViaEquivalence(iffImpliesLeft.conditions)"
   ]
  },
  {
   "cell_type": "code",
   "execution_count": 6,
   "metadata": {},
   "outputs": [
    {
     "data": {
      "text/html": [
       "<span style=\"font-size:20px;\"><a class=\"ProveItLink\" href=\"../__pv_it/f1249517abb13a455fd388b73ae2537ceffced240/expr.ipynb\"><img src=\"data:image/png;base64,iVBORw0KGgoAAAANSUhEUgAAAFMAAAAVBAMAAADInc9CAAAAMFBMVEX///+IiIi6urrc3NxERETM\n",
       "zMwQEBCqqqpUVFQiIiJ2dnYyMjLu7u5mZmaYmJgAAABN0h6tAAAAAXRSTlMAQObYZgAAAXBJREFU\n",
       "KM9jYGDgu8dACLBePACieHYxEAZMqSCS7wNU5wYsSvj6f9xtcQIyboN4XBMgotwfsBnH5sDAcD+A\n",
       "gWElstLXf7ApjX/AwKB/AVUpT+1nqCw3EEfAlMobMDC8F0BVysf4CSorB8QsAVCOG9CQzAOoSnXY\n",
       "/0G95wCyYw9U6Q8GhsgeIL0MxOEA+5xHgfUjRDIscyYQZB+A6PvxTmQ6iPEeRJSB7WJiYP4LlmTs\n",
       "gahxh/CAHjjWAPIA0Gshk8FiEXdvfAGbPgNqMyfIHQwsCUDl30GsTqDf1MCmKjAwZIOVWCyABEgX\n",
       "mOIHmsgIchk3yGgOkHZ2IJ4GMe7lbhDYGQAPVo5PMLeCQ8AciPdD4/ICyNDNiGCNd4CFAEgpM0i5\n",
       "vwFEugmIeQsg7G1AD6eAAgMWrjz+vw8wlPyfC5E+DcQmEGb3/94bLmBdKGkADpiB+Ax6WoAoTSAi\n",
       "vUKU8n0gRik4vTIQlQuSwBQ7kXkLAEmwYW7uLXXfAAAAAElFTkSuQmCC\n",
       "\" style=\"display:inline;vertical-align:middle;\" /></a> <a class=\"ProveItLink\" href=\"../__pv_it/a3f939549607c60b66e04568bdaafefd5e377cd70/proof.ipynb\" style=\"text-decoration: none\">&#x22A2;&nbsp;</a><a class=\"ProveItLink\" href=\"../__pv_it/8b9c784705e35002d4429ef743e77d1f418289900/expr.ipynb\"><img src=\"data:image/png;base64,iVBORw0KGgoAAAANSUhEUgAAAEAAAAAPBAMAAACmSdRUAAAAMFBMVEX///92dnYyMjKqqqoiIiLu\n",
       "7u7c3NyIiIjMzMwQEBC6urpERERmZmZUVFSYmJgAAADEjrHzAAAAAXRSTlMAQObYZgAAAOpJREFU\n",
       "GNNjYGB4+//O2d0LGLABDgUwNZuBgecHVgVMH8DK/jEwcP3BquDRVxDJ/o2Bge87XJA7Ac5ktfkG\n",
       "FpnAwBDpirB3A5zJx/4LRPFfYODwDUCY+wbOWsr8D0T133u+xQAscMQFBPwPwGxYwAG2uT6BgXUu\n",
       "stOMIMoZuBjYwG7fCVJkgKSAVRMSKr1nzv4G0X9BCgqQFOSKQWigsknQYGC4D9ZzSAkM1CDyzEDs\n",
       "CQ0Gjt9IBiyC0slArA8KTmAwrNyK5AJVCM3mACT2JzDw6v89c3szkgG8DRB1+z8FMFj/98EMfzZU\n",
       "LgBdXD0b6P4qzAAAAABJRU5ErkJggg==\n",
       "\" style=\"display:inline;vertical-align:middle;\" /></a></span>"
      ],
      "text/plain": [
       "{A <=> B} |- B => A"
      ]
     },
     "execution_count": 6,
     "metadata": {},
     "output_type": "execute_result"
    }
   ],
   "source": [
    "iff_unfolded.deriveRight()"
   ]
  },
  {
   "cell_type": "code",
   "execution_count": 7,
   "metadata": {},
   "outputs": [
    {
     "data": {
      "text/html": [
       "<table><tr><th>&nbsp;</th><th>step type</th><th>requirements</th><th>statement</th></tr>\n",
       "<tr><td><a name=\"0x2f87a0dccf38e311_step0\">0</a></td><td>generalizaton</td><td><a href=\"#0x2f87a0dccf38e311_step1\">1</a></td><td><span style=\"font-size:20px;\"> <a class=\"ProveItLink\" href=\"../__pv_it/c158905de51a2d1b1a638d703c40a9e5c5d3b24c0/proof.ipynb\" style=\"text-decoration: none\">&#x22A2;&nbsp;</a><a class=\"ProveItLink\" href=\"../__pv_it/81d0be00c6bed87e04a47496d253ccb34db87b310/expr.ipynb\"><img src=\"data:image/png;base64,iVBORw0KGgoAAAANSUhEUgAAAMIAAAAWBAMAAABgYF47AAAAMFBMVEX///8QEBCIiIhmZma6urrM\n",
       "zMxUVFQiIiJERETc3Nzu7u6qqqp2dnaYmJgyMjIAAAAcRTyBAAAAAXRSTlMAQObYZgAAAuZJREFU\n",
       "SMetVU9IFFEY/zk7u86Mu+qtoA5Ll7yU1tAaIbrQIS+ldKhbK1hhHVLqEFGhUcQYwdqlJIidKCg2\n",
       "2BY6RJfc8FBZxFTHMFeqQx5SNP9G2Pe92cnnuiKNfTBv5r3vzfv93u/7vveAddidNWdU9AF5/hj2\n",
       "BWD0AJHOGbPjSmn/EXpOAG/4e8wXQiURRBnBNLWW9I/TkwH66aX3+EL4yE3CAVrqSrkj4zYQjqKS\n",
       "X1lfCOe4qaWNjES9Ia1vyf2oiTpGNSJD6fQtXwB6F7eXaJUNtjcWlNRwauPUfgXmLOuCLwRFaDMD\n",
       "HD5ZpJww1R4gATEIHAN6xZDbNk8NdoitqqV2riYbYr3eOC8QnBmuOS+69WfZuv+G5D4SLN5nYC8M\n",
       "kbGRn258qhGuFgt4U0fiEvH3wIvCZzlHT5kH7rZJE557MY0jxWhPaSIUJoN7v4Uj0IaKBRnBaHKk\n",
       "BWLAQEH1MkbWiI3ySy6SUZdQsN3s5KAkKJGccjE0dMZlFkUgLyOEHxAVow56jnungUZICFXEX5mU\n",
       "EG6+LuhJE/Iugp4/JDCjlvA8bsV2W0Y4qBGVEMViFzOchjImq8TlEBL6Nv4Q9r3gJWc5q72PI3yU\n",
       "R0KoF56WbTWurB5CW4CycodlWaOEok5+uAo50lwOCSlFD3ipTAiVE26k8UTk9SfUCtc7YKuMEMkq\n",
       "E2gW2u60Ec5D6fLk40COEupGeykK3ga5xDTKAjSwlJxUxpe3STHxOpDKSgiZhlcLOO7yi0PLQffi\n",
       "qhLUqcX2mCWdCKHCCfVwcQwVyVni8I1Z8soBGynhpf9b+iSEPdCnoV82TXM3hboqC3V+2alRVOcr\n",
       "zl9vx9hPfzv6NegL0DdLKqkkNqVx5nY6vYW6KRs3civrd3ULe0eWNgc9eTG4CS+nzI64hJDsQf+s\n",
       "AzUnboNwtxlbugzkYl/NMsVXkvStLfO0wrBL3UBrWW9R/9mqCD5v0UjxNp1/Q1inBf7TOn8ADxy7\n",
       "3ecq6SEAAAAASUVORK5CYII=\n",
       "\" style=\"display:inline;vertical-align:middle;\" /></a></span></td></tr>\n",
       "<tr><td><a name=\"0x2f87a0dccf38e311_step1\">1</a></td><td>instantiation</td><td><a href=\"#0x2f87a0dccf38e311_step2\">2</a>, <a href=\"#0x2f87a0dccf38e311_step3\">3</a></td><td><span style=\"font-size:20px;\"><a class=\"ProveItLink\" href=\"../__pv_it/f1249517abb13a455fd388b73ae2537ceffced240/expr.ipynb\"><img src=\"data:image/png;base64,iVBORw0KGgoAAAANSUhEUgAAAFMAAAAVBAMAAADInc9CAAAAMFBMVEX///+IiIi6urrc3NxERETM\n",
       "zMwQEBCqqqpUVFQiIiJ2dnYyMjLu7u5mZmaYmJgAAABN0h6tAAAAAXRSTlMAQObYZgAAAXBJREFU\n",
       "KM9jYGDgu8dACLBePACieHYxEAZMqSCS7wNU5wYsSvj6f9xtcQIyboN4XBMgotwfsBnH5sDAcD+A\n",
       "gWElstLXf7ApjX/AwKB/AVUpT+1nqCw3EEfAlMobMDC8F0BVysf4CSorB8QsAVCOG9CQzAOoSnXY\n",
       "/0G95wCyYw9U6Q8GhsgeIL0MxOEA+5xHgfUjRDIscyYQZB+A6PvxTmQ6iPEeRJSB7WJiYP4LlmTs\n",
       "gahxh/CAHjjWAPIA0Gshk8FiEXdvfAGbPgNqMyfIHQwsCUDl30GsTqDf1MCmKjAwZIOVWCyABEgX\n",
       "mOIHmsgIchk3yGgOkHZ2IJ4GMe7lbhDYGQAPVo5PMLeCQ8AciPdD4/ICyNDNiGCNd4CFAEgpM0i5\n",
       "vwFEugmIeQsg7G1AD6eAAgMWrjz+vw8wlPyfC5E+DcQmEGb3/94bLmBdKGkADpiB+Ax6WoAoTSAi\n",
       "vUKU8n0gRik4vTIQlQuSwBQ7kXkLAEmwYW7uLXXfAAAAAElFTkSuQmCC\n",
       "\" style=\"display:inline;vertical-align:middle;\" /></a> <a class=\"ProveItLink\" href=\"../__pv_it/a3f939549607c60b66e04568bdaafefd5e377cd70/proof.ipynb\" style=\"text-decoration: none\">&#x22A2;&nbsp;</a><a class=\"ProveItLink\" href=\"../__pv_it/8b9c784705e35002d4429ef743e77d1f418289900/expr.ipynb\"><img src=\"data:image/png;base64,iVBORw0KGgoAAAANSUhEUgAAAEAAAAAPBAMAAACmSdRUAAAAMFBMVEX///92dnYyMjKqqqoiIiLu\n",
       "7u7c3NyIiIjMzMwQEBC6urpERERmZmZUVFSYmJgAAADEjrHzAAAAAXRSTlMAQObYZgAAAOpJREFU\n",
       "GNNjYGB4+//O2d0LGLABDgUwNZuBgecHVgVMH8DK/jEwcP3BquDRVxDJ/o2Bge87XJA7Ac5ktfkG\n",
       "FpnAwBDpirB3A5zJx/4LRPFfYODwDUCY+wbOWsr8D0T133u+xQAscMQFBPwPwGxYwAG2uT6BgXUu\n",
       "stOMIMoZuBjYwG7fCVJkgKSAVRMSKr1nzv4G0X9BCgqQFOSKQWigsknQYGC4D9ZzSAkM1CDyzEDs\n",
       "CQ0Gjt9IBiyC0slArA8KTmAwrNyK5AJVCM3mACT2JzDw6v89c3szkgG8DRB1+z8FMFj/98EMfzZU\n",
       "LgBdXD0b6P4qzAAAAABJRU5ErkJggg==\n",
       "\" style=\"display:inline;vertical-align:middle;\" /></a></span></td></tr>\n",
       "<tr><td>&nbsp;</td><td colspan=4 style=\"text-align:left\"><span style=\"font-size:20px;\"><a class=\"ProveItLink\" href=\"../../../../__pv_it/d3792d0d8642fdf1cd2a3a9b32c673ee13653de00/expr.ipynb\"><img src=\"data:image/png;base64,iVBORw0KGgoAAAANSUhEUgAAAA8AAAAOBAMAAAACpFvcAAAALVBMVEX///8iIiIQEBBERERUVFS6\n",
       "urqIiIjc3NxmZmaqqqru7u6YmJgyMjLMzMwAAACK9jtgAAAAAXRSTlMAQObYZgAAAFtJREFUCNdj\n",
       "YACBOwxQcA5Kc59bAGGs7CuAMDbkBYBp1gXzNoAZSxnuJYAZAQx1DSCa16PDzwCshIGB6QCIMYGB\n",
       "gVEBSLMDGTwPgIxCIGZ+zsCw+N0pBk67hw0AfpEVEQi8t+wAAAAASUVORK5CYII=\n",
       "\" style=\"display:inline;vertical-align:middle;\" /></a> : <a class=\"ProveItLink\" href=\"../__pv_it/8b52df86786c45166e4e597fabcdbadc8276ac2f0/expr.ipynb\"><img src=\"data:image/png;base64,iVBORw0KGgoAAAANSUhEUgAAAEAAAAAPBAMAAACmSdRUAAAAMFBMVEX///92dnYiIiIQEBBERERU\n",
       "VFS6urqIiIjc3NxmZmaqqqru7u6YmJgyMjLMzMwAAADiRdoGAAAAAXRSTlMAQObYZgAAAO5JREFU\n",
       "GNNjYACBtwxYwNH/kVNdEiDs+9gUMJgwMHD+A7N47m/AIs/3h4GB7SeYuWt+A0LcA8Zg/wHU+h3M\n",
       "PFCfgFDwBMZgMWBg2KwNYrFtWH8AoYBnApTBH8DApwq2exvD+wIQzakEBj+hCt7HHHdaAGYlMPRP\n",
       "QHIc1y0IXd/AwG0Kdm3kzHgHZOfvNQNTziBFICPYGBiYLyDJcwRC/PQVpABkN1ARkwHYDXchoAEe\n",
       "DAzxQO9xABXwfkAYwHYBEQx8X4CMJpCXfyC5ABqqvEBTk70ZGLb8v83A5f8J4Y04CMV6/+vMEC9s\n",
       "UdSAygUACNlBmGjrK1sAAAAASUVORK5CYII=\n",
       "\" style=\"display:inline;vertical-align:middle;\" /></a>, <a class=\"ProveItLink\" href=\"../../../../__pv_it/4d98b438710c5ada9ffa4646bb123a7d0e69ec000/expr.ipynb\"><img src=\"data:image/png;base64,iVBORw0KGgoAAAANSUhEUgAAABAAAAAOBAMAAADUAYG5AAAALVBMVEX///8yMjKqqqoiIiLu7u7c\n",
       "3NyIiIjMzMwQEBC6urpERERmZmZUVFSYmJgAAACsPVCVAAAAAXRSTlMAQObYZgAAAGxJREFUCNdj\n",
       "YGC48+70nlUTGICgi4GB+zmQZn/LwMD5Gshge8rAwPsMyOBqYGDwMAEy+A4wsNs4ABl1Z68tVgBp\n",
       "ygtgYOkBMVaAOCChNyBGAsQYhnMTIMawvwJyGIHGzFjCwMAj92b3qUUMDAAXABxvZ4rl5AAAAABJ\n",
       "RU5ErkJggg==\n",
       "\" style=\"display:inline;vertical-align:middle;\" /></a> : <a class=\"ProveItLink\" href=\"../__pv_it/8b9c784705e35002d4429ef743e77d1f418289900/expr.ipynb\"><img src=\"data:image/png;base64,iVBORw0KGgoAAAANSUhEUgAAAEAAAAAPBAMAAACmSdRUAAAAMFBMVEX///92dnYyMjKqqqoiIiLu\n",
       "7u7c3NyIiIjMzMwQEBC6urpERERmZmZUVFSYmJgAAADEjrHzAAAAAXRSTlMAQObYZgAAAOpJREFU\n",
       "GNNjYGB4+//O2d0LGLABDgUwNZuBgecHVgVMH8DK/jEwcP3BquDRVxDJ/o2Bge87XJA7Ac5ktfkG\n",
       "FpnAwBDpirB3A5zJx/4LRPFfYODwDUCY+wbOWsr8D0T133u+xQAscMQFBPwPwGxYwAG2uT6BgXUu\n",
       "stOMIMoZuBjYwG7fCVJkgKSAVRMSKr1nzv4G0X9BCgqQFOSKQWigsknQYGC4D9ZzSAkM1CDyzEDs\n",
       "CQ0Gjt9IBiyC0slArA8KTmAwrNyK5AJVCM3mACT2JzDw6v89c3szkgG8DRB1+z8FMFj/98EMfzZU\n",
       "LgBdXD0b6P4qzAAAAABJRU5ErkJggg==\n",
       "\" style=\"display:inline;vertical-align:middle;\" /></a></span></td></tr><tr><td><a name=\"0x2f87a0dccf38e311_step2\">2</a></td><td>theorem</td><td></td><td><span style=\"font-size:20px;\"> <a class=\"ProveItLink\" href=\"../../conjunction/_proofs_/rightFromAnd.ipynb\" style=\"text-decoration: none\">&#x22A2;&nbsp;</a><a class=\"ProveItLink\" href=\"../../conjunction/__pv_it/5dbca7b6dbffb0f0c3dde117ee98426171d0f8730/expr.ipynb\"><img src=\"data:image/png;base64,iVBORw0KGgoAAAANSUhEUgAAAHMAAAAWBAMAAAABVL48AAAAMFBMVEX///8QEBCIiIhmZma6urrM\n",
       "zMxUVFQiIiJERETc3Nzu7u6qqqp2dnaYmJgyMjIAAAAcRTyBAAAAAXRSTlMAQObYZgAAAYZJREFU\n",
       "OMudkz9Iw0AUxj8T+ydtYrsp6JDNLlqhoKOCi4u0k44NqFAcVHBUoYJDKkK76daKWxcLTp0dhCqS\n",
       "XYoVN0crpVZE7y6UHjlDOd/w7t3v7rt3914C/N9a1DWlJMZuJ5U7Ae7p5E0u3UgeWMzggoRaXk6a\n",
       "dYD0HMYqgF6TkyZLwLMJo1GtnkvW5xiIjJOUXds+lJR2gPVtMm4BBQZcv9K+zZVoMNrf6OFAoNNM\n",
       "HNBgGRHWIOPDrXwcepwG4X4rPBxQPoFLiwQhKA4FV9+MqxaiPV7q5WSFHKF8kUB3Qgw09tkQMqG2\n",
       "eKmXAzGSUXmnTW2tsQeYNuPXGcxWOKnA3bYG2TMKm9QHscB4eiZhgZMK3G1rln1FN3vUPyHJ+CMw\n",
       "zUsFDryQ8k+wG8RM4iKvD0U2OwPKtYFU5Nj52Zi33dCgS2oF5QydkcqlSwOpyAVbJdkd7RRaD9oU\n",
       "d2GRey3chVY8Ckzirp3KLQ2kf3Afi/Kn+XAfq/tI68Oljo/Ukfuz1GEbfgEUVW+4LH+JngAAAABJ\n",
       "RU5ErkJggg==\n",
       "\" style=\"display:inline;vertical-align:middle;\" /></a></span></td></tr>\n",
       "<tr><td>&nbsp;</td><td colspan=4 style-\"text-align:left\"><a class=\"ProveItLink\" href=\"../../conjunction/_proofs_/rightFromAnd.ipynb\">proveit.logic.boolean.conjunction.rightFromAnd</a></td></tr><tr><td><a name=\"0x2f87a0dccf38e311_step3\">3</a></td><td>instantiation</td><td><a href=\"#0x2f87a0dccf38e311_step4\">4</a>, <a href=\"#0x2f87a0dccf38e311_step5\">5</a>, <a href=\"#0x2f87a0dccf38e311_step6\">6</a></td><td><span style=\"font-size:20px;\"><a class=\"ProveItLink\" href=\"../__pv_it/f1249517abb13a455fd388b73ae2537ceffced240/expr.ipynb\"><img src=\"data:image/png;base64,iVBORw0KGgoAAAANSUhEUgAAAFMAAAAVBAMAAADInc9CAAAAMFBMVEX///+IiIi6urrc3NxERETM\n",
       "zMwQEBCqqqpUVFQiIiJ2dnYyMjLu7u5mZmaYmJgAAABN0h6tAAAAAXRSTlMAQObYZgAAAXBJREFU\n",
       "KM9jYGDgu8dACLBePACieHYxEAZMqSCS7wNU5wYsSvj6f9xtcQIyboN4XBMgotwfsBnH5sDAcD+A\n",
       "gWElstLXf7ApjX/AwKB/AVUpT+1nqCw3EEfAlMobMDC8F0BVysf4CSorB8QsAVCOG9CQzAOoSnXY\n",
       "/0G95wCyYw9U6Q8GhsgeIL0MxOEA+5xHgfUjRDIscyYQZB+A6PvxTmQ6iPEeRJSB7WJiYP4LlmTs\n",
       "gahxh/CAHjjWAPIA0Gshk8FiEXdvfAGbPgNqMyfIHQwsCUDl30GsTqDf1MCmKjAwZIOVWCyABEgX\n",
       "mOIHmsgIchk3yGgOkHZ2IJ4GMe7lbhDYGQAPVo5PMLeCQ8AciPdD4/ICyNDNiGCNd4CFAEgpM0i5\n",
       "vwFEugmIeQsg7G1AD6eAAgMWrjz+vw8wlPyfC5E+DcQmEGb3/94bLmBdKGkADpiB+Ax6WoAoTSAi\n",
       "vUKU8n0gRik4vTIQlQuSwBQ7kXkLAEmwYW7uLXXfAAAAAElFTkSuQmCC\n",
       "\" style=\"display:inline;vertical-align:middle;\" /></a> <a class=\"ProveItLink\" href=\"../__pv_it/7443f705ded56225a65ed97d46945d052c4583970/proof.ipynb\" style=\"text-decoration: none\">&#x22A2;&nbsp;</a><a class=\"ProveItLink\" href=\"../__pv_it/502a0e2beda363613f57dcbceb41b51971081e900/expr.ipynb\"><img src=\"data:image/png;base64,iVBORw0KGgoAAAANSUhEUgAAALUAAAAUBAMAAAA5PWHRAAAAMFBMVEX///9UVFTMzMx2dna6uroQ\n",
       "EBCqqqqIiIgiIiJmZmYyMjJERETu7u6YmJjc3NwAAAC+aOQFAAAAAXRSTlMAQObYZgAAAl9JREFU\n",
       "OMudVTFoFEEUfbuud5vc3iVoFUQSWy1iZUgTrpEEsYhwlTZpo6DXpkosPBQEL13Oxm0UDOEujRLQ\n",
       "5K5QkVwTK9FC1kaCjYkIMUZzzvw/szteBm7xHcfMnzdv/p//Z3aAwhZ64Wb3QFpNm/tnbRPedYYW\n",
       "XxThRF3j7YSzwQ3BmjrbDeusa0DfdwShMrWPesLZ0L8D0uSrZOYbLVsAfwBvHxhT9lNuSKM5Cz7+\n",
       "Bml8juXNI2PfG7qTPRQL7QGvlas1DoA0mlPIJfpgVlBSs8321ryRunOxYFrMuS82yaQzWaZ22+T0\n",
       "Flfjbj77A6SZI9Nr3TJKr/IEDAzCvS1iPcYDm1igds7kND7EvcsZkS6pWSfzFUYppL67BJ3G0dPv\n",
       "12akMy7mBfGTWDc5YIk0D3RAQdHdY02F7CK+VY1iZJ5wOx8huCJtjncBX6mtmFyM6+wJHgr7rClR\n",
       "soZqw6vmvE0axjO5hpC4O5SqMpwR2SmZXFLCx1yVM7XFA5CmxK5wPDTv3Umu+q7Ul/XafgvuYLy2\n",
       "5mJ8noDKAa7y2rQ/4d6fpnwvM6L4eGNYzPUoJ7P61lRMDnjIGnUJM+J/B6SRdSnM8F3S8MLkeLsH\n",
       "cS3ran3SxJzGJdV+UZdcaMbVec0dGtlWR6tf7OXiS7md8/oE+5IaNzmd7RWVTrnFZkSaKfHl6awg\n",
       "0/yZHJQT3DiN3dqp5+REltCRCcjKDE+ZnAJXGUHzVws3OvdI40dHvwdHht6qgguMAFZNwaLJV9Eb\n",
       "Y/+aqTUbvacFYddAWk2797yc7W1Io0nxPn36jzdNaP4C8jTBYUc5oRQAAAAASUVORK5CYII=\n",
       "\" style=\"display:inline;vertical-align:middle;\" /></a></span></td></tr>\n",
       "<tr><td>&nbsp;</td><td colspan=4 style=\"text-align:left\"><span style=\"font-size:20px;\"><a class=\"ProveItLink\" href=\"../../../../__pv_it/390c91a44e60b16c95d2255652741252e8ec8d980/expr.ipynb\"><img src=\"data:image/png;base64,iVBORw0KGgoAAAANSUhEUgAAABAAAAAOBAMAAADUAYG5AAAAMFBMVEX///8iIiLc3Ny6urqIiIiq\n",
       "qqp2dnbMzMwQEBDu7u5mZmYyMjJERERUVFSYmJgAAAA4CJ/KAAAAAXRSTlMAQObYZgAAAF5JREFU\n",
       "CNdjYGB4+//s3V0TGIDgNwMDTyeQZv/GwMD6Bchg+QzEQA4DzwcGBl4gh4F/AwOD/gIgoz6BgVUM\n",
       "pMn/WtoSsO7zYBIIPkJp9l9QBsgYMOD+CaG59v91ANEANtEY7WfmSIAAAAAASUVORK5CYII=\n",
       "\" style=\"display:inline;vertical-align:middle;\" /></a> : <a class=\"ProveItLink\" href=\"../__pv_it/639412fc83dccc0c825a7f4479a7068ed18b18c70/expr.ipynb\"><img src=\"data:image/png;base64,iVBORw0KGgoAAAANSUhEUgAAAEAAAAAPBAMAAACmSdRUAAAAMFBMVEX///92dnYiIiIQEBBERERU\n",
       "VFS6urqIiIjc3NxmZmaqqqru7u6YmJgyMjLMzMwAAADiRdoGAAAAAXRSTlMAQObYZgAAAQpJREFU\n",
       "GNNjYACBtwxYwNH/kVNdEiDs+9gUMJgwMHD+A7N47m/AIs/3h4GB7SeYuWt+A1TwAlA8AMpm/wHU\n",
       "+h3MPFAPtYr9AJDwgypgMWBg2KwNYrFtWH8AIvYEROyF2scfwMCnCmZvY3hfALHVWAkIlG9DFLyP\n",
       "Oe60AMxKYOifAGaUQvQ+gQjXNzBwm4L1Rc6MdwAxNsGcpwImnUGKQGrZGBiYL4BEOAIh8lsFwNRX\n",
       "kAKQ3UBFTAaQ8NC9CwJ68GBgiAd6jwOogPcDRO9JsC8a4MHA9wXIaAJ5+QdEASsoPGZB2LxAU5O9\n",
       "GRi2/L/NwOX/CeINbqBbOBwgau9/nRnihRH+QNO5UeMFAE9FRwBt4bk1AAAAAElFTkSuQmCC\n",
       "\" style=\"display:inline;vertical-align:middle;\" /></a>, <a class=\"ProveItLink\" href=\"../../../../__pv_it/dbe7145e53d9411a5ba89652cbfea9d54e4b581a0/expr.ipynb\"><img src=\"data:image/png;base64,iVBORw0KGgoAAAANSUhEUgAAAA8AAAASBAMAAAB2sJk8AAAAMFBMVEX///+qqqq6urrc3NwQEBAy\n",
       "MjJERERUVFTMzMwiIiKYmJh2dnZmZmaIiIju7u4AAABsX1SbAAAAAXRSTlMAQObYZgAAAINJREFU\n",
       "CNdjYGDgu7P7FAMI7GxgYE8A0k8DgILeQEbIAyBRz8DA/Qskvd+AwX4CiHFegWH/BRAjv4FhfgOI\n",
       "8R+IQGoZvzMwTAEJcP5jYCgBMe4DFfY/eHuD4w+Qw3thAff6DSDhvuqbyQxgrQzsDVwGYAbbATUw\n",
       "zcDz/weEwTFFgIEBAOxlJHQBUmidAAAAAElFTkSuQmCC\n",
       "\" style=\"display:inline;vertical-align:middle;\" /></a> : <a class=\"ProveItLink\" href=\"../__pv_it/502a0e2beda363613f57dcbceb41b51971081e900/expr.ipynb\"><img src=\"data:image/png;base64,iVBORw0KGgoAAAANSUhEUgAAALUAAAAUBAMAAAA5PWHRAAAAMFBMVEX///9UVFTMzMx2dna6uroQ\n",
       "EBCqqqqIiIgiIiJmZmYyMjJERETu7u6YmJjc3NwAAAC+aOQFAAAAAXRSTlMAQObYZgAAAl9JREFU\n",
       "OMudVTFoFEEUfbuud5vc3iVoFUQSWy1iZUgTrpEEsYhwlTZpo6DXpkosPBQEL13Oxm0UDOEujRLQ\n",
       "5K5QkVwTK9FC1kaCjYkIMUZzzvw/szteBm7xHcfMnzdv/p//Z3aAwhZ64Wb3QFpNm/tnbRPedYYW\n",
       "XxThRF3j7YSzwQ3BmjrbDeusa0DfdwShMrWPesLZ0L8D0uSrZOYbLVsAfwBvHxhT9lNuSKM5Cz7+\n",
       "Bml8juXNI2PfG7qTPRQL7QGvlas1DoA0mlPIJfpgVlBSs8321ryRunOxYFrMuS82yaQzWaZ22+T0\n",
       "Flfjbj77A6SZI9Nr3TJKr/IEDAzCvS1iPcYDm1igds7kND7EvcsZkS6pWSfzFUYppL67BJ3G0dPv\n",
       "12akMy7mBfGTWDc5YIk0D3RAQdHdY02F7CK+VY1iZJ5wOx8huCJtjncBX6mtmFyM6+wJHgr7rClR\n",
       "soZqw6vmvE0axjO5hpC4O5SqMpwR2SmZXFLCx1yVM7XFA5CmxK5wPDTv3Umu+q7Ul/XafgvuYLy2\n",
       "5mJ8noDKAa7y2rQ/4d6fpnwvM6L4eGNYzPUoJ7P61lRMDnjIGnUJM+J/B6SRdSnM8F3S8MLkeLsH\n",
       "cS3ran3SxJzGJdV+UZdcaMbVec0dGtlWR6tf7OXiS7md8/oE+5IaNzmd7RWVTrnFZkSaKfHl6awg\n",
       "0/yZHJQT3DiN3dqp5+REltCRCcjKDE+ZnAJXGUHzVws3OvdI40dHvwdHht6qgguMAFZNwaLJV9Eb\n",
       "Y/+aqTUbvacFYddAWk2797yc7W1Io0nxPn36jzdNaP4C8jTBYUc5oRQAAAAASUVORK5CYII=\n",
       "\" style=\"display:inline;vertical-align:middle;\" /></a></span></td></tr><tr><td><a name=\"0x2f87a0dccf38e311_step4\">4</a></td><td>theorem</td><td></td><td><span style=\"font-size:20px;\"> <a class=\"ProveItLink\" href=\"../../../equality/_proofs_/rhsViaEquivalence.ipynb\" style=\"text-decoration: none\">&#x22A2;&nbsp;</a><a class=\"ProveItLink\" href=\"../../../equality/__pv_it/22dd17ef92a3dcd8333d9f8061d1caab322a4cf30/expr.ipynb\"><img src=\"data:image/png;base64,iVBORw0KGgoAAAANSUhEUgAAAIkAAAAWBAMAAAAGOqJsAAAAMFBMVEX///8QEBCIiIhmZma6urrM\n",
       "zMxUVFQiIiJERETc3Nzu7u6qqqp2dnaYmJgyMjIAAAAcRTyBAAAAAXRSTlMAQObYZgAAAgFJREFU\n",
       "OMutVD9IG1EY/3nR/DnvqkiXVgdFxEUaxyiIBy7ZmnZwcDFCdSiCuhaLgYImhZJsuqjRMUMrdMoi\n",
       "0kIFDXrOIqaLg9BWEKVpbdPve5fcvUsc9OgP3vf78uX3fnfve/ce8F9Q5HDiebraXRgi2uf83LPL\n",
       "bgz+BLBCaSjh1eQ9LUXtAB5kAW3Lq8tXmo0ZQN/L5Za9mmh/OB5mgJ/J5LxXl/VZjsMGMAmkgMb0\n",
       "dOQll7oLg0LQaOmi158XsxJbqIoOOzmmY8AIVN7tI+o30ZqBZ0IdtPR6K7RZiQVs0UKMY5lGAIpJ\n",
       "NAWEabceAb645OKPQ7mQmOGIyuzVfM0dMgNceA0kydIUj3VcqBBMSFypVURz4ucvdi6O8jdYgvIK\n",
       "6KLUembF5UMGvVmJGY5ogkNYNCf1gpt508df8RkNX1FyefqpsGWzP0l4J4nGs5s9TZdC+JG7pokq\n",
       "bmg07EguB3CzW6R0mtqpyNDCbxTsF3mbtVuOyxu42S3C2HRvCmKjdF5vi3UIptTj0EPZ5Tck9n8n\n",
       "fJNEXIvpGdt/nNLQW2w817cNyaWpBFEXXIUjEouI2n8oPwZoSjvUyJd4SHJ5cpkRdcH2nWKLuM3l\n",
       "q5pj0cxPj6/KK7LrLlRFnM7VXgh5fv2/j+tc8rUuVdGt4JOAJaPOxaxTLhl3O/S++9wQ/wC6SI3I\n",
       "rLOAiQAAAABJRU5ErkJggg==\n",
       "\" style=\"display:inline;vertical-align:middle;\" /></a></span></td></tr>\n",
       "<tr><td>&nbsp;</td><td colspan=4 style-\"text-align:left\"><a class=\"ProveItLink\" href=\"../../../equality/_proofs_/rhsViaEquivalence.ipynb\">proveit.logic.equality.rhsViaEquivalence</a></td></tr><tr><td><a name=\"0x2f87a0dccf38e311_step5\">5</a></td><td>assumption</td><td></td><td><span style=\"font-size:20px;\"><a class=\"ProveItLink\" href=\"../__pv_it/f1249517abb13a455fd388b73ae2537ceffced240/expr.ipynb\"><img src=\"data:image/png;base64,iVBORw0KGgoAAAANSUhEUgAAAFMAAAAVBAMAAADInc9CAAAAMFBMVEX///+IiIi6urrc3NxERETM\n",
       "zMwQEBCqqqpUVFQiIiJ2dnYyMjLu7u5mZmaYmJgAAABN0h6tAAAAAXRSTlMAQObYZgAAAXBJREFU\n",
       "KM9jYGDgu8dACLBePACieHYxEAZMqSCS7wNU5wYsSvj6f9xtcQIyboN4XBMgotwfsBnH5sDAcD+A\n",
       "gWElstLXf7ApjX/AwKB/AVUpT+1nqCw3EEfAlMobMDC8F0BVysf4CSorB8QsAVCOG9CQzAOoSnXY\n",
       "/0G95wCyYw9U6Q8GhsgeIL0MxOEA+5xHgfUjRDIscyYQZB+A6PvxTmQ6iPEeRJSB7WJiYP4LlmTs\n",
       "gahxh/CAHjjWAPIA0Gshk8FiEXdvfAGbPgNqMyfIHQwsCUDl30GsTqDf1MCmKjAwZIOVWCyABEgX\n",
       "mOIHmsgIchk3yGgOkHZ2IJ4GMe7lbhDYGQAPVo5PMLeCQ8AciPdD4/ICyNDNiGCNd4CFAEgpM0i5\n",
       "vwFEugmIeQsg7G1AD6eAAgMWrjz+vw8wlPyfC5E+DcQmEGb3/94bLmBdKGkADpiB+Ax6WoAoTSAi\n",
       "vUKU8n0gRik4vTIQlQuSwBQ7kXkLAEmwYW7uLXXfAAAAAElFTkSuQmCC\n",
       "\" style=\"display:inline;vertical-align:middle;\" /></a> <a class=\"ProveItLink\" href=\"../__pv_it/56c5d5aa544022f48f8296d2e065ba46b76339290/proof.ipynb\" style=\"text-decoration: none\">&#x22A2;&nbsp;</a><a class=\"ProveItLink\" href=\"../__pv_it/639412fc83dccc0c825a7f4479a7068ed18b18c70/expr.ipynb\"><img src=\"data:image/png;base64,iVBORw0KGgoAAAANSUhEUgAAAEAAAAAPBAMAAACmSdRUAAAAMFBMVEX///92dnYiIiIQEBBERERU\n",
       "VFS6urqIiIjc3NxmZmaqqqru7u6YmJgyMjLMzMwAAADiRdoGAAAAAXRSTlMAQObYZgAAAQpJREFU\n",
       "GNNjYACBtwxYwNH/kVNdEiDs+9gUMJgwMHD+A7N47m/AIs/3h4GB7SeYuWt+A1TwAlA8AMpm/wHU\n",
       "+h3MPFAPtYr9AJDwgypgMWBg2KwNYrFtWH8AIvYEROyF2scfwMCnCmZvY3hfALHVWAkIlG9DFLyP\n",
       "Oe60AMxKYOifAGaUQvQ+gQjXNzBwm4L1Rc6MdwAxNsGcpwImnUGKQGrZGBiYL4BEOAIh8lsFwNRX\n",
       "kAKQ3UBFTAaQ8NC9CwJ68GBgiAd6jwOogPcDRO9JsC8a4MHA9wXIaAJ5+QdEASsoPGZB2LxAU5O9\n",
       "GRi2/L/NwOX/CeINbqBbOBwgau9/nRnihRH+QNO5UeMFAE9FRwBt4bk1AAAAAElFTkSuQmCC\n",
       "\" style=\"display:inline;vertical-align:middle;\" /></a></span></td></tr>\n",
       "<tr><td><a name=\"0x2f87a0dccf38e311_step6\">6</a></td><td>instantiation</td><td><a href=\"#0x2f87a0dccf38e311_step7\">7</a></td><td><span style=\"font-size:20px;\"> <a class=\"ProveItLink\" href=\"../__pv_it/ea9ccea84dfef3269a03d425b2db548ff04e41f30/proof.ipynb\" style=\"text-decoration: none\">&#x22A2;&nbsp;</a><a class=\"ProveItLink\" href=\"../__pv_it/63af5f3c2f364b33f7f867fa32c28001974860380/expr.ipynb\"><img src=\"data:image/png;base64,iVBORw0KGgoAAAANSUhEUgAAATEAAAAUBAMAAAAXXRdqAAAAMFBMVEX///9UVFTMzMx2dna6uroQ\n",
       "EBCqqqqIiIgiIiJmZmYyMjJERETu7u6YmJjc3NwAAAC+aOQFAAAAAXRSTlMAQObYZgAAA5pJREFU\n",
       "SMedVk1IVFEUPu81zozNT5Ir+9N2kYtxVdgiZhNFBBlMELmZZRbUtJQWMwWK/VAjQWQbLTJIRCUq\n",
       "hDInyJBxM60iIXttQoIoQzIztXvPuX++eY0zHjnznvfc753v3HvuORcgWoD15LzH2DehFSLL8OZ3\n",
       "BG6K/t/rNendal33izhYTpElPELKxO7zQEbq53q2Py1GTmmbp3Aau4BwQzQ07DmxFaD6J4SLfW92\n",
       "SPnrDy9kFaPd26CQkuGQtnk65DTygB4jWYpxOOcxz14G8C0C7C+yfBDKZPqvl4sY27bjWYV8LJYy\n",
       "a9i8lprT2JRCj0GK5m2vjIqxtWvEe2CFTV4AmCj6xE2hLLy2FT38Sr2l2fc+pSTSHqXAyZuwCQkZ\n",
       "O440wi3ocZaGCum4IMNT9IkE8Tk32IbF3YmcIeVhBub1eKN6e8Y8nMpJpHWYiMyaNrkxIxpPNB6i\n",
       "x3Yc8eUuFIxv5wVsSw3Yl/n6upc+kCVlcsy/bOyGmjgHsGeHQuaBwmg3bWZmgEmjGXFjOPQGYhSU\n",
       "fbKLScegSJad70eT3CEm8oEBLpgxoQIpCz5uL/BndRfKolyIuY+XOhUS9rE/LmOmDeAuYm6pcASN\n",
       "acTRlDh8J/NFWq3GpEyW8AleYjKuNQsmSVmYEF00i9EjnaETNQqZga/47DRtSs4mxYugcQZxCYyi\n",
       "rqced3tSAq7LhIA0g9nuwlAVJwXY3dO9ZFryCZWhgV8SGUmBhVUiYdp0ceynbJQ0YohLUOBQhcse\n",
       "raW5r5tkQkA6VZIZ+zltHo1aR2YoBBYkMpgT5z1h2pR8PijSTNAgZri+fG9aKIWvYTJdUeUM6plv\n",
       "X0bn2f01u+ln2oF5NkDi6HJmzUtkm6yxnaYN4B5hRLFXNI4gjudkNKkrOR6UvKOSxV7SeaxFnYAv\n",
       "a9uHr88oZ7ERiRwS7OgESJuUo3K9JQ06Ac2iyoREvbT4Ht0RLYgFcOglX5AmFzNeDLhiTRvXpVKW\n",
       "G+hnLFtzAokVK5ijeqBtMstEIdA0biOOrdzU6iD4x3/T4eQdK0oBWcOs8z5Hiu4mxzeJaXj8Tw7O\n",
       "rV5V41vFcxu/CiQlEqMNpGiftE2IJT6uaTxAXNB9G+Dtwd1DJ0t0JzfYA+nD1wbVnVz9pOgek0Fc\n",
       "JAvrS8mOXgmyLG+ioxtN+L/icQvibTjkVI4sw5u8BcmbYykJlbw5VoQswxtnj7gy7r8zG75tz2zg\n",
       "th1xEPcPr/tEHfZflmoAAAAASUVORK5CYII=\n",
       "\" style=\"display:inline;vertical-align:middle;\" /></a></span></td></tr>\n",
       "<tr><td>&nbsp;</td><td colspan=4 style=\"text-align:left\"><span style=\"font-size:20px;\"><a class=\"ProveItLink\" href=\"../../../../__pv_it/d3792d0d8642fdf1cd2a3a9b32c673ee13653de00/expr.ipynb\"><img src=\"data:image/png;base64,iVBORw0KGgoAAAANSUhEUgAAAA8AAAAOBAMAAAACpFvcAAAALVBMVEX///8iIiIQEBBERERUVFS6\n",
       "urqIiIjc3NxmZmaqqqru7u6YmJgyMjLMzMwAAACK9jtgAAAAAXRSTlMAQObYZgAAAFtJREFUCNdj\n",
       "YACBOwxQcA5Kc59bAGGs7CuAMDbkBYBp1gXzNoAZSxnuJYAZAQx1DSCa16PDzwCshIGB6QCIMYGB\n",
       "gVEBSLMDGTwPgIxCIGZ+zsCw+N0pBk67hw0AfpEVEQi8t+wAAAAASUVORK5CYII=\n",
       "\" style=\"display:inline;vertical-align:middle;\" /></a> : <a class=\"ProveItLink\" href=\"../../../../__pv_it/d3792d0d8642fdf1cd2a3a9b32c673ee13653de00/expr.ipynb\"><img src=\"data:image/png;base64,iVBORw0KGgoAAAANSUhEUgAAAA8AAAAOBAMAAAACpFvcAAAALVBMVEX///8iIiIQEBBERERUVFS6\n",
       "urqIiIjc3NxmZmaqqqru7u6YmJgyMjLMzMwAAACK9jtgAAAAAXRSTlMAQObYZgAAAFtJREFUCNdj\n",
       "YACBOwxQcA5Kc59bAGGs7CuAMDbkBYBp1gXzNoAZSxnuJYAZAQx1DSCa16PDzwCshIGB6QCIMYGB\n",
       "gVEBSLMDGTwPgIxCIGZ+zsCw+N0pBk67hw0AfpEVEQi8t+wAAAAASUVORK5CYII=\n",
       "\" style=\"display:inline;vertical-align:middle;\" /></a>, <a class=\"ProveItLink\" href=\"../../../../__pv_it/4d98b438710c5ada9ffa4646bb123a7d0e69ec000/expr.ipynb\"><img src=\"data:image/png;base64,iVBORw0KGgoAAAANSUhEUgAAABAAAAAOBAMAAADUAYG5AAAALVBMVEX///8yMjKqqqoiIiLu7u7c\n",
       "3NyIiIjMzMwQEBC6urpERERmZmZUVFSYmJgAAACsPVCVAAAAAXRSTlMAQObYZgAAAGxJREFUCNdj\n",
       "YGC48+70nlUTGICgi4GB+zmQZn/LwMD5Gshge8rAwPsMyOBqYGDwMAEy+A4wsNs4ABl1Z68tVgBp\n",
       "ygtgYOkBMVaAOCChNyBGAsQYhnMTIMawvwJyGIHGzFjCwMAj92b3qUUMDAAXABxvZ4rl5AAAAABJ\n",
       "RU5ErkJggg==\n",
       "\" style=\"display:inline;vertical-align:middle;\" /></a> : <a class=\"ProveItLink\" href=\"../../../../__pv_it/4d98b438710c5ada9ffa4646bb123a7d0e69ec000/expr.ipynb\"><img src=\"data:image/png;base64,iVBORw0KGgoAAAANSUhEUgAAABAAAAAOBAMAAADUAYG5AAAALVBMVEX///8yMjKqqqoiIiLu7u7c\n",
       "3NyIiIjMzMwQEBC6urpERERmZmZUVFSYmJgAAACsPVCVAAAAAXRSTlMAQObYZgAAAGxJREFUCNdj\n",
       "YGC48+70nlUTGICgi4GB+zmQZn/LwMD5Gshge8rAwPsMyOBqYGDwMAEy+A4wsNs4ABl1Z68tVgBp\n",
       "ygtgYOkBMVaAOCChNyBGAsQYhnMTIMawvwJyGIHGzFjCwMAj92b3qUUMDAAXABxvZ4rl5AAAAABJ\n",
       "RU5ErkJggg==\n",
       "\" style=\"display:inline;vertical-align:middle;\" /></a></span></td></tr><tr><td><a name=\"0x2f87a0dccf38e311_step7\">7</a></td><td>axiom</td><td></td><td><span style=\"font-size:20px;\"> <a class=\"ProveItLink\" href=\"../_axioms_.ipynb#iffDef\" style=\"text-decoration: none\">&#x22A2;&nbsp;</a><a class=\"ProveItLink\" href=\"../__pv_it/7e13510ad32a73fabb39fbd3d838d36a55d815580/expr.ipynb\"><img src=\"data:image/png;base64,iVBORw0KGgoAAAANSUhEUgAAAXkAAAAVBAMAAABRbIObAAAAMFBMVEX///8QEBCIiIhmZma6urrM\n",
       "zMxUVFQiIiJERETc3Nzu7u6qqqp2dnaYmJgyMjIAAAAcRTyBAAAAAXRSTlMAQObYZgAAA8xJREFU\n",
       "SMfVl09oE0EUxj+TbNNNmrQHUUGRgAe9aAuFetOoB0VQ40U8aUALRRQrQgtWUU+2/iF7qoJgVxQs\n",
       "FarQi15U9CBakaCgFFEiHqQKtjRaa6XW+fdmk+0kTVsvfvC1Yd/8Zt/OvJnZBcrJzkrPovv/jqyQ\n",
       "Ief4hfclGvYqM+0zxd9MH2jqTKLK+WdkrxczyWLpcoY8yC9+KZH9sDLTiLHBMiD4A5HcgkmngFMx\n",
       "k+KjEAz5Cp+uM+bkYw3S/OeIaxqKKSCUBx4vmPzkcTpm0IdJSEY5zvquuWvOPuxIM93eqEYnzryH\n",
       "GgR+sRuOAdcrIbm6SpDWOVdzOqZU7fGRARYSjHLseV/f5RKFc1mZKVuvCnEt7y9FHdexPk6wR0pW\n",
       "QHLthZms2pzQnI7RNHmVEQt8h2TIE52dJ0tkv0qZTaT7MOt1FaF1UpuG1cYnr2F20qsMA9mPVs3p\n",
       "GOm1/rU9yopKMORmmk/5d1v+SQtN1SVl4Cb2y8HZvbSdaaXqe/+RV+d41cX44qv5JtRgJoPtQlTO\n",
       "RSTfOwb1HXUMWC+Y0/TIkaQ1phjyFrXwY9/l6NShpk617lAGkugRXQQOyRm4IBvUO4gsYf+jrb6x\n",
       "n0kqRb8ayVZc05yOaT1Q6zIEO68YchgBMbU3pkSLYBrRSUUtVoZ1oPGoKJk2WpWyFs/ye7GurVFf\n",
       "9jNIrf7FBjKWQFWKOB3zFutHuTr2NDZNQDLkmmxYhJ4fl3klEMz5cwgBi8TF7keyu8OywTi/T6Jc\n",
       "9pqks/SwYyDDLqy0zp5iWt3PoOYRK33Z2zmxAVqJTtHiTgrrXP/8s4EIy3J6K2r7c0pv2jjK+gy1\n",
       "enWfNpNBGf3mGEgM0DnVURgDNkhGHXtR5mOQDBldB8WehfWiya61a9LwrVr7rjzlaNOIDHubtjXh\n",
       "rT1PBlJWbs5IDqsnEIyOkXaq/1fVwV24ajEgHv8d6kWTl8Bqwp4o8124+pe8xh81qIoyzkZ103l+\n",
       "4ZEvexMpqt41kWIbDruK0TGqerU/2zzPjCMZMmp5iUU+vciIni8CPbRitkr3Tn9BNPOTdmb5dsGn\n",
       "a2S8sUXsPvGUL3sTydVsJKt4mQQSkvFiSnI9I5L54+Le9HHJkBHjWQdd9IhWv1nxODPPe2/ZMff5\n",
       "j7VbZd4UiuQYyZD4mYKZsU3MraK77mBzkLXPw56EvcLwrlVe5d7S5kRWzDwuZKsnYGdOWcvxNN/Y\n",
       "kix6qeqavTvDG/J8yQoZcpGipb8xyqm67NfJnMgKGXLZD7UKv++G5v1lODSPL8OhAhcpi/9LfwF9\n",
       "GoUpN6fzvwAAAABJRU5ErkJggg==\n",
       "\" style=\"display:inline;vertical-align:middle;\" /></a></span></td></tr>\n",
       "<tr><td>&nbsp;</td><td colspan=4 style-\"text-align:left\"><a class=\"ProveItLink\" href=\"../_axioms_.ipynb#iffDef\">proveit.logic.boolean.implication.iffDef</a></td></tr></table>"
      ],
      "text/plain": [
       "\tstep type\trequirements\tstatement\n",
       "0\tgeneralizaton\t1\t|- forall_{A, B | A <=> B} (B => A)\n",
       "1\tinstantiation\t2, 3\t{A <=> B} |- B => A\n",
       "\tA : A => B, B : B => A\n",
       "2\ttheorem\t\t|- forall_{A, B | A, B} B\n",
       "\tproveit.logic.boolean.conjunction.rightFromAnd\n",
       "3\tinstantiation\t4, 5, 6\t{A <=> B} |- (A => B) and (B => A)\n",
       "\tP : A <=> B, Q : (A => B) and (B => A)\n",
       "4\ttheorem\t\t|- forall_{P, Q | P, P = Q} Q\n",
       "\tproveit.logic.equality.rhsViaEquivalence\n",
       "5\tassumption\t\t{A <=> B} |- A <=> B\n",
       "6\tinstantiation\t7\t|- (A <=> B) = ((A => B) and (B => A))\n",
       "\tA : A, B : B\n",
       "7\taxiom\t\t|- forall_{A, B} ((A <=> B) = ((A => B) and (B => A)))\n",
       "\tproveit.logic.boolean.implication.iffDef"
      ]
     },
     "execution_count": 7,
     "metadata": {},
     "output_type": "execute_result"
    }
   ],
   "source": [
    "%qed"
   ]
  },
  {
   "cell_type": "code",
   "execution_count": null,
   "metadata": {},
   "outputs": [],
   "source": []
  }
 ],
 "metadata": {
  "kernelspec": {
   "display_name": "Python 3",
   "language": "python",
   "name": "python3"
  }
 },
 "nbformat": 4,
 "nbformat_minor": 0
}
