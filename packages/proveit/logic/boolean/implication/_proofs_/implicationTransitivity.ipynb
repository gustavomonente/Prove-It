{
 "cells": [
  {
   "cell_type": "markdown",
   "metadata": {},
   "source": [
    "Proof of <a class=\"ProveItLink\" href=\"../../../../_context_.ipynb\">proveit</a>.<a class=\"ProveItLink\" href=\"../../../_context_.ipynb\">logic</a>.<a class=\"ProveItLink\" href=\"../../_context_.ipynb\">boolean</a>.<a class=\"ProveItLink\" href=\"../_context_.ipynb\">implication</a>.<a href=\"../_theorems_.ipynb#implicationTransitivity\" class=\"ProveItLink\">implicationTransitivity</a> theorem\n",
    "========"
   ]
  },
  {
   "cell_type": "code",
   "execution_count": 1,
   "metadata": {},
   "outputs": [],
   "source": [
    "import proveit\n",
    "from proveit.logic import Implies\n",
    "from proveit._common_ import A, B, C\n",
    "context = proveit.Context('..') # the theorem's context is in the parent directory"
   ]
  },
  {
   "cell_type": "code",
   "execution_count": 2,
   "metadata": {},
   "outputs": [
    {
     "name": "stdout",
     "output_type": "stream",
     "text": [
      "Beginning proof of implicationTransitivity\n",
      "Recorded 'presuming' information\n",
      "Presuming previous theorems (applied transitively).\n"
     ]
    },
    {
     "data": {
      "text/html": [
       "<strong id=\"implicationTransitivity\">implicationTransitivity:</strong> <a class=\"ProveItLink\" href=\"../__pv_it/eeb92edddb05d60d879e3be7108e0b66ef6cf1c50/expr.ipynb\"><img src=\"data:image/png;base64,iVBORw0KGgoAAAANSUhEUgAAAQMAAAAWBAMAAAA2k+RkAAAAMFBMVEX///8QEBCIiIhmZma6urrM\n",
       "zMxUVFQiIiJERETc3Nzu7u6qqqp2dnaYmJgyMjIAAAAcRTyBAAAAAXRSTlMAQObYZgAAA3pJREFU\n",
       "SMe9Vl1sDFEU/sxutTO7o33wRlj6oCSUVJbIRiteRCKKRDw2WQQhKX3wE9KVSLNE7HqhibBDE2pD\n",
       "bdIXfRCrEj8lDF4qgpa3SpCWqH/nnjsze3dtSyTrJHPvnXPnnPnud35mgFLK6T8+0UPXgFg8Lw0C\n",
       "I8ZT2UDRzZroDj07MQncE7dDpYEwKSmn98U2Z9gILLANgtdOd3qsNBCeyOnFlyJ7nftoqE+ilyBa\n",
       "QDBTGgh7JePdn3Oqw+5ikN6LZcBZwOxLp0+WBoHezJOpfcjpNjiz76sY1xEFDcBoPL6/NBC0+Tyt\n",
       "DHzP6UypQ4rhXaQIkGKTy44cV4zc3CKzyGyLaGLld80rkjlX/kQkXGggpT+ane08b3McGsqG+dy7\n",
       "WUbk3sOQi4nycTkMLhpT0mVWIVjFNL6CcZA9uc5fNihvegTcyDeQciaETue2nFPMD31EsQu84am1\n",
       "0b0nOsqhMdoOSZevCQHO4BS9sF+FYNTbiqswcN3KM5Dxp4OYToFNYMjr68Kjani6JotxOtvSUEYV\n",
       "G7TLeauvRUIPwcesiARZq0IIXpBxvMbjLmBpvkFAICzPkteQCoGGaWqObueotbJFo4SgD6znFhaK\n",
       "8yNXGjFPINTEydIqhLUV8nSiocH4CG0ozwDYSlctLQ1LCUSArp3M1lspMm/qxRQUcRJ5eXgjO8Yi\n",
       "3ls9t6aJ7b125UJo8jXjTjwePyaY9A8/bkPOIEj6+CAdeI9yYE7HU3S9U9LYadYpwVSfk47o5vp4\n",
       "hlreewDMEnNltgCCmdGcRqstpAMMQGvOMyCpbsA3BYKoN+4NiVzFdDkMiULtFmufeE+lAGS8vp/g\n",
       "3aOEMOME1bAVCF2RO07WGZstVGShc3fxDEjOb+MMuuyeuBlG4oeFqz9bPAib3EVHW5RTZZIoDZPB\n",
       "WEhxnZDf1QK0LyZj5UFYAv0jqutIomRQmYFf9l020IQ+vARYTJpsfoPOk2Sh4oK3WkVebf0I9C/Q\n",
       "p9LHy8IBGHcVCH5i5DuMdDp9TrCWsnCciPAMSJ+eKcizcSlZ8JkaV3q9eI9CTxwom4LbI3VbiKA1\n",
       "GQSjvZYCIRFD+ycOzAkR5ta68CEqI89AlBun8a3IHBRrp2P9UhT+SwS8lfLtrBiHy4Ba8WP9sown\n",
       "v6Hs8Vwnx4ZQ1OBff9yeFiq8Dmzi7yDY+C/iK7H/X0FU9ChE6K5lAAAAAElFTkSuQmCC\n",
       "\" style=\"display:inline;vertical-align:middle;\" /></a><br>(see <a class=\"ProveItLink\" href=\"../__pv_it/eeb92edddb05d60d879e3be7108e0b66ef6cf1c50/dependencies.ipynb\">dependencies</a>)<br>"
      ],
      "text/plain": [
       "implicationTransitivity: forall_{A, B, C | A => B, B => C} (A => C)"
      ]
     },
     "execution_count": 2,
     "metadata": {},
     "output_type": "execute_result"
    }
   ],
   "source": [
    "%proving implicationTransitivity presuming []"
   ]
  },
  {
   "cell_type": "code",
   "execution_count": 3,
   "metadata": {},
   "outputs": [
    {
     "data": {
      "text/html": [
       "<span style=\"font-size:20px;\"><a class=\"ProveItLink\" href=\"../__pv_it/acfdd6836c1e09b5bd30551cd92da825c6dcec8f0/expr.ipynb\"><img src=\"data:image/png;base64,iVBORw0KGgoAAAANSUhEUgAAAJ0AAAAVBAMAAACu6/FQAAAAMFBMVEX///+IiIi6urrc3NxERETM\n",
       "zMwQEBCqqqpUVFQiIiJ2dnYyMjLu7u5mZmaYmJgAAABN0h6tAAAAAXRSTlMAQObYZgAAAgtJREFU\n",
       "OMutVT0sBEEUfmedPXd7R6Gn0pDYjqguiFCdQkFFhEKIKNCIUJD4DYmEXCEkkkt0EgkJEqvRaBDF\n",
       "ib/rxc8d4sTvvJmd3Vk3kS3uS2bnfXMv37x5780cAIRuICvwnho4abuQJeR04Tf0ZMpvSlxC8+nr\n",
       "8RoZceCwIZ6oBrhE27/A1gJPMs+8MMBtk4wI8PQBjJCxIerdfcr02hIAFScyYkNrJIkLPjv1tJFn\n",
       "26PWsop1gMdCGYFc3TQCvZi8dqdeyJOy9Zotq57s1G3ICHjDpnHbj+zEqVeufgtlsA6VBmidlRKA\n",
       "ezYp7/R8JNoYGj5aV63Em8Q5GKX44jGkH4qWIYNcUKdVtqs/yR0e8TNEC5YDypeQYnXHrBxJ6tEY\n",
       "SAhiGA8K+a+cB8gGzYvUbLmOv4g1O+5gOSdZ9rzxAoiEHmq7BLuINoaGnylSrFIaH/mhR/BUplnx\n",
       "Ckg4Hn4eB0FUrdP4aOMOYnwYvA/LpJKxRPO3x6DbHedLwV9yyZy26HKQNtoazx+tbyUZB8JN3BQ6\n",
       "ri0sIwRl5lkwZD+2UYzrKagZ0e3s8SbbJtqdBmgfArGyt28aowlQr9Dg/adFPgwY+FmxXCfMeeZn\n",
       "Ll6HRYwaAjHh4zdZO588A1EvA/rfBdXIdFIyVpheu4unze/qAdwQ379/cehKj75/4OZ9Trh6n9kd\n",
       "ULP5//ELMuKnRbZLDQwAAAAASUVORK5CYII=\n",
       "\" style=\"display:inline;vertical-align:middle;\" /></a> <a class=\"ProveItLink\" href=\"../__pv_it/3f848f6712c6d906c89be9d9375d1937dad4fe4a0/proof.ipynb\" style=\"text-decoration: none\">&#x22A2;&nbsp;</a><a class=\"ProveItLink\" href=\"../__pv_it/ed7a94f8b0888bd754773e4318ec6303d93360470/expr.ipynb\"><img src=\"data:image/png;base64,iVBORw0KGgoAAAANSUhEUgAAAD8AAAAPBAMAAAChCwpBAAAAMFBMVEX///92dnYiIiIQEBBERERU\n",
       "VFS6urqIiIjc3NxmZmaqqqru7u6YmJgyMjLMzMwAAADiRdoGAAAAAXRSTlMAQObYZgAAAONJREFU\n",
       "GNNjYACBtwxYAHdJZAyHAIR9H5uC4gMMXJMPgJk89zdgym/RBhLzG8DsXVAaBFhgzMsgTckQ9oH6\n",
       "BLgCPgcIzfkLRL4Es9k2rD+AMPokhOpXAJE7wOxtDO8LQPQkJRDQnwAWlC9A6Elg6J+A5Lq1C0Ck\n",
       "/gOErZEz4x2Q/X8Z5CJ7sMfABBsDA/MFJAWtEmATQAQX2BigiUwGIMbcu2BwA6wM7HNGEIsDqID3\n",
       "A8KAXKgvQI6UBrGaQKHzA+GC2xCa6w8Dw0qQE7b8v83A5f8J7g1WmOt3ukYmYIsiDjQ+AHM/PMle\n",
       "6aWhAAAAAElFTkSuQmCC\n",
       "\" style=\"display:inline;vertical-align:middle;\" /></a></span>"
      ],
      "text/plain": [
       "{A => B, B => C} |- A => C"
      ]
     },
     "execution_count": 3,
     "metadata": {},
     "output_type": "execute_result"
    }
   ],
   "source": [
    "Implies(A, C).prove({Implies(A, B), Implies(B, C)})"
   ]
  },
  {
   "cell_type": "code",
   "execution_count": 4,
   "metadata": {},
   "outputs": [
    {
     "data": {
      "text/html": [
       "<table><tr><th>&nbsp;</th><th>step type</th><th>requirements</th><th>statement</th></tr>\n",
       "<tr><td><a name=\"-0x42aa6a070ff4eb86_step0\">0</a></td><td>generalizaton</td><td><a href=\"#-0x42aa6a070ff4eb86_step1\">1</a></td><td><span style=\"font-size:20px;\"> <a class=\"ProveItLink\" href=\"../__pv_it/b5d5b100f242f4fd5c668ce9cd7d20540acbf1a70/proof.ipynb\" style=\"text-decoration: none\">&#x22A2;&nbsp;</a><a class=\"ProveItLink\" href=\"../__pv_it/eeb92edddb05d60d879e3be7108e0b66ef6cf1c50/expr.ipynb\"><img src=\"data:image/png;base64,iVBORw0KGgoAAAANSUhEUgAAAQMAAAAWBAMAAAA2k+RkAAAAMFBMVEX///8QEBCIiIhmZma6urrM\n",
       "zMxUVFQiIiJERETc3Nzu7u6qqqp2dnaYmJgyMjIAAAAcRTyBAAAAAXRSTlMAQObYZgAAA3pJREFU\n",
       "SMe9Vl1sDFEU/sxutTO7o33wRlj6oCSUVJbIRiteRCKKRDw2WQQhKX3wE9KVSLNE7HqhibBDE2pD\n",
       "bdIXfRCrEj8lDF4qgpa3SpCWqH/nnjsze3dtSyTrJHPvnXPnnPnud35mgFLK6T8+0UPXgFg8Lw0C\n",
       "I8ZT2UDRzZroDj07MQncE7dDpYEwKSmn98U2Z9gILLANgtdOd3qsNBCeyOnFlyJ7nftoqE+ilyBa\n",
       "QDBTGgh7JePdn3Oqw+5ikN6LZcBZwOxLp0+WBoHezJOpfcjpNjiz76sY1xEFDcBoPL6/NBC0+Tyt\n",
       "DHzP6UypQ4rhXaQIkGKTy44cV4zc3CKzyGyLaGLld80rkjlX/kQkXGggpT+ane08b3McGsqG+dy7\n",
       "WUbk3sOQi4nycTkMLhpT0mVWIVjFNL6CcZA9uc5fNihvegTcyDeQciaETue2nFPMD31EsQu84am1\n",
       "0b0nOsqhMdoOSZevCQHO4BS9sF+FYNTbiqswcN3KM5Dxp4OYToFNYMjr68Kjani6JotxOtvSUEYV\n",
       "G7TLeauvRUIPwcesiARZq0IIXpBxvMbjLmBpvkFAICzPkteQCoGGaWqObueotbJFo4SgD6znFhaK\n",
       "8yNXGjFPINTEydIqhLUV8nSiocH4CG0ozwDYSlctLQ1LCUSArp3M1lspMm/qxRQUcRJ5eXgjO8Yi\n",
       "3ls9t6aJ7b125UJo8jXjTjwePyaY9A8/bkPOIEj6+CAdeI9yYE7HU3S9U9LYadYpwVSfk47o5vp4\n",
       "hlreewDMEnNltgCCmdGcRqstpAMMQGvOMyCpbsA3BYKoN+4NiVzFdDkMiULtFmufeE+lAGS8vp/g\n",
       "3aOEMOME1bAVCF2RO07WGZstVGShc3fxDEjOb+MMuuyeuBlG4oeFqz9bPAib3EVHW5RTZZIoDZPB\n",
       "WEhxnZDf1QK0LyZj5UFYAv0jqutIomRQmYFf9l020IQ+vARYTJpsfoPOk2Sh4oK3WkVebf0I9C/Q\n",
       "p9LHy8IBGHcVCH5i5DuMdDp9TrCWsnCciPAMSJ+eKcizcSlZ8JkaV3q9eI9CTxwom4LbI3VbiKA1\n",
       "GQSjvZYCIRFD+ycOzAkR5ta68CEqI89AlBun8a3IHBRrp2P9UhT+SwS8lfLtrBiHy4Ba8WP9sown\n",
       "v6Hs8Vwnx4ZQ1OBff9yeFiq8Dmzi7yDY+C/iK7H/X0FU9ChE6K5lAAAAAElFTkSuQmCC\n",
       "\" style=\"display:inline;vertical-align:middle;\" /></a></span></td></tr>\n",
       "<tr><td><a name=\"-0x42aa6a070ff4eb86_step1\">1</a></td><td>hypothetical reasoning</td><td><a href=\"#-0x42aa6a070ff4eb86_step2\">2</a></td><td><span style=\"font-size:20px;\"><a class=\"ProveItLink\" href=\"../__pv_it/acfdd6836c1e09b5bd30551cd92da825c6dcec8f0/expr.ipynb\"><img src=\"data:image/png;base64,iVBORw0KGgoAAAANSUhEUgAAAJ0AAAAVBAMAAACu6/FQAAAAMFBMVEX///+IiIi6urrc3NxERETM\n",
       "zMwQEBCqqqpUVFQiIiJ2dnYyMjLu7u5mZmaYmJgAAABN0h6tAAAAAXRSTlMAQObYZgAAAgtJREFU\n",
       "OMutVT0sBEEUfmedPXd7R6Gn0pDYjqguiFCdQkFFhEKIKNCIUJD4DYmEXCEkkkt0EgkJEqvRaBDF\n",
       "ib/rxc8d4sTvvJmd3Vk3kS3uS2bnfXMv37x5780cAIRuICvwnho4abuQJeR04Tf0ZMpvSlxC8+nr\n",
       "8RoZceCwIZ6oBrhE27/A1gJPMs+8MMBtk4wI8PQBjJCxIerdfcr02hIAFScyYkNrJIkLPjv1tJFn\n",
       "26PWsop1gMdCGYFc3TQCvZi8dqdeyJOy9Zotq57s1G3ICHjDpnHbj+zEqVeufgtlsA6VBmidlRKA\n",
       "ezYp7/R8JNoYGj5aV63Em8Q5GKX44jGkH4qWIYNcUKdVtqs/yR0e8TNEC5YDypeQYnXHrBxJ6tEY\n",
       "SAhiGA8K+a+cB8gGzYvUbLmOv4g1O+5gOSdZ9rzxAoiEHmq7BLuINoaGnylSrFIaH/mhR/BUplnx\n",
       "Ckg4Hn4eB0FUrdP4aOMOYnwYvA/LpJKxRPO3x6DbHedLwV9yyZy26HKQNtoazx+tbyUZB8JN3BQ6\n",
       "ri0sIwRl5lkwZD+2UYzrKagZ0e3s8SbbJtqdBmgfArGyt28aowlQr9Dg/adFPgwY+FmxXCfMeeZn\n",
       "Ll6HRYwaAjHh4zdZO588A1EvA/rfBdXIdFIyVpheu4unze/qAdwQ379/cehKj75/4OZ9Trh6n9kd\n",
       "ULP5//ELMuKnRbZLDQwAAAAASUVORK5CYII=\n",
       "\" style=\"display:inline;vertical-align:middle;\" /></a> <a class=\"ProveItLink\" href=\"../__pv_it/3f848f6712c6d906c89be9d9375d1937dad4fe4a0/proof.ipynb\" style=\"text-decoration: none\">&#x22A2;&nbsp;</a><a class=\"ProveItLink\" href=\"../__pv_it/ed7a94f8b0888bd754773e4318ec6303d93360470/expr.ipynb\"><img src=\"data:image/png;base64,iVBORw0KGgoAAAANSUhEUgAAAD8AAAAPBAMAAAChCwpBAAAAMFBMVEX///92dnYiIiIQEBBERERU\n",
       "VFS6urqIiIjc3NxmZmaqqqru7u6YmJgyMjLMzMwAAADiRdoGAAAAAXRSTlMAQObYZgAAAONJREFU\n",
       "GNNjYACBtwxYAHdJZAyHAIR9H5uC4gMMXJMPgJk89zdgym/RBhLzG8DsXVAaBFhgzMsgTckQ9oH6\n",
       "BLgCPgcIzfkLRL4Es9k2rD+AMPokhOpXAJE7wOxtDO8LQPQkJRDQnwAWlC9A6Elg6J+A5Lq1C0Ck\n",
       "/gOErZEz4x2Q/X8Z5CJ7sMfABBsDA/MFJAWtEmATQAQX2BigiUwGIMbcu2BwA6wM7HNGEIsDqID3\n",
       "A8KAXKgvQI6UBrGaQKHzA+GC2xCa6w8Dw0qQE7b8v83A5f8J7g1WmOt3ukYmYIsiDjQ+AHM/PMle\n",
       "6aWhAAAAAElFTkSuQmCC\n",
       "\" style=\"display:inline;vertical-align:middle;\" /></a></span></td></tr>\n",
       "<tr><td><a name=\"-0x42aa6a070ff4eb86_step2\">2</a></td><td>modus ponens</td><td><a href=\"#-0x42aa6a070ff4eb86_step3\">3</a>, <a href=\"#-0x42aa6a070ff4eb86_step4\">4</a></td><td><span style=\"font-size:20px;\"><a class=\"ProveItLink\" href=\"../__pv_it/5f4f3bb1038a0fbad17d02cddfebc0b24fb02fdf0/expr.ipynb\"><img src=\"data:image/png;base64,iVBORw0KGgoAAAANSUhEUgAAALYAAAAVBAMAAAAZVgl3AAAAMFBMVEX///+IiIi6urrc3NxERETM\n",
       "zMwQEBCqqqpUVFQiIiJ2dnYyMjLu7u5mZmaYmJgAAABN0h6tAAAAAXRSTlMAQObYZgAAAkhJREFU\n",
       "OMu1lb9PFEEUx9+xnnuseyuFpQlUNpp4nYTqooZABYUFFAZibIyGUKCNEik0MSJBQwK5BCIJ/wAJ\n",
       "CRqBuDQ2FhpjcQSR6wl4oMYjiDjvzb7Zt+cUW8hLdna+8+Oz8968mQWA4Cv8f7t+Fkv/DRyHnetW\n",
       "RVDVIjtvGRGM1zYeXbaJhK12lCttRhEpj4X3XLecqtpmnSwCbHbbhLDMAMDwgJFEIiyzt37b2H0V\n",
       "gIsfbSI2vzNU6/xuNJEk2x+OO+FEgWvNqvatySYArvA676iiod98ikiSHWT2Yna2yLV2NfZWaBMA\n",
       "16L35iBOMf5okmRfcP8IN7e5UgPofWYVCqJxzj6t1riqSR76kaP88Fuyu9SzVkJ7Ga0iW9s5M2W8\n",
       "MSJPg0qHJLzdZPQ1idLvHm18AziHcsT9QZ0BKnTvRjgdpEBzX2HZ+DPBZtKKCtoEtfRslH8kvr7Y\n",
       "QpuqPMv84h2Wguz9DcxMSjCf25iUexEdIFCk23JW6xy9TqtlZtjnhKBIP8UgN9LBuMuNTHqNfMwJ\n",
       "Vz2T1LW+RLYQZ3RuD+pFXg9aov3TmT3LcYpIgTlAl9TzVqzovMjovqJNYGT1LeGgKx6nJpMoT5Dt\n",
       "IL+rEEd7OaosKsLNEPwDIeJoR/WHFXC/AHzATxkS57ffdRDC0NGMmZWLLo3Ro7HyVcyYUigE22Ne\n",
       "yecnnzDu0yBIiftEmlPf4IaWu6ZQpx9Iodn9KW5jL82VPfsPO6immLaaYozfJBXd35Dmv1NJMSZI\n",
       "/nfo7LnH9b/8C6+quye/fhzhAAAAAElFTkSuQmCC\n",
       "\" style=\"display:inline;vertical-align:middle;\" /></a> <a class=\"ProveItLink\" href=\"../__pv_it/97d920da198534e04a7b32628cae18b0adcf7b840/proof.ipynb\" style=\"text-decoration: none\">&#x22A2;&nbsp;</a><a class=\"ProveItLink\" href=\"../../../../__pv_it/dcb5a3e430485237dfe486162b026a4affb149300/expr.ipynb\"><img src=\"data:image/png;base64,iVBORw0KGgoAAAANSUhEUgAAAA8AAAAOBAMAAAACpFvcAAAAMFBMVEX////MzMy6uroyMjIiIiKq\n",
       "qqoQEBB2dnbc3NyYmJhmZmZUVFRERESIiIju7u4AAACOKgoaAAAAAXRSTlMAQObYZgAAAGRJREFU\n",
       "CNdjYGDgu7NrJ0cBAwPDtQkMrMsmMDC88QNy1jcwMJg9ADLUGBi4vgJpBikGhn4HEOMFA0P9BQYI\n",
       "8BeAMvJBahmAhD+IZhWAmMDADsT9IMV1INGfDAxRYHWvTu9SAFIARRcYB3lKsPwAAAAASUVORK5C\n",
       "YII=\n",
       "\" style=\"display:inline;vertical-align:middle;\" /></a></span></td></tr>\n",
       "<tr><td><a name=\"-0x42aa6a070ff4eb86_step3\">3</a></td><td>assumption</td><td></td><td><span style=\"font-size:20px;\"><a class=\"ProveItLink\" href=\"../__pv_it/09fdef824c92cc74a657acc2d50dd01bcde401680/expr.ipynb\"><img src=\"data:image/png;base64,iVBORw0KGgoAAAANSUhEUgAAAFMAAAAVBAMAAADInc9CAAAAMFBMVEX///+IiIi6urrc3NxERETM\n",
       "zMwQEBCqqqpUVFQiIiJ2dnYyMjLu7u5mZmaYmJgAAABN0h6tAAAAAXRSTlMAQObYZgAAAVpJREFU\n",
       "KM9jYGDgu8dACLBePACieHYxEAZMqSCS7wOI6P9xt8UJm6KDHjceWDEw3AaxuSaASDYHBob7AZgq\n",
       "GfMYGGqBeCVCafwDBgb9CxgqeTyBjuT9jKJU3oCB4b0AXIkzlObOATk0AUWpG9CEzANwpSFQ+n4B\n",
       "yP8XUJT+YGCI7EFYzAdxC/NPsCuANi4DMTg2gDT+eCcyHSzLOxMM/oI5XB9het+DiDKQvxmBLj/W\n",
       "gOQf9u0gkvMrjM8NtCZkMojFAnQ543dkv59OAgXhH7ADQEQn0M9qIFP5gSYyfkRSydxlADIVFD0M\n",
       "pSBTQVZyOECDleMT2K27IcAAzPkMIhfA3AoOAVCwxjsgxfkGiNkgi7hAYbgMrnQbUDblAJJLoez6\n",
       "Bwzsd0AMeLh2/++94VKA5NRWWMRe6bjEgKIUAxigC0CUJhCRXiFKwemVIACnVwaickESJA6JzFsA\n",
       "QlpiPoD3YdcAAAAASUVORK5CYII=\n",
       "\" style=\"display:inline;vertical-align:middle;\" /></a> <a class=\"ProveItLink\" href=\"../__pv_it/2e1a9ff3f601588bd5558e6b739ae786c8e3f0f00/proof.ipynb\" style=\"text-decoration: none\">&#x22A2;&nbsp;</a><a class=\"ProveItLink\" href=\"../__pv_it/28ea893277a1e274af21d7aadea0dec0b6bb748f0/expr.ipynb\"><img src=\"data:image/png;base64,iVBORw0KGgoAAAANSUhEUgAAAEEAAAAPBAMAAABJi79qAAAAMFBMVEX///92dnYyMjKqqqoiIiLu\n",
       "7u7c3NyIiIjMzMwQEBC6urpERERmZmZUVFSYmJgAAADEjrHzAAAAAXRSTlMAQObYZgAAAPdJREFU\n",
       "GNNjYGB4+//O2d0LGDABa/Wde2wCINZsBgaeH1hUVD5gYD75AMjg+MfAwPUHU0G0K5A4nwAk2L8x\n",
       "MPB9h0twJ0AZmgFAYiVYaAIDQ6QrXAXHBgjN8xlE9oAI/gsMHL4BCNPfQKh8BxAZBiL67z3fYgAW\n",
       "POICAv4HwBz5Arie+gQG1rnITjQCq/dvgAvsBKkyQA4HTVDozAdbDCb+glQUIKnIFQObASKYG6DB\n",
       "wXAfHKaHlMBADawOHBKMDNDg4PiNZMQiqF9AxoqCWEzA4Fi5FckVqhCaGWi2DcgZvPp/z9zejGQE\n",
       "L8wPMXvvYItPBgY2ND4AIAc997kUO5QAAAAASUVORK5CYII=\n",
       "\" style=\"display:inline;vertical-align:middle;\" /></a></span></td></tr>\n",
       "<tr><td><a name=\"-0x42aa6a070ff4eb86_step4\">4</a></td><td>modus ponens</td><td><a href=\"#-0x42aa6a070ff4eb86_step5\">5</a>, <a href=\"#-0x42aa6a070ff4eb86_step6\">6</a></td><td><span style=\"font-size:20px;\"><a class=\"ProveItLink\" href=\"../__pv_it/4b3accb3274af3c2e58b772cdadc15ad5d15b9a10/expr.ipynb\"><img src=\"data:image/png;base64,iVBORw0KGgoAAAANSUhEUgAAAGwAAAAVBAMAAABRZRb3AAAAMFBMVEX///+IiIi6urrc3NxERETM\n",
       "zMwQEBCqqqpUVFQiIiJ2dnYyMjLu7u5mZmaYmJgAAABN0h6tAAAAAXRSTlMAQObYZgAAAYZJREFU\n",
       "OMtjYGDgu8dAEoiVAZE8uxhIBGoBQILvA4TDugGLCr7+H3dbnBB8sCJeEME1ASLC/QGbyWwODAz3\n",
       "A+BcsCKwDpi213+waYt/wMCgfwHOBStC1sZT+xmh2BnOkjdgYHgvAONBFCFr42P8hNAWAme5AdVm\n",
       "HoB7FawIWZsO+z+kkIA76wcDQ2QPXByiiCsBSHCAQ5BHgfUjiOadCQZ/YSH3453IdLguqCJw2JeB\n",
       "w4mJgfkvUkiwb4fQjEC/HGuAicIU7QV6YzJYJOLujS/IIXg6CUyxAN3D+B0mCFPEMREa5wwKDAzZ\n",
       "SLqYuwzAND/QJsaPMFGYoh0grQ4gRwHxNLDfdkOAASLaOGBBDFPEB49zcyDej7CMaQNStMU7QDkw\n",
       "ReCQBGljBmn1N0D4DBZT24BGpBxg4PnNgKQIFm88/r8PMJT8nwvX1gqlu//33nApADJmHkBShJIm\n",
       "kYEBugD7ASQORFsCEVmMiwFdG98HIrQdROaA8xsDMbn7AUruVgC7m4yyBADy/nRaxy0O+AAAAABJ\n",
       "RU5ErkJggg==\n",
       "\" style=\"display:inline;vertical-align:middle;\" /></a> <a class=\"ProveItLink\" href=\"../__pv_it/4c858e8107050eb7cc5ebc6c3961bb5991f1f9190/proof.ipynb\" style=\"text-decoration: none\">&#x22A2;&nbsp;</a><a class=\"ProveItLink\" href=\"../../../../__pv_it/4d98b438710c5ada9ffa4646bb123a7d0e69ec000/expr.ipynb\"><img src=\"data:image/png;base64,iVBORw0KGgoAAAANSUhEUgAAABAAAAAOBAMAAADUAYG5AAAALVBMVEX///8yMjKqqqoiIiLu7u7c\n",
       "3NyIiIjMzMwQEBC6urpERERmZmZUVFSYmJgAAACsPVCVAAAAAXRSTlMAQObYZgAAAGxJREFUCNdj\n",
       "YGC48+70nlUTGICgi4GB+zmQZn/LwMD5Gshge8rAwPsMyOBqYGDwMAEy+A4wsNs4ABl1Z68tVgBp\n",
       "ygtgYOkBMVaAOCChNyBGAsQYhnMTIMawvwJyGIHGzFjCwMAj92b3qUUMDAAXABxvZ4rl5AAAAABJ\n",
       "RU5ErkJggg==\n",
       "\" style=\"display:inline;vertical-align:middle;\" /></a></span></td></tr>\n",
       "<tr><td><a name=\"-0x42aa6a070ff4eb86_step5\">5</a></td><td>assumption</td><td></td><td><span style=\"font-size:20px;\"><a class=\"ProveItLink\" href=\"../__pv_it/d724b8b04397244d48f9c771a2569d3864e53e0e0/expr.ipynb\"><img src=\"data:image/png;base64,iVBORw0KGgoAAAANSUhEUgAAAFMAAAAVBAMAAADInc9CAAAAMFBMVEX///+IiIi6urrc3NxERETM\n",
       "zMwQEBCqqqpUVFQiIiJ2dnYyMjLu7u5mZmaYmJgAAABN0h6tAAAAAXRSTlMAQObYZgAAAVFJREFU\n",
       "KM9jYGDgu8dACLBePACieHYxEAZMqSCS7wNU5wYsSvj6f9xtcQIyboN4XBMgotwfsBnH5sDAcD+A\n",
       "gWElstLXf7ApjX/AwKB/AVUpT+1nhAIWAxhLHsh6L4CqlI/xE5KPHWAsN6AhmQdQleqw/0Oy9y2M\n",
       "8YOBIbIHSC8DcTjAPudRYP0Ilrs5EwTmX4Aa/+OdyHQQ4z2IKAsABxwD819k71QXgClGoAeONYDC\n",
       "B6g3ZDJYLOLujS/ISnm2KYD9lwBU/h3E6gT6TQ1sKlAiG1mpxWIwxQ80kRHkMm6Q0Rwg37ID8TSw\n",
       "5O3dYLAZEawcn2BuBYeAORDvRzJUGylY4x1gIQBSygxS7m+AcOkeKGMb0MMpoFQFC1ce/98HGEr+\n",
       "z4Ur5QiA0N3/e2+4gMMCJQ0gA2YMEYjSBCLSK0Qp3wdilILTKwNRuSAJTLETmbcAeeRemCs1ZFAA\n",
       "AAAASUVORK5CYII=\n",
       "\" style=\"display:inline;vertical-align:middle;\" /></a> <a class=\"ProveItLink\" href=\"../__pv_it/398ad2f600fe9d64fafc0e1a14b5cdb47c57e34a0/proof.ipynb\" style=\"text-decoration: none\">&#x22A2;&nbsp;</a><a class=\"ProveItLink\" href=\"../__pv_it/8b52df86786c45166e4e597fabcdbadc8276ac2f0/expr.ipynb\"><img src=\"data:image/png;base64,iVBORw0KGgoAAAANSUhEUgAAAEAAAAAPBAMAAACmSdRUAAAAMFBMVEX///92dnYiIiIQEBBERERU\n",
       "VFS6urqIiIjc3NxmZmaqqqru7u6YmJgyMjLMzMwAAADiRdoGAAAAAXRSTlMAQObYZgAAAO5JREFU\n",
       "GNNjYACBtwxYwNH/kVNdEiDs+9gUMJgwMHD+A7N47m/AIs/3h4GB7SeYuWt+A0LcA8Zg/wHU+h3M\n",
       "PFCfgFDwBMZgMWBg2KwNYrFtWH8AoYBnApTBH8DApwq2exvD+wIQzakEBj+hCt7HHHdaAGYlMPRP\n",
       "QHIc1y0IXd/AwG0Kdm3kzHgHZOfvNQNTziBFICPYGBiYLyDJcwRC/PQVpABkN1ARkwHYDXchoAEe\n",
       "DAzxQO9xABXwfkAYwHYBEQx8X4CMJpCXfyC5ABqqvEBTk70ZGLb8v83A5f8J4Y04CMV6/+vMEC9s\n",
       "UdSAygUACNlBmGjrK1sAAAAASUVORK5CYII=\n",
       "\" style=\"display:inline;vertical-align:middle;\" /></a></span></td></tr>\n",
       "<tr><td><a name=\"-0x42aa6a070ff4eb86_step6\">6</a></td><td>assumption</td><td></td><td><span style=\"font-size:20px;\"><a class=\"ProveItLink\" href=\"../__pv_it/1ea553d38af7f0e38bb62d4c24279012575f1f120/expr.ipynb\"><img src=\"data:image/png;base64,iVBORw0KGgoAAAANSUhEUgAAACIAAAAVBAMAAADRFiHkAAAAMFBMVEX///+IiIi6urrc3NxERETM\n",
       "zMwQEBCqqqpUVFQiIiJ2dnYyMjLu7u5mZmaYmJgAAABN0h6tAAAAAXRSTlMAQObYZgAAAK5JREFU\n",
       "GNNjYGDgu8cAA7EyIJJnFwMCqAUACb4PEA7rBiDBCyK4JkBEuD/AODCR13/QRHhqP6OJ8DF+QhPR\n",
       "Yf8H4iQACY4NYE0KrB9hFpeBnMDAxMD8F0TvZWAImQzWFHH3xhcQzTER6kwGBQaGbBC9AyTqACTY\n",
       "gXgazBywXeZAvB9mF0iEGSTqb4BwD4//7wMMJf/novkLDCAiCegisPABA3D4MKCEoQKIZEcNZwC8\n",
       "2C7b2utx6wAAAABJRU5ErkJggg==\n",
       "\" style=\"display:inline;vertical-align:middle;\" /></a> <a class=\"ProveItLink\" href=\"../__pv_it/f7aa928e5488bb87da79ed7f822c857e11b4dd2c0/proof.ipynb\" style=\"text-decoration: none\">&#x22A2;&nbsp;</a><a class=\"ProveItLink\" href=\"../../../../__pv_it/d3792d0d8642fdf1cd2a3a9b32c673ee13653de00/expr.ipynb\"><img src=\"data:image/png;base64,iVBORw0KGgoAAAANSUhEUgAAAA8AAAAOBAMAAAACpFvcAAAALVBMVEX///8iIiIQEBBERERUVFS6\n",
       "urqIiIjc3NxmZmaqqqru7u6YmJgyMjLMzMwAAACK9jtgAAAAAXRSTlMAQObYZgAAAFtJREFUCNdj\n",
       "YACBOwxQcA5Kc59bAGGs7CuAMDbkBYBp1gXzNoAZSxnuJYAZAQx1DSCa16PDzwCshIGB6QCIMYGB\n",
       "gVEBSLMDGTwPgIxCIGZ+zsCw+N0pBk67hw0AfpEVEQi8t+wAAAAASUVORK5CYII=\n",
       "\" style=\"display:inline;vertical-align:middle;\" /></a></span></td></tr>\n",
       "</table>"
      ],
      "text/plain": [
       "\tstep type\trequirements\tstatement\n",
       "0\tgeneralizaton\t1\t|- forall_{A, B, C | A => B, B => C} (A => C)\n",
       "1\thypothetical reasoning\t2\t{A => B, B => C} |- A => C\n",
       "2\tmodus ponens\t3, 4\t{A => B, B => C, A} |- C\n",
       "3\tassumption\t\t{B => C} |- B => C\n",
       "4\tmodus ponens\t5, 6\t{A => B, A} |- B\n",
       "5\tassumption\t\t{A => B} |- A => B\n",
       "6\tassumption\t\t{A} |- A"
      ]
     },
     "execution_count": 4,
     "metadata": {},
     "output_type": "execute_result"
    }
   ],
   "source": [
    "%qed # done solely via automation"
   ]
  },
  {
   "cell_type": "code",
   "execution_count": null,
   "metadata": {},
   "outputs": [],
   "source": []
  }
 ],
 "metadata": {
  "kernelspec": {
   "display_name": "Python 3",
   "language": "python",
   "name": "python3"
  }
 },
 "nbformat": 4,
 "nbformat_minor": 0
}
