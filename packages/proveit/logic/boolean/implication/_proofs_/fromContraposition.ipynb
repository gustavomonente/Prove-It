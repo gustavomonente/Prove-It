{
 "cells": [
  {
   "cell_type": "markdown",
   "metadata": {},
   "source": [
    "Proof of <a class=\"ProveItLink\" href=\"../../../../_context_.ipynb\">proveit</a>.<a class=\"ProveItLink\" href=\"../../../_context_.ipynb\">logic</a>.<a class=\"ProveItLink\" href=\"../../_context_.ipynb\">boolean</a>.<a class=\"ProveItLink\" href=\"../_context_.ipynb\">implication</a>.<a class=\"ProveItLink\" href=\"../_theorems_.ipynb#fromContraposition\">fromContraposition</a> theorem\n",
    "========"
   ]
  },
  {
   "cell_type": "code",
   "execution_count": 1,
   "metadata": {},
   "outputs": [],
   "source": [
    "import proveit\n",
    "from proveit import defaults\n",
    "from proveit._common_ import A\n",
    "context = proveit.Context('..') # the theorem's context is in the parent directory"
   ]
  },
  {
   "cell_type": "code",
   "execution_count": 2,
   "metadata": {},
   "outputs": [
    {
     "name": "stdout",
     "output_type": "stream",
     "text": [
      "Beginning proof of fromContraposition\n",
      "Recorded 'presuming' information\n"
     ]
    },
    {
     "name": "stdout",
     "output_type": "stream",
     "text": [
      "Presuming previous theorems (applied transitively).\n"
     ]
    },
    {
     "data": {
      "text/html": [
       "<strong id=\"fromContraposition\">fromContraposition:</strong> <a class=\"ProveItLink\" href=\"../__pv_it/ddc057f7de39ccf191949598673153979ac2b98b0/expr.ipynb\"><img src=\"data:image/png;base64,iVBORw0KGgoAAAANSUhEUgAAARkAAAAWBAMAAAAGH/VFAAAAMFBMVEX///8QEBCIiIhmZma6urrM\n",
       "zMxUVFQiIiJERETc3Nzu7u6qqqp2dnaYmJgyMjIAAAAcRTyBAAAAAXRSTlMAQObYZgAAA75JREFU\n",
       "SMe9Vk2IFEcU/uzpcaZnemb3ECSgSBMP8RJ3YWBCJCYjgnpZ3FzEU2wwwhoiKwpREiUqYsbfbQ+i\n",
       "CLItyiorSRZCDjkEJy4hiREZPQghCJPsKQru4q66GkRfvVc9XTM7uzno+GC6aup7r+ur772qLuD1\n",
       "mFP9X5cf6VdTnTttZ3NJmo9bYbefbyqWS5gfAH+o/3fbzuZfacZbgm8CiYfIkDCnlYx7200m1y3N\n",
       "eNgCTD4D7EngKpAn3B1pN5tUwM3lD4N47FDUsZ4QzwfAOWquDQ+fanui9AzVrlI8tiHqpDuJyRck\n",
       "DIHT5fLuuV4UNIg6K5Sck80SftrhleqM7AEdPpKfqxTRwOZIM3munRzt41lscXV1iD3wfvEQssba\n",
       "6hDHakTcZtgxfl7ARk+1iZ1skxrcuPXW16pWclTGq7iYqT8ljDvhdrJ+4roleuFN4GfgPWOKLfEy\n",
       "p+qIuPHgP2M7ooL8kp8lDHYb8dl70nYFyCxQ/7dRgcFi+c4/YyjhI/s0ZpOsRLFF4EqIISM3dYhj\n",
       "h0w3XB5dAa9y9gft8AYHbCr0N+zeb3kY+xQj4p2cIL2rKR67tkOq30OiFrOZ3xuFbgc+oErjLGar\n",
       "DRDHCqLdckfOhPA89xuTDeV+Xs08nz+TkEeKjSdsnNp6Ju6VGfquF8vCmE0qCs08hEWHpOjISUrF\n",
       "KqlYQbTbKtX3vJ7fzUzR8lNcBIn7YkH9uEE/lZ29TVXgJywC3mVs3TtLfcRs6pvffnDroFLFd8tk\n",
       "f5cMSGKzvuHGEniFxb1GFTvEJj8RS2PX4uMmOa2rGN8rSvgLXYzdAN422KwFfqPZa3BrsMjR1olf\n",
       "UoohiRVE3DLdok3ipJ55VC8s/cSoGn0u50mvlYeVZKoQO9Suy4xdH2D0KDA4ErNZLRE+0hU4/9Ei\n",
       "9IKGPo0hiRVE3JK7yuX9qm4sPfMa+m4+v4vswON4U23Wwo4/KvQdYVpKyZxikQgxyLLSjOuCmM2G\n",
       "aMqOEdi0MNu3CmTF5QYksTZnSrv5oo2baPwyzH6sKrtY7/XQi6rOYThP4SwyMnUxmnIwxAlSMlfB\n",
       "MNlbJsSxCjkdRm6/MJuKe7353J3LrtY/FdNwBvYkF+LXyUJfyWCTkuQG7leF4gGlIYOOb0ASq5CP\n",
       "RiK3NCU7t3vseHXGJ3J2y9SaBrJGX9hYTZ/3vJwULaC87GFtS6luWty25rJ00OIy2MgGTVefn4z+\n",
       "3mYkG7zMTfTP5oHqTDY9jWqa+e9pRnLtu5Lo7dC4Xsu8uzVAVvgK5nwBOlIM7qcNEfAAAAAASUVO\n",
       "RK5CYII=\n",
       "\" style=\"display:inline;vertical-align:middle;\" /></a><br>(see <a class=\"ProveItLink\" href=\"../__pv_it/ddc057f7de39ccf191949598673153979ac2b98b0/dependencies.ipynb\">dependencies</a>)<br>"
      ],
      "text/plain": [
       "fromContraposition: forall_{A, B | [not](B) => [not](A), B in BOOLEANS} (A => B)"
      ]
     },
     "execution_count": 2,
     "metadata": {},
     "output_type": "execute_result"
    }
   ],
   "source": [
    "%proving fromContraposition presuming []"
   ]
  },
  {
   "cell_type": "code",
   "execution_count": 3,
   "metadata": {},
   "outputs": [
    {
     "data": {
      "text/html": [
       "<strong id=\"defaults.assumptions\">defaults.assumptions:</strong> <a class=\"ProveItLink\" href=\"../__pv_it/38f142f3fcbd74dcaafd193a40a8a3054e0f93100/expr.ipynb\"><img src=\"data:image/png;base64,iVBORw0KGgoAAAANSUhEUgAAAOMAAAAUBAMAAACNN5feAAAAMFBMVEX////MzMxUVFR2dna6uroQ\n",
       "EBCqqqqIiIgiIiJmZmYyMjJERETu7u6YmJjc3NwAAACgK8IjAAAAAXRSTlMAQObYZgAAArpJREFU\n",
       "SMeVVk1oE1EQ/jZdkzS7iUURDx6MRxExoCA9KAEpFFEQ6clechL8QeLNgqBWlBWKDTlZQcillyI2\n",
       "B5WCrQmCKPRg0YOoUJYeRBChFqW0VdvZ3ff2zb5dTR0Y3s9+38y82Xk/QGEOvkblEpLk2+Zg/xCf\n",
       "MCtUyNv1vfVnZaTcBLzd5COjAQYTPC5XBlvjw+UEwiOhUgaB7u+wGwkuc5E4covgsIAXkcZOe/pB\n",
       "nJCvBRqG8hswV4DDCS4/REYff4HBJI9L8yQuW3FC1g1USuYPhbAMvFRTlvx8N5Llc4RUMMnz5JPj\n",
       "NITLs1ac8AWBhvZP0fQIZUH9BEP8wsJ17jKf+QEGkzySXVfVKg/NxglD1AwxS1uLMIbbQFctltBM\n",
       "jbs8kaZUKpjk0WoeqsSaN/bECTPUzDBLu/e/n6p4Mfmpued4MhrYtfhWssvGcghjPF7Fzb7Rn+U4\n",
       "4TY1pN2+7RJwzYV9mubSPIvnfWPZiojhJg1MFFY4TPIoMl4+R97JgSIMUDMgZgtF4IlHJ9vGIl/S\n",
       "uBfsFhnxAum2sfoaGEzygB0TJLJ8LFOmRhF0l0setaq5XDgK3SX1z3CXkgd85au0UBQDRRCJlS69\n",
       "7YUD9Nn0M3Z/wpfgqMhWlMs0NbcgYVA8ioy7TEH8bEbg5UMuve1lrPG6IDmOaPmQy8/UTDJYyKOy\n",
       "qPJV5ktBnxF6qemVmB7kaHv1TXvEkvqTourDDWEEW7Tl+rA3nteQx5KGxnYcrMNelXtaEPqp2x9a\n",
       "T00uje176h+IPWpSdM2wiO3WahsX1u/4sOwI55G8eNyOHOtOWyNoB56U16pbQNKBp2AX9cljUw6/\n",
       "FdLtKEE/1qV0PtZDWKnDHdmlE54L1a7GpMvLcpNgdrWDy1e6Xe2K/qv12BUtYflOL4E53W7yQ2R+\n",
       "cw+R+f99iBBhAxKx9vqML6k2AAAAAElFTkSuQmCC\n",
       "\" style=\"display:inline;vertical-align:middle;\" /></a><br>"
      ],
      "text/plain": [
       "defaults.assumptions: ([not](B) => [not](A), B in BOOLEANS, A)"
      ]
     },
     "execution_count": 3,
     "metadata": {},
     "output_type": "execute_result"
    }
   ],
   "source": [
    "defaults.assumptions = list(fromContraposition.allConditions()) + [A]"
   ]
  },
  {
   "cell_type": "code",
   "execution_count": 4,
   "metadata": {},
   "outputs": [
    {
     "data": {
      "text/html": [
       "<strong id=\"notB_implies_notA\">notB_implies_notA:</strong> <a class=\"ProveItLink\" href=\"../__pv_it/d20a89037ae31b689e2de9efbbfb3e8f70b6e0230/expr.ipynb\"><img src=\"data:image/png;base64,iVBORw0KGgoAAAANSUhEUgAAAHkAAAAUBAMAAABbvo/+AAAAMFBMVEX////MzMxUVFR2dna6uroQ\n",
       "EBCqqqqIiIgiIiJmZmYyMjJERETu7u6YmJjc3NwAAACgK8IjAAAAAXRSTlMAQObYZgAAAb5JREFU\n",
       "OMuNlD1LA0EQht/TM7kkl1P8A6YVEe3ERtIIIhYiVtqkVUFsrSKKoiB6WKmVjY2IsVEEv9IIQhqx\n",
       "ES0kpBAbIQZBYvya3U1u93ILOhB2d+55J7Mzuws4N6izaejsRYvl5Pr2p33jNImGvEZsH6orYwcC\n",
       "O1Cc40DkFfaORh31hYwWwbG4q0T8Aswy0KNR3/tWD5/gmKXEDH9TtHfgSrpitc9rvm1MEMmwZ8UZ\n",
       "GybXKuWVlOlUt+vMqep4+A0cm1WczQkY81mg0Q1kHHZV9VCI9siwc8XZ1nl3kmKhedk2l5mtC1lM\n",
       "7audNN4FtkRl5lg3kM7DHiF3SE1zksWDlaqGW6CFCacssNEq5CSAIxrThBlF9Y92WRWaaqUo0K91\n",
       "a6MCjqnqElPP1KkLfahX03xMqJekmrUbXfTJ5Jlv73ETp8lKSXWIhkVw7FyqWbuNilc1YYPwV43U\n",
       "TzRkBNZbw1oQpXb3n9E00i13vS9Gr4mGaP1lnmMDHtiQKW11HPNT3CKd1anptcG+/Mhi6meFY5bm\n",
       "Ql3LqQPdSfWwuBt0/31LPOwieJV1NzSW12K5f4CB18HDgi/T4/9eJsJ+AUwDfNKudYnMAAAAAElF\n",
       "TkSuQmCC\n",
       "\" style=\"display:inline;vertical-align:middle;\" /></a><br>"
      ],
      "text/plain": [
       "notB_implies_notA: [not](B) => [not](A)"
      ]
     },
     "execution_count": 4,
     "metadata": {},
     "output_type": "execute_result"
    }
   ],
   "source": [
    "notB_implies_notA = defaults.assumptions[0]"
   ]
  },
  {
   "cell_type": "code",
   "execution_count": 5,
   "metadata": {},
   "outputs": [
    {
     "data": {
      "text/html": [
       "<span style=\"font-size:20px;\"><a class=\"ProveItLink\" href=\"../__pv_it/e65af7fa180c459cf958e81531b69017fb4dba180/expr.ipynb\"><img src=\"data:image/png;base64,iVBORw0KGgoAAAANSUhEUgAAANEAAAAVBAMAAAAqbRZ+AAAAMFBMVEX///+IiIi6urrc3NxERETM\n",
       "zMwQEBCqqqpUVFQiIiJ2dnYyMjLu7u5mZmaYmJgAAABN0h6tAAAAAXRSTlMAQObYZgAAAvhJREFU\n",
       "SMe1Vk1oE0EUftlkmzTZrjnowYOkp4AgmmO96GpFKRQboRf1kFAiKF48KZ4MWA/+1BSKtFHBIlKo\n",
       "oISKFayQKFIPuaS3qtTGmyia1voTEa1v/nZndleTiwOZn7ffvG/em/feBADMN/Cfm75QIYPxuC30\n",
       "LrcgnPKDBet+MO0YmZorpH+3PrK4r1vBbM4NzE4IkWHZcrPQXBreC3Dej+m5sjoKHPaadNFRKswB\n",
       "dH1Vd5UOGf3CszHJgg5kXU5D1Y/pgbIq44/Cph0m/Tfa+EvdZW2HTSE+/yjJM+ihHTWIxr1EZk1Z\n",
       "lfF+KExiCqzhh1X2va94QzCdEUxjkoIE2teIg5F1RL187FQu78UyLilMYgrhev4mtW5PxbHpNvd7\n",
       "cFRSsB+3n0DQjCMa5ONOxcJ6glzzjMq0IQ/6BKWoVhzvadcusGlA9koT4PAVHO95vbZFJtIq5+oc\n",
       "NkXWkRL1/dW3fafodyekrOStbzz2QlLw6s1PG8fJ5APpuoq08Ss+KDM9g0ycwxpkfTrNfW8cZ/rl\n",
       "iLj/nvsfT/GSaLzOrnQ+j8Kzcto8osO4oJ7ERTfsrnFYDCeDY8L3kCBG6SfnsAmmkMaM6RB51cOu\n",
       "NPCd+EE2oDpE+iGRwHgSfWSpYAnYRbQumea+hwSxNajYFIK8hwmvFAKrLqbgpZSbScNtJQ6LETUR\n",
       "i6cTFKi6rMwUgZLtPcFE0inyGedb6T3NsZYS3rOZcEtnlsMaduwR3+tfKGhBscmcVCOih6VTxhIR\n",
       "wcOspEYEMgWRKbbCYVM2UwzJk/3q8aF0BO4ugvGTgESU6wCzqDhHUuGVdEs8NezAT9PUCq1xmJ1P\n",
       "kTIWzQO8lg5vUytsEbVoTuZeJrWYnuahw8TTjjmUldr1JxAe+FFjMClz5YS7w6uRCOCKqxqJ8i5t\n",
       "TPlWIwfGmLItXqaou8IKecsK68CmnffpH+0pDQnvYX1fjV5/GH2foNWbW3e9hH9X6nkJBUxjeRZu\n",
       "63+E53U323vdCYz+j/gD56jWSZSWaZkAAAAASUVORK5CYII=\n",
       "\" style=\"display:inline;vertical-align:middle;\" /></a> <a class=\"ProveItLink\" href=\"../__pv_it/1aab80bb5aa42836065b5ed9cfa4481ecb4ebbe20/proof.ipynb\" style=\"text-decoration: none\">&#x22A2;&nbsp;</a><a class=\"ProveItLink\" href=\"../__pv_it/8b52df86786c45166e4e597fabcdbadc8276ac2f0/expr.ipynb\"><img src=\"data:image/png;base64,iVBORw0KGgoAAAANSUhEUgAAAEAAAAAPBAMAAACmSdRUAAAAMFBMVEX///92dnYiIiIQEBBERERU\n",
       "VFS6urqIiIjc3NxmZmaqqqru7u6YmJgyMjLMzMwAAADiRdoGAAAAAXRSTlMAQObYZgAAAO5JREFU\n",
       "GNNjYACBtwxYwNH/kVNdEiDs+9gUMJgwMHD+A7N47m/AIs/3h4GB7SeYuWt+A0LcA8Zg/wHU+h3M\n",
       "PFCfgFDwBMZgMWBg2KwNYrFtWH8AoYBnApTBH8DApwq2exvD+wIQzakEBj+hCt7HHHdaAGYlMPRP\n",
       "QHIc1y0IXd/AwG0Kdm3kzHgHZOfvNQNTziBFICPYGBiYLyDJcwRC/PQVpABkN1ARkwHYDXchoAEe\n",
       "DAzxQO9xABXwfkAYwHYBEQx8X4CMJpCXfyC5ABqqvEBTk70ZGLb8v83A5f8J4Y04CMV6/+vMEC9s\n",
       "UdSAygUACNlBmGjrK1sAAAAASUVORK5CYII=\n",
       "\" style=\"display:inline;vertical-align:middle;\" /></a></span>"
      ],
      "text/plain": [
       "{B in BOOLEANS, [not](B) => [not](A)} |- A => B"
      ]
     },
     "execution_count": 5,
     "metadata": {},
     "output_type": "execute_result"
    }
   ],
   "source": [
    "notB_implies_notA.denyAntecedent().asImplication(A)"
   ]
  },
  {
   "cell_type": "code",
   "execution_count": 6,
   "metadata": {},
   "outputs": [
    {
     "data": {
      "text/html": [
       "<table><tr><th>&nbsp;</th><th>step type</th><th>requirements</th><th>statement</th></tr>\n",
       "<tr><td><a name=\"0x38371adf30eab654_step0\">0</a></td><td>generalizaton</td><td><a href=\"#0x38371adf30eab654_step1\">1</a></td><td><span style=\"font-size:20px;\"> <a class=\"ProveItLink\" href=\"../__pv_it/87ed9614dea5b8307c586dd747a3482ecd8f9db60/proof.ipynb\" style=\"text-decoration: none\">&#x22A2;&nbsp;</a><a class=\"ProveItLink\" href=\"../__pv_it/ddc057f7de39ccf191949598673153979ac2b98b0/expr.ipynb\"><img src=\"data:image/png;base64,iVBORw0KGgoAAAANSUhEUgAAARkAAAAWBAMAAAAGH/VFAAAAMFBMVEX///8QEBCIiIhmZma6urrM\n",
       "zMxUVFQiIiJERETc3Nzu7u6qqqp2dnaYmJgyMjIAAAAcRTyBAAAAAXRSTlMAQObYZgAAA75JREFU\n",
       "SMe9Vk2IFEcU/uzpcaZnemb3ECSgSBMP8RJ3YWBCJCYjgnpZ3FzEU2wwwhoiKwpREiUqYsbfbQ+i\n",
       "CLItyiorSRZCDjkEJy4hiREZPQghCJPsKQru4q66GkRfvVc9XTM7uzno+GC6aup7r+ur772qLuD1\n",
       "mFP9X5cf6VdTnTttZ3NJmo9bYbefbyqWS5gfAH+o/3fbzuZfacZbgm8CiYfIkDCnlYx7200m1y3N\n",
       "eNgCTD4D7EngKpAn3B1pN5tUwM3lD4N47FDUsZ4QzwfAOWquDQ+fanui9AzVrlI8tiHqpDuJyRck\n",
       "DIHT5fLuuV4UNIg6K5Sck80SftrhleqM7AEdPpKfqxTRwOZIM3munRzt41lscXV1iD3wfvEQssba\n",
       "6hDHakTcZtgxfl7ARk+1iZ1skxrcuPXW16pWclTGq7iYqT8ljDvhdrJ+4roleuFN4GfgPWOKLfEy\n",
       "p+qIuPHgP2M7ooL8kp8lDHYb8dl70nYFyCxQ/7dRgcFi+c4/YyjhI/s0ZpOsRLFF4EqIISM3dYhj\n",
       "h0w3XB5dAa9y9gft8AYHbCr0N+zeb3kY+xQj4p2cIL2rKR67tkOq30OiFrOZ3xuFbgc+oErjLGar\n",
       "DRDHCqLdckfOhPA89xuTDeV+Xs08nz+TkEeKjSdsnNp6Ju6VGfquF8vCmE0qCs08hEWHpOjISUrF\n",
       "KqlYQbTbKtX3vJ7fzUzR8lNcBIn7YkH9uEE/lZ29TVXgJywC3mVs3TtLfcRs6pvffnDroFLFd8tk\n",
       "f5cMSGKzvuHGEniFxb1GFTvEJj8RS2PX4uMmOa2rGN8rSvgLXYzdAN422KwFfqPZa3BrsMjR1olf\n",
       "UoohiRVE3DLdok3ipJ55VC8s/cSoGn0u50mvlYeVZKoQO9Suy4xdH2D0KDA4ErNZLRE+0hU4/9Ei\n",
       "9IKGPo0hiRVE3JK7yuX9qm4sPfMa+m4+v4vswON4U23Wwo4/KvQdYVpKyZxikQgxyLLSjOuCmM2G\n",
       "aMqOEdi0MNu3CmTF5QYksTZnSrv5oo2baPwyzH6sKrtY7/XQi6rOYThP4SwyMnUxmnIwxAlSMlfB\n",
       "MNlbJsSxCjkdRm6/MJuKe7353J3LrtY/FdNwBvYkF+LXyUJfyWCTkuQG7leF4gGlIYOOb0ASq5CP\n",
       "RiK3NCU7t3vseHXGJ3J2y9SaBrJGX9hYTZ/3vJwULaC87GFtS6luWty25rJ00OIy2MgGTVefn4z+\n",
       "3mYkG7zMTfTP5oHqTDY9jWqa+e9pRnLtu5Lo7dC4Xsu8uzVAVvgK5nwBOlIM7qcNEfAAAAAASUVO\n",
       "RK5CYII=\n",
       "\" style=\"display:inline;vertical-align:middle;\" /></a></span></td></tr>\n",
       "<tr><td><a name=\"0x38371adf30eab654_step1\">1</a></td><td>hypothetical reasoning</td><td><a href=\"#0x38371adf30eab654_step2\">2</a></td><td><span style=\"font-size:20px;\"><a class=\"ProveItLink\" href=\"../__pv_it/e65af7fa180c459cf958e81531b69017fb4dba180/expr.ipynb\"><img src=\"data:image/png;base64,iVBORw0KGgoAAAANSUhEUgAAANEAAAAVBAMAAAAqbRZ+AAAAMFBMVEX///+IiIi6urrc3NxERETM\n",
       "zMwQEBCqqqpUVFQiIiJ2dnYyMjLu7u5mZmaYmJgAAABN0h6tAAAAAXRSTlMAQObYZgAAAvhJREFU\n",
       "SMe1Vk1oE0EUftlkmzTZrjnowYOkp4AgmmO96GpFKRQboRf1kFAiKF48KZ4MWA/+1BSKtFHBIlKo\n",
       "oISKFayQKFIPuaS3qtTGmyia1voTEa1v/nZndleTiwOZn7ffvG/em/feBADMN/Cfm75QIYPxuC30\n",
       "LrcgnPKDBet+MO0YmZorpH+3PrK4r1vBbM4NzE4IkWHZcrPQXBreC3Dej+m5sjoKHPaadNFRKswB\n",
       "dH1Vd5UOGf3CszHJgg5kXU5D1Y/pgbIq44/Cph0m/Tfa+EvdZW2HTSE+/yjJM+ihHTWIxr1EZk1Z\n",
       "lfF+KExiCqzhh1X2va94QzCdEUxjkoIE2teIg5F1RL187FQu78UyLilMYgrhev4mtW5PxbHpNvd7\n",
       "cFRSsB+3n0DQjCMa5ONOxcJ6glzzjMq0IQ/6BKWoVhzvadcusGlA9koT4PAVHO95vbZFJtIq5+oc\n",
       "NkXWkRL1/dW3fafodyekrOStbzz2QlLw6s1PG8fJ5APpuoq08Ss+KDM9g0ycwxpkfTrNfW8cZ/rl\n",
       "iLj/nvsfT/GSaLzOrnQ+j8Kzcto8osO4oJ7ERTfsrnFYDCeDY8L3kCBG6SfnsAmmkMaM6RB51cOu\n",
       "NPCd+EE2oDpE+iGRwHgSfWSpYAnYRbQumea+hwSxNajYFIK8hwmvFAKrLqbgpZSbScNtJQ6LETUR\n",
       "i6cTFKi6rMwUgZLtPcFE0inyGedb6T3NsZYS3rOZcEtnlsMaduwR3+tfKGhBscmcVCOih6VTxhIR\n",
       "wcOspEYEMgWRKbbCYVM2UwzJk/3q8aF0BO4ugvGTgESU6wCzqDhHUuGVdEs8NezAT9PUCq1xmJ1P\n",
       "kTIWzQO8lg5vUytsEbVoTuZeJrWYnuahw8TTjjmUldr1JxAe+FFjMClz5YS7w6uRCOCKqxqJ8i5t\n",
       "TPlWIwfGmLItXqaou8IKecsK68CmnffpH+0pDQnvYX1fjV5/GH2foNWbW3e9hH9X6nkJBUxjeRZu\n",
       "63+E53U323vdCYz+j/gD56jWSZSWaZkAAAAASUVORK5CYII=\n",
       "\" style=\"display:inline;vertical-align:middle;\" /></a> <a class=\"ProveItLink\" href=\"../__pv_it/1aab80bb5aa42836065b5ed9cfa4481ecb4ebbe20/proof.ipynb\" style=\"text-decoration: none\">&#x22A2;&nbsp;</a><a class=\"ProveItLink\" href=\"../__pv_it/8b52df86786c45166e4e597fabcdbadc8276ac2f0/expr.ipynb\"><img src=\"data:image/png;base64,iVBORw0KGgoAAAANSUhEUgAAAEAAAAAPBAMAAACmSdRUAAAAMFBMVEX///92dnYiIiIQEBBERERU\n",
       "VFS6urqIiIjc3NxmZmaqqqru7u6YmJgyMjLMzMwAAADiRdoGAAAAAXRSTlMAQObYZgAAAO5JREFU\n",
       "GNNjYACBtwxYwNH/kVNdEiDs+9gUMJgwMHD+A7N47m/AIs/3h4GB7SeYuWt+A0LcA8Zg/wHU+h3M\n",
       "PFCfgFDwBMZgMWBg2KwNYrFtWH8AoYBnApTBH8DApwq2exvD+wIQzakEBj+hCt7HHHdaAGYlMPRP\n",
       "QHIc1y0IXd/AwG0Kdm3kzHgHZOfvNQNTziBFICPYGBiYLyDJcwRC/PQVpABkN1ARkwHYDXchoAEe\n",
       "DAzxQO9xABXwfkAYwHYBEQx8X4CMJpCXfyC5ABqqvEBTk70ZGLb8v83A5f8J4Y04CMV6/+vMEC9s\n",
       "UdSAygUACNlBmGjrK1sAAAAASUVORK5CYII=\n",
       "\" style=\"display:inline;vertical-align:middle;\" /></a></span></td></tr>\n",
       "<tr><td><a name=\"0x38371adf30eab654_step2\">2</a></td><td>instantiation</td><td><a href=\"#0x38371adf30eab654_step3\">3</a>, <a href=\"#0x38371adf30eab654_step4\">4</a>, <a href=\"#0x38371adf30eab654_step5\">5</a>, <a href=\"#0x38371adf30eab654_step6\">6</a></td><td><span style=\"font-size:20px;\"><a class=\"ProveItLink\" href=\"../__pv_it/da35534f508ce70101aff2ccfb37c0963bdda3840/expr.ipynb\"><img src=\"data:image/png;base64,iVBORw0KGgoAAAANSUhEUgAAAOkAAAAVBAMAAABRSdSyAAAAMFBMVEX///+IiIi6urrc3NxERETM\n",
       "zMwQEBCqqqpUVFQiIiJ2dnYyMjLu7u5mZmaYmJgAAABN0h6tAAAAAXRSTlMAQObYZgAAAwNJREFU\n",
       "SMe9Vk1oE0EUftnsNml2u/agBw/SnApF0RzjReMPgiC2ghf1kCD1IF4KgiIeWrAeREsDIjV6aPyh\n",
       "oKAExR5soatIRXKxt2qpDXhTNFFBIx7q/LzZ+clicvJBJvNmvn3fvDdv3gwA+B/gP4qzFNA/73lH\n",
       "6F3mwNlIWLxmDCQyxoB1irZ+gzaTzdXxvfr05uHB2ZtpVLxcOI7YZCaK9ZWmnSC/S4YOK7RJFWnb\n",
       "RayuDekWKke8QyL6rsLBsV4livWppi2QX9XQ4YFkzZPI7HirW8hth0029r8o44i9E0Hqayb8BbKH\n",
       "qV5dV1n7iC91Pu8fLN0WrOcF63XFGGIX5YgtItGthf31GlG9gq6rrAfI9GmWXc6eQPp6F/cpXlSM\n",
       "IdZNy8QUu75T87zWRyFPDF1hbQIcu8amqoGMsHXjMu/G1MghNqWMiQ3YomVrMEoz+pGhz9B+kmaF\n",
       "0/y6cYrPyZzL9U//RH9s5UAIrM/S6V2JyjSu4LDK+hLydM8+G3qd9s/RzI39AFgc41xqNj3+hPs1\n",
       "gvZvSWxCjfrFEfZHVtPDllEmShp208VcEBjUXdIcZXliky2P/WKenJkjIlhtizvZJfYwK7FOQ2H1\n",
       "ZhnipCgWZFXOxOokdSEvYoQ6XCEe91NfNxBU7BvDa77aMNbCKrAaa/YemKwW+ayisArdpSaTOTyC\n",
       "ye9ssqCyJqESRliwCqzFIrwyxwSrw5TCSj7ppsYGcEzo9TCH6RHMcy+XNF/9sp5NWYn1leK0FfRs\n",
       "IqxxwuI2ZDaF+kzIOkuWPhzobkHlODxcBu8PKKfEkdiestzVeeyEp2SIHV2bJB685yZCPTyvV9cn\n",
       "lvcjmze+Ta/+pUBEk0mIdWXZTorugLwG1uchMfibrPYZMyF1pUqoh/s+VkRxVwVGRUR5o9xvEFkR\n",
       "uRdFNCGEsxba3Kwps/qjtK/+/PNeNKGx+o02rC+0+i59iLzp9rWMVIUJIex+hXZviZpxq5v3zD9u\n",
       "dbEO9YFh8TOd6Ojd1PKC+djZC8bPRLyb/gIySvQ/1qgoogAAAABJRU5ErkJggg==\n",
       "\" style=\"display:inline;vertical-align:middle;\" /></a> <a class=\"ProveItLink\" href=\"../__pv_it/f93cd3e22c689f7def80251d3fdb8481a9c719840/proof.ipynb\" style=\"text-decoration: none\">&#x22A2;&nbsp;</a><a class=\"ProveItLink\" href=\"../../../../__pv_it/4d98b438710c5ada9ffa4646bb123a7d0e69ec000/expr.ipynb\"><img src=\"data:image/png;base64,iVBORw0KGgoAAAANSUhEUgAAABAAAAAOBAMAAADUAYG5AAAALVBMVEX///8yMjKqqqoiIiLu7u7c\n",
       "3NyIiIjMzMwQEBC6urpERERmZmZUVFSYmJgAAACsPVCVAAAAAXRSTlMAQObYZgAAAGxJREFUCNdj\n",
       "YGC48+70nlUTGICgi4GB+zmQZn/LwMD5Gshge8rAwPsMyOBqYGDwMAEy+A4wsNs4ABl1Z68tVgBp\n",
       "ygtgYOkBMVaAOCChNyBGAsQYhnMTIMawvwJyGIHGzFjCwMAj92b3qUUMDAAXABxvZ4rl5AAAAABJ\n",
       "RU5ErkJggg==\n",
       "\" style=\"display:inline;vertical-align:middle;\" /></a></span></td></tr>\n",
       "<tr><td>&nbsp;</td><td colspan=4 style=\"text-align:left\"><span style=\"font-size:20px;\"><a class=\"ProveItLink\" href=\"../../../../__pv_it/d3792d0d8642fdf1cd2a3a9b32c673ee13653de00/expr.ipynb\"><img src=\"data:image/png;base64,iVBORw0KGgoAAAANSUhEUgAAAA8AAAAOBAMAAAACpFvcAAAALVBMVEX///8iIiIQEBBERERUVFS6\n",
       "urqIiIjc3NxmZmaqqqru7u6YmJgyMjLMzMwAAACK9jtgAAAAAXRSTlMAQObYZgAAAFtJREFUCNdj\n",
       "YACBOwxQcA5Kc59bAGGs7CuAMDbkBYBp1gXzNoAZSxnuJYAZAQx1DSCa16PDzwCshIGB6QCIMYGB\n",
       "gVEBSLMDGTwPgIxCIGZ+zsCw+N0pBk67hw0AfpEVEQi8t+wAAAAASUVORK5CYII=\n",
       "\" style=\"display:inline;vertical-align:middle;\" /></a> : <a class=\"ProveItLink\" href=\"../../../../__pv_it/4d98b438710c5ada9ffa4646bb123a7d0e69ec000/expr.ipynb\"><img src=\"data:image/png;base64,iVBORw0KGgoAAAANSUhEUgAAABAAAAAOBAMAAADUAYG5AAAALVBMVEX///8yMjKqqqoiIiLu7u7c\n",
       "3NyIiIjMzMwQEBC6urpERERmZmZUVFSYmJgAAACsPVCVAAAAAXRSTlMAQObYZgAAAGxJREFUCNdj\n",
       "YGC48+70nlUTGICgi4GB+zmQZn/LwMD5Gshge8rAwPsMyOBqYGDwMAEy+A4wsNs4ABl1Z68tVgBp\n",
       "ygtgYOkBMVaAOCChNyBGAsQYhnMTIMawvwJyGIHGzFjCwMAj92b3qUUMDAAXABxvZ4rl5AAAAABJ\n",
       "RU5ErkJggg==\n",
       "\" style=\"display:inline;vertical-align:middle;\" /></a>, <a class=\"ProveItLink\" href=\"../../../../__pv_it/4d98b438710c5ada9ffa4646bb123a7d0e69ec000/expr.ipynb\"><img src=\"data:image/png;base64,iVBORw0KGgoAAAANSUhEUgAAABAAAAAOBAMAAADUAYG5AAAALVBMVEX///8yMjKqqqoiIiLu7u7c\n",
       "3NyIiIjMzMwQEBC6urpERERmZmZUVFSYmJgAAACsPVCVAAAAAXRSTlMAQObYZgAAAGxJREFUCNdj\n",
       "YGC48+70nlUTGICgi4GB+zmQZn/LwMD5Gshge8rAwPsMyOBqYGDwMAEy+A4wsNs4ABl1Z68tVgBp\n",
       "ygtgYOkBMVaAOCChNyBGAsQYhnMTIMawvwJyGIHGzFjCwMAj92b3qUUMDAAXABxvZ4rl5AAAAABJ\n",
       "RU5ErkJggg==\n",
       "\" style=\"display:inline;vertical-align:middle;\" /></a> : <a class=\"ProveItLink\" href=\"../__pv_it/98d4bc94e268eb5bd1dd8957b0f9355a80140e9b0/expr.ipynb\"><img src=\"data:image/png;base64,iVBORw0KGgoAAAANSUhEUgAAABwAAAAOBAMAAADOPWE3AAAAMFBMVEX///8QEBBERES6urqIiIiq\n",
       "qqru7u6YmJgyMjLMzMxUVFTc3Nx2dnYiIiJmZmYAAAAfdW6kAAAAAXRSTlMAQObYZgAAAGNJREFU\n",
       "CNdjYEAAzgYGZMDxAYVb8Q2Zxxb3G5nLzvIZmWvG+h1ZrQHnFwaGt3eB4A6Qy8zA/Q8qswuIZ717\n",
       "9QmJa8DAIIHgsgKpiwjuViDVD3MtA/cFIKW/AWaL/o8EhqD/9wA5jBwoctwhSQAAAABJRU5ErkJg\n",
       "gg==\n",
       "\" style=\"display:inline;vertical-align:middle;\" /></a></span></td></tr><tr><td><a name=\"0x38371adf30eab654_step3\">3</a></td><td>theorem</td><td></td><td><span style=\"font-size:20px;\"> <a class=\"ProveItLink\" href=\"modusTollensAffirmation.ipynb\" style=\"text-decoration: none\">&#x22A2;&nbsp;</a><a class=\"ProveItLink\" href=\"../__pv_it/c014cc5a1e80f2fff55fe60a269844e5983e73590/expr.ipynb\"><img src=\"data:image/png;base64,iVBORw0KGgoAAAANSUhEUgAAAOoAAAAZBAMAAADNvK/KAAAAMFBMVEX///8QEBCIiIhmZma6urrM\n",
       "zMxUVFQiIiJERETc3Nzu7u6qqqp2dnaYmJgyMjIAAAAcRTyBAAAAAXRSTlMAQObYZgAAAxlJREFU\n",
       "SMfllktoE0Ecxj92N002u0l78ChlwYO9VAuRFEElIEgRSuOleFzwQb1VC1ahoojoBqWJB2tRtIuC\n",
       "4ooaKIKXYqSI2laJHn0R7M2L0lZoKz7mkexMSNIqbk8O7OyyM9/8Zr6Z+c8AK6amweMIOmmDQ6vU\n",
       "CGMt0sh/RS3R14fG1Dh9xYpBAUMlRp2m358bU808ecXdoKjxr4w6SnL9VGMqKxsNzNyPy4xKh8HG\n",
       "02heqQ/TQUGj40uMGpvyvMsrrab3nnenPyhqTFnga3jRcYZWojY7zrlCnaKcvEb+lLrb+MGpB4AM\n",
       "+5OpT21KI0IIXfOTfQyk8RJTVMrASMmxJ7stKbXlC6nBqdAcp+5ElO2e2ELZhE+zA3mJqnXgPv3d\n",
       "ArOF/orwkkPCNSLcKnf1NfBEMrUiZD3W5zk1DIXtxpt07Hcnt8MqXHsoR4l+tJNctWEsC2pImE6F\n",
       "t2RqEngstpovJKk3kVzkVLPIA9DUAOnX+SsuLMu8J1Nfgi6msAW1JKjE90qiwjj3cILlR4Ad0iRV\n",
       "hCSRiWjlVL3UyzpvOdRtkiyr+4VMvR6ySf4gjU2uoIpQyYTcLjRRePQbFCns+ELAIM/hchzO7GcC\n",
       "dIKHRyvRmpapkRG6Vnra22wIqthsTGjYeO44zvA6Onlzb85KfvtC4Cp5vpSp42w3vsNmRDv4WNVL\n",
       "MtXopF+vgI0StQsMU+JCaOXopmwhU1aCQps0aTckIXT6N5vj1GaL2jI7k3VDxxznNJ1XperMoYsd\n",
       "F4CxvKDu4uU2F/KgTps56CJSgP7dN0IIo9mfLh79GuDUGHVddTGWhs3HaqpV1Lc0I+305AR1b4XK\n",
       "hZqNDQmS9pG2mvPQlgTVF9Y5X7tJ7SKeMmrBnKk5X/Vl6Oslh29XqFwYKyDqed4NatuYi4sFjLqc\n",
       "KoS11Mgi9OwJRIgVsaHZ4WIN9dl8oi8lUcN8WebKQjXlN2eeTCTPAHuYq7okbHyXaCPzuspdglOV\n",
       "6mMqXhub84HeYMoRsfpInqipZuTWgtpddWx21J5p/3Jbq70Pq3XGovzNDUcbPPobjMDZqMhIwAIA\n",
       "AAAASUVORK5CYII=\n",
       "\" style=\"display:inline;vertical-align:middle;\" /></a></span></td></tr>\n",
       "<tr><td>&nbsp;</td><td colspan=4 style-\"text-align:left\"><a class=\"ProveItLink\" href=\"modusTollensAffirmation.ipynb\">proveit.logic.boolean.implication.modusTollensAffirmation</a></td></tr><tr><td><a name=\"0x38371adf30eab654_step4\">4</a></td><td>assumption</td><td></td><td><span style=\"font-size:20px;\"><a class=\"ProveItLink\" href=\"../__pv_it/8115aeb0c61b3dc8bca0b96e5233210292f849320/expr.ipynb\"><img src=\"data:image/png;base64,iVBORw0KGgoAAAANSUhEUgAAAEsAAAAVBAMAAAD85A5eAAAAMFBMVEX///+IiIi6urrc3NxERETM\n",
       "zMwQEBCqqqpUVFQiIiJ2dnYyMjLu7u5mZmaYmJgAAABN0h6tAAAAAXRSTlMAQObYZgAAAUlJREFU\n",
       "KM9jYGDgu8eAD7BePACieHYx4AdMqSCS7wOIfPG/94aLAoq0ZIr/thkgodsgHtcEsGAKAwPvV1Rj\n",
       "NgTy+IActBKhjPUf0PS/qMoc9BhEWVCVMX4GWv8RLMvnOXM2TFk5mjKWBAaGY3PA5joeQJi26Aiq\n",
       "Mv4GBtYZYPnTBxCWMk1tBdLLQByODSAyvu+hZwFYshnhNrX530A+fQ/ilAWASHkDBp4MiCSyF9a9\n",
       "AtLcFxgYQiaDhdxASkHGsWbvBgKYMhamB0BGpwADgxrYtB8gZUAeAzOKaSwMDUDTGkBuc4AGG0M/\n",
       "OBYSkJVxMGyAug3sU1CwsX4BS15EMY1vAdSnYGXcQDPUfMCSnAXwyIpiWHUDOdw49v+42+IOkeRp\n",
       "0UGLeqTgRU44S6CRBQMQZQkE0htEGSS94QPg9MZAMPUmgSl2IvICAAMnW7m9w5PtAAAAAElFTkSu\n",
       "QmCC\n",
       "\" style=\"display:inline;vertical-align:middle;\" /></a> <a class=\"ProveItLink\" href=\"../__pv_it/10156da73b693655aaf13b90e42e1c021f7082660/proof.ipynb\" style=\"text-decoration: none\">&#x22A2;&nbsp;</a><a class=\"ProveItLink\" href=\"../__pv_it/af21e96bc662cb74cc7cb3eb21c032f16e434dba0/expr.ipynb\"><img src=\"data:image/png;base64,iVBORw0KGgoAAAANSUhEUgAAADcAAAAPBAMAAACy3Eq1AAAAMFBMVEX///92dnYyMjKqqqoiIiLu\n",
       "7u7c3NyIiIjMzMwQEBC6urpERERmZmZUVFSYmJgAAADEjrHzAAAAAXRSTlMAQObYZgAAAOZJREFU\n",
       "GNNjYGB4+//O2d0LGJBByez9mr4QodkMDDw/UCQZFNpZt54DMTj+MTBw/UGV3LCOoYIbxGD/xsDA\n",
       "9x0sxrfFxQkmaQyW5J7AwBDpCjZjewBCp1Q0iMF/gYHDFywaFIAwlsvjBojRf+/5FgOw0DWEnSv9\n",
       "f4JdW5/AwDoXIoTsILmHIMZOkAKQVo5JSkAAk+TmegBk/AVJFgAJNhSd3AwXIN5kuA+2YAKyJC+D\n",
       "AsSbHL/BQsdRdPIJMDAwAdWv3AoWYjGAB18jg+BZBgZe/b9nbm+GCLHeXooR8AjAJQ0NPggAAH2B\n",
       "SAzP/7V+AAAAAElFTkSuQmCC\n",
       "\" style=\"display:inline;vertical-align:middle;\" /></a></span></td></tr>\n",
       "<tr><td><a name=\"0x38371adf30eab654_step5\">5</a></td><td>assumption</td><td></td><td><span style=\"font-size:20px;\"><a class=\"ProveItLink\" href=\"../__pv_it/9f6642aaa90ef6fa531b4d9fee57d99e1fd5bdb20/expr.ipynb\"><img src=\"data:image/png;base64,iVBORw0KGgoAAAANSUhEUgAAAI8AAAAVBAMAAACNsKCFAAAAMFBMVEX///+IiIi6urrc3NxERETM\n",
       "zMwQEBCqqqpUVFQiIiJ2dnYyMjLu7u5mZmaYmJgAAABN0h6tAAAAAXRSTlMAQObYZgAAAhZJREFU\n",
       "OMulVD0sQ1EUPn1ttdp6OlhFJ4lJRxYaxEgHixjaCIPNJDGRYPAXEoMwmSQGSUOQINGIMFhq8xN0\n",
       "F+pnUINwzv1797VXSNzk3XPPO9/57rnnnnsAwL6D/w3/RZZEZJ/mllJrIG7y8eZNMGuQlvYzsSWU\n",
       "yV4o3k62AUyYiE5cWh8I2A1NoUWcwtr+FUh6n4RzE9G2SzvCj8E2FNGjZk5h+I05CEXLeeycSzvC\n",
       "3DCYQ7Sk2eswukIUImnnV7uQla7End2jymCKyLuo2TvROoR7bTm/eoRsdsWXr4sBhykijx5yEaB3\n",
       "DuVm+ZFqdR4rO5YXsHXSgxkAn3ar/uJTzTItHmiqWmHjk9u6dKJjSEUFrED6SBLPPgxwRQ6rGN0b\n",
       "wOk4Gkb1ctljYlkyr6ESg9acgIVx0UN5rogJhyaMDrPneafb07c/76e5X9YlbuSfv11ISNg0xlaf\n",
       "dBNVI8jzUkLknYmXElnolhGwMJ0gmOBHk0RURsFXXDewHB3wEZdHU0ToUpkWsIK8NZXsJl5GqYRM\n",
       "trigjDvZSORFovCzgK1LopC8fj/ALvoN0HO+1jKU5VJVRJKVlO9NwFQdWU5Bzn7NX3awk+44RFNC\n",
       "Njiv9+sQAt0fOQ4zPxExIlq1x41PxIFxonTJoxXj90frwDZUP/KVb2VsI+1mGOtHsO9ubD/7lDU2\n",
       "CbN4fQXuTK3W/lurJRjr2d+xF5Qh4mjdLwAAAABJRU5ErkJggg==\n",
       "\" style=\"display:inline;vertical-align:middle;\" /></a> <a class=\"ProveItLink\" href=\"../__pv_it/dc2f73af88852104738ed961d4df825f1a09f2b10/proof.ipynb\" style=\"text-decoration: none\">&#x22A2;&nbsp;</a><a class=\"ProveItLink\" href=\"../__pv_it/d20a89037ae31b689e2de9efbbfb3e8f70b6e0230/expr.ipynb\"><img src=\"data:image/png;base64,iVBORw0KGgoAAAANSUhEUgAAAHkAAAAUBAMAAABbvo/+AAAAMFBMVEX////MzMxUVFR2dna6uroQ\n",
       "EBCqqqqIiIgiIiJmZmYyMjJERETu7u6YmJjc3NwAAACgK8IjAAAAAXRSTlMAQObYZgAAAb5JREFU\n",
       "OMuNlD1LA0EQht/TM7kkl1P8A6YVEe3ERtIIIhYiVtqkVUFsrSKKoiB6WKmVjY2IsVEEv9IIQhqx\n",
       "ES0kpBAbIQZBYvya3U1u93ILOhB2d+55J7Mzuws4N6izaejsRYvl5Pr2p33jNImGvEZsH6orYwcC\n",
       "O1Cc40DkFfaORh31hYwWwbG4q0T8Aswy0KNR3/tWD5/gmKXEDH9TtHfgSrpitc9rvm1MEMmwZ8UZ\n",
       "GybXKuWVlOlUt+vMqep4+A0cm1WczQkY81mg0Q1kHHZV9VCI9siwc8XZ1nl3kmKhedk2l5mtC1lM\n",
       "7audNN4FtkRl5lg3kM7DHiF3SE1zksWDlaqGW6CFCacssNEq5CSAIxrThBlF9Y92WRWaaqUo0K91\n",
       "a6MCjqnqElPP1KkLfahX03xMqJekmrUbXfTJ5Jlv73ETp8lKSXWIhkVw7FyqWbuNilc1YYPwV43U\n",
       "TzRkBNZbw1oQpXb3n9E00i13vS9Gr4mGaP1lnmMDHtiQKW11HPNT3CKd1anptcG+/Mhi6meFY5bm\n",
       "Ql3LqQPdSfWwuBt0/31LPOwieJV1NzSW12K5f4CB18HDgi/T4/9eJsJ+AUwDfNKudYnMAAAAAElF\n",
       "TkSuQmCC\n",
       "\" style=\"display:inline;vertical-align:middle;\" /></a></span></td></tr>\n",
       "<tr><td><a name=\"0x38371adf30eab654_step6\">6</a></td><td>instantiation</td><td><a href=\"#0x38371adf30eab654_step7\">7</a>, <a href=\"#0x38371adf30eab654_step8\">8</a></td><td><span style=\"font-size:20px;\"><a class=\"ProveItLink\" href=\"../__pv_it/1ea553d38af7f0e38bb62d4c24279012575f1f120/expr.ipynb\"><img src=\"data:image/png;base64,iVBORw0KGgoAAAANSUhEUgAAACIAAAAVBAMAAADRFiHkAAAAMFBMVEX///+IiIi6urrc3NxERETM\n",
       "zMwQEBCqqqpUVFQiIiJ2dnYyMjLu7u5mZmaYmJgAAABN0h6tAAAAAXRSTlMAQObYZgAAAK5JREFU\n",
       "GNNjYGDgu8cAA7EyIJJnFwMCqAUACb4PEA7rBiDBCyK4JkBEuD/AODCR13/QRHhqP6OJ8DF+QhPR\n",
       "Yf8H4iQACY4NYE0KrB9hFpeBnMDAxMD8F0TvZWAImQzWFHH3xhcQzTER6kwGBQaGbBC9AyTqACTY\n",
       "gXgazBywXeZAvB9mF0iEGSTqb4BwD4//7wMMJf/novkLDCAiCegisPABA3D4MKCEoQKIZEcNZwC8\n",
       "2C7b2utx6wAAAABJRU5ErkJggg==\n",
       "\" style=\"display:inline;vertical-align:middle;\" /></a> <a class=\"ProveItLink\" href=\"../__pv_it/bb0e63affa6443bca23d358a7d66bc5daa191a150/proof.ipynb\" style=\"text-decoration: none\">&#x22A2;&nbsp;</a><a class=\"ProveItLink\" href=\"../__pv_it/12f099f08ba58677da9cfcd6cc882029fdbfab2e0/expr.ipynb\"><img src=\"data:image/png;base64,iVBORw0KGgoAAAANSUhEUgAAADkAAAAUBAMAAADFBIheAAAAMFBMVEX///+6uroQEBCqqqqIiIgy\n",
       "MjJERETu7u6YmJjMzMxUVFTc3Nx2dnYiIiJmZmYAAAAutVgsAAAAAXRSTlMAQObYZgAAAN5JREFU\n",
       "KM9jYICBHQxowBqJzZ6ALMMZwMDAtQHBZ92ALMv6Aag+AMHvQzG19TuQOILg30aWZLf7DSSL4Hzu\n",
       "C8iyHCwfQcYLwPgsD5BlxZl/AEkeuBhbA7LBApxfQCYEMLy9CwR3GHgNGGBMBgZGBu5/QIoZatsu\n",
       "BiaYHbuAeNa7V99Anv6AVRbIVkWRBZkMk2UGUpdAFsBNhrsKKLsZSMVDXAUJVoTrOSFezwcGLN8B\n",
       "mCcY4aHBnv+1gMHs/z1gaEzAHpIQUIsrFsAAKRbYNqBLIscgauxjqMdIOd0MDAA/bDumsppcJAAA\n",
       "AABJRU5ErkJggg==\n",
       "\" style=\"display:inline;vertical-align:middle;\" /></a></span></td></tr>\n",
       "<tr><td>&nbsp;</td><td colspan=4 style=\"text-align:left\"><span style=\"font-size:20px;\"><a class=\"ProveItLink\" href=\"../../../../__pv_it/d3792d0d8642fdf1cd2a3a9b32c673ee13653de00/expr.ipynb\"><img src=\"data:image/png;base64,iVBORw0KGgoAAAANSUhEUgAAAA8AAAAOBAMAAAACpFvcAAAALVBMVEX///8iIiIQEBBERERUVFS6\n",
       "urqIiIjc3NxmZmaqqqru7u6YmJgyMjLMzMwAAACK9jtgAAAAAXRSTlMAQObYZgAAAFtJREFUCNdj\n",
       "YACBOwxQcA5Kc59bAGGs7CuAMDbkBYBp1gXzNoAZSxnuJYAZAQx1DSCa16PDzwCshIGB6QCIMYGB\n",
       "gVEBSLMDGTwPgIxCIGZ+zsCw+N0pBk67hw0AfpEVEQi8t+wAAAAASUVORK5CYII=\n",
       "\" style=\"display:inline;vertical-align:middle;\" /></a> : <a class=\"ProveItLink\" href=\"../../../../__pv_it/d3792d0d8642fdf1cd2a3a9b32c673ee13653de00/expr.ipynb\"><img src=\"data:image/png;base64,iVBORw0KGgoAAAANSUhEUgAAAA8AAAAOBAMAAAACpFvcAAAALVBMVEX///8iIiIQEBBERERUVFS6\n",
       "urqIiIjc3NxmZmaqqqru7u6YmJgyMjLMzMwAAACK9jtgAAAAAXRSTlMAQObYZgAAAFtJREFUCNdj\n",
       "YACBOwxQcA5Kc59bAGGs7CuAMDbkBYBp1gXzNoAZSxnuJYAZAQx1DSCa16PDzwCshIGB6QCIMYGB\n",
       "gVEBSLMDGTwPgIxCIGZ+zsCw+N0pBk67hw0AfpEVEQi8t+wAAAAASUVORK5CYII=\n",
       "\" style=\"display:inline;vertical-align:middle;\" /></a></span></td></tr><tr><td><a name=\"0x38371adf30eab654_step7\">7</a></td><td>axiom</td><td></td><td><span style=\"font-size:20px;\"> <a class=\"ProveItLink\" href=\"../../negation/_axioms_.ipynb#doubleNegationIntro\" style=\"text-decoration: none\">&#x22A2;&nbsp;</a><a class=\"ProveItLink\" href=\"../../negation/__pv_it/d4b5a7ad1d6d7b7899396f426b449cfd0e03f8720/expr.ipynb\"><img src=\"data:image/png;base64,iVBORw0KGgoAAAANSUhEUgAAAIoAAAAWBAMAAADtDRlvAAAAMFBMVEX///8QEBCIiIhmZma6urrM\n",
       "zMxUVFQiIiJERETc3Nzu7u6qqqp2dnaYmJgyMjIAAAAcRTyBAAAAAXRSTlMAQObYZgAAAc1JREFU\n",
       "OMudVEFLAkEUfrmau+pah36A0A9Q6BCEoNDBUyAdOqZQHToldOhQgUf3IHrTm0JBYiBCh44FXsI6\n",
       "7D0qoTrkRQ+FFki92bfbztayih984zfOvI+Z994OwFhIqp0k+IvEDps8OLnUbCViE7lLvGXzrpPL\n",
       "m61E9JANYpkdNOtgIkfsJJv1qgCBkMYgk00HF2/RTiLOYzj1zWuU2/V6yelCJVuJUMNxHF+Iw1zu\n",
       "yMll0VYCuKtXrGIt4g6Aov1No9vYJerHz5uBed7lFFKYE3gkroJPq7b8TsHGrqc4/R4CCAcM17wE\n",
       "iEOFJfuS6AWX1ksnI4uLL6Z32ILRcWlegmdraY+VNkUMqF5tqb1vcQmcRRxd8OYzHdNF6mywFU8o\n",
       "Z3FZF7O/NzJCOQnYHF6sMiR0KttsZRaWLS5pIWNNKYZyUkKXYN/MLlxo2+8hzLvITVefVMtId5KX\n",
       "rHXETxyiOudYwXzPd4Uq59KI3nyRSpjFNWXtuwv+wgBT9wpEmUULVagkOZcVkD7GfAFUygyRsIZn\n",
       "Uk0XN+rRmK+RSklfo96oQ5AKx6ZLIQvlgd4wihmj/HPRX4a/ECd/pQxfZRIXpxdTLhLHu0wDYZqg\n",
       "H8j2eoNyIuULAAAAAElFTkSuQmCC\n",
       "\" style=\"display:inline;vertical-align:middle;\" /></a></span></td></tr>\n",
       "<tr><td>&nbsp;</td><td colspan=4 style-\"text-align:left\"><a class=\"ProveItLink\" href=\"../../negation/_axioms_.ipynb#doubleNegationIntro\">proveit.logic.boolean.negation.doubleNegationIntro</a></td></tr><tr><td><a name=\"0x38371adf30eab654_step8\">8</a></td><td>assumption</td><td></td><td><span style=\"font-size:20px;\"><a class=\"ProveItLink\" href=\"../__pv_it/1ea553d38af7f0e38bb62d4c24279012575f1f120/expr.ipynb\"><img src=\"data:image/png;base64,iVBORw0KGgoAAAANSUhEUgAAACIAAAAVBAMAAADRFiHkAAAAMFBMVEX///+IiIi6urrc3NxERETM\n",
       "zMwQEBCqqqpUVFQiIiJ2dnYyMjLu7u5mZmaYmJgAAABN0h6tAAAAAXRSTlMAQObYZgAAAK5JREFU\n",
       "GNNjYGDgu8cAA7EyIJJnFwMCqAUACb4PEA7rBiDBCyK4JkBEuD/AODCR13/QRHhqP6OJ8DF+QhPR\n",
       "Yf8H4iQACY4NYE0KrB9hFpeBnMDAxMD8F0TvZWAImQzWFHH3xhcQzTER6kwGBQaGbBC9AyTqACTY\n",
       "gXgazBywXeZAvB9mF0iEGSTqb4BwD4//7wMMJf/novkLDCAiCegisPABA3D4MKCEoQKIZEcNZwC8\n",
       "2C7b2utx6wAAAABJRU5ErkJggg==\n",
       "\" style=\"display:inline;vertical-align:middle;\" /></a> <a class=\"ProveItLink\" href=\"../__pv_it/f7aa928e5488bb87da79ed7f822c857e11b4dd2c0/proof.ipynb\" style=\"text-decoration: none\">&#x22A2;&nbsp;</a><a class=\"ProveItLink\" href=\"../../../../__pv_it/d3792d0d8642fdf1cd2a3a9b32c673ee13653de00/expr.ipynb\"><img src=\"data:image/png;base64,iVBORw0KGgoAAAANSUhEUgAAAA8AAAAOBAMAAAACpFvcAAAALVBMVEX///8iIiIQEBBERERUVFS6\n",
       "urqIiIjc3NxmZmaqqqru7u6YmJgyMjLMzMwAAACK9jtgAAAAAXRSTlMAQObYZgAAAFtJREFUCNdj\n",
       "YACBOwxQcA5Kc59bAGGs7CuAMDbkBYBp1gXzNoAZSxnuJYAZAQx1DSCa16PDzwCshIGB6QCIMYGB\n",
       "gVEBSLMDGTwPgIxCIGZ+zsCw+N0pBk67hw0AfpEVEQi8t+wAAAAASUVORK5CYII=\n",
       "\" style=\"display:inline;vertical-align:middle;\" /></a></span></td></tr>\n",
       "</table>"
      ],
      "text/plain": [
       "\tstep type\trequirements\tstatement\n",
       "0\tgeneralizaton\t1\t|- forall_{A, B | [not](B) => [not](A), B in BOOLEANS} (A => B)\n",
       "1\thypothetical reasoning\t2\t{B in BOOLEANS, [not](B) => [not](A)} |- A => B\n",
       "2\tinstantiation\t3, 4, 5, 6\t{B in BOOLEANS, [not](B) => [not](A), A} |- B\n",
       "\tA : B, B : [not](A)\n",
       "3\ttheorem\t\t|- forall_{A in BOOLEANS} [forall_{B | [not](A) => B, [not](B)} A]\n",
       "\tproveit.logic.boolean.implication.modusTollensAffirmation\n",
       "4\tassumption\t\t{B in BOOLEANS} |- B in BOOLEANS\n",
       "5\tassumption\t\t{[not](B) => [not](A)} |- [not](B) => [not](A)\n",
       "6\tinstantiation\t7, 8\t{A} |- [not]([not](A))\n",
       "\tA : A\n",
       "7\taxiom\t\t|- forall_{A | A} [not]([not](A))\n",
       "\tproveit.logic.boolean.negation.doubleNegationIntro\n",
       "8\tassumption\t\t{A} |- A"
      ]
     },
     "execution_count": 6,
     "metadata": {},
     "output_type": "execute_result"
    }
   ],
   "source": [
    "%qed # automation can take it from here"
   ]
  },
  {
   "cell_type": "code",
   "execution_count": null,
   "metadata": {},
   "outputs": [],
   "source": []
  }
 ],
 "metadata": {
  "kernelspec": {
   "display_name": "Python 3",
   "language": "python",
   "name": "python3"
  }
 },
 "nbformat": 4,
 "nbformat_minor": 0
}
