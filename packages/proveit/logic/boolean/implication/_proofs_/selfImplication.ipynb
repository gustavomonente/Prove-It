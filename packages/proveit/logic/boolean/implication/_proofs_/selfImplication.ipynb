{
 "cells": [
  {
   "cell_type": "markdown",
   "metadata": {},
   "source": [
    "Proof of <a class=\"ProveItLink\" href=\"../../../../_context_.ipynb\">proveit</a>.<a class=\"ProveItLink\" href=\"../../../_context_.ipynb\">logic</a>.<a class=\"ProveItLink\" href=\"../../_context_.ipynb\">boolean</a>.<a class=\"ProveItLink\" href=\"../_context_.ipynb\">implication</a>.<a href=\"../_theorems_.ipynb#selfImplication\" class=\"ProveItLink\">selfImplication</a> theorem\n",
    "========"
   ]
  },
  {
   "cell_type": "code",
   "execution_count": 1,
   "metadata": {},
   "outputs": [],
   "source": [
    "import proveit\n",
    "context = proveit.Context('..') # the theorem's context is in the parent directory\n",
    "from proveit._common_ import A"
   ]
  },
  {
   "cell_type": "code",
   "execution_count": 2,
   "metadata": {},
   "outputs": [
    {
     "name": "stdout",
     "output_type": "stream",
     "text": [
      "Beginning proof of selfImplication\n",
      "Recorded 'presuming' information\n"
     ]
    },
    {
     "data": {
      "text/html": [
       "<strong id=\"selfImplication\">selfImplication:</strong> <a class=\"ProveItLink\" href=\"../__pv_it/cbad95bc603b571c3a75865d0ca73648c95fac040/expr.ipynb\"><img src=\"data:image/png;base64,iVBORw0KGgoAAAANSUhEUgAAAHIAAAAUBAMAAACjXnQJAAAAMFBMVEX///8QEBCIiIhmZma6urrM\n",
       "zMxUVFQiIiJERETc3Nzu7u6qqqp2dnaYmJgyMjIAAAAcRTyBAAAAAXRSTlMAQObYZgAAAZ5JREFU\n",
       "OMtjYMACOC8wEADcExgYHoAYd1HFV0CoOBzaQOKZDAynQexXqFIvIdR7HDpB4usYGGaAXNeAIsNr\n",
       "AKHeL8CqESzOo8DAB6I2oEixTwBTq+0nwIU4EEyIOJcAA++pVaumoxoK5V7Qd4ALsSK5CiL+hIHh\n",
       "R0dHDapOZTDJsmA/UhBfhrOg4ocZGFIZGDrBQp0wuV4wuYQhXgFEm5eDQL0BTBYqfo+BwZmBCxwz\n",
       "vF9gctVg0oFhvgGSQ/bBwgIqvh0YHgxMYFct/gtTJAL2WbJxPnKQcz2E+BomHg8M2AvsYKFTxSg6\n",
       "WRgYGB8g6Zx2EupNqDhQJ+eDMLBZCh0orgU6jl0AxLB7BwbQ1AEXdweFTApIhI3BHDmEOIEq+D4g\n",
       "rPSDJWmYODCEGDYXgIRuM+jDVB2GxinHT4QvXyHFNVjcBoj5QYHM9fhMPyyxAR2y4v8rBu7+7/DA\n",
       "ZQuA5gW4+FNQdIB0MC9gmB+AmvpQ8h26AFcBjOULtPsCaorHC3gUYCn6BwNnfy1MuJOwznXYhVcQ\n",
       "1onDcMKlCe8EBgDLUXFfmLCapgAAAABJRU5ErkJggg==\n",
       "\" style=\"display:inline;vertical-align:middle;\" /></a><br>(see <a class=\"ProveItLink\" href=\"../__pv_it/cbad95bc603b571c3a75865d0ca73648c95fac040/dependencies.ipynb\">dependencies</a>)<br>"
      ],
      "text/plain": [
       "selfImplication: forall_{A} (A => A)"
      ]
     },
     "execution_count": 2,
     "metadata": {},
     "output_type": "execute_result"
    }
   ],
   "source": [
    "%proving selfImplication presuming []"
   ]
  },
  {
   "cell_type": "code",
   "execution_count": 3,
   "metadata": {},
   "outputs": [
    {
     "data": {
      "text/html": [
       "<strong id=\"A_assumingA\">A_assumingA:</strong> <span style=\"font-size:20px;\"><a class=\"ProveItLink\" href=\"../__pv_it/1ea553d38af7f0e38bb62d4c24279012575f1f120/expr.ipynb\"><img src=\"data:image/png;base64,iVBORw0KGgoAAAANSUhEUgAAACIAAAAVBAMAAADRFiHkAAAAMFBMVEX///+IiIi6urrc3NxERETM\n",
       "zMwQEBCqqqpUVFQiIiJ2dnYyMjLu7u5mZmaYmJgAAABN0h6tAAAAAXRSTlMAQObYZgAAAK5JREFU\n",
       "GNNjYGDgu8cAA7EyIJJnFwMCqAUACb4PEA7rBiDBCyK4JkBEuD/AODCR13/QRHhqP6OJ8DF+QhPR\n",
       "Yf8H4iQACY4NYE0KrB9hFpeBnMDAxMD8F0TvZWAImQzWFHH3xhcQzTER6kwGBQaGbBC9AyTqACTY\n",
       "gXgazBywXeZAvB9mF0iEGSTqb4BwD4//7wMMJf/novkLDCAiCegisPABA3D4MKCEoQKIZEcNZwC8\n",
       "2C7b2utx6wAAAABJRU5ErkJggg==\n",
       "\" style=\"display:inline;vertical-align:middle;\" /></a> <a class=\"ProveItLink\" href=\"../__pv_it/f7aa928e5488bb87da79ed7f822c857e11b4dd2c0/proof.ipynb\" style=\"text-decoration: none\">&#x22A2;&nbsp;</a><a class=\"ProveItLink\" href=\"../../../../__pv_it/d3792d0d8642fdf1cd2a3a9b32c673ee13653de00/expr.ipynb\"><img src=\"data:image/png;base64,iVBORw0KGgoAAAANSUhEUgAAAA8AAAAOBAMAAAACpFvcAAAALVBMVEX///8iIiIQEBBERERUVFS6\n",
       "urqIiIjc3NxmZmaqqqru7u6YmJgyMjLMzMwAAACK9jtgAAAAAXRSTlMAQObYZgAAAFtJREFUCNdj\n",
       "YACBOwxQcA5Kc59bAGGs7CuAMDbkBYBp1gXzNoAZSxnuJYAZAQx1DSCa16PDzwCshIGB6QCIMYGB\n",
       "gVEBSLMDGTwPgIxCIGZ+zsCw+N0pBk67hw0AfpEVEQi8t+wAAAAASUVORK5CYII=\n",
       "\" style=\"display:inline;vertical-align:middle;\" /></a></span><br>"
      ],
      "text/plain": [
       "A_assumingA: {A} |- A"
      ]
     },
     "execution_count": 3,
     "metadata": {},
     "output_type": "execute_result"
    }
   ],
   "source": [
    "A_assumingA = A.prove(assumptions=[A])"
   ]
  },
  {
   "cell_type": "code",
   "execution_count": 4,
   "metadata": {},
   "outputs": [
    {
     "data": {
      "text/html": [
       "<span style=\"font-size:20px;\"> <a class=\"ProveItLink\" href=\"../__pv_it/5b733b6ae2086198373b9fa2c76edc73cdd6eeb60/proof.ipynb\" style=\"text-decoration: none\">&#x22A2;&nbsp;</a><a class=\"ProveItLink\" href=\"../__pv_it/f692da3f87b03fc3bbbcf3fadd17856d2ab130c50/expr.ipynb\"><img src=\"data:image/png;base64,iVBORw0KGgoAAAANSUhEUgAAAD8AAAAPBAMAAAChCwpBAAAAMFBMVEX///92dnYiIiIQEBBERERU\n",
       "VFS6urqIiIjc3NxmZmaqqqru7u6YmJgyMjLMzMwAAADiRdoGAAAAAXRSTlMAQObYZgAAAK5JREFU\n",
       "GNNjYACBtwzYAVz8Pg4FMHGe+xuwysPFd81vgAuyIJgI8QP1CXBBPgeEApg424b1BxCiJ+EsuPg2\n",
       "hvcFIHqSEgjoT4ApgIkzJDD0T0By2toFUAZMnC9yZjySxQzclyE2w8XZGBiYLyApaJWAOgEmDjSR\n",
       "yQDEmHsXDG5AFcLEOYAM3g8IA3KhNFy8CRQ6PxAuuA1lwMS3/L/NwOX/Ce4N1gcQGl0cDjjQ+ACg\n",
       "9T5+mnQ9iAAAAABJRU5ErkJggg==\n",
       "\" style=\"display:inline;vertical-align:middle;\" /></a></span>"
      ],
      "text/plain": [
       "|- A => A"
      ]
     },
     "execution_count": 4,
     "metadata": {},
     "output_type": "execute_result"
    }
   ],
   "source": [
    "A_assumingA.asImplication(A)"
   ]
  },
  {
   "cell_type": "code",
   "execution_count": 5,
   "metadata": {},
   "outputs": [
    {
     "data": {
      "text/html": [
       "<table><tr><th>&nbsp;</th><th>step type</th><th>requirements</th><th>statement</th></tr>\n",
       "<tr><td><a name=\"0x7ca0dc9eb9414960_step0\">0</a></td><td>generalizaton</td><td><a href=\"#0x7ca0dc9eb9414960_step1\">1</a></td><td><span style=\"font-size:20px;\"> <a class=\"ProveItLink\" href=\"../__pv_it/d01b81ab7724e11a9adff368ac08bfb02bb2e4680/proof.ipynb\" style=\"text-decoration: none\">&#x22A2;&nbsp;</a><a class=\"ProveItLink\" href=\"../__pv_it/cbad95bc603b571c3a75865d0ca73648c95fac040/expr.ipynb\"><img src=\"data:image/png;base64,iVBORw0KGgoAAAANSUhEUgAAAHIAAAAUBAMAAACjXnQJAAAAMFBMVEX///8QEBCIiIhmZma6urrM\n",
       "zMxUVFQiIiJERETc3Nzu7u6qqqp2dnaYmJgyMjIAAAAcRTyBAAAAAXRSTlMAQObYZgAAAZ5JREFU\n",
       "OMtjYMACOC8wEADcExgYHoAYd1HFV0CoOBzaQOKZDAynQexXqFIvIdR7HDpB4usYGGaAXNeAIsNr\n",
       "AKHeL8CqESzOo8DAB6I2oEixTwBTq+0nwIU4EEyIOJcAA++pVaumoxoK5V7Qd4ALsSK5CiL+hIHh\n",
       "R0dHDapOZTDJsmA/UhBfhrOg4ocZGFIZGDrBQp0wuV4wuYQhXgFEm5eDQL0BTBYqfo+BwZmBCxwz\n",
       "vF9gctVg0oFhvgGSQ/bBwgIqvh0YHgxMYFct/gtTJAL2WbJxPnKQcz2E+BomHg8M2AvsYKFTxSg6\n",
       "WRgYGB8g6Zx2EupNqDhQJ+eDMLBZCh0orgU6jl0AxLB7BwbQ1AEXdweFTApIhI3BHDmEOIEq+D4g\n",
       "rPSDJWmYODCEGDYXgIRuM+jDVB2GxinHT4QvXyHFNVjcBoj5QYHM9fhMPyyxAR2y4v8rBu7+7/DA\n",
       "ZQuA5gW4+FNQdIB0MC9gmB+AmvpQ8h26AFcBjOULtPsCaorHC3gUYCn6BwNnfy1MuJOwznXYhVcQ\n",
       "1onDcMKlCe8EBgDLUXFfmLCapgAAAABJRU5ErkJggg==\n",
       "\" style=\"display:inline;vertical-align:middle;\" /></a></span></td></tr>\n",
       "<tr><td><a name=\"0x7ca0dc9eb9414960_step1\">1</a></td><td>hypothetical reasoning</td><td><a href=\"#0x7ca0dc9eb9414960_step2\">2</a></td><td><span style=\"font-size:20px;\"> <a class=\"ProveItLink\" href=\"../__pv_it/5b733b6ae2086198373b9fa2c76edc73cdd6eeb60/proof.ipynb\" style=\"text-decoration: none\">&#x22A2;&nbsp;</a><a class=\"ProveItLink\" href=\"../__pv_it/f692da3f87b03fc3bbbcf3fadd17856d2ab130c50/expr.ipynb\"><img src=\"data:image/png;base64,iVBORw0KGgoAAAANSUhEUgAAAD8AAAAPBAMAAAChCwpBAAAAMFBMVEX///92dnYiIiIQEBBERERU\n",
       "VFS6urqIiIjc3NxmZmaqqqru7u6YmJgyMjLMzMwAAADiRdoGAAAAAXRSTlMAQObYZgAAAK5JREFU\n",
       "GNNjYACBtwzYAVz8Pg4FMHGe+xuwysPFd81vgAuyIJgI8QP1CXBBPgeEApg424b1BxCiJ+EsuPg2\n",
       "hvcFIHqSEgjoT4ApgIkzJDD0T0By2toFUAZMnC9yZjySxQzclyE2w8XZGBiYLyApaJWAOgEmDjSR\n",
       "yQDEmHsXDG5AFcLEOYAM3g8IA3KhNFy8CRQ6PxAuuA1lwMS3/L/NwOX/Ce4N1gcQGl0cDjjQ+ACg\n",
       "9T5+mnQ9iAAAAABJRU5ErkJggg==\n",
       "\" style=\"display:inline;vertical-align:middle;\" /></a></span></td></tr>\n",
       "<tr><td><a name=\"0x7ca0dc9eb9414960_step2\">2</a></td><td>assumption</td><td></td><td><span style=\"font-size:20px;\"><a class=\"ProveItLink\" href=\"../__pv_it/1ea553d38af7f0e38bb62d4c24279012575f1f120/expr.ipynb\"><img src=\"data:image/png;base64,iVBORw0KGgoAAAANSUhEUgAAACIAAAAVBAMAAADRFiHkAAAAMFBMVEX///+IiIi6urrc3NxERETM\n",
       "zMwQEBCqqqpUVFQiIiJ2dnYyMjLu7u5mZmaYmJgAAABN0h6tAAAAAXRSTlMAQObYZgAAAK5JREFU\n",
       "GNNjYGDgu8cAA7EyIJJnFwMCqAUACb4PEA7rBiDBCyK4JkBEuD/AODCR13/QRHhqP6OJ8DF+QhPR\n",
       "Yf8H4iQACY4NYE0KrB9hFpeBnMDAxMD8F0TvZWAImQzWFHH3xhcQzTER6kwGBQaGbBC9AyTqACTY\n",
       "gXgazBywXeZAvB9mF0iEGSTqb4BwD4//7wMMJf/novkLDCAiCegisPABA3D4MKCEoQKIZEcNZwC8\n",
       "2C7b2utx6wAAAABJRU5ErkJggg==\n",
       "\" style=\"display:inline;vertical-align:middle;\" /></a> <a class=\"ProveItLink\" href=\"../__pv_it/f7aa928e5488bb87da79ed7f822c857e11b4dd2c0/proof.ipynb\" style=\"text-decoration: none\">&#x22A2;&nbsp;</a><a class=\"ProveItLink\" href=\"../../../../__pv_it/d3792d0d8642fdf1cd2a3a9b32c673ee13653de00/expr.ipynb\"><img src=\"data:image/png;base64,iVBORw0KGgoAAAANSUhEUgAAAA8AAAAOBAMAAAACpFvcAAAALVBMVEX///8iIiIQEBBERERUVFS6\n",
       "urqIiIjc3NxmZmaqqqru7u6YmJgyMjLMzMwAAACK9jtgAAAAAXRSTlMAQObYZgAAAFtJREFUCNdj\n",
       "YACBOwxQcA5Kc59bAGGs7CuAMDbkBYBp1gXzNoAZSxnuJYAZAQx1DSCa16PDzwCshIGB6QCIMYGB\n",
       "gVEBSLMDGTwPgIxCIGZ+zsCw+N0pBk67hw0AfpEVEQi8t+wAAAAASUVORK5CYII=\n",
       "\" style=\"display:inline;vertical-align:middle;\" /></a></span></td></tr>\n",
       "</table>"
      ],
      "text/plain": [
       "\tstep type\trequirements\tstatement\n",
       "0\tgeneralizaton\t1\t|- forall_{A} (A => A)\n",
       "1\thypothetical reasoning\t2\t|- A => A\n",
       "2\tassumption\t\t{A} |- A"
      ]
     },
     "execution_count": 5,
     "metadata": {},
     "output_type": "execute_result"
    }
   ],
   "source": [
    "%qed"
   ]
  },
  {
   "cell_type": "code",
   "execution_count": null,
   "metadata": {},
   "outputs": [],
   "source": []
  }
 ],
 "metadata": {
  "kernelspec": {
   "display_name": "Python 3",
   "language": "python",
   "name": "python3"
  }
 },
 "nbformat": 4,
 "nbformat_minor": 0
}
