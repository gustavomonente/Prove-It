{
 "cells": [
  {
   "cell_type": "markdown",
   "metadata": {},
   "source": [
    "Proof of <a class=\"ProveItLink\" href=\"../../../../_context_.ipynb\">proveit</a>.<a class=\"ProveItLink\" href=\"../../../_context_.ipynb\">logic</a>.<a class=\"ProveItLink\" href=\"../../_context_.ipynb\">boolean</a>.<a class=\"ProveItLink\" href=\"../_context_.ipynb\">implication</a>.<a class=\"ProveItLink\" href=\"../_theorems_.ipynb#contraposeNegConsequent\">contraposeNegConsequent</a> theorem\n",
    "========"
   ]
  },
  {
   "cell_type": "code",
   "execution_count": 1,
   "metadata": {},
   "outputs": [],
   "source": [
    "import proveit\n",
    "from proveit import defaults\n",
    "from proveit.logic import inBool\n",
    "from proveit._common_ import B\n",
    "context = proveit.Context('..') # the theorem's context is in the parent directory"
   ]
  },
  {
   "cell_type": "code",
   "execution_count": 2,
   "metadata": {},
   "outputs": [
    {
     "name": "stdout",
     "output_type": "stream",
     "text": [
      "Beginning proof of contraposeNegConsequent\n",
      "Recorded 'presuming' information\n"
     ]
    },
    {
     "name": "stdout",
     "output_type": "stream",
     "text": [
      "Presuming previous theorems (applied transitively).\n"
     ]
    },
    {
     "data": {
      "text/html": [
       "<strong id=\"contraposeNegConsequent\">contraposeNegConsequent:</strong> <a class=\"ProveItLink\" href=\"../__pv_it/d14d2086222c868f7556cc83c9ab98acd3f984060/expr.ipynb\"><img src=\"data:image/png;base64,iVBORw0KGgoAAAANSUhEUgAAAR4AAAAWBAMAAADkw+48AAAAMFBMVEX///8QEBCIiIhmZma6urrM\n",
       "zMxUVFQiIiJERETc3Nzu7u6qqqp2dnaYmJgyMjIAAAAcRTyBAAAAAXRSTlMAQObYZgAAA8BJREFU\n",
       "SMe9Vl1IVEEUPu7dv7t7r/ogFBRxwYekMIWVhLBcENIX03qol9AFM6yHFHzoR6Mterj2o/uSSSDe\n",
       "MkhWsoX+8KESlkhLYqHHMtesh3xIyVIzxOZ3d+7d1QjcDpy5d2a+M/PNnDNnBiBz0rtOnxyzNHhD\n",
       "VOO4MpEJOp4ggNq84Gu6nKZzwFSrQ3qC6htcn8kEn2y0WshCpMprUzu/mmqzSIeo9uDNC2aCzztc\n",
       "1CO/1BSn9KmmJnXWAFA0otn4N5IJPmdxUYQ2aVLjTe4Q+3GFRORgOap6comqr8Phm5mgI7fg8iKa\n",
       "ZJPB2xzcEeYZY0V+VH6muqTr7f8wi6lWuw7SRlyyAHDkpMWHSPJFpN14gU9blGojQAdppmXVfLSJ\n",
       "bKY9ZZOxjLAvhT3izR2pfNx4DsfCREEbqZaexnKBxc11EXkX6rFHP1KtAA858+oPGlu5oOSS8Th8\n",
       "0p80dXJuFCaxKrMF9dN0K49FF/6x/QK4HRDmfk67EUeJEMTr80MfpvmUqgtsJDf1rxCkFADvssjH\n",
       "Uy6krqP8h8I8bCpiOxjdC9pI72OGyMLLcKOl2X6LSWmKrC6Pux8N4GjwNeO4qqeqxFyk63UrXZYG\n",
       "Ulzko9yje/wMF418XAZjaQTbqldvGaBpyn2RTw6az/Zd4NM9BlY+KDCy4kk+cvwwCX1NJ4gHtbDL\n",
       "EPkccgeTrmrh4zJYISRsK/CfplWPif7C6cdJnLnvGxG2gDaBD8K5cIRUMu04RqaDUoKoKSygTuB8\n",
       "AlILjOq63pnHz7AAewIJW7Kpmm9brRjPOP3UC9n2AJjjGfGREZ/suWQ8w0MyyXsoIoi3ANtFPmrE\n",
       "NscOcAnYg6BgaglYFXBbTzHdH+kG9zNumELu2Gwko4dfTNFkxsCpyI3CHsqY5uDD5pke7yJ21wD6\n",
       "IgKfobLRZTbYccMeYPvBYXXAbR1ndP0Sjh8bzypomadWG3brQvJ38s2rTF6sqzPg7VpE5L8AVRXz\n",
       "kAzoI2B0GGpCAp89IP+EfB+SBoPnV2cCth8StgG6P4pkui/WyKbm+4Iut4UqlWq0TzH5CsjLIG8V\n",
       "/GVHUbACnnA4fEdL4J0J2AfoMagtvCR8RpRxay5OJ2rqFcvuUxZ8SyB3nXdsgVfzvia/wKcrCD2L\n",
       "JAF14+IcWyaHlcDBCLUFN/KL2j7dGUub162SmtDZe8P8SBPzvaWPjL7T0hgnx5VKAYof63tsTRlI\n",
       "y9DKcngdPukavTHyxtyI96oaomq++P/Gx24eph+NAf9JpLStw6bajg2f9Q81ogymLc4m5QAAAABJ\n",
       "RU5ErkJggg==\n",
       "\" style=\"display:inline;vertical-align:middle;\" /></a><br>(see <a class=\"ProveItLink\" href=\"../__pv_it/d14d2086222c868f7556cc83c9ab98acd3f984060/dependencies.ipynb\">dependencies</a>)<br>"
      ],
      "text/plain": [
       "contraposeNegConsequent: forall_{A, B | A => [not](B), A in BOOLEANS} (B => [not](A))"
      ]
     },
     "execution_count": 2,
     "metadata": {},
     "output_type": "execute_result"
    }
   ],
   "source": [
    "%proving contraposeNegConsequent presuming []"
   ]
  },
  {
   "cell_type": "code",
   "execution_count": 3,
   "metadata": {},
   "outputs": [
    {
     "data": {
      "text/html": [
       "<strong id=\"defaults.assumptions\">defaults.assumptions:</strong> <a class=\"ProveItLink\" href=\"../__pv_it/27a3a51071b821f8063fc1f0aeb1ac00084797820/expr.ipynb\"><img src=\"data:image/png;base64,iVBORw0KGgoAAAANSUhEUgAAAMUAAAAUBAMAAADPdORJAAAAMFBMVEX///9UVFTMzMx2dna6uroQ\n",
       "EBCqqqqIiIgiIiJmZmYyMjJERETu7u6YmJjc3NwAAAC+aOQFAAAAAXRSTlMAQObYZgAAAmhJREFU\n",
       "OMuVlb1P21AQwC+OSUwSuxHtglBLWOmAtypiyVIpA5VSiQG1S/4A1GZloh1AqGKACTGRqQOqiBcK\n",
       "EoVmAARkqKsOnVp5ZCt0aWlV0vee38fZzwTlpOg5d/d753d3vgfg+HCj6LYX0KcwoBM+jyc5dNTj\n",
       "5+7w6l4FUgEyx5jswt6fmXtJwFaoaiXF2ELPzwEGf0KhiVRxJmc0Oqe+DtgrTGG32noIbmNi/AMw\n",
       "rwAeIXOcyZt+tuTpgBUe/ngDJeGArxbSZa/Jpr8AjpRKMvbu0hseI1P3dOA81PjzFQU/5Os5fsca\n",
       "cV8m+VB+gjF22vIc6SlPB+aYwmy/9PUczaEYd4pgvCZ7pWX+JHPWVrmqjpV0YJ8pDmGiQdfBJSZX\n",
       "ods+ijFx/+tuncaXRRcMPFD1mOlOJwCLTFGBH6i+kHnLlkUR1AWYD6DwlJpeCSfJeKjm6W8u/4MA\n",
       "FtcYXh/1cIecMbV4J6cIsE0x8l7GhegbwRjPNonwGOA94XYEsH1MgAHc+M7dIB7jkiINFEMyDj4H\n",
       "eCn+BwEsVyScVWP12AwlELkSMWi3wyjpI1PkSjJQwzGKOfV5CIDW1SH+uQt1DLMZrTmJQbvd+Itq\n",
       "jpi1yDm+qM9DAGX+HeSvUTV4M5aFogQ58rKPP9CTuvCpGWWsupwlbrpcDO0YqJLJ130HmY+/VWMN\n",
       "8bUqNanW5frIe7ZPCazlKFMYmYrMRGqPAoE+p4KEWSLkhPxmYzpzMpwlQmZjAJ57vWaiEDoT3Vvu\n",
       "DDcOHPRw1m10VBcavUNE7Owy6PTw1m15kj77lmPYcaDPu/Z7v3ctAf4Der/V7DssJ70AAAAASUVO\n",
       "RK5CYII=\n",
       "\" style=\"display:inline;vertical-align:middle;\" /></a><br>"
      ],
      "text/plain": [
       "defaults.assumptions: (A => [not](B), A in BOOLEANS, B)"
      ]
     },
     "execution_count": 3,
     "metadata": {},
     "output_type": "execute_result"
    }
   ],
   "source": [
    "defaults.assumptions = list(contraposeNegConsequent.allConditions()) + [B]"
   ]
  },
  {
   "cell_type": "code",
   "execution_count": 4,
   "metadata": {},
   "outputs": [
    {
     "data": {
      "text/html": [
       "<strong id=\"A_implies_notB\">A_implies_notB:</strong> <a class=\"ProveItLink\" href=\"../__pv_it/0dd1857a2104c2ce35068f996b5ace971dbbe7f10/expr.ipynb\"><img src=\"data:image/png;base64,iVBORw0KGgoAAAANSUhEUgAAAF0AAAAUBAMAAAAdCCxUAAAAMFBMVEX///92dnYiIiIQEBBERERU\n",
       "VFS6urqIiIjc3NxmZmaqqqru7u6YmJgyMjLMzMwAAADiRdoGAAAAAXRSTlMAQObYZgAAAWxJREFU\n",
       "KM9jYMAJOA6gi6yAMd5iU78FwTz6P3KqSwIDawOUfx+b+htIbBMGBs5/DNwXIDye+xswlfNMQLD5\n",
       "/jAwsP1kYBCHcHfNb0DIeUBpJiQx9h9A/d8ZGDZDuAfqExByT6B0E5JdLAZAtdoMDLxgdWwb1h/A\n",
       "dEclknr+AAY+VaCbGcFy2xjeF4BoTiUw+AlR44Ok/n3McacFILPAHk5g6EfyGwPXLTClBTNAgIGh\n",
       "voGB2xQkpQDyfOTMeAfkkNlrBiLNYNEWwMDgDKTrgRbwfQA5n4GB+QJyvAY2oKv/ClJfAFUP1Mdk\n",
       "AHb/XQhogLkHph4U/AzxwLBhA7qHA6ie9wPCeLYLqP4FqgcFP98XqH9B4czyA8n10LiWhAk8YOAF\n",
       "Wp/sDXKBAMOW/7cZuPw/IQIoDkonwUVY73+dGeIFYvE+wEw3DVjSAwxswp36UdIbDIjjUQ9PeAjA\n",
       "fQGf+i0YIiwN+NRj5scTDAwAVJlZhzec5CcAAAAASUVORK5CYII=\n",
       "\" style=\"display:inline;vertical-align:middle;\" /></a><br>"
      ],
      "text/plain": [
       "A_implies_notB: A => [not](B)"
      ]
     },
     "execution_count": 4,
     "metadata": {},
     "output_type": "execute_result"
    }
   ],
   "source": [
    "A_implies_notB = defaults.assumptions[0]"
   ]
  },
  {
   "cell_type": "code",
   "execution_count": 5,
   "metadata": {},
   "outputs": [
    {
     "data": {
      "text/html": [
       "<span style=\"font-size:20px;\"><a class=\"ProveItLink\" href=\"../__pv_it/c396372c355d27b8576c00d8e3d98e310d851dfe0/expr.ipynb\"><img src=\"data:image/png;base64,iVBORw0KGgoAAAANSUhEUgAAALEAAAAVBAMAAAD7ihIOAAAAMFBMVEX///+IiIi6urrc3NxERETM\n",
       "zMwQEBCqqqpUVFQiIiJ2dnYyMjLu7u5mZmaYmJgAAABN0h6tAAAAAXRSTlMAQObYZgAAAoFJREFU\n",
       "OMtjYGDgu8dAZcB68QCI4tlFiSF26ALsBkCCKRXE5PsAtWgDqhLJFP9tMxSQHLIBi8E8DnAmX/+P\n",
       "uy1ODAzNIM5tEME1ASLD/QFN14ZAHh+kgMKQBwsaINhsQFvuBzCcBrFXIpv8+g+aLgc9BlEWBBdD\n",
       "HgTeIrHjHzAw6F9g4BJAM5mn9jNUxZOZMzdATS5HmIyQBwIWmFMnI5ksDxR8L8DAk4BmMh/jJ4iC\n",
       "EBmEmxcdQQQjTB4c5tDgZZ6AZLIb0PpMYKLYhGayDvs/iNv2IEKDaWorXB9MHiUUGC8gif1gYIjs\n",
       "AdJrgXgZSIAD7HUeBdaPYHkOeJw4qM3/Bk8bcPmbM0FgPsRIlgdI/vjxTmQ6OEKA+D2IURYAIpkY\n",
       "mP9CFCPH4LpXMA5cHgqqC0AkZwHUqllA9wPj4VgDULASlGaANodAIiHi7o0vYEbYbiCAxSALE8xR\n",
       "cHmYH7aBvMMG85MF0EnAmGP8DkojIIFOYApRA7sZqCQbrMYE2c0sDA1QDlweZtRiBjST+YFKGT9C\n",
       "TeYG6eMAxTM7EE+DpHdkkzkYoBkPIX97NxhsZoCFBsxkUHLmAKUfTVg4g9OGORDvB6vhFUB2M98C\n",
       "CBshDwHaDKgxaAFJzvEO0BhcBjMZnC79IaliOjx3RzGsusHA85sBVR45aXLBUh0rA8M2YDSngMq4\n",
       "W0jpmcf/9wGGkv9zwYpOOB1AKZFmHkCVByfNAGiKQeSU7v+9N1zAgbMVvdyAAy3PmcjFGvsBzOKC\n",
       "mQFL7ob5ZwLc5AT8JTAXPsm3WNTDSyS+D/hNPohPksUAQ+g0vHxmIFCnPMAniVTyw4AzKPyTIAF5\n",
       "j5q1FZ8BtB4EANhIs8LCER4ZAAAAAElFTkSuQmCC\n",
       "\" style=\"display:inline;vertical-align:middle;\" /></a> <a class=\"ProveItLink\" href=\"../__pv_it/81ae15a0f54f1c3c29bd5ea11124754282773ecb0/proof.ipynb\" style=\"text-decoration: none\">&#x22A2;&nbsp;</a><a class=\"ProveItLink\" href=\"../__pv_it/1d060f5465f5eefd72bc282d796612545ed4c17c0/expr.ipynb\"><img src=\"data:image/png;base64,iVBORw0KGgoAAAANSUhEUgAAAF0AAAAUBAMAAAAdCCxUAAAAMFBMVEX///92dnYyMjKqqqoiIiLu\n",
       "7u7c3NyIiIjMzMwQEBC6urpERERmZmZUVFSYmJgAAADEjrHzAAAAAXRSTlMAQObYZgAAAWlJREFU\n",
       "KM9jYMAN8tAFzMDk2/93zu5egKmcdQMyj0OBgYE3AcyczcDA8wNTPVMCCu8D0AQFsM5/DAxcfzDV\n",
       "v0HhPfoKJMRBLPZvDAx83+ES3DBj3VAcZwNUxRAJVjAByHBFOBTqbDYHZPV87L9AjgJ5k/8CA4dv\n",
       "AIY72A8gq1/KDHQ1AyNIrP/e8y0GYMEjLiDgD1HI/QDZOQs4QC7mA3m4PoGBdS6yWUZg3SwGUAMc\n",
       "gRwuBjZQiDCD3LgTpMcA2TBNkDM5YVGSC8S9Z87+BvkNGKgMf0HqC5DU54oxoKsHsidB1YOCn+E+\n",
       "WPKQEhioMcDcA1PPDKQ8Qc5ygAQ/x28k4xcxoPoXqD4ZSOlD/csEDP6VW5FcrwqhGWHhyQGJiv3A\n",
       "eOQRYODV/3vm9mYk43kbIDQXPL5Y938KYLD+7wM0uwEz2bAxYEsPEBCCJ/WjpTcwEMennjsBI0co\n",
       "4FOPml+wm4A/Pz5jYAAA7cJT/vN3mjEAAAAASUVORK5CYII=\n",
       "\" style=\"display:inline;vertical-align:middle;\" /></a></span>"
      ],
      "text/plain": [
       "{A in BOOLEANS, A => [not](B)} |- B => [not](A)"
      ]
     },
     "execution_count": 5,
     "metadata": {},
     "output_type": "execute_result"
    }
   ],
   "source": [
    "A_implies_notB.denyAntecedent().asImplication(B)"
   ]
  },
  {
   "cell_type": "code",
   "execution_count": 6,
   "metadata": {},
   "outputs": [
    {
     "data": {
      "text/html": [
       "<table><tr><th>&nbsp;</th><th>step type</th><th>requirements</th><th>statement</th></tr>\n",
       "<tr><td><a name=\"0xde326724225d4b3_step0\">0</a></td><td>generalizaton</td><td><a href=\"#0xde326724225d4b3_step1\">1</a></td><td><span style=\"font-size:20px;\"> <a class=\"ProveItLink\" href=\"../__pv_it/3342665a01f0b20f66e60e1d828b98e2bfb142fb0/proof.ipynb\" style=\"text-decoration: none\">&#x22A2;&nbsp;</a><a class=\"ProveItLink\" href=\"../__pv_it/d14d2086222c868f7556cc83c9ab98acd3f984060/expr.ipynb\"><img src=\"data:image/png;base64,iVBORw0KGgoAAAANSUhEUgAAAR4AAAAWBAMAAADkw+48AAAAMFBMVEX///8QEBCIiIhmZma6urrM\n",
       "zMxUVFQiIiJERETc3Nzu7u6qqqp2dnaYmJgyMjIAAAAcRTyBAAAAAXRSTlMAQObYZgAAA8BJREFU\n",
       "SMe9Vl1IVEEUPu7dv7t7r/ogFBRxwYekMIWVhLBcENIX03qol9AFM6yHFHzoR6Mterj2o/uSSSDe\n",
       "MkhWsoX+8KESlkhLYqHHMtesh3xIyVIzxOZ3d+7d1QjcDpy5d2a+M/PNnDNnBiBz0rtOnxyzNHhD\n",
       "VOO4MpEJOp4ggNq84Gu6nKZzwFSrQ3qC6htcn8kEn2y0WshCpMprUzu/mmqzSIeo9uDNC2aCzztc\n",
       "1CO/1BSn9KmmJnXWAFA0otn4N5IJPmdxUYQ2aVLjTe4Q+3GFRORgOap6comqr8Phm5mgI7fg8iKa\n",
       "ZJPB2xzcEeYZY0V+VH6muqTr7f8wi6lWuw7SRlyyAHDkpMWHSPJFpN14gU9blGojQAdppmXVfLSJ\n",
       "bKY9ZZOxjLAvhT3izR2pfNx4DsfCREEbqZaexnKBxc11EXkX6rFHP1KtAA858+oPGlu5oOSS8Th8\n",
       "0p80dXJuFCaxKrMF9dN0K49FF/6x/QK4HRDmfk67EUeJEMTr80MfpvmUqgtsJDf1rxCkFADvssjH\n",
       "Uy6krqP8h8I8bCpiOxjdC9pI72OGyMLLcKOl2X6LSWmKrC6Pux8N4GjwNeO4qqeqxFyk63UrXZYG\n",
       "Ulzko9yje/wMF418XAZjaQTbqldvGaBpyn2RTw6az/Zd4NM9BlY+KDCy4kk+cvwwCX1NJ4gHtbDL\n",
       "EPkccgeTrmrh4zJYISRsK/CfplWPif7C6cdJnLnvGxG2gDaBD8K5cIRUMu04RqaDUoKoKSygTuB8\n",
       "AlILjOq63pnHz7AAewIJW7Kpmm9brRjPOP3UC9n2AJjjGfGREZ/suWQ8w0MyyXsoIoi3ANtFPmrE\n",
       "NscOcAnYg6BgaglYFXBbTzHdH+kG9zNumELu2Gwko4dfTNFkxsCpyI3CHsqY5uDD5pke7yJ21wD6\n",
       "IgKfobLRZTbYccMeYPvBYXXAbR1ndP0Sjh8bzypomadWG3brQvJ38s2rTF6sqzPg7VpE5L8AVRXz\n",
       "kAzoI2B0GGpCAp89IP+EfB+SBoPnV2cCth8StgG6P4pkui/WyKbm+4Iut4UqlWq0TzH5CsjLIG8V\n",
       "/GVHUbACnnA4fEdL4J0J2AfoMagtvCR8RpRxay5OJ2rqFcvuUxZ8SyB3nXdsgVfzvia/wKcrCD2L\n",
       "JAF14+IcWyaHlcDBCLUFN/KL2j7dGUub162SmtDZe8P8SBPzvaWPjL7T0hgnx5VKAYof63tsTRlI\n",
       "y9DKcngdPukavTHyxtyI96oaomq++P/Gx24eph+NAf9JpLStw6bajg2f9Q81ogymLc4m5QAAAABJ\n",
       "RU5ErkJggg==\n",
       "\" style=\"display:inline;vertical-align:middle;\" /></a></span></td></tr>\n",
       "<tr><td><a name=\"0xde326724225d4b3_step1\">1</a></td><td>hypothetical reasoning</td><td><a href=\"#0xde326724225d4b3_step2\">2</a></td><td><span style=\"font-size:20px;\"><a class=\"ProveItLink\" href=\"../__pv_it/c396372c355d27b8576c00d8e3d98e310d851dfe0/expr.ipynb\"><img src=\"data:image/png;base64,iVBORw0KGgoAAAANSUhEUgAAALEAAAAVBAMAAAD7ihIOAAAAMFBMVEX///+IiIi6urrc3NxERETM\n",
       "zMwQEBCqqqpUVFQiIiJ2dnYyMjLu7u5mZmaYmJgAAABN0h6tAAAAAXRSTlMAQObYZgAAAoFJREFU\n",
       "OMtjYGDgu8dAZcB68QCI4tlFiSF26ALsBkCCKRXE5PsAtWgDqhLJFP9tMxSQHLIBi8E8DnAmX/+P\n",
       "uy1ODAzNIM5tEME1ASLD/QFN14ZAHh+kgMKQBwsaINhsQFvuBzCcBrFXIpv8+g+aLgc9BlEWBBdD\n",
       "HgTeIrHjHzAw6F9g4BJAM5mn9jNUxZOZMzdATS5HmIyQBwIWmFMnI5ksDxR8L8DAk4BmMh/jJ4iC\n",
       "EBmEmxcdQQQjTB4c5tDgZZ6AZLIb0PpMYKLYhGayDvs/iNv2IEKDaWorXB9MHiUUGC8gif1gYIjs\n",
       "AdJrgXgZSIAD7HUeBdaPYHkOeJw4qM3/Bk8bcPmbM0FgPsRIlgdI/vjxTmQ6OEKA+D2IURYAIpkY\n",
       "mP9CFCPH4LpXMA5cHgqqC0AkZwHUqllA9wPj4VgDULASlGaANodAIiHi7o0vYEbYbiCAxSALE8xR\n",
       "cHmYH7aBvMMG85MF0EnAmGP8DkojIIFOYApRA7sZqCQbrMYE2c0sDA1QDlweZtRiBjST+YFKGT9C\n",
       "TeYG6eMAxTM7EE+DpHdkkzkYoBkPIX97NxhsZoCFBsxkUHLmAKUfTVg4g9OGORDvB6vhFUB2M98C\n",
       "CBshDwHaDKgxaAFJzvEO0BhcBjMZnC79IaliOjx3RzGsusHA85sBVR45aXLBUh0rA8M2YDSngMq4\n",
       "W0jpmcf/9wGGkv9zwYpOOB1AKZFmHkCVByfNAGiKQeSU7v+9N1zAgbMVvdyAAy3PmcjFGvsBzOKC\n",
       "mQFL7ob5ZwLc5AT8JTAXPsm3WNTDSyS+D/hNPohPksUAQ+g0vHxmIFCnPMAniVTyw4AzKPyTIAF5\n",
       "j5q1FZ8BtB4EANhIs8LCER4ZAAAAAElFTkSuQmCC\n",
       "\" style=\"display:inline;vertical-align:middle;\" /></a> <a class=\"ProveItLink\" href=\"../__pv_it/81ae15a0f54f1c3c29bd5ea11124754282773ecb0/proof.ipynb\" style=\"text-decoration: none\">&#x22A2;&nbsp;</a><a class=\"ProveItLink\" href=\"../__pv_it/1d060f5465f5eefd72bc282d796612545ed4c17c0/expr.ipynb\"><img src=\"data:image/png;base64,iVBORw0KGgoAAAANSUhEUgAAAF0AAAAUBAMAAAAdCCxUAAAAMFBMVEX///92dnYyMjKqqqoiIiLu\n",
       "7u7c3NyIiIjMzMwQEBC6urpERERmZmZUVFSYmJgAAADEjrHzAAAAAXRSTlMAQObYZgAAAWlJREFU\n",
       "KM9jYMAN8tAFzMDk2/93zu5egKmcdQMyj0OBgYE3AcyczcDA8wNTPVMCCu8D0AQFsM5/DAxcfzDV\n",
       "v0HhPfoKJMRBLPZvDAx83+ES3DBj3VAcZwNUxRAJVjAByHBFOBTqbDYHZPV87L9AjgJ5k/8CA4dv\n",
       "AIY72A8gq1/KDHQ1AyNIrP/e8y0GYMEjLiDgD1HI/QDZOQs4QC7mA3m4PoGBdS6yWUZg3SwGUAMc\n",
       "gRwuBjZQiDCD3LgTpMcA2TBNkDM5YVGSC8S9Z87+BvkNGKgMf0HqC5DU54oxoKsHsidB1YOCn+E+\n",
       "WPKQEhioMcDcA1PPDKQ8Qc5ygAQ/x28k4xcxoPoXqD4ZSOlD/csEDP6VW5FcrwqhGWHhyQGJiv3A\n",
       "eOQRYODV/3vm9mYk43kbIDQXPL5Y938KYLD+7wM0uwEz2bAxYEsPEBCCJ/WjpTcwEMennjsBI0co\n",
       "4FOPml+wm4A/Pz5jYAAA7cJT/vN3mjEAAAAASUVORK5CYII=\n",
       "\" style=\"display:inline;vertical-align:middle;\" /></a></span></td></tr>\n",
       "<tr><td><a name=\"0xde326724225d4b3_step2\">2</a></td><td>instantiation</td><td><a href=\"#0xde326724225d4b3_step3\">3</a>, <a href=\"#0xde326724225d4b3_step4\">4</a>, <a href=\"#0xde326724225d4b3_step5\">5</a>, <a href=\"#0xde326724225d4b3_step6\">6</a></td><td><span style=\"font-size:20px;\"><a class=\"ProveItLink\" href=\"../__pv_it/9a732e895763dea4203e4d4a1768bb2d560e9f2f0/expr.ipynb\"><img src=\"data:image/png;base64,iVBORw0KGgoAAAANSUhEUgAAAMsAAAAVBAMAAAAa4QdfAAAAMFBMVEX///+IiIi6urrc3NxERETM\n",
       "zMwQEBCqqqpUVFQiIiJ2dnYyMjLu7u5mZmaYmJgAAABN0h6tAAAAAXRSTlMAQObYZgAAAqhJREFU\n",
       "SMe1Vk1oE0EUfkk2zZqs2xz0IAj2VPAH7UGwJwlVBEFIhCLqpUXqQbz0IIpIoaA9iIoB0bqCVBQK\n",
       "FZSgmIMVXEFE8FJv0VLNwZNS06pooGp987tvZmM8FB/s3/fNzDdv5puZBQD/HfzPSL8O2cN7vJJG\n",
       "dtpApsdGkkfZ3V+QqhWTXTdUrF7vIr2qtFDxCvrVv9ycO9cHcNYGYJZ9ZcsCzS1YTVT2e/vIeMZ4\n",
       "DpK+d6Dk+xK8sgGYojKfflpNFLbCWif6jPEs5sn7QB1g2wxk8xZgyHgjXyX7IQgqUuZUJBPxGI5K\n",
       "4gqR2YBgIw/eoAUYMn7iiyD710fZ3H4eDb3i+TzJKUmVicwe7MsxdNUDG6AyWzK/Ra+fRIOWvDqm\n",
       "G1G8MViJGYI1AQ5dxOc9G5hkHy4fIa8rvcg5V09qoXviu3aa5t8ELCZE+06dZNj8vGacT6INNNjt\n",
       "ZImbG1K/RE1qgfsftfkVL+PMMLuvGpa6NzAznLsXowielkU0kMM+9YtZPDhX+8ZfDkxjKAs4SdVd\n",
       "zavsqizRDpVtL/YPpz7xgxlM+UQBcB590M2zwfLHObmdZuPAqPzQvGr3DlgynVg0sUhkNJBjjbjM\n",
       "NRm8rok1RWVckEs/4meneTwENWhKhq0Sl7lxI1k2HGhop+3A6yknV+dpNv4t8R7xIjaDaYFesUoG\n",
       "CsQCGphUMtz/ReGxcb3ZHIa7NfCWwOSp67PK0GmAKvpkiG3Gb0WdCFDrxisuhXBi+Sav8bIvNLbO\n",
       "IDR57vqS9F+0PC8sX6rt5mP4iNchgLGn6di0N6CbcSaMb2UpaLHZqEzLdh0hM9j+RMm2I+dblM/b\n",
       "daboefO3eNaOdGKHGD8IzDr8vIF/nJ71diQ51lTssuskj4jBX8m/QOyQ9nta/Qv8AbD51Hh10Bv9\n",
       "AAAAAElFTkSuQmCC\n",
       "\" style=\"display:inline;vertical-align:middle;\" /></a> <a class=\"ProveItLink\" href=\"../__pv_it/3d1006e9975ff6f1ed484889af57ecdbf45f5e850/proof.ipynb\" style=\"text-decoration: none\">&#x22A2;&nbsp;</a><a class=\"ProveItLink\" href=\"../__pv_it/98d4bc94e268eb5bd1dd8957b0f9355a80140e9b0/expr.ipynb\"><img src=\"data:image/png;base64,iVBORw0KGgoAAAANSUhEUgAAABwAAAAOBAMAAADOPWE3AAAAMFBMVEX///8QEBBERES6urqIiIiq\n",
       "qqru7u6YmJgyMjLMzMxUVFTc3Nx2dnYiIiJmZmYAAAAfdW6kAAAAAXRSTlMAQObYZgAAAGNJREFU\n",
       "CNdjYEAAzgYGZMDxAYVb8Q2Zxxb3G5nLzvIZmWvG+h1ZrQHnFwaGt3eB4A6Qy8zA/Q8qswuIZ717\n",
       "9QmJa8DAIIHgsgKpiwjuViDVD3MtA/cFIKW/AWaL/o8EhqD/9wA5jBwoctwhSQAAAABJRU5ErkJg\n",
       "gg==\n",
       "\" style=\"display:inline;vertical-align:middle;\" /></a></span></td></tr>\n",
       "<tr><td>&nbsp;</td><td colspan=4 style=\"text-align:left\"><span style=\"font-size:20px;\"><a class=\"ProveItLink\" href=\"../../../../__pv_it/d3792d0d8642fdf1cd2a3a9b32c673ee13653de00/expr.ipynb\"><img src=\"data:image/png;base64,iVBORw0KGgoAAAANSUhEUgAAAA8AAAAOBAMAAAACpFvcAAAALVBMVEX///8iIiIQEBBERERUVFS6\n",
       "urqIiIjc3NxmZmaqqqru7u6YmJgyMjLMzMwAAACK9jtgAAAAAXRSTlMAQObYZgAAAFtJREFUCNdj\n",
       "YACBOwxQcA5Kc59bAGGs7CuAMDbkBYBp1gXzNoAZSxnuJYAZAQx1DSCa16PDzwCshIGB6QCIMYGB\n",
       "gVEBSLMDGTwPgIxCIGZ+zsCw+N0pBk67hw0AfpEVEQi8t+wAAAAASUVORK5CYII=\n",
       "\" style=\"display:inline;vertical-align:middle;\" /></a> : <a class=\"ProveItLink\" href=\"../../../../__pv_it/d3792d0d8642fdf1cd2a3a9b32c673ee13653de00/expr.ipynb\"><img src=\"data:image/png;base64,iVBORw0KGgoAAAANSUhEUgAAAA8AAAAOBAMAAAACpFvcAAAALVBMVEX///8iIiIQEBBERERUVFS6\n",
       "urqIiIjc3NxmZmaqqqru7u6YmJgyMjLMzMwAAACK9jtgAAAAAXRSTlMAQObYZgAAAFtJREFUCNdj\n",
       "YACBOwxQcA5Kc59bAGGs7CuAMDbkBYBp1gXzNoAZSxnuJYAZAQx1DSCa16PDzwCshIGB6QCIMYGB\n",
       "gVEBSLMDGTwPgIxCIGZ+zsCw+N0pBk67hw0AfpEVEQi8t+wAAAAASUVORK5CYII=\n",
       "\" style=\"display:inline;vertical-align:middle;\" /></a>, <a class=\"ProveItLink\" href=\"../../../../__pv_it/4d98b438710c5ada9ffa4646bb123a7d0e69ec000/expr.ipynb\"><img src=\"data:image/png;base64,iVBORw0KGgoAAAANSUhEUgAAABAAAAAOBAMAAADUAYG5AAAALVBMVEX///8yMjKqqqoiIiLu7u7c\n",
       "3NyIiIjMzMwQEBC6urpERERmZmZUVFSYmJgAAACsPVCVAAAAAXRSTlMAQObYZgAAAGxJREFUCNdj\n",
       "YGC48+70nlUTGICgi4GB+zmQZn/LwMD5Gshge8rAwPsMyOBqYGDwMAEy+A4wsNs4ABl1Z68tVgBp\n",
       "ygtgYOkBMVaAOCChNyBGAsQYhnMTIMawvwJyGIHGzFjCwMAj92b3qUUMDAAXABxvZ4rl5AAAAABJ\n",
       "RU5ErkJggg==\n",
       "\" style=\"display:inline;vertical-align:middle;\" /></a> : <a class=\"ProveItLink\" href=\"../__pv_it/86f671dd514f6e615234986d96edb2c4ebb473e30/expr.ipynb\"><img src=\"data:image/png;base64,iVBORw0KGgoAAAANSUhEUgAAAB0AAAAOBAMAAAAh/woJAAAAMFBMVEX///8yMjKqqqru7u6IiIgQ\n",
       "EBC6urpERESYmJjMzMxUVFTc3Nx2dnYiIiJmZmYAAABbDZECAAAAAXRSTlMAQObYZgAAAH9JREFU\n",
       "CNdjYIACjvW/3i0vY0AA1gIGhvcTEPz5DQwM+Q8QfP8NDAz9Dgh+KQMDc6wBgv+LgWHuYgSX81eH\n",
       "+yUg/fYuENxhYGD5zcBgugAquYuBgT0AKPYJwecHyrF8QfBB1nN9Q/BB1s8vgBnOwCDKwMAWjrB+\n",
       "4f91r8oVGBgAyy8lZJPyWlAAAAAASUVORK5CYII=\n",
       "\" style=\"display:inline;vertical-align:middle;\" /></a></span></td></tr><tr><td><a name=\"0xde326724225d4b3_step3\">3</a></td><td>theorem</td><td></td><td><span style=\"font-size:20px;\"> <a class=\"ProveItLink\" href=\"modusTollensDenial.ipynb\" style=\"text-decoration: none\">&#x22A2;&nbsp;</a><a class=\"ProveItLink\" href=\"../__pv_it/a661e354dd33009a7eed31e8309e69878687f23d0/expr.ipynb\"><img src=\"data:image/png;base64,iVBORw0KGgoAAAANSUhEUgAAAO8AAAAZBAMAAAArlWSOAAAAMFBMVEX///8QEBCIiIhmZma6urrM\n",
       "zMxUVFQiIiJERETc3Nzu7u6qqqp2dnaYmJgyMjIAAAAcRTyBAAAAAXRSTlMAQObYZgAAAzNJREFU\n",
       "SMfdlk1oE1EQgMf8mGyy2/bgTZFFD/ZSGwikIFUDHuqlNCePNqBi9WKxhwhWLCK69S/xoBZBs6CI\n",
       "RqwBEfHUlSBqWyV69I9o9WAvlVaxrYi+ebObfdskTVnaiwN5u7Mzed/7mTdvABaV/akMrIB0pIw6\n",
       "Hr2wMiIl/1+wVFzwIZwhcAmVD7XBDfhQiq7Btx3abvY7QOAx1Cdrg+U8ezTorsHfHNoU+w0TeAgf\n",
       "A7XB3DbkmqtEHNoUm4GscjBOhs+q1h7jaoy5Bgccx/HudqaGmjhYGc3lriwWXO9zuTvuY8zZdbE1\n",
       "ztovFNWzmta/GLhR004brsEbRcWnj2CUFgi8D2CQfx6sDl6dgCBboJ0zhR6+bHHLJvqXrQRIt8dM\n",
       "63mxt5vQzfYXPhJ4B4T4kVJ+mAHweaIvL4B9ER6HShPITfjJCkTLnxTLSvIa4Am9HQXwplAMPuYs\n",
       "xtojAgfAw0/pjT+4+4WtoBrXHooJpBdaWOtNQnheBHN/S8pWkhjACJ3ANUKq8u+JHsJ/d5MqFwPc\n",
       "NNrHBn72qg6qKt8TwS95G1DBWxLB6I+JiI+6bCU5DLANKsA+gFUlGyyVdqHFr2q47ExUtfOFCL7u\n",
       "x8R6PwGbdQHM/cFMRLaVS+gneCbLS10Gsw0M4H50mLl6cC9aVkMbUP5Uo+sTIjh4GeOpq6WZErsJ\n",
       "Rn9ZY/LJYaXgmn5zCpzBxUgSAzd8t4MLHvBT+g5aIRShGXsvieBwG769AtgkgtHfPDFx2/qcjaQE\n",
       "cgk85tEvWD0l+JEOzrGm3QQ3YoiHJsbTuv+Ipp3APfY4bqdpbM4BZPM2mPuTz62DgpVJEoIGSL/N\n",
       "K9++Lf5OQjj9i83tqwlWsAOvDtkEJGnGstcBfosN66grY4O5vyfKJLZFtHJwYx58c9VSJo25V7yP\n",
       "O9nMi/CUgw15vOI+luZBWicsNfnnmGwoW6UzJjirw0Wj2iXBxbwkSIKzIKWPQZAtl9I/caFYAX42\n",
       "E+2J22DT36olyOpfyx0y8vFo7GS1/EYyXK0CaWZ7XKcCWXCFSmJxUbcQsIbipvQZqO39eCmlj5JZ\n",
       "fvDSC6S64FRlXR1Zlro6+Q9/ZO6nSrqorAAAAABJRU5ErkJggg==\n",
       "\" style=\"display:inline;vertical-align:middle;\" /></a></span></td></tr>\n",
       "<tr><td>&nbsp;</td><td colspan=4 style-\"text-align:left\"><a class=\"ProveItLink\" href=\"modusTollensDenial.ipynb\">proveit.logic.boolean.implication.modusTollensDenial</a></td></tr><tr><td><a name=\"0xde326724225d4b3_step4\">4</a></td><td>assumption</td><td></td><td><span style=\"font-size:20px;\"><a class=\"ProveItLink\" href=\"../__pv_it/bd7c0c36d4893c1f3a0b239a721b4930fa6f33cb0/expr.ipynb\"><img src=\"data:image/png;base64,iVBORw0KGgoAAAANSUhEUgAAAEkAAAAVBAMAAAD4Ed5jAAAAMFBMVEX///+IiIi6urrc3NxERETM\n",
       "zMwQEBCqqqpUVFQiIiJ2dnYyMjLu7u5mZmaYmJgAAABN0h6tAAAAAXRSTlMAQObYZgAAATVJREFU\n",
       "KM9jYGDgu8eAB7BePACieHYx4AVMqSCS7wNU0wZUWckU/20zFICM2yAe1wSIKPcHNEM2BPL4gByz\n",
       "ElnV6z9oqhz0GERZ0FTx1H6Gyj6ZOXMDVFU5uio+xk8QRSEyCLMWHUFTpcP+D2LmHoSNTFNbgfQy\n",
       "EIcDbDyPAutHsByHAVyV2vxvID++B3HKAsChwsD8FyzHguz6da9Anr8AdMZksFDE3RtfwIyw3UAA\n",
       "cz0L0wMgo1OAgUENbBbQ6GywKhNks1gYGoBmNYAc4gAk2IF4GliODVkVB8MGqLvAfjQH4v1gOV4B\n",
       "ZLP4FkD9CFLFDFLpD/HddHgMRTGsuoEUXjz+vw8wlPyfC5Y84XQANbZR4hEOtDxnoiQPiKoE/OkL\n",
       "oorvAwFV4PTFQCitJoEpdsLpHgBPT1V1M7jh/QAAAABJRU5ErkJggg==\n",
       "\" style=\"display:inline;vertical-align:middle;\" /></a> <a class=\"ProveItLink\" href=\"../__pv_it/0340c064c83c6205f84cc244ce9c47bf225a315f0/proof.ipynb\" style=\"text-decoration: none\">&#x22A2;&nbsp;</a><a class=\"ProveItLink\" href=\"../__pv_it/8776f6509d0e01db99c8c290ab1853b3db3d048c0/expr.ipynb\"><img src=\"data:image/png;base64,iVBORw0KGgoAAAANSUhEUgAAADYAAAAPBAMAAABdHiGLAAAAMFBMVEX///92dnYiIiIQEBBERERU\n",
       "VFS6urqIiIjc3NxmZmaqqqru7u6YmJgyMjLMzMwAAADiRdoGAAAAAXRSTlMAQObYZgAAANdJREFU\n",
       "GNNjYACBtwwogF3Z5a9RGJRzH1WOgZevYMvOA2Amz/0NqHIsbAfYHziAmbvmN0DEeJyUdKFyXAsg\n",
       "cgfqE8A0n/sGuD7GbLAc24b1ELP3bkCYmfT0AYi1jeF9AVgoAmGf0X8zMCuBoX8CmOGA5BbGMwIg\n",
       "WyJnxoNF+WzvAgFUjsEhB2QdAwPzBZAIB7I+BgdWIGMBAwOTAVjIAFkugBeoGijH+wEsNB1F30EG\n",
       "hiYQ+wdYiGkBPMwEGCUDGLb8v83A5f8J7FDukGzMsIYBNhFImEEAAEUpOYcaSaDVAAAAAElFTkSu\n",
       "QmCC\n",
       "\" style=\"display:inline;vertical-align:middle;\" /></a></span></td></tr>\n",
       "<tr><td><a name=\"0xde326724225d4b3_step5\">5</a></td><td>assumption</td><td></td><td><span style=\"font-size:20px;\"><a class=\"ProveItLink\" href=\"../__pv_it/e2ae632c5015d7fe0c0a1d2f0cf9ac5f88e0d44f0/expr.ipynb\"><img src=\"data:image/png;base64,iVBORw0KGgoAAAANSUhEUgAAAHEAAAAVBAMAAACDNRyvAAAAMFBMVEX///+IiIi6urrc3NxERETM\n",
       "zMwQEBCqqqpUVFQiIiJ2dnYyMjLu7u5mZmaYmJgAAABN0h6tAAAAAXRSTlMAQObYZgAAAcdJREFU\n",
       "OMtjYGDgu8dAImC9eABE8ezCp8gOXYDdAEgwpYKYfB+gBm3AopHHAc7k6/9xt8WJgaEZxLkNIrgm\n",
       "QGS4P2DRyW2AYLMBTbkfwHAaxF6JrPP1Hyw63yKx4x8wMOhfYOASQNPJU/sZoYgFZtVkJJ3yQMH3\n",
       "Agw8CWg6+Rg/IQUe1HvME5B0ugGNzwQG6iY0nTrs/zBdyXgBSewHA0NkD5BeC8TLQAIc4DDlUWD9\n",
       "CJa/ORME5kO0sDxAcsePdyLTwQECxO9BjLIAEMnEwPwXOWiqC0AkZwHUqFlA+4HhcKwBKFgJCnOg\n",
       "ySGQQIi4e+MLSkRuUwBFhAKUawG0HxgyjN9BYQwS6ASGsBrYTqCSbGSdFosZ0HTyA+1j/AjVyQ2y\n",
       "nAMUjuxAPA2s5vZuMNjMAHMtTCcoOjlA4a8J8yc4bM2BeD+SldoMqCFkAYnOeAdoCC2D6QTHmz8i\n",
       "pfHsgdBcsFhhZWDYBgzGFFAeuYUUnzz+vw8wlPyfC9fJEQChmRApoft/7w0XsOO3oqdbZMDMgCX1\n",
       "wdwzAa4zAU/2fIsphEjxfB/w6GQxwBA6Dc+fDPjKBKScDQPOIP8nQcqHe6SUJnwG0HIIAPd6d942\n",
       "cKO7AAAAAElFTkSuQmCC\n",
       "\" style=\"display:inline;vertical-align:middle;\" /></a> <a class=\"ProveItLink\" href=\"../__pv_it/61aa5838058996f0e081298d5a9d39cdf60034ec0/proof.ipynb\" style=\"text-decoration: none\">&#x22A2;&nbsp;</a><a class=\"ProveItLink\" href=\"../__pv_it/0dd1857a2104c2ce35068f996b5ace971dbbe7f10/expr.ipynb\"><img src=\"data:image/png;base64,iVBORw0KGgoAAAANSUhEUgAAAF0AAAAUBAMAAAAdCCxUAAAAMFBMVEX///92dnYiIiIQEBBERERU\n",
       "VFS6urqIiIjc3NxmZmaqqqru7u6YmJgyMjLMzMwAAADiRdoGAAAAAXRSTlMAQObYZgAAAWxJREFU\n",
       "KM9jYMAJOA6gi6yAMd5iU78FwTz6P3KqSwIDawOUfx+b+htIbBMGBs5/DNwXIDye+xswlfNMQLD5\n",
       "/jAwsP1kYBCHcHfNb0DIeUBpJiQx9h9A/d8ZGDZDuAfqExByT6B0E5JdLAZAtdoMDLxgdWwb1h/A\n",
       "dEclknr+AAY+VaCbGcFy2xjeF4BoTiUw+AlR44Ok/n3McacFILPAHk5g6EfyGwPXLTClBTNAgIGh\n",
       "voGB2xQkpQDyfOTMeAfkkNlrBiLNYNEWwMDgDKTrgRbwfQA5n4GB+QJyvAY2oKv/ClJfAFUP1Mdk\n",
       "AHb/XQhogLkHph4U/AzxwLBhA7qHA6ie9wPCeLYLqP4FqgcFP98XqH9B4czyA8n10LiWhAk8YOAF\n",
       "Wp/sDXKBAMOW/7cZuPw/IQIoDkonwUVY73+dGeIFYvE+wEw3DVjSAwxswp36UdIbDIjjUQ9PeAjA\n",
       "fQGf+i0YIiwN+NRj5scTDAwAVJlZhzec5CcAAAAASUVORK5CYII=\n",
       "\" style=\"display:inline;vertical-align:middle;\" /></a></span></td></tr>\n",
       "<tr><td><a name=\"0xde326724225d4b3_step6\">6</a></td><td>instantiation</td><td><a href=\"#0xde326724225d4b3_step7\">7</a>, <a href=\"#0xde326724225d4b3_step8\">8</a></td><td><span style=\"font-size:20px;\"><a class=\"ProveItLink\" href=\"../__pv_it/2d95f09b10b3b8c8310cb902bd7faba5d3956d540/expr.ipynb\"><img src=\"data:image/png;base64,iVBORw0KGgoAAAANSUhEUgAAACMAAAAVBAMAAAA+1EraAAAAMFBMVEX///+IiIi6urrc3NxERETM\n",
       "zMwQEBCqqqpUVFQiIiJ2dnYyMjLu7u5mZmaYmJgAAABN0h6tAAAAAXRSTlMAQObYZgAAAM5JREFU\n",
       "GNNjYGDgu8cAA6wXD4Aonl0MCMCUCiL5PoCI/h93W5yAjNsgIa4JIJLNgYHhfgADw0qEUPwDBgb9\n",
       "CyhC8gYMDO8FUITcgPZkHkAR+sHAENkDpJeBOBwbQA768U5kOoj3HkSUAe1hYPzMwHCsAcjgBloR\n",
       "MhkkzpIAFP4OYnUC7VADqeIHqmD8CFIFUsrhAHUWxyeYWWAbQc6Kd4DZCBbaBvRxCigU4O7q/t97\n",
       "w6WAgQHFqTAAEUrAEAKHFxyAw4sBJVSTwBQ7WtgDAJxpOkc6jJwBAAAAAElFTkSuQmCC\n",
       "\" style=\"display:inline;vertical-align:middle;\" /></a> <a class=\"ProveItLink\" href=\"../__pv_it/ebc13196abb4b92de318647893484225b1a7b1930/proof.ipynb\" style=\"text-decoration: none\">&#x22A2;&nbsp;</a><a class=\"ProveItLink\" href=\"../__pv_it/f47283a90b2662ecb603669ebc9c51181672dbb50/expr.ipynb\"><img src=\"data:image/png;base64,iVBORw0KGgoAAAANSUhEUgAAADoAAAAUBAMAAAAuMzNdAAAAMFBMVEX///+6uroQEBCqqqqIiIgy\n",
       "MjJERETu7u6YmJjMzMxUVFTc3Nx2dnYiIiJmZmYAAAAutVgsAAAAAXRSTlMAQObYZgAAAPlJREFU\n",
       "KM9jYICBHQxogHkDgs2eAGdyrP/1blkiA8NqhCwrkkomoMr3ExhKESJ9SGbOb2BgkH/AwOMAF7mN\n",
       "JOsPNKffgYFdASbAfQFJNgnoDN0CBoZAmADLAyTZXwwMc5cD6XMwAbYGhCTnrw63yyBGK8Pbu0Bw\n",
       "h4HXgAHGZGD5zcBQtAAoawtRvYuBSYABxmRgA7qG5TPI7dhk+YH6WL4gy4JMhsmCvMv1EciWhQnB\n",
       "XbUL4t35CWBXQVzJwAPzEScDQxADA6Ma0LsMb2C+YESExtL/616lgS2KxBqSsGi7gDUWoAApFtg2\n",
       "YMiWYo19GMhGYmOkHI4NDADnS0MIolOvqgAAAABJRU5ErkJggg==\n",
       "\" style=\"display:inline;vertical-align:middle;\" /></a></span></td></tr>\n",
       "<tr><td>&nbsp;</td><td colspan=4 style=\"text-align:left\"><span style=\"font-size:20px;\"><a class=\"ProveItLink\" href=\"../../../../__pv_it/d3792d0d8642fdf1cd2a3a9b32c673ee13653de00/expr.ipynb\"><img src=\"data:image/png;base64,iVBORw0KGgoAAAANSUhEUgAAAA8AAAAOBAMAAAACpFvcAAAALVBMVEX///8iIiIQEBBERERUVFS6\n",
       "urqIiIjc3NxmZmaqqqru7u6YmJgyMjLMzMwAAACK9jtgAAAAAXRSTlMAQObYZgAAAFtJREFUCNdj\n",
       "YACBOwxQcA5Kc59bAGGs7CuAMDbkBYBp1gXzNoAZSxnuJYAZAQx1DSCa16PDzwCshIGB6QCIMYGB\n",
       "gVEBSLMDGTwPgIxCIGZ+zsCw+N0pBk67hw0AfpEVEQi8t+wAAAAASUVORK5CYII=\n",
       "\" style=\"display:inline;vertical-align:middle;\" /></a> : <a class=\"ProveItLink\" href=\"../../../../__pv_it/4d98b438710c5ada9ffa4646bb123a7d0e69ec000/expr.ipynb\"><img src=\"data:image/png;base64,iVBORw0KGgoAAAANSUhEUgAAABAAAAAOBAMAAADUAYG5AAAALVBMVEX///8yMjKqqqoiIiLu7u7c\n",
       "3NyIiIjMzMwQEBC6urpERERmZmZUVFSYmJgAAACsPVCVAAAAAXRSTlMAQObYZgAAAGxJREFUCNdj\n",
       "YGC48+70nlUTGICgi4GB+zmQZn/LwMD5Gshge8rAwPsMyOBqYGDwMAEy+A4wsNs4ABl1Z68tVgBp\n",
       "ygtgYOkBMVaAOCChNyBGAsQYhnMTIMawvwJyGIHGzFjCwMAj92b3qUUMDAAXABxvZ4rl5AAAAABJ\n",
       "RU5ErkJggg==\n",
       "\" style=\"display:inline;vertical-align:middle;\" /></a></span></td></tr><tr><td><a name=\"0xde326724225d4b3_step7\">7</a></td><td>axiom</td><td></td><td><span style=\"font-size:20px;\"> <a class=\"ProveItLink\" href=\"../../negation/_axioms_.ipynb#doubleNegationIntro\" style=\"text-decoration: none\">&#x22A2;&nbsp;</a><a class=\"ProveItLink\" href=\"../../negation/__pv_it/d4b5a7ad1d6d7b7899396f426b449cfd0e03f8720/expr.ipynb\"><img src=\"data:image/png;base64,iVBORw0KGgoAAAANSUhEUgAAAIoAAAAWBAMAAADtDRlvAAAAMFBMVEX///8QEBCIiIhmZma6urrM\n",
       "zMxUVFQiIiJERETc3Nzu7u6qqqp2dnaYmJgyMjIAAAAcRTyBAAAAAXRSTlMAQObYZgAAAc1JREFU\n",
       "OMudVEFLAkEUfrmau+pah36A0A9Q6BCEoNDBUyAdOqZQHToldOhQgUf3IHrTm0JBYiBCh44FXsI6\n",
       "7D0qoTrkRQ+FFki92bfbztayih984zfOvI+Z994OwFhIqp0k+IvEDps8OLnUbCViE7lLvGXzrpPL\n",
       "m61E9JANYpkdNOtgIkfsJJv1qgCBkMYgk00HF2/RTiLOYzj1zWuU2/V6yelCJVuJUMNxHF+Iw1zu\n",
       "yMll0VYCuKtXrGIt4g6Aov1No9vYJerHz5uBed7lFFKYE3gkroJPq7b8TsHGrqc4/R4CCAcM17wE\n",
       "iEOFJfuS6AWX1ksnI4uLL6Z32ILRcWlegmdraY+VNkUMqF5tqb1vcQmcRRxd8OYzHdNF6mywFU8o\n",
       "Z3FZF7O/NzJCOQnYHF6sMiR0KttsZRaWLS5pIWNNKYZyUkKXYN/MLlxo2+8hzLvITVefVMtId5KX\n",
       "rHXETxyiOudYwXzPd4Uq59KI3nyRSpjFNWXtuwv+wgBT9wpEmUULVagkOZcVkD7GfAFUygyRsIZn\n",
       "Uk0XN+rRmK+RSklfo96oQ5AKx6ZLIQvlgd4wihmj/HPRX4a/ECd/pQxfZRIXpxdTLhLHu0wDYZqg\n",
       "H8j2eoNyIuULAAAAAElFTkSuQmCC\n",
       "\" style=\"display:inline;vertical-align:middle;\" /></a></span></td></tr>\n",
       "<tr><td>&nbsp;</td><td colspan=4 style-\"text-align:left\"><a class=\"ProveItLink\" href=\"../../negation/_axioms_.ipynb#doubleNegationIntro\">proveit.logic.boolean.negation.doubleNegationIntro</a></td></tr><tr><td><a name=\"0xde326724225d4b3_step8\">8</a></td><td>assumption</td><td></td><td><span style=\"font-size:20px;\"><a class=\"ProveItLink\" href=\"../__pv_it/2d95f09b10b3b8c8310cb902bd7faba5d3956d540/expr.ipynb\"><img src=\"data:image/png;base64,iVBORw0KGgoAAAANSUhEUgAAACMAAAAVBAMAAAA+1EraAAAAMFBMVEX///+IiIi6urrc3NxERETM\n",
       "zMwQEBCqqqpUVFQiIiJ2dnYyMjLu7u5mZmaYmJgAAABN0h6tAAAAAXRSTlMAQObYZgAAAM5JREFU\n",
       "GNNjYGDgu8cAA6wXD4Aonl0MCMCUCiL5PoCI/h93W5yAjNsgIa4JIJLNgYHhfgADw0qEUPwDBgb9\n",
       "CyhC8gYMDO8FUITcgPZkHkAR+sHAENkDpJeBOBwbQA768U5kOoj3HkSUAe1hYPzMwHCsAcjgBloR\n",
       "MhkkzpIAFP4OYnUC7VADqeIHqmD8CFIFUsrhAHUWxyeYWWAbQc6Kd4DZCBbaBvRxCigU4O7q/t97\n",
       "w6WAgQHFqTAAEUrAEAKHFxyAw4sBJVSTwBQ7WtgDAJxpOkc6jJwBAAAAAElFTkSuQmCC\n",
       "\" style=\"display:inline;vertical-align:middle;\" /></a> <a class=\"ProveItLink\" href=\"../__pv_it/3337cb6550e15db1ca82a8f7afcd716409fd6e320/proof.ipynb\" style=\"text-decoration: none\">&#x22A2;&nbsp;</a><a class=\"ProveItLink\" href=\"../../../../__pv_it/4d98b438710c5ada9ffa4646bb123a7d0e69ec000/expr.ipynb\"><img src=\"data:image/png;base64,iVBORw0KGgoAAAANSUhEUgAAABAAAAAOBAMAAADUAYG5AAAALVBMVEX///8yMjKqqqoiIiLu7u7c\n",
       "3NyIiIjMzMwQEBC6urpERERmZmZUVFSYmJgAAACsPVCVAAAAAXRSTlMAQObYZgAAAGxJREFUCNdj\n",
       "YGC48+70nlUTGICgi4GB+zmQZn/LwMD5Gshge8rAwPsMyOBqYGDwMAEy+A4wsNs4ABl1Z68tVgBp\n",
       "ygtgYOkBMVaAOCChNyBGAsQYhnMTIMawvwJyGIHGzFjCwMAj92b3qUUMDAAXABxvZ4rl5AAAAABJ\n",
       "RU5ErkJggg==\n",
       "\" style=\"display:inline;vertical-align:middle;\" /></a></span></td></tr>\n",
       "</table>"
      ],
      "text/plain": [
       "\tstep type\trequirements\tstatement\n",
       "0\tgeneralizaton\t1\t|- forall_{A, B | A => [not](B), A in BOOLEANS} (B => [not](A))\n",
       "1\thypothetical reasoning\t2\t{A in BOOLEANS, A => [not](B)} |- B => [not](A)\n",
       "2\tinstantiation\t3, 4, 5, 6\t{A in BOOLEANS, A => [not](B), B} |- [not](A)\n",
       "\tA : A, B : [not](B)\n",
       "3\ttheorem\t\t|- forall_{A in BOOLEANS} [forall_{B | A => B, [not](B)} [not](A)]\n",
       "\tproveit.logic.boolean.implication.modusTollensDenial\n",
       "4\tassumption\t\t{A in BOOLEANS} |- A in BOOLEANS\n",
       "5\tassumption\t\t{A => [not](B)} |- A => [not](B)\n",
       "6\tinstantiation\t7, 8\t{B} |- [not]([not](B))\n",
       "\tA : B\n",
       "7\taxiom\t\t|- forall_{A | A} [not]([not](A))\n",
       "\tproveit.logic.boolean.negation.doubleNegationIntro\n",
       "8\tassumption\t\t{B} |- B"
      ]
     },
     "execution_count": 6,
     "metadata": {},
     "output_type": "execute_result"
    }
   ],
   "source": [
    "%qed"
   ]
  },
  {
   "cell_type": "code",
   "execution_count": null,
   "metadata": {},
   "outputs": [],
   "source": []
  }
 ],
 "metadata": {
  "kernelspec": {
   "display_name": "Python 3",
   "language": "python",
   "name": "python3"
  }
 },
 "nbformat": 4,
 "nbformat_minor": 0
}
