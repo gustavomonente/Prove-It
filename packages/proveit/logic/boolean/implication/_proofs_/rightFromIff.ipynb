{
 "cells": [
  {
   "cell_type": "markdown",
   "metadata": {},
   "source": [
    "Proof of <a class=\"ProveItLink\" href=\"../../../../_context_.ipynb\">proveit</a>.<a class=\"ProveItLink\" href=\"../../../_context_.ipynb\">logic</a>.<a class=\"ProveItLink\" href=\"../../_context_.ipynb\">boolean</a>.<a class=\"ProveItLink\" href=\"../_context_.ipynb\">implication</a>.<a href=\"../_theorems_.ipynb#rightFromIff\" class=\"ProveItLink\">rightFromIff</a> theorem\n",
    "========"
   ]
  },
  {
   "cell_type": "code",
   "execution_count": 1,
   "metadata": {},
   "outputs": [],
   "source": [
    "import proveit\n",
    "context = proveit.Context('..') # the theorem's context is in the parent directory"
   ]
  },
  {
   "cell_type": "code",
   "execution_count": 2,
   "metadata": {},
   "outputs": [
    {
     "name": "stdout",
     "output_type": "stream",
     "text": [
      "Beginning proof of rightFromIff\n",
      "Recorded 'presuming' information\n"
     ]
    },
    {
     "name": "stdout",
     "output_type": "stream",
     "text": [
      "Presuming previous theorems (applied transitively).\n"
     ]
    },
    {
     "data": {
      "text/html": [
       "<strong id=\"rightFromIff\">rightFromIff:</strong> <a class=\"ProveItLink\" href=\"../__pv_it/42c5b57cc55cff53d058a111c1f313522c2dc44f0/expr.ipynb\"><img src=\"data:image/png;base64,iVBORw0KGgoAAAANSUhEUgAAAJEAAAAWBAMAAAAyQ2NwAAAAMFBMVEX///8QEBCIiIhmZma6urrM\n",
       "zMxUVFQiIiJERETc3Nzu7u6qqqp2dnaYmJgyMjIAAAAcRTyBAAAAAXRSTlMAQObYZgAAAgdJREFU\n",
       "OMutlD1IG2EYx/+9y9clOXWrRYdsSqFVCCgUQaFLB0vSDnY0oELaoS10rEIEh0sRc5sZBKMOlRs0\n",
       "4OTs0KJSbi9iRBedpNpULdK+7/Pm41EJKOczvPfck9/983zdAfdmJXnseFEwP5Tj6SlgS94ceUrm\n",
       "QQboTyIvXCPjSWnYBRLdaCoA0aInpS4b2I3B3HScWW+tngTCD0VCZ5Y17k2pDLx5J65jQJYC6nxx\n",
       "spG2peOrgiG74mTZ0zUM8Jd3Oj9L5znCtAnmqZppC6ItJFB9aHegMu1TPvoqBmjnwEJKOEForgws\n",
       "XVJcTyFywZXC/a5yKgCuYgIUitpf4UTdIAU2P9ElGINe4krRr92oA0vA3BUMaBb5aL/kMpWGqNqY\n",
       "RfHVJJ4WuNLrkNo2BbwV6SQ5ptYpQJVnR+UZQC/FE086U+BKKf0jaoDealkzjzim1mmY/m2NyJ/o\n",
       "ovgPoIMrmUXtGFXAN0U9eswwYE/MuZXya47Jvu5v5+huGpgvMqWVvu/UWQIClIfvgGF4/2+kx1Ku\n",
       "KRX0AuZl/RBDSNhM6RmM36gB+biwaY7dsJciN9f4AuMCRjurzifaeYl8QQEIHzrOoqihjl230BmM\n",
       "3IS/Dd9O4ukBppTLIP/HfVVUADAILItwHWtgES7Of6h9LPyAc5t3cb2BUsS+61vtNlAyPX0r9Dvy\n",
       "/wG5fI2gbSsnrAAAAABJRU5ErkJggg==\n",
       "\" style=\"display:inline;vertical-align:middle;\" /></a><br>(see <a class=\"ProveItLink\" href=\"../__pv_it/42c5b57cc55cff53d058a111c1f313522c2dc44f0/dependencies.ipynb\">dependencies</a>)<br>"
      ],
      "text/plain": [
       "rightFromIff: forall_{A, B | A, A <=> B} B"
      ]
     },
     "execution_count": 2,
     "metadata": {},
     "output_type": "execute_result"
    }
   ],
   "source": [
    "%proving rightFromIff presuming []"
   ]
  },
  {
   "cell_type": "code",
   "execution_count": 3,
   "metadata": {},
   "outputs": [
    {
     "data": {
      "text/html": [
       "<table><tr><th>&nbsp;</th><th>step type</th><th>requirements</th><th>statement</th></tr>\n",
       "<tr><td><a name=\"0x10c5ddf9dc3f4e65_step0\">0</a></td><td>generalizaton</td><td><a href=\"#0x10c5ddf9dc3f4e65_step1\">1</a></td><td><span style=\"font-size:20px;\"> <a class=\"ProveItLink\" href=\"../__pv_it/41f3f48c0ef851ae75b41e9f973ea1d8633f0c440/proof.ipynb\" style=\"text-decoration: none\">&#x22A2;&nbsp;</a><a class=\"ProveItLink\" href=\"../__pv_it/42c5b57cc55cff53d058a111c1f313522c2dc44f0/expr.ipynb\"><img src=\"data:image/png;base64,iVBORw0KGgoAAAANSUhEUgAAAJEAAAAWBAMAAAAyQ2NwAAAAMFBMVEX///8QEBCIiIhmZma6urrM\n",
       "zMxUVFQiIiJERETc3Nzu7u6qqqp2dnaYmJgyMjIAAAAcRTyBAAAAAXRSTlMAQObYZgAAAgdJREFU\n",
       "OMutlD1IG2EYx/+9y9clOXWrRYdsSqFVCCgUQaFLB0vSDnY0oELaoS10rEIEh0sRc5sZBKMOlRs0\n",
       "4OTs0KJSbi9iRBedpNpULdK+7/Pm41EJKOczvPfck9/983zdAfdmJXnseFEwP5Tj6SlgS94ceUrm\n",
       "QQboTyIvXCPjSWnYBRLdaCoA0aInpS4b2I3B3HScWW+tngTCD0VCZ5Y17k2pDLx5J65jQJYC6nxx\n",
       "spG2peOrgiG74mTZ0zUM8Jd3Oj9L5znCtAnmqZppC6ItJFB9aHegMu1TPvoqBmjnwEJKOEForgws\n",
       "XVJcTyFywZXC/a5yKgCuYgIUitpf4UTdIAU2P9ElGINe4krRr92oA0vA3BUMaBb5aL/kMpWGqNqY\n",
       "RfHVJJ4WuNLrkNo2BbwV6SQ5ptYpQJVnR+UZQC/FE086U+BKKf0jaoDealkzjzim1mmY/m2NyJ/o\n",
       "ovgPoIMrmUXtGFXAN0U9eswwYE/MuZXya47Jvu5v5+huGpgvMqWVvu/UWQIClIfvgGF4/2+kx1Ku\n",
       "KRX0AuZl/RBDSNhM6RmM36gB+biwaY7dsJciN9f4AuMCRjurzifaeYl8QQEIHzrOoqihjl230BmM\n",
       "3IS/Dd9O4ukBppTLIP/HfVVUADAILItwHWtgES7Of6h9LPyAc5t3cb2BUsS+61vtNlAyPX0r9Dvy\n",
       "/wG5fI2gbSsnrAAAAABJRU5ErkJggg==\n",
       "\" style=\"display:inline;vertical-align:middle;\" /></a></span></td></tr>\n",
       "<tr><td><a name=\"0x10c5ddf9dc3f4e65_step1\">1</a></td><td>modus ponens</td><td><a href=\"#0x10c5ddf9dc3f4e65_step2\">2</a>, <a href=\"#0x10c5ddf9dc3f4e65_step3\">3</a></td><td><span style=\"font-size:20px;\"><a class=\"ProveItLink\" href=\"../__pv_it/a20b50867b3d84ee74f77dec9fb6527e2c9de2c30/expr.ipynb\"><img src=\"data:image/png;base64,iVBORw0KGgoAAAANSUhEUgAAAGsAAAAVBAMAAACzuQ2OAAAAMFBMVEX///+IiIi6urrc3NxERETM\n",
       "zMwQEBCqqqpUVFQiIiJ2dnYyMjLu7u5mZmaYmJgAAABN0h6tAAAAAXRSTlMAQObYZgAAAclJREFU\n",
       "OMtjYGDgu8dACmC9eABE8exiIA0wpYJIvg9QUzYgSUVjU//if+8NFwUGhtsgDtcEiCD3ByQV+7Ha\n",
       "k8LAwPuVgWElsrbXfxDyfPsPYPPVP6AL/6Jq46n9jFBw/L4B1AlAHAETZQSq4PuIqo2P8RNC2wN5\n",
       "BQhDDohZAqCiLAkMDMfmoGrTYf+HCKsD9Q8gznIAuWMPVJi/gYF1BtD1y0AcDnAI8iiwfoRrO8QQ\n",
       "LwBmhGXOBIJsqEfj+x56FgDp9yBOGdgNTAzMf+HaFBjsL4A90wOx0x0iLG/AwJMB8jBQMmQyWCji\n",
       "7o0v8BDrvdsPdt0MqACnA5hyA2kFWdcJdItaAMQChmy41xgY2MAut1gACeQuiPgPkDagDu4GkN9A\n",
       "RrED8TSYNqCBnAlg1svdILAzAB5tDP0KUL+BQ9IcKWUwF8CTDB/IizybEdHGCvLJMpg2ZpBWfwOG\n",
       "8yC3WYKiCBr3TUDMWwCNeqAL1HwYEPHG4//7AEPJ/7kMnMDIPPJ/DwO7/09wUDKcBmITiC6O/T/u\n",
       "toDDFCVNgkENWjJkBuIz6GkToi0BSWQBMRluJXJ+Awe1ADHawPmNASl38xGVu5PAFDsZZQkAieh4\n",
       "AkNZZecAAAAASUVORK5CYII=\n",
       "\" style=\"display:inline;vertical-align:middle;\" /></a> <a class=\"ProveItLink\" href=\"../__pv_it/c4855f3c6b4c2c886461306620ebf02302b07e640/proof.ipynb\" style=\"text-decoration: none\">&#x22A2;&nbsp;</a><a class=\"ProveItLink\" href=\"../../../../__pv_it/4d98b438710c5ada9ffa4646bb123a7d0e69ec000/expr.ipynb\"><img src=\"data:image/png;base64,iVBORw0KGgoAAAANSUhEUgAAABAAAAAOBAMAAADUAYG5AAAALVBMVEX///8yMjKqqqoiIiLu7u7c\n",
       "3NyIiIjMzMwQEBC6urpERERmZmZUVFSYmJgAAACsPVCVAAAAAXRSTlMAQObYZgAAAGxJREFUCNdj\n",
       "YGC48+70nlUTGICgi4GB+zmQZn/LwMD5Gshge8rAwPsMyOBqYGDwMAEy+A4wsNs4ABl1Z68tVgBp\n",
       "ygtgYOkBMVaAOCChNyBGAsQYhnMTIMawvwJyGIHGzFjCwMAj92b3qUUMDAAXABxvZ4rl5AAAAABJ\n",
       "RU5ErkJggg==\n",
       "\" style=\"display:inline;vertical-align:middle;\" /></a></span></td></tr>\n",
       "<tr><td><a name=\"0x10c5ddf9dc3f4e65_step2\">2</a></td><td>instantiation</td><td><a href=\"#0x10c5ddf9dc3f4e65_step4\">4</a>, <a href=\"#0x10c5ddf9dc3f4e65_step5\">5</a></td><td><span style=\"font-size:20px;\"><a class=\"ProveItLink\" href=\"../__pv_it/f1249517abb13a455fd388b73ae2537ceffced240/expr.ipynb\"><img src=\"data:image/png;base64,iVBORw0KGgoAAAANSUhEUgAAAFMAAAAVBAMAAADInc9CAAAAMFBMVEX///+IiIi6urrc3NxERETM\n",
       "zMwQEBCqqqpUVFQiIiJ2dnYyMjLu7u5mZmaYmJgAAABN0h6tAAAAAXRSTlMAQObYZgAAAXBJREFU\n",
       "KM9jYGDgu8dACLBePACieHYxEAZMqSCS7wNU5wYsSvj6f9xtcQIyboN4XBMgotwfsBnH5sDAcD+A\n",
       "gWElstLXf7ApjX/AwKB/AVUpT+1nqCw3EEfAlMobMDC8F0BVysf4CSorB8QsAVCOG9CQzAOoSnXY\n",
       "/0G95wCyYw9U6Q8GhsgeIL0MxOEA+5xHgfUjRDIscyYQZB+A6PvxTmQ6iPEeRJSB7WJiYP4LlmTs\n",
       "gahxh/CAHjjWAPIA0Gshk8FiEXdvfAGbPgNqMyfIHQwsCUDl30GsTqDf1MCmKjAwZIOVWCyABEgX\n",
       "mOIHmsgIchk3yGgOkHZ2IJ4GMe7lbhDYGQAPVo5PMLeCQ8AciPdD4/ICyNDNiGCNd4CFAEgpM0i5\n",
       "vwFEugmIeQsg7G1AD6eAAgMWrjz+vw8wlPyfC5E+DcQmEGb3/94bLmBdKGkADpiB+Ax6WoAoTSAi\n",
       "vUKU8n0gRik4vTIQlQuSwBQ7kXkLAEmwYW7uLXXfAAAAAElFTkSuQmCC\n",
       "\" style=\"display:inline;vertical-align:middle;\" /></a> <a class=\"ProveItLink\" href=\"../__pv_it/f80630354d198ba52f6ae8c71f4c40592e629eac0/proof.ipynb\" style=\"text-decoration: none\">&#x22A2;&nbsp;</a><a class=\"ProveItLink\" href=\"../__pv_it/8b52df86786c45166e4e597fabcdbadc8276ac2f0/expr.ipynb\"><img src=\"data:image/png;base64,iVBORw0KGgoAAAANSUhEUgAAAEAAAAAPBAMAAACmSdRUAAAAMFBMVEX///92dnYiIiIQEBBERERU\n",
       "VFS6urqIiIjc3NxmZmaqqqru7u6YmJgyMjLMzMwAAADiRdoGAAAAAXRSTlMAQObYZgAAAO5JREFU\n",
       "GNNjYACBtwxYwNH/kVNdEiDs+9gUMJgwMHD+A7N47m/AIs/3h4GB7SeYuWt+A0LcA8Zg/wHU+h3M\n",
       "PFCfgFDwBMZgMWBg2KwNYrFtWH8AoYBnApTBH8DApwq2exvD+wIQzakEBj+hCt7HHHdaAGYlMPRP\n",
       "QHIc1y0IXd/AwG0Kdm3kzHgHZOfvNQNTziBFICPYGBiYLyDJcwRC/PQVpABkN1ARkwHYDXchoAEe\n",
       "DAzxQO9xABXwfkAYwHYBEQx8X4CMJpCXfyC5ABqqvEBTk70ZGLb8v83A5f8J4Y04CMV6/+vMEC9s\n",
       "UdSAygUACNlBmGjrK1sAAAAASUVORK5CYII=\n",
       "\" style=\"display:inline;vertical-align:middle;\" /></a></span></td></tr>\n",
       "<tr><td>&nbsp;</td><td colspan=4 style=\"text-align:left\"><span style=\"font-size:20px;\"><a class=\"ProveItLink\" href=\"../../../../__pv_it/d3792d0d8642fdf1cd2a3a9b32c673ee13653de00/expr.ipynb\"><img src=\"data:image/png;base64,iVBORw0KGgoAAAANSUhEUgAAAA8AAAAOBAMAAAACpFvcAAAALVBMVEX///8iIiIQEBBERERUVFS6\n",
       "urqIiIjc3NxmZmaqqqru7u6YmJgyMjLMzMwAAACK9jtgAAAAAXRSTlMAQObYZgAAAFtJREFUCNdj\n",
       "YACBOwxQcA5Kc59bAGGs7CuAMDbkBYBp1gXzNoAZSxnuJYAZAQx1DSCa16PDzwCshIGB6QCIMYGB\n",
       "gVEBSLMDGTwPgIxCIGZ+zsCw+N0pBk67hw0AfpEVEQi8t+wAAAAASUVORK5CYII=\n",
       "\" style=\"display:inline;vertical-align:middle;\" /></a> : <a class=\"ProveItLink\" href=\"../../../../__pv_it/d3792d0d8642fdf1cd2a3a9b32c673ee13653de00/expr.ipynb\"><img src=\"data:image/png;base64,iVBORw0KGgoAAAANSUhEUgAAAA8AAAAOBAMAAAACpFvcAAAALVBMVEX///8iIiIQEBBERERUVFS6\n",
       "urqIiIjc3NxmZmaqqqru7u6YmJgyMjLMzMwAAACK9jtgAAAAAXRSTlMAQObYZgAAAFtJREFUCNdj\n",
       "YACBOwxQcA5Kc59bAGGs7CuAMDbkBYBp1gXzNoAZSxnuJYAZAQx1DSCa16PDzwCshIGB6QCIMYGB\n",
       "gVEBSLMDGTwPgIxCIGZ+zsCw+N0pBk67hw0AfpEVEQi8t+wAAAAASUVORK5CYII=\n",
       "\" style=\"display:inline;vertical-align:middle;\" /></a>, <a class=\"ProveItLink\" href=\"../../../../__pv_it/4d98b438710c5ada9ffa4646bb123a7d0e69ec000/expr.ipynb\"><img src=\"data:image/png;base64,iVBORw0KGgoAAAANSUhEUgAAABAAAAAOBAMAAADUAYG5AAAALVBMVEX///8yMjKqqqoiIiLu7u7c\n",
       "3NyIiIjMzMwQEBC6urpERERmZmZUVFSYmJgAAACsPVCVAAAAAXRSTlMAQObYZgAAAGxJREFUCNdj\n",
       "YGC48+70nlUTGICgi4GB+zmQZn/LwMD5Gshge8rAwPsMyOBqYGDwMAEy+A4wsNs4ABl1Z68tVgBp\n",
       "ygtgYOkBMVaAOCChNyBGAsQYhnMTIMawvwJyGIHGzFjCwMAj92b3qUUMDAAXABxvZ4rl5AAAAABJ\n",
       "RU5ErkJggg==\n",
       "\" style=\"display:inline;vertical-align:middle;\" /></a> : <a class=\"ProveItLink\" href=\"../../../../__pv_it/4d98b438710c5ada9ffa4646bb123a7d0e69ec000/expr.ipynb\"><img src=\"data:image/png;base64,iVBORw0KGgoAAAANSUhEUgAAABAAAAAOBAMAAADUAYG5AAAALVBMVEX///8yMjKqqqoiIiLu7u7c\n",
       "3NyIiIjMzMwQEBC6urpERERmZmZUVFSYmJgAAACsPVCVAAAAAXRSTlMAQObYZgAAAGxJREFUCNdj\n",
       "YGC48+70nlUTGICgi4GB+zmQZn/LwMD5Gshge8rAwPsMyOBqYGDwMAEy+A4wsNs4ABl1Z68tVgBp\n",
       "ygtgYOkBMVaAOCChNyBGAsQYhnMTIMawvwJyGIHGzFjCwMAj92b3qUUMDAAXABxvZ4rl5AAAAABJ\n",
       "RU5ErkJggg==\n",
       "\" style=\"display:inline;vertical-align:middle;\" /></a></span></td></tr><tr><td><a name=\"0x10c5ddf9dc3f4e65_step3\">3</a></td><td>assumption</td><td></td><td><span style=\"font-size:20px;\"><a class=\"ProveItLink\" href=\"../__pv_it/1ea553d38af7f0e38bb62d4c24279012575f1f120/expr.ipynb\"><img src=\"data:image/png;base64,iVBORw0KGgoAAAANSUhEUgAAACIAAAAVBAMAAADRFiHkAAAAMFBMVEX///+IiIi6urrc3NxERETM\n",
       "zMwQEBCqqqpUVFQiIiJ2dnYyMjLu7u5mZmaYmJgAAABN0h6tAAAAAXRSTlMAQObYZgAAAK5JREFU\n",
       "GNNjYGDgu8cAA7EyIJJnFwMCqAUACb4PEA7rBiDBCyK4JkBEuD/AODCR13/QRHhqP6OJ8DF+QhPR\n",
       "Yf8H4iQACY4NYE0KrB9hFpeBnMDAxMD8F0TvZWAImQzWFHH3xhcQzTER6kwGBQaGbBC9AyTqACTY\n",
       "gXgazBywXeZAvB9mF0iEGSTqb4BwD4//7wMMJf/novkLDCAiCegisPABA3D4MKCEoQKIZEcNZwC8\n",
       "2C7b2utx6wAAAABJRU5ErkJggg==\n",
       "\" style=\"display:inline;vertical-align:middle;\" /></a> <a class=\"ProveItLink\" href=\"../__pv_it/6df2516a358cef7703b5191c8a812f90d132ebab0/proof.ipynb\" style=\"text-decoration: none\">&#x22A2;&nbsp;</a><a class=\"ProveItLink\" href=\"../../../../__pv_it/d3792d0d8642fdf1cd2a3a9b32c673ee13653de00/expr.ipynb\"><img src=\"data:image/png;base64,iVBORw0KGgoAAAANSUhEUgAAAA8AAAAOBAMAAAACpFvcAAAALVBMVEX///8iIiIQEBBERERUVFS6\n",
       "urqIiIjc3NxmZmaqqqru7u6YmJgyMjLMzMwAAACK9jtgAAAAAXRSTlMAQObYZgAAAFtJREFUCNdj\n",
       "YACBOwxQcA5Kc59bAGGs7CuAMDbkBYBp1gXzNoAZSxnuJYAZAQx1DSCa16PDzwCshIGB6QCIMYGB\n",
       "gVEBSLMDGTwPgIxCIGZ+zsCw+N0pBk67hw0AfpEVEQi8t+wAAAAASUVORK5CYII=\n",
       "\" style=\"display:inline;vertical-align:middle;\" /></a></span></td></tr>\n",
       "<tr><td><a name=\"0x10c5ddf9dc3f4e65_step4\">4</a></td><td>theorem</td><td></td><td><span style=\"font-size:20px;\"> <a class=\"ProveItLink\" href=\"iffImpliesRight.ipynb\" style=\"text-decoration: none\">&#x22A2;&nbsp;</a><a class=\"ProveItLink\" href=\"../__pv_it/dfe86cf82d78281ed1e8b684f16e8a2847c2ccaf0/expr.ipynb\"><img src=\"data:image/png;base64,iVBORw0KGgoAAAANSUhEUgAAAMEAAAAWBAMAAACLV+U4AAAAMFBMVEX///8QEBCIiIhmZma6urrM\n",
       "zMxUVFQiIiJERETc3Nzu7u6qqqp2dnaYmJgyMjIAAAAcRTyBAAAAAXRSTlMAQObYZgAAAuJJREFU\n",
       "SMetVUFoE0EUfe5u2uwmaXsQFBQJXuxFG12MIsUGvBRBGzxUbw1opYhotAcRFSMW2YqQeLIo0i0e\n",
       "CjnEQC/2ZKwHpYqsehKpTfFWQUtja5ui9c/sbjKNacXUD7vz5//Zef+//2cHWIc8/OuKUXryTJmo\n",
       "CUBL8MGTr+ILnJ/Xe/pQlwJesfl0TQgNKXuYqebcQPBtUY3QB2imJmpCeG8Pn4rVnF0W0BHCGEVg\n",
       "Av5sTQiXba5GFsum/pLWQglOBjFEhI2n0/dqAlDjNuPS97LtREm7QdibTDREgAXDuFoTghTiw2Hf\n",
       "T6HAIVebB46fIXrI0O3mZr/bC897eAUVd603Vd5BSbaGXSa8Ficp4pllo3yJS8FxeuYnmq8wSCr1\n",
       "IWi83QJ2soEm+Jv4Bu6ukxEh8LfAM0etz9qBqAXB7/viJEjFGYrRnKish8SDeWQnK8fgK4oIWpsl\n",
       "7BAGnppOP3LkTj28IHKX2WgnSFFKS5QLtbLfque28V47siDkvIjgHyYqtRDUHJtdBA5CRKDXNrH8\n",
       "Z21OGyl+adZGUPOdnLigwV2Po9hligjHvHRa2NncyxKagzQtsuSj5wLP/astqfJxqCPeFdZw/aeY\n",
       "qQ77uKtjZ3MMIkJMpkW7DcOYoo+V2Xe3IFb6AT3fhE7IC8ehK2FXGiO8rz+ihbveADtEhEBWmkE7\n",
       "J2SPCX8eUtylL+SciWS52TJOjTBFaJtpIjNuG4Ms/c+vk9x7BxjMCgiZ1pdFnObq0Qi8OahLbrxx\n",
       "aMlfJp4s95YQup3x3PLJsMG2aYiyKNnOsolBNgF935ESEA5AnYN6U9f1/RROYxbK4sq/xgpJVRqG\n",
       "S9oR+tpSb0MtQt0qsKQQ2dTGmfvp9HaaDpq4m6v4860pY6WqLUBNXvNswYuC3hMREJIJDPywoOT4\n",
       "beC/rof7UO2wr3aFVN4dPkH3rvBEoZmr3EBryR9BjK6KUOMt+qHSYP0bwjpF/k/7/AaZ/L6AobDC\n",
       "HgAAAABJRU5ErkJggg==\n",
       "\" style=\"display:inline;vertical-align:middle;\" /></a></span></td></tr>\n",
       "<tr><td>&nbsp;</td><td colspan=4 style-\"text-align:left\"><a class=\"ProveItLink\" href=\"iffImpliesRight.ipynb\">proveit.logic.boolean.implication.iffImpliesRight</a></td></tr><tr><td><a name=\"0x10c5ddf9dc3f4e65_step5\">5</a></td><td>assumption</td><td></td><td><span style=\"font-size:20px;\"><a class=\"ProveItLink\" href=\"../__pv_it/f1249517abb13a455fd388b73ae2537ceffced240/expr.ipynb\"><img src=\"data:image/png;base64,iVBORw0KGgoAAAANSUhEUgAAAFMAAAAVBAMAAADInc9CAAAAMFBMVEX///+IiIi6urrc3NxERETM\n",
       "zMwQEBCqqqpUVFQiIiJ2dnYyMjLu7u5mZmaYmJgAAABN0h6tAAAAAXRSTlMAQObYZgAAAXBJREFU\n",
       "KM9jYGDgu8dACLBePACieHYxEAZMqSCS7wNU5wYsSvj6f9xtcQIyboN4XBMgotwfsBnH5sDAcD+A\n",
       "gWElstLXf7ApjX/AwKB/AVUpT+1nqCw3EEfAlMobMDC8F0BVysf4CSorB8QsAVCOG9CQzAOoSnXY\n",
       "/0G95wCyYw9U6Q8GhsgeIL0MxOEA+5xHgfUjRDIscyYQZB+A6PvxTmQ6iPEeRJSB7WJiYP4LlmTs\n",
       "gahxh/CAHjjWAPIA0Gshk8FiEXdvfAGbPgNqMyfIHQwsCUDl30GsTqDf1MCmKjAwZIOVWCyABEgX\n",
       "mOIHmsgIchk3yGgOkHZ2IJ4GMe7lbhDYGQAPVo5PMLeCQ8AciPdD4/ICyNDNiGCNd4CFAEgpM0i5\n",
       "vwFEugmIeQsg7G1AD6eAAgMWrjz+vw8wlPyfC5E+DcQmEGb3/94bLmBdKGkADpiB+Ax6WoAoTSAi\n",
       "vUKU8n0gRik4vTIQlQuSwBQ7kXkLAEmwYW7uLXXfAAAAAElFTkSuQmCC\n",
       "\" style=\"display:inline;vertical-align:middle;\" /></a> <a class=\"ProveItLink\" href=\"../__pv_it/56c5d5aa544022f48f8296d2e065ba46b76339290/proof.ipynb\" style=\"text-decoration: none\">&#x22A2;&nbsp;</a><a class=\"ProveItLink\" href=\"../__pv_it/639412fc83dccc0c825a7f4479a7068ed18b18c70/expr.ipynb\"><img src=\"data:image/png;base64,iVBORw0KGgoAAAANSUhEUgAAAEAAAAAPBAMAAACmSdRUAAAAMFBMVEX///92dnYiIiIQEBBERERU\n",
       "VFS6urqIiIjc3NxmZmaqqqru7u6YmJgyMjLMzMwAAADiRdoGAAAAAXRSTlMAQObYZgAAAQpJREFU\n",
       "GNNjYACBtwxYwNH/kVNdEiDs+9gUMJgwMHD+A7N47m/AIs/3h4GB7SeYuWt+A1TwAlA8AMpm/wHU\n",
       "+h3MPFAPtYr9AJDwgypgMWBg2KwNYrFtWH8AIvYEROyF2scfwMCnCmZvY3hfALHVWAkIlG9DFLyP\n",
       "Oe60AMxKYOifAGaUQvQ+gQjXNzBwm4L1Rc6MdwAxNsGcpwImnUGKQGrZGBiYL4BEOAIh8lsFwNRX\n",
       "kAKQ3UBFTAaQ8NC9CwJ68GBgiAd6jwOogPcDRO9JsC8a4MHA9wXIaAJ5+QdEASsoPGZB2LxAU5O9\n",
       "GRi2/L/NwOX/CeINbqBbOBwgau9/nRnihRH+QNO5UeMFAE9FRwBt4bk1AAAAAElFTkSuQmCC\n",
       "\" style=\"display:inline;vertical-align:middle;\" /></a></span></td></tr>\n",
       "</table>"
      ],
      "text/plain": [
       "\tstep type\trequirements\tstatement\n",
       "0\tgeneralizaton\t1\t|- forall_{A, B | A, A <=> B} B\n",
       "1\tmodus ponens\t2, 3\t{A, A <=> B} |- B\n",
       "2\tinstantiation\t4, 5\t{A <=> B} |- A => B\n",
       "\tA : A, B : B\n",
       "3\tassumption\t\t{A} |- A\n",
       "4\ttheorem\t\t|- forall_{A, B | A <=> B} (A => B)\n",
       "\tproveit.logic.boolean.implication.iffImpliesRight\n",
       "5\tassumption\t\t{A <=> B} |- A <=> B"
      ]
     },
     "execution_count": 3,
     "metadata": {},
     "output_type": "execute_result"
    }
   ],
   "source": [
    "%qed"
   ]
  },
  {
   "cell_type": "code",
   "execution_count": null,
   "metadata": {},
   "outputs": [],
   "source": []
  }
 ],
 "metadata": {
  "kernelspec": {
   "display_name": "Python 3",
   "language": "python",
   "name": "python3"
  }
 },
 "nbformat": 4,
 "nbformat_minor": 0
}
