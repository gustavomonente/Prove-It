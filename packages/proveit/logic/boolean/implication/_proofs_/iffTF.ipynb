{
 "cells": [
  {
   "cell_type": "markdown",
   "metadata": {},
   "source": [
    "Proof of <a class=\"ProveItLink\" href=\"../../../../_context_.ipynb\">proveit</a>.<a class=\"ProveItLink\" href=\"../../../_context_.ipynb\">logic</a>.<a class=\"ProveItLink\" href=\"../../_context_.ipynb\">boolean</a>.<a class=\"ProveItLink\" href=\"../_context_.ipynb\">implication</a>.<a href=\"../_theorems_.ipynb#iffTF\" class=\"ProveItLink\">iffTF</a> theorem\n",
    "========"
   ]
  },
  {
   "cell_type": "code",
   "execution_count": 1,
   "metadata": {},
   "outputs": [],
   "source": [
    "import proveit\n",
    "from proveit._common_ import A, B\n",
    "from proveit.logic import TRUE, FALSE\n",
    "from proveit.logic.boolean.implication._axioms_ import iffDef\n",
    "from proveit.logic.equality._theorems_ import subRightSideInto, substituteInTrue, substituteInFalse\n",
    "substituteInTrue.proof().disable(); substituteInFalse.proof().disable() # disable these to avoid longer proof\n",
    "context = proveit.Context('..') # the theorem's context is in the parent directory"
   ]
  },
  {
   "cell_type": "code",
   "execution_count": 2,
   "metadata": {},
   "outputs": [
    {
     "name": "stdout",
     "output_type": "stream",
     "text": [
      "Beginning proof of iffTF\n",
      "Recorded 'presuming' information\n"
     ]
    },
    {
     "name": "stdout",
     "output_type": "stream",
     "text": [
      "Presuming proveit.logic.boolean.conjunction.nandIfRightButNotLeft, proveit.logic.equality.subRightSideInto theorems (applied transitively).\n",
      "Presuming previous theorems (applied transitively).\n"
     ]
    },
    {
     "data": {
      "text/html": [
       "<strong id=\"iffTF\">iffTF:</strong> <a class=\"ProveItLink\" href=\"../__pv_it/66800b56595dfb98cb6339580d262380e788d77a0/expr.ipynb\"><img src=\"data:image/png;base64,iVBORw0KGgoAAAANSUhEUgAAAHoAAAAUBAMAAACwiTT9AAAAMFBMVEX////MzMxUVFR2dna6uroQ\n",
       "EBCqqqqIiIgiIiJmZmYyMjJERETu7u6YmJjc3NwAAACgK8IjAAAAAXRSTlMAQObYZgAAAQxJREFU\n",
       "OMtjYOC7wEAI5OGWOs3AMKMDBJqwyYqBCKYHuGQY1oHJdBxmg8V5FuCS4Z1AWDeDOS4ZjgdouoH2\n",
       "MCqg6T6KS/cLBlTd7KBA3Iimm8sBh+5KNN3SIOLUAVTdzBNw6N6LqpsxFBT8rWtQdfOCg81qFQis\n",
       "RJZpQ9VdBLFVOgFFN1sDDrtDUHSfgIVXN4puxg9E6eZThtCHDIjTjeZy3i6w5xpR/c3SgPD3Ijyh\n",
       "xnATHOYPsIUaFrst0XQzgaJ2Glp8cxrg0O0BYfvCBEFpmm8DhA3MPaHg3MMlgKYVJsOBnn+AfJ4D\n",
       "aGIncGVQ3gkMhIE5Tpl9hDVjzaHw0oEQ4H6AU4qIkukeLgkAyopRpuBKgI0AAAAASUVORK5CYII=\n",
       "\" style=\"display:inline;vertical-align:middle;\" /></a><br>(see <a class=\"ProveItLink\" href=\"../__pv_it/66800b56595dfb98cb6339580d262380e788d77a0/dependencies.ipynb\">dependencies</a>)<br>"
      ],
      "text/plain": [
       "iffTF: (TRUE <=> FALSE) = FALSE"
      ]
     },
     "execution_count": 2,
     "metadata": {},
     "output_type": "execute_result"
    }
   ],
   "source": [
    "%proving iffTF presuming [subRightSideInto, proveit.logic.boolean.conjunction.nandIfRightButNotLeft]"
   ]
  },
  {
   "cell_type": "code",
   "execution_count": 3,
   "metadata": {},
   "outputs": [
    {
     "data": {
      "text/html": [
       "<span style=\"font-size:20px;\"> <a class=\"ProveItLink\" href=\"../_axioms_.ipynb#iffDef\" style=\"text-decoration: none\">&#x22A2;&nbsp;</a><a class=\"ProveItLink\" href=\"../__pv_it/7e13510ad32a73fabb39fbd3d838d36a55d815580/expr.ipynb\"><img src=\"data:image/png;base64,iVBORw0KGgoAAAANSUhEUgAAAXkAAAAVBAMAAABRbIObAAAAMFBMVEX///8QEBCIiIhmZma6urrM\n",
       "zMxUVFQiIiJERETc3Nzu7u6qqqp2dnaYmJgyMjIAAAAcRTyBAAAAAXRSTlMAQObYZgAAA8xJREFU\n",
       "SMfVl09oE0EUxj+TbNNNmrQHUUGRgAe9aAuFetOoB0VQ40U8aUALRRQrQgtWUU+2/iF7qoJgVxQs\n",
       "FarQi15U9CBakaCgFFEiHqQKtjRaa6XW+fdmk+0kTVsvfvC1Yd/8Zt/OvJnZBcrJzkrPovv/jqyQ\n",
       "Ief4hfclGvYqM+0zxd9MH2jqTKLK+WdkrxczyWLpcoY8yC9+KZH9sDLTiLHBMiD4A5HcgkmngFMx\n",
       "k+KjEAz5Cp+uM+bkYw3S/OeIaxqKKSCUBx4vmPzkcTpm0IdJSEY5zvquuWvOPuxIM93eqEYnzryH\n",
       "GgR+sRuOAdcrIbm6SpDWOVdzOqZU7fGRARYSjHLseV/f5RKFc1mZKVuvCnEt7y9FHdexPk6wR0pW\n",
       "QHLthZms2pzQnI7RNHmVEQt8h2TIE52dJ0tkv0qZTaT7MOt1FaF1UpuG1cYnr2F20qsMA9mPVs3p\n",
       "GOm1/rU9yopKMORmmk/5d1v+SQtN1SVl4Cb2y8HZvbSdaaXqe/+RV+d41cX44qv5JtRgJoPtQlTO\n",
       "RSTfOwb1HXUMWC+Y0/TIkaQ1phjyFrXwY9/l6NShpk617lAGkugRXQQOyRm4IBvUO4gsYf+jrb6x\n",
       "n0kqRb8ayVZc05yOaT1Q6zIEO68YchgBMbU3pkSLYBrRSUUtVoZ1oPGoKJk2WpWyFs/ye7GurVFf\n",
       "9jNIrf7FBjKWQFWKOB3zFutHuTr2NDZNQDLkmmxYhJ4fl3klEMz5cwgBi8TF7keyu8OywTi/T6Jc\n",
       "9pqks/SwYyDDLqy0zp5iWt3PoOYRK33Z2zmxAVqJTtHiTgrrXP/8s4EIy3J6K2r7c0pv2jjK+gy1\n",
       "enWfNpNBGf3mGEgM0DnVURgDNkhGHXtR5mOQDBldB8WehfWiya61a9LwrVr7rjzlaNOIDHubtjXh\n",
       "rT1PBlJWbs5IDqsnEIyOkXaq/1fVwV24ajEgHv8d6kWTl8Bqwp4o8124+pe8xh81qIoyzkZ103l+\n",
       "4ZEvexMpqt41kWIbDruK0TGqerU/2zzPjCMZMmp5iUU+vciIni8CPbRitkr3Tn9BNPOTdmb5dsGn\n",
       "a2S8sUXsPvGUL3sTydVsJKt4mQQSkvFiSnI9I5L54+Le9HHJkBHjWQdd9IhWv1nxODPPe2/ZMff5\n",
       "j7VbZd4UiuQYyZD4mYKZsU3MraK77mBzkLXPw56EvcLwrlVe5d7S5kRWzDwuZKsnYGdOWcvxNN/Y\n",
       "kix6qeqavTvDG/J8yQoZcpGipb8xyqm67NfJnMgKGXLZD7UKv++G5v1lODSPL8OhAhcpi/9LfwF9\n",
       "GoUpN6fzvwAAAABJRU5ErkJggg==\n",
       "\" style=\"display:inline;vertical-align:middle;\" /></a></span>"
      ],
      "text/plain": [
       "|- forall_{A, B} ((A <=> B) = ((A => B) and (B => A)))"
      ]
     },
     "execution_count": 3,
     "metadata": {},
     "output_type": "execute_result"
    }
   ],
   "source": [
    "iffDef"
   ]
  },
  {
   "cell_type": "code",
   "execution_count": 4,
   "metadata": {},
   "outputs": [
    {
     "data": {
      "text/html": [
       "<strong id=\"iffDefTF\">iffDefTF:</strong> <span style=\"font-size:20px;\"> <a class=\"ProveItLink\" href=\"../__pv_it/ba7d6040033dc857a44adb2a6671749706cd438c0/proof.ipynb\" style=\"text-decoration: none\">&#x22A2;&nbsp;</a><a class=\"ProveItLink\" href=\"../__pv_it/f2e9613416e45b1b4dff0c84b244bbb059c410400/expr.ipynb\"><img src=\"data:image/png;base64,iVBORw0KGgoAAAANSUhEUgAAATEAAAAUBAMAAAAXXRdqAAAAMFBMVEX////MzMxUVFR2dna6uroQ\n",
       "EBCqqqqIiIgiIiJmZmYyMjJERETu7u6YmJjc3NwAAACgK8IjAAAAAXRSTlMAQObYZgAAAnZJREFU\n",
       "SMedlr9r21AQx0+qY8s/ZDx1yZKSfyBTQzoEbwmFbM6erbRDCd2yuYWG0kKrqYRMIZBATTDu1iXF\n",
       "FArGXrJmMaJTKBS6dut7d8+W3r1TJPvM17Kf7qP7Snq/AJo3kBcvhbY/RguSBashN4HqO4w1Ke2h\n",
       "/vJjp70xQJ0g+aY4OUnO8ZhdSzPI9XVr+TDjBp6hjTOnvRaTTEYuOXPYh0KMVhjlO4NNp/3WKKfK\n",
       "nPxCB6pWgFEKYuZMufXWWO5P5xofjViVeiyT3rchHqmazXwHgVG6A9tZRXfRryy31uYduUviVbyB\n",
       "TPo7VOAOXGYVBEbpiDnDvPHQzn0QMWeViOS8mVsQyTHQbRwJzsJIYJSubWfevh4gb6/s3BA78pOe\n",
       "Duwx9RtSqgoNrU+RRMJj9dFxbTkzk8I/cBmlY9vZK3paqwdWbrnLnllwQHJ78wuR7MJvPB4LzwzK\n",
       "l+AwSh3L2WjW9z9Yud5f5mylTXKdNS7aLhkegt/SPzqSMxh3nGpKtrPmOh1/bCzr7Ne2QAZDM95F\n",
       "Z831WHLG3mb4HjvTa/v5lrpJPzvPeJuneLbXl8jnsznWfptVQnqxyyixEUCDaxyL/Tg1b7kjgOIp\n",
       "SGTfuGMjgKJ0Jo+ALebM1+/oM8utbjBnZmA7VRpXEomzXKDH1pbgLJmiUozSLvmebwH0itUczCeC\n",
       "fVyvay3mzDxwHXvpdr8lkXi3FX3zu+lzJh4lOF1LM0oB3w2o/40haxvdszrZnRkksoQ/W8nqxAu6\n",
       "zMiagbPjvhV9IbJwtU17Qc0KYRekl+56vDhZsBpyk/zceubOcWGyYDXkCux/p0vvtqdL7LanpP+R\n",
       "RuXUQBPJeQAAAABJRU5ErkJggg==\n",
       "\" style=\"display:inline;vertical-align:middle;\" /></a></span><br>"
      ],
      "text/plain": [
       "iffDefTF: |- (TRUE <=> FALSE) = ((TRUE => FALSE) and (FALSE => TRUE))"
      ]
     },
     "execution_count": 4,
     "metadata": {},
     "output_type": "execute_result"
    }
   ],
   "source": [
    "iffDefTF = iffDef.specialize({A:TRUE, B:FALSE})"
   ]
  },
  {
   "cell_type": "code",
   "execution_count": 5,
   "metadata": {},
   "outputs": [
    {
     "name": "stdout",
     "output_type": "stream",
     "text": [
      "iffTF has been proven.  Now simply execute \"%qed\".\n"
     ]
    },
    {
     "data": {
      "text/html": [
       "<span style=\"font-size:20px;\"> <a class=\"ProveItLink\" href=\"../__pv_it/aae9186b9c06c483b0434fae6905c17d2976e13c0/proof.ipynb\" style=\"text-decoration: none\">&#x22A2;&nbsp;</a><a class=\"ProveItLink\" href=\"../__pv_it/66800b56595dfb98cb6339580d262380e788d77a0/expr.ipynb\"><img src=\"data:image/png;base64,iVBORw0KGgoAAAANSUhEUgAAAHoAAAAUBAMAAACwiTT9AAAAMFBMVEX////MzMxUVFR2dna6uroQ\n",
       "EBCqqqqIiIgiIiJmZmYyMjJERETu7u6YmJjc3NwAAACgK8IjAAAAAXRSTlMAQObYZgAAAQxJREFU\n",
       "OMtjYOC7wEAI5OGWOs3AMKMDBJqwyYqBCKYHuGQY1oHJdBxmg8V5FuCS4Z1AWDeDOS4ZjgdouoH2\n",
       "MCqg6T6KS/cLBlTd7KBA3Iimm8sBh+5KNN3SIOLUAVTdzBNw6N6LqpsxFBT8rWtQdfOCg81qFQis\n",
       "RJZpQ9VdBLFVOgFFN1sDDrtDUHSfgIVXN4puxg9E6eZThtCHDIjTjeZy3i6w5xpR/c3SgPD3Ijyh\n",
       "xnATHOYPsIUaFrst0XQzgaJ2Glp8cxrg0O0BYfvCBEFpmm8DhA3MPaHg3MMlgKYVJsOBnn+AfJ4D\n",
       "aGIncGVQ3gkMhIE5Tpl9hDVjzaHw0oEQ4H6AU4qIkukeLgkAyopRpuBKgI0AAAAASUVORK5CYII=\n",
       "\" style=\"display:inline;vertical-align:middle;\" /></a></span>"
      ],
      "text/plain": [
       "|- (TRUE <=> FALSE) = FALSE"
      ]
     },
     "execution_count": 5,
     "metadata": {},
     "output_type": "execute_result"
    }
   ],
   "source": [
    "iffDefTF.innerExpr().rhs.evaluate()"
   ]
  },
  {
   "cell_type": "code",
   "execution_count": 6,
   "metadata": {},
   "outputs": [
    {
     "data": {
      "text/html": [
       "<table><tr><th>&nbsp;</th><th>step type</th><th>requirements</th><th>statement</th></tr>\n",
       "<tr><td><a name=\"-0x34dbee07418ee373_step0\">0</a></td><td>instantiation</td><td><a href=\"#-0x34dbee07418ee373_step1\">1</a>, <a href=\"#-0x34dbee07418ee373_step2\">2</a>, <a href=\"#-0x34dbee07418ee373_step3\">3</a></td><td><span style=\"font-size:20px;\"> <a class=\"ProveItLink\" href=\"../__pv_it/aae9186b9c06c483b0434fae6905c17d2976e13c0/proof.ipynb\" style=\"text-decoration: none\">&#x22A2;&nbsp;</a><a class=\"ProveItLink\" href=\"../__pv_it/66800b56595dfb98cb6339580d262380e788d77a0/expr.ipynb\"><img src=\"data:image/png;base64,iVBORw0KGgoAAAANSUhEUgAAAHoAAAAUBAMAAACwiTT9AAAAMFBMVEX////MzMxUVFR2dna6uroQ\n",
       "EBCqqqqIiIgiIiJmZmYyMjJERETu7u6YmJjc3NwAAACgK8IjAAAAAXRSTlMAQObYZgAAAQxJREFU\n",
       "OMtjYOC7wEAI5OGWOs3AMKMDBJqwyYqBCKYHuGQY1oHJdBxmg8V5FuCS4Z1AWDeDOS4ZjgdouoH2\n",
       "MCqg6T6KS/cLBlTd7KBA3Iimm8sBh+5KNN3SIOLUAVTdzBNw6N6LqpsxFBT8rWtQdfOCg81qFQis\n",
       "RJZpQ9VdBLFVOgFFN1sDDrtDUHSfgIVXN4puxg9E6eZThtCHDIjTjeZy3i6w5xpR/c3SgPD3Ijyh\n",
       "xnATHOYPsIUaFrst0XQzgaJ2Glp8cxrg0O0BYfvCBEFpmm8DhA3MPaHg3MMlgKYVJsOBnn+AfJ4D\n",
       "aGIncGVQ3gkMhIE5Tpl9hDVjzaHw0oEQ4H6AU4qIkukeLgkAyopRpuBKgI0AAAAASUVORK5CYII=\n",
       "\" style=\"display:inline;vertical-align:middle;\" /></a></span></td></tr>\n",
       "<tr><td>&nbsp;</td><td colspan=4 style=\"text-align:left\"><span style=\"font-size:20px;\"><a class=\"ProveItLink\" href=\"../__pv_it/0b28339a9470b3064675e3d630fe626bc057a2440/expr.ipynb\"><img src=\"data:image/png;base64,iVBORw0KGgoAAAANSUhEUgAAADcAAAAUBAMAAADbzbjtAAAAMFBMVEX///8iIiLc3Ny6urqIiIiq\n",
       "qqp2dnbMzMwQEBDu7u5mZmYyMjJERERUVFSYmJgAAAA4CJ/KAAAAAXRSTlMAQObYZgAAAQ1JREFU\n",
       "KM9jYIADpgcMyCAITL79f/burgkMDHNQ5Bh4FcDUbwYGnk4Ghk2okpwbQCT7NwYG1i8MfAtQJRlS\n",
       "QATLZyD+xsCogCY5A0TwfABa8JlBEU2OgdsASPADDddfwOCF5O5lS4BuYAPZU5/AwCrGwHAOIWmh\n",
       "wA00jQ/kIv9raUuAPhFFuLOPgesA0JECQPb5CWChZrgk108GRgegL4C6GT4yoElyHGCYXwCRZP8F\n",
       "EUIYOz+BIR5IMQtAvAkCCAfND2C4zaoAdhD3T4hQFlySx4FPlg1odQID1/6/DmAhQ6BBZ4DgJAPn\n",
       "FXddZ6CuAoTnMIJvIhIbe8DDwCFsUQYDaJHNg2INWjJ5xMAAAHA6PhPQZp1jAAAAAElFTkSuQmCC\n",
       "\" style=\"display:inline;vertical-align:middle;\" /></a> : <a class=\"ProveItLink\" href=\"../__pv_it/2dab528b183af4abe8c58737ec667d85af5b7b480/expr.ipynb\"><img src=\"data:image/png;base64,iVBORw0KGgoAAAANSUhEUgAAAIMAAAAUBAMAAABc0JOuAAAAMFBMVEX////MzMxUVFR2dna6uroQ\n",
       "EBCqqqqIiIgiIiJmZmYyMjJERETu7u6YmJjc3NwAAACgK8IjAAAAAXRSTlMAQObYZgAAAU1JREFU\n",
       "OMtjYOC7wEAI5BGQP83A2QEGCthkxUAE0wP8RqwDEWwFOGTTQQTPArwm8E4gbASDOV4jOB6gGQG0\n",
       "kVEBzYijeI14wYBqBDsodDeiGcHlgM+ISjQjpEHEqQOoRjBPwK6Zb/L0GAaGvahGMIaCIqd1DaoR\n",
       "vODwtFoFAiuRjHB9wPWBgaEN1YgiiP3SCShGsDVgdQRPLAPnBgaGEBQjTsACshvFCMYPWI3g/MPA\n",
       "UYBuBJ8yhD5kQIwRrBsYzgtgeIS3C+zhRtSwYGlAhMUihBHnDRjyGTCCk+EmOEYeYAtODHA+gUGL\n",
       "7QGDJZoRTKAkMA0tXXAaYDWCu4C3iZmBwQPiUnh2BeUHvg0Q9oyODmAcNwGTlgCqXpbdQLCHgUe9\n",
       "8FEJLIEjASCf5wCa2AkishkBgD+bMewjbAKBzA4scggCbgJFDhEF3z28sgC84lxFxDFVigAAAABJ\n",
       "RU5ErkJggg==\n",
       "\" style=\"display:inline;vertical-align:middle;\" /></a>, <a class=\"ProveItLink\" href=\"../../../../__pv_it/72df168d2bfb4e0140af90912ebf83b13772060b0/expr.ipynb\"><img src=\"data:image/png;base64,iVBORw0KGgoAAAANSUhEUgAAAAsAAAAJBAMAAAAWSsseAAAALVBMVEX///9mZmaqqqrMzMxEREQy\n",
       "MjIiIiKYmJh2dna6urrc3NxUVFSIiIju7u4AAACJHQtQAAAAAXRSTlMAQObYZgAAAEJJREFUCNdj\n",
       "YLhzeuWJAwy8Dew5bAEMHBc43nIuYOBlYHFgAAG+A2DKzgBIMF04x8BzgWGegh/DcgaG22fuiBcw\n",
       "AAATyhBrnyPYZQAAAABJRU5ErkJggg==\n",
       "\" style=\"display:inline;vertical-align:middle;\" /></a> : <a class=\"ProveItLink\" href=\"../__pv_it/8effe994a020c5ef887802c1c8b179d41666166a0/expr.ipynb\"><img src=\"data:image/png;base64,iVBORw0KGgoAAAANSUhEUgAAALUAAAAUBAMAAAA5PWHRAAAAMFBMVEX////MzMxUVFR2dna6uroQ\n",
       "EBCqqqqIiIgiIiJmZmYyMjJERETu7u6YmJjc3NwAAACgK8IjAAAAAXRSTlMAQObYZgAAAYdJREFU\n",
       "OMudla9Pw0AUgF/LUtqxLVMYzAj/AIoFh2MGVxIkjmDI7NxCwlKJRFaRgFiQmC41JKQ1/AWkkqBm\n",
       "cfTea7fd3Tuu4Zb0ei/v+3o/dncAvQ+wlRs10JTJAR4iUW65lF3xcAslmouHc8kBtQuZOYauDJ/H\n",
       "eCeuWvU3kPHGNqZ7b3fDsGo9UUXM327B+IXuXqh5b9RwXlOsiZHdHPMFuntPzWufYOWeko4Y2c0x\n",
       "E8ZdzdM6vkWBDKZYTxg3xySSO8BVjn6UvC4t5lH5EyWR3GZmxvQbvEc5z6P+TuEb6xnTb44JOTdk\n",
       "oZTnLLEnY3D74iXk3AzDunsHBeP2U3AGRjfDyHMSPFMp5PG1cE6u610jz4mZSZh+t2J2LeeVX1lL\n",
       "M3PMuLNUyQsOxSBfaF6gYmQ3x4yofbaZt78+d87xDGuLJXTFBtoWwhH+8e4uomigMStXyfiFfiBo\n",
       "oXccNb72V3vezmzsJ3MZys3GzMKe1omVQFMmt+ftsHdDA6bB/fT5jzutZH4BV9+EDC9OqWIAAAAA\n",
       "SUVORK5CYII=\n",
       "\" style=\"display:inline;vertical-align:middle;\" /></a>, <a class=\"ProveItLink\" href=\"../../../../__pv_it/c6e291955561f22a0e6708fd793ea93f1c7dbb5d0/expr.ipynb\"><img src=\"data:image/png;base64,iVBORw0KGgoAAAANSUhEUgAAAAsAAAANBAMAAACN24kIAAAAMFBMVEX///8iIiKYmJhUVFTMzMxE\n",
       "REQyMjKqqqq6urp2dnYQEBDc3NxmZmaIiIju7u4AAACH5sGpAAAAAXRSTlMAQObYZgAAAFlJREFU\n",
       "CNdj4LtzgWHXAwZOjgUM9xkYtvMkMIQyMDzgusDwl4GBof8ByxcgdYyBdwGQCmZgNQBShxn6FYDU\n",
       "47vnNzAwgGUZGJgT+H4AKUYF1gtAiuPuESAJAJGkFvXVdzA+AAAAAElFTkSuQmCC\n",
       "\" style=\"display:inline;vertical-align:middle;\" /></a> : <a class=\"ProveItLink\" href=\"../../__pv_it/83a1ddf0f64531c80e7f41ea6b904214668818b30/expr.ipynb\"><img src=\"data:image/png;base64,iVBORw0KGgoAAAANSUhEUgAAAA4AAAAOBAMAAADtZjDiAAAAG1BMVEX///9UVFQQEBAiIiJmZmaI\n",
       "iIiqqqrMzMwAAADC2JlRAAAAAXRSTlMAQObYZgAAABlJREFUCNdjYGBgKGOAgFRa0s7GxkrGxoYA\n",
       "QSUGlQeagkgAAAAASUVORK5CYII=\n",
       "\" style=\"display:inline;vertical-align:middle;\" /></a></span></td></tr><tr><td><a name=\"-0x34dbee07418ee373_step1\">1</a></td><td>theorem</td><td></td><td><span style=\"font-size:20px;\"> <a class=\"ProveItLink\" href=\"../../../equality/_proofs_/subRightSideInto.ipynb\" style=\"text-decoration: none\">&#x22A2;&nbsp;</a><a class=\"ProveItLink\" href=\"../../../equality/__pv_it/5d161ed0bb50bfaa8aacdb2a1c3236bdaab607b10/expr.ipynb\"><img src=\"data:image/png;base64,iVBORw0KGgoAAAANSUhEUgAAAL4AAAAWBAMAAACMFTstAAAAMFBMVEX///8QEBCIiIhmZma6urrM\n",
       "zMxUVFQiIiJERETc3Nzu7u6qqqp2dnaYmJgyMjIAAAAcRTyBAAAAAXRSTlMAQObYZgAAAu1JREFU\n",
       "SMe1VU1oE1EQ/rrZ3WQ3aVo82kukoFCrlqKgIBIrqAel0YMnMaHYglJLD14sCkGhpIXa3OxFGlQE\n",
       "e7ABRfEW2oNQS4konlQW1INCbbCl2lp/Zt57m2yNCypxYDPzJvO+nTfzvVngf8h1qcJZwGHjVW1g\n",
       "X/wY7HmTA+y0cpwBnrD+UKO8vwOhjUA0q9Z3gTFSVro28MYa1eQT8Mx1RGKI0nki+drga0v00Dsu\n",
       "uA67EfUzExPXalSeUAkwl2D1lz1vgS+ZzMU/226J34R/QAORZbwNWhtwox0WdWIa6AaGAH20d/fZ\n",
       "qg26VIeXpwepjAWxuO+PnywgTLmGihS7Hxqd5jVwADZz9CnwuPrAUtU3ItIPU7IikPXF39E72055\n",
       "BPOw8vsQItY8pBU0eh966G8/fDPFyZxUPUv54o/mhKqLw8YGNMToRESeYpCdl4CMH36wyMl0K+d7\n",
       "X/zPcPGhryKZEPiWc4KzWoE2QC9rPs4wHSkMePAns9iSA7FiatfmBLaxS1hS3GAYiyodonvAwSYy\n",
       "D9EzdJo7udbKN7nFdM6TKqwajR78zqnZPLNOy/UF43jATGfLzJCMlIMF/cUuqncohUGI/uIe0zXi\n",
       "SPJFuRfWrX4t7cGfE1xKw8A8s4lTFZZkrRuM6Kq6tcTPQEr/RuZeZm2MkdoUhQU7AgUz5sG/IvC5\n",
       "ryv0nBK+lXLV3eDAwnJMspoStruaOeIds4+73qBGRFLcn2C8LuHB/yqqS0kaJQM4KFZkmR9J5svB\n",
       "FRHzgToAu3yTk5S3NWyV5lCwhhFMdHr4Y4hcKXY84kSAlxjLSUu1UwVXhOZbHybjYr6pybSwh3Ca\n",
       "7HNHWnNGE/Suqx787YuiaAO4/XxqBtiJY3lpqUuugj20zhLdL8v57JWwq+5gxMt/KVuVpnOvm7du\n",
       "cEXo+9LRzDUbWu9/5Kpe3anGV4twUXz3KuIGV38f638ZJUVXHZ1FNb4u/75J+9btcoP/QQK/OV7L\n",
       "XyH8BE6swAxF4PihAAAAAElFTkSuQmCC\n",
       "\" style=\"display:inline;vertical-align:middle;\" /></a></span></td></tr>\n",
       "<tr><td>&nbsp;</td><td colspan=4 style-\"text-align:left\"><a class=\"ProveItLink\" href=\"../../../equality/_proofs_/subRightSideInto.ipynb\">proveit.logic.equality.subRightSideInto</a></td></tr><tr><td><a name=\"-0x34dbee07418ee373_step2\">2</a></td><td>instantiation</td><td><a href=\"#-0x34dbee07418ee373_step4\">4</a></td><td><span style=\"font-size:20px;\"> <a class=\"ProveItLink\" href=\"../__pv_it/ba7d6040033dc857a44adb2a6671749706cd438c0/proof.ipynb\" style=\"text-decoration: none\">&#x22A2;&nbsp;</a><a class=\"ProveItLink\" href=\"../__pv_it/f2e9613416e45b1b4dff0c84b244bbb059c410400/expr.ipynb\"><img src=\"data:image/png;base64,iVBORw0KGgoAAAANSUhEUgAAATEAAAAUBAMAAAAXXRdqAAAAMFBMVEX////MzMxUVFR2dna6uroQ\n",
       "EBCqqqqIiIgiIiJmZmYyMjJERETu7u6YmJjc3NwAAACgK8IjAAAAAXRSTlMAQObYZgAAAnZJREFU\n",
       "SMedlr9r21AQx0+qY8s/ZDx1yZKSfyBTQzoEbwmFbM6erbRDCd2yuYWG0kKrqYRMIZBATTDu1iXF\n",
       "FArGXrJmMaJTKBS6dut7d8+W3r1TJPvM17Kf7qP7Snq/AJo3kBcvhbY/RguSBashN4HqO4w1Ke2h\n",
       "/vJjp70xQJ0g+aY4OUnO8ZhdSzPI9XVr+TDjBp6hjTOnvRaTTEYuOXPYh0KMVhjlO4NNp/3WKKfK\n",
       "nPxCB6pWgFEKYuZMufXWWO5P5xofjViVeiyT3rchHqmazXwHgVG6A9tZRXfRryy31uYduUviVbyB\n",
       "TPo7VOAOXGYVBEbpiDnDvPHQzn0QMWeViOS8mVsQyTHQbRwJzsJIYJSubWfevh4gb6/s3BA78pOe\n",
       "Duwx9RtSqgoNrU+RRMJj9dFxbTkzk8I/cBmlY9vZK3paqwdWbrnLnllwQHJ78wuR7MJvPB4LzwzK\n",
       "l+AwSh3L2WjW9z9Yud5f5mylTXKdNS7aLhkegt/SPzqSMxh3nGpKtrPmOh1/bCzr7Ne2QAZDM95F\n",
       "Z831WHLG3mb4HjvTa/v5lrpJPzvPeJuneLbXl8jnsznWfptVQnqxyyixEUCDaxyL/Tg1b7kjgOIp\n",
       "SGTfuGMjgKJ0Jo+ALebM1+/oM8utbjBnZmA7VRpXEomzXKDH1pbgLJmiUozSLvmebwH0itUczCeC\n",
       "fVyvay3mzDxwHXvpdr8lkXi3FX3zu+lzJh4lOF1LM0oB3w2o/40haxvdszrZnRkksoQ/W8nqxAu6\n",
       "zMiagbPjvhV9IbJwtU17Qc0KYRekl+56vDhZsBpyk/zceubOcWGyYDXkCux/p0vvtqdL7LanpP+R\n",
       "RuXUQBPJeQAAAABJRU5ErkJggg==\n",
       "\" style=\"display:inline;vertical-align:middle;\" /></a></span></td></tr>\n",
       "<tr><td>&nbsp;</td><td colspan=4 style=\"text-align:left\"><span style=\"font-size:20px;\"><a class=\"ProveItLink\" href=\"../../../../__pv_it/d3792d0d8642fdf1cd2a3a9b32c673ee13653de00/expr.ipynb\"><img src=\"data:image/png;base64,iVBORw0KGgoAAAANSUhEUgAAAA8AAAAOBAMAAAACpFvcAAAALVBMVEX///8iIiIQEBBERERUVFS6\n",
       "urqIiIjc3NxmZmaqqqru7u6YmJgyMjLMzMwAAACK9jtgAAAAAXRSTlMAQObYZgAAAFtJREFUCNdj\n",
       "YACBOwxQcA5Kc59bAGGs7CuAMDbkBYBp1gXzNoAZSxnuJYAZAQx1DSCa16PDzwCshIGB6QCIMYGB\n",
       "gVEBSLMDGTwPgIxCIGZ+zsCw+N0pBk67hw0AfpEVEQi8t+wAAAAASUVORK5CYII=\n",
       "\" style=\"display:inline;vertical-align:middle;\" /></a> : <a class=\"ProveItLink\" href=\"../../__pv_it/b5b8ce0f03ab68a7c7bb937dfeb4112a686e3cbb0/expr.ipynb\"><img src=\"data:image/png;base64,iVBORw0KGgoAAAANSUhEUgAAAA4AAAAOBAMAAADtZjDiAAAAG1BMVEX///+YmJi6urqIiIiqqqpU\n",
       "VFQiIiJmZmYAAAD2GhH1AAAAAXRSTlMAQObYZgAAABhJREFUCNdjKEsDgVQGIHBmgABa0YpADADk\n",
       "ogYfXGfJdgAAAABJRU5ErkJggg==\n",
       "\" style=\"display:inline;vertical-align:middle;\" /></a>, <a class=\"ProveItLink\" href=\"../../../../__pv_it/4d98b438710c5ada9ffa4646bb123a7d0e69ec000/expr.ipynb\"><img src=\"data:image/png;base64,iVBORw0KGgoAAAANSUhEUgAAABAAAAAOBAMAAADUAYG5AAAALVBMVEX///8yMjKqqqoiIiLu7u7c\n",
       "3NyIiIjMzMwQEBC6urpERERmZmZUVFSYmJgAAACsPVCVAAAAAXRSTlMAQObYZgAAAGxJREFUCNdj\n",
       "YGC48+70nlUTGICgi4GB+zmQZn/LwMD5Gshge8rAwPsMyOBqYGDwMAEy+A4wsNs4ABl1Z68tVgBp\n",
       "ygtgYOkBMVaAOCChNyBGAsQYhnMTIMawvwJyGIHGzFjCwMAj92b3qUUMDAAXABxvZ4rl5AAAAABJ\n",
       "RU5ErkJggg==\n",
       "\" style=\"display:inline;vertical-align:middle;\" /></a> : <a class=\"ProveItLink\" href=\"../../__pv_it/83a1ddf0f64531c80e7f41ea6b904214668818b30/expr.ipynb\"><img src=\"data:image/png;base64,iVBORw0KGgoAAAANSUhEUgAAAA4AAAAOBAMAAADtZjDiAAAAG1BMVEX///9UVFQQEBAiIiJmZmaI\n",
       "iIiqqqrMzMwAAADC2JlRAAAAAXRSTlMAQObYZgAAABlJREFUCNdjYGBgKGOAgFRa0s7GxkrGxoYA\n",
       "QSUGlQeagkgAAAAASUVORK5CYII=\n",
       "\" style=\"display:inline;vertical-align:middle;\" /></a></span></td></tr><tr><td><a name=\"-0x34dbee07418ee373_step3\">3</a></td><td>instantiation</td><td><a href=\"#-0x34dbee07418ee373_step5\">5</a>, <a href=\"#-0x34dbee07418ee373_step6\">6</a></td><td><span style=\"font-size:20px;\"> <a class=\"ProveItLink\" href=\"../__pv_it/48194ddeb5f4551386db72bb65f53c771eef870f0/proof.ipynb\" style=\"text-decoration: none\">&#x22A2;&nbsp;</a><a class=\"ProveItLink\" href=\"../__pv_it/628bc6e9b141e0c930ba3f8018df4c098c974c0f0/expr.ipynb\"><img src=\"data:image/png;base64,iVBORw0KGgoAAAANSUhEUgAAAPIAAAAUBAMAAABFW30IAAAAMFBMVEX////MzMxUVFR2dna6uroQ\n",
       "EBCqqqqIiIgiIiJmZmYyMjJERETu7u6YmJjc3NwAAACgK8IjAAAAAXRSTlMAQObYZgAAAhRJREFU\n",
       "SMedlr9Lw0AUx1/a2t+VTi4uFf8BJ4MO0k0R3Co4dhMdStduRVA6aUdxKoJCi5SOLpYshVKXrl1K\n",
       "cCqC4Opm7l6S5u7eNdFXLmnu8nnf3Lt3PwDWpwDwBWFWkys4F87U9M3vTskP4L7F7Ip6Y4NdYjbB\n",
       "gVGlAM8XYxTO9wh9p2R587nm23h9vuM+eZ4YB8l6GONzSmuh7VxmEKoMpvvUxRvnQpQ5Y+pa06wP\n",
       "t6pyzpa8jPDBeLXA5yTlIRDMSKe8YMnSVJWNgeQlW+a32CGKLUBV3gSCcTlVueGUVJuI9kzyEseX\n",
       "JoCf2SCUcQQkJt7WKL+xyE4FZUzNu7bopYCpsuv8PG6pnOFI6wdUBrn9HrNusPWGjVmVyrDLquAl\n",
       "iX1twid4nJJhyWdQGJdT+1xxylqZUs4/lYNejG/eizrEih6n5vakAjKD3J+UPw5AVU5bYJS0yuvb\n",
       "dnRlItoPfEx6fTFyCR61C28NEaOdQaRnqwxyOM6PIRmGdgxUhvVddSnD0BIdbYYRfd5bThhBOf8i\n",
       "ecnseLM8bbmcrDyxCIZzlPKRH0g4CTZiHvEpdsp3kiyriLGMSNWRc6bS9VmrVfKZrSWOvhiTLar7\n",
       "CfcYWD3FZJErxjye/G/RXz1FsylmrNskAzvGajMJLgpjaluH4vagM2W3G0IkhtwlhZNBmOXIk0E4\n",
       "s6JTEU9D83+chuYU59kvVuKs34IBiMwAAAAASUVORK5CYII=\n",
       "\" style=\"display:inline;vertical-align:middle;\" /></a></span></td></tr>\n",
       "<tr><td>&nbsp;</td><td colspan=4 style=\"text-align:left\"><span style=\"font-size:20px;\"><a class=\"ProveItLink\" href=\"../../../../__pv_it/d3792d0d8642fdf1cd2a3a9b32c673ee13653de00/expr.ipynb\"><img src=\"data:image/png;base64,iVBORw0KGgoAAAANSUhEUgAAAA8AAAAOBAMAAAACpFvcAAAALVBMVEX///8iIiIQEBBERERUVFS6\n",
       "urqIiIjc3NxmZmaqqqru7u6YmJgyMjLMzMwAAACK9jtgAAAAAXRSTlMAQObYZgAAAFtJREFUCNdj\n",
       "YACBOwxQcA5Kc59bAGGs7CuAMDbkBYBp1gXzNoAZSxnuJYAZAQx1DSCa16PDzwCshIGB6QCIMYGB\n",
       "gVEBSLMDGTwPgIxCIGZ+zsCw+N0pBk67hw0AfpEVEQi8t+wAAAAASUVORK5CYII=\n",
       "\" style=\"display:inline;vertical-align:middle;\" /></a> : <a class=\"ProveItLink\" href=\"../__pv_it/8effe994a020c5ef887802c1c8b179d41666166a0/expr.ipynb\"><img src=\"data:image/png;base64,iVBORw0KGgoAAAANSUhEUgAAALUAAAAUBAMAAAA5PWHRAAAAMFBMVEX////MzMxUVFR2dna6uroQ\n",
       "EBCqqqqIiIgiIiJmZmYyMjJERETu7u6YmJjc3NwAAACgK8IjAAAAAXRSTlMAQObYZgAAAYdJREFU\n",
       "OMudla9Pw0AUgF/LUtqxLVMYzAj/AIoFh2MGVxIkjmDI7NxCwlKJRFaRgFiQmC41JKQ1/AWkkqBm\n",
       "cfTea7fd3Tuu4Zb0ei/v+3o/dncAvQ+wlRs10JTJAR4iUW65lF3xcAslmouHc8kBtQuZOYauDJ/H\n",
       "eCeuWvU3kPHGNqZ7b3fDsGo9UUXM327B+IXuXqh5b9RwXlOsiZHdHPMFuntPzWufYOWeko4Y2c0x\n",
       "E8ZdzdM6vkWBDKZYTxg3xySSO8BVjn6UvC4t5lH5EyWR3GZmxvQbvEc5z6P+TuEb6xnTb44JOTdk\n",
       "oZTnLLEnY3D74iXk3AzDunsHBeP2U3AGRjfDyHMSPFMp5PG1cE6u610jz4mZSZh+t2J2LeeVX1lL\n",
       "M3PMuLNUyQsOxSBfaF6gYmQ3x4yofbaZt78+d87xDGuLJXTFBtoWwhH+8e4uomigMStXyfiFfiBo\n",
       "oXccNb72V3vezmzsJ3MZys3GzMKe1omVQFMmt+ftsHdDA6bB/fT5jzutZH4BV9+EDC9OqWIAAAAA\n",
       "SUVORK5CYII=\n",
       "\" style=\"display:inline;vertical-align:middle;\" /></a></span></td></tr><tr><td><a name=\"-0x34dbee07418ee373_step4\">4</a></td><td>axiom</td><td></td><td><span style=\"font-size:20px;\"> <a class=\"ProveItLink\" href=\"../_axioms_.ipynb#iffDef\" style=\"text-decoration: none\">&#x22A2;&nbsp;</a><a class=\"ProveItLink\" href=\"../__pv_it/7e13510ad32a73fabb39fbd3d838d36a55d815580/expr.ipynb\"><img src=\"data:image/png;base64,iVBORw0KGgoAAAANSUhEUgAAAXkAAAAVBAMAAABRbIObAAAAMFBMVEX///8QEBCIiIhmZma6urrM\n",
       "zMxUVFQiIiJERETc3Nzu7u6qqqp2dnaYmJgyMjIAAAAcRTyBAAAAAXRSTlMAQObYZgAAA8xJREFU\n",
       "SMfVl09oE0EUxj+TbNNNmrQHUUGRgAe9aAuFetOoB0VQ40U8aUALRRQrQgtWUU+2/iF7qoJgVxQs\n",
       "FarQi15U9CBakaCgFFEiHqQKtjRaa6XW+fdmk+0kTVsvfvC1Yd/8Zt/OvJnZBcrJzkrPovv/jqyQ\n",
       "Ief4hfclGvYqM+0zxd9MH2jqTKLK+WdkrxczyWLpcoY8yC9+KZH9sDLTiLHBMiD4A5HcgkmngFMx\n",
       "k+KjEAz5Cp+uM+bkYw3S/OeIaxqKKSCUBx4vmPzkcTpm0IdJSEY5zvquuWvOPuxIM93eqEYnzryH\n",
       "GgR+sRuOAdcrIbm6SpDWOVdzOqZU7fGRARYSjHLseV/f5RKFc1mZKVuvCnEt7y9FHdexPk6wR0pW\n",
       "QHLthZms2pzQnI7RNHmVEQt8h2TIE52dJ0tkv0qZTaT7MOt1FaF1UpuG1cYnr2F20qsMA9mPVs3p\n",
       "GOm1/rU9yopKMORmmk/5d1v+SQtN1SVl4Cb2y8HZvbSdaaXqe/+RV+d41cX44qv5JtRgJoPtQlTO\n",
       "RSTfOwb1HXUMWC+Y0/TIkaQ1phjyFrXwY9/l6NShpk617lAGkugRXQQOyRm4IBvUO4gsYf+jrb6x\n",
       "n0kqRb8ayVZc05yOaT1Q6zIEO68YchgBMbU3pkSLYBrRSUUtVoZ1oPGoKJk2WpWyFs/ye7GurVFf\n",
       "9jNIrf7FBjKWQFWKOB3zFutHuTr2NDZNQDLkmmxYhJ4fl3klEMz5cwgBi8TF7keyu8OywTi/T6Jc\n",
       "9pqks/SwYyDDLqy0zp5iWt3PoOYRK33Z2zmxAVqJTtHiTgrrXP/8s4EIy3J6K2r7c0pv2jjK+gy1\n",
       "enWfNpNBGf3mGEgM0DnVURgDNkhGHXtR5mOQDBldB8WehfWiya61a9LwrVr7rjzlaNOIDHubtjXh\n",
       "rT1PBlJWbs5IDqsnEIyOkXaq/1fVwV24ajEgHv8d6kWTl8Bqwp4o8124+pe8xh81qIoyzkZ103l+\n",
       "4ZEvexMpqt41kWIbDruK0TGqerU/2zzPjCMZMmp5iUU+vciIni8CPbRitkr3Tn9BNPOTdmb5dsGn\n",
       "a2S8sUXsPvGUL3sTydVsJKt4mQQSkvFiSnI9I5L54+Le9HHJkBHjWQdd9IhWv1nxODPPe2/ZMff5\n",
       "j7VbZd4UiuQYyZD4mYKZsU3MraK77mBzkLXPw56EvcLwrlVe5d7S5kRWzDwuZKsnYGdOWcvxNN/Y\n",
       "kix6qeqavTvDG/J8yQoZcpGipb8xyqm67NfJnMgKGXLZD7UKv++G5v1lODSPL8OhAhcpi/9LfwF9\n",
       "GoUpN6fzvwAAAABJRU5ErkJggg==\n",
       "\" style=\"display:inline;vertical-align:middle;\" /></a></span></td></tr>\n",
       "<tr><td>&nbsp;</td><td colspan=4 style-\"text-align:left\"><a class=\"ProveItLink\" href=\"../_axioms_.ipynb#iffDef\">proveit.logic.boolean.implication.iffDef</a></td></tr><tr><td><a name=\"-0x34dbee07418ee373_step5\">5</a></td><td>axiom</td><td></td><td><span style=\"font-size:20px;\"> <a class=\"ProveItLink\" href=\"../../negation/_axioms_.ipynb#negationElim\" style=\"text-decoration: none\">&#x22A2;&nbsp;</a><a class=\"ProveItLink\" href=\"../../negation/__pv_it/effe4a00447dd6924d93afef35ad027eae208a7a0/expr.ipynb\"><img src=\"data:image/png;base64,iVBORw0KGgoAAAANSUhEUgAAAJcAAAAWBAMAAAA/XRM3AAAAMFBMVEX///8QEBCIiIhmZma6urrM\n",
       "zMxUVFQiIiJERETc3Nzu7u6qqqp2dnaYmJgyMjIAAAAcRTyBAAAAAXRSTlMAQObYZgAAAbRJREFU\n",
       "OMtjYCAWcF7AL78TiB+AGHeJMGwFhIrDIhUNItgmMDCcBjFeEWHYSwj1HovUJhDBBXTWDJAPGgib\n",
       "xWsAod4vwGEYwyEGBj6gJM8GwoaxTwBTq+0n4DJsIdCqU6tWTSfCl1A1F/QdcBnGB5T50dFRQ4Rh\n",
       "ymCSZcH+C7gM4wEGRCoDQyeYAyFZUNV1whi9YHIJQ7wCiD73DgQeoxjGC4wBZ3A8ANlfwEIcqMH+\n",
       "BcaqBpMODPMNcLmMuwAYsgxMYJcv/ovFMKggEIiACNZk4/wGXIaxfgB69QI7mH2qGIthUEGYYcAw\n",
       "YHyAzzDOB2FgpkIHpmEwQZg3gUmIXQARZs9QDGMpAIVxCjg3MJhjGgYThEYAJ9Awvg+4XAaKAIbN\n",
       "IBMZbjPoIxl2oqOj4wFCEAgOQ9Max09chjEfABL8oMjmenymfwGqyxIQgkDgDszq/18xcPd/R4tO\n",
       "8/JywfLyMqCbA0DOA6lnXsAwPwDdMLggIjvhAcvhLF+gCy+gGwYXRGR0POAQjMHxg4GzvxbVsAkI\n",
       "QZS8gANwYUkzHAQKR5yAYwIJhhEqtm8ykGAYOYCZAr0AOed5gytoZ+0AAAAASUVORK5CYII=\n",
       "\" style=\"display:inline;vertical-align:middle;\" /></a></span></td></tr>\n",
       "<tr><td>&nbsp;</td><td colspan=4 style-\"text-align:left\"><a class=\"ProveItLink\" href=\"../../negation/_axioms_.ipynb#negationElim\">proveit.logic.boolean.negation.negationElim</a></td></tr><tr><td><a name=\"-0x34dbee07418ee373_step6\">6</a></td><td>instantiation</td><td><a href=\"#-0x34dbee07418ee373_step7\">7</a>, <a href=\"#-0x34dbee07418ee373_step8\">8</a>, <a href=\"#-0x34dbee07418ee373_step9\">9</a></td><td><span style=\"font-size:20px;\"> <a class=\"ProveItLink\" href=\"../__pv_it/0545bdc947a3c625f7127401732007c6ce3499b10/proof.ipynb\" style=\"text-decoration: none\">&#x22A2;&nbsp;</a><a class=\"ProveItLink\" href=\"../__pv_it/4a4e7a223fe4c8447b762fe66d6faebe6c2c51d20/expr.ipynb\"><img src=\"data:image/png;base64,iVBORw0KGgoAAAANSUhEUgAAANcAAAAUBAMAAADsL7WcAAAAMFBMVEX///+6uroQEBCqqqqIiIgy\n",
       "MjJERETu7u6YmJjMzMxUVFTc3Nx2dnYiIiJmZmYAAAAutVgsAAAAAXRSTlMAQObYZgAAAc9JREFU\n",
       "SMeVljFLAzEUx185aq/2WvoFCtZd6OAmQofOUhEH8QsIXUQ4N8FBJxdB6OCijkWHzILg0LkUHQpi\n",
       "4T6Agp9ATPLeXZrk0px/eLnmXX/3v0veJQeQqXaO4dGWmfAzAbO4UxmNudR9HnQjmlVmZAUH1U7O\n",
       "/7NrPVrcIQUEXccdboqm0qcHWuScDObjBU4qTDB8ZjDGTjlRnM8s6ipOqs4wTHBgmp1gZzhTnJvB\n",
       "fGVNcVIvFCY4NM3KTXl46CnOzVB+V3FSOxQmGCaGWZTg1NUV52YoP8k41BGFAqmYfg2zUM501Ik6\n",
       "GedmKH+J3Lc498l/v1NYkx3s6WbBVE4V1LC8ljOU3844gGcebQq7suK2Zlb9Ee0FwEh2lzOUv8s4\n",
       "j1ntieWY8Vq8dZtljMPMHsbGPorpw1gSwxHw2S4z8DKUb6UcmdkFgir18wpEGAUJeBm9QHBkqDon\n",
       "OWB8bJg1XtM3aQZehvJfKUdqUfD70pbxER152a7P5x/8oa7FKy1SPeJ4vb9tLC7eI/WMeK0DIM5a\n",
       "rnRZqTPRNNMBKcRUpilnLcQejfVuEcZaiOXqOfCD2lYBxRhri6HN06uV3M1zuQYWV/Cz4Or/nwUh\n",
       "Q+4PxvebS4BM26cAAAAASUVORK5CYII=\n",
       "\" style=\"display:inline;vertical-align:middle;\" /></a></span></td></tr>\n",
       "<tr><td>&nbsp;</td><td colspan=4 style=\"text-align:left\"><span style=\"font-size:20px;\"><a class=\"ProveItLink\" href=\"../../../../__pv_it/d3792d0d8642fdf1cd2a3a9b32c673ee13653de00/expr.ipynb\"><img src=\"data:image/png;base64,iVBORw0KGgoAAAANSUhEUgAAAA8AAAAOBAMAAAACpFvcAAAALVBMVEX///8iIiIQEBBERERUVFS6\n",
       "urqIiIjc3NxmZmaqqqru7u6YmJgyMjLMzMwAAACK9jtgAAAAAXRSTlMAQObYZgAAAFtJREFUCNdj\n",
       "YACBOwxQcA5Kc59bAGGs7CuAMDbkBYBp1gXzNoAZSxnuJYAZAQx1DSCa16PDzwCshIGB6QCIMYGB\n",
       "gVEBSLMDGTwPgIxCIGZ+zsCw+N0pBk67hw0AfpEVEQi8t+wAAAAASUVORK5CYII=\n",
       "\" style=\"display:inline;vertical-align:middle;\" /></a> : <a class=\"ProveItLink\" href=\"../__pv_it/13eaced9a06f64c4613a31985a61b37a760408780/expr.ipynb\"><img src=\"data:image/png;base64,iVBORw0KGgoAAAANSUhEUgAAAD8AAAAPBAMAAAChCwpBAAAAMFBMVEX///92dnYQEBDu7u4yMjLM\n",
       "zMzc3NxERESYmJi6urqIiIiqqqpUVFQiIiJmZmYAAACJh1oyAAAAAXRSTlMAQObYZgAAAGJJREFU\n",
       "GNNjeHsXBO4wYAGsG6CMXQzYAfcCshSwJxBQwFpAyIo+3AogHrr/gJAjt2wgoIDZaQJ+BTliuEx4\n",
       "4gIGbgTcMIWAN5mdMRXMQFbAEwCh+e7evaR79+4BjAhgQ+MDAC1LLIVowxSeAAAAAElFTkSuQmCC\n",
       "\" style=\"display:inline;vertical-align:middle;\" /></a>, <a class=\"ProveItLink\" href=\"../../../../__pv_it/4d98b438710c5ada9ffa4646bb123a7d0e69ec000/expr.ipynb\"><img src=\"data:image/png;base64,iVBORw0KGgoAAAANSUhEUgAAABAAAAAOBAMAAADUAYG5AAAALVBMVEX///8yMjKqqqoiIiLu7u7c\n",
       "3NyIiIjMzMwQEBC6urpERERmZmZUVFSYmJgAAACsPVCVAAAAAXRSTlMAQObYZgAAAGxJREFUCNdj\n",
       "YGC48+70nlUTGICgi4GB+zmQZn/LwMD5Gshge8rAwPsMyOBqYGDwMAEy+A4wsNs4ABl1Z68tVgBp\n",
       "ygtgYOkBMVaAOCChNyBGAsQYhnMTIMawvwJyGIHGzFjCwMAj92b3qUUMDAAXABxvZ4rl5AAAAABJ\n",
       "RU5ErkJggg==\n",
       "\" style=\"display:inline;vertical-align:middle;\" /></a> : <a class=\"ProveItLink\" href=\"../__pv_it/e4783dacccf6ca1d4045aa3cd67d4fbc65b37ece0/expr.ipynb\"><img src=\"data:image/png;base64,iVBORw0KGgoAAAANSUhEUgAAAD8AAAAPBAMAAAChCwpBAAAAMFBMVEX///92dna6urru7u4yMjKY\n",
       "mJjc3NxERERUVFQQEBAiIiJmZmaIiIiqqqrMzMwAAACslU6QAAAAAXRSTlMAQObYZgAAAGVJREFU\n",
       "GNNjYGBgeMuABXCvAoMGEPsOA3bAewDKIE0BewIBBXwFhKyIxq1gF9jd6zcQcuSVCwQUMHsq4FeQ\n",
       "IYbLhC0uYOBGwA0qBLzJ7IymAOi3matWrYCLcjyAM5kCsEUAGxofAIXJK3lm1H4qAAAAAElFTkSu\n",
       "QmCC\n",
       "\" style=\"display:inline;vertical-align:middle;\" /></a></span></td></tr><tr><td><a name=\"-0x34dbee07418ee373_step7\">7</a></td><td>theorem</td><td></td><td><span style=\"font-size:20px;\"> <a class=\"ProveItLink\" href=\"../../conjunction/_proofs_/nandIfRightButNotLeft.ipynb\" style=\"text-decoration: none\">&#x22A2;&nbsp;</a><a class=\"ProveItLink\" href=\"../../conjunction/__pv_it/2ae663dc1e79719bec80baebbcfa1af8d371bedb0/expr.ipynb\"><img src=\"data:image/png;base64,iVBORw0KGgoAAAANSUhEUgAAANYAAAAWBAMAAABOJX+pAAAAMFBMVEX///8QEBCIiIhmZma6urrM\n",
       "zMxUVFQiIiJERETc3Nzu7u6qqqp2dnaYmJgyMjIAAAAcRTyBAAAAAXRSTlMAQObYZgAAAthJREFU\n",
       "SMe1VktoE1EUPc1/mo9ZCAq6CLiwG02gYDdCgy50I8lKdyZQhejCFlyIVCGC4FSUZFXdaFMULBVq\n",
       "IQvpSrELpRUJuBKpRqoLu2mxUvtB6r33TZLJzKTCoA8y73PevHPveee9CeC6PDC1tdpOM2foFy4D\n",
       "de4suKDqLpo6E6o6a5kTHVzrLdxEgHhwAZjnsSUXXLGyqfNdVctGtwl1UUD92W5OaAq4zwoUXXC9\n",
       "N8efUtVyRfUXG0COtM2k8IqakQRiBEemXXBdNbWDKpGn/ar23zI4kaSBzwmMs+ZxROcmJ++5oNKG\n",
       "TB1jgVoyLXXgWMIAbhDHngpiPP4VWNf1ay64PClT54A8fZUXyo5TaASyBpy5SMLx5FngPDAi4+p5\n",
       "cnW2IEr42te2oAiZXX5Xno+RU/nMK8eRmGsLPcO8kWyOT8BxiE0Q/an2N45IXBZrd68FRZD2uO8K\n",
       "FRZlWIbSGFPJDuGhkfwGMJ6nw8V5PqeX4JEQH/0W2JtHeNPOZUXRlTaQUfrtliQGegfF0NEEAlmV\n",
       "PMXl2SJohT1JWtaCMj53WcWbgLdu57KiDlwkepdgwQr8ecF2UeX50eLS6qclqoQu8LMsDldsXDZU\n",
       "NGxyiYY0EBR9q83DzccrQOr7WMMTvOvnxKfoEzhzqEfF1MZlQ1veGDW8oRFXbKVxiVSbxytXbHkD\n",
       "VTHoRyQFfgccNHG90XW97oAqG0vKys5yxkIbPFBUOlL5QintpZb3JXWOsqhs1O7FtyWB7wBj0+15\n",
       "5R1QJUujkDwT20sIl35RBAHeSQ8veml74IjO02NslW9sG17FW8GYeIdckylbueyo4x2lijqYWfMW\n",
       "POFsmsGdovxq2m1om9D2w8plRx3v3o7FuHuNnV6HVrru34fXq72FtIWr7IASXrbdKh0/dcY3pa2E\n",
       "Te2Q7ZXwX7+VHYqENeLwse7MNeP2P8AHlrlsGaztyFXD/yref77iHzs/yYlbBkZPAAAAAElFTkSu\n",
       "QmCC\n",
       "\" style=\"display:inline;vertical-align:middle;\" /></a></span></td></tr>\n",
       "<tr><td>&nbsp;</td><td colspan=4 style-\"text-align:left\"><a class=\"ProveItLink\" href=\"../../conjunction/_proofs_/nandIfRightButNotLeft.ipynb\">proveit.logic.boolean.conjunction.nandIfRightButNotLeft</a></td></tr><tr><td><a name=\"-0x34dbee07418ee373_step8\">8</a></td><td>instantiation</td><td><a href=\"#-0x34dbee07418ee373_step10\">10</a>, <a href=\"#-0x34dbee07418ee373_step11\">11</a></td><td><span style=\"font-size:20px;\"> <a class=\"ProveItLink\" href=\"../__pv_it/26dd8c02e25cc8ca1165c84a509df5fc0bbeb5f40/proof.ipynb\" style=\"text-decoration: none\">&#x22A2;&nbsp;</a><a class=\"ProveItLink\" href=\"../__pv_it/86e6d79f5ac336786c1fbeff653f3f270ae5d8760/expr.ipynb\"><img src=\"data:image/png;base64,iVBORw0KGgoAAAANSUhEUgAAAF4AAAAUBAMAAAD2P5dXAAAAMFBMVEX///+6uroQEBCqqqqIiIgy\n",
       "MjJERETu7u6YmJjMzMxUVFTc3Nx2dnYiIiJmZmYAAAAutVgsAAAAAXRSTlMAQObYZgAAANpJREFU\n",
       "KM9jYIAD7gYGAoB5AzKvjIHvLhgswKKU0wBErkYWigYb4YDDaLB4KZIIxwPC6nmQZHk3YKrPRlPP\n",
       "roCQ28uAqX4amnqGQIScHxb1EDciiZ9DyGWgqIcG1T809a0Mb0HCd4DMy1jMZ2AORlVvC+HtAmJF\n",
       "bOoZShVR1M8noJ57zQZc6lHdwxcKARtQ3SOLUJ+BxXzGAAz/QlIHPKhQ1ZcWoKl/g5CDWMWIkkhX\n",
       "wgP3ki44HUaipwdUgC7EfgFbXOIGyOkNKXHhBKWo+YUgQDGScH7k2MAAAGWnPwsHsGxyAAAAAElF\n",
       "TkSuQmCC\n",
       "\" style=\"display:inline;vertical-align:middle;\" /></a></span></td></tr>\n",
       "<tr><td>&nbsp;</td><td colspan=4 style=\"text-align:left\"><span style=\"font-size:20px;\"><a class=\"ProveItLink\" href=\"../../../../__pv_it/d3792d0d8642fdf1cd2a3a9b32c673ee13653de00/expr.ipynb\"><img src=\"data:image/png;base64,iVBORw0KGgoAAAANSUhEUgAAAA8AAAAOBAMAAAACpFvcAAAALVBMVEX///8iIiIQEBBERERUVFS6\n",
       "urqIiIjc3NxmZmaqqqru7u6YmJgyMjLMzMwAAACK9jtgAAAAAXRSTlMAQObYZgAAAFtJREFUCNdj\n",
       "YACBOwxQcA5Kc59bAGGs7CuAMDbkBYBp1gXzNoAZSxnuJYAZAQx1DSCa16PDzwCshIGB6QCIMYGB\n",
       "gVEBSLMDGTwPgIxCIGZ+zsCw+N0pBk67hw0AfpEVEQi8t+wAAAAASUVORK5CYII=\n",
       "\" style=\"display:inline;vertical-align:middle;\" /></a> : <a class=\"ProveItLink\" href=\"../__pv_it/13eaced9a06f64c4613a31985a61b37a760408780/expr.ipynb\"><img src=\"data:image/png;base64,iVBORw0KGgoAAAANSUhEUgAAAD8AAAAPBAMAAAChCwpBAAAAMFBMVEX///92dnYQEBDu7u4yMjLM\n",
       "zMzc3NxERESYmJi6urqIiIiqqqpUVFQiIiJmZmYAAACJh1oyAAAAAXRSTlMAQObYZgAAAGJJREFU\n",
       "GNNjeHsXBO4wYAGsG6CMXQzYAfcCshSwJxBQwFpAyIo+3AogHrr/gJAjt2wgoIDZaQJ+BTliuEx4\n",
       "4gIGbgTcMIWAN5mdMRXMQFbAEwCh+e7evaR79+4BjAhgQ+MDAC1LLIVowxSeAAAAAElFTkSuQmCC\n",
       "\" style=\"display:inline;vertical-align:middle;\" /></a></span></td></tr><tr><td><a name=\"-0x34dbee07418ee373_step9\">9</a></td><td>theorem</td><td></td><td><span style=\"font-size:20px;\"> <a class=\"ProveItLink\" href=\"falseImpliesTrue.ipynb\" style=\"text-decoration: none\">&#x22A2;&nbsp;</a><a class=\"ProveItLink\" href=\"../__pv_it/e4783dacccf6ca1d4045aa3cd67d4fbc65b37ece0/expr.ipynb\"><img src=\"data:image/png;base64,iVBORw0KGgoAAAANSUhEUgAAAD8AAAAPBAMAAAChCwpBAAAAMFBMVEX///92dna6urru7u4yMjKY\n",
       "mJjc3NxERERUVFQQEBAiIiJmZmaIiIiqqqrMzMwAAACslU6QAAAAAXRSTlMAQObYZgAAAGVJREFU\n",
       "GNNjYGBgeMuABXCvAoMGEPsOA3bAewDKIE0BewIBBXwFhKyIxq1gF9jd6zcQcuSVCwQUMHsq4FeQ\n",
       "IYbLhC0uYOBGwA0qBLzJ7IymAOi3matWrYCLcjyAM5kCsEUAGxofAIXJK3lm1H4qAAAAAElFTkSu\n",
       "QmCC\n",
       "\" style=\"display:inline;vertical-align:middle;\" /></a></span></td></tr>\n",
       "<tr><td>&nbsp;</td><td colspan=4 style-\"text-align:left\"><a class=\"ProveItLink\" href=\"falseImpliesTrue.ipynb\">proveit.logic.boolean.implication.falseImpliesTrue</a></td></tr><tr><td><a name=\"-0x34dbee07418ee373_step10\">10</a></td><td>axiom</td><td></td><td><span style=\"font-size:20px;\"> <a class=\"ProveItLink\" href=\"../../negation/_axioms_.ipynb#negationIntro\" style=\"text-decoration: none\">&#x22A2;&nbsp;</a><a class=\"ProveItLink\" href=\"../../negation/__pv_it/d92be96a81a927975a3e4fc43cc9e259175feb200/expr.ipynb\"><img src=\"data:image/png;base64,iVBORw0KGgoAAAANSUhEUgAAAIUAAAAWBAMAAAAcBkLiAAAAMFBMVEX///8QEBCIiIhmZma6urrM\n",
       "zMxUVFQiIiJERETc3Nzu7u6qqqp2dnaYmJgyMjIAAAAcRTyBAAAAAXRSTlMAQObYZgAAAchJREFU\n",
       "OMtjYCANzEUX2AnED0CMu8QawdWAzGMFamabwMBwGsR5RawZfBNQeB+ApgLNmQFkczYQa8ZlFN69\n",
       "X0DiENCsBQwMPBuINaMSxWObfwLJhQwMvKdWrZpOrBGcBcg8XqYvIA85MDD86OioIdYMJgNknhf3\n",
       "XyDJAxRLZWDoBAtBSBaYCo4JmGZwXED2igPrJ5BrgIHqDA5aIPsLRBlMyX0HhPIEKM0ODDjzciCo\n",
       "AdvG+RlIcQP9x87ABDZ98V8UM7jskeyExRsjzNxpQBxmbPYDlEiAEcxzgR0sfKoYxQye5QYEzACy\n",
       "5aBmcD4IA6c5hQ4UM4I4GjDNYN+AMIMbSBWCvASKq84UkCgbgzmKGQnMBQwZHUBwAckMeJgCzZgN\n",
       "pN5Dw5RhMzjSbzPoI5vBu4HpA6Y7eGD+Y4UklX5g3DEfADL4FUBB+PhM/wIkM9bZnPiFaQYLPI1x\n",
       "9f9bwLDjPzAM+QJAVoL0Mi9gmB+AZIYVA+dXhrx3QIDsF9S0DgHL4SxfoHsuIMxgAbL/YroDLc+B\n",
       "wSF4AvzBwNlfizCjv4FhxndoAPJ0dEh09OBKvJAEipacSSiDcGYJEsvCmwwkm0EUYCZdCwB363LP\n",
       "gacX1AAAAABJRU5ErkJggg==\n",
       "\" style=\"display:inline;vertical-align:middle;\" /></a></span></td></tr>\n",
       "<tr><td>&nbsp;</td><td colspan=4 style-\"text-align:left\"><a class=\"ProveItLink\" href=\"../../negation/_axioms_.ipynb#negationIntro\">proveit.logic.boolean.negation.negationIntro</a></td></tr><tr><td><a name=\"-0x34dbee07418ee373_step11\">11</a></td><td>theorem</td><td></td><td><span style=\"font-size:20px;\"> <a class=\"ProveItLink\" href=\"impliesTF.ipynb\" style=\"text-decoration: none\">&#x22A2;&nbsp;</a><a class=\"ProveItLink\" href=\"../__pv_it/f54d6f6f58cf70a4aedd93e574230ec4755d46e50/expr.ipynb\"><img src=\"data:image/png;base64,iVBORw0KGgoAAAANSUhEUgAAAHoAAAAUBAMAAACwiTT9AAAAMFBMVEX////MzMxUVFR2dna6uroQ\n",
       "EBCqqqqIiIgiIiJmZmYyMjJERETu7u6YmJjc3NwAAACgK8IjAAAAAXRSTlMAQObYZgAAAPBJREFU\n",
       "OMtjYOC7wEAI5OGWOs3AMKMDBJqwyYqBCKYHuGQY1oHJdBxmg8V5FuCS4Z1AWDeDOS4ZjgeYuveh\n",
       "6z6KS/cLBkzd0ui6uRxw6K7EohvqG4Q48wQcuvei6OYEh37HTzTdvOBgs1oFAiuRZdqw2M3AtgxV\n",
       "N1sDDrtDsOlmOBWCopvxAym6+ZQfEKcb1eWcqyDgAarLWRoQ/l6EO9QggGUB1lDDYrclFt2nDqDp\n",
       "5jTAodsDwvZFllCE0sDcEwrOPVwCaFphMhxY8g+G0AlcGZR3AgNhYI5TZh9hzVhzKLx0IAS4H+CU\n",
       "IqJkuodLAgBplkw0aZ95ggAAAABJRU5ErkJggg==\n",
       "\" style=\"display:inline;vertical-align:middle;\" /></a></span></td></tr>\n",
       "<tr><td>&nbsp;</td><td colspan=4 style-\"text-align:left\"><a class=\"ProveItLink\" href=\"impliesTF.ipynb\">proveit.logic.boolean.implication.impliesTF</a></td></tr></table>"
      ],
      "text/plain": [
       "\tstep type\trequirements\tstatement\n",
       "0\tinstantiation\t1, 2, 3\t|- (TRUE <=> FALSE) = FALSE\n",
       "\tP(_a) : (TRUE <=> FALSE) = _a, x : (TRUE => FALSE) and (FALSE => TRUE), y : FALSE\n",
       "1\ttheorem\t\t|- forall_{P, x, y | P(x), x = y} P(y)\n",
       "\tproveit.logic.equality.subRightSideInto\n",
       "2\tinstantiation\t4\t|- (TRUE <=> FALSE) = ((TRUE => FALSE) and (FALSE => TRUE))\n",
       "\tA : TRUE, B : FALSE\n",
       "3\tinstantiation\t5, 6\t|- ((TRUE => FALSE) and (FALSE => TRUE)) = FALSE\n",
       "\tA : (TRUE => FALSE) and (FALSE => TRUE)\n",
       "4\taxiom\t\t|- forall_{A, B} ((A <=> B) = ((A => B) and (B => A)))\n",
       "\tproveit.logic.boolean.implication.iffDef\n",
       "5\taxiom\t\t|- forall_{A | [not](A)} (A = FALSE)\n",
       "\tproveit.logic.boolean.negation.negationElim\n",
       "6\tinstantiation\t7, 8, 9\t|- [not]((TRUE => FALSE) and (FALSE => TRUE))\n",
       "\tA : TRUE => FALSE, B : FALSE => TRUE\n",
       "7\ttheorem\t\t|- forall_{A, B | [not](A), B} [not](A and B)\n",
       "\tproveit.logic.boolean.conjunction.nandIfRightButNotLeft\n",
       "8\tinstantiation\t10, 11\t|- [not](TRUE => FALSE)\n",
       "\tA : TRUE => FALSE\n",
       "9\ttheorem\t\t|- FALSE => TRUE\n",
       "\tproveit.logic.boolean.implication.falseImpliesTrue\n",
       "10\taxiom\t\t|- forall_{A | A = FALSE} [not](A)\n",
       "\tproveit.logic.boolean.negation.negationIntro\n",
       "11\ttheorem\t\t|- (TRUE => FALSE) = FALSE\n",
       "\tproveit.logic.boolean.implication.impliesTF"
      ]
     },
     "execution_count": 6,
     "metadata": {},
     "output_type": "execute_result"
    }
   ],
   "source": [
    "%qed"
   ]
  },
  {
   "cell_type": "code",
   "execution_count": null,
   "metadata": {},
   "outputs": [],
   "source": []
  }
 ],
 "metadata": {
  "kernelspec": {
   "display_name": "Python 3",
   "language": "python",
   "name": "python3"
  }
 },
 "nbformat": 4,
 "nbformat_minor": 0
}
