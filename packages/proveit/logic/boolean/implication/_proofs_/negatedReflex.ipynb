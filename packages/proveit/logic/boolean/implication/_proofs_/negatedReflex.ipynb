{
 "cells": [
  {
   "cell_type": "markdown",
   "metadata": {},
   "source": [
    "Proof of <a class=\"ProveItLink\" href=\"../../../../_context_.ipynb\">proveit</a>.<a class=\"ProveItLink\" href=\"../../../_context_.ipynb\">logic</a>.<a class=\"ProveItLink\" href=\"../../_context_.ipynb\">boolean</a>.<a class=\"ProveItLink\" href=\"../_context_.ipynb\">implication</a>.<a class=\"ProveItLink\" href=\"../_theorems_.ipynb#negatedReflex\">negatedReflex</a> theorem\n",
    "========"
   ]
  },
  {
   "cell_type": "code",
   "execution_count": 1,
   "metadata": {},
   "outputs": [],
   "source": [
    "import proveit\n",
    "from proveit import defaults\n",
    "from proveit._common_ import A, B\n",
    "from proveit.logic import Equals, TRUE, FALSE\n",
    "from proveit.logic.boolean.implication import Implies\n",
    "from proveit.logic.boolean.implication._axioms_ import untrueAntecedentImplication\n",
    "from proveit.logic.boolean.implication._theorems_ import notTrueViaContradiction\n",
    "from proveit.logic.boolean.negation import Not\n",
    "context = proveit.Context('..') # the theorem's context is in the parent directory"
   ]
  },
  {
   "cell_type": "code",
   "execution_count": 2,
   "metadata": {},
   "outputs": [
    {
     "name": "stdout",
     "output_type": "stream",
     "text": [
      "Beginning proof of negatedReflex\n",
      "Recorded 'presuming' information\n"
     ]
    },
    {
     "name": "stdout",
     "output_type": "stream",
     "text": [
      "Presuming previous theorems (applied transitively).\n"
     ]
    },
    {
     "data": {
      "text/html": [
       "<strong id=\"negatedReflex\">negatedReflex:</strong> <a class=\"ProveItLink\" href=\"../__pv_it/ebde2fe4f94eb2d0488ad1e08d91920572783df60/expr.ipynb\"><img src=\"data:image/png;base64,iVBORw0KGgoAAAANSUhEUgAAANoAAAAWBAMAAABUGZ8nAAAAMFBMVEX///8QEBCIiIhmZma6urrM\n",
       "zMxUVFQiIiJERETc3Nzu7u6qqqp2dnaYmJgyMjIAAAAcRTyBAAAAAXRSTlMAQObYZgAAAydJREFU\n",
       "SMetVk9IFFEY/zk7qzvjrnoICuqw0CEpymBlhRBdCMpLKR3qEu2CGdYhpQ7RP9wgYo1ot4t5iZ0y\n",
       "KDawhaLoUBoeMovY6ljmSnXIQ4rmnxSx73uzo89pl0XWD+bNzPve+37f+31/ZoB1kjt5V5TGgDQ/\n",
       "DBcMpocBT9uMr/Vqdv0xuk4C7/h5rGC0MnIcRQRZ35RVP05XL9BNNy1cMNpnHoIpoHF3NrVn3ADc\n",
       "XpTxLVkw2nkequiAI15ryhVbUT+qpxe9Ap6hROJ2wWBaO49XyOJGw5pzSoylqgI0/gDmIpFL+a1l\n",
       "n16OkSL4mwGOnLKxK0Q1+ohkDAAtQKeYMseGqYFWQYEqm+23U6NGa/2deLrMGhtzzgxXXhSvNedY\n",
       "OpZDeB9BJvgbsBe6qALPHzOeFXBXCAMSWLHAGQlIUx+B13BY+CUceeUvcDckrXll5UMAcUZ+Tguh\n",
       "sGPoWRQKRwil83a0o6Kk6lPSlB/oM3TLdhE74iIvlQW5CEdN/5zNvjYOYpASMlUipobOml564Ujb\n",
       "0Vp4cD8wmXkpxjNAHfBLRisnbGVS2tb1NkM7LUibaFr6sMD3RoTmcRN2GXY0kXGHXOEVWvVpKNQT\n",
       "dspMcrkVi3jU/RZi+ULKEo7Ofs6O48IGaoSmcWelSY/Lnt8hRzsGI5HIzQ3s7uSna3R7JmcJl1tQ\n",
       "SvuD1nZCK5swswRPhK0vqBKqD8A2CY3Np1U24UkqE5l0ryZa01BoX0PGoJtJHiUnNhkrUbP6IZez\n",
       "izIItUw3J6f+/X1ULLwBxJOrzxZS+bS9tYPzGTMnDLj6oS2YzVZEhpBPLzX7I1JXKs5U48OlMZRG\n",
       "Z8mfn+w0ozgMxIWWTDTGbGiiK+yBNo2tPpJm2lCehEru7lvVufJ0BL3dejpABlLadWjz0LbY4hbi\n",
       "ZSpFZhF6IpG4x1zEDdyikv/6f9/ILW6rhbrmoEUvOzfjzZSvNWBDi+ECEA2je1YUXBdv7PD5+UtW\n",
       "na0F55Je++dVepYrYIe8SLablr+m+aTT9v4iB5or18c/tYY/BY/9+KkcCGoqu4Ge9fqrgSPXoSXZ\n",
       "vkab/wBSDM1Ms4MeswAAAABJRU5ErkJggg==\n",
       "\" style=\"display:inline;vertical-align:middle;\" /></a><br>(see <a class=\"ProveItLink\" href=\"../__pv_it/ebde2fe4f94eb2d0488ad1e08d91920572783df60/dependencies.ipynb\">dependencies</a>)<br>"
      ],
      "text/plain": [
       "negatedReflex: forall_{A, B | [not](A => B)} (B => A)"
      ]
     },
     "execution_count": 2,
     "metadata": {},
     "output_type": "execute_result"
    }
   ],
   "source": [
    "%proving negatedReflex presuming []"
   ]
  },
  {
   "cell_type": "code",
   "execution_count": 3,
   "metadata": {},
   "outputs": [
    {
     "data": {
      "text/html": [
       "<strong id=\"defaults.assumptions\">defaults.assumptions:</strong> <a class=\"ProveItLink\" href=\"../__pv_it/719cd1ccb425e14e67797d03b8ca8aafd27696ce0/expr.ipynb\"><img src=\"data:image/png;base64,iVBORw0KGgoAAAANSUhEUgAAAG4AAAAUBAMAAACezBVvAAAAMFBMVEX////MzMxUVFR2dna6uroQ\n",
       "EBCqqqqIiIgiIiJmZmYyMjJERETu7u6YmJjc3NwAAACgK8IjAAAAAXRSTlMAQObYZgAAAZdJREFU\n",
       "OMtjYOC7wIAAbxkIAbYHEMxwGkmQZwOYYlyARQOv/qeZ2lsYGPQYIHgdkhzXAwj1AZtNrEBD5wsw\n",
       "nAIygZh3ApLUTQh16w82ffJAD/lPYGAuYABhjgdIUn0Q12b+Qwjtg7PqgSrvFzDwBDCA8AskbXwN\n",
       "EJ+wf0GIScNZW4HqIw4wMCxhAOFKJH3sEDf7sP1FCg64Pz4xMEjoAGlLMN6LpI8bHCU8DozfQTRn\n",
       "Bxj8hEoyfrpb3Qb2PRi3wRQYMDBwJIDEWRj4fiJH2DKoY4CePqoAZGSAcQjMb0AhVgcQS2jmpN/I\n",
       "4XgKooQbGB7s30DhCsaY+oBEFHJgKUNCnB+ogP07XF8bkj6wO9mAuBXsv1UQ8AARfUyggPYA471I\n",
       "+sDh8gyI1yOsY1mAFH3yG+DhYglTIABMBhOgcbgfkRhOHYAylgLNiAZxJoOxB5JXWBoYePb/OsCQ\n",
       "/b8TLqYIpbX+a07aDQ7vhWCMJZ2hgAfoAjwNYIwtXeMF0HSNlHCBAfOAsD5oPsKWb/GCfVBMYjnB\n",
       "+wCMAZ56dXjRaJGzAAAAAElFTkSuQmCC\n",
       "\" style=\"display:inline;vertical-align:middle;\" /></a><br>"
      ],
      "text/plain": [
       "defaults.assumptions: ([not](A => B))"
      ]
     },
     "execution_count": 3,
     "metadata": {},
     "output_type": "execute_result"
    }
   ],
   "source": [
    "defaults.assumptions = negatedReflex.allConditions()"
   ]
  },
  {
   "cell_type": "code",
   "execution_count": 4,
   "metadata": {},
   "outputs": [
    {
     "data": {
      "text/html": [
       "<strong id=\"BeqT\">BeqT:</strong> <a class=\"ProveItLink\" href=\"../__pv_it/d1c5e1b6d4178fe5f94ef426e90af0d07bc0cb350/expr.ipynb\"><img src=\"data:image/png;base64,iVBORw0KGgoAAAANSUhEUgAAADwAAAAOBAMAAACBYGLnAAAAMFBMVEX///92dnYyMjKqqqoiIiLu\n",
       "7u7c3NyIiIjMzMwQEBC6urpERERmZmZUVFSYmJgAAADEjrHzAAAAAXRSTlMAQObYZgAAAI5JREFU\n",
       "GNNjYGB4+//O2d0LGFDBERcQ8AUxZzMw8PxgwADmEIrjHwMD1x+c0uzfGBj4vuOU5p7AwBDpilOa\n",
       "/wIDh28ATun+e8+3GIBZQkogoIMqXZ/AwDqXAafunSAlBjil/4KkC3BJg7zNcH8Bwm5dFGmQtzl+\n",
       "47SbCejtlVtxSfPq/z1zezMWWYZ1QAwAmGAm6Lnjy/0AAAAASUVORK5CYII=\n",
       "\" style=\"display:inline;vertical-align:middle;\" /></a><br>"
      ],
      "text/plain": [
       "BeqT: B = TRUE"
      ]
     },
     "execution_count": 4,
     "metadata": {},
     "output_type": "execute_result"
    }
   ],
   "source": [
    "BeqT = Equals(B,TRUE)"
   ]
  },
  {
   "cell_type": "code",
   "execution_count": 5,
   "metadata": {},
   "outputs": [
    {
     "data": {
      "text/html": [
       "<strong id=\"AimplBeqT\">AimplBeqT:</strong> <span style=\"font-size:20px;\"><a class=\"ProveItLink\" href=\"../__pv_it/34052d1ec65af315ca3143683ef05590183df5180/expr.ipynb\"><img src=\"data:image/png;base64,iVBORw0KGgoAAAANSUhEUgAAAE8AAAAVBAMAAAD1D64kAAAAMFBMVEX///+IiIi6urrc3NxERETM\n",
       "zMwQEBCqqqpUVFQiIiJ2dnYyMjLu7u5mZmaYmJgAAABN0h6tAAAAAXRSTlMAQObYZgAAAOxJREFU\n",
       "KM9jYGDgu8eAH7BePACieHYxEAJMqSCS7wOI6P9xt8UJTZ53Jhg0MDDcBnG5JoBINgcGhvsBGGax\n",
       "C4CplQiF8Q8YGPQvEKFQ3oCB4b0AEQrdgL7KPECEwh8MDJE9DLgULgMRHBtAQfXjnch0sBjXbjC4\n",
       "gKLwPYgoA/mV8TMDw7EGnCZyA/WFTAaxWBKAir/jVMjQCaTVQCbyA01j/IjbRJBlHA7QYOT4hOTG\n",
       "Bkw3gn0NCsZ4B/y+BivcBoz5lAMMBMOx+3/vDZcCbOnmAXqA4wcQhQlEKgSnRwIAnB4ZiEjhSRCf\n",
       "EZVnACCNSoi42nzKAAAAAElFTkSuQmCC\n",
       "\" style=\"display:inline;vertical-align:middle;\" /></a> <a class=\"ProveItLink\" href=\"../__pv_it/970879dafa7d4ccf54466b5775799f6166fe2af00/proof.ipynb\" style=\"text-decoration: none\">&#x22A2;&nbsp;</a><a class=\"ProveItLink\" href=\"../__pv_it/772187145e2f6367dc6ed2ff242755c8a9464ab30/expr.ipynb\"><img src=\"data:image/png;base64,iVBORw0KGgoAAAANSUhEUgAAAHsAAAAUBAMAAABfS1/DAAAAMFBMVEX///92dnYiIiIQEBBERERU\n",
       "VFS6urqIiIjc3NxmZmaqqqru7u6YmJgyMjLMzMwAAADiRdoGAAAAAXRSTlMAQObYZgAAAX9JREFU\n",
       "OMtjYMAJOA4w4AcrYIy32GS3APHR/5FTXRLQJCYpgYAqA2sDVOA+Nu03QIQJAwPnP0y55SCC+wKE\n",
       "w3N/A6YKnglAgu8PAwPbTxzaGcQhnF3zGxAyHlCaCSTG/gNozndc2jdDOAfqkbz3BEo3gQgWA6Ai\n",
       "bVzaecHa2DasP4DmaCCoBBH8AQx8qhtwaWcEK93G8L4ARHOCQ1QJ6lUfEPE+5rjTAjBX9i4I3ETR\n",
       "zgMOuwSG/glIJnPdAlNaIKK+gYHblAGX7VwKoNCNnBnvgCy31wxEgglnkBELcGnn+wDyOgMD8wXk\n",
       "1BbYANf+FaS9AK92oOFMBmC/34WABrjjQdHOEJ+A8PtVFO1sQMdzALXzfkAYzHYBEXSgaOf7gtPv\n",
       "oKADxS/LDySfQ+NJEhSxQFcle+PUzinAsOX/bQYu/0+IoI+D0kkMDKz3v84M8cKWH3IgyeYBpkwD\n",
       "cqLFDzbhkeOZQFC7OD5JD0K6uS/gk91CSDsLXu8RLKxOMDAAACPAaq/KtGJSAAAAAElFTkSuQmCC\n",
       "\" style=\"display:inline;vertical-align:middle;\" /></a></span><br>"
      ],
      "text/plain": [
       "AimplBeqT: {B = TRUE} |- A => (B = TRUE)"
      ]
     },
     "execution_count": 5,
     "metadata": {},
     "output_type": "execute_result"
    }
   ],
   "source": [
    "AimplBeqT = BeqT.prove([BeqT]).asImplication(A)"
   ]
  },
  {
   "cell_type": "code",
   "execution_count": 6,
   "metadata": {},
   "outputs": [
    {
     "data": {
      "text/html": [
       "<strong id=\"nImplAB\">nImplAB:</strong> <a class=\"ProveItLink\" href=\"../__pv_it/41d6d825612fd3d1b0d7e32df520dc16a2935b9a0/expr.ipynb\"><img src=\"data:image/png;base64,iVBORw0KGgoAAAANSUhEUgAAAF8AAAAUBAMAAAAZ/fxpAAAAMFBMVEX///+6uroQEBCqqqqIiIgy\n",
       "MjJERETu7u6YmJjMzMxUVFTc3Nx2dnYiIiJmZmYAAAAutVgsAAAAAXRSTlMAQObYZgAAAWRJREFU\n",
       "KM9jYIAD7gYGQsAahVcGoaZiU9n1f92rNAEGrg3IgtEQKh6r2WoMDHw/GdgDkIQ4HkCo+AIs6jl/\n",
       "MDAw/mNgOIIkxguxrvg9wlo2OJPlN9CoLwwMRUga9kKoBn8BhLkJcK0KQMXXGRhYEZIMfmCSscAe\n",
       "KbD6YAz+BQyct4Bu5XmAkMwAk4UM8x1A9Nu7IHAfJj9/RUuuAciHARCZO0D2ZbCMAMN+JEMYTA0g\n",
       "tP8GBnYtIM18AcLfBcSKYFeve7c+AUkDexDE0UkgTUDNnB/QNDAyMDAhh/Wu0xD6F0iDA6oGsJOA\n",
       "hvAqgBhPQ8EgGhENDOuBljEiOQnkaW6gBtYPCAtEkaKB8xvE0xATgPgcNC7YfiN8EA5lsAJtFUoH\n",
       "MvgOIEyTBSa//+EMzPl/4cHENQFKx/96tywZrHMCRtJABtwYIrWYiQ8/QE58DNmE1aMkb1gGwgfY\n",
       "UJxNRBbtZmAAALGZW4fbrGcJAAAAAElFTkSuQmCC\n",
       "\" style=\"display:inline;vertical-align:middle;\" /></a><br>"
      ],
      "text/plain": [
       "nImplAB: [not](A => B)"
      ]
     },
     "execution_count": 6,
     "metadata": {},
     "output_type": "execute_result"
    }
   ],
   "source": [
    "nImplAB = Not(Implies(A,B))"
   ]
  },
  {
   "cell_type": "code",
   "execution_count": 7,
   "metadata": {},
   "outputs": [
    {
     "data": {
      "text/html": [
       "<strong id=\"AimplB\">AimplB:</strong> <a class=\"ProveItLink\" href=\"../__pv_it/8b52df86786c45166e4e597fabcdbadc8276ac2f0/expr.ipynb\"><img src=\"data:image/png;base64,iVBORw0KGgoAAAANSUhEUgAAAEAAAAAPBAMAAACmSdRUAAAAMFBMVEX///92dnYiIiIQEBBERERU\n",
       "VFS6urqIiIjc3NxmZmaqqqru7u6YmJgyMjLMzMwAAADiRdoGAAAAAXRSTlMAQObYZgAAAO5JREFU\n",
       "GNNjYACBtwxYwNH/kVNdEiDs+9gUMJgwMHD+A7N47m/AIs/3h4GB7SeYuWt+A0LcA8Zg/wHU+h3M\n",
       "PFCfgFDwBMZgMWBg2KwNYrFtWH8AoYBnApTBH8DApwq2exvD+wIQzakEBj+hCt7HHHdaAGYlMPRP\n",
       "QHIc1y0IXd/AwG0Kdm3kzHgHZOfvNQNTziBFICPYGBiYLyDJcwRC/PQVpABkN1ARkwHYDXchoAEe\n",
       "DAzxQO9xABXwfkAYwHYBEQx8X4CMJpCXfyC5ABqqvEBTk70ZGLb8v83A5f8J4Y04CMV6/+vMEC9s\n",
       "UdSAygUACNlBmGjrK1sAAAAASUVORK5CYII=\n",
       "\" style=\"display:inline;vertical-align:middle;\" /></a><br>"
      ],
      "text/plain": [
       "AimplB: A => B"
      ]
     },
     "execution_count": 7,
     "metadata": {},
     "output_type": "execute_result"
    }
   ],
   "source": [
    "AimplB = nImplAB.operands[0]"
   ]
  },
  {
   "cell_type": "code",
   "execution_count": 8,
   "metadata": {},
   "outputs": [
    {
     "data": {
      "text/html": [
       "<span style=\"font-size:20px;\"><a class=\"ProveItLink\" href=\"../__pv_it/f831fa2c2cc7e34bbca606b8ca0701ee8fbb993e0/expr.ipynb\"><img src=\"data:image/png;base64,iVBORw0KGgoAAAANSUhEUgAAAHUAAAAVBAMAAACK3rzVAAAAMFBMVEX///+IiIi6urrc3NxERETM\n",
       "zMwQEBCqqqpUVFQiIiJ2dnYyMjLu7u5mZmaYmJgAAABN0h6tAAAAAXRSTlMAQObYZgAAAbhJREFU\n",
       "OMtjYGDgu8dAMmC9eABE8exCEbUjqI/dAEgwpYKYfB+QJXgcIOZuwKKJr//H3RYnBoZmEOc2iOCa\n",
       "gCzPbQChPmCzkQ1o8P0AhtMg9kpMvW8h1Os/2PTGP2Bg0L/AwCWAXe9kiMtrPyOEnOEseaCj3gsw\n",
       "8CRg1csM4fAxfkKIhcBZbkBTM4EBvAmrXsYLYEqH/R9SEF2AsX4wMET2AOm1QLwMJMCBHKQsD8BO\n",
       "VmD9CKJ5Z4LBX1ik/ngnMh0cGkD8HsQoC4ApWsDAwFkAEmJiYP6LHKHboY4CBsKxBiCjEhQTQNeE\n",
       "TIb7FSjMpgBiRdy98QU5AE8nQRwFDCPG76DwBvE6gaGtFoChF0hkIwdgFyTS+YEKGD9C9XKDHMDh\n",
       "gKQX7GZ2IJ4G9u9uCDBARC8HKAI0Yf6FhzNILziszIF4P8Japg1I0RvvAA2rZahxBHQ81wVoHPsb\n",
       "IHx7AMrYBjQnBcS5hTV+mSYw8Pj/PsBQ8n8uXKwVSnf/773hAo6HrfjSJAowQBfgmQDXm4AlL+AF\n",
       "iLyAmn9ZDAjrPQ3Pvwy7sOR9vACUsZggyYX9HmllDp8BtLwCAKwFeaB8CxEdAAAAAElFTkSuQmCC\n",
       "\" style=\"display:inline;vertical-align:middle;\" /></a> <a class=\"ProveItLink\" href=\"../__pv_it/7015748f8f3f09638a51794dbdf9ca1a18eea4230/proof.ipynb\" style=\"text-decoration: none\">&#x22A2;&nbsp;</a><a class=\"ProveItLink\" href=\"../__pv_it/1c4a4c7e651f3f615e248bae7cd7c2c15433d0fa0/expr.ipynb\"><img src=\"data:image/png;base64,iVBORw0KGgoAAAANSUhEUgAAAJsAAAAUBAMAAABoqVKyAAAAMFBMVEX////MzMxUVFR2dna6uroQ\n",
       "EBCqqqqIiIgiIiJmZmYyMjJERETu7u6YmJjc3NwAAACgK8IjAAAAAXRSTlMAQObYZgAAAcxJREFU\n",
       "OMtjYOC7wIAAbxkIAbYHEIwLnEZi82wAU4wLsKjj1f80U3sLA4MeAwSjAM4OMFBgYFiHJMoFsZbr\n",
       "AzZ7WYF2zRdgOAVknsLm7AKwpROQhG5CqFt/sBknDwwV/wkMzEBtzAW4jONADoc+iJcz/yGE9sFZ\n",
       "9UCV9wsYeAIYwBi7cS+QRPgaIKHE/gUhJg1nbQUaE3GAgWEJAwRjNa4SSYQd4nEftr9IMQAPjE8M\n",
       "DBI6QNoSirEatxdJhBucZngcGL8jxdZPqCTjp7vVbeCQhWIG5lVgMAHZuDaYPgNgOCaARFgY+H4i\n",
       "27oM6nRggB4FpgSGDCjG6roQWLgBVbI6gFhCMyf9RlZ3CqKEGxj87N9AMQzFRBoHJKKQ40cZEvf8\n",
       "QAXs3wkZ14ZkHNizbEDcCg47SNCseoBIdkygKPeAYljYKWCLCpBx4Kh4BsTrEZayLEBKdvIbkKMC\n",
       "m+vgUS4AtG4CNO3tR6TtUwegjKVAo6NBnMlQjNU4DyQRlgYGnv2/DjBk/++EiylCaa3/mpN2g2N+\n",
       "IRSjAZYLODIZCsAoi3gaIBg7wFYE4AW4igCMPA6MiweEjcNVQOEuPvGCfWhOQAMkFu68DyAYOwAA\n",
       "A8qH2+RRn8AAAAAASUVORK5CYII=\n",
       "\" style=\"display:inline;vertical-align:middle;\" /></a></span>"
      ],
      "text/plain": [
       "{[not](A => B)} |- [not](A => B) = TRUE"
      ]
     },
     "execution_count": 8,
     "metadata": {},
     "output_type": "execute_result"
    }
   ],
   "source": [
    "nImplAB.evaluation()"
   ]
  },
  {
   "cell_type": "code",
   "execution_count": 9,
   "metadata": {},
   "outputs": [
    {
     "data": {
      "text/html": [
       "<span style=\"font-size:20px;\"><a class=\"ProveItLink\" href=\"../__pv_it/b23d683aa33f084c968438e4ec075bee1042230c0/expr.ipynb\"><img src=\"data:image/png;base64,iVBORw0KGgoAAAANSUhEUgAAAI8AAAAVBAMAAACNsKCFAAAAMFBMVEX///+IiIi6urrc3NxERETM\n",
       "zMwQEBCqqqpUVFQiIiJ2dnYyMjLu7u5mZmaYmJgAAABN0h6tAAAAAXRSTlMAQObYZgAAAixJREFU\n",
       "OMtjYGDgu8dAGWC9eABE8ezCrcSOoCHsBkCCKRXE5PsAIl/8773hooCmiscBYuMGLCbw9f+42+LE\n",
       "wNAM4twGEVwTwBIpDAy8X9EUcxtAqA/Y3MIGtOV+AMNpEHslwiDWf0AX/kVT+xZCvf6DzaD4BwwM\n",
       "+hcYuARQDWL8DHTtRzS1kyEerP2MEHKGs+SBzn0vwMCTgGoQC5B/bA6qOcwQT/MxfkKIhcBZbkAr\n",
       "MoHRtQnVIP4GBtYZB1ANYrwApnTY/yGF8QUY6wcDQ2QPkF4LxMtAAhzgOInve+hZgOYzlgdgnymw\n",
       "gr3MOxMMYOHI+uOdyHRwCALxexCjLADqY54MiBKIjgUMDJxgk5kYmJEjgX071LnAgDvWAGRUguIV\n",
       "6M6QyTAfM8gjOYkZqIYNnK4i7t74guzO00kMsEBl/A7yC4jXCYw7tQCojxnkBbAZBCSykWOgC5K4\n",
       "gIHKwPgRahA3yGkcDtBkxNCvgGoQ2GvsQDwN7OPdEGCASEYcoOjUhIURONZAPmZF9gHIIHBgmwPx\n",
       "foQ40wakZBTvAA3sZXCDuIE+VvNh4PkN1wH0MNcFaFryN0CEECyJbAMamgLi3EJORxz7gTnQHciZ\n",
       "iZyUmCYw8Pj/PsBQ8n8uXKwVSneDMjk4craiJkhY5B7AzCIowABdgGcC3KAEJGEubJkWL0BkWj7k\n",
       "QuIgatI2IGzQaXh5xIBcQj7AVrDhBaDigAmSRtnvUVDU8hlAy2wArHOYWFAjgg4AAAAASUVORK5C\n",
       "YII=\n",
       "\" style=\"display:inline;vertical-align:middle;\" /></a> <a class=\"ProveItLink\" href=\"../__pv_it/64c19b17fe4a8c61da6cf48aa8734e1b2aa50e3c0/proof.ipynb\" style=\"text-decoration: none\">&#x22A2;&nbsp;</a><a class=\"ProveItLink\" href=\"../../__pv_it/83a1ddf0f64531c80e7f41ea6b904214668818b30/expr.ipynb\"><img src=\"data:image/png;base64,iVBORw0KGgoAAAANSUhEUgAAAA4AAAAOBAMAAADtZjDiAAAAG1BMVEX///9UVFQQEBAiIiJmZmaI\n",
       "iIiqqqrMzMwAAADC2JlRAAAAAXRSTlMAQObYZgAAABlJREFUCNdjYGBgKGOAgFRa0s7GxkrGxoYA\n",
       "QSUGlQeagkgAAAAASUVORK5CYII=\n",
       "\" style=\"display:inline;vertical-align:middle;\" /></a></span>"
      ],
      "text/plain": [
       "{B, [not](A => B)} |- FALSE"
      ]
     },
     "execution_count": 9,
     "metadata": {},
     "output_type": "execute_result"
    }
   ],
   "source": [
    "nImplAB.deriveContradiction([B, Not(Implies(A,B))])"
   ]
  },
  {
   "cell_type": "code",
   "execution_count": 10,
   "metadata": {},
   "outputs": [
    {
     "data": {
      "text/html": [
       "<span style=\"font-size:20px;\"><a class=\"ProveItLink\" href=\"../__pv_it/f831fa2c2cc7e34bbca606b8ca0701ee8fbb993e0/expr.ipynb\"><img src=\"data:image/png;base64,iVBORw0KGgoAAAANSUhEUgAAAHUAAAAVBAMAAACK3rzVAAAAMFBMVEX///+IiIi6urrc3NxERETM\n",
       "zMwQEBCqqqpUVFQiIiJ2dnYyMjLu7u5mZmaYmJgAAABN0h6tAAAAAXRSTlMAQObYZgAAAbhJREFU\n",
       "OMtjYGDgu8dAMmC9eABE8exCEbUjqI/dAEgwpYKYfB+QJXgcIOZuwKKJr//H3RYnBoZmEOc2iOCa\n",
       "gCzPbQChPmCzkQ1o8P0AhtMg9kpMvW8h1Os/2PTGP2Bg0L/AwCWAXe9kiMtrPyOEnOEseaCj3gsw\n",
       "8CRg1csM4fAxfkKIhcBZbkBTM4EBvAmrXsYLYEqH/R9SEF2AsX4wMET2AOm1QLwMJMCBHKQsD8BO\n",
       "VmD9CKJ5Z4LBX1ik/ngnMh0cGkD8HsQoC4ApWsDAwFkAEmJiYP6LHKHboY4CBsKxBiCjEhQTQNeE\n",
       "TIb7FSjMpgBiRdy98QU5AE8nQRwFDCPG76DwBvE6gaGtFoChF0hkIwdgFyTS+YEKGD9C9XKDHMDh\n",
       "gKQX7GZ2IJ4G9u9uCDBARC8HKAI0Yf6FhzNILziszIF4P8Japg1I0RvvAA2rZahxBHQ81wVoHPsb\n",
       "IHx7AMrYBjQnBcS5hTV+mSYw8Pj/PsBQ8n8uXKwVSnf/773hAo6HrfjSJAowQBfgmQDXm4AlL+AF\n",
       "iLyAmn9ZDAjrPQ3Pvwy7sOR9vACUsZggyYX9HmllDp8BtLwCAKwFeaB8CxEdAAAAAElFTkSuQmCC\n",
       "\" style=\"display:inline;vertical-align:middle;\" /></a> <a class=\"ProveItLink\" href=\"../__pv_it/317b249f4d19404295345cffba7157f1bad4984a0/proof.ipynb\" style=\"text-decoration: none\">&#x22A2;&nbsp;</a><a class=\"ProveItLink\" href=\"../__pv_it/338dd1322edfba4b2182c6c1f5ffad55d8a312bb0/expr.ipynb\"><img src=\"data:image/png;base64,iVBORw0KGgoAAAANSUhEUgAAADwAAAAUCAMAAADm3a4bAAAAOVBMVEX///8kJCQNDQ0oKCh2dnYy\n",
       "MjKqqqoiIiLu7u7c3NyIiIjMzMwQEBC6urpERERmZmZUVFSYmJgAAAAlhNHDAAAAAXRSTlMAQObY\n",
       "ZgAAAMtJREFUOMvFk8sSgyAMRdNWHhIIIf//sW1BpgoqjptmIWg4XG8yARjHZM+yiUU4RiYKO9lZ\n",
       "/fbRrIKXj55KTrCHubtRu/UbSsprkNgLE5zDTuby/+J6YRzA5PNivbEXhBtYsnc03NeVcACjcEqO\n",
       "jF73R+V4Pb/PeAIvlq3nS8JbeLH8uUQ3x5BhBAtXuC02zSO4dhlYwtbzwxfnfAzXLqO0bVG7whtY\n",
       "FcvBU9OpEGEAs6pT0VYL1ME4hTQeRR3hfih7n9XTn4QhDE+8Ae3tCEAGDuk8AAAAAElFTkSuQmCC\n",
       "\" style=\"display:inline;vertical-align:middle;\" /></a></span>"
      ],
      "text/plain": [
       "{[not](A => B)} |- B != TRUE"
      ]
     },
     "execution_count": 10,
     "metadata": {},
     "output_type": "execute_result"
    }
   ],
   "source": [
    "notTrueViaContradiction.specialize({A:B})"
   ]
  },
  {
   "cell_type": "code",
   "execution_count": 11,
   "metadata": {},
   "outputs": [
    {
     "data": {
      "text/html": [
       "<span style=\"font-size:20px;\"> <a class=\"ProveItLink\" href=\"../_axioms_.ipynb#untrueAntecedentImplication\" style=\"text-decoration: none\">&#x22A2;&nbsp;</a><a class=\"ProveItLink\" href=\"../__pv_it/9b57b4c358e5744d386098c1a354654cd7680b0d0/expr.ipynb\"><img src=\"data:image/png;base64,iVBORw0KGgoAAAANSUhEUgAAAL0AAAAWCAMAAACi0m0vAAAAOVBMVEX///8oKCgUFBQNDQ0QEBCI\n",
       "iIhmZma6urrMzMxUVFQiIiJERETc3Nzu7u6qqqp2dnaYmJgyMjIAAAArQGDrAAAAAXRSTlMAQObY\n",
       "ZgAAAoBJREFUWMPNV4u2nCAMtC0PeQf+/2NLQCWoqLd3a8s564GVyDCZhDBN/6BZ+P43vMVn3MYA\n",
       "L4F3ho7m+NQOVEpKCGWMzCOF8INfX0b3Evpou1F6bsnqvkWaMwe4a7sSYc1L4EF0o5geszanKg+Z\n",
       "8BOBE8qbE/5y05R650WyZ7PMyb98mQoJgTuG3eCwWf1WyHYLQYYkT3k+kYJhdcdMF8YjGiaDTYeX\n",
       "0HMqHOkmn+CBwEpLquxLqyqXgDPUvPcU7UuTRMhxTv+6cfO1jg0B6ySKmW9joUlL4iB7BcCN9lvI\n",
       "IBic5Ujegs6XUNwVGFn/QFNnIJCNgP5k+Nj7VPueB5vEKKVHfyZ7x9TyvmgQH7wx4kTnS1HmepIZ\n",
       "9uh7A6vG2yxZr+10ztlbqDRMdi4yeZR93oVffFF4hbqDpQWnKRu6OFbEMfe9gXGP0dceGx1XVgV7\n",
       "lD2i5wS9jZmFRgifDFnW4ckwcXqU7UD1BjJM1+ibcpaObqIUsWv2NNtPahGq1EvQqUaIwuAh0kw8\n",
       "R4rq4q6Hsxqokrt+5R9cod/eWn952Mo4yPbzKjWoMzyBCx7nEVmUKVwP0fcG3E833Aexy/vm9Lhy\n",
       "h8IlVh9JtmpTLG5uSctFEYKhIVqm2OQHoHqDvgA7RV/97UxKBZ/PHX2SdWoeJ+O4lmitMFumwIZW\n",
       "uIK1mVbYkvLTgWoGKiv15w/U66Vy+kphfCTfl6qH6kDWhTE+rKm4ypOFAaXEoM+WY/QgPnNoB76P\n",
       "qBIQ1iQN08wy6yGfeOguOQBFDfpsucTz0wLsD24JN/eCUdE5PF38s1rJfaQWv+HA26+if3pL+sTN\n",
       "EG4cOFxihB7euiF8q4n/BslvQhscDi68I44AAAAASUVORK5CYII=\n",
       "\" style=\"display:inline;vertical-align:middle;\" /></a></span>"
      ],
      "text/plain": [
       "|- forall_{A, B | A != TRUE} (A => B)"
      ]
     },
     "execution_count": 11,
     "metadata": {},
     "output_type": "execute_result"
    }
   ],
   "source": [
    "untrueAntecedentImplication"
   ]
  },
  {
   "cell_type": "code",
   "execution_count": 12,
   "metadata": {},
   "outputs": [
    {
     "data": {
      "text/html": [
       "<span style=\"font-size:20px;\"><a class=\"ProveItLink\" href=\"../__pv_it/f831fa2c2cc7e34bbca606b8ca0701ee8fbb993e0/expr.ipynb\"><img src=\"data:image/png;base64,iVBORw0KGgoAAAANSUhEUgAAAHUAAAAVBAMAAACK3rzVAAAAMFBMVEX///+IiIi6urrc3NxERETM\n",
       "zMwQEBCqqqpUVFQiIiJ2dnYyMjLu7u5mZmaYmJgAAABN0h6tAAAAAXRSTlMAQObYZgAAAbhJREFU\n",
       "OMtjYGDgu8dAMmC9eABE8exCEbUjqI/dAEgwpYKYfB+QJXgcIOZuwKKJr//H3RYnBoZmEOc2iOCa\n",
       "gCzPbQChPmCzkQ1o8P0AhtMg9kpMvW8h1Os/2PTGP2Bg0L/AwCWAXe9kiMtrPyOEnOEseaCj3gsw\n",
       "8CRg1csM4fAxfkKIhcBZbkBTM4EBvAmrXsYLYEqH/R9SEF2AsX4wMET2AOm1QLwMJMCBHKQsD8BO\n",
       "VmD9CKJ5Z4LBX1ik/ngnMh0cGkD8HsQoC4ApWsDAwFkAEmJiYP6LHKHboY4CBsKxBiCjEhQTQNeE\n",
       "TIb7FSjMpgBiRdy98QU5AE8nQRwFDCPG76DwBvE6gaGtFoChF0hkIwdgFyTS+YEKGD9C9XKDHMDh\n",
       "gKQX7GZ2IJ4G9u9uCDBARC8HKAI0Yf6FhzNILziszIF4P8Japg1I0RvvAA2rZahxBHQ81wVoHPsb\n",
       "IHx7AMrYBjQnBcS5hTV+mSYw8Pj/PsBQ8n8uXKwVSnf/773hAo6HrfjSJAowQBfgmQDXm4AlL+AF\n",
       "iLyAmn9ZDAjrPQ3Pvwy7sOR9vACUsZggyYX9HmllDp8BtLwCAKwFeaB8CxEdAAAAAElFTkSuQmCC\n",
       "\" style=\"display:inline;vertical-align:middle;\" /></a> <a class=\"ProveItLink\" href=\"../__pv_it/076b011ae5a7988238b0d7ef40f7f94f954a75bd0/proof.ipynb\" style=\"text-decoration: none\">&#x22A2;&nbsp;</a><a class=\"ProveItLink\" href=\"../__pv_it/8b9c784705e35002d4429ef743e77d1f418289900/expr.ipynb\"><img src=\"data:image/png;base64,iVBORw0KGgoAAAANSUhEUgAAAEAAAAAPBAMAAACmSdRUAAAAMFBMVEX///92dnYyMjKqqqoiIiLu\n",
       "7u7c3NyIiIjMzMwQEBC6urpERERmZmZUVFSYmJgAAADEjrHzAAAAAXRSTlMAQObYZgAAAOpJREFU\n",
       "GNNjYGB4+//O2d0LGLABDgUwNZuBgecHVgVMH8DK/jEwcP3BquDRVxDJ/o2Bge87XJA7Ac5ktfkG\n",
       "FpnAwBDpirB3A5zJx/4LRPFfYODwDUCY+wbOWsr8D0T133u+xQAscMQFBPwPwGxYwAG2uT6BgXUu\n",
       "stOMIMoZuBjYwG7fCVJkgKSAVRMSKr1nzv4G0X9BCgqQFOSKQWigsknQYGC4D9ZzSAkM1CDyzEDs\n",
       "CQ0Gjt9IBiyC0slArA8KTmAwrNyK5AJVCM3mACT2JzDw6v89c3szkgG8DRB1+z8FMFj/98EMfzZU\n",
       "LgBdXD0b6P4qzAAAAABJRU5ErkJggg==\n",
       "\" style=\"display:inline;vertical-align:middle;\" /></a></span>"
      ],
      "text/plain": [
       "{[not](A => B)} |- B => A"
      ]
     },
     "execution_count": 12,
     "metadata": {},
     "output_type": "execute_result"
    }
   ],
   "source": [
    "untrueAntecedentImplication.specialize({A:B, B:A})"
   ]
  },
  {
   "cell_type": "code",
   "execution_count": 13,
   "metadata": {},
   "outputs": [
    {
     "data": {
      "text/html": [
       "<table><tr><th>&nbsp;</th><th>step type</th><th>requirements</th><th>statement</th></tr>\n",
       "<tr><td><a name=\"0x19eece9e3e3e81f1_step0\">0</a></td><td>generalizaton</td><td><a href=\"#0x19eece9e3e3e81f1_step1\">1</a></td><td><span style=\"font-size:20px;\"> <a class=\"ProveItLink\" href=\"../__pv_it/d3ca62649c52d419d1041d96dfdbb84042a872460/proof.ipynb\" style=\"text-decoration: none\">&#x22A2;&nbsp;</a><a class=\"ProveItLink\" href=\"../__pv_it/ebde2fe4f94eb2d0488ad1e08d91920572783df60/expr.ipynb\"><img src=\"data:image/png;base64,iVBORw0KGgoAAAANSUhEUgAAANoAAAAWBAMAAABUGZ8nAAAAMFBMVEX///8QEBCIiIhmZma6urrM\n",
       "zMxUVFQiIiJERETc3Nzu7u6qqqp2dnaYmJgyMjIAAAAcRTyBAAAAAXRSTlMAQObYZgAAAydJREFU\n",
       "SMetVk9IFFEY/zk7qzvjrnoICuqw0CEpymBlhRBdCMpLKR3qEu2CGdYhpQ7RP9wgYo1ot4t5iZ0y\n",
       "KDawhaLoUBoeMovY6ljmSnXIQ4rmnxSx73uzo89pl0XWD+bNzPve+37f+31/ZoB1kjt5V5TGgDQ/\n",
       "DBcMpocBT9uMr/Vqdv0xuk4C7/h5rGC0MnIcRQRZ35RVP05XL9BNNy1cMNpnHoIpoHF3NrVn3ADc\n",
       "XpTxLVkw2nkequiAI15ryhVbUT+qpxe9Ap6hROJ2wWBaO49XyOJGw5pzSoylqgI0/gDmIpFL+a1l\n",
       "n16OkSL4mwGOnLKxK0Q1+ohkDAAtQKeYMseGqYFWQYEqm+23U6NGa/2deLrMGhtzzgxXXhSvNedY\n",
       "OpZDeB9BJvgbsBe6qALPHzOeFXBXCAMSWLHAGQlIUx+B13BY+CUceeUvcDckrXll5UMAcUZ+Tguh\n",
       "sGPoWRQKRwil83a0o6Kk6lPSlB/oM3TLdhE74iIvlQW5CEdN/5zNvjYOYpASMlUipobOml564Ujb\n",
       "0Vp4cD8wmXkpxjNAHfBLRisnbGVS2tb1NkM7LUibaFr6sMD3RoTmcRN2GXY0kXGHXOEVWvVpKNQT\n",
       "dspMcrkVi3jU/RZi+ULKEo7Ofs6O48IGaoSmcWelSY/Lnt8hRzsGI5HIzQ3s7uSna3R7JmcJl1tQ\n",
       "SvuD1nZCK5swswRPhK0vqBKqD8A2CY3Np1U24UkqE5l0ryZa01BoX0PGoJtJHiUnNhkrUbP6IZez\n",
       "izIItUw3J6f+/X1ULLwBxJOrzxZS+bS9tYPzGTMnDLj6oS2YzVZEhpBPLzX7I1JXKs5U48OlMZRG\n",
       "Z8mfn+w0ozgMxIWWTDTGbGiiK+yBNo2tPpJm2lCehEru7lvVufJ0BL3dejpABlLadWjz0LbY4hbi\n",
       "ZSpFZhF6IpG4x1zEDdyikv/6f9/ILW6rhbrmoEUvOzfjzZSvNWBDi+ECEA2je1YUXBdv7PD5+UtW\n",
       "na0F55Je++dVepYrYIe8SLablr+m+aTT9v4iB5or18c/tYY/BY/9+KkcCGoqu4Ge9fqrgSPXoSXZ\n",
       "vkab/wBSDM1Ms4MeswAAAABJRU5ErkJggg==\n",
       "\" style=\"display:inline;vertical-align:middle;\" /></a></span></td></tr>\n",
       "<tr><td><a name=\"0x19eece9e3e3e81f1_step1\">1</a></td><td>instantiation</td><td><a href=\"#0x19eece9e3e3e81f1_step2\">2</a>, <a href=\"#0x19eece9e3e3e81f1_step3\">3</a></td><td><span style=\"font-size:20px;\"><a class=\"ProveItLink\" href=\"../__pv_it/f831fa2c2cc7e34bbca606b8ca0701ee8fbb993e0/expr.ipynb\"><img src=\"data:image/png;base64,iVBORw0KGgoAAAANSUhEUgAAAHUAAAAVBAMAAACK3rzVAAAAMFBMVEX///+IiIi6urrc3NxERETM\n",
       "zMwQEBCqqqpUVFQiIiJ2dnYyMjLu7u5mZmaYmJgAAABN0h6tAAAAAXRSTlMAQObYZgAAAbhJREFU\n",
       "OMtjYGDgu8dAMmC9eABE8exCEbUjqI/dAEgwpYKYfB+QJXgcIOZuwKKJr//H3RYnBoZmEOc2iOCa\n",
       "gCzPbQChPmCzkQ1o8P0AhtMg9kpMvW8h1Os/2PTGP2Bg0L/AwCWAXe9kiMtrPyOEnOEseaCj3gsw\n",
       "8CRg1csM4fAxfkKIhcBZbkBTM4EBvAmrXsYLYEqH/R9SEF2AsX4wMET2AOm1QLwMJMCBHKQsD8BO\n",
       "VmD9CKJ5Z4LBX1ik/ngnMh0cGkD8HsQoC4ApWsDAwFkAEmJiYP6LHKHboY4CBsKxBiCjEhQTQNeE\n",
       "TIb7FSjMpgBiRdy98QU5AE8nQRwFDCPG76DwBvE6gaGtFoChF0hkIwdgFyTS+YEKGD9C9XKDHMDh\n",
       "gKQX7GZ2IJ4G9u9uCDBARC8HKAI0Yf6FhzNILziszIF4P8Japg1I0RvvAA2rZahxBHQ81wVoHPsb\n",
       "IHx7AMrYBjQnBcS5hTV+mSYw8Pj/PsBQ8n8uXKwVSnf/773hAo6HrfjSJAowQBfgmQDXm4AlL+AF\n",
       "iLyAmn9ZDAjrPQ3Pvwy7sOR9vACUsZggyYX9HmllDp8BtLwCAKwFeaB8CxEdAAAAAElFTkSuQmCC\n",
       "\" style=\"display:inline;vertical-align:middle;\" /></a> <a class=\"ProveItLink\" href=\"../__pv_it/076b011ae5a7988238b0d7ef40f7f94f954a75bd0/proof.ipynb\" style=\"text-decoration: none\">&#x22A2;&nbsp;</a><a class=\"ProveItLink\" href=\"../__pv_it/8b9c784705e35002d4429ef743e77d1f418289900/expr.ipynb\"><img src=\"data:image/png;base64,iVBORw0KGgoAAAANSUhEUgAAAEAAAAAPBAMAAACmSdRUAAAAMFBMVEX///92dnYyMjKqqqoiIiLu\n",
       "7u7c3NyIiIjMzMwQEBC6urpERERmZmZUVFSYmJgAAADEjrHzAAAAAXRSTlMAQObYZgAAAOpJREFU\n",
       "GNNjYGB4+//O2d0LGLABDgUwNZuBgecHVgVMH8DK/jEwcP3BquDRVxDJ/o2Bge87XJA7Ac5ktfkG\n",
       "FpnAwBDpirB3A5zJx/4LRPFfYODwDUCY+wbOWsr8D0T133u+xQAscMQFBPwPwGxYwAG2uT6BgXUu\n",
       "stOMIMoZuBjYwG7fCVJkgKSAVRMSKr1nzv4G0X9BCgqQFOSKQWigsknQYGC4D9ZzSAkM1CDyzEDs\n",
       "CQ0Gjt9IBiyC0slArA8KTmAwrNyK5AJVCM3mACT2JzDw6v89c3szkgG8DRB1+z8FMFj/98EMfzZU\n",
       "LgBdXD0b6P4qzAAAAABJRU5ErkJggg==\n",
       "\" style=\"display:inline;vertical-align:middle;\" /></a></span></td></tr>\n",
       "<tr><td>&nbsp;</td><td colspan=4 style=\"text-align:left\"><span style=\"font-size:20px;\"><a class=\"ProveItLink\" href=\"../../../../__pv_it/d3792d0d8642fdf1cd2a3a9b32c673ee13653de00/expr.ipynb\"><img src=\"data:image/png;base64,iVBORw0KGgoAAAANSUhEUgAAAA8AAAAOBAMAAAACpFvcAAAALVBMVEX///8iIiIQEBBERERUVFS6\n",
       "urqIiIjc3NxmZmaqqqru7u6YmJgyMjLMzMwAAACK9jtgAAAAAXRSTlMAQObYZgAAAFtJREFUCNdj\n",
       "YACBOwxQcA5Kc59bAGGs7CuAMDbkBYBp1gXzNoAZSxnuJYAZAQx1DSCa16PDzwCshIGB6QCIMYGB\n",
       "gVEBSLMDGTwPgIxCIGZ+zsCw+N0pBk67hw0AfpEVEQi8t+wAAAAASUVORK5CYII=\n",
       "\" style=\"display:inline;vertical-align:middle;\" /></a> : <a class=\"ProveItLink\" href=\"../../../../__pv_it/4d98b438710c5ada9ffa4646bb123a7d0e69ec000/expr.ipynb\"><img src=\"data:image/png;base64,iVBORw0KGgoAAAANSUhEUgAAABAAAAAOBAMAAADUAYG5AAAALVBMVEX///8yMjKqqqoiIiLu7u7c\n",
       "3NyIiIjMzMwQEBC6urpERERmZmZUVFSYmJgAAACsPVCVAAAAAXRSTlMAQObYZgAAAGxJREFUCNdj\n",
       "YGC48+70nlUTGICgi4GB+zmQZn/LwMD5Gshge8rAwPsMyOBqYGDwMAEy+A4wsNs4ABl1Z68tVgBp\n",
       "ygtgYOkBMVaAOCChNyBGAsQYhnMTIMawvwJyGIHGzFjCwMAj92b3qUUMDAAXABxvZ4rl5AAAAABJ\n",
       "RU5ErkJggg==\n",
       "\" style=\"display:inline;vertical-align:middle;\" /></a>, <a class=\"ProveItLink\" href=\"../../../../__pv_it/4d98b438710c5ada9ffa4646bb123a7d0e69ec000/expr.ipynb\"><img src=\"data:image/png;base64,iVBORw0KGgoAAAANSUhEUgAAABAAAAAOBAMAAADUAYG5AAAALVBMVEX///8yMjKqqqoiIiLu7u7c\n",
       "3NyIiIjMzMwQEBC6urpERERmZmZUVFSYmJgAAACsPVCVAAAAAXRSTlMAQObYZgAAAGxJREFUCNdj\n",
       "YGC48+70nlUTGICgi4GB+zmQZn/LwMD5Gshge8rAwPsMyOBqYGDwMAEy+A4wsNs4ABl1Z68tVgBp\n",
       "ygtgYOkBMVaAOCChNyBGAsQYhnMTIMawvwJyGIHGzFjCwMAj92b3qUUMDAAXABxvZ4rl5AAAAABJ\n",
       "RU5ErkJggg==\n",
       "\" style=\"display:inline;vertical-align:middle;\" /></a> : <a class=\"ProveItLink\" href=\"../../../../__pv_it/d3792d0d8642fdf1cd2a3a9b32c673ee13653de00/expr.ipynb\"><img src=\"data:image/png;base64,iVBORw0KGgoAAAANSUhEUgAAAA8AAAAOBAMAAAACpFvcAAAALVBMVEX///8iIiIQEBBERERUVFS6\n",
       "urqIiIjc3NxmZmaqqqru7u6YmJgyMjLMzMwAAACK9jtgAAAAAXRSTlMAQObYZgAAAFtJREFUCNdj\n",
       "YACBOwxQcA5Kc59bAGGs7CuAMDbkBYBp1gXzNoAZSxnuJYAZAQx1DSCa16PDzwCshIGB6QCIMYGB\n",
       "gVEBSLMDGTwPgIxCIGZ+zsCw+N0pBk67hw0AfpEVEQi8t+wAAAAASUVORK5CYII=\n",
       "\" style=\"display:inline;vertical-align:middle;\" /></a></span></td></tr><tr><td><a name=\"0x19eece9e3e3e81f1_step2\">2</a></td><td>axiom</td><td></td><td><span style=\"font-size:20px;\"> <a class=\"ProveItLink\" href=\"../_axioms_.ipynb#untrueAntecedentImplication\" style=\"text-decoration: none\">&#x22A2;&nbsp;</a><a class=\"ProveItLink\" href=\"../__pv_it/9b57b4c358e5744d386098c1a354654cd7680b0d0/expr.ipynb\"><img src=\"data:image/png;base64,iVBORw0KGgoAAAANSUhEUgAAAL0AAAAWCAMAAACi0m0vAAAAOVBMVEX///8oKCgUFBQNDQ0QEBCI\n",
       "iIhmZma6urrMzMxUVFQiIiJERETc3Nzu7u6qqqp2dnaYmJgyMjIAAAArQGDrAAAAAXRSTlMAQObY\n",
       "ZgAAAoBJREFUWMPNV4u2nCAMtC0PeQf+/2NLQCWoqLd3a8s564GVyDCZhDBN/6BZ+P43vMVn3MYA\n",
       "L4F3ho7m+NQOVEpKCGWMzCOF8INfX0b3Evpou1F6bsnqvkWaMwe4a7sSYc1L4EF0o5geszanKg+Z\n",
       "8BOBE8qbE/5y05R650WyZ7PMyb98mQoJgTuG3eCwWf1WyHYLQYYkT3k+kYJhdcdMF8YjGiaDTYeX\n",
       "0HMqHOkmn+CBwEpLquxLqyqXgDPUvPcU7UuTRMhxTv+6cfO1jg0B6ySKmW9joUlL4iB7BcCN9lvI\n",
       "IBic5Ujegs6XUNwVGFn/QFNnIJCNgP5k+Nj7VPueB5vEKKVHfyZ7x9TyvmgQH7wx4kTnS1HmepIZ\n",
       "9uh7A6vG2yxZr+10ztlbqDRMdi4yeZR93oVffFF4hbqDpQWnKRu6OFbEMfe9gXGP0dceGx1XVgV7\n",
       "lD2i5wS9jZmFRgifDFnW4ckwcXqU7UD1BjJM1+ibcpaObqIUsWv2NNtPahGq1EvQqUaIwuAh0kw8\n",
       "R4rq4q6Hsxqokrt+5R9cod/eWn952Mo4yPbzKjWoMzyBCx7nEVmUKVwP0fcG3E833Aexy/vm9Lhy\n",
       "h8IlVh9JtmpTLG5uSctFEYKhIVqm2OQHoHqDvgA7RV/97UxKBZ/PHX2SdWoeJ+O4lmitMFumwIZW\n",
       "uIK1mVbYkvLTgWoGKiv15w/U66Vy+kphfCTfl6qH6kDWhTE+rKm4ypOFAaXEoM+WY/QgPnNoB76P\n",
       "qBIQ1iQN08wy6yGfeOguOQBFDfpsucTz0wLsD24JN/eCUdE5PF38s1rJfaQWv+HA26+if3pL+sTN\n",
       "EG4cOFxihB7euiF8q4n/BslvQhscDi68I44AAAAASUVORK5CYII=\n",
       "\" style=\"display:inline;vertical-align:middle;\" /></a></span></td></tr>\n",
       "<tr><td>&nbsp;</td><td colspan=4 style-\"text-align:left\"><a class=\"ProveItLink\" href=\"../_axioms_.ipynb#untrueAntecedentImplication\">proveit.logic.boolean.implication.untrueAntecedentImplication</a></td></tr><tr><td><a name=\"0x19eece9e3e3e81f1_step3\">3</a></td><td>instantiation</td><td><a href=\"#0x19eece9e3e3e81f1_step4\">4</a>, <a href=\"#0x19eece9e3e3e81f1_step5\">5</a></td><td><span style=\"font-size:20px;\"><a class=\"ProveItLink\" href=\"../__pv_it/f831fa2c2cc7e34bbca606b8ca0701ee8fbb993e0/expr.ipynb\"><img src=\"data:image/png;base64,iVBORw0KGgoAAAANSUhEUgAAAHUAAAAVBAMAAACK3rzVAAAAMFBMVEX///+IiIi6urrc3NxERETM\n",
       "zMwQEBCqqqpUVFQiIiJ2dnYyMjLu7u5mZmaYmJgAAABN0h6tAAAAAXRSTlMAQObYZgAAAbhJREFU\n",
       "OMtjYGDgu8dAMmC9eABE8exCEbUjqI/dAEgwpYKYfB+QJXgcIOZuwKKJr//H3RYnBoZmEOc2iOCa\n",
       "gCzPbQChPmCzkQ1o8P0AhtMg9kpMvW8h1Os/2PTGP2Bg0L/AwCWAXe9kiMtrPyOEnOEseaCj3gsw\n",
       "8CRg1csM4fAxfkKIhcBZbkBTM4EBvAmrXsYLYEqH/R9SEF2AsX4wMET2AOm1QLwMJMCBHKQsD8BO\n",
       "VmD9CKJ5Z4LBX1ik/ngnMh0cGkD8HsQoC4ApWsDAwFkAEmJiYP6LHKHboY4CBsKxBiCjEhQTQNeE\n",
       "TIb7FSjMpgBiRdy98QU5AE8nQRwFDCPG76DwBvE6gaGtFoChF0hkIwdgFyTS+YEKGD9C9XKDHMDh\n",
       "gKQX7GZ2IJ4G9u9uCDBARC8HKAI0Yf6FhzNILziszIF4P8Japg1I0RvvAA2rZahxBHQ81wVoHPsb\n",
       "IHx7AMrYBjQnBcS5hTV+mSYw8Pj/PsBQ8n8uXKwVSnf/773hAo6HrfjSJAowQBfgmQDXm4AlL+AF\n",
       "iLyAmn9ZDAjrPQ3Pvwy7sOR9vACUsZggyYX9HmllDp8BtLwCAKwFeaB8CxEdAAAAAElFTkSuQmCC\n",
       "\" style=\"display:inline;vertical-align:middle;\" /></a> <a class=\"ProveItLink\" href=\"../__pv_it/317b249f4d19404295345cffba7157f1bad4984a0/proof.ipynb\" style=\"text-decoration: none\">&#x22A2;&nbsp;</a><a class=\"ProveItLink\" href=\"../__pv_it/338dd1322edfba4b2182c6c1f5ffad55d8a312bb0/expr.ipynb\"><img src=\"data:image/png;base64,iVBORw0KGgoAAAANSUhEUgAAADwAAAAUCAMAAADm3a4bAAAAOVBMVEX///8kJCQNDQ0oKCh2dnYy\n",
       "MjKqqqoiIiLu7u7c3NyIiIjMzMwQEBC6urpERERmZmZUVFSYmJgAAAAlhNHDAAAAAXRSTlMAQObY\n",
       "ZgAAAMtJREFUOMvFk8sSgyAMRdNWHhIIIf//sW1BpgoqjptmIWg4XG8yARjHZM+yiUU4RiYKO9lZ\n",
       "/fbRrIKXj55KTrCHubtRu/UbSsprkNgLE5zDTuby/+J6YRzA5PNivbEXhBtYsnc03NeVcACjcEqO\n",
       "jF73R+V4Pb/PeAIvlq3nS8JbeLH8uUQ3x5BhBAtXuC02zSO4dhlYwtbzwxfnfAzXLqO0bVG7whtY\n",
       "FcvBU9OpEGEAs6pT0VYL1ME4hTQeRR3hfih7n9XTn4QhDE+8Ae3tCEAGDuk8AAAAAElFTkSuQmCC\n",
       "\" style=\"display:inline;vertical-align:middle;\" /></a></span></td></tr>\n",
       "<tr><td>&nbsp;</td><td colspan=4 style=\"text-align:left\"><span style=\"font-size:20px;\"><a class=\"ProveItLink\" href=\"../../../../__pv_it/d3792d0d8642fdf1cd2a3a9b32c673ee13653de00/expr.ipynb\"><img src=\"data:image/png;base64,iVBORw0KGgoAAAANSUhEUgAAAA8AAAAOBAMAAAACpFvcAAAALVBMVEX///8iIiIQEBBERERUVFS6\n",
       "urqIiIjc3NxmZmaqqqru7u6YmJgyMjLMzMwAAACK9jtgAAAAAXRSTlMAQObYZgAAAFtJREFUCNdj\n",
       "YACBOwxQcA5Kc59bAGGs7CuAMDbkBYBp1gXzNoAZSxnuJYAZAQx1DSCa16PDzwCshIGB6QCIMYGB\n",
       "gVEBSLMDGTwPgIxCIGZ+zsCw+N0pBk67hw0AfpEVEQi8t+wAAAAASUVORK5CYII=\n",
       "\" style=\"display:inline;vertical-align:middle;\" /></a> : <a class=\"ProveItLink\" href=\"../../../../__pv_it/4d98b438710c5ada9ffa4646bb123a7d0e69ec000/expr.ipynb\"><img src=\"data:image/png;base64,iVBORw0KGgoAAAANSUhEUgAAABAAAAAOBAMAAADUAYG5AAAALVBMVEX///8yMjKqqqoiIiLu7u7c\n",
       "3NyIiIjMzMwQEBC6urpERERmZmZUVFSYmJgAAACsPVCVAAAAAXRSTlMAQObYZgAAAGxJREFUCNdj\n",
       "YGC48+70nlUTGICgi4GB+zmQZn/LwMD5Gshge8rAwPsMyOBqYGDwMAEy+A4wsNs4ABl1Z68tVgBp\n",
       "ygtgYOkBMVaAOCChNyBGAsQYhnMTIMawvwJyGIHGzFjCwMAj92b3qUUMDAAXABxvZ4rl5AAAAABJ\n",
       "RU5ErkJggg==\n",
       "\" style=\"display:inline;vertical-align:middle;\" /></a></span></td></tr><tr><td><a name=\"0x19eece9e3e3e81f1_step4\">4</a></td><td>theorem</td><td></td><td><span style=\"font-size:20px;\"> <a class=\"ProveItLink\" href=\"notTrueViaContradiction.ipynb\" style=\"text-decoration: none\">&#x22A2;&nbsp;</a><a class=\"ProveItLink\" href=\"../__pv_it/792ea4d452aa85714d7ac07aa0f66c7d7fd9022f0/expr.ipynb\"><img src=\"data:image/png;base64,iVBORw0KGgoAAAANSUhEUgAAAKkAAAAWCAMAAACMl0y9AAAAOVBMVEX///8kJCQNDQ0oKCgQEBCI\n",
       "iIhmZma6urrMzMxUVFQiIiJERETc3Nzu7u6qqqp2dnaYmJgyMjIAAAD9T1yxAAAAAXRSTlMAQObY\n",
       "ZgAAAgBJREFUSMfNV9dy7CAMJblG9Pr/H3uNqyjGOLPORA8MINY66lpCfoO0v3/jzCXL6rSG4+z9\n",
       "W0CNwicemsqgW5CIxHwhElRnd34wbyENOjvF1hvBKkvSU9Wkht711eotoB6yU4gNkzSkI6TEUWTK\n",
       "07ifJolNaixE3TAp7yI1U9LRmURavpZO2Zc9oZGNmDRDSkL6TVSJpHsLKcXOZ4bYWKeu4jdIHRyG\n",
       "V8gleE9qAyj9CKlCwMz8NR5PCC4s9O87rdBB6lNOMdiza7/N3FP5xTe8d4RbK0xtrraOMGLSHKld\n",
       "Qigt9FTcQOaeEmnBLkQ27qZTMS4AQMTyFRfkDilfSpvzK9qjWUjoCC/Y1j9Auu6mMBRODaRze0Ba\n",
       "cUqUuhZestf+0UN6en/byCmP069pjVbRQcrkphPqECJ1s2vhO9upjQKyWRPpkVHatptUaGdonVHz\n",
       "HYLm58/ReIm0Yi9liPWQOijqqspLPwNyjxS2InrWDRPAOYX7XSa8ZqdLIUwH6eo4o2Jc2qGdN1mk\n",
       "X80bDGdA2KqDPx6DWeoIv0B6sinsJMB0vZ9309p0MDKNyQs9cB1SF2yzEaU3GVVMKNWgNTLCOVoG\n",
       "/1LqtIrSt4S32HrP2CXFprS4J03NjnRxE4aa4c388XiS/oFJx/r3J8bWzr8TNjLgjg0arw3YHyf4\n",
       "Izj+A3SNFmjL8c1mAAAAAElFTkSuQmCC\n",
       "\" style=\"display:inline;vertical-align:middle;\" /></a></span></td></tr>\n",
       "<tr><td>&nbsp;</td><td colspan=4 style-\"text-align:left\"><a class=\"ProveItLink\" href=\"notTrueViaContradiction.ipynb\">proveit.logic.boolean.implication.notTrueViaContradiction</a></td></tr><tr><td><a name=\"0x19eece9e3e3e81f1_step5\">5</a></td><td>hypothetical reasoning</td><td><a href=\"#0x19eece9e3e3e81f1_step6\">6</a></td><td><span style=\"font-size:20px;\"><a class=\"ProveItLink\" href=\"../__pv_it/f831fa2c2cc7e34bbca606b8ca0701ee8fbb993e0/expr.ipynb\"><img src=\"data:image/png;base64,iVBORw0KGgoAAAANSUhEUgAAAHUAAAAVBAMAAACK3rzVAAAAMFBMVEX///+IiIi6urrc3NxERETM\n",
       "zMwQEBCqqqpUVFQiIiJ2dnYyMjLu7u5mZmaYmJgAAABN0h6tAAAAAXRSTlMAQObYZgAAAbhJREFU\n",
       "OMtjYGDgu8dAMmC9eABE8exCEbUjqI/dAEgwpYKYfB+QJXgcIOZuwKKJr//H3RYnBoZmEOc2iOCa\n",
       "gCzPbQChPmCzkQ1o8P0AhtMg9kpMvW8h1Os/2PTGP2Bg0L/AwCWAXe9kiMtrPyOEnOEseaCj3gsw\n",
       "8CRg1csM4fAxfkKIhcBZbkBTM4EBvAmrXsYLYEqH/R9SEF2AsX4wMET2AOm1QLwMJMCBHKQsD8BO\n",
       "VmD9CKJ5Z4LBX1ik/ngnMh0cGkD8HsQoC4ApWsDAwFkAEmJiYP6LHKHboY4CBsKxBiCjEhQTQNeE\n",
       "TIb7FSjMpgBiRdy98QU5AE8nQRwFDCPG76DwBvE6gaGtFoChF0hkIwdgFyTS+YEKGD9C9XKDHMDh\n",
       "gKQX7GZ2IJ4G9u9uCDBARC8HKAI0Yf6FhzNILziszIF4P8Japg1I0RvvAA2rZahxBHQ81wVoHPsb\n",
       "IHx7AMrYBjQnBcS5hTV+mSYw8Pj/PsBQ8n8uXKwVSnf/773hAo6HrfjSJAowQBfgmQDXm4AlL+AF\n",
       "iLyAmn9ZDAjrPQ3Pvwy7sOR9vACUsZggyYX9HmllDp8BtLwCAKwFeaB8CxEdAAAAAElFTkSuQmCC\n",
       "\" style=\"display:inline;vertical-align:middle;\" /></a> <a class=\"ProveItLink\" href=\"../__pv_it/6d127d8d2a49a06a384c138c7829aa1ff30d53b70/proof.ipynb\" style=\"text-decoration: none\">&#x22A2;&nbsp;</a><a class=\"ProveItLink\" href=\"../__pv_it/9b4689d5a07d270c2c4d459086cb19c8730d1bf50/expr.ipynb\"><img src=\"data:image/png;base64,iVBORw0KGgoAAAANSUhEUgAAAEAAAAAPBAMAAACmSdRUAAAAMFBMVEX///92dnYyMjKqqqoiIiLu\n",
       "7u7c3NyIiIjMzMwQEBC6urpERERmZmZUVFSYmJgAAADEjrHzAAAAAXRSTlMAQObYZgAAALhJREFU\n",
       "GNNjYGB4+//O2d0LGLCAZig9m4GB5wc2BeYQiuMfAwPXHzwK2L8xMPB9h4tyJ6Ar4J7AwBDpChfl\n",
       "2ICugP8CA4dvAMLgN+gK+u8932IAZh1xAQH/A2gK6hMYWOciu83IAFXBTpAiAyQFrJoLUBT8BSko\n",
       "QFKQK4ZiAigYGO6D9RxSAgM1VDeAgoHjN5IBi9B8wQQMhpVbkVygiqqAV//vmdubkQzgbWCA+Xmm\n",
       "i4svZgSwoXIBQtgvPRdpmQIAAAAASUVORK5CYII=\n",
       "\" style=\"display:inline;vertical-align:middle;\" /></a></span></td></tr>\n",
       "<tr><td><a name=\"0x19eece9e3e3e81f1_step6\">6</a></td><td>instantiation</td><td><a href=\"#0x19eece9e3e3e81f1_step7\">7</a>, <a href=\"#0x19eece9e3e3e81f1_step8\">8</a>, <a href=\"#0x19eece9e3e3e81f1_step9\">9</a></td><td><span style=\"font-size:20px;\"><a class=\"ProveItLink\" href=\"../__pv_it/b23d683aa33f084c968438e4ec075bee1042230c0/expr.ipynb\"><img src=\"data:image/png;base64,iVBORw0KGgoAAAANSUhEUgAAAI8AAAAVBAMAAACNsKCFAAAAMFBMVEX///+IiIi6urrc3NxERETM\n",
       "zMwQEBCqqqpUVFQiIiJ2dnYyMjLu7u5mZmaYmJgAAABN0h6tAAAAAXRSTlMAQObYZgAAAixJREFU\n",
       "OMtjYGDgu8dAGWC9eABE8ezCrcSOoCHsBkCCKRXE5PsAIl/8773hooCmiscBYuMGLCbw9f+42+LE\n",
       "wNAM4twGEVwTwBIpDAy8X9EUcxtAqA/Y3MIGtOV+AMNpEHslwiDWf0AX/kVT+xZCvf6DzaD4BwwM\n",
       "+hcYuARQDWL8DHTtRzS1kyEerP2MEHKGs+SBzn0vwMCTgGoQC5B/bA6qOcwQT/MxfkKIhcBZbkAr\n",
       "MoHRtQnVIP4GBtYZB1ANYrwApnTY/yGF8QUY6wcDQ2QPkF4LxMtAAhzgOInve+hZgOYzlgdgnymw\n",
       "gr3MOxMMYOHI+uOdyHRwCALxexCjLADqY54MiBKIjgUMDJxgk5kYmJEjgX071LnAgDvWAGRUguIV\n",
       "6M6QyTAfM8gjOYkZqIYNnK4i7t74guzO00kMsEBl/A7yC4jXCYw7tQCojxnkBbAZBCSykWOgC5K4\n",
       "gIHKwPgRahA3yGkcDtBkxNCvgGoQ2GvsQDwN7OPdEGCASEYcoOjUhIURONZAPmZF9gHIIHBgmwPx\n",
       "foQ40wakZBTvAA3sZXCDuIE+VvNh4PkN1wH0MNcFaFryN0CEECyJbAMamgLi3EJORxz7gTnQHciZ\n",
       "iZyUmCYw8Pj/PsBQ8n8uXKwVSneDMjk4craiJkhY5B7AzCIowABdgGcC3KAEJGEubJkWL0BkWj7k\n",
       "QuIgatI2IGzQaXh5xIBcQj7AVrDhBaDigAmSRtnvUVDU8hlAy2wArHOYWFAjgg4AAAAASUVORK5C\n",
       "YII=\n",
       "\" style=\"display:inline;vertical-align:middle;\" /></a> <a class=\"ProveItLink\" href=\"../__pv_it/64c19b17fe4a8c61da6cf48aa8734e1b2aa50e3c0/proof.ipynb\" style=\"text-decoration: none\">&#x22A2;&nbsp;</a><a class=\"ProveItLink\" href=\"../../__pv_it/83a1ddf0f64531c80e7f41ea6b904214668818b30/expr.ipynb\"><img src=\"data:image/png;base64,iVBORw0KGgoAAAANSUhEUgAAAA4AAAAOBAMAAADtZjDiAAAAG1BMVEX///9UVFQQEBAiIiJmZmaI\n",
       "iIiqqqrMzMwAAADC2JlRAAAAAXRSTlMAQObYZgAAABlJREFUCNdjYGBgKGOAgFRa0s7GxkrGxoYA\n",
       "QSUGlQeagkgAAAAASUVORK5CYII=\n",
       "\" style=\"display:inline;vertical-align:middle;\" /></a></span></td></tr>\n",
       "<tr><td>&nbsp;</td><td colspan=4 style=\"text-align:left\"><span style=\"font-size:20px;\"><a class=\"ProveItLink\" href=\"../../../../__pv_it/d3792d0d8642fdf1cd2a3a9b32c673ee13653de00/expr.ipynb\"><img src=\"data:image/png;base64,iVBORw0KGgoAAAANSUhEUgAAAA8AAAAOBAMAAAACpFvcAAAALVBMVEX///8iIiIQEBBERERUVFS6\n",
       "urqIiIjc3NxmZmaqqqru7u6YmJgyMjLMzMwAAACK9jtgAAAAAXRSTlMAQObYZgAAAFtJREFUCNdj\n",
       "YACBOwxQcA5Kc59bAGGs7CuAMDbkBYBp1gXzNoAZSxnuJYAZAQx1DSCa16PDzwCshIGB6QCIMYGB\n",
       "gVEBSLMDGTwPgIxCIGZ+zsCw+N0pBk67hw0AfpEVEQi8t+wAAAAASUVORK5CYII=\n",
       "\" style=\"display:inline;vertical-align:middle;\" /></a> : <a class=\"ProveItLink\" href=\"../__pv_it/8b52df86786c45166e4e597fabcdbadc8276ac2f0/expr.ipynb\"><img src=\"data:image/png;base64,iVBORw0KGgoAAAANSUhEUgAAAEAAAAAPBAMAAACmSdRUAAAAMFBMVEX///92dnYiIiIQEBBERERU\n",
       "VFS6urqIiIjc3NxmZmaqqqru7u6YmJgyMjLMzMwAAADiRdoGAAAAAXRSTlMAQObYZgAAAO5JREFU\n",
       "GNNjYACBtwxYwNH/kVNdEiDs+9gUMJgwMHD+A7N47m/AIs/3h4GB7SeYuWt+A0LcA8Zg/wHU+h3M\n",
       "PFCfgFDwBMZgMWBg2KwNYrFtWH8AoYBnApTBH8DApwq2exvD+wIQzakEBj+hCt7HHHdaAGYlMPRP\n",
       "QHIc1y0IXd/AwG0Kdm3kzHgHZOfvNQNTziBFICPYGBiYLyDJcwRC/PQVpABkN1ARkwHYDXchoAEe\n",
       "DAzxQO9xABXwfkAYwHYBEQx8X4CMJpCXfyC5ABqqvEBTk70ZGLb8v83A5f8J4Y04CMV6/+vMEC9s\n",
       "UdSAygUACNlBmGjrK1sAAAAASUVORK5CYII=\n",
       "\" style=\"display:inline;vertical-align:middle;\" /></a></span></td></tr><tr><td><a name=\"0x19eece9e3e3e81f1_step7\">7</a></td><td>theorem</td><td></td><td><span style=\"font-size:20px;\"> <a class=\"ProveItLink\" href=\"../../negation/_proofs_/negationContradiction.ipynb\" style=\"text-decoration: none\">&#x22A2;&nbsp;</a><a class=\"ProveItLink\" href=\"../../negation/__pv_it/d62721657704343d1012b5bf209a04c4abd01d450/expr.ipynb\"><img src=\"data:image/png;base64,iVBORw0KGgoAAAANSUhEUgAAAGsAAAAWBAMAAAA1LX8gAAAAMFBMVEX///8QEBCIiIhmZma6urrM\n",
       "zMxUVFQiIiJERETc3Nzu7u6qqqp2dnaYmJgyMjIAAAAcRTyBAAAAAXRSTlMAQObYZgAAATRJREFU\n",
       "OMtjYCAPPAARd0nQwLoBRJ4GEa9I0MatACJnADFnA8na+BYwMPBsIFkb76lVq6YzkKyN4UdHRw0Z\n",
       "2lIZGDrBDAjJApPmmICsGMGDanNm4AJHAu8XiDxM+r4DsjYED6qNnYHpAohe/BdFG5f9BSRdSDyo\n",
       "Np4L7GD6VDGKNp7lBkjakHhQbZwPwsCRr9CBoi2IAzkykXhQbQydKSCSjcEcRVsCcwGSNiQeTNtm\n",
       "sMhtBn1kbbwbmD6AHNfR0dEH56Fo4wfRXI/P9C9A0rbO5sQvqDo2JB5zeXmheHl5AshgkHLmBQzz\n",
       "A5C0WTFwfkVoQ+KhAl+grRcQ2liA7L8MMxZAtEF4WADHDwbO/lqEtv4GhhnfLwSCkzgnlIc3yXEg\n",
       "c4jPGcjauCeQpY2X+HzBTJQqAM5TTY2MQblbAAAAAElFTkSuQmCC\n",
       "\" style=\"display:inline;vertical-align:middle;\" /></a></span></td></tr>\n",
       "<tr><td>&nbsp;</td><td colspan=4 style-\"text-align:left\"><a class=\"ProveItLink\" href=\"../../negation/_proofs_/negationContradiction.ipynb\">proveit.logic.boolean.negation.negationContradiction</a></td></tr><tr><td><a name=\"0x19eece9e3e3e81f1_step8\">8</a></td><td>hypothetical reasoning</td><td><a href=\"#0x19eece9e3e3e81f1_step10\">10</a></td><td><span style=\"font-size:20px;\"><a class=\"ProveItLink\" href=\"../__pv_it/2d95f09b10b3b8c8310cb902bd7faba5d3956d540/expr.ipynb\"><img src=\"data:image/png;base64,iVBORw0KGgoAAAANSUhEUgAAACMAAAAVBAMAAAA+1EraAAAAMFBMVEX///+IiIi6urrc3NxERETM\n",
       "zMwQEBCqqqpUVFQiIiJ2dnYyMjLu7u5mZmaYmJgAAABN0h6tAAAAAXRSTlMAQObYZgAAAM5JREFU\n",
       "GNNjYGDgu8cAA6wXD4Aonl0MCMCUCiL5PoCI/h93W5yAjNsgIa4JIJLNgYHhfgADw0qEUPwDBgb9\n",
       "CyhC8gYMDO8FUITcgPZkHkAR+sHAENkDpJeBOBwbQA768U5kOoj3HkSUAe1hYPzMwHCsAcjgBloR\n",
       "MhkkzpIAFP4OYnUC7VADqeIHqmD8CFIFUsrhAHUWxyeYWWAbQc6Kd4DZCBbaBvRxCigU4O7q/t97\n",
       "w6WAgQHFqTAAEUrAEAKHFxyAw4sBJVSTwBQ7WtgDAJxpOkc6jJwBAAAAAElFTkSuQmCC\n",
       "\" style=\"display:inline;vertical-align:middle;\" /></a> <a class=\"ProveItLink\" href=\"../__pv_it/bc3ef12076cca3628a302f61985e9c34071604420/proof.ipynb\" style=\"text-decoration: none\">&#x22A2;&nbsp;</a><a class=\"ProveItLink\" href=\"../__pv_it/8b52df86786c45166e4e597fabcdbadc8276ac2f0/expr.ipynb\"><img src=\"data:image/png;base64,iVBORw0KGgoAAAANSUhEUgAAAEAAAAAPBAMAAACmSdRUAAAAMFBMVEX///92dnYiIiIQEBBERERU\n",
       "VFS6urqIiIjc3NxmZmaqqqru7u6YmJgyMjLMzMwAAADiRdoGAAAAAXRSTlMAQObYZgAAAO5JREFU\n",
       "GNNjYACBtwxYwNH/kVNdEiDs+9gUMJgwMHD+A7N47m/AIs/3h4GB7SeYuWt+A0LcA8Zg/wHU+h3M\n",
       "PFCfgFDwBMZgMWBg2KwNYrFtWH8AoYBnApTBH8DApwq2exvD+wIQzakEBj+hCt7HHHdaAGYlMPRP\n",
       "QHIc1y0IXd/AwG0Kdm3kzHgHZOfvNQNTziBFICPYGBiYLyDJcwRC/PQVpABkN1ARkwHYDXchoAEe\n",
       "DAzxQO9xABXwfkAYwHYBEQx8X4CMJpCXfyC5ABqqvEBTk70ZGLb8v83A5f8J4Y04CMV6/+vMEC9s\n",
       "UdSAygUACNlBmGjrK1sAAAAASUVORK5CYII=\n",
       "\" style=\"display:inline;vertical-align:middle;\" /></a></span></td></tr>\n",
       "<tr><td><a name=\"0x19eece9e3e3e81f1_step9\">9</a></td><td>assumption</td><td></td><td><span style=\"font-size:20px;\"><a class=\"ProveItLink\" href=\"../__pv_it/f831fa2c2cc7e34bbca606b8ca0701ee8fbb993e0/expr.ipynb\"><img src=\"data:image/png;base64,iVBORw0KGgoAAAANSUhEUgAAAHUAAAAVBAMAAACK3rzVAAAAMFBMVEX///+IiIi6urrc3NxERETM\n",
       "zMwQEBCqqqpUVFQiIiJ2dnYyMjLu7u5mZmaYmJgAAABN0h6tAAAAAXRSTlMAQObYZgAAAbhJREFU\n",
       "OMtjYGDgu8dAMmC9eABE8exCEbUjqI/dAEgwpYKYfB+QJXgcIOZuwKKJr//H3RYnBoZmEOc2iOCa\n",
       "gCzPbQChPmCzkQ1o8P0AhtMg9kpMvW8h1Os/2PTGP2Bg0L/AwCWAXe9kiMtrPyOEnOEseaCj3gsw\n",
       "8CRg1csM4fAxfkKIhcBZbkBTM4EBvAmrXsYLYEqH/R9SEF2AsX4wMET2AOm1QLwMJMCBHKQsD8BO\n",
       "VmD9CKJ5Z4LBX1ik/ngnMh0cGkD8HsQoC4ApWsDAwFkAEmJiYP6LHKHboY4CBsKxBiCjEhQTQNeE\n",
       "TIb7FSjMpgBiRdy98QU5AE8nQRwFDCPG76DwBvE6gaGtFoChF0hkIwdgFyTS+YEKGD9C9XKDHMDh\n",
       "gKQX7GZ2IJ4G9u9uCDBARC8HKAI0Yf6FhzNILziszIF4P8Japg1I0RvvAA2rZahxBHQ81wVoHPsb\n",
       "IHx7AMrYBjQnBcS5hTV+mSYw8Pj/PsBQ8n8uXKwVSnf/773hAo6HrfjSJAowQBfgmQDXm4AlL+AF\n",
       "iLyAmn9ZDAjrPQ3Pvwy7sOR9vACUsZggyYX9HmllDp8BtLwCAKwFeaB8CxEdAAAAAElFTkSuQmCC\n",
       "\" style=\"display:inline;vertical-align:middle;\" /></a> <a class=\"ProveItLink\" href=\"../__pv_it/be2675afeeb4b0d59263cdcdbf97e666d3c3c00b0/proof.ipynb\" style=\"text-decoration: none\">&#x22A2;&nbsp;</a><a class=\"ProveItLink\" href=\"../__pv_it/41d6d825612fd3d1b0d7e32df520dc16a2935b9a0/expr.ipynb\"><img src=\"data:image/png;base64,iVBORw0KGgoAAAANSUhEUgAAAF8AAAAUBAMAAAAZ/fxpAAAAMFBMVEX///+6uroQEBCqqqqIiIgy\n",
       "MjJERETu7u6YmJjMzMxUVFTc3Nx2dnYiIiJmZmYAAAAutVgsAAAAAXRSTlMAQObYZgAAAWRJREFU\n",
       "KM9jYIAD7gYGQsAahVcGoaZiU9n1f92rNAEGrg3IgtEQKh6r2WoMDHw/GdgDkIQ4HkCo+AIs6jl/\n",
       "MDAw/mNgOIIkxguxrvg9wlo2OJPlN9CoLwwMRUga9kKoBn8BhLkJcK0KQMXXGRhYEZIMfmCSscAe\n",
       "KbD6YAz+BQyct4Bu5XmAkMwAk4UM8x1A9Nu7IHAfJj9/RUuuAciHARCZO0D2ZbCMAMN+JEMYTA0g\n",
       "tP8GBnYtIM18AcLfBcSKYFeve7c+AUkDexDE0UkgTUDNnB/QNDAyMDAhh/Wu0xD6F0iDA6oGsJOA\n",
       "hvAqgBhPQ8EgGhENDOuBljEiOQnkaW6gBtYPCAtEkaKB8xvE0xATgPgcNC7YfiN8EA5lsAJtFUoH\n",
       "MvgOIEyTBSa//+EMzPl/4cHENQFKx/96tywZrHMCRtJABtwYIrWYiQ8/QE58DNmE1aMkb1gGwgfY\n",
       "UJxNRBbtZmAAALGZW4fbrGcJAAAAAElFTkSuQmCC\n",
       "\" style=\"display:inline;vertical-align:middle;\" /></a></span></td></tr>\n",
       "<tr><td><a name=\"0x19eece9e3e3e81f1_step10\">10</a></td><td>assumption</td><td></td><td><span style=\"font-size:20px;\"><a class=\"ProveItLink\" href=\"../__pv_it/2d95f09b10b3b8c8310cb902bd7faba5d3956d540/expr.ipynb\"><img src=\"data:image/png;base64,iVBORw0KGgoAAAANSUhEUgAAACMAAAAVBAMAAAA+1EraAAAAMFBMVEX///+IiIi6urrc3NxERETM\n",
       "zMwQEBCqqqpUVFQiIiJ2dnYyMjLu7u5mZmaYmJgAAABN0h6tAAAAAXRSTlMAQObYZgAAAM5JREFU\n",
       "GNNjYGDgu8cAA6wXD4Aonl0MCMCUCiL5PoCI/h93W5yAjNsgIa4JIJLNgYHhfgADw0qEUPwDBgb9\n",
       "CyhC8gYMDO8FUITcgPZkHkAR+sHAENkDpJeBOBwbQA768U5kOoj3HkSUAe1hYPzMwHCsAcjgBloR\n",
       "MhkkzpIAFP4OYnUC7VADqeIHqmD8CFIFUsrhAHUWxyeYWWAbQc6Kd4DZCBbaBvRxCigU4O7q/t97\n",
       "w6WAgQHFqTAAEUrAEAKHFxyAw4sBJVSTwBQ7WtgDAJxpOkc6jJwBAAAAAElFTkSuQmCC\n",
       "\" style=\"display:inline;vertical-align:middle;\" /></a> <a class=\"ProveItLink\" href=\"../__pv_it/3337cb6550e15db1ca82a8f7afcd716409fd6e320/proof.ipynb\" style=\"text-decoration: none\">&#x22A2;&nbsp;</a><a class=\"ProveItLink\" href=\"../../../../__pv_it/4d98b438710c5ada9ffa4646bb123a7d0e69ec000/expr.ipynb\"><img src=\"data:image/png;base64,iVBORw0KGgoAAAANSUhEUgAAABAAAAAOBAMAAADUAYG5AAAALVBMVEX///8yMjKqqqoiIiLu7u7c\n",
       "3NyIiIjMzMwQEBC6urpERERmZmZUVFSYmJgAAACsPVCVAAAAAXRSTlMAQObYZgAAAGxJREFUCNdj\n",
       "YGC48+70nlUTGICgi4GB+zmQZn/LwMD5Gshge8rAwPsMyOBqYGDwMAEy+A4wsNs4ABl1Z68tVgBp\n",
       "ygtgYOkBMVaAOCChNyBGAsQYhnMTIMawvwJyGIHGzFjCwMAj92b3qUUMDAAXABxvZ4rl5AAAAABJ\n",
       "RU5ErkJggg==\n",
       "\" style=\"display:inline;vertical-align:middle;\" /></a></span></td></tr>\n",
       "</table>"
      ],
      "text/plain": [
       "\tstep type\trequirements\tstatement\n",
       "0\tgeneralizaton\t1\t|- forall_{A, B | [not](A => B)} (B => A)\n",
       "1\tinstantiation\t2, 3\t{[not](A => B)} |- B => A\n",
       "\tA : B, B : A\n",
       "2\taxiom\t\t|- forall_{A, B | A != TRUE} (A => B)\n",
       "\tproveit.logic.boolean.implication.untrueAntecedentImplication\n",
       "3\tinstantiation\t4, 5\t{[not](A => B)} |- B != TRUE\n",
       "\tA : B\n",
       "4\ttheorem\t\t|- forall_{A | A => FALSE} (A != TRUE)\n",
       "\tproveit.logic.boolean.implication.notTrueViaContradiction\n",
       "5\thypothetical reasoning\t6\t{[not](A => B)} |- B => FALSE\n",
       "6\tinstantiation\t7, 8, 9\t{B, [not](A => B)} |- FALSE\n",
       "\tA : A => B\n",
       "7\ttheorem\t\t|- forall_{A | A, [not](A)} FALSE\n",
       "\tproveit.logic.boolean.negation.negationContradiction\n",
       "8\thypothetical reasoning\t10\t{B} |- A => B\n",
       "9\tassumption\t\t{[not](A => B)} |- [not](A => B)\n",
       "10\tassumption\t\t{B} |- B"
      ]
     },
     "execution_count": 13,
     "metadata": {},
     "output_type": "execute_result"
    }
   ],
   "source": [
    "%qed"
   ]
  }
 ],
 "metadata": {
  "kernelspec": {
   "display_name": "Python 3",
   "language": "python",
   "name": "python3"
  }
 },
 "nbformat": 4,
 "nbformat_minor": 0
}
