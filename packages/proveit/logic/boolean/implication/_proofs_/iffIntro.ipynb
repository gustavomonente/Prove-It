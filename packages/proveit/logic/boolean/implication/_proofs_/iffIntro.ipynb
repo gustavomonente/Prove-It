{
 "cells": [
  {
   "cell_type": "markdown",
   "metadata": {},
   "source": [
    "Proof of <a class=\"ProveItLink\" href=\"../../../../_context_.ipynb\">proveit</a>.<a class=\"ProveItLink\" href=\"../../../_context_.ipynb\">logic</a>.<a class=\"ProveItLink\" href=\"../../_context_.ipynb\">boolean</a>.<a class=\"ProveItLink\" href=\"../_context_.ipynb\">implication</a>.<a class=\"ProveItLink\" href=\"../_theorems_.ipynb#iffIntro\">iffIntro</a> theorem\n",
    "========"
   ]
  },
  {
   "cell_type": "code",
   "execution_count": 1,
   "metadata": {},
   "outputs": [],
   "source": [
    "import proveit\n",
    "from proveit import defaults\n",
    "from proveit._common_ import A, B\n",
    "from proveit.logic import compose\n",
    "from proveit.logic.boolean.implication._axioms_ import iffDef\n",
    "from proveit.logic.boolean.conjunction._theorems_ import andIfBoth\n",
    "from proveit.logic.equality._theorems_ import subLeftSideInto\n",
    "context = proveit.Context('..') # the theorem's context is in the parent directory"
   ]
  },
  {
   "cell_type": "code",
   "execution_count": 2,
   "metadata": {},
   "outputs": [
    {
     "name": "stdout",
     "output_type": "stream",
     "text": [
      "Beginning proof of iffIntro\n",
      "Recorded 'presuming' information\n"
     ]
    },
    {
     "name": "stdout",
     "output_type": "stream",
     "text": [
      "Presuming proveit.logic.boolean.conjunction.andIfBoth, proveit.logic.equality.subLeftSideInto theorems (applied transitively).\n",
      "Presuming previous theorems (applied transitively).\n"
     ]
    },
    {
     "data": {
      "text/html": [
       "<strong id=\"iffIntro\">iffIntro:</strong> <a class=\"ProveItLink\" href=\"../__pv_it/e5089d3868dcfa1d4a0bbb2b75627f51f30cc31f0/expr.ipynb\"><img src=\"data:image/png;base64,iVBORw0KGgoAAAANSUhEUgAAAPEAAAAWBAMAAADjpGcAAAAAMFBMVEX///8QEBCIiIhmZma6urrM\n",
       "zMxUVFQiIiJERETc3Nzu7u6qqqp2dnaYmJgyMjIAAAAcRTyBAAAAAXRSTlMAQObYZgAAAzdJREFU\n",
       "SMe1VkloU1EUPSY/bf5P0lYQEXQRLKgbrRCJUIuNuNCNtLiQrmygKlWURsUBxwoO3zrku9HuEges\n",
       "RKgBVy6ktV1YqkisIIiIEVd2YUtrRyn1viHJ+01aRdILfdM9vefd4d18oPiip/4KeUF/abb4UlTm\n",
       "J2LaW0j3cbYpaIZQYgFv2H6wqMw/xDRUULkCcI7BIIfbWXhai0ns2yimoXgBpWsG0EaBHqCM9N5k\n",
       "MZlLLT49rbXkAfnnCsu1Y4ruNALcp6k/kbhX1GBLa6mqkCRjBXdFKt0VxHqGHCblpGmeKypzJR+1\n",
       "eJcs8QY2dMrQl4fhOsnCTCnZD1znh2LcOdrbzMOkZSy5rZxVLVoTnIPLg93i4yM0+kVml54iOSqL\n",
       "uPHIwDWWWx+lYDsvNFr/EoVRAW8Ft5Qx+TWk2H8PvLLj8mBn+RhCTFTaGuFtg6ilKgvGcpo9ESoI\n",
       "kQg8nOEqZxieaZXZqFUbQxDoittwebBl3NOmQAt/MR2Z2jrNx0uMnS7hGqaIp0r5Wf9xUZl+ONMq\n",
       "s7dD3P0lH48BW+04T8oGk8yUqyVcrR8Wp4+7+TTOmP2CWU/v4Zf0m1z1rB4b4irzbrd47aztwBiD\n",
       "Y9COw0EbTEab3CoVyfBd+MnkRPY5o4XyokVYZe3jhrGZ6+rWrxPxyTCHnRH0maZ5m/mijQxcRQ7n\n",
       "pXPzWygDy1WYTsxlw2L/gde2lX3OrklZYXjO/+UzqrjuHbBWZfYlHdKCYxPFNA1HxI6jZxRSYeiV\n",
       "b9o9JfYl7GZbxLqM4rCtjZUJC345q37j+9soD95NIJZUmDtr+mQhGQficHdD/w0bjlJ4SIVhB/1m\n",
       "zA7CE50QmWdPR/bnkqHxQPMNfoV65hVjdMYRYxuQ3TpLYa6GPobKAEkT4cqT0IQrHOdg58HqDMzW\n",
       "PXNCe2NuD+/IrnaR1ZTeBn0a+iol2hpV7gyMRCLxgIUmFscdcjuLo/PE6izM9ouxsPRkG9Ak9Oh5\n",
       "10q8Hg00hxTmaCvaJ/i7ucuezsVA8DLViIrTwzZYthkuKKJ5KeJRu2F+zAri9Pm+DBYSt1XgI2U+\n",
       "5vlw//U19GnuQeofmVNYTHFiceUP2yTuOOdP8akAAAAASUVORK5CYII=\n",
       "\" style=\"display:inline;vertical-align:middle;\" /></a><br>(see <a class=\"ProveItLink\" href=\"../__pv_it/e5089d3868dcfa1d4a0bbb2b75627f51f30cc31f0/dependencies.ipynb\">dependencies</a>)<br>"
      ],
      "text/plain": [
       "iffIntro: forall_{A, B | A => B, B => A} (A <=> B)"
      ]
     },
     "execution_count": 2,
     "metadata": {},
     "output_type": "execute_result"
    }
   ],
   "source": [
    "%proving iffIntro presuming [andIfBoth, subLeftSideInto]"
   ]
  },
  {
   "cell_type": "code",
   "execution_count": 3,
   "metadata": {},
   "outputs": [
    {
     "data": {
      "text/html": [
       "<strong id=\"defaults.assumptions\">defaults.assumptions:</strong> <a class=\"ProveItLink\" href=\"../__pv_it/bec137511568e9e9e409024b3c52f95f7502231e0/expr.ipynb\"><img src=\"data:image/png;base64,iVBORw0KGgoAAAANSUhEUgAAAJcAAAAUBAMAAABylbI8AAAAMFBMVEX///9UVFTMzMx2dna6uroQ\n",
       "EBCqqqqIiIgiIiJmZmYyMjJERETu7u6YmJjc3NwAAAC+aOQFAAAAAXRSTlMAQObYZgAAAgBJREFU\n",
       "OMutVD1IHEEU/u6yWe90dw2mkiBqawrtxCZsI4hYGLDSxjYxJNdaeRaGCIJn56XJNlqI5GwUQeNd\n",
       "oSJJEa1Ei7BpQrqoCP7Gy5u/vVmdyBV+sDPvm33z/ubNAN4uHgRv2fBNyG0mhb1y48yabyJxJAMg\n",
       "EZLwWfCCUWsISJ8YSQy1R4BDBt0cp26hZPL4F7AuTCSOw2saOoFUyOn2p7Dyb0MJNTfk5sxEgLrK\n",
       "BucV/cIW8Fvw3TGtGs+jDf2kM2UiFOhSJLo1pyxXH6OcWqV32qHK1IH6J0iOl0yEcBBJfTZVAI9y\n",
       "+MLpJtozbE5/4FCVaW/aXx3GHTLLlaaVS8dPsuzdAO859/EnpxXUnhfzWAjnpVqMEYbX0o8Fj3m3\n",
       "sxjg+Tfmm5d0va98GcvMhgotRnhEc6LOrfmZK2bkSBizgMeBpuY9FUd1zPZn5GKMMPx8AZkWBoUx\n",
       "nib5S/Xzmi0IhFFnodnHbfJRKMl2t+mbYBFl+QF4w6KJFayg0lnJKxgIQ6+cf8n7QwfQBdFrdTda\n",
       "xWQD1FK03evA90AjUcUWZUmyNBQplXQHeuiqlxdhF88rx9kgpkThOP9shYTUlEYUEi3CZvGyhJHy\n",
       "JHlrUdcphjtLbwz30bu9sKN1+33oqOZB69Rv9f/hZKqwxZ4g9TjeB7eawPgr8lDP9g/gHwLWnuc2\n",
       "ca5fAAAAAElFTkSuQmCC\n",
       "\" style=\"display:inline;vertical-align:middle;\" /></a><br>"
      ],
      "text/plain": [
       "defaults.assumptions: (A => B, B => A)"
      ]
     },
     "execution_count": 3,
     "metadata": {},
     "output_type": "execute_result"
    }
   ],
   "source": [
    "defaults.assumptions = iffIntro.conditions"
   ]
  },
  {
   "cell_type": "code",
   "execution_count": 4,
   "metadata": {},
   "outputs": [
    {
     "data": {
      "text/html": [
       "<strong id=\"mutualImpl\">mutualImpl:</strong> <span style=\"font-size:20px;\"><a class=\"ProveItLink\" href=\"../__pv_it/bef3aefa4cdcb79965eddfefc0fdf570aa3ed5650/expr.ipynb\"><img src=\"data:image/png;base64,iVBORw0KGgoAAAANSUhEUgAAAJ0AAAAVBAMAAACu6/FQAAAAMFBMVEX///+IiIi6urrc3NxERETM\n",
       "zMwQEBCqqqpUVFQiIiJ2dnYyMjLu7u5mZmaYmJgAAABN0h6tAAAAAXRSTlMAQObYZgAAAgNJREFU\n",
       "OMtjYGDgu8dAFcB68QCI4tnFQCXAlAoi+T5Ajd+ARQlf/4+7LU7YOGggGkTcBhFcEyAi3B+wqWNz\n",
       "YGC4H4CNgwr2g4iVyOa9/oNNXfwDBgb9C9g4qP7YfwDNPJ7azwhpFgMYSx7Iei+AjcPA4IzQcPy+\n",
       "AZp5fIyfkKLKAcZyA9qUeQAbh4EhBKHhgbwCmnk67P+Q3P8WxvjBwBDZg5UDdALc60wH6oFBwbAM\n",
       "xOYAxyuPAutHsNTNmSAwH6qU9cc7kelwV8M5vGBFM//CZA4xxIOC4T2IXQaOMCYG5r/IAVxdAKYY\n",
       "gYF6rAEqhsIBAfbtUIYCgz3IAdxAImQyWCTi7o0vyObxbFMAR0wC0JjvsFhC5oDB6SSIw3vv9oND\n",
       "vBPoSrUAiA0M2cgqLRaDKX6gcxg/QsVQOCDA3AVJB0zApAkKNW6Q4zlAJrMD8TSw3O3dYLAZkeI4\n",
       "PjGgc3ghinZDkxUwbDgTYOEHjl9zWBKHAm2kFBfvgI0DchY0hzIXQHPXMph5zCAz/Q0QobcHytgG\n",
       "1JVygIHnNxIHEXpQtiUobD8jpT8e/98HGEr+z4Wr5IBm0u7/vTdcQDE98wASBwZaIdSR/3sY2P1/\n",
       "XkDLv8iAGV2A/QCWTGuALgAxL4GIoo2LqAJwJXL5hxccJMo8cPnHQEz5/ICo8hmSutmpWX8AAGPm\n",
       "pX8OKZVNAAAAAElFTkSuQmCC\n",
       "\" style=\"display:inline;vertical-align:middle;\" /></a> <a class=\"ProveItLink\" href=\"../__pv_it/f1160f1dd55f97f41d9f75645d6780ce6d00aa460/proof.ipynb\" style=\"text-decoration: none\">&#x22A2;&nbsp;</a><a class=\"ProveItLink\" href=\"../__pv_it/502a0e2beda363613f57dcbceb41b51971081e900/expr.ipynb\"><img src=\"data:image/png;base64,iVBORw0KGgoAAAANSUhEUgAAALUAAAAUBAMAAAA5PWHRAAAAMFBMVEX///9UVFTMzMx2dna6uroQ\n",
       "EBCqqqqIiIgiIiJmZmYyMjJERETu7u6YmJjc3NwAAAC+aOQFAAAAAXRSTlMAQObYZgAAAl9JREFU\n",
       "OMudVTFoFEEUfbuud5vc3iVoFUQSWy1iZUgTrpEEsYhwlTZpo6DXpkosPBQEL13Oxm0UDOEujRLQ\n",
       "5K5QkVwTK9FC1kaCjYkIMUZzzvw/szteBm7xHcfMnzdv/p//Z3aAwhZ64Wb3QFpNm/tnbRPedYYW\n",
       "XxThRF3j7YSzwQ3BmjrbDeusa0DfdwShMrWPesLZ0L8D0uSrZOYbLVsAfwBvHxhT9lNuSKM5Cz7+\n",
       "Bml8juXNI2PfG7qTPRQL7QGvlas1DoA0mlPIJfpgVlBSs8321ryRunOxYFrMuS82yaQzWaZ22+T0\n",
       "Flfjbj77A6SZI9Nr3TJKr/IEDAzCvS1iPcYDm1igds7kND7EvcsZkS6pWSfzFUYppL67BJ3G0dPv\n",
       "12akMy7mBfGTWDc5YIk0D3RAQdHdY02F7CK+VY1iZJ5wOx8huCJtjncBX6mtmFyM6+wJHgr7rClR\n",
       "soZqw6vmvE0axjO5hpC4O5SqMpwR2SmZXFLCx1yVM7XFA5CmxK5wPDTv3Umu+q7Ul/XafgvuYLy2\n",
       "5mJ8noDKAa7y2rQ/4d6fpnwvM6L4eGNYzPUoJ7P61lRMDnjIGnUJM+J/B6SRdSnM8F3S8MLkeLsH\n",
       "cS3ran3SxJzGJdV+UZdcaMbVec0dGtlWR6tf7OXiS7md8/oE+5IaNzmd7RWVTrnFZkSaKfHl6awg\n",
       "0/yZHJQT3DiN3dqp5+REltCRCcjKDE+ZnAJXGUHzVws3OvdI40dHvwdHht6qgguMAFZNwaLJV9Eb\n",
       "Y/+aqTUbvacFYddAWk2797yc7W1Io0nxPn36jzdNaP4C8jTBYUc5oRQAAAAASUVORK5CYII=\n",
       "\" style=\"display:inline;vertical-align:middle;\" /></a></span><br>"
      ],
      "text/plain": [
       "mutualImpl: {A => B, B => A} |- (A => B) and (B => A)"
      ]
     },
     "execution_count": 4,
     "metadata": {},
     "output_type": "execute_result"
    }
   ],
   "source": [
    "mutualImpl = compose(*defaults.assumptions)"
   ]
  },
  {
   "cell_type": "code",
   "execution_count": 5,
   "metadata": {},
   "outputs": [
    {
     "data": {
      "text/html": [
       "<span style=\"font-size:20px;\"> <a class=\"ProveItLink\" href=\"../_axioms_.ipynb#iffDef\" style=\"text-decoration: none\">&#x22A2;&nbsp;</a><a class=\"ProveItLink\" href=\"../__pv_it/7e13510ad32a73fabb39fbd3d838d36a55d815580/expr.ipynb\"><img src=\"data:image/png;base64,iVBORw0KGgoAAAANSUhEUgAAAXkAAAAVBAMAAABRbIObAAAAMFBMVEX///8QEBCIiIhmZma6urrM\n",
       "zMxUVFQiIiJERETc3Nzu7u6qqqp2dnaYmJgyMjIAAAAcRTyBAAAAAXRSTlMAQObYZgAAA8xJREFU\n",
       "SMfVl09oE0EUxj+TbNNNmrQHUUGRgAe9aAuFetOoB0VQ40U8aUALRRQrQgtWUU+2/iF7qoJgVxQs\n",
       "FarQi15U9CBakaCgFFEiHqQKtjRaa6XW+fdmk+0kTVsvfvC1Yd/8Zt/OvJnZBcrJzkrPovv/jqyQ\n",
       "Ief4hfclGvYqM+0zxd9MH2jqTKLK+WdkrxczyWLpcoY8yC9+KZH9sDLTiLHBMiD4A5HcgkmngFMx\n",
       "k+KjEAz5Cp+uM+bkYw3S/OeIaxqKKSCUBx4vmPzkcTpm0IdJSEY5zvquuWvOPuxIM93eqEYnzryH\n",
       "GgR+sRuOAdcrIbm6SpDWOVdzOqZU7fGRARYSjHLseV/f5RKFc1mZKVuvCnEt7y9FHdexPk6wR0pW\n",
       "QHLthZms2pzQnI7RNHmVEQt8h2TIE52dJ0tkv0qZTaT7MOt1FaF1UpuG1cYnr2F20qsMA9mPVs3p\n",
       "GOm1/rU9yopKMORmmk/5d1v+SQtN1SVl4Cb2y8HZvbSdaaXqe/+RV+d41cX44qv5JtRgJoPtQlTO\n",
       "RSTfOwb1HXUMWC+Y0/TIkaQ1phjyFrXwY9/l6NShpk617lAGkugRXQQOyRm4IBvUO4gsYf+jrb6x\n",
       "n0kqRb8ayVZc05yOaT1Q6zIEO68YchgBMbU3pkSLYBrRSUUtVoZ1oPGoKJk2WpWyFs/ye7GurVFf\n",
       "9jNIrf7FBjKWQFWKOB3zFutHuTr2NDZNQDLkmmxYhJ4fl3klEMz5cwgBi8TF7keyu8OywTi/T6Jc\n",
       "9pqks/SwYyDDLqy0zp5iWt3PoOYRK33Z2zmxAVqJTtHiTgrrXP/8s4EIy3J6K2r7c0pv2jjK+gy1\n",
       "enWfNpNBGf3mGEgM0DnVURgDNkhGHXtR5mOQDBldB8WehfWiya61a9LwrVr7rjzlaNOIDHubtjXh\n",
       "rT1PBlJWbs5IDqsnEIyOkXaq/1fVwV24ajEgHv8d6kWTl8Bqwp4o8124+pe8xh81qIoyzkZ103l+\n",
       "4ZEvexMpqt41kWIbDruK0TGqerU/2zzPjCMZMmp5iUU+vciIni8CPbRitkr3Tn9BNPOTdmb5dsGn\n",
       "a2S8sUXsPvGUL3sTydVsJKt4mQQSkvFiSnI9I5L54+Le9HHJkBHjWQdd9IhWv1nxODPPe2/ZMff5\n",
       "j7VbZd4UiuQYyZD4mYKZsU3MraK77mBzkLXPw56EvcLwrlVe5d7S5kRWzDwuZKsnYGdOWcvxNN/Y\n",
       "kix6qeqavTvDG/J8yQoZcpGipb8xyqm67NfJnMgKGXLZD7UKv++G5v1lODSPL8OhAhcpi/9LfwF9\n",
       "GoUpN6fzvwAAAABJRU5ErkJggg==\n",
       "\" style=\"display:inline;vertical-align:middle;\" /></a></span>"
      ],
      "text/plain": [
       "|- forall_{A, B} ((A <=> B) = ((A => B) and (B => A)))"
      ]
     },
     "execution_count": 5,
     "metadata": {},
     "output_type": "execute_result"
    }
   ],
   "source": [
    "iffDef"
   ]
  },
  {
   "cell_type": "code",
   "execution_count": 6,
   "metadata": {},
   "outputs": [
    {
     "data": {
      "text/html": [
       "<span style=\"font-size:20px;\"><a class=\"ProveItLink\" href=\"../__pv_it/bef3aefa4cdcb79965eddfefc0fdf570aa3ed5650/expr.ipynb\"><img src=\"data:image/png;base64,iVBORw0KGgoAAAANSUhEUgAAAJ0AAAAVBAMAAACu6/FQAAAAMFBMVEX///+IiIi6urrc3NxERETM\n",
       "zMwQEBCqqqpUVFQiIiJ2dnYyMjLu7u5mZmaYmJgAAABN0h6tAAAAAXRSTlMAQObYZgAAAgNJREFU\n",
       "OMtjYGDgu8dAFcB68QCI4tnFQCXAlAoi+T5Ajd+ARQlf/4+7LU7YOGggGkTcBhFcEyAi3B+wqWNz\n",
       "YGC4H4CNgwr2g4iVyOa9/oNNXfwDBgb9C9g4qP7YfwDNPJ7azwhpFgMYSx7Iei+AjcPA4IzQcPy+\n",
       "AZp5fIyfkKLKAcZyA9qUeQAbh4EhBKHhgbwCmnk67P+Q3P8WxvjBwBDZg5UDdALc60wH6oFBwbAM\n",
       "xOYAxyuPAutHsNTNmSAwH6qU9cc7kelwV8M5vGBFM//CZA4xxIOC4T2IXQaOMCYG5r/IAVxdAKYY\n",
       "gYF6rAEqhsIBAfbtUIYCgz3IAdxAImQyWCTi7o0vyObxbFMAR0wC0JjvsFhC5oDB6SSIw3vv9oND\n",
       "vBPoSrUAiA0M2cgqLRaDKX6gcxg/QsVQOCDA3AVJB0zApAkKNW6Q4zlAJrMD8TSw3O3dYLAZkeI4\n",
       "PjGgc3ghinZDkxUwbDgTYOEHjl9zWBKHAm2kFBfvgI0DchY0hzIXQHPXMph5zCAz/Q0QobcHytgG\n",
       "1JVygIHnNxIHEXpQtiUobD8jpT8e/98HGEr+z4Wr5IBm0u7/vTdcQDE98wASBwZaIdSR/3sY2P1/\n",
       "XkDLv8iAGV2A/QCWTGuALgAxL4GIoo2LqAJwJXL5hxccJMo8cPnHQEz5/ICo8hmSutmpWX8AAGPm\n",
       "pX8OKZVNAAAAAElFTkSuQmCC\n",
       "\" style=\"display:inline;vertical-align:middle;\" /></a> <a class=\"ProveItLink\" href=\"../__pv_it/b099cf04e194ad0bab90f96ec6c314784ec216a10/proof.ipynb\" style=\"text-decoration: none\">&#x22A2;&nbsp;</a><a class=\"ProveItLink\" href=\"../__pv_it/639412fc83dccc0c825a7f4479a7068ed18b18c70/expr.ipynb\"><img src=\"data:image/png;base64,iVBORw0KGgoAAAANSUhEUgAAAEAAAAAPBAMAAACmSdRUAAAAMFBMVEX///92dnYiIiIQEBBERERU\n",
       "VFS6urqIiIjc3NxmZmaqqqru7u6YmJgyMjLMzMwAAADiRdoGAAAAAXRSTlMAQObYZgAAAQpJREFU\n",
       "GNNjYACBtwxYwNH/kVNdEiDs+9gUMJgwMHD+A7N47m/AIs/3h4GB7SeYuWt+A1TwAlA8AMpm/wHU\n",
       "+h3MPFAPtYr9AJDwgypgMWBg2KwNYrFtWH8AIvYEROyF2scfwMCnCmZvY3hfALHVWAkIlG9DFLyP\n",
       "Oe60AMxKYOifAGaUQvQ+gQjXNzBwm4L1Rc6MdwAxNsGcpwImnUGKQGrZGBiYL4BEOAIh8lsFwNRX\n",
       "kAKQ3UBFTAaQ8NC9CwJ68GBgiAd6jwOogPcDRO9JsC8a4MHA9wXIaAJ5+QdEASsoPGZB2LxAU5O9\n",
       "GRi2/L/NwOX/CeINbqBbOBwgau9/nRnihRH+QNO5UeMFAE9FRwBt4bk1AAAAAElFTkSuQmCC\n",
       "\" style=\"display:inline;vertical-align:middle;\" /></a></span>"
      ],
      "text/plain": [
       "{A => B, B => A} |- A <=> B"
      ]
     },
     "execution_count": 6,
     "metadata": {},
     "output_type": "execute_result"
    }
   ],
   "source": [
    "iffDef.instantiate({A:A, B:B}).subLeftSideInto(mutualImpl)"
   ]
  },
  {
   "cell_type": "code",
   "execution_count": 7,
   "metadata": {},
   "outputs": [
    {
     "data": {
      "text/html": [
       "<table><tr><th>&nbsp;</th><th>step type</th><th>requirements</th><th>statement</th></tr>\n",
       "<tr><td><a name=\"0xdb95f669e48423a_step0\">0</a></td><td>generalizaton</td><td><a href=\"#0xdb95f669e48423a_step1\">1</a></td><td><span style=\"font-size:20px;\"> <a class=\"ProveItLink\" href=\"../__pv_it/618050fd2aea13bc51f6bc2a445b63ac3c6bced10/proof.ipynb\" style=\"text-decoration: none\">&#x22A2;&nbsp;</a><a class=\"ProveItLink\" href=\"../__pv_it/e5089d3868dcfa1d4a0bbb2b75627f51f30cc31f0/expr.ipynb\"><img src=\"data:image/png;base64,iVBORw0KGgoAAAANSUhEUgAAAPEAAAAWBAMAAADjpGcAAAAAMFBMVEX///8QEBCIiIhmZma6urrM\n",
       "zMxUVFQiIiJERETc3Nzu7u6qqqp2dnaYmJgyMjIAAAAcRTyBAAAAAXRSTlMAQObYZgAAAzdJREFU\n",
       "SMe1VkloU1EUPSY/bf5P0lYQEXQRLKgbrRCJUIuNuNCNtLiQrmygKlWURsUBxwoO3zrku9HuEges\n",
       "RKgBVy6ktV1YqkisIIiIEVd2YUtrRyn1viHJ+01aRdILfdM9vefd4d18oPiip/4KeUF/abb4UlTm\n",
       "J2LaW0j3cbYpaIZQYgFv2H6wqMw/xDRUULkCcI7BIIfbWXhai0ns2yimoXgBpWsG0EaBHqCM9N5k\n",
       "MZlLLT49rbXkAfnnCsu1Y4ruNALcp6k/kbhX1GBLa6mqkCRjBXdFKt0VxHqGHCblpGmeKypzJR+1\n",
       "eJcs8QY2dMrQl4fhOsnCTCnZD1znh2LcOdrbzMOkZSy5rZxVLVoTnIPLg93i4yM0+kVml54iOSqL\n",
       "uPHIwDWWWx+lYDsvNFr/EoVRAW8Ft5Qx+TWk2H8PvLLj8mBn+RhCTFTaGuFtg6ilKgvGcpo9ESoI\n",
       "kQg8nOEqZxieaZXZqFUbQxDoittwebBl3NOmQAt/MR2Z2jrNx0uMnS7hGqaIp0r5Wf9xUZl+ONMq\n",
       "s7dD3P0lH48BW+04T8oGk8yUqyVcrR8Wp4+7+TTOmP2CWU/v4Zf0m1z1rB4b4irzbrd47aztwBiD\n",
       "Y9COw0EbTEab3CoVyfBd+MnkRPY5o4XyokVYZe3jhrGZ6+rWrxPxyTCHnRH0maZ5m/mijQxcRQ7n\n",
       "pXPzWygDy1WYTsxlw2L/gde2lX3OrklZYXjO/+UzqrjuHbBWZfYlHdKCYxPFNA1HxI6jZxRSYeiV\n",
       "b9o9JfYl7GZbxLqM4rCtjZUJC345q37j+9soD95NIJZUmDtr+mQhGQficHdD/w0bjlJ4SIVhB/1m\n",
       "zA7CE50QmWdPR/bnkqHxQPMNfoV65hVjdMYRYxuQ3TpLYa6GPobKAEkT4cqT0IQrHOdg58HqDMzW\n",
       "PXNCe2NuD+/IrnaR1ZTeBn0a+iol2hpV7gyMRCLxgIUmFscdcjuLo/PE6izM9ouxsPRkG9Ak9Oh5\n",
       "10q8Hg00hxTmaCvaJ/i7ucuezsVA8DLViIrTwzZYthkuKKJ5KeJRu2F+zAri9Pm+DBYSt1XgI2U+\n",
       "5vlw//U19GnuQeofmVNYTHFiceUP2yTuOOdP8akAAAAASUVORK5CYII=\n",
       "\" style=\"display:inline;vertical-align:middle;\" /></a></span></td></tr>\n",
       "<tr><td><a name=\"0xdb95f669e48423a_step1\">1</a></td><td>instantiation</td><td><a href=\"#0xdb95f669e48423a_step2\">2</a>, <a href=\"#0xdb95f669e48423a_step3\">3</a>, <a href=\"#0xdb95f669e48423a_step4\">4</a></td><td><span style=\"font-size:20px;\"><a class=\"ProveItLink\" href=\"../__pv_it/bef3aefa4cdcb79965eddfefc0fdf570aa3ed5650/expr.ipynb\"><img src=\"data:image/png;base64,iVBORw0KGgoAAAANSUhEUgAAAJ0AAAAVBAMAAACu6/FQAAAAMFBMVEX///+IiIi6urrc3NxERETM\n",
       "zMwQEBCqqqpUVFQiIiJ2dnYyMjLu7u5mZmaYmJgAAABN0h6tAAAAAXRSTlMAQObYZgAAAgNJREFU\n",
       "OMtjYGDgu8dAFcB68QCI4tnFQCXAlAoi+T5Ajd+ARQlf/4+7LU7YOGggGkTcBhFcEyAi3B+wqWNz\n",
       "YGC4H4CNgwr2g4iVyOa9/oNNXfwDBgb9C9g4qP7YfwDNPJ7azwhpFgMYSx7Iei+AjcPA4IzQcPy+\n",
       "AZp5fIyfkKLKAcZyA9qUeQAbh4EhBKHhgbwCmnk67P+Q3P8WxvjBwBDZg5UDdALc60wH6oFBwbAM\n",
       "xOYAxyuPAutHsNTNmSAwH6qU9cc7kelwV8M5vGBFM//CZA4xxIOC4T2IXQaOMCYG5r/IAVxdAKYY\n",
       "gYF6rAEqhsIBAfbtUIYCgz3IAdxAImQyWCTi7o0vyObxbFMAR0wC0JjvsFhC5oDB6SSIw3vv9oND\n",
       "vBPoSrUAiA0M2cgqLRaDKX6gcxg/QsVQOCDA3AVJB0zApAkKNW6Q4zlAJrMD8TSw3O3dYLAZkeI4\n",
       "PjGgc3ghinZDkxUwbDgTYOEHjl9zWBKHAm2kFBfvgI0DchY0hzIXQHPXMph5zCAz/Q0QobcHytgG\n",
       "1JVygIHnNxIHEXpQtiUobD8jpT8e/98HGEr+z4Wr5IBm0u7/vTdcQDE98wASBwZaIdSR/3sY2P1/\n",
       "XkDLv8iAGV2A/QCWTGuALgAxL4GIoo2LqAJwJXL5hxccJMo8cPnHQEz5/ICo8hmSutmpWX8AAGPm\n",
       "pX8OKZVNAAAAAElFTkSuQmCC\n",
       "\" style=\"display:inline;vertical-align:middle;\" /></a> <a class=\"ProveItLink\" href=\"../__pv_it/b099cf04e194ad0bab90f96ec6c314784ec216a10/proof.ipynb\" style=\"text-decoration: none\">&#x22A2;&nbsp;</a><a class=\"ProveItLink\" href=\"../__pv_it/639412fc83dccc0c825a7f4479a7068ed18b18c70/expr.ipynb\"><img src=\"data:image/png;base64,iVBORw0KGgoAAAANSUhEUgAAAEAAAAAPBAMAAACmSdRUAAAAMFBMVEX///92dnYiIiIQEBBERERU\n",
       "VFS6urqIiIjc3NxmZmaqqqru7u6YmJgyMjLMzMwAAADiRdoGAAAAAXRSTlMAQObYZgAAAQpJREFU\n",
       "GNNjYACBtwxYwNH/kVNdEiDs+9gUMJgwMHD+A7N47m/AIs/3h4GB7SeYuWt+A1TwAlA8AMpm/wHU\n",
       "+h3MPFAPtYr9AJDwgypgMWBg2KwNYrFtWH8AIvYEROyF2scfwMCnCmZvY3hfALHVWAkIlG9DFLyP\n",
       "Oe60AMxKYOifAGaUQvQ+gQjXNzBwm4L1Rc6MdwAxNsGcpwImnUGKQGrZGBiYL4BEOAIh8lsFwNRX\n",
       "kAKQ3UBFTAaQ8NC9CwJ68GBgiAd6jwOogPcDRO9JsC8a4MHA9wXIaAJ5+QdEASsoPGZB2LxAU5O9\n",
       "GRi2/L/NwOX/CeINbqBbOBwgau9/nRnihRH+QNO5UeMFAE9FRwBt4bk1AAAAAElFTkSuQmCC\n",
       "\" style=\"display:inline;vertical-align:middle;\" /></a></span></td></tr>\n",
       "<tr><td>&nbsp;</td><td colspan=4 style=\"text-align:left\"><span style=\"font-size:20px;\"><a class=\"ProveItLink\" href=\"../__pv_it/0b28339a9470b3064675e3d630fe626bc057a2440/expr.ipynb\"><img src=\"data:image/png;base64,iVBORw0KGgoAAAANSUhEUgAAADcAAAAUBAMAAADbzbjtAAAAMFBMVEX///8iIiLc3Ny6urqIiIiq\n",
       "qqp2dnbMzMwQEBDu7u5mZmYyMjJERERUVFSYmJgAAAA4CJ/KAAAAAXRSTlMAQObYZgAAAQ1JREFU\n",
       "KM9jYIADpgcMyCAITL79f/burgkMDHNQ5Bh4FcDUbwYGnk4Ghk2okpwbQCT7NwYG1i8MfAtQJRlS\n",
       "QATLZyD+xsCogCY5A0TwfABa8JlBEU2OgdsASPADDddfwOCF5O5lS4BuYAPZU5/AwCrGwHAOIWmh\n",
       "wA00jQ/kIv9raUuAPhFFuLOPgesA0JECQPb5CWChZrgk108GRgegL4C6GT4yoElyHGCYXwCRZP8F\n",
       "EUIYOz+BIR5IMQtAvAkCCAfND2C4zaoAdhD3T4hQFlySx4FPlg1odQID1/6/DmAhQ6BBZ4DgJAPn\n",
       "FXddZ6CuAoTnMIJvIhIbe8DDwCFsUQYDaJHNg2INWjJ5xMAAAHA6PhPQZp1jAAAAAElFTkSuQmCC\n",
       "\" style=\"display:inline;vertical-align:middle;\" /></a> : <a class=\"ProveItLink\" href=\"../__pv_it/1e653f789234b245ee7fea7caad998c139d617410/expr.ipynb\"><img src=\"data:image/png;base64,iVBORw0KGgoAAAANSUhEUgAAABgAAAAJBAMAAADa0/H1AAAAMFBMVEX///9UVFSqqqrMzMwiIiKY\n",
       "mJgyMjIQEBCIiIh2dnZmZmbc3Nzu7u5ERES6uroAAACFTSmKAAAAAXRSTlMAQObYZgAAAElJREFU\n",
       "CNdjYICCXbPaD8DYfNUM+TA2w/EAhrVwzvoDDB5wTi0Dz2cYm+cnA9MHOOcTA2OCNox3gyFEYALD\n",
       "27tAcIDhYIe1xAMAoVgVdfU81nAAAAAASUVORK5CYII=\n",
       "\" style=\"display:inline;vertical-align:middle;\" /></a>, <a class=\"ProveItLink\" href=\"../../../../__pv_it/72df168d2bfb4e0140af90912ebf83b13772060b0/expr.ipynb\"><img src=\"data:image/png;base64,iVBORw0KGgoAAAANSUhEUgAAAAsAAAAJBAMAAAAWSsseAAAALVBMVEX///9mZmaqqqrMzMxEREQy\n",
       "MjIiIiKYmJh2dna6urrc3NxUVFSIiIju7u4AAACJHQtQAAAAAXRSTlMAQObYZgAAAEJJREFUCNdj\n",
       "YLhzeuWJAwy8Dew5bAEMHBc43nIuYOBlYHFgAAG+A2DKzgBIMF04x8BzgWGegh/DcgaG22fuiBcw\n",
       "AAATyhBrnyPYZQAAAABJRU5ErkJggg==\n",
       "\" style=\"display:inline;vertical-align:middle;\" /></a> : <a class=\"ProveItLink\" href=\"../__pv_it/639412fc83dccc0c825a7f4479a7068ed18b18c70/expr.ipynb\"><img src=\"data:image/png;base64,iVBORw0KGgoAAAANSUhEUgAAAEAAAAAPBAMAAACmSdRUAAAAMFBMVEX///92dnYiIiIQEBBERERU\n",
       "VFS6urqIiIjc3NxmZmaqqqru7u6YmJgyMjLMzMwAAADiRdoGAAAAAXRSTlMAQObYZgAAAQpJREFU\n",
       "GNNjYACBtwxYwNH/kVNdEiDs+9gUMJgwMHD+A7N47m/AIs/3h4GB7SeYuWt+A1TwAlA8AMpm/wHU\n",
       "+h3MPFAPtYr9AJDwgypgMWBg2KwNYrFtWH8AIvYEROyF2scfwMCnCmZvY3hfALHVWAkIlG9DFLyP\n",
       "Oe60AMxKYOifAGaUQvQ+gQjXNzBwm4L1Rc6MdwAxNsGcpwImnUGKQGrZGBiYL4BEOAIh8lsFwNRX\n",
       "kAKQ3UBFTAaQ8NC9CwJ68GBgiAd6jwOogPcDRO9JsC8a4MHA9wXIaAJ5+QdEASsoPGZB2LxAU5O9\n",
       "GRi2/L/NwOX/CeINbqBbOBwgau9/nRnihRH+QNO5UeMFAE9FRwBt4bk1AAAAAElFTkSuQmCC\n",
       "\" style=\"display:inline;vertical-align:middle;\" /></a>, <a class=\"ProveItLink\" href=\"../../../../__pv_it/c6e291955561f22a0e6708fd793ea93f1c7dbb5d0/expr.ipynb\"><img src=\"data:image/png;base64,iVBORw0KGgoAAAANSUhEUgAAAAsAAAANBAMAAACN24kIAAAAMFBMVEX///8iIiKYmJhUVFTMzMxE\n",
       "REQyMjKqqqq6urp2dnYQEBDc3NxmZmaIiIju7u4AAACH5sGpAAAAAXRSTlMAQObYZgAAAFlJREFU\n",
       "CNdj4LtzgWHXAwZOjgUM9xkYtvMkMIQyMDzgusDwl4GBof8ByxcgdYyBdwGQCmZgNQBShxn6FYDU\n",
       "47vnNzAwgGUZGJgT+H4AKUYF1gtAiuPuESAJAJGkFvXVdzA+AAAAAElFTkSuQmCC\n",
       "\" style=\"display:inline;vertical-align:middle;\" /></a> : <a class=\"ProveItLink\" href=\"../__pv_it/502a0e2beda363613f57dcbceb41b51971081e900/expr.ipynb\"><img src=\"data:image/png;base64,iVBORw0KGgoAAAANSUhEUgAAALUAAAAUBAMAAAA5PWHRAAAAMFBMVEX///9UVFTMzMx2dna6uroQ\n",
       "EBCqqqqIiIgiIiJmZmYyMjJERETu7u6YmJjc3NwAAAC+aOQFAAAAAXRSTlMAQObYZgAAAl9JREFU\n",
       "OMudVTFoFEEUfbuud5vc3iVoFUQSWy1iZUgTrpEEsYhwlTZpo6DXpkosPBQEL13Oxm0UDOEujRLQ\n",
       "5K5QkVwTK9FC1kaCjYkIMUZzzvw/szteBm7xHcfMnzdv/p//Z3aAwhZ64Wb3QFpNm/tnbRPedYYW\n",
       "XxThRF3j7YSzwQ3BmjrbDeusa0DfdwShMrWPesLZ0L8D0uSrZOYbLVsAfwBvHxhT9lNuSKM5Cz7+\n",
       "Bml8juXNI2PfG7qTPRQL7QGvlas1DoA0mlPIJfpgVlBSs8321ryRunOxYFrMuS82yaQzWaZ22+T0\n",
       "Flfjbj77A6SZI9Nr3TJKr/IEDAzCvS1iPcYDm1igds7kND7EvcsZkS6pWSfzFUYppL67BJ3G0dPv\n",
       "12akMy7mBfGTWDc5YIk0D3RAQdHdY02F7CK+VY1iZJ5wOx8huCJtjncBX6mtmFyM6+wJHgr7rClR\n",
       "soZqw6vmvE0axjO5hpC4O5SqMpwR2SmZXFLCx1yVM7XFA5CmxK5wPDTv3Umu+q7Ul/XafgvuYLy2\n",
       "5mJ8noDKAa7y2rQ/4d6fpnwvM6L4eGNYzPUoJ7P61lRMDnjIGnUJM+J/B6SRdSnM8F3S8MLkeLsH\n",
       "cS3ran3SxJzGJdV+UZdcaMbVec0dGtlWR6tf7OXiS7md8/oE+5IaNzmd7RWVTrnFZkSaKfHl6awg\n",
       "0/yZHJQT3DiN3dqp5+REltCRCcjKDE+ZnAJXGUHzVws3OvdI40dHvwdHht6qgguMAFZNwaLJV9Eb\n",
       "Y/+aqTUbvacFYddAWk2797yc7W1Io0nxPn36jzdNaP4C8jTBYUc5oRQAAAAASUVORK5CYII=\n",
       "\" style=\"display:inline;vertical-align:middle;\" /></a></span></td></tr><tr><td><a name=\"0xdb95f669e48423a_step2\">2</a></td><td>theorem</td><td></td><td><span style=\"font-size:20px;\"> <a class=\"ProveItLink\" href=\"../../../equality/_proofs_/subLeftSideInto.ipynb\" style=\"text-decoration: none\">&#x22A2;&nbsp;</a><a class=\"ProveItLink\" href=\"../../../equality/__pv_it/b3dff94cc894a8e233b57c1e58c1052fe6c79fa70/expr.ipynb\"><img src=\"data:image/png;base64,iVBORw0KGgoAAAANSUhEUgAAAL8AAAAWBAMAAABj11ATAAAAMFBMVEX///8QEBCIiIhmZma6urrM\n",
       "zMxUVFQiIiJERETc3Nzu7u6qqqp2dnaYmJgyMjIAAAAcRTyBAAAAAXRSTlMAQObYZgAAAthJREFU\n",
       "SMe1VU1oE0EU/rruTzbZJl48eQkWSgkFcxFUREKFqmA19SDeDMEWKrXtoR4sKvGWCrW5WQRxBalY\n",
       "PAQ8iIK41IMQg0YURFDYs1C7KEpbi/rmp5vdJhHF+GD3zXxvZr43782bAf6H3JD6IX0ua3xoz7qd\n",
       "4yvDY3uBaEECegl4zhof2+R5gty9bCNekv0o9edIm4U2EZxygCdJvPaBRSBuA1a5TQQ7M/Q5OO8D\n",
       "tyhulYWFa+1K7ix94xlzwgfixLhSLF74w/k8tNpvBvygcH+Bkqbo7xjpo/hY1BwCpgF1dnT3mcYZ\n",
       "Gf6XRot3YpmW62vrwAMHkRpwD2+Tlyg+lOUDPNd4BTxrnCKzL4wjorOnJYHyrfo0BRiU0gpe2ofJ\n",
       "G4qWAYUYMUzpaUnAjZojOvMtCSJrXHXQHm0U+Z482njNYM2LEFBTAm7UszJxpZZlMOETAJ83CEz3\n",
       "BCuJVShT7ODu6qZ11G4Ydp1AGMmPvhymxIatruNDclkOijJIc8VCBO0rzx6jnD7NWuu9rKYVe8wg\n",
       "fithDwZ2IIx0mJ01bStiOYJSujupF0lmBOiXAYsUefBI8ZASScZ9xmK54hxgianrB9ETIBDGQzBv\n",
       "TygFqAzMxmtyAwLksmyL4Wmo3yOeSSO2sLwlkow1Lcev8v8+5AMEwtjPxutJaJwu4WeCg0z2/xST\n",
       "KC7RfKqL3aBxlrdOxpuQt4Xm8UKaxLYAgTCepOhmOrJQczzeyOqfSJYEGJL6VXGnfk0xh+bsm5Zr\n",
       "kcI51QsQcCMbbGSPkUOOecX0XkCeWgGGJHTZyRJZZuUzWJ5/s1ghhf4et04gjOxcqfmrFJKMtj16\n",
       "9kivLedyMFwPwes6JDJO5WgpUgvWgXCijLuYobhSgQYncTAk/oMT2VQysZJUunMUDQTUGVXJpcfi\n",
       "KfSFg82fzHebn7wNpb53mhAMYKBK7tGRqoXg6j9c8OnGDSr2X63wC2jlxTKsC1d/AAAAAElFTkSu\n",
       "QmCC\n",
       "\" style=\"display:inline;vertical-align:middle;\" /></a></span></td></tr>\n",
       "<tr><td>&nbsp;</td><td colspan=4 style-\"text-align:left\"><a class=\"ProveItLink\" href=\"../../../equality/_proofs_/subLeftSideInto.ipynb\">proveit.logic.equality.subLeftSideInto</a></td></tr><tr><td><a name=\"0xdb95f669e48423a_step3\">3</a></td><td>instantiation</td><td><a href=\"#0xdb95f669e48423a_step5\">5</a>, <a href=\"#0xdb95f669e48423a_step6\">6</a>, <a href=\"#0xdb95f669e48423a_step7\">7</a></td><td><span style=\"font-size:20px;\"><a class=\"ProveItLink\" href=\"../__pv_it/bef3aefa4cdcb79965eddfefc0fdf570aa3ed5650/expr.ipynb\"><img src=\"data:image/png;base64,iVBORw0KGgoAAAANSUhEUgAAAJ0AAAAVBAMAAACu6/FQAAAAMFBMVEX///+IiIi6urrc3NxERETM\n",
       "zMwQEBCqqqpUVFQiIiJ2dnYyMjLu7u5mZmaYmJgAAABN0h6tAAAAAXRSTlMAQObYZgAAAgNJREFU\n",
       "OMtjYGDgu8dAFcB68QCI4tnFQCXAlAoi+T5Ajd+ARQlf/4+7LU7YOGggGkTcBhFcEyAi3B+wqWNz\n",
       "YGC4H4CNgwr2g4iVyOa9/oNNXfwDBgb9C9g4qP7YfwDNPJ7azwhpFgMYSx7Iei+AjcPA4IzQcPy+\n",
       "AZp5fIyfkKLKAcZyA9qUeQAbh4EhBKHhgbwCmnk67P+Q3P8WxvjBwBDZg5UDdALc60wH6oFBwbAM\n",
       "xOYAxyuPAutHsNTNmSAwH6qU9cc7kelwV8M5vGBFM//CZA4xxIOC4T2IXQaOMCYG5r/IAVxdAKYY\n",
       "gYF6rAEqhsIBAfbtUIYCgz3IAdxAImQyWCTi7o0vyObxbFMAR0wC0JjvsFhC5oDB6SSIw3vv9oND\n",
       "vBPoSrUAiA0M2cgqLRaDKX6gcxg/QsVQOCDA3AVJB0zApAkKNW6Q4zlAJrMD8TSw3O3dYLAZkeI4\n",
       "PjGgc3ghinZDkxUwbDgTYOEHjl9zWBKHAm2kFBfvgI0DchY0hzIXQHPXMph5zCAz/Q0QobcHytgG\n",
       "1JVygIHnNxIHEXpQtiUobD8jpT8e/98HGEr+z4Wr5IBm0u7/vTdcQDE98wASBwZaIdSR/3sY2P1/\n",
       "XkDLv8iAGV2A/QCWTGuALgAxL4GIoo2LqAJwJXL5hxccJMo8cPnHQEz5/ICo8hmSutmpWX8AAGPm\n",
       "pX8OKZVNAAAAAElFTkSuQmCC\n",
       "\" style=\"display:inline;vertical-align:middle;\" /></a> <a class=\"ProveItLink\" href=\"../__pv_it/f1160f1dd55f97f41d9f75645d6780ce6d00aa460/proof.ipynb\" style=\"text-decoration: none\">&#x22A2;&nbsp;</a><a class=\"ProveItLink\" href=\"../__pv_it/502a0e2beda363613f57dcbceb41b51971081e900/expr.ipynb\"><img src=\"data:image/png;base64,iVBORw0KGgoAAAANSUhEUgAAALUAAAAUBAMAAAA5PWHRAAAAMFBMVEX///9UVFTMzMx2dna6uroQ\n",
       "EBCqqqqIiIgiIiJmZmYyMjJERETu7u6YmJjc3NwAAAC+aOQFAAAAAXRSTlMAQObYZgAAAl9JREFU\n",
       "OMudVTFoFEEUfbuud5vc3iVoFUQSWy1iZUgTrpEEsYhwlTZpo6DXpkosPBQEL13Oxm0UDOEujRLQ\n",
       "5K5QkVwTK9FC1kaCjYkIMUZzzvw/szteBm7xHcfMnzdv/p//Z3aAwhZ64Wb3QFpNm/tnbRPedYYW\n",
       "XxThRF3j7YSzwQ3BmjrbDeusa0DfdwShMrWPesLZ0L8D0uSrZOYbLVsAfwBvHxhT9lNuSKM5Cz7+\n",
       "Bml8juXNI2PfG7qTPRQL7QGvlas1DoA0mlPIJfpgVlBSs8321ryRunOxYFrMuS82yaQzWaZ22+T0\n",
       "Flfjbj77A6SZI9Nr3TJKr/IEDAzCvS1iPcYDm1igds7kND7EvcsZkS6pWSfzFUYppL67BJ3G0dPv\n",
       "12akMy7mBfGTWDc5YIk0D3RAQdHdY02F7CK+VY1iZJ5wOx8huCJtjncBX6mtmFyM6+wJHgr7rClR\n",
       "soZqw6vmvE0axjO5hpC4O5SqMpwR2SmZXFLCx1yVM7XFA5CmxK5wPDTv3Umu+q7Ul/XafgvuYLy2\n",
       "5mJ8noDKAa7y2rQ/4d6fpnwvM6L4eGNYzPUoJ7P61lRMDnjIGnUJM+J/B6SRdSnM8F3S8MLkeLsH\n",
       "cS3ran3SxJzGJdV+UZdcaMbVec0dGtlWR6tf7OXiS7md8/oE+5IaNzmd7RWVTrnFZkSaKfHl6awg\n",
       "0/yZHJQT3DiN3dqp5+REltCRCcjKDE+ZnAJXGUHzVws3OvdI40dHvwdHht6qgguMAFZNwaLJV9Eb\n",
       "Y/+aqTUbvacFYddAWk2797yc7W1Io0nxPn36jzdNaP4C8jTBYUc5oRQAAAAASUVORK5CYII=\n",
       "\" style=\"display:inline;vertical-align:middle;\" /></a></span></td></tr>\n",
       "<tr><td>&nbsp;</td><td colspan=4 style=\"text-align:left\"><span style=\"font-size:20px;\"><a class=\"ProveItLink\" href=\"../../../../__pv_it/d3792d0d8642fdf1cd2a3a9b32c673ee13653de00/expr.ipynb\"><img src=\"data:image/png;base64,iVBORw0KGgoAAAANSUhEUgAAAA8AAAAOBAMAAAACpFvcAAAALVBMVEX///8iIiIQEBBERERUVFS6\n",
       "urqIiIjc3NxmZmaqqqru7u6YmJgyMjLMzMwAAACK9jtgAAAAAXRSTlMAQObYZgAAAFtJREFUCNdj\n",
       "YACBOwxQcA5Kc59bAGGs7CuAMDbkBYBp1gXzNoAZSxnuJYAZAQx1DSCa16PDzwCshIGB6QCIMYGB\n",
       "gVEBSLMDGTwPgIxCIGZ+zsCw+N0pBk67hw0AfpEVEQi8t+wAAAAASUVORK5CYII=\n",
       "\" style=\"display:inline;vertical-align:middle;\" /></a> : <a class=\"ProveItLink\" href=\"../__pv_it/8b52df86786c45166e4e597fabcdbadc8276ac2f0/expr.ipynb\"><img src=\"data:image/png;base64,iVBORw0KGgoAAAANSUhEUgAAAEAAAAAPBAMAAACmSdRUAAAAMFBMVEX///92dnYiIiIQEBBERERU\n",
       "VFS6urqIiIjc3NxmZmaqqqru7u6YmJgyMjLMzMwAAADiRdoGAAAAAXRSTlMAQObYZgAAAO5JREFU\n",
       "GNNjYACBtwxYwNH/kVNdEiDs+9gUMJgwMHD+A7N47m/AIs/3h4GB7SeYuWt+A0LcA8Zg/wHU+h3M\n",
       "PFCfgFDwBMZgMWBg2KwNYrFtWH8AoYBnApTBH8DApwq2exvD+wIQzakEBj+hCt7HHHdaAGYlMPRP\n",
       "QHIc1y0IXd/AwG0Kdm3kzHgHZOfvNQNTziBFICPYGBiYLyDJcwRC/PQVpABkN1ARkwHYDXchoAEe\n",
       "DAzxQO9xABXwfkAYwHYBEQx8X4CMJpCXfyC5ABqqvEBTk70ZGLb8v83A5f8J4Y04CMV6/+vMEC9s\n",
       "UdSAygUACNlBmGjrK1sAAAAASUVORK5CYII=\n",
       "\" style=\"display:inline;vertical-align:middle;\" /></a>, <a class=\"ProveItLink\" href=\"../../../../__pv_it/4d98b438710c5ada9ffa4646bb123a7d0e69ec000/expr.ipynb\"><img src=\"data:image/png;base64,iVBORw0KGgoAAAANSUhEUgAAABAAAAAOBAMAAADUAYG5AAAALVBMVEX///8yMjKqqqoiIiLu7u7c\n",
       "3NyIiIjMzMwQEBC6urpERERmZmZUVFSYmJgAAACsPVCVAAAAAXRSTlMAQObYZgAAAGxJREFUCNdj\n",
       "YGC48+70nlUTGICgi4GB+zmQZn/LwMD5Gshge8rAwPsMyOBqYGDwMAEy+A4wsNs4ABl1Z68tVgBp\n",
       "ygtgYOkBMVaAOCChNyBGAsQYhnMTIMawvwJyGIHGzFjCwMAj92b3qUUMDAAXABxvZ4rl5AAAAABJ\n",
       "RU5ErkJggg==\n",
       "\" style=\"display:inline;vertical-align:middle;\" /></a> : <a class=\"ProveItLink\" href=\"../__pv_it/8b9c784705e35002d4429ef743e77d1f418289900/expr.ipynb\"><img src=\"data:image/png;base64,iVBORw0KGgoAAAANSUhEUgAAAEAAAAAPBAMAAACmSdRUAAAAMFBMVEX///92dnYyMjKqqqoiIiLu\n",
       "7u7c3NyIiIjMzMwQEBC6urpERERmZmZUVFSYmJgAAADEjrHzAAAAAXRSTlMAQObYZgAAAOpJREFU\n",
       "GNNjYGB4+//O2d0LGLABDgUwNZuBgecHVgVMH8DK/jEwcP3BquDRVxDJ/o2Bge87XJA7Ac5ktfkG\n",
       "FpnAwBDpirB3A5zJx/4LRPFfYODwDUCY+wbOWsr8D0T133u+xQAscMQFBPwPwGxYwAG2uT6BgXUu\n",
       "stOMIMoZuBjYwG7fCVJkgKSAVRMSKr1nzv4G0X9BCgqQFOSKQWigsknQYGC4D9ZzSAkM1CDyzEDs\n",
       "CQ0Gjt9IBiyC0slArA8KTmAwrNyK5AJVCM3mACT2JzDw6v89c3szkgG8DRB1+z8FMFj/98EMfzZU\n",
       "LgBdXD0b6P4qzAAAAABJRU5ErkJggg==\n",
       "\" style=\"display:inline;vertical-align:middle;\" /></a></span></td></tr><tr><td><a name=\"0xdb95f669e48423a_step4\">4</a></td><td>instantiation</td><td><a href=\"#0xdb95f669e48423a_step8\">8</a></td><td><span style=\"font-size:20px;\"> <a class=\"ProveItLink\" href=\"../__pv_it/ea9ccea84dfef3269a03d425b2db548ff04e41f30/proof.ipynb\" style=\"text-decoration: none\">&#x22A2;&nbsp;</a><a class=\"ProveItLink\" href=\"../__pv_it/63af5f3c2f364b33f7f867fa32c28001974860380/expr.ipynb\"><img src=\"data:image/png;base64,iVBORw0KGgoAAAANSUhEUgAAATEAAAAUBAMAAAAXXRdqAAAAMFBMVEX///9UVFTMzMx2dna6uroQ\n",
       "EBCqqqqIiIgiIiJmZmYyMjJERETu7u6YmJjc3NwAAAC+aOQFAAAAAXRSTlMAQObYZgAAA5pJREFU\n",
       "SMedVk1IVFEUPu81zozNT5Ir+9N2kYtxVdgiZhNFBBlMELmZZRbUtJQWMwWK/VAjQWQbLTJIRCUq\n",
       "hDInyJBxM60iIXttQoIoQzIztXvPuX++eY0zHjnznvfc753v3HvuORcgWoD15LzH2DehFSLL8OZ3\n",
       "BG6K/t/rNendal33izhYTpElPELKxO7zQEbq53q2Py1GTmmbp3Aau4BwQzQ07DmxFaD6J4SLfW92\n",
       "SPnrDy9kFaPd26CQkuGQtnk65DTygB4jWYpxOOcxz14G8C0C7C+yfBDKZPqvl4sY27bjWYV8LJYy\n",
       "a9i8lprT2JRCj0GK5m2vjIqxtWvEe2CFTV4AmCj6xE2hLLy2FT38Sr2l2fc+pSTSHqXAyZuwCQkZ\n",
       "O440wi3ocZaGCum4IMNT9IkE8Tk32IbF3YmcIeVhBub1eKN6e8Y8nMpJpHWYiMyaNrkxIxpPNB6i\n",
       "x3Yc8eUuFIxv5wVsSw3Yl/n6upc+kCVlcsy/bOyGmjgHsGeHQuaBwmg3bWZmgEmjGXFjOPQGYhSU\n",
       "fbKLScegSJad70eT3CEm8oEBLpgxoQIpCz5uL/BndRfKolyIuY+XOhUS9rE/LmOmDeAuYm6pcASN\n",
       "acTRlDh8J/NFWq3GpEyW8AleYjKuNQsmSVmYEF00i9EjnaETNQqZga/47DRtSs4mxYugcQZxCYyi\n",
       "rqced3tSAq7LhIA0g9nuwlAVJwXY3dO9ZFryCZWhgV8SGUmBhVUiYdp0ceynbJQ0YohLUOBQhcse\n",
       "raW5r5tkQkA6VZIZ+zltHo1aR2YoBBYkMpgT5z1h2pR8PijSTNAgZri+fG9aKIWvYTJdUeUM6plv\n",
       "X0bn2f01u+ln2oF5NkDi6HJmzUtkm6yxnaYN4B5hRLFXNI4gjudkNKkrOR6UvKOSxV7SeaxFnYAv\n",
       "a9uHr88oZ7ERiRwS7OgESJuUo3K9JQ06Ac2iyoREvbT4Ht0RLYgFcOglX5AmFzNeDLhiTRvXpVKW\n",
       "G+hnLFtzAokVK5ijeqBtMstEIdA0biOOrdzU6iD4x3/T4eQdK0oBWcOs8z5Hiu4mxzeJaXj8Tw7O\n",
       "rV5V41vFcxu/CiQlEqMNpGiftE2IJT6uaTxAXNB9G+Dtwd1DJ0t0JzfYA+nD1wbVnVz9pOgek0Fc\n",
       "JAvrS8mOXgmyLG+ioxtN+L/icQvibTjkVI4sw5u8BcmbYykJlbw5VoQswxtnj7gy7r8zG75tz2zg\n",
       "th1xEPcPr/tEHfZflmoAAAAASUVORK5CYII=\n",
       "\" style=\"display:inline;vertical-align:middle;\" /></a></span></td></tr>\n",
       "<tr><td>&nbsp;</td><td colspan=4 style=\"text-align:left\"><span style=\"font-size:20px;\"><a class=\"ProveItLink\" href=\"../../../../__pv_it/d3792d0d8642fdf1cd2a3a9b32c673ee13653de00/expr.ipynb\"><img src=\"data:image/png;base64,iVBORw0KGgoAAAANSUhEUgAAAA8AAAAOBAMAAAACpFvcAAAALVBMVEX///8iIiIQEBBERERUVFS6\n",
       "urqIiIjc3NxmZmaqqqru7u6YmJgyMjLMzMwAAACK9jtgAAAAAXRSTlMAQObYZgAAAFtJREFUCNdj\n",
       "YACBOwxQcA5Kc59bAGGs7CuAMDbkBYBp1gXzNoAZSxnuJYAZAQx1DSCa16PDzwCshIGB6QCIMYGB\n",
       "gVEBSLMDGTwPgIxCIGZ+zsCw+N0pBk67hw0AfpEVEQi8t+wAAAAASUVORK5CYII=\n",
       "\" style=\"display:inline;vertical-align:middle;\" /></a> : <a class=\"ProveItLink\" href=\"../../../../__pv_it/d3792d0d8642fdf1cd2a3a9b32c673ee13653de00/expr.ipynb\"><img src=\"data:image/png;base64,iVBORw0KGgoAAAANSUhEUgAAAA8AAAAOBAMAAAACpFvcAAAALVBMVEX///8iIiIQEBBERERUVFS6\n",
       "urqIiIjc3NxmZmaqqqru7u6YmJgyMjLMzMwAAACK9jtgAAAAAXRSTlMAQObYZgAAAFtJREFUCNdj\n",
       "YACBOwxQcA5Kc59bAGGs7CuAMDbkBYBp1gXzNoAZSxnuJYAZAQx1DSCa16PDzwCshIGB6QCIMYGB\n",
       "gVEBSLMDGTwPgIxCIGZ+zsCw+N0pBk67hw0AfpEVEQi8t+wAAAAASUVORK5CYII=\n",
       "\" style=\"display:inline;vertical-align:middle;\" /></a>, <a class=\"ProveItLink\" href=\"../../../../__pv_it/4d98b438710c5ada9ffa4646bb123a7d0e69ec000/expr.ipynb\"><img src=\"data:image/png;base64,iVBORw0KGgoAAAANSUhEUgAAABAAAAAOBAMAAADUAYG5AAAALVBMVEX///8yMjKqqqoiIiLu7u7c\n",
       "3NyIiIjMzMwQEBC6urpERERmZmZUVFSYmJgAAACsPVCVAAAAAXRSTlMAQObYZgAAAGxJREFUCNdj\n",
       "YGC48+70nlUTGICgi4GB+zmQZn/LwMD5Gshge8rAwPsMyOBqYGDwMAEy+A4wsNs4ABl1Z68tVgBp\n",
       "ygtgYOkBMVaAOCChNyBGAsQYhnMTIMawvwJyGIHGzFjCwMAj92b3qUUMDAAXABxvZ4rl5AAAAABJ\n",
       "RU5ErkJggg==\n",
       "\" style=\"display:inline;vertical-align:middle;\" /></a> : <a class=\"ProveItLink\" href=\"../../../../__pv_it/4d98b438710c5ada9ffa4646bb123a7d0e69ec000/expr.ipynb\"><img src=\"data:image/png;base64,iVBORw0KGgoAAAANSUhEUgAAABAAAAAOBAMAAADUAYG5AAAALVBMVEX///8yMjKqqqoiIiLu7u7c\n",
       "3NyIiIjMzMwQEBC6urpERERmZmZUVFSYmJgAAACsPVCVAAAAAXRSTlMAQObYZgAAAGxJREFUCNdj\n",
       "YGC48+70nlUTGICgi4GB+zmQZn/LwMD5Gshge8rAwPsMyOBqYGDwMAEy+A4wsNs4ABl1Z68tVgBp\n",
       "ygtgYOkBMVaAOCChNyBGAsQYhnMTIMawvwJyGIHGzFjCwMAj92b3qUUMDAAXABxvZ4rl5AAAAABJ\n",
       "RU5ErkJggg==\n",
       "\" style=\"display:inline;vertical-align:middle;\" /></a></span></td></tr><tr><td><a name=\"0xdb95f669e48423a_step5\">5</a></td><td>theorem</td><td></td><td><span style=\"font-size:20px;\"> <a class=\"ProveItLink\" href=\"../../conjunction/_proofs_/andIfBoth.ipynb\" style=\"text-decoration: none\">&#x22A2;&nbsp;</a><a class=\"ProveItLink\" href=\"../../conjunction/__pv_it/dc820df41606bb8a23407f69b4cab46090d2beff0/expr.ipynb\"><img src=\"data:image/png;base64,iVBORw0KGgoAAAANSUhEUgAAAK0AAAAWBAMAAABAjAHGAAAAMFBMVEX///8QEBCIiIhmZma6urrM\n",
       "zMxUVFQiIiJERETc3Nzu7u6qqqp2dnaYmJgyMjIAAAAcRTyBAAAAAXRSTlMAQObYZgAAArtJREFU\n",
       "OMutVU1oE1EQ/tzsJtn81J5E0ENuetEWAhGk2KgXL9LqwaMNVKEXaVEQFKURxKZVyHoyF21EoVKh\n",
       "LuTUU2M9KK1IrCCIiIGe7CWlsb8S6rx5L+EZTWHVB7szb+bN983OTF6Av1oPd/RO01MWyhePsKG0\n",
       "lOeb7B+3+xOZJPwOMC/2Sx5x2xwpK2rv1B17Ad8qQpRsjnZ22iPuBymilbxUFpXdqgFmFZglanJF\n",
       "XI+416R43i0TtUYUvrFJZCvAYxJzk5MPPMLaQ1KWOpIs/Sdi0hBsJ8zrlCzZNzKZGx5xjU4WZn6m\n",
       "xMoUFNHuFKyrogB04CIwykb5PlV9NSC/LqlQgrw1s12J0bpFwj1Fn8xzXnYf6Lu0MCJqGqXGneT2\n",
       "kf5d9qIdkXbW6s38KgneAy+VJeAq4nGZ+BAeSUeHg9AekmHKPwCD6Z/U2OVLIbyl44a6ZXYJYEa1\n",
       "ZxczWf3xQT4TjcHfy45bAptIrWWqRSnAtrkrMpcYfGUdNzIhk7oMHIOOa5LCJwN5WCl2rAncmMS1\n",
       "y+eYPZZh14teHM7ruGeDrIRWYSz9Ugd6BbhiBXq+1ccXg0Rqij6OXuBZwRGO6Tl0UHLXcVM+bra5\n",
       "snAHet9swm1bhsIs1MfX2lB9Q4HjPqODY94BB3TcqGtwcKQMQ00TjxHE0Ac3RZZpWQuiofSPj4km\n",
       "FcXQiWEJLb7N8uffA8ZdDXeq6w23MViE/UPhis98tr2EcHadGPyi2gaB+Ctr8YG7fH+INkYFni+P\n",
       "ce4pxfY4Gu5R2Ks88i7MzabfsWLhd69ummhopymyZI/B3oK9X6uDSaWsIUesedwvNt07LddsoxMb\n",
       "sLM3rX14XY0PJDXcbBq59dIZNzIcT9xuxAWdna/ncpMhrG/0y9P9873eYv1GO90CN+x4+h/61Gwo\n",
       "tcCN4j+uzn8J/glIXrXYTMUp0gAAAABJRU5ErkJggg==\n",
       "\" style=\"display:inline;vertical-align:middle;\" /></a></span></td></tr>\n",
       "<tr><td>&nbsp;</td><td colspan=4 style-\"text-align:left\"><a class=\"ProveItLink\" href=\"../../conjunction/_proofs_/andIfBoth.ipynb\">proveit.logic.boolean.conjunction.andIfBoth</a></td></tr><tr><td><a name=\"0xdb95f669e48423a_step6\">6</a></td><td>assumption</td><td></td><td><span style=\"font-size:20px;\"><a class=\"ProveItLink\" href=\"../__pv_it/d724b8b04397244d48f9c771a2569d3864e53e0e0/expr.ipynb\"><img src=\"data:image/png;base64,iVBORw0KGgoAAAANSUhEUgAAAFMAAAAVBAMAAADInc9CAAAAMFBMVEX///+IiIi6urrc3NxERETM\n",
       "zMwQEBCqqqpUVFQiIiJ2dnYyMjLu7u5mZmaYmJgAAABN0h6tAAAAAXRSTlMAQObYZgAAAVFJREFU\n",
       "KM9jYGDgu8dACLBePACieHYxEAZMqSCS7wNU5wYsSvj6f9xtcQIyboN4XBMgotwfsBnH5sDAcD+A\n",
       "gWElstLXf7ApjX/AwKB/AVUpT+1nhAIWAxhLHsh6L4CqlI/xE5KPHWAsN6AhmQdQleqw/0Oy9y2M\n",
       "8YOBIbIHSC8DcTjAPudRYP0Ilrs5EwTmX4Aa/+OdyHQQ4z2IKAsABxwD819k71QXgClGoAeONYDC\n",
       "B6g3ZDJYLOLujS/ISnm2KYD9lwBU/h3E6gT6TQ1sKlAiG1mpxWIwxQ80kRHkMm6Q0Rwg37ID8TSw\n",
       "5O3dYLAZEawcn2BuBYeAORDvRzJUGylY4x1gIQBSygxS7m+AcOkeKGMb0MMpoFQFC1ce/98HGEr+\n",
       "z4Ur5QiA0N3/e2+4gMMCJQ0gA2YMEYjSBCLSK0Qp3wdilILTKwNRuSAJTLETmbcAeeRemCs1ZFAA\n",
       "AAAASUVORK5CYII=\n",
       "\" style=\"display:inline;vertical-align:middle;\" /></a> <a class=\"ProveItLink\" href=\"../__pv_it/398ad2f600fe9d64fafc0e1a14b5cdb47c57e34a0/proof.ipynb\" style=\"text-decoration: none\">&#x22A2;&nbsp;</a><a class=\"ProveItLink\" href=\"../__pv_it/8b52df86786c45166e4e597fabcdbadc8276ac2f0/expr.ipynb\"><img src=\"data:image/png;base64,iVBORw0KGgoAAAANSUhEUgAAAEAAAAAPBAMAAACmSdRUAAAAMFBMVEX///92dnYiIiIQEBBERERU\n",
       "VFS6urqIiIjc3NxmZmaqqqru7u6YmJgyMjLMzMwAAADiRdoGAAAAAXRSTlMAQObYZgAAAO5JREFU\n",
       "GNNjYACBtwxYwNH/kVNdEiDs+9gUMJgwMHD+A7N47m/AIs/3h4GB7SeYuWt+A0LcA8Zg/wHU+h3M\n",
       "PFCfgFDwBMZgMWBg2KwNYrFtWH8AoYBnApTBH8DApwq2exvD+wIQzakEBj+hCt7HHHdaAGYlMPRP\n",
       "QHIc1y0IXd/AwG0Kdm3kzHgHZOfvNQNTziBFICPYGBiYLyDJcwRC/PQVpABkN1ARkwHYDXchoAEe\n",
       "DAzxQO9xABXwfkAYwHYBEQx8X4CMJpCXfyC5ABqqvEBTk70ZGLb8v83A5f8J4Y04CMV6/+vMEC9s\n",
       "UdSAygUACNlBmGjrK1sAAAAASUVORK5CYII=\n",
       "\" style=\"display:inline;vertical-align:middle;\" /></a></span></td></tr>\n",
       "<tr><td><a name=\"0xdb95f669e48423a_step7\">7</a></td><td>assumption</td><td></td><td><span style=\"font-size:20px;\"><a class=\"ProveItLink\" href=\"../__pv_it/63f98eb8b15702d15e76de483ab397fa017ebfc70/expr.ipynb\"><img src=\"data:image/png;base64,iVBORw0KGgoAAAANSUhEUgAAAFMAAAAVBAMAAADInc9CAAAAMFBMVEX///+IiIi6urrc3NxERETM\n",
       "zMwQEBCqqqpUVFQiIiJ2dnYyMjLu7u5mZmaYmJgAAABN0h6tAAAAAXRSTlMAQObYZgAAAVBJREFU\n",
       "KM9jYGDgu8dACLBePACieHYxEAZMqSCS7wOI6P9xt8UJu7JoEHEbRHBNAJFsDgwM9wOwKt0PIlYi\n",
       "lMY/YGDQv4BNJd/+A6hK5Q0YGN4LwOWdEUqP3zdAVeoG9F/mAbh8CELpA3kFVKU/GBgie5BshbuF\n",
       "6UA90G0My0Bsjg2ggPvxTmQ6WIp3Jhj8hSk9xBAPctd7ELsM5G/GzwwMxxqQPMO+HcpQYLAH2cAN\n",
       "JEImgwRYEoDKvyN7/HQSJJ567/Y7gBidQLPVQKbyA01k/IikkrnLAOJUYJCDXMgNspLDARqsHJ/A\n",
       "bt0NARCVDAUMDJwJMLeCQwAUrPEOSHG+AWo4UCn3B1gIgJVuA8qmHEByKZRtCfLHZ+Rw7f7fe8Ol\n",
       "AMmprRDqyP89DOz+Py+gRAEaMEAXgChNICK9QpSC0ytBAE6vDETlAkiEsBOZtwBLxGB4AZb4wAAA\n",
       "AABJRU5ErkJggg==\n",
       "\" style=\"display:inline;vertical-align:middle;\" /></a> <a class=\"ProveItLink\" href=\"../__pv_it/30ae54578a4410df4855be13bf3d18c71f425f960/proof.ipynb\" style=\"text-decoration: none\">&#x22A2;&nbsp;</a><a class=\"ProveItLink\" href=\"../__pv_it/8b9c784705e35002d4429ef743e77d1f418289900/expr.ipynb\"><img src=\"data:image/png;base64,iVBORw0KGgoAAAANSUhEUgAAAEAAAAAPBAMAAACmSdRUAAAAMFBMVEX///92dnYyMjKqqqoiIiLu\n",
       "7u7c3NyIiIjMzMwQEBC6urpERERmZmZUVFSYmJgAAADEjrHzAAAAAXRSTlMAQObYZgAAAOpJREFU\n",
       "GNNjYGB4+//O2d0LGLABDgUwNZuBgecHVgVMH8DK/jEwcP3BquDRVxDJ/o2Bge87XJA7Ac5ktfkG\n",
       "FpnAwBDpirB3A5zJx/4LRPFfYODwDUCY+wbOWsr8D0T133u+xQAscMQFBPwPwGxYwAG2uT6BgXUu\n",
       "stOMIMoZuBjYwG7fCVJkgKSAVRMSKr1nzv4G0X9BCgqQFOSKQWigsknQYGC4D9ZzSAkM1CDyzEDs\n",
       "CQ0Gjt9IBiyC0slArA8KTmAwrNyK5AJVCM3mACT2JzDw6v89c3szkgG8DRB1+z8FMFj/98EMfzZU\n",
       "LgBdXD0b6P4qzAAAAABJRU5ErkJggg==\n",
       "\" style=\"display:inline;vertical-align:middle;\" /></a></span></td></tr>\n",
       "<tr><td><a name=\"0xdb95f669e48423a_step8\">8</a></td><td>axiom</td><td></td><td><span style=\"font-size:20px;\"> <a class=\"ProveItLink\" href=\"../_axioms_.ipynb#iffDef\" style=\"text-decoration: none\">&#x22A2;&nbsp;</a><a class=\"ProveItLink\" href=\"../__pv_it/7e13510ad32a73fabb39fbd3d838d36a55d815580/expr.ipynb\"><img src=\"data:image/png;base64,iVBORw0KGgoAAAANSUhEUgAAAXkAAAAVBAMAAABRbIObAAAAMFBMVEX///8QEBCIiIhmZma6urrM\n",
       "zMxUVFQiIiJERETc3Nzu7u6qqqp2dnaYmJgyMjIAAAAcRTyBAAAAAXRSTlMAQObYZgAAA8xJREFU\n",
       "SMfVl09oE0EUxj+TbNNNmrQHUUGRgAe9aAuFetOoB0VQ40U8aUALRRQrQgtWUU+2/iF7qoJgVxQs\n",
       "FarQi15U9CBakaCgFFEiHqQKtjRaa6XW+fdmk+0kTVsvfvC1Yd/8Zt/OvJnZBcrJzkrPovv/jqyQ\n",
       "Ief4hfclGvYqM+0zxd9MH2jqTKLK+WdkrxczyWLpcoY8yC9+KZH9sDLTiLHBMiD4A5HcgkmngFMx\n",
       "k+KjEAz5Cp+uM+bkYw3S/OeIaxqKKSCUBx4vmPzkcTpm0IdJSEY5zvquuWvOPuxIM93eqEYnzryH\n",
       "GgR+sRuOAdcrIbm6SpDWOVdzOqZU7fGRARYSjHLseV/f5RKFc1mZKVuvCnEt7y9FHdexPk6wR0pW\n",
       "QHLthZms2pzQnI7RNHmVEQt8h2TIE52dJ0tkv0qZTaT7MOt1FaF1UpuG1cYnr2F20qsMA9mPVs3p\n",
       "GOm1/rU9yopKMORmmk/5d1v+SQtN1SVl4Cb2y8HZvbSdaaXqe/+RV+d41cX44qv5JtRgJoPtQlTO\n",
       "RSTfOwb1HXUMWC+Y0/TIkaQ1phjyFrXwY9/l6NShpk617lAGkugRXQQOyRm4IBvUO4gsYf+jrb6x\n",
       "n0kqRb8ayVZc05yOaT1Q6zIEO68YchgBMbU3pkSLYBrRSUUtVoZ1oPGoKJk2WpWyFs/ye7GurVFf\n",
       "9jNIrf7FBjKWQFWKOB3zFutHuTr2NDZNQDLkmmxYhJ4fl3klEMz5cwgBi8TF7keyu8OywTi/T6Jc\n",
       "9pqks/SwYyDDLqy0zp5iWt3PoOYRK33Z2zmxAVqJTtHiTgrrXP/8s4EIy3J6K2r7c0pv2jjK+gy1\n",
       "enWfNpNBGf3mGEgM0DnVURgDNkhGHXtR5mOQDBldB8WehfWiya61a9LwrVr7rjzlaNOIDHubtjXh\n",
       "rT1PBlJWbs5IDqsnEIyOkXaq/1fVwV24ajEgHv8d6kWTl8Bqwp4o8124+pe8xh81qIoyzkZ103l+\n",
       "4ZEvexMpqt41kWIbDruK0TGqerU/2zzPjCMZMmp5iUU+vciIni8CPbRitkr3Tn9BNPOTdmb5dsGn\n",
       "a2S8sUXsPvGUL3sTydVsJKt4mQQSkvFiSnI9I5L54+Le9HHJkBHjWQdd9IhWv1nxODPPe2/ZMff5\n",
       "j7VbZd4UiuQYyZD4mYKZsU3MraK77mBzkLXPw56EvcLwrlVe5d7S5kRWzDwuZKsnYGdOWcvxNN/Y\n",
       "kix6qeqavTvDG/J8yQoZcpGipb8xyqm67NfJnMgKGXLZD7UKv++G5v1lODSPL8OhAhcpi/9LfwF9\n",
       "GoUpN6fzvwAAAABJRU5ErkJggg==\n",
       "\" style=\"display:inline;vertical-align:middle;\" /></a></span></td></tr>\n",
       "<tr><td>&nbsp;</td><td colspan=4 style-\"text-align:left\"><a class=\"ProveItLink\" href=\"../_axioms_.ipynb#iffDef\">proveit.logic.boolean.implication.iffDef</a></td></tr></table>"
      ],
      "text/plain": [
       "\tstep type\trequirements\tstatement\n",
       "0\tgeneralizaton\t1\t|- forall_{A, B | A => B, B => A} (A <=> B)\n",
       "1\tinstantiation\t2, 3, 4\t{A => B, B => A} |- A <=> B\n",
       "\tP(_a) : _a, x : A <=> B, y : (A => B) and (B => A)\n",
       "2\ttheorem\t\t|- forall_{P, x, y | P(y), x = y} P(x)\n",
       "\tproveit.logic.equality.subLeftSideInto\n",
       "3\tinstantiation\t5, 6, 7\t{A => B, B => A} |- (A => B) and (B => A)\n",
       "\tA : A => B, B : B => A\n",
       "4\tinstantiation\t8\t|- (A <=> B) = ((A => B) and (B => A))\n",
       "\tA : A, B : B\n",
       "5\ttheorem\t\t|- forall_{A, B | A, B} (A and B)\n",
       "\tproveit.logic.boolean.conjunction.andIfBoth\n",
       "6\tassumption\t\t{A => B} |- A => B\n",
       "7\tassumption\t\t{B => A} |- B => A\n",
       "8\taxiom\t\t|- forall_{A, B} ((A <=> B) = ((A => B) and (B => A)))\n",
       "\tproveit.logic.boolean.implication.iffDef"
      ]
     },
     "execution_count": 7,
     "metadata": {},
     "output_type": "execute_result"
    }
   ],
   "source": [
    "%qed"
   ]
  },
  {
   "cell_type": "code",
   "execution_count": null,
   "metadata": {},
   "outputs": [],
   "source": []
  }
 ],
 "metadata": {
  "kernelspec": {
   "display_name": "Python 3",
   "language": "python",
   "name": "python3"
  }
 },
 "nbformat": 4,
 "nbformat_minor": 0
}
