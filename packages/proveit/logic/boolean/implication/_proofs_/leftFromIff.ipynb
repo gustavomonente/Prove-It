{
 "cells": [
  {
   "cell_type": "markdown",
   "metadata": {},
   "source": [
    "Proof of <a class=\"ProveItLink\" href=\"../../../../_context_.ipynb\">proveit</a>.<a class=\"ProveItLink\" href=\"../../../_context_.ipynb\">logic</a>.<a class=\"ProveItLink\" href=\"../../_context_.ipynb\">boolean</a>.<a class=\"ProveItLink\" href=\"../_context_.ipynb\">implication</a>.<a href=\"../_theorems_.ipynb#leftFromIff\" class=\"ProveItLink\">leftFromIff</a> theorem\n",
    "========"
   ]
  },
  {
   "cell_type": "code",
   "execution_count": 1,
   "metadata": {},
   "outputs": [],
   "source": [
    "import proveit\n",
    "context = proveit.Context('..') # the theorem's context is in the parent directory"
   ]
  },
  {
   "cell_type": "code",
   "execution_count": 2,
   "metadata": {},
   "outputs": [
    {
     "name": "stdout",
     "output_type": "stream",
     "text": [
      "Beginning proof of leftFromIff\n",
      "Recorded 'presuming' information\n"
     ]
    },
    {
     "name": "stdout",
     "output_type": "stream",
     "text": [
      "Presuming previous theorems (applied transitively).\n"
     ]
    },
    {
     "data": {
      "text/html": [
       "<strong id=\"leftFromIff\">leftFromIff:</strong> <a class=\"ProveItLink\" href=\"../__pv_it/c02bdc20e1c2b3f8dfd9d3c4102068f28959b4940/expr.ipynb\"><img src=\"data:image/png;base64,iVBORw0KGgoAAAANSUhEUgAAAJEAAAAWBAMAAAAyQ2NwAAAAMFBMVEX///8QEBCIiIhmZma6urrM\n",
       "zMxUVFQiIiJERETc3Nzu7u6qqqp2dnaYmJgyMjIAAAAcRTyBAAAAAXRSTlMAQObYZgAAAiBJREFU\n",
       "OMutlD9oFEEUxj9vN7mdvd0kvSkOG2000cVTJJiFNGk0p4WlHviHdAZtFQMR2RNh18rD5hYSUE6I\n",
       "C1ZWObFQoshqK+KJXZoEY0g8EX3zLhtnMSEJ64OZ+WbezG9m3jwG+G/WktWnrJTzVN5IsZCVtEil\n",
       "RkVMZgTZiyHQQ8WKMpKeDAeEm280HmS9XDzgUr3meTcygvRwLqbmMlDlfqceXX45HrA7mWcEyhp/\n",
       "qFRNCWkzuFCkZgQmZ4L9vRO8Plh9DEjmfXaV7d8DL9KCzEV9kJo8cvJomP7Fo1oFhbZKModjhVQC\n",
       "5sKUALouOlfl61txnvvz17nJF6G1VJL1iPYzByGasncNOImU4DjskUtE6xyDix4PPy3jUKiSzhq0\n",
       "XzfF6qg84ApynMYbgoxyKM8BqV6SdTeO8fDYwQMVqKSKNgEc9jzvC9H0bx/udM6RCDoKkXqWpHo2\n",
       "IeuPGODxd8B+lWRHuSWMctCPhLBayPH0DQHIbDR+SNUrX9D8+tbnS90D6pFCmh163cYVlqddGE2I\n",
       "n+xNBB7/XkDBX5WPZ0uCFqJelg5yjwUK6QTECsSU4zjHKeS9EfTO9on4x06RMxZ3IdoQ/crtdEoB\n",
       "So/Zh43GPurWQ9xvohaui03MWIPwb3btxatlZ9xVSP4kaqsx9CZMekLrllO6DZyJ1sXWVlDhKU8Z\n",
       "Zvi3t/3f8XxLUnrDYPvfYWcke3dfhbbLr+UPakKRHToRnRQAAAAASUVORK5CYII=\n",
       "\" style=\"display:inline;vertical-align:middle;\" /></a><br>(see <a class=\"ProveItLink\" href=\"../__pv_it/c02bdc20e1c2b3f8dfd9d3c4102068f28959b4940/dependencies.ipynb\">dependencies</a>)<br>"
      ],
      "text/plain": [
       "leftFromIff: forall_{A, B | A <=> B, B} A"
      ]
     },
     "execution_count": 2,
     "metadata": {},
     "output_type": "execute_result"
    }
   ],
   "source": [
    "%proving leftFromIff presuming []"
   ]
  },
  {
   "cell_type": "code",
   "execution_count": 3,
   "metadata": {},
   "outputs": [
    {
     "data": {
      "text/html": [
       "<table><tr><th>&nbsp;</th><th>step type</th><th>requirements</th><th>statement</th></tr>\n",
       "<tr><td><a name=\"-0x45e36ca29f7f6e54_step0\">0</a></td><td>generalizaton</td><td><a href=\"#-0x45e36ca29f7f6e54_step1\">1</a></td><td><span style=\"font-size:20px;\"> <a class=\"ProveItLink\" href=\"../__pv_it/4d7ec82257c714b156ae5d6b16d3dfe85f03253d0/proof.ipynb\" style=\"text-decoration: none\">&#x22A2;&nbsp;</a><a class=\"ProveItLink\" href=\"../__pv_it/c02bdc20e1c2b3f8dfd9d3c4102068f28959b4940/expr.ipynb\"><img src=\"data:image/png;base64,iVBORw0KGgoAAAANSUhEUgAAAJEAAAAWBAMAAAAyQ2NwAAAAMFBMVEX///8QEBCIiIhmZma6urrM\n",
       "zMxUVFQiIiJERETc3Nzu7u6qqqp2dnaYmJgyMjIAAAAcRTyBAAAAAXRSTlMAQObYZgAAAiBJREFU\n",
       "OMutlD9oFEEUxj9vN7mdvd0kvSkOG2000cVTJJiFNGk0p4WlHviHdAZtFQMR2RNh18rD5hYSUE6I\n",
       "C1ZWObFQoshqK+KJXZoEY0g8EX3zLhtnMSEJ64OZ+WbezG9m3jwG+G/WktWnrJTzVN5IsZCVtEil\n",
       "RkVMZgTZiyHQQ8WKMpKeDAeEm280HmS9XDzgUr3meTcygvRwLqbmMlDlfqceXX45HrA7mWcEyhp/\n",
       "qFRNCWkzuFCkZgQmZ4L9vRO8Plh9DEjmfXaV7d8DL9KCzEV9kJo8cvJomP7Fo1oFhbZKModjhVQC\n",
       "5sKUALouOlfl61txnvvz17nJF6G1VJL1iPYzByGasncNOImU4DjskUtE6xyDix4PPy3jUKiSzhq0\n",
       "XzfF6qg84ApynMYbgoxyKM8BqV6SdTeO8fDYwQMVqKSKNgEc9jzvC9H0bx/udM6RCDoKkXqWpHo2\n",
       "IeuPGODxd8B+lWRHuSWMctCPhLBayPH0DQHIbDR+SNUrX9D8+tbnS90D6pFCmh163cYVlqddGE2I\n",
       "n+xNBB7/XkDBX5WPZ0uCFqJelg5yjwUK6QTECsSU4zjHKeS9EfTO9on4x06RMxZ3IdoQ/crtdEoB\n",
       "So/Zh43GPurWQ9xvohaui03MWIPwb3btxatlZ9xVSP4kaqsx9CZMekLrllO6DZyJ1sXWVlDhKU8Z\n",
       "Zvi3t/3f8XxLUnrDYPvfYWcke3dfhbbLr+UPakKRHToRnRQAAAAASUVORK5CYII=\n",
       "\" style=\"display:inline;vertical-align:middle;\" /></a></span></td></tr>\n",
       "<tr><td><a name=\"-0x45e36ca29f7f6e54_step1\">1</a></td><td>modus ponens</td><td><a href=\"#-0x45e36ca29f7f6e54_step2\">2</a>, <a href=\"#-0x45e36ca29f7f6e54_step3\">3</a></td><td><span style=\"font-size:20px;\"><a class=\"ProveItLink\" href=\"../__pv_it/13d3b41b76a326fc6659b5574ec0eb181297e60a0/expr.ipynb\"><img src=\"data:image/png;base64,iVBORw0KGgoAAAANSUhEUgAAAG0AAAAVBAMAAAC+p33JAAAAMFBMVEX///+IiIi6urrc3NxERETM\n",
       "zMwQEBCqqqpUVFQiIiJ2dnYyMjLu7u5mZmaYmJgAAABN0h6tAAAAAXRSTlMAQObYZgAAAZlJREFU\n",
       "OMtjYGDgu8dAEmC9eABE8exiIBEwpYJIvg9QYzZgUcLX/+NuixM65zaIxzUBIsr9AZvZbA4MDPcD\n",
       "0DgrkfW9/oNNX/wDBgb9C2gcZH08tZ+hstxAHAHTJ2/AwPBeAI2DrI+P8RNUVg6IWWBOcwOamHkA\n",
       "jYOsT4f9HzR8HEC274Eq/cHAENnDgMZZBuJwgMORR4H1I0QyLHMmEGRD7GD98U5kOjziYJz3IKIM\n",
       "7CQmBua/YElGiOms7hAe0NPHGqD64BxuYNiETAaLRdy98QVs7wyoIk6QcxlYEoDKv0OFEJxOYOCo\n",
       "ge1TYGDIBktaLIAEbxeY4gcazwj1AILDDbKUA2QwOxBPg8i+3A0COwPgMcbxCSn6wJz38PA0B+L9\n",
       "0NQEimWezYgYi3dgQOMsg+ljBun1N4BINwExbwGEvQ0YYikHGHh+I3EQ8cfj//sAQ8n/uRC1p4HY\n",
       "BMLs/t97wwVkxMwDSBzU9AkHzEB8Bk2M/QAyD6IvgYgsx8WAoY/vAxH6DqLwwPmPgZj8/gAlvydB\n",
       "3E5O+QIAQnmCJFh2YXYAAAAASUVORK5CYII=\n",
       "\" style=\"display:inline;vertical-align:middle;\" /></a> <a class=\"ProveItLink\" href=\"../__pv_it/4854ad9cb9be1b38bfe9cd9b5df78d9e4715e11c0/proof.ipynb\" style=\"text-decoration: none\">&#x22A2;&nbsp;</a><a class=\"ProveItLink\" href=\"../../../../__pv_it/d3792d0d8642fdf1cd2a3a9b32c673ee13653de00/expr.ipynb\"><img src=\"data:image/png;base64,iVBORw0KGgoAAAANSUhEUgAAAA8AAAAOBAMAAAACpFvcAAAALVBMVEX///8iIiIQEBBERERUVFS6\n",
       "urqIiIjc3NxmZmaqqqru7u6YmJgyMjLMzMwAAACK9jtgAAAAAXRSTlMAQObYZgAAAFtJREFUCNdj\n",
       "YACBOwxQcA5Kc59bAGGs7CuAMDbkBYBp1gXzNoAZSxnuJYAZAQx1DSCa16PDzwCshIGB6QCIMYGB\n",
       "gVEBSLMDGTwPgIxCIGZ+zsCw+N0pBk67hw0AfpEVEQi8t+wAAAAASUVORK5CYII=\n",
       "\" style=\"display:inline;vertical-align:middle;\" /></a></span></td></tr>\n",
       "<tr><td><a name=\"-0x45e36ca29f7f6e54_step2\">2</a></td><td>instantiation</td><td><a href=\"#-0x45e36ca29f7f6e54_step4\">4</a>, <a href=\"#-0x45e36ca29f7f6e54_step5\">5</a></td><td><span style=\"font-size:20px;\"><a class=\"ProveItLink\" href=\"../__pv_it/f1249517abb13a455fd388b73ae2537ceffced240/expr.ipynb\"><img src=\"data:image/png;base64,iVBORw0KGgoAAAANSUhEUgAAAFMAAAAVBAMAAADInc9CAAAAMFBMVEX///+IiIi6urrc3NxERETM\n",
       "zMwQEBCqqqpUVFQiIiJ2dnYyMjLu7u5mZmaYmJgAAABN0h6tAAAAAXRSTlMAQObYZgAAAXBJREFU\n",
       "KM9jYGDgu8dACLBePACieHYxEAZMqSCS7wNU5wYsSvj6f9xtcQIyboN4XBMgotwfsBnH5sDAcD+A\n",
       "gWElstLXf7ApjX/AwKB/AVUpT+1nqCw3EEfAlMobMDC8F0BVysf4CSorB8QsAVCOG9CQzAOoSnXY\n",
       "/0G95wCyYw9U6Q8GhsgeIL0MxOEA+5xHgfUjRDIscyYQZB+A6PvxTmQ6iPEeRJSB7WJiYP4LlmTs\n",
       "gahxh/CAHjjWAPIA0Gshk8FiEXdvfAGbPgNqMyfIHQwsCUDl30GsTqDf1MCmKjAwZIOVWCyABEgX\n",
       "mOIHmsgIchk3yGgOkHZ2IJ4GMe7lbhDYGQAPVo5PMLeCQ8AciPdD4/ICyNDNiGCNd4CFAEgpM0i5\n",
       "vwFEugmIeQsg7G1AD6eAAgMWrjz+vw8wlPyfC5E+DcQmEGb3/94bLmBdKGkADpiB+Ax6WoAoTSAi\n",
       "vUKU8n0gRik4vTIQlQuSwBQ7kXkLAEmwYW7uLXXfAAAAAElFTkSuQmCC\n",
       "\" style=\"display:inline;vertical-align:middle;\" /></a> <a class=\"ProveItLink\" href=\"../__pv_it/8f4b2fb0877918054962f7e83a0f17b0ec4ab3a00/proof.ipynb\" style=\"text-decoration: none\">&#x22A2;&nbsp;</a><a class=\"ProveItLink\" href=\"../__pv_it/8b9c784705e35002d4429ef743e77d1f418289900/expr.ipynb\"><img src=\"data:image/png;base64,iVBORw0KGgoAAAANSUhEUgAAAEAAAAAPBAMAAACmSdRUAAAAMFBMVEX///92dnYyMjKqqqoiIiLu\n",
       "7u7c3NyIiIjMzMwQEBC6urpERERmZmZUVFSYmJgAAADEjrHzAAAAAXRSTlMAQObYZgAAAOpJREFU\n",
       "GNNjYGB4+//O2d0LGLABDgUwNZuBgecHVgVMH8DK/jEwcP3BquDRVxDJ/o2Bge87XJA7Ac5ktfkG\n",
       "FpnAwBDpirB3A5zJx/4LRPFfYODwDUCY+wbOWsr8D0T133u+xQAscMQFBPwPwGxYwAG2uT6BgXUu\n",
       "stOMIMoZuBjYwG7fCVJkgKSAVRMSKr1nzv4G0X9BCgqQFOSKQWigsknQYGC4D9ZzSAkM1CDyzEDs\n",
       "CQ0Gjt9IBiyC0slArA8KTmAwrNyK5AJVCM3mACT2JzDw6v89c3szkgG8DRB1+z8FMFj/98EMfzZU\n",
       "LgBdXD0b6P4qzAAAAABJRU5ErkJggg==\n",
       "\" style=\"display:inline;vertical-align:middle;\" /></a></span></td></tr>\n",
       "<tr><td>&nbsp;</td><td colspan=4 style=\"text-align:left\"><span style=\"font-size:20px;\"><a class=\"ProveItLink\" href=\"../../../../__pv_it/d3792d0d8642fdf1cd2a3a9b32c673ee13653de00/expr.ipynb\"><img src=\"data:image/png;base64,iVBORw0KGgoAAAANSUhEUgAAAA8AAAAOBAMAAAACpFvcAAAALVBMVEX///8iIiIQEBBERERUVFS6\n",
       "urqIiIjc3NxmZmaqqqru7u6YmJgyMjLMzMwAAACK9jtgAAAAAXRSTlMAQObYZgAAAFtJREFUCNdj\n",
       "YACBOwxQcA5Kc59bAGGs7CuAMDbkBYBp1gXzNoAZSxnuJYAZAQx1DSCa16PDzwCshIGB6QCIMYGB\n",
       "gVEBSLMDGTwPgIxCIGZ+zsCw+N0pBk67hw0AfpEVEQi8t+wAAAAASUVORK5CYII=\n",
       "\" style=\"display:inline;vertical-align:middle;\" /></a> : <a class=\"ProveItLink\" href=\"../../../../__pv_it/d3792d0d8642fdf1cd2a3a9b32c673ee13653de00/expr.ipynb\"><img src=\"data:image/png;base64,iVBORw0KGgoAAAANSUhEUgAAAA8AAAAOBAMAAAACpFvcAAAALVBMVEX///8iIiIQEBBERERUVFS6\n",
       "urqIiIjc3NxmZmaqqqru7u6YmJgyMjLMzMwAAACK9jtgAAAAAXRSTlMAQObYZgAAAFtJREFUCNdj\n",
       "YACBOwxQcA5Kc59bAGGs7CuAMDbkBYBp1gXzNoAZSxnuJYAZAQx1DSCa16PDzwCshIGB6QCIMYGB\n",
       "gVEBSLMDGTwPgIxCIGZ+zsCw+N0pBk67hw0AfpEVEQi8t+wAAAAASUVORK5CYII=\n",
       "\" style=\"display:inline;vertical-align:middle;\" /></a>, <a class=\"ProveItLink\" href=\"../../../../__pv_it/4d98b438710c5ada9ffa4646bb123a7d0e69ec000/expr.ipynb\"><img src=\"data:image/png;base64,iVBORw0KGgoAAAANSUhEUgAAABAAAAAOBAMAAADUAYG5AAAALVBMVEX///8yMjKqqqoiIiLu7u7c\n",
       "3NyIiIjMzMwQEBC6urpERERmZmZUVFSYmJgAAACsPVCVAAAAAXRSTlMAQObYZgAAAGxJREFUCNdj\n",
       "YGC48+70nlUTGICgi4GB+zmQZn/LwMD5Gshge8rAwPsMyOBqYGDwMAEy+A4wsNs4ABl1Z68tVgBp\n",
       "ygtgYOkBMVaAOCChNyBGAsQYhnMTIMawvwJyGIHGzFjCwMAj92b3qUUMDAAXABxvZ4rl5AAAAABJ\n",
       "RU5ErkJggg==\n",
       "\" style=\"display:inline;vertical-align:middle;\" /></a> : <a class=\"ProveItLink\" href=\"../../../../__pv_it/4d98b438710c5ada9ffa4646bb123a7d0e69ec000/expr.ipynb\"><img src=\"data:image/png;base64,iVBORw0KGgoAAAANSUhEUgAAABAAAAAOBAMAAADUAYG5AAAALVBMVEX///8yMjKqqqoiIiLu7u7c\n",
       "3NyIiIjMzMwQEBC6urpERERmZmZUVFSYmJgAAACsPVCVAAAAAXRSTlMAQObYZgAAAGxJREFUCNdj\n",
       "YGC48+70nlUTGICgi4GB+zmQZn/LwMD5Gshge8rAwPsMyOBqYGDwMAEy+A4wsNs4ABl1Z68tVgBp\n",
       "ygtgYOkBMVaAOCChNyBGAsQYhnMTIMawvwJyGIHGzFjCwMAj92b3qUUMDAAXABxvZ4rl5AAAAABJ\n",
       "RU5ErkJggg==\n",
       "\" style=\"display:inline;vertical-align:middle;\" /></a></span></td></tr><tr><td><a name=\"-0x45e36ca29f7f6e54_step3\">3</a></td><td>assumption</td><td></td><td><span style=\"font-size:20px;\"><a class=\"ProveItLink\" href=\"../__pv_it/2d95f09b10b3b8c8310cb902bd7faba5d3956d540/expr.ipynb\"><img src=\"data:image/png;base64,iVBORw0KGgoAAAANSUhEUgAAACMAAAAVBAMAAAA+1EraAAAAMFBMVEX///+IiIi6urrc3NxERETM\n",
       "zMwQEBCqqqpUVFQiIiJ2dnYyMjLu7u5mZmaYmJgAAABN0h6tAAAAAXRSTlMAQObYZgAAAM5JREFU\n",
       "GNNjYGDgu8cAA6wXD4Aonl0MCMCUCiL5PoCI/h93W5yAjNsgIa4JIJLNgYHhfgADw0qEUPwDBgb9\n",
       "CyhC8gYMDO8FUITcgPZkHkAR+sHAENkDpJeBOBwbQA768U5kOoj3HkSUAe1hYPzMwHCsAcjgBloR\n",
       "MhkkzpIAFP4OYnUC7VADqeIHqmD8CFIFUsrhAHUWxyeYWWAbQc6Kd4DZCBbaBvRxCigU4O7q/t97\n",
       "w6WAgQHFqTAAEUrAEAKHFxyAw4sBJVSTwBQ7WtgDAJxpOkc6jJwBAAAAAElFTkSuQmCC\n",
       "\" style=\"display:inline;vertical-align:middle;\" /></a> <a class=\"ProveItLink\" href=\"../__pv_it/60ce0c94d834994ea7120d47d093aa41c4ae77d80/proof.ipynb\" style=\"text-decoration: none\">&#x22A2;&nbsp;</a><a class=\"ProveItLink\" href=\"../../../../__pv_it/4d98b438710c5ada9ffa4646bb123a7d0e69ec000/expr.ipynb\"><img src=\"data:image/png;base64,iVBORw0KGgoAAAANSUhEUgAAABAAAAAOBAMAAADUAYG5AAAALVBMVEX///8yMjKqqqoiIiLu7u7c\n",
       "3NyIiIjMzMwQEBC6urpERERmZmZUVFSYmJgAAACsPVCVAAAAAXRSTlMAQObYZgAAAGxJREFUCNdj\n",
       "YGC48+70nlUTGICgi4GB+zmQZn/LwMD5Gshge8rAwPsMyOBqYGDwMAEy+A4wsNs4ABl1Z68tVgBp\n",
       "ygtgYOkBMVaAOCChNyBGAsQYhnMTIMawvwJyGIHGzFjCwMAj92b3qUUMDAAXABxvZ4rl5AAAAABJ\n",
       "RU5ErkJggg==\n",
       "\" style=\"display:inline;vertical-align:middle;\" /></a></span></td></tr>\n",
       "<tr><td><a name=\"-0x45e36ca29f7f6e54_step4\">4</a></td><td>theorem</td><td></td><td><span style=\"font-size:20px;\"> <a class=\"ProveItLink\" href=\"iffImpliesLeft.ipynb\" style=\"text-decoration: none\">&#x22A2;&nbsp;</a><a class=\"ProveItLink\" href=\"../__pv_it/81d0be00c6bed87e04a47496d253ccb34db87b310/expr.ipynb\"><img src=\"data:image/png;base64,iVBORw0KGgoAAAANSUhEUgAAAMIAAAAWBAMAAABgYF47AAAAMFBMVEX///8QEBCIiIhmZma6urrM\n",
       "zMxUVFQiIiJERETc3Nzu7u6qqqp2dnaYmJgyMjIAAAAcRTyBAAAAAXRSTlMAQObYZgAAAuZJREFU\n",
       "SMetVU9IFFEY/zk7u86Mu+qtoA5Ll7yU1tAaIbrQIS+ldKhbK1hhHVLqEFGhUcQYwdqlJIidKCg2\n",
       "2BY6RJfc8FBZxFTHMFeqQx5SNP9G2Pe92cnnuiKNfTBv5r3vzfv93u/7vveAddidNWdU9AF5/hj2\n",
       "BWD0AJHOGbPjSmn/EXpOAG/4e8wXQiURRBnBNLWW9I/TkwH66aX3+EL4yE3CAVrqSrkj4zYQjqKS\n",
       "X1lfCOe4qaWNjES9Ia1vyf2oiTpGNSJD6fQtXwB6F7eXaJUNtjcWlNRwauPUfgXmLOuCLwRFaDMD\n",
       "HD5ZpJww1R4gATEIHAN6xZDbNk8NdoitqqV2riYbYr3eOC8QnBmuOS+69WfZuv+G5D4SLN5nYC8M\n",
       "kbGRn258qhGuFgt4U0fiEvH3wIvCZzlHT5kH7rZJE557MY0jxWhPaSIUJoN7v4Uj0IaKBRnBaHKk\n",
       "BWLAQEH1MkbWiI3ySy6SUZdQsN3s5KAkKJGccjE0dMZlFkUgLyOEHxAVow56jnungUZICFXEX5mU\n",
       "EG6+LuhJE/Iugp4/JDCjlvA8bsV2W0Y4qBGVEMViFzOchjImq8TlEBL6Nv4Q9r3gJWc5q72PI3yU\n",
       "R0KoF56WbTWurB5CW4CycodlWaOEok5+uAo50lwOCSlFD3ipTAiVE26k8UTk9SfUCtc7YKuMEMkq\n",
       "E2gW2u60Ec5D6fLk40COEupGeykK3ga5xDTKAjSwlJxUxpe3STHxOpDKSgiZhlcLOO7yi0PLQffi\n",
       "qhLUqcX2mCWdCKHCCfVwcQwVyVni8I1Z8soBGynhpf9b+iSEPdCnoV82TXM3hboqC3V+2alRVOcr\n",
       "zl9vx9hPfzv6NegL0DdLKqkkNqVx5nY6vYW6KRs3civrd3ULe0eWNgc9eTG4CS+nzI64hJDsQf+s\n",
       "AzUnboNwtxlbugzkYl/NMsVXkvStLfO0wrBL3UBrWW9R/9mqCD5v0UjxNp1/Q1inBf7TOn8ADxy7\n",
       "3ecq6SEAAAAASUVORK5CYII=\n",
       "\" style=\"display:inline;vertical-align:middle;\" /></a></span></td></tr>\n",
       "<tr><td>&nbsp;</td><td colspan=4 style-\"text-align:left\"><a class=\"ProveItLink\" href=\"iffImpliesLeft.ipynb\">proveit.logic.boolean.implication.iffImpliesLeft</a></td></tr><tr><td><a name=\"-0x45e36ca29f7f6e54_step5\">5</a></td><td>assumption</td><td></td><td><span style=\"font-size:20px;\"><a class=\"ProveItLink\" href=\"../__pv_it/f1249517abb13a455fd388b73ae2537ceffced240/expr.ipynb\"><img src=\"data:image/png;base64,iVBORw0KGgoAAAANSUhEUgAAAFMAAAAVBAMAAADInc9CAAAAMFBMVEX///+IiIi6urrc3NxERETM\n",
       "zMwQEBCqqqpUVFQiIiJ2dnYyMjLu7u5mZmaYmJgAAABN0h6tAAAAAXRSTlMAQObYZgAAAXBJREFU\n",
       "KM9jYGDgu8dACLBePACieHYxEAZMqSCS7wNU5wYsSvj6f9xtcQIyboN4XBMgotwfsBnH5sDAcD+A\n",
       "gWElstLXf7ApjX/AwKB/AVUpT+1nqCw3EEfAlMobMDC8F0BVysf4CSorB8QsAVCOG9CQzAOoSnXY\n",
       "/0G95wCyYw9U6Q8GhsgeIL0MxOEA+5xHgfUjRDIscyYQZB+A6PvxTmQ6iPEeRJSB7WJiYP4LlmTs\n",
       "gahxh/CAHjjWAPIA0Gshk8FiEXdvfAGbPgNqMyfIHQwsCUDl30GsTqDf1MCmKjAwZIOVWCyABEgX\n",
       "mOIHmsgIchk3yGgOkHZ2IJ4GMe7lbhDYGQAPVo5PMLeCQ8AciPdD4/ICyNDNiGCNd4CFAEgpM0i5\n",
       "vwFEugmIeQsg7G1AD6eAAgMWrjz+vw8wlPyfC5E+DcQmEGb3/94bLmBdKGkADpiB+Ax6WoAoTSAi\n",
       "vUKU8n0gRik4vTIQlQuSwBQ7kXkLAEmwYW7uLXXfAAAAAElFTkSuQmCC\n",
       "\" style=\"display:inline;vertical-align:middle;\" /></a> <a class=\"ProveItLink\" href=\"../__pv_it/56c5d5aa544022f48f8296d2e065ba46b76339290/proof.ipynb\" style=\"text-decoration: none\">&#x22A2;&nbsp;</a><a class=\"ProveItLink\" href=\"../__pv_it/639412fc83dccc0c825a7f4479a7068ed18b18c70/expr.ipynb\"><img src=\"data:image/png;base64,iVBORw0KGgoAAAANSUhEUgAAAEAAAAAPBAMAAACmSdRUAAAAMFBMVEX///92dnYiIiIQEBBERERU\n",
       "VFS6urqIiIjc3NxmZmaqqqru7u6YmJgyMjLMzMwAAADiRdoGAAAAAXRSTlMAQObYZgAAAQpJREFU\n",
       "GNNjYACBtwxYwNH/kVNdEiDs+9gUMJgwMHD+A7N47m/AIs/3h4GB7SeYuWt+A1TwAlA8AMpm/wHU\n",
       "+h3MPFAPtYr9AJDwgypgMWBg2KwNYrFtWH8AIvYEROyF2scfwMCnCmZvY3hfALHVWAkIlG9DFLyP\n",
       "Oe60AMxKYOifAGaUQvQ+gQjXNzBwm4L1Rc6MdwAxNsGcpwImnUGKQGrZGBiYL4BEOAIh8lsFwNRX\n",
       "kAKQ3UBFTAaQ8NC9CwJ68GBgiAd6jwOogPcDRO9JsC8a4MHA9wXIaAJ5+QdEASsoPGZB2LxAU5O9\n",
       "GRi2/L/NwOX/CeINbqBbOBwgau9/nRnihRH+QNO5UeMFAE9FRwBt4bk1AAAAAElFTkSuQmCC\n",
       "\" style=\"display:inline;vertical-align:middle;\" /></a></span></td></tr>\n",
       "</table>"
      ],
      "text/plain": [
       "\tstep type\trequirements\tstatement\n",
       "0\tgeneralizaton\t1\t|- forall_{A, B | A <=> B, B} A\n",
       "1\tmodus ponens\t2, 3\t{A <=> B, B} |- A\n",
       "2\tinstantiation\t4, 5\t{A <=> B} |- B => A\n",
       "\tA : A, B : B\n",
       "3\tassumption\t\t{B} |- B\n",
       "4\ttheorem\t\t|- forall_{A, B | A <=> B} (B => A)\n",
       "\tproveit.logic.boolean.implication.iffImpliesLeft\n",
       "5\tassumption\t\t{A <=> B} |- A <=> B"
      ]
     },
     "execution_count": 3,
     "metadata": {},
     "output_type": "execute_result"
    }
   ],
   "source": [
    "%qed"
   ]
  },
  {
   "cell_type": "code",
   "execution_count": null,
   "metadata": {},
   "outputs": [],
   "source": []
  }
 ],
 "metadata": {
  "kernelspec": {
   "display_name": "Python 3",
   "language": "python",
   "name": "python3"
  }
 },
 "nbformat": 4,
 "nbformat_minor": 0
}
