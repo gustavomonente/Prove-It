{
 "cells": [
  {
   "cell_type": "markdown",
   "metadata": {},
   "source": [
    "Proof of <a class=\"ProveItLink\" href=\"../../../../_context_.ipynb\">proveit</a>.<a class=\"ProveItLink\" href=\"../../../_context_.ipynb\">logic</a>.<a class=\"ProveItLink\" href=\"../../_context_.ipynb\">boolean</a>.<a class=\"ProveItLink\" href=\"../_context_.ipynb\">implication</a>.<a class=\"ProveItLink\" href=\"../_theorems_.ipynb#contraposeNegAntecedent\">contraposeNegAntecedent</a> theorem\n",
    "========"
   ]
  },
  {
   "cell_type": "code",
   "execution_count": 1,
   "metadata": {},
   "outputs": [],
   "source": [
    "import proveit\n",
    "from proveit import defaults\n",
    "from proveit._common_ import B\n",
    "from proveit.logic import Not\n",
    "context = proveit.Context('..') # the theorem's context is in the parent directory"
   ]
  },
  {
   "cell_type": "code",
   "execution_count": 2,
   "metadata": {},
   "outputs": [
    {
     "name": "stdout",
     "output_type": "stream",
     "text": [
      "Beginning proof of contraposeNegAntecedent\n",
      "Recorded 'presuming' information\n"
     ]
    },
    {
     "name": "stdout",
     "output_type": "stream",
     "text": [
      "Presuming previous theorems (applied transitively).\n"
     ]
    },
    {
     "data": {
      "text/html": [
       "<strong id=\"contraposeNegAntecedent\">contraposeNegAntecedent:</strong> <a class=\"ProveItLink\" href=\"../__pv_it/098262b65b0eaa01ab81aae896f521a79e6f5c690/expr.ipynb\"><img src=\"data:image/png;base64,iVBORw0KGgoAAAANSUhEUgAAAR4AAAAWBAMAAADkw+48AAAAMFBMVEX///8QEBCIiIhmZma6urrM\n",
       "zMxUVFQiIiJERETc3Nzu7u6qqqp2dnaYmJgyMjIAAAAcRTyBAAAAAXRSTlMAQObYZgAAA4tJREFU\n",
       "SMe9VkFIVEEY/nu76+7bfU+9FRTxqENeyoUFpahcEMqLuV2qUy5YYB5S8FCR0RYd1orcSyaBuFFY\n",
       "KNlCRHSoFiRKk3jQMaw165CHjAxTI2xm/pl5s+6+BQ/bD/++t/N9M++b/5/5ZwDKZ4Pc8yyUcu9A\n",
       "sRx9mS6HnGACnZvZuRhpvwJwyoV+HBj2lr7PlUNPZQpd2AairSEGYy70eeIEGyAPPVEOPe+5C2u1\n",
       "AVrCYFhF2eZ8GihWSR+Zcug5x11YLYnVJwuC1bIloERvtIH8IZg5OTJyqxxy9C50aZfI9zaS2X+R\n",
       "LT4lL3ZtFBi2lEz2lBpX3Q++dejRwujSFgGOdpDneH5K0bzplzZiJwF6WRP+Ni2MtzMJXiQaTu9e\n",
       "CEWV8SVT9s2zgI0u57I4XXOevnykP/VnqF2Ueu9Bq4VYIwTZnjd/4bqqBoNlOIBEZ3tSwm51BQqm\n",
       "7Avm59lusRb9GXT2ZZIBbRngTpwAT5UxXgh2FIbCiPlBY7O4+5cBnjiEVhw9vqzsSwnDyliSyfuO\n",
       "ju8DKzv4RGzvKDqzfjIe0a79oftMrVEzyPC1RToTiBm2nzVNduO0LPDkHD0VMdmXErCehOw8JkLm\n",
       "tdtpsCzjoYueKhIb7ecaPf0TfPkQbg4xPXeEKbSSDHkUg11pR4/fyT8lYCgxiZKJUCN9s6zmiTX5\n",
       "Enpo+amgeT1IG/Z/Z/aN45RbzbHeEywQUM+Qlp01cXD0OKWAEUJxI0mMRVkyEWKhsiJbY8XWcz+W\n",
       "n9aEWM9oh0RtIHoqf3DsMSsSH6CWQe8Adih6mgDeEAE5TvDyirE9qjAZFAxjfDw3+TeMMLooFDOk\n",
       "9yYaz73O6hHnFJ11YJljVXSjBWen+ljwrwMMZRw9B7BDnBN8fMEMdyhMBvnOJpOX6frRREXpQud2\n",
       "erWtLsnoX52Q81g+WJ2DUN/vMGIm1eFJwxBDyQ5oSTl6jgk9SPDGtQixuj0qE6E4xsfwuJ0XIiiO\n",
       "Rt0dayZxsvWroK+AvkXJ132hhxHAzMIIsW10MGQOpDn0iunJGlNu56nIo+Ve0yUWWAK974JvM7xe\n",
       "iLRHFT1+3EEpJICHYTqNBWceznAoQJJh9szesNXTMlB4+xorccasxUJqvcdTKP/oryyMsyTUkPVT\n",
       "4j4G7keLK/asQA/kD/gc1nH/LHpfNUvcVwswu1BPc96Uw4VjwH8yT5H5a+lyf/UfX0oMLnQUkvYA\n",
       "AAAASUVORK5CYII=\n",
       "\" style=\"display:inline;vertical-align:middle;\" /></a><br>(see <a class=\"ProveItLink\" href=\"../__pv_it/098262b65b0eaa01ab81aae896f521a79e6f5c690/dependencies.ipynb\">dependencies</a>)<br>"
      ],
      "text/plain": [
       "contraposeNegAntecedent: forall_{A, B | [not](A) => B, A in BOOLEANS} ([not](B) => A)"
      ]
     },
     "execution_count": 2,
     "metadata": {},
     "output_type": "execute_result"
    }
   ],
   "source": [
    "%proving contraposeNegAntecedent presuming []"
   ]
  },
  {
   "cell_type": "code",
   "execution_count": 3,
   "metadata": {},
   "outputs": [
    {
     "data": {
      "text/html": [
       "<strong id=\"defaults.assumptions\">defaults.assumptions:</strong> <a class=\"ProveItLink\" href=\"../__pv_it/ca8ba2866df3e76f6c1eb7144459d620294a3fa30/expr.ipynb\"><img src=\"data:image/png;base64,iVBORw0KGgoAAAANSUhEUgAAANMAAAAUBAMAAADlxBXmAAAAMFBMVEX////MzMxUVFR2dna6uroQ\n",
       "EBCqqqqIiIgiIiJmZmYyMjJERETu7u6YmJjc3NwAAACgK8IjAAAAAXRSTlMAQObYZgAAApBJREFU\n",
       "SMetVT1oU1EU/l7yTJOXH4OjDonoUor2bSW4ZBEyVCjiUHTJ6CCatVNDwVKkQ9FBOvkEcShisqiF\n",
       "2prBiiaDQQdBUDK6Wbv4UzSe+979fbltl35w8/LeOd/9zj333HOBQh/hMJAa4Ghxk/30+FA4SeO8\n",
       "zf/DcPzuRtV01DB2e+PP7Fk7J8Fif8qHQotG1xrbNSDzw3TU4TmN3ru+lZMLgPxKNBTyrQ6QbFiU\n",
       "nL+A+9t01JF1+2PFtp0zBaQH0VB484BeczPqw5bM0D+a/6fpGGquL93hUql6TEpwtoFviIZCf55t\n",
       "xyP14ZSMmvS3l2OOFPiLjlxVcjomJTheFXP0Oqfb3M4tlu6KllGR3+NlOAudmCPta0clsHaiaEoJ\n",
       "TnIFm/S6qdteo8T26TP7n1kKIbandO7Tej3uqFVr1p0dXontr+DkAyzSY1FM6tNLFd/ZKq7rp+xx\n",
       "9JwfIHdZfuWOQFsri+QXHypIX3FSTbAoRCSFMiV+fHWScUt6aN3I4xmTE8sSjnCurhG4FNqXFI3N\n",
       "JzjOzoiUCxwLYlKFM1Gp7TKaOAXCEQV9VWgnTCnBISmeQGmiANKs0GthGtYiDOQRwaToFsIRmNGl\n",
       "yp4hJTlu0ygLMhVoBm9HlAWPP1BHxNkTvsIRuG+s6qMhJTlUFhW9sIvhEcuSGfe0neLF7FH4F18C\n",
       "7wN+FkNHWlxdNiY/WSlHdj6f4CDjh4mqyVl7wydIvfpFlfVQSZ2OHonW7urEczb1su5InWVi2mi3\n",
       "aXXKJQde0dKYQuSa6v+I9Ubs3b0QNab97Axvbe02hLXdCviHXE42+xRvplsjlu4BM+UaByvZ7OwS\n",
       "sVyNsIprPfGQRdnsWbYL1gs/f9QX/lfgP/rG2VRCgsQoAAAAAElFTkSuQmCC\n",
       "\" style=\"display:inline;vertical-align:middle;\" /></a><br>"
      ],
      "text/plain": [
       "defaults.assumptions: ([not](A) => B, A in BOOLEANS, [not](B))"
      ]
     },
     "execution_count": 3,
     "metadata": {},
     "output_type": "execute_result"
    }
   ],
   "source": [
    "defaults.assumptions = list(contraposeNegAntecedent.allConditions()) + [Not(B)]"
   ]
  },
  {
   "cell_type": "code",
   "execution_count": 4,
   "metadata": {},
   "outputs": [
    {
     "data": {
      "text/html": [
       "<strong id=\"notA_implies_B\">notA_implies_B:</strong> <a class=\"ProveItLink\" href=\"../__pv_it/14aa48abe76544c6430ad631619fcc12b0ef18770/expr.ipynb\"><img src=\"data:image/png;base64,iVBORw0KGgoAAAANSUhEUgAAAFwAAAAUBAMAAADyykdqAAAAMFBMVEX////MzMxUVFR2dna6uroQ\n",
       "EBCqqqqIiIgiIiJmZmYyMjJERETu7u6YmJjc3NwAAACgK8IjAAAAAXRSTlMAQObYZgAAAWBJREFU\n",
       "KM9jYOC7wIAK2B4w4AGnUXhSQKyHTdml/5qTdjswMKxDEV0PxKewGhvNwMD5kYF3ArIY7/oDDAzM\n",
       "BVhUM/5lYGD5ycCB4tJj84FcngCEwD4Yg/0f0LDvDC9QzLhQD3QewxKEgDSMwQ0042gPQyWyapYD\n",
       "+aBwskRyHcyt/AoMjE0HGPYiKz/CIA9y9y0Qm7MDDH5CpeR1r+9IYGBog0kYAMUcGN6DTMtAjoVl\n",
       "ELr+AQNPEANDCFSYTwHoe82Z+htAJiHbeAqiYitISwKKchYGBtYFaMr5lCFB9wmkvADkGLhyoNs4\n",
       "QIHoAXb7Kgh4AA92Bn0HuFeByvmAyrk+wLwKDasFiGBn/I0UaALgKOAGCjNMRnL5AQjNBbTVdQ/U\n",
       "Ykha+7+GgW3/D2DQLEQoV4RQTOs/zdTeBmRwYCZXngYEG10WNYmBAdYkhpGIEO4lPntgNwA5HtAz\n",
       "Hy+ezAcAn6teNb06mV0AAAAASUVORK5CYII=\n",
       "\" style=\"display:inline;vertical-align:middle;\" /></a><br>"
      ],
      "text/plain": [
       "notA_implies_B: [not](A) => B"
      ]
     },
     "execution_count": 4,
     "metadata": {},
     "output_type": "execute_result"
    }
   ],
   "source": [
    "notA_implies_B = defaults.assumptions[0]"
   ]
  },
  {
   "cell_type": "code",
   "execution_count": 5,
   "metadata": {},
   "outputs": [
    {
     "data": {
      "text/html": [
       "<span style=\"font-size:20px;\"><a class=\"ProveItLink\" href=\"../__pv_it/2a4433c3fd814df4a558b8010ff943da04a63eed0/expr.ipynb\"><img src=\"data:image/png;base64,iVBORw0KGgoAAAANSUhEUgAAALEAAAAVBAMAAAD7ihIOAAAAMFBMVEX///+IiIi6urrc3NxERETM\n",
       "zMwQEBCqqqpUVFQiIiJ2dnYyMjLu7u5mZmaYmJgAAABN0h6tAAAAAXRSTlMAQObYZgAAAnVJREFU\n",
       "OMtjYGDgu8dAZcB68QCI4tlFjGI7dIFifKqZUkEk3weoRRtQZSVT/LfNUIByeBxQ3ARUymGAxUS+\n",
       "/h93W5yAjNsgHtcEiCj3BzRlGwJ5fGABxY1iDkgpzwZsjmUDuuB+AAPDSmSTX/9BU+WgxyDKAmW/\n",
       "RZEBK12IzeT4BwwM+hdQTeap/QyVfTJz5gaoyeUwkycja4coPYYQYIH7SB7Iei+AajIf4yeIZIgM\n",
       "ws2LjkCYzBNQQhOslFsBEe7wWHAD2pt5ANVkHfZ/EAftQYQG09RWCJPxArLJEKVcSGLwwPrBwBDZ\n",
       "A6SXgTgcYK/zKLB+BMsh4txBbf43qLtYHiAHBkQpH1jfzZkgMB9qC+uPdyLTQYz3IKIsAJwCGZj/\n",
       "QgxBjsF1ryBMzgKoGbMQStmRQ6i6AOI3YAQcawAFFdCqEEjkRNy98QXMCNsNBLAYZGGCOJYNFqYW\n",
       "CKWsyKmUZxtYBUsC0PTvIFYnMBrVwG4GSmSD1Zggu5mFoQHTZKhSFJMtFoMpfqByRlBQcYP0cYAi\n",
       "lh2Ip0EMQTaZg2EDPDRgJsOUMoFD4/ZuMNiMSM4cn2DhDE4b5kC8HyzJK4DsZr4FqDFogVDKh5QJ\n",
       "tZGSc7wDLG2ATAanV39IqpgOz91RDKtuMPD8Rk5hrAilvAsQoQxLqduAXkkBlXOw9Mzj//sAQ8n/\n",
       "uWDZE04HUEqkmQdgPgcbAlfKHQA3mQPK7P7fe8MFHHAo5QYcaHnORC5t2A+g524IOIlgMmNIQkxO\n",
       "wF8yc2GWSGCwEJ+mlcjlMy5wELXMgQfLBnyawOUzA4E65QFmyY/dLuQ6JQkSkPfIqa0eE6oHAcQt\n",
       "tjiWiwj/AAAAAElFTkSuQmCC\n",
       "\" style=\"display:inline;vertical-align:middle;\" /></a> <a class=\"ProveItLink\" href=\"../__pv_it/41b98fed1d1be31ed495e84c195bf5f6075eed360/proof.ipynb\" style=\"text-decoration: none\">&#x22A2;&nbsp;</a><a class=\"ProveItLink\" href=\"../__pv_it/47ef05f36f6047f4df2d9c2060d6268a18c0542e0/expr.ipynb\"><img src=\"data:image/png;base64,iVBORw0KGgoAAAANSUhEUgAAAFwAAAAUBAMAAADyykdqAAAAMFBMVEX////MzMxUVFR2dna6uroQ\n",
       "EBCqqqqIiIgiIiJmZmYyMjJERETu7u6YmJjc3NwAAACgK8IjAAAAAXRSTlMAQObYZgAAAWpJREFU\n",
       "KM9jYOC7wIAG8hjwgNMI5qX/mpN2OzAwPcCuknEBkFiHJBDNwMD5kYFnAXblXB8YGHgnIGn/y8DA\n",
       "8pOBwRy78lt/GBg4kGxm/wfU/p2B4ShCiBshzZMJlH6BpJ07AKi0B2irA8LCDXAmL/sXBoZKJOX8\n",
       "CgyMTQcYGJiRHHgTzvJhA7p1L5Jyed3rOxJA5oD9OqMDBPphWnkcGIHubAMGBljcgIGh/gEDTxBQ\n",
       "hq0ByYysBAjNwsAHDIUQqCifAgPDViBdD5Rl/ICknGcpxCdCMyf9RlX+CaS8AE35IzsIDdQUBXYM\n",
       "TDko2Bn0gcIsYMfMWgUG0GhkA+JWhFeBykHBzvgb7lUI8ILSz4B4PQODJUxcgIELGOyue4BMTgOE\n",
       "y9dATQNZuP8Bgwdchmn9p5na28CJQwAhCGHy7P91gCH7fydKIoCBEwgmH5oUchKDAXM86X0fhgiu\n",
       "BIyePTBTISbAzHz3cCsGABV5XOua2qXAAAAAAElFTkSuQmCC\n",
       "\" style=\"display:inline;vertical-align:middle;\" /></a></span>"
      ],
      "text/plain": [
       "{A in BOOLEANS, [not](A) => B} |- [not](B) => A"
      ]
     },
     "execution_count": 5,
     "metadata": {},
     "output_type": "execute_result"
    }
   ],
   "source": [
    "notA_implies_B.denyAntecedent().asImplication(Not(B))"
   ]
  },
  {
   "cell_type": "code",
   "execution_count": 6,
   "metadata": {},
   "outputs": [
    {
     "data": {
      "text/html": [
       "<table><tr><th>&nbsp;</th><th>step type</th><th>requirements</th><th>statement</th></tr>\n",
       "<tr><td><a name=\"0x2ec4415957a258c1_step0\">0</a></td><td>generalizaton</td><td><a href=\"#0x2ec4415957a258c1_step1\">1</a></td><td><span style=\"font-size:20px;\"> <a class=\"ProveItLink\" href=\"../__pv_it/3a3bcb46117a1ffd2b23f9f1cb54f17e8fa320ad0/proof.ipynb\" style=\"text-decoration: none\">&#x22A2;&nbsp;</a><a class=\"ProveItLink\" href=\"../__pv_it/098262b65b0eaa01ab81aae896f521a79e6f5c690/expr.ipynb\"><img src=\"data:image/png;base64,iVBORw0KGgoAAAANSUhEUgAAAR4AAAAWBAMAAADkw+48AAAAMFBMVEX///8QEBCIiIhmZma6urrM\n",
       "zMxUVFQiIiJERETc3Nzu7u6qqqp2dnaYmJgyMjIAAAAcRTyBAAAAAXRSTlMAQObYZgAAA4tJREFU\n",
       "SMe9VkFIVEEY/nu76+7bfU+9FRTxqENeyoUFpahcEMqLuV2qUy5YYB5S8FCR0RYd1orcSyaBuFFY\n",
       "KNlCRHSoFiRKk3jQMaw165CHjAxTI2xm/pl5s+6+BQ/bD/++t/N9M++b/5/5ZwDKZ4Pc8yyUcu9A\n",
       "sRx9mS6HnGACnZvZuRhpvwJwyoV+HBj2lr7PlUNPZQpd2AairSEGYy70eeIEGyAPPVEOPe+5C2u1\n",
       "AVrCYFhF2eZ8GihWSR+Zcug5x11YLYnVJwuC1bIloERvtIH8IZg5OTJyqxxy9C50aZfI9zaS2X+R\n",
       "LT4lL3ZtFBi2lEz2lBpX3Q++dejRwujSFgGOdpDneH5K0bzplzZiJwF6WRP+Ni2MtzMJXiQaTu9e\n",
       "CEWV8SVT9s2zgI0u57I4XXOevnykP/VnqF2Ueu9Bq4VYIwTZnjd/4bqqBoNlOIBEZ3tSwm51BQqm\n",
       "7Avm59lusRb9GXT2ZZIBbRngTpwAT5UxXgh2FIbCiPlBY7O4+5cBnjiEVhw9vqzsSwnDyliSyfuO\n",
       "ju8DKzv4RGzvKDqzfjIe0a79oftMrVEzyPC1RToTiBm2nzVNduO0LPDkHD0VMdmXErCehOw8JkLm\n",
       "tdtpsCzjoYueKhIb7ecaPf0TfPkQbg4xPXeEKbSSDHkUg11pR4/fyT8lYCgxiZKJUCN9s6zmiTX5\n",
       "Enpo+amgeT1IG/Z/Z/aN45RbzbHeEywQUM+Qlp01cXD0OKWAEUJxI0mMRVkyEWKhsiJbY8XWcz+W\n",
       "n9aEWM9oh0RtIHoqf3DsMSsSH6CWQe8Adih6mgDeEAE5TvDyirE9qjAZFAxjfDw3+TeMMLooFDOk\n",
       "9yYaz73O6hHnFJ11YJljVXSjBWen+ljwrwMMZRw9B7BDnBN8fMEMdyhMBvnOJpOX6frRREXpQud2\n",
       "erWtLsnoX52Q81g+WJ2DUN/vMGIm1eFJwxBDyQ5oSTl6jgk9SPDGtQixuj0qE6E4xsfwuJ0XIiiO\n",
       "Rt0dayZxsvWroK+AvkXJ132hhxHAzMIIsW10MGQOpDn0iunJGlNu56nIo+Ve0yUWWAK974JvM7xe\n",
       "iLRHFT1+3EEpJICHYTqNBWceznAoQJJh9szesNXTMlB4+xorccasxUJqvcdTKP/oryyMsyTUkPVT\n",
       "4j4G7keLK/asQA/kD/gc1nH/LHpfNUvcVwswu1BPc96Uw4VjwH8yT5H5a+lyf/UfX0oMLnQUkvYA\n",
       "AAAASUVORK5CYII=\n",
       "\" style=\"display:inline;vertical-align:middle;\" /></a></span></td></tr>\n",
       "<tr><td><a name=\"0x2ec4415957a258c1_step1\">1</a></td><td>hypothetical reasoning</td><td><a href=\"#0x2ec4415957a258c1_step2\">2</a></td><td><span style=\"font-size:20px;\"><a class=\"ProveItLink\" href=\"../__pv_it/2a4433c3fd814df4a558b8010ff943da04a63eed0/expr.ipynb\"><img src=\"data:image/png;base64,iVBORw0KGgoAAAANSUhEUgAAALEAAAAVBAMAAAD7ihIOAAAAMFBMVEX///+IiIi6urrc3NxERETM\n",
       "zMwQEBCqqqpUVFQiIiJ2dnYyMjLu7u5mZmaYmJgAAABN0h6tAAAAAXRSTlMAQObYZgAAAnVJREFU\n",
       "OMtjYGDgu8dAZcB68QCI4tlFjGI7dIFifKqZUkEk3weoRRtQZSVT/LfNUIByeBxQ3ARUymGAxUS+\n",
       "/h93W5yAjNsgHtcEiCj3BzRlGwJ5fGABxY1iDkgpzwZsjmUDuuB+AAPDSmSTX/9BU+WgxyDKAmW/\n",
       "RZEBK12IzeT4BwwM+hdQTeap/QyVfTJz5gaoyeUwkycja4coPYYQYIH7SB7Iei+AajIf4yeIZIgM\n",
       "ws2LjkCYzBNQQhOslFsBEe7wWHAD2pt5ANVkHfZ/EAftQYQG09RWCJPxArLJEKVcSGLwwPrBwBDZ\n",
       "A6SXgTgcYK/zKLB+BMsh4txBbf43qLtYHiAHBkQpH1jfzZkgMB9qC+uPdyLTQYz3IKIsAJwCGZj/\n",
       "QgxBjsF1ryBMzgKoGbMQStmRQ6i6AOI3YAQcawAFFdCqEEjkRNy98QXMCNsNBLAYZGGCOJYNFqYW\n",
       "CKWsyKmUZxtYBUsC0PTvIFYnMBrVwG4GSmSD1Zggu5mFoQHTZKhSFJMtFoMpfqByRlBQcYP0cYAi\n",
       "lh2Ip0EMQTaZg2EDPDRgJsOUMoFD4/ZuMNiMSM4cn2DhDE4b5kC8HyzJK4DsZr4FqDFogVDKh5QJ\n",
       "tZGSc7wDLG2ATAanV39IqpgOz91RDKtuMPD8Rk5hrAilvAsQoQxLqduAXkkBlXOw9Mzj//sAQ8n/\n",
       "uWDZE04HUEqkmQdgPgcbAlfKHQA3mQPK7P7fe8MFHHAo5QYcaHnORC5t2A+g524IOIlgMmNIQkxO\n",
       "wF8yc2GWSGCwEJ+mlcjlMy5wELXMgQfLBnyawOUzA4E65QFmyY/dLuQ6JQkSkPfIqa0eE6oHAcQt\n",
       "tjiWiwj/AAAAAElFTkSuQmCC\n",
       "\" style=\"display:inline;vertical-align:middle;\" /></a> <a class=\"ProveItLink\" href=\"../__pv_it/41b98fed1d1be31ed495e84c195bf5f6075eed360/proof.ipynb\" style=\"text-decoration: none\">&#x22A2;&nbsp;</a><a class=\"ProveItLink\" href=\"../__pv_it/47ef05f36f6047f4df2d9c2060d6268a18c0542e0/expr.ipynb\"><img src=\"data:image/png;base64,iVBORw0KGgoAAAANSUhEUgAAAFwAAAAUBAMAAADyykdqAAAAMFBMVEX////MzMxUVFR2dna6uroQ\n",
       "EBCqqqqIiIgiIiJmZmYyMjJERETu7u6YmJjc3NwAAACgK8IjAAAAAXRSTlMAQObYZgAAAWpJREFU\n",
       "KM9jYOC7wIAG8hjwgNMI5qX/mpN2OzAwPcCuknEBkFiHJBDNwMD5kYFnAXblXB8YGHgnIGn/y8DA\n",
       "8pOBwRy78lt/GBg4kGxm/wfU/p2B4ShCiBshzZMJlH6BpJ07AKi0B2irA8LCDXAmL/sXBoZKJOX8\n",
       "CgyMTQcYGJiRHHgTzvJhA7p1L5Jyed3rOxJA5oD9OqMDBPphWnkcGIHubAMGBljcgIGh/gEDTxBQ\n",
       "hq0ByYysBAjNwsAHDIUQqCifAgPDViBdD5Rl/ICknGcpxCdCMyf9RlX+CaS8AE35IzsIDdQUBXYM\n",
       "TDko2Bn0gcIsYMfMWgUG0GhkA+JWhFeBykHBzvgb7lUI8ILSz4B4PQODJUxcgIELGOyue4BMTgOE\n",
       "y9dATQNZuP8Bgwdchmn9p5na28CJQwAhCGHy7P91gCH7fydKIoCBEwgmH5oUchKDAXM86X0fhgiu\n",
       "BIyePTBTISbAzHz3cCsGABV5XOua2qXAAAAAAElFTkSuQmCC\n",
       "\" style=\"display:inline;vertical-align:middle;\" /></a></span></td></tr>\n",
       "<tr><td><a name=\"0x2ec4415957a258c1_step2\">2</a></td><td>instantiation</td><td><a href=\"#0x2ec4415957a258c1_step3\">3</a>, <a href=\"#0x2ec4415957a258c1_step4\">4</a>, <a href=\"#0x2ec4415957a258c1_step5\">5</a>, <a href=\"#0x2ec4415957a258c1_step6\">6</a></td><td><span style=\"font-size:20px;\"><a class=\"ProveItLink\" href=\"../__pv_it/4067540fc66c1b176700f7454e847966002357ad0/expr.ipynb\"><img src=\"data:image/png;base64,iVBORw0KGgoAAAANSUhEUgAAANkAAAAVBAMAAAA5ulaKAAAAMFBMVEX///+IiIi6urrc3NxERETM\n",
       "zMwQEBCqqqpUVFQiIiJ2dnYyMjLu7u5mZmaYmJgAAABN0h6tAAAAAXRSTlMAQObYZgAAAq1JREFU\n",
       "SMdjYGDgu8dAB8B68QCI4tlFjGI7dIFiUq1jSgWRfB+glm9AlZVM8d82QwHK4XFAcSdQKYcBFhP5\n",
       "+n/cbXHCIXYbxOOaABHl/oCmdUMgjw8skLlRzAYp5dmAzQNsQFfdD8AuthLZttd/0HQ66DGIskDZ\n",
       "b1FkwEoXYrMt/gEDg/4F7GLItvHUfobKPpk5cwPUtnKYbZORtUOUHkMIsMB9Lg9kvRdAtQ0mhmwb\n",
       "H+MniGSIDMJvi45AmMwTUGICrJRbARGP8Fh1A7ol8wCqbTAxZNt02P9BHL4HEZJMU1shTEaUwIEo\n",
       "5UISgwf0DwaGyB600IWJLQNxOMDBxqPA+hEsh0hrDmrzv0Hdz/IAOSAhSvnA+m7OBIH5UJtZf7wT\n",
       "mY6e0WBi70FEGTgJMTEw/4UYjJxK1r2CMDkLoObOQihlRw7d6gJIGAAj9FgDRAimHi7GDXRSCCQB\n",
       "RNy98QXMCNsNBLBUwsIE8RQbLI4sEEpZkXMMzzawCpYEoOnfkcQtkMU6gUlFDew3oOJssLwJst9Y\n",
       "GBowbYMqRbHNYjGY4gcqZ/yIahtcjBtkFgcoQbED8TSIwci2cTBsgIckTDdMKRM4JG/vBoPNiKzF\n",
       "8QnVNrjYe3iaNAfi/WB5XgFkv/EtQE0lFgilfEiFiTZS1op3QLUNLrYMZhs4P/lDUiM8TW2IYlh1\n",
       "g4HnN3JqZ0Uo5V2AiDVYrtkG9HLKAYgeqHqYGCK/8fj/PsBQ8n8uWMEJpwMopfLMA7BQAxsMV8qN\n",
       "KA45oMzu/703XECBPhORweFiqOUkHGh5zkQucdkPoJdcEHASwWRGl2M/gKUMhdiWgL9e4sIslcFg\n",
       "ISE9WG3j+4DftoOo5S48SDcQ0oMOwPUbA4G6+wFmbYrdfnQ96HV3EiSQiWmXYLQUHpPTLgEAkEvb\n",
       "qgntUEkAAAAASUVORK5CYII=\n",
       "\" style=\"display:inline;vertical-align:middle;\" /></a> <a class=\"ProveItLink\" href=\"../__pv_it/53d658d511d2c8c07dff1345fa12a37138bf24510/proof.ipynb\" style=\"text-decoration: none\">&#x22A2;&nbsp;</a><a class=\"ProveItLink\" href=\"../../../../__pv_it/d3792d0d8642fdf1cd2a3a9b32c673ee13653de00/expr.ipynb\"><img src=\"data:image/png;base64,iVBORw0KGgoAAAANSUhEUgAAAA8AAAAOBAMAAAACpFvcAAAALVBMVEX///8iIiIQEBBERERUVFS6\n",
       "urqIiIjc3NxmZmaqqqru7u6YmJgyMjLMzMwAAACK9jtgAAAAAXRSTlMAQObYZgAAAFtJREFUCNdj\n",
       "YACBOwxQcA5Kc59bAGGs7CuAMDbkBYBp1gXzNoAZSxnuJYAZAQx1DSCa16PDzwCshIGB6QCIMYGB\n",
       "gVEBSLMDGTwPgIxCIGZ+zsCw+N0pBk67hw0AfpEVEQi8t+wAAAAASUVORK5CYII=\n",
       "\" style=\"display:inline;vertical-align:middle;\" /></a></span></td></tr>\n",
       "<tr><td>&nbsp;</td><td colspan=4 style=\"text-align:left\"><span style=\"font-size:20px;\"><a class=\"ProveItLink\" href=\"../../../../__pv_it/d3792d0d8642fdf1cd2a3a9b32c673ee13653de00/expr.ipynb\"><img src=\"data:image/png;base64,iVBORw0KGgoAAAANSUhEUgAAAA8AAAAOBAMAAAACpFvcAAAALVBMVEX///8iIiIQEBBERERUVFS6\n",
       "urqIiIjc3NxmZmaqqqru7u6YmJgyMjLMzMwAAACK9jtgAAAAAXRSTlMAQObYZgAAAFtJREFUCNdj\n",
       "YACBOwxQcA5Kc59bAGGs7CuAMDbkBYBp1gXzNoAZSxnuJYAZAQx1DSCa16PDzwCshIGB6QCIMYGB\n",
       "gVEBSLMDGTwPgIxCIGZ+zsCw+N0pBk67hw0AfpEVEQi8t+wAAAAASUVORK5CYII=\n",
       "\" style=\"display:inline;vertical-align:middle;\" /></a> : <a class=\"ProveItLink\" href=\"../../../../__pv_it/d3792d0d8642fdf1cd2a3a9b32c673ee13653de00/expr.ipynb\"><img src=\"data:image/png;base64,iVBORw0KGgoAAAANSUhEUgAAAA8AAAAOBAMAAAACpFvcAAAALVBMVEX///8iIiIQEBBERERUVFS6\n",
       "urqIiIjc3NxmZmaqqqru7u6YmJgyMjLMzMwAAACK9jtgAAAAAXRSTlMAQObYZgAAAFtJREFUCNdj\n",
       "YACBOwxQcA5Kc59bAGGs7CuAMDbkBYBp1gXzNoAZSxnuJYAZAQx1DSCa16PDzwCshIGB6QCIMYGB\n",
       "gVEBSLMDGTwPgIxCIGZ+zsCw+N0pBk67hw0AfpEVEQi8t+wAAAAASUVORK5CYII=\n",
       "\" style=\"display:inline;vertical-align:middle;\" /></a>, <a class=\"ProveItLink\" href=\"../../../../__pv_it/4d98b438710c5ada9ffa4646bb123a7d0e69ec000/expr.ipynb\"><img src=\"data:image/png;base64,iVBORw0KGgoAAAANSUhEUgAAABAAAAAOBAMAAADUAYG5AAAALVBMVEX///8yMjKqqqoiIiLu7u7c\n",
       "3NyIiIjMzMwQEBC6urpERERmZmZUVFSYmJgAAACsPVCVAAAAAXRSTlMAQObYZgAAAGxJREFUCNdj\n",
       "YGC48+70nlUTGICgi4GB+zmQZn/LwMD5Gshge8rAwPsMyOBqYGDwMAEy+A4wsNs4ABl1Z68tVgBp\n",
       "ygtgYOkBMVaAOCChNyBGAsQYhnMTIMawvwJyGIHGzFjCwMAj92b3qUUMDAAXABxvZ4rl5AAAAABJ\n",
       "RU5ErkJggg==\n",
       "\" style=\"display:inline;vertical-align:middle;\" /></a> : <a class=\"ProveItLink\" href=\"../../../../__pv_it/4d98b438710c5ada9ffa4646bb123a7d0e69ec000/expr.ipynb\"><img src=\"data:image/png;base64,iVBORw0KGgoAAAANSUhEUgAAABAAAAAOBAMAAADUAYG5AAAALVBMVEX///8yMjKqqqoiIiLu7u7c\n",
       "3NyIiIjMzMwQEBC6urpERERmZmZUVFSYmJgAAACsPVCVAAAAAXRSTlMAQObYZgAAAGxJREFUCNdj\n",
       "YGC48+70nlUTGICgi4GB+zmQZn/LwMD5Gshge8rAwPsMyOBqYGDwMAEy+A4wsNs4ABl1Z68tVgBp\n",
       "ygtgYOkBMVaAOCChNyBGAsQYhnMTIMawvwJyGIHGzFjCwMAj92b3qUUMDAAXABxvZ4rl5AAAAABJ\n",
       "RU5ErkJggg==\n",
       "\" style=\"display:inline;vertical-align:middle;\" /></a></span></td></tr><tr><td><a name=\"0x2ec4415957a258c1_step3\">3</a></td><td>theorem</td><td></td><td><span style=\"font-size:20px;\"> <a class=\"ProveItLink\" href=\"modusTollensAffirmation.ipynb\" style=\"text-decoration: none\">&#x22A2;&nbsp;</a><a class=\"ProveItLink\" href=\"../__pv_it/c014cc5a1e80f2fff55fe60a269844e5983e73590/expr.ipynb\"><img src=\"data:image/png;base64,iVBORw0KGgoAAAANSUhEUgAAAOoAAAAZBAMAAADNvK/KAAAAMFBMVEX///8QEBCIiIhmZma6urrM\n",
       "zMxUVFQiIiJERETc3Nzu7u6qqqp2dnaYmJgyMjIAAAAcRTyBAAAAAXRSTlMAQObYZgAAAxlJREFU\n",
       "SMfllktoE0Ecxj92N002u0l78ChlwYO9VAuRFEElIEgRSuOleFzwQb1VC1ahoojoBqWJB2tRtIuC\n",
       "4ooaKIKXYqSI2laJHn0R7M2L0lZoKz7mkexMSNIqbk8O7OyyM9/8Zr6Z+c8AK6amweMIOmmDQ6vU\n",
       "CGMt0sh/RS3R14fG1Dh9xYpBAUMlRp2m358bU808ecXdoKjxr4w6SnL9VGMqKxsNzNyPy4xKh8HG\n",
       "02heqQ/TQUGj40uMGpvyvMsrrab3nnenPyhqTFnga3jRcYZWojY7zrlCnaKcvEb+lLrb+MGpB4AM\n",
       "+5OpT21KI0IIXfOTfQyk8RJTVMrASMmxJ7stKbXlC6nBqdAcp+5ElO2e2ELZhE+zA3mJqnXgPv3d\n",
       "ArOF/orwkkPCNSLcKnf1NfBEMrUiZD3W5zk1DIXtxpt07Hcnt8MqXHsoR4l+tJNctWEsC2pImE6F\n",
       "t2RqEngstpovJKk3kVzkVLPIA9DUAOnX+SsuLMu8J1Nfgi6msAW1JKjE90qiwjj3cILlR4Ad0iRV\n",
       "hCSRiWjlVL3UyzpvOdRtkiyr+4VMvR6ySf4gjU2uoIpQyYTcLjRRePQbFCns+ELAIM/hchzO7GcC\n",
       "dIKHRyvRmpapkRG6Vnra22wIqthsTGjYeO44zvA6Onlzb85KfvtC4Cp5vpSp42w3vsNmRDv4WNVL\n",
       "MtXopF+vgI0StQsMU+JCaOXopmwhU1aCQps0aTckIXT6N5vj1GaL2jI7k3VDxxznNJ1XperMoYsd\n",
       "F4CxvKDu4uU2F/KgTps56CJSgP7dN0IIo9mfLh79GuDUGHVddTGWhs3HaqpV1Lc0I+305AR1b4XK\n",
       "hZqNDQmS9pG2mvPQlgTVF9Y5X7tJ7SKeMmrBnKk5X/Vl6Oslh29XqFwYKyDqed4NatuYi4sFjLqc\n",
       "KoS11Mgi9OwJRIgVsaHZ4WIN9dl8oi8lUcN8WebKQjXlN2eeTCTPAHuYq7okbHyXaCPzuspdglOV\n",
       "6mMqXhub84HeYMoRsfpInqipZuTWgtpddWx21J5p/3Jbq70Pq3XGovzNDUcbPPobjMDZqMhIwAIA\n",
       "AAAASUVORK5CYII=\n",
       "\" style=\"display:inline;vertical-align:middle;\" /></a></span></td></tr>\n",
       "<tr><td>&nbsp;</td><td colspan=4 style-\"text-align:left\"><a class=\"ProveItLink\" href=\"modusTollensAffirmation.ipynb\">proveit.logic.boolean.implication.modusTollensAffirmation</a></td></tr><tr><td><a name=\"0x2ec4415957a258c1_step4\">4</a></td><td>assumption</td><td></td><td><span style=\"font-size:20px;\"><a class=\"ProveItLink\" href=\"../__pv_it/bd7c0c36d4893c1f3a0b239a721b4930fa6f33cb0/expr.ipynb\"><img src=\"data:image/png;base64,iVBORw0KGgoAAAANSUhEUgAAAEkAAAAVBAMAAAD4Ed5jAAAAMFBMVEX///+IiIi6urrc3NxERETM\n",
       "zMwQEBCqqqpUVFQiIiJ2dnYyMjLu7u5mZmaYmJgAAABN0h6tAAAAAXRSTlMAQObYZgAAATVJREFU\n",
       "KM9jYGDgu8eAB7BePACieHYx4AVMqSCS7wNU0wZUWckU/20zFICM2yAe1wSIKPcHNEM2BPL4gByz\n",
       "ElnV6z9oqhz0GERZ0FTx1H6Gyj6ZOXMDVFU5uio+xk8QRSEyCLMWHUFTpcP+D2LmHoSNTFNbgfQy\n",
       "EIcDbDyPAutHsByHAVyV2vxvID++B3HKAsChwsD8FyzHguz6da9Anr8AdMZksFDE3RtfwIyw3UAA\n",
       "cz0L0wMgo1OAgUENbBbQ6GywKhNks1gYGoBmNYAc4gAk2IF4GliODVkVB8MGqLvAfjQH4v1gOV4B\n",
       "ZLP4FkD9CFLFDFLpD/HddHgMRTGsuoEUXjz+vw8wlPyfC5Y84XQANbZR4hEOtDxnoiQPiKoE/OkL\n",
       "oorvAwFV4PTFQCitJoEpdsLpHgBPT1V1M7jh/QAAAABJRU5ErkJggg==\n",
       "\" style=\"display:inline;vertical-align:middle;\" /></a> <a class=\"ProveItLink\" href=\"../__pv_it/0340c064c83c6205f84cc244ce9c47bf225a315f0/proof.ipynb\" style=\"text-decoration: none\">&#x22A2;&nbsp;</a><a class=\"ProveItLink\" href=\"../__pv_it/8776f6509d0e01db99c8c290ab1853b3db3d048c0/expr.ipynb\"><img src=\"data:image/png;base64,iVBORw0KGgoAAAANSUhEUgAAADYAAAAPBAMAAABdHiGLAAAAMFBMVEX///92dnYiIiIQEBBERERU\n",
       "VFS6urqIiIjc3NxmZmaqqqru7u6YmJgyMjLMzMwAAADiRdoGAAAAAXRSTlMAQObYZgAAANdJREFU\n",
       "GNNjYACBtwwogF3Z5a9RGJRzH1WOgZevYMvOA2Amz/0NqHIsbAfYHziAmbvmN0DEeJyUdKFyXAsg\n",
       "cgfqE8A0n/sGuD7GbLAc24b1ELP3bkCYmfT0AYi1jeF9AVgoAmGf0X8zMCuBoX8CmOGA5BbGMwIg\n",
       "WyJnxoNF+WzvAgFUjsEhB2QdAwPzBZAIB7I+BgdWIGMBAwOTAVjIAFkugBeoGijH+wEsNB1F30EG\n",
       "hiYQ+wdYiGkBPMwEGCUDGLb8v83A5f8J7FDukGzMsIYBNhFImEEAAEUpOYcaSaDVAAAAAElFTkSu\n",
       "QmCC\n",
       "\" style=\"display:inline;vertical-align:middle;\" /></a></span></td></tr>\n",
       "<tr><td><a name=\"0x2ec4415957a258c1_step5\">5</a></td><td>assumption</td><td></td><td><span style=\"font-size:20px;\"><a class=\"ProveItLink\" href=\"../__pv_it/1798d8fef314b47d9f3dcba4a8132004b3fc9c710/expr.ipynb\"><img src=\"data:image/png;base64,iVBORw0KGgoAAAANSUhEUgAAAHEAAAAVBAMAAACDNRyvAAAAMFBMVEX///+IiIi6urrc3NxERETM\n",
       "zMwQEBCqqqpUVFQiIiJ2dnYyMjLu7u5mZmaYmJgAAABN0h6tAAAAAXRSTlMAQObYZgAAAcJJREFU\n",
       "OMtjYGDgu8dAImC9eABE8ewCkXbossX4tDKlgki+DyDtDihmbmBg4DDAooOv/8fdFicg4zaIxzUB\n",
       "SHCjqOMGGsazAZtlbEAb7gcwMKyE63yLIv/6D5BYiE1n/AMGBv0LyDonI0vz1H4GkscQAixwF8kD\n",
       "We8FkHQyT0DxDeMnkJMVEP6Gh4Ib0NzMA0g6GS8g69Rh/wcSRxKDe+YHA0NkD5BeBuJwAIOC5QGy\n",
       "YxVYP4JsBgfRzZkgMB9qCuuPdyLTQYz3IKIMGFScBVA1s0CRxcD8F0ixI/ugugBMMQID4FgDyCtA\n",
       "o0JAgcMG85MFEEfcvfEFZP4HZHdsA6tgSQDq/g5idQKDSS0ATSeQnY2u02IxmOIH2scI8go3yGIO\n",
       "B4hrYTrZgdQ0kKPBrr29Gww2I6KT4xPMn6CwhYcQUKc5kNoPDyEI0EaKzngHWNiCdMJjgBUStf5A\n",
       "FbwLEL7cA2VsAzolBZRP4PHJBA9HHv/fBxhK/s8FeiUArpMDyuz+33vDBewxHKkPAk4imMwYkhCd\n",
       "CRgpHgwW4sugK+H5kwUjN2LPZTAAzp8MuzByNgNWs5DLhCQwxX4PW2nymFA5BACUoXpUlH82UgAA\n",
       "AABJRU5ErkJggg==\n",
       "\" style=\"display:inline;vertical-align:middle;\" /></a> <a class=\"ProveItLink\" href=\"../__pv_it/f8fc2e3ab552a3735918bb4b4e327a818748f6090/proof.ipynb\" style=\"text-decoration: none\">&#x22A2;&nbsp;</a><a class=\"ProveItLink\" href=\"../__pv_it/14aa48abe76544c6430ad631619fcc12b0ef18770/expr.ipynb\"><img src=\"data:image/png;base64,iVBORw0KGgoAAAANSUhEUgAAAFwAAAAUBAMAAADyykdqAAAAMFBMVEX////MzMxUVFR2dna6uroQ\n",
       "EBCqqqqIiIgiIiJmZmYyMjJERETu7u6YmJjc3NwAAACgK8IjAAAAAXRSTlMAQObYZgAAAWBJREFU\n",
       "KM9jYOC7wIAK2B4w4AGnUXhSQKyHTdml/5qTdjswMKxDEV0PxKewGhvNwMD5kYF3ArIY7/oDDAzM\n",
       "BVhUM/5lYGD5ycCB4tJj84FcngCEwD4Yg/0f0LDvDC9QzLhQD3QewxKEgDSMwQ0042gPQyWyapYD\n",
       "+aBwskRyHcyt/AoMjE0HGPYiKz/CIA9y9y0Qm7MDDH5CpeR1r+9IYGBog0kYAMUcGN6DTMtAjoVl\n",
       "ELr+AQNPEANDCFSYTwHoe82Z+htAJiHbeAqiYitISwKKchYGBtYFaMr5lCFB9wmkvADkGLhyoNs4\n",
       "QIHoAXb7Kgh4AA92Bn0HuFeByvmAyrk+wLwKDasFiGBn/I0UaALgKOAGCjNMRnL5AQjNBbTVdQ/U\n",
       "Ykha+7+GgW3/D2DQLEQoV4RQTOs/zdTeBmRwYCZXngYEG10WNYmBAdYkhpGIEO4lPntgNwA5HtAz\n",
       "Hy+ezAcAn6teNb06mV0AAAAASUVORK5CYII=\n",
       "\" style=\"display:inline;vertical-align:middle;\" /></a></span></td></tr>\n",
       "<tr><td><a name=\"0x2ec4415957a258c1_step6\">6</a></td><td>assumption</td><td></td><td><span style=\"font-size:20px;\"><a class=\"ProveItLink\" href=\"../__pv_it/e229708ae91e933a44ca1cbb9a50ba4bb825d50b0/expr.ipynb\"><img src=\"data:image/png;base64,iVBORw0KGgoAAAANSUhEUgAAADEAAAAVBAMAAAAdjxsPAAAAMFBMVEX///+IiIi6urrc3NxERETM\n",
       "zMwQEBCqqqpUVFQiIiJ2dnYyMjLu7u5mZmaYmJgAAABN0h6tAAAAAXRSTlMAQObYZgAAAOJJREFU\n",
       "KM9jYGDgu8eABlgvHgBRPLsYMABTKojk+4AQ4ev/cbfFCci4DeJxTUBSzObAwHA/gIFhJYZM/AMG\n",
       "Bv0L2GTkDRgY3gtgk3EDuijzADaZHwwMkT1AehmIw7EBySM/3olMBzHeg4gyoFNuzgSCWQwMjJ8Z\n",
       "GI41AAW5ga4ImQzTYMHAwJIAlP0O4nQCnaEWgJDhB6pn/AjSA9LI4YCQAXmH4xPMHrjbLCDeiXeA\n",
       "uQ0uw8rAsA0YmCmgcEb3T/f/3hsuBQwM2HwKAxCZBFwyyPEDB+D4YcAWp0lgih17OgAAhc8/A2yv\n",
       "PboAAAAASUVORK5CYII=\n",
       "\" style=\"display:inline;vertical-align:middle;\" /></a> <a class=\"ProveItLink\" href=\"../__pv_it/dd750b3300473f9a3fd8bdd2dcf1c333dfa79c240/proof.ipynb\" style=\"text-decoration: none\">&#x22A2;&nbsp;</a><a class=\"ProveItLink\" href=\"../__pv_it/86f671dd514f6e615234986d96edb2c4ebb473e30/expr.ipynb\"><img src=\"data:image/png;base64,iVBORw0KGgoAAAANSUhEUgAAAB0AAAAOBAMAAAAh/woJAAAAMFBMVEX///8yMjKqqqru7u6IiIgQ\n",
       "EBC6urpERESYmJjMzMxUVFTc3Nx2dnYiIiJmZmYAAABbDZECAAAAAXRSTlMAQObYZgAAAH9JREFU\n",
       "CNdjYIACjvW/3i0vY0AA1gIGhvcTEPz5DQwM+Q8QfP8NDAz9Dgh+KQMDc6wBgv+LgWHuYgSX81eH\n",
       "+yUg/fYuENxhYGD5zcBgugAquYuBgT0AKPYJwecHyrF8QfBB1nN9Q/BB1s8vgBnOwCDKwMAWjrB+\n",
       "4f91r8oVGBgAyy8lZJPyWlAAAAAASUVORK5CYII=\n",
       "\" style=\"display:inline;vertical-align:middle;\" /></a></span></td></tr>\n",
       "</table>"
      ],
      "text/plain": [
       "\tstep type\trequirements\tstatement\n",
       "0\tgeneralizaton\t1\t|- forall_{A, B | [not](A) => B, A in BOOLEANS} ([not](B) => A)\n",
       "1\thypothetical reasoning\t2\t{A in BOOLEANS, [not](A) => B} |- [not](B) => A\n",
       "2\tinstantiation\t3, 4, 5, 6\t{A in BOOLEANS, [not](A) => B, [not](B)} |- A\n",
       "\tA : A, B : B\n",
       "3\ttheorem\t\t|- forall_{A in BOOLEANS} [forall_{B | [not](A) => B, [not](B)} A]\n",
       "\tproveit.logic.boolean.implication.modusTollensAffirmation\n",
       "4\tassumption\t\t{A in BOOLEANS} |- A in BOOLEANS\n",
       "5\tassumption\t\t{[not](A) => B} |- [not](A) => B\n",
       "6\tassumption\t\t{[not](B)} |- [not](B)"
      ]
     },
     "execution_count": 6,
     "metadata": {},
     "output_type": "execute_result"
    }
   ],
   "source": [
    "%qed"
   ]
  },
  {
   "cell_type": "code",
   "execution_count": null,
   "metadata": {},
   "outputs": [],
   "source": []
  }
 ],
 "metadata": {
  "kernelspec": {
   "display_name": "Python 3",
   "language": "python",
   "name": "python3"
  }
 },
 "nbformat": 4,
 "nbformat_minor": 0
}
