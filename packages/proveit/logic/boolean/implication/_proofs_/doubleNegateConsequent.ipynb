{
 "cells": [
  {
   "cell_type": "markdown",
   "metadata": {},
   "source": [
    "Proof of <a class=\"ProveItLink\" href=\"../../../../_context_.ipynb\">proveit</a>.<a class=\"ProveItLink\" href=\"../../../_context_.ipynb\">logic</a>.<a class=\"ProveItLink\" href=\"../../_context_.ipynb\">boolean</a>.<a class=\"ProveItLink\" href=\"../_context_.ipynb\">implication</a>.<a class=\"ProveItLink\" href=\"../_theorems_.ipynb#doubleNegateConsequent\">doubleNegateConsequent</a> theorem\n",
    "========"
   ]
  },
  {
   "cell_type": "code",
   "execution_count": 1,
   "metadata": {},
   "outputs": [],
   "source": [
    "import proveit\n",
    "context = proveit.Context('..') # the theorem's context is in the parent directory"
   ]
  },
  {
   "cell_type": "code",
   "execution_count": 2,
   "metadata": {},
   "outputs": [
    {
     "name": "stdout",
     "output_type": "stream",
     "text": [
      "Beginning proof of doubleNegateConsequent\n",
      "Recorded 'presuming' information\n"
     ]
    },
    {
     "name": "stdout",
     "output_type": "stream",
     "text": [
      "Presuming previous theorems (applied transitively).\n"
     ]
    },
    {
     "data": {
      "text/html": [
       "<strong id=\"doubleNegateConsequent\">doubleNegateConsequent:</strong> <a class=\"ProveItLink\" href=\"../__pv_it/546beabb0d9ca994dafab6cd440a07cc1895238b0/expr.ipynb\"><img src=\"data:image/png;base64,iVBORw0KGgoAAAANSUhEUgAAAP0AAAAWBAMAAAD5mIeOAAAAMFBMVEX///8QEBCIiIhmZma6urrM\n",
       "zMxUVFQiIiJERETc3Nzu7u6qqqp2dnaYmJgyMjIAAAAcRTyBAAAAAXRSTlMAQObYZgAAAyZJREFU\n",
       "SMe9Vk1oE0EU/txN2uzmpz0ICooEPNiLNhBJQYoNeBFBWjxUbw3UShHRaA8iVoxQZCti4qUWRLrV\n",
       "QyGHGuhFD2LVg6WKRD2J1K54q1BLY2t/qHV2djf7dpNojT8PvsyXebPzvXnzZnaBP7A7G/OVDHtI\n",
       "oOkdU1XJyyneeLXKPhcNnlmMdvehJoMiXuj9M1XphzJGM1fZ56LYxGJpaZNZxBYGWa+Uqkr/rdF8\n",
       "WKnsc1F05IHWCJ4yaiKkAoFcVfoXjPSOLdtd/U6fm6KR5WI6jGFGTQQns9lbVclLSWNPha923zGn\n",
       "z0WBKyzeLSpCcRSxpCi9VekLEd4c8q/ZfcGIw+eiwCJw9CRLeMRGl5U14/dg4Vk3LxiP9YyP1I8n\n",
       "3RyzcuzL8/THvfN6K57nVqA+N4V3carhoh6mZuMAL0PGjTQG6xGo589ZD03HyQJeA09MWpszwpQK\n",
       "xO//XPQ16fH0UgqBlcpwgo1K2qiFwCO8Z6RRTMC/QvXlFrIAxIDHqnmWeFzt0dgS3ZXRzbaP2QCl\n",
       "8LGVCassD3M2Avla7p7sMSIPQ9SofmDE2MBH/PccsB9Un/3soEV5KvMT/Tq2dmHeqS9p7Xxrwgof\n",
       "db8Ne1Sqf8Rn3A76ZQV5AcIMzb+f4SzP26xhGbI3XJRQfvxr2D57kjbQf5xPjyY+qnV3QwJUPyEm\n",
       "MaEoyg09sZ75N1cdhXWb4QupT81VdAOU8uPfkXLWH8b4AX2PRj7qFbCL6gdzgnm/CnvZZmgQrPOs\n",
       "Hx5+uNP2ARlVbZ9R8ZTiI4twKxsijttAXVhP7KeXaf7sdWAoR/RHmyfM+1U+ocI3DmnVWmsScvq7\n",
       "igfrPUX9LtuHUnp6vTOm6JOH2mwgqOuKKob0P2Czt2aI/j5IC9gZZdbJxtXl4Fkud7GalvnF/Wva\n",
       "CIFhh9nceekapBVI20n+PWz31iBns9m7epqGVNwcL/di2eD7xzTy/jHrZQlS+pJ3G54Xot1xop9O\n",
       "YfBb3iwfBC5HY30odzG6jfhKh9H3r8P8dIZKqS33YbHB7w8SkYWSD6NK+n/x++sdgcPyv6f/T038\n",
       "Lyo/ACWp9wbY2ubrAAAAAElFTkSuQmCC\n",
       "\" style=\"display:inline;vertical-align:middle;\" /></a><br>(see <a class=\"ProveItLink\" href=\"../__pv_it/546beabb0d9ca994dafab6cd440a07cc1895238b0/dependencies.ipynb\">dependencies</a>)<br>"
      ],
      "text/plain": [
       "doubleNegateConsequent: forall_{A, B | A => B} (A => [not]([not](B)))"
      ]
     },
     "execution_count": 2,
     "metadata": {},
     "output_type": "execute_result"
    }
   ],
   "source": [
    "%proving doubleNegateConsequent presuming []"
   ]
  },
  {
   "cell_type": "code",
   "execution_count": 3,
   "metadata": {},
   "outputs": [
    {
     "data": {
      "text/html": [
       "<span style=\"font-size:20px;\"><a class=\"ProveItLink\" href=\"../__pv_it/d724b8b04397244d48f9c771a2569d3864e53e0e0/expr.ipynb\"><img src=\"data:image/png;base64,iVBORw0KGgoAAAANSUhEUgAAAFMAAAAVBAMAAADInc9CAAAAMFBMVEX///+IiIi6urrc3NxERETM\n",
       "zMwQEBCqqqpUVFQiIiJ2dnYyMjLu7u5mZmaYmJgAAABN0h6tAAAAAXRSTlMAQObYZgAAAVFJREFU\n",
       "KM9jYGDgu8dACLBePACieHYxEAZMqSCS7wNU5wYsSvj6f9xtcQIyboN4XBMgotwfsBnH5sDAcD+A\n",
       "gWElstLXf7ApjX/AwKB/AVUpT+1nhAIWAxhLHsh6L4CqlI/xE5KPHWAsN6AhmQdQleqw/0Oy9y2M\n",
       "8YOBIbIHSC8DcTjAPudRYP0Ilrs5EwTmX4Aa/+OdyHQQ4z2IKAsABxwD819k71QXgClGoAeONYDC\n",
       "B6g3ZDJYLOLujS/ISnm2KYD9lwBU/h3E6gT6TQ1sKlAiG1mpxWIwxQ80kRHkMm6Q0Rwg37ID8TSw\n",
       "5O3dYLAZEawcn2BuBYeAORDvRzJUGylY4x1gIQBSygxS7m+AcOkeKGMb0MMpoFQFC1ce/98HGEr+\n",
       "z4Ur5QiA0N3/e2+4gMMCJQ0gA2YMEYjSBCLSK0Qp3wdilILTKwNRuSAJTLETmbcAeeRemCs1ZFAA\n",
       "AAAASUVORK5CYII=\n",
       "\" style=\"display:inline;vertical-align:middle;\" /></a> <a class=\"ProveItLink\" href=\"../__pv_it/425337a1200e74331f1d4d828a88a22ce4cc86320/proof.ipynb\" style=\"text-decoration: none\">&#x22A2;&nbsp;</a><a class=\"ProveItLink\" href=\"../__pv_it/12ae364c1c0e4229ccb4b05be849dd076f05b77b0/expr.ipynb\"><img src=\"data:image/png;base64,iVBORw0KGgoAAAANSUhEUgAAAHsAAAAUBAMAAABfS1/DAAAAMFBMVEX///92dnYiIiIQEBBERERU\n",
       "VFS6urqIiIjc3NxmZmaqqqru7u6YmJgyMjLMzMwAAADiRdoGAAAAAXRSTlMAQObYZgAAAZJJREFU\n",
       "OMudVLtKA0EUPcZkzWvXdGIXBBttUmhqUYugghFsAmIW/YG0Vln8AdNYpNLSzqDBQhDSiJZbiiJJ\n",
       "YSsJYjABMc5jh7maiYUHzt7D7JyZO3cewEhEGyYZ4CygwKvJXjfK20HheNVFxIOgQNNkfzBKLACx\n",
       "LyR8CHIkm7Vhd7JiknA+AasPTEGS4frE0/9zQQzpNiIx0WPDfQCXkGRolF39/yWIh7qJSIQzzDYP\n",
       "2K4ky6V23hhO+kA3EYnJPJxZttaxiiRwhXaJx9iMQF/229AWItHeuVs+5bP4koCLI1IbxB9FmFPj\n",
       "pahE2UNikfdKS8IpVItLtOY3Wf7NqiOTpxIrLJbZ9E5HEhYw7tPTtuX9Ye9ye4nY2VChjFj7s4Sn\n",
       "klceIvm2o8gqbqUlo8xud/Tklv+zXsxDJN92552Ujm9quEdWHpzAadXQotJmee6v81RTgvXBE+Kb\n",
       "b7r0u0Hc0yNqGWl2q9trXNktyd/w/j60ChcBR2HElVEgV8aMnFEGoBfWDPNzoW6OJ/nPx+pe8huo\n",
       "33F2GWhp9QAAAABJRU5ErkJggg==\n",
       "\" style=\"display:inline;vertical-align:middle;\" /></a></span>"
      ],
      "text/plain": [
       "{A => B} |- A => [not]([not](B))"
      ]
     },
     "execution_count": 3,
     "metadata": {},
     "output_type": "execute_result"
    }
   ],
   "source": [
    "doubleNegateConsequent.instanceExpr.prove(\n",
    "    doubleNegateConsequent.conditions)"
   ]
  },
  {
   "cell_type": "code",
   "execution_count": 4,
   "metadata": {},
   "outputs": [
    {
     "data": {
      "text/html": [
       "<table><tr><th>&nbsp;</th><th>step type</th><th>requirements</th><th>statement</th></tr>\n",
       "<tr><td><a name=\"0x2f9e0f9a010e1b4_step0\">0</a></td><td>generalizaton</td><td><a href=\"#0x2f9e0f9a010e1b4_step1\">1</a></td><td><span style=\"font-size:20px;\"> <a class=\"ProveItLink\" href=\"../__pv_it/a0c1b55349c7657e8ce2cde1d08491c68a6013650/proof.ipynb\" style=\"text-decoration: none\">&#x22A2;&nbsp;</a><a class=\"ProveItLink\" href=\"../__pv_it/546beabb0d9ca994dafab6cd440a07cc1895238b0/expr.ipynb\"><img src=\"data:image/png;base64,iVBORw0KGgoAAAANSUhEUgAAAP0AAAAWBAMAAAD5mIeOAAAAMFBMVEX///8QEBCIiIhmZma6urrM\n",
       "zMxUVFQiIiJERETc3Nzu7u6qqqp2dnaYmJgyMjIAAAAcRTyBAAAAAXRSTlMAQObYZgAAAyZJREFU\n",
       "SMe9Vk1oE0EU/txN2uzmpz0ICooEPNiLNhBJQYoNeBFBWjxUbw3UShHRaA8iVoxQZCti4qUWRLrV\n",
       "QyGHGuhFD2LVg6WKRD2J1K54q1BLY2t/qHV2djf7dpNojT8PvsyXebPzvXnzZnaBP7A7G/OVDHtI\n",
       "oOkdU1XJyyneeLXKPhcNnlmMdvehJoMiXuj9M1XphzJGM1fZ56LYxGJpaZNZxBYGWa+Uqkr/rdF8\n",
       "WKnsc1F05IHWCJ4yaiKkAoFcVfoXjPSOLdtd/U6fm6KR5WI6jGFGTQQns9lbVclLSWNPha923zGn\n",
       "z0WBKyzeLSpCcRSxpCi9VekLEd4c8q/ZfcGIw+eiwCJw9CRLeMRGl5U14/dg4Vk3LxiP9YyP1I8n\n",
       "3RyzcuzL8/THvfN6K57nVqA+N4V3carhoh6mZuMAL0PGjTQG6xGo589ZD03HyQJeA09MWpszwpQK\n",
       "xO//XPQ16fH0UgqBlcpwgo1K2qiFwCO8Z6RRTMC/QvXlFrIAxIDHqnmWeFzt0dgS3ZXRzbaP2QCl\n",
       "8LGVCassD3M2Avla7p7sMSIPQ9SofmDE2MBH/PccsB9Un/3soEV5KvMT/Tq2dmHeqS9p7Xxrwgof\n",
       "db8Ne1Sqf8Rn3A76ZQV5AcIMzb+f4SzP26xhGbI3XJRQfvxr2D57kjbQf5xPjyY+qnV3QwJUPyEm\n",
       "MaEoyg09sZ75N1cdhXWb4QupT81VdAOU8uPfkXLWH8b4AX2PRj7qFbCL6gdzgnm/CnvZZmgQrPOs\n",
       "Hx5+uNP2ARlVbZ9R8ZTiI4twKxsijttAXVhP7KeXaf7sdWAoR/RHmyfM+1U+ocI3DmnVWmsScvq7\n",
       "igfrPUX9LtuHUnp6vTOm6JOH2mwgqOuKKob0P2Czt2aI/j5IC9gZZdbJxtXl4Fkud7GalvnF/Wva\n",
       "CIFhh9nceekapBVI20n+PWz31iBns9m7epqGVNwcL/di2eD7xzTy/jHrZQlS+pJ3G54Xot1xop9O\n",
       "YfBb3iwfBC5HY30odzG6jfhKh9H3r8P8dIZKqS33YbHB7w8SkYWSD6NK+n/x++sdgcPyv6f/T038\n",
       "Lyo/ACWp9wbY2ubrAAAAAElFTkSuQmCC\n",
       "\" style=\"display:inline;vertical-align:middle;\" /></a></span></td></tr>\n",
       "<tr><td><a name=\"0x2f9e0f9a010e1b4_step1\">1</a></td><td>hypothetical reasoning</td><td><a href=\"#0x2f9e0f9a010e1b4_step2\">2</a></td><td><span style=\"font-size:20px;\"><a class=\"ProveItLink\" href=\"../__pv_it/d724b8b04397244d48f9c771a2569d3864e53e0e0/expr.ipynb\"><img src=\"data:image/png;base64,iVBORw0KGgoAAAANSUhEUgAAAFMAAAAVBAMAAADInc9CAAAAMFBMVEX///+IiIi6urrc3NxERETM\n",
       "zMwQEBCqqqpUVFQiIiJ2dnYyMjLu7u5mZmaYmJgAAABN0h6tAAAAAXRSTlMAQObYZgAAAVFJREFU\n",
       "KM9jYGDgu8dACLBePACieHYxEAZMqSCS7wNU5wYsSvj6f9xtcQIyboN4XBMgotwfsBnH5sDAcD+A\n",
       "gWElstLXf7ApjX/AwKB/AVUpT+1nhAIWAxhLHsh6L4CqlI/xE5KPHWAsN6AhmQdQleqw/0Oy9y2M\n",
       "8YOBIbIHSC8DcTjAPudRYP0Ilrs5EwTmX4Aa/+OdyHQQ4z2IKAsABxwD819k71QXgClGoAeONYDC\n",
       "B6g3ZDJYLOLujS/ISnm2KYD9lwBU/h3E6gT6TQ1sKlAiG1mpxWIwxQ80kRHkMm6Q0Rwg37ID8TSw\n",
       "5O3dYLAZEawcn2BuBYeAORDvRzJUGylY4x1gIQBSygxS7m+AcOkeKGMb0MMpoFQFC1ce/98HGEr+\n",
       "z4Ur5QiA0N3/e2+4gMMCJQ0gA2YMEYjSBCLSK0Qp3wdilILTKwNRuSAJTLETmbcAeeRemCs1ZFAA\n",
       "AAAASUVORK5CYII=\n",
       "\" style=\"display:inline;vertical-align:middle;\" /></a> <a class=\"ProveItLink\" href=\"../__pv_it/425337a1200e74331f1d4d828a88a22ce4cc86320/proof.ipynb\" style=\"text-decoration: none\">&#x22A2;&nbsp;</a><a class=\"ProveItLink\" href=\"../__pv_it/12ae364c1c0e4229ccb4b05be849dd076f05b77b0/expr.ipynb\"><img src=\"data:image/png;base64,iVBORw0KGgoAAAANSUhEUgAAAHsAAAAUBAMAAABfS1/DAAAAMFBMVEX///92dnYiIiIQEBBERERU\n",
       "VFS6urqIiIjc3NxmZmaqqqru7u6YmJgyMjLMzMwAAADiRdoGAAAAAXRSTlMAQObYZgAAAZJJREFU\n",
       "OMudVLtKA0EUPcZkzWvXdGIXBBttUmhqUYugghFsAmIW/YG0Vln8AdNYpNLSzqDBQhDSiJZbiiJJ\n",
       "YSsJYjABMc5jh7maiYUHzt7D7JyZO3cewEhEGyYZ4CygwKvJXjfK20HheNVFxIOgQNNkfzBKLACx\n",
       "LyR8CHIkm7Vhd7JiknA+AasPTEGS4frE0/9zQQzpNiIx0WPDfQCXkGRolF39/yWIh7qJSIQzzDYP\n",
       "2K4ky6V23hhO+kA3EYnJPJxZttaxiiRwhXaJx9iMQF/229AWItHeuVs+5bP4koCLI1IbxB9FmFPj\n",
       "pahE2UNikfdKS8IpVItLtOY3Wf7NqiOTpxIrLJbZ9E5HEhYw7tPTtuX9Ye9ye4nY2VChjFj7s4Sn\n",
       "klceIvm2o8gqbqUlo8xud/Tklv+zXsxDJN92552Ujm9quEdWHpzAadXQotJmee6v81RTgvXBE+Kb\n",
       "b7r0u0Hc0yNqGWl2q9trXNktyd/w/j60ChcBR2HElVEgV8aMnFEGoBfWDPNzoW6OJ/nPx+pe8huo\n",
       "33F2GWhp9QAAAABJRU5ErkJggg==\n",
       "\" style=\"display:inline;vertical-align:middle;\" /></a></span></td></tr>\n",
       "<tr><td><a name=\"0x2f9e0f9a010e1b4_step2\">2</a></td><td>instantiation</td><td><a href=\"#0x2f9e0f9a010e1b4_step3\">3</a>, <a href=\"#0x2f9e0f9a010e1b4_step4\">4</a></td><td><span style=\"font-size:20px;\"><a class=\"ProveItLink\" href=\"../__pv_it/4b3accb3274af3c2e58b772cdadc15ad5d15b9a10/expr.ipynb\"><img src=\"data:image/png;base64,iVBORw0KGgoAAAANSUhEUgAAAGwAAAAVBAMAAABRZRb3AAAAMFBMVEX///+IiIi6urrc3NxERETM\n",
       "zMwQEBCqqqpUVFQiIiJ2dnYyMjLu7u5mZmaYmJgAAABN0h6tAAAAAXRSTlMAQObYZgAAAYZJREFU\n",
       "OMtjYGDgu8dAEoiVAZE8uxhIBGoBQILvA4TDugGLCr7+H3dbnBB8sCJeEME1ASLC/QGbyWwODAz3\n",
       "A+BcsCKwDpi213+waYt/wMCgfwHOBStC1sZT+xmh2BnOkjdgYHgvAONBFCFr42P8hNAWAme5AdVm\n",
       "HoB7FawIWZsO+z+kkIA76wcDQ2QPXByiiCsBSHCAQ5BHgfUjiOadCQZ/YSH3453IdLguqCJw2JeB\n",
       "w4mJgfkvUkiwb4fQjEC/HGuAicIU7QV6YzJYJOLujS/IIXg6CUyxAN3D+B0mCFPEMREa5wwKDAzZ\n",
       "SLqYuwzAND/QJsaPMFGYoh0grQ4gRwHxNLDfdkOAASLaOGBBDFPEB49zcyDej7CMaQNStMU7QDkw\n",
       "ReCQBGljBmn1N0D4DBZT24BGpBxg4PnNgKQIFm88/r8PMJT8nwvX1gqlu//33nApADJmHkBShJIm\n",
       "kYEBugD7ASQORFsCEVmMiwFdG98HIrQdROaA8xsDMbn7AUruVgC7m4yyBADy/nRaxy0O+AAAAABJ\n",
       "RU5ErkJggg==\n",
       "\" style=\"display:inline;vertical-align:middle;\" /></a> <a class=\"ProveItLink\" href=\"../__pv_it/c962eba48fb66b7ba7a9d650a7688aa830ab555f0/proof.ipynb\" style=\"text-decoration: none\">&#x22A2;&nbsp;</a><a class=\"ProveItLink\" href=\"../__pv_it/f47283a90b2662ecb603669ebc9c51181672dbb50/expr.ipynb\"><img src=\"data:image/png;base64,iVBORw0KGgoAAAANSUhEUgAAADoAAAAUBAMAAAAuMzNdAAAAMFBMVEX///+6uroQEBCqqqqIiIgy\n",
       "MjJERETu7u6YmJjMzMxUVFTc3Nx2dnYiIiJmZmYAAAAutVgsAAAAAXRSTlMAQObYZgAAAPlJREFU\n",
       "KM9jYICBHQxogHkDgs2eAGdyrP/1blkiA8NqhCwrkkomoMr3ExhKESJ9SGbOb2BgkH/AwOMAF7mN\n",
       "JOsPNKffgYFdASbAfQFJNgnoDN0CBoZAmADLAyTZXwwMc5cD6XMwAbYGhCTnrw63yyBGK8Pbu0Bw\n",
       "h4HXgAHGZGD5zcBQtAAoawtRvYuBSYABxmRgA7qG5TPI7dhk+YH6WL4gy4JMhsmCvMv1EciWhQnB\n",
       "XbUL4t35CWBXQVzJwAPzEScDQxADA6Ma0LsMb2C+YESExtL/616lgS2KxBqSsGi7gDUWoAApFtg2\n",
       "YMiWYo19GMhGYmOkHI4NDADnS0MIolOvqgAAAABJRU5ErkJggg==\n",
       "\" style=\"display:inline;vertical-align:middle;\" /></a></span></td></tr>\n",
       "<tr><td>&nbsp;</td><td colspan=4 style=\"text-align:left\"><span style=\"font-size:20px;\"><a class=\"ProveItLink\" href=\"../../../../__pv_it/d3792d0d8642fdf1cd2a3a9b32c673ee13653de00/expr.ipynb\"><img src=\"data:image/png;base64,iVBORw0KGgoAAAANSUhEUgAAAA8AAAAOBAMAAAACpFvcAAAALVBMVEX///8iIiIQEBBERERUVFS6\n",
       "urqIiIjc3NxmZmaqqqru7u6YmJgyMjLMzMwAAACK9jtgAAAAAXRSTlMAQObYZgAAAFtJREFUCNdj\n",
       "YACBOwxQcA5Kc59bAGGs7CuAMDbkBYBp1gXzNoAZSxnuJYAZAQx1DSCa16PDzwCshIGB6QCIMYGB\n",
       "gVEBSLMDGTwPgIxCIGZ+zsCw+N0pBk67hw0AfpEVEQi8t+wAAAAASUVORK5CYII=\n",
       "\" style=\"display:inline;vertical-align:middle;\" /></a> : <a class=\"ProveItLink\" href=\"../../../../__pv_it/4d98b438710c5ada9ffa4646bb123a7d0e69ec000/expr.ipynb\"><img src=\"data:image/png;base64,iVBORw0KGgoAAAANSUhEUgAAABAAAAAOBAMAAADUAYG5AAAALVBMVEX///8yMjKqqqoiIiLu7u7c\n",
       "3NyIiIjMzMwQEBC6urpERERmZmZUVFSYmJgAAACsPVCVAAAAAXRSTlMAQObYZgAAAGxJREFUCNdj\n",
       "YGC48+70nlUTGICgi4GB+zmQZn/LwMD5Gshge8rAwPsMyOBqYGDwMAEy+A4wsNs4ABl1Z68tVgBp\n",
       "ygtgYOkBMVaAOCChNyBGAsQYhnMTIMawvwJyGIHGzFjCwMAj92b3qUUMDAAXABxvZ4rl5AAAAABJ\n",
       "RU5ErkJggg==\n",
       "\" style=\"display:inline;vertical-align:middle;\" /></a></span></td></tr><tr><td><a name=\"0x2f9e0f9a010e1b4_step3\">3</a></td><td>axiom</td><td></td><td><span style=\"font-size:20px;\"> <a class=\"ProveItLink\" href=\"../../negation/_axioms_.ipynb#doubleNegationIntro\" style=\"text-decoration: none\">&#x22A2;&nbsp;</a><a class=\"ProveItLink\" href=\"../../negation/__pv_it/d4b5a7ad1d6d7b7899396f426b449cfd0e03f8720/expr.ipynb\"><img src=\"data:image/png;base64,iVBORw0KGgoAAAANSUhEUgAAAIoAAAAWBAMAAADtDRlvAAAAMFBMVEX///8QEBCIiIhmZma6urrM\n",
       "zMxUVFQiIiJERETc3Nzu7u6qqqp2dnaYmJgyMjIAAAAcRTyBAAAAAXRSTlMAQObYZgAAAc1JREFU\n",
       "OMudVEFLAkEUfrmau+pah36A0A9Q6BCEoNDBUyAdOqZQHToldOhQgUf3IHrTm0JBYiBCh44FXsI6\n",
       "7D0qoTrkRQ+FFki92bfbztayih984zfOvI+Z994OwFhIqp0k+IvEDps8OLnUbCViE7lLvGXzrpPL\n",
       "m61E9JANYpkdNOtgIkfsJJv1qgCBkMYgk00HF2/RTiLOYzj1zWuU2/V6yelCJVuJUMNxHF+Iw1zu\n",
       "yMll0VYCuKtXrGIt4g6Aov1No9vYJerHz5uBed7lFFKYE3gkroJPq7b8TsHGrqc4/R4CCAcM17wE\n",
       "iEOFJfuS6AWX1ksnI4uLL6Z32ILRcWlegmdraY+VNkUMqF5tqb1vcQmcRRxd8OYzHdNF6mywFU8o\n",
       "Z3FZF7O/NzJCOQnYHF6sMiR0KttsZRaWLS5pIWNNKYZyUkKXYN/MLlxo2+8hzLvITVefVMtId5KX\n",
       "rHXETxyiOudYwXzPd4Uq59KI3nyRSpjFNWXtuwv+wgBT9wpEmUULVagkOZcVkD7GfAFUygyRsIZn\n",
       "Uk0XN+rRmK+RSklfo96oQ5AKx6ZLIQvlgd4wihmj/HPRX4a/ECd/pQxfZRIXpxdTLhLHu0wDYZqg\n",
       "H8j2eoNyIuULAAAAAElFTkSuQmCC\n",
       "\" style=\"display:inline;vertical-align:middle;\" /></a></span></td></tr>\n",
       "<tr><td>&nbsp;</td><td colspan=4 style-\"text-align:left\"><a class=\"ProveItLink\" href=\"../../negation/_axioms_.ipynb#doubleNegationIntro\">proveit.logic.boolean.negation.doubleNegationIntro</a></td></tr><tr><td><a name=\"0x2f9e0f9a010e1b4_step4\">4</a></td><td>modus ponens</td><td><a href=\"#0x2f9e0f9a010e1b4_step5\">5</a>, <a href=\"#0x2f9e0f9a010e1b4_step6\">6</a></td><td><span style=\"font-size:20px;\"><a class=\"ProveItLink\" href=\"../__pv_it/4b3accb3274af3c2e58b772cdadc15ad5d15b9a10/expr.ipynb\"><img src=\"data:image/png;base64,iVBORw0KGgoAAAANSUhEUgAAAGwAAAAVBAMAAABRZRb3AAAAMFBMVEX///+IiIi6urrc3NxERETM\n",
       "zMwQEBCqqqpUVFQiIiJ2dnYyMjLu7u5mZmaYmJgAAABN0h6tAAAAAXRSTlMAQObYZgAAAYZJREFU\n",
       "OMtjYGDgu8dAEoiVAZE8uxhIBGoBQILvA4TDugGLCr7+H3dbnBB8sCJeEME1ASLC/QGbyWwODAz3\n",
       "A+BcsCKwDpi213+waYt/wMCgfwHOBStC1sZT+xmh2BnOkjdgYHgvAONBFCFr42P8hNAWAme5AdVm\n",
       "HoB7FawIWZsO+z+kkIA76wcDQ2QPXByiiCsBSHCAQ5BHgfUjiOadCQZ/YSH3453IdLguqCJw2JeB\n",
       "w4mJgfkvUkiwb4fQjEC/HGuAicIU7QV6YzJYJOLujS/IIXg6CUyxAN3D+B0mCFPEMREa5wwKDAzZ\n",
       "SLqYuwzAND/QJsaPMFGYoh0grQ4gRwHxNLDfdkOAASLaOGBBDFPEB49zcyDej7CMaQNStMU7QDkw\n",
       "ReCQBGljBmn1N0D4DBZT24BGpBxg4PnNgKQIFm88/r8PMJT8nwvX1gqlu//33nApADJmHkBShJIm\n",
       "kYEBugD7ASQORFsCEVmMiwFdG98HIrQdROaA8xsDMbn7AUruVgC7m4yyBADy/nRaxy0O+AAAAABJ\n",
       "RU5ErkJggg==\n",
       "\" style=\"display:inline;vertical-align:middle;\" /></a> <a class=\"ProveItLink\" href=\"../__pv_it/e6b3689df4d7c994f65f49a36e4819edf1c3ae480/proof.ipynb\" style=\"text-decoration: none\">&#x22A2;&nbsp;</a><a class=\"ProveItLink\" href=\"../../../../__pv_it/4d98b438710c5ada9ffa4646bb123a7d0e69ec000/expr.ipynb\"><img src=\"data:image/png;base64,iVBORw0KGgoAAAANSUhEUgAAABAAAAAOBAMAAADUAYG5AAAALVBMVEX///8yMjKqqqoiIiLu7u7c\n",
       "3NyIiIjMzMwQEBC6urpERERmZmZUVFSYmJgAAACsPVCVAAAAAXRSTlMAQObYZgAAAGxJREFUCNdj\n",
       "YGC48+70nlUTGICgi4GB+zmQZn/LwMD5Gshge8rAwPsMyOBqYGDwMAEy+A4wsNs4ABl1Z68tVgBp\n",
       "ygtgYOkBMVaAOCChNyBGAsQYhnMTIMawvwJyGIHGzFjCwMAj92b3qUUMDAAXABxvZ4rl5AAAAABJ\n",
       "RU5ErkJggg==\n",
       "\" style=\"display:inline;vertical-align:middle;\" /></a></span></td></tr>\n",
       "<tr><td><a name=\"0x2f9e0f9a010e1b4_step5\">5</a></td><td>assumption</td><td></td><td><span style=\"font-size:20px;\"><a class=\"ProveItLink\" href=\"../__pv_it/d724b8b04397244d48f9c771a2569d3864e53e0e0/expr.ipynb\"><img src=\"data:image/png;base64,iVBORw0KGgoAAAANSUhEUgAAAFMAAAAVBAMAAADInc9CAAAAMFBMVEX///+IiIi6urrc3NxERETM\n",
       "zMwQEBCqqqpUVFQiIiJ2dnYyMjLu7u5mZmaYmJgAAABN0h6tAAAAAXRSTlMAQObYZgAAAVFJREFU\n",
       "KM9jYGDgu8dACLBePACieHYxEAZMqSCS7wNU5wYsSvj6f9xtcQIyboN4XBMgotwfsBnH5sDAcD+A\n",
       "gWElstLXf7ApjX/AwKB/AVUpT+1nhAIWAxhLHsh6L4CqlI/xE5KPHWAsN6AhmQdQleqw/0Oy9y2M\n",
       "8YOBIbIHSC8DcTjAPudRYP0Ilrs5EwTmX4Aa/+OdyHQQ4z2IKAsABxwD819k71QXgClGoAeONYDC\n",
       "B6g3ZDJYLOLujS/ISnm2KYD9lwBU/h3E6gT6TQ1sKlAiG1mpxWIwxQ80kRHkMm6Q0Rwg37ID8TSw\n",
       "5O3dYLAZEawcn2BuBYeAORDvRzJUGylY4x1gIQBSygxS7m+AcOkeKGMb0MMpoFQFC1ce/98HGEr+\n",
       "z4Ur5QiA0N3/e2+4gMMCJQ0gA2YMEYjSBCLSK0Qp3wdilILTKwNRuSAJTLETmbcAeeRemCs1ZFAA\n",
       "AAAASUVORK5CYII=\n",
       "\" style=\"display:inline;vertical-align:middle;\" /></a> <a class=\"ProveItLink\" href=\"../__pv_it/398ad2f600fe9d64fafc0e1a14b5cdb47c57e34a0/proof.ipynb\" style=\"text-decoration: none\">&#x22A2;&nbsp;</a><a class=\"ProveItLink\" href=\"../__pv_it/8b52df86786c45166e4e597fabcdbadc8276ac2f0/expr.ipynb\"><img src=\"data:image/png;base64,iVBORw0KGgoAAAANSUhEUgAAAEAAAAAPBAMAAACmSdRUAAAAMFBMVEX///92dnYiIiIQEBBERERU\n",
       "VFS6urqIiIjc3NxmZmaqqqru7u6YmJgyMjLMzMwAAADiRdoGAAAAAXRSTlMAQObYZgAAAO5JREFU\n",
       "GNNjYACBtwxYwNH/kVNdEiDs+9gUMJgwMHD+A7N47m/AIs/3h4GB7SeYuWt+A0LcA8Zg/wHU+h3M\n",
       "PFCfgFDwBMZgMWBg2KwNYrFtWH8AoYBnApTBH8DApwq2exvD+wIQzakEBj+hCt7HHHdaAGYlMPRP\n",
       "QHIc1y0IXd/AwG0Kdm3kzHgHZOfvNQNTziBFICPYGBiYLyDJcwRC/PQVpABkN1ARkwHYDXchoAEe\n",
       "DAzxQO9xABXwfkAYwHYBEQx8X4CMJpCXfyC5ABqqvEBTk70ZGLb8v83A5f8J4Y04CMV6/+vMEC9s\n",
       "UdSAygUACNlBmGjrK1sAAAAASUVORK5CYII=\n",
       "\" style=\"display:inline;vertical-align:middle;\" /></a></span></td></tr>\n",
       "<tr><td><a name=\"0x2f9e0f9a010e1b4_step6\">6</a></td><td>assumption</td><td></td><td><span style=\"font-size:20px;\"><a class=\"ProveItLink\" href=\"../__pv_it/1ea553d38af7f0e38bb62d4c24279012575f1f120/expr.ipynb\"><img src=\"data:image/png;base64,iVBORw0KGgoAAAANSUhEUgAAACIAAAAVBAMAAADRFiHkAAAAMFBMVEX///+IiIi6urrc3NxERETM\n",
       "zMwQEBCqqqpUVFQiIiJ2dnYyMjLu7u5mZmaYmJgAAABN0h6tAAAAAXRSTlMAQObYZgAAAK5JREFU\n",
       "GNNjYGDgu8cAA7EyIJJnFwMCqAUACb4PEA7rBiDBCyK4JkBEuD/AODCR13/QRHhqP6OJ8DF+QhPR\n",
       "Yf8H4iQACY4NYE0KrB9hFpeBnMDAxMD8F0TvZWAImQzWFHH3xhcQzTER6kwGBQaGbBC9AyTqACTY\n",
       "gXgazBywXeZAvB9mF0iEGSTqb4BwD4//7wMMJf/novkLDCAiCegisPABA3D4MKCEoQKIZEcNZwC8\n",
       "2C7b2utx6wAAAABJRU5ErkJggg==\n",
       "\" style=\"display:inline;vertical-align:middle;\" /></a> <a class=\"ProveItLink\" href=\"../__pv_it/6df2516a358cef7703b5191c8a812f90d132ebab0/proof.ipynb\" style=\"text-decoration: none\">&#x22A2;&nbsp;</a><a class=\"ProveItLink\" href=\"../../../../__pv_it/d3792d0d8642fdf1cd2a3a9b32c673ee13653de00/expr.ipynb\"><img src=\"data:image/png;base64,iVBORw0KGgoAAAANSUhEUgAAAA8AAAAOBAMAAAACpFvcAAAALVBMVEX///8iIiIQEBBERERUVFS6\n",
       "urqIiIjc3NxmZmaqqqru7u6YmJgyMjLMzMwAAACK9jtgAAAAAXRSTlMAQObYZgAAAFtJREFUCNdj\n",
       "YACBOwxQcA5Kc59bAGGs7CuAMDbkBYBp1gXzNoAZSxnuJYAZAQx1DSCa16PDzwCshIGB6QCIMYGB\n",
       "gVEBSLMDGTwPgIxCIGZ+zsCw+N0pBk67hw0AfpEVEQi8t+wAAAAASUVORK5CYII=\n",
       "\" style=\"display:inline;vertical-align:middle;\" /></a></span></td></tr>\n",
       "</table>"
      ],
      "text/plain": [
       "\tstep type\trequirements\tstatement\n",
       "0\tgeneralizaton\t1\t|- forall_{A, B | A => B} (A => [not]([not](B)))\n",
       "1\thypothetical reasoning\t2\t{A => B} |- A => [not]([not](B))\n",
       "2\tinstantiation\t3, 4\t{A => B, A} |- [not]([not](B))\n",
       "\tA : B\n",
       "3\taxiom\t\t|- forall_{A | A} [not]([not](A))\n",
       "\tproveit.logic.boolean.negation.doubleNegationIntro\n",
       "4\tmodus ponens\t5, 6\t{A => B, A} |- B\n",
       "5\tassumption\t\t{A => B} |- A => B\n",
       "6\tassumption\t\t{A} |- A"
      ]
     },
     "execution_count": 4,
     "metadata": {},
     "output_type": "execute_result"
    }
   ],
   "source": [
    "%qed # automation can handle this one"
   ]
  },
  {
   "cell_type": "code",
   "execution_count": null,
   "metadata": {},
   "outputs": [],
   "source": []
  }
 ],
 "metadata": {
  "kernelspec": {
   "display_name": "Python 3",
   "language": "python",
   "name": "python3"
  }
 },
 "nbformat": 4,
 "nbformat_minor": 0
}
