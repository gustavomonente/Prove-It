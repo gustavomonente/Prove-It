{
 "cells": [
  {
   "cell_type": "markdown",
   "metadata": {},
   "source": [
    "Common expressions for the theory of <a class=\"ProveItLink\" href=\"theory.ipynb\">proveit.logic</a>\n",
    "========"
   ]
  },
  {
   "cell_type": "code",
   "execution_count": 1,
   "metadata": {},
   "outputs": [
    {
     "name": "stdout",
     "output_type": "stream",
     "text": [
      "Defining common sub-expressions for theory 'proveit.logic'\n",
      "Subsequent end-of-cell assignments will define common sub-expressions\n",
      "%end_common will finalize the definitions\n"
     ]
    }
   ],
   "source": [
    "import proveit\n",
    "# Prepare this notebook for defining the common expressions of a theory:\n",
    "%common_expressions_notebook # Keep this at the top following 'import proveit'.\n",
    "from proveit import Function\n",
    "from proveit import fx, gx, P, Q\n",
    "from proveit.logic import TRUE, FALSE, Implies, Equals\n",
    "%begin common"
   ]
  },
  {
   "cell_type": "code",
   "execution_count": 2,
   "metadata": {},
   "outputs": [
    {
     "data": {
      "text/html": [
       "<strong id=\"fx_eq_gx\">fx_eq_gx:</strong> <a class=\"ProveItLink\" href=\"../__pv_it/common/90b00597784938401fc3c9dbfea1adacc70d60db0/common_expr.ipynb\"><img src=\"data:image/png;base64,iVBORw0KGgoAAAANSUhEUgAAAGgAAAAUBAMAAACT0mUoAAAAMFBMVEX///8yMjJERETMzMwQEBCY\n",
       "mJgiIiK6urqqqqp2dnZUVFTc3NyIiIhmZmbu7u4AAADOOTK3AAAAAXRSTlMAQObYZgAAAVpJREFU\n",
       "OMtjYIAC7gAIzbGBATtAU/D2LJB+BJNcjUMTmoKV/Q0MDNIwsYc4NKEq4Pv+nIGB9QJMjPMAVj1o\n",
       "Cjg+AAk2uFf4HLBqQlPAmQAktiGkxbFqQlXAeiUXaPNZIOfNqe0ngVbPRVfPceeEAroCfpAbVYHW\n",
       "TmDNYRNgYAgEO1wQDMAemcSw/wK6gv0GQCIDqO4B5z92oMvb0C36x8DfgK6gHyTjDjSIgUkBxLRH\n",
       "08SiwGD/AF3BNKgmqEMxNNkHMBzDUKDFAHEekAdyKEMZkp8WAJnxGxh0MRT4MEACguPBeQaeB9CA\n",
       "QAJA5/9AV8D3HSQDDMb6Bn2GrUDmTTRN7zdw/UNXwP4BauWrM2+uglKyMJom9jUzE9AVcCqgpZIE\n",
       "jNTAdAFNQRdjAJb0iAwMGN4XoClIgmYFbVxZg/MfKPBQFcTcRstj2uheWnq2AZcCWG5mJZTdgQoA\n",
       "3rZ0pRAHpZ0AAAAASUVORK5CYII=\n",
       "\" style=\"display:inline;vertical-align:middle;\" /></a><br>"
      ],
      "text/plain": [
       "fx_eq_gx: f(x) = g(x)"
      ]
     },
     "execution_count": 2,
     "metadata": {},
     "output_type": "execute_result"
    }
   ],
   "source": [
    "fx_eq_gx = Equals(fx, gx)"
   ]
  },
  {
   "cell_type": "code",
   "execution_count": 3,
   "metadata": {},
   "outputs": [
    {
     "data": {
      "text/html": [
       "<strong id=\"PofTrue\">PofTrue:</strong> <a class=\"ProveItLink\" href=\"../__pv_it/common/0ea795e0ea0fefeea5a32b4f8e009298917320360/common_expr.ipynb\"><img src=\"data:image/png;base64,iVBORw0KGgoAAAANSUhEUgAAAC8AAAAUBAMAAADvtHnxAAAAMFBMVEX///8iIiLc3Ny6urqIiIiq\n",
       "qqp2dnbMzMwQEBDu7u5mZmYyMjJERERUVFSYmJgAAAA4CJ/KAAAAAXRSTlMAQObYZgAAAN5JREFU\n",
       "GNNjYEAAPTgrCEy+/X/27q4JDAycBxgWCoKALAOvAljmNwMDTycDAzeYFwIiODeASPZvDAysXxgY\n",
       "XjHAJRhSQATLZyAGSgohScwAETwfGBh4PzMwCSBJcBsACX6ggfoLGFgWIEmwgTj1CQysYkCND5Ak\n",
       "+EC2+19LWwJ0LWMAkgQryNzzE8BsDgMkCXagvQwfGbBLsP+CSKAYxSwA8QbY1eiWc/9kQLgQJsGV\n",
       "wMC1/68DXDcQ2EE8WIAU6kJI7IlIbGggMiACEQZ4FOBMSLDDeQewqUGN2kcMDAAhPzEMChJBowAA\n",
       "AABJRU5ErkJggg==\n",
       "\" style=\"display:inline;vertical-align:middle;\" /></a><br>"
      ],
      "text/plain": [
       "PofTrue: P(TRUE)"
      ]
     },
     "execution_count": 3,
     "metadata": {},
     "output_type": "execute_result"
    }
   ],
   "source": [
    "PofTrue = Function(P, TRUE)"
   ]
  },
  {
   "cell_type": "code",
   "execution_count": 4,
   "metadata": {},
   "outputs": [
    {
     "data": {
      "text/html": [
       "<strong id=\"PofFalse\">PofFalse:</strong> <a class=\"ProveItLink\" href=\"../__pv_it/common/f2cb5fde10adfc3cfb797f19dcde6688ec6174c90/common_expr.ipynb\"><img src=\"data:image/png;base64,iVBORw0KGgoAAAANSUhEUgAAAC8AAAAUBAMAAADvtHnxAAAAMFBMVEX///8iIiLc3Ny6urqIiIiq\n",
       "qqp2dnbMzMwQEBDu7u5mZmYyMjJERERUVFSYmJgAAAA4CJ/KAAAAAXRSTlMAQObYZgAAAOBJREFU\n",
       "GNNjYEAAPTgrCEy+/X/27q4JDAycB0C8UhDBqwCW+c3AwNPJwMAN5oWACM4NIJL9GwMD6xcGhlcM\n",
       "cAmGFBDB8hmIgZJCSBIzQATPB6ChnxmYBJAkuA2ABD/QQP0FDCwLkCTYQJz6BAZWMaDGB0gSfCDb\n",
       "/a+lLQG6ljEASYIVZO75CWA2hwGSBDvQXoaPDNgl2H9BJFCMYhaAeAPsanTLuX8yIFwIk+BKYODa\n",
       "/9cBrnuhoGCHoKAsUHUBUqgLIbEnIrGhgciACEQY4FGAMyHBDucdwKYGNWofMTAAALMAMbov626M\n",
       "AAAAAElFTkSuQmCC\n",
       "\" style=\"display:inline;vertical-align:middle;\" /></a><br>"
      ],
      "text/plain": [
       "PofFalse: P(FALSE)"
      ]
     },
     "execution_count": 4,
     "metadata": {},
     "output_type": "execute_result"
    }
   ],
   "source": [
    "PofFalse = Function(P, FALSE)"
   ]
  },
  {
   "cell_type": "code",
   "execution_count": 5,
   "metadata": {},
   "outputs": [
    {
     "data": {
      "text/html": [
       "<strong id=\"QimplPofTrue\">QimplPofTrue:</strong> <a class=\"ProveItLink\" href=\"../__pv_it/common/eb5f8a7c61fd2f3ec0dfa89356256585c350d0c30/common_expr.ipynb\"><img src=\"data:image/png;base64,iVBORw0KGgoAAAANSUhEUgAAAH4AAAAUBAMAAAC5YpSHAAAAMFBMVEX///+qqqq6urrc3NwQEBAy\n",
       "MjJERERUVFTMzMwiIiKYmJh2dnZmZmaIiIju7u4AAABsX1SbAAAAAXRSTlMAQObYZgAAAeJJREFU\n",
       "OMuNlDtLA0EQx/9RkzO55BTEwkJIo6DVdaJNxFYQ8QEWogELwUZBwSKF9wlMxIAECwMiNoIBK1Hx\n",
       "GgsVMaWCYAoTsBBEEN+Jt7v3mMRLcOB2htv57c7O7CxgS59ttaCW1Kcty6OyUbk7umAqivMUkw1I\n",
       "qhu3W5pdnswBBQS5X2oBi+z/oQYpCng51M5XHHbd+BXwDQGjfOssG/PsM5yVQWAPNo8TN7zxy8B+\n",
       "ENAdXjbGMSMkrADrhH9wKJ99ltCL8X3Brzq80g/5kxmnan2C8N6ws2vUXukZkF7QC4fHCCKcuw6H\n",
       "dMLLuhPAnmU0GQeN6Lij/DFOuTGv+dKED/AEinJsWWvFM/BsAnOU38GWxnQJ/mbCexIkb61iBvex\n",
       "oysjV2uUb0OJpc/zhoYw4RufCa+Mian5HFcDlI8jyZS/WIPvORD6A278Eg8tWx5/HY//bJzLqFmI\n",
       "b6HL4u9CPPd0w6Zc8iekg5SfSUX+Qtm0vJ+xSyb4YMY5/ZRpeIswS0b4S2A1djsDzQwZ3cJXs3nJ\n",
       "NIPTb1bI/IQi3AnhElCt+yvkkXRrZRv4SXMqfFOf3knvWbX+MSVA7qbMQwqW3ssapVr/mjLjmHlR\n",
       "mWSzeD/+9pybFFyXou/X9j/fLyNtvw7ohyeWIdV/AAAAAElFTkSuQmCC\n",
       "\" style=\"display:inline;vertical-align:middle;\" /></a><br>"
      ],
      "text/plain": [
       "QimplPofTrue: Q(TRUE) => P(TRUE)"
      ]
     },
     "execution_count": 5,
     "metadata": {},
     "output_type": "execute_result"
    }
   ],
   "source": [
    "QimplPofTrue = Implies(Function(Q, TRUE), PofTrue)"
   ]
  },
  {
   "cell_type": "code",
   "execution_count": 6,
   "metadata": {},
   "outputs": [
    {
     "data": {
      "text/html": [
       "<strong id=\"QimplPofFalse\">QimplPofFalse:</strong> <a class=\"ProveItLink\" href=\"../__pv_it/common/ca9181ccb6dc0a9c4729421491e01b01a7b58bcc0/common_expr.ipynb\"><img src=\"data:image/png;base64,iVBORw0KGgoAAAANSUhEUgAAAH4AAAAUBAMAAAC5YpSHAAAAMFBMVEX///+qqqq6urrc3NwQEBAy\n",
       "MjJERERUVFTMzMwiIiKYmJh2dnZmZmaIiIju7u4AAABsX1SbAAAAAXRSTlMAQObYZgAAAelJREFU\n",
       "OMuNlM8rRFEUx79jzM8380zJwkLNhrJ7O7Eh2UhJfpSFUBbKhqIsLDz/gCFTelmYkmyUKSsNeRsL\n",
       "JLOklFmgLJSU/Dbuj/fjzPTIqXfOed37uffcc+65gCMtjleNv8SfsT2fxrV6lTvhZpT/LHAV0ry4\n",
       "reL47FABuOM/4QTX01zt6QgxNiCgOrFij+fGz0CwG+gTW+e5vuUfm6x2AdtweBx44eEPhn0harq8\n",
       "wnQ/CwnzwArhb1wq6Jwl/sS+D0Q0l1fboLxz51DzLxE+kHR3HXVWemSZeUIzXB69aBXceTJuEl4x\n",
       "3QC2baeKHbTVxBXl93EonEk9mCF8VCTw2OCybq+VysK3BkxQfhPrOrdFRBKE9y2RvNXIEVzP5c5Y\n",
       "rpYpX4siT5/vBZVJwocfCa/2y6HJgjDtlE8hzU3k+w++aVfaN3jxMyK0fGn8FSL+owEhfVYhPqUt\n",
       "ib8RqcLDBR/yyJ+UelJ+LmX5i+czyk7WKZnkY1n39MOWE/iGVTLCnwKLc5dj0EXIrGAdhrHK5uoO\n",
       "H7Lc2MiLHTJihpHuNIwpYFBOiWr2/ZVyT7q1vA0ipDlVkaeg2UDv2W/9Y0mU3E1FhBQrvpY0ym/9\n",
       "a8mY697KyqQTzvtR1nNecue5FH2/Nv75frG0/QB724ZKQSOY6AAAAABJRU5ErkJggg==\n",
       "\" style=\"display:inline;vertical-align:middle;\" /></a><br>"
      ],
      "text/plain": [
       "QimplPofFalse: Q(FALSE) => P(FALSE)"
      ]
     },
     "execution_count": 6,
     "metadata": {},
     "output_type": "execute_result"
    }
   ],
   "source": [
    "QimplPofFalse = Implies(Function(Q, FALSE), PofFalse)"
   ]
  },
  {
   "cell_type": "code",
   "execution_count": 7,
   "metadata": {},
   "outputs": [
    {
     "name": "stdout",
     "output_type": "stream",
     "text": [
      "These common expressions may now be imported from the theory package: proveit.logic\n"
     ]
    }
   ],
   "source": [
    "%end common"
   ]
  },
  {
   "cell_type": "code",
   "execution_count": null,
   "metadata": {},
   "outputs": [],
   "source": []
  }
 ],
 "metadata": {
  "kernelspec": {
   "display_name": "Python 3",
   "language": "python",
   "name": "python3"
  }
 },
 "nbformat": 4,
 "nbformat_minor": 0
}