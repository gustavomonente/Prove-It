{
 "cells": [
  {
   "cell_type": "code",
   "execution_count": null,
   "metadata": {},
   "outputs": [],
   "source": [
    "import proveit\n",
    "from proveit import Axiom\n",
    "from proveit.logic import And, Equals, Forall, Implies, InSet, Not, Or, Booleans, TRUE, FALSE\n",
    "from proveit.logic import Intersect, NotProperSubset, NotSubset, NotSubsetEq, NotSuperset, NotSupersetEq\n",
    "from proveit.logic import ProperSubset, ProperSuperset, Subset, SubsetEq, SubsetProper, Superset, SupersetEq \n",
    "from proveit.number import zero, one, two, three, four, five, Exp, Integers, Naturals, NaturalsPos, Reals, RealsNeg, RealsPos\n",
    "from proveit.number.sets.real._theorems_ import intsInReals\n",
    "from proveit.logic.boolean.disjunction._theorems_ import orIfAny, orIfLeft, commutation\n",
    "from proveit.logic.set_theory import Set, SetEquiv\n",
    "from proveit.logic.set_theory.containment._axioms_ import subsetEqDef, supersetEqDef, notSubsetEqDef, notSupersetEqDef\n",
    "from proveit.logic.set_theory.containment._axioms_ import notSubsetDef, notSupersetDef, subsetDef, supersetDef\n",
    "from proveit.logic.set_theory.containment._theorems_ import foldNotSubsetEq, foldSupsetEq, reverseProperSubset, reverseSubset\n",
    "from proveit._common_ import m, n, x, y, A, B, C, D, E, F, X, Y, AA"
   ]
  },
  {
   "cell_type": "code",
   "execution_count": null,
   "metadata": {},
   "outputs": [],
   "source": [
    "smallSet = Set(one, two, three, four)"
   ]
  },
  {
   "cell_type": "code",
   "execution_count": null,
   "metadata": {},
   "outputs": [],
   "source": [
    "smallerSet = Set(one, three)"
   ]
  },
  {
   "cell_type": "code",
   "execution_count": null,
   "metadata": {},
   "outputs": [],
   "source": [
    "subsetExample = SubsetEq(smallerSet, smallSet)"
   ]
  },
  {
   "cell_type": "markdown",
   "metadata": {},
   "source": [
    "<font size=4>Testing the ``SetEquiv`` class.\n",
    "</font>"
   ]
  },
  {
   "cell_type": "code",
   "execution_count": null,
   "metadata": {},
   "outputs": [],
   "source": [
    "setEquivExample = SetEquiv(C, D)"
   ]
  },
  {
   "cell_type": "code",
   "execution_count": null,
   "metadata": {},
   "outputs": [],
   "source": [
    "setEquivExample.exprInfo()"
   ]
  },
  {
   "cell_type": "code",
   "execution_count": null,
   "metadata": {},
   "outputs": [],
   "source": [
    "setEquivExample.lhs"
   ]
  },
  {
   "cell_type": "code",
   "execution_count": null,
   "metadata": {},
   "outputs": [],
   "source": [
    "setEquivExample.rhs"
   ]
  },
  {
   "cell_type": "code",
   "execution_count": null,
   "metadata": {},
   "outputs": [],
   "source": [
    "setEquivExample.deriveReversed(assumptions=[setEquivExample])"
   ]
  },
  {
   "cell_type": "code",
   "execution_count": null,
   "metadata": {},
   "outputs": [],
   "source": [
    "SetEquiv(C, C).deriveReversed()"
   ]
  },
  {
   "cell_type": "code",
   "execution_count": null,
   "metadata": {},
   "outputs": [],
   "source": []
  }
 ],
 "metadata": {
  "kernelspec": {
   "display_name": "Python 3",
   "language": "python",
   "name": "python3"
  }
 },
 "nbformat": 4,
 "nbformat_minor": 0
}
