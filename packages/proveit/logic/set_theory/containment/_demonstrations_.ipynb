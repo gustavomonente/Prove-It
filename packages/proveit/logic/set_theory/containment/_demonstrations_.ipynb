{
 "cells": [
  {
   "cell_type": "markdown",
   "metadata": {},
   "source": [
    "Demonstrations for context <a class=\"ProveItLink\" href=\"_context_.ipynb\">proveit.logic.set_theory.containment</a>\n",
    "========"
   ]
  },
  {
   "cell_type": "code",
   "execution_count": null,
   "metadata": {},
   "outputs": [],
   "source": [
    "import proveit\n",
    "from proveit.logic import And, Equals, Forall, Implies, InSet, Not\n",
    "from proveit.logic import Intersect, NotProperSubset, NotSubset, NotSubsetEq, NotSuperset, NotSupersetEq\n",
    "from proveit.logic import ProperSubset, ProperSuperset, Subset, SubsetEq, SubsetProper, Superset, SupersetEq \n",
    "from proveit.number import zero, one, Integers, Naturals, NaturalsPos, Reals, RealsNeg, RealsPos\n",
    "from proveit.logic.set_theory.containment._axioms_ import subsetEqDef, supersetEqDef, notSubsetEqDef, notSupersetEqDef\n",
    "from proveit.logic.set_theory.containment._axioms_ import notSubsetDef, notSupersetDef, subsetDef, supersetDef\n",
    "from proveit.logic.set_theory.containment._theorems_ import foldNotSubsetEq, foldSupsetEq\n",
    "from proveit._common_ import x, y, A, B, C, D, E, F, X, Y\n",
    "%begin demonstrations"
   ]
  },
  {
   "cell_type": "markdown",
   "metadata": {},
   "source": [
    "# Containment $\\in$, $\\subset$, $\\subseteq$, $\\supset$, $\\supseteq$"
   ]
  },
  {
   "cell_type": "markdown",
   "metadata": {},
   "source": [
    "<div style=\"line-height:1.4; font-size:14pt\">\n",
    "\n",
    "<a href='#introduction'>Introduction</a><br>\n",
    "<a href='#simple_expressions'>Simple Expressions involving Membership $(\\in)$, Subset $(\\subset, \\subseteq)$, Superset $(\\supset, \\supseteq )$</a><br>\n",
    "<a href='#common_attributes'>Common Attributes of the Subset $(\\subset)$ Expression</a><br>\n",
    "<a href='#axioms'>Axioms</a><br>\n",
    "<a href='#further_demonstrations'>Further Demonstrations</a><br>\n",
    "    <ol>\n",
    "        <li><a href='#demo01'>$(x\\in A)\\wedge(A\\subset B)\\Rightarrow (x\\in B)$</a></li>\n",
    "        <li><a href='#demo02'>$\\forall_{x\\in A}(x\\in B) \\Rightarrow (A \\subseteq B)$</a></li>\n",
    "        <li><a href='#demo03'>$(x\\in B)\\wedge(A\\supset B)\\Rightarrow (x\\in A)$</a></li>\n",
    "        <li><a href='#demo04'>$\\forall_{x\\in Y}(x\\in X) \\Rightarrow (X \\supseteq Y)$</a></li>\n",
    "        <li><a href='#demo05'>Folding and Unfolding the Definitions of $\\not\\subseteq$ and $\\not\\supseteq$</a></li>\n",
    "    </ol>\n",
    "\n",
    "</div>\n"
   ]
  },
  {
   "cell_type": "markdown",
   "metadata": {},
   "source": [
    "## Introduction <a id='introduction'></a>"
   ]
  },
  {
   "cell_type": "markdown",
   "metadata": {},
   "source": [
    "<font size=4>Set membership (*e.g.*, $x \\in S$), subset ($A \\subset B$), and superset ($B \\supset A$) concepts are often critical in proofs, either as goals in themselves or as conditions or assumptions appearing in a proof. This ``_demonstrations_`` notebook explores subset ($\\subset$), and superset ($\\supset$) expressions and related methods. (Set membership ($\\in$) itself is explored more thoroughly in its own ``_demonstrations_`` notebook in ``proveit.logic.set_theory.membership``)</font>"
   ]
  },
  {
   "cell_type": "markdown",
   "metadata": {},
   "source": [
    "## Simple Expressions Involving Membership ($\\in$), Subset ($\\subset$), and Superset ($\\supset$) <a id='simple_expressions'></a>"
   ]
  },
  {
   "cell_type": "markdown",
   "metadata": {},
   "source": [
    "<font size=4>It is straightforward to construct membership, subset, and superset expressions. Here are some basic examples of such expressions:</font>"
   ]
  },
  {
   "cell_type": "code",
   "execution_count": null,
   "metadata": {},
   "outputs": [],
   "source": [
    "# set membership\n",
    "InSet(x, A)"
   ]
  },
  {
   "cell_type": "code",
   "execution_count": null,
   "metadata": {},
   "outputs": [],
   "source": [
    "# proper subset, 3 different ways\n",
    "example1, example2, example3 = Subset(A, B), SubsetProper(A, B), ProperSubset(A, B)"
   ]
  },
  {
   "cell_type": "code",
   "execution_count": null,
   "metadata": {},
   "outputs": [],
   "source": [
    "# improper subset\n",
    "SubsetEq(B, C)"
   ]
  },
  {
   "cell_type": "code",
   "execution_count": null,
   "metadata": {},
   "outputs": [],
   "source": [
    "# proper superset\n",
    "Superset(C, B)"
   ]
  },
  {
   "cell_type": "code",
   "execution_count": null,
   "metadata": {},
   "outputs": [],
   "source": [
    "# improper superset\n",
    "SupersetEq(C, B)"
   ]
  },
  {
   "cell_type": "code",
   "execution_count": null,
   "metadata": {},
   "outputs": [],
   "source": [
    "# not a proper subset\n",
    "NotSubset(D, E)"
   ]
  },
  {
   "cell_type": "code",
   "execution_count": null,
   "metadata": {},
   "outputs": [],
   "source": [
    "# not a subset\n",
    "NotSubsetEq(D, E)"
   ]
  },
  {
   "cell_type": "code",
   "execution_count": null,
   "metadata": {},
   "outputs": [],
   "source": [
    "# not a superset\n",
    "NotSupersetEq(D, E)"
   ]
  },
  {
   "cell_type": "markdown",
   "metadata": {},
   "source": [
    "<font size=4>At the time of this writing, there are plans to change some of the underlying functional terminology so that the proper subset ($\\subset$) is represented by the operation ``SubsetProper()`` or ``ProperSubset()`` instead of ``Subset()``, and the so-called “improper” subset ($\\subseteq$) will be represented by the relation ``Subset()``</font>"
   ]
  },
  {
   "cell_type": "markdown",
   "metadata": {},
   "source": [
    "## Common Attributes of a Subset expression <a id='common_attributes'></a>"
   ]
  },
  {
   "cell_type": "markdown",
   "metadata": {},
   "source": [
    "<font size=4>Let's define a simple example subset expression, $(A \\cap B) \\subseteq B$, and look at some of its attributes. (The results should be similar for proper subset ($\\subset$) and the various supersets ($\\supset$, $\\supseteq$) and their negations.)</font>"
   ]
  },
  {
   "cell_type": "code",
   "execution_count": null,
   "metadata": {},
   "outputs": [],
   "source": [
    "AandBSubsetOfB = SubsetEq(Intersect(A, B), B)"
   ]
  },
  {
   "cell_type": "code",
   "execution_count": null,
   "metadata": {},
   "outputs": [],
   "source": [
    "AandBSubsetOfB.exprInfo()"
   ]
  },
  {
   "cell_type": "markdown",
   "metadata": {},
   "source": [
    "<font size=4>We can access the left-hand and right-hand sides of such expressions, as well as the specific operator:</font>"
   ]
  },
  {
   "cell_type": "code",
   "execution_count": null,
   "metadata": {},
   "outputs": [],
   "source": [
    "AandBSubsetOfB.lhs"
   ]
  },
  {
   "cell_type": "code",
   "execution_count": null,
   "metadata": {},
   "outputs": [],
   "source": [
    "AandBSubsetOfB.rhs"
   ]
  },
  {
   "cell_type": "code",
   "execution_count": null,
   "metadata": {},
   "outputs": [],
   "source": [
    "AandBSubsetOfB.operator"
   ]
  },
  {
   "cell_type": "markdown",
   "metadata": {},
   "source": [
    "<font size=4>We can get both sides of the expression simultaneously (the operands of the $\\subseteq$ operator) as a tuple of expressions. We can also get a list of the variables and a separate list of the *free* variables in the expression (of course, in this expression, all the variables are also free variables):</font>"
   ]
  },
  {
   "cell_type": "code",
   "execution_count": null,
   "metadata": {},
   "outputs": [],
   "source": [
    "AandBSubsetOfB.operands"
   ]
  },
  {
   "cell_type": "code",
   "execution_count": null,
   "metadata": {},
   "outputs": [],
   "source": [
    "AandBSubsetOfB.usedVars()"
   ]
  },
  {
   "cell_type": "code",
   "execution_count": null,
   "metadata": {},
   "outputs": [],
   "source": [
    "AandBSubsetOfB.freeVars()"
   ]
  },
  {
   "cell_type": "markdown",
   "metadata": {},
   "source": [
    "<font size=4>Notice that our expression $(A \\cap B) \\subseteq B$ is always true, and Prove-It can automatically prove this:</font>"
   ]
  },
  {
   "cell_type": "code",
   "execution_count": null,
   "metadata": {},
   "outputs": [],
   "source": [
    "AandBSubsetOfBKnownTruth = AandBSubsetOfB.prove()"
   ]
  },
  {
   "cell_type": "markdown",
   "metadata": {},
   "source": [
    "<font size=4>A peek at the proof shows that Prove-It has applied the ``foldSubsetEq`` theorem:<br>\n",
    "> $\\forall_{A,B} \\left([\\forall_{x\\in A}(x\\in B)] \\implies (A \\subseteq B)\\right)$<br>\n",
    "    \n",
    "by using a suitable specialization to get something like this:<br>\n",
    "> $[\\forall_{x\\in A\\cap B}(x\\in B)] \\implies ((A\\cap B) \\subseteq B)$<br>\n",
    "\n",
    "See Line 3 in the proof below for the ``foldSubsetEq`` theorem, then Line 1 for the specialization step.</font>"
   ]
  },
  {
   "cell_type": "code",
   "execution_count": null,
   "metadata": {},
   "outputs": [],
   "source": [
    "AandBSubsetOfBKnownTruth.proof()"
   ]
  },
  {
   "cell_type": "markdown",
   "metadata": {},
   "source": [
    "<font size=4>And we can ``unfold()`` the subset expression to produce an equivalent known truth in terms of set memberships. Notice here that the ``unfold()`` process *automatically* produces a Known Truth instead of just another expression (and it would have done this even if we had not previously proven the expression to be true):</font>"
   ]
  },
  {
   "cell_type": "code",
   "execution_count": null,
   "metadata": {},
   "outputs": [],
   "source": [
    "# the original expression\n",
    "AandBSubsetOfB"
   ]
  },
  {
   "cell_type": "code",
   "execution_count": null,
   "metadata": {},
   "outputs": [],
   "source": [
    "# unfold to express in terms of set memberships\n",
    "AandBSubsetOfB.unfold()"
   ]
  },
  {
   "cell_type": "markdown",
   "metadata": {},
   "source": [
    "## Axioms <a id='axioms'></a>"
   ]
  },
  {
   "cell_type": "markdown",
   "metadata": {},
   "source": [
    "<font size=4>The ``axioms`` for containment establish the basic definitions of subset ($\\subseteq$), proper subset ($\\subset$), superset ($\\supset$), *etc.*</font>"
   ]
  },
  {
   "cell_type": "code",
   "execution_count": null,
   "metadata": {},
   "outputs": [],
   "source": [
    "# def of (non-proper) subset\n",
    "subsetEqDef"
   ]
  },
  {
   "cell_type": "code",
   "execution_count": null,
   "metadata": {},
   "outputs": [],
   "source": [
    "# def of (proper) subset\n",
    "subsetDef"
   ]
  },
  {
   "cell_type": "code",
   "execution_count": null,
   "metadata": {},
   "outputs": [],
   "source": [
    "# def of (non-proper) superset\n",
    "supersetEqDef"
   ]
  },
  {
   "cell_type": "code",
   "execution_count": null,
   "metadata": {},
   "outputs": [],
   "source": [
    "# def of (proper) superset\n",
    "supersetDef"
   ]
  },
  {
   "cell_type": "code",
   "execution_count": null,
   "metadata": {},
   "outputs": [],
   "source": [
    "# negation of (non-proper) subset\n",
    "notSubsetEqDef"
   ]
  },
  {
   "cell_type": "code",
   "execution_count": null,
   "metadata": {},
   "outputs": [],
   "source": [
    "# negation of (proper) subset\n",
    "notSubsetDef"
   ]
  },
  {
   "cell_type": "code",
   "execution_count": null,
   "metadata": {},
   "outputs": [],
   "source": [
    "# negation of (non-proper) superset\n",
    "notSupersetEqDef"
   ]
  },
  {
   "cell_type": "code",
   "execution_count": null,
   "metadata": {},
   "outputs": [],
   "source": [
    "# negation of (proper) superset\n",
    "notSupersetDef"
   ]
  },
  {
   "cell_type": "markdown",
   "metadata": {},
   "source": [
    "<font size=4>As mentioned earlier in this notebook, we will likely be changing the underlying function call names for the proper and improper subsets, to better track with common usage.</font>"
   ]
  },
  {
   "cell_type": "markdown",
   "metadata": {},
   "source": [
    "## Demonstrations <a id='further_demonstrations'></a>"
   ]
  },
  {
   "cell_type": "markdown",
   "metadata": {},
   "source": [
    "<a id='demo01'></a><font size=4><font size=5>1. $(x\\in A) \\wedge (A \\subset B) \\Rightarrow x\\in B$.</font><br><br>\n",
    "We begin with some simple expressions involving well-known numerical sets.\n",
    "<br>Many standard subset and membership relationships involving common numerical sets are available as theorems.</font>"
   ]
  },
  {
   "cell_type": "code",
   "execution_count": null,
   "metadata": {},
   "outputs": [],
   "source": [
    "Subset(NaturalsPos, Naturals).prove()"
   ]
  },
  {
   "cell_type": "code",
   "execution_count": null,
   "metadata": {},
   "outputs": [],
   "source": [
    "Subset(Naturals, Integers).prove()"
   ]
  },
  {
   "cell_type": "code",
   "execution_count": null,
   "metadata": {},
   "outputs": [],
   "source": [
    "Subset(NaturalsPos, Integers).prove()"
   ]
  },
  {
   "cell_type": "code",
   "execution_count": null,
   "metadata": {},
   "outputs": [],
   "source": [
    "InSet(one, Naturals).prove()"
   ]
  },
  {
   "cell_type": "markdown",
   "metadata": {},
   "source": [
    "<font size=4>Given that $1 \\in \\mathbb{N}$ and $\\mathbb{N} \\subset \\mathbb{Z}$, we should be able to show that $1 \\in \\mathbb{Z}$, and Prove-It can do this automatically:</font>"
   ]
  },
  {
   "cell_type": "code",
   "execution_count": null,
   "metadata": {},
   "outputs": [],
   "source": [
    "oneIsAnInteger = InSet(one, Integers).prove()"
   ]
  },
  {
   "cell_type": "markdown",
   "metadata": {},
   "source": [
    "<font size=4>In the detailed proof of that conclusion, Prove-It specializes the ``unfoldSubsetEq`` theorem<br>\n",
    "> $\\forall_{A,B\\rvert A\\subseteq B} \\left[ \\forall_{x \\in A} (x \\in B) \\right]$\n",
    "    \n",
    "That theorem appears in Line 1 in the proof below. The ''fold'' and ''unfold'' language appears in theorems that ''fold'' or ''unfold'' axiomatic definitions, and in the cases of subsets ($\\subseteq$) and supersets ($\\supseteq$) move between set-containment versus element-membership notation.\n",
    "</font>"
   ]
  },
  {
   "cell_type": "code",
   "execution_count": null,
   "metadata": {},
   "outputs": [],
   "source": [
    "oneIsAnInteger.proof()"
   ]
  },
  {
   "cell_type": "markdown",
   "metadata": {},
   "source": [
    "<font size=4>That result can be obtained more generally for arbitrary sets $X$ and $Y$ any time we assume $X \\subset Y$ and $x \\in X$:\n",
    "</font>"
   ]
  },
  {
   "cell_type": "code",
   "execution_count": null,
   "metadata": {},
   "outputs": [],
   "source": [
    "# Define some conditions\n",
    "xInX, xProperSubsetOfy, xInY = InSet(x, X), Subset(X, Y), InSet(x, Y)"
   ]
  },
  {
   "cell_type": "code",
   "execution_count": null,
   "metadata": {},
   "outputs": [],
   "source": [
    "# bundle the first 2 conditions into a list of assumptions\n",
    "tempAssumptions = [xInX, xProperSubsetOfy]"
   ]
  },
  {
   "cell_type": "code",
   "execution_count": null,
   "metadata": {},
   "outputs": [],
   "source": [
    "# prove set membership based on the assumptions\n",
    "xInYKT = xInY.prove(tempAssumptions)"
   ]
  },
  {
   "cell_type": "markdown",
   "metadata": {},
   "source": [
    "<font size=4>And we can re-express that result in terms of implications:\n",
    "</font>"
   ]
  },
  {
   "cell_type": "code",
   "execution_count": null,
   "metadata": {},
   "outputs": [],
   "source": [
    "xInYKT.asImplication(hypothesis=Subset(X, Y))"
   ]
  },
  {
   "cell_type": "code",
   "execution_count": null,
   "metadata": {},
   "outputs": [],
   "source": [
    "xInYKT.asImplication(hypothesis=InSet(x, X))"
   ]
  },
  {
   "cell_type": "markdown",
   "metadata": {},
   "source": [
    "<a id='demo02'></a><font size=4><font size=5><br>2. $\\forall_{x\\in A}(x\\in B) \\Rightarrow (A \\subseteq B)$.</font><br><br>\n",
    "When we know that $x$ is in $B$ whenever $x$ is in $A$, we have $A \\subseteq B$. That is a theorem in Prove-It that can be specialized to prove a subset relationship for two arbitrary sets given the right conditions:</font>"
   ]
  },
  {
   "cell_type": "code",
   "execution_count": null,
   "metadata": {},
   "outputs": [],
   "source": [
    "# define our conclusion\n",
    "CSubsetOfD = SubsetEq(C, D)"
   ]
  },
  {
   "cell_type": "code",
   "execution_count": null,
   "metadata": {},
   "outputs": [],
   "source": [
    "# define our assumption (or perhaps this would be proven elsewhere first)\n",
    "tempAssumptions = [Forall(x, InSet(x,D), C)]"
   ]
  },
  {
   "cell_type": "code",
   "execution_count": null,
   "metadata": {},
   "outputs": [],
   "source": [
    "# prove the conclusion from the assumptions\n",
    "CSubsetOfD.prove(tempAssumptions)"
   ]
  },
  {
   "cell_type": "markdown",
   "metadata": {},
   "source": [
    "<font size=4>And we can re-express that known truth as a logical implication:</font>"
   ]
  },
  {
   "cell_type": "code",
   "execution_count": null,
   "metadata": {},
   "outputs": [],
   "source": [
    "CSubsetOfD.prove(tempAssumptions).asImplication(*tempAssumptions)"
   ]
  },
  {
   "cell_type": "markdown",
   "metadata": {},
   "source": [
    "<font size=4>Or we could have proven the implication form directly (shown here with new set variables $E$ and $F$ so as not to simply derive from the previous result):</font>"
   ]
  },
  {
   "cell_type": "code",
   "execution_count": null,
   "metadata": {},
   "outputs": [],
   "source": [
    "anImplication = Implies(Forall(x, InSet(x,F), E),SubsetEq(E,F))"
   ]
  },
  {
   "cell_type": "code",
   "execution_count": null,
   "metadata": {},
   "outputs": [],
   "source": [
    "anImplication.prove()"
   ]
  },
  {
   "cell_type": "markdown",
   "metadata": {},
   "source": [
    "<a id='demo03'></a><font size=4><font size=5><br>3. $(x\\in B) \\wedge (A \\supset B) \\Rightarrow (x \\in A)$.</font><br><br>\n",
    "This is a variant of demo 1 above. When we know that $x$ is in $B$ and $A$ contains $B$, then $x$ must also be in $A$.<br>\n",
    "Let's define some terms, let Prove-It prove the implication, then look at the proof:</font>"
   ]
  },
  {
   "cell_type": "code",
   "execution_count": null,
   "metadata": {},
   "outputs": [],
   "source": [
    "# define some expressions\n",
    "xInA, xInB, ASupersetOfB = InSet(x, A), InSet(x, B), Superset(A, B)"
   ]
  },
  {
   "cell_type": "code",
   "execution_count": null,
   "metadata": {},
   "outputs": [],
   "source": [
    "# establish the Known Truth\n",
    "xInAKT = xInA.prove([xInB, ASupersetOfB])"
   ]
  },
  {
   "cell_type": "markdown",
   "metadata": {},
   "source": [
    "<a id='demo03'></a><font size=4>In the proof, we see the relaxation theorem taking $A \\supset B$ to $A \\supseteq B$, and then the reversal theorem taking $A \\supseteq B$ to $B \\subseteq A$, then proceeding as it would for the example in Demo 01 above:</font>"
   ]
  },
  {
   "cell_type": "code",
   "execution_count": null,
   "metadata": {},
   "outputs": [],
   "source": [
    "# take a look at the proof:\n",
    "xInAKT.proof()"
   ]
  },
  {
   "cell_type": "markdown",
   "metadata": {},
   "source": [
    "<font size=4>Again, we can re-express that known truth as a logical implication:</font>"
   ]
  },
  {
   "cell_type": "code",
   "execution_count": null,
   "metadata": {},
   "outputs": [],
   "source": [
    "xInAKT.asImplication(hypothesis=xInB)"
   ]
  },
  {
   "cell_type": "code",
   "execution_count": null,
   "metadata": {},
   "outputs": [],
   "source": []
  },
  {
   "cell_type": "markdown",
   "metadata": {},
   "source": [
    "<a id='demo04'></a><font size=4><br><font size = 5>4. $\\forall_{x\\in Y}(x\\in X) \\Rightarrow (X \\supseteq Y)$</font>.<br><br>\n",
    "When we know that $x$ is in $X$ whenever $x$ is in $Y$, we have $X \\supseteq Y$ (*i.e.*, $X$ contains $Y$ or $X$ is a superset of $Y$). That is a theorem in Prove-It that can be specialized to prove a containment or superset relationship for two arbitrary sets given the right conditions:</font>"
   ]
  },
  {
   "cell_type": "code",
   "execution_count": null,
   "metadata": {},
   "outputs": [],
   "source": [
    "# our foldSupsetEq theorem\n",
    "foldSupsetEq"
   ]
  },
  {
   "cell_type": "code",
   "execution_count": null,
   "metadata": {},
   "outputs": [],
   "source": [
    "# specialize the foldSupsetEq theorem\n",
    "foldSupsetEqSpec = foldSupsetEq.specialize({A:X, B:Y})"
   ]
  },
  {
   "cell_type": "code",
   "execution_count": null,
   "metadata": {},
   "outputs": [],
   "source": [
    "# then we can even generalize back into universal X and Y\n",
    "foldSupsetEqSpec.generalize([X, Y])"
   ]
  },
  {
   "cell_type": "markdown",
   "metadata": {},
   "source": [
    "<a id='demo04'></a><font size=4>Alternatively we can prove the rhs of the implication\n",
    "given the antecedent as an assumption.</font>"
   ]
  },
  {
   "cell_type": "code",
   "execution_count": null,
   "metadata": {},
   "outputs": [],
   "source": [
    "# peel off our desired conclusion:\n",
    "XSupersetOfY = foldSupsetEqSpec.rhs"
   ]
  },
  {
   "cell_type": "code",
   "execution_count": null,
   "metadata": {},
   "outputs": [],
   "source": [
    "# prove our conclusion based on the antecedent\n",
    "XSupersetOfYKT = XSupersetOfY.prove([Forall(x, InSet(x, X), domain=Y)])"
   ]
  },
  {
   "cell_type": "markdown",
   "metadata": {},
   "source": [
    "<font size=4>And we can take a quick look at the simple proof, which also involves a specialization of that ``foldSupsetEq`` theorem and an application of *modus ponens:*</font>"
   ]
  },
  {
   "cell_type": "code",
   "execution_count": null,
   "metadata": {},
   "outputs": [],
   "source": [
    "XSupersetOfYKT.proof()"
   ]
  },
  {
   "cell_type": "markdown",
   "metadata": {},
   "source": [
    "<a id='demo05'></a><font size=4><br><font size = 5>5. Folding and Unfolding the Definitions of $\\not\\subseteq$ and $\\not\\supseteq$</font>.<br><br>\n",
    "$\\not\\subseteq$ is axiomatically defined by $\\forall_{A, B} (A\\not\\subseteq B) = \\neg(A \\subseteq B)$, and we have theorems to automatically fold and unfold the definition, allowing us to express and use the definition in a variety of ways. For example, we can automatically derive the statements that $\\{C\\not\\subseteq D\\} \\vdash \\neg(C\\subseteq D)$, and $\\{\\neg(C\\subseteq D)\\} \\vdash C\\not\\subseteq D$</font>"
   ]
  },
  {
   "cell_type": "code",
   "execution_count": null,
   "metadata": {},
   "outputs": [],
   "source": [
    "# unfold the definition to produce a new known truth\n",
    "NotSubsetEq(C, D).unfold([NotSubsetEq(C, D)])"
   ]
  },
  {
   "cell_type": "code",
   "execution_count": null,
   "metadata": {},
   "outputs": [],
   "source": [
    "# or automatically fold the definition when deriving the alternative known truth\n",
    "NotSubsetEqKT = NotSubsetEq(C, D).prove([Not(SubsetEq(C, D))])"
   ]
  },
  {
   "cell_type": "markdown",
   "metadata": {},
   "source": [
    "<font size=4>In the proof for that second derivation, we see the use of the ``foldNotSubsetEq`` theorem, which we can manually invoke and specialize to accomplish the same thing:</font>"
   ]
  },
  {
   "cell_type": "code",
   "execution_count": null,
   "metadata": {},
   "outputs": [],
   "source": [
    "# the theorem\n",
    "foldNotSubsetEq"
   ]
  },
  {
   "cell_type": "code",
   "execution_count": null,
   "metadata": {},
   "outputs": [],
   "source": [
    "# specialization\n",
    "foldNotSubsetEqSpec = foldNotSubsetEq.specialize({A:C, B:D}, assumptions=[Not(SubsetEq(C, D))])"
   ]
  },
  {
   "cell_type": "markdown",
   "metadata": {},
   "source": [
    "<font size=4>We can look at the proof resulting from the earlier automated ``prove()`` approach and see the same steps reflected in the automation:</font>"
   ]
  },
  {
   "cell_type": "code",
   "execution_count": null,
   "metadata": {},
   "outputs": [],
   "source": [
    "NotSubsetEqKT.proof()"
   ]
  },
  {
   "cell_type": "markdown",
   "metadata": {},
   "source": [
    "<font size=4>And of course we have similar fold and unfold theorems for the negated superset or negated containment relation $\\not\\supseteq$. For example:</font>"
   ]
  },
  {
   "cell_type": "code",
   "execution_count": null,
   "metadata": {},
   "outputs": [],
   "source": [
    "# unfold the definition to produce a new known truth\n",
    "NotSupersetEq(C, D).unfold([NotSupersetEq(C, D)])"
   ]
  },
  {
   "cell_type": "code",
   "execution_count": null,
   "metadata": {},
   "outputs": [],
   "source": [
    "# or automatically fold the definition when deriving the alternative known truth\n",
    "NotSupersetEqKT = NotSupersetEq(C, D).prove([Not(SupersetEq(C, D))])"
   ]
  },
  {
   "cell_type": "markdown",
   "metadata": {},
   "source": [
    "## Older Material Still Being Re-Integrated"
   ]
  },
  {
   "cell_type": "code",
   "execution_count": null,
   "metadata": {},
   "outputs": [],
   "source": [
    "Superset(B,A).prove([Subset(A,B)]).proof()"
   ]
  },
  {
   "cell_type": "code",
   "execution_count": null,
   "metadata": {},
   "outputs": [],
   "source": [
    "SupersetEq(B,A).prove([SubsetEq(A,B)]).proof()"
   ]
  },
  {
   "cell_type": "code",
   "execution_count": null,
   "metadata": {},
   "outputs": [],
   "source": [
    "Subset(B,A).prove([Superset(A,B)]).proof()"
   ]
  },
  {
   "cell_type": "code",
   "execution_count": null,
   "metadata": {},
   "outputs": [],
   "source": [
    "SubsetEq(B,A).prove([SupersetEq(A,B)]).proof()"
   ]
  },
  {
   "cell_type": "code",
   "execution_count": null,
   "metadata": {},
   "outputs": [],
   "source": [
    "SubsetEq(A,B).prove([Subset(A,B)]).proof()"
   ]
  },
  {
   "cell_type": "code",
   "execution_count": null,
   "metadata": {},
   "outputs": [],
   "source": [
    "SupersetEq(A,B).prove([Superset(A,B)]).proof()"
   ]
  },
  {
   "cell_type": "code",
   "execution_count": null,
   "metadata": {},
   "outputs": [],
   "source": [
    "SubsetEq(A,B).prove([Equals(A, B)]).proof()"
   ]
  },
  {
   "cell_type": "code",
   "execution_count": null,
   "metadata": {},
   "outputs": [],
   "source": [
    "SupersetEq(A,B).prove([Equals(A,B)]).proof()"
   ]
  },
  {
   "cell_type": "code",
   "execution_count": null,
   "metadata": {},
   "outputs": [],
   "source": [
    "Subset(A,B).applyTransitivity(Subset(B,C), assumptions=[Subset(A,B), Subset(B,C)]).proof()"
   ]
  },
  {
   "cell_type": "code",
   "execution_count": null,
   "metadata": {},
   "outputs": [],
   "source": [
    "SubsetEq(A,B).applyTransitivity(Subset(B,C), assumptions=[SubsetEq(A,B), Subset(B,C)]).proof()"
   ]
  },
  {
   "cell_type": "code",
   "execution_count": null,
   "metadata": {},
   "outputs": [],
   "source": [
    "Subset(A,B).applyTransitivity(SubsetEq(B,C), assumptions=[Subset(A,B), SubsetEq(B,C)]).proof()"
   ]
  },
  {
   "cell_type": "code",
   "execution_count": null,
   "metadata": {},
   "outputs": [],
   "source": [
    "SubsetEq(A,B).applyTransitivity(SubsetEq(B,C), assumptions=[SubsetEq(A,B), SubsetEq(B,C)]).proof()"
   ]
  },
  {
   "cell_type": "code",
   "execution_count": null,
   "metadata": {},
   "outputs": [],
   "source": [
    "Superset(A,B).applyTransitivity(Superset(B,C), assumptions=[Superset(A,B), Superset(B,C)]).proof()"
   ]
  },
  {
   "cell_type": "code",
   "execution_count": null,
   "metadata": {},
   "outputs": [],
   "source": [
    "SubsetEq(A,B).applyTransitivity(Subset(B,C), assumptions=[SubsetEq(A,B), Subset(B,C)]).proof()"
   ]
  },
  {
   "cell_type": "code",
   "execution_count": null,
   "metadata": {},
   "outputs": [],
   "source": [
    "Subset(A,B).applyTransitivity(SubsetEq(B,C), assumptions=[Subset(A,B), SubsetEq(B,C)]).proof()"
   ]
  },
  {
   "cell_type": "code",
   "execution_count": null,
   "metadata": {},
   "outputs": [],
   "source": [
    "SubsetEq(A,B).applyTransitivity(SubsetEq(B,C), assumptions=[SubsetEq(A,B), SubsetEq(B,C)]).proof()"
   ]
  },
  {
   "cell_type": "code",
   "execution_count": null,
   "metadata": {},
   "outputs": [],
   "source": [
    "# some testing of the ProperSubset class\n",
    "exampleProperSubset = ProperSubset(A, B)"
   ]
  },
  {
   "cell_type": "code",
   "execution_count": null,
   "metadata": {},
   "outputs": [],
   "source": [
    "exampleProperSubset.deriveRelaxed(assumptions=[exampleProperSubset])"
   ]
  },
  {
   "cell_type": "code",
   "execution_count": null,
   "metadata": {},
   "outputs": [],
   "source": [
    "exampleProperSubset.deriveReversed(assumptions=[exampleProperSubset])"
   ]
  },
  {
   "cell_type": "code",
   "execution_count": null,
   "metadata": {},
   "outputs": [],
   "source": [
    "# some testing of the NotProperSubset class\n",
    "exampleNotProperSubset = NotProperSubset(C, D)"
   ]
  },
  {
   "cell_type": "code",
   "execution_count": null,
   "metadata": {},
   "outputs": [],
   "source": [
    "exampleNotProperSubset.unfold([exampleNotProperSubset])"
   ]
  },
  {
   "cell_type": "code",
   "execution_count": null,
   "metadata": {},
   "outputs": [],
   "source": [
    "exampleNotProperSubset.concludeAsFolded([Not(ProperSubset(C, D))])"
   ]
  },
  {
   "cell_type": "code",
   "execution_count": null,
   "metadata": {},
   "outputs": [],
   "source": [
    "# some testing of the ProperSuperset class\n",
    "exampleProperSuperset = ProperSuperset(A, B)"
   ]
  },
  {
   "cell_type": "code",
   "execution_count": null,
   "metadata": {},
   "outputs": [],
   "source": [
    "exampleProperSuperset.deriveReversed(assumptions=[exampleProperSuperset])"
   ]
  },
  {
   "cell_type": "code",
   "execution_count": null,
   "metadata": {},
   "outputs": [],
   "source": [
    "exampleProperSuperset.deriveRelaxed([exampleProperSuperset])"
   ]
  },
  {
   "cell_type": "code",
   "execution_count": null,
   "metadata": {},
   "outputs": [],
   "source": [
    "%end demonstrations"
   ]
  }
 ],
 "metadata": {
  "kernelspec": {
   "display_name": "Python 3",
   "language": "python",
   "name": "python3"
  }
 },
 "nbformat": 4,
 "nbformat_minor": 0
}
