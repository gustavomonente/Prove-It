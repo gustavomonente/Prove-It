{
 "cells": [
  {
   "cell_type": "markdown",
   "metadata": {},
   "source": [
    "Demonstrations for context <a class=\"ProveItLink\" href=\"_context_.ipynb\">proveit.logic.set_theory.containment</a>\n",
    "========"
   ]
  },
  {
   "cell_type": "code",
   "execution_count": null,
   "metadata": {},
   "outputs": [],
   "source": [
    "import proveit\n",
    "from proveit import ProofFailure\n",
    "from proveit._common_ import x, y, A, B, C, D, E, F, X, Y, AA\n",
    "from proveit.logic import Equals, Forall, Implies, InSet, Not, NotInSet, Set\n",
    "from proveit.logic import (Intersect, NotProperSubset, NotSubset,\n",
    "                           NotSubsetEq, NotSuperset, NotSupersetEq,\n",
    "                           ProperSubset, ProperSuperset, Subset, SubsetEq,\n",
    "                           SubsetProper, Superset, SupersetEq)\n",
    "from proveit.number import zero, one, two, three, four, five\n",
    "from proveit.number import (Integers, Naturals, NaturalsPos, Reals,\n",
    "                            RealsNeg, RealsPos)\n",
    "from proveit.number.sets.real._theorems_ import intsInReals\n",
    "from proveit.logic.set_theory.containment._axioms_ import (\n",
    "        notSubsetDef, subsetDef, subsetEqDef, supersetDef, supersetEqDef)\n",
    "from proveit.logic.set_theory.containment._theorems_ import (\n",
    "        foldNotSubsetEq, foldSupsetEq, reverseSubset)\n",
    "%begin demonstrations"
   ]
  },
  {
   "cell_type": "markdown",
   "metadata": {},
   "source": [
    "# Containment $\\in$, $\\subset$, $\\subseteq$, $\\supset$, $\\supseteq$"
   ]
  },
  {
   "cell_type": "markdown",
   "metadata": {},
   "source": [
    "<div style=\"line-height:1.4; font-size:14pt\">\n",
    "\n",
    "<a href='#introduction'>Introduction</a><br>\n",
    "<a href='#simple_expressions'>Simple Expressions involving Membership $(\\in)$, Subsets $(\\subset, \\subseteq)$, and Supersets $(\\supset, \\supseteq )$</a><br>\n",
    "<a href='#common_attributes'>Common Attributes of the Subset $(\\subseteq)$ Expression</a><br>\n",
    "<a href='#axioms'>Axioms</a><br>\n",
    "<a href='#theorems_and_conjectures'>Theorems & Conjectures</a><br>\n",
    "<a href='#further_demonstrations'>Further Demonstrations</a><br>\n",
    "    <ol>\n",
    "        <li><a href='#demo01'>$(x\\in A)\\wedge(A\\subset B)\\Rightarrow (x\\in B)$</a></li>\n",
    "        <li><a href='#demo02'>$\\forall_{x\\in A}(x\\in B) \\Rightarrow (A \\subseteq B)$</a></li>\n",
    "        <li><a href='#demo03'>$(x\\in B)\\wedge(A\\supset B)\\Rightarrow (x\\in A)$</a></li>\n",
    "        <li><a href='#demo04'>$\\forall_{x\\in Y}(x\\in X) \\Rightarrow (X \\supseteq Y)$</a></li>\n",
    "        <li><a href='#demo05'>Folding and Unfolding the Definitions of $\\not\\subseteq$ and $\\not\\supseteq$</a>\n",
    "        <li><a href='#demo06'>Containment Reversals (such as $A \\subset B \\Rightarrow B \\supset A$)</a></li>\n",
    "        <li><a href='#demo07'>Deducing $\\{1, 3\\} \\subset \\{1, 2, 3, 4, 5\\}$</a></li>\n",
    "        <li><a href='#demo08'>Manually Proving $\\{1, 3, 5\\} \\subseteq \\{1, 2, 3, 4, 5\\}$</a></li>\n",
    "    </ol>\n",
    "<a href='#miscellaneous_testing'>Miscellaneous Testing</a><br>\n",
    "</div>\n"
   ]
  },
  {
   "cell_type": "markdown",
   "metadata": {},
   "source": [
    "## Introduction <a id='introduction'></a>"
   ]
  },
  {
   "cell_type": "markdown",
   "metadata": {},
   "source": [
    "<font size=3>Set membership (*e.g.*, $x \\in S$), subset ($A \\subset B$), and superset ($B \\supset A$) concepts are often critical in proofs, either as goals in themselves or as conditions or assumptions appearing in a proof. This ``_demonstrations_`` notebook explores subset ($\\subset$), and superset ($\\supset$) expressions and related methods. (Set membership ($\\in$) itself is explored more thoroughly in its own ``_demonstrations_`` notebook in ``proveit.logic.set_theory.membership``)</font>"
   ]
  },
  {
   "cell_type": "markdown",
   "metadata": {},
   "source": [
    "## Simple Expressions Involving Membership ($\\in$), Subsets ($\\subset$, $\\subseteq$), and Supersets ($\\supset$, $\\supseteq$) <a id='simple_expressions'></a>"
   ]
  },
  {
   "cell_type": "markdown",
   "metadata": {},
   "source": [
    "<font size=3>It is straightforward to construct membership, subset, and superset expressions. Here are some basic examples of such expressions:</font>"
   ]
  },
  {
   "cell_type": "code",
   "execution_count": null,
   "metadata": {},
   "outputs": [],
   "source": [
    "# a simple set membership claim\n",
    "InSet(x, A)"
   ]
  },
  {
   "cell_type": "code",
   "execution_count": null,
   "metadata": {},
   "outputs": [],
   "source": [
    "# proper subset claims, 3 different options\n",
    "example_1, example_2, example_3 = Subset(A, B), SubsetProper(A, B), ProperSubset(A, B)"
   ]
  },
  {
   "cell_type": "code",
   "execution_count": null,
   "metadata": {},
   "outputs": [],
   "source": [
    "# improper subset\n",
    "SubsetEq(B, C)"
   ]
  },
  {
   "cell_type": "code",
   "execution_count": null,
   "metadata": {},
   "outputs": [],
   "source": [
    "# proper superset\n",
    "ProperSuperset(C, B)"
   ]
  },
  {
   "cell_type": "code",
   "execution_count": null,
   "metadata": {},
   "outputs": [],
   "source": [
    "# improper superset\n",
    "SupersetEq(C, B)"
   ]
  },
  {
   "cell_type": "code",
   "execution_count": null,
   "metadata": {},
   "outputs": [],
   "source": [
    "# not a proper subset\n",
    "NotProperSubset(D, E)"
   ]
  },
  {
   "cell_type": "code",
   "execution_count": null,
   "metadata": {},
   "outputs": [],
   "source": [
    "# not a subset\n",
    "NotSubsetEq(D, E)"
   ]
  },
  {
   "cell_type": "code",
   "execution_count": null,
   "metadata": {},
   "outputs": [],
   "source": [
    "# not a proper superset\n",
    "NotSuperset(D, E)"
   ]
  },
  {
   "cell_type": "code",
   "execution_count": null,
   "metadata": {},
   "outputs": [],
   "source": [
    "# not a superset\n",
    "NotSupersetEq(D, E)"
   ]
  },
  {
   "cell_type": "markdown",
   "metadata": {},
   "source": [
    "<font size=3>At the time of this writing, portions of Prove-It code might still have the more ambiguous `Subset` notation or terminology, but in general we will use `SubsetEq()` to form general or “improper” subset expressions (*e.g.*, $A \\subseteq$ B) and `ProperSubset()` or `SubsetProper()` to form “proper” or “strict” subset expressions (such as $A \\subset$ B), with similar notation used for the negations.</font>"
   ]
  },
  {
   "cell_type": "markdown",
   "metadata": {},
   "source": [
    "## Common Attributes of a Subset expression <a id='common_attributes'></a>"
   ]
  },
  {
   "cell_type": "markdown",
   "metadata": {},
   "source": [
    "<font size=3>Let's define a simple example subset expression, $(A \\cap B) \\subseteq B$, and look at some of its attributes. (The results should be similar for proper subset ($\\subset$) and the various supersets ($\\supset$, $\\supseteq$) and their negations.)</font>"
   ]
  },
  {
   "cell_type": "code",
   "execution_count": null,
   "metadata": {},
   "outputs": [],
   "source": [
    "# define a subset expression\n",
    "A_intersect_B_subset_of_B = SubsetEq(Intersect(A, B), B)"
   ]
  },
  {
   "cell_type": "markdown",
   "metadata": {},
   "source": [
    "<font size=3>We can look at the construction of such an expression by calling <font style=\"font-family:courier\">exprInfo()</font> to see the tabular representation of the expression's underlying directed acyclic graph (DAG) representation:</font>"
   ]
  },
  {
   "cell_type": "code",
   "execution_count": null,
   "metadata": {},
   "outputs": [],
   "source": [
    "A_intersect_B_subset_of_B.exprInfo()"
   ]
  },
  {
   "cell_type": "markdown",
   "metadata": {},
   "source": [
    "<font size=3>We can access the left-hand and right-hand sides of such expressions, as well as the specific operator:</font>"
   ]
  },
  {
   "cell_type": "code",
   "execution_count": null,
   "metadata": {},
   "outputs": [],
   "source": [
    "A_intersect_B_subset_of_B.lhs"
   ]
  },
  {
   "cell_type": "code",
   "execution_count": null,
   "metadata": {},
   "outputs": [],
   "source": [
    "A_intersect_B_subset_of_B.rhs"
   ]
  },
  {
   "cell_type": "code",
   "execution_count": null,
   "metadata": {},
   "outputs": [],
   "source": [
    "A_intersect_B_subset_of_B.operator"
   ]
  },
  {
   "cell_type": "markdown",
   "metadata": {},
   "source": [
    "<font size=3>We can get both sides of the expression simultaneously (the operands of the $\\subseteq$ operator) as a tuple of expressions. We can also get a list of the variables and a separate list of the *free* variables in the expression (of course, in this expression, all the variables are also free variables):</font>"
   ]
  },
  {
   "cell_type": "code",
   "execution_count": null,
   "metadata": {},
   "outputs": [],
   "source": [
    "A_intersect_B_subset_of_B.operands"
   ]
  },
  {
   "cell_type": "code",
   "execution_count": null,
   "metadata": {},
   "outputs": [],
   "source": [
    "A_intersect_B_subset_of_B.usedVars()"
   ]
  },
  {
   "cell_type": "code",
   "execution_count": null,
   "metadata": {},
   "outputs": [],
   "source": [
    "A_intersect_B_subset_of_B.freeVars()"
   ]
  },
  {
   "cell_type": "markdown",
   "metadata": {},
   "source": [
    "<font size=3>By the way, notice that our expression $(A \\cap B) \\subseteq B$ is always true, and Prove-It can automatically prove this:</font>"
   ]
  },
  {
   "cell_type": "code",
   "execution_count": null,
   "metadata": {},
   "outputs": [],
   "source": [
    "A_intersect_B_subset_of_B_known_truth = A_intersect_B_subset_of_B.prove()"
   ]
  },
  {
   "cell_type": "markdown",
   "metadata": {},
   "source": [
    "<font size=3>A peek at the proof shows that Prove-It has applied the ``foldSubsetEq`` theorem:<br>\n",
    "> $\\forall_{A,B} \\left([\\forall_{x\\in A}(x\\in B)] \\implies (A \\subseteq B)\\right)$<br>\n",
    "    \n",
    "by using a suitable specialization to get something like this:<br>\n",
    "> $[\\forall_{x\\in A\\cap B}(x\\in B)] \\implies ((A\\cap B) \\subseteq B)$<br>\n",
    "\n",
    "See Line 3 in the proof below for the ``foldSubsetEq`` theorem, then Line 1 for the specialization step.</font>"
   ]
  },
  {
   "cell_type": "code",
   "execution_count": null,
   "metadata": {},
   "outputs": [],
   "source": [
    "A_intersect_B_subset_of_B_known_truth.proof()"
   ]
  },
  {
   "cell_type": "markdown",
   "metadata": {},
   "source": [
    "<font size=3>And we can ``unfold()`` the subset expression to produce an equivalent known truth in terms of set memberships. Notice here that the ``unfold()`` process *automatically* produces a Known Truth instead of just another expression (and it would have done this even if we had not previously proven the expression to be true):</font>"
   ]
  },
  {
   "cell_type": "code",
   "execution_count": null,
   "metadata": {},
   "outputs": [],
   "source": [
    "# the original expression\n",
    "A_intersect_B_subset_of_B"
   ]
  },
  {
   "cell_type": "code",
   "execution_count": null,
   "metadata": {},
   "outputs": [],
   "source": [
    "# unfold to express in terms of set memberships\n",
    "A_intersect_B_subset_of_B.unfold()"
   ]
  },
  {
   "cell_type": "markdown",
   "metadata": {},
   "source": [
    "## Axioms <a id='axioms'></a>"
   ]
  },
  {
   "cell_type": "markdown",
   "metadata": {},
   "source": [
    "<font size=3>The ``axioms`` for containment establish the basic definitions of subset ($\\subseteq$), proper subset ($\\subset$), proper superset ($\\supset$), *etc.* A few of the axioms are shown below as illustrations (the rest can be accessed on the [containment axioms](./_axioms_.ipynb) page.)</font>"
   ]
  },
  {
   "cell_type": "code",
   "execution_count": null,
   "metadata": {},
   "outputs": [],
   "source": [
    "# def of (non-proper) subset\n",
    "subsetEqDef"
   ]
  },
  {
   "cell_type": "code",
   "execution_count": null,
   "metadata": {},
   "outputs": [],
   "source": [
    "# def of (proper) subset\n",
    "subsetDef"
   ]
  },
  {
   "cell_type": "code",
   "execution_count": null,
   "metadata": {},
   "outputs": [],
   "source": [
    "# def of (non-proper) superset\n",
    "supersetEqDef"
   ]
  },
  {
   "cell_type": "code",
   "execution_count": null,
   "metadata": {},
   "outputs": [],
   "source": [
    "# negation of (proper) subset\n",
    "notSubsetDef"
   ]
  },
  {
   "cell_type": "markdown",
   "metadata": {},
   "source": [
    "## Theorems & Conjectures<a id='theorems_and_conjectures'></a>"
   ]
  },
  {
   "cell_type": "markdown",
   "metadata": {},
   "source": [
    "<font size=3>The `logic/set_theory/containment` context already has a substantial number of related theorems and conjectures established, covering a wide range of containment-related concepts, most of which would typically be used implicitly behind-the-scenes when utilizing the various related containment class methods instead of being used directly and explicitly in theorem form. The theorems and conjectures cover topics such as transitivity of containment relations, folding/unfolding of containment definitions, relaxation of strict containments, and containment claims being Boolean. Some illustrative examples of the theorems are shown below, and the remainder can be found in the [containment theorems notebook](./\\_theorems\\_.ipynb).</font>"
   ]
  },
  {
   "cell_type": "code",
   "execution_count": null,
   "metadata": {},
   "outputs": [],
   "source": [
    "from proveit.logic.set_theory.containment._theorems_ import (\n",
    "        unfoldSubsetEq, foldSubsetEq, subsetEqReflexive, reverseSupsetEq,\n",
    "        relaxSubset, transitivitySubsetEqSubsetEq, subsetInBool)"
   ]
  },
  {
   "cell_type": "code",
   "execution_count": null,
   "metadata": {},
   "outputs": [],
   "source": [
    "# if A is a (non-strict) subset of B, then\n",
    "# every element of A is also an element of B\n",
    "unfoldSubsetEq"
   ]
  },
  {
   "cell_type": "code",
   "execution_count": null,
   "metadata": {},
   "outputs": [],
   "source": [
    "# if every element of A is also an element of B,\n",
    "# then A is a (non-strict) subset of B\n",
    "foldSubsetEq"
   ]
  },
  {
   "cell_type": "code",
   "execution_count": null,
   "metadata": {},
   "outputs": [],
   "source": [
    "# a set is always a (non-strict) subset of itself\n",
    "subsetEqReflexive"
   ]
  },
  {
   "cell_type": "code",
   "execution_count": null,
   "metadata": {},
   "outputs": [],
   "source": [
    "# supersets and subsets are related to each other in the\n",
    "# expected way\n",
    "reverseSupsetEq"
   ]
  },
  {
   "cell_type": "code",
   "execution_count": null,
   "metadata": {},
   "outputs": [],
   "source": [
    "# we can \"relax\" a strict subset claim into an improper subset claim\n",
    "relaxSubset"
   ]
  },
  {
   "cell_type": "code",
   "execution_count": null,
   "metadata": {},
   "outputs": [],
   "source": [
    "# the subset relation is transitive\n",
    "transitivitySubsetEqSubsetEq"
   ]
  },
  {
   "cell_type": "code",
   "execution_count": null,
   "metadata": {},
   "outputs": [],
   "source": [
    "# a subset claim is a Boolean\n",
    "subsetInBool"
   ]
  },
  {
   "cell_type": "markdown",
   "metadata": {},
   "source": [
    "## Demonstrations <a id='further_demonstrations'></a>"
   ]
  },
  {
   "cell_type": "markdown",
   "metadata": {},
   "source": [
    "<div style=\"width: 90%; border: 5px solid green; padding: 10px; margin: 0px;\"><a id='demo01'></a><font size=4><font size=4><b>1.</b> Some subset relationships among standard numerical sets, deducing some standard memberships, and deriving $\\{x\\in A, A \\subseteq B\\} \\vdash x\\in B$.</font></div><br>\n",
    "<font size=3>We begin with some simple expressions involving well-known numerical sets. Many standard subset and membership relationships involving common numerical sets are available as theorems, with many such theorems automatically imported and utilized. For example:</font>"
   ]
  },
  {
   "cell_type": "code",
   "execution_count": null,
   "metadata": {},
   "outputs": [],
   "source": [
    "Subset(NaturalsPos, Naturals).prove()"
   ]
  },
  {
   "cell_type": "code",
   "execution_count": null,
   "metadata": {},
   "outputs": [],
   "source": [
    "Subset(Naturals, Integers).prove()"
   ]
  },
  {
   "cell_type": "code",
   "execution_count": null,
   "metadata": {},
   "outputs": [],
   "source": [
    "Subset(NaturalsPos, Integers).prove()"
   ]
  },
  {
   "cell_type": "code",
   "execution_count": null,
   "metadata": {},
   "outputs": [],
   "source": [
    "InSet(one, Naturals).prove()"
   ]
  },
  {
   "cell_type": "markdown",
   "metadata": {},
   "source": [
    "<font size=3>Given that $1 \\in \\mathbb{N}$ and $\\mathbb{N} \\subset \\mathbb{Z}$, we should be able to show that $1 \\in \\mathbb{Z}$, and Prove-It can do this automatically:</font>"
   ]
  },
  {
   "cell_type": "code",
   "execution_count": null,
   "metadata": {},
   "outputs": [],
   "source": [
    "oneIsAnInteger = InSet(one, Integers).prove()"
   ]
  },
  {
   "cell_type": "markdown",
   "metadata": {},
   "source": [
    "<font size=3>In the detailed proof of that conclusion, Prove-It specializes the ``unfoldSubsetEq`` theorem<br>\n",
    "> $\\forall_{A,B\\rvert A\\subseteq B} \\left[ \\forall_{x \\in A} (x \\in B) \\right]$\n",
    "    \n",
    "to eliminate both universal quantifiers by instantiating $A$ to $\\mathbb{N^{+}}$, $B$ to $\\mathbb{Z}$, and $x$ to $1$. The theorem appears in Line 1 in the proof below. The ''fold'' and ''unfold'' language often appears in theorems that ''fold'' or ''unfold'' axiomatic definitions, and here in the cases of subsets ($\\subseteq$) and supersets ($\\supseteq$) move between set-containment versus element-membership notation.<br/>\n",
    "Notice also the ``relaxSubset`` theorem cited on line 4 and specialized on line 2, illustrating the use of another containment-related theorem in the proof process.\n",
    "</font>"
   ]
  },
  {
   "cell_type": "code",
   "execution_count": null,
   "metadata": {},
   "outputs": [],
   "source": [
    "oneIsAnInteger.proof()"
   ]
  },
  {
   "cell_type": "markdown",
   "metadata": {},
   "source": [
    "<font size=3>As an exercise, we can obtain the result more generally for arbitrary sets $X$ and $Y$ any time we assume $X \\subseteq Y$ and $x \\in X$:\n",
    "</font>"
   ]
  },
  {
   "cell_type": "code",
   "execution_count": null,
   "metadata": {},
   "outputs": [],
   "source": [
    "# Define some conditions\n",
    "xInX, xSubsetEqOfy, xInY = InSet(x, X), SubsetEq(X, Y), InSet(x, Y)"
   ]
  },
  {
   "cell_type": "code",
   "execution_count": null,
   "metadata": {},
   "outputs": [],
   "source": [
    "# bundle the first 2 conditions into a list of assumptions\n",
    "demo_01_assumptions = [xInX, xSubsetEqOfy]"
   ]
  },
  {
   "cell_type": "code",
   "execution_count": null,
   "metadata": {},
   "outputs": [],
   "source": [
    "# prove set membership based on the assumptions\n",
    "xInYKT = xInY.prove(demo_01_assumptions)"
   ]
  },
  {
   "cell_type": "markdown",
   "metadata": {},
   "source": [
    "<font size=3>As an extra step, we can also re-express that result in terms of implications:\n",
    "</font>"
   ]
  },
  {
   "cell_type": "code",
   "execution_count": null,
   "metadata": {},
   "outputs": [],
   "source": [
    "xInYKT.asImplication(hypothesis=SubsetEq(X, Y))"
   ]
  },
  {
   "cell_type": "code",
   "execution_count": null,
   "metadata": {},
   "outputs": [],
   "source": [
    "xInYKT.asImplication(hypothesis=InSet(x, X))"
   ]
  },
  {
   "cell_type": "markdown",
   "metadata": {},
   "source": [
    "<div style=\"width: 90%; border: 5px solid green; padding: 10px; margin: 0px;\"><a id='demo02'></a><font size=4><font size=4><b>2.</b> $\\forall_{x\\in A}(x\\in B) \\Rightarrow (A \\subseteq B)$.</font></div><br>\n",
    "<font size=\"3\">When we know that $x$ is in $B$ whenever $x$ is in $A$, we have $A \\subseteq B$. That is a theorem in Prove-It that can be specialized to prove a subset relationship for two arbitrary sets given the right conditions:</font>"
   ]
  },
  {
   "cell_type": "code",
   "execution_count": null,
   "metadata": {},
   "outputs": [],
   "source": [
    "# define our conclusion\n",
    "CSubsetOfD = SubsetEq(C, D)"
   ]
  },
  {
   "cell_type": "code",
   "execution_count": null,
   "metadata": {},
   "outputs": [],
   "source": [
    "# define our assumption (or perhaps this would be proven elsewhere first)\n",
    "demo_02_assumptions = [Forall(x, InSet(x,D), C)]"
   ]
  },
  {
   "cell_type": "code",
   "execution_count": null,
   "metadata": {},
   "outputs": [],
   "source": [
    "# prove the conclusion from the assumptions\n",
    "CSubsetOfD.prove(demo_02_assumptions)"
   ]
  },
  {
   "cell_type": "markdown",
   "metadata": {},
   "source": [
    "<font size=4>And we can re-express that known truth as a logical implication:</font>"
   ]
  },
  {
   "cell_type": "code",
   "execution_count": null,
   "metadata": {},
   "outputs": [],
   "source": [
    "CSubsetOfD.prove(demo_02_assumptions).asImplication(*demo_02_assumptions)"
   ]
  },
  {
   "cell_type": "markdown",
   "metadata": {},
   "source": [
    "<font size=3>Or we could have proven the implication form directly (shown here with new set variables $E$ and $F$ so as not to simply derive from the previous result):</font>"
   ]
  },
  {
   "cell_type": "code",
   "execution_count": null,
   "metadata": {},
   "outputs": [],
   "source": [
    "anImplication = Implies(Forall(x, InSet(x,F), E),SubsetEq(E,F))"
   ]
  },
  {
   "cell_type": "code",
   "execution_count": null,
   "metadata": {},
   "outputs": [],
   "source": [
    "anImplication.prove()"
   ]
  },
  {
   "cell_type": "markdown",
   "metadata": {},
   "source": [
    "<div style=\"width: 90%; border: 5px solid green; padding: 10px; margin: 0px;\"><a id='demo03'></a><font size=4><b>3.</b> $(x\\in B) \\wedge (A \\supset B) \\Rightarrow (x \\in A)$.</font></div><br>\n",
    "<font size=3>This is a variant of demonstration (1) above. When we know that $x$ is in $B$ and $A$ contains $B$, then $x$ must also be in $A$.<br>\n",
    "Let's define some useful expressions, let Prove-It prove the implication, then look at the proof:</font>"
   ]
  },
  {
   "cell_type": "code",
   "execution_count": null,
   "metadata": {},
   "outputs": [],
   "source": [
    "# define some expressions\n",
    "xInA, xInB, ASupersetOfB = InSet(x, A), InSet(x, B), Superset(A, B)"
   ]
  },
  {
   "cell_type": "code",
   "execution_count": null,
   "metadata": {},
   "outputs": [],
   "source": [
    "# establish the Known Truth\n",
    "xInA_kt = xInA.prove([xInB, ASupersetOfB])"
   ]
  },
  {
   "cell_type": "markdown",
   "metadata": {},
   "source": [
    "<a id='demo03'></a><font size=3>In the proof, we see the relaxation theorem taking $A \\supset B$ to $A \\supseteq B$, and then the reversal theorem taking $A \\supseteq B$ to $B \\subseteq A$, then proceeding as it would for the example in <a href='#demo01'>Demo 1</a> earlier:</font>"
   ]
  },
  {
   "cell_type": "code",
   "execution_count": null,
   "metadata": {},
   "outputs": [],
   "source": [
    "# take a look at the proof:\n",
    "xInA_kt.proof()"
   ]
  },
  {
   "cell_type": "markdown",
   "metadata": {},
   "source": [
    "<font size=3>As in <a href=\"#demo01\">Demo 1</a>, we can re-express our known truth as a logical implication:</font>"
   ]
  },
  {
   "cell_type": "code",
   "execution_count": null,
   "metadata": {},
   "outputs": [],
   "source": [
    "# our known truth\n",
    "xInA_kt"
   ]
  },
  {
   "cell_type": "code",
   "execution_count": null,
   "metadata": {},
   "outputs": [],
   "source": [
    "# one option for the implication\n",
    "xInA_kt.asImplication(hypothesis=xInB)"
   ]
  },
  {
   "cell_type": "code",
   "execution_count": null,
   "metadata": {},
   "outputs": [],
   "source": [
    "# another option for the implication\n",
    "xInA_kt.asImplication(hypothesis=ASupersetOfB)"
   ]
  },
  {
   "cell_type": "markdown",
   "metadata": {},
   "source": [
    "<div style=\"width: 90%; border: 5px solid green; padding: 10px; margin: 0px;\"><a id='demo04'></a><font size=4><b>4.</b> $\\forall_{x\\in Y}(x\\in X) \\Rightarrow (X \\supseteq Y)$</font>.</div><br>\n",
    "<font size=3>When we know that $x$ is in $X$ whenever $x$ is in $Y$, we have $X \\supseteq Y$ (<i>i.e.</i>, $X$ contains $Y$ or $X$ is a superset of $Y$). That is a theorem in Prove-It that can be specialized to prove a containment or superset relationship for two arbitrary sets given the right conditions:</font>"
   ]
  },
  {
   "cell_type": "code",
   "execution_count": null,
   "metadata": {},
   "outputs": [],
   "source": [
    "# our foldSupsetEq theorem\n",
    "foldSupsetEq"
   ]
  },
  {
   "cell_type": "code",
   "execution_count": null,
   "metadata": {},
   "outputs": [],
   "source": [
    "# specialize the foldSupsetEq theorem\n",
    "foldSupsetEqSpec = foldSupsetEq.specialize({A:X, B:Y})"
   ]
  },
  {
   "cell_type": "code",
   "execution_count": null,
   "metadata": {},
   "outputs": [],
   "source": [
    "# then we can even generalize back into universal X and Y\n",
    "foldSupsetEqSpec.generalize([X, Y])"
   ]
  },
  {
   "cell_type": "markdown",
   "metadata": {},
   "source": [
    "<font size=3>Alternatively we can prove the rhs of the implication given the antecedent as an assumption.</font>"
   ]
  },
  {
   "cell_type": "code",
   "execution_count": null,
   "metadata": {},
   "outputs": [],
   "source": [
    "# peel off our desired conclusion:\n",
    "XSupersetOfY = foldSupsetEqSpec.rhs"
   ]
  },
  {
   "cell_type": "code",
   "execution_count": null,
   "metadata": {},
   "outputs": [],
   "source": [
    "# prove our conclusion based on the antecedent\n",
    "XSupersetOfYKT = XSupersetOfY.prove([Forall(x, InSet(x, X), domain=Y)])"
   ]
  },
  {
   "cell_type": "markdown",
   "metadata": {},
   "source": [
    "<font size=3>And we can take a quick look at the simple proof, which also involves a specialization of that ``foldSupsetEq`` theorem and an application of *modus ponens:*</font>"
   ]
  },
  {
   "cell_type": "code",
   "execution_count": null,
   "metadata": {},
   "outputs": [],
   "source": [
    "XSupersetOfYKT.proof()"
   ]
  },
  {
   "cell_type": "markdown",
   "metadata": {},
   "source": [
    "<div style=\"width: 90%; border: 5px solid green; padding: 10px; margin: 0px;\"><a id='demo05'></a><font size = 4><b>5.</b> Folding and Unfolding the Definitions of $\\not\\subseteq$ and $\\not\\supseteq$</font>.</font></div><br/>\n",
    "<font size=3>$\\not\\subseteq$ is axiomatically defined by $\\forall_{A, B} (A\\not\\subseteq B) = \\neg(A \\subseteq B)$, and we have theorems to automatically fold and unfold the definition, allowing us to express and use the definition in a variety of ways. For example, we can automatically derive the statements that $\\{C\\not\\subseteq D\\} \\vdash \\neg(C\\subseteq D)$, and $\\{\\neg(C\\subseteq D)\\} \\vdash C\\not\\subseteq D$</font>"
   ]
  },
  {
   "cell_type": "code",
   "execution_count": null,
   "metadata": {},
   "outputs": [],
   "source": [
    "# unfold the definition to produce a new known truth\n",
    "NotSubsetEq(C, D).unfold([NotSubsetEq(C, D)])"
   ]
  },
  {
   "cell_type": "code",
   "execution_count": null,
   "metadata": {},
   "outputs": [],
   "source": [
    "# or automatically fold the definition when deriving the alternative known truth\n",
    "NotSubsetEqKT = NotSubsetEq(C, D).prove([Not(SubsetEq(C, D))])"
   ]
  },
  {
   "cell_type": "markdown",
   "metadata": {},
   "source": [
    "<font size=3>In the proof for that second derivation, we see the use of the ``foldNotSubsetEq`` theorem, which we can manually invoke and specialize to accomplish the same thing:</font>"
   ]
  },
  {
   "cell_type": "code",
   "execution_count": null,
   "metadata": {},
   "outputs": [],
   "source": [
    "# the theorem\n",
    "foldNotSubsetEq"
   ]
  },
  {
   "cell_type": "code",
   "execution_count": null,
   "metadata": {},
   "outputs": [],
   "source": [
    "# specialization\n",
    "foldNotSubsetEqSpec = foldNotSubsetEq.specialize({A:C, B:D}, assumptions=[Not(SubsetEq(C, D))])"
   ]
  },
  {
   "cell_type": "markdown",
   "metadata": {},
   "source": [
    "<font size=3>We can look at the proof resulting from the earlier automated ``prove()`` approach and see the same steps reflected in the automation:</font>"
   ]
  },
  {
   "cell_type": "code",
   "execution_count": null,
   "metadata": {},
   "outputs": [],
   "source": [
    "NotSubsetEqKT.proof()"
   ]
  },
  {
   "cell_type": "markdown",
   "metadata": {},
   "source": [
    "<font size=3>And of course we have similar fold and unfold theorems for the negated superset or negated containment relation $\\not\\supseteq$. For example:</font>"
   ]
  },
  {
   "cell_type": "code",
   "execution_count": null,
   "metadata": {},
   "outputs": [],
   "source": [
    "# unfold the definition to produce a new known truth\n",
    "NotSupersetEq(C, D).unfold([NotSupersetEq(C, D)])"
   ]
  },
  {
   "cell_type": "code",
   "execution_count": null,
   "metadata": {},
   "outputs": [],
   "source": [
    "# or automatically fold the definition when deriving the alternative known truth\n",
    "NotSupersetEqKT = NotSupersetEq(C, D).prove([Not(SupersetEq(C, D))])"
   ]
  },
  {
   "cell_type": "markdown",
   "metadata": {},
   "source": [
    "<div style=\"width: 90%; border: 5px solid green; padding: 10px; margin: 0px;\"><a id='demo06'></a><font size=4><b>6.</b> Containment Reversals (such as $A \\subset B \\Rightarrow B \\supset A$).</font></div><br/>\n",
    "<font size=3>All of the standard containment reversals are available as individual theorems (such as $A \\subset B \\Rightarrow B \\supset A$ or $C \\supseteq D \\Rightarrow D \\subseteq C$) in the set_theory context, and we can easily apply them to re-express containment expressions in a desired direction.\n",
    "</font>"
   ]
  },
  {
   "cell_type": "markdown",
   "metadata": {},
   "source": [
    "<font size=3>We have a theorem, ``intsInReals``, that the integers are a proper subset of the reals: $\\mathbb{Z} \\subset \\mathbb{R}$:\n",
    "</font>"
   ]
  },
  {
   "cell_type": "code",
   "execution_count": null,
   "metadata": {},
   "outputs": [],
   "source": [
    "intsInReals"
   ]
  },
  {
   "cell_type": "markdown",
   "metadata": {},
   "source": [
    "<font size=3>We also have a general theorem, ``reverseSubset``, that allows us to convert a proper subset claim into the equivalent proper superset claim:\n",
    "</font>"
   ]
  },
  {
   "cell_type": "code",
   "execution_count": null,
   "metadata": {},
   "outputs": [],
   "source": [
    "reverseSubset"
   ]
  },
  {
   "cell_type": "markdown",
   "metadata": {},
   "source": [
    "<font size=3>We can create the equivalent superset expression, $\\mathbb{R} \\supset \\mathbb{Z}$, then have Prove-It establish the claim as a known truth based on the subset relation known truth. The proof uses the ``reverseSubset`` theorem as we would expect:\n",
    "</font>"
   ]
  },
  {
   "cell_type": "code",
   "execution_count": null,
   "metadata": {},
   "outputs": [],
   "source": [
    "realsContainIntegers_kt = Superset(Reals, Integers).prove()"
   ]
  },
  {
   "cell_type": "code",
   "execution_count": null,
   "metadata": {},
   "outputs": [],
   "source": [
    "realsContainIntegers_kt.proof()"
   ]
  },
  {
   "cell_type": "markdown",
   "metadata": {},
   "source": [
    "<div style=\"width: 90%; border: 5px solid green; padding: 10px; margin: 0px;\"><a id='demo07'></a><font size=4><b>7.</b> Deducing $\\{1, 3\\} \\subset \\{1, 2, 3, 4, 5\\}$</font></div><br/>\n",
    "<font size=3>For a variety of finite enumerated sets, represented by the <span style=\"font-family:courier;\">Set</span> class in the <span style=\"font-family:courier;\">set_theory/enumeration</span> context, membership and containment claims can be proven with just a little effort. For example, we can define two enumerated Sets as shown below:\n",
    "</font>"
   ]
  },
  {
   "cell_type": "code",
   "execution_count": null,
   "metadata": {},
   "outputs": [],
   "source": [
    "set_13, set_12345 = Set(one, three), Set(one, two, three, four, five)"
   ]
  },
  {
   "cell_type": "markdown",
   "metadata": {},
   "source": [
    "<font size=3>and define the proper subset relationship between them:\n",
    "</font>"
   ]
  },
  {
   "cell_type": "code",
   "execution_count": null,
   "metadata": {},
   "outputs": [],
   "source": [
    "set_13_properSubset_set_12345 = ProperSubset(set_12345, set_13)"
   ]
  },
  {
   "cell_type": "markdown",
   "metadata": {},
   "source": [
    "<font size=3>If we ask Prove-It to prove the proper subset relationship automatically, we run into some difficulty:\n",
    "</font>"
   ]
  },
  {
   "cell_type": "code",
   "execution_count": null,
   "metadata": {},
   "outputs": [],
   "source": [
    "try:\n",
    "    set_13_properSubset_set_12345.prove()\n",
    "    assert False, \"Expecting a Proof Failure; should not make it to this point.\"\n",
    "except ProofFailure as e:\n",
    "    print(\"Proof Failure: {}\".format(e))"
   ]
  },
  {
   "cell_type": "markdown",
   "metadata": {},
   "source": [
    "<font size=3>But the enumerated Set class has some special machinery to help us out:\n",
    "</font>"
   ]
  },
  {
   "cell_type": "code",
   "execution_count": null,
   "metadata": {},
   "outputs": [],
   "source": [
    "set_12345.deduceEnumProperSubset(subset=set_13)"
   ]
  },
  {
   "cell_type": "markdown",
   "metadata": {},
   "source": [
    "<font size=3>And a membership claim such as $2\\in\\{1, 2, 3, 4, 5\\}$ can be proven automatically:\n",
    "</font>"
   ]
  },
  {
   "cell_type": "code",
   "execution_count": null,
   "metadata": {},
   "outputs": [],
   "source": [
    "InSet(two, set_12345).prove()"
   ]
  },
  {
   "cell_type": "markdown",
   "metadata": {},
   "source": [
    "<font size=3>Enumerated Sets and related axioms, theorems, conjectures, and methods are discussed in much more detail in the set_theory/enumeration context and the [enumeration demonstrations page](../enumeration/\\_demonstrations\\_.ipynb) page.\n",
    "</font>"
   ]
  },
  {
   "cell_type": "markdown",
   "metadata": {},
   "source": [
    "<div style=\"width: 90%; border: 5px solid green; padding: 10px; margin: 0px;\"><a id='demo08'></a><font size=4><b>8.</b> Manually Proving $\\{1, 3, 5\\} \\subseteq \\{1, 2, 3, 4, 5\\}$</font></div><br/>\n",
    "<font size=3><p>Although the enumerated <span style=\"font-family:courier;\">Set</span> class has machinery to make subset deductions fairly easy (as seen above in <a href=\"#demo07\">Demo 7</a>), it can be a useful exercise to consider a more manual approach. So let's consider a possible alternative effort to prove that $\\{1, 3, 5\\} \\subseteq \\{1, 2, 3, 4, 5\\}$.</p></font>"
   ]
  },
  {
   "cell_type": "markdown",
   "metadata": {},
   "source": [
    "<font size=3>We begin by defining our enumerated Sets and the subset relationship:</font>"
   ]
  },
  {
   "cell_type": "code",
   "execution_count": null,
   "metadata": {},
   "outputs": [],
   "source": [
    "set_135, set_12345 = Set(one, three, five), Set(one, two, three, four, five)"
   ]
  },
  {
   "cell_type": "code",
   "execution_count": null,
   "metadata": {},
   "outputs": [],
   "source": [
    "demo_08_subset = SubsetEq(set_135, set_12345)"
   ]
  },
  {
   "cell_type": "markdown",
   "metadata": {},
   "source": [
    "<font size=3>Prove-It will not automatically prove the relationship for us:</font>"
   ]
  },
  {
   "cell_type": "code",
   "execution_count": null,
   "metadata": {},
   "outputs": [],
   "source": [
    "try:\n",
    "    demo_08_subset.prove()\n",
    "    assert False, \"Expecting a Proof Failure. Should not get to this point.\"\n",
    "except ProofFailure as e:\n",
    "    print(\"Proof Failure: {}\".format(e))"
   ]
  },
  {
   "cell_type": "markdown",
   "metadata": {},
   "source": [
    "<font size=3>Instead of utilizing the direct <span style=\"font-family:courier\">Set.deduceEnumSubsetEq()</span> method, however, consider the <span style=\"font-family:courier\">subsetEqDef</span> axiom, which provides a definition of what it means to say that one set is a (non-strict) subset of another:</font>"
   ]
  },
  {
   "cell_type": "code",
   "execution_count": null,
   "metadata": {},
   "outputs": [],
   "source": [
    "from proveit.logic.set_theory.containment._axioms_ import subsetEqDef\n",
    "subsetEqDef"
   ]
  },
  {
   "cell_type": "markdown",
   "metadata": {},
   "source": [
    "<font size=3>We can specialize the <span style=\"font-family:courier\">subsetEqDef</span> axiom for our particular case:</font>"
   ]
  },
  {
   "cell_type": "code",
   "execution_count": null,
   "metadata": {},
   "outputs": [],
   "source": [
    "subsetEqDefSpecialized = subsetEqDef.specialize(\n",
    "        {A:set_135, B:set_12345})"
   ]
  },
  {
   "cell_type": "markdown",
   "metadata": {},
   "source": [
    "<font size=3>If we can prove the rhs of that specialized form, we can use the equality to conclude the lhs. To get there, we consider the <span style=\"font-family:courier;\">equivalence()</span> method for set membership, which unfolds a set membership claim into a disjunction of equalities, like this:</font>"
   ]
  },
  {
   "cell_type": "code",
   "execution_count": null,
   "metadata": {},
   "outputs": [],
   "source": [
    "InSmallerSetDef = InSet(x, set_135).equivalence()"
   ]
  },
  {
   "cell_type": "code",
   "execution_count": null,
   "metadata": {},
   "outputs": [],
   "source": [
    "InLargerSetDef = InSet(x, set_12345).equivalence()"
   ]
  },
  {
   "cell_type": "markdown",
   "metadata": {},
   "source": [
    "<font size=3>We can show that the smaller disjunction $((x=1)\\lor (x=3)\\lor (x=5))$ logically implies the larger disjunction $((x=1)\\lor (x=2)\\lor (x=3)\\lor (x=4)\\lor (x=5))$, and thus that membership in $\\{1, 3, 5\\}$ implies membership in $\\{1, 2, 3, 4, 5\\}$. To get there, we proceed as follows:</font>"
   ]
  },
  {
   "cell_type": "code",
   "execution_count": null,
   "metadata": {},
   "outputs": [],
   "source": [
    "# notice we can grab the disjunction expressions from the equivalence expressions above:\n",
    "display(InSmallerSetDef.rhs)\n",
    "display(InLargerSetDef.rhs)"
   ]
  },
  {
   "cell_type": "markdown",
   "metadata": {},
   "source": [
    "<font size=3>We use the Or.concludeViaSome method to show that the smaller conjunction allows the derivation of the larger conjunction:</font>"
   ]
  },
  {
   "cell_type": "code",
   "execution_count": null,
   "metadata": {},
   "outputs": [],
   "source": [
    "small_disj_gives_larger_disj = InLargerSetDef.rhs.concludeViaSome(\n",
    "        InSmallerSetDef.rhs, assumptions=[InSmallerSetDef.rhs])"
   ]
  },
  {
   "cell_type": "markdown",
   "metadata": {},
   "source": [
    "<font size=3>Then re-express that known truth as an implication:</font>"
   ]
  },
  {
   "cell_type": "code",
   "execution_count": null,
   "metadata": {},
   "outputs": [],
   "source": [
    "small_disj_implies_larger_disj = small_disj_gives_larger_disj.asImplication(\n",
    "        hypothesis=InSmallerSetDef.rhs)"
   ]
  },
  {
   "cell_type": "markdown",
   "metadata": {},
   "source": [
    "<font size=3>Now we use our earlier equivalence definitions to back-substitute:</font>"
   ]
  },
  {
   "cell_type": "code",
   "execution_count": null,
   "metadata": {},
   "outputs": [],
   "source": [
    "small_membership_implies_larger_disj = InSmallerSetDef.subLeftSideInto(small_disj_implies_larger_disj)"
   ]
  },
  {
   "cell_type": "code",
   "execution_count": null,
   "metadata": {},
   "outputs": [],
   "source": [
    "InLargerSetDef.subLeftSideInto(small_membership_implies_larger_disj)"
   ]
  },
  {
   "cell_type": "markdown",
   "metadata": {},
   "source": [
    "<font size=3>This gives Prove-It all it needs to prove the rhs of our earlier specialized axiom, $\\forall_{x\\in\\{1, 3, 5\\} } (x\\in\\{1, 2, 3, 4, 5\\})$:</font>"
   ]
  },
  {
   "cell_type": "code",
   "execution_count": null,
   "metadata": {},
   "outputs": [],
   "source": [
    "subsetEqDefSpecializedRHS_kt = subsetEqDefSpecialized.rhs.prove()"
   ]
  },
  {
   "cell_type": "markdown",
   "metadata": {},
   "source": [
    "<font size=3>And finally we can substitute in for that universally quantified expression our desired subset expression:</font>"
   ]
  },
  {
   "cell_type": "code",
   "execution_count": null,
   "metadata": {},
   "outputs": [],
   "source": [
    "subsetEqDefSpecialized.subLeftSideInto(subsetEqDefSpecializedRHS_kt)"
   ]
  },
  {
   "cell_type": "markdown",
   "metadata": {},
   "source": [
    "<font size=3><i>Et voila!</i> Although a bit effortful, and although Prove-It can accomplish the same deduction automatically in this case, the exercise is useful in illustrating a number of typically steps and strategies, including an interplay between manual steps and automation, the specialization of axioms and theorems, and the use of substitutions (in this case via <span style=\"font-family:courier;\">subLeftSideInto()</span>) between established known truths.</font>"
   ]
  },
  {
   "cell_type": "markdown",
   "metadata": {},
   "source": [
    "## Miscellaneous Testing\n",
    "<font size=3>The material below was developed to test various containment-related methods. Some of this material could be integrated into the `_demonstrations_` page eventually and/or deleted as development continues.</font>"
   ]
  },
  {
   "cell_type": "markdown",
   "metadata": {},
   "source": [
    "### Some Example `Sets` For Testing"
   ]
  },
  {
   "cell_type": "code",
   "execution_count": null,
   "metadata": {},
   "outputs": [],
   "source": [
    "from proveit.number import one, two, three, four, five, six, seven\n",
    "# define some enumerated Sets for use in testing, containing literals\n",
    "set_123, set_12345, set_1234567 = (\n",
    "        Set(one, two , three),\n",
    "        Set(one, two , three, four, five),\n",
    "        Set(one, two , three, four, five, six, seven))"
   ]
  },
  {
   "cell_type": "code",
   "execution_count": null,
   "metadata": {},
   "outputs": [],
   "source": [
    "from proveit._common_ import a, b, c, d, e\n",
    "# define some enumerated Sets for use in testing, containing variables\n",
    "set_abc, set_abcde = (\n",
    "        Set(a, b, c),\n",
    "        Set(a, b, c, d, e))"
   ]
  },
  {
   "cell_type": "code",
   "execution_count": null,
   "metadata": {},
   "outputs": [],
   "source": [
    "# recall some other basic sets already defined:\n",
    "Integers, Naturals, NaturalsPos, Reals"
   ]
  },
  {
   "cell_type": "markdown",
   "metadata": {},
   "source": [
    "### Testing the `ProperSubset` class methods\n",
    "<br/>\n",
    "<font size =3>The <span style=\"font-family=courier\">ProperSubset</span> class has the following class methods:<br/>\n",
    "    <div style=\"width: 50%; border: 1px solid green; padding: 5px; margin: 20px; background-color: gainsboro; font-family:courier\">deriveReversed(self, assumptions=USE_DEFAULTS)<br/>\n",
    "    deriveRelaxed(self, assumptions=USE_DEFAULTS)<br/>\n",
    "    applyTransitivity(self, other, assumptions=USE_DEFAULTS)<br/>\n",
    "    deduceInBool(self, assumptions=USE_DEFAULTS)</div>\n",
    "</font>"
   ]
  },
  {
   "cell_type": "code",
   "execution_count": null,
   "metadata": {},
   "outputs": [],
   "source": [
    "# define a few proper subset relations for testing\n",
    "set_123_properSubset_set_12345, set_12345_properSubset_set_1234567 = (\n",
    "        ProperSubset(set_123, set_12345),\n",
    "        ProperSubset(set_12345, set_1234567))"
   ]
  },
  {
   "cell_type": "code",
   "execution_count": null,
   "metadata": {},
   "outputs": [],
   "source": [
    "# define a few proper subset relations for testing\n",
    "set_abc_properSubset_set_abcde =ProperSubset(set_abc, set_abcde)"
   ]
  },
  {
   "cell_type": "markdown",
   "metadata": {},
   "source": [
    "### `ProperSubset.deriveReversed()`"
   ]
  },
  {
   "cell_type": "code",
   "execution_count": null,
   "metadata": {},
   "outputs": [],
   "source": [
    "# if A is a proper subset of B, then B is a proper superset of A\n",
    "set_12345.deduceEnumProperSubset(subset=set_123)\n",
    "set_123_properSubset_set_12345.deriveReversed()"
   ]
  },
  {
   "cell_type": "code",
   "execution_count": null,
   "metadata": {},
   "outputs": [],
   "source": [
    "set_abcde.deduceEnumProperSubset(subset=set_abc, assumptions=[NotInSet(d, set_abc)])\n",
    "set_abc_properSubset_set_abcde.deriveReversed(assumptions=[NotInSet(d, set_abc)])"
   ]
  },
  {
   "cell_type": "markdown",
   "metadata": {},
   "source": [
    "### `ProperSubset.deriveRelaxed()`"
   ]
  },
  {
   "cell_type": "code",
   "execution_count": null,
   "metadata": {},
   "outputs": [],
   "source": [
    "set_123_properSubset_set_12345.deriveRelaxed()"
   ]
  },
  {
   "cell_type": "code",
   "execution_count": null,
   "metadata": {},
   "outputs": [],
   "source": [
    "set_abc_properSubset_set_abcde.deriveRelaxed(assumptions=[NotInSet(d, set_abc)])"
   ]
  },
  {
   "cell_type": "code",
   "execution_count": null,
   "metadata": {},
   "outputs": [],
   "source": [
    "# deriveRelaxed() method only works for actual proper subsets.\n",
    "# If the proper subset is not true or not provably true, deriveRelaxed() will fail:\n",
    "try:\n",
    "    ProperSubset(Set(a, b), Set(a, b, c)).deriveRelaxed()\n",
    "    assert False, \"Expecting a ProofFailure. Should not make it to this point.\"\n",
    "except ProofFailure as e:\n",
    "    print(\"Proof Failure: {}\".format(e))"
   ]
  },
  {
   "cell_type": "code",
   "execution_count": null,
   "metadata": {},
   "outputs": [],
   "source": [
    "# But if we first establish the proper subset as a known truth\n",
    "# (with the appropriate assumptions), then we can relax as expected:\n",
    "Set(a, b, c).deduceEnumProperSubset(subset=Set(a, b), assumptions=[NotInSet(c, Set(a, b))])\n",
    "ProperSubset(Set(a, b), Set(a, b, c)).deriveRelaxed(assumptions=[NotInSet(c, Set(a, b))])"
   ]
  },
  {
   "cell_type": "markdown",
   "metadata": {},
   "source": [
    "### `ProperSubset.applyTransitivity()`"
   ]
  },
  {
   "cell_type": "code",
   "execution_count": null,
   "metadata": {},
   "outputs": [],
   "source": [
    "# establish a proper subset judgement:\n",
    "set_12345.deduceEnumProperSubset(subset=set_123)"
   ]
  },
  {
   "cell_type": "code",
   "execution_count": null,
   "metadata": {},
   "outputs": [],
   "source": [
    "# establish a related proper subset judgement:\n",
    "set_1234567.deduceEnumProperSubset(subset=set_12345)"
   ]
  },
  {
   "cell_type": "code",
   "execution_count": null,
   "metadata": {},
   "outputs": [],
   "source": [
    "# use transitivity to go from first set to 3rd set:\n",
    "set_123_properSubset_set_12345.applyTransitivity(set_12345_properSubset_set_1234567)"
   ]
  },
  {
   "cell_type": "code",
   "execution_count": null,
   "metadata": {},
   "outputs": [],
   "source": [
    "# this process can work more generally:\n",
    "A_properSubset_B, B_subsetEq_C, B_equals_D = ProperSubset(A, B), SubsetEq(B, C), Equals(B, D)\n",
    "A_properSubset_B.applyTransitivity(\n",
    "    B_subsetEq_C, assumptions=[ProperSubset(A, B), SubsetEq(B, C)])"
   ]
  },
  {
   "cell_type": "code",
   "execution_count": null,
   "metadata": {},
   "outputs": [],
   "source": [
    "B_equals_D = Equals(B, D).prove(assumptions=[Equals(B, D)])"
   ]
  },
  {
   "cell_type": "code",
   "execution_count": null,
   "metadata": {},
   "outputs": [],
   "source": [
    "# currently does not have transitivity thms to include equalities:\n",
    "B_equals_D = Equals(B, D)\n",
    "try:\n",
    "    A_properSubset_B.applyTransitivity(B_equals_D,\n",
    "            assumptions=[A_properSubset_B, B_equals_D])\n",
    "    assert False, \"Expecting a NotImplementedError; should not make it to this point\"\n",
    "except NotImplementedError as e:\n",
    "    print(\"NotImplementedError: {}\".format(e))"
   ]
  },
  {
   "cell_type": "code",
   "execution_count": null,
   "metadata": {},
   "outputs": [],
   "source": [
    "# instead we would use a substitution:\n",
    "B_equals_D.subRightSideInto(A_properSubset_B,\n",
    "            assumptions=[B_equals_D, A_properSubset_B])\n"
   ]
  },
  {
   "cell_type": "markdown",
   "metadata": {},
   "source": [
    "### `ProperSubset.deduceInBool()`"
   ]
  },
  {
   "cell_type": "code",
   "execution_count": null,
   "metadata": {},
   "outputs": [],
   "source": [
    "# Proper subset claims are Boolean\n",
    "A_properSubset_B.deduceInBool()"
   ]
  },
  {
   "cell_type": "code",
   "execution_count": null,
   "metadata": {},
   "outputs": [],
   "source": [
    "# Proper subset claims are Boolean\n",
    "set_abc_properSubset_set_abcde.deduceInBool()"
   ]
  },
  {
   "cell_type": "markdown",
   "metadata": {},
   "source": [
    "### Testing the `SubsetEq` class methods\n",
    "<br/>\n",
    "<font size =3>The <span style=\"font-family=courier\">SubsetEq</span> class has the following class methods:<br/>\n",
    "    <div style=\"width: 50%; border: 1px solid green; padding: 5px; margin: 20px; background-color: gainsboro; font-family:courier;\">\n",
    "    <ul>\n",
    "    <li>deriveReversed(self, assumptions=USE_DEFAULTS)</li>\n",
    "    <li>conclude(self, assumptions=USE_DEFAULTS)</li>\n",
    "    <li>concludeViaEquality(self, assumptions)</li>\n",
    "    <li>unfold(self, elemInstanceVar=x, assumptions=USE_DEFAULTS)</li>\n",
    "    <li>deriveSupsersetMembership(self, element, assumptions=USE_DEFAULTS)</li>\n",
    "    <li>concludeAsFolded(self, elemInstanceVar=x, assumptions=USE_DEFAULTS)</li>\n",
    "    <li>applyTransitivity(self, other, assumptions=USE_DEFAULTS)</li>\n",
    "    <li>deduceInBool(self, assumptions=USE_DEFAULTS)</li>\n",
    "    </ul>\n",
    "    </div>\n",
    "</font>"
   ]
  },
  {
   "cell_type": "markdown",
   "metadata": {},
   "source": [
    "### `SubsetEq.deriveReversed()`"
   ]
  },
  {
   "cell_type": "code",
   "execution_count": null,
   "metadata": {},
   "outputs": [],
   "source": [
    "set_13, set_1234 = Set(one, three), Set(one, two, three, four)"
   ]
  },
  {
   "cell_type": "code",
   "execution_count": null,
   "metadata": {},
   "outputs": [],
   "source": [
    "# Needs to already know or be able to prove the SubsetEq before\n",
    "# deriving the reverse:\n",
    "try:\n",
    "    SubsetEq(set_13, set_1234).deriveReversed()\n",
    "    assert False, \"ProofFailure expected. Should not make it to this point.\"\n",
    "except ProofFailure as e:\n",
    "    print(\"Proof Failure: {}\".format(e))"
   ]
  },
  {
   "cell_type": "code",
   "execution_count": null,
   "metadata": {},
   "outputs": [],
   "source": [
    "# but if we establish the SubsetEq manually first, works fine:\n",
    "set_1234.deduceEnumSubsetEq(subset=set_13)\n",
    "SubsetEq(set_13, set_1234).deriveReversed()"
   ]
  },
  {
   "cell_type": "code",
   "execution_count": null,
   "metadata": {},
   "outputs": [],
   "source": [
    "# shouldn't work with variables until we supply more info\n",
    "try:\n",
    "    SubsetEq(set_abc, set_abcde).deriveReversed()\n",
    "    assert False, \"Expecting a ProofFailure. Should not make it to this point.\"\n",
    "except ProofFailure as e:\n",
    "    print(\"Proof Failure: {}\".format(e))"
   ]
  },
  {
   "cell_type": "code",
   "execution_count": null,
   "metadata": {},
   "outputs": [],
   "source": [
    "# OK once we have enough info about the variables\n",
    "SubsetEq(set_abc, set_abcde).deriveReversed(assumptions=[NotInSet(d, set_abc)])"
   ]
  },
  {
   "cell_type": "markdown",
   "metadata": {},
   "source": [
    "### `SubsetEq.conclude()`"
   ]
  },
  {
   "cell_type": "code",
   "execution_count": null,
   "metadata": {},
   "outputs": [],
   "source": [
    "SubsetEq(Set(one, two, four), Set(one, two, three, four, five))"
   ]
  },
  {
   "cell_type": "code",
   "execution_count": null,
   "metadata": {},
   "outputs": [],
   "source": [
    "# very simple things working OK\n",
    "SubsetEq(Set(one, two, four), Set(one, two, four)).conclude()"
   ]
  },
  {
   "cell_type": "code",
   "execution_count": null,
   "metadata": {},
   "outputs": [],
   "source": [
    "# very simple things working OK\n",
    "SubsetEq(A, A).conclude()"
   ]
  },
  {
   "cell_type": "code",
   "execution_count": null,
   "metadata": {},
   "outputs": [],
   "source": [
    "# but having trouble with other simple things, which seems related\n",
    "# to calling the concludeAsFolded() method:\n",
    "try:\n",
    "    SubsetEq(Set(one, two, four), Set(one, two, three, four, five)).conclude()\n",
    "    assert False, \"Expecting a ProofFailure. Should not make it to this point.\"\n",
    "except ProofFailure as e:\n",
    "    print(\"Proof Failure: {}\".format(e))"
   ]
  },
  {
   "cell_type": "code",
   "execution_count": null,
   "metadata": {},
   "outputs": [],
   "source": [
    "set_135 = Set(one, three, five)\n",
    "set_12345 = Set(one, two, three, four, five)\n",
    "example_forall = Forall(\n",
    "        x,\n",
    "        Implies(InSet(x, set_135), InSet(x, set_12345)),\n",
    "        domain=set_135)"
   ]
  },
  {
   "cell_type": "code",
   "execution_count": null,
   "metadata": {},
   "outputs": [],
   "source": [
    "# apparently, the only domain that has the necessary 'foldAsForall'\n",
    "# is the set of Booleans?\n",
    "try:\n",
    "    example_forall.concludeAsFolded()\n",
    "    assert False, \"Expecting AttributeError; should not make it to this point.\"\n",
    "except AttributeError as e:\n",
    "    print(\"Attribute Error: {}\".format(e))"
   ]
  },
  {
   "cell_type": "markdown",
   "metadata": {},
   "source": [
    "### `SubsetEq.concludeViaEquality()`"
   ]
  },
  {
   "cell_type": "code",
   "execution_count": null,
   "metadata": {},
   "outputs": [],
   "source": [
    "SubsetEq(A, A).concludeViaEquality()"
   ]
  },
  {
   "cell_type": "code",
   "execution_count": null,
   "metadata": {},
   "outputs": [],
   "source": [
    "SubsetEq(Set(a, one, b), Set(a, one, b)).concludeViaEquality()"
   ]
  },
  {
   "cell_type": "markdown",
   "metadata": {},
   "source": [
    "### `SubsetEq.unfold()`"
   ]
  },
  {
   "cell_type": "code",
   "execution_count": null,
   "metadata": {},
   "outputs": [],
   "source": [
    "SubsetEq(set_123, set_12345).unfold()"
   ]
  },
  {
   "cell_type": "code",
   "execution_count": null,
   "metadata": {},
   "outputs": [],
   "source": [
    "# Works, but often have to explicitly pre-establish that\n",
    "# the subsetEq relationship is actually true\n",
    "Set(a, one, b, c).deduceEnumSubsetEq(subset=Set(a, one, b))\n",
    "SubsetEq(Set(a, one, b), Set(a, one, b, c)).unfold()"
   ]
  },
  {
   "cell_type": "markdown",
   "metadata": {},
   "source": [
    "### `SubsetEq.deriveSupersetMembership()`"
   ]
  },
  {
   "cell_type": "code",
   "execution_count": null,
   "metadata": {},
   "outputs": [],
   "source": [
    "# given a known subsetEq relationship, and an element in the\n",
    "# subset, derive the element as being in the superset\n",
    "SubsetEq(set_123, set_12345).deriveSupersetMembership(two)"
   ]
  },
  {
   "cell_type": "code",
   "execution_count": null,
   "metadata": {},
   "outputs": [],
   "source": [
    "SubsetEq(Set(a, one, b), Set(a, one, b, c)).deriveSupersetMembership(a)"
   ]
  },
  {
   "cell_type": "code",
   "execution_count": null,
   "metadata": {},
   "outputs": [],
   "source": [
    "# and this works more generally, where we can assume an elem in the subset\n",
    "from proveit._common_ import f\n",
    "Set(a, b, c, d).deduceEnumSubsetEq(subset=set_abc)\n",
    "SubsetEq(Set(a, b, c), Set(a, b, c, d)).deriveSupersetMembership(f, assumptions=[InSet(f, set_abc)])"
   ]
  },
  {
   "cell_type": "markdown",
   "metadata": {},
   "source": [
    "### `SubsetEq.applyTransitivity()`"
   ]
  },
  {
   "cell_type": "code",
   "execution_count": null,
   "metadata": {},
   "outputs": [],
   "source": [
    "# establish a subsetEq judgement:\n",
    "set_123_subsetEq_set_12345 = set_12345.deduceEnumSubsetEq(subset=set_123)"
   ]
  },
  {
   "cell_type": "code",
   "execution_count": null,
   "metadata": {},
   "outputs": [],
   "source": [
    "# establish a related proper subset judgement:\n",
    "set_12345_subsetEq_set_1234567 = set_1234567.deduceEnumProperSubset(subset=set_12345)"
   ]
  },
  {
   "cell_type": "code",
   "execution_count": null,
   "metadata": {},
   "outputs": [],
   "source": [
    "# use transitivity to go from first set to 3rd set\n",
    "# (even though using expressions, the expressions have to be true or provable)\n",
    "SubsetEq(set_123, set_12345).applyTransitivity(SubsetEq(set_12345, set_1234567))"
   ]
  },
  {
   "cell_type": "code",
   "execution_count": null,
   "metadata": {},
   "outputs": [],
   "source": [
    "# this process can work more generally:\n",
    "A_subsetEq_B, B_subsetEq_C, B_equals_D = SubsetEq(A, B), SubsetEq(B, C), Equals(B, D)\n"
   ]
  },
  {
   "cell_type": "code",
   "execution_count": null,
   "metadata": {},
   "outputs": [],
   "source": [
    "A_subsetEq_B.applyTransitivity(\n",
    "        B_subsetEq_C, assumptions=[A_subsetEq_B, B_subsetEq_C])"
   ]
  },
  {
   "cell_type": "markdown",
   "metadata": {},
   "source": [
    "### `SubsetEq.deduceInBool()`"
   ]
  },
  {
   "cell_type": "code",
   "execution_count": null,
   "metadata": {},
   "outputs": [],
   "source": [
    "# A subsetEq B should be a Boolean\n",
    "SubsetEq(A, B).deduceInBool()"
   ]
  },
  {
   "cell_type": "code",
   "execution_count": null,
   "metadata": {},
   "outputs": [],
   "source": [
    "SubsetEq(Set(a, b, c), Set(a, b, c, d)).deduceInBool()"
   ]
  },
  {
   "cell_type": "markdown",
   "metadata": {},
   "source": [
    "### Testing the `NotProperSubset` and `NotSubsetEq` class methods\n",
    "<br/>\n",
    "<font size =3>The <span style=\"font-family=courier\">NotProperSubset</span> class has the following class methods:<br/>\n",
    "    <div style=\"width: 50%; border: 1px solid green; padding: 5px; margin: 20px; background-color: gainsboro; font-family:courier;\">\n",
    "    <ul>\n",
    "    <li>deriveSideEffects(self, knownTruth)</li>\n",
    "    <li>conclude(self, assumptions=USE_DEFAULTS)</li>\n",
    "    <li>unfold(self, assumptions=USE_DEFAULTS)</li>\n",
    "    <li>concludeAsFolded(self, assumptions=USE_DEFAULTS)</li>\n",
    "    <li>deduceInBool(self, assumptions=USE_DEFAULTS)</li>\n",
    "    </ul>\n",
    "    </div>\n",
    "</font>"
   ]
  },
  {
   "cell_type": "code",
   "execution_count": null,
   "metadata": {},
   "outputs": [],
   "source": [
    "display(set_1234)\n",
    "display(set_123)\n",
    "NPS_kt = NotProperSubset(set_1234, set_123).prove(assumptions=[NotProperSubset(set_1234, set_123)])"
   ]
  },
  {
   "cell_type": "markdown",
   "metadata": {},
   "source": [
    "### `NotProperSubset.deriveSideEffects()`"
   ]
  },
  {
   "cell_type": "code",
   "execution_count": null,
   "metadata": {},
   "outputs": [],
   "source": [
    "# Not quite clear how to test the deriveSideEffects() method\n",
    "# NotProperSubset(set_1234, set_123).deriveSideEffects(NPS_kt)"
   ]
  },
  {
   "cell_type": "markdown",
   "metadata": {},
   "source": [
    "### `NotProperSubset.conclude()`, `NotSubsetEq.conclude()`\n",
    "\n",
    "<font size=3>The <span style=\"font-family:courier;\">conclude()</span> method, called on a NotProperSubset expression such as $A\\not\\subset B$, derives the NotProperSubset as a known truth from the unfolded Not(ProperSubset()) relationship $\\neg(A\\subset B)$, if the unfolded version is known or assumed to be true. This works similarly for a NotSubsetEq expression.</font>"
   ]
  },
  {
   "cell_type": "code",
   "execution_count": null,
   "metadata": {},
   "outputs": [],
   "source": [
    "NotProperSubset(set_1234, set_123).conclude(assumptions=[Not(ProperSubset(set_1234, set_123))])"
   ]
  },
  {
   "cell_type": "code",
   "execution_count": null,
   "metadata": {},
   "outputs": [],
   "source": [
    "NotSubsetEq(set_1234, set_123).conclude(assumptions=[Not(SubsetEq(set_1234, set_123))])"
   ]
  },
  {
   "cell_type": "markdown",
   "metadata": {},
   "source": [
    "### `NotProperSubset.unfold()`, `NotSubsetEq.unfold()`\n",
    "\n",
    "<font size=3>The <span style=\"font-family:courier;\">unfold()</span> method, called on a NotProperSubset expression such as $A\\not\\subset B$, derives the “unfolded” version $\\neg(A\\subset B)$ as a known truth, if the original (self) folded version is known or assumed to be true. The method works similarly for NotSubsetEq expressions.</font>"
   ]
  },
  {
   "cell_type": "code",
   "execution_count": null,
   "metadata": {},
   "outputs": [],
   "source": [
    "NotProperSubset(set_1234, set_123).unfold(assumptions=[NotProperSubset(set_1234, set_123)])"
   ]
  },
  {
   "cell_type": "code",
   "execution_count": null,
   "metadata": {},
   "outputs": [],
   "source": [
    "NotProperSubset(B, A).unfold(assumptions=[NotProperSubset(B, A)])"
   ]
  },
  {
   "cell_type": "code",
   "execution_count": null,
   "metadata": {},
   "outputs": [],
   "source": [
    "NotSubsetEq(set_1234, set_123).unfold(assumptions=[NotSubsetEq(set_1234, set_123)])"
   ]
  },
  {
   "cell_type": "code",
   "execution_count": null,
   "metadata": {},
   "outputs": [],
   "source": [
    "NotSubsetEq(B, A).unfold(assumptions=[NotSubsetEq(B, A)])"
   ]
  },
  {
   "cell_type": "markdown",
   "metadata": {},
   "source": [
    "### `NotProperSubset.concludeAsFolded()`, `NotSubsetEq.concludeAsFolded()`\n",
    "\n",
    "<font size=3>The <span style=\"font-family:courier;\">concludeAsFolded()</span> method, called on a NotProperSubset expression such as $A\\not\\subset B$, derives the (self) “folded” version $A\\not\\subset B$, from the unfolded version $\\neg(A\\subset B)$ being known or assumed to be true. This method is also being called from the <span style=\"font-family:courier;\">conclude()</span> method. The method works similarly for the NotSubsetEq class.</font>"
   ]
  },
  {
   "cell_type": "code",
   "execution_count": null,
   "metadata": {},
   "outputs": [],
   "source": [
    "NotProperSubset(set_1234, set_123).concludeAsFolded(assumptions=[Not(ProperSubset(set_1234, set_123))])"
   ]
  },
  {
   "cell_type": "code",
   "execution_count": null,
   "metadata": {},
   "outputs": [],
   "source": [
    "NotSubsetEq(set_1234, set_123).concludeAsFolded(assumptions=[Not(SubsetEq(set_1234, set_123))])"
   ]
  },
  {
   "cell_type": "markdown",
   "metadata": {},
   "source": [
    "### `NotProperSubset.deduceInBool()`, `NotSubsetEq.deduceInBool()`\n",
    "\n",
    "<font size=3>The <span style=\"font-family:courier;\">deduceInBool()</span> method, called on a NotProperSubset expression such as $A\\not\\subset B$, derives the fact that $A\\not\\subset B \\in \\mathbb{B}$ --- i.e. such subset claims are Boolean. The method works similarly for the NotSubsetEq class.</font>"
   ]
  },
  {
   "cell_type": "code",
   "execution_count": null,
   "metadata": {},
   "outputs": [],
   "source": [
    "# NotProperSubset claims (correct or not) are Boolean:\n",
    "NotProperSubset(A, B).deduceInBool()"
   ]
  },
  {
   "cell_type": "code",
   "execution_count": null,
   "metadata": {},
   "outputs": [],
   "source": [
    "NotProperSubset(Set(a, b, c, d), Set(a, b, c)).deduceInBool()"
   ]
  },
  {
   "cell_type": "code",
   "execution_count": null,
   "metadata": {},
   "outputs": [],
   "source": [
    "# NotSubsetEq claims (correct or not) are Boolean:\n",
    "NotSubsetEq(A, B).deduceInBool()"
   ]
  },
  {
   "cell_type": "code",
   "execution_count": null,
   "metadata": {},
   "outputs": [],
   "source": [
    "NotSubsetEq(Set(a, b, c), Set(a, b, c, d)).deduceInBool()"
   ]
  },
  {
   "cell_type": "markdown",
   "metadata": {},
   "source": [
    "### Testing Some Subset/Superset Automation\n",
    "\n",
    "<font size=3>A number of basic subset/superset identities (such as containment reversals, relaxations, and transitivity) should be accessible through automation. The following cells test the proof automation for a variety of these simple containment identities.</font>"
   ]
  },
  {
   "cell_type": "code",
   "execution_count": null,
   "metadata": {},
   "outputs": [],
   "source": [
    "# subset reversal to superset\n",
    "Superset(B,A).prove([Subset(A,B)])"
   ]
  },
  {
   "cell_type": "code",
   "execution_count": null,
   "metadata": {},
   "outputs": [],
   "source": [
    "# subsetEq reversal to supersetEq\n",
    "SupersetEq(B,A).prove([SubsetEq(A,B)])"
   ]
  },
  {
   "cell_type": "code",
   "execution_count": null,
   "metadata": {},
   "outputs": [],
   "source": [
    "# superset reversal to subset\n",
    "Subset(B,A).prove([Superset(A,B)])"
   ]
  },
  {
   "cell_type": "code",
   "execution_count": null,
   "metadata": {},
   "outputs": [],
   "source": [
    "# supersetEq reversal to subsetEq\n",
    "SubsetEq(B,A).prove([SupersetEq(A,B)])"
   ]
  },
  {
   "cell_type": "code",
   "execution_count": null,
   "metadata": {},
   "outputs": [],
   "source": [
    "# subset relaxation to subsetEq\n",
    "SubsetEq(A,B).prove([Subset(A,B)])"
   ]
  },
  {
   "cell_type": "code",
   "execution_count": null,
   "metadata": {},
   "outputs": [],
   "source": [
    "# superset relaxation to supersetEq\n",
    "SupersetEq(A,B).prove([Superset(A,B)])"
   ]
  },
  {
   "cell_type": "code",
   "execution_count": null,
   "metadata": {},
   "outputs": [],
   "source": [
    "# equality relax to subsetEq\n",
    "SubsetEq(A,B).prove([Equals(A, B)])"
   ]
  },
  {
   "cell_type": "code",
   "execution_count": null,
   "metadata": {},
   "outputs": [],
   "source": [
    "# equality relax to supersetEq\n",
    "SupersetEq(A,B).prove([Equals(A,B)])"
   ]
  },
  {
   "cell_type": "code",
   "execution_count": null,
   "metadata": {},
   "outputs": [],
   "source": [
    "# subset transitivity\n",
    "Subset(A,B).applyTransitivity(Subset(B,C), assumptions=[Subset(A,B), Subset(B,C)])"
   ]
  },
  {
   "cell_type": "code",
   "execution_count": null,
   "metadata": {},
   "outputs": [],
   "source": [
    "# subset/subsetEq transitivity\n",
    "SubsetEq(A,B).applyTransitivity(Subset(B,C), assumptions=[SubsetEq(A,B), Subset(B,C)])"
   ]
  },
  {
   "cell_type": "code",
   "execution_count": null,
   "metadata": {},
   "outputs": [],
   "source": [
    "# subset/subsetEq transitivity\n",
    "Subset(A,B).applyTransitivity(SubsetEq(B,C), assumptions=[Subset(A,B), SubsetEq(B,C)])"
   ]
  },
  {
   "cell_type": "code",
   "execution_count": null,
   "metadata": {},
   "outputs": [],
   "source": [
    "# subsetEq transitivity\n",
    "SubsetEq(A,B).applyTransitivity(SubsetEq(B,C), assumptions=[SubsetEq(A,B), SubsetEq(B,C)])"
   ]
  },
  {
   "cell_type": "code",
   "execution_count": null,
   "metadata": {},
   "outputs": [],
   "source": [
    "# superset transitivity\n",
    "Superset(A,B).applyTransitivity(Superset(B,C), assumptions=[Superset(A,B), Superset(B,C)])"
   ]
  },
  {
   "cell_type": "code",
   "execution_count": null,
   "metadata": {},
   "outputs": [],
   "source": [
    "%end demonstrations"
   ]
  }
 ],
 "metadata": {
  "kernelspec": {
   "display_name": "Python 3",
   "language": "python",
   "name": "python3"
  }
 },
 "nbformat": 4,
 "nbformat_minor": 0
}
