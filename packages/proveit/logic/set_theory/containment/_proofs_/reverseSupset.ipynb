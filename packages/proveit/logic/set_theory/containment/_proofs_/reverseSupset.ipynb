{
 "cells": [
  {
   "cell_type": "markdown",
   "metadata": {},
   "source": [
    "Proof of <a class=\"ProveItLink\" href=\"../../../../_context_.ipynb\">proveit</a>.<a class=\"ProveItLink\" href=\"../../../_context_.ipynb\">logic</a>.<a class=\"ProveItLink\" href=\"../../_context_.ipynb\">set_theory</a>.<a class=\"ProveItLink\" href=\"../_context_.ipynb\">containment</a>.<a href=\"../_theorems_.ipynb#reverseSupset\" class=\"ProveItLink\">reverseSupset</a> theorem\n",
    "========"
   ]
  },
  {
   "cell_type": "code",
   "execution_count": 1,
   "metadata": {},
   "outputs": [],
   "source": [
    "import sys\n",
    "sys.path.append('..') # allows access to modules in parent context\n",
    "import proveit"
   ]
  },
  {
   "cell_type": "code",
   "execution_count": 2,
   "metadata": {},
   "outputs": [
    {
     "name": "stdout",
     "output_type": "stream",
     "text": [
      "Beginning proof of reverseSupset\n",
      "Recorded 'presuming' information\n",
      "Presuming previous theorems (applied transitively).\n"
     ]
    },
    {
     "data": {
      "text/html": [
       "<strong id=\"reverseSupset\">reverseSupset:</strong> <a class=\"ProveItLink\" href=\"../__pv_it/17c66dd55ddc2882d0faab9dd3244f23163fe0660/expr.ipynb\"><img src=\"data:image/png;base64,iVBORw0KGgoAAAANSUhEUgAAALoAAAAWBAMAAACF/ptXAAAAMFBMVEX///8QEBCIiIhmZma6urrM\n",
       "zMxUVFQiIiJERETc3Nzu7u6qqqp2dnaYmJgyMjIAAAAcRTyBAAAAAXRSTlMAQObYZgAAAs9JREFU\n",
       "SMetlU1oE0EUx//dpM3udpP2pqCH3OxFUwhE0GADOSiCtHjQmwlUJXqwRQ+lqFjxKxUh8WQvkpUK\n",
       "lgg14EE8tdqDpYpExZPURtRLEVr6/UGp781k2+mHLa4u7OzMvHm/9+a9N7OA6+fhNvLqLFDizrAL\n",
       "uNkB+Ftmwqmbm0lP0XsOeMv9URf0ALmGCjLR0LSJdIzeXqCLPkaHC/onbhJFoLF+o9A/ZgNWEAH+\n",
       "FFzQ27kJ0QZGghJ4p62tzdnG0wYSmLXwD+XzD1zAjVZurxNjhy3Gv7KKtBiKUfsDmEunr7igayIe\n",
       "M8DJ82LsU+Feu49ChgHgDNAppmR7ZHIgJRZ6naX6ip43E410OrOsXjkzXHdZjg+qph8jweH6CsRh\n",
       "iqr0T8nw1cKqFerO0pHYitYH4FW56+NcafPAo6QYt6r0GHK8tRe0DBq7ge4lIfAkUb2g0s2GIrrD\n",
       "4c/cjwB9tpyuYJs6+aEtirAnFXhlc7iFyzBBBVP0iamhS9KnIDwllW49qYeZz8fZmYvAISj0GmJq\n",
       "E87ZWg07iUuSbpROCHvBtJA8a8I+W6Uf16VinBDT0EbVyHC5V01tiAyJfBzdw5zN0zxThf1C0ri3\n",
       "Tm7SoSc9UtFqgnfi422oWeVyT0jjr5ViJXpgXGYVz4X2F4SE6D2wR6X7C9q43G4QVgma46PFkfpG\n",
       "0ztlIgKrJ5KPj075RpSDx8Vjfn+XEcvuAbmCQu+NDi5Ij/qh98NYdGJLZi4sN0fSZap59mhZ0rM8\n",
       "iurMLFn/yd4x1WMjJ44xaTdmFfoBGNPlTaCmAO/8mptALZRB5SaQBldycYz2UDTuwliAsVuJjJfC\n",
       "u+SMczbu96+5xbZ8rKCTozkYmauVu/BmMpyKKfRMB7pmOYHGLVjXwpHVy1zPbkfvXf87Ufq60u9J\n",
       "p2/Ym/w9tn46141f/oHu6s/nX7+54t/Q/+nx/AfGb3O/sH8i0PZmAAAAAElFTkSuQmCC\n",
       "\" style=\"display:inline;vertical-align:middle;\" /></a><br>(see <a class=\"ProveItLink\" href=\"../__pv_it/17c66dd55ddc2882d0faab9dd3244f23163fe0660/dependencies.ipynb\">dependencies</a>)<br>"
      ],
      "text/plain": [
       "reverseSupset: forall_{A, B | A supset B} (B subset A)"
      ]
     },
     "execution_count": 2,
     "metadata": {},
     "output_type": "execute_result"
    }
   ],
   "source": [
    "%proving reverseSupset presuming []"
   ]
  },
  {
   "cell_type": "code",
   "execution_count": null,
   "metadata": {},
   "outputs": [],
   "source": []
  }
 ],
 "metadata": {
  "kernelspec": {
   "display_name": "Python 3",
   "language": "python",
   "name": "python3"
  }
 },
 "nbformat": 4,
 "nbformat_minor": 0
}
