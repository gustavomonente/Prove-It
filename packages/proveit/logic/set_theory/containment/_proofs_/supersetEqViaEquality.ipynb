{
 "cells": [
  {
   "cell_type": "markdown",
   "metadata": {},
   "source": [
    "Proof of <a class=\"ProveItLink\" href=\"../../../../_context_.ipynb\">proveit</a>.<a class=\"ProveItLink\" href=\"../../../_context_.ipynb\">logic</a>.<a class=\"ProveItLink\" href=\"../../_context_.ipynb\">set_theory</a>.<a class=\"ProveItLink\" href=\"../_context_.ipynb\">containment</a>.<a href=\"../_theorems_.ipynb#supersetEqViaEquality\" class=\"ProveItLink\">supersetEqViaEquality</a> theorem\n",
    "========\n",
    "*** see <a href=\"../__pv_it/47693a3681f83c1d3a81ca1cb74bc485125038e40/dependencies.ipynb\" class=\"ProveItLink\">dependencies</a> ***"
   ]
  },
  {
   "cell_type": "code",
   "execution_count": null,
   "metadata": {},
   "outputs": [],
   "source": [
    "import proveit\n",
    "from proveit._common_ import x, y, A, B, Px\n",
    "from proveit.logic import Equals, SupersetEq\n",
    "from proveit.logic.equality._theorems_ import subRightSideInto\n",
    "from proveit.logic.set_theory.containment._theorems_ import supsetEqReflexive\n",
    "%proving supersetEqViaEquality presuming [proveit.logic]"
   ]
  },
  {
   "cell_type": "markdown",
   "metadata": {},
   "source": [
    "This proceeded automatically but with a 7-step proof using the subsetEqViaEquality.\n",
    "By introducing the subRightSideInto thm, and the reflexiveness of supersets, we nudge the proof to be a bit shorter."
   ]
  },
  {
   "cell_type": "code",
   "execution_count": null,
   "metadata": {},
   "outputs": [],
   "source": [
    "supsetEqReflexive"
   ]
  },
  {
   "cell_type": "code",
   "execution_count": null,
   "metadata": {},
   "outputs": [],
   "source": [
    "supsetEqReflexive.specialize()"
   ]
  },
  {
   "cell_type": "code",
   "execution_count": null,
   "metadata": {},
   "outputs": [],
   "source": [
    "subRightSideInto"
   ]
  },
  {
   "cell_type": "code",
   "execution_count": null,
   "metadata": {},
   "outputs": [],
   "source": [
    "subRightSideInto.specialize({Px:SupersetEq(A, x), x:A, y:B }, assumptions=[Equals(A, B)])"
   ]
  },
  {
   "cell_type": "code",
   "execution_count": null,
   "metadata": {},
   "outputs": [],
   "source": [
    "%qed"
   ]
  }
 ],
 "metadata": {
  "kernelspec": {
   "display_name": "Python 3",
   "language": "python",
   "name": "python3"
  }
 },
 "nbformat": 4,
 "nbformat_minor": 0
}
