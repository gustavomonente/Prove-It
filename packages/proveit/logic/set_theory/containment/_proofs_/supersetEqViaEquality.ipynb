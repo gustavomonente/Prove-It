{
 "cells": [
  {
   "cell_type": "markdown",
   "metadata": {},
   "source": [
    "Proof of <a class=\"ProveItLink\" href=\"../../../../_context_.ipynb\">proveit</a>.<a class=\"ProveItLink\" href=\"../../../_context_.ipynb\">logic</a>.<a class=\"ProveItLink\" href=\"../../_context_.ipynb\">set_theory</a>.<a class=\"ProveItLink\" href=\"../_context_.ipynb\">containment</a>.<a href=\"../_theorems_.ipynb#supersetEqViaEquality\" class=\"ProveItLink\">supersetEqViaEquality</a> theorem\n",
    "========\n",
    "*** see <a href=\"../__pv_it/47693a3681f83c1d3a81ca1cb74bc485125038e40/dependencies.ipynb\" class=\"ProveItLink\">dependencies</a> ***"
   ]
  },
  {
   "cell_type": "code",
   "execution_count": 1,
   "metadata": {},
   "outputs": [
    {
     "name": "stdout",
     "output_type": "stream",
     "text": [
      "Beginning proof of supersetEqViaEquality\n",
      "Recorded 'presuming' information\n",
      "Presuming previous theorems (applied transitively).\n"
     ]
    },
    {
     "data": {
      "text/html": [
       "<strong id=\"supersetEqViaEquality\">supersetEqViaEquality:</strong> <a class=\"ProveItLink\" href=\"../__pv_it/1b61b1cbd3acc0dee6acd5ba8600d88afc934ed80/expr.ipynb\"><img src=\"data:image/png;base64,iVBORw0KGgoAAAANSUhEUgAAALkAAAAWBAMAAABuySBUAAAAMFBMVEX///8QEBCIiIhmZma6urrM\n",
       "zMxUVFQiIiJERETc3Nzu7u6qqqp2dnaYmJgyMjIAAAAcRTyBAAAAAXRSTlMAQObYZgAAAsBJREFU\n",
       "SMetlU1oE0EUx//uR5vdJG1PIiiSm160hUAUKRrxIoK0eOhRAyrkokYLTS2KFUSTWsh6siDSiEKh\n",
       "Bw0URE/WelCqyFpBELEGPIg92NKYmlZqfTOzu5m02NbVgd339s2+35t582YG8N1ur9H/mJ4iUz76\n",
       "gJu9XOjFFT3vlo7HMnHUWcBL9j3lg95gCTHDQ31Jp7sjbtcmQC3DpLgD9GX0+qC/FWJywZvMZFwo\n",
       "+iKglYAxip0HQgUf9PMCOTJfzdVXIRUyhWeBOyTGh4dv+oAbKS7Cyveq7agQgSYi99DAaS6VTOaC\n",
       "D7rSwsWh4OKKpWhMQO9iKaFfTgJZbhTvg6VnSf6T5voELFfTcq2xrGu1eTLi+myV7mT42KmJa0wL\n",
       "07Ie4ItLuphiuAmhJu7u+nyKe+5vgKeOWl8QQzBKVboq/my2YG4kGaTk1UPhw7grpqgmEFyQ6eY+\n",
       "23OPAU/yQt3ASR3RWEXKjBCXWQQKrlOxhux6bhvvFGOKQC3K9NBQi+d+DtgLmU6vrVX6QyHmGD0i\n",
       "6EaxgxdpJMO7HrRjZ16mHwl4u8EsQ5mSMxOk56wH13u8cscZiquxssqeYLY67OJ9bTu2JyDTE2oK\n",
       "yQw1G9rsxFXIq3qLnmnXcm+35ZW7XnFWFSO8cj+gmfe9BrbJ9HBBmfFqoggl5eotTs3nLOck6Hf2\n",
       "ZAMVxf4+toSjrDzZ+WB+fpXjCekHBgsS/X7rC2+vB0Zh/HSrMwUz9yuPR0udtRuhbnoumrzOw7Sz\n",
       "0TGqmscg+wB5t1kSfQ+MMk5/o2ajsQBtvvYkWK0NedphmoNt9MFYgLFFyoxG6fV242AeN0aXnWKr\n",
       "tDFvzhUYuYv6ZjwvRZNxiZ7rxcAPp+BDl6KxK1i5hZ28p9NdtRfA8pM/KOmB9d0ef2414d3Lar30\n",
       "NW++98sN9t/Q/6mp/4HxG0fLtXM9XkiMAAAAAElFTkSuQmCC\n",
       "\" style=\"display:inline;vertical-align:middle;\" /></a><br>(see <a class=\"ProveItLink\" href=\"../__pv_it/1b61b1cbd3acc0dee6acd5ba8600d88afc934ed80/dependencies.ipynb\">dependencies</a>)<br>"
      ],
      "text/plain": [
       "supersetEqViaEquality: forall_{A, B | A = B} (A supseteq B)"
      ]
     },
     "execution_count": 1,
     "metadata": {},
     "output_type": "execute_result"
    }
   ],
   "source": [
    "import proveit\n",
    "%proving supersetEqViaEquality presuming []"
   ]
  },
  {
   "cell_type": "code",
   "execution_count": null,
   "metadata": {},
   "outputs": [],
   "source": []
  }
 ],
 "metadata": {
  "kernelspec": {
   "display_name": "Python 3",
   "language": "python",
   "name": "python3"
  }
 },
 "nbformat": 4,
 "nbformat_minor": 0
}
