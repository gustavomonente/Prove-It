{
 "cells": [
  {
   "cell_type": "markdown",
   "metadata": {},
   "source": [
    "Proof of <a class=\"ProveItLink\" href=\"../../../../_context_.ipynb\">proveit</a>.<a class=\"ProveItLink\" href=\"../../../_context_.ipynb\">logic</a>.<a class=\"ProveItLink\" href=\"../../_context_.ipynb\">set_theory</a>.<a class=\"ProveItLink\" href=\"../_context_.ipynb\">containment</a>.<a href=\"../_theorems_.ipynb#foldNotSubsetEq\" class=\"ProveItLink\">foldNotSubsetEq</a> theorem\n",
    "========"
   ]
  },
  {
   "cell_type": "code",
   "execution_count": 1,
   "metadata": {},
   "outputs": [],
   "source": [
    "import sys\n",
    "sys.path.append('..') # allows access to modules in parent context\n",
    "import proveit"
   ]
  },
  {
   "cell_type": "code",
   "execution_count": 2,
   "metadata": {},
   "outputs": [
    {
     "name": "stdout",
     "output_type": "stream",
     "text": [
      "Beginning proof of foldNotSubsetEq\n",
      "Recorded 'presuming' information\n",
      "Presuming previous theorems (applied transitively).\n"
     ]
    },
    {
     "data": {
      "text/html": [
       "<strong id=\"foldNotSubsetEq\">foldNotSubsetEq:</strong> <a class=\"ProveItLink\" href=\"../__pv_it/4d722e01e7eb14600282b5fa095043085dc793230/expr.ipynb\"><img src=\"data:image/png;base64,iVBORw0KGgoAAAANSUhEUgAAANEAAAAYBAMAAACW8wWgAAAAMFBMVEX///8QEBCIiIhmZma6urrM\n",
       "zMxUVFQiIiJERETc3Nzu7u6qqqp2dnaYmJgyMjIAAAAcRTyBAAAAAXRSTlMAQObYZgAAA1tJREFU\n",
       "SMe9VUtIVFEY/pyXc+eh7gyKmF1SmIIxUUgOBSFBKC1sEzlggrSosYihF06gcZVipk0NRDniwpCw\n",
       "ASOKgswWqUXcclOUOdEitEWiaTZh9p9z7r0zc2eGqMEO3PP4/3vO9z++/xxgjZoF/6sVr9G5N7Ik\n",
       "7zNWD+hLsMlUgUCOEB+siZRoVgzu40s1bZ2wRYDnaeJ/biURMcyp6zfB9vJTYlpERtQ1OsiGKK2k\n",
       "UIFIk2L4kBTjzXHYGlVVswI0VGOU7IgBrniBSKdFDId/iHEGGNJUVeTutAd9FMiJwcFrBQJJAZET\n",
       "0zc+2sjwSk13gZDLYyjxAcuyfO7PZ+USagGCqZoP+5wrOsEDmm4JOHiUwka/tALdXCb6+oWnbZGs\n",
       "0hthnT2il2W41tuNu9rSrvCg+azzfHkVcI6oKuvSVMVZ5i9RYg8cnJxu4bq7DK4yvj0NyMYxpikC\n",
       "t2X5Ik1fAU9g1pCL48I0aYEvozoZyV1KXZ+foAPMVxM3qV+4bvbDmTQiHeI21ymwdgmBF3gcc/hV\n",
       "dZGP9U013mUtelHdXbLa9JN8owJwKeLimDgpfvPAnDAitbLONVCtC08Au4CZDCTqNvKlS8E2bWcp\n",
       "WWOaF0hSookH1CNz1Z1GbI0ZkXh+D9hDeKjeCYswzaYIxqPnpK9drL84dEKwcrJRXixM0n2EpwLb\n",
       "uaqhskIExW5ksd8cwA6VEfOvWbbupTPiOn1fxfpWiye9nJpDghEY5ue8QxVXvQQ2pSGNybKcsLA7\n",
       "xB03zWFc7HclYKJd9epxjMLcmrBKhObPwaC4jT6SWesoRmZGxlJmgOPTizAP2iWgN57pk9/CvByq\n",
       "HUtit+rECCRK82GN9AE4wr9iuL8qck18Vtux1RavzI4rYcXnZgjmGHp5JdIBDREDkpX5tBPSolZS\n",
       "pXFYiL57M2+jVOvKqvIBfbaftitSD6QkpA2GPPlZgi2UixU4LnOo3hiujKS9QZOGGyWRhTSq034Z\n",
       "Uvi8dT2eLdS0+QxIEZyhFIQQ/a7AOUaV6+qo8XaSQudy6vbgaesIBrU8aQ+YEduZNk9n+Zbct2HC\n",
       "8BLmf9kzTVEf4VxI9pxATiXP6/4o69e3RoGS53SLpogS6WVN2p/v5u/5u0fHnM9ZvW3OtzWSS/gb\n",
       "uO3WhJob99sAAAAASUVORK5CYII=\n",
       "\" style=\"display:inline;vertical-align:middle;\" /></a><br>(see <a class=\"ProveItLink\" href=\"../__pv_it/4d722e01e7eb14600282b5fa095043085dc793230/dependencies.ipynb\">dependencies</a>)<br>"
      ],
      "text/plain": [
       "foldNotSubsetEq: forall_{A, B | [not](A subseteq B)} (A nsubseteq B)"
      ]
     },
     "execution_count": 2,
     "metadata": {},
     "output_type": "execute_result"
    }
   ],
   "source": [
    "%proving foldNotSubsetEq presuming []"
   ]
  },
  {
   "cell_type": "code",
   "execution_count": null,
   "metadata": {},
   "outputs": [],
   "source": []
  }
 ],
 "metadata": {
  "kernelspec": {
   "display_name": "Python 3",
   "language": "python",
   "name": "python3"
  }
 },
 "nbformat": 4,
 "nbformat_minor": 0
}
