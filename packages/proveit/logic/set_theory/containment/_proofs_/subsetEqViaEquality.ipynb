{
 "cells": [
  {
   "cell_type": "markdown",
   "metadata": {},
   "source": [
    "Proof of <a class=\"ProveItLink\" href=\"../../../../_context_.ipynb\">proveit</a>.<a class=\"ProveItLink\" href=\"../../../_context_.ipynb\">logic</a>.<a class=\"ProveItLink\" href=\"../../_context_.ipynb\">set_theory</a>.<a class=\"ProveItLink\" href=\"../_context_.ipynb\">containment</a>.<a href=\"../_theorems_.ipynb#subsetEqViaEquality\" class=\"ProveItLink\">subsetEqViaEquality</a> theorem\n",
    "========\n",
    "*** see <a href=\"../__pv_it/25e91905b7f122ed31887b2ec5caefd3bc7bd0470/dependencies.ipynb\" class=\"ProveItLink\">dependencies</a> ***"
   ]
  },
  {
   "cell_type": "code",
   "execution_count": 1,
   "metadata": {},
   "outputs": [
    {
     "name": "stdout",
     "output_type": "stream",
     "text": [
      "Beginning proof of subsetEqViaEquality\n",
      "Recorded 'presuming' information\n",
      "Presuming previous theorems (applied transitively).\n"
     ]
    },
    {
     "data": {
      "text/html": [
       "<strong id=\"subsetEqViaEquality\">subsetEqViaEquality:</strong> <a class=\"ProveItLink\" href=\"../__pv_it/2b8ebd9f647677387b5bbfa56d0fee480caadb820/expr.ipynb\"><img src=\"data:image/png;base64,iVBORw0KGgoAAAANSUhEUgAAALkAAAAWBAMAAABuySBUAAAAMFBMVEX///8QEBCIiIhmZma6urrM\n",
       "zMxUVFQiIiJERETc3Nzu7u6qqqp2dnaYmJgyMjIAAAAcRTyBAAAAAXRSTlMAQObYZgAAArxJREFU\n",
       "SMetVU1oE0EU/tzstt38tD2JoEhuetEWAhG0aMSLFKTFQ68G/MtFjRYMimIE0bQKiScLIol4KPSg\n",
       "C73oyVgPLVVkrSCIqAFvRWxpbE0jtb55k10nDbZ19cHum5k3833z3nw7C3i2e2vEn9BTEo0PHsD9\n",
       "aXZGqSHydvloNBNDUw54IfrTHtBbc9LNym7oZCqV6pXtTYBvHn7iHaKemfaA/ka6j1V25pecGzGW\n",
       "AL0MjBF3AQhaHtAvyPqMLqqZsGk0FJoD7pObHBm54wHcTMqCaN/Y71FCLe2EfJEYY0Alk7nkAV3r\n",
       "ZNcdWGKfVEJtcRjnRUloynFggAfl+2D5eYKz1N2tuEnr2a7ogDNqc2FixhxnElfQj5yauiFqHaJj\n",
       "PcCHS22ZYqgdwXZe7kz+FHPXvQae1ZrNltyCWVbkKa0jB/9G8gFKqBkab+OBTNEXR6Cqovv32e66\n",
       "KPC0IJsbmLMvEq00VOaqYCByg8QatJt5bLJf7ikMX0lFDw53uuvOAXuhotNrK3fHFPQFgR6W6Gap\n",
       "j0UaznDoUS92FlT0wy1u1v55aNNqZQL0nJWKtOrkjjPEq4uEBo6JsSbs4ljPju3yhBz0uC+JRIbM\n",
       "hj43dR3qqd6lZ0YSn+hW5W5UaqeKUa7Ze3Rw7BWwTUUPWdqssy5YguYUWMiNNZ+VkjImnJuglUSx\n",
       "f1AcYVHIMyy4P7/MckFuAXlLQX/YNVF191uE+cNRZxL+7M8CHi/3138ITTMLkcRNphFkIYHqKyDP\n",
       "zLS6J6eg74Y5j9NfyWy0WdAX62+C1WzYbR2iHGxzEGYV5halMjqVd8mZlC/gdnHFLbaKuTpqqcDM\n",
       "XjY2Y7wcScQU9GwaQ99rgg9eiUSvofETFjaeSv2+gWsKW3nzB9S7aH1/jz9bPX3tZ7Ve9DX/fO9W\n",
       "Dth/g/5P5vsPGL8ARgi0WRAlBzIAAAAASUVORK5CYII=\n",
       "\" style=\"display:inline;vertical-align:middle;\" /></a><br>(see <a class=\"ProveItLink\" href=\"../__pv_it/2b8ebd9f647677387b5bbfa56d0fee480caadb820/dependencies.ipynb\">dependencies</a>)<br>"
      ],
      "text/plain": [
       "subsetEqViaEquality: forall_{A, B | A = B} (A subseteq B)"
      ]
     },
     "execution_count": 1,
     "metadata": {},
     "output_type": "execute_result"
    }
   ],
   "source": [
    "import proveit\n",
    "%proving subsetEqViaEquality presuming []"
   ]
  },
  {
   "cell_type": "code",
   "execution_count": null,
   "metadata": {},
   "outputs": [],
   "source": []
  }
 ],
 "metadata": {
  "kernelspec": {
   "display_name": "Python 3",
   "language": "python",
   "name": "python3"
  }
 },
 "nbformat": 4,
 "nbformat_minor": 0
}
