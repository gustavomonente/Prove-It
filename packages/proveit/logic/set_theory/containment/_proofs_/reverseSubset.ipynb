{
 "cells": [
  {
   "cell_type": "markdown",
   "metadata": {},
   "source": [
    "Proof of <a class=\"ProveItLink\" href=\"../../../../_context_.ipynb\">proveit</a>.<a class=\"ProveItLink\" href=\"../../../_context_.ipynb\">logic</a>.<a class=\"ProveItLink\" href=\"../../_context_.ipynb\">set_theory</a>.<a class=\"ProveItLink\" href=\"../_context_.ipynb\">containment</a>.<a href=\"../_theorems_.ipynb#reverseSubset\" class=\"ProveItLink\">reverseSubset</a> theorem\n",
    "========"
   ]
  },
  {
   "cell_type": "code",
   "execution_count": null,
   "metadata": {},
   "outputs": [],
   "source": [
    "import proveit\n",
    "from proveit._common_ import x, A, B\n",
    "from proveit.logic import And, Implies, InSet, NotSubsetEq, NotSupersetEq, Subset, SubsetEq\n",
    "from proveit.logic.set_theory.containment._axioms_ import subsetDef, subsetEqDef, supersetDef, notSubsetEqDef, notSupersetEqDef\n",
    "from proveit.logic.set_theory.containment._theorems_ import reverseSubsetEq, reverseNotSubsetEq, unfoldSubset\n",
    "from proveit.logic.set_theory.containment._theorems_ import unfoldSubsetEq, relaxSubset"
   ]
  },
  {
   "cell_type": "code",
   "execution_count": null,
   "metadata": {},
   "outputs": [],
   "source": [
    "%proving reverseSubset presuming [proveit.logic]"
   ]
  },
  {
   "cell_type": "markdown",
   "metadata": {},
   "source": [
    "### Step 1: $A\\subset B \\vdash (A\\subseteq B)\\land(B\\not\\subseteq A)$"
   ]
  },
  {
   "cell_type": "code",
   "execution_count": null,
   "metadata": {},
   "outputs": [],
   "source": [
    "subsetDef"
   ]
  },
  {
   "cell_type": "code",
   "execution_count": null,
   "metadata": {},
   "outputs": [],
   "source": [
    "subsetDef_inst = subsetDef.instantiate()"
   ]
  },
  {
   "cell_type": "code",
   "execution_count": null,
   "metadata": {},
   "outputs": [],
   "source": [
    "subsetDef_inst_deriveRight = subsetDef_inst.deriveRightViaEquivalence([subsetDef_inst.lhs])"
   ]
  },
  {
   "cell_type": "markdown",
   "metadata": {},
   "source": [
    "### Step 2: Convert $(A\\subseteq B)$ to $(B\\supseteq A)$"
   ]
  },
  {
   "cell_type": "code",
   "execution_count": null,
   "metadata": {},
   "outputs": [],
   "source": [
    "reverseSubsetEq"
   ]
  },
  {
   "cell_type": "code",
   "execution_count": null,
   "metadata": {},
   "outputs": [],
   "source": [
    "reverseSubsetEq_inst = reverseSubsetEq.instantiate(assumptions=[SubsetEq(A, B)])"
   ]
  },
  {
   "cell_type": "code",
   "execution_count": null,
   "metadata": {},
   "outputs": [],
   "source": [
    "c_2 = And(reverseSubsetEq_inst.expr, subsetDef_inst_deriveRight.expr.operands[1]).prove(assumptions=[Subset(A,B)])"
   ]
  },
  {
   "cell_type": "markdown",
   "metadata": {},
   "source": [
    "### Step 3: Convert $(B\\not\\subseteq A)$ to $(A\\not\\supseteq B)$"
   ]
  },
  {
   "cell_type": "code",
   "execution_count": null,
   "metadata": {},
   "outputs": [],
   "source": [
    "reverseNotSubsetEq"
   ]
  },
  {
   "cell_type": "code",
   "execution_count": null,
   "metadata": {},
   "outputs": [],
   "source": [
    "c_3_1 = reverseNotSubsetEq_inst = reverseNotSubsetEq.instantiate({A:B, B:A}, assumptions=[NotSubsetEq(B, A)])"
   ]
  },
  {
   "cell_type": "code",
   "execution_count": null,
   "metadata": {},
   "outputs": [],
   "source": [
    "c_3_3 = c_3_1.asImplication(hypothesis=NotSubsetEq(B,A))"
   ]
  },
  {
   "cell_type": "markdown",
   "metadata": {},
   "source": [
    "### Step 4: Substitute In Def of Superset to get  $\\{A \\subset B\\} \\vdash (B \\supset A)$"
   ]
  },
  {
   "cell_type": "code",
   "execution_count": null,
   "metadata": {},
   "outputs": [],
   "source": [
    "supersetDef"
   ]
  },
  {
   "cell_type": "code",
   "execution_count": null,
   "metadata": {},
   "outputs": [],
   "source": [
    "supersetDef_inst = supersetDef.instantiate({A:B, B:A})"
   ]
  },
  {
   "cell_type": "code",
   "execution_count": null,
   "metadata": {},
   "outputs": [],
   "source": [
    "supersetDef_inst.deriveLeftViaEquivalence(assumptions=[Subset(A, B)])"
   ]
  },
  {
   "cell_type": "code",
   "execution_count": null,
   "metadata": {},
   "outputs": [],
   "source": [
    "%qed"
   ]
  },
  {
   "cell_type": "code",
   "execution_count": null,
   "metadata": {},
   "outputs": [],
   "source": []
  }
 ],
 "metadata": {
  "kernelspec": {
   "display_name": "Python 3",
   "language": "python",
   "name": "python3"
  }
 },
 "nbformat": 4,
 "nbformat_minor": 0
}
