{
 "cells": [
  {
   "cell_type": "markdown",
   "metadata": {},
   "source": [
    "Proof of <a class=\"ProveItLink\" href=\"../../../../_context_.ipynb\">proveit</a>.<a class=\"ProveItLink\" href=\"../../../_context_.ipynb\">logic</a>.<a class=\"ProveItLink\" href=\"../../_context_.ipynb\">set_theory</a>.<a class=\"ProveItLink\" href=\"../_context_.ipynb\">containment</a>.<a href=\"../_theorems_.ipynb#reverseSubset\" class=\"ProveItLink\">reverseSubset</a> theorem\n",
    "========"
   ]
  },
  {
   "cell_type": "code",
   "execution_count": 1,
   "metadata": {},
   "outputs": [],
   "source": [
    "import sys\n",
    "sys.path.append('..') # allows access to modules in parent context\n",
    "import proveit"
   ]
  },
  {
   "cell_type": "code",
   "execution_count": 2,
   "metadata": {},
   "outputs": [
    {
     "name": "stdout",
     "output_type": "stream",
     "text": [
      "Beginning proof of reverseSubset\n",
      "Recorded 'presuming' information\n",
      "Presuming previous theorems (applied transitively).\n"
     ]
    },
    {
     "data": {
      "text/html": [
       "<strong id=\"reverseSubset\">reverseSubset:</strong> <a class=\"ProveItLink\" href=\"../__pv_it/aab28e02130e39e7d09ec71ab71708fed2615e250/expr.ipynb\"><img src=\"data:image/png;base64,iVBORw0KGgoAAAANSUhEUgAAALoAAAAWBAMAAACF/ptXAAAAMFBMVEX///8QEBCIiIhmZma6urrM\n",
       "zMxUVFQiIiJERETc3Nzu7u6qqqp2dnaYmJgyMjIAAAAcRTyBAAAAAXRSTlMAQObYZgAAAtJJREFU\n",
       "SMetVU9IFGEU/zk7qzvjrnorqMNChzxUCgsbheRChyIKpUPdWsEKi0ipg0VFG0SMIayd8hI7kZRs\n",
       "YAseopOGRGEhUx3D3KguXhT/a4i9983Mzue6Gk09mO978715v/e933vfN4BvefQHe2UPkGdl3Ae4\n",
       "ngIi7QuxtrulrGfouQC8Z33SB3oVbQ1lFKKxuYR1ip4BoJcmLeUD/TMPSQtoqt9ojEyZQDiKKp5y\n",
       "PtCv81BHCUxESQl2dnZeswrG541k0GsQGc1mH/oA1zp4vEMY20x3aazHtVp1CRp/AEuGcdMHuiL4\n",
       "WABOXyyKSKKaQ5zHCHAO6BJL9nh0dqRNbEF1fUKFHanphniXu8ruwYXx2htSyEFn7kOS6foKHIYu\n",
       "ujIyZ9ejBuEa4e66TCQK3h+B145awbVSloHHLR56hTMnkOHUXvKKIqrxZFUYAi2oXJHR9UYyB3fF\n",
       "YqTHgSGH5TKOGaJ9KL889HI7zWBrrJ3bMEkNY9kRR6/a4aMI5GX08LN66JeOZbOkXwEOQUKvpn0r\n",
       "Mx56yA5NpJblbXQtf0rEixrC8qIZ+0wZ/WQohXL7wOjzUCZlZrjdy+c2MEOmCmb3CFfzrEgK+4Wl\n",
       "aW+tTaSL3hLowHGnqjOf7kGuKrd7UjqKe+zWIfSqabuqGBR99AV1wjQG7JbRIzllGm8ckvJQ3KYL\n",
       "c9m+UcTtpndvCUrBxydE9UYDk8fNo3//kBafdQOZnIQ+0PBuBQec/Q5Dc2uoUpjLa61xwzvnfecF\n",
       "Qv/aJCrTixT9J++O1wImMoJc8m7qkdAPQpunxIRU56Aur7sJCsI3QXfRdaa7eeIE+VrafWgr0HZK\n",
       "zKhE7yr67Y8yJh4Mr7vFtpRw1K3RErT0reAOvJ2NtSUk9HQKvYuWKk5o+HYs7l3m3hHeTAaKfyeS\n",
       "HpINTw3DKPH32Fq6it5fbYbu588XKU7O+hv0f5LAf8D4DaB9sA+u/zZ0AAAAAElFTkSuQmCC\n",
       "\" style=\"display:inline;vertical-align:middle;\" /></a><br>(see <a class=\"ProveItLink\" href=\"../__pv_it/aab28e02130e39e7d09ec71ab71708fed2615e250/dependencies.ipynb\">dependencies</a>)<br>"
      ],
      "text/plain": [
       "reverseSubset: forall_{A, B | A subset B} (B supset A)"
      ]
     },
     "execution_count": 2,
     "metadata": {},
     "output_type": "execute_result"
    }
   ],
   "source": [
    "%proving reverseSubset presuming []"
   ]
  },
  {
   "cell_type": "code",
   "execution_count": null,
   "metadata": {},
   "outputs": [],
   "source": []
  }
 ],
 "metadata": {
  "kernelspec": {
   "display_name": "Python 3",
   "language": "python",
   "name": "python3"
  }
 },
 "nbformat": 4,
 "nbformat_minor": 0
}
