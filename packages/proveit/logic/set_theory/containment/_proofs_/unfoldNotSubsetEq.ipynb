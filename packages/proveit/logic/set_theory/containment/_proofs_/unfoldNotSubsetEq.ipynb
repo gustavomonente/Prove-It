{
 "cells": [
  {
   "cell_type": "markdown",
   "metadata": {},
   "source": [
    "Proof of <a class=\"ProveItLink\" href=\"../../../../_context_.ipynb\">proveit</a>.<a class=\"ProveItLink\" href=\"../../../_context_.ipynb\">logic</a>.<a class=\"ProveItLink\" href=\"../../_context_.ipynb\">set_theory</a>.<a class=\"ProveItLink\" href=\"../_context_.ipynb\">containment</a>.<a href=\"../_theorems_.ipynb#unfoldNotSubsetEq\" class=\"ProveItLink\">unfoldNotSubsetEq</a> theorem\n",
    "========"
   ]
  },
  {
   "cell_type": "code",
   "execution_count": 1,
   "metadata": {},
   "outputs": [],
   "source": [
    "import sys\n",
    "sys.path.append('..') # allows access to modules in parent context\n",
    "import proveit"
   ]
  },
  {
   "cell_type": "code",
   "execution_count": 2,
   "metadata": {},
   "outputs": [
    {
     "name": "stdout",
     "output_type": "stream",
     "text": [
      "Beginning proof of unfoldNotSubsetEq\n",
      "Recorded 'presuming' information\n",
      "Presuming previous theorems (applied transitively).\n"
     ]
    },
    {
     "data": {
      "text/html": [
       "<strong id=\"unfoldNotSubsetEq\">unfoldNotSubsetEq:</strong> <a class=\"ProveItLink\" href=\"../__pv_it/09617c680ba4a98043a6dcb9b2e73d837fa8559c0/expr.ipynb\"><img src=\"data:image/png;base64,iVBORw0KGgoAAAANSUhEUgAAANcAAAAaBAMAAADWJdTsAAAAMFBMVEX///8QEBCIiIhmZma6urrM\n",
       "zMxUVFQiIiJERETc3Nzu7u6qqqp2dnaYmJgyMjIAAAAcRTyBAAAAAXRSTlMAQObYZgAAAzVJREFU\n",
       "SMe9Vl9IU1EY/3W3q7t3u9OHiKCIQQ/1UgqDRSW16KEQwtGDT0GD/vkSrYRG/2hC2bRk66WECBc+\n",
       "GD7UyJd8ammhWcQqCEKqQS8VgaJpc2F2zvnu1TPkahPtg9/O+c6/33e+P+cOWKJoWUm5u8jiXhM5\n",
       "rnwsney+1NdjolFz81a9nzkSiAdRloTASz72vXSyb1Lfm6RmlFTjRDQaDVF/LeCYgM7M4GjnLomV\n",
       "zGVUS8o7aj4VyME/krMz6jTgHAf6IOBNAZ50yWTlSUk5R87smZLvKURhQ8YYcA8CxlB39+3SvShv\n",
       "0SJ0WeWnaHdKU65KRnKeGRAk5OPxi6WTbZT6Crm01j0t2og0VRGGepb7rppwDGj5l+ODRVqbbL6o\n",
       "Aj2ojol7hqWpwyffXuMxMnKEvSJPFpfiJLrAsizKJcPiJ0LuhDYu1QFJVRL6Gta6I4RyKFSfdL/9\n",
       "4/0NSdpsGU6qjyFREzC9sNqKF7vHKnHpen8gP8+NTZyQ2aKOEjzZcoovhdeohKdScFgbPrOzOuNN\n",
       "zaz7BnhqR8Z+NoihPolskpP55si0XL0Y76TwOsJwF2QyfXcW6lXc4v0A8CRluXGWTLjRzXCaUj9d\n",
       "VGY4xcxwRghoOSomhhqpgHxw5GQyT1c1vMAz3j8D7CpOEE4mEuQOwwhZd7xWLjM1LyUIeoSTVV9c\n",
       "zD8MYWtKJjvoimGY3lB9Aor5svVb54Uop0WtJaic1UHrufKygOxp5f7KEFDh4+Nl2CZW1m3ZTLlr\n",
       "kYUdEWyHmy9yjr1tNkf3SYFh/tETf1J4PNNYnMBlI5P+huuCNUSAIS4yjCqx4DWwSSYz0sooXsDF\n",
       "F3lyUCK2z9VC0mXCTIMvrxKC9AbQkZbIHtQMFvCI8sOVgfbb/iFeQPqKstSRQodwMzusLimR7YA2\n",
       "wUrtuXh80nBOmRvkV8clXxMDothD8pD1iTHlADsqq7VCK0BbL7nRyTJtGnqbWNmRws2M/cfTXrg1\n",
       "cxa58tASl9R1GBj3NwQlskQM7b+ycHyNN8Nz2R+4sqS/BR9MFIlbtgZ2yjJJr935h1aALGtD1s4+\n",
       "enGsoDhKyYDlFCX4H8m05TnmL1zU2/n7Oqc7AAAAAElFTkSuQmCC\n",
       "\" style=\"display:inline;vertical-align:middle;\" /></a><br>(see <a class=\"ProveItLink\" href=\"../__pv_it/09617c680ba4a98043a6dcb9b2e73d837fa8559c0/dependencies.ipynb\">dependencies</a>)<br>"
      ],
      "text/plain": [
       "unfoldNotSubsetEq: forall_{A, B | A nsubseteq B} [not](A subseteq B)"
      ]
     },
     "execution_count": 2,
     "metadata": {},
     "output_type": "execute_result"
    }
   ],
   "source": [
    "%proving unfoldNotSubsetEq presuming []"
   ]
  },
  {
   "cell_type": "code",
   "execution_count": null,
   "metadata": {},
   "outputs": [],
   "source": []
  }
 ],
 "metadata": {
  "kernelspec": {
   "display_name": "Python 3",
   "language": "python",
   "name": "python3"
  }
 },
 "nbformat": 4,
 "nbformat_minor": 0
}
