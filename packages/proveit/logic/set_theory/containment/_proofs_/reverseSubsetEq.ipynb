{
 "cells": [
  {
   "cell_type": "markdown",
   "metadata": {},
   "source": [
    "Proof of <a class=\"ProveItLink\" href=\"../../../../_context_.ipynb\">proveit</a>.<a class=\"ProveItLink\" href=\"../../../_context_.ipynb\">logic</a>.<a class=\"ProveItLink\" href=\"../../_context_.ipynb\">set_theory</a>.<a class=\"ProveItLink\" href=\"../_context_.ipynb\">containment</a>.<a href=\"../_theorems_.ipynb#reverseSubsetEq\" class=\"ProveItLink\">reverseSubsetEq</a> theorem\n",
    "========"
   ]
  },
  {
   "cell_type": "code",
   "execution_count": 1,
   "metadata": {},
   "outputs": [],
   "source": [
    "import sys\n",
    "sys.path.append('..') # allows access to modules in parent context\n",
    "import proveit"
   ]
  },
  {
   "cell_type": "code",
   "execution_count": 2,
   "metadata": {},
   "outputs": [
    {
     "name": "stdout",
     "output_type": "stream",
     "text": [
      "Beginning proof of reverseSubsetEq\n",
      "Recorded 'presuming' information\n",
      "Presuming previous theorems (applied transitively).\n"
     ]
    },
    {
     "data": {
      "text/html": [
       "<strong id=\"reverseSubsetEq\">reverseSubsetEq:</strong> <a class=\"ProveItLink\" href=\"../__pv_it/9d4ff48d5e083eafbd325560dddb29adb24d9d550/expr.ipynb\"><img src=\"data:image/png;base64,iVBORw0KGgoAAAANSUhEUgAAALoAAAAWBAMAAACF/ptXAAAAMFBMVEX///8QEBCIiIhmZma6urrM\n",
       "zMxUVFQiIiJERETc3Nzu7u6qqqp2dnaYmJgyMjIAAAAcRTyBAAAAAXRSTlMAQObYZgAAAtZJREFU\n",
       "SMetVU1oU0EQ/vqS2LyXpO1NQQ+52Yu2EIg/FFv0oBdp8aA3U6hC9WCLgvEXI2h5lUriyV4kEQtK\n",
       "lRoQFPHQSg/WKvLUo7SNqIi9tPS/lVJn9r1NNlFbfXQhu5Od3W9mvpmdB7ged9bQB1JAjoURF+BG\n",
       "Agi1zUVar/1Je5R+J4A3LI+7QK8g11BGJuqb2Nb3ePxcuKCdoF8f0E2LnnCB/pGnmAU01spoRhuk\n",
       "MjSRAYJhVPCSdYF+nqcaCmAs77LxQ0oP60lhVCE03Nt72wW43s7zVcLYmCliWwyrhsP4CiyY5iUX\n",
       "6JrgYw44crIkFzS8mX6iDIPAcaBTbNnzgenBVnHGK6/4U1LyJuuinXKXr/vmRqovKiYlxT2IMV2j\n",
       "wD4YoipDM3Y+qhCsEtfllTEK8pFpdpD4Hnjp7JYzkLYI3G0uoHuctDYgzaE9o2PQ2A3cW7YPNCOw\n",
       "pKIb9RZ81205CvQ7LJcxkJ/80H4qzNiLryXSxmUYo2iscrE1fMb2KQxPTkUP3q/Ny6eBPVDQK8lv\n",
       "baqA/tRhkNQ5G13PHRb2wqbQPG7C9oyKfsifwAsnjFlo4yozXO4bZvLgvgv2SqpyZnc/Z/MY72zA\n",
       "DqFp3FZtEynRmz3t2OX4NPWhA2pWudxj+afYs9POv07oFZN2VvFEVO4n1AjVO2Crih7KapN47ZCU\n",
       "g9YuCeO0fSaLm0Sk3Am6nIrh5+OnfKOOyePiMb68TYpjXUA6q6D31Q0tYa/j7wB0mUMvmTm10hI1\n",
       "f3vnD1bGEUjOk/Vv7B2jejJIczcC3W5MKei7oc/Kkq/MwrtY1AlW76IyThyku5Z+A/oS9C0KM16i\n",
       "dxnGTQGfzuDWQFEXW3UEZQPyL0BPXvZtxqvpSGuDgp5MoHveQmCIXlPwSiRaaOaFJyx5j8fPFqH3\n",
       "lX5OFNn/D1+P1Udnyf/n/4G+5pcvlCrZsP6C3m3SwHoOzzpg/AKxgLaswiY9TAAAAABJRU5ErkJg\n",
       "gg==\n",
       "\" style=\"display:inline;vertical-align:middle;\" /></a><br>(see <a class=\"ProveItLink\" href=\"../__pv_it/9d4ff48d5e083eafbd325560dddb29adb24d9d550/dependencies.ipynb\">dependencies</a>)<br>"
      ],
      "text/plain": [
       "reverseSubsetEq: forall_{A, B | A subseteq B} (B supseteq A)"
      ]
     },
     "execution_count": 2,
     "metadata": {},
     "output_type": "execute_result"
    }
   ],
   "source": [
    "%proving reverseSubsetEq presuming []"
   ]
  },
  {
   "cell_type": "code",
   "execution_count": null,
   "metadata": {},
   "outputs": [],
   "source": []
  }
 ],
 "metadata": {
  "kernelspec": {
   "display_name": "Python 3",
   "language": "python",
   "name": "python3"
  }
 },
 "nbformat": 4,
 "nbformat_minor": 0
}
