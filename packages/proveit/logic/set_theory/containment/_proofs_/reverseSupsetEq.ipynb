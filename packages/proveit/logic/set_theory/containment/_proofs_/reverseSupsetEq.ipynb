{
 "cells": [
  {
   "cell_type": "markdown",
   "metadata": {},
   "source": [
    "Proof of <a class=\"ProveItLink\" href=\"../../../../_context_.ipynb\">proveit</a>.<a class=\"ProveItLink\" href=\"../../../_context_.ipynb\">logic</a>.<a class=\"ProveItLink\" href=\"../../_context_.ipynb\">set_theory</a>.<a class=\"ProveItLink\" href=\"../_context_.ipynb\">containment</a>.<a href=\"../_theorems_.ipynb#reverseSupsetEq\" class=\"ProveItLink\">reverseSupsetEq</a> theorem\n",
    "========"
   ]
  },
  {
   "cell_type": "code",
   "execution_count": 1,
   "metadata": {},
   "outputs": [],
   "source": [
    "import sys\n",
    "sys.path.append('..') # allows access to modules in parent context\n",
    "import proveit"
   ]
  },
  {
   "cell_type": "code",
   "execution_count": 2,
   "metadata": {},
   "outputs": [
    {
     "name": "stdout",
     "output_type": "stream",
     "text": [
      "Beginning proof of reverseSupsetEq\n",
      "Recorded 'presuming' information\n",
      "Presuming previous theorems (applied transitively).\n"
     ]
    },
    {
     "data": {
      "text/html": [
       "<strong id=\"reverseSupsetEq\">reverseSupsetEq:</strong> <a class=\"ProveItLink\" href=\"../__pv_it/9d8360b68fedc302476753ede6be8bbb51cdf2750/expr.ipynb\"><img src=\"data:image/png;base64,iVBORw0KGgoAAAANSUhEUgAAALoAAAAWBAMAAACF/ptXAAAAMFBMVEX///8QEBCIiIhmZma6urrM\n",
       "zMxUVFQiIiJERETc3Nzu7u6qqqp2dnaYmJgyMjIAAAAcRTyBAAAAAXRSTlMAQObYZgAAAtZJREFU\n",
       "SMetVU1oE1EQ/rpJ2t1NNvamoIfc7EUrBCJosQEPiiANCrUnE6g/1YMtegiiYgUpW1EST/YiWVFQ\n",
       "KtSgB/HUapGWKhL1KLUR9VKEltb+I3XmvW760mqrSx/s23lv3nwz75vZWcDzuLuOPpgFiiwMewA3\n",
       "2wGrdTracv1P2uP0nAHesDzqAT1MoaGCXNQnxNo6nU6nE652jJ4eoIteRrsH9I88JQtAwy6WjB9Z\n",
       "RWmNOUAogjC/8h7QL/JUS5AjkdJVSuNxPS3NalhD3d13PIAbbTxfI4zNDkt7y7SF2jjN34BZ277s\n",
       "AV0TfEwDx86KdZuq9Du9RBn6gZNAp9iS88HJ/hZxSb97VC/d2Z+pi3W6u2wemB6uuSSvklLRHyDJ\n",
       "dH0G9sMUVWn9lPmoRqhamLtHR+Josu1bLL4HXi7tVnGutDngXsqtz+URR46v9pyOQeMwcP+XUPhS\n",
       "CM6r6Ga9UAfZPAb0OnK7gonVKQ5tYRUzgeZoKx9PUsEUqsTW0AUZUwS+oooeeigYRiM954F9UNA3\n",
       "UdzahFi/UmkndVGiG8VG4S9iC82TBHY6KvoRXV660oE5BW1UZYbLvVIyGlaqmsQqZvcAZ/OEMMZu\n",
       "oWnYUSMT5KKnfPLSVhz+iQ8dULPK5Z6Uzs1Th0rFSujhcZlVPBPWn1ArVO+A7Sq6ldfGZQkmECpC\n",
       "c/kNMV9fiIUtS4kIDLqdgD8fnfKNOiaPi8f8+jYjjt0EcnkFvaducN71pvfBWHC5JTfnFptj9qrv\n",
       "/NHiKIKZGfL+naNjVJ+DnHBM1g1ZBX0PjCkhPKU48vDPlXWCtbtoqY4Ok23BuAFjHsY2hRk/0StK\n",
       "9SjFknNwu6+si605QhE3R7MwMlcCWzEwGW2JK+iZdnTNFJrsjtd0+mo0ttzM9bK2hYF0Wu3AkB24\n",
       "/HeiyPo//D3WHp0r1i/+A33dP5+VXbFR+As69Rm7Axs5fBuA8RuYnbRgQbcVWQAAAABJRU5ErkJg\n",
       "gg==\n",
       "\" style=\"display:inline;vertical-align:middle;\" /></a><br>(see <a class=\"ProveItLink\" href=\"../__pv_it/9d8360b68fedc302476753ede6be8bbb51cdf2750/dependencies.ipynb\">dependencies</a>)<br>"
      ],
      "text/plain": [
       "reverseSupsetEq: forall_{A, B | A supseteq B} (B subseteq A)"
      ]
     },
     "execution_count": 2,
     "metadata": {},
     "output_type": "execute_result"
    }
   ],
   "source": [
    "%proving reverseSupsetEq presuming []"
   ]
  },
  {
   "cell_type": "code",
   "execution_count": null,
   "metadata": {},
   "outputs": [],
   "source": []
  }
 ],
 "metadata": {
  "kernelspec": {
   "display_name": "Python 3",
   "language": "python",
   "name": "python3"
  }
 },
 "nbformat": 4,
 "nbformat_minor": 0
}
