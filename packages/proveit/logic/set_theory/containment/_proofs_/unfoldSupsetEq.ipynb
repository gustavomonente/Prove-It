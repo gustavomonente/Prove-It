{
 "cells": [
  {
   "cell_type": "markdown",
   "metadata": {},
   "source": [
    "Proof of <a class=\"ProveItLink\" href=\"../../../../_context_.ipynb\">proveit</a>.<a class=\"ProveItLink\" href=\"../../../_context_.ipynb\">logic</a>.<a class=\"ProveItLink\" href=\"../../_context_.ipynb\">set_theory</a>.<a class=\"ProveItLink\" href=\"../_context_.ipynb\">containment</a>.<a href=\"../_theorems_.ipynb#unfoldSupsetEq\" class=\"ProveItLink\">unfoldSupsetEq</a> theorem\n",
    "========"
   ]
  },
  {
   "cell_type": "code",
   "execution_count": 1,
   "metadata": {},
   "outputs": [],
   "source": [
    "import sys\n",
    "sys.path.append('..') # allows access to modules in parent context\n",
    "import proveit"
   ]
  },
  {
   "cell_type": "code",
   "execution_count": 2,
   "metadata": {},
   "outputs": [
    {
     "name": "stdout",
     "output_type": "stream",
     "text": [
      "Beginning proof of unfoldSupsetEq\n",
      "Recorded 'presuming' information\n",
      "Presuming previous theorems (applied transitively).\n"
     ]
    },
    {
     "data": {
      "text/html": [
       "<strong id=\"unfoldSupsetEq\">unfoldSupsetEq:</strong> <a class=\"ProveItLink\" href=\"../__pv_it/af92ca83ec10358827952cb71f4182245a353eb50/expr.ipynb\"><img src=\"data:image/png;base64,iVBORw0KGgoAAAANSUhEUgAAAPYAAAAWBAMAAAABeHx5AAAAMFBMVEX///8QEBCIiIhmZma6urrM\n",
       "zMxUVFQiIiJERETc3Nzu7u6qqqp2dnaYmJgyMjIAAAAcRTyBAAAAAXRSTlMAQObYZgAAAzRJREFU\n",
       "SMe9lktoE0EYx/9usiabR9u7HhbFBwXbQrBeigY9qKC0XtSTDWqhFdGihSJq7aHoVoXEk71IFpQi\n",
       "VbTgQStCaysIUTRqQUEsAfVSsA19YB+IfjOzj4m02xrRgd3MfP/85zc7883sAkUWZazO+w83PLRw\n",
       "ChhpQY7VP/05OxL3dobaF1MO0dVE1zO8YM3RYtjezpLUYso4Xfc4u4vuWnsxbG/nu8WE6LhJbp2x\n",
       "S1ittxi2t/NMQetDa2vOqt7ZRjMSKmPsaKan5zqKYXs6tWa5dbDcrWcr43T/wtiYMYxzRbE9nUoV\n",
       "Pdyapu2DPO+krPCb/Vn6GeLsBqCTR8V91+RQI08Tv/3vTsfnaILdIGvMkayptgNBAtzFe72NNVZK\n",
       "eXcL9bTWGOHsHQjxpYhOiVQoQ6SMu+3cmIJqGEZW1gTbdjrlDfDUqgYoETJ4be6Wu2IljjRNCR5y\n",
       "dgAK6xc3f3DNl0B4TjZY8UeyJti2k83qkxhVq4F+UwRW0KKaMERj3xgVMUz1SOwk2xv1nB3JBng0\n",
       "c1oMWIcvJ7OtuJqQNMG2nSyP+3rofgrYCpcNTIhGl7QuJOUctpbbz/vWxSDv16HClNh2HMckTbCF\n",
       "c3Dz+jp/FX/4aSij0pxDnbYG4rIpHGDLtpOz0XmU5wO2cLF208YEJLYdx7CkCTZ3KuaJQLxEPNPE\n",
       "24uQcu2xkgffXD7d2XrELsk7uYYHfCt+RCVXXwEbZLYdxzpJs9jMqeIb5YQI5aDY2zpSBf98MK+J\n",
       "hDhru9h5EJylW41gl7JRhT6/TPLpvAqke122E0e7pFls7gR1dYA2go7gALR5e12bETpcvtZ61XR3\n",
       "iD5u/xxFOPmdVuirYEdZ3GcizV+KZK5NuWwnHtYlzWJzp5pXaWFYKe2Ff3bhM3XPpdaC7RhqFmxe\n",
       "9pI1q12GNgdttTTnPM4IMUiaxWYlHclFEOHDS5u4NrDku0S4dZcdnIGWPK+uwvPJWGPcZVtxwzhO\n",
       "vbuaxO4eHswAV1jkQqy6w+k9mPJii3do4feEVA8ueZ7Lxzdb72V+O9jn9G/svuWzlba/+GaK0qRU\n",
       "tBTGsguz2XluJPD/iu+fE34B7C73U/q3q50AAAAASUVORK5CYII=\n",
       "\" style=\"display:inline;vertical-align:middle;\" /></a><br>(see <a class=\"ProveItLink\" href=\"../__pv_it/af92ca83ec10358827952cb71f4182245a353eb50/dependencies.ipynb\">dependencies</a>)<br>"
      ],
      "text/plain": [
       "unfoldSupsetEq: forall_{A, B | A supseteq B} [forall_{x in B} (x in A)]"
      ]
     },
     "execution_count": 2,
     "metadata": {},
     "output_type": "execute_result"
    }
   ],
   "source": [
    "%proving unfoldSupsetEq presuming []"
   ]
  },
  {
   "cell_type": "code",
   "execution_count": null,
   "metadata": {},
   "outputs": [],
   "source": []
  }
 ],
 "metadata": {
  "kernelspec": {
   "display_name": "Python 3",
   "language": "python",
   "name": "python3"
  }
 },
 "nbformat": 4,
 "nbformat_minor": 0
}
