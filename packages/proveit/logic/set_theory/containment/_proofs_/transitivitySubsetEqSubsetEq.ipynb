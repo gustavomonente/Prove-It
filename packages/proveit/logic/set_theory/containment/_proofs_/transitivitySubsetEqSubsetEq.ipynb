{
 "cells": [
  {
   "cell_type": "markdown",
   "metadata": {},
   "source": [
    "Proof of <a class=\"ProveItLink\" href=\"../../../../_context_.ipynb\">proveit</a>.<a class=\"ProveItLink\" href=\"../../../_context_.ipynb\">logic</a>.<a class=\"ProveItLink\" href=\"../../_context_.ipynb\">set_theory</a>.<a class=\"ProveItLink\" href=\"../_context_.ipynb\">containment</a>.<a href=\"../_theorems_.ipynb#transitivitySubsetEqSubsetEq\" class=\"ProveItLink\">transitivitySubsetEqSubsetEq</a> theorem\n",
    "========"
   ]
  },
  {
   "cell_type": "code",
   "execution_count": 1,
   "metadata": {},
   "outputs": [],
   "source": [
    "import sys\n",
    "sys.path.append('..') # allows access to modules in parent context\n",
    "import proveit"
   ]
  },
  {
   "cell_type": "code",
   "execution_count": 2,
   "metadata": {},
   "outputs": [
    {
     "name": "stdout",
     "output_type": "stream",
     "text": [
      "Beginning proof of transitivitySubsetEqSubsetEq\n",
      "Recorded 'presuming' information\n",
      "Presuming previous theorems (applied transitively).\n"
     ]
    },
    {
     "data": {
      "text/html": [
       "<strong id=\"transitivitySubsetEqSubsetEq\">transitivitySubsetEqSubsetEq:</strong> <a class=\"ProveItLink\" href=\"../__pv_it/fede42784162314f311c368fa259095e27fb4d5c0/expr.ipynb\"><img src=\"data:image/png;base64,iVBORw0KGgoAAAANSUhEUgAAAPcAAAAWBAMAAADuuhdHAAAAMFBMVEX///8QEBCIiIhmZma6urrM\n",
       "zMxUVFQiIiJERETc3Nzu7u6qqqp2dnaYmJgyMjIAAAAcRTyBAAAAAXRSTlMAQObYZgAAA3hJREFU\n",
       "SMe1Vl1IVEEUPt27q96/9L2o7SkLSkPYfljS6iWC0Aykhx4W1sCXYEtiKxI3qG2NYreXEqL2hpAm\n",
       "Vgu+JAVtBqUWdSsIJaqtnrKHRJPMsjpz5v65/gWtA3fmzJ0z8505850zA7BY5coC4z34ZZnwNv/Y\n",
       "cpQab3aWodLQQSlTkAR4wrrD+QdfmuTNiNl/HYlEjnBxlQHKBkNGs1qxJ0XzD/6KN+8meXu13x7p\n",
       "OI5VZRJ60TQdQE3nH/wY93D3D9797Ix8QETYBnANQBvo7LyUf2wpTI0mfKNWdLYn/mT1Xtx2FcBE\n",
       "PH4i/+BCOTW7lClqC52RFJl1A/2NKgcAWugvr3eOPWzgXNFiAYFJHmtaUdKSPImAP1edlcFQZo2p\n",
       "a5DXq7yj1L3ogD/3mYKGjNsBMoWDxh2klYBaQo77CPJJWsea9h791BWPx1B8AfDApS73xeNBZJUP\n",
       "Okq4biH52QPSGCeZA95cYwpKmHlEICvbuIPEICjE0BRCDbrB5UoDvKe57Ae4rzvq+2hBCc3XzMBZ\n",
       "UsXqugr/RK7bV9I8rLwYharBRwYauZoPRPIEI0KtG1xtL7flwwBbXeocsTCDK/rc4Fit4HN9zs5p\n",
       "1zUcXMrWUSryxWnsdg2sZ7YJbPudbvDaoijcNZ0wDsKwo65wLpfhPFl3uV3B7xDvf7HBKxlFVHYm\n",
       "jHkt9exfAWyksep1pUGabSceCzwohmGzSbjRlzFw1EVOuaMuthPhLuP3lfev1+sW25kTBkzCQTdx\n",
       "/w2U0dgzgNWsLc7kgGtpYQTMPKVmQQg76ioH/+UCZ3FEsZ4wY2H/GTO9suDrZpaIDKGYmSJ/epog\n",
       "286hbWnzAGXDBX4r0DcJ2017MiBRruDqHn6ijCU3rWAMg5z4rcOdP425KaAtFiJCLGUs1cgMHVJE\n",
       "WVyzmhkrRvnJ2OBbQBq3Qr04DR6eN7k6j/lN+GWmp9f5Srst7cYVDeksSJMgLcfrRocmkPtd4B70\n",
       "whTI5wk9pcMF3Lyt3jFENDGgK5lzscxTeu1znQAp0eRdBo/HKhrQKXvSoIZ6dRd4Igqt3/Eu7MMk\n",
       "ozZX+E9hgNjqcI+SzKPAWpiZDokCkYhzpZoRk3vTK7bkuueK5rRdWfgxMXeZbp35tOHLJv8FvOd/\n",
       "nlFDuT8MS9BgdvDWOJYZ6hL7uwgPEsb7RXtj/gWHMvKyA0iD+AAAAABJRU5ErkJggg==\n",
       "\" style=\"display:inline;vertical-align:middle;\" /></a><br>(see <a class=\"ProveItLink\" href=\"../__pv_it/fede42784162314f311c368fa259095e27fb4d5c0/dependencies.ipynb\">dependencies</a>)<br>"
      ],
      "text/plain": [
       "transitivitySubsetEqSubsetEq: forall_{A, B, C | A subseteq B, B subseteq C} (A subseteq C)"
      ]
     },
     "execution_count": 2,
     "metadata": {},
     "output_type": "execute_result"
    }
   ],
   "source": [
    "%proving transitivitySubsetEqSubsetEq presuming []"
   ]
  },
  {
   "cell_type": "code",
   "execution_count": null,
   "metadata": {},
   "outputs": [],
   "source": []
  }
 ],
 "metadata": {
  "kernelspec": {
   "display_name": "Python 3",
   "language": "python",
   "name": "python3"
  }
 },
 "nbformat": 4,
 "nbformat_minor": 0
}
