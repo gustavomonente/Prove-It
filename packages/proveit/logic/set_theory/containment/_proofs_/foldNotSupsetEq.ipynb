{
 "cells": [
  {
   "cell_type": "markdown",
   "metadata": {},
   "source": [
    "Proof of <a class=\"ProveItLink\" href=\"../../../../_context_.ipynb\">proveit</a>.<a class=\"ProveItLink\" href=\"../../../_context_.ipynb\">logic</a>.<a class=\"ProveItLink\" href=\"../../_context_.ipynb\">set_theory</a>.<a class=\"ProveItLink\" href=\"../_context_.ipynb\">containment</a>.<a href=\"../_theorems_.ipynb#foldNotSupsetEq\" class=\"ProveItLink\">foldNotSupsetEq</a> theorem\n",
    "========"
   ]
  },
  {
   "cell_type": "code",
   "execution_count": 1,
   "metadata": {},
   "outputs": [],
   "source": [
    "import sys\n",
    "sys.path.append('..') # allows access to modules in parent context\n",
    "import proveit"
   ]
  },
  {
   "cell_type": "code",
   "execution_count": 2,
   "metadata": {},
   "outputs": [
    {
     "name": "stdout",
     "output_type": "stream",
     "text": [
      "Beginning proof of foldNotSupsetEq\n",
      "Recorded 'presuming' information\n",
      "Presuming previous theorems (applied transitively).\n"
     ]
    },
    {
     "data": {
      "text/html": [
       "<strong id=\"foldNotSupsetEq\">foldNotSupsetEq:</strong> <a class=\"ProveItLink\" href=\"../__pv_it/89af337def5358ae89e285d1bb70e9d66f6438a10/expr.ipynb\"><img src=\"data:image/png;base64,iVBORw0KGgoAAAANSUhEUgAAANEAAAAYBAMAAACW8wWgAAAAMFBMVEX///8QEBCIiIhmZma6urrM\n",
       "zMxUVFQiIiJERETc3Nzu7u6qqqp2dnaYmJgyMjIAAAAcRTyBAAAAAXRSTlMAQObYZgAAA1hJREFU\n",
       "SMe9VUtoE0EY/txsmt1sUr0pKJKbomgLkQgqGhBEBGlQqB7EBrRQPWjVQ3zSClI2omS9qCDSlR4K\n",
       "HjSoiIJgfWFpRaKefNSu6EUvSqu1Vnz8M7OzSTYJIkEHdnbmn/n/738P8I+Ggv81Lv0juecrKIvK\n",
       "djfpc9hipE6gcDf/BZ0iyV1Gd0/EO46hwQKG2f5DnUiNlvh9Eo7LZDJvm92jaaTEqlSYgM/STu+u\n",
       "E+mZ+L2eKobpnbtoKwAtzbhLethAJF8n0gHhw6vfPMppLSUWTWTuaAwXyJFDFy+eqRNI7xQxUT57\n",
       "pPtu6HCUNJhpozEJTJrm4T/LqkZMebUjgrLO+FGSEDvEYgLYtJPcRlfagSyniXnt+L0OHl+1VOgA\n",
       "mzRLbtXcikQW1+RWK3DnJYNjkhKNYaFIx4mR+YcYgVJiNcI8I6PC9OgMRGZw9hKgBo4xmsRm0zzJ\n",
       "lk+AOwhI5FBeqKaPe8loY7kwl0J3IQ0Y5OAQFK5SnzA9kIYx5UfawnVexe8ZLAAJ4LYdTstMTrK5\n",
       "NZ6YlAytMks00lr5TrZRAUQKIU4b2if0iyHg+JHa2RTpb5ZSsBdYCbwvQ6JpbpHBEBkxnbRRxgSS\n",
       "7rRyh8ZMfnQ5hcW2H4nn1gZNMDfYCH+B8qHYcbj3DPr2yJ7hYJPtlVMDxUVlIrLbOT+W8qOWRfOF\n",
       "UzR/FqcDbjInoY497aHV9dKMOEffR5cQebExWyyntm6REbjKBbxEEz96DMwrQRo0TdNRmTHRvCKa\n",
       "jZJCxIFCXGul4GZXm5wlulHX/mH36A2ZM4vMC7DsnR5j9r59lOP2ngB68+U2pVVm5aUVg1NSBW0A\n",
       "OoV5q0z6ToRzP23c+CVijVuSddevbQmTiWtkxRdlCAEbvbwSSUCL5UMKMpuWQf/Ct1dIuTxUSt81\n",
       "5d2oON5XVHm/t1pP7AX9OPQp6HN8cUqHyTMqxYLXwUZyVa+NU+SOV74OK0ewsmPf9ap8EnruSHA2\n",
       "Ho7HO5I+JAsHKQTdOPu1sNnseUBx6YonjtHBEo/dKntuu+jZyKTLHjDHh2yUrEuzfGH1buj4XkI5\n",
       "QhU3y1VxH+FqSFpVIKNQ43V/WnH1uZ9QqCFdlQfU98weSe2r1fn/8gkP1DLWGwtqsVrViL8BzRTX\n",
       "/h+zAf8AAAAASUVORK5CYII=\n",
       "\" style=\"display:inline;vertical-align:middle;\" /></a><br>(see <a class=\"ProveItLink\" href=\"../__pv_it/89af337def5358ae89e285d1bb70e9d66f6438a10/dependencies.ipynb\">dependencies</a>)<br>"
      ],
      "text/plain": [
       "foldNotSupsetEq: forall_{A, B | [not](A supseteq B)} (A nsupseteq B)"
      ]
     },
     "execution_count": 2,
     "metadata": {},
     "output_type": "execute_result"
    }
   ],
   "source": [
    "%proving foldNotSupsetEq presuming []"
   ]
  },
  {
   "cell_type": "code",
   "execution_count": null,
   "metadata": {},
   "outputs": [],
   "source": []
  }
 ],
 "metadata": {
  "kernelspec": {
   "display_name": "Python 3",
   "language": "python",
   "name": "python3"
  }
 },
 "nbformat": 4,
 "nbformat_minor": 0
}
