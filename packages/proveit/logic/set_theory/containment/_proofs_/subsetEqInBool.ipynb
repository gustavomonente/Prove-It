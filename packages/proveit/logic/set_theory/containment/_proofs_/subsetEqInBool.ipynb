{
 "cells": [
  {
   "cell_type": "markdown",
   "metadata": {},
   "source": [
    "Proof of <a class=\"ProveItLink\" href=\"../../../../_context_.ipynb\">proveit</a>.<a class=\"ProveItLink\" href=\"../../../_context_.ipynb\">logic</a>.<a class=\"ProveItLink\" href=\"../../_context_.ipynb\">set_theory</a>.<a class=\"ProveItLink\" href=\"../_context_.ipynb\">containment</a>.<a class=\"ProveItLink\" href=\"../_theorems_.ipynb#subsetEqInBool\">subsetEqInBool</a> theorem\n",
    "========"
   ]
  },
  {
   "cell_type": "code",
   "execution_count": null,
   "metadata": {},
   "outputs": [],
   "source": [
    "import proveit\n",
    "from proveit import ExprTuple, IndexedVar, Operation, Variable\n",
    "from proveit._common_ import a, k, l, n, x, y, z, xx, A, B, P, Q, Px, Qx, QQ\n",
    "# from proveit.logic._common_ import iterQ1k_xIter1l, xIter1l\n",
    "from proveit.number import zero, one, two, Naturals, NaturalsPos\n",
    "from proveit.logic import And, Equals, Forall, InSet, TRUE, FALSE, Or, Booleans\n",
    "from proveit.core_expr_types._common_ import x_1_to_n\n",
    "from proveit.logic.set_theory.containment._axioms_ import subsetEqDef\n",
    "from proveit.logic.boolean.quantification.universal._axioms_ import forall_in_bool\n",
    "context = proveit.Context('..') # the theorem's context is in the parent directory"
   ]
  },
  {
   "cell_type": "code",
   "execution_count": null,
   "metadata": {},
   "outputs": [],
   "source": [
    "%proving subsetEqInBool presuming [proveit.logic,proveit.number.sets.integer.zeroInNats, proveit.number.numeral.deci.posnat1, proveit.core_expr_types.tuples.range_from1_len, proveit.core_expr_types.tuples.singular_range_reduction, proveit.number.numeral.deci.tuple_len_1]"
   ]
  },
  {
   "cell_type": "code",
   "execution_count": null,
   "metadata": {},
   "outputs": [],
   "source": [
    "subsetEqDef"
   ]
  },
  {
   "cell_type": "code",
   "execution_count": null,
   "metadata": {},
   "outputs": [],
   "source": [
    "subsetEqDef_inst = subsetEqDef.instantiate()"
   ]
  },
  {
   "cell_type": "code",
   "execution_count": null,
   "metadata": {},
   "outputs": [],
   "source": [
    "subsetEqDef_inst_rhs = subsetEqDef_inst.rhs"
   ]
  },
  {
   "cell_type": "code",
   "execution_count": null,
   "metadata": {},
   "outputs": [],
   "source": [
    "# this somehow loses the domain A for x\n",
    "subsetEqDef_inst_rhs.deduceInBool()"
   ]
  },
  {
   "cell_type": "code",
   "execution_count": null,
   "metadata": {},
   "outputs": [],
   "source": [
    "# addition 20200730 by wdc\n",
    "InSet(Forall(x, InSet(x, B), domain=A), Booleans)"
   ]
  },
  {
   "cell_type": "code",
   "execution_count": null,
   "metadata": {},
   "outputs": [],
   "source": [
    "# addition 20200730 by wdc\n",
    "# still loses the domain A for x\n",
    "Forall(x, InSet(x, B), domain=A).deduceInBool()"
   ]
  },
  {
   "cell_type": "code",
   "execution_count": null,
   "metadata": {},
   "outputs": [],
   "source": [
    "# subsetEqDefSpecRHS.deduceInBool()"
   ]
  },
  {
   "cell_type": "code",
   "execution_count": null,
   "metadata": {},
   "outputs": [],
   "source": [
    "forall_in_bool"
   ]
  },
  {
   "cell_type": "code",
   "execution_count": null,
   "metadata": {},
   "outputs": [],
   "source": [
    "forall_in_bool_inst = forall_in_bool.instantiate(\n",
    "        {n:one, Px:InSet(x, B), x:ExprTuple(x)})"
   ]
  },
  {
   "cell_type": "code",
   "execution_count": null,
   "metadata": {},
   "outputs": [],
   "source": [
    "# from the original, kept here temporarily to guide update\n",
    "# forallInBoolSpec = forallInBool.specialize({k:one, l:one, Px:InSet(x, B), QQ:[Q]}, relabelMap={xx:[x]})"
   ]
  },
  {
   "cell_type": "code",
   "execution_count": null,
   "metadata": {},
   "outputs": [],
   "source": [
    "# in proof.py we would likely use the same checkParamVar method used in lambda_expr.py"
   ]
  },
  {
   "cell_type": "code",
   "execution_count": null,
   "metadata": {},
   "outputs": [],
   "source": [
    "forallPiece = forall_in_bool_inst.operands[0]"
   ]
  },
  {
   "cell_type": "code",
   "execution_count": null,
   "metadata": {},
   "outputs": [],
   "source": [
    "x_1 = IndexedVar(x, one)"
   ]
  },
  {
   "cell_type": "code",
   "execution_count": null,
   "metadata": {},
   "outputs": [],
   "source": [
    "# updated/adapted from original; not clear why this is being done\n",
    "forallPiece.instantiate({x_1:ExprTuple(x)}, assumptions=[forallPiece])"
   ]
  },
  {
   "cell_type": "code",
   "execution_count": null,
   "metadata": {},
   "outputs": [],
   "source": [
    "# recall:\n",
    "forall_in_bool_inst"
   ]
  },
  {
   "cell_type": "code",
   "execution_count": null,
   "metadata": {},
   "outputs": [],
   "source": [
    "# updated this from original; not clear why this is being done\n",
    "theInnerExpr = forall_in_bool_inst.innerExpr()"
   ]
  },
  {
   "cell_type": "code",
   "execution_count": null,
   "metadata": {},
   "outputs": [],
   "source": [
    "forall_in_bool_inst_expr = forall_in_bool_inst.expr"
   ]
  },
  {
   "cell_type": "code",
   "execution_count": null,
   "metadata": {},
   "outputs": [],
   "source": [
    "# from original, but this no longer works:\n",
    "# theInnerExpr.operands[1]"
   ]
  },
  {
   "cell_type": "code",
   "execution_count": null,
   "metadata": {},
   "outputs": [],
   "source": [
    "# from original, but no longer works:\n",
    "# forallInBoolSpecExpr.exprInfo()"
   ]
  },
  {
   "cell_type": "code",
   "execution_count": null,
   "metadata": {},
   "outputs": [],
   "source": [
    "forall_in_bool_inst_expr.exprInfo()"
   ]
  },
  {
   "cell_type": "code",
   "execution_count": null,
   "metadata": {},
   "outputs": [],
   "source": [
    "# original\n",
    "# Q1 = Variable('Q1');\n",
    "# Q2 = Variable('Q2');\n",
    "# forallInBoolSpecTesting = forallInBool.specialize({k:one, l:one, Px:InSet(x, B), QQ:[Q1]})"
   ]
  },
  {
   "cell_type": "code",
   "execution_count": null,
   "metadata": {},
   "outputs": [],
   "source": [
    "forall_in_bool"
   ]
  },
  {
   "cell_type": "code",
   "execution_count": null,
   "metadata": {},
   "outputs": [],
   "source": [
    "# new version?\n",
    "Q1 = Variable('Q1');\n",
    "Q2 = Variable('Q2');\n",
    "forallInBoolSpecTesting = forall_in_bool.specialize({n:one, Px:InSet(x, B), x:(Q1)})"
   ]
  },
  {
   "cell_type": "code",
   "execution_count": null,
   "metadata": {},
   "outputs": [],
   "source": [
    "# original; can't seem to relabel now in this way? Even using\n",
    "# a defined IndexedVar(Q1, one)\n",
    "# forallInBoolSpecTesting.relabel({Q1:Q2})"
   ]
  },
  {
   "cell_type": "code",
   "execution_count": null,
   "metadata": {},
   "outputs": [],
   "source": [
    "# forallInBoolSpecSpec = forallInBoolSpec.specialize({xx:[x]})"
   ]
  },
  {
   "cell_type": "code",
   "execution_count": null,
   "metadata": {},
   "outputs": [],
   "source": [
    "# forallInBoolSpecSpecSpec = forallInBoolSpecSpec.specialize({xIter1l:[x]})"
   ]
  },
  {
   "cell_type": "code",
   "execution_count": null,
   "metadata": {},
   "outputs": [],
   "source": [
    "# original\n",
    "# subsetEqDefSpecRHS"
   ]
  },
  {
   "cell_type": "code",
   "execution_count": null,
   "metadata": {},
   "outputs": [],
   "source": [
    "# new\n",
    "subsetEqDef_inst_rhs"
   ]
  },
  {
   "cell_type": "code",
   "execution_count": null,
   "metadata": {},
   "outputs": [],
   "source": [
    "# original\n",
    "# subsetEqDefSpecRHS.allInstanceVars()"
   ]
  },
  {
   "cell_type": "code",
   "execution_count": null,
   "metadata": {},
   "outputs": [],
   "source": [
    "# new\n",
    "subsetEqDef_inst_rhs.allInstanceVars()"
   ]
  },
  {
   "cell_type": "code",
   "execution_count": null,
   "metadata": {},
   "outputs": [],
   "source": [
    "# original\n",
    "# PxNew = Operation(P, [y, *subsetEqDefSpecRHS.allInstanceVars(), z])"
   ]
  },
  {
   "cell_type": "code",
   "execution_count": null,
   "metadata": {},
   "outputs": [],
   "source": [
    "# new\n",
    "PxNew = Operation(P, [y, *subsetEqDef_inst_rhs.allInstanceVars(), z])"
   ]
  },
  {
   "cell_type": "code",
   "execution_count": null,
   "metadata": {},
   "outputs": [],
   "source": [
    "# original\n",
    "# subsetEqDefSpecRHS.instanceExpr"
   ]
  },
  {
   "cell_type": "code",
   "execution_count": null,
   "metadata": {},
   "outputs": [],
   "source": [
    "# new\n",
    "subsetEqDef_inst_rhs.instanceExpr"
   ]
  },
  {
   "cell_type": "code",
   "execution_count": null,
   "metadata": {},
   "outputs": [],
   "source": [
    "# subsetEqDefSpecRHS.deduceInBool()"
   ]
  },
  {
   "cell_type": "code",
   "execution_count": null,
   "metadata": {},
   "outputs": [],
   "source": [
    "subsetEqDef_inst_rhs.deduceInBool()"
   ]
  },
  {
   "cell_type": "code",
   "execution_count": null,
   "metadata": {},
   "outputs": [],
   "source": [
    "# %qed"
   ]
  },
  {
   "cell_type": "code",
   "execution_count": null,
   "metadata": {},
   "outputs": [],
   "source": []
  }
 ],
 "metadata": {
  "kernelspec": {
   "display_name": "Python 3",
   "language": "python",
   "name": "python3"
  }
 },
 "nbformat": 4,
 "nbformat_minor": 0
}
