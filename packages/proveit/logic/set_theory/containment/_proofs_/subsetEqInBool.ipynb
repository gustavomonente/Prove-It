{
 "cells": [
  {
   "cell_type": "markdown",
   "metadata": {},
   "source": [
    "Proof of <a class=\"ProveItLink\" href=\"../../../../_context_.ipynb\">proveit</a>.<a class=\"ProveItLink\" href=\"../../../_context_.ipynb\">logic</a>.<a class=\"ProveItLink\" href=\"../../_context_.ipynb\">set_theory</a>.<a class=\"ProveItLink\" href=\"../_context_.ipynb\">containment</a>.<a class=\"ProveItLink\" href=\"../_theorems_.ipynb#subsetEqInBool\">subsetEqInBool</a> theorem\n",
    "========"
   ]
  },
  {
   "cell_type": "code",
   "execution_count": null,
   "metadata": {},
   "outputs": [],
   "source": [
    "import proveit\n",
    "from proveit import Operation, Variable\n",
    "from proveit._common_ import a, k, l, x, y, z, xx, A, B, P, Q, Px, Qx, QQ\n",
    "from proveit.logic._common_ import iterQ1k_xIter1l, xIter1l\n",
    "from proveit.number import zero, one, two\n",
    "from proveit.logic import And, InSet, TRUE, FALSE, Or\n",
    "from proveit.logic.set_theory.containment._axioms_ import subsetEqDef\n",
    "from proveit.logic.boolean.quantification.universal._axioms_ import forallInBool\n",
    "context = proveit.Context('..') # the theorem's context is in the parent directory"
   ]
  },
  {
   "cell_type": "code",
   "execution_count": null,
   "metadata": {},
   "outputs": [],
   "source": [
    "%proving subsetEqInBool presuming [proveit.logic,proveit.number.sets.integer.zeroInNats, proveit.number.numeral.deci.posnat1]"
   ]
  },
  {
   "cell_type": "code",
   "execution_count": null,
   "metadata": {},
   "outputs": [],
   "source": [
    "subsetEqDef"
   ]
  },
  {
   "cell_type": "code",
   "execution_count": null,
   "metadata": {},
   "outputs": [],
   "source": [
    "subsetEqDefSpec = subsetEqDef.specialize()"
   ]
  },
  {
   "cell_type": "code",
   "execution_count": null,
   "metadata": {},
   "outputs": [],
   "source": [
    "subsetEqDefSpecRHS = subsetEqDefSpec.rhs"
   ]
  },
  {
   "cell_type": "code",
   "execution_count": null,
   "metadata": {},
   "outputs": [],
   "source": [
    "subsetEqDefSpecRHS.allInstanceVars()"
   ]
  },
  {
   "cell_type": "code",
   "execution_count": null,
   "metadata": {},
   "outputs": [],
   "source": [
    "# subsetEqDefSpecRHS.deduceInBool()"
   ]
  },
  {
   "cell_type": "code",
   "execution_count": null,
   "metadata": {},
   "outputs": [],
   "source": [
    "forallInBool"
   ]
  },
  {
   "cell_type": "code",
   "execution_count": null,
   "metadata": {},
   "outputs": [],
   "source": [
    "forallInBoolSpec = forallInBool.specialize({k:one, l:one, Px:InSet(x, B), QQ:[Q]})"
   ]
  },
  {
   "cell_type": "code",
   "execution_count": null,
   "metadata": {},
   "outputs": [],
   "source": [
    "forallPiece = forallInBoolSpec.operands[0]"
   ]
  },
  {
   "cell_type": "code",
   "execution_count": null,
   "metadata": {},
   "outputs": [],
   "source": [
    "forallPiece.specialize({xx:[x]}, )"
   ]
  },
  {
   "cell_type": "code",
   "execution_count": null,
   "metadata": {},
   "outputs": [],
   "source": [
    "theInnerExpr = forallInBoolSpec.innerExpr()"
   ]
  },
  {
   "cell_type": "code",
   "execution_count": null,
   "metadata": {},
   "outputs": [],
   "source": [
    "theInnerExpr.operands[1]"
   ]
  },
  {
   "cell_type": "code",
   "execution_count": null,
   "metadata": {},
   "outputs": [],
   "source": [
    "# forallInBoolSpecExpr.exprInfo()"
   ]
  },
  {
   "cell_type": "code",
   "execution_count": null,
   "metadata": {},
   "outputs": [],
   "source": [
    "Q1 = Variable('Q1');\n",
    "Q2 = Variable('Q2');\n",
    "forallInBoolSpecTesting = forallInBool.specialize({k:one, l:one, Px:InSet(x, B), QQ:[Q1]})"
   ]
  },
  {
   "cell_type": "code",
   "execution_count": null,
   "metadata": {},
   "outputs": [],
   "source": [
    "forallInBoolSpecTesting.relabel({Q1:Q2})"
   ]
  },
  {
   "cell_type": "code",
   "execution_count": null,
   "metadata": {},
   "outputs": [],
   "source": [
    "# forallInBoolSpecSpec = forallInBoolSpec.specialize({xx:[x]})"
   ]
  },
  {
   "cell_type": "code",
   "execution_count": null,
   "metadata": {},
   "outputs": [],
   "source": [
    "# forallInBoolSpecSpecSpec = forallInBoolSpecSpec.specialize({xIter1l:[x]})"
   ]
  },
  {
   "cell_type": "code",
   "execution_count": null,
   "metadata": {},
   "outputs": [],
   "source": [
    "subsetEqDefSpecRHS"
   ]
  },
  {
   "cell_type": "code",
   "execution_count": null,
   "metadata": {},
   "outputs": [],
   "source": [
    "subsetEqDefSpecRHS.allInstanceVars()"
   ]
  },
  {
   "cell_type": "code",
   "execution_count": null,
   "metadata": {},
   "outputs": [],
   "source": [
    "PxNew = Operation(P, [y, *subsetEqDefSpecRHS.allInstanceVars(), z])"
   ]
  },
  {
   "cell_type": "code",
   "execution_count": null,
   "metadata": {},
   "outputs": [],
   "source": [
    "subsetEqDefSpecRHS.instanceExpr"
   ]
  },
  {
   "cell_type": "code",
   "execution_count": null,
   "metadata": {},
   "outputs": [],
   "source": [
    "# subsetEqDefSpecRHS.deduceInBool()"
   ]
  },
  {
   "cell_type": "code",
   "execution_count": null,
   "metadata": {},
   "outputs": [],
   "source": [
    "%qed"
   ]
  },
  {
   "cell_type": "code",
   "execution_count": null,
   "metadata": {},
   "outputs": [],
   "source": []
  }
 ],
 "metadata": {
  "kernelspec": {
   "display_name": "Python 3",
   "language": "python",
   "name": "python3"
  }
 },
 "nbformat": 4,
 "nbformat_minor": 0
}
