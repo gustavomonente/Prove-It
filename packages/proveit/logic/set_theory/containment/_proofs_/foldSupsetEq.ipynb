{
 "cells": [
  {
   "cell_type": "markdown",
   "metadata": {},
   "source": [
    "Proof of <a class=\"ProveItLink\" href=\"../../../../_context_.ipynb\">proveit</a>.<a class=\"ProveItLink\" href=\"../../../_context_.ipynb\">logic</a>.<a class=\"ProveItLink\" href=\"../../_context_.ipynb\">set_theory</a>.<a class=\"ProveItLink\" href=\"../_context_.ipynb\">containment</a>.<a href=\"../_theorems_.ipynb#foldSupsetEq\" class=\"ProveItLink\">foldSupsetEq</a> theorem\n",
    "========"
   ]
  },
  {
   "cell_type": "code",
   "execution_count": 1,
   "metadata": {},
   "outputs": [],
   "source": [
    "import sys\n",
    "sys.path.append('..') # allows access to modules in parent context\n",
    "import proveit"
   ]
  },
  {
   "cell_type": "code",
   "execution_count": 2,
   "metadata": {},
   "outputs": [
    {
     "name": "stdout",
     "output_type": "stream",
     "text": [
      "Beginning proof of foldSupsetEq\n",
      "Recorded 'presuming' information\n",
      "Presuming previous theorems (applied transitively).\n"
     ]
    },
    {
     "data": {
      "text/html": [
       "<strong id=\"foldSupsetEq\">foldSupsetEq:</strong> <a class=\"ProveItLink\" href=\"../__pv_it/665dde763534491e4a8bad8c8eeed2eddee43a5d0/expr.ipynb\"><img src=\"data:image/png;base64,iVBORw0KGgoAAAANSUhEUgAAATkAAAAVBAMAAADP1oQ7AAAAMFBMVEX///8QEBCIiIhmZma6urrM\n",
       "zMxUVFQiIiJERETc3Nzu7u6qqqp2dnaYmJgyMjIAAAAcRTyBAAAAAXRSTlMAQObYZgAABEZJREFU\n",
       "SMfNVl1oXEUU/rrZv3t37yYPgoJSFgs2SNssRtoXawN9qBQ1iw/tm7tQC6mgXa2wlfoTg9Abf9h9\n",
       "kFoUzW0VrRFjoA/qi4YmovaPBZ/8adxii9iHNjQSY0TjmTOze2d2772Kvnjg3Jk7c2bmm/Mz5wBR\n",
       "ZDWw6TL+TiScMnU4Pw0FTLwRvSk+UdwUPxdChE4AcznRcUIxnAg94UHifUA2AJ09yk2i2TXj7F8a\n",
       "HHkeyTqYz4ixKyEH/EzostPUyXkIFwmha8RTwehyddkscDNVrVbHWlNrCPi2ok24BR8V1hkN3t8p\n",
       "EDqePBoGQYiEzFyjG2Xzgei+ls38Snvkg0uqUyIrDRdwirqnpFZYPQGUoivOsWLPhGFI1Q1Eh6vP\n",
       "tPrvb6Mpu09Hl24JPynte/I3f+mUmhug9oc8jlGX2Dk9OflqyNFifA7fT06+V0GESJsSY5oDNAYE\n",
       "rEs6uoSykSW3c2K/aGuVDz5HqG/0kKNVgpdd96mQo9cxul7XPTyDCJHjt72yIc/318DFvc9EJM0a\n",
       "llUWjUl32Jn5o9uBl4DdD5M5C5L3AuM8Lr/3LM6OtAzwMqNLFn2TBInYM87jKb75Pk3obZQE4nmF\n",
       "bktV0LMSVppfAHsocV1bIJ0nsXSh/5DQa1Pydg4O6ks1O+QpfWrBIUYXL4jQ073LFMl62ZU4o9WD\n",
       "awgTAspHZlR8yh6e4m8c1qI2dadUK7nisTK9lBXJKcT4Km9JNfeUkWmF0g2MDhVsbLv67NYuERtp\n",
       "9XytvUqk3GjP4H4xWjLR2RfF3xoe2jW4eVmbkn6XpmvHfqf1C5KzjRSPnz4ggzCPnqaJ7hxaQeG8\n",
       "+JrXLYLevHR2TXdxwtDsRnfkK7TR0WetllbK3PRSE7vuo7Oau/iyeZenPyxik2dYFm8maEl23QN7\n",
       "yQuCRFAqyp8+/zCyXUr87lDo7r7KJF2fLZshfsxfsNtrP3dJ8rF4RTLGHxLDSWzh6eGN/WUYUYH0\n",
       "ETrg9mTzCaX9DpGMN4AY732Hn32nVSaYN3R3P/yoeF2lE2nx7eP+c1ca9aMCJ9lu32GAp88D61tr\n",
       "ZiW6jMBdzDVgF4JEhqdrKqunpvVnMC3e2rt0dLbKmOKp4DevVleZ7GDrub9IKruJrtozI1l6jf3j\n",
       "2Rrf/yVgonXIDokOHPi9dSQOuu5Yl8g7tx7fKosEe2SnKg1WryBT+5VAXNbRJZUHkMns2p8ePl49\n",
       "0PF8Prq6Z7PLib0oGY5A1eNhgtdSvAzXjUwGfMsegSKkQTtFtFj40s9kEm9FR2fByGRR9K5iSfeR\n",
       "chrWC7BWYN1iVAFq44XzmMHn3O0UiaDoKiCCVBWg/HQZVu3pxM34YnFwxN9uvI3OfuTeDR7SQuld\n",
       "IhEUUkGZuWeK80jZ0LmqoMxaNqD6NAb63bF/XH0q7BHVZzgJ+OYVVLHcUZav/y+Vu1NH7F9V7t8o\n",
       "NqiB/xf9BX3xR981HXfrAAAAAElFTkSuQmCC\n",
       "\" style=\"display:inline;vertical-align:middle;\" /></a><br>(see <a class=\"ProveItLink\" href=\"../__pv_it/665dde763534491e4a8bad8c8eeed2eddee43a5d0/dependencies.ipynb\">dependencies</a>)<br>"
      ],
      "text/plain": [
       "foldSupsetEq: forall_{A, B} ([forall_{x in B} (x in A)] => (A supseteq B))"
      ]
     },
     "execution_count": 2,
     "metadata": {},
     "output_type": "execute_result"
    }
   ],
   "source": [
    "%proving foldSupsetEq presuming []"
   ]
  },
  {
   "cell_type": "code",
   "execution_count": null,
   "metadata": {},
   "outputs": [],
   "source": []
  }
 ],
 "metadata": {
  "kernelspec": {
   "display_name": "Python 3",
   "language": "python",
   "name": "python3"
  }
 },
 "nbformat": 4,
 "nbformat_minor": 0
}
