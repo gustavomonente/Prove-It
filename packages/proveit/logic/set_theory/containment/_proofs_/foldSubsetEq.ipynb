{
 "cells": [
  {
   "cell_type": "markdown",
   "metadata": {},
   "source": [
    "Proof of <a class=\"ProveItLink\" href=\"../../../../_context_.ipynb\">proveit</a>.<a class=\"ProveItLink\" href=\"../../../_context_.ipynb\">logic</a>.<a class=\"ProveItLink\" href=\"../../_context_.ipynb\">set_theory</a>.<a class=\"ProveItLink\" href=\"../_context_.ipynb\">containment</a>.<a href=\"../_theorems_.ipynb#foldSubsetEq\" class=\"ProveItLink\">foldSubsetEq</a> theorem\n",
    "========\n",
    "*** see <a href=\"../__pv_it/9e39e5069264337bcc9caf90d2c6140d2119a5b20/dependencies.ipynb\" class=\"ProveItLink\">dependencies</a> ***"
   ]
  },
  {
   "cell_type": "code",
   "execution_count": 1,
   "metadata": {},
   "outputs": [
    {
     "name": "stdout",
     "output_type": "stream",
     "text": [
      "Beginning proof of foldSubsetEq\n",
      "Recorded 'presuming' information\n",
      "Presuming previous theorem (applied transitively).\n"
     ]
    },
    {
     "data": {
      "text/html": [
       "<strong id=\"foldSubsetEq\">foldSubsetEq:</strong> <a class=\"ProveItLink\" href=\"../__pv_it/b6202614d31546f9f0d98d31adfd14622e712f8f0/expr.ipynb\"><img src=\"data:image/png;base64,iVBORw0KGgoAAAANSUhEUgAAAToAAAAVBAMAAAAk4T84AAAAMFBMVEX///8QEBCIiIhmZma6urrM\n",
       "zMxUVFQiIiJERETc3Nzu7u6qqqp2dnaYmJgyMjIAAAAcRTyBAAAAAXRSTlMAQObYZgAABDpJREFU\n",
       "SMfNVm+IVFUU/zn/dt6b92b3W0IRQ35oWTIHFhTCdLAPWVg7+cH6EOxSCmuQjqiM4p8mEXZWhZlP\n",
       "21KkTwKtLWrBD/35EItLqKvZwEL53xGLMGEbXF03xezec++bd+/Me2PZFw+c99697/zOPfecc889\n",
       "QCv6GKGpLB4g0oK+BezfM/8VxShRFlzlg4v+MmYBVibJv+wKAkX8yF4/092/GzG2gJUJREWrQUCs\n",
       "BfFJPveH/9LJMtNtjfIvB4EivjSHrb80a1b9rZOoZE2Of87n85tVIL5kn4yH2cvwdwAmuW76ORwU\n",
       "gsmA+V7m7J40jvpbJ1GX7oj3/hNNQCsFztwr5B4f2kq6uWNPBlm3VRudyedlsBYw71xO4aBmXbys\n",
       "ocwjf4nhNUWFBJod4GxPjIx84L+ykSPdF0ZGPsshWMSjN7rqn+8z5Y85SGZU66IFDWWHbtI7rDpH\n",
       "AvEriGeLxe3+S4fSZF17sTgwhmAR86m1y46SL5T0nQFef4fB01pkJz0Uo5cT9+jdpmqUQIwLXgMM\n",
       "0rx4Lp8e75cBiFfIuljWC0ljiLjIF/gltZMPYp5UdOZi5zbunqq0blGe03vpOoptJhO9QcMhRbML\n",
       "xCXBL8CkXLGFm+0OWB1Csm2UrIuk6QSpdNn1BxeZwE/OS7So4lOWUQf7WM3K6afi+1EXBURgTNPk\n",
       "p2gG4mvBbQjRVj4Rbg73ISGP0pyMyOkc5rvgz8ef57te6pY/LuKgKAavTTESpyLONhi6y1xR060z\n",
       "r2QkCljVvXC2KbIuEL2CrYr4O7FRiKYQrurW/Qg39+29H/LCZx1OK9YBIkBq2Wln2w/daLZu6ISH\n",
       "Yo8naZJXj0aga51RXUUBTwkPfJXFs44WWeyPMog1b+UalgVEK+MFJbKI3pKm6lUrxlIl4kZ2yRTR\n",
       "NQ+VYLxBSF9vBuJFyYOrKaWxiH73zO/sg3YqEB9ij65YdROkU/vCOUXku1ANVErCKa1q9RaUUyHo\n",
       "VQ+Fjxj/KcaHVjuNQPdU4AgtdR4L6Pdp4GkpaYmKggS3O5uswBQBtUdDNU8kcjdeM0QebqubcYW5\n",
       "bS5bMjymWueWHK6Yal5JnvI3B9ybzAViseR2vmXz6qkSbWAfcEBWx0hOVnrKq/YyoluKxV3s/lt8\n",
       "XJ4bLmK+1TVPdhGHdksfrLv/9sIi3c9Z1bpY1kOV/nbwzf2NDcWgDsRvkm2uMuzgAGHZeekpazcZ\n",
       "cI4yAlmImD8H45b/TbZiIK+3HYe1m8zwR/n2PjnBgl5hzqkYe2DcgfGE1gVIxbXTGMMPtHMWxnsP\n",
       "6gIkte4CWpDsAmSezsIo7Yg+jmPT3f0Z5UpwdZvvrnjGQZw7vVTA8O1K463h74GADkpHWXSPbNYk\n",
       "ZAelt6Q+3ac208nz7l90n4oVLbrPFjRYv1q1Truxc9/5fzr3s6y0PlTnbpcFa1TBo0X/ANjFQ6I1\n",
       "Ii8KAAAAAElFTkSuQmCC\n",
       "\" style=\"display:inline;vertical-align:middle;\" /></a><br>(see <a class=\"ProveItLink\" href=\"../__pv_it/b6202614d31546f9f0d98d31adfd14622e712f8f0/dependencies.ipynb\">dependencies</a>)<br>"
      ],
      "text/plain": [
       "foldSubsetEq: forall_{A, B} ([forall_{x in A} (x in B)] => (A subseteq B))"
      ]
     },
     "execution_count": 1,
     "metadata": {},
     "output_type": "execute_result"
    }
   ],
   "source": [
    "import proveit\n",
    "%proving foldSubsetEq presuming []"
   ]
  },
  {
   "cell_type": "code",
   "execution_count": null,
   "metadata": {},
   "outputs": [],
   "source": []
  }
 ],
 "metadata": {
  "kernelspec": {
   "display_name": "Python 3",
   "language": "python",
   "name": "python3"
  }
 },
 "nbformat": 4,
 "nbformat_minor": 0
}
