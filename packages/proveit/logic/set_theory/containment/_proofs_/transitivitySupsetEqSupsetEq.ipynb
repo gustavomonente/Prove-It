{
 "cells": [
  {
   "cell_type": "markdown",
   "metadata": {},
   "source": [
    "Proof of <a class=\"ProveItLink\" href=\"../../../../_context_.ipynb\">proveit</a>.<a class=\"ProveItLink\" href=\"../../../_context_.ipynb\">logic</a>.<a class=\"ProveItLink\" href=\"../../_context_.ipynb\">set_theory</a>.<a class=\"ProveItLink\" href=\"../_context_.ipynb\">containment</a>.<a href=\"../_theorems_.ipynb#transitivitySupsetEqSupsetEq\" class=\"ProveItLink\">transitivitySupsetEqSupsetEq</a> theorem\n",
    "========"
   ]
  },
  {
   "cell_type": "code",
   "execution_count": 1,
   "metadata": {},
   "outputs": [],
   "source": [
    "import sys\n",
    "sys.path.append('..') # allows access to modules in parent context\n",
    "import proveit"
   ]
  },
  {
   "cell_type": "code",
   "execution_count": 2,
   "metadata": {},
   "outputs": [
    {
     "name": "stdout",
     "output_type": "stream",
     "text": [
      "Beginning proof of transitivitySupsetEqSupsetEq\n",
      "Recorded 'presuming' information\n",
      "Presuming previous theorems (applied transitively).\n"
     ]
    },
    {
     "data": {
      "text/html": [
       "<strong id=\"transitivitySupsetEqSupsetEq\">transitivitySupsetEqSupsetEq:</strong> <a class=\"ProveItLink\" href=\"../__pv_it/f21c90b247d8dafa8be25397b4891a23d4b5ae780/expr.ipynb\"><img src=\"data:image/png;base64,iVBORw0KGgoAAAANSUhEUgAAAPcAAAAWBAMAAADuuhdHAAAAMFBMVEX///8QEBCIiIhmZma6urrM\n",
       "zMxUVFQiIiJERETc3Nzu7u6qqqp2dnaYmJgyMjIAAAAcRTyBAAAAAXRSTlMAQObYZgAAA3VJREFU\n",
       "SMe1Vk1oE0EU/twkJrubtb0rGg9iFfyjEEWCjQgigrS2UD0GqqCiUO2hKooRJKyiJJ4s+NOVHlqL\n",
       "P8Ve2ovGin9VdP05VEStetKL0lqs9ffNm+x2k7QqmA7svJmdN/O9+ea9NwNMVTn7l/Fe+gZF42Xp\n",
       "sbUki8DgBEMVDbvU7PQMcF90P5QefEZGik/FQ3Nt6MtsjcxqoZ6aLD34UylejRWNdOynqiqDPjLN\n",
       "AsJdpQffJxnu/spyU3Nz84ncyBtCxGrgPGD0d3aeKj222sjCUD67v868Z+H7Juo62nYcGDXNA6UH\n",
       "V5ayWK//GP8n99jKZl0gvkllK3CU/8p63fDNbdJXjFRMES2/MzmUcVr+dCxaqC7KQEN2QU7XZtbj\n",
       "gaFxcJ0NehTJdQ3yuDXQOBwMSZBRjnA5E/cW2mFex5n8Oo7NpslH9xi4Ma4eME1TgJ2LoKNc6gbZ\n",
       "jfxQhz108J4P1Ti2UDcIha1skwT5EtDZQ1vpSAa84FoV6+kiNKLAdStPvYfMJfONXOBMi4u6vjI6\n",
       "6gHfLqo5PI+qAEVh2A7ySH+TNDkCHzMhHKHWCx5ul+dYT98eYFW+eiCBYJZExAtO1WwP+DHeOe+g\n",
       "RoKrg/U8OWKywpUaLBa2KWI/nV7w2pDc1XQL2giUD3nqwA4soYZmeWjX6dtdSHuVcJGwOBPRPbqF\n",
       "l8RyVqheVJHg2W7iccATvlz4xOEfepJCnjrwDHs9OOxwp+n76ImALB+n4KY/53Do5jVfYAlrPATm\n",
       "C1mWLQA3uhSZKpUahAehNOapA/Pw3QMu4ohjPT0eC9ekn5FvdQt+fAKhTJiivXuQZsaOk22CMnGA\n",
       "mu0Bvxy7O+YYE8pC5VzhqgNJ9pJLTjA2Qkv/tNDzq8nx17U7ZKMt1cAOMUO4vcFmWGjlGKA1q4Wx\n",
       "vqQ8GRd8JdQRblwle7vgl3nTUYcewQoS2fz06hRKr3tvFeShdre1gVa01WNQx6DOouvGwkFo9zzg\n",
       "fmKBg7GOCG21cJI276qTv1YSWTYuZgoulj+UPvdcR6GmDwZm4s5w5TYiZWMXwg19lgc8nUTLF3uz\n",
       "maINhA9VRo8QoKNOSWanoO12bCGK0+FkF37hTa+7Lc89F5p0vv73x8Tkpci6XnfZzL+A9/7PM+p5\n",
       "4Q/baRiYGJxyu5kqUhe53UxMyUvQN2VvzN+Bf+ukxIh+SwAAAABJRU5ErkJggg==\n",
       "\" style=\"display:inline;vertical-align:middle;\" /></a><br>(see <a class=\"ProveItLink\" href=\"../__pv_it/f21c90b247d8dafa8be25397b4891a23d4b5ae780/dependencies.ipynb\">dependencies</a>)<br>"
      ],
      "text/plain": [
       "transitivitySupsetEqSupsetEq: forall_{A, B, C | A supseteq B, B supseteq C} (A supset C)"
      ]
     },
     "execution_count": 2,
     "metadata": {},
     "output_type": "execute_result"
    }
   ],
   "source": [
    "%proving transitivitySupsetEqSupsetEq presuming []"
   ]
  },
  {
   "cell_type": "code",
   "execution_count": null,
   "metadata": {},
   "outputs": [],
   "source": []
  }
 ],
 "metadata": {
  "kernelspec": {
   "display_name": "Python 3",
   "language": "python",
   "name": "python3"
  }
 },
 "nbformat": 4,
 "nbformat_minor": 0
}
