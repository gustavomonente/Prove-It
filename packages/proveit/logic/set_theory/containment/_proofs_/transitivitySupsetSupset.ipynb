{
 "cells": [
  {
   "cell_type": "markdown",
   "metadata": {},
   "source": [
    "Proof of <a class=\"ProveItLink\" href=\"../../../../_context_.ipynb\">proveit</a>.<a class=\"ProveItLink\" href=\"../../../_context_.ipynb\">logic</a>.<a class=\"ProveItLink\" href=\"../../_context_.ipynb\">set_theory</a>.<a class=\"ProveItLink\" href=\"../_context_.ipynb\">containment</a>.<a href=\"../_theorems_.ipynb#transitivitySupsetSupset\" class=\"ProveItLink\">transitivitySupsetSupset</a> theorem\n",
    "========"
   ]
  },
  {
   "cell_type": "code",
   "execution_count": 1,
   "metadata": {},
   "outputs": [],
   "source": [
    "import sys\n",
    "sys.path.append('..') # allows access to modules in parent context\n",
    "import proveit"
   ]
  },
  {
   "cell_type": "code",
   "execution_count": 2,
   "metadata": {},
   "outputs": [
    {
     "name": "stdout",
     "output_type": "stream",
     "text": [
      "Beginning proof of transitivitySupsetSupset\n",
      "Recorded 'presuming' information\n",
      "Presuming previous theorems (applied transitively).\n"
     ]
    },
    {
     "data": {
      "text/html": [
       "<strong id=\"transitivitySupsetSupset\">transitivitySupsetSupset:</strong> <a class=\"ProveItLink\" href=\"../__pv_it/05cfacf8ea95c06805e66d56bd7903e9ec81072e0/expr.ipynb\"><img src=\"data:image/png;base64,iVBORw0KGgoAAAANSUhEUgAAAPcAAAAWBAMAAADuuhdHAAAAMFBMVEX///8QEBCIiIhmZma6urrM\n",
       "zMxUVFQiIiJERETc3Nzu7u6qqqp2dnaYmJgyMjIAAAAcRTyBAAAAAXRSTlMAQObYZgAAA3JJREFU\n",
       "SMe1Vk1oE0EU/kzSJrvZbb0rGk9WQa0Eoki01YKIIFYFvRaioIJQ7aEqihG1RFESTxb8yUoFa/An\n",
       "0Iu9aKzUnyq6KkJF1Kone1FaxfrvmzfZ7SRpVSQd2Jk3M2/me/PNe28WmKhy+i/z3fQNCOFF+bH1\n",
       "ODcVA2NM1cS2abnKFHBPdAfLD16Vks2H0qkZNoLzbZ3MaqeeFi8/+BPZvPxaMtO5m6q6FHrINAsw\n",
       "suUH3yUZ7vrC7YbW1tZj+ZnXhIilwFnA7MtkTpQfW2vmxvR8dIdOvePG+03U6+jY9cBIIrGn/OCe\n",
       "Wm5WBn+MjskzptmsC8Q3qWwCDvOorFcM39wsfcVsi3qE5HMWB1KO5EtGI8XqovTHcrPyujazXl8x\n",
       "NAoeZIMehvJdkzyuATqHgykJMifDmMzEvYG+n/dxFr+qd/d5BNwoVBflTAid+Y6f3cgHbVihg8+8\n",
       "r9Gxhbp+eNjKDkmQtwlB9tA0QfWr4HqdjY5w+KmQI8B1y1XXw+HFtKVG5pv5wJnEhq4PR0YU8C2i\n",
       "ms7rqKqgKDRsP8/0tUiTQ/AyE8IR1qrgxvla6JlMgyBvB7BEUc9kzoVJztGOIRWcqmkK+BE+OZ+6\n",
       "UYJrA+s5FYUSrHClEXOFbR5x/IwKvjYgT9VAJHyCZ7BAHb5azCNBtxTag/RtL6a9TriIIVaI7uGN\n",
       "YqwSC1hh9ZyaJl7tJh4HvMkrw8dohG/ocRsK1IFe7FRw2OFO0vdeiYAcX6fgpi/vcOjiPZ9jHms8\n",
       "AGaKtjpXBG5mPTJV+kIwBuBpLlAHluG7Ai7iiGM9ORoL16SfkW91CX68AqFamKK/vZ9kxo6SbYIy\n",
       "cYG6rYBfjt6RqVLLIZCDxrnCVaccwl5yyQnGZujJnxau/mpx/HX5Vil0tMXYIaqE25tshoU0xwDt\n",
       "uVoY643Lm3HBF0H7lKcA1Vn4ZN501AV1C6nOFaZXp1B63dlblIfOu9IqYsDWjkD7Cm0qPTcW9kK/\n",
       "q4D7iIUfTj9t4Tgd3lUXJQ6/jYupooflD6XHvdcRaMm9FVNwezi8mUhZk4UR67EU8GQc7Z/FNWiH\n",
       "YOwLRw5SgLjqVNqJt1vR2ShNh+M9+MUvfdCVlHcuoD6HicQBq0RdTyQSi8b+mRi/lFjX7W6bGht8\n",
       "HPX/+Y16VjxgO4KJfwG3MeHFO2E7/wYXKeoMwY2ocwAAAABJRU5ErkJggg==\n",
       "\" style=\"display:inline;vertical-align:middle;\" /></a><br>(see <a class=\"ProveItLink\" href=\"../__pv_it/05cfacf8ea95c06805e66d56bd7903e9ec81072e0/dependencies.ipynb\">dependencies</a>)<br>"
      ],
      "text/plain": [
       "transitivitySupsetSupset: forall_{A, B, C | A supset B, B supset C} (A supset C)"
      ]
     },
     "execution_count": 2,
     "metadata": {},
     "output_type": "execute_result"
    }
   ],
   "source": [
    "%proving transitivitySupsetSupset presuming []"
   ]
  },
  {
   "cell_type": "code",
   "execution_count": null,
   "metadata": {},
   "outputs": [],
   "source": []
  }
 ],
 "metadata": {
  "kernelspec": {
   "display_name": "Python 3",
   "language": "python",
   "name": "python3"
  }
 },
 "nbformat": 4,
 "nbformat_minor": 0
}
