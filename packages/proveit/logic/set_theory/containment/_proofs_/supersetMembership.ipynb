{
 "cells": [
  {
   "cell_type": "markdown",
   "metadata": {},
   "source": [
    "Proof of <a class=\"ProveItLink\" href=\"../../../../_context_.ipynb\">proveit</a>.<a class=\"ProveItLink\" href=\"../../../_context_.ipynb\">logic</a>.<a class=\"ProveItLink\" href=\"../../_context_.ipynb\">set_theory</a>.<a class=\"ProveItLink\" href=\"../_context_.ipynb\">containment</a>.<a class=\"ProveItLink\" href=\"../_theorems_.ipynb#supersetMembership\">supersetMembership</a> theorem\n",
    "========"
   ]
  },
  {
   "cell_type": "code",
   "execution_count": 1,
   "metadata": {},
   "outputs": [],
   "source": [
    "import proveit\n",
    "context = proveit.Context('..') # the theorem's context is in the parent directory"
   ]
  },
  {
   "cell_type": "code",
   "execution_count": 2,
   "metadata": {},
   "outputs": [
    {
     "name": "stdout",
     "output_type": "stream",
     "text": [
      "Beginning proof of supersetMembership\n",
      "Recorded 'presuming' information\n",
      "Presuming previous theorems (applied transitively).\n"
     ]
    },
    {
     "data": {
      "text/html": [
       "<strong id=\"supersetMembership\">supersetMembership:</strong> <a class=\"ProveItLink\" href=\"../__pv_it/76e0cd50edda1b711af2e94df3f39d23ea5109dc0/expr.ipynb\"><img src=\"data:image/png;base64,iVBORw0KGgoAAAANSUhEUgAAAPYAAAAWBAMAAAABeHx5AAAAMFBMVEX///8QEBCIiIhmZma6urrM\n",
       "zMxUVFQiIiJERETc3Nzu7u6qqqp2dnaYmJgyMjIAAAAcRTyBAAAAAXRSTlMAQObYZgAAAzlJREFU\n",
       "SMe1lktoE0EYx//mYbLbTdq7HoKCSsG2sFhBqoZ6UEFpvKgnW9RCe9GihSJq7aFoqkLiyR6ULFiK\n",
       "RNGCB6kIra0iRNH4AAtiCaiXgm3oA/tA9JuZfUy0XWukA7uZ+f77399k5puZBYosnvGY+wM3XbSS\n",
       "JDDaihyrf/p3thZ1d6odSylH6Gqm6ylesOZYMWx3Zzi5lDJB1z3O7qa70lEM2935bikhNGGQO8LY\n",
       "YVbrK4bt7jxT0Bppa8uZ1Ts7aUTUMsYOZdLp6yiG7epUWuTW4XKnnq2M0v0LY2M2Hj9XFNvV6ami\n",
       "P7euuXaI552UFT5jIEs/w5zdCHTxqLjvmRpu4mnis57usn22JtiNssYciZpqKxAkwF18iLSzxmop\n",
       "73pQT3ONUc7eBZVPRWhapEIZtDLutnJj2kkTSxNsy2mXN8ATsxqgRMjgtbFXfhUrUaRoSPCQswPw\n",
       "sEHArR9c8zagZF42UFzV9e0xWRNsy8lG9bFO1WpgwBCBVTSpBuKicWCciuim/5h+kq2Nes7WsgEe\n",
       "zZwWHY7Am5PZLJ5O9+iyJtiWk+Vxf5rup4AdcNjApGh0S/NCUs5mK7mDvEMR0cn7MVQYEtuK+6ok\n",
       "TbCFc2jLhhgT6c/PwDMmjTn8M2ZHHDaFA2zadnM2uo7zfMBWLtZt3tQAiW3F8UzSBJs7PcaJQDQs\n",
       "ujf59iKkXHvkyYMvLm/EXnrEDuftXMMDvhQ/opKrr4CNMtuKo1bSTDZz+vGNckKEcvBYy1qrgm8h\n",
       "mFdEQpy1XGw/CM7RrUawS1mv1M8vE3w4rwKpPodtx3FD0kw2d4JedSgej0cQHISyYM1rC9Sj5evN\n",
       "o6a3U7zj9s8xlCS+0wx9FewQi3sNpPihSOa6pMO24zQAjmayudOf99PEsFLaB9/c4nvqvkttBctR\n",
       "bRFsXvaTNatchjIPZa005jzOax2SZrJZSWk5DRrvXsrAtcG/niXCHXHYwVkoifP+NXg+pTdFHbaI\n",
       "83USkzSJ3ft+KANcYZELenWn/fZg0o0tztDC7wmpLm1GKk3ntj/3c3n7ZvO9zG8Ha5/+jd2/OHvR\n",
       "w6L9P76ZQjQoFa2Fsezy2StavCtO+AVAdvZL2kuGHwAAAABJRU5ErkJggg==\n",
       "\" style=\"display:inline;vertical-align:middle;\" /></a><br>(see <a class=\"ProveItLink\" href=\"../__pv_it/76e0cd50edda1b711af2e94df3f39d23ea5109dc0/dependencies.ipynb\">dependencies</a>)<br>"
      ],
      "text/plain": [
       "supersetMembership: forall_{A, B | A supset B} [forall_{x in B} (x in A)]"
      ]
     },
     "execution_count": 2,
     "metadata": {},
     "output_type": "execute_result"
    }
   ],
   "source": [
    "%proving supersetMembership presuming []"
   ]
  },
  {
   "cell_type": "code",
   "execution_count": null,
   "metadata": {},
   "outputs": [],
   "source": []
  }
 ],
 "metadata": {
  "kernelspec": {
   "display_name": "Python 3",
   "language": "python",
   "name": "python3"
  }
 },
 "nbformat": 4,
 "nbformat_minor": 0
}
