{
 "cells": [
  {
   "cell_type": "markdown",
   "metadata": {},
   "source": [
    "Proof of <a class=\"ProveItLink\" href=\"../../../../_context_.ipynb\">proveit</a>.<a class=\"ProveItLink\" href=\"../../../_context_.ipynb\">logic</a>.<a class=\"ProveItLink\" href=\"../../_context_.ipynb\">set_theory</a>.<a class=\"ProveItLink\" href=\"../_context_.ipynb\">containment</a>.<a href=\"../_theorems_.ipynb#transitivitySubsetSubset\" class=\"ProveItLink\">transitivitySubsetSubset</a> theorem\n",
    "========"
   ]
  },
  {
   "cell_type": "code",
   "execution_count": 1,
   "metadata": {},
   "outputs": [],
   "source": [
    "import sys\n",
    "sys.path.append('..') # allows access to modules in parent context\n",
    "import proveit"
   ]
  },
  {
   "cell_type": "code",
   "execution_count": 2,
   "metadata": {},
   "outputs": [
    {
     "name": "stdout",
     "output_type": "stream",
     "text": [
      "Beginning proof of transitivitySubsetSubset\n",
      "Recorded 'presuming' information\n",
      "Presuming previous theorems (applied transitively).\n"
     ]
    },
    {
     "data": {
      "text/html": [
       "<strong id=\"transitivitySubsetSubset\">transitivitySubsetSubset:</strong> <a class=\"ProveItLink\" href=\"../__pv_it/2f5d982a668fb29c42c4cf949143dd7841e7d8b20/expr.ipynb\"><img src=\"data:image/png;base64,iVBORw0KGgoAAAANSUhEUgAAAPcAAAAWBAMAAADuuhdHAAAAMFBMVEX///8QEBCIiIhmZma6urrM\n",
       "zMxUVFQiIiJERETc3Nzu7u6qqqp2dnaYmJgyMjIAAAAcRTyBAAAAAXRSTlMAQObYZgAAA29JREFU\n",
       "SMe1Vl1IVEEU/tof9d7dq74XtdFDFpTGwvbDkkYvIoVm4FMPwir4ULAVYUXiBmFrBLu9lBC1NwS1\n",
       "pZ8FX/KpzX61qFu9GFFt9WYPiSaZZTVz5t67465WxDpwZ87c+e58Z745Z+YCS1Uu/WV8iD0Zbrwp\n",
       "PLcaocadWWCoInRASRfFgce8O1548tK4aCbyh1Yb8GwyVOZWD+spkcKTvxTN29m8kYHjrKqOY5i5\n",
       "pgPeVOHJjwmFB7+Z/bH29vYjZL1njNgBXAG00WTyQuG5lTA1muOL6F8esUac33m9ly27BpiJRk8U\n",
       "ntxRRU2dZ04WgpcEuXWV6c0grUA3vRV17dTdNhErWlfQwS2X9VlJ3LJcsWAgF07ahtLrTKxBqte4\n",
       "J8Vysxv7zGcaGou4nVApHTQhkFYObzkJ9wHqSZrH+uxdjT3Dc+DOfDhp68OA2SkmNheUKdHNatLZ\n",
       "YBqeMH/vIC97hUDOZngoQhOMakwmV6sZzr3G72d2ALitS/BGv78KCnNfMxNnGTna5A/MUPd8lnwV\n",
       "fccqN8tCryHcGj0sfPTBSUrwQGiUyb39VVD31yWTzD4EbJfgffeSSR3FaTajTyZn1UqRXtLKadUN\n",
       "glzJNNFR5IvS2M0GbOS+OfjykzJ5Y0kERUIzdRqOcQneSnYl+07VJdk97DmYK3s1DxEv3xMeed0t\n",
       "/F0RNtNY/YaKZoLbB49F3uwMY5cZcJMvupCFu9JkH5WinQLuIns+C9V82Wjn5qgZcBik2H+NShp7\n",
       "CqzlbVk6h1xLOSZw39yBDBzhLNwr9PghkfM8olyPiVz4ZI/w5Bvk+jg5Qxl3Rf34JEaKnWW+ccn4\n",
       "BqqGRH4j+GgWW01/0lDorBBwpyDgUXLdSsYw1NhPHbd+iVDqa9Et9t6uEAVEKXdZIzd0JMh/Nmc9\n",
       "n8sZETtjk2+DMs30oVKWgkucmwTXRBZvYU96/vGaLftOW8erVfptazeb0VDOQJmFsoJdNzo6oI5I\n",
       "5C6mwpwVtQkd59jiLbh5fRYbuBbPuVj+UIbtfZ2BEutwL8fDKX8bE2VPCt7QsC6RxyLo+Wq46Fzz\n",
       "dvoDp1iC2PBawfkguB75x+FiF37uTe+xLemeK5ERfdFoNB+utkWjkQV/JhYved4N2dPGFyFfGP4/\n",
       "v1Gvcl8YlqHhX8gNLHlxLtnMvwEhx+r9fYV6YQAAAABJRU5ErkJggg==\n",
       "\" style=\"display:inline;vertical-align:middle;\" /></a><br>(see <a class=\"ProveItLink\" href=\"../__pv_it/2f5d982a668fb29c42c4cf949143dd7841e7d8b20/dependencies.ipynb\">dependencies</a>)<br>"
      ],
      "text/plain": [
       "transitivitySubsetSubset: forall_{A, B, C | A subset B, B subset C} (A subset C)"
      ]
     },
     "execution_count": 2,
     "metadata": {},
     "output_type": "execute_result"
    }
   ],
   "source": [
    "%proving transitivitySubsetSubset presuming []"
   ]
  },
  {
   "cell_type": "code",
   "execution_count": null,
   "metadata": {},
   "outputs": [],
   "source": []
  }
 ],
 "metadata": {
  "kernelspec": {
   "display_name": "Python 3",
   "language": "python",
   "name": "python3"
  }
 },
 "nbformat": 4,
 "nbformat_minor": 0
}
