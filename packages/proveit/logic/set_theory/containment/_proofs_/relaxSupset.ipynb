{
 "cells": [
  {
   "cell_type": "markdown",
   "metadata": {},
   "source": [
    "Proof of <a class=\"ProveItLink\" href=\"../../../../_context_.ipynb\">proveit</a>.<a class=\"ProveItLink\" href=\"../../../_context_.ipynb\">logic</a>.<a class=\"ProveItLink\" href=\"../../_context_.ipynb\">set_theory</a>.<a class=\"ProveItLink\" href=\"../_context_.ipynb\">containment</a>.<a href=\"../_theorems_.ipynb#relaxSupset\" class=\"ProveItLink\">relaxSupset</a> theorem\n",
    "========"
   ]
  },
  {
   "cell_type": "code",
   "execution_count": 1,
   "metadata": {},
   "outputs": [],
   "source": [
    "import sys\n",
    "sys.path.append('..') # allows access to modules in parent context\n",
    "import proveit"
   ]
  },
  {
   "cell_type": "code",
   "execution_count": 2,
   "metadata": {},
   "outputs": [
    {
     "name": "stdout",
     "output_type": "stream",
     "text": [
      "Beginning proof of relaxSupset\n",
      "Recorded 'presuming' information\n",
      "Presuming previous theorems (applied transitively).\n"
     ]
    },
    {
     "data": {
      "text/html": [
       "<strong id=\"relaxSupset\">relaxSupset:</strong> <a class=\"ProveItLink\" href=\"../__pv_it/a7d5888bcbf914d6caf90769fc59748bbc0a4f5b0/expr.ipynb\"><img src=\"data:image/png;base64,iVBORw0KGgoAAAANSUhEUgAAALkAAAAWBAMAAABuySBUAAAAMFBMVEX///8QEBCIiIhmZma6urrM\n",
       "zMxUVFQiIiJERETc3Nzu7u6qqqp2dnaYmJgyMjIAAAAcRTyBAAAAAXRSTlMAQObYZgAAAtNJREFU\n",
       "SMetVU1oE0EU/tzsJtlkY3MSQZHc9KINRCJI0UguIkiDh3o0oEIuYrRgVBTjf1KFxJMFkaz0UAkY\n",
       "A73oyVgPSisSKwoiakAv9lJJTE0jsc7PbjJJa8XVgZ335s2+7837mTeA5XH7D/sPyVehzHsL4K4k\n",
       "I0plyc6bxYPBVAj2LDBN17MW0FdnOfnKSCGRSFwwt9YCtjpcxO4oWalJC+ivOPnQbEvufeZUaQFy\n",
       "DZgktnVAK1pAP8XjM7HQERW4OxIRearAHUKm8vmbFsDVOCMe6VtHZuTA6SXIp8nBQ0AjlTpjAV3y\n",
       "M7LH3RKEX9jcF4VygoaE/HIYSDMhn3fXnsSYg7Kp4syanJwZCKZNaZkFJqRUBXRWIjhwZOYqjbWH\n",
       "uBJmySU8d9HjheZl6qbKx1Bb+yXw2GAdRX4EtSagb2VzfxauNYS6SfAckNgxxriLtijcTRHdtbOM\n",
       "sUDgNeWDwCOdi1cxm0OBYENA53E/Ty0Q4wopVq3sYLKpYX4mH2wVEV0b98OVz4dpnI8DOyCik2lD\n",
       "B9wdZWSeovs4uloZYvn2pdjW/Qi26CL6Pie/DWHiRh3SrBgZN/mOddD362a54yixK9OySh+iMju2\n",
       "sT8GN2/iJzDRozZee1oEcnXmCsSs3iLfXLs1hNPtclcaRlYxwbTfoZ/tvQA2iuieosTvuuyDVoEU\n",
       "NwPmN2o+kzU6wclpo0WQotg1QlNYouXpo4Y/Pc8wv64DuaKAXhh4xu+6WoKzBPWHWZ1xuDI/dTxY\n",
       "HO6+CPa5+UDsGjMToaejqDYdOboA0R7MCujbodYNJ9BXhLzQ3QlWGuNtbi/xoayOQG1CXS9ERibh\n",
       "bZnrnI4bpZ4utsKYbOeoATVzVlmHp7VALCSgZ5IY/U4TqF6Gdi4QvISlV9jswIlEtOsB6O38boF3\n",
       "CvzdVOqivvzr8fvRbd54rJZDt/Tyve0VlP8G/Z+G7T9g/AI0iLh9jVPL6gAAAABJRU5ErkJggg==\n",
       "\" style=\"display:inline;vertical-align:middle;\" /></a><br>(see <a class=\"ProveItLink\" href=\"../__pv_it/a7d5888bcbf914d6caf90769fc59748bbc0a4f5b0/dependencies.ipynb\">dependencies</a>)<br>"
      ],
      "text/plain": [
       "relaxSupset: forall_{A, B | A supset B} (A supseteq B)"
      ]
     },
     "execution_count": 2,
     "metadata": {},
     "output_type": "execute_result"
    }
   ],
   "source": [
    "%proving relaxSupset presuming []"
   ]
  },
  {
   "cell_type": "code",
   "execution_count": null,
   "metadata": {},
   "outputs": [],
   "source": []
  }
 ],
 "metadata": {
  "kernelspec": {
   "display_name": "Python 3",
   "language": "python",
   "name": "python3"
  }
 },
 "nbformat": 4,
 "nbformat_minor": 0
}
