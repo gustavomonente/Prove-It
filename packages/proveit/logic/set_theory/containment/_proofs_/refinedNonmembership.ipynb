{
 "cells": [
  {
   "cell_type": "markdown",
   "metadata": {},
   "source": [
    "Proof of <a class=\"ProveItLink\" href=\"../../../../_context_.ipynb\">proveit</a>.<a class=\"ProveItLink\" href=\"../../../_context_.ipynb\">logic</a>.<a class=\"ProveItLink\" href=\"../../_context_.ipynb\">set_theory</a>.<a class=\"ProveItLink\" href=\"../_context_.ipynb\">containment</a>.<a class=\"ProveItLink\" href=\"../_theorems_.ipynb#refinedNonmembership\">refinedNonmembership</a> theorem\n",
    "========"
   ]
  },
  {
   "cell_type": "code",
   "execution_count": 1,
   "metadata": {},
   "outputs": [],
   "source": [
    "import proveit\n",
    "context = proveit.Context('..') # the theorem's context is in the parent directory"
   ]
  },
  {
   "cell_type": "code",
   "execution_count": 2,
   "metadata": {},
   "outputs": [
    {
     "name": "stdout",
     "output_type": "stream",
     "text": [
      "Beginning proof of refinedNonmembership\n",
      "Recorded 'presuming' information\n",
      "Presuming previous theorems (applied transitively).\n"
     ]
    },
    {
     "data": {
      "text/html": [
       "<strong id=\"refinedNonmembership\">refinedNonmembership:</strong> <a class=\"ProveItLink\" href=\"../__pv_it/a42075fc569f884a4b98c2f18318d437a9db97ab0/expr.ipynb\"><img src=\"data:image/png;base64,iVBORw0KGgoAAAANSUhEUgAAAOcAAAAXCAMAAADHuKgLAAAAV1BMVEX///9jY2MJCQkNDQ0rKysP\n",
       "Dw8WFhYkJCRlZWUoKCgtLS0/Pz9RUVEvLy8QEBCIiIhmZma6urrMzMxUVFQiIiJERETc3Nzu7u6q\n",
       "qqp2dnaYmJgyMjIAAACXTERdAAAAAXRSTlMAQObYZgAAAyNJREFUWMPdWNeypCAQZXO2SU2T/v87\n",
       "l6Ajoqh7b9Xu7PVhagTOgc6NjL2NR74ROZjxp9N6PGVN/g2Pd++fWEzCc3OqzatXMSrOFaJIbyoL\n",
       "6uwyGeiJ5QzmdJqLbmCqeuExOTRlW5pFUQafWEzP2R+5rYzVOUXMQAeNGVfDPuGjT8zpUX/+pMNm\n",
       "DGIF+JhFpCn/dZQfo585CY0PJxGIYa8GnGpUT7pYMWS3jpgf7f6xZ4qTSZjdlgCUEVD8cB7J7kih\n",
       "B8SSl6RW1VldxqtSe1qVtP8FRu5S5ho6zv58R2svafAMjzXaKNnCa2CNk5ZcCrALT+U9oF5C0WeA\n",
       "4GyrEh/bs/viAm66ccAWLouXoL9JY/hg+xqe9cAuWcdFYsJsd99Vijk8aZrLjdVLsoK1eBKPbSXl\n",
       "Za2NdFPOLdziDRqy7tdPf7x9rRJV8ozFzX5yCiF8/JB+wkF4JnntbN+iJr9JzI50m8V1cQoe7tqz\n",
       "gy8V/ITGozU/aIBv5SyRt/HRUgz3lSKqRU5o5DSh7SckbHRGudIyWF3DAZeg5EjODp4iiA5pVp4c\n",
       "N9IN8Y3flhNvO9npqOdbqidTcwgIPQe+WhWWJOYNUkRIEb2qIWVxFZgWIzk7+JJIe5qGJ5uYmyG+\n",
       "yUOWkoUq9hFVUPPLYfWUEZs8lPANs7eski1qL0tANxeD4Md+28PTmzyiWXmItyR7/KMuJF1ZhrFr\n",
       "6bVVu7tKqOEpJpwVwl3v9BS4c9hkCyxLTGxiIJqhnDv4Mn9AM/NIjfj9GyIM8KvfkQIg4Nv7Bqn3\n",
       "YrtchaWJX1v3WRX+sZJTOc6qonoy0ciWg1oO5NzBmYUBzYNHLTF8iL/s+/w7h1rrcHbZ2QWCqLrK\n",
       "cWyw7ll+J8fqiInFBd2xnA18loXX4Glpeh4nSY3wN/p4NJe9luv7CCyBazBqn0pTMoHTkWcXELVY\n",
       "2eQmXjhwdNzItPDcJShXLbOh2fHgV7vH35WGrq9ZFM7n7Y2Rg37oxtPxfMk6gZfds+H668CFxa25\n",
       "HnmZnB2P4a/4bnK9vb9wbH9jZLzR3N8iqktmJ/6HD1T81QzqL5zyN/VFRs4uf2qUAAAAAElFTkSu\n",
       "QmCC\n",
       "\" style=\"display:inline;vertical-align:middle;\" /></a><br>(see <a class=\"ProveItLink\" href=\"../__pv_it/a42075fc569f884a4b98c2f18318d437a9db97ab0/dependencies.ipynb\">dependencies</a>)<br>"
      ],
      "text/plain": [
       "refinedNonmembership: forall_{A, B, x | A supseteq B, x not-in A} (x not-in B)"
      ]
     },
     "execution_count": 2,
     "metadata": {},
     "output_type": "execute_result"
    }
   ],
   "source": [
    "%proving refinedNonmembership presuming []"
   ]
  },
  {
   "cell_type": "code",
   "execution_count": null,
   "metadata": {},
   "outputs": [],
   "source": []
  }
 ],
 "metadata": {
  "kernelspec": {
   "display_name": "Python 3",
   "language": "python",
   "name": "python3"
  }
 },
 "nbformat": 4,
 "nbformat_minor": 0
}
