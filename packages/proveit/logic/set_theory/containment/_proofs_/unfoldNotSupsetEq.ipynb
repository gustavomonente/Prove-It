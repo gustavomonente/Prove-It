{
 "cells": [
  {
   "cell_type": "markdown",
   "metadata": {},
   "source": [
    "Proof of <a class=\"ProveItLink\" href=\"../../../../_context_.ipynb\">proveit</a>.<a class=\"ProveItLink\" href=\"../../../_context_.ipynb\">logic</a>.<a class=\"ProveItLink\" href=\"../../_context_.ipynb\">set_theory</a>.<a class=\"ProveItLink\" href=\"../_context_.ipynb\">containment</a>.<a href=\"../_theorems_.ipynb#unfoldNotSupsetEq\" class=\"ProveItLink\">unfoldNotSupsetEq</a> theorem\n",
    "========"
   ]
  },
  {
   "cell_type": "code",
   "execution_count": 1,
   "metadata": {},
   "outputs": [],
   "source": [
    "import sys\n",
    "sys.path.append('..') # allows access to modules in parent context\n",
    "import proveit"
   ]
  },
  {
   "cell_type": "code",
   "execution_count": 2,
   "metadata": {},
   "outputs": [
    {
     "name": "stdout",
     "output_type": "stream",
     "text": [
      "Beginning proof of unfoldNotSupsetEq\n",
      "Recorded 'presuming' information\n",
      "Presuming previous theorems (applied transitively).\n"
     ]
    },
    {
     "data": {
      "text/html": [
       "<strong id=\"unfoldNotSupsetEq\">unfoldNotSupsetEq:</strong> <a class=\"ProveItLink\" href=\"../__pv_it/d3cdadbc14cf288cba1018296737e5f07fb4cb740/expr.ipynb\"><img src=\"data:image/png;base64,iVBORw0KGgoAAAANSUhEUgAAANcAAAAaBAMAAADWJdTsAAAAMFBMVEX///8QEBCIiIhmZma6urrM\n",
       "zMxUVFQiIiJERETc3Nzu7u6qqqp2dnaYmJgyMjIAAAAcRTyBAAAAAXRSTlMAQObYZgAAAz9JREFU\n",
       "SMe9Vl9IU1Ec/rzb1d27XfUhIihkEFEvpTBYEVKLHoogHD2ITzWoYD1EK8GVFRmE3Zm121NGhTcK\n",
       "FB9qJIRC0MqHwiKWQRCRDXqIelFc2lqYnT/3bmfItIn5G9/O+Z1z7/nO7+8GLFGUlKDcWeThYQtp\n",
       "qnwqn6xfmKsdbJDT8556P3fYrwdQaYDhFV37Xj7ZN2FebfBhkjF/jUZPe+2tNYBjGiq5BkUPdUlH\n",
       "2Vxag6C848N4Lm/qeIBP5FnAmQGeg6HaBDyJssmqDEE5wxkGfxUcaxkukSVtCrgLBm10YOBG+V4U\n",
       "X1Ei3FjpR2HtIB9ctYSknZgU4Mjq+rnyydYLc4m7dJ97dl4Ya0KQ26jvGjiOArF/Of5mkXZVmLtY\n",
       "FagBeaqwZkXm0PGxy3SmpTl2szxZXI4VaWdJlkWpJEn82MFOKJnCvoNnSL0BdTUZ3RGOKki8Prl9\n",
       "ezMjYYO/bF+cqWqILMUb/ZYXVtnxIssV7OBmnz8ruJEPFykhuYs8yeFJVfH48vBqtfDUMg77vc8B\n",
       "tOh6mJ74FnhWiox81RXIHvNhhpJ5C2RKupmt3+PhdYTgzolk6k5meAUtfD/w1LTdmCdjbnQTnMxz\n",
       "ye35MsMJcg1nhAOxI2xjtJUXkBeOtEjm6WPJ9mSIfJ0CdhQnCCVjCXKLYMLmur/NyJeZnBUSBIOs\n",
       "TGSvzvYfBrHFFMkOuFh/iZHepk5DsjrbiH1ukOc0q7W4YbWrbqtLVJOA7Oqi/kpyoIY1skpsZftN\n",
       "mzeFIJKFHBHW0bQEnFNjndbqHiEziX/U+B8TQ3OtxQlcOTHjC19hrEEOaMyQj6hnD7wBNopkWkKi\n",
       "/dUTkILwpCFFSrarhaTPgpUGX17HGWk30JsQyB40vsyxVCa6Kwnld+lGvIBYjdguQhO91EyQw5oM\n",
       "gWw7lGkyPCIf1BBP2s1W7Dou0Uwas2i0rYjL/omxZD85KqV0QclBWSe40UkyjeZv7DYJb6+J68nS\n",
       "P56lhd6mcCNXFkr8vLwWLzK+cEAgi3eg52eq5VrbBhK3Cz7/pSX9LfhgoUjc4m3EDUcQyy7Dpcj6\n",
       "l58LqRJkLXW63on/KA5RSWPlxJlcQTLVXJZj/gKgUN0YFGFHLwAAAABJRU5ErkJggg==\n",
       "\" style=\"display:inline;vertical-align:middle;\" /></a><br>(see <a class=\"ProveItLink\" href=\"../__pv_it/d3cdadbc14cf288cba1018296737e5f07fb4cb740/dependencies.ipynb\">dependencies</a>)<br>"
      ],
      "text/plain": [
       "unfoldNotSupsetEq: forall_{A, B | A nsupseteq B} [not](A supseteq B)"
      ]
     },
     "execution_count": 2,
     "metadata": {},
     "output_type": "execute_result"
    }
   ],
   "source": [
    "%proving unfoldNotSupsetEq presuming []"
   ]
  },
  {
   "cell_type": "code",
   "execution_count": null,
   "metadata": {},
   "outputs": [],
   "source": []
  }
 ],
 "metadata": {
  "kernelspec": {
   "display_name": "Python 3",
   "language": "python",
   "name": "python3"
  }
 },
 "nbformat": 4,
 "nbformat_minor": 0
}
