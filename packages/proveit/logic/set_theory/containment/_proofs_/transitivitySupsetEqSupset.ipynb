{
 "cells": [
  {
   "cell_type": "markdown",
   "metadata": {},
   "source": [
    "Proof of <a class=\"ProveItLink\" href=\"../../../../_context_.ipynb\">proveit</a>.<a class=\"ProveItLink\" href=\"../../../_context_.ipynb\">logic</a>.<a class=\"ProveItLink\" href=\"../../_context_.ipynb\">set_theory</a>.<a class=\"ProveItLink\" href=\"../_context_.ipynb\">containment</a>.<a href=\"../_theorems_.ipynb#transitivitySupsetEqSupset\" class=\"ProveItLink\">transitivitySupsetEqSupset</a> theorem\n",
    "========"
   ]
  },
  {
   "cell_type": "code",
   "execution_count": 1,
   "metadata": {},
   "outputs": [],
   "source": [
    "import sys\n",
    "sys.path.append('..') # allows access to modules in parent context\n",
    "import proveit"
   ]
  },
  {
   "cell_type": "code",
   "execution_count": 2,
   "metadata": {},
   "outputs": [
    {
     "name": "stdout",
     "output_type": "stream",
     "text": [
      "Beginning proof of transitivitySupsetEqSupset\n",
      "Recorded 'presuming' information\n",
      "Presuming previous theorems (applied transitively).\n"
     ]
    },
    {
     "data": {
      "text/html": [
       "<strong id=\"transitivitySupsetEqSupset\">transitivitySupsetEqSupset:</strong> <a class=\"ProveItLink\" href=\"../__pv_it/436d5868709c3279ebd0d3a329efaabfa0c5fe490/expr.ipynb\"><img src=\"data:image/png;base64,iVBORw0KGgoAAAANSUhEUgAAAPcAAAAWBAMAAADuuhdHAAAAMFBMVEX///8QEBCIiIhmZma6urrM\n",
       "zMxUVFQiIiJERETc3Nzu7u6qqqp2dnaYmJgyMjIAAAAcRTyBAAAAAXRSTlMAQObYZgAAA3NJREFU\n",
       "SMe1Vl1IVEEU/rq7pvfuXvW9qO0pC0pjwUIst4KIIDQF81GwwILA8kGLxA1iuUqx21NCP94w0JZ+\n",
       "JF/ypTbDfizqVi9GVFZP+VJoktnvmTN7r3d3tYLWgZk5c+eb+c6cOefMBRaqnPvL/CDVMSG8yj63\n",
       "FuYuZ2yOqaKGA2picQx4KIbj2SfPj8nuU+bUCgu+dZZGanXRSA1nn/y57F7PZMz0HaGmIoYhUs0E\n",
       "/P3ZJz8sLTzwlfvdLS0tJ5Mzb4kRm4ELgD4Sj5/OPrfaxJ2ufHY+nf3AneebaGvo2CFg2jCOZp9c\n",
       "KeFuh+/H7Dd5xm5W6xLZmyB7gQ7+Ktvtk3capa/okXJFSF57cV7MlrzR8tJ0uCijDYlVSazFVg/l\n",
       "TMyS+1ihJ4HkUCeP2wqNw0GXBtIL4S9kw72Ddoz3sRe/CaHOMPjqngK3U+GinA+gLznIZTfyQp10\n",
       "mYPP3F5l60LDXCisZY80kKcePvbQbrqSUTe5VsE4nwiNUuCW6cC1YHAjbamS+noycBaFRFsbLJ12\n",
       "ke8TzXJeR00ORaHfyuWZkWapcgAetoRwhGo3ub9X3mMt1UPAJhc8Hr8YJDlBOwbc5NQsc5F38sn5\n",
       "BFWSXB2r5VQUMBhwrQprhW6KOH7cTV6dJ0+12IQ2BWU8BQ5vCYpJ0EyX2X1UD6abvUK4iF+sEMOO\n",
       "Pbwl1jOgck1RPa92Eo9NXu9Jhk8I3olnEaTAgWG0unjY4c5Q/eiKgARfp7DNSNLhMMB7vkQxIx4D\n",
       "K0VfkEgj1/sVmSqVKvjHoDSlwIEt+O4iF3HEsR6djYWb0s/ItwaEfTyCoUCoor1/FGWLnSDdhMnE\n",
       "BWqWi/xq+f0ZW5m8BFTOFQ6ccgh7yRU7GJugRX+auPGr2fbXbful0BNpYIfIF26vsxomujkGaM9K\n",
       "oawnLG/GIS+DOsXCddK3H16ZN224MN0GahOp6dUulF5bh9PyUK8j7aQdLbUT6gzUpfTcmGiD9sBF\n",
       "7iUrcDDWkEG7TZyiwztwUcLItXA5lvaw/KEMOfc6DTXalrME9yaDjWSUXf3wNwyZLvJoGF1frDoj\n",
       "QgfwtwdLj1OAOHAqXWS3u+WrkZkO53vw0196nyO53rm8edfbcM0wjLK5fybmLxnaDTrbxv6FfPB/\n",
       "fqNepH+wbEHH3OSU241IJnzhimfBdv4N8OHqnPSgEnMAAAAASUVORK5CYII=\n",
       "\" style=\"display:inline;vertical-align:middle;\" /></a><br>(see <a class=\"ProveItLink\" href=\"../__pv_it/436d5868709c3279ebd0d3a329efaabfa0c5fe490/dependencies.ipynb\">dependencies</a>)<br>"
      ],
      "text/plain": [
       "transitivitySupsetEqSupset: forall_{A, B, C | A supseteq B, B supset C} (A supset C)"
      ]
     },
     "execution_count": 2,
     "metadata": {},
     "output_type": "execute_result"
    }
   ],
   "source": [
    "%proving transitivitySupsetEqSupset presuming []"
   ]
  },
  {
   "cell_type": "code",
   "execution_count": null,
   "metadata": {},
   "outputs": [],
   "source": []
  }
 ],
 "metadata": {
  "kernelspec": {
   "display_name": "Python 3",
   "language": "python",
   "name": "python3"
  }
 },
 "nbformat": 4,
 "nbformat_minor": 0
}
