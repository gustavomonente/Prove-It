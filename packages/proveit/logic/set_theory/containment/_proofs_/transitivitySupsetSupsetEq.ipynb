{
 "cells": [
  {
   "cell_type": "markdown",
   "metadata": {},
   "source": [
    "Proof of <a class=\"ProveItLink\" href=\"../../../../_context_.ipynb\">proveit</a>.<a class=\"ProveItLink\" href=\"../../../_context_.ipynb\">logic</a>.<a class=\"ProveItLink\" href=\"../../_context_.ipynb\">set_theory</a>.<a class=\"ProveItLink\" href=\"../_context_.ipynb\">containment</a>.<a href=\"../_theorems_.ipynb#transitivitySupsetSupsetEq\" class=\"ProveItLink\">transitivitySupsetSupsetEq</a> theorem\n",
    "========"
   ]
  },
  {
   "cell_type": "code",
   "execution_count": 1,
   "metadata": {},
   "outputs": [],
   "source": [
    "import sys\n",
    "sys.path.append('..') # allows access to modules in parent context\n",
    "import proveit"
   ]
  },
  {
   "cell_type": "code",
   "execution_count": 2,
   "metadata": {},
   "outputs": [
    {
     "name": "stdout",
     "output_type": "stream",
     "text": [
      "Beginning proof of transitivitySupsetSupsetEq\n",
      "Recorded 'presuming' information\n",
      "Presuming previous theorems (applied transitively).\n"
     ]
    },
    {
     "data": {
      "text/html": [
       "<strong id=\"transitivitySupsetSupsetEq\">transitivitySupsetSupsetEq:</strong> <a class=\"ProveItLink\" href=\"../__pv_it/5bd94701001dc2614771eb1c89744487f9a6a72f0/expr.ipynb\"><img src=\"data:image/png;base64,iVBORw0KGgoAAAANSUhEUgAAAPcAAAAWBAMAAADuuhdHAAAAMFBMVEX///8QEBCIiIhmZma6urrM\n",
       "zMxUVFQiIiJERETc3Nzu7u6qqqp2dnaYmJgyMjIAAAAcRTyBAAAAAXRSTlMAQObYZgAAA3VJREFU\n",
       "SMe1Vl1IFFEU/tofdWZn1PeitofIgtJYsAhJQ4gIQjOw1wULTAosH7RI3KhklGK3p4R+nPBBW/oR\n",
       "fNGX2oz+LGr6AyMqq6d8KTTJLKtzz90ZZ1etiPXC3HN/zr3fud8959wBFqqc/8v8AH0jovE689hq\n",
       "hIV/ZI6pgpr9SiIrBjwQ3dHMg+fGpPg8e2q5hcA6SyWzOqinRDIP/kyKN1OzZnoOU1UawyCZZgJa\n",
       "b+bBD0mG+76x3NXY2HgqOfOOELEZuAjoQ/H4mcxjK/UsdM8XZ+jcRxbe76LeSccuAyYN40jmwT1F\n",
       "LLYFpmfG5Bk72axLxDep7AHaeFTWW8dv1Upf0VtLPKLlsxfnxOyWL1pSnK4uynBNYlVS12LWy/xj\n",
       "M+ABNuhxMNnVyePKoXI46JIgPR9aPhP3HupR3sde/LbM2ecJcHNG3W8YhgC7EERPvlTIZjfyQRl3\n",
       "0cFnbqm0baFuNjxsZZckyBtGgD20k6CG3eBqqYWuUOiFaBcDN8wU9X4yl8zXk4GziA2tDhVPusD3\n",
       "imoZr6PKT1GoWdk8M9QgTQ7Cy0wIR6hyg2vdRVDj8XJB3kFgU6q6P4zsBImgG5yqpS7wdj45n7pS\n",
       "gisj1bw4aLDCtUqsFbZ5xHnibvCqHHmqciJhAp7RFHWgDoXUUE0X7QH6DqTTXipcRBN3Irptu8VY\n",
       "FtazQsWagjCvdhKPDR72yvDRKuEbe9qKFHXgOZpcOOxwZ+n75IqABF+n4GYo6XDo4z1foZA1HgEr\n",
       "hcxLpIHrvR6ZKn1BaCPw1KeoAyvwwwUu4ohjPToTC9eln5Fv9Ql+vAIhT5iifngYZcZOkm2CMnGB\n",
       "quUCv1pyT6ZKJYGcBBTOFY46EGEvuWIHYz3U6E8T/b8abH/dUicbXa017BC5wu11NsNEJ8cA7Vkh\n",
       "jPVG5M044BuhTCQpQF4vfDJv2uoIBLGBRCI1vdqF0mvT7bQ81O20thMDltIOZQrKEnpuTDRDve8C\n",
       "9xEL03a/08RpOryjTv4aIrIsXI6lPSx/KIPOvU5CiTb7F+PueKiWSNnRC61m0HSBRyPo+CquQTkB\n",
       "rSVUfJwAbXVKMvsEbXdKVmN2OpzvwU9/6QNOy/XO5bifQ8M4Zs6hPu/PxPxllnUDzraxucHnUf+f\n",
       "36iX6QOW3dDxL+C2usjtRnhB/gS9C/aP+RunuOsU8/H3vwAAAABJRU5ErkJggg==\n",
       "\" style=\"display:inline;vertical-align:middle;\" /></a><br>(see <a class=\"ProveItLink\" href=\"../__pv_it/5bd94701001dc2614771eb1c89744487f9a6a72f0/dependencies.ipynb\">dependencies</a>)<br>"
      ],
      "text/plain": [
       "transitivitySupsetSupsetEq: forall_{A, B, C | A supset B, B supseteq C} (A supset C)"
      ]
     },
     "execution_count": 2,
     "metadata": {},
     "output_type": "execute_result"
    }
   ],
   "source": [
    "%proving transitivitySupsetSupsetEq presuming []"
   ]
  },
  {
   "cell_type": "code",
   "execution_count": null,
   "metadata": {},
   "outputs": [],
   "source": []
  }
 ],
 "metadata": {
  "kernelspec": {
   "display_name": "Python 3",
   "language": "python",
   "name": "python3"
  }
 },
 "nbformat": 4,
 "nbformat_minor": 0
}
