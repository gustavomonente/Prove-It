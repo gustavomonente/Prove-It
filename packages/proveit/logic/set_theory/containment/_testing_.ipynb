{
 "cells": [
  {
   "cell_type": "code",
   "execution_count": null,
   "metadata": {},
   "outputs": [],
   "source": [
    "import proveit\n",
    "from proveit import Axiom\n",
    "from proveit.logic import And, Equals, Forall, Implies, InSet, Not, Or, Booleans, TRUE, FALSE\n",
    "from proveit.logic import Intersect, NotProperSubset, NotSubset, NotSubsetEq, NotSuperset, NotSupersetEq\n",
    "from proveit.logic import ProperSubset, ProperSuperset, Subset, SubsetEq, SubsetProper, Superset, SupersetEq \n",
    "from proveit.number import zero, one, two, three, four, five, Exp, Integers, Naturals, NaturalsPos, Reals, RealsNeg, RealsPos\n",
    "from proveit.number.sets.real._theorems_ import intsInReals\n",
    "from proveit.logic.boolean.disjunction._theorems_ import orIfAny, orIfLeft, commutation\n",
    "from proveit.logic.set_theory import Set, SetEquiv\n",
    "from proveit.logic.set_theory.equivalence._theorems_ import setEquivReversal\n",
    "from proveit.logic.set_theory.containment._axioms_ import subsetEqDef, supersetEqDef, notSubsetEqDef, notSupersetEqDef\n",
    "from proveit.logic.set_theory.containment._axioms_ import notSubsetDef, notSupersetDef, subsetDef, supersetDef\n",
    "from proveit.logic.set_theory.containment._theorems_ import foldNotSubsetEq, foldSupsetEq, reverseProperSubset, reverseSubset\n",
    "from proveit._common_ import m, n, x, y, A, B, C, D, E, F, X, Y, AA"
   ]
  },
  {
   "cell_type": "code",
   "execution_count": null,
   "metadata": {},
   "outputs": [],
   "source": [
    "smallSet = Set(one, two, three, four)"
   ]
  },
  {
   "cell_type": "code",
   "execution_count": null,
   "metadata": {},
   "outputs": [],
   "source": [
    "smallerSet = Set(one, three)"
   ]
  },
  {
   "cell_type": "code",
   "execution_count": null,
   "metadata": {},
   "outputs": [],
   "source": [
    "subsetExample = SubsetEq(smallerSet, smallSet)"
   ]
  },
  {
   "cell_type": "code",
   "execution_count": null,
   "metadata": {},
   "outputs": [],
   "source": [
    "subsetEqDef"
   ]
  },
  {
   "cell_type": "code",
   "execution_count": null,
   "metadata": {},
   "outputs": [],
   "source": [
    "subsetEqDefSpec = subsetEqDef.specialize({A:smallerSet, B:smallSet})"
   ]
  },
  {
   "cell_type": "code",
   "execution_count": null,
   "metadata": {},
   "outputs": [],
   "source": [
    "tempRHS = subsetEqDefSpec.rhs"
   ]
  },
  {
   "cell_type": "code",
   "execution_count": null,
   "metadata": {},
   "outputs": [],
   "source": [
    "inSmallerSetDef = InSet(x, smallerSet).equivalence()"
   ]
  },
  {
   "cell_type": "code",
   "execution_count": null,
   "metadata": {},
   "outputs": [],
   "source": [
    "inSmallerSetDef.deriveRightViaEquivalence(assumptions=[inSmallerSetDef.lhs])"
   ]
  },
  {
   "cell_type": "code",
   "execution_count": null,
   "metadata": {},
   "outputs": [],
   "source": [
    "inSmallSetDef = InSet(x, smallSet).equivalence()"
   ]
  },
  {
   "cell_type": "code",
   "execution_count": null,
   "metadata": {},
   "outputs": [],
   "source": [
    "inSmallerSetDefRHS = inSmallerSetDef.rhs"
   ]
  },
  {
   "cell_type": "code",
   "execution_count": null,
   "metadata": {},
   "outputs": [],
   "source": [
    "inSmallSetDefRHS = inSmallSetDef.rhs"
   ]
  },
  {
   "cell_type": "code",
   "execution_count": null,
   "metadata": {},
   "outputs": [],
   "source": [
    "# concludeViaSomeKT = inSmallSetDefRHS.concludeViaSome(\n",
    "#     Or(inSmallSetDefRHS.operands[0], inSmallSetDefRHS.operands[2]),\n",
    "#     assumptions=[Or(inSmallSetDefRHS.operands[0], inSmallSetDefRHS.operands[2])]\n",
    "# )\n",
    "# concludeViaSomeKT"
   ]
  },
  {
   "cell_type": "code",
   "execution_count": null,
   "metadata": {},
   "outputs": [],
   "source": [
    "concludeViaSomeKT = inSmallSetDefRHS.concludeViaSome(\n",
    "    Or(inSmallSetDefRHS.operands[0], inSmallSetDefRHS.operands[2]),\n",
    "    assumptions=[inSmallerSetDef.lhs]\n",
    ")\n",
    "concludeViaSomeKT"
   ]
  },
  {
   "cell_type": "code",
   "execution_count": null,
   "metadata": {},
   "outputs": [],
   "source": [
    "subsetEqDefSpec"
   ]
  },
  {
   "cell_type": "code",
   "execution_count": null,
   "metadata": {},
   "outputs": [],
   "source": [
    "smallerSetSubetEqOfSmallSetKT = subsetEqDefSpec.deriveLeftViaEquivalence()"
   ]
  },
  {
   "cell_type": "code",
   "execution_count": null,
   "metadata": {},
   "outputs": [],
   "source": [
    "smallerSetSubetEqOfSmallSetKT.proof()"
   ]
  },
  {
   "cell_type": "code",
   "execution_count": null,
   "metadata": {},
   "outputs": [],
   "source": [
    "# concludeViaSomeKT.proof()"
   ]
  },
  {
   "cell_type": "markdown",
   "metadata": {},
   "source": [
    "<font size=4>So what next? My immediate thought was to do some sort of subLeftSideInto() using the InSet definitions above and subbing into the concludeViaSomeKT, but that process ignores the assumptions in the KT\n",
    "</font>"
   ]
  },
  {
   "cell_type": "markdown",
   "metadata": {},
   "source": [
    "<font size=4>Related misc junk below in no particular order.\n",
    "</font>"
   ]
  },
  {
   "cell_type": "code",
   "execution_count": null,
   "metadata": {},
   "outputs": [],
   "source": [
    "concludeViaSomeKT.innerExpr()"
   ]
  },
  {
   "cell_type": "code",
   "execution_count": null,
   "metadata": {},
   "outputs": [],
   "source": [
    "# subsetExample.prove()"
   ]
  },
  {
   "cell_type": "code",
   "execution_count": null,
   "metadata": {},
   "outputs": [],
   "source": [
    "concludeViaSomeKTAsImpl = concludeViaSomeKT.asImpl(hypothesis=concludeViaSomeKT.assumptions)"
   ]
  },
  {
   "cell_type": "code",
   "execution_count": null,
   "metadata": {},
   "outputs": [],
   "source": [
    "inSmallerSetDef.subLeftSideInto(concludeViaSomeKT, assumptions=concludeViaSomeKT.assumptions)"
   ]
  },
  {
   "cell_type": "code",
   "execution_count": null,
   "metadata": {},
   "outputs": [],
   "source": [
    "inSmallSetDefRHS.operands"
   ]
  },
  {
   "cell_type": "code",
   "execution_count": null,
   "metadata": {},
   "outputs": [],
   "source": [
    "inSmallerSetDefRHS.concludeViaExample(trueOperand=inSmallerSetDefRHS.operands[0], assumptions=[inSmallerSetDefRHS.operands[0]])"
   ]
  },
  {
   "cell_type": "code",
   "execution_count": null,
   "metadata": {},
   "outputs": [],
   "source": [
    "inSmallSetDefRHS.concludeViaExample(trueOperand=inSmallSetDefRHS.operands[0], assumptions=[inSmallSetDefRHS.operands[0]])"
   ]
  },
  {
   "cell_type": "code",
   "execution_count": null,
   "metadata": {},
   "outputs": [],
   "source": [
    "inSmallSetDefRHS.concludeViaExample(trueOperand=inSmallSetDefRHS.operands[1], assumptions=[inSmallSetDefRHS.operands[1]])"
   ]
  },
  {
   "cell_type": "code",
   "execution_count": null,
   "metadata": {},
   "outputs": [],
   "source": [
    "# here we use a non-Or instance as the argument and expect an error\n",
    "# InSmallSetDefRHS.concludeViaSome(Equals(InSmallSetDefRHS.operands[0], InSmallSetDefRHS.operands[2]))\n",
    "\n",
    "try:\n",
    "    inSmallSetDefRHS.concludeViaSome(Equals(inSmallSetDefRHS.operands[0], inSmallSetDefRHS.operands[2]))\n",
    "    assert False, \"Expecting a TypeError; should not make it to this point.\"\n",
    "except TypeError as e:\n",
    "    print(\"EXPECTED ERROR: \", e)"
   ]
  },
  {
   "cell_type": "code",
   "execution_count": null,
   "metadata": {},
   "outputs": [],
   "source": [
    "# here we include unexpected items in the disjunctive subset and expect an error\n",
    "try:\n",
    "    inSmallSetDefRHS.concludeViaSome(Or(inSmallSetDefRHS.operands[0], Equals(x, five)))\n",
    "    assert False, \"Expecting a ValueError; should not make it to this point.\"\n",
    "except ValueError as e:\n",
    "    print(\"EXPECTED ERROR:\", e)"
   ]
  },
  {
   "cell_type": "code",
   "execution_count": null,
   "metadata": {},
   "outputs": [],
   "source": [
    "inSmallSetDefRHS"
   ]
  },
  {
   "cell_type": "code",
   "execution_count": null,
   "metadata": {},
   "outputs": [],
   "source": [
    "commutation"
   ]
  },
  {
   "cell_type": "code",
   "execution_count": null,
   "metadata": {},
   "outputs": [],
   "source": [
    "commutation.specialize({A:Or(inSmallSetDefRHS.operands[0],inSmallSetDefRHS.operands[1]), B:inSmallSetDefRHS.operands[3]})"
   ]
  }
 ],
 "metadata": {
  "kernelspec": {
   "display_name": "Python 3",
   "language": "python",
   "name": "python3"
  }
 },
 "nbformat": 4,
 "nbformat_minor": 0
}
