{
 "cells": [
  {
   "cell_type": "markdown",
   "metadata": {},
   "source": [
    "Theorems for context <a href=\"_context_.ipynb\" class=\"ProveItLink\">proveit.logic.set_theory.containment</a>\n",
    "========"
   ]
  },
  {
   "cell_type": "code",
   "execution_count": null,
   "metadata": {},
   "outputs": [],
   "source": [
    "import proveit\n",
    "# Automation is not needed when building theorem expressions:\n",
    "proveit.defaults.automation = False # This will speed things up.\n",
    "from proveit.logic import And, Forall, Implies, inBool, InSet, Equals, Not, NotInSet\n",
    "from proveit.logic import NotProperSubset, NotSubset, NotSubsetEq, NotSuperset\n",
    "from proveit.logic import NotSupersetEq, NotProperSuperset, ProperSubset, ProperSuperset\n",
    "from proveit.logic import SetEquiv, Subset, SubsetEq, Superset, SupersetEq\n",
    "from proveit._common_ import A, B, C, x\n",
    "%begin theorems"
   ]
  },
  {
   "cell_type": "code",
   "execution_count": null,
   "metadata": {},
   "outputs": [],
   "source": [
    "# Proven\n",
    "unfoldSubsetEq = Forall((A, B), Forall(x, InSet(x, B), domain=A), conditions=SubsetEq(A, B))"
   ]
  },
  {
   "cell_type": "code",
   "execution_count": null,
   "metadata": {},
   "outputs": [],
   "source": [
    "unfoldSubsetEqContrapositive = Forall((A, B), Forall(x, NotInSet(x, A), conditions=NotInSet(x, B)), conditions=SubsetEq(A, B))"
   ]
  },
  {
   "cell_type": "code",
   "execution_count": null,
   "metadata": {},
   "outputs": [],
   "source": [
    "# Proven\n",
    "foldSubsetEq = Forall((A, B), Implies(Forall(x, InSet(x, B), domain=A), SubsetEq(A, B)))"
   ]
  },
  {
   "cell_type": "code",
   "execution_count": null,
   "metadata": {},
   "outputs": [],
   "source": [
    "supersetMembershipFromSubset = Forall((A, B), Forall(x, InSet(x, B), domain=A),\n",
    "                                      condition=Subset(A, B))"
   ]
  },
  {
   "cell_type": "code",
   "execution_count": null,
   "metadata": {},
   "outputs": [],
   "source": [
    "# Proven\n",
    "unfoldSupsetEq = Forall((A, B), Forall(x, InSet(x, A), domain=B), conditions=SupersetEq(A, B))"
   ]
  },
  {
   "cell_type": "code",
   "execution_count": null,
   "metadata": {},
   "outputs": [],
   "source": [
    "# Proven\n",
    "foldSupsetEq = Forall((A, B), Implies(Forall(x, InSet(x, A), domain=B), SupersetEq(A, B)))"
   ]
  },
  {
   "cell_type": "code",
   "execution_count": null,
   "metadata": {},
   "outputs": [],
   "source": [
    "supersetMembership = Forall((A, B), Forall(x, InSet(x, A), domain=B),\n",
    "                            condition=Superset(A, B))"
   ]
  },
  {
   "cell_type": "code",
   "execution_count": null,
   "metadata": {},
   "outputs": [],
   "source": [
    "# Proven\n",
    "unfoldNotSubsetEq = Forall((A, B), Not(SubsetEq(A, B)), conditions=[NotSubsetEq(A, B)])"
   ]
  },
  {
   "cell_type": "code",
   "execution_count": null,
   "metadata": {},
   "outputs": [],
   "source": [
    "# Proven\n",
    "foldNotSubsetEq = Forall((A, B), NotSubsetEq(A, B), conditions=[Not(SubsetEq(A, B))])"
   ]
  },
  {
   "cell_type": "code",
   "execution_count": null,
   "metadata": {},
   "outputs": [],
   "source": [
    "refinedNonmembership = Forall((A, B, x), NotInSet(x, B), \n",
    "                              conditions=[SupersetEq(A, B),\n",
    "                                         NotInSet(x, A)])"
   ]
  },
  {
   "cell_type": "code",
   "execution_count": null,
   "metadata": {},
   "outputs": [],
   "source": [
    "# Proven\n",
    "unfoldNotSupsetEq = Forall((A, B), Not(SupersetEq(A, B)), conditions=[NotSupersetEq(A, B)])"
   ]
  },
  {
   "cell_type": "code",
   "execution_count": null,
   "metadata": {},
   "outputs": [],
   "source": [
    "# Proven\n",
    "foldNotSupsetEq = Forall((A, B), NotSupersetEq(A, B), conditions=[Not(SupersetEq(A, B))])"
   ]
  },
  {
   "cell_type": "code",
   "execution_count": null,
   "metadata": {},
   "outputs": [],
   "source": [
    "# Proven\n",
    "unfoldSubset = Forall((A, B), And(SubsetEq(A, B), NotSubsetEq(B, A)), conditions=[Subset(A, B)])"
   ]
  },
  {
   "cell_type": "code",
   "execution_count": null,
   "metadata": {},
   "outputs": [],
   "source": [
    "# Proven\n",
    "foldSubset = Forall((A, B), Subset(A, B), conditions=[And(SubsetEq(A, B), NotSubsetEq(B, A))])"
   ]
  },
  {
   "cell_type": "code",
   "execution_count": null,
   "metadata": {},
   "outputs": [],
   "source": [
    "# Proven\n",
    "unfoldProperSubset = Forall((A, B), And(SubsetEq(A, B), NotSubsetEq(B, A)), conditions=[ProperSubset(A, B)])"
   ]
  },
  {
   "cell_type": "code",
   "execution_count": null,
   "metadata": {},
   "outputs": [],
   "source": [
    "# Proven\n",
    "foldProperSubset = Forall((A, B), ProperSubset(A, B), conditions=[And(SubsetEq(A, B), NotSubsetEq(B, A))])"
   ]
  },
  {
   "cell_type": "code",
   "execution_count": null,
   "metadata": {},
   "outputs": [],
   "source": [
    "# Proven\n",
    "unfoldNotSubset = Forall((A, B), Not(Subset(A, B)), conditions=[NotSubset(A, B)])"
   ]
  },
  {
   "cell_type": "code",
   "execution_count": null,
   "metadata": {},
   "outputs": [],
   "source": [
    "# Proven\n",
    "foldNotSubset = Forall((A, B), NotSubset(A, B), conditions=[Not(Subset(A, B))])"
   ]
  },
  {
   "cell_type": "code",
   "execution_count": null,
   "metadata": {},
   "outputs": [],
   "source": [
    "# Proven\n",
    "unfoldNotProperSubset = Forall((A, B), Not(ProperSubset(A, B)), conditions=[NotProperSubset(A, B)])"
   ]
  },
  {
   "cell_type": "code",
   "execution_count": null,
   "metadata": {},
   "outputs": [],
   "source": [
    "# Proven\n",
    "foldNotProperSubset = Forall((A, B), NotProperSubset(A, B), conditions=[Not(ProperSubset(A, B))])"
   ]
  },
  {
   "cell_type": "code",
   "execution_count": null,
   "metadata": {},
   "outputs": [],
   "source": [
    "# Proven\n",
    "unfoldSupset = Forall((A, B), And(SupersetEq(A, B), NotSupersetEq(B, A)), conditions=[Superset(A, B)])"
   ]
  },
  {
   "cell_type": "code",
   "execution_count": null,
   "metadata": {},
   "outputs": [],
   "source": [
    "# Proven\n",
    "foldSupset = Forall((A, B), Superset(A, B), conditions=[And(SupersetEq(A, B), NotSupersetEq(B, A))])"
   ]
  },
  {
   "cell_type": "code",
   "execution_count": null,
   "metadata": {},
   "outputs": [],
   "source": [
    "# Proven\n",
    "unfoldNotSupset = Forall((A, B), Not(Superset(A, B)), conditions=[NotSuperset(A, B)])"
   ]
  },
  {
   "cell_type": "code",
   "execution_count": null,
   "metadata": {},
   "outputs": [],
   "source": [
    "# Proven\n",
    "foldNotSupset = Forall((A, B), NotSuperset(A, B), conditions=[Not(Superset(A, B))])"
   ]
  },
  {
   "cell_type": "code",
   "execution_count": null,
   "metadata": {},
   "outputs": [],
   "source": [
    "unfoldNotProperSupset = Forall((A, B), Not(ProperSuperset(A, B)), conditions=[NotProperSuperset(A, B)])"
   ]
  },
  {
   "cell_type": "code",
   "execution_count": null,
   "metadata": {},
   "outputs": [],
   "source": [
    "foldNotProperSupset = Forall((A, B), NotProperSuperset(A, B), conditions=[Not(ProperSuperset(A, B))])"
   ]
  },
  {
   "cell_type": "code",
   "execution_count": null,
   "metadata": {},
   "outputs": [],
   "source": [
    "# Proven\n",
    "subsetEqReflexive = Forall(A, SubsetEq(A, A))"
   ]
  },
  {
   "cell_type": "code",
   "execution_count": null,
   "metadata": {},
   "outputs": [],
   "source": [
    "# Proven\n",
    "supsetEqReflexive = Forall(A, SupersetEq(A, A))"
   ]
  },
  {
   "cell_type": "code",
   "execution_count": null,
   "metadata": {},
   "outputs": [],
   "source": [
    "# Proven\n",
    "reverseSubsetEq = Forall((A, B), SupersetEq(B, A), conditions=[SubsetEq(A, B)])"
   ]
  },
  {
   "cell_type": "code",
   "execution_count": null,
   "metadata": {},
   "outputs": [],
   "source": [
    "# Proven\n",
    "reverseSupsetEq = Forall((A, B), SubsetEq(B, A), conditions=[SupersetEq(A, B)])"
   ]
  },
  {
   "cell_type": "code",
   "execution_count": null,
   "metadata": {},
   "outputs": [],
   "source": [
    "# Proven\n",
    "reverseSubset = Forall((A, B), Superset(B, A), conditions=[Subset(A, B)])"
   ]
  },
  {
   "cell_type": "code",
   "execution_count": null,
   "metadata": {},
   "outputs": [],
   "source": [
    "# NOT Proven\n",
    "reverseProperSubset = Forall((A, B), Superset(B, A), conditions=[ProperSubset(A, B)])"
   ]
  },
  {
   "cell_type": "code",
   "execution_count": null,
   "metadata": {},
   "outputs": [],
   "source": [
    "reverseSupset = Forall((A, B), Subset(B, A), conditions=[Superset(A, B)])"
   ]
  },
  {
   "cell_type": "code",
   "execution_count": null,
   "metadata": {},
   "outputs": [],
   "source": [
    "reverseProperSuperset = Forall((A, B), ProperSubset(B, A), conditions=[ProperSuperset(A, B)])"
   ]
  },
  {
   "cell_type": "code",
   "execution_count": null,
   "metadata": {},
   "outputs": [],
   "source": [
    "# Proven\n",
    "relaxSubset = Forall((A, B), SubsetEq(A, B), conditions=[Subset(A, B)])"
   ]
  },
  {
   "cell_type": "code",
   "execution_count": null,
   "metadata": {},
   "outputs": [],
   "source": [
    "# Proven\n",
    "relaxProperSubset = Forall((A, B), SubsetEq(A, B), conditions=[ProperSubset(A, B)])"
   ]
  },
  {
   "cell_type": "code",
   "execution_count": null,
   "metadata": {},
   "outputs": [],
   "source": [
    "# Proven\n",
    "relaxSupset = Forall((A, B), SupersetEq(A, B), conditions=[Superset(A, B)])"
   ]
  },
  {
   "cell_type": "code",
   "execution_count": null,
   "metadata": {},
   "outputs": [],
   "source": [
    "# Proven\n",
    "relaxProperSuperset = Forall((A, B), SupersetEq(A, B), conditions=[ProperSuperset(A, B)])"
   ]
  },
  {
   "cell_type": "code",
   "execution_count": null,
   "metadata": {},
   "outputs": [],
   "source": [
    "# Proven (using subRightSideInto thm)\n",
    "subsetEqViaEquality = Forall((A, B), SubsetEq(A, B), conditions=[Equals(A, B)])"
   ]
  },
  {
   "cell_type": "code",
   "execution_count": null,
   "metadata": {},
   "outputs": [],
   "source": [
    "# Proven (using subRightSideInto thm)\n",
    "supersetEqViaEquality = Forall((A, B), SupersetEq(A, B), conditions=[Equals(A, B)])"
   ]
  },
  {
   "cell_type": "markdown",
   "metadata": {},
   "source": [
    "### Transitivity Theorems"
   ]
  },
  {
   "cell_type": "code",
   "execution_count": null,
   "metadata": {},
   "outputs": [],
   "source": [
    "# working\n",
    "transitivitySubsetSubset = Forall((A, B, C), Subset(A, C), conditions=[Subset(A, B), Subset(B, C)])"
   ]
  },
  {
   "cell_type": "code",
   "execution_count": null,
   "metadata": {},
   "outputs": [],
   "source": [
    "transitivitySubsetEqSubset = Forall((A, B, C), Subset(A, C), conditions=[SubsetEq(A, B), Subset(B, C)])"
   ]
  },
  {
   "cell_type": "code",
   "execution_count": null,
   "metadata": {},
   "outputs": [],
   "source": [
    "transitivitySubsetSubsetEq = Forall((A, B, C), Subset(A, C), conditions=[Subset(A, B), SubsetEq(B, C)])"
   ]
  },
  {
   "cell_type": "code",
   "execution_count": null,
   "metadata": {},
   "outputs": [],
   "source": [
    "# Proven\n",
    "transitivitySubsetEqSubsetEq = Forall((A, B, C), SubsetEq(A, C), conditions=[SubsetEq(A, B), SubsetEq(B, C)])"
   ]
  },
  {
   "cell_type": "code",
   "execution_count": null,
   "metadata": {},
   "outputs": [],
   "source": [
    "# Proven\n",
    "transitivitySubsetEqual = Forall(\n",
    "        (A, B, C),\n",
    "        ProperSubset(A, C),\n",
    "        conditions=[ProperSubset(A, B), Equals(B, C)])"
   ]
  },
  {
   "cell_type": "code",
   "execution_count": null,
   "metadata": {},
   "outputs": [],
   "source": [
    "# Proven\n",
    "transitivitySubsetEqEqual = Forall(\n",
    "        (A, B, C),\n",
    "        SubsetEq(A, C),\n",
    "        conditions=[SubsetEq(A, B), Equals(B, C)])"
   ]
  },
  {
   "cell_type": "code",
   "execution_count": null,
   "metadata": {},
   "outputs": [],
   "source": [
    "transitivitySupsetSupset = Forall((A, B, C), Superset(A, C), conditions=[Superset(A, B), Superset(B, C)])"
   ]
  },
  {
   "cell_type": "code",
   "execution_count": null,
   "metadata": {},
   "outputs": [],
   "source": [
    "transitivitySupsetEqSupset = Forall((A, B, C), Superset(A, C), conditions=[SupersetEq(A, B), Superset(B, C)])"
   ]
  },
  {
   "cell_type": "code",
   "execution_count": null,
   "metadata": {},
   "outputs": [],
   "source": [
    "transitivitySupsetSupsetEq = Forall((A, B, C), Superset(A, C), conditions=[Superset(A, B), SupersetEq(B, C)])"
   ]
  },
  {
   "cell_type": "code",
   "execution_count": null,
   "metadata": {},
   "outputs": [],
   "source": [
    "# Proven\n",
    "transitivitySupsetEqSupsetEq = Forall((A, B, C), SupersetEq(A, C), conditions=[SupersetEq(A, B), SupersetEq(B, C)])"
   ]
  },
  {
   "cell_type": "markdown",
   "metadata": {},
   "source": [
    "### Misc Identities."
   ]
  },
  {
   "cell_type": "markdown",
   "metadata": {},
   "source": [
    "### Theorems establishing containment claims as being Boolean (i.e. T or F)."
   ]
  },
  {
   "cell_type": "code",
   "execution_count": null,
   "metadata": {},
   "outputs": [],
   "source": [
    "subsetInBool = Forall((A, B), inBool(Subset(A, B)))"
   ]
  },
  {
   "cell_type": "code",
   "execution_count": null,
   "metadata": {},
   "outputs": [],
   "source": [
    "properSubsetInBool = Forall((A, B), inBool(ProperSubset(A, B)))"
   ]
  },
  {
   "cell_type": "code",
   "execution_count": null,
   "metadata": {},
   "outputs": [],
   "source": [
    "subsetEqInBool = Forall((A, B), inBool(SubsetEq(A, B)))"
   ]
  },
  {
   "cell_type": "code",
   "execution_count": null,
   "metadata": {},
   "outputs": [],
   "source": [
    "supsetInBool = Forall((A, B), inBool(Superset(A, B)))"
   ]
  },
  {
   "cell_type": "code",
   "execution_count": null,
   "metadata": {},
   "outputs": [],
   "source": [
    "properSupsetInBool = Forall((A, B), inBool(ProperSuperset(A, B)))"
   ]
  },
  {
   "cell_type": "code",
   "execution_count": null,
   "metadata": {},
   "outputs": [],
   "source": [
    "supsetEqInBool = Forall((A, B), inBool(SupersetEq(A, B)))"
   ]
  },
  {
   "cell_type": "code",
   "execution_count": null,
   "metadata": {},
   "outputs": [],
   "source": [
    "notSubsetInBool = Forall((A, B), inBool(NotSubset(A, B)))"
   ]
  },
  {
   "cell_type": "code",
   "execution_count": null,
   "metadata": {},
   "outputs": [],
   "source": [
    "notProperSubsetInBool = Forall((A, B), inBool(NotProperSubset(A, B)))"
   ]
  },
  {
   "cell_type": "code",
   "execution_count": null,
   "metadata": {},
   "outputs": [],
   "source": [
    "notSubsetEqInBool = Forall((A, B), inBool(NotSubsetEq(A, B)))"
   ]
  },
  {
   "cell_type": "code",
   "execution_count": null,
   "metadata": {},
   "outputs": [],
   "source": [
    "notSupsetInBool = Forall((A, B), inBool(NotSuperset(A, B)))"
   ]
  },
  {
   "cell_type": "code",
   "execution_count": null,
   "metadata": {},
   "outputs": [],
   "source": [
    "notProperSupsetInBool = Forall((A, B), inBool(NotProperSuperset(A, B)))"
   ]
  },
  {
   "cell_type": "code",
   "execution_count": null,
   "metadata": {},
   "outputs": [],
   "source": [
    "notSupsetEqInBool = Forall((A, B), inBool(NotSupersetEq(A, B)))"
   ]
  },
  {
   "cell_type": "markdown",
   "metadata": {},
   "source": [
    "### Theorems establishing equality claims (requiring Boolean elements)."
   ]
  },
  {
   "cell_type": "code",
   "execution_count": null,
   "metadata": {},
   "outputs": [],
   "source": [
    "# Proven\n",
    "subsetEqEqualsSupersetEq = Forall(\n",
    "    (A, B), Equals(SubsetEq(A, B), SupersetEq(B, A)))"
   ]
  },
  {
   "cell_type": "markdown",
   "metadata": {},
   "source": [
    "### Some Basic Reversal Theorems Utilizing the Equality Theorem(s)"
   ]
  },
  {
   "cell_type": "code",
   "execution_count": null,
   "metadata": {},
   "outputs": [],
   "source": [
    "# Proven\n",
    "reverseNotSubsetEq = Forall((A, B), NotSupersetEq(B, A), conditions=[NotSubsetEq(A, B)])"
   ]
  },
  {
   "cell_type": "code",
   "execution_count": null,
   "metadata": {},
   "outputs": [],
   "source": [
    "%end theorems"
   ]
  },
  {
   "cell_type": "code",
   "execution_count": null,
   "metadata": {},
   "outputs": [],
   "source": []
  }
 ],
 "metadata": {
  "kernelspec": {
   "display_name": "Python 3",
   "language": "python",
   "name": "python3"
  }
 },
 "nbformat": 4,
 "nbformat_minor": 0
}
