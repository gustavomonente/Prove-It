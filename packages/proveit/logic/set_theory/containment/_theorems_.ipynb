{
 "cells": [
  {
   "cell_type": "markdown",
   "metadata": {},
   "source": [
    "Theorems for context <a href=\"_context_.ipynb\" class=\"ProveItLink\">proveit.logic.set_theory.containment</a>\n",
    "========"
   ]
  },
  {
   "cell_type": "code",
   "execution_count": null,
   "metadata": {},
   "outputs": [],
   "source": [
    "from proveit.logic import And, Forall, Implies, InSet, Equals, Not\n",
    "from proveit.logic import NotProperSubset, NotSubset, NotSubsetEq, NotSuperset, NotSupersetEq\n",
    "from proveit.logic import ProperSubset, Subset, SubsetEq, Superset, SupersetEq\n",
    "from proveit._common_ import A, B, C, x\n",
    "%begin theorems"
   ]
  },
  {
   "cell_type": "code",
   "execution_count": null,
   "metadata": {},
   "outputs": [],
   "source": [
    "# Proven\n",
    "unfoldSubsetEq = Forall((A, B), Forall(x, InSet(x, B), A), conditions=SubsetEq(A, B))"
   ]
  },
  {
   "cell_type": "code",
   "execution_count": null,
   "metadata": {},
   "outputs": [],
   "source": [
    "# Proven\n",
    "foldSubsetEq = Forall((A, B), Implies(Forall(x, InSet(x, B), A), SubsetEq(A, B)))"
   ]
  },
  {
   "cell_type": "code",
   "execution_count": null,
   "metadata": {},
   "outputs": [],
   "source": [
    "# Proven\n",
    "unfoldSupsetEq = Forall((A, B), Forall(x, InSet(x, A), B), conditions=SupersetEq(A, B))"
   ]
  },
  {
   "cell_type": "code",
   "execution_count": null,
   "metadata": {},
   "outputs": [],
   "source": [
    "# Proven\n",
    "foldSupsetEq = Forall((A, B), Implies(Forall(x, InSet(x, A), B), SupersetEq(A, B)))"
   ]
  },
  {
   "cell_type": "code",
   "execution_count": null,
   "metadata": {},
   "outputs": [],
   "source": [
    "# Proven\n",
    "unfoldNotSubsetEq = Forall((A, B), Not(SubsetEq(A, B)), conditions=[NotSubsetEq(A, B)])"
   ]
  },
  {
   "cell_type": "code",
   "execution_count": null,
   "metadata": {},
   "outputs": [],
   "source": [
    "# Proven\n",
    "foldNotSubsetEq = Forall((A, B), NotSubsetEq(A, B), conditions=[Not(SubsetEq(A, B))])"
   ]
  },
  {
   "cell_type": "code",
   "execution_count": null,
   "metadata": {},
   "outputs": [],
   "source": [
    "# Proven\n",
    "unfoldNotSupsetEq = Forall((A, B), Not(SupersetEq(A, B)), conditions=[NotSupersetEq(A, B)])"
   ]
  },
  {
   "cell_type": "code",
   "execution_count": null,
   "metadata": {},
   "outputs": [],
   "source": [
    "# Proven\n",
    "foldNotSupsetEq = Forall((A, B), NotSupersetEq(A, B), conditions=[Not(SupersetEq(A, B))])"
   ]
  },
  {
   "cell_type": "code",
   "execution_count": null,
   "metadata": {},
   "outputs": [],
   "source": [
    "# Proven\n",
    "unfoldSubset = Forall((A, B), And(SubsetEq(A, B), NotSubsetEq(B, A)), conditions=[Subset(A, B)])"
   ]
  },
  {
   "cell_type": "code",
   "execution_count": null,
   "metadata": {},
   "outputs": [],
   "source": [
    "# Proven\n",
    "foldSubset = Forall((A, B), Subset(A, B), conditions=[And(SubsetEq(A, B), NotSubsetEq(B, A))])"
   ]
  },
  {
   "cell_type": "code",
   "execution_count": null,
   "metadata": {},
   "outputs": [],
   "source": [
    "# Proven\n",
    "unfoldProperSubset = Forall((A, B), And(SubsetEq(A, B), NotSubsetEq(B, A)), conditions=[ProperSubset(A, B)])"
   ]
  },
  {
   "cell_type": "code",
   "execution_count": null,
   "metadata": {},
   "outputs": [],
   "source": [
    "# Proven\n",
    "foldProperSubset = Forall((A, B), ProperSubset(A, B), conditions=[And(SubsetEq(A, B), NotSubsetEq(B, A))])"
   ]
  },
  {
   "cell_type": "code",
   "execution_count": null,
   "metadata": {},
   "outputs": [],
   "source": [
    "# Proven\n",
    "unfoldNotSubset = Forall((A, B), Not(Subset(A, B)), conditions=[NotSubset(A, B)])"
   ]
  },
  {
   "cell_type": "code",
   "execution_count": null,
   "metadata": {},
   "outputs": [],
   "source": [
    "# Proven\n",
    "foldNotSubset = Forall((A, B), NotSubset(A, B), conditions=[Not(Subset(A, B))])"
   ]
  },
  {
   "cell_type": "code",
   "execution_count": null,
   "metadata": {},
   "outputs": [],
   "source": [
    "# Proven\n",
    "unfoldNotProperSubset = Forall((A, B), Not(ProperSubset(A, B)), conditions=[NotProperSubset(A, B)])"
   ]
  },
  {
   "cell_type": "code",
   "execution_count": null,
   "metadata": {},
   "outputs": [],
   "source": [
    "# Proven\n",
    "foldNotProperSubset = Forall((A, B), NotProperSubset(A, B), conditions=[Not(ProperSubset(A, B))])"
   ]
  },
  {
   "cell_type": "code",
   "execution_count": null,
   "metadata": {},
   "outputs": [],
   "source": [
    "# Proven\n",
    "unfoldSupset = Forall((A, B), And(SupersetEq(A, B), NotSupersetEq(B, A)), conditions=[Superset(A, B)])"
   ]
  },
  {
   "cell_type": "code",
   "execution_count": null,
   "metadata": {},
   "outputs": [],
   "source": [
    "# Proven\n",
    "foldSupset = Forall((A, B), Superset(A, B), conditions=[And(SupersetEq(A, B), NotSupersetEq(B, A))])"
   ]
  },
  {
   "cell_type": "code",
   "execution_count": null,
   "metadata": {},
   "outputs": [],
   "source": [
    "# Proven\n",
    "unfoldNotSupset = Forall((A, B), Not(Superset(A, B)), conditions=[NotSuperset(A, B)])"
   ]
  },
  {
   "cell_type": "code",
   "execution_count": null,
   "metadata": {},
   "outputs": [],
   "source": [
    "# Proven\n",
    "foldNotSupset = Forall((A, B), NotSuperset(A, B), conditions=[Not(Superset(A, B))])"
   ]
  },
  {
   "cell_type": "code",
   "execution_count": null,
   "metadata": {},
   "outputs": [],
   "source": [
    "# Proven\n",
    "subsetEqReflexive = Forall(A, SubsetEq(A, A))"
   ]
  },
  {
   "cell_type": "code",
   "execution_count": null,
   "metadata": {},
   "outputs": [],
   "source": [
    "# Proven\n",
    "supsetEqReflexive = Forall(A, SupersetEq(A, A))"
   ]
  },
  {
   "cell_type": "code",
   "execution_count": null,
   "metadata": {},
   "outputs": [],
   "source": [
    "# Proven\n",
    "reverseSubsetEq = Forall((A, B), SupersetEq(B, A), conditions=[SubsetEq(A, B)])"
   ]
  },
  {
   "cell_type": "code",
   "execution_count": null,
   "metadata": {},
   "outputs": [],
   "source": [
    "# Proven\n",
    "reverseSupsetEq = Forall((A, B), SubsetEq(B, A), conditions=[SupersetEq(A, B)])"
   ]
  },
  {
   "cell_type": "code",
   "execution_count": null,
   "metadata": {},
   "outputs": [],
   "source": [
    "# Working\n",
    "reverseSubset = Forall((A, B), Superset(B, A), conditions=[Subset(A, B)])"
   ]
  },
  {
   "cell_type": "code",
   "execution_count": null,
   "metadata": {},
   "outputs": [],
   "source": [
    "# NOT Proven\n",
    "reverseProperSubset = Forall((A, B), Superset(B, A), conditions=[ProperSubset(A, B)])"
   ]
  },
  {
   "cell_type": "code",
   "execution_count": null,
   "metadata": {},
   "outputs": [],
   "source": [
    "reverseSupset = Forall((A, B), Subset(B, A), conditions=[Superset(A, B)])"
   ]
  },
  {
   "cell_type": "code",
   "execution_count": null,
   "metadata": {},
   "outputs": [],
   "source": [
    "# Working\n",
    "reverseNotSubsetEq = Forall((A, B), NotSupersetEq(B, A), conditions=[NotSubsetEq(A, B)])"
   ]
  },
  {
   "cell_type": "code",
   "execution_count": null,
   "metadata": {},
   "outputs": [],
   "source": [
    "# Proven\n",
    "relaxSubset = Forall((A, B), SubsetEq(A, B), conditions=[Subset(A, B)])"
   ]
  },
  {
   "cell_type": "code",
   "execution_count": null,
   "metadata": {},
   "outputs": [],
   "source": [
    "# Proven\n",
    "relaxProperSubset = Forall((A, B), SubsetEq(A, B), conditions=[ProperSubset(A, B)])"
   ]
  },
  {
   "cell_type": "code",
   "execution_count": null,
   "metadata": {},
   "outputs": [],
   "source": [
    "# Proven\n",
    "relaxSupset = Forall((A, B), SupersetEq(A, B), conditions=[Superset(A, B)])"
   ]
  },
  {
   "cell_type": "code",
   "execution_count": null,
   "metadata": {},
   "outputs": [],
   "source": [
    "# Proven (using subRightSideInto thm)\n",
    "subsetEqViaEquality = Forall((A, B), SubsetEq(A, B), conditions=[Equals(A, B)])"
   ]
  },
  {
   "cell_type": "code",
   "execution_count": null,
   "metadata": {},
   "outputs": [],
   "source": [
    "# Proven (using subRightSideInto thm)\n",
    "supersetEqViaEquality = Forall((A, B), SupersetEq(A, B), conditions=[Equals(A, B)])"
   ]
  },
  {
   "cell_type": "code",
   "execution_count": null,
   "metadata": {},
   "outputs": [],
   "source": [
    "transitivitySubsetSubset = Forall((A, B, C), Subset(A, C), conditions=[Subset(A, B), Subset(B, C)])"
   ]
  },
  {
   "cell_type": "code",
   "execution_count": null,
   "metadata": {},
   "outputs": [],
   "source": [
    "transitivitySubsetEqSubset = Forall((A, B, C), Subset(A, C), conditions=[SubsetEq(A, B), Subset(B, C)])"
   ]
  },
  {
   "cell_type": "code",
   "execution_count": null,
   "metadata": {},
   "outputs": [],
   "source": [
    "transitivitySubsetSubsetEq = Forall((A, B, C), Subset(A, C), conditions=[Subset(A, B), SubsetEq(B, C)])"
   ]
  },
  {
   "cell_type": "code",
   "execution_count": null,
   "metadata": {},
   "outputs": [],
   "source": [
    "# Proven\n",
    "transitivitySubsetEqSubsetEq = Forall((A, B, C), SubsetEq(A, C), conditions=[SubsetEq(A, B), SubsetEq(B, C)])"
   ]
  },
  {
   "cell_type": "code",
   "execution_count": null,
   "metadata": {},
   "outputs": [],
   "source": [
    "transitivitySupsetSupset = Forall((A, B, C), Superset(A, C), conditions=[Superset(A, B), Superset(B, C)])"
   ]
  },
  {
   "cell_type": "code",
   "execution_count": null,
   "metadata": {},
   "outputs": [],
   "source": [
    "transitivitySupsetEqSupset = Forall((A, B, C), Superset(A, C), conditions=[SupersetEq(A, B), Superset(B, C)])"
   ]
  },
  {
   "cell_type": "code",
   "execution_count": null,
   "metadata": {},
   "outputs": [],
   "source": [
    "transitivitySupsetSupsetEq = Forall((A, B, C), Superset(A, C), conditions=[Superset(A, B), SupersetEq(B, C)])"
   ]
  },
  {
   "cell_type": "code",
   "execution_count": null,
   "metadata": {},
   "outputs": [],
   "source": [
    "# Proven\n",
    "transitivitySupsetEqSupsetEq = Forall((A, B, C), SupersetEq(A, C), conditions=[SupersetEq(A, B), SupersetEq(B, C)])"
   ]
  },
  {
   "cell_type": "code",
   "execution_count": null,
   "metadata": {},
   "outputs": [],
   "source": [
    "%end theorems"
   ]
  },
  {
   "cell_type": "code",
   "execution_count": null,
   "metadata": {},
   "outputs": [],
   "source": []
  }
 ],
 "metadata": {
  "kernelspec": {
   "display_name": "Python 3",
   "language": "python",
   "name": "python3"
  }
 },
 "nbformat": 4,
 "nbformat_minor": 0
}
