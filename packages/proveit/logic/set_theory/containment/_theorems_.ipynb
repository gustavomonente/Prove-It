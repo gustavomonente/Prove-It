{
 "cells": [
  {
   "cell_type": "markdown",
   "metadata": {},
   "source": [
    "Theorems for context <a href=\"_context_.ipynb\" class=\"ProveItLink\">proveit.logic.set_theory.containment</a>\n",
    "========"
   ]
  },
  {
   "cell_type": "code",
   "execution_count": null,
   "metadata": {},
   "outputs": [],
   "source": [
    "from proveit.logic import And, Forall, Implies, InSet, Equals, Not\n",
    "from proveit.logic import NotSubset, SubsetEq, SupersetEq, Subset, Superset, NotSubsetEq, NotSupersetEq\n",
    "from proveit._common_ import A, B, C, x\n",
    "%begin theorems"
   ]
  },
  {
   "cell_type": "code",
   "execution_count": null,
   "metadata": {},
   "outputs": [],
   "source": [
    "# Proven\n",
    "unfoldSubsetEq = Forall((A, B), Forall(x, InSet(x, B), A), conditions=SubsetEq(A, B))"
   ]
  },
  {
   "cell_type": "code",
   "execution_count": null,
   "metadata": {},
   "outputs": [],
   "source": [
    "# Proven\n",
    "foldSubsetEq = Forall((A, B), Implies(Forall(x, InSet(x, B), A), SubsetEq(A, B)))"
   ]
  },
  {
   "cell_type": "code",
   "execution_count": null,
   "metadata": {},
   "outputs": [],
   "source": [
    "# Proven\n",
    "unfoldSupsetEq = Forall((A, B), Forall(x, InSet(x, A), B), conditions=SupersetEq(A, B))"
   ]
  },
  {
   "cell_type": "code",
   "execution_count": null,
   "metadata": {},
   "outputs": [],
   "source": [
    "# Proven\n",
    "foldSupsetEq = Forall((A, B), Implies(Forall(x, InSet(x, A), B), SupersetEq(A, B)))"
   ]
  },
  {
   "cell_type": "code",
   "execution_count": null,
   "metadata": {},
   "outputs": [],
   "source": [
    "# Proven\n",
    "unfoldNotSubsetEq = Forall((A, B), Not(SubsetEq(A, B)), conditions=[NotSubsetEq(A, B)])"
   ]
  },
  {
   "cell_type": "code",
   "execution_count": null,
   "metadata": {},
   "outputs": [],
   "source": [
    "# Proven\n",
    "foldNotSubsetEq = Forall((A, B), NotSubsetEq(A, B), conditions=[Not(SubsetEq(A, B))])"
   ]
  },
  {
   "cell_type": "code",
   "execution_count": null,
   "metadata": {},
   "outputs": [],
   "source": [
    "# Proven\n",
    "unfoldNotSupsetEq = Forall((A, B), Not(SupersetEq(A, B)), conditions=[NotSupersetEq(A, B)])"
   ]
  },
  {
   "cell_type": "code",
   "execution_count": null,
   "metadata": {},
   "outputs": [],
   "source": [
    "# Proven\n",
    "foldNotSupsetEq = Forall((A, B), NotSupersetEq(A, B), conditions=[Not(SupersetEq(A, B))])"
   ]
  },
  {
   "cell_type": "code",
   "execution_count": null,
   "metadata": {},
   "outputs": [],
   "source": [
    "# Proven\n",
    "unfoldSubset = Forall((A, B), And(SubsetEq(A, B), NotSupersetEq(A, B)), conditions=[Subset(A, B)])"
   ]
  },
  {
   "cell_type": "code",
   "execution_count": null,
   "metadata": {},
   "outputs": [],
   "source": [
    "# Proven\n",
    "foldSubset = Forall((A, B), Subset(A, B), conditions=[And(SubsetEq(A, B), NotSupersetEq(A, B))])"
   ]
  },
  {
   "cell_type": "code",
   "execution_count": null,
   "metadata": {},
   "outputs": [],
   "source": [
    "# Proven\n",
    "unfoldNotSubset = Forall((A, B), Not(Subset(A, B)), conditions=[NotSubset(A, B)])"
   ]
  },
  {
   "cell_type": "code",
   "execution_count": null,
   "metadata": {},
   "outputs": [],
   "source": [
    "# Proven\n",
    "foldNotSubset = Forall((A, B), NotSubset(A, B), conditions=[Not(Subset(A, B))])"
   ]
  },
  {
   "cell_type": "code",
   "execution_count": null,
   "metadata": {},
<<<<<<< HEAD
   "outputs": [],
=======
   "outputs": [
    {
     "data": {
      "text/html": [
       "<strong id=\"subsetEqReflexive\"><a class=\"ProveItLink\" href=\"_proofs_/subsetEqReflexive.ipynb\">subsetEqReflexive</a>:</strong> <a class=\"ProveItLink\" href=\"__pv_it/cb223e1be08dcaa5ce8509f4ccff859841dbdafc0/expr.ipynb\"><img src=\"__pv_it/cb223e1be08dcaa5ce8509f4ccff859841dbdafc0/expr.png\" style=\"display:inline;vertical-align:middle;\" /></a><br>"
      ],
      "text/plain": [
       "subsetEqReflexive: forall_{A} (A subseteq A)"
      ]
     },
     "execution_count": 14,
     "metadata": {},
     "output_type": "execute_result"
    }
   ],
   "source": [
    "# Proven\n",
    "subsetEqReflexive = Forall(A, SubsetEq(A, A))"
   ]
  },
  {
   "cell_type": "code",
   "execution_count": 15,
   "metadata": {},
   "outputs": [
    {
     "data": {
      "text/html": [
       "<strong id=\"reverseSubsetEq\"><a class=\"ProveItLink\" href=\"_proofs_/reverseSubsetEq.ipynb\">reverseSubsetEq</a>:</strong> <a class=\"ProveItLink\" href=\"__pv_it/da8efcc990cf5a8cf65232cae2c4b1bb312c73220/expr.ipynb\"><img src=\"__pv_it/da8efcc990cf5a8cf65232cae2c4b1bb312c73220/expr.png\" style=\"display:inline;vertical-align:middle;\" /></a><br>"
      ],
      "text/plain": [
       "reverseSubsetEq: forall_{A, B | A subseteq B} (B supseteq A)"
      ]
     },
     "execution_count": 15,
     "metadata": {},
     "output_type": "execute_result"
    }
   ],
>>>>>>> Add subsetEq reflexivity thm and minor edits
   "source": [
    "# Proven\n",
    "reverseSubsetEq = Forall((A, B), SupersetEq(B, A), conditions=[SubsetEq(A, B)])"
   ]
  },
  {
   "cell_type": "code",
<<<<<<< HEAD
   "execution_count": null,
   "metadata": {},
   "outputs": [],
=======
   "execution_count": 16,
   "metadata": {},
   "outputs": [
    {
     "data": {
      "text/html": [
       "<strong id=\"reverseSupsetEq\"><a class=\"ProveItLink\" href=\"_proofs_/reverseSupsetEq.ipynb\">reverseSupsetEq</a>:</strong> <a class=\"ProveItLink\" href=\"__pv_it/f10bde15d7d7dbeb2ab62b63041280a77686d7da0/expr.ipynb\"><img src=\"__pv_it/f10bde15d7d7dbeb2ab62b63041280a77686d7da0/expr.png\" style=\"display:inline;vertical-align:middle;\" /></a><br>"
      ],
      "text/plain": [
       "reverseSupsetEq: forall_{A, B | A supseteq B} (B subseteq A)"
      ]
     },
     "execution_count": 16,
     "metadata": {},
     "output_type": "execute_result"
    }
   ],
>>>>>>> Add subsetEq reflexivity thm and minor edits
   "source": [
    "# Proven\n",
    "reverseSupsetEq = Forall((A, B), SubsetEq(B, A), conditions=[SupersetEq(A, B)])"
   ]
  },
  {
   "cell_type": "code",
<<<<<<< HEAD
   "execution_count": null,
   "metadata": {},
   "outputs": [],
=======
   "execution_count": 17,
   "metadata": {},
   "outputs": [
    {
     "data": {
      "text/html": [
       "<strong id=\"reverseSubset\"><a class=\"ProveItLink\" href=\"_proofs_/reverseSubset.ipynb\">reverseSubset</a>:</strong> <a class=\"ProveItLink\" href=\"__pv_it/23771b20144f26b63e076ac079725d8c62318fc10/expr.ipynb\"><img src=\"__pv_it/23771b20144f26b63e076ac079725d8c62318fc10/expr.png\" style=\"display:inline;vertical-align:middle;\" /></a><br>"
      ],
      "text/plain": [
       "reverseSubset: forall_{A, B | A subset B} (B supset A)"
      ]
     },
     "execution_count": 17,
     "metadata": {},
     "output_type": "execute_result"
    }
   ],
>>>>>>> Add subsetEq reflexivity thm and minor edits
   "source": [
    "# Working\n",
    "reverseSubset = Forall((A, B), Superset(B, A), conditions=[Subset(A, B)])"
   ]
  },
  {
   "cell_type": "code",
<<<<<<< HEAD
   "execution_count": null,
   "metadata": {},
   "outputs": [],
=======
   "execution_count": 18,
   "metadata": {},
   "outputs": [
    {
     "data": {
      "text/html": [
       "<strong id=\"reverseSupset\"><a class=\"ProveItLink\" href=\"_proofs_/reverseSupset.ipynb\">reverseSupset</a>:</strong> <a class=\"ProveItLink\" href=\"__pv_it/a1e154ec8d58b9e0ab3f4e9132b85758f621f2f80/expr.ipynb\"><img src=\"__pv_it/a1e154ec8d58b9e0ab3f4e9132b85758f621f2f80/expr.png\" style=\"display:inline;vertical-align:middle;\" /></a><br>"
      ],
      "text/plain": [
       "reverseSupset: forall_{A, B | A supset B} (B subset A)"
      ]
     },
     "execution_count": 18,
     "metadata": {},
     "output_type": "execute_result"
    }
   ],
>>>>>>> Add subsetEq reflexivity thm and minor edits
   "source": [
    "reverseSupset = Forall((A, B), Subset(B, A), conditions=[Superset(A, B)])"
   ]
  },
  {
   "cell_type": "code",
<<<<<<< HEAD
   "execution_count": null,
   "metadata": {},
   "outputs": [],
=======
   "execution_count": 19,
   "metadata": {},
   "outputs": [
    {
     "data": {
      "text/html": [
       "<strong id=\"reverseNotSubsetEq\"><a class=\"ProveItLink\" href=\"_proofs_/reverseNotSubsetEq.ipynb\">reverseNotSubsetEq</a>:</strong> <a class=\"ProveItLink\" href=\"__pv_it/d98ca8e0965b149e6ed381a5115ad6fbbd9de8240/expr.ipynb\"><img src=\"__pv_it/d98ca8e0965b149e6ed381a5115ad6fbbd9de8240/expr.png\" style=\"display:inline;vertical-align:middle;\" /></a><br>"
      ],
      "text/plain": [
       "reverseNotSubsetEq: forall_{A, B | A nsubseteq B} (B nsupseteq A)"
      ]
     },
     "execution_count": 19,
     "metadata": {},
     "output_type": "execute_result"
    }
   ],
>>>>>>> Add subsetEq reflexivity thm and minor edits
   "source": [
    "# Working\n",
    "reverseNotSubsetEq = Forall((A, B), NotSupersetEq(B, A), conditions=[NotSubsetEq(A, B)])"
   ]
  },
  {
   "cell_type": "code",
<<<<<<< HEAD
   "execution_count": null,
   "metadata": {},
   "outputs": [],
=======
   "execution_count": 20,
   "metadata": {},
   "outputs": [
    {
     "data": {
      "text/html": [
       "<strong id=\"relaxSubset\"><a class=\"ProveItLink\" href=\"_proofs_/relaxSubset.ipynb\">relaxSubset</a>:</strong> <a class=\"ProveItLink\" href=\"__pv_it/78b7406e408fd68af78a9404c6e26456e1ea7e6b0/expr.ipynb\"><img src=\"__pv_it/78b7406e408fd68af78a9404c6e26456e1ea7e6b0/expr.png\" style=\"display:inline;vertical-align:middle;\" /></a><br>"
      ],
      "text/plain": [
       "relaxSubset: forall_{A, B | A subset B} (A subseteq B)"
      ]
     },
     "execution_count": 20,
     "metadata": {},
     "output_type": "execute_result"
    }
   ],
>>>>>>> Add subsetEq reflexivity thm and minor edits
   "source": [
    "# Proven\n",
    "relaxSubset = Forall((A, B), SubsetEq(A, B), conditions=[Subset(A, B)])"
   ]
  },
  {
   "cell_type": "code",
<<<<<<< HEAD
   "execution_count": null,
   "metadata": {},
   "outputs": [],
=======
   "execution_count": 21,
   "metadata": {},
   "outputs": [
    {
     "data": {
      "text/html": [
       "<strong id=\"relaxSupset\"><a class=\"ProveItLink\" href=\"_proofs_/relaxSupset.ipynb\">relaxSupset</a>:</strong> <a class=\"ProveItLink\" href=\"__pv_it/7b0a54a454f1c17c32a1a6bd2a13b1e7f73548e20/expr.ipynb\"><img src=\"__pv_it/7b0a54a454f1c17c32a1a6bd2a13b1e7f73548e20/expr.png\" style=\"display:inline;vertical-align:middle;\" /></a><br>"
      ],
      "text/plain": [
       "relaxSupset: forall_{A, B | A supset B} (A supseteq B)"
      ]
     },
     "execution_count": 21,
     "metadata": {},
     "output_type": "execute_result"
    }
   ],
>>>>>>> Add subsetEq reflexivity thm and minor edits
   "source": [
    "# Proven\n",
    "relaxSupset = Forall((A, B), SupersetEq(A, B), conditions=[Superset(A, B)])"
   ]
  },
  {
   "cell_type": "code",
<<<<<<< HEAD
   "execution_count": null,
   "metadata": {},
   "outputs": [],
=======
   "execution_count": 22,
   "metadata": {},
   "outputs": [
    {
     "data": {
      "text/html": [
       "<strong id=\"subsetEqViaEquality\"><a class=\"ProveItLink\" href=\"_proofs_/subsetEqViaEquality.ipynb\">subsetEqViaEquality</a>:</strong> <a class=\"ProveItLink\" href=\"__pv_it/85ce5b750bf48471050989082e43bdf86f11c1240/expr.ipynb\"><img src=\"__pv_it/85ce5b750bf48471050989082e43bdf86f11c1240/expr.png\" style=\"display:inline;vertical-align:middle;\" /></a><br>"
      ],
      "text/plain": [
       "subsetEqViaEquality: forall_{A, B | A = B} (A subseteq B)"
      ]
     },
     "execution_count": 22,
     "metadata": {},
     "output_type": "execute_result"
    }
   ],
>>>>>>> Add subsetEq reflexivity thm and minor edits
   "source": [
    "# Working: Do we need a definition for equality of sets?\n",
    "subsetEqViaEquality = Forall((A, B), SubsetEq(A, B), conditions=[Equals(A, B)])"
   ]
  },
  {
   "cell_type": "code",
<<<<<<< HEAD
   "execution_count": null,
   "metadata": {},
   "outputs": [],
=======
   "execution_count": 23,
   "metadata": {},
   "outputs": [
    {
     "data": {
      "text/html": [
       "<strong id=\"supersetEqViaEquality\"><a class=\"ProveItLink\" href=\"_proofs_/supersetEqViaEquality.ipynb\">supersetEqViaEquality</a>:</strong> <a class=\"ProveItLink\" href=\"__pv_it/59d64ed776f7e9197c8e4835bc05e29d528511910/expr.ipynb\"><img src=\"__pv_it/59d64ed776f7e9197c8e4835bc05e29d528511910/expr.png\" style=\"display:inline;vertical-align:middle;\" /></a><br>"
      ],
      "text/plain": [
       "supersetEqViaEquality: forall_{A, B | A = B} (A supseteq B)"
      ]
     },
     "execution_count": 23,
     "metadata": {},
     "output_type": "execute_result"
    }
   ],
>>>>>>> Add subsetEq reflexivity thm and minor edits
   "source": [
    "supersetEqViaEquality = Forall((A, B), SupersetEq(A, B), conditions=[Equals(A, B)])"
   ]
  },
  {
   "cell_type": "code",
<<<<<<< HEAD
   "execution_count": null,
   "metadata": {},
   "outputs": [],
=======
   "execution_count": 24,
   "metadata": {},
   "outputs": [
    {
     "data": {
      "text/html": [
       "<strong id=\"transitivitySubsetSubset\"><a class=\"ProveItLink\" href=\"_proofs_/transitivitySubsetSubset.ipynb\">transitivitySubsetSubset</a>:</strong> <a class=\"ProveItLink\" href=\"__pv_it/5e44fd2514814720a57964c7cfe577dd790b6d0a0/expr.ipynb\"><img src=\"__pv_it/5e44fd2514814720a57964c7cfe577dd790b6d0a0/expr.png\" style=\"display:inline;vertical-align:middle;\" /></a><br>"
      ],
      "text/plain": [
       "transitivitySubsetSubset: forall_{A, B, C | A subset B , B subset C} (A subset C)"
      ]
     },
     "execution_count": 24,
     "metadata": {},
     "output_type": "execute_result"
    }
   ],
>>>>>>> Add subsetEq reflexivity thm and minor edits
   "source": [
    "transitivitySubsetSubset = Forall((A, B, C), Subset(A, C), conditions=[Subset(A, B), Subset(B, C)])"
   ]
  },
  {
   "cell_type": "code",
<<<<<<< HEAD
   "execution_count": null,
   "metadata": {},
   "outputs": [],
=======
   "execution_count": 25,
   "metadata": {},
   "outputs": [
    {
     "data": {
      "text/html": [
       "<strong id=\"transitivitySubsetEqSubset\"><a class=\"ProveItLink\" href=\"_proofs_/transitivitySubsetEqSubset.ipynb\">transitivitySubsetEqSubset</a>:</strong> <a class=\"ProveItLink\" href=\"__pv_it/ba18f607d218a359136a2cafefd193c9265625740/expr.ipynb\"><img src=\"__pv_it/ba18f607d218a359136a2cafefd193c9265625740/expr.png\" style=\"display:inline;vertical-align:middle;\" /></a><br>"
      ],
      "text/plain": [
       "transitivitySubsetEqSubset: forall_{A, B, C | A subseteq B , B subset C} (A subset C)"
      ]
     },
     "execution_count": 25,
     "metadata": {},
     "output_type": "execute_result"
    }
   ],
>>>>>>> Add subsetEq reflexivity thm and minor edits
   "source": [
    "transitivitySubsetEqSubset = Forall((A, B, C), Subset(A, C), conditions=[SubsetEq(A, B), Subset(B, C)])"
   ]
  },
  {
   "cell_type": "code",
<<<<<<< HEAD
   "execution_count": null,
   "metadata": {},
   "outputs": [],
=======
   "execution_count": 26,
   "metadata": {},
   "outputs": [
    {
     "data": {
      "text/html": [
       "<strong id=\"transitivitySubsetSubsetEq\"><a class=\"ProveItLink\" href=\"_proofs_/transitivitySubsetSubsetEq.ipynb\">transitivitySubsetSubsetEq</a>:</strong> <a class=\"ProveItLink\" href=\"__pv_it/718226a35d34e0166d653a1451553c5e6a61d3ae0/expr.ipynb\"><img src=\"__pv_it/718226a35d34e0166d653a1451553c5e6a61d3ae0/expr.png\" style=\"display:inline;vertical-align:middle;\" /></a><br>"
      ],
      "text/plain": [
       "transitivitySubsetSubsetEq: forall_{A, B, C | A subset B , B subseteq C} (A subset C)"
      ]
     },
     "execution_count": 26,
     "metadata": {},
     "output_type": "execute_result"
    }
   ],
>>>>>>> Add subsetEq reflexivity thm and minor edits
   "source": [
    "transitivitySubsetSubsetEq = Forall((A, B, C), Subset(A, C), conditions=[Subset(A, B), SubsetEq(B, C)])"
   ]
  },
  {
   "cell_type": "code",
<<<<<<< HEAD
   "execution_count": null,
   "metadata": {},
   "outputs": [],
=======
   "execution_count": 27,
   "metadata": {},
   "outputs": [
    {
     "data": {
      "text/html": [
       "<strong id=\"transitivitySubsetEqSubsetEq\"><a class=\"ProveItLink\" href=\"_proofs_/transitivitySubsetEqSubsetEq.ipynb\">transitivitySubsetEqSubsetEq</a>:</strong> <a class=\"ProveItLink\" href=\"__pv_it/2c62b664f1a586238b989bab35cc1522f33c3a9a0/expr.ipynb\"><img src=\"__pv_it/2c62b664f1a586238b989bab35cc1522f33c3a9a0/expr.png\" style=\"display:inline;vertical-align:middle;\" /></a><br>"
      ],
      "text/plain": [
       "transitivitySubsetEqSubsetEq: forall_{A, B, C | A subseteq B , B subseteq C} (A subseteq C)"
      ]
     },
     "execution_count": 27,
     "metadata": {},
     "output_type": "execute_result"
    }
   ],
>>>>>>> Add subsetEq reflexivity thm and minor edits
   "source": [
    "transitivitySubsetEqSubsetEq = Forall((A, B, C), SubsetEq(A, C), conditions=[SubsetEq(A, B), SubsetEq(B, C)])"
   ]
  },
  {
   "cell_type": "code",
<<<<<<< HEAD
   "execution_count": null,
   "metadata": {},
   "outputs": [],
=======
   "execution_count": 28,
   "metadata": {},
   "outputs": [
    {
     "data": {
      "text/html": [
       "<strong id=\"transitivitySupsetSupset\"><a class=\"ProveItLink\" href=\"_proofs_/transitivitySupsetSupset.ipynb\">transitivitySupsetSupset</a>:</strong> <a class=\"ProveItLink\" href=\"__pv_it/7a38046a011e4bc20dcee8fc91521a098d6321660/expr.ipynb\"><img src=\"__pv_it/7a38046a011e4bc20dcee8fc91521a098d6321660/expr.png\" style=\"display:inline;vertical-align:middle;\" /></a><br>"
      ],
      "text/plain": [
       "transitivitySupsetSupset: forall_{A, B, C | A supset B , B supset C} (A supset C)"
      ]
     },
     "execution_count": 28,
     "metadata": {},
     "output_type": "execute_result"
    }
   ],
>>>>>>> Add subsetEq reflexivity thm and minor edits
   "source": [
    "transitivitySupsetSupset = Forall((A, B, C), Superset(A, C), conditions=[Superset(A, B), Superset(B, C)])"
   ]
  },
  {
   "cell_type": "code",
<<<<<<< HEAD
   "execution_count": null,
   "metadata": {},
   "outputs": [],
=======
   "execution_count": 29,
   "metadata": {},
   "outputs": [
    {
     "data": {
      "text/html": [
       "<strong id=\"transitivitySupsetEqSupset\"><a class=\"ProveItLink\" href=\"_proofs_/transitivitySupsetEqSupset.ipynb\">transitivitySupsetEqSupset</a>:</strong> <a class=\"ProveItLink\" href=\"__pv_it/fe3bb44b2e03c7d30a33f9b3153dcb1166c725510/expr.ipynb\"><img src=\"__pv_it/fe3bb44b2e03c7d30a33f9b3153dcb1166c725510/expr.png\" style=\"display:inline;vertical-align:middle;\" /></a><br>"
      ],
      "text/plain": [
       "transitivitySupsetEqSupset: forall_{A, B, C | A supseteq B , B supset C} (A supset C)"
      ]
     },
     "execution_count": 29,
     "metadata": {},
     "output_type": "execute_result"
    }
   ],
>>>>>>> Add subsetEq reflexivity thm and minor edits
   "source": [
    "transitivitySupsetEqSupset = Forall((A, B, C), Superset(A, C), conditions=[SupersetEq(A, B), Superset(B, C)])"
   ]
  },
  {
   "cell_type": "code",
<<<<<<< HEAD
   "execution_count": null,
   "metadata": {},
   "outputs": [],
=======
   "execution_count": 30,
   "metadata": {},
   "outputs": [
    {
     "data": {
      "text/html": [
       "<strong id=\"transitivitySupsetSupsetEq\"><a class=\"ProveItLink\" href=\"_proofs_/transitivitySupsetSupsetEq.ipynb\">transitivitySupsetSupsetEq</a>:</strong> <a class=\"ProveItLink\" href=\"__pv_it/0ca6cf63d33c604d457c5503d16ff0d0a26a20430/expr.ipynb\"><img src=\"__pv_it/0ca6cf63d33c604d457c5503d16ff0d0a26a20430/expr.png\" style=\"display:inline;vertical-align:middle;\" /></a><br>"
      ],
      "text/plain": [
       "transitivitySupsetSupsetEq: forall_{A, B, C | A supset B , B supseteq C} (A supset C)"
      ]
     },
     "execution_count": 30,
     "metadata": {},
     "output_type": "execute_result"
    }
   ],
>>>>>>> Add subsetEq reflexivity thm and minor edits
   "source": [
    "transitivitySupsetSupsetEq = Forall((A, B, C), Superset(A, C), conditions=[Superset(A, B), SupersetEq(B, C)])"
   ]
  },
  {
   "cell_type": "code",
<<<<<<< HEAD
   "execution_count": null,
   "metadata": {},
   "outputs": [],
=======
   "execution_count": 31,
   "metadata": {},
   "outputs": [
    {
     "data": {
      "text/html": [
       "<strong id=\"transitivitySupsetEqSupsetEq\"><a class=\"ProveItLink\" href=\"_proofs_/transitivitySupsetEqSupsetEq.ipynb\">transitivitySupsetEqSupsetEq</a>:</strong> <a class=\"ProveItLink\" href=\"__pv_it/8f5169e31ee7024647dc460126f4d7f890359e950/expr.ipynb\"><img src=\"__pv_it/8f5169e31ee7024647dc460126f4d7f890359e950/expr.png\" style=\"display:inline;vertical-align:middle;\" /></a><br>"
      ],
      "text/plain": [
       "transitivitySupsetEqSupsetEq: forall_{A, B, C | A supseteq B , B supseteq C} (A supset C)"
      ]
     },
     "execution_count": 31,
     "metadata": {},
     "output_type": "execute_result"
    }
   ],
>>>>>>> Add subsetEq reflexivity thm and minor edits
   "source": [
    "transitivitySupsetEqSupsetEq = Forall((A, B, C), Superset(A, C), conditions=[SupersetEq(A, B), SupersetEq(B, C)])"
   ]
  },
  {
   "cell_type": "code",
<<<<<<< HEAD
   "execution_count": null,
   "metadata": {},
   "outputs": [],
=======
   "execution_count": 32,
   "metadata": {},
   "outputs": [
    {
     "name": "stdout",
     "output_type": "stream",
     "text": [
      "Adding theorem subsetEqReflexive to proveit.logic.set_theory.containment context\n",
      "subsetEqReflexive expression notebook is being updated\n",
      "Theorems may be imported from autogenerated _theorems_.py\n"
     ]
    }
   ],
>>>>>>> Add subsetEq reflexivity thm and minor edits
   "source": [
    "%end theorems"
   ]
  },
  {
   "cell_type": "code",
   "execution_count": null,
   "metadata": {},
   "outputs": [],
   "source": []
  }
 ],
 "metadata": {
  "kernelspec": {
   "display_name": "Python 3",
   "language": "python",
   "name": "python3"
  }
 },
 "nbformat": 4,
 "nbformat_minor": 0
}
