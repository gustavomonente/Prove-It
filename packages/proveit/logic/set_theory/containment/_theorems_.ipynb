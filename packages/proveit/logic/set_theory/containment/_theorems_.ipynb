{
 "cells": [
  {
   "cell_type": "markdown",
   "metadata": {},
   "source": [
    "Theorems for context <a href=\"_context_.ipynb\" class=\"ProveItLink\">proveit.logic.set_theory.containment</a>\n",
    "========"
   ]
  },
  {
   "cell_type": "code",
   "execution_count": 1,
   "metadata": {},
   "outputs": [
    {
     "name": "stdout",
     "output_type": "stream",
     "text": [
      "Defining theorems for context 'proveit.logic.set_theory.containment'\n",
      "Subsequent end-of-cell assignments will define theorems\n",
      "'%end theorems' will finalize the definitions\n"
     ]
    }
   ],
   "source": [
    "import proveit\n",
    "# Automation is not needed when building theorem expressions:\n",
    "proveit.defaults.automation = False # This will speed things up.\n",
    "from proveit.logic import Forall, Implies, InSet, NotInSet, Equals, Not\n",
    "from proveit.logic import SubsetEq, SupersetEq, Subset, Superset, NotSubsetEq, NotSupersetEq\n",
    "from proveit._common_ import A, B, C, x\n",
    "%begin theorems"
   ]
  },
  {
   "cell_type": "code",
   "execution_count": 2,
   "metadata": {},
   "outputs": [
    {
     "data": {
      "text/html": [
       "<strong id=\"unfoldSubsetEq\"><a class=\"ProveItLink\" href=\"_proofs_/unfoldSubsetEq.ipynb\">unfoldSubsetEq</a>:</strong> <a class=\"ProveItLink\" href=\"__pv_it/50809a187bf396541dec7084ad3e3605c6a1b8c80/expr.ipynb\"><img src=\"data:image/png;base64,iVBORw0KGgoAAAANSUhEUgAAAPcAAAAWBAMAAADuuhdHAAAAMFBMVEX///8QEBCIiIhmZma6urrM\n",
       "zMxUVFQiIiJERETc3Nzu7u6qqqp2dnaYmJgyMjIAAAAcRTyBAAAAAXRSTlMAQObYZgAAA4FJREFU\n",
       "SMe9lk1oE0EUx/8m2TS7SZqeRNBDsAdLsRooVJSqsV4UKo09iDeDWqgHMahYv42idtsqiRctgnZF\n",
       "sFhLDXhSD8YWsbZ+xAp+iwseCj3U0BqtlaLzsclOQ1JtRN9hd2bem/d7M/Pe7AIFimU0MLPBpZmU\n",
       "twH3sB86bX+YPdzlL6YvdyKPXgnnHH75c1uV6oc9Sj1gkA6NFAJ3xcirWMujL47mHp8HWFNQdAZv\n",
       "JwNyuBA4m9WeT/8i97A0BdjGgV4Gp6GzNcwazvZrMJ/+wLTe66YmnafKd3JUY8AV5sE90NV1AQXB\n",
       "33d1XQ/lUcvTFJvL0y1HCQEfJKfipx4woaqHC4N7VLU5nq8YfCTnFu6o6WXJZ+aUJwhpH91sH4M3\n",
       "AC1snD/Xjfc1slyxZYLNpI4tUl3VYsLtAUGXZesgVdCNV96jtGM3rbbsHGqmh+zWGXwtSz3S/cK0\n",
       "7hK4Stj0tP1HYtStqqdJ8zlw34TbfOjJWjC1ZVJECAN4pq2f5gpYGoUyl7ydIQYvgoXV6tUpprUG\n",
       "4ZwUZyirE5BO8XYVcE/LwBFCRdrpjb6Vhi2XOUStQeWdjaNEeMIdpwGQwKQk8+BKFLHhgT08ZC+s\n",
       "ugh3dfoy7d3AKnPleIJ0WrnbLmqGrQkHxnhHqMevFO7NwGV9EytALw/zZgBLNBFe7wjjrrEJKVhG\n",
       "BPhlKUgapfUN5Owytua2Q0oZkUwrc+wiU21829GynSUFljF1XUVZECI8aA1huZFwY0OnhWyH4zx5\n",
       "lNv1vfyS5rZmwt2xJMFqzOrNFAEpc2nCTDjcYhPeYSlTPwUWiXB3jLh4ZAB1WEIC3EnjDRQnoPhM\n",
       "W0Ptg+2HIynzHDiUuXRJLq9ppfHEOdxD41I+PY6w3T4DdMQEeE91/yRqjOXEIf8Q4PxMPVFI+1X1\n",
       "hGFrbFIIytbyUuOLde0kT1P756+VjW0sigD34KYKq4YO9o0kzuuiAnwF5FS6fD0x2L6L8LesdBFA\n",
       "0LTNeb3WNhvXa1o6DQ9MNhDXCbkV8iTkBcK228i+TUE5y+gdGs7FRTi9R5NPEccD03bmD0taegW4\n",
       "YwJy5Ig0Hw/HKxv9AjwSRvu3BJz95JJxHausOoksuLKzdrEGR8y0zb4Xc37tdXHlXJziTfnbu12U\n",
       "Mnrmf/AzIYSWDb/953DL0b/5jXpDHAxnwRN54O0qEfxHsf57xC8BVPer1lKnkwAAAABJRU5ErkJg\n",
       "gg==\n",
       "\" style=\"display:inline;vertical-align:middle;\" /></a><br>"
      ],
      "text/plain": [
       "unfoldSubsetEq: forall_{A, B | A subseteq B} [forall_{x in A} (x in B)]"
      ]
     },
     "execution_count": 2,
     "metadata": {},
     "output_type": "execute_result"
    }
   ],
   "source": [
    "unfoldSubsetEq = Forall((A, B), Forall(x, InSet(x, B), domain=A), \n",
    "                        condition=SubsetEq(A, B))"
   ]
  },
  {
   "cell_type": "code",
   "execution_count": 3,
   "metadata": {},
   "outputs": [
    {
     "data": {
      "text/html": [
       "<strong id=\"foldSubsetEq\"><a class=\"ProveItLink\" href=\"_proofs_/foldSubsetEq.ipynb\">foldSubsetEq</a>:</strong> <a class=\"ProveItLink\" href=\"__pv_it/b6202614d31546f9f0d98d31adfd14622e712f8f0/expr.ipynb\"><img src=\"data:image/png;base64,iVBORw0KGgoAAAANSUhEUgAAAToAAAAVBAMAAAAk4T84AAAAMFBMVEX///8QEBCIiIhmZma6urrM\n",
       "zMxUVFQiIiJERETc3Nzu7u6qqqp2dnaYmJgyMjIAAAAcRTyBAAAAAXRSTlMAQObYZgAABDpJREFU\n",
       "SMfNVm+IVFUU/zn/dt6b92b3W0IRQ35oWTIHFhTCdLAPWVg7+cH6EOxSCmuQjqiM4p8mEXZWhZlP\n",
       "21KkTwKtLWrBD/35EItLqKvZwEL53xGLMGEbXF03xezec++bd+/Me2PZFw+c99697/zOPfecc889\n",
       "QCv6GKGpLB4g0oK+BezfM/8VxShRFlzlg4v+MmYBVibJv+wKAkX8yF4/092/GzG2gJUJREWrQUCs\n",
       "BfFJPveH/9LJMtNtjfIvB4EivjSHrb80a1b9rZOoZE2Of87n85tVIL5kn4yH2cvwdwAmuW76ORwU\n",
       "gsmA+V7m7J40jvpbJ1GX7oj3/hNNQCsFztwr5B4f2kq6uWNPBlm3VRudyedlsBYw71xO4aBmXbys\n",
       "ocwjf4nhNUWFBJod4GxPjIx84L+ykSPdF0ZGPsshWMSjN7rqn+8z5Y85SGZU66IFDWWHbtI7rDpH\n",
       "AvEriGeLxe3+S4fSZF17sTgwhmAR86m1y46SL5T0nQFef4fB01pkJz0Uo5cT9+jdpmqUQIwLXgMM\n",
       "0rx4Lp8e75cBiFfIuljWC0ljiLjIF/gltZMPYp5UdOZi5zbunqq0blGe03vpOoptJhO9QcMhRbML\n",
       "xCXBL8CkXLGFm+0OWB1Csm2UrIuk6QSpdNn1BxeZwE/OS7So4lOWUQf7WM3K6afi+1EXBURgTNPk\n",
       "p2gG4mvBbQjRVj4Rbg73ISGP0pyMyOkc5rvgz8ef57te6pY/LuKgKAavTTESpyLONhi6y1xR060z\n",
       "r2QkCljVvXC2KbIuEL2CrYr4O7FRiKYQrurW/Qg39+29H/LCZx1OK9YBIkBq2Wln2w/daLZu6ISH\n",
       "Yo8naZJXj0aga51RXUUBTwkPfJXFs44WWeyPMog1b+UalgVEK+MFJbKI3pKm6lUrxlIl4kZ2yRTR\n",
       "NQ+VYLxBSF9vBuJFyYOrKaWxiH73zO/sg3YqEB9ij65YdROkU/vCOUXku1ANVErCKa1q9RaUUyHo\n",
       "VQ+Fjxj/KcaHVjuNQPdU4AgtdR4L6Pdp4GkpaYmKggS3O5uswBQBtUdDNU8kcjdeM0QebqubcYW5\n",
       "bS5bMjymWueWHK6Yal5JnvI3B9ybzAViseR2vmXz6qkSbWAfcEBWx0hOVnrKq/YyoluKxV3s/lt8\n",
       "XJ4bLmK+1TVPdhGHdksfrLv/9sIi3c9Z1bpY1kOV/nbwzf2NDcWgDsRvkm2uMuzgAGHZeekpazcZ\n",
       "cI4yAlmImD8H45b/TbZiIK+3HYe1m8zwR/n2PjnBgl5hzqkYe2DcgfGE1gVIxbXTGMMPtHMWxnsP\n",
       "6gIkte4CWpDsAmSezsIo7Yg+jmPT3f0Z5UpwdZvvrnjGQZw7vVTA8O1K463h74GADkpHWXSPbNYk\n",
       "ZAelt6Q+3ac208nz7l90n4oVLbrPFjRYv1q1Truxc9/5fzr3s6y0PlTnbpcFa1TBo0X/ANjFQ6I1\n",
       "Ii8KAAAAAElFTkSuQmCC\n",
       "\" style=\"display:inline;vertical-align:middle;\" /></a><br>"
      ],
      "text/plain": [
       "foldSubsetEq: forall_{A, B} ([forall_{x in A} (x in B)] => (A subseteq B))"
      ]
     },
     "execution_count": 3,
     "metadata": {},
     "output_type": "execute_result"
    }
   ],
   "source": [
    "foldSubsetEq = Forall((A, B), Implies(Forall(x, InSet(x, B), domain=A), SubsetEq(A, B)))"
   ]
  },
  {
   "cell_type": "code",
   "execution_count": 4,
   "metadata": {},
   "outputs": [
    {
     "data": {
      "text/html": [
       "<strong id=\"supersetMembershipFromSubset\"><a class=\"ProveItLink\" href=\"_proofs_/supersetMembershipFromSubset.ipynb\">supersetMembershipFromSubset</a>:</strong> <a class=\"ProveItLink\" href=\"__pv_it/43b1ed545df7df7ce7e5573b70bfdd048b1a5d550/expr.ipynb\"><img src=\"data:image/png;base64,iVBORw0KGgoAAAANSUhEUgAAAPcAAAAWBAMAAADuuhdHAAAAMFBMVEX///8QEBCIiIhmZma6urrM\n",
       "zMxUVFQiIiJERETc3Nzu7u6qqqp2dnaYmJgyMjIAAAAcRTyBAAAAAXRSTlMAQObYZgAAA4ZJREFU\n",
       "SMe1lktoE1EUhn+TmTQzTdquRNBFsAul+AgEKoqPqBuVitGFuDP4gAqKQcX3o0qx0yo0brQI2hHB\n",
       "RxQNuNKNsSJK6yMq+BYHXBS60NJarZWi9547mblNk2Ij3kXm3nvOPd+Zc885E6DE4fkSG1vh3FjC\n",
       "20CwOwqLzz+OHx6IVvBHMFtErjcU3H71e2OtEYUvyS2gi2/1lAIPpNmjwiwir0gW3p8EeAegWwRv\n",
       "YxtaQylwOtVWTP6y8LY6DCj9QAfBuev0DuOGU7y6isn3jVi92bPHEqnyk11VH3CBLAQ7U6kzKAn+\n",
       "IZW6migi1kYI1tXkZv4qBt7PbiXKLWDQMA6WBq80jKZMsWIIs5ybumVJByWfm1OVcai7ebDDBN8M\n",
       "NNO++F3Wf7+eckVxnHVSR2mdX9vswn0xSZan62dVcB2vQ4f5wudqrd/2oolfctAi+FJKPbb8RtJg\n",
       "FQJVdDyn/ynqHH0O3HPhShg38l7Y0S1jhE48M5ePMAXMTkKfyJ7lCYKXwUO1enGYpN44yofkE/oi\n",
       "JlarIxE2rwXumg4cCczMGb12f0FOl8YEJjZhiMXqL2yIhDvKHWCOqb1kIZAto+3OncLlELyWDA9c\n",
       "DkPfuiKVYvMdwEL3zfEEubQKnjhr2rouHOgTC6kev3N4yIFr1loqwJBw82YMs0wZvsbfwG+XgjAA\n",
       "T48EP6/G2aR6zWZ2d46uG3aoA7YnI8oc29lRRYQdzZsoKTCHxKtmTo9Dhse9CdTZCdf34riU7fCf\n",
       "Zj81PmuXaNJC1024O55eUI15Q04RsDJXB92Ewy068B6zSfwUmCbDg2lm4oENtOBJSPBy7m+sIgs9\n",
       "7Ora4jCUX/5eTeTAAafpslxe3ML9yQh4JfdL//y4laJ9EmhPS/Ab8x8NYa79OhlovyS4uNPKJNS9\n",
       "hnHM1rWDlIC+oaba/mJdahRp6vv6PVJ/gryICQtBLvCaaKeLZcZXJSX4PGgDLCyiQ6Sh/JTh76h0\n",
       "EUPc1S3YXuua7PaaG5dtCzRWMtNZrQXaELQpUtgVFrdhXBFK7SZOZWQ476O9T5ER9yJ0x/6w5EaH\n",
       "BPcPQms9pE7Gw/5IfVSCtzag7UdWob4WOBKpbUQeXN9WN8OEP+3ojuqLBb/2lvzmYpTLnVIWXDIM\n",
       "Y1Rvl8d0fud/8WdCci0ffrsYvMCX4/C//I16ywx058Gzfw//v8P7/xF/AAdz9RArGsNxAAAAAElF\n",
       "TkSuQmCC\n",
       "\" style=\"display:inline;vertical-align:middle;\" /></a><br>"
      ],
      "text/plain": [
       "supersetMembershipFromSubset: forall_{A, B | A subset B} [forall_{x in A} (x in B)]"
      ]
     },
     "execution_count": 4,
     "metadata": {},
     "output_type": "execute_result"
    }
   ],
   "source": [
    "supersetMembershipFromSubset = Forall((A, B), Forall(x, InSet(x, B), domain=A),\n",
    "                                      condition=Subset(A, B))"
   ]
  },
  {
   "cell_type": "code",
   "execution_count": 5,
   "metadata": {},
   "outputs": [
    {
     "data": {
      "text/html": [
       "<strong id=\"unfoldSupsetEq\"><a class=\"ProveItLink\" href=\"_proofs_/unfoldSupsetEq.ipynb\">unfoldSupsetEq</a>:</strong> <a class=\"ProveItLink\" href=\"__pv_it/af92ca83ec10358827952cb71f4182245a353eb50/expr.ipynb\"><img src=\"data:image/png;base64,iVBORw0KGgoAAAANSUhEUgAAAPYAAAAWBAMAAAABeHx5AAAAMFBMVEX///8QEBCIiIhmZma6urrM\n",
       "zMxUVFQiIiJERETc3Nzu7u6qqqp2dnaYmJgyMjIAAAAcRTyBAAAAAXRSTlMAQObYZgAAAzRJREFU\n",
       "SMe9lktoE0EYx/9usiabR9u7HhbFBwXbQrBeigY9qKC0XtSTDWqhFdGihSJq7aHoVoXEk71IFpQi\n",
       "VbTgQStCaysIUTRqQUEsAfVSsA19YB+IfjOzj4m02xrRgd3MfP/85zc7883sAkUWZazO+w83PLRw\n",
       "ChhpQY7VP/05OxL3dobaF1MO0dVE1zO8YM3RYtjezpLUYso4Xfc4u4vuWnsxbG/nu8WE6LhJbp2x\n",
       "S1ittxi2t/NMQetDa2vOqt7ZRjMSKmPsaKan5zqKYXs6tWa5dbDcrWcr43T/wtiYMYxzRbE9nUoV\n",
       "Pdyapu2DPO+krPCb/Vn6GeLsBqCTR8V91+RQI08Tv/3vTsfnaILdIGvMkayptgNBAtzFe72NNVZK\n",
       "eXcL9bTWGOHsHQjxpYhOiVQoQ6SMu+3cmIJqGEZW1gTbdjrlDfDUqgYoETJ4be6Wu2IljjRNCR5y\n",
       "dgAK6xc3f3DNl0B4TjZY8UeyJti2k83qkxhVq4F+UwRW0KKaMERj3xgVMUz1SOwk2xv1nB3JBng0\n",
       "c1oMWIcvJ7OtuJqQNMG2nSyP+3rofgrYCpcNTIhGl7QuJOUctpbbz/vWxSDv16HClNh2HMckTbCF\n",
       "c3Dz+jp/FX/4aSij0pxDnbYG4rIpHGDLtpOz0XmU5wO2cLF208YEJLYdx7CkCTZ3KuaJQLxEPNPE\n",
       "24uQcu2xkgffXD7d2XrELsk7uYYHfCt+RCVXXwEbZLYdxzpJs9jMqeIb5YQI5aDY2zpSBf98MK+J\n",
       "hDhru9h5EJylW41gl7JRhT6/TPLpvAqke122E0e7pFls7gR1dYA2go7gALR5e12bETpcvtZ61XR3\n",
       "iD5u/xxFOPmdVuirYEdZ3GcizV+KZK5NuWwnHtYlzWJzp5pXaWFYKe2Ff3bhM3XPpdaC7RhqFmxe\n",
       "9pI1q12GNgdttTTnPM4IMUiaxWYlHclFEOHDS5u4NrDku0S4dZcdnIGWPK+uwvPJWGPcZVtxwzhO\n",
       "vbuaxO4eHswAV1jkQqy6w+k9mPJii3do4feEVA8ueZ7Lxzdb72V+O9jn9G/svuWzlba/+GaK0qRU\n",
       "tBTGsguz2XluJPD/iu+fE34B7C73U/q3q50AAAAASUVORK5CYII=\n",
       "\" style=\"display:inline;vertical-align:middle;\" /></a><br>"
      ],
      "text/plain": [
       "unfoldSupsetEq: forall_{A, B | A supseteq B} [forall_{x in B} (x in A)]"
      ]
     },
     "execution_count": 5,
     "metadata": {},
     "output_type": "execute_result"
    }
   ],
   "source": [
    "unfoldSupsetEq = Forall((A, B), Forall(x, InSet(x, A), domain=B), \n",
    "                        condition=SupersetEq(A, B))"
   ]
  },
  {
   "cell_type": "code",
   "execution_count": 6,
   "metadata": {},
   "outputs": [
    {
     "data": {
      "text/html": [
       "<strong id=\"foldSupsetEq\"><a class=\"ProveItLink\" href=\"_proofs_/foldSupsetEq.ipynb\">foldSupsetEq</a>:</strong> <a class=\"ProveItLink\" href=\"__pv_it/665dde763534491e4a8bad8c8eeed2eddee43a5d0/expr.ipynb\"><img src=\"data:image/png;base64,iVBORw0KGgoAAAANSUhEUgAAATkAAAAVBAMAAADP1oQ7AAAAMFBMVEX///8QEBCIiIhmZma6urrM\n",
       "zMxUVFQiIiJERETc3Nzu7u6qqqp2dnaYmJgyMjIAAAAcRTyBAAAAAXRSTlMAQObYZgAABEZJREFU\n",
       "SMfNVl1oXEUU/rrZv3t37yYPgoJSFgs2SNssRtoXawN9qBQ1iw/tm7tQC6mgXa2wlfoTg9Abf9h9\n",
       "kFoUzW0VrRFjoA/qi4YmovaPBZ/8adxii9iHNjQSY0TjmTOze2d2772Kvnjg3Jk7c2bmm/Mz5wBR\n",
       "ZDWw6TL+TiScMnU4Pw0FTLwRvSk+UdwUPxdChE4AcznRcUIxnAg94UHifUA2AJ09yk2i2TXj7F8a\n",
       "HHkeyTqYz4ixKyEH/EzostPUyXkIFwmha8RTwehyddkscDNVrVbHWlNrCPi2ok24BR8V1hkN3t8p\n",
       "EDqePBoGQYiEzFyjG2Xzgei+ls38Snvkg0uqUyIrDRdwirqnpFZYPQGUoivOsWLPhGFI1Q1Eh6vP\n",
       "tPrvb6Mpu09Hl24JPynte/I3f+mUmhug9oc8jlGX2Dk9OflqyNFifA7fT06+V0GESJsSY5oDNAYE\n",
       "rEs6uoSykSW3c2K/aGuVDz5HqG/0kKNVgpdd96mQo9cxul7XPTyDCJHjt72yIc/318DFvc9EJM0a\n",
       "llUWjUl32Jn5o9uBl4DdD5M5C5L3AuM8Lr/3LM6OtAzwMqNLFn2TBInYM87jKb75Pk3obZQE4nmF\n",
       "bktV0LMSVppfAHsocV1bIJ0nsXSh/5DQa1Pydg4O6ks1O+QpfWrBIUYXL4jQ073LFMl62ZU4o9WD\n",
       "awgTAspHZlR8yh6e4m8c1qI2dadUK7nisTK9lBXJKcT4Km9JNfeUkWmF0g2MDhVsbLv67NYuERtp\n",
       "9XytvUqk3GjP4H4xWjLR2RfF3xoe2jW4eVmbkn6XpmvHfqf1C5KzjRSPnz4ggzCPnqaJ7hxaQeG8\n",
       "+JrXLYLevHR2TXdxwtDsRnfkK7TR0WetllbK3PRSE7vuo7Oau/iyeZenPyxik2dYFm8maEl23QN7\n",
       "yQuCRFAqyp8+/zCyXUr87lDo7r7KJF2fLZshfsxfsNtrP3dJ8rF4RTLGHxLDSWzh6eGN/WUYUYH0\n",
       "ETrg9mTzCaX9DpGMN4AY732Hn32nVSaYN3R3P/yoeF2lE2nx7eP+c1ca9aMCJ9lu32GAp88D61tr\n",
       "ZiW6jMBdzDVgF4JEhqdrKqunpvVnMC3e2rt0dLbKmOKp4DevVleZ7GDrub9IKruJrtozI1l6jf3j\n",
       "2Rrf/yVgonXIDokOHPi9dSQOuu5Yl8g7tx7fKosEe2SnKg1WryBT+5VAXNbRJZUHkMns2p8ePl49\n",
       "0PF8Prq6Z7PLib0oGY5A1eNhgtdSvAzXjUwGfMsegSKkQTtFtFj40s9kEm9FR2fByGRR9K5iSfeR\n",
       "chrWC7BWYN1iVAFq44XzmMHn3O0UiaDoKiCCVBWg/HQZVu3pxM34YnFwxN9uvI3OfuTeDR7SQuld\n",
       "IhEUUkGZuWeK80jZ0LmqoMxaNqD6NAb63bF/XH0q7BHVZzgJ+OYVVLHcUZav/y+Vu1NH7F9V7t8o\n",
       "NqiB/xf9BX3xR981HXfrAAAAAElFTkSuQmCC\n",
       "\" style=\"display:inline;vertical-align:middle;\" /></a><br>"
      ],
      "text/plain": [
       "foldSupsetEq: forall_{A, B} ([forall_{x in B} (x in A)] => (A supseteq B))"
      ]
     },
     "execution_count": 6,
     "metadata": {},
     "output_type": "execute_result"
    }
   ],
   "source": [
    "foldSupsetEq = Forall((A, B), Implies(Forall(x, InSet(x, A), domain=B), \n",
    "                                      SupersetEq(A, B)))"
   ]
  },
  {
   "cell_type": "code",
   "execution_count": 7,
   "metadata": {},
   "outputs": [
    {
     "data": {
      "text/html": [
       "<strong id=\"supersetMembership\"><a class=\"ProveItLink\" href=\"_proofs_/supersetMembership.ipynb\">supersetMembership</a>:</strong> <a class=\"ProveItLink\" href=\"__pv_it/76e0cd50edda1b711af2e94df3f39d23ea5109dc0/expr.ipynb\"><img src=\"data:image/png;base64,iVBORw0KGgoAAAANSUhEUgAAAPYAAAAWBAMAAAABeHx5AAAAMFBMVEX///8QEBCIiIhmZma6urrM\n",
       "zMxUVFQiIiJERETc3Nzu7u6qqqp2dnaYmJgyMjIAAAAcRTyBAAAAAXRSTlMAQObYZgAAAzlJREFU\n",
       "SMe1lktoE0EYx//mYbLbTdq7HoKCSsG2sFhBqoZ6UEFpvKgnW9RCe9GihSJq7aFoqkLiyR6ULFiK\n",
       "RNGCB6kIra0iRNH4AAtiCaiXgm3oA/tA9JuZfUy0XWukA7uZ+f77399k5puZBYosnvGY+wM3XbSS\n",
       "JDDaihyrf/p3thZ1d6odSylH6Gqm6ylesOZYMWx3Zzi5lDJB1z3O7qa70lEM2935bikhNGGQO8LY\n",
       "YVbrK4bt7jxT0Bppa8uZ1Ts7aUTUMsYOZdLp6yiG7epUWuTW4XKnnq2M0v0LY2M2Hj9XFNvV6ami\n",
       "P7euuXaI552UFT5jIEs/w5zdCHTxqLjvmRpu4mnis57usn22JtiNssYciZpqKxAkwF18iLSzxmop\n",
       "73pQT3ONUc7eBZVPRWhapEIZtDLutnJj2kkTSxNsy2mXN8ATsxqgRMjgtbFXfhUrUaRoSPCQswPw\n",
       "sEHArR9c8zagZF42UFzV9e0xWRNsy8lG9bFO1WpgwBCBVTSpBuKicWCciuim/5h+kq2Nes7WsgEe\n",
       "zZwWHY7Am5PZLJ5O9+iyJtiWk+Vxf5rup4AdcNjApGh0S/NCUs5mK7mDvEMR0cn7MVQYEtuK+6ok\n",
       "TbCFc2jLhhgT6c/PwDMmjTn8M2ZHHDaFA2zadnM2uo7zfMBWLtZt3tQAiW3F8UzSBJs7PcaJQDQs\n",
       "ujf59iKkXHvkyYMvLm/EXnrEDuftXMMDvhQ/opKrr4CNMtuKo1bSTDZz+vGNckKEcvBYy1qrgm8h\n",
       "mFdEQpy1XGw/CM7RrUawS1mv1M8vE3w4rwKpPodtx3FD0kw2d4JedSgej0cQHISyYM1rC9Sj5evN\n",
       "o6a3U7zj9s8xlCS+0wx9FewQi3sNpPihSOa6pMO24zQAjmayudOf99PEsFLaB9/c4nvqvkttBctR\n",
       "bRFsXvaTNatchjIPZa005jzOax2SZrJZSWk5DRrvXsrAtcG/niXCHXHYwVkoifP+NXg+pTdFHbaI\n",
       "83USkzSJ3ft+KANcYZELenWn/fZg0o0tztDC7wmpLm1GKk3ntj/3c3n7ZvO9zG8Ha5/+jd2/OHvR\n",
       "w6L9P76ZQjQoFa2Fsezy2StavCtO+AVAdvZL2kuGHwAAAABJRU5ErkJggg==\n",
       "\" style=\"display:inline;vertical-align:middle;\" /></a><br>"
      ],
      "text/plain": [
       "supersetMembership: forall_{A, B | A supset B} [forall_{x in B} (x in A)]"
      ]
     },
     "execution_count": 7,
     "metadata": {},
     "output_type": "execute_result"
    }
   ],
   "source": [
    "supersetMembership = Forall((A, B), Forall(x, InSet(x, A), domain=B),\n",
    "                            condition=Superset(A, B))"
   ]
  },
  {
   "cell_type": "code",
   "execution_count": 8,
   "metadata": {},
   "outputs": [
    {
     "data": {
      "text/html": [
       "<strong id=\"unfoldNotSubsetEq\"><a class=\"ProveItLink\" href=\"_proofs_/unfoldNotSubsetEq.ipynb\">unfoldNotSubsetEq</a>:</strong> <a class=\"ProveItLink\" href=\"__pv_it/09617c680ba4a98043a6dcb9b2e73d837fa8559c0/expr.ipynb\"><img src=\"data:image/png;base64,iVBORw0KGgoAAAANSUhEUgAAANcAAAAaBAMAAADWJdTsAAAAMFBMVEX///8QEBCIiIhmZma6urrM\n",
       "zMxUVFQiIiJERETc3Nzu7u6qqqp2dnaYmJgyMjIAAAAcRTyBAAAAAXRSTlMAQObYZgAAAzVJREFU\n",
       "SMe9Vl9IU1EY/3W3q7t3u9OHiKCIQQ/1UgqDRSW16KEQwtGDT0GD/vkSrYRG/2hC2bRk66WECBc+\n",
       "GD7UyJd8ammhWcQqCEKqQS8VgaJpc2F2zvnu1TPkahPtg9/O+c6/33e+P+cOWKJoWUm5u8jiXhM5\n",
       "rnwsney+1NdjolFz81a9nzkSiAdRloTASz72vXSyb1Lfm6RmlFTjRDQaDVF/LeCYgM7M4GjnLomV\n",
       "zGVUS8o7aj4VyME/krMz6jTgHAf6IOBNAZ50yWTlSUk5R87smZLvKURhQ8YYcA8CxlB39+3SvShv\n",
       "0SJ0WeWnaHdKU65KRnKeGRAk5OPxi6WTbZT6Crm01j0t2og0VRGGepb7rppwDGj5l+ODRVqbbL6o\n",
       "Aj2ojol7hqWpwyffXuMxMnKEvSJPFpfiJLrAsizKJcPiJ0LuhDYu1QFJVRL6Gta6I4RyKFSfdL/9\n",
       "4/0NSdpsGU6qjyFREzC9sNqKF7vHKnHpen8gP8+NTZyQ2aKOEjzZcoovhdeohKdScFgbPrOzOuNN\n",
       "zaz7BnhqR8Z+NoihPolskpP55si0XL0Y76TwOsJwF2QyfXcW6lXc4v0A8CRluXGWTLjRzXCaUj9d\n",
       "VGY4xcxwRghoOSomhhqpgHxw5GQyT1c1vMAz3j8D7CpOEE4mEuQOwwhZd7xWLjM1LyUIeoSTVV9c\n",
       "zD8MYWtKJjvoimGY3lB9Aor5svVb54Uop0WtJaic1UHrufKygOxp5f7KEFDh4+Nl2CZW1m3ZTLlr\n",
       "kYUdEWyHmy9yjr1tNkf3SYFh/tETf1J4PNNYnMBlI5P+huuCNUSAIS4yjCqx4DWwSSYz0sooXsDF\n",
       "F3lyUCK2z9VC0mXCTIMvrxKC9AbQkZbIHtQMFvCI8sOVgfbb/iFeQPqKstSRQodwMzusLimR7YA2\n",
       "wUrtuXh80nBOmRvkV8clXxMDothD8pD1iTHlADsqq7VCK0BbL7nRyTJtGnqbWNmRws2M/cfTXrg1\n",
       "cxa58tASl9R1GBj3NwQlskQM7b+ycHyNN8Nz2R+4sqS/BR9MFIlbtgZ2yjJJr935h1aALGtD1s4+\n",
       "enGsoDhKyYDlFCX4H8m05TnmL1zU2/n7Oqc7AAAAAElFTkSuQmCC\n",
       "\" style=\"display:inline;vertical-align:middle;\" /></a><br>"
      ],
      "text/plain": [
       "unfoldNotSubsetEq: forall_{A, B | A nsubseteq B} [not](A subseteq B)"
      ]
     },
     "execution_count": 8,
     "metadata": {},
     "output_type": "execute_result"
    }
   ],
   "source": [
    "unfoldNotSubsetEq = Forall((A, B), Not(SubsetEq(A, B)), conditions=[NotSubsetEq(A, B)])"
   ]
  },
  {
   "cell_type": "code",
   "execution_count": 9,
   "metadata": {},
   "outputs": [
    {
     "data": {
      "text/html": [
       "<strong id=\"foldNotSubsetEq\"><a class=\"ProveItLink\" href=\"_proofs_/foldNotSubsetEq.ipynb\">foldNotSubsetEq</a>:</strong> <a class=\"ProveItLink\" href=\"__pv_it/4d722e01e7eb14600282b5fa095043085dc793230/expr.ipynb\"><img src=\"data:image/png;base64,iVBORw0KGgoAAAANSUhEUgAAANEAAAAYBAMAAACW8wWgAAAAMFBMVEX///8QEBCIiIhmZma6urrM\n",
       "zMxUVFQiIiJERETc3Nzu7u6qqqp2dnaYmJgyMjIAAAAcRTyBAAAAAXRSTlMAQObYZgAAA1tJREFU\n",
       "SMe9VUtIVFEY/pyXc+eh7gyKmF1SmIIxUUgOBSFBKC1sEzlggrSosYihF06gcZVipk0NRDniwpCw\n",
       "ASOKgswWqUXcclOUOdEitEWiaTZh9p9z7r0zc2eGqMEO3PP4/3vO9z++/xxgjZoF/6sVr9G5N7Ik\n",
       "7zNWD+hLsMlUgUCOEB+siZRoVgzu40s1bZ2wRYDnaeJ/biURMcyp6zfB9vJTYlpERtQ1OsiGKK2k\n",
       "UIFIk2L4kBTjzXHYGlVVswI0VGOU7IgBrniBSKdFDId/iHEGGNJUVeTutAd9FMiJwcFrBQJJAZET\n",
       "0zc+2sjwSk13gZDLYyjxAcuyfO7PZ+USagGCqZoP+5wrOsEDmm4JOHiUwka/tALdXCb6+oWnbZGs\n",
       "0hthnT2il2W41tuNu9rSrvCg+azzfHkVcI6oKuvSVMVZ5i9RYg8cnJxu4bq7DK4yvj0NyMYxpikC\n",
       "t2X5Ik1fAU9g1pCL48I0aYEvozoZyV1KXZ+foAPMVxM3qV+4bvbDmTQiHeI21ymwdgmBF3gcc/hV\n",
       "dZGP9U013mUtelHdXbLa9JN8owJwKeLimDgpfvPAnDAitbLONVCtC08Au4CZDCTqNvKlS8E2bWcp\n",
       "WWOaF0hSookH1CNz1Z1GbI0ZkXh+D9hDeKjeCYswzaYIxqPnpK9drL84dEKwcrJRXixM0n2EpwLb\n",
       "uaqhskIExW5ksd8cwA6VEfOvWbbupTPiOn1fxfpWiye9nJpDghEY5ue8QxVXvQQ2pSGNybKcsLA7\n",
       "xB03zWFc7HclYKJd9epxjMLcmrBKhObPwaC4jT6SWesoRmZGxlJmgOPTizAP2iWgN57pk9/CvByq\n",
       "HUtit+rECCRK82GN9AE4wr9iuL8qck18Vtux1RavzI4rYcXnZgjmGHp5JdIBDREDkpX5tBPSolZS\n",
       "pXFYiL57M2+jVOvKqvIBfbaftitSD6QkpA2GPPlZgi2UixU4LnOo3hiujKS9QZOGGyWRhTSq034Z\n",
       "Uvi8dT2eLdS0+QxIEZyhFIQQ/a7AOUaV6+qo8XaSQudy6vbgaesIBrU8aQ+YEduZNk9n+Zbct2HC\n",
       "8BLmf9kzTVEf4VxI9pxATiXP6/4o69e3RoGS53SLpogS6WVN2p/v5u/5u0fHnM9ZvW3OtzWSS/gb\n",
       "uO3WhJob99sAAAAASUVORK5CYII=\n",
       "\" style=\"display:inline;vertical-align:middle;\" /></a><br>"
      ],
      "text/plain": [
       "foldNotSubsetEq: forall_{A, B | [not](A subseteq B)} (A nsubseteq B)"
      ]
     },
     "execution_count": 9,
     "metadata": {},
     "output_type": "execute_result"
    }
   ],
   "source": [
    "foldNotSubsetEq = Forall((A, B), NotSubsetEq(A, B), conditions=[Not(SubsetEq(A, B))])"
   ]
  },
  {
   "cell_type": "code",
   "execution_count": 10,
   "metadata": {},
   "outputs": [
    {
     "data": {
      "text/html": [
       "<strong id=\"unfoldNotSupsetEq\"><a class=\"ProveItLink\" href=\"_proofs_/unfoldNotSupsetEq.ipynb\">unfoldNotSupsetEq</a>:</strong> <a class=\"ProveItLink\" href=\"__pv_it/d3cdadbc14cf288cba1018296737e5f07fb4cb740/expr.ipynb\"><img src=\"data:image/png;base64,iVBORw0KGgoAAAANSUhEUgAAANcAAAAaBAMAAADWJdTsAAAAMFBMVEX///8QEBCIiIhmZma6urrM\n",
       "zMxUVFQiIiJERETc3Nzu7u6qqqp2dnaYmJgyMjIAAAAcRTyBAAAAAXRSTlMAQObYZgAAAz9JREFU\n",
       "SMe9Vl9IU1Ec/rzb1d27XfUhIihkEFEvpTBYEVKLHoogHD2ITzWoYD1EK8GVFRmE3Zm121NGhTcK\n",
       "FB9qJIRC0MqHwiKWQRCRDXqIelFc2lqYnT/3bmfItIn5G9/O+Z1z7/nO7+8GLFGUlKDcWeThYQtp\n",
       "qnwqn6xfmKsdbJDT8556P3fYrwdQaYDhFV37Xj7ZN2FebfBhkjF/jUZPe+2tNYBjGiq5BkUPdUlH\n",
       "2Vxag6C848N4Lm/qeIBP5FnAmQGeg6HaBDyJssmqDEE5wxkGfxUcaxkukSVtCrgLBm10YOBG+V4U\n",
       "X1Ei3FjpR2HtIB9ctYSknZgU4Mjq+rnyydYLc4m7dJ97dl4Ya0KQ26jvGjiOArF/Of5mkXZVmLtY\n",
       "FagBeaqwZkXm0PGxy3SmpTl2szxZXI4VaWdJlkWpJEn82MFOKJnCvoNnSL0BdTUZ3RGOKki8Prl9\n",
       "ezMjYYO/bF+cqWqILMUb/ZYXVtnxIssV7OBmnz8ruJEPFykhuYs8yeFJVfH48vBqtfDUMg77vc8B\n",
       "tOh6mJ74FnhWiox81RXIHvNhhpJ5C2RKupmt3+PhdYTgzolk6k5meAUtfD/w1LTdmCdjbnQTnMxz\n",
       "ye35MsMJcg1nhAOxI2xjtJUXkBeOtEjm6WPJ9mSIfJ0CdhQnCCVjCXKLYMLmur/NyJeZnBUSBIOs\n",
       "TGSvzvYfBrHFFMkOuFh/iZHepk5DsjrbiH1ukOc0q7W4YbWrbqtLVJOA7Oqi/kpyoIY1skpsZftN\n",
       "mzeFIJKFHBHW0bQEnFNjndbqHiEziX/U+B8TQ3OtxQlcOTHjC19hrEEOaMyQj6hnD7wBNopkWkKi\n",
       "/dUTkILwpCFFSrarhaTPgpUGX17HGWk30JsQyB40vsyxVCa6Kwnld+lGvIBYjdguQhO91EyQw5oM\n",
       "gWw7lGkyPCIf1BBP2s1W7Dou0Uwas2i0rYjL/omxZD85KqV0QclBWSe40UkyjeZv7DYJb6+J68nS\n",
       "P56lhd6mcCNXFkr8vLwWLzK+cEAgi3eg52eq5VrbBhK3Cz7/pSX9LfhgoUjc4m3EDUcQyy7Dpcj6\n",
       "l58LqRJkLXW63on/KA5RSWPlxJlcQTLVXJZj/gKgUN0YFGFHLwAAAABJRU5ErkJggg==\n",
       "\" style=\"display:inline;vertical-align:middle;\" /></a><br>"
      ],
      "text/plain": [
       "unfoldNotSupsetEq: forall_{A, B | A nsupseteq B} [not](A supseteq B)"
      ]
     },
     "execution_count": 10,
     "metadata": {},
     "output_type": "execute_result"
    }
   ],
   "source": [
    "unfoldNotSupsetEq = Forall((A, B), Not(SupersetEq(A, B)), conditions=[NotSupersetEq(A, B)])"
   ]
  },
  {
   "cell_type": "code",
   "execution_count": 11,
   "metadata": {},
   "outputs": [
    {
     "data": {
      "text/html": [
       "<strong id=\"foldNotSupsetEq\"><a class=\"ProveItLink\" href=\"_proofs_/foldNotSupsetEq.ipynb\">foldNotSupsetEq</a>:</strong> <a class=\"ProveItLink\" href=\"__pv_it/89af337def5358ae89e285d1bb70e9d66f6438a10/expr.ipynb\"><img src=\"data:image/png;base64,iVBORw0KGgoAAAANSUhEUgAAANEAAAAYBAMAAACW8wWgAAAAMFBMVEX///8QEBCIiIhmZma6urrM\n",
       "zMxUVFQiIiJERETc3Nzu7u6qqqp2dnaYmJgyMjIAAAAcRTyBAAAAAXRSTlMAQObYZgAAA1hJREFU\n",
       "SMe9VUtoE0EY/txsmt1sUr0pKJKbomgLkQgqGhBEBGlQqB7EBrRQPWjVQ3zSClI2omS9qCDSlR4K\n",
       "HjSoiIJgfWFpRaKefNSu6EUvSqu1Vnz8M7OzSTYJIkEHdnbmn/n/738P8I+Ggv81Lv0juecrKIvK\n",
       "djfpc9hipE6gcDf/BZ0iyV1Gd0/EO46hwQKG2f5DnUiNlvh9Eo7LZDJvm92jaaTEqlSYgM/STu+u\n",
       "E+mZ+L2eKobpnbtoKwAtzbhLethAJF8n0gHhw6vfPMppLSUWTWTuaAwXyJFDFy+eqRNI7xQxUT57\n",
       "pPtu6HCUNJhpozEJTJrm4T/LqkZMebUjgrLO+FGSEDvEYgLYtJPcRlfagSyniXnt+L0OHl+1VOgA\n",
       "mzRLbtXcikQW1+RWK3DnJYNjkhKNYaFIx4mR+YcYgVJiNcI8I6PC9OgMRGZw9hKgBo4xmsRm0zzJ\n",
       "lk+AOwhI5FBeqKaPe8loY7kwl0J3IQ0Y5OAQFK5SnzA9kIYx5UfawnVexe8ZLAAJ4LYdTstMTrK5\n",
       "NZ6YlAytMks00lr5TrZRAUQKIU4b2if0iyHg+JHa2RTpb5ZSsBdYCbwvQ6JpbpHBEBkxnbRRxgSS\n",
       "7rRyh8ZMfnQ5hcW2H4nn1gZNMDfYCH+B8qHYcbj3DPr2yJ7hYJPtlVMDxUVlIrLbOT+W8qOWRfOF\n",
       "UzR/FqcDbjInoY497aHV9dKMOEffR5cQebExWyyntm6REbjKBbxEEz96DMwrQRo0TdNRmTHRvCKa\n",
       "jZJCxIFCXGul4GZXm5wlulHX/mH36A2ZM4vMC7DsnR5j9r59lOP2ngB68+U2pVVm5aUVg1NSBW0A\n",
       "OoV5q0z6ToRzP23c+CVijVuSddevbQmTiWtkxRdlCAEbvbwSSUCL5UMKMpuWQf/Ct1dIuTxUSt81\n",
       "5d2oON5XVHm/t1pP7AX9OPQp6HN8cUqHyTMqxYLXwUZyVa+NU+SOV74OK0ewsmPf9ap8EnruSHA2\n",
       "Ho7HO5I+JAsHKQTdOPu1sNnseUBx6YonjtHBEo/dKntuu+jZyKTLHjDHh2yUrEuzfGH1buj4XkI5\n",
       "QhU3y1VxH+FqSFpVIKNQ43V/WnH1uZ9QqCFdlQfU98weSe2r1fn/8gkP1DLWGwtqsVrViL8BzRTX\n",
       "/h+zAf8AAAAASUVORK5CYII=\n",
       "\" style=\"display:inline;vertical-align:middle;\" /></a><br>"
      ],
      "text/plain": [
       "foldNotSupsetEq: forall_{A, B | [not](A supseteq B)} (A nsupseteq B)"
      ]
     },
     "execution_count": 11,
     "metadata": {},
     "output_type": "execute_result"
    }
   ],
   "source": [
    "foldNotSupsetEq = Forall((A, B), NotSupersetEq(A, B), conditions=[Not(SupersetEq(A, B))])"
   ]
  },
  {
   "cell_type": "code",
   "execution_count": 12,
   "metadata": {},
   "outputs": [
    {
     "data": {
      "text/html": [
       "<strong id=\"refinedNonmembership\"><a class=\"ProveItLink\" href=\"_proofs_/refinedNonmembership.ipynb\">refinedNonmembership</a>:</strong> <a class=\"ProveItLink\" href=\"__pv_it/a42075fc569f884a4b98c2f18318d437a9db97ab0/expr.ipynb\"><img src=\"data:image/png;base64,iVBORw0KGgoAAAANSUhEUgAAAOcAAAAXCAMAAADHuKgLAAAAV1BMVEX///9jY2MJCQkNDQ0rKysP\n",
       "Dw8WFhYkJCRlZWUoKCgtLS0/Pz9RUVEvLy8QEBCIiIhmZma6urrMzMxUVFQiIiJERETc3Nzu7u6q\n",
       "qqp2dnaYmJgyMjIAAACXTERdAAAAAXRSTlMAQObYZgAAAyNJREFUWMPdWNeypCAQZXO2SU2T/v87\n",
       "l6Ajoqh7b9Xu7PVhagTOgc6NjL2NR74ROZjxp9N6PGVN/g2Pd++fWEzCc3OqzatXMSrOFaJIbyoL\n",
       "6uwyGeiJ5QzmdJqLbmCqeuExOTRlW5pFUQafWEzP2R+5rYzVOUXMQAeNGVfDPuGjT8zpUX/+pMNm\n",
       "DGIF+JhFpCn/dZQfo585CY0PJxGIYa8GnGpUT7pYMWS3jpgf7f6xZ4qTSZjdlgCUEVD8cB7J7kih\n",
       "B8SSl6RW1VldxqtSe1qVtP8FRu5S5ho6zv58R2svafAMjzXaKNnCa2CNk5ZcCrALT+U9oF5C0WeA\n",
       "4GyrEh/bs/viAm66ccAWLouXoL9JY/hg+xqe9cAuWcdFYsJsd99Vijk8aZrLjdVLsoK1eBKPbSXl\n",
       "Za2NdFPOLdziDRqy7tdPf7x9rRJV8ozFzX5yCiF8/JB+wkF4JnntbN+iJr9JzI50m8V1cQoe7tqz\n",
       "gy8V/ITGozU/aIBv5SyRt/HRUgz3lSKqRU5o5DSh7SckbHRGudIyWF3DAZeg5EjODp4iiA5pVp4c\n",
       "N9IN8Y3flhNvO9npqOdbqidTcwgIPQe+WhWWJOYNUkRIEb2qIWVxFZgWIzk7+JJIe5qGJ5uYmyG+\n",
       "yUOWkoUq9hFVUPPLYfWUEZs8lPANs7eski1qL0tANxeD4Md+28PTmzyiWXmItyR7/KMuJF1ZhrFr\n",
       "6bVVu7tKqOEpJpwVwl3v9BS4c9hkCyxLTGxiIJqhnDv4Mn9AM/NIjfj9GyIM8KvfkQIg4Nv7Bqn3\n",
       "YrtchaWJX1v3WRX+sZJTOc6qonoy0ciWg1oO5NzBmYUBzYNHLTF8iL/s+/w7h1rrcHbZ2QWCqLrK\n",
       "cWyw7ll+J8fqiInFBd2xnA18loXX4Glpeh4nSY3wN/p4NJe9luv7CCyBazBqn0pTMoHTkWcXELVY\n",
       "2eQmXjhwdNzItPDcJShXLbOh2fHgV7vH35WGrq9ZFM7n7Y2Rg37oxtPxfMk6gZfds+H668CFxa25\n",
       "HnmZnB2P4a/4bnK9vb9wbH9jZLzR3N8iqktmJ/6HD1T81QzqL5zyN/VFRs4uf2qUAAAAAElFTkSu\n",
       "QmCC\n",
       "\" style=\"display:inline;vertical-align:middle;\" /></a><br>"
      ],
      "text/plain": [
       "refinedNonmembership: forall_{A, B, x | A supseteq B, x not-in A} (x not-in B)"
      ]
     },
     "execution_count": 12,
     "metadata": {},
     "output_type": "execute_result"
    }
   ],
   "source": [
    "refinedNonmembership = Forall((A, B, x), NotInSet(x, B), \n",
    "                              conditions=[SupersetEq(A, B),\n",
    "                                         NotInSet(x, A)])"
   ]
  },
  {
   "cell_type": "code",
   "execution_count": 13,
   "metadata": {},
   "outputs": [
    {
     "data": {
      "text/html": [
       "<strong id=\"reverseSubset\"><a class=\"ProveItLink\" href=\"_proofs_/reverseSubset.ipynb\">reverseSubset</a>:</strong> <a class=\"ProveItLink\" href=\"__pv_it/aab28e02130e39e7d09ec71ab71708fed2615e250/expr.ipynb\"><img src=\"data:image/png;base64,iVBORw0KGgoAAAANSUhEUgAAALoAAAAWBAMAAACF/ptXAAAAMFBMVEX///8QEBCIiIhmZma6urrM\n",
       "zMxUVFQiIiJERETc3Nzu7u6qqqp2dnaYmJgyMjIAAAAcRTyBAAAAAXRSTlMAQObYZgAAAtJJREFU\n",
       "SMetVU9IFGEU/zk7qzvjrnorqMNChzxUCgsbheRChyIKpUPdWsEKi0ipg0VFG0SMIayd8hI7kZRs\n",
       "YAseopOGRGEhUx3D3KguXhT/a4i9983Mzue6Gk09mO978715v/e933vfN4BvefQHe2UPkGdl3Ae4\n",
       "ngIi7QuxtrulrGfouQC8Z33SB3oVbQ1lFKKxuYR1ip4BoJcmLeUD/TMPSQtoqt9ojEyZQDiKKp5y\n",
       "PtCv81BHCUxESQl2dnZeswrG541k0GsQGc1mH/oA1zp4vEMY20x3aazHtVp1CRp/AEuGcdMHuiL4\n",
       "WABOXyyKSKKaQ5zHCHAO6BJL9nh0dqRNbEF1fUKFHanphniXu8ruwYXx2htSyEFn7kOS6foKHIYu\n",
       "ujIyZ9ejBuEa4e66TCQK3h+B145awbVSloHHLR56hTMnkOHUXvKKIqrxZFUYAi2oXJHR9UYyB3fF\n",
       "YqTHgSGH5TKOGaJ9KL889HI7zWBrrJ3bMEkNY9kRR6/a4aMI5GX08LN66JeOZbOkXwEOQUKvpn0r\n",
       "Mx56yA5NpJblbXQtf0rEixrC8qIZ+0wZ/WQohXL7wOjzUCZlZrjdy+c2MEOmCmb3CFfzrEgK+4Wl\n",
       "aW+tTaSL3hLowHGnqjOf7kGuKrd7UjqKe+zWIfSqabuqGBR99AV1wjQG7JbRIzllGm8ckvJQ3KYL\n",
       "c9m+UcTtpndvCUrBxydE9UYDk8fNo3//kBafdQOZnIQ+0PBuBQec/Q5Dc2uoUpjLa61xwzvnfecF\n",
       "Qv/aJCrTixT9J++O1wImMoJc8m7qkdAPQpunxIRU56Aur7sJCsI3QXfRdaa7eeIE+VrafWgr0HZK\n",
       "zKhE7yr67Y8yJh4Mr7vFtpRw1K3RErT0reAOvJ2NtSUk9HQKvYuWKk5o+HYs7l3m3hHeTAaKfyeS\n",
       "HpINTw3DKPH32Fq6it5fbYbu588XKU7O+hv0f5LAf8D4DaB9sA+u/zZ0AAAAAElFTkSuQmCC\n",
       "\" style=\"display:inline;vertical-align:middle;\" /></a><br>"
      ],
      "text/plain": [
       "reverseSubset: forall_{A, B | A subset B} (B supset A)"
      ]
     },
     "execution_count": 13,
     "metadata": {},
     "output_type": "execute_result"
    }
   ],
   "source": [
    "reverseSubset = Forall((A, B), Superset(B, A), condition=Subset(A, B))"
   ]
  },
  {
   "cell_type": "code",
   "execution_count": 14,
   "metadata": {},
   "outputs": [
    {
     "data": {
      "text/html": [
       "<strong id=\"reverseSubsetEq\"><a class=\"ProveItLink\" href=\"_proofs_/reverseSubsetEq.ipynb\">reverseSubsetEq</a>:</strong> <a class=\"ProveItLink\" href=\"__pv_it/9d4ff48d5e083eafbd325560dddb29adb24d9d550/expr.ipynb\"><img src=\"data:image/png;base64,iVBORw0KGgoAAAANSUhEUgAAALoAAAAWBAMAAACF/ptXAAAAMFBMVEX///8QEBCIiIhmZma6urrM\n",
       "zMxUVFQiIiJERETc3Nzu7u6qqqp2dnaYmJgyMjIAAAAcRTyBAAAAAXRSTlMAQObYZgAAAtZJREFU\n",
       "SMetVU1oU0EQ/vqS2LyXpO1NQQ+52Yu2EIg/FFv0oBdp8aA3U6hC9WCLgvEXI2h5lUriyV4kEQtK\n",
       "lRoQFPHQSg/WKvLUo7SNqIi9tPS/lVJn9r1NNlFbfXQhu5Od3W9mvpmdB7ged9bQB1JAjoURF+BG\n",
       "Agi1zUVar/1Je5R+J4A3LI+7QK8g11BGJuqb2Nb3ePxcuKCdoF8f0E2LnnCB/pGnmAU01spoRhuk\n",
       "MjSRAYJhVPCSdYF+nqcaCmAs77LxQ0oP60lhVCE03Nt72wW43s7zVcLYmCliWwyrhsP4CiyY5iUX\n",
       "6JrgYw44crIkFzS8mX6iDIPAcaBTbNnzgenBVnHGK6/4U1LyJuuinXKXr/vmRqovKiYlxT2IMV2j\n",
       "wD4YoipDM3Y+qhCsEtfllTEK8pFpdpD4Hnjp7JYzkLYI3G0uoHuctDYgzaE9o2PQ2A3cW7YPNCOw\n",
       "pKIb9RZ81205CvQ7LJcxkJ/80H4qzNiLryXSxmUYo2iscrE1fMb2KQxPTkUP3q/Ny6eBPVDQK8lv\n",
       "baqA/tRhkNQ5G13PHRb2wqbQPG7C9oyKfsifwAsnjFlo4yozXO4bZvLgvgv2SqpyZnc/Z/MY72zA\n",
       "DqFp3FZtEynRmz3t2OX4NPWhA2pWudxj+afYs9POv07oFZN2VvFEVO4n1AjVO2Crih7KapN47ZCU\n",
       "g9YuCeO0fSaLm0Sk3Am6nIrh5+OnfKOOyePiMb68TYpjXUA6q6D31Q0tYa/j7wB0mUMvmTm10hI1\n",
       "f3vnD1bGEUjOk/Vv7B2jejJIczcC3W5MKei7oc/Kkq/MwrtY1AlW76IyThyku5Z+A/oS9C0KM16i\n",
       "dxnGTQGfzuDWQFEXW3UEZQPyL0BPXvZtxqvpSGuDgp5MoHveQmCIXlPwSiRaaOaFJyx5j8fPFqH3\n",
       "lX5OFNn/D1+P1Udnyf/n/4G+5pcvlCrZsP6C3m3SwHoOzzpg/AKxgLaswiY9TAAAAABJRU5ErkJg\n",
       "gg==\n",
       "\" style=\"display:inline;vertical-align:middle;\" /></a><br>"
      ],
      "text/plain": [
       "reverseSubsetEq: forall_{A, B | A subseteq B} (B supseteq A)"
      ]
     },
     "execution_count": 14,
     "metadata": {},
     "output_type": "execute_result"
    }
   ],
   "source": [
    "reverseSubsetEq = Forall((A, B), SupersetEq(B, A), condition=SubsetEq(A, B))"
   ]
  },
  {
   "cell_type": "code",
   "execution_count": 15,
   "metadata": {},
   "outputs": [
    {
     "data": {
      "text/html": [
       "<strong id=\"reverseSupset\"><a class=\"ProveItLink\" href=\"_proofs_/reverseSupset.ipynb\">reverseSupset</a>:</strong> <a class=\"ProveItLink\" href=\"__pv_it/17c66dd55ddc2882d0faab9dd3244f23163fe0660/expr.ipynb\"><img src=\"data:image/png;base64,iVBORw0KGgoAAAANSUhEUgAAALoAAAAWBAMAAACF/ptXAAAAMFBMVEX///8QEBCIiIhmZma6urrM\n",
       "zMxUVFQiIiJERETc3Nzu7u6qqqp2dnaYmJgyMjIAAAAcRTyBAAAAAXRSTlMAQObYZgAAAs9JREFU\n",
       "SMetlU1oE0EUx//dpM3udpP2pqCH3OxFUwhE0GADOSiCtHjQmwlUJXqwRQ+lqFjxKxUh8WQvkpUK\n",
       "lgg14EE8tdqDpYpExZPURtRLEVr6/UGp781k2+mHLa4u7OzMvHm/9+a9N7OA6+fhNvLqLFDizrAL\n",
       "uNkB+Ftmwqmbm0lP0XsOeMv9URf0ALmGCjLR0LSJdIzeXqCLPkaHC/onbhJFoLF+o9A/ZgNWEAH+\n",
       "FFzQ27kJ0QZGghJ4p62tzdnG0wYSmLXwD+XzD1zAjVZurxNjhy3Gv7KKtBiKUfsDmEunr7igayIe\n",
       "M8DJ82LsU+Feu49ChgHgDNAppmR7ZHIgJRZ6naX6ip43E410OrOsXjkzXHdZjg+qph8jweH6CsRh\n",
       "iqr0T8nw1cKqFerO0pHYitYH4FW56+NcafPAo6QYt6r0GHK8tRe0DBq7ge4lIfAkUb2g0s2GIrrD\n",
       "4c/cjwB9tpyuYJs6+aEtirAnFXhlc7iFyzBBBVP0iamhS9KnIDwllW49qYeZz8fZmYvAISj0GmJq\n",
       "E87ZWg07iUuSbpROCHvBtJA8a8I+W6Uf16VinBDT0EbVyHC5V01tiAyJfBzdw5zN0zxThf1C0ri3\n",
       "Tm7SoSc9UtFqgnfi422oWeVyT0jjr5ViJXpgXGYVz4X2F4SE6D2wR6X7C9q43G4QVgma46PFkfpG\n",
       "0ztlIgKrJ5KPj075RpSDx8Vjfn+XEcvuAbmCQu+NDi5Ij/qh98NYdGJLZi4sN0fSZap59mhZ0rM8\n",
       "iurMLFn/yd4x1WMjJ44xaTdmFfoBGNPlTaCmAO/8mptALZRB5SaQBldycYz2UDTuwliAsVuJjJfC\n",
       "u+SMczbu96+5xbZ8rKCTozkYmauVu/BmMpyKKfRMB7pmOYHGLVjXwpHVy1zPbkfvXf87Ufq60u9J\n",
       "p2/Ym/w9tn46141f/oHu6s/nX7+54t/Q/+nx/AfGb3O/sH8i0PZmAAAAAElFTkSuQmCC\n",
       "\" style=\"display:inline;vertical-align:middle;\" /></a><br>"
      ],
      "text/plain": [
       "reverseSupset: forall_{A, B | A supset B} (B subset A)"
      ]
     },
     "execution_count": 15,
     "metadata": {},
     "output_type": "execute_result"
    }
   ],
   "source": [
    "reverseSupset = Forall((A, B), Subset(B, A), condition=Superset(A, B))"
   ]
  },
  {
   "cell_type": "code",
   "execution_count": 16,
   "metadata": {},
   "outputs": [
    {
     "data": {
      "text/html": [
       "<strong id=\"reverseSupsetEq\"><a class=\"ProveItLink\" href=\"_proofs_/reverseSupsetEq.ipynb\">reverseSupsetEq</a>:</strong> <a class=\"ProveItLink\" href=\"__pv_it/9d8360b68fedc302476753ede6be8bbb51cdf2750/expr.ipynb\"><img src=\"data:image/png;base64,iVBORw0KGgoAAAANSUhEUgAAALoAAAAWBAMAAACF/ptXAAAAMFBMVEX///8QEBCIiIhmZma6urrM\n",
       "zMxUVFQiIiJERETc3Nzu7u6qqqp2dnaYmJgyMjIAAAAcRTyBAAAAAXRSTlMAQObYZgAAAtZJREFU\n",
       "SMetVU1oE1EQ/rpJ2t1NNvamoIfc7EUrBCJosQEPiiANCrUnE6g/1YMtegiiYgUpW1EST/YiWVFQ\n",
       "KtSgB/HUapGWKhL1KLUR9VKEltb+I3XmvW760mqrSx/s23lv3nwz75vZWcDzuLuOPpgFiiwMewA3\n",
       "2wGrdTracv1P2uP0nAHesDzqAT1MoaGCXNQnxNo6nU6nE652jJ4eoIteRrsH9I88JQtAwy6WjB9Z\n",
       "RWmNOUAogjC/8h7QL/JUS5AjkdJVSuNxPS3NalhD3d13PIAbbTxfI4zNDkt7y7SF2jjN34BZ277s\n",
       "AV0TfEwDx86KdZuq9Du9RBn6gZNAp9iS88HJ/hZxSb97VC/d2Z+pi3W6u2wemB6uuSSvklLRHyDJ\n",
       "dH0G9sMUVWn9lPmoRqhamLtHR+Josu1bLL4HXi7tVnGutDngXsqtz+URR46v9pyOQeMwcP+XUPhS\n",
       "CM6r6Ga9UAfZPAb0OnK7gonVKQ5tYRUzgeZoKx9PUsEUqsTW0AUZUwS+oooeeigYRiM954F9UNA3\n",
       "UdzahFi/UmkndVGiG8VG4S9iC82TBHY6KvoRXV660oE5BW1UZYbLvVIyGlaqmsQqZvcAZ/OEMMZu\n",
       "oWnYUSMT5KKnfPLSVhz+iQ8dULPK5Z6Uzs1Th0rFSujhcZlVPBPWn1ArVO+A7Sq6ldfGZQkmECpC\n",
       "c/kNMV9fiIUtS4kIDLqdgD8fnfKNOiaPi8f8+jYjjt0EcnkFvaducN71pvfBWHC5JTfnFptj9qrv\n",
       "/NHiKIKZGfL+naNjVJ+DnHBM1g1ZBX0PjCkhPKU48vDPlXWCtbtoqY4Ok23BuAFjHsY2hRk/0StK\n",
       "9SjFknNwu6+si605QhE3R7MwMlcCWzEwGW2JK+iZdnTNFJrsjtd0+mo0ttzM9bK2hYF0Wu3AkB24\n",
       "/HeiyPo//D3WHp0r1i/+A33dP5+VXbFR+As69Rm7Axs5fBuA8RuYnbRgQbcVWQAAAABJRU5ErkJg\n",
       "gg==\n",
       "\" style=\"display:inline;vertical-align:middle;\" /></a><br>"
      ],
      "text/plain": [
       "reverseSupsetEq: forall_{A, B | A supseteq B} (B subseteq A)"
      ]
     },
     "execution_count": 16,
     "metadata": {},
     "output_type": "execute_result"
    }
   ],
   "source": [
    "reverseSupsetEq = Forall((A, B), SubsetEq(B, A), condition=SupersetEq(A, B))"
   ]
  },
  {
   "cell_type": "code",
   "execution_count": 17,
   "metadata": {},
   "outputs": [
    {
     "data": {
      "text/html": [
       "<strong id=\"relaxSubset\"><a class=\"ProveItLink\" href=\"_proofs_/relaxSubset.ipynb\">relaxSubset</a>:</strong> <a class=\"ProveItLink\" href=\"__pv_it/67d69fc4067f328a5c2eb0f4e944b9678d50896a0/expr.ipynb\"><img src=\"data:image/png;base64,iVBORw0KGgoAAAANSUhEUgAAALkAAAAWBAMAAABuySBUAAAAMFBMVEX///8QEBCIiIhmZma6urrM\n",
       "zMxUVFQiIiJERETc3Nzu7u6qqqp2dnaYmJgyMjIAAAAcRTyBAAAAAXRSTlMAQObYZgAAAs1JREFU\n",
       "SMetVU1oE0EU/tyfNLtJak8iKBLwoBdtIBBRika8SFFaPPQkGLBCD4rRokFRjCB2W4XEixZEuyK0\n",
       "koMGetGTtSJqFYkVBBE14Ml6aGlsTSO1vpnZTSdtrbg6sPvemzfzvd+ZATyPG3/QP6CvyJgPHsDN\n",
       "NCd6cZHm7dzBmBWHLwu8YPKYB/T6rCATLmYqlToh2NWAOgWT7PaSZKQ9oL8R5GNF0JvPqxp9FtBK\n",
       "wDDZtoFg3gP6KZGfwRkhfpnXKDQVmgRuERnJ5a55ADeSnISUb5yqkoP+BkI+TY7HgbJlnfGArkQ4\n",
       "aQ7MclonqVYmoJ9kKaElh4BuPin+u0uPO3i9tKorWZfTMk2xbne2wBMT1ye5eFVCP3BktIuFEqKy\n",
       "7uLFJV6EGGpAsIFvdxd/ilf3vQYeOWxdXrhglLh4R0JvzMJcRTSQZDEp3I3bIkQ1gUBFRjd3kFpf\n",
       "H40SHwMe2mJ6BbfZFo2VF2XmPLNAxnVq1mBBaEY6xbIw1KKMHhyIwDzcnMsRfxzYDhmdfuvEqvA8\n",
       "+jRDDwt0o9jGmzRscdW9Vmy2ZfR9/jR8rSKMKShjcmYC9B0T8teadsdRsquxtupuZ3M+bOG6lk0b\n",
       "E5DRE2oSe5yqTo5ehFzV6/SNC7m/3ZbaXS87VcUg79z3aOS6V8AGGT2UVybwxElSEUrSTVjE6fmM\n",
       "01L7u5yboJ6aYmcPK+EQa0+WMvPzyww3fhnoy0vod5ueVbDV8XcIxg+3O5MwMz9t3J/rrD0IvvHp\n",
       "aMclboblM8RQVRt9PLm0uyUroW+DMUWBiWOShzZTexMsNwaq3F7aWzB6YFRgrJUyo1F6Z91u7rNx\n",
       "ZWjBLbbMGK7WqAwjc1Zfg6elaEdcQs+k0fu9oPETGjwXjV3A4iPMdanU/A3sHJSFN39A4v2yot+y\n",
       "rKVfj9+PWvPOY7UkupeX793CicLfoP/TUP8Dxi9bSbT1CXT83gAAAABJRU5ErkJggg==\n",
       "\" style=\"display:inline;vertical-align:middle;\" /></a><br>"
      ],
      "text/plain": [
       "relaxSubset: forall_{A, B | A subset B} (A subseteq B)"
      ]
     },
     "execution_count": 17,
     "metadata": {},
     "output_type": "execute_result"
    }
   ],
   "source": [
    "relaxSubset = Forall((A, B), SubsetEq(A, B), condition=Subset(A, B))"
   ]
  },
  {
   "cell_type": "code",
   "execution_count": 18,
   "metadata": {},
   "outputs": [
    {
     "data": {
      "text/html": [
       "<strong id=\"relaxSupset\"><a class=\"ProveItLink\" href=\"_proofs_/relaxSupset.ipynb\">relaxSupset</a>:</strong> <a class=\"ProveItLink\" href=\"__pv_it/a7d5888bcbf914d6caf90769fc59748bbc0a4f5b0/expr.ipynb\"><img src=\"data:image/png;base64,iVBORw0KGgoAAAANSUhEUgAAALkAAAAWBAMAAABuySBUAAAAMFBMVEX///8QEBCIiIhmZma6urrM\n",
       "zMxUVFQiIiJERETc3Nzu7u6qqqp2dnaYmJgyMjIAAAAcRTyBAAAAAXRSTlMAQObYZgAAAtNJREFU\n",
       "SMetVU1oE0EU/tzsJtlkY3MSQZHc9KINRCJI0UguIkiDh3o0oEIuYrRgVBTjf1KFxJMFkaz0UAkY\n",
       "A73oyVgPSisSKwoiakAv9lJJTE0jsc7PbjJJa8XVgZ335s2+7837mTeA5XH7D/sPyVehzHsL4K4k\n",
       "I0plyc6bxYPBVAj2LDBN17MW0FdnOfnKSCGRSFwwt9YCtjpcxO4oWalJC+ivOPnQbEvufeZUaQFy\n",
       "DZgktnVAK1pAP8XjM7HQERW4OxIRearAHUKm8vmbFsDVOCMe6VtHZuTA6SXIp8nBQ0AjlTpjAV3y\n",
       "M7LH3RKEX9jcF4VygoaE/HIYSDMhn3fXnsSYg7Kp4syanJwZCKZNaZkFJqRUBXRWIjhwZOYqjbWH\n",
       "uBJmySU8d9HjheZl6qbKx1Bb+yXw2GAdRX4EtSagb2VzfxauNYS6SfAckNgxxriLtijcTRHdtbOM\n",
       "sUDgNeWDwCOdi1cxm0OBYENA53E/Ty0Q4wopVq3sYLKpYX4mH2wVEV0b98OVz4dpnI8DOyCik2lD\n",
       "B9wdZWSeovs4uloZYvn2pdjW/Qi26CL6Pie/DWHiRh3SrBgZN/mOddD362a54yixK9OySh+iMju2\n",
       "sT8GN2/iJzDRozZee1oEcnXmCsSs3iLfXLs1hNPtclcaRlYxwbTfoZ/tvQA2iuieosTvuuyDVoEU\n",
       "NwPmN2o+kzU6wclpo0WQotg1QlNYouXpo4Y/Pc8wv64DuaKAXhh4xu+6WoKzBPWHWZ1xuDI/dTxY\n",
       "HO6+CPa5+UDsGjMToaejqDYdOboA0R7MCujbodYNJ9BXhLzQ3QlWGuNtbi/xoayOQG1CXS9ERibh\n",
       "bZnrnI4bpZ4utsKYbOeoATVzVlmHp7VALCSgZ5IY/U4TqF6Gdi4QvISlV9jswIlEtOsB6O38boF3\n",
       "CvzdVOqivvzr8fvRbd54rJZDt/Tyve0VlP8G/Z+G7T9g/AI0iLh9jVPL6gAAAABJRU5ErkJggg==\n",
       "\" style=\"display:inline;vertical-align:middle;\" /></a><br>"
      ],
      "text/plain": [
       "relaxSupset: forall_{A, B | A supset B} (A supseteq B)"
      ]
     },
     "execution_count": 18,
     "metadata": {},
     "output_type": "execute_result"
    }
   ],
   "source": [
    "relaxSupset = Forall((A, B), SupersetEq(A, B), condition=Superset(A, B))"
   ]
  },
  {
   "cell_type": "code",
   "execution_count": 19,
   "metadata": {},
   "outputs": [
    {
     "data": {
      "text/html": [
       "<strong id=\"subsetEqViaEquality\"><a class=\"ProveItLink\" href=\"_proofs_/subsetEqViaEquality.ipynb\">subsetEqViaEquality</a>:</strong> <a class=\"ProveItLink\" href=\"__pv_it/2b8ebd9f647677387b5bbfa56d0fee480caadb820/expr.ipynb\"><img src=\"data:image/png;base64,iVBORw0KGgoAAAANSUhEUgAAALkAAAAWBAMAAABuySBUAAAAMFBMVEX///8QEBCIiIhmZma6urrM\n",
       "zMxUVFQiIiJERETc3Nzu7u6qqqp2dnaYmJgyMjIAAAAcRTyBAAAAAXRSTlMAQObYZgAAArxJREFU\n",
       "SMetVU1oE0EU/tzstt38tD2JoEhuetEWAhG0aMSLFKTFQ68G/MtFjRYMimIE0bQKiScLIol4KPSg\n",
       "C73oyVgPLVVkrSCIqAFvRWxpbE0jtb55k10nDbZ19cHum5k3833z3nw7C3i2e2vEn9BTEo0PHsD9\n",
       "aXZGqSHydvloNBNDUw54IfrTHtBbc9LNym7oZCqV6pXtTYBvHn7iHaKemfaA/ka6j1V25pecGzGW\n",
       "AL0MjBF3AQhaHtAvyPqMLqqZsGk0FJoD7pObHBm54wHcTMqCaN/Y71FCLe2EfJEYY0Alk7nkAV3r\n",
       "ZNcdWGKfVEJtcRjnRUloynFggAfl+2D5eYKz1N2tuEnr2a7ogDNqc2FixhxnElfQj5yauiFqHaJj\n",
       "PcCHS22ZYqgdwXZe7kz+FHPXvQae1ZrNltyCWVbkKa0jB/9G8gFKqBkab+OBTNEXR6Cqovv32e66\n",
       "KPC0IJsbmLMvEq00VOaqYCByg8QatJt5bLJf7ikMX0lFDw53uuvOAXuhotNrK3fHFPQFgR6W6Gap\n",
       "j0UaznDoUS92FlT0wy1u1v55aNNqZQL0nJWKtOrkjjPEq4uEBo6JsSbs4ljPju3yhBz0uC+JRIbM\n",
       "hj43dR3qqd6lZ0YSn+hW5W5UaqeKUa7Ze3Rw7BWwTUUPWdqssy5YguYUWMiNNZ+VkjImnJuglUSx\n",
       "f1AcYVHIMyy4P7/MckFuAXlLQX/YNVF191uE+cNRZxL+7M8CHi/3138ITTMLkcRNphFkIYHqKyDP\n",
       "zLS6J6eg74Y5j9NfyWy0WdAX62+C1WzYbR2iHGxzEGYV5halMjqVd8mZlC/gdnHFLbaKuTpqqcDM\n",
       "XjY2Y7wcScQU9GwaQ99rgg9eiUSvofETFjaeSv2+gWsKW3nzB9S7aH1/jz9bPX3tZ7Ve9DX/fO9W\n",
       "Dth/g/5P5vsPGL8ARgi0WRAlBzIAAAAASUVORK5CYII=\n",
       "\" style=\"display:inline;vertical-align:middle;\" /></a><br>"
      ],
      "text/plain": [
       "subsetEqViaEquality: forall_{A, B | A = B} (A subseteq B)"
      ]
     },
     "execution_count": 19,
     "metadata": {},
     "output_type": "execute_result"
    }
   ],
   "source": [
    "subsetEqViaEquality = Forall((A, B), SubsetEq(A, B), condition=Equals(A, B))"
   ]
  },
  {
   "cell_type": "code",
   "execution_count": 20,
   "metadata": {},
   "outputs": [
    {
     "data": {
      "text/html": [
       "<strong id=\"supersetEqViaEquality\"><a class=\"ProveItLink\" href=\"_proofs_/supersetEqViaEquality.ipynb\">supersetEqViaEquality</a>:</strong> <a class=\"ProveItLink\" href=\"__pv_it/1b61b1cbd3acc0dee6acd5ba8600d88afc934ed80/expr.ipynb\"><img src=\"data:image/png;base64,iVBORw0KGgoAAAANSUhEUgAAALkAAAAWBAMAAABuySBUAAAAMFBMVEX///8QEBCIiIhmZma6urrM\n",
       "zMxUVFQiIiJERETc3Nzu7u6qqqp2dnaYmJgyMjIAAAAcRTyBAAAAAXRSTlMAQObYZgAAAsBJREFU\n",
       "SMetlU1oE0EUx//uR5vdJG1PIiiSm160hUAUKRrxIoK0eOhRAyrkokYLTS2KFUSTWsh6siDSiEKh\n",
       "Bw0URE/WelCqyFpBELEGPIg92NKYmlZqfTOzu5m02NbVgd339s2+35t582YG8N1ur9H/mJ4iUz76\n",
       "gJu9XOjFFT3vlo7HMnHUWcBL9j3lg95gCTHDQ31Jp7sjbtcmQC3DpLgD9GX0+qC/FWJywZvMZFwo\n",
       "+iKglYAxip0HQgUf9PMCOTJfzdVXIRUyhWeBOyTGh4dv+oAbKS7Cyveq7agQgSYi99DAaS6VTOaC\n",
       "D7rSwsWh4OKKpWhMQO9iKaFfTgJZbhTvg6VnSf6T5voELFfTcq2xrGu1eTLi+myV7mT42KmJa0wL\n",
       "07Ie4ItLuphiuAmhJu7u+nyKe+5vgKeOWl8QQzBKVboq/my2YG4kGaTk1UPhw7grpqgmEFyQ6eY+\n",
       "23OPAU/yQt3ASR3RWEXKjBCXWQQKrlOxhux6bhvvFGOKQC3K9NBQi+d+DtgLmU6vrVX6QyHmGD0i\n",
       "6EaxgxdpJMO7HrRjZ16mHwl4u8EsQ5mSMxOk56wH13u8cscZiquxssqeYLY67OJ9bTu2JyDTE2oK\n",
       "yQw1G9rsxFXIq3qLnmnXcm+35ZW7XnFWFSO8cj+gmfe9BrbJ9HBBmfFqoggl5eotTs3nLOck6Hf2\n",
       "ZAMVxf4+toSjrDzZ+WB+fpXjCekHBgsS/X7rC2+vB0Zh/HSrMwUz9yuPR0udtRuhbnoumrzOw7Sz\n",
       "0TGqmscg+wB5t1kSfQ+MMk5/o2ajsQBtvvYkWK0NedphmoNt9MFYgLFFyoxG6fV242AeN0aXnWKr\n",
       "tDFvzhUYuYv6ZjwvRZNxiZ7rxcAPp+BDl6KxK1i5hZ28p9NdtRfA8pM/KOmB9d0ef2414d3Lar30\n",
       "NW++98sN9t/Q/6mp/4HxG0fLtXM9XkiMAAAAAElFTkSuQmCC\n",
       "\" style=\"display:inline;vertical-align:middle;\" /></a><br>"
      ],
      "text/plain": [
       "supersetEqViaEquality: forall_{A, B | A = B} (A supseteq B)"
      ]
     },
     "execution_count": 20,
     "metadata": {},
     "output_type": "execute_result"
    }
   ],
   "source": [
    "supersetEqViaEquality = Forall((A, B), SupersetEq(A, B), condition=Equals(A, B))"
   ]
  },
  {
   "cell_type": "code",
   "execution_count": 21,
   "metadata": {},
   "outputs": [
    {
     "data": {
      "text/html": [
       "<strong id=\"transitivitySubsetSubset\"><a class=\"ProveItLink\" href=\"_proofs_/transitivitySubsetSubset.ipynb\">transitivitySubsetSubset</a>:</strong> <a class=\"ProveItLink\" href=\"__pv_it/2f5d982a668fb29c42c4cf949143dd7841e7d8b20/expr.ipynb\"><img src=\"data:image/png;base64,iVBORw0KGgoAAAANSUhEUgAAAPcAAAAWBAMAAADuuhdHAAAAMFBMVEX///8QEBCIiIhmZma6urrM\n",
       "zMxUVFQiIiJERETc3Nzu7u6qqqp2dnaYmJgyMjIAAAAcRTyBAAAAAXRSTlMAQObYZgAAA29JREFU\n",
       "SMe1Vl1IVEEU/tof9d7dq74XtdFDFpTGwvbDkkYvIoVm4FMPwir4ULAVYUXiBmFrBLu9lBC1NwS1\n",
       "pZ8FX/KpzX61qFu9GFFt9WYPiSaZZTVz5t67465WxDpwZ87c+e58Z745Z+YCS1Uu/WV8iD0Zbrwp\n",
       "PLcaocadWWCoInRASRfFgce8O1548tK4aCbyh1Yb8GwyVOZWD+spkcKTvxTN29m8kYHjrKqOY5i5\n",
       "pgPeVOHJjwmFB7+Z/bH29vYjZL1njNgBXAG00WTyQuG5lTA1muOL6F8esUac33m9ly27BpiJRk8U\n",
       "ntxRRU2dZ04WgpcEuXWV6c0grUA3vRV17dTdNhErWlfQwS2X9VlJ3LJcsWAgF07ahtLrTKxBqte4\n",
       "J8Vysxv7zGcaGou4nVApHTQhkFYObzkJ9wHqSZrH+uxdjT3Dc+DOfDhp68OA2SkmNheUKdHNatLZ\n",
       "YBqeMH/vIC97hUDOZngoQhOMakwmV6sZzr3G72d2ALitS/BGv78KCnNfMxNnGTna5A/MUPd8lnwV\n",
       "fccqN8tCryHcGj0sfPTBSUrwQGiUyb39VVD31yWTzD4EbJfgffeSSR3FaTajTyZn1UqRXtLKadUN\n",
       "glzJNNFR5IvS2M0GbOS+OfjykzJ5Y0kERUIzdRqOcQneSnYl+07VJdk97DmYK3s1DxEv3xMeed0t\n",
       "/F0RNtNY/YaKZoLbB49F3uwMY5cZcJMvupCFu9JkH5WinQLuIns+C9V82Wjn5qgZcBik2H+NShp7\n",
       "CqzlbVk6h1xLOSZw39yBDBzhLNwr9PghkfM8olyPiVz4ZI/w5Bvk+jg5Qxl3Rf34JEaKnWW+ccn4\n",
       "BqqGRH4j+GgWW01/0lDorBBwpyDgUXLdSsYw1NhPHbd+iVDqa9Et9t6uEAVEKXdZIzd0JMh/Nmc9\n",
       "n8sZETtjk2+DMs30oVKWgkucmwTXRBZvYU96/vGaLftOW8erVfptazeb0VDOQJmFsoJdNzo6oI5I\n",
       "5C6mwpwVtQkd59jiLbh5fRYbuBbPuVj+UIbtfZ2BEutwL8fDKX8bE2VPCt7QsC6RxyLo+Wq46Fzz\n",
       "dvoDp1iC2PBawfkguB75x+FiF37uTe+xLemeK5ERfdFoNB+utkWjkQV/JhYved4N2dPGFyFfGP4/\n",
       "v1Gvcl8YlqHhX8gNLHlxLtnMvwEhx+r9fYV6YQAAAABJRU5ErkJggg==\n",
       "\" style=\"display:inline;vertical-align:middle;\" /></a><br>"
      ],
      "text/plain": [
       "transitivitySubsetSubset: forall_{A, B, C | A subset B, B subset C} (A subset C)"
      ]
     },
     "execution_count": 21,
     "metadata": {},
     "output_type": "execute_result"
    }
   ],
   "source": [
    "transitivitySubsetSubset = Forall((A, B, C), Subset(A, C), conditions=[Subset(A, B), Subset(B, C)])"
   ]
  },
  {
   "cell_type": "code",
   "execution_count": 22,
   "metadata": {},
   "outputs": [
    {
     "data": {
      "text/html": [
       "<strong id=\"transitivitySubsetEqSubset\"><a class=\"ProveItLink\" href=\"_proofs_/transitivitySubsetEqSubset.ipynb\">transitivitySubsetEqSubset</a>:</strong> <a class=\"ProveItLink\" href=\"__pv_it/75d5149a71cd12eb33a3d28cd094525bd2fb701a0/expr.ipynb\"><img src=\"data:image/png;base64,iVBORw0KGgoAAAANSUhEUgAAAPcAAAAWBAMAAADuuhdHAAAAMFBMVEX///8QEBCIiIhmZma6urrM\n",
       "zMxUVFQiIiJERETc3Nzu7u6qqqp2dnaYmJgyMjIAAAAcRTyBAAAAAXRSTlMAQObYZgAAA2xJREFU\n",
       "SMe1Vl1IVEEU/tof9d69N30vanvKgtJYsB8krV4kCM3Apx4EFXwJtiKsSNygbI1it5cSorwhqC1W\n",
       "gi9JD20WpRZ1qxcjKqs3e0g0ySyrM2fuvXvd1QpaB2bmzD1n5jvzzTkzF1iqcuUv+gGqY0J4k31s\n",
       "NcKdf2wBVWHdASWZEwcei+F49sGXx2U3kalaYyKwyVTJrXYaKZHsg7+U3dvZDE3PcWrK4hgk1wxA\n",
       "68s++DHJcP83azza1NR0hKX3hIgdwDVAH0kkLmUfWwlzp3u+yPHVYVvj/S7afbTtcmAmGj2RfXBP\n",
       "MXe7A3NuIkTpYLeuE99k0gC08VfZVkzdb5SxoreWeoTks6flxW3JFystSTdnbuuS6yxbk1kv90/K\n",
       "7aYO9lnQEnSKuF1QOR10SZBeAK2AifsA9SSvY097Rzz1RqOtJD4H7s03Z26D6LEGuYzmgzIlhylO\n",
       "WqosIRAW3z3sZackyFuLAEdoB0GNusHVMhP+01IuAe4aLvPqUKgYCrmvW4mzrFy0NaGSGR5eTIGv\n",
       "5nnU+CkLNVO6NXJY+hiEl5kQgVDtBte6ix35ELDdZd71IJEwkJukFYNucGpWyfRy7Zx3XSXBlbEa\n",
       "voqCUdbdqsJG4ZtHbD/hBq/Oi+CORcI0POMu8waWi2iearhoD1A9mE57mQgRTZyJiLy2evEtB5tZ\n",
       "V7mhsJbNnYvHBq/1hrHVCrjJF61ImfuSLB91RTsH3GWqnyVrwVS0C3HECjj0c+y/RhHrngJrRZ+f\n",
       "TAPX+zwTsLJVG4MnnDLXZAz9cIGLPOJcj8lc+ORoRPL1C368AiFfuKJ+fBJjxs6Rb4IycYCq6QK/\n",
       "WTo0i52WP0kofFdIc68EEFFyw07GMNTYTwO3f8lQ6qo3bPTO1joOiOXCZZ3dMNDB/tOalWItb0Se\n",
       "jAO+Dcq0ner5ffDJe5PNdZnFW6gm51+vqbL/jH292qXbkfbQiqZyFsoslJX03BhohjrsAvcRC3NQ\n",
       "zzN6h4ELtHnb3Ho+c030xtMelj+UQedcZ6DEmv0r8Ggq1Eik7O2DVjdouMBjEbR/pbdwiC4ZrSVU\n",
       "cooSxDGvkJgPS9cj8zpc7MFPf+kDjuR65/IWne+Yq43RaGTBn4nFS4Z3A86y8X8BH/if36hX6R9M\n",
       "W9CxMHh7lEqm+dIV75Kt/BsENe2Y0EsQnwAAAABJRU5ErkJggg==\n",
       "\" style=\"display:inline;vertical-align:middle;\" /></a><br>"
      ],
      "text/plain": [
       "transitivitySubsetEqSubset: forall_{A, B, C | A subseteq B, B subset C} (A subset C)"
      ]
     },
     "execution_count": 22,
     "metadata": {},
     "output_type": "execute_result"
    }
   ],
   "source": [
    "transitivitySubsetEqSubset = Forall((A, B, C), Subset(A, C), conditions=[SubsetEq(A, B), Subset(B, C)])"
   ]
  },
  {
   "cell_type": "code",
   "execution_count": 23,
   "metadata": {},
   "outputs": [
    {
     "data": {
      "text/html": [
       "<strong id=\"transitivitySubsetSubsetEq\"><a class=\"ProveItLink\" href=\"_proofs_/transitivitySubsetSubsetEq.ipynb\">transitivitySubsetSubsetEq</a>:</strong> <a class=\"ProveItLink\" href=\"__pv_it/e1a202095e4ff8045ea57d3708101f8e873a82ef0/expr.ipynb\"><img src=\"data:image/png;base64,iVBORw0KGgoAAAANSUhEUgAAAPcAAAAWBAMAAADuuhdHAAAAMFBMVEX///8QEBCIiIhmZma6urrM\n",
       "zMxUVFQiIiJERETc3Nzu7u6qqqp2dnaYmJgyMjIAAAAcRTyBAAAAAXRSTlMAQObYZgAAA3RJREFU\n",
       "SMe1Vk1oE0EUfm6StrvJtr0rGvFgFbSVQPwh2IoXKUprheLBQyAVelCIilTF0ghStyIkXrQgmpVC\n",
       "W4M/gV4sCMaK2lbRVS8toka91YOltVirVd+82Z8xaVQkHdiZN/u+ne/NN29mFmCxyuW/+AfxyTLj\n",
       "dfG5lRg1nuwCrqrIQTlTkgB4zLoTxScvT/BmMt+10gDvBkPBsLqxJ8eKT/6SN2/m8jz9J7CqTcAQ\n",
       "hqYD+NLFJz/OFR74avbH2trajpL1DhlhG8BVAHU0lbpYfG45So0qfeb9KyOWx/WN1Xtw2nUAs5p2\n",
       "svjkUg019d55UQhWkhTWNdQbIfsBuugtr3dM32/luaJ2hiRmua3PyhKW5Y6Hgrlw0jaSWWNiDVK9\n",
       "zjPFp+ss7DO/aaiYcdtBoe2gcoHUSvBVknDvQTlF41ifva2zR3gOcE+AK8OaFkZt/dBfyQGlxOYG\n",
       "eZp3HU06Gk3DG2XvJYqyhwvkCoOXMjSJVGMiuVKLOM+qQADtIMBd3YHvpQFlDF81N84SCrQ5EJyl\n",
       "7gWHfAV9h5UHd6HP4GGNHuEx+sFFSrBEaBLJfX01oByoT6XQPgywVYBzxtIMjugXybFazreXMHOa\n",
       "dSMnl7PNdBT5NfLdaoT1LDaJTT8lkjeVxaCEa6bMgDThwL18RavxO0UXZPficyhX9lqWIj62Jizz\n",
       "ulrYuxLYSL6GdVVhgtsHj0UedkVhp5lwUy86wYG7eModE7KdEu4SPp+4an4n25k5aiYcDFDuv4Jq\n",
       "8j0FWM3aikwOuZqWJuGBuQJZkKIO3MfJvwvkbB/RXo9z30fbwzbfANPHxRgqWCjKhydxUuwcxpY2\n",
       "F1AxBPKboeE52GzGkwGZzgoOd/N5sSy5YW3GKCjxHzrc/slTqbdFt9h7OiOUEOVsCVUKQ4ckrSeO\n",
       "2cCCdcX4ytjkW0CeQX2oVKTBzc9NDud7fhM+md+PV6fsO2Mdr1bps61dOKIhnwV5DuRleN3o0A7K\n",
       "iEDuRhXmraxN6nAeJ2/D+8cpTQy4nsi5WP5Qhux1nQU53u5ZCo+mA60oyu40+CJDukAej0H3F8NN\n",
       "c/R1BIKncYPYcLhDh8zD0FrIPw4LXfi5N73XtoR7rkxE9GqatgC84M9E4ZIX3aA9bKIA+cLw//mN\n",
       "Gs99YViGCv9CbsFllENbhB8SlveL9o/5C/5e7NX/o4ROAAAAAElFTkSuQmCC\n",
       "\" style=\"display:inline;vertical-align:middle;\" /></a><br>"
      ],
      "text/plain": [
       "transitivitySubsetSubsetEq: forall_{A, B, C | A subset B, B subseteq C} (A subset C)"
      ]
     },
     "execution_count": 23,
     "metadata": {},
     "output_type": "execute_result"
    }
   ],
   "source": [
    "transitivitySubsetSubsetEq = Forall((A, B, C), Subset(A, C), conditions=[Subset(A, B), SubsetEq(B, C)])"
   ]
  },
  {
   "cell_type": "code",
   "execution_count": 24,
   "metadata": {},
   "outputs": [
    {
     "data": {
      "text/html": [
       "<strong id=\"transitivitySubsetEqSubsetEq\"><a class=\"ProveItLink\" href=\"_proofs_/transitivitySubsetEqSubsetEq.ipynb\">transitivitySubsetEqSubsetEq</a>:</strong> <a class=\"ProveItLink\" href=\"__pv_it/fede42784162314f311c368fa259095e27fb4d5c0/expr.ipynb\"><img src=\"data:image/png;base64,iVBORw0KGgoAAAANSUhEUgAAAPcAAAAWBAMAAADuuhdHAAAAMFBMVEX///8QEBCIiIhmZma6urrM\n",
       "zMxUVFQiIiJERETc3Nzu7u6qqqp2dnaYmJgyMjIAAAAcRTyBAAAAAXRSTlMAQObYZgAAA3hJREFU\n",
       "SMe1Vl1IVEEUPt27q96/9L2o7SkLSkPYfljS6iWC0Aykhx4W1sCXYEtiKxI3qG2NYreXEqL2hpAm\n",
       "Vgu+JAVtBqUWdSsIJaqtnrKHRJPMsjpz5v65/gWtA3fmzJ0z8505850zA7BY5coC4z34ZZnwNv/Y\n",
       "cpQab3aWodLQQSlTkAR4wrrD+QdfmuTNiNl/HYlEjnBxlQHKBkNGs1qxJ0XzD/6KN+8meXu13x7p\n",
       "OI5VZRJ60TQdQE3nH/wY93D3D9797Ix8QETYBnANQBvo7LyUf2wpTI0mfKNWdLYn/mT1Xtx2FcBE\n",
       "PH4i/+BCOTW7lClqC52RFJl1A/2NKgcAWugvr3eOPWzgXNFiAYFJHmtaUdKSPImAP1edlcFQZo2p\n",
       "a5DXq7yj1L3ogD/3mYKGjNsBMoWDxh2klYBaQo77CPJJWsea9h791BWPx1B8AfDApS73xeNBZJUP\n",
       "Okq4biH52QPSGCeZA95cYwpKmHlEICvbuIPEICjE0BRCDbrB5UoDvKe57Ae4rzvq+2hBCc3XzMBZ\n",
       "UsXqugr/RK7bV9I8rLwYharBRwYauZoPRPIEI0KtG1xtL7flwwBbXeocsTCDK/rc4Fit4HN9zs5p\n",
       "1zUcXMrWUSryxWnsdg2sZ7YJbPudbvDaoijcNZ0wDsKwo65wLpfhPFl3uV3B7xDvf7HBKxlFVHYm\n",
       "jHkt9exfAWyksep1pUGabSceCzwohmGzSbjRlzFw1EVOuaMuthPhLuP3lfev1+sW25kTBkzCQTdx\n",
       "/w2U0dgzgNWsLc7kgGtpYQTMPKVmQQg76ioH/+UCZ3FEsZ4wY2H/GTO9suDrZpaIDKGYmSJ/epog\n",
       "286hbWnzAGXDBX4r0DcJ2017MiBRruDqHn6ijCU3rWAMg5z4rcOdP425KaAtFiJCLGUs1cgMHVJE\n",
       "WVyzmhkrRvnJ2OBbQBq3Qr04DR6eN7k6j/lN+GWmp9f5Srst7cYVDeksSJMgLcfrRocmkPtd4B70\n",
       "whTI5wk9pcMF3Lyt3jFENDGgK5lzscxTeu1znQAp0eRdBo/HKhrQKXvSoIZ6dRd4Igqt3/Eu7MMk\n",
       "ozZX+E9hgNjqcI+SzKPAWpiZDokCkYhzpZoRk3vTK7bkuueK5rRdWfgxMXeZbp35tOHLJv8FvOd/\n",
       "nlFDuT8MS9BgdvDWOJYZ6hL7uwgPEsb7RXtj/gWHMvKyA0iD+AAAAABJRU5ErkJggg==\n",
       "\" style=\"display:inline;vertical-align:middle;\" /></a><br>"
      ],
      "text/plain": [
       "transitivitySubsetEqSubsetEq: forall_{A, B, C | A subseteq B, B subseteq C} (A subseteq C)"
      ]
     },
     "execution_count": 24,
     "metadata": {},
     "output_type": "execute_result"
    }
   ],
   "source": [
    "transitivitySubsetEqSubsetEq = Forall((A, B, C), SubsetEq(A, C), conditions=[SubsetEq(A, B), SubsetEq(B, C)])"
   ]
  },
  {
   "cell_type": "code",
   "execution_count": 25,
   "metadata": {},
   "outputs": [
    {
     "data": {
      "text/html": [
       "<strong id=\"transitivitySupsetSupset\"><a class=\"ProveItLink\" href=\"_proofs_/transitivitySupsetSupset.ipynb\">transitivitySupsetSupset</a>:</strong> <a class=\"ProveItLink\" href=\"__pv_it/05cfacf8ea95c06805e66d56bd7903e9ec81072e0/expr.ipynb\"><img src=\"data:image/png;base64,iVBORw0KGgoAAAANSUhEUgAAAPcAAAAWBAMAAADuuhdHAAAAMFBMVEX///8QEBCIiIhmZma6urrM\n",
       "zMxUVFQiIiJERETc3Nzu7u6qqqp2dnaYmJgyMjIAAAAcRTyBAAAAAXRSTlMAQObYZgAAA3JJREFU\n",
       "SMe1Vk1oE0EU/kzSJrvZbb0rGk9WQa0Eoki01YKIIFYFvRaioIJQ7aEqihG1RFESTxb8yUoFa/An\n",
       "0Iu9aKzUnyq6KkJF1Kone1FaxfrvmzfZ7SRpVSQd2Jk3M2/me/PNe28WmKhy+i/z3fQNCOFF+bH1\n",
       "ODcVA2NM1cS2abnKFHBPdAfLD16Vks2H0qkZNoLzbZ3MaqeeFi8/+BPZvPxaMtO5m6q6FHrINAsw\n",
       "suUH3yUZ7vrC7YbW1tZj+ZnXhIilwFnA7MtkTpQfW2vmxvR8dIdOvePG+03U6+jY9cBIIrGn/OCe\n",
       "Wm5WBn+MjskzptmsC8Q3qWwCDvOorFcM39wsfcVsi3qE5HMWB1KO5EtGI8XqovTHcrPyujazXl8x\n",
       "NAoeZIMehvJdkzyuATqHgykJMifDmMzEvYG+n/dxFr+qd/d5BNwoVBflTAid+Y6f3cgHbVihg8+8\n",
       "r9Gxhbp+eNjKDkmQtwlB9tA0QfWr4HqdjY5w+KmQI8B1y1XXw+HFtKVG5pv5wJnEhq4PR0YU8C2i\n",
       "ms7rqKqgKDRsP8/0tUiTQ/AyE8IR1qrgxvla6JlMgyBvB7BEUc9kzoVJztGOIRWcqmkK+BE+OZ+6\n",
       "UYJrA+s5FYUSrHClEXOFbR5x/IwKvjYgT9VAJHyCZ7BAHb5azCNBtxTag/RtL6a9TriIIVaI7uGN\n",
       "YqwSC1hh9ZyaJl7tJh4HvMkrw8dohG/ocRsK1IFe7FRw2OFO0vdeiYAcX6fgpi/vcOjiPZ9jHms8\n",
       "AGaKtjpXBG5mPTJV+kIwBuBpLlAHluG7Ai7iiGM9ORoL16SfkW91CX68AqFamKK/vZ9kxo6SbYIy\n",
       "cYG6rYBfjt6RqVLLIZCDxrnCVaccwl5yyQnGZujJnxau/mpx/HX5Vil0tMXYIaqE25tshoU0xwDt\n",
       "uVoY643Lm3HBF0H7lKcA1Vn4ZN501AV1C6nOFaZXp1B63dlblIfOu9IqYsDWjkD7Cm0qPTcW9kK/\n",
       "q4D7iIUfTj9t4Tgd3lUXJQ6/jYupooflD6XHvdcRaMm9FVNwezi8mUhZk4UR67EU8GQc7Z/FNWiH\n",
       "YOwLRw5SgLjqVNqJt1vR2ShNh+M9+MUvfdCVlHcuoD6HicQBq0RdTyQSi8b+mRi/lFjX7W6bGht8\n",
       "HPX/+Y16VjxgO4KJfwG3MeHFO2E7/wYXKeoMwY2ocwAAAABJRU5ErkJggg==\n",
       "\" style=\"display:inline;vertical-align:middle;\" /></a><br>"
      ],
      "text/plain": [
       "transitivitySupsetSupset: forall_{A, B, C | A supset B, B supset C} (A supset C)"
      ]
     },
     "execution_count": 25,
     "metadata": {},
     "output_type": "execute_result"
    }
   ],
   "source": [
    "transitivitySupsetSupset = Forall((A, B, C), Superset(A, C), conditions=[Superset(A, B), Superset(B, C)])"
   ]
  },
  {
   "cell_type": "code",
   "execution_count": 26,
   "metadata": {},
   "outputs": [
    {
     "data": {
      "text/html": [
       "<strong id=\"transitivitySupsetEqSupset\"><a class=\"ProveItLink\" href=\"_proofs_/transitivitySupsetEqSupset.ipynb\">transitivitySupsetEqSupset</a>:</strong> <a class=\"ProveItLink\" href=\"__pv_it/436d5868709c3279ebd0d3a329efaabfa0c5fe490/expr.ipynb\"><img src=\"data:image/png;base64,iVBORw0KGgoAAAANSUhEUgAAAPcAAAAWBAMAAADuuhdHAAAAMFBMVEX///8QEBCIiIhmZma6urrM\n",
       "zMxUVFQiIiJERETc3Nzu7u6qqqp2dnaYmJgyMjIAAAAcRTyBAAAAAXRSTlMAQObYZgAAA3NJREFU\n",
       "SMe1Vl1IVEEU/rq7pvfuXvW9qO0pC0pjwUIst4KIIDQF81GwwILA8kGLxA1iuUqx21NCP94w0JZ+\n",
       "JF/ypTbDfizqVi9GVFZP+VJoktnvmTN7r3d3tYLWgZk5c+eb+c6cOefMBRaqnPvL/CDVMSG8yj63\n",
       "FuYuZ2yOqaKGA2picQx4KIbj2SfPj8nuU+bUCgu+dZZGanXRSA1nn/y57F7PZMz0HaGmIoYhUs0E\n",
       "/P3ZJz8sLTzwlfvdLS0tJ5Mzb4kRm4ELgD4Sj5/OPrfaxJ2ufHY+nf3AneebaGvo2CFg2jCOZp9c\n",
       "KeFuh+/H7Dd5xm5W6xLZmyB7gQ7+Ktvtk3capa/okXJFSF57cV7MlrzR8tJ0uCijDYlVSazFVg/l\n",
       "TMyS+1ihJ4HkUCeP2wqNw0GXBtIL4S9kw72Ddoz3sRe/CaHOMPjqngK3U+GinA+gLznIZTfyQp10\n",
       "mYPP3F5l60LDXCisZY80kKcePvbQbrqSUTe5VsE4nwiNUuCW6cC1YHAjbamS+noycBaFRFsbLJ12\n",
       "ke8TzXJeR00ORaHfyuWZkWapcgAetoRwhGo3ub9X3mMt1UPAJhc8Hr8YJDlBOwbc5NQsc5F38sn5\n",
       "BFWSXB2r5VQUMBhwrQprhW6KOH7cTV6dJ0+12IQ2BWU8BQ5vCYpJ0EyX2X1UD6abvUK4iF+sEMOO\n",
       "Pbwl1jOgck1RPa92Eo9NXu9Jhk8I3olnEaTAgWG0unjY4c5Q/eiKgARfp7DNSNLhMMB7vkQxIx4D\n",
       "K0VfkEgj1/sVmSqVKvjHoDSlwIEt+O4iF3HEsR6djYWb0s/ItwaEfTyCoUCoor1/FGWLnSDdhMnE\n",
       "BWqWi/xq+f0ZW5m8BFTOFQ6ccgh7yRU7GJugRX+auPGr2fbXbful0BNpYIfIF26vsxomujkGaM9K\n",
       "oawnLG/GIS+DOsXCddK3H16ZN224MN0GahOp6dUulF5bh9PyUK8j7aQdLbUT6gzUpfTcmGiD9sBF\n",
       "7iUrcDDWkEG7TZyiwztwUcLItXA5lvaw/KEMOfc6DTXalrME9yaDjWSUXf3wNwyZLvJoGF1frDoj\n",
       "QgfwtwdLj1OAOHAqXWS3u+WrkZkO53vw0196nyO53rm8edfbcM0wjLK5fybmLxnaDTrbxv6FfPB/\n",
       "fqNepH+wbEHH3OSU241IJnzhimfBdv4N8OHqnPSgEnMAAAAASUVORK5CYII=\n",
       "\" style=\"display:inline;vertical-align:middle;\" /></a><br>"
      ],
      "text/plain": [
       "transitivitySupsetEqSupset: forall_{A, B, C | A supseteq B, B supset C} (A supset C)"
      ]
     },
     "execution_count": 26,
     "metadata": {},
     "output_type": "execute_result"
    }
   ],
   "source": [
    "transitivitySupsetEqSupset = Forall((A, B, C), Superset(A, C), conditions=[SupersetEq(A, B), Superset(B, C)])"
   ]
  },
  {
   "cell_type": "code",
   "execution_count": 27,
   "metadata": {},
   "outputs": [
    {
     "data": {
      "text/html": [
       "<strong id=\"transitivitySupsetSupsetEq\"><a class=\"ProveItLink\" href=\"_proofs_/transitivitySupsetSupsetEq.ipynb\">transitivitySupsetSupsetEq</a>:</strong> <a class=\"ProveItLink\" href=\"__pv_it/5bd94701001dc2614771eb1c89744487f9a6a72f0/expr.ipynb\"><img src=\"data:image/png;base64,iVBORw0KGgoAAAANSUhEUgAAAPcAAAAWBAMAAADuuhdHAAAAMFBMVEX///8QEBCIiIhmZma6urrM\n",
       "zMxUVFQiIiJERETc3Nzu7u6qqqp2dnaYmJgyMjIAAAAcRTyBAAAAAXRSTlMAQObYZgAAA3VJREFU\n",
       "SMe1Vl1IFFEU/tofdWZn1PeitofIgtJYsAhJQ4gIQjOw1wULTAosH7RI3KhklGK3p4R+nPBBW/oR\n",
       "fNGX2oz+LGr6AyMqq6d8KTTJLKtzz90ZZ1etiPXC3HN/zr3fud8959wBFqqc/8v8AH0jovE689hq\n",
       "hIV/ZI6pgpr9SiIrBjwQ3dHMg+fGpPg8e2q5hcA6SyWzOqinRDIP/kyKN1OzZnoOU1UawyCZZgJa\n",
       "b+bBD0mG+76x3NXY2HgqOfOOELEZuAjoQ/H4mcxjK/UsdM8XZ+jcRxbe76LeSccuAyYN40jmwT1F\n",
       "LLYFpmfG5Bk72axLxDep7AHaeFTWW8dv1Upf0VtLPKLlsxfnxOyWL1pSnK4uynBNYlVS12LWy/xj\n",
       "M+ABNuhxMNnVyePKoXI46JIgPR9aPhP3HupR3sde/LbM2ecJcHNG3W8YhgC7EERPvlTIZjfyQRl3\n",
       "0cFnbqm0baFuNjxsZZckyBtGgD20k6CG3eBqqYWuUOiFaBcDN8wU9X4yl8zXk4GziA2tDhVPusD3\n",
       "imoZr6PKT1GoWdk8M9QgTQ7Cy0wIR6hyg2vdRVDj8XJB3kFgU6q6P4zsBImgG5yqpS7wdj45n7pS\n",
       "gisj1bw4aLDCtUqsFbZ5xHnibvCqHHmqciJhAp7RFHWgDoXUUE0X7QH6DqTTXipcRBN3Irptu8VY\n",
       "FtazQsWagjCvdhKPDR72yvDRKuEbe9qKFHXgOZpcOOxwZ+n75IqABF+n4GYo6XDo4z1foZA1HgEr\n",
       "hcxLpIHrvR6ZKn1BaCPw1KeoAyvwwwUu4ohjPToTC9eln5Fv9Ql+vAIhT5iifngYZcZOkm2CMnGB\n",
       "quUCv1pyT6ZKJYGcBBTOFY46EGEvuWIHYz3U6E8T/b8abH/dUicbXa017BC5wu11NsNEJ8cA7Vkh\n",
       "jPVG5M044BuhTCQpQF4vfDJv2uoIBLGBRCI1vdqF0mvT7bQ81O20thMDltIOZQrKEnpuTDRDve8C\n",
       "9xEL03a/08RpOryjTv4aIrIsXI6lPSx/KIPOvU5CiTb7F+PueKiWSNnRC61m0HSBRyPo+CquQTkB\n",
       "rSVUfJwAbXVKMvsEbXdKVmN2OpzvwU9/6QNOy/XO5bifQ8M4Zs6hPu/PxPxllnUDzraxucHnUf+f\n",
       "36iX6QOW3dDxL+C2usjtRnhB/gS9C/aP+RunuOsU8/H3vwAAAABJRU5ErkJggg==\n",
       "\" style=\"display:inline;vertical-align:middle;\" /></a><br>"
      ],
      "text/plain": [
       "transitivitySupsetSupsetEq: forall_{A, B, C | A supset B, B supseteq C} (A supset C)"
      ]
     },
     "execution_count": 27,
     "metadata": {},
     "output_type": "execute_result"
    }
   ],
   "source": [
    "transitivitySupsetSupsetEq = Forall((A, B, C), Superset(A, C), conditions=[Superset(A, B), SupersetEq(B, C)])"
   ]
  },
  {
   "cell_type": "code",
   "execution_count": 28,
   "metadata": {},
   "outputs": [
    {
     "data": {
      "text/html": [
       "<strong id=\"transitivitySupsetEqSupsetEq\"><a class=\"ProveItLink\" href=\"_proofs_/transitivitySupsetEqSupsetEq.ipynb\">transitivitySupsetEqSupsetEq</a>:</strong> <a class=\"ProveItLink\" href=\"__pv_it/f21c90b247d8dafa8be25397b4891a23d4b5ae780/expr.ipynb\"><img src=\"data:image/png;base64,iVBORw0KGgoAAAANSUhEUgAAAPcAAAAWBAMAAADuuhdHAAAAMFBMVEX///8QEBCIiIhmZma6urrM\n",
       "zMxUVFQiIiJERETc3Nzu7u6qqqp2dnaYmJgyMjIAAAAcRTyBAAAAAXRSTlMAQObYZgAAA3VJREFU\n",
       "SMe1Vk1oE0EU/twkJrubtb0rGg9iFfyjEEWCjQgigrS2UD0GqqCiUO2hKooRJKyiJJ4s+NOVHlqL\n",
       "P8Ve2ovGin9VdP05VEStetKL0lqs9ffNm+x2k7QqmA7svJmdN/O9+ea9NwNMVTn7l/Fe+gZF42Xp\n",
       "sbUki8DgBEMVDbvU7PQMcF90P5QefEZGik/FQ3Nt6MtsjcxqoZ6aLD34UylejRWNdOynqiqDPjLN\n",
       "AsJdpQffJxnu/spyU3Nz84ncyBtCxGrgPGD0d3aeKj222sjCUD67v868Z+H7Juo62nYcGDXNA6UH\n",
       "V5ayWK//GP8n99jKZl0gvkllK3CU/8p63fDNbdJXjFRMES2/MzmUcVr+dCxaqC7KQEN2QU7XZtbj\n",
       "gaFxcJ0NehTJdQ3yuDXQOBwMSZBRjnA5E/cW2mFex5n8Oo7NpslH9xi4Ma4eME1TgJ2LoKNc6gbZ\n",
       "jfxQhz108J4P1Ti2UDcIha1skwT5EtDZQ1vpSAa84FoV6+kiNKLAdStPvYfMJfONXOBMi4u6vjI6\n",
       "6gHfLqo5PI+qAEVh2A7ySH+TNDkCHzMhHKHWCx5ul+dYT98eYFW+eiCBYJZExAtO1WwP+DHeOe+g\n",
       "RoKrg/U8OWKywpUaLBa2KWI/nV7w2pDc1XQL2giUD3nqwA4soYZmeWjX6dtdSHuVcJGwOBPRPbqF\n",
       "l8RyVqheVJHg2W7iccATvlz4xOEfepJCnjrwDHs9OOxwp+n76ImALB+n4KY/53Do5jVfYAlrPATm\n",
       "C1mWLQA3uhSZKpUahAehNOapA/Pw3QMu4ohjPT0eC9ekn5FvdQt+fAKhTJiivXuQZsaOk22CMnGA\n",
       "mu0Bvxy7O+YYE8pC5VzhqgNJ9pJLTjA2Qkv/tNDzq8nx17U7ZKMt1cAOMUO4vcFmWGjlGKA1q4Wx\n",
       "vqQ8GRd8JdQRblwle7vgl3nTUYcewQoS2fz06hRKr3tvFeShdre1gVa01WNQx6DOouvGwkFo9zzg\n",
       "fmKBg7GOCG21cJI276qTv1YSWTYuZgoulj+UPvdcR6GmDwZm4s5w5TYiZWMXwg19lgc8nUTLF3uz\n",
       "maINhA9VRo8QoKNOSWanoO12bCGK0+FkF37hTa+7Lc89F5p0vv73x8Tkpci6XnfZzL+A9/7PM+p5\n",
       "4Q/baRiYGJxyu5kqUhe53UxMyUvQN2VvzN+Bf+ukxIh+SwAAAABJRU5ErkJggg==\n",
       "\" style=\"display:inline;vertical-align:middle;\" /></a><br>"
      ],
      "text/plain": [
       "transitivitySupsetEqSupsetEq: forall_{A, B, C | A supseteq B, B supseteq C} (A supset C)"
      ]
     },
     "execution_count": 28,
     "metadata": {},
     "output_type": "execute_result"
    }
   ],
   "source": [
    "transitivitySupsetEqSupsetEq = Forall((A, B, C), Superset(A, C), conditions=[SupersetEq(A, B), SupersetEq(B, C)])"
   ]
  },
  {
   "cell_type": "code",
   "execution_count": 29,
   "metadata": {},
   "outputs": [
    {
     "name": "stdout",
     "output_type": "stream",
     "text": [
      "Theorems may be imported from autogenerated _theorems_.py\n"
     ]
    }
   ],
   "source": [
    "%end theorems"
   ]
  },
  {
   "cell_type": "code",
   "execution_count": null,
   "metadata": {},
   "outputs": [],
   "source": []
  }
 ],
 "metadata": {
  "kernelspec": {
   "display_name": "Python 3",
   "language": "python",
   "name": "python3"
  }
 },
 "nbformat": 4,
 "nbformat_minor": 0
}
