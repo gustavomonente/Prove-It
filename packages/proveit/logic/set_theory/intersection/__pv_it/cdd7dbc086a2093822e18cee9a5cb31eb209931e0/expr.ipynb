{
 "cells": [
  {
   "cell_type": "markdown",
   "metadata": {},
   "source": [
    "Expression of type <a class=\"ProveItLink\" href=\"../../../../../../../doc/html/api/proveit.logic.Equals.html\">Equals</a>\n",
    "=======================\n",
    "# from context <a class=\"ProveItLink\" href=\"../../_context_.ipynb\">proveit.logic.set_theory.intersection</a>"
   ]
  },
  {
   "cell_type": "code",
   "execution_count": 1,
   "metadata": {},
   "outputs": [],
   "source": [
    "import proveit\n",
    "# Automation is not needed when building an expression:\n",
    "proveit.defaults.automation = False # This will speed things up.\n",
    "proveit.defaults.inline_pngs = False # Makes files smaller.\n",
    "# import Expression classes needed to build the expression\n",
    "from proveit._common_ import A, B, C, D, x\n",
    "from proveit.logic import Equals, Intersect, NotInSet, Or"
   ]
  },
  {
   "cell_type": "code",
   "execution_count": 2,
   "metadata": {},
   "outputs": [
    {
     "data": {
      "text/html": [
       "<strong id=\"expr\">expr:</strong> <a class=\"ProveItLink\" href=\"expr.ipynb\"><img src=\"expr.png\" style=\"display:inline;vertical-align:middle;\" /></a><br>"
      ],
      "text/plain": [
       "expr: (x not-in (A intersect B intersect C intersect D)) = ((x not-in A) or (x not-in B) or (x not-in C) or (x not-in D))"
      ]
     },
     "execution_count": 2,
     "metadata": {},
     "output_type": "execute_result"
    }
   ],
   "source": [
    "# build up the expression from sub-expressions\n",
    "expr = Equals(NotInSet(x, Intersect(A, B, C, D)), Or(NotInSet(x, A), NotInSet(x, B), NotInSet(x, C), NotInSet(x, D)))"
   ]
  },
  {
   "cell_type": "code",
   "execution_count": 3,
   "metadata": {},
   "outputs": [
    {
     "name": "stdout",
     "output_type": "stream",
     "text": [
      "Passed sanity check: built 'expr' is the same as the stored Expression.\n"
     ]
    }
   ],
   "source": [
    "# check that the built expression is the same as the stored expression\n",
    "%check_expr"
   ]
  },
  {
   "cell_type": "code",
   "execution_count": 4,
   "metadata": {},
   "outputs": [
    {
     "name": "stdout",
     "output_type": "stream",
     "text": [
      "\\left(x \\notin \\left(A \\cap B \\cap C \\cap D\\right)\\right) = \\left(\\left(x \\notin A\\right) \\lor \\left(x \\notin B\\right) \\lor \\left(x \\notin C\\right) \\lor \\left(x \\notin D\\right)\\right)\n"
     ]
    }
   ],
   "source": [
    "# Show the LaTeX representation of the expression for convenience if you need it.\n",
    "print(expr.latex())"
   ]
  },
  {
   "cell_type": "code",
   "execution_count": 5,
   "metadata": {},
   "outputs": [
    {
     "data": {
      "text/html": [
       "<table><tr><th>&nbsp;</th><th>core type</th><th>sub-expressions</th><th>expression</th></tr>\n",
       "<tr><td>0</td><td>Operation</td><td>operator:&nbsp;1<br>operands:&nbsp;2<br></td><td><a class=\"ProveItLink\" href=\"expr.ipynb\"><img src=\"expr.png\" style=\"display:inline;vertical-align:middle;\" /></a></td></tr>\n",
       "<tr><td>1</td><td>Literal</td><td></td><td><a class=\"ProveItLink\" href=\"../../../../equality/__pv_it/e16d2caa26a16688b658bdb9c422caf4b84579e10/expr.ipynb\"><img src=\"../../../../equality/__pv_it/e16d2caa26a16688b658bdb9c422caf4b84579e10/expr.png\" style=\"display:inline;vertical-align:middle;\" /></a></td></tr>\n",
       "<tr><td>2</td><td>ExprTuple</td><td>3, 4</td><td><a class=\"ProveItLink\" href=\"../a0ed1d1d10713422e8cb45cbb213ed937998d9a20/expr.ipynb\"><img src=\"../a0ed1d1d10713422e8cb45cbb213ed937998d9a20/expr.png\" style=\"display:inline;vertical-align:middle;\" /></a></td></tr>\n",
       "<tr><td>3</td><td>Operation</td><td>operator:&nbsp;18<br>operands:&nbsp;5<br></td><td><a class=\"ProveItLink\" href=\"../b6a995915a170b8c2dcffa14f65ef3045fc39a8b0/expr.ipynb\"><img src=\"../b6a995915a170b8c2dcffa14f65ef3045fc39a8b0/expr.png\" style=\"display:inline;vertical-align:middle;\" /></a></td></tr>\n",
       "<tr><td>4</td><td>Operation</td><td>operator:&nbsp;6<br>operands:&nbsp;7<br></td><td><a class=\"ProveItLink\" href=\"../2a6ad87dfb72c2a4bd19c9250721d618bf5e27710/expr.ipynb\"><img src=\"../2a6ad87dfb72c2a4bd19c9250721d618bf5e27710/expr.png\" style=\"display:inline;vertical-align:middle;\" /></a></td></tr>\n",
       "<tr><td>5</td><td>ExprTuple</td><td>23, 8</td><td><a class=\"ProveItLink\" href=\"../7eef452698f874f9ed15930bcfe3e2a8da6ac6970/expr.ipynb\"><img src=\"../7eef452698f874f9ed15930bcfe3e2a8da6ac6970/expr.png\" style=\"display:inline;vertical-align:middle;\" /></a></td></tr>\n",
       "<tr><td>6</td><td>Literal</td><td></td><td><a class=\"ProveItLink\" href=\"../../../../boolean/disjunction/__pv_it/8a6d9fc46c84b3911a71fbae15627dc2acebe2890/expr.ipynb\"><img src=\"../../../../boolean/disjunction/__pv_it/8a6d9fc46c84b3911a71fbae15627dc2acebe2890/expr.png\" style=\"display:inline;vertical-align:middle;\" /></a></td></tr>\n",
       "<tr><td>7</td><td>ExprTuple</td><td>9, 10, 11, 12</td><td><a class=\"ProveItLink\" href=\"../17a63c213c79f9544bc4f9623b8bb2e800b45ec60/expr.ipynb\"><img src=\"../17a63c213c79f9544bc4f9623b8bb2e800b45ec60/expr.png\" style=\"display:inline;vertical-align:middle;\" /></a></td></tr>\n",
       "<tr><td>8</td><td>Operation</td><td>operator:&nbsp;13<br>operands:&nbsp;14<br></td><td><a class=\"ProveItLink\" href=\"../957654c0b8b37648abf6a05828306117779dbaeb0/expr.ipynb\"><img src=\"../957654c0b8b37648abf6a05828306117779dbaeb0/expr.png\" style=\"display:inline;vertical-align:middle;\" /></a></td></tr>\n",
       "<tr><td>9</td><td>Operation</td><td>operator:&nbsp;18<br>operands:&nbsp;15<br></td><td><a class=\"ProveItLink\" href=\"../88aedab6ba36748f0c44ed32e4b1c1f7696d0be50/expr.ipynb\"><img src=\"../88aedab6ba36748f0c44ed32e4b1c1f7696d0be50/expr.png\" style=\"display:inline;vertical-align:middle;\" /></a></td></tr>\n",
       "<tr><td>10</td><td>Operation</td><td>operator:&nbsp;18<br>operands:&nbsp;16<br></td><td><a class=\"ProveItLink\" href=\"../1881e98a7cf5bdfedd0348b0f556c8caf1db63800/expr.ipynb\"><img src=\"../1881e98a7cf5bdfedd0348b0f556c8caf1db63800/expr.png\" style=\"display:inline;vertical-align:middle;\" /></a></td></tr>\n",
       "<tr><td>11</td><td>Operation</td><td>operator:&nbsp;18<br>operands:&nbsp;17<br></td><td><a class=\"ProveItLink\" href=\"../9b073afd741d61a0d6b737def626801737c8fa390/expr.ipynb\"><img src=\"../9b073afd741d61a0d6b737def626801737c8fa390/expr.png\" style=\"display:inline;vertical-align:middle;\" /></a></td></tr>\n",
       "<tr><td>12</td><td>Operation</td><td>operator:&nbsp;18<br>operands:&nbsp;19<br></td><td><a class=\"ProveItLink\" href=\"../575b65fa3bfc44664c170efa79faca310bce2b110/expr.ipynb\"><img src=\"../575b65fa3bfc44664c170efa79faca310bce2b110/expr.png\" style=\"display:inline;vertical-align:middle;\" /></a></td></tr>\n",
       "<tr><td>13</td><td>Literal</td><td></td><td><a class=\"ProveItLink\" href=\"../3bf683494f28faa53c2e5f9deca12e14d6163eb10/expr.ipynb\"><img src=\"../3bf683494f28faa53c2e5f9deca12e14d6163eb10/expr.png\" style=\"display:inline;vertical-align:middle;\" /></a></td></tr>\n",
       "<tr><td>14</td><td>ExprTuple</td><td>20, 21, 22, 24</td><td><a class=\"ProveItLink\" href=\"../4caad5a68642fb5fddcb2fba0046f9818a31eb7a0/expr.ipynb\"><img src=\"../4caad5a68642fb5fddcb2fba0046f9818a31eb7a0/expr.png\" style=\"display:inline;vertical-align:middle;\" /></a></td></tr>\n",
       "<tr><td>15</td><td>ExprTuple</td><td>23, 20</td><td><a class=\"ProveItLink\" href=\"../584b705055cad6900c112952f0257ba0ac836f030/expr.ipynb\"><img src=\"../584b705055cad6900c112952f0257ba0ac836f030/expr.png\" style=\"display:inline;vertical-align:middle;\" /></a></td></tr>\n",
       "<tr><td>16</td><td>ExprTuple</td><td>23, 21</td><td><a class=\"ProveItLink\" href=\"../f5828ae2291b209a6d34e95d5b07fb987303799e0/expr.ipynb\"><img src=\"../f5828ae2291b209a6d34e95d5b07fb987303799e0/expr.png\" style=\"display:inline;vertical-align:middle;\" /></a></td></tr>\n",
       "<tr><td>17</td><td>ExprTuple</td><td>23, 22</td><td><a class=\"ProveItLink\" href=\"../1c3421056aea3783d56111a31e6d7e739c4a9f540/expr.ipynb\"><img src=\"../1c3421056aea3783d56111a31e6d7e739c4a9f540/expr.png\" style=\"display:inline;vertical-align:middle;\" /></a></td></tr>\n",
       "<tr><td>18</td><td>Literal</td><td></td><td><a class=\"ProveItLink\" href=\"../../../membership/__pv_it/75447a3ece39b4b0773e1c3b724e0a3faed46e330/expr.ipynb\"><img src=\"../../../membership/__pv_it/75447a3ece39b4b0773e1c3b724e0a3faed46e330/expr.png\" style=\"display:inline;vertical-align:middle;\" /></a></td></tr>\n",
       "<tr><td>19</td><td>ExprTuple</td><td>23, 24</td><td><a class=\"ProveItLink\" href=\"../ea49f76c42a086dbc085387aabe69fad25c379a40/expr.ipynb\"><img src=\"../ea49f76c42a086dbc085387aabe69fad25c379a40/expr.png\" style=\"display:inline;vertical-align:middle;\" /></a></td></tr>\n",
       "<tr><td>20</td><td>Variable</td><td></td><td><a class=\"ProveItLink\" href=\"../../../../../__pv_it/d3792d0d8642fdf1cd2a3a9b32c673ee13653de00/expr.ipynb\"><img src=\"../../../../../__pv_it/d3792d0d8642fdf1cd2a3a9b32c673ee13653de00/expr.png\" style=\"display:inline;vertical-align:middle;\" /></a></td></tr>\n",
       "<tr><td>21</td><td>Variable</td><td></td><td><a class=\"ProveItLink\" href=\"../../../../../__pv_it/4d98b438710c5ada9ffa4646bb123a7d0e69ec000/expr.ipynb\"><img src=\"../../../../../__pv_it/4d98b438710c5ada9ffa4646bb123a7d0e69ec000/expr.png\" style=\"display:inline;vertical-align:middle;\" /></a></td></tr>\n",
       "<tr><td>22</td><td>Variable</td><td></td><td><a class=\"ProveItLink\" href=\"../../../../../__pv_it/dcb5a3e430485237dfe486162b026a4affb149300/expr.ipynb\"><img src=\"../../../../../__pv_it/dcb5a3e430485237dfe486162b026a4affb149300/expr.png\" style=\"display:inline;vertical-align:middle;\" /></a></td></tr>\n",
       "<tr><td>23</td><td>Variable</td><td></td><td><a class=\"ProveItLink\" href=\"../../../../../__pv_it/72df168d2bfb4e0140af90912ebf83b13772060b0/expr.ipynb\"><img src=\"../../../../../__pv_it/72df168d2bfb4e0140af90912ebf83b13772060b0/expr.png\" style=\"display:inline;vertical-align:middle;\" /></a></td></tr>\n",
       "<tr><td>24</td><td>Variable</td><td></td><td><a class=\"ProveItLink\" href=\"../../../../../__pv_it/8f4534f2d0cd8231a9b8a1771e8be76aa52adea40/expr.ipynb\"><img src=\"../../../../../__pv_it/8f4534f2d0cd8231a9b8a1771e8be76aa52adea40/expr.png\" style=\"display:inline;vertical-align:middle;\" /></a></td></tr>\n",
       "</table>\n"
      ],
      "text/plain": [
       "0. (x not-in (A intersect B intersect C intersect D)) = ((x not-in A) or (x not-in B) or (x not-in C) or (x not-in D))\n",
       "   core type: Operation\n",
       "   operator: 1\n",
       "   operands: 2\n",
       "1. =\n",
       "   core type: Literal\n",
       "   sub-expressions: \n",
       "2. (x not-in (A intersect B intersect C intersect D), (x not-in A) or (x not-in B) or (x not-in C) or (x not-in D))\n",
       "   core type: ExprTuple\n",
       "   sub-expressions: 3, 4\n",
       "3. x not-in (A intersect B intersect C intersect D)\n",
       "   core type: Operation\n",
       "   operator: 18\n",
       "   operands: 5\n",
       "4. (x not-in A) or (x not-in B) or (x not-in C) or (x not-in D)\n",
       "   core type: Operation\n",
       "   operator: 6\n",
       "   operands: 7\n",
       "5. (x, A intersect B intersect C intersect D)\n",
       "   core type: ExprTuple\n",
       "   sub-expressions: 23, 8\n",
       "6. or\n",
       "   core type: Literal\n",
       "   sub-expressions: \n",
       "7. (x not-in A, x not-in B, x not-in C, x not-in D)\n",
       "   core type: ExprTuple\n",
       "   sub-expressions: 9, 10, 11, 12\n",
       "8. A intersect B intersect C intersect D\n",
       "   core type: Operation\n",
       "   operator: 13\n",
       "   operands: 14\n",
       "9. x not-in A\n",
       "   core type: Operation\n",
       "   operator: 18\n",
       "   operands: 15\n",
       "10. x not-in B\n",
       "    core type: Operation\n",
       "    operator: 18\n",
       "    operands: 16\n",
       "11. x not-in C\n",
       "    core type: Operation\n",
       "    operator: 18\n",
       "    operands: 17\n",
       "12. x not-in D\n",
       "    core type: Operation\n",
       "    operator: 18\n",
       "    operands: 19\n",
       "13. intersect\n",
       "    core type: Literal\n",
       "    sub-expressions: \n",
       "14. (A, B, C, D)\n",
       "    core type: ExprTuple\n",
       "    sub-expressions: 20, 21, 22, 24\n",
       "15. (x, A)\n",
       "    core type: ExprTuple\n",
       "    sub-expressions: 23, 20\n",
       "16. (x, B)\n",
       "    core type: ExprTuple\n",
       "    sub-expressions: 23, 21\n",
       "17. (x, C)\n",
       "    core type: ExprTuple\n",
       "    sub-expressions: 23, 22\n",
       "18. not-in\n",
       "    core type: Literal\n",
       "    sub-expressions: \n",
       "19. (x, D)\n",
       "    core type: ExprTuple\n",
       "    sub-expressions: 23, 24\n",
       "20. A\n",
       "    core type: Variable\n",
       "    sub-expressions: \n",
       "21. B\n",
       "    core type: Variable\n",
       "    sub-expressions: \n",
       "22. C\n",
       "    core type: Variable\n",
       "    sub-expressions: \n",
       "23. x\n",
       "    core type: Variable\n",
       "    sub-expressions: \n",
       "24. D\n",
       "    core type: Variable\n",
       "    sub-expressions: "
      ]
     },
     "execution_count": 5,
     "metadata": {},
     "output_type": "execute_result"
    }
   ],
   "source": [
    "# display the expression information\n",
    "expr.exprInfo()"
   ]
  },
  {
   "cell_type": "code",
   "execution_count": null,
   "metadata": {},
   "outputs": [],
   "source": []
  }
 ],
 "metadata": {
  "kernelspec": {
   "display_name": "Python 3",
   "language": "python",
   "name": "python3"
  },
  "language_info": {
   "codemirror_mode": {
    "name": "ipython",
    "version": 3
   },
   "file_extension": ".py",
   "mimetype": "text/x-python",
   "name": "python",
   "nbconvert_exporter": "python",
   "pygments_lexer": "ipython3",
   "version": "3.7.3"
  }
 },
 "nbformat": 4,
 "nbformat_minor": 1
}
