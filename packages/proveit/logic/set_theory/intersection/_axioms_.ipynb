{
 "cells": [
  {
   "cell_type": "markdown",
   "metadata": {},
   "source": [
    "Axioms for context <a href=\"_context_.ipynb\" class=\"ProveItLink\">proveit.logic.set_theory.intersection</a>\n",
    "========"
   ]
  },
  {
   "cell_type": "code",
   "execution_count": 1,
   "metadata": {},
   "outputs": [
    {
     "name": "stdout",
     "output_type": "stream",
     "text": [
      "Defining axioms for context 'proveit.logic.set_theory.intersection'\n",
      "Subsequent end-of-cell assignments will define axioms\n",
      "%end_axioms will finalize the definitions\n"
     ]
    }
   ],
   "source": [
    "import proveit\n",
    "# Automation is not needed when building axiom expressions:\n",
    "proveit.defaults.automation = False # This will speed things up.\n",
    "from proveit.logic import Forall, And, Equals, InSet, Intersect\n",
    "from proveit._common_ import m, x\n",
    "from proveit.core_expr_types._common_ import A_1_to_m\n",
    "from proveit.logic.set_theory._common_ import x_in_every_A\n",
    "from proveit.number import NaturalsPos\n",
    "%begin axioms"
   ]
  },
  {
   "cell_type": "markdown",
   "metadata": {},
   "source": [
    "**Membership in the intersection of sets is the same as having membership in *all* of the sets being intersected:**"
   ]
  },
  {
   "cell_type": "code",
   "execution_count": 2,
   "metadata": {},
   "outputs": [
    {
     "data": {
      "text/html": [
       "<strong id=\"intersectionDef\">intersectionDef:</strong> <a class=\"ProveItLink\" href=\"__pv_it/0431ef7e2ccc9be979a26da4e66f57dcab9eb5940/expr.ipynb\"><img src=\"data:image/png;base64,iVBORw0KGgoAAAANSUhEUgAAAqcAAAAWBAMAAAAPwijOAAAAMFBMVEX///8QEBCIiIhmZma6urrM\n",
       "zMxUVFQiIiJERETc3Nzu7u6qqqp2dnaYmJgyMjIAAAAcRTyBAAAAAXRSTlMAQObYZgAABnpJREFU\n",
       "WMPtWWuoFFUc/zt35+7Oa/VDCSXJci9YieXSpYRUnIyypGi9gRpFLj4grWjLKLOyJYK714hdKPRS\n",
       "5J0s0m5xW7gfzBBa9ItceyyaZA9tQUPyg1584CPUzmvOnJk5uztzjT75h9/Mzuz/cc7vnPM/jwGI\n",
       "IMrJHIxTtDqFRD6GaxSjQhEjpt84cg3ayk4P1nEbGvjd4dYmpp3GN6sev+LbGcKiF8lNbcRzKOqv\n",
       "ZogcU7RfHaMGcnna+9lZ8WDasA+/O9GOVLOKbmknPql/M4QlTbtKekwkukmEIcFM0B9miBxTtHcN\n",
       "tSaKFcGbXE4JBW94QKQOYL/FdqQSjYH4nFpZCokcoLcjl7xXD63re0eimegrrbPdB1HfzFBEjina\n",
       "u4bpJqpHPW9N6nZK6AK7PSBScfcj/bAlqaQv74tParJCIRSl79UN5MdrtIlHLnph+gEWS+qwtwLq\n",
       "CrdLCPqgT6KIHFO0dw2XrpeniT6He5N6gi/nCX994gGxZY0ODW2GtqT+MTT0RSE+qZsZvLK+zZpX\n",
       "o94s5ay/7z4r7e3Qydpd1Ac4xhAxpt+eGa7skpa8c36Ge5N6gvpMW8gqNgdiCy6USm+0J3ViqdRX\n",
       "i09qN8PWaR/MIIUcdkul0C650LjMlTeCNMekHCFDifoAexgixvTb72HZMCkt+TAUuDe9a/X83UFP\n",
       "Cec7YeI2sxyY1FUA/XIqRVI7c5CqxCf1PQq9Zr2UbPjm3BQpkW6rp7kyqUW4iknvT78+SpAMYJ4k\n",
       "km0d029/hNatKk9++1i2w96+gl8yG4Irhs9gmZDOrQYHJvV+MmVJpEMkNZH1z7NNGA42z+sUpmNe\n",
       "ShALPiUmSVUSoJ3BeS0qqUzflR0MEWP64+1g3jVp9QuwhXsbhZ+chwOewIZBIf8bBQ5MahKUwPpz\n",
       "yRxbmRwgFQW5Q9T505ZOiGcDL26g0CHFVqVTcYfCvyYQB4t77rkA8PisqKRSfS7LGCLG9MejhvvJ\n",
       "WA3XJIMHJ/PmQCnkSV3R84LAsTrGgdky62I99F09daM4CvcGSf0BxHlKnyfdCHx6WV5BgIl0qHiL\n",
       "N0oqukxFtwVRSWX6UUiVxPTHo4Zo7l8sW7Y4oOZdbwCnQ54SqAqNpqRqDdHpoZ1DYOzvgJrZM6tn\n",
       "tkDqFhrDfbNNunwbXSsfiqgGbKM7yTf8DYQXY5Dq6ruywLVlOTXfOqY/HrkYWb4N8cmIu+wnntRz\n",
       "QU+Aip8UHhMFDswW9K9EvX1ub7cyLYdTJwr05BOZWrCnpjbhXt3dS8dKb0q2X1AzJflEZTgzQSEz\n",
       "512+ieojti+JSirTP3CwK9u1SpyoosX0xzvi7uuMrHxXNuJ6+1YZg+l+T1qVbM5c3oITFYyg8lr3\n",
       "1SesUfJA9vhGbvRgiFQD56HpnY2XyZt8BzJaE1rbwazAG7bmeaxaZucnyaqwBiFr1XIlROrXDXbR\n",
       "r/hIdfV/vgUmO9PQ7zkMEWP64xHDpSwFeOHIRS3SFEA8Jf5JjdFjFe6JLF9TFzlv0FHjIKTi1PPh\n",
       "rTDRRi8+paSauMp+UklayaVpKrWqqO2eujlYnd9hZuANG5+fd22dSy31Zxby8aKXrzjwzdW1IVKT\n",
       "effyikiqq69tLcBZwslfDNFiBuIRw5X40iWGI5dOXGMlQz3py6d3H/aXfvvVE2CUz2dd3iCd4yBs\n",
       "WbhBlsMi3A5LSqVSxshp9UKI1N9I7qfpZ3jO3ku0gX3nTke/LzvttoyJvb5tqscD2qKQ9gpPxN6f\n",
       "7ojIqJNwstMLFJFjivGoIZku1fBxA7nmoK0nxhtsAw6TL4xuhNtgUEUDmPRUeCAjhvLUlpFAaG2g\n",
       "nQuT2uHAYM6affjuXbnoByoCqZFlQk4pamO5cR2o8Hhhw6ZHQi2E8RY4UGHZZgxxfsgEE9Nh2WDV\n",
       "AttUpvUj1LSNkEDd5jIhFT0MOOQy4MCjqCfXjTthilHz7QbkGzZx+7AjHqmDqK9axVqzo7/mMcV4\n",
       "wxGDtfTk8hY4+mPdOo/mu02jAO/idjyGZiIZqfrzj8xw1ClQLsLA+TomFT0sqqg3ocuiauoCaOU3\n",
       "YZVe6LCjH1Jjef+t5bFIfRBN2tpzTjP2Wh5S83j913xILfCGe4gLM7QvUlBODX9O2SB+TjHcH+vF\n",
       "B3AnxoKRTRr/y+cUq0Ixrs8p1n/6OeVXD8pxexx12cnuvWeq3gP/5qPnFbvzdrgu8aQufbCuE8Pl\n",
       "X1Z9KVQvtOiYAAAAAElFTkSuQmCC\n",
       "\" style=\"display:inline;vertical-align:middle;\" /></a><br>"
      ],
      "text/plain": [
       "intersectionDef: forall_{m in NaturalsPos} [forall_{x, A_{1}, ..A_{_a}.., A_{m}} ((x in (A_{1} intersect ..A_{_a}.. intersect A_{m})) = ((x in A_{1}) and ..(x in A_{i}).. and (x in A_{m})))]"
      ]
     },
     "execution_count": 2,
     "metadata": {},
     "output_type": "execute_result"
    }
   ],
   "source": [
    "intersectionDef = Forall(m, Forall((x, A_1_to_m), \n",
    "                                   Equals(InSet(x, Intersect(A_1_to_m)),\n",
    "                                          x_in_every_A)), \n",
    "                         domain=NaturalsPos)"
   ]
  },
  {
   "cell_type": "code",
   "execution_count": 3,
   "metadata": {},
   "outputs": [
    {
     "name": "stdout",
     "output_type": "stream",
     "text": [
      "Axioms may be imported from autogenerated _axioms_.py\n"
     ]
    }
   ],
   "source": [
    "%end axioms"
   ]
  },
  {
   "cell_type": "code",
   "execution_count": null,
   "metadata": {},
   "outputs": [],
   "source": []
  }
 ],
 "metadata": {
  "kernelspec": {
   "display_name": "Python 3",
   "language": "python",
   "name": "python3"
  }
 },
 "nbformat": 4,
 "nbformat_minor": 0
}
