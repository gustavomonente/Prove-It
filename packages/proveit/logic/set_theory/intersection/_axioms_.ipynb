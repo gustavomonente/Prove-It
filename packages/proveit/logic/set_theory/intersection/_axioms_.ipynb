{
 "cells": [
  {
   "cell_type": "markdown",
   "metadata": {},
   "source": [
    "Axioms for context <a href=\"_context_.ipynb\" class=\"ProveItLink\">proveit.logic.set_theory.intersection</a>\n",
    "========"
   ]
  },
  {
   "cell_type": "code",
   "execution_count": null,
   "metadata": {},
   "outputs": [],
   "source": [
    "import proveit\n",
    "# Automation is not needed when building axiom expressions:\n",
    "proveit.defaults.automation = False # This will speed things up.\n",
    "from proveit.logic import Forall, And, Equals, InSet, Intersect\n",
    "from proveit._common_ import m, x\n",
    "from proveit.core_expr_types._common_ import A_1_to_m\n",
    "from proveit.logic.set_theory._common_ import x_in_every_A\n",
    "from proveit.number import NaturalsPos\n",
    "%begin axioms"
   ]
  },
  {
   "cell_type": "markdown",
   "metadata": {},
   "source": [
    "**Membership in the intersection of sets is the same as having membership in *all* of the sets being intersected:**"
   ]
  },
  {
   "cell_type": "code",
   "execution_count": null,
   "metadata": {},
   "outputs": [],
   "source": [
    "intersectionDef = Forall(m, Forall((x, A_1_to_m), \n",
    "                                   Equals(InSet(x, Intersect(A_1_to_m)),\n",
    "                                          x_in_every_A).withWrapAfterOperator()), \n",
    "                         domain=NaturalsPos)"
   ]
  },
  {
   "cell_type": "code",
   "execution_count": null,
   "metadata": {},
   "outputs": [],
   "source": [
    "%end axioms"
   ]
  },
  {
   "cell_type": "code",
   "execution_count": null,
   "metadata": {},
   "outputs": [],
   "source": []
  }
 ],
 "metadata": {
  "kernelspec": {
   "display_name": "Python 3",
   "language": "python",
   "name": "python3"
  }
 },
 "nbformat": 4,
 "nbformat_minor": 0
}
