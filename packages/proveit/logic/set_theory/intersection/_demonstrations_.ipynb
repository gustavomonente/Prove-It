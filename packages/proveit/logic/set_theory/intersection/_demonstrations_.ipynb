{
 "cells": [
  {
   "cell_type": "markdown",
   "metadata": {},
   "source": [
    "Demonstrations for context <a class=\"ProveItLink\" href=\"_context_.ipynb\">proveit.logic.set_theory.intersection</a>\n",
    "========"
   ]
  },
  {
   "cell_type": "code",
   "execution_count": 1,
   "metadata": {},
   "outputs": [],
   "source": [
    "import proveit\n",
    "from proveit.logic import Forall, And, Or, Equals, InSet, SubsetEq, NotInSet, Intersect\n",
    "from proveit._common_ import A, B,C, D, S, m, x\n",
    "from proveit.core_expr_types._common_ import A_1_to_m\n",
    "from proveit.logic.set_theory._common_ import x_in_every_A, x_notin_some_A\n",
    "from proveit.number import NaturalsPos\n",
    "%begin demonstrations"
   ]
  },
  {
   "cell_type": "code",
   "execution_count": 2,
   "metadata": {},
   "outputs": [
    {
     "data": {
      "text/html": [
       "<span style=\"font-size:20px;\"> <a class=\"ProveItLink\" href=\"__pv_it/f0b07b28a87ba20991c6957ae2ef34c599bd33ed0/proof.ipynb\" style=\"text-decoration: none\">&#x22A2;&nbsp;</a><a class=\"ProveItLink\" href=\"__pv_it/8a0371b2bb61eb545b9c98e5cce1ddbd89d10b120/expr.ipynb\"><img src=\"data:image/png;base64,iVBORw0KGgoAAAANSUhEUgAAAGoAAAAUBAMAAACXJ7UVAAAAMFBMVEX///8iIiIQEBDc3NxUVFSI\n",
       "iIjMzMwyMjLu7u5ERES6urqYmJh2dnZmZmaqqqoAAABUl3CJAAAAAXRSTlMAQObYZgAAAaBJREFU\n",
       "OMt9VD1LA0EQffEjXu4j5AgIFoKlnVcIFjZBrYRI/oGprAQFwcJCUgRisNBgJRYqaG2KgCAEAoog\n",
       "RIhgGTHaCyIiguI5O3fubWIuW8zNzZs3M/tu94DuaxqhK+6wbdaNow5E2+0OvNRrF5gV3gG0Qy9W\n",
       "sW17mL0hpw3Y8kmxMoqvKJBnNYBzjk1dyppVFdBL+yNezwfAWIWZAXaywCnH1oJJklCAGwfRNM/9\n",
       "QSUy0MaAszKwJGJWS5L6EwgAg3piQID6FxClWhtU8jvrpUaCVoMi8Q+I5UQdIY/mXnPkljJcl0XB\n",
       "ZMCiXQeAV010x6L7LmQSu92eeRPVUAxYER7WBxSWVpkYp8cTRx5bHRP2+Z+JAYVFm/8hswJT7IBZ\n",
       "QlCFJYGAVaNuHisvLE+IzbYJJSBZWook/CT/GM9km15ufj6nqCEByYrTd7JqrMZdA2bKT14u+SfK\n",
       "JOUlIFnWKHAFLtY4uV/4d6x1ypFAwNLTc6zAeshtSCq+wbasXIhECKuKHksRm15sW96UmNODVQgD\n",
       "+FaGrb1QpMcfwHDwC1qibdhgjpxhAAAAAElFTkSuQmCC\n",
       "\" style=\"display:inline;vertical-align:middle;\" /></a></span>"
      ],
      "text/plain": [
       "|- S subseteq (S intersect S)"
      ]
     },
     "execution_count": 2,
     "metadata": {},
     "output_type": "execute_result"
    }
   ],
   "source": [
    "SubsetEq(S, Intersect(S, S)).prove()"
   ]
  },
  {
   "cell_type": "code",
   "execution_count": 3,
   "metadata": {},
   "outputs": [
    {
     "data": {
      "text/html": [
       "<strong id=\"selfIntersectionContainment\">selfIntersectionContainment:</strong> <span style=\"font-size:20px;\"> <a class=\"ProveItLink\" href=\"__pv_it/17ada41433eb5b8a59a1606ffec432409d78aaac0/proof.ipynb\" style=\"text-decoration: none\">&#x22A2;&nbsp;</a><a class=\"ProveItLink\" href=\"__pv_it/801619a37a8525e35e41f73a3dac264762d48fb40/expr.ipynb\"><img src=\"data:image/png;base64,iVBORw0KGgoAAAANSUhEUgAAAJ0AAAAUBAMAAABltyL1AAAAMFBMVEX///8QEBCIiIhmZma6urrM\n",
       "zMxUVFQiIiJERETc3Nzu7u6qqqp2dnaYmJgyMjIAAAAcRTyBAAAAAXRSTlMAQObYZgAAAj1JREFU\n",
       "OMutVL9rFEEU/sjtend7u5cUViIo+AdkRVDQQI4IKjZeYyrBiBoRmwOLFbRIIZgLhCwEYsqz0SUg\n",
       "nqSyEI+IPzBXHCiChZJWsbgUiviD872ZvbmZZDZVHnyzvPftfDPvvZkBtluxA7tlEmTPUmyw89mg\n",
       "Eh5W260PW+dkEKWxdlDZEwOMdY58M/ivhEIHSVd4wbUoiqoWwmuk/8/DW4BHG2Mscx4zulwQ0nCE\n",
       "vmLrxe+xnThz695dEc5R+AuwBoEyreI3db08CXg/AOcge+XYTvh1YJIXwBPa/ATwAALBu5WV+0a6\n",
       "7Dn/AFckeSKDeM+RGzycoy6dp4UrEr9mZ+8Yeoe4Nr1XqVfLIOZ4WBb7+ysW9kOJqwBtHRfaz6v9\n",
       "8pKN9n6KRItTAz2DEOvkeRjq9a5DVpVxUrTFCfEinXZbNO/jgX3iq7XKIAZ6eHxpk5pQqknkMUQF\n",
       "yDdQSKftlZ/cn635GoSmB4xTQ92uhN/h6HCMkjatRRuRemumniKUns8l1PSKG5N8LPZXtLQ8qpr7\n",
       "W3jlJqyE0ntIuEj5OjUJ1K9wWQ5vVgZlL41QWi15C6bPwkYovaeEMa0fWJUlWupX6iVNuQm8Tl33\n",
       "bf++GYTSOxbC50PAy4ilhum4e1V43VTgNMWdy9PNbU+IQSi98NRRcazLVQkE3Owm3CntWlnNIMTT\n",
       "FWiBRynkGZhB0tCvvc0yCXUQ1GHILbaPK6au//YmitR7Vd9Brv9eWSzJmpPsoFeIJXbrvf8k8R93\n",
       "h6pOntYCUwAAAABJRU5ErkJggg==\n",
       "\" style=\"display:inline;vertical-align:middle;\" /></a></span><br>"
      ],
      "text/plain": [
       "selfIntersectionContainment: |- forall_{S} (S subseteq (S intersect S))"
      ]
     },
     "execution_count": 3,
     "metadata": {},
     "output_type": "execute_result"
    }
   ],
   "source": [
    "selfIntersectionContainment = Forall(S, SubsetEq(S, Intersect(S, S))).prove()"
   ]
  },
  {
   "cell_type": "code",
   "execution_count": null,
   "metadata": {},
   "outputs": [],
   "source": []
  },
  {
   "cell_type": "code",
   "execution_count": 4,
   "metadata": {},
   "outputs": [
    {
     "data": {
      "text/html": [
       "<span style=\"font-size:20px;\"><a class=\"ProveItLink\" href=\"__pv_it/b5a07c4055f59a6287beee6e0a5ef39aaefe353b0/expr.ipynb\"><img src=\"data:image/png;base64,iVBORw0KGgoAAAANSUhEUgAAAKcAAAAVBAMAAADROuOhAAAAMFBMVEX///+IiIi6urrc3NxERETM\n",
       "zMwQEBCqqqpUVFQiIiJ2dnYyMjLu7u5mZmaYmJgAAABN0h6tAAAAAXRSTlMAQObYZgAAAmlJREFU\n",
       "OMtjYGDgu8dAPcB68QCI4tmFQ96OVAPZDYAEUyqIyfcBuxIeB4jVG9DEX/zvveGigKZWpLePeQFD\n",
       "M4h9G0RwTcBuKLcBhILayXMAJpHCwMD7FVVM7AED+7UHDKdB7JX4DH0LoV7/AVMqUzydoKH2D+jH\n",
       "vyhiR+YAifsGDFwCOAx9MnMmxMOTIY6p/QxW5MzAEHEBLMIIFOD7iCK2DeRiNaDiBOyGhshAGcwQ\n",
       "YT7GT3Bnt4NFWIA6j81BFuP9DmLFAvEmFEMPShhJgdzOswdmOiPEXTrs/0CUD4gwAYvwNzCwzjiA\n",
       "LGYPtv8wEK8F4mUgDgfQtzwL+CZygnzNYQAzlOUB2PcKrCCfMoC1cYIl4vseehagiK0XgGl6DcTv\n",
       "QYyyAKBrD3D9YQKZxwIPB06wRiYG5r9ohsobMPBkoIjND4BpqgQlF6AXQ0ARwsPAAkmVYbuBABxR\n",
       "bOCkGHH3xhc0Q91ABhcgi+WDUxaIiAcxOoEOVwPbww/xggncpRBDgUQ2mqE/QIYKoLgUnJ0CoIZy\n",
       "N4CCEezGeIgX2FC9zw7E01ANBSVThn4FZLH7oIDjAvE0YWEKin32A/IMjCD38wqgRJQ5EO9HNRSU\n",
       "TFlRg8QepGkNLKKWwQzVL/CHlh/TYYZyXYCmVX8DFEO5gclUzQfFUFCqqwWH6y3kdHpC8OA9cBJi\n",
       "OOEEzc9MExh4/H8fYCj5PxfZAI79P+62uDOguv6sRy+khNmKI5tqeaJkUygA28iHWjhgivFMgBua\n",
       "gLdAIQUgChRc5SmLAcmGnoaXpwy78BbSpABnUFwkQWqBe1SqTvgMoHUUAHqepk0aOj3dAAAAAElF\n",
       "TkSuQmCC\n",
       "\" style=\"display:inline;vertical-align:middle;\" /></a> <a class=\"ProveItLink\" href=\"__pv_it/4220a6ec3115f9dc58fbc71a5a81c20ca1ff2fda0/proof.ipynb\" style=\"text-decoration: none\">&#x22A2;&nbsp;</a><a class=\"ProveItLink\" href=\"__pv_it/2ad86e401a3fdca449f8bf1ff3fc8ad00c894f190/expr.ipynb\"><img src=\"data:image/png;base64,iVBORw0KGgoAAAANSUhEUgAAAPsAAAAUBAMAAAC5TlbCAAAAMFBMVEX////MzMxUVFR2dna6uroQ\n",
       "EBCqqqqIiIgiIiJmZmYyMjJERETu7u6YmJjc3NwAAACgK8IjAAAAAXRSTlMAQObYZgAAAydJREFU\n",
       "SMeVlk1oE0EUgN8mabpNNjEIHrSHVvASSm1PiigYkKIHwSKe9OAe7UUXRYooNHiIRYoGRaQHMQU9\n",
       "KKUp4k/Any7FWk1BgpeiguTgQRRp7cEf/KnvvZnZbNKdQCZkfna/mffmvTdvFiBZAX2JVhsetEbD\n",
       "1yY0HKdqQft6E/63NjzT0G9W01ceZ9bQ1nQwbp1N9yb7Q6TtlFZ8Ef9l2Vf70tFHADq+eXRStrFq\n",
       "MH26AtFrFasAkMjrpCeKLkDYEYM78pmGNv4CRH55dExib4PphTGsblZhO4BZp2CiNHpR9V8gANag\n",
       "WL7kcquj2//h6IeioXNMtJfqpL4fHS1w5zYtNgAwB/CpbhOP3NqgMpLB+hb3Q3vFvnR0HOXOjSka\n",
       "tgwLH2T9eOc52en4TvVGNFIGzmBv/uTHU7x82Sc94p6gKN/BgzKIlXT0um4wzruKtgqmsEneh1uT\n",
       "Cl7itV6jZ/PwFF/0Jy6YbBZ/5D6HLpr1jgfb8EdFR3f1LpZsjw7bYZttUvHhIc9vux3lvALkkHbD\n",
       "fyL80n9OMrBEyh/jQRY+c6ujR6pgHfRoE5Ksn2n78LgHX06pPJGFQ6ggxMVKxuG7WKRj0+N99LSL\n",
       "1XQgxHN09ANSwZY0LAJsprYt48M3EM1aHWWnYWUs04LoOmGOpG8/EZxdUOJNF4xuKT6QXiHxjhKP\n",
       "MbheiffwL7Xd885TLD7HrpPmGKwtiFsxabiPBkMq4WhoOvbQl5F0NC8Tjmn78DaPpgMNYdpiloIp\n",
       "6o5AOxvkei2348zYsgqmKamCjqZjb/xWNIkmFTj0PLzD8SKfertE6OFROWDPyLtBqKsOeBwXhau0\n",
       "uWnhANDRMTTEwBNJQ6d0AB0sH57zbia01RBr1E/mmh2evyEuMqtnv0yLq5MQnfmJ0yfozJAP2x3h\n",
       "igA6VFwZ73lIvQlOOlQNC+P68Nn7Kk+8upfmqIilGtJoZGct6QoRWRGGWFJrkm4wDby0sTbp7inJ\n",
       "pKvKy2ZXjsggTv011BKtu3JUwSsHnjUlyg3j1uh4tRlNF26Tz40gca3Rus8Nn3JNP58SLX1sJVr7\n",
       "2PoA8B+CHwCZ6eve4wAAAABJRU5ErkJggg==\n",
       "\" style=\"display:inline;vertical-align:middle;\" /></a></span>"
      ],
      "text/plain": [
       "{x in (A intersect B intersect C)} |- (x in A) and (x in B) and (x in C)"
      ]
     },
     "execution_count": 4,
     "metadata": {},
     "output_type": "execute_result"
    }
   ],
   "source": [
    "And(InSet(x, A), InSet(x, B), InSet(x,C)).prove([InSet(x,Intersect(A,B,C))])"
   ]
  },
  {
   "cell_type": "code",
   "execution_count": 5,
   "metadata": {},
   "outputs": [
    {
     "data": {
      "text/html": [
       "<span style=\"font-size:20px;\"><a class=\"ProveItLink\" href=\"__pv_it/883709f17e4c64fcccc7c4b0fb731e7046bb35c50/expr.ipynb\"><img src=\"data:image/png;base64,iVBORw0KGgoAAAANSUhEUgAAAREAAAAVBAMAAACTXMcfAAAAMFBMVEX///+IiIi6urrc3NxERETM\n",
       "zMwQEBCqqqpUVFQiIiJ2dnYyMjLu7u5mZmaYmJgAAABN0h6tAAAAAXRSTlMAQObYZgAAA39JREFU\n",
       "SMfFll1IFFEUx8/s7rgfzm4j9KikBEEhtA9BVBCbSbQvuQ9L2JNL1EMYIvQBQZKpQVGRECRSQUIY\n",
       "QZEk9WBFE4RUvqzRg1R+hL1E5GehkWXn3K+dzb1T+9Rd5s6du7+Z+d//PffMBYDYGPznYg47dLIG\n",
       "qN7uRR75s6M42j/hQQfjWPkOUjM2Q3ISWr19AKF4fp+Gjl1aHO2oWUHDc82jn+0emdgK7dR8R1Wk\n",
       "E6vSuE5JKQq1+sTgZJ+GLkGF4ylJg6T6C9NGE0BLEwxR+7ZS8kXr3uclrHqEgiw/6+gGnIaNWUnD\n",
       "E2FVtiBsJTE4ovMQsfOUXM6DPnZ3y3FZLfNYD/KL9DV+1tFr0IVpW9JmksUhhPMcjCW7r/JhHaYA\n",
       "yYCVcSvxd7rhdLnrRmOO7qpkF21lfJJ09C5UfsiRdKjKZucteWG3wxGt8Wa6RL/uu5UY2GGVtVcx\n",
       "X63Hrjurg7+IYQZbfWE+wTp6EWDfBUljAHDFFeDCh6QQ/3d2N/p1F8+9TDpaG8AJfgWfbOabO/at\n",
       "SnOWnGH2R5ojNA4tbS5Ore5SNNzCH5U94MLbJRyZVZGIxzQ1jqdwKvENd+Ces5a9yGWJD/w/adGz\n",
       "0YXBz96how0MqcFWSaMj29iZxClcrf/wN9k6IdZCmsKvBGfWgVr+z95HWEQM1o+OfKXRUs6BDwBn\n",
       "wIMOYOwZC5KO2RBKUWM/5HCzkXD2kCXmOa04apzDmFqX4s8GEH5tcnmC/Y1KCa6ceqmkEL0K/TBm\n",
       "JR12wGyVSiTuz3nCoGNCSSmRoQT3G0zhV4krFeNxhSaJ/A5mRU7T0ZROQnOChhaZ07rAhWckHKXs\n",
       "ADfwWC/jhNYOxeBJYwbYgoza6tmb8XgqY5BUkBotTemkISEjtl+oYRGr8GH1MSKTIo6I2F6pBNed\n",
       "byEwIz5VXYqmwdXh86OkPS1mSEfDQ7TjgCNoM8FniK3SHM78ZOXUBATfU+OtO5+gn9bp8oopzryo\n",
       "4YveqvvhwNHl62gHhV4b9ZWBjobzyxdHaulFjA5RMBk2dz+HWx3VMkG8OfuaNR54ZPsNSZXteXkp\n",
       "oheHCv9I+1gztSLb+26KbK9SVqdSkvH8ArLSk39ZHK35AqoUp76AbH8SiHvBVv6Yi6Rhp6eSIbU/\n",
       "gQHPnVKhNxdHa3dKOZ0+nnOCY3/bD04WtXucLGr3GIuLfexvFuoQrgC20EkAAAAASUVORK5CYII=\n",
       "\" style=\"display:inline;vertical-align:middle;\" /></a> <a class=\"ProveItLink\" href=\"__pv_it/1db50501b84efd2b7943a9b17c9f0032aba79cab0/proof.ipynb\" style=\"text-decoration: none\">&#x22A2;&nbsp;</a><a class=\"ProveItLink\" href=\"__pv_it/79c82646653bfdacfe363691a21918fc1decd5980/expr.ipynb\"><img src=\"data:image/png;base64,iVBORw0KGgoAAAANSUhEUgAAAJIAAAAUBAMAAACUvHl4AAAAMFBMVEX///8QEBBmZmaqqqrMzMxE\n",
       "REQyMjIiIiKYmJh2dna6urrc3NxUVFSIiIju7u4AAAA6P00QAAAAAXRSTlMAQObYZgAAAhFJREFU\n",
       "OMtjYMAGdjCQCJg3YBfnCwBTLAlo4j3/D+mELkBTe/XQCe4JDKexm8QGsYHtA1TxA5iEKAMD0xdU\n",
       "sYsNDMyKDQzPsJvUBKHa/oGppaXhURABlh8MDFyfUMSe1gEJ/Q0MnBeQDWgtL4f4pxpirdFvEMUZ\n",
       "zcDgowAW4QUKcPxFEUsEuW0hULEAkkGu96AM7gIwxcH7C+7Aw2ARVqDyh3XIYkyfQSwnIM5iYHh7\n",
       "Z9dNkNP48mBG8kJcsI75B4iKAxFbwSL8BxhYah4gi+0HW/oaiCcx8E3gqGUHeYoHHpGsDWDPLWAB\n",
       "eYQBrJYdLOF/ojfcAEVsPjx42hg4H3D+4wIZwgr3JjtYNRcD9yc0k+5vYOCTQRGrd4BpMmfgY2CF\n",
       "pB7HNCAAhzgjOMn4KOl8RTMpEGSaAbKYPDgxgAh/kO8hLtwKdxPEJCAhhmbSH5BJF1DcBE7gDlCT\n",
       "/CEuZET1HTMQF6KaBEpODOcXIIvpg8KFE8RbzsD84D4DL8h5TBdQQnwzEOejmgRKTiyoPt4P0jQP\n",
       "EuLrDeKhGbYYZhKnAjRNxW9AMYkNmJwWxqGYBEooRuCw0mR4c/etBjjWGd5EQfMSVwEDX/y3Bwym\n",
       "/4uQdfHk/1E6GsyA6s5HMYcgWToFObesDEfJLVAAtoYDNWNiivEV4MvBpADUHAwHrBtINukZ3pKO\n",
       "FBCNQ5zk0pdjAwMA6HmPR41VZPUAAAAASUVORK5CYII=\n",
       "\" style=\"display:inline;vertical-align:middle;\" /></a></span>"
      ],
      "text/plain": [
       "{(x in A) and (x in B) and (x in C)} |- x in (A intersect B intersect C)"
      ]
     },
     "execution_count": 5,
     "metadata": {},
     "output_type": "execute_result"
    }
   ],
   "source": [
    "InSet(x,Intersect(A,B,C)).prove([And(InSet(x, A), InSet(x, B), InSet(x,C))])"
   ]
  },
  {
   "cell_type": "code",
   "execution_count": 6,
   "metadata": {},
   "outputs": [
    {
     "data": {
      "text/html": [
       "<span style=\"font-size:20px;\"> <a class=\"ProveItLink\" href=\"__pv_it/7fcd0bc56ba841148e565431cde1510149b245fb0/proof.ipynb\" style=\"text-decoration: none\">&#x22A2;&nbsp;</a><a class=\"ProveItLink\" href=\"__pv_it/cdd7dbc086a2093822e18cee9a5cb31eb209931e0/expr.ipynb\"><img src=\"data:image/png;base64,iVBORw0KGgoAAAANSUhEUgAAAlIAAAAVCAMAAAC6w/C8AAAARVBMVEX///8/Pz9vb28YGBgNDQ0r\n",
       "KysPDw8WFhbMzMxUVFR2dna6uroQEBCqqqqIiIgiIiJmZmYyMjJERETu7u6YmJjc3NwAAAAUTNBo\n",
       "AAAAAXRSTlMAQObYZgAABQhJREFUaN7lWoty5SYM9bbb1tjmYcD8/6fW9xow4iHgmmTSKbOzOIl8\n",
       "JB0JEOBpqrZ5+p+1+T+K/YPAD43+mfcIf2ujB+xb/exyOKdwFJnfBt7C0OeWJ4FQEs9OEv4Ehee9\n",
       "YqYmxhAhiJRrRVIxSQTR07FU4CQ50chlu+18j2uQ0wcOQ0erirqwI3bGgkNK6wx1W44EYse1CZAM\n",
       "UHg3kVkqeX27LBVmRuXY9h4jVGwahTNXbLWhbwEbabU3pJQ3vcth6GigaM6uCZ3YgJ3B4IDSkKEh\n",
       "lmOB0GJqn/CgsN5NEPRVcnn+g6pnc6XIagQipyS3QMIcOByzctu7W+yPrsdmOJH1oWmGvx29FREf\n",
       "Ds0K/FSxI3ZGgseUBgyNsRwJBC9np5ac//N3OAMAYUXvBDjB5HFNkMA2ZiW0MyErt28uNdetAmfp\n",
       "WK9gKCvueoyTI+dDzeHY0VvRvRJwleenjh2xMxI8pjRgaIzl5UAcxbJrluzUKENVUFifwGua5YQG\n",
       "MnKzmpz1OTlh/OMscDi30h7mqrl2a8Beq9W86V0Op47eitxKsYoCP3XsmJ1x4CmlAUMjLEcCwYSr\n",
       "5Rg5VnbPj2pXSZXCwiljVRM1vvKRPuGPsM4z7xExc6LKcoe5/VEHDud+WC/gabEWLZV5+za9y+HU\n",
       "0VsRtU8B273YMTvDwDOUBgyNsBwJhLy4Umeuac4m7t+9incGihQZ1s5rsKKCtZaHSy7RmklOJ0Ru\n",
       "MQxbunlmBT+njcVWORPoX3B70ERiepfDqaOBIm5HccJPK3bCzjDwDKUB9gjLkUBYfxb1skNNq0/c\n",
       "S98ONl1BakzrezAIPAdssaA2gshxMzemlF/BJ2JXImr/SnmtlKLwoc3h1NFA0cUzWRMlrdgJO8PA\n",
       "M5SGDA2wHAnEdv3m9YoMl5h5ew3yv36f/wV73jWo8YQQxM9/hRywxcJpAi3LbcG+UeFw/tDCbG64\n",
       "wL7YvOldDqeOBooUj5eETuyEnWHgGUpDhp5bjgUiyBIwWV4lzELzcbnG7vmLHU8pu9CepDFslrqH\n",
       "0ozDOW+1q20+Tqk2h1NHQ0WCRi90YifsDAPPUAoYemw5Foh7LZvhZLllTiNuYfvANzSl3LmLnx6z\n",
       "csFRxFKBY26r6qtDDvu4liKlha/N4dTRQNF07NELfdgpO8PAM5SG2M8txwJh6zKqzrHyGjB+whQM\n",
       "7DJhjXvQ+Pg8mwPu3GVGF8jjPrNSFbjZ7kL2uOjUtfPzuDxvczh1FCiSs85tXxqxU3aGgWcohQw9\n",
       "tRwLxLX5W8/V/LU+hleHZ+KSqMhzO0V/iiH9aMjmwL7ZwzaJ5ordolOh8PLcxnXlt4tigX2x+T10\n",
       "l8Opo0DRTLhKlTRiZ9gZB55SChl6aDkaiGvCUoQxxYQOL6MVkX9Ghb4Vlsa8twD0fHComRwgu7sV\n",
       "pZWtnBKSEHCLVIQjRIrg2G2fYV9sft7vcDjnKFS0ixw/TWTm2BkGnqE0Yuix5UggkJP4P35Jznnx\n",
       "QiY6Yc49fizXKKY47B9eyKQOlxS6WUwVlHyC/aXgMUNjLYeBQO4L07uJ2uXid7fB18byaFVYU/IJ\n",
       "9peC1xh6ZnkUiOIbuS9o5PGTMqrr4xZvepfDeYX99NexvxS8ztATy+NAFF9h+jP872uOBjnmEzym\n",
       "P+Z9eo79peDy80/wGixPAlH6QjSr4yd9KKwP2Fda9UNh2aqwRUkv9peC6wcfCsvOQPwLZreDx7NG\n",
       "MUMAAAAASUVORK5CYII=\n",
       "\" style=\"display:inline;vertical-align:middle;\" /></a></span>"
      ],
      "text/plain": [
       "|- (x not-in (A intersect B intersect C intersect D)) = ((x not-in A) or (x not-in B) or (x not-in C) or (x not-in D))"
      ]
     },
     "execution_count": 6,
     "metadata": {},
     "output_type": "execute_result"
    }
   ],
   "source": [
    "Intersect(A,B,C,D).nonmembershipObject(x).equivalence()"
   ]
  },
  {
   "cell_type": "code",
   "execution_count": 7,
   "metadata": {},
   "outputs": [
    {
     "data": {
      "text/html": [
       "<span style=\"font-size:20px;\"><a class=\"ProveItLink\" href=\"__pv_it/4c4294010cef3b770bc4c4694e88f5306be2629e0/expr.ipynb\"><img src=\"data:image/png;base64,iVBORw0KGgoAAAANSUhEUgAAAREAAAAVCAMAAABWrCoeAAAAQlBMVEX///9jY2MJCQkNDQ0rKysP\n",
       "Dw8WFhaIiIi6urrc3NxERETMzMwQEBCqqqpUVFQiIiJ2dnYyMjLu7u5mZmaYmJgAAACA0NZ1AAAA\n",
       "AXRSTlMAQObYZgAAAylJREFUWMO1mFmWpCAQRekRZB73v9VGZTAAtagm86OKYyaX8PEIAhDaP955\n",
       "9JUPQ5/7fJL9FThz2Oa2NTo3t2dl1P1XYnsb8pPsJXDCs3A+FG3os4xy9NCc/+VL2HNsL0OQzklK\n",
       "yRfY04FbTKWTHm36CnfpVZAuCprnkR0ZPDQhO23k0dqcZfPzJV1ggL0EjvlhKeH2/xVehCgN79C0\n",
       "97wJaflpnJ/JEqovz2bZLJzrgAQH2AvglqoUsgvbFd4roh6U9lT9/aNMZ1dxUvcm702qSrKaZeOE\n",
       "9QED9gK44bZkDhB4p8h2n38YjYmYDsb1MfRsSUNaE5Myd9NsypPM53tX9n/DXRB1fwGBd4pgl9MO\n",
       "lhvBF6daY+FiLunZIhFymtclRJFaNZRpdjiswJS0DfsB3tMH8C1U/ewG4DqbRaYe9Hw1G/OvVxhd\n",
       "nHakY4z7FE/2BY9LSmkWLqs7wCybBek9pkr07Fv4gD6A64D7XAg3XZG34TS8tns3i0j12jG4sb1F\n",
       "Ds3zDIkq/hmErFafZac0Yrns2LfwAX0AV6Er1wrcuEPqkpb4Ocben4L9nXFjzO9f8Y9ptnkXS4ZA\n",
       "y7xW8yi4H0+zUxqJyoiWfQvv6SM4D1Ug2wYuFb6WaryqDp217aNoMbRI7GZ6RZATsMcsO8isCO7Y\n",
       "T3BIH8FVJQnWBG7SqJJC8+0/gc7iw2Ik/VzlfEQuP9kM7DHJztUIkmknu7If4C19AC/VQtSqCbwU\n",
       "73mvSQlK2Dgz+/RUdzl82etKXAIWrSD7Icr8dbYm2bkaYXlJerimhvABfQDfiou0bQLXbWFybkIk\n",
       "rlwamrOTErLNR6UIoFl0p0GOUdeENseORVSqoKgdsMfwIX0AT+WCcFU3fVOPnOaxEmOLnQeHSSt/\n",
       "Egsr4RCOHC5iQ6VCB4xtwNzMsGM5kI95ZTlA9hA+pPfw+MxRKa9HnQyfquL9D02VUubp/AkX7AYD\n",
       "Wcr+ELwqwt8PTPT9ikLjp28/yV4Fr0fe8Nr95f6huQ2YC20BexG83I+gcod22x+/3zrS794YLWCv\n",
       "gZNLXSPyPevd5dy70v7bt4or2Avg+Z71HynuOh6JEH0eAAAAAElFTkSuQmCC\n",
       "\" style=\"display:inline;vertical-align:middle;\" /></a> <a class=\"ProveItLink\" href=\"__pv_it/a7dba04087ccb8be36b757ee36dbc3ec051027e20/proof.ipynb\" style=\"text-decoration: none\">&#x22A2;&nbsp;</a><a class=\"ProveItLink\" href=\"__pv_it/4e435aeea6d7a4054ea9007f111a5ca630ccca8b0/expr.ipynb\"><img src=\"data:image/png;base64,iVBORw0KGgoAAAANSUhEUgAAAJIAAAAVCAMAAACaEEfcAAAARVBMVEX///8/Pz9vb28YGBgNDQ0r\n",
       "KysQEBAPDw8WFhZmZmaqqqrMzMxEREQyMjIiIiKYmJh2dna6urrc3NxUVFSIiIju7u4AAAAFgFu8\n",
       "AAAAAXRSTlMAQObYZgAAAitJREFUSMfNVgmS3CAMJBcbYXEj/v/UYBtjYRtmN5XdCjU1Y4Y2tFoX\n",
       "QkzGIv67YbpZsJ9+oAovAEvkM8JuTb942cacI0BE9HMgJYwQrQiuTOILTtBtpju0zpeN6fa63G2A\n",
       "vMxwSW7iK9h+SX/Abxa6mc5sb48Gy6eXY8m7o32GMY7Q1H0gbya7NJQdjfn9xikbLhKpusM2HIbd\n",
       "zx3rVBE2pzFOy8MyL/ed5SCIMBUkchKhl6wc6O/6RcUweJxx6PCAg9zeWOqq9lt8pRh8OiUjTTe3\n",
       "Jq6AJ6Fyyz9sLgw8A/KWHIuJNMSFfBpKVQBXDqIS6dYkYRqFPexT51VkFYD8GinpIeQMD6VobUKj\n",
       "xBjn8j1ybKHhaF0j4Zufdht0lxtsa+E3A2FOqYYSyTjGmXwvxqqsrScjV3yRuoxfP8sXy2jPyhWU\n",
       "epNxTqmGUqGmhjjJ0paautXvXMDd0071RcZ3IpU/9JxSjgelNFHpFGfpKS29gPLeTJjj6oORU0pH\n",
       "VRKxpeYdxyqJawaXNUXFktWcJiIUuzz0lFp4B3Ut34+Ujqq0zBwczpJFLLx98TXmvqkWSeIl8Bxc\n",
       "6hM2Cx8paVkL4Jn6D7haShScMQVOUEyJElje5inij0sv8mav/zlvmajKg4HhUVEfPVcJMVOTAGPs\n",
       "eqke3Yi+fysdxQwbSl9JHh//EkdmtII3Aha+5Io2bLv93WjE8hPG+HKS7Pto/vMxtvvx9C+46NqV\n",
       "0R/jDB+NtS0pJAAAAABJRU5ErkJggg==\n",
       "\" style=\"display:inline;vertical-align:middle;\" /></a></span>"
      ],
      "text/plain": [
       "{(x not-in A) or (x not-in B) or (x not-in C)} |- x not-in (A intersect B intersect C)"
      ]
     },
     "execution_count": 7,
     "metadata": {},
     "output_type": "execute_result"
    }
   ],
   "source": [
    "Intersect(A,B,C).nonmembershipObject(x).conclude([Or(NotInSet(x,A), NotInSet(x,B),NotInSet(x,C))])"
   ]
  },
  {
   "cell_type": "code",
   "execution_count": 8,
   "metadata": {},
   "outputs": [],
   "source": [
    "%end demonstrations"
   ]
  },
  {
   "cell_type": "code",
   "execution_count": null,
   "metadata": {},
   "outputs": [],
   "source": []
  }
 ],
 "metadata": {
  "kernelspec": {
   "display_name": "Python 3",
   "language": "python",
   "name": "python3"
  }
 },
 "nbformat": 4,
 "nbformat_minor": 0
}
