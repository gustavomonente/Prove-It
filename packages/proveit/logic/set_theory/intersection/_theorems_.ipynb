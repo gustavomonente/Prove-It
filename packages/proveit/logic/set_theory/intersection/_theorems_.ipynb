{
 "cells": [
  {
   "cell_type": "markdown",
   "metadata": {},
   "source": [
    "Theorems for context <a href=\"_context_.ipynb\" class=\"ProveItLink\">proveit.logic.set_theory.intersection</a>\n",
    "========"
   ]
  },
  {
   "cell_type": "code",
   "execution_count": 1,
   "metadata": {},
   "outputs": [
    {
     "name": "stdout",
     "output_type": "stream",
     "text": [
      "Defining theorems for context 'proveit.logic.set_theory.intersection'\n",
      "Subsequent end-of-cell assignments will define theorems\n",
      "'%end theorems' will finalize the definitions\n"
     ]
    }
   ],
   "source": [
    "import proveit\n",
    "# Automation is not needed when building theorem expressions:\n",
    "proveit.defaults.automation = False # This will speed things up.\n",
    "from proveit.logic import Forall, And, Equals, InSet, NotInSet, Intersect\n",
    "from proveit._common_ import m, x\n",
    "from proveit.core_expr_types._common_ import A_1_to_m\n",
    "from proveit.logic.set_theory._common_ import x_in_every_A, x_notin_some_A\n",
    "from proveit.number import NaturalsPos\n",
    "%begin theorems"
   ]
  },
  {
   "cell_type": "code",
   "execution_count": 2,
   "metadata": {},
   "outputs": [
    {
     "data": {
      "text/html": [
       "<strong id=\"membershipUnfolding\"><a class=\"ProveItLink\" href=\"_proofs_/membershipUnfolding.ipynb\">membershipUnfolding</a>:</strong> <a class=\"ProveItLink\" href=\"__pv_it/6f5c67c891557e096212b0b50d2541477b58ad7e0/expr.ipynb\"><img src=\"data:image/png;base64,iVBORw0KGgoAAAANSUhEUgAAAkQAAAAZBAMAAAAiQSxpAAAAMFBMVEX///8QEBCIiIhmZma6urrM\n",
       "zMxUVFQiIiJERETc3Nzu7u6qqqp2dnaYmJgyMjIAAAAcRTyBAAAAAXRSTlMAQObYZgAABjxJREFU\n",
       "WMPlWW+IFGUYf252Z29nZuf0QwklxXLGFVdxC2cK/sHN6C9Fe/fhNBRdTD8oUVuCh57FfghcC9n9\n",
       "EOdR1E0ap2jY0kVlGF0XQaxBg6dk9McF68MJ5ZKaenHa+/fmnZl3bueOFhQfeGbed+d5fzPzm+d5\n",
       "3ud9FyCMxHq3w60p0d6d4Qyb4daV/puDoneZTitHw6Jpdn0bo0QVU1TFp1/rUxTKrkGi56nKZR3P\n",
       "BqWQcAeDLqhVp72ZKaLoOD6dq09RKLsGSUuJqlzOcyL5CwZYarwxHnifmtM+whRRNIAH5+tTFMqu\n",
       "QTLGVCrmeYu1Rtn5bAABKTYgFQT124TTTiSpIopa0A0S5foUhbJrkGxn6sjp3l7uM4dXcK95n4XL\n",
       "LkuKsnoHe5lSAJI+fFUI7rlUEUVm5dChvSHSdSi7xoiWoyq8bbvTtjvS3E1oI7YyKYXZ2ErPe4OQ\n",
       "TOWicOV3pmhGu1Io7AxBUSi7xoiSoqq3bl5JgkkXcmLU+opPUIkUyyI5ac6vsnl5AdJ9bW89kPQg\n",
       "wVPGpND7himiaBPAbumTJdwUBdrNyCFmYJvhjbhN9UP4Mfmad+76ANZzpzFpxBynU4vvdcosT+xB\n",
       "zIyYrzRXPUh6Wv1bTExMEUWPOFOBWyJuirx2cr7irkBPey+P+G0CAT6ZunuZagV+sJ4kNq5bDCLn\n",
       "UfFEYlDvycF78kjQ6PP3IbqsxES05EGKgnZB6H7GtB8PVTyl1KplaWWejyKPnXlR+oZnXKx4Z0D6\n",
       "0c6kp6HIuRjhZDWlqVpQoD90/YWEvq/6fOdLeVA7MTsqmbPNJMQyEuATJBCQ3IYcBuJ5LxL0dC66\n",
       "ItivZ4ooSthi7awf67SNfAWW+Chy28H+SWnAr7ADKMLAsNZlYyxaLpSztCMA6FkPRQAsEAbETw9N\n",
       "6BWjDkXNFqhZyaOh+ayHUwQwJ+lFwi5/t5wirdojzoFHD4FxIgIjic7FnUtFitx2UNkqDfgDqQCK\n",
       "MDD9jNxG32MdnopW3hEBxj2BBuolxpkDiy/NZRSRAwzLi0MjxcvPPkJAxotkIH1ZGPA4U7xG270R\n",
       "eefy7gVKWwai+AGNNc8lR3xeROxg9KE2Aq4mCzKKuuN5P0V4DAGmUw23wYE0JEbVkAfgQU+6/kKp\n",
       "AZmjI1OzulamNTFhh6brcUaTpEI3UixdG1YHKJYLCd6hhfrYqdZU6yZ3uoZhBG8+bDdtUbLQQvjM\n",
       "VE5JKMJ2ivViM3H5GCxGB1+Nlo3kfBSRMS28wGE2W2iqnEqXvCMCfCpM5kij/8ZrbAXax01wjRO/\n",
       "yiiK4MmAJG4UbKBfA3b4CFO3mgUbmcmfLRfZsrhPLL6gWIKTd8E8qw21lzHtZ2H59r0wJ41usZ9S\n",
       "lMBP5aUI26nwJ/3lZ+gA9WsvRWZZqfkoImMIcDTPbdbeKafIBfAEzzc5ovqG9gVsHT30Or3zwevn\n",
       "wCheTlGKWrB/x/AXVLBzbAN2aMapCYcAtLIIGmrdt9x2IenFaxZ8fn2rti8HFwk1fzDFFJnYaAN0\n",
       "4XhfVSgUkkZGs3N+iogd0BpdP/t90SIfyyVHln03IclFaAwBjmanbHbIKXIBrAtegDy9q9dVgRCK\n",
       "DrD8LdZU7vpD9S9AvEixpDoX+5aeo+rsF90O98GgiuKHeBE8mmR43v0itUZ+jlgwmPFTtAS0SzD2\n",
       "5diab0WK8BgCTIKA2ARR5AJ4LNQy1qFoNFxJGryMJQk8o+S1WkZcxrJIrCE/Op2ABKbfTIM5It9S\n",
       "G0xUEzBgwTMo7mxMkfYG6vJDFDnvJHxcbSofEygiYwgw/irUxqGIjaYdN8AvYjk5bb1JqsaACtgv\n",
       "0y4SBpEfmfkRcTOEfYUsmgn6KwBv4mBFq7esnKKhk6MV6CrHr4BWfJWUIPOhq6TegQ/zoZiHgct2\n",
       "LHMAFgoUkTEEGBNDbRyK2GjacQMsDLelhr/w4n+SdUgMs6UGxHVbStoLFuFxt3RjVkEpo+7GLN8T\n",
       "wYFmuAoLajwMubK3LiLA94uFnA5UKQtChwNUZ7Yx+9P/uTFrlqjOcu/aYJ9L7Vgq7hjz1hDcAxtK\n",
       "0gXIVOrpvjDN1hMDMGy4EWRWFJlix5a0Atdo0Zm89X64qSia5f9oqVn/S4Gk/UYgKNq77T8ZvOPV\n",
       "sG+BUAAAAABJRU5ErkJggg==\n",
       "\" style=\"display:inline;vertical-align:middle;\" /></a><br>"
      ],
      "text/plain": [
       "membershipUnfolding: forall_{m in NaturalsPos} [forall_{x, A_{1}, ..A_{_a}.., A_{m} | x in (A_{1} intersect ..A_{_a}.. intersect A_{m})} ((x in A_{1}) and ..(x in A_{i}).. and (x in A_{m}))]"
      ]
     },
     "execution_count": 2,
     "metadata": {},
     "output_type": "execute_result"
    }
   ],
   "source": [
    "membershipUnfolding = Forall(m, Forall((x, A_1_to_m), x_in_every_A,\n",
    "                                       conditions=[InSet(x, Intersect(A_1_to_m))]),\n",
    "                             domain=NaturalsPos)"
   ]
  },
  {
   "cell_type": "code",
   "execution_count": 3,
   "metadata": {},
   "outputs": [
    {
     "data": {
      "text/html": [
       "<strong id=\"membershipFolding\"><a class=\"ProveItLink\" href=\"_proofs_/membershipFolding.ipynb\">membershipFolding</a>:</strong> <a class=\"ProveItLink\" href=\"__pv_it/aff95953c88a190f394464f5fe6dddf6136fb4be0/expr.ipynb\"><img src=\"data:image/png;base64,iVBORw0KGgoAAAANSUhEUgAAAjAAAAAZBAMAAADd4wmLAAAAMFBMVEX///8QEBCIiIhmZma6urrM\n",
       "zMxUVFQiIiJERETc3Nzu7u6qqqp2dnaYmJgyMjIAAAAcRTyBAAAAAXRSTlMAQObYZgAABgpJREFU\n",
       "WMPtWXFoW0UY/5rkJXnv5XX9Yw60OEIrUyvah9ksrpVFxW4OBumEVtlwoVqwVTQyWHXqCCIsrUjy\n",
       "11YU6dPKOqrMYEWtdFgrwoiCwW440c2A+ocDXXCd6ybdvO/uJbmXd8+8bljEedCXu+++7+67333f\n",
       "d99dAdwU/+CzcDUV3+Dz7hgDcLWVff8D898C5nUhVc5f4bBqhnymGDAF/DlRGxhXfMtVlKSQfJD9\n",
       "PLy0waRCpd6PATVDgfkC26dqA+OKb7lKfUZI/oX9nOYhNBygrdDrixXyIewqUGBG0ASTtYFxxbdc\n",
       "ZU5I1XT2c7qy6E3P7H1JxMrTT16o0ENh8pmlwNSTUULZ2sC44luuYkketL2De5iWzI7e3lC2p9AQ\n",
       "QLdul+fpyuR5zpAayOcNCoyWm5jY7yL4uuJbpiIn+BDxYslATPXyrVGLZT3uYHEmXfPMcz0/oW9F\n",
       "6am0kEqJs5mQ9VRy5HOxEHHQc+DOOA0TK1U8ZLOVpv57ZmlYKDtOM0vOjE/Kh9MwfkbsI/H0zeoi\n",
       "1/MZLlynwPQBDAn18FqBqeYTCwUtyzK3bsbKY0qq0Vr7UTXP++VJyMrfgW/Ce0oHCSuv0O9bsIME\n",
       "ComGw4RDrsHRlaj0O9dzEm2oQIG5l4XhmsBU8WnzQqEfLKtlwdpvtYGy5J3CEfpBzE0UKo0TILEu\n",
       "B18Z91fmwPKcuRmjOkiRhEtgfCCf4Xo+xB1LUGAC4KnKi3o6op5VNmCq+MYWhafghrwdmO2lzulI\n",
       "npc8gF7Bs2NDmnHgJpS4Wakj6BuQYg65+jdSaHUlbT8SeYpM63MLTHfkjgWuZwcOUaTAhPK8JKqj\n",
       "JnOwPhRpi7TzwFj5ILdT6Afjuh2YPrN1fGrCIonZSA8PJDb8MQfuSp5CgQFgHsClECuZBUBdYQnA\n",
       "kKFWi4GRC91cB6qjfu3FsFBlMYxvdt0aqrkUTomA2RpM2oFJMDEfw6wiiRY4zLsnNgLgwE3KrZwr\n",
       "gXSWNRqsrkS6Ag3ugVHJ39PkmDrWpDfhBm4EJot3paFHiSfftbXZQ5ZM1VG3PRS2A0P5PMaTAbpd\n",
       "fmgjH1taGfcmbMCQw5WK1ZtPGCgJAzhPnDgOd8ugjf0g4DbLB1zw/dhThBZs3G4JvnKWpbJugXmN\n",
       "ZcpHr4dVxhpr8IVJwqbdna8b8MSBqqPGcscEwCCfBL8yynfQCtKn1cBoWU/RBowvycTGKpKw/TrW\n",
       "ETSC3ImGjU1g5y7nqyWH1cH3Z7DI7oyBLH/UYi4TPG8DRrlIPu8WzEqFTjOidEZ+MwHz0EHq+Oed\n",
       "YcCsIKfbqzfCiighjDFgQniUVwODfAAsTVR+/DJtQKAamEMdRy7YgYkzsZ5UKhU2JWE3u709QLAs\n",
       "c9NGJwi4wXo7JKtWeluambEpj202ycQNDl46BWr6nG6zmF1YiZuVMl1JXzTgo0s7wR+WGqgr/oyx\n",
       "L8aA0XDmXuhC7Kk6akzOJywJGB2b8klFSvYaMBqzA7Me5LMwd3hu2+ccMJhSoJgfKpIUGILYAH/c\n",
       "0saDYOPW2k+sm8bI1im8EviOWK8EJewwCaZ6213JRq+LeZJyMQYKio3z7zHXwE0waqqjxuC+sPg9\n",
       "ZjRUCMGIAVuIAeURGHmYNEsfH5lwEd4r1GWnOWDIZFQsRKM2k6TAaDOSjs5iDsAa42DjVm+DRhVP\n",
       "8e9dXSJZ9phYUm4+SmxGS87wl0gzaS8SmzluqqNFic5iYA4cnc1BVza4AHL6BQRGaoSujHQtfhoh\n",
       "nYSRc3l/bBzW8qfSbiYGL6P/M0kKjDeK0TtYGoA1yJg27j4l4cWQv1acXwuSZLntj/BSgOkkuYP8\n",
       "hME/O5iWFydJwj5TnY3kJhX/uxe8UlhAV1Irm1RmnoRElgPmltLxjFHDLAhMPSioRzmFon+erJ07\n",
       "oeoBHL3g7qHqCspQCXXb0yavvBMwqrlfUmu7+RBIy1Q5ob0BejMcMEFBvnOGrP+wUDf7mpW4J+q/\n",
       "mcyb/6efNjVU+9vLfvPVbHGsqla1SJ9YX0UXkrc4ajH2L3wMv8z/K+lWW6oyTsP5QVpYWpYNFt/g\n",
       "rr8ACvTNtNtUP6MAAAAASUVORK5CYII=\n",
       "\" style=\"display:inline;vertical-align:middle;\" /></a><br>"
      ],
      "text/plain": [
       "membershipFolding: forall_{m in NaturalsPos} [forall_{x, A_{1}, ..A_{_a}.., A_{m} | (x in A_{1}) and ..(x in A_{i}).. and (x in A_{m})} (x in (A_{1} intersect ..A_{_a}.. intersect A_{m}))]"
      ]
     },
     "execution_count": 3,
     "metadata": {},
     "output_type": "execute_result"
    }
   ],
   "source": [
    "membershipFolding = Forall(m, Forall((x, A_1_to_m), InSet(x, Intersect(A_1_to_m)),\n",
    "                                     conditions=[x_in_every_A]),\n",
    "                           domain=NaturalsPos)"
   ]
  },
  {
   "cell_type": "code",
   "execution_count": 4,
   "metadata": {},
   "outputs": [
    {
     "data": {
      "text/html": [
       "<strong id=\"nonmembershipEquiv\"><a class=\"ProveItLink\" href=\"_proofs_/nonmembershipEquiv.ipynb\">nonmembershipEquiv</a>:</strong> <a class=\"ProveItLink\" href=\"__pv_it/c199ab34e3b271896c2948ddbd122cdc97a9ddb70/expr.ipynb\"><img src=\"data:image/png;base64,iVBORw0KGgoAAAANSUhEUgAAAqcAAAAXCAMAAAABbhZqAAAAQlBMVEX///9jY2MJCQkNDQ0rKysP\n",
       "Dw8WFhYQEBCIiIhmZma6urrMzMxUVFQiIiJERETc3Nzu7u6qqqp2dnaYmJgyMjIAAADRR/RZAAAA\n",
       "AXRSTlMAQObYZgAABjZJREFUaN7tW4eS5CgM9UUTTLb//1ePYLcR2d303lXdULsr71go+QFCMMvy\n",
       "v2h0+fHzxybf0L7/CxYJA2mlsWKnf7EpAelX/Gxqnv8N3repEpSTmp2RZX9xmc++nibLPGGjTXJI\n",
       "a0N6K3U63+1fnk7K8jcB6Rf8rOjfxHe+wQObRoNyUYstrS6mXX6M02nCRtsuIK00TEqdzv8d1Q/w\n",
       "zIcKe0W+3CH9gp8V/bFG+mx5LrK/YdNoUC5qsSWu0SD48jFOpwkbbAZDOrT0QGazH0V8Ec64/UMG\n",
       "Lamy1+QvGkE63c+q/kjj9oKbGTCjyP6GTeNBOalfq88e91z4Pk6nCRtsTEBa/Mac/f0X2/NOYcQq\n",
       "fJQ6ay7CooXHnK+x1+TbNyuk0/2s6o803osyG1k8SuzPbXoQlJM6bBktXRNsmYDTWcIGE3gGaSmy\n",
       "HMmFi0KnM5ILOkh9ArNTyMiIq7NX5Pu1j0A62c+G/kjjtWiTsfGYs79h05OgBOqxdXDXmJ6B01nC\n",
       "BksMGFKJ0CYIitY16SZ4mAKi+IsQuaijsOXjr+liKIOpstfk+4BhSCf72dAfaVTnIx/bXOXsr3Bm\n",
       "RtVsehSUQD22QtLBn+wCdRWnbwh7v3EDqLRmGYaWaKHxG0aESp18D2szPVAzqRpZGmrsVfkhSYPU\n",
       "xXCPGv7Mz4Z+s6f20tH9RMZ+2ZYbVbHpWVAC9djyc7h8VJ3BVZz2hD1CcI+ZKUC1Hb/aJujk7sbz\n",
       "2gOLVmZnsjjwkn2rSTgF8rO5iUE62c+Gf7HGAKRtdL+YsV+25UZVbHoWlEADttwjatc7KcOOF61b\n",
       "B6cdYeYg4zDtMq8EUBcSDmujq52X/vzDzU5Zp7DtwXg7fBeKMZuN01h+IaYHpJP9bPgXa5Ts0SyV\n",
       "sV+2ZUZVbHoYlEADtrSpfw2pNMb2veJ+xGDZw2lL2CLxMV7/7zMn38/nx2A98dliUnuImMPTesaR\n",
       "TMcplD8Np2N+NvwDGrF6VJ5J2SOboFEVmx4GJcap2MuHBr6woISvXyuDHDq1y2ztyLR/VRmnDWFu\n",
       "cWB4OCJ95mQ99G7BcvWaA+1mvnqvX8JpIj/7YCzTC/LT7TM/G/7FnroP9uBoM2OP0qjEqKJNT4NC\n",
       "onXf5oFnwmGwocju4OzWjcLyg6KKCnRtoBrz6S1s0QhTtMVnGChZr5qpRp852V8ouSA3/NCdE2GU\n",
       "VVxe+yhxhuw6G5mNUyg/DW1xHzXTz4Z/UCOnQzX+CvtlW25UyabHQYn2Ua7acLpgyGrVrpvV6Ufz\n",
       "7Y+idn4zdACnL2HW4m1fWLQuWJnny61fVb6Z6zMuKF6QQy38SK5FMLXRcqdX4Y+fNec2TuVxBeP1\n",
       "dP+o1DORn4bWeqchnexnwz+okW5xjb/g3f2Us1+2lYzKbXoelEAvbJ2JhZDIyXHbF/9e4hindjK9\n",
       "AtbC6StLsT12kGAaO5b8mKN67eL0xdxocHGQG0ISYXgDRm6/E1noJPlx+L2osg8hv+jMp+w+i9my\n",
       "hxzWifw0tG4SoJBO9bPpX6JxB58z9y56ytlPqSWjsti/EZRAL2yZS9yG3EbtSjso81V7jgJO7Vhh\n",
       "Azg1t23gdEzuWGseDna7p3Qxc2O97Z8nmt80Z6x6blpAg+9VfKwrGWCHoT13zhGd7mfVv1SjeHbf\n",
       "JmH/yKZeUE6q08LPauGIuKtv+QsxG5hPF0LvqbKOU7h5u1l9rUCEXLuL05vZYGUMpkoXlA7cz8hr\n",
       "sDVm8t3D3iS0s++h9AvTL/80munXRzb1ghLdQwFD5TgxbrjfMt3YMJ7TNFKpgiy9+wqB8MeKJMw0\n",
       "odZ04tS/gf9kzApZKatalG5EohqR0uXICrP6Kk7T0D671/eWnxX/5OQLtx/Y1AtKdK8PDjk3gbq7\n",
       "BmLTHklcXWMxXAjYxnEqN0M0cmKoRZlNnLkH5sHMjVP/hq4i+idntsm4m/6L9xi794dLRw5FZoHZ\n",
       "saHv4TQNbRd5n/tZ8Y//qnvSXZu6QeGiulanus78tN8Qq28Ismrva91XfWYWrj+wEm/39zGKMfwP\n",
       "/N6JEZB2Z553/GxqnrhUfGxTJSgnRTsjv+SjpL+SQ9FxHhMUflkn/ZG0Yw4RtzyI5af9tG9OHk/e\n",
       "mJ94/bSs/QMQ8XgzlW2HFQAAAABJRU5ErkJggg==\n",
       "\" style=\"display:inline;vertical-align:middle;\" /></a><br>"
      ],
      "text/plain": [
       "nonmembershipEquiv: forall_{m in NaturalsPos} [forall_{x, A_{1}, ..A_{_a}.., A_{m}} ((x not-in (A_{1} intersect ..A_{_a}.. intersect A_{m})) = ((x not-in A_{1}) or ..(x not-in A_{i}).. or (x not-in A_{m})))]"
      ]
     },
     "execution_count": 4,
     "metadata": {},
     "output_type": "execute_result"
    }
   ],
   "source": [
    "nonmembershipEquiv = Forall(m, Forall((x, A_1_to_m), \n",
    "                                      Equals(NotInSet(x, Intersect(A_1_to_m)), \n",
    "                                             x_notin_some_A)),\n",
    "                           domain=NaturalsPos)"
   ]
  },
  {
   "cell_type": "code",
   "execution_count": 5,
   "metadata": {},
   "outputs": [
    {
     "data": {
      "text/html": [
       "<strong id=\"nonmembershipFolding\"><a class=\"ProveItLink\" href=\"_proofs_/nonmembershipFolding.ipynb\">nonmembershipFolding</a>:</strong> <a class=\"ProveItLink\" href=\"__pv_it/2065928e0172242d29e84bd59cfbfaea2523d78b0/expr.ipynb\"><img src=\"data:image/png;base64,iVBORw0KGgoAAAANSUhEUgAAAjAAAAAZCAMAAAAYE+SKAAAAXVBMVEX///9vb28YGBgNDQ0rKysP\n",
       "Dw8WFhYkJCRlZWVRUVESEhIoKCgtLS0/Pz96enovLy8QEBCIiIhmZma6urrMzMxUVFQiIiJERETc\n",
       "3Nzu7u6qqqp2dnaYmJgyMjIAAAAYJSVhAAAAAXRSTlMAQObYZgAABf1JREFUaN7tW4eW3SgMZXvN\n",
       "xvRq/v8zl+ICWGA745ndvDOcZEKCuKJcJCEchJ4rXAih0Gd51ULD/tonAcXnmr56UfyTMP+fwj4J\n",
       "81nq5XY31u9E+AOKUW0lEmbe2p17gjAP4r1a0XJsYHhfmM3va9tgeK7aSiCMNWvzrJ8gzIN4r1bm\n",
       "8Y2A0L7w7HskvLnIsHwHXs9tJRBGrUxW8hGX9CDeixVHbnj0WtjNHtpoKoUMv+jla05HvgMfTj9u\n",
       "KjGGWQ3BbhreFsM8h/diZZBycFKIX3+Ze8LaEA90tlJlV0auDaAn34GPLVNTiYRxVsei3h6yZoTn\n",
       "8F4s4u0uCJM4HDKpusIOYU8HFotfOptdeRg+n35aV9ItyctYbqVk7MimfgPeIxsCLBF95gJ7B7qr\n",
       "AC/7pTHmiuLN2ocAQZdhQiWcPYlGxh9vEHJzI9e8f0++A583mtSVRBieZifv5GjJiDBneLc0DYTp\n",
       "KYdlD8dQ9MbjIcdDBBTIvCc6oDmBkZjruwjGgHDuEbCYx6s1gmKeS9a8I1/BH6ObupIIQ8mB4G8i\n",
       "zAme8zd2ayQswRtgaRhIF4fcIO1N6J4Ckf2ADefchhiTqnoe9Z1SmPpgKJ8UMkLE04Qp4AHii7qS\n",
       "E3exjsdJEyaIDch44ueEGeNp4q/nZ4bCJWFYawW0seTrP10czZPvXn34gafFnwfoiP31Dzceoj6k\n",
       "RKfMq8gLWQ19mkP5+afw4yC8xKiEcL90oU8TpoY/7LuvK5kw1vVVxoUnod3IdDaIDt4s0Dz8Nt0R\n",
       "jfACiiCXCTMULufIWXvtMEp/GeDENAcuArkm3qCtx26wv+izIR6SLgUHKgeQA4rmTlkI59o0vxNh\n",
       "avhrhFFzk2VsFj4ujnE42hV7wSWVeBYThsslZ7g+X2O7NhSWB9WbtuQVd9MA4CQLKLvuqWgR6Ig9\n",
       "hC4UwF6G+YqDE7Dlu/BSEdP7EKaCd8QxHOJtvG3Zpo6WLimEbZwiqAfdmGGYYQpfI8yOF66LfEai\n",
       "cPJB4eKG+XmOchc+IUy+he7a5poIgFITZ24p6ryn7S3LBbfGhqBb78/hoNfocInNgGu4g8uFboJe\n",
       "Zepc7MOEqeEdnYLeKSwS5oOgN0xinXPbYzdUhgXj69g1wmx4gXVzddJcGGBaL2anU8JswqeEobLS\n",
       "pknVDilNPdJ7DRj/7i0ZusGW50OkEryhUm+Q9PXTYjAnrd9br7NbPkYuqbUxYbSfexVQvoZXGse/\n",
       "xyCerBu9mtKlsp6uxam2PTQpCRPMyzqPE8KUTrrKIeqZWCtzHlqcEaYUPiMMr7QxIaX8+y+J+0rz\n",
       "c1swJBp2xlvLBl1gB+iMPRji4T0vb7XmGGtMqodZzeWPGhSW3qfbkwmVHCqdWBjBu5Wj/BGe4xiE\n",
       "Fy5xXom8VFbCuHW8dY+08DItTiRMOBVilPjaR7ThpWBplyY63eHYJcLswo4Y5wgzlnUIs2YnVm28\n",
       "9D6g0syDYEgIPJetZUt8FNgA9GGIlN94GvjhixRCzBeEC8I4BFUHBvtcfgqjxzJOKW+a3kzXUjn4\n",
       "76YHrywMogxfdJILvEd2TpGySmlGmgea76F571ID9KMUNjigTAYZ2yFMms+uDYVt2ywHoDQumV0u\n",
       "dBwBwyha8lJV2BD0YYjO9lPzF9KT7iwx8i7Jcr/YDCdztAo+Po567Ec6p8KdvUUYzR21OF7HWVjL\n",
       "4Chl2hsv3LZ3qYFNqv7RCgcXHzeu/gCguiXpUltoM86s3vmoFG1QermwNCMoWnKXCvt3CLodIqHX\n",
       "s9bQhzKgsCLCc/xuhElWMeYDFLfVc0X5ecOwR1j41RLm1yd+izDV0ThI604D8G8iBtLxD9MhDG57\n",
       "4D/lEmeASrdwvu8XdQ8a/SYB7HaI8zVewFdwdPq11YeUjbRSdQgDzEWCC3+bMEa1KRafU39GnQtH\n",
       "HxBzaRyr3tOA7OfuAaXI3Pga8BJ0O0RQQe+rS5Ab//0nmk61lQ/8ptfdaXD3N5I6IJEyeHK4Y6hv\n",
       "QX+Dgu+oPEyYj/1/SWRklcYTw7c+bLwF/S0KvpMS/18S/xfjA59GVoa47wAAAABJRU5ErkJggg==\n",
       "\" style=\"display:inline;vertical-align:middle;\" /></a><br>"
      ],
      "text/plain": [
       "nonmembershipFolding: forall_{m in NaturalsPos} [forall_{x, A_{1}, ..A_{_a}.., A_{m} | (x not-in A_{1}) or ..(x not-in A_{i}).. or (x not-in A_{m})} (x not-in (A_{1} intersect ..A_{_a}.. intersect A_{m}))]"
      ]
     },
     "execution_count": 5,
     "metadata": {},
     "output_type": "execute_result"
    }
   ],
   "source": [
    "nonmembershipFolding = Forall(m, Forall((x, A_1_to_m), \n",
    "                                        NotInSet(x, Intersect(A_1_to_m)), \n",
    "                                        conditions=[x_notin_some_A]),\n",
    "                              domain=NaturalsPos)"
   ]
  },
  {
   "cell_type": "code",
   "execution_count": 6,
   "metadata": {},
   "outputs": [
    {
     "name": "stdout",
     "output_type": "stream",
     "text": [
      "Theorems may be imported from autogenerated _theorems_.py\n"
     ]
    }
   ],
   "source": [
    "%end theorems"
   ]
  },
  {
   "cell_type": "code",
   "execution_count": null,
   "metadata": {},
   "outputs": [],
   "source": []
  }
 ],
 "metadata": {
  "kernelspec": {
   "display_name": "Python 3",
   "language": "python",
   "name": "python3"
  }
 },
 "nbformat": 4,
 "nbformat_minor": 0
}
