{
 "cells": [
  {
   "cell_type": "markdown",
   "metadata": {},
   "source": [
    "Theorems for context <a href=\"_context_.ipynb\" class=\"ProveItLink\">proveit.logic.set_theory.unification</a>\n",
    "========"
   ]
  },
  {
   "cell_type": "code",
   "execution_count": null,
   "metadata": {},
   "outputs": [],
   "source": [
    "import proveit\n",
    "# Automation is not needed when building theorem expressions:\n",
    "proveit.defaults.automation = False # This will speed things up.\n",
    "from proveit.logic import Forall, And, Or, Equals, InSet, NotInSet, Union\n",
    "from proveit._common_ import A, B, m, x, AA\n",
    "from proveit.core_expr_types._common_ import A_1_to_m\n",
    "from proveit.logic.set_theory._common_ import x_in_any_A, x_notin_all_A\n",
    "from proveit.number import NaturalsPos\n",
    "%begin theorems"
   ]
  },
  {
   "cell_type": "code",
   "execution_count": null,
   "metadata": {},
   "outputs": [],
   "source": [
    "membershipUnfolding = Forall(m, Forall((x, A_1_to_m), x_in_any_A, \n",
    "                                       conditions=[InSet(x, Union(A_1_to_m))]),\n",
    "                             domain=NaturalsPos)"
   ]
  },
  {
   "cell_type": "code",
   "execution_count": null,
   "metadata": {},
   "outputs": [],
   "source": [
    "membershipFolding = Forall(m, Forall((x, A_1_to_m), InSet(x, Union(A_1_to_m)), \n",
    "                                     conditions=[x_in_any_A]),\n",
    "                           domain=NaturalsPos)"
   ]
  },
  {
   "cell_type": "code",
   "execution_count": null,
   "metadata": {},
   "outputs": [],
   "source": [
    "nonmembershipEquiv = Forall(m, Forall((x, A_1_to_m), \n",
    "                                      Equals(NotInSet(x, Union(A_1_to_m)),\n",
    "                                             x_notin_all_A)),\n",
    "                            domain=NaturalsPos)"
   ]
  },
  {
   "cell_type": "code",
   "execution_count": null,
   "metadata": {},
   "outputs": [],
   "source": [
    "nonmembershipFolding = Forall(m, Forall((x, A_1_to_m), \n",
    "                                        NotInSet(x, Union(A_1_to_m)),\n",
    "                                        conditions=[x_notin_all_A]),\n",
    "                              domain=NaturalsPos)"
   ]
  },
  {
   "cell_type": "code",
   "execution_count": null,
   "metadata": {},
   "outputs": [],
   "source": [
    "%end theorems"
   ]
  },
  {
   "cell_type": "code",
   "execution_count": null,
   "metadata": {},
   "outputs": [],
   "source": []
  }
 ],
 "metadata": {
  "kernelspec": {
   "display_name": "Python 3",
   "language": "python",
   "name": "python3"
  }
 },
 "nbformat": 4,
 "nbformat_minor": 0
}
