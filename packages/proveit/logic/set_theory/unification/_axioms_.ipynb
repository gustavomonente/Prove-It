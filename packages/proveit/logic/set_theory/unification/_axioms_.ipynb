{
 "cells": [
  {
   "cell_type": "markdown",
   "metadata": {},
   "source": [
    "Axioms for context <a href=\"_context_.ipynb\" class=\"ProveItLink\">proveit.logic.set_theory.unification</a>\n",
    "========"
   ]
  },
  {
   "cell_type": "code",
   "execution_count": 1,
   "metadata": {},
   "outputs": [
    {
     "name": "stdout",
     "output_type": "stream",
     "text": [
      "Defining axioms for context 'proveit.logic.set_theory.unification'\n",
      "Subsequent end-of-cell assignments will define axioms\n",
      "%end_axioms will finalize the definitions\n"
     ]
    }
   ],
   "source": [
    "import proveit\n",
    "# Automation is not needed when building axiom expressions:\n",
    "proveit.defaults.automation = False # This will speed things up.\n",
    "from proveit.logic import Forall, Or, Equals, InSet, Union\n",
    "from proveit._common_ import m, x\n",
    "from proveit.core_expr_types._common_ import A_1_to_m\n",
    "from proveit.logic.set_theory._common_ import x_in_any_A\n",
    "from proveit.number import NaturalsPos\n",
    "%begin axioms"
   ]
  },
  {
   "cell_type": "markdown",
   "metadata": {},
   "source": [
    "**Membership in the union of sets is the same as having membership in *any* of the sets being unified:**"
   ]
  },
  {
   "cell_type": "code",
   "execution_count": 2,
   "metadata": {},
   "outputs": [
    {
     "data": {
      "text/html": [
       "<strong id=\"unionDef\">unionDef:</strong> <a class=\"ProveItLink\" href=\"__pv_it/2a90d85dc95971167f50a11df7604c375c84346a0/expr.ipynb\"><img src=\"data:image/png;base64,iVBORw0KGgoAAAANSUhEUgAAAqcAAAAWBAMAAAAPwijOAAAAMFBMVEX///8QEBCIiIhmZma6urrM\n",
       "zMxUVFQiIiJERETc3Nzu7u6qqqp2dnaYmJgyMjIAAAAcRTyBAAAAAXRSTlMAQObYZgAABo9JREFU\n",
       "WMPtWXuIVFUY/7wzszP3Ne4fJpQkwy5YiuXgVoKreEtKkh6zG62FlYO15ErRlGFkZUMQjkrMQKGL\n",
       "kXvTSNtiG5CyDaHB/pG1x6BJ9tAGVEz/0MUHroZr53XPPfcxs/eu0V8e+N3Huef7vnt+9zvf+c65\n",
       "AAGKdCYD4yxylcKnfATXWdQSRQibTuHAPRizDNrQTxpQw3VHGotoRhKf9Gr4ju9k8BYlT06xWjiF\n",
       "YvsehsA2RfmeED3wL8/Yl00lG5oB+3Hd6bFI1crolDTDk3qKwVuS1FWSw7yGqFe87NsPne1hgCGw\n",
       "TVGeCpIhGPNSbz+sqwnOCu9Ys4FI7cUenh+LVNKiNzyneprCpxykp6NXeA3xoaSXBvuhsz1oKYrA\n",
       "NkV5KtiNDwc8rZown3oKGmnSzwpOttcGIhW7H/HDhqQSX94fntR4iUJ4lXWvrSUXr9NPvOsyf5Qj\n",
       "El4d9kNne1CaKQLbFOWpYBc+rPF6ahYrMqGBJvh8gfDoYxuILX2ov38zjEnqn/39n+XCk7qZwX7b\n",
       "d9jnlak2XboQilSxPcBxhoA2nfLHrSAUTfuHkIXQSBNUZxnCcDI4EFswUii8OTapEwuFdZXwpLYy\n",
       "bJv2wUwy3Aast5JoTxarV0ORKrYH+J4hoE2nPBFU0WskfBKBXQjrLW1KS899e92aouZ3wsStpTkw\n",
       "qd1M2kulSCoKMolSeFLfo1Aq+ivxmmPOTZA3UozYuTCkOtqjAMkA2hlS0o1tOuWPWnqf8ItbyC3z\n",
       "lrYv4NfUWnfG8AksE8K5XuPApC4kU5ZPiYikoiHimGfrMOz+PG9QaKZ2JUok+JQYJ3E8CvJ5sLoV\n",
       "gFTW3iq7GQLadNqjgi0Az/ml5iloMixtQ/Cz+aBLExjQJ4QNNceBSY2D5Mo/l8wzpMkuUlGn7hDb\n",
       "/GX4TogXXBWTKBRIsKx0KnYofDWBKOhqu2cE4LE5QUml7XlZxhDQptMeFdzh71NKjjnRJJLOFTya\n",
       "Ys+2vSRwHBvmwGxpVbEfyp62qpofgrluUn8EcZ5SFvguBLZf9e8gwEQ6VOzkjZKKDlPRaVFQUln7\n",
       "IKT62HTao4KRsn/u086SHaIJznk0RVEXanVJlWtdgq7Dg/2gHohARWub09YukLqVZBmc5h2+6dvQ\n",
       "Kv+hiHrAFrrNjuGvIrzMSa2BbzKftLJru71VFlmyLKZmG9t02qNG5VrcN5BtZZ+RaIpddGsC9Ppx\n",
       "4Taa48BswXoUU/T5na3StAzNLtSlT6Yqbk9NbMJe3dpJsmXoTPitF2Kpgv9EpZqzQCIz52zHRPUh\n",
       "W5fQ/t1lTbuu2G6wWZq3P3ioJd3SLU5UwWw67THBdw/4kpp4OsW1fSsNwwynJrlMFmcWb+6JCnYh\n",
       "gvV7qxNWSlnqFWpm6JCHVBXHoRlNtVdJTTaChFZ61iEwx1XDcp5Hy0W2fxIvCzkIyVWLJYvUAfRy\n",
       "UbzK+LLGDsoodtIT6PCICXb7X26FyeY0dD2PIaBNpz0m2EVTf9vcKHWQ501LW/SfxDDdVuGaSPqa\n",
       "uMx5g0iFg5CKQ8+W22CigSq2U1I13GUnqSSsZJI0lOpl9O2eusXdnT9glquGjc9PW7bNp5LKisV8\n",
       "vCjFURO+ubaKj8S/v1q6gqxistZhNRmJGx//egOWZe3lbTm4QDg5wRDMpsseE0zSQGabW03rj3Ft\n",
       "yvIZrUecb7/z2mlQi5fSFm+QzHAQtnTcj+XQgb/DkkKhkFIzcjXnIfV3EvtpJjUwb98V7+pOOfZD\n",
       "0RxryRjd51im2jxg72id7ZupdbZNd46IVKwZBzs0RRMEtinaswTlOttEW2xtDTQx3lASwaHxxOgm\n",
       "uB36YmgAE0+F+1Pi3o3dbBnduZkL8kUvqRET+jJ6+5G792SCb6iIpAYtEzJSXh7OjGtDhdvzCtbd\n",
       "EmpQGG+uDRX2uYYR54c10MjujAF6xbVMZa1+goq8AaJoWF0lpKKbXpMcek14GHlyVb0TpqgVx2rA\n",
       "f8EmLh92hyO1D/mqnq/U2/qrb1O0NxDQWENNFm+urT/m1lk4BZuGADbi73gczUR+pCovPjTTjE2B\n",
       "Yh56L1UxqeimoxS7GR06yokRkItvQbeSixjBN6lxef/t5aFIfQCSJfkFsx57DTepub31171JLfCG\n",
       "PcSC5lkXSSimetdsa8XfKap1sUa8AWtizKnpuPq//E7RSxTj+p2i/6e/U36zIZ00xtGXQWv6OF+2\n",
       "b/g/HyUrGU3T4UYJV6q+N/oNYnj5F794LLftpKsxAAAAAElFTkSuQmCC\n",
       "\" style=\"display:inline;vertical-align:middle;\" /></a><br>"
      ],
      "text/plain": [
       "unionDef: forall_{m in NaturalsPos} [forall_{x, A_{1}, ..A_{_a}.., A_{m}} ((x in (A_{1} union ..A_{_a}.. union A_{m})) = ((x in A_{1}) or ..(x in A_{i}).. or (x in A_{m})))]"
      ]
     },
     "execution_count": 2,
     "metadata": {},
     "output_type": "execute_result"
    }
   ],
   "source": [
    "unionDef = Forall(m, Forall((x, A_1_to_m), \n",
    "                            Equals(InSet(x, Union(A_1_to_m)), x_in_any_A)),\n",
    "                  domain=NaturalsPos)"
   ]
  },
  {
   "cell_type": "code",
   "execution_count": 3,
   "metadata": {},
   "outputs": [
    {
     "name": "stdout",
     "output_type": "stream",
     "text": [
      "Axioms may be imported from autogenerated _axioms_.py\n"
     ]
    }
   ],
   "source": [
    "%end axioms"
   ]
  },
  {
   "cell_type": "code",
   "execution_count": null,
   "metadata": {},
   "outputs": [],
   "source": []
  }
 ],
 "metadata": {
  "kernelspec": {
   "display_name": "Python 3",
   "language": "python",
   "name": "python3"
  }
 },
 "nbformat": 4,
 "nbformat_minor": 0
}
