{
 "cells": [
  {
   "cell_type": "markdown",
   "metadata": {},
   "source": [
    "Proof of <a class=\"ProveItLink\" href=\"../../../../_context_.ipynb\">proveit</a>.<a class=\"ProveItLink\" href=\"../../../_context_.ipynb\">logic</a>.<a class=\"ProveItLink\" href=\"../../_context_.ipynb\">set_theory</a>.<a class=\"ProveItLink\" href=\"../_context_.ipynb\">unification</a>.<a class=\"ProveItLink\" href=\"../_theorems_.ipynb#nonmembershipEquiv\">nonmembershipEquiv</a> theorem\n",
    "========"
   ]
  },
  {
   "cell_type": "code",
   "execution_count": 1,
   "metadata": {},
   "outputs": [],
   "source": [
    "import proveit\n",
    "context = proveit.Context('..') # the theorem's context is in the parent directory"
   ]
  },
  {
   "cell_type": "code",
   "execution_count": 2,
   "metadata": {},
   "outputs": [
    {
     "name": "stdout",
     "output_type": "stream",
     "text": [
      "Beginning proof of nonmembershipEquiv\n",
      "Recorded 'presuming' information\n",
      "Presuming previous theorems (applied transitively).\n"
     ]
    },
    {
     "data": {
      "text/html": [
       "<strong id=\"nonmembershipEquiv\">nonmembershipEquiv:</strong> <a class=\"ProveItLink\" href=\"../__pv_it/047026250872dbd48955a72eae3da1baa10be6730/expr.ipynb\"><img src=\"data:image/png;base64,iVBORw0KGgoAAAANSUhEUgAAAqcAAAAXCAMAAAABbhZqAAAAQlBMVEX///9jY2MJCQkNDQ0rKysP\n",
       "Dw8WFhYQEBCIiIhmZma6urrMzMxUVFQiIiJERETc3Nzu7u6qqqp2dnaYmJgyMjIAAADRR/RZAAAA\n",
       "AXRSTlMAQObYZgAABkZJREFUaN7tW4mStCgMdk8BOUXf/1UXEJRwCHbjv1u1Q9V0nDbk8gNCpKfp\n",
       "f9GW6cfPH5tcQ9v2L1gkNKSVxoqd/sWmBKSv+Hmrefwz+NymSlA81Rsj03Zy6e+e3kqmccJ6m+SQ\n",
       "1oY0LXXy97aXp5OyfCogfcHPin4q3nkGD2zqDUqgBlurCkyb/Bqnw4T1tk1AWmmYlDr5//ZS7IuX\n",
       "9Ud1w16Ub/g2SF/ws6I/0/gQt6Ji2wObeoMSqMGWCKNB8OlrnA4T1tk0hrRr6YHMetsLSNyKl3UY\n",
       "1dnL8m28EKTD/azqTzVu+NncgKd6OPuW/e6geOrWat/jmgs/x+kwYZ2NCUiLz5izv/9iW97pGLEK\n",
       "7+I2uD3pVZ29It/emSEd7mdVf6Jx4ezJ4peyP7fpQVA8tdjSq7RNsGkATkcJ61yBGKTFqCI5cVHo\n",
       "5CM5oZ28iNOKfDcvEUgH+3mjH2qkBKEHQU/YP7DpSVAO6rC1c9vYOgKno4R1lhgwpBIhKgiK1jVp\n",
       "J3iYkKF4nSJyUrt+D6c1+S5gGNLBft7oBxptrwfTSsp+hjMzqmbTo6Ac1GGLunISf5JNr1WcfiDs\n",
       "88Y1oNKYpRmaooXGbRjhdMGjCElj87Kj13BalX8kaZDaGG5Rw9/5eaNfx+CxKdqDNC1lD7blRlVs\n",
       "ehaUgzpsEdy97Tz3cFWctoQ9QnCLmSlAVzN+V5Ogk6sbz2sPLAqyNVnsOCxTw3EK5GfVQgbpYD9v\n",
       "/AMa7bXof/ope7AtN6pi07OgHPTAlr1E9/XOhWHLi2bawGlDmN5JP0ybzDMB1IaEw9robOalP/+w\n",
       "s1PWyZX2MMZ0d10WjNlonMbyCzHdIR3s541/sUaNrmWw55mk7MG2zKiKTQ+DctADW6uuPw2pVozN\n",
       "fcXdiMGyhdM7YZPEe3/9v82cPD+XH4P1xJXHkkUtYj6uZh9HMhynUP4wnPb5eeNfrPHYvBeL8UVP\n",
       "U/bIJmhUxaaHQYlxaqbxmp2aKyGtacoMJOwSU4NbzMyfKuP0RphdHFh/ra7NnKyHzi04Mcw50C7m\n",
       "0HvOcbqBfcOD+mnMnsjPHhjL9IL8lH7n541/kUblQ7z15WM5e5RGJUYVbXoaFBKt+yYPpMTXbPWC\n",
       "zA7ObN2WM9s8xC9qEShsoG7m00vYtCK8oHhFWVCyXt2mGm3mZH+h5ITs8ENXToRR5EOyjxI+ZOHd\n",
       "SIzT6yWK6hlYRXYoPw1tcR810s8b/yKNAXCqb/7I2YNtuVElmx4HJdpHWa3eBU1mo3amRieF84Ra\n",
       "zPymlw6cnsKMxXSbWLQuGJn+Jm1Xli/m+owLihdkVxPfk2MRTKWpV+h0Fv64rznHOJXhTA0JGwG5\n",
       "h2CcV9FXGXsmPw2t8W6FdLCfN/5dGq+9FZN1786rnD3YVjIqt+l5UA4asOUTCyGRlWO3L+6+xDFO\n",
       "zWQaAnaH0zNLMT02kGBqM5bcmFvWuYnTk/mmwcVBUoQkwvAEjKS/E1noJPm+O0wpc3HkFzFOTfrC\n",
       "1bIoys/OjGZX11cZeyo/Da2dBBZIh/p569+lkZ6zyFlAKnh3XhXYvdSSUVnsPwjKQQO2dBBHkd2o\n",
       "hbRjYa5qz9GBUzNWWAdO9WUbeDsmN7yu/Hix23xTFzPfJKjt94n6t5UzVn1vWkDDmXdgjPqraE12\n",
       "GFrjoVcnOzZqH/lZ9S/SGC12PTv+EvtXNrWC4umaFn5mox5xW99yhlAwn05kQXWfVlLcvF2srlYg\n",
       "jly7idOLWWOlNV7UWlDacT4jr8HWmMm7L3uT0I4+h9IuTJ/+rWikX1/Z1ApKdA4FpA+7x7jmbst0\n",
       "YUM7Tn2TShVkrZurEAi3GpJjSThqTR6n7g78yJgVMlJmNan1JhLViJQOR1aY1as4TUP77FzfR35W\n",
       "/JODD9x+YVMrKNG5PjjkqN/TCbo6JHEVxuJxIID241RSTVZkxSwGZSZx5g6YO9MXTt2dZRbRR85s\n",
       "knE7/RfPMTbPD5deORSZBWY7Re/hNA1tE3nf+1nxj/+qc9JNm5pB4aK6Vqe6fH7abojVNwSqXC4u\n",
       "3cm/YkcZhJV4m7/HKMbwP/C7Ey0gbc48n/h5q3ngUvG1TZWgeIo2Rn7JQ0l/krOg3b8mKPxYJ/1K\n",
       "mjGHiF0exPTTftqbk8eTO/onXj8ta/8AoFF4xbyKYbEAAAAASUVORK5CYII=\n",
       "\" style=\"display:inline;vertical-align:middle;\" /></a><br>(see <a class=\"ProveItLink\" href=\"../__pv_it/047026250872dbd48955a72eae3da1baa10be6730/dependencies.ipynb\">dependencies</a>)<br>"
      ],
      "text/plain": [
       "nonmembershipEquiv: forall_{m in NaturalsPos} [forall_{x, A_{1}, ..A_{_a}.., A_{m}} ((x not-in (A_{1} union ..A_{_a}.. union A_{m})) = ((x not-in A_{1}) and ..(x not-in A_{i}).. and (x not-in A_{m})))]"
      ]
     },
     "execution_count": 2,
     "metadata": {},
     "output_type": "execute_result"
    }
   ],
   "source": [
    "%proving nonmembershipEquiv presuming []"
   ]
  },
  {
   "cell_type": "code",
   "execution_count": null,
   "metadata": {},
   "outputs": [],
   "source": []
  }
 ],
 "metadata": {
  "kernelspec": {
   "display_name": "Python 3",
   "language": "python",
   "name": "python3"
  }
 },
 "nbformat": 4,
 "nbformat_minor": 0
}
