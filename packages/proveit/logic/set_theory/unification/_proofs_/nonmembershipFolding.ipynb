{
 "cells": [
  {
   "cell_type": "markdown",
   "metadata": {},
   "source": [
    "Proof of <a class=\"ProveItLink\" href=\"../../../../_context_.ipynb\">proveit</a>.<a class=\"ProveItLink\" href=\"../../../_context_.ipynb\">logic</a>.<a class=\"ProveItLink\" href=\"../../_context_.ipynb\">set_theory</a>.<a class=\"ProveItLink\" href=\"../_context_.ipynb\">unification</a>.<a href=\"../_theorems_.ipynb#nonmembershipFolding\" class=\"ProveItLink\">nonmembershipFolding</a> theorem\n",
    "========\n",
    "*** see <a href=\"../__pv_it/9fe5b885d7e25e9a607d2316d4088e17b5b145040/dependencies.ipynb\" class=\"ProveItLink\">dependencies</a> ***"
   ]
  },
  {
   "cell_type": "code",
   "execution_count": 1,
   "metadata": {},
   "outputs": [
    {
     "name": "stdout",
     "output_type": "stream",
     "text": [
      "Beginning proof of nonmembershipFolding\n",
      "Recorded 'presuming' information\n",
      "Presuming previous theorems (applied transitively).\n"
     ]
    },
    {
     "data": {
      "text/html": [
       "<strong id=\"nonmembershipFolding\">nonmembershipFolding:</strong> <a class=\"ProveItLink\" href=\"../__pv_it/de239891118719db68d4491294d61d2bbe1be22d0/expr.ipynb\"><img src=\"data:image/png;base64,iVBORw0KGgoAAAANSUhEUgAAAgkAAAAZCAMAAACM9U14AAAAV1BMVEX///9jY2MJCQkNDQ0rKysP\n",
       "Dw8WFhYkJCRlZWUoKCgtLS0/Pz9RUVEvLy8QEBCIiIhmZma6urrMzMxUVFQiIiJERETc3Nzu7u6q\n",
       "qqp2dnaYmJgyMjIAAACXTERdAAAAAXRSTlMAQObYZgAABTxJREFUaN7tW4eSrCgUdXOWnPn/71yC\n",
       "KChBHXt2u2aoeo2vuZyLcOAGeqbpuUIopXz6Lm9XkFs49SQg/Z7Tty2cfDPhEwr+ZsKX2VH6ysQM\n",
       "pD+hSF7WgQlmbdb6CSY8iPc2RbD+kUA60ti89jiqwxNe1p4JSqZWI55gwoN4b1NM30+GqCNtbIVZ\n",
       "1cc2ETviNXgvZ8raM4EnhnL2iHV4EO9dioZXrGYprY09LrapPraJ2BavwocNC8ra+wlp626b+WN+\n",
       "wnN471J6obNm9NdfqGlJCwkt71GHnp73mngdPrTMZe2ZoJXwhX/c34sIz+G9i7vYflPMgJgYb0vr\n",
       "CVj0OibU4eOGRUUdYgfLfLmUWlC9Ed3Ae/y8Rp+IAJbjXgBAOALpvA1WWGSmuJQOBYlJWv0yJjTg\n",
       "4xLCog5MICHcZVeyg7A3ohHeJU0d4c5asbvq7iCwONfCUV9TMGWmIHjmANSkYxf3CtiCdH48zYQC\n",
       "/kB1U9SBCQhOB+Z+hAkDPG0vbNiecNsj5fCmulsINDpEyu1/5fwzxMsR7kIoKksucxtUYQjp00zI\n",
       "4CspBVrUMbPkn0E/+McUKgcMZjJmQh9PQHs+z9AVbjBBSPXP3/qWunsIM1oDOFamCmZjzM8/uQ9z\n",
       "kI55BgghsUsf9DQTSvjDitqijkxQuq3RzQqErl2yQHoonGFx9HX/ZHNEPTyHQuF5f6QnzBrOuuR/\n",
       "iXvq7iFka1sexSGO3odQmXR8ms2LmFDCn2ICN/s0WDErws+K1MCfBOqEdcjxFIAYkCzvjsFu43RP\n",
       "oq4wK8LjRY83TVjdUHcfYTvvsS1vGObKUm7SywOdD0wwhwzQyXxCLl7Aa6gxcM4qWBcjqUO5dXAu\n",
       "EUFTrQNal1xiiTk4x4QNz8VQxEw0s7NO4WIQyTh9tgkPmLDp8VMB+XV1JxAGHqMULmSLSKs7BbIZ\n",
       "3HuMXJZZwIwJW1JSnjnQquIlvEaz0zu7SQCk7TF6AJpip7LDRjGJ3TGp8TkmrHiOTqYwstqNL8wX\n",
       "VvOQCavwkAmrHgGLhvPqhgid0yTMBrJyYnZ3vUQlwY3obc0rsCX3kzFBmLRxV3dTWNN6qInv4LkA\n",
       "/v/e9YVpCcs63UUu9m3fQcCcCe5ASK8xYEJuL4sclzBQKRYToHTEhFx47CdEPZgy9ucfjIHr6oYI\n",
       "zWg2vLcgAAgAy2s3QX5EoirNrA3LJt1D9EMyJjj7yiTGkrCtMyXNh6P4EZ4A78Fm1imxZ6kTE3SC\n",
       "KDv4WfEFRCY4um97vcuEFS84JJs0FCGwwaeWZhPWUGoNsVS4yYSkh+R24JK6AUJ9DKNss/5BMUrb\n",
       "2eYDRTb3BEJwPhMyFJ/dsAHz7xKXQyzaUn34fcKuAynOhAlhcNKHXeDtpExwM3mgK4obJkZly9KE\n",
       "lvLjICyBQ5nlJFWdCZueSWGxDrqirqItqhwi1MeweFdXEmN6EOC/JiNul22uWfT1ajdQvQ7bBojZ\n",
       "V60uMUEQjRTw0Sd2c+hMFguLYanemBBa8Myzj6Ows7aevOX1Lqvocd/+LlcLeVRX0Ra+O4FQHcMg\n",
       "CVn94UJVmkNqCXgZE5BfaH8dzkl4ydqtdLfDxGQ6uuJNBbnEhILyB2nRajl+RaNbTIuGRmz322LP\n",
       "GurkeGx1hOoYOgs+tfJr4n9wXZ/YyHiDCZV3qc/rZSZIvjdsdslNST4U9sc1QP604kMmcFi3o4u6\n",
       "irb9d3WE+hhSF30l+fXf/3pN87L+zN8x6ist52aqPs2qf0mgx98pNH298jATPvfvHWArG/XBQr4c\n",
       "DfzfO5B/Af+5hXw7LZuLAAAAAElFTkSuQmCC\n",
       "\" style=\"display:inline;vertical-align:middle;\" /></a><br>(see <a class=\"ProveItLink\" href=\"../__pv_it/de239891118719db68d4491294d61d2bbe1be22d0/dependencies.ipynb\">dependencies</a>)<br>"
      ],
      "text/plain": [
       "nonmembershipFolding: forall_{m in NaturalsPos} [forall_{x, A_{1}, ..A_{_a}.., A_{m} | x not-in A_{1}, ..x not-in A_{i}.., x not-in A_{m}} (x not-in (A_{1} union ..A_{_a}.. union A_{m}))]"
      ]
     },
     "execution_count": 1,
     "metadata": {},
     "output_type": "execute_result"
    }
   ],
   "source": [
    "import proveit\n",
    "%proving nonmembershipFolding presuming []"
   ]
  },
  {
   "cell_type": "code",
   "execution_count": null,
   "metadata": {},
   "outputs": [],
   "source": []
  }
 ],
 "metadata": {
  "kernelspec": {
   "display_name": "Python 3",
   "language": "python",
   "name": "python3"
  }
 },
 "nbformat": 4,
 "nbformat_minor": 0
}
