{
 "cells": [
  {
   "cell_type": "markdown",
   "metadata": {},
   "source": [
    "Demonstrations for context <a class=\"ProveItLink\" href=\"_context_.ipynb\">proveit.logic.set_theory.unification</a>\n",
    "========"
   ]
  },
  {
   "cell_type": "code",
   "execution_count": 1,
   "metadata": {},
   "outputs": [],
   "source": [
    "import proveit\n",
    "from proveit.logic import Forall, And, Or, Equals, InSet, NotInSet, Union\n",
    "from proveit._common_ import A, B, C, D, m, x\n",
    "from proveit.core_expr_types._common_ import A_1_to_m\n",
    "from proveit.logic.set_theory._common_ import x_in_any_A, x_notin_all_A\n",
    "from proveit.number import NaturalsPos\n",
    "%begin demonstrations"
   ]
  },
  {
   "cell_type": "code",
   "execution_count": 2,
   "metadata": {},
   "outputs": [
    {
     "data": {
      "text/html": [
       "<span style=\"font-size:20px;\"><a class=\"ProveItLink\" href=\"__pv_it/f8c6b5008c11be6d7dc674d4cce8eb3e800768080/expr.ipynb\"><img src=\"data:image/png;base64,iVBORw0KGgoAAAANSUhEUgAAAKcAAAAVBAMAAADROuOhAAAAMFBMVEX///+IiIi6urrc3NxERETM\n",
       "zMwQEBCqqqpUVFQiIiJ2dnYyMjLu7u5mZmaYmJgAAABN0h6tAAAAAXRSTlMAQObYZgAAAm5JREFU\n",
       "OMtjYGDgu8dAPcB68QCI4tmFQ96OVAPZDYAEUyqIyfcBuxIeB4jVG9DEX/zvveGigKZWpLePeQFD\n",
       "M4h9G0RwTcBuKLcBhALbCfETRCKFgYH3K6qY2AMG9msPGE6D2CvxGfoWQr3+AyLBzuWGOP0f0I9/\n",
       "UcSOzAES9w0YuARwGPpk5kyIhydDPFb7GUSB1XCCRRiBAnwfUcS2gRytBlScgN3QEBkogxkizMf4\n",
       "Cc1QFqDOY3OQxXi/g1ixQLwJxdCDEkZSILfz7IGZzngBTOmw/0MzlL+BgXXGAWQxezDrMBCvBeJl\n",
       "IA4H0Lc8C/gmcoJ8zWEAM5TlAdj3Cqwf0QyN73voWYAitl4Apuk1EL8HMcoCgK49wPWHCWQeCzwc\n",
       "OMEamRiY/6IZKm/AwJOBIjY/AKapEhR1QC+GTAYnDBZIqgzbDQTgiGIDJ8WIuze+oBnqBjK4AFks\n",
       "/wAs1cWDGJ1Ah6uB7eGHeMEE7lKIoUAiG83QHyBDBVBcCs5OAVBDuRtAwQh2YzzEC2yo3mcH4mnw\n",
       "dHoalkwZ+hWQxe6DAo4LxNOEhSko9tkPyDMwgtzPK4ASUeZAvB/EuwQiamHJlPULipg9SNMaWEQt\n",
       "gxmqX+APLT+mwwzlugBNq/4gd5wGeoQJnNy4gclUzYcBWQyU6mrB4XoLOZ2eEDx4D5yEGE44HYAY\n",
       "yjSBgcf/9wGGkv9zQVlhS2l4C0iGY/+Puy3ukOwBE2M469ELKWG24simWp4o2RReTspeNMAoO9HF\n",
       "eCbADU3AW6CQAhAFCq7ylMWAZENPw8tThl14C2lSgDMoLpIgtcA9KlUnfAbQOgoAvDSsd94Ai6MA\n",
       "AAAASUVORK5CYII=\n",
       "\" style=\"display:inline;vertical-align:middle;\" /></a> <a class=\"ProveItLink\" href=\"__pv_it/bb975b65b9353244e87a52bee41d85f27782762e0/proof.ipynb\" style=\"text-decoration: none\">&#x22A2;&nbsp;</a><a class=\"ProveItLink\" href=\"__pv_it/c51be7201ec9b83493ca8dabca38128d994edeb90/expr.ipynb\"><img src=\"data:image/png;base64,iVBORw0KGgoAAAANSUhEUgAAAPsAAAAUBAMAAAC5TlbCAAAAMFBMVEX////MzMxUVFR2dna6uroQ\n",
       "EBCqqqqIiIgiIiJmZmYyMjJERETu7u6YmJjc3NwAAACgK8IjAAAAAXRSTlMAQObYZgAAAy1JREFU\n",
       "SMeVlk1oE0EUx//5aL52N4aCBy3SCh4MpbYniygYkIKCYBFPejBHe9GgSCkKDR5ikaJFUelBjKAH\n",
       "pVgVPwpquxRrawsSvBQVJAcP4getPfiBH/W9mZ3NJmZCM7Czb3Z/M+/NmzdvBogXoC+hYsWH+mh8\n",
       "qUHjMFdz2t9r6dlU8U1Dv1pOnn+c+o8271THzRPJtniHn629rVU/Ss8sCz7RTKAGfQCIfpW0BEWf\n",
       "WLE6fbyA0MWCmQesIZ12a9QGAhmS/DygxZKO9v0Bgj8ljfVczXP1ujo9N0jV1SI6gUiZgdbYwBkl\n",
       "PycAZjcP3kJVxIaeDv+l1ndJo5Er1oCzZVrfDgzkhXCDh+oCpoAPZZN4ZJcahf4U1deVy3exoKMN\n",
       "0js16NDs8iC7KZ714k0nHSH6jes1BKbQR9L00ffHhNtmPdqD9hGO8i0s99AzzoKOXtUC3ynboUOk\n",
       "2mA3hYc8uDmi4AVh1Uta2SE8pR8d1umIcIs3cp+hmXu9YTlCUxVBrKOb2+bH0ooGDd8kfFLw4H53\n",
       "3bZn1OLlkSMj7MDvoPjp3ScpLLDxh8TSZuDnldDS/UWYexWNXmCDsDrtwQ0XPpdQeSKLfWQgDDmS\n",
       "b/8tKs7CJofb+Wuz2KdZZ0/p6AdsQtqhMQNTuKch5cFXMy0+HxSLRpVvkQekpZPuiHvmE6TeeaUe\n",
       "l7BZqa9KL7H6jKKj6UBaqXfxT6XZi5knhPqcWDrHHd2lAal/hJs7ResjZBBraN72aE8pOp6PQDnf\n",
       "xRtcmjc0AjzFLAdTyO5HWDjkcim3U8/YohtMxjo5BQ3N2973y6Vxdx4q9Fw8mnEjn6VtMvRoq+xJ\n",
       "TzhngzRXbXCDBsUFOb2NcpNp6Bg5ouuJS6NRJB3eWB48555M5KseYVEHu2uyd/qKPMjM1t1OWlwe\n",
       "QWjiB3W/Jj/clK/qtH90abj1IUsOHZO5mZzrwSfvqzzx4l5SREUsUZFGg1tLSRdOzIvyWb5WSMcd\n",
       "ReVJd8eYk3RVmal15Ej/ZcqPobpo3ZGjSqdKptoyW9GujzaKtWiRHOZqDji+suuGhtZdNzzG1bw+\n",
       "WXVdtqz6LlvvgH/oFQG6dNcrygAAAABJRU5ErkJggg==\n",
       "\" style=\"display:inline;vertical-align:middle;\" /></a></span>"
      ],
      "text/plain": [
       "{x in (A union B union C)} |- (x in A) or (x in B) or (x in C)"
      ]
     },
     "execution_count": 2,
     "metadata": {},
     "output_type": "execute_result"
    }
   ],
   "source": [
    "Or(InSet(x, A), InSet(x, B), InSet(x,C)).prove([InSet(x,Union(A,B,C))])"
   ]
  },
  {
   "cell_type": "code",
   "execution_count": 3,
   "metadata": {},
   "outputs": [
    {
     "data": {
      "text/html": [
       "<span style=\"font-size:20px;\"><a class=\"ProveItLink\" href=\"__pv_it/2192a168982d064d1b3bfef86385de6c40a8e7e50/expr.ipynb\"><img src=\"data:image/png;base64,iVBORw0KGgoAAAANSUhEUgAAAREAAAAVBAMAAACTXMcfAAAAMFBMVEX///+IiIi6urrc3NxERETM\n",
       "zMwQEBCqqqpUVFQiIiJ2dnYyMjLu7u5mZmaYmJgAAABN0h6tAAAAAXRSTlMAQObYZgAAA4tJREFU\n",
       "SMfFll1IFFEUx8/s7rgfzm4r9KhkBEFhtA9B9EGYWeRL7oOEveQS9RCGLPQBQZKlQVLRQpBIBgph\n",
       "BEVLUQ9WNEFI5otGkFR+YS8R+VloZNk592tnamZqn7ow956d/d07Z/73nDMXAGIj8J+bPmjSYPRQ\n",
       "v82LPPr7jfxo/5gHHUxg5ztEZmya3Cl39TcLEErY77nQscsLwy0Vf9Dw3GXpZ7uHxjZDM5nvqItk\n",
       "sCtMuHlSiI4aWbKSzDHwoAvQw9EkpxnI59x3prUGgMYG6Cf7lvLks6t6nxax6yLrHHXj4EHX4Tas\n",
       "H+B0iJyIxakbcISNKgyO6BxE4jZPrtigD+3tWck3zmHfS2YtdR3gQa9ArabinNabsAtTJIZtCsaq\n",
       "2q9xsY9QgKTASFk98WescE2xZaI2S7NKxZ746P1c6V3o+WGT02xP1pGxyRZ2201hjabpJ653z+qJ\n",
       "hjeMouaVTFfjsWVmWfAnMeRAELsAvZ8rvQCw76KgoRGvHWSUgAXvl474v7HZuN4dHLvZhqK0Adzg\n",
       "l/AxznSzxr5Rqs+QMkx+dLmGRjdaX5hc3qboMN5gObYHLHizhCMzKhLxmiLjBIZWGJW6DXfNVexB\n",
       "Fkl84P9BcrD9KAI4y57hQmsYUr1NktbiEGLbRM4pXOV/+Ku0TtLOo4w1FH4FOMWESv7P3kfYRAzW\n",
       "Dg99obelmgN9Ip3d6ADGnjYvaSPDExQOQA7X6wlniywyiDKOjFbMoNVJvjaA0GuDRRO8X688iaYj\n",
       "aemJE70M9dBmJA1v4KbyROL+nCYMOi48KaRMC5VzvUEXehVYSjFeV2mTmN7+bBjk7jjRVE5Cs5KG\n",
       "LcDHNrDgKQlHqTpAJ15rZJxQ7lAMntKmgSVkNK7W3ojXUxWDsHMcZMQ60VRO6soVHdjP/6KIVfig\n",
       "+hiRSBFTRGy39ATzzjcfmBafqjZF00tV4/rRTh41HTzsnWl4iHIcNBWtt/KMxSzN4UxP1k6PQfA9\n",
       "GW+t9QT1NM4Ul0xy5kUFX8Ko/m7CsaXruI1JXhZ53Xam4cLSpaFKepCg4QkfUP0cbrSUyQLx+vwr\n",
       "ZjzwqPZrq1S1561PaCSe+W80bBWxaav2vhui2quSlVGepDy/gKx12X/mR7t8AVWJU19Adj4JJLxg\n",
       "w/7OedK85ru2fnU+gR7Pk5LTk/OjXU9KOT99vOYER/52HpzI6/Q4kdfpMZYQ59hfoGUSJLggYlUA\n",
       "AAAASUVORK5CYII=\n",
       "\" style=\"display:inline;vertical-align:middle;\" /></a> <a class=\"ProveItLink\" href=\"__pv_it/ea90203eda72b2753ecba98215e7c3acae17a4e70/proof.ipynb\" style=\"text-decoration: none\">&#x22A2;&nbsp;</a><a class=\"ProveItLink\" href=\"__pv_it/5066bd4c7235c8c5cd989378a019392b266f06d70/expr.ipynb\"><img src=\"data:image/png;base64,iVBORw0KGgoAAAANSUhEUgAAAJIAAAAUBAMAAACUvHl4AAAAMFBMVEX///8QEBBmZmaqqqrMzMxE\n",
       "REQyMjIiIiKYmJh2dna6urrc3NxUVFSIiIju7u4AAAA6P00QAAAAAXRSTlMAQObYZgAAAhZJREFU\n",
       "OMtjYMAGdjCQCJg3YBfnCwBTLAlo4j3/D+mELkBTe/XQCe4JDKexm8QGsYHtA4h8AFYPkRBlYGD6\n",
       "gip2sYGBWbGB4Rl2k5ogVNs/EAl2GBvEkT8YGLg+oYg9rQMS+hsYOC8gG9BaXg7xTzXE3Ua/QVQB\n",
       "iGAHi/ACBTj+ooglgpy3EKhYAMkg13tQBjdYIQMH7y80k1iByh/WIYsxfQaxnIA4i4Hh7Z1dN0FO\n",
       "48uDGcmrAKbWMf9AM4n/AANLzQNksf1g1msgnsTAN4Gjlh3kKR54RLI2gD23gOUvmkn+J3rDDVDE\n",
       "5sODp42B8wHnPy6QIaxwb7KDVXMxcH9CM+n+BgY+GRSxegeYJnNgXLJCUo9jGhCAQ5wRnGR8lHS+\n",
       "opkUCDLNAFlM/gEsofiDfA9x4Va4myAmAQkxNJP+gEy6gOImcAJ3gJrkD3EhI6rvmIG4EJ6ensGS\n",
       "E8P5Bchi+qBw4QTxljMwP7jPwAtyHtMFlBDfDMT5IJ4WiDCCJSeWryhi+0Ga5kFCfL1BPDTDFsNM\n",
       "4lSApql4kI3PgE7mAqcQNmByWhjHgCwGSihG4LDSZHhz960GONYZ3kQ9gJjEVcDAF//tAYPp/yJQ\n",
       "Ok01cT4KkuHJ/6N0NBiSdmFiDI9iDkGydApyblkZjpJbYIDlki5GmYEhxleALweTAlBzMBywbiDZ\n",
       "pGd4SzpSQDQOcZJLX44NDABW2ZMtWTVgSQAAAABJRU5ErkJggg==\n",
       "\" style=\"display:inline;vertical-align:middle;\" /></a></span>"
      ],
      "text/plain": [
       "{(x in A) or (x in B) or (x in C)} |- x in (A union B union C)"
      ]
     },
     "execution_count": 3,
     "metadata": {},
     "output_type": "execute_result"
    }
   ],
   "source": [
    "InSet(x,Union(A,B,C)).prove([Or(InSet(x, A), InSet(x, B), InSet(x,C))])"
   ]
  },
  {
   "cell_type": "code",
   "execution_count": 4,
   "metadata": {},
   "outputs": [
    {
     "data": {
      "text/html": [
       "<span style=\"font-size:20px;\"> <a class=\"ProveItLink\" href=\"__pv_it/8763165dce9323155842a450c11e4b3095c003ef0/proof.ipynb\" style=\"text-decoration: none\">&#x22A2;&nbsp;</a><a class=\"ProveItLink\" href=\"__pv_it/350b22f175a853f72f267d2ec9a5c68f519d9ba60/expr.ipynb\"><img src=\"data:image/png;base64,iVBORw0KGgoAAAANSUhEUgAAAlIAAAAVCAMAAAC6w/C8AAAARVBMVEX///8/Pz9vb28YGBgNDQ0r\n",
       "KysPDw8WFhbMzMxUVFR2dna6uroQEBCqqqqIiIgiIiJmZmYyMjJERETu7u6YmJjc3NwAAAAUTNBo\n",
       "AAAAAXRSTlMAQObYZgAABQ5JREFUaN7lWgeT8ygM5TrYppf//1PPiQHTS0x2vpvzzC7ejfIkPQkQ\n",
       "BYDuA8H/7IH/UexfCFyr5sd0RvhHH6zjdtTPKYdLCleR+WPgIwx9bnkWCCna2YnCv2JhyDtmKmQM\n",
       "YgwJsXckJRGIIQX01oET6ERDl+228W1bgwAfOBw72lU0hZ2wsxY8prTP0LTljUDwtjYWJUMszM1t\n",
       "ESi9AnBcljIDm3LkePcRzK62Cmeu2CqD3x/ZSEs+kFLe9CmHY0dTRbqqZAw7YmcxeERpxtBTy1uB\n",
       "UAyMD3ixsOLGxzswObQemitFdsMaclJQC8SMbsMRK3e8m83+6drWCMeKPgyN8LejiSLOKkrGsBN2\n",
       "VoKnlKYMPba8EQhaz04lKP3n7zCkkbDELgFilaF2YiWUM6Eoxw+XmvvRgbOD3X4FQ1px17Y40SUf\n",
       "eg6njsaKoI/bZ9gJOyvBU0oThp5bXg+ErpZdUJBTqwhVxcLqBN47KSUOq8l5UJJj1+j5VsracG6m\n",
       "1eaqubg1gPdqNW/6lMO5o5EitBMCqvz0sVN21oHnlMYMPba8EQjCXC1HkN7JPT5KLrP5nYSj4y4B\n",
       "NqqTUuZd1UGKZF1Om/ufUrfhXA25X8BgsxZtnXH7Nn3K4dzRUNFLlpaUjGKn7CwDL1AaMfTc8kYg\n",
       "hC2Hz1xTlADqv3sV73Eui2CdKfdgRq3lADRIKSIoBg25zZDW1E0LM/g5bGy2ygFR+4LjwcMy06cc\n",
       "zh0NFIENXz8pP6PYGTvLwAuUhtgLLG8EwvqzyZcdEux+gLvSkEczbpAaYH93BtbOAVssyAM15KiB\n",
       "gynlZ3CA7EyE7aeY9kopHL+MOZw7ihPLNM+VjGJn7CwDL1AaMfTc8kYgjt2v1EW4MwGPVyf/68/z\n",
       "V7Dm3YN9CsYY8uNfJQdssXCagOtyx71uBLIN5zctzOG6S9xWH2/6lMO5o4Ei9e6pCGZKRrEzdpaB\n",
       "FygNGXpueSsQQZZEg6UWboAExZS63g7eTik70Z6kkdYodXcl2IZz3ipX23ycUmMO544Giq6aOtwD\n",
       "nMTO2FkGXqA0ZOi55a1A3HMZjAfLo7AbcQvbF3oUNpl4tu/ih8eiXLAVsXXgiFuq+uqQxm1aS6Ha\n",
       "xDfmcO7orQizbI9wDjtnZxl4gdKAoQWWtwJh6zIsz77y6jB+wGTnt/ZkHeVrXI3T7fN7dxWzbN8F\n",
       "3hNkQU77frHJDhy0WcbTolP19s/T8nzM4dzRW5ELSGDgHHbOzjLwAqUBQwssbwXiWvzt52z+mh/D\n",
       "o8MzcVFS5LmVot/FEL43SO72voJSjh92s01I0JCzS3TMggKgCGdsR7hdZFvcVh+/hp5yOHfUK4Ii\n",
       "nkamsQvsrAPPKb0ZWmB5MxDXgCURIZIwFR5GSyT+SAp9KyyMeQcany8eVXOBIcTozh7E3aloOBXn\n",
       "ciciEwjFp0g1OIQEC7bdXObx3t0LP+5POFxy1CtC3tx7hT1DZomdZeAFSm+G1ljeCERjJ/733wSl\n",
       "lI9t25/ZTxgjA3cCBuVGxCSN24cHMrnDNYWubL8sHeGnj/1V8IChL1geB6JxXpifTfQOF3/6WXxs\n",
       "LPSowp6ST7C/Ct5j6JnlSSCq3yjdoBH6V8qoqcst3vQph8sK5+nvY38VvM/QE8vTQFS/QtRn+D/3\n",
       "OBrEmit4RH3MO3iO/VVw8fkVvAHLs0DUbogWdfxKF4WVjtvO070oLEYVjiiZxf4quHpwUVhMBuJf\n",
       "xGuEKrnR6Y8AAAAASUVORK5CYII=\n",
       "\" style=\"display:inline;vertical-align:middle;\" /></a></span>"
      ],
      "text/plain": [
       "|- (x not-in (A union B union C union D)) = ((x not-in A) and (x not-in B) and (x not-in C) and (x not-in D))"
      ]
     },
     "execution_count": 4,
     "metadata": {},
     "output_type": "execute_result"
    }
   ],
   "source": [
    "NotInSet(x, Union(A,B,C,D)).equivalence()"
   ]
  },
  {
   "cell_type": "code",
   "execution_count": 5,
   "metadata": {},
   "outputs": [
    {
     "data": {
      "text/html": [
       "<span style=\"font-size:20px;\"><a class=\"ProveItLink\" href=\"__pv_it/42db9831c926855dc5bfe1d35e3e78632ec311910/expr.ipynb\"><img src=\"data:image/png;base64,iVBORw0KGgoAAAANSUhEUgAAAREAAAAVCAMAAABWrCoeAAAAQlBMVEX///9jY2MJCQkNDQ0rKysP\n",
       "Dw8WFhaIiIi6urrc3NxERETMzMwQEBCqqqpUVFQiIiJ2dnYyMjLu7u5mZmaYmJgAAACA0NZ1AAAA\n",
       "AXRSTlMAQObYZgAAAy5JREFUWMO1mImWnCAQRUkmSSGyL///q0FlB7Xptj1npj0q17IoHg8Q2g5r\n",
       "LHrlWNH3jm+yX4GvBnQ810rG0+U6M+L8FlvuXvlN9iNwTGPirEu5Iddp5KOL6vjlN2HPsS13jhvD\n",
       "CcEvsKcD10C44RYtsoSb8ClIpgyq6zcbPLioXKy0ptfa5ybZ9PhI49ae/Skc6F5SzGy/GZ4SkU6s\n",
       "QdO1Z5ULw09CHWQNm2Wv7hgH2Jme/RlcExFCNm4p4X1GxEWmLRH//grVlSs7qNsprb4ovfY9NgSs\n",
       "ddCxP4QrqpNyVIF3GVnO9WclXojJ4L3Whx5LUpW1yTGU/TrNJjSk+fj2iv0Z3DiW55cq8C4jYKLs\n",
       "AF8wFJWqlR4M5i3JGjEXZV4Wtbs9XMY5zXa7GK6C6459Cu/pA/jiclO9VHAZi4WHFuT4NO311wpA\n",
       "RaXtcgzQSzzeBjwkScl3JDv+UpdPslfHrQUi2IB9Bh/QB3DpoNfCetJlcRoOr5d6a6YRzrW2y77S\n",
       "fYnsOY89xEStZUvxFbPsICOa8p59Bh/QB3DhOruW4Ltge5GK7ekxnLb2pJrfV6qU+vPj/6lmmjfe\n",
       "MjiS+jVnfe8Hnt89yw4y4jPDWvYpvKeP4NTlBOk2cC6gtGo0q1ddWQtBdZkWJeKbqT4jhxwWxmiW\n",
       "7XjMCHQZuYLX9BFcZBJbm8BVYHJSF9/2SF1ZdGhGwuMi6hFOjzDTGqdJdnQjiIeZLLMv4S19AE9u\n",
       "weeqCTyZ9zjXBIFi2vfM1j25ugwg3JmghdWmtVC/GCwzjfi9yo5uZI1DslDWU/iAPoAvqYqkbgKX\n",
       "rTE5JiHsRy5xzdpJMN7qUTIBJCbdyGQC6gKfZnsTFRwU0Q37HD6kD+DBLjCT8yZP/MhRPJoDaDC2\n",
       "Wkxq/hvr2gk7t2s48yciGJ01GajU14Dm2d4OxGVeGg6JfQ4f0nu4v2YI5+VSJ8KnXLz9JYkQQl2t\n",
       "P0WtuPXGxFPsb8JzRuj9goncb1FIuLr7TfZT8LzkdbfNb/YfRrsBL4f2APshuMlTg7xrD/e7juTd\n",
       "HaMH2M/AceFrWNxnPducu8+0fXtX8Qn2A/C4z/of0Kc55i8wqQAAAAAASUVORK5CYII=\n",
       "\" style=\"display:inline;vertical-align:middle;\" /></a> <a class=\"ProveItLink\" href=\"__pv_it/e49bce8e61a59c06ccb8c33b55ff9318fcf5be670/proof.ipynb\" style=\"text-decoration: none\">&#x22A2;&nbsp;</a><a class=\"ProveItLink\" href=\"__pv_it/93d2b243c39a9150b5699ae9312e2e5a0c2e77030/expr.ipynb\"><img src=\"data:image/png;base64,iVBORw0KGgoAAAANSUhEUgAAAJIAAAAVCAMAAACaEEfcAAAARVBMVEX///8/Pz9vb28YGBgNDQ0r\n",
       "KysQEBAPDw8WFhZmZmaqqqrMzMxEREQyMjIiIiKYmJh2dna6urrc3NxUVFSIiIju7u4AAAAFgFu8\n",
       "AAAAAXRSTlMAQObYZgAAAi5JREFUSMfNVtly5CAMZC+y4r6k///UZWyMxTDYSVWSWh4mOG5LratB\n",
       "iIulxX+33PCU/Jc7VOkGoDN/QjO8szcf+0yUAbIx8RqIxWTIXqRQH/INJxiM2QFt6bQpXm2FkHsM\n",
       "QPoKV+SWfAXbX7QfqJuH4clSN8uscIOa9kJHgjUOjWt2gLaQQ1mm3Tj39417cDxJqJqFJ+Y8iNIQ\n",
       "nsoaZ+URWZS7ZbloIlMq0nASaUxZdRhvKJnDx5GHFzgg1X0euYxbf5WcYjlThhanshZet4hCkb+h\n",
       "RNtwaJdxiUt0/g9bAkJ1hLXTvSvCdQp725ehqoYpAMZHp5RrSpqy98U4Jda4QHPn+Eoj4OMditjr\n",
       "tE+KHcaHmRZxCxCuKbVWQpnXOEezGCu3D6ThmqOlrevP7/rDJjoyuYKqN2SuKbVWqtTUEifPse26\n",
       "oJu6DAlMm7OgBvKM0r6T9poS5YNSucjSmRw9UtJjAuV8mLDCtY2TsxixiThUSeQ+mjOOKUnoAVfH\n",
       "Cmskj3B6EqHGFWGk1Ns7qWf5PkVewaRK+izwjEs9gwFZe8daa0PjoVpTkp8aL8CTPpkeIdqGjWwi\n",
       "rGwCaFCscU1KFJwfQhCYS8ECnh/zmM0vHClFt+s/0WZP1Y07cpKsUVqrfHrP9jhzeUfOOIFgch7O\n",
       "Uru6Ef38UU8UtzxQJrkvAOXuYvEuHLrVGzN95+FbrmjLY3e8G61YfsFaX06Kfx/NT1/ruF96/4aL\n",
       "rn8w+gcIiCAXs490pQAAAABJRU5ErkJggg==\n",
       "\" style=\"display:inline;vertical-align:middle;\" /></a></span>"
      ],
      "text/plain": [
       "{(x not-in A) and (x not-in B) and (x not-in C)} |- x not-in (A union B union C)"
      ]
     },
     "execution_count": 5,
     "metadata": {},
     "output_type": "execute_result"
    }
   ],
   "source": [
    "NotInSet(x, Union(A,B,C)).prove([And(NotInSet(x,A), NotInSet(x,B),NotInSet(x,C))])"
   ]
  },
  {
   "cell_type": "code",
   "execution_count": 6,
   "metadata": {},
   "outputs": [],
   "source": [
    "%end demonstrations"
   ]
  },
  {
   "cell_type": "code",
   "execution_count": null,
   "metadata": {},
   "outputs": [],
   "source": []
  }
 ],
 "metadata": {
  "kernelspec": {
   "display_name": "Python 3",
   "language": "python",
   "name": "python3"
  }
 },
 "nbformat": 4,
 "nbformat_minor": 0
}
