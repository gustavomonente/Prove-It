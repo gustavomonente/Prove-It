{
 "cells": [
  {
   "cell_type": "markdown",
   "metadata": {},
   "source": [
    "Theorems for context <a href=\"_context_.ipynb\" class=\"ProveItLink\">proveit.logic.set_theory.comprehension</a>\n",
    "========"
   ]
  },
  {
   "cell_type": "code",
   "execution_count": 1,
   "metadata": {},
   "outputs": [
    {
     "name": "stdout",
     "output_type": "stream",
     "text": [
      "Defining theorems for context 'proveit.logic.set_theory.comprehension'\n",
      "Subsequent end-of-cell assignments will define theorems\n",
      "'%end theorems' will finalize the definitions\n"
     ]
    }
   ],
   "source": [
    "import proveit\n",
    "# Automation is not needed when building theorem expressions:\n",
    "proveit.defaults.automation = False # This will speed things up.\n",
    "from proveit.logic import And, Implies, Forall, Equals, InSet, SetOfAll, Exists, SubsetEq\n",
    "from proveit._common_ import k, l, x, y, S, f, yy\n",
    "#from proveit.logic._common_ import yIter1l, f_yIter1l, iterQ1k, iterQ1k_x, iterQ1k_yIter1l\n",
    "#from proveit.logic.set_theory._common_ import generalComprehension_fy, basicComprehension_y\n",
    "from proveit.number import Exp, Naturals, NaturalsPos\n",
    "%begin theorems"
   ]
  },
  {
   "cell_type": "markdown",
   "metadata": {},
   "source": [
    "unfold = Forall((k, l), Forall((S, iterQ1k, f, x), \n",
    "                               Implies(InSet(x, generalComprehension_fy),\n",
    "                                       Exists(yy, Equals(x, f_yIter1l),\n",
    "                                              domain=Exp(S, l),\n",
    "                                              conditions=[iterQ1k_yIter1l])).withWrapBeforeOperator()),\n",
    "                domains=(Naturals, NaturalsPos))"
   ]
  },
  {
   "cell_type": "raw",
   "metadata": {},
   "source": [
    "fold = Forall((k, l), Forall((S, iterQ1k, f, x), \n",
    "                             Implies(Exists(yy, Equals(x, f_yIter1l),\n",
    "                                            domain=Exp(S, l),\n",
    "                                            conditions=[iterQ1k_yIter1l]),\n",
    "                                     InSet(x, generalComprehension_fy)).withWrapAfterOperator()),\n",
    "              domains=(Naturals, NaturalsPos))"
   ]
  },
  {
   "cell_type": "raw",
   "metadata": {},
   "source": [
    "basicComprehension = Forall((k, l), Forall((S, iterQ1k, x),\n",
    "                                           Equals(InSet(x, basicComprehension_y),\n",
    "                                                  And(InSet(x, S), iterQ1k_x)).withWrapBeforeOperator()),\n",
    "                          domains=(Naturals, NaturalsPos))"
   ]
  },
  {
   "cell_type": "raw",
   "metadata": {},
   "source": [
    "unfoldBasicComprehension = Forall(k, Forall((S, iterQ1k), \n",
    "                                            Forall(x, And(InSet(x, S), iterQ1k_x),\n",
    "                                                   domain=basicComprehension_y)),\n",
    "                                  domain=NaturalsPos)"
   ]
  },
  {
   "cell_type": "raw",
   "metadata": {},
   "source": [
    "inSupersetIfInComprehension = Forall(k, Forall((S, iterQ1k), \n",
    "                                               Forall(x, InSet(x, S), \n",
    "                                                      domain=basicComprehension_y)),\n",
    "                                    domain=NaturalsPos)"
   ]
  },
  {
   "cell_type": "raw",
   "metadata": {},
   "source": [
    "comprehensionIsSubset = Forall(k, Forall((S, iterQ1k), \n",
    "                                         SubsetEq(basicComprehension_y, S)),\n",
    "                               domain=NaturalsPos)"
   ]
  },
  {
   "cell_type": "raw",
   "metadata": {},
   "source": [
    "foldBasicComprehension = Forall(k, Forall((S, iterQ1k), \n",
    "                                          Forall(x, InSet(x, basicComprehension_y),\n",
    "                                                 domain=S, conditions=[iterQ1k_x])))"
   ]
  },
  {
   "cell_type": "code",
   "execution_count": 2,
   "metadata": {},
   "outputs": [
    {
     "name": "stdout",
     "output_type": "stream",
     "text": [
      "Context proveit.logic.set_theory.comprehension has no theorems\n"
     ]
    }
   ],
   "source": [
    "%end theorems"
   ]
  },
  {
   "cell_type": "code",
   "execution_count": null,
   "metadata": {},
   "outputs": [],
   "source": []
  }
 ],
 "metadata": {
  "kernelspec": {
   "display_name": "Python 3",
   "language": "python",
   "name": "python3"
  }
 },
 "nbformat": 4,
 "nbformat_minor": 0
}
