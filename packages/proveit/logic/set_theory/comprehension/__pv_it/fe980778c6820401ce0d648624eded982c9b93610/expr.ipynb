{
 "cells": [
  {
   "cell_type": "markdown",
   "metadata": {},
   "source": [
    "Expression of type <a class=\"ProveItLink\" href=\"../../../../../../../doc/html/api/proveit.Conditional.html\">Conditional</a>\n",
    "=======================\n",
    "# from context <a class=\"ProveItLink\" href=\"../../_context_.ipynb\">proveit.logic.set_theory.comprehension</a>"
   ]
  },
  {
   "cell_type": "code",
   "execution_count": 1,
   "metadata": {},
   "outputs": [],
   "source": [
    "import proveit\n",
    "# Automation is not needed when building an expression:\n",
    "proveit.defaults.automation = False # This will speed things up.\n",
    "proveit.defaults.inline_pngs = False # Makes files smaller.\n",
    "# import Expression classes needed to build the expression\n",
    "from proveit import Conditional\n",
    "from proveit._common_ import a, b\n",
    "from proveit.logic import And, InSet, NotEquals\n",
    "from proveit.number import Integers, Reals, frac, zero"
   ]
  },
  {
   "cell_type": "code",
   "execution_count": 2,
   "metadata": {},
   "outputs": [
    {
     "data": {
      "text/html": [
       "<strong id=\"expr\">expr:</strong> <a class=\"ProveItLink\" href=\"expr.ipynb\"><img src=\"expr.png\" style=\"display:inline;vertical-align:middle;\" /></a><br>"
      ],
      "text/plain": [
       "expr: {a / b if a in Integers ,  b in Reals ,  b != 0."
      ]
     },
     "execution_count": 2,
     "metadata": {},
     "output_type": "execute_result"
    }
   ],
   "source": [
    "# build up the expression from sub-expressions\n",
    "expr = Conditional(frac(a, b), And(InSet(a, Integers), InSet(b, Reals), NotEquals(b, zero)))"
   ]
  },
  {
   "cell_type": "code",
   "execution_count": 3,
   "metadata": {},
   "outputs": [
    {
     "name": "stdout",
     "output_type": "stream",
     "text": [
      "Passed sanity check: built 'expr' is the same as the stored Expression.\n"
     ]
    }
   ],
   "source": [
    "# check that the built expression is the same as the stored expression\n",
    "%check_expr"
   ]
  },
  {
   "cell_type": "code",
   "execution_count": 4,
   "metadata": {},
   "outputs": [
    {
     "name": "stdout",
     "output_type": "stream",
     "text": [
      "\\left\\{\\frac{a}{b} \\textrm{ if } a \\in \\mathbb{Z} ,  b \\in \\mathbb{R} ,  b \\neq 0\\right..\n"
     ]
    }
   ],
   "source": [
    "# Show the LaTeX representation of the expression for convenience if you need it.\n",
    "print(expr.latex())"
   ]
  },
  {
   "cell_type": "code",
   "execution_count": 5,
   "metadata": {},
   "outputs": [
    {
     "data": {
      "text/html": [
       "<table><tr><th>&nbsp;</th><th>core type</th><th>sub-expressions</th><th>expression</th></tr>\n",
       "<tr><td>0</td><td>Conditional</td><td>value:&nbsp;1<br>condition:&nbsp;2<br></td><td><a class=\"ProveItLink\" href=\"expr.ipynb\"><img src=\"expr.png\" style=\"display:inline;vertical-align:middle;\" /></a></td></tr>\n",
       "<tr><td>1</td><td>Operation</td><td>operator:&nbsp;3<br>operands:&nbsp;4<br></td><td><a class=\"ProveItLink\" href=\"../ba9bc94510d99c9578a0dc65fe82e4c7e56d9afa0/expr.ipynb\"><img src=\"../ba9bc94510d99c9578a0dc65fe82e4c7e56d9afa0/expr.png\" style=\"display:inline;vertical-align:middle;\" /></a></td></tr>\n",
       "<tr><td>2</td><td>Operation</td><td>operator:&nbsp;5<br>operands:&nbsp;6<br></td><td><a class=\"ProveItLink\" href=\"../2b30fc7e721e2415168e4c01d88b293a815bc6480/expr.ipynb\"><img src=\"../2b30fc7e721e2415168e4c01d88b293a815bc6480/expr.png\" style=\"display:inline;vertical-align:middle;\" /></a></td></tr>\n",
       "<tr><td>3</td><td>Literal</td><td></td><td><a class=\"ProveItLink\" href=\"../../../../../number/division/__pv_it/7a11ad25d6e61156459ac6819a1cec8fded2dde30/expr.ipynb\"><img src=\"../../../../../number/division/__pv_it/7a11ad25d6e61156459ac6819a1cec8fded2dde30/expr.png\" style=\"display:inline;vertical-align:middle;\" /></a></td></tr>\n",
       "<tr><td>4</td><td>ExprTuple</td><td>15, 18</td><td><a class=\"ProveItLink\" href=\"../bbc1b69eb12288f0ad04da0d0cc6b9b8079b8b3f0/expr.ipynb\"><img src=\"../bbc1b69eb12288f0ad04da0d0cc6b9b8079b8b3f0/expr.png\" style=\"display:inline;vertical-align:middle;\" /></a></td></tr>\n",
       "<tr><td>5</td><td>Literal</td><td></td><td><a class=\"ProveItLink\" href=\"../../../../boolean/conjunction/__pv_it/f41cc6b553210927c09f19a8a39cdf860a5585930/expr.ipynb\"><img src=\"../../../../boolean/conjunction/__pv_it/f41cc6b553210927c09f19a8a39cdf860a5585930/expr.png\" style=\"display:inline;vertical-align:middle;\" /></a></td></tr>\n",
       "<tr><td>6</td><td>ExprTuple</td><td>7, 8, 9</td><td><a class=\"ProveItLink\" href=\"../45ffee6fe5af87f2c4ba4222341238ab613d614d0/expr.ipynb\"><img src=\"../45ffee6fe5af87f2c4ba4222341238ab613d614d0/expr.png\" style=\"display:inline;vertical-align:middle;\" /></a></td></tr>\n",
       "<tr><td>7</td><td>Operation</td><td>operator:&nbsp;11<br>operands:&nbsp;10<br></td><td><a class=\"ProveItLink\" href=\"../dd75ec9d0a44092f3c205da179be98f2c31c9e150/expr.ipynb\"><img src=\"../dd75ec9d0a44092f3c205da179be98f2c31c9e150/expr.png\" style=\"display:inline;vertical-align:middle;\" /></a></td></tr>\n",
       "<tr><td>8</td><td>Operation</td><td>operator:&nbsp;11<br>operands:&nbsp;12<br></td><td><a class=\"ProveItLink\" href=\"../002870e764fad69e198f19071a0b3ebfa72a6acb0/expr.ipynb\"><img src=\"../002870e764fad69e198f19071a0b3ebfa72a6acb0/expr.png\" style=\"display:inline;vertical-align:middle;\" /></a></td></tr>\n",
       "<tr><td>9</td><td>Operation</td><td>operator:&nbsp;13<br>operands:&nbsp;14<br></td><td><a class=\"ProveItLink\" href=\"../629cf5f63b8ed4e405f61e1a82540d302bd29abe0/expr.ipynb\"><img src=\"../629cf5f63b8ed4e405f61e1a82540d302bd29abe0/expr.png\" style=\"display:inline;vertical-align:middle;\" /></a></td></tr>\n",
       "<tr><td>10</td><td>ExprTuple</td><td>15, 16</td><td><a class=\"ProveItLink\" href=\"../cdfe44284a59a6b9ec0827925981470710af69610/expr.ipynb\"><img src=\"../cdfe44284a59a6b9ec0827925981470710af69610/expr.png\" style=\"display:inline;vertical-align:middle;\" /></a></td></tr>\n",
       "<tr><td>11</td><td>Literal</td><td></td><td><a class=\"ProveItLink\" href=\"../../../membership/__pv_it/7776fc89cb67d0b5b1ec2c0c8e08da5587921ccf0/expr.ipynb\"><img src=\"../../../membership/__pv_it/7776fc89cb67d0b5b1ec2c0c8e08da5587921ccf0/expr.png\" style=\"display:inline;vertical-align:middle;\" /></a></td></tr>\n",
       "<tr><td>12</td><td>ExprTuple</td><td>18, 17</td><td><a class=\"ProveItLink\" href=\"../f3db2ef446f9e516d35c23bd4ce93bb30e0638b70/expr.ipynb\"><img src=\"../f3db2ef446f9e516d35c23bd4ce93bb30e0638b70/expr.png\" style=\"display:inline;vertical-align:middle;\" /></a></td></tr>\n",
       "<tr><td>13</td><td>Literal</td><td></td><td><a class=\"ProveItLink\" href=\"../../../../equality/__pv_it/b2721051be811fe338d0c72369ee2d83e8be58da0/expr.ipynb\"><img src=\"../../../../equality/__pv_it/b2721051be811fe338d0c72369ee2d83e8be58da0/expr.png\" style=\"display:inline;vertical-align:middle;\" /></a></td></tr>\n",
       "<tr><td>14</td><td>ExprTuple</td><td>18, 19</td><td><a class=\"ProveItLink\" href=\"../d25daeb2482c84ce86b92ca5e8eeae655d8416600/expr.ipynb\"><img src=\"../d25daeb2482c84ce86b92ca5e8eeae655d8416600/expr.png\" style=\"display:inline;vertical-align:middle;\" /></a></td></tr>\n",
       "<tr><td>15</td><td>Variable</td><td></td><td><a class=\"ProveItLink\" href=\"../../../../../__pv_it/a8d4b3a34d2189508f9082853fbac36935714f280/expr.ipynb\"><img src=\"../../../../../__pv_it/a8d4b3a34d2189508f9082853fbac36935714f280/expr.png\" style=\"display:inline;vertical-align:middle;\" /></a></td></tr>\n",
       "<tr><td>16</td><td>Literal</td><td></td><td><a class=\"ProveItLink\" href=\"../../../../../number/sets/integer/__pv_it/4b6f17dbfe8c62b413ab248a9ec52df6403e103e0/expr.ipynb\"><img src=\"../../../../../number/sets/integer/__pv_it/4b6f17dbfe8c62b413ab248a9ec52df6403e103e0/expr.png\" style=\"display:inline;vertical-align:middle;\" /></a></td></tr>\n",
       "<tr><td>17</td><td>Literal</td><td></td><td><a class=\"ProveItLink\" href=\"../../../../../number/sets/real/__pv_it/83c2d223a7b04200651811c8b29e747fd8f853510/expr.ipynb\"><img src=\"../../../../../number/sets/real/__pv_it/83c2d223a7b04200651811c8b29e747fd8f853510/expr.png\" style=\"display:inline;vertical-align:middle;\" /></a></td></tr>\n",
       "<tr><td>18</td><td>Variable</td><td></td><td><a class=\"ProveItLink\" href=\"../../../../../__pv_it/53e304ff98ebc000dbe3ef224f4637dbafd46ba70/expr.ipynb\"><img src=\"../../../../../__pv_it/53e304ff98ebc000dbe3ef224f4637dbafd46ba70/expr.png\" style=\"display:inline;vertical-align:middle;\" /></a></td></tr>\n",
       "<tr><td>19</td><td>Literal</td><td></td><td><a class=\"ProveItLink\" href=\"../../../../../number/numeral/__pv_it/bcb6bc33e5975ec2290a3272bf7802d26ab8421d0/expr.ipynb\"><img src=\"../../../../../number/numeral/__pv_it/bcb6bc33e5975ec2290a3272bf7802d26ab8421d0/expr.png\" style=\"display:inline;vertical-align:middle;\" /></a></td></tr>\n",
       "</table>\n"
      ],
      "text/plain": [
       "0. {a / b if a in Integers ,  b in Reals ,  b != 0.\n",
       "   core type: Conditional\n",
       "   value: 1\n",
       "   condition: 2\n",
       "1. a / b\n",
       "   core type: Operation\n",
       "   operator: 3\n",
       "   operands: 4\n",
       "2. (a in Integers) and (b in Reals) and (b != 0)\n",
       "   core type: Operation\n",
       "   operator: 5\n",
       "   operands: 6\n",
       "3. /\n",
       "   core type: Literal\n",
       "   sub-expressions: \n",
       "4. (a, b)\n",
       "   core type: ExprTuple\n",
       "   sub-expressions: 15, 18\n",
       "5. and\n",
       "   core type: Literal\n",
       "   sub-expressions: \n",
       "6. (a in Integers, b in Reals, b != 0)\n",
       "   core type: ExprTuple\n",
       "   sub-expressions: 7, 8, 9\n",
       "7. a in Integers\n",
       "   core type: Operation\n",
       "   operator: 11\n",
       "   operands: 10\n",
       "8. b in Reals\n",
       "   core type: Operation\n",
       "   operator: 11\n",
       "   operands: 12\n",
       "9. b != 0\n",
       "   core type: Operation\n",
       "   operator: 13\n",
       "   operands: 14\n",
       "10. (a, Integers)\n",
       "    core type: ExprTuple\n",
       "    sub-expressions: 15, 16\n",
       "11. in\n",
       "    core type: Literal\n",
       "    sub-expressions: \n",
       "12. (b, Reals)\n",
       "    core type: ExprTuple\n",
       "    sub-expressions: 18, 17\n",
       "13. !=\n",
       "    core type: Literal\n",
       "    sub-expressions: \n",
       "14. (b, 0)\n",
       "    core type: ExprTuple\n",
       "    sub-expressions: 18, 19\n",
       "15. a\n",
       "    core type: Variable\n",
       "    sub-expressions: \n",
       "16. Integers\n",
       "    core type: Literal\n",
       "    sub-expressions: \n",
       "17. Reals\n",
       "    core type: Literal\n",
       "    sub-expressions: \n",
       "18. b\n",
       "    core type: Variable\n",
       "    sub-expressions: \n",
       "19. 0\n",
       "    core type: Literal\n",
       "    sub-expressions: "
      ]
     },
     "execution_count": 5,
     "metadata": {},
     "output_type": "execute_result"
    }
   ],
   "source": [
    "# display the expression information\n",
    "expr.exprInfo()"
   ]
  },
  {
   "cell_type": "code",
   "execution_count": null,
   "metadata": {},
   "outputs": [],
   "source": []
  }
 ],
 "metadata": {
  "kernelspec": {
   "display_name": "Python 3",
   "language": "python",
   "name": "python3"
  },
  "language_info": {
   "codemirror_mode": {
    "name": "ipython",
    "version": 3
   },
   "file_extension": ".py",
   "mimetype": "text/x-python",
   "name": "python",
   "nbconvert_exporter": "python",
   "pygments_lexer": "ipython3",
   "version": "3.7.3"
  }
 },
 "nbformat": 4,
 "nbformat_minor": 1
}
