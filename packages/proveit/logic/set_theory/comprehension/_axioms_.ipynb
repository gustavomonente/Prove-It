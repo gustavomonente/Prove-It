{
 "cells": [
  {
   "cell_type": "markdown",
   "metadata": {},
   "source": [
    "Axioms for context <a href=\"_context_.ipynb\" class=\"ProveItLink\">proveit.logic.set_theory.comprehension</a>\n",
    "========"
   ]
  },
  {
   "cell_type": "code",
   "execution_count": 1,
   "metadata": {},
   "outputs": [
    {
     "name": "stdout",
     "output_type": "stream",
     "text": [
      "Defining axioms for context 'proveit.logic.set_theory.comprehension'\n",
      "Subsequent end-of-cell assignments will define axioms\n",
      "%end_axioms will finalize the definitions\n"
     ]
    }
   ],
   "source": [
    "import proveit\n",
    "# Automation is not needed when building axiom expressions:\n",
    "proveit.defaults.automation = False # This will speed things up.\n",
    "from proveit.logic import Forall, And, Equals, InSet, SetOfAll, Exists\n",
    "from proveit._common_ import n, x, Q, S, f, y, fy, Qy\n",
    "from proveit.logic.set_theory._common_ import general_comprehension_fy\n",
    "from proveit.number import Exp, Naturals, NaturalsPos\n",
    "%begin axioms"
   ]
  },
  {
   "cell_type": "markdown",
   "metadata": {},
   "source": [
    "**Define general set comprehension any mapping $y \\mapsto f(y)$ applied to the set of elements $y$ of $S$ such that $Q(y)$:**\n",
    "TODO: CHANGE THIS TO A DEFINITION USING UnionOfAll:\n",
    "{f(x) | Q(x)}_{x in S} = Union_{x in S | Q(x)} {f(x)}"
   ]
  },
  {
   "cell_type": "code",
   "execution_count": 2,
   "metadata": {},
   "outputs": [
    {
     "data": {
      "text/html": [
       "<strong id=\"comprehension_def\">comprehension_def:</strong> <a class=\"ProveItLink\" href=\"__pv_it/18306539e7987176173f77dada3336436f13b88e0/expr.ipynb\"><img src=\"data:image/png;base64,iVBORw0KGgoAAAANSUhEUgAAAXMAAAA/BAMAAADgeTUCAAAAMFBMVEX///8QEBCIiIhmZma6urrM\n",
       "zMxUVFQiIiJERETc3Nzu7u6qqqp2dnaYmJgyMjIAAAAcRTyBAAAAAXRSTlMAQObYZgAACXVJREFU\n",
       "aN7FmnuMG8Udx39+rO1de+1TRdTmEhRzlip0os0BbUSqNDFBatoKdAYk4I+qtlJyEIkWqy1yaErv\n",
       "RKvGCaVxVIn0ofQcLg2QtrErKqL0FXMHpCKBHEQVQbTEqIEWVIJTcjwOUjq/mdnn7C4e95yu5PN6\n",
       "dj372Z3f83sGkNr0rDAyC33e9roHoiO9THNAGPlkv8kh2naP3N3DLOoiYd7BvqPDx90Du/Pyk8QF\n",
       "e9ld6D962m2T0cXykzwtjIz1nxxUYWVXy89x1j2ivHse0MXn02jKTpGYENaydD7Qi3XXQGpAdopD\n",
       "NffIZO18oKfdLqb9W3aKf0LXRnfcN9wrdf8LXD/snU2Eh3ysLkeunBOGPuJz6v6Wtb+LvSX5AqVc\n",
       "kU3lN3kQ/1xZ6M7HJiUTYawjzDnnc+pJ9jaVq4FmOMhGF/r9q2YQ4EFjdry1SNtzuqWCCbXl0BuC\n",
       "T+odn1MPs7fbDjUhbbjDfid66g6AW8n7q4b9Ik2q7Dnd19wDYcnIdlJIYpFyILp2dg+xejMsZO3o\n",
       "2mlMaC3QzYJk2h99uXtAe18OfbuYXV3R8kSl0rahJ3FR7jQvN2BHTw8yE4ybMWq3P7oY2l6SQ39H\n",
       "GMk4a7ibhp1PHUFUC+aUHf0Y2nnqXdhp2W/eF70opKBjUgVIVFykDNqANrRx7TR9rK85DUa/9Bsj\n",
       "ECZ3d/9lNJnP2NDVt6nBnYUc+V4uCzvqkBrxzTUNIaCMZmXQU2e9p/wVPJf9jhkj7H6Fd5Ygp7Su\n",
       "hDCxnRdt6CmaVBJzcC/Zjw6gNettX7/PCKCNCamcNg+e4fVJkiC+QEHM8SQrjifJqsaboDZX0xri\n",
       "gA09TsNqpgObAX5GQmKVfAmN5e/e6C3By6RKgUzZ2wbreF3crj1NNnRTZQt7/ofIK5QHjWQufG5F\n",
       "G3qGPodDJbiATBDKAlkEBZ947Ouelxb6ophUdJyc8HMfXlH82HKLRabFE3SIzkOx4ERnT228jugw\n",
       "WlfmOPorzvx99MhfvNHD56SKrxFvgwGF59SQdeBW+vf7QA0Gc+RFZHedDT2G6GFyz5tpJRQmH6Nl\n",
       "wdavYvEVGoLB6FKBfbno1A0c+h1xQRoVI1lXSsIKB900UaJ3YXdTZV4bKhTJw7iX3iI5g7qpFWF+\n",
       "OfNZgG8BTHiXLNG3AGgK+Vs36Guanu4TfS/R4SXUZie6hiEJQ16kFMX1XWWP60M6PIVPDiPmChgl\n",
       "E0Ratriu3/NTUhwSg256x3X1PwBHcOe1btBvF5vZEHlY2vrhHL/1vd+r29GjuNhoBtr6HHrVy3Z0\n",
       "Ze/0pprCrGjv0Bri1+kCQ19bIk/7KpYzH+NRXLz0GeZbaldB8g2xrUi4Crirt9gLgRSdlhYCWBFq\n",
       "ZVfRuwGeB14IYN3/AM+/rXllgBkDTC27gFVPYnm+jNwrGU111eotE7/v22g9Sl6PsE7+OCaoRt5d\n",
       "fpHtu1Fyb6T8irWpafHyS91TDk9oPCSot5jTiTT6k/v27ezKTT8Qh5LzAfX6JlblJmpwFxV99rtb\n",
       "jTUfYCGyFeKziSwvenF1Iq1YVtlUrd4NvyCBgJ75iniFcbJa71Sr3+4VXfOLrmnics+uZOdMwNoc\n",
       "Y3Sh37gEaKsRHfo0u0XSJZGD8XyoALQ1+D3ADX6XQfQNbNIvHf0jLcZyRz/Da/GnPhydxjzP7eFZ\n",
       "d4Onc1cJF7wbvOeN3jReGAV4HIeuAG0bXVyP1PlGAcM+LlV0hKZt+HkermU2PX1JF+jP9ENjXP9D\n",
       "sgbofitXzdTBp+3bjvURhMl9x+u0elIXYxS2Vdc24zjjVY02Fx79IZqmLq5aomjI4yrb0fFn45hc\n",
       "apDExZo1pYP5btDD7YVHv02Qdi8Cb3S1ja6QXpo3TgrTsuHEm7SNyV23wUD3MhhYtPDo1xx1j1zo\n",
       "gw5bb0awS8/keRRilqXTfDIca38zyNZ5XdLfzXNp0U3hYZbl7sM3rCpCtEyL0KRQsAnEnuiJbP/R\n",
       "d9T80LEL0AqgdXitx6JGgjFnasHo2h19J9c2e42OI7pOAlCyCQoGljHtBZWVDSEWfotQCCgEyLaz\n",
       "74JpwlOkGzeuG5mAB+vqNth9nf6nPJAdaNTJm9p5Gswqf9wTXS3cUukv/R7+vq7ScpZfHP1HJIkq\n",
       "S0C74omSijtYjCpLtK9efUndngS8tjKcp00t+SdIjOxKaRfdOc4/B7Ya/z907W3nsYO0/RjEndc3\n",
       "GLqx1eDN+qL/hGy9WM2ubo6iuk0Vbju64pLiKNuWPO5MZ43PVlvd8kVfMTY21sN/ITW/Fke7bCU4\n",
       "1e2NLvTkmzIXKpYCDWajPHrab6ViR94Dp7q934UuJ2Zk2guNftzvQOOLeZe6jS87emRO5kLxzkKj\n",
       "3+kr+YBb3caXHT3dkbmQ3432jK76xqbDIKjbp5zoGam4ljy3wOioX5sKt8OQPno5uNXtGSd6UerX\n",
       "GdpblhJwmm4jBvrhSqXShX7J/K5gz/CGwu2YkYqYLnX7RSf6crkep9L9Uzc6Xd5Ch2mnlmIffms6\n",
       "T9OmcDssaQ4EdfuAE/12uQU+VusW3eh0mWII6ilQBs0zIsY0KAKbCrfDNDsgqNtFJ/rH5NAns12g\n",
       "a3+4fNbodA10LLhXgMJTmlayoZsKt0OZKoOgbjvRo+fk0NNll62XPNBPHNxndroG+l20C4gZRv6q\n",
       "zWAMhdsxI+q+bnV7nQM9Ni+Hrs8FP3XUOdnvsniny9FRPIflEOdKKHzC5qamwu1QYbOiuu1004zs\n",
       "z7/eD0ZHnTPNbIJ1uhyd/vJkNf6bkSqh8IixdiN2hdueTPMgqNurHOgnZX/89GjdB/0fJDgOUp1z\n",
       "ig/eV7bQ6T+xlsLnmRIKZIcbbNmucNu2UX7Urm6/7EA/LZtDQq3Aeh11zhur1WrW6HQ5Oq6/PgCf\n",
       "Y2cAfPnDCoE/W0cNdRtfFnp0ThZdnw9ER50zRoMb73Q5eqz06+aOPNzElVC8h6DyK1l63ThqqdvO\n",
       "8ist/0vHfwWjF0YhVTA6XQtdW5R94RSV/qkSCn8106lnoohvaxtHLXXbWfT+pi6NXqwFoVOd8x6j\n",
       "07UFx6kfjJEigAR7egZ8KrjV0HM146ilbm91oF8oX6Xq5SB0qnOGia1bxwy2G0gYCTe5EtqWa/BQ\n",
       "3dYdDV6s1EMz+ZUgdFHnNNEnX6rjB3pGstdfAZvoz/Xy7bRHwVYxdBhR5zTRE6hcXsPOmOqRfF2F\n",
       "o6uLe/m6JpkKHJGA/3Bt+H8WNdg8/wWq1bz2d4YxyQAAAABJRU5ErkJggg==\n",
       "\" style=\"display:inline;vertical-align:middle;\" /></a><br>"
      ],
      "text/plain": [
       "comprehension_def: forall_{S, Q, f, x} ((x in {f(y) s.t. Q(y)}_{y in S}) \\\\  = [exists_{y in S | Q(y)} (x = f(y))])"
      ]
     },
     "execution_count": 2,
     "metadata": {},
     "output_type": "execute_result"
    }
   ],
   "source": [
    "comprehension_def = Forall((S, Q, f, x), \n",
    "                           Equals(InSet(x, general_comprehension_fy),\n",
    "                                  Exists(y, Equals(x, fy), domain=S, conditions=[Qy])).withWrapBeforeOperator())"
   ]
  },
  {
   "cell_type": "markdown",
   "metadata": {},
   "source": [
    "NOTE: Comprehension defines a subset of some set $S$, and a \"universal\" set must not be allowed.  Otherwise you could define Russel's set,  $R = \\{x~|~x \\notin x\\}_x$, which results in paradox upon asking whether or not $R \\in R$ (if it is, then it cannot be; if it is not, then it must be).  But if $x \\in S$ can only be true if $S$ is a \"proper\" set (the universal set is not a proper set), then this can be avoided.  Comprehension can then only be used to define a subset of a \"proper\" set and Russel's set cannot be defined without additional axioms making improper definitions."
   ]
  },
  {
   "cell_type": "code",
   "execution_count": 3,
   "metadata": {},
   "outputs": [
    {
     "name": "stdout",
     "output_type": "stream",
     "text": [
      "Axioms may be imported from autogenerated _axioms_.py\n"
     ]
    }
   ],
   "source": [
    "%end axioms"
   ]
  },
  {
   "cell_type": "code",
   "execution_count": null,
   "metadata": {},
   "outputs": [],
   "source": []
  }
 ],
 "metadata": {
  "kernelspec": {
   "display_name": "Python 3",
   "language": "python",
   "name": "python3"
  }
 },
 "nbformat": 4,
 "nbformat_minor": 0
}
