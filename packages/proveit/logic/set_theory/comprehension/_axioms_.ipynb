{
 "cells": [
  {
   "cell_type": "markdown",
   "metadata": {},
   "source": [
    "Axioms for context <a href=\"_context_.ipynb\" class=\"ProveItLink\">proveit.logic.set_theory.comprehension</a>\n",
    "========"
   ]
  },
  {
   "cell_type": "code",
   "execution_count": null,
   "metadata": {},
   "outputs": [],
   "source": [
    "import proveit\n",
    "# Automation is not needed when building axiom expressions:\n",
    "proveit.defaults.automation = False # This will speed things up.\n",
    "from proveit.logic import Forall, And, Equals, InSet, SetOfAll, Exists\n",
    "from proveit._common_ import n, x, Q, S, f, y, fy, Qy\n",
    "from proveit.logic.set_theory._common_ import general_comprehension_fy\n",
    "from proveit.number import Exp, Naturals, NaturalsPos\n",
    "%begin axioms"
   ]
  },
  {
   "cell_type": "markdown",
   "metadata": {},
   "source": [
    "**Define general set comprehension any mapping $y \\mapsto f(y)$ applied to the set of elements $y$ of $S$ such that $Q(y)$:**\n",
    "TODO: CHANGE THIS TO A DEFINITION USING UnionOfAll:\n",
    "{f(x) | Q(x)}_{x in S} = Union_{x in S | Q(x)} {f(x)}"
   ]
  },
  {
   "cell_type": "code",
   "execution_count": null,
   "metadata": {},
   "outputs": [],
   "source": [
    "comprehension_def = Forall((S, Q, f, x), \n",
    "                           Equals(InSet(x, general_comprehension_fy),\n",
    "                                  Exists(y, Equals(x, fy), domain=S, conditions=[Qy])).withWrapBeforeOperator())"
   ]
  },
  {
   "cell_type": "markdown",
   "metadata": {},
   "source": [
    "NOTE: Comprehension defines a subset of some set $S$, and a \"universal\" set must not be allowed.  Otherwise you could define Russel's set,  $R = \\{x~|~x \\notin x\\}_x$, which results in paradox upon asking whether or not $R \\in R$ (if it is, then it cannot be; if it is not, then it must be).  But if $x \\in S$ can only be true if $S$ is a \"proper\" set (the universal set is not a proper set), then this can be avoided.  Comprehension can then only be used to define a subset of a \"proper\" set and Russel's set cannot be defined without additional axioms making improper definitions."
   ]
  },
  {
   "cell_type": "code",
   "execution_count": null,
   "metadata": {},
   "outputs": [],
   "source": [
    "%end axioms"
   ]
  },
  {
   "cell_type": "code",
   "execution_count": null,
   "metadata": {},
   "outputs": [],
   "source": []
  }
 ],
 "metadata": {
  "kernelspec": {
   "display_name": "Python 3",
   "language": "python",
   "name": "python3"
  }
 },
 "nbformat": 4,
 "nbformat_minor": 0
}
