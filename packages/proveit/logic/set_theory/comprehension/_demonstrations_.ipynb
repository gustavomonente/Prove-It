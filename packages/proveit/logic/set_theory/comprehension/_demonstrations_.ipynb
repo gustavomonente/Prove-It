{
 "cells": [
  {
   "cell_type": "markdown",
   "metadata": {},
   "source": [
    "Demonstrations for context <a class=\"ProveItLink\" href=\"_context_.ipynb\">proveit.logic.set_theory.comprehension</a>\n",
    "========"
   ]
  },
  {
   "cell_type": "code",
   "execution_count": 1,
   "metadata": {},
   "outputs": [],
   "source": [
    "import proveit\n",
    "%begin demonstrations"
   ]
  },
  {
   "cell_type": "code",
   "execution_count": 2,
   "metadata": {},
   "outputs": [],
   "source": [
    "from proveit.logic import Forall, SetOfAll, NotEquals\n",
    "from proveit._common_ import a, b\n",
    "from proveit.number import Integers, Reals, frac, zero"
   ]
  },
  {
   "cell_type": "markdown",
   "metadata": {},
   "source": [
    "Just some formatting checks below.  Nothing important.  Remove them when we put in something serious."
   ]
  },
  {
   "cell_type": "code",
   "execution_count": 3,
   "metadata": {},
   "outputs": [
    {
     "data": {
      "text/html": [
       "<a class=\"ProveItLink\" href=\"__pv_it/3a7c2526ed7a22e15e0059595a3593be6aaa48b30/expr.ipynb\"><img src=\"data:image/png;base64,iVBORw0KGgoAAAANSUhEUgAAAJYAAAAqCAMAAABm11LeAAAAOVBMVEX///8kJCQNDQ0oKCh2dnaI\n",
       "iIiqqqpUVFRmZmYQEBDu7u66uroiIiIyMjLc3NzMzMxERESYmJgAAACPrtK6AAAAAXRSTlMAQObY\n",
       "ZgAAAtVJREFUWMPNWO22oyAMZHeBQPjm/R92QYuCpVrR9t786OnpaWSYDMkgIXME78hHIoAazrVG\n",
       "L8lWUMEk3oaLRRjMROmX70paQky8kS8rzViiiLgiDPkHf2cdeeRDeRVZM0LNbtVXFGOwoEWI8V79\n",
       "S7iYhpFOrJPfBivLAAzh9jfBIj6pKmggtPmDwx+GhcCYs8DaHkjfaYkUPwfrxYorLPRSv2jJTQYL\n",
       "1H0RVuq1/ePeDBmTJIrafhNWvznaugMHOWWZa7DiGVgqdjUEdavzMHd3vAZLnIBF9SFZj32qwqsZ\n",
       "mmXHM6uGZdJZFU8JjS/CeZ8qPmYYjSMNRh9upj6J0WD6KGqmZop/f/NnId1Os4K4Agvl+aFo36C4\n",
       "gjULJrIdshIsMcMqTdnqs7i4rAsS13gBS5hldFZToNX0tojZDMpz0wzB2zNsTZVSGzVuHxFho1l+\n",
       "mi4SojoBK4bGN07a+iNnhS2ceT8/GBeuBpySODwoNSxVLGx1OLd8b9qpimHEykf2PixIK/i2Iuq5\n",
       "QDoPn4Uir8eGDz3RIASjm72bZ7KRMrb2fTl2NaiHQ9ch7BobLs48f3hUdxzCLiyDX4HVGUV7sDgl\n",
       "34DVcwh7sI7JugVWzyGwnbajyCgsZcz7aX2H8JErBt2qGKSnwgvROYmtQ/goLFN2j5wKkdpOttkU\n",
       "Wcc99h3CZ2CVzQfPLeZlE0wXbOikdR3CbbBSMwZThJr8GAPcTAmxXlGNJvsO4Vqsm0TtEphlgGsk\n",
       "LC1XCz9Y7noeYuMQ7gi6KDWL2enmBm8Sg9UOWH2fh5WdnkO4imp5eLacbKmoTEsJSDj9FFnOdLqb\n",
       "W1ycSOmKHYdwKZzWbq1mos0HfCyVS5KBrspW3GVC6NoHFL50CNdg1Z04OWcXVcj3t7RcklbI3mJ9\n",
       "KyDIpGxNvhsKGGe5QbnMkgM6C8k/qhwA0k9GA/mxaI46K9r66bj1td59cSDf//1cHoHKrigAAAAA\n",
       "AElFTkSuQmCC\n",
       "\" style=\"display:inline;vertical-align:middle;\" /></a>"
      ],
      "text/plain": [
       "{(a / b) s.t. b != 0}_{a, b in Integers}"
      ]
     },
     "execution_count": 3,
     "metadata": {},
     "output_type": "execute_result"
    }
   ],
   "source": [
    "SetOfAll((a, b), frac(a, b), conditions=[NotEquals(b, zero)], domain=Integers)"
   ]
  },
  {
   "cell_type": "code",
   "execution_count": 4,
   "metadata": {},
   "outputs": [
    {
     "data": {
      "text/html": [
       "<a class=\"ProveItLink\" href=\"__pv_it/95ca2fafbc33685afd9fd473fe484b72911d696e0/expr.ipynb\"><img src=\"data:image/png;base64,iVBORw0KGgoAAAANSUhEUgAAAKwAAAAqCAMAAAAZBkAvAAAAOVBMVEX///8kJCQNDQ0oKCh2dnaI\n",
       "iIiqqqpUVFRmZmYQEBDu7u66uroiIiIyMjLc3NzMzMxERESYmJgAAACPrtK6AAAAAXRSTlMAQObY\n",
       "ZgAAAx5JREFUWMPVWNuy2yAMpC0CLO78/8cW8A0cEh9P5CblITPJKPJ6kbQLjM0rBs9uWVFq4ozO\n",
       "mj2lU1zBhFS5IUlSrDiF/YueHGM2ETIxWUqwKmEDPJZfAmF6kQRhtpbYGbgBSjKSogQrD8Axkbbb\n",
       "JO9JhonXjWP/B9hSX9Iy4b4fLAu5WqORjLcBHr8TLEoA7yR0o5z/ZLBz/OdgxzgasBgmMxaW7h8Q\n",
       "uf882KwYw0nUyarNlY/GfQHY4Yx3rYzEqf7L3gE2XQKr06g4ZTuZg5yVC+8Aq66A5eaM2OXt9boF\n",
       "llC8z7W7A2vzvFDHf3QOE+e312kRbZ7IPBwzpy/eTYNkMX8szcNtXX9+l891g1yVQeZXsDhRmQP3\n",
       "g01qwc6VmOA5sRmsmsGuyuIMDVoxdTua9vUErLKbhdgVru+gYxkUCz5RyDfK4C4xWzdb92V+TJHk\n",
       "oRcEEbUsJn0FbIqtXa81+2uaK3fjN4Q5MW68kllOddqsHVi9Hid2so97cxAFnSLdESzBBbAyPzh0\n",
       "m6oft9gUud3oDIZSbvmV0aWA90TZx41BDrBr2kR5ouvkcOSqXlpEoS7lJzYyj67qJViLnwT7qL6v\n",
       "wArOPgh24KpegT0n9k6wA1cFL8akZqRgtbVXkg1d1X3mXk6Bq6C2PuGHjhEGglQWxtOgc1X3gUXB\n",
       "lcozsBx+OAK2J6IuAMpJO0eMkg1dFT3YGITD8qSMzUe3T+6Vpi2ggo0YR8lGrooMbFYUaf1R9VRz\n",
       "S5FNMEhsAxawa4g17LWrelfO1weh8RlNoavtoujE3sBgkIFqAypYtRV157t6V0Wx+NYA5YneVIab\n",
       "d4H2+qfeCNk2AJiSsrnslg2RA1f1LtYteTH6UGrCm1BX6Qxe73LcehLOj1eyDcjv4iDq1tNts/3R\n",
       "Vb21vDF+r4dMcYilbfYu0cIXZvjCftnS8k6yKwPhu8spjU9d1XtgWz3JZxufdMXm9+6qTWLKcT5j\n",
       "yCUbQxewjC7Kjv+ZPEkQoCoVYamNKKXk3JrMpC+M+vyNtQHCcMszhcqyzy1Ya7ad8WcBX7QoL7Bv\n",
       "X2et8hcsViIM3zl8vgAAAABJRU5ErkJggg==\n",
       "\" style=\"display:inline;vertical-align:middle;\" /></a>"
      ],
      "text/plain": [
       "{(a / b) s.t. b != 0}_{a in Integers, b in Reals}"
      ]
     },
     "execution_count": 4,
     "metadata": {},
     "output_type": "execute_result"
    }
   ],
   "source": [
    "SetOfAll((a, b), frac(a, b), conditions=[NotEquals(b, zero)], domains=(Integers, Reals))"
   ]
  },
  {
   "cell_type": "code",
   "execution_count": 5,
   "metadata": {},
   "outputs": [
    {
     "data": {
      "text/html": [
       "<a class=\"ProveItLink\" href=\"__pv_it/3256f4a9b6479f0056ffc1aaf981851a6bec2f890/expr.ipynb\"><img src=\"data:image/png;base64,iVBORw0KGgoAAAANSUhEUgAAAGEAAAAlBAMAAACg4ZrqAAAAMFBMVEX///8QEBCIiIhmZma6urrM\n",
       "zMxUVFQiIiJERETc3Nzu7u6qqqp2dnaYmJgyMjIAAAAcRTyBAAAAAXRSTlMAQObYZgAAAgRJREFU\n",
       "OMtjYCABcNoYSTGQBBwn8H0gSQOXLANzA0k6mH8xsCuQpIOxgWF9AEk61h9g2E+ax9dvYMjjnkCK\n",
       "Dg4F3jIe0sIqSXWaCgPDAxD7LikaT4OIV6TomAGKfZLihW8BAwPPBlJ08J5atWo6aaH8o6OjhjQd\n",
       "qQwMnViE/R7g1OHMwIUsySZxuNkASPMYQPjcRW12aMmPnYHpAiyK9hhfYJ/As2gBKERAobH6sC2D\n",
       "wgGeRRDp/yAAzCA8F9hhmm/sXMXAzRA7F8TmByYg3u5ZC4A6eNeiZcUHYUBysdpTBhaIQwwOgMh4\n",
       "pSygg4EAqGMNmkc6U4DuKWX9xcAHCe7Z4DygvkAZkoIUDjAbo+nYXADMXgasBQyLwdxFkOTZxHCP\n",
       "C2ynglm6A5oOfmBQMG5gSmAI7+joUGA4cIphFlBUhMGMtaKjo4lB4aQuug5eYNCsn8BxawEbiMey\n",
       "9QLDSSD9i0GaIQHiqq2noCpXiCNl4Qnxvgw8IA8wMzOwFHB2MVTxNjAchejggfv8MUIHS9ImWwaG\n",
       "biDrWtqZ5wms0gxhZ4CZDhgn3DVvuIxhUfwbPfqZQP6AxDSE0gD6Awmw/MKd2HZiFeUpwK3jAva8\n",
       "lKS8gcTi5xXXT9J07F/A8Ik0HXYMXH9I0/GYgeU3aTr+gop3ksAXhoUXSNORy9BMmgaGxTpAKwC2\n",
       "Z4JL1WoAcwAAAABJRU5ErkJggg==\n",
       "\" style=\"display:inline;vertical-align:middle;\" /></a>"
      ],
      "text/plain": [
       "forall_{a in Integers, b in Reals} (a / b)"
      ]
     },
     "execution_count": 5,
     "metadata": {},
     "output_type": "execute_result"
    }
   ],
   "source": [
    "Forall((a, b), frac(a, b), domains=(Integers, Reals))"
   ]
  },
  {
   "cell_type": "code",
   "execution_count": 6,
   "metadata": {},
   "outputs": [],
   "source": [
    "%end demonstrations"
   ]
  }
 ],
 "metadata": {
  "kernelspec": {
   "display_name": "Python 3",
   "language": "python",
   "name": "python3"
  }
 },
 "nbformat": 4,
 "nbformat_minor": 0
}
