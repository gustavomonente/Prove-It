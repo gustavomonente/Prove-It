{
 "cells": [
  {
   "cell_type": "markdown",
   "metadata": {},
   "source": [
    "Theorems (or conjectures) for the theory of <a href=\"_theory_.ipynb\" class=\"ProveItLink\">proveit.logic.set_theory</a>\n",
    "========"
   ]
  },
  {
   "cell_type": "code",
   "execution_count": null,
   "metadata": {},
   "outputs": [],
   "source": [
    "import proveit\n",
    "# Automation is not needed when building theorem expressions:\n",
    "proveit.defaults.automation = False # This will speed things up.\n",
    "from proveit._common_ import x, A, B, S\n",
    "from proveit.logic import Booleans, EmptySet, Forall, Intersect, InSet, NotInSet\n",
    "from proveit.logic import SetEquiv, SubsetEq, SupersetEq, Union\n",
    "\n",
    "%begin theorems"
   ]
  },
  {
   "cell_type": "markdown",
   "metadata": {},
   "source": [
    "**Nothing is in the empty set (everything is *not* in the empty set):**"
   ]
  },
  {
   "cell_type": "code",
   "execution_count": null,
   "metadata": {},
   "outputs": [],
   "source": [
    "allNotInEmpty = Forall(x, NotInSet(x, EmptySet))"
   ]
  },
  {
   "cell_type": "markdown",
   "metadata": {},
   "source": [
    "### Identities Involving Unions, Intersections, and Equivalences"
   ]
  },
  {
   "cell_type": "code",
   "execution_count": null,
   "metadata": {},
   "outputs": [],
   "source": [
    "unionWithSupersetIsSuperset = Forall(\n",
    "        (A, S),\n",
    "        SetEquiv(Union(A, S), S),\n",
    "        conditions=[SubsetEq(A, S)])"
   ]
  },
  {
   "cell_type": "code",
   "execution_count": null,
   "metadata": {},
   "outputs": [],
   "source": [
    "intersectionWithSupersetIsSet = Forall(\n",
    "        (A, S),\n",
    "        SetEquiv(Intersect(A, S), A),\n",
    "        conditions=[SubsetEq(A, S)])"
   ]
  },
  {
   "cell_type": "code",
   "execution_count": null,
   "metadata": {},
   "outputs": [],
   "source": [
    "setSubsetEqOfUnionWithSet = Forall(\n",
    "    (A, B),\n",
    "    SubsetEq(A, Union(A, B)),\n",
    "    condition=Forall(x, InSet(InSet(x, B), Booleans)))"
   ]
  },
  {
   "cell_type": "code",
   "execution_count": null,
   "metadata": {},
   "outputs": [],
   "source": [
    "intersectionIsSubsetEq = Forall(\n",
    "        (A, B),\n",
    "        SubsetEq(Intersect(A, B), A),\n",
    "    condition=Forall(x, InSet(InSet(x, B), Booleans)))"
   ]
  },
  {
   "cell_type": "code",
   "execution_count": null,
   "metadata": {},
   "outputs": [],
   "source": [
    "intersectionSubsetEqUnion = Forall(\n",
    "        (A, B),\n",
    "        SubsetEq(Intersect(A, B), Union(A, B)))"
   ]
  },
  {
   "cell_type": "code",
   "execution_count": null,
   "metadata": {},
   "outputs": [],
   "source": [
    "%end theorems"
   ]
  },
  {
   "cell_type": "code",
   "execution_count": null,
   "metadata": {},
   "outputs": [],
   "source": []
  }
 ],
 "metadata": {
  "kernelspec": {
   "display_name": "Python 3",
   "language": "python",
   "name": "python3"
  }
 },
 "nbformat": 4,
 "nbformat_minor": 0
}
