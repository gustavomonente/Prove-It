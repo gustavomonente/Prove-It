{
 "cells": [
  {
   "cell_type": "markdown",
   "metadata": {},
   "source": [
    "Context: <a href=\"../../_context_.ipynb\" class=\"ProveItLink\">proveit</a>.<a href=\"../_context_.ipynb\" class=\"ProveItLink\">logic</a>.set_theory\n",
    "========\n",
    "\n",
    "Basic set theory context dealing with membership (e.g., $x \\in S$), enumeration (e.g., $\\{e_1, e_2, e_3\\}$), containment (e.g., $A \\subseteq B$), unification (e.g., $A \\cup B \\cup C$), intersection (e.g., $A \\cap B \\cap C$), subtraction (e.g., $A - B$), comprehension (e.g., $\\{f(x)~|~Q(x)\\}_{x \\in S}$), and cardinatly (e.g., $|S|$)."
   ]
  },
  {
   "cell_type": "code",
   "execution_count": 1,
   "metadata": {},
   "outputs": [
    {
     "data": {
      "text/html": [
       "<table><tr>\n",
       "<th><a class=\"ProveItLink\" href=\"_common_.ipynb\">common expressions</a></th>\n",
       "<th><a class=\"ProveItLink\" href=\"_axioms_.ipynb\">axioms</a></th>\n",
       "<th><a class=\"ProveItLink\" href=\"_theorems_.ipynb\">theorems</a></th>\n",
       "<th><a class=\"ProveItLink\" href=\"_demonstrations_.ipynb\">demonstrations</a></th>\n",
       "</tr></table>\n",
       "<table>\n",
       "<tr><th><a class=\"ProveItLink\" href=\"membership/_context_.ipynb\">membership</a></th><td>Is an element a member of a set?  Not a member of a set?</td></tr>\n",
       "<tr><th><a class=\"ProveItLink\" href=\"enumeration/_context_.ipynb\">enumeration</a></th><td>Define a set by enumerating its contents.</td></tr>\n",
       "<tr><th><a class=\"ProveItLink\" href=\"containment/_context_.ipynb\">containment</a></th><td>Is one set contained by another?</td></tr>\n",
       "<tr><th><a class=\"ProveItLink\" href=\"unification/_context_.ipynb\">unification</a></th><td>Define a set as the union of sets.</td></tr>\n",
       "<tr><th><a class=\"ProveItLink\" href=\"intersection/_context_.ipynb\">intersection</a></th><td>Define a set as the intersection of sets.</td></tr>\n",
       "<tr><th><a class=\"ProveItLink\" href=\"subtraction/_context_.ipynb\">subtraction</a></th><td>Define a set by removing elements from an original set.</td></tr>\n",
       "<tr><th><a class=\"ProveItLink\" href=\"comprehension/_context_.ipynb\">comprehension</a></th><td>Define a set according to the properties of its members.</td></tr>\n",
       "<tr><th><a class=\"ProveItLink\" href=\"disjointness/_context_.ipynb\">disjointness</a></th><td>Are their common elements between sets?  Also defines \"distinct\".</td></tr>\n",
       "<tr><th><a class=\"ProveItLink\" href=\"cardinality/_context_.ipynb\">cardinality</a></th><td>How large is a set?</td></tr>\n",
       "</table>\n"
      ],
      "text/plain": [
       "<IPython.core.display.HTML object>"
      ]
     },
     "metadata": {},
     "output_type": "display_data"
    }
   ],
   "source": [
    "import proveit\n",
    "%context"
   ]
  },
  {
   "cell_type": "code",
   "execution_count": null,
   "metadata": {},
   "outputs": [],
   "source": []
  }
 ],
 "metadata": {
  "kernelspec": {
   "display_name": "Python 3",
   "language": "python",
   "name": "python3"
  }
 },
 "nbformat": 4,
 "nbformat_minor": 0
}
