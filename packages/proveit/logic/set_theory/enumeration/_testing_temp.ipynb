{
 "cells": [
  {
   "cell_type": "code",
   "execution_count": null,
   "metadata": {},
   "outputs": [],
   "source": [
    "import proveit\n",
    "from proveit import (varRange, ExprTuple, ExprRange, InstantiationFailure, Operation,\n",
    "                     ProofFailure, used_vars, free_vars, Function)\n",
    "from proveit._common_ import a, b, c, d, e, i, l, m, n, x, y, P, Px, Q\n",
    "from proveit._common_ import A, B, C, D, E\n",
    "from proveit.core_expr_types._common_ import (a_1_to_n)\n",
    "from proveit.logic import And, Booleans, TRUE, FALSE\n",
    "from proveit.logic import (Equals, Forall, InSet, NotEquals, NotInSet,\n",
    "                           Or, ProperSubset, Set, SubsetEq)\n",
    "from proveit.logic.set_theory.enumeration._theorems_ import (\n",
    "        true_for_each_is_true_for_all, true_for_each_then_true_for_all,\n",
    "        true_for_each_then_true_for_all_conditioned)\n",
    "from proveit.number import zero, one, two, three, four, five, six, seven, num, Less"
   ]
  },
  {
   "cell_type": "markdown",
   "metadata": {},
   "source": [
    "### Our main theorems to be instantiated"
   ]
  },
  {
   "cell_type": "code",
   "execution_count": null,
   "metadata": {},
   "outputs": [],
   "source": [
    "true_for_each_is_true_for_all"
   ]
  },
  {
   "cell_type": "code",
   "execution_count": null,
   "metadata": {},
   "outputs": [],
   "source": [
    "true_for_each_then_true_for_all_conditioned"
   ]
  },
  {
   "cell_type": "markdown",
   "metadata": {},
   "source": [
    "#### The 1st one is simpler, so we play with that one first. The BooleanSet.foldAsForall() method we are adapting is called on a Boolean set along with a forall argument to be proven based on the forall instance expr being true, or assumed to be true, for each Boolean in the underlying set. Our prove_from_cases generalizes this from a Boolean set to any enumerated Set.\n",
    "\n",
    "So let's define a simple set:"
   ]
  },
  {
   "cell_type": "code",
   "execution_count": null,
   "metadata": {},
   "outputs": [],
   "source": [
    "# A 3-element set of (literal) integers:\n",
    "set_123 = Set(one, two, three)"
   ]
  },
  {
   "cell_type": "markdown",
   "metadata": {},
   "source": [
    "#### A simple forall statement we might conceivable want to conclude would be something like this:"
   ]
  },
  {
   "cell_type": "code",
   "execution_count": null,
   "metadata": {},
   "outputs": [],
   "source": [
    "forall_example_01 = Forall(y, Less(y, four), condition=InSet(y, set_123))"
   ]
  },
  {
   "cell_type": "markdown",
   "metadata": {},
   "source": [
    "#### Analogous to the BooleanSet.foldAsForall(self, forallStmt, assumptions=USE_DEFAULTS) method, we'll want to access and use the following pieces of the user-supplied forallStmt:"
   ]
  },
  {
   "cell_type": "code",
   "execution_count": null,
   "metadata": {},
   "outputs": [],
   "source": [
    "# forall conditions\n",
    "forall_example_01.conditions"
   ]
  },
  {
   "cell_type": "code",
   "execution_count": null,
   "metadata": {},
   "outputs": [],
   "source": [
    "# length of the forall conditions -- in this case, the length\n",
    "# is just 1, which puts us in the simple ELSE case\n",
    "len(forall_example_01.conditions)"
   ]
  },
  {
   "cell_type": "code",
   "execution_count": null,
   "metadata": {},
   "outputs": [],
   "source": [
    "# for instanceVar\n",
    "forall_example_01.instanceVar"
   ]
  },
  {
   "cell_type": "code",
   "execution_count": null,
   "metadata": {},
   "outputs": [],
   "source": [
    "# for instanceExpr\n",
    "forall_example_01.instanceExpr"
   ]
  },
  {
   "cell_type": "markdown",
   "metadata": {},
   "source": [
    "#### A reminder of the theorem we're instantiating:"
   ]
  },
  {
   "cell_type": "code",
   "execution_count": null,
   "metadata": {},
   "outputs": [],
   "source": [
    "true_for_each_then_true_for_all"
   ]
  },
  {
   "cell_type": "markdown",
   "metadata": {},
   "source": [
    "n = size of set = 3 (can be found from len(set.elements)<br/>\n",
    "a1,...,an = our set = {1, 2, 3} = set_123<br/>\n",
    "Pred(x) = predicate = (x < 4) (notice the fxn name might not match theorem's P, and arg might not match thm's 'a'"
   ]
  },
  {
   "cell_type": "markdown",
   "metadata": {},
   "source": [
    "#### We need to construct some things to make the instantiation substitutions work. For example, "
   ]
  },
  {
   "cell_type": "code",
   "execution_count": null,
   "metadata": {},
   "outputs": [],
   "source": [
    "n_sub = len(set_123.elements)"
   ]
  },
  {
   "cell_type": "code",
   "execution_count": null,
   "metadata": {},
   "outputs": [],
   "source": [
    "var_range_update = varRange(a, one, num(n_sub))"
   ]
  },
  {
   "cell_type": "code",
   "execution_count": null,
   "metadata": {},
   "outputs": [],
   "source": [
    "var_range_sub = set_123.elements"
   ]
  },
  {
   "cell_type": "code",
   "execution_count": null,
   "metadata": {},
   "outputs": [],
   "source": [
    "# BooleanSet.foldAsForall() constructs P(x) -- not clear why we don't just import?\n",
    "# Because we need to construct P(unknown), where the unknown is the instance var supplied\n",
    "# by the user in the forall argument. The function variable P will match, but we need\n",
    "# the arg variable to match up\n",
    "Px = Function(P, forall_example_01.instanceVar)"
   ]
  },
  {
   "cell_type": "code",
   "execution_count": null,
   "metadata": {},
   "outputs": [],
   "source": [
    "# For P(x) we substitute the user-supplied instance expression\n",
    "Px_sub = forall_example_01.instanceExpr"
   ]
  },
  {
   "cell_type": "code",
   "execution_count": null,
   "metadata": {},
   "outputs": [],
   "source": [
    "x_sub = forall_example_01.instanceVar"
   ]
  },
  {
   "cell_type": "code",
   "execution_count": null,
   "metadata": {},
   "outputs": [],
   "source": [
    "# must include explicit num_forall_eliminations arg!\n",
    "inst_example_01 = true_for_each_then_true_for_all.instantiate(\n",
    "    {n:three, ExprTuple(var_range_update):var_range_sub, x:x_sub, Px:Px_sub },\n",
    "    num_forall_eliminations=3)"
   ]
  },
  {
   "cell_type": "markdown",
   "metadata": {},
   "source": [
    "#### Notice we can also do some replacements if desired:"
   ]
  },
  {
   "cell_type": "code",
   "execution_count": null,
   "metadata": {},
   "outputs": [],
   "source": [
    "inst_example_01.replaced({y:x}, allow_relabeling=True)"
   ]
  },
  {
   "cell_type": "code",
   "execution_count": null,
   "metadata": {},
   "outputs": [],
   "source": [
    "inst_example_01.replaced({Set(one, two, three):A}, allow_relabeling=True)"
   ]
  },
  {
   "cell_type": "code",
   "execution_count": null,
   "metadata": {},
   "outputs": [],
   "source": []
  }
 ],
 "metadata": {
  "kernelspec": {
   "display_name": "Python 3",
   "language": "python",
   "name": "python3"
  }
 },
 "nbformat": 4,
 "nbformat_minor": 0
}
