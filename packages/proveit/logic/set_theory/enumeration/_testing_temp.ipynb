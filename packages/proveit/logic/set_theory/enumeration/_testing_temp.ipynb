{
 "cells": [
  {
   "cell_type": "code",
   "execution_count": null,
   "metadata": {},
   "outputs": [],
   "source": [
    "import proveit\n",
    "from proveit import ExprRange, InstantiationFailure, Operation, ProofFailure, used_vars, free_vars\n",
    "from proveit._common_ import a, b, c, d, e, i, l, m, n, x, y, P, Px\n",
    "from proveit._common_ import A, B, C, D, E\n",
    "from proveit.core_expr_types._common_ import (a_1_to_n)\n",
    "from proveit.logic import Booleans, TRUE, FALSE\n",
    "from proveit.logic import (Equals, Forall, InSet, NotEquals, NotInSet,\n",
    "                           Or, ProperSubset, Set, SubsetEq)\n",
    "from proveit.logic.set_theory.enumeration._theorems_ import true_for_each_is_true_for_all\n",
    "from proveit.number import zero, one, two, three, four, five, six, seven, Less"
   ]
  },
  {
   "cell_type": "code",
   "execution_count": null,
   "metadata": {},
   "outputs": [],
   "source": [
    "true_for_each_is_true_for_all"
   ]
  },
  {
   "cell_type": "code",
   "execution_count": null,
   "metadata": {},
   "outputs": [],
   "source": [
    "true_for_each_is_true_for_all.instanceParamLists()"
   ]
  },
  {
   "cell_type": "code",
   "execution_count": null,
   "metadata": {},
   "outputs": [],
   "source": [
    "# A 3-element set of (literal) integers:\n",
    "set_123 = Set(one, two, three)"
   ]
  },
  {
   "cell_type": "code",
   "execution_count": null,
   "metadata": {},
   "outputs": [],
   "source": [
    "test_forall = Forall(x, Less(x, four), condition=InSet(x, set_123))"
   ]
  },
  {
   "cell_type": "code",
   "execution_count": null,
   "metadata": {},
   "outputs": [],
   "source": [
    "test_pred = Equals(Px, Less(x, four))"
   ]
  },
  {
   "cell_type": "code",
   "execution_count": null,
   "metadata": {},
   "outputs": [],
   "source": [
    "test_forall.conditions"
   ]
  },
  {
   "cell_type": "code",
   "execution_count": null,
   "metadata": {},
   "outputs": [],
   "source": [
    "test_forall.instanceVar"
   ]
  },
  {
   "cell_type": "code",
   "execution_count": null,
   "metadata": {},
   "outputs": [],
   "source": [
    "Operation(P, test_forall.instanceVar)"
   ]
  },
  {
   "cell_type": "code",
   "execution_count": null,
   "metadata": {},
   "outputs": [],
   "source": [
    "test_forall.instanceExpr"
   ]
  },
  {
   "cell_type": "code",
   "execution_count": null,
   "metadata": {},
   "outputs": [],
   "source": [
    "len(set_123.elements)"
   ]
  },
  {
   "cell_type": "code",
   "execution_count": null,
   "metadata": {},
   "outputs": [],
   "source": [
    "true_for_each_is_true_for_all.instantiate({n:three, A:set_123, })"
   ]
  },
  {
   "cell_type": "code",
   "execution_count": null,
   "metadata": {},
   "outputs": [],
   "source": []
  }
 ],
 "metadata": {
  "kernelspec": {
   "display_name": "Python 3",
   "language": "python",
   "name": "python3"
  }
 },
 "nbformat": 4,
 "nbformat_minor": 0
}
