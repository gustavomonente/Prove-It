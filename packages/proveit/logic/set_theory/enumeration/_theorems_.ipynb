{
 "cells": [
  {
   "cell_type": "markdown",
   "metadata": {},
   "source": [
    "Theorems for context <a href=\"_context_.ipynb\" class=\"ProveItLink\">proveit.logic.set_theory.enumeration</a>\n",
    "========"
   ]
  },
  {
   "cell_type": "code",
   "execution_count": 1,
   "metadata": {},
   "outputs": [
    {
     "name": "stdout",
     "output_type": "stream",
     "text": [
      "Defining theorems for context 'proveit.logic.set_theory.enumeration'\n",
      "Subsequent end-of-cell assignments will define theorems\n",
      "'%end theorems' will finalize the definitions\n"
     ]
    }
   ],
   "source": [
    "import proveit\n",
    "# Automation is not needed when building theorem expressions:\n",
    "proveit.defaults.automation = False # This will speed things up.\n",
    "from proveit._common_ import f, n, x, y\n",
    "from proveit.logic import Booleans, TRUE, FALSE, Or, And, Forall\n",
    "from proveit.logic import Equals, NotEquals, InSet, NotInSet, Set\n",
    "from proveit.core_expr_types._common_ import y_1_to_n\n",
    "from proveit.logic.set_theory._common_ import x_equals_any_y, x_notequals_all_y\n",
    "from proveit.number import Naturals\n",
    "%begin theorems"
   ]
  },
  {
   "cell_type": "code",
   "execution_count": 2,
   "metadata": {},
   "outputs": [
    {
     "data": {
      "text/html": [
       "<strong id=\"unfold\"><a class=\"ProveItLink\" href=\"_proofs_/unfold.ipynb\">unfold</a>:</strong> <a class=\"ProveItLink\" href=\"__pv_it/5cfb7b19372a8f3bca4f644a70fb3768a6373e270/expr.ipynb\"><img src=\"data:image/png;base64,iVBORw0KGgoAAAANSUhEUgAAAggAAAAZBAMAAACmx8tHAAAAMFBMVEX///8QEBCIiIhmZma6urrM\n",
       "zMxUVFQiIiJERETc3Nzu7u6qqqp2dnaYmJgyMjIAAAAcRTyBAAAAAXRSTlMAQObYZgAABUNJREFU\n",
       "WMPtWV1oHFUUPtnM7M/szCYP9qH6MiYQg6Z0odQ+NKlbBfOiZpMH60PEpVhEUVk0NhqLFEWdWNSx\n",
       "yDZEWscq0a5YF8pSAwpLUl8aK0PJg0orA+qDghL8Q/sg3t+Z2ZmdO7tBVlEvnLs3O3s+5nzn3HPO\n",
       "vQEQjeTsE/BvH9LsIfEPUvBfGJX/SfinkZCxqYhG1uwATDiWmSASHPxxOZKEHP7Q7O6Q8A4T4bi/\n",
       "AzBxwjOpIBLW8N/fRZKg1tBHzuoOCd8yEY7TeJLJshh6WPQexgIpDhVEwgKOnMORJJBHC93hQMtT\n",
       "EQ9Vx17E1mp66OEBPF3kYDFjhUmFeJm4OyIn4CBZ6w4JKZNKjAP7sbNL+PfhAL0TT3McLGa8waQC\n",
       "2vlq9ZggMV6qVk+Vu0PCMSYx42se7LeEn+WQ6VIe2gPKFaig6vCbYRwSkNBnGM83ukPCIJOTQ6+O\n",
       "BCJdGdThFeb4VTydQTLfonYgAtImtAek5qlUyDaaF5CAdl/abN+QQvCL6ZjKIt/gLl+kojS0R1I4\n",
       "Yak/kIEdq0r9sB1kkru+ZG8mt8pkKGjv4mDRQCwHOVQqOKhIinRf6tFzcG3JIwEF1+kOvBl8sczV\n",
       "sZXKjbMnqaiWekUK8P5arwOGvIPsy7N4SuiQLLRAGwC4l4NFAvGwKVOpYEMTrrPeXR2DD1Sr1/I1\n",
       "S2XYtjkSlA932JB14jS8X1xFRYF0yMdWjw4/gkRIuIeAl1v75m3uUiEQ8/cGFUSCart9oXZk0YKP\n",
       "9Lzq7xgvQHlzJHy2XIXNkIDyULj2TVjyL34SYHfrmtVbY6VOCBQiIeOguqKNTQ2ydFuvH20i4QQu\n",
       "R+rgFC7BN5do/Wk6hQ35axUlYWXnUJEmaWyiWMsjgW0HZCbtgthWJntzDyT6GQnj5OGJ1r7JOCkP\n",
       "LAqIWkvgJLodYB5tIm2v3WPSFrquvjftJyFdQXvv+qQzg9aNK3I/PBBoXvqsyUAkJKyHU4Wca6JY\n",
       "yyOBJcastR0hBIx7DtIlRgJJjJC+W28ZWM9edMEigai1/sQIZxD04nXQZynEd3VorPpJyO7C7WgO\n",
       "543MW+XE4elAqlsch+EACTJ8D/AmT3sxWspW/t0qlYnay3A8aNuNMGEzEkZpLN9HzXsfN79/sAVu\n",
       "l+ZcsEggYi3aOg0qFb5x9sNekB83jKcRCcdTTadIkkf6SJbtbST1UGiPIuVgTvgdYJ9hGLr8TLzW\n",
       "Pl4exqksDZwcC9XVpYGbTEbCN/Sbr9gr4iA/yBeo+8m7YNFA2Fr00yIVTIKGKd0CozKUaCRIU00k\n",
       "fEGzEd5eqUJPMWTODGzRdl9u+EmQN2RIugVQrOVFgrht3kM3MK4LNJYiTtCWBxYJRKxFlYQKv0/I\n",
       "bMBMHT7Gy3XUKgfvEzIbn0Ij8wKkihOkNUfLBYtMCxY8Jm1kh3maIiS8rjoqqEW+47kWUyGTp+Xl\n",
       "BMEBKukoP9OiTg9Q7Z3GooCotb4DFEvWJRixIY2qi/RUgTnRR4Ly0G0jlnwNSPtfIuag5aQpb0XT\n",
       "ZA1uHXbgAG/fyMfS+sp5gCOcBK41WSMqePJp+YroPER1ryk7rUNm1686tN26CYCotb6jdNMYRjkh\n",
       "+mYpC6dw0p0jSz5qipm2oZxYD/UJCZQTiImuVq2Vlo+E6EsVaWCn2Lh2L1V8QPg0kDY7vV5bhgcl\n",
       "B6Z+qrFrKXrblWzcAUope6F124xN5FrezZhfy0dCO9dr2l92vfY5k85IsOH2T9wlfyeQLjUEZwec\n",
       "9riWBq20kl06o27+orXj/zuE0tHRuFPk2t9MgTR78E/dcLBPHCwMSgAAAABJRU5ErkJggg==\n",
       "\" style=\"display:inline;vertical-align:middle;\" /></a><br>"
      ],
      "text/plain": [
       "unfold: forall_{n in Naturals} [forall_{x, y_{1}, ..y_{_a}.., y_{n} | x in {y_{1}, ..y_{_a}.., y_{n}}} ((x = y_{1}) or ..(x = y_{i}).. or (x = y_{n}))]"
      ]
     },
     "execution_count": 2,
     "metadata": {},
     "output_type": "execute_result"
    }
   ],
   "source": [
    "unfold = Forall(n, Forall((x, y_1_to_n), \n",
    "                          x_equals_any_y, \n",
    "                          conditions=[InSet(x, Set(y_1_to_n))]),\n",
    "                domain=Naturals)"
   ]
  },
  {
   "cell_type": "code",
   "execution_count": 3,
   "metadata": {},
   "outputs": [
    {
     "data": {
      "text/html": [
       "<strong id=\"fold\"><a class=\"ProveItLink\" href=\"_proofs_/fold.ipynb\">fold</a>:</strong> <a class=\"ProveItLink\" href=\"__pv_it/adbd424a5b66fde147fca130dec54008174f99b20/expr.ipynb\"><img src=\"data:image/png;base64,iVBORw0KGgoAAAANSUhEUgAAAegAAAAZBAMAAAAIx6A3AAAAMFBMVEX///8QEBCIiIhmZma6urrM\n",
       "zMxUVFQiIiJERETc3Nzu7u6qqqp2dnaYmJgyMjIAAAAcRTyBAAAAAXRSTlMAQObYZgAABZ9JREFU\n",
       "WMPdWG9oHEUUf7nbP3d7f1LEfIgiXBuJISb0KIpIm3JRSAWr3USQfAj1CAZFNCwaG5tWPYrYi1I9\n",
       "VGoI1K5Roo1oT23UioFrWhFaIweNopLifbW0ciiCDSi+N7O7t3u3e3GtcrQDtzdv9zfvzW/mzZs3\n",
       "A1CvSOO74Worwvje+gAZrsZy8AomHevxgxY36VcU6XDR7a1ywadbt+DjOCddor9znqTjbEyLDSX9\n",
       "rvtEl32q2UpBKsdInyH5vCfpaB7/4npDSf/s+jaq+VTzFblHiZGeIv/JeJJmn6Yau3aT/x1pWGSk\n",
       "aRbZdHqsaXKCMw0lLefs0vfj46XLIP0mIx07PTf3ep1AtjI3d0RrKGlH7wY7L2+m4ykWvf/IZvfW\n",
       "Id2cze4v+A+4bi9VH1gQrVob/mbaX+tK0Jo873DvmU0Qvq5eP+yAE6xVkpEeAZisQ1pSIZT752xT\n",
       "/M91mI65N3Ef0kjKrB1AroXY43LJjL5GtohyoRcCZRj07g4H8PITCxAlRvpOHtKsEX7iFKxPV0gL\n",
       "SfjAxxTzkCi5DlPQ9a3kMaS3m5U9OD96dFUgXKjy/UMVwvmtEMrcd5u3wzGAIcQpIEY0RlqGgLUN\n",
       "v3eyBz6L6kHdlpxo0O2b9JDrNyUNZMmyxoUhD02zZuVabGl2vf8XLGyOBnfT62ugOQHbPHtjAIzy\n",
       "ENbEMiMdLVp5V+zFaR0WEsmoPSNbAs036RGvDfdGHH3TjQzBAwvxXIU0mF23bZ69GCKEVXhArUPa\n",
       "ABgKybBBOly6n/LYgTbydCzz8684SL8hIjjaNkCduyMNEzV620HWq0jjMC3e2q5WA7rJPStOzgXN\n",
       "0g4OC5b/7aGH0fUm27JAU8ESrId6pBng7LcbkuaaFrh7w+SDSLq32JTjKel89P0hO+nQQQwpnVJp\n",
       "jOLCqrgOHqlKEpr1/qqZDmsQ0Efl1MNZLEUGkIj2JxBN2dJ9JiCWaZcIe4Bb4JEsXQlkEX0jaiQS\n",
       "CUf0DqXh+bqkGWD5Bmg1o7cRyOBjbD19EzTrCkt95qFw0k46QnFCjdO4h9/WApmhqj1ieht0VJEW\n",
       "MrjjXLQDxBPU5btAyVQCFBcQa2gH04LhIGYAwt7syL8MhyrTbpEOpoU/OemjSEb5y6hUJAKEZzRY\n",
       "NffpYIGTZstlGHpBfCqb3YekD8mOU9avbE3leBMpUePgW7BxFWmapEsOAHPwnQCnlHQFTALDNlsu\n",
       "zyzwbcTcU5DT7IaZHj4us8/pNtLKcNslTlqmXu2iStp8jOsGQEoI66zkROWkY6SmBbaIkOYzLQw4\n",
       "SP/I1hRLLeRUk1pDegxaYpvPFWykxQxFDBFGKdYWCcBJ9+GJKWhLUUggLGmXCHuRWTi7sGKOXG0a\n",
       "un2/Iw3FRcvd+/PanV43AE1qsKAapN+xnafDZRibhy+puoypZ/V5Olz+BgrhF0BWdwCRxuqUzh5T\n",
       "OjwplCMdZohnpBUNDkdLVjhEACeNeqPfVVozAbFMu2kRLXyUIbuxwhoHDpy9UTiKAedT9xSH7DPA\n",
       "YZDvVh0HDmMBpaGrCCE8eAjPpECqJq08tr1LF68HYfglRhqr/TmxFR/9eejrKMGImLFH7wmYXV48\n",
       "bWohACN9C2r6HVu38tZMQCzTbnYELUgq5VhBKyWb9DxPPw37AF59FpeXkqhNQcEA9EFgyThPG0dL\n",
       "R+nANe19cxKBIxRKJ1jVLHklFyqCFli2k77ZkSEQgJEmi46juV6NZRZk6EbC8TUuEeACbnBt5mKJ\n",
       "1X6nIFABgED7fSjn97roODwqlGDgt7xx7cIGIicV7sVcK7JkJx1y5JkIEDduRqzrBYwDyyzMwheI\n",
       "XFjjuggi/+KO7Affd2RFuOdr2ygaIyysFGoyMsHeTQvwlnvS5KBkWVCSDbsN9X3vnTSdwqV0ujdx\n",
       "xfJc5P+59971N4SEmbf/zheIAAAAAElFTkSuQmCC\n",
       "\" style=\"display:inline;vertical-align:middle;\" /></a><br>"
      ],
      "text/plain": [
       "fold: forall_{n in Naturals} [forall_{x, y_{1}, ..y_{_a}.., y_{n} | (x = y_{1}) or ..(x = y_{i}).. or (x = y_{n})} (x in {y_{1}, ..y_{_a}.., y_{n}})]"
      ]
     },
     "execution_count": 3,
     "metadata": {},
     "output_type": "execute_result"
    }
   ],
   "source": [
    "fold = Forall(n, Forall((x, y_1_to_n), \n",
    "                        InSet(x, Set(y_1_to_n)), \n",
    "                        conditions=[x_equals_any_y]),\n",
    "              domain=Naturals)"
   ]
  },
  {
   "cell_type": "code",
   "execution_count": 4,
   "metadata": {},
   "outputs": [
    {
     "data": {
      "text/html": [
       "<strong id=\"nonmembershipEquiv\"><a class=\"ProveItLink\" href=\"_proofs_/nonmembershipEquiv.ipynb\">nonmembershipEquiv</a>:</strong> <a class=\"ProveItLink\" href=\"__pv_it/c892f81683d4b0be50cedf8b4c94e8fdb27425920/expr.ipynb\"><img src=\"data:image/png;base64,iVBORw0KGgoAAAANSUhEUgAAAl4AAAAXCAMAAADtN7E5AAAASFBMVEX///8kJCQoKChjY2MJCQkN\n",
       "DQ0rKysPDw8WFhYQEBCIiIhmZma6urrMzMxUVFQiIiJERETc3Nzu7u6qqqp2dnaYmJgyMjIAAAAV\n",
       "LBabAAAAAXRSTlMAQObYZgAABixJREFUaN7tWmmXpCoM5a3zBGRH//8/fSyCgGxaVT3n9Gk+tExN\n",
       "gJtwTUIQgG/T1vyfGukProWgAD/tgw1u2/o1K3GdPxuNpv8Qm/osKLx47SV/qxJA9Wk7u9x96z5F\n",
       "FCFFaEdHbxSD7Xzd773tCoPng+80wfJny6GQzHftnyY9OpQn/I1KAL4NJiL8M9Z9jihCitBCx1BE\n",
       "ySC1idv0ejz4Ttt4/mxtN87Q0U/TK6wgtjcqAQge0aFc7ibdeAPYc0QRUoQWOoYiPLCXM3CbXo8H\n",
       "32ga5c+p2PiF9AIKvk+JCTuWy23o3suKqsBeQRQhRWhHxwW4w++cnmieXo8H32iU58/q7jH63y+6\n",
       "/R56ieU9SjhXMU5ni+VWRu8EjlKcDp3XRIIdIEVoR8dSRCthG7+7H45eTwffcOY0f1ZNZo5xjP8u\n",
       "7wU2/AYl5oNAvhzBEN5AXYgPN24uLAVIEZrvOIrszDaqntDr6eAbB1SUPwWEhGOYhAhhXWiZksTM\n",
       "CCIryZenuWFzAhW9iEKvK+EbWyeWzpazet94k0rxEaA5RBFShOY7jiLe/TH+iF4PB883prOnMETW\n",
       "FIIkErpzSvkKk5BdAmxpAB8fJJsTnGdTfWJRW9LQtBLHsD//yYY1ltZZEiBvZSaleNOqtxBFSBGa\n",
       "7ziKYDR9/rnS6+HgG6mXzJ62CKN2AfBJaFY5ucqjKsWlLyAw5oLog9icTtBIkiV9XYmKq2hhz5aj\n",
       "U6WDpvgAUA9RZm5aQPMdTxHbhc261UqRFYMLqdFrMPj1tuDsKS7arYt5v/51b1mSvx52MuKL9Ws7\n",
       "BCtCD/KxZIJrHkP9j+v+shKVyl0Te7qchrPpd128D6iDqJDbC2i+4ymidDV+C6mQvViRzLEbiSq9\n",
       "GoM/RS9w0c4ln2V8CDV10zMvpdHW/hM/wplMUHgvUtnvh0qAaopRx54u54+BBQs6zqsU7wPqIpqm\n",
       "l/GWFYCaSS4sHGk4j2zcrdKrPvhjwRFctVtAheAkvIvOm0OXhj+jVzJBI/dK5s1yLzKthBv2x1IO\n",
       "q2NPuhJN1kZb4k2rjhFlrKMFNJwER0PSozSrkV6hP03gmM/JVa4ctuh1DgYKohUGz4shia9L3zv0\n",
       "BYusWAqfWCY3yuYwg1GzbMBI+POQXnGCxDj5yVEPc5+xElWO1LEny4Uhcq60ehXvAuohyo3RS+3t\n",
       "cgd4jRez3mJnPXWQqwmOem3RKw422Mx5jQauAeNHV7sFRAyOZkGw/t/ZmRfvErC9uIel8pp8RHoh\n",
       "YkfpZIvEHi4xLp3aT3GCxDh53QsNyzITSlRekQr2fLkz3w9vZ0+3ingXUBdRbowAKULznUCRI+5y\n",
       "Aa0WNr4KlNLLcOBS3AljY9A2YlvEx4U1CGRgVf2SUxRsObfM7woCoYAov0AX5G8smjV1MwLtPJ2K\n",
       "BuvS4PVjJ/kp7tgxQWKcsqw6zKwnlKjd2lawZ8ud14GxLnNV6dStIt4D1ENUGCNAitB8J1BEh4kI\n",
       "BL60sVJXL2XQ08vwmrbopU8Ue+JNLYHtdMMAGQUbydf4PkX/pRil7Uuh4+OGuEVypsaaCvkJonEK\n",
       "Ak/E3LESrfhWYk+XS8r3M2fHmnjHqn1EqTECJFGYRJXXGfbAZbbb/CWZ9wJ4hS165QeIEzj20w3p\n",
       "dQhqJLWuhJmJ2+BKVTdkRra8Knacb9HUHYO6THAaJ6PXe660K66iin1qufnWsWofUWqM3pV2Fql2\n",
       "t90uHEaeaCek1YBeZqza3K5wZoHR1UTpM9C7H2t/gqC0AZJ2yNO8Gqh9shTOddQ4fAbzop+Y2aAg\n",
       "dE6QGCdxK5M15ZESskL5Gva3l7CbVu0jSo3R+yAnd5/WZ0HlYjCTITz7+0kyoJcgGitoK2TrIt1c\n",
       "kG1JscX+uNpcMP2TCpr8vFpXH36JV63qHl+rYpMrHAV8RHcfg6eKwDoebMMEqXFsYMCD/bmlRO17\n",
       "uRr2t9+/Na3aR5QxpXx1GG8GuGTXjtyr9d+0ndIa1ggejr0hOMqBoM3wdQ3Q6Dti1kgdvuRbe/2e\n",
       "j6Hx5ML6yz6GnkUUIUVoRwduFH/E+PZja6IAtj5phTuS4ceeoCDWIX+QEj/tmzTLEayVqkaboeBP\n",
       "+z7tf1SCfX4Yevz/AAAAAElFTkSuQmCC\n",
       "\" style=\"display:inline;vertical-align:middle;\" /></a><br>"
      ],
      "text/plain": [
       "nonmembershipEquiv: forall_{n in Naturals} [forall_{x, y_{1}, ..y_{_a}.., y_{n}} ((x not-in {y_{1}, ..y_{_a}.., y_{n}}) = ((x != y_{1}) and ..(x != y_{i}).. and (x != y_{n})))]"
      ]
     },
     "execution_count": 4,
     "metadata": {},
     "output_type": "execute_result"
    }
   ],
   "source": [
    "nonmembershipEquiv = Forall(n, Forall((x, y_1_to_n), \n",
    "                                      Equals(NotInSet(x, Set(y_1_to_n)), \n",
    "                                             x_notequals_all_y)),\n",
    "                           domain=Naturals)"
   ]
  },
  {
   "cell_type": "code",
   "execution_count": 5,
   "metadata": {},
   "outputs": [
    {
     "data": {
      "text/html": [
       "<strong id=\"singletonDef\"><a class=\"ProveItLink\" href=\"_proofs_/singletonDef.ipynb\">singletonDef</a>:</strong> <a class=\"ProveItLink\" href=\"__pv_it/300a4a51522dc8adb6872803a231506fef43c8700/expr.ipynb\"><img src=\"data:image/png;base64,iVBORw0KGgoAAAANSUhEUgAAAO8AAAAWBAMAAADaw9ZbAAAAMFBMVEX///8QEBCIiIhmZma6urrM\n",
       "zMxUVFQiIiJERETc3Nzu7u6qqqp2dnaYmJgyMjIAAAAcRTyBAAAAAXRSTlMAQObYZgAAAvdJREFU\n",
       "SMe9Vk1oE0EUfk033e1mN81BrxISCKUILUI92VgVLHqwLYJ4U4qCvUgoShGlFA+aHMQIQosiTnuI\n",
       "UkQinuopxItU0ICCFBQCQkFRCaLgz8V582aTzO5sf0R88LFvZ9637+28N28G4C/EHZLK0T7499Jd\n",
       "IwTF/tRU940BLGtM7oR/d1miji/vNAb3JTQ/3GiqnZzeVQyGNhvuGM0Rz/Hlo8bgg0RQnJyi2vWA\n",
       "RbwY7hjNEfO4qpoA3QHCxo6hGrB4tV4Oq4Q44/RycNosEtpCuTo9o3W8ECBfWM/xAsFdWVqa00zP\n",
       "STQlepmF/HF82F+XufUcozniRz5/STOdlljM3NyZxIGHTElsOgk3GDgJfPdnJMIH7NTkfl8OPM4A\n",
       "UU4DFDSOrxHsijtliuqZbNUlf3eMBPTLAnfF/IsvKO9RtfgufABvkjPquMepEw7oyhLgIsFhzi9D\n",
       "pLpVgI/45r3NN1Ke6/jBmH9lTV4zK/CSHVKHJQfNESZEdG1iG8EGizxGd2DgqB3H0mEdSfiKfz/F\n",
       "pxo+bgfPIBNxKSI5aI5waiaEOwboSVLBzCrtCkZZ9Dt/rEGIYxBxqUIcz3F3/RhurMEM/5yRAZMp\n",
       "Sw1wYowGEq0cYwxZiCRkjo1cK5dr3lKDiEsdJw6aC0rhFK9DdtbkYTo9bFwtrhjr55M4sEvdQ1fA\n",
       "OglU1a6/RrC4nkQa4D9CiOMVFzzm34nCZ5y5NQK90ugpYbR8XXZ8s6w43g2jNal2VvytbQCM31Yj\n",
       "cMQQB80FhZL4U0ztgQlpNEIopRaHiG+fOdzuuJTaW/QayJjPAV9Ie6IvHTh6iIPmguIyUSBRnDoH\n",
       "20NbpvFMbZlZT723+ZaZleZNyl2n7sA8g/NGYxOHRAKbiP1tq4eE5FTbKaXX1RUYL8PB3mahFEDf\n",
       "0qiUzZqVlOexpv9Y2mOROLaGUraLVm3jiwDwG4iRGhRbeljrRX8RIA6a+yixYlflyCauPhBT7lyr\n",
       "W7v6rAYpLhhvK/Cf5A++k+7nZyRUgwAAAABJRU5ErkJggg==\n",
       "\" style=\"display:inline;vertical-align:middle;\" /></a><br>"
      ],
      "text/plain": [
       "singletonDef: forall_{x, y} ((x in {y}) = (x = y))"
      ]
     },
     "execution_count": 5,
     "metadata": {},
     "output_type": "execute_result"
    }
   ],
   "source": [
    "singletonDef = Forall((x, y), Equals(InSet(x, Set(y)), Equals(x, y)))"
   ]
  },
  {
   "cell_type": "code",
   "execution_count": 6,
   "metadata": {},
   "outputs": [
    {
     "data": {
      "text/html": [
       "<strong id=\"unfoldSingleton\"><a class=\"ProveItLink\" href=\"_proofs_/unfoldSingleton.ipynb\">unfoldSingleton</a>:</strong> <a class=\"ProveItLink\" href=\"__pv_it/b10a52bd04a2d84d9d4eeb08872f487d0534b6e90/expr.ipynb\"><img src=\"data:image/png;base64,iVBORw0KGgoAAAANSUhEUgAAALAAAAAWBAMAAACS3AueAAAAMFBMVEX///8QEBCIiIhmZma6urrM\n",
       "zMxUVFQiIiJERETc3Nzu7u6qqqp2dnaYmJgyMjIAAAAcRTyBAAAAAXRSTlMAQObYZgAAAmNJREFU\n",
       "OMullU9o03AUx7+2yZpkaSuCF0/VwihFoQjepswJDkGk20E8CC3FHQZz7DDBgcrYQTK8xJNjIEYP\n",
       "HqZowIPgIZQOLxVnQMGLSsA/h8EkCIJ/EHy//JY0pm024g/C+/3eN/nkl/d+7wVIPG73lwZ1wGGT\n",
       "9wm4ykKMOAW8YHYjATinx4iPgGUy8kIC8Os4US0gZ5AxE4DnY+O0G9n26uqtBFx5Nlb+BPzQtCsJ\n",
       "wKkK7evA1Ggr4r93GPI+YA2YBJaiTwlRh/iS24kgaJINPMTbwjW2WP/Kxkc2bR5HygU+ACegOFGO\n",
       "FHXcNLYm074nQ69o45VxKhIh8xgkOgtP6Q6k7Djwg7WjgOWvgsmuEcCA1pU17EG+ANToSNgZxICz\n",
       "N1aMfmDgW9ejwi/Uqh5Yds7SunVkiJbCEDJGAFaLE5MUqS0e16xwKCB+5wse4y9smnawn8wYXUsX\n",
       "KMfGTIa2oOaN8c6OywPOHC95xuOaFU7eM0pTOfqxdVyHlzw8oRMpYpN5V8ZQ6oCrORtKxc8Z1+76\n",
       "haxWIPyWXDman3Rd+ENmmC4Wa+Cn5x5GIxTjvA7xsqYt4lzF10T/zAuzUBrlYlf7UhpFhvrM0sOi\n",
       "Kroic89hbwhcQxX14JR5WrDj/iVNUYbi1+Ud1VGxbOCS4AZg2V1HE8+Dw+Bp1nZNaAaPR7wmxMf9\n",
       "N602xk2cLDkBWLl4+qAByfTBntYBS73b5lUs8rYZHqaiS3a0QEoUY8bjmrVdox8tVhFtEoP6QPNM\n",
       "75ImHtesHf2asv9+TRbCu2ZvMOWMa9P4r5Hu6r6HuD2/41/CX4JeogBM6xTwAAAAAElFTkSuQmCC\n",
       "\" style=\"display:inline;vertical-align:middle;\" /></a><br>"
      ],
      "text/plain": [
       "unfoldSingleton: forall_{x, y | x in {y}} (x = y)"
      ]
     },
     "execution_count": 6,
     "metadata": {},
     "output_type": "execute_result"
    }
   ],
   "source": [
    "unfoldSingleton = Forall((x, y), Equals(x, y), conditions=[InSet(x, Set(y))])"
   ]
  },
  {
   "cell_type": "code",
   "execution_count": 7,
   "metadata": {},
   "outputs": [
    {
     "data": {
      "text/html": [
       "<strong id=\"foldSingleton\"><a class=\"ProveItLink\" href=\"_proofs_/foldSingleton.ipynb\">foldSingleton</a>:</strong> <a class=\"ProveItLink\" href=\"__pv_it/b894642233e96e6e234b5563e6fe1e3766ed9f540/expr.ipynb\"><img src=\"data:image/png;base64,iVBORw0KGgoAAAANSUhEUgAAALMAAAAXBAMAAACyt2M4AAAAMFBMVEX///8QEBCIiIhmZma6urrM\n",
       "zMxUVFQiIiJERETc3Nzu7u6qqqp2dnaYmJgyMjIAAAAcRTyBAAAAAXRSTlMAQObYZgAAAnJJREFU\n",
       "SMetlU9o1EAUxj+3ySbNZrd7sFcJW1iKCC1CPWmtCBY8WIvgVRGF9bJIUTwoIh7s9lAaQbAo4tjD\n",
       "Kj1IoCdvsR6UehnQi6AYEAQFpYiF1pNvJv/XRIz2QcjM+2Z+mbx5bwbYNnvN/feJ3f+M6OeZ7idu\n",
       "2Dp0HHhKb0903hdBP852f4hafcQs28Ar0flSBP052/0iapkXAIPwi+IXrxcgV0f/Bo1VoMao7RRA\n",
       "a3bqQ7OXr2WiH5K2trx8p0g8UoPVGyxn1bUJYLPTuVoEPUTPUvP2HkumBUsGxBiycIvBrAs+xe0c\n",
       "MPfb/Il89Dwh3OqMJlPrfOxvE06pY4QCsS4iRfphuZs99od9vUIIZv5U7PS4yiBwj9KuQ+2Pok9R\n",
       "0VDiRdA7adXQ/QHqrm9ksjVLn2I7LHynTnmGHLR0k2soiAYGLL8w43EKrRpTTN2g1yf46H7vpEjD\n",
       "sSaVp9KExmK075QTQ0EGBDgV+OvxJ1v0jKNUD2KtiDSZOwuUWFujrTMH2HS8aulsdch4JMhtrLAR\n",
       "EkVnb7pkbkI/DT9DxDZihfgqvgr57iSGY3TgTAnAc/pvZwH3/fpxUuh9mOJBXve5Udy2pL4fZ5Kx\n",
       "3oomhgIwCXQbSwf8rTdaR5PobuOgHZaMCFmVyairQr+IwQRaONsiB3gk9Ba68jJd6ONhNT4KRzww\n",
       "PROLDJeU9RgtnYGFQv7x9IySzjN+JI4n37pvVtcw7eDIsBejpTOwUEBW7YbntcZ1Kzive8vQMWyd\n",
       "Z+Z1JORfBTUXSmNM3jKUa3oqbKjYZfdYdslEQv4FhpXk3fi255CH8s7NRkfC/9voNjB+ATPTrv1u\n",
       "M2p4AAAAAElFTkSuQmCC\n",
       "\" style=\"display:inline;vertical-align:middle;\" /></a><br>"
      ],
      "text/plain": [
       "foldSingleton: forall_{x, y | x = y} (x in {y})"
      ]
     },
     "execution_count": 7,
     "metadata": {},
     "output_type": "execute_result"
    }
   ],
   "source": [
    "foldSingleton = Forall((x, y), InSet(x, Set(y)), conditions=[Equals(x, y)])"
   ]
  },
  {
   "cell_type": "code",
   "execution_count": 8,
   "metadata": {},
   "outputs": [
    {
     "data": {
      "text/html": [
       "<strong id=\"notInSingletonEquiv\"><a class=\"ProveItLink\" href=\"_proofs_/notInSingletonEquiv.ipynb\">notInSingletonEquiv</a>:</strong> <a class=\"ProveItLink\" href=\"__pv_it/77379e538c9c3e75ea667d7fe8cfba77bc7c7b8e0/expr.ipynb\"><img src=\"data:image/png;base64,iVBORw0KGgoAAAANSUhEUgAAAO8AAAAWCAMAAAAfMztaAAAASFBMVEX///8kJCQoKChjY2MJCQkN\n",
       "DQ0rKysPDw8WFhYQEBCIiIhmZma6urrMzMxUVFQiIiJERETc3Nzu7u6qqqp2dnaYmJgyMjIAAAAV\n",
       "LBabAAAAAXRSTlMAQObYZgAAAyNJREFUWMPVWMminSAMpXMFZBLw//+0oEQJgsbXdvFY3FwVc8ic\n",
       "yNh/WzO+DCI0zwV37DMsGzAdLF1fuOivO+S062Sx74CHy/cUCNx3Gk8DBBqqM5iOzKuQddfeHlHQ\n",
       "lX0DPNZH7N4G7hv1C9yORO+KFtPBEhJpXnftocH6b4CHS8m+nmJFLSjNGpq4QWBKcucHeZnndOCx\n",
       "eUcSAPeNgllPQz/IYTHtHs3o3790pMvrJjrw2LzzKBCmigbv8rKamDM0pr3INSnxGvvGvixKKvB7\n",
       "857cN7qavLSnycsFpo5zZSWvHNJlj2kj8ohULvJOO21e5Q+zekEFvgKWZWrzNjiiQtndwBBrggmI\n",
       "uqSmoDmrnHdLg7w5jirPfSpC+fHaZO1wvu9jtUQLfAUs+7/+qPc3OLFCkYKcIXMULYjmiudXx+Sp\n",
       "LtNJ9kuptHbZa5Apvnecb9FE4A5gx7wNDnDfaf7hxOLLJomoqw5fondKav65KfsMaMg1afuULb+C\n",
       "+ZXe/80rEfgK2Cv3DQ5w36kPbfWgy8vqw59po0320Emlf8k2CbdcRjglWd4rYDFvY2+Eg+VNbQlo\n",
       "x3Mxc8jrkue72t35M6sODwdjHfUpU7dUfGq7Lqn78asuwBfAbf+XqdmPcIB7ocaWziTVkZRYtISY\n",
       "Tzqap9t8tbg9J1Stf0qMUgwrj1Hwg/JziMRE2QHs9l4IB+WrxEPoY6SJRyBbl9XBm1hBqT15zcLM\n",
       "2nTyerlW/kNeofJboa2/4rEc3gCyjoIRDnAHWgXEWikqP1ZNrGDXcIrzVOrwqOHUd+mGnVR6QwBI\n",
       "1W/MT/LeAPZ6f4QD3IEGx6q8cUBnx57m9/1k+OaN1uN+EsaiSguEfHkDuPS7FcAB7i2KXVPw57hN\n",
       "STZrQM/JJT4wL3R6F4jU3He4Vf7jeeFqXoSD5gXkA0F6niv6POVsKBU3cSjNsCPrzamQiXVyRMMv\n",
       "BiB1O0PA5Rr8NY6joCR5nT3T8Zt5v9u7lO8bMkXVfFZl+SAJbd7vTO41zqOByscPlZrQ+IHvOWYQ\n",
       "Y8PvV+Evv+fcz1bA/RYlc5bBE4emz7P+AA+mOShrBk6YAAAAAElFTkSuQmCC\n",
       "\" style=\"display:inline;vertical-align:middle;\" /></a><br>"
      ],
      "text/plain": [
       "notInSingletonEquiv: forall_{x, y} ((x not-in {y}) = (x != y))"
      ]
     },
     "execution_count": 8,
     "metadata": {},
     "output_type": "execute_result"
    }
   ],
   "source": [
    "notInSingletonEquiv = Forall((x, y), Equals(NotInSet(x, Set(y)), NotEquals(x, y)))"
   ]
  },
  {
   "cell_type": "code",
   "execution_count": 9,
   "metadata": {},
   "outputs": [
    {
     "data": {
      "text/html": [
       "<strong id=\"inSingletonIsBool\"><a class=\"ProveItLink\" href=\"_proofs_/inSingletonIsBool.ipynb\">inSingletonIsBool</a>:</strong> <a class=\"ProveItLink\" href=\"__pv_it/a519a348f7e91b5acc99b6c4a14df2437a3a67850/expr.ipynb\"><img src=\"data:image/png;base64,iVBORw0KGgoAAAANSUhEUgAAALkAAAAWBAMAAABuySBUAAAAMFBMVEX///8QEBCIiIhmZma6urrM\n",
       "zMxUVFQiIiJERETc3Nzu7u6qqqp2dnaYmJgyMjIAAAAcRTyBAAAAAXRSTlMAQObYZgAAAsZJREFU\n",
       "SMetVU1oE0EU/rrdTTabTZqDpTcJKZTSi6VQT1KrgsGCNkXo1VIU2kuJooggEjzY5LaeLIq4IlQp\n",
       "UgI9iJ5ielDqwYUKIrQa8OcgKEEUFEF9M5NJM+lEQ/HBt/tm5s03b968eQPsRNYD8T8+gJ3KzRq2\n",
       "y3JJagcyQNTTz39IqDBlUzPo5AQ08qaudbLps+qocTr/q+ckEKJVn7GOjxqKuCegkSd1zc2yrTTP\n",
       "tJL37gRwaOUFakZ0Lq7X8G92N6kO22ZgZIiyTAv5NFzUUFyooS6x+fOXtOxOQjUg9miR2G9T19rS\n",
       "0jUNeSQrUBfrst/Cd7xTDYjdHSP2+CjwPZ+/qGE3BgWc1OzBMk8UvzEyTm8SV3243O1VKAbEnp6k\n",
       "ZHJp+imgoGG3A4H7eJnk+23IjDmaaSawh3ZeZe3XUAxss+f3LhYpOtZD/HC3SbgosIbn/hHWsXXy\n",
       "0W7gBuVinvS3rOMBFAMWmU26ElEKWxhGoGHvGBXwOQlFdfdnEq7NU576HUl8oUboDH1OqAbEjtxR\n",
       "6qGNuUEYf2EHJ1Gy1iTfMe5b3+j3AZI90ug7ciHBHqlMUk95uI/OwexD2FcjA05CkthaeYYwAiMh\n",
       "455WDRj7VJzYWEIV6NYa/lyYHHW7/ImmU31kVMFr1ZB6m67AnkItZ8SpDim+b4hTxQotYeET67+e\n",
       "Rr/M5EEO86ddjQRyMw3sezEeyHzfB8UgbpXcVVq6kxW7Ln6Rf0DYTcvgZjmc6YFeUeOcmbFG9sXU\n",
       "fk+yv1cMZBVDPMPSkkXaqlps5Cy6W1YC86laCUbqlSDbbCDkrlRuuRUXCz7OmdU2qthjysSK87VV\n",
       "FZNSlsrii/IaJoo43F+/WbYnoK/v4cBOyvq+rCdvvqRFx7ODNl6PeAlmapi/TexGFPTsTa5FvVDp\n",
       "WDsvH1Ya39VYi5fvldqMwdwo4X/KH30jyrgqt0/lAAAAAElFTkSuQmCC\n",
       "\" style=\"display:inline;vertical-align:middle;\" /></a><br>"
      ],
      "text/plain": [
       "inSingletonIsBool: forall_{x, y} ((x in {y}) in BOOLEANS)"
      ]
     },
     "execution_count": 9,
     "metadata": {},
     "output_type": "execute_result"
    }
   ],
   "source": [
    "inSingletonIsBool = Forall((x, y), InSet(InSet(x, Set(y)), Booleans))"
   ]
  },
  {
   "cell_type": "code",
   "execution_count": 10,
   "metadata": {},
   "outputs": [
    {
     "data": {
      "text/html": [
       "<strong id=\"inSingletonEvalTrue\"><a class=\"ProveItLink\" href=\"_proofs_/inSingletonEvalTrue.ipynb\">inSingletonEvalTrue</a>:</strong> <a class=\"ProveItLink\" href=\"__pv_it/a80ef282132cddf590a2ff3f36ad0381955385d70/expr.ipynb\"><img src=\"data:image/png;base64,iVBORw0KGgoAAAANSUhEUgAAAO8AAAAXBAMAAAARnwX+AAAAMFBMVEX///8QEBCIiIhmZma6urrM\n",
       "zMxUVFQiIiJERETc3Nzu7u6qqqp2dnaYmJgyMjIAAAAcRTyBAAAAAXRSTlMAQObYZgAAAsdJREFU\n",
       "SMe1lj9oFEEUxj+Tvexlb/dyhWnlSOAIIuQQoo3GiGBA0CQItoooxOYIQU2hiFiYSyGuICQo4pji\n",
       "lBRymMpujYUSQRa0ERQXhICCEkTBWDlvZv8mOxdWkgfvdu59w/x2Zt68WWBL7Z0rnyd3Y+ut05We\n",
       "Yk+doHV4FHiuHIIUjxqfsoCf+J5in8NWOx+3w16v758iuyyUNxT4lgX81fcUexW2zAnA8FK6PKMf\n",
       "UuZo8a5n4FpV6ZuDsaQCk1JkvFczA1i3pcdeZXrqWir4kRLMFWt5YWE2y0rP+h5a7gZTzLg4pAKT\n",
       "8qdev5oF3Ov7fOXunrJIZRZfaqO3jDsMZonoVRWYlPPAzAZ5SA2+Jd1wrEldZM+FSKvxIbUS+vlC\n",
       "rtIeCP3tD7IvCTApR9Kyr0W2XZFuMvOvZif7FrqB+/wg1XmbQIUJ1YxJ0dHmZgHvlG4gLzvldtGE\n",
       "RGuavwjbUcZP/qdjkgdWVWBSTFfHf4CBrrIsZFFfjc8YIyz3mz9WsBm40ztFB2ugwoucVoHOIrAM\n",
       "iiEDIVxq4LSvlaJRx7kPoq3k77E2Ee3xSgIslJlzQBur6TyhzC42Fs1YBMfr3NxQCJOrwPp5Bwrs\n",
       "TRaQm8ifgcxqy1PNWCiLnJ7Dd/p/bxh9EdgPJgTgpfSR5m08kBWlmQDvw4jrn+N2RwUWityrNRE4\n",
       "gLPxPV4L+wcCMCy90TN/UCalMX4sDm70HLKDAjK6EXxcFhBSLCZ2O0eBi+iOgSlYow1yQyGtZGqv\n",
       "kyVzMKhcj5UZGioPTc/EHMMlbTUCi6BvgdD6knjBj5Fn/Gp1SSC4JKQ13i8tY6yJo31eBBZB3wIB\n",
       "ss7NKO9j3c2X/fs49VpEcC3GrWnYeTf1HIdC6w+BogOtZ0B8gfAzkrdV4HVKwe5wTqQXkFBo/emD\n",
       "xfg31wflSq9TLGgfnXRwKGy3Vbed8A/0398pfKI0bQAAAABJRU5ErkJggg==\n",
       "\" style=\"display:inline;vertical-align:middle;\" /></a><br>"
      ],
      "text/plain": [
       "inSingletonEvalTrue: forall_{x, y | x = y} ((x in {y}) = TRUE)"
      ]
     },
     "execution_count": 10,
     "metadata": {},
     "output_type": "execute_result"
    }
   ],
   "source": [
    "inSingletonEvalTrue = Forall((x, y), Equals(InSet(x, Set(y)), TRUE), conditions=[Equals(x, y)])"
   ]
  },
  {
   "cell_type": "code",
   "execution_count": 11,
   "metadata": {},
   "outputs": [
    {
     "data": {
      "text/html": [
       "<strong id=\"inSingletonEvalFalse\"><a class=\"ProveItLink\" href=\"_proofs_/inSingletonEvalFalse.ipynb\">inSingletonEvalFalse</a>:</strong> <a class=\"ProveItLink\" href=\"__pv_it/b162742f112e7d864af6126a465095809c23939d0/expr.ipynb\"><img src=\"data:image/png;base64,iVBORw0KGgoAAAANSUhEUgAAAO8AAAAXCAMAAADUb+j/AAAAOVBMVEX///8oKCgUFBQNDQ0QEBCI\n",
       "iIhmZma6urrMzMxUVFQiIiJERETc3Nzu7u6qqqp2dnaYmJgyMjIAAAArQGDrAAAAAXRSTlMAQObY\n",
       "ZgAAAt5JREFUWMPVWIm2oyAMZeaxhR3//2MHBJRYpNq+njPlnDYuucpNyIKE/Mcj8IDOJWeWfMMw\n",
       "ActLw0b/cE1QuUpn7k+iYOJuzfApulZjedG7y+Air/OFq4Sl2w5XjN/O48fWSjRYXhteTS7aeNWr\n",
       "rFsweYk1mxv9uTDE8jf4Es9u8y2Y5tbd0b89lMFyaBOt0ojX+Vp6n++KCd7mYdTHkpXCchRkepB4\n",
       "53xJFLf5Fsyi81D+U3wZx9IyBkYw3weWPadmGc+ahq46fnOr5/f5rhhYU7y+kEumFj3NdjogaZNh\n",
       "g2KkW7zjZAtFwacilK21HJJ22PE+doNP+K4Ywa/mu1lG4/I0fB2SPhnGL5YIM3+uK6XWuFKDdFXa\n",
       "+Dh1378Fk/9YeI+vgdNbVCBpu8nX6KWbc7qIrtktqdM85aXNG1Q5kst9vgXjQ+H8Dl9tr/Il/eQn\n",
       "lbC1UkSkxZBmWs8ioLm/wtdEIqFVKC4ZtBexfFXZIV+kSYQfIwbrmXSTbxYZzhR011Ixemy6hBrH\n",
       "L0z4Vow2UGyfqkLKEqo6wpNkWUmH/t00Yc3uP+kXBohBvnK25J6uAnE26zc0tD+Un0O879+Kcbw+\n",
       "Opk9boFsbDYH00O+SJMwd4LoC0eRYnFEL4etg3ITvhwyKhzrL/f3+TZMF0+LwbeBncXvrrnvA46I\n",
       "fuEVaYGxVFLx5sSCFva0VU4I3l7W9RvyCVOeOzZF6SoAYYLtI3p7UF7YVJ7wrZqQQubvnxw4YYC4\n",
       "3E8Kr2f9ZNsWdf3kC/3gEWOWFPo5ClPKzBZQMi2kYX7eNXEtOiLe2i/Qre2wi3h1v4CeeMBYCMKz\n",
       "3BBImiNKANNxyHfXxLXoiKg4g+Wt/a9K60azo6Mv7wfRB4RZnKf7Zk+uk/rr9sTxgHhnv0/K9w2R\n",
       "olfuRVm8YrrnmPzxA1LrGp/3G53KA+Kd7zm5bpx9vwov0J1i8otE8P55fxW6WvKA+O7Bv5/CP5Rh\n",
       "IqzNYY5uAAAAAElFTkSuQmCC\n",
       "\" style=\"display:inline;vertical-align:middle;\" /></a><br>"
      ],
      "text/plain": [
       "inSingletonEvalFalse: forall_{x, y | x != y} ((x in {y}) = FALSE)"
      ]
     },
     "execution_count": 11,
     "metadata": {},
     "output_type": "execute_result"
    }
   ],
   "source": [
    "inSingletonEvalFalse = Forall((x, y), Equals(InSet(x, Set(y)), FALSE), conditions=[NotEquals(x, y)])"
   ]
  },
  {
   "cell_type": "code",
   "execution_count": 12,
   "metadata": {},
   "outputs": [
    {
     "name": "stdout",
     "output_type": "stream",
     "text": [
      "Theorems may be imported from autogenerated _theorems_.py\n"
     ]
    }
   ],
   "source": [
    "%end theorems"
   ]
  },
  {
   "cell_type": "code",
   "execution_count": null,
   "metadata": {},
   "outputs": [],
   "source": []
  }
 ],
 "metadata": {
  "kernelspec": {
   "display_name": "Python 3",
   "language": "python",
   "name": "python3"
  }
 },
 "nbformat": 4,
 "nbformat_minor": 0
}
