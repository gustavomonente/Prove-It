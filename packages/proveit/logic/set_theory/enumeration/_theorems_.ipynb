{
 "cells": [
  {
   "cell_type": "markdown",
   "metadata": {},
   "source": [
    "Theorems for context <a href=\"_context_.ipynb\" class=\"ProveItLink\">proveit.logic.set_theory.enumeration</a>\n",
    "========"
   ]
  },
  {
   "cell_type": "code",
   "execution_count": null,
   "metadata": {},
   "outputs": [],
   "source": [
    "import proveit\n",
    "# Automation is not needed when building theorem expressions:\n",
    "proveit.defaults.automation = False # This will speed things up.\n",
    "from proveit._common_ import f, l, x, y\n",
    "from proveit.logic import Booleans, TRUE, FALSE, Or, And, Forall\n",
    "from proveit.logic import (Equals, NotEquals, InSet, NotInSet, ProperSubset, Set,\n",
    "                           SetEquiv, Subset, SubsetEq)\n",
    "from proveit.logic._common_ import (aIter1m, bIter1n, yIter1l, iterA1l, iterA1m,\n",
    "                                    iterB1m, iterC1m, iterC1n, iterD1n)\n",
    "from proveit.logic.set_theory._common_ import x_equals_any_y, x_notequals_all_y\n",
    "from proveit.number import Naturals, NaturalsPos\n",
    "%begin theorems"
   ]
  },
  {
   "cell_type": "code",
   "execution_count": null,
   "metadata": {},
   "outputs": [],
   "source": [
    "unfold = Forall(l, Forall((x, yIter1l), \n",
    "                          x_equals_any_y, \n",
    "                          conditions=[InSet(x, Set(yIter1l))]),\n",
    "                domain=Naturals)"
   ]
  },
  {
   "cell_type": "code",
   "execution_count": null,
   "metadata": {},
   "outputs": [],
   "source": [
    "fold = Forall(l, Forall((x, yIter1l), \n",
    "                          InSet(x, Set(yIter1l)), \n",
    "                          conditions=[x_equals_any_y]),\n",
    "                domain=Naturals)"
   ]
  },
  {
   "cell_type": "code",
   "execution_count": null,
   "metadata": {},
   "outputs": [],
   "source": [
    "nonmembershipEquiv = Forall(l, Forall((x, yIter1l), \n",
    "                                      Equals(NotInSet(x, Set(yIter1l)), \n",
    "                                             x_notequals_all_y)),\n",
    "                           domain=Naturals)"
   ]
  },
  {
   "cell_type": "code",
   "execution_count": null,
   "metadata": {},
   "outputs": [],
   "source": [
    "singletonDef = Forall((x, y), Equals(InSet(x, Set(y)), Equals(x, y)))"
   ]
  },
  {
   "cell_type": "code",
   "execution_count": null,
   "metadata": {},
   "outputs": [],
   "source": [
    "unfoldSingleton = Forall((x, y), Equals(x, y), conditions=[InSet(x, Set(y))])"
   ]
  },
  {
   "cell_type": "code",
   "execution_count": null,
   "metadata": {},
   "outputs": [],
   "source": [
    "foldSingleton = Forall((x, y), InSet(x, Set(y)), conditions=[Equals(x, y)])"
   ]
  },
  {
   "cell_type": "code",
   "execution_count": null,
   "metadata": {},
   "outputs": [],
   "source": [
    "notInSingletonEquiv = Forall((x, y), Equals(NotInSet(x, Set(y)), NotEquals(x, y)))"
   ]
  },
  {
   "cell_type": "code",
   "execution_count": null,
   "metadata": {},
   "outputs": [],
   "source": [
    "inSingletonIsBool = Forall((x, y), InSet(InSet(x, Set(y)), Booleans))"
   ]
  },
  {
   "cell_type": "code",
   "execution_count": null,
   "metadata": {},
   "outputs": [],
   "source": [
    "inSingletonEvalTrue = Forall((x, y), Equals(InSet(x, Set(y)), TRUE), conditions=[Equals(x, y)])"
   ]
  },
  {
   "cell_type": "code",
   "execution_count": null,
   "metadata": {},
   "outputs": [],
   "source": [
    "inSingletonEvalFalse = Forall((x, y), Equals(InSet(x, Set(y)), FALSE), conditions=[NotEquals(x, y)])"
   ]
  },
  {
   "cell_type": "markdown",
   "metadata": {},
   "source": [
    "## Theorems related to permutations of enumerated sets\n",
    "For example, the set {1, 2, 3} should be equivalent to the set {3, 2, 1}.<br>\n",
    "Here we adopt some of the terminology used in analogous theorems for disjunctions and conjunctions.<br>\n",
    "These theorems are generally not expected to be used directly but instead are intended to be implemented via Set methods such as permutationSimple() and permutationGeneral()."
   ]
  },
  {
   "cell_type": "code",
   "execution_count": null,
   "metadata": {},
   "outputs": [],
   "source": [
    "# permutation = Forall((a, b), SetEquiv(Set(a, b), Set(b, a)))"
   ]
  },
  {
   "cell_type": "markdown",
   "metadata": {},
   "source": [
    "For these permutation thms, we can use equals (=) instead of equivalence, because permutations of an enumerated Set are all actually the same set (even if expressed so they look like multisets). Thus {a, b} = {b, a}, of course, but we also have {a, b} = {a, b, a, b}."
   ]
  },
  {
   "cell_type": "code",
   "execution_count": null,
   "metadata": {},
   "outputs": [],
   "source": [
    "binaryPermutation = Forall((a, b), Equals(Set(a, b), Set(b, a)))"
   ]
  },
  {
   "cell_type": "code",
   "execution_count": null,
   "metadata": {},
   "outputs": [],
   "source": [
    "leftwardPermutation = Forall(\n",
    "    (l, m, n),\n",
    "    Forall((AA,BB,C,DD),\n",
    "           Equals(Set(iterA1l, iterB1m, C, iterD1n),\n",
    "                  Set(iterA1l, C, iterB1m, iterD1n))),\n",
    "    domain = Naturals)"
   ]
  },
  {
   "cell_type": "code",
   "execution_count": null,
   "metadata": {},
   "outputs": [],
   "source": [
    "rightwardPermutation = Forall(\n",
    "    (l, m, n),\n",
    "    Forall((AA,B,CC,DD),\n",
    "           Equals(Set(iterA1l, B, iterC1m, iterD1n),\n",
    "                  Set(iterA1l, iterC1m, B, iterD1n))),\n",
    "    domain = Naturals)"
   ]
  },
  {
   "cell_type": "markdown",
   "metadata": {},
   "source": [
    "## Theorems related to containment\n",
    "For example, the enumerated set {1, 2, 3} is clearly a proper subset of {1, 2, 3, 4}.<br>\n",
    "These theorems …."
   ]
  },
  {
   "cell_type": "code",
   "execution_count": null,
   "metadata": {},
   "outputs": [],
   "source": [
    "subsetEqOfSuperset = Forall((m, n),\n",
    "                             Forall((aa,bb),\n",
    "                                    SubsetEq(Set(aIter1m),\n",
    "                                             Set(aIter1m, bIter1n))),\n",
    "                             domain = Naturals)"
   ]
  },
  {
   "cell_type": "code",
   "execution_count": null,
   "metadata": {},
   "outputs": [],
   "source": [
    "# need something here about having at least one of the b_i be different from\n",
    "# all of the a_i. Another way to say this is that {b1, …, bn} is not a subset of\n",
    "# {a1, …, am}.\n",
    "properSubsetOfSuperset = Forall((m, n),\n",
    "                             Forall((aa,bb),\n",
    "                                    ProperSubset(Set(aIter1m),\n",
    "                                             Set(aIter1m, bIter1n))),\n",
    "                             domains = [Naturals, NaturalsPos])"
   ]
  },
  {
   "cell_type": "code",
   "execution_count": null,
   "metadata": {},
   "outputs": [],
   "source": [
    "%end theorems"
   ]
  },
  {
   "cell_type": "code",
   "execution_count": null,
   "metadata": {},
   "outputs": [],
   "source": []
  }
 ],
 "metadata": {
  "kernelspec": {
   "display_name": "Python 3",
   "language": "python",
   "name": "python3"
  }
 },
 "nbformat": 4,
 "nbformat_minor": 0
}
