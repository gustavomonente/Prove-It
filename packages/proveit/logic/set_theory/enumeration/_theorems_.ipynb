{
 "cells": [
  {
   "cell_type": "markdown",
   "metadata": {},
   "source": [
    "Theorems for context <a href=\"_context_.ipynb\" class=\"ProveItLink\">proveit.logic.set_theory.enumeration</a>\n",
    "========"
   ]
  },
  {
   "cell_type": "code",
   "execution_count": null,
   "metadata": {},
   "outputs": [],
   "source": [
    "import proveit\n",
    "# Automation is not needed when building theorem expressions:\n",
    "proveit.defaults.automation = False # This will speed things up.\n",
    "from proveit._common_ import a, b, c, d, i, j, k, m, n, x, y\n",
    "from proveit.logic import Booleans, TRUE, FALSE, Forall\n",
    "from proveit.logic import (Equals, NotEquals, InSet, NotInSet, ProperSubset,\n",
    "                           Set, ProperSubset, SubsetEq)\n",
    "from proveit.core_expr_types._common_ import (a_1_to_i, a_1_to_m, b_1_to_j, b_1_to_n,\n",
    "                                              c_1_to_j, c_1_to_k, c_1_to_n,\n",
    "                                              d_1_to_k, y_1_to_n)\n",
    "from proveit.logic.set_theory._common_ import x_equals_any_y, x_notequals_all_y\n",
    "from proveit.number import Naturals\n",
    "%begin theorems"
   ]
  },
  {
   "cell_type": "code",
   "execution_count": null,
   "metadata": {},
   "outputs": [],
   "source": [
    "unfold = Forall(n, Forall((x, y_1_to_n), \n",
    "                          x_equals_any_y, \n",
    "                          conditions=[InSet(x, Set(y_1_to_n))]),\n",
    "                domain=Naturals)"
   ]
  },
  {
   "cell_type": "code",
   "execution_count": null,
   "metadata": {},
   "outputs": [],
   "source": [
    "fold = Forall(n, Forall((x, y_1_to_n), \n",
    "                        InSet(x, Set(y_1_to_n)), \n",
    "                        conditions=[x_equals_any_y]),\n",
    "              domain=Naturals)"
   ]
  },
  {
   "cell_type": "code",
   "execution_count": null,
   "metadata": {},
   "outputs": [],
   "source": [
    "nonmembershipEquiv = Forall(n, Forall((x, y_1_to_n), \n",
    "                                      Equals(NotInSet(x, Set(y_1_to_n)), \n",
    "                                             x_notequals_all_y)),\n",
    "                           domain=Naturals)"
   ]
  },
  {
   "cell_type": "code",
   "execution_count": null,
   "metadata": {},
   "outputs": [],
   "source": [
    "nonmembershipUnfold = Forall(\n",
    "        n,\n",
    "        Forall((x, y_1_to_n), \n",
    "               x_notequals_all_y,\n",
    "               conditions=[NotInSet(x, Set(y_1_to_n))]),\n",
    "        domain=Naturals)"
   ]
  },
  {
   "cell_type": "code",
   "execution_count": null,
   "metadata": {},
   "outputs": [],
   "source": [
    "nonmembershipFold = Forall(\n",
    "        n,\n",
    "        Forall((x, y_1_to_n), \n",
    "               NotInSet(x, Set(y_1_to_n)), \n",
    "               conditions=[x_notequals_all_y]),\n",
    "        domain=Naturals)"
   ]
  },
  {
   "cell_type": "code",
   "execution_count": null,
   "metadata": {},
   "outputs": [],
   "source": [
    "singletonDef = Forall((x, y), Equals(InSet(x, Set(y)), Equals(x, y)))"
   ]
  },
  {
   "cell_type": "code",
   "execution_count": null,
   "metadata": {},
   "outputs": [],
   "source": [
    "unfoldSingleton = Forall((x, y), Equals(x, y), conditions=[InSet(x, Set(y))])"
   ]
  },
  {
   "cell_type": "code",
   "execution_count": null,
   "metadata": {},
   "outputs": [],
   "source": [
    "foldSingleton = Forall((x, y), InSet(x, Set(y)), conditions=[Equals(x, y)])"
   ]
  },
  {
   "cell_type": "code",
   "execution_count": null,
   "metadata": {},
   "outputs": [],
   "source": [
    "nonmembershipUnfoldSingleton = Forall(\n",
    "        (x, y),\n",
    "        NotEquals(x, y),\n",
    "        conditions = [NotInSet(x, Set(y))])"
   ]
  },
  {
   "cell_type": "code",
   "execution_count": null,
   "metadata": {},
   "outputs": [],
   "source": [
    "nonmembershipFoldSingleton = Forall(\n",
    "        (x, y),\n",
    "        NotInSet(x, Set(y)),\n",
    "        conditions = [NotEquals(x, y)])"
   ]
  },
  {
   "cell_type": "code",
   "execution_count": null,
   "metadata": {},
   "outputs": [],
   "source": [
    "notInSingletonEquiv = Forall((x, y), Equals(NotInSet(x, Set(y)), NotEquals(x, y)))"
   ]
  },
  {
   "cell_type": "code",
   "execution_count": null,
   "metadata": {},
   "outputs": [],
   "source": [
    "inEnumeratedSet = Forall(\n",
    "        (m, n),\n",
    "        Forall( (a_1_to_m, b, c_1_to_n),\n",
    "                InSet(b, Set(a_1_to_m, b, c_1_to_n))),\n",
    "        domain=Naturals)"
   ]
  },
  {
   "cell_type": "code",
   "execution_count": null,
   "metadata": {},
   "outputs": [],
   "source": [
    "inSingletonIsBool = Forall((x, y), InSet(InSet(x, Set(y)), Booleans))"
   ]
  },
  {
   "cell_type": "code",
   "execution_count": null,
   "metadata": {},
   "outputs": [],
   "source": [
    "notInSingletonIsBool = Forall((x, y), InSet(NotInSet(x, Set(y)), Booleans))"
   ]
  },
  {
   "cell_type": "code",
   "execution_count": null,
   "metadata": {},
   "outputs": [],
   "source": [
    "inEnumSetIsBool = Forall(\n",
    "        n,\n",
    "        Forall((x, y_1_to_n), \n",
    "               InSet(InSet(x, Set(y_1_to_n)), Booleans)),\n",
    "        domain=Naturals)"
   ]
  },
  {
   "cell_type": "code",
   "execution_count": null,
   "metadata": {},
   "outputs": [],
   "source": [
    "notInEnumSetIsBool = Forall(\n",
    "        n,\n",
    "        Forall((x, y_1_to_n), \n",
    "               InSet(NotInSet(x, Set(y_1_to_n)), Booleans)),\n",
    "        domain=Naturals)"
   ]
  },
  {
   "cell_type": "code",
   "execution_count": null,
   "metadata": {},
   "outputs": [],
   "source": [
    "inSingletonEvalTrue = Forall(\n",
    "    (x, y),\n",
    "    Equals(InSet(x, Set(y)), TRUE),\n",
    "    conditions=[Equals(x, y)])"
   ]
  },
  {
   "cell_type": "code",
   "execution_count": null,
   "metadata": {},
   "outputs": [],
   "source": [
    "inSingletonEvalFalse = Forall(\n",
    "    (x, y),\n",
    "    Equals(InSet(x, Set(y)), FALSE),\n",
    "    conditions=[NotEquals(x, y)])"
   ]
  },
  {
   "cell_type": "markdown",
   "metadata": {},
   "source": [
    "## Theorems related to permutations of enumerated sets\n",
    "For example, the set {1, 2, 3} should be equivalent to the set {3, 2, 1}.<br>\n",
    "Here we adopt some of the terminology used in analogous theorems for disjunctions and conjunctions.<br>\n",
    "These theorems are generally not expected to be used directly but instead are intended to be implemented via Set methods such as permutationSimple() and permutationGeneral()."
   ]
  },
  {
   "cell_type": "markdown",
   "metadata": {},
   "source": [
    "For these permutation thms, we can use equals (=) instead of equivalence, because permutations of an enumerated Set are all actually the same set (even if expressed so they look like multisets). Thus {a, b} = {b, a}, of course, but we also have {a, b} = {a, b, a, b}."
   ]
  },
  {
   "cell_type": "code",
   "execution_count": null,
   "metadata": {},
   "outputs": [],
   "source": [
    "binaryPermutation = Forall((a, b), Equals(Set(a, b), Set(b, a)))"
   ]
  },
  {
   "cell_type": "code",
   "execution_count": null,
   "metadata": {},
   "outputs": [],
   "source": [
    "leftwardPermutation = Forall(\n",
    "    (i, j, k),\n",
    "    Forall((a_1_to_i, b_1_to_j, c, d_1_to_k),\n",
    "           Equals(Set(a_1_to_i, b_1_to_j, c, d_1_to_k),\n",
    "                  Set(a_1_to_i, c, b_1_to_j, d_1_to_k))),\n",
    "    domain = Naturals)"
   ]
  },
  {
   "cell_type": "code",
   "execution_count": null,
   "metadata": {},
   "outputs": [],
   "source": [
    "rightwardPermutation = Forall(\n",
    "    (i, j, k),\n",
    "    Forall((a_1_to_i, b, c_1_to_j, d_1_to_k),\n",
    "           Equals(Set(a_1_to_i, b, c_1_to_j, d_1_to_k),\n",
    "                  Set(a_1_to_i, c_1_to_j, b, d_1_to_k))),\n",
    "    domain = Naturals)"
   ]
  },
  {
   "cell_type": "markdown",
   "metadata": {},
   "source": [
    "## Theorems related to reductions of enumerated sets\n",
    "For example, the set {1, 2, 3, 3} should be equal to the “reduced” version {1, 2, 3}, and more generally, any enumerated set written with multiplicities should be reduceable to a set where any or all of the multiplicites are reduced to single occurences.<br>"
   ]
  },
  {
   "cell_type": "code",
   "execution_count": null,
   "metadata": {},
   "outputs": [],
   "source": [
    "reduction_right = Forall(\n",
    "    (i, j, k),\n",
    "    Forall((a_1_to_i, x, b_1_to_j, c_1_to_k),\n",
    "           Equals(Set(a_1_to_i, x, b_1_to_j, x, c_1_to_k),\n",
    "                  Set(a_1_to_i, x, b_1_to_j, c_1_to_k))),\n",
    "    \n",
    "    domain = Naturals)"
   ]
  },
  {
   "cell_type": "code",
   "execution_count": null,
   "metadata": {},
   "outputs": [],
   "source": [
    "reduction_left = Forall(\n",
    "    (i, j, k),\n",
    "    Forall((a_1_to_i, x, b_1_to_j, c_1_to_k),\n",
    "           Equals(Set(a_1_to_i, x, b_1_to_j, x, c_1_to_k),\n",
    "                  Set(a_1_to_i, b_1_to_j, x, c_1_to_k))),\n",
    "    \n",
    "    domain = Naturals)"
   ]
  },
  {
   "cell_type": "markdown",
   "metadata": {},
   "source": [
    "## Theorems related to equality of enumerated sets\n",
    "For example, an enumerated set such as $\\{a, b, c\\}$ should be equal to the enumerated set $\\{a, d, c\\}$ when $b=c$."
   ]
  },
  {
   "cell_type": "code",
   "execution_count": null,
   "metadata": {},
   "outputs": [],
   "source": [
    "equalElementEquality = Forall(\n",
    "        (m, n),\n",
    "        Forall((a_1_to_m, b, c_1_to_n, d),\n",
    "               Equals(Set(a_1_to_m, b, c_1_to_n), Set(a_1_to_m, d, c_1_to_n)),\n",
    "               conditions=[Equals(b, d)]),\n",
    "        domain = Naturals)"
   ]
  },
  {
   "cell_type": "markdown",
   "metadata": {},
   "source": [
    "## Theorems related to containment\n",
    "For example, any enumerated set is an improper subset of itself, and the enumerated set {1, 2, 3} is clearly a proper subset of {1, 2, 3, 4}. The SubsetEq version is easier to express than the proper subset version."
   ]
  },
  {
   "cell_type": "code",
   "execution_count": null,
   "metadata": {},
   "outputs": [],
   "source": [
    "subsetEqOfSuperset = Forall(\n",
    "        (m, n),\n",
    "        Forall((a_1_to_m, b_1_to_n),\n",
    "               SubsetEq(Set(a_1_to_m), Set(a_1_to_m, b_1_to_n))),\n",
    "        domain = Naturals)"
   ]
  },
  {
   "cell_type": "code",
   "execution_count": null,
   "metadata": {},
   "outputs": [],
   "source": [
    "properSubsetOfSuperset = Forall(\n",
    "        (m, n),\n",
    "        Forall((a_1_to_m, b, c_1_to_n),\n",
    "               ProperSubset(Set(a_1_to_m), Set(a_1_to_m, b, c_1_to_n)),\n",
    "               conditions=[NotInSet(b, Set(a_1_to_m))]),\n",
    "        domain = Naturals)"
   ]
  },
  {
   "cell_type": "code",
   "execution_count": null,
   "metadata": {},
   "outputs": [],
   "source": [
    "%end theorems"
   ]
  },
  {
   "cell_type": "code",
   "execution_count": null,
   "metadata": {},
   "outputs": [],
   "source": []
  }
 ],
 "metadata": {
  "kernelspec": {
   "display_name": "Python 3",
   "language": "python",
   "name": "python3"
  }
 },
 "nbformat": 4,
 "nbformat_minor": 0
}
