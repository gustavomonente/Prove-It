{
 "cells": [
  {
   "cell_type": "markdown",
   "metadata": {},
   "source": [
    "Theorems for context <a href=\"_context_.ipynb\" class=\"ProveItLink\">proveit.logic.set_theory.enumeration</a>\n",
    "========"
   ]
  },
  {
   "cell_type": "code",
   "execution_count": null,
   "metadata": {},
   "outputs": [],
   "source": [
    "import proveit\n",
    "# Automation is not needed when building theorem expressions:\n",
    "proveit.defaults.automation = False # This will speed things up.\n",
    "from proveit import varIter\n",
    "from proveit._common_ import a, b, d, f, l, m, n, x, y, B, C\n",
    "from proveit._common_ import aa, bb, cc, AA, BB, CC, DD\n",
    "from proveit.logic import Booleans, TRUE, FALSE, Or, And, Forall\n",
    "from proveit.logic import (Equals, NotEquals, InSet, NotInSet, ProperSubset, Set,\n",
    "                           SetEquiv, Subset, SubsetEq)\n",
    "from proveit.logic._common_ import (aIter1m, bIter1n, cIter1n, yIter1l, iterA1l,\n",
    "                                    iterA1m, iterB1m, iterC1m, iterC1n, iterD1n)\n",
    "from proveit._common_ import f, n, x, y\n",
    "from proveit.logic import Booleans, TRUE, FALSE, Or, And, Forall\n",
    "from proveit.logic import Equals, NotEquals, InSet, NotInSet, Set\n",
    "from proveit.core_expr_types._common_ import y_1_to_n\n",
    "from proveit.logic.set_theory._common_ import x_equals_any_y, x_notequals_all_y\n",
    "from proveit.number import one, Naturals, NaturalsPos\n",
    "%begin theorems"
   ]
  },
  {
   "cell_type": "code",
   "execution_count": null,
   "metadata": {},
   "outputs": [],
   "source": [
    "unfold = Forall(n, Forall((x, y_1_to_n), \n",
    "                          x_equals_any_y, \n",
    "                          conditions=[InSet(x, Set(y_1_to_n))]),\n",
    "                domain=Naturals)"
   ]
  },
  {
   "cell_type": "code",
   "execution_count": null,
   "metadata": {},
   "outputs": [],
   "source": [
    "fold = Forall(n, Forall((x, y_1_to_n), \n",
    "                        InSet(x, Set(y_1_to_n)), \n",
    "                        conditions=[x_equals_any_y]),\n",
    "              domain=Naturals)"
   ]
  },
  {
   "cell_type": "code",
   "execution_count": null,
   "metadata": {},
   "outputs": [],
   "source": [
    "nonmembershipEquiv = Forall(n, Forall((x, y_1_to_n), \n",
    "                                      Equals(NotInSet(x, Set(y_1_to_n)), \n",
    "                                             x_notequals_all_y)),\n",
    "                           domain=Naturals)"
   ]
  },
  {
   "cell_type": "code",
   "execution_count": null,
   "metadata": {},
   "outputs": [],
   "source": [
    "nonmembershipUnfold = Forall(\n",
    "        l,\n",
    "        Forall((x, yIter1l), \n",
    "               x_notequals_all_y,\n",
    "               conditions=[NotInSet(x, Set(yIter1l))]),\n",
    "        domain=Naturals)"
   ]
  },
  {
   "cell_type": "code",
   "execution_count": null,
   "metadata": {},
   "outputs": [],
   "source": [
    "nonmembershipFold = Forall(\n",
    "        l,\n",
    "        Forall((x, yIter1l), \n",
    "               NotInSet(x, Set(yIter1l)), \n",
    "               conditions=[x_notequals_all_y]),\n",
    "        domain=Naturals)"
   ]
  },
  {
   "cell_type": "code",
   "execution_count": null,
   "metadata": {},
   "outputs": [],
   "source": [
    "singletonDef = Forall((x, y), Equals(InSet(x, Set(y)), Equals(x, y)))"
   ]
  },
  {
   "cell_type": "code",
   "execution_count": null,
   "metadata": {},
   "outputs": [],
   "source": [
    "unfoldSingleton = Forall((x, y), Equals(x, y), conditions=[InSet(x, Set(y))])"
   ]
  },
  {
   "cell_type": "code",
   "execution_count": null,
   "metadata": {},
   "outputs": [],
   "source": [
    "foldSingleton = Forall((x, y), InSet(x, Set(y)), conditions=[Equals(x, y)])"
   ]
  },
  {
   "cell_type": "code",
   "execution_count": null,
   "metadata": {},
   "outputs": [],
   "source": [
    "nonmembershipUnfoldSingleton = Forall(\n",
    "        (x, y),\n",
    "        NotEquals(x, y),\n",
    "        conditions = [NotInSet(x, Set(y))])"
   ]
  },
  {
   "cell_type": "code",
   "execution_count": null,
   "metadata": {},
   "outputs": [],
   "source": [
    "nonmembershipFoldSingleton = Forall(\n",
    "        (x, y),\n",
    "        NotInSet(x, Set(y)),\n",
    "        conditions = [NotEquals(x, y)])"
   ]
  },
  {
   "cell_type": "code",
   "execution_count": null,
   "metadata": {},
   "outputs": [],
   "source": [
    "notInSingletonEquiv = Forall((x, y), Equals(NotInSet(x, Set(y)), NotEquals(x, y)))"
   ]
  },
  {
   "cell_type": "code",
   "execution_count": null,
   "metadata": {},
   "outputs": [],
   "source": [
    "inEnumeratedSet = Forall(\n",
    "        (m, n),\n",
    "        Forall( (AA, B, CC),\n",
    "                InSet(B, Set(iterA1m, B, iterC1n))),\n",
    "        domain=Naturals)"
   ]
  },
  {
   "cell_type": "code",
   "execution_count": null,
   "metadata": {},
   "outputs": [],
   "source": [
    "inSingletonIsBool = Forall((x, y), InSet(InSet(x, Set(y)), Booleans))"
   ]
  },
  {
   "cell_type": "code",
   "execution_count": null,
   "metadata": {},
   "outputs": [],
   "source": [
    "notInSingletonIsBool = Forall((x, y), InSet(NotInSet(x, Set(y)), Booleans))"
   ]
  },
  {
   "cell_type": "code",
   "execution_count": null,
   "metadata": {},
   "outputs": [],
   "source": [
    "inEnumSetIsBool = Forall(\n",
    "        l,\n",
    "        Forall((x, yIter1l), \n",
    "               InSet(InSet(x, Set(yIter1l)), Booleans)),\n",
    "        domain=Naturals)"
   ]
  },
  {
   "cell_type": "code",
   "execution_count": null,
   "metadata": {},
   "outputs": [],
   "source": [
    "notInEnumSetIsBool = Forall(\n",
    "        l,\n",
    "        Forall((x, yIter1l), \n",
    "               InSet(NotInSet(x, Set(yIter1l)), Booleans)),\n",
    "        domain=Naturals)"
   ]
  },
  {
   "cell_type": "code",
   "execution_count": null,
   "metadata": {},
   "outputs": [],
   "source": [
    "inSingletonEvalTrue = Forall(\n",
    "    (x, y),\n",
    "    Equals(InSet(x, Set(y)), TRUE),\n",
    "    conditions=[Equals(x, y)])"
   ]
  },
  {
   "cell_type": "code",
   "execution_count": null,
   "metadata": {},
   "outputs": [],
   "source": [
    "inSingletonEvalFalse = Forall(\n",
    "    (x, y),\n",
    "    Equals(InSet(x, Set(y)), FALSE),\n",
    "    conditions=[NotEquals(x, y)])"
   ]
  },
  {
   "cell_type": "markdown",
   "metadata": {},
   "source": [
    "## Theorems related to permutations of enumerated sets\n",
    "For example, the set {1, 2, 3} should be equivalent to the set {3, 2, 1}.<br>\n",
    "Here we adopt some of the terminology used in analogous theorems for disjunctions and conjunctions.<br>\n",
    "These theorems are generally not expected to be used directly but instead are intended to be implemented via Set methods such as permutationSimple() and permutationGeneral()."
   ]
  },
  {
   "cell_type": "code",
   "execution_count": null,
   "metadata": {},
   "outputs": [],
   "source": [
    "# permutation = Forall((a, b), SetEquiv(Set(a, b), Set(b, a)))"
   ]
  },
  {
   "cell_type": "markdown",
   "metadata": {},
   "source": [
    "For these permutation thms, we can use equals (=) instead of equivalence, because permutations of an enumerated Set are all actually the same set (even if expressed so they look like multisets). Thus {a, b} = {b, a}, of course, but we also have {a, b} = {a, b, a, b}."
   ]
  },
  {
   "cell_type": "code",
   "execution_count": null,
   "metadata": {},
   "outputs": [],
   "source": [
    "binaryPermutation = Forall((a, b), Equals(Set(a, b), Set(b, a)))"
   ]
  },
  {
   "cell_type": "code",
   "execution_count": null,
   "metadata": {},
   "outputs": [],
   "source": [
    "leftwardPermutation = Forall(\n",
    "    (l, m, n),\n",
    "    Forall((AA,BB,C,DD),\n",
    "           Equals(Set(iterA1l, iterB1m, C, iterD1n),\n",
    "                  Set(iterA1l, C, iterB1m, iterD1n))),\n",
    "    domain = Naturals)"
   ]
  },
  {
   "cell_type": "code",
   "execution_count": null,
   "metadata": {},
   "outputs": [],
   "source": [
    "rightwardPermutation = Forall(\n",
    "    (l, m, n),\n",
    "    Forall((AA,B,CC,DD),\n",
    "           Equals(Set(iterA1l, B, iterC1m, iterD1n),\n",
    "                  Set(iterA1l, iterC1m, B, iterD1n))),\n",
    "    domain = Naturals)"
   ]
  },
  {
   "cell_type": "markdown",
   "metadata": {},
   "source": [
    "## Theorems related to reductions of enumerated sets\n",
    "For example, the set {1, 2, 3, 3} should be equal to the “reduced” version {1, 2, 3}, and more generally, any enumerated set written with multiplicities should be reduceable to a set where any or all of the multiplicites are reduced to single occurences.<br>"
   ]
  },
  {
   "cell_type": "code",
   "execution_count": null,
   "metadata": {},
   "outputs": [],
   "source": [
    "aIter_1_l = varIter(aa, one, l)\n",
    "bIter_1_m = varIter(bb, one, m)\n",
    "cIter_1_n = varIter(cc, one, n)\n",
    "reduction_right = Forall(\n",
    "    (l, m, n),\n",
    "    Forall((aa, x, bb, cc),\n",
    "           Equals(Set(aIter_1_l, x, bIter_1_m, x, cIter_1_n),\n",
    "                  Set(aIter_1_l, x, bIter_1_m, cIter_1_n))),\n",
    "    \n",
    "    domain = Naturals)"
   ]
  },
  {
   "cell_type": "code",
   "execution_count": null,
   "metadata": {},
   "outputs": [],
   "source": [
    "aIter_1_l = varIter(aa, one, l)\n",
    "bIter_1_m = varIter(bb, one, m)\n",
    "cIter_1_n = varIter(cc, one, n)\n",
    "reduction_left = Forall(\n",
    "    (l, m, n),\n",
    "    Forall((aa, x, bb, cc),\n",
    "           Equals(Set(aIter_1_l, x, bIter_1_m, x, cIter_1_n),\n",
    "                  Set(aIter_1_l, bIter_1_m, x, cIter_1_n))),\n",
    "    \n",
    "    domain = Naturals)"
   ]
  },
  {
   "cell_type": "markdown",
   "metadata": {},
   "source": [
    "## Theorems related to equality of enumerated sets\n",
    "For example, an enumerated set such as $\\{a, b, c\\}$ should be equal to the enumerated set $\\{a, d, c\\}$ when $b=c$."
   ]
  },
  {
   "cell_type": "code",
   "execution_count": null,
   "metadata": {},
   "outputs": [],
   "source": [
    "equalElementEquality = Forall(\n",
    "        (m, n),\n",
    "        Forall((aa,b,cc, d),\n",
    "               Equals(Set(aIter1m, b, cIter1n), Set(aIter1m, d, cIter1n)),\n",
    "               conditions=[Equals(b, d)]),\n",
    "        domain = Naturals)"
   ]
  },
  {
   "cell_type": "markdown",
   "metadata": {},
   "source": [
    "## Theorems related to containment\n",
    "For example, any enumerated set is an improper subset of itself, and the enumerated set {1, 2, 3} is clearly a proper subset of {1, 2, 3, 4}. The SubsetEq version is easier to express than the proper subset version."
   ]
  },
  {
   "cell_type": "code",
   "execution_count": null,
   "metadata": {},
   "outputs": [],
   "source": [
    "subsetEqOfSuperset = Forall(\n",
    "        (m, n),\n",
    "        Forall((aa,bb),\n",
    "               SubsetEq(Set(aIter1m),Set(aIter1m, bIter1n))),\n",
    "        domain = Naturals)"
   ]
  },
  {
   "cell_type": "code",
   "execution_count": null,
   "metadata": {},
   "outputs": [],
   "source": [
    "properSubsetOfSuperset = Forall(\n",
    "        (m, n),\n",
    "        Forall((aa,b,cc),\n",
    "               ProperSubset(Set(aIter1m), Set(aIter1m, b, cIter1n)),\n",
    "               conditions=[NotInSet(b, Set(aIter1m))]),\n",
    "        domain = Naturals)"
   ]
  },
  {
   "cell_type": "code",
   "execution_count": null,
   "metadata": {},
   "outputs": [],
   "source": [
    "%end theorems"
   ]
  },
  {
   "cell_type": "code",
   "execution_count": null,
   "metadata": {},
   "outputs": [],
   "source": []
  }
 ],
 "metadata": {
  "kernelspec": {
   "display_name": "Python 3",
   "language": "python",
   "name": "python3"
  }
 },
 "nbformat": 4,
 "nbformat_minor": 0
}
