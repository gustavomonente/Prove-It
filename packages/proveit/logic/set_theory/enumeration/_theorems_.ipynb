{
 "cells": [
  {
   "cell_type": "markdown",
   "metadata": {},
   "source": [
    "Theorems for context <a href=\"_context_.ipynb\" class=\"ProveItLink\">proveit.logic.set_theory.enumeration</a>\n",
    "========"
   ]
  },
  {
   "cell_type": "code",
   "execution_count": null,
   "metadata": {},
   "outputs": [],
   "source": [
    "import proveit\n",
    "# Automation is not needed when building theorem expressions:\n",
    "proveit.defaults.automation = False # This will speed things up.\n",
    "from proveit._common_ import f, l, x, y\n",
    "from proveit.logic import Booleans, TRUE, FALSE, Or, And, Forall\n",
    "from proveit.logic import Equals, NotEquals, InSet, NotInSet, Set, SetEquiv\n",
    "from proveit.logic._common_ import yIter1l, iterA1l, iterA1m, iterB1m, iterC1m, iterC1n, iterD1n\n",
    "from proveit.logic.set_theory._common_ import x_equals_any_y, x_notequals_all_y\n",
    "from proveit.number import Naturals\n",
    "%begin theorems"
   ]
  },
  {
   "cell_type": "code",
   "execution_count": null,
   "metadata": {},
   "outputs": [],
   "source": [
    "unfold = Forall(l, Forall((x, yIter1l), \n",
    "                          x_equals_any_y, \n",
    "                          conditions=[InSet(x, Set(yIter1l))]),\n",
    "                domain=Naturals)"
   ]
  },
  {
   "cell_type": "code",
   "execution_count": null,
   "metadata": {},
   "outputs": [],
   "source": [
    "fold = Forall(l, Forall((x, yIter1l), \n",
    "                          InSet(x, Set(yIter1l)), \n",
    "                          conditions=[x_equals_any_y]),\n",
    "                domain=Naturals)"
   ]
  },
  {
   "cell_type": "code",
   "execution_count": null,
   "metadata": {},
   "outputs": [],
   "source": [
    "nonmembershipEquiv = Forall(l, Forall((x, yIter1l), \n",
    "                                      Equals(NotInSet(x, Set(yIter1l)), \n",
    "                                             x_notequals_all_y)),\n",
    "                           domain=Naturals)"
   ]
  },
  {
   "cell_type": "code",
   "execution_count": null,
   "metadata": {},
   "outputs": [],
   "source": [
    "singletonDef = Forall((x, y), Equals(InSet(x, Set(y)), Equals(x, y)))"
   ]
  },
  {
   "cell_type": "code",
   "execution_count": null,
   "metadata": {},
   "outputs": [],
   "source": [
    "unfoldSingleton = Forall((x, y), Equals(x, y), conditions=[InSet(x, Set(y))])"
   ]
  },
  {
   "cell_type": "code",
   "execution_count": null,
   "metadata": {},
   "outputs": [],
   "source": [
    "foldSingleton = Forall((x, y), InSet(x, Set(y)), conditions=[Equals(x, y)])"
   ]
  },
  {
   "cell_type": "code",
   "execution_count": null,
   "metadata": {},
   "outputs": [],
   "source": [
    "notInSingletonEquiv = Forall((x, y), Equals(NotInSet(x, Set(y)), NotEquals(x, y)))"
   ]
  },
  {
   "cell_type": "code",
   "execution_count": null,
   "metadata": {},
   "outputs": [],
   "source": [
    "inSingletonIsBool = Forall((x, y), InSet(InSet(x, Set(y)), Booleans))"
   ]
  },
  {
   "cell_type": "code",
   "execution_count": null,
   "metadata": {},
   "outputs": [],
   "source": [
    "inSingletonEvalTrue = Forall((x, y), Equals(InSet(x, Set(y)), TRUE), conditions=[Equals(x, y)])"
   ]
  },
  {
   "cell_type": "code",
   "execution_count": null,
   "metadata": {},
   "outputs": [],
   "source": [
    "inSingletonEvalFalse = Forall((x, y), Equals(InSet(x, Set(y)), FALSE), conditions=[NotEquals(x, y)])"
   ]
  },
  {
   "cell_type": "markdown",
   "metadata": {},
   "source": [
    "## Theorems related to permutations of enumerated sets\n",
    "For example, the set {1, 2, 3} should be equivalent to the set {3, 2, 1}.<br>\n",
    "Here we adopt some of the terminology used in similar theorems for disjunctions and conjunctions.<br>\n",
    "These theorems are generally not expected to be directly used but instead will generally be implemented via a generic_methods method …"
   ]
  },
  {
   "cell_type": "code",
   "execution_count": null,
   "metadata": {},
   "outputs": [],
   "source": [
    "permutation = Forall((a, b), SetEquiv(Set(a, b), Set(b, a)))"
   ]
  },
  {
   "cell_type": "code",
   "execution_count": null,
   "metadata": {},
   "outputs": [],
   "source": [
    "leftwardPermutation = Forall((l, m, n),\n",
    "                             Forall((AA,BB,C,DD),\n",
    "                                    SetEquiv(Set(iterA1l, iterB1m, C, iterD1n),\n",
    "                                             Set(iterA1l, C, iterB1m, iterD1n))),\n",
    "                             domain = Naturals)"
   ]
  },
  {
   "cell_type": "code",
   "execution_count": null,
   "metadata": {},
   "outputs": [],
   "source": [
    "rightwardPermutation = Forall((l, m, n),\n",
    "                             Forall((AA,B,CC,DD),\n",
    "                                    SetEquiv(Set(iterA1l, B, iterC1m, iterD1n),\n",
    "                                             Set(iterA1l, iterC1m, B, iterD1n))),\n",
    "                             domain = Naturals)"
   ]
  },
  {
   "cell_type": "code",
   "execution_count": null,
   "metadata": {},
   "outputs": [],
   "source": [
    "%end theorems"
   ]
  },
  {
   "cell_type": "code",
   "execution_count": null,
   "metadata": {},
   "outputs": [],
   "source": []
  }
 ],
 "metadata": {
  "kernelspec": {
   "display_name": "Python 3",
   "language": "python",
   "name": "python3"
  }
 },
 "nbformat": 4,
 "nbformat_minor": 0
}
