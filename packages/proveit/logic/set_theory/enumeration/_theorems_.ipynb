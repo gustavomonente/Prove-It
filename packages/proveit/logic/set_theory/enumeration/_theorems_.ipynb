{
 "cells": [
  {
   "cell_type": "markdown",
   "metadata": {},
   "source": [
    "Theorems for context <a href=\"_context_.ipynb\" class=\"ProveItLink\">proveit.logic.set_theory.enumeration</a>\n",
    "========"
   ]
  },
  {
   "cell_type": "code",
   "execution_count": null,
   "metadata": {},
   "outputs": [],
   "source": [
    "import proveit\n",
    "# Automation is not needed when building theorem expressions:\n",
    "proveit.defaults.automation = False # This will speed things up.\n",
    "from proveit._common_ import f, n, x, y\n",
    "from proveit.logic import Booleans, TRUE, FALSE, Or, And, Forall\n",
    "from proveit.logic import Equals, NotEquals, InSet, NotInSet, Set\n",
    "from proveit.core_expr_types._common_ import y_1_to_n\n",
    "from proveit.logic.set_theory._common_ import x_equals_any_y, x_notequals_all_y\n",
    "from proveit.number import Naturals\n",
    "%begin theorems"
   ]
  },
  {
   "cell_type": "code",
   "execution_count": null,
   "metadata": {},
   "outputs": [],
   "source": [
    "unfold = Forall(n, Forall((x, y_1_to_n), \n",
    "                          x_equals_any_y, \n",
    "                          conditions=[InSet(x, Set(y_1_to_n))]),\n",
    "                domain=Naturals)"
   ]
  },
  {
   "cell_type": "code",
   "execution_count": null,
   "metadata": {},
   "outputs": [],
   "source": [
    "fold = Forall(n, Forall((x, y_1_to_n), \n",
    "                        InSet(x, Set(y_1_to_n)), \n",
    "                        conditions=[x_equals_any_y]),\n",
    "              domain=Naturals)"
   ]
  },
  {
   "cell_type": "code",
   "execution_count": null,
   "metadata": {},
   "outputs": [],
   "source": [
    "nonmembershipEquiv = Forall(n, Forall((x, y_1_to_n), \n",
    "                                      Equals(NotInSet(x, Set(y_1_to_n)), \n",
    "                                             x_notequals_all_y)),\n",
    "                           domain=Naturals)"
   ]
  },
  {
   "cell_type": "code",
   "execution_count": null,
   "metadata": {},
   "outputs": [],
   "source": [
    "singletonDef = Forall((x, y), Equals(InSet(x, Set(y)), Equals(x, y)))"
   ]
  },
  {
   "cell_type": "code",
   "execution_count": null,
   "metadata": {},
   "outputs": [],
   "source": [
    "unfoldSingleton = Forall((x, y), Equals(x, y), conditions=[InSet(x, Set(y))])"
   ]
  },
  {
   "cell_type": "code",
   "execution_count": null,
   "metadata": {},
   "outputs": [],
   "source": [
    "foldSingleton = Forall((x, y), InSet(x, Set(y)), conditions=[Equals(x, y)])"
   ]
  },
  {
   "cell_type": "code",
   "execution_count": null,
   "metadata": {},
   "outputs": [],
   "source": [
    "notInSingletonEquiv = Forall((x, y), Equals(NotInSet(x, Set(y)), NotEquals(x, y)))"
   ]
  },
  {
   "cell_type": "code",
   "execution_count": null,
   "metadata": {},
   "outputs": [],
   "source": [
    "inSingletonIsBool = Forall((x, y), InSet(InSet(x, Set(y)), Booleans))"
   ]
  },
  {
   "cell_type": "code",
   "execution_count": null,
   "metadata": {},
   "outputs": [],
   "source": [
    "inSingletonEvalTrue = Forall((x, y), Equals(InSet(x, Set(y)), TRUE), conditions=[Equals(x, y)])"
   ]
  },
  {
   "cell_type": "code",
   "execution_count": null,
   "metadata": {},
   "outputs": [],
   "source": [
    "inSingletonEvalFalse = Forall((x, y), Equals(InSet(x, Set(y)), FALSE), conditions=[NotEquals(x, y)])"
   ]
  },
  {
   "cell_type": "code",
   "execution_count": null,
   "metadata": {},
   "outputs": [],
   "source": [
    "%end theorems"
   ]
  },
  {
   "cell_type": "code",
   "execution_count": null,
   "metadata": {},
   "outputs": [],
   "source": []
  }
 ],
 "metadata": {
  "kernelspec": {
   "display_name": "Python 3",
   "language": "python",
   "name": "python3"
  }
 },
 "nbformat": 4,
 "nbformat_minor": 0
}
