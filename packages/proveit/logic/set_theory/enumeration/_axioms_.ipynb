{
 "cells": [
  {
   "cell_type": "markdown",
   "metadata": {},
   "source": [
    "Axioms for the theory of <a class=\"ProveItLink\" href=\"_theory_.ipynb\">proveit.logic.set_theory.enumeration</a>\n",
    "========"
   ]
  },
  {
   "cell_type": "code",
   "execution_count": null,
   "metadata": {},
   "outputs": [],
   "source": [
    "import proveit\n",
    "# Prepare this notebook for defining the axioms of a theory:\n",
    "%axioms_notebook # Keep this at the top following 'import proveit'.\n",
    "from proveit._common_ import n, x\n",
    "from proveit.logic import Forall, Equals, InSet, Set, EmptySet\n",
    "from proveit.core_expr_types._common_ import y_1_to_n\n",
    "from proveit.logic.set_theory._common_ import x_equals_any_y\n",
    "from proveit.number import Natural\n",
    "%begin axioms"
   ]
  },
  {
   "cell_type": "markdown",
   "metadata": {},
   "source": [
    "**Membership in an enumeration is the same as being equal to any of the contents of the enumeration:**"
   ]
  },
  {
   "cell_type": "code",
   "execution_count": null,
   "metadata": {},
   "outputs": [],
   "source": [
    "enumSetDef = Forall(n, Forall((x, y_1_to_n), \n",
    "                              Equals(InSet(x, Set(y_1_to_n)), \n",
    "                                     x_equals_any_y).withWrappingAt(2)),\n",
    "                   domain=Natural)"
   ]
  },
  {
   "cell_type": "markdown",
   "metadata": {},
   "source": [
    "**Define the empty set as an enumerated set with no elements.**"
   ]
  },
  {
   "cell_type": "code",
   "execution_count": null,
   "metadata": {},
   "outputs": [],
   "source": [
    "emptySetDef = Equals(EmptySet, Set())"
   ]
  },
  {
   "cell_type": "code",
   "execution_count": null,
   "metadata": {},
   "outputs": [],
   "source": [
    "#\n",
    "# might need an axiom here:\n",
    "# if 2 enum sets are SetEquiv then they are equal\n",
    "# see some hard-copy notes/comments from project meeting 2/07/2020"
   ]
  },
  {
   "cell_type": "code",
   "execution_count": null,
   "metadata": {},
   "outputs": [],
   "source": []
  },
  {
   "cell_type": "code",
   "execution_count": null,
   "metadata": {},
   "outputs": [],
   "source": [
    "%end axioms"
   ]
  },
  {
   "cell_type": "code",
   "execution_count": null,
   "metadata": {},
   "outputs": [],
   "source": []
  }
 ],
 "metadata": {
  "kernelspec": {
   "display_name": "Python 3",
   "language": "python",
   "name": "python3"
  }
 },
 "nbformat": 4,
 "nbformat_minor": 0
}
