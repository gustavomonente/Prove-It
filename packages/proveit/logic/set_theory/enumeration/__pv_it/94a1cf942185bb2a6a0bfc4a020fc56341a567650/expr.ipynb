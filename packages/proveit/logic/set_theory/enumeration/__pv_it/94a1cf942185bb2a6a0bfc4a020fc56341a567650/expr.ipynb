{
 "cells": [
  {
   "cell_type": "markdown",
   "metadata": {},
   "source": [
    "Expression of type <a class=\"ProveItLink\" href=\"../../../../../../../doc/html/api/proveit.Lambda.html\">Lambda</a>\n",
    "=======================\n",
    "# from context <a class=\"ProveItLink\" href=\"../../_context_.ipynb\">proveit.logic.set_theory.enumeration</a>"
   ]
  },
  {
   "cell_type": "code",
   "execution_count": 1,
   "metadata": {},
   "outputs": [],
   "source": [
    "import proveit\n",
    "# Automation is not needed when building an expression:\n",
    "proveit.defaults.automation = False # This will speed things up.\n",
    "proveit.defaults.inline_pngs = False # Makes files smaller.\n",
    "# import Expression classes needed to build the expression\n",
    "from proveit import Conditional, Lambda\n",
    "from proveit._common_ import n, x\n",
    "from proveit.core_expr_types._common_ import y_1_to_n\n",
    "from proveit.logic import Equals, Forall, InSet, NotInSet, Set\n",
    "from proveit.logic.set_theory._common_ import x_notequals_all_y\n",
    "from proveit.number import Naturals"
   ]
  },
  {
   "cell_type": "code",
   "execution_count": 2,
   "metadata": {},
   "outputs": [
    {
     "data": {
      "text/html": [
       "<strong id=\"expr\">expr:</strong> <a class=\"ProveItLink\" href=\"../0a32c24cd2c58fe694f419f8b120fa8adc71b48e0/expr.ipynb\"><img src=\"../0a32c24cd2c58fe694f419f8b120fa8adc71b48e0/expr.png\" style=\"display:inline;vertical-align:middle;\" /></a><br>"
      ],
      "text/plain": [
       "expr: n -> {forall_{x, y_{1}, ..y_{_a}.., y_{n}} ((x not-in {y_{1}, ..y_{_a}.., y_{n}}) = ((x != y_{1}) and ..(x != y_{i}).. and (x != y_{n}))) if n in Naturals."
      ]
     },
     "execution_count": 2,
     "metadata": {},
     "output_type": "execute_result"
    }
   ],
   "source": [
    "# build up the expression from sub-expressions\n",
    "expr = Lambda(n, Conditional(Forall([x, y_1_to_n], Equals(NotInSet(x, Set(y_1_to_n)), x_notequals_all_y)), InSet(n, Naturals)))"
   ]
  },
  {
   "cell_type": "code",
   "execution_count": 3,
   "metadata": {},
   "outputs": [
    {
     "name": "stdout",
     "output_type": "stream",
     "text": [
      "Passed sanity check: built 'expr' is the same as the stored Expression.\n"
     ]
    }
   ],
   "source": [
    "# check that the built expression is the same as the stored expression\n",
    "%check_expr"
   ]
  },
  {
   "cell_type": "code",
   "execution_count": 4,
   "metadata": {},
   "outputs": [
    {
     "name": "stdout",
     "output_type": "stream",
     "text": [
      "n \\mapsto \\left\\{\\forall_{x, y_{1}, \\ldots, y_{n}}~\\left(\\left(x \\notin \\left\\{y_{1}, \\ldots, y_{n}\\right\\}\\right) = \\left(\\left(x \\neq y_{1}\\right) \\land \\ldots \\land \\left(x \\neq y_{n}\\right)\\right)\\right) \\textrm{ if } n \\in \\mathbb{N}\\right..\n"
     ]
    }
   ],
   "source": [
    "# Show the LaTeX representation of the expression for convenience if you need it.\n",
    "print(expr.latex())"
   ]
  },
  {
   "cell_type": "code",
   "execution_count": 5,
   "metadata": {},
   "outputs": [
    {
     "data": {
      "text/html": [
       "<table><tr><th>&nbsp;</th><th>core type</th><th>sub-expressions</th><th>expression</th></tr>\n",
       "<tr><td>0</td><td>Lambda</td><td>parameter:&nbsp;28<br>body:&nbsp;1<br></td><td><a class=\"ProveItLink\" href=\"../0a32c24cd2c58fe694f419f8b120fa8adc71b48e0/expr.ipynb\"><img src=\"../0a32c24cd2c58fe694f419f8b120fa8adc71b48e0/expr.png\" style=\"display:inline;vertical-align:middle;\" /></a></td></tr>\n",
       "<tr><td>1</td><td>Conditional</td><td>value:&nbsp;2<br>condition:&nbsp;3<br></td><td><a class=\"ProveItLink\" href=\"../6a68b042b78fb48fa6f8d0ff54d46df3391dca5c0/expr.ipynb\"><img src=\"../6a68b042b78fb48fa6f8d0ff54d46df3391dca5c0/expr.png\" style=\"display:inline;vertical-align:middle;\" /></a></td></tr>\n",
       "<tr><td>2</td><td>Operation</td><td>operator:&nbsp;4<br>operand:&nbsp;5<br></td><td><a class=\"ProveItLink\" href=\"../4e13d487eb87483bbfeaaa83796868b2f445ea220/expr.ipynb\"><img src=\"../4e13d487eb87483bbfeaaa83796868b2f445ea220/expr.png\" style=\"display:inline;vertical-align:middle;\" /></a></td></tr>\n",
       "<tr><td>3</td><td>Operation</td><td>operator:&nbsp;6<br>operands:&nbsp;7<br></td><td><a class=\"ProveItLink\" href=\"../2cf8e15839f3241ee91ee5160b94bb56314115740/expr.ipynb\"><img src=\"../2cf8e15839f3241ee91ee5160b94bb56314115740/expr.png\" style=\"display:inline;vertical-align:middle;\" /></a></td></tr>\n",
       "<tr><td>4</td><td>Literal</td><td></td><td><a class=\"ProveItLink\" href=\"../../../../boolean/quantification/universal/__pv_it/fd9c772d6675566ed52a6897806f45eb08a4ea910/expr.ipynb\"><img src=\"../../../../boolean/quantification/universal/__pv_it/fd9c772d6675566ed52a6897806f45eb08a4ea910/expr.png\" style=\"display:inline;vertical-align:middle;\" /></a></td></tr>\n",
       "<tr><td>5</td><td>Lambda</td><td>parameters:&nbsp;8<br>body:&nbsp;9<br></td><td><a class=\"ProveItLink\" href=\"../f666777d290207de4c94cb2ad505f92e7095b2af0/expr.ipynb\"><img src=\"../f666777d290207de4c94cb2ad505f92e7095b2af0/expr.png\" style=\"display:inline;vertical-align:middle;\" /></a></td></tr>\n",
       "<tr><td>6</td><td>Literal</td><td></td><td><a class=\"ProveItLink\" href=\"../../../membership/__pv_it/7776fc89cb67d0b5b1ec2c0c8e08da5587921ccf0/expr.ipynb\"><img src=\"../../../membership/__pv_it/7776fc89cb67d0b5b1ec2c0c8e08da5587921ccf0/expr.png\" style=\"display:inline;vertical-align:middle;\" /></a></td></tr>\n",
       "<tr><td>7</td><td>ExprTuple</td><td>28, 10</td><td><a class=\"ProveItLink\" href=\"../1cec7219484835bb1a8f99347b9938cdf616708c0/expr.ipynb\"><img src=\"../1cec7219484835bb1a8f99347b9938cdf616708c0/expr.png\" style=\"display:inline;vertical-align:middle;\" /></a></td></tr>\n",
       "<tr><td>8</td><td>ExprTuple</td><td>32, 24</td><td><a class=\"ProveItLink\" href=\"../97292d975185b9d6cf815dac0a1b1c3f126263d10/expr.ipynb\"><img src=\"../97292d975185b9d6cf815dac0a1b1c3f126263d10/expr.png\" style=\"display:inline;vertical-align:middle;\" /></a></td></tr>\n",
       "<tr><td>9</td><td>Operation</td><td>operator:&nbsp;11<br>operands:&nbsp;12<br></td><td><a class=\"ProveItLink\" href=\"../13799479c0150ff7034708843aa6b3059f664e890/expr.ipynb\"><img src=\"../13799479c0150ff7034708843aa6b3059f664e890/expr.png\" style=\"display:inline;vertical-align:middle;\" /></a></td></tr>\n",
       "<tr><td>10</td><td>Literal</td><td></td><td><a class=\"ProveItLink\" href=\"../../../../../number/sets/integer/__pv_it/b49c37b99b7e8d73a8d7971bcf454d693b90a2c60/expr.ipynb\"><img src=\"../../../../../number/sets/integer/__pv_it/b49c37b99b7e8d73a8d7971bcf454d693b90a2c60/expr.png\" style=\"display:inline;vertical-align:middle;\" /></a></td></tr>\n",
       "<tr><td>11</td><td>Literal</td><td></td><td><a class=\"ProveItLink\" href=\"../../../../equality/__pv_it/e16d2caa26a16688b658bdb9c422caf4b84579e10/expr.ipynb\"><img src=\"../../../../equality/__pv_it/e16d2caa26a16688b658bdb9c422caf4b84579e10/expr.png\" style=\"display:inline;vertical-align:middle;\" /></a></td></tr>\n",
       "<tr><td>12</td><td>ExprTuple</td><td>13, 14</td><td><a class=\"ProveItLink\" href=\"../0d01280f8e5feffc60eb2d5b8646250374b89ad40/expr.ipynb\"><img src=\"../0d01280f8e5feffc60eb2d5b8646250374b89ad40/expr.png\" style=\"display:inline;vertical-align:middle;\" /></a></td></tr>\n",
       "<tr><td>13</td><td>Operation</td><td>operator:&nbsp;15<br>operands:&nbsp;16<br></td><td><a class=\"ProveItLink\" href=\"../53abaf92c629ad9b9ede2ebb9cdaa0c1b5a264100/expr.ipynb\"><img src=\"../53abaf92c629ad9b9ede2ebb9cdaa0c1b5a264100/expr.png\" style=\"display:inline;vertical-align:middle;\" /></a></td></tr>\n",
       "<tr><td>14</td><td>Operation</td><td>operator:&nbsp;17<br>operands:&nbsp;18<br></td><td><a class=\"ProveItLink\" href=\"../../../__pv_it/4e156f1f8a6e71515e77f9f0d5a0f0122d15244f0/expr.ipynb\"><img src=\"../../../__pv_it/4e156f1f8a6e71515e77f9f0d5a0f0122d15244f0/expr.png\" style=\"display:inline;vertical-align:middle;\" /></a></td></tr>\n",
       "<tr><td>15</td><td>Literal</td><td></td><td><a class=\"ProveItLink\" href=\"../../../membership/__pv_it/75447a3ece39b4b0773e1c3b724e0a3faed46e330/expr.ipynb\"><img src=\"../../../membership/__pv_it/75447a3ece39b4b0773e1c3b724e0a3faed46e330/expr.png\" style=\"display:inline;vertical-align:middle;\" /></a></td></tr>\n",
       "<tr><td>16</td><td>ExprTuple</td><td>32, 19</td><td><a class=\"ProveItLink\" href=\"../5cd831e22eef27b106e46e2ddc5192d6a271e7280/expr.ipynb\"><img src=\"../5cd831e22eef27b106e46e2ddc5192d6a271e7280/expr.png\" style=\"display:inline;vertical-align:middle;\" /></a></td></tr>\n",
       "<tr><td>17</td><td>Literal</td><td></td><td><a class=\"ProveItLink\" href=\"../../../../boolean/conjunction/__pv_it/f41cc6b553210927c09f19a8a39cdf860a5585930/expr.ipynb\"><img src=\"../../../../boolean/conjunction/__pv_it/f41cc6b553210927c09f19a8a39cdf860a5585930/expr.png\" style=\"display:inline;vertical-align:middle;\" /></a></td></tr>\n",
       "<tr><td>18</td><td>ExprTuple</td><td>20</td><td><a class=\"ProveItLink\" href=\"../../../__pv_it/d930793621343c40625b493601207dd2afe44b570/expr.ipynb\"><img src=\"../../../__pv_it/d930793621343c40625b493601207dd2afe44b570/expr.png\" style=\"display:inline;vertical-align:middle;\" /></a></td></tr>\n",
       "<tr><td>19</td><td>Operation</td><td>operator:&nbsp;21<br>operands:&nbsp;22<br></td><td><a class=\"ProveItLink\" href=\"../eecbdc791424c9d9bc2d6d31c4fc17f4f0a85c710/expr.ipynb\"><img src=\"../eecbdc791424c9d9bc2d6d31c4fc17f4f0a85c710/expr.png\" style=\"display:inline;vertical-align:middle;\" /></a></td></tr>\n",
       "<tr><td>20</td><td>ExprRange</td><td>lambda_map:&nbsp;23<br>start_index:&nbsp;27<br>end_index:&nbsp;28<br></td><td><a class=\"ProveItLink\" href=\"../../../__pv_it/1baa29c2f7a32796a9e4115a66be2869e7aab48d0/expr.ipynb\"><img src=\"../../../__pv_it/1baa29c2f7a32796a9e4115a66be2869e7aab48d0/expr.png\" style=\"display:inline;vertical-align:middle;\" /></a></td></tr>\n",
       "<tr><td>21</td><td>Literal</td><td></td><td><a class=\"ProveItLink\" href=\"../031f443c811429025ee9cba8d75037dd468e2c850/expr.ipynb\"><img src=\"../031f443c811429025ee9cba8d75037dd468e2c850/expr.png\" style=\"display:inline;vertical-align:middle;\" /></a></td></tr>\n",
       "<tr><td>22</td><td>ExprTuple</td><td>24</td><td><a class=\"ProveItLink\" href=\"../36baa841ca4ead4fd5028dfeb4cf0088c449f4e20/expr.ipynb\"><img src=\"../36baa841ca4ead4fd5028dfeb4cf0088c449f4e20/expr.png\" style=\"display:inline;vertical-align:middle;\" /></a></td></tr>\n",
       "<tr><td>23</td><td>Lambda</td><td>parameter:&nbsp;36<br>body:&nbsp;25<br></td><td><a class=\"ProveItLink\" href=\"../../../__pv_it/dd27c03d2f09e490e9c4b93f9acb2bed627a0fe10/expr.ipynb\"><img src=\"../../../__pv_it/dd27c03d2f09e490e9c4b93f9acb2bed627a0fe10/expr.png\" style=\"display:inline;vertical-align:middle;\" /></a></td></tr>\n",
       "<tr><td>24</td><td>ExprRange</td><td>lambda_map:&nbsp;26<br>start_index:&nbsp;27<br>end_index:&nbsp;28<br></td><td><a class=\"ProveItLink\" href=\"../../../../../core_expr_types/__pv_it/87b377c364a4602e9ce64fd43004741e2b6395d00/expr.ipynb\"><img src=\"../../../../../core_expr_types/__pv_it/87b377c364a4602e9ce64fd43004741e2b6395d00/expr.png\" style=\"display:inline;vertical-align:middle;\" /></a></td></tr>\n",
       "<tr><td>25</td><td>Operation</td><td>operator:&nbsp;29<br>operands:&nbsp;30<br></td><td><a class=\"ProveItLink\" href=\"../../../__pv_it/e768da19e12fc2e57765977e0940b019703cf3e00/expr.ipynb\"><img src=\"../../../__pv_it/e768da19e12fc2e57765977e0940b019703cf3e00/expr.png\" style=\"display:inline;vertical-align:middle;\" /></a></td></tr>\n",
       "<tr><td>26</td><td>Lambda</td><td>parameter:&nbsp;34<br>body:&nbsp;31<br></td><td><a class=\"ProveItLink\" href=\"../../../../../core_expr_types/__pv_it/4d6ce55953d3186b844d94fa964658034e386c2f0/expr.ipynb\"><img src=\"../../../../../core_expr_types/__pv_it/4d6ce55953d3186b844d94fa964658034e386c2f0/expr.png\" style=\"display:inline;vertical-align:middle;\" /></a></td></tr>\n",
       "<tr><td>27</td><td>Literal</td><td></td><td><a class=\"ProveItLink\" href=\"../../../../../number/numeral/__pv_it/f086f8c372bd40a2458306ddfdbb29f3dc6f63030/expr.ipynb\"><img src=\"../../../../../number/numeral/__pv_it/f086f8c372bd40a2458306ddfdbb29f3dc6f63030/expr.png\" style=\"display:inline;vertical-align:middle;\" /></a></td></tr>\n",
       "<tr><td>28</td><td>Variable</td><td></td><td><a class=\"ProveItLink\" href=\"../../../../../__pv_it/0c1c4cb515e0f4344b1ac06650f349123e526deb0/expr.ipynb\"><img src=\"../../../../../__pv_it/0c1c4cb515e0f4344b1ac06650f349123e526deb0/expr.png\" style=\"display:inline;vertical-align:middle;\" /></a></td></tr>\n",
       "<tr><td>29</td><td>Literal</td><td></td><td><a class=\"ProveItLink\" href=\"../../../../equality/__pv_it/b2721051be811fe338d0c72369ee2d83e8be58da0/expr.ipynb\"><img src=\"../../../../equality/__pv_it/b2721051be811fe338d0c72369ee2d83e8be58da0/expr.png\" style=\"display:inline;vertical-align:middle;\" /></a></td></tr>\n",
       "<tr><td>30</td><td>ExprTuple</td><td>32, 33</td><td><a class=\"ProveItLink\" href=\"../../../__pv_it/2f962deea8cf7307d9827c175bcd6bcf313ed5340/expr.ipynb\"><img src=\"../../../__pv_it/2f962deea8cf7307d9827c175bcd6bcf313ed5340/expr.png\" style=\"display:inline;vertical-align:middle;\" /></a></td></tr>\n",
       "<tr><td>31</td><td>IndexedVar</td><td>variable:&nbsp;35<br>index:&nbsp;34<br></td><td><a class=\"ProveItLink\" href=\"../../../../../core_expr_types/__pv_it/cbc5b13c7440e4f3ed730e7f45cdfc50ebbcda220/expr.ipynb\"><img src=\"../../../../../core_expr_types/__pv_it/cbc5b13c7440e4f3ed730e7f45cdfc50ebbcda220/expr.png\" style=\"display:inline;vertical-align:middle;\" /></a></td></tr>\n",
       "<tr><td>32</td><td>Variable</td><td></td><td><a class=\"ProveItLink\" href=\"../../../../../__pv_it/72df168d2bfb4e0140af90912ebf83b13772060b0/expr.ipynb\"><img src=\"../../../../../__pv_it/72df168d2bfb4e0140af90912ebf83b13772060b0/expr.png\" style=\"display:inline;vertical-align:middle;\" /></a></td></tr>\n",
       "<tr><td>33</td><td>IndexedVar</td><td>variable:&nbsp;35<br>index:&nbsp;36<br></td><td><a class=\"ProveItLink\" href=\"../../../__pv_it/ff6d639a0e8e08bbc7705e8ed140cca4a465ffb20/expr.ipynb\"><img src=\"../../../__pv_it/ff6d639a0e8e08bbc7705e8ed140cca4a465ffb20/expr.png\" style=\"display:inline;vertical-align:middle;\" /></a></td></tr>\n",
       "<tr><td>34</td><td>Variable</td><td></td><td><a class=\"ProveItLink\" href=\"../../../../../core_expr_types/__pv_it/1e653f789234b245ee7fea7caad998c139d617410/expr.ipynb\"><img src=\"../../../../../core_expr_types/__pv_it/1e653f789234b245ee7fea7caad998c139d617410/expr.png\" style=\"display:inline;vertical-align:middle;\" /></a></td></tr>\n",
       "<tr><td>35</td><td>Variable</td><td></td><td><a class=\"ProveItLink\" href=\"../../../../../__pv_it/c6e291955561f22a0e6708fd793ea93f1c7dbb5d0/expr.ipynb\"><img src=\"../../../../../__pv_it/c6e291955561f22a0e6708fd793ea93f1c7dbb5d0/expr.png\" style=\"display:inline;vertical-align:middle;\" /></a></td></tr>\n",
       "<tr><td>36</td><td>Variable</td><td></td><td><a class=\"ProveItLink\" href=\"../../../../../__pv_it/557ab5defdcd46aa58168b08767502985122cd490/expr.ipynb\"><img src=\"../../../../../__pv_it/557ab5defdcd46aa58168b08767502985122cd490/expr.png\" style=\"display:inline;vertical-align:middle;\" /></a></td></tr>\n",
       "</table>\n"
      ],
      "text/plain": [
       "0. n -> {forall_{x, y_{1}, ..y_{_a}.., y_{n}} ((x not-in {y_{1}, ..y_{_a}.., y_{n}}) = ((x != y_{1}) and ..(x != y_{i}).. and (x != y_{n}))) if n in Naturals.\n",
       "   core type: Lambda\n",
       "   parameter: 28\n",
       "   body: 1\n",
       "1. {forall_{x, y_{1}, ..y_{_a}.., y_{n}} ((x not-in {y_{1}, ..y_{_a}.., y_{n}}) = ((x != y_{1}) and ..(x != y_{i}).. and (x != y_{n}))) if n in Naturals.\n",
       "   core type: Conditional\n",
       "   value: 2\n",
       "   condition: 3\n",
       "2. forall_{x, y_{1}, ..y_{_a}.., y_{n}} ((x not-in {y_{1}, ..y_{_a}.., y_{n}}) = ((x != y_{1}) and ..(x != y_{i}).. and (x != y_{n})))\n",
       "   core type: Operation\n",
       "   operator: 4\n",
       "   operand: 5\n",
       "3. n in Naturals\n",
       "   core type: Operation\n",
       "   operator: 6\n",
       "   operands: 7\n",
       "4. forall\n",
       "   core type: Literal\n",
       "   sub-expressions: \n",
       "5. (x, y_{1}, ..y_{_a}.., y_{n}) -> ((x not-in {y_{1}, ..y_{_a}.., y_{n}}) = ((x != y_{1}) and ..(x != y_{i}).. and (x != y_{n})))\n",
       "   core type: Lambda\n",
       "   parameters: 8\\n   body: 9\n",
       "6. in\n",
       "   core type: Literal\n",
       "   sub-expressions: \n",
       "7. (n, Naturals)\n",
       "   core type: ExprTuple\n",
       "   sub-expressions: 28, 10\n",
       "8. (x, y_{1}, ..y_{_a}.., y_{n})\n",
       "   core type: ExprTuple\n",
       "   sub-expressions: 32, 24\n",
       "9. (x not-in {y_{1}, ..y_{_a}.., y_{n}}) = ((x != y_{1}) and ..(x != y_{i}).. and (x != y_{n}))\n",
       "   core type: Operation\n",
       "   operator: 11\n",
       "   operands: 12\n",
       "10. Naturals\n",
       "    core type: Literal\n",
       "    sub-expressions: \n",
       "11. =\n",
       "    core type: Literal\n",
       "    sub-expressions: \n",
       "12. (x not-in {y_{1}, ..y_{_a}.., y_{n}}, (x != y_{1}) and ..(x != y_{i}).. and (x != y_{n}))\n",
       "    core type: ExprTuple\n",
       "    sub-expressions: 13, 14\n",
       "13. x not-in {y_{1}, ..y_{_a}.., y_{n}}\n",
       "    core type: Operation\n",
       "    operator: 15\n",
       "    operands: 16\n",
       "14. (x != y_{1}) and ..(x != y_{i}).. and (x != y_{n})\n",
       "    core type: Operation\n",
       "    operator: 17\n",
       "    operands: 18\n",
       "15. not-in\n",
       "    core type: Literal\n",
       "    sub-expressions: \n",
       "16. (x, {y_{1}, ..y_{_a}.., y_{n}})\n",
       "    core type: ExprTuple\n",
       "    sub-expressions: 32, 19\n",
       "17. and\n",
       "    core type: Literal\n",
       "    sub-expressions: \n",
       "18. (x != y_{1}, ..x != y_{i}.., x != y_{n})\n",
       "    core type: ExprTuple\n",
       "    sub-expressions: 20\n",
       "19. {y_{1}, ..y_{_a}.., y_{n}}\n",
       "    core type: Operation\n",
       "    operator: 21\n",
       "    operands: 22\n",
       "20. (x != y_{1}), ..(x != y_{i}).., (x != y_{n})\n",
       "    core type: ExprRange\n",
       "    lambda_map: 23\n",
       "    start_index: 27\n",
       "    end_index: 28\n",
       "21. Set\n",
       "    core type: Literal\n",
       "    sub-expressions: \n",
       "22. (y_{1}, ..y_{_a}.., y_{n})\n",
       "    core type: ExprTuple\n",
       "    sub-expressions: 24\n",
       "23. i -> (x != y_{i})\n",
       "    core type: Lambda\n",
       "    parameter: 36\n",
       "    body: 25\n",
       "24. y_{1}, ..y_{_a}.., y_{n}\n",
       "    core type: ExprRange\n",
       "    lambda_map: 26\n",
       "    start_index: 27\n",
       "    end_index: 28\n",
       "25. x != y_{i}\n",
       "    core type: Operation\n",
       "    operator: 29\n",
       "    operands: 30\n",
       "26. _a -> y_{_a}\n",
       "    core type: Lambda\n",
       "    parameter: 34\n",
       "    body: 31\n",
       "27. 1\n",
       "    core type: Literal\n",
       "    sub-expressions: \n",
       "28. n\n",
       "    core type: Variable\n",
       "    sub-expressions: \n",
       "29. !=\n",
       "    core type: Literal\n",
       "    sub-expressions: \n",
       "30. (x, y_{i})\n",
       "    core type: ExprTuple\n",
       "    sub-expressions: 32, 33\n",
       "31. y_{_a}\n",
       "    core type: IndexedVar\n",
       "variable: 35\n",
       "index: 34\n",
       "32. x\n",
       "    core type: Variable\n",
       "    sub-expressions: \n",
       "33. y_{i}\n",
       "    core type: IndexedVar\n",
       "variable: 35\n",
       "index: 36\n",
       "34. _a\n",
       "    core type: Variable\n",
       "    sub-expressions: \n",
       "35. y\n",
       "    core type: Variable\n",
       "    sub-expressions: \n",
       "36. i\n",
       "    core type: Variable\n",
       "    sub-expressions: "
      ]
     },
     "execution_count": 5,
     "metadata": {},
     "output_type": "execute_result"
    }
   ],
   "source": [
    "# display the expression information\n",
    "expr.exprInfo()"
   ]
  },
  {
   "cell_type": "code",
   "execution_count": null,
   "metadata": {},
   "outputs": [],
   "source": []
  }
 ],
 "metadata": {
  "kernelspec": {
   "display_name": "Python 3",
   "language": "python",
   "name": "python3"
  },
  "language_info": {
   "codemirror_mode": {
    "name": "ipython",
    "version": 3
   },
   "file_extension": ".py",
   "mimetype": "text/x-python",
   "name": "python",
   "nbconvert_exporter": "python",
   "pygments_lexer": "ipython3",
   "version": "3.7.3"
  }
 },
 "nbformat": 4,
 "nbformat_minor": 1
}
