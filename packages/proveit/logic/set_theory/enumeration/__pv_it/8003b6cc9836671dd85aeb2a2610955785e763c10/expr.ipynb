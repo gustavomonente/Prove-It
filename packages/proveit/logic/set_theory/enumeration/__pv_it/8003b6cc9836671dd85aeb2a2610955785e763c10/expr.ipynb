{
 "cells": [
  {
   "cell_type": "markdown",
   "metadata": {},
   "source": [
    "Expression of type <a class=\"ProveItLink\" href=\"../../../../../../../doc/html/api/proveit.Lambda.html\">Lambda</a>\n",
    "=======================\n",
    "# from context <a class=\"ProveItLink\" href=\"../../_context_.ipynb\">proveit.logic.set_theory.enumeration</a>"
   ]
  },
  {
   "cell_type": "code",
   "execution_count": 1,
   "metadata": {},
   "outputs": [],
   "source": [
    "import proveit\n",
    "# Automation is not needed when building an expression:\n",
    "proveit.defaults.automation = False # This will speed things up.\n",
    "proveit.defaults.inline_pngs = False # Makes files smaller.\n",
    "# import Expression classes needed to build the expression\n",
    "from proveit import Conditional, Lambda\n",
    "from proveit._common_ import n, x\n",
    "from proveit.core_expr_types._common_ import y_1_to_n\n",
    "from proveit.logic import Equals, Forall, InSet, Set\n",
    "from proveit.logic.set_theory._common_ import x_equals_any_y\n",
    "from proveit.number import Naturals"
   ]
  },
  {
   "cell_type": "code",
   "execution_count": 2,
   "metadata": {},
   "outputs": [
    {
     "data": {
      "text/html": [
       "<strong id=\"expr\">expr:</strong> <a class=\"ProveItLink\" href=\"../ca5d6795739e6461127812e724f7fdc7177d27b80/expr.ipynb\"><img src=\"../ca5d6795739e6461127812e724f7fdc7177d27b80/expr.png\" style=\"display:inline;vertical-align:middle;\" /></a><br>"
      ],
      "text/plain": [
       "expr: n -> {forall_{x, y_{1}, ..y_{_a}.., y_{n}} ((x in {y_{1}, ..y_{_a}.., y_{n}}) = ((x = y_{1}) or ..(x = y_{i}).. or (x = y_{n}))) if n in Naturals."
      ]
     },
     "execution_count": 2,
     "metadata": {},
     "output_type": "execute_result"
    }
   ],
   "source": [
    "# build up the expression from sub-expressions\n",
    "expr = Lambda(n, Conditional(Forall([x, y_1_to_n], Equals(InSet(x, Set(y_1_to_n)), x_equals_any_y)), InSet(n, Naturals)))"
   ]
  },
  {
   "cell_type": "code",
   "execution_count": 3,
   "metadata": {},
   "outputs": [
    {
     "name": "stdout",
     "output_type": "stream",
     "text": [
      "Passed sanity check: built 'expr' is the same as the stored Expression.\n"
     ]
    }
   ],
   "source": [
    "# check that the built expression is the same as the stored expression\n",
    "%check_expr"
   ]
  },
  {
   "cell_type": "code",
   "execution_count": 4,
   "metadata": {},
   "outputs": [
    {
     "name": "stdout",
     "output_type": "stream",
     "text": [
      "n \\mapsto \\left\\{\\forall_{x, y_{1}, \\ldots, y_{n}}~\\left(\\left(x \\in \\left\\{y_{1}, \\ldots, y_{n}\\right\\}\\right) = \\left(\\left(x = y_{1}\\right) \\lor \\ldots \\lor \\left(x = y_{n}\\right)\\right)\\right) \\textrm{ if } n \\in \\mathbb{N}\\right..\n"
     ]
    }
   ],
   "source": [
    "# Show the LaTeX representation of the expression for convenience if you need it.\n",
    "print(expr.latex())"
   ]
  },
  {
   "cell_type": "code",
   "execution_count": 5,
   "metadata": {},
   "outputs": [
    {
     "data": {
      "text/html": [
       "<table><tr><th>&nbsp;</th><th>core type</th><th>sub-expressions</th><th>expression</th></tr>\n",
       "<tr><td>0</td><td>Lambda</td><td>parameter:&nbsp;26<br>body:&nbsp;1<br></td><td><a class=\"ProveItLink\" href=\"../ca5d6795739e6461127812e724f7fdc7177d27b80/expr.ipynb\"><img src=\"../ca5d6795739e6461127812e724f7fdc7177d27b80/expr.png\" style=\"display:inline;vertical-align:middle;\" /></a></td></tr>\n",
       "<tr><td>1</td><td>Conditional</td><td>value:&nbsp;2<br>condition:&nbsp;3<br></td><td><a class=\"ProveItLink\" href=\"../cb9917a5d7827d4df24308906856c6215275570c0/expr.ipynb\"><img src=\"../cb9917a5d7827d4df24308906856c6215275570c0/expr.png\" style=\"display:inline;vertical-align:middle;\" /></a></td></tr>\n",
       "<tr><td>2</td><td>Operation</td><td>operator:&nbsp;4<br>operand:&nbsp;5<br></td><td><a class=\"ProveItLink\" href=\"../030b43e33f4d83a19b2fe4cfc78a497377a03e970/expr.ipynb\"><img src=\"../030b43e33f4d83a19b2fe4cfc78a497377a03e970/expr.png\" style=\"display:inline;vertical-align:middle;\" /></a></td></tr>\n",
       "<tr><td>3</td><td>Operation</td><td>operator:&nbsp;13<br>operands:&nbsp;6<br></td><td><a class=\"ProveItLink\" href=\"../2cf8e15839f3241ee91ee5160b94bb56314115740/expr.ipynb\"><img src=\"../2cf8e15839f3241ee91ee5160b94bb56314115740/expr.png\" style=\"display:inline;vertical-align:middle;\" /></a></td></tr>\n",
       "<tr><td>4</td><td>Literal</td><td></td><td><a class=\"ProveItLink\" href=\"../../../../boolean/quantification/universal/__pv_it/fd9c772d6675566ed52a6897806f45eb08a4ea910/expr.ipynb\"><img src=\"../../../../boolean/quantification/universal/__pv_it/fd9c772d6675566ed52a6897806f45eb08a4ea910/expr.png\" style=\"display:inline;vertical-align:middle;\" /></a></td></tr>\n",
       "<tr><td>5</td><td>Lambda</td><td>parameters:&nbsp;7<br>body:&nbsp;8<br></td><td><a class=\"ProveItLink\" href=\"../111d4652d7fcbbb5d63390590a9aaf6172110eb00/expr.ipynb\"><img src=\"../111d4652d7fcbbb5d63390590a9aaf6172110eb00/expr.png\" style=\"display:inline;vertical-align:middle;\" /></a></td></tr>\n",
       "<tr><td>6</td><td>ExprTuple</td><td>26, 9</td><td><a class=\"ProveItLink\" href=\"../1cec7219484835bb1a8f99347b9938cdf616708c0/expr.ipynb\"><img src=\"../1cec7219484835bb1a8f99347b9938cdf616708c0/expr.png\" style=\"display:inline;vertical-align:middle;\" /></a></td></tr>\n",
       "<tr><td>7</td><td>ExprTuple</td><td>30, 22</td><td><a class=\"ProveItLink\" href=\"../97292d975185b9d6cf815dac0a1b1c3f126263d10/expr.ipynb\"><img src=\"../97292d975185b9d6cf815dac0a1b1c3f126263d10/expr.png\" style=\"display:inline;vertical-align:middle;\" /></a></td></tr>\n",
       "<tr><td>8</td><td>Operation</td><td>operator:&nbsp;27<br>operands:&nbsp;10<br></td><td><a class=\"ProveItLink\" href=\"../9fb03bcc945feb9d23bb14e30a45024380386c2f0/expr.ipynb\"><img src=\"../9fb03bcc945feb9d23bb14e30a45024380386c2f0/expr.png\" style=\"display:inline;vertical-align:middle;\" /></a></td></tr>\n",
       "<tr><td>9</td><td>Literal</td><td></td><td><a class=\"ProveItLink\" href=\"../../../../../number/sets/integer/__pv_it/b49c37b99b7e8d73a8d7971bcf454d693b90a2c60/expr.ipynb\"><img src=\"../../../../../number/sets/integer/__pv_it/b49c37b99b7e8d73a8d7971bcf454d693b90a2c60/expr.png\" style=\"display:inline;vertical-align:middle;\" /></a></td></tr>\n",
       "<tr><td>10</td><td>ExprTuple</td><td>11, 12</td><td><a class=\"ProveItLink\" href=\"../e23e657407c9c997883dfde8cd57949b5d71343e0/expr.ipynb\"><img src=\"../e23e657407c9c997883dfde8cd57949b5d71343e0/expr.png\" style=\"display:inline;vertical-align:middle;\" /></a></td></tr>\n",
       "<tr><td>11</td><td>Operation</td><td>operator:&nbsp;13<br>operands:&nbsp;14<br></td><td><a class=\"ProveItLink\" href=\"../eb5657570bd6ac06b15921e0d6554db0ddb9d5ad0/expr.ipynb\"><img src=\"../eb5657570bd6ac06b15921e0d6554db0ddb9d5ad0/expr.png\" style=\"display:inline;vertical-align:middle;\" /></a></td></tr>\n",
       "<tr><td>12</td><td>Operation</td><td>operator:&nbsp;15<br>operands:&nbsp;16<br></td><td><a class=\"ProveItLink\" href=\"../../../__pv_it/2dc362757aea7d4b13e12d6056c73470b3bd1f180/expr.ipynb\"><img src=\"../../../__pv_it/2dc362757aea7d4b13e12d6056c73470b3bd1f180/expr.png\" style=\"display:inline;vertical-align:middle;\" /></a></td></tr>\n",
       "<tr><td>13</td><td>Literal</td><td></td><td><a class=\"ProveItLink\" href=\"../../../membership/__pv_it/7776fc89cb67d0b5b1ec2c0c8e08da5587921ccf0/expr.ipynb\"><img src=\"../../../membership/__pv_it/7776fc89cb67d0b5b1ec2c0c8e08da5587921ccf0/expr.png\" style=\"display:inline;vertical-align:middle;\" /></a></td></tr>\n",
       "<tr><td>14</td><td>ExprTuple</td><td>30, 17</td><td><a class=\"ProveItLink\" href=\"../5cd831e22eef27b106e46e2ddc5192d6a271e7280/expr.ipynb\"><img src=\"../5cd831e22eef27b106e46e2ddc5192d6a271e7280/expr.png\" style=\"display:inline;vertical-align:middle;\" /></a></td></tr>\n",
       "<tr><td>15</td><td>Literal</td><td></td><td><a class=\"ProveItLink\" href=\"../../../../boolean/disjunction/__pv_it/8a6d9fc46c84b3911a71fbae15627dc2acebe2890/expr.ipynb\"><img src=\"../../../../boolean/disjunction/__pv_it/8a6d9fc46c84b3911a71fbae15627dc2acebe2890/expr.png\" style=\"display:inline;vertical-align:middle;\" /></a></td></tr>\n",
       "<tr><td>16</td><td>ExprTuple</td><td>18</td><td><a class=\"ProveItLink\" href=\"../../../__pv_it/3ef66ce318db77bfc8992bafc93a115d4d33c14b0/expr.ipynb\"><img src=\"../../../__pv_it/3ef66ce318db77bfc8992bafc93a115d4d33c14b0/expr.png\" style=\"display:inline;vertical-align:middle;\" /></a></td></tr>\n",
       "<tr><td>17</td><td>Operation</td><td>operator:&nbsp;19<br>operands:&nbsp;20<br></td><td><a class=\"ProveItLink\" href=\"../eecbdc791424c9d9bc2d6d31c4fc17f4f0a85c710/expr.ipynb\"><img src=\"../eecbdc791424c9d9bc2d6d31c4fc17f4f0a85c710/expr.png\" style=\"display:inline;vertical-align:middle;\" /></a></td></tr>\n",
       "<tr><td>18</td><td>ExprRange</td><td>lambda_map:&nbsp;21<br>start_index:&nbsp;25<br>end_index:&nbsp;26<br></td><td><a class=\"ProveItLink\" href=\"../../../__pv_it/9c1066ddfa248f2d388786fa08c81cf9282b9a930/expr.ipynb\"><img src=\"../../../__pv_it/9c1066ddfa248f2d388786fa08c81cf9282b9a930/expr.png\" style=\"display:inline;vertical-align:middle;\" /></a></td></tr>\n",
       "<tr><td>19</td><td>Literal</td><td></td><td><a class=\"ProveItLink\" href=\"../031f443c811429025ee9cba8d75037dd468e2c850/expr.ipynb\"><img src=\"../031f443c811429025ee9cba8d75037dd468e2c850/expr.png\" style=\"display:inline;vertical-align:middle;\" /></a></td></tr>\n",
       "<tr><td>20</td><td>ExprTuple</td><td>22</td><td><a class=\"ProveItLink\" href=\"../36baa841ca4ead4fd5028dfeb4cf0088c449f4e20/expr.ipynb\"><img src=\"../36baa841ca4ead4fd5028dfeb4cf0088c449f4e20/expr.png\" style=\"display:inline;vertical-align:middle;\" /></a></td></tr>\n",
       "<tr><td>21</td><td>Lambda</td><td>parameter:&nbsp;34<br>body:&nbsp;23<br></td><td><a class=\"ProveItLink\" href=\"../../../__pv_it/03cfd705abdd51d7f8bc170f1ff678da765771310/expr.ipynb\"><img src=\"../../../__pv_it/03cfd705abdd51d7f8bc170f1ff678da765771310/expr.png\" style=\"display:inline;vertical-align:middle;\" /></a></td></tr>\n",
       "<tr><td>22</td><td>ExprRange</td><td>lambda_map:&nbsp;24<br>start_index:&nbsp;25<br>end_index:&nbsp;26<br></td><td><a class=\"ProveItLink\" href=\"../../../../../core_expr_types/__pv_it/87b377c364a4602e9ce64fd43004741e2b6395d00/expr.ipynb\"><img src=\"../../../../../core_expr_types/__pv_it/87b377c364a4602e9ce64fd43004741e2b6395d00/expr.png\" style=\"display:inline;vertical-align:middle;\" /></a></td></tr>\n",
       "<tr><td>23</td><td>Operation</td><td>operator:&nbsp;27<br>operands:&nbsp;28<br></td><td><a class=\"ProveItLink\" href=\"../../../__pv_it/01ba1d20f332132ee56519cf1ccb820de0587b300/expr.ipynb\"><img src=\"../../../__pv_it/01ba1d20f332132ee56519cf1ccb820de0587b300/expr.png\" style=\"display:inline;vertical-align:middle;\" /></a></td></tr>\n",
       "<tr><td>24</td><td>Lambda</td><td>parameter:&nbsp;32<br>body:&nbsp;29<br></td><td><a class=\"ProveItLink\" href=\"../../../../../core_expr_types/__pv_it/4d6ce55953d3186b844d94fa964658034e386c2f0/expr.ipynb\"><img src=\"../../../../../core_expr_types/__pv_it/4d6ce55953d3186b844d94fa964658034e386c2f0/expr.png\" style=\"display:inline;vertical-align:middle;\" /></a></td></tr>\n",
       "<tr><td>25</td><td>Literal</td><td></td><td><a class=\"ProveItLink\" href=\"../../../../../number/numeral/__pv_it/f086f8c372bd40a2458306ddfdbb29f3dc6f63030/expr.ipynb\"><img src=\"../../../../../number/numeral/__pv_it/f086f8c372bd40a2458306ddfdbb29f3dc6f63030/expr.png\" style=\"display:inline;vertical-align:middle;\" /></a></td></tr>\n",
       "<tr><td>26</td><td>Variable</td><td></td><td><a class=\"ProveItLink\" href=\"../../../../../__pv_it/0c1c4cb515e0f4344b1ac06650f349123e526deb0/expr.ipynb\"><img src=\"../../../../../__pv_it/0c1c4cb515e0f4344b1ac06650f349123e526deb0/expr.png\" style=\"display:inline;vertical-align:middle;\" /></a></td></tr>\n",
       "<tr><td>27</td><td>Literal</td><td></td><td><a class=\"ProveItLink\" href=\"../../../../equality/__pv_it/e16d2caa26a16688b658bdb9c422caf4b84579e10/expr.ipynb\"><img src=\"../../../../equality/__pv_it/e16d2caa26a16688b658bdb9c422caf4b84579e10/expr.png\" style=\"display:inline;vertical-align:middle;\" /></a></td></tr>\n",
       "<tr><td>28</td><td>ExprTuple</td><td>30, 31</td><td><a class=\"ProveItLink\" href=\"../../../__pv_it/2f962deea8cf7307d9827c175bcd6bcf313ed5340/expr.ipynb\"><img src=\"../../../__pv_it/2f962deea8cf7307d9827c175bcd6bcf313ed5340/expr.png\" style=\"display:inline;vertical-align:middle;\" /></a></td></tr>\n",
       "<tr><td>29</td><td>IndexedVar</td><td>variable:&nbsp;33<br>index:&nbsp;32<br></td><td><a class=\"ProveItLink\" href=\"../../../../../core_expr_types/__pv_it/cbc5b13c7440e4f3ed730e7f45cdfc50ebbcda220/expr.ipynb\"><img src=\"../../../../../core_expr_types/__pv_it/cbc5b13c7440e4f3ed730e7f45cdfc50ebbcda220/expr.png\" style=\"display:inline;vertical-align:middle;\" /></a></td></tr>\n",
       "<tr><td>30</td><td>Variable</td><td></td><td><a class=\"ProveItLink\" href=\"../../../../../__pv_it/72df168d2bfb4e0140af90912ebf83b13772060b0/expr.ipynb\"><img src=\"../../../../../__pv_it/72df168d2bfb4e0140af90912ebf83b13772060b0/expr.png\" style=\"display:inline;vertical-align:middle;\" /></a></td></tr>\n",
       "<tr><td>31</td><td>IndexedVar</td><td>variable:&nbsp;33<br>index:&nbsp;34<br></td><td><a class=\"ProveItLink\" href=\"../../../__pv_it/ff6d639a0e8e08bbc7705e8ed140cca4a465ffb20/expr.ipynb\"><img src=\"../../../__pv_it/ff6d639a0e8e08bbc7705e8ed140cca4a465ffb20/expr.png\" style=\"display:inline;vertical-align:middle;\" /></a></td></tr>\n",
       "<tr><td>32</td><td>Variable</td><td></td><td><a class=\"ProveItLink\" href=\"../../../../../core_expr_types/__pv_it/1e653f789234b245ee7fea7caad998c139d617410/expr.ipynb\"><img src=\"../../../../../core_expr_types/__pv_it/1e653f789234b245ee7fea7caad998c139d617410/expr.png\" style=\"display:inline;vertical-align:middle;\" /></a></td></tr>\n",
       "<tr><td>33</td><td>Variable</td><td></td><td><a class=\"ProveItLink\" href=\"../../../../../__pv_it/c6e291955561f22a0e6708fd793ea93f1c7dbb5d0/expr.ipynb\"><img src=\"../../../../../__pv_it/c6e291955561f22a0e6708fd793ea93f1c7dbb5d0/expr.png\" style=\"display:inline;vertical-align:middle;\" /></a></td></tr>\n",
       "<tr><td>34</td><td>Variable</td><td></td><td><a class=\"ProveItLink\" href=\"../../../../../__pv_it/557ab5defdcd46aa58168b08767502985122cd490/expr.ipynb\"><img src=\"../../../../../__pv_it/557ab5defdcd46aa58168b08767502985122cd490/expr.png\" style=\"display:inline;vertical-align:middle;\" /></a></td></tr>\n",
       "</table>\n"
      ],
      "text/plain": [
       "0. n -> {forall_{x, y_{1}, ..y_{_a}.., y_{n}} ((x in {y_{1}, ..y_{_a}.., y_{n}}) = ((x = y_{1}) or ..(x = y_{i}).. or (x = y_{n}))) if n in Naturals.\n",
       "   core type: Lambda\n",
       "   parameter: 26\n",
       "   body: 1\n",
       "1. {forall_{x, y_{1}, ..y_{_a}.., y_{n}} ((x in {y_{1}, ..y_{_a}.., y_{n}}) = ((x = y_{1}) or ..(x = y_{i}).. or (x = y_{n}))) if n in Naturals.\n",
       "   core type: Conditional\n",
       "   value: 2\n",
       "   condition: 3\n",
       "2. forall_{x, y_{1}, ..y_{_a}.., y_{n}} ((x in {y_{1}, ..y_{_a}.., y_{n}}) = ((x = y_{1}) or ..(x = y_{i}).. or (x = y_{n})))\n",
       "   core type: Operation\n",
       "   operator: 4\n",
       "   operand: 5\n",
       "3. n in Naturals\n",
       "   core type: Operation\n",
       "   operator: 13\n",
       "   operands: 6\n",
       "4. forall\n",
       "   core type: Literal\n",
       "   sub-expressions: \n",
       "5. (x, y_{1}, ..y_{_a}.., y_{n}) -> ((x in {y_{1}, ..y_{_a}.., y_{n}}) = ((x = y_{1}) or ..(x = y_{i}).. or (x = y_{n})))\n",
       "   core type: Lambda\n",
       "   parameters: 7\\n   body: 8\n",
       "6. (n, Naturals)\n",
       "   core type: ExprTuple\n",
       "   sub-expressions: 26, 9\n",
       "7. (x, y_{1}, ..y_{_a}.., y_{n})\n",
       "   core type: ExprTuple\n",
       "   sub-expressions: 30, 22\n",
       "8. (x in {y_{1}, ..y_{_a}.., y_{n}}) = ((x = y_{1}) or ..(x = y_{i}).. or (x = y_{n}))\n",
       "   core type: Operation\n",
       "   operator: 27\n",
       "   operands: 10\n",
       "9. Naturals\n",
       "   core type: Literal\n",
       "   sub-expressions: \n",
       "10. (x in {y_{1}, ..y_{_a}.., y_{n}}, (x = y_{1}) or ..(x = y_{i}).. or (x = y_{n}))\n",
       "    core type: ExprTuple\n",
       "    sub-expressions: 11, 12\n",
       "11. x in {y_{1}, ..y_{_a}.., y_{n}}\n",
       "    core type: Operation\n",
       "    operator: 13\n",
       "    operands: 14\n",
       "12. (x = y_{1}) or ..(x = y_{i}).. or (x = y_{n})\n",
       "    core type: Operation\n",
       "    operator: 15\n",
       "    operands: 16\n",
       "13. in\n",
       "    core type: Literal\n",
       "    sub-expressions: \n",
       "14. (x, {y_{1}, ..y_{_a}.., y_{n}})\n",
       "    core type: ExprTuple\n",
       "    sub-expressions: 30, 17\n",
       "15. or\n",
       "    core type: Literal\n",
       "    sub-expressions: \n",
       "16. (x = y_{1}, ..x = y_{i}.., x = y_{n})\n",
       "    core type: ExprTuple\n",
       "    sub-expressions: 18\n",
       "17. {y_{1}, ..y_{_a}.., y_{n}}\n",
       "    core type: Operation\n",
       "    operator: 19\n",
       "    operands: 20\n",
       "18. (x = y_{1}), ..(x = y_{i}).., (x = y_{n})\n",
       "    core type: ExprRange\n",
       "    lambda_map: 21\n",
       "    start_index: 25\n",
       "    end_index: 26\n",
       "19. Set\n",
       "    core type: Literal\n",
       "    sub-expressions: \n",
       "20. (y_{1}, ..y_{_a}.., y_{n})\n",
       "    core type: ExprTuple\n",
       "    sub-expressions: 22\n",
       "21. i -> (x = y_{i})\n",
       "    core type: Lambda\n",
       "    parameter: 34\n",
       "    body: 23\n",
       "22. y_{1}, ..y_{_a}.., y_{n}\n",
       "    core type: ExprRange\n",
       "    lambda_map: 24\n",
       "    start_index: 25\n",
       "    end_index: 26\n",
       "23. x = y_{i}\n",
       "    core type: Operation\n",
       "    operator: 27\n",
       "    operands: 28\n",
       "24. _a -> y_{_a}\n",
       "    core type: Lambda\n",
       "    parameter: 32\n",
       "    body: 29\n",
       "25. 1\n",
       "    core type: Literal\n",
       "    sub-expressions: \n",
       "26. n\n",
       "    core type: Variable\n",
       "    sub-expressions: \n",
       "27. =\n",
       "    core type: Literal\n",
       "    sub-expressions: \n",
       "28. (x, y_{i})\n",
       "    core type: ExprTuple\n",
       "    sub-expressions: 30, 31\n",
       "29. y_{_a}\n",
       "    core type: IndexedVar\n",
       "variable: 33\n",
       "index: 32\n",
       "30. x\n",
       "    core type: Variable\n",
       "    sub-expressions: \n",
       "31. y_{i}\n",
       "    core type: IndexedVar\n",
       "variable: 33\n",
       "index: 34\n",
       "32. _a\n",
       "    core type: Variable\n",
       "    sub-expressions: \n",
       "33. y\n",
       "    core type: Variable\n",
       "    sub-expressions: \n",
       "34. i\n",
       "    core type: Variable\n",
       "    sub-expressions: "
      ]
     },
     "execution_count": 5,
     "metadata": {},
     "output_type": "execute_result"
    }
   ],
   "source": [
    "# display the expression information\n",
    "expr.exprInfo()"
   ]
  },
  {
   "cell_type": "code",
   "execution_count": null,
   "metadata": {},
   "outputs": [],
   "source": []
  }
 ],
 "metadata": {
  "kernelspec": {
   "display_name": "Python 3",
   "language": "python",
   "name": "python3"
  },
  "language_info": {
   "codemirror_mode": {
    "name": "ipython",
    "version": 3
   },
   "file_extension": ".py",
   "mimetype": "text/x-python",
   "name": "python",
   "nbconvert_exporter": "python",
   "pygments_lexer": "ipython3",
   "version": "3.7.3"
  }
 },
 "nbformat": 4,
 "nbformat_minor": 1
}
