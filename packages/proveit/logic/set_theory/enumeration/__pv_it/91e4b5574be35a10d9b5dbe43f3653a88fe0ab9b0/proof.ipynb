{
 "cells": [
  {
   "cell_type": "markdown",
   "metadata": {},
   "source": [
    "Show the Proof\n",
    "========"
   ]
  },
  {
   "cell_type": "code",
   "execution_count": 1,
   "metadata": {},
   "outputs": [
    {
     "data": {
      "text/html": [
       "<table><tr><th>&nbsp;</th><th>step type</th><th>requirements</th><th>statement</th></tr>\n",
       "<tr><td><a name=\"proveit.logic.set_theory.enumeration.91e4b5574be35a10d9b5dbe43f3653a88fe0ab9b0_step0\">0</a></td><td>generalizaton</td><td><a href=\"#proveit.logic.set_theory.enumeration.91e4b5574be35a10d9b5dbe43f3653a88fe0ab9b0_step1\">1</a></td><td><span style=\"font-size:20px;\"> <a class=\"ProveItLink\" href=\"proof.ipynb\" style=\"text-decoration: none\">&#x22A2;&nbsp;</a><a class=\"ProveItLink\" href=\"../b162742f112e7d864af6126a465095809c23939d0/expr.ipynb\"><img src=\"../b162742f112e7d864af6126a465095809c23939d0/expr.png\" style=\"display:inline;vertical-align:middle;\" /></a></span></td></tr>\n",
       "<tr><td><a name=\"proveit.logic.set_theory.enumeration.91e4b5574be35a10d9b5dbe43f3653a88fe0ab9b0_step1\">1</a></td><td>instantiation</td><td><a href=\"#proveit.logic.set_theory.enumeration.91e4b5574be35a10d9b5dbe43f3653a88fe0ab9b0_step2\">2</a>, <a href=\"#proveit.logic.set_theory.enumeration.91e4b5574be35a10d9b5dbe43f3653a88fe0ab9b0_step3\">3</a>, <a href=\"#proveit.logic.set_theory.enumeration.91e4b5574be35a10d9b5dbe43f3653a88fe0ab9b0_step4\">4</a></td><td><span style=\"font-size:20px;\"><a class=\"ProveItLink\" href=\"../d2b93014ee07bfd1be6d5d82e9420145de66a64d0/expr.ipynb\"><img src=\"../d2b93014ee07bfd1be6d5d82e9420145de66a64d0/expr.png\" style=\"display:inline;vertical-align:middle;\" /></a> <a class=\"ProveItLink\" href=\"../0a41cb612cc3fc362a55ccf5c8b229885551a2dd0/proof.ipynb\" style=\"text-decoration: none\">&#x22A2;&nbsp;</a><a class=\"ProveItLink\" href=\"../eb652c884b84609529ec8040b1f89ec5071d42910/expr.ipynb\"><img src=\"../eb652c884b84609529ec8040b1f89ec5071d42910/expr.png\" style=\"display:inline;vertical-align:middle;\" /></a></span></td></tr>\n",
       "<tr><td>&nbsp;</td><td colspan=4 style=\"text-align:left\"><span style=\"font-size:20px;\"><a class=\"ProveItLink\" href=\"../0b28339a9470b3064675e3d630fe626bc057a2440/expr.ipynb\"><img src=\"../0b28339a9470b3064675e3d630fe626bc057a2440/expr.png\" style=\"display:inline;vertical-align:middle;\" /></a> : <a class=\"ProveItLink\" href=\"../03f8e67701db795510327e92992be2e32d3eb14e0/expr.ipynb\"><img src=\"../03f8e67701db795510327e92992be2e32d3eb14e0/expr.png\" style=\"display:inline;vertical-align:middle;\" /></a>, <a class=\"ProveItLink\" href=\"../../../../../__pv_it/72df168d2bfb4e0140af90912ebf83b13772060b0/expr.ipynb\"><img src=\"../../../../../__pv_it/72df168d2bfb4e0140af90912ebf83b13772060b0/expr.png\" style=\"display:inline;vertical-align:middle;\" /></a> : <a class=\"ProveItLink\" href=\"../2614a5f4f0b31a8f904bc24ba1b6498466377a010/expr.ipynb\"><img src=\"../2614a5f4f0b31a8f904bc24ba1b6498466377a010/expr.png\" style=\"display:inline;vertical-align:middle;\" /></a>, <a class=\"ProveItLink\" href=\"../../../../../__pv_it/c6e291955561f22a0e6708fd793ea93f1c7dbb5d0/expr.ipynb\"><img src=\"../../../../../__pv_it/c6e291955561f22a0e6708fd793ea93f1c7dbb5d0/expr.png\" style=\"display:inline;vertical-align:middle;\" /></a> : <a class=\"ProveItLink\" href=\"../67fe26e9a363c5cce332bbfe877e3f89d271606e0/expr.ipynb\"><img src=\"../67fe26e9a363c5cce332bbfe877e3f89d271606e0/expr.png\" style=\"display:inline;vertical-align:middle;\" /></a></span></td></tr><tr><td><a name=\"proveit.logic.set_theory.enumeration.91e4b5574be35a10d9b5dbe43f3653a88fe0ab9b0_step2\">2</a></td><td>theorem</td><td></td><td><span style=\"font-size:20px;\"> <a class=\"ProveItLink\" href=\"../../../../equality/_proofs_/subLeftSideInto.ipynb\" style=\"text-decoration: none\">&#x22A2;&nbsp;</a><a class=\"ProveItLink\" href=\"../5b4d85ee4f1ddf194c06c7ba0ff03c2aad49e1590/expr.ipynb\"><img src=\"../5b4d85ee4f1ddf194c06c7ba0ff03c2aad49e1590/expr.png\" style=\"display:inline;vertical-align:middle;\" /></a></span></td></tr>\n",
       "<tr><td>&nbsp;</td><td colspan=4 style-\"text-align:left\"><a class=\"ProveItLink\" href=\"../../../../equality/_proofs_/subLeftSideInto.ipynb\">proveit.logic.equality.subLeftSideInto</a></td></tr><tr><td><a name=\"proveit.logic.set_theory.enumeration.91e4b5574be35a10d9b5dbe43f3653a88fe0ab9b0_step3\">3</a></td><td>instantiation</td><td><a href=\"#proveit.logic.set_theory.enumeration.91e4b5574be35a10d9b5dbe43f3653a88fe0ab9b0_step5\">5</a>, <a href=\"#proveit.logic.set_theory.enumeration.91e4b5574be35a10d9b5dbe43f3653a88fe0ab9b0_step6\">6</a></td><td><span style=\"font-size:20px;\"><a class=\"ProveItLink\" href=\"../d2b93014ee07bfd1be6d5d82e9420145de66a64d0/expr.ipynb\"><img src=\"../d2b93014ee07bfd1be6d5d82e9420145de66a64d0/expr.png\" style=\"display:inline;vertical-align:middle;\" /></a> <a class=\"ProveItLink\" href=\"../e0af9122b6c5d0172b4c5e7c17fc5660c3668cde0/proof.ipynb\" style=\"text-decoration: none\">&#x22A2;&nbsp;</a><a class=\"ProveItLink\" href=\"../36e98f484e1a496152d49e050d293b169a841d9b0/expr.ipynb\"><img src=\"../36e98f484e1a496152d49e050d293b169a841d9b0/expr.png\" style=\"display:inline;vertical-align:middle;\" /></a></span></td></tr>\n",
       "<tr><td>&nbsp;</td><td colspan=4 style=\"text-align:left\"><span style=\"font-size:20px;\"><a class=\"ProveItLink\" href=\"../../../../../__pv_it/d3792d0d8642fdf1cd2a3a9b32c673ee13653de00/expr.ipynb\"><img src=\"../../../../../__pv_it/d3792d0d8642fdf1cd2a3a9b32c673ee13653de00/expr.png\" style=\"display:inline;vertical-align:middle;\" /></a> : <a class=\"ProveItLink\" href=\"../67fe26e9a363c5cce332bbfe877e3f89d271606e0/expr.ipynb\"><img src=\"../67fe26e9a363c5cce332bbfe877e3f89d271606e0/expr.png\" style=\"display:inline;vertical-align:middle;\" /></a></span></td></tr><tr><td><a name=\"proveit.logic.set_theory.enumeration.91e4b5574be35a10d9b5dbe43f3653a88fe0ab9b0_step4\">4</a></td><td>instantiation</td><td><a href=\"#proveit.logic.set_theory.enumeration.91e4b5574be35a10d9b5dbe43f3653a88fe0ab9b0_step7\">7</a></td><td><span style=\"font-size:20px;\"> <a class=\"ProveItLink\" href=\"../da7e6b6b4b82917e039c3f007480c00197ef69900/proof.ipynb\" style=\"text-decoration: none\">&#x22A2;&nbsp;</a><a class=\"ProveItLink\" href=\"../4e3c184d101d13bd4348af0dd3d53dc158a9687b0/expr.ipynb\"><img src=\"../4e3c184d101d13bd4348af0dd3d53dc158a9687b0/expr.png\" style=\"display:inline;vertical-align:middle;\" /></a></span></td></tr>\n",
       "<tr><td>&nbsp;</td><td colspan=4 style=\"text-align:left\"><span style=\"font-size:20px;\"><a class=\"ProveItLink\" href=\"../../../../../__pv_it/72df168d2bfb4e0140af90912ebf83b13772060b0/expr.ipynb\"><img src=\"../../../../../__pv_it/72df168d2bfb4e0140af90912ebf83b13772060b0/expr.png\" style=\"display:inline;vertical-align:middle;\" /></a> : <a class=\"ProveItLink\" href=\"../../../../../__pv_it/72df168d2bfb4e0140af90912ebf83b13772060b0/expr.ipynb\"><img src=\"../../../../../__pv_it/72df168d2bfb4e0140af90912ebf83b13772060b0/expr.png\" style=\"display:inline;vertical-align:middle;\" /></a>, <a class=\"ProveItLink\" href=\"../../../../../__pv_it/c6e291955561f22a0e6708fd793ea93f1c7dbb5d0/expr.ipynb\"><img src=\"../../../../../__pv_it/c6e291955561f22a0e6708fd793ea93f1c7dbb5d0/expr.png\" style=\"display:inline;vertical-align:middle;\" /></a> : <a class=\"ProveItLink\" href=\"../../../../../__pv_it/c6e291955561f22a0e6708fd793ea93f1c7dbb5d0/expr.ipynb\"><img src=\"../../../../../__pv_it/c6e291955561f22a0e6708fd793ea93f1c7dbb5d0/expr.png\" style=\"display:inline;vertical-align:middle;\" /></a></span></td></tr><tr><td><a name=\"proveit.logic.set_theory.enumeration.91e4b5574be35a10d9b5dbe43f3653a88fe0ab9b0_step5\">5</a></td><td>axiom</td><td></td><td><span style=\"font-size:20px;\"> <a class=\"ProveItLink\" href=\"../../../../boolean/negation/_axioms_.ipynb#negationElim\" style=\"text-decoration: none\">&#x22A2;&nbsp;</a><a class=\"ProveItLink\" href=\"../dd782b38cd032097ed9d1031e5230a177dba3b720/expr.ipynb\"><img src=\"../dd782b38cd032097ed9d1031e5230a177dba3b720/expr.png\" style=\"display:inline;vertical-align:middle;\" /></a></span></td></tr>\n",
       "<tr><td>&nbsp;</td><td colspan=4 style-\"text-align:left\"><a class=\"ProveItLink\" href=\"../../../../boolean/negation/_axioms_.ipynb#negationElim\">proveit.logic.boolean.negation.negationElim</a></td></tr><tr><td><a name=\"proveit.logic.set_theory.enumeration.91e4b5574be35a10d9b5dbe43f3653a88fe0ab9b0_step6\">6</a></td><td>instantiation</td><td><a href=\"#proveit.logic.set_theory.enumeration.91e4b5574be35a10d9b5dbe43f3653a88fe0ab9b0_step8\">8</a>, <a href=\"#proveit.logic.set_theory.enumeration.91e4b5574be35a10d9b5dbe43f3653a88fe0ab9b0_step9\">9</a></td><td><span style=\"font-size:20px;\"><a class=\"ProveItLink\" href=\"../d2b93014ee07bfd1be6d5d82e9420145de66a64d0/expr.ipynb\"><img src=\"../d2b93014ee07bfd1be6d5d82e9420145de66a64d0/expr.png\" style=\"display:inline;vertical-align:middle;\" /></a> <a class=\"ProveItLink\" href=\"../fa638a05530a94bd68989e7326c83c27f3911b8d0/proof.ipynb\" style=\"text-decoration: none\">&#x22A2;&nbsp;</a><a class=\"ProveItLink\" href=\"../59991d6f4f6a6fee66f719ee8735e568d95f12220/expr.ipynb\"><img src=\"../59991d6f4f6a6fee66f719ee8735e568d95f12220/expr.png\" style=\"display:inline;vertical-align:middle;\" /></a></span></td></tr>\n",
       "<tr><td>&nbsp;</td><td colspan=4 style=\"text-align:left\"><span style=\"font-size:20px;\"><a class=\"ProveItLink\" href=\"../../../../../__pv_it/72df168d2bfb4e0140af90912ebf83b13772060b0/expr.ipynb\"><img src=\"../../../../../__pv_it/72df168d2bfb4e0140af90912ebf83b13772060b0/expr.png\" style=\"display:inline;vertical-align:middle;\" /></a> : <a class=\"ProveItLink\" href=\"../../../../../__pv_it/72df168d2bfb4e0140af90912ebf83b13772060b0/expr.ipynb\"><img src=\"../../../../../__pv_it/72df168d2bfb4e0140af90912ebf83b13772060b0/expr.png\" style=\"display:inline;vertical-align:middle;\" /></a>, <a class=\"ProveItLink\" href=\"../../../../../__pv_it/c6e291955561f22a0e6708fd793ea93f1c7dbb5d0/expr.ipynb\"><img src=\"../../../../../__pv_it/c6e291955561f22a0e6708fd793ea93f1c7dbb5d0/expr.png\" style=\"display:inline;vertical-align:middle;\" /></a> : <a class=\"ProveItLink\" href=\"../../../../../__pv_it/c6e291955561f22a0e6708fd793ea93f1c7dbb5d0/expr.ipynb\"><img src=\"../../../../../__pv_it/c6e291955561f22a0e6708fd793ea93f1c7dbb5d0/expr.png\" style=\"display:inline;vertical-align:middle;\" /></a></span></td></tr><tr><td><a name=\"proveit.logic.set_theory.enumeration.91e4b5574be35a10d9b5dbe43f3653a88fe0ab9b0_step7\">7</a></td><td>theorem</td><td></td><td><span style=\"font-size:20px;\"> <a class=\"ProveItLink\" href=\"../../_proofs_/singletonDef.ipynb\" style=\"text-decoration: none\">&#x22A2;&nbsp;</a><a class=\"ProveItLink\" href=\"../300a4a51522dc8adb6872803a231506fef43c8700/expr.ipynb\"><img src=\"../300a4a51522dc8adb6872803a231506fef43c8700/expr.png\" style=\"display:inline;vertical-align:middle;\" /></a></span></td></tr>\n",
       "<tr><td>&nbsp;</td><td colspan=4 style-\"text-align:left\"><a class=\"ProveItLink\" href=\"../../_proofs_/singletonDef.ipynb\">proveit.logic.set_theory.enumeration.singletonDef</a></td></tr><tr><td><a name=\"proveit.logic.set_theory.enumeration.91e4b5574be35a10d9b5dbe43f3653a88fe0ab9b0_step8\">8</a></td><td>theorem</td><td></td><td><span style=\"font-size:20px;\"> <a class=\"ProveItLink\" href=\"../../../../equality/_proofs_/unfoldNotEquals.ipynb\" style=\"text-decoration: none\">&#x22A2;&nbsp;</a><a class=\"ProveItLink\" href=\"../4bd9b6e4b7b590483be6cc9ff19c5e88c5d2ef0f0/expr.ipynb\"><img src=\"../4bd9b6e4b7b590483be6cc9ff19c5e88c5d2ef0f0/expr.png\" style=\"display:inline;vertical-align:middle;\" /></a></span></td></tr>\n",
       "<tr><td>&nbsp;</td><td colspan=4 style-\"text-align:left\"><a class=\"ProveItLink\" href=\"../../../../equality/_proofs_/unfoldNotEquals.ipynb\">proveit.logic.equality.unfoldNotEquals</a></td></tr><tr><td><a name=\"proveit.logic.set_theory.enumeration.91e4b5574be35a10d9b5dbe43f3653a88fe0ab9b0_step9\">9</a></td><td>assumption</td><td></td><td><span style=\"font-size:20px;\"><a class=\"ProveItLink\" href=\"../d2b93014ee07bfd1be6d5d82e9420145de66a64d0/expr.ipynb\"><img src=\"../d2b93014ee07bfd1be6d5d82e9420145de66a64d0/expr.png\" style=\"display:inline;vertical-align:middle;\" /></a> <a class=\"ProveItLink\" href=\"../a87fd1e441cbb53fe0e18ca4de7ab80b5a73c0370/proof.ipynb\" style=\"text-decoration: none\">&#x22A2;&nbsp;</a><a class=\"ProveItLink\" href=\"../91739890e6b95281778e0648d72a421a410205670/expr.ipynb\"><img src=\"../91739890e6b95281778e0648d72a421a410205670/expr.png\" style=\"display:inline;vertical-align:middle;\" /></a></span></td></tr>\n",
       "</table>"
      ],
      "text/plain": [
       "<proveit._core_.proof._ShowProof at 0x7f5b8efa32e8>"
      ]
     },
     "execution_count": 1,
     "metadata": {},
     "output_type": "execute_result"
    }
   ],
   "source": [
    "import proveit\n",
    "# Automation is not needed when only showing a stored proof:\n",
    "proveit.defaults.automation = False # This will speed things up.\n",
    "proveit.defaults.inline_pngs = False # Makes files smaller.\n",
    "%show_proof"
   ]
  },
  {
   "cell_type": "code",
   "execution_count": null,
   "metadata": {},
   "outputs": [],
   "source": []
  }
 ],
 "metadata": {
  "kernelspec": {
   "display_name": "Python 3",
   "language": "python",
   "name": "python3"
  },
  "language_info": {
   "codemirror_mode": {
    "name": "ipython",
    "version": 3
   },
   "file_extension": ".py",
   "mimetype": "text/x-python",
   "name": "python",
   "nbconvert_exporter": "python",
   "pygments_lexer": "ipython3",
   "version": "3.7.3"
  }
 },
 "nbformat": 4,
 "nbformat_minor": 1
}
