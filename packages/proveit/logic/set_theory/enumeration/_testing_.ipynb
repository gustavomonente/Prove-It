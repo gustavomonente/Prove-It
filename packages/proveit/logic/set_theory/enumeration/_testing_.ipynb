{
 "cells": [
  {
   "cell_type": "markdown",
   "metadata": {},
   "source": [
    "# Testing Set-related Theorems and Methods\n",
    "## Including: `permutationSimple`, `permutationGeneral`, `deduceEnumSubsetEq`, and `deduceEnumProperSubset`"
   ]
  },
  {
   "cell_type": "code",
   "execution_count": null,
   "metadata": {},
   "outputs": [],
   "source": [
    "import proveit\n",
    "from proveit._common_ import a, b, c, d, e\n",
    "from proveit.logic import Set"
   ]
  },
  {
   "cell_type": "markdown",
   "metadata": {},
   "source": [
    "## Creating some example Sets for use in testing"
   ]
  },
  {
   "cell_type": "code",
   "execution_count": null,
   "metadata": {},
   "outputs": [],
   "source": [
    "S0, S1, S2, S3, S4, S5 = (\n",
    "    Set(), Set(a), Set(a, b), Set(a, b, c),\n",
    "    Set(a, b, c, d), Set(a, b, c, d, e))"
   ]
  },
  {
   "cell_type": "code",
   "execution_count": null,
   "metadata": {},
   "outputs": [],
   "source": [
    "set_of_sets = Set(Set(a, b), Set(c, d))"
   ]
  },
  {
   "cell_type": "code",
   "execution_count": null,
   "metadata": {},
   "outputs": [],
   "source": [
    "multi_set_3_2_1 = Set(a, b, a, b, a, c)"
   ]
  },
  {
   "cell_type": "code",
   "execution_count": null,
   "metadata": {},
   "outputs": [],
   "source": [
    "multi_set_3_1_1 = Set(a, b, a, a, c)"
   ]
  },
  {
   "cell_type": "markdown",
   "metadata": {},
   "source": [
    "## Testing EnumSet.permutationSimple()"
   ]
  },
  {
   "cell_type": "code",
   "execution_count": null,
   "metadata": {},
   "outputs": [],
   "source": [
    "# testing trivial permutation\n",
    "S3.permutationSimple(1, 1)"
   ]
  },
  {
   "cell_type": "code",
   "execution_count": null,
   "metadata": {},
   "outputs": [],
   "source": [
    "# testing simple binary permutation thm\n",
    "S3.permutationSimple(1, 0)"
   ]
  },
  {
   "cell_type": "code",
   "execution_count": null,
   "metadata": {},
   "outputs": [],
   "source": [
    "# testing simple binary permutation thm on 2-elem set where\n",
    "# elements are themselves sets\n",
    "set_of_sets.permutationSimple()"
   ]
  },
  {
   "cell_type": "code",
   "execution_count": null,
   "metadata": {},
   "outputs": [],
   "source": [
    "S4.permutationSimple(0, 1)"
   ]
  },
  {
   "cell_type": "code",
   "execution_count": null,
   "metadata": {},
   "outputs": [],
   "source": [
    "S5.permutationSimple(0, -1)"
   ]
  },
  {
   "cell_type": "markdown",
   "metadata": {},
   "source": [
    "## Testing EnumSet.permutationGeneral()"
   ]
  },
  {
   "cell_type": "markdown",
   "metadata": {},
   "source": [
    "### *Testing Verification of Input Params*"
   ]
  },
  {
   "cell_type": "code",
   "execution_count": null,
   "metadata": {},
   "outputs": [],
   "source": [
    "# Testing specification of permutation: need to specify new_order or cycles\n",
    "try:\n",
    "    S3.permutationGeneral()\n",
    "    assert False, \"Expecting an IndexError; should not make it to this point\"\n",
    "except ValueError as e:\n",
    "    print(\"EXPECTED ERROR (ValueError): \", e)"
   ]
  },
  {
   "cell_type": "code",
   "execution_count": null,
   "metadata": {},
   "outputs": [],
   "source": [
    "# Testing specification of permutation: need to specify new_order OR cycles,\n",
    "# but not both new_order and cycles\n",
    "try:\n",
    "    S4.permutationGeneral(new_order = [1, 2, 3, 0], cycles = [(1, 2, 3, 0)])\n",
    "    assert False, \"Expecting an IndexError; should not make it to this point\"\n",
    "except ValueError as e:\n",
    "    print(\"EXPECTED ERROR (ValueError): \", e)"
   ]
  },
  {
   "cell_type": "code",
   "execution_count": null,
   "metadata": {},
   "outputs": [],
   "source": [
    "# Testing new_order specification of permutation: correct number of indices\n",
    "# still requires indices to be valid\n",
    "# Using S4 = {a, b, c, d}\n",
    "try:\n",
    "    S4.permutationGeneral(new_order = [1, 2, 4, 0])\n",
    "    assert False, \"Expecting an IndexError; should not make it to this point\"\n",
    "except IndexError as e:\n",
    "    print(\"EXPECTED ERROR (IndexError): \", e)"
   ]
  },
  {
   "cell_type": "code",
   "execution_count": null,
   "metadata": {},
   "outputs": [],
   "source": [
    "# Testing new_order specification of permutation: indices should be valid size set\n",
    "# Using S4 = {a, b, c, d}\n",
    "try:\n",
    "    S4.permutationGeneral(new_order = [1, 2, 4, 0, 2])\n",
    "    assert False, \"Expecting an IndexError; should not make it to this point\"\n",
    "except ValueError as e:\n",
    "    print(\"EXPECTED ERROR (ValueError): \", e)"
   ]
  },
  {
   "cell_type": "code",
   "execution_count": null,
   "metadata": {},
   "outputs": [],
   "source": [
    "# Testing new_order specification of permutation: indices include all from 0 to n-1\n",
    "# Using S4 = {a, b, c, d}\n",
    "try:\n",
    "    S4.permutationGeneral(new_order = [1, 0, 3])\n",
    "    assert False, \"Expecting an IndexError; should not make it to this point\"\n",
    "except ValueError as e:\n",
    "    print(\"EXPECTED ERROR (ValueError): \", e)"
   ]
  },
  {
   "cell_type": "code",
   "execution_count": null,
   "metadata": {},
   "outputs": [],
   "source": [
    "# Testing cycles specification of permutation: indices should be valid\n",
    "try:\n",
    "    S4.permutationGeneral(cycles = [(1, 2, 4),(0,)])\n",
    "    assert False, \"Expecting an IndexError; should not make it to this point\"\n",
    "except IndexError as e:\n",
    "    print(\"EXPECTED ERROR (IndexError): \", e)"
   ]
  },
  {
   "cell_type": "code",
   "execution_count": null,
   "metadata": {},
   "outputs": [],
   "source": [
    "# Testing cycles specification of permutation: indices should not repeat\n",
    "try:\n",
    "    S4.permutationGeneral(cycles = [(1, 2, 1),(0,)])\n",
    "    assert False, \"Expecting an IndexError; should not make it to this point\"\n",
    "except IndexError as e:\n",
    "    print(\"EXPECTED ERROR (IndexError): \", e)"
   ]
  },
  {
   "cell_type": "markdown",
   "metadata": {},
   "source": [
    "### *Testing new_order Input (list of indices)*"
   ]
  },
  {
   "cell_type": "code",
   "execution_count": null,
   "metadata": {},
   "outputs": [],
   "source": [
    "# Binary permutation, taking {a, b} —> {b, a}\n",
    "S2.permutationGeneral([1, 0])"
   ]
  },
  {
   "cell_type": "code",
   "execution_count": null,
   "metadata": {},
   "outputs": [],
   "source": [
    "# Trivial permutation, taking {a, b, c, d} —> {a, b, c, d}\n",
    "S4.permutationGeneral(new_order=[0, 1, 2, 3])"
   ]
  },
  {
   "cell_type": "code",
   "execution_count": null,
   "metadata": {},
   "outputs": [],
   "source": [
    "# Taking {a, b, c, d} —> {a, c, d, b}\n",
    "S4.permutationGeneral(new_order=[0, 2, 3, 1])"
   ]
  },
  {
   "cell_type": "code",
   "execution_count": null,
   "metadata": {},
   "outputs": [],
   "source": [
    "# Special case: permutation of the empty set\n",
    "S0.permutationGeneral([])"
   ]
  },
  {
   "cell_type": "code",
   "execution_count": null,
   "metadata": {},
   "outputs": [],
   "source": [
    "# Taking {a, b, c, d, e} to {a, e, c, d, b}\n",
    "S5permutation01 = S5.permutationGeneral([0, 4, 2, 3, 1])"
   ]
  },
  {
   "cell_type": "code",
   "execution_count": null,
   "metadata": {},
   "outputs": [],
   "source": [
    "# A peek at the proof\n",
    "S5permutation01.proof()"
   ]
  },
  {
   "cell_type": "markdown",
   "metadata": {},
   "source": [
    "### *Testing cycles input (list of cycle tuples of indices)*"
   ]
  },
  {
   "cell_type": "code",
   "execution_count": null,
   "metadata": {},
   "outputs": [],
   "source": [
    "# Taking {a, b, c, d, e} to {a, e, c, d, b} via cycles\n",
    "S5permutation01 = S5.permutationGeneral(cycles = [(0,), (1, 4), (2,), (3,)])"
   ]
  },
  {
   "cell_type": "code",
   "execution_count": null,
   "metadata": {},
   "outputs": [],
   "source": [
    "# Trivial permutation, taking {a, b, c, d, e} to {a, b, c, d, e} via cycles\n",
    "S5permutation01 = S5.permutationGeneral(cycles = [(0,), (1,), (2,), (3,), (4,)])"
   ]
  },
  {
   "cell_type": "code",
   "execution_count": null,
   "metadata": {},
   "outputs": [],
   "source": [
    "# Taking {a, b, c, d, e} to {a, e, b, c, d} via a 4-cycle\n",
    "# (notice the omission of the 1-cycle for elem at index 0)\n",
    "S5permutation02 = S5.permutationGeneral(cycles = [(1, 4, 3, 2)])"
   ]
  },
  {
   "cell_type": "code",
   "execution_count": null,
   "metadata": {},
   "outputs": [],
   "source": [
    "# Taking {a, b, c, d, e} to {c, a, b, e, d} via combo of 2 cycles\n",
    "S5permutation03 = S5.permutationGeneral(cycles = [(0, 2, 1), (3, 4)])"
   ]
  },
  {
   "cell_type": "code",
   "execution_count": null,
   "metadata": {},
   "outputs": [],
   "source": [
    "# Special case: cycle-specified permutation of the empty set\n",
    "S0.permutationGeneral(cycles = [()])"
   ]
  },
  {
   "cell_type": "markdown",
   "metadata": {},
   "source": [
    "## Testing SetEquiv methods"
   ]
  },
  {
   "cell_type": "markdown",
   "metadata": {},
   "source": [
    "#### *Why are the assumptions not eventually eliminated?*"
   ]
  },
  {
   "cell_type": "code",
   "execution_count": null,
   "metadata": {},
   "outputs": [],
   "source": [
    "# recall S5permutation02 from above:\n",
    "S5permutation02"
   ]
  },
  {
   "cell_type": "code",
   "execution_count": null,
   "metadata": {},
   "outputs": [],
   "source": [
    "# recall S5permutation03 from above:\n",
    "S5permutation03"
   ]
  },
  {
   "cell_type": "code",
   "execution_count": null,
   "metadata": {},
   "outputs": [],
   "source": [
    "# use one set equivalence to substitute into another\n",
    "SubConclusion = S5permutation02.subRightSideInto(S5permutation03)"
   ]
  },
  {
   "cell_type": "code",
   "execution_count": null,
   "metadata": {},
   "outputs": [],
   "source": [
    "SubConclusion.proof()"
   ]
  },
  {
   "cell_type": "markdown",
   "metadata": {},
   "source": [
    "## Testing Set.deduceEnumSubsetEq()"
   ]
  },
  {
   "cell_type": "code",
   "execution_count": null,
   "metadata": {},
   "outputs": [],
   "source": [
    "S4"
   ]
  },
  {
   "cell_type": "code",
   "execution_count": null,
   "metadata": {},
   "outputs": [],
   "source": [
    "# deduce that {b, d, c} is an improper subset of {a, b, c, d}\n",
    "S4.deduceEnumSubsetEq(subset_indices=[1, 3, 2])"
   ]
  },
  {
   "cell_type": "code",
   "execution_count": null,
   "metadata": {},
   "outputs": [],
   "source": [
    "S5"
   ]
  },
  {
   "cell_type": "code",
   "execution_count": null,
   "metadata": {},
   "outputs": [],
   "source": [
    "# deduce that {e, c} is an improper subset of {a, b, c, d, e}\n",
    "exampleSubsetKT = S5.deduceEnumSubsetEq(subset_indices=[4, 2])"
   ]
  },
  {
   "cell_type": "code",
   "execution_count": null,
   "metadata": {},
   "outputs": [],
   "source": [
    "# look at the proof\n",
    "exampleSubsetKT.proof()"
   ]
  },
  {
   "cell_type": "code",
   "execution_count": null,
   "metadata": {},
   "outputs": [],
   "source": [
    "# deduce that {e, c} is an improper subset of {a, b, c, d, e}, using subset param\n",
    "from proveit._common_ import e\n",
    "exampleSubsetKT_02 = S5.deduceEnumSubsetEq(subset = Set(e, c, b))"
   ]
  },
  {
   "cell_type": "code",
   "execution_count": null,
   "metadata": {},
   "outputs": [],
   "source": [
    "# deduce that {e, d, c, b, a} is an improper subset of {a, b, c, d, e}, using subset param\n",
    "from proveit._common_ import e\n",
    "exampleSubsetKT_03 = S5.deduceEnumSubsetEq(subset = Set(e, d, c, b, a))"
   ]
  },
  {
   "cell_type": "code",
   "execution_count": null,
   "metadata": {},
   "outputs": [],
   "source": [
    "# deduce that {e, d, c, b, a} is an improper subset of {a, b, c, d, e}, using indices\n",
    "from proveit._common_ import e\n",
    "exampleSubsetKT_04 = S5.deduceEnumSubsetEq(subset_indices=[4, 3, 2, 1, 0])"
   ]
  },
  {
   "cell_type": "markdown",
   "metadata": {},
   "source": [
    "### *Testing the Param Testing in Set.deduceEnumSubsetEq()*"
   ]
  },
  {
   "cell_type": "code",
   "execution_count": null,
   "metadata": {},
   "outputs": [],
   "source": [
    "S4"
   ]
  },
  {
   "cell_type": "markdown",
   "metadata": {},
   "source": [
    "When calling `deduceEnumSubsetEq`, the subset_indices list should only include integers `i` such that `0 ≤ i ≤ n - 1`, where `n` is the length of the calling set."
   ]
  },
  {
   "cell_type": "code",
   "execution_count": null,
   "metadata": {},
   "outputs": [],
   "source": [
    "# Testing subset_indices specification of subset: indices should be 0 ≤ i ≤ n-1\n",
    "try:\n",
    "    S4.deduceEnumSubsetEq(subset_indices=[1, 4])\n",
    "    assert False, \"Expecting an IndexError; should not make it to this point\"\n",
    "except IndexError as e:\n",
    "    print(\"EXPECTED ERROR (IndexError): \", e)"
   ]
  },
  {
   "cell_type": "markdown",
   "metadata": {},
   "source": [
    "When calling `deduceEnumSubsetEq`, the subset_indices list should include no more than 1 instance of each valid index value (i.e. no repetitions)."
   ]
  },
  {
   "cell_type": "code",
   "execution_count": null,
   "metadata": {},
   "outputs": [],
   "source": [
    "# Testing subset_indices specification of subset: indices should not repeat\n",
    "try:\n",
    "    S4.deduceEnumSubsetEq(subset_indices=[1, 1, 2, 2])\n",
    "    assert False, \"Expecting an IndexError; should not make it to this point\"\n",
    "except ValueError as e:\n",
    "    print(\"EXPECTED ERROR (ValueError): \", e)"
   ]
  },
  {
   "cell_type": "markdown",
   "metadata": {},
   "source": [
    "### *Testing param testing for deduceEnumSubsetEqAlt()*"
   ]
  },
  {
   "cell_type": "code",
   "execution_count": null,
   "metadata": {},
   "outputs": [],
   "source": [
    "# Testing subset_indices specification of subset: indices should not repeat\n",
    "try:\n",
    "    S4.deduceEnumSubsetEq(subset_indices=[1, 1, 2, 2])\n",
    "    assert False, \"Expecting an IndexError; should not make it to this point\"\n",
    "except ValueError as e:\n",
    "    print(\"EXPECTED ERROR (ValueError): \", e)"
   ]
  },
  {
   "cell_type": "code",
   "execution_count": null,
   "metadata": {},
   "outputs": [],
   "source": [
    "# Testing subset specification of subset: subset should be a Set\n",
    "try:\n",
    "    S4.deduceEnumSubsetEq(subset=[0, 1, 2, 3])\n",
    "    assert False, \"Expecting an IndexError; should not make it to this point\"\n",
    "except ValueError as e:\n",
    "    print(\"EXPECTED ERROR (ValueError): \", e)"
   ]
  },
  {
   "cell_type": "code",
   "execution_count": null,
   "metadata": {},
   "outputs": [],
   "source": [
    "# Testing subset specification of subset: subset should be a Set with cardinality\n",
    "# no greater than cardinality of superset\n",
    "try:\n",
    "    S4.deduceEnumSubsetEq(subset=Set(a, b, a, b, a))\n",
    "    assert False, \"Expecting an IndexError; should not make it to this point\"\n",
    "except ValueError as e:\n",
    "    print(\"EXPECTED ERROR (ValueError): \", e)"
   ]
  },
  {
   "cell_type": "code",
   "execution_count": null,
   "metadata": {},
   "outputs": [],
   "source": [
    "# Testing subset specification of subset: subset should actually be a subset of the\n",
    "# superset (and the subset and superset might either or both be a multiset)\n",
    "try:\n",
    "    S4.deduceEnumSubsetEq(subset=Set(b, c, a, a))\n",
    "    assert False, \"Expecting an IndexError; should not make it to this point\"\n",
    "except ValueError as e:\n",
    "    print(\"EXPECTED ERROR (ValueError): \", e)"
   ]
  },
  {
   "cell_type": "markdown",
   "metadata": {},
   "source": [
    "## Testing Set.deduceEnumProperSubset()"
   ]
  },
  {
   "cell_type": "code",
   "execution_count": null,
   "metadata": {},
   "outputs": [],
   "source": [
    "S4"
   ]
  },
  {
   "cell_type": "code",
   "execution_count": null,
   "metadata": {},
   "outputs": [],
   "source": [
    "# deduce that {b, d, c} is a proper subset of {a, b, c, d}\n",
    "S4.deduceEnumProperSubset(subset_indices=[1, 3, 2])"
   ]
  },
  {
   "cell_type": "code",
   "execution_count": null,
   "metadata": {},
   "outputs": [],
   "source": [
    "S5"
   ]
  },
  {
   "cell_type": "code",
   "execution_count": null,
   "metadata": {},
   "outputs": [],
   "source": [
    "# deduce that {e, c} is a proper subset of {a, b, c, d, e}\n",
    "exampleProperSubsetKT = S5.deduceEnumProperSubset(subset_indices=[4, 2])"
   ]
  },
  {
   "cell_type": "code",
   "execution_count": null,
   "metadata": {},
   "outputs": [],
   "source": [
    "# look at the proof\n",
    "exampleProperSubsetKT.proof()"
   ]
  },
  {
   "cell_type": "markdown",
   "metadata": {},
   "source": [
    "### *Testing the Param Testing in Set.deduceEnumProperSubset()*"
   ]
  },
  {
   "cell_type": "code",
   "execution_count": null,
   "metadata": {},
   "outputs": [],
   "source": [
    "S4"
   ]
  },
  {
   "cell_type": "markdown",
   "metadata": {},
   "source": [
    "When calling `deduceEnumProperSubset`, the subset_indices list should only include integers `i` such that `0 ≤ i ≤ n - 1`, where `n` is the length of the calling set."
   ]
  },
  {
   "cell_type": "code",
   "execution_count": null,
   "metadata": {},
   "outputs": [],
   "source": [
    "# Testing subset_indices specification of subset: indices should be 0 ≤ i ≤ n-1\n",
    "try:\n",
    "    S4.deduceEnumProperSubset(subset_indices=[1, 4])\n",
    "    assert False, \"Expecting an IndexError; should not make it to this point\"\n",
    "except IndexError as e:\n",
    "    print(\"EXPECTED ERROR (IndexError): \", e)"
   ]
  },
  {
   "cell_type": "markdown",
   "metadata": {},
   "source": [
    "When calling `deduceEnumProperSubset`, the subset_indices list should include no more than 1 instance of each valid index value (i.e. no repetitions)."
   ]
  },
  {
   "cell_type": "code",
   "execution_count": null,
   "metadata": {},
   "outputs": [],
   "source": [
    "# Testing subset_indices specification of subset: indices should not repeat\n",
    "try:\n",
    "    S4.deduceEnumProperSubset(subset_indices=[1, 1, 2, 2])\n",
    "    assert False, \"Expecting an IndexError; should not make it to this point\"\n",
    "except ValueError as e:\n",
    "    print(\"EXPECTED ERROR (ValueError): \", e)"
   ]
  },
  {
   "cell_type": "markdown",
   "metadata": {},
   "source": [
    "When calling `deduceEnumProperSubset`, the subset_indices list should include only a proper subset of the valid indices (i.e. it should actually represent a proper subset, and not possibly an improper subset, of the calling set)."
   ]
  },
  {
   "cell_type": "code",
   "execution_count": null,
   "metadata": {},
   "outputs": [],
   "source": [
    "# Testing subset_indices specification of subset: indices should not repeat\n",
    "try:\n",
    "    S4.deduceEnumProperSubset(subset_indices=[0, 1, 2, 3])\n",
    "    assert False, \"Expecting an IndexError; should not make it to this point\"\n",
    "except ValueError as e:\n",
    "    print(\"EXPECTED ERROR (ValueError): \", e)"
   ]
  },
  {
   "cell_type": "markdown",
   "metadata": {},
   "source": [
    "### *Testing Set.deduceEnumProperSubset() with Multisets*"
   ]
  },
  {
   "cell_type": "code",
   "execution_count": null,
   "metadata": {},
   "outputs": [],
   "source": [
    "multi_set_3_2_1"
   ]
  },
  {
   "cell_type": "code",
   "execution_count": null,
   "metadata": {},
   "outputs": [],
   "source": [
    "S3"
   ]
  },
  {
   "cell_type": "code",
   "execution_count": null,
   "metadata": {},
   "outputs": [],
   "source": [
    "multi_set_3_2_1.deduceEnumProperSubset(subset_indices=[0, 1, 5])"
   ]
  },
  {
   "cell_type": "code",
   "execution_count": null,
   "metadata": {},
   "outputs": [],
   "source": [
    "multi_set_3_2_1.deduceEnumProperSubset(subset_indices=[0, 1, 2, 5])"
   ]
  },
  {
   "cell_type": "code",
   "execution_count": null,
   "metadata": {},
   "outputs": [],
   "source": []
  }
 ],
 "metadata": {
  "kernelspec": {
   "display_name": "Python 3",
   "language": "python",
   "name": "python3"
  }
 },
 "nbformat": 4,
 "nbformat_minor": 0
}
