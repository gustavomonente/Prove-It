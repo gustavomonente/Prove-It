{
 "cells": [
  {
   "cell_type": "markdown",
   "metadata": {},
   "source": [
    "Proof of <a class=\"ProveItLink\" href=\"../../../../_context_.ipynb\">proveit</a>.<a class=\"ProveItLink\" href=\"../../../_context_.ipynb\">logic</a>.<a class=\"ProveItLink\" href=\"../../_context_.ipynb\">set_theory</a>.<a class=\"ProveItLink\" href=\"../_context_.ipynb\">enumeration</a>.<a href=\"../_theorems_.ipynb#notInSingletonEquiv\" class=\"ProveItLink\">notInSingletonEquiv</a> theorem\n",
    "========\n",
    "*** see <a href=\"../__pv_it/e01334021ef9c34218bff021a7505fe298f897910/dependencies.ipynb\" class=\"ProveItLink\">dependencies</a> ***"
   ]
  },
  {
   "cell_type": "code",
   "execution_count": 1,
   "metadata": {},
   "outputs": [
    {
     "name": "stdout",
     "output_type": "stream",
     "text": [
      "Beginning proof of notInSingletonEquiv\n",
      "Recorded 'presuming' information\n"
     ]
    },
    {
     "name": "stdout",
     "output_type": "stream",
     "text": [
      "Presuming previous theorems (applied transitively).\n"
     ]
    },
    {
     "data": {
      "text/html": [
       "<strong id=\"notInSingletonEquiv\">notInSingletonEquiv:</strong> <a class=\"ProveItLink\" href=\"../__pv_it/77379e538c9c3e75ea667d7fe8cfba77bc7c7b8e0/expr.ipynb\"><img src=\"data:image/png;base64,iVBORw0KGgoAAAANSUhEUgAAAO8AAAAWCAMAAAAfMztaAAAASFBMVEX///8kJCQoKChjY2MJCQkN\n",
       "DQ0rKysPDw8WFhYQEBCIiIhmZma6urrMzMxUVFQiIiJERETc3Nzu7u6qqqp2dnaYmJgyMjIAAAAV\n",
       "LBabAAAAAXRSTlMAQObYZgAAAyNJREFUWMPVWMminSAMpXMFZBLw//+0oEQJgsbXdvFY3FwVc8ic\n",
       "yNh/WzO+DCI0zwV37DMsGzAdLF1fuOivO+S062Sx74CHy/cUCNx3Gk8DBBqqM5iOzKuQddfeHlHQ\n",
       "lX0DPNZH7N4G7hv1C9yORO+KFtPBEhJpXnftocH6b4CHS8m+nmJFLSjNGpq4QWBKcucHeZnndOCx\n",
       "eUcSAPeNgllPQz/IYTHtHs3o3790pMvrJjrw2LzzKBCmigbv8rKamDM0pr3INSnxGvvGvixKKvB7\n",
       "857cN7qavLSnycsFpo5zZSWvHNJlj2kj8ohULvJOO21e5Q+zekEFvgKWZWrzNjiiQtndwBBrggmI\n",
       "uqSmoDmrnHdLg7w5jirPfSpC+fHaZO1wvu9jtUQLfAUs+7/+qPc3OLFCkYKcIXMULYjmiudXx+Sp\n",
       "LtNJ9kuptHbZa5Apvnecb9FE4A5gx7wNDnDfaf7hxOLLJomoqw5fondKav65KfsMaMg1afuULb+C\n",
       "+ZXe/80rEfgK2Cv3DQ5w36kPbfWgy8vqw59po0320Emlf8k2CbdcRjglWd4rYDFvY2+Eg+VNbQlo\n",
       "x3Mxc8jrkue72t35M6sODwdjHfUpU7dUfGq7Lqn78asuwBfAbf+XqdmPcIB7ocaWziTVkZRYtISY\n",
       "Tzqap9t8tbg9J1Stf0qMUgwrj1Hwg/JziMRE2QHs9l4IB+WrxEPoY6SJRyBbl9XBm1hBqT15zcLM\n",
       "2nTyerlW/kNeofJboa2/4rEc3gCyjoIRDnAHWgXEWikqP1ZNrGDXcIrzVOrwqOHUd+mGnVR6QwBI\n",
       "1W/MT/LeAPZ6f4QD3IEGx6q8cUBnx57m9/1k+OaN1uN+EsaiSguEfHkDuPS7FcAB7i2KXVPw57hN\n",
       "STZrQM/JJT4wL3R6F4jU3He4Vf7jeeFqXoSD5gXkA0F6niv6POVsKBU3cSjNsCPrzamQiXVyRMMv\n",
       "BiB1O0PA5Rr8NY6joCR5nT3T8Zt5v9u7lO8bMkXVfFZl+SAJbd7vTO41zqOByscPlZrQ+IHvOWYQ\n",
       "Y8PvV+Evv+fcz1bA/RYlc5bBE4emz7P+AA+mOShrBk6YAAAAAElFTkSuQmCC\n",
       "\" style=\"display:inline;vertical-align:middle;\" /></a><br>(see <a class=\"ProveItLink\" href=\"../__pv_it/77379e538c9c3e75ea667d7fe8cfba77bc7c7b8e0/dependencies.ipynb\">dependencies</a>)<br>"
      ],
      "text/plain": [
       "notInSingletonEquiv: forall_{x, y} ((x not-in {y}) = (x != y))"
      ]
     },
     "execution_count": 1,
     "metadata": {},
     "output_type": "execute_result"
    }
   ],
   "source": [
    "import proveit\n",
    "%proving notInSingletonEquiv presuming []"
   ]
  },
  {
   "cell_type": "code",
   "execution_count": null,
   "metadata": {},
   "outputs": [],
   "source": []
  }
 ],
 "metadata": {
  "kernelspec": {
   "display_name": "Python 3",
   "language": "python",
   "name": "python3"
  }
 },
 "nbformat": 4,
 "nbformat_minor": 0
}
