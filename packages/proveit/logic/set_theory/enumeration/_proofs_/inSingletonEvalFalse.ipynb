{
 "cells": [
  {
   "cell_type": "markdown",
   "metadata": {},
   "source": [
    "Proof of <a class=\"ProveItLink\" href=\"../../../../_context_.ipynb\">proveit</a>.<a class=\"ProveItLink\" href=\"../../../_context_.ipynb\">logic</a>.<a class=\"ProveItLink\" href=\"../../_context_.ipynb\">set_theory</a>.<a class=\"ProveItLink\" href=\"../_context_.ipynb\">enumeration</a>.<a href=\"../_theorems_.ipynb#inSingletonEvalFalse\" class=\"ProveItLink\">inSingletonEvalFalse</a> theorem\n",
    "========\n",
    "*** see <a href=\"../__pv_it/374d5ac709d899cb895d67c9e0faf41792c5dfa70/dependencies.ipynb\" class=\"ProveItLink\">dependencies</a> ***"
   ]
  },
  {
   "cell_type": "code",
   "execution_count": 1,
   "metadata": {},
   "outputs": [
    {
     "name": "stdout",
     "output_type": "stream",
     "text": [
      "Beginning proof of inSingletonEvalFalse\n",
      "Recorded 'presuming' information\n"
     ]
    },
    {
     "name": "stdout",
     "output_type": "stream",
     "text": [
      "Presuming proveit.logic.equality.subRightSideInto theorem (applied transitively).\n",
      "Presuming previous theorems (applied transitively).\n"
     ]
    },
    {
     "data": {
      "text/html": [
       "<strong id=\"inSingletonEvalFalse\">inSingletonEvalFalse:</strong> <a class=\"ProveItLink\" href=\"../__pv_it/b162742f112e7d864af6126a465095809c23939d0/expr.ipynb\"><img src=\"data:image/png;base64,iVBORw0KGgoAAAANSUhEUgAAAO8AAAAXCAMAAADUb+j/AAAAOVBMVEX///8oKCgUFBQNDQ0QEBCI\n",
       "iIhmZma6urrMzMxUVFQiIiJERETc3Nzu7u6qqqp2dnaYmJgyMjIAAAArQGDrAAAAAXRSTlMAQObY\n",
       "ZgAAAt5JREFUWMPVWIm2oyAMZeaxhR3//2MHBJRYpNq+njPlnDYuucpNyIKE/Mcj8IDOJWeWfMMw\n",
       "ActLw0b/cE1QuUpn7k+iYOJuzfApulZjedG7y+Air/OFq4Sl2w5XjN/O48fWSjRYXhteTS7aeNWr\n",
       "rFsweYk1mxv9uTDE8jf4Es9u8y2Y5tbd0b89lMFyaBOt0ojX+Vp6n++KCd7mYdTHkpXCchRkepB4\n",
       "53xJFLf5Fsyi81D+U3wZx9IyBkYw3weWPadmGc+ahq46fnOr5/f5rhhYU7y+kEumFj3NdjogaZNh\n",
       "g2KkW7zjZAtFwacilK21HJJ22PE+doNP+K4Ywa/mu1lG4/I0fB2SPhnGL5YIM3+uK6XWuFKDdFXa\n",
       "+Dh1378Fk/9YeI+vgdNbVCBpu8nX6KWbc7qIrtktqdM85aXNG1Q5kst9vgXjQ+H8Dl9tr/Il/eQn\n",
       "lbC1UkSkxZBmWs8ioLm/wtdEIqFVKC4ZtBexfFXZIV+kSYQfIwbrmXSTbxYZzhR011Ixemy6hBrH\n",
       "L0z4Vow2UGyfqkLKEqo6wpNkWUmH/t00Yc3uP+kXBohBvnK25J6uAnE26zc0tD+Un0O879+Kcbw+\n",
       "Opk9boFsbDYH00O+SJMwd4LoC0eRYnFEL4etg3ITvhwyKhzrL/f3+TZMF0+LwbeBncXvrrnvA46I\n",
       "fuEVaYGxVFLx5sSCFva0VU4I3l7W9RvyCVOeOzZF6SoAYYLtI3p7UF7YVJ7wrZqQQubvnxw4YYC4\n",
       "3E8Kr2f9ZNsWdf3kC/3gEWOWFPo5ClPKzBZQMi2kYX7eNXEtOiLe2i/Qre2wi3h1v4CeeMBYCMKz\n",
       "3BBImiNKANNxyHfXxLXoiKg4g+Wt/a9K60azo6Mv7wfRB4RZnKf7Zk+uk/rr9sTxgHhnv0/K9w2R\n",
       "olfuRVm8YrrnmPzxA1LrGp/3G53KA+Kd7zm5bpx9vwov0J1i8otE8P55fxW6WvKA+O7Bv5/CP5Rh\n",
       "IqzNYY5uAAAAAElFTkSuQmCC\n",
       "\" style=\"display:inline;vertical-align:middle;\" /></a><br>(see <a class=\"ProveItLink\" href=\"../__pv_it/b162742f112e7d864af6126a465095809c23939d0/dependencies.ipynb\">dependencies</a>)<br>"
      ],
      "text/plain": [
       "inSingletonEvalFalse: forall_{x, y | x != y} ((x in {y}) = FALSE)"
      ]
     },
     "execution_count": 1,
     "metadata": {},
     "output_type": "execute_result"
    }
   ],
   "source": [
    "import proveit\n",
    "from proveit import defaults\n",
    "from proveit._common_ import x, y\n",
    "from proveit.logic import NotEquals, Not, Equals, TRUE, FALSE, InSet, NotInSet, Set\n",
    "from proveit.logic.equality._axioms_ import notEqualsDef\n",
    "from proveit.logic.equality._theorems_ import subRightSideInto\n",
    "from proveit.logic.set_theory.enumeration._theorems_ import notInSingletonEquiv, inSingletonEvalTrue, singletonDef\n",
    "%proving inSingletonEvalFalse presuming [subRightSideInto]"
   ]
  },
  {
   "cell_type": "code",
   "execution_count": 2,
   "metadata": {},
   "outputs": [
    {
     "data": {
      "text/html": [
       "<strong id=\"defaults.assumptions\">defaults.assumptions:</strong> <a class=\"ProveItLink\" href=\"../__pv_it/7397b4a5797da962775ec662dd9896371ba628490/expr.ipynb\"><img src=\"data:image/png;base64,iVBORw0KGgoAAAANSUhEUgAAAD8AAAAUCAMAAAAN6hUYAAAAOVBMVEX///8kJCQNDQ0oKCjMzMxU\n",
       "VFR2dna6uroQEBCqqqqIiIgiIiJmZmYyMjJERETu7u6YmJjc3NwAAABBIaITAAAAAXRSTlMAQObY\n",
       "ZgAAASpJREFUOMudVFmyxCAIZOa54kL0/od9uGQxZqkaPkyFCN00EACAtMCzKbry2tSeFF/CU7j2\n",
       "y5YgpJd4qa/9VPMu/g3+lp9CPtwrvLj7Qoazu5/huXQN2OkTokwaK6XB4gBP6MuNZGpLlIfYmkeK\n",
       "lXAIbtNahWp/33JuGinQTBow17clgLNbi1Um0OkRPlnwBSG2oqwD05pDu3MwIUfFAEzhn1uZIq/x\n",
       "sDtH+DMfzSQ5TqzxnT/szmP9H9NU2FlU+mh6MrfqZ6lpguOoz7MZ5Xo0/ZRvrCzEPK2SnmfTy3K7\n",
       "X/OqUCi6SERu7XLaxDAvXrnpc6cVxOP82pvV8H1IyD3vzwW85FDK+rA/c4s2eDX7HFcY8bi/9/+P\n",
       "C3jQXL04zcbd/0s/L+ZSwv8BBDAL6B3GpS8AAAAASUVORK5CYII=\n",
       "\" style=\"display:inline;vertical-align:middle;\" /></a><br>"
      ],
      "text/plain": [
       "defaults.assumptions: (x != y)"
      ]
     },
     "execution_count": 2,
     "metadata": {},
     "output_type": "execute_result"
    }
   ],
   "source": [
    "defaults.assumptions = inSingletonEvalFalse.conditions"
   ]
  },
  {
   "cell_type": "code",
   "execution_count": 3,
   "metadata": {},
   "outputs": [
    {
     "data": {
      "text/html": [
       "<strong id=\"step1\">step1:</strong> <span style=\"font-size:20px;\"> <a class=\"ProveItLink\" href=\"../__pv_it/3bd4713d3edc6443d4d71c8a63a83a3e77186fbc0/proof.ipynb\" style=\"text-decoration: none\">&#x22A2;&nbsp;</a><a class=\"ProveItLink\" href=\"../__pv_it/b03075b6bc19ee6408b700dd6ab70ce7ae0c86700/expr.ipynb\"><img src=\"data:image/png;base64,iVBORw0KGgoAAAANSUhEUgAAAL4AAAAUCAMAAAAELXcnAAAAOVBMVEX///8kJCQNDQ0oKCjMzMxU\n",
       "VFR2dna6uroQEBCqqqqIiIgiIiJmZmYyMjJERETu7u6YmJjc3NwAAABBIaITAAAAAXRSTlMAQObY\n",
       "ZgAAAftJREFUSMfFV+1yhCAMpK2AAoLw/g/bIOAXifFubtr8cGcMZjPJBlAIIeIibk0F7O0UxSMj\n",
       "o3O0hDXehsEz/DP+Xj7Kn4zO0ZLWeCvOTBpSE/zzEzIy+hzfTL/xFlwcU3yySsrwXGR0jvZOzOaA\n",
       "liv+QJZh5KnI6Da+nX7jzRjtu8WH/mt2bu2rjkeC1Bua2sRgjIzadILwp+IH4/KCOK6bkWIFYBzj\n",
       "oGivBUd5AX3ZvoICOVojbJtHNa/2852fWxJK6Nw5k4p+9+Gty4vtOXtqc6RoiUA4L6Cdtr1dpSB0\n",
       "vCt+nITLn/qiqIlVQI3u7Gbq5KBor1LDeQHHoqOwO482yHMPhRhzE1Pp9ZC49MfrdER5chC0nXZw\n",
       "XsADQeoF6K9V0VAq+Gz4UPoEbW8oL2DtotidBw1+jUWDew/WHpq6c2mLa19exdOnT9FSgVBewDpD\n",
       "UyhzYcL9yehle5xH935C+/RvabFAGC9g2YR0moRP12uU7rc9J/Piusop9oDsIgxHB06LGcoLWBoR\n",
       "pDGwty7nMHNfk7zQpdqUeWAla28dOC06vBhvRvr0nogzx7U704OT85OXhivvivTdCSm+hAgh6T+/\n",
       "sqG8BT1RhwlRtoU2e/PKhZmKTjvQXiG8Fan/BqT4QoMCh5f4P/O7gvE2JOaeuU4u//Sz2HhX/AV1\n",
       "MRxzkoJYAgAAAABJRU5ErkJggg==\n",
       "\" style=\"display:inline;vertical-align:middle;\" /></a></span><br>"
      ],
      "text/plain": [
       "step1: |- (x != y) = [not](x = y)"
      ]
     },
     "execution_count": 3,
     "metadata": {},
     "output_type": "execute_result"
    }
   ],
   "source": [
    "step1 = notEqualsDef.instantiate({x:x, y:y})"
   ]
  },
  {
   "cell_type": "code",
   "execution_count": 4,
   "metadata": {},
   "outputs": [
    {
     "data": {
      "text/html": [
       "<strong id=\"state1\">state1:</strong> <span style=\"font-size:20px;\"><a class=\"ProveItLink\" href=\"../__pv_it/d2b93014ee07bfd1be6d5d82e9420145de66a64d0/expr.ipynb\"><img src=\"data:image/png;base64,iVBORw0KGgoAAAANSUhEUgAAAEUAAAAVCAMAAAAn3dPsAAAAOVBMVEX///8kJCQNDQ0oKCiIiIi6\n",
       "urrc3NxERETMzMwQEBCqqqpUVFQiIiJ2dnYyMjLu7u5mZmaYmJgAAACs2H6dAAAAAXRSTlMAQObY\n",
       "ZgAAAShJREFUOMutVNuWgyAMpLsJdwjw/x9bUHRB8NI95cFaE8dJZhLGyokhsv8cGYC2e/LuNt/R\n",
       "/DkqWe9iugXh/iwStoiztygGT0naxyhcsC+gGPkFlAsqIwoBGI7g4JgpOioEoWRwtcjm1MZ3bTNl\n",
       "vaMFZnc9nF/O70+5hv1pljf/QOoE1lXyYgmXiCG/pML1qq6oZS7wUtj6FjWhzqCm+5vTVKkobYUb\n",
       "C539mlBL5cgNM2EmU33L14+YncAeavryUmt3TG9XUAfjV400rR2DfmQ8H8iZ7dJqtKJg0kxkFN6P\n",
       "N4ZxdEzJjlO/kAHIVoiHHeHHYS6ZIfEPvKvD01HeS5ucCZViUkp4RLnYL3qyv2yuWcBAip3vugkV\n",
       "hrkr8m/XYVP9yd7FZ3v3DZ0jDFA94hHfAAAAAElFTkSuQmCC\n",
       "\" style=\"display:inline;vertical-align:middle;\" /></a> <a class=\"ProveItLink\" href=\"../__pv_it/539b2c35bbc18f8c5c301f18d606e06cc6afd0930/proof.ipynb\" style=\"text-decoration: none\">&#x22A2;&nbsp;</a><a class=\"ProveItLink\" href=\"../__pv_it/5dc54d43935a863177203e5eeb54a0f94267f8970/expr.ipynb\"><img src=\"data:image/png;base64,iVBORw0KGgoAAAANSUhEUgAAAGwAAAAUCAMAAABfyShTAAAAOVBMVEX///8kJCQNDQ0oKCjMzMxU\n",
       "VFR2dna6uroQEBCqqqqIiIgiIiJmZmYyMjJERETu7u6YmJjc3NwAAABBIaITAAAAAXRSTlMAQObY\n",
       "ZgAAAVVJREFUSMedVtmShCAMzO4CkXAJ//+xC4KDjiBiHqwpKtD2YRgAAL/CfQnXWpUe5svZQYM3\n",
       "7XU+RtPqUDwumNEejp23NA/pSNp/rXpErMtc0CyYGhJjXQOWSTCvXhOLDuAcGO0qOiLukS7S2BMx\n",
       "Rzo1+GULqNBzYLbk3olonyJQu+vCbPX3m56fQwVg0o5C9rtGpLTn0h0wJeu3JIID9HfEvASdAGzW\n",
       "Vqo5ZkuR3dUjjsX4ORJxQ9oZ8nYW3oFBPeJE7DurGNlHEPYKbJcR6hEHE36WbELlt6lIJfOo2p7x\n",
       "QUCky67TaQ5ep4vl++MckEfMSnoxSLDheyjjNdqap+bSpcUcWFHCcaL4Da3nC8Bcx31q1KEQNuwR\n",
       "GK4PxpXsfLO6qOcUTNbNIG4Q4xHHBZwbxHfp/hBrOKKiIpYmr5gnl2eDGGB0jI3e8naud/4WDEb6\n",
       "Oo31D6yXDs2GxDz9AAAAAElFTkSuQmCC\n",
       "\" style=\"display:inline;vertical-align:middle;\" /></a></span><br>"
      ],
      "text/plain": [
       "state1: {x != y} |- (x != y) = TRUE"
      ]
     },
     "execution_count": 4,
     "metadata": {},
     "output_type": "execute_result"
    }
   ],
   "source": [
    "state1 = Equals(NotEquals(x,y), TRUE).prove()"
   ]
  },
  {
   "cell_type": "code",
   "execution_count": 5,
   "metadata": {},
   "outputs": [
    {
     "data": {
      "text/html": [
       "<span style=\"font-size:20px;\"><a class=\"ProveItLink\" href=\"../__pv_it/d2b93014ee07bfd1be6d5d82e9420145de66a64d0/expr.ipynb\"><img src=\"data:image/png;base64,iVBORw0KGgoAAAANSUhEUgAAAEUAAAAVCAMAAAAn3dPsAAAAOVBMVEX///8kJCQNDQ0oKCiIiIi6\n",
       "urrc3NxERETMzMwQEBCqqqpUVFQiIiJ2dnYyMjLu7u5mZmaYmJgAAACs2H6dAAAAAXRSTlMAQObY\n",
       "ZgAAAShJREFUOMutVNuWgyAMpLsJdwjw/x9bUHRB8NI95cFaE8dJZhLGyokhsv8cGYC2e/LuNt/R\n",
       "/DkqWe9iugXh/iwStoiztygGT0naxyhcsC+gGPkFlAsqIwoBGI7g4JgpOioEoWRwtcjm1MZ3bTNl\n",
       "vaMFZnc9nF/O70+5hv1pljf/QOoE1lXyYgmXiCG/pML1qq6oZS7wUtj6FjWhzqCm+5vTVKkobYUb\n",
       "C539mlBL5cgNM2EmU33L14+YncAeavryUmt3TG9XUAfjV400rR2DfmQ8H8iZ7dJqtKJg0kxkFN6P\n",
       "N4ZxdEzJjlO/kAHIVoiHHeHHYS6ZIfEPvKvD01HeS5ucCZViUkp4RLnYL3qyv2yuWcBAip3vugkV\n",
       "hrkr8m/XYVP9yd7FZ3v3DZ0jDFA94hHfAAAAAElFTkSuQmCC\n",
       "\" style=\"display:inline;vertical-align:middle;\" /></a> <a class=\"ProveItLink\" href=\"../__pv_it/4ed19a0967fe46ec80ec648575b323f5ca7c2a430/proof.ipynb\" style=\"text-decoration: none\">&#x22A2;&nbsp;</a><a class=\"ProveItLink\" href=\"../__pv_it/edc01260e6e559477137a66a2b0062fe8097ceca0/expr.ipynb\"><img src=\"data:image/png;base64,iVBORw0KGgoAAAANSUhEUgAAAIwAAAAUBAMAAACt28gjAAAAMFBMVEX////MzMxUVFR2dna6uroQ\n",
       "EBCqqqqIiIgiIiJmZmYyMjJERETu7u6YmJjc3NwAAACgK8IjAAAAAXRSTlMAQObYZgAAAYpJREFU\n",
       "OMtjYOC7wIAAbxlwArYHEIwDnEZi82zAbQyDHhSjgBkdINDEwLAOSZDrAR5jTkExOkgHEbwTkERu\n",
       "4jGFgbkAgrEaw4HsgD58xvAEQDBWY14gCfA14DOGYQkUYzOmEkmAHehBnnI9d3M0hcenM/DFMDBY\n",
       "MkAwNmP2IglwA+P+MMONgi4Qx2oVCKwEMQ1cGdg/MDDcYoBgBmaw1KoJSMa0MTBwgiPNABhOCQwM\n",
       "Ngz2B/xQreNLmMXADUwKGQwQjM01ITC1CgwMrA4MDAcYdmOELUM4Az8wiuQZIJgYYxgYvmMoZPnD\n",
       "IC+A35g2JGNAnmJg/AgRgITNIhCTcwFDKZDygGJY2ChgCWKQMaAgzgEGZg2afdwKDJsYkIIYi2vg\n",
       "MQh0NfMEBpZv3B9QMivYNQosf4HUZCjGZowHchg0MPCo11TexQhj9cp/QGohFKMBX+IzAzB0GHga\n",
       "IBgrICZrajGcd8CdNSFgH3JYYi8oehm24ykoiC623CsFoPbtw2kMsYUo7wMIxgoAjDhslE0CDIgA\n",
       "AAAASUVORK5CYII=\n",
       "\" style=\"display:inline;vertical-align:middle;\" /></a></span>"
      ],
      "text/plain": [
       "{x != y} |- [not](x = y) = TRUE"
      ]
     },
     "execution_count": 5,
     "metadata": {},
     "output_type": "execute_result"
    }
   ],
   "source": [
    "step1.subRightSideInto(state1)"
   ]
  },
  {
   "cell_type": "code",
   "execution_count": 6,
   "metadata": {},
   "outputs": [
    {
     "data": {
      "text/html": [
       "<strong id=\"state2\">state2:</strong> <span style=\"font-size:20px;\"><a class=\"ProveItLink\" href=\"../__pv_it/d2b93014ee07bfd1be6d5d82e9420145de66a64d0/expr.ipynb\"><img src=\"data:image/png;base64,iVBORw0KGgoAAAANSUhEUgAAAEUAAAAVCAMAAAAn3dPsAAAAOVBMVEX///8kJCQNDQ0oKCiIiIi6\n",
       "urrc3NxERETMzMwQEBCqqqpUVFQiIiJ2dnYyMjLu7u5mZmaYmJgAAACs2H6dAAAAAXRSTlMAQObY\n",
       "ZgAAAShJREFUOMutVNuWgyAMpLsJdwjw/x9bUHRB8NI95cFaE8dJZhLGyokhsv8cGYC2e/LuNt/R\n",
       "/DkqWe9iugXh/iwStoiztygGT0naxyhcsC+gGPkFlAsqIwoBGI7g4JgpOioEoWRwtcjm1MZ3bTNl\n",
       "vaMFZnc9nF/O70+5hv1pljf/QOoE1lXyYgmXiCG/pML1qq6oZS7wUtj6FjWhzqCm+5vTVKkobYUb\n",
       "C539mlBL5cgNM2EmU33L14+YncAeavryUmt3TG9XUAfjV400rR2DfmQ8H8iZ7dJqtKJg0kxkFN6P\n",
       "N4ZxdEzJjlO/kAHIVoiHHeHHYS6ZIfEPvKvD01HeS5ucCZViUkp4RLnYL3qyv2yuWcBAip3vugkV\n",
       "hrkr8m/XYVP9yd7FZ3v3DZ0jDFA94hHfAAAAAElFTkSuQmCC\n",
       "\" style=\"display:inline;vertical-align:middle;\" /></a> <a class=\"ProveItLink\" href=\"../__pv_it/e0af9122b6c5d0172b4c5e7c17fc5660c3668cde0/proof.ipynb\" style=\"text-decoration: none\">&#x22A2;&nbsp;</a><a class=\"ProveItLink\" href=\"../__pv_it/36e98f484e1a496152d49e050d293b169a841d9b0/expr.ipynb\"><img src=\"data:image/png;base64,iVBORw0KGgoAAAANSUhEUgAAAGwAAAAUBAMAAACaOcVSAAAAMFBMVEX////MzMxUVFR2dna6uroQ\n",
       "EBCqqqqIiIgiIiJmZmYyMjJERETu7u6YmJjc3NwAAACgK8IjAAAAAXRSTlMAQObYZgAAAStJREFU\n",
       "OMtjYOC7wIAT5OGWOo1bioHpARZBMTC5Do82ngVYBNNBBO8EPNoYzHFp43iAT9tRXNpe4NPFwOWA\n",
       "Q1slyAvleu5ozuGpLGB4eoCBeQIObXuB+DDDjYIuIM28CgxASplZAhjqgT4Hh4kVWHglsrY2ILZh\n",
       "sD/gh2rkM84FDLsZGNgacNgWAsQHQCpQwQHWAobvDAyMH/BoYwCpQAP+Bxg/4tEGciQDSAXCbwog\n",
       "9iwG9gAGBpYGhN8WoQdJDvsHhho0MzcxcCvAggSLbZZAI79xf8BI0JMY/IFCnAY4tHkA40i9pvIu\n",
       "uuSh8vnA9MMlgCY8o6MjtKOjCU/imgXEJ3BJ4kjKTAt4vuBIyhCwD6soxwXuAhwZB182ZSmfCCS5\n",
       "cWcPfIXCPVwSACuHVmZGz4OhAAAAAElFTkSuQmCC\n",
       "\" style=\"display:inline;vertical-align:middle;\" /></a></span><br>"
      ],
      "text/plain": [
       "state2: {x != y} |- (x = y) = FALSE"
      ]
     },
     "execution_count": 6,
     "metadata": {},
     "output_type": "execute_result"
    }
   ],
   "source": [
    "state2 = Equals(Equals(x,y), FALSE).prove()"
   ]
  },
  {
   "cell_type": "code",
   "execution_count": 7,
   "metadata": {},
   "outputs": [
    {
     "data": {
      "text/html": [
       "<strong id=\"state3\">state3:</strong> <span style=\"font-size:20px;\"> <a class=\"ProveItLink\" href=\"../__pv_it/da7e6b6b4b82917e039c3f007480c00197ef69900/proof.ipynb\" style=\"text-decoration: none\">&#x22A2;&nbsp;</a><a class=\"ProveItLink\" href=\"../__pv_it/4e3c184d101d13bd4348af0dd3d53dc158a9687b0/expr.ipynb\"><img src=\"data:image/png;base64,iVBORw0KGgoAAAANSUhEUgAAAK8AAAAVBAMAAADC7aNVAAAAMFBMVEX////MzMxUVFR2dna6uroQ\n",
       "EBCqqqqIiIgiIiJmZmYyMjJERETu7u6YmJjc3NwAAACgK8IjAAAAAXRSTlMAQObYZgAAAj1JREFU\n",
       "OMudVT1oFEEU/s7d3F2yu3qtWGhnIYR0YhRMI1oEs0UqqzR2QRYtjoNArkokhZw2wkHwiJUpJKRJ\n",
       "QNQhIpGkuTIpIleo2AgniDYWvjcze5uZnT0Sp9n3Zr73vdn3N0DBila1cH4B/7fOdl274cuBeKsG\n",
       "PHBAfhRzSvi++8L9gTjaAc708q43iokl/LXzyGsaYtjJIcZ6xcQMj1onIcbVHOJwWHwJXjUcR9uP\n",
       "V5zEH3O2T4YRE/z7cb20JQpuPDZl57w5jJjgDfrsPvzyKGF9TxiBbST4KuDFrNsRq9BGWB+/bcUo\n",
       "tWnhLSkT0XJVZmc8yyvpnh9jURdIJM8n13m9YjGgKv2Ag4Qj58ntdfad2nSwRIrw/voy1FkF3afi\n",
       "/UaF9oZkJirbf16dA27gprhrbmsbgs/SjREoxtI9dszSBU6NGEnwh2+/TEd9i3iEgi6kX2NpG4LP\n",
       "snouUQnZMNoNM6L0kz5rKCCG9GsuZUPwJdYu1tRunMWYfbRRiXWM/WYW47U0FJB+BzG+hIENwSl5\n",
       "ZbGIiqyH52aNbSIgsKyKyG49Tt58pQ97RCkbgl+j28+91xNFXiMjfoaZrhZHJ+zWbMH/HfRzI0zZ\n",
       "EPwOsFPfXVXn4ZXp48Q79Re9tEFqFgH9bHh5oXFkx1jZENxsaf+62dLtVPx08pZuK3jREIq5ScJf\n",
       "px1C2obh7wrncbUbJHoeO8Zm4BybykbC3YMe9IL49aeypKecLO5Br2wk3P00oWy8eZ9P9zQR/B/K\n",
       "hbD70hDmYQAAAABJRU5ErkJggg==\n",
       "\" style=\"display:inline;vertical-align:middle;\" /></a></span><br>"
      ],
      "text/plain": [
       "state3: |- (x in {y}) = (x = y)"
      ]
     },
     "execution_count": 7,
     "metadata": {},
     "output_type": "execute_result"
    }
   ],
   "source": [
    "state3 = singletonDef.instantiate({x:x, y:y})"
   ]
  },
  {
   "cell_type": "code",
   "execution_count": 8,
   "metadata": {},
   "outputs": [
    {
     "data": {
      "text/html": [
       "<strong id=\"goal\">goal:</strong> <span style=\"font-size:20px;\"><a class=\"ProveItLink\" href=\"../__pv_it/d2b93014ee07bfd1be6d5d82e9420145de66a64d0/expr.ipynb\"><img src=\"data:image/png;base64,iVBORw0KGgoAAAANSUhEUgAAAEUAAAAVCAMAAAAn3dPsAAAAOVBMVEX///8kJCQNDQ0oKCiIiIi6\n",
       "urrc3NxERETMzMwQEBCqqqpUVFQiIiJ2dnYyMjLu7u5mZmaYmJgAAACs2H6dAAAAAXRSTlMAQObY\n",
       "ZgAAAShJREFUOMutVNuWgyAMpLsJdwjw/x9bUHRB8NI95cFaE8dJZhLGyokhsv8cGYC2e/LuNt/R\n",
       "/DkqWe9iugXh/iwStoiztygGT0naxyhcsC+gGPkFlAsqIwoBGI7g4JgpOioEoWRwtcjm1MZ3bTNl\n",
       "vaMFZnc9nF/O70+5hv1pljf/QOoE1lXyYgmXiCG/pML1qq6oZS7wUtj6FjWhzqCm+5vTVKkobYUb\n",
       "C539mlBL5cgNM2EmU33L14+YncAeavryUmt3TG9XUAfjV400rR2DfmQ8H8iZ7dJqtKJg0kxkFN6P\n",
       "N4ZxdEzJjlO/kAHIVoiHHeHHYS6ZIfEPvKvD01HeS5ucCZViUkp4RLnYL3qyv2yuWcBAip3vugkV\n",
       "hrkr8m/XYVP9yd7FZ3v3DZ0jDFA94hHfAAAAAElFTkSuQmCC\n",
       "\" style=\"display:inline;vertical-align:middle;\" /></a> <a class=\"ProveItLink\" href=\"../__pv_it/0a41cb612cc3fc362a55ccf5c8b229885551a2dd0/proof.ipynb\" style=\"text-decoration: none\">&#x22A2;&nbsp;</a><a class=\"ProveItLink\" href=\"../__pv_it/eb652c884b84609529ec8040b1f89ec5071d42910/expr.ipynb\"><img src=\"data:image/png;base64,iVBORw0KGgoAAAANSUhEUgAAAH4AAAAVBAMAAAByPkciAAAAMFBMVEX////MzMxUVFR2dna6uroQ\n",
       "EBCqqqqIiIgiIiJmZmYyMjJERETu7u6YmJjc3NwAAACgK8IjAAAAAXRSTlMAQObYZgAAAalJREFU\n",
       "OMtjYMAFbl6A0JI1DHgB3wWswqcMYCxXAQaGPNz6T2MXvg9ncS5gYGB6gEWJGJhch12/BZzF3MDA\n",
       "wLMAi5J0EME7gRj9DOa49HOguIx3R0cXVv1Hcel/gSzCuP0ADvu5HHDorwTi40VPigvAgX4A2f08\n",
       "lQUMTw8wMAeADJmAQ/9eoDoD3nYOcADpISS1gHpYAhjqgX76APIYWN5qFQisRNbfBlR3gPkPCzgY\n",
       "NsC1swUyMDwDxtxuIBuknq0Bh/0hQPsZuCEaGaNAxoNZO4DmHWAtYPgO5DC1AwU+4NbPwMBfAEmK\n",
       "CPtZgPYz+B9g/AikFjHg0d8GIuQFICIBCEltIJ7FwB4A9T9LA8L/i9DCj+1APQM7OOSno6afTQzc\n",
       "CgyQ8OddgMN+S6AzE/YzvAWLcCSg6J/E4H8BGv+cBjj0ezAwHCo/PheSCXm0fZD1Hyqf/wCWfgTQ\n",
       "NM/o6Ajt6GhCS78s1qjpdxYs/Z3AlX1x5R9TYLwt4PmCL/9AwD6c+Z/jAncBNP9jzb94yw8uAwaW\n",
       "8ong8geYdbgfkFp+MWQil3/3cOkGAEM5cc+CfkuHAAAAAElFTkSuQmCC\n",
       "\" style=\"display:inline;vertical-align:middle;\" /></a></span><br>"
      ],
      "text/plain": [
       "goal: {x != y} |- (x in {y}) = FALSE"
      ]
     },
     "execution_count": 8,
     "metadata": {},
     "output_type": "execute_result"
    }
   ],
   "source": [
    "goal = state3.subLeftSideInto(state2)"
   ]
  },
  {
   "cell_type": "code",
   "execution_count": 9,
   "metadata": {},
   "outputs": [
    {
     "name": "stdout",
     "output_type": "stream",
     "text": [
      "inSingletonEvalFalse has been proven.  Now simply execute \"%qed\".\n"
     ]
    },
    {
     "data": {
      "text/html": [
       "<span style=\"font-size:20px;\"> <a class=\"ProveItLink\" href=\"../__pv_it/91e4b5574be35a10d9b5dbe43f3653a88fe0ab9b0/proof.ipynb\" style=\"text-decoration: none\">&#x22A2;&nbsp;</a><a class=\"ProveItLink\" href=\"../__pv_it/b162742f112e7d864af6126a465095809c23939d0/expr.ipynb\"><img src=\"data:image/png;base64,iVBORw0KGgoAAAANSUhEUgAAAO8AAAAXCAMAAADUb+j/AAAAOVBMVEX///8oKCgUFBQNDQ0QEBCI\n",
       "iIhmZma6urrMzMxUVFQiIiJERETc3Nzu7u6qqqp2dnaYmJgyMjIAAAArQGDrAAAAAXRSTlMAQObY\n",
       "ZgAAAt5JREFUWMPVWIm2oyAMZeaxhR3//2MHBJRYpNq+njPlnDYuucpNyIKE/Mcj8IDOJWeWfMMw\n",
       "ActLw0b/cE1QuUpn7k+iYOJuzfApulZjedG7y+Air/OFq4Sl2w5XjN/O48fWSjRYXhteTS7aeNWr\n",
       "rFsweYk1mxv9uTDE8jf4Es9u8y2Y5tbd0b89lMFyaBOt0ojX+Vp6n++KCd7mYdTHkpXCchRkepB4\n",
       "53xJFLf5Fsyi81D+U3wZx9IyBkYw3weWPadmGc+ahq46fnOr5/f5rhhYU7y+kEumFj3NdjogaZNh\n",
       "g2KkW7zjZAtFwacilK21HJJ22PE+doNP+K4Ywa/mu1lG4/I0fB2SPhnGL5YIM3+uK6XWuFKDdFXa\n",
       "+Dh1378Fk/9YeI+vgdNbVCBpu8nX6KWbc7qIrtktqdM85aXNG1Q5kst9vgXjQ+H8Dl9tr/Il/eQn\n",
       "lbC1UkSkxZBmWs8ioLm/wtdEIqFVKC4ZtBexfFXZIV+kSYQfIwbrmXSTbxYZzhR011Ixemy6hBrH\n",
       "L0z4Vow2UGyfqkLKEqo6wpNkWUmH/t00Yc3uP+kXBohBvnK25J6uAnE26zc0tD+Un0O879+Kcbw+\n",
       "Opk9boFsbDYH00O+SJMwd4LoC0eRYnFEL4etg3ITvhwyKhzrL/f3+TZMF0+LwbeBncXvrrnvA46I\n",
       "fuEVaYGxVFLx5sSCFva0VU4I3l7W9RvyCVOeOzZF6SoAYYLtI3p7UF7YVJ7wrZqQQubvnxw4YYC4\n",
       "3E8Kr2f9ZNsWdf3kC/3gEWOWFPo5ClPKzBZQMi2kYX7eNXEtOiLe2i/Qre2wi3h1v4CeeMBYCMKz\n",
       "3BBImiNKANNxyHfXxLXoiKg4g+Wt/a9K60azo6Mv7wfRB4RZnKf7Zk+uk/rr9sTxgHhnv0/K9w2R\n",
       "olfuRVm8YrrnmPzxA1LrGp/3G53KA+Kd7zm5bpx9vwov0J1i8otE8P55fxW6WvKA+O7Bv5/CP5Rh\n",
       "IqzNYY5uAAAAAElFTkSuQmCC\n",
       "\" style=\"display:inline;vertical-align:middle;\" /></a></span>"
      ],
      "text/plain": [
       "|- forall_{x, y | x != y} ((x in {y}) = FALSE)"
      ]
     },
     "execution_count": 9,
     "metadata": {},
     "output_type": "execute_result"
    }
   ],
   "source": [
    "goal.generalize([x,y], conditions = inSingletonEvalFalse.conditions)"
   ]
  },
  {
   "cell_type": "code",
   "execution_count": 10,
   "metadata": {},
   "outputs": [
    {
     "data": {
      "text/html": [
       "<table><tr><th>&nbsp;</th><th>step type</th><th>requirements</th><th>statement</th></tr>\n",
       "<tr><td><a name=\"-0x58e8771184674aca_step0\">0</a></td><td>generalizaton</td><td><a href=\"#-0x58e8771184674aca_step1\">1</a></td><td><span style=\"font-size:20px;\"> <a class=\"ProveItLink\" href=\"../__pv_it/91e4b5574be35a10d9b5dbe43f3653a88fe0ab9b0/proof.ipynb\" style=\"text-decoration: none\">&#x22A2;&nbsp;</a><a class=\"ProveItLink\" href=\"../__pv_it/b162742f112e7d864af6126a465095809c23939d0/expr.ipynb\"><img src=\"data:image/png;base64,iVBORw0KGgoAAAANSUhEUgAAAO8AAAAXCAMAAADUb+j/AAAAOVBMVEX///8oKCgUFBQNDQ0QEBCI\n",
       "iIhmZma6urrMzMxUVFQiIiJERETc3Nzu7u6qqqp2dnaYmJgyMjIAAAArQGDrAAAAAXRSTlMAQObY\n",
       "ZgAAAt5JREFUWMPVWIm2oyAMZeaxhR3//2MHBJRYpNq+njPlnDYuucpNyIKE/Mcj8IDOJWeWfMMw\n",
       "ActLw0b/cE1QuUpn7k+iYOJuzfApulZjedG7y+Air/OFq4Sl2w5XjN/O48fWSjRYXhteTS7aeNWr\n",
       "rFsweYk1mxv9uTDE8jf4Es9u8y2Y5tbd0b89lMFyaBOt0ojX+Vp6n++KCd7mYdTHkpXCchRkepB4\n",
       "53xJFLf5Fsyi81D+U3wZx9IyBkYw3weWPadmGc+ahq46fnOr5/f5rhhYU7y+kEumFj3NdjogaZNh\n",
       "g2KkW7zjZAtFwacilK21HJJ22PE+doNP+K4Ywa/mu1lG4/I0fB2SPhnGL5YIM3+uK6XWuFKDdFXa\n",
       "+Dh1378Fk/9YeI+vgdNbVCBpu8nX6KWbc7qIrtktqdM85aXNG1Q5kst9vgXjQ+H8Dl9tr/Il/eQn\n",
       "lbC1UkSkxZBmWs8ioLm/wtdEIqFVKC4ZtBexfFXZIV+kSYQfIwbrmXSTbxYZzhR011Ixemy6hBrH\n",
       "L0z4Vow2UGyfqkLKEqo6wpNkWUmH/t00Yc3uP+kXBohBvnK25J6uAnE26zc0tD+Un0O879+Kcbw+\n",
       "Opk9boFsbDYH00O+SJMwd4LoC0eRYnFEL4etg3ITvhwyKhzrL/f3+TZMF0+LwbeBncXvrrnvA46I\n",
       "fuEVaYGxVFLx5sSCFva0VU4I3l7W9RvyCVOeOzZF6SoAYYLtI3p7UF7YVJ7wrZqQQubvnxw4YYC4\n",
       "3E8Kr2f9ZNsWdf3kC/3gEWOWFPo5ClPKzBZQMi2kYX7eNXEtOiLe2i/Qre2wi3h1v4CeeMBYCMKz\n",
       "3BBImiNKANNxyHfXxLXoiKg4g+Wt/a9K60azo6Mv7wfRB4RZnKf7Zk+uk/rr9sTxgHhnv0/K9w2R\n",
       "olfuRVm8YrrnmPzxA1LrGp/3G53KA+Kd7zm5bpx9vwov0J1i8otE8P55fxW6WvKA+O7Bv5/CP5Rh\n",
       "IqzNYY5uAAAAAElFTkSuQmCC\n",
       "\" style=\"display:inline;vertical-align:middle;\" /></a></span></td></tr>\n",
       "<tr><td><a name=\"-0x58e8771184674aca_step1\">1</a></td><td>instantiation</td><td><a href=\"#-0x58e8771184674aca_step2\">2</a>, <a href=\"#-0x58e8771184674aca_step3\">3</a>, <a href=\"#-0x58e8771184674aca_step4\">4</a></td><td><span style=\"font-size:20px;\"><a class=\"ProveItLink\" href=\"../__pv_it/d2b93014ee07bfd1be6d5d82e9420145de66a64d0/expr.ipynb\"><img src=\"data:image/png;base64,iVBORw0KGgoAAAANSUhEUgAAAEUAAAAVCAMAAAAn3dPsAAAAOVBMVEX///8kJCQNDQ0oKCiIiIi6\n",
       "urrc3NxERETMzMwQEBCqqqpUVFQiIiJ2dnYyMjLu7u5mZmaYmJgAAACs2H6dAAAAAXRSTlMAQObY\n",
       "ZgAAAShJREFUOMutVNuWgyAMpLsJdwjw/x9bUHRB8NI95cFaE8dJZhLGyokhsv8cGYC2e/LuNt/R\n",
       "/DkqWe9iugXh/iwStoiztygGT0naxyhcsC+gGPkFlAsqIwoBGI7g4JgpOioEoWRwtcjm1MZ3bTNl\n",
       "vaMFZnc9nF/O70+5hv1pljf/QOoE1lXyYgmXiCG/pML1qq6oZS7wUtj6FjWhzqCm+5vTVKkobYUb\n",
       "C539mlBL5cgNM2EmU33L14+YncAeavryUmt3TG9XUAfjV400rR2DfmQ8H8iZ7dJqtKJg0kxkFN6P\n",
       "N4ZxdEzJjlO/kAHIVoiHHeHHYS6ZIfEPvKvD01HeS5ucCZViUkp4RLnYL3qyv2yuWcBAip3vugkV\n",
       "hrkr8m/XYVP9yd7FZ3v3DZ0jDFA94hHfAAAAAElFTkSuQmCC\n",
       "\" style=\"display:inline;vertical-align:middle;\" /></a> <a class=\"ProveItLink\" href=\"../__pv_it/0a41cb612cc3fc362a55ccf5c8b229885551a2dd0/proof.ipynb\" style=\"text-decoration: none\">&#x22A2;&nbsp;</a><a class=\"ProveItLink\" href=\"../__pv_it/eb652c884b84609529ec8040b1f89ec5071d42910/expr.ipynb\"><img src=\"data:image/png;base64,iVBORw0KGgoAAAANSUhEUgAAAH4AAAAVBAMAAAByPkciAAAAMFBMVEX////MzMxUVFR2dna6uroQ\n",
       "EBCqqqqIiIgiIiJmZmYyMjJERETu7u6YmJjc3NwAAACgK8IjAAAAAXRSTlMAQObYZgAAAalJREFU\n",
       "OMtjYMAFbl6A0JI1DHgB3wWswqcMYCxXAQaGPNz6T2MXvg9ncS5gYGB6gEWJGJhch12/BZzF3MDA\n",
       "wLMAi5J0EME7gRj9DOa49HOguIx3R0cXVv1Hcel/gSzCuP0ADvu5HHDorwTi40VPigvAgX4A2f08\n",
       "lQUMTw8wMAeADJmAQ/9eoDoD3nYOcADpISS1gHpYAhjqgX76APIYWN5qFQisRNbfBlR3gPkPCzgY\n",
       "NsC1swUyMDwDxtxuIBuknq0Bh/0hQPsZuCEaGaNAxoNZO4DmHWAtYPgO5DC1AwU+4NbPwMBfAEmK\n",
       "CPtZgPYz+B9g/AikFjHg0d8GIuQFICIBCEltIJ7FwB4A9T9LA8L/i9DCj+1APQM7OOSno6afTQzc\n",
       "CgyQ8OddgMN+S6AzE/YzvAWLcCSg6J/E4H8BGv+cBjj0ezAwHCo/PheSCXm0fZD1Hyqf/wCWfgTQ\n",
       "NM/o6Ajt6GhCS78s1qjpdxYs/Z3AlX1x5R9TYLwt4PmCL/9AwD6c+Z/jAncBNP9jzb94yw8uAwaW\n",
       "8ong8geYdbgfkFp+MWQil3/3cOkGAEM5cc+CfkuHAAAAAElFTkSuQmCC\n",
       "\" style=\"display:inline;vertical-align:middle;\" /></a></span></td></tr>\n",
       "<tr><td>&nbsp;</td><td colspan=4 style=\"text-align:left\"><span style=\"font-size:20px;\"><a class=\"ProveItLink\" href=\"../__pv_it/0b28339a9470b3064675e3d630fe626bc057a2440/expr.ipynb\"><img src=\"data:image/png;base64,iVBORw0KGgoAAAANSUhEUgAAADcAAAAUBAMAAADbzbjtAAAAMFBMVEX///8iIiLc3Ny6urqIiIiq\n",
       "qqp2dnbMzMwQEBDu7u5mZmYyMjJERERUVFSYmJgAAAA4CJ/KAAAAAXRSTlMAQObYZgAAAQ1JREFU\n",
       "KM9jYIADpgcMyCAITL79f/burgkMDHNQ5Bh4FcDUbwYGnk4Ghk2okpwbQCT7NwYG1i8MfAtQJRlS\n",
       "QATLZyD+xsCogCY5A0TwfABa8JlBEU2OgdsASPADDddfwOCF5O5lS4BuYAPZU5/AwCrGwHAOIWmh\n",
       "wA00jQ/kIv9raUuAPhFFuLOPgesA0JECQPb5CWChZrgk108GRgegL4C6GT4yoElyHGCYXwCRZP8F\n",
       "EUIYOz+BIR5IMQtAvAkCCAfND2C4zaoAdhD3T4hQFlySx4FPlg1odQID1/6/DmAhQ6BBZ4DgJAPn\n",
       "FXddZ6CuAoTnMIJvIhIbe8DDwCFsUQYDaJHNg2INWjJ5xMAAAHA6PhPQZp1jAAAAAElFTkSuQmCC\n",
       "\" style=\"display:inline;vertical-align:middle;\" /></a> : <a class=\"ProveItLink\" href=\"../__pv_it/03f8e67701db795510327e92992be2e32d3eb14e0/expr.ipynb\"><img src=\"data:image/png;base64,iVBORw0KGgoAAAANSUhEUgAAAEMAAAAOBAMAAACGIrzyAAAAMFBMVEX///9UVFSqqqrMzMwiIiKY\n",
       "mJgyMjIQEBCIiIh2dnZmZmbc3Nzu7u5ERES6uroAAACFTSmKAAAAAXRSTlMAQObYZgAAAGpJREFU\n",
       "GNNjYMAHmBUYCAGmhgFRsmtW+wH8SviqGfJBNGcaGCzAouR4AMNaAhatP8DgQUBJLQPPZ/xKeH4y\n",
       "MH1AcosAFiWfGBgTtPFbdIMhRGACDiVv7wLBAYaDHdYSD1DluVxc3EtcXAQA/xcjH3j22t4AAAAA\n",
       "SUVORK5CYII=\n",
       "\" style=\"display:inline;vertical-align:middle;\" /></a>, <a class=\"ProveItLink\" href=\"../../../../__pv_it/72df168d2bfb4e0140af90912ebf83b13772060b0/expr.ipynb\"><img src=\"data:image/png;base64,iVBORw0KGgoAAAANSUhEUgAAAAsAAAAJBAMAAAAWSsseAAAALVBMVEX///9mZmaqqqrMzMxEREQy\n",
       "MjIiIiKYmJh2dna6urrc3NxUVFSIiIju7u4AAACJHQtQAAAAAXRSTlMAQObYZgAAAEJJREFUCNdj\n",
       "YLhzeuWJAwy8Dew5bAEMHBc43nIuYOBlYHFgAAG+A2DKzgBIMF04x8BzgWGegh/DcgaG22fuiBcw\n",
       "AAATyhBrnyPYZQAAAABJRU5ErkJggg==\n",
       "\" style=\"display:inline;vertical-align:middle;\" /></a> : <a class=\"ProveItLink\" href=\"../__pv_it/2614a5f4f0b31a8f904bc24ba1b6498466377a010/expr.ipynb\"><img src=\"data:image/png;base64,iVBORw0KGgoAAAANSUhEUgAAAEQAAAAVBAMAAAAN71XTAAAAMFBMVEX///8QEBBmZmaqqqrMzMxE\n",
       "REQyMjIiIiKYmJh2dna6urrc3NxUVFSIiIju7u4AAAA6P00QAAAAAXRSTlMAQObYZgAAARFJREFU\n",
       "KM9jYMAGODSgDKd7DNgBXyacudABuxKOD3AmUwJ2JZwF2JhEKuEILy/Dr4Ql9gEOU97e2XXzAoj3\n",
       "7AGyON+lCwwbHzBwCgCZEzhq2cHOPg3XygPkc3IJMNyHeI7zAec/rg0giQC4EkNgYGwGejcUyE4C\n",
       "msLACpFjEUsDAhDLtRpIPGC8wPAXZGItkOAHu4SBOwA1SNc/YPkCpHJAAv7QMBZAuAWkWo2BVwDi\n",
       "FuYH9xl4wX7RRfVpDAPrAQawj9YbxDPsAEuwG6Ao0WFY3wBhvrn7VqMBEr9H1yEreXNXfwNGBHBN\n",
       "RY0ANXzRKAAKPr5feJSAvMHewHoBT3phAKY6rrsq4CBagEMJM3LaBQALvUhBF92wLgAAAABJRU5E\n",
       "rkJggg==\n",
       "\" style=\"display:inline;vertical-align:middle;\" /></a>, <a class=\"ProveItLink\" href=\"../../../../__pv_it/c6e291955561f22a0e6708fd793ea93f1c7dbb5d0/expr.ipynb\"><img src=\"data:image/png;base64,iVBORw0KGgoAAAANSUhEUgAAAAsAAAANBAMAAACN24kIAAAAMFBMVEX///8iIiKYmJhUVFTMzMxE\n",
       "REQyMjKqqqq6urp2dnYQEBDc3NxmZmaIiIju7u4AAACH5sGpAAAAAXRSTlMAQObYZgAAAFlJREFU\n",
       "CNdj4LtzgWHXAwZOjgUM9xkYtvMkMIQyMDzgusDwl4GBof8ByxcgdYyBdwGQCmZgNQBShxn6FYDU\n",
       "47vnNzAwgGUZGJgT+H4AKUYF1gtAiuPuESAJAJGkFvXVdzA+AAAAAElFTkSuQmCC\n",
       "\" style=\"display:inline;vertical-align:middle;\" /></a> : <a class=\"ProveItLink\" href=\"../__pv_it/67fe26e9a363c5cce332bbfe877e3f89d271606e0/expr.ipynb\"><img src=\"data:image/png;base64,iVBORw0KGgoAAAANSUhEUgAAADMAAAANBAMAAAD2/0vEAAAAMFBMVEX///8QEBBmZmaqqqrMzMxE\n",
       "REQyMjIiIiKYmJh2dna6urrc3NxUVFSIiIju7u4AAAA6P00QAAAAAXRSTlMAQObYZgAAAKFJREFU\n",
       "GNNjYHh7Z9fNCwwogO/SBYaNDxj4JnDUsicA+ZxpYKAAYnIJMNwHUg84/3FtQNW1mSmBIRSomYE1\n",
       "gAENPGC8wPAXxOC/gC7FsP4ByxcQ7e8A5kLtOgBiqzHwCjAwMD+4z8D7AE1XDAMrUMl6g3iGHegG\n",
       "6jCsb2BgeHP3rUYDutSbu/obGHABNRziPAl8v3BIsTewXsAhxXVXBUgCAM1cLDnk3FtcAAAAAElF\n",
       "TkSuQmCC\n",
       "\" style=\"display:inline;vertical-align:middle;\" /></a></span></td></tr><tr><td><a name=\"-0x58e8771184674aca_step2\">2</a></td><td>theorem</td><td></td><td><span style=\"font-size:20px;\"> <a class=\"ProveItLink\" href=\"../../../equality/_proofs_/subLeftSideInto.ipynb\" style=\"text-decoration: none\">&#x22A2;&nbsp;</a><a class=\"ProveItLink\" href=\"../../../equality/__pv_it/c544cc2018fec56ce96b530fc022bf6c30a3d2a00/expr.ipynb\"><img src=\"data:image/png;base64,iVBORw0KGgoAAAANSUhEUgAAAL8AAAAWBAMAAABj11ATAAAAMFBMVEX///8QEBCIiIhmZma6urrM\n",
       "zMxUVFQiIiJERETc3Nzu7u6qqqp2dnaYmJgyMjIAAAAcRTyBAAAAAXRSTlMAQObYZgAAAthJREFU\n",
       "SMe1VU1oE0EU/rruTzbZJl48eQkWSgkFcxFUREKFqmA19SDeDMEWKrXtoR4sKvGWCrW5WQRxBalY\n",
       "PAQ8iIK41IMQg0YURFDYs1C7KEpbi/rmp5vdJhHF+GD3zXxvZr43782bAf6H3JD6IX0ua3xoz7qd\n",
       "4yvDY3uBaEECegl4zhof2+R5gty9bCNekv0o9edIm4U2EZxygCdJvPaBRSBuA1a5TQQ7M/Q5OO8D\n",
       "tyhulYWFa+1K7ix94xlzwgfixLhSLF74w/k8tNpvBvygcH+Bkqbo7xjpo/hY1BwCpgF1dnT3mcYZ\n",
       "Gf6XRot3YpmW62vrwAMHkRpwD2+Tlyg+lOUDPNd4BTxrnCKzL4wjorOnJYHyrfo0BRiU0gpe2ofJ\n",
       "G4qWAYUYMUzpaUnAjZojOvMtCSJrXHXQHm0U+Z482njNYM2LEFBTAm7UszJxpZZlMOETAJ83CEz3\n",
       "BCuJVShT7ODu6qZ11G4Ydp1AGMmPvhymxIatruNDclkOijJIc8VCBO0rzx6jnD7NWuu9rKYVe8wg\n",
       "fithDwZ2IIx0mJ01bStiOYJSujupF0lmBOiXAYsUefBI8ZASScZ9xmK54hxgianrB9ETIBDGQzBv\n",
       "TygFqAzMxmtyAwLksmyL4Wmo3yOeSSO2sLwlkow1Lcev8v8+5AMEwtjPxutJaJwu4WeCg0z2/xST\n",
       "KC7RfKqL3aBxlrdOxpuQt4Xm8UKaxLYAgTCepOhmOrJQczzeyOqfSJYEGJL6VXGnfk0xh+bsm5Zr\n",
       "kcI51QsQcCMbbGSPkUOOecX0XkCeWgGGJHTZyRJZZuUzWJ5/s1ghhf4et04gjOxcqfmrFJKMtj16\n",
       "9kivLedyMFwPwes6JDJO5WgpUgvWgXCijLuYobhSgQYncTAk/oMT2VQysZJUunMUDQTUGVXJpcfi\n",
       "KfSFg82fzHebn7wNpb53mhAMYKBK7tGRqoXg6j9c8OnGDSr2X63wC2jlxTKsC1d/AAAAAElFTkSu\n",
       "QmCC\n",
       "\" style=\"display:inline;vertical-align:middle;\" /></a></span></td></tr>\n",
       "<tr><td>&nbsp;</td><td colspan=4 style-\"text-align:left\"><a class=\"ProveItLink\" href=\"../../../equality/_proofs_/subLeftSideInto.ipynb\">proveit.logic.equality.subLeftSideInto</a></td></tr><tr><td><a name=\"-0x58e8771184674aca_step3\">3</a></td><td>instantiation</td><td><a href=\"#-0x58e8771184674aca_step5\">5</a>, <a href=\"#-0x58e8771184674aca_step6\">6</a></td><td><span style=\"font-size:20px;\"><a class=\"ProveItLink\" href=\"../__pv_it/d2b93014ee07bfd1be6d5d82e9420145de66a64d0/expr.ipynb\"><img src=\"data:image/png;base64,iVBORw0KGgoAAAANSUhEUgAAAEUAAAAVCAMAAAAn3dPsAAAAOVBMVEX///8kJCQNDQ0oKCiIiIi6\n",
       "urrc3NxERETMzMwQEBCqqqpUVFQiIiJ2dnYyMjLu7u5mZmaYmJgAAACs2H6dAAAAAXRSTlMAQObY\n",
       "ZgAAAShJREFUOMutVNuWgyAMpLsJdwjw/x9bUHRB8NI95cFaE8dJZhLGyokhsv8cGYC2e/LuNt/R\n",
       "/DkqWe9iugXh/iwStoiztygGT0naxyhcsC+gGPkFlAsqIwoBGI7g4JgpOioEoWRwtcjm1MZ3bTNl\n",
       "vaMFZnc9nF/O70+5hv1pljf/QOoE1lXyYgmXiCG/pML1qq6oZS7wUtj6FjWhzqCm+5vTVKkobYUb\n",
       "C539mlBL5cgNM2EmU33L14+YncAeavryUmt3TG9XUAfjV400rR2DfmQ8H8iZ7dJqtKJg0kxkFN6P\n",
       "N4ZxdEzJjlO/kAHIVoiHHeHHYS6ZIfEPvKvD01HeS5ucCZViUkp4RLnYL3qyv2yuWcBAip3vugkV\n",
       "hrkr8m/XYVP9yd7FZ3v3DZ0jDFA94hHfAAAAAElFTkSuQmCC\n",
       "\" style=\"display:inline;vertical-align:middle;\" /></a> <a class=\"ProveItLink\" href=\"../__pv_it/e0af9122b6c5d0172b4c5e7c17fc5660c3668cde0/proof.ipynb\" style=\"text-decoration: none\">&#x22A2;&nbsp;</a><a class=\"ProveItLink\" href=\"../__pv_it/36e98f484e1a496152d49e050d293b169a841d9b0/expr.ipynb\"><img src=\"data:image/png;base64,iVBORw0KGgoAAAANSUhEUgAAAGwAAAAUBAMAAACaOcVSAAAAMFBMVEX////MzMxUVFR2dna6uroQ\n",
       "EBCqqqqIiIgiIiJmZmYyMjJERETu7u6YmJjc3NwAAACgK8IjAAAAAXRSTlMAQObYZgAAAStJREFU\n",
       "OMtjYOC7wIAT5OGWOo1bioHpARZBMTC5Do82ngVYBNNBBO8EPNoYzHFp43iAT9tRXNpe4NPFwOWA\n",
       "Q1slyAvleu5ozuGpLGB4eoCBeQIObXuB+DDDjYIuIM28CgxASplZAhjqgT4Hh4kVWHglsrY2ILZh\n",
       "sD/gh2rkM84FDLsZGNgacNgWAsQHQCpQwQHWAobvDAyMH/BoYwCpQAP+Bxg/4tEGciQDSAXCbwog\n",
       "9iwG9gAGBpYGhN8WoQdJDvsHhho0MzcxcCvAggSLbZZAI79xf8BI0JMY/IFCnAY4tHkA40i9pvIu\n",
       "uuSh8vnA9MMlgCY8o6MjtKOjCU/imgXEJ3BJ4kjKTAt4vuBIyhCwD6soxwXuAhwZB182ZSmfCCS5\n",
       "cWcPfIXCPVwSACuHVmZGz4OhAAAAAElFTkSuQmCC\n",
       "\" style=\"display:inline;vertical-align:middle;\" /></a></span></td></tr>\n",
       "<tr><td>&nbsp;</td><td colspan=4 style=\"text-align:left\"><span style=\"font-size:20px;\"><a class=\"ProveItLink\" href=\"../../../../__pv_it/d3792d0d8642fdf1cd2a3a9b32c673ee13653de00/expr.ipynb\"><img src=\"data:image/png;base64,iVBORw0KGgoAAAANSUhEUgAAAA8AAAAOBAMAAAACpFvcAAAALVBMVEX///8iIiIQEBBERERUVFS6\n",
       "urqIiIjc3NxmZmaqqqru7u6YmJgyMjLMzMwAAACK9jtgAAAAAXRSTlMAQObYZgAAAFtJREFUCNdj\n",
       "YACBOwxQcA5Kc59bAGGs7CuAMDbkBYBp1gXzNoAZSxnuJYAZAQx1DSCa16PDzwCshIGB6QCIMYGB\n",
       "gVEBSLMDGTwPgIxCIGZ+zsCw+N0pBk67hw0AfpEVEQi8t+wAAAAASUVORK5CYII=\n",
       "\" style=\"display:inline;vertical-align:middle;\" /></a> : <a class=\"ProveItLink\" href=\"../__pv_it/67fe26e9a363c5cce332bbfe877e3f89d271606e0/expr.ipynb\"><img src=\"data:image/png;base64,iVBORw0KGgoAAAANSUhEUgAAADMAAAANBAMAAAD2/0vEAAAAMFBMVEX///8QEBBmZmaqqqrMzMxE\n",
       "REQyMjIiIiKYmJh2dna6urrc3NxUVFSIiIju7u4AAAA6P00QAAAAAXRSTlMAQObYZgAAAKFJREFU\n",
       "GNNjYHh7Z9fNCwwogO/SBYaNDxj4JnDUsicA+ZxpYKAAYnIJMNwHUg84/3FtQNW1mSmBIRSomYE1\n",
       "gAENPGC8wPAXxOC/gC7FsP4ByxcQ7e8A5kLtOgBiqzHwCjAwMD+4z8D7AE1XDAMrUMl6g3iGHegG\n",
       "6jCsb2BgeHP3rUYDutSbu/obGHABNRziPAl8v3BIsTewXsAhxXVXBUgCAM1cLDnk3FtcAAAAAElF\n",
       "TkSuQmCC\n",
       "\" style=\"display:inline;vertical-align:middle;\" /></a></span></td></tr><tr><td><a name=\"-0x58e8771184674aca_step4\">4</a></td><td>instantiation</td><td><a href=\"#-0x58e8771184674aca_step7\">7</a></td><td><span style=\"font-size:20px;\"> <a class=\"ProveItLink\" href=\"../__pv_it/da7e6b6b4b82917e039c3f007480c00197ef69900/proof.ipynb\" style=\"text-decoration: none\">&#x22A2;&nbsp;</a><a class=\"ProveItLink\" href=\"../__pv_it/4e3c184d101d13bd4348af0dd3d53dc158a9687b0/expr.ipynb\"><img src=\"data:image/png;base64,iVBORw0KGgoAAAANSUhEUgAAAK8AAAAVBAMAAADC7aNVAAAAMFBMVEX////MzMxUVFR2dna6uroQ\n",
       "EBCqqqqIiIgiIiJmZmYyMjJERETu7u6YmJjc3NwAAACgK8IjAAAAAXRSTlMAQObYZgAAAj1JREFU\n",
       "OMudVT1oFEEU/s7d3F2yu3qtWGhnIYR0YhRMI1oEs0UqqzR2QRYtjoNArkokhZw2wkHwiJUpJKRJ\n",
       "QNQhIpGkuTIpIleo2AgniDYWvjcze5uZnT0Sp9n3Zr73vdn3N0DBila1cH4B/7fOdl274cuBeKsG\n",
       "PHBAfhRzSvi++8L9gTjaAc708q43iokl/LXzyGsaYtjJIcZ6xcQMj1onIcbVHOJwWHwJXjUcR9uP\n",
       "V5zEH3O2T4YRE/z7cb20JQpuPDZl57w5jJjgDfrsPvzyKGF9TxiBbST4KuDFrNsRq9BGWB+/bcUo\n",
       "tWnhLSkT0XJVZmc8yyvpnh9jURdIJM8n13m9YjGgKv2Ag4Qj58ntdfad2nSwRIrw/voy1FkF3afi\n",
       "/UaF9oZkJirbf16dA27gprhrbmsbgs/SjREoxtI9dszSBU6NGEnwh2+/TEd9i3iEgi6kX2NpG4LP\n",
       "snouUQnZMNoNM6L0kz5rKCCG9GsuZUPwJdYu1tRunMWYfbRRiXWM/WYW47U0FJB+BzG+hIENwSl5\n",
       "ZbGIiqyH52aNbSIgsKyKyG49Tt58pQ97RCkbgl+j28+91xNFXiMjfoaZrhZHJ+zWbMH/HfRzI0zZ\n",
       "EPwOsFPfXVXn4ZXp48Q79Re9tEFqFgH9bHh5oXFkx1jZENxsaf+62dLtVPx08pZuK3jREIq5ScJf\n",
       "px1C2obh7wrncbUbJHoeO8Zm4BybykbC3YMe9IL49aeypKecLO5Br2wk3P00oWy8eZ9P9zQR/B/K\n",
       "hbD70hDmYQAAAABJRU5ErkJggg==\n",
       "\" style=\"display:inline;vertical-align:middle;\" /></a></span></td></tr>\n",
       "<tr><td>&nbsp;</td><td colspan=4 style=\"text-align:left\"><span style=\"font-size:20px;\"><a class=\"ProveItLink\" href=\"../../../../__pv_it/72df168d2bfb4e0140af90912ebf83b13772060b0/expr.ipynb\"><img src=\"data:image/png;base64,iVBORw0KGgoAAAANSUhEUgAAAAsAAAAJBAMAAAAWSsseAAAALVBMVEX///9mZmaqqqrMzMxEREQy\n",
       "MjIiIiKYmJh2dna6urrc3NxUVFSIiIju7u4AAACJHQtQAAAAAXRSTlMAQObYZgAAAEJJREFUCNdj\n",
       "YLhzeuWJAwy8Dew5bAEMHBc43nIuYOBlYHFgAAG+A2DKzgBIMF04x8BzgWGegh/DcgaG22fuiBcw\n",
       "AAATyhBrnyPYZQAAAABJRU5ErkJggg==\n",
       "\" style=\"display:inline;vertical-align:middle;\" /></a> : <a class=\"ProveItLink\" href=\"../../../../__pv_it/72df168d2bfb4e0140af90912ebf83b13772060b0/expr.ipynb\"><img src=\"data:image/png;base64,iVBORw0KGgoAAAANSUhEUgAAAAsAAAAJBAMAAAAWSsseAAAALVBMVEX///9mZmaqqqrMzMxEREQy\n",
       "MjIiIiKYmJh2dna6urrc3NxUVFSIiIju7u4AAACJHQtQAAAAAXRSTlMAQObYZgAAAEJJREFUCNdj\n",
       "YLhzeuWJAwy8Dew5bAEMHBc43nIuYOBlYHFgAAG+A2DKzgBIMF04x8BzgWGegh/DcgaG22fuiBcw\n",
       "AAATyhBrnyPYZQAAAABJRU5ErkJggg==\n",
       "\" style=\"display:inline;vertical-align:middle;\" /></a>, <a class=\"ProveItLink\" href=\"../../../../__pv_it/c6e291955561f22a0e6708fd793ea93f1c7dbb5d0/expr.ipynb\"><img src=\"data:image/png;base64,iVBORw0KGgoAAAANSUhEUgAAAAsAAAANBAMAAACN24kIAAAAMFBMVEX///8iIiKYmJhUVFTMzMxE\n",
       "REQyMjKqqqq6urp2dnYQEBDc3NxmZmaIiIju7u4AAACH5sGpAAAAAXRSTlMAQObYZgAAAFlJREFU\n",
       "CNdj4LtzgWHXAwZOjgUM9xkYtvMkMIQyMDzgusDwl4GBof8ByxcgdYyBdwGQCmZgNQBShxn6FYDU\n",
       "47vnNzAwgGUZGJgT+H4AKUYF1gtAiuPuESAJAJGkFvXVdzA+AAAAAElFTkSuQmCC\n",
       "\" style=\"display:inline;vertical-align:middle;\" /></a> : <a class=\"ProveItLink\" href=\"../../../../__pv_it/c6e291955561f22a0e6708fd793ea93f1c7dbb5d0/expr.ipynb\"><img src=\"data:image/png;base64,iVBORw0KGgoAAAANSUhEUgAAAAsAAAANBAMAAACN24kIAAAAMFBMVEX///8iIiKYmJhUVFTMzMxE\n",
       "REQyMjKqqqq6urp2dnYQEBDc3NxmZmaIiIju7u4AAACH5sGpAAAAAXRSTlMAQObYZgAAAFlJREFU\n",
       "CNdj4LtzgWHXAwZOjgUM9xkYtvMkMIQyMDzgusDwl4GBof8ByxcgdYyBdwGQCmZgNQBShxn6FYDU\n",
       "47vnNzAwgGUZGJgT+H4AKUYF1gtAiuPuESAJAJGkFvXVdzA+AAAAAElFTkSuQmCC\n",
       "\" style=\"display:inline;vertical-align:middle;\" /></a></span></td></tr><tr><td><a name=\"-0x58e8771184674aca_step5\">5</a></td><td>axiom</td><td></td><td><span style=\"font-size:20px;\"> <a class=\"ProveItLink\" href=\"../../../boolean/negation/_axioms_.ipynb#negationElim\" style=\"text-decoration: none\">&#x22A2;&nbsp;</a><a class=\"ProveItLink\" href=\"../../../boolean/negation/__pv_it/22bd342d68dbc19f9504d702df4ef3f4fe1381ad0/expr.ipynb\"><img src=\"data:image/png;base64,iVBORw0KGgoAAAANSUhEUgAAAJcAAAAWBAMAAAA/XRM3AAAAMFBMVEX///8QEBCIiIhmZma6urrM\n",
       "zMxUVFQiIiJERETc3Nzu7u6qqqp2dnaYmJgyMjIAAAAcRTyBAAAAAXRSTlMAQObYZgAAAbRJREFU\n",
       "OMtjYCAWcF7AL78TiB+AGHeJMGwFhIrDIhUNItgmMDCcBjFeEWHYSwj1HovUJhDBBXTWDJAPGgib\n",
       "xWsAod4vwGEYwyEGBj6gJM8GwoaxTwBTq+0n4DJsIdCqU6tWTSfCl1A1F/QdcBnGB5T50dFRQ4Rh\n",
       "ymCSZcH+C7gM4wEGRCoDQyeYAyFZUNV1whi9YHIJQ7wCiD73DgQeoxjGC4wBZ3A8ANlfwEIcqMH+\n",
       "BcaqBpMODPMNcLmMuwAYsgxMYJcv/ovFMKggEIiACNZk4/wGXIaxfgB69QI7mH2qGIthUEGYYcAw\n",
       "YHyAzzDOB2FgpkIHpmEwQZg3gUmIXQARZs9QDGMpAIVxCjg3MJhjGgYThEYAJ9Awvg+4XAaKAIbN\n",
       "IBMZbjPoIxl2oqOj4wFCEAgOQ9Max09chjEfABL8oMjmenymfwGqyxIQgkDgDszq/18xcPd/R4tO\n",
       "8/JywfLyMqCbA0DOA6lnXsAwPwDdMLggIjvhAcvhLF+gCy+gGwYXRGR0POAQjMHxg4GzvxbVsAkI\n",
       "QZS8gANwYUkzHAQKR5yAYwIJhhEqtm8ykGAYOYCZAr0AOed5gytoZ+0AAAAASUVORK5CYII=\n",
       "\" style=\"display:inline;vertical-align:middle;\" /></a></span></td></tr>\n",
       "<tr><td>&nbsp;</td><td colspan=4 style-\"text-align:left\"><a class=\"ProveItLink\" href=\"../../../boolean/negation/_axioms_.ipynb#negationElim\">proveit.logic.boolean.negation.negationElim</a></td></tr><tr><td><a name=\"-0x58e8771184674aca_step6\">6</a></td><td>instantiation</td><td><a href=\"#-0x58e8771184674aca_step8\">8</a>, <a href=\"#-0x58e8771184674aca_step9\">9</a></td><td><span style=\"font-size:20px;\"><a class=\"ProveItLink\" href=\"../__pv_it/d2b93014ee07bfd1be6d5d82e9420145de66a64d0/expr.ipynb\"><img src=\"data:image/png;base64,iVBORw0KGgoAAAANSUhEUgAAAEUAAAAVCAMAAAAn3dPsAAAAOVBMVEX///8kJCQNDQ0oKCiIiIi6\n",
       "urrc3NxERETMzMwQEBCqqqpUVFQiIiJ2dnYyMjLu7u5mZmaYmJgAAACs2H6dAAAAAXRSTlMAQObY\n",
       "ZgAAAShJREFUOMutVNuWgyAMpLsJdwjw/x9bUHRB8NI95cFaE8dJZhLGyokhsv8cGYC2e/LuNt/R\n",
       "/DkqWe9iugXh/iwStoiztygGT0naxyhcsC+gGPkFlAsqIwoBGI7g4JgpOioEoWRwtcjm1MZ3bTNl\n",
       "vaMFZnc9nF/O70+5hv1pljf/QOoE1lXyYgmXiCG/pML1qq6oZS7wUtj6FjWhzqCm+5vTVKkobYUb\n",
       "C539mlBL5cgNM2EmU33L14+YncAeavryUmt3TG9XUAfjV400rR2DfmQ8H8iZ7dJqtKJg0kxkFN6P\n",
       "N4ZxdEzJjlO/kAHIVoiHHeHHYS6ZIfEPvKvD01HeS5ucCZViUkp4RLnYL3qyv2yuWcBAip3vugkV\n",
       "hrkr8m/XYVP9yd7FZ3v3DZ0jDFA94hHfAAAAAElFTkSuQmCC\n",
       "\" style=\"display:inline;vertical-align:middle;\" /></a> <a class=\"ProveItLink\" href=\"../__pv_it/fa638a05530a94bd68989e7326c83c27f3911b8d0/proof.ipynb\" style=\"text-decoration: none\">&#x22A2;&nbsp;</a><a class=\"ProveItLink\" href=\"../__pv_it/59991d6f4f6a6fee66f719ee8735e568d95f12220/expr.ipynb\"><img src=\"data:image/png;base64,iVBORw0KGgoAAAANSUhEUgAAAFEAAAAUBAMAAAAHNMzaAAAAMFBMVEX///+6uroQEBCqqqqIiIgy\n",
       "MjJERETu7u6YmJjMzMxUVFTc3Nx2dnYiIiJmZmYAAAAutVgsAAAAAXRSTlMAQObYZgAAAR5JREFU\n",
       "KM9jYIAD7gYGnMAahVeGWyED1wZkXjQelewBSByOB3hUMhxBYvNuwKeyCIm9F59CBlYBBNsPiEu8\n",
       "Nvo4oLnQz4FhUwEDD5LbMoCiBziu8ILczhMKBiBZHkYFBn+gLwIY3t4FgjtAoctA0QKe74xozt3M\n",
       "F8CQxsDAfAHC3QXEikAzGdgS0B1YwOTA8IWBgfMDikoGBn4HDL/IF3D+RFV5GcSYPwHMh7pzAYj9\n",
       "lIFFgYGBEcl2oI+YC/wZWArQzMxiYFsA9hEYcALxOaBFBvkMO9Btf8UgD0w6fAcQIrIMDFUuJS8w\n",
       "ElSVy3tgcLBOICY2nwJxLeEUwhXA/hEthTBkY1XJ28DmgJbqcKRkRpeXQJINxWn4ckc3AwMAHYtC\n",
       "/IscEZ0AAAAASUVORK5CYII=\n",
       "\" style=\"display:inline;vertical-align:middle;\" /></a></span></td></tr>\n",
       "<tr><td>&nbsp;</td><td colspan=4 style=\"text-align:left\"><span style=\"font-size:20px;\"><a class=\"ProveItLink\" href=\"../../../../__pv_it/72df168d2bfb4e0140af90912ebf83b13772060b0/expr.ipynb\"><img src=\"data:image/png;base64,iVBORw0KGgoAAAANSUhEUgAAAAsAAAAJBAMAAAAWSsseAAAALVBMVEX///9mZmaqqqrMzMxEREQy\n",
       "MjIiIiKYmJh2dna6urrc3NxUVFSIiIju7u4AAACJHQtQAAAAAXRSTlMAQObYZgAAAEJJREFUCNdj\n",
       "YLhzeuWJAwy8Dew5bAEMHBc43nIuYOBlYHFgAAG+A2DKzgBIMF04x8BzgWGegh/DcgaG22fuiBcw\n",
       "AAATyhBrnyPYZQAAAABJRU5ErkJggg==\n",
       "\" style=\"display:inline;vertical-align:middle;\" /></a> : <a class=\"ProveItLink\" href=\"../../../../__pv_it/72df168d2bfb4e0140af90912ebf83b13772060b0/expr.ipynb\"><img src=\"data:image/png;base64,iVBORw0KGgoAAAANSUhEUgAAAAsAAAAJBAMAAAAWSsseAAAALVBMVEX///9mZmaqqqrMzMxEREQy\n",
       "MjIiIiKYmJh2dna6urrc3NxUVFSIiIju7u4AAACJHQtQAAAAAXRSTlMAQObYZgAAAEJJREFUCNdj\n",
       "YLhzeuWJAwy8Dew5bAEMHBc43nIuYOBlYHFgAAG+A2DKzgBIMF04x8BzgWGegh/DcgaG22fuiBcw\n",
       "AAATyhBrnyPYZQAAAABJRU5ErkJggg==\n",
       "\" style=\"display:inline;vertical-align:middle;\" /></a>, <a class=\"ProveItLink\" href=\"../../../../__pv_it/c6e291955561f22a0e6708fd793ea93f1c7dbb5d0/expr.ipynb\"><img src=\"data:image/png;base64,iVBORw0KGgoAAAANSUhEUgAAAAsAAAANBAMAAACN24kIAAAAMFBMVEX///8iIiKYmJhUVFTMzMxE\n",
       "REQyMjKqqqq6urp2dnYQEBDc3NxmZmaIiIju7u4AAACH5sGpAAAAAXRSTlMAQObYZgAAAFlJREFU\n",
       "CNdj4LtzgWHXAwZOjgUM9xkYtvMkMIQyMDzgusDwl4GBof8ByxcgdYyBdwGQCmZgNQBShxn6FYDU\n",
       "47vnNzAwgGUZGJgT+H4AKUYF1gtAiuPuESAJAJGkFvXVdzA+AAAAAElFTkSuQmCC\n",
       "\" style=\"display:inline;vertical-align:middle;\" /></a> : <a class=\"ProveItLink\" href=\"../../../../__pv_it/c6e291955561f22a0e6708fd793ea93f1c7dbb5d0/expr.ipynb\"><img src=\"data:image/png;base64,iVBORw0KGgoAAAANSUhEUgAAAAsAAAANBAMAAACN24kIAAAAMFBMVEX///8iIiKYmJhUVFTMzMxE\n",
       "REQyMjKqqqq6urp2dnYQEBDc3NxmZmaIiIju7u4AAACH5sGpAAAAAXRSTlMAQObYZgAAAFlJREFU\n",
       "CNdj4LtzgWHXAwZOjgUM9xkYtvMkMIQyMDzgusDwl4GBof8ByxcgdYyBdwGQCmZgNQBShxn6FYDU\n",
       "47vnNzAwgGUZGJgT+H4AKUYF1gtAiuPuESAJAJGkFvXVdzA+AAAAAElFTkSuQmCC\n",
       "\" style=\"display:inline;vertical-align:middle;\" /></a></span></td></tr><tr><td><a name=\"-0x58e8771184674aca_step7\">7</a></td><td>theorem</td><td></td><td><span style=\"font-size:20px;\"> <a class=\"ProveItLink\" href=\"singletonDef.ipynb\" style=\"text-decoration: none\">&#x22A2;&nbsp;</a><a class=\"ProveItLink\" href=\"../__pv_it/300a4a51522dc8adb6872803a231506fef43c8700/expr.ipynb\"><img src=\"data:image/png;base64,iVBORw0KGgoAAAANSUhEUgAAAO8AAAAWBAMAAADaw9ZbAAAAMFBMVEX///8QEBCIiIhmZma6urrM\n",
       "zMxUVFQiIiJERETc3Nzu7u6qqqp2dnaYmJgyMjIAAAAcRTyBAAAAAXRSTlMAQObYZgAAAvdJREFU\n",
       "SMe9Vk1oE0EUfk033e1mN81BrxISCKUILUI92VgVLHqwLYJ4U4qCvUgoShGlFA+aHMQIQosiTnuI\n",
       "UkQinuopxItU0ICCFBQCQkFRCaLgz8V582aTzO5sf0R88LFvZ9637+28N28G4C/EHZLK0T7499Jd\n",
       "IwTF/tRU940BLGtM7oR/d1miji/vNAb3JTQ/3GiqnZzeVQyGNhvuGM0Rz/Hlo8bgg0RQnJyi2vWA\n",
       "RbwY7hjNEfO4qpoA3QHCxo6hGrB4tV4Oq4Q44/RycNosEtpCuTo9o3W8ECBfWM/xAsFdWVqa00zP\n",
       "STQlepmF/HF82F+XufUcozniRz5/STOdlljM3NyZxIGHTElsOgk3GDgJfPdnJMIH7NTkfl8OPM4A\n",
       "UU4DFDSOrxHsijtliuqZbNUlf3eMBPTLAnfF/IsvKO9RtfgufABvkjPquMepEw7oyhLgIsFhzi9D\n",
       "pLpVgI/45r3NN1Ke6/jBmH9lTV4zK/CSHVKHJQfNESZEdG1iG8EGizxGd2DgqB3H0mEdSfiKfz/F\n",
       "pxo+bgfPIBNxKSI5aI5waiaEOwboSVLBzCrtCkZZ9Dt/rEGIYxBxqUIcz3F3/RhurMEM/5yRAZMp\n",
       "Sw1wYowGEq0cYwxZiCRkjo1cK5dr3lKDiEsdJw6aC0rhFK9DdtbkYTo9bFwtrhjr55M4sEvdQ1fA\n",
       "OglU1a6/RrC4nkQa4D9CiOMVFzzm34nCZ5y5NQK90ugpYbR8XXZ8s6w43g2jNal2VvytbQCM31Yj\n",
       "cMQQB80FhZL4U0ztgQlpNEIopRaHiG+fOdzuuJTaW/QayJjPAV9Ie6IvHTh6iIPmguIyUSBRnDoH\n",
       "20NbpvFMbZlZT723+ZaZleZNyl2n7sA8g/NGYxOHRAKbiP1tq4eE5FTbKaXX1RUYL8PB3mahFEDf\n",
       "0qiUzZqVlOexpv9Y2mOROLaGUraLVm3jiwDwG4iRGhRbeljrRX8RIA6a+yixYlflyCauPhBT7lyr\n",
       "W7v6rAYpLhhvK/Cf5A++k+7nZyRUgwAAAABJRU5ErkJggg==\n",
       "\" style=\"display:inline;vertical-align:middle;\" /></a></span></td></tr>\n",
       "<tr><td>&nbsp;</td><td colspan=4 style-\"text-align:left\"><a class=\"ProveItLink\" href=\"singletonDef.ipynb\">proveit.logic.set_theory.enumeration.singletonDef</a></td></tr><tr><td><a name=\"-0x58e8771184674aca_step8\">8</a></td><td>theorem</td><td></td><td><span style=\"font-size:20px;\"> <a class=\"ProveItLink\" href=\"../../../equality/_proofs_/unfoldNotEquals.ipynb\" style=\"text-decoration: none\">&#x22A2;&nbsp;</a><a class=\"ProveItLink\" href=\"../../../equality/__pv_it/d8b3875553e1ba5a00e3208ff67f573c457304db0/expr.ipynb\"><img src=\"data:image/png;base64,iVBORw0KGgoAAAANSUhEUgAAAL8AAAAWCAMAAACmJ70SAAAAOVBMVEX///8oKCgUFBQNDQ0QEBCI\n",
       "iIhmZma6urrMzMxUVFQiIiJERETc3Nzu7u6qqqp2dnaYmJgyMjIAAAArQGDrAAAAAXRSTlMAQObY\n",
       "ZgAAAk9JREFUWMPNV4tyrCAMpb2GNwL+/8deojwVRdt1ppnppmOS3UNyEiIhr4t2Tw3XMuta+/zc\n",
       "uVfgG/XUMBKhK23n9NibV/B7/dQwzIivtE5Z0OoV+I4+NYzFQqVT2kshPipSPzXcKMBUaWcNipbv\n",
       "NK98arjFSVbpRaFI+wp+oAODARCaQaLEacqBooeeVrbYGLxqwfFfdaOc7PIXuk/V2VCLBhPS5iQQ\n",
       "meeg9ZXk01vCkCywbL0TvVfNaNXTl3LV4ZT3Wb51FZVZbGOw4dh2MYRdp0/PhCJCtUGYI/k2jR/g\n",
       "fodfi/7ziZ04RoMpoAbFnZA/y0YzvpUhauu2M/wGvzI/w08KqAF3Q5ECXt7Brz3hIk1UykFEKjDA\n",
       "p9J08TeehNl+RKLJEX8xJFA9/peqrvSBODiZbLTSYssGGCI8kSz1TDgzn7r5z55inV7/wp/rRBz7\n",
       "N+GPhtlsPQmjy1+J9LHv3/AlNJ4nJMLnH9QGjweqi7/xJDCfRORJ10QWA1tmopY7qxwV6B3dqG11\n",
       "xcClGgRoFnDG/+JZNrF9RK70kc+rwQiAMNpvrI7oSdNPet5qZwoZc4bISqSJn+CPniKw9PsLueo6\n",
       "EZ/dH2ha3GSrM2OW0D3I4rDM4YkkDyXrzp/i2c7OfcTH9rfQbMQsrLO/NTVyzAJeKXxCRjMBynfx\n",
       "F892du4jri529aQAMlRXQWd/Pn3LCXa9mx/9+T+XzekQ8bH3FxbYz3cHv0oAvpyJsHT48f1VuRwi\n",
       "3nh/dLrVfSc8s7N2fP+66oY6RPwtoX8P0n+B2Bt/1EqtEwAAAABJRU5ErkJggg==\n",
       "\" style=\"display:inline;vertical-align:middle;\" /></a></span></td></tr>\n",
       "<tr><td>&nbsp;</td><td colspan=4 style-\"text-align:left\"><a class=\"ProveItLink\" href=\"../../../equality/_proofs_/unfoldNotEquals.ipynb\">proveit.logic.equality.unfoldNotEquals</a></td></tr><tr><td><a name=\"-0x58e8771184674aca_step9\">9</a></td><td>assumption</td><td></td><td><span style=\"font-size:20px;\"><a class=\"ProveItLink\" href=\"../__pv_it/d2b93014ee07bfd1be6d5d82e9420145de66a64d0/expr.ipynb\"><img src=\"data:image/png;base64,iVBORw0KGgoAAAANSUhEUgAAAEUAAAAVCAMAAAAn3dPsAAAAOVBMVEX///8kJCQNDQ0oKCiIiIi6\n",
       "urrc3NxERETMzMwQEBCqqqpUVFQiIiJ2dnYyMjLu7u5mZmaYmJgAAACs2H6dAAAAAXRSTlMAQObY\n",
       "ZgAAAShJREFUOMutVNuWgyAMpLsJdwjw/x9bUHRB8NI95cFaE8dJZhLGyokhsv8cGYC2e/LuNt/R\n",
       "/DkqWe9iugXh/iwStoiztygGT0naxyhcsC+gGPkFlAsqIwoBGI7g4JgpOioEoWRwtcjm1MZ3bTNl\n",
       "vaMFZnc9nF/O70+5hv1pljf/QOoE1lXyYgmXiCG/pML1qq6oZS7wUtj6FjWhzqCm+5vTVKkobYUb\n",
       "C539mlBL5cgNM2EmU33L14+YncAeavryUmt3TG9XUAfjV400rR2DfmQ8H8iZ7dJqtKJg0kxkFN6P\n",
       "N4ZxdEzJjlO/kAHIVoiHHeHHYS6ZIfEPvKvD01HeS5ucCZViUkp4RLnYL3qyv2yuWcBAip3vugkV\n",
       "hrkr8m/XYVP9yd7FZ3v3DZ0jDFA94hHfAAAAAElFTkSuQmCC\n",
       "\" style=\"display:inline;vertical-align:middle;\" /></a> <a class=\"ProveItLink\" href=\"../__pv_it/a87fd1e441cbb53fe0e18ca4de7ab80b5a73c0370/proof.ipynb\" style=\"text-decoration: none\">&#x22A2;&nbsp;</a><a class=\"ProveItLink\" href=\"../__pv_it/91739890e6b95281778e0648d72a421a410205670/expr.ipynb\"><img src=\"data:image/png;base64,iVBORw0KGgoAAAANSUhEUgAAADMAAAAUCAMAAAAX1vWWAAAAOVBMVEX///8QEBAkJCQNDQ0oKChm\n",
       "ZmaqqqrMzMxEREQyMjIiIiKYmJh2dna6urrc3NxUVFSIiIju7u4AAACrOLOkAAAAAXRSTlMAQObY\n",
       "ZgAAANNJREFUOMutU9kOwyAMM9u4Wo7A/3/sSK+N0iIxLQ+AglPbIQW64RJGI9jhEkQ/TmN+oNH/\n",
       "pElEMXhydL4wuoZJRgRRWpkcME+E6eiRs0u8nrzKIwsvykZ5ewKXE3zo0gQFyV81LDjth1PoWDsA\n",
       "BGvLu4VMbY058/oiBjpv7Mfhy89DrK4+bIs0Yk9QafVF9WjZ0BDHffFZwZSaMNdCZCNWRkYzLEWi\n",
       "0vq5LoFtB5qRMofbd1byOi87g35BEws85ftBV67NTUW9oSEa+OKmN+f9X+0NZpkIQHTqGcUAAAAA\n",
       "SUVORK5CYII=\n",
       "\" style=\"display:inline;vertical-align:middle;\" /></a></span></td></tr>\n",
       "</table>"
      ],
      "text/plain": [
       "\tstep type\trequirements\tstatement\n",
       "0\tgeneralizaton\t1\t|- forall_{x, y | x != y} ((x in {y}) = FALSE)\n",
       "1\tinstantiation\t2, 3, 4\t{x != y} |- (x in {y}) = FALSE\n",
       "\tP(_a) : _a = FALSE, x : x in {y}, y : x = y\n",
       "2\ttheorem\t\t|- forall_{P, x, y | P(y), x = y} P(x)\n",
       "\tproveit.logic.equality.subLeftSideInto\n",
       "3\tinstantiation\t5, 6\t{x != y} |- (x = y) = FALSE\n",
       "\tA : x = y\n",
       "4\tinstantiation\t7\t|- (x in {y}) = (x = y)\n",
       "\tx : x, y : y\n",
       "5\taxiom\t\t|- forall_{A | [not](A)} (A = FALSE)\n",
       "\tproveit.logic.boolean.negation.negationElim\n",
       "6\tinstantiation\t8, 9\t{x != y} |- [not](x = y)\n",
       "\tx : x, y : y\n",
       "7\ttheorem\t\t|- forall_{x, y} ((x in {y}) = (x = y))\n",
       "\tproveit.logic.set_theory.enumeration.singletonDef\n",
       "8\ttheorem\t\t|- forall_{x, y | x != y} [not](x = y)\n",
       "\tproveit.logic.equality.unfoldNotEquals\n",
       "9\tassumption\t\t{x != y} |- x != y"
      ]
     },
     "execution_count": 10,
     "metadata": {},
     "output_type": "execute_result"
    }
   ],
   "source": [
    "%qed"
   ]
  }
 ],
 "metadata": {
  "kernelspec": {
   "display_name": "Python 3",
   "language": "python",
   "name": "python3"
  }
 },
 "nbformat": 4,
 "nbformat_minor": 0
}
