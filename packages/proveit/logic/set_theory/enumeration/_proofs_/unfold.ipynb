{
 "cells": [
  {
   "cell_type": "markdown",
   "metadata": {},
   "source": [
    "Proof of <a class=\"ProveItLink\" href=\"../../../../_context_.ipynb\">proveit</a>.<a class=\"ProveItLink\" href=\"../../../_context_.ipynb\">logic</a>.<a class=\"ProveItLink\" href=\"../../_context_.ipynb\">set_theory</a>.<a class=\"ProveItLink\" href=\"../_context_.ipynb\">enumeration</a>.<a href=\"../_theorems_.ipynb#unfold\" class=\"ProveItLink\">unfold</a> theorem\n",
    "========\n",
    "*** see <a href=\"../__pv_it/b4e0e013be878a4c77f8dbfff5095973b7bbdd180/dependencies.ipynb\" class=\"ProveItLink\">dependencies</a> ***"
   ]
  },
  {
   "cell_type": "code",
   "execution_count": 1,
   "metadata": {},
   "outputs": [],
   "source": [
    "import proveit\n",
    "from proveit import defaults\n",
    "from proveit._common_ import x, yy\n",
    "from proveit.logic.set_theory.enumeration._axioms_ import enumSetDef"
   ]
  },
  {
   "cell_type": "code",
   "execution_count": 2,
   "metadata": {},
   "outputs": [
    {
     "name": "stdout",
     "output_type": "stream",
     "text": [
      "Beginning proof of unfold\n",
      "Recorded 'presuming' information\n"
     ]
    },
    {
     "data": {
      "text/html": [
       "<strong id=\"unfold\">unfold:</strong> <a class=\"ProveItLink\" href=\"../__pv_it/e3f0b09ec930e7f470c34206dd6ba5dac3e246f30/expr.ipynb\"><img src=\"data:image/png;base64,iVBORw0KGgoAAAANSUhEUgAAAggAAAAZBAMAAACmx8tHAAAAMFBMVEX///8QEBCIiIhmZma6urrM\n",
       "zMxUVFQiIiJERETc3Nzu7u6qqqp2dnaYmJgyMjIAAAAcRTyBAAAAAXRSTlMAQObYZgAABUNJREFU\n",
       "WMPtWV1oHFUUPtnM7M/szCYP9qH6MiYQg6Z0odQ+NKlbBfOiZpMH60PEpVhEUVk0NhqLFEWdWNSx\n",
       "yDZEWscq0a5YF8pSAwpLUl8aK0PJg0orA+qDghL8Q/sg3t+Z2ZmdO7tBVlEvnLs3O3s+5nzn3HPO\n",
       "vQEQjeTsE/BvH9LsIfEPUvBfGJX/SfinkZCxqYhG1uwATDiWmSASHPxxOZKEHP7Q7O6Q8A4T4bi/\n",
       "AzBxwjOpIBLW8N/fRZKg1tBHzuoOCd8yEY7TeJLJshh6WPQexgIpDhVEwgKOnMORJJBHC93hQMtT\n",
       "EQ9Vx17E1mp66OEBPF3kYDFjhUmFeJm4OyIn4CBZ6w4JKZNKjAP7sbNL+PfhAL0TT3McLGa8waQC\n",
       "2vlq9ZggMV6qVk+Vu0PCMSYx42se7LeEn+WQ6VIe2gPKFaig6vCbYRwSkNBnGM83ukPCIJOTQ6+O\n",
       "BCJdGdThFeb4VTydQTLfonYgAtImtAek5qlUyDaaF5CAdl/abN+QQvCL6ZjKIt/gLl+kojS0R1I4\n",
       "Yak/kIEdq0r9sB1kkru+ZG8mt8pkKGjv4mDRQCwHOVQqOKhIinRf6tFzcG3JIwEF1+kOvBl8sczV\n",
       "sZXKjbMnqaiWekUK8P5arwOGvIPsy7N4SuiQLLRAGwC4l4NFAvGwKVOpYEMTrrPeXR2DD1Sr1/I1\n",
       "S2XYtjkSlA932JB14jS8X1xFRYF0yMdWjw4/gkRIuIeAl1v75m3uUiEQ8/cGFUSCart9oXZk0YKP\n",
       "9Lzq7xgvQHlzJHy2XIXNkIDyULj2TVjyL34SYHfrmtVbY6VOCBQiIeOguqKNTQ2ydFuvH20i4QQu\n",
       "R+rgFC7BN5do/Wk6hQ35axUlYWXnUJEmaWyiWMsjgW0HZCbtgthWJntzDyT6GQnj5OGJ1r7JOCkP\n",
       "LAqIWkvgJLodYB5tIm2v3WPSFrquvjftJyFdQXvv+qQzg9aNK3I/PBBoXvqsyUAkJKyHU4Wca6JY\n",
       "yyOBJcastR0hBIx7DtIlRgJJjJC+W28ZWM9edMEigai1/sQIZxD04nXQZynEd3VorPpJyO7C7WgO\n",
       "543MW+XE4elAqlsch+EACTJ8D/AmT3sxWspW/t0qlYnay3A8aNuNMGEzEkZpLN9HzXsfN79/sAVu\n",
       "l+ZcsEggYi3aOg0qFb5x9sNekB83jKcRCcdTTadIkkf6SJbtbST1UGiPIuVgTvgdYJ9hGLr8TLzW\n",
       "Pl4exqksDZwcC9XVpYGbTEbCN/Sbr9gr4iA/yBeo+8m7YNFA2Fr00yIVTIKGKd0CozKUaCRIU00k\n",
       "fEGzEd5eqUJPMWTODGzRdl9u+EmQN2RIugVQrOVFgrht3kM3MK4LNJYiTtCWBxYJRKxFlYQKv0/I\n",
       "bMBMHT7Gy3XUKgfvEzIbn0Ij8wKkihOkNUfLBYtMCxY8Jm1kh3maIiS8rjoqqEW+47kWUyGTp+Xl\n",
       "BMEBKukoP9OiTg9Q7Z3GooCotb4DFEvWJRixIY2qi/RUgTnRR4Ly0G0jlnwNSPtfIuag5aQpb0XT\n",
       "ZA1uHXbgAG/fyMfS+sp5gCOcBK41WSMqePJp+YroPER1ryk7rUNm1686tN26CYCotb6jdNMYRjkh\n",
       "+mYpC6dw0p0jSz5qipm2oZxYD/UJCZQTiImuVq2Vlo+E6EsVaWCn2Lh2L1V8QPg0kDY7vV5bhgcl\n",
       "B6Z+qrFrKXrblWzcAUope6F124xN5FrezZhfy0dCO9dr2l92vfY5k85IsOH2T9wlfyeQLjUEZwec\n",
       "9riWBq20kl06o27+orXj/zuE0tHRuFPk2t9MgTR78E/dcLBPHCwMSgAAAABJRU5ErkJggg==\n",
       "\" style=\"display:inline;vertical-align:middle;\" /></a><br>(see <a class=\"ProveItLink\" href=\"../__pv_it/e3f0b09ec930e7f470c34206dd6ba5dac3e246f30/dependencies.ipynb\">dependencies</a>)<br>"
      ],
      "text/plain": [
       "unfold: forall_{n in Naturals} [forall_{x, y_{1}, ..y_{_a}.., y_{n} | x in {y_{1}, ..y_{_a}.., y_{n}}} ((x = y_{1}) or ..(x = y_{i}).. or (x = y_{n}))]"
      ]
     },
     "execution_count": 2,
     "metadata": {},
     "output_type": "execute_result"
    }
   ],
   "source": [
    "%proving unfold presuming []"
   ]
  },
  {
   "cell_type": "code",
   "execution_count": 3,
   "metadata": {},
   "outputs": [
    {
     "data": {
      "text/html": [
       "<strong id=\"defaults.assumptions\">defaults.assumptions:</strong> <a class=\"ProveItLink\" href=\"../__pv_it/9baf1cfb1944d1dfc02e6be41ad23f5099f2370f0/expr.ipynb\"><img src=\"data:image/png;base64,iVBORw0KGgoAAAANSUhEUgAAANsAAAAVBAMAAAA9T4a3AAAAMFBMVEX////MzMxUVFR2dna6uroQ\n",
       "EBCqqqqIiIgiIiJmZmYyMjJERETu7u6YmJjc3NwAAACgK8IjAAAAAXRSTlMAQObYZgAAAtdJREFU\n",
       "SMetVk1oE0EU/pLdJptmEpcKongwBUGpGIIoIqIEoepBaEBBEJVcvBVdFAkBocGDLaISvUQDxaAg\n",
       "KCKhl4paXQoS0UNb8OJFc1Dxoq3SImgqvpnd2WzsbiDBhRne7vfe+3bfvJ8Furti4x2pr7sgpfhs\n",
       "F2zsbocGgzpwmgtvvNDXv5+Y2LGU9v24hQ7pIhUgWCfhkSc8FUiA+ftUCh3ScQNGlLGiJ7xZzwGZ\n",
       "/0uHnYBWbwnS47HLQtj4LKhjhU8H7o7uJfDF/TAwadpSso89XEHXhLuj600jD6jbvuVKVoZId0iG\n",
       "jD5JVzv78ZzRCoujyBv4ZLahqJUQPy4N+MEoRUzRHp3EjIhp0lFNYnvMsOhYKjaqVVrhIN0ragYj\n",
       "CFR96VKDCC+4UzlWwSVgDTmb1/nDqosuaPZbdIqpNNR6K3yK1D9Tcj8N3PINazxbRtQxuU8rVMAR\n",
       "wJxJ44M4m2MP6LLpWKLXykwmjZrw+mu0mT0GfkL1pWM4ilWGE49RcrDA6XAGGBDv4/46rA7IQrCN\n",
       "XDBvEhgyA9/b0EFtYIMub+5A0FEwUQaWGX+WcdPFstK9NGrCwaowC2fa0VGwz+PdXK4oz450KVVw\n",
       "GKGGwhVKjmo/rb0WXcgcQdhshUVeTyCaaEdH6ATensBJmZmUKrsoSItQKnNcQctK1XvW281QBg5l\n",
       "X+ArWmFBdwNDs4KOa4mN/XILkYS6HK8V0JAGkRQOim+MbxWe2JZDlru1S1XR47QrwHSuNm5NDQe2\n",
       "rKdzt+uCjmtBS9B2UQpjFA62Kf8HQUPNOGWu/9PE1N12l5LXMDxhu6uUYQVzeEUgQ6Z9ej16JKXb\n",
       "Bq98W7RTqj49KcNLnS2KWvLS4qkwAKqweWj79WaLxvO2Y9Twn3fabNRA/OYPw0urRusqJoF9CO+x\n",
       "5x0fQN7j1XHrB9A0V3PX/bX4YR/I681CpUkdrXf784BQF/8q74G/CbrGY7IFSjIAAAAASUVORK5C\n",
       "YII=\n",
       "\" style=\"display:inline;vertical-align:middle;\" /></a><br>"
      ],
      "text/plain": [
       "defaults.assumptions: (n in Naturals, x in {y_{1}, ..y_{_a}.., y_{n}})"
      ]
     },
     "execution_count": 3,
     "metadata": {},
     "output_type": "execute_result"
    }
   ],
   "source": [
    "defaults.assumptions = unfold.allConditions()"
   ]
  },
  {
   "cell_type": "code",
   "execution_count": 4,
   "metadata": {},
   "outputs": [
    {
     "data": {
      "text/html": [
       "<span style=\"font-size:20px;\"> <a class=\"ProveItLink\" href=\"../_axioms_.ipynb#enumSetDef\" style=\"text-decoration: none\">&#x22A2;&nbsp;</a><a class=\"ProveItLink\" href=\"../__pv_it/4270e5b76f9af746d90e2238447d338340d1b0e00/expr.ipynb\"><img src=\"data:image/png;base64,iVBORw0KGgoAAAANSUhEUgAAAl4AAAAXBAMAAAAox1w4AAAAMFBMVEX///8QEBCIiIhmZma6urrM\n",
       "zMxUVFQiIiJERETc3Nzu7u6qqqp2dnaYmJgyMjIAAAAcRTyBAAAAAXRSTlMAQObYZgAABl9JREFU\n",
       "WMPtWH2IVFUUPzvz5uvNm90h8g+N4rkDtojlYpR/uNqsgkufO24g/mHssLiUUTHYln3KIqSzRTVF\n",
       "pGxozyU011onZDGFYHA3CE0b1AhDZSAVDJGhL2qj6J5773vvzn0f7lsliLpw3sy8j9/8zu/dc+45\n",
       "F+AfHKmlgW5/ZD78u0boai74Q4kqM+dQrwSE6iR/f8jl/A5uPiNZCkDXdxzihojnB6CG586536pl\n",
       "m+m0qAZx8iNuLtOrHlCvMCEXdTquDjLzHesD0PUdSICSQMRJOIbnfvDSSyuTj2YjiJOXubnAFQLq\n",
       "hQ+oNcfp5hIz3zFGjzQ+Io6LEfvi5WuRQAKUxBjVazvOyUEvveiV7YFyVDuzG6UXHHGcPsXN/1kd\n",
       "j/14OOmcMyhVSgdPquI4wg0RJ+nkobPIVS86844F8TFWYiYouHXjpuvQa5fj9Avc/KdFGo+r8fCi\n",
       "c37lkakBMlXXsYsbIk5C6ujo6Dbw1Ovs6OjeQG5u42Zz22xc1/xqzsoZusDsGuOCGbpKu3vSWAEy\n",
       "VfeBBCiJC6gX/FYsvuytV0uxuLUSxMcMt5F57y6gITFmNKSjjA5v++XDkUWQmGM+gHNEk90NtTNT\n",
       "W9cvl4JVRJ+gyyS5L+4yhQ4QGwKZqjsQEqAkJqhe/fxJd71IpMdLQfR6g5laSW2I1RoXqij5rSlp\n",
       "WOj3fKUTQnVxQU1RlBNXcXyPX+NVZh/DtzoGukYvXUWPRPTz9Ehe0Rq3rEHm/SBIVD2AkAAlcZ7q\n",
       "tcJtCbL0IpN5LFAMvcRMM7QphQptryWfkiz7PqkRipyrazlUXgZx6yrqk5RDL1ZmdhS+Nu5rvCSi\n",
       "H6RnWgHWuVWWOkSzIFOVgXgpV+AkDlK9YhAS66vIM5MwN2/pRV7QHYH0upmZanoduQ3fGX5bgzna\n",
       "aNLhx8hdnulHhZugxQqO6AYCIFdtTVlmhuWRNUT0Xnpmj/tsUAt8GohUZSBTkTon0Uv10qox67Z9\n",
       "E0vhM80IG7Zex6EwE73A9FqoVbBch24j8gso3pjKFPRaXcUl8NELLI/sIaAzvcJl98V/CV/1RaoO\n",
       "IFe9ErXV1sr/+rABn+vtmh2PsDOSn0k8guV12s5fKN0yCKX99CKBMLehIWD3svx1SYxH4B7xtENp\n",
       "Cuhd7HXVYq5/s5NPA5GqA4i/wQIn0UX1gqF12An3ZPgKOz7+jqhX/D1y0DI9WPktzztrGWUeK2Sk\n",
       "fJ80FkKInl/UWB5sgXjeTy9ydQuc+qa13VwfU3I8mfn+MFkX5I5cQGf5Hl496f43j+omXZuqBMRE\n",
       "kfM9HCDwqc5qU4n1kuPaJ2sFvZKLyZf50doArl1TkTQ8Ia0JLcYq8fcEs+7yW7wljpUb9LoHuqvU\n",
       "o/3YZ/wF7Iv9K5xX/oTTt8Js84GwXM7w9V35I153NMsWOkAHO7OaveHGfyNz8zHDpGtTlYCYKJQA\n",
       "JdHB9MLoHb4dWgyVVjrjUJkQ9KJJIteMxBIfFkKDa+c0Ag93QZv4u4vZ7taRpcwZ9fH7Rb12t95b\n",
       "oh7F0JHnUNC8edhIfFD7Mr8nRgowZdWr8h4Jjw+1b37GsU9goQNc5NUmK98ovvVvfOmVqUpAVBRG\n",
       "gJK4yPRKodJ90AmR54vFzUSvHTFRr+9oRqTrbbgS1R0R2UGe9e2HlC8b+6FlPB0cdm7CGDyDRXUl\n",
       "bT6wJ1g/ZKKrPOQTHsXxsE3XEwhFYQT2cMRJ8+os6IhAns0vpUfUC9higwLHsk05h14DMCu15Fxl\n",
       "Ov12GmtW9WfukbNtwLz5NOzPQlMuXMnNoN8W0DV92tsDnkBUFKnf5m+hDgPj8AV+PQ1wVtIrUT8B\n",
       "lcRrEMt10+51u0F+8AM8q9STbULRMQReDQMud7FqXGfln+p0aITYK7AZ4AOIPZBj+18u5RM2HO5N\n",
       "h40+7SrbnSoFYqJI+zk8ZvKwoApxkpqVTaQJkvRSn3pwgRG5BZS+N6leq8qR2bCqhIcyrGyrQb9Q\n",
       "sHvvF8IVAt96N9F/8a86pJzXMYsszxChVkLoOBZsWVdhvPcLbXTPHm96+4UUiItivp0hQS8+2kj+\n",
       "EruGTWKuTcJeXH4xHu0SsKyWyNpeCJ2exn40JGewf39mZvvRqRu2H32GGyLeORCA/iF4UqlBz09l\n",
       "YXM8WYpWHgY1nzwO/w9HtDz0FX959msE5WzlvyTC38cdAxLYHTYdAAAAAElFTkSuQmCC\n",
       "\" style=\"display:inline;vertical-align:middle;\" /></a></span>"
      ],
      "text/plain": [
       "|- forall_{n in Naturals} [forall_{x, y_{1}, ..y_{_a}.., y_{n}} ((x in {y_{1}, ..y_{_a}.., y_{n}}) = ((x = y_{1}) or ..(x = y_{i}).. or (x = y_{n})))]"
      ]
     },
     "execution_count": 4,
     "metadata": {},
     "output_type": "execute_result"
    }
   ],
   "source": [
    "enumSetDef"
   ]
  },
  {
   "cell_type": "code",
   "execution_count": 5,
   "metadata": {},
   "outputs": [],
   "source": [
    "#enumSetDef.specialize({x:x, yy:yy})"
   ]
  },
  {
   "cell_type": "code",
   "execution_count": null,
   "metadata": {},
   "outputs": [],
   "source": []
  },
  {
   "cell_type": "code",
   "execution_count": 6,
   "metadata": {},
   "outputs": [],
   "source": [
    "#%qed"
   ]
  },
  {
   "cell_type": "code",
   "execution_count": null,
   "metadata": {},
   "outputs": [],
   "source": []
  }
 ],
 "metadata": {
  "kernelspec": {
   "display_name": "Python 3",
   "language": "python",
   "name": "python3"
  }
 },
 "nbformat": 4,
 "nbformat_minor": 0
}
