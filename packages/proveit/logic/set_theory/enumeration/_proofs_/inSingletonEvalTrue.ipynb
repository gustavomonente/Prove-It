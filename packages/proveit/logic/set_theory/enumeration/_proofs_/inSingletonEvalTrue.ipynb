{
 "cells": [
  {
   "cell_type": "markdown",
   "metadata": {},
   "source": [
    "Proof of <a class=\"ProveItLink\" href=\"../../../../_context_.ipynb\">proveit</a>.<a class=\"ProveItLink\" href=\"../../../_context_.ipynb\">logic</a>.<a class=\"ProveItLink\" href=\"../../_context_.ipynb\">set_theory</a>.<a class=\"ProveItLink\" href=\"../_context_.ipynb\">enumeration</a>.<a href=\"../_theorems_.ipynb#inSingletonEvalTrue\" class=\"ProveItLink\">inSingletonEvalTrue</a> theorem\n",
    "========\n",
    "*** see <a href=\"../__pv_it/d54b0fde8b81d29e5cd335f6b161fc34b2a266ec0/dependencies.ipynb\" class=\"ProveItLink\">dependencies</a> ***"
   ]
  },
  {
   "cell_type": "code",
   "execution_count": 1,
   "metadata": {},
   "outputs": [
    {
     "name": "stdout",
     "output_type": "stream",
     "text": [
      "Beginning proof of inSingletonEvalTrue\n",
      "Recorded 'presuming' information\n"
     ]
    },
    {
     "name": "stdout",
     "output_type": "stream",
     "text": [
      "Presuming previous theorems (applied transitively).\n"
     ]
    },
    {
     "data": {
      "text/html": [
       "<strong id=\"inSingletonEvalTrue\">inSingletonEvalTrue:</strong> <a class=\"ProveItLink\" href=\"../__pv_it/a80ef282132cddf590a2ff3f36ad0381955385d70/expr.ipynb\"><img src=\"data:image/png;base64,iVBORw0KGgoAAAANSUhEUgAAAO8AAAAXBAMAAAARnwX+AAAAMFBMVEX///8QEBCIiIhmZma6urrM\n",
       "zMxUVFQiIiJERETc3Nzu7u6qqqp2dnaYmJgyMjIAAAAcRTyBAAAAAXRSTlMAQObYZgAAAsdJREFU\n",
       "SMe1lj9oFEEUxj+Tvexlb/dyhWnlSOAIIuQQoo3GiGBA0CQItoooxOYIQU2hiFiYSyGuICQo4pji\n",
       "lBRymMpujYUSQRa0ERQXhICCEkTBWDlvZv8mOxdWkgfvdu59w/x2Zt68WWBL7Z0rnyd3Y+ut05We\n",
       "Yk+doHV4FHiuHIIUjxqfsoCf+J5in8NWOx+3w16v758iuyyUNxT4lgX81fcUexW2zAnA8FK6PKMf\n",
       "UuZo8a5n4FpV6ZuDsaQCk1JkvFczA1i3pcdeZXrqWir4kRLMFWt5YWE2y0rP+h5a7gZTzLg4pAKT\n",
       "8qdev5oF3Ov7fOXunrJIZRZfaqO3jDsMZonoVRWYlPPAzAZ5SA2+Jd1wrEldZM+FSKvxIbUS+vlC\n",
       "rtIeCP3tD7IvCTApR9Kyr0W2XZFuMvOvZif7FrqB+/wg1XmbQIUJ1YxJ0dHmZgHvlG4gLzvldtGE\n",
       "RGuavwjbUcZP/qdjkgdWVWBSTFfHf4CBrrIsZFFfjc8YIyz3mz9WsBm40ztFB2ugwoucVoHOIrAM\n",
       "iiEDIVxq4LSvlaJRx7kPoq3k77E2Ee3xSgIslJlzQBur6TyhzC42Fs1YBMfr3NxQCJOrwPp5Bwrs\n",
       "TRaQm8ifgcxqy1PNWCiLnJ7Dd/p/bxh9EdgPJgTgpfSR5m08kBWlmQDvw4jrn+N2RwUWityrNRE4\n",
       "gLPxPV4L+wcCMCy90TN/UCalMX4sDm70HLKDAjK6EXxcFhBSLCZ2O0eBi+iOgSlYow1yQyGtZGqv\n",
       "kyVzMKhcj5UZGioPTc/EHMMlbTUCi6BvgdD6knjBj5Fn/Gp1SSC4JKQ13i8tY6yJo31eBBZB3wIB\n",
       "ss7NKO9j3c2X/fs49VpEcC3GrWnYeTf1HIdC6w+BogOtZ0B8gfAzkrdV4HVKwe5wTqQXkFBo/emD\n",
       "xfg31wflSq9TLGgfnXRwKGy3Vbed8A/0398pfKI0bQAAAABJRU5ErkJggg==\n",
       "\" style=\"display:inline;vertical-align:middle;\" /></a><br>(see <a class=\"ProveItLink\" href=\"../__pv_it/a80ef282132cddf590a2ff3f36ad0381955385d70/dependencies.ipynb\">dependencies</a>)<br>"
      ],
      "text/plain": [
       "inSingletonEvalTrue: forall_{x, y | x = y} ((x in {y}) = TRUE)"
      ]
     },
     "execution_count": 1,
     "metadata": {},
     "output_type": "execute_result"
    }
   ],
   "source": [
    "import proveit\n",
    "from proveit import defaults\n",
    "from proveit._common_ import x, y\n",
    "from proveit.logic import Equals, TRUE\n",
    "from proveit.logic.set_theory.enumeration._theorems_ import singletonDef\n",
    "%proving inSingletonEvalTrue presuming []"
   ]
  },
  {
   "cell_type": "code",
   "execution_count": 2,
   "metadata": {},
   "outputs": [
    {
     "data": {
      "text/html": [
       "<strong id=\"defaults.assumptions\">defaults.assumptions:</strong> <a class=\"ProveItLink\" href=\"../__pv_it/70bf536dfa94d81518701de35cdfc98ed313dae20/expr.ipynb\"><img src=\"data:image/png;base64,iVBORw0KGgoAAAANSUhEUgAAAD8AAAAUBAMAAADIGvgZAAAAMFBMVEX////MzMxUVFR2dna6uroQ\n",
       "EBCqqqqIiIgiIiJmZmYyMjJERETu7u6YmJjc3NwAAACgK8IjAAAAAXRSTlMAQObYZgAAAQxJREFU\n",
       "KM9jYOC7wIAT5IGI07jlGZgeAIl1eBTwLGBg4J2ARwGDOQMDxwN8Co4yMLzAJ8/A5cBQCaSOFz0p\n",
       "LkCzvbKA4ekBBuYJDHuBHAPedg6gcxiYV4EByFXMLAEM9UAXLmBoA3IOMP9hQXPKM84FDLsZGNga\n",
       "GEKAJjBwb0C3/ABrAcN3BgbGDyAFDAz8BRjO8z/A+BGsoA3EkxcAC0LdoABiz2JgD2BgYGkAOZLt\n",
       "QD0D+wE0EzYxcCuAHWkJNC1hP8NbdCsmMfgDY5HTgMGDgeFQ+fG5GFF6qHw+0GNcAniCehYQn8AZ\n",
       "WUwLeL5AIothH1YFHBe4CyDRjSPBsJRPBJLcIPvxJbl7DAwAFGxGib3L4kEAAAAASUVORK5CYII=\n",
       "\" style=\"display:inline;vertical-align:middle;\" /></a><br>"
      ],
      "text/plain": [
       "defaults.assumptions: (x = y)"
      ]
     },
     "execution_count": 2,
     "metadata": {},
     "output_type": "execute_result"
    }
   ],
   "source": [
    "defaults.assumptions = inSingletonEvalTrue.conditions"
   ]
  },
  {
   "cell_type": "code",
   "execution_count": 3,
   "metadata": {},
   "outputs": [
    {
     "data": {
      "text/html": [
       "<strong id=\"state1\">state1:</strong> <span style=\"font-size:20px;\"><a class=\"ProveItLink\" href=\"../__pv_it/d9aa16cee1003e720590c03fa1d7b2b87d525c490/expr.ipynb\"><img src=\"data:image/png;base64,iVBORw0KGgoAAAANSUhEUgAAAEUAAAAVBAMAAADiLT7tAAAAMFBMVEX///+IiIi6urrc3NxERETM\n",
       "zMwQEBCqqqpUVFQiIiJ2dnYyMjLu7u5mZmaYmJgAAABN0h6tAAAAAXRSTlMAQObYZgAAAP1JREFU\n",
       "KM9jYGDgu8eAE7BePACieHYx4AFMqSCS7wM+NQy3QQTXBLxqVg6EGh7BZsWFaJIHLzIw5zAwLAOx\n",
       "OTYwMJxieCkwG8RZvRsE9oKYC9QYGIFefg9ilwUwMKxhWH9AGdUY5oLbDCwODAzcFxgYQiYDBQ4w\n",
       "uKC7g4chkYFfAMjoBBJqASChj5gh/IchHijF3QByjwMoXr5CJCDu2QFi8m5gEGOAugfkrxqg62TQ\n",
       "zGFpYPBggPoLqIbpO8sH5gdoangbmP4hhQ9Po4zsOwxHN8p+JhzOQBfB1CRgV9HNcF4BpgZX+pnH\n",
       "4AhPPww40qGiLCjgmJLAHHZC6RkAjq1HZgQ0M1oAAAAASUVORK5CYII=\n",
       "\" style=\"display:inline;vertical-align:middle;\" /></a> <a class=\"ProveItLink\" href=\"../__pv_it/6ce36308321b3a2a8cb3392b6659196fc8b045830/proof.ipynb\" style=\"text-decoration: none\">&#x22A2;&nbsp;</a><a class=\"ProveItLink\" href=\"../__pv_it/67603ed339136105fb1beb6547d6137ff25487450/expr.ipynb\"><img src=\"data:image/png;base64,iVBORw0KGgoAAAANSUhEUgAAAGwAAAAUBAMAAACaOcVSAAAAMFBMVEX////MzMxUVFR2dna6uroQ\n",
       "EBCqqqqIiIgiIiJmZmYyMjJERETu7u6YmJjc3NwAAACgK8IjAAAAAXRSTlMAQObYZgAAASlJREFU\n",
       "OMtjYOC7wIAT5OGWOo1bioHpAbrIjA4QaGJgWIdHG88CLILpIIJ3Ah5tDOa4tHE8wKftKC5tL/Dp\n",
       "YuBywKGtEuSFcj13NOfwVBYwPD3AwDwBh7a9QHyY4UZBF5BmXgUGIKXMLAEM9UCfg8PECiy8Ellb\n",
       "GxDbMNgf8EM18hnnAobdDAxsDThsCwHiAyAVqOAAawHDdwYGxg94tDGAVKAB/wOMH/FoAzmSAaQC\n",
       "4TcFEHsWA3sAAwNLA8Jvi9CDJIf9A0MNmpmbGLgVYEGCxTZLoJHfuD9gJOhJDP5AIU4DHNo8gHGk\n",
       "XlN5F13yUPl8YPrhEsDU5os/cc0C4hO4JHEkZaYFPF9wJGUI2IdVlOMCdwGOjIMvm7KUTwSS3Liz\n",
       "B75C4R4uCQDhB1bQou8tWwAAAABJRU5ErkJggg==\n",
       "\" style=\"display:inline;vertical-align:middle;\" /></a></span><br>"
      ],
      "text/plain": [
       "state1: {x = y} |- (x = y) = TRUE"
      ]
     },
     "execution_count": 3,
     "metadata": {},
     "output_type": "execute_result"
    }
   ],
   "source": [
    "state1 = Equals(Equals(x,y), TRUE).prove()"
   ]
  },
  {
   "cell_type": "code",
   "execution_count": 4,
   "metadata": {},
   "outputs": [
    {
     "data": {
      "text/html": [
       "<strong id=\"state2\">state2:</strong> <span style=\"font-size:20px;\"> <a class=\"ProveItLink\" href=\"../__pv_it/da7e6b6b4b82917e039c3f007480c00197ef69900/proof.ipynb\" style=\"text-decoration: none\">&#x22A2;&nbsp;</a><a class=\"ProveItLink\" href=\"../__pv_it/4e3c184d101d13bd4348af0dd3d53dc158a9687b0/expr.ipynb\"><img src=\"data:image/png;base64,iVBORw0KGgoAAAANSUhEUgAAAK8AAAAVBAMAAADC7aNVAAAAMFBMVEX////MzMxUVFR2dna6uroQ\n",
       "EBCqqqqIiIgiIiJmZmYyMjJERETu7u6YmJjc3NwAAACgK8IjAAAAAXRSTlMAQObYZgAAAj1JREFU\n",
       "OMudVT1oFEEU/s7d3F2yu3qtWGhnIYR0YhRMI1oEs0UqqzR2QRYtjoNArkokhZw2wkHwiJUpJKRJ\n",
       "QNQhIpGkuTIpIleo2AgniDYWvjcze5uZnT0Sp9n3Zr73vdn3N0DBila1cH4B/7fOdl274cuBeKsG\n",
       "PHBAfhRzSvi++8L9gTjaAc708q43iokl/LXzyGsaYtjJIcZ6xcQMj1onIcbVHOJwWHwJXjUcR9uP\n",
       "V5zEH3O2T4YRE/z7cb20JQpuPDZl57w5jJjgDfrsPvzyKGF9TxiBbST4KuDFrNsRq9BGWB+/bcUo\n",
       "tWnhLSkT0XJVZmc8yyvpnh9jURdIJM8n13m9YjGgKv2Ag4Qj58ntdfad2nSwRIrw/voy1FkF3afi\n",
       "/UaF9oZkJirbf16dA27gprhrbmsbgs/SjREoxtI9dszSBU6NGEnwh2+/TEd9i3iEgi6kX2NpG4LP\n",
       "snouUQnZMNoNM6L0kz5rKCCG9GsuZUPwJdYu1tRunMWYfbRRiXWM/WYW47U0FJB+BzG+hIENwSl5\n",
       "ZbGIiqyH52aNbSIgsKyKyG49Tt58pQ97RCkbgl+j28+91xNFXiMjfoaZrhZHJ+zWbMH/HfRzI0zZ\n",
       "EPwOsFPfXVXn4ZXp48Q79Re9tEFqFgH9bHh5oXFkx1jZENxsaf+62dLtVPx08pZuK3jREIq5ScJf\n",
       "px1C2obh7wrncbUbJHoeO8Zm4BybykbC3YMe9IL49aeypKecLO5Br2wk3P00oWy8eZ9P9zQR/B/K\n",
       "hbD70hDmYQAAAABJRU5ErkJggg==\n",
       "\" style=\"display:inline;vertical-align:middle;\" /></a></span><br>"
      ],
      "text/plain": [
       "state2: |- (x in {y}) = (x = y)"
      ]
     },
     "execution_count": 4,
     "metadata": {},
     "output_type": "execute_result"
    }
   ],
   "source": [
    "state2 = singletonDef.instantiate({x:x, y:y})"
   ]
  },
  {
   "cell_type": "code",
   "execution_count": 5,
   "metadata": {},
   "outputs": [
    {
     "data": {
      "text/html": [
       "<strong id=\"goal\">goal:</strong> <span style=\"font-size:20px;\"><a class=\"ProveItLink\" href=\"../__pv_it/d9aa16cee1003e720590c03fa1d7b2b87d525c490/expr.ipynb\"><img src=\"data:image/png;base64,iVBORw0KGgoAAAANSUhEUgAAAEUAAAAVBAMAAADiLT7tAAAAMFBMVEX///+IiIi6urrc3NxERETM\n",
       "zMwQEBCqqqpUVFQiIiJ2dnYyMjLu7u5mZmaYmJgAAABN0h6tAAAAAXRSTlMAQObYZgAAAP1JREFU\n",
       "KM9jYGDgu8eAE7BePACieHYx4AFMqSCS7wM+NQy3QQTXBLxqVg6EGh7BZsWFaJIHLzIw5zAwLAOx\n",
       "OTYwMJxieCkwG8RZvRsE9oKYC9QYGIFefg9ilwUwMKxhWH9AGdUY5oLbDCwODAzcFxgYQiYDBQ4w\n",
       "uKC7g4chkYFfAMjoBBJqASChj5gh/IchHijF3QByjwMoXr5CJCDu2QFi8m5gEGOAugfkrxqg62TQ\n",
       "zGFpYPBggPoLqIbpO8sH5gdoangbmP4hhQ9Po4zsOwxHN8p+JhzOQBfB1CRgV9HNcF4BpgZX+pnH\n",
       "4AhPPww40qGiLCjgmJLAHHZC6RkAjq1HZgQ0M1oAAAAASUVORK5CYII=\n",
       "\" style=\"display:inline;vertical-align:middle;\" /></a> <a class=\"ProveItLink\" href=\"../__pv_it/e9fdb0b7d08dbb5673dd7986b4eeeb105336472c0/proof.ipynb\" style=\"text-decoration: none\">&#x22A2;&nbsp;</a><a class=\"ProveItLink\" href=\"../__pv_it/860d759ca92567e4bc52ab36a388a763234755e50/expr.ipynb\"><img src=\"data:image/png;base64,iVBORw0KGgoAAAANSUhEUgAAAH4AAAAVBAMAAAByPkciAAAAMFBMVEX////MzMxUVFR2dna6uroQ\n",
       "EBCqqqqIiIgiIiJmZmYyMjJERETu7u6YmJjc3NwAAACgK8IjAAAAAXRSTlMAQObYZgAAAaZJREFU\n",
       "OMtjYMAFbl6A0JI1DHgB3wWswqcMYCxXAQaGPNz6T2MXvg9ncS5gYGB6gC4/owMEmhgY1mHXbwFn\n",
       "MTcwMPAswKIkHUTwTiBGP4M5Lv0cKC7j3dHRhVX/UVz6XyCLMG4/gMN+Lgcc+iuB+HjRk+ICcKAf\n",
       "QHY/T2UBw9MDDMwBIEMm4NC/F6jOgLedAxxAeghJLaAelgCGeqCfPoA8Bpa3WgUCK5H1twHVHWD+\n",
       "wwIOhg1w7WyBDAzPgDG3G8gGqWdrwGF/CNB+Bm6IRsYokPFg1g6geQdYCxi+AzlM7UCBD7j1MzDw\n",
       "F0CSIsJ+FqD9DP4HGD8CqUUMePS3gQh5AYhIAEJSG4hnMbAHQP3P0oDw/yK08GM7UM/ADg756ajp\n",
       "ZxMDtwIDJPx5F+Cw3xLozIT9DG/BIhwJKPonMfhfgMY/pwEO/R4MDIfKj8+FZEIebR9k/YfK5z+A\n",
       "pR8BTP2+mOmXxRo1/c6Cpb8TuLIvrvxjCoy3BTxf8OUfCNiHM/9zXOAugOZ/rPkXb/nBZcDAUj4R\n",
       "XP4Asw73A1LLL4ZM5PLvHi7dALkVcjncJWNNAAAAAElFTkSuQmCC\n",
       "\" style=\"display:inline;vertical-align:middle;\" /></a></span><br>"
      ],
      "text/plain": [
       "goal: {x = y} |- (x in {y}) = TRUE"
      ]
     },
     "execution_count": 5,
     "metadata": {},
     "output_type": "execute_result"
    }
   ],
   "source": [
    "goal = state2.subLeftSideInto(state1)"
   ]
  },
  {
   "cell_type": "code",
   "execution_count": 6,
   "metadata": {},
   "outputs": [
    {
     "data": {
      "text/html": [
       "<table><tr><th>&nbsp;</th><th>step type</th><th>requirements</th><th>statement</th></tr>\n",
       "<tr><td><a name=\"0xed8af0c0af2aa23_step0\">0</a></td><td>generalizaton</td><td><a href=\"#0xed8af0c0af2aa23_step1\">1</a></td><td><span style=\"font-size:20px;\"> <a class=\"ProveItLink\" href=\"../__pv_it/811a20fc559b05ff0f744b24b784c2032ead8c890/proof.ipynb\" style=\"text-decoration: none\">&#x22A2;&nbsp;</a><a class=\"ProveItLink\" href=\"../__pv_it/a80ef282132cddf590a2ff3f36ad0381955385d70/expr.ipynb\"><img src=\"data:image/png;base64,iVBORw0KGgoAAAANSUhEUgAAAO8AAAAXBAMAAAARnwX+AAAAMFBMVEX///8QEBCIiIhmZma6urrM\n",
       "zMxUVFQiIiJERETc3Nzu7u6qqqp2dnaYmJgyMjIAAAAcRTyBAAAAAXRSTlMAQObYZgAAAsdJREFU\n",
       "SMe1lj9oFEEUxj+Tvexlb/dyhWnlSOAIIuQQoo3GiGBA0CQItoooxOYIQU2hiFiYSyGuICQo4pji\n",
       "lBRymMpujYUSQRa0ERQXhICCEkTBWDlvZv8mOxdWkgfvdu59w/x2Zt68WWBL7Z0rnyd3Y+ut05We\n",
       "Yk+doHV4FHiuHIIUjxqfsoCf+J5in8NWOx+3w16v758iuyyUNxT4lgX81fcUexW2zAnA8FK6PKMf\n",
       "UuZo8a5n4FpV6ZuDsaQCk1JkvFczA1i3pcdeZXrqWir4kRLMFWt5YWE2y0rP+h5a7gZTzLg4pAKT\n",
       "8qdev5oF3Ov7fOXunrJIZRZfaqO3jDsMZonoVRWYlPPAzAZ5SA2+Jd1wrEldZM+FSKvxIbUS+vlC\n",
       "rtIeCP3tD7IvCTApR9Kyr0W2XZFuMvOvZif7FrqB+/wg1XmbQIUJ1YxJ0dHmZgHvlG4gLzvldtGE\n",
       "RGuavwjbUcZP/qdjkgdWVWBSTFfHf4CBrrIsZFFfjc8YIyz3mz9WsBm40ztFB2ugwoucVoHOIrAM\n",
       "iiEDIVxq4LSvlaJRx7kPoq3k77E2Ee3xSgIslJlzQBur6TyhzC42Fs1YBMfr3NxQCJOrwPp5Bwrs\n",
       "TRaQm8ifgcxqy1PNWCiLnJ7Dd/p/bxh9EdgPJgTgpfSR5m08kBWlmQDvw4jrn+N2RwUWityrNRE4\n",
       "gLPxPV4L+wcCMCy90TN/UCalMX4sDm70HLKDAjK6EXxcFhBSLCZ2O0eBi+iOgSlYow1yQyGtZGqv\n",
       "kyVzMKhcj5UZGioPTc/EHMMlbTUCi6BvgdD6knjBj5Fn/Gp1SSC4JKQ13i8tY6yJo31eBBZB3wIB\n",
       "ss7NKO9j3c2X/fs49VpEcC3GrWnYeTf1HIdC6w+BogOtZ0B8gfAzkrdV4HVKwe5wTqQXkFBo/emD\n",
       "xfg31wflSq9TLGgfnXRwKGy3Vbed8A/0398pfKI0bQAAAABJRU5ErkJggg==\n",
       "\" style=\"display:inline;vertical-align:middle;\" /></a></span></td></tr>\n",
       "<tr><td><a name=\"0xed8af0c0af2aa23_step1\">1</a></td><td>instantiation</td><td><a href=\"#0xed8af0c0af2aa23_step2\">2</a>, <a href=\"#0xed8af0c0af2aa23_step3\">3</a>, <a href=\"#0xed8af0c0af2aa23_step4\">4</a></td><td><span style=\"font-size:20px;\"><a class=\"ProveItLink\" href=\"../__pv_it/d9aa16cee1003e720590c03fa1d7b2b87d525c490/expr.ipynb\"><img src=\"data:image/png;base64,iVBORw0KGgoAAAANSUhEUgAAAEUAAAAVBAMAAADiLT7tAAAAMFBMVEX///+IiIi6urrc3NxERETM\n",
       "zMwQEBCqqqpUVFQiIiJ2dnYyMjLu7u5mZmaYmJgAAABN0h6tAAAAAXRSTlMAQObYZgAAAP1JREFU\n",
       "KM9jYGDgu8eAE7BePACieHYx4AFMqSCS7wM+NQy3QQTXBLxqVg6EGh7BZsWFaJIHLzIw5zAwLAOx\n",
       "OTYwMJxieCkwG8RZvRsE9oKYC9QYGIFefg9ilwUwMKxhWH9AGdUY5oLbDCwODAzcFxgYQiYDBQ4w\n",
       "uKC7g4chkYFfAMjoBBJqASChj5gh/IchHijF3QByjwMoXr5CJCDu2QFi8m5gEGOAugfkrxqg62TQ\n",
       "zGFpYPBggPoLqIbpO8sH5gdoangbmP4hhQ9Po4zsOwxHN8p+JhzOQBfB1CRgV9HNcF4BpgZX+pnH\n",
       "4AhPPww40qGiLCjgmJLAHHZC6RkAjq1HZgQ0M1oAAAAASUVORK5CYII=\n",
       "\" style=\"display:inline;vertical-align:middle;\" /></a> <a class=\"ProveItLink\" href=\"../__pv_it/e9fdb0b7d08dbb5673dd7986b4eeeb105336472c0/proof.ipynb\" style=\"text-decoration: none\">&#x22A2;&nbsp;</a><a class=\"ProveItLink\" href=\"../__pv_it/860d759ca92567e4bc52ab36a388a763234755e50/expr.ipynb\"><img src=\"data:image/png;base64,iVBORw0KGgoAAAANSUhEUgAAAH4AAAAVBAMAAAByPkciAAAAMFBMVEX////MzMxUVFR2dna6uroQ\n",
       "EBCqqqqIiIgiIiJmZmYyMjJERETu7u6YmJjc3NwAAACgK8IjAAAAAXRSTlMAQObYZgAAAaZJREFU\n",
       "OMtjYMAFbl6A0JI1DHgB3wWswqcMYCxXAQaGPNz6T2MXvg9ncS5gYGB6gC4/owMEmhgY1mHXbwFn\n",
       "MTcwMPAswKIkHUTwTiBGP4M5Lv0cKC7j3dHRhVX/UVz6XyCLMG4/gMN+Lgcc+iuB+HjRk+ICcKAf\n",
       "QHY/T2UBw9MDDMwBIEMm4NC/F6jOgLedAxxAeghJLaAelgCGeqCfPoA8Bpa3WgUCK5H1twHVHWD+\n",
       "wwIOhg1w7WyBDAzPgDG3G8gGqWdrwGF/CNB+Bm6IRsYokPFg1g6geQdYCxi+AzlM7UCBD7j1MzDw\n",
       "F0CSIsJ+FqD9DP4HGD8CqUUMePS3gQh5AYhIAEJSG4hnMbAHQP3P0oDw/yK08GM7UM/ADg756ajp\n",
       "ZxMDtwIDJPx5F+Cw3xLozIT9DG/BIhwJKPonMfhfgMY/pwEO/R4MDIfKj8+FZEIebR9k/YfK5z+A\n",
       "pR8BTP2+mOmXxRo1/c6Cpb8TuLIvrvxjCoy3BTxf8OUfCNiHM/9zXOAugOZ/rPkXb/nBZcDAUj4R\n",
       "XP4Asw73A1LLL4ZM5PLvHi7dALkVcjncJWNNAAAAAElFTkSuQmCC\n",
       "\" style=\"display:inline;vertical-align:middle;\" /></a></span></td></tr>\n",
       "<tr><td>&nbsp;</td><td colspan=4 style=\"text-align:left\"><span style=\"font-size:20px;\"><a class=\"ProveItLink\" href=\"../__pv_it/0b28339a9470b3064675e3d630fe626bc057a2440/expr.ipynb\"><img src=\"data:image/png;base64,iVBORw0KGgoAAAANSUhEUgAAADcAAAAUBAMAAADbzbjtAAAAMFBMVEX///8iIiLc3Ny6urqIiIiq\n",
       "qqp2dnbMzMwQEBDu7u5mZmYyMjJERERUVFSYmJgAAAA4CJ/KAAAAAXRSTlMAQObYZgAAAQ1JREFU\n",
       "KM9jYIADpgcMyCAITL79f/burgkMDHNQ5Bh4FcDUbwYGnk4Ghk2okpwbQCT7NwYG1i8MfAtQJRlS\n",
       "QATLZyD+xsCogCY5A0TwfABa8JlBEU2OgdsASPADDddfwOCF5O5lS4BuYAPZU5/AwCrGwHAOIWmh\n",
       "wA00jQ/kIv9raUuAPhFFuLOPgesA0JECQPb5CWChZrgk108GRgegL4C6GT4yoElyHGCYXwCRZP8F\n",
       "EUIYOz+BIR5IMQtAvAkCCAfND2C4zaoAdhD3T4hQFlySx4FPlg1odQID1/6/DmAhQ6BBZ4DgJAPn\n",
       "FXddZ6CuAoTnMIJvIhIbe8DDwCFsUQYDaJHNg2INWjJ5xMAAAHA6PhPQZp1jAAAAAElFTkSuQmCC\n",
       "\" style=\"display:inline;vertical-align:middle;\" /></a> : <a class=\"ProveItLink\" href=\"../__pv_it/d7b42e7dee84bb25ab4c1922463cf642ac9cd5320/expr.ipynb\"><img src=\"data:image/png;base64,iVBORw0KGgoAAAANSUhEUgAAAEMAAAAOBAMAAACGIrzyAAAAMFBMVEX///9UVFSqqqrMzMwiIiKY\n",
       "mJgyMjIQEBCIiIh2dnZmZmbc3Nzu7u5ERES6uroAAACFTSmKAAAAAXRSTlMAQObYZgAAAGtJREFU\n",
       "GNNjYMAJuFzAQIABL2BqYCAEaKFk16z2A/iV8FUz5INozjQwWIBFyfEAhrUELFp/gMGDgJJaBp7P\n",
       "+JXw/GRg+oDkFgEsSj4xMCZo47foBkOIwAQcSt7eBYIDDAc7rCUeYCjhCwASAMSVIycsgi1mAAAA\n",
       "AElFTkSuQmCC\n",
       "\" style=\"display:inline;vertical-align:middle;\" /></a>, <a class=\"ProveItLink\" href=\"../../../../__pv_it/72df168d2bfb4e0140af90912ebf83b13772060b0/expr.ipynb\"><img src=\"data:image/png;base64,iVBORw0KGgoAAAANSUhEUgAAAAsAAAAJBAMAAAAWSsseAAAALVBMVEX///9mZmaqqqrMzMxEREQy\n",
       "MjIiIiKYmJh2dna6urrc3NxUVFSIiIju7u4AAACJHQtQAAAAAXRSTlMAQObYZgAAAEJJREFUCNdj\n",
       "YLhzeuWJAwy8Dew5bAEMHBc43nIuYOBlYHFgAAG+A2DKzgBIMF04x8BzgWGegh/DcgaG22fuiBcw\n",
       "AAATyhBrnyPYZQAAAABJRU5ErkJggg==\n",
       "\" style=\"display:inline;vertical-align:middle;\" /></a> : <a class=\"ProveItLink\" href=\"../__pv_it/2614a5f4f0b31a8f904bc24ba1b6498466377a010/expr.ipynb\"><img src=\"data:image/png;base64,iVBORw0KGgoAAAANSUhEUgAAAEQAAAAVBAMAAAAN71XTAAAAMFBMVEX///8QEBBmZmaqqqrMzMxE\n",
       "REQyMjIiIiKYmJh2dna6urrc3NxUVFSIiIju7u4AAAA6P00QAAAAAXRSTlMAQObYZgAAARFJREFU\n",
       "KM9jYMAGODSgDKd7DNgBXyacudABuxKOD3AmUwJ2JZwF2JhEKuEILy/Dr4Ql9gEOU97e2XXzAoj3\n",
       "7AGyON+lCwwbHzBwCgCZEzhq2cHOPg3XygPkc3IJMNyHeI7zAec/rg0giQC4EkNgYGwGejcUyE4C\n",
       "msLACpFjEUsDAhDLtRpIPGC8wPAXZGItkOAHu4SBOwA1SNc/YPkCpHJAAv7QMBZAuAWkWo2BVwDi\n",
       "FuYH9xl4wX7RRfVpDAPrAQawj9YbxDPsAEuwG6Ao0WFY3wBhvrn7VqMBEr9H1yEreXNXfwNGBHBN\n",
       "RY0ANXzRKAAKPr5feJSAvMHewHoBT3phAKY6rrsq4CBagEMJM3LaBQALvUhBF92wLgAAAABJRU5E\n",
       "rkJggg==\n",
       "\" style=\"display:inline;vertical-align:middle;\" /></a>, <a class=\"ProveItLink\" href=\"../../../../__pv_it/c6e291955561f22a0e6708fd793ea93f1c7dbb5d0/expr.ipynb\"><img src=\"data:image/png;base64,iVBORw0KGgoAAAANSUhEUgAAAAsAAAANBAMAAACN24kIAAAAMFBMVEX///8iIiKYmJhUVFTMzMxE\n",
       "REQyMjKqqqq6urp2dnYQEBDc3NxmZmaIiIju7u4AAACH5sGpAAAAAXRSTlMAQObYZgAAAFlJREFU\n",
       "CNdj4LtzgWHXAwZOjgUM9xkYtvMkMIQyMDzgusDwl4GBof8ByxcgdYyBdwGQCmZgNQBShxn6FYDU\n",
       "47vnNzAwgGUZGJgT+H4AKUYF1gtAiuPuESAJAJGkFvXVdzA+AAAAAElFTkSuQmCC\n",
       "\" style=\"display:inline;vertical-align:middle;\" /></a> : <a class=\"ProveItLink\" href=\"../__pv_it/67fe26e9a363c5cce332bbfe877e3f89d271606e0/expr.ipynb\"><img src=\"data:image/png;base64,iVBORw0KGgoAAAANSUhEUgAAADMAAAANBAMAAAD2/0vEAAAAMFBMVEX///8QEBBmZmaqqqrMzMxE\n",
       "REQyMjIiIiKYmJh2dna6urrc3NxUVFSIiIju7u4AAAA6P00QAAAAAXRSTlMAQObYZgAAAKFJREFU\n",
       "GNNjYHh7Z9fNCwwogO/SBYaNDxj4JnDUsicA+ZxpYKAAYnIJMNwHUg84/3FtQNW1mSmBIRSomYE1\n",
       "gAENPGC8wPAXxOC/gC7FsP4ByxcQ7e8A5kLtOgBiqzHwCjAwMD+4z8D7AE1XDAMrUMl6g3iGHegG\n",
       "6jCsb2BgeHP3rUYDutSbu/obGHABNRziPAl8v3BIsTewXsAhxXVXBUgCAM1cLDnk3FtcAAAAAElF\n",
       "TkSuQmCC\n",
       "\" style=\"display:inline;vertical-align:middle;\" /></a></span></td></tr><tr><td><a name=\"0xed8af0c0af2aa23_step2\">2</a></td><td>theorem</td><td></td><td><span style=\"font-size:20px;\"> <a class=\"ProveItLink\" href=\"../../../equality/_proofs_/subLeftSideInto.ipynb\" style=\"text-decoration: none\">&#x22A2;&nbsp;</a><a class=\"ProveItLink\" href=\"../../../equality/__pv_it/bb8aec8150ce7769d7450089d43b4600907c23020/expr.ipynb\"><img src=\"data:image/png;base64,iVBORw0KGgoAAAANSUhEUgAAAL8AAAAWBAMAAABj11ATAAAAMFBMVEX///8QEBCIiIhmZma6urrM\n",
       "zMxUVFQiIiJERETc3Nzu7u6qqqp2dnaYmJgyMjIAAAAcRTyBAAAAAXRSTlMAQObYZgAAAthJREFU\n",
       "SMe1VU1oE0EU/rruTzbZJl48eQkWSgkFcxFUREKFqmA19SDeDMEWKrXtoR4sKvGWCrW5WQRxBalY\n",
       "PAQ8iIK41IMQg0YURFDYs1C7KEpbi/rmp5vdJhHF+GD3zXxvZr43782bAf6H3JD6IX0ua3xoz7qd\n",
       "4yvDY3uBaEECegl4zhof2+R5gty9bCNekv0o9edIm4U2EZxygCdJvPaBRSBuA1a5TQQ7M/Q5OO8D\n",
       "tyhulYWFa+1K7ix94xlzwgfixLhSLF74w/k8tNpvBvygcH+Bkqbo7xjpo/hY1BwCpgF1dnT3mcYZ\n",
       "Gf6XRot3YpmW62vrwAMHkRpwD2+Tlyg+lOUDPNd4BTxrnCKzL4wjorOnJYHyrfo0BRiU0gpe2ofJ\n",
       "G4qWAYUYMUzpaUnAjZojOvMtCSJrXHXQHm0U+Z482njNYM2LEFBTAm7UszJxpZZlMOETAJ83CEz3\n",
       "BCuJVShT7ODu6qZ11G4Ydp1AGMmPvhymxIatruNDclkOijJIc8VCBO0rzx6jnD7NWuu9rKYVe8wg\n",
       "fithDwZ2IIx0mJ01bStiOYJSujupF0lmBOiXAYsUefBI8ZASScZ9xmK54hxgianrB9ETIBDGQzBv\n",
       "TygFqAzMxmtyAwLksmyL4Wmo3yOeSSO2sLwlkow1Lcev8v8+5AMEwtjPxutJaJwu4WeCg0z2/xST\n",
       "KC7RfKqL3aBxlrdOxpuQt4Xm8UKaxLYAgTCepOhmOrJQczzeyOqfSJYEGJL6VXGnfk0xh+bsm5Zr\n",
       "kcI51QsQcCMbbGSPkUOOecX0XkCeWgGGJHTZyRJZZuUzWJ5/s1ghhf4et04gjOxcqfmrFJKMtj16\n",
       "9kivLedyMFwPwes6JDJO5WgpUgvWgXCijLuYobhSgQYncTAk/oMT2VQysZJUunMUDQTUGVXJpcfi\n",
       "KfSFg82fzHebn7wNpb53mhAMYKBK7tGRqoXg6j9c8OnGDSr2X63wC2jlxTKsC1d/AAAAAElFTkSu\n",
       "QmCC\n",
       "\" style=\"display:inline;vertical-align:middle;\" /></a></span></td></tr>\n",
       "<tr><td>&nbsp;</td><td colspan=4 style-\"text-align:left\"><a class=\"ProveItLink\" href=\"../../../equality/_proofs_/subLeftSideInto.ipynb\">proveit.logic.equality.subLeftSideInto</a></td></tr><tr><td><a name=\"0xed8af0c0af2aa23_step3\">3</a></td><td>instantiation</td><td><a href=\"#0xed8af0c0af2aa23_step5\">5</a>, <a href=\"#0xed8af0c0af2aa23_step6\">6</a></td><td><span style=\"font-size:20px;\"><a class=\"ProveItLink\" href=\"../__pv_it/d9aa16cee1003e720590c03fa1d7b2b87d525c490/expr.ipynb\"><img src=\"data:image/png;base64,iVBORw0KGgoAAAANSUhEUgAAAEUAAAAVBAMAAADiLT7tAAAAMFBMVEX///+IiIi6urrc3NxERETM\n",
       "zMwQEBCqqqpUVFQiIiJ2dnYyMjLu7u5mZmaYmJgAAABN0h6tAAAAAXRSTlMAQObYZgAAAP1JREFU\n",
       "KM9jYGDgu8eAE7BePACieHYx4AFMqSCS7wM+NQy3QQTXBLxqVg6EGh7BZsWFaJIHLzIw5zAwLAOx\n",
       "OTYwMJxieCkwG8RZvRsE9oKYC9QYGIFefg9ilwUwMKxhWH9AGdUY5oLbDCwODAzcFxgYQiYDBQ4w\n",
       "uKC7g4chkYFfAMjoBBJqASChj5gh/IchHijF3QByjwMoXr5CJCDu2QFi8m5gEGOAugfkrxqg62TQ\n",
       "zGFpYPBggPoLqIbpO8sH5gdoangbmP4hhQ9Po4zsOwxHN8p+JhzOQBfB1CRgV9HNcF4BpgZX+pnH\n",
       "4AhPPww40qGiLCjgmJLAHHZC6RkAjq1HZgQ0M1oAAAAASUVORK5CYII=\n",
       "\" style=\"display:inline;vertical-align:middle;\" /></a> <a class=\"ProveItLink\" href=\"../__pv_it/6ce36308321b3a2a8cb3392b6659196fc8b045830/proof.ipynb\" style=\"text-decoration: none\">&#x22A2;&nbsp;</a><a class=\"ProveItLink\" href=\"../__pv_it/67603ed339136105fb1beb6547d6137ff25487450/expr.ipynb\"><img src=\"data:image/png;base64,iVBORw0KGgoAAAANSUhEUgAAAGwAAAAUBAMAAACaOcVSAAAAMFBMVEX////MzMxUVFR2dna6uroQ\n",
       "EBCqqqqIiIgiIiJmZmYyMjJERETu7u6YmJjc3NwAAACgK8IjAAAAAXRSTlMAQObYZgAAASlJREFU\n",
       "OMtjYOC7wIAT5OGWOo1bioHpAbrIjA4QaGJgWIdHG88CLILpIIJ3Ah5tDOa4tHE8wKftKC5tL/Dp\n",
       "YuBywKGtEuSFcj13NOfwVBYwPD3AwDwBh7a9QHyY4UZBF5BmXgUGIKXMLAEM9UCfg8PECiy8Ellb\n",
       "GxDbMNgf8EM18hnnAobdDAxsDThsCwHiAyAVqOAAawHDdwYGxg94tDGAVKAB/wOMH/FoAzmSAaQC\n",
       "4TcFEHsWA3sAAwNLA8Jvi9CDJIf9A0MNmpmbGLgVYEGCxTZLoJHfuD9gJOhJDP5AIU4DHNo8gHGk\n",
       "XlN5F13yUPl8YPrhEsDU5os/cc0C4hO4JHEkZaYFPF9wJGUI2IdVlOMCdwGOjIMvm7KUTwSS3Liz\n",
       "B75C4R4uCQDhB1bQou8tWwAAAABJRU5ErkJggg==\n",
       "\" style=\"display:inline;vertical-align:middle;\" /></a></span></td></tr>\n",
       "<tr><td>&nbsp;</td><td colspan=4 style=\"text-align:left\"><span style=\"font-size:20px;\"><a class=\"ProveItLink\" href=\"../../../../__pv_it/d3792d0d8642fdf1cd2a3a9b32c673ee13653de00/expr.ipynb\"><img src=\"data:image/png;base64,iVBORw0KGgoAAAANSUhEUgAAAA8AAAAOBAMAAAACpFvcAAAALVBMVEX///8iIiIQEBBERERUVFS6\n",
       "urqIiIjc3NxmZmaqqqru7u6YmJgyMjLMzMwAAACK9jtgAAAAAXRSTlMAQObYZgAAAFtJREFUCNdj\n",
       "YACBOwxQcA5Kc59bAGGs7CuAMDbkBYBp1gXzNoAZSxnuJYAZAQx1DSCa16PDzwCshIGB6QCIMYGB\n",
       "gVEBSLMDGTwPgIxCIGZ+zsCw+N0pBk67hw0AfpEVEQi8t+wAAAAASUVORK5CYII=\n",
       "\" style=\"display:inline;vertical-align:middle;\" /></a> : <a class=\"ProveItLink\" href=\"../__pv_it/67fe26e9a363c5cce332bbfe877e3f89d271606e0/expr.ipynb\"><img src=\"data:image/png;base64,iVBORw0KGgoAAAANSUhEUgAAADMAAAANBAMAAAD2/0vEAAAAMFBMVEX///8QEBBmZmaqqqrMzMxE\n",
       "REQyMjIiIiKYmJh2dna6urrc3NxUVFSIiIju7u4AAAA6P00QAAAAAXRSTlMAQObYZgAAAKFJREFU\n",
       "GNNjYHh7Z9fNCwwogO/SBYaNDxj4JnDUsicA+ZxpYKAAYnIJMNwHUg84/3FtQNW1mSmBIRSomYE1\n",
       "gAENPGC8wPAXxOC/gC7FsP4ByxcQ7e8A5kLtOgBiqzHwCjAwMD+4z8D7AE1XDAMrUMl6g3iGHegG\n",
       "6jCsb2BgeHP3rUYDutSbu/obGHABNRziPAl8v3BIsTewXsAhxXVXBUgCAM1cLDnk3FtcAAAAAElF\n",
       "TkSuQmCC\n",
       "\" style=\"display:inline;vertical-align:middle;\" /></a></span></td></tr><tr><td><a name=\"0xed8af0c0af2aa23_step4\">4</a></td><td>instantiation</td><td><a href=\"#0xed8af0c0af2aa23_step7\">7</a></td><td><span style=\"font-size:20px;\"> <a class=\"ProveItLink\" href=\"../__pv_it/da7e6b6b4b82917e039c3f007480c00197ef69900/proof.ipynb\" style=\"text-decoration: none\">&#x22A2;&nbsp;</a><a class=\"ProveItLink\" href=\"../__pv_it/4e3c184d101d13bd4348af0dd3d53dc158a9687b0/expr.ipynb\"><img src=\"data:image/png;base64,iVBORw0KGgoAAAANSUhEUgAAAK8AAAAVBAMAAADC7aNVAAAAMFBMVEX////MzMxUVFR2dna6uroQ\n",
       "EBCqqqqIiIgiIiJmZmYyMjJERETu7u6YmJjc3NwAAACgK8IjAAAAAXRSTlMAQObYZgAAAj1JREFU\n",
       "OMudVT1oFEEU/s7d3F2yu3qtWGhnIYR0YhRMI1oEs0UqqzR2QRYtjoNArkokhZw2wkHwiJUpJKRJ\n",
       "QNQhIpGkuTIpIleo2AgniDYWvjcze5uZnT0Sp9n3Zr73vdn3N0DBila1cH4B/7fOdl274cuBeKsG\n",
       "PHBAfhRzSvi++8L9gTjaAc708q43iokl/LXzyGsaYtjJIcZ6xcQMj1onIcbVHOJwWHwJXjUcR9uP\n",
       "V5zEH3O2T4YRE/z7cb20JQpuPDZl57w5jJjgDfrsPvzyKGF9TxiBbST4KuDFrNsRq9BGWB+/bcUo\n",
       "tWnhLSkT0XJVZmc8yyvpnh9jURdIJM8n13m9YjGgKv2Ag4Qj58ntdfad2nSwRIrw/voy1FkF3afi\n",
       "/UaF9oZkJirbf16dA27gprhrbmsbgs/SjREoxtI9dszSBU6NGEnwh2+/TEd9i3iEgi6kX2NpG4LP\n",
       "snouUQnZMNoNM6L0kz5rKCCG9GsuZUPwJdYu1tRunMWYfbRRiXWM/WYW47U0FJB+BzG+hIENwSl5\n",
       "ZbGIiqyH52aNbSIgsKyKyG49Tt58pQ97RCkbgl+j28+91xNFXiMjfoaZrhZHJ+zWbMH/HfRzI0zZ\n",
       "EPwOsFPfXVXn4ZXp48Q79Re9tEFqFgH9bHh5oXFkx1jZENxsaf+62dLtVPx08pZuK3jREIq5ScJf\n",
       "px1C2obh7wrncbUbJHoeO8Zm4BybykbC3YMe9IL49aeypKecLO5Br2wk3P00oWy8eZ9P9zQR/B/K\n",
       "hbD70hDmYQAAAABJRU5ErkJggg==\n",
       "\" style=\"display:inline;vertical-align:middle;\" /></a></span></td></tr>\n",
       "<tr><td>&nbsp;</td><td colspan=4 style=\"text-align:left\"><span style=\"font-size:20px;\"><a class=\"ProveItLink\" href=\"../../../../__pv_it/72df168d2bfb4e0140af90912ebf83b13772060b0/expr.ipynb\"><img src=\"data:image/png;base64,iVBORw0KGgoAAAANSUhEUgAAAAsAAAAJBAMAAAAWSsseAAAALVBMVEX///9mZmaqqqrMzMxEREQy\n",
       "MjIiIiKYmJh2dna6urrc3NxUVFSIiIju7u4AAACJHQtQAAAAAXRSTlMAQObYZgAAAEJJREFUCNdj\n",
       "YLhzeuWJAwy8Dew5bAEMHBc43nIuYOBlYHFgAAG+A2DKzgBIMF04x8BzgWGegh/DcgaG22fuiBcw\n",
       "AAATyhBrnyPYZQAAAABJRU5ErkJggg==\n",
       "\" style=\"display:inline;vertical-align:middle;\" /></a> : <a class=\"ProveItLink\" href=\"../../../../__pv_it/72df168d2bfb4e0140af90912ebf83b13772060b0/expr.ipynb\"><img src=\"data:image/png;base64,iVBORw0KGgoAAAANSUhEUgAAAAsAAAAJBAMAAAAWSsseAAAALVBMVEX///9mZmaqqqrMzMxEREQy\n",
       "MjIiIiKYmJh2dna6urrc3NxUVFSIiIju7u4AAACJHQtQAAAAAXRSTlMAQObYZgAAAEJJREFUCNdj\n",
       "YLhzeuWJAwy8Dew5bAEMHBc43nIuYOBlYHFgAAG+A2DKzgBIMF04x8BzgWGegh/DcgaG22fuiBcw\n",
       "AAATyhBrnyPYZQAAAABJRU5ErkJggg==\n",
       "\" style=\"display:inline;vertical-align:middle;\" /></a>, <a class=\"ProveItLink\" href=\"../../../../__pv_it/c6e291955561f22a0e6708fd793ea93f1c7dbb5d0/expr.ipynb\"><img src=\"data:image/png;base64,iVBORw0KGgoAAAANSUhEUgAAAAsAAAANBAMAAACN24kIAAAAMFBMVEX///8iIiKYmJhUVFTMzMxE\n",
       "REQyMjKqqqq6urp2dnYQEBDc3NxmZmaIiIju7u4AAACH5sGpAAAAAXRSTlMAQObYZgAAAFlJREFU\n",
       "CNdj4LtzgWHXAwZOjgUM9xkYtvMkMIQyMDzgusDwl4GBof8ByxcgdYyBdwGQCmZgNQBShxn6FYDU\n",
       "47vnNzAwgGUZGJgT+H4AKUYF1gtAiuPuESAJAJGkFvXVdzA+AAAAAElFTkSuQmCC\n",
       "\" style=\"display:inline;vertical-align:middle;\" /></a> : <a class=\"ProveItLink\" href=\"../../../../__pv_it/c6e291955561f22a0e6708fd793ea93f1c7dbb5d0/expr.ipynb\"><img src=\"data:image/png;base64,iVBORw0KGgoAAAANSUhEUgAAAAsAAAANBAMAAACN24kIAAAAMFBMVEX///8iIiKYmJhUVFTMzMxE\n",
       "REQyMjKqqqq6urp2dnYQEBDc3NxmZmaIiIju7u4AAACH5sGpAAAAAXRSTlMAQObYZgAAAFlJREFU\n",
       "CNdj4LtzgWHXAwZOjgUM9xkYtvMkMIQyMDzgusDwl4GBof8ByxcgdYyBdwGQCmZgNQBShxn6FYDU\n",
       "47vnNzAwgGUZGJgT+H4AKUYF1gtAiuPuESAJAJGkFvXVdzA+AAAAAElFTkSuQmCC\n",
       "\" style=\"display:inline;vertical-align:middle;\" /></a></span></td></tr><tr><td><a name=\"0xed8af0c0af2aa23_step5\">5</a></td><td>axiom</td><td></td><td><span style=\"font-size:20px;\"> <a class=\"ProveItLink\" href=\"../../../boolean/_axioms_.ipynb#eqTrueIntro\" style=\"text-decoration: none\">&#x22A2;&nbsp;</a><a class=\"ProveItLink\" href=\"../../../boolean/__pv_it/7bce5e3cff7f8036cee68d8befe33a38fe32f5c10/expr.ipynb\"><img src=\"data:image/png;base64,iVBORw0KGgoAAAANSUhEUgAAAIwAAAAWBAMAAADgE2koAAAAMFBMVEX///8QEBCIiIhmZma6urrM\n",
       "zMxUVFQiIiJERETc3Nzu7u6qqqp2dnaYmJgyMjIAAAAcRTyBAAAAAXRSTlMAQObYZgAAAaJJREFU\n",
       "OMtjYCAMOC/gl+eewMDwAMS4i1fZCggVhy7OXA4GCQyZDAynQQKv8BrzEkK9x+YQBRC5joFhBsjV\n",
       "DfhM4TWAUO8X4DKGR4GBDyjJswGfMewTwNRq+wm4jOESYOA9tWrVdLx+gspe0HfAZQzDEwaGHx0d\n",
       "NXiNUQaTLAv2X8BpzGEGhlQGhk4wG0KywFR0whi9YHIJQzwkHN6BgQGKMfcYGJwZuMCRzvsFLMIB\n",
       "C9gvMGOqwaQDw3wDnK7ZDgxBBiawaxf/RTEGygUCERDBmmyc34DTmHigKy+wg5mnilGMgXJhxgD9\n",
       "yvgAnzGcD8LA1il0IBsD48I8BUwS7AJIYZOAYow7KCxTQCw2BnNkY2BcaBBzAo3h+4DTNcAgZthc\n",
       "AGLdZtBHNgbGhcQmOO1w/MRpjA0Q84OYXI/P9C9AGAPnQly84v8rBu7+75hRxQJJS09BUQtSz7yA\n",
       "YX4Awhg4F5EZ8ACuAhjLF+iqCwhj4FxE1sQDeBSgDI4fDJz9tXBjEFyU9IwLrMMU4sBZbOEGnUQZ\n",
       "Q6gQ5Z1AlDHkAGaydAEA+qlrXgbLZpIAAAAASUVORK5CYII=\n",
       "\" style=\"display:inline;vertical-align:middle;\" /></a></span></td></tr>\n",
       "<tr><td>&nbsp;</td><td colspan=4 style-\"text-align:left\"><a class=\"ProveItLink\" href=\"../../../boolean/_axioms_.ipynb#eqTrueIntro\">proveit.logic.boolean.eqTrueIntro</a></td></tr><tr><td><a name=\"0xed8af0c0af2aa23_step6\">6</a></td><td>assumption</td><td></td><td><span style=\"font-size:20px;\"><a class=\"ProveItLink\" href=\"../__pv_it/d9aa16cee1003e720590c03fa1d7b2b87d525c490/expr.ipynb\"><img src=\"data:image/png;base64,iVBORw0KGgoAAAANSUhEUgAAAEUAAAAVBAMAAADiLT7tAAAAMFBMVEX///+IiIi6urrc3NxERETM\n",
       "zMwQEBCqqqpUVFQiIiJ2dnYyMjLu7u5mZmaYmJgAAABN0h6tAAAAAXRSTlMAQObYZgAAAP1JREFU\n",
       "KM9jYGDgu8eAE7BePACieHYx4AFMqSCS7wM+NQy3QQTXBLxqVg6EGh7BZsWFaJIHLzIw5zAwLAOx\n",
       "OTYwMJxieCkwG8RZvRsE9oKYC9QYGIFefg9ilwUwMKxhWH9AGdUY5oLbDCwODAzcFxgYQiYDBQ4w\n",
       "uKC7g4chkYFfAMjoBBJqASChj5gh/IchHijF3QByjwMoXr5CJCDu2QFi8m5gEGOAugfkrxqg62TQ\n",
       "zGFpYPBggPoLqIbpO8sH5gdoangbmP4hhQ9Po4zsOwxHN8p+JhzOQBfB1CRgV9HNcF4BpgZX+pnH\n",
       "4AhPPww40qGiLCjgmJLAHHZC6RkAjq1HZgQ0M1oAAAAASUVORK5CYII=\n",
       "\" style=\"display:inline;vertical-align:middle;\" /></a> <a class=\"ProveItLink\" href=\"../__pv_it/11ea38fd06cd5112d99ced308933cea72600ef840/proof.ipynb\" style=\"text-decoration: none\">&#x22A2;&nbsp;</a><a class=\"ProveItLink\" href=\"../__pv_it/67fe26e9a363c5cce332bbfe877e3f89d271606e0/expr.ipynb\"><img src=\"data:image/png;base64,iVBORw0KGgoAAAANSUhEUgAAADMAAAANBAMAAAD2/0vEAAAAMFBMVEX///8QEBBmZmaqqqrMzMxE\n",
       "REQyMjIiIiKYmJh2dna6urrc3NxUVFSIiIju7u4AAAA6P00QAAAAAXRSTlMAQObYZgAAAKFJREFU\n",
       "GNNjYHh7Z9fNCwwogO/SBYaNDxj4JnDUsicA+ZxpYKAAYnIJMNwHUg84/3FtQNW1mSmBIRSomYE1\n",
       "gAENPGC8wPAXxOC/gC7FsP4ByxcQ7e8A5kLtOgBiqzHwCjAwMD+4z8D7AE1XDAMrUMl6g3iGHegG\n",
       "6jCsb2BgeHP3rUYDutSbu/obGHABNRziPAl8v3BIsTewXsAhxXVXBUgCAM1cLDnk3FtcAAAAAElF\n",
       "TkSuQmCC\n",
       "\" style=\"display:inline;vertical-align:middle;\" /></a></span></td></tr>\n",
       "<tr><td><a name=\"0xed8af0c0af2aa23_step7\">7</a></td><td>theorem</td><td></td><td><span style=\"font-size:20px;\"> <a class=\"ProveItLink\" href=\"singletonDef.ipynb\" style=\"text-decoration: none\">&#x22A2;&nbsp;</a><a class=\"ProveItLink\" href=\"../__pv_it/300a4a51522dc8adb6872803a231506fef43c8700/expr.ipynb\"><img src=\"data:image/png;base64,iVBORw0KGgoAAAANSUhEUgAAAO8AAAAWBAMAAADaw9ZbAAAAMFBMVEX///8QEBCIiIhmZma6urrM\n",
       "zMxUVFQiIiJERETc3Nzu7u6qqqp2dnaYmJgyMjIAAAAcRTyBAAAAAXRSTlMAQObYZgAAAvdJREFU\n",
       "SMe9Vk1oE0EUfk033e1mN81BrxISCKUILUI92VgVLHqwLYJ4U4qCvUgoShGlFA+aHMQIQosiTnuI\n",
       "UkQinuopxItU0ICCFBQCQkFRCaLgz8V582aTzO5sf0R88LFvZ9637+28N28G4C/EHZLK0T7499Jd\n",
       "IwTF/tRU940BLGtM7oR/d1miji/vNAb3JTQ/3GiqnZzeVQyGNhvuGM0Rz/Hlo8bgg0RQnJyi2vWA\n",
       "RbwY7hjNEfO4qpoA3QHCxo6hGrB4tV4Oq4Q44/RycNosEtpCuTo9o3W8ECBfWM/xAsFdWVqa00zP\n",
       "STQlepmF/HF82F+XufUcozniRz5/STOdlljM3NyZxIGHTElsOgk3GDgJfPdnJMIH7NTkfl8OPM4A\n",
       "UU4DFDSOrxHsijtliuqZbNUlf3eMBPTLAnfF/IsvKO9RtfgufABvkjPquMepEw7oyhLgIsFhzi9D\n",
       "pLpVgI/45r3NN1Ke6/jBmH9lTV4zK/CSHVKHJQfNESZEdG1iG8EGizxGd2DgqB3H0mEdSfiKfz/F\n",
       "pxo+bgfPIBNxKSI5aI5waiaEOwboSVLBzCrtCkZZ9Dt/rEGIYxBxqUIcz3F3/RhurMEM/5yRAZMp\n",
       "Sw1wYowGEq0cYwxZiCRkjo1cK5dr3lKDiEsdJw6aC0rhFK9DdtbkYTo9bFwtrhjr55M4sEvdQ1fA\n",
       "OglU1a6/RrC4nkQa4D9CiOMVFzzm34nCZ5y5NQK90ugpYbR8XXZ8s6w43g2jNal2VvytbQCM31Yj\n",
       "cMQQB80FhZL4U0ztgQlpNEIopRaHiG+fOdzuuJTaW/QayJjPAV9Ie6IvHTh6iIPmguIyUSBRnDoH\n",
       "20NbpvFMbZlZT723+ZaZleZNyl2n7sA8g/NGYxOHRAKbiP1tq4eE5FTbKaXX1RUYL8PB3mahFEDf\n",
       "0qiUzZqVlOexpv9Y2mOROLaGUraLVm3jiwDwG4iRGhRbeljrRX8RIA6a+yixYlflyCauPhBT7lyr\n",
       "W7v6rAYpLhhvK/Cf5A++k+7nZyRUgwAAAABJRU5ErkJggg==\n",
       "\" style=\"display:inline;vertical-align:middle;\" /></a></span></td></tr>\n",
       "<tr><td>&nbsp;</td><td colspan=4 style-\"text-align:left\"><a class=\"ProveItLink\" href=\"singletonDef.ipynb\">proveit.logic.set_theory.enumeration.singletonDef</a></td></tr></table>"
      ],
      "text/plain": [
       "\tstep type\trequirements\tstatement\n",
       "0\tgeneralizaton\t1\t|- forall_{x, y | x = y} ((x in {y}) = TRUE)\n",
       "1\tinstantiation\t2, 3, 4\t{x = y} |- (x in {y}) = TRUE\n",
       "\tP(_a) : _a = TRUE, x : x in {y}, y : x = y\n",
       "2\ttheorem\t\t|- forall_{P, x, y | P(y), x = y} P(x)\n",
       "\tproveit.logic.equality.subLeftSideInto\n",
       "3\tinstantiation\t5, 6\t{x = y} |- (x = y) = TRUE\n",
       "\tA : x = y\n",
       "4\tinstantiation\t7\t|- (x in {y}) = (x = y)\n",
       "\tx : x, y : y\n",
       "5\taxiom\t\t|- forall_{A | A} (A = TRUE)\n",
       "\tproveit.logic.boolean.eqTrueIntro\n",
       "6\tassumption\t\t{x = y} |- x = y\n",
       "7\ttheorem\t\t|- forall_{x, y} ((x in {y}) = (x = y))\n",
       "\tproveit.logic.set_theory.enumeration.singletonDef"
      ]
     },
     "execution_count": 6,
     "metadata": {},
     "output_type": "execute_result"
    }
   ],
   "source": [
    "%qed"
   ]
  },
  {
   "cell_type": "code",
   "execution_count": null,
   "metadata": {},
   "outputs": [],
   "source": []
  }
 ],
 "metadata": {
  "kernelspec": {
   "display_name": "Python 3",
   "language": "python",
   "name": "python3"
  }
 },
 "nbformat": 4,
 "nbformat_minor": 0
}
