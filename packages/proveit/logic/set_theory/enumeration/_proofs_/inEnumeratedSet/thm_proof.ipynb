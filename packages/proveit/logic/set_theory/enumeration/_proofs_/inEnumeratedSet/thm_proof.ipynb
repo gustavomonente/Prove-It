{
 "cells": [
  {
   "cell_type": "markdown",
   "metadata": {},
   "source": [
    "Proof of <a class=\"ProveItLink\" href=\"../../../../_context_.ipynb\">proveit</a>.<a class=\"ProveItLink\" href=\"../../../_context_.ipynb\">logic</a>.<a class=\"ProveItLink\" href=\"../../_context_.ipynb\">set_theory</a>.<a class=\"ProveItLink\" href=\"../_context_.ipynb\">enumeration</a>.<a class=\"ProveItLink\" href=\"../_theorems_.ipynb#inEnumeratedSet\">inEnumeratedSet</a> theorem\n",
    "========"
   ]
  },
  {
   "cell_type": "code",
   "execution_count": null,
   "metadata": {},
   "outputs": [],
   "source": [
    "import proveit\n",
    "from proveit import ExprRange, ExprTuple, Function, IndexedVar\n",
    "from proveit._common_ import a, b, c, k, m, n, x, y, A, B, C\n",
    "from proveit.logic import Equals, InSet, Or, Booleans\n",
    "from proveit.logic.boolean.disjunction._theorems_ import orIfAny\n",
    "from proveit.logic.set_theory.enumeration._axioms_ import enumSetDef\n",
    "from proveit.logic.set_theory.enumeration._theorems_ import fold\n",
    "from proveit.number import Add, subtract\n",
    "from proveit.number import zero, one, two, three, Neg, Complexes, Naturals, NaturalsPos\n",
    "from proveit.core_expr_types._common_ import a_1_to_m, c_1_to_n, x_1_to_n, y_1_to_n\n",
    "context = proveit.Context() # the theorem's context"
   ]
  },
  {
   "cell_type": "code",
   "execution_count": null,
   "metadata": {},
   "outputs": [],
   "source": [
    "%proving inEnumeratedSet"
   ]
  },
  {
   "cell_type": "code",
   "execution_count": null,
   "metadata": {},
   "outputs": [],
   "source": [
    "enumSetDef"
   ]
  },
  {
   "cell_type": "code",
   "execution_count": null,
   "metadata": {},
   "outputs": [],
   "source": [
    "enumSetDef_with_k = enumSetDef.instantiate({n:k}, assumptions=[InSet(k, Naturals)], num_forall_eliminations=0)"
   ]
  },
  {
   "cell_type": "code",
   "execution_count": null,
   "metadata": {},
   "outputs": [],
   "source": [
    "# this also works, first instantiating, then generalizing over the new var\n",
    "# enumSetDef_inst_n_to_k = enumSetDef.instantiate({n:k}, assumptions=[InSet(k, Naturals)])\n",
    "# enumSetDef_with_k = enumSetDef_inst_n_to_k.generalize([[k]], [[Naturals]])"
   ]
  },
  {
   "cell_type": "code",
   "execution_count": null,
   "metadata": {},
   "outputs": [],
   "source": [
    "enumSetDef_with_k_inst = enumSetDef_with_k.instantiate(\n",
    "        {k:k, x:b, y:ExprTuple(a_1_to_m, b, c_1_to_n)},\n",
    "        assumptions=[InSet(k, Naturals), InSet(m, Naturals), InSet(n, Naturals), InSet(Add(subtract(m, one), one), Naturals), Equals(Add(m, n, one), k)])"
   ]
  },
  {
   "cell_type": "code",
   "execution_count": null,
   "metadata": {},
   "outputs": [],
   "source": [
    "enumSetDef_with_k_inst.expr.rhs"
   ]
  },
  {
   "cell_type": "code",
   "execution_count": null,
   "metadata": {},
   "outputs": [],
   "source": [
    "orIfAny"
   ]
  },
  {
   "cell_type": "code",
   "execution_count": null,
   "metadata": {},
   "outputs": [],
   "source": [
    "A_sub, C_sub = (\n",
    "    ExprRange(k, Equals(b, IndexedVar(a, k)), one, m),\n",
    "    ExprRange(k, Equals(b, IndexedVar(c, k)), one, n))"
   ]
  },
  {
   "cell_type": "code",
   "execution_count": null,
   "metadata": {},
   "outputs": [],
   "source": [
    "A_in_Bool_assumptions, C_in_Bool_assumptions = (\n",
    "        ExprRange(k, InSet(Equals(b, IndexedVar(a, k)), Booleans), one, m),\n",
    "        ExprRange(k, InSet(Equals(b, IndexedVar(c, k)), Booleans), one, n))"
   ]
  },
  {
   "cell_type": "code",
   "execution_count": null,
   "metadata": {},
   "outputs": [],
   "source": [
    "orIfAny_inst = orIfAny.instantiate(\n",
    "        {m:m, n:n, A:A_sub, B:Equals(b,b), C:C_sub},\n",
    "        assumptions=[InSet(m, Naturals), InSet(n, Naturals),\n",
    "                     A_in_Bool_assumptions, C_in_Bool_assumptions])"
   ]
  },
  {
   "cell_type": "code",
   "execution_count": null,
   "metadata": {},
   "outputs": [],
   "source": [
    "theOrExpr = Or(Equals(b, b),\n",
    "   ExprRange(\n",
    "       k,\n",
    "       Equals(b, IndexedVar(a, k)),\n",
    "       one, m))"
   ]
  },
  {
   "cell_type": "code",
   "execution_count": null,
   "metadata": {},
   "outputs": [],
   "source": [
    "anotherOrExpr = Or(Equals(b, a), Equals(b, b), Equals(b, c))"
   ]
  },
  {
   "cell_type": "code",
   "execution_count": null,
   "metadata": {},
   "outputs": [],
   "source": [
    "anotherOrExpr.associate(1, 2)"
   ]
  },
  {
   "cell_type": "code",
   "execution_count": null,
   "metadata": {},
   "outputs": [],
   "source": [
    "theOperands = theOrExpr.operands"
   ]
  },
  {
   "cell_type": "code",
   "execution_count": null,
   "metadata": {},
   "outputs": [],
   "source": [
    "orIfAny"
   ]
  },
  {
   "cell_type": "code",
   "execution_count": null,
   "metadata": {},
   "outputs": [],
   "source": [
    "A_sub, C_sub = (\n",
    "    ExprRange(k, Equals(b, IndexedVar(a, k)), one, m),\n",
    "    ExprRange(k, Equals(b, IndexedVar(c, k)), one, n))"
   ]
  },
  {
   "cell_type": "code",
   "execution_count": null,
   "metadata": {},
   "outputs": [],
   "source": [
    "A_in_Bool_assumptions, B_in_Bool_assumptions = (\n",
    "    ExprRange(k, InSet(Equals(b, IndexedVar(a, k)), Booleans), one, m),\n",
    "    ExprRange(k, InSet(Equals(b, IndexedVar(c, k)), Booleans), one, n))"
   ]
  },
  {
   "cell_type": "code",
   "execution_count": null,
   "metadata": {},
   "outputs": [],
   "source": [
    "# why are the equalities having to be ASSUMED to be in Booleans?\n",
    "Equals(b, IndexedVar(a, one)).deduceInBool()"
   ]
  },
  {
   "cell_type": "code",
   "execution_count": null,
   "metadata": {},
   "outputs": [],
   "source": [
    "orIfAny_inst = orIfAny.instantiate(\n",
    "        {m:m, n:n, A:A_sub, B:Equals(b,b), C:C_sub},\n",
    "        assumptions=[InSet(m, Naturals), InSet(n, Naturals), A_in_Bool_assumptions, B_in_Bool_assumptions])"
   ]
  },
  {
   "cell_type": "code",
   "execution_count": null,
   "metadata": {},
   "outputs": [],
   "source": [
    "A_in_Bool_assumptions = ExprRange(k, InSet(Equals(b, IndexedVar(a, k)), Booleans), one, m)"
   ]
  },
  {
   "cell_type": "code",
   "execution_count": null,
   "metadata": {},
   "outputs": [],
   "source": [
    "# Or(Equals(b, b),\n",
    "#    ExprRange(\n",
    "#        k,\n",
    "#        Equals(b, IndexedVar(a, k)),\n",
    "#        one, m)).concludeViaExample(Equals(b, b),\n",
    "#                 assumptions=[ExprRange(k, InSet(Equals(b, IndexedVar(a, k)), Booleans), one, m)])"
   ]
  },
  {
   "cell_type": "code",
   "execution_count": null,
   "metadata": {},
   "outputs": [],
   "source": [
    "# Example to help construct a multi-Or of equalities\n",
    "# Or(ExprRange(k, Equals(IndexedVar(x, k), Function(f, Add(i, k))),\n",
    "#               zero, subtract(j, i)))"
   ]
  },
  {
   "cell_type": "code",
   "execution_count": null,
   "metadata": {},
   "outputs": [],
   "source": [
    "# Or(ExprRange(\n",
    "#        k,\n",
    "#        Equals(b, IndexedVar(a, k)),\n",
    "#        one, m),\n",
    "#    Equals(b, b),\n",
    "#    ExprRange(\n",
    "#        k,\n",
    "#        Equals(b, IndexedVar(c, k)),\n",
    "#        one, n)).prove()"
   ]
  },
  {
   "cell_type": "code",
   "execution_count": null,
   "metadata": {},
   "outputs": [],
   "source": [
    "enumSetDef_inst = enumSetDef.instantiate(\n",
    "        {n:n, x:b}, assumptions=[InSet(n, Naturals)])"
   ]
  },
  {
   "cell_type": "code",
   "execution_count": null,
   "metadata": {},
   "outputs": [],
   "source": [
    "fold"
   ]
  },
  {
   "cell_type": "code",
   "execution_count": null,
   "metadata": {},
   "outputs": [],
   "source": []
  }
 ],
 "metadata": {
  "kernelspec": {
   "display_name": "Python 3",
   "language": "python",
   "name": "python3"
  }
 },
 "nbformat": 4,
 "nbformat_minor": 0
}
