{
 "cells": [
  {
   "cell_type": "markdown",
   "metadata": {},
   "source": [
    "Proof of <a class=\"ProveItLink\" href=\"../../../../../_theory_.ipynb\">proveit</a>.<a class=\"ProveItLink\" href=\"../../../../_theory_.ipynb\">logic</a>.<a class=\"ProveItLink\" href=\"../../../_theory_.ipynb\">set_theory</a>.<a class=\"ProveItLink\" href=\"../../_theory_.ipynb\">enumeration</a>.<a class=\"ProveItLink\" href=\"../../_theorems_.ipynb#inSingletonIsBool\">inSingletonIsBool</a> theorem\n",
    "========\n",
    "*** see <a href=\"../__pv_it/d5bb7f785830415e08d6beb17e355812e1b93b430/dependencies.ipynb\" class=\"ProveItLink\">dependencies</a> ***"
   ]
  },
  {
   "cell_type": "code",
   "execution_count": null,
   "metadata": {},
   "outputs": [],
   "source": [
    "import proveit\n",
    "from proveit.logic import InSet, Equals, Boolean\n",
    "from proveit._common_ import x, y\n",
    "from proveit.logic.equality._theorems_ import subLeftSideInto\n",
    "from proveit.logic.set_theory.enumeration._theorems_ import singletonDef\n",
    "%proving inSingletonIsBool"
   ]
  },
  {
   "cell_type": "code",
   "execution_count": null,
   "metadata": {},
   "outputs": [],
   "source": [
    "state1 = singletonDef.instantiate({x:x, y:y})"
   ]
  },
  {
   "cell_type": "code",
   "execution_count": null,
   "metadata": {},
   "outputs": [],
   "source": [
    "state2 = InSet(Equals(x,y), Boolean).prove()"
   ]
  },
  {
   "cell_type": "code",
   "execution_count": null,
   "metadata": {},
   "outputs": [],
   "source": [
    "state1.subLeftSideInto(state2).generalize([x,y])"
   ]
  },
  {
   "cell_type": "code",
   "execution_count": null,
   "metadata": {},
   "outputs": [],
   "source": [
    "%qed"
   ]
  }
 ],
 "metadata": {
  "kernelspec": {
   "display_name": "Python 3",
   "language": "python",
   "name": "python3"
  }
 },
 "nbformat": 4,
 "nbformat_minor": 0
}
