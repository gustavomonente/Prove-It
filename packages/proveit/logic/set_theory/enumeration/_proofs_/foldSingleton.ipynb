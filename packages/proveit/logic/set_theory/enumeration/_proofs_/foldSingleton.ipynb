{
 "cells": [
  {
   "cell_type": "markdown",
   "metadata": {},
   "source": [
    "Proof of <a class=\"ProveItLink\" href=\"../../../../_context_.ipynb\">proveit</a>.<a class=\"ProveItLink\" href=\"../../../_context_.ipynb\">logic</a>.<a class=\"ProveItLink\" href=\"../../_context_.ipynb\">set_theory</a>.<a class=\"ProveItLink\" href=\"../_context_.ipynb\">enumeration</a>.<a href=\"../_theorems_.ipynb#foldSingleton\" class=\"ProveItLink\">foldSingleton</a> theorem\n",
    "========\n",
    "*** see <a href=\"../__pv_it/d7a9db2d1feeaa5118756db70085b31517897b790/dependencies.ipynb\" class=\"ProveItLink\">dependencies</a> ***"
   ]
  },
  {
   "cell_type": "code",
   "execution_count": 1,
   "metadata": {},
   "outputs": [
    {
     "name": "stdout",
     "output_type": "stream",
     "text": [
      "Beginning proof of foldSingleton\n",
      "Recorded 'presuming' information\n"
     ]
    },
    {
     "name": "stdout",
     "output_type": "stream",
     "text": [
      "Presuming previous theorems (applied transitively).\n"
     ]
    },
    {
     "data": {
      "text/html": [
       "<strong id=\"foldSingleton\">foldSingleton:</strong> <a class=\"ProveItLink\" href=\"../__pv_it/b894642233e96e6e234b5563e6fe1e3766ed9f540/expr.ipynb\"><img src=\"data:image/png;base64,iVBORw0KGgoAAAANSUhEUgAAALMAAAAXBAMAAACyt2M4AAAAMFBMVEX///8QEBCIiIhmZma6urrM\n",
       "zMxUVFQiIiJERETc3Nzu7u6qqqp2dnaYmJgyMjIAAAAcRTyBAAAAAXRSTlMAQObYZgAAAnJJREFU\n",
       "SMetlU9o1EAUxj+3ySbNZrd7sFcJW1iKCC1CPWmtCBY8WIvgVRGF9bJIUTwoIh7s9lAaQbAo4tjD\n",
       "Kj1IoCdvsR6UehnQi6AYEAQFpYiF1pNvJv/XRIz2QcjM+2Z+mbx5bwbYNnvN/feJ3f+M6OeZ7idu\n",
       "2Dp0HHhKb0903hdBP852f4hafcQs28Ar0flSBP052/0iapkXAIPwi+IXrxcgV0f/Bo1VoMao7RRA\n",
       "a3bqQ7OXr2WiH5K2trx8p0g8UoPVGyxn1bUJYLPTuVoEPUTPUvP2HkumBUsGxBiycIvBrAs+xe0c\n",
       "MPfb/Il89Dwh3OqMJlPrfOxvE06pY4QCsS4iRfphuZs99od9vUIIZv5U7PS4yiBwj9KuQ+2Pok9R\n",
       "0VDiRdA7adXQ/QHqrm9ksjVLn2I7LHynTnmGHLR0k2soiAYGLL8w43EKrRpTTN2g1yf46H7vpEjD\n",
       "sSaVp9KExmK075QTQ0EGBDgV+OvxJ1v0jKNUD2KtiDSZOwuUWFujrTMH2HS8aulsdch4JMhtrLAR\n",
       "EkVnb7pkbkI/DT9DxDZihfgqvgr57iSGY3TgTAnAc/pvZwH3/fpxUuh9mOJBXve5Udy2pL4fZ5Kx\n",
       "3oomhgIwCXQbSwf8rTdaR5PobuOgHZaMCFmVyairQr+IwQRaONsiB3gk9Ba68jJd6ONhNT4KRzww\n",
       "PROLDJeU9RgtnYGFQv7x9IySzjN+JI4n37pvVtcw7eDIsBejpTOwUEBW7YbntcZ1Kzive8vQMWyd\n",
       "Z+Z1JORfBTUXSmNM3jKUa3oqbKjYZfdYdslEQv4FhpXk3fi255CH8s7NRkfC/9voNjB+ATPTrv1u\n",
       "M2p4AAAAAElFTkSuQmCC\n",
       "\" style=\"display:inline;vertical-align:middle;\" /></a><br>(see <a class=\"ProveItLink\" href=\"../__pv_it/b894642233e96e6e234b5563e6fe1e3766ed9f540/dependencies.ipynb\">dependencies</a>)<br>"
      ],
      "text/plain": [
       "foldSingleton: forall_{x, y | x = y} (x in {y})"
      ]
     },
     "execution_count": 1,
     "metadata": {},
     "output_type": "execute_result"
    }
   ],
   "source": [
    "import proveit\n",
    "%proving foldSingleton presuming []"
   ]
  },
  {
   "cell_type": "code",
   "execution_count": null,
   "metadata": {},
   "outputs": [],
   "source": []
  }
 ],
 "metadata": {
  "kernelspec": {
   "display_name": "Python 3",
   "language": "python",
   "name": "python3"
  }
 },
 "nbformat": 4,
 "nbformat_minor": 0
}
