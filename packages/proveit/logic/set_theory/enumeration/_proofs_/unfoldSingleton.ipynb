{
 "cells": [
  {
   "cell_type": "markdown",
   "metadata": {},
   "source": [
    "Proof of <a class=\"ProveItLink\" href=\"../../../../_context_.ipynb\">proveit</a>.<a class=\"ProveItLink\" href=\"../../../_context_.ipynb\">logic</a>.<a class=\"ProveItLink\" href=\"../../_context_.ipynb\">set_theory</a>.<a class=\"ProveItLink\" href=\"../_context_.ipynb\">enumeration</a>.<a href=\"../_theorems_.ipynb#unfoldSingleton\" class=\"ProveItLink\">unfoldSingleton</a> theorem\n",
    "========\n",
    "*** see <a href=\"../__pv_it/388ccdf8814b17c34471b9f6668be0ca49d21e5f0/dependencies.ipynb\" class=\"ProveItLink\">dependencies</a> ***"
   ]
  },
  {
   "cell_type": "code",
   "execution_count": 1,
   "metadata": {},
   "outputs": [
    {
     "name": "stdout",
     "output_type": "stream",
     "text": [
      "Beginning proof of unfoldSingleton\n",
      "Recorded 'presuming' information\n"
     ]
    },
    {
     "name": "stdout",
     "output_type": "stream",
     "text": [
      "Presuming previous theorems (applied transitively).\n"
     ]
    },
    {
     "data": {
      "text/html": [
       "<strong id=\"unfoldSingleton\">unfoldSingleton:</strong> <a class=\"ProveItLink\" href=\"../__pv_it/b10a52bd04a2d84d9d4eeb08872f487d0534b6e90/expr.ipynb\"><img src=\"data:image/png;base64,iVBORw0KGgoAAAANSUhEUgAAALAAAAAWBAMAAACS3AueAAAAMFBMVEX///8QEBCIiIhmZma6urrM\n",
       "zMxUVFQiIiJERETc3Nzu7u6qqqp2dnaYmJgyMjIAAAAcRTyBAAAAAXRSTlMAQObYZgAAAmNJREFU\n",
       "OMullU9o03AUx7+2yZpkaSuCF0/VwihFoQjepswJDkGk20E8CC3FHQZz7DDBgcrYQTK8xJNjIEYP\n",
       "HqZowIPgIZQOLxVnQMGLSsA/h8EkCIJ/EHy//JY0pm024g/C+/3eN/nkl/d+7wVIPG73lwZ1wGGT\n",
       "9wm4ykKMOAW8YHYjATinx4iPgGUy8kIC8Os4US0gZ5AxE4DnY+O0G9n26uqtBFx5Nlb+BPzQtCsJ\n",
       "wKkK7evA1Ggr4r93GPI+YA2YBJaiTwlRh/iS24kgaJINPMTbwjW2WP/Kxkc2bR5HygU+ACegOFGO\n",
       "FHXcNLYm074nQ69o45VxKhIh8xgkOgtP6Q6k7Djwg7WjgOWvgsmuEcCA1pU17EG+ANToSNgZxICz\n",
       "N1aMfmDgW9ejwi/Uqh5Yds7SunVkiJbCEDJGAFaLE5MUqS0e16xwKCB+5wse4y9smnawn8wYXUsX\n",
       "KMfGTIa2oOaN8c6OywPOHC95xuOaFU7eM0pTOfqxdVyHlzw8oRMpYpN5V8ZQ6oCrORtKxc8Z1+76\n",
       "haxWIPyWXDman3Rd+ENmmC4Wa+Cn5x5GIxTjvA7xsqYt4lzF10T/zAuzUBrlYlf7UhpFhvrM0sOi\n",
       "Kroic89hbwhcQxX14JR5WrDj/iVNUYbi1+Ud1VGxbOCS4AZg2V1HE8+Dw+Bp1nZNaAaPR7wmxMf9\n",
       "N602xk2cLDkBWLl4+qAByfTBntYBS73b5lUs8rYZHqaiS3a0QEoUY8bjmrVdox8tVhFtEoP6QPNM\n",
       "75ImHtesHf2asv9+TRbCu2ZvMOWMa9P4r5Hu6r6HuD2/41/CX4JeogBM6xTwAAAAAElFTkSuQmCC\n",
       "\" style=\"display:inline;vertical-align:middle;\" /></a><br>(see <a class=\"ProveItLink\" href=\"../__pv_it/b10a52bd04a2d84d9d4eeb08872f487d0534b6e90/dependencies.ipynb\">dependencies</a>)<br>"
      ],
      "text/plain": [
       "unfoldSingleton: forall_{x, y | x in {y}} (x = y)"
      ]
     },
     "execution_count": 1,
     "metadata": {},
     "output_type": "execute_result"
    }
   ],
   "source": [
    "import proveit\n",
    "%proving unfoldSingleton presuming []"
   ]
  },
  {
   "cell_type": "code",
   "execution_count": null,
   "metadata": {},
   "outputs": [],
   "source": []
  }
 ],
 "metadata": {
  "kernelspec": {
   "display_name": "Python 3",
   "language": "python",
   "name": "python3"
  }
 },
 "nbformat": 4,
 "nbformat_minor": 0
}
