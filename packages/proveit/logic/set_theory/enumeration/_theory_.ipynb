{
 "cells": [
  {
   "cell_type": "markdown",
   "metadata": {},
   "source": [
    "Theory of <a class=\"ProveItLink\" href=\"../../../_theory_.ipynb\">proveit</a>.<a class=\"ProveItLink\" href=\"../../_theory_.ipynb\">logic</a>.<a class=\"ProveItLink\" href=\"../_theory_.ipynb\">set_theory</a>.enumeration\n",
    "========\n",
    "\n",
    "Enumeration provides a simple way to define a finite set via enumerating the containing elements.  For example, $S = \\{e_1, e_2, e_3\\}$, is the set containing only $e_1$, $e_2$, and $e_3$.  That is, $x \\in S$ if $x=e_1$ or $x=e_2$ or $x=e_3$; otherwise, $x \\notin S$."
   ]
  },
  {
   "cell_type": "code",
   "execution_count": null,
   "metadata": {},
   "outputs": [],
   "source": [
    "import proveit\n",
    "%theory"
   ]
  },
  {
   "cell_type": "code",
   "execution_count": null,
   "metadata": {},
   "outputs": [],
   "source": []
  }
 ],
 "metadata": {
  "kernelspec": {
   "display_name": "Python 3",
   "language": "python",
   "name": "python3"
  }
 },
 "nbformat": 4,
 "nbformat_minor": 0
}
