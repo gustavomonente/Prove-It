{
 "cells": [
  {
   "cell_type": "markdown",
   "metadata": {},
   "source": [
    "Demonstrations for context <a class=\"ProveItLink\" href=\"_context_.ipynb\">proveit.logic.set_theory.enumeration</a>\n",
    "========"
   ]
  },
  {
   "cell_type": "code",
   "execution_count": 1,
   "metadata": {},
   "outputs": [],
   "source": [
    "import proveit\n",
    "from proveit._common_ import f, l, x, y, A, B,C,D,E\n",
    "from proveit.logic import Booleans, TRUE, FALSE, Or, And, Forall\n",
    "from proveit.logic import Equals, NotEquals, InSet, NotInSet, Set, InSet\n",
    "from proveit.logic.set_theory._common_ import x_equals_any_y, x_notequals_all_y\n",
    "from proveit.number import Naturals\n",
    "%begin demonstrations"
   ]
  },
  {
   "cell_type": "code",
   "execution_count": 2,
   "metadata": {},
   "outputs": [
    {
     "data": {
      "text/html": [
       "<span style=\"font-size:20px;\"><a class=\"ProveItLink\" href=\"__pv_it/f46e98f5cd9ba8019ef1de9a27bafdadfeac28d30/expr.ipynb\"><img src=\"data:image/png;base64,iVBORw0KGgoAAAANSUhEUgAAAJUAAAAVBAMAAAC9PLGkAAAAMFBMVEX///+IiIi6urrc3NxERETM\n",
       "zMwQEBCqqqpUVFQiIiJ2dnYyMjLu7u5mZmaYmJgAAABN0h6tAAAAAXRSTlMAQObYZgAAAlZJREFU\n",
       "OMuVVD1IW1EUPu8l8aUxP2+QTkIyObg0g4uTQaTYoZhBhFJKQtHByU7dSgvtYKkxioMELO1UKBTq\n",
       "JKVafG2lLYigiwiiZujc1KoYFWrPOfe+5N747tALOTn3fPd+9/y9AwDJfTAsM6Kse50oIlse6fGP\n",
       "plNmRFtdeRT2GD/+W9ruXnGLkGS5vvesv0HfUZoOvRZo+Xhy4CkqiUXa7pKIzchzq61cAmnLARzk\n",
       "pel6FZztqtBTyFF74B97q3IlV71ArgJevbEpLGsLKA6yYlNw0adiINd3/8zPSmVR4UqjueYKaIme\n",
       "65JPpdFZ+28gVzWd4f/hTt2vm5ilceFy4pQLJ+Eh/IXOg7hs7zHnIb7SEmMd4M6UMPSx4auEj+kW\n",
       "orEi7d6QiIqAvnD8uM02uBiJ1H91zEvDe1fJZuQQhXXuN0KNxENRowz0cYLDzdOMWEcA354Iw6u8\n",
       "wmWd0HN/UHyibTveHp4Tr5T2yjlSRpZxsasCCWME1qm4PsFpk+UOkzspii86S/vnrmxbsLGRmKGn\n",
       "paFT6JN1KP0i4UjnUvR0jXL8gf0i36PsDvbcNc5hW5OLEWovjsTvrBg02ys+Clq+uFoh5GpnW8LV\n",
       "60jtVcjJOhL2TmmvdQpFqSPf6KUEHPGZeZ1rCeMf9SB+QeFhZz6SOn1y9stm6zT6a+1yBZyhMy7k\n",
       "j35P4XpxWdoZQKehQtaNwVJG6ghM3s4GcGmr+5b2DcnleMG6zlU0DSYNiRl0jasxvyBwfvnrs0HX\n",
       "5heYp6eKVA06tiGl0L4vojdOdef/5v0/5Q2wLy9fkFYAAAAASUVORK5CYII=\n",
       "\" style=\"display:inline;vertical-align:middle;\" /></a> <a class=\"ProveItLink\" href=\"__pv_it/f43531a4f9828da5a9c3b4d507b614bfe20e17f50/proof.ipynb\" style=\"text-decoration: none\">&#x22A2;&nbsp;</a><a class=\"ProveItLink\" href=\"__pv_it/ee216453783efa7f48c612a577945b9e0b6cbb8e0/expr.ipynb\"><img src=\"data:image/png;base64,iVBORw0KGgoAAAANSUhEUgAAAQ8AAAAUBAMAAABhZ6XhAAAAMFBMVEX///9UVFTMzMx2dna6uroQ\n",
       "EBCqqqqIiIgiIiJmZmYyMjJERETu7u6YmJjc3NwAAAC+aOQFAAAAAXRSTlMAQObYZgAAA0VJREFU\n",
       "SMeVVk1oE1EQniZpNj+bpBUPxr+mN3+Q9mSpCOYiKAjm0IPYgzlaBM1FivTQXhQKUlNEoadGsYeK\n",
       "2Cp6kGLTgxVtQHIrFbQ5iYhSY4tVY63zk6T1veStXdj39s3ON9+8eTOzCxDOg/HyFlTJFzMALqoC\n",
       "JwpB5OT5gPY21FIc2fUEYK8ityd5cmV0g3ZfdE+4vUF13UBRap5C+4x4KLIJ3WwjMo7GYI4XMSan\n",
       "ISA8ga864nIevLfydqaqK7D6FBFUXUwCIUJp8W1iRtNqw4ieToM7RYttNMzTsCBv3/7WALnrOIwW\n",
       "oIMWDeRDiLAmCnzvTwAhfLK/l6NaKkA/ihZTYCdo0UoDEcGQnELPHw0wRkzHAWY5Ik04+EhiokBv\n",
       "PWuM+CiSfH9c03qKdGfQ0r3KgXhoa+EB2Z+1our7v9O4H3XjlQM5SQ8GiiwZXGbEFRZ4Zi7pmV0E\n",
       "2Lcb504uHnQiSFuyJNCnvGuq/hK7+AbAzSo9eE/Tg4GiRC+KjHjOghd8Wii4zxcbchXf9V3jbGAV\n",
       "ZDlIc5DN2XHXKouPMGCcHo+lKsXA2epDE1xgBgqyYS0zgqkgDktp1VsLk2CWDvo8L3sBtrP9JO8P\n",
       "wj9VwI1YpfVwaKwUNPBhGCi+UVavMKKLPYuOtEyqWkFMUouOvY2Xr0DKspGNt44Ml1TAOa4KHFxc\n",
       "2fZAufINFKQYSTCiS/YHjVp/imA0rNWqI/6kO7nhCA5ntYhwNGIVR+A2HN5wpDYFubaYZwTHDRl8\n",
       "iU0H2FRpIxQ2OCF9OuOD6tF48b66KUfugHQQtECkUlifQGYDBWaN3S0IyqRwslajpDbSNllNVng8\n",
       "D9Vk/VCrUS5RMh6tJisED0n2GigwfHMZQXSWCz2o9acxdLSbjv2mrFu5nXFtci/Jqv2JCrqHAP52\n",
       "+RrtkFZanwL34hkEQWDcc+sPwJv9oeT0zvXo8BRnxV0RBEQBo2hnf83AhfVB1e7rR1FOoEC5fMZl\n",
       "MlE0PyuUEb6Cwyeasl+SpPypGHICYIHJ9VkmZwpChNJOSu7Uv+sFR7Mdysc+/V+IaSelObX4nTZo\n",
       "q2XqSMGInJPWdO0fo/pXsM6PkQPC6T8utOVfxfdb/lVExF+g2wjB4tIAOQAAAABJRU5ErkJggg==\n",
       "\" style=\"display:inline;vertical-align:middle;\" /></a></span>"
      ],
      "text/plain": [
       "{A in {B, C, D}} |- (A = B) or (A = C) or (A = D)"
      ]
     },
     "execution_count": 2,
     "metadata": {},
     "output_type": "execute_result"
    }
   ],
   "source": [
    "Or(Equals(A,B), Equals(A,C), Equals(A,D)).prove([InSet(A,Set(B,C,D))])"
   ]
  },
  {
   "cell_type": "code",
   "execution_count": 3,
   "metadata": {},
   "outputs": [
    {
     "data": {
      "text/html": [
       "<span style=\"font-size:20px;\"><a class=\"ProveItLink\" href=\"__pv_it/30633948c670ed074f94ce08bd83ca057964c2c10/expr.ipynb\"><img src=\"data:image/png;base64,iVBORw0KGgoAAAANSUhEUgAAASUAAAAVBAMAAADyROVdAAAAMFBMVEX///+IiIi6urrc3NxERETM\n",
       "zMwQEBCqqqpUVFQiIiJ2dnYyMjLu7u5mZmaYmJgAAABN0h6tAAAAAXRSTlMAQObYZgAAA6dJREFU\n",
       "SMfNVttLFFEY//bm7uzOTvYHhPskCIX7Fl3IBbsoROuDD0KQixQEhSx0gR4kKYN8MBeC6qFAX4wI\n",
       "QYogtHALMcSX7UItlbrSSyCippZiat/3nbnomXVG3zow35w55/zO7zvfbQ4AaOPw37TA+yy91H6S\n",
       "R1wWX5IHfAVnQDAuj7hRMMJ7jrraLCmWEGr22Vb+XO/IH41BSKYYEq/TRTZ/U5MvHISb0qgTRU1b\n",
       "De7PiG8kwhkUEUEZmbUznAWILoLKWwV4pI7EczE7aAd4mgFammHUWsswB4oVtMwfEIgnpk7TYnLq\n",
       "r93Da2jQVYBu+ggRhVZKIsez2mBWBqi1OBSdhzAtg1skJsGZYg7FZxAIS6e7YruWefupcUhD0DCj\n",
       "W1EopIYiTv1uwhY2kYsUFilQU/TVQOIhOFMsoqgsCISpky8jTu35ZQP4ceEwbhqJGR7bR50DYrZQ\n",
       "FpMBE2lSHs34zPCYl2zqREHurOoSCFMnj/DE3uCaDbCrFQIP0DJhXtKCTzV19vCkN3tdTj/fMpsD\n",
       "VenlZEKYn2zpREHRX9kqED0cIxi9ft5ZjbFnAZ4OUHvN/cY7k7V0co2DXEETcP6c4sm30MhRE2bA\n",
       "ANGG5wyqKZZ44no2hgMF7VHWJRAzNHIV41ZJ86nBt2o7RFkc1PN0YLa9pxRC7K37PBmDqpy0Xlk0\n",
       "etdY7ga4weMOFJQ5nTGBiOCG9RR7JczTMJZfsAGOEwj3C3AOqxk9x5s45DvGOhPS+hLOK5WOz98j\n",
       "ehlxoEiS+G0g2tFq5XUGAMUFG2CJdCo1dIIv8NjSyYtIuQQqvO6KqVM0HU5bOhWlIC21NR0RodQO\n",
       "JXTDBvG5t8HZL43yxHb1irw5BOLNvkOUktoQT7RdlHMdgwMqRMz3KWD6rjgFRdhwQkfMGHnHAbi/\n",
       "WFmm8hRYMGMc/Gc4qDnGfekiZdlHDOGsGeNwbBLMGC9OgRGoDhhZ0WPoRInOBSQpl8AI2qH8JJ2/\n",
       "S9TcdlG4e/Ua5beVQKwOwe/U+Sq+G7hiOlHgsSpyBsKsT+gYNbmShcvrjzavDw0ujbWdYGSdGBHp\n",
       "S2YeWn8FweSynHjqp9sfuPNCpxQLnCjybR9NhPxvcWoj+vuwHspxN4Ca0Z2p/xHdKRghdEpZP0iH\n",
       "1r35U8u5AcQ/2GruFNY/mO9Pfrdjq3LOV7sxjMp/tfi2EHx/gn7rwrV1829xp9u6VRe/07kgvE3i\n",
       "zjm+jYvpj53efbUd330Jwffxf01ZHP//O10HAAAAAElFTkSuQmCC\n",
       "\" style=\"display:inline;vertical-align:middle;\" /></a> <a class=\"ProveItLink\" href=\"__pv_it/075f965811f4c7cd0d4d6adce8fd154323e36e740/proof.ipynb\" style=\"text-decoration: none\">&#x22A2;&nbsp;</a><a class=\"ProveItLink\" href=\"__pv_it/27406834624eeeec52a6cc4aa794a4c42e4a80410/expr.ipynb\"><img src=\"data:image/png;base64,iVBORw0KGgoAAAANSUhEUgAAAIAAAAAVBAMAAAB8u/sIAAAAMFBMVEX///92dnYiIiIQEBBERERU\n",
       "VFS6urqIiIjc3NxmZmaqqqru7u6YmJgyMjLMzMwAAADiRdoGAAAAAXRSTlMAQObYZgAAAgpJREFU\n",
       "OMuNVDtLA0EQnqjJJRc19hZKGl+FQewNPgJWsVAwqCTiDzCgnUWC2CuIhSAoWFl54FsQUlgKUcRC\n",
       "RBS1sZCoGBXxNTO7l9vEnDqQyezM7jevjwMoLuUL8LfcTtiGvEfwHxm5lMbdjwLuSUWz872hHOZ4\n",
       "ZNBdJaLRp77OfjQ8hzJ4UQjgqCVdGgRYNJOMpUCfTQnbhw/TS+Y1RLwwigJk8P7ojPCsN6FaTIpD\n",
       "Jo7ZAxbArhnY9/sPFYAEutNxETqmHCMSP4Flud4tgFQixv83E/kVdGDnLaI4zxuPXYbD+HM/5ABc\n",
       "xir35j0raCELcDUgHNPs2JbhJ3qFUUeAj5vcE4AzmQNwUieV2YPxRumoiSsTqnxBpT3IZQHEYJon\n",
       "VWZdWabZa68Aaz3C0XypAGiflOMZ1SnjReajQTKuz1F4iDf1DIgFam/iTRuPQi6rjBL7qHxnHTWD\n",
       "C+dnUwUU82F27UVWQEqXZfgoX5rmdkJHJEQJD6PUAnAGJQ24UJMBDrBo4G01CetGgAoehieevwWi\n",
       "QSYot0CxaoUGe1Q0b2GSmnrlQGM+wDG212qA94OqR9qsSJuY72owr61/nYEefuQ1bIQMBWDoKzLX\n",
       "ieWBn7w7XZGYtDHQ15206KLIcHselaXoRnG7CIAVCagHG/s3AEkxIVs2tvI9+CnqFyllYyNdYrYA\n",
       "+n+/id9/h5MaXrUmHAAAAABJRU5ErkJggg==\n",
       "\" style=\"display:inline;vertical-align:middle;\" /></a></span>"
      ],
      "text/plain": [
       "{(A = B) or (A = C) or (A = D)} |- A in {B, C, D}"
      ]
     },
     "execution_count": 3,
     "metadata": {},
     "output_type": "execute_result"
    }
   ],
   "source": [
    "InSet(A,Set(B,C,D)).prove(assumptions = [Or(Equals(A,B), Equals(A,C), Equals(A,D))])"
   ]
  },
  {
   "cell_type": "code",
   "execution_count": 4,
   "metadata": {},
   "outputs": [
    {
     "data": {
      "text/html": [
       "<span style=\"font-size:20px;\"> <a class=\"ProveItLink\" href=\"__pv_it/854460cd7002236561a3a12e400af61da2c0e2030/proof.ipynb\" style=\"text-decoration: none\">&#x22A2;&nbsp;</a><a class=\"ProveItLink\" href=\"__pv_it/207debf668e78c09691d5f5ebe5c011795e40f7d0/expr.ipynb\"><img src=\"data:image/png;base64,iVBORw0KGgoAAAANSUhEUgAAAc0AAAAVCAMAAAATgUXZAAAASFBMVEX///8kJCQoKChjY2MJCQkN\n",
       "DQ0rKysPDw8WFhZUVFTMzMx2dna6uroQEBCqqqqIiIgiIiJmZmYyMjJERETu7u6YmJjc3NwAAAC3\n",
       "Ac4fAAAAAXRSTlMAQObYZgAABMxJREFUaN7tmumypCgQRpm1BwWVTd7/TcdSUXJhuaXzb4zooG5b\n",
       "cr5MkiTBEqLrGuCfwQTxzjWY2Yv/rxevtT00S/6Ht+OLdKWPUJnWn6ntUC3GSqR08HoQNcZLiJoV\n",
       "FyO13oHJYrkZJMHMjPdHGaM0RjqnyEN+dtLIIFYw9p8nnNwekMlUcxJl13AmtR2qxQr/F4lt8noQ\n",
       "mAHNfgXBWJE7MDHO1gKkjUyHBozVmM9UfegxESVjMes97CajUfhFe8bEBLvztmc0k9oO1ULiEANi\n",
       "CW8toGoIwgBmv4IgVkAHJsbRBgNG3kbfSLRgNId4jJWKBgXdcvZjIjRhiPN5Q6Puxrk9mEltj+rV\n",
       "4RQDxWKeNSyqhsAMbPYLCMYK6MDE2Nsld7afsPNFcMs/vxZbGM35/HqIULfV/loXUfCmWaxO317d\n",
       "ed0ezaS2pXoPapIuoFjEG66R6EdgBjb7BQRjBXRgYnzaFcy7sH1XQf5Wc7q1ODedPnuCMk1Ko5+q\n",
       "FYpxKZ2scUTdWdUsGhbYFlTzQU3EQp5U88ygagjMoGY/RjBWYAcmxtbOubOVF1MMoHz1NPvnoxn3\n",
       "+mhYJBjMNd5f8SjeYpKnjmfFeMXvaFqjmdTWVZ9W46AmYgHvY+XCoGoIxGDMfoxgrCAONJc5LuvA\n",
       "qywr34XSjJK/tFkOlyHMbpnQeMfiEnj3P5+hdZfI4e54tNl1G53U1lSfj/7+F3yUERvA+jEd/zCK\n",
       "dQzPYMz+GlGxgjjQXqx8INQeX/mjexhYuDZPesArkdcSrm6kwqVZX8iUVy6x09JcNifY8qoLQU3E\n",
       "At6CNgMdCMxgzH6K4KzADkyMrdUq21WabTcWs0Q96C0w/t7DI1vIV7ISbQgwO3VWnPlC1hfxyrBy\n",
       "mc+wa41mUltVzWyRebE5L8yo5GgjCIMx+yGCs4I4MDG2Nuvx+KQtWoLHiT+8uVeij4NmGKR3cA6F\n",
       "rB+uRcJKIb4fTar6MJqWh0RszjsKo8x7bQRhMGY/RHBWEAdmo3nP9pTE8qJak83mJ7oc3sDdWZPs\n",
       "McfCsum1I0dLauHXTVnJtFT1/uhvGj/KiM14k8Hb+apjeAZj9teIshXEgYmxtddKvE7MgYSZhSK5\n",
       "/K5p0wZuQClivaYqPmNMWd/fufuuaUPzNIhUQaxqcshSEJvx0vcnQ0qUEoIyGLOfIVgriAOzKiiV\n",
       "t9fex4Et7DKR3Wu+QdRn7nUf9T5egLPWnsxuVXbj1KsWw3Rnmqf5WTFeU82EIBYLeYOD6bADwTGg\n",
       "2Y8RrBXUgYmxtcc09S7GvXSdtg/ZF4WXfypfGE1p0yl2ShT3EYI3TsrreDfdOJ6Q0pmVDY6hNZpZ\n",
       "UqmpxmU4Jxbw7rPQazvWQjAMbPZTRMkK5MDE+LRL/Zw//DG6ZSme7KHY9D+9AU72mhuUwskexRnR\n",
       "cWW8zP8De+z2JeMRos+Ki7G3of4MU1WNxfPU8cc33jl1J+mo6w14g9dwTBfjEaLPCnjqzo1X/lKA\n",
       "0VDaSPj5pzf2dA9e6TTroLUYZXdQd71Nb/KqjuliPEL0WYHeiLEDdpdQ3Lvx0m8Piu/Ray/YVdp1\n",
       "uQdvq78JavezV8nfMB4hOqcmDu/arxlcIaO//7ug8N4vSVRPP+HZzzzUf47osuJi7O2/GsFuYDMP\n",
       "syoAAAAASUVORK5CYII=\n",
       "\" style=\"display:inline;vertical-align:middle;\" /></a></span>"
      ],
      "text/plain": [
       "|- (A not-in {B, C, D}) = ((A != B) and (A != C) and (A != D))"
      ]
     },
     "execution_count": 4,
     "metadata": {},
     "output_type": "execute_result"
    }
   ],
   "source": [
    "NotInSet(A, Set(B,C,D)).equivalence()"
   ]
  },
  {
   "cell_type": "code",
   "execution_count": 5,
   "metadata": {},
   "outputs": [
    {
     "data": {
      "text/html": [
       "<span style=\"font-size:20px;\"> <a class=\"ProveItLink\" href=\"__pv_it/3eb13a6b0453a4de6389899e8d1fc08c3f3408c40/proof.ipynb\" style=\"text-decoration: none\">&#x22A2;&nbsp;</a><a class=\"ProveItLink\" href=\"__pv_it/4e3c184d101d13bd4348af0dd3d53dc158a9687b0/expr.ipynb\"><img src=\"data:image/png;base64,iVBORw0KGgoAAAANSUhEUgAAAK8AAAAVBAMAAADC7aNVAAAAMFBMVEX////MzMxUVFR2dna6uroQ\n",
       "EBCqqqqIiIgiIiJmZmYyMjJERETu7u6YmJjc3NwAAACgK8IjAAAAAXRSTlMAQObYZgAAAj1JREFU\n",
       "OMudVT1oFEEU/s7d3F2yu3qtWGhnIYR0YhRMI1oEs0UqqzR2QRYtjoNArkokhZw2wkHwiJUpJKRJ\n",
       "QNQhIpGkuTIpIleo2AgniDYWvjcze5uZnT0Sp9n3Zr73vdn3N0DBila1cH4B/7fOdl274cuBeKsG\n",
       "PHBAfhRzSvi++8L9gTjaAc708q43iokl/LXzyGsaYtjJIcZ6xcQMj1onIcbVHOJwWHwJXjUcR9uP\n",
       "V5zEH3O2T4YRE/z7cb20JQpuPDZl57w5jJjgDfrsPvzyKGF9TxiBbST4KuDFrNsRq9BGWB+/bcUo\n",
       "tWnhLSkT0XJVZmc8yyvpnh9jURdIJM8n13m9YjGgKv2Ag4Qj58ntdfad2nSwRIrw/voy1FkF3afi\n",
       "/UaF9oZkJirbf16dA27gprhrbmsbgs/SjREoxtI9dszSBU6NGEnwh2+/TEd9i3iEgi6kX2NpG4LP\n",
       "snouUQnZMNoNM6L0kz5rKCCG9GsuZUPwJdYu1tRunMWYfbRRiXWM/WYW47U0FJB+BzG+hIENwSl5\n",
       "ZbGIiqyH52aNbSIgsKyKyG49Tt58pQ97RCkbgl+j28+91xNFXiMjfoaZrhZHJ+zWbMH/HfRzI0zZ\n",
       "EPwOsFPfXVXn4ZXp48Q79Re9tEFqFgH9bHh5oXFkx1jZENxsaf+62dLtVPx08pZuK3jREIq5ScJf\n",
       "px1C2obh7wrncbUbJHoeO8Zm4BybykbC3YMe9IL49aeypKecLO5Br2wk3P00oWy8eZ9P9zQR/B/K\n",
       "hbD70hDmYQAAAABJRU5ErkJggg==\n",
       "\" style=\"display:inline;vertical-align:middle;\" /></a></span>"
      ],
      "text/plain": [
       "|- (x in {y}) = (x = y)"
      ]
     },
     "execution_count": 5,
     "metadata": {},
     "output_type": "execute_result"
    }
   ],
   "source": [
    "InSet(x, Set(y)).equivalence([Equals(x,(y))])"
   ]
  },
  {
   "cell_type": "code",
   "execution_count": 6,
   "metadata": {},
   "outputs": [
    {
     "data": {
      "text/html": [
       "<span style=\"font-size:20px;\"><a class=\"ProveItLink\" href=\"__pv_it/334b36b4f9dd34bf85cc1c578846a5a9d8be708b0/expr.ipynb\"><img src=\"data:image/png;base64,iVBORw0KGgoAAAANSUhEUgAAAFcAAAAVBAMAAADBdm84AAAAMFBMVEX///+IiIi6urrc3NxERETM\n",
       "zMwQEBCqqqpUVFQiIiJ2dnYyMjLu7u5mZmaYmJgAAABN0h6tAAAAAXRSTlMAQObYZgAAAUxJREFU\n",
       "KM9jYGDgu8eAFbx9AKFZLx6AEgwMPLuwqz29AMZiSoURDHwfsCt+j2DehhNcE7ArXonGXEmp4icz\n",
       "Z24gVnGIDEGTeQSbFReCg2YPioqDFxmYcxgYloH4YIIDaOsphpcCs8EcA7jibiBeoMbA+AEaMGCi\n",
       "LICBYQ3D+gPKIA4LXC07MFyZC24zsDgwMHBfYIAQIZOBjAMMLhAlYbuBAORBVk+gHTwMiQz8AkBe\n",
       "J4xQCwCp+ghRbMKAGm1/GOKB0twNDFCCwwFk0FeIEjZEELQAMe8GBjEGZDeDQqMG6A1wmPEKoIQG\n",
       "SwODBwNyaAAVM31n+cAMSWPTURTzNjD9Qw9nnkYZ2XcQJSecDiAp5mmU/YwvurU8UaKbdwOq4gTs\n",
       "CWkZOGLOK6Aoxpee5zE4oqZnBhw5hRuYUxRlQZHAlAQjgBGLIw/WYuRBAA0caiCQ9/TjAAAAAElF\n",
       "TkSuQmCC\n",
       "\" style=\"display:inline;vertical-align:middle;\" /></a> <a class=\"ProveItLink\" href=\"__pv_it/d55175b036d4735a142c6d8275e2e9934a8417120/proof.ipynb\" style=\"text-decoration: none\">&#x22A2;&nbsp;</a><a class=\"ProveItLink\" href=\"__pv_it/67fe26e9a363c5cce332bbfe877e3f89d271606e0/expr.ipynb\"><img src=\"data:image/png;base64,iVBORw0KGgoAAAANSUhEUgAAADMAAAANBAMAAAD2/0vEAAAAMFBMVEX///8QEBBmZmaqqqrMzMxE\n",
       "REQyMjIiIiKYmJh2dna6urrc3NxUVFSIiIju7u4AAAA6P00QAAAAAXRSTlMAQObYZgAAAKFJREFU\n",
       "GNNjYHh7Z9fNCwwogO/SBYaNDxj4JnDUsicA+ZxpYKAAYnIJMNwHUg84/3FtQNW1mSmBIRSomYE1\n",
       "gAENPGC8wPAXxOC/gC7FsP4ByxcQ7e8A5kLtOgBiqzHwCjAwMD+4z8D7AE1XDAMrUMl6g3iGHegG\n",
       "6jCsb2BgeHP3rUYDutSbu/obGHABNRziPAl8v3BIsTewXsAhxXVXBUgCAM1cLDnk3FtcAAAAAElF\n",
       "TkSuQmCC\n",
       "\" style=\"display:inline;vertical-align:middle;\" /></a></span>"
      ],
      "text/plain": [
       "{x in {y}} |- x = y"
      ]
     },
     "execution_count": 6,
     "metadata": {},
     "output_type": "execute_result"
    }
   ],
   "source": [
    "Equals(x,y).prove([InSet(x, Set(y))])"
   ]
  },
  {
   "cell_type": "code",
   "execution_count": 7,
   "metadata": {},
   "outputs": [
    {
     "data": {
      "text/html": [
       "<span style=\"font-size:20px;\"><a class=\"ProveItLink\" href=\"__pv_it/d9aa16cee1003e720590c03fa1d7b2b87d525c490/expr.ipynb\"><img src=\"data:image/png;base64,iVBORw0KGgoAAAANSUhEUgAAAEUAAAAVBAMAAADiLT7tAAAAMFBMVEX///+IiIi6urrc3NxERETM\n",
       "zMwQEBCqqqpUVFQiIiJ2dnYyMjLu7u5mZmaYmJgAAABN0h6tAAAAAXRSTlMAQObYZgAAAP1JREFU\n",
       "KM9jYGDgu8eAE7BePACieHYx4AFMqSCS7wM+NQy3QQTXBLxqVg6EGh7BZsWFaJIHLzIw5zAwLAOx\n",
       "OTYwMJxieCkwG8RZvRsE9oKYC9QYGIFefg9ilwUwMKxhWH9AGdUY5oLbDCwODAzcFxgYQiYDBQ4w\n",
       "uKC7g4chkYFfAMjoBBJqASChj5gh/IchHijF3QByjwMoXr5CJCDu2QFi8m5gEGOAugfkrxqg62TQ\n",
       "zGFpYPBggPoLqIbpO8sH5gdoangbmP4hhQ9Po4zsOwxHN8p+JhzOQBfB1CRgV9HNcF4BpgZX+pnH\n",
       "4AhPPww40qGiLCjgmJLAHHZC6RkAjq1HZgQ0M1oAAAAASUVORK5CYII=\n",
       "\" style=\"display:inline;vertical-align:middle;\" /></a> <a class=\"ProveItLink\" href=\"__pv_it/c907b1f4ee385369971bf1bba0c007c5af94c5750/proof.ipynb\" style=\"text-decoration: none\">&#x22A2;&nbsp;</a><a class=\"ProveItLink\" href=\"__pv_it/2614a5f4f0b31a8f904bc24ba1b6498466377a010/expr.ipynb\"><img src=\"data:image/png;base64,iVBORw0KGgoAAAANSUhEUgAAAEQAAAAVBAMAAAAN71XTAAAAMFBMVEX///8QEBBmZmaqqqrMzMxE\n",
       "REQyMjIiIiKYmJh2dna6urrc3NxUVFSIiIju7u4AAAA6P00QAAAAAXRSTlMAQObYZgAAARFJREFU\n",
       "KM9jYMAGODSgDKd7DNgBXyacudABuxKOD3AmUwJ2JZwF2JhEKuEILy/Dr4Ql9gEOU97e2XXzAoj3\n",
       "7AGyON+lCwwbHzBwCgCZEzhq2cHOPg3XygPkc3IJMNyHeI7zAec/rg0giQC4EkNgYGwGejcUyE4C\n",
       "msLACpFjEUsDAhDLtRpIPGC8wPAXZGItkOAHu4SBOwA1SNc/YPkCpHJAAv7QMBZAuAWkWo2BVwDi\n",
       "FuYH9xl4wX7RRfVpDAPrAQawj9YbxDPsAEuwG6Ao0WFY3wBhvrn7VqMBEr9H1yEreXNXfwNGBHBN\n",
       "RY0ANXzRKAAKPr5feJSAvMHewHoBT3phAKY6rrsq4CBagEMJM3LaBQALvUhBF92wLgAAAABJRU5E\n",
       "rkJggg==\n",
       "\" style=\"display:inline;vertical-align:middle;\" /></a></span>"
      ],
      "text/plain": [
       "{x = y} |- x in {y}"
      ]
     },
     "execution_count": 7,
     "metadata": {},
     "output_type": "execute_result"
    }
   ],
   "source": [
    "InSet(x,Set(y)).prove([Equals(x,y)])"
   ]
  },
  {
   "cell_type": "code",
   "execution_count": 8,
   "metadata": {},
   "outputs": [
    {
     "data": {
      "text/html": [
       "<span style=\"font-size:20px;\"> <a class=\"ProveItLink\" href=\"__pv_it/e3ef21b438a8f1f74f68e03fb06780ef48b8eb1d0/proof.ipynb\" style=\"text-decoration: none\">&#x22A2;&nbsp;</a><a class=\"ProveItLink\" href=\"__pv_it/89ee27ad14f72d6b7c9b26217dca4648b60437b40/expr.ipynb\"><img src=\"data:image/png;base64,iVBORw0KGgoAAAANSUhEUgAAAM8AAAAVCAMAAADW+kokAAAASFBMVEX///8kJCQoKChjY2MJCQkN\n",
       "DQ0rKysPDw8WFhbMzMxUVFR2dna6uroQEBCqqqqIiIgiIiJmZmYyMjJERETu7u6YmJjc3NwAAACp\n",
       "Qug5AAAAAXRSTlMAQObYZgAAArBJREFUWMPFWNmy2yAMpeutAbMK/P9/WmwQ2KzJZDrlIUpsCR2t\n",
       "oBCyXNvzp9Nuwa8lkP+5/Byguv8Aw0ZywuM3vm/Vk48AEAYzdtSCFOzc3fQRnaOYVsvRDF+b+sls\n",
       "LQAQb+bsqCVRM1eq+cNVJVqNHJiaC8wr9iwAEMrn7KglUqfJ6+l2s6cjx2TNlZ9M1gqAtyt21HJR\n",
       "NfGOs+rPlzJdezpysNdc+cnMYavwbCt21HJSr8aVY0Ojsr4fn66c4bXVhi+bgXorPFO9gcoUPpCS\n",
       "ei5vCQIG2grISJMcSH1K+P1qQSxtxnJYmF7ZMwYQl9167AO9mtjY/CC0YackuSXX1S5ktT3F90mO\n",
       "heZ8ssW250zdBV3Zj5nbKmaOACT277+67AO9hiiRWzw7gPCSXleczbP1ix29FeW8iL3ZxqQQGL0M\n",
       "QKhl+QwB9MIz1xvoHlMPykusnj345fflnVJQpRijXBDbzwgeMYxbjgtV9ZPRGgLonH4rvYHupWAP\n",
       "2dQhE8/deI4PyvHg07DP9kRvEMbL9rQAYnj8gL2rN1CVEePLLNkcPqff7TNNYthlqn+u6vrhql8/\n",
       "tM63BsDF/m0fsXf1BprqS0CsrdtVMjQQ3nSn3N+SHLEUP251WfqbW94QxgC6V4ep3kBjq+OHIPao\n",
       "rnpKVEfZ4+RPpmp6SicxzerzR7OVPRMAHX/O9QYaQwVUytDS3WM3oD85jOzBEJ+S+khuNFtznm4r\n",
       "eyYA6u661HvSyXXD/WBWqfV9B6/ToJr7zrJdzwAIPWev9V50ch20raZbZWg8X+Hg/+Y+amDI3tUb\n",
       "qfVvzCW3+eeSUyFBrKynA23emRdGAAQbs/f0Jjocp2RvbCzz6SXHQxZvNS6Oh4T9aJ4zMGbv6UU6\n",
       "GnftIKldf+51vv7/wH02b/PX2FHLRf8CqmU1BY1tk4MAAAAASUVORK5CYII=\n",
       "\" style=\"display:inline;vertical-align:middle;\" /></a></span>"
      ],
      "text/plain": [
       "|- (x not-in {(y)}) = (x != (y))"
      ]
     },
     "execution_count": 8,
     "metadata": {},
     "output_type": "execute_result"
    }
   ],
   "source": [
    "NotInSet(x, Set(y)).equivalence()"
   ]
  },
  {
   "cell_type": "code",
   "execution_count": 9,
   "metadata": {},
   "outputs": [
    {
     "data": {
      "text/html": [
       "<span style=\"font-size:20px;\"> <a class=\"ProveItLink\" href=\"__pv_it/6008d0d12782dd270f121637a1a49cb8f8d9ae950/proof.ipynb\" style=\"text-decoration: none\">&#x22A2;&nbsp;</a><a class=\"ProveItLink\" href=\"__pv_it/5338f9f9049e6027b83e1c117ba806da2d99ed1a0/expr.ipynb\"><img src=\"data:image/png;base64,iVBORw0KGgoAAAANSUhEUgAAAHkAAAAVBAMAAACQ4lxbAAAAMFBMVEX////MzMxUVFR2dna6uroQ\n",
       "EBCqqqqIiIgiIiJmZmYyMjJERETu7u6YmJjc3NwAAACgK8IjAAAAAXRSTlMAQObYZgAAAfpJREFU\n",
       "OMuVVE0oRFEU/mY8Y543M6YkCwtjRZSmEJKa0sSCUEphMRuW8pOYUn4WTMpPNlNKvZKNpEmKhZ+X\n",
       "0ogFZamwsFBSNnbIuXfemzeX98Spd999957vnfN995wL2Jh3PfV2xDX8Yr5rq1XPhjGTOmkYtENf\n",
       "Wod+TU/X6HE+iNsTvSebsyGa7Fiis6bT0zqWivptXy30HBI378pf0Kj9tp9ow7ACuIWcbmMx1RJ9\n",
       "phM6iC0Y6AFCP2WCiybtYueG+AHsa2bsalIsStPkyOPoEGO3LWSejMPXB9Twb07wQjMzl2ZKgCMC\n",
       "Bb3zblVU1knfwTBySPp7njInVGnyDi+/UTpz9F8t611iQMXk0O+HL7IGJUFJs7AuziSRqVrjDdBF\n",
       "sbkTWcEWGQ9StMSWu5HHCJXR4GDn7+hhDgZaka4ZGikn4NmMHfZTlb2jmF65AehonxBbQYBlDu5E\n",
       "lm2ineQoqxiDzlvimXdkop1QmWoubQo5TE15SNBcCWAXuuYp1eJCbG8Q9UB75AQvfG1OQMsB6cM4\n",
       "bznIRnckXan5qFoFWoDT8eR6qtFO97QMtKc0+pmuFs7NU9EqdolYqU0HQqXKqoE+19u1Qa9UoxVt\n",
       "uoQEKsdVyK5LDDu27e9F7Bv9/aNDf78dQHdLc5SRlVhFKA//upngEu61O2vsF9nzhNM7UsIEAAAA\n",
       "AElFTkSuQmCC\n",
       "\" style=\"display:inline;vertical-align:middle;\" /></a></span>"
      ],
      "text/plain": [
       "|- (x in {y}) in BOOLEANS"
      ]
     },
     "execution_count": 9,
     "metadata": {},
     "output_type": "execute_result"
    }
   ],
   "source": [
    "InSet(InSet(x,Set(y)),Booleans).prove()"
   ]
  },
  {
   "cell_type": "code",
   "execution_count": 10,
   "metadata": {},
   "outputs": [
    {
     "data": {
      "text/html": [
       "<span style=\"font-size:20px;\"><a class=\"ProveItLink\" href=\"__pv_it/d9aa16cee1003e720590c03fa1d7b2b87d525c490/expr.ipynb\"><img src=\"data:image/png;base64,iVBORw0KGgoAAAANSUhEUgAAAEUAAAAVBAMAAADiLT7tAAAAMFBMVEX///+IiIi6urrc3NxERETM\n",
       "zMwQEBCqqqpUVFQiIiJ2dnYyMjLu7u5mZmaYmJgAAABN0h6tAAAAAXRSTlMAQObYZgAAAP1JREFU\n",
       "KM9jYGDgu8eAE7BePACieHYx4AFMqSCS7wM+NQy3QQTXBLxqVg6EGh7BZsWFaJIHLzIw5zAwLAOx\n",
       "OTYwMJxieCkwG8RZvRsE9oKYC9QYGIFefg9ilwUwMKxhWH9AGdUY5oLbDCwODAzcFxgYQiYDBQ4w\n",
       "uKC7g4chkYFfAMjoBBJqASChj5gh/IchHijF3QByjwMoXr5CJCDu2QFi8m5gEGOAugfkrxqg62TQ\n",
       "zGFpYPBggPoLqIbpO8sH5gdoangbmP4hhQ9Po4zsOwxHN8p+JhzOQBfB1CRgV9HNcF4BpgZX+pnH\n",
       "4AhPPww40qGiLCjgmJLAHHZC6RkAjq1HZgQ0M1oAAAAASUVORK5CYII=\n",
       "\" style=\"display:inline;vertical-align:middle;\" /></a> <a class=\"ProveItLink\" href=\"__pv_it/ad35f9378613f7b7f5ee650854f565dde4d3dc510/proof.ipynb\" style=\"text-decoration: none\">&#x22A2;&nbsp;</a><a class=\"ProveItLink\" href=\"__pv_it/860d759ca92567e4bc52ab36a388a763234755e50/expr.ipynb\"><img src=\"data:image/png;base64,iVBORw0KGgoAAAANSUhEUgAAAH4AAAAVBAMAAAByPkciAAAAMFBMVEX////MzMxUVFR2dna6uroQ\n",
       "EBCqqqqIiIgiIiJmZmYyMjJERETu7u6YmJjc3NwAAACgK8IjAAAAAXRSTlMAQObYZgAAAaZJREFU\n",
       "OMtjYMAFbl6A0JI1DHgB3wWswqcMYCxXAQaGPNz6T2MXvg9ncS5gYGB6gC4/owMEmhgY1mHXbwFn\n",
       "MTcwMPAswKIkHUTwTiBGP4M5Lv0cKC7j3dHRhVX/UVz6XyCLMG4/gMN+Lgcc+iuB+HjRk+ICcKAf\n",
       "QHY/T2UBw9MDDMwBIEMm4NC/F6jOgLedAxxAeghJLaAelgCGeqCfPoA8Bpa3WgUCK5H1twHVHWD+\n",
       "wwIOhg1w7WyBDAzPgDG3G8gGqWdrwGF/CNB+Bm6IRsYokPFg1g6geQdYCxi+AzlM7UCBD7j1MzDw\n",
       "F0CSIsJ+FqD9DP4HGD8CqUUMePS3gQh5AYhIAEJSG4hnMbAHQP3P0oDw/yK08GM7UM/ADg756ajp\n",
       "ZxMDtwIDJPx5F+Cw3xLozIT9DG/BIhwJKPonMfhfgMY/pwEO/R4MDIfKj8+FZEIebR9k/YfK5z+A\n",
       "pR8BTP2+mOmXxRo1/c6Cpb8TuLIvrvxjCoy3BTxf8OUfCNiHM/9zXOAugOZ/rPkXb/nBZcDAUj4R\n",
       "XP4Asw73A1LLL4ZM5PLvHi7dALkVcjncJWNNAAAAAElFTkSuQmCC\n",
       "\" style=\"display:inline;vertical-align:middle;\" /></a></span>"
      ],
      "text/plain": [
       "{x = y} |- (x in {y}) = TRUE"
      ]
     },
     "execution_count": 10,
     "metadata": {},
     "output_type": "execute_result"
    }
   ],
   "source": [
    "InSet(x, Set(y)).deriveInSingleton(Equals(InSet(x, Set(y)), TRUE), [Equals(x,y)])"
   ]
  },
  {
   "cell_type": "code",
   "execution_count": 11,
   "metadata": {},
   "outputs": [
    {
     "data": {
      "text/html": [
       "<span style=\"font-size:20px;\"><a class=\"ProveItLink\" href=\"__pv_it/d2b93014ee07bfd1be6d5d82e9420145de66a64d0/expr.ipynb\"><img src=\"data:image/png;base64,iVBORw0KGgoAAAANSUhEUgAAAEUAAAAVCAMAAAAn3dPsAAAAOVBMVEX///8kJCQNDQ0oKCiIiIi6\n",
       "urrc3NxERETMzMwQEBCqqqpUVFQiIiJ2dnYyMjLu7u5mZmaYmJgAAACs2H6dAAAAAXRSTlMAQObY\n",
       "ZgAAAShJREFUOMutVNuWgyAMpLsJdwjw/x9bUHRB8NI95cFaE8dJZhLGyokhsv8cGYC2e/LuNt/R\n",
       "/DkqWe9iugXh/iwStoiztygGT0naxyhcsC+gGPkFlAsqIwoBGI7g4JgpOioEoWRwtcjm1MZ3bTNl\n",
       "vaMFZnc9nF/O70+5hv1pljf/QOoE1lXyYgmXiCG/pML1qq6oZS7wUtj6FjWhzqCm+5vTVKkobYUb\n",
       "C539mlBL5cgNM2EmU33L14+YncAeavryUmt3TG9XUAfjV400rR2DfmQ8H8iZ7dJqtKJg0kxkFN6P\n",
       "N4ZxdEzJjlO/kAHIVoiHHeHHYS6ZIfEPvKvD01HeS5ucCZViUkp4RLnYL3qyv2yuWcBAip3vugkV\n",
       "hrkr8m/XYVP9yd7FZ3v3DZ0jDFA94hHfAAAAAElFTkSuQmCC\n",
       "\" style=\"display:inline;vertical-align:middle;\" /></a> <a class=\"ProveItLink\" href=\"__pv_it/1febe95bf0c4f718fd672d84e952be615d48053d0/proof.ipynb\" style=\"text-decoration: none\">&#x22A2;&nbsp;</a><a class=\"ProveItLink\" href=\"__pv_it/eb652c884b84609529ec8040b1f89ec5071d42910/expr.ipynb\"><img src=\"data:image/png;base64,iVBORw0KGgoAAAANSUhEUgAAAH4AAAAVBAMAAAByPkciAAAAMFBMVEX////MzMxUVFR2dna6uroQ\n",
       "EBCqqqqIiIgiIiJmZmYyMjJERETu7u6YmJjc3NwAAACgK8IjAAAAAXRSTlMAQObYZgAAAalJREFU\n",
       "OMtjYMAFbl6A0JI1DHgB3wWswqcMYCxXAQaGPNz6T2MXvg9ncS5gYGB6gEWJGJhch12/BZzF3MDA\n",
       "wLMAi5J0EME7gRj9DOa49HOguIx3R0cXVv1Hcel/gSzCuP0ADvu5HHDorwTi40VPigvAgX4A2f08\n",
       "lQUMTw8wMAeADJmAQ/9eoDoD3nYOcADpISS1gHpYAhjqgX76APIYWN5qFQisRNbfBlR3gPkPCzgY\n",
       "NsC1swUyMDwDxtxuIBuknq0Bh/0hQPsZuCEaGaNAxoNZO4DmHWAtYPgO5DC1AwU+4NbPwMBfAEmK\n",
       "CPtZgPYz+B9g/AikFjHg0d8GIuQFICIBCEltIJ7FwB4A9T9LA8L/i9DCj+1APQM7OOSno6afTQzc\n",
       "CgyQ8OddgMN+S6AzE/YzvAWLcCSg6J/E4H8BGv+cBjj0ezAwHCo/PheSCXm0fZD1Hyqf/wCWfgTQ\n",
       "NM/o6Ajt6GhCS78s1qjpdxYs/Z3AlX1x5R9TYLwt4PmCL/9AwD6c+Z/jAncBNP9jzb94yw8uAwaW\n",
       "8ong8geYdbgfkFp+MWQil3/3cOkGAEM5cc+CfkuHAAAAAElFTkSuQmCC\n",
       "\" style=\"display:inline;vertical-align:middle;\" /></a></span>"
      ],
      "text/plain": [
       "{x != y} |- (x in {y}) = FALSE"
      ]
     },
     "execution_count": 11,
     "metadata": {},
     "output_type": "execute_result"
    }
   ],
   "source": [
    "InSet(x, Set(y)).deriveInSingleton(Equals(InSet(x, Set(y)), FALSE), [NotEquals(x,y)])"
   ]
  },
  {
   "cell_type": "code",
   "execution_count": 12,
   "metadata": {},
   "outputs": [],
   "source": [
    "%end demonstrations"
   ]
  }
 ],
 "metadata": {
  "kernelspec": {
   "display_name": "Python 3",
   "language": "python",
   "name": "python3"
  }
 },
 "nbformat": 4,
 "nbformat_minor": 0
}
