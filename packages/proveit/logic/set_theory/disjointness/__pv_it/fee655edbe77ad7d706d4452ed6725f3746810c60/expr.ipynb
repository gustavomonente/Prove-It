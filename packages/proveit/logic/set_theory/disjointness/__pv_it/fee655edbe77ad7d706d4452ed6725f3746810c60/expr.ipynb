{
 "cells": [
  {
   "cell_type": "markdown",
   "metadata": {},
   "source": [
    "Expression of type <a class=\"ProveItLink\" href=\"../../../../../../../doc/html/api/proveit.logic.Forall.html\">Forall</a>\n",
    "=======================\n",
    "# from context <a class=\"ProveItLink\" href=\"../../_context_.ipynb\">proveit.logic.set_theory.disjointness</a>"
   ]
  },
  {
   "cell_type": "code",
   "execution_count": 1,
   "metadata": {},
   "outputs": [],
   "source": [
    "import proveit\n",
    "# Automation is not needed when building an expression:\n",
    "proveit.defaults.automation = False # This will speed things up.\n",
    "proveit.defaults.inline_pngs = False # Makes files smaller.\n",
    "# import Expression classes needed to build the expression\n",
    "from proveit import ExprRange, IndexedVar, Variable\n",
    "from proveit._common_ import n, x\n",
    "from proveit.logic import Disjoint, Distinct, Equals, Forall\n",
    "from proveit.logic.set_theory._common_ import x_singletons_range\n",
    "from proveit.number import one"
   ]
  },
  {
   "cell_type": "code",
   "execution_count": 2,
   "metadata": {},
   "outputs": [
    {
     "data": {
      "text/html": [
       "<strong id=\"expr\">expr:</strong> <a class=\"ProveItLink\" href=\"../c5d3f35eb3ec4b390125e3f42364bd37e2ef42160/expr.ipynb\"><img src=\"../c5d3f35eb3ec4b390125e3f42364bd37e2ef42160/expr.png\" style=\"display:inline;vertical-align:middle;\" /></a><br>"
      ],
      "text/plain": [
       "expr: forall_{x_{1}, ..x_{_a}.., x_{n}} (distinct(x_{1}, ..x_{_a}.., x_{n}) = disjoint({x_{1}}, ..{x_{i}}.., {x_{n}}))"
      ]
     },
     "execution_count": 2,
     "metadata": {},
     "output_type": "execute_result"
    }
   ],
   "source": [
    "# build up the expression from sub-expressions\n",
    "expr = Forall([ExprRange(Variable(\"_a\", latexFormat = r\"{_{-}a}\"), IndexedVar(x, Variable(\"_a\", latexFormat = r\"{_{-}a}\")), one, n)], Equals(Distinct(ExprRange(Variable(\"_a\", latexFormat = r\"{_{-}a}\"), IndexedVar(x, Variable(\"_a\", latexFormat = r\"{_{-}a}\")), one, n)), Disjoint(x_singletons_range)))"
   ]
  },
  {
   "cell_type": "code",
   "execution_count": 3,
   "metadata": {},
   "outputs": [
    {
     "name": "stdout",
     "output_type": "stream",
     "text": [
      "Passed sanity check: built 'expr' is the same as the stored Expression.\n"
     ]
    }
   ],
   "source": [
    "# check that the built expression is the same as the stored expression\n",
    "%check_expr"
   ]
  },
  {
   "cell_type": "code",
   "execution_count": 4,
   "metadata": {},
   "outputs": [
    {
     "name": "stdout",
     "output_type": "stream",
     "text": [
      "\\forall_{x_{1}, \\ldots, x_{n}}~\\left(\\textrm{distinct}(x_{1}, \\ldots, x_{n}) = \\textrm{disjoint}(\\left\\{x_{1}\\right\\}, \\ldots, \\left\\{x_{n}\\right\\})\\right)\n"
     ]
    }
   ],
   "source": [
    "# Show the LaTeX representation of the expression for convenience if you need it.\n",
    "print(expr.latex())"
   ]
  },
  {
   "cell_type": "code",
   "execution_count": 5,
   "metadata": {},
   "outputs": [
    {
     "data": {
      "text/html": [
       "<table><tr><th>&nbsp;</th><th>core type</th><th>sub-expressions</th><th>expression</th></tr>\n",
       "<tr><td>0</td><td>Operation</td><td>operator:&nbsp;1<br>operand:&nbsp;2<br></td><td><a class=\"ProveItLink\" href=\"../c5d3f35eb3ec4b390125e3f42364bd37e2ef42160/expr.ipynb\"><img src=\"../c5d3f35eb3ec4b390125e3f42364bd37e2ef42160/expr.png\" style=\"display:inline;vertical-align:middle;\" /></a></td></tr>\n",
       "<tr><td>1</td><td>Literal</td><td></td><td><a class=\"ProveItLink\" href=\"../../../../boolean/quantification/universal/__pv_it/fd9c772d6675566ed52a6897806f45eb08a4ea910/expr.ipynb\"><img src=\"../../../../boolean/quantification/universal/__pv_it/fd9c772d6675566ed52a6897806f45eb08a4ea910/expr.png\" style=\"display:inline;vertical-align:middle;\" /></a></td></tr>\n",
       "<tr><td>2</td><td>Lambda</td><td>parameter:&nbsp;12<br>body:&nbsp;3<br></td><td><a class=\"ProveItLink\" href=\"../3ae3a68cfef6a2e6555f953c82fbe5e567e74e750/expr.ipynb\"><img src=\"../3ae3a68cfef6a2e6555f953c82fbe5e567e74e750/expr.png\" style=\"display:inline;vertical-align:middle;\" /></a></td></tr>\n",
       "<tr><td>3</td><td>Operation</td><td>operator:&nbsp;4<br>operands:&nbsp;5<br></td><td><a class=\"ProveItLink\" href=\"../8520a9f63382fd35f914c4f2c372984f90612c6f0/expr.ipynb\"><img src=\"../8520a9f63382fd35f914c4f2c372984f90612c6f0/expr.png\" style=\"display:inline;vertical-align:middle;\" /></a></td></tr>\n",
       "<tr><td>4</td><td>Literal</td><td></td><td><a class=\"ProveItLink\" href=\"../../../../equality/__pv_it/e16d2caa26a16688b658bdb9c422caf4b84579e10/expr.ipynb\"><img src=\"../../../../equality/__pv_it/e16d2caa26a16688b658bdb9c422caf4b84579e10/expr.png\" style=\"display:inline;vertical-align:middle;\" /></a></td></tr>\n",
       "<tr><td>5</td><td>ExprTuple</td><td>6, 7</td><td><a class=\"ProveItLink\" href=\"../372c54f7125fed470c8eff0ce2f4e5ce75b0f86a0/expr.ipynb\"><img src=\"../372c54f7125fed470c8eff0ce2f4e5ce75b0f86a0/expr.png\" style=\"display:inline;vertical-align:middle;\" /></a></td></tr>\n",
       "<tr><td>6</td><td>Operation</td><td>operator:&nbsp;8<br>operands:&nbsp;9<br></td><td><a class=\"ProveItLink\" href=\"../ef538dd4a43411fb0b83b122684fe41e009624740/expr.ipynb\"><img src=\"../ef538dd4a43411fb0b83b122684fe41e009624740/expr.png\" style=\"display:inline;vertical-align:middle;\" /></a></td></tr>\n",
       "<tr><td>7</td><td>Operation</td><td>operator:&nbsp;10<br>operands:&nbsp;11<br></td><td><a class=\"ProveItLink\" href=\"../b2bce10b3dcce4a6a3421940d9bfb12400c02abf0/expr.ipynb\"><img src=\"../b2bce10b3dcce4a6a3421940d9bfb12400c02abf0/expr.png\" style=\"display:inline;vertical-align:middle;\" /></a></td></tr>\n",
       "<tr><td>8</td><td>Literal</td><td></td><td><a class=\"ProveItLink\" href=\"../86a1fb174d84ea961974673c63c3f150244e39010/expr.ipynb\"><img src=\"../86a1fb174d84ea961974673c63c3f150244e39010/expr.png\" style=\"display:inline;vertical-align:middle;\" /></a></td></tr>\n",
       "<tr><td>9</td><td>ExprTuple</td><td>12</td><td><a class=\"ProveItLink\" href=\"../8503dd75b8d2c0097310b10afd704e3f48409d280/expr.ipynb\"><img src=\"../8503dd75b8d2c0097310b10afd704e3f48409d280/expr.png\" style=\"display:inline;vertical-align:middle;\" /></a></td></tr>\n",
       "<tr><td>10</td><td>Literal</td><td></td><td><a class=\"ProveItLink\" href=\"../5914131412886bdc40589259a400c6b09ab55ff00/expr.ipynb\"><img src=\"../5914131412886bdc40589259a400c6b09ab55ff00/expr.png\" style=\"display:inline;vertical-align:middle;\" /></a></td></tr>\n",
       "<tr><td>11</td><td>ExprTuple</td><td>13</td><td><a class=\"ProveItLink\" href=\"../85dfcb37950644d8301f51a8757912d4660c12920/expr.ipynb\"><img src=\"../85dfcb37950644d8301f51a8757912d4660c12920/expr.png\" style=\"display:inline;vertical-align:middle;\" /></a></td></tr>\n",
       "<tr><td>12</td><td>ExprRange</td><td>lambda_map:&nbsp;14<br>start_index:&nbsp;16<br>end_index:&nbsp;17<br></td><td><a class=\"ProveItLink\" href=\"../../../../../core_expr_types/__pv_it/9c1eb8e6adeed9643bfedb8d24723894e1ffb4670/expr.ipynb\"><img src=\"../../../../../core_expr_types/__pv_it/9c1eb8e6adeed9643bfedb8d24723894e1ffb4670/expr.png\" style=\"display:inline;vertical-align:middle;\" /></a></td></tr>\n",
       "<tr><td>13</td><td>ExprRange</td><td>lambda_map:&nbsp;15<br>start_index:&nbsp;16<br>end_index:&nbsp;17<br></td><td><a class=\"ProveItLink\" href=\"../../../__pv_it/d6bdd7db4ddef76ae603c7bae99d43e652a706e30/expr.ipynb\"><img src=\"../../../__pv_it/d6bdd7db4ddef76ae603c7bae99d43e652a706e30/expr.png\" style=\"display:inline;vertical-align:middle;\" /></a></td></tr>\n",
       "<tr><td>14</td><td>Lambda</td><td>parameter:&nbsp;20<br>body:&nbsp;18<br></td><td><a class=\"ProveItLink\" href=\"../../../../../core_expr_types/__pv_it/4850e6a0d19abca5f82da25186a75cc245a1422a0/expr.ipynb\"><img src=\"../../../../../core_expr_types/__pv_it/4850e6a0d19abca5f82da25186a75cc245a1422a0/expr.png\" style=\"display:inline;vertical-align:middle;\" /></a></td></tr>\n",
       "<tr><td>15</td><td>Lambda</td><td>parameter:&nbsp;24<br>body:&nbsp;19<br></td><td><a class=\"ProveItLink\" href=\"../../../__pv_it/0d0ac9530f3937e4509370ef316b47b64caf9a0d0/expr.ipynb\"><img src=\"../../../__pv_it/0d0ac9530f3937e4509370ef316b47b64caf9a0d0/expr.png\" style=\"display:inline;vertical-align:middle;\" /></a></td></tr>\n",
       "<tr><td>16</td><td>Literal</td><td></td><td><a class=\"ProveItLink\" href=\"../../../../../number/numeral/__pv_it/f086f8c372bd40a2458306ddfdbb29f3dc6f63030/expr.ipynb\"><img src=\"../../../../../number/numeral/__pv_it/f086f8c372bd40a2458306ddfdbb29f3dc6f63030/expr.png\" style=\"display:inline;vertical-align:middle;\" /></a></td></tr>\n",
       "<tr><td>17</td><td>Variable</td><td></td><td><a class=\"ProveItLink\" href=\"../../../../../__pv_it/0c1c4cb515e0f4344b1ac06650f349123e526deb0/expr.ipynb\"><img src=\"../../../../../__pv_it/0c1c4cb515e0f4344b1ac06650f349123e526deb0/expr.png\" style=\"display:inline;vertical-align:middle;\" /></a></td></tr>\n",
       "<tr><td>18</td><td>IndexedVar</td><td>variable:&nbsp;23<br>index:&nbsp;20<br></td><td><a class=\"ProveItLink\" href=\"../../../../../core_expr_types/__pv_it/12d6cd514f4a6eb41d13ff30f08a9d01f2c4f4ba0/expr.ipynb\"><img src=\"../../../../../core_expr_types/__pv_it/12d6cd514f4a6eb41d13ff30f08a9d01f2c4f4ba0/expr.png\" style=\"display:inline;vertical-align:middle;\" /></a></td></tr>\n",
       "<tr><td>19</td><td>Operation</td><td>operator:&nbsp;21<br>operand:&nbsp;22<br></td><td><a class=\"ProveItLink\" href=\"../../../__pv_it/e595e0b23ced9e7b256666c791ef83d360d6e80e0/expr.ipynb\"><img src=\"../../../__pv_it/e595e0b23ced9e7b256666c791ef83d360d6e80e0/expr.png\" style=\"display:inline;vertical-align:middle;\" /></a></td></tr>\n",
       "<tr><td>20</td><td>Variable</td><td></td><td><a class=\"ProveItLink\" href=\"../../../../../core_expr_types/__pv_it/1e653f789234b245ee7fea7caad998c139d617410/expr.ipynb\"><img src=\"../../../../../core_expr_types/__pv_it/1e653f789234b245ee7fea7caad998c139d617410/expr.png\" style=\"display:inline;vertical-align:middle;\" /></a></td></tr>\n",
       "<tr><td>21</td><td>Literal</td><td></td><td><a class=\"ProveItLink\" href=\"../../../enumeration/__pv_it/031f443c811429025ee9cba8d75037dd468e2c850/expr.ipynb\"><img src=\"../../../enumeration/__pv_it/031f443c811429025ee9cba8d75037dd468e2c850/expr.png\" style=\"display:inline;vertical-align:middle;\" /></a></td></tr>\n",
       "<tr><td>22</td><td>IndexedVar</td><td>variable:&nbsp;23<br>index:&nbsp;24<br></td><td><a class=\"ProveItLink\" href=\"../../../__pv_it/5806935187de2ebea4a8552dee6b2164eb38f3ad0/expr.ipynb\"><img src=\"../../../__pv_it/5806935187de2ebea4a8552dee6b2164eb38f3ad0/expr.png\" style=\"display:inline;vertical-align:middle;\" /></a></td></tr>\n",
       "<tr><td>23</td><td>Variable</td><td></td><td><a class=\"ProveItLink\" href=\"../../../../../__pv_it/72df168d2bfb4e0140af90912ebf83b13772060b0/expr.ipynb\"><img src=\"../../../../../__pv_it/72df168d2bfb4e0140af90912ebf83b13772060b0/expr.png\" style=\"display:inline;vertical-align:middle;\" /></a></td></tr>\n",
       "<tr><td>24</td><td>Variable</td><td></td><td><a class=\"ProveItLink\" href=\"../../../../../__pv_it/557ab5defdcd46aa58168b08767502985122cd490/expr.ipynb\"><img src=\"../../../../../__pv_it/557ab5defdcd46aa58168b08767502985122cd490/expr.png\" style=\"display:inline;vertical-align:middle;\" /></a></td></tr>\n",
       "</table>\n"
      ],
      "text/plain": [
       "0. forall_{x_{1}, ..x_{_a}.., x_{n}} (distinct(x_{1}, ..x_{_a}.., x_{n}) = disjoint({x_{1}}, ..{x_{i}}.., {x_{n}}))\n",
       "   core type: Operation\n",
       "   operator: 1\n",
       "   operand: 2\n",
       "1. forall\n",
       "   core type: Literal\n",
       "   sub-expressions: \n",
       "2. (x_{1}, ..x_{_a}.., x_{n}) -> (distinct(x_{1}, ..x_{_a}.., x_{n}) = disjoint({x_{1}}, ..{x_{i}}.., {x_{n}}))\n",
       "   core type: Lambda\n",
       "   parameter: 12\n",
       "   body: 3\n",
       "3. distinct(x_{1}, ..x_{_a}.., x_{n}) = disjoint({x_{1}}, ..{x_{i}}.., {x_{n}})\n",
       "   core type: Operation\n",
       "   operator: 4\n",
       "   operands: 5\n",
       "4. =\n",
       "   core type: Literal\n",
       "   sub-expressions: \n",
       "5. (distinct(x_{1}, ..x_{_a}.., x_{n}), disjoint({x_{1}}, ..{x_{i}}.., {x_{n}}))\n",
       "   core type: ExprTuple\n",
       "   sub-expressions: 6, 7\n",
       "6. distinct(x_{1}, ..x_{_a}.., x_{n})\n",
       "   core type: Operation\n",
       "   operator: 8\n",
       "   operands: 9\n",
       "7. disjoint({x_{1}}, ..{x_{i}}.., {x_{n}})\n",
       "   core type: Operation\n",
       "   operator: 10\n",
       "   operands: 11\n",
       "8. distinct\n",
       "   core type: Literal\n",
       "   sub-expressions: \n",
       "9. (x_{1}, ..x_{_a}.., x_{n})\n",
       "   core type: ExprTuple\n",
       "   sub-expressions: 12\n",
       "10. disjoint\n",
       "    core type: Literal\n",
       "    sub-expressions: \n",
       "11. ({x_{1}}, ..{x_{i}}.., {x_{n}})\n",
       "    core type: ExprTuple\n",
       "    sub-expressions: 13\n",
       "12. x_{1}, ..x_{_a}.., x_{n}\n",
       "    core type: ExprRange\n",
       "    lambda_map: 14\n",
       "    start_index: 16\n",
       "    end_index: 17\n",
       "13. {x_{1}}, ..{x_{i}}.., {x_{n}}\n",
       "    core type: ExprRange\n",
       "    lambda_map: 15\n",
       "    start_index: 16\n",
       "    end_index: 17\n",
       "14. _a -> x_{_a}\n",
       "    core type: Lambda\n",
       "    parameter: 20\n",
       "    body: 18\n",
       "15. i -> {x_{i}}\n",
       "    core type: Lambda\n",
       "    parameter: 24\n",
       "    body: 19\n",
       "16. 1\n",
       "    core type: Literal\n",
       "    sub-expressions: \n",
       "17. n\n",
       "    core type: Variable\n",
       "    sub-expressions: \n",
       "18. x_{_a}\n",
       "    core type: IndexedVar\n",
       "variable: 23\n",
       "index: 20\n",
       "19. {x_{i}}\n",
       "    core type: Operation\n",
       "    operator: 21\n",
       "    operand: 22\n",
       "20. _a\n",
       "    core type: Variable\n",
       "    sub-expressions: \n",
       "21. Set\n",
       "    core type: Literal\n",
       "    sub-expressions: \n",
       "22. x_{i}\n",
       "    core type: IndexedVar\n",
       "variable: 23\n",
       "index: 24\n",
       "23. x\n",
       "    core type: Variable\n",
       "    sub-expressions: \n",
       "24. i\n",
       "    core type: Variable\n",
       "    sub-expressions: "
      ]
     },
     "execution_count": 5,
     "metadata": {},
     "output_type": "execute_result"
    }
   ],
   "source": [
    "# display the expression information\n",
    "expr.exprInfo()"
   ]
  },
  {
   "cell_type": "code",
   "execution_count": null,
   "metadata": {},
   "outputs": [],
   "source": []
  }
 ],
 "metadata": {
  "kernelspec": {
   "display_name": "Python 3",
   "language": "python",
   "name": "python3"
  },
  "language_info": {
   "codemirror_mode": {
    "name": "ipython",
    "version": 3
   },
   "file_extension": ".py",
   "mimetype": "text/x-python",
   "name": "python",
   "nbconvert_exporter": "python",
   "pygments_lexer": "ipython3",
   "version": "3.7.3"
  }
 },
 "nbformat": 4,
 "nbformat_minor": 1
}
