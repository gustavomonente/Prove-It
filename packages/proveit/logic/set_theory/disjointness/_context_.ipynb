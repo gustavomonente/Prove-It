{
 "cells": [
  {
   "cell_type": "markdown",
   "metadata": {},
   "source": [
    "Context: <a href=\"../../../_context_.ipynb\" class=\"ProveItLink\">proveit</a>.<a href=\"../../_context_.ipynb\" class=\"ProveItLink\">logic</a>.<a href=\"../_context_.ipynb\" class=\"ProveItLink\">set_theory</a>.disjointness\n",
    "========\n",
    "\n",
    "The Disjoint operation defines a property for a collection of sets.  It evaluates to `TRUE` if and only if the sets are mutually/pairwise disjoint; that is, the intersection of any two of the sets is the empty set.  We define this property to be True when given zero or one set (there are no pairs of sets, so all pairs are vacuously disjoint).\n",
    "\n",
    "The Distinct operation defines a property for any collection.  It evaluates to `TRUE` if and only if the elements are all unique; that is, any pair of the given elements are not equal to each other."
   ]
  },
  {
   "cell_type": "code",
   "execution_count": 1,
   "metadata": {},
   "outputs": [
    {
     "data": {
      "text/html": [
       "<table><tr>\n",
       "<th><a class=\"ProveItLink\" href=\"_common_.ipynb\">common expressions</a></th>\n",
       "<th><a class=\"ProveItLink\" href=\"_axioms_.ipynb\">axioms</a></th>\n",
       "<th><a class=\"ProveItLink\" href=\"_theorems_.ipynb\">theorems</a></th>\n",
       "<th><a class=\"ProveItLink\" href=\"_demonstrations_.ipynb\">demonstrations</a></th>\n",
       "</tr></table>\n"
      ],
      "text/plain": [
       "<IPython.core.display.HTML object>"
      ]
     },
     "metadata": {},
     "output_type": "display_data"
    }
   ],
   "source": [
    "import proveit\n",
    "%context"
   ]
  },
  {
   "cell_type": "code",
   "execution_count": null,
   "metadata": {},
   "outputs": [],
   "source": []
  }
 ],
 "metadata": {
  "kernelspec": {
   "display_name": "Python 3",
   "language": "python",
   "name": "python3"
  }
 },
 "nbformat": 4,
 "nbformat_minor": 0
}
