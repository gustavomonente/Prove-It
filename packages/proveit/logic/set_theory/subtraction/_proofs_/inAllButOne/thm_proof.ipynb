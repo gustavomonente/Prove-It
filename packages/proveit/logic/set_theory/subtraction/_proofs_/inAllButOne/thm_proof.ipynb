{
 "cells": [
  {
   "cell_type": "markdown",
   "metadata": {},
   "source": [
    "Proof of <a class=\"ProveItLink\" href=\"../../../../_theory_.ipynb\">proveit</a>.<a class=\"ProveItLink\" href=\"../../../_theory_.ipynb\">logic</a>.<a class=\"ProveItLink\" href=\"../../_theory_.ipynb\">set_theory</a>.<a class=\"ProveItLink\" href=\"../_theory_.ipynb\">subtraction</a>.<a href=\"../_theorems_.ipynb#inAllButOne\" class=\"ProveItLink\">inAllButOne</a> theorem\n",
    "========\n",
    "*** see <a href=\"../__pv_it/b1b4ffd6baaa57210b30d83dcaa354021ee7fd9a0/dependencies.ipynb\" class=\"ProveItLink\">dependencies</a> ***"
   ]
  },
  {
   "cell_type": "code",
   "execution_count": null,
   "metadata": {},
   "outputs": [],
   "source": [
    "import proveit\n",
    "%proving inAllButOne"
   ]
  },
  {
   "cell_type": "code",
   "execution_count": null,
   "metadata": {},
   "outputs": [],
   "source": []
  }
 ],
 "metadata": {
  "kernelspec": {
   "display_name": "Python 3",
   "language": "python",
   "name": "python3"
  }
 },
 "nbformat": 4,
 "nbformat_minor": 0
}
