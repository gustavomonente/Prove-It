{
 "cells": [
  {
   "cell_type": "markdown",
   "metadata": {},
   "source": [
    "Theorems for context <a href=\"_context_.ipynb\" class=\"ProveItLink\">proveit.logic.set_theory.subtraction</a>\n",
    "========"
   ]
  },
  {
   "cell_type": "code",
   "execution_count": 1,
   "metadata": {},
   "outputs": [
    {
     "name": "stdout",
     "output_type": "stream",
     "text": [
      "Defining theorems for context 'proveit.logic.set_theory.subtraction'\n",
      "Subsequent end-of-cell assignments will define theorems\n",
      "'%end theorems' will finalize the definitions\n"
     ]
    }
   ],
   "source": [
    "import proveit\n",
    "# Automation is not needed when building theorem expressions:\n",
    "proveit.defaults.automation = False # This will speed things up.\n",
    "from proveit.logic import Forall, Iff, InSet, NotInSet, Set, Difference, And, Or, Equals, NotEquals\n",
    "from proveit._common_ import x, y, S, A, B\n",
    "%begin theorems"
   ]
  },
  {
   "cell_type": "code",
   "execution_count": 2,
   "metadata": {},
   "outputs": [
    {
     "data": {
      "text/html": [
       "<strong id=\"membershipUnfolding\"><a class=\"ProveItLink\" href=\"_proofs_/membershipUnfolding.ipynb\">membershipUnfolding</a>:</strong> <a class=\"ProveItLink\" href=\"__pv_it/08b1120346175844fe2b4f5d194c76f6294a028c0/expr.ipynb\"><img src=\"data:image/png;base64,iVBORw0KGgoAAAANSUhEUgAAAU8AAAAXCAMAAAC8uT3uAAAAQlBMVEX///9jY2MJCQkNDQ0rKysP\n",
       "Dw8WFhYQEBCIiIhmZma6urrMzMxUVFQiIiJERETc3Nzu7u6qqqp2dnaYmJgyMjIAAADRR/RZAAAA\n",
       "AXRSTlMAQObYZgAABCNJREFUWMPtWdu2pCgMda4G5BJu//+rjSBKEArrnJ61qnsND50+KjuwTXYi\n",
       "tSz/jydj+502ox21bw+jH/sYDDkHz9af1537UDpRUftOWB3bE/qhjxGOqP9yIgTBmFCK1+DJWlOe\n",
       "8vihfHpN7TtTw0GXb8Nx4GMwGKd/r5l+FrYKPFldXoxWH0qnY9S+M9WHI0gsNPyxro+H6b6FnMs8\n",
       "sBo82RKWV6B+2JCa2i5xSsbRBiEaFo5JuFJClMSejwH2v/9QbDhgXYAaPFlncR9afmoxktT21E1B\n",
       "V6tc3HhJVE8yVnCAjo8RtmroVuvB3/FWCniyQe1D2v+Qku+0JcCoRQChOVQJjAPl57iYUIqsrTN6\n",
       "VzrZ8THAvqlvSOVpkwIpeLIibUINN13f4SowGwtb/TCfkWT7WD1McwdTjliMaE7CUiXgoHgj34UO\n",
       "TimtV2Sovk2wAVr5FM6BkmZpwJPlrFcAr6QJ9R5dinRbq9GsjlXbpVg9THbjpqz6sDaGhI1VhuvZ\n",
       "AnZXOpSwNLIpL9rffIyw2/g/5BNX0YBnu/8Do+YTWahvsQRhAs74RGMZ22dudoTVw0TR3l05sftD\n",
       "irjcVl8GbRlZbBGDOmOqeoEp3sTW+hhg//1Xg33IZ+TVUPBsrXvR/1uUtfLItBTmZ/HplNGIzbIb\n",
       "rC7mrRFs+EzyRfJv0Ojlx1ff4TNXkapHf41963yCKHxCj88Y+QXbAtugYmDZgLwxTA0skASobp/T\n",
       "Oeu0bg1WH/OWKE2+p1XTsrV2vwKPWeUmv9ZhWNvDv8ZuY610n4so8lXAD6u0yDdiayD8IiuRizyz\n",
       "Co8HiEJMc/Ki6Jrue61Ig9XHNOJ1PTIYwyL7OvUCOi2FoR9IdT0qPBrW+Ohj8zanSve5nWJC6tEO\n",
       "LM92xZP4cGbJLkoApgkg+3ye05FV1XuE1cfkbQSTXiSSbxYVmuMLaUZNa3z2II/Zq6OkeT/DFm0T\n",
       "53PM81WV+QW82Eo0giZ9GrNWVcVHpQk6mJF+5umbTD2tirBc3LC4KgPvmFvbaNBcQgGAwOjZDQrF\n",
       "kRxuhJDkw8T/HJLtt6uXPwMNlgfYfxLsmIHlMOQioYAX63CpZPt6HwzTTq8LedOckK6ItOTpYrlF\n",
       "ww2rj8nFV743uVWd782aFtnrl7cH35vujxn2CY6NmumQks/udW3fPc9vapfffEGnUNWr7eb7NX2x\n",
       "W+urwmqdEkxnf+J5SF0pH525TD5nJuCtExSOW9i72m01u/ao1DIE6fIFK8Pe0yner0fX9HjRUJGq\n",
       "sehaGkzGhztS+st0op88MMR+cOhKzuuGp87TC6/7eTj0c4H3zq38Tz1PfhxkQ2xwj8FfObn9QjD+\n",
       "yWC2y7dYML3lf/v3Dvf13zvUY/CXTtz0wmOP/A0W8Dsa+ZuMKQXmue4B/uJk/ACY3kItuPVLugAA\n",
       "AABJRU5ErkJggg==\n",
       "\" style=\"display:inline;vertical-align:middle;\" /></a><br>"
      ],
      "text/plain": [
       "membershipUnfolding: forall_{x, A, B | x in (A - B)} ((x in A) and (x not-in B))"
      ]
     },
     "execution_count": 2,
     "metadata": {},
     "output_type": "execute_result"
    }
   ],
   "source": [
    "membershipUnfolding = Forall((x, A, B), And(InSet(x, A), NotInSet(x, B)), \n",
    "                             conditions=[InSet(x, Difference(A, B))])"
   ]
  },
  {
   "cell_type": "code",
   "execution_count": 3,
   "metadata": {},
   "outputs": [
    {
     "data": {
      "text/html": [
       "<strong id=\"membershipFolding\"><a class=\"ProveItLink\" href=\"_proofs_/membershipFolding.ipynb\">membershipFolding</a>:</strong> <a class=\"ProveItLink\" href=\"__pv_it/176a03514c8ec6f23ba293cee9dd8f078d73a7130/expr.ipynb\"><img src=\"data:image/png;base64,iVBORw0KGgoAAAANSUhEUgAAARwAAAAWCAMAAAAlxtMAAAAARVBMVEX///8kJCRlZWUoKCgtLS0/\n",
       "Pz9RUVEvLy8QEBCIiIhmZma6urrMzMxUVFQiIiJERETc3Nzu7u6qqqp2dnaYmJgyMjIAAABvI+bm\n",
       "AAAAAXRSTlMAQObYZgAAA3VJREFUWMPdWNm2pCAMZHZZQ9j+/1OHRRQU1Ok7S5/h4Z5cTEoskiI0\n",
       "Ie8/tPtz3odhdGf47YFz78kNwuvewt8GOBmCZEwC8PifrOxkw5rq5fE9yfH6dW8fHoQshU8WROS2\n",
       "spkNXZnW8J7cOPa6t/PhfsdFKCXDQ4q1dJ3ORk2YPYXea6iLxHGg4vAzbzQs3KcdXX1cSHTgUoOT\n",
       "4SymodWbqvF8XQIoXnq7+OH89g2wrGSojOZrRDYCpKHsP6uby/XTtU6QUqk53bI+qQJOvUudIDHh\n",
       "/pQJMjOtZIGzFSIbUmT+pvnXPuEQmI3K3k49YmAOT2AKnZ+Wr8O4d05R0tSQHEBCwwXypCf0XnKk\n",
       "cxSU2XSqNTgjjUqfN7bLTJdz0C6nb7vJjnl6azaFziJSFm3jttqorlxfvliZftd0YA8lBxe5dji1\n",
       "MouR/tBZ+iHrMpNlCNMcAhNy0FjG3Bik8/rx3c2g8zlbWE2T0Lcwi6/j5J2fx+aFyQB7FTZDnCQn\n",
       "kmTWTNpSKu+KKwQNh0XVkq9ymjJ/lzkOjEacgHRe33AKffjcvkSGrUfjXazFP5OcRA4dkaN9pLke\n",
       "7kxQ2fAqaLdhmBolQlspbNe4hfOOix5kf0fyEnYO3ReKCKIn4rKsVkMtD7scItfK5zVPVgO0LA/i\n",
       "0Sg9UY0+RNJYk1U80ChecqCnfXi/Xx1I847kxfQcupFYg3FrS/RW4fRCkLV52CLXLkfUAuwFOb65\n",
       "Lj1uje/EwRlSFlV3PQdQNSZnC0c2B9nfkb3gAno/WXkUBAiHW6U6t631HN76HbjrAn1JLb7ASjur\n",
       "qVyNppo7MPTMWmjVNwfoYGaaU8KFyr0T0CFIfUfy+vpl9RpB78mNklKkrL8bowSOQ28IIZeniYa6\n",
       "Oq+kr7fO/YopDoZD0qjQXtoM83r3ibJ03jLYHyFreFsdJ5DtHdFL4gX07fWBW7i6Prz0G4A6GrVQ\n",
       "Q05um46CtGheNipJVpnQef/1YodltYcTu1NxAGmcohfKPfgM/eGL5wujv3h2eeq4panfEotJ9Qr5\n",
       "yAzKlQmrQuodgI8FeQ+Ps2Yr+h6kdSLwuboNoW+ba/JR73Pi+KMx/E3sduK6CaSb5lyBfBp6/b4f\n",
       "u355bNxekWz03cQvXR8mIPpREfzFn0mdPhpDr9uJV8g5glhO/u/xEQWU7/1pPwHOXTp/YJ3DggAA\n",
       "AABJRU5ErkJggg==\n",
       "\" style=\"display:inline;vertical-align:middle;\" /></a><br>"
      ],
      "text/plain": [
       "membershipFolding: forall_{x, A, B | x in A, x not-in B} (x in (A - B))"
      ]
     },
     "execution_count": 3,
     "metadata": {},
     "output_type": "execute_result"
    }
   ],
   "source": [
    "membershipFolding = Forall((x, A, B), InSet(x, Difference(A, B)), \n",
    "                           conditions=[InSet(x, A), NotInSet(x, B)])"
   ]
  },
  {
   "cell_type": "code",
   "execution_count": 4,
   "metadata": {},
   "outputs": [
    {
     "data": {
      "text/html": [
       "<strong id=\"nonmembershipEquiv\"><a class=\"ProveItLink\" href=\"_proofs_/nonmembershipEquiv.ipynb\">nonmembershipEquiv</a>:</strong> <a class=\"ProveItLink\" href=\"__pv_it/8fb1979fd1fadd9055868dcadbb0492890471e830/expr.ipynb\"><img src=\"data:image/png;base64,iVBORw0KGgoAAAANSUhEUgAAAZ8AAAAWCAMAAAAo9GECAAAAQlBMVEX///9jY2MJCQkNDQ0rKysP\n",
       "Dw8WFhYQEBCIiIhmZma6urrMzMxUVFQiIiJERETc3Nzu7u6qqqp2dnaYmJgyMjIAAADRR/RZAAAA\n",
       "AXRSTlMAQObYZgAABEZJREFUaN7tWemStCgQdE8BuY/3f9XlkJYCFJXpL3Yjlh9Tjm2RmVIUBS7L\n",
       "L27b8q9v/wGKL5ow0J401nV615SA9isUe4A3MObVJGs/v5updyU5tGexSXtO+292iGKocxRjyjkJ\n",
       "/9JdChVfowipDYEGfT9SE61W+WkrZ8bHCmhPGiY9p/0/dwNnTS8Au5CF5P7apP0aRUitBNp6l1Y8\n",
       "emuXaqIVecAFnxkeg6G9lTvgw8a6cYRsLs1y4qKvRul2tj9OsaZWANHPqBjUVzSrJto8bY6J9KYx\n",
       "AW33BXH291/Mtk4pWhR24+BD+zPGRQ1y3Z3XL1GsqRVARx5ksquo7ds3+0BNtEbL0ASbKg4YtL1Y\n",
       "4UguXHScdvqeLRkC8XVnvr8Tu7tY8hWKLbUCKOcygvuK2r6fqonW8dCYnhkfhKGVCFFBUJENZJin\n",
       "cJ1AZTIgclFuXKG4GLQbo3nWY2h/mGJLrQBS++UxooO+H6uJNuVRfjozy18Id1j7gqN+mBtgpR9s\n",
       "w9BSzOZYjCDUc4oeJGRjNE7Y1BjEmTpWBmiDKFs0PEexpWZsvVJtvMY46/uxmmjj9DyvgAzIOibO\n",
       "SF2n+wyxW+3jQfsllRyseFsismLFCxjCjSdBSthyzblfMWgvlp83FFtqJVAaS0pqjLO+H6tJNvxB\n",
       "Z6lFYpB1cOxK1ZXWSoANv3K4t1l9MP/5RwjpximutdjvAxwv8kHRtjphe2UqhyC0F6XsG4ottRJI\n",
       "siqyr/tOrV1+ztUkq83FnllLVkY1iyGD7bX4mFtBoojVe1UiFg+nq9XeW36CIjQ5PvcottQAEFbQ\n",
       "47rv52qSFfZTK2qEN0TLnRcCkSDjRgo1SaBKHrFreIy1tjuL4+HsvQ6Xn30u05x0CYO2Xn/oHMWW\n",
       "Gimf8G8OeFz3/VzNbrnYc6gvAaldWLHgeH24YEAc8gtaewBSLb5K+phI/X1CDRV1aFUfCHXzACHv\n",
       "F7ZPuunUB2dlzhuKLTUIxDeDWox+3y/U7FblIfBjbsFCZNSSoD6xGTtuogwWhsTnU+6qs0Km6NZ3\n",
       "+uwa+GiDalMYkpVn5VhDe95eUWypQaCNMtlgnPT9Qk22RbIEr0harDUvigEeHYSrweCElBQhiTA8\n",
       "cJX0dyI7TpI7F/Ol8hfsqoKjNh8nHvC5drDDjwIvKPaoVUAWdxT1++ZQ/h012Rq5FMvfwQDLOBrH\n",
       "jTQwpI3zG4cn5jfN4QEHe3aY2KsuGbST5zstxTPAzwSTXYxugIz6btQ0YC4mMB3qjYBLUgSEZSzd\n",
       "EHEqiVW/OXxsd8APTxN7Setnz0e5uAs4wPgZNTWYpIZoFHZX26pCzuWxNHTMpBuaubAX4ORC2qnE\n",
       "3pcRPjmBnn1feEWxDzgxwvfVXIKp4Y2+tlONvR2w5HPjM3zj8xQfvv4ZRbWaK7DmS+7w0+7o4zG/\n",
       "cnrXjIB2+QbFHuANjHk1l2BmeOP/9ivaP/XbVDb8QRTHAAAAAElFTkSuQmCC\n",
       "\" style=\"display:inline;vertical-align:middle;\" /></a><br>"
      ],
      "text/plain": [
       "nonmembershipEquiv: forall_{x, A, B} ((x not-in (A - B)) = ((x not-in A) or (x in B)))"
      ]
     },
     "execution_count": 4,
     "metadata": {},
     "output_type": "execute_result"
    }
   ],
   "source": [
    "nonmembershipEquiv = Forall((x, A, B), Equals(NotInSet(x, Difference(A, B)), \n",
    "                                              Or(NotInSet(x, A), InSet(x, B))))"
   ]
  },
  {
   "cell_type": "code",
   "execution_count": 5,
   "metadata": {},
   "outputs": [
    {
     "data": {
      "text/html": [
       "<strong id=\"nonmembershipFolding\"><a class=\"ProveItLink\" href=\"_proofs_/nonmembershipFolding.ipynb\">nonmembershipFolding</a>:</strong> <a class=\"ProveItLink\" href=\"__pv_it/547d5bfd3f49f76db95801b8a85a76ce7c5fef010/expr.ipynb\"><img src=\"data:image/png;base64,iVBORw0KGgoAAAANSUhEUgAAATwAAAAXCAMAAAChxwN1AAAAVFBMVEX///9jY2MJCQkNDQ0rKysP\n",
       "Dw8WFhYSEhIoKCgtLS0/Pz96enovLy8QEBCIiIhmZma6urrMzMxUVFQiIiJERETc3Nzu7u6qqqp2\n",
       "dnaYmJgyMjIAAACDrDx5AAAAAXRSTlMAQObYZgAABDtJREFUWMPtWFeS3CAQxTkKEKFJ97+nCWKg\n",
       "EQr2uMoel/lYZlEH6PiAkH9+rOT/OB7anX6WP0V9MYzuZ/9Yd+41bQfqPPDECfXqL8U7EYJgTCjF\n",
       "079is16eralUHl7TeF6ffmb8hNqHGwqWYm8WUgGAzdx51tUTWr2m7RwjP5G1mNr5cB0xaygpyUPm\n",
       "tbQs57kGXAvB1xryJPCckh8/SH9EDYYFfamAbjQuZLPBsjGn2VlIQ8sX7RbH+14VBaL0MbWLhuGX\n",
       "GtSyGUuWMPMbS56DSkPa33SYif/5Heyg70jfs9Kah0Cp0JzWrEpVCVqJGqlzHgIx4bpLhtxxVilq\n",
       "irJuFnlH6nDz/ReuArOx8/RLiHjmAjXIMjNvH/uu17lnVdvpIQpwkpKWpLkfUjqlzhw81TN6XfKE\n",
       "c1RJ0wplN3NGdh7q4wZFtssxbJepaVojRyHFRllsTyXOKlenc8daD2VjXNhY/rlGGxsghDTY6zqw\n",
       "myUPlgp5jOzn9IcehS8wFNksizBdk+qNt47xA8ay799GWSBKxamVZ8KYOZnb6QQx4ojNtemjQntZ\n",
       "vPfv38U/fk+d8R+L6C2oluXdWHclLxrR1FDsZ+t2MLxLJ5C9c2QOc+bnkSfWsdsZDV/3sjLYouUg\n",
       "WkwYCydMdI6orjMHQTmYodcIITrq8mvx90peMh6dGU/7Bwy3lK20P8lKkT8hA0XaJ4PaYaqHkFwQ\n",
       "WlA1WSXON+ypGxjDnFOdY4p0ibgG5IJlfzXrqLcfcrmJ8oio5YtLNCstyofY2oUnsnNmNCrrdsAD\n",
       "jcVTHLSDAgSaEI+rVJNlsgTLa+BtCGLgnOo0Yt4wDMTYKDJqhaHIB7hhaHPzilFR3vpIcNQwouJq\n",
       "n+g5jzzrDCl7qomXGaicG48rJAQY+t7JKoT5mpltW/4fOac6+XAR2oADjxVJBXztl2ZXDSrMeOA9\n",
       "dYWSfQlNvqjqFWbx3BULJAw8s1b13SEz6GDmxhNIyCojfvzyWdGdrO0+HkOvNIAHY88ZB93rHK/y\n",
       "W/KAoBQoQ48bIN5ymFGDCiFXARN/yLN+K3x9FWgnrt2kzg5aivdIlEHedlsoJ+C9hVUP6bGQ3Apg\n",
       "ImszVgw9tvaMiHOuk4v71zP3xiopj69nv/aII/H8qFkh54hNrSodlRc/ppJZFnQOHL3YedpmeU0I\n",
       "sWuDFp2sdCXcssiJbiOYs20K6XT2/sPABPg79qzx0MMAinPHLU1wc11Mqgcqt/wgXVmwMiRspPhB\n",
       "wyDp9teExG/GmVpbmqz2TAQ1qCWQkbPuddDJ+A0TnTz0qSdDDz1JHT6ZXi5MjEdHIvqpVi5chR9b\n",
       "OWIkVE05ib//GDoF/vDky1s1/pkTjL5amF7P1PHVrJflzqWc+dTdf4afy3zuGd5pPM+JLhemW+QD\n",
       "meXTG9/k9n/vSPB0yfq7BjsLUDFNJ7gT6uQ26x8bPwDjZlnuTcAEKwAAAABJRU5ErkJggg==\n",
       "\" style=\"display:inline;vertical-align:middle;\" /></a><br>"
      ],
      "text/plain": [
       "nonmembershipFolding: forall_{x, A, B | (x not-in A) or (x in B)} (x not-in (A - B))"
      ]
     },
     "execution_count": 5,
     "metadata": {},
     "output_type": "execute_result"
    }
   ],
   "source": [
    "nonmembershipFolding = Forall((x, A, B), NotInSet(x, Difference(A, B)), \n",
    "                              conditions=[Or(NotInSet(x, A), InSet(x, B))])"
   ]
  },
  {
   "cell_type": "code",
   "execution_count": 6,
   "metadata": {},
   "outputs": [
    {
     "data": {
      "text/html": [
       "<strong id=\"inAllButOne\"><a class=\"ProveItLink\" href=\"_proofs_/inAllButOne.ipynb\">inAllButOne</a>:</strong> <a class=\"ProveItLink\" href=\"__pv_it/03b6904f9574c7f4089f1b8b134177a00020ccfa0/expr.ipynb\"><img src=\"data:image/png;base64,iVBORw0KGgoAAAANSUhEUgAAAaUAAAAWCAMAAABXJXPzAAAAOVBMVEX///8kJCQNDQ0oKCgQEBCI\n",
       "iIhmZma6urrMzMxUVFQiIiJERETc3Nzu7u6qqqp2dnaYmJgyMjIAAAD9T1yxAAAAAXRSTlMAQObY\n",
       "ZgAABLNJREFUaN7tWueS3CAMJonp3e//sMEFg2Rwvc1NZk4/TutdW/qEUEE+Qv4TCiyAa8GoJT90\n",
       "mUyA/N5T18hGv/uOD2L54AzknwO90RVVZ6K9PZIMeSy79RlgqyG/91SCwbz3JPDjSBobX7KMXRrI\n",
       "PwW6Anuu6ky0ie3vsTEz9y7/HJ9lkGggv/cU0WG2aDzZd+roSxsh/xToCuxOlela2CHJe2mjwU12\n",
       "udGPnBQY5PeeImz5EOIbLxFPIf8MaAAWq4qsY2EvlLrLjY2ZeQ6hElS3SBnIm4uiVaLYeMqOS23h\n",
       "9JWX7AB5Wbu11ZBfARqARaqEVrapohtKopsqhwYP3k5k1LPWQUHeIKF33dh2Nx+XYijEKy+RyCFf\n",
       "ieZSq8V70AgsVCU5pU0Lb4fS3piZj3oi5R95iTLILaXScFrlA9uod/nutD1HLy6oWR1iKZsEm2EW\n",
       "6ct29gzyvNRtEM9AI7BA1VQ8VMvCvejWtkF2sYZRS+zpZoSK1NK4IE7qaeE2+TooSqpM0eqG9NZO\n",
       "0jHRecMkF3k+td/zQ7jxy3UN1DcxDCrTUC/7M9AILFA1lQtQMnqifZzpz+/p7+ZnZFdsGMVZtz2a\n",
       "f3JH/ZdygE9nAD9awouV+uCpSXGQwzictJduORoZt3TfWuOK7RTk85pKC+LKvQSNwNaq5jgCrXVf\n",
       "dCsDQ7uwMQtXdQaHq2kPIM80cMBttYZ5Q8dM+6dy7zS6LXNUJEplNln6MGWGMecPqdZPYoQ83ask\n",
       "Nka/A43AimrzBoobgq7oVjeD7MLGLNwHlFQ3GufVcde9ROo17JfJfLfPCf+kv9zGDDzty4R6vYqb\n",
       "sXsvESNBpbXV5TPQCGztpWU312vfFU2a5QXY1fZSCtWswFMmaNkTcfBFG6dyA9RLHqRaw4y3n/Gs\n",
       "zI+cHailrsYNdNgNJLiCfPldVYGpxEvQGGylyrHdQbYneq5Lv9ZQlXCMku3Cxqxcm/UgnLrPVKfV\n",
       "5hnLUhrm215K+MRw2D04u5TAqo1ltNs9uFUYO+0vc9OtZf4De7xm91CdLC2YBDwCjcFWqrJwx3YW\n",
       "7kU3xxLArmb3MElfFyF5PaICZWQ+XNjJpxTlAtg18pQNpvkJGDSqfTpbn2Jq5l5e7cQJk+XYUp+X\n",
       "8tIhf29TGOZeg8Zgi6rS8JdEcyB66cmQ8NoubEzmVeoci5+tWPJwvRQSbTIYlVZSmnp/OLe1UnPb\n",
       "fIoRLpmUF4Ye2SGTApYh1qdaATmaiaE68wg0BltUlYlcOdkeiG4NTIFd2JjMg63LcFbvHKyJUyYc\n",
       "xIMJEfe6MyG6SvXsYRuFVxMiBTmegVr7FaDhuhZVVcMqLljoOhO+bBc2BhtlxlTd5mbG6GQX0/ME\n",
       "2K6XJBVgPn7xtPWql4btcGtH/l3T1tZM9L6FjVACdjWnrSDuAvd0OomJIcURM8x7Zsl6mSKe6tjt\n",
       "KvWt8Lh3d27nVEodmu6C6v6bi2egG7n0voWu0SrVdjXfXHTjcndpTT3aKXhfvgW8Rsu7Wp6ytyiH\n",
       "KP54zZ++Bbyxy3qiWxPC2i5szJEm9Mp4ukzHQt7y6794oz5l8+7/PQQD+R31D9+oh+dv1Pk1yZeM\n",
       "CvtLHrwnP/Qd9BffbEQaF6NexwAAAABJRU5ErkJggg==\n",
       "\" style=\"display:inline;vertical-align:middle;\" /></a><br>"
      ],
      "text/plain": [
       "inAllButOne: forall_{x, S, y} ((x in (S - {y})) <=> ((x in S) and (x != y)))"
      ]
     },
     "execution_count": 6,
     "metadata": {},
     "output_type": "execute_result"
    }
   ],
   "source": [
    "inAllButOne = Forall((x, S, y), Iff(InSet(x, Difference(S, Set(y))), \n",
    "                                    And(InSet(x, S), NotEquals(x, y))))"
   ]
  },
  {
   "cell_type": "code",
   "execution_count": 7,
   "metadata": {},
   "outputs": [
    {
     "name": "stdout",
     "output_type": "stream",
     "text": [
      "Theorems may be imported from autogenerated _theorems_.py\n"
     ]
    }
   ],
   "source": [
    "%end theorems"
   ]
  }
 ],
 "metadata": {
  "kernelspec": {
   "display_name": "Python 3",
   "language": "python",
   "name": "python3"
  }
 },
 "nbformat": 4,
 "nbformat_minor": 0
}
