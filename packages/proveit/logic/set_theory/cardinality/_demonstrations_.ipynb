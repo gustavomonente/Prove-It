{
 "cells": [
  {
   "cell_type": "markdown",
   "metadata": {},
   "source": [
    "Demonstrations for context <a class=\"ProveItLink\" href=\"_context_.ipynb\">proveit.logic.set_theory.cardinality</a>\n",
    "========"
   ]
  },
  {
   "cell_type": "code",
   "execution_count": 1,
   "metadata": {},
   "outputs": [],
   "source": [
    "import proveit\n",
    "from proveit.logic import Forall, Exists, Implies, Equals, NotEquals, Card, Set, Distinct, InSet\n",
    "from proveit.number import GreaterEq, num, four\n",
    "from proveit._common_ import a, b, l, A,B,C,D, N, S\n",
    "from proveit.number import NaturalsPos\n",
    "%begin demonstrations"
   ]
  },
  {
   "cell_type": "markdown",
   "metadata": {},
   "source": [
    "enumSetCard"
   ]
  },
  {
   "cell_type": "code",
   "execution_count": 2,
   "metadata": {},
   "outputs": [],
   "source": [
    "#Equals(Card(Set(xIter1l)), Len(xIter1l)).prove([Distinct(xIter1l)])"
   ]
  },
  {
   "cell_type": "code",
   "execution_count": 3,
   "metadata": {},
   "outputs": [
    {
     "data": {
      "text/html": [
       "<span style=\"font-size:20px;\"> <a class=\"ProveItLink\" href=\"_proofs_/distinctSubsetExistence.ipynb\" style=\"text-decoration: none\">&#x22A2;&nbsp;</a><a class=\"ProveItLink\" href=\"__pv_it/c2f82169f7f5cb11e3a17471f3f2039f82e2fb8c0/expr.ipynb\"><img src=\"data:image/png;base64,iVBORw0KGgoAAAANSUhEUgAAAnIAAAAZBAMAAABHrN4WAAAAMFBMVEX///8QEBCIiIhmZma6urrM\n",
       "zMxUVFQiIiJERETc3Nzu7u6qqqp2dnaYmJgyMjIAAAAcRTyBAAAAAXRSTlMAQObYZgAABvhJREFU\n",
       "WMPdmX9sk0UYx7+0ffvj7dvOKMYgECsLiBOlOA3gQAsmooKhLHH6B2GVuJERMcURikhwGoUCQRox\n",
       "MEmQN1tEnNPVyBRQpGyYCGzY8CMSA1oTNcEEM2AiAxHv7n37/ujb9qVdBMctu/fufe95nvf93HP3\n",
       "3F0B8zQvEkN/kj3yMm6gNC2SgC2y7GqahvtpyoEbK7lCJNtwjci53iXpOnzk+0+aUUgWpM8dU8ml\n",
       "6I2TJuS89OJJFk/OWltb+5x47cl93QvXcBXTcEODbQUqrFPJHaT1303ICXFy8Yr9G6322HUYWL3g\n",
       "/paKNihFOQXI/6kCFX6ikmukxQYTcqxBIwYeOfQqpebMR7yfjCN/gfoEn0KOehJzqbzzHHXKgwOb\n",
       "3JHMR5Sao9B34m9SyHkOtLRsNI0QJ1paPgwPTHKup6W5/RzSRTntIeQ2FqzwFzW2XohGl5mSK4lG\n",
       "VyYGHLnWjpG9aDwP7p7DqSN/lcdJcc4tlaPIgGvuqvA8Ul+BUtKqadQ7Y3x5/WxE3dSOdKVTJVcD\n",
       "rMrSPKEjZw/CGesHOSESibxatAIzwWCOLx4KgYzW32gADaMetIglPlcfXEMxK+YgPreWtEp4XnKk\n",
       "8nYAvvctT1d+VMk9Cj6bnF9HzuZnUYXrOniMev66JKYNkwOWnM/u2h20KSI7LsO2MFGcz1FN6dDH\n",
       "csFMYnv6RfSmnSkaW7ECU0T4GLkVwGvAZXhT+DRIyb1CtIvCRVsMXO4oeQDfiU+kK1+o5BywaBdq\n",
       "XP0+3BnKJEf+7wWl7O6hd46HYWFf54ScE7R7yNVWJ8++K4GRxY1WpommhnReZyZijckvojfdlgDP\n",
       "yDku3I00ubeAs2ijX0fJDSY+ByexwZXnnsZFRNVKtUpOSKq7o486J2OHIFpFA7luli+Vv2d/L6zQ\n",
       "kXOIJCfX9TVS8N4SUDVcNTn+q/KkpElLjjOdYPmQhpxqutonk+MPXfGnyUUpuWqfSo5M4rRmyxcA\n",
       "z2Yl50pVKd21ZpOI3T6/gM7y+vK4ltx7HG3eB7C7iWgmuZIY3Ky2/k32+qQfCyd3fGeLrElLzh40\n",
       "9dNTWnKK6bY0uU3w9BJyPoWc7HMWOloJjKAJOe5PzX5fs29d9TxhNrmylA5Gktrb3xYM8xycG+i0\n",
       "8/M+qY99M2NNenLeYQG51voGjVe2Pt5nJNfx4CgDBqG0skYZp5A1ack5tG2yCpKZRCWnmvY2yPPc\n",
       "VGABiQ5+hRyZ5xD3hqw0QrjFsbCI+cjtsvSgDEeOjfDrIwQ+IzKeKclBMWkP2y58PNtIzj2ercPv\n",
       "YO7tJrPrdj05ftyZgFxrJcvmdtS7AwZyFvFFRwDz9e9VZk8tkkpeqVuoJi25jXIbu5hLEJ8T0/Yo\n",
       "SWu1pl2DYT1LWZEIsQoPk0+KyuTIBlaIWVNWusaYGV+HzZLPtREA/D+Qs3TNdsnZ40ri6HAMIXcn\n",
       "acjRYb7pLpSIPKPVjkSnkZw81F3zWG/DczGhJ0dUheXafUm6pvmpVbsq8ZJVyUKRw2kSOm/PWFJ4\n",
       "kxn7ow1hHbnHpTbcXjGXIGni1CynFNPN3SPPhKquzJ9x+EQA9hdipFh1pWbHmRC23r8fqN1Px97W\n",
       "EU2TkxI5B5nHsRhy5qCAIiL4uWWlJ+FqCuMiufGrhpyHvtFcTAG3JBp9nZDb7MhC7gd6ZkM6gsUy\n",
       "4Ga/jhwfBN/DavzoOJMeVJrtfK5PCjO6VJKe/54hTuOTNGnJPSa3cYi5BDFHQ05n2nSpqahgo3WX\n",
       "8VhJMWr32cjOiw9nns/dikkcQpLP2Sr1q0tlBvgSqJJ8Dnv1PueOg2MBjv82IHW8MCwLOa6HM5Kr\n",
       "RtBTcZLos7NXZZq05J6V2hjJKYIELhmtf5B0OsO0WVJ3/IycMYqra8lBQWsiqN3xy6cxPVjUjm9o\n",
       "8SjZpeY42ZwAfjUaRUwnvhfXkbM2YBtdTfATGDhbHPwlI7ktQkpg5BpF12qWkb+eQ0i4R1MjAu0t\n",
       "SZOW3AdgbRi57ILkhRWf05s2Tcr2yR2mkc/wvEkpbYFjelB7yiTbC2FMEk6Cw7Y8IHV+FnITJ3WK\n",
       "mBW33hagi08dufVdD9ErJ7nqODJ1TzSS23q04wAjNyvODSH7H24IN5RfMGOMiBq2hF9DyTFNutgq\n",
       "Sm0ouRyCD6jk9KZNU/pk0zX+vA8e43N1k/AYLN0S6Wyn6aPJPGd6mq49ktJECM01/+8QS7U63LIJ\n",
       "C3F1WMg8p7ZLk7PIjdlozS6YymXa/OizsINuT6wfv0O4Y/0jV3kurtGxU94EuLsNYsruSypwYyuQ\n",
       "Q9CdLJpcUbSLJKdz6UxybrqoWp3f53Q68nS5Qu4pM8Fm/E/JRXL/3mrV5Oo1k1xxv7f607nbbNtW\n",
       "ltP0f5GmRUKwRRb/C0JnGfeUU/t2AAAAAElFTkSuQmCC\n",
       "\" style=\"display:inline;vertical-align:middle;\" /></a></span>"
      ],
      "text/plain": [
       "|- forall_{n in NaturalsPos} [forall_{S, N | |S| >= N} [exists_{x_{1}, ..x_{_a}.., x_{n} in S | |(x_{1}, ..x_{_a}.., x_{n})| = N} distinct(x_{1}, ..x_{_a}.., x_{n})]]"
      ]
     },
     "execution_count": 3,
     "metadata": {},
     "output_type": "execute_result"
    }
   ],
   "source": [
    "from proveit.logic.set_theory.cardinality._theorems_ import distinctSubsetExistence\n",
    "distinctSubsetExistence"
   ]
  },
  {
   "cell_type": "code",
   "execution_count": 4,
   "metadata": {},
   "outputs": [
    {
     "data": {
      "text/html": [
       "<span style=\"font-size:20px;\"> <a class=\"ProveItLink\" href=\"_proofs_/distinctSubsetExistence.ipynb\" style=\"text-decoration: none\">&#x22A2;&nbsp;</a><a class=\"ProveItLink\" href=\"__pv_it/c2f82169f7f5cb11e3a17471f3f2039f82e2fb8c0/expr.ipynb\"><img src=\"data:image/png;base64,iVBORw0KGgoAAAANSUhEUgAAAnIAAAAZBAMAAABHrN4WAAAAMFBMVEX///8QEBCIiIhmZma6urrM\n",
       "zMxUVFQiIiJERETc3Nzu7u6qqqp2dnaYmJgyMjIAAAAcRTyBAAAAAXRSTlMAQObYZgAABvhJREFU\n",
       "WMPdmX9sk0UYx7+0ffvj7dvOKMYgECsLiBOlOA3gQAsmooKhLHH6B2GVuJERMcURikhwGoUCQRox\n",
       "MEmQN1tEnNPVyBRQpGyYCGzY8CMSA1oTNcEEM2AiAxHv7n37/ujb9qVdBMctu/fufe95nvf93HP3\n",
       "3F0B8zQvEkN/kj3yMm6gNC2SgC2y7GqahvtpyoEbK7lCJNtwjci53iXpOnzk+0+aUUgWpM8dU8ml\n",
       "6I2TJuS89OJJFk/OWltb+5x47cl93QvXcBXTcEODbQUqrFPJHaT1303ICXFy8Yr9G6322HUYWL3g\n",
       "/paKNihFOQXI/6kCFX6ikmukxQYTcqxBIwYeOfQqpebMR7yfjCN/gfoEn0KOehJzqbzzHHXKgwOb\n",
       "3JHMR5Sao9B34m9SyHkOtLRsNI0QJ1paPgwPTHKup6W5/RzSRTntIeQ2FqzwFzW2XohGl5mSK4lG\n",
       "VyYGHLnWjpG9aDwP7p7DqSN/lcdJcc4tlaPIgGvuqvA8Ul+BUtKqadQ7Y3x5/WxE3dSOdKVTJVcD\n",
       "rMrSPKEjZw/CGesHOSESibxatAIzwWCOLx4KgYzW32gADaMetIglPlcfXEMxK+YgPreWtEp4XnKk\n",
       "8nYAvvctT1d+VMk9Cj6bnF9HzuZnUYXrOniMev66JKYNkwOWnM/u2h20KSI7LsO2MFGcz1FN6dDH\n",
       "csFMYnv6RfSmnSkaW7ECU0T4GLkVwGvAZXhT+DRIyb1CtIvCRVsMXO4oeQDfiU+kK1+o5BywaBdq\n",
       "XP0+3BnKJEf+7wWl7O6hd46HYWFf54ScE7R7yNVWJ8++K4GRxY1WpommhnReZyZijckvojfdlgDP\n",
       "yDku3I00ubeAs2ijX0fJDSY+ByexwZXnnsZFRNVKtUpOSKq7o486J2OHIFpFA7luli+Vv2d/L6zQ\n",
       "kXOIJCfX9TVS8N4SUDVcNTn+q/KkpElLjjOdYPmQhpxqutonk+MPXfGnyUUpuWqfSo5M4rRmyxcA\n",
       "z2Yl50pVKd21ZpOI3T6/gM7y+vK4ltx7HG3eB7C7iWgmuZIY3Ky2/k32+qQfCyd3fGeLrElLzh40\n",
       "9dNTWnKK6bY0uU3w9BJyPoWc7HMWOloJjKAJOe5PzX5fs29d9TxhNrmylA5Gktrb3xYM8xycG+i0\n",
       "8/M+qY99M2NNenLeYQG51voGjVe2Pt5nJNfx4CgDBqG0skYZp5A1ack5tG2yCpKZRCWnmvY2yPPc\n",
       "VGABiQ5+hRyZ5xD3hqw0QrjFsbCI+cjtsvSgDEeOjfDrIwQ+IzKeKclBMWkP2y58PNtIzj2ercPv\n",
       "YO7tJrPrdj05ftyZgFxrJcvmdtS7AwZyFvFFRwDz9e9VZk8tkkpeqVuoJi25jXIbu5hLEJ8T0/Yo\n",
       "SWu1pl2DYT1LWZEIsQoPk0+KyuTIBlaIWVNWusaYGV+HzZLPtREA/D+Qs3TNdsnZ40ri6HAMIXcn\n",
       "acjRYb7pLpSIPKPVjkSnkZw81F3zWG/DczGhJ0dUheXafUm6pvmpVbsq8ZJVyUKRw2kSOm/PWFJ4\n",
       "kxn7ow1hHbnHpTbcXjGXIGni1CynFNPN3SPPhKquzJ9x+EQA9hdipFh1pWbHmRC23r8fqN1Px97W\n",
       "EU2TkxI5B5nHsRhy5qCAIiL4uWWlJ+FqCuMiufGrhpyHvtFcTAG3JBp9nZDb7MhC7gd6ZkM6gsUy\n",
       "4Ga/jhwfBN/DavzoOJMeVJrtfK5PCjO6VJKe/54hTuOTNGnJPSa3cYi5BDFHQ05n2nSpqahgo3WX\n",
       "8VhJMWr32cjOiw9nns/dikkcQpLP2Sr1q0tlBvgSqJJ8Dnv1PueOg2MBjv82IHW8MCwLOa6HM5Kr\n",
       "RtBTcZLos7NXZZq05J6V2hjJKYIELhmtf5B0OsO0WVJ3/IycMYqra8lBQWsiqN3xy6cxPVjUjm9o\n",
       "8SjZpeY42ZwAfjUaRUwnvhfXkbM2YBtdTfATGDhbHPwlI7ktQkpg5BpF12qWkb+eQ0i4R1MjAu0t\n",
       "SZOW3AdgbRi57ILkhRWf05s2Tcr2yR2mkc/wvEkpbYFjelB7yiTbC2FMEk6Cw7Y8IHV+FnITJ3WK\n",
       "mBW33hagi08dufVdD9ErJ7nqODJ1TzSS23q04wAjNyvODSH7H24IN5RfMGOMiBq2hF9DyTFNutgq\n",
       "Sm0ouRyCD6jk9KZNU/pk0zX+vA8e43N1k/AYLN0S6Wyn6aPJPGd6mq49ktJECM01/+8QS7U63LIJ\n",
       "C3F1WMg8p7ZLk7PIjdlozS6YymXa/OizsINuT6wfv0O4Y/0jV3kurtGxU94EuLsNYsruSypwYyuQ\n",
       "Q9CdLJpcUbSLJKdz6UxybrqoWp3f53Q68nS5Qu4pM8Fm/E/JRXL/3mrV5Oo1k1xxv7f607nbbNtW\n",
       "ltP0f5GmRUKwRRb/C0JnGfeUU/t2AAAAAElFTkSuQmCC\n",
       "\" style=\"display:inline;vertical-align:middle;\" /></a></span>"
      ],
      "text/plain": [
       "|- forall_{n in NaturalsPos} [forall_{S, N | |S| >= N} [exists_{x_{1}, ..x_{_a}.., x_{n} in S | |(x_{1}, ..x_{_a}.., x_{n})| = N} distinct(x_{1}, ..x_{_a}.., x_{n})]]"
      ]
     },
     "execution_count": 4,
     "metadata": {},
     "output_type": "execute_result"
    }
   ],
   "source": [
    "distinctSubsetExistence.specialize(assumptions=[InSet(l, NaturalsPos)])"
   ]
  },
  {
   "cell_type": "markdown",
   "metadata": {},
   "source": [
    "distinctSubsetExistence"
   ]
  },
  {
   "cell_type": "code",
   "execution_count": 5,
   "metadata": {},
   "outputs": [],
   "source": [
    "#Card(S).distinctSubsetExistence(elems = [A,B,C,D], assumptions=[Equals(Len([A,B,C,D]), N), GreaterEq(Card(S), N),  InSet(l, NaturalsPos), GreaterEq(Len(S),four)])"
   ]
  },
  {
   "cell_type": "markdown",
   "metadata": {},
   "source": [
    "distinctPairExistence"
   ]
  },
  {
   "cell_type": "code",
   "execution_count": 6,
   "metadata": {},
   "outputs": [],
   "source": [
    "#Card(S).distinctSubsetExistence(elems = [A,B], assumptions=[GreaterEq(Card(S), num(2)), InSet(l, NaturalsPos)])"
   ]
  },
  {
   "cell_type": "code",
   "execution_count": 7,
   "metadata": {},
   "outputs": [],
   "source": [
    "%end demonstrations"
   ]
  }
 ],
 "metadata": {
  "kernelspec": {
   "display_name": "Python 3",
   "language": "python",
   "name": "python3"
  }
 },
 "nbformat": 4,
 "nbformat_minor": 0
}
