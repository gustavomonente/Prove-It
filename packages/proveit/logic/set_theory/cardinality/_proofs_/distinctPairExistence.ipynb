{
 "cells": [
  {
   "cell_type": "markdown",
   "metadata": {},
   "source": [
    "Proof of <a class=\"ProveItLink\" href=\"../../../../_context_.ipynb\">proveit</a>.<a class=\"ProveItLink\" href=\"../../../_context_.ipynb\">logic</a>.<a class=\"ProveItLink\" href=\"../../_context_.ipynb\">set_theory</a>.<a class=\"ProveItLink\" href=\"../_context_.ipynb\">cardinality</a>.<a href=\"../_theorems_.ipynb#distinctPairExistence\" class=\"ProveItLink\">distinctPairExistence</a> theorem\n",
    "========"
   ]
  },
  {
   "cell_type": "code",
   "execution_count": 1,
   "metadata": {},
   "outputs": [],
   "source": [
    "import proveit\n",
    "context = proveit.Context('..') # the theorem's context is in the parent directory"
   ]
  },
  {
   "cell_type": "code",
   "execution_count": 2,
   "metadata": {},
   "outputs": [
    {
     "name": "stdout",
     "output_type": "stream",
     "text": [
      "Beginning proof of distinctPairExistence\n",
      "Recorded 'presuming' information\n",
      "Presuming previous theorems (applied transitively).\n"
     ]
    },
    {
     "data": {
      "text/html": [
       "<strong id=\"distinctPairExistence\">distinctPairExistence:</strong> <a class=\"ProveItLink\" href=\"../__pv_it/44709844527d13a8fe733d0d7861417c11ad2eb40/expr.ipynb\"><img src=\"data:image/png;base64,iVBORw0KGgoAAAANSUhEUgAAAQAAAAAWCAMAAAAYVLJmAAAAOVBMVEX///8kJCQNDQ0oKCgQEBCI\n",
       "iIhmZma6urrMzMxUVFQiIiJERETc3Nzu7u6qqqp2dnaYmJgyMjIAAAD9T1yxAAAAAXRSTlMAQObY\n",
       "ZgAAA0RJREFUWMPVWNmS3CAMdBJzI67//9hwmNvg2c1OqkYPU2D3gGhaQvg43m3IWiqzvWF8afbv\n",
       "NczPVHLEWE4OW54a8xYCNDkOzJKd8OPDg3jgx7bYk6cWk8U5rfJrC28jIBv7eQnYhyEZ6dD4osIW\n",
       "52RmUIrjAwkw+EEA/apc3m6NinN546sUPokA/iQA2vaIyyqHszhnNAST/PhAAp68HgSgK9yS4pwT\n",
       "wbj+RAJQjgCJNUZzjhW0TxgMIZyUrnFxLqlEXL5RrbUy5X9tCiEDgsyLxQLDDQGaJ3NrAtp5ibV7\n",
       "QF3gdXKR049sXZ3URvvzO/yWNAHOxzskJ4wtBBDcpMXYUXWkVkJiQIQ+aTdV+zaz31JAP6/GD4CS\n",
       "AtQV0YEILB4EoGIKcDH/KV6dC010UcmhX/ZMQEWIpL2aZ0JGouMu7wgApTE287xWPQCynWlwHFfG\n",
       "0Sga1vexjTKIwU5ddU6bREI8J6KLakNARYgcfploX1cd0pGXCTBCSYCbeTOJS8BAwCniyugogIHv\n",
       "GAwkHYUtAb5YKlzZU3cLmAmoiPIOtCC9zHYEAEbM0qzqu3mpQ4jBBjCEQNrUNj5iDvh1pkxQdOBM\n",
       "UctBmhDwTJV6CfDpTrIjoCKad6BzOTHpcCQAOPUrDOg2W3TzIq/3kN+XgCEJQtxUn32U3BaJQZwp\n",
       "XXRJ0HOH2+NUMr4joCJEe+Mxq/Q1EoA9gvK4pOHMLvMKFB1cA5pjp/6Bs0NPabOviryT4nqKdeuc\n",
       "u7YNaCJ0TUCLyO8ACbWuTGO1eR2D4aA+PRYFVVIeC5Dg/DDvGe9PG0BdZKIE/PlOJUN93T9VBT74\n",
       "dL7xxSAsBJgLq9SYPEcCWoSYEgDxtBK6VkBchAzKDamtTjPM6y6eloBXSmG1vSUAv3MunaQgYE1A\n",
       "i4hNLJrkZZVSArYEHL5koY6EjdB0nleGH58CjFgAXr4M7S+3zWWoI8BXlLqr5SYCGkTo03a/Txfs\n",
       "2BNAGFIone0lcuqoNOw8ZTpF8w3geDjqigC2pX1zHX4wsWjf9Z/vAlMpf4V45/kT4LUPInsBCPn/\n",
       "CEDc0i9cb9RX70uLT2LblRl5nV38nwlQItsPfU96z3e57xtetO/6H2l/AakpKtM7jYzfAAAAAElF\n",
       "TkSuQmCC\n",
       "\" style=\"display:inline;vertical-align:middle;\" /></a><br>(see <a class=\"ProveItLink\" href=\"../__pv_it/44709844527d13a8fe733d0d7861417c11ad2eb40/dependencies.ipynb\">dependencies</a>)<br>"
      ],
      "text/plain": [
       "distinctPairExistence: forall_{S | |S| >= 2} [exists_{a in S, b in S} (a != b)]"
      ]
     },
     "execution_count": 2,
     "metadata": {},
     "output_type": "execute_result"
    }
   ],
   "source": [
    "%proving distinctPairExistence presuming []"
   ]
  },
  {
   "cell_type": "code",
   "execution_count": null,
   "metadata": {},
   "outputs": [],
   "source": []
  }
 ],
 "metadata": {
  "kernelspec": {
   "display_name": "Python 3",
   "language": "python",
   "name": "python3"
  }
 },
 "nbformat": 4,
 "nbformat_minor": 0
}
