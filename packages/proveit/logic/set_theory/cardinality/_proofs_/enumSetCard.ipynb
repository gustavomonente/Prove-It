{
 "cells": [
  {
   "cell_type": "markdown",
   "metadata": {},
   "source": [
    "Proof of <a class=\"ProveItLink\" href=\"../../../../_context_.ipynb\">proveit</a>.<a class=\"ProveItLink\" href=\"../../../_context_.ipynb\">logic</a>.<a class=\"ProveItLink\" href=\"../../_context_.ipynb\">set_theory</a>.<a class=\"ProveItLink\" href=\"../_context_.ipynb\">cardinality</a>.<a href=\"../_theorems_.ipynb#enumSetCard\" class=\"ProveItLink\">enumSetCard</a> theorem\n",
    "========"
   ]
  },
  {
   "cell_type": "code",
   "execution_count": 1,
   "metadata": {},
   "outputs": [],
   "source": [
    "import proveit\n",
    "context = proveit.Context('..') # the theorem's context is in the parent directory"
   ]
  },
  {
   "cell_type": "code",
   "execution_count": 2,
   "metadata": {},
   "outputs": [
    {
     "name": "stdout",
     "output_type": "stream",
     "text": [
      "Beginning proof of enumSetCard\n",
      "Recorded 'presuming' information\n"
     ]
    },
    {
     "data": {
      "text/html": [
       "<strong id=\"enumSetCard\">enumSetCard:</strong> <a class=\"ProveItLink\" href=\"../__pv_it/964e450329e47959bcb29c1fb9b298b0662d64ee0/expr.ipynb\"><img src=\"data:image/png;base64,iVBORw0KGgoAAAANSUhEUgAAAmQAAAAZBAMAAABtHC+5AAAAMFBMVEX///8QEBCIiIhmZma6urrM\n",
       "zMxUVFQiIiJERETc3Nzu7u6qqqp2dnaYmJgyMjIAAAAcRTyBAAAAAXRSTlMAQObYZgAABiRJREFU\n",
       "WMPtmW9oHEUUwF8uu3t3e7uXfGg/1CCcCUlLjGYxSJE2clEwikKvEaRooUc0iIJ62NJoWmrwixel\n",
       "9PzDNVRqtvmQpvFPTyRqA4VrLiqkjZ40IkqD50dFZTEoGkWdf7u3t3u7exvIGcSB7Lydm3kz89uZ\n",
       "N29eALyTMPws/J9o4oaP1lIt+C8O8UHylHv9teJvUU2tberWlXiqErKbGlm4CAs4F3/wvRi2kmzB\n",
       "Wk4LTvtTdoE8pTgVslDC2YoHsij51MV6I5tmc5Q1301vd0EmjvrTJWQYMiJk4TJ+/d4DmZRDWVSt\n",
       "N7Lv2ByllO+mn7ggi2b86RJLDBkRsjCON8CoBzJSYbzexGRlY5Bd9atsniEjQpasHbKIXG0ZXoaX\n",
       "640smNkYZL7P/zM6sjMEmbw4M3PS0/xfm5k5l6o3spOwIcjCvrVF4wwZFtCJ+Vs6fdQTWVM6/UK+\n",
       "3sjaKpBNdrzWFXM1Oa2P3TGvv1xyRhZQLHWrJnN3ksKQYQEhGwIYq9IkX4FMSEDIj9E853xUhL38\n",
       "H0M6rk9aQGZXzMtPB0tuDd+CL2PH9Jdvysikn0hS9IJQ0VK3Kn9zd3KJIcMCQnYnOxEsSalAxinw\n",
       "Tk2s4jTrzsn68pdTjt+iaorEdemIPul3E2jEqrTGZYB3PqkW4TP1HmMvKY6rLJgz6u5zVMa6Y0NK\n",
       "MWRYyGIgAbPDxR9cgBuSVmSQgptqQsZmFM1xSQaICWQchpPjlm7ThS1sjvuwvRYhhHTzPc6GSIW0\n",
       "6e3RmBOyhrhe9/6dzquMdKcz0RgyLCBkUrHs3b9Z6IUPJbVRtSFbgpQfZCH9DK5YwNgj3u+pYsqK\n",
       "DPoS+NmEIXBuw/jZ1FUS3JCxuv0uyppijsjCpQcMR+ilUypcjCkSFHoO9uTMyN7gk/6QidRlbgax\n",
       "vKywTR7yPp8y1o0pEK0HEh7I+F/Kst2WJc0bk9V1Q0a6Y9cvfWNydGPC2CP43jvQhs0aSrOzr0g2\n",
       "WwahLD4w2gbsM64sJJMLLN2cm9ag9Vrs/T8Xp7XwtwMdAFcKrz91RcWLdf7WjoSLGsNOHDefmBG1\n",
       "GwKqG7K5gAadcPWLVsX9xMTmn9Z1QUa7o1hs5h/eQ6OQ+4oNGbqLZqW399uRRfC27xRKh0CwHIak\n",
       "sBLZbmjIiRqXD8d4tMo0mMhFc0JeyO8lTlFAfTIYh8fBSU1EX88FM7I9uRP4Oo2RnccH6F9ABeON\n",
       "+yOkoXv88vWwzd0vQ54Cq4uRGYqIYLzR7igWaMwzZFjIsk17ajs0qSLBNAv5gh0Z2fuJaBH4SxZk\n",
       "uLASmbiGzL+ohVfnVIrsvCrEJlAzhIwbRV7Ej8ikXQdOajjd7vabkU21TvYWKbLgCCo7jAeW1B/D\n",
       "KoiDnW0rEJ5MwZo7MqSC1qU9oKZUB9ZI1Y7o3REsyFQkdFc2QZHJmMEg9AH/TDr9PEJ2OlgF2dfE\n",
       "JCLkQavL1ZSxIOM0ggzu/jvOkIEQ2wMUGR7c7+hvBJzU8CWXCxPZmHNV9pERdohxzTVfmPormpa3\n",
       "uCFhLABn9QvTWXO8bCvs5iFJVxk3gL96tXjZAVRsQ4YK5V0r+TKyMF1lfCaS4ptlhmwig5EVsV/F\n",
       "a3wVZIYawyspX8ubK5HZXTvJkBoSjflErdfy/oqmVVxHgsV6LWcuuQaHZuEjLC6jG2X1EGNY+xRp\n",
       "Q8jCL8K4yh6kMLJD90FG6bd5uShqEQVGRe0hbMsQMkERY+f5nJiCCakkEWQOamRjxGP2eBl2JkX7\n",
       "vWnSkCYgeG/CPV5Wvsd8UNHU8MkM/RSLNfjDPl4SuorEm+KOxUGojkx84r4uFSPjW2Bvht+GHy20\n",
       "cEj3ykkmLW1vmVqNzHdl4GNlalU8kfz8CBRaQXoYo5panl8kyBzUNMatIUYworLhnb/GQLavi7I5\n",
       "vQud12gWW2oJMb763KC5qeFrldc0xaKHGEMZeyB7B7JlXoFsvDEj5a9Os1RgucIvc043snwEnNRE\n",
       "zYHsdvrzOmP/7dYf2tcTyP6K+j4JKviP/fPdu/RoeDkuLiYjSzUiC9FsYDXnpOYibOq0zn+XFKtI\n",
       "NSLjih5qROW/gMzH/zG953vB4/eAupmBccOH/wF0OAi+eOKjDAAAAABJRU5ErkJggg==\n",
       "\" style=\"display:inline;vertical-align:middle;\" /></a><br>(see <a class=\"ProveItLink\" href=\"../__pv_it/964e450329e47959bcb29c1fb9b298b0662d64ee0/dependencies.ipynb\">dependencies</a>)<br>"
      ],
      "text/plain": [
       "enumSetCard: forall_{n in NaturalsPos} [forall_{x_{1}, ..x_{_a}.., x_{n} | distinct(x_{1}, ..x_{_a}.., x_{n})} (|{x_{1}, ..x_{_a}.., x_{n}}| = |(x_{1}, ..x_{_a}.., x_{n})|)]"
      ]
     },
     "execution_count": 2,
     "metadata": {},
     "output_type": "execute_result"
    }
   ],
   "source": [
    "%proving enumSetCard presuming []"
   ]
  },
  {
   "cell_type": "code",
   "execution_count": null,
   "metadata": {},
   "outputs": [],
   "source": []
  }
 ],
 "metadata": {
  "kernelspec": {
   "display_name": "Python 3",
   "language": "python",
   "name": "python3"
  }
 },
 "nbformat": 4,
 "nbformat_minor": 0
}
