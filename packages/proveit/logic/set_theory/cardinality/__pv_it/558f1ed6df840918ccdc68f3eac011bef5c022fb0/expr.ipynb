{
 "cells": [
  {
   "cell_type": "markdown",
   "metadata": {},
   "source": [
    "Expression of type <a class=\"ProveItLink\" href=\"../../../../../../../doc/html/api/proveit.Conditional.html\">Conditional</a>\n",
    "=======================\n",
    "# from context <a class=\"ProveItLink\" href=\"../../_context_.ipynb\">proveit.logic.set_theory.cardinality</a>"
   ]
  },
  {
   "cell_type": "code",
   "execution_count": 1,
   "metadata": {},
   "outputs": [],
   "source": [
    "import proveit\n",
    "# Automation is not needed when building an expression:\n",
    "proveit.defaults.automation = False # This will speed things up.\n",
    "proveit.defaults.inline_pngs = False # Makes files smaller.\n",
    "# import Expression classes needed to build the expression\n",
    "from proveit import Conditional\n",
    "from proveit._common_ import N, S\n",
    "from proveit.core_expr_types import Len\n",
    "from proveit.core_expr_types._common_ import x_1_to_n\n",
    "from proveit.logic import Card, Distinct, Equals, Exists\n",
    "from proveit.number import GreaterEq"
   ]
  },
  {
   "cell_type": "code",
   "execution_count": 2,
   "metadata": {},
   "outputs": [
    {
     "data": {
      "text/html": [
       "<strong id=\"expr\">expr:</strong> <a class=\"ProveItLink\" href=\"expr.ipynb\"><img src=\"expr.png\" style=\"display:inline;vertical-align:middle;\" /></a><br>"
      ],
      "text/plain": [
       "expr: {exists_{x_{1}, ..x_{_a}.., x_{n} in S | |(x_{1}, ..x_{_a}.., x_{n})| = N} distinct(x_{1}, ..x_{_a}.., x_{n}) if |S| >= N."
      ]
     },
     "execution_count": 2,
     "metadata": {},
     "output_type": "execute_result"
    }
   ],
   "source": [
    "# build up the expression from sub-expressions\n",
    "subExpr1 = [x_1_to_n]\n",
    "expr = Conditional(Exists(subExpr1, Distinct(x_1_to_n), domain = S, condition = Equals(Len(subExpr1), N)), GreaterEq(Card(S), N))"
   ]
  },
  {
   "cell_type": "code",
   "execution_count": 3,
   "metadata": {},
   "outputs": [
    {
     "name": "stdout",
     "output_type": "stream",
     "text": [
      "Passed sanity check: built 'expr' is the same as the stored Expression.\n"
     ]
    }
   ],
   "source": [
    "# check that the built expression is the same as the stored expression\n",
    "%check_expr"
   ]
  },
  {
   "cell_type": "code",
   "execution_count": 4,
   "metadata": {},
   "outputs": [
    {
     "name": "stdout",
     "output_type": "stream",
     "text": [
      "\\left\\{\\exists_{x_{1}, \\ldots, x_{n} \\in S~|~|\\left(x_{1}, \\ldots, x_{n}\\right)| = N}~\\textrm{distinct}(x_{1}, \\ldots, x_{n}) \\textrm{ if } |S| \\geq N\\right..\n"
     ]
    }
   ],
   "source": [
    "# Show the LaTeX representation of the expression for convenience if you need it.\n",
    "print(expr.latex())"
   ]
  },
  {
   "cell_type": "code",
   "execution_count": 5,
   "metadata": {},
   "outputs": [
    {
     "data": {
      "text/html": [
       "<table><tr><th>&nbsp;</th><th>core type</th><th>sub-expressions</th><th>expression</th></tr>\n",
       "<tr><td>0</td><td>Conditional</td><td>value:&nbsp;1<br>condition:&nbsp;2<br></td><td><a class=\"ProveItLink\" href=\"expr.ipynb\"><img src=\"expr.png\" style=\"display:inline;vertical-align:middle;\" /></a></td></tr>\n",
       "<tr><td>1</td><td>Operation</td><td>operator:&nbsp;3<br>operand:&nbsp;4<br></td><td><a class=\"ProveItLink\" href=\"../20f96ccc0a3e5674721f7bf201818886aec779210/expr.ipynb\"><img src=\"../20f96ccc0a3e5674721f7bf201818886aec779210/expr.png\" style=\"display:inline;vertical-align:middle;\" /></a></td></tr>\n",
       "<tr><td>2</td><td>Operation</td><td>operator:&nbsp;5<br>operands:&nbsp;6<br></td><td><a class=\"ProveItLink\" href=\"../190476885c9f577bca7cb4aad84662ed9e0088b40/expr.ipynb\"><img src=\"../190476885c9f577bca7cb4aad84662ed9e0088b40/expr.png\" style=\"display:inline;vertical-align:middle;\" /></a></td></tr>\n",
       "<tr><td>3</td><td>Literal</td><td></td><td><a class=\"ProveItLink\" href=\"../../../../boolean/quantification/existential/__pv_it/a8168c029d342fc3061f84d6d950c32772790ad90/expr.ipynb\"><img src=\"../../../../boolean/quantification/existential/__pv_it/a8168c029d342fc3061f84d6d950c32772790ad90/expr.png\" style=\"display:inline;vertical-align:middle;\" /></a></td></tr>\n",
       "<tr><td>4</td><td>Lambda</td><td>parameter:&nbsp;29<br>body:&nbsp;7<br></td><td><a class=\"ProveItLink\" href=\"../351a38acc5612183349fc96c0502e5be323049fb0/expr.ipynb\"><img src=\"../351a38acc5612183349fc96c0502e5be323049fb0/expr.png\" style=\"display:inline;vertical-align:middle;\" /></a></td></tr>\n",
       "<tr><td>5</td><td>Literal</td><td></td><td><a class=\"ProveItLink\" href=\"../../../../../number/ordering/__pv_it/cef35580c31dcaee082f4b9a008104845b0dfa860/expr.ipynb\"><img src=\"../../../../../number/ordering/__pv_it/cef35580c31dcaee082f4b9a008104845b0dfa860/expr.png\" style=\"display:inline;vertical-align:middle;\" /></a></td></tr>\n",
       "<tr><td>6</td><td>ExprTuple</td><td>8, 22</td><td><a class=\"ProveItLink\" href=\"../033904ed1b8b6d008d4a968980b5ca0b1ca90bf80/expr.ipynb\"><img src=\"../033904ed1b8b6d008d4a968980b5ca0b1ca90bf80/expr.png\" style=\"display:inline;vertical-align:middle;\" /></a></td></tr>\n",
       "<tr><td>7</td><td>Conditional</td><td>value:&nbsp;9<br>condition:&nbsp;10<br></td><td><a class=\"ProveItLink\" href=\"../6ddad56493394af7b6fac99af91294d77bcba31a0/expr.ipynb\"><img src=\"../6ddad56493394af7b6fac99af91294d77bcba31a0/expr.png\" style=\"display:inline;vertical-align:middle;\" /></a></td></tr>\n",
       "<tr><td>8</td><td>Operation</td><td>operator:&nbsp;11<br>operand:&nbsp;27<br></td><td><a class=\"ProveItLink\" href=\"../e85812aca30406d5e943a783f92fce817ec3b6530/expr.ipynb\"><img src=\"../e85812aca30406d5e943a783f92fce817ec3b6530/expr.png\" style=\"display:inline;vertical-align:middle;\" /></a></td></tr>\n",
       "<tr><td>9</td><td>Operation</td><td>operator:&nbsp;12<br>operands:&nbsp;28<br></td><td><a class=\"ProveItLink\" href=\"../b604c521397b63d66f2a808329d94f30965ba95f0/expr.ipynb\"><img src=\"../b604c521397b63d66f2a808329d94f30965ba95f0/expr.png\" style=\"display:inline;vertical-align:middle;\" /></a></td></tr>\n",
       "<tr><td>10</td><td>Operation</td><td>operator:&nbsp;13<br>operands:&nbsp;14<br></td><td><a class=\"ProveItLink\" href=\"../284a8a13be6dfc4683a8f042cc85175238ac624f0/expr.ipynb\"><img src=\"../284a8a13be6dfc4683a8f042cc85175238ac624f0/expr.png\" style=\"display:inline;vertical-align:middle;\" /></a></td></tr>\n",
       "<tr><td>11</td><td>Literal</td><td></td><td><a class=\"ProveItLink\" href=\"../a43c4384a03fc91758f793f3291fe18c42c42f850/expr.ipynb\"><img src=\"../a43c4384a03fc91758f793f3291fe18c42c42f850/expr.png\" style=\"display:inline;vertical-align:middle;\" /></a></td></tr>\n",
       "<tr><td>12</td><td>Literal</td><td></td><td><a class=\"ProveItLink\" href=\"../../../disjointness/__pv_it/86a1fb174d84ea961974673c63c3f150244e39010/expr.ipynb\"><img src=\"../../../disjointness/__pv_it/86a1fb174d84ea961974673c63c3f150244e39010/expr.png\" style=\"display:inline;vertical-align:middle;\" /></a></td></tr>\n",
       "<tr><td>13</td><td>Literal</td><td></td><td><a class=\"ProveItLink\" href=\"../../../../boolean/conjunction/__pv_it/f41cc6b553210927c09f19a8a39cdf860a5585930/expr.ipynb\"><img src=\"../../../../boolean/conjunction/__pv_it/f41cc6b553210927c09f19a8a39cdf860a5585930/expr.png\" style=\"display:inline;vertical-align:middle;\" /></a></td></tr>\n",
       "<tr><td>14</td><td>ExprTuple</td><td>15, 16</td><td><a class=\"ProveItLink\" href=\"../755b2677d1862da705a75e5caaf92a63809326370/expr.ipynb\"><img src=\"../755b2677d1862da705a75e5caaf92a63809326370/expr.png\" style=\"display:inline;vertical-align:middle;\" /></a></td></tr>\n",
       "<tr><td>15</td><td>ExprRange</td><td>lambda_map:&nbsp;17<br>start_index:&nbsp;31<br>end_index:&nbsp;32<br></td><td><a class=\"ProveItLink\" href=\"../9a7a4b5941ccd141c9dd09ef380554ee9be774e40/expr.ipynb\"><img src=\"../9a7a4b5941ccd141c9dd09ef380554ee9be774e40/expr.png\" style=\"display:inline;vertical-align:middle;\" /></a></td></tr>\n",
       "<tr><td>16</td><td>Operation</td><td>operator:&nbsp;18<br>operands:&nbsp;19<br></td><td><a class=\"ProveItLink\" href=\"../f61da5de358018f19ffb036b430d3842641420c70/expr.ipynb\"><img src=\"../f61da5de358018f19ffb036b430d3842641420c70/expr.png\" style=\"display:inline;vertical-align:middle;\" /></a></td></tr>\n",
       "<tr><td>17</td><td>Lambda</td><td>parameter:&nbsp;35<br>body:&nbsp;20<br></td><td><a class=\"ProveItLink\" href=\"../1f42d43919ab6b539d3e0e68ff6776839ecd5b1e0/expr.ipynb\"><img src=\"../1f42d43919ab6b539d3e0e68ff6776839ecd5b1e0/expr.png\" style=\"display:inline;vertical-align:middle;\" /></a></td></tr>\n",
       "<tr><td>18</td><td>Literal</td><td></td><td><a class=\"ProveItLink\" href=\"../../../../equality/__pv_it/e16d2caa26a16688b658bdb9c422caf4b84579e10/expr.ipynb\"><img src=\"../../../../equality/__pv_it/e16d2caa26a16688b658bdb9c422caf4b84579e10/expr.png\" style=\"display:inline;vertical-align:middle;\" /></a></td></tr>\n",
       "<tr><td>19</td><td>ExprTuple</td><td>21, 22</td><td><a class=\"ProveItLink\" href=\"../b6c0a85c82ef0867fb532141035ce6c05871c1fd0/expr.ipynb\"><img src=\"../b6c0a85c82ef0867fb532141035ce6c05871c1fd0/expr.png\" style=\"display:inline;vertical-align:middle;\" /></a></td></tr>\n",
       "<tr><td>20</td><td>Operation</td><td>operator:&nbsp;23<br>operands:&nbsp;24<br></td><td><a class=\"ProveItLink\" href=\"../2c851411363c0428dca6db3f6fb1db881199e5630/expr.ipynb\"><img src=\"../2c851411363c0428dca6db3f6fb1db881199e5630/expr.png\" style=\"display:inline;vertical-align:middle;\" /></a></td></tr>\n",
       "<tr><td>21</td><td>Operation</td><td>operator:&nbsp;25<br>operand:&nbsp;28<br></td><td><a class=\"ProveItLink\" href=\"../0d581f52c0324b0d3310f6dda1aab658b71460e30/expr.ipynb\"><img src=\"../0d581f52c0324b0d3310f6dda1aab658b71460e30/expr.png\" style=\"display:inline;vertical-align:middle;\" /></a></td></tr>\n",
       "<tr><td>22</td><td>Variable</td><td></td><td><a class=\"ProveItLink\" href=\"../../../../../__pv_it/7367403b9d2c7afd9c31b300df82e3c2dac44e280/expr.ipynb\"><img src=\"../../../../../__pv_it/7367403b9d2c7afd9c31b300df82e3c2dac44e280/expr.png\" style=\"display:inline;vertical-align:middle;\" /></a></td></tr>\n",
       "<tr><td>23</td><td>Literal</td><td></td><td><a class=\"ProveItLink\" href=\"../../../membership/__pv_it/7776fc89cb67d0b5b1ec2c0c8e08da5587921ccf0/expr.ipynb\"><img src=\"../../../membership/__pv_it/7776fc89cb67d0b5b1ec2c0c8e08da5587921ccf0/expr.png\" style=\"display:inline;vertical-align:middle;\" /></a></td></tr>\n",
       "<tr><td>24</td><td>ExprTuple</td><td>33, 27</td><td><a class=\"ProveItLink\" href=\"../87ce191197aab8dfe8e9c915baf21cc9d19c02590/expr.ipynb\"><img src=\"../87ce191197aab8dfe8e9c915baf21cc9d19c02590/expr.png\" style=\"display:inline;vertical-align:middle;\" /></a></td></tr>\n",
       "<tr><td>25</td><td>Literal</td><td></td><td><a class=\"ProveItLink\" href=\"../../../../../core_expr_types/tuples/__pv_it/92831c6291223dfbd76a11e90e750ae52564aa9f0/expr.ipynb\"><img src=\"../../../../../core_expr_types/tuples/__pv_it/92831c6291223dfbd76a11e90e750ae52564aa9f0/expr.png\" style=\"display:inline;vertical-align:middle;\" /></a></td></tr>\n",
       "<tr><td>26</td><td>ExprTuple</td><td>28</td><td><a class=\"ProveItLink\" href=\"../453563a85f2d502e158e76469f8e8d9234fe46350/expr.ipynb\"><img src=\"../453563a85f2d502e158e76469f8e8d9234fe46350/expr.png\" style=\"display:inline;vertical-align:middle;\" /></a></td></tr>\n",
       "<tr><td>27</td><td>Variable</td><td></td><td><a class=\"ProveItLink\" href=\"../../../../../__pv_it/f7e31792649ed3cb09061ae8e85d975fd4cc9fa60/expr.ipynb\"><img src=\"../../../../../__pv_it/f7e31792649ed3cb09061ae8e85d975fd4cc9fa60/expr.png\" style=\"display:inline;vertical-align:middle;\" /></a></td></tr>\n",
       "<tr><td>28</td><td>ExprTuple</td><td>29</td><td><a class=\"ProveItLink\" href=\"../44e9035298bc92b31f553197c806ff2c422ace550/expr.ipynb\"><img src=\"../44e9035298bc92b31f553197c806ff2c422ace550/expr.png\" style=\"display:inline;vertical-align:middle;\" /></a></td></tr>\n",
       "<tr><td>29</td><td>ExprRange</td><td>lambda_map:&nbsp;30<br>start_index:&nbsp;31<br>end_index:&nbsp;32<br></td><td><a class=\"ProveItLink\" href=\"../../../../../core_expr_types/__pv_it/36b186afc91ba7c57b358c8d856ab3c828e9e2c50/expr.ipynb\"><img src=\"../../../../../core_expr_types/__pv_it/36b186afc91ba7c57b358c8d856ab3c828e9e2c50/expr.png\" style=\"display:inline;vertical-align:middle;\" /></a></td></tr>\n",
       "<tr><td>30</td><td>Lambda</td><td>parameter:&nbsp;35<br>body:&nbsp;33<br></td><td><a class=\"ProveItLink\" href=\"../../../../../core_expr_types/__pv_it/15cc35ac7085d75649b82db6beead515f3030ef00/expr.ipynb\"><img src=\"../../../../../core_expr_types/__pv_it/15cc35ac7085d75649b82db6beead515f3030ef00/expr.png\" style=\"display:inline;vertical-align:middle;\" /></a></td></tr>\n",
       "<tr><td>31</td><td>Literal</td><td></td><td><a class=\"ProveItLink\" href=\"../../../../../number/numeral/__pv_it/f086f8c372bd40a2458306ddfdbb29f3dc6f63030/expr.ipynb\"><img src=\"../../../../../number/numeral/__pv_it/f086f8c372bd40a2458306ddfdbb29f3dc6f63030/expr.png\" style=\"display:inline;vertical-align:middle;\" /></a></td></tr>\n",
       "<tr><td>32</td><td>Variable</td><td></td><td><a class=\"ProveItLink\" href=\"../../../../../__pv_it/0c1c4cb515e0f4344b1ac06650f349123e526deb0/expr.ipynb\"><img src=\"../../../../../__pv_it/0c1c4cb515e0f4344b1ac06650f349123e526deb0/expr.png\" style=\"display:inline;vertical-align:middle;\" /></a></td></tr>\n",
       "<tr><td>33</td><td>IndexedVar</td><td>variable:&nbsp;34<br>index:&nbsp;35<br></td><td><a class=\"ProveItLink\" href=\"../../../../../core_expr_types/__pv_it/12d6cd514f4a6eb41d13ff30f08a9d01f2c4f4ba0/expr.ipynb\"><img src=\"../../../../../core_expr_types/__pv_it/12d6cd514f4a6eb41d13ff30f08a9d01f2c4f4ba0/expr.png\" style=\"display:inline;vertical-align:middle;\" /></a></td></tr>\n",
       "<tr><td>34</td><td>Variable</td><td></td><td><a class=\"ProveItLink\" href=\"../../../../../__pv_it/72df168d2bfb4e0140af90912ebf83b13772060b0/expr.ipynb\"><img src=\"../../../../../__pv_it/72df168d2bfb4e0140af90912ebf83b13772060b0/expr.png\" style=\"display:inline;vertical-align:middle;\" /></a></td></tr>\n",
       "<tr><td>35</td><td>Variable</td><td></td><td><a class=\"ProveItLink\" href=\"../../../../../core_expr_types/__pv_it/1e653f789234b245ee7fea7caad998c139d617410/expr.ipynb\"><img src=\"../../../../../core_expr_types/__pv_it/1e653f789234b245ee7fea7caad998c139d617410/expr.png\" style=\"display:inline;vertical-align:middle;\" /></a></td></tr>\n",
       "</table>\n"
      ],
      "text/plain": [
       "0. {exists_{x_{1}, ..x_{_a}.., x_{n} in S | |(x_{1}, ..x_{_a}.., x_{n})| = N} distinct(x_{1}, ..x_{_a}.., x_{n}) if |S| >= N.\n",
       "   core type: Conditional\n",
       "   value: 1\n",
       "   condition: 2\n",
       "1. exists_{x_{1}, ..x_{_a}.., x_{n} in S | |(x_{1}, ..x_{_a}.., x_{n})| = N} distinct(x_{1}, ..x_{_a}.., x_{n})\n",
       "   core type: Operation\n",
       "   operator: 3\n",
       "   operand: 4\n",
       "2. |S| >= N\n",
       "   core type: Operation\n",
       "   operator: 5\n",
       "   operands: 6\n",
       "3. exists\n",
       "   core type: Literal\n",
       "   sub-expressions: \n",
       "4. (x_{1}, ..x_{_a}.., x_{n}) -> {distinct(x_{1}, ..x_{_a}.., x_{n}) if x_{1} in S ,  ..x_{_a} in S.. ,  x_{n} in S ,  |(x_{1}, ..x_{_a}.., x_{n})| = N.\n",
       "   core type: Lambda\n",
       "   parameter: 29\n",
       "   body: 7\n",
       "5. >=\n",
       "   core type: Literal\n",
       "   sub-expressions: \n",
       "6. (|S|, N)\n",
       "   core type: ExprTuple\n",
       "   sub-expressions: 8, 22\n",
       "7. {distinct(x_{1}, ..x_{_a}.., x_{n}) if x_{1} in S ,  ..x_{_a} in S.. ,  x_{n} in S ,  |(x_{1}, ..x_{_a}.., x_{n})| = N.\n",
       "   core type: Conditional\n",
       "   value: 9\n",
       "   condition: 10\n",
       "8. |S|\n",
       "   core type: Operation\n",
       "   operator: 11\n",
       "   operand: 27\n",
       "9. distinct(x_{1}, ..x_{_a}.., x_{n})\n",
       "   core type: Operation\n",
       "   operator: 12\n",
       "   operands: 28\n",
       "10. (x_{1} in S) and ..(x_{_a} in S).. and (x_{n} in S) and (|(x_{1}, ..x_{_a}.., x_{n})| = N)\n",
       "    core type: Operation\n",
       "    operator: 13\n",
       "    operands: 14\n",
       "11. card\n",
       "    core type: Literal\n",
       "    sub-expressions: \n",
       "12. distinct\n",
       "    core type: Literal\n",
       "    sub-expressions: \n",
       "13. and\n",
       "    core type: Literal\n",
       "    sub-expressions: \n",
       "14. (x_{1} in S, ..x_{_a} in S.., x_{n} in S, |(x_{1}, ..x_{_a}.., x_{n})| = N)\n",
       "    core type: ExprTuple\n",
       "    sub-expressions: 15, 16\n",
       "15. (x_{1} in S), ..(x_{_a} in S).., (x_{n} in S)\n",
       "    core type: ExprRange\n",
       "    lambda_map: 17\n",
       "    start_index: 31\n",
       "    end_index: 32\n",
       "16. |(x_{1}, ..x_{_a}.., x_{n})| = N\n",
       "    core type: Operation\n",
       "    operator: 18\n",
       "    operands: 19\n",
       "17. _a -> (x_{_a} in S)\n",
       "    core type: Lambda\n",
       "    parameter: 35\n",
       "    body: 20\n",
       "18. =\n",
       "    core type: Literal\n",
       "    sub-expressions: \n",
       "19. (|(x_{1}, ..x_{_a}.., x_{n})|, N)\n",
       "    core type: ExprTuple\n",
       "    sub-expressions: 21, 22\n",
       "20. x_{_a} in S\n",
       "    core type: Operation\n",
       "    operator: 23\n",
       "    operands: 24\n",
       "21. |(x_{1}, ..x_{_a}.., x_{n})|\n",
       "    core type: Operation\n",
       "    operator: 25\n",
       "    operand: 28\n",
       "22. N\n",
       "    core type: Variable\n",
       "    sub-expressions: \n",
       "23. in\n",
       "    core type: Literal\n",
       "    sub-expressions: \n",
       "24. (x_{_a}, S)\n",
       "    core type: ExprTuple\n",
       "    sub-expressions: 33, 27\n",
       "25. length\n",
       "    core type: Literal\n",
       "    sub-expressions: \n",
       "26. ((x_{1}, ..x_{_a}.., x_{n}))\n",
       "    core type: ExprTuple\n",
       "    sub-expressions: 28\n",
       "27. S\n",
       "    core type: Variable\n",
       "    sub-expressions: \n",
       "28. (x_{1}, ..x_{_a}.., x_{n})\n",
       "    core type: ExprTuple\n",
       "    sub-expressions: 29\n",
       "29. x_{1}, ..x_{_a}.., x_{n}\n",
       "    core type: ExprRange\n",
       "    lambda_map: 30\n",
       "    start_index: 31\n",
       "    end_index: 32\n",
       "30. _a -> x_{_a}\n",
       "    core type: Lambda\n",
       "    parameter: 35\n",
       "    body: 33\n",
       "31. 1\n",
       "    core type: Literal\n",
       "    sub-expressions: \n",
       "32. n\n",
       "    core type: Variable\n",
       "    sub-expressions: \n",
       "33. x_{_a}\n",
       "    core type: IndexedVar\n",
       "variable: 34\n",
       "index: 35\n",
       "34. x\n",
       "    core type: Variable\n",
       "    sub-expressions: \n",
       "35. _a\n",
       "    core type: Variable\n",
       "    sub-expressions: "
      ]
     },
     "execution_count": 5,
     "metadata": {},
     "output_type": "execute_result"
    }
   ],
   "source": [
    "# display the expression information\n",
    "expr.exprInfo()"
   ]
  },
  {
   "cell_type": "code",
   "execution_count": null,
   "metadata": {},
   "outputs": [],
   "source": []
  }
 ],
 "metadata": {
  "kernelspec": {
   "display_name": "Python 3",
   "language": "python",
   "name": "python3"
  },
  "language_info": {
   "codemirror_mode": {
    "name": "ipython",
    "version": 3
   },
   "file_extension": ".py",
   "mimetype": "text/x-python",
   "name": "python",
   "nbconvert_exporter": "python",
   "pygments_lexer": "ipython3",
   "version": "3.7.3"
  }
 },
 "nbformat": 4,
 "nbformat_minor": 1
}
