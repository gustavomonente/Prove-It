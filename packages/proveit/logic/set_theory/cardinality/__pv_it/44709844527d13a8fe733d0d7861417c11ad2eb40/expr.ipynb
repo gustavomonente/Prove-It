{
 "cells": [
  {
   "cell_type": "markdown",
   "metadata": {},
   "source": [
    "Theorem <a class=\"ProveItLink\" href=\"../../_theorems_.ipynb#distinctPairExistence\">distinctPairExistence</a> of type <a class=\"ProveItLink\" href=\"../../../../../../../doc/html/api/proveit.logic.Forall.html\">Forall</a>\n",
    "=======================\n",
    "# from context <a class=\"ProveItLink\" href=\"../../_context_.ipynb\">proveit.logic.set_theory.cardinality</a>\n",
    "*** see <a class=\"ProveItLink\" href=\"dependencies.ipynb\">dependencies</a> ***"
   ]
  },
  {
   "cell_type": "code",
   "execution_count": 1,
   "metadata": {},
   "outputs": [],
   "source": [
    "import proveit\n",
    "# Automation is not needed when only building an expression:\n",
    "proveit.defaults.automation = False # This will speed things up.\n",
    "proveit.defaults.inline_pngs = False # Makes files smaller.\n",
    "# import the special expression\n",
    "from proveit.logic.set_theory.cardinality._theorems_ import distinctPairExistence"
   ]
  },
  {
   "cell_type": "code",
   "execution_count": 2,
   "metadata": {},
   "outputs": [
    {
     "name": "stdout",
     "output_type": "stream",
     "text": [
      "Passed sanity check: built 'distinctPairExistence' is the same as the stored Expression.\n"
     ]
    }
   ],
   "source": [
    "# check that the built expression is the same as the stored expression\n",
    "%check_expr distinctPairExistence"
   ]
  },
  {
   "cell_type": "code",
   "execution_count": 3,
   "metadata": {},
   "outputs": [
    {
     "name": "stdout",
     "output_type": "stream",
     "text": [
      "\\vdash \\forall_{S~|~|S| \\geq 2}~\\left[\\exists_{a \\in S, b \\in S}~\\left(a \\neq b\\right)\\right]\n"
     ]
    }
   ],
   "source": [
    "# Show the LaTeX representation of the expression for convenience if you need it.\n",
    "print(distinctPairExistence.latex())"
   ]
  },
  {
   "cell_type": "code",
   "execution_count": 4,
   "metadata": {},
   "outputs": [
    {
     "data": {
      "text/html": [
       "<table><tr><th>&nbsp;</th><th>core type</th><th>sub-expressions</th><th>expression</th></tr>\n",
       "<tr><td>0</td><td>Operation</td><td>operator:&nbsp;1<br>operand:&nbsp;2<br></td><td><a class=\"ProveItLink\" href=\"expr.ipynb\"><img src=\"expr.png\" style=\"display:inline;vertical-align:middle;\" /></a></td></tr>\n",
       "<tr><td>1</td><td>Literal</td><td></td><td><a class=\"ProveItLink\" href=\"../../../../boolean/quantification/universal/__pv_it/fd9c772d6675566ed52a6897806f45eb08a4ea910/expr.ipynb\"><img src=\"../../../../boolean/quantification/universal/__pv_it/fd9c772d6675566ed52a6897806f45eb08a4ea910/expr.png\" style=\"display:inline;vertical-align:middle;\" /></a></td></tr>\n",
       "<tr><td>2</td><td>Lambda</td><td>parameter:&nbsp;27<br>body:&nbsp;3<br></td><td><a class=\"ProveItLink\" href=\"../8ed5d903581bb97200655de756d9dc07a99736250/expr.ipynb\"><img src=\"../8ed5d903581bb97200655de756d9dc07a99736250/expr.png\" style=\"display:inline;vertical-align:middle;\" /></a></td></tr>\n",
       "<tr><td>3</td><td>Conditional</td><td>value:&nbsp;4<br>condition:&nbsp;5<br></td><td><a class=\"ProveItLink\" href=\"../d886d863585da8f90e2e76da81c6fdfb4e4267650/expr.ipynb\"><img src=\"../d886d863585da8f90e2e76da81c6fdfb4e4267650/expr.png\" style=\"display:inline;vertical-align:middle;\" /></a></td></tr>\n",
       "<tr><td>4</td><td>Operation</td><td>operator:&nbsp;6<br>operand:&nbsp;7<br></td><td><a class=\"ProveItLink\" href=\"../2c25fcdd452ed210e3911e4bb152ef373ae1ee660/expr.ipynb\"><img src=\"../2c25fcdd452ed210e3911e4bb152ef373ae1ee660/expr.png\" style=\"display:inline;vertical-align:middle;\" /></a></td></tr>\n",
       "<tr><td>5</td><td>Operation</td><td>operator:&nbsp;8<br>operands:&nbsp;9<br></td><td><a class=\"ProveItLink\" href=\"../157ce0ed8f9f4f97a7836a4a1810575480c9bae00/expr.ipynb\"><img src=\"../157ce0ed8f9f4f97a7836a4a1810575480c9bae00/expr.png\" style=\"display:inline;vertical-align:middle;\" /></a></td></tr>\n",
       "<tr><td>6</td><td>Literal</td><td></td><td><a class=\"ProveItLink\" href=\"../../../../boolean/quantification/existential/__pv_it/a8168c029d342fc3061f84d6d950c32772790ad90/expr.ipynb\"><img src=\"../../../../boolean/quantification/existential/__pv_it/a8168c029d342fc3061f84d6d950c32772790ad90/expr.png\" style=\"display:inline;vertical-align:middle;\" /></a></td></tr>\n",
       "<tr><td>7</td><td>Lambda</td><td>parameters:&nbsp;17<br>body:&nbsp;10<br></td><td><a class=\"ProveItLink\" href=\"../ea81caa4167e5e65d81cfa9cab0cca05bff568900/expr.ipynb\"><img src=\"../ea81caa4167e5e65d81cfa9cab0cca05bff568900/expr.png\" style=\"display:inline;vertical-align:middle;\" /></a></td></tr>\n",
       "<tr><td>8</td><td>Literal</td><td></td><td><a class=\"ProveItLink\" href=\"../../../../../number/ordering/__pv_it/cef35580c31dcaee082f4b9a008104845b0dfa860/expr.ipynb\"><img src=\"../../../../../number/ordering/__pv_it/cef35580c31dcaee082f4b9a008104845b0dfa860/expr.png\" style=\"display:inline;vertical-align:middle;\" /></a></td></tr>\n",
       "<tr><td>9</td><td>ExprTuple</td><td>11, 12</td><td><a class=\"ProveItLink\" href=\"../850927700b897630d25b56b86206bfab68242c6d0/expr.ipynb\"><img src=\"../850927700b897630d25b56b86206bfab68242c6d0/expr.png\" style=\"display:inline;vertical-align:middle;\" /></a></td></tr>\n",
       "<tr><td>10</td><td>Conditional</td><td>value:&nbsp;13<br>condition:&nbsp;14<br></td><td><a class=\"ProveItLink\" href=\"../ec27fa468ee019bc2093c61eb095faabf02056460/expr.ipynb\"><img src=\"../ec27fa468ee019bc2093c61eb095faabf02056460/expr.png\" style=\"display:inline;vertical-align:middle;\" /></a></td></tr>\n",
       "<tr><td>11</td><td>Operation</td><td>operator:&nbsp;15<br>operand:&nbsp;27<br></td><td><a class=\"ProveItLink\" href=\"../e85812aca30406d5e943a783f92fce817ec3b6530/expr.ipynb\"><img src=\"../e85812aca30406d5e943a783f92fce817ec3b6530/expr.png\" style=\"display:inline;vertical-align:middle;\" /></a></td></tr>\n",
       "<tr><td>12</td><td>Literal</td><td></td><td><a class=\"ProveItLink\" href=\"../../../../../number/numeral/__pv_it/fb4ccffdbfd0f653ebaacb95e7ff4802fd48a6f20/expr.ipynb\"><img src=\"../../../../../number/numeral/__pv_it/fb4ccffdbfd0f653ebaacb95e7ff4802fd48a6f20/expr.png\" style=\"display:inline;vertical-align:middle;\" /></a></td></tr>\n",
       "<tr><td>13</td><td>Operation</td><td>operator:&nbsp;16<br>operands:&nbsp;17<br></td><td><a class=\"ProveItLink\" href=\"../ccaa211034837caa85874105dcbdd7d91bb037f50/expr.ipynb\"><img src=\"../ccaa211034837caa85874105dcbdd7d91bb037f50/expr.png\" style=\"display:inline;vertical-align:middle;\" /></a></td></tr>\n",
       "<tr><td>14</td><td>Operation</td><td>operator:&nbsp;18<br>operands:&nbsp;19<br></td><td><a class=\"ProveItLink\" href=\"../5e059e6fb54db8605cea4e2149d0ef30cb9abb350/expr.ipynb\"><img src=\"../5e059e6fb54db8605cea4e2149d0ef30cb9abb350/expr.png\" style=\"display:inline;vertical-align:middle;\" /></a></td></tr>\n",
       "<tr><td>15</td><td>Literal</td><td></td><td><a class=\"ProveItLink\" href=\"../a43c4384a03fc91758f793f3291fe18c42c42f850/expr.ipynb\"><img src=\"../a43c4384a03fc91758f793f3291fe18c42c42f850/expr.png\" style=\"display:inline;vertical-align:middle;\" /></a></td></tr>\n",
       "<tr><td>16</td><td>Literal</td><td></td><td><a class=\"ProveItLink\" href=\"../../../../equality/__pv_it/b2721051be811fe338d0c72369ee2d83e8be58da0/expr.ipynb\"><img src=\"../../../../equality/__pv_it/b2721051be811fe338d0c72369ee2d83e8be58da0/expr.png\" style=\"display:inline;vertical-align:middle;\" /></a></td></tr>\n",
       "<tr><td>17</td><td>ExprTuple</td><td>25, 26</td><td><a class=\"ProveItLink\" href=\"../bbc1b69eb12288f0ad04da0d0cc6b9b8079b8b3f0/expr.ipynb\"><img src=\"../bbc1b69eb12288f0ad04da0d0cc6b9b8079b8b3f0/expr.png\" style=\"display:inline;vertical-align:middle;\" /></a></td></tr>\n",
       "<tr><td>18</td><td>Literal</td><td></td><td><a class=\"ProveItLink\" href=\"../../../../boolean/conjunction/__pv_it/f41cc6b553210927c09f19a8a39cdf860a5585930/expr.ipynb\"><img src=\"../../../../boolean/conjunction/__pv_it/f41cc6b553210927c09f19a8a39cdf860a5585930/expr.png\" style=\"display:inline;vertical-align:middle;\" /></a></td></tr>\n",
       "<tr><td>19</td><td>ExprTuple</td><td>20, 21</td><td><a class=\"ProveItLink\" href=\"../bf5e22d0aa3fa7119a610f142457910087cfe72a0/expr.ipynb\"><img src=\"../bf5e22d0aa3fa7119a610f142457910087cfe72a0/expr.png\" style=\"display:inline;vertical-align:middle;\" /></a></td></tr>\n",
       "<tr><td>20</td><td>Operation</td><td>operator:&nbsp;23<br>operands:&nbsp;22<br></td><td><a class=\"ProveItLink\" href=\"../90803a74c729a12caf833cad9f2f5a9c82c089a80/expr.ipynb\"><img src=\"../90803a74c729a12caf833cad9f2f5a9c82c089a80/expr.png\" style=\"display:inline;vertical-align:middle;\" /></a></td></tr>\n",
       "<tr><td>21</td><td>Operation</td><td>operator:&nbsp;23<br>operands:&nbsp;24<br></td><td><a class=\"ProveItLink\" href=\"../a0b5a69596c618c61ae11026462dd53416132a5a0/expr.ipynb\"><img src=\"../a0b5a69596c618c61ae11026462dd53416132a5a0/expr.png\" style=\"display:inline;vertical-align:middle;\" /></a></td></tr>\n",
       "<tr><td>22</td><td>ExprTuple</td><td>25, 27</td><td><a class=\"ProveItLink\" href=\"../213344ad030b00b58749b998e0de02c4e05ddc030/expr.ipynb\"><img src=\"../213344ad030b00b58749b998e0de02c4e05ddc030/expr.png\" style=\"display:inline;vertical-align:middle;\" /></a></td></tr>\n",
       "<tr><td>23</td><td>Literal</td><td></td><td><a class=\"ProveItLink\" href=\"../../../membership/__pv_it/7776fc89cb67d0b5b1ec2c0c8e08da5587921ccf0/expr.ipynb\"><img src=\"../../../membership/__pv_it/7776fc89cb67d0b5b1ec2c0c8e08da5587921ccf0/expr.png\" style=\"display:inline;vertical-align:middle;\" /></a></td></tr>\n",
       "<tr><td>24</td><td>ExprTuple</td><td>26, 27</td><td><a class=\"ProveItLink\" href=\"../31912202d26902c66328048f74a97a1ec4e427ac0/expr.ipynb\"><img src=\"../31912202d26902c66328048f74a97a1ec4e427ac0/expr.png\" style=\"display:inline;vertical-align:middle;\" /></a></td></tr>\n",
       "<tr><td>25</td><td>Variable</td><td></td><td><a class=\"ProveItLink\" href=\"../../../../../__pv_it/a8d4b3a34d2189508f9082853fbac36935714f280/expr.ipynb\"><img src=\"../../../../../__pv_it/a8d4b3a34d2189508f9082853fbac36935714f280/expr.png\" style=\"display:inline;vertical-align:middle;\" /></a></td></tr>\n",
       "<tr><td>26</td><td>Variable</td><td></td><td><a class=\"ProveItLink\" href=\"../../../../../__pv_it/53e304ff98ebc000dbe3ef224f4637dbafd46ba70/expr.ipynb\"><img src=\"../../../../../__pv_it/53e304ff98ebc000dbe3ef224f4637dbafd46ba70/expr.png\" style=\"display:inline;vertical-align:middle;\" /></a></td></tr>\n",
       "<tr><td>27</td><td>Variable</td><td></td><td><a class=\"ProveItLink\" href=\"../../../../../__pv_it/f7e31792649ed3cb09061ae8e85d975fd4cc9fa60/expr.ipynb\"><img src=\"../../../../../__pv_it/f7e31792649ed3cb09061ae8e85d975fd4cc9fa60/expr.png\" style=\"display:inline;vertical-align:middle;\" /></a></td></tr>\n",
       "</table>\n"
      ],
      "text/plain": [
       "0. forall_{S | |S| >= 2} [exists_{a in S, b in S} (a != b)]\n",
       "   core type: Operation\n",
       "   operator: 1\n",
       "   operand: 2\n",
       "1. forall\n",
       "   core type: Literal\n",
       "   sub-expressions: \n",
       "2. S -> {exists_{a in S, b in S} (a != b) if |S| >= 2.\n",
       "   core type: Lambda\n",
       "   parameter: 27\n",
       "   body: 3\n",
       "3. {exists_{a in S, b in S} (a != b) if |S| >= 2.\n",
       "   core type: Conditional\n",
       "   value: 4\n",
       "   condition: 5\n",
       "4. exists_{a in S, b in S} (a != b)\n",
       "   core type: Operation\n",
       "   operator: 6\n",
       "   operand: 7\n",
       "5. |S| >= 2\n",
       "   core type: Operation\n",
       "   operator: 8\n",
       "   operands: 9\n",
       "6. exists\n",
       "   core type: Literal\n",
       "   sub-expressions: \n",
       "7. (a, b) -> {a != b if a in S ,  b in S.\n",
       "   core type: Lambda\n",
       "   parameters: 17\\n   body: 10\n",
       "8. >=\n",
       "   core type: Literal\n",
       "   sub-expressions: \n",
       "9. (|S|, 2)\n",
       "   core type: ExprTuple\n",
       "   sub-expressions: 11, 12\n",
       "10. {a != b if a in S ,  b in S.\n",
       "    core type: Conditional\n",
       "    value: 13\n",
       "    condition: 14\n",
       "11. |S|\n",
       "    core type: Operation\n",
       "    operator: 15\n",
       "    operand: 27\n",
       "12. 2\n",
       "    core type: Literal\n",
       "    sub-expressions: \n",
       "13. a != b\n",
       "    core type: Operation\n",
       "    operator: 16\n",
       "    operands: 17\n",
       "14. (a in S) and (b in S)\n",
       "    core type: Operation\n",
       "    operator: 18\n",
       "    operands: 19\n",
       "15. card\n",
       "    core type: Literal\n",
       "    sub-expressions: \n",
       "16. !=\n",
       "    core type: Literal\n",
       "    sub-expressions: \n",
       "17. (a, b)\n",
       "    core type: ExprTuple\n",
       "    sub-expressions: 25, 26\n",
       "18. and\n",
       "    core type: Literal\n",
       "    sub-expressions: \n",
       "19. (a in S, b in S)\n",
       "    core type: ExprTuple\n",
       "    sub-expressions: 20, 21\n",
       "20. a in S\n",
       "    core type: Operation\n",
       "    operator: 23\n",
       "    operands: 22\n",
       "21. b in S\n",
       "    core type: Operation\n",
       "    operator: 23\n",
       "    operands: 24\n",
       "22. (a, S)\n",
       "    core type: ExprTuple\n",
       "    sub-expressions: 25, 27\n",
       "23. in\n",
       "    core type: Literal\n",
       "    sub-expressions: \n",
       "24. (b, S)\n",
       "    core type: ExprTuple\n",
       "    sub-expressions: 26, 27\n",
       "25. a\n",
       "    core type: Variable\n",
       "    sub-expressions: \n",
       "26. b\n",
       "    core type: Variable\n",
       "    sub-expressions: \n",
       "27. S\n",
       "    core type: Variable\n",
       "    sub-expressions: "
      ]
     },
     "execution_count": 4,
     "metadata": {},
     "output_type": "execute_result"
    }
   ],
   "source": [
    "# display the expression information\n",
    "distinctPairExistence.exprInfo()"
   ]
  },
  {
   "cell_type": "code",
   "execution_count": null,
   "metadata": {},
   "outputs": [],
   "source": []
  }
 ],
 "metadata": {
  "kernelspec": {
   "display_name": "Python 3",
   "language": "python",
   "name": "python3"
  },
  "language_info": {
   "codemirror_mode": {
    "name": "ipython",
    "version": 3
   },
   "file_extension": ".py",
   "mimetype": "text/x-python",
   "name": "python",
   "nbconvert_exporter": "python",
   "pygments_lexer": "ipython3",
   "version": "3.7.3"
  }
 },
 "nbformat": 4,
 "nbformat_minor": 1
}
