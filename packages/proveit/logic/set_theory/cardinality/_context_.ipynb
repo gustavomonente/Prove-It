{
 "cells": [
  {
   "cell_type": "markdown",
   "metadata": {},
   "source": [
    "Context: <a href=\"../../../_context_.ipynb\" class=\"ProveItLink\">proveit</a>.<a href=\"../../_context_.ipynb\" class=\"ProveItLink\">logic</a>.<a href=\"../_context_.ipynb\" class=\"ProveItLink\">set_theory</a>.cardinality\n",
    "========\n",
    "\n",
    "The cardinality of set $S$, $|S|$, is the number of unique elements of $S$ if $S$ is a finite set. The cardinality of infinite sets are specially defined quantities such as $\\aleph_0$ that are appropriately defined where these infinite sets are defined (see `proveit.numbers.sets`)."
   ]
  },
  {
   "cell_type": "code",
   "execution_count": 1,
   "metadata": {},
   "outputs": [
    {
     "data": {
      "text/html": [
       "<table><tr>\n",
       "<th><a class=\"ProveItLink\" href=\"_common_.ipynb\">common expressions</a></th>\n",
       "<th><a class=\"ProveItLink\" href=\"_axioms_.ipynb\">axioms</a></th>\n",
       "<th><a class=\"ProveItLink\" href=\"_theorems_.ipynb\">theorems</a></th>\n",
       "<th><a class=\"ProveItLink\" href=\"_demonstrations_.ipynb\">demonstrations</a></th>\n",
       "</tr></table>\n"
      ],
      "text/plain": [
       "<IPython.core.display.HTML object>"
      ]
     },
     "metadata": {},
     "output_type": "display_data"
    }
   ],
   "source": [
    "import proveit\n",
    "%context"
   ]
  },
  {
   "cell_type": "code",
   "execution_count": null,
   "metadata": {},
   "outputs": [],
   "source": []
  }
 ],
 "metadata": {
  "kernelspec": {
   "display_name": "Python 3",
   "language": "python",
   "name": "python3"
  }
 },
 "nbformat": 4,
 "nbformat_minor": 0
}
