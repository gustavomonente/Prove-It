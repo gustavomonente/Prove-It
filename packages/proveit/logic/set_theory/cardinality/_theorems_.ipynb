{
 "cells": [
  {
   "cell_type": "markdown",
   "metadata": {},
   "source": [
    "Theorems for context <a href=\"_context_.ipynb\" class=\"ProveItLink\">proveit.logic.set_theory.cardinality</a>\n",
    "========"
   ]
  },
  {
   "cell_type": "code",
   "execution_count": 1,
   "metadata": {},
   "outputs": [
    {
     "name": "stdout",
     "output_type": "stream",
     "text": [
      "Defining theorems for context 'proveit.logic.set_theory.cardinality'\n",
      "Subsequent end-of-cell assignments will define theorems\n",
      "'%end theorems' will finalize the definitions\n"
     ]
    }
   ],
   "source": [
    "import proveit\n",
    "# Automation is not needed when building theorem expressions:\n",
    "proveit.defaults.automation = False # This will speed things up.\n",
    "from proveit.logic import Forall, Exists, Implies, Equals, NotEquals, Card, Set, Distinct\n",
    "from proveit.number import GreaterEq, num\n",
    "from proveit._common_ import a, b, n, N, S\n",
    "from proveit.core_expr_types import Len\n",
    "from proveit.core_expr_types._common_ import x_1_to_n\n",
    "from proveit.number import NaturalsPos\n",
    "%begin theorems"
   ]
  },
  {
   "cell_type": "markdown",
   "metadata": {},
   "source": [
    "**The cardinality of an enumerated set of unique elements is the number of these unique elements:**"
   ]
  },
  {
   "cell_type": "code",
   "execution_count": 2,
   "metadata": {},
   "outputs": [
    {
     "data": {
      "text/html": [
       "<strong id=\"enumSetCard\"><a class=\"ProveItLink\" href=\"_proofs_/enumSetCard.ipynb\">enumSetCard</a>:</strong> <a class=\"ProveItLink\" href=\"__pv_it/5e2ec4f2ef3cdad82e78fa51a3d58e5fff32a8da0/expr.ipynb\"><img src=\"data:image/png;base64,iVBORw0KGgoAAAANSUhEUgAAAmQAAAAZBAMAAABtHC+5AAAAMFBMVEX///8QEBCIiIhmZma6urrM\n",
       "zMxUVFQiIiJERETc3Nzu7u6qqqp2dnaYmJgyMjIAAAAcRTyBAAAAAXRSTlMAQObYZgAABiRJREFU\n",
       "WMPtmW9oHEUUwF8uu3t3e7uXfGg/1CCcCUlLjGYxSJE2clEwikKvEaRooUc0iIJ62NJoWmrwixel\n",
       "9PzDNVRqtvmQpvFPTyRqA4VrLiqkjZ40IkqD50dFZTEoGkWdf7u3t3u7exvIGcSB7Lydm3kz89uZ\n",
       "N29eALyTMPws/J9o4oaP1lIt+C8O8UHylHv9teJvUU2tberWlXiqErKbGlm4CAs4F3/wvRi2kmzB\n",
       "Wk4LTvtTdoE8pTgVslDC2YoHsij51MV6I5tmc5Q1301vd0EmjvrTJWQYMiJk4TJ+/d4DmZRDWVSt\n",
       "N7Lv2ByllO+mn7ggi2b86RJLDBkRsjCON8CoBzJSYbzexGRlY5Bd9atsniEjQpasHbKIXG0ZXoaX\n",
       "640smNkYZL7P/zM6sjMEmbw4M3PS0/xfm5k5l6o3spOwIcjCvrVF4wwZFtCJ+Vs6fdQTWVM6/UK+\n",
       "3sjaKpBNdrzWFXM1Oa2P3TGvv1xyRhZQLHWrJnN3ksKQYQEhGwIYq9IkX4FMSEDIj9E853xUhL38\n",
       "H0M6rk9aQGZXzMtPB0tuDd+CL2PH9Jdvysikn0hS9IJQ0VK3Kn9zd3KJIcMCQnYnOxEsSalAxinw\n",
       "Tk2s4jTrzsn68pdTjt+iaorEdemIPul3E2jEqrTGZYB3PqkW4TP1HmMvKY6rLJgz6u5zVMa6Y0NK\n",
       "MWRYyGIgAbPDxR9cgBuSVmSQgptqQsZmFM1xSQaICWQchpPjlm7ThS1sjvuwvRYhhHTzPc6GSIW0\n",
       "6e3RmBOyhrhe9/6dzquMdKcz0RgyLCBkUrHs3b9Z6IUPJbVRtSFbgpQfZCH9DK5YwNgj3u+pYsqK\n",
       "DPoS+NmEIXBuw/jZ1FUS3JCxuv0uyppijsjCpQcMR+ilUypcjCkSFHoO9uTMyN7gk/6QidRlbgax\n",
       "vKywTR7yPp8y1o0pEK0HEh7I+F/Kst2WJc0bk9V1Q0a6Y9cvfWNydGPC2CP43jvQhs0aSrOzr0g2\n",
       "WwahLD4w2gbsM64sJJMLLN2cm9ag9Vrs/T8Xp7XwtwMdAFcKrz91RcWLdf7WjoSLGsNOHDefmBG1\n",
       "GwKqG7K5gAadcPWLVsX9xMTmn9Z1QUa7o1hs5h/eQ6OQ+4oNGbqLZqW399uRRfC27xRKh0CwHIak\n",
       "sBLZbmjIiRqXD8d4tMo0mMhFc0JeyO8lTlFAfTIYh8fBSU1EX88FM7I9uRP4Oo2RnccH6F9ABeON\n",
       "+yOkoXv88vWwzd0vQ54Cq4uRGYqIYLzR7igWaMwzZFjIsk17ajs0qSLBNAv5gh0Z2fuJaBH4SxZk\n",
       "uLASmbiGzL+ohVfnVIrsvCrEJlAzhIwbRV7Ej8ikXQdOajjd7vabkU21TvYWKbLgCCo7jAeW1B/D\n",
       "KoiDnW0rEJ5MwZo7MqSC1qU9oKZUB9ZI1Y7o3REsyFQkdFc2QZHJmMEg9AH/TDr9PEJ2OlgF2dfE\n",
       "JCLkQavL1ZSxIOM0ggzu/jvOkIEQ2wMUGR7c7+hvBJzU8CWXCxPZmHNV9pERdohxzTVfmPormpa3\n",
       "uCFhLABn9QvTWXO8bCvs5iFJVxk3gL96tXjZAVRsQ4YK5V0r+TKyMF1lfCaS4ptlhmwig5EVsV/F\n",
       "a3wVZIYawyspX8ubK5HZXTvJkBoSjflErdfy/oqmVVxHgsV6LWcuuQaHZuEjLC6jG2X1EGNY+xRp\n",
       "Q8jCL8K4yh6kMLJD90FG6bd5uShqEQVGRe0hbMsQMkERY+f5nJiCCakkEWQOamRjxGP2eBl2JkX7\n",
       "vWnSkCYgeG/CPV5Wvsd8UNHU8MkM/RSLNfjDPl4SuorEm+KOxUGojkx84r4uFSPjW2Bvht+GHy20\n",
       "cEj3ykkmLW1vmVqNzHdl4GNlalU8kfz8CBRaQXoYo5panl8kyBzUNMatIUYworLhnb/GQLavi7I5\n",
       "vQud12gWW2oJMb763KC5qeFrldc0xaKHGEMZeyB7B7JlXoFsvDEj5a9Os1RgucIvc043snwEnNRE\n",
       "zYHsdvrzOmP/7dYf2tcTyP6K+j4JKviP/fPdu/RoeDkuLiYjSzUiC9FsYDXnpOYibOq0zn+XFKtI\n",
       "NSLjih5qROW/gMzH/zG953vB4/eAupmBccOH/wF0OAi+eOKjDAAAAABJRU5ErkJggg==\n",
       "\" style=\"display:inline;vertical-align:middle;\" /></a><br>"
      ],
      "text/plain": [
       "enumSetCard: forall_{n in NaturalsPos} [forall_{x_{1}, ..x_{_a}.., x_{n} | distinct(x_{1}, ..x_{_a}.., x_{n})} (|{x_{1}, ..x_{_a}.., x_{n}}| = |(x_{1}, ..x_{_a}.., x_{n})|)]"
      ]
     },
     "execution_count": 2,
     "metadata": {},
     "output_type": "execute_result"
    }
   ],
   "source": [
    "enumSetCard = Forall(n, Forall(x_1_to_n, Equals(Card(Set(x_1_to_n)), Len(x_1_to_n)), \n",
    "                               conditions=[Distinct(x_1_to_n)]),\n",
    "                    domain=NaturalsPos)"
   ]
  },
  {
   "cell_type": "markdown",
   "metadata": {},
   "source": [
    "**If there are two or more elements in a set, there exists a pair of elements in the set that are not the same:**"
   ]
  },
  {
   "cell_type": "code",
   "execution_count": 3,
   "metadata": {},
   "outputs": [
    {
     "data": {
      "text/html": [
       "<strong id=\"distinctSubsetExistence\"><a class=\"ProveItLink\" href=\"_proofs_/distinctSubsetExistence.ipynb\">distinctSubsetExistence</a>:</strong> <a class=\"ProveItLink\" href=\"__pv_it/5454aae98b064aeb4b18d52e8947f8ca4f951a370/expr.ipynb\"><img src=\"data:image/png;base64,iVBORw0KGgoAAAANSUhEUgAAAnIAAAAZBAMAAABHrN4WAAAAMFBMVEX///8QEBCIiIhmZma6urrM\n",
       "zMxUVFQiIiJERETc3Nzu7u6qqqp2dnaYmJgyMjIAAAAcRTyBAAAAAXRSTlMAQObYZgAABvhJREFU\n",
       "WMPdmX9sk0UYx7+0ffvj7dvOKMYgECsLiBOlOA3gQAsmooKhLHH6B2GVuJERMcURikhwGoUCQRox\n",
       "MEmQN1tEnNPVyBRQpGyYCGzY8CMSA1oTNcEEM2AiAxHv7n37/ujb9qVdBMctu/fufe95nvf93HP3\n",
       "3F0B8zQvEkN/kj3yMm6gNC2SgC2y7GqahvtpyoEbK7lCJNtwjci53iXpOnzk+0+aUUgWpM8dU8ml\n",
       "6I2TJuS89OJJFk/OWltb+5x47cl93QvXcBXTcEODbQUqrFPJHaT1303ICXFy8Yr9G6322HUYWL3g\n",
       "/paKNihFOQXI/6kCFX6ikmukxQYTcqxBIwYeOfQqpebMR7yfjCN/gfoEn0KOehJzqbzzHHXKgwOb\n",
       "3JHMR5Sao9B34m9SyHkOtLRsNI0QJ1paPgwPTHKup6W5/RzSRTntIeQ2FqzwFzW2XohGl5mSK4lG\n",
       "VyYGHLnWjpG9aDwP7p7DqSN/lcdJcc4tlaPIgGvuqvA8Ul+BUtKqadQ7Y3x5/WxE3dSOdKVTJVcD\n",
       "rMrSPKEjZw/CGesHOSESibxatAIzwWCOLx4KgYzW32gADaMetIglPlcfXEMxK+YgPreWtEp4XnKk\n",
       "8nYAvvctT1d+VMk9Cj6bnF9HzuZnUYXrOniMev66JKYNkwOWnM/u2h20KSI7LsO2MFGcz1FN6dDH\n",
       "csFMYnv6RfSmnSkaW7ECU0T4GLkVwGvAZXhT+DRIyb1CtIvCRVsMXO4oeQDfiU+kK1+o5BywaBdq\n",
       "XP0+3BnKJEf+7wWl7O6hd46HYWFf54ScE7R7yNVWJ8++K4GRxY1WpommhnReZyZijckvojfdlgDP\n",
       "yDku3I00ubeAs2ijX0fJDSY+ByexwZXnnsZFRNVKtUpOSKq7o486J2OHIFpFA7luli+Vv2d/L6zQ\n",
       "kXOIJCfX9TVS8N4SUDVcNTn+q/KkpElLjjOdYPmQhpxqutonk+MPXfGnyUUpuWqfSo5M4rRmyxcA\n",
       "z2Yl50pVKd21ZpOI3T6/gM7y+vK4ltx7HG3eB7C7iWgmuZIY3Ky2/k32+qQfCyd3fGeLrElLzh40\n",
       "9dNTWnKK6bY0uU3w9BJyPoWc7HMWOloJjKAJOe5PzX5fs29d9TxhNrmylA5Gktrb3xYM8xycG+i0\n",
       "8/M+qY99M2NNenLeYQG51voGjVe2Pt5nJNfx4CgDBqG0skYZp5A1ack5tG2yCpKZRCWnmvY2yPPc\n",
       "VGABiQ5+hRyZ5xD3hqw0QrjFsbCI+cjtsvSgDEeOjfDrIwQ+IzKeKclBMWkP2y58PNtIzj2ercPv\n",
       "YO7tJrPrdj05ftyZgFxrJcvmdtS7AwZyFvFFRwDz9e9VZk8tkkpeqVuoJi25jXIbu5hLEJ8T0/Yo\n",
       "SWu1pl2DYT1LWZEIsQoPk0+KyuTIBlaIWVNWusaYGV+HzZLPtREA/D+Qs3TNdsnZ40ri6HAMIXcn\n",
       "acjRYb7pLpSIPKPVjkSnkZw81F3zWG/DczGhJ0dUheXafUm6pvmpVbsq8ZJVyUKRw2kSOm/PWFJ4\n",
       "kxn7ow1hHbnHpTbcXjGXIGni1CynFNPN3SPPhKquzJ9x+EQA9hdipFh1pWbHmRC23r8fqN1Px97W\n",
       "EU2TkxI5B5nHsRhy5qCAIiL4uWWlJ+FqCuMiufGrhpyHvtFcTAG3JBp9nZDb7MhC7gd6ZkM6gsUy\n",
       "4Ga/jhwfBN/DavzoOJMeVJrtfK5PCjO6VJKe/54hTuOTNGnJPSa3cYi5BDFHQ05n2nSpqahgo3WX\n",
       "8VhJMWr32cjOiw9nns/dikkcQpLP2Sr1q0tlBvgSqJJ8Dnv1PueOg2MBjv82IHW8MCwLOa6HM5Kr\n",
       "RtBTcZLos7NXZZq05J6V2hjJKYIELhmtf5B0OsO0WVJ3/IycMYqra8lBQWsiqN3xy6cxPVjUjm9o\n",
       "8SjZpeY42ZwAfjUaRUwnvhfXkbM2YBtdTfATGDhbHPwlI7ktQkpg5BpF12qWkb+eQ0i4R1MjAu0t\n",
       "SZOW3AdgbRi57ILkhRWf05s2Tcr2yR2mkc/wvEkpbYFjelB7yiTbC2FMEk6Cw7Y8IHV+FnITJ3WK\n",
       "mBW33hagi08dufVdD9ErJ7nqODJ1TzSS23q04wAjNyvODSH7H24IN5RfMGOMiBq2hF9DyTFNutgq\n",
       "Sm0ouRyCD6jk9KZNU/pk0zX+vA8e43N1k/AYLN0S6Wyn6aPJPGd6mq49ktJECM01/+8QS7U63LIJ\n",
       "C3F1WMg8p7ZLk7PIjdlozS6YymXa/OizsINuT6wfv0O4Y/0jV3kurtGxU94EuLsNYsruSypwYyuQ\n",
       "Q9CdLJpcUbSLJKdz6UxybrqoWp3f53Q68nS5Qu4pM8Fm/E/JRXL/3mrV5Oo1k1xxv7f607nbbNtW\n",
       "ltP0f5GmRUKwRRb/C0JnGfeUU/t2AAAAAElFTkSuQmCC\n",
       "\" style=\"display:inline;vertical-align:middle;\" /></a><br>"
      ],
      "text/plain": [
       "distinctSubsetExistence: forall_{n in NaturalsPos} [forall_{S, N | |S| >= N} [exists_{x_{1}, ..x_{_a}.., x_{n} in S | |(x_{1}, ..x_{_a}.., x_{n})| = N} distinct(x_{1}, ..x_{_a}.., x_{n})]]"
      ]
     },
     "execution_count": 3,
     "metadata": {},
     "output_type": "execute_result"
    }
   ],
   "source": [
    "distinctSubsetExistence = Forall(n, Forall((S, N), \n",
    "                                           Exists(x_1_to_n, Distinct(x_1_to_n), domain=S,\n",
    "                                                  conditions=[Equals(Len(x_1_to_n), N)]),\n",
    "                                           conditions=[GreaterEq(Card(S), N)]),\n",
    "                                 domain=NaturalsPos)"
   ]
  },
  {
   "cell_type": "code",
   "execution_count": 4,
   "metadata": {},
   "outputs": [
    {
     "data": {
      "text/html": [
       "<strong id=\"distinctPairExistence\"><a class=\"ProveItLink\" href=\"_proofs_/distinctPairExistence.ipynb\">distinctPairExistence</a>:</strong> <a class=\"ProveItLink\" href=\"__pv_it/44709844527d13a8fe733d0d7861417c11ad2eb40/expr.ipynb\"><img src=\"data:image/png;base64,iVBORw0KGgoAAAANSUhEUgAAAQAAAAAWCAMAAAAYVLJmAAAAOVBMVEX///8kJCQNDQ0oKCgQEBCI\n",
       "iIhmZma6urrMzMxUVFQiIiJERETc3Nzu7u6qqqp2dnaYmJgyMjIAAAD9T1yxAAAAAXRSTlMAQObY\n",
       "ZgAAA0RJREFUWMPVWNmS3CAMdBJzI67//9hwmNvg2c1OqkYPU2D3gGhaQvg43m3IWiqzvWF8afbv\n",
       "NczPVHLEWE4OW54a8xYCNDkOzJKd8OPDg3jgx7bYk6cWk8U5rfJrC28jIBv7eQnYhyEZ6dD4osIW\n",
       "52RmUIrjAwkw+EEA/apc3m6NinN546sUPokA/iQA2vaIyyqHszhnNAST/PhAAp68HgSgK9yS4pwT\n",
       "wbj+RAJQjgCJNUZzjhW0TxgMIZyUrnFxLqlEXL5RrbUy5X9tCiEDgsyLxQLDDQGaJ3NrAtp5ibV7\n",
       "QF3gdXKR049sXZ3URvvzO/yWNAHOxzskJ4wtBBDcpMXYUXWkVkJiQIQ+aTdV+zaz31JAP6/GD4CS\n",
       "AtQV0YEILB4EoGIKcDH/KV6dC010UcmhX/ZMQEWIpL2aZ0JGouMu7wgApTE287xWPQCynWlwHFfG\n",
       "0Sga1vexjTKIwU5ddU6bREI8J6KLakNARYgcfploX1cd0pGXCTBCSYCbeTOJS8BAwCniyugogIHv\n",
       "GAwkHYUtAb5YKlzZU3cLmAmoiPIOtCC9zHYEAEbM0qzqu3mpQ4jBBjCEQNrUNj5iDvh1pkxQdOBM\n",
       "UctBmhDwTJV6CfDpTrIjoCKad6BzOTHpcCQAOPUrDOg2W3TzIq/3kN+XgCEJQtxUn32U3BaJQZwp\n",
       "XXRJ0HOH2+NUMr4joCJEe+Mxq/Q1EoA9gvK4pOHMLvMKFB1cA5pjp/6Bs0NPabOviryT4nqKdeuc\n",
       "u7YNaCJ0TUCLyO8ACbWuTGO1eR2D4aA+PRYFVVIeC5Dg/DDvGe9PG0BdZKIE/PlOJUN93T9VBT74\n",
       "dL7xxSAsBJgLq9SYPEcCWoSYEgDxtBK6VkBchAzKDamtTjPM6y6eloBXSmG1vSUAv3MunaQgYE1A\n",
       "i4hNLJrkZZVSArYEHL5koY6EjdB0nleGH58CjFgAXr4M7S+3zWWoI8BXlLqr5SYCGkTo03a/Txfs\n",
       "2BNAGFIone0lcuqoNOw8ZTpF8w3geDjqigC2pX1zHX4wsWjf9Z/vAlMpf4V45/kT4LUPInsBCPn/\n",
       "CEDc0i9cb9RX70uLT2LblRl5nV38nwlQItsPfU96z3e57xtetO/6H2l/AakpKtM7jYzfAAAAAElF\n",
       "TkSuQmCC\n",
       "\" style=\"display:inline;vertical-align:middle;\" /></a><br>"
      ],
      "text/plain": [
       "distinctPairExistence: forall_{S | |S| >= 2} [exists_{a in S, b in S} (a != b)]"
      ]
     },
     "execution_count": 4,
     "metadata": {},
     "output_type": "execute_result"
    }
   ],
   "source": [
    "distinctPairExistence = Forall(S, Exists((a, b), NotEquals(a, b), domain=S),\n",
    "                               conditions=[GreaterEq(Card(S), num(2))])"
   ]
  },
  {
   "cell_type": "code",
   "execution_count": 5,
   "metadata": {},
   "outputs": [
    {
     "name": "stdout",
     "output_type": "stream",
     "text": [
      "Theorems may be imported from autogenerated _theorems_.py\n"
     ]
    }
   ],
   "source": [
    "%end theorems"
   ]
  },
  {
   "cell_type": "code",
   "execution_count": null,
   "metadata": {},
   "outputs": [],
   "source": []
  }
 ],
 "metadata": {
  "kernelspec": {
   "display_name": "Python 3",
   "language": "python",
   "name": "python3"
  }
 },
 "nbformat": 4,
 "nbformat_minor": 0
}
