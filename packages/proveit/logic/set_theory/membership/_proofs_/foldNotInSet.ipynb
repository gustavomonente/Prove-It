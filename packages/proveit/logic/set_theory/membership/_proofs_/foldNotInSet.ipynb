{
 "cells": [
  {
   "cell_type": "markdown",
   "metadata": {},
   "source": [
    "Proof of <a class=\"ProveItLink\" href=\"../../../../_context_.ipynb\">proveit</a>.<a class=\"ProveItLink\" href=\"../../../_context_.ipynb\">logic</a>.<a class=\"ProveItLink\" href=\"../../_context_.ipynb\">set_theory</a>.<a class=\"ProveItLink\" href=\"../_context_.ipynb\">membership</a>.<a href=\"../_theorems_.ipynb#foldNotInSet\" class=\"ProveItLink\">foldNotInSet</a> theorem\n",
    "========\n",
    "*** see <a href=\"../__pv_it/37a0e0955551f7186966242f3c5b5edd6b57745c0/dependencies.ipynb\" class=\"ProveItLink\">dependencies</a> ***"
   ]
  },
  {
   "cell_type": "code",
   "execution_count": 1,
   "metadata": {},
   "outputs": [],
   "source": [
    "import proveit\n",
    "from proveit._common_ import x, S\n",
    "from proveit.logic.set_theory.membership._axioms_ import notInSetDef\n",
    "context = proveit.Context('..') # the theorem's context is in the parent directory"
   ]
  },
  {
   "cell_type": "code",
   "execution_count": 2,
   "metadata": {},
   "outputs": [
    {
     "name": "stdout",
     "output_type": "stream",
     "text": [
      "Beginning proof of foldNotInSet\n",
      "Recorded 'presuming' information\n",
      "Presuming proveit.logic.equality.lhsViaEquivalence theorem (applied transitively).\n",
      "Presuming previous theorems (applied transitively).\n"
     ]
    },
    {
     "data": {
      "text/html": [
       "<strong id=\"foldNotInSet\">foldNotInSet:</strong> <a class=\"ProveItLink\" href=\"../__pv_it/6f45a4aff26bdd573e92f9e88158acc769f261470/expr.ipynb\"><img src=\"data:image/png;base64,iVBORw0KGgoAAAANSUhEUgAAALwAAAAXCAMAAACGTNW0AAAAQlBMVEX///9jY2MJCQkNDQ0rKysP\n",
       "Dw8WFhYQEBCIiIhmZma6urrMzMxUVFQiIiJERETc3Nzu7u6qqqp2dnaYmJgyMjIAAADRR/RZAAAA\n",
       "AXRSTlMAQObYZgAAAq5JREFUWMPNV1eS5SAMZKPJCAH3v+qSbILj25l6M/5wlQ0SLdFqBCHf+hHf\n",
       "Gp1xl8PqbMCa9Pbbt3Pvxw76OvFyxswQkThOiEzo0a4DHt4P3pvLYcbHb+1ywCG9U9bNGrvR78fu\n",
       "GHmFNaxMd5ktSLuEty1436MuEu+0+vtH+Z5jodQvp/lrSZMQ0mPUF1Tr+ZpCUyB6jI2HUpWixOAT\n",
       "p4JOj8KP4fgf2aMra4BSaTjNTCg/Eh/AT9UdAnZOMFnL/EMfLi9icVu3WfAzYBeRby7szlpXfYNo\n",
       "7hQljSRZSyidgw3xkSvQTH3OyD7KCjYN2dBWOwEozxPfuWDzLFXLDGOaMQDhZlhoL3/g5BKW+tuq\n",
       "tabpocgrGCHrs+TuVrHImJtcwKzaS92LNEX3vsXivf/9K772OWWhhixyRtCdHWUhp8LegZdipxTW\n",
       "AOxczKq+dEQKPUeybM/yhyvzB/DGb0cZUiZow+IXHIiqL+V4M+adfPcu5u1VDZ4IQwKWvciv+yZC\n",
       "pQ0vE7SRZYEoT9ITta0GLFKM34GviteMB3HuXFh5XLAWYi0WDys36JCBPGmpQ9gXbOoY1KZmfsqO\n",
       "keoQPOryRA9cj8bATlzwKXhkVb8tSUd+36QpO3ORqTwbtwSsUXSEC42XIArHLjMffXE5GgtV4qKz\n",
       "CzGVX914kJQCZUNjCPInH8WGxXWYlI1pvkbnoHGvnSbWzp3dMXihJ+NmMbrg8nl74H6gVkr584Z0\n",
       "qgkTCPpc1kbHcJjOPRzcgS9umjFp5+DowuHzxkzfndlI54J2HGk6MsRi06ESu2cG12pjVi1vxnHe\n",
       "urmjC8YfQ4S7Hhf8xeBhj3nike4m08r5qXt/jpHe3YyudsaaF8CTZ1cB655fA+88uitWuZdc8ic3\n",
       "SGBfe11mr23UxIRPv2b+A8Z5JBNFOxcPAAAAAElFTkSuQmCC\n",
       "\" style=\"display:inline;vertical-align:middle;\" /></a><br>(see <a class=\"ProveItLink\" href=\"../__pv_it/6f45a4aff26bdd573e92f9e88158acc769f261470/dependencies.ipynb\">dependencies</a>)<br>"
      ],
      "text/plain": [
       "foldNotInSet: forall_{x, S | [not](x in S)} (x not-in S)"
      ]
     },
     "execution_count": 2,
     "metadata": {},
     "output_type": "execute_result"
    }
   ],
   "source": [
    "%proving foldNotInSet presuming [proveit.logic.equality.lhsViaEquivalence]"
   ]
  },
  {
   "cell_type": "code",
   "execution_count": 3,
   "metadata": {},
   "outputs": [
    {
     "data": {
      "text/html": [
       "<span style=\"font-size:20px;\"> <a class=\"ProveItLink\" href=\"../_axioms_.ipynb#notInSetDef\" style=\"text-decoration: none\">&#x22A2;&nbsp;</a><a class=\"ProveItLink\" href=\"../__pv_it/d518e2b0c234f862021ce59e5cce1417beaf76c10/expr.ipynb\"><img src=\"data:image/png;base64,iVBORw0KGgoAAAANSUhEUgAAAQIAAAAWCAMAAAAcoWJbAAAAQlBMVEX///9jY2MJCQkNDQ0rKysP\n",
       "Dw8WFhYQEBCIiIhmZma6urrMzMxUVFQiIiJERETc3Nzu7u6qqqp2dnaYmJgyMjIAAADRR/RZAAAA\n",
       "AXRSTlMAQObYZgAAAt5JREFUWMPlWO2y1CAMRa9aoHwEKO//qlLa0gZIy65endH82DO7sBwIyYHA\n",
       "2CfazP5dswEjYZr43dnXaMYbHuwgxriU9jA8LhiMVBCoagLCe8+CZEzZV2jGG6iVN8QIvTs6LjA6\n",
       "5GIxEiYk+mpCnn1cP5dXaMYb+tYhRmgPj9ph1waBcSwPxNY7ZHLPx2nGG4id6BEjPDb/DIcn0xZj\n",
       "d5pG//iuL5sNcRNHmblhGqcZb9h4k12DrE+MMHhYzephLdQYeypgODCDZirjJjXzNqFFjtKMN+y8\n",
       "lRHECKNZTftRF3CBEThXVvJLbMMaWVW+Q4z+ckh6MUpDNhC8jXb2iRGq3MF0o2tOUurC3KrLiZB8\n",
       "FzRnl+jLOsurdOcxWTkKwtnbLxcTDU1f3Wje1mVdYoRSkBqdm1ysUtEh9MnzPgKTJ7/pHjAQ1BSn\n",
       "/Vf3mHf78EIX80O8nTjoEWNcP3jX5xo6I08S4drFoC7zlLbz28e6qY06x91/c3xywVSrhVUjvJux\n",
       "R2KMPlAXuZg97G5dkPuhoM/Ha3XA+CMxf5sLCN7aKGKMdikXOc/FzFXJ/WXykorQguswWC2m5lIA\n",
       "6ui5x6PUfS1QDU3jgnveOgko4gqNVdtK05GiFqbLskGkJJJ9OTrQQRKc7b8l6vimIpcr6j474Vs5\n",
       "vFe91gW3vM3dmCKu0AldSrsl1MR1juBjRaYIW++eqHLRTuH9ETp39mWTxeMZ3B6b8wBvowEUcY2X\n",
       "nIqnwMK8ZVF9TKAQAsU5cIFrLFBfJToQBJNKKHXOcHkspKW+bSB4DealiWsMcKbXWeY716v3hi7I\n",
       "4Ys31UUVp+jAXfStC7K85y3ENZagj0mbsohak5wiTK6w4I0yyTzUcn+yTOoS13jGUZCer3eOeUoR\n",
       "IGyqswXQCyQX+lTQjxXL5PDGvuuBbrFMPjP8ypMJD28u7nOeTOjNu5vI/dvW08PZwxTD33o4O4hr\n",
       "7Hdm/439BJP2M3paqy+JAAAAAElFTkSuQmCC\n",
       "\" style=\"display:inline;vertical-align:middle;\" /></a></span>"
      ],
      "text/plain": [
       "|- forall_{x, S} ((x not-in S) = [not](x in S))"
      ]
     },
     "execution_count": 3,
     "metadata": {},
     "output_type": "execute_result"
    }
   ],
   "source": [
    "notInSetDef"
   ]
  },
  {
   "cell_type": "code",
   "execution_count": 4,
   "metadata": {},
   "outputs": [
    {
     "data": {
      "text/html": [
       "<strong id=\"notInSetDefSpec\">notInSetDefSpec:</strong> <span style=\"font-size:20px;\"> <a class=\"ProveItLink\" href=\"../__pv_it/d04f07c2b3bf0c0971b733181b5bcd568d2663600/proof.ipynb\" style=\"text-decoration: none\">&#x22A2;&nbsp;</a><a class=\"ProveItLink\" href=\"../__pv_it/b9bf713568a711a5413a9b48ed6200ab7ef87bc70/expr.ipynb\"><img src=\"data:image/png;base64,iVBORw0KGgoAAAANSUhEUgAAAL8AAAAVCAMAAAAgs8+8AAAAQlBMVEX///9jY2MJCQkNDQ0rKysP\n",
       "Dw8WFhbMzMxUVFR2dna6uroQEBCqqqqIiIgiIiJmZmYyMjJERETu7u6YmJjc3NwAAABtKQr7AAAA\n",
       "AXRSTlMAQObYZgAAAh5JREFUSMfNl+l6rCAMhulpewQUkO3+b7UIbgFDnOmaH/2eDpo3QhIjY6QN\n",
       "7I9b8N1ljfw+hU+6J7iM4G7qbH/7eXW7EUIwLxnjtx4AdU9wm7Ab7qpzPwwjwb/WZ3Rc/s53uKj7\n",
       "OTwS/gW3qDfsgfQx5WqfbxWK5qLuKS6juVl1Zxu81f/f9WmbXSzVLLMHN9Jg1D3BTUZyFw0az3yr\n",
       "HLMAI2OpuaG4myVZvPrRhZULDeEmVesxOqV4kOqUEm52TY67GMWpnwoyB5QhFhBuXevX3KS2PJgT\n",
       "6dS0YqdDy+WtqhRXMdneePxxtZhPZmDZofWIc5vHveQm1VPBp2cW0TF53JzbW7MXzvMxjuuvkybT\n",
       "v7g3ejcBFjBuewJX3KRjSaVlwYI7hzFt5Nvrsp1NM4jTek2k4h/rCgkcLCDcYiQ36QkQQa6ExauY\n",
       "gAOxZeOXxY9wK8O4SfUe4RDhpDM2zd/x7cr1HKW+zn9e508bf5/L7nGTrnU0uVQiS50c+W4Uk7B7\n",
       "TKtrI9r67ZdpG3+XW48OGDdpaUUynczybgYjlZ443Bmj88Vi397dIWpthx3OCwi3znuMm7QcheNK\n",
       "OWW8h8f2T4L2Y5jkhvPD/UzO1lJ3FxCuvcldtPMe9y/Cwvd4lZdk+3xyfpD3uFk7c5QlJsQfnN8u\n",
       "uUXRKKkB/d78jLq34cnw4fyMh6n8k5F9y/dLy90U+44j/Ptf+n7cuFk/AFtdJimSV+YnAAAAAElF\n",
       "TkSuQmCC\n",
       "\" style=\"display:inline;vertical-align:middle;\" /></a></span><br>"
      ],
      "text/plain": [
       "notInSetDefSpec: |- (x not-in S) = [not](x in S)"
      ]
     },
     "execution_count": 4,
     "metadata": {},
     "output_type": "execute_result"
    }
   ],
   "source": [
    "notInSetDefSpec = notInSetDef.instantiate({x:x, S:S})"
   ]
  },
  {
   "cell_type": "code",
   "execution_count": 5,
   "metadata": {},
   "outputs": [
    {
     "data": {
      "text/html": [
       "<span style=\"font-size:20px;\"><a class=\"ProveItLink\" href=\"../__pv_it/08bfd1e65a9582545190b6ecc11f1d429483df7e0/expr.ipynb\"><img src=\"data:image/png;base64,iVBORw0KGgoAAAANSUhEUgAAAGcAAAAVBAMAAACphe0AAAAAMFBMVEX///+IiIi6urrc3NxERETM\n",
       "zMwQEBCqqqpUVFQiIiJ2dnYyMjLu7u5mZmaYmJgAAABN0h6tAAAAAXRSTlMAQObYZgAAAZxJREFU\n",
       "OMtjYGDgu8dAPGC9eABE8exCEbXDrYHdAEgwpYKYfB+QJXgcsGuoXbXgEUMziHUbRHBNQJbkNsCq\n",
       "h+UBw5EPDKdBzJWYmt5it+gu0EUbGLgEsGuajMzh85w5G+Lor0DPCDDwJGDVxIzMYXU8AGUx/QPy\n",
       "AhgYNmHVxHgBaKxgs+JCEOf0AXjw/F8KptcC8TIQg2MDqocZTjG8FAC7qhkhLv//ByiEXgPxexC/\n",
       "DGjtzZlAMAvI4SxgYFjDsP6AMkgGKfR5XuTnAKlKUPgCHRMC97oFELMpMDAcYHCBeCl7NxDAZHm/\n",
       "A4l4EKsTGIZqAWiaGBg+QgIFYdMCoF0wTdwNID85IGkCOY+B9StEIAHuOKA61j9AhibMT/DQs4AG\n",
       "RA3jBwYZkMBFeKIDauddAA2IZSiaWEGcCwxM31k+MD9ggFkL9s9cBoYVIMYtrPHENIGBp1FG9h3E\n",
       "VS06UE1MvR1gA7YSkYyYlkCTEcxvE+CaEohIsBCASLCo+YnFAI+m0/D8xLCLmEwIBs4gJydBAvQe\n",
       "kdmdzwBaRgAASS1qmF5n3JMAAAAASUVORK5CYII=\n",
       "\" style=\"display:inline;vertical-align:middle;\" /></a> <a class=\"ProveItLink\" href=\"../__pv_it/a6525cbe0150941494182fb41a19e624cc882ae90/proof.ipynb\" style=\"text-decoration: none\">&#x22A2;&nbsp;</a><a class=\"ProveItLink\" href=\"../__pv_it/beb06f21ea9313aa3d1d72d88e2cf4aebfd6e0410/expr.ipynb\"><img src=\"data:image/png;base64,iVBORw0KGgoAAAANSUhEUgAAADMAAAAVCAMAAADciiYzAAAAQlBMVEX///9jY2MJCQkNDQ0rKysQ\n",
       "EBAPDw8WFhZmZmaqqqrMzMxEREQyMjIiIiKYmJh2dna6urrc3NxUVFSIiIju7u4AAAB85YEvAAAA\n",
       "AXRSTlMAQObYZgAAAPdJREFUOMuVU9t2xCAItJe0GBUMl///1arZNKF7NqfyQBIQZiBjCDe2hnkr\n",
       "8yUr++8IRBSw3tWAzyZsTpNNUAMYD8wvz2Mq31/lklfbN1Ll1SRJNKTtGqqGe2qUqghvVehsoFm7\n",
       "c23UjH53r9SYFAkXItwR5A8JsWa8Y1PrSaahnlRSdx3LIyEvtoxodym5aZac8+dHc087AovHqzke\n",
       "W+9A0R2mY6ojvJpX1vL0c5SPk4Nb1DZen/HkDxIqeNksjwzte4+h62HDqwIie2QoowfxA1VEBRA9\n",
       "lffq1gahMjDHO6nhG6VSSp65Bl43/zJN87dNcL7mHuYHMTkLlsNtzgkAAAAASUVORK5CYII=\n",
       "\" style=\"display:inline;vertical-align:middle;\" /></a></span>"
      ],
      "text/plain": [
       "{[not](x in S)} |- x not-in S"
      ]
     },
     "execution_count": 5,
     "metadata": {},
     "output_type": "execute_result"
    }
   ],
   "source": [
    "notInSetDefSpec.deriveLeftViaEquivalence([notInSetDefSpec.rhs])"
   ]
  },
  {
   "cell_type": "code",
   "execution_count": 6,
   "metadata": {},
   "outputs": [
    {
     "data": {
      "text/html": [
       "<table><tr><th>&nbsp;</th><th>step type</th><th>requirements</th><th>statement</th></tr>\n",
       "<tr><td><a name=\"-0x146d55b38b457da6_step0\">0</a></td><td>generalizaton</td><td><a href=\"#-0x146d55b38b457da6_step1\">1</a></td><td><span style=\"font-size:20px;\"> <a class=\"ProveItLink\" href=\"../__pv_it/a07086bb512a9ab4e1d65bed2283d71903cafc0d0/proof.ipynb\" style=\"text-decoration: none\">&#x22A2;&nbsp;</a><a class=\"ProveItLink\" href=\"../__pv_it/6f45a4aff26bdd573e92f9e88158acc769f261470/expr.ipynb\"><img src=\"data:image/png;base64,iVBORw0KGgoAAAANSUhEUgAAALwAAAAXCAMAAACGTNW0AAAAQlBMVEX///9jY2MJCQkNDQ0rKysP\n",
       "Dw8WFhYQEBCIiIhmZma6urrMzMxUVFQiIiJERETc3Nzu7u6qqqp2dnaYmJgyMjIAAADRR/RZAAAA\n",
       "AXRSTlMAQObYZgAAAq5JREFUWMPNV1eS5SAMZKPJCAH3v+qSbILj25l6M/5wlQ0SLdFqBCHf+hHf\n",
       "Gp1xl8PqbMCa9Pbbt3Pvxw76OvFyxswQkThOiEzo0a4DHt4P3pvLYcbHb+1ywCG9U9bNGrvR78fu\n",
       "GHmFNaxMd5ktSLuEty1436MuEu+0+vtH+Z5jodQvp/lrSZMQ0mPUF1Tr+ZpCUyB6jI2HUpWixOAT\n",
       "p4JOj8KP4fgf2aMra4BSaTjNTCg/Eh/AT9UdAnZOMFnL/EMfLi9icVu3WfAzYBeRby7szlpXfYNo\n",
       "7hQljSRZSyidgw3xkSvQTH3OyD7KCjYN2dBWOwEozxPfuWDzLFXLDGOaMQDhZlhoL3/g5BKW+tuq\n",
       "tabpocgrGCHrs+TuVrHImJtcwKzaS92LNEX3vsXivf/9K772OWWhhixyRtCdHWUhp8LegZdipxTW\n",
       "AOxczKq+dEQKPUeybM/yhyvzB/DGb0cZUiZow+IXHIiqL+V4M+adfPcu5u1VDZ4IQwKWvciv+yZC\n",
       "pQ0vE7SRZYEoT9ITta0GLFKM34GviteMB3HuXFh5XLAWYi0WDys36JCBPGmpQ9gXbOoY1KZmfsqO\n",
       "keoQPOryRA9cj8bATlzwKXhkVb8tSUd+36QpO3ORqTwbtwSsUXSEC42XIArHLjMffXE5GgtV4qKz\n",
       "CzGVX914kJQCZUNjCPInH8WGxXWYlI1pvkbnoHGvnSbWzp3dMXihJ+NmMbrg8nl74H6gVkr584Z0\n",
       "qgkTCPpc1kbHcJjOPRzcgS9umjFp5+DowuHzxkzfndlI54J2HGk6MsRi06ESu2cG12pjVi1vxnHe\n",
       "urmjC8YfQ4S7Hhf8xeBhj3nike4m08r5qXt/jpHe3YyudsaaF8CTZ1cB655fA+88uitWuZdc8ic3\n",
       "SGBfe11mr23UxIRPv2b+A8Z5JBNFOxcPAAAAAElFTkSuQmCC\n",
       "\" style=\"display:inline;vertical-align:middle;\" /></a></span></td></tr>\n",
       "<tr><td><a name=\"-0x146d55b38b457da6_step1\">1</a></td><td>instantiation</td><td><a href=\"#-0x146d55b38b457da6_step2\">2</a>, <a href=\"#-0x146d55b38b457da6_step3\">3</a>, <a href=\"#-0x146d55b38b457da6_step4\">4</a></td><td><span style=\"font-size:20px;\"><a class=\"ProveItLink\" href=\"../__pv_it/08bfd1e65a9582545190b6ecc11f1d429483df7e0/expr.ipynb\"><img src=\"data:image/png;base64,iVBORw0KGgoAAAANSUhEUgAAAGcAAAAVBAMAAACphe0AAAAAMFBMVEX///+IiIi6urrc3NxERETM\n",
       "zMwQEBCqqqpUVFQiIiJ2dnYyMjLu7u5mZmaYmJgAAABN0h6tAAAAAXRSTlMAQObYZgAAAZxJREFU\n",
       "OMtjYGDgu8dAPGC9eABE8exCEbXDrYHdAEgwpYKYfB+QJXgcsGuoXbXgEUMziHUbRHBNQJbkNsCq\n",
       "h+UBw5EPDKdBzJWYmt5it+gu0EUbGLgEsGuajMzh85w5G+Lor0DPCDDwJGDVxIzMYXU8AGUx/QPy\n",
       "AhgYNmHVxHgBaKxgs+JCEOf0AXjw/F8KptcC8TIQg2MDqocZTjG8FAC7qhkhLv//ByiEXgPxexC/\n",
       "DGjtzZlAMAvI4SxgYFjDsP6AMkgGKfR5XuTnAKlKUPgCHRMC97oFELMpMDAcYHCBeCl7NxDAZHm/\n",
       "A4l4EKsTGIZqAWiaGBg+QgIFYdMCoF0wTdwNID85IGkCOY+B9StEIAHuOKA61j9AhibMT/DQs4AG\n",
       "RA3jBwYZkMBFeKIDauddAA2IZSiaWEGcCwxM31k+MD9ggFkL9s9cBoYVIMYtrPHENIGBp1FG9h3E\n",
       "VS06UE1MvR1gA7YSkYyYlkCTEcxvE+CaEohIsBCASLCo+YnFAI+m0/D8xLCLmEwIBs4gJydBAvQe\n",
       "kdmdzwBaRgAASS1qmF5n3JMAAAAASUVORK5CYII=\n",
       "\" style=\"display:inline;vertical-align:middle;\" /></a> <a class=\"ProveItLink\" href=\"../__pv_it/a6525cbe0150941494182fb41a19e624cc882ae90/proof.ipynb\" style=\"text-decoration: none\">&#x22A2;&nbsp;</a><a class=\"ProveItLink\" href=\"../__pv_it/beb06f21ea9313aa3d1d72d88e2cf4aebfd6e0410/expr.ipynb\"><img src=\"data:image/png;base64,iVBORw0KGgoAAAANSUhEUgAAADMAAAAVCAMAAADciiYzAAAAQlBMVEX///9jY2MJCQkNDQ0rKysQ\n",
       "EBAPDw8WFhZmZmaqqqrMzMxEREQyMjIiIiKYmJh2dna6urrc3NxUVFSIiIju7u4AAAB85YEvAAAA\n",
       "AXRSTlMAQObYZgAAAPdJREFUOMuVU9t2xCAItJe0GBUMl///1arZNKF7NqfyQBIQZiBjCDe2hnkr\n",
       "8yUr++8IRBSw3tWAzyZsTpNNUAMYD8wvz2Mq31/lklfbN1Ll1SRJNKTtGqqGe2qUqghvVehsoFm7\n",
       "c23UjH53r9SYFAkXItwR5A8JsWa8Y1PrSaahnlRSdx3LIyEvtoxodym5aZac8+dHc087AovHqzke\n",
       "W+9A0R2mY6ojvJpX1vL0c5SPk4Nb1DZen/HkDxIqeNksjwzte4+h62HDqwIie2QoowfxA1VEBRA9\n",
       "lffq1gahMjDHO6nhG6VSSp65Bl43/zJN87dNcL7mHuYHMTkLlsNtzgkAAAAASUVORK5CYII=\n",
       "\" style=\"display:inline;vertical-align:middle;\" /></a></span></td></tr>\n",
       "<tr><td>&nbsp;</td><td colspan=4 style=\"text-align:left\"><span style=\"font-size:20px;\"><a class=\"ProveItLink\" href=\"../../../../__pv_it/390c91a44e60b16c95d2255652741252e8ec8d980/expr.ipynb\"><img src=\"data:image/png;base64,iVBORw0KGgoAAAANSUhEUgAAABAAAAAOBAMAAADUAYG5AAAAMFBMVEX///8iIiLc3Ny6urqIiIiq\n",
       "qqp2dnbMzMwQEBDu7u5mZmYyMjJERERUVFSYmJgAAAA4CJ/KAAAAAXRSTlMAQObYZgAAAF5JREFU\n",
       "CNdjYGB4+//s3V0TGIDgNwMDTyeQZv/GwMD6Bchg+QzEQA4DzwcGBl4gh4F/AwOD/gIgoz6BgVUM\n",
       "pMn/WtoSsO7zYBIIPkJp9l9QBsgYMOD+CaG59v91ANEANtEY7WfmSIAAAAAASUVORK5CYII=\n",
       "\" style=\"display:inline;vertical-align:middle;\" /></a> : <a class=\"ProveItLink\" href=\"../__pv_it/beb06f21ea9313aa3d1d72d88e2cf4aebfd6e0410/expr.ipynb\"><img src=\"data:image/png;base64,iVBORw0KGgoAAAANSUhEUgAAADMAAAAVCAMAAADciiYzAAAAQlBMVEX///9jY2MJCQkNDQ0rKysQ\n",
       "EBAPDw8WFhZmZmaqqqrMzMxEREQyMjIiIiKYmJh2dna6urrc3NxUVFSIiIju7u4AAAB85YEvAAAA\n",
       "AXRSTlMAQObYZgAAAPdJREFUOMuVU9t2xCAItJe0GBUMl///1arZNKF7NqfyQBIQZiBjCDe2hnkr\n",
       "8yUr++8IRBSw3tWAzyZsTpNNUAMYD8wvz2Mq31/lklfbN1Ll1SRJNKTtGqqGe2qUqghvVehsoFm7\n",
       "c23UjH53r9SYFAkXItwR5A8JsWa8Y1PrSaahnlRSdx3LIyEvtoxodym5aZac8+dHc087AovHqzke\n",
       "W+9A0R2mY6ojvJpX1vL0c5SPk4Nb1DZen/HkDxIqeNksjwzte4+h62HDqwIie2QoowfxA1VEBRA9\n",
       "lffq1gahMjDHO6nhG6VSSp65Bl43/zJN87dNcL7mHuYHMTkLlsNtzgkAAAAASUVORK5CYII=\n",
       "\" style=\"display:inline;vertical-align:middle;\" /></a>, <a class=\"ProveItLink\" href=\"../../../../__pv_it/dbe7145e53d9411a5ba89652cbfea9d54e4b581a0/expr.ipynb\"><img src=\"data:image/png;base64,iVBORw0KGgoAAAANSUhEUgAAAA8AAAASBAMAAAB2sJk8AAAAMFBMVEX///+qqqq6urrc3NwQEBAy\n",
       "MjJERERUVFTMzMwiIiKYmJh2dnZmZmaIiIju7u4AAABsX1SbAAAAAXRSTlMAQObYZgAAAINJREFU\n",
       "CNdjYGDgu7P7FAMI7GxgYE8A0k8DgILeQEbIAyBRz8DA/Qskvd+AwX4CiHFegWH/BRAjv4FhfgOI\n",
       "8R+IQGoZvzMwTAEJcP5jYCgBMe4DFfY/eHuD4w+Qw3thAff6DSDhvuqbyQxgrQzsDVwGYAbbATUw\n",
       "zcDz/weEwTFFgIEBAOxlJHQBUmidAAAAAElFTkSuQmCC\n",
       "\" style=\"display:inline;vertical-align:middle;\" /></a> : <a class=\"ProveItLink\" href=\"../__pv_it/5e94d2e23d341ef02b2bcfdef56e26bce4d525d20/expr.ipynb\"><img src=\"data:image/png;base64,iVBORw0KGgoAAAANSUhEUgAAAFIAAAAUBAMAAADsA3fZAAAAMFBMVEX///+6uroQEBCqqqqIiIgy\n",
       "MjJERETu7u6YmJjMzMxUVFTc3Nx2dnYiIiJmZmYAAAAutVgsAAAAAXRSTlMAQObYZgAAAUVJREFU\n",
       "KM9jYECAHQw4AfMGZB57AnZVdmcONDKsRhZh3YBVIVsDQ9kHhlJkoT7sRr5jYOAIYOBxQBK6jSzP\n",
       "kXv3KsRNPxkYGB0Y2BUQctwXkBRyphRAWYw/gLwJDAyBCEmWB0ADXFaLHAFxSgvg/vx/EkyfQ3E5\n",
       "Qw1DrwPYUiSv+v//BfJqK8Pbu0BwB8jkNWBgOM5wvkAaJI0UYOxd+upAyhbC2wXETAIMDAUMaRBn\n",
       "qoYCAUwt32cgMR9VJQPDF4jvEGYeAJqKphJkOwPnT4gAPEzYFwAFvwMZsgiVIB+Zs3xgcAcJPIFH\n",
       "OFAP3wGwjyDuAmKeBwyMn9k+cDcwwCwAu/EeA8MpEOMNwo+MFxjYl7j7dUAsXSYOVcm4bhVYVySu\n",
       "2GQ8Bo1NmHsvEE4hEICSQtg24FFZSkxKBoNsFB6e3MGxgQEA029OXInzxmEAAAAASUVORK5CYII=\n",
       "\" style=\"display:inline;vertical-align:middle;\" /></a></span></td></tr><tr><td><a name=\"-0x146d55b38b457da6_step2\">2</a></td><td>theorem</td><td></td><td><span style=\"font-size:20px;\"> <a class=\"ProveItLink\" href=\"../../../equality/_proofs_/lhsViaEquivalence.ipynb\" style=\"text-decoration: none\">&#x22A2;&nbsp;</a><a class=\"ProveItLink\" href=\"../../../equality/__pv_it/6b8d9118d17810d92f7df8d0995a363dbccb532a0/expr.ipynb\"><img src=\"data:image/png;base64,iVBORw0KGgoAAAANSUhEUgAAAIwAAAAWBAMAAADgE2koAAAAMFBMVEX///8QEBCIiIhmZma6urrM\n",
       "zMxUVFQiIiJERETc3Nzu7u6qqqp2dnaYmJgyMjIAAAAcRTyBAAAAAXRSTlMAQObYZgAAAeBJREFU\n",
       "OMutVD0sQ1EYPfr/qyIWLMRgEcRUpiYWmzBYvYEO0sEsJBIJJRHdWFBrF01MXURISGjkWSwiaSIx\n",
       "SGiD+G3w3ff3XdWB1pe8d79z7rnnvXu/ey/wP5ETr8vKx59/zkevkjgR+U0V//EBeJqwRpl3tnIX\n",
       "ZxHw36M2CQTSldvYHukpInicSq1WMSdPAXCR1Us8Pl2FTYhqtNkNjAOLgGMlFp4QdFu2T+t2GDIT\n",
       "DzwdzCetwSYLjO7BL36jHz5R9DPgiJqNCIY0tUdXWThYh8Ck6WKxQFcs2yNSN2wqNVFiqGaNgF1h\n",
       "G8YuBbaC4cIssGLYBVS3aGaAOHmq2nctG8aUecx9wSzwbFrnRujte4VtCmgVJSywDePtBNrNtWEW\n",
       "zgdzootjYkWLHWI/X9Njz7EN48H9bBquOMWyxGrbRo8dsXIBnaUtiZo9tmF8KhWZWdS+WZVvEaO6\n",
       "tbxer5llw3hOsmHWnn9qMcigmHJIPw9R34W3QbJh/K6V647iVmJLYzRBi72EreHgbkSy0TF1OF8l\n",
       "MatKD1i+l1a9Gb7woeKVbHRMHZ0PCVazqmz4RQWVdcnGwP4f14OhKhsZsY0+mr7ZaDhTqjRVZUMc\n",
       "CixEvtloWP0hXYj87gKw/+m6+AIRhIj+rToaNQAAAABJRU5ErkJggg==\n",
       "\" style=\"display:inline;vertical-align:middle;\" /></a></span></td></tr>\n",
       "<tr><td>&nbsp;</td><td colspan=4 style-\"text-align:left\"><a class=\"ProveItLink\" href=\"../../../equality/_proofs_/lhsViaEquivalence.ipynb\">proveit.logic.equality.lhsViaEquivalence</a></td></tr><tr><td><a name=\"-0x146d55b38b457da6_step3\">3</a></td><td>assumption</td><td></td><td><span style=\"font-size:20px;\"><a class=\"ProveItLink\" href=\"../__pv_it/08bfd1e65a9582545190b6ecc11f1d429483df7e0/expr.ipynb\"><img src=\"data:image/png;base64,iVBORw0KGgoAAAANSUhEUgAAAGcAAAAVBAMAAACphe0AAAAAMFBMVEX///+IiIi6urrc3NxERETM\n",
       "zMwQEBCqqqpUVFQiIiJ2dnYyMjLu7u5mZmaYmJgAAABN0h6tAAAAAXRSTlMAQObYZgAAAZxJREFU\n",
       "OMtjYGDgu8dAPGC9eABE8exCEbXDrYHdAEgwpYKYfB+QJXgcsGuoXbXgEUMziHUbRHBNQJbkNsCq\n",
       "h+UBw5EPDKdBzJWYmt5it+gu0EUbGLgEsGuajMzh85w5G+Lor0DPCDDwJGDVxIzMYXU8AGUx/QPy\n",
       "AhgYNmHVxHgBaKxgs+JCEOf0AXjw/F8KptcC8TIQg2MDqocZTjG8FAC7qhkhLv//ByiEXgPxexC/\n",
       "DGjtzZlAMAvI4SxgYFjDsP6AMkgGKfR5XuTnAKlKUPgCHRMC97oFELMpMDAcYHCBeCl7NxDAZHm/\n",
       "A4l4EKsTGIZqAWiaGBg+QgIFYdMCoF0wTdwNID85IGkCOY+B9StEIAHuOKA61j9AhibMT/DQs4AG\n",
       "RA3jBwYZkMBFeKIDauddAA2IZSiaWEGcCwxM31k+MD9ggFkL9s9cBoYVIMYtrPHENIGBp1FG9h3E\n",
       "VS06UE1MvR1gA7YSkYyYlkCTEcxvE+CaEohIsBCASLCo+YnFAI+m0/D8xLCLmEwIBs4gJydBAvQe\n",
       "kdmdzwBaRgAASS1qmF5n3JMAAAAASUVORK5CYII=\n",
       "\" style=\"display:inline;vertical-align:middle;\" /></a> <a class=\"ProveItLink\" href=\"../__pv_it/481c06d689e030fb1bbd7b4f4eeac0107e228f2e0/proof.ipynb\" style=\"text-decoration: none\">&#x22A2;&nbsp;</a><a class=\"ProveItLink\" href=\"../__pv_it/5e94d2e23d341ef02b2bcfdef56e26bce4d525d20/expr.ipynb\"><img src=\"data:image/png;base64,iVBORw0KGgoAAAANSUhEUgAAAFIAAAAUBAMAAADsA3fZAAAAMFBMVEX///+6uroQEBCqqqqIiIgy\n",
       "MjJERETu7u6YmJjMzMxUVFTc3Nx2dnYiIiJmZmYAAAAutVgsAAAAAXRSTlMAQObYZgAAAUVJREFU\n",
       "KM9jYECAHQw4AfMGZB57AnZVdmcONDKsRhZh3YBVIVsDQ9kHhlJkoT7sRr5jYOAIYOBxQBK6jSzP\n",
       "kXv3KsRNPxkYGB0Y2BUQctwXkBRyphRAWYw/gLwJDAyBCEmWB0ADXFaLHAFxSgvg/vx/EkyfQ3E5\n",
       "Qw1DrwPYUiSv+v//BfJqK8Pbu0BwB8jkNWBgOM5wvkAaJI0UYOxd+upAyhbC2wXETAIMDAUMaRBn\n",
       "qoYCAUwt32cgMR9VJQPDF4jvEGYeAJqKphJkOwPnT4gAPEzYFwAFvwMZsgiVIB+Zs3xgcAcJPIFH\n",
       "OFAP3wGwjyDuAmKeBwyMn9k+cDcwwCwAu/EeA8MpEOMNwo+MFxjYl7j7dUAsXSYOVcm4bhVYVySu\n",
       "2GQ8Bo1NmHsvEE4hEICSQtg24FFZSkxKBoNsFB6e3MGxgQEA029OXInzxmEAAAAASUVORK5CYII=\n",
       "\" style=\"display:inline;vertical-align:middle;\" /></a></span></td></tr>\n",
       "<tr><td><a name=\"-0x146d55b38b457da6_step4\">4</a></td><td>instantiation</td><td><a href=\"#-0x146d55b38b457da6_step5\">5</a></td><td><span style=\"font-size:20px;\"> <a class=\"ProveItLink\" href=\"../__pv_it/d04f07c2b3bf0c0971b733181b5bcd568d2663600/proof.ipynb\" style=\"text-decoration: none\">&#x22A2;&nbsp;</a><a class=\"ProveItLink\" href=\"../__pv_it/b9bf713568a711a5413a9b48ed6200ab7ef87bc70/expr.ipynb\"><img src=\"data:image/png;base64,iVBORw0KGgoAAAANSUhEUgAAAL8AAAAVCAMAAAAgs8+8AAAAQlBMVEX///9jY2MJCQkNDQ0rKysP\n",
       "Dw8WFhbMzMxUVFR2dna6uroQEBCqqqqIiIgiIiJmZmYyMjJERETu7u6YmJjc3NwAAABtKQr7AAAA\n",
       "AXRSTlMAQObYZgAAAh5JREFUSMfNl+l6rCAMhulpewQUkO3+b7UIbgFDnOmaH/2eDpo3QhIjY6QN\n",
       "7I9b8N1ljfw+hU+6J7iM4G7qbH/7eXW7EUIwLxnjtx4AdU9wm7Ab7qpzPwwjwb/WZ3Rc/s53uKj7\n",
       "OTwS/gW3qDfsgfQx5WqfbxWK5qLuKS6juVl1Zxu81f/f9WmbXSzVLLMHN9Jg1D3BTUZyFw0az3yr\n",
       "HLMAI2OpuaG4myVZvPrRhZULDeEmVesxOqV4kOqUEm52TY67GMWpnwoyB5QhFhBuXevX3KS2PJgT\n",
       "6dS0YqdDy+WtqhRXMdneePxxtZhPZmDZofWIc5vHveQm1VPBp2cW0TF53JzbW7MXzvMxjuuvkybT\n",
       "v7g3ejcBFjBuewJX3KRjSaVlwYI7hzFt5Nvrsp1NM4jTek2k4h/rCgkcLCDcYiQ36QkQQa6ExauY\n",
       "gAOxZeOXxY9wK8O4SfUe4RDhpDM2zd/x7cr1HKW+zn9e508bf5/L7nGTrnU0uVQiS50c+W4Uk7B7\n",
       "TKtrI9r67ZdpG3+XW48OGDdpaUUynczybgYjlZ443Bmj88Vi397dIWpthx3OCwi3znuMm7QcheNK\n",
       "OWW8h8f2T4L2Y5jkhvPD/UzO1lJ3FxCuvcldtPMe9y/Cwvd4lZdk+3xyfpD3uFk7c5QlJsQfnN8u\n",
       "uUXRKKkB/d78jLq34cnw4fyMh6n8k5F9y/dLy90U+44j/Ptf+n7cuFk/AFtdJimSV+YnAAAAAElF\n",
       "TkSuQmCC\n",
       "\" style=\"display:inline;vertical-align:middle;\" /></a></span></td></tr>\n",
       "<tr><td>&nbsp;</td><td colspan=4 style=\"text-align:left\"><span style=\"font-size:20px;\"><a class=\"ProveItLink\" href=\"../../../../__pv_it/72df168d2bfb4e0140af90912ebf83b13772060b0/expr.ipynb\"><img src=\"data:image/png;base64,iVBORw0KGgoAAAANSUhEUgAAAAsAAAAJBAMAAAAWSsseAAAALVBMVEX///9mZmaqqqrMzMxEREQy\n",
       "MjIiIiKYmJh2dna6urrc3NxUVFSIiIju7u4AAACJHQtQAAAAAXRSTlMAQObYZgAAAEJJREFUCNdj\n",
       "YLhzeuWJAwy8Dew5bAEMHBc43nIuYOBlYHFgAAG+A2DKzgBIMF04x8BzgWGegh/DcgaG22fuiBcw\n",
       "AAATyhBrnyPYZQAAAABJRU5ErkJggg==\n",
       "\" style=\"display:inline;vertical-align:middle;\" /></a> : <a class=\"ProveItLink\" href=\"../../../../__pv_it/72df168d2bfb4e0140af90912ebf83b13772060b0/expr.ipynb\"><img src=\"data:image/png;base64,iVBORw0KGgoAAAANSUhEUgAAAAsAAAAJBAMAAAAWSsseAAAALVBMVEX///9mZmaqqqrMzMxEREQy\n",
       "MjIiIiKYmJh2dna6urrc3NxUVFSIiIju7u4AAACJHQtQAAAAAXRSTlMAQObYZgAAAEJJREFUCNdj\n",
       "YLhzeuWJAwy8Dew5bAEMHBc43nIuYOBlYHFgAAG+A2DKzgBIMF04x8BzgWGegh/DcgaG22fuiBcw\n",
       "AAATyhBrnyPYZQAAAABJRU5ErkJggg==\n",
       "\" style=\"display:inline;vertical-align:middle;\" /></a>, <a class=\"ProveItLink\" href=\"../../../../__pv_it/f7e31792649ed3cb09061ae8e85d975fd4cc9fa60/expr.ipynb\"><img src=\"data:image/png;base64,iVBORw0KGgoAAAANSUhEUgAAAA0AAAAOBAMAAAAGUYvhAAAAMFBMVEX///8iIiIQEBDc3NxUVFSI\n",
       "iIjMzMwyMjLu7u5ERES6urqYmJh2dnZmZmaqqqoAAABUl3CJAAAAAXRSTlMAQObYZgAAAGBJREFU\n",
       "CNdjYGDgu3OGewEDA8NsBo75QIr3AgPDdiDdn8DAsBRIr9/AwJAG4v8BCgAB6///zmBGt9OnBjCD\n",
       "4f4DBgYekBIg3QKk84Hij4D0HSC+eIGBxwFIX1hyxQ9IAQCO0xnvXiMbcgAAAABJRU5ErkJggg==\n",
       "\" style=\"display:inline;vertical-align:middle;\" /></a> : <a class=\"ProveItLink\" href=\"../../../../__pv_it/f7e31792649ed3cb09061ae8e85d975fd4cc9fa60/expr.ipynb\"><img src=\"data:image/png;base64,iVBORw0KGgoAAAANSUhEUgAAAA0AAAAOBAMAAAAGUYvhAAAAMFBMVEX///8iIiIQEBDc3NxUVFSI\n",
       "iIjMzMwyMjLu7u5ERES6urqYmJh2dnZmZmaqqqoAAABUl3CJAAAAAXRSTlMAQObYZgAAAGBJREFU\n",
       "CNdjYGDgu3OGewEDA8NsBo75QIr3AgPDdiDdn8DAsBRIr9/AwJAG4v8BCgAB6///zmBGt9OnBjCD\n",
       "4f4DBgYekBIg3QKk84Hij4D0HSC+eIGBxwFIX1hyxQ9IAQCO0xnvXiMbcgAAAABJRU5ErkJggg==\n",
       "\" style=\"display:inline;vertical-align:middle;\" /></a></span></td></tr><tr><td><a name=\"-0x146d55b38b457da6_step5\">5</a></td><td>axiom</td><td></td><td><span style=\"font-size:20px;\"> <a class=\"ProveItLink\" href=\"../_axioms_.ipynb#notInSetDef\" style=\"text-decoration: none\">&#x22A2;&nbsp;</a><a class=\"ProveItLink\" href=\"../__pv_it/d518e2b0c234f862021ce59e5cce1417beaf76c10/expr.ipynb\"><img src=\"data:image/png;base64,iVBORw0KGgoAAAANSUhEUgAAAQIAAAAWCAMAAAAcoWJbAAAAQlBMVEX///9jY2MJCQkNDQ0rKysP\n",
       "Dw8WFhYQEBCIiIhmZma6urrMzMxUVFQiIiJERETc3Nzu7u6qqqp2dnaYmJgyMjIAAADRR/RZAAAA\n",
       "AXRSTlMAQObYZgAAAt5JREFUWMPlWO2y1CAMRa9aoHwEKO//qlLa0gZIy65endH82DO7sBwIyYHA\n",
       "2CfazP5dswEjYZr43dnXaMYbHuwgxriU9jA8LhiMVBCoagLCe8+CZEzZV2jGG6iVN8QIvTs6LjA6\n",
       "5GIxEiYk+mpCnn1cP5dXaMYb+tYhRmgPj9ph1waBcSwPxNY7ZHLPx2nGG4id6BEjPDb/DIcn0xZj\n",
       "d5pG//iuL5sNcRNHmblhGqcZb9h4k12DrE+MMHhYzephLdQYeypgODCDZirjJjXzNqFFjtKMN+y8\n",
       "lRHECKNZTftRF3CBEThXVvJLbMMaWVW+Q4z+ckh6MUpDNhC8jXb2iRGq3MF0o2tOUurC3KrLiZB8\n",
       "FzRnl+jLOsurdOcxWTkKwtnbLxcTDU1f3Wje1mVdYoRSkBqdm1ysUtEh9MnzPgKTJ7/pHjAQ1BSn\n",
       "/Vf3mHf78EIX80O8nTjoEWNcP3jX5xo6I08S4drFoC7zlLbz28e6qY06x91/c3xywVSrhVUjvJux\n",
       "R2KMPlAXuZg97G5dkPuhoM/Ha3XA+CMxf5sLCN7aKGKMdikXOc/FzFXJ/WXykorQguswWC2m5lIA\n",
       "6ui5x6PUfS1QDU3jgnveOgko4gqNVdtK05GiFqbLskGkJJJ9OTrQQRKc7b8l6vimIpcr6j474Vs5\n",
       "vFe91gW3vM3dmCKu0AldSrsl1MR1juBjRaYIW++eqHLRTuH9ETp39mWTxeMZ3B6b8wBvowEUcY2X\n",
       "nIqnwMK8ZVF9TKAQAsU5cIFrLFBfJToQBJNKKHXOcHkspKW+bSB4DealiWsMcKbXWeY716v3hi7I\n",
       "4Ys31UUVp+jAXfStC7K85y3ENZagj0mbsohak5wiTK6w4I0yyTzUcn+yTOoS13jGUZCer3eOeUoR\n",
       "IGyqswXQCyQX+lTQjxXL5PDGvuuBbrFMPjP8ypMJD28u7nOeTOjNu5vI/dvW08PZwxTD33o4O4hr\n",
       "7Hdm/439BJP2M3paqy+JAAAAAElFTkSuQmCC\n",
       "\" style=\"display:inline;vertical-align:middle;\" /></a></span></td></tr>\n",
       "<tr><td>&nbsp;</td><td colspan=4 style-\"text-align:left\"><a class=\"ProveItLink\" href=\"../_axioms_.ipynb#notInSetDef\">proveit.logic.set_theory.membership.notInSetDef</a></td></tr></table>"
      ],
      "text/plain": [
       "\tstep type\trequirements\tstatement\n",
       "0\tgeneralizaton\t1\t|- forall_{x, S | [not](x in S)} (x not-in S)\n",
       "1\tinstantiation\t2, 3, 4\t{[not](x in S)} |- x not-in S\n",
       "\tP : x not-in S, Q : [not](x in S)\n",
       "2\ttheorem\t\t|- forall_{P, Q | Q, P = Q} P\n",
       "\tproveit.logic.equality.lhsViaEquivalence\n",
       "3\tassumption\t\t{[not](x in S)} |- [not](x in S)\n",
       "4\tinstantiation\t5\t|- (x not-in S) = [not](x in S)\n",
       "\tx : x, S : S\n",
       "5\taxiom\t\t|- forall_{x, S} ((x not-in S) = [not](x in S))\n",
       "\tproveit.logic.set_theory.membership.notInSetDef"
      ]
     },
     "execution_count": 6,
     "metadata": {},
     "output_type": "execute_result"
    }
   ],
   "source": [
    "%qed"
   ]
  },
  {
   "cell_type": "code",
   "execution_count": null,
   "metadata": {},
   "outputs": [],
   "source": []
  }
 ],
 "metadata": {
  "kernelspec": {
   "display_name": "Python 3",
   "language": "python",
   "name": "python3"
  }
 },
 "nbformat": 4,
 "nbformat_minor": 0
}
