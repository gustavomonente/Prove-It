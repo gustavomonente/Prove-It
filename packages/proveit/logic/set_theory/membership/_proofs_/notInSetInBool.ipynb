{
 "cells": [
  {
   "cell_type": "markdown",
   "metadata": {},
   "source": [
    "Proof of <a class=\"ProveItLink\" href=\"../../../../_context_.ipynb\">proveit</a>.<a class=\"ProveItLink\" href=\"../../../_context_.ipynb\">logic</a>.<a class=\"ProveItLink\" href=\"../../_context_.ipynb\">set_theory</a>.<a class=\"ProveItLink\" href=\"../_context_.ipynb\">membership</a>.<a class=\"ProveItLink\" href=\"../_theorems_.ipynb#notInSetInBool\">notInSetInBool</a> theorem\n",
    "========"
   ]
  },
  {
   "cell_type": "code",
   "execution_count": 1,
   "metadata": {},
   "outputs": [],
   "source": [
    "import proveit\n",
    "from proveit import defaults\n",
    "from proveit._common_ import x, A, S\n",
    "from proveit.logic import InSet\n",
    "from proveit.logic.boolean.negation._theorems_ import closure\n",
    "from proveit.logic.set_theory.membership._axioms_ import notInSetDef\n",
    "context = proveit.Context('..') # the theorem's context is in the parent directory"
   ]
  },
  {
   "cell_type": "code",
   "execution_count": 2,
   "metadata": {},
   "outputs": [
    {
     "name": "stdout",
     "output_type": "stream",
     "text": [
      "Beginning proof of notInSetInBool\n",
      "Recorded 'presuming' information\n"
     ]
    },
    {
     "name": "stdout",
     "output_type": "stream",
     "text": [
      "Presuming theorems in proveit.logic (except any that presume this theorem).\n"
     ]
    },
    {
     "data": {
      "text/html": [
       "<strong id=\"notInSetInBool\">notInSetInBool:</strong> <a class=\"ProveItLink\" href=\"../__pv_it/9f97888cbf2aed66e9eb915a38de7fbc67d4f6ba0/expr.ipynb\"><img src=\"data:image/png;base64,iVBORw0KGgoAAAANSUhEUgAAAP0AAAAXCAMAAAD3NLkqAAAARVBMVEX///8/Pz9vb28YGBgNDQ0r\n",
       "KysPDw8WFhYQEBCIiIhmZma6urrMzMxUVFQiIiJERETc3Nzu7u6qqqp2dnaYmJgyMjIAAACoIi7K\n",
       "AAAAAXRSTlMAQObYZgAAA4BJREFUWMPdWImOpCAQZc+Rm+L6/09dBBEKRdvJJr07TNLE4ZX4qBtC\n",
       "/rchyJccxuN5MtTk/9Y82q3Aw/7s/VvJg8bzTPVyYMGcc8RzQuQ1faoWrWNYlOT5OcOdrcsB3so+\n",
       "GDxPBuPoUft8YHH9DXc7EEETFlhWc4abetRGv5W8Z3h+zfBZQftM3NFrUU144k0FKUwzvKq8GcFb\n",
       "hjJ4PjsgrdTH717DEEsM5Jk3LEe8UmFgb+3GPsO9g3UY9d6Qp/B84vCaJj1pdDg8llglyiEEfsAf\n",
       "de94jSwZHvU6lPvMN/+1/EQZnoFSaThtxgzZRgffhhhdt4PrvAaOYSyz50pI0cHLgz5lIlJAtb5t\n",
       "gEPO/MB2OctfY689miG92itKmt2WiE4H16YxjT3Y++5sTjJAYr+oGBfewzmbBsy8ZGP/AnK5wVGO\n",
       "YZAPNDDFDjFGWTS7pDgXgXCDdz4oFLxc4rL916rJlyLL99718PWHniZ7BcOLNNLv+CXWsZJNOjmQ\n",
       "eJEmizHejh5RFbLNq7xGmy0hjV8/088xCcbt6EQc8HkM7OtU4c7PKqiYj96es5diDLHWABzkSv7e\n",
       "F2n6S6r11+zzS3orL/l4yEuuev+RvZnqfuUgO7gJewXlKBO00QqLG4qLQ+bdJXgXcnq5bFVtcWXP\n",
       "vTPXlp+/DZ3uckz21axE3CyfqwF/yl7WAneDa7NVfylHyEDU/uXAlrjwc/YlNzUJlIc7OStRPU1T\n",
       "hbIEcRP1LKSAVl5fzZviA15BG0PmTqIeo3Pdb46/wS1Te34Kg00aqc7Zc40kgE3kVly3mC2fmZF+\n",
       "TVZl5smW1+q1b3iSVQy+lqJnFtkrf+ZOrAlVugngHJMY3rlYbDYJonjVhL1EEkLlskHTUU4EtFj8\n",
       "noyaqUZbZpCUAmWo7wKpf+CIz9I3MCkbS2RSCc/hostpcA/N21qFYu2hqdJ9LYUlGgzL5VOSWPeO\n",
       "sE9Uut+/aVS5HrrEIXRzd4kf4SYSF3IoNTqdB9O5f4Jz9lm4SZBWdGE5jxfXjEfWpvR5l6NvSsu7\n",
       "LucGDtJzR9dKQyx29c7UOzOYxnzoJdJaNUEsV1rSuuiVC0wHP+c25XjT+N93uA/gdtIkdo40Qujm\n",
       "2mOsuVh8crtBb25f9LPLnSv45J5ITx+mL3r5xujuZutmO/+M/CX8lS/gLxAD9oVuHtnTi0QK/zKd\n",
       "PzaFOLAB2LzbAAAAAElFTkSuQmCC\n",
       "\" style=\"display:inline;vertical-align:middle;\" /></a><br>(see <a class=\"ProveItLink\" href=\"../__pv_it/9f97888cbf2aed66e9eb915a38de7fbc67d4f6ba0/dependencies.ipynb\">dependencies</a>)<br>"
      ],
      "text/plain": [
       "notInSetInBool: forall_{x, S | (x in S) in BOOLEANS} ((x not-in S) in BOOLEANS)"
      ]
     },
     "execution_count": 2,
     "metadata": {},
     "output_type": "execute_result"
    }
   ],
   "source": [
    "%proving notInSetInBool presuming [proveit.logic]"
   ]
  },
  {
   "cell_type": "code",
   "execution_count": 3,
   "metadata": {},
   "outputs": [
    {
     "data": {
      "text/html": [
       "<strong id=\"defaults.assumptions\">defaults.assumptions:</strong> <a class=\"ProveItLink\" href=\"../__pv_it/e051e7dc844882a3fc0b08e8d54a7c8b131927020/expr.ipynb\"><img src=\"data:image/png;base64,iVBORw0KGgoAAAANSUhEUgAAAHcAAAAUBAMAAABFd79NAAAAMFBMVEX////MzMxUVFR2dna6uroQ\n",
       "EBCqqqqIiIgiIiJmZmYyMjJERETu7u6YmJjc3NwAAACgK8IjAAAAAXRSTlMAQObYZgAAAdJJREFU\n",
       "OMuFVM9LAkEYfeqiua4i/QNJBBGBWB1CCuqWB4sOHSKCOhZEeIsgyEtRnYQO0a2gU4fwVhCFEEHp\n",
       "RapDBIbHjlsHgyjs+2Z2V0fWevDmx5t933wzOzNApAzBdvBX3fVVLkoW3bA8lHhCXNUCW5dfsz2A\n",
       "l4OeWXRBqIySiWKLqnsypfsyjCMgnJN0wyENHcGXaQmplQPRPDAMdFQlGwhf7OyJhvEOaBkY06pO\n",
       "Zv8imW+BN0g68JwXrJb2Q70ocKLqZPalyayPY526TGMtPjHMY0XbC6M+IOokFJ3MqU6K6cvhirrM\n",
       "GzxnRFZNm7tZ/+AFvUDRQ9psfQZiO7apYo5irDDFY/mG2XhYmKdqCYrOaVcSdACy4BjMAi7l0uZO\n",
       "CfaHwRoVXapOZuQnSTEdM/ApykhjZopuOOZI88zIe4XZThuedzk27SQdI/GbGilVZ3NMp5+RdTZs\n",
       "JWBig8cOnENNnwcTzoYdKDM/ig1Lyn+h1UKmvB4di/Z6d4FBbuxD0XVPwpeMicApmZfRu7Fekdn2\n",
       "py2z1tctDMeKbl8M6FGX46mNWMfTXnvWXb/7+2JItF4MG3wery22RdFd5iv552Mg0CZyiNf63zMU\n",
       "bvMMvQK/xGSGwZ+YviAAAAAASUVORK5CYII=\n",
       "\" style=\"display:inline;vertical-align:middle;\" /></a><br>"
      ],
      "text/plain": [
       "defaults.assumptions: ((x in S) in BOOLEANS)"
      ]
     },
     "execution_count": 3,
     "metadata": {},
     "output_type": "execute_result"
    }
   ],
   "source": [
    "defaults.assumptions = notInSetInBool.allConditions()"
   ]
  },
  {
   "cell_type": "code",
   "execution_count": 4,
   "metadata": {},
   "outputs": [
    {
     "data": {
      "text/html": [
       "<span style=\"font-size:20px;\"> <a class=\"ProveItLink\" href=\"../../../boolean/negation/_proofs_/closure.ipynb\" style=\"text-decoration: none\">&#x22A2;&nbsp;</a><a class=\"ProveItLink\" href=\"../../../boolean/negation/__pv_it/2771f385c3c2e78668793136b6c488aeff13b2390/expr.ipynb\"><img src=\"data:image/png;base64,iVBORw0KGgoAAAANSUhEUgAAAJsAAAAUBAMAAABoqVKyAAAAMFBMVEX///8QEBCIiIhmZma6urrM\n",
       "zMxUVFQiIiJERETc3Nzu7u6qqqp2dnaYmJgyMjIAAAAcRTyBAAAAAXRSTlMAQObYZgAAAmtJREFU\n",
       "OMudVD1oFEEUft7e3+7tbVIE0oUBG7sEU9goBlIcBAJbpTQHRjCVJykiGOVI4x6id02ICJKVCIaE\n",
       "HAciYuWRQ9CYYlvRyOFpYQqTQjAWGt+bmZvdjTcp/OAt8/P2m/cPcCLMQEgMuVpv5ZcobVrs6ujW\n",
       "pIS4hDIbV0pc9/4MzgCk8Zl3dLCno/smJcQ+Sv2YlpNia6sBWGjaA3KprGHLjwiJnOz7ADaLq2WT\n",
       "QcJFji1kpuuGhi5TExJi4yJurX7JfWf+tqTLNZDuMR5tr68v63xdlhIiGB7D7xe+Ti36yjp7Aukc\n",
       "vDv0vAUd3WkpCkn/FeW5xTd1P3S2MOWilxiXKwAVflj5l+6eFIUnME1x+8Q3s2HsBo8GyHnMxTjP\n",
       "CK5/yIB87sx1Y3lTiDFPaOJmDFYoMy/4bTmSCnsXr3MlDDUkeJ2u/qZIty4Aaz56LvUGpPCKLmK0\n",
       "Lo9eI5JpHrqh7whJB+VJPDlAh4MMV9+eQ8vuPvSBMXtTQ5cEONXu0plR66CcFnRme4q/xTxyHMHY\n",
       "5Nu4s4oOg5ChIinwk/4oXdHB10qUghk6SsM52XFsdMjtkQqkM5HOOVCpOBuz7qNIBTwjTvgAw2CN\n",
       "COuMJanXUkWBcHkJZn/h57wo8oZqsqbdQuMNylYfpd7q7FT91A3PW6TYJaReQTnG58HRHuSqP/HN\n",
       "r3xvXZ2IjQBwyKs8VaPhw4oLRWGdbWibTPCUZFG/EU3WxVO1wjT3BfCa0zXtHe0I4Dg+ArrYUsE8\n",
       "BLN6C7IYjfxC574amJWe3VLvzSbaIYozGLuTx6emHblNNYD/GO55zW/vAf4C0m6ni8+oVXgAAAAA\n",
       "SUVORK5CYII=\n",
       "\" style=\"display:inline;vertical-align:middle;\" /></a></span>"
      ],
      "text/plain": [
       "|- forall_{A in BOOLEANS} ([not](A) in BOOLEANS)"
      ]
     },
     "execution_count": 4,
     "metadata": {},
     "output_type": "execute_result"
    }
   ],
   "source": [
    "closure"
   ]
  },
  {
   "cell_type": "code",
   "execution_count": 5,
   "metadata": {},
   "outputs": [
    {
     "data": {
      "text/html": [
       "<strong id=\"closureSpec\">closureSpec:</strong> <span style=\"font-size:20px;\"><a class=\"ProveItLink\" href=\"../__pv_it/ba5d3709106c6d0f50ce27e596244179c28355420/expr.ipynb\"><img src=\"data:image/png;base64,iVBORw0KGgoAAAANSUhEUgAAAH0AAAAVBAMAAACZCfwhAAAAMFBMVEX///+IiIi6urrc3NxERETM\n",
       "zMwQEBCqqqpUVFQiIiJ2dnYyMjLu7u5mZmaYmJgAAABN0h6tAAAAAXRSTlMAQObYZgAAAfhJREFU\n",
       "OMudVD1IQlEUPr6e+fd82RBUBNkS0VASzfFoCyINrKGliNqFwNYgKtqMiHLKGgIdwqnBGhQibEnb\n",
       "zMCEmorIySECO+c9vb1rvhd0wHvf/TzfPd85954LAHIJ/mXW+zRNUorGCRPHNQNcWKVRrtAmSmsX\n",
       "WzEhe+0+HuxZ8V8cefHjkVbOCA4uX2v+DEh+kJJNaHJWmqak44z/3pruzgO8AZw0wcoIdIkcf5/7\n",
       "/yUa1ULmAgADADdNOPLXOX5bRE8P9jW+RssAc5idl8eRf3qt51tQJ2S6x3o9VMsrtlPuM6C65IHD\n",
       "lRHhYAvnM1rYUZKIcaSYvOcgebpyW2q1TToiVfUPrgweV0nSBy3CGMIRwiBp55dALqIulbvtKl4S\n",
       "m5qeqK/f+SudGuoKUunacTcJRO0SzF+isSN7wq2tFR5HviigZNjFfAcDGh+gw6MyxlkcJ5WA8cf1\n",
       "8UXYwPgblJai6QdYVIsF7cwvSyDqFyI8jnw7JOv5U/2pfrZ0P1ioI9yehl8Yf0VWvx+c4suxev2J\n",
       "Twc0GvLXu+iw4feQBydJdMd4PLkAiYL+/ElgtjNTKmuyJ9OaX36osEOzK8DhrH+M7u/wVJRrmVsD\n",
       "XOMvGfdP3U4M8Djrf9FnQv/Vvw1T+x9SJu+HakabC8vaG1P64/16Nnn/vgENjIqlmbnAbgAAAABJ\n",
       "RU5ErkJggg==\n",
       "\" style=\"display:inline;vertical-align:middle;\" /></a> <a class=\"ProveItLink\" href=\"../__pv_it/efc25e298c6045810f3843e7ecbe4b25d565ba0d0/proof.ipynb\" style=\"text-decoration: none\">&#x22A2;&nbsp;</a><a class=\"ProveItLink\" href=\"../__pv_it/1551b8b3dc02de7386ecbc1333d5db85bd3817640/expr.ipynb\"><img src=\"data:image/png;base64,iVBORw0KGgoAAAANSUhEUgAAAIkAAAAUBAMAAABL8gNnAAAAMFBMVEX////MzMxUVFR2dna6uroQ\n",
       "EBCqqqqIiIgiIiJmZmYyMjJERETu7u6YmJjc3NwAAACgK8IjAAAAAXRSTlMAQObYZgAAAghJREFU\n",
       "OMtjYOC7wIAAbxlwArYHEIwdnEZi82zAribT2OAKgx6QoYcmURG9f2mTA5CxDkmQC7td3BcYTn9g\n",
       "OAVknUKXWiDOs2cuAwPvBCSxm9idMhOobAEDcwEDGKOADb4MhdwMDBzI1vehqLjd0bEA7M+PDAws\n",
       "BQw8AQxgDAK8Ozq6YKakAU15gaSNrwHZEOkaKIPlLwMDowADwxIGCAbyth9AuMUEGLKVSPrYgb7j\n",
       "KddzNwe7YA08zP8bgmlLKAYGzwGEj1gaFRkY9qKGIsNhhhsFYMcyIbxa//8TiHMLipGjaoNr/1dg\n",
       "HLUxMHB2gIABMIwSGBhsGOwP+IGNREoAl+JjgFQGFAP1Ioeu7WUGhhBYmCgwMLACTT3AsBsiILoK\n",
       "CBZAZTm/AQl5KGZgjALJwUzhZrmAYQoDw3eIwGu4fUBX8qCYwofiFm4GBZCP4KaAfMTA+BEiwAr3\n",
       "D1CG8Q+Q4QHFDAwByKYwMSyAhy7IFFDo5rB/YABHMScsgbEB9XAaoITudBS38BpAow4IgAmCeQID\n",
       "yzfuD9D8CXMlZycDgxGIMRmKoY6G5ABhBuNJMCdCk1cDA496TeVdCO/QFkiq4GTRVALrWgjFQE9q\n",
       "+6DmRjw5wHlHxwLkDN8AwWD7rKE5AAqIyY0QgDU3wsA+5MT7AI8pWEsGUkopuHX7cEkSW2LyPoBg\n",
       "bAAAVXWMHaqIaXQAAAAASUVORK5CYII=\n",
       "\" style=\"display:inline;vertical-align:middle;\" /></a></span><br>"
      ],
      "text/plain": [
       "closureSpec: {(x in S) in BOOLEANS} |- [not](x in S) in BOOLEANS"
      ]
     },
     "execution_count": 5,
     "metadata": {},
     "output_type": "execute_result"
    }
   ],
   "source": [
    "closureSpec = closure.specialize({A:InSet(x, S)})"
   ]
  },
  {
   "cell_type": "code",
   "execution_count": 6,
   "metadata": {},
   "outputs": [
    {
     "data": {
      "text/html": [
       "<span style=\"font-size:20px;\"> <a class=\"ProveItLink\" href=\"../_axioms_.ipynb#notInSetDef\" style=\"text-decoration: none\">&#x22A2;&nbsp;</a><a class=\"ProveItLink\" href=\"../__pv_it/d518e2b0c234f862021ce59e5cce1417beaf76c10/expr.ipynb\"><img src=\"data:image/png;base64,iVBORw0KGgoAAAANSUhEUgAAAQIAAAAWCAMAAAAcoWJbAAAAQlBMVEX///9jY2MJCQkNDQ0rKysP\n",
       "Dw8WFhYQEBCIiIhmZma6urrMzMxUVFQiIiJERETc3Nzu7u6qqqp2dnaYmJgyMjIAAADRR/RZAAAA\n",
       "AXRSTlMAQObYZgAAAt5JREFUWMPlWO2y1CAMRa9aoHwEKO//qlLa0gZIy65endH82DO7sBwIyYHA\n",
       "2CfazP5dswEjYZr43dnXaMYbHuwgxriU9jA8LhiMVBCoagLCe8+CZEzZV2jGG6iVN8QIvTs6LjA6\n",
       "5GIxEiYk+mpCnn1cP5dXaMYb+tYhRmgPj9ph1waBcSwPxNY7ZHLPx2nGG4id6BEjPDb/DIcn0xZj\n",
       "d5pG//iuL5sNcRNHmblhGqcZb9h4k12DrE+MMHhYzephLdQYeypgODCDZirjJjXzNqFFjtKMN+y8\n",
       "lRHECKNZTftRF3CBEThXVvJLbMMaWVW+Q4z+ckh6MUpDNhC8jXb2iRGq3MF0o2tOUurC3KrLiZB8\n",
       "FzRnl+jLOsurdOcxWTkKwtnbLxcTDU1f3Wje1mVdYoRSkBqdm1ysUtEh9MnzPgKTJ7/pHjAQ1BSn\n",
       "/Vf3mHf78EIX80O8nTjoEWNcP3jX5xo6I08S4drFoC7zlLbz28e6qY06x91/c3xywVSrhVUjvJux\n",
       "R2KMPlAXuZg97G5dkPuhoM/Ha3XA+CMxf5sLCN7aKGKMdikXOc/FzFXJ/WXykorQguswWC2m5lIA\n",
       "6ui5x6PUfS1QDU3jgnveOgko4gqNVdtK05GiFqbLskGkJJJ9OTrQQRKc7b8l6vimIpcr6j474Vs5\n",
       "vFe91gW3vM3dmCKu0AldSrsl1MR1juBjRaYIW++eqHLRTuH9ETp39mWTxeMZ3B6b8wBvowEUcY2X\n",
       "nIqnwMK8ZVF9TKAQAsU5cIFrLFBfJToQBJNKKHXOcHkspKW+bSB4DealiWsMcKbXWeY716v3hi7I\n",
       "4Ys31UUVp+jAXfStC7K85y3ENZagj0mbsohak5wiTK6w4I0yyTzUcn+yTOoS13jGUZCer3eOeUoR\n",
       "IGyqswXQCyQX+lTQjxXL5PDGvuuBbrFMPjP8ypMJD28u7nOeTOjNu5vI/dvW08PZwxTD33o4O4hr\n",
       "7Hdm/439BJP2M3paqy+JAAAAAElFTkSuQmCC\n",
       "\" style=\"display:inline;vertical-align:middle;\" /></a></span>"
      ],
      "text/plain": [
       "|- forall_{x, S} ((x not-in S) = [not](x in S))"
      ]
     },
     "execution_count": 6,
     "metadata": {},
     "output_type": "execute_result"
    }
   ],
   "source": [
    "notInSetDef"
   ]
  },
  {
   "cell_type": "code",
   "execution_count": 7,
   "metadata": {},
   "outputs": [
    {
     "data": {
      "text/html": [
       "<strong id=\"notInSetDefSpec\">notInSetDefSpec:</strong> <span style=\"font-size:20px;\"> <a class=\"ProveItLink\" href=\"../__pv_it/d04f07c2b3bf0c0971b733181b5bcd568d2663600/proof.ipynb\" style=\"text-decoration: none\">&#x22A2;&nbsp;</a><a class=\"ProveItLink\" href=\"../__pv_it/b9bf713568a711a5413a9b48ed6200ab7ef87bc70/expr.ipynb\"><img src=\"data:image/png;base64,iVBORw0KGgoAAAANSUhEUgAAAL8AAAAVCAMAAAAgs8+8AAAAQlBMVEX///9jY2MJCQkNDQ0rKysP\n",
       "Dw8WFhbMzMxUVFR2dna6uroQEBCqqqqIiIgiIiJmZmYyMjJERETu7u6YmJjc3NwAAABtKQr7AAAA\n",
       "AXRSTlMAQObYZgAAAh5JREFUSMfNl+l6rCAMhulpewQUkO3+b7UIbgFDnOmaH/2eDpo3QhIjY6QN\n",
       "7I9b8N1ljfw+hU+6J7iM4G7qbH/7eXW7EUIwLxnjtx4AdU9wm7Ab7qpzPwwjwb/WZ3Rc/s53uKj7\n",
       "OTwS/gW3qDfsgfQx5WqfbxWK5qLuKS6juVl1Zxu81f/f9WmbXSzVLLMHN9Jg1D3BTUZyFw0az3yr\n",
       "HLMAI2OpuaG4myVZvPrRhZULDeEmVesxOqV4kOqUEm52TY67GMWpnwoyB5QhFhBuXevX3KS2PJgT\n",
       "6dS0YqdDy+WtqhRXMdneePxxtZhPZmDZofWIc5vHveQm1VPBp2cW0TF53JzbW7MXzvMxjuuvkybT\n",
       "v7g3ejcBFjBuewJX3KRjSaVlwYI7hzFt5Nvrsp1NM4jTek2k4h/rCgkcLCDcYiQ36QkQQa6ExauY\n",
       "gAOxZeOXxY9wK8O4SfUe4RDhpDM2zd/x7cr1HKW+zn9e508bf5/L7nGTrnU0uVQiS50c+W4Uk7B7\n",
       "TKtrI9r67ZdpG3+XW48OGDdpaUUynczybgYjlZ443Bmj88Vi397dIWpthx3OCwi3znuMm7QcheNK\n",
       "OWW8h8f2T4L2Y5jkhvPD/UzO1lJ3FxCuvcldtPMe9y/Cwvd4lZdk+3xyfpD3uFk7c5QlJsQfnN8u\n",
       "uUXRKKkB/d78jLq34cnw4fyMh6n8k5F9y/dLy90U+44j/Ptf+n7cuFk/AFtdJimSV+YnAAAAAElF\n",
       "TkSuQmCC\n",
       "\" style=\"display:inline;vertical-align:middle;\" /></a></span><br>"
      ],
      "text/plain": [
       "notInSetDefSpec: |- (x not-in S) = [not](x in S)"
      ]
     },
     "execution_count": 7,
     "metadata": {},
     "output_type": "execute_result"
    }
   ],
   "source": [
    "notInSetDefSpec = notInSetDef.instantiate({x:x, S:S})"
   ]
  },
  {
   "cell_type": "code",
   "execution_count": 8,
   "metadata": {},
   "outputs": [
    {
     "data": {
      "text/html": [
       "<span style=\"font-size:20px;\"><a class=\"ProveItLink\" href=\"../__pv_it/ba5d3709106c6d0f50ce27e596244179c28355420/expr.ipynb\"><img src=\"data:image/png;base64,iVBORw0KGgoAAAANSUhEUgAAAH0AAAAVBAMAAACZCfwhAAAAMFBMVEX///+IiIi6urrc3NxERETM\n",
       "zMwQEBCqqqpUVFQiIiJ2dnYyMjLu7u5mZmaYmJgAAABN0h6tAAAAAXRSTlMAQObYZgAAAfhJREFU\n",
       "OMudVD1IQlEUPr6e+fd82RBUBNkS0VASzfFoCyINrKGliNqFwNYgKtqMiHLKGgIdwqnBGhQibEnb\n",
       "zMCEmorIySECO+c9vb1rvhd0wHvf/TzfPd85954LAHIJ/mXW+zRNUorGCRPHNQNcWKVRrtAmSmsX\n",
       "WzEhe+0+HuxZ8V8cefHjkVbOCA4uX2v+DEh+kJJNaHJWmqak44z/3pruzgO8AZw0wcoIdIkcf5/7\n",
       "/yUa1ULmAgADADdNOPLXOX5bRE8P9jW+RssAc5idl8eRf3qt51tQJ2S6x3o9VMsrtlPuM6C65IHD\n",
       "lRHhYAvnM1rYUZKIcaSYvOcgebpyW2q1TToiVfUPrgweV0nSBy3CGMIRwiBp55dALqIulbvtKl4S\n",
       "m5qeqK/f+SudGuoKUunacTcJRO0SzF+isSN7wq2tFR5HviigZNjFfAcDGh+gw6MyxlkcJ5WA8cf1\n",
       "8UXYwPgblJai6QdYVIsF7cwvSyDqFyI8jnw7JOv5U/2pfrZ0P1ioI9yehl8Yf0VWvx+c4suxev2J\n",
       "Twc0GvLXu+iw4feQBydJdMd4PLkAiYL+/ElgtjNTKmuyJ9OaX36osEOzK8DhrH+M7u/wVJRrmVsD\n",
       "XOMvGfdP3U4M8Djrf9FnQv/Vvw1T+x9SJu+HakabC8vaG1P64/16Nnn/vgENjIqlmbnAbgAAAABJ\n",
       "RU5ErkJggg==\n",
       "\" style=\"display:inline;vertical-align:middle;\" /></a> <a class=\"ProveItLink\" href=\"../__pv_it/0efdb07db9281f9a58182b4b0c8f230e51ce07d30/proof.ipynb\" style=\"text-decoration: none\">&#x22A2;&nbsp;</a><a class=\"ProveItLink\" href=\"../__pv_it/19c7f0425eb6616549118b9e9f24e97c049e0dfc0/expr.ipynb\"><img src=\"data:image/png;base64,iVBORw0KGgoAAAANSUhEUgAAAGgAAAAVCAMAAACdfluMAAAAQlBMVEX///9jY2MJCQkNDQ0rKysP\n",
       "Dw8WFhbMzMxUVFR2dna6uroQEBCqqqqIiIgiIiJmZmYyMjJERETu7u6YmJjc3NwAAABtKQr7AAAA\n",
       "AXRSTlMAQObYZgAAAbxJREFUSMetVe12rCAMpLfthQTCp7z/qxYQXUDFtaf8cI/rkMkkQ2DsdnH2\n",
       "V2sJ08/66oNanvF4NxckxvgGAFhAxsScibR0LlqpBZZ3O4cb7N9dKMnF/LQ3GizjlLDe5D3BsCeV\n",
       "Mys8FA6g+V7HMFEQZ7loeiIoOP3/W7d5+7h6AwuFlwd8WnYgUioTLfq6O448c30eGFfn8JXP4og/\n",
       "UQSYbUBb5TyRWJBe1fDWH9vgY4TG79DUveBPiFBzwWtvMwySck3sJbx4isYuUExrt1to8jjxYCKS\n",
       "OkaZdWtVc0vpQPQMlxcq1+aQpQ9CRln/VrqNemEGCCGpkLXKeadrsVxaa78+0+NoYhNrejz2+HUN\n",
       "ROuPbNoZ2zotmRVUzwBbp45Ey6WirFXspSu7urEmj4fIiw1ZS4e6x58TiXx0NzMon/qcm703xRDD\n",
       "4TCrGszAiRkMXStKTaoGxVSMPFbaAauVGCa30QUN+/jbGVnjq24EJQCAEbt4L4g8mRC6Qv3D3nSG\n",
       "oTBCvAJa3uFdhx+G6mQEhQ9w3Ug5WH3oIc7wk6Hq7i6cu6H6Zribi+qNa+LNeBR+m+LDq/xOUHjC\n",
       "8wOWbRgxh4aHMwAAAABJRU5ErkJggg==\n",
       "\" style=\"display:inline;vertical-align:middle;\" /></a></span>"
      ],
      "text/plain": [
       "{(x in S) in BOOLEANS} |- (x not-in S) in BOOLEANS"
      ]
     },
     "execution_count": 8,
     "metadata": {},
     "output_type": "execute_result"
    }
   ],
   "source": [
    "notInSetDefSpec.subLeftSideInto(closureSpec)"
   ]
  },
  {
   "cell_type": "code",
   "execution_count": 9,
   "metadata": {},
   "outputs": [
    {
     "data": {
      "text/html": [
       "<table><tr><th>&nbsp;</th><th>step type</th><th>requirements</th><th>statement</th></tr>\n",
       "<tr><td><a name=\"0x4d07ae5919216542_step0\">0</a></td><td>generalizaton</td><td><a href=\"#0x4d07ae5919216542_step1\">1</a></td><td><span style=\"font-size:20px;\"> <a class=\"ProveItLink\" href=\"../__pv_it/1970cf66c80f794fe539bd195518f946f20c20610/proof.ipynb\" style=\"text-decoration: none\">&#x22A2;&nbsp;</a><a class=\"ProveItLink\" href=\"../__pv_it/9f97888cbf2aed66e9eb915a38de7fbc67d4f6ba0/expr.ipynb\"><img src=\"data:image/png;base64,iVBORw0KGgoAAAANSUhEUgAAAP0AAAAXCAMAAAD3NLkqAAAARVBMVEX///8/Pz9vb28YGBgNDQ0r\n",
       "KysPDw8WFhYQEBCIiIhmZma6urrMzMxUVFQiIiJERETc3Nzu7u6qqqp2dnaYmJgyMjIAAACoIi7K\n",
       "AAAAAXRSTlMAQObYZgAAA4BJREFUWMPdWImOpCAQZc+Rm+L6/09dBBEKRdvJJr07TNLE4ZX4qBtC\n",
       "/rchyJccxuN5MtTk/9Y82q3Aw/7s/VvJg8bzTPVyYMGcc8RzQuQ1faoWrWNYlOT5OcOdrcsB3so+\n",
       "GDxPBuPoUft8YHH9DXc7EEETFlhWc4abetRGv5W8Z3h+zfBZQftM3NFrUU144k0FKUwzvKq8GcFb\n",
       "hjJ4PjsgrdTH717DEEsM5Jk3LEe8UmFgb+3GPsO9g3UY9d6Qp/B84vCaJj1pdDg8llglyiEEfsAf\n",
       "de94jSwZHvU6lPvMN/+1/EQZnoFSaThtxgzZRgffhhhdt4PrvAaOYSyz50pI0cHLgz5lIlJAtb5t\n",
       "gEPO/MB2OctfY689miG92itKmt2WiE4H16YxjT3Y++5sTjJAYr+oGBfewzmbBsy8ZGP/AnK5wVGO\n",
       "YZAPNDDFDjFGWTS7pDgXgXCDdz4oFLxc4rL916rJlyLL99718PWHniZ7BcOLNNLv+CXWsZJNOjmQ\n",
       "eJEmizHejh5RFbLNq7xGmy0hjV8/088xCcbt6EQc8HkM7OtU4c7PKqiYj96es5diDLHWABzkSv7e\n",
       "F2n6S6r11+zzS3orL/l4yEuuev+RvZnqfuUgO7gJewXlKBO00QqLG4qLQ+bdJXgXcnq5bFVtcWXP\n",
       "vTPXlp+/DZ3uckz21axE3CyfqwF/yl7WAneDa7NVfylHyEDU/uXAlrjwc/YlNzUJlIc7OStRPU1T\n",
       "hbIEcRP1LKSAVl5fzZviA15BG0PmTqIeo3Pdb46/wS1Te34Kg00aqc7Zc40kgE3kVly3mC2fmZF+\n",
       "TVZl5smW1+q1b3iSVQy+lqJnFtkrf+ZOrAlVugngHJMY3rlYbDYJonjVhL1EEkLlskHTUU4EtFj8\n",
       "noyaqUZbZpCUAmWo7wKpf+CIz9I3MCkbS2RSCc/hostpcA/N21qFYu2hqdJ9LYUlGgzL5VOSWPeO\n",
       "sE9Uut+/aVS5HrrEIXRzd4kf4SYSF3IoNTqdB9O5f4Jz9lm4SZBWdGE5jxfXjEfWpvR5l6NvSsu7\n",
       "LucGDtJzR9dKQyx29c7UOzOYxnzoJdJaNUEsV1rSuuiVC0wHP+c25XjT+N93uA/gdtIkdo40Qujm\n",
       "2mOsuVh8crtBb25f9LPLnSv45J5ITx+mL3r5xujuZutmO/+M/CX8lS/gLxAD9oVuHtnTi0QK/zKd\n",
       "PzaFOLAB2LzbAAAAAElFTkSuQmCC\n",
       "\" style=\"display:inline;vertical-align:middle;\" /></a></span></td></tr>\n",
       "<tr><td><a name=\"0x4d07ae5919216542_step1\">1</a></td><td>instantiation</td><td><a href=\"#0x4d07ae5919216542_step2\">2</a>, <a href=\"#0x4d07ae5919216542_step3\">3</a>, <a href=\"#0x4d07ae5919216542_step4\">4</a></td><td><span style=\"font-size:20px;\"><a class=\"ProveItLink\" href=\"../__pv_it/ba5d3709106c6d0f50ce27e596244179c28355420/expr.ipynb\"><img src=\"data:image/png;base64,iVBORw0KGgoAAAANSUhEUgAAAH0AAAAVBAMAAACZCfwhAAAAMFBMVEX///+IiIi6urrc3NxERETM\n",
       "zMwQEBCqqqpUVFQiIiJ2dnYyMjLu7u5mZmaYmJgAAABN0h6tAAAAAXRSTlMAQObYZgAAAfhJREFU\n",
       "OMudVD1IQlEUPr6e+fd82RBUBNkS0VASzfFoCyINrKGliNqFwNYgKtqMiHLKGgIdwqnBGhQibEnb\n",
       "zMCEmorIySECO+c9vb1rvhd0wHvf/TzfPd85954LAHIJ/mXW+zRNUorGCRPHNQNcWKVRrtAmSmsX\n",
       "WzEhe+0+HuxZ8V8cefHjkVbOCA4uX2v+DEh+kJJNaHJWmqak44z/3pruzgO8AZw0wcoIdIkcf5/7\n",
       "/yUa1ULmAgADADdNOPLXOX5bRE8P9jW+RssAc5idl8eRf3qt51tQJ2S6x3o9VMsrtlPuM6C65IHD\n",
       "lRHhYAvnM1rYUZKIcaSYvOcgebpyW2q1TToiVfUPrgweV0nSBy3CGMIRwiBp55dALqIulbvtKl4S\n",
       "m5qeqK/f+SudGuoKUunacTcJRO0SzF+isSN7wq2tFR5HviigZNjFfAcDGh+gw6MyxlkcJ5WA8cf1\n",
       "8UXYwPgblJai6QdYVIsF7cwvSyDqFyI8jnw7JOv5U/2pfrZ0P1ioI9yehl8Yf0VWvx+c4suxev2J\n",
       "Twc0GvLXu+iw4feQBydJdMd4PLkAiYL+/ElgtjNTKmuyJ9OaX36osEOzK8DhrH+M7u/wVJRrmVsD\n",
       "XOMvGfdP3U4M8Djrf9FnQv/Vvw1T+x9SJu+HakabC8vaG1P64/16Nnn/vgENjIqlmbnAbgAAAABJ\n",
       "RU5ErkJggg==\n",
       "\" style=\"display:inline;vertical-align:middle;\" /></a> <a class=\"ProveItLink\" href=\"../__pv_it/0efdb07db9281f9a58182b4b0c8f230e51ce07d30/proof.ipynb\" style=\"text-decoration: none\">&#x22A2;&nbsp;</a><a class=\"ProveItLink\" href=\"../__pv_it/19c7f0425eb6616549118b9e9f24e97c049e0dfc0/expr.ipynb\"><img src=\"data:image/png;base64,iVBORw0KGgoAAAANSUhEUgAAAGgAAAAVCAMAAACdfluMAAAAQlBMVEX///9jY2MJCQkNDQ0rKysP\n",
       "Dw8WFhbMzMxUVFR2dna6uroQEBCqqqqIiIgiIiJmZmYyMjJERETu7u6YmJjc3NwAAABtKQr7AAAA\n",
       "AXRSTlMAQObYZgAAAbxJREFUSMetVe12rCAMpLfthQTCp7z/qxYQXUDFtaf8cI/rkMkkQ2DsdnH2\n",
       "V2sJ08/66oNanvF4NxckxvgGAFhAxsScibR0LlqpBZZ3O4cb7N9dKMnF/LQ3GizjlLDe5D3BsCeV\n",
       "Mys8FA6g+V7HMFEQZ7loeiIoOP3/W7d5+7h6AwuFlwd8WnYgUioTLfq6O448c30eGFfn8JXP4og/\n",
       "UQSYbUBb5TyRWJBe1fDWH9vgY4TG79DUveBPiFBzwWtvMwySck3sJbx4isYuUExrt1to8jjxYCKS\n",
       "OkaZdWtVc0vpQPQMlxcq1+aQpQ9CRln/VrqNemEGCCGpkLXKeadrsVxaa78+0+NoYhNrejz2+HUN\n",
       "ROuPbNoZ2zotmRVUzwBbp45Ey6WirFXspSu7urEmj4fIiw1ZS4e6x58TiXx0NzMon/qcm703xRDD\n",
       "4TCrGszAiRkMXStKTaoGxVSMPFbaAauVGCa30QUN+/jbGVnjq24EJQCAEbt4L4g8mRC6Qv3D3nSG\n",
       "oTBCvAJa3uFdhx+G6mQEhQ9w3Ug5WH3oIc7wk6Hq7i6cu6H6Zribi+qNa+LNeBR+m+LDq/xOUHjC\n",
       "8wOWbRgxh4aHMwAAAABJRU5ErkJggg==\n",
       "\" style=\"display:inline;vertical-align:middle;\" /></a></span></td></tr>\n",
       "<tr><td>&nbsp;</td><td colspan=4 style=\"text-align:left\"><span style=\"font-size:20px;\"><a class=\"ProveItLink\" href=\"../__pv_it/0b28339a9470b3064675e3d630fe626bc057a2440/expr.ipynb\"><img src=\"data:image/png;base64,iVBORw0KGgoAAAANSUhEUgAAADcAAAAUBAMAAADbzbjtAAAAMFBMVEX///8iIiLc3Ny6urqIiIiq\n",
       "qqp2dnbMzMwQEBDu7u5mZmYyMjJERERUVFSYmJgAAAA4CJ/KAAAAAXRSTlMAQObYZgAAAQ1JREFU\n",
       "KM9jYIADpgcMyCAITL79f/burgkMDHNQ5Bh4FcDUbwYGnk4Ghk2okpwbQCT7NwYG1i8MfAtQJRlS\n",
       "QATLZyD+xsCogCY5A0TwfABa8JlBEU2OgdsASPADDddfwOCF5O5lS4BuYAPZU5/AwCrGwHAOIWmh\n",
       "wA00jQ/kIv9raUuAPhFFuLOPgesA0JECQPb5CWChZrgk108GRgegL4C6GT4yoElyHGCYXwCRZP8F\n",
       "EUIYOz+BIR5IMQtAvAkCCAfND2C4zaoAdhD3T4hQFlySx4FPlg1odQID1/6/DmAhQ6BBZ4DgJAPn\n",
       "FXddZ6CuAoTnMIJvIhIbe8DDwCFsUQYDaJHNg2INWjJ5xMAAAHA6PhPQZp1jAAAAAElFTkSuQmCC\n",
       "\" style=\"display:inline;vertical-align:middle;\" /></a> : <a class=\"ProveItLink\" href=\"../__pv_it/54ddb84025c2fe7ea43831ff65b3d33b8091aef60/expr.ipynb\"><img src=\"data:image/png;base64,iVBORw0KGgoAAAANSUhEUgAAAD4AAAAPBAMAAABOyWF/AAAAMFBMVEX///9UVFSqqqrMzMwiIiKY\n",
       "mJgyMjIQEBCIiIh2dnZmZmbc3Nzu7u5ERES6uroAAACFTSmKAAAAAXRSTlMAQObYZgAAAMRJREFU\n",
       "GNNjYMABONzvfiuRY8AN2Jgbzp4KwC3PyxfAYXABUzzWxSUBKs+kgClv24PQz/kGIb9rVvsBIMWT\n",
       "g2T+E0MDGI+vmiEfRDNuQMiX/K+Daz8ewLAWLIrsPs7QCTDe+gMMHiDaPA0IYO5juPAUJl/LwPMZ\n",
       "RO9F1s9wgRHK4fnJwPQBxGBHkRdgg8l/YmBM0AYyuBpQ9EfCeDcYQgTAjnFChO8EzlkCDG/vAsEB\n",
       "hoMd1hIPQMIH7x3AHz8vr0DCFwIAr5Y54qhCm2YAAAAASUVORK5CYII=\n",
       "\" style=\"display:inline;vertical-align:middle;\" /></a>, <a class=\"ProveItLink\" href=\"../../../../__pv_it/72df168d2bfb4e0140af90912ebf83b13772060b0/expr.ipynb\"><img src=\"data:image/png;base64,iVBORw0KGgoAAAANSUhEUgAAAAsAAAAJBAMAAAAWSsseAAAALVBMVEX///9mZmaqqqrMzMxEREQy\n",
       "MjIiIiKYmJh2dna6urrc3NxUVFSIiIju7u4AAACJHQtQAAAAAXRSTlMAQObYZgAAAEJJREFUCNdj\n",
       "YLhzeuWJAwy8Dew5bAEMHBc43nIuYOBlYHFgAAG+A2DKzgBIMF04x8BzgWGegh/DcgaG22fuiBcw\n",
       "AAATyhBrnyPYZQAAAABJRU5ErkJggg==\n",
       "\" style=\"display:inline;vertical-align:middle;\" /></a> : <a class=\"ProveItLink\" href=\"../__pv_it/beb06f21ea9313aa3d1d72d88e2cf4aebfd6e0410/expr.ipynb\"><img src=\"data:image/png;base64,iVBORw0KGgoAAAANSUhEUgAAADMAAAAVCAMAAADciiYzAAAAQlBMVEX///9jY2MJCQkNDQ0rKysQ\n",
       "EBAPDw8WFhZmZmaqqqrMzMxEREQyMjIiIiKYmJh2dna6urrc3NxUVFSIiIju7u4AAAB85YEvAAAA\n",
       "AXRSTlMAQObYZgAAAPdJREFUOMuVU9t2xCAItJe0GBUMl///1arZNKF7NqfyQBIQZiBjCDe2hnkr\n",
       "8yUr++8IRBSw3tWAzyZsTpNNUAMYD8wvz2Mq31/lklfbN1Ll1SRJNKTtGqqGe2qUqghvVehsoFm7\n",
       "c23UjH53r9SYFAkXItwR5A8JsWa8Y1PrSaahnlRSdx3LIyEvtoxodym5aZac8+dHc087AovHqzke\n",
       "W+9A0R2mY6ojvJpX1vL0c5SPk4Nb1DZen/HkDxIqeNksjwzte4+h62HDqwIie2QoowfxA1VEBRA9\n",
       "lffq1gahMjDHO6nhG6VSSp65Bl43/zJN87dNcL7mHuYHMTkLlsNtzgkAAAAASUVORK5CYII=\n",
       "\" style=\"display:inline;vertical-align:middle;\" /></a>, <a class=\"ProveItLink\" href=\"../../../../__pv_it/c6e291955561f22a0e6708fd793ea93f1c7dbb5d0/expr.ipynb\"><img src=\"data:image/png;base64,iVBORw0KGgoAAAANSUhEUgAAAAsAAAANBAMAAACN24kIAAAAMFBMVEX///8iIiKYmJhUVFTMzMxE\n",
       "REQyMjKqqqq6urp2dnYQEBDc3NxmZmaIiIju7u4AAACH5sGpAAAAAXRSTlMAQObYZgAAAFlJREFU\n",
       "CNdj4LtzgWHXAwZOjgUM9xkYtvMkMIQyMDzgusDwl4GBof8ByxcgdYyBdwGQCmZgNQBShxn6FYDU\n",
       "47vnNzAwgGUZGJgT+H4AKUYF1gtAiuPuESAJAJGkFvXVdzA+AAAAAElFTkSuQmCC\n",
       "\" style=\"display:inline;vertical-align:middle;\" /></a> : <a class=\"ProveItLink\" href=\"../__pv_it/5e94d2e23d341ef02b2bcfdef56e26bce4d525d20/expr.ipynb\"><img src=\"data:image/png;base64,iVBORw0KGgoAAAANSUhEUgAAAFIAAAAUBAMAAADsA3fZAAAAMFBMVEX///+6uroQEBCqqqqIiIgy\n",
       "MjJERETu7u6YmJjMzMxUVFTc3Nx2dnYiIiJmZmYAAAAutVgsAAAAAXRSTlMAQObYZgAAAUVJREFU\n",
       "KM9jYECAHQw4AfMGZB57AnZVdmcONDKsRhZh3YBVIVsDQ9kHhlJkoT7sRr5jYOAIYOBxQBK6jSzP\n",
       "kXv3KsRNPxkYGB0Y2BUQctwXkBRyphRAWYw/gLwJDAyBCEmWB0ADXFaLHAFxSgvg/vx/EkyfQ3E5\n",
       "Qw1DrwPYUiSv+v//BfJqK8Pbu0BwB8jkNWBgOM5wvkAaJI0UYOxd+upAyhbC2wXETAIMDAUMaRBn\n",
       "qoYCAUwt32cgMR9VJQPDF4jvEGYeAJqKphJkOwPnT4gAPEzYFwAFvwMZsgiVIB+Zs3xgcAcJPIFH\n",
       "OFAP3wGwjyDuAmKeBwyMn9k+cDcwwCwAu/EeA8MpEOMNwo+MFxjYl7j7dUAsXSYOVcm4bhVYVySu\n",
       "2GQ8Bo1NmHsvEE4hEICSQtg24FFZSkxKBoNsFB6e3MGxgQEA029OXInzxmEAAAAASUVORK5CYII=\n",
       "\" style=\"display:inline;vertical-align:middle;\" /></a></span></td></tr><tr><td><a name=\"0x4d07ae5919216542_step2\">2</a></td><td>theorem</td><td></td><td><span style=\"font-size:20px;\"> <a class=\"ProveItLink\" href=\"../../../equality/_proofs_/subLeftSideInto.ipynb\" style=\"text-decoration: none\">&#x22A2;&nbsp;</a><a class=\"ProveItLink\" href=\"../../../equality/__pv_it/c544cc2018fec56ce96b530fc022bf6c30a3d2a00/expr.ipynb\"><img src=\"data:image/png;base64,iVBORw0KGgoAAAANSUhEUgAAAL8AAAAWBAMAAABj11ATAAAAMFBMVEX///8QEBCIiIhmZma6urrM\n",
       "zMxUVFQiIiJERETc3Nzu7u6qqqp2dnaYmJgyMjIAAAAcRTyBAAAAAXRSTlMAQObYZgAAAthJREFU\n",
       "SMe1VU1oE0EU/rruTzbZJl48eQkWSgkFcxFUREKFqmA19SDeDMEWKrXtoR4sKvGWCrW5WQRxBalY\n",
       "PAQ8iIK41IMQg0YURFDYs1C7KEpbi/rmp5vdJhHF+GD3zXxvZr43782bAf6H3JD6IX0ua3xoz7qd\n",
       "4yvDY3uBaEECegl4zhof2+R5gty9bCNekv0o9edIm4U2EZxygCdJvPaBRSBuA1a5TQQ7M/Q5OO8D\n",
       "tyhulYWFa+1K7ix94xlzwgfixLhSLF74w/k8tNpvBvygcH+Bkqbo7xjpo/hY1BwCpgF1dnT3mcYZ\n",
       "Gf6XRot3YpmW62vrwAMHkRpwD2+Tlyg+lOUDPNd4BTxrnCKzL4wjorOnJYHyrfo0BRiU0gpe2ofJ\n",
       "G4qWAYUYMUzpaUnAjZojOvMtCSJrXHXQHm0U+Z482njNYM2LEFBTAm7UszJxpZZlMOETAJ83CEz3\n",
       "BCuJVShT7ODu6qZ11G4Ydp1AGMmPvhymxIatruNDclkOijJIc8VCBO0rzx6jnD7NWuu9rKYVe8wg\n",
       "fithDwZ2IIx0mJ01bStiOYJSujupF0lmBOiXAYsUefBI8ZASScZ9xmK54hxgianrB9ETIBDGQzBv\n",
       "TygFqAzMxmtyAwLksmyL4Wmo3yOeSSO2sLwlkow1Lcev8v8+5AMEwtjPxutJaJwu4WeCg0z2/xST\n",
       "KC7RfKqL3aBxlrdOxpuQt4Xm8UKaxLYAgTCepOhmOrJQczzeyOqfSJYEGJL6VXGnfk0xh+bsm5Zr\n",
       "kcI51QsQcCMbbGSPkUOOecX0XkCeWgGGJHTZyRJZZuUzWJ5/s1ghhf4et04gjOxcqfmrFJKMtj16\n",
       "9kivLedyMFwPwes6JDJO5WgpUgvWgXCijLuYobhSgQYncTAk/oMT2VQysZJUunMUDQTUGVXJpcfi\n",
       "KfSFg82fzHebn7wNpb53mhAMYKBK7tGRqoXg6j9c8OnGDSr2X63wC2jlxTKsC1d/AAAAAElFTkSu\n",
       "QmCC\n",
       "\" style=\"display:inline;vertical-align:middle;\" /></a></span></td></tr>\n",
       "<tr><td>&nbsp;</td><td colspan=4 style-\"text-align:left\"><a class=\"ProveItLink\" href=\"../../../equality/_proofs_/subLeftSideInto.ipynb\">proveit.logic.equality.subLeftSideInto</a></td></tr><tr><td><a name=\"0x4d07ae5919216542_step3\">3</a></td><td>instantiation</td><td><a href=\"#0x4d07ae5919216542_step5\">5</a>, <a href=\"#0x4d07ae5919216542_step6\">6</a></td><td><span style=\"font-size:20px;\"><a class=\"ProveItLink\" href=\"../__pv_it/ba5d3709106c6d0f50ce27e596244179c28355420/expr.ipynb\"><img src=\"data:image/png;base64,iVBORw0KGgoAAAANSUhEUgAAAH0AAAAVBAMAAACZCfwhAAAAMFBMVEX///+IiIi6urrc3NxERETM\n",
       "zMwQEBCqqqpUVFQiIiJ2dnYyMjLu7u5mZmaYmJgAAABN0h6tAAAAAXRSTlMAQObYZgAAAfhJREFU\n",
       "OMudVD1IQlEUPr6e+fd82RBUBNkS0VASzfFoCyINrKGliNqFwNYgKtqMiHLKGgIdwqnBGhQibEnb\n",
       "zMCEmorIySECO+c9vb1rvhd0wHvf/TzfPd85954LAHIJ/mXW+zRNUorGCRPHNQNcWKVRrtAmSmsX\n",
       "WzEhe+0+HuxZ8V8cefHjkVbOCA4uX2v+DEh+kJJNaHJWmqak44z/3pruzgO8AZw0wcoIdIkcf5/7\n",
       "/yUa1ULmAgADADdNOPLXOX5bRE8P9jW+RssAc5idl8eRf3qt51tQJ2S6x3o9VMsrtlPuM6C65IHD\n",
       "lRHhYAvnM1rYUZKIcaSYvOcgebpyW2q1TToiVfUPrgweV0nSBy3CGMIRwiBp55dALqIulbvtKl4S\n",
       "m5qeqK/f+SudGuoKUunacTcJRO0SzF+isSN7wq2tFR5HviigZNjFfAcDGh+gw6MyxlkcJ5WA8cf1\n",
       "8UXYwPgblJai6QdYVIsF7cwvSyDqFyI8jnw7JOv5U/2pfrZ0P1ioI9yehl8Yf0VWvx+c4suxev2J\n",
       "Twc0GvLXu+iw4feQBydJdMd4PLkAiYL+/ElgtjNTKmuyJ9OaX36osEOzK8DhrH+M7u/wVJRrmVsD\n",
       "XOMvGfdP3U4M8Djrf9FnQv/Vvw1T+x9SJu+HakabC8vaG1P64/16Nnn/vgENjIqlmbnAbgAAAABJ\n",
       "RU5ErkJggg==\n",
       "\" style=\"display:inline;vertical-align:middle;\" /></a> <a class=\"ProveItLink\" href=\"../__pv_it/efc25e298c6045810f3843e7ecbe4b25d565ba0d0/proof.ipynb\" style=\"text-decoration: none\">&#x22A2;&nbsp;</a><a class=\"ProveItLink\" href=\"../__pv_it/1551b8b3dc02de7386ecbc1333d5db85bd3817640/expr.ipynb\"><img src=\"data:image/png;base64,iVBORw0KGgoAAAANSUhEUgAAAIkAAAAUBAMAAABL8gNnAAAAMFBMVEX////MzMxUVFR2dna6uroQ\n",
       "EBCqqqqIiIgiIiJmZmYyMjJERETu7u6YmJjc3NwAAACgK8IjAAAAAXRSTlMAQObYZgAAAghJREFU\n",
       "OMtjYOC7wIAAbxlwArYHEIwdnEZi82zAribT2OAKgx6QoYcmURG9f2mTA5CxDkmQC7td3BcYTn9g\n",
       "OAVknUKXWiDOs2cuAwPvBCSxm9idMhOobAEDcwEDGKOADb4MhdwMDBzI1vehqLjd0bEA7M+PDAws\n",
       "BQw8AQxgDAK8Ozq6YKakAU15gaSNrwHZEOkaKIPlLwMDowADwxIGCAbyth9AuMUEGLKVSPrYgb7j\n",
       "KddzNwe7YA08zP8bgmlLKAYGzwGEj1gaFRkY9qKGIsNhhhsFYMcyIbxa//8TiHMLipGjaoNr/1dg\n",
       "HLUxMHB2gIABMIwSGBhsGOwP+IGNREoAl+JjgFQGFAP1Ioeu7WUGhhBYmCgwMLACTT3AsBsiILoK\n",
       "CBZAZTm/AQl5KGZgjALJwUzhZrmAYQoDw3eIwGu4fUBX8qCYwofiFm4GBZCP4KaAfMTA+BEiwAr3\n",
       "D1CG8Q+Q4QHFDAwByKYwMSyAhy7IFFDo5rB/YABHMScsgbEB9XAaoITudBS38BpAow4IgAmCeQID\n",
       "yzfuD9D8CXMlZycDgxGIMRmKoY6G5ABhBuNJMCdCk1cDA496TeVdCO/QFkiq4GTRVALrWgjFQE9q\n",
       "+6DmRjw5wHlHxwLkDN8AwWD7rKE5AAqIyY0QgDU3wsA+5MT7AI8pWEsGUkopuHX7cEkSW2LyPoBg\n",
       "bAAAVXWMHaqIaXQAAAAASUVORK5CYII=\n",
       "\" style=\"display:inline;vertical-align:middle;\" /></a></span></td></tr>\n",
       "<tr><td>&nbsp;</td><td colspan=4 style=\"text-align:left\"><span style=\"font-size:20px;\"><a class=\"ProveItLink\" href=\"../../../../__pv_it/d3792d0d8642fdf1cd2a3a9b32c673ee13653de00/expr.ipynb\"><img src=\"data:image/png;base64,iVBORw0KGgoAAAANSUhEUgAAAA8AAAAOBAMAAAACpFvcAAAALVBMVEX///8iIiIQEBBERERUVFS6\n",
       "urqIiIjc3NxmZmaqqqru7u6YmJgyMjLMzMwAAACK9jtgAAAAAXRSTlMAQObYZgAAAFtJREFUCNdj\n",
       "YACBOwxQcA5Kc59bAGGs7CuAMDbkBYBp1gXzNoAZSxnuJYAZAQx1DSCa16PDzwCshIGB6QCIMYGB\n",
       "gVEBSLMDGTwPgIxCIGZ+zsCw+N0pBk67hw0AfpEVEQi8t+wAAAAASUVORK5CYII=\n",
       "\" style=\"display:inline;vertical-align:middle;\" /></a> : <a class=\"ProveItLink\" href=\"../__pv_it/41ce078980b5525619d14275705c1719289cb6890/expr.ipynb\"><img src=\"data:image/png;base64,iVBORw0KGgoAAAANSUhEUgAAADMAAAAPBAMAAAC7N+rPAAAAMFBMVEX///8QEBBmZmaqqqrMzMxE\n",
       "REQyMjIiIiKYmJh2dna6urrc3NxUVFSIiIju7u4AAAA6P00QAAAAAXRSTlMAQObYZgAAAMtJREFU\n",
       "GNNjYMAGmDVncizAKsMQwcAXj12GSYGBoQ1FhCO8vAzMeO/AwLAWWYYl9gGUtb6BgcEFSL+9s+vm\n",
       "BZDAM5gMw/ufDiCKbwJHLXsCiHUarp/3/38Qh/MB5z+uDSCBAITZLw5+BBrBx8AKEWMRSwMCmKS+\n",
       "AYjkB9vEwA3XxQmyDizl7wAREYBJvQEJAg1kfnCfgRfsNl2YlCEQa4L8YBDPsAMswm4AlVJXYOA8\n",
       "ANJ9961GA1iE7+g6iJTCGp3DaEHHNRUaUBAAAFDXMplUllphAAAAAElFTkSuQmCC\n",
       "\" style=\"display:inline;vertical-align:middle;\" /></a></span></td></tr><tr><td><a name=\"0x4d07ae5919216542_step4\">4</a></td><td>instantiation</td><td><a href=\"#0x4d07ae5919216542_step7\">7</a></td><td><span style=\"font-size:20px;\"> <a class=\"ProveItLink\" href=\"../__pv_it/d04f07c2b3bf0c0971b733181b5bcd568d2663600/proof.ipynb\" style=\"text-decoration: none\">&#x22A2;&nbsp;</a><a class=\"ProveItLink\" href=\"../__pv_it/b9bf713568a711a5413a9b48ed6200ab7ef87bc70/expr.ipynb\"><img src=\"data:image/png;base64,iVBORw0KGgoAAAANSUhEUgAAAL8AAAAVCAMAAAAgs8+8AAAAQlBMVEX///9jY2MJCQkNDQ0rKysP\n",
       "Dw8WFhbMzMxUVFR2dna6uroQEBCqqqqIiIgiIiJmZmYyMjJERETu7u6YmJjc3NwAAABtKQr7AAAA\n",
       "AXRSTlMAQObYZgAAAh5JREFUSMfNl+l6rCAMhulpewQUkO3+b7UIbgFDnOmaH/2eDpo3QhIjY6QN\n",
       "7I9b8N1ljfw+hU+6J7iM4G7qbH/7eXW7EUIwLxnjtx4AdU9wm7Ab7qpzPwwjwb/WZ3Rc/s53uKj7\n",
       "OTwS/gW3qDfsgfQx5WqfbxWK5qLuKS6juVl1Zxu81f/f9WmbXSzVLLMHN9Jg1D3BTUZyFw0az3yr\n",
       "HLMAI2OpuaG4myVZvPrRhZULDeEmVesxOqV4kOqUEm52TY67GMWpnwoyB5QhFhBuXevX3KS2PJgT\n",
       "6dS0YqdDy+WtqhRXMdneePxxtZhPZmDZofWIc5vHveQm1VPBp2cW0TF53JzbW7MXzvMxjuuvkybT\n",
       "v7g3ejcBFjBuewJX3KRjSaVlwYI7hzFt5Nvrsp1NM4jTek2k4h/rCgkcLCDcYiQ36QkQQa6ExauY\n",
       "gAOxZeOXxY9wK8O4SfUe4RDhpDM2zd/x7cr1HKW+zn9e508bf5/L7nGTrnU0uVQiS50c+W4Uk7B7\n",
       "TKtrI9r67ZdpG3+XW48OGDdpaUUynczybgYjlZ443Bmj88Vi397dIWpthx3OCwi3znuMm7QcheNK\n",
       "OWW8h8f2T4L2Y5jkhvPD/UzO1lJ3FxCuvcldtPMe9y/Cwvd4lZdk+3xyfpD3uFk7c5QlJsQfnN8u\n",
       "uUXRKKkB/d78jLq34cnw4fyMh6n8k5F9y/dLy90U+44j/Ptf+n7cuFk/AFtdJimSV+YnAAAAAElF\n",
       "TkSuQmCC\n",
       "\" style=\"display:inline;vertical-align:middle;\" /></a></span></td></tr>\n",
       "<tr><td>&nbsp;</td><td colspan=4 style=\"text-align:left\"><span style=\"font-size:20px;\"><a class=\"ProveItLink\" href=\"../../../../__pv_it/72df168d2bfb4e0140af90912ebf83b13772060b0/expr.ipynb\"><img src=\"data:image/png;base64,iVBORw0KGgoAAAANSUhEUgAAAAsAAAAJBAMAAAAWSsseAAAALVBMVEX///9mZmaqqqrMzMxEREQy\n",
       "MjIiIiKYmJh2dna6urrc3NxUVFSIiIju7u4AAACJHQtQAAAAAXRSTlMAQObYZgAAAEJJREFUCNdj\n",
       "YLhzeuWJAwy8Dew5bAEMHBc43nIuYOBlYHFgAAG+A2DKzgBIMF04x8BzgWGegh/DcgaG22fuiBcw\n",
       "AAATyhBrnyPYZQAAAABJRU5ErkJggg==\n",
       "\" style=\"display:inline;vertical-align:middle;\" /></a> : <a class=\"ProveItLink\" href=\"../../../../__pv_it/72df168d2bfb4e0140af90912ebf83b13772060b0/expr.ipynb\"><img src=\"data:image/png;base64,iVBORw0KGgoAAAANSUhEUgAAAAsAAAAJBAMAAAAWSsseAAAALVBMVEX///9mZmaqqqrMzMxEREQy\n",
       "MjIiIiKYmJh2dna6urrc3NxUVFSIiIju7u4AAACJHQtQAAAAAXRSTlMAQObYZgAAAEJJREFUCNdj\n",
       "YLhzeuWJAwy8Dew5bAEMHBc43nIuYOBlYHFgAAG+A2DKzgBIMF04x8BzgWGegh/DcgaG22fuiBcw\n",
       "AAATyhBrnyPYZQAAAABJRU5ErkJggg==\n",
       "\" style=\"display:inline;vertical-align:middle;\" /></a>, <a class=\"ProveItLink\" href=\"../../../../__pv_it/f7e31792649ed3cb09061ae8e85d975fd4cc9fa60/expr.ipynb\"><img src=\"data:image/png;base64,iVBORw0KGgoAAAANSUhEUgAAAA0AAAAOBAMAAAAGUYvhAAAAMFBMVEX///8iIiIQEBDc3NxUVFSI\n",
       "iIjMzMwyMjLu7u5ERES6urqYmJh2dnZmZmaqqqoAAABUl3CJAAAAAXRSTlMAQObYZgAAAGBJREFU\n",
       "CNdjYGDgu3OGewEDA8NsBo75QIr3AgPDdiDdn8DAsBRIr9/AwJAG4v8BCgAB6///zmBGt9OnBjCD\n",
       "4f4DBgYekBIg3QKk84Hij4D0HSC+eIGBxwFIX1hyxQ9IAQCO0xnvXiMbcgAAAABJRU5ErkJggg==\n",
       "\" style=\"display:inline;vertical-align:middle;\" /></a> : <a class=\"ProveItLink\" href=\"../../../../__pv_it/f7e31792649ed3cb09061ae8e85d975fd4cc9fa60/expr.ipynb\"><img src=\"data:image/png;base64,iVBORw0KGgoAAAANSUhEUgAAAA0AAAAOBAMAAAAGUYvhAAAAMFBMVEX///8iIiIQEBDc3NxUVFSI\n",
       "iIjMzMwyMjLu7u5ERES6urqYmJh2dnZmZmaqqqoAAABUl3CJAAAAAXRSTlMAQObYZgAAAGBJREFU\n",
       "CNdjYGDgu3OGewEDA8NsBo75QIr3AgPDdiDdn8DAsBRIr9/AwJAG4v8BCgAB6///zmBGt9OnBjCD\n",
       "4f4DBgYekBIg3QKk84Hij4D0HSC+eIGBxwFIX1hyxQ9IAQCO0xnvXiMbcgAAAABJRU5ErkJggg==\n",
       "\" style=\"display:inline;vertical-align:middle;\" /></a></span></td></tr><tr><td><a name=\"0x4d07ae5919216542_step5\">5</a></td><td>theorem</td><td></td><td><span style=\"font-size:20px;\"> <a class=\"ProveItLink\" href=\"../../../boolean/negation/_proofs_/closure.ipynb\" style=\"text-decoration: none\">&#x22A2;&nbsp;</a><a class=\"ProveItLink\" href=\"../../../boolean/negation/__pv_it/2771f385c3c2e78668793136b6c488aeff13b2390/expr.ipynb\"><img src=\"data:image/png;base64,iVBORw0KGgoAAAANSUhEUgAAAJsAAAAUBAMAAABoqVKyAAAAMFBMVEX///8QEBCIiIhmZma6urrM\n",
       "zMxUVFQiIiJERETc3Nzu7u6qqqp2dnaYmJgyMjIAAAAcRTyBAAAAAXRSTlMAQObYZgAAAmtJREFU\n",
       "OMudVD1oFEEUft7e3+7tbVIE0oUBG7sEU9goBlIcBAJbpTQHRjCVJykiGOVI4x6id02ICJKVCIaE\n",
       "HAciYuWRQ9CYYlvRyOFpYQqTQjAWGt+bmZvdjTcp/OAt8/P2m/cPcCLMQEgMuVpv5ZcobVrs6ujW\n",
       "pIS4hDIbV0pc9/4MzgCk8Zl3dLCno/smJcQ+Sv2YlpNia6sBWGjaA3KprGHLjwiJnOz7ADaLq2WT\n",
       "QcJFji1kpuuGhi5TExJi4yJurX7JfWf+tqTLNZDuMR5tr68v63xdlhIiGB7D7xe+Ti36yjp7Aukc\n",
       "vDv0vAUd3WkpCkn/FeW5xTd1P3S2MOWilxiXKwAVflj5l+6eFIUnME1x+8Q3s2HsBo8GyHnMxTjP\n",
       "CK5/yIB87sx1Y3lTiDFPaOJmDFYoMy/4bTmSCnsXr3MlDDUkeJ2u/qZIty4Aaz56LvUGpPCKLmK0\n",
       "Lo9eI5JpHrqh7whJB+VJPDlAh4MMV9+eQ8vuPvSBMXtTQ5cEONXu0plR66CcFnRme4q/xTxyHMHY\n",
       "5Nu4s4oOg5ChIinwk/4oXdHB10qUghk6SsM52XFsdMjtkQqkM5HOOVCpOBuz7qNIBTwjTvgAw2CN\n",
       "COuMJanXUkWBcHkJZn/h57wo8oZqsqbdQuMNylYfpd7q7FT91A3PW6TYJaReQTnG58HRHuSqP/HN\n",
       "r3xvXZ2IjQBwyKs8VaPhw4oLRWGdbWibTPCUZFG/EU3WxVO1wjT3BfCa0zXtHe0I4Dg+ArrYUsE8\n",
       "BLN6C7IYjfxC574amJWe3VLvzSbaIYozGLuTx6emHblNNYD/GO55zW/vAf4C0m6ni8+oVXgAAAAA\n",
       "SUVORK5CYII=\n",
       "\" style=\"display:inline;vertical-align:middle;\" /></a></span></td></tr>\n",
       "<tr><td>&nbsp;</td><td colspan=4 style-\"text-align:left\"><a class=\"ProveItLink\" href=\"../../../boolean/negation/_proofs_/closure.ipynb\">proveit.logic.boolean.negation.closure</a></td></tr><tr><td><a name=\"0x4d07ae5919216542_step6\">6</a></td><td>assumption</td><td></td><td><span style=\"font-size:20px;\"><a class=\"ProveItLink\" href=\"../__pv_it/ba5d3709106c6d0f50ce27e596244179c28355420/expr.ipynb\"><img src=\"data:image/png;base64,iVBORw0KGgoAAAANSUhEUgAAAH0AAAAVBAMAAACZCfwhAAAAMFBMVEX///+IiIi6urrc3NxERETM\n",
       "zMwQEBCqqqpUVFQiIiJ2dnYyMjLu7u5mZmaYmJgAAABN0h6tAAAAAXRSTlMAQObYZgAAAfhJREFU\n",
       "OMudVD1IQlEUPr6e+fd82RBUBNkS0VASzfFoCyINrKGliNqFwNYgKtqMiHLKGgIdwqnBGhQibEnb\n",
       "zMCEmorIySECO+c9vb1rvhd0wHvf/TzfPd85954LAHIJ/mXW+zRNUorGCRPHNQNcWKVRrtAmSmsX\n",
       "WzEhe+0+HuxZ8V8cefHjkVbOCA4uX2v+DEh+kJJNaHJWmqak44z/3pruzgO8AZw0wcoIdIkcf5/7\n",
       "/yUa1ULmAgADADdNOPLXOX5bRE8P9jW+RssAc5idl8eRf3qt51tQJ2S6x3o9VMsrtlPuM6C65IHD\n",
       "lRHhYAvnM1rYUZKIcaSYvOcgebpyW2q1TToiVfUPrgweV0nSBy3CGMIRwiBp55dALqIulbvtKl4S\n",
       "m5qeqK/f+SudGuoKUunacTcJRO0SzF+isSN7wq2tFR5HviigZNjFfAcDGh+gw6MyxlkcJ5WA8cf1\n",
       "8UXYwPgblJai6QdYVIsF7cwvSyDqFyI8jnw7JOv5U/2pfrZ0P1ioI9yehl8Yf0VWvx+c4suxev2J\n",
       "Twc0GvLXu+iw4feQBydJdMd4PLkAiYL+/ElgtjNTKmuyJ9OaX36osEOzK8DhrH+M7u/wVJRrmVsD\n",
       "XOMvGfdP3U4M8Djrf9FnQv/Vvw1T+x9SJu+HakabC8vaG1P64/16Nnn/vgENjIqlmbnAbgAAAABJ\n",
       "RU5ErkJggg==\n",
       "\" style=\"display:inline;vertical-align:middle;\" /></a> <a class=\"ProveItLink\" href=\"../__pv_it/9578553770ee5045a309bbd86d7ba9cfcf6ebb470/proof.ipynb\" style=\"text-decoration: none\">&#x22A2;&nbsp;</a><a class=\"ProveItLink\" href=\"../__pv_it/3d11592dfe13d957effa322def57982da78971580/expr.ipynb\"><img src=\"data:image/png;base64,iVBORw0KGgoAAAANSUhEUgAAAGgAAAAUBAMAAACT0mUoAAAAMFBMVEX////MzMxUVFR2dna6uroQ\n",
       "EBCqqqqIiIgiIiJmZmYyMjJERETu7u6YmJjc3NwAAACgK8IjAAAAAXRSTlMAQObYZgAAAZBJREFU\n",
       "OMtjYOC7wIATsD3AIXEah3imscEVBj1UMfbW3b8iVICMddj1cF9gOP2B4RSaKBdjwemTFxh4J2DX\n",
       "NJOBgXcBA3MBmlEsF9gFNjBwoDibd0dHF5jB85GBgaWAgScAVRyoiS1hA8MLZD2M2w9AWSx/gTwB\n",
       "BoYlqOJATcw+GxgqQcaW67mbg8ROwfQw8Pw3BNOWDCjiQE0eQgIMe4HMwww3CsC2IwVW/f9PIIff\n",
       "YkAR52aJ+B/CwNAGZNow2B/wA4ltQGjiuRQfA6QyGFDEQc67a8AA1MdwgGE3xOlRq4AApoDzG5CQ\n",
       "RxUHamLY4AvWxMDwHUzyIWwyANoF18SHbBPDBiaw8xgYP0LEAuCOUwAK/gEyPFDFQZoUuMABkcP+\n",
       "gaEGJDYdnuiAyjgN4AExHcWmy6AwZfnG/QGSbDkSYP7pZGAwAjEmM6CIczEaMFsqgOznUa+pvAtx\n",
       "lbYPVBOLphJY4UIUcViCRU1GLNbQZATzWwNWcVwJFgLQEywM7MOn6RSJmRCvifiyOy/27A4AAOZu\n",
       "B8i72FYAAAAASUVORK5CYII=\n",
       "\" style=\"display:inline;vertical-align:middle;\" /></a></span></td></tr>\n",
       "<tr><td><a name=\"0x4d07ae5919216542_step7\">7</a></td><td>axiom</td><td></td><td><span style=\"font-size:20px;\"> <a class=\"ProveItLink\" href=\"../_axioms_.ipynb#notInSetDef\" style=\"text-decoration: none\">&#x22A2;&nbsp;</a><a class=\"ProveItLink\" href=\"../__pv_it/d518e2b0c234f862021ce59e5cce1417beaf76c10/expr.ipynb\"><img src=\"data:image/png;base64,iVBORw0KGgoAAAANSUhEUgAAAQIAAAAWCAMAAAAcoWJbAAAAQlBMVEX///9jY2MJCQkNDQ0rKysP\n",
       "Dw8WFhYQEBCIiIhmZma6urrMzMxUVFQiIiJERETc3Nzu7u6qqqp2dnaYmJgyMjIAAADRR/RZAAAA\n",
       "AXRSTlMAQObYZgAAAt5JREFUWMPlWO2y1CAMRa9aoHwEKO//qlLa0gZIy65endH82DO7sBwIyYHA\n",
       "2CfazP5dswEjYZr43dnXaMYbHuwgxriU9jA8LhiMVBCoagLCe8+CZEzZV2jGG6iVN8QIvTs6LjA6\n",
       "5GIxEiYk+mpCnn1cP5dXaMYb+tYhRmgPj9ph1waBcSwPxNY7ZHLPx2nGG4id6BEjPDb/DIcn0xZj\n",
       "d5pG//iuL5sNcRNHmblhGqcZb9h4k12DrE+MMHhYzephLdQYeypgODCDZirjJjXzNqFFjtKMN+y8\n",
       "lRHECKNZTftRF3CBEThXVvJLbMMaWVW+Q4z+ckh6MUpDNhC8jXb2iRGq3MF0o2tOUurC3KrLiZB8\n",
       "FzRnl+jLOsurdOcxWTkKwtnbLxcTDU1f3Wje1mVdYoRSkBqdm1ysUtEh9MnzPgKTJ7/pHjAQ1BSn\n",
       "/Vf3mHf78EIX80O8nTjoEWNcP3jX5xo6I08S4drFoC7zlLbz28e6qY06x91/c3xywVSrhVUjvJux\n",
       "R2KMPlAXuZg97G5dkPuhoM/Ha3XA+CMxf5sLCN7aKGKMdikXOc/FzFXJ/WXykorQguswWC2m5lIA\n",
       "6ui5x6PUfS1QDU3jgnveOgko4gqNVdtK05GiFqbLskGkJJJ9OTrQQRKc7b8l6vimIpcr6j474Vs5\n",
       "vFe91gW3vM3dmCKu0AldSrsl1MR1juBjRaYIW++eqHLRTuH9ETp39mWTxeMZ3B6b8wBvowEUcY2X\n",
       "nIqnwMK8ZVF9TKAQAsU5cIFrLFBfJToQBJNKKHXOcHkspKW+bSB4DealiWsMcKbXWeY716v3hi7I\n",
       "4Ys31UUVp+jAXfStC7K85y3ENZagj0mbsohak5wiTK6w4I0yyTzUcn+yTOoS13jGUZCer3eOeUoR\n",
       "IGyqswXQCyQX+lTQjxXL5PDGvuuBbrFMPjP8ypMJD28u7nOeTOjNu5vI/dvW08PZwxTD33o4O4hr\n",
       "7Hdm/439BJP2M3paqy+JAAAAAElFTkSuQmCC\n",
       "\" style=\"display:inline;vertical-align:middle;\" /></a></span></td></tr>\n",
       "<tr><td>&nbsp;</td><td colspan=4 style-\"text-align:left\"><a class=\"ProveItLink\" href=\"../_axioms_.ipynb#notInSetDef\">proveit.logic.set_theory.membership.notInSetDef</a></td></tr></table>"
      ],
      "text/plain": [
       "\tstep type\trequirements\tstatement\n",
       "0\tgeneralizaton\t1\t|- forall_{x, S | (x in S) in BOOLEANS} ((x not-in S) in BOOLEANS)\n",
       "1\tinstantiation\t2, 3, 4\t{(x in S) in BOOLEANS} |- (x not-in S) in BOOLEANS\n",
       "\tP(_a) : _a in BOOLEANS, x : x not-in S, y : [not](x in S)\n",
       "2\ttheorem\t\t|- forall_{P, x, y | P(y), x = y} P(x)\n",
       "\tproveit.logic.equality.subLeftSideInto\n",
       "3\tinstantiation\t5, 6\t{(x in S) in BOOLEANS} |- [not](x in S) in BOOLEANS\n",
       "\tA : x in S\n",
       "4\tinstantiation\t7\t|- (x not-in S) = [not](x in S)\n",
       "\tx : x, S : S\n",
       "5\ttheorem\t\t|- forall_{A in BOOLEANS} ([not](A) in BOOLEANS)\n",
       "\tproveit.logic.boolean.negation.closure\n",
       "6\tassumption\t\t{(x in S) in BOOLEANS} |- (x in S) in BOOLEANS\n",
       "7\taxiom\t\t|- forall_{x, S} ((x not-in S) = [not](x in S))\n",
       "\tproveit.logic.set_theory.membership.notInSetDef"
      ]
     },
     "execution_count": 9,
     "metadata": {},
     "output_type": "execute_result"
    }
   ],
   "source": [
    "%qed"
   ]
  },
  {
   "cell_type": "code",
   "execution_count": null,
   "metadata": {},
   "outputs": [],
   "source": []
  }
 ],
 "metadata": {
  "kernelspec": {
   "display_name": "Python 3",
   "language": "python",
   "name": "python3"
  }
 },
 "nbformat": 4,
 "nbformat_minor": 0
}
