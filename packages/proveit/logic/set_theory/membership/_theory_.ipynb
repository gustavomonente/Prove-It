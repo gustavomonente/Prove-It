{
 "cells": [
  {
   "cell_type": "markdown",
   "metadata": {},
   "source": [
    "Theory of <a href=\"../../../_theory_.ipynb\" class=\"ProveItLink\">proveit</a>.<a href=\"../../_theory_.ipynb\" class=\"ProveItLink\">logic</a>.<a href=\"../_theory_.ipynb\" class=\"ProveItLink\">set_theory</a>.membership\n",
    "========\n",
    "\n",
    "Sets are defined by their membership.  Elements may be in a set, $x \\in S$, or not in a set, $y \\notin S$."
   ]
  },
  {
   "cell_type": "code",
   "execution_count": null,
   "metadata": {},
   "outputs": [],
   "source": [
    "import proveit\n",
    "%theory"
   ]
  },
  {
   "cell_type": "code",
   "execution_count": null,
   "metadata": {},
   "outputs": [],
   "source": []
  }
 ],
 "metadata": {
  "kernelspec": {
   "display_name": "Python 3",
   "language": "python",
   "name": "python3"
  }
 },
 "nbformat": 4,
 "nbformat_minor": 0
}
