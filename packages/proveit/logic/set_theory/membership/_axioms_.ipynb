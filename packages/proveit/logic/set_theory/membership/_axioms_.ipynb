{
 "cells": [
  {
   "cell_type": "markdown",
   "metadata": {},
   "source": [
    "Axioms for the theory of <a class=\"ProveItLink\" href=\"_theory_.ipynb\">proveit.logic.set_theory.membership</a>\n",
    "========"
   ]
  },
  {
   "cell_type": "code",
   "execution_count": null,
   "metadata": {},
   "outputs": [],
   "source": [
    "import proveit\n",
    "# Prepare this notebook for defining the axioms of a theory:\n",
    "%axioms_notebook # Keep this at the top following 'import proveit'.\n",
    "from proveit.logic import Forall, And, Not, Equals, InSet, inBool, NotInSet, EmptySet\n",
    "from proveit.number import Exp, Natural, one\n",
    "from proveit._common_ import x, S, f, i, n\n",
    "from proveit.logic.set_theory._common_ import each_x_in_S\n",
    "%begin axioms"
   ]
  },
  {
   "cell_type": "markdown",
   "metadata": {},
   "source": [
    "**Set membership should be either true or false (though one might not know which it is), and thus we might naively expect to include here an axiom for set membership being in the Booleans, something like**<br>\n",
    "> $\\text{membershipInBool} = \\forall_{x, S}\\;(x\\in S) \\in Booleans$\n",
    "\n",
    "**This would be problematic, however, and open up the system to Russell's paradox. Instead we use whether or not membership can be proven to be in Booleans to dictate whether something is a set or not.**"
   ]
  },
  {
   "cell_type": "markdown",
   "metadata": {},
   "source": [
    "**Define an exponentiated set.**"
   ]
  },
  {
   "cell_type": "markdown",
   "metadata": {},
   "source": [
    "Bob has a good suggestion to move this to a new theory, proveit.logic.set_theory.cartesian_product, as a theorem.  The axioms would define S^n = S x S x ... S and the axiom would be a more general one about membership in a general cartesian product."
   ]
  },
  {
   "cell_type": "raw",
   "metadata": {},
   "source": [
    "expSetDef = Forall(n, Forall((x, S), Equals(InSet(x, Exp(S, n)), \n",
    "                                            And(Equals(Len(x), n), \n",
    "                                                each_x_in_S))),\n",
    "                   domain=Natural)"
   ]
  },
  {
   "cell_type": "markdown",
   "metadata": {},
   "source": [
    "**$x \\notin S$ is defined as the negation of $x \\in S$ for all $x$ and $S$:**"
   ]
  },
  {
   "cell_type": "code",
   "execution_count": null,
   "metadata": {},
   "outputs": [],
   "source": [
    "notInSetDef = Forall((x, S), Equals(NotInSet(x, S), Not(InSet(x, S))))"
   ]
  },
  {
   "cell_type": "code",
   "execution_count": null,
   "metadata": {},
   "outputs": [],
   "source": [
    "%end axioms"
   ]
  },
  {
   "cell_type": "code",
   "execution_count": null,
   "metadata": {},
   "outputs": [],
   "source": []
  }
 ],
 "metadata": {
  "kernelspec": {
   "display_name": "Python 3",
   "language": "python",
   "name": "python3"
  }
 },
 "nbformat": 4,
 "nbformat_minor": 0
}
