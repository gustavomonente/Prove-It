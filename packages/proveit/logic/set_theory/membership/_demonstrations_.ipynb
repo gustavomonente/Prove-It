{
 "cells": [
  {
   "cell_type": "markdown",
   "metadata": {},
   "source": [
    "Demonstrations for context <a class=\"ProveItLink\" href=\"_context_.ipynb\">proveit.logic.set_theory.membership</a>\n",
    "========"
   ]
  },
  {
   "cell_type": "code",
   "execution_count": 1,
   "metadata": {},
   "outputs": [],
   "source": [
    "import proveit\n",
    "from proveit import ExprTuple\n",
    "from proveit.logic import Forall, Not, Equals, InSet, NotInSet, EmptySet\n",
    "import proveit._common_\n",
    "from proveit._common_ import a, i, x, A, B, C, D, E, F, G, H, I, S\n",
    "from proveit.number import zero, one, two, three, four, five, six, seven, eight, nine, num, Exp\n",
    "from proveit.number import Integers, Naturals, NaturalsPos, Reals, RealsNeg, RealsPos\n",
    "from proveit.number.sets.number_set import NumberSet\n",
    "%begin demonstrations"
   ]
  },
  {
   "cell_type": "markdown",
   "metadata": {},
   "source": [
    "# Membership $\\in$\n",
    "### UNDER CONSTRUCTION"
   ]
  },
  {
   "cell_type": "markdown",
   "metadata": {},
   "source": [
    "<div style=\"line-height:1.4; font-size:14pt\">\n",
    "\n",
    "<a href='#introduction'>Introduction</a><br>\n",
    "<a href='#simple_expressions'>Simple Expressions involving Membership $(\\in)$</a><br>\n",
    "<a href='#common_attributes'>Common Attributes of a Membership $(\\in)$ Expression</a><br>\n",
    "<a href='#axioms'>Axioms</a><br>\n",
    "<a href='#further_demonstrations'>Further Demonstrations</a><br>\n",
    "    <ol>\n",
    "        <li><a href='#demo01'>$(x\\in A)\\wedge(A\\subset B)\\Rightarrow (x\\in B)$</a></li>\n",
    "        <li><a href='#demo02'>$\\forall_{x\\in A}(x\\in B) \\Rightarrow (A \\subseteq B)$</a></li>\n",
    "        <li><a href='#demo03'>$(x\\in B)\\wedge(A\\supset B)\\Rightarrow (x\\in A)$</a></li>\n",
    "    </ol>\n",
    "\n",
    "</div>\n"
   ]
  },
  {
   "cell_type": "markdown",
   "metadata": {},
   "source": [
    "## Introduction <a id='introduction'></a>"
   ]
  },
  {
   "cell_type": "markdown",
   "metadata": {},
   "source": [
    "<font size=4>Set membership (*e.g.*, $x \\in S$) (along with the related concepts of subset $\\subset, \\subseteq$, and superset $\\supset, \\supseteq$), is often critical in proofs, either as a goal in itself or as a condition or assumption appearing in a proof. For example, one might need to define a variable $x$ to be a natural number, $x \\in \\mathbb{N}$, to be used in a particulat context, or we might want to prove that a number resides (or doesn't reside) in a particular set, for example that $\\sqrt{2} \\not\\in \\mathbb{Q}$.<br>\n",
    "This ``_demonstrations_`` notebook explores such membership expressions and related methods. (Set containment expressions involving $\\subset$, $\\subseteq$, $\\supset$, etc., are explored more thoroughly in their own ``_demonstrations_`` notebook in ``proveit.logic.set_theory.containment``)</font>"
   ]
  },
  {
   "cell_type": "markdown",
   "metadata": {},
   "source": [
    "## Simple Expressions Involving Membership ($\\in$, $\\not\\in$)<a id='simple_expressions'></a>"
   ]
  },
  {
   "cell_type": "markdown",
   "metadata": {},
   "source": [
    "<font size=4>It is straightforward to construct membership expressions. Here are some basic examples of such expressions:</font>"
   ]
  },
  {
   "cell_type": "code",
   "execution_count": 2,
   "metadata": {},
   "outputs": [
    {
     "data": {
      "text/html": [
       "<a class=\"ProveItLink\" href=\"__pv_it/41ce078980b5525619d14275705c1719289cb6890/expr.ipynb\"><img src=\"data:image/png;base64,iVBORw0KGgoAAAANSUhEUgAAADMAAAAPBAMAAAC7N+rPAAAAMFBMVEX///8QEBBmZmaqqqrMzMxE\n",
       "REQyMjIiIiKYmJh2dna6urrc3NxUVFSIiIju7u4AAAA6P00QAAAAAXRSTlMAQObYZgAAAMtJREFU\n",
       "GNNjYMAGmDVncizAKsMQwcAXj12GSYGBoQ1FhCO8vAzMeO/AwLAWWYYl9gGUtb6BgcEFSL+9s+vm\n",
       "BZDAM5gMw/ufDiCKbwJHLXsCiHUarp/3/38Qh/MB5z+uDSCBAITZLw5+BBrBx8AKEWMRSwMCmKS+\n",
       "AYjkB9vEwA3XxQmyDizl7wAREYBJvQEJAg1kfnCfgRfsNl2YlCEQa4L8YBDPsAMswm4AlVJXYOA8\n",
       "ANJ9961GA1iE7+g6iJTCGp3DaEHHNRUaUBAAAFDXMplUllphAAAAAElFTkSuQmCC\n",
       "\" style=\"display:inline;vertical-align:middle;\" /></a>"
      ],
      "text/plain": [
       "x in S"
      ]
     },
     "execution_count": 2,
     "metadata": {},
     "output_type": "execute_result"
    }
   ],
   "source": [
    "# set membership\n",
    "InSet(x, S)"
   ]
  },
  {
   "cell_type": "code",
   "execution_count": 3,
   "metadata": {},
   "outputs": [
    {
     "data": {
      "text/html": [
       "<a class=\"ProveItLink\" href=\"__pv_it/254ababf2a8000f98604cdae74e3d646e8a225070/expr.ipynb\"><img src=\"data:image/png;base64,iVBORw0KGgoAAAANSUhEUgAAAC8AAAAVCAMAAADhGEdVAAAAQlBMVEX///9jY2MJCQkNDQ0rKysQ\n",
       "EBAPDw8WFhZmZmaqqqrMzMxEREQyMjIiIiKYmJh2dna6urrc3NxUVFSIiIju7u4AAAB85YEvAAAA\n",
       "AXRSTlMAQObYZgAAAQRJREFUKM+VU+1yxCAIpB/paVBQwfd/1ULTuagzybX8MEpWWGAFuLF9OSPc\n",
       "Wx72kYVf4Pd27lkAJN3jQ3luq6fCJn+lQ8HPJV9iCfPjKz8JoEUuQbteMEdRwHo6NnJ62r1jKtJq\n",
       "ET7JaVJfhgA9/tDrVpGyZc8CZ3JoHllkxlc8rrHFYiNW6jyXNHLtBEIH3t04TWLfUkqfH7akgb/f\n",
       "778d7lNjPTNwnForXs5RrwXss1K2RQtWEUd2nAtDQfwrJ98g1uxlHG331aZgNaDhK43pY1u0mT1f\n",
       "8nY2EZVAI9yc72UeZcxV+Vo+9MaY8zASpkL1Wmq4/ou3ytRXL2kxof/hr8N/A10uDK+YPmGvAAAA\n",
       "AElFTkSuQmCC\n",
       "\" style=\"display:inline;vertical-align:middle;\" /></a>"
      ],
      "text/plain": [
       "x not-in emptyset"
      ]
     },
     "execution_count": 3,
     "metadata": {},
     "output_type": "execute_result"
    }
   ],
   "source": [
    "NotInSet(x, EmptySet)"
   ]
  },
  {
   "cell_type": "code",
   "execution_count": 4,
   "metadata": {},
   "outputs": [
    {
     "data": {
      "text/html": [
       "<a class=\"ProveItLink\" href=\"../../../number/numeral/deci/__pv_it/e1be5cc0ffa039746758df99e3fd79595c567a170/expr.ipynb\"><img src=\"data:image/png;base64,iVBORw0KGgoAAAANSUhEUgAAADIAAAAPBAMAAABU9YHxAAAAMFBMVEX///+YmJiqqqqIiIgyMjLc\n",
       "3NwiIiIQEBC6urp2dnZUVFTMzMxERERmZmbu7u4AAADrYmUNAAAAAXRSTlMAQObYZgAAAOBJREFU\n",
       "GNNj4Lt7ZgMDMuDzP+PHwFlfwfCKgfMHigwDj8AuBob3DAz3GBjKUWW4spkNGNgZGMoYGNYHgEVk\n",
       "0tIcwDI9D1YzsDEw+D9gWA+2aI8dTE/0gicP2MDM/Acgi/3gpgUocy8Ay3D8hPARMpwNwmAZtgVg\n",
       "FyFcEMCwjmsbiHUXzN/uAgQOUJlXDO5ABvMFsEwMsh7uCduBDF0GVpAV7MgyDEJAw7knMDCDZHgN\n",
       "4DJAT3ACjQibOXcZWCAJJsOiACSuAH36//83sMCrEw/ANHd+DZB8ghxenccgoQMFAOa6NR2IZoaj\n",
       "AAAAAElFTkSuQmCC\n",
       "\" style=\"display:inline;vertical-align:middle;\" /></a>"
      ],
      "text/plain": [
       "2 in Naturals"
      ]
     },
     "execution_count": 4,
     "metadata": {},
     "output_type": "execute_result"
    }
   ],
   "source": [
    "InSet(two, Naturals)"
   ]
  },
  {
   "cell_type": "code",
   "execution_count": 5,
   "metadata": {},
   "outputs": [
    {
     "data": {
      "text/html": [
       "<a class=\"ProveItLink\" href=\"__pv_it/eb59c92711c5bce4b0862384baff8ee95d8994b00/expr.ipynb\"><img src=\"data:image/png;base64,iVBORw0KGgoAAAANSUhEUgAAAF0AAAAYCAMAAACvOgEuAAAAQlBMVEX///9jY2MJCQkNDQ0rKysP\n",
       "Dw8WFhZUVFTMzMx2dna6uroQEBCqqqqIiIgiIiJmZmYyMjJERETu7u6YmJjc3NwAAABzaizdAAAA\n",
       "AXRSTlMAQObYZgAAAYVJREFUSMfVldtyhCAMhmm3LedTgPd/1QKiC1HUbacX5WJnR+OX5E9ICPmP\n",
       "h/4p3f/ye3aTHsOZnYrHz809OkyzYLZKeIhnm7LgkvcO8j8ukxSI7uKMbujy9dE7K7pAQ3MGqUTj\n",
       "8pHlJ2sS7Ayu5RIf1xfCUMOIrkYSK2NmocfgFjpI9CZ48/VpnilR4YFQ1vts9DitDieNTpwYFPca\n",
       "iO9jojELA0V6TNczYULc6Ly3qZSxFrnuSlfpMd1P2hGyjis9uBFFmsr9Iy5I0Du6UTNdnnRlcCfX\n",
       "Bhwd0iL9ZtiEaw0Krju5Pop1dJY61UuvfTyK2UiHbOxw/aU41IWTCT2W2PmY8HLfGM+ucd8eKqOo\n",
       "zSdJW/UVvTJyPwXabQ5qN7z8yZCRR1XNDgXqM9omGo+Yzu0JvRlbPmZL0Xx0a/4WDw0xv00+JVoz\n",
       "cwMN6LvoW4aZtIaxH0nTSfDEoQDCG/fGGHdnCwR7ZYGnmI/k/rkyxunCS1vtyhp71+GlDXm++UL8\n",
       "+UL+Bj43EoUHrliLAAAAAElFTkSuQmCC\n",
       "\" style=\"display:inline;vertical-align:middle;\" /></a>"
      ],
      "text/plain": [
       "(-4) not-in NaturalsPos"
      ]
     },
     "execution_count": 5,
     "metadata": {},
     "output_type": "execute_result"
    }
   ],
   "source": [
    "NotInSet(num(-4), NaturalsPos)"
   ]
  },
  {
   "cell_type": "markdown",
   "metadata": {},
   "source": [
    "Exponentiated sets are not currently needed.  They will likely be resurrected later and moved to a more appropriate theory package."
   ]
  },
  {
   "cell_type": "code",
   "execution_count": 6,
   "metadata": {},
   "outputs": [],
   "source": [
    "#InSet(ExprTuple(), Exp(S, zero)).prove()"
   ]
  },
  {
   "cell_type": "code",
   "execution_count": 7,
   "metadata": {},
   "outputs": [],
   "source": [
    "#InSet(ExprTuple(A),Exp(S,one)).prove([InSet(A,S)])"
   ]
  },
  {
   "cell_type": "code",
   "execution_count": 8,
   "metadata": {},
   "outputs": [],
   "source": [
    "#InSet(ExprTuple(A,B),Exp(S,two)).prove([InSet(A,S), InSet(B,S)])"
   ]
  },
  {
   "cell_type": "code",
   "execution_count": 9,
   "metadata": {},
   "outputs": [],
   "source": [
    "#InSet(ExprTuple(A,B,C),Exp(S,three)).prove([InSet(A,S), InSet(B,S),InSet(C,S)])"
   ]
  },
  {
   "cell_type": "code",
   "execution_count": 10,
   "metadata": {},
   "outputs": [],
   "source": [
    "#InSet(ExprTuple(A,B,C, D),Exp(S,four)).prove([InSet(A,S), InSet(B,S),InSet(C,S), InSet(D,S)])"
   ]
  },
  {
   "cell_type": "code",
   "execution_count": 11,
   "metadata": {},
   "outputs": [],
   "source": [
    "#InSet(ExprTuple(A,B,C, D, E),Exp(S,five)).prove([InSet(A,S), InSet(B,S),InSet(C,S), InSet(D,S), InSet(E,S)])"
   ]
  },
  {
   "cell_type": "code",
   "execution_count": 12,
   "metadata": {},
   "outputs": [],
   "source": [
    "#InSet(ExprTuple(A,B,C, D, E, F),Exp(S,six)).prove([InSet(A,S), InSet(B,S),InSet(C,S), InSet(D,S), InSet(E,S), InSet(F,S)])"
   ]
  },
  {
   "cell_type": "code",
   "execution_count": 13,
   "metadata": {},
   "outputs": [],
   "source": [
    "#InSet(ExprTuple(A,B,C, D, E, F, G),Exp(S,seven)).prove([InSet(A,S), InSet(B,S),InSet(C,S), InSet(D,S), InSet(E,S), InSet(F,S), InSet(G,S)])"
   ]
  },
  {
   "cell_type": "code",
   "execution_count": 14,
   "metadata": {},
   "outputs": [],
   "source": [
    "#InSet(ExprTuple(A,B,C, D, E, F, G, H),Exp(S,eight)).prove([InSet(A,S), InSet(B,S),InSet(C,S), InSet(D,S), InSet(E,S), InSet(F,S), InSet(G,S), InSet(H,S)])"
   ]
  },
  {
   "cell_type": "code",
   "execution_count": 15,
   "metadata": {},
   "outputs": [],
   "source": [
    "#InSet(ExprTuple(A,B,C, D, E, F, G, H, I),Exp(S,nine)).prove([InSet(A,S), InSet(B,S),InSet(C,S), InSet(D,S), InSet(E,S), InSet(F,S), InSet(G,S), InSet(H,S), InSet(I,S)])"
   ]
  },
  {
   "cell_type": "code",
   "execution_count": 16,
   "metadata": {},
   "outputs": [
    {
     "data": {
      "text/html": [
       "<span style=\"font-size:20px;\"><a class=\"ProveItLink\" href=\"__pv_it/0b2f08345deb9ac58138060cc54912abb39feb220/expr.ipynb\"><img src=\"data:image/png;base64,iVBORw0KGgoAAAANSUhEUgAAAEUAAAAVCAMAAAAn3dPsAAAAQlBMVEX///9jY2MJCQkNDQ0rKysP\n",
       "Dw8WFhaIiIi6urrc3NxERETMzMwQEBCqqqpUVFQiIiJ2dnYyMjLu7u5mZmaYmJgAAACA0NZ1AAAA\n",
       "AXRSTlMAQObYZgAAAU5JREFUOMuVVOu6xBAMdK5RVXLh/V/1sKVtuqvd44ePYEwySYypI0kyV2Me\n",
       "2QW4r5nQXI84PLG+/5DyDcgc9H4RRDTJ1rVQM2K8QRGrtq66zy7rx7co+lxk9YD+gZJc/P2JtBs4\n",
       "r5Gw8DbK7IoIblLxzKue8/wahQHCZAFh/5e4TgqYc8aD8ujbIqzXuOidIpgD/VBZAGh+kMsI00ng\n",
       "pUmO5V/MbOzugKsT8clNTsFn360kD89je1XNzqmoeCL6/ioTPYmfl41wBJV+xmTFfqqYuKjn2KPT\n",
       "zdRSMmwE5qwrxj8lC4d+k0+J3zRauASuRm+Pg4CxopO/SSJ41mhFsYVjzerpWN5xCZqdxAcqbpV1\n",
       "yhcOAAySknbg0yqJxNggIeyxeqsC0ge6GCMNL+wofoyis/8K5aK/sDN3XWOjOe51kG5ArLeH5jW4\n",
       "fUOl990/DLcRFhcomtwAAAAASUVORK5CYII=\n",
       "\" style=\"display:inline;vertical-align:middle;\" /></a> <a class=\"ProveItLink\" href=\"__pv_it/a502e8df72976c99a6e1c138848979691c0d9a3c0/proof.ipynb\" style=\"text-decoration: none\">&#x22A2;&nbsp;</a><a class=\"ProveItLink\" href=\"__pv_it/5e94d2e23d341ef02b2bcfdef56e26bce4d525d20/expr.ipynb\"><img src=\"data:image/png;base64,iVBORw0KGgoAAAANSUhEUgAAAFIAAAAUBAMAAADsA3fZAAAAMFBMVEX///+6uroQEBCqqqqIiIgy\n",
       "MjJERETu7u6YmJjMzMxUVFTc3Nx2dnYiIiJmZmYAAAAutVgsAAAAAXRSTlMAQObYZgAAAUVJREFU\n",
       "KM9jYECAHQw4AfMGZB57AnZVdmcONDKsRhZh3YBVIVsDQ9kHhlJkoT7sRr5jYOAIYOBxQBK6jSzP\n",
       "kXv3KsRNPxkYGB0Y2BUQctwXkBRyphRAWYw/gLwJDAyBCEmWB0ADXFaLHAFxSgvg/vx/EkyfQ3E5\n",
       "Qw1DrwPYUiSv+v//BfJqK8Pbu0BwB8jkNWBgOM5wvkAaJI0UYOxd+upAyhbC2wXETAIMDAUMaRBn\n",
       "qoYCAUwt32cgMR9VJQPDF4jvEGYeAJqKphJkOwPnT4gAPEzYFwAFvwMZsgiVIB+Zs3xgcAcJPIFH\n",
       "OFAP3wGwjyDuAmKeBwyMn9k+cDcwwCwAu/EeA8MpEOMNwo+MFxjYl7j7dUAsXSYOVcm4bhVYVySu\n",
       "2GQ8Bo1NmHsvEE4hEICSQtg24FFZSkxKBoNsFB6e3MGxgQEA029OXInzxmEAAAAASUVORK5CYII=\n",
       "\" style=\"display:inline;vertical-align:middle;\" /></a></span>"
      ],
      "text/plain": [
       "{x not-in S} |- [not](x in S)"
      ]
     },
     "execution_count": 16,
     "metadata": {},
     "output_type": "execute_result"
    }
   ],
   "source": [
    "Not(InSet(x,S)).prove([NotInSet(x,S)])"
   ]
  },
  {
   "cell_type": "code",
   "execution_count": 17,
   "metadata": {},
   "outputs": [
    {
     "data": {
      "text/html": [
       "<span style=\"font-size:20px;\"><a class=\"ProveItLink\" href=\"__pv_it/08bfd1e65a9582545190b6ecc11f1d429483df7e0/expr.ipynb\"><img src=\"data:image/png;base64,iVBORw0KGgoAAAANSUhEUgAAAGcAAAAVBAMAAACphe0AAAAAMFBMVEX///+IiIi6urrc3NxERETM\n",
       "zMwQEBCqqqpUVFQiIiJ2dnYyMjLu7u5mZmaYmJgAAABN0h6tAAAAAXRSTlMAQObYZgAAAZxJREFU\n",
       "OMtjYGDgu8dAPGC9eABE8exCEbXDrYHdAEgwpYKYfB+QJXgcsGuoXbXgEUMziHUbRHBNQJbkNsCq\n",
       "h+UBw5EPDKdBzJWYmt5it+gu0EUbGLgEsGuajMzh85w5G+Lor0DPCDDwJGDVxIzMYXU8AGUx/QPy\n",
       "AhgYNmHVxHgBaKxgs+JCEOf0AXjw/F8KptcC8TIQg2MDqocZTjG8FAC7qhkhLv//ByiEXgPxexC/\n",
       "DGjtzZlAMAvI4SxgYFjDsP6AMkgGKfR5XuTnAKlKUPgCHRMC97oFELMpMDAcYHCBeCl7NxDAZHm/\n",
       "A4l4EKsTGIZqAWiaGBg+QgIFYdMCoF0wTdwNID85IGkCOY+B9StEIAHuOKA61j9AhibMT/DQs4AG\n",
       "RA3jBwYZkMBFeKIDauddAA2IZSiaWEGcCwxM31k+MD9ggFkL9s9cBoYVIMYtrPHENIGBp1FG9h3E\n",
       "VS06UE1MvR1gA7YSkYyYlkCTEcxvE+CaEohIsBCASLCo+YnFAI+m0/D8xLCLmEwIBs4gJydBAvQe\n",
       "kdmdzwBaRgAASS1qmF5n3JMAAAAASUVORK5CYII=\n",
       "\" style=\"display:inline;vertical-align:middle;\" /></a> <a class=\"ProveItLink\" href=\"__pv_it/361becb0d2f9e64b55502921231742e15502770d0/proof.ipynb\" style=\"text-decoration: none\">&#x22A2;&nbsp;</a><a class=\"ProveItLink\" href=\"__pv_it/beb06f21ea9313aa3d1d72d88e2cf4aebfd6e0410/expr.ipynb\"><img src=\"data:image/png;base64,iVBORw0KGgoAAAANSUhEUgAAADMAAAAVCAMAAADciiYzAAAAQlBMVEX///9jY2MJCQkNDQ0rKysQ\n",
       "EBAPDw8WFhZmZmaqqqrMzMxEREQyMjIiIiKYmJh2dna6urrc3NxUVFSIiIju7u4AAAB85YEvAAAA\n",
       "AXRSTlMAQObYZgAAAPdJREFUOMuVU9t2xCAItJe0GBUMl///1arZNKF7NqfyQBIQZiBjCDe2hnkr\n",
       "8yUr++8IRBSw3tWAzyZsTpNNUAMYD8wvz2Mq31/lklfbN1Ll1SRJNKTtGqqGe2qUqghvVehsoFm7\n",
       "c23UjH53r9SYFAkXItwR5A8JsWa8Y1PrSaahnlRSdx3LIyEvtoxodym5aZac8+dHc087AovHqzke\n",
       "W+9A0R2mY6ojvJpX1vL0c5SPk4Nb1DZen/HkDxIqeNksjwzte4+h62HDqwIie2QoowfxA1VEBRA9\n",
       "lffq1gahMjDHO6nhG6VSSp65Bl43/zJN87dNcL7mHuYHMTkLlsNtzgkAAAAASUVORK5CYII=\n",
       "\" style=\"display:inline;vertical-align:middle;\" /></a></span>"
      ],
      "text/plain": [
       "{[not](x in S)} |- x not-in S"
      ]
     },
     "execution_count": 17,
     "metadata": {},
     "output_type": "execute_result"
    }
   ],
   "source": [
    "NotInSet(x,S).prove([Not(InSet(x,S))])"
   ]
  },
  {
   "cell_type": "code",
   "execution_count": 18,
   "metadata": {},
   "outputs": [
    {
     "data": {
      "text/html": [
       "<strong id=\"exampleMembership\">exampleMembership:</strong> <a class=\"ProveItLink\" href=\"__pv_it/82f5b82b446907942cd277bdffd7ddaf61b150180/expr.ipynb\"><img src=\"data:image/png;base64,iVBORw0KGgoAAAANSUhEUgAAADMAAAAPBAMAAAC7N+rPAAAAMFBMVEX///9UVFSqqqrMzMwiIiJE\n",
       "RESYmJgyMjK6urru7u4QEBCIiIh2dnZmZmbc3NwAAABRgo0vAAAAAXRSTlMAQObYZgAAANZJREFU\n",
       "GNNjYMAA07+GT2A49auBAQsIYxZg4PyATYZBxGA3A8MCFKFUF5cCEC0RyWjA4IAsY7oTypAz5KwE\n",
       "S/Hdub0SJADkwqSYNhiCpboesIOtZHwAl2I4wbYBKMW5jIE3ACTAyoCQYpwgDJTi/cnAsgEkYFUO\n",
       "BAUQKU4BdqALuQIY5huABJ4i6WKwYQZKzT/AoA8W4EKWYlMAWjJfgUGcCeQC3g0wKWEgPgeUYt3A\n",
       "5sgDFnGCSRWBFAJt5ZTe/HAHWGRixAQwbfILqIOzACWgekJckAUA35wvARSvnUAAAAAASUVORK5C\n",
       "YII=\n",
       "\" style=\"display:inline;vertical-align:middle;\" /></a><br>"
      ],
      "text/plain": [
       "exampleMembership: a in Naturals"
      ]
     },
     "execution_count": 18,
     "metadata": {},
     "output_type": "execute_result"
    }
   ],
   "source": [
    "exampleMembership = InSet(a, Naturals)"
   ]
  },
  {
   "cell_type": "code",
   "execution_count": 19,
   "metadata": {},
   "outputs": [
    {
     "data": {
      "text/html": [
       "<a class=\"ProveItLink\" href=\"../../../__pv_it/a8d4b3a34d2189508f9082853fbac36935714f280/expr.ipynb\"><img src=\"data:image/png;base64,iVBORw0KGgoAAAANSUhEUgAAAAsAAAAJBAMAAAAWSsseAAAAMFBMVEX///9UVFSqqqrMzMwiIiJE\n",
       "RESYmJgyMjK6urru7u4QEBCIiIh2dnZmZmbc3NwAAABRgo0vAAAAAXRSTlMAQObYZgAAAEdJREFU\n",
       "CNdjYOC7c3slAwND1wP2DwwMnMsYeAMYGHh/MrBsYGDgCmCYb8DAMP8Agz5QxXwFBnGmBwysG9gc\n",
       "eYAqpTc/3MEAAP4BD32xAXDqAAAAAElFTkSuQmCC\n",
       "\" style=\"display:inline;vertical-align:middle;\" /></a>"
      ],
      "text/plain": [
       "a"
      ]
     },
     "execution_count": 19,
     "metadata": {},
     "output_type": "execute_result"
    }
   ],
   "source": [
    "exampleMembership.element"
   ]
  },
  {
   "cell_type": "code",
   "execution_count": 20,
   "metadata": {},
   "outputs": [
    {
     "data": {
      "text/html": [
       "<span style=\"font-size:20px;\"> <a class=\"ProveItLink\" href=\"__pv_it/9c31576e30fbb53026f4feb5aa25b1653ae9b07a0/proof.ipynb\" style=\"text-decoration: none\">&#x22A2;&nbsp;</a><a class=\"ProveItLink\" href=\"__pv_it/9d9e3393a6e76ee38c7575fe37b4b8e11e9469190/expr.ipynb\"><img src=\"data:image/png;base64,iVBORw0KGgoAAAANSUhEUgAAAGgAAAAUBAMAAACT0mUoAAAAMFBMVEX///9UVFTMzMx2dna6uroQ\n",
       "EBCqqqqIiIgiIiJmZmYyMjJERETu7u6YmJjc3NwAAAC+aOQFAAAAAXRSTlMAQObYZgAAAbRJREFU\n",
       "OMtjYOC7wIATsD3AIXEaixjP+t1rGJjjQxjkUMXZW3f/ihABMtZhM4n7giIDw3kGhlNo4lxMBadP\n",
       "XmDgnYBNE2MTewEDKwMDcwGaYSwX2BU2MHCgOPt2R8cCsCbvA0IMHEB3BkDEeXd0dEE1sSVsYHiB\n",
       "rEe7BmbTI4FTB4CaGJaAuUzbD8BtYvbZwFAJZPJNnh4D9v8auPMepDMJgDRZgrmnDiCc56GowLAX\n",
       "yHR9wPUBohShidnhOkjTLTBXDuGniP8hDAxtQAtiGTg3gIUQAfGAQYZRA8jIAHM3IAUE810DBqA+\n",
       "zj8MHOBQUl0FBAugmg4yLAUy9MFeigJJQDUxbPAFaWLdwHBeAST0GtkmJgNVmCY+ZJsYNjCCnHfe\n",
       "gCEfLMSKrInhGsi1HmBuALImAS5QQJxPYJACpzJOeFQyAm1mfg0PiOkoNl0GhSl3AW8jM1isDZ5c\n",
       "EoDELCCeDOZyJMCTkQGzpQDIfh7xooclYLGDWyARwtQfzQBJeIsgCVjaByXBoiYj5x2QZARP7g0Q\n",
       "msUakoygAHuChQH0BAsD+/BpOkVCJiRoIr7szos9uwMAu7lyUzVAhTwAAAAASUVORK5CYII=\n",
       "\" style=\"display:inline;vertical-align:middle;\" /></a></span>"
      ],
      "text/plain": [
       "|- (a in Naturals) in BOOLEANS"
      ]
     },
     "execution_count": 20,
     "metadata": {},
     "output_type": "execute_result"
    }
   ],
   "source": [
    "exampleMembership.deduceInBool()"
   ]
  },
  {
   "cell_type": "code",
   "execution_count": 21,
   "metadata": {},
   "outputs": [],
   "source": [
    "%end demonstrations"
   ]
  },
  {
   "cell_type": "code",
   "execution_count": null,
   "metadata": {},
   "outputs": [],
   "source": []
  }
 ],
 "metadata": {
  "kernelspec": {
   "display_name": "Python 3",
   "language": "python",
   "name": "python3"
  }
 },
 "nbformat": 4,
 "nbformat_minor": 0
}
