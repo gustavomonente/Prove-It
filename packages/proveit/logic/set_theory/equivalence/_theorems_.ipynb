{
 "cells": [
  {
   "cell_type": "markdown",
   "metadata": {},
   "source": [
    "Theorems for context <a class=\"ProveItLink\" href=\"_context_.ipynb\">proveit.logic.set_theory.equivalence</a>\n",
    "========"
   ]
  },
  {
   "cell_type": "code",
   "execution_count": null,
   "metadata": {},
   "outputs": [],
   "source": [
    "import proveit\n",
    "from proveit._common_ import x, A, B, C, P, S, PofA, PofB\n",
    "from proveit.logic import FALSE, Forall, inBool, InSet, Not\n",
    "from proveit.logic.set_theory import SubsetEq\n",
    "from proveit.logic.set_theory import Set, SetEquiv, SetNotEquiv, Union\n",
    "# the context is in the current directory:\n",
    "context = proveit.Context('.') # adds context root to sys.path if necessary"
   ]
  },
  {
   "cell_type": "code",
   "execution_count": null,
   "metadata": {},
   "outputs": [],
   "source": [
    "%begin theorems"
   ]
  },
  {
   "cell_type": "code",
   "execution_count": null,
   "metadata": {},
   "outputs": [],
   "source": [
    "# Broken\n",
    "setEquivReflexivity = Forall(A, SetEquiv(A, A))"
   ]
  },
  {
   "cell_type": "code",
   "execution_count": null,
   "metadata": {},
   "outputs": [],
   "source": [
    "# Proven\n",
    "setEquivReversal = Forall((A, B), SetEquiv(B, A), conditions=[SetEquiv(A, B)])"
   ]
  },
  {
   "cell_type": "code",
   "execution_count": null,
   "metadata": {},
   "outputs": [],
   "source": [
    "setEquivTransitivity = Forall((A, B, C), SetEquiv(A, C), conditions=[SetEquiv(A, B), SetEquiv(B, C)])"
   ]
  },
  {
   "cell_type": "code",
   "execution_count": null,
   "metadata": {},
   "outputs": [],
   "source": [
    "# Proven\n",
    "setEquivInBool = Forall((A, B), inBool(SetEquiv(A, B)))"
   ]
  },
  {
   "cell_type": "code",
   "execution_count": null,
   "metadata": {},
   "outputs": [],
   "source": [
    "# Proven\n",
    "setNotEquivReversal = Forall((A, B), SetNotEquiv(B, A), conditions=[SetNotEquiv(A, B)])"
   ]
  },
  {
   "cell_type": "code",
   "execution_count": null,
   "metadata": {},
   "outputs": [],
   "source": [
    "# Proven\n",
    "setNotEquivInBool = Forall((A, B), inBool(SetNotEquiv(A, B)))"
   ]
  },
  {
   "cell_type": "markdown",
   "metadata": {},
   "source": [
    "### Folding and unfolding the definition of $\\ncong$"
   ]
  },
  {
   "cell_type": "code",
   "execution_count": null,
   "metadata": {},
   "outputs": [],
   "source": [
    "# Proven\n",
    "unfoldSetNotEquiv = Forall((A, B), Not(SetEquiv(A, B)), conditions=[SetNotEquiv(A, B)])"
   ]
  },
  {
   "cell_type": "code",
   "execution_count": null,
   "metadata": {},
   "outputs": [],
   "source": [
    "# Proven\n",
    "foldSetNotEquiv = Forall((A, B), SetNotEquiv(A, B), conditions=[Not(SetEquiv(A, B))])"
   ]
  },
  {
   "cell_type": "markdown",
   "metadata": {},
   "source": [
    "### Substitution With An Equivalent Set"
   ]
  },
  {
   "cell_type": "code",
   "execution_count": null,
   "metadata": {},
   "outputs": [],
   "source": [
    "# Not clear what to do here — ambiguous what the resulting forms of\n",
    "# fofA and fofB are — could be sets, could be something else …\n",
    "# substitution = Forall((f, A, B), SetEquiv(fofA, fofB), conditions=SetEquiv(x, y))"
   ]
  },
  {
   "cell_type": "code",
   "execution_count": null,
   "metadata": {},
   "outputs": [],
   "source": [
    "subLeftSideInto = Forall((P, A, B), PofA, conditions=[PofB, SetEquiv(A, B)])"
   ]
  },
  {
   "cell_type": "code",
   "execution_count": null,
   "metadata": {},
   "outputs": [],
   "source": [
    "subRightSideInto = Forall((P, A, B), PofB, conditions=[PofA, SetEquiv(A, B)])"
   ]
  },
  {
   "cell_type": "markdown",
   "metadata": {},
   "source": [
    "### Contradictions\n",
    "**If two sets are both equivalent and not equivalent, there is a contradiction:**"
   ]
  },
  {
   "cell_type": "code",
   "execution_count": null,
   "metadata": {},
   "outputs": [],
   "source": [
    "# Proven\n",
    "setNotEquivContradiction = Forall((A, B), FALSE, conditions=[SetEquiv(A, B), SetNotEquiv(A, B)]) "
   ]
  },
  {
   "cell_type": "markdown",
   "metadata": {},
   "source": [
    "### Misc Related Theorems"
   ]
  },
  {
   "cell_type": "code",
   "execution_count": null,
   "metadata": {},
   "outputs": [],
   "source": [
    "kapurIdentity = Forall((x, S), SetEquiv(Union(S, Set(x)), S), conditions=[InSet(x, S)])"
   ]
  },
  {
   "cell_type": "code",
   "execution_count": null,
   "metadata": {},
   "outputs": [],
   "source": [
    "kapurIdentityAlt = Forall((A, S),\n",
    "                          SetEquiv(Union(A, S), S),\n",
    "                          conditions=[SubsetEq(A, S)])"
   ]
  },
  {
   "cell_type": "code",
   "execution_count": null,
   "metadata": {},
   "outputs": [],
   "source": [
    "tempIdentity = Forall(\n",
    "        (A, B),\n",
    "        SubsetEq(A, Union(A, B)))"
   ]
  },
  {
   "cell_type": "code",
   "execution_count": null,
   "metadata": {},
   "outputs": [],
   "source": [
    "%end theorems"
   ]
  }
 ],
 "metadata": {
  "kernelspec": {
   "display_name": "Python 3",
   "language": "python",
   "name": "python3"
  }
 },
 "nbformat": 4,
 "nbformat_minor": 0
}
