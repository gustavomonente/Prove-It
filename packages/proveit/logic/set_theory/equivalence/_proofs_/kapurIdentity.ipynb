{
 "cells": [
  {
   "cell_type": "markdown",
   "metadata": {},
   "source": [
    "Proof of <a class=\"ProveItLink\" href=\"../../../../_context_.ipynb\">proveit</a>.<a class=\"ProveItLink\" href=\"../../../_context_.ipynb\">logic</a>.<a class=\"ProveItLink\" href=\"../../_context_.ipynb\">set_theory</a>.<a class=\"ProveItLink\" href=\"../_context_.ipynb\">equivalence</a>.<a class=\"ProveItLink\" href=\"../_theorems_.ipynb#kapurIdentity\">kapurIdentity</a> theorem\n",
    "========"
   ]
  },
  {
   "cell_type": "code",
   "execution_count": null,
   "metadata": {},
   "outputs": [],
   "source": [
    "import proveit\n",
    "from proveit import defaults\n",
    "from proveit._common_ import m, x, y, A, B, C, D, S, AA\n",
    "from proveit.logic import And, Equals, Not, Union, InSet, FALSE, Implies\n",
    "from proveit.number import one, two\n",
    "from proveit.logic.set_theory.unification._axioms_ import unionDef\n",
    "from proveit.logic.set_theory import Set, SubsetEq\n",
    "from proveit.logic.set_theory.containment._axioms_ import subsetEqDef\n",
    "from proveit.logic.set_theory.equivalence._axioms_ import setEquivDef\n",
    "context = proveit.Context('..') # the theorem's context is in the parent directory"
   ]
  },
  {
   "cell_type": "code",
   "execution_count": null,
   "metadata": {},
   "outputs": [],
   "source": [
    "%proving kapurIdentity presuming [proveit.logic, proveit.number]"
   ]
  },
  {
   "cell_type": "code",
   "execution_count": null,
   "metadata": {},
   "outputs": [],
   "source": [
    "defaults.assumptions = kapurIdentity.allConditions()"
   ]
  },
  {
   "cell_type": "code",
   "execution_count": null,
   "metadata": {},
   "outputs": [],
   "source": [
    "setEquivDef"
   ]
  },
  {
   "cell_type": "code",
   "execution_count": null,
   "metadata": {},
   "outputs": [],
   "source": [
    "setEquivDefSpec = setEquivDef.specialize({A:Union(S, Set(x)), B:S})"
   ]
  },
  {
   "cell_type": "code",
   "execution_count": null,
   "metadata": {},
   "outputs": [],
   "source": [
    "subsetEqDef"
   ]
  },
  {
   "cell_type": "code",
   "execution_count": null,
   "metadata": {},
   "outputs": [],
   "source": [
    "# need to avoid conflict between the different xs in\n",
    "# the setEquivDefSpec versus subsetEqDef, so we relabel x to y in subsetEqDef\n",
    "# subsetEqDef = subsetEqDef.relabel({x:y})\n",
    "subsetEqDef = subsetEqDef.instantiate({x:y}, num_forall_eliminations=0)"
   ]
  },
  {
   "cell_type": "markdown",
   "metadata": {},
   "source": [
    "## Part 1:\n",
    "We first prove that $\\{x\\in S\\} \\vdash (S \\cup \\{x\\}\\subseteq S)$.<br>\n",
    "In Part 2 further below we then show that $\\{x\\in S\\} \\vdash (S \\subseteq S \\cup \\{x\\})$."
   ]
  },
  {
   "cell_type": "code",
   "execution_count": null,
   "metadata": {},
   "outputs": [],
   "source": [
    "subsetEqDefSpecForLHS = subsetEqDef.specialize({A:Union(S, Set(x)), B:S})"
   ]
  },
  {
   "cell_type": "code",
   "execution_count": null,
   "metadata": {},
   "outputs": [],
   "source": [
    "subsetEqDefSpecForLHS.lhs"
   ]
  },
  {
   "cell_type": "code",
   "execution_count": null,
   "metadata": {},
   "outputs": [],
   "source": [
    "unionDef"
   ]
  },
  {
   "cell_type": "code",
   "execution_count": null,
   "metadata": {},
   "outputs": [],
   "source": [
    "unionDefSpec = unionDef.instantiate({m:two, x:y, A:(S, Set(x))})"
   ]
  },
  {
   "cell_type": "code",
   "execution_count": null,
   "metadata": {},
   "outputs": [],
   "source": [
    "unionDefSpecRHS = unionDefSpec.rhs"
   ]
  },
  {
   "cell_type": "code",
   "execution_count": null,
   "metadata": {},
   "outputs": [],
   "source": [
    "y_in_S__or__y_is_x = unionDefSpec.deriveRightViaEquivalence(assumptions=[unionDefSpec.lhs])"
   ]
  },
  {
   "cell_type": "code",
   "execution_count": null,
   "metadata": {},
   "outputs": [],
   "source": [
    "y_is_x = y_in_S__or__y_is_x.deriveRightIfNotLeft(assumptions=[Not(y_in_S__or__y_is_x.operands[0])])"
   ]
  },
  {
   "cell_type": "code",
   "execution_count": null,
   "metadata": {},
   "outputs": [],
   "source": [
    "yEqX = y_is_x.unfold()"
   ]
  },
  {
   "cell_type": "code",
   "execution_count": null,
   "metadata": {},
   "outputs": [],
   "source": [
    "yEqX.subLeftSideInto(InSet(x, S))"
   ]
  },
  {
   "cell_type": "code",
   "execution_count": null,
   "metadata": {},
   "outputs": [],
   "source": [
    "y_not_in_S = Not(InSet(y, S))"
   ]
  },
  {
   "cell_type": "code",
   "execution_count": null,
   "metadata": {},
   "outputs": [],
   "source": [
    "y_not_in_S.affirmViaContradiction(conclusion=InSet(y, S), assumptions=[*y_in_S__or__y_is_x.assumptions, InSet(x, S)])"
   ]
  },
  {
   "cell_type": "code",
   "execution_count": null,
   "metadata": {},
   "outputs": [],
   "source": [
    "LHInclusion = subsetEqDefSpecForLHS.deriveLeftViaEquivalence()"
   ]
  },
  {
   "cell_type": "markdown",
   "metadata": {},
   "source": [
    "Playing with the Or.deriveViaDilemma() method"
   ]
  },
  {
   "cell_type": "code",
   "execution_count": null,
   "metadata": {},
   "outputs": [],
   "source": [
    "y_insetx_y_is_x = Equals(y, x).prove(assumptions=[InSet(y, Set(x))])"
   ]
  },
  {
   "cell_type": "code",
   "execution_count": null,
   "metadata": {},
   "outputs": [],
   "source": [
    "y_insetx_y_is_x.subLeftSideInto(InSet(x, S), assumptions=[InSet(x, S)])"
   ]
  },
  {
   "cell_type": "code",
   "execution_count": null,
   "metadata": {},
   "outputs": [],
   "source": [
    "unionDefSpecRHS"
   ]
  },
  {
   "cell_type": "code",
   "execution_count": null,
   "metadata": {},
   "outputs": [],
   "source": [
    "# before this, manually show that InSet(y)\n",
    "y_in_S = unionDefSpecRHS.deriveViaDilemma(InSet(y, S), assumptions=[unionDefSpecRHS, InSet(x, S)])"
   ]
  },
  {
   "cell_type": "code",
   "execution_count": null,
   "metadata": {},
   "outputs": [],
   "source": [
    "subsetEqDefSpecForLHS.lhs"
   ]
  },
  {
   "cell_type": "code",
   "execution_count": null,
   "metadata": {},
   "outputs": [],
   "source": [
    "LHInclusion.prove()"
   ]
  },
  {
   "cell_type": "code",
   "execution_count": null,
   "metadata": {},
   "outputs": [],
   "source": [
    "# y_in_S.asImplication(hypothesis=unionDefSpecRHS.operands[1])"
   ]
  },
  {
   "cell_type": "code",
   "execution_count": null,
   "metadata": {},
   "outputs": [],
   "source": [
    "# unionDefSpecRHS.deriveViaDilemma(InSet(y, S),\n",
    "#                                 assumptions=[unionDefSpecRHS, InSet(x, S)])"
   ]
  },
  {
   "cell_type": "markdown",
   "metadata": {},
   "source": [
    "## Part 2:\n",
    "We have proven $\\{x\\in S\\} \\vdash (S \\cup \\{x\\}\\subseteq S)$.<br>\n",
    "Now we want to show $\\{x\\in S\\} \\vdash (S \\subseteq S \\cup \\{x\\})$."
   ]
  },
  {
   "cell_type": "code",
   "execution_count": null,
   "metadata": {},
   "outputs": [],
   "source": [
    "# recall from earlier\n",
    "setEquivDefSpec"
   ]
  },
  {
   "cell_type": "code",
   "execution_count": null,
   "metadata": {},
   "outputs": [],
   "source": [
    "# recall from earlier\n",
    "subsetEqDef"
   ]
  },
  {
   "cell_type": "code",
   "execution_count": null,
   "metadata": {},
   "outputs": [],
   "source": [
    "# earlier we specialized the subsetEqDef for the LHS of the conjunction\n",
    "subsetEqDefSpecForLHS"
   ]
  },
  {
   "cell_type": "code",
   "execution_count": null,
   "metadata": {},
   "outputs": [],
   "source": [
    "# Now we need to specialize the subsetEqDef for the RHS of the conjunction\n",
    "subsetEqDefSpecForRHS = subsetEqDef.specialize({A:S, B:Union(S, Set(x))})"
   ]
  },
  {
   "cell_type": "code",
   "execution_count": null,
   "metadata": {},
   "outputs": [],
   "source": [
    "# recall the union def\n",
    "unionDef"
   ]
  },
  {
   "cell_type": "code",
   "execution_count": null,
   "metadata": {},
   "outputs": [],
   "source": [
    "unionDefSpec"
   ]
  },
  {
   "cell_type": "code",
   "execution_count": null,
   "metadata": {},
   "outputs": [],
   "source": [
    "unionDefSpecRHS"
   ]
  },
  {
   "cell_type": "code",
   "execution_count": null,
   "metadata": {},
   "outputs": [],
   "source": [
    "y_in_S__means__y_in_S_or_anything = unionDefSpecRHS.concludeViaLeft(assumptions=[InSet(y, S)])"
   ]
  },
  {
   "cell_type": "code",
   "execution_count": null,
   "metadata": {},
   "outputs": [],
   "source": [
    "unionDefSpec.subLeftSideInto(y_in_S__means__y_in_S_or_anything, assumptions=[InSet(y,S)])"
   ]
  },
  {
   "cell_type": "code",
   "execution_count": null,
   "metadata": {},
   "outputs": [],
   "source": [
    "subsetEqDefSpecForRHS"
   ]
  },
  {
   "cell_type": "code",
   "execution_count": null,
   "metadata": {},
   "outputs": [],
   "source": [
    "subsetEqDefSpecForRHSRHS = subsetEqDefSpecForRHS.rhs"
   ]
  },
  {
   "cell_type": "code",
   "execution_count": null,
   "metadata": {},
   "outputs": [],
   "source": [
    "subsetEqDefSpecForRHSRHS.conclude(assumptions=[InSet(y, S)])"
   ]
  },
  {
   "cell_type": "code",
   "execution_count": null,
   "metadata": {},
   "outputs": [],
   "source": [
    "RHInclusion = subsetEqDefSpecForRHS.subLeftSideInto(subsetEqDefSpecForRHSRHS)"
   ]
  },
  {
   "cell_type": "markdown",
   "metadata": {},
   "source": [
    "## Part 3:\n",
    "We have now proven $\\{x\\in S\\} \\vdash (S \\cup \\{x\\}\\subseteq S)$ and (separately) that $\\vdash (S \\subseteq S \\cup \\{x\\})$. We can explicitly ask for the conjunction, then perform the related substitution:"
   ]
  },
  {
   "cell_type": "code",
   "execution_count": null,
   "metadata": {},
   "outputs": [],
   "source": [
    "x_in_S_gives_conjunction = And(LHInclusion, RHInclusion).prove()"
   ]
  },
  {
   "cell_type": "code",
   "execution_count": null,
   "metadata": {},
   "outputs": [],
   "source": [
    "setEquivDefSpec.subLeftSideInto(x_in_S_gives_conjunction)"
   ]
  },
  {
   "cell_type": "code",
   "execution_count": null,
   "metadata": {},
   "outputs": [],
   "source": [
    "%qed"
   ]
  },
  {
   "cell_type": "code",
   "execution_count": null,
   "metadata": {},
   "outputs": [],
   "source": []
  }
 ],
 "metadata": {
  "kernelspec": {
   "display_name": "Python 3",
   "language": "python",
   "name": "python3"
  }
 },
 "nbformat": 4,
 "nbformat_minor": 0
}
