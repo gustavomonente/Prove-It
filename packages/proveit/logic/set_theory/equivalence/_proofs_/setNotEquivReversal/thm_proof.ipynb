{
 "cells": [
  {
   "cell_type": "markdown",
   "metadata": {},
   "source": [
    "Proof of <a class=\"ProveItLink\" href=\"../../../../_context_.ipynb\">proveit</a>.<a class=\"ProveItLink\" href=\"../../../_context_.ipynb\">logic</a>.<a class=\"ProveItLink\" href=\"../../_context_.ipynb\">set_theory</a>.<a class=\"ProveItLink\" href=\"../_context_.ipynb\">equivalence</a>.<a class=\"ProveItLink\" href=\"../_theorems_.ipynb#setNotEquivReversal\">setNotEquivReversal</a> theorem\n",
    "========"
   ]
  },
  {
   "cell_type": "code",
   "execution_count": null,
   "metadata": {},
   "outputs": [],
   "source": [
    "import proveit\n",
    "from proveit._common_ import A, B\n",
    "from proveit.logic import Not, SetNotEquiv\n",
    "from proveit.logic.set_theory import SetEquiv\n",
    "from proveit.logic.set_theory.equivalence._axioms_ import setEquivDef, setNotEquivDef\n",
    "from proveit.logic.set_theory.equivalence._theorems_ import setEquivReversal\n",
    "context = proveit.Context() # the theorem's context"
   ]
  },
  {
   "cell_type": "code",
   "execution_count": null,
   "metadata": {},
   "outputs": [],
   "source": [
    "%proving setNotEquivReversal"
   ]
  },
  {
   "cell_type": "code",
   "execution_count": null,
   "metadata": {},
   "outputs": [],
   "source": [
    "setNotEquivDef"
   ]
  },
  {
   "cell_type": "code",
   "execution_count": null,
   "metadata": {},
   "outputs": [],
   "source": [
    "setNotEquivDef_inst_AB = setNotEquivDef.instantiate()"
   ]
  },
  {
   "cell_type": "code",
   "execution_count": null,
   "metadata": {},
   "outputs": [],
   "source": [
    "setNotEquivDef_inst_BA = setNotEquivDef.instantiate({A:B, B:A})"
   ]
  },
  {
   "cell_type": "code",
   "execution_count": null,
   "metadata": {},
   "outputs": [],
   "source": [
    "setEquivReversal"
   ]
  },
  {
   "cell_type": "code",
   "execution_count": null,
   "metadata": {},
   "outputs": [],
   "source": [
    "setEquivReversal_inst_BA = setEquivReversal.instantiate({A:B, B:A}, assumptions=[SetEquiv(B, A)])"
   ]
  },
  {
   "cell_type": "code",
   "execution_count": null,
   "metadata": {},
   "outputs": [],
   "source": [
    "setEquivReversal_inst_BA_asImplication = setEquivReversal_inst_BA.asImplication(hypothesis=SetEquiv(B, A))"
   ]
  },
  {
   "cell_type": "code",
   "execution_count": null,
   "metadata": {},
   "outputs": [],
   "source": [
    "not_AEquivB_gives_not_BEquivA = setEquivReversal_inst_BA_asImplication.denyAntecedent(assumptions=[Not(SetEquiv(A, B))])"
   ]
  },
  {
   "cell_type": "code",
   "execution_count": null,
   "metadata": {},
   "outputs": [],
   "source": [
    "not_AEquivB_gives_not_BEquivA_asImplication = not_AEquivB_gives_not_BEquivA.asImplication(hypothesis=Not(SetEquiv(A, B)))"
   ]
  },
  {
   "cell_type": "code",
   "execution_count": null,
   "metadata": {},
   "outputs": [],
   "source": [
    "c_1 = setNotEquivDef_inst_AB.subLeftSideInto(not_AEquivB_gives_not_BEquivA_asImplication)"
   ]
  },
  {
   "cell_type": "code",
   "execution_count": null,
   "metadata": {},
   "outputs": [],
   "source": [
    "c_2 = setNotEquivDef_inst_BA.subLeftSideInto(c_1)"
   ]
  },
  {
   "cell_type": "code",
   "execution_count": null,
   "metadata": {},
   "outputs": [],
   "source": [
    "%qed"
   ]
  },
  {
   "cell_type": "code",
   "execution_count": null,
   "metadata": {},
   "outputs": [],
   "source": []
  }
 ],
 "metadata": {
  "kernelspec": {
   "display_name": "Python 3",
   "language": "python",
   "name": "python3"
  }
 },
 "nbformat": 4,
 "nbformat_minor": 0
}
