{
 "cells": [
  {
   "cell_type": "markdown",
   "metadata": {},
   "source": [
    "Proof of <a class=\"ProveItLink\" href=\"../../../_context_.ipynb\">proveit</a>.<a class=\"ProveItLink\" href=\"../../_context_.ipynb\">logic</a>.<a class=\"ProveItLink\" href=\"../_context_.ipynb\">set_theory</a>.<a class=\"ProveItLink\" href=\"../_theorems_.ipynb#unionWithSupersetIsSuperset\">unionWithSupersetIsSuperset</a> theorem\n",
    "========"
   ]
  },
  {
   "cell_type": "code",
   "execution_count": null,
   "metadata": {},
   "outputs": [],
   "source": [
    "import proveit\n",
    "from proveit import defaults\n",
    "from proveit._common_ import m, x, y, A, B, S, AA\n",
    "from proveit.number import two\n",
    "from proveit.logic import SetEquiv, Union\n",
    "from proveit.logic.set_theory.equivalence._axioms_ import setEquivDef\n",
    "from proveit.logic.set_theory.containment._axioms_ import subsetEqDef\n",
    "from proveit.logic.set_theory.unification._axioms_ import unionDef\n",
    "\n",
    "context = proveit.Context('..') # the theorem's context is in the parent directory"
   ]
  },
  {
   "cell_type": "code",
   "execution_count": null,
   "metadata": {},
   "outputs": [],
   "source": [
    "%proving unionWithSupersetIsSuperset presuming [proveit.logic, proveit.number.numeral.deci.posnat2, proveit.number.numeral.deci.tuple_len_2_typical_equiv]"
   ]
  },
  {
   "cell_type": "code",
   "execution_count": null,
   "metadata": {},
   "outputs": [],
   "source": [
    "defaults.assumptions = unionWithSupersetIsSuperset.allConditions()"
   ]
  },
  {
   "cell_type": "code",
   "execution_count": null,
   "metadata": {},
   "outputs": [],
   "source": [
    "setEquivDef"
   ]
  },
  {
   "cell_type": "code",
   "execution_count": null,
   "metadata": {},
   "outputs": [],
   "source": [
    "setEquivDefSpec = setEquivDef.instantiate({A:Union(A, S), B:S})"
   ]
  },
  {
   "cell_type": "code",
   "execution_count": null,
   "metadata": {},
   "outputs": [],
   "source": [
    "setEquivDefSpecRHS = setEquivDefSpec.rhs"
   ]
  },
  {
   "cell_type": "markdown",
   "metadata": {},
   "source": [
    "### First, let's focus on the easiest: $S \\subseteq (A\\cup S)$"
   ]
  },
  {
   "cell_type": "code",
   "execution_count": null,
   "metadata": {},
   "outputs": [],
   "source": [
    "subsetEqDef"
   ]
  },
  {
   "cell_type": "code",
   "execution_count": null,
   "metadata": {},
   "outputs": [],
   "source": [
    "subsetEqDef_inst_S_subsetEq_AUS = subsetEqDef.instantiate({A:S, B:Union(A, S)})"
   ]
  },
  {
   "cell_type": "code",
   "execution_count": null,
   "metadata": {},
   "outputs": [],
   "source": [
    "subsetEqDef_inst_S_subsetEq_AUS.rhs"
   ]
  },
  {
   "cell_type": "code",
   "execution_count": null,
   "metadata": {},
   "outputs": [],
   "source": [
    "unionDef"
   ]
  },
  {
   "cell_type": "code",
   "execution_count": null,
   "metadata": {},
   "outputs": [],
   "source": [
    "unionDef_inst_AUS = unionDef.instantiate({m:two, x:y, A:[A,S]})"
   ]
  },
  {
   "cell_type": "code",
   "execution_count": null,
   "metadata": {},
   "outputs": [],
   "source": [
    "unionDef_inst_AUS.subRightSideInto(subsetEqDef_inst_S_subsetEq_AUS)"
   ]
  },
  {
   "cell_type": "code",
   "execution_count": null,
   "metadata": {},
   "outputs": [],
   "source": []
  },
  {
   "cell_type": "code",
   "execution_count": null,
   "metadata": {},
   "outputs": [],
   "source": [
    "subsetEqDef"
   ]
  },
  {
   "cell_type": "code",
   "execution_count": null,
   "metadata": {},
   "outputs": [],
   "source": [
    "subsetEqDef_inst_01 = subsetEqDef.instantiate({A:A, B:S})"
   ]
  },
  {
   "cell_type": "code",
   "execution_count": null,
   "metadata": {},
   "outputs": [],
   "source": [
    "subsetEqDef_inst_01_kt = subsetEqDef_inst_01.rhs.prove()"
   ]
  },
  {
   "cell_type": "code",
   "execution_count": null,
   "metadata": {},
   "outputs": [],
   "source": [
    "subsetEqDef_inst_02 = subsetEqDef.instantiate({A:Union(A, S), B:S})"
   ]
  },
  {
   "cell_type": "code",
   "execution_count": null,
   "metadata": {},
   "outputs": [],
   "source": [
    "subsetEqDef_inst_03 = subsetEqDef.instantiate({A:S, B:Union(A, S)})"
   ]
  },
  {
   "cell_type": "code",
   "execution_count": null,
   "metadata": {},
   "outputs": [],
   "source": [
    "unionDef"
   ]
  },
  {
   "cell_type": "code",
   "execution_count": null,
   "metadata": {},
   "outputs": [],
   "source": [
    "# unionDefSpec = unionDef.instantiate({m:two, x:x, AA:[A, S]})\n",
    "unionDefSpec = unionDef.instantiate({m:two, x:x, A:[A, S]})"
   ]
  },
  {
   "cell_type": "code",
   "execution_count": null,
   "metadata": {},
   "outputs": [],
   "source": [
    "# %qed"
   ]
  },
  {
   "cell_type": "code",
   "execution_count": null,
   "metadata": {},
   "outputs": [],
   "source": []
  }
 ],
 "metadata": {
  "kernelspec": {
   "display_name": "Python 3",
   "language": "python",
   "name": "python3"
  }
 },
 "nbformat": 4,
 "nbformat_minor": 0
}
