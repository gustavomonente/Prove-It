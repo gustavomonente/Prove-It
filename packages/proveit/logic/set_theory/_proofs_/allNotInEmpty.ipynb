{
 "cells": [
  {
   "cell_type": "markdown",
   "metadata": {},
   "source": [
    "Proof of <a class=\"ProveItLink\" href=\"../../../_context_.ipynb\">proveit</a>.<a class=\"ProveItLink\" href=\"../../_context_.ipynb\">logic</a>.<a class=\"ProveItLink\" href=\"../_context_.ipynb\">set_theory</a>.<a href=\"../_theorems_.ipynb#allNotInEmpty\" class=\"ProveItLink\">allNotInEmpty</a> theorem\n",
    "========"
   ]
  },
  {
   "cell_type": "code",
   "execution_count": 1,
   "metadata": {},
   "outputs": [],
   "source": [
    "import proveit\n",
    "context = proveit.Context('..') # the theorem's context is in the parent directory"
   ]
  },
  {
   "cell_type": "code",
   "execution_count": 2,
   "metadata": {},
   "outputs": [
    {
     "name": "stdout",
     "output_type": "stream",
     "text": [
      "Beginning proof of allNotInEmpty\n",
      "Recorded 'presuming' information\n"
     ]
    },
    {
     "data": {
      "text/html": [
       "<strong id=\"allNotInEmpty\">allNotInEmpty:</strong> <a class=\"ProveItLink\" href=\"../__pv_it/b7538c20da44ffe6181e14834a5192e9d012dd060/expr.ipynb\"><img src=\"data:image/png;base64,iVBORw0KGgoAAAANSUhEUgAAAF0AAAAVCAMAAAATpBLwAAAAQlBMVEX///9jY2MJCQkNDQ0rKysP\n",
       "Dw8WFhYQEBCIiIhmZma6urrMzMxUVFQiIiJERETc3Nzu7u6qqqp2dnaYmJgyMjIAAADRR/RZAAAA\n",
       "AXRSTlMAQObYZgAAAcBJREFUOMutVduypCAMZK9GJBAS+P9fXQLe0JH1VB0eplSg0+l0MsZ8w1ou\n",
       "7/5r14MMt/H0HBlY0WPQt7R/l0cIGpNZ3PHMYAxUTKfwHLeNRE/XUxiiz/ZIUtPwDpSSxggbr/BI\n",
       "UGbzVph6FC1uaeyUjyRutwfUxePfP7jL6wuinSkrJk26z6Qr4GNJ8VlxD2T8KfgkKhTl6qKkimWv\n",
       "C/kJAlZhCMAFCzXh9YvmTel0NscqVK6VYL3oaiD/mL5vXqISXhDMIUOzBUCPrvXLVWXRk3Y2FwYX\n",
       "2VtBuPDkIqgNfdd0VstiQDb0iFvN4blfpmY4BfGdr5YppfT7V/lJJ901WlNmyZWV9O32Gb1Sg67c\n",
       "/mY1BBVhrWpDD2lvN4Z5Abd8UqYe73cmc6XlOPIGa5rtS0Vd41f85VLphk9VjWQgtzN7k0Ir2tn+\n",
       "Sk2agNIEizPuwy7dClCNZWyplM+XgYbxkqdB3IxegvNNz3xzZkuQHADB3I86cj9tP50iBto6Iq2R\n",
       "hQ5p7+N6MAnkB3vEUwuwWFmP08UpIRsuB/n9FLv1YOyHcZ+o2DL86b8Ybwb/oD9fggx6cDBa3v7z\n",
       "DahX9f8BCuUWgBfXvsoAAAAASUVORK5CYII=\n",
       "\" style=\"display:inline;vertical-align:middle;\" /></a><br>(see <a class=\"ProveItLink\" href=\"../__pv_it/b7538c20da44ffe6181e14834a5192e9d012dd060/dependencies.ipynb\">dependencies</a>)<br>"
      ],
      "text/plain": [
       "allNotInEmpty: forall_{x} (x not-in emptyset)"
      ]
     },
     "execution_count": 2,
     "metadata": {},
     "output_type": "execute_result"
    }
   ],
   "source": [
    "%proving allNotInEmpty presuming []"
   ]
  },
  {
   "cell_type": "code",
   "execution_count": null,
   "metadata": {},
   "outputs": [],
   "source": []
  }
 ],
 "metadata": {
  "kernelspec": {
   "display_name": "Python 3",
   "language": "python",
   "name": "python3"
  }
 },
 "nbformat": 4,
 "nbformat_minor": 0
}
