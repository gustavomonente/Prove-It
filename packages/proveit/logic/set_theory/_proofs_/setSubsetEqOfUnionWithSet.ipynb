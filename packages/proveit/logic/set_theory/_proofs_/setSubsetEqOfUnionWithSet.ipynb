{
 "cells": [
  {
   "cell_type": "markdown",
   "metadata": {},
   "source": [
    "Proof of <a class=\"ProveItLink\" href=\"../../../_context_.ipynb\">proveit</a>.<a class=\"ProveItLink\" href=\"../../_context_.ipynb\">logic</a>.<a class=\"ProveItLink\" href=\"../_context_.ipynb\">set_theory</a>.<a class=\"ProveItLink\" href=\"../_theorems_.ipynb#setSubsetEqOfUnionWithSet\">setSubsetEqOfUnionWithSet</a> theorem\n",
    "========"
   ]
  },
  {
   "cell_type": "code",
   "execution_count": null,
   "metadata": {},
   "outputs": [],
   "source": [
    "import proveit\n",
    "from proveit._common_ import m, x, y, A, B, S, AA\n",
    "from proveit.number import one, two\n",
    "from proveit.logic import Booleans, Equals, Forall, InSet, Or, Set, SubsetEq, Union\n",
    "from proveit.logic.boolean.disjunction._theorems_ import orIfLeft\n",
    "from proveit.logic.set_theory.containment._axioms_ import subsetEqDef\n",
    "from proveit.logic.set_theory.unification._axioms_ import unionDef\n",
    "\n",
    "context = proveit.Context('..') # the theorem's context is in the parent directory"
   ]
  },
  {
   "cell_type": "code",
   "execution_count": null,
   "metadata": {},
   "outputs": [],
   "source": [
    "%proving setSubsetEqOfUnionWithSet presuming [proveit.logic]"
   ]
  },
  {
   "cell_type": "code",
   "execution_count": null,
   "metadata": {},
   "outputs": [],
   "source": [
    "subsetEqDef"
   ]
  },
  {
   "cell_type": "code",
   "execution_count": null,
   "metadata": {},
   "outputs": [],
   "source": [
    "subsetEqDef_inst = subsetEqDef.instantiate({A:A, B:Union(A, B)})"
   ]
  },
  {
   "cell_type": "code",
   "execution_count": null,
   "metadata": {},
   "outputs": [],
   "source": [
    "Forall(x, InSet(x, A), domain=A).prove()"
   ]
  },
  {
   "cell_type": "code",
   "execution_count": null,
   "metadata": {},
   "outputs": [],
   "source": [
    "orIfLeft"
   ]
  },
  {
   "cell_type": "code",
   "execution_count": null,
   "metadata": {},
   "outputs": [],
   "source": [
    "Equals(InSet(x, A), Or(InSet(x, A), InSet(x, B)))"
   ]
  },
  {
   "cell_type": "code",
   "execution_count": null,
   "metadata": {},
   "outputs": [],
   "source": [
    "unionDef"
   ]
  },
  {
   "cell_type": "code",
   "execution_count": null,
   "metadata": {},
   "outputs": [],
   "source": [
    "unionDef_inst = unionDef.instantiate({m:two, x:x, A:[A, B]})"
   ]
  },
  {
   "cell_type": "code",
   "execution_count": null,
   "metadata": {},
   "outputs": [],
   "source": [
    "unionDef_inst.deriveRightViaEquivalence(assumptions=[InSet(x, Union(A, B))])"
   ]
  },
  {
   "cell_type": "code",
   "execution_count": null,
   "metadata": {},
   "outputs": [],
   "source": [
    "unionDef_inst.generalize([[x]], [[A]])"
   ]
  },
  {
   "cell_type": "code",
   "execution_count": null,
   "metadata": {},
   "outputs": [],
   "source": [
    "unionDef_inst.subLeftSideInto(subsetEqDef_inst)"
   ]
  },
  {
   "cell_type": "code",
   "execution_count": null,
   "metadata": {},
   "outputs": [],
   "source": [
    "unionDefSpec = unionDef.specialize({m:two, x:x})"
   ]
  },
  {
   "cell_type": "code",
   "execution_count": null,
   "metadata": {},
   "outputs": [],
   "source": [
    "Or(InSet(x, A), InSet(x, B))"
   ]
  },
  {
   "cell_type": "code",
   "execution_count": null,
   "metadata": {},
   "outputs": [],
   "source": [
    "orIfLeft"
   ]
  },
  {
   "cell_type": "code",
   "execution_count": null,
   "metadata": {},
   "outputs": [],
   "source": [
    "orIfLeft_inst = orIfLeft.instantiate(\n",
    "    {A:InSet(x, A), B:InSet(x, B)}, assumptions=[InSet(x, A), InSet(InSet(x, B), Booleans)])"
   ]
  },
  {
   "cell_type": "code",
   "execution_count": null,
   "metadata": {},
   "outputs": [],
   "source": [
    "unionDef_inst_01 = unionDef_inst.subLeftSideInto(orIfLeft_inst, assumptions=[InSet(x, A), InSet(InSet(x, B), Booleans)])"
   ]
  },
  {
   "cell_type": "code",
   "execution_count": null,
   "metadata": {},
   "outputs": [],
   "source": [
    "unionDef_inst_01.asImplication(hypothesis=InSet(x, A))"
   ]
  },
  {
   "cell_type": "code",
   "execution_count": null,
   "metadata": {},
   "outputs": [],
   "source": [
    "unionDef_inst_01.asImplication(hypothesis=InSet(x, A)).generalize([[A, B]], conditions=[InSet(InSet(x, B), Booleans)])"
   ]
  },
  {
   "cell_type": "code",
   "execution_count": null,
   "metadata": {},
   "outputs": [],
   "source": [
    "temp_expr = unionDef_inst_01.asImplication(hypothesis=InSet(x, A)).expr"
   ]
  },
  {
   "cell_type": "code",
   "execution_count": null,
   "metadata": {},
   "outputs": [],
   "source": [
    "temp_expr"
   ]
  },
  {
   "cell_type": "code",
   "execution_count": null,
   "metadata": {},
   "outputs": [],
   "source": [
    "# %qed"
   ]
  },
  {
   "cell_type": "code",
   "execution_count": null,
   "metadata": {},
   "outputs": [],
   "source": []
  }
 ],
 "metadata": {
  "kernelspec": {
   "display_name": "Python 3",
   "language": "python",
   "name": "python3"
  }
 },
 "nbformat": 4,
 "nbformat_minor": 0
}
