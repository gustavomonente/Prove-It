{
 "cells": [
  {
   "cell_type": "markdown",
   "metadata": {},
   "source": [
    "Show the Proof\n",
    "========"
   ]
  },
  {
   "cell_type": "code",
   "execution_count": 1,
   "metadata": {},
   "outputs": [
    {
     "data": {
      "text/html": [
       "<table><tr><th>&nbsp;</th><th>step type</th><th>requirements</th><th>statement</th></tr>\n",
       "<tr><td><a name=\"proveit.logic.booleans.implication._proof_eq_from_mutual_impl.62ae44dedd30487bd8101ed24b1aa420abdee72c0_step0\">0</a></td><td>instantiation</td><td><a href=\"#proveit.logic.booleans.implication._proof_eq_from_mutual_impl.62ae44dedd30487bd8101ed24b1aa420abdee72c0_step1\">1</a>, <a href=\"#proveit.logic.booleans.implication._proof_eq_from_mutual_impl.62ae44dedd30487bd8101ed24b1aa420abdee72c0_step2\">2</a>, <a href=\"#proveit.logic.booleans.implication._proof_eq_from_mutual_impl.62ae44dedd30487bd8101ed24b1aa420abdee72c0_step3\">3</a></td><td><span style=\"font-size:20px;\"> <a class=\"ProveItLink\" href=\"proof.ipynb\" style=\"text-decoration: none\">&nbsp;&#x22A2;&nbsp;&nbsp;</a><a class=\"ProveItLink\" href=\"../effe2838dfdba5b68f3bdf910620e9f64d99ccb80/expr.ipynb\"><img src=\"../effe2838dfdba5b68f3bdf910620e9f64d99ccb80/expr.png\" style=\"display:inline;vertical-align:middle;\" /></a></span></td></tr>\n",
       "<tr><td>&nbsp;</td><td colspan=4 style=\"text-align:left\"><span style=\"font-size:20px;\"><a class=\"ProveItLink\" href=\"../../../../../../__pv_it/common/09585084922504426caf1db2ff588a23a0932a960/expr.ipynb\"><img src=\"../../../../../../__pv_it/common/09585084922504426caf1db2ff588a23a0932a960/expr.png\" style=\"display:inline;vertical-align:middle;\" /></a> : <a class=\"ProveItLink\" href=\"../../theorems/ccf6f4e5503e3daf4f0741bb3b3e8f32e2bbbce20/expr.ipynb\"><img src=\"../../theorems/ccf6f4e5503e3daf4f0741bb3b3e8f32e2bbbce20/expr.png\" style=\"display:inline;vertical-align:middle;\" /></a>, <a class=\"ProveItLink\" href=\"../../../../../../__pv_it/common/a9162d1c3cc0470c02e5daf414500903a7a419230/expr.ipynb\"><img src=\"../../../../../../__pv_it/common/a9162d1c3cc0470c02e5daf414500903a7a419230/expr.png\" style=\"display:inline;vertical-align:middle;\" /></a> : <a class=\"ProveItLink\" href=\"../../theorems/3d7f114cc4f18f94cf0e8491d520ba0907eddca30/expr.ipynb\"><img src=\"../../theorems/3d7f114cc4f18f94cf0e8491d520ba0907eddca30/expr.png\" style=\"display:inline;vertical-align:middle;\" /></a></span></td></tr><tr><td><a name=\"proveit.logic.booleans.implication._proof_eq_from_mutual_impl.62ae44dedd30487bd8101ed24b1aa420abdee72c0_step1\">1</a></td><td>theorem</td><td></td><td><span style=\"font-size:20px;\"> <a class=\"ProveItLink\" href=\"../../../../conjunction/_theory_nbs_/proofs/nand_if_right_but_not_left/thm_proof.ipynb\" style=\"text-decoration: none\">&nbsp;&#x22A2;&nbsp;&nbsp;</a><a class=\"ProveItLink\" href=\"../../../../conjunction/__pv_it/theorems/cea4ee78dcdbb248426b2a4d83709b8dfd1d4e5c0/expr.ipynb\"><img src=\"../../../../conjunction/__pv_it/theorems/cea4ee78dcdbb248426b2a4d83709b8dfd1d4e5c0/expr.png\" style=\"display:inline;vertical-align:middle;\" /></a></span></td></tr>\n",
       "<tr><td>&nbsp;</td><td colspan=4 style-\"text-align:left\"><a class=\"ProveItLink\" href=\"../../../../conjunction/_theory_nbs_/proofs/nand_if_right_but_not_left/thm_proof.ipynb\">proveit.logic.booleans.conjunction.nand_if_right_but_not_left</a></td></tr><tr><td><a name=\"proveit.logic.booleans.implication._proof_eq_from_mutual_impl.62ae44dedd30487bd8101ed24b1aa420abdee72c0_step2\">2</a></td><td>theorem</td><td></td><td><span style=\"font-size:20px;\"> <a class=\"ProveItLink\" href=\"../../../_theory_nbs_/proofs/true_implies_false_negated/thm_proof.ipynb\" style=\"text-decoration: none\">&nbsp;&#x22A2;&nbsp;&nbsp;</a><a class=\"ProveItLink\" href=\"../../theorems/e2c9c0dec97ce3b08bfa716bddb9416cea6644e90/expr.ipynb\"><img src=\"../../theorems/e2c9c0dec97ce3b08bfa716bddb9416cea6644e90/expr.png\" style=\"display:inline;vertical-align:middle;\" /></a></span></td></tr>\n",
       "<tr><td>&nbsp;</td><td colspan=4 style-\"text-align:left\"><a class=\"ProveItLink\" href=\"../../../_theory_nbs_/proofs/true_implies_false_negated/thm_proof.ipynb\">proveit.logic.booleans.implication.true_implies_false_negated</a></td></tr><tr><td><a name=\"proveit.logic.booleans.implication._proof_eq_from_mutual_impl.62ae44dedd30487bd8101ed24b1aa420abdee72c0_step3\">3</a></td><td>theorem</td><td></td><td><span style=\"font-size:20px;\"> <a class=\"ProveItLink\" href=\"../../../_theory_nbs_/proofs/false_implies_true/thm_proof.ipynb\" style=\"text-decoration: none\">&nbsp;&#x22A2;&nbsp;&nbsp;</a><a class=\"ProveItLink\" href=\"../../theorems/3d7f114cc4f18f94cf0e8491d520ba0907eddca30/expr.ipynb\"><img src=\"../../theorems/3d7f114cc4f18f94cf0e8491d520ba0907eddca30/expr.png\" style=\"display:inline;vertical-align:middle;\" /></a></span></td></tr>\n",
       "<tr><td>&nbsp;</td><td colspan=4 style-\"text-align:left\"><a class=\"ProveItLink\" href=\"../../../_theory_nbs_/proofs/false_implies_true/thm_proof.ipynb\">proveit.logic.booleans.implication.false_implies_true</a></td></tr></table>"
      ],
      "text/plain": [
       "<proveit._core_.proof._ShowProof at 0x7f3809be0c50>"
      ]
     },
     "execution_count": 1,
     "metadata": {},
     "output_type": "execute_result"
    }
   ],
   "source": [
    "import proveit\n",
    "# Automation is not needed when only showing a stored proof:\n",
    "proveit.defaults.automation = False # This will speed things up.\n",
    "proveit.defaults.inline_pngs = False # Makes files smaller.\n",
    "%show_proof"
   ]
  },
  {
   "cell_type": "code",
   "execution_count": null,
   "metadata": {},
   "outputs": [],
   "source": []
  }
 ],
 "metadata": {
  "kernelspec": {
   "display_name": "Python 3",
   "language": "python",
   "name": "python3"
  }
 },
 "nbformat": 4,
 "nbformat_minor": 0
}