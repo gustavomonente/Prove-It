{
 "cells": [
  {
   "cell_type": "markdown",
   "metadata": {},
   "source": [
    "Show the Proof\n",
    "========"
   ]
  },
  {
   "cell_type": "code",
   "execution_count": 1,
   "metadata": {},
   "outputs": [
    {
     "data": {
      "text/html": [
       "<table><tr><th>&nbsp;</th><th>step type</th><th>requirements</th><th>statement</th></tr>\n",
       "<tr><td><a name=\"proveit.logic.booleans.implication._proof_eq_from_mutual_impl.98d8c8026da1ed55b9e1c1f7091f4056bee6c9350_step0\">0</a></td><td>generalizaton</td><td><a href=\"#proveit.logic.booleans.implication._proof_eq_from_mutual_impl.98d8c8026da1ed55b9e1c1f7091f4056bee6c9350_step1\">1</a></td><td><span style=\"font-size:20px;\"> <a class=\"ProveItLink\" href=\"proof.ipynb\" style=\"text-decoration: none\">&nbsp;&#x22A2;&nbsp;&nbsp;</a><a class=\"ProveItLink\" href=\"../cef141d914467fe956a8da85b791ceb97f8956b40/expr.ipynb\"><img src=\"../cef141d914467fe956a8da85b791ceb97f8956b40/expr.png\" style=\"display:inline;vertical-align:middle;\" /></a></span></td></tr>\n",
       "<tr><td><a name=\"proveit.logic.booleans.implication._proof_eq_from_mutual_impl.98d8c8026da1ed55b9e1c1f7091f4056bee6c9350_step1\">1</a></td><td>instantiation</td><td><a href=\"#proveit.logic.booleans.implication._proof_eq_from_mutual_impl.98d8c8026da1ed55b9e1c1f7091f4056bee6c9350_step2\">2</a>, <a href=\"#proveit.logic.booleans.implication._proof_eq_from_mutual_impl.98d8c8026da1ed55b9e1c1f7091f4056bee6c9350_step3\">3</a></td><td><span style=\"font-size:20px;\"><a class=\"ProveItLink\" href=\"../../theorems/6b89b43e4cbb2b2a7f36bef7320ec444c4840e0e0/expr.ipynb\"><img src=\"../../theorems/6b89b43e4cbb2b2a7f36bef7320ec444c4840e0e0/expr.png\" style=\"display:inline;vertical-align:middle;\" /></a>, <a class=\"ProveItLink\" href=\"../75d8edca9bf9e3630234eb666e498db74f344f0f0/expr.ipynb\"><img src=\"../75d8edca9bf9e3630234eb666e498db74f344f0f0/expr.png\" style=\"display:inline;vertical-align:middle;\" /></a> <a class=\"ProveItLink\" href=\"../5b28067600b9312bcb96a1da317cf8089024c3d30/proof.ipynb\" style=\"text-decoration: none\">&nbsp;&#x22A2;&nbsp;&nbsp;</a><a class=\"ProveItLink\" href=\"../7383b2b14b116d3fd6915ed5fd3f90ce4c79699c0/expr.ipynb\"><img src=\"../7383b2b14b116d3fd6915ed5fd3f90ce4c79699c0/expr.png\" style=\"display:inline;vertical-align:middle;\" /></a></span></td></tr>\n",
       "<tr><td>&nbsp;</td><td colspan=4 style=\"text-align:left\"><span style=\"font-size:20px;\"><a class=\"ProveItLink\" href=\"../../../../../../__pv_it/common/a0d9d672aa5e272d907247690c152cc2c6daafb70/expr.ipynb\"><img src=\"../../../../../../__pv_it/common/a0d9d672aa5e272d907247690c152cc2c6daafb70/expr.png\" style=\"display:inline;vertical-align:middle;\" /></a> : <a class=\"ProveItLink\" href=\"../../../../../../__pv_it/common/a9162d1c3cc0470c02e5daf414500903a7a419230/expr.ipynb\"><img src=\"../../../../../../__pv_it/common/a9162d1c3cc0470c02e5daf414500903a7a419230/expr.png\" style=\"display:inline;vertical-align:middle;\" /></a>, <a class=\"ProveItLink\" href=\"../../../../../../__pv_it/common/ff7dba4ef0bbe791ab573bf2d9c220a304399ac80/expr.ipynb\"><img src=\"../../../../../../__pv_it/common/ff7dba4ef0bbe791ab573bf2d9c220a304399ac80/expr.png\" style=\"display:inline;vertical-align:middle;\" /></a> : <a class=\"ProveItLink\" href=\"../../../../__pv_it/common/e0f123f2e4f322e1eba7f861749cda9fd9d99a120/expr.ipynb\"><img src=\"../../../../__pv_it/common/e0f123f2e4f322e1eba7f861749cda9fd9d99a120/expr.png\" style=\"display:inline;vertical-align:middle;\" /></a></span></td></tr><tr><td><a name=\"proveit.logic.booleans.implication._proof_eq_from_mutual_impl.98d8c8026da1ed55b9e1c1f7091f4056bee6c9350_step2\">2</a></td><td>theorem</td><td></td><td><span style=\"font-size:20px;\"> <a class=\"ProveItLink\" href=\"../../../../../equality/_theory_nbs_/proofs/equals_reversal/thm_proof.ipynb\" style=\"text-decoration: none\">&nbsp;&#x22A2;&nbsp;&nbsp;</a><a class=\"ProveItLink\" href=\"../../../../../equality/__pv_it/theorems/848895161f9444b4baafff9a3748a1cbc7dadb400/expr.ipynb\"><img src=\"../../../../../equality/__pv_it/theorems/848895161f9444b4baafff9a3748a1cbc7dadb400/expr.png\" style=\"display:inline;vertical-align:middle;\" /></a></span></td></tr>\n",
       "<tr><td>&nbsp;</td><td colspan=4 style-\"text-align:left\"><a class=\"ProveItLink\" href=\"../../../../../equality/_theory_nbs_/proofs/equals_reversal/thm_proof.ipynb\">proveit.logic.equality.equals_reversal</a></td></tr><tr><td><a name=\"proveit.logic.booleans.implication._proof_eq_from_mutual_impl.98d8c8026da1ed55b9e1c1f7091f4056bee6c9350_step3\">3</a></td><td>instantiation</td><td><a href=\"#proveit.logic.booleans.implication._proof_eq_from_mutual_impl.98d8c8026da1ed55b9e1c1f7091f4056bee6c9350_step4\">4</a>, <a href=\"#proveit.logic.booleans.implication._proof_eq_from_mutual_impl.98d8c8026da1ed55b9e1c1f7091f4056bee6c9350_step5\">5</a></td><td><span style=\"font-size:20px;\"><a class=\"ProveItLink\" href=\"../../theorems/6b89b43e4cbb2b2a7f36bef7320ec444c4840e0e0/expr.ipynb\"><img src=\"../../theorems/6b89b43e4cbb2b2a7f36bef7320ec444c4840e0e0/expr.png\" style=\"display:inline;vertical-align:middle;\" /></a>, <a class=\"ProveItLink\" href=\"../75d8edca9bf9e3630234eb666e498db74f344f0f0/expr.ipynb\"><img src=\"../75d8edca9bf9e3630234eb666e498db74f344f0f0/expr.png\" style=\"display:inline;vertical-align:middle;\" /></a> <a class=\"ProveItLink\" href=\"../7c37397f4a06e1c708535055f4d2cbeb6274aa610/proof.ipynb\" style=\"text-decoration: none\">&nbsp;&#x22A2;&nbsp;&nbsp;</a><a class=\"ProveItLink\" href=\"../7949f80286ff32e2c4eb8e34890d172dd9fd388a0/expr.ipynb\"><img src=\"../7949f80286ff32e2c4eb8e34890d172dd9fd388a0/expr.png\" style=\"display:inline;vertical-align:middle;\" /></a></span></td></tr>\n",
       "<tr><td>&nbsp;</td><td colspan=4 style=\"text-align:left\"><span style=\"font-size:20px;\"><a class=\"ProveItLink\" href=\"../../../../../../__pv_it/common/09585084922504426caf1db2ff588a23a0932a960/expr.ipynb\"><img src=\"../../../../../../__pv_it/common/09585084922504426caf1db2ff588a23a0932a960/expr.png\" style=\"display:inline;vertical-align:middle;\" /></a> : <a class=\"ProveItLink\" href=\"../../../../../../__pv_it/common/a9162d1c3cc0470c02e5daf414500903a7a419230/expr.ipynb\"><img src=\"../../../../../../__pv_it/common/a9162d1c3cc0470c02e5daf414500903a7a419230/expr.png\" style=\"display:inline;vertical-align:middle;\" /></a></span></td></tr><tr><td><a name=\"proveit.logic.booleans.implication._proof_eq_from_mutual_impl.98d8c8026da1ed55b9e1c1f7091f4056bee6c9350_step4\">4</a></td><td>axiom</td><td></td><td><span style=\"font-size:20px;\"> <a class=\"ProveItLink\" href=\"../../../../negation/_theory_nbs_/axioms.ipynb#negation_elim\" style=\"text-decoration: none\">&nbsp;&#x22A2;&nbsp;&nbsp;</a><a class=\"ProveItLink\" href=\"../../../../negation/__pv_it/axioms/9495abbd5f513bded61d958ff7a4f236116799110/expr.ipynb\"><img src=\"../../../../negation/__pv_it/axioms/9495abbd5f513bded61d958ff7a4f236116799110/expr.png\" style=\"display:inline;vertical-align:middle;\" /></a></span></td></tr>\n",
       "<tr><td>&nbsp;</td><td colspan=4 style-\"text-align:left\"><a class=\"ProveItLink\" href=\"../../../../negation/_theory_nbs_/axioms.ipynb#negation_elim\">proveit.logic.booleans.negation.negation_elim</a></td></tr><tr><td><a name=\"proveit.logic.booleans.implication._proof_eq_from_mutual_impl.98d8c8026da1ed55b9e1c1f7091f4056bee6c9350_step5\">5</a></td><td>instantiation</td><td><a href=\"#proveit.logic.booleans.implication._proof_eq_from_mutual_impl.98d8c8026da1ed55b9e1c1f7091f4056bee6c9350_step6\">6</a>, <a href=\"#proveit.logic.booleans.implication._proof_eq_from_mutual_impl.98d8c8026da1ed55b9e1c1f7091f4056bee6c9350_step7\">7</a>, <a href=\"#proveit.logic.booleans.implication._proof_eq_from_mutual_impl.98d8c8026da1ed55b9e1c1f7091f4056bee6c9350_step8\">8</a></td><td><span style=\"font-size:20px;\"><a class=\"ProveItLink\" href=\"../../theorems/6b89b43e4cbb2b2a7f36bef7320ec444c4840e0e0/expr.ipynb\"><img src=\"../../theorems/6b89b43e4cbb2b2a7f36bef7320ec444c4840e0e0/expr.png\" style=\"display:inline;vertical-align:middle;\" /></a>, <a class=\"ProveItLink\" href=\"../75d8edca9bf9e3630234eb666e498db74f344f0f0/expr.ipynb\"><img src=\"../75d8edca9bf9e3630234eb666e498db74f344f0f0/expr.png\" style=\"display:inline;vertical-align:middle;\" /></a> <a class=\"ProveItLink\" href=\"../c895ad54fc499267ae15d99c2be7d7f74462fb740/proof.ipynb\" style=\"text-decoration: none\">&nbsp;&#x22A2;&nbsp;&nbsp;</a><a class=\"ProveItLink\" href=\"../../../../conjunction/__pv_it/theorems/303f482d5bc18658cf260ef56d927698c7912bf90/expr.ipynb\"><img src=\"../../../../conjunction/__pv_it/theorems/303f482d5bc18658cf260ef56d927698c7912bf90/expr.png\" style=\"display:inline;vertical-align:middle;\" /></a></span></td></tr>\n",
       "<tr><td>&nbsp;</td><td colspan=4 style=\"text-align:left\"><span style=\"font-size:20px;\"><a class=\"ProveItLink\" href=\"../../../../../../__pv_it/common/09585084922504426caf1db2ff588a23a0932a960/expr.ipynb\"><img src=\"../../../../../../__pv_it/common/09585084922504426caf1db2ff588a23a0932a960/expr.png\" style=\"display:inline;vertical-align:middle;\" /></a> : <a class=\"ProveItLink\" href=\"../../../../../../__pv_it/common/a9162d1c3cc0470c02e5daf414500903a7a419230/expr.ipynb\"><img src=\"../../../../../../__pv_it/common/a9162d1c3cc0470c02e5daf414500903a7a419230/expr.png\" style=\"display:inline;vertical-align:middle;\" /></a></span></td></tr><tr><td><a name=\"proveit.logic.booleans.implication._proof_eq_from_mutual_impl.98d8c8026da1ed55b9e1c1f7091f4056bee6c9350_step6\">6</a></td><td>axiom</td><td></td><td><span style=\"font-size:20px;\"> <a class=\"ProveItLink\" href=\"../../../_theory_nbs_/axioms.ipynb#denial_via_contradiction\" style=\"text-decoration: none\">&nbsp;&#x22A2;&nbsp;&nbsp;</a><a class=\"ProveItLink\" href=\"../../axioms/3ba42e63897df1b59e5482fb39e92b105a4e201b0/expr.ipynb\"><img src=\"../../axioms/3ba42e63897df1b59e5482fb39e92b105a4e201b0/expr.png\" style=\"display:inline;vertical-align:middle;\" /></a></span></td></tr>\n",
       "<tr><td>&nbsp;</td><td colspan=4 style-\"text-align:left\"><a class=\"ProveItLink\" href=\"../../../_theory_nbs_/axioms.ipynb#denial_via_contradiction\">proveit.logic.booleans.implication.denial_via_contradiction</a></td></tr><tr><td><a name=\"proveit.logic.booleans.implication._proof_eq_from_mutual_impl.98d8c8026da1ed55b9e1c1f7091f4056bee6c9350_step7\">7</a></td><td>assumption</td><td></td><td><span style=\"font-size:20px;\"><a class=\"ProveItLink\" href=\"../../theorems/6b89b43e4cbb2b2a7f36bef7320ec444c4840e0e0/expr.ipynb\"><img src=\"../../theorems/6b89b43e4cbb2b2a7f36bef7320ec444c4840e0e0/expr.png\" style=\"display:inline;vertical-align:middle;\" /></a> <a class=\"ProveItLink\" href=\"../7877a561623e6cf68a781ea9f842cb72481a21460/proof.ipynb\" style=\"text-decoration: none\">&nbsp;&#x22A2;&nbsp;&nbsp;</a><a class=\"ProveItLink\" href=\"../../theorems/6b89b43e4cbb2b2a7f36bef7320ec444c4840e0e0/expr.ipynb\"><img src=\"../../theorems/6b89b43e4cbb2b2a7f36bef7320ec444c4840e0e0/expr.png\" style=\"display:inline;vertical-align:middle;\" /></a></span></td></tr>\n",
       "<tr><td><a name=\"proveit.logic.booleans.implication._proof_eq_from_mutual_impl.98d8c8026da1ed55b9e1c1f7091f4056bee6c9350_step8\">8</a></td><td>assumption</td><td></td><td><span style=\"font-size:20px;\"><a class=\"ProveItLink\" href=\"../75d8edca9bf9e3630234eb666e498db74f344f0f0/expr.ipynb\"><img src=\"../75d8edca9bf9e3630234eb666e498db74f344f0f0/expr.png\" style=\"display:inline;vertical-align:middle;\" /></a> <a class=\"ProveItLink\" href=\"../c36f703b66a3461ab3fb4d9f16bfab7a6bc4c1800/proof.ipynb\" style=\"text-decoration: none\">&nbsp;&#x22A2;&nbsp;&nbsp;</a><a class=\"ProveItLink\" href=\"../75d8edca9bf9e3630234eb666e498db74f344f0f0/expr.ipynb\"><img src=\"../75d8edca9bf9e3630234eb666e498db74f344f0f0/expr.png\" style=\"display:inline;vertical-align:middle;\" /></a></span></td></tr>\n",
       "</table>"
      ],
      "text/plain": [
       "<proveit._core_.proof._ShowProof at 0x7fbb28582048>"
      ]
     },
     "execution_count": 1,
     "metadata": {},
     "output_type": "execute_result"
    }
   ],
   "source": [
    "import proveit\n",
    "# Automation is not needed when only showing a stored proof:\n",
    "proveit.defaults.automation = False # This will speed things up.\n",
    "proveit.defaults.inline_pngs = False # Makes files smaller.\n",
    "%show_proof"
   ]
  },
  {
   "cell_type": "code",
   "execution_count": null,
   "metadata": {},
   "outputs": [],
   "source": []
  }
 ],
 "metadata": {
  "kernelspec": {
   "display_name": "Python 3",
   "language": "python",
   "name": "python3"
  }
 },
 "nbformat": 4,
 "nbformat_minor": 0
}