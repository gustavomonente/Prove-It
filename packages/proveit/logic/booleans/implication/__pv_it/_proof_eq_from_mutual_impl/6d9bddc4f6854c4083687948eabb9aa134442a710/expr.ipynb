{
 "cells": [
  {
   "cell_type": "markdown",
   "metadata": {},
   "source": [
    "Expression of type <a class=\"ProveItLink\" href=\"../../../../../../../../doc/html/api/proveit.logic.Equals.html\">Equals</a>\n",
    "=======================\n",
    "# from the theory of <a class=\"ProveItLink\" href=\"../../../_theory_nbs_/theory.ipynb\">proveit.logic.booleans.implication</a>"
   ]
  },
  {
   "cell_type": "code",
   "execution_count": 1,
   "metadata": {},
   "outputs": [],
   "source": [
    "import proveit\n",
    "# Automation is not needed when building an expression:\n",
    "proveit.defaults.automation = False # This will speed things up.\n",
    "proveit.defaults.inline_pngs = False # Makes files smaller.\n",
    "%load_expr # Load the stored expression as 'stored_expr'\n",
    "# import Expression classes needed to build the expression\n",
    "from proveit import A, B, Conditional\n",
    "from proveit.logic import And, Boolean, Equals, Implies, InSet"
   ]
  },
  {
   "cell_type": "code",
   "execution_count": 2,
   "metadata": {},
   "outputs": [
    {
     "data": {
      "text/html": [
       "<strong id=\"expr\">expr:</strong> <a class=\"ProveItLink\" href=\"expr.ipynb\"><img src=\"expr.png\" style=\"display:inline;vertical-align:middle;\" /></a><br>"
      ],
      "text/plain": [
       "expr: {A = B if A in BOOLEAN ,  (B in BOOLEAN) and (A => B) and (B => A). = {A = B if A in BOOLEAN ,  B in BOOLEAN ,  A => B ,  B => A."
      ]
     },
     "execution_count": 2,
     "metadata": {},
     "output_type": "execute_result"
    }
   ],
   "source": [
    "# build up the expression from sub-expressions\n",
    "sub_expr1 = Equals(A, B)\n",
    "sub_expr2 = InSet(A, Boolean)\n",
    "sub_expr3 = InSet(B, Boolean)\n",
    "sub_expr4 = Implies(A, B)\n",
    "sub_expr5 = Implies(B, A)\n",
    "expr = Equals(Conditional(sub_expr1, And(sub_expr2, And(sub_expr3, sub_expr4, sub_expr5))), Conditional(sub_expr1, And(sub_expr2, sub_expr3, sub_expr4, sub_expr5)))"
   ]
  },
  {
   "cell_type": "code",
   "execution_count": 3,
   "metadata": {},
   "outputs": [
    {
     "name": "stdout",
     "output_type": "stream",
     "text": [
      "Passed sanity check: expr matches stored_expr\n"
     ]
    }
   ],
   "source": [
    "# check that the built expression is the same as the stored expression\n",
    "assert expr == stored_expr\n",
    "assert expr._style_id == stored_expr._style_id\n",
    "print(\"Passed sanity check: expr matches stored_expr\")"
   ]
  },
  {
   "cell_type": "code",
   "execution_count": 4,
   "metadata": {},
   "outputs": [
    {
     "name": "stdout",
     "output_type": "stream",
     "text": [
      "\\left\\{A = B \\textrm{ if } A \\in \\mathbb{B} ,  \\left(B \\in \\mathbb{B}\\right) \\land \\left(A \\Rightarrow B\\right) \\land \\left(B \\Rightarrow A\\right)\\right.. = \\left\\{A = B \\textrm{ if } A \\in \\mathbb{B} ,  B \\in \\mathbb{B} ,  A \\Rightarrow B ,  B \\Rightarrow A\\right..\n"
     ]
    }
   ],
   "source": [
    "# Show the LaTeX representation of the expression for convenience if you need it.\n",
    "print(expr.latex())"
   ]
  },
  {
   "cell_type": "code",
   "execution_count": 5,
   "metadata": {},
   "outputs": [
    {
     "data": {
      "text/html": [
       "<table><tr><th>&nbsp;</th><th>core type</th><th>sub-expressions</th><th>expression</th></tr>\n",
       "<tr><td>0</td><td>Operation</td><td>operator:&nbsp;8<br>operands:&nbsp;1<br></td><td><a class=\"ProveItLink\" href=\"expr.ipynb\"><img src=\"expr.png\" style=\"display:inline;vertical-align:middle;\" /></a></td></tr>\n",
       "<tr><td>1</td><td>ExprTuple</td><td>2, 3</td><td><a class=\"ProveItLink\" href=\"../66d2074437946899e239f6b559c834d26f377a850/expr.ipynb\"><img src=\"../66d2074437946899e239f6b559c834d26f377a850/expr.png\" style=\"display:inline;vertical-align:middle;\" /></a></td></tr>\n",
       "<tr><td>2</td><td>Conditional</td><td>value:&nbsp;5<br>condition:&nbsp;4<br></td><td><a class=\"ProveItLink\" href=\"../9d5cd0d53b8a0b4c828a60f0364f261c9e3556800/expr.ipynb\"><img src=\"../9d5cd0d53b8a0b4c828a60f0364f261c9e3556800/expr.png\" style=\"display:inline;vertical-align:middle;\" /></a></td></tr>\n",
       "<tr><td>3</td><td>Conditional</td><td>value:&nbsp;5<br>condition:&nbsp;6<br></td><td><a class=\"ProveItLink\" href=\"../../theorems/489d2a76dbf075c21c2a9835771543e23964814a0/expr.ipynb\"><img src=\"../../theorems/489d2a76dbf075c21c2a9835771543e23964814a0/expr.png\" style=\"display:inline;vertical-align:middle;\" /></a></td></tr>\n",
       "<tr><td>4</td><td>Operation</td><td>operator:&nbsp;12<br>operands:&nbsp;7<br></td><td><a class=\"ProveItLink\" href=\"../3212a92aceca918e6b6eb7aacf378ffdfa0aef640/expr.ipynb\"><img src=\"../3212a92aceca918e6b6eb7aacf378ffdfa0aef640/expr.png\" style=\"display:inline;vertical-align:middle;\" /></a></td></tr>\n",
       "<tr><td>5</td><td>Operation</td><td>operator:&nbsp;8<br>operands:&nbsp;20<br></td><td><a class=\"ProveItLink\" href=\"../../theorems/c2956ea7322468548324be16fbc890b1ca6c3ef90/expr.ipynb\"><img src=\"../../theorems/c2956ea7322468548324be16fbc890b1ca6c3ef90/expr.png\" style=\"display:inline;vertical-align:middle;\" /></a></td></tr>\n",
       "<tr><td>6</td><td>Operation</td><td>operator:&nbsp;12<br>operands:&nbsp;9<br></td><td><a class=\"ProveItLink\" href=\"../../theorems/f3b69084e0619220179bd7e396378923e38e698f0/expr.ipynb\"><img src=\"../../theorems/f3b69084e0619220179bd7e396378923e38e698f0/expr.png\" style=\"display:inline;vertical-align:middle;\" /></a></td></tr>\n",
       "<tr><td>7</td><td>ExprTuple</td><td>11, 10</td><td><a class=\"ProveItLink\" href=\"../91e5918bad4be5c794ddfdb90053551848b14a630/expr.ipynb\"><img src=\"../91e5918bad4be5c794ddfdb90053551848b14a630/expr.png\" style=\"display:inline;vertical-align:middle;\" /></a></td></tr>\n",
       "<tr><td>8</td><td>Literal</td><td></td><td><a class=\"ProveItLink\" href=\"../../../../../equality/__pv_it/common/fb96dc12b2aa8801dda64d0132b396c63d1502bb0/expr.ipynb\"><img src=\"../../../../../equality/__pv_it/common/fb96dc12b2aa8801dda64d0132b396c63d1502bb0/expr.png\" style=\"display:inline;vertical-align:middle;\" /></a></td></tr>\n",
       "<tr><td>9</td><td>ExprTuple</td><td>11, 15, 16, 17</td><td><a class=\"ProveItLink\" href=\"../../theorems/de5f40795ef264d8efd83d11c66144d6f713ca230/expr.ipynb\"><img src=\"../../theorems/de5f40795ef264d8efd83d11c66144d6f713ca230/expr.png\" style=\"display:inline;vertical-align:middle;\" /></a></td></tr>\n",
       "<tr><td>10</td><td>Operation</td><td>operator:&nbsp;12<br>operands:&nbsp;13<br></td><td><a class=\"ProveItLink\" href=\"../161e44f494c37bf42a21686ad99f5957691748250/expr.ipynb\"><img src=\"../161e44f494c37bf42a21686ad99f5957691748250/expr.png\" style=\"display:inline;vertical-align:middle;\" /></a></td></tr>\n",
       "<tr><td>11</td><td>Operation</td><td>operator:&nbsp;18<br>operands:&nbsp;14<br></td><td><a class=\"ProveItLink\" href=\"../../theorems/414e2da7a309b8ea0e77405db0c64f7feb9fa17e0/expr.ipynb\"><img src=\"../../theorems/414e2da7a309b8ea0e77405db0c64f7feb9fa17e0/expr.png\" style=\"display:inline;vertical-align:middle;\" /></a></td></tr>\n",
       "<tr><td>12</td><td>Literal</td><td></td><td><a class=\"ProveItLink\" href=\"../../../../conjunction/__pv_it/common/42118ff318bd65d98b1393f64ce7c2269feef76e0/expr.ipynb\"><img src=\"../../../../conjunction/__pv_it/common/42118ff318bd65d98b1393f64ce7c2269feef76e0/expr.png\" style=\"display:inline;vertical-align:middle;\" /></a></td></tr>\n",
       "<tr><td>13</td><td>ExprTuple</td><td>15, 16, 17</td><td><a class=\"ProveItLink\" href=\"../8f434db552ea58b0040178e4b867e9f5852bf0a80/expr.ipynb\"><img src=\"../8f434db552ea58b0040178e4b867e9f5852bf0a80/expr.png\" style=\"display:inline;vertical-align:middle;\" /></a></td></tr>\n",
       "<tr><td>14</td><td>ExprTuple</td><td>25, 23</td><td><a class=\"ProveItLink\" href=\"../../theorems/71e21f013283363ece441aa9c43e819052d454d00/expr.ipynb\"><img src=\"../../theorems/71e21f013283363ece441aa9c43e819052d454d00/expr.png\" style=\"display:inline;vertical-align:middle;\" /></a></td></tr>\n",
       "<tr><td>15</td><td>Operation</td><td>operator:&nbsp;18<br>operands:&nbsp;19<br></td><td><a class=\"ProveItLink\" href=\"../../theorems/6b89b43e4cbb2b2a7f36bef7320ec444c4840e0e0/expr.ipynb\"><img src=\"../../theorems/6b89b43e4cbb2b2a7f36bef7320ec444c4840e0e0/expr.png\" style=\"display:inline;vertical-align:middle;\" /></a></td></tr>\n",
       "<tr><td>16</td><td>Operation</td><td>operator:&nbsp;21<br>operands:&nbsp;20<br></td><td><a class=\"ProveItLink\" href=\"../../theorems/9fb6b166895505172ae956c828809d363bcff2a30/expr.ipynb\"><img src=\"../../theorems/9fb6b166895505172ae956c828809d363bcff2a30/expr.png\" style=\"display:inline;vertical-align:middle;\" /></a></td></tr>\n",
       "<tr><td>17</td><td>Operation</td><td>operator:&nbsp;21<br>operands:&nbsp;22<br></td><td><a class=\"ProveItLink\" href=\"../../theorems/db1fa03cf71e75f8db9f390d2d4f9502454804800/expr.ipynb\"><img src=\"../../theorems/db1fa03cf71e75f8db9f390d2d4f9502454804800/expr.png\" style=\"display:inline;vertical-align:middle;\" /></a></td></tr>\n",
       "<tr><td>18</td><td>Literal</td><td></td><td><a class=\"ProveItLink\" href=\"../../../../../sets/membership/__pv_it/common/477487d8796864d23d5810f83761435f25167f690/expr.ipynb\"><img src=\"../../../../../sets/membership/__pv_it/common/477487d8796864d23d5810f83761435f25167f690/expr.png\" style=\"display:inline;vertical-align:middle;\" /></a></td></tr>\n",
       "<tr><td>19</td><td>ExprTuple</td><td>24, 23</td><td><a class=\"ProveItLink\" href=\"../../theorems/b193ebcd6b21c9b60c917b2f2b0404fb0b4261ba0/expr.ipynb\"><img src=\"../../theorems/b193ebcd6b21c9b60c917b2f2b0404fb0b4261ba0/expr.png\" style=\"display:inline;vertical-align:middle;\" /></a></td></tr>\n",
       "<tr><td>20</td><td>ExprTuple</td><td>25, 24</td><td><a class=\"ProveItLink\" href=\"../../theorems/8168c562b942d2349bc15878d637d47dc90786870/expr.ipynb\"><img src=\"../../theorems/8168c562b942d2349bc15878d637d47dc90786870/expr.png\" style=\"display:inline;vertical-align:middle;\" /></a></td></tr>\n",
       "<tr><td>21</td><td>Literal</td><td></td><td><a class=\"ProveItLink\" href=\"../../common/02bdb382575728da8cdbaed545b9096ea7a1bd5b0/expr.ipynb\"><img src=\"../../common/02bdb382575728da8cdbaed545b9096ea7a1bd5b0/expr.png\" style=\"display:inline;vertical-align:middle;\" /></a></td></tr>\n",
       "<tr><td>22</td><td>ExprTuple</td><td>24, 25</td><td><a class=\"ProveItLink\" href=\"../../theorems/f1a11a4fdc9d61982644166215b3707f047bf7140/expr.ipynb\"><img src=\"../../theorems/f1a11a4fdc9d61982644166215b3707f047bf7140/expr.png\" style=\"display:inline;vertical-align:middle;\" /></a></td></tr>\n",
       "<tr><td>23</td><td>Literal</td><td></td><td><a class=\"ProveItLink\" href=\"../../../../__pv_it/common/97424376de9815ad99f7180e3191b1cf4ab2a5710/expr.ipynb\"><img src=\"../../../../__pv_it/common/97424376de9815ad99f7180e3191b1cf4ab2a5710/expr.png\" style=\"display:inline;vertical-align:middle;\" /></a></td></tr>\n",
       "<tr><td>24</td><td>Variable</td><td></td><td><a class=\"ProveItLink\" href=\"../../../../../../__pv_it/common/a9162d1c3cc0470c02e5daf414500903a7a419230/expr.ipynb\"><img src=\"../../../../../../__pv_it/common/a9162d1c3cc0470c02e5daf414500903a7a419230/expr.png\" style=\"display:inline;vertical-align:middle;\" /></a></td></tr>\n",
       "<tr><td>25</td><td>Variable</td><td></td><td><a class=\"ProveItLink\" href=\"../../../../../../__pv_it/common/09585084922504426caf1db2ff588a23a0932a960/expr.ipynb\"><img src=\"../../../../../../__pv_it/common/09585084922504426caf1db2ff588a23a0932a960/expr.png\" style=\"display:inline;vertical-align:middle;\" /></a></td></tr>\n",
       "</table>\n"
      ],
      "text/plain": [
       "0. {A = B if A in BOOLEAN ,  (B in BOOLEAN) and (A => B) and (B => A). = {A = B if A in BOOLEAN ,  B in BOOLEAN ,  A => B ,  B => A.\n",
       "   core type: Operation\n",
       "   operator: 8\n",
       "   operands: 1\n",
       "1. (A = B if A in BOOLEAN ,  (B in BOOLEAN) and (A => B) and (B => A), A = B if A in BOOLEAN ,  B in BOOLEAN ,  A => B ,  B => A)\n",
       "   core type: ExprTuple\n",
       "   sub-expressions: 2, 3\n",
       "2. {A = B if A in BOOLEAN ,  (B in BOOLEAN) and (A => B) and (B => A).\n",
       "   core type: Conditional\n",
       "   value: 5\n",
       "   condition: 4\n",
       "3. {A = B if A in BOOLEAN ,  B in BOOLEAN ,  A => B ,  B => A.\n",
       "   core type: Conditional\n",
       "   value: 5\n",
       "   condition: 6\n",
       "4. (A in BOOLEAN) and ((B in BOOLEAN) and (A => B) and (B => A))\n",
       "   core type: Operation\n",
       "   operator: 12\n",
       "   operands: 7\n",
       "5. A = B\n",
       "   core type: Operation\n",
       "   operator: 8\n",
       "   operands: 20\n",
       "6. (A in BOOLEAN) and (B in BOOLEAN) and (A => B) and (B => A)\n",
       "   core type: Operation\n",
       "   operator: 12\n",
       "   operands: 9\n",
       "7. (A in BOOLEAN, (B in BOOLEAN) and (A => B) and (B => A))\n",
       "   core type: ExprTuple\n",
       "   sub-expressions: 11, 10\n",
       "8. =\n",
       "   core type: Literal\n",
       "   sub-expressions: \n",
       "9. (A in BOOLEAN, B in BOOLEAN, A => B, B => A)\n",
       "   core type: ExprTuple\n",
       "   sub-expressions: 11, 15, 16, 17\n",
       "10. (B in BOOLEAN) and (A => B) and (B => A)\n",
       "    core type: Operation\n",
       "    operator: 12\n",
       "    operands: 13\n",
       "11. A in BOOLEAN\n",
       "    core type: Operation\n",
       "    operator: 18\n",
       "    operands: 14\n",
       "12. and\n",
       "    core type: Literal\n",
       "    sub-expressions: \n",
       "13. (B in BOOLEAN, A => B, B => A)\n",
       "    core type: ExprTuple\n",
       "    sub-expressions: 15, 16, 17\n",
       "14. (A, BOOLEAN)\n",
       "    core type: ExprTuple\n",
       "    sub-expressions: 25, 23\n",
       "15. B in BOOLEAN\n",
       "    core type: Operation\n",
       "    operator: 18\n",
       "    operands: 19\n",
       "16. A => B\n",
       "    core type: Operation\n",
       "    operator: 21\n",
       "    operands: 20\n",
       "17. B => A\n",
       "    core type: Operation\n",
       "    operator: 21\n",
       "    operands: 22\n",
       "18. in\n",
       "    core type: Literal\n",
       "    sub-expressions: \n",
       "19. (B, BOOLEAN)\n",
       "    core type: ExprTuple\n",
       "    sub-expressions: 24, 23\n",
       "20. (A, B)\n",
       "    core type: ExprTuple\n",
       "    sub-expressions: 25, 24\n",
       "21. =>\n",
       "    core type: Literal\n",
       "    sub-expressions: \n",
       "22. (B, A)\n",
       "    core type: ExprTuple\n",
       "    sub-expressions: 24, 25\n",
       "23. BOOLEAN\n",
       "    core type: Literal\n",
       "    sub-expressions: \n",
       "24. B\n",
       "    core type: Variable\n",
       "    sub-expressions: \n",
       "25. A\n",
       "    core type: Variable\n",
       "    sub-expressions: "
      ]
     },
     "execution_count": 5,
     "metadata": {},
     "output_type": "execute_result"
    }
   ],
   "source": [
    "# display the expression information\n",
    "expr.expr_info()"
   ]
  },
  {
   "cell_type": "code",
   "execution_count": null,
   "metadata": {},
   "outputs": [],
   "source": []
  }
 ],
 "metadata": {
  "kernelspec": {
   "display_name": "Python 3",
   "language": "python",
   "name": "python3"
  }
 },
 "nbformat": 4,
 "nbformat_minor": 0
}