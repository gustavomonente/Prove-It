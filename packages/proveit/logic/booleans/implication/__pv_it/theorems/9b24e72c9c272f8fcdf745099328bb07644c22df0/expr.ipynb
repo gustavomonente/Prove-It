{
 "cells": [
  {
   "cell_type": "markdown",
   "metadata": {},
   "source": [
    "Expression of type <a class=\"ProveItLink\" href=\"../../../../../../../../doc/html/api/proveit.logic.Forall.html\">Forall</a>\n",
    "=======================\n",
    "# from the theory of <a class=\"ProveItLink\" href=\"../../../_theory_nbs_/theory.ipynb\">proveit.logic.booleans.implication</a>"
   ]
  },
  {
   "cell_type": "code",
   "execution_count": 1,
   "metadata": {},
   "outputs": [],
   "source": [
    "import proveit\n",
    "# Automation is not needed when building an expression:\n",
    "proveit.defaults.automation = False # This will speed things up.\n",
    "proveit.defaults.inline_pngs = False # Makes files smaller.\n",
    "%load_expr # Load the stored expression as 'stored_expr'\n",
    "# import Expression classes needed to build the expression\n",
    "from proveit import A\n",
    "from proveit.logic import Forall, Implies"
   ]
  },
  {
   "cell_type": "code",
   "execution_count": 2,
   "metadata": {},
   "outputs": [
    {
     "data": {
      "text/html": [
       "<strong id=\"expr\">expr:</strong> <a class=\"ProveItLink\" href=\"expr.ipynb\"><img src=\"expr.png\" style=\"display:inline;vertical-align:middle;\" /></a><br>"
      ],
      "text/plain": [
       "expr: forall_{A} (A => A)"
      ]
     },
     "execution_count": 2,
     "metadata": {},
     "output_type": "execute_result"
    }
   ],
   "source": [
    "# build up the expression from sub-expressions\n",
    "expr = Forall([A], Implies(A, A))"
   ]
  },
  {
   "cell_type": "code",
   "execution_count": 3,
   "metadata": {},
   "outputs": [
    {
     "name": "stdout",
     "output_type": "stream",
     "text": [
      "Passed sanity check: expr matches stored_expr\n"
     ]
    }
   ],
   "source": [
    "# check that the built expression is the same as the stored expression\n",
    "assert expr == stored_expr\n",
    "assert expr._style_id == stored_expr._style_id\n",
    "print(\"Passed sanity check: expr matches stored_expr\")"
   ]
  },
  {
   "cell_type": "code",
   "execution_count": 4,
   "metadata": {},
   "outputs": [
    {
     "name": "stdout",
     "output_type": "stream",
     "text": [
      "\\forall_{A}~\\left(A \\Rightarrow A\\right)\n"
     ]
    }
   ],
   "source": [
    "# Show the LaTeX representation of the expression for convenience if you need it.\n",
    "print(expr.latex())"
   ]
  },
  {
   "cell_type": "code",
   "execution_count": 5,
   "metadata": {},
   "outputs": [
    {
     "data": {
      "text/html": [
       "<table>\n",
       "<tr><th>name</th><th>description</th><th>default</th><th>current value</th><th>related methods</th></tr><tr><td>with_wrapping</td><td>If 'True', wrap the Expression after the parameters</td><td>None</td><td>None/False</td><td>('with_wrapping',)</td></tr>\n",
       "<tr><td>wrap_params</td><td>If 'True', wraps every two parameters AND wraps the Expression after the parameters</td><td>None</td><td>None/False</td><td>('with_params',)</td></tr>\n",
       "<tr><td>justification</td><td>justify to the 'left', 'center', or 'right' in the array cells</td><td>center</td><td>center</td><td>('with_justification',)</td></tr>\n",
       "</table>\n"
      ],
      "text/plain": [
       "style name: with_wrapping\n",
       "description: If 'True', wrap the Expression after the parameters\n",
       "default: None\n",
       "current value: None/False\n",
       "related methods: ('with_wrapping',)\n",
       "style name: wrap_params\n",
       "description: If 'True', wraps every two parameters AND wraps the Expression after the parameters\n",
       "default: None\n",
       "current value: None/False\n",
       "related methods: ('with_params',)\n",
       "style name: justification\n",
       "description: justify to the 'left', 'center', or 'right' in the array cells\n",
       "default: center\n",
       "current value: center\n",
       "related methods: ('with_justification',)"
      ]
     },
     "execution_count": 5,
     "metadata": {},
     "output_type": "execute_result"
    }
   ],
   "source": [
    "expr.style_options()"
   ]
  },
  {
   "cell_type": "code",
   "execution_count": 6,
   "metadata": {},
   "outputs": [
    {
     "data": {
      "text/html": [
       "<table><tr><th>&nbsp;</th><th>core type</th><th>sub-expressions</th><th>expression</th></tr>\n",
       "<tr><td>0</td><td>Operation</td><td>operator:&nbsp;1<br>operand:&nbsp;3<br></td><td><a class=\"ProveItLink\" href=\"expr.ipynb\"><img src=\"expr.png\" style=\"display:inline;vertical-align:middle;\" /></a></td></tr>\n",
       "<tr><td>1</td><td>Literal</td><td></td><td><a class=\"ProveItLink\" href=\"../../../../quantification/universality/__pv_it/common/684d35ba98fcbf8ca5011f865e530a51e77730630/expr.ipynb\"><img src=\"../../../../quantification/universality/__pv_it/common/684d35ba98fcbf8ca5011f865e530a51e77730630/expr.png\" style=\"display:inline;vertical-align:middle;\" /></a></td></tr>\n",
       "<tr><td>2</td><td>ExprTuple</td><td>3</td><td><a class=\"ProveItLink\" href=\"../f0ad957d241443ea8ae24f9f76ad96e6a4ebef490/expr.ipynb\"><img src=\"../f0ad957d241443ea8ae24f9f76ad96e6a4ebef490/expr.png\" style=\"display:inline;vertical-align:middle;\" /></a></td></tr>\n",
       "<tr><td>3</td><td>Lambda</td><td>parameter:&nbsp;7<br>body:&nbsp;4<br></td><td><a class=\"ProveItLink\" href=\"../c92cce8224f7a11cb2c23b55b8fcbe79e7e074e70/expr.ipynb\"><img src=\"../c92cce8224f7a11cb2c23b55b8fcbe79e7e074e70/expr.png\" style=\"display:inline;vertical-align:middle;\" /></a></td></tr>\n",
       "<tr><td>4</td><td>Operation</td><td>operator:&nbsp;5<br>operands:&nbsp;6<br></td><td><a class=\"ProveItLink\" href=\"../82e9988833a5f1d3c45ed5a71331dff3625e40360/expr.ipynb\"><img src=\"../82e9988833a5f1d3c45ed5a71331dff3625e40360/expr.png\" style=\"display:inline;vertical-align:middle;\" /></a></td></tr>\n",
       "<tr><td>5</td><td>Literal</td><td></td><td><a class=\"ProveItLink\" href=\"../../common/95a8cc69d34af52c7732e4a6fefbd5b63e8d31ba0/expr.ipynb\"><img src=\"../../common/95a8cc69d34af52c7732e4a6fefbd5b63e8d31ba0/expr.png\" style=\"display:inline;vertical-align:middle;\" /></a></td></tr>\n",
       "<tr><td>6</td><td>ExprTuple</td><td>7, 7</td><td><a class=\"ProveItLink\" href=\"../be56a38d6e99edf0f67093b1bd2ff40f25b949b20/expr.ipynb\"><img src=\"../be56a38d6e99edf0f67093b1bd2ff40f25b949b20/expr.png\" style=\"display:inline;vertical-align:middle;\" /></a></td></tr>\n",
       "<tr><td>7</td><td>Variable</td><td></td><td><a class=\"ProveItLink\" href=\"../../../../../../__pv_it/common/e4aad701f7f5516d8e7f0d805d518bf02c13322a0/expr.ipynb\"><img src=\"../../../../../../__pv_it/common/e4aad701f7f5516d8e7f0d805d518bf02c13322a0/expr.png\" style=\"display:inline;vertical-align:middle;\" /></a></td></tr>\n",
       "</table>\n"
      ],
      "text/plain": [
       "0. forall_{A} (A => A)\n",
       "   core type: Operation\n",
       "   operator: 1\n",
       "   operand: 3\n",
       "1. forall\n",
       "   core type: Literal\n",
       "   sub-expressions: \n",
       "2. (A -> (A => A))\n",
       "   core type: ExprTuple\n",
       "   sub-expressions: 3\n",
       "3. A -> (A => A)\n",
       "   core type: Lambda\n",
       "   parameter: 7\n",
       "   body: 4\n",
       "4. A => A\n",
       "   core type: Operation\n",
       "   operator: 5\n",
       "   operands: 6\n",
       "5. =>\n",
       "   core type: Literal\n",
       "   sub-expressions: \n",
       "6. (A, A)\n",
       "   core type: ExprTuple\n",
       "   sub-expressions: 7, 7\n",
       "7. A\n",
       "   core type: Variable\n",
       "   sub-expressions: "
      ]
     },
     "execution_count": 6,
     "metadata": {},
     "output_type": "execute_result"
    }
   ],
   "source": [
    "# display the expression information\n",
    "expr.expr_info()"
   ]
  },
  {
   "cell_type": "code",
   "execution_count": null,
   "metadata": {},
   "outputs": [],
   "source": []
  }
 ],
 "metadata": {
  "kernelspec": {
   "display_name": "Python 3",
   "language": "python",
   "name": "python3"
  }
 },
 "nbformat": 4,
 "nbformat_minor": 0
}