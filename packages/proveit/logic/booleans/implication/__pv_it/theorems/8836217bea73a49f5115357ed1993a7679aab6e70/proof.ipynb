{
 "cells": [
  {
   "cell_type": "markdown",
   "metadata": {},
   "source": [
    "Show the Proof\n",
    "========"
   ]
  },
  {
   "cell_type": "code",
   "execution_count": 1,
   "metadata": {},
   "outputs": [
    {
     "data": {
      "text/html": [
       "<table><tr><th>&nbsp;</th><th>step type</th><th>requirements</th><th>statement</th></tr>\n",
       "<tr><td><a name=\"proveit.logic.booleans.implication.theorems.8836217bea73a49f5115357ed1993a7679aab6e70_step0\">0</a></td><td>theorem</td><td></td><td><span style=\"font-size:20px;\"> <a class=\"ProveItLink\" href=\"../../../_theory_nbs_/proofs/iff_t_t/thm_proof.ipynb\" style=\"text-decoration: none\">&nbsp;&#x22A2;&nbsp;&nbsp;</a><a class=\"ProveItLink\" href=\"../e58e159afa635d0f7fbc6b3fa519fe6f0c54c1f70/expr.ipynb\"><img src=\"../e58e159afa635d0f7fbc6b3fa519fe6f0c54c1f70/expr.png\" style=\"display:inline;vertical-align:middle;\" /></a></span></td></tr>\n",
       "<tr><td>&nbsp;</td><td colspan=4 style-\"text-align:left\"><a class=\"ProveItLink\" href=\"../../../_theory_nbs_/proofs/iff_t_t/thm_proof.ipynb\">proveit.logic.booleans.implication.iff_t_t</a></td></tr></table>"
      ],
      "text/plain": [
       "<proveit._core_.proof._ShowProof at 0x7f86948ab940>"
      ]
     },
     "execution_count": 1,
     "metadata": {},
     "output_type": "execute_result"
    }
   ],
   "source": [
    "import proveit\n",
    "# Automation is not needed when only showing a stored proof:\n",
    "proveit.defaults.automation = False # This will speed things up.\n",
    "proveit.defaults.inline_pngs = False # Makes files smaller.\n",
    "%show_proof"
   ]
  },
  {
   "cell_type": "code",
   "execution_count": null,
   "metadata": {},
   "outputs": [],
   "source": []
  }
 ],
 "metadata": {
  "kernelspec": {
   "display_name": "Python 3",
   "language": "python",
   "name": "python3"
  },
  "language_info": {
   "codemirror_mode": {
    "name": "ipython",
    "version": 3
   },
   "file_extension": ".py",
   "mimetype": "text/x-python",
   "name": "python",
   "nbconvert_exporter": "python",
   "pygments_lexer": "ipython3",
   "version": "3.7.3"
  }
 },
 "nbformat": 4,
 "nbformat_minor": 1
}