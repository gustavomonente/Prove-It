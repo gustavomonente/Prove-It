{
 "cells": [
  {
   "cell_type": "markdown",
   "metadata": {},
   "source": [
    "Expression of type <a class=\"ProveItLink\" href=\"../../../../../../../../doc/html/api/proveit.Lambda.html\">Lambda</a>\n",
    "=======================\n",
    "# from the theory of <a class=\"ProveItLink\" href=\"../../../_theory_nbs_/theory.ipynb\">proveit.logic.booleans.implication</a>"
   ]
  },
  {
   "cell_type": "code",
   "execution_count": 1,
   "metadata": {},
   "outputs": [],
   "source": [
    "import proveit\n",
    "# Automation is not needed when building an expression:\n",
    "proveit.defaults.automation = False # This will speed things up.\n",
    "proveit.defaults.inline_pngs = False # Makes files smaller.\n",
    "%load_expr # Load the stored expression as 'stored_expr'\n",
    "# import Expression classes needed to build the expression\n",
    "from proveit import A, Conditional, Lambda\n",
    "from proveit.logic import FALSE, Implies, NotEquals, TRUE"
   ]
  },
  {
   "cell_type": "code",
   "execution_count": 2,
   "metadata": {},
   "outputs": [
    {
     "data": {
      "text/html": [
       "<strong id=\"expr\">expr:</strong> <a class=\"ProveItLink\" href=\"expr.ipynb\"><img src=\"expr.png\" style=\"display:inline;vertical-align:middle;\" /></a><br>"
      ],
      "text/plain": [
       "expr: A -> {A != TRUE if A => FALSE."
      ]
     },
     "execution_count": 2,
     "metadata": {},
     "output_type": "execute_result"
    }
   ],
   "source": [
    "# build up the expression from sub-expressions\n",
    "expr = Lambda(A, Conditional(NotEquals(A, TRUE), Implies(A, FALSE)))"
   ]
  },
  {
   "cell_type": "code",
   "execution_count": 3,
   "metadata": {},
   "outputs": [
    {
     "name": "stdout",
     "output_type": "stream",
     "text": [
      "Passed sanity check: expr matches stored_expr\n"
     ]
    }
   ],
   "source": [
    "# check that the built expression is the same as the stored expression\n",
    "assert expr == stored_expr\n",
    "assert expr._style_id == stored_expr._style_id\n",
    "print(\"Passed sanity check: expr matches stored_expr\")"
   ]
  },
  {
   "cell_type": "code",
   "execution_count": 4,
   "metadata": {},
   "outputs": [
    {
     "name": "stdout",
     "output_type": "stream",
     "text": [
      "A \\mapsto \\left\\{A \\neq \\top \\textrm{ if } A \\Rightarrow \\bot\\right..\n"
     ]
    }
   ],
   "source": [
    "# Show the LaTeX representation of the expression for convenience if you need it.\n",
    "print(expr.latex())"
   ]
  },
  {
   "cell_type": "code",
   "execution_count": 5,
   "metadata": {},
   "outputs": [
    {
     "data": {
      "text/html": [
       "<table><tr><th>&nbsp;</th><th>core type</th><th>sub-expressions</th><th>expression</th></tr>\n",
       "<tr><td>0</td><td>Lambda</td><td>parameter:&nbsp;9<br>body:&nbsp;1<br></td><td><a class=\"ProveItLink\" href=\"expr.ipynb\"><img src=\"expr.png\" style=\"display:inline;vertical-align:middle;\" /></a></td></tr>\n",
       "<tr><td>1</td><td>Conditional</td><td>value:&nbsp;2<br>condition:&nbsp;3<br></td><td><a class=\"ProveItLink\" href=\"../c58bdcd873538dbee800bd650787470bc3854a6b0/expr.ipynb\"><img src=\"../c58bdcd873538dbee800bd650787470bc3854a6b0/expr.png\" style=\"display:inline;vertical-align:middle;\" /></a></td></tr>\n",
       "<tr><td>2</td><td>Operation</td><td>operator:&nbsp;4<br>operands:&nbsp;5<br></td><td><a class=\"ProveItLink\" href=\"../e65397c0e532e0ae76581c228da170d6ec33b31b0/expr.ipynb\"><img src=\"../e65397c0e532e0ae76581c228da170d6ec33b31b0/expr.png\" style=\"display:inline;vertical-align:middle;\" /></a></td></tr>\n",
       "<tr><td>3</td><td>Operation</td><td>operator:&nbsp;6<br>operands:&nbsp;7<br></td><td><a class=\"ProveItLink\" href=\"../5e3b803459b39bd91114fd3cee1fcbb0c1f1e9b40/expr.ipynb\"><img src=\"../5e3b803459b39bd91114fd3cee1fcbb0c1f1e9b40/expr.png\" style=\"display:inline;vertical-align:middle;\" /></a></td></tr>\n",
       "<tr><td>4</td><td>Literal</td><td></td><td><a class=\"ProveItLink\" href=\"../../../../../equality/__pv_it/common/d96270bc9bb1bad54f773b1c04bfb343a739642c0/expr.ipynb\"><img src=\"../../../../../equality/__pv_it/common/d96270bc9bb1bad54f773b1c04bfb343a739642c0/expr.png\" style=\"display:inline;vertical-align:middle;\" /></a></td></tr>\n",
       "<tr><td>5</td><td>ExprTuple</td><td>9, 8</td><td><a class=\"ProveItLink\" href=\"../a9b7033e8b83e58399eaab26cc804bb9cceb05cb0/expr.ipynb\"><img src=\"../a9b7033e8b83e58399eaab26cc804bb9cceb05cb0/expr.png\" style=\"display:inline;vertical-align:middle;\" /></a></td></tr>\n",
       "<tr><td>6</td><td>Literal</td><td></td><td><a class=\"ProveItLink\" href=\"../../common/02bdb382575728da8cdbaed545b9096ea7a1bd5b0/expr.ipynb\"><img src=\"../../common/02bdb382575728da8cdbaed545b9096ea7a1bd5b0/expr.png\" style=\"display:inline;vertical-align:middle;\" /></a></td></tr>\n",
       "<tr><td>7</td><td>ExprTuple</td><td>9, 10</td><td><a class=\"ProveItLink\" href=\"../2b16c5958230979361f4f57cc47cebf24612c3400/expr.ipynb\"><img src=\"../2b16c5958230979361f4f57cc47cebf24612c3400/expr.png\" style=\"display:inline;vertical-align:middle;\" /></a></td></tr>\n",
       "<tr><td>8</td><td>Literal</td><td></td><td><a class=\"ProveItLink\" href=\"../../../../__pv_it/common/95025295868b9266d37330b4427adf122f6061770/expr.ipynb\"><img src=\"../../../../__pv_it/common/95025295868b9266d37330b4427adf122f6061770/expr.png\" style=\"display:inline;vertical-align:middle;\" /></a></td></tr>\n",
       "<tr><td>9</td><td>Variable</td><td></td><td><a class=\"ProveItLink\" href=\"../../../../../../__pv_it/common/09585084922504426caf1db2ff588a23a0932a960/expr.ipynb\"><img src=\"../../../../../../__pv_it/common/09585084922504426caf1db2ff588a23a0932a960/expr.png\" style=\"display:inline;vertical-align:middle;\" /></a></td></tr>\n",
       "<tr><td>10</td><td>Literal</td><td></td><td><a class=\"ProveItLink\" href=\"../../../../__pv_it/common/e0f123f2e4f322e1eba7f861749cda9fd9d99a120/expr.ipynb\"><img src=\"../../../../__pv_it/common/e0f123f2e4f322e1eba7f861749cda9fd9d99a120/expr.png\" style=\"display:inline;vertical-align:middle;\" /></a></td></tr>\n",
       "</table>\n"
      ],
      "text/plain": [
       "0. A -> {A != TRUE if A => FALSE.\n",
       "   core type: Lambda\n",
       "   parameter: 9\n",
       "   body: 1\n",
       "1. {A != TRUE if A => FALSE.\n",
       "   core type: Conditional\n",
       "   value: 2\n",
       "   condition: 3\n",
       "2. A != TRUE\n",
       "   core type: Operation\n",
       "   operator: 4\n",
       "   operands: 5\n",
       "3. A => FALSE\n",
       "   core type: Operation\n",
       "   operator: 6\n",
       "   operands: 7\n",
       "4. !=\n",
       "   core type: Literal\n",
       "   sub-expressions: \n",
       "5. (A, TRUE)\n",
       "   core type: ExprTuple\n",
       "   sub-expressions: 9, 8\n",
       "6. =>\n",
       "   core type: Literal\n",
       "   sub-expressions: \n",
       "7. (A, FALSE)\n",
       "   core type: ExprTuple\n",
       "   sub-expressions: 9, 10\n",
       "8. TRUE\n",
       "   core type: Literal\n",
       "   sub-expressions: \n",
       "9. A\n",
       "   core type: Variable\n",
       "   sub-expressions: \n",
       "10. FALSE\n",
       "    core type: Literal\n",
       "    sub-expressions: "
      ]
     },
     "execution_count": 5,
     "metadata": {},
     "output_type": "execute_result"
    }
   ],
   "source": [
    "# display the expression information\n",
    "expr.expr_info()"
   ]
  },
  {
   "cell_type": "code",
   "execution_count": null,
   "metadata": {},
   "outputs": [],
   "source": []
  }
 ],
 "metadata": {
  "kernelspec": {
   "display_name": "Python 3",
   "language": "python",
   "name": "python3"
  }
 },
 "nbformat": 4,
 "nbformat_minor": 0
}