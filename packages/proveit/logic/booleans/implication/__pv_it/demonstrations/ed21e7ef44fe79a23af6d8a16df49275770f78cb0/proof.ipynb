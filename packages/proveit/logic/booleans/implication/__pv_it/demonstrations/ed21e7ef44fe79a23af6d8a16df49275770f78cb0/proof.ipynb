{
 "cells": [
  {
   "cell_type": "markdown",
   "metadata": {},
   "source": [
    "Show the Proof\n",
    "========"
   ]
  },
  {
   "cell_type": "code",
   "execution_count": 1,
   "metadata": {},
   "outputs": [
    {
     "data": {
      "text/html": [
       "<table><tr><th>&nbsp;</th><th>step type</th><th>requirements</th><th>statement</th></tr>\n",
       "<tr><td><a name=\"proveit.logic.booleans.implication.demonstrations.ed21e7ef44fe79a23af6d8a16df49275770f78cb0_step0\">0</a></td><td>instantiation</td><td><a href=\"#proveit.logic.booleans.implication.demonstrations.ed21e7ef44fe79a23af6d8a16df49275770f78cb0_step1\">1</a>, <a href=\"#proveit.logic.booleans.implication.demonstrations.ed21e7ef44fe79a23af6d8a16df49275770f78cb0_step2\">2</a>, <a href=\"#proveit.logic.booleans.implication.demonstrations.ed21e7ef44fe79a23af6d8a16df49275770f78cb0_step3\">3</a></td><td><span style=\"font-size:20px;\"><a class=\"ProveItLink\" href=\"../9fb6b166895505172ae956c828809d363bcff2a30/expr.ipynb\"><img src=\"../9fb6b166895505172ae956c828809d363bcff2a30/expr.png\" style=\"display:inline;vertical-align:middle;\" /></a>, <a class=\"ProveItLink\" href=\"../db1fa03cf71e75f8db9f390d2d4f9502454804800/expr.ipynb\"><img src=\"../db1fa03cf71e75f8db9f390d2d4f9502454804800/expr.png\" style=\"display:inline;vertical-align:middle;\" /></a> <a class=\"ProveItLink\" href=\"proof.ipynb\" style=\"text-decoration: none\">&nbsp;&#x22A2;&nbsp;&nbsp;</a><a class=\"ProveItLink\" href=\"../../theorems/e95e5f69263d4c6cfbc6bb3b223a4060b72917d60/expr.ipynb\"><img src=\"../../theorems/e95e5f69263d4c6cfbc6bb3b223a4060b72917d60/expr.png\" style=\"display:inline;vertical-align:middle;\" /></a></span></td></tr>\n",
       "<tr><td>&nbsp;</td><td colspan=4 style=\"text-align:left\"><span style=\"font-size:20px;\"><a class=\"ProveItLink\" href=\"../../../../../../__pv_it/common/09585084922504426caf1db2ff588a23a0932a960/expr.ipynb\"><img src=\"../../../../../../__pv_it/common/09585084922504426caf1db2ff588a23a0932a960/expr.png\" style=\"display:inline;vertical-align:middle;\" /></a> : <a class=\"ProveItLink\" href=\"../../../../../../__pv_it/common/09585084922504426caf1db2ff588a23a0932a960/expr.ipynb\"><img src=\"../../../../../../__pv_it/common/09585084922504426caf1db2ff588a23a0932a960/expr.png\" style=\"display:inline;vertical-align:middle;\" /></a>, <a class=\"ProveItLink\" href=\"../../../../../../__pv_it/common/a9162d1c3cc0470c02e5daf414500903a7a419230/expr.ipynb\"><img src=\"../../../../../../__pv_it/common/a9162d1c3cc0470c02e5daf414500903a7a419230/expr.png\" style=\"display:inline;vertical-align:middle;\" /></a> : <a class=\"ProveItLink\" href=\"../../../../../../__pv_it/common/a9162d1c3cc0470c02e5daf414500903a7a419230/expr.ipynb\"><img src=\"../../../../../../__pv_it/common/a9162d1c3cc0470c02e5daf414500903a7a419230/expr.png\" style=\"display:inline;vertical-align:middle;\" /></a></span></td></tr><tr><td><a name=\"proveit.logic.booleans.implication.demonstrations.ed21e7ef44fe79a23af6d8a16df49275770f78cb0_step1\">1</a></td><td>theorem</td><td></td><td><span style=\"font-size:20px;\"> <a class=\"ProveItLink\" href=\"../../../_theory_nbs_/proofs/iff_intro/thm_proof.ipynb\" style=\"text-decoration: none\">&nbsp;&#x22A2;&nbsp;&nbsp;</a><a class=\"ProveItLink\" href=\"../../theorems/97c93ce3306a9d4fb93a71da92f46396f109bec30/expr.ipynb\"><img src=\"../../theorems/97c93ce3306a9d4fb93a71da92f46396f109bec30/expr.png\" style=\"display:inline;vertical-align:middle;\" /></a></span></td></tr>\n",
       "<tr><td>&nbsp;</td><td colspan=4 style-\"text-align:left\"><a class=\"ProveItLink\" href=\"../../../_theory_nbs_/proofs/iff_intro/thm_proof.ipynb\">proveit.logic.booleans.implication.iff_intro</a></td></tr><tr><td><a name=\"proveit.logic.booleans.implication.demonstrations.ed21e7ef44fe79a23af6d8a16df49275770f78cb0_step2\">2</a></td><td>assumption</td><td></td><td><span style=\"font-size:20px;\"><a class=\"ProveItLink\" href=\"../9fb6b166895505172ae956c828809d363bcff2a30/expr.ipynb\"><img src=\"../9fb6b166895505172ae956c828809d363bcff2a30/expr.png\" style=\"display:inline;vertical-align:middle;\" /></a> <a class=\"ProveItLink\" href=\"../1369dd9389d9ccca8c66adbbf8ec50666c5c9cdf0/proof.ipynb\" style=\"text-decoration: none\">&nbsp;&#x22A2;&nbsp;&nbsp;</a><a class=\"ProveItLink\" href=\"../9fb6b166895505172ae956c828809d363bcff2a30/expr.ipynb\"><img src=\"../9fb6b166895505172ae956c828809d363bcff2a30/expr.png\" style=\"display:inline;vertical-align:middle;\" /></a></span></td></tr>\n",
       "<tr><td><a name=\"proveit.logic.booleans.implication.demonstrations.ed21e7ef44fe79a23af6d8a16df49275770f78cb0_step3\">3</a></td><td>assumption</td><td></td><td><span style=\"font-size:20px;\"><a class=\"ProveItLink\" href=\"../db1fa03cf71e75f8db9f390d2d4f9502454804800/expr.ipynb\"><img src=\"../db1fa03cf71e75f8db9f390d2d4f9502454804800/expr.png\" style=\"display:inline;vertical-align:middle;\" /></a> <a class=\"ProveItLink\" href=\"../8b158e7a940f7e259a953ab0b3a0abe1de5d776c0/proof.ipynb\" style=\"text-decoration: none\">&nbsp;&#x22A2;&nbsp;&nbsp;</a><a class=\"ProveItLink\" href=\"../db1fa03cf71e75f8db9f390d2d4f9502454804800/expr.ipynb\"><img src=\"../db1fa03cf71e75f8db9f390d2d4f9502454804800/expr.png\" style=\"display:inline;vertical-align:middle;\" /></a></span></td></tr>\n",
       "</table>"
      ],
      "text/plain": [
       "<proveit._core_.proof._ShowProof at 0x7f1cf5cce4e0>"
      ]
     },
     "execution_count": 1,
     "metadata": {},
     "output_type": "execute_result"
    }
   ],
   "source": [
    "import proveit\n",
    "# Automation is not needed when only showing a stored proof:\n",
    "proveit.defaults.automation = False # This will speed things up.\n",
    "proveit.defaults.inline_pngs = False # Makes files smaller.\n",
    "%show_proof"
   ]
  },
  {
   "cell_type": "code",
   "execution_count": null,
   "metadata": {},
   "outputs": [],
   "source": []
  }
 ],
 "metadata": {
  "kernelspec": {
   "display_name": "Python 3",
   "language": "python",
   "name": "python3"
  }
 },
 "nbformat": 4,
 "nbformat_minor": 0
}