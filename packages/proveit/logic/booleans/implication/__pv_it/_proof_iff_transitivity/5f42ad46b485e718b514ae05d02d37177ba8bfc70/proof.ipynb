{
 "cells": [
  {
   "cell_type": "markdown",
   "metadata": {},
   "source": [
    "Show the Proof\n",
    "========"
   ]
  },
  {
   "cell_type": "code",
   "execution_count": 1,
   "metadata": {},
   "outputs": [
    {
     "data": {
      "text/html": [
       "<table><tr><th>&nbsp;</th><th>step type</th><th>requirements</th><th>statement</th></tr>\n",
       "<tr><td><a name=\"proveit.logic.booleans.implication._proof_iff_transitivity.5f42ad46b485e718b514ae05d02d37177ba8bfc70_step0\">0</a></td><td>modus ponens</td><td><a href=\"#proveit.logic.booleans.implication._proof_iff_transitivity.5f42ad46b485e718b514ae05d02d37177ba8bfc70_step1\">1</a>, <a href=\"#proveit.logic.booleans.implication._proof_iff_transitivity.5f42ad46b485e718b514ae05d02d37177ba8bfc70_step2\">2</a></td><td><span style=\"font-size:20px;\"><a class=\"ProveItLink\" href=\"../../theorems/e95e5f69263d4c6cfbc6bb3b223a4060b72917d60/expr.ipynb\"><img src=\"../../theorems/e95e5f69263d4c6cfbc6bb3b223a4060b72917d60/expr.png\" style=\"display:inline;vertical-align:middle;\" /></a>, <a class=\"ProveItLink\" href=\"../../theorems/7987e3ba71cde3f49bcec67cebc41366907f75100/expr.ipynb\"><img src=\"../../theorems/7987e3ba71cde3f49bcec67cebc41366907f75100/expr.png\" style=\"display:inline;vertical-align:middle;\" /></a>, <a class=\"ProveItLink\" href=\"../../../../../../__pv_it/common/09585084922504426caf1db2ff588a23a0932a960/expr.ipynb\"><img src=\"../../../../../../__pv_it/common/09585084922504426caf1db2ff588a23a0932a960/expr.png\" style=\"display:inline;vertical-align:middle;\" /></a> <a class=\"ProveItLink\" href=\"proof.ipynb\" style=\"text-decoration: none\">&nbsp;&#x22A2;&nbsp;&nbsp;</a><a class=\"ProveItLink\" href=\"../../../../../../__pv_it/common/9fba9f29e823606ff4fdf2f1c6d5d08d906e850a0/expr.ipynb\"><img src=\"../../../../../../__pv_it/common/9fba9f29e823606ff4fdf2f1c6d5d08d906e850a0/expr.png\" style=\"display:inline;vertical-align:middle;\" /></a></span></td></tr>\n",
       "<tr><td><a name=\"proveit.logic.booleans.implication._proof_iff_transitivity.5f42ad46b485e718b514ae05d02d37177ba8bfc70_step1\">1</a></td><td>instantiation</td><td><a href=\"#proveit.logic.booleans.implication._proof_iff_transitivity.5f42ad46b485e718b514ae05d02d37177ba8bfc70_step6\">6</a>, <a href=\"#proveit.logic.booleans.implication._proof_iff_transitivity.5f42ad46b485e718b514ae05d02d37177ba8bfc70_step3\">3</a></td><td><span style=\"font-size:20px;\"><a class=\"ProveItLink\" href=\"../../theorems/7987e3ba71cde3f49bcec67cebc41366907f75100/expr.ipynb\"><img src=\"../../theorems/7987e3ba71cde3f49bcec67cebc41366907f75100/expr.png\" style=\"display:inline;vertical-align:middle;\" /></a> <a class=\"ProveItLink\" href=\"../b44959cd7d7bce1629a7ad5c26dbd062ec88b7700/proof.ipynb\" style=\"text-decoration: none\">&nbsp;&#x22A2;&nbsp;&nbsp;</a><a class=\"ProveItLink\" href=\"../cd77d156b78bbf8204905245e692d2d39ed8c57e0/expr.ipynb\"><img src=\"../cd77d156b78bbf8204905245e692d2d39ed8c57e0/expr.png\" style=\"display:inline;vertical-align:middle;\" /></a></span></td></tr>\n",
       "<tr><td>&nbsp;</td><td colspan=4 style=\"text-align:left\"><span style=\"font-size:20px;\"><a class=\"ProveItLink\" href=\"../../../../../../__pv_it/common/09585084922504426caf1db2ff588a23a0932a960/expr.ipynb\"><img src=\"../../../../../../__pv_it/common/09585084922504426caf1db2ff588a23a0932a960/expr.png\" style=\"display:inline;vertical-align:middle;\" /></a> : <a class=\"ProveItLink\" href=\"../../../../../../__pv_it/common/a9162d1c3cc0470c02e5daf414500903a7a419230/expr.ipynb\"><img src=\"../../../../../../__pv_it/common/a9162d1c3cc0470c02e5daf414500903a7a419230/expr.png\" style=\"display:inline;vertical-align:middle;\" /></a>, <a class=\"ProveItLink\" href=\"../../../../../../__pv_it/common/a9162d1c3cc0470c02e5daf414500903a7a419230/expr.ipynb\"><img src=\"../../../../../../__pv_it/common/a9162d1c3cc0470c02e5daf414500903a7a419230/expr.png\" style=\"display:inline;vertical-align:middle;\" /></a> : <a class=\"ProveItLink\" href=\"../../../../../../__pv_it/common/9fba9f29e823606ff4fdf2f1c6d5d08d906e850a0/expr.ipynb\"><img src=\"../../../../../../__pv_it/common/9fba9f29e823606ff4fdf2f1c6d5d08d906e850a0/expr.png\" style=\"display:inline;vertical-align:middle;\" /></a></span></td></tr><tr><td><a name=\"proveit.logic.booleans.implication._proof_iff_transitivity.5f42ad46b485e718b514ae05d02d37177ba8bfc70_step2\">2</a></td><td>modus ponens</td><td><a href=\"#proveit.logic.booleans.implication._proof_iff_transitivity.5f42ad46b485e718b514ae05d02d37177ba8bfc70_step4\">4</a>, <a href=\"#proveit.logic.booleans.implication._proof_iff_transitivity.5f42ad46b485e718b514ae05d02d37177ba8bfc70_step5\">5</a></td><td><span style=\"font-size:20px;\"><a class=\"ProveItLink\" href=\"../../theorems/e95e5f69263d4c6cfbc6bb3b223a4060b72917d60/expr.ipynb\"><img src=\"../../theorems/e95e5f69263d4c6cfbc6bb3b223a4060b72917d60/expr.png\" style=\"display:inline;vertical-align:middle;\" /></a>, <a class=\"ProveItLink\" href=\"../../../../../../__pv_it/common/09585084922504426caf1db2ff588a23a0932a960/expr.ipynb\"><img src=\"../../../../../../__pv_it/common/09585084922504426caf1db2ff588a23a0932a960/expr.png\" style=\"display:inline;vertical-align:middle;\" /></a> <a class=\"ProveItLink\" href=\"../95c2e7bc852093fb61cc479c9c4a6e6a8858e1e50/proof.ipynb\" style=\"text-decoration: none\">&nbsp;&#x22A2;&nbsp;&nbsp;</a><a class=\"ProveItLink\" href=\"../../../../../../__pv_it/common/a9162d1c3cc0470c02e5daf414500903a7a419230/expr.ipynb\"><img src=\"../../../../../../__pv_it/common/a9162d1c3cc0470c02e5daf414500903a7a419230/expr.png\" style=\"display:inline;vertical-align:middle;\" /></a></span></td></tr>\n",
       "<tr><td><a name=\"proveit.logic.booleans.implication._proof_iff_transitivity.5f42ad46b485e718b514ae05d02d37177ba8bfc70_step3\">3</a></td><td>assumption</td><td></td><td><span style=\"font-size:20px;\"><a class=\"ProveItLink\" href=\"../../theorems/7987e3ba71cde3f49bcec67cebc41366907f75100/expr.ipynb\"><img src=\"../../theorems/7987e3ba71cde3f49bcec67cebc41366907f75100/expr.png\" style=\"display:inline;vertical-align:middle;\" /></a> <a class=\"ProveItLink\" href=\"../09ffc1fc25e87ac9f588bf781b35a214f7bd3cae0/proof.ipynb\" style=\"text-decoration: none\">&nbsp;&#x22A2;&nbsp;&nbsp;</a><a class=\"ProveItLink\" href=\"../../theorems/7987e3ba71cde3f49bcec67cebc41366907f75100/expr.ipynb\"><img src=\"../../theorems/7987e3ba71cde3f49bcec67cebc41366907f75100/expr.png\" style=\"display:inline;vertical-align:middle;\" /></a></span></td></tr>\n",
       "<tr><td><a name=\"proveit.logic.booleans.implication._proof_iff_transitivity.5f42ad46b485e718b514ae05d02d37177ba8bfc70_step4\">4</a></td><td>instantiation</td><td><a href=\"#proveit.logic.booleans.implication._proof_iff_transitivity.5f42ad46b485e718b514ae05d02d37177ba8bfc70_step6\">6</a>, <a href=\"#proveit.logic.booleans.implication._proof_iff_transitivity.5f42ad46b485e718b514ae05d02d37177ba8bfc70_step7\">7</a></td><td><span style=\"font-size:20px;\"><a class=\"ProveItLink\" href=\"../../theorems/e95e5f69263d4c6cfbc6bb3b223a4060b72917d60/expr.ipynb\"><img src=\"../../theorems/e95e5f69263d4c6cfbc6bb3b223a4060b72917d60/expr.png\" style=\"display:inline;vertical-align:middle;\" /></a> <a class=\"ProveItLink\" href=\"../8f6731efe9f98b9fc24bf63388f59e365dd949ae0/proof.ipynb\" style=\"text-decoration: none\">&nbsp;&#x22A2;&nbsp;&nbsp;</a><a class=\"ProveItLink\" href=\"../../theorems/9fb6b166895505172ae956c828809d363bcff2a30/expr.ipynb\"><img src=\"../../theorems/9fb6b166895505172ae956c828809d363bcff2a30/expr.png\" style=\"display:inline;vertical-align:middle;\" /></a></span></td></tr>\n",
       "<tr><td>&nbsp;</td><td colspan=4 style=\"text-align:left\"><span style=\"font-size:20px;\"><a class=\"ProveItLink\" href=\"../../../../../../__pv_it/common/09585084922504426caf1db2ff588a23a0932a960/expr.ipynb\"><img src=\"../../../../../../__pv_it/common/09585084922504426caf1db2ff588a23a0932a960/expr.png\" style=\"display:inline;vertical-align:middle;\" /></a> : <a class=\"ProveItLink\" href=\"../../../../../../__pv_it/common/09585084922504426caf1db2ff588a23a0932a960/expr.ipynb\"><img src=\"../../../../../../__pv_it/common/09585084922504426caf1db2ff588a23a0932a960/expr.png\" style=\"display:inline;vertical-align:middle;\" /></a>, <a class=\"ProveItLink\" href=\"../../../../../../__pv_it/common/a9162d1c3cc0470c02e5daf414500903a7a419230/expr.ipynb\"><img src=\"../../../../../../__pv_it/common/a9162d1c3cc0470c02e5daf414500903a7a419230/expr.png\" style=\"display:inline;vertical-align:middle;\" /></a> : <a class=\"ProveItLink\" href=\"../../../../../../__pv_it/common/a9162d1c3cc0470c02e5daf414500903a7a419230/expr.ipynb\"><img src=\"../../../../../../__pv_it/common/a9162d1c3cc0470c02e5daf414500903a7a419230/expr.png\" style=\"display:inline;vertical-align:middle;\" /></a></span></td></tr><tr><td><a name=\"proveit.logic.booleans.implication._proof_iff_transitivity.5f42ad46b485e718b514ae05d02d37177ba8bfc70_step5\">5</a></td><td>assumption</td><td></td><td><span style=\"font-size:20px;\"><a class=\"ProveItLink\" href=\"../../../../../../__pv_it/common/09585084922504426caf1db2ff588a23a0932a960/expr.ipynb\"><img src=\"../../../../../../__pv_it/common/09585084922504426caf1db2ff588a23a0932a960/expr.png\" style=\"display:inline;vertical-align:middle;\" /></a> <a class=\"ProveItLink\" href=\"../20b7eda420dd18b82917d5b2814aed1ac49439ac0/proof.ipynb\" style=\"text-decoration: none\">&nbsp;&#x22A2;&nbsp;&nbsp;</a><a class=\"ProveItLink\" href=\"../../../../../../__pv_it/common/09585084922504426caf1db2ff588a23a0932a960/expr.ipynb\"><img src=\"../../../../../../__pv_it/common/09585084922504426caf1db2ff588a23a0932a960/expr.png\" style=\"display:inline;vertical-align:middle;\" /></a></span></td></tr>\n",
       "<tr><td><a name=\"proveit.logic.booleans.implication._proof_iff_transitivity.5f42ad46b485e718b514ae05d02d37177ba8bfc70_step6\">6</a></td><td>theorem</td><td></td><td><span style=\"font-size:20px;\"> <a class=\"ProveItLink\" href=\"../../../_theory_nbs_/proofs/iff_implies_right/thm_proof.ipynb\" style=\"text-decoration: none\">&nbsp;&#x22A2;&nbsp;&nbsp;</a><a class=\"ProveItLink\" href=\"../../theorems/e051e9c0e004bf997384d6e7d40ca0c4ac6d9ea50/expr.ipynb\"><img src=\"../../theorems/e051e9c0e004bf997384d6e7d40ca0c4ac6d9ea50/expr.png\" style=\"display:inline;vertical-align:middle;\" /></a></span></td></tr>\n",
       "<tr><td>&nbsp;</td><td colspan=4 style-\"text-align:left\"><a class=\"ProveItLink\" href=\"../../../_theory_nbs_/proofs/iff_implies_right/thm_proof.ipynb\">proveit.logic.booleans.implication.iff_implies_right</a></td></tr><tr><td><a name=\"proveit.logic.booleans.implication._proof_iff_transitivity.5f42ad46b485e718b514ae05d02d37177ba8bfc70_step7\">7</a></td><td>assumption</td><td></td><td><span style=\"font-size:20px;\"><a class=\"ProveItLink\" href=\"../../theorems/e95e5f69263d4c6cfbc6bb3b223a4060b72917d60/expr.ipynb\"><img src=\"../../theorems/e95e5f69263d4c6cfbc6bb3b223a4060b72917d60/expr.png\" style=\"display:inline;vertical-align:middle;\" /></a> <a class=\"ProveItLink\" href=\"../869d0e76d0f18fd5c4c03bba6940fe73bfd64bbf0/proof.ipynb\" style=\"text-decoration: none\">&nbsp;&#x22A2;&nbsp;&nbsp;</a><a class=\"ProveItLink\" href=\"../../theorems/e95e5f69263d4c6cfbc6bb3b223a4060b72917d60/expr.ipynb\"><img src=\"../../theorems/e95e5f69263d4c6cfbc6bb3b223a4060b72917d60/expr.png\" style=\"display:inline;vertical-align:middle;\" /></a></span></td></tr>\n",
       "</table>"
      ],
      "text/plain": [
       "<proveit._core_.proof._ShowProof at 0x7fca202396a0>"
      ]
     },
     "execution_count": 1,
     "metadata": {},
     "output_type": "execute_result"
    }
   ],
   "source": [
    "import proveit\n",
    "# Automation is not needed when only showing a stored proof:\n",
    "proveit.defaults.automation = False # This will speed things up.\n",
    "proveit.defaults.inline_pngs = False # Makes files smaller.\n",
    "%show_proof"
   ]
  },
  {
   "cell_type": "code",
   "execution_count": null,
   "metadata": {},
   "outputs": [],
   "source": []
  }
 ],
 "metadata": {
  "kernelspec": {
   "display_name": "Python 3",
   "language": "python",
   "name": "python3"
  }
 },
 "nbformat": 4,
 "nbformat_minor": 0
}