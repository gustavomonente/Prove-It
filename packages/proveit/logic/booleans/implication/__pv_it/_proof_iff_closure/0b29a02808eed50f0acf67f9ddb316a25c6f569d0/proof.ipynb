{
 "cells": [
  {
   "cell_type": "markdown",
   "metadata": {},
   "source": [
    "Show the Proof\n",
    "========"
   ]
  },
  {
   "cell_type": "code",
   "execution_count": 1,
   "metadata": {},
   "outputs": [
    {
     "data": {
      "text/html": [
       "<table><tr><th>&nbsp;</th><th>step type</th><th>requirements</th><th>statement</th></tr>\n",
       "<tr><td><a name=\"proveit.logic.booleans.implication._proof_iff_closure.0b29a02808eed50f0acf67f9ddb316a25c6f569d0_step0\">0</a></td><td>instantiation</td><td><a href=\"#proveit.logic.booleans.implication._proof_iff_closure.0b29a02808eed50f0acf67f9ddb316a25c6f569d0_step1\">1</a>, <a href=\"#proveit.logic.booleans.implication._proof_iff_closure.0b29a02808eed50f0acf67f9ddb316a25c6f569d0_step2\">2</a>, <a href=\"#proveit.logic.booleans.implication._proof_iff_closure.0b29a02808eed50f0acf67f9ddb316a25c6f569d0_step3\">3</a></td><td><span style=\"font-size:20px;\"> <a class=\"ProveItLink\" href=\"proof.ipynb\" style=\"text-decoration: none\">&nbsp;&#x22A2;&nbsp;&nbsp;</a><a class=\"ProveItLink\" href=\"../40e0e3c27a27a94abe114ed826a8c89916d963b20/expr.ipynb\"><img src=\"../40e0e3c27a27a94abe114ed826a8c89916d963b20/expr.png\" style=\"display:inline;vertical-align:middle;\" /></a></span></td></tr>\n",
       "<tr><td>&nbsp;</td><td colspan=4 style=\"text-align:left\"><span style=\"font-size:20px;\"><a class=\"ProveItLink\" href=\"../07092d479e4e65f2c719df0d69baa704c28bb7de0/expr.ipynb\"><img src=\"../07092d479e4e65f2c719df0d69baa704c28bb7de0/expr.png\" style=\"display:inline;vertical-align:middle;\" /></a> : <a class=\"ProveItLink\" href=\"../d5d0fadd7ba9fe8fc1ea925193c4d76d33e30e8f0/expr.ipynb\"><img src=\"../d5d0fadd7ba9fe8fc1ea925193c4d76d33e30e8f0/expr.png\" style=\"display:inline;vertical-align:middle;\" /></a>, <a class=\"ProveItLink\" href=\"../../../../../../__pv_it/common/e4aad701f7f5516d8e7f0d805d518bf02c13322a0/expr.ipynb\"><img src=\"../../../../../../__pv_it/common/e4aad701f7f5516d8e7f0d805d518bf02c13322a0/expr.png\" style=\"display:inline;vertical-align:middle;\" /></a> : <a class=\"ProveItLink\" href=\"../../../../../../__pv_it/common/4eca3b30dcf58a58494e201d1b7886d8643a617b0/expr.ipynb\"><img src=\"../../../../../../__pv_it/common/4eca3b30dcf58a58494e201d1b7886d8643a617b0/expr.png\" style=\"display:inline;vertical-align:middle;\" /></a></span></td></tr><tr><td><a name=\"proveit.logic.booleans.implication._proof_iff_closure.0b29a02808eed50f0acf67f9ddb316a25c6f569d0_step1\">1</a></td><td>theorem</td><td></td><td><span style=\"font-size:20px;\"> <a class=\"ProveItLink\" href=\"../../../../_theory_nbs_/proofs/fold_forall_over_bool/thm_proof.ipynb\" style=\"text-decoration: none\">&nbsp;&#x22A2;&nbsp;&nbsp;</a><a class=\"ProveItLink\" href=\"../../../../__pv_it/theorems/6c162ab5702ef138f00210765d27995c5c0e9c840/expr.ipynb\"><img src=\"../../../../__pv_it/theorems/6c162ab5702ef138f00210765d27995c5c0e9c840/expr.png\" style=\"display:inline;vertical-align:middle;\" /></a></span></td></tr>\n",
       "<tr><td>&nbsp;</td><td colspan=4 style-\"text-align:left\"><a class=\"ProveItLink\" href=\"../../../../_theory_nbs_/proofs/fold_forall_over_bool/thm_proof.ipynb\">proveit.logic.booleans.fold_forall_over_bool</a></td></tr><tr><td><a name=\"proveit.logic.booleans.implication._proof_iff_closure.0b29a02808eed50f0acf67f9ddb316a25c6f569d0_step2\">2</a></td><td>instantiation</td><td><a href=\"#proveit.logic.booleans.implication._proof_iff_closure.0b29a02808eed50f0acf67f9ddb316a25c6f569d0_step7\">7</a>, <a href=\"#proveit.logic.booleans.implication._proof_iff_closure.0b29a02808eed50f0acf67f9ddb316a25c6f569d0_step8\">8</a>, <a href=\"#proveit.logic.booleans.implication._proof_iff_closure.0b29a02808eed50f0acf67f9ddb316a25c6f569d0_step4\">4</a></td><td><span style=\"font-size:20px;\"> <a class=\"ProveItLink\" href=\"../3f3f3bf2cb06a1ead0421d7536e3f9103c1f5ab90/proof.ipynb\" style=\"text-decoration: none\">&nbsp;&#x22A2;&nbsp;&nbsp;</a><a class=\"ProveItLink\" href=\"../aea33312c022c9d9f56df942ecac88f6323ef5ce0/expr.ipynb\"><img src=\"../aea33312c022c9d9f56df942ecac88f6323ef5ce0/expr.png\" style=\"display:inline;vertical-align:middle;\" /></a></span></td></tr>\n",
       "<tr><td>&nbsp;</td><td colspan=4 style=\"text-align:left\"><span style=\"font-size:20px;\"><a class=\"ProveItLink\" href=\"../24158abeeef499d6a6e1879eb4a1d2f5cc086ef30/expr.ipynb\"><img src=\"../24158abeeef499d6a6e1879eb4a1d2f5cc086ef30/expr.png\" style=\"display:inline;vertical-align:middle;\" /></a> : <a class=\"ProveItLink\" href=\"../71a19b5f1ace39f7d48af611db536a8ea10c20210/expr.ipynb\"><img src=\"../71a19b5f1ace39f7d48af611db536a8ea10c20210/expr.png\" style=\"display:inline;vertical-align:middle;\" /></a>, <a class=\"ProveItLink\" href=\"../../../../../../__pv_it/common/a2581dc5df71d9a30bad37de14965fa5fec97a240/expr.ipynb\"><img src=\"../../../../../../__pv_it/common/a2581dc5df71d9a30bad37de14965fa5fec97a240/expr.png\" style=\"display:inline;vertical-align:middle;\" /></a> : <a class=\"ProveItLink\" href=\"../../theorems/6f0d3e7f90049f505222beec2b50d69f4ec683950/expr.ipynb\"><img src=\"../../theorems/6f0d3e7f90049f505222beec2b50d69f4ec683950/expr.png\" style=\"display:inline;vertical-align:middle;\" /></a></span></td></tr><tr><td><a name=\"proveit.logic.booleans.implication._proof_iff_closure.0b29a02808eed50f0acf67f9ddb316a25c6f569d0_step3\">3</a></td><td>instantiation</td><td><a href=\"#proveit.logic.booleans.implication._proof_iff_closure.0b29a02808eed50f0acf67f9ddb316a25c6f569d0_step5\">5</a>, <a href=\"#proveit.logic.booleans.implication._proof_iff_closure.0b29a02808eed50f0acf67f9ddb316a25c6f569d0_step6\">6</a></td><td><span style=\"font-size:20px;\"> <a class=\"ProveItLink\" href=\"../bdc5a66591341d381171e75e664fff5112a0874b0/proof.ipynb\" style=\"text-decoration: none\">&nbsp;&#x22A2;&nbsp;&nbsp;</a><a class=\"ProveItLink\" href=\"../9fced4b53e0e7d4af1bf6dcb6e8ccd08abbbef560/expr.ipynb\"><img src=\"../9fced4b53e0e7d4af1bf6dcb6e8ccd08abbbef560/expr.png\" style=\"display:inline;vertical-align:middle;\" /></a></span></td></tr>\n",
       "<tr><td>&nbsp;</td><td colspan=4 style=\"text-align:left\"><span style=\"font-size:20px;\"><a class=\"ProveItLink\" href=\"../../../../../../__pv_it/common/e4aad701f7f5516d8e7f0d805d518bf02c13322a0/expr.ipynb\"><img src=\"../../../../../../__pv_it/common/e4aad701f7f5516d8e7f0d805d518bf02c13322a0/expr.png\" style=\"display:inline;vertical-align:middle;\" /></a> : <a class=\"ProveItLink\" href=\"../../theorems/6b0d170f4fc5d3723ecac007c4a9fd1a66920d6d0/expr.ipynb\"><img src=\"../../theorems/6b0d170f4fc5d3723ecac007c4a9fd1a66920d6d0/expr.png\" style=\"display:inline;vertical-align:middle;\" /></a></span></td></tr><tr><td><a name=\"proveit.logic.booleans.implication._proof_iff_closure.0b29a02808eed50f0acf67f9ddb316a25c6f569d0_step4\">4</a></td><td>theorem</td><td></td><td><span style=\"font-size:20px;\"> <a class=\"ProveItLink\" href=\"../../../_theory_nbs_/proofs/true_iff_true/thm_proof.ipynb\" style=\"text-decoration: none\">&nbsp;&#x22A2;&nbsp;&nbsp;</a><a class=\"ProveItLink\" href=\"../../theorems/6f0d3e7f90049f505222beec2b50d69f4ec683950/expr.ipynb\"><img src=\"../../theorems/6f0d3e7f90049f505222beec2b50d69f4ec683950/expr.png\" style=\"display:inline;vertical-align:middle;\" /></a></span></td></tr>\n",
       "<tr><td>&nbsp;</td><td colspan=4 style-\"text-align:left\"><a class=\"ProveItLink\" href=\"../../../_theory_nbs_/proofs/true_iff_true/thm_proof.ipynb\">proveit.logic.booleans.implication.true_iff_true</a></td></tr><tr><td><a name=\"proveit.logic.booleans.implication._proof_iff_closure.0b29a02808eed50f0acf67f9ddb316a25c6f569d0_step5\">5</a></td><td>axiom</td><td></td><td><span style=\"font-size:20px;\"> <a class=\"ProveItLink\" href=\"../../../../negation/_theory_nbs_/axioms.ipynb#operand_is_bool\" style=\"text-decoration: none\">&nbsp;&#x22A2;&nbsp;&nbsp;</a><a class=\"ProveItLink\" href=\"../../../../negation/__pv_it/axioms/42718709c00209f499ef5a6d602c331ac330f88b0/expr.ipynb\"><img src=\"../../../../negation/__pv_it/axioms/42718709c00209f499ef5a6d602c331ac330f88b0/expr.png\" style=\"display:inline;vertical-align:middle;\" /></a></span></td></tr>\n",
       "<tr><td>&nbsp;</td><td colspan=4 style-\"text-align:left\"><a class=\"ProveItLink\" href=\"../../../../negation/_theory_nbs_/axioms.ipynb#operand_is_bool\">proveit.logic.booleans.negation.operand_is_bool</a></td></tr><tr><td><a name=\"proveit.logic.booleans.implication._proof_iff_closure.0b29a02808eed50f0acf67f9ddb316a25c6f569d0_step6\">6</a></td><td>instantiation</td><td><a href=\"#proveit.logic.booleans.implication._proof_iff_closure.0b29a02808eed50f0acf67f9ddb316a25c6f569d0_step7\">7</a>, <a href=\"#proveit.logic.booleans.implication._proof_iff_closure.0b29a02808eed50f0acf67f9ddb316a25c6f569d0_step8\">8</a>, <a href=\"#proveit.logic.booleans.implication._proof_iff_closure.0b29a02808eed50f0acf67f9ddb316a25c6f569d0_step9\">9</a></td><td><span style=\"font-size:20px;\"> <a class=\"ProveItLink\" href=\"../da6f58954d4dc757dab69f686e68a40015e82e950/proof.ipynb\" style=\"text-decoration: none\">&nbsp;&#x22A2;&nbsp;&nbsp;</a><a class=\"ProveItLink\" href=\"../5bd8922cbfd42bc5633eb6fb54046715b398d7020/expr.ipynb\"><img src=\"../5bd8922cbfd42bc5633eb6fb54046715b398d7020/expr.png\" style=\"display:inline;vertical-align:middle;\" /></a></span></td></tr>\n",
       "<tr><td>&nbsp;</td><td colspan=4 style=\"text-align:left\"><span style=\"font-size:20px;\"><a class=\"ProveItLink\" href=\"../24158abeeef499d6a6e1879eb4a1d2f5cc086ef30/expr.ipynb\"><img src=\"../24158abeeef499d6a6e1879eb4a1d2f5cc086ef30/expr.png\" style=\"display:inline;vertical-align:middle;\" /></a> : <a class=\"ProveItLink\" href=\"../71a19b5f1ace39f7d48af611db536a8ea10c20210/expr.ipynb\"><img src=\"../71a19b5f1ace39f7d48af611db536a8ea10c20210/expr.png\" style=\"display:inline;vertical-align:middle;\" /></a>, <a class=\"ProveItLink\" href=\"../../../../../../__pv_it/common/a2581dc5df71d9a30bad37de14965fa5fec97a240/expr.ipynb\"><img src=\"../../../../../../__pv_it/common/a2581dc5df71d9a30bad37de14965fa5fec97a240/expr.png\" style=\"display:inline;vertical-align:middle;\" /></a> : <a class=\"ProveItLink\" href=\"../../theorems/e26e7117e40c5c52e42c11603a6903e4b840a7c70/expr.ipynb\"><img src=\"../../theorems/e26e7117e40c5c52e42c11603a6903e4b840a7c70/expr.png\" style=\"display:inline;vertical-align:middle;\" /></a></span></td></tr><tr><td><a name=\"proveit.logic.booleans.implication._proof_iff_closure.0b29a02808eed50f0acf67f9ddb316a25c6f569d0_step7\">7</a></td><td>theorem</td><td></td><td><span style=\"font-size:20px;\"> <a class=\"ProveItLink\" href=\"../../../../../equality/_theory_nbs_/proofs/substitute_truth/thm_proof.ipynb\" style=\"text-decoration: none\">&nbsp;&#x22A2;&nbsp;&nbsp;</a><a class=\"ProveItLink\" href=\"../../../../../equality/__pv_it/theorems/8269ff5b5f5e83d2baef9de076d0445aba99b73b0/expr.ipynb\"><img src=\"../../../../../equality/__pv_it/theorems/8269ff5b5f5e83d2baef9de076d0445aba99b73b0/expr.png\" style=\"display:inline;vertical-align:middle;\" /></a></span></td></tr>\n",
       "<tr><td>&nbsp;</td><td colspan=4 style-\"text-align:left\"><a class=\"ProveItLink\" href=\"../../../../../equality/_theory_nbs_/proofs/substitute_truth/thm_proof.ipynb\">proveit.logic.equality.substitute_truth</a></td></tr><tr><td><a name=\"proveit.logic.booleans.implication._proof_iff_closure.0b29a02808eed50f0acf67f9ddb316a25c6f569d0_step8\">8</a></td><td>theorem</td><td></td><td><span style=\"font-size:20px;\"> <a class=\"ProveItLink\" href=\"../../../../_theory_nbs_/proofs/true_is_bool/thm_proof.ipynb\" style=\"text-decoration: none\">&nbsp;&#x22A2;&nbsp;&nbsp;</a><a class=\"ProveItLink\" href=\"../../../../__pv_it/theorems/87f68fc870f4712c3feccc2c0a04f4f966bbba7e0/expr.ipynb\"><img src=\"../../../../__pv_it/theorems/87f68fc870f4712c3feccc2c0a04f4f966bbba7e0/expr.png\" style=\"display:inline;vertical-align:middle;\" /></a></span></td></tr>\n",
       "<tr><td>&nbsp;</td><td colspan=4 style-\"text-align:left\"><a class=\"ProveItLink\" href=\"../../../../_theory_nbs_/proofs/true_is_bool/thm_proof.ipynb\">proveit.logic.booleans.true_is_bool</a></td></tr><tr><td><a name=\"proveit.logic.booleans.implication._proof_iff_closure.0b29a02808eed50f0acf67f9ddb316a25c6f569d0_step9\">9</a></td><td>theorem</td><td></td><td><span style=\"font-size:20px;\"> <a class=\"ProveItLink\" href=\"../../../_theory_nbs_/proofs/true_iff_false_negated/thm_proof.ipynb\" style=\"text-decoration: none\">&nbsp;&#x22A2;&nbsp;&nbsp;</a><a class=\"ProveItLink\" href=\"../../theorems/e26e7117e40c5c52e42c11603a6903e4b840a7c70/expr.ipynb\"><img src=\"../../theorems/e26e7117e40c5c52e42c11603a6903e4b840a7c70/expr.png\" style=\"display:inline;vertical-align:middle;\" /></a></span></td></tr>\n",
       "<tr><td>&nbsp;</td><td colspan=4 style-\"text-align:left\"><a class=\"ProveItLink\" href=\"../../../_theory_nbs_/proofs/true_iff_false_negated/thm_proof.ipynb\">proveit.logic.booleans.implication.true_iff_false_negated</a></td></tr></table>"
      ],
      "text/plain": [
       "<proveit._core_.proof._ShowProof at 0x7f92f84bf710>"
      ]
     },
     "execution_count": 1,
     "metadata": {},
     "output_type": "execute_result"
    }
   ],
   "source": [
    "import proveit\n",
    "# Automation is not needed when only showing a stored proof:\n",
    "proveit.defaults.automation = False # This will speed things up.\n",
    "proveit.defaults.inline_pngs = False # Makes files smaller.\n",
    "%show_proof"
   ]
  },
  {
   "cell_type": "code",
   "execution_count": null,
   "metadata": {},
   "outputs": [],
   "source": []
  }
 ],
 "metadata": {
  "kernelspec": {
   "display_name": "Python 3",
   "language": "python",
   "name": "python3"
  },
  "language_info": {
   "codemirror_mode": {
    "name": "ipython",
    "version": 3
   },
   "file_extension": ".py",
   "mimetype": "text/x-python",
   "name": "python",
   "nbconvert_exporter": "python",
   "pygments_lexer": "ipython3",
   "version": "3.7.3"
  }
 },
 "nbformat": 4,
 "nbformat_minor": 1
}