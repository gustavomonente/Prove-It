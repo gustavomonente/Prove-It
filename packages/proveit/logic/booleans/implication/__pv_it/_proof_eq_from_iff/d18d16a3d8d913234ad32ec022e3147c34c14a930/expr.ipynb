{
 "cells": [
  {
   "cell_type": "markdown",
   "metadata": {},
   "source": [
    "Expression of type <a class=\"ProveItLink\" href=\"../../../../../../../../doc/html/api/proveit.ExprTuple.html\">ExprTuple</a>\n",
    "=======================\n",
    "# from the theory of <a class=\"ProveItLink\" href=\"../../../_theory_nbs_/theory.ipynb\">proveit.logic.booleans.implication</a>"
   ]
  },
  {
   "cell_type": "code",
   "execution_count": 1,
   "metadata": {},
   "outputs": [],
   "source": [
    "import proveit\n",
    "# Automation is not needed when building an expression:\n",
    "proveit.defaults.automation = False # This will speed things up.\n",
    "proveit.defaults.inline_pngs = False # Makes files smaller.\n",
    "%load_expr # Load the stored expression as 'stored_expr'\n",
    "# import Expression classes needed to build the expression\n",
    "from proveit import A, B, ExprTuple\n",
    "from proveit.logic import Boolean, Equals, Forall, Iff"
   ]
  },
  {
   "cell_type": "code",
   "execution_count": 2,
   "metadata": {},
   "outputs": [
    {
     "data": {
      "text/html": [
       "<strong id=\"expr\">expr:</strong> <a class=\"ProveItLink\" href=\"expr.ipynb\"><img src=\"expr.png\" style=\"display:inline;vertical-align:middle;\" /></a><br>"
      ],
      "text/plain": [
       "expr: (forall_{A in BOOLEAN} [forall_{B in BOOLEAN | A <=> B} (A = B)], forall_{A, B in BOOLEAN | A <=> B} (A = B))"
      ]
     },
     "execution_count": 2,
     "metadata": {},
     "output_type": "execute_result"
    }
   ],
   "source": [
    "# build up the expression from sub-expressions\n",
    "sub_expr1 = [Boolean]\n",
    "sub_expr2 = Equals(A, B)\n",
    "sub_expr3 = Iff(A, B)\n",
    "expr = ExprTuple(Forall([A], Forall([B], sub_expr2, domains = sub_expr1, condition = sub_expr3), domains = sub_expr1), Forall([A, B], sub_expr2, domains = [Boolean, Boolean], condition = sub_expr3))"
   ]
  },
  {
   "cell_type": "code",
   "execution_count": 3,
   "metadata": {},
   "outputs": [
    {
     "name": "stdout",
     "output_type": "stream",
     "text": [
      "Passed sanity check: expr matches stored_expr\n"
     ]
    }
   ],
   "source": [
    "# check that the built expression is the same as the stored expression\n",
    "assert expr == stored_expr\n",
    "assert expr._style_id == stored_expr._style_id\n",
    "print(\"Passed sanity check: expr matches stored_expr\")"
   ]
  },
  {
   "cell_type": "code",
   "execution_count": 4,
   "metadata": {},
   "outputs": [
    {
     "name": "stdout",
     "output_type": "stream",
     "text": [
      "\\left(\\forall_{A \\in \\mathbb{B}}~\\left[\\forall_{B \\in \\mathbb{B}~|~A \\Leftrightarrow B}~\\left(A = B\\right)\\right], \\forall_{A, B \\in \\mathbb{B}~|~A \\Leftrightarrow B}~\\left(A = B\\right)\\right)\n"
     ]
    }
   ],
   "source": [
    "# Show the LaTeX representation of the expression for convenience if you need it.\n",
    "print(expr.latex())"
   ]
  },
  {
   "cell_type": "code",
   "execution_count": 5,
   "metadata": {},
   "outputs": [
    {
     "data": {
      "text/html": [
       "<table>\n",
       "<tr><th>name</th><th>description</th><th>default</th><th>current value</th><th>related methods</th></tr><tr><td>wrap_positions</td><td>position(s) at which wrapping is to occur; 'n' is after the nth comma.</td><td>()</td><td>()</td><td>('with_wrapping_at',)</td></tr>\n",
       "<tr><td>justification</td><td>if any wrap positions are set, justify to the 'left', 'center', or 'right'</td><td>left</td><td>left</td><td>('with_justification',)</td></tr>\n",
       "</table>\n"
      ],
      "text/plain": [
       "style name: wrap_positions\n",
       "description: position(s) at which wrapping is to occur; 'n' is after the nth comma.\n",
       "default: ()\n",
       "current value: ()\n",
       "related methods: ('with_wrapping_at',)\n",
       "style name: justification\n",
       "description: if any wrap positions are set, justify to the 'left', 'center', or 'right'\n",
       "default: left\n",
       "current value: left\n",
       "related methods: ('with_justification',)"
      ]
     },
     "execution_count": 5,
     "metadata": {},
     "output_type": "execute_result"
    }
   ],
   "source": [
    "expr.style_options()"
   ]
  },
  {
   "cell_type": "code",
   "execution_count": 6,
   "metadata": {},
   "outputs": [
    {
     "data": {
      "text/html": [
       "<table><tr><th>&nbsp;</th><th>core type</th><th>sub-expressions</th><th>expression</th></tr>\n",
       "<tr><td>0</td><td>ExprTuple</td><td>1, 2</td><td><a class=\"ProveItLink\" href=\"expr.ipynb\"><img src=\"expr.png\" style=\"display:inline;vertical-align:middle;\" /></a></td></tr>\n",
       "<tr><td>1</td><td>Operation</td><td>operator:&nbsp;11<br>operand:&nbsp;5<br></td><td><a class=\"ProveItLink\" href=\"../03e96f2e5f583c7cc6c757a4ef86a21ffb219a500/expr.ipynb\"><img src=\"../03e96f2e5f583c7cc6c757a4ef86a21ffb219a500/expr.png\" style=\"display:inline;vertical-align:middle;\" /></a></td></tr>\n",
       "<tr><td>2</td><td>Operation</td><td>operator:&nbsp;11<br>operand:&nbsp;6<br></td><td><a class=\"ProveItLink\" href=\"../../theorems/0f36347affce4dfe8dd59b51976d4641241912ed0/expr.ipynb\"><img src=\"../../theorems/0f36347affce4dfe8dd59b51976d4641241912ed0/expr.png\" style=\"display:inline;vertical-align:middle;\" /></a></td></tr>\n",
       "<tr><td>3</td><td>ExprTuple</td><td>5</td><td><a class=\"ProveItLink\" href=\"../634152966e93dcb1010261834a572fbeec86a6c20/expr.ipynb\"><img src=\"../634152966e93dcb1010261834a572fbeec86a6c20/expr.png\" style=\"display:inline;vertical-align:middle;\" /></a></td></tr>\n",
       "<tr><td>4</td><td>ExprTuple</td><td>6</td><td><a class=\"ProveItLink\" href=\"../../theorems/034ba20db8bba8c6e2b2581b2f38fbc49e7f98710/expr.ipynb\"><img src=\"../../theorems/034ba20db8bba8c6e2b2581b2f38fbc49e7f98710/expr.png\" style=\"display:inline;vertical-align:middle;\" /></a></td></tr>\n",
       "<tr><td>5</td><td>Lambda</td><td>parameter:&nbsp;30<br>body:&nbsp;7<br></td><td><a class=\"ProveItLink\" href=\"../c4a74e64868717d6a2805420767d17d17be3d8370/expr.ipynb\"><img src=\"../c4a74e64868717d6a2805420767d17d17be3d8370/expr.png\" style=\"display:inline;vertical-align:middle;\" /></a></td></tr>\n",
       "<tr><td>6</td><td>Lambda</td><td>parameters:&nbsp;28<br>body:&nbsp;8<br></td><td><a class=\"ProveItLink\" href=\"../../theorems/964a0ec24367874a365beec3e8638c8ba35576530/expr.ipynb\"><img src=\"../../theorems/964a0ec24367874a365beec3e8638c8ba35576530/expr.png\" style=\"display:inline;vertical-align:middle;\" /></a></td></tr>\n",
       "<tr><td>7</td><td>Conditional</td><td>value:&nbsp;9<br>condition:&nbsp;15<br></td><td><a class=\"ProveItLink\" href=\"../ece82fbc50147200c89d3330e7bf232ddfc2a98d0/expr.ipynb\"><img src=\"../ece82fbc50147200c89d3330e7bf232ddfc2a98d0/expr.png\" style=\"display:inline;vertical-align:middle;\" /></a></td></tr>\n",
       "<tr><td>8</td><td>Conditional</td><td>value:&nbsp;18<br>condition:&nbsp;10<br></td><td><a class=\"ProveItLink\" href=\"../../theorems/9fff48bce5c76a2045ad414aedb5dcb72ef96ca10/expr.ipynb\"><img src=\"../../theorems/9fff48bce5c76a2045ad414aedb5dcb72ef96ca10/expr.png\" style=\"display:inline;vertical-align:middle;\" /></a></td></tr>\n",
       "<tr><td>9</td><td>Operation</td><td>operator:&nbsp;11<br>operand:&nbsp;14<br></td><td><a class=\"ProveItLink\" href=\"../50c71952e61b488c30465df03b806e54ac6b0a6c0/expr.ipynb\"><img src=\"../50c71952e61b488c30465df03b806e54ac6b0a6c0/expr.png\" style=\"display:inline;vertical-align:middle;\" /></a></td></tr>\n",
       "<tr><td>10</td><td>Operation</td><td>operator:&nbsp;21<br>operands:&nbsp;13<br></td><td><a class=\"ProveItLink\" href=\"../../theorems/123adbb1948a6f8fb7d52f2b9a2b9834d5e182a20/expr.ipynb\"><img src=\"../../theorems/123adbb1948a6f8fb7d52f2b9a2b9834d5e182a20/expr.png\" style=\"display:inline;vertical-align:middle;\" /></a></td></tr>\n",
       "<tr><td>11</td><td>Literal</td><td></td><td><a class=\"ProveItLink\" href=\"../../../../quantification/universality/__pv_it/common/684d35ba98fcbf8ca5011f865e530a51e77730630/expr.ipynb\"><img src=\"../../../../quantification/universality/__pv_it/common/684d35ba98fcbf8ca5011f865e530a51e77730630/expr.png\" style=\"display:inline;vertical-align:middle;\" /></a></td></tr>\n",
       "<tr><td>12</td><td>ExprTuple</td><td>14</td><td><a class=\"ProveItLink\" href=\"../1c7c49a6e6954e2fc94a3969724d79f533c3d47b0/expr.ipynb\"><img src=\"../1c7c49a6e6954e2fc94a3969724d79f533c3d47b0/expr.png\" style=\"display:inline;vertical-align:middle;\" /></a></td></tr>\n",
       "<tr><td>13</td><td>ExprTuple</td><td>15, 23, 24</td><td><a class=\"ProveItLink\" href=\"../../theorems/a809159ced6e9a6f2ae266ed2504e1fbc0fb058a0/expr.ipynb\"><img src=\"../../theorems/a809159ced6e9a6f2ae266ed2504e1fbc0fb058a0/expr.png\" style=\"display:inline;vertical-align:middle;\" /></a></td></tr>\n",
       "<tr><td>14</td><td>Lambda</td><td>parameter:&nbsp;31<br>body:&nbsp;16<br></td><td><a class=\"ProveItLink\" href=\"../1a6c5f1b20ac30576c49c9d35ac2a9a2d902be420/expr.ipynb\"><img src=\"../1a6c5f1b20ac30576c49c9d35ac2a9a2d902be420/expr.png\" style=\"display:inline;vertical-align:middle;\" /></a></td></tr>\n",
       "<tr><td>15</td><td>Operation</td><td>operator:&nbsp;25<br>operands:&nbsp;17<br></td><td><a class=\"ProveItLink\" href=\"../../theorems/7cfa8b9c477c340a2bec05787809c87a088f07ac0/expr.ipynb\"><img src=\"../../theorems/7cfa8b9c477c340a2bec05787809c87a088f07ac0/expr.png\" style=\"display:inline;vertical-align:middle;\" /></a></td></tr>\n",
       "<tr><td>16</td><td>Conditional</td><td>value:&nbsp;18<br>condition:&nbsp;19<br></td><td><a class=\"ProveItLink\" href=\"../895dd203d87df12fe70337da34eee1bd616d855d0/expr.ipynb\"><img src=\"../895dd203d87df12fe70337da34eee1bd616d855d0/expr.png\" style=\"display:inline;vertical-align:middle;\" /></a></td></tr>\n",
       "<tr><td>17</td><td>ExprTuple</td><td>30, 29</td><td><a class=\"ProveItLink\" href=\"../../theorems/5b8642875a5af086e135f91f5fe6a0b1d15f8cb50/expr.ipynb\"><img src=\"../../theorems/5b8642875a5af086e135f91f5fe6a0b1d15f8cb50/expr.png\" style=\"display:inline;vertical-align:middle;\" /></a></td></tr>\n",
       "<tr><td>18</td><td>Operation</td><td>operator:&nbsp;20<br>operands:&nbsp;28<br></td><td><a class=\"ProveItLink\" href=\"../../theorems/c6f9d5d48817f3e7e5766e05e6fe4282a4aef82f0/expr.ipynb\"><img src=\"../../theorems/c6f9d5d48817f3e7e5766e05e6fe4282a4aef82f0/expr.png\" style=\"display:inline;vertical-align:middle;\" /></a></td></tr>\n",
       "<tr><td>19</td><td>Operation</td><td>operator:&nbsp;21<br>operands:&nbsp;22<br></td><td><a class=\"ProveItLink\" href=\"../9b2cc0fe57348f4b5661fc5ee76e111fdb86e74c0/expr.ipynb\"><img src=\"../9b2cc0fe57348f4b5661fc5ee76e111fdb86e74c0/expr.png\" style=\"display:inline;vertical-align:middle;\" /></a></td></tr>\n",
       "<tr><td>20</td><td>Literal</td><td></td><td><a class=\"ProveItLink\" href=\"../../../../../equality/__pv_it/common/731dd3955b346c1320ed5c0ba7a618bcda61457d0/expr.ipynb\"><img src=\"../../../../../equality/__pv_it/common/731dd3955b346c1320ed5c0ba7a618bcda61457d0/expr.png\" style=\"display:inline;vertical-align:middle;\" /></a></td></tr>\n",
       "<tr><td>21</td><td>Literal</td><td></td><td><a class=\"ProveItLink\" href=\"../../../../conjunction/__pv_it/common/26b94b53e70b1d77b70f0d9d4236347db37731060/expr.ipynb\"><img src=\"../../../../conjunction/__pv_it/common/26b94b53e70b1d77b70f0d9d4236347db37731060/expr.png\" style=\"display:inline;vertical-align:middle;\" /></a></td></tr>\n",
       "<tr><td>22</td><td>ExprTuple</td><td>23, 24</td><td><a class=\"ProveItLink\" href=\"../4cfbfb8d7cbc225741756e683955b9b9bde4d4800/expr.ipynb\"><img src=\"../4cfbfb8d7cbc225741756e683955b9b9bde4d4800/expr.png\" style=\"display:inline;vertical-align:middle;\" /></a></td></tr>\n",
       "<tr><td>23</td><td>Operation</td><td>operator:&nbsp;25<br>operands:&nbsp;26<br></td><td><a class=\"ProveItLink\" href=\"../../theorems/67501eb487d67b93f0ec3f6965561f782e470d670/expr.ipynb\"><img src=\"../../theorems/67501eb487d67b93f0ec3f6965561f782e470d670/expr.png\" style=\"display:inline;vertical-align:middle;\" /></a></td></tr>\n",
       "<tr><td>24</td><td>Operation</td><td>operator:&nbsp;27<br>operands:&nbsp;28<br></td><td><a class=\"ProveItLink\" href=\"../../theorems/2e02c5a3dad31302913d2a645233fb27159763fc0/expr.ipynb\"><img src=\"../../theorems/2e02c5a3dad31302913d2a645233fb27159763fc0/expr.png\" style=\"display:inline;vertical-align:middle;\" /></a></td></tr>\n",
       "<tr><td>25</td><td>Literal</td><td></td><td><a class=\"ProveItLink\" href=\"../../../../../sets/membership/__pv_it/common/7171deca84f71f47a6ec7696972d1632274a12880/expr.ipynb\"><img src=\"../../../../../sets/membership/__pv_it/common/7171deca84f71f47a6ec7696972d1632274a12880/expr.png\" style=\"display:inline;vertical-align:middle;\" /></a></td></tr>\n",
       "<tr><td>26</td><td>ExprTuple</td><td>31, 29</td><td><a class=\"ProveItLink\" href=\"../../theorems/b464bb5e9f3209bc967a4021ab40c71e0755ea4e0/expr.ipynb\"><img src=\"../../theorems/b464bb5e9f3209bc967a4021ab40c71e0755ea4e0/expr.png\" style=\"display:inline;vertical-align:middle;\" /></a></td></tr>\n",
       "<tr><td>27</td><td>Literal</td><td></td><td><a class=\"ProveItLink\" href=\"../../common/274d5b2833791537ab9e3cf14842ad1ff6590b920/expr.ipynb\"><img src=\"../../common/274d5b2833791537ab9e3cf14842ad1ff6590b920/expr.png\" style=\"display:inline;vertical-align:middle;\" /></a></td></tr>\n",
       "<tr><td>28</td><td>ExprTuple</td><td>30, 31</td><td><a class=\"ProveItLink\" href=\"../../theorems/7aa24190517d6a40e915c207672cefb0d36c3b690/expr.ipynb\"><img src=\"../../theorems/7aa24190517d6a40e915c207672cefb0d36c3b690/expr.png\" style=\"display:inline;vertical-align:middle;\" /></a></td></tr>\n",
       "<tr><td>29</td><td>Literal</td><td></td><td><a class=\"ProveItLink\" href=\"../../../../__pv_it/common/8fc291135425020cce4ba1ad615843f54f1fc6600/expr.ipynb\"><img src=\"../../../../__pv_it/common/8fc291135425020cce4ba1ad615843f54f1fc6600/expr.png\" style=\"display:inline;vertical-align:middle;\" /></a></td></tr>\n",
       "<tr><td>30</td><td>Variable</td><td></td><td><a class=\"ProveItLink\" href=\"../../../../../../__pv_it/common/e4aad701f7f5516d8e7f0d805d518bf02c13322a0/expr.ipynb\"><img src=\"../../../../../../__pv_it/common/e4aad701f7f5516d8e7f0d805d518bf02c13322a0/expr.png\" style=\"display:inline;vertical-align:middle;\" /></a></td></tr>\n",
       "<tr><td>31</td><td>Variable</td><td></td><td><a class=\"ProveItLink\" href=\"../../../../../../__pv_it/common/4eca3b30dcf58a58494e201d1b7886d8643a617b0/expr.ipynb\"><img src=\"../../../../../../__pv_it/common/4eca3b30dcf58a58494e201d1b7886d8643a617b0/expr.png\" style=\"display:inline;vertical-align:middle;\" /></a></td></tr>\n",
       "</table>\n"
      ],
      "text/plain": [
       "0. (forall_{A in BOOLEAN} [forall_{B in BOOLEAN | A <=> B} (A = B)], forall_{A, B in BOOLEAN | A <=> B} (A = B))\n",
       "   core type: ExprTuple\n",
       "   sub-expressions: 1, 2\n",
       "1. forall_{A in BOOLEAN} [forall_{B in BOOLEAN | A <=> B} (A = B)]\n",
       "   core type: Operation\n",
       "   operator: 11\n",
       "   operand: 5\n",
       "2. forall_{A, B in BOOLEAN | A <=> B} (A = B)\n",
       "   core type: Operation\n",
       "   operator: 11\n",
       "   operand: 6\n",
       "3. (A -> {forall_{B in BOOLEAN | A <=> B} (A = B) if A in BOOLEAN.)\n",
       "   core type: ExprTuple\n",
       "   sub-expressions: 5\n",
       "4. ((A, B) -> {A = B if A in BOOLEAN ,  B in BOOLEAN ,  A <=> B.)\n",
       "   core type: ExprTuple\n",
       "   sub-expressions: 6\n",
       "5. A -> {forall_{B in BOOLEAN | A <=> B} (A = B) if A in BOOLEAN.\n",
       "   core type: Lambda\n",
       "   parameter: 30\n",
       "   body: 7\n",
       "6. (A, B) -> {A = B if A in BOOLEAN ,  B in BOOLEAN ,  A <=> B.\n",
       "   core type: Lambda\n",
       "   parameters: 28\\n   body: 8\n",
       "7. {forall_{B in BOOLEAN | A <=> B} (A = B) if A in BOOLEAN.\n",
       "   core type: Conditional\n",
       "   value: 9\n",
       "   condition: 15\n",
       "8. {A = B if A in BOOLEAN ,  B in BOOLEAN ,  A <=> B.\n",
       "   core type: Conditional\n",
       "   value: 18\n",
       "   condition: 10\n",
       "9. forall_{B in BOOLEAN | A <=> B} (A = B)\n",
       "   core type: Operation\n",
       "   operator: 11\n",
       "   operand: 14\n",
       "10. (A in BOOLEAN) and (B in BOOLEAN) and (A <=> B)\n",
       "    core type: Operation\n",
       "    operator: 21\n",
       "    operands: 13\n",
       "11. forall\n",
       "    core type: Literal\n",
       "    sub-expressions: \n",
       "12. (B -> {A = B if B in BOOLEAN ,  A <=> B.)\n",
       "    core type: ExprTuple\n",
       "    sub-expressions: 14\n",
       "13. (A in BOOLEAN, B in BOOLEAN, A <=> B)\n",
       "    core type: ExprTuple\n",
       "    sub-expressions: 15, 23, 24\n",
       "14. B -> {A = B if B in BOOLEAN ,  A <=> B.\n",
       "    core type: Lambda\n",
       "    parameter: 31\n",
       "    body: 16\n",
       "15. A in BOOLEAN\n",
       "    core type: Operation\n",
       "    operator: 25\n",
       "    operands: 17\n",
       "16. {A = B if B in BOOLEAN ,  A <=> B.\n",
       "    core type: Conditional\n",
       "    value: 18\n",
       "    condition: 19\n",
       "17. (A, BOOLEAN)\n",
       "    core type: ExprTuple\n",
       "    sub-expressions: 30, 29\n",
       "18. A = B\n",
       "    core type: Operation\n",
       "    operator: 20\n",
       "    operands: 28\n",
       "19. (B in BOOLEAN) and (A <=> B)\n",
       "    core type: Operation\n",
       "    operator: 21\n",
       "    operands: 22\n",
       "20. =\n",
       "    core type: Literal\n",
       "    sub-expressions: \n",
       "21. and\n",
       "    core type: Literal\n",
       "    sub-expressions: \n",
       "22. (B in BOOLEAN, A <=> B)\n",
       "    core type: ExprTuple\n",
       "    sub-expressions: 23, 24\n",
       "23. B in BOOLEAN\n",
       "    core type: Operation\n",
       "    operator: 25\n",
       "    operands: 26\n",
       "24. A <=> B\n",
       "    core type: Operation\n",
       "    operator: 27\n",
       "    operands: 28\n",
       "25. in\n",
       "    core type: Literal\n",
       "    sub-expressions: \n",
       "26. (B, BOOLEAN)\n",
       "    core type: ExprTuple\n",
       "    sub-expressions: 31, 29\n",
       "27. <=>\n",
       "    core type: Literal\n",
       "    sub-expressions: \n",
       "28. (A, B)\n",
       "    core type: ExprTuple\n",
       "    sub-expressions: 30, 31\n",
       "29. BOOLEAN\n",
       "    core type: Literal\n",
       "    sub-expressions: \n",
       "30. A\n",
       "    core type: Variable\n",
       "    sub-expressions: \n",
       "31. B\n",
       "    core type: Variable\n",
       "    sub-expressions: "
      ]
     },
     "execution_count": 6,
     "metadata": {},
     "output_type": "execute_result"
    }
   ],
   "source": [
    "# display the expression information\n",
    "expr.expr_info()"
   ]
  },
  {
   "cell_type": "code",
   "execution_count": null,
   "metadata": {},
   "outputs": [],
   "source": []
  }
 ],
 "metadata": {
  "kernelspec": {
   "display_name": "Python 3",
   "language": "python",
   "name": "python3"
  }
 },
 "nbformat": 4,
 "nbformat_minor": 0
}