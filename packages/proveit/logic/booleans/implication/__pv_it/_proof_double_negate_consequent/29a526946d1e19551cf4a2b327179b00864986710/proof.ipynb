{
 "cells": [
  {
   "cell_type": "markdown",
   "metadata": {},
   "source": [
    "Show the Proof\n",
    "========"
   ]
  },
  {
   "cell_type": "code",
   "execution_count": 1,
   "metadata": {},
   "outputs": [
    {
     "data": {
      "text/html": [
       "<table><tr><th>&nbsp;</th><th>step type</th><th>requirements</th><th>statement</th></tr>\n",
       "<tr><td><a name=\"proveit.logic.booleans.implication._proof_double_negate_consequent.29a526946d1e19551cf4a2b327179b00864986710_step0\">0</a></td><td>generalizaton</td><td><a href=\"#proveit.logic.booleans.implication._proof_double_negate_consequent.29a526946d1e19551cf4a2b327179b00864986710_step1\">1</a></td><td><span style=\"font-size:20px;\"> <a class=\"ProveItLink\" href=\"proof.ipynb\" style=\"text-decoration: none\">&nbsp;&#x22A2;&nbsp;&nbsp;</a><a class=\"ProveItLink\" href=\"../../theorems/4148deaf41e3ddab21f3109a84d9435bca6958df0/expr.ipynb\"><img src=\"../../theorems/4148deaf41e3ddab21f3109a84d9435bca6958df0/expr.png\" style=\"display:inline;vertical-align:middle;\" /></a></span></td></tr>\n",
       "<tr><td><a name=\"proveit.logic.booleans.implication._proof_double_negate_consequent.29a526946d1e19551cf4a2b327179b00864986710_step1\">1</a></td><td>deduction</td><td><a href=\"#proveit.logic.booleans.implication._proof_double_negate_consequent.29a526946d1e19551cf4a2b327179b00864986710_step2\">2</a></td><td><span style=\"font-size:20px;\"><a class=\"ProveItLink\" href=\"../../theorems/9fb6b166895505172ae956c828809d363bcff2a30/expr.ipynb\"><img src=\"../../theorems/9fb6b166895505172ae956c828809d363bcff2a30/expr.png\" style=\"display:inline;vertical-align:middle;\" /></a> <a class=\"ProveItLink\" href=\"../90275540cb2ab19c1b0d4dc8bcf756436aa0b7250/proof.ipynb\" style=\"text-decoration: none\">&nbsp;&#x22A2;&nbsp;&nbsp;</a><a class=\"ProveItLink\" href=\"../../theorems/7af7c0bd9738ad71f4c8f8db423aa9180118d5160/expr.ipynb\"><img src=\"../../theorems/7af7c0bd9738ad71f4c8f8db423aa9180118d5160/expr.png\" style=\"display:inline;vertical-align:middle;\" /></a></span></td></tr>\n",
       "<tr><td><a name=\"proveit.logic.booleans.implication._proof_double_negate_consequent.29a526946d1e19551cf4a2b327179b00864986710_step2\">2</a></td><td>instantiation</td><td><a href=\"#proveit.logic.booleans.implication._proof_double_negate_consequent.29a526946d1e19551cf4a2b327179b00864986710_step3\">3</a>, <a href=\"#proveit.logic.booleans.implication._proof_double_negate_consequent.29a526946d1e19551cf4a2b327179b00864986710_step4\">4</a></td><td><span style=\"font-size:20px;\"><a class=\"ProveItLink\" href=\"../../theorems/9fb6b166895505172ae956c828809d363bcff2a30/expr.ipynb\"><img src=\"../../theorems/9fb6b166895505172ae956c828809d363bcff2a30/expr.png\" style=\"display:inline;vertical-align:middle;\" /></a>, <a class=\"ProveItLink\" href=\"../../../../../../__pv_it/common/09585084922504426caf1db2ff588a23a0932a960/expr.ipynb\"><img src=\"../../../../../../__pv_it/common/09585084922504426caf1db2ff588a23a0932a960/expr.png\" style=\"display:inline;vertical-align:middle;\" /></a> <a class=\"ProveItLink\" href=\"../1ca364a66a55b6d7d875e01d32715d6b2e8bf50f0/proof.ipynb\" style=\"text-decoration: none\">&nbsp;&#x22A2;&nbsp;&nbsp;</a><a class=\"ProveItLink\" href=\"../../theorems/e9d959f0f2fb30db513f1cc4e371ce1efc9e55770/expr.ipynb\"><img src=\"../../theorems/e9d959f0f2fb30db513f1cc4e371ce1efc9e55770/expr.png\" style=\"display:inline;vertical-align:middle;\" /></a></span></td></tr>\n",
       "<tr><td>&nbsp;</td><td colspan=4 style=\"text-align:left\"><span style=\"font-size:20px;\"><a class=\"ProveItLink\" href=\"../../../../../../__pv_it/common/09585084922504426caf1db2ff588a23a0932a960/expr.ipynb\"><img src=\"../../../../../../__pv_it/common/09585084922504426caf1db2ff588a23a0932a960/expr.png\" style=\"display:inline;vertical-align:middle;\" /></a> : <a class=\"ProveItLink\" href=\"../../../../../../__pv_it/common/a9162d1c3cc0470c02e5daf414500903a7a419230/expr.ipynb\"><img src=\"../../../../../../__pv_it/common/a9162d1c3cc0470c02e5daf414500903a7a419230/expr.png\" style=\"display:inline;vertical-align:middle;\" /></a></span></td></tr><tr><td><a name=\"proveit.logic.booleans.implication._proof_double_negate_consequent.29a526946d1e19551cf4a2b327179b00864986710_step3\">3</a></td><td>theorem</td><td></td><td><span style=\"font-size:20px;\"> <a class=\"ProveItLink\" href=\"../../../../negation/_theory_nbs_/proofs/double_negation_intro/thm_proof.ipynb\" style=\"text-decoration: none\">&nbsp;&#x22A2;&nbsp;&nbsp;</a><a class=\"ProveItLink\" href=\"../../../../negation/__pv_it/theorems/c94a77911043cbe174bcbb048b9fc2a093d6e3650/expr.ipynb\"><img src=\"../../../../negation/__pv_it/theorems/c94a77911043cbe174bcbb048b9fc2a093d6e3650/expr.png\" style=\"display:inline;vertical-align:middle;\" /></a></span></td></tr>\n",
       "<tr><td>&nbsp;</td><td colspan=4 style-\"text-align:left\"><a class=\"ProveItLink\" href=\"../../../../negation/_theory_nbs_/proofs/double_negation_intro/thm_proof.ipynb\">proveit.logic.booleans.negation.double_negation_intro</a></td></tr><tr><td><a name=\"proveit.logic.booleans.implication._proof_double_negate_consequent.29a526946d1e19551cf4a2b327179b00864986710_step4\">4</a></td><td>modus ponens</td><td><a href=\"#proveit.logic.booleans.implication._proof_double_negate_consequent.29a526946d1e19551cf4a2b327179b00864986710_step5\">5</a>, <a href=\"#proveit.logic.booleans.implication._proof_double_negate_consequent.29a526946d1e19551cf4a2b327179b00864986710_step6\">6</a></td><td><span style=\"font-size:20px;\"><a class=\"ProveItLink\" href=\"../../theorems/9fb6b166895505172ae956c828809d363bcff2a30/expr.ipynb\"><img src=\"../../theorems/9fb6b166895505172ae956c828809d363bcff2a30/expr.png\" style=\"display:inline;vertical-align:middle;\" /></a>, <a class=\"ProveItLink\" href=\"../../../../../../__pv_it/common/09585084922504426caf1db2ff588a23a0932a960/expr.ipynb\"><img src=\"../../../../../../__pv_it/common/09585084922504426caf1db2ff588a23a0932a960/expr.png\" style=\"display:inline;vertical-align:middle;\" /></a> <a class=\"ProveItLink\" href=\"../199b9470656d1b2bac23461b2ac0a4bee4beb2740/proof.ipynb\" style=\"text-decoration: none\">&nbsp;&#x22A2;&nbsp;&nbsp;</a><a class=\"ProveItLink\" href=\"../../../../../../__pv_it/common/a9162d1c3cc0470c02e5daf414500903a7a419230/expr.ipynb\"><img src=\"../../../../../../__pv_it/common/a9162d1c3cc0470c02e5daf414500903a7a419230/expr.png\" style=\"display:inline;vertical-align:middle;\" /></a></span></td></tr>\n",
       "<tr><td><a name=\"proveit.logic.booleans.implication._proof_double_negate_consequent.29a526946d1e19551cf4a2b327179b00864986710_step5\">5</a></td><td>assumption</td><td></td><td><span style=\"font-size:20px;\"><a class=\"ProveItLink\" href=\"../../theorems/9fb6b166895505172ae956c828809d363bcff2a30/expr.ipynb\"><img src=\"../../theorems/9fb6b166895505172ae956c828809d363bcff2a30/expr.png\" style=\"display:inline;vertical-align:middle;\" /></a> <a class=\"ProveItLink\" href=\"../24e26736c997fd232f80f40599df347b2e5042840/proof.ipynb\" style=\"text-decoration: none\">&nbsp;&#x22A2;&nbsp;&nbsp;</a><a class=\"ProveItLink\" href=\"../../theorems/9fb6b166895505172ae956c828809d363bcff2a30/expr.ipynb\"><img src=\"../../theorems/9fb6b166895505172ae956c828809d363bcff2a30/expr.png\" style=\"display:inline;vertical-align:middle;\" /></a></span></td></tr>\n",
       "<tr><td><a name=\"proveit.logic.booleans.implication._proof_double_negate_consequent.29a526946d1e19551cf4a2b327179b00864986710_step6\">6</a></td><td>assumption</td><td></td><td><span style=\"font-size:20px;\"><a class=\"ProveItLink\" href=\"../../../../../../__pv_it/common/09585084922504426caf1db2ff588a23a0932a960/expr.ipynb\"><img src=\"../../../../../../__pv_it/common/09585084922504426caf1db2ff588a23a0932a960/expr.png\" style=\"display:inline;vertical-align:middle;\" /></a> <a class=\"ProveItLink\" href=\"../20b7eda420dd18b82917d5b2814aed1ac49439ac0/proof.ipynb\" style=\"text-decoration: none\">&nbsp;&#x22A2;&nbsp;&nbsp;</a><a class=\"ProveItLink\" href=\"../../../../../../__pv_it/common/09585084922504426caf1db2ff588a23a0932a960/expr.ipynb\"><img src=\"../../../../../../__pv_it/common/09585084922504426caf1db2ff588a23a0932a960/expr.png\" style=\"display:inline;vertical-align:middle;\" /></a></span></td></tr>\n",
       "</table>"
      ],
      "text/plain": [
       "<proveit._core_.proof._ShowProof at 0x7f023779e7b8>"
      ]
     },
     "execution_count": 1,
     "metadata": {},
     "output_type": "execute_result"
    }
   ],
   "source": [
    "import proveit\n",
    "# Automation is not needed when only showing a stored proof:\n",
    "proveit.defaults.automation = False # This will speed things up.\n",
    "proveit.defaults.inline_pngs = False # Makes files smaller.\n",
    "%show_proof"
   ]
  },
  {
   "cell_type": "code",
   "execution_count": null,
   "metadata": {},
   "outputs": [],
   "source": []
  }
 ],
 "metadata": {
  "kernelspec": {
   "display_name": "Python 3",
   "language": "python",
   "name": "python3"
  }
 },
 "nbformat": 4,
 "nbformat_minor": 0
}