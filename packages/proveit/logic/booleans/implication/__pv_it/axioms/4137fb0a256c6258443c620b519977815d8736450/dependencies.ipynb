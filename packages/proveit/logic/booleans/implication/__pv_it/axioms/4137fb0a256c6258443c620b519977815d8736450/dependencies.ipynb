{
 "cells": [
  {
   "cell_type": "markdown",
   "metadata": {},
   "source": [
    "Axiom Dependencies\n",
    "=======================\n",
    "\n",
    "## <a class=\"ProveItLink\" href=\"../../../_theory_nbs_/theory.ipynb\">proveit.logic.booleans.implication</a>.<a class=\"ProveItLink\" href=\"../../../_axioms_.ipynb#iff_def\">iff_def</a> \n"
   ]
  },
  {
   "cell_type": "code",
   "execution_count": 1,
   "metadata": {},
   "outputs": [],
   "source": [
    "import proveit\n",
    "# Automation is not needed when querying dependencies:\n",
    "proveit.defaults.automation = False # This will speed things up.\n",
    "proveit.defaults.inline_pngs = False # Makes files smaller.\n",
    "from proveit.logic.booleans.implication import iff_def"
   ]
  },
  {
   "cell_type": "code",
   "execution_count": 2,
   "metadata": {},
   "outputs": [
    {
     "data": {
      "text/html": [
       "<h3>Theorems/conjectures that depend directly on iff_def</h3>"
      ],
      "text/plain": [
       "<IPython.core.display.HTML object>"
      ]
     },
     "metadata": {},
     "output_type": "display_data"
    },
    {
     "data": {
      "text/html": [
       "<dl>"
      ],
      "text/plain": [
       "<IPython.core.display.HTML object>"
      ]
     },
     "metadata": {},
     "output_type": "display_data"
    },
    {
     "data": {
      "text/html": [
       "<dt><a class=\"ProveItLink\" href=\"../../../_theory_nbs_/proofs/iff_implies_left/thm_proof.ipynb\">proveit.logic.booleans.implication.iff_implies_left</a></dt><dd><a class=\"ProveItLink\" href=\"../../theorems/a57045ae6d28ec77fd3f1109f3cbf16c9a043e410/expr.ipynb\"><img src=\"../../theorems/a57045ae6d28ec77fd3f1109f3cbf16c9a043e410/expr.png\" style=\"display:inline;vertical-align:middle;\" /></a></dd>"
      ],
      "text/plain": [
       "<IPython.core.display.HTML object>"
      ]
     },
     "metadata": {},
     "output_type": "display_data"
    },
    {
     "data": {
      "text/html": [
       "<dt><a class=\"ProveItLink\" href=\"../../../_theory_nbs_/proofs/iff_implies_right/thm_proof.ipynb\">proveit.logic.booleans.implication.iff_implies_right</a></dt><dd><a class=\"ProveItLink\" href=\"../../theorems/731ad1db3bfde4b0e9a3f9063d4e62eb294723580/expr.ipynb\"><img src=\"../../theorems/731ad1db3bfde4b0e9a3f9063d4e62eb294723580/expr.png\" style=\"display:inline;vertical-align:middle;\" /></a></dd>"
      ],
      "text/plain": [
       "<IPython.core.display.HTML object>"
      ]
     },
     "metadata": {},
     "output_type": "display_data"
    },
    {
     "data": {
      "text/html": [
       "<dt><a class=\"ProveItLink\" href=\"../../../_theory_nbs_/proofs/iff_intro/thm_proof.ipynb\">proveit.logic.booleans.implication.iff_intro</a></dt><dd><a class=\"ProveItLink\" href=\"../../theorems/bb73ee92a0fd8f636e5c503e29bfb3d3a9fbb06d0/expr.ipynb\"><img src=\"../../theorems/bb73ee92a0fd8f636e5c503e29bfb3d3a9fbb06d0/expr.png\" style=\"display:inline;vertical-align:middle;\" /></a></dd>"
      ],
      "text/plain": [
       "<IPython.core.display.HTML object>"
      ]
     },
     "metadata": {},
     "output_type": "display_data"
    },
    {
     "data": {
      "text/html": [
       "<dt><a class=\"ProveItLink\" href=\"../../../_theory_nbs_/proofs/not_iff_via_not_left_impl/thm_proof.ipynb\">proveit.logic.booleans.implication.not_iff_via_not_left_impl</a></dt><dd><a class=\"ProveItLink\" href=\"../../theorems/0b3f3a64bb54d5756227e834e0f44128d0b029600/expr.ipynb\"><img src=\"../../theorems/0b3f3a64bb54d5756227e834e0f44128d0b029600/expr.png\" style=\"display:inline;vertical-align:middle;\" /></a></dd>"
      ],
      "text/plain": [
       "<IPython.core.display.HTML object>"
      ]
     },
     "metadata": {},
     "output_type": "display_data"
    },
    {
     "data": {
      "text/html": [
       "<dt><a class=\"ProveItLink\" href=\"../../../_theory_nbs_/proofs/not_iff_via_not_right_impl/thm_proof.ipynb\">proveit.logic.booleans.implication.not_iff_via_not_right_impl</a></dt><dd><a class=\"ProveItLink\" href=\"../../theorems/c181e1e0d289b3b90b9526dd78c60667d26ef9160/expr.ipynb\"><img src=\"../../theorems/c181e1e0d289b3b90b9526dd78c60667d26ef9160/expr.png\" style=\"display:inline;vertical-align:middle;\" /></a></dd>"
      ],
      "text/plain": [
       "<IPython.core.display.HTML object>"
      ]
     },
     "metadata": {},
     "output_type": "display_data"
    },
    {
     "data": {
      "text/html": [
       "</dl>"
      ],
      "text/plain": [
       "<IPython.core.display.HTML object>"
      ]
     },
     "metadata": {},
     "output_type": "display_data"
    }
   ],
   "source": [
    "%dependencies iff_def"
   ]
  }
 ],
 "metadata": {
  "kernelspec": {
   "display_name": "Python 3",
   "language": "python",
   "name": "python3"
  }
 },
 "nbformat": 4,
 "nbformat_minor": 0
}