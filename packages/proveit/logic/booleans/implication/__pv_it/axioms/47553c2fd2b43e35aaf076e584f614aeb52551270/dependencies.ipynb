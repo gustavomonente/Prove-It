{
 "cells": [
  {
   "cell_type": "markdown",
   "metadata": {},
   "source": [
    "Axiom Dependencies\n",
    "=======================\n",
    "\n",
    "## <a class=\"ProveItLink\" href=\"../../../_theory_nbs_/theory.ipynb\">proveit.logic.booleans.implication</a>.<a class=\"ProveItLink\" href=\"../../../_axioms_.ipynb#affirmation_via_contradiction\">affirmation_via_contradiction</a> \n"
   ]
  },
  {
   "cell_type": "code",
   "execution_count": 1,
   "metadata": {},
   "outputs": [],
   "source": [
    "import proveit\n",
    "# Automation is not needed when querying dependencies:\n",
    "proveit.defaults.automation = False # This will speed things up.\n",
    "proveit.defaults.inline_pngs = False # Makes files smaller.\n",
    "from proveit.logic.booleans.implication import affirmation_via_contradiction"
   ]
  },
  {
   "cell_type": "code",
   "execution_count": 2,
   "metadata": {},
   "outputs": [
    {
     "data": {
      "text/html": [
       "<h3>Theorems/conjectures that depend directly on affirmation_via_contradiction</h3>"
      ],
      "text/plain": [
       "<IPython.core.display.HTML object>"
      ]
     },
     "metadata": {},
     "output_type": "display_data"
    },
    {
     "data": {
      "text/html": [
       "<dl>"
      ],
      "text/plain": [
       "<IPython.core.display.HTML object>"
      ]
     },
     "metadata": {},
     "output_type": "display_data"
    },
    {
     "data": {
      "text/html": [
       "<dt><a class=\"ProveItLink\" href=\"../../../../disjunction/_theory_nbs_/proofs/left_if_not_right/thm_proof.ipynb\">proveit.logic.booleans.disjunction.left_if_not_right</a></dt><dd><a class=\"ProveItLink\" href=\"../../../../disjunction/__pv_it/theorems/43eddce1ad0b4ede06a57cf59a85d71e8bb5dc350/expr.ipynb\"><img src=\"../../../../disjunction/__pv_it/theorems/43eddce1ad0b4ede06a57cf59a85d71e8bb5dc350/expr.png\" style=\"display:inline;vertical-align:middle;\" /></a></dd>"
      ],
      "text/plain": [
       "<IPython.core.display.HTML object>"
      ]
     },
     "metadata": {},
     "output_type": "display_data"
    },
    {
     "data": {
      "text/html": [
       "<dt><a class=\"ProveItLink\" href=\"../../../../disjunction/_theory_nbs_/proofs/right_if_not_left/thm_proof.ipynb\">proveit.logic.booleans.disjunction.right_if_not_left</a></dt><dd><a class=\"ProveItLink\" href=\"../../../../disjunction/__pv_it/theorems/9ac4ab972c311fceccd60d6e690e6e2867323a500/expr.ipynb\"><img src=\"../../../../disjunction/__pv_it/theorems/9ac4ab972c311fceccd60d6e690e6e2867323a500/expr.png\" style=\"display:inline;vertical-align:middle;\" /></a></dd>"
      ],
      "text/plain": [
       "<IPython.core.display.HTML object>"
      ]
     },
     "metadata": {},
     "output_type": "display_data"
    },
    {
     "data": {
      "text/html": [
       "<dt><a class=\"ProveItLink\" href=\"../../../../disjunction/_theory_nbs_/proofs/singular_constructive_dilemma_lemma/thm_proof.ipynb\">proveit.logic.booleans.disjunction.singular_constructive_dilemma_lemma</a></dt><dd><a class=\"ProveItLink\" href=\"../../../../disjunction/__pv_it/theorems/4c02b83308251572f6bf7093b54f7f23bf759c730/expr.ipynb\"><img src=\"../../../../disjunction/__pv_it/theorems/4c02b83308251572f6bf7093b54f7f23bf759c730/expr.png\" style=\"display:inline;vertical-align:middle;\" /></a></dd>"
      ],
      "text/plain": [
       "<IPython.core.display.HTML object>"
      ]
     },
     "metadata": {},
     "output_type": "display_data"
    },
    {
     "data": {
      "text/html": [
       "<dt><a class=\"ProveItLink\" href=\"../../../../_theory_nbs_/proofs/from_not_false/thm_proof.ipynb\">proveit.logic.booleans.from_not_false</a></dt><dd><a class=\"ProveItLink\" href=\"../../../../__pv_it/theorems/2873320849c4e148c0ce1a264c85120808e587b00/expr.ipynb\"><img src=\"../../../../__pv_it/theorems/2873320849c4e148c0ce1a264c85120808e587b00/expr.png\" style=\"display:inline;vertical-align:middle;\" /></a></dd>"
      ],
      "text/plain": [
       "<IPython.core.display.HTML object>"
      ]
     },
     "metadata": {},
     "output_type": "display_data"
    },
    {
     "data": {
      "text/html": [
       "<dt><a class=\"ProveItLink\" href=\"../../../_theory_nbs_/proofs/false_antecedent_implication/thm_proof.ipynb\">proveit.logic.booleans.implication.false_antecedent_implication</a></dt><dd><a class=\"ProveItLink\" href=\"../../theorems/1bd60d3adc70cbc13d2a53866fde1bdb4b2204bb0/expr.ipynb\"><img src=\"../../theorems/1bd60d3adc70cbc13d2a53866fde1bdb4b2204bb0/expr.png\" style=\"display:inline;vertical-align:middle;\" /></a></dd>"
      ],
      "text/plain": [
       "<IPython.core.display.HTML object>"
      ]
     },
     "metadata": {},
     "output_type": "display_data"
    },
    {
     "data": {
      "text/html": [
       "<dt><a class=\"ProveItLink\" href=\"../../../_theory_nbs_/proofs/falsified_antecedent_implication/thm_proof.ipynb\">proveit.logic.booleans.implication.falsified_antecedent_implication</a></dt><dd><a class=\"ProveItLink\" href=\"../../theorems/28678d7c577311412c516b86c45b9019a8ec85eb0/expr.ipynb\"><img src=\"../../theorems/28678d7c577311412c516b86c45b9019a8ec85eb0/expr.png\" style=\"display:inline;vertical-align:middle;\" /></a></dd>"
      ],
      "text/plain": [
       "<IPython.core.display.HTML object>"
      ]
     },
     "metadata": {},
     "output_type": "display_data"
    },
    {
     "data": {
      "text/html": [
       "<dt><a class=\"ProveItLink\" href=\"../../../_theory_nbs_/proofs/modus_tollens_affirmation/thm_proof.ipynb\">proveit.logic.booleans.implication.modus_tollens_affirmation</a></dt><dd><a class=\"ProveItLink\" href=\"../../theorems/8822c8e8ed7aa1392484f8230078e85cabe1fb0e0/expr.ipynb\"><img src=\"../../theorems/8822c8e8ed7aa1392484f8230078e85cabe1fb0e0/expr.png\" style=\"display:inline;vertical-align:middle;\" /></a></dd>"
      ],
      "text/plain": [
       "<IPython.core.display.HTML object>"
      ]
     },
     "metadata": {},
     "output_type": "display_data"
    },
    {
     "data": {
      "text/html": [
       "<dt><a class=\"ProveItLink\" href=\"../../../_theory_nbs_/proofs/untrue_antecedent_implication/thm_proof.ipynb\">proveit.logic.booleans.implication.untrue_antecedent_implication</a></dt><dd><a class=\"ProveItLink\" href=\"../../theorems/c449629c528ad428408063a39d6569e7a08c49720/expr.ipynb\"><img src=\"../../theorems/c449629c528ad428408063a39d6569e7a08c49720/expr.png\" style=\"display:inline;vertical-align:middle;\" /></a></dd>"
      ],
      "text/plain": [
       "<IPython.core.display.HTML object>"
      ]
     },
     "metadata": {},
     "output_type": "display_data"
    },
    {
     "data": {
      "text/html": [
       "<dt><a class=\"ProveItLink\" href=\"../../../../quantification/existence/_theory_nbs_/proofs/skolem_elim_lemma/thm_proof.ipynb\">proveit.logic.booleans.quantification.existence.skolem_elim_lemma</a></dt><dd><a class=\"ProveItLink\" href=\"../../../../quantification/existence/__pv_it/theorems/351e3b3885d1de219e0eb51d65959515c4f9fad30/expr.ipynb\"><img src=\"../../../../quantification/existence/__pv_it/theorems/351e3b3885d1de219e0eb51d65959515c4f9fad30/expr.png\" style=\"display:inline;vertical-align:middle;\" /></a></dd>"
      ],
      "text/plain": [
       "<IPython.core.display.HTML object>"
      ]
     },
     "metadata": {},
     "output_type": "display_data"
    },
    {
     "data": {
      "text/html": [
       "</dl>"
      ],
      "text/plain": [
       "<IPython.core.display.HTML object>"
      ]
     },
     "metadata": {},
     "output_type": "display_data"
    }
   ],
   "source": [
    "%dependencies affirmation_via_contradiction"
   ]
  }
 ],
 "metadata": {
  "kernelspec": {
   "display_name": "Python 3",
   "language": "python",
   "name": "python3"
  }
 },
 "nbformat": 4,
 "nbformat_minor": 0
}