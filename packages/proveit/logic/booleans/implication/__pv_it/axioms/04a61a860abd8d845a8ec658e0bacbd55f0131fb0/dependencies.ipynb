{
 "cells": [
  {
   "cell_type": "markdown",
   "metadata": {},
   "source": [
    "Axiom Dependencies\n",
    "=======================\n",
    "\n",
    "## <a class=\"ProveItLink\" href=\"../../../_theory_nbs_/theory.ipynb\">proveit.logic.booleans.implication</a>.<a class=\"ProveItLink\" href=\"../../../_axioms_.ipynb#denial_via_contradiction\">denial_via_contradiction</a> \n"
   ]
  },
  {
   "cell_type": "code",
   "execution_count": 1,
   "metadata": {},
   "outputs": [],
   "source": [
    "import proveit\n",
    "# Automation is not needed when querying dependencies:\n",
    "proveit.defaults.automation = False # This will speed things up.\n",
    "proveit.defaults.inline_pngs = False # Makes files smaller.\n",
    "from proveit.logic.booleans.implication import denial_via_contradiction"
   ]
  },
  {
   "cell_type": "code",
   "execution_count": 2,
   "metadata": {},
   "outputs": [
    {
     "data": {
      "text/html": [
       "<h3>Theorems/conjectures that depend directly on denial_via_contradiction</h3>"
      ],
      "text/plain": [
       "<IPython.core.display.HTML object>"
      ]
     },
     "metadata": {},
     "output_type": "display_data"
    },
    {
     "data": {
      "text/html": [
       "<dl>"
      ],
      "text/plain": [
       "<IPython.core.display.HTML object>"
      ]
     },
     "metadata": {},
     "output_type": "display_data"
    },
    {
     "data": {
      "text/html": [
       "<dt><a class=\"ProveItLink\" href=\"../../../_theory_nbs_/proofs/eq_from_iff/thm_proof.ipynb\">proveit.logic.booleans.implication.eq_from_iff</a></dt><dd><a class=\"ProveItLink\" href=\"../../theorems/0f36347affce4dfe8dd59b51976d4641241912ed0/expr.ipynb\"><img src=\"../../theorems/0f36347affce4dfe8dd59b51976d4641241912ed0/expr.png\" style=\"display:inline;vertical-align:middle;\" /></a></dd>"
      ],
      "text/plain": [
       "<IPython.core.display.HTML object>"
      ]
     },
     "metadata": {},
     "output_type": "display_data"
    },
    {
     "data": {
      "text/html": [
       "<dt><a class=\"ProveItLink\" href=\"../../../_theory_nbs_/proofs/eq_from_mutual_impl/thm_proof.ipynb\">proveit.logic.booleans.implication.eq_from_mutual_impl</a></dt><dd><a class=\"ProveItLink\" href=\"../../theorems/a2188e22582e89c66a43fe495c838302fc06f96c0/expr.ipynb\"><img src=\"../../theorems/a2188e22582e89c66a43fe495c838302fc06f96c0/expr.png\" style=\"display:inline;vertical-align:middle;\" /></a></dd>"
      ],
      "text/plain": [
       "<IPython.core.display.HTML object>"
      ]
     },
     "metadata": {},
     "output_type": "display_data"
    },
    {
     "data": {
      "text/html": [
       "<dt><a class=\"ProveItLink\" href=\"../../../_theory_nbs_/proofs/modus_tollens_denial/thm_proof.ipynb\">proveit.logic.booleans.implication.modus_tollens_denial</a></dt><dd><a class=\"ProveItLink\" href=\"../../theorems/e56ae95afdc739da3996a4f658b8dfd58f1f7c3d0/expr.ipynb\"><img src=\"../../theorems/e56ae95afdc739da3996a4f658b8dfd58f1f7c3d0/expr.png\" style=\"display:inline;vertical-align:middle;\" /></a></dd>"
      ],
      "text/plain": [
       "<IPython.core.display.HTML object>"
      ]
     },
     "metadata": {},
     "output_type": "display_data"
    },
    {
     "data": {
      "text/html": [
       "<dt><a class=\"ProveItLink\" href=\"../../../_theory_nbs_/proofs/not_true_via_contradiction/thm_proof.ipynb\">proveit.logic.booleans.implication.not_true_via_contradiction</a></dt><dd><a class=\"ProveItLink\" href=\"../../theorems/bb8d8fa072a6abd7ccaa2558ea0bda92e1a58d970/expr.ipynb\"><img src=\"../../theorems/bb8d8fa072a6abd7ccaa2558ea0bda92e1a58d970/expr.png\" style=\"display:inline;vertical-align:middle;\" /></a></dd>"
      ],
      "text/plain": [
       "<IPython.core.display.HTML object>"
      ]
     },
     "metadata": {},
     "output_type": "display_data"
    },
    {
     "data": {
      "text/html": [
       "</dl>"
      ],
      "text/plain": [
       "<IPython.core.display.HTML object>"
      ]
     },
     "metadata": {},
     "output_type": "display_data"
    }
   ],
   "source": [
    "%dependencies denial_via_contradiction"
   ]
  }
 ],
 "metadata": {
  "kernelspec": {
   "display_name": "Python 3",
   "language": "python",
   "name": "python3"
  }
 },
 "nbformat": 4,
 "nbformat_minor": 0
}