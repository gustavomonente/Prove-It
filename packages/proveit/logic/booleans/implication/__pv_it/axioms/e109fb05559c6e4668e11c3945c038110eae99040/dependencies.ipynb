{
 "cells": [
  {
   "cell_type": "markdown",
   "metadata": {},
   "source": [
    "Axiom Dependencies\n",
    "=======================\n",
    "\n",
    "## <a class=\"ProveItLink\" href=\"../../../_theory_nbs_/theory.ipynb\">proveit.logic.booleans.implication</a>.<a class=\"ProveItLink\" href=\"../../../_axioms_.ipynb#iff_def\">iff_def</a> \n"
   ]
  },
  {
   "cell_type": "code",
   "execution_count": 1,
   "metadata": {},
   "outputs": [],
   "source": [
    "import proveit\n",
    "# Automation is not needed when querying dependencies:\n",
    "proveit.defaults.automation = False # This will speed things up.\n",
    "proveit.defaults.inline_pngs = False # Makes files smaller.\n",
    "from proveit.logic.booleans.implication import iff_def"
   ]
  },
  {
   "cell_type": "code",
   "execution_count": 2,
   "metadata": {},
   "outputs": [
    {
     "data": {
      "text/html": [
       "<h3>Theorems/conjectures that depend directly on iff_def</h3>"
      ],
      "text/plain": [
       "<IPython.core.display.HTML object>"
      ]
     },
     "metadata": {},
     "output_type": "display_data"
    },
    {
     "data": {
      "text/html": [
       "<dl>"
      ],
      "text/plain": [
       "<IPython.core.display.HTML object>"
      ]
     },
     "metadata": {},
     "output_type": "display_data"
    },
    {
     "data": {
      "text/html": [
       "<dt><a class=\"ProveItLink\" href=\"../../../_theory_nbs_/proofs/iff_implies_left/thm_proof.ipynb\">proveit.logic.booleans.implication.iff_implies_left</a></dt><dd><a class=\"ProveItLink\" href=\"../../theorems/abdd56facd7363e51a08f13072b256826c7171260/expr.ipynb\"><img src=\"../../theorems/abdd56facd7363e51a08f13072b256826c7171260/expr.png\" style=\"display:inline;vertical-align:middle;\" /></a></dd>"
      ],
      "text/plain": [
       "<IPython.core.display.HTML object>"
      ]
     },
     "metadata": {},
     "output_type": "display_data"
    },
    {
     "data": {
      "text/html": [
       "<dt><a class=\"ProveItLink\" href=\"../../../_theory_nbs_/proofs/iff_implies_right/thm_proof.ipynb\">proveit.logic.booleans.implication.iff_implies_right</a></dt><dd><a class=\"ProveItLink\" href=\"../../theorems/e051e9c0e004bf997384d6e7d40ca0c4ac6d9ea50/expr.ipynb\"><img src=\"../../theorems/e051e9c0e004bf997384d6e7d40ca0c4ac6d9ea50/expr.png\" style=\"display:inline;vertical-align:middle;\" /></a></dd>"
      ],
      "text/plain": [
       "<IPython.core.display.HTML object>"
      ]
     },
     "metadata": {},
     "output_type": "display_data"
    },
    {
     "data": {
      "text/html": [
       "<dt><a class=\"ProveItLink\" href=\"../../../_theory_nbs_/proofs/iff_intro/thm_proof.ipynb\">proveit.logic.booleans.implication.iff_intro</a></dt><dd><a class=\"ProveItLink\" href=\"../../theorems/97c93ce3306a9d4fb93a71da92f46396f109bec30/expr.ipynb\"><img src=\"../../theorems/97c93ce3306a9d4fb93a71da92f46396f109bec30/expr.png\" style=\"display:inline;vertical-align:middle;\" /></a></dd>"
      ],
      "text/plain": [
       "<IPython.core.display.HTML object>"
      ]
     },
     "metadata": {},
     "output_type": "display_data"
    },
    {
     "data": {
      "text/html": [
       "<dt><a class=\"ProveItLink\" href=\"../../../_theory_nbs_/proofs/not_iff_via_not_left_impl/thm_proof.ipynb\">proveit.logic.booleans.implication.not_iff_via_not_left_impl</a></dt><dd><a class=\"ProveItLink\" href=\"../../theorems/d3b12ecb5a3e785e02f7ca95e404db1810c4e2b50/expr.ipynb\"><img src=\"../../theorems/d3b12ecb5a3e785e02f7ca95e404db1810c4e2b50/expr.png\" style=\"display:inline;vertical-align:middle;\" /></a></dd>"
      ],
      "text/plain": [
       "<IPython.core.display.HTML object>"
      ]
     },
     "metadata": {},
     "output_type": "display_data"
    },
    {
     "data": {
      "text/html": [
       "<dt><a class=\"ProveItLink\" href=\"../../../_theory_nbs_/proofs/not_iff_via_not_right_impl/thm_proof.ipynb\">proveit.logic.booleans.implication.not_iff_via_not_right_impl</a></dt><dd><a class=\"ProveItLink\" href=\"../../theorems/fd4d1255d3df18234f972e21ab9a2f801509dc070/expr.ipynb\"><img src=\"../../theorems/fd4d1255d3df18234f972e21ab9a2f801509dc070/expr.png\" style=\"display:inline;vertical-align:middle;\" /></a></dd>"
      ],
      "text/plain": [
       "<IPython.core.display.HTML object>"
      ]
     },
     "metadata": {},
     "output_type": "display_data"
    },
    {
     "data": {
      "text/html": [
       "<dt><a class=\"ProveItLink\" href=\"../../../../../sets/inclusion/_theory_nbs_/proofs/subset_eq_equals_superset_eq/thm_proof.ipynb\">proveit.logic.sets.inclusion.subset_eq_equals_superset_eq</a></dt><dd><a class=\"ProveItLink\" href=\"../../../../../sets/inclusion/__pv_it/theorems/2abcda24fb0f76881050e3037d06774e692850950/expr.ipynb\"><img src=\"../../../../../sets/inclusion/__pv_it/theorems/2abcda24fb0f76881050e3037d06774e692850950/expr.png\" style=\"display:inline;vertical-align:middle;\" /></a></dd>"
      ],
      "text/plain": [
       "<IPython.core.display.HTML object>"
      ]
     },
     "metadata": {},
     "output_type": "display_data"
    },
    {
     "data": {
      "text/html": [
       "</dl>"
      ],
      "text/plain": [
       "<IPython.core.display.HTML object>"
      ]
     },
     "metadata": {},
     "output_type": "display_data"
    }
   ],
   "source": [
    "%dependencies iff_def"
   ]
  }
 ],
 "metadata": {
  "kernelspec": {
   "display_name": "Python 3",
   "language": "python",
   "name": "python3"
  }
 },
 "nbformat": 4,
 "nbformat_minor": 0
}