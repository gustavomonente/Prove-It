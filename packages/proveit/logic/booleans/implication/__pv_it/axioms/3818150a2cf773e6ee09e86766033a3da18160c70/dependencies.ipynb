{
 "cells": [
  {
   "cell_type": "markdown",
   "metadata": {},
   "source": [
    "Axiom Dependencies\n",
    "=======================\n",
    "\n",
    "## <a class=\"ProveItLink\" href=\"../../../_theory_nbs_/theory.ipynb\">proveit.logic.booleans.implication</a>.<a class=\"ProveItLink\" href=\"../../../_axioms_.ipynb#affirmation_via_contradiction\">affirmation_via_contradiction</a> \n"
   ]
  },
  {
   "cell_type": "code",
   "execution_count": 1,
   "metadata": {},
   "outputs": [],
   "source": [
    "import proveit\n",
    "# Automation is not needed when querying dependencies:\n",
    "proveit.defaults.automation = False # This will speed things up.\n",
    "proveit.defaults.inline_pngs = False # Makes files smaller.\n",
    "from proveit.logic.booleans.implication import affirmation_via_contradiction"
   ]
  },
  {
   "cell_type": "code",
   "execution_count": 2,
   "metadata": {},
   "outputs": [
    {
     "data": {
      "text/html": [
       "<h3>Theorems/conjectures that depend directly on affirmation_via_contradiction</h3>"
      ],
      "text/plain": [
       "<IPython.core.display.HTML object>"
      ]
     },
     "metadata": {},
     "output_type": "display_data"
    },
    {
     "data": {
      "text/html": [
       "<dl>"
      ],
      "text/plain": [
       "<IPython.core.display.HTML object>"
      ]
     },
     "metadata": {},
     "output_type": "display_data"
    },
    {
     "data": {
      "text/html": [
       "<dt><a class=\"ProveItLink\" href=\"../../../../disjunction/_theory_nbs_/proofs/left_if_not_right/thm_proof.ipynb\">proveit.logic.booleans.disjunction.left_if_not_right</a></dt><dd><a class=\"ProveItLink\" href=\"../../../../disjunction/__pv_it/theorems/de7c5787ed54fb4331179d6d559ff1e83c1e8a040/expr.ipynb\"><img src=\"../../../../disjunction/__pv_it/theorems/de7c5787ed54fb4331179d6d559ff1e83c1e8a040/expr.png\" style=\"display:inline;vertical-align:middle;\" /></a></dd>"
      ],
      "text/plain": [
       "<IPython.core.display.HTML object>"
      ]
     },
     "metadata": {},
     "output_type": "display_data"
    },
    {
     "data": {
      "text/html": [
       "<dt><a class=\"ProveItLink\" href=\"../../../../disjunction/_theory_nbs_/proofs/right_if_not_left/thm_proof.ipynb\">proveit.logic.booleans.disjunction.right_if_not_left</a></dt><dd><a class=\"ProveItLink\" href=\"../../../../disjunction/__pv_it/theorems/d2174c0131760ef0e80c4f4ff9e0df0f9a5289ea0/expr.ipynb\"><img src=\"../../../../disjunction/__pv_it/theorems/d2174c0131760ef0e80c4f4ff9e0df0f9a5289ea0/expr.png\" style=\"display:inline;vertical-align:middle;\" /></a></dd>"
      ],
      "text/plain": [
       "<IPython.core.display.HTML object>"
      ]
     },
     "metadata": {},
     "output_type": "display_data"
    },
    {
     "data": {
      "text/html": [
       "<dt><a class=\"ProveItLink\" href=\"../../../../disjunction/_theory_nbs_/proofs/singular_constructive_dilemma_lemma/thm_proof.ipynb\">proveit.logic.booleans.disjunction.singular_constructive_dilemma_lemma</a></dt><dd><a class=\"ProveItLink\" href=\"../../../../disjunction/__pv_it/theorems/a94eb919139acfc10f6b29724f53af8a93a61f030/expr.ipynb\"><img src=\"../../../../disjunction/__pv_it/theorems/a94eb919139acfc10f6b29724f53af8a93a61f030/expr.png\" style=\"display:inline;vertical-align:middle;\" /></a></dd>"
      ],
      "text/plain": [
       "<IPython.core.display.HTML object>"
      ]
     },
     "metadata": {},
     "output_type": "display_data"
    },
    {
     "data": {
      "text/html": [
       "<dt><a class=\"ProveItLink\" href=\"../../../../_theory_nbs_/proofs/from_not_false/thm_proof.ipynb\">proveit.logic.booleans.from_not_false</a></dt><dd><a class=\"ProveItLink\" href=\"../../../../__pv_it/theorems/a45c315cc4798cf0610ce7a0cd5db4859edb18c70/expr.ipynb\"><img src=\"../../../../__pv_it/theorems/a45c315cc4798cf0610ce7a0cd5db4859edb18c70/expr.png\" style=\"display:inline;vertical-align:middle;\" /></a></dd>"
      ],
      "text/plain": [
       "<IPython.core.display.HTML object>"
      ]
     },
     "metadata": {},
     "output_type": "display_data"
    },
    {
     "data": {
      "text/html": [
       "<dt><a class=\"ProveItLink\" href=\"../../../_theory_nbs_/proofs/false_antecedent_implication/thm_proof.ipynb\">proveit.logic.booleans.implication.false_antecedent_implication</a></dt><dd><a class=\"ProveItLink\" href=\"../../theorems/2352c9f1a82bd76b45f392c42be1183b3d0dcbed0/expr.ipynb\"><img src=\"../../theorems/2352c9f1a82bd76b45f392c42be1183b3d0dcbed0/expr.png\" style=\"display:inline;vertical-align:middle;\" /></a></dd>"
      ],
      "text/plain": [
       "<IPython.core.display.HTML object>"
      ]
     },
     "metadata": {},
     "output_type": "display_data"
    },
    {
     "data": {
      "text/html": [
       "<dt><a class=\"ProveItLink\" href=\"../../../_theory_nbs_/proofs/falsified_antecedent_implication/thm_proof.ipynb\">proveit.logic.booleans.implication.falsified_antecedent_implication</a></dt><dd><a class=\"ProveItLink\" href=\"../../theorems/fda635824073e75fea82115b8c28d2fb1875c7230/expr.ipynb\"><img src=\"../../theorems/fda635824073e75fea82115b8c28d2fb1875c7230/expr.png\" style=\"display:inline;vertical-align:middle;\" /></a></dd>"
      ],
      "text/plain": [
       "<IPython.core.display.HTML object>"
      ]
     },
     "metadata": {},
     "output_type": "display_data"
    },
    {
     "data": {
      "text/html": [
       "<dt><a class=\"ProveItLink\" href=\"../../../_theory_nbs_/proofs/modus_tollens_affirmation/thm_proof.ipynb\">proveit.logic.booleans.implication.modus_tollens_affirmation</a></dt><dd><a class=\"ProveItLink\" href=\"../../theorems/1ac21c0faecacbdae22987d4c569391284ee6fd10/expr.ipynb\"><img src=\"../../theorems/1ac21c0faecacbdae22987d4c569391284ee6fd10/expr.png\" style=\"display:inline;vertical-align:middle;\" /></a></dd>"
      ],
      "text/plain": [
       "<IPython.core.display.HTML object>"
      ]
     },
     "metadata": {},
     "output_type": "display_data"
    },
    {
     "data": {
      "text/html": [
       "<dt><a class=\"ProveItLink\" href=\"../../../_theory_nbs_/proofs/untrue_antecedent_implication/thm_proof.ipynb\">proveit.logic.booleans.implication.untrue_antecedent_implication</a></dt><dd><a class=\"ProveItLink\" href=\"../../theorems/360b0acb5ffcc6d91b9e940a4c0f9fa458643c2d0/expr.ipynb\"><img src=\"../../theorems/360b0acb5ffcc6d91b9e940a4c0f9fa458643c2d0/expr.png\" style=\"display:inline;vertical-align:middle;\" /></a></dd>"
      ],
      "text/plain": [
       "<IPython.core.display.HTML object>"
      ]
     },
     "metadata": {},
     "output_type": "display_data"
    },
    {
     "data": {
      "text/html": [
       "<dt><a class=\"ProveItLink\" href=\"../../../../quantification/existence/_theory_nbs_/proofs/skolem_elim_lemma/thm_proof.ipynb\">proveit.logic.booleans.quantification.existence.skolem_elim_lemma</a></dt><dd><a class=\"ProveItLink\" href=\"../../../../quantification/existence/__pv_it/theorems/df651135730fed023128ee906e5246013d80c4d40/expr.ipynb\"><img src=\"../../../../quantification/existence/__pv_it/theorems/df651135730fed023128ee906e5246013d80c4d40/expr.png\" style=\"display:inline;vertical-align:middle;\" /></a></dd>"
      ],
      "text/plain": [
       "<IPython.core.display.HTML object>"
      ]
     },
     "metadata": {},
     "output_type": "display_data"
    },
    {
     "data": {
      "text/html": [
       "</dl>"
      ],
      "text/plain": [
       "<IPython.core.display.HTML object>"
      ]
     },
     "metadata": {},
     "output_type": "display_data"
    }
   ],
   "source": [
    "%dependencies affirmation_via_contradiction"
   ]
  }
 ],
 "metadata": {
  "kernelspec": {
   "display_name": "Python 3",
   "language": "python",
   "name": "python3"
  }
 },
 "nbformat": 4,
 "nbformat_minor": 0
}