{
 "cells": [
  {
   "cell_type": "markdown",
   "metadata": {},
   "source": [
    "Show the Proof\n",
    "========"
   ]
  },
  {
   "cell_type": "code",
   "execution_count": 1,
   "metadata": {},
   "outputs": [
    {
     "data": {
      "text/html": [
       "<table><tr><th>&nbsp;</th><th>step type</th><th>requirements</th><th>statement</th></tr>\n",
       "<tr><td><a name=\"proveit.logic.booleans.implication._proof_not_true_via_contradiction.5f8819a3961809b37434ac81fcea5bc7474219d20_step0\">0</a></td><td>deduction</td><td><a href=\"#proveit.logic.booleans.implication._proof_not_true_via_contradiction.5f8819a3961809b37434ac81fcea5bc7474219d20_step1\">1</a></td><td><span style=\"font-size:20px;\"><a class=\"ProveItLink\" href=\"../../axioms/5e3b803459b39bd91114fd3cee1fcbb0c1f1e9b40/expr.ipynb\"><img src=\"../../axioms/5e3b803459b39bd91114fd3cee1fcbb0c1f1e9b40/expr.png\" style=\"display:inline;vertical-align:middle;\" /></a> <a class=\"ProveItLink\" href=\"proof.ipynb\" style=\"text-decoration: none\">&nbsp;&#x22A2;&nbsp;&nbsp;</a><a class=\"ProveItLink\" href=\"../ff181b494d7281763bdcabad70d2014721b6f9140/expr.ipynb\"><img src=\"../ff181b494d7281763bdcabad70d2014721b6f9140/expr.png\" style=\"display:inline;vertical-align:middle;\" /></a></span></td></tr>\n",
       "<tr><td><a name=\"proveit.logic.booleans.implication._proof_not_true_via_contradiction.5f8819a3961809b37434ac81fcea5bc7474219d20_step1\">1</a></td><td>modus ponens</td><td><a href=\"#proveit.logic.booleans.implication._proof_not_true_via_contradiction.5f8819a3961809b37434ac81fcea5bc7474219d20_step2\">2</a>, <a href=\"#proveit.logic.booleans.implication._proof_not_true_via_contradiction.5f8819a3961809b37434ac81fcea5bc7474219d20_step3\">3</a></td><td><span style=\"font-size:20px;\"><a class=\"ProveItLink\" href=\"../../../../__pv_it/axioms/dbd71ffccb5ccbf613b4df51f85728c71e35a3980/expr.ipynb\"><img src=\"../../../../__pv_it/axioms/dbd71ffccb5ccbf613b4df51f85728c71e35a3980/expr.png\" style=\"display:inline;vertical-align:middle;\" /></a>, <a class=\"ProveItLink\" href=\"../../axioms/5e3b803459b39bd91114fd3cee1fcbb0c1f1e9b40/expr.ipynb\"><img src=\"../../axioms/5e3b803459b39bd91114fd3cee1fcbb0c1f1e9b40/expr.png\" style=\"display:inline;vertical-align:middle;\" /></a> <a class=\"ProveItLink\" href=\"../6c47c29bb66397583a121dbeaa797ca10226193f0/proof.ipynb\" style=\"text-decoration: none\">&nbsp;&#x22A2;&nbsp;&nbsp;</a><a class=\"ProveItLink\" href=\"../../../../__pv_it/common/e0f123f2e4f322e1eba7f861749cda9fd9d99a120/expr.ipynb\"><img src=\"../../../../__pv_it/common/e0f123f2e4f322e1eba7f861749cda9fd9d99a120/expr.png\" style=\"display:inline;vertical-align:middle;\" /></a></span></td></tr>\n",
       "<tr><td><a name=\"proveit.logic.booleans.implication._proof_not_true_via_contradiction.5f8819a3961809b37434ac81fcea5bc7474219d20_step2\">2</a></td><td>assumption</td><td></td><td><span style=\"font-size:20px;\"><a class=\"ProveItLink\" href=\"../../axioms/5e3b803459b39bd91114fd3cee1fcbb0c1f1e9b40/expr.ipynb\"><img src=\"../../axioms/5e3b803459b39bd91114fd3cee1fcbb0c1f1e9b40/expr.png\" style=\"display:inline;vertical-align:middle;\" /></a> <a class=\"ProveItLink\" href=\"../95a105d839de5daab280a0f163ef5310781c44560/proof.ipynb\" style=\"text-decoration: none\">&nbsp;&#x22A2;&nbsp;&nbsp;</a><a class=\"ProveItLink\" href=\"../../axioms/5e3b803459b39bd91114fd3cee1fcbb0c1f1e9b40/expr.ipynb\"><img src=\"../../axioms/5e3b803459b39bd91114fd3cee1fcbb0c1f1e9b40/expr.png\" style=\"display:inline;vertical-align:middle;\" /></a></span></td></tr>\n",
       "<tr><td><a name=\"proveit.logic.booleans.implication._proof_not_true_via_contradiction.5f8819a3961809b37434ac81fcea5bc7474219d20_step3\">3</a></td><td>instantiation</td><td><a href=\"#proveit.logic.booleans.implication._proof_not_true_via_contradiction.5f8819a3961809b37434ac81fcea5bc7474219d20_step4\">4</a>, <a href=\"#proveit.logic.booleans.implication._proof_not_true_via_contradiction.5f8819a3961809b37434ac81fcea5bc7474219d20_step5\">5</a></td><td><span style=\"font-size:20px;\"><a class=\"ProveItLink\" href=\"../../../../__pv_it/axioms/dbd71ffccb5ccbf613b4df51f85728c71e35a3980/expr.ipynb\"><img src=\"../../../../__pv_it/axioms/dbd71ffccb5ccbf613b4df51f85728c71e35a3980/expr.png\" style=\"display:inline;vertical-align:middle;\" /></a> <a class=\"ProveItLink\" href=\"../0436f80c11f15df70dd32259fe4b7191b55616ae0/proof.ipynb\" style=\"text-decoration: none\">&nbsp;&#x22A2;&nbsp;&nbsp;</a><a class=\"ProveItLink\" href=\"../../../../../../__pv_it/common/09585084922504426caf1db2ff588a23a0932a960/expr.ipynb\"><img src=\"../../../../../../__pv_it/common/09585084922504426caf1db2ff588a23a0932a960/expr.png\" style=\"display:inline;vertical-align:middle;\" /></a></span></td></tr>\n",
       "<tr><td>&nbsp;</td><td colspan=4 style=\"text-align:left\"><span style=\"font-size:20px;\"><a class=\"ProveItLink\" href=\"../../../../../../__pv_it/common/09585084922504426caf1db2ff588a23a0932a960/expr.ipynb\"><img src=\"../../../../../../__pv_it/common/09585084922504426caf1db2ff588a23a0932a960/expr.png\" style=\"display:inline;vertical-align:middle;\" /></a> : <a class=\"ProveItLink\" href=\"../../../../../../__pv_it/common/09585084922504426caf1db2ff588a23a0932a960/expr.ipynb\"><img src=\"../../../../../../__pv_it/common/09585084922504426caf1db2ff588a23a0932a960/expr.png\" style=\"display:inline;vertical-align:middle;\" /></a></span></td></tr><tr><td><a name=\"proveit.logic.booleans.implication._proof_not_true_via_contradiction.5f8819a3961809b37434ac81fcea5bc7474219d20_step4\">4</a></td><td>axiom</td><td></td><td><span style=\"font-size:20px;\"> <a class=\"ProveItLink\" href=\"../../../../_theory_nbs_/axioms.ipynb#eq_true_elim\" style=\"text-decoration: none\">&nbsp;&#x22A2;&nbsp;&nbsp;</a><a class=\"ProveItLink\" href=\"../../../../__pv_it/axioms/05a6b4904cc64664b923b0e52c73af64907ac3af0/expr.ipynb\"><img src=\"../../../../__pv_it/axioms/05a6b4904cc64664b923b0e52c73af64907ac3af0/expr.png\" style=\"display:inline;vertical-align:middle;\" /></a></span></td></tr>\n",
       "<tr><td>&nbsp;</td><td colspan=4 style-\"text-align:left\"><a class=\"ProveItLink\" href=\"../../../../_theory_nbs_/axioms.ipynb#eq_true_elim\">proveit.logic.booleans.eq_true_elim</a></td></tr><tr><td><a name=\"proveit.logic.booleans.implication._proof_not_true_via_contradiction.5f8819a3961809b37434ac81fcea5bc7474219d20_step5\">5</a></td><td>assumption</td><td></td><td><span style=\"font-size:20px;\"><a class=\"ProveItLink\" href=\"../../../../__pv_it/axioms/dbd71ffccb5ccbf613b4df51f85728c71e35a3980/expr.ipynb\"><img src=\"../../../../__pv_it/axioms/dbd71ffccb5ccbf613b4df51f85728c71e35a3980/expr.png\" style=\"display:inline;vertical-align:middle;\" /></a> <a class=\"ProveItLink\" href=\"../5b68d51ab519d9f720f4ae09c66bb6708cd012ed0/proof.ipynb\" style=\"text-decoration: none\">&nbsp;&#x22A2;&nbsp;&nbsp;</a><a class=\"ProveItLink\" href=\"../../../../__pv_it/axioms/dbd71ffccb5ccbf613b4df51f85728c71e35a3980/expr.ipynb\"><img src=\"../../../../__pv_it/axioms/dbd71ffccb5ccbf613b4df51f85728c71e35a3980/expr.png\" style=\"display:inline;vertical-align:middle;\" /></a></span></td></tr>\n",
       "</table>"
      ],
      "text/plain": [
       "<proveit._core_.proof._ShowProof at 0x7f66a84524e0>"
      ]
     },
     "execution_count": 1,
     "metadata": {},
     "output_type": "execute_result"
    }
   ],
   "source": [
    "import proveit\n",
    "# Automation is not needed when only showing a stored proof:\n",
    "proveit.defaults.automation = False # This will speed things up.\n",
    "proveit.defaults.inline_pngs = False # Makes files smaller.\n",
    "%show_proof"
   ]
  },
  {
   "cell_type": "code",
   "execution_count": null,
   "metadata": {},
   "outputs": [],
   "source": []
  }
 ],
 "metadata": {
  "kernelspec": {
   "display_name": "Python 3",
   "language": "python",
   "name": "python3"
  },
  "language_info": {
   "codemirror_mode": {
    "name": "ipython",
    "version": 3
   },
   "file_extension": ".py",
   "mimetype": "text/x-python",
   "name": "python",
   "nbconvert_exporter": "python",
   "pygments_lexer": "ipython3",
   "version": "3.7.3"
  }
 },
 "nbformat": 4,
 "nbformat_minor": 1
}