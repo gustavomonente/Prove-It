{
 "cells": [
  {
   "cell_type": "markdown",
   "metadata": {},
   "source": [
    "Show the Proof\n",
    "========"
   ]
  },
  {
   "cell_type": "code",
   "execution_count": 1,
   "metadata": {},
   "outputs": [
    {
     "data": {
      "text/html": [
       "<table><tr><th>&nbsp;</th><th>step type</th><th>requirements</th><th>statement</th></tr>\n",
       "<tr><td><a name=\"proveit.logic.booleans.implication._proof_iff_intro.59ffed4d1f1b1e9447c2ab2d83f772ca765144770_step0\">0</a></td><td>instantiation</td><td><a href=\"#proveit.logic.booleans.implication._proof_iff_intro.59ffed4d1f1b1e9447c2ab2d83f772ca765144770_step1\">1</a>, <a href=\"#proveit.logic.booleans.implication._proof_iff_intro.59ffed4d1f1b1e9447c2ab2d83f772ca765144770_step2\">2</a>, <a href=\"#proveit.logic.booleans.implication._proof_iff_intro.59ffed4d1f1b1e9447c2ab2d83f772ca765144770_step3\">3</a></td><td><span style=\"font-size:20px;\"><a class=\"ProveItLink\" href=\"../../axioms/d4325c8af119c430c8d7d2a3d4da5401a1227aa10/expr.ipynb\"><img src=\"../../axioms/d4325c8af119c430c8d7d2a3d4da5401a1227aa10/expr.png\" style=\"display:inline;vertical-align:middle;\" /></a>, <a class=\"ProveItLink\" href=\"../../axioms/6920eb5f79a02998298ad6a0526e6038a0e1c7ed0/expr.ipynb\"><img src=\"../../axioms/6920eb5f79a02998298ad6a0526e6038a0e1c7ed0/expr.png\" style=\"display:inline;vertical-align:middle;\" /></a> <a class=\"ProveItLink\" href=\"proof.ipynb\" style=\"text-decoration: none\">&nbsp;&#x22A2;&nbsp;&nbsp;</a><a class=\"ProveItLink\" href=\"../../axioms/b4af37939985c633f83b804df52f340ff147a3f10/expr.ipynb\"><img src=\"../../axioms/b4af37939985c633f83b804df52f340ff147a3f10/expr.png\" style=\"display:inline;vertical-align:middle;\" /></a></span></td></tr>\n",
       "<tr><td>&nbsp;</td><td colspan=4 style=\"text-align:left\"><span style=\"font-size:20px;\"><a class=\"ProveItLink\" href=\"../../../../../../__pv_it/common/e4aad701f7f5516d8e7f0d805d518bf02c13322a0/expr.ipynb\"><img src=\"../../../../../../__pv_it/common/e4aad701f7f5516d8e7f0d805d518bf02c13322a0/expr.png\" style=\"display:inline;vertical-align:middle;\" /></a> : <a class=\"ProveItLink\" href=\"../../axioms/d4325c8af119c430c8d7d2a3d4da5401a1227aa10/expr.ipynb\"><img src=\"../../axioms/d4325c8af119c430c8d7d2a3d4da5401a1227aa10/expr.png\" style=\"display:inline;vertical-align:middle;\" /></a>, <a class=\"ProveItLink\" href=\"../../../../../../__pv_it/common/4eca3b30dcf58a58494e201d1b7886d8643a617b0/expr.ipynb\"><img src=\"../../../../../../__pv_it/common/4eca3b30dcf58a58494e201d1b7886d8643a617b0/expr.png\" style=\"display:inline;vertical-align:middle;\" /></a> : <a class=\"ProveItLink\" href=\"../../axioms/6920eb5f79a02998298ad6a0526e6038a0e1c7ed0/expr.ipynb\"><img src=\"../../axioms/6920eb5f79a02998298ad6a0526e6038a0e1c7ed0/expr.png\" style=\"display:inline;vertical-align:middle;\" /></a></span></td></tr><tr><td><a name=\"proveit.logic.booleans.implication._proof_iff_intro.59ffed4d1f1b1e9447c2ab2d83f772ca765144770_step1\">1</a></td><td>theorem</td><td></td><td><span style=\"font-size:20px;\"> <a class=\"ProveItLink\" href=\"../../../../conjunction/_theory_nbs_/proofs/and_if_both/thm_proof.ipynb\" style=\"text-decoration: none\">&nbsp;&#x22A2;&nbsp;&nbsp;</a><a class=\"ProveItLink\" href=\"../../../../conjunction/__pv_it/theorems/008b0a99de239a049527e6b5d7f3470fecf84f5f0/expr.ipynb\"><img src=\"../../../../conjunction/__pv_it/theorems/008b0a99de239a049527e6b5d7f3470fecf84f5f0/expr.png\" style=\"display:inline;vertical-align:middle;\" /></a></span></td></tr>\n",
       "<tr><td>&nbsp;</td><td colspan=4 style-\"text-align:left\"><a class=\"ProveItLink\" href=\"../../../../conjunction/_theory_nbs_/proofs/and_if_both/thm_proof.ipynb\">proveit.logic.booleans.conjunction.and_if_both</a></td></tr><tr><td><a name=\"proveit.logic.booleans.implication._proof_iff_intro.59ffed4d1f1b1e9447c2ab2d83f772ca765144770_step2\">2</a></td><td>assumption</td><td></td><td><span style=\"font-size:20px;\"><a class=\"ProveItLink\" href=\"../../axioms/d4325c8af119c430c8d7d2a3d4da5401a1227aa10/expr.ipynb\"><img src=\"../../axioms/d4325c8af119c430c8d7d2a3d4da5401a1227aa10/expr.png\" style=\"display:inline;vertical-align:middle;\" /></a> <a class=\"ProveItLink\" href=\"../b1ad93d4d2d33522493beca8d17073aa67d2afc40/proof.ipynb\" style=\"text-decoration: none\">&nbsp;&#x22A2;&nbsp;&nbsp;</a><a class=\"ProveItLink\" href=\"../../axioms/d4325c8af119c430c8d7d2a3d4da5401a1227aa10/expr.ipynb\"><img src=\"../../axioms/d4325c8af119c430c8d7d2a3d4da5401a1227aa10/expr.png\" style=\"display:inline;vertical-align:middle;\" /></a></span></td></tr>\n",
       "<tr><td><a name=\"proveit.logic.booleans.implication._proof_iff_intro.59ffed4d1f1b1e9447c2ab2d83f772ca765144770_step3\">3</a></td><td>assumption</td><td></td><td><span style=\"font-size:20px;\"><a class=\"ProveItLink\" href=\"../../axioms/6920eb5f79a02998298ad6a0526e6038a0e1c7ed0/expr.ipynb\"><img src=\"../../axioms/6920eb5f79a02998298ad6a0526e6038a0e1c7ed0/expr.png\" style=\"display:inline;vertical-align:middle;\" /></a> <a class=\"ProveItLink\" href=\"../915b6a7d39261bd548af2d2b416c7b47b4a415470/proof.ipynb\" style=\"text-decoration: none\">&nbsp;&#x22A2;&nbsp;&nbsp;</a><a class=\"ProveItLink\" href=\"../../axioms/6920eb5f79a02998298ad6a0526e6038a0e1c7ed0/expr.ipynb\"><img src=\"../../axioms/6920eb5f79a02998298ad6a0526e6038a0e1c7ed0/expr.png\" style=\"display:inline;vertical-align:middle;\" /></a></span></td></tr>\n",
       "</table>"
      ],
      "text/plain": [
       "<proveit._core_.proof._ShowProof at 0x7fab8c28d9e8>"
      ]
     },
     "execution_count": 1,
     "metadata": {},
     "output_type": "execute_result"
    }
   ],
   "source": [
    "import proveit\n",
    "# Automation is not needed when only showing a stored proof:\n",
    "proveit.defaults.automation = False # This will speed things up.\n",
    "proveit.defaults.inline_pngs = False # Makes files smaller.\n",
    "%show_proof"
   ]
  },
  {
   "cell_type": "code",
   "execution_count": null,
   "metadata": {},
   "outputs": [],
   "source": []
  }
 ],
 "metadata": {
  "kernelspec": {
   "display_name": "Python 3",
   "language": "python",
   "name": "python3"
  },
  "language_info": {
   "codemirror_mode": {
    "name": "ipython",
    "version": 3
   },
   "file_extension": ".py",
   "mimetype": "text/x-python",
   "name": "python",
   "nbconvert_exporter": "python",
   "pygments_lexer": "ipython3",
   "version": "3.7.3"
  }
 },
 "nbformat": 4,
 "nbformat_minor": 1
}