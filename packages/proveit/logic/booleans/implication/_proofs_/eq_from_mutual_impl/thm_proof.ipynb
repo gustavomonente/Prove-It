{
 "cells": [
  {
   "cell_type": "markdown",
   "metadata": {},
   "source": [
    "Proof of <a class=\"ProveItLink\" href=\"../../../../../_theory_.ipynb\">proveit</a>.<a class=\"ProveItLink\" href=\"../../../../_theory_.ipynb\">logic</a>.<a class=\"ProveItLink\" href=\"../../../_theory_.ipynb\">booleans</a>.<a class=\"ProveItLink\" href=\"../../_theory_.ipynb\">implication</a>.<a class=\"ProveItLink\" href=\"../../_theorems_.ipynb#eq_from_mutual_impl\">eq_from_mutual_impl</a> theorem\n",
    "========"
   ]
  },
  {
   "cell_type": "code",
   "execution_count": null,
   "metadata": {},
   "outputs": [],
   "source": [
    "import proveit\n",
    "from proveit.logic.booleans import fold_forall_over_bool\n",
    "theory = proveit.Theory() # the theorem's theory"
   ]
  },
  {
   "cell_type": "code",
   "execution_count": null,
   "metadata": {},
   "outputs": [],
   "source": [
    "%proving eq_from_mutual_impl"
   ]
  },
  {
   "cell_type": "code",
   "execution_count": null,
   "metadata": {},
   "outputs": [],
   "source": [
    "%qed"
   ]
  }
 ],
 "metadata": {
  "kernelspec": {
   "display_name": "Python 3",
   "language": "python",
   "name": "python3"
  }
 },
 "nbformat": 4,
 "nbformat_minor": 0
}
