{
 "cells": [
  {
   "cell_type": "markdown",
   "metadata": {},
   "source": [
    "Proof of <a class=\"ProveItLink\" href=\"../../../../../_theory_.ipynb\">proveit</a>.<a class=\"ProveItLink\" href=\"../../../../_theory_.ipynb\">logic</a>.<a class=\"ProveItLink\" href=\"../../../_theory_.ipynb\">booleans</a>.<a class=\"ProveItLink\" href=\"../../_theory_.ipynb\">implication</a>.<a class=\"ProveItLink\" href=\"../../_theorems_.ipynb#true_iff_true\">true_iff_true</a> theorem\n",
    "========"
   ]
  },
  {
   "cell_type": "code",
   "execution_count": null,
   "metadata": {},
   "outputs": [],
   "source": [
    "import proveit\n",
    "from proveit.logic.booleans.implication._theorems_ import true_implies_true\n",
    "theory = proveit.Theory() # the theorem's theory"
   ]
  },
  {
   "cell_type": "code",
   "execution_count": null,
   "metadata": {},
   "outputs": [],
   "source": [
    "%proving true_iff_true"
   ]
  },
  {
   "cell_type": "code",
   "execution_count": null,
   "metadata": {},
   "outputs": [],
   "source": [
    "%qed"
   ]
  },
  {
   "cell_type": "code",
   "execution_count": null,
   "metadata": {},
   "outputs": [],
   "source": []
  }
 ],
 "metadata": {
  "kernelspec": {
   "display_name": "Python 3",
   "language": "python",
   "name": "python3"
  }
 },
 "nbformat": 4,
 "nbformat_minor": 0
}
