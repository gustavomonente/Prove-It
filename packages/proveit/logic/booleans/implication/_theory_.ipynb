{
 "cells": [
  {
   "cell_type": "markdown",
   "metadata": {},
   "source": [
    "Theory of <a class=\"ProveItLink\" href=\"../../../_theory_.ipynb\">proveit</a>.<a class=\"ProveItLink\" href=\"../../_theory_.ipynb\">logic</a>.<a class=\"ProveItLink\" href=\"../_theory_.ipynb\">booleans</a>.implication\n",
    "========\n",
    "\n",
    "Theory for implication operations: `Implies` ($\\Rightarrow$) and `Iff` ($\\Leftrightarrow$).  The `Implies` operation has an `antecedent` and a `consequent`.  For example, in $A \\Rightarrow B$, $A$ is the `antecedent` and $B$ is the `consequent`.  If an implication is true and the `antecedent` is true (e.g., $A$), the `consequent` must also be true (e.g. $B$).  That is $B$ is true *if* $A$ is true.  `Iff` should be read \"if and only if\" and is defined to mean that the implication goes both ways.  That is $A \\Leftrightarrow B$ means $A \\Rightarrow B$ and $B \\Rightarrow A$."
   ]
  },
  {
   "cell_type": "code",
   "execution_count": null,
   "metadata": {},
   "outputs": [],
   "source": [
    "import proveit\n",
    "%theory"
   ]
  },
  {
   "cell_type": "code",
   "execution_count": null,
   "metadata": {},
   "outputs": [],
   "source": []
  }
 ],
 "metadata": {
  "kernelspec": {
   "display_name": "Python 3",
   "language": "python",
   "name": "python3"
  }
 },
 "nbformat": 4,
 "nbformat_minor": 0
}
