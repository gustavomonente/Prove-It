{
 "cells": [
  {
   "cell_type": "markdown",
   "metadata": {},
   "source": [
    "Proof of <a class=\"ProveItLink\" href=\"../../../../../../_theory_nbs_/theory.ipynb\">proveit</a>.<a class=\"ProveItLink\" href=\"../../../../../_theory_nbs_/theory.ipynb\">logic</a>.<a class=\"ProveItLink\" href=\"../../../../_theory_nbs_/theory.ipynb\">booleans</a>.<a class=\"ProveItLink\" href=\"../../theory.ipynb\">implication</a>.<a class=\"ProveItLink\" href=\"../../theorems.ipynb#false_antecedent_implication\">false_antecedent_implication</a> theorem\n",
    "========"
   ]
  },
  {
   "cell_type": "code",
   "execution_count": 1,
   "metadata": {},
   "outputs": [],
   "source": [
    "import proveit\n",
    "theory = proveit.Theory() # the theorem's theory\n",
    "from proveit import A, B\n",
    "from proveit.logic import Not, in_bool, FALSE"
   ]
  },
  {
   "cell_type": "code",
   "execution_count": 2,
   "metadata": {},
   "outputs": [
    {
     "data": {
      "text/html": [
       "Under these <a href=\"presumptions.txt\">presumptions</a>, we begin our proof of<br><strong id=\"false_antecedent_implication\">false_antecedent_implication:</strong> <a class=\"ProveItLink\" href=\"../../../__pv_it/theorems/1bd60d3adc70cbc13d2a53866fde1bdb4b2204bb0/expr.ipynb\"><img src=\"data:image/png;base64,iVBORw0KGgoAAAANSUhEUgAAAIcAAAAUBAMAAABVOzPUAAAAMFBMVEX///8QEBCIiIhmZma6urrM\n",
       "zMxUVFQiIiJERETc3Nzu7u6qqqp2dnaYmJgyMjIAAAAcRTyBAAAAAXRSTlMAQObYZgAAAetJREFU\n",
       "OMtjYMAP5jIQAjuB+AGIcReXCq4GEBmNS5oVqJttAgPDaRDnFS5VfBNA5Cac0h+A9gANmgFkczbg\n",
       "UnWZAa8h934BiUNAwxYwMPBswKWqEtMQjgkIz27+CSQXMjDwnlq1ajouMzgLMA1hRTibl+kLyE8O\n",
       "DAw/OjpqcBnCZIDFO5fhLC/uv0CSB6golYGhEyzUiWkIxwUUQ8zLQaDeAOYbB9ZPIPcAQ9YZHL5A\n",
       "9heoGx89LoaFEfsGbAG7DyrNwsD5GUhxA/3MzsAEtm8xyGmrD9syKByYuxWqnNEBmyFcDyHCYcZm\n",
       "P0CBBIxnngvsYKFTxUBXdM9awKCgwLMWryHTTkJooKQc1BDOB2HgQFfoAHkNCBQUfE9i947dOzB4\n",
       "CeFxA3EhyFegKOxMAQmxMZhD84CCsVwA9oCFAD8oPRuI30MDlmEzODHcZtBn4DKAuIR5KlQdD5Yo\n",
       "5nqFlIb6gSmP+QCQwa8Aknp8pn8Ba0VHRxMoTJigGkAuBcarYHl5GdwQNogzufr/LWDY8R8YkHwg\n",
       "AV5gwmdgXsAwP4AhAeISHmbUZI+aitEFlsNZvkAXXWA4CjbkAM8ZzNSJGxyCJ80fDJz9tQwcwNjg\n",
       "rXncdwFLbsNZ5DxAF9EAhglmoYQXEGEP4eLxJgMDAF8egzzH8tIFAAAAAElFTkSuQmCC\n",
       "\" style=\"display:inline;vertical-align:middle;\" /></a><br>(see <a class=\"ProveItLink\" href=\"../../../__pv_it/theorems/575a429c10a7a3d77d1937d6fe4618edafcb7c7b0/dependencies.ipynb\">dependencies</a>)<br>"
      ],
      "text/plain": [
       "false_antecedent_implication: forall_{A in BOOLEAN} (FALSE => A)"
      ]
     },
     "execution_count": 2,
     "metadata": {},
     "output_type": "execute_result"
    }
   ],
   "source": [
    "%proving false_antecedent_implication"
   ]
  },
  {
   "cell_type": "markdown",
   "metadata": {},
   "source": [
    "Prove $A$ assuming $\\bot$ via deriving a contradiction."
   ]
  },
  {
   "cell_type": "code",
   "execution_count": 3,
   "metadata": {},
   "outputs": [
    {
     "data": {
      "text/html": [
       "<strong id=\"F_assuming_F\">F_assuming_F:</strong> <span style=\"font-size:20px;\"><a class=\"ProveItLink\" href=\"../../../../__pv_it/common/bc5c31e39ae582b67c89fb24025b57f5b995e8890/expr.ipynb\"><img src=\"data:image/png;base64,iVBORw0KGgoAAAANSUhEUgAAAA4AAAAOBAMAAADtZjDiAAAAG1BMVEX///9UVFQQEBAiIiJmZmaI\n",
       "iIiqqqrMzMwAAADC2JlRAAAAAXRSTlMAQObYZgAAABlJREFUCNdjYGBgKGOAgFRa0s7GxkrGxoYA\n",
       "QSUGlQeagkgAAAAASUVORK5CYII=\n",
       "\" style=\"display:inline;vertical-align:middle;\" /></a> <a class=\"ProveItLink\" href=\"../../../__pv_it/_proof_false_antecedent_implication/791dd73599be02f91fc0a59cb1d0c3b3367a58460/proof.ipynb\" style=\"text-decoration: none\">&nbsp;&#x22A2;&nbsp;&nbsp;</a><a class=\"ProveItLink\" href=\"../../../../__pv_it/common/bc5c31e39ae582b67c89fb24025b57f5b995e8890/expr.ipynb\"><img src=\"data:image/png;base64,iVBORw0KGgoAAAANSUhEUgAAAA4AAAAOBAMAAADtZjDiAAAAG1BMVEX///9UVFQQEBAiIiJmZmaI\n",
       "iIiqqqrMzMwAAADC2JlRAAAAAXRSTlMAQObYZgAAABlJREFUCNdjYGBgKGOAgFRa0s7GxkrGxoYA\n",
       "QSUGlQeagkgAAAAASUVORK5CYII=\n",
       "\" style=\"display:inline;vertical-align:middle;\" /></a></span><br>"
      ],
      "text/plain": [
       "F_assuming_F: {FALSE} |- FALSE"
      ]
     },
     "execution_count": 3,
     "metadata": {},
     "output_type": "execute_result"
    }
   ],
   "source": [
    "F_assuming_F = FALSE.prove([FALSE])"
   ]
  },
  {
   "cell_type": "code",
   "execution_count": 4,
   "metadata": {},
   "outputs": [
    {
     "data": {
      "text/html": [
       "<strong id=\"not_a_impl_F\">not_a_impl_F:</strong> <span style=\"font-size:20px;\"><a class=\"ProveItLink\" href=\"../../../../__pv_it/common/bc5c31e39ae582b67c89fb24025b57f5b995e8890/expr.ipynb\"><img src=\"data:image/png;base64,iVBORw0KGgoAAAANSUhEUgAAAA4AAAAOBAMAAADtZjDiAAAAG1BMVEX///9UVFQQEBAiIiJmZmaI\n",
       "iIiqqqrMzMwAAADC2JlRAAAAAXRSTlMAQObYZgAAABlJREFUCNdjYGBgKGOAgFRa0s7GxkrGxoYA\n",
       "QSUGlQeagkgAAAAASUVORK5CYII=\n",
       "\" style=\"display:inline;vertical-align:middle;\" /></a> <a class=\"ProveItLink\" href=\"../../../__pv_it/_proof_false_antecedent_implication/b530771975f307abc3643633555665c618cf06220/proof.ipynb\" style=\"text-decoration: none\">&nbsp;&#x22A2;&nbsp;&nbsp;</a><a class=\"ProveItLink\" href=\"../../../__pv_it/axioms/fb3d24421475bb6a24c71c0f4a3c48c79e6494c50/expr.ipynb\"><img src=\"data:image/png;base64,iVBORw0KGgoAAAANSUhEUgAAAFsAAAAUBAMAAAAQFlwTAAAAMFBMVEX////MzMxUVFR2dna6uroQ\n",
       "EBCqqqqIiIgiIiJmZmYyMjJERETu7u6YmJjc3NwAAACgK8IjAAAAAXRSTlMAQObYZgAAAR9JREFU\n",
       "KM9jYOC7wIAK2B4w4AGnUXhSQKyHVR1jAphahyK4HohPYVXOVgAieScgi/GuP8DAwFyAWzkHikuP\n",
       "zQdyeQLgfO4HaMpfoBhxod4BSC5BOHgDmvJKZNUsB/JB4WSJELmJpnwvsvIjDPIgwVsg9owOEOif\n",
       "gKq8jYGBEyxhAOQ4MLwHSWcgmZCVgKI8BMrjUwC6VHOmPsix8kjKeZY64FLOwsDAugBN+SM7dMfA\n",
       "lQPt5QAFogdIYNYqMFiH3atA5XxA5VwfYF6FAC+0kIEHmgA4Crj/AYnJCJevQVPugUhr/9cwsO3/\n",
       "AQyahXAxJgEIDQy81oiODgW0RAAxsgHO5EOXQ01iYIA9iUHBPgyRU8RnD+wGIAGMzMeLJ/MBAEBh\n",
       "Ssfa69w/AAAAAElFTkSuQmCC\n",
       "\" style=\"display:inline;vertical-align:middle;\" /></a></span><br>"
      ],
      "text/plain": [
       "not_a_impl_F: {FALSE} |- not(A) => FALSE"
      ]
     },
     "execution_count": 4,
     "metadata": {},
     "output_type": "execute_result"
    }
   ],
   "source": [
    "not_a_impl_F = F_assuming_F.as_implication(Not(A))"
   ]
  },
  {
   "cell_type": "code",
   "execution_count": 5,
   "metadata": {},
   "outputs": [
    {
     "data": {
      "text/html": [
       "<strong id=\"A_via_contradiction\">A_via_contradiction:</strong> <span style=\"font-size:20px;\"><a class=\"ProveItLink\" href=\"../../../../__pv_it/theorems/ddc941563dffabdeb005429c2f934b2b6ccbeab10/expr.ipynb\"><img src=\"data:image/png;base64,iVBORw0KGgoAAAANSUhEUgAAADYAAAAPBAMAAABdHiGLAAAAMFBMVEX///92dnYiIiIQEBBERERU\n",
       "VFS6urqIiIjc3NxmZmaqqqru7u6YmJgyMjLMzMwAAADiRdoGAAAAAXRSTlMAQObYZgAAANdJREFU\n",
       "GNNjYACBtwwogF3Z5a9RGJRzH1WOgZevYMvOA2Amz/0NqHIsbAfYHziAmbvmN0DEeJyUdKFyXAsg\n",
       "cgfqE8A0n/sGuD7GbLAc24b1ELP3bkCYmfT0AYi1jeF9AVgoAmGf0X8zMCuBoX8CmOGA5BbGMwIg\n",
       "WyJnxoNF+WzvAgFUjsEhB2QdAwPzBZAIB7I+BgdWIGMBAwOTAVjIAFkugBeoGijH+wEsNB1F30EG\n",
       "hiYQ+wdYiGkBPMwEGCUDGLb8v83A5f8J7FDukGzMsIYBNhFImEEAAEUpOYcaSaDVAAAAAElFTkSu\n",
       "QmCC\n",
       "\" style=\"display:inline;vertical-align:middle;\" /></a>, <a class=\"ProveItLink\" href=\"../../../../__pv_it/common/bc5c31e39ae582b67c89fb24025b57f5b995e8890/expr.ipynb\"><img src=\"data:image/png;base64,iVBORw0KGgoAAAANSUhEUgAAAA4AAAAOBAMAAADtZjDiAAAAG1BMVEX///9UVFQQEBAiIiJmZmaI\n",
       "iIiqqqrMzMwAAADC2JlRAAAAAXRSTlMAQObYZgAAABlJREFUCNdjYGBgKGOAgFRa0s7GxkrGxoYA\n",
       "QSUGlQeagkgAAAAASUVORK5CYII=\n",
       "\" style=\"display:inline;vertical-align:middle;\" /></a> <a class=\"ProveItLink\" href=\"../../../__pv_it/_proof_false_antecedent_implication/aca072f71ab8c34f1c76b95d98fe75f8b85fcd620/proof.ipynb\" style=\"text-decoration: none\">&nbsp;&#x22A2;&nbsp;&nbsp;</a><a class=\"ProveItLink\" href=\"../../../../../../__pv_it/common/e4aad701f7f5516d8e7f0d805d518bf02c13322a0/expr.ipynb\"><img src=\"data:image/png;base64,iVBORw0KGgoAAAANSUhEUgAAAA8AAAAOBAMAAAACpFvcAAAALVBMVEX///8iIiIQEBBERERUVFS6\n",
       "urqIiIjc3NxmZmaqqqru7u6YmJgyMjLMzMwAAACK9jtgAAAAAXRSTlMAQObYZgAAAFtJREFUCNdj\n",
       "YACBOwxQcA5Kc59bAGGs7CuAMDbkBYBp1gXzNoAZSxnuJYAZAQx1DSCa16PDzwCshIGB6QCIMYGB\n",
       "gVEBSLMDGTwPgIxCIGZ+zsCw+N0pBk67hw0AfpEVEQi8t+wAAAAASUVORK5CYII=\n",
       "\" style=\"display:inline;vertical-align:middle;\" /></a></span><br>"
      ],
      "text/plain": [
       "A_via_contradiction: {A in BOOLEAN, FALSE} |- A"
      ]
     },
     "execution_count": 5,
     "metadata": {},
     "output_type": "execute_result"
    }
   ],
   "source": [
    "A_via_contradiction = not_a_impl_F.derive_via_contradiction([in_bool(A)])"
   ]
  },
  {
   "cell_type": "markdown",
   "metadata": {},
   "source": [
    "Now we can derive $\\bot \\Rightarrow A$ via Deduction."
   ]
  },
  {
   "cell_type": "code",
   "execution_count": 6,
   "metadata": {},
   "outputs": [
    {
     "data": {
      "text/html": [
       "<span style=\"font-size:20px;\"><a class=\"ProveItLink\" href=\"../../../../__pv_it/theorems/ddc941563dffabdeb005429c2f934b2b6ccbeab10/expr.ipynb\"><img src=\"data:image/png;base64,iVBORw0KGgoAAAANSUhEUgAAADYAAAAPBAMAAABdHiGLAAAAMFBMVEX///92dnYiIiIQEBBERERU\n",
       "VFS6urqIiIjc3NxmZmaqqqru7u6YmJgyMjLMzMwAAADiRdoGAAAAAXRSTlMAQObYZgAAANdJREFU\n",
       "GNNjYACBtwwogF3Z5a9RGJRzH1WOgZevYMvOA2Amz/0NqHIsbAfYHziAmbvmN0DEeJyUdKFyXAsg\n",
       "cgfqE8A0n/sGuD7GbLAc24b1ELP3bkCYmfT0AYi1jeF9AVgoAmGf0X8zMCuBoX8CmOGA5BbGMwIg\n",
       "WyJnxoNF+WzvAgFUjsEhB2QdAwPzBZAIB7I+BgdWIGMBAwOTAVjIAFkugBeoGijH+wEsNB1F30EG\n",
       "hiYQ+wdYiGkBPMwEGCUDGLb8v83A5f8J7FDukGzMsIYBNhFImEEAAEUpOYcaSaDVAAAAAElFTkSu\n",
       "QmCC\n",
       "\" style=\"display:inline;vertical-align:middle;\" /></a> <a class=\"ProveItLink\" href=\"../../../__pv_it/_proof_false_antecedent_implication/44d0cebb51d8fa27c30af3ab0f25de623460a6ca0/proof.ipynb\" style=\"text-decoration: none\">&nbsp;&#x22A2;&nbsp;&nbsp;</a><a class=\"ProveItLink\" href=\"../../../__pv_it/theorems/4745ec0007001dc26f421d88b08a1488a935e7520/expr.ipynb\"><img src=\"data:image/png;base64,iVBORw0KGgoAAAANSUhEUgAAAD4AAAAPBAMAAABOyWF/AAAAMFBMVEX///92dna6urru7u4yMjKY\n",
       "mJjc3NxERERUVFQQEBAiIiJmZmaIiIiqqqrMzMwAAACslU6QAAAAAXRSTlMAQObYZgAAAJxJREFU\n",
       "GNNjYGBgeMuAA/A5gKk7uORZPuCXD/mMKc+eAGcy3/6GKc9XAGey8nzCYn40nKXM+xVFftcqEFi/\n",
       "AWa8At8fbO67cgFCMzGw/cYmz+ypAKZf7N7xHZt8hhiEBqqagiK/xQUM3CA8XiBeiUW/CpTOBWJ/\n",
       "THlmZwjNtgBI1CeAPDVz1aoVcHmOBxBl9V8MGK7/X40R5myoXADJWzDd8m9CKAAAAABJRU5ErkJg\n",
       "gg==\n",
       "\" style=\"display:inline;vertical-align:middle;\" /></a></span>"
      ],
      "text/plain": [
       "{A in BOOLEAN} |- FALSE => A"
      ]
     },
     "execution_count": 6,
     "metadata": {},
     "output_type": "execute_result"
    }
   ],
   "source": [
    "A_via_contradiction.as_implication(FALSE)"
   ]
  },
  {
   "cell_type": "code",
   "execution_count": 7,
   "metadata": {},
   "outputs": [
    {
     "data": {
      "text/html": [
       "<table><tr><th>&nbsp;</th><th>step type</th><th>requirements</th><th>statement</th></tr>\n",
       "<tr><td><a name=\"0x513812850f95dee0_step0\">0</a></td><td>generalizaton</td><td><a href=\"#0x513812850f95dee0_step1\">1</a></td><td><span style=\"font-size:20px;\"> <a class=\"ProveItLink\" href=\"../../../__pv_it/_proof_false_antecedent_implication/9506d5222447ecfc48b9561ef3bc7db25d6cc6c40/proof.ipynb\" style=\"text-decoration: none\">&nbsp;&#x22A2;&nbsp;&nbsp;</a><a class=\"ProveItLink\" href=\"../../../__pv_it/theorems/1bd60d3adc70cbc13d2a53866fde1bdb4b2204bb0/expr.ipynb\"><img src=\"data:image/png;base64,iVBORw0KGgoAAAANSUhEUgAAAIcAAAAUBAMAAABVOzPUAAAAMFBMVEX///8QEBCIiIhmZma6urrM\n",
       "zMxUVFQiIiJERETc3Nzu7u6qqqp2dnaYmJgyMjIAAAAcRTyBAAAAAXRSTlMAQObYZgAAAetJREFU\n",
       "OMtjYMAP5jIQAjuB+AGIcReXCq4GEBmNS5oVqJttAgPDaRDnFS5VfBNA5Cac0h+A9gANmgFkczbg\n",
       "UnWZAa8h934BiUNAwxYwMPBswKWqEtMQjgkIz27+CSQXMjDwnlq1ajouMzgLMA1hRTibl+kLyE8O\n",
       "DAw/OjpqcBnCZIDFO5fhLC/uv0CSB6golYGhEyzUiWkIxwUUQ8zLQaDeAOYbB9ZPIPcAQ9YZHL5A\n",
       "9heoGx89LoaFEfsGbAG7DyrNwsD5GUhxA/3MzsAEtm8xyGmrD9syKByYuxWqnNEBmyFcDyHCYcZm\n",
       "P0CBBIxnngvsYKFTxUBXdM9awKCgwLMWryHTTkJooKQc1BDOB2HgQFfoAHkNCBQUfE9i947dOzB4\n",
       "CeFxA3EhyFegKOxMAQmxMZhD84CCsVwA9oCFAD8oPRuI30MDlmEzODHcZtBn4DKAuIR5KlQdD5Yo\n",
       "5nqFlIb6gSmP+QCQwa8Aknp8pn8Ba0VHRxMoTJigGkAuBcarYHl5GdwQNogzufr/LWDY8R8YkHwg\n",
       "AV5gwmdgXsAwP4AhAeISHmbUZI+aitEFlsNZvkAXXWA4CjbkAM8ZzNSJGxyCJ80fDJz9tQwcwNjg\n",
       "rXncdwFLbsNZ5DxAF9EAhglmoYQXEGEP4eLxJgMDAF8egzzH8tIFAAAAAElFTkSuQmCC\n",
       "\" style=\"display:inline;vertical-align:middle;\" /></a></span></td></tr>\n",
       "<tr><td><a name=\"0x513812850f95dee0_step1\">1</a></td><td>deduction</td><td><a href=\"#0x513812850f95dee0_step2\">2</a></td><td><span style=\"font-size:20px;\"><a class=\"ProveItLink\" href=\"../../../../__pv_it/theorems/ddc941563dffabdeb005429c2f934b2b6ccbeab10/expr.ipynb\"><img src=\"data:image/png;base64,iVBORw0KGgoAAAANSUhEUgAAADYAAAAPBAMAAABdHiGLAAAAMFBMVEX///92dnYiIiIQEBBERERU\n",
       "VFS6urqIiIjc3NxmZmaqqqru7u6YmJgyMjLMzMwAAADiRdoGAAAAAXRSTlMAQObYZgAAANdJREFU\n",
       "GNNjYACBtwwogF3Z5a9RGJRzH1WOgZevYMvOA2Amz/0NqHIsbAfYHziAmbvmN0DEeJyUdKFyXAsg\n",
       "cgfqE8A0n/sGuD7GbLAc24b1ELP3bkCYmfT0AYi1jeF9AVgoAmGf0X8zMCuBoX8CmOGA5BbGMwIg\n",
       "WyJnxoNF+WzvAgFUjsEhB2QdAwPzBZAIB7I+BgdWIGMBAwOTAVjIAFkugBeoGijH+wEsNB1F30EG\n",
       "hiYQ+wdYiGkBPMwEGCUDGLb8v83A5f8J7FDukGzMsIYBNhFImEEAAEUpOYcaSaDVAAAAAElFTkSu\n",
       "QmCC\n",
       "\" style=\"display:inline;vertical-align:middle;\" /></a> <a class=\"ProveItLink\" href=\"../../../__pv_it/_proof_false_antecedent_implication/44d0cebb51d8fa27c30af3ab0f25de623460a6ca0/proof.ipynb\" style=\"text-decoration: none\">&nbsp;&#x22A2;&nbsp;&nbsp;</a><a class=\"ProveItLink\" href=\"../../../__pv_it/theorems/4745ec0007001dc26f421d88b08a1488a935e7520/expr.ipynb\"><img src=\"data:image/png;base64,iVBORw0KGgoAAAANSUhEUgAAAD4AAAAPBAMAAABOyWF/AAAAMFBMVEX///92dna6urru7u4yMjKY\n",
       "mJjc3NxERERUVFQQEBAiIiJmZmaIiIiqqqrMzMwAAACslU6QAAAAAXRSTlMAQObYZgAAAJxJREFU\n",
       "GNNjYGBgeMuAA/A5gKk7uORZPuCXD/mMKc+eAGcy3/6GKc9XAGey8nzCYn40nKXM+xVFftcqEFi/\n",
       "AWa8At8fbO67cgFCMzGw/cYmz+ypAKZf7N7xHZt8hhiEBqqagiK/xQUM3CA8XiBeiUW/CpTOBWJ/\n",
       "THlmZwjNtgBI1CeAPDVz1aoVcHmOBxBl9V8MGK7/X40R5myoXADJWzDd8m9CKAAAAABJRU5ErkJg\n",
       "gg==\n",
       "\" style=\"display:inline;vertical-align:middle;\" /></a></span></td></tr>\n",
       "<tr><td><a name=\"0x513812850f95dee0_step2\">2</a></td><td>instantiation</td><td><a href=\"#0x513812850f95dee0_step3\">3</a>, <a href=\"#0x513812850f95dee0_step4\">4</a>, <a href=\"#0x513812850f95dee0_step5\">5</a></td><td><span style=\"font-size:20px;\"><a class=\"ProveItLink\" href=\"../../../../__pv_it/theorems/ddc941563dffabdeb005429c2f934b2b6ccbeab10/expr.ipynb\"><img src=\"data:image/png;base64,iVBORw0KGgoAAAANSUhEUgAAADYAAAAPBAMAAABdHiGLAAAAMFBMVEX///92dnYiIiIQEBBERERU\n",
       "VFS6urqIiIjc3NxmZmaqqqru7u6YmJgyMjLMzMwAAADiRdoGAAAAAXRSTlMAQObYZgAAANdJREFU\n",
       "GNNjYACBtwwogF3Z5a9RGJRzH1WOgZevYMvOA2Amz/0NqHIsbAfYHziAmbvmN0DEeJyUdKFyXAsg\n",
       "cgfqE8A0n/sGuD7GbLAc24b1ELP3bkCYmfT0AYi1jeF9AVgoAmGf0X8zMCuBoX8CmOGA5BbGMwIg\n",
       "WyJnxoNF+WzvAgFUjsEhB2QdAwPzBZAIB7I+BgdWIGMBAwOTAVjIAFkugBeoGijH+wEsNB1F30EG\n",
       "hiYQ+wdYiGkBPMwEGCUDGLb8v83A5f8J7FDukGzMsIYBNhFImEEAAEUpOYcaSaDVAAAAAElFTkSu\n",
       "QmCC\n",
       "\" style=\"display:inline;vertical-align:middle;\" /></a>, <a class=\"ProveItLink\" href=\"../../../../__pv_it/common/bc5c31e39ae582b67c89fb24025b57f5b995e8890/expr.ipynb\"><img src=\"data:image/png;base64,iVBORw0KGgoAAAANSUhEUgAAAA4AAAAOBAMAAADtZjDiAAAAG1BMVEX///9UVFQQEBAiIiJmZmaI\n",
       "iIiqqqrMzMwAAADC2JlRAAAAAXRSTlMAQObYZgAAABlJREFUCNdjYGBgKGOAgFRa0s7GxkrGxoYA\n",
       "QSUGlQeagkgAAAAASUVORK5CYII=\n",
       "\" style=\"display:inline;vertical-align:middle;\" /></a> <a class=\"ProveItLink\" href=\"../../../__pv_it/_proof_false_antecedent_implication/aca072f71ab8c34f1c76b95d98fe75f8b85fcd620/proof.ipynb\" style=\"text-decoration: none\">&nbsp;&#x22A2;&nbsp;&nbsp;</a><a class=\"ProveItLink\" href=\"../../../../../../__pv_it/common/e4aad701f7f5516d8e7f0d805d518bf02c13322a0/expr.ipynb\"><img src=\"data:image/png;base64,iVBORw0KGgoAAAANSUhEUgAAAA8AAAAOBAMAAAACpFvcAAAALVBMVEX///8iIiIQEBBERERUVFS6\n",
       "urqIiIjc3NxmZmaqqqru7u6YmJgyMjLMzMwAAACK9jtgAAAAAXRSTlMAQObYZgAAAFtJREFUCNdj\n",
       "YACBOwxQcA5Kc59bAGGs7CuAMDbkBYBp1gXzNoAZSxnuJYAZAQx1DSCa16PDzwCshIGB6QCIMYGB\n",
       "gVEBSLMDGTwPgIxCIGZ+zsCw+N0pBk67hw0AfpEVEQi8t+wAAAAASUVORK5CYII=\n",
       "\" style=\"display:inline;vertical-align:middle;\" /></a></span></td></tr>\n",
       "<tr><td>&nbsp;</td><td colspan=4 style=\"text-align:left\"><span style=\"font-size:20px;\"><a class=\"ProveItLink\" href=\"../../../../../../__pv_it/common/e4aad701f7f5516d8e7f0d805d518bf02c13322a0/expr.ipynb\"><img src=\"data:image/png;base64,iVBORw0KGgoAAAANSUhEUgAAAA8AAAAOBAMAAAACpFvcAAAALVBMVEX///8iIiIQEBBERERUVFS6\n",
       "urqIiIjc3NxmZmaqqqru7u6YmJgyMjLMzMwAAACK9jtgAAAAAXRSTlMAQObYZgAAAFtJREFUCNdj\n",
       "YACBOwxQcA5Kc59bAGGs7CuAMDbkBYBp1gXzNoAZSxnuJYAZAQx1DSCa16PDzwCshIGB6QCIMYGB\n",
       "gVEBSLMDGTwPgIxCIGZ+zsCw+N0pBk67hw0AfpEVEQi8t+wAAAAASUVORK5CYII=\n",
       "\" style=\"display:inline;vertical-align:middle;\" /></a> : <a class=\"ProveItLink\" href=\"../../../../../../__pv_it/common/e4aad701f7f5516d8e7f0d805d518bf02c13322a0/expr.ipynb\"><img src=\"data:image/png;base64,iVBORw0KGgoAAAANSUhEUgAAAA8AAAAOBAMAAAACpFvcAAAALVBMVEX///8iIiIQEBBERERUVFS6\n",
       "urqIiIjc3NxmZmaqqqru7u6YmJgyMjLMzMwAAACK9jtgAAAAAXRSTlMAQObYZgAAAFtJREFUCNdj\n",
       "YACBOwxQcA5Kc59bAGGs7CuAMDbkBYBp1gXzNoAZSxnuJYAZAQx1DSCa16PDzwCshIGB6QCIMYGB\n",
       "gVEBSLMDGTwPgIxCIGZ+zsCw+N0pBk67hw0AfpEVEQi8t+wAAAAASUVORK5CYII=\n",
       "\" style=\"display:inline;vertical-align:middle;\" /></a></span></td></tr><tr><td><a name=\"0x513812850f95dee0_step3\">3</a></td><td>axiom</td><td></td><td><span style=\"font-size:20px;\"> <a class=\"ProveItLink\" href=\"../../axioms.ipynb#affirmation_via_contradiction\" style=\"text-decoration: none\">&nbsp;&#x22A2;&nbsp;&nbsp;</a><a class=\"ProveItLink\" href=\"../../../__pv_it/axioms/9e7a6331c6ade13bf7d90f7a7ea3d6b56d49f7550/expr.ipynb\"><img src=\"data:image/png;base64,iVBORw0KGgoAAAANSUhEUgAAAJkAAAAWBAMAAAAhlCOEAAAAMFBMVEX///8QEBCIiIhmZma6urrM\n",
       "zMxUVFQiIiJERETc3Nzu7u6qqqp2dnaYmJgyMjIAAAAcRTyBAAAAAXRSTlMAQObYZgAAAidJREFU\n",
       "OMutlE9o1EAUxj832W6SZqsHD55kwIso0oUVBFG6IIiXwuLBk+hCrVcLvYhUWDxNsXRzUYsgDVZQ\n",
       "IkrBP+BBXBCh1h5yV7G4J3upB6VVEH1vZk0mi12wZGAyf/K9X2a+vBkg17LKj495kM5RfcedtTxo\n",
       "61TnqLrNHGDl9RAYouov5kB7OBIQcjmKbuWx0Xi4Rs9NKaf6ylxzUN9KZYevYmrGgWk1nu4V1HTT\n",
       "TiacAE+3ot3DeUHNCXgqS8rfum5+7kxqH/W/GQiSiE81WIGJaJifnq9QU0KBl4iFX2zl6+MQ7TvP\n",
       "DNrZJMAbieE1TFqaC8Wx6iUe+XFJjZcnaV3Xb4cQwn9kaMeTCP8+ff2L6r7spdnADt6iu3pGwYXk\n",
       "XVMRYvStoZ1IIk47NHPI3H5KI29Ku5T7F9R7HOkeM1HdW0+1bkprWNR/jiUp5ezuLM0l2tBX7j1R\n",
       "+vcYhlfRa7NupFq7CZ/DyYbFAulP6fDC4QyNM9b5wb2d/Ge9zkorLF6W8hr7VjBo2vYB4PGxpZ/6\n",
       "bLP+YmjQHvxew2BrgxdT5nkrxHxd/3GiWSmt2PxLOwr3O3AS+6pUxsKsb9kySmuM8UbR2v5KSvMm\n",
       "ujSb8oiS6AO8KIruCvShOZtwW1fhkJnlqc5sbGivdI9Xq4m5jRjKL9zkhJFyj5zpdyb3k289uXnw\n",
       "H7crgv+/FTTNycwNxtu9YzTNzsQvbPvGqujmhTl3oG/EH4NyiW+J0iaOAAAAAElFTkSuQmCC\n",
       "\" style=\"display:inline;vertical-align:middle;\" /></a></span></td></tr>\n",
       "<tr><td>&nbsp;</td><td colspan=4 style-\"text-align:left\"><a class=\"ProveItLink\" href=\"../../axioms.ipynb#affirmation_via_contradiction\">proveit.logic.booleans.implication.affirmation_via_contradiction</a></td></tr><tr><td><a name=\"0x513812850f95dee0_step4\">4</a></td><td>assumption</td><td></td><td><span style=\"font-size:20px;\"><a class=\"ProveItLink\" href=\"../../../../__pv_it/theorems/ddc941563dffabdeb005429c2f934b2b6ccbeab10/expr.ipynb\"><img src=\"data:image/png;base64,iVBORw0KGgoAAAANSUhEUgAAADYAAAAPBAMAAABdHiGLAAAAMFBMVEX///92dnYiIiIQEBBERERU\n",
       "VFS6urqIiIjc3NxmZmaqqqru7u6YmJgyMjLMzMwAAADiRdoGAAAAAXRSTlMAQObYZgAAANdJREFU\n",
       "GNNjYACBtwwogF3Z5a9RGJRzH1WOgZevYMvOA2Amz/0NqHIsbAfYHziAmbvmN0DEeJyUdKFyXAsg\n",
       "cgfqE8A0n/sGuD7GbLAc24b1ELP3bkCYmfT0AYi1jeF9AVgoAmGf0X8zMCuBoX8CmOGA5BbGMwIg\n",
       "WyJnxoNF+WzvAgFUjsEhB2QdAwPzBZAIB7I+BgdWIGMBAwOTAVjIAFkugBeoGijH+wEsNB1F30EG\n",
       "hiYQ+wdYiGkBPMwEGCUDGLb8v83A5f8J7FDukGzMsIYBNhFImEEAAEUpOYcaSaDVAAAAAElFTkSu\n",
       "QmCC\n",
       "\" style=\"display:inline;vertical-align:middle;\" /></a> <a class=\"ProveItLink\" href=\"../../../__pv_it/_proof_false_antecedent_implication/ffe630cba69647b289a059df2ac47e68690f7f930/proof.ipynb\" style=\"text-decoration: none\">&nbsp;&#x22A2;&nbsp;&nbsp;</a><a class=\"ProveItLink\" href=\"../../../../__pv_it/theorems/ddc941563dffabdeb005429c2f934b2b6ccbeab10/expr.ipynb\"><img src=\"data:image/png;base64,iVBORw0KGgoAAAANSUhEUgAAADYAAAAPBAMAAABdHiGLAAAAMFBMVEX///92dnYiIiIQEBBERERU\n",
       "VFS6urqIiIjc3NxmZmaqqqru7u6YmJgyMjLMzMwAAADiRdoGAAAAAXRSTlMAQObYZgAAANdJREFU\n",
       "GNNjYACBtwwogF3Z5a9RGJRzH1WOgZevYMvOA2Amz/0NqHIsbAfYHziAmbvmN0DEeJyUdKFyXAsg\n",
       "cgfqE8A0n/sGuD7GbLAc24b1ELP3bkCYmfT0AYi1jeF9AVgoAmGf0X8zMCuBoX8CmOGA5BbGMwIg\n",
       "WyJnxoNF+WzvAgFUjsEhB2QdAwPzBZAIB7I+BgdWIGMBAwOTAVjIAFkugBeoGijH+wEsNB1F30EG\n",
       "hiYQ+wdYiGkBPMwEGCUDGLb8v83A5f8J7FDukGzMsIYBNhFImEEAAEUpOYcaSaDVAAAAAElFTkSu\n",
       "QmCC\n",
       "\" style=\"display:inline;vertical-align:middle;\" /></a></span></td></tr>\n",
       "<tr><td><a name=\"0x513812850f95dee0_step5\">5</a></td><td>deduction</td><td><a href=\"#0x513812850f95dee0_step6\">6</a></td><td><span style=\"font-size:20px;\"><a class=\"ProveItLink\" href=\"../../../../__pv_it/common/bc5c31e39ae582b67c89fb24025b57f5b995e8890/expr.ipynb\"><img src=\"data:image/png;base64,iVBORw0KGgoAAAANSUhEUgAAAA4AAAAOBAMAAADtZjDiAAAAG1BMVEX///9UVFQQEBAiIiJmZmaI\n",
       "iIiqqqrMzMwAAADC2JlRAAAAAXRSTlMAQObYZgAAABlJREFUCNdjYGBgKGOAgFRa0s7GxkrGxoYA\n",
       "QSUGlQeagkgAAAAASUVORK5CYII=\n",
       "\" style=\"display:inline;vertical-align:middle;\" /></a> <a class=\"ProveItLink\" href=\"../../../__pv_it/_proof_false_antecedent_implication/b530771975f307abc3643633555665c618cf06220/proof.ipynb\" style=\"text-decoration: none\">&nbsp;&#x22A2;&nbsp;&nbsp;</a><a class=\"ProveItLink\" href=\"../../../__pv_it/axioms/fb3d24421475bb6a24c71c0f4a3c48c79e6494c50/expr.ipynb\"><img src=\"data:image/png;base64,iVBORw0KGgoAAAANSUhEUgAAAFsAAAAUBAMAAAAQFlwTAAAAMFBMVEX////MzMxUVFR2dna6uroQ\n",
       "EBCqqqqIiIgiIiJmZmYyMjJERETu7u6YmJjc3NwAAACgK8IjAAAAAXRSTlMAQObYZgAAAR9JREFU\n",
       "KM9jYOC7wIAK2B4w4AGnUXhSQKyHVR1jAphahyK4HohPYVXOVgAieScgi/GuP8DAwFyAWzkHikuP\n",
       "zQdyeQLgfO4HaMpfoBhxod4BSC5BOHgDmvJKZNUsB/JB4WSJELmJpnwvsvIjDPIgwVsg9owOEOif\n",
       "gKq8jYGBEyxhAOQ4MLwHSWcgmZCVgKI8BMrjUwC6VHOmPsix8kjKeZY64FLOwsDAugBN+SM7dMfA\n",
       "lQPt5QAFogdIYNYqMFiH3atA5XxA5VwfYF6FAC+0kIEHmgA4Crj/AYnJCJevQVPugUhr/9cwsO3/\n",
       "AQyahXAxJgEIDQy81oiODgW0RAAxsgHO5EOXQ01iYIA9iUHBPgyRU8RnD+wGIAGMzMeLJ/MBAEBh\n",
       "Ssfa69w/AAAAAElFTkSuQmCC\n",
       "\" style=\"display:inline;vertical-align:middle;\" /></a></span></td></tr>\n",
       "<tr><td><a name=\"0x513812850f95dee0_step6\">6</a></td><td>assumption</td><td></td><td><span style=\"font-size:20px;\"><a class=\"ProveItLink\" href=\"../../../../__pv_it/common/bc5c31e39ae582b67c89fb24025b57f5b995e8890/expr.ipynb\"><img src=\"data:image/png;base64,iVBORw0KGgoAAAANSUhEUgAAAA4AAAAOBAMAAADtZjDiAAAAG1BMVEX///9UVFQQEBAiIiJmZmaI\n",
       "iIiqqqrMzMwAAADC2JlRAAAAAXRSTlMAQObYZgAAABlJREFUCNdjYGBgKGOAgFRa0s7GxkrGxoYA\n",
       "QSUGlQeagkgAAAAASUVORK5CYII=\n",
       "\" style=\"display:inline;vertical-align:middle;\" /></a> <a class=\"ProveItLink\" href=\"../../../__pv_it/_proof_false_antecedent_implication/791dd73599be02f91fc0a59cb1d0c3b3367a58460/proof.ipynb\" style=\"text-decoration: none\">&nbsp;&#x22A2;&nbsp;&nbsp;</a><a class=\"ProveItLink\" href=\"../../../../__pv_it/common/bc5c31e39ae582b67c89fb24025b57f5b995e8890/expr.ipynb\"><img src=\"data:image/png;base64,iVBORw0KGgoAAAANSUhEUgAAAA4AAAAOBAMAAADtZjDiAAAAG1BMVEX///9UVFQQEBAiIiJmZmaI\n",
       "iIiqqqrMzMwAAADC2JlRAAAAAXRSTlMAQObYZgAAABlJREFUCNdjYGBgKGOAgFRa0s7GxkrGxoYA\n",
       "QSUGlQeagkgAAAAASUVORK5CYII=\n",
       "\" style=\"display:inline;vertical-align:middle;\" /></a></span></td></tr>\n",
       "</table>"
      ],
      "text/plain": [
       "\tstep type\trequirements\tstatement\n",
       "0\tgeneralizaton\t1\t|- forall_{A in BOOLEAN} (FALSE => A)\n",
       "1\tdeduction\t2\t{A in BOOLEAN} |- FALSE => A\n",
       "2\tinstantiation\t3, 4, 5\t{A in BOOLEAN, FALSE} |- A\n",
       "\tA : A\n",
       "3\taxiom\t\t|- forall_{A in BOOLEAN | not(A) => FALSE} A\n",
       "\tproveit.logic.booleans.implication.affirmation_via_contradiction\n",
       "4\tassumption\t\t{A in BOOLEAN} |- A in BOOLEAN\n",
       "5\tdeduction\t6\t{FALSE} |- not(A) => FALSE\n",
       "6\tassumption\t\t{FALSE} |- FALSE"
      ]
     },
     "execution_count": 7,
     "metadata": {},
     "output_type": "execute_result"
    }
   ],
   "source": [
    "%qed"
   ]
  },
  {
   "cell_type": "code",
   "execution_count": null,
   "metadata": {},
   "outputs": [],
   "source": []
  }
 ],
 "metadata": {
  "kernelspec": {
   "display_name": "Python 3",
   "language": "python",
   "name": "python3"
  }
 },
 "nbformat": 4,
 "nbformat_minor": 0
}