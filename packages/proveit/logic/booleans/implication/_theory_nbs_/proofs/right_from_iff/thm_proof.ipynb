{
 "cells": [
  {
   "cell_type": "markdown",
   "metadata": {},
   "source": [
    "Proof of <a class=\"ProveItLink\" href=\"../../../../../../_theory_nbs_/theory.ipynb\">proveit</a>.<a class=\"ProveItLink\" href=\"../../../../../_theory_nbs_/theory.ipynb\">logic</a>.<a class=\"ProveItLink\" href=\"../../../../_theory_nbs_/theory.ipynb\">booleans</a>.<a class=\"ProveItLink\" href=\"../../theory.ipynb\">implication</a>.<a class=\"ProveItLink\" href=\"../../theorems.ipynb#right_from_iff\">right_from_iff</a> theorem\n",
    "========"
   ]
  },
  {
   "cell_type": "code",
   "execution_count": 1,
   "metadata": {},
   "outputs": [],
   "source": [
    "import proveit\n",
    "theory = proveit.Theory() # the theorem's theory"
   ]
  },
  {
   "cell_type": "code",
   "execution_count": 2,
   "metadata": {},
   "outputs": [
    {
     "data": {
      "text/html": [
       "Under these <a href=\"presumptions.txt\">presumptions</a>, we begin our proof of<br><strong id=\"right_from_iff\">right_from_iff:</strong> <a class=\"ProveItLink\" href=\"../../../__pv_it/theorems/9ce85ea01b11cbe001452b4f198a74fa70aaffaf0/expr.ipynb\"><img src=\"data:image/png;base64,iVBORw0KGgoAAAANSUhEUgAAAJEAAAAWBAMAAAAyQ2NwAAAAMFBMVEX///8QEBCIiIhmZma6urrM\n",
       "zMxUVFQiIiJERETc3Nzu7u6qqqp2dnaYmJgyMjIAAAAcRTyBAAAAAXRSTlMAQObYZgAAAgdJREFU\n",
       "OMutlD1IG2EYx/+9y9clOXWrRYdsSqFVCCgUQaFLB0vSDnY0oELaoS10rEIEh0sRc5sZBKMOlRs0\n",
       "4OTs0KJSbi9iRBedpNpULdK+7/Pm41EJKOczvPfck9/983zdAfdmJXnseFEwP5Tj6SlgS94ceUrm\n",
       "QQboTyIvXCPjSWnYBRLdaCoA0aInpS4b2I3B3HScWW+tngTCD0VCZ5Y17k2pDLx5J65jQJYC6nxx\n",
       "spG2peOrgiG74mTZ0zUM8Jd3Oj9L5znCtAnmqZppC6ItJFB9aHegMu1TPvoqBmjnwEJKOEForgws\n",
       "XVJcTyFywZXC/a5yKgCuYgIUitpf4UTdIAU2P9ElGINe4krRr92oA0vA3BUMaBb5aL/kMpWGqNqY\n",
       "RfHVJJ4WuNLrkNo2BbwV6SQ5ptYpQJVnR+UZQC/FE086U+BKKf0jaoDealkzjzim1mmY/m2NyJ/o\n",
       "ovgPoIMrmUXtGFXAN0U9eswwYE/MuZXya47Jvu5v5+huGpgvMqWVvu/UWQIClIfvgGF4/2+kx1Ku\n",
       "KRX0AuZl/RBDSNhM6RmM36gB+biwaY7dsJciN9f4AuMCRjurzifaeYl8QQEIHzrOoqihjl230BmM\n",
       "3IS/Dd9O4ukBppTLIP/HfVVUADAILItwHWtgES7Of6h9LPyAc5t3cb2BUsS+61vtNlAyPX0r9Dvy\n",
       "/wG5fI2gbSsnrAAAAABJRU5ErkJggg==\n",
       "\" style=\"display:inline;vertical-align:middle;\" /></a><br>(see <a class=\"ProveItLink\" href=\"../../../__pv_it/theorems/a020edb296f4de13bd1d87dbd8c55d4a2156b39f0/dependencies.ipynb\">dependencies</a>)<br>"
      ],
      "text/plain": [
       "right_from_iff: forall_{A, B | A, A <=> B} B"
      ]
     },
     "execution_count": 2,
     "metadata": {},
     "output_type": "execute_result"
    }
   ],
   "source": [
    "%proving right_from_iff"
   ]
  },
  {
   "cell_type": "code",
   "execution_count": 3,
   "metadata": {},
   "outputs": [
    {
     "data": {
      "text/html": [
       "<table><tr><th>&nbsp;</th><th>step type</th><th>requirements</th><th>statement</th></tr>\n",
       "<tr><td><a name=\"0x5b2adb5e010edcb9_step0\">0</a></td><td>generalizaton</td><td><a href=\"#0x5b2adb5e010edcb9_step1\">1</a></td><td><span style=\"font-size:20px;\"> <a class=\"ProveItLink\" href=\"../../../__pv_it/_proof_right_from_iff/6acc832c587f6af4c9317dc96b0252e15e2aeec60/proof.ipynb\" style=\"text-decoration: none\">&nbsp;&#x22A2;&nbsp;&nbsp;</a><a class=\"ProveItLink\" href=\"../../../__pv_it/theorems/9ce85ea01b11cbe001452b4f198a74fa70aaffaf0/expr.ipynb\"><img src=\"data:image/png;base64,iVBORw0KGgoAAAANSUhEUgAAAJEAAAAWBAMAAAAyQ2NwAAAAMFBMVEX///8QEBCIiIhmZma6urrM\n",
       "zMxUVFQiIiJERETc3Nzu7u6qqqp2dnaYmJgyMjIAAAAcRTyBAAAAAXRSTlMAQObYZgAAAgdJREFU\n",
       "OMutlD1IG2EYx/+9y9clOXWrRYdsSqFVCCgUQaFLB0vSDnY0oELaoS10rEIEh0sRc5sZBKMOlRs0\n",
       "4OTs0KJSbi9iRBedpNpULdK+7/Pm41EJKOczvPfck9/983zdAfdmJXnseFEwP5Tj6SlgS94ceUrm\n",
       "QQboTyIvXCPjSWnYBRLdaCoA0aInpS4b2I3B3HScWW+tngTCD0VCZ5Y17k2pDLx5J65jQJYC6nxx\n",
       "spG2peOrgiG74mTZ0zUM8Jd3Oj9L5znCtAnmqZppC6ItJFB9aHegMu1TPvoqBmjnwEJKOEForgws\n",
       "XVJcTyFywZXC/a5yKgCuYgIUitpf4UTdIAU2P9ElGINe4krRr92oA0vA3BUMaBb5aL/kMpWGqNqY\n",
       "RfHVJJ4WuNLrkNo2BbwV6SQ5ptYpQJVnR+UZQC/FE086U+BKKf0jaoDealkzjzim1mmY/m2NyJ/o\n",
       "ovgPoIMrmUXtGFXAN0U9eswwYE/MuZXya47Jvu5v5+huGpgvMqWVvu/UWQIClIfvgGF4/2+kx1Ku\n",
       "KRX0AuZl/RBDSNhM6RmM36gB+biwaY7dsJciN9f4AuMCRjurzifaeYl8QQEIHzrOoqihjl230BmM\n",
       "3IS/Dd9O4ukBppTLIP/HfVVUADAILItwHWtgES7Of6h9LPyAc5t3cb2BUsS+61vtNlAyPX0r9Dvy\n",
       "/wG5fI2gbSsnrAAAAABJRU5ErkJggg==\n",
       "\" style=\"display:inline;vertical-align:middle;\" /></a></span></td></tr>\n",
       "<tr><td><a name=\"0x5b2adb5e010edcb9_step1\">1</a></td><td>modus ponens</td><td><a href=\"#0x5b2adb5e010edcb9_step2\">2</a>, <a href=\"#0x5b2adb5e010edcb9_step3\">3</a></td><td><span style=\"font-size:20px;\"><a class=\"ProveItLink\" href=\"../../../../../../__pv_it/common/09585084922504426caf1db2ff588a23a0932a960/expr.ipynb\"><img src=\"data:image/png;base64,iVBORw0KGgoAAAANSUhEUgAAAA8AAAAOBAMAAAACpFvcAAAALVBMVEX///8iIiIQEBBERERUVFS6\n",
       "urqIiIjc3NxmZmaqqqru7u6YmJgyMjLMzMwAAACK9jtgAAAAAXRSTlMAQObYZgAAAFtJREFUCNdj\n",
       "YACBOwxQcA5Kc59bAGGs7CuAMDbkBYBp1gXzNoAZSxnuJYAZAQx1DSCa16PDzwCshIGB6QCIMYGB\n",
       "gVEBSLMDGTwPgIxCIGZ+zsCw+N0pBk67hw0AfpEVEQi8t+wAAAAASUVORK5CYII=\n",
       "\" style=\"display:inline;vertical-align:middle;\" /></a>, <a class=\"ProveItLink\" href=\"../../../__pv_it/theorems/e95e5f69263d4c6cfbc6bb3b223a4060b72917d60/expr.ipynb\"><img src=\"data:image/png;base64,iVBORw0KGgoAAAANSUhEUgAAAEAAAAAPBAMAAACmSdRUAAAAMFBMVEX///92dnYiIiIQEBBERERU\n",
       "VFS6urqIiIjc3NxmZmaqqqru7u6YmJgyMjLMzMwAAADiRdoGAAAAAXRSTlMAQObYZgAAAQpJREFU\n",
       "GNNjYACBtwxYwNH/kVNdEiDs+9gUMJgwMHD+A7N47m/AIs/3h4GB7SeYuWt+A1TwAlA8AMpm/wHU\n",
       "+h3MPFAPtYr9AJDwgypgMWBg2KwNYrFtWH8AIvYEROyF2scfwMCnCmZvY3hfALHVWAkIlG9DFLyP\n",
       "Oe60AMxKYOifAGaUQvQ+gQjXNzBwm4L1Rc6MdwAxNsGcpwImnUGKQGrZGBiYL4BEOAIh8lsFwNRX\n",
       "kAKQ3UBFTAaQ8NC9CwJ68GBgiAd6jwOogPcDRO9JsC8a4MHA9wXIaAJ5+QdEASsoPGZB2LxAU5O9\n",
       "GRi2/L/NwOX/CeINbqBbOBwgau9/nRnihRH+QNO5UeMFAE9FRwBt4bk1AAAAAElFTkSuQmCC\n",
       "\" style=\"display:inline;vertical-align:middle;\" /></a> <a class=\"ProveItLink\" href=\"../../../__pv_it/_proof_right_from_iff/29a884850ff1ae686e26f59ab69551656b4bd9230/proof.ipynb\" style=\"text-decoration: none\">&nbsp;&#x22A2;&nbsp;&nbsp;</a><a class=\"ProveItLink\" href=\"../../../../../../__pv_it/common/a9162d1c3cc0470c02e5daf414500903a7a419230/expr.ipynb\"><img src=\"data:image/png;base64,iVBORw0KGgoAAAANSUhEUgAAABAAAAAOBAMAAADUAYG5AAAALVBMVEX///8yMjKqqqoiIiLu7u7c\n",
       "3NyIiIjMzMwQEBC6urpERERmZmZUVFSYmJgAAACsPVCVAAAAAXRSTlMAQObYZgAAAGxJREFUCNdj\n",
       "YGC48+70nlUTGICgi4GB+zmQZn/LwMD5Gshge8rAwPsMyOBqYGDwMAEy+A4wsNs4ABl1Z68tVgBp\n",
       "ygtgYOkBMVaAOCChNyBGAsQYhnMTIMawvwJyGIHGzFjCwMAj92b3qUUMDAAXABxvZ4rl5AAAAABJ\n",
       "RU5ErkJggg==\n",
       "\" style=\"display:inline;vertical-align:middle;\" /></a></span></td></tr>\n",
       "<tr><td><a name=\"0x5b2adb5e010edcb9_step2\">2</a></td><td>instantiation</td><td><a href=\"#0x5b2adb5e010edcb9_step4\">4</a>, <a href=\"#0x5b2adb5e010edcb9_step5\">5</a></td><td><span style=\"font-size:20px;\"><a class=\"ProveItLink\" href=\"../../../__pv_it/theorems/e95e5f69263d4c6cfbc6bb3b223a4060b72917d60/expr.ipynb\"><img src=\"data:image/png;base64,iVBORw0KGgoAAAANSUhEUgAAAEAAAAAPBAMAAACmSdRUAAAAMFBMVEX///92dnYiIiIQEBBERERU\n",
       "VFS6urqIiIjc3NxmZmaqqqru7u6YmJgyMjLMzMwAAADiRdoGAAAAAXRSTlMAQObYZgAAAQpJREFU\n",
       "GNNjYACBtwxYwNH/kVNdEiDs+9gUMJgwMHD+A7N47m/AIs/3h4GB7SeYuWt+A1TwAlA8AMpm/wHU\n",
       "+h3MPFAPtYr9AJDwgypgMWBg2KwNYrFtWH8AIvYEROyF2scfwMCnCmZvY3hfALHVWAkIlG9DFLyP\n",
       "Oe60AMxKYOifAGaUQvQ+gQjXNzBwm4L1Rc6MdwAxNsGcpwImnUGKQGrZGBiYL4BEOAIh8lsFwNRX\n",
       "kAKQ3UBFTAaQ8NC9CwJ68GBgiAd6jwOogPcDRO9JsC8a4MHA9wXIaAJ5+QdEASsoPGZB2LxAU5O9\n",
       "GRi2/L/NwOX/CeINbqBbOBwgau9/nRnihRH+QNO5UeMFAE9FRwBt4bk1AAAAAElFTkSuQmCC\n",
       "\" style=\"display:inline;vertical-align:middle;\" /></a> <a class=\"ProveItLink\" href=\"../../../__pv_it/_proof_right_from_iff/8f6731efe9f98b9fc24bf63388f59e365dd949ae0/proof.ipynb\" style=\"text-decoration: none\">&nbsp;&#x22A2;&nbsp;&nbsp;</a><a class=\"ProveItLink\" href=\"../../../__pv_it/theorems/9fb6b166895505172ae956c828809d363bcff2a30/expr.ipynb\"><img src=\"data:image/png;base64,iVBORw0KGgoAAAANSUhEUgAAAEAAAAAPBAMAAACmSdRUAAAAMFBMVEX///92dnYiIiIQEBBERERU\n",
       "VFS6urqIiIjc3NxmZmaqqqru7u6YmJgyMjLMzMwAAADiRdoGAAAAAXRSTlMAQObYZgAAAO5JREFU\n",
       "GNNjYACBtwxYwNH/kVNdEiDs+9gUMJgwMHD+A7N47m/AIs/3h4GB7SeYuWt+A0LcA8Zg/wHU+h3M\n",
       "PFCfgFDwBMZgMWBg2KwNYrFtWH8AoYBnApTBH8DApwq2exvD+wIQzakEBj+hCt7HHHdaAGYlMPRP\n",
       "QHIc1y0IXd/AwG0Kdm3kzHgHZOfvNQNTziBFICPYGBiYLyDJcwRC/PQVpABkN1ARkwHYDXchoAEe\n",
       "DAzxQO9xABXwfkAYwHYBEQx8X4CMJpCXfyC5ABqqvEBTk70ZGLb8v83A5f8J4Y04CMV6/+vMEC9s\n",
       "UdSAygUACNlBmGjrK1sAAAAASUVORK5CYII=\n",
       "\" style=\"display:inline;vertical-align:middle;\" /></a></span></td></tr>\n",
       "<tr><td>&nbsp;</td><td colspan=4 style=\"text-align:left\"><span style=\"font-size:20px;\"><a class=\"ProveItLink\" href=\"../../../../../../__pv_it/common/09585084922504426caf1db2ff588a23a0932a960/expr.ipynb\"><img src=\"data:image/png;base64,iVBORw0KGgoAAAANSUhEUgAAAA8AAAAOBAMAAAACpFvcAAAALVBMVEX///8iIiIQEBBERERUVFS6\n",
       "urqIiIjc3NxmZmaqqqru7u6YmJgyMjLMzMwAAACK9jtgAAAAAXRSTlMAQObYZgAAAFtJREFUCNdj\n",
       "YACBOwxQcA5Kc59bAGGs7CuAMDbkBYBp1gXzNoAZSxnuJYAZAQx1DSCa16PDzwCshIGB6QCIMYGB\n",
       "gVEBSLMDGTwPgIxCIGZ+zsCw+N0pBk67hw0AfpEVEQi8t+wAAAAASUVORK5CYII=\n",
       "\" style=\"display:inline;vertical-align:middle;\" /></a> : <a class=\"ProveItLink\" href=\"../../../../../../__pv_it/common/09585084922504426caf1db2ff588a23a0932a960/expr.ipynb\"><img src=\"data:image/png;base64,iVBORw0KGgoAAAANSUhEUgAAAA8AAAAOBAMAAAACpFvcAAAALVBMVEX///8iIiIQEBBERERUVFS6\n",
       "urqIiIjc3NxmZmaqqqru7u6YmJgyMjLMzMwAAACK9jtgAAAAAXRSTlMAQObYZgAAAFtJREFUCNdj\n",
       "YACBOwxQcA5Kc59bAGGs7CuAMDbkBYBp1gXzNoAZSxnuJYAZAQx1DSCa16PDzwCshIGB6QCIMYGB\n",
       "gVEBSLMDGTwPgIxCIGZ+zsCw+N0pBk67hw0AfpEVEQi8t+wAAAAASUVORK5CYII=\n",
       "\" style=\"display:inline;vertical-align:middle;\" /></a>, <a class=\"ProveItLink\" href=\"../../../../../../__pv_it/common/a9162d1c3cc0470c02e5daf414500903a7a419230/expr.ipynb\"><img src=\"data:image/png;base64,iVBORw0KGgoAAAANSUhEUgAAABAAAAAOBAMAAADUAYG5AAAALVBMVEX///8yMjKqqqoiIiLu7u7c\n",
       "3NyIiIjMzMwQEBC6urpERERmZmZUVFSYmJgAAACsPVCVAAAAAXRSTlMAQObYZgAAAGxJREFUCNdj\n",
       "YGC48+70nlUTGICgi4GB+zmQZn/LwMD5Gshge8rAwPsMyOBqYGDwMAEy+A4wsNs4ABl1Z68tVgBp\n",
       "ygtgYOkBMVaAOCChNyBGAsQYhnMTIMawvwJyGIHGzFjCwMAj92b3qUUMDAAXABxvZ4rl5AAAAABJ\n",
       "RU5ErkJggg==\n",
       "\" style=\"display:inline;vertical-align:middle;\" /></a> : <a class=\"ProveItLink\" href=\"../../../../../../__pv_it/common/a9162d1c3cc0470c02e5daf414500903a7a419230/expr.ipynb\"><img src=\"data:image/png;base64,iVBORw0KGgoAAAANSUhEUgAAABAAAAAOBAMAAADUAYG5AAAALVBMVEX///8yMjKqqqoiIiLu7u7c\n",
       "3NyIiIjMzMwQEBC6urpERERmZmZUVFSYmJgAAACsPVCVAAAAAXRSTlMAQObYZgAAAGxJREFUCNdj\n",
       "YGC48+70nlUTGICgi4GB+zmQZn/LwMD5Gshge8rAwPsMyOBqYGDwMAEy+A4wsNs4ABl1Z68tVgBp\n",
       "ygtgYOkBMVaAOCChNyBGAsQYhnMTIMawvwJyGIHGzFjCwMAj92b3qUUMDAAXABxvZ4rl5AAAAABJ\n",
       "RU5ErkJggg==\n",
       "\" style=\"display:inline;vertical-align:middle;\" /></a></span></td></tr><tr><td><a name=\"0x5b2adb5e010edcb9_step3\">3</a></td><td>assumption</td><td></td><td><span style=\"font-size:20px;\"><a class=\"ProveItLink\" href=\"../../../../../../__pv_it/common/09585084922504426caf1db2ff588a23a0932a960/expr.ipynb\"><img src=\"data:image/png;base64,iVBORw0KGgoAAAANSUhEUgAAAA8AAAAOBAMAAAACpFvcAAAALVBMVEX///8iIiIQEBBERERUVFS6\n",
       "urqIiIjc3NxmZmaqqqru7u6YmJgyMjLMzMwAAACK9jtgAAAAAXRSTlMAQObYZgAAAFtJREFUCNdj\n",
       "YACBOwxQcA5Kc59bAGGs7CuAMDbkBYBp1gXzNoAZSxnuJYAZAQx1DSCa16PDzwCshIGB6QCIMYGB\n",
       "gVEBSLMDGTwPgIxCIGZ+zsCw+N0pBk67hw0AfpEVEQi8t+wAAAAASUVORK5CYII=\n",
       "\" style=\"display:inline;vertical-align:middle;\" /></a> <a class=\"ProveItLink\" href=\"../../../__pv_it/_proof_right_from_iff/20b7eda420dd18b82917d5b2814aed1ac49439ac0/proof.ipynb\" style=\"text-decoration: none\">&nbsp;&#x22A2;&nbsp;&nbsp;</a><a class=\"ProveItLink\" href=\"../../../../../../__pv_it/common/09585084922504426caf1db2ff588a23a0932a960/expr.ipynb\"><img src=\"data:image/png;base64,iVBORw0KGgoAAAANSUhEUgAAAA8AAAAOBAMAAAACpFvcAAAALVBMVEX///8iIiIQEBBERERUVFS6\n",
       "urqIiIjc3NxmZmaqqqru7u6YmJgyMjLMzMwAAACK9jtgAAAAAXRSTlMAQObYZgAAAFtJREFUCNdj\n",
       "YACBOwxQcA5Kc59bAGGs7CuAMDbkBYBp1gXzNoAZSxnuJYAZAQx1DSCa16PDzwCshIGB6QCIMYGB\n",
       "gVEBSLMDGTwPgIxCIGZ+zsCw+N0pBk67hw0AfpEVEQi8t+wAAAAASUVORK5CYII=\n",
       "\" style=\"display:inline;vertical-align:middle;\" /></a></span></td></tr>\n",
       "<tr><td><a name=\"0x5b2adb5e010edcb9_step4\">4</a></td><td>theorem</td><td></td><td><span style=\"font-size:20px;\"> <a class=\"ProveItLink\" href=\"../iff_implies_right/thm_proof.ipynb\" style=\"text-decoration: none\">&nbsp;&#x22A2;&nbsp;&nbsp;</a><a class=\"ProveItLink\" href=\"../../../__pv_it/theorems/e051e9c0e004bf997384d6e7d40ca0c4ac6d9ea50/expr.ipynb\"><img src=\"data:image/png;base64,iVBORw0KGgoAAAANSUhEUgAAAMEAAAAWBAMAAACLV+U4AAAAMFBMVEX///8QEBCIiIhmZma6urrM\n",
       "zMxUVFQiIiJERETc3Nzu7u6qqqp2dnaYmJgyMjIAAAAcRTyBAAAAAXRSTlMAQObYZgAAAuJJREFU\n",
       "SMetVUFoE0EUfe5u2uwmaXsQFBQJXuxFG12MIsUGvBRBGzxUbw1opYhotAcRFSMW2YqQeLIo0i0e\n",
       "CjnEQC/2ZKwHpYqsehKpTfFWQUtja5ui9c/sbjKNacXUD7vz5//Zef+//2cHWIc8/OuKUXryTJmo\n",
       "CUBL8MGTr+ILnJ/Xe/pQlwJesfl0TQgNKXuYqebcQPBtUY3QB2imJmpCeG8Pn4rVnF0W0BHCGEVg\n",
       "Av5sTQiXba5GFsum/pLWQglOBjFEhI2n0/dqAlDjNuPS97LtREm7QdibTDREgAXDuFoTghTiw2Hf\n",
       "T6HAIVebB46fIXrI0O3mZr/bC897eAUVd603Vd5BSbaGXSa8Ficp4pllo3yJS8FxeuYnmq8wSCr1\n",
       "IWi83QJ2soEm+Jv4Bu6ukxEh8LfAM0etz9qBqAXB7/viJEjFGYrRnKish8SDeWQnK8fgK4oIWpsl\n",
       "7BAGnppOP3LkTj28IHKX2WgnSFFKS5QLtbLfque28V47siDkvIjgHyYqtRDUHJtdBA5CRKDXNrH8\n",
       "Z21OGyl+adZGUPOdnLigwV2Po9hligjHvHRa2NncyxKagzQtsuSj5wLP/astqfJxqCPeFdZw/aeY\n",
       "qQ77uKtjZ3MMIkJMpkW7DcOYoo+V2Xe3IFb6AT3fhE7IC8ehK2FXGiO8rz+ihbveADtEhEBWmkE7\n",
       "J2SPCX8eUtylL+SciWS52TJOjTBFaJtpIjNuG4Ms/c+vk9x7BxjMCgiZ1pdFnObq0Qi8OahLbrxx\n",
       "aMlfJp4s95YQup3x3PLJsMG2aYiyKNnOsolBNgF935ESEA5AnYN6U9f1/RROYxbK4sq/xgpJVRqG\n",
       "S9oR+tpSb0MtQt0qsKQQ2dTGmfvp9HaaDpq4m6v4860pY6WqLUBNXvNswYuC3hMREJIJDPywoOT4\n",
       "beC/rof7UO2wr3aFVN4dPkH3rvBEoZmr3EBryR9BjK6KUOMt+qHSYP0bwjpF/k/7/AaZ/L6AobDC\n",
       "HgAAAABJRU5ErkJggg==\n",
       "\" style=\"display:inline;vertical-align:middle;\" /></a></span></td></tr>\n",
       "<tr><td>&nbsp;</td><td colspan=4 style-\"text-align:left\"><a class=\"ProveItLink\" href=\"../iff_implies_right/thm_proof.ipynb\">proveit.logic.booleans.implication.iff_implies_right</a></td></tr><tr><td><a name=\"0x5b2adb5e010edcb9_step5\">5</a></td><td>assumption</td><td></td><td><span style=\"font-size:20px;\"><a class=\"ProveItLink\" href=\"../../../__pv_it/theorems/e95e5f69263d4c6cfbc6bb3b223a4060b72917d60/expr.ipynb\"><img src=\"data:image/png;base64,iVBORw0KGgoAAAANSUhEUgAAAEAAAAAPBAMAAACmSdRUAAAAMFBMVEX///92dnYiIiIQEBBERERU\n",
       "VFS6urqIiIjc3NxmZmaqqqru7u6YmJgyMjLMzMwAAADiRdoGAAAAAXRSTlMAQObYZgAAAQpJREFU\n",
       "GNNjYACBtwxYwNH/kVNdEiDs+9gUMJgwMHD+A7N47m/AIs/3h4GB7SeYuWt+A1TwAlA8AMpm/wHU\n",
       "+h3MPFAPtYr9AJDwgypgMWBg2KwNYrFtWH8AIvYEROyF2scfwMCnCmZvY3hfALHVWAkIlG9DFLyP\n",
       "Oe60AMxKYOifAGaUQvQ+gQjXNzBwm4L1Rc6MdwAxNsGcpwImnUGKQGrZGBiYL4BEOAIh8lsFwNRX\n",
       "kAKQ3UBFTAaQ8NC9CwJ68GBgiAd6jwOogPcDRO9JsC8a4MHA9wXIaAJ5+QdEASsoPGZB2LxAU5O9\n",
       "GRi2/L/NwOX/CeINbqBbOBwgau9/nRnihRH+QNO5UeMFAE9FRwBt4bk1AAAAAElFTkSuQmCC\n",
       "\" style=\"display:inline;vertical-align:middle;\" /></a> <a class=\"ProveItLink\" href=\"../../../__pv_it/_proof_right_from_iff/869d0e76d0f18fd5c4c03bba6940fe73bfd64bbf0/proof.ipynb\" style=\"text-decoration: none\">&nbsp;&#x22A2;&nbsp;&nbsp;</a><a class=\"ProveItLink\" href=\"../../../__pv_it/theorems/e95e5f69263d4c6cfbc6bb3b223a4060b72917d60/expr.ipynb\"><img src=\"data:image/png;base64,iVBORw0KGgoAAAANSUhEUgAAAEAAAAAPBAMAAACmSdRUAAAAMFBMVEX///92dnYiIiIQEBBERERU\n",
       "VFS6urqIiIjc3NxmZmaqqqru7u6YmJgyMjLMzMwAAADiRdoGAAAAAXRSTlMAQObYZgAAAQpJREFU\n",
       "GNNjYACBtwxYwNH/kVNdEiDs+9gUMJgwMHD+A7N47m/AIs/3h4GB7SeYuWt+A1TwAlA8AMpm/wHU\n",
       "+h3MPFAPtYr9AJDwgypgMWBg2KwNYrFtWH8AIvYEROyF2scfwMCnCmZvY3hfALHVWAkIlG9DFLyP\n",
       "Oe60AMxKYOifAGaUQvQ+gQjXNzBwm4L1Rc6MdwAxNsGcpwImnUGKQGrZGBiYL4BEOAIh8lsFwNRX\n",
       "kAKQ3UBFTAaQ8NC9CwJ68GBgiAd6jwOogPcDRO9JsC8a4MHA9wXIaAJ5+QdEASsoPGZB2LxAU5O9\n",
       "GRi2/L/NwOX/CeINbqBbOBwgau9/nRnihRH+QNO5UeMFAE9FRwBt4bk1AAAAAElFTkSuQmCC\n",
       "\" style=\"display:inline;vertical-align:middle;\" /></a></span></td></tr>\n",
       "</table>"
      ],
      "text/plain": [
       "\tstep type\trequirements\tstatement\n",
       "0\tgeneralizaton\t1\t|- forall_{A, B | A, A <=> B} B\n",
       "1\tmodus ponens\t2, 3\t{A, A <=> B} |- B\n",
       "2\tinstantiation\t4, 5\t{A <=> B} |- A => B\n",
       "\tA : A, B : B\n",
       "3\tassumption\t\t{A} |- A\n",
       "4\ttheorem\t\t|- forall_{A, B | A <=> B} (A => B)\n",
       "\tproveit.logic.booleans.implication.iff_implies_right\n",
       "5\tassumption\t\t{A <=> B} |- A <=> B"
      ]
     },
     "execution_count": 3,
     "metadata": {},
     "output_type": "execute_result"
    }
   ],
   "source": [
    "%qed"
   ]
  },
  {
   "cell_type": "code",
   "execution_count": null,
   "metadata": {},
   "outputs": [],
   "source": []
  }
 ],
 "metadata": {
  "kernelspec": {
   "display_name": "Python 3",
   "language": "python",
   "name": "python3"
  }
 },
 "nbformat": 4,
 "nbformat_minor": 0
}