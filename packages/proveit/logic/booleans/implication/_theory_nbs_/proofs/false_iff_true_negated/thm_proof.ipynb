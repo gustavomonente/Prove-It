{
 "cells": [
  {
   "cell_type": "markdown",
   "metadata": {},
   "source": [
    "Proof of <a class=\"ProveItLink\" href=\"../../../../../../_theory_nbs_/theory.ipynb\">proveit</a>.<a class=\"ProveItLink\" href=\"../../../../../_theory_nbs_/theory.ipynb\">logic</a>.<a class=\"ProveItLink\" href=\"../../../../_theory_nbs_/theory.ipynb\">booleans</a>.<a class=\"ProveItLink\" href=\"../../theory.ipynb\">implication</a>.<a class=\"ProveItLink\" href=\"../../theorems.ipynb#false_iff_true_negated\">false_iff_true_negated</a> theorem\n",
    "========"
   ]
  },
  {
   "cell_type": "code",
   "execution_count": 1,
   "metadata": {},
   "outputs": [],
   "source": [
    "import proveit\n",
    "from proveit.logic.booleans.implication import iff_f_t\n",
    "theory = proveit.Theory() # the theorem's theory"
   ]
  },
  {
   "cell_type": "code",
   "execution_count": 2,
   "metadata": {},
   "outputs": [
    {
     "name": "stdout",
     "output_type": "stream",
     "text": [
      "false_iff_true_negated has been proven.  Now simply execute \"%qed\".\n"
     ]
    },
    {
     "data": {
      "text/html": [
       "Under these <a href=\"presumptions.txt\">presumptions</a>, we begin our proof of<br><strong id=\"false_iff_true_negated\">false_iff_true_negated:</strong> <a class=\"ProveItLink\" href=\"../../../__pv_it/theorems/3763e073b7a15e0cd8bf2d92d32a2039b6080d910/expr.ipynb\"><img src=\"data:image/png;base64,iVBORw0KGgoAAAANSUhEUgAAAF4AAAAUBAMAAAD2P5dXAAAAMFBMVEX///+6uroQEBCqqqqIiIgy\n",
       "MjJERETu7u6YmJjMzMxUVFTc3Nx2dnYiIiJmZmYAAAAutVgsAAAAAXRSTlMAQObYZgAAAP1JREFU\n",
       "KM9jYIAD7gYGAoB5AzKvDERwGmBRx3cXDBYwrEYWjQYb4YDDaLB4KZIIxwPC6nmQZHk3oKkPALpu\n",
       "Aap6dgWE+r0MqOpZQN7PRFXPEIhQ74emfhrYwQWo6s8h1GegqudUAgXJpXBU9a0Mb0HCd4DMy6jq\n",
       "vSAmTzNAUW8L4e0CYkUU9bUwn15DUT8fl3ruNRC66gAu9Wju4bgaCgI3Ud0vi1CP5l+GPnD4bED3\n",
       "LyQw4EGFUM8lACQeo4X/G0R4yoLT1SVdULoCxyUwfrkTYLKMkMQbiZ4ekACQz16AKsR+AT294QfI\n",
       "6Y0hm7D6Uoz8gh+gGEk4P3JsYAAAAYlEelygmPMAAAAASUVORK5CYII=\n",
       "\" style=\"display:inline;vertical-align:middle;\" /></a><br>(see <a class=\"ProveItLink\" href=\"../../../__pv_it/theorems/bb220eb4e4a44860e661c9d9b4897338444249b40/dependencies.ipynb\">dependencies</a>)<br>"
      ],
      "text/plain": [
       "false_iff_true_negated: not(FALSE <=> TRUE)"
      ]
     },
     "execution_count": 2,
     "metadata": {},
     "output_type": "execute_result"
    }
   ],
   "source": [
    "%proving false_iff_true_negated"
   ]
  },
  {
   "cell_type": "code",
   "execution_count": 3,
   "metadata": {},
   "outputs": [
    {
     "data": {
      "text/html": [
       "<table><tr><th>&nbsp;</th><th>step type</th><th>requirements</th><th>statement</th></tr>\n",
       "<tr><td><a name=\"0x15661b75118d751_step0\">0</a></td><td>instantiation</td><td><a href=\"#0x15661b75118d751_step1\">1</a>, <a href=\"#0x15661b75118d751_step2\">2</a></td><td><span style=\"font-size:20px;\"> <a class=\"ProveItLink\" href=\"../../../__pv_it/_proof_false_iff_true_negated/0177bda405a44d4a5d207dcbc21215c40445e1f40/proof.ipynb\" style=\"text-decoration: none\">&nbsp;&#x22A2;&nbsp;&nbsp;</a><a class=\"ProveItLink\" href=\"../../../__pv_it/theorems/3763e073b7a15e0cd8bf2d92d32a2039b6080d910/expr.ipynb\"><img src=\"data:image/png;base64,iVBORw0KGgoAAAANSUhEUgAAAF4AAAAUBAMAAAD2P5dXAAAAMFBMVEX///+6uroQEBCqqqqIiIgy\n",
       "MjJERETu7u6YmJjMzMxUVFTc3Nx2dnYiIiJmZmYAAAAutVgsAAAAAXRSTlMAQObYZgAAAP1JREFU\n",
       "KM9jYIAD7gYGAoB5AzKvDERwGmBRx3cXDBYwrEYWjQYb4YDDaLB4KZIIxwPC6nmQZHk3oKkPALpu\n",
       "Aap6dgWE+r0MqOpZQN7PRFXPEIhQ74emfhrYwQWo6s8h1GegqudUAgXJpXBU9a0Mb0HCd4DMy6jq\n",
       "vSAmTzNAUW8L4e0CYkUU9bUwn15DUT8fl3ruNRC66gAu9Wju4bgaCgI3Ud0vi1CP5l+GPnD4bED3\n",
       "LyQw4EGFUM8lACQeo4X/G0R4yoLT1SVdULoCxyUwfrkTYLKMkMQbiZ4ekACQz16AKsR+AT294QfI\n",
       "6Y0hm7D6Uoz8gh+gGEk4P3JsYAAAAYlEelygmPMAAAAASUVORK5CYII=\n",
       "\" style=\"display:inline;vertical-align:middle;\" /></a></span></td></tr>\n",
       "<tr><td>&nbsp;</td><td colspan=4 style=\"text-align:left\"><span style=\"font-size:20px;\"><a class=\"ProveItLink\" href=\"../../../../../../__pv_it/common/e4aad701f7f5516d8e7f0d805d518bf02c13322a0/expr.ipynb\"><img src=\"data:image/png;base64,iVBORw0KGgoAAAANSUhEUgAAAA8AAAAOBAMAAAACpFvcAAAALVBMVEX///8iIiIQEBBERERUVFS6\n",
       "urqIiIjc3NxmZmaqqqru7u6YmJgyMjLMzMwAAACK9jtgAAAAAXRSTlMAQObYZgAAAFtJREFUCNdj\n",
       "YACBOwxQcA5Kc59bAGGs7CuAMDbkBYBp1gXzNoAZSxnuJYAZAQx1DSCa16PDzwCshIGB6QCIMYGB\n",
       "gVEBSLMDGTwPgIxCIGZ+zsCw+N0pBk67hw0AfpEVEQi8t+wAAAAASUVORK5CYII=\n",
       "\" style=\"display:inline;vertical-align:middle;\" /></a> : <a class=\"ProveItLink\" href=\"../../../__pv_it/theorems/42c98febea7a4d6fb55dd467e55e860a62453fef0/expr.ipynb\"><img src=\"data:image/png;base64,iVBORw0KGgoAAAANSUhEUgAAAD8AAAAPBAMAAAChCwpBAAAAMFBMVEX///+6urp2dnbc3Nzu7u5E\n",
       "RESYmJgyMjJUVFQQEBAiIiJmZmaIiIiqqqrMzMwAAABCZPcTAAAAAXRSTlMAQObYZgAAAIRJREFU\n",
       "GNNjYGBgeMuABXCvAoMGEPsOA3bAewDKIEEBOxC/wKfgGBCzPsCtgC8ASLCU4FbwchbI4dMdcCng\n",
       "aYGYE4tDAcsKKJ8rAIcJFgoQhU043ZBVDgJVD3AqYNsAMqAYTzg0giLhAqqCXatWzVy1Cuo+dyA2\n",
       "hStnTMAIfWYgdkEVAgDTDzEZ4lo0jgAAAABJRU5ErkJggg==\n",
       "\" style=\"display:inline;vertical-align:middle;\" /></a></span></td></tr><tr><td><a name=\"0x15661b75118d751_step1\">1</a></td><td>theorem</td><td></td><td><span style=\"font-size:20px;\"> <a class=\"ProveItLink\" href=\"../../../../negation/_theory_nbs_/proofs/negation_intro/thm_proof.ipynb\" style=\"text-decoration: none\">&nbsp;&#x22A2;&nbsp;&nbsp;</a><a class=\"ProveItLink\" href=\"../../../../negation/__pv_it/theorems/d964347b76a39b507e2d3a50dc4a021ab379e3fb0/expr.ipynb\"><img src=\"data:image/png;base64,iVBORw0KGgoAAAANSUhEUgAAAIUAAAAWBAMAAAAcBkLiAAAAMFBMVEX///8QEBCIiIhmZma6urrM\n",
       "zMxUVFQiIiJERETc3Nzu7u6qqqp2dnaYmJgyMjIAAAAcRTyBAAAAAXRSTlMAQObYZgAAAchJREFU\n",
       "OMtjYCANzEUX2AnED0CMu8QawdWAzGMFamabwMBwGsR5RawZfBNQeB+ApgLNmQFkczYQa8ZlFN69\n",
       "X0DiENCsBQwMPBuINaMSxWObfwLJhQwMvKdWrZpOrBGcBcg8XqYvIA85MDD86OioIdYMJgNknhf3\n",
       "XyDJAxRLZWDoBAtBSBaYCo4JmGZwXED2igPrJ5BrgIHqDA5aIPsLRBlMyX0HhPIEKM0ODDjzciCo\n",
       "AdvG+RlIcQP9x87ABDZ98V8UM7jskeyExRsjzNxpQBxmbPYDlEiAEcxzgR0sfKoYxQye5QYEzACy\n",
       "5aBmcD4IA6c5hQ4UM4I4GjDNYN+AMIMbSBWCvASKq84UkCgbgzmKGQnMBQwZHUBwAckMeJgCzZgN\n",
       "pN5Dw5RhMzjSbzPoI5vBu4HpA6Y7eGD+Y4UklX5g3DEfADL4FUBB+PhM/wIkM9bZnPiFaQYLPI1x\n",
       "9f9bwLDjPzAM+QJAVoL0Mi9gmB+AZIYVA+dXhrx3QIDsF9S0DgHL4SxfoHsuIMxgAbL/YroDLc+B\n",
       "wSF4AvzBwNlfizCjv4FhxndoAPJ0dEh09OBKvJAEipacSSiDcGYJEsvCmwwkm0EUYCZdCwB363LP\n",
       "gacX1AAAAABJRU5ErkJggg==\n",
       "\" style=\"display:inline;vertical-align:middle;\" /></a></span></td></tr>\n",
       "<tr><td>&nbsp;</td><td colspan=4 style-\"text-align:left\"><a class=\"ProveItLink\" href=\"../../../../negation/_theory_nbs_/proofs/negation_intro/thm_proof.ipynb\">proveit.logic.booleans.negation.negation_intro</a></td></tr><tr><td><a name=\"0x15661b75118d751_step2\">2</a></td><td>theorem</td><td></td><td><span style=\"font-size:20px;\"> <a class=\"ProveItLink\" href=\"../iff_f_t/thm_proof.ipynb\" style=\"text-decoration: none\">&nbsp;&#x22A2;&nbsp;&nbsp;</a><a class=\"ProveItLink\" href=\"../../../__pv_it/theorems/783ba50ec400aaf42338c2a4881106c484bc256b0/expr.ipynb\"><img src=\"data:image/png;base64,iVBORw0KGgoAAAANSUhEUgAAAHoAAAAUBAMAAACwiTT9AAAAMFBMVEX///9UVFTMzMx2dna6uroQ\n",
       "EBCqqqqIiIgiIiJmZmYyMjJERETu7u6YmJjc3NwAAAC+aOQFAAAAAXRSTlMAQObYZgAAAQtJREFU\n",
       "OMtjYOC7wEAI5OGWOg0m1bBJzegAgUYGxgdYJCE61oHJdBxmg8V5FuCS4Z1AWDeDOS4ZjgdouoH2\n",
       "MAmg6T6KS/cLBlTd7KBA3ISmm8sBh+5KNN3aIOLUAVTdzBNw6N6LqpspFBTMrWtQdfOCg81qFQis\n",
       "RJZpQ9VdCLFVOwFFN1sDDrtDUHSfgIVXN4pupg9E6eYThtAHDYjTjeZy3i6w55pQ/c3SgPD3Qjyh\n",
       "xnATHOYPsIUaFrst0XQzgqJ2Glp8cxrg0O0ByQ2hoNwAS9N8G+BqfCGpRQEz/4B1cKDnHyCf5wCa\n",
       "2AlcGZR3AgNhYI5TZh9hzVhzKHLpgBdwP8ApRUTJdA+XBAA30VHERZkEKwAAAABJRU5ErkJggg==\n",
       "\" style=\"display:inline;vertical-align:middle;\" /></a></span></td></tr>\n",
       "<tr><td>&nbsp;</td><td colspan=4 style-\"text-align:left\"><a class=\"ProveItLink\" href=\"../iff_f_t/thm_proof.ipynb\">proveit.logic.booleans.implication.iff_f_t</a></td></tr></table>"
      ],
      "text/plain": [
       "\tstep type\trequirements\tstatement\n",
       "0\tinstantiation\t1, 2\t|- not(FALSE <=> TRUE)\n",
       "\tA : FALSE <=> TRUE\n",
       "1\ttheorem\t\t|- forall_{A | A = FALSE} not(A)\n",
       "\tproveit.logic.booleans.negation.negation_intro\n",
       "2\ttheorem\t\t|- (FALSE <=> TRUE) = FALSE\n",
       "\tproveit.logic.booleans.implication.iff_f_t"
      ]
     },
     "execution_count": 3,
     "metadata": {},
     "output_type": "execute_result"
    }
   ],
   "source": [
    "%qed"
   ]
  },
  {
   "cell_type": "code",
   "execution_count": null,
   "metadata": {},
   "outputs": [],
   "source": []
  }
 ],
 "metadata": {
  "kernelspec": {
   "display_name": "Python 3",
   "language": "python",
   "name": "python3"
  }
 },
 "nbformat": 4,
 "nbformat_minor": 0
}