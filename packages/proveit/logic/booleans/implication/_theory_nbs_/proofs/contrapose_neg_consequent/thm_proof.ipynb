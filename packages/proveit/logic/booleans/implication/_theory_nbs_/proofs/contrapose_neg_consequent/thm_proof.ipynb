{
 "cells": [
  {
   "cell_type": "markdown",
   "metadata": {},
   "source": [
    "Proof of <a class=\"ProveItLink\" href=\"../../../../../../_theory_nbs_/theory.ipynb\">proveit</a>.<a class=\"ProveItLink\" href=\"../../../../../_theory_nbs_/theory.ipynb\">logic</a>.<a class=\"ProveItLink\" href=\"../../../../_theory_nbs_/theory.ipynb\">booleans</a>.<a class=\"ProveItLink\" href=\"../../theory.ipynb\">implication</a>.<a class=\"ProveItLink\" href=\"../../theorems.ipynb#contrapose_neg_consequent\">contrapose_neg_consequent</a> theorem\n",
    "========"
   ]
  },
  {
   "cell_type": "code",
   "execution_count": 1,
   "metadata": {},
   "outputs": [],
   "source": [
    "import proveit\n",
    "from proveit import defaults\n",
    "from proveit.logic import in_bool\n",
    "from proveit import B\n",
    "theory = proveit.Theory() # the theorem's theory"
   ]
  },
  {
   "cell_type": "code",
   "execution_count": 2,
   "metadata": {},
   "outputs": [
    {
     "data": {
      "text/html": [
       "Under these <a href=\"presumptions.txt\">presumptions</a>, we begin our proof of<br><strong id=\"contrapose_neg_consequent\">contrapose_neg_consequent:</strong> <a class=\"ProveItLink\" href=\"../../../__pv_it/theorems/fa793c94da680bfd2d6b73bd631474141964465f0/expr.ipynb\"><img src=\"data:image/png;base64,iVBORw0KGgoAAAANSUhEUgAAAR4AAAAWBAMAAADkw+48AAAAMFBMVEX///8QEBCIiIhmZma6urrM\n",
       "zMxUVFQiIiJERETc3Nzu7u6qqqp2dnaYmJgyMjIAAAAcRTyBAAAAAXRSTlMAQObYZgAAA8BJREFU\n",
       "SMe9Vl1IVEEUPu7dv7t7r/ogFBRxwYekMIWVhLBcENIX03qol9AFM6yHFHzoR6Mterj2o/uSSSDe\n",
       "MkhWsoX+8KESlkhLYqHHMtesh3xIyVIzxOZ3d+7d1QjcDpy5d2a+M/PNnDNnBiBz0rtOnxyzNHhD\n",
       "VOO4MpEJOp4ggNq84Gu6nKZzwFSrQ3qC6htcn8kEn2y0WshCpMprUzu/mmqzSIeo9uDNC2aCzztc\n",
       "1CO/1BSn9KmmJnXWAFA0otn4N5IJPmdxUYQ2aVLjTe4Q+3GFRORgOap6comqr8Phm5mgI7fg8iKa\n",
       "ZJPB2xzcEeYZY0V+VH6muqTr7f8wi6lWuw7SRlyyAHDkpMWHSPJFpN14gU9blGojQAdppmXVfLSJ\n",
       "bKY9ZZOxjLAvhT3izR2pfNx4DsfCREEbqZaexnKBxc11EXkX6rFHP1KtAA858+oPGlu5oOSS8Th8\n",
       "0p80dXJuFCaxKrMF9dN0K49FF/6x/QK4HRDmfk67EUeJEMTr80MfpvmUqgtsJDf1rxCkFADvssjH\n",
       "Uy6krqP8h8I8bCpiOxjdC9pI72OGyMLLcKOl2X6LSWmKrC6Pux8N4GjwNeO4qqeqxFyk63UrXZYG\n",
       "Ulzko9yje/wMF418XAZjaQTbqldvGaBpyn2RTw6az/Zd4NM9BlY+KDCy4kk+cvwwCX1NJ4gHtbDL\n",
       "EPkccgeTrmrh4zJYISRsK/CfplWPif7C6cdJnLnvGxG2gDaBD8K5cIRUMu04RqaDUoKoKSygTuB8\n",
       "AlILjOq63pnHz7AAewIJW7Kpmm9brRjPOP3UC9n2AJjjGfGREZ/suWQ8w0MyyXsoIoi3ANtFPmrE\n",
       "NscOcAnYg6BgaglYFXBbTzHdH+kG9zNumELu2Gwko4dfTNFkxsCpyI3CHsqY5uDD5pke7yJ21wD6\n",
       "IgKfobLRZTbYccMeYPvBYXXAbR1ndP0Sjh8bzypomadWG3brQvJ38s2rTF6sqzPg7VpE5L8AVRXz\n",
       "kAzoI2B0GGpCAp89IP+EfB+SBoPnV2cCth8StgG6P4pkui/WyKbm+4Iut4UqlWq0TzH5CsjLIG8V\n",
       "/GVHUbACnnA4fEdL4J0J2AfoMagtvCR8RpRxay5OJ2rqFcvuUxZ8SyB3nXdsgVfzvia/wKcrCD2L\n",
       "JAF14+IcWyaHlcDBCLUFN/KL2j7dGUub162SmtDZe8P8SBPzvaWPjL7T0hgnx5VKAYof63tsTRlI\n",
       "y9DKcngdPukavTHyxtyI96oaomq++P/Gx24eph+NAf9JpLStw6bajg2f9Q81ogymLc4m5QAAAABJ\n",
       "RU5ErkJggg==\n",
       "\" style=\"display:inline;vertical-align:middle;\" /></a><br>(see <a class=\"ProveItLink\" href=\"../../../__pv_it/theorems/87207d50e7a466976630c07e7e7ced98f0fde4b30/dependencies.ipynb\">dependencies</a>)<br>"
      ],
      "text/plain": [
       "contrapose_neg_consequent: forall_{A, B | A => not(B), A in BOOLEAN} (B => not(A))"
      ]
     },
     "execution_count": 2,
     "metadata": {},
     "output_type": "execute_result"
    }
   ],
   "source": [
    "%proving contrapose_neg_consequent"
   ]
  },
  {
   "cell_type": "code",
   "execution_count": 3,
   "metadata": {},
   "outputs": [
    {
     "data": {
      "text/html": [
       "<strong id=\"defaults.assumptions\">defaults.assumptions:</strong> <a class=\"ProveItLink\" href=\"../../../__pv_it/_proof_contrapose_neg_consequent/3c1345615ebfa515ebddee31c27fbf5d8a85494e0/expr.ipynb\"><img src=\"data:image/png;base64,iVBORw0KGgoAAAANSUhEUgAAAMUAAAAUBAMAAADPdORJAAAAMFBMVEX///9UVFTMzMx2dna6uroQ\n",
       "EBCqqqqIiIgiIiJmZmYyMjJERETu7u6YmJjc3NwAAAC+aOQFAAAAAXRSTlMAQObYZgAAAmhJREFU\n",
       "OMuVlb1P21AQwC+OSUwSuxHtglBLWOmAtypiyVIpA5VSiQG1S/4A1GZloh1AqGKACTGRqQOqiBcK\n",
       "EoVmAARkqKsOnVp5ZCt0aWlV0vee38fZzwTlpOg5d/d753d3vgfg+HCj6LYX0KcwoBM+jyc5dNTj\n",
       "5+7w6l4FUgEyx5jswt6fmXtJwFaoaiXF2ELPzwEGf0KhiVRxJmc0Oqe+DtgrTGG32noIbmNi/AMw\n",
       "rwAeIXOcyZt+tuTpgBUe/ngDJeGArxbSZa/Jpr8AjpRKMvbu0hseI1P3dOA81PjzFQU/5Os5fsca\n",
       "cV8m+VB+gjF22vIc6SlPB+aYwmy/9PUczaEYd4pgvCZ7pWX+JHPWVrmqjpV0YJ8pDmGiQdfBJSZX\n",
       "ods+ijFx/+tuncaXRRcMPFD1mOlOJwCLTFGBH6i+kHnLlkUR1AWYD6DwlJpeCSfJeKjm6W8u/4MA\n",
       "FtcYXh/1cIecMbV4J6cIsE0x8l7GhegbwRjPNonwGOA94XYEsH1MgAHc+M7dIB7jkiINFEMyDj4H\n",
       "eCn+BwEsVyScVWP12AwlELkSMWi3wyjpI1PkSjJQwzGKOfV5CIDW1SH+uQt1DLMZrTmJQbvd+Itq\n",
       "jpi1yDm+qM9DAGX+HeSvUTV4M5aFogQ58rKPP9CTuvCpGWWsupwlbrpcDO0YqJLJ130HmY+/VWMN\n",
       "8bUqNanW5frIe7ZPCazlKFMYmYrMRGqPAoE+p4KEWSLkhPxmYzpzMpwlQmZjAJ57vWaiEDoT3Vvu\n",
       "DDcOHPRw1m10VBcavUNE7Owy6PTw1m15kj77lmPYcaDPu/Z7v3ctAf4Der/V7DssJ70AAAAASUVO\n",
       "RK5CYII=\n",
       "\" style=\"display:inline;vertical-align:middle;\" /></a><br>"
      ],
      "text/plain": [
       "defaults.assumptions: (A => not(B), A in BOOLEAN, B)"
      ]
     },
     "execution_count": 3,
     "metadata": {},
     "output_type": "execute_result"
    }
   ],
   "source": [
    "defaults.assumptions = list(contrapose_neg_consequent.all_conditions()) + [B]"
   ]
  },
  {
   "cell_type": "code",
   "execution_count": 4,
   "metadata": {},
   "outputs": [
    {
     "data": {
      "text/html": [
       "<strong id=\"A_implies_not_b\">A_implies_not_b:</strong> <a class=\"ProveItLink\" href=\"../../../__pv_it/theorems/c0fd769c6d4342cdcc59f5ed3e5084a1c28136db0/expr.ipynb\"><img src=\"data:image/png;base64,iVBORw0KGgoAAAANSUhEUgAAAF0AAAAUBAMAAAAdCCxUAAAAMFBMVEX///92dnYiIiIQEBBERERU\n",
       "VFS6urqIiIjc3NxmZmaqqqru7u6YmJgyMjLMzMwAAADiRdoGAAAAAXRSTlMAQObYZgAAAWxJREFU\n",
       "KM9jYMAJOA6gi6yAMd5iU78FwTz6P3KqSwIDawOUfx+b+htIbBMGBs5/DNwXIDye+xswlfNMQLD5\n",
       "/jAwsP1kYBCHcHfNb0DIeUBpJiQx9h9A/d8ZGDZDuAfqExByT6B0E5JdLAZAtdoMDLxgdWwb1h/A\n",
       "dEclknr+AAY+VaCbGcFy2xjeF4BoTiUw+AlR44Ok/n3McacFILPAHk5g6EfyGwPXLTClBTNAgIGh\n",
       "voGB2xQkpQDyfOTMeAfkkNlrBiLNYNEWwMDgDKTrgRbwfQA5n4GB+QJyvAY2oKv/ClJfAFUP1Mdk\n",
       "AHb/XQhogLkHph4U/AzxwLBhA7qHA6ie9wPCeLYLqP4FqgcFP98XqH9B4czyA8n10LiWhAk8YOAF\n",
       "Wp/sDXKBAMOW/7cZuPw/IQIoDkonwUVY73+dGeIFYvE+wEw3DVjSAwxswp36UdIbDIjjUQ9PeAjA\n",
       "fQGf+i0YIiwN+NRj5scTDAwAVJlZhzec5CcAAAAASUVORK5CYII=\n",
       "\" style=\"display:inline;vertical-align:middle;\" /></a><br>"
      ],
      "text/plain": [
       "A_implies_not_b: A => not(B)"
      ]
     },
     "execution_count": 4,
     "metadata": {},
     "output_type": "execute_result"
    }
   ],
   "source": [
    "A_implies_not_b = defaults.assumptions[0]"
   ]
  },
  {
   "cell_type": "code",
   "execution_count": 5,
   "metadata": {},
   "outputs": [
    {
     "data": {
      "text/html": [
       "<span style=\"font-size:20px;\"><a class=\"ProveItLink\" href=\"../../../../__pv_it/theorems/ddc941563dffabdeb005429c2f934b2b6ccbeab10/expr.ipynb\"><img src=\"data:image/png;base64,iVBORw0KGgoAAAANSUhEUgAAADYAAAAPBAMAAABdHiGLAAAAMFBMVEX///92dnYiIiIQEBBERERU\n",
       "VFS6urqIiIjc3NxmZmaqqqru7u6YmJgyMjLMzMwAAADiRdoGAAAAAXRSTlMAQObYZgAAANdJREFU\n",
       "GNNjYACBtwwogF3Z5a9RGJRzH1WOgZevYMvOA2Amz/0NqHIsbAfYHziAmbvmN0DEeJyUdKFyXAsg\n",
       "cgfqE8A0n/sGuD7GbLAc24b1ELP3bkCYmfT0AYi1jeF9AVgoAmGf0X8zMCuBoX8CmOGA5BbGMwIg\n",
       "WyJnxoNF+WzvAgFUjsEhB2QdAwPzBZAIB7I+BgdWIGMBAwOTAVjIAFkugBeoGijH+wEsNB1F30EG\n",
       "hiYQ+wdYiGkBPMwEGCUDGLb8v83A5f8J7FDukGzMsIYBNhFImEEAAEUpOYcaSaDVAAAAAElFTkSu\n",
       "QmCC\n",
       "\" style=\"display:inline;vertical-align:middle;\" /></a>, <a class=\"ProveItLink\" href=\"../../../__pv_it/theorems/c0fd769c6d4342cdcc59f5ed3e5084a1c28136db0/expr.ipynb\"><img src=\"data:image/png;base64,iVBORw0KGgoAAAANSUhEUgAAAF0AAAAUBAMAAAAdCCxUAAAAMFBMVEX///92dnYiIiIQEBBERERU\n",
       "VFS6urqIiIjc3NxmZmaqqqru7u6YmJgyMjLMzMwAAADiRdoGAAAAAXRSTlMAQObYZgAAAWxJREFU\n",
       "KM9jYMAJOA6gi6yAMd5iU78FwTz6P3KqSwIDawOUfx+b+htIbBMGBs5/DNwXIDye+xswlfNMQLD5\n",
       "/jAwsP1kYBCHcHfNb0DIeUBpJiQx9h9A/d8ZGDZDuAfqExByT6B0E5JdLAZAtdoMDLxgdWwb1h/A\n",
       "dEclknr+AAY+VaCbGcFy2xjeF4BoTiUw+AlR44Ok/n3McacFILPAHk5g6EfyGwPXLTClBTNAgIGh\n",
       "voGB2xQkpQDyfOTMeAfkkNlrBiLNYNEWwMDgDKTrgRbwfQA5n4GB+QJyvAY2oKv/ClJfAFUP1Mdk\n",
       "AHb/XQhogLkHph4U/AzxwLBhA7qHA6ie9wPCeLYLqP4FqgcFP98XqH9B4czyA8n10LiWhAk8YOAF\n",
       "Wp/sDXKBAMOW/7cZuPw/IQIoDkonwUVY73+dGeIFYvE+wEw3DVjSAwxswp36UdIbDIjjUQ9PeAjA\n",
       "fQGf+i0YIiwN+NRj5scTDAwAVJlZhzec5CcAAAAASUVORK5CYII=\n",
       "\" style=\"display:inline;vertical-align:middle;\" /></a> <a class=\"ProveItLink\" href=\"../../../__pv_it/_proof_contrapose_neg_consequent/c87668a035ebd5aa24a816fccfd4b0504b813a380/proof.ipynb\" style=\"text-decoration: none\">&nbsp;&#x22A2;&nbsp;&nbsp;</a><a class=\"ProveItLink\" href=\"../../../__pv_it/theorems/2bfcd7ce362c4bed756b17a40af9219895f69f670/expr.ipynb\"><img src=\"data:image/png;base64,iVBORw0KGgoAAAANSUhEUgAAAF0AAAAUBAMAAAAdCCxUAAAAMFBMVEX///92dnYyMjKqqqoiIiLu\n",
       "7u7c3NyIiIjMzMwQEBC6urpERERmZmZUVFSYmJgAAADEjrHzAAAAAXRSTlMAQObYZgAAAWlJREFU\n",
       "KM9jYMAN8tAFzMDk2/93zu5egKmcdQMyj0OBgYE3AcyczcDA8wNTPVMCCu8D0AQFsM5/DAxcfzDV\n",
       "v0HhPfoKJMRBLPZvDAx83+ES3DBj3VAcZwNUxRAJVjAByHBFOBTqbDYHZPV87L9AjgJ5k/8CA4dv\n",
       "AIY72A8gq1/KDHQ1AyNIrP/e8y0GYMEjLiDgD1HI/QDZOQs4QC7mA3m4PoGBdS6yWUZg3SwGUAMc\n",
       "gRwuBjZQiDCD3LgTpMcA2TBNkDM5YVGSC8S9Z87+BvkNGKgMf0HqC5DU54oxoKsHsidB1YOCn+E+\n",
       "WPKQEhioMcDcA1PPDKQ8Qc5ygAQ/x28k4xcxoPoXqD4ZSOlD/csEDP6VW5FcrwqhGWHhyQGJiv3A\n",
       "eOQRYODV/3vm9mYk43kbIDQXPL5Y938KYLD+7wM0uwEz2bAxYEsPEBCCJ/WjpTcwEMennjsBI0co\n",
       "4FOPml+wm4A/Pz5jYAAA7cJT/vN3mjEAAAAASUVORK5CYII=\n",
       "\" style=\"display:inline;vertical-align:middle;\" /></a></span>"
      ],
      "text/plain": [
       "{A in BOOLEAN, A => not(B)} |- B => not(A)"
      ]
     },
     "execution_count": 5,
     "metadata": {},
     "output_type": "execute_result"
    }
   ],
   "source": [
    "A_implies_not_b.deny_antecedent().as_implication(B)"
   ]
  },
  {
   "cell_type": "code",
   "execution_count": 6,
   "metadata": {},
   "outputs": [
    {
     "data": {
      "text/html": [
       "<table><tr><th>&nbsp;</th><th>step type</th><th>requirements</th><th>statement</th></tr>\n",
       "<tr><td><a name=\"0x67260e701e0910dd_step0\">0</a></td><td>generalizaton</td><td><a href=\"#0x67260e701e0910dd_step1\">1</a></td><td><span style=\"font-size:20px;\"> <a class=\"ProveItLink\" href=\"../../../__pv_it/_proof_contrapose_neg_consequent/1674474ab54a2f68df675cfd48bfd52198562fe10/proof.ipynb\" style=\"text-decoration: none\">&nbsp;&#x22A2;&nbsp;&nbsp;</a><a class=\"ProveItLink\" href=\"../../../__pv_it/theorems/fa793c94da680bfd2d6b73bd631474141964465f0/expr.ipynb\"><img src=\"data:image/png;base64,iVBORw0KGgoAAAANSUhEUgAAAR4AAAAWBAMAAADkw+48AAAAMFBMVEX///8QEBCIiIhmZma6urrM\n",
       "zMxUVFQiIiJERETc3Nzu7u6qqqp2dnaYmJgyMjIAAAAcRTyBAAAAAXRSTlMAQObYZgAAA8BJREFU\n",
       "SMe9Vl1IVEEUPu7dv7t7r/ogFBRxwYekMIWVhLBcENIX03qol9AFM6yHFHzoR6Mterj2o/uSSSDe\n",
       "MkhWsoX+8KESlkhLYqHHMtesh3xIyVIzxOZ3d+7d1QjcDpy5d2a+M/PNnDNnBiBz0rtOnxyzNHhD\n",
       "VOO4MpEJOp4ggNq84Gu6nKZzwFSrQ3qC6htcn8kEn2y0WshCpMprUzu/mmqzSIeo9uDNC2aCzztc\n",
       "1CO/1BSn9KmmJnXWAFA0otn4N5IJPmdxUYQ2aVLjTe4Q+3GFRORgOap6comqr8Phm5mgI7fg8iKa\n",
       "ZJPB2xzcEeYZY0V+VH6muqTr7f8wi6lWuw7SRlyyAHDkpMWHSPJFpN14gU9blGojQAdppmXVfLSJ\n",
       "bKY9ZZOxjLAvhT3izR2pfNx4DsfCREEbqZaexnKBxc11EXkX6rFHP1KtAA858+oPGlu5oOSS8Th8\n",
       "0p80dXJuFCaxKrMF9dN0K49FF/6x/QK4HRDmfk67EUeJEMTr80MfpvmUqgtsJDf1rxCkFADvssjH\n",
       "Uy6krqP8h8I8bCpiOxjdC9pI72OGyMLLcKOl2X6LSWmKrC6Pux8N4GjwNeO4qqeqxFyk63UrXZYG\n",
       "Ulzko9yje/wMF418XAZjaQTbqldvGaBpyn2RTw6az/Zd4NM9BlY+KDCy4kk+cvwwCX1NJ4gHtbDL\n",
       "EPkccgeTrmrh4zJYISRsK/CfplWPif7C6cdJnLnvGxG2gDaBD8K5cIRUMu04RqaDUoKoKSygTuB8\n",
       "AlILjOq63pnHz7AAewIJW7Kpmm9brRjPOP3UC9n2AJjjGfGREZ/suWQ8w0MyyXsoIoi3ANtFPmrE\n",
       "NscOcAnYg6BgaglYFXBbTzHdH+kG9zNumELu2Gwko4dfTNFkxsCpyI3CHsqY5uDD5pke7yJ21wD6\n",
       "IgKfobLRZTbYccMeYPvBYXXAbR1ndP0Sjh8bzypomadWG3brQvJ38s2rTF6sqzPg7VpE5L8AVRXz\n",
       "kAzoI2B0GGpCAp89IP+EfB+SBoPnV2cCth8StgG6P4pkui/WyKbm+4Iut4UqlWq0TzH5CsjLIG8V\n",
       "/GVHUbACnnA4fEdL4J0J2AfoMagtvCR8RpRxay5OJ2rqFcvuUxZ8SyB3nXdsgVfzvia/wKcrCD2L\n",
       "JAF14+IcWyaHlcDBCLUFN/KL2j7dGUub162SmtDZe8P8SBPzvaWPjL7T0hgnx5VKAYof63tsTRlI\n",
       "y9DKcngdPukavTHyxtyI96oaomq++P/Gx24eph+NAf9JpLStw6bajg2f9Q81ogymLc4m5QAAAABJ\n",
       "RU5ErkJggg==\n",
       "\" style=\"display:inline;vertical-align:middle;\" /></a></span></td></tr>\n",
       "<tr><td><a name=\"0x67260e701e0910dd_step1\">1</a></td><td>deduction</td><td><a href=\"#0x67260e701e0910dd_step2\">2</a></td><td><span style=\"font-size:20px;\"><a class=\"ProveItLink\" href=\"../../../../__pv_it/theorems/ddc941563dffabdeb005429c2f934b2b6ccbeab10/expr.ipynb\"><img src=\"data:image/png;base64,iVBORw0KGgoAAAANSUhEUgAAADYAAAAPBAMAAABdHiGLAAAAMFBMVEX///92dnYiIiIQEBBERERU\n",
       "VFS6urqIiIjc3NxmZmaqqqru7u6YmJgyMjLMzMwAAADiRdoGAAAAAXRSTlMAQObYZgAAANdJREFU\n",
       "GNNjYACBtwwogF3Z5a9RGJRzH1WOgZevYMvOA2Amz/0NqHIsbAfYHziAmbvmN0DEeJyUdKFyXAsg\n",
       "cgfqE8A0n/sGuD7GbLAc24b1ELP3bkCYmfT0AYi1jeF9AVgoAmGf0X8zMCuBoX8CmOGA5BbGMwIg\n",
       "WyJnxoNF+WzvAgFUjsEhB2QdAwPzBZAIB7I+BgdWIGMBAwOTAVjIAFkugBeoGijH+wEsNB1F30EG\n",
       "hiYQ+wdYiGkBPMwEGCUDGLb8v83A5f8J7FDukGzMsIYBNhFImEEAAEUpOYcaSaDVAAAAAElFTkSu\n",
       "QmCC\n",
       "\" style=\"display:inline;vertical-align:middle;\" /></a>, <a class=\"ProveItLink\" href=\"../../../__pv_it/theorems/c0fd769c6d4342cdcc59f5ed3e5084a1c28136db0/expr.ipynb\"><img src=\"data:image/png;base64,iVBORw0KGgoAAAANSUhEUgAAAF0AAAAUBAMAAAAdCCxUAAAAMFBMVEX///92dnYiIiIQEBBERERU\n",
       "VFS6urqIiIjc3NxmZmaqqqru7u6YmJgyMjLMzMwAAADiRdoGAAAAAXRSTlMAQObYZgAAAWxJREFU\n",
       "KM9jYMAJOA6gi6yAMd5iU78FwTz6P3KqSwIDawOUfx+b+htIbBMGBs5/DNwXIDye+xswlfNMQLD5\n",
       "/jAwsP1kYBCHcHfNb0DIeUBpJiQx9h9A/d8ZGDZDuAfqExByT6B0E5JdLAZAtdoMDLxgdWwb1h/A\n",
       "dEclknr+AAY+VaCbGcFy2xjeF4BoTiUw+AlR44Ok/n3McacFILPAHk5g6EfyGwPXLTClBTNAgIGh\n",
       "voGB2xQkpQDyfOTMeAfkkNlrBiLNYNEWwMDgDKTrgRbwfQA5n4GB+QJyvAY2oKv/ClJfAFUP1Mdk\n",
       "AHb/XQhogLkHph4U/AzxwLBhA7qHA6ie9wPCeLYLqP4FqgcFP98XqH9B4czyA8n10LiWhAk8YOAF\n",
       "Wp/sDXKBAMOW/7cZuPw/IQIoDkonwUVY73+dGeIFYvE+wEw3DVjSAwxswp36UdIbDIjjUQ9PeAjA\n",
       "fQGf+i0YIiwN+NRj5scTDAwAVJlZhzec5CcAAAAASUVORK5CYII=\n",
       "\" style=\"display:inline;vertical-align:middle;\" /></a> <a class=\"ProveItLink\" href=\"../../../__pv_it/_proof_contrapose_neg_consequent/c87668a035ebd5aa24a816fccfd4b0504b813a380/proof.ipynb\" style=\"text-decoration: none\">&nbsp;&#x22A2;&nbsp;&nbsp;</a><a class=\"ProveItLink\" href=\"../../../__pv_it/theorems/2bfcd7ce362c4bed756b17a40af9219895f69f670/expr.ipynb\"><img src=\"data:image/png;base64,iVBORw0KGgoAAAANSUhEUgAAAF0AAAAUBAMAAAAdCCxUAAAAMFBMVEX///92dnYyMjKqqqoiIiLu\n",
       "7u7c3NyIiIjMzMwQEBC6urpERERmZmZUVFSYmJgAAADEjrHzAAAAAXRSTlMAQObYZgAAAWlJREFU\n",
       "KM9jYMAN8tAFzMDk2/93zu5egKmcdQMyj0OBgYE3AcyczcDA8wNTPVMCCu8D0AQFsM5/DAxcfzDV\n",
       "v0HhPfoKJMRBLPZvDAx83+ES3DBj3VAcZwNUxRAJVjAByHBFOBTqbDYHZPV87L9AjgJ5k/8CA4dv\n",
       "AIY72A8gq1/KDHQ1AyNIrP/e8y0GYMEjLiDgD1HI/QDZOQs4QC7mA3m4PoGBdS6yWUZg3SwGUAMc\n",
       "gRwuBjZQiDCD3LgTpMcA2TBNkDM5YVGSC8S9Z87+BvkNGKgMf0HqC5DU54oxoKsHsidB1YOCn+E+\n",
       "WPKQEhioMcDcA1PPDKQ8Qc5ygAQ/x28k4xcxoPoXqD4ZSOlD/csEDP6VW5FcrwqhGWHhyQGJiv3A\n",
       "eOQRYODV/3vm9mYk43kbIDQXPL5Y938KYLD+7wM0uwEz2bAxYEsPEBCCJ/WjpTcwEMennjsBI0co\n",
       "4FOPml+wm4A/Pz5jYAAA7cJT/vN3mjEAAAAASUVORK5CYII=\n",
       "\" style=\"display:inline;vertical-align:middle;\" /></a></span></td></tr>\n",
       "<tr><td><a name=\"0x67260e701e0910dd_step2\">2</a></td><td>instantiation</td><td><a href=\"#0x67260e701e0910dd_step3\">3</a>, <a href=\"#0x67260e701e0910dd_step4\">4</a>, <a href=\"#0x67260e701e0910dd_step5\">5</a>, <a href=\"#0x67260e701e0910dd_step6\">6</a></td><td><span style=\"font-size:20px;\"><a class=\"ProveItLink\" href=\"../../../../__pv_it/theorems/ddc941563dffabdeb005429c2f934b2b6ccbeab10/expr.ipynb\"><img src=\"data:image/png;base64,iVBORw0KGgoAAAANSUhEUgAAADYAAAAPBAMAAABdHiGLAAAAMFBMVEX///92dnYiIiIQEBBERERU\n",
       "VFS6urqIiIjc3NxmZmaqqqru7u6YmJgyMjLMzMwAAADiRdoGAAAAAXRSTlMAQObYZgAAANdJREFU\n",
       "GNNjYACBtwwogF3Z5a9RGJRzH1WOgZevYMvOA2Amz/0NqHIsbAfYHziAmbvmN0DEeJyUdKFyXAsg\n",
       "cgfqE8A0n/sGuD7GbLAc24b1ELP3bkCYmfT0AYi1jeF9AVgoAmGf0X8zMCuBoX8CmOGA5BbGMwIg\n",
       "WyJnxoNF+WzvAgFUjsEhB2QdAwPzBZAIB7I+BgdWIGMBAwOTAVjIAFkugBeoGijH+wEsNB1F30EG\n",
       "hiYQ+wdYiGkBPMwEGCUDGLb8v83A5f8J7FDukGzMsIYBNhFImEEAAEUpOYcaSaDVAAAAAElFTkSu\n",
       "QmCC\n",
       "\" style=\"display:inline;vertical-align:middle;\" /></a>, <a class=\"ProveItLink\" href=\"../../../__pv_it/theorems/c0fd769c6d4342cdcc59f5ed3e5084a1c28136db0/expr.ipynb\"><img src=\"data:image/png;base64,iVBORw0KGgoAAAANSUhEUgAAAF0AAAAUBAMAAAAdCCxUAAAAMFBMVEX///92dnYiIiIQEBBERERU\n",
       "VFS6urqIiIjc3NxmZmaqqqru7u6YmJgyMjLMzMwAAADiRdoGAAAAAXRSTlMAQObYZgAAAWxJREFU\n",
       "KM9jYMAJOA6gi6yAMd5iU78FwTz6P3KqSwIDawOUfx+b+htIbBMGBs5/DNwXIDye+xswlfNMQLD5\n",
       "/jAwsP1kYBCHcHfNb0DIeUBpJiQx9h9A/d8ZGDZDuAfqExByT6B0E5JdLAZAtdoMDLxgdWwb1h/A\n",
       "dEclknr+AAY+VaCbGcFy2xjeF4BoTiUw+AlR44Ok/n3McacFILPAHk5g6EfyGwPXLTClBTNAgIGh\n",
       "voGB2xQkpQDyfOTMeAfkkNlrBiLNYNEWwMDgDKTrgRbwfQA5n4GB+QJyvAY2oKv/ClJfAFUP1Mdk\n",
       "AHb/XQhogLkHph4U/AzxwLBhA7qHA6ie9wPCeLYLqP4FqgcFP98XqH9B4czyA8n10LiWhAk8YOAF\n",
       "Wp/sDXKBAMOW/7cZuPw/IQIoDkonwUVY73+dGeIFYvE+wEw3DVjSAwxswp36UdIbDIjjUQ9PeAjA\n",
       "fQGf+i0YIiwN+NRj5scTDAwAVJlZhzec5CcAAAAASUVORK5CYII=\n",
       "\" style=\"display:inline;vertical-align:middle;\" /></a>, <a class=\"ProveItLink\" href=\"../../../../../../__pv_it/common/4eca3b30dcf58a58494e201d1b7886d8643a617b0/expr.ipynb\"><img src=\"data:image/png;base64,iVBORw0KGgoAAAANSUhEUgAAABAAAAAOBAMAAADUAYG5AAAALVBMVEX///8yMjKqqqoiIiLu7u7c\n",
       "3NyIiIjMzMwQEBC6urpERERmZmZUVFSYmJgAAACsPVCVAAAAAXRSTlMAQObYZgAAAGxJREFUCNdj\n",
       "YGC48+70nlUTGICgi4GB+zmQZn/LwMD5Gshge8rAwPsMyOBqYGDwMAEy+A4wsNs4ABl1Z68tVgBp\n",
       "ygtgYOkBMVaAOCChNyBGAsQYhnMTIMawvwJyGIHGzFjCwMAj92b3qUUMDAAXABxvZ4rl5AAAAABJ\n",
       "RU5ErkJggg==\n",
       "\" style=\"display:inline;vertical-align:middle;\" /></a> <a class=\"ProveItLink\" href=\"../../../__pv_it/_proof_contrapose_neg_consequent/a084241c2d602bf19029f758f75fefda10417cc50/proof.ipynb\" style=\"text-decoration: none\">&nbsp;&#x22A2;&nbsp;&nbsp;</a><a class=\"ProveItLink\" href=\"../../../../negation/__pv_it/theorems/e025e57903ee24d89047aba8869ea7beb1da67b40/expr.ipynb\"><img src=\"data:image/png;base64,iVBORw0KGgoAAAANSUhEUgAAABwAAAAOBAMAAADOPWE3AAAAMFBMVEX///8QEBBERES6urqIiIiq\n",
       "qqru7u6YmJgyMjLMzMxUVFTc3Nx2dnYiIiJmZmYAAAAfdW6kAAAAAXRSTlMAQObYZgAAAGNJREFU\n",
       "CNdjYEAAzgYGZMDxAYVb8Q2Zxxb3G5nLzvIZmWvG+h1ZrQHnFwaGt3eB4A6Qy8zA/Q8qswuIZ717\n",
       "9QmJa8DAIIHgsgKpiwjuViDVD3MtA/cFIKW/AWaL/o8EhqD/9wA5jBwoctwhSQAAAABJRU5ErkJg\n",
       "gg==\n",
       "\" style=\"display:inline;vertical-align:middle;\" /></a></span></td></tr>\n",
       "<tr><td>&nbsp;</td><td colspan=4 style=\"text-align:left\"><span style=\"font-size:20px;\"><a class=\"ProveItLink\" href=\"../../../../../../__pv_it/common/e4aad701f7f5516d8e7f0d805d518bf02c13322a0/expr.ipynb\"><img src=\"data:image/png;base64,iVBORw0KGgoAAAANSUhEUgAAAA8AAAAOBAMAAAACpFvcAAAALVBMVEX///8iIiIQEBBERERUVFS6\n",
       "urqIiIjc3NxmZmaqqqru7u6YmJgyMjLMzMwAAACK9jtgAAAAAXRSTlMAQObYZgAAAFtJREFUCNdj\n",
       "YACBOwxQcA5Kc59bAGGs7CuAMDbkBYBp1gXzNoAZSxnuJYAZAQx1DSCa16PDzwCshIGB6QCIMYGB\n",
       "gVEBSLMDGTwPgIxCIGZ+zsCw+N0pBk67hw0AfpEVEQi8t+wAAAAASUVORK5CYII=\n",
       "\" style=\"display:inline;vertical-align:middle;\" /></a> : <a class=\"ProveItLink\" href=\"../../../../../../__pv_it/common/e4aad701f7f5516d8e7f0d805d518bf02c13322a0/expr.ipynb\"><img src=\"data:image/png;base64,iVBORw0KGgoAAAANSUhEUgAAAA8AAAAOBAMAAAACpFvcAAAALVBMVEX///8iIiIQEBBERERUVFS6\n",
       "urqIiIjc3NxmZmaqqqru7u6YmJgyMjLMzMwAAACK9jtgAAAAAXRSTlMAQObYZgAAAFtJREFUCNdj\n",
       "YACBOwxQcA5Kc59bAGGs7CuAMDbkBYBp1gXzNoAZSxnuJYAZAQx1DSCa16PDzwCshIGB6QCIMYGB\n",
       "gVEBSLMDGTwPgIxCIGZ+zsCw+N0pBk67hw0AfpEVEQi8t+wAAAAASUVORK5CYII=\n",
       "\" style=\"display:inline;vertical-align:middle;\" /></a>, <a class=\"ProveItLink\" href=\"../../../../../../__pv_it/common/4eca3b30dcf58a58494e201d1b7886d8643a617b0/expr.ipynb\"><img src=\"data:image/png;base64,iVBORw0KGgoAAAANSUhEUgAAABAAAAAOBAMAAADUAYG5AAAALVBMVEX///8yMjKqqqoiIiLu7u7c\n",
       "3NyIiIjMzMwQEBC6urpERERmZmZUVFSYmJgAAACsPVCVAAAAAXRSTlMAQObYZgAAAGxJREFUCNdj\n",
       "YGC48+70nlUTGICgi4GB+zmQZn/LwMD5Gshge8rAwPsMyOBqYGDwMAEy+A4wsNs4ABl1Z68tVgBp\n",
       "ygtgYOkBMVaAOCChNyBGAsQYhnMTIMawvwJyGIHGzFjCwMAj92b3qUUMDAAXABxvZ4rl5AAAAABJ\n",
       "RU5ErkJggg==\n",
       "\" style=\"display:inline;vertical-align:middle;\" /></a> : <a class=\"ProveItLink\" href=\"../../../__pv_it/theorems/7e62a2cc7488cf98fcf25c6e4b2091ce54d5d3b80/expr.ipynb\"><img src=\"data:image/png;base64,iVBORw0KGgoAAAANSUhEUgAAAB0AAAAOBAMAAAAh/woJAAAAMFBMVEX///8yMjKqqqru7u6IiIgQ\n",
       "EBC6urpERESYmJjMzMxUVFTc3Nx2dnYiIiJmZmYAAABbDZECAAAAAXRSTlMAQObYZgAAAH9JREFU\n",
       "CNdjYIACjvW/3i0vY0AA1gIGhvcTEPz5DQwM+Q8QfP8NDAz9Dgh+KQMDc6wBgv+LgWHuYgSX81eH\n",
       "+yUg/fYuENxhYGD5zcBgugAquYuBgT0AKPYJwecHyrF8QfBB1nN9Q/BB1s8vgBnOwCDKwMAWjrB+\n",
       "4f91r8oVGBgAyy8lZJPyWlAAAAAASUVORK5CYII=\n",
       "\" style=\"display:inline;vertical-align:middle;\" /></a></span></td></tr><tr><td><a name=\"0x67260e701e0910dd_step3\">3</a></td><td>theorem</td><td></td><td><span style=\"font-size:20px;\"> <a class=\"ProveItLink\" href=\"../modus_tollens_denial/thm_proof.ipynb\" style=\"text-decoration: none\">&nbsp;&#x22A2;&nbsp;&nbsp;</a><a class=\"ProveItLink\" href=\"../../../__pv_it/theorems/e56ae95afdc739da3996a4f658b8dfd58f1f7c3d0/expr.ipynb\"><img src=\"data:image/png;base64,iVBORw0KGgoAAAANSUhEUgAAAO8AAAAZBAMAAAArlWSOAAAAMFBMVEX///8QEBCIiIhmZma6urrM\n",
       "zMxUVFQiIiJERETc3Nzu7u6qqqp2dnaYmJgyMjIAAAAcRTyBAAAAAXRSTlMAQObYZgAAAzNJREFU\n",
       "SMfdlk1oE1EQgMf8mGyy2/bgTZFFD/ZSGwikIFUDHuqlNCePNqBi9WKxhwhWLCK69S/xoBZBs6CI\n",
       "RqwBEfHUlSBqWyV69I9o9WAvlVaxrYi+ebObfdskTVnaiwN5u7Mzed/7mTdvABaV/akMrIB0pIw6\n",
       "Hr2wMiIl/1+wVFzwIZwhcAmVD7XBDfhQiq7Btx3abvY7QOAx1Cdrg+U8ezTorsHfHNoU+w0TeAgf\n",
       "A7XB3DbkmqtEHNoUm4GscjBOhs+q1h7jaoy5Bgccx/HudqaGmjhYGc3lriwWXO9zuTvuY8zZdbE1\n",
       "ztovFNWzmta/GLhR004brsEbRcWnj2CUFgi8D2CQfx6sDl6dgCBboJ0zhR6+bHHLJvqXrQRIt8dM\n",
       "63mxt5vQzfYXPhJ4B4T4kVJ+mAHweaIvL4B9ER6HShPITfjJCkTLnxTLSvIa4Am9HQXwplAMPuYs\n",
       "xtojAgfAw0/pjT+4+4WtoBrXHooJpBdaWOtNQnheBHN/S8pWkhjACJ3ANUKq8u+JHsJ/d5MqFwPc\n",
       "NNrHBn72qg6qKt8TwS95G1DBWxLB6I+JiI+6bCU5DLANKsA+gFUlGyyVdqHFr2q47ExUtfOFCL7u\n",
       "x8R6PwGbdQHM/cFMRLaVS+gneCbLS10Gsw0M4H50mLl6cC9aVkMbUP5Uo+sTIjh4GeOpq6WZErsJ\n",
       "Rn9ZY/LJYaXgmn5zCpzBxUgSAzd8t4MLHvBT+g5aIRShGXsvieBwG769AtgkgtHfPDFx2/qcjaQE\n",
       "cgk85tEvWD0l+JEOzrGm3QQ3YoiHJsbTuv+Ipp3APfY4bqdpbM4BZPM2mPuTz62DgpVJEoIGSL/N\n",
       "K9++Lf5OQjj9i83tqwlWsAOvDtkEJGnGstcBfosN66grY4O5vyfKJLZFtHJwYx58c9VSJo25V7yP\n",
       "O9nMi/CUgw15vOI+luZBWicsNfnnmGwoW6UzJjirw0Wj2iXBxbwkSIKzIKWPQZAtl9I/caFYAX42\n",
       "E+2J22DT36olyOpfyx0y8vFo7GS1/EYyXK0CaWZ7XKcCWXCFSmJxUbcQsIbipvQZqO39eCmlj5JZ\n",
       "fvDSC6S64FRlXR1Zlro6+Q9/ZO6nSrqorAAAAABJRU5ErkJggg==\n",
       "\" style=\"display:inline;vertical-align:middle;\" /></a></span></td></tr>\n",
       "<tr><td>&nbsp;</td><td colspan=4 style-\"text-align:left\"><a class=\"ProveItLink\" href=\"../modus_tollens_denial/thm_proof.ipynb\">proveit.logic.booleans.implication.modus_tollens_denial</a></td></tr><tr><td><a name=\"0x67260e701e0910dd_step4\">4</a></td><td>assumption</td><td></td><td><span style=\"font-size:20px;\"><a class=\"ProveItLink\" href=\"../../../../__pv_it/theorems/ddc941563dffabdeb005429c2f934b2b6ccbeab10/expr.ipynb\"><img src=\"data:image/png;base64,iVBORw0KGgoAAAANSUhEUgAAADYAAAAPBAMAAABdHiGLAAAAMFBMVEX///92dnYiIiIQEBBERERU\n",
       "VFS6urqIiIjc3NxmZmaqqqru7u6YmJgyMjLMzMwAAADiRdoGAAAAAXRSTlMAQObYZgAAANdJREFU\n",
       "GNNjYACBtwwogF3Z5a9RGJRzH1WOgZevYMvOA2Amz/0NqHIsbAfYHziAmbvmN0DEeJyUdKFyXAsg\n",
       "cgfqE8A0n/sGuD7GbLAc24b1ELP3bkCYmfT0AYi1jeF9AVgoAmGf0X8zMCuBoX8CmOGA5BbGMwIg\n",
       "WyJnxoNF+WzvAgFUjsEhB2QdAwPzBZAIB7I+BgdWIGMBAwOTAVjIAFkugBeoGijH+wEsNB1F30EG\n",
       "hiYQ+wdYiGkBPMwEGCUDGLb8v83A5f8J7FDukGzMsIYBNhFImEEAAEUpOYcaSaDVAAAAAElFTkSu\n",
       "QmCC\n",
       "\" style=\"display:inline;vertical-align:middle;\" /></a> <a class=\"ProveItLink\" href=\"../../../__pv_it/_proof_contrapose_neg_consequent/ffe630cba69647b289a059df2ac47e68690f7f930/proof.ipynb\" style=\"text-decoration: none\">&nbsp;&#x22A2;&nbsp;&nbsp;</a><a class=\"ProveItLink\" href=\"../../../../__pv_it/theorems/ddc941563dffabdeb005429c2f934b2b6ccbeab10/expr.ipynb\"><img src=\"data:image/png;base64,iVBORw0KGgoAAAANSUhEUgAAADYAAAAPBAMAAABdHiGLAAAAMFBMVEX///92dnYiIiIQEBBERERU\n",
       "VFS6urqIiIjc3NxmZmaqqqru7u6YmJgyMjLMzMwAAADiRdoGAAAAAXRSTlMAQObYZgAAANdJREFU\n",
       "GNNjYACBtwwogF3Z5a9RGJRzH1WOgZevYMvOA2Amz/0NqHIsbAfYHziAmbvmN0DEeJyUdKFyXAsg\n",
       "cgfqE8A0n/sGuD7GbLAc24b1ELP3bkCYmfT0AYi1jeF9AVgoAmGf0X8zMCuBoX8CmOGA5BbGMwIg\n",
       "WyJnxoNF+WzvAgFUjsEhB2QdAwPzBZAIB7I+BgdWIGMBAwOTAVjIAFkugBeoGijH+wEsNB1F30EG\n",
       "hiYQ+wdYiGkBPMwEGCUDGLb8v83A5f8J7FDukGzMsIYBNhFImEEAAEUpOYcaSaDVAAAAAElFTkSu\n",
       "QmCC\n",
       "\" style=\"display:inline;vertical-align:middle;\" /></a></span></td></tr>\n",
       "<tr><td><a name=\"0x67260e701e0910dd_step5\">5</a></td><td>assumption</td><td></td><td><span style=\"font-size:20px;\"><a class=\"ProveItLink\" href=\"../../../__pv_it/theorems/c0fd769c6d4342cdcc59f5ed3e5084a1c28136db0/expr.ipynb\"><img src=\"data:image/png;base64,iVBORw0KGgoAAAANSUhEUgAAAF0AAAAUBAMAAAAdCCxUAAAAMFBMVEX///92dnYiIiIQEBBERERU\n",
       "VFS6urqIiIjc3NxmZmaqqqru7u6YmJgyMjLMzMwAAADiRdoGAAAAAXRSTlMAQObYZgAAAWxJREFU\n",
       "KM9jYMAJOA6gi6yAMd5iU78FwTz6P3KqSwIDawOUfx+b+htIbBMGBs5/DNwXIDye+xswlfNMQLD5\n",
       "/jAwsP1kYBCHcHfNb0DIeUBpJiQx9h9A/d8ZGDZDuAfqExByT6B0E5JdLAZAtdoMDLxgdWwb1h/A\n",
       "dEclknr+AAY+VaCbGcFy2xjeF4BoTiUw+AlR44Ok/n3McacFILPAHk5g6EfyGwPXLTClBTNAgIGh\n",
       "voGB2xQkpQDyfOTMeAfkkNlrBiLNYNEWwMDgDKTrgRbwfQA5n4GB+QJyvAY2oKv/ClJfAFUP1Mdk\n",
       "AHb/XQhogLkHph4U/AzxwLBhA7qHA6ie9wPCeLYLqP4FqgcFP98XqH9B4czyA8n10LiWhAk8YOAF\n",
       "Wp/sDXKBAMOW/7cZuPw/IQIoDkonwUVY73+dGeIFYvE+wEw3DVjSAwxswp36UdIbDIjjUQ9PeAjA\n",
       "fQGf+i0YIiwN+NRj5scTDAwAVJlZhzec5CcAAAAASUVORK5CYII=\n",
       "\" style=\"display:inline;vertical-align:middle;\" /></a> <a class=\"ProveItLink\" href=\"../../../__pv_it/_proof_contrapose_neg_consequent/92b05f861c23792ec84ce136aceaccb4d8427fc70/proof.ipynb\" style=\"text-decoration: none\">&nbsp;&#x22A2;&nbsp;&nbsp;</a><a class=\"ProveItLink\" href=\"../../../__pv_it/theorems/c0fd769c6d4342cdcc59f5ed3e5084a1c28136db0/expr.ipynb\"><img src=\"data:image/png;base64,iVBORw0KGgoAAAANSUhEUgAAAF0AAAAUBAMAAAAdCCxUAAAAMFBMVEX///92dnYiIiIQEBBERERU\n",
       "VFS6urqIiIjc3NxmZmaqqqru7u6YmJgyMjLMzMwAAADiRdoGAAAAAXRSTlMAQObYZgAAAWxJREFU\n",
       "KM9jYMAJOA6gi6yAMd5iU78FwTz6P3KqSwIDawOUfx+b+htIbBMGBs5/DNwXIDye+xswlfNMQLD5\n",
       "/jAwsP1kYBCHcHfNb0DIeUBpJiQx9h9A/d8ZGDZDuAfqExByT6B0E5JdLAZAtdoMDLxgdWwb1h/A\n",
       "dEclknr+AAY+VaCbGcFy2xjeF4BoTiUw+AlR44Ok/n3McacFILPAHk5g6EfyGwPXLTClBTNAgIGh\n",
       "voGB2xQkpQDyfOTMeAfkkNlrBiLNYNEWwMDgDKTrgRbwfQA5n4GB+QJyvAY2oKv/ClJfAFUP1Mdk\n",
       "AHb/XQhogLkHph4U/AzxwLBhA7qHA6ie9wPCeLYLqP4FqgcFP98XqH9B4czyA8n10LiWhAk8YOAF\n",
       "Wp/sDXKBAMOW/7cZuPw/IQIoDkonwUVY73+dGeIFYvE+wEw3DVjSAwxswp36UdIbDIjjUQ9PeAjA\n",
       "fQGf+i0YIiwN+NRj5scTDAwAVJlZhzec5CcAAAAASUVORK5CYII=\n",
       "\" style=\"display:inline;vertical-align:middle;\" /></a></span></td></tr>\n",
       "<tr><td><a name=\"0x67260e701e0910dd_step6\">6</a></td><td>instantiation</td><td><a href=\"#0x67260e701e0910dd_step7\">7</a>, <a href=\"#0x67260e701e0910dd_step8\">8</a></td><td><span style=\"font-size:20px;\"><a class=\"ProveItLink\" href=\"../../../../../../__pv_it/common/4eca3b30dcf58a58494e201d1b7886d8643a617b0/expr.ipynb\"><img src=\"data:image/png;base64,iVBORw0KGgoAAAANSUhEUgAAABAAAAAOBAMAAADUAYG5AAAALVBMVEX///8yMjKqqqoiIiLu7u7c\n",
       "3NyIiIjMzMwQEBC6urpERERmZmZUVFSYmJgAAACsPVCVAAAAAXRSTlMAQObYZgAAAGxJREFUCNdj\n",
       "YGC48+70nlUTGICgi4GB+zmQZn/LwMD5Gshge8rAwPsMyOBqYGDwMAEy+A4wsNs4ABl1Z68tVgBp\n",
       "ygtgYOkBMVaAOCChNyBGAsQYhnMTIMawvwJyGIHGzFjCwMAj92b3qUUMDAAXABxvZ4rl5AAAAABJ\n",
       "RU5ErkJggg==\n",
       "\" style=\"display:inline;vertical-align:middle;\" /></a> <a class=\"ProveItLink\" href=\"../../../__pv_it/_proof_contrapose_neg_consequent/f30d40592270d7b91d947debe717ec58489561100/proof.ipynb\" style=\"text-decoration: none\">&nbsp;&#x22A2;&nbsp;&nbsp;</a><a class=\"ProveItLink\" href=\"../../../__pv_it/_proof_contrapose_neg_consequent/748375ab9c79e65b1e699894c63693f4024449b20/expr.ipynb\"><img src=\"data:image/png;base64,iVBORw0KGgoAAAANSUhEUgAAADoAAAAUBAMAAAAuMzNdAAAAMFBMVEX///+6uroQEBCqqqqIiIgy\n",
       "MjJERETu7u6YmJjMzMxUVFTc3Nx2dnYiIiJmZmYAAAAutVgsAAAAAXRSTlMAQObYZgAAAPlJREFU\n",
       "KM9jYICBHQxogHkDgs2eAGdyrP/1blkiA8NqhCwrkkomoMr3ExhKESJ9SGbOb2BgkH/AwOMAF7mN\n",
       "JOsPNKffgYFdASbAfQFJNgnoDN0CBoZAmADLAyTZXwwMc5cD6XMwAbYGhCTnrw63yyBGK8Pbu0Bw\n",
       "h4HXgAHGZGD5zcBQtAAoawtRvYuBSYABxmRgA7qG5TPI7dhk+YH6WL4gy4JMhsmCvMv1EciWhQnB\n",
       "XbUL4t35CWBXQVzJwAPzEScDQxADA6Ma0LsMb2C+YESExtL/616lgS2KxBqSsGi7gDUWoAApFtg2\n",
       "YMiWYo19GMhGYmOkHI4NDADnS0MIolOvqgAAAABJRU5ErkJggg==\n",
       "\" style=\"display:inline;vertical-align:middle;\" /></a></span></td></tr>\n",
       "<tr><td>&nbsp;</td><td colspan=4 style=\"text-align:left\"><span style=\"font-size:20px;\"><a class=\"ProveItLink\" href=\"../../../../../../__pv_it/common/e4aad701f7f5516d8e7f0d805d518bf02c13322a0/expr.ipynb\"><img src=\"data:image/png;base64,iVBORw0KGgoAAAANSUhEUgAAAA8AAAAOBAMAAAACpFvcAAAALVBMVEX///8iIiIQEBBERERUVFS6\n",
       "urqIiIjc3NxmZmaqqqru7u6YmJgyMjLMzMwAAACK9jtgAAAAAXRSTlMAQObYZgAAAFtJREFUCNdj\n",
       "YACBOwxQcA5Kc59bAGGs7CuAMDbkBYBp1gXzNoAZSxnuJYAZAQx1DSCa16PDzwCshIGB6QCIMYGB\n",
       "gVEBSLMDGTwPgIxCIGZ+zsCw+N0pBk67hw0AfpEVEQi8t+wAAAAASUVORK5CYII=\n",
       "\" style=\"display:inline;vertical-align:middle;\" /></a> : <a class=\"ProveItLink\" href=\"../../../../../../__pv_it/common/4eca3b30dcf58a58494e201d1b7886d8643a617b0/expr.ipynb\"><img src=\"data:image/png;base64,iVBORw0KGgoAAAANSUhEUgAAABAAAAAOBAMAAADUAYG5AAAALVBMVEX///8yMjKqqqoiIiLu7u7c\n",
       "3NyIiIjMzMwQEBC6urpERERmZmZUVFSYmJgAAACsPVCVAAAAAXRSTlMAQObYZgAAAGxJREFUCNdj\n",
       "YGC48+70nlUTGICgi4GB+zmQZn/LwMD5Gshge8rAwPsMyOBqYGDwMAEy+A4wsNs4ABl1Z68tVgBp\n",
       "ygtgYOkBMVaAOCChNyBGAsQYhnMTIMawvwJyGIHGzFjCwMAj92b3qUUMDAAXABxvZ4rl5AAAAABJ\n",
       "RU5ErkJggg==\n",
       "\" style=\"display:inline;vertical-align:middle;\" /></a></span></td></tr><tr><td><a name=\"0x67260e701e0910dd_step7\">7</a></td><td>theorem</td><td></td><td><span style=\"font-size:20px;\"> <a class=\"ProveItLink\" href=\"../../../../negation/_theory_nbs_/proofs/double_negation_intro/thm_proof.ipynb\" style=\"text-decoration: none\">&nbsp;&#x22A2;&nbsp;&nbsp;</a><a class=\"ProveItLink\" href=\"../../../../negation/__pv_it/theorems/2570d79ec029392f14c749d2c1ace36dc4af39570/expr.ipynb\"><img src=\"data:image/png;base64,iVBORw0KGgoAAAANSUhEUgAAAIoAAAAWBAMAAADtDRlvAAAAMFBMVEX///8QEBCIiIhmZma6urrM\n",
       "zMxUVFQiIiJERETc3Nzu7u6qqqp2dnaYmJgyMjIAAAAcRTyBAAAAAXRSTlMAQObYZgAAAc1JREFU\n",
       "OMudVEFLAkEUfrmau+pah36A0A9Q6BCEoNDBUyAdOqZQHToldOhQgUf3IHrTm0JBYiBCh44FXsI6\n",
       "7D0qoTrkRQ+FFki92bfbztayih984zfOvI+Z994OwFhIqp0k+IvEDps8OLnUbCViE7lLvGXzrpPL\n",
       "m61E9JANYpkdNOtgIkfsJJv1qgCBkMYgk00HF2/RTiLOYzj1zWuU2/V6yelCJVuJUMNxHF+Iw1zu\n",
       "yMll0VYCuKtXrGIt4g6Aov1No9vYJerHz5uBed7lFFKYE3gkroJPq7b8TsHGrqc4/R4CCAcM17wE\n",
       "iEOFJfuS6AWX1ksnI4uLL6Z32ILRcWlegmdraY+VNkUMqF5tqb1vcQmcRRxd8OYzHdNF6mywFU8o\n",
       "Z3FZF7O/NzJCOQnYHF6sMiR0KttsZRaWLS5pIWNNKYZyUkKXYN/MLlxo2+8hzLvITVefVMtId5KX\n",
       "rHXETxyiOudYwXzPd4Uq59KI3nyRSpjFNWXtuwv+wgBT9wpEmUULVagkOZcVkD7GfAFUygyRsIZn\n",
       "Uk0XN+rRmK+RSklfo96oQ5AKx6ZLIQvlgd4wihmj/HPRX4a/ECd/pQxfZRIXpxdTLhLHu0wDYZqg\n",
       "H8j2eoNyIuULAAAAAElFTkSuQmCC\n",
       "\" style=\"display:inline;vertical-align:middle;\" /></a></span></td></tr>\n",
       "<tr><td>&nbsp;</td><td colspan=4 style-\"text-align:left\"><a class=\"ProveItLink\" href=\"../../../../negation/_theory_nbs_/proofs/double_negation_intro/thm_proof.ipynb\">proveit.logic.booleans.negation.double_negation_intro</a></td></tr><tr><td><a name=\"0x67260e701e0910dd_step8\">8</a></td><td>assumption</td><td></td><td><span style=\"font-size:20px;\"><a class=\"ProveItLink\" href=\"../../../../../../__pv_it/common/4eca3b30dcf58a58494e201d1b7886d8643a617b0/expr.ipynb\"><img src=\"data:image/png;base64,iVBORw0KGgoAAAANSUhEUgAAABAAAAAOBAMAAADUAYG5AAAALVBMVEX///8yMjKqqqoiIiLu7u7c\n",
       "3NyIiIjMzMwQEBC6urpERERmZmZUVFSYmJgAAACsPVCVAAAAAXRSTlMAQObYZgAAAGxJREFUCNdj\n",
       "YGC48+70nlUTGICgi4GB+zmQZn/LwMD5Gshge8rAwPsMyOBqYGDwMAEy+A4wsNs4ABl1Z68tVgBp\n",
       "ygtgYOkBMVaAOCChNyBGAsQYhnMTIMawvwJyGIHGzFjCwMAj92b3qUUMDAAXABxvZ4rl5AAAAABJ\n",
       "RU5ErkJggg==\n",
       "\" style=\"display:inline;vertical-align:middle;\" /></a> <a class=\"ProveItLink\" href=\"../../../__pv_it/_proof_contrapose_neg_consequent/3e8afd290a1b666c207657aea8e3c78144a9f44f0/proof.ipynb\" style=\"text-decoration: none\">&nbsp;&#x22A2;&nbsp;&nbsp;</a><a class=\"ProveItLink\" href=\"../../../../../../__pv_it/common/4eca3b30dcf58a58494e201d1b7886d8643a617b0/expr.ipynb\"><img src=\"data:image/png;base64,iVBORw0KGgoAAAANSUhEUgAAABAAAAAOBAMAAADUAYG5AAAALVBMVEX///8yMjKqqqoiIiLu7u7c\n",
       "3NyIiIjMzMwQEBC6urpERERmZmZUVFSYmJgAAACsPVCVAAAAAXRSTlMAQObYZgAAAGxJREFUCNdj\n",
       "YGC48+70nlUTGICgi4GB+zmQZn/LwMD5Gshge8rAwPsMyOBqYGDwMAEy+A4wsNs4ABl1Z68tVgBp\n",
       "ygtgYOkBMVaAOCChNyBGAsQYhnMTIMawvwJyGIHGzFjCwMAj92b3qUUMDAAXABxvZ4rl5AAAAABJ\n",
       "RU5ErkJggg==\n",
       "\" style=\"display:inline;vertical-align:middle;\" /></a></span></td></tr>\n",
       "</table>"
      ],
      "text/plain": [
       "\tstep type\trequirements\tstatement\n",
       "0\tgeneralizaton\t1\t|- forall_{A, B | A => not(B), A in BOOLEAN} (B => not(A))\n",
       "1\tdeduction\t2\t{A in BOOLEAN, A => not(B)} |- B => not(A)\n",
       "2\tinstantiation\t3, 4, 5, 6\t{A in BOOLEAN, A => not(B), B} |- not(A)\n",
       "\tA : A, B : not(B)\n",
       "3\ttheorem\t\t|- forall_{A in BOOLEAN} [forall_{B | A => B, not(B)} not(A)]\n",
       "\tproveit.logic.booleans.implication.modus_tollens_denial\n",
       "4\tassumption\t\t{A in BOOLEAN} |- A in BOOLEAN\n",
       "5\tassumption\t\t{A => not(B)} |- A => not(B)\n",
       "6\tinstantiation\t7, 8\t{B} |- not(not(B))\n",
       "\tA : B\n",
       "7\ttheorem\t\t|- forall_{A | A} not(not(A))\n",
       "\tproveit.logic.booleans.negation.double_negation_intro\n",
       "8\tassumption\t\t{B} |- B"
      ]
     },
     "execution_count": 6,
     "metadata": {},
     "output_type": "execute_result"
    }
   ],
   "source": [
    "%qed"
   ]
  },
  {
   "cell_type": "code",
   "execution_count": null,
   "metadata": {},
   "outputs": [],
   "source": []
  }
 ],
 "metadata": {
  "kernelspec": {
   "display_name": "Python 3",
   "language": "python",
   "name": "python3"
  }
 },
 "nbformat": 4,
 "nbformat_minor": 0
}