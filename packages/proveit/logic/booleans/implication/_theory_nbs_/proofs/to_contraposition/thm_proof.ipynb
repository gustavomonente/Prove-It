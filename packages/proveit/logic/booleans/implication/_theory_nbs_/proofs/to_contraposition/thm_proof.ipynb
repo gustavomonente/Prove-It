{
 "cells": [
  {
   "cell_type": "markdown",
   "metadata": {},
   "source": [
    "Proof of <a class=\"ProveItLink\" href=\"../../../../../../_theory_nbs_/theory.ipynb\">proveit</a>.<a class=\"ProveItLink\" href=\"../../../../../_theory_nbs_/theory.ipynb\">logic</a>.<a class=\"ProveItLink\" href=\"../../../../_theory_nbs_/theory.ipynb\">booleans</a>.<a class=\"ProveItLink\" href=\"../../theory.ipynb\">implication</a>.<a class=\"ProveItLink\" href=\"../../theorems.ipynb#to_contraposition\">to_contraposition</a> theorem\n",
    "========"
   ]
  },
  {
   "cell_type": "code",
   "execution_count": 1,
   "metadata": {},
   "outputs": [],
   "source": [
    "import proveit\n",
    "from proveit import defaults\n",
    "from proveit import B\n",
    "from proveit.logic import Not\n",
    "theory = proveit.Theory() # the theorem's theory"
   ]
  },
  {
   "cell_type": "code",
   "execution_count": 2,
   "metadata": {},
   "outputs": [
    {
     "data": {
      "text/html": [
       "Under these <a href=\"presumptions.txt\">presumptions</a>, we begin our proof of<br><strong id=\"to_contraposition\">to_contraposition:</strong> <a class=\"ProveItLink\" href=\"../../../__pv_it/theorems/95494dad070ad0328f707553c55e472ad34608f90/expr.ipynb\"><img src=\"data:image/png;base64,iVBORw0KGgoAAAANSUhEUgAAASQAAAAWBAMAAACbEvzNAAAAMFBMVEX///8QEBCIiIhmZma6urrM\n",
       "zMxUVFQiIiJERETc3Nzu7u6qqqp2dnaYmJgyMjIAAAAcRTyBAAAAAXRSTlMAQObYZgAAA9ZJREFU\n",
       "SMfFVltoFFcY/pzdJDObnSQPBQWlDPhgXjQLKxFKNAs+2Beb1Ad9MwtRiT6Y0DzYosVVRGa9ZOND\n",
       "YyiETC+grJgulFL6ULMSxCsybR9L6tq0D/WhipdoEkT/c5s9e0t8WPCHb2bOmW/mfOf///OfA9TX\n",
       "JiRKrHm0GtXyq9AYCqwxWy9FkZSANHtwPj5wCjhYjXu5pLUXgka4y9qP6iWpZVRA2SqS192LqWrc\n",
       "/0pajwlTAuPMhal6SfpDQlkfBacnhqhTSbVjJa3HHjiN0MIec/WS9IWEsg7y2AMHkbagx1Q+bCpJ\n",
       "sCvd1GQ0gn0nm71YL0XWkEBgJ2iM1TTpf4KeBhWR0kH9jgQEjfDKdY/VS5IREwhsHthziO4zpbFl\n",
       "tl7/MOxN+5JG2A+kebe4fvxsZoC7NFzhataZ6epMy+d0pSTTFwhcMj/bfpQ9/MUuW44wOy4ln9c/\n",
       "/B59jqQRtiPCC4H9XORZG6I88qaiP0ho3/4GXJcJ+Vze/54bVrnYlBPgg5PvjQXgmyS9+Fn7xTXB\n",
       "JqkhrjFPjQQmY5JGaILB5/Xda84MJdG8qEuKdOslrROY9hDwr8xshZOf+Emt+YQAtzH6B03OWGIr\n",
       "T69dDznjA5V/JLmhPz6YkjRC1G/ir+4Mi4k6CBV0SdFLwtO/8utnwDYEfPvs1x4cJ3q1hqRWGs54\n",
       "WiZp7DbKJVGSrCoUJVmF3TzsjssZP/Rik6dL2mWKNdLIUiryAoaoq5y/nT05zs7bZYFTklhZamQB\n",
       "3sE6tv3PTZbIo5ok9lmbpDGk9/ERsYUzeja2J6FLSoaGcMt13RE2rfDT30+Lbs7n7nTiH/ZWS+8x\n",
       "UZb6Uiq9hX2C0vQmSRZJanlSTG/8yAvJn+jgjPvABl2SnTOeyBW+maJYgCHqDuNHYsJLoa9UkGMC\n",
       "wo/AQ5rEGubzrmImqc0rqAu9vESZC5LG0MqWX2TuXobH6xwwmdMkTXXdWpQ/O+DBzMNaguI3fO66\n",
       "J1kuGapGDAlIO/ymv9PlP/s36GtUHt1R3H/fPEJz5mVM0BhsJiXkYZKTacCeUU3SR7BeYH2crJ94\n",
       "rTmEFxDwk8JL0VCtDUW5pijTQtUNJaAVqTtpON86A2sR1jotcGHKjNeIZLPZb5kzJz1cyGPcE3zc\n",
       "4JLy0Xu1tl0V0BW33YAWUM1XsDJfNqzFzWfxgYQmKZPC+EtfZiuix+OddPz5NCf4MCkq9rG5EV+v\n",
       "9Gbl9KseTtJVaeXUZn1zKHunDxScHNopl5Y5wtUeveIIp2jl1F+WkbTiwbX2Qdd+t4Muo1VQ/XeT\n",
       "ZOP9WOg9jYu3nXYXRlN1IGgAAAAASUVORK5CYII=\n",
       "\" style=\"display:inline;vertical-align:middle;\" /></a><br>(see <a class=\"ProveItLink\" href=\"../../../__pv_it/theorems/e6a14441846141fd1349db45daa8c2cd9adb67820/dependencies.ipynb\">dependencies</a>)<br>"
      ],
      "text/plain": [
       "to_contraposition: forall_{A, B | A => B, A in BOOLEAN} ([not](B) => [not](A))"
      ]
     },
     "execution_count": 2,
     "metadata": {},
     "output_type": "execute_result"
    }
   ],
   "source": [
    "%proving to_contraposition"
   ]
  },
  {
   "cell_type": "code",
   "execution_count": 3,
   "metadata": {},
   "outputs": [
    {
     "data": {
      "text/html": [
       "<strong id=\"defaults.assumptions\">defaults.assumptions:</strong> <a class=\"ProveItLink\" href=\"../../../__pv_it/_proof_to_contraposition/dc70858449828ae0bb4509d4309294a91bf9c1a00/expr.ipynb\"><img src=\"data:image/png;base64,iVBORw0KGgoAAAANSUhEUgAAALUAAAAUBAMAAAA5PWHRAAAAMFBMVEX///9UVFTMzMx2dna6uroQ\n",
       "EBCqqqqIiIgiIiJmZmYyMjJERETu7u6YmJjc3NwAAAC+aOQFAAAAAXRSTlMAQObYZgAAAjJJREFU\n",
       "OMu1Vb9PFEEU/m5vPe72bpcL0BCinK0UbEcIzTUmFJCcCQXR5v4Ao9dagYWGGIqjMlRuZUEIdw1I\n",
       "AuoVSvhRcMaCCrOlnWDjr8g5O3PzZmZZSCThFTs7733fN2/fvJkFvDauwx5FjwPxficJ8KkzuLRV\n",
       "VvMYqOfZ1u/ZgWROKmTva8LVSFz9AZD7rqZxkGPVDvbaiZxCALh17nAbrQRp6y9g/6LpOVDebveU\n",
       "msmcMSAbcs/Oq1CF39FHnzHBH+QnkLu58KKrnanGtCXnI/BVeNpzWllHKK8KwyySX4KsNy3KOz0V\n",
       "05Ycp4wn3GG3Hmtl69YJ6C3Cekp1INB+S9Vk8nbJ1JacdB1vueMDRmvRmFvgJks8evNos0osCcIt\n",
       "Ve/ZzkxsjyTHDfCcO8r4VtfimddinAtRuEdeAjW1vUwf+1BZ+YqTmQdf1hpcHjbKti+yWY/0ZeIE\n",
       "su6vMOtqozmtaF5RcawToW0DNwJN2usXDXEa4Wqy3BLk6XmjmTK1JYdp85qwZbIV/mUrwkJqVQzL\n",
       "BiIQKrp20TG0iWPP8730GM05URA7UK1q/ZE8BXpp5P3Z0CYO28txiB7Pn2nV7vaYwxK8uw0cBiYo\n",
       "W6Uz76fHiyLOrUQc5HxMstuqs4rM+5+qUfrEkGqcLg9tRFqLJqgwNGXcVVl1vIgDpyTPvGHnXA9j\n",
       "c3tCnPmL4pHtamfwMvOvEB/TL6aLrVD7/3h0x8p/w2XmXiGejwp7Tf+0L8A/3I+9Iee/IygAAAAA\n",
       "SUVORK5CYII=\n",
       "\" style=\"display:inline;vertical-align:middle;\" /></a><br>"
      ],
      "text/plain": [
       "defaults.assumptions: (A => B, A in BOOLEAN, [not](B))"
      ]
     },
     "execution_count": 3,
     "metadata": {},
     "output_type": "execute_result"
    }
   ],
   "source": [
    "defaults.assumptions = list(to_contraposition.all_conditions()) + [Not(B)]"
   ]
  },
  {
   "cell_type": "code",
   "execution_count": 4,
   "metadata": {},
   "outputs": [
    {
     "data": {
      "text/html": [
       "<strong id=\"A_implies_B\">A_implies_B:</strong> <a class=\"ProveItLink\" href=\"../../../__pv_it/theorems/9fb6b166895505172ae956c828809d363bcff2a30/expr.ipynb\"><img src=\"data:image/png;base64,iVBORw0KGgoAAAANSUhEUgAAAEAAAAAPBAMAAACmSdRUAAAAMFBMVEX///92dnYiIiIQEBBERERU\n",
       "VFS6urqIiIjc3NxmZmaqqqru7u6YmJgyMjLMzMwAAADiRdoGAAAAAXRSTlMAQObYZgAAAO5JREFU\n",
       "GNNjYACBtwxYwNH/kVNdEiDs+9gUMJgwMHD+A7N47m/AIs/3h4GB7SeYuWt+A0LcA8Zg/wHU+h3M\n",
       "PFCfgFDwBMZgMWBg2KwNYrFtWH8AoYBnApTBH8DApwq2exvD+wIQzakEBj+hCt7HHHdaAGYlMPRP\n",
       "QHIc1y0IXd/AwG0Kdm3kzHgHZOfvNQNTziBFICPYGBiYLyDJcwRC/PQVpABkN1ARkwHYDXchoAEe\n",
       "DAzxQO9xABXwfkAYwHYBEQx8X4CMJpCXfyC5ABqqvEBTk70ZGLb8v83A5f8J4Y04CMV6/+vMEC9s\n",
       "UdSAygUACNlBmGjrK1sAAAAASUVORK5CYII=\n",
       "\" style=\"display:inline;vertical-align:middle;\" /></a><br>"
      ],
      "text/plain": [
       "A_implies_B: A => B"
      ]
     },
     "execution_count": 4,
     "metadata": {},
     "output_type": "execute_result"
    }
   ],
   "source": [
    "A_implies_B = defaults.assumptions[0]"
   ]
  },
  {
   "cell_type": "code",
   "execution_count": 5,
   "metadata": {},
   "outputs": [
    {
     "data": {
      "text/html": [
       "<span style=\"font-size:20px;\"><a class=\"ProveItLink\" href=\"../../../../__pv_it/theorems/bc796b8e7562f2d661739850b78776738bfc78d80/expr.ipynb\"><img src=\"data:image/png;base64,iVBORw0KGgoAAAANSUhEUgAAADYAAAAPBAMAAABdHiGLAAAAMFBMVEX///92dnYiIiIQEBBERERU\n",
       "VFS6urqIiIjc3NxmZmaqqqru7u6YmJgyMjLMzMwAAADiRdoGAAAAAXRSTlMAQObYZgAAANdJREFU\n",
       "GNNjYACBtwwogF3Z5a9RGJRzH1WOgZevYMvOA2Amz/0NqHIsbAfYHziAmbvmN0DEeJyUdKFyXAsg\n",
       "cgfqE8A0n/sGuD7GbLAc24b1ELP3bkCYmfT0AYi1jeF9AVgoAmGf0X8zMCuBoX8CmOGA5BbGMwIg\n",
       "WyJnxoNF+WzvAgFUjsEhB2QdAwPzBZAIB7I+BgdWIGMBAwOTAVjIAFkugBeoGijH+wEsNB1F30EG\n",
       "hiYQ+wdYiGkBPMwEGCUDGLb8v83A5f8J7FDukGzMsIYBNhFImEEAAEUpOYcaSaDVAAAAAElFTkSu\n",
       "QmCC\n",
       "\" style=\"display:inline;vertical-align:middle;\" /></a>, <a class=\"ProveItLink\" href=\"../../../__pv_it/theorems/9fb6b166895505172ae956c828809d363bcff2a30/expr.ipynb\"><img src=\"data:image/png;base64,iVBORw0KGgoAAAANSUhEUgAAAEAAAAAPBAMAAACmSdRUAAAAMFBMVEX///92dnYiIiIQEBBERERU\n",
       "VFS6urqIiIjc3NxmZmaqqqru7u6YmJgyMjLMzMwAAADiRdoGAAAAAXRSTlMAQObYZgAAAO5JREFU\n",
       "GNNjYACBtwxYwNH/kVNdEiDs+9gUMJgwMHD+A7N47m/AIs/3h4GB7SeYuWt+A0LcA8Zg/wHU+h3M\n",
       "PFCfgFDwBMZgMWBg2KwNYrFtWH8AoYBnApTBH8DApwq2exvD+wIQzakEBj+hCt7HHHdaAGYlMPRP\n",
       "QHIc1y0IXd/AwG0Kdm3kzHgHZOfvNQNTziBFICPYGBiYLyDJcwRC/PQVpABkN1ARkwHYDXchoAEe\n",
       "DAzxQO9xABXwfkAYwHYBEQx8X4CMJpCXfyC5ABqqvEBTk70ZGLb8v83A5f8J4Y04CMV6/+vMEC9s\n",
       "UdSAygUACNlBmGjrK1sAAAAASUVORK5CYII=\n",
       "\" style=\"display:inline;vertical-align:middle;\" /></a> <a class=\"ProveItLink\" href=\"../../../__pv_it/_proof_to_contraposition/8d143114e3ce5cdc50622039ef8c356d06f1e64a0/proof.ipynb\" style=\"text-decoration: none\">&nbsp;&#x22A2;&nbsp;&nbsp;</a><a class=\"ProveItLink\" href=\"../../../__pv_it/theorems/3dc3d7ec468c1742a0c1f0d57a754d21d99aa2110/expr.ipynb\"><img src=\"data:image/png;base64,iVBORw0KGgoAAAANSUhEUgAAAHkAAAAUBAMAAABbvo/+AAAAMFBMVEX////MzMxUVFR2dna6uroQ\n",
       "EBCqqqqIiIgiIiJmZmYyMjJERETu7u6YmJjc3NwAAACgK8IjAAAAAXRSTlMAQObYZgAAAb5JREFU\n",
       "OMuNlD1LA0EQht/TM7kkl1P8A6YVEe3ERtIIIhYiVtqkVUFsrSKKoiB6WKmVjY2IsVEEv9IIQhqx\n",
       "ES0kpBAbIQZBYvya3U1u93ILOhB2d+55J7Mzuws4N6izaejsRYvl5Pr2p33jNImGvEZsH6orYwcC\n",
       "O1Cc40DkFfaORh31hYwWwbG4q0T8Aswy0KNR3/tWD5/gmKXEDH9TtHfgSrpitc9rvm1MEMmwZ8UZ\n",
       "GybXKuWVlOlUt+vMqep4+A0cm1WczQkY81mg0Q1kHHZV9VCI9siwc8XZ1nl3kmKhedk2l5mtC1lM\n",
       "7audNN4FtkRl5lg3kM7DHiF3SE1zksWDlaqGW6CFCacssNEq5CSAIxrThBlF9Y92WRWaaqUo0K91\n",
       "a6MCjqnqElPP1KkLfahX03xMqJekmrUbXfTJ5Jlv73ETp8lKSXWIhkVw7FyqWbuNilc1YYPwV43U\n",
       "TzRkBNZbw1oQpXb3n9E00i13vS9Gr4mGaP1lnmMDHtiQKW11HPNT3CKd1anptcG+/Mhi6meFY5bm\n",
       "Ql3LqQPdSfWwuBt0/31LPOwieJV1NzSW12K5f4CB18HDgi/T4/9eJsJ+AUwDfNKudYnMAAAAAElF\n",
       "TkSuQmCC\n",
       "\" style=\"display:inline;vertical-align:middle;\" /></a></span>"
      ],
      "text/plain": [
       "{A in BOOLEAN, A => B} |- [not](B) => [not](A)"
      ]
     },
     "execution_count": 5,
     "metadata": {},
     "output_type": "execute_result"
    }
   ],
   "source": [
    "A_implies_B.deny_antecedent().as_implication(Not(B))"
   ]
  },
  {
   "cell_type": "code",
   "execution_count": 6,
   "metadata": {},
   "outputs": [
    {
     "data": {
      "text/html": [
       "<table><tr><th>&nbsp;</th><th>step type</th><th>requirements</th><th>statement</th></tr>\n",
       "<tr><td><a name=\"-0x11eaa345dd3b74ce_step0\">0</a></td><td>generalizaton</td><td><a href=\"#-0x11eaa345dd3b74ce_step1\">1</a></td><td><span style=\"font-size:20px;\"> <a class=\"ProveItLink\" href=\"../../../__pv_it/_proof_to_contraposition/048a2df91b5fb9d714341cecebd9759280e967780/proof.ipynb\" style=\"text-decoration: none\">&nbsp;&#x22A2;&nbsp;&nbsp;</a><a class=\"ProveItLink\" href=\"../../../__pv_it/theorems/95494dad070ad0328f707553c55e472ad34608f90/expr.ipynb\"><img src=\"data:image/png;base64,iVBORw0KGgoAAAANSUhEUgAAASQAAAAWBAMAAACbEvzNAAAAMFBMVEX///8QEBCIiIhmZma6urrM\n",
       "zMxUVFQiIiJERETc3Nzu7u6qqqp2dnaYmJgyMjIAAAAcRTyBAAAAAXRSTlMAQObYZgAAA9ZJREFU\n",
       "SMfFVltoFFcY/pzdJDObnSQPBQWlDPhgXjQLKxFKNAs+2Beb1Ad9MwtRiT6Y0DzYosVVRGa9ZOND\n",
       "YyiETC+grJgulFL6ULMSxCsybR9L6tq0D/WhipdoEkT/c5s9e0t8WPCHb2bOmW/mfOf///OfA9TX\n",
       "JiRKrHm0GtXyq9AYCqwxWy9FkZSANHtwPj5wCjhYjXu5pLUXgka4y9qP6iWpZVRA2SqS192LqWrc\n",
       "/0pajwlTAuPMhal6SfpDQlkfBacnhqhTSbVjJa3HHjiN0MIec/WS9IWEsg7y2AMHkbagx1Q+bCpJ\n",
       "sCvd1GQ0gn0nm71YL0XWkEBgJ2iM1TTpf4KeBhWR0kH9jgQEjfDKdY/VS5IREwhsHthziO4zpbFl\n",
       "tl7/MOxN+5JG2A+kebe4fvxsZoC7NFzhataZ6epMy+d0pSTTFwhcMj/bfpQ9/MUuW44wOy4ln9c/\n",
       "/B59jqQRtiPCC4H9XORZG6I88qaiP0ho3/4GXJcJ+Vze/54bVrnYlBPgg5PvjQXgmyS9+Fn7xTXB\n",
       "JqkhrjFPjQQmY5JGaILB5/Xda84MJdG8qEuKdOslrROY9hDwr8xshZOf+Emt+YQAtzH6B03OWGIr\n",
       "T69dDznjA5V/JLmhPz6YkjRC1G/ir+4Mi4k6CBV0SdFLwtO/8utnwDYEfPvs1x4cJ3q1hqRWGs54\n",
       "WiZp7DbKJVGSrCoUJVmF3TzsjssZP/Rik6dL2mWKNdLIUiryAoaoq5y/nT05zs7bZYFTklhZamQB\n",
       "3sE6tv3PTZbIo5ok9lmbpDGk9/ERsYUzeja2J6FLSoaGcMt13RE2rfDT30+Lbs7n7nTiH/ZWS+8x\n",
       "UZb6Uiq9hX2C0vQmSRZJanlSTG/8yAvJn+jgjPvABl2SnTOeyBW+maJYgCHqDuNHYsJLoa9UkGMC\n",
       "wo/AQ5rEGubzrmImqc0rqAu9vESZC5LG0MqWX2TuXobH6xwwmdMkTXXdWpQ/O+DBzMNaguI3fO66\n",
       "J1kuGapGDAlIO/ymv9PlP/s36GtUHt1R3H/fPEJz5mVM0BhsJiXkYZKTacCeUU3SR7BeYH2crJ94\n",
       "rTmEFxDwk8JL0VCtDUW5pijTQtUNJaAVqTtpON86A2sR1jotcGHKjNeIZLPZb5kzJz1cyGPcE3zc\n",
       "4JLy0Xu1tl0V0BW33YAWUM1XsDJfNqzFzWfxgYQmKZPC+EtfZiuix+OddPz5NCf4MCkq9rG5EV+v\n",
       "9Gbl9KseTtJVaeXUZn1zKHunDxScHNopl5Y5wtUeveIIp2jl1F+WkbTiwbX2Qdd+t4Muo1VQ/XeT\n",
       "ZOP9WOg9jYu3nXYXRlN1IGgAAAAASUVORK5CYII=\n",
       "\" style=\"display:inline;vertical-align:middle;\" /></a></span></td></tr>\n",
       "<tr><td><a name=\"-0x11eaa345dd3b74ce_step1\">1</a></td><td>deduction</td><td><a href=\"#-0x11eaa345dd3b74ce_step2\">2</a></td><td><span style=\"font-size:20px;\"><a class=\"ProveItLink\" href=\"../../../../__pv_it/theorems/bc796b8e7562f2d661739850b78776738bfc78d80/expr.ipynb\"><img src=\"data:image/png;base64,iVBORw0KGgoAAAANSUhEUgAAADYAAAAPBAMAAABdHiGLAAAAMFBMVEX///92dnYiIiIQEBBERERU\n",
       "VFS6urqIiIjc3NxmZmaqqqru7u6YmJgyMjLMzMwAAADiRdoGAAAAAXRSTlMAQObYZgAAANdJREFU\n",
       "GNNjYACBtwwogF3Z5a9RGJRzH1WOgZevYMvOA2Amz/0NqHIsbAfYHziAmbvmN0DEeJyUdKFyXAsg\n",
       "cgfqE8A0n/sGuD7GbLAc24b1ELP3bkCYmfT0AYi1jeF9AVgoAmGf0X8zMCuBoX8CmOGA5BbGMwIg\n",
       "WyJnxoNF+WzvAgFUjsEhB2QdAwPzBZAIB7I+BgdWIGMBAwOTAVjIAFkugBeoGijH+wEsNB1F30EG\n",
       "hiYQ+wdYiGkBPMwEGCUDGLb8v83A5f8J7FDukGzMsIYBNhFImEEAAEUpOYcaSaDVAAAAAElFTkSu\n",
       "QmCC\n",
       "\" style=\"display:inline;vertical-align:middle;\" /></a>, <a class=\"ProveItLink\" href=\"../../../__pv_it/theorems/9fb6b166895505172ae956c828809d363bcff2a30/expr.ipynb\"><img src=\"data:image/png;base64,iVBORw0KGgoAAAANSUhEUgAAAEAAAAAPBAMAAACmSdRUAAAAMFBMVEX///92dnYiIiIQEBBERERU\n",
       "VFS6urqIiIjc3NxmZmaqqqru7u6YmJgyMjLMzMwAAADiRdoGAAAAAXRSTlMAQObYZgAAAO5JREFU\n",
       "GNNjYACBtwxYwNH/kVNdEiDs+9gUMJgwMHD+A7N47m/AIs/3h4GB7SeYuWt+A0LcA8Zg/wHU+h3M\n",
       "PFCfgFDwBMZgMWBg2KwNYrFtWH8AoYBnApTBH8DApwq2exvD+wIQzakEBj+hCt7HHHdaAGYlMPRP\n",
       "QHIc1y0IXd/AwG0Kdm3kzHgHZOfvNQNTziBFICPYGBiYLyDJcwRC/PQVpABkN1ARkwHYDXchoAEe\n",
       "DAzxQO9xABXwfkAYwHYBEQx8X4CMJpCXfyC5ABqqvEBTk70ZGLb8v83A5f8J4Y04CMV6/+vMEC9s\n",
       "UdSAygUACNlBmGjrK1sAAAAASUVORK5CYII=\n",
       "\" style=\"display:inline;vertical-align:middle;\" /></a> <a class=\"ProveItLink\" href=\"../../../__pv_it/_proof_to_contraposition/8d143114e3ce5cdc50622039ef8c356d06f1e64a0/proof.ipynb\" style=\"text-decoration: none\">&nbsp;&#x22A2;&nbsp;&nbsp;</a><a class=\"ProveItLink\" href=\"../../../__pv_it/theorems/3dc3d7ec468c1742a0c1f0d57a754d21d99aa2110/expr.ipynb\"><img src=\"data:image/png;base64,iVBORw0KGgoAAAANSUhEUgAAAHkAAAAUBAMAAABbvo/+AAAAMFBMVEX////MzMxUVFR2dna6uroQ\n",
       "EBCqqqqIiIgiIiJmZmYyMjJERETu7u6YmJjc3NwAAACgK8IjAAAAAXRSTlMAQObYZgAAAb5JREFU\n",
       "OMuNlD1LA0EQht/TM7kkl1P8A6YVEe3ERtIIIhYiVtqkVUFsrSKKoiB6WKmVjY2IsVEEv9IIQhqx\n",
       "ES0kpBAbIQZBYvya3U1u93ILOhB2d+55J7Mzuws4N6izaejsRYvl5Pr2p33jNImGvEZsH6orYwcC\n",
       "O1Cc40DkFfaORh31hYwWwbG4q0T8Aswy0KNR3/tWD5/gmKXEDH9TtHfgSrpitc9rvm1MEMmwZ8UZ\n",
       "GybXKuWVlOlUt+vMqep4+A0cm1WczQkY81mg0Q1kHHZV9VCI9siwc8XZ1nl3kmKhedk2l5mtC1lM\n",
       "7audNN4FtkRl5lg3kM7DHiF3SE1zksWDlaqGW6CFCacssNEq5CSAIxrThBlF9Y92WRWaaqUo0K91\n",
       "a6MCjqnqElPP1KkLfahX03xMqJekmrUbXfTJ5Jlv73ETp8lKSXWIhkVw7FyqWbuNilc1YYPwV43U\n",
       "TzRkBNZbw1oQpXb3n9E00i13vS9Gr4mGaP1lnmMDHtiQKW11HPNT3CKd1anptcG+/Mhi6meFY5bm\n",
       "Ql3LqQPdSfWwuBt0/31LPOwieJV1NzSW12K5f4CB18HDgi/T4/9eJsJ+AUwDfNKudYnMAAAAAElF\n",
       "TkSuQmCC\n",
       "\" style=\"display:inline;vertical-align:middle;\" /></a></span></td></tr>\n",
       "<tr><td><a name=\"-0x11eaa345dd3b74ce_step2\">2</a></td><td>instantiation</td><td><a href=\"#-0x11eaa345dd3b74ce_step3\">3</a>, <a href=\"#-0x11eaa345dd3b74ce_step4\">4</a>, <a href=\"#-0x11eaa345dd3b74ce_step5\">5</a>, <a href=\"#-0x11eaa345dd3b74ce_step6\">6</a></td><td><span style=\"font-size:20px;\"><a class=\"ProveItLink\" href=\"../../../../__pv_it/theorems/bc796b8e7562f2d661739850b78776738bfc78d80/expr.ipynb\"><img src=\"data:image/png;base64,iVBORw0KGgoAAAANSUhEUgAAADYAAAAPBAMAAABdHiGLAAAAMFBMVEX///92dnYiIiIQEBBERERU\n",
       "VFS6urqIiIjc3NxmZmaqqqru7u6YmJgyMjLMzMwAAADiRdoGAAAAAXRSTlMAQObYZgAAANdJREFU\n",
       "GNNjYACBtwwogF3Z5a9RGJRzH1WOgZevYMvOA2Amz/0NqHIsbAfYHziAmbvmN0DEeJyUdKFyXAsg\n",
       "cgfqE8A0n/sGuD7GbLAc24b1ELP3bkCYmfT0AYi1jeF9AVgoAmGf0X8zMCuBoX8CmOGA5BbGMwIg\n",
       "WyJnxoNF+WzvAgFUjsEhB2QdAwPzBZAIB7I+BgdWIGMBAwOTAVjIAFkugBeoGijH+wEsNB1F30EG\n",
       "hiYQ+wdYiGkBPMwEGCUDGLb8v83A5f8J7FDukGzMsIYBNhFImEEAAEUpOYcaSaDVAAAAAElFTkSu\n",
       "QmCC\n",
       "\" style=\"display:inline;vertical-align:middle;\" /></a>, <a class=\"ProveItLink\" href=\"../../../__pv_it/theorems/9fb6b166895505172ae956c828809d363bcff2a30/expr.ipynb\"><img src=\"data:image/png;base64,iVBORw0KGgoAAAANSUhEUgAAAEAAAAAPBAMAAACmSdRUAAAAMFBMVEX///92dnYiIiIQEBBERERU\n",
       "VFS6urqIiIjc3NxmZmaqqqru7u6YmJgyMjLMzMwAAADiRdoGAAAAAXRSTlMAQObYZgAAAO5JREFU\n",
       "GNNjYACBtwxYwNH/kVNdEiDs+9gUMJgwMHD+A7N47m/AIs/3h4GB7SeYuWt+A0LcA8Zg/wHU+h3M\n",
       "PFCfgFDwBMZgMWBg2KwNYrFtWH8AoYBnApTBH8DApwq2exvD+wIQzakEBj+hCt7HHHdaAGYlMPRP\n",
       "QHIc1y0IXd/AwG0Kdm3kzHgHZOfvNQNTziBFICPYGBiYLyDJcwRC/PQVpABkN1ARkwHYDXchoAEe\n",
       "DAzxQO9xABXwfkAYwHYBEQx8X4CMJpCXfyC5ABqqvEBTk70ZGLb8v83A5f8J4Y04CMV6/+vMEC9s\n",
       "UdSAygUACNlBmGjrK1sAAAAASUVORK5CYII=\n",
       "\" style=\"display:inline;vertical-align:middle;\" /></a>, <a class=\"ProveItLink\" href=\"../../../__pv_it/theorems/303f482d5bc18658cf260ef56d927698c7912bf90/expr.ipynb\"><img src=\"data:image/png;base64,iVBORw0KGgoAAAANSUhEUgAAAB0AAAAOBAMAAAAh/woJAAAAMFBMVEX///8yMjKqqqru7u6IiIgQ\n",
       "EBC6urpERESYmJjMzMxUVFTc3Nx2dnYiIiJmZmYAAABbDZECAAAAAXRSTlMAQObYZgAAAH9JREFU\n",
       "CNdjYIACjvW/3i0vY0AA1gIGhvcTEPz5DQwM+Q8QfP8NDAz9Dgh+KQMDc6wBgv+LgWHuYgSX81eH\n",
       "+yUg/fYuENxhYGD5zcBgugAquYuBgT0AKPYJwecHyrF8QfBB1nN9Q/BB1s8vgBnOwCDKwMAWjrB+\n",
       "4f91r8oVGBgAyy8lZJPyWlAAAAAASUVORK5CYII=\n",
       "\" style=\"display:inline;vertical-align:middle;\" /></a> <a class=\"ProveItLink\" href=\"../../../__pv_it/_proof_to_contraposition/3465dcf93e8e7504fcc6056d075a3f80a8edf9e30/proof.ipynb\" style=\"text-decoration: none\">&nbsp;&#x22A2;&nbsp;&nbsp;</a><a class=\"ProveItLink\" href=\"../../../../negation/__pv_it/theorems/01f448c1859c833a809fa283ac70522a4677a9270/expr.ipynb\"><img src=\"data:image/png;base64,iVBORw0KGgoAAAANSUhEUgAAABwAAAAOBAMAAADOPWE3AAAAMFBMVEX///8QEBBERES6urqIiIiq\n",
       "qqru7u6YmJgyMjLMzMxUVFTc3Nx2dnYiIiJmZmYAAAAfdW6kAAAAAXRSTlMAQObYZgAAAGNJREFU\n",
       "CNdjYEAAzgYGZMDxAYVb8Q2Zxxb3G5nLzvIZmWvG+h1ZrQHnFwaGt3eB4A6Qy8zA/Q8qswuIZ717\n",
       "9QmJa8DAIIHgsgKpiwjuViDVD3MtA/cFIKW/AWaL/o8EhqD/9wA5jBwoctwhSQAAAABJRU5ErkJg\n",
       "gg==\n",
       "\" style=\"display:inline;vertical-align:middle;\" /></a></span></td></tr>\n",
       "<tr><td>&nbsp;</td><td colspan=4 style=\"text-align:left\"><span style=\"font-size:20px;\"><a class=\"ProveItLink\" href=\"../../../../../../__pv_it/common/09585084922504426caf1db2ff588a23a0932a960/expr.ipynb\"><img src=\"data:image/png;base64,iVBORw0KGgoAAAANSUhEUgAAAA8AAAAOBAMAAAACpFvcAAAALVBMVEX///8iIiIQEBBERERUVFS6\n",
       "urqIiIjc3NxmZmaqqqru7u6YmJgyMjLMzMwAAACK9jtgAAAAAXRSTlMAQObYZgAAAFtJREFUCNdj\n",
       "YACBOwxQcA5Kc59bAGGs7CuAMDbkBYBp1gXzNoAZSxnuJYAZAQx1DSCa16PDzwCshIGB6QCIMYGB\n",
       "gVEBSLMDGTwPgIxCIGZ+zsCw+N0pBk67hw0AfpEVEQi8t+wAAAAASUVORK5CYII=\n",
       "\" style=\"display:inline;vertical-align:middle;\" /></a> : <a class=\"ProveItLink\" href=\"../../../../../../__pv_it/common/09585084922504426caf1db2ff588a23a0932a960/expr.ipynb\"><img src=\"data:image/png;base64,iVBORw0KGgoAAAANSUhEUgAAAA8AAAAOBAMAAAACpFvcAAAALVBMVEX///8iIiIQEBBERERUVFS6\n",
       "urqIiIjc3NxmZmaqqqru7u6YmJgyMjLMzMwAAACK9jtgAAAAAXRSTlMAQObYZgAAAFtJREFUCNdj\n",
       "YACBOwxQcA5Kc59bAGGs7CuAMDbkBYBp1gXzNoAZSxnuJYAZAQx1DSCa16PDzwCshIGB6QCIMYGB\n",
       "gVEBSLMDGTwPgIxCIGZ+zsCw+N0pBk67hw0AfpEVEQi8t+wAAAAASUVORK5CYII=\n",
       "\" style=\"display:inline;vertical-align:middle;\" /></a>, <a class=\"ProveItLink\" href=\"../../../../../../__pv_it/common/a9162d1c3cc0470c02e5daf414500903a7a419230/expr.ipynb\"><img src=\"data:image/png;base64,iVBORw0KGgoAAAANSUhEUgAAABAAAAAOBAMAAADUAYG5AAAALVBMVEX///8yMjKqqqoiIiLu7u7c\n",
       "3NyIiIjMzMwQEBC6urpERERmZmZUVFSYmJgAAACsPVCVAAAAAXRSTlMAQObYZgAAAGxJREFUCNdj\n",
       "YGC48+70nlUTGICgi4GB+zmQZn/LwMD5Gshge8rAwPsMyOBqYGDwMAEy+A4wsNs4ABl1Z68tVgBp\n",
       "ygtgYOkBMVaAOCChNyBGAsQYhnMTIMawvwJyGIHGzFjCwMAj92b3qUUMDAAXABxvZ4rl5AAAAABJ\n",
       "RU5ErkJggg==\n",
       "\" style=\"display:inline;vertical-align:middle;\" /></a> : <a class=\"ProveItLink\" href=\"../../../../../../__pv_it/common/a9162d1c3cc0470c02e5daf414500903a7a419230/expr.ipynb\"><img src=\"data:image/png;base64,iVBORw0KGgoAAAANSUhEUgAAABAAAAAOBAMAAADUAYG5AAAALVBMVEX///8yMjKqqqoiIiLu7u7c\n",
       "3NyIiIjMzMwQEBC6urpERERmZmZUVFSYmJgAAACsPVCVAAAAAXRSTlMAQObYZgAAAGxJREFUCNdj\n",
       "YGC48+70nlUTGICgi4GB+zmQZn/LwMD5Gshge8rAwPsMyOBqYGDwMAEy+A4wsNs4ABl1Z68tVgBp\n",
       "ygtgYOkBMVaAOCChNyBGAsQYhnMTIMawvwJyGIHGzFjCwMAj92b3qUUMDAAXABxvZ4rl5AAAAABJ\n",
       "RU5ErkJggg==\n",
       "\" style=\"display:inline;vertical-align:middle;\" /></a></span></td></tr><tr><td><a name=\"-0x11eaa345dd3b74ce_step3\">3</a></td><td>theorem</td><td></td><td><span style=\"font-size:20px;\"> <a class=\"ProveItLink\" href=\"../modus_tollens_denial/thm_proof.ipynb\" style=\"text-decoration: none\">&nbsp;&#x22A2;&nbsp;&nbsp;</a><a class=\"ProveItLink\" href=\"../../../__pv_it/theorems/68d9d39f84a856e3b5112a4b1bcea627da5c57a80/expr.ipynb\"><img src=\"data:image/png;base64,iVBORw0KGgoAAAANSUhEUgAAAO8AAAAZBAMAAAArlWSOAAAAMFBMVEX///8QEBCIiIhmZma6urrM\n",
       "zMxUVFQiIiJERETc3Nzu7u6qqqp2dnaYmJgyMjIAAAAcRTyBAAAAAXRSTlMAQObYZgAAAzNJREFU\n",
       "SMfdlk1oE1EQgMf8mGyy2/bgTZFFD/ZSGwikIFUDHuqlNCePNqBi9WKxhwhWLCK69S/xoBZBs6CI\n",
       "RqwBEfHUlSBqWyV69I9o9WAvlVaxrYi+ebObfdskTVnaiwN5u7Mzed/7mTdvABaV/akMrIB0pIw6\n",
       "Hr2wMiIl/1+wVFzwIZwhcAmVD7XBDfhQiq7Btx3abvY7QOAx1Cdrg+U8ezTorsHfHNoU+w0TeAgf\n",
       "A7XB3DbkmqtEHNoUm4GscjBOhs+q1h7jaoy5Bgccx/HudqaGmjhYGc3lriwWXO9zuTvuY8zZdbE1\n",
       "ztovFNWzmta/GLhR004brsEbRcWnj2CUFgi8D2CQfx6sDl6dgCBboJ0zhR6+bHHLJvqXrQRIt8dM\n",
       "63mxt5vQzfYXPhJ4B4T4kVJ+mAHweaIvL4B9ER6HShPITfjJCkTLnxTLSvIa4Am9HQXwplAMPuYs\n",
       "xtojAgfAw0/pjT+4+4WtoBrXHooJpBdaWOtNQnheBHN/S8pWkhjACJ3ANUKq8u+JHsJ/d5MqFwPc\n",
       "NNrHBn72qg6qKt8TwS95G1DBWxLB6I+JiI+6bCU5DLANKsA+gFUlGyyVdqHFr2q47ExUtfOFCL7u\n",
       "x8R6PwGbdQHM/cFMRLaVS+gneCbLS10Gsw0M4H50mLl6cC9aVkMbUP5Uo+sTIjh4GeOpq6WZErsJ\n",
       "Rn9ZY/LJYaXgmn5zCpzBxUgSAzd8t4MLHvBT+g5aIRShGXsvieBwG769AtgkgtHfPDFx2/qcjaQE\n",
       "cgk85tEvWD0l+JEOzrGm3QQ3YoiHJsbTuv+Ipp3APfY4bqdpbM4BZPM2mPuTz62DgpVJEoIGSL/N\n",
       "K9++Lf5OQjj9i83tqwlWsAOvDtkEJGnGstcBfosN66grY4O5vyfKJLZFtHJwYx58c9VSJo25V7yP\n",
       "O9nMi/CUgw15vOI+luZBWicsNfnnmGwoW6UzJjirw0Wj2iXBxbwkSIKzIKWPQZAtl9I/caFYAX42\n",
       "E+2J22DT36olyOpfyx0y8vFo7GS1/EYyXK0CaWZ7XKcCWXCFSmJxUbcQsIbipvQZqO39eCmlj5JZ\n",
       "fvDSC6S64FRlXR1Zlro6+Q9/ZO6nSrqorAAAAABJRU5ErkJggg==\n",
       "\" style=\"display:inline;vertical-align:middle;\" /></a></span></td></tr>\n",
       "<tr><td>&nbsp;</td><td colspan=4 style-\"text-align:left\"><a class=\"ProveItLink\" href=\"../modus_tollens_denial/thm_proof.ipynb\">proveit.logic.booleans.implication.modus_tollens_denial</a></td></tr><tr><td><a name=\"-0x11eaa345dd3b74ce_step4\">4</a></td><td>assumption</td><td></td><td><span style=\"font-size:20px;\"><a class=\"ProveItLink\" href=\"../../../../__pv_it/theorems/bc796b8e7562f2d661739850b78776738bfc78d80/expr.ipynb\"><img src=\"data:image/png;base64,iVBORw0KGgoAAAANSUhEUgAAADYAAAAPBAMAAABdHiGLAAAAMFBMVEX///92dnYiIiIQEBBERERU\n",
       "VFS6urqIiIjc3NxmZmaqqqru7u6YmJgyMjLMzMwAAADiRdoGAAAAAXRSTlMAQObYZgAAANdJREFU\n",
       "GNNjYACBtwwogF3Z5a9RGJRzH1WOgZevYMvOA2Amz/0NqHIsbAfYHziAmbvmN0DEeJyUdKFyXAsg\n",
       "cgfqE8A0n/sGuD7GbLAc24b1ELP3bkCYmfT0AYi1jeF9AVgoAmGf0X8zMCuBoX8CmOGA5BbGMwIg\n",
       "WyJnxoNF+WzvAgFUjsEhB2QdAwPzBZAIB7I+BgdWIGMBAwOTAVjIAFkugBeoGijH+wEsNB1F30EG\n",
       "hiYQ+wdYiGkBPMwEGCUDGLb8v83A5f8J7FDukGzMsIYBNhFImEEAAEUpOYcaSaDVAAAAAElFTkSu\n",
       "QmCC\n",
       "\" style=\"display:inline;vertical-align:middle;\" /></a> <a class=\"ProveItLink\" href=\"../../../__pv_it/_proof_to_contraposition/c2ef803ea4f0c87916714ea10154e1c2667b569b0/proof.ipynb\" style=\"text-decoration: none\">&nbsp;&#x22A2;&nbsp;&nbsp;</a><a class=\"ProveItLink\" href=\"../../../../__pv_it/theorems/bc796b8e7562f2d661739850b78776738bfc78d80/expr.ipynb\"><img src=\"data:image/png;base64,iVBORw0KGgoAAAANSUhEUgAAADYAAAAPBAMAAABdHiGLAAAAMFBMVEX///92dnYiIiIQEBBERERU\n",
       "VFS6urqIiIjc3NxmZmaqqqru7u6YmJgyMjLMzMwAAADiRdoGAAAAAXRSTlMAQObYZgAAANdJREFU\n",
       "GNNjYACBtwwogF3Z5a9RGJRzH1WOgZevYMvOA2Amz/0NqHIsbAfYHziAmbvmN0DEeJyUdKFyXAsg\n",
       "cgfqE8A0n/sGuD7GbLAc24b1ELP3bkCYmfT0AYi1jeF9AVgoAmGf0X8zMCuBoX8CmOGA5BbGMwIg\n",
       "WyJnxoNF+WzvAgFUjsEhB2QdAwPzBZAIB7I+BgdWIGMBAwOTAVjIAFkugBeoGijH+wEsNB1F30EG\n",
       "hiYQ+wdYiGkBPMwEGCUDGLb8v83A5f8J7FDukGzMsIYBNhFImEEAAEUpOYcaSaDVAAAAAElFTkSu\n",
       "QmCC\n",
       "\" style=\"display:inline;vertical-align:middle;\" /></a></span></td></tr>\n",
       "<tr><td><a name=\"-0x11eaa345dd3b74ce_step5\">5</a></td><td>assumption</td><td></td><td><span style=\"font-size:20px;\"><a class=\"ProveItLink\" href=\"../../../__pv_it/theorems/9fb6b166895505172ae956c828809d363bcff2a30/expr.ipynb\"><img src=\"data:image/png;base64,iVBORw0KGgoAAAANSUhEUgAAAEAAAAAPBAMAAACmSdRUAAAAMFBMVEX///92dnYiIiIQEBBERERU\n",
       "VFS6urqIiIjc3NxmZmaqqqru7u6YmJgyMjLMzMwAAADiRdoGAAAAAXRSTlMAQObYZgAAAO5JREFU\n",
       "GNNjYACBtwxYwNH/kVNdEiDs+9gUMJgwMHD+A7N47m/AIs/3h4GB7SeYuWt+A0LcA8Zg/wHU+h3M\n",
       "PFCfgFDwBMZgMWBg2KwNYrFtWH8AoYBnApTBH8DApwq2exvD+wIQzakEBj+hCt7HHHdaAGYlMPRP\n",
       "QHIc1y0IXd/AwG0Kdm3kzHgHZOfvNQNTziBFICPYGBiYLyDJcwRC/PQVpABkN1ARkwHYDXchoAEe\n",
       "DAzxQO9xABXwfkAYwHYBEQx8X4CMJpCXfyC5ABqqvEBTk70ZGLb8v83A5f8J4Y04CMV6/+vMEC9s\n",
       "UdSAygUACNlBmGjrK1sAAAAASUVORK5CYII=\n",
       "\" style=\"display:inline;vertical-align:middle;\" /></a> <a class=\"ProveItLink\" href=\"../../../__pv_it/_proof_to_contraposition/24e26736c997fd232f80f40599df347b2e5042840/proof.ipynb\" style=\"text-decoration: none\">&nbsp;&#x22A2;&nbsp;&nbsp;</a><a class=\"ProveItLink\" href=\"../../../__pv_it/theorems/9fb6b166895505172ae956c828809d363bcff2a30/expr.ipynb\"><img src=\"data:image/png;base64,iVBORw0KGgoAAAANSUhEUgAAAEAAAAAPBAMAAACmSdRUAAAAMFBMVEX///92dnYiIiIQEBBERERU\n",
       "VFS6urqIiIjc3NxmZmaqqqru7u6YmJgyMjLMzMwAAADiRdoGAAAAAXRSTlMAQObYZgAAAO5JREFU\n",
       "GNNjYACBtwxYwNH/kVNdEiDs+9gUMJgwMHD+A7N47m/AIs/3h4GB7SeYuWt+A0LcA8Zg/wHU+h3M\n",
       "PFCfgFDwBMZgMWBg2KwNYrFtWH8AoYBnApTBH8DApwq2exvD+wIQzakEBj+hCt7HHHdaAGYlMPRP\n",
       "QHIc1y0IXd/AwG0Kdm3kzHgHZOfvNQNTziBFICPYGBiYLyDJcwRC/PQVpABkN1ARkwHYDXchoAEe\n",
       "DAzxQO9xABXwfkAYwHYBEQx8X4CMJpCXfyC5ABqqvEBTk70ZGLb8v83A5f8J4Y04CMV6/+vMEC9s\n",
       "UdSAygUACNlBmGjrK1sAAAAASUVORK5CYII=\n",
       "\" style=\"display:inline;vertical-align:middle;\" /></a></span></td></tr>\n",
       "<tr><td><a name=\"-0x11eaa345dd3b74ce_step6\">6</a></td><td>assumption</td><td></td><td><span style=\"font-size:20px;\"><a class=\"ProveItLink\" href=\"../../../__pv_it/theorems/303f482d5bc18658cf260ef56d927698c7912bf90/expr.ipynb\"><img src=\"data:image/png;base64,iVBORw0KGgoAAAANSUhEUgAAAB0AAAAOBAMAAAAh/woJAAAAMFBMVEX///8yMjKqqqru7u6IiIgQ\n",
       "EBC6urpERESYmJjMzMxUVFTc3Nx2dnYiIiJmZmYAAABbDZECAAAAAXRSTlMAQObYZgAAAH9JREFU\n",
       "CNdjYIACjvW/3i0vY0AA1gIGhvcTEPz5DQwM+Q8QfP8NDAz9Dgh+KQMDc6wBgv+LgWHuYgSX81eH\n",
       "+yUg/fYuENxhYGD5zcBgugAquYuBgT0AKPYJwecHyrF8QfBB1nN9Q/BB1s8vgBnOwCDKwMAWjrB+\n",
       "4f91r8oVGBgAyy8lZJPyWlAAAAAASUVORK5CYII=\n",
       "\" style=\"display:inline;vertical-align:middle;\" /></a> <a class=\"ProveItLink\" href=\"../../../__pv_it/_proof_to_contraposition/24532d4ddd07ff2906b369b597795c0d7f2d7de10/proof.ipynb\" style=\"text-decoration: none\">&nbsp;&#x22A2;&nbsp;&nbsp;</a><a class=\"ProveItLink\" href=\"../../../__pv_it/theorems/303f482d5bc18658cf260ef56d927698c7912bf90/expr.ipynb\"><img src=\"data:image/png;base64,iVBORw0KGgoAAAANSUhEUgAAAB0AAAAOBAMAAAAh/woJAAAAMFBMVEX///8yMjKqqqru7u6IiIgQ\n",
       "EBC6urpERESYmJjMzMxUVFTc3Nx2dnYiIiJmZmYAAABbDZECAAAAAXRSTlMAQObYZgAAAH9JREFU\n",
       "CNdjYIACjvW/3i0vY0AA1gIGhvcTEPz5DQwM+Q8QfP8NDAz9Dgh+KQMDc6wBgv+LgWHuYgSX81eH\n",
       "+yUg/fYuENxhYGD5zcBgugAquYuBgT0AKPYJwecHyrF8QfBB1nN9Q/BB1s8vgBnOwCDKwMAWjrB+\n",
       "4f91r8oVGBgAyy8lZJPyWlAAAAAASUVORK5CYII=\n",
       "\" style=\"display:inline;vertical-align:middle;\" /></a></span></td></tr>\n",
       "</table>"
      ],
      "text/plain": [
       "\tstep type\trequirements\tstatement\n",
       "0\tgeneralizaton\t1\t|- forall_{A, B | A => B, A in BOOLEAN} ([not](B) => [not](A))\n",
       "1\tdeduction\t2\t{A in BOOLEAN, A => B} |- [not](B) => [not](A)\n",
       "2\tinstantiation\t3, 4, 5, 6\t{A in BOOLEAN, A => B, [not](B)} |- [not](A)\n",
       "\tA : A, B : B\n",
       "3\ttheorem\t\t|- forall_{A in BOOLEAN} [forall_{B | A => B, [not](B)} [not](A)]\n",
       "\tproveit.logic.booleans.implication.modus_tollens_denial\n",
       "4\tassumption\t\t{A in BOOLEAN} |- A in BOOLEAN\n",
       "5\tassumption\t\t{A => B} |- A => B\n",
       "6\tassumption\t\t{[not](B)} |- [not](B)"
      ]
     },
     "execution_count": 6,
     "metadata": {},
     "output_type": "execute_result"
    }
   ],
   "source": [
    "%qed"
   ]
  },
  {
   "cell_type": "code",
   "execution_count": null,
   "metadata": {},
   "outputs": [],
   "source": []
  }
 ],
 "metadata": {
  "kernelspec": {
   "display_name": "Python 3",
   "language": "python",
   "name": "python3"
  }
 },
 "nbformat": 4,
 "nbformat_minor": 0
}