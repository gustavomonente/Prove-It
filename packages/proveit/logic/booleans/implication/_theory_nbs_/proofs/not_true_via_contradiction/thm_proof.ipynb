{
 "cells": [
  {
   "cell_type": "markdown",
   "metadata": {},
   "source": [
    "Proof of <a class=\"ProveItLink\" href=\"../../../../../../_theory_nbs_/theory.ipynb\">proveit</a>.<a class=\"ProveItLink\" href=\"../../../../../_theory_nbs_/theory.ipynb\">logic</a>.<a class=\"ProveItLink\" href=\"../../../../_theory_nbs_/theory.ipynb\">booleans</a>.<a class=\"ProveItLink\" href=\"../../theory.ipynb\">implication</a>.<a class=\"ProveItLink\" href=\"../../theorems.ipynb#not_true_via_contradiction\">not_true_via_contradiction</a> theorem\n",
    "========"
   ]
  },
  {
   "cell_type": "code",
   "execution_count": 1,
   "metadata": {},
   "outputs": [],
   "source": [
    "import proveit\n",
    "from proveit import defaults\n",
    "from proveit.logic import Equals, NotEquals, Implies, Not, And, Forall, TRUE, FALSE, in_bool\n",
    "from proveit import A\n",
    "from proveit.logic.equality import not_equals_contradiction\n",
    "theory = proveit.Theory() # the theorem's theory"
   ]
  },
  {
   "cell_type": "code",
   "execution_count": 2,
   "metadata": {},
   "outputs": [
    {
     "data": {
      "text/html": [
       "Under these <a href=\"presumptions.txt\">presumptions</a>, we begin our proof of<br><strong id=\"not_true_via_contradiction\">not_true_via_contradiction:</strong> <a class=\"ProveItLink\" href=\"../../../__pv_it/theorems/bb8d8fa072a6abd7ccaa2558ea0bda92e1a58d970/expr.ipynb\"><img src=\"data:image/png;base64,iVBORw0KGgoAAAANSUhEUgAAAKkAAAAWCAMAAACMl0y9AAAAOVBMVEX///8kJCQNDQ0oKCgQEBCI\n",
       "iIhmZma6urrMzMxUVFQiIiJERETc3Nzu7u6qqqp2dnaYmJgyMjIAAAD9T1yxAAAAAXRSTlMAQObY\n",
       "ZgAAAgBJREFUSMfNV9dy7CAMJblG9Pr/H3uNqyjGOLPORA8MINY66lpCfoO0v3/jzCXL6rSG4+z9\n",
       "W0CNwicemsqgW5CIxHwhElRnd34wbyENOjvF1hvBKkvSU9Wkht711eotoB6yU4gNkzSkI6TEUWTK\n",
       "07ifJolNaixE3TAp7yI1U9LRmURavpZO2Zc9oZGNmDRDSkL6TVSJpHsLKcXOZ4bYWKeu4jdIHRyG\n",
       "V8gleE9qAyj9CKlCwMz8NR5PCC4s9O87rdBB6lNOMdiza7/N3FP5xTe8d4RbK0xtrraOMGLSHKld\n",
       "Qigt9FTcQOaeEmnBLkQ27qZTMS4AQMTyFRfkDilfSpvzK9qjWUjoCC/Y1j9Auu6mMBRODaRze0Ba\n",
       "cUqUuhZestf+0UN6en/byCmP069pjVbRQcrkphPqECJ1s2vhO9upjQKyWRPpkVHatptUaGdonVHz\n",
       "HYLm58/ReIm0Yi9liPWQOijqqspLPwNyjxS2InrWDRPAOYX7XSa8ZqdLIUwH6eo4o2Jc2qGdN1mk\n",
       "X80bDGdA2KqDPx6DWeoIv0B6sinsJMB0vZ9309p0MDKNyQs9cB1SF2yzEaU3GVVMKNWgNTLCOVoG\n",
       "/1LqtIrSt4S32HrP2CXFprS4J03NjnRxE4aa4c388XiS/oFJx/r3J8bWzr8TNjLgjg0arw3YHyf4\n",
       "Izj+A3SNFmjL8c1mAAAAAElFTkSuQmCC\n",
       "\" style=\"display:inline;vertical-align:middle;\" /></a><br>(see <a class=\"ProveItLink\" href=\"../../../__pv_it/theorems/cfb4cd749348f955cb25b713b02245cbcebe04ea0/dependencies.ipynb\">dependencies</a>)<br>"
      ],
      "text/plain": [
       "not_true_via_contradiction: forall_{A | A => FALSE} (A != TRUE)"
      ]
     },
     "execution_count": 2,
     "metadata": {},
     "output_type": "execute_result"
    }
   ],
   "source": [
    "%proving not_true_via_contradiction"
   ]
  },
  {
   "cell_type": "code",
   "execution_count": 3,
   "metadata": {},
   "outputs": [
    {
     "data": {
      "text/html": [
       "<strong id=\"AeqT\">AeqT:</strong> <a class=\"ProveItLink\" href=\"../../../../__pv_it/axioms/3cfc6152b0f6698bf3d1dd9b1468fa8ef959e6ee0/expr.ipynb\"><img src=\"data:image/png;base64,iVBORw0KGgoAAAANSUhEUgAAADoAAAAOBAMAAACMfhKgAAAAMFBMVEX///92dnYiIiIQEBBERERU\n",
       "VFS6urqIiIjc3NxmZmaqqqru7u6YmJgyMjLMzMwAAADiRdoGAAAAAXRSTlMAQObYZgAAAHlJREFU\n",
       "GNNjYACBtwxoYJISCKhCOPcZMMFyGIPn/gY8srvmN+CRPVCfgFuWbcP6A7hltzG8LwDRsndB4Caa\n",
       "bAJD/wScevkiZ8Y74JRlY2BgvoBTdgEDA5MBwt6rKLIcQFneD7j0NgExyw8cslv+32bg8v+E6egc\n",
       "IAYAzqMrmtpGhM0AAAAASUVORK5CYII=\n",
       "\" style=\"display:inline;vertical-align:middle;\" /></a><br>"
      ],
      "text/plain": [
       "AeqT: A = TRUE"
      ]
     },
     "execution_count": 3,
     "metadata": {},
     "output_type": "execute_result"
    }
   ],
   "source": [
    "AeqT = Equals(A, TRUE)"
   ]
  },
  {
   "cell_type": "code",
   "execution_count": 4,
   "metadata": {},
   "outputs": [
    {
     "data": {
      "text/html": [
       "<strong id=\"defaults.assumptions\">defaults.assumptions:</strong> <a class=\"ProveItLink\" href=\"../../../__pv_it/_proof_not_true_via_contradiction/158e35dd6efd53c9c8b45c0cf05645a574af00490/expr.ipynb\"><img src=\"data:image/png;base64,iVBORw0KGgoAAAANSUhEUgAAAJEAAAAUBAMAAAB/i8J7AAAAMFBMVEX///9UVFTMzMx2dna6uroQ\n",
       "EBCqqqqIiIgiIiJmZmYyMjJERETu7u6YmJjc3NwAAAC+aOQFAAAAAXRSTlMAQObYZgAAAXNJREFU\n",
       "OMutlL8zxEAUx7/uInO/cmOoVNQUdDdUKTVmFFcodTq0KqdgUqakEo0ZN8b5B5DCYWjuLzApda5E\n",
       "gexbkX2bjRR8i9x72W8+N/v27QOaA/xdG+LxKOMZo6O0xtKM6cAT2sVIFCfn8l3PSLK3WGoyrYtH\n",
       "IwAcn3KnFxaTjCYioQVUIopuj6J08SqHxEyc1AeeZT7YcdPF2RwSM3FSzcU2BVa4qRzh9451Ejdx\n",
       "UtnHJQU3mKNvqnQW3puRlJgWu0KnjOQE2KfAxYuvFvrERNJMjGR30Ka2mTyculCXH9pZUsakkkpD\n",
       "SbKA0UBZbU5EWZJu0km0u7iTKytUp65UZNjdj0nW6ZiRrA5VvBmbakPl3wNDxXUT9IovQPZU/UOp\n",
       "UshIjXcYTJxUncdSfIc/z2Bfv6bnMi5/4pbYW/W8MXihwZRoWXbmdHJbmPRXdlg4Vu7Vfs5XudjS\n",
       "Ytc1V3eFDjFVkkn3m4qnal0U5F+m7xPwBdN4dYxxbs88AAAAAElFTkSuQmCC\n",
       "\" style=\"display:inline;vertical-align:middle;\" /></a><br>"
      ],
      "text/plain": [
       "defaults.assumptions: (A => FALSE, A = TRUE)"
      ]
     },
     "execution_count": 4,
     "metadata": {},
     "output_type": "execute_result"
    }
   ],
   "source": [
    "defaults.assumptions = not_true_via_contradiction.all_conditions() + [AeqT]"
   ]
  },
  {
   "cell_type": "code",
   "execution_count": 5,
   "metadata": {},
   "outputs": [
    {
     "data": {
      "text/html": [
       "<span style=\"font-size:20px;\"> <a class=\"ProveItLink\" href=\"../../../__pv_it/_proof_not_true_via_contradiction/9aa33dfeef9cc7017fed0a3ab7bb6d5951d2b3790/proof.ipynb\" style=\"text-decoration: none\">&nbsp;&#x22A2;&nbsp;&nbsp;</a><a class=\"ProveItLink\" href=\"../../../__pv_it/_proof_not_true_via_contradiction/b37eea1b4fd1035764e8aa2fc3da0a0a53b9d3ce0/expr.ipynb\"><img src=\"data:image/png;base64,iVBORw0KGgoAAAANSUhEUgAAAHAAAAAUBAMAAACnq6Q0AAAAMFBMVEX///9UVFTMzMx2dna6uroQ\n",
       "EBCqqqqIiIgiIiJmZmYyMjJERETu7u6YmJjc3NwAAAC+aOQFAAAAAXRSTlMAQObYZgAAAV5JREFU\n",
       "OMtjYOC7wIAXsD3AIXEaQmmhi3N2gIEAgxyqOHvr7l8RIkDGOgh/PTbLCkDkKTRRLqaC0ycvMPBO\n",
       "APN41x/ApZG5AFWUm+UCu8IGBg6IF47Nf4BLI08AhMe7o6MLqpEtYQPDC4johXoHXBoZloBJpu0H\n",
       "4DYy+2xgqARzWA7kX8Cp0RJMnjqAcKqHogLDXjDnCIM+xD+rwGACisZbYFIO4ceI/yEMDG1gjgPD\n",
       "+wk4bcwAkxuQAof5rgFDCNj9kjPlN+DUqA9WEgVyClQjwwZfiEYWBgbWBfg18iHbyLCBEeLUBAYG\n",
       "jgAkPwqgaPQAkwHIGgW4wIHDB9TI9QGnjZDAmY5i42VwWIPikvsfTo2TwSRHAjzJGTBbCoDccfr/\n",
       "Gga2/T8wg5UFEreLwCSPtA9KIud4wEAA8DRAjbGGJDko4J1ASCN6IoeBfYQ0nsKfkXEDXCYTKjp4\n",
       "sQcCAPfGZu/9NRrDAAAAAElFTkSuQmCC\n",
       "\" style=\"display:inline;vertical-align:middle;\" /></a></span>"
      ],
      "text/plain": [
       "|- (A = TRUE) in BOOLEAN"
      ]
     },
     "execution_count": 5,
     "metadata": {},
     "output_type": "execute_result"
    }
   ],
   "source": [
    "AeqT.deduce_in_bool()"
   ]
  },
  {
   "cell_type": "code",
   "execution_count": 6,
   "metadata": {},
   "outputs": [
    {
     "data": {
      "text/html": [
       "<strong id=\"AeqT_impl_F\">AeqT_impl_F:</strong> <span style=\"font-size:20px;\"><a class=\"ProveItLink\" href=\"../../../__pv_it/axioms/6957e7f764844780d82543418d2531b9f357c0530/expr.ipynb\"><img src=\"data:image/png;base64,iVBORw0KGgoAAAANSUhEUgAAAD8AAAAPBAMAAAChCwpBAAAAMFBMVEX///92dnYiIiIQEBBERERU\n",
       "VFS6urqIiIjc3NxmZmaqqqru7u6YmJgyMjLMzMwAAADiRdoGAAAAAXRSTlMAQObYZgAAAKdJREFU\n",
       "GNNjYACBtwzYAN8COPM+VgVcBTAWz/0N+BXsmt8AF2VpwKLgQH0CwmIHTAVsG9YfQBh8ElPBNob3\n",
       "YOYkJRDQn4ChIIGhfwKS29YuQFPAFzkz3gFJAfflBFQFbAwMzBeQFLRKoJkANJHJAMSYexcMbqC5\n",
       "gQOogPcDwoBcdF80gULnB8IFt9EUbPl/m4HL/xPcG6wPIDSnkpKykZJSAEYEcKDxATVyLqyoiK3W\n",
       "AAAAAElFTkSuQmCC\n",
       "\" style=\"display:inline;vertical-align:middle;\" /></a> <a class=\"ProveItLink\" href=\"../../../__pv_it/_proof_not_true_via_contradiction/5ec9014c261ed75468ea17ab7c52c2b49f1986820/proof.ipynb\" style=\"text-decoration: none\">&nbsp;&#x22A2;&nbsp;&nbsp;</a><a class=\"ProveItLink\" href=\"../../../__pv_it/_proof_not_true_via_contradiction/4c90bcc7cdf1f7deccb99d46bd9ef10af1ea9f9c0/expr.ipynb\"><img src=\"data:image/png;base64,iVBORw0KGgoAAAANSUhEUgAAAHkAAAAUBAMAAABbvo/+AAAAMFBMVEX///9UVFTMzMx2dna6uroQ\n",
       "EBCqqqqIiIgiIiJmZmYyMjJERETu7u6YmJjc3NwAAAC+aOQFAAAAAXRSTlMAQObYZgAAATFJREFU\n",
       "OMtjYOC7wIAX5OGVPQ2htNDFZ3SAQCMD4wOs2pgSwNQ6CG89FhXpIIJnAVbdbAUgkncCmMO7/gAO\n",
       "3QzmeHRzQBx2bP4DXLqPIgS4H6DpfgHhXKh3wKWbCyHDtAFNdyWYzXIg/wIu3cwTECI30XTvBbOP\n",
       "MOiDeVarQGAlim7eBYgo6J+AqrsNzHZgeD8Bl91sDUhCWQkoukPA/pGcKb8Bl26mD0hCPEsdMHSz\n",
       "MDCwLiBK90M7TJcDncMRgPD3QhTdLGCXzwLLrFqHGWp8QN1cH3DZzYvkKi+0MLeExjn3P1y6OQ0Q\n",
       "vl6DptsDmE/+r2Fg2/8DM9B9IalFAS7ACGVydnS0RnR0CMBSKh5wAsHkQ5fjnUBItzk+yX0ENOPI\n",
       "oailA07AjddrhEqme3jkAFeXWYKJR9ZGAAAAAElFTkSuQmCC\n",
       "\" style=\"display:inline;vertical-align:middle;\" /></a></span><br>"
      ],
      "text/plain": [
       "AeqT_impl_F: {A => FALSE} |- (A = TRUE) => FALSE"
      ]
     },
     "execution_count": 6,
     "metadata": {},
     "output_type": "execute_result"
    }
   ],
   "source": [
    "AeqT_impl_F = FALSE.prove().as_implication(AeqT)"
   ]
  },
  {
   "cell_type": "code",
   "execution_count": 7,
   "metadata": {},
   "outputs": [
    {
     "data": {
      "text/html": [
       "<span style=\"font-size:20px;\"><a class=\"ProveItLink\" href=\"../../../__pv_it/axioms/6957e7f764844780d82543418d2531b9f357c0530/expr.ipynb\"><img src=\"data:image/png;base64,iVBORw0KGgoAAAANSUhEUgAAAD8AAAAPBAMAAAChCwpBAAAAMFBMVEX///92dnYiIiIQEBBERERU\n",
       "VFS6urqIiIjc3NxmZmaqqqru7u6YmJgyMjLMzMwAAADiRdoGAAAAAXRSTlMAQObYZgAAAKdJREFU\n",
       "GNNjYACBtwzYAN8COPM+VgVcBTAWz/0N+BXsmt8AF2VpwKLgQH0CwmIHTAVsG9YfQBh8ElPBNob3\n",
       "YOYkJRDQn4ChIIGhfwKS29YuQFPAFzkz3gFJAfflBFQFbAwMzBeQFLRKoJkANJHJAMSYexcMbqC5\n",
       "gQOogPcDwoBcdF80gULnB8IFt9EUbPl/m4HL/xPcG6wPIDSnkpKykZJSAEYEcKDxATVyLqyoiK3W\n",
       "AAAAAElFTkSuQmCC\n",
       "\" style=\"display:inline;vertical-align:middle;\" /></a> <a class=\"ProveItLink\" href=\"../../../__pv_it/_proof_not_true_via_contradiction/bd408e772e9e3fc9771940fe745a09bc481778ca0/proof.ipynb\" style=\"text-decoration: none\">&nbsp;&#x22A2;&nbsp;&nbsp;</a><a class=\"ProveItLink\" href=\"../../../__pv_it/_proof_not_true_via_contradiction/aadf02c71c36a18368a0e1f8232cd5775cbc08290/expr.ipynb\"><img src=\"data:image/png;base64,iVBORw0KGgoAAAANSUhEUgAAAFoAAAAUBAMAAAD/1DctAAAAMFBMVEX///+6uroQEBCqqqqIiIgy\n",
       "MjJERETu7u6YmJjMzMxUVFTc3Nx2dnYiIiJmZmYAAAAutVgsAAAAAXRSTlMAQObYZgAAAPVJREFU\n",
       "KM9jYECAHQx4AfMGZB57ApjiDEBTxXcXDBYwrEYWZYXoZf2AxVgHEFmKLNQHoVq/41LN44AkdBvi\n",
       "HrvfuFSzKyBEuC+AKQ6Wj7hUMwQiRFgegClx5h84VZ9DiLA1gG0T4PwCdmMoGDxAUd3K8BYUOneA\n",
       "TF4DkAAjA/c/nGbbQni7gJhJAMSa9e7VN5yq56OrBhKqxKgGu4QZiC8huXsBimpZhGqwLzcDcTxO\n",
       "s1shPE6QaQ+gYZ6/AZfqNwgRxgsM7PlfCxjM/t/DUM0IDl2GSIyYxwPYL2CmKtwAJVWxbSCguhRL\n",
       "bsANslF4BHIaxwYGAOt/QI8lA+3SAAAAAElFTkSuQmCC\n",
       "\" style=\"display:inline;vertical-align:middle;\" /></a></span>"
      ],
      "text/plain": [
       "{A => FALSE} |- not(A = TRUE)"
      ]
     },
     "execution_count": 7,
     "metadata": {},
     "output_type": "execute_result"
    }
   ],
   "source": [
    "AeqT_impl_F.derive_via_contradiction()"
   ]
  },
  {
   "cell_type": "markdown",
   "metadata": {},
   "source": [
    "We'll now by able to generate a proof-by-contradiction via automation."
   ]
  },
  {
   "cell_type": "code",
   "execution_count": 8,
   "metadata": {},
   "outputs": [
    {
     "data": {
      "text/html": [
       "<table><tr><th>&nbsp;</th><th>step type</th><th>requirements</th><th>statement</th></tr>\n",
       "<tr><td><a name=\"-0x299f24219a35ff94_step0\">0</a></td><td>generalizaton</td><td><a href=\"#-0x299f24219a35ff94_step1\">1</a></td><td><span style=\"font-size:20px;\"> <a class=\"ProveItLink\" href=\"../../../__pv_it/_proof_not_true_via_contradiction/a2f3a6031a1b044e8f7dfec6e01d880bae4085730/proof.ipynb\" style=\"text-decoration: none\">&nbsp;&#x22A2;&nbsp;&nbsp;</a><a class=\"ProveItLink\" href=\"../../../__pv_it/theorems/bb8d8fa072a6abd7ccaa2558ea0bda92e1a58d970/expr.ipynb\"><img src=\"data:image/png;base64,iVBORw0KGgoAAAANSUhEUgAAAKkAAAAWCAMAAACMl0y9AAAAOVBMVEX///8kJCQNDQ0oKCgQEBCI\n",
       "iIhmZma6urrMzMxUVFQiIiJERETc3Nzu7u6qqqp2dnaYmJgyMjIAAAD9T1yxAAAAAXRSTlMAQObY\n",
       "ZgAAAgBJREFUSMfNV9dy7CAMJblG9Pr/H3uNqyjGOLPORA8MINY66lpCfoO0v3/jzCXL6rSG4+z9\n",
       "W0CNwicemsqgW5CIxHwhElRnd34wbyENOjvF1hvBKkvSU9Wkht711eotoB6yU4gNkzSkI6TEUWTK\n",
       "07ifJolNaixE3TAp7yI1U9LRmURavpZO2Zc9oZGNmDRDSkL6TVSJpHsLKcXOZ4bYWKeu4jdIHRyG\n",
       "V8gleE9qAyj9CKlCwMz8NR5PCC4s9O87rdBB6lNOMdiza7/N3FP5xTe8d4RbK0xtrraOMGLSHKld\n",
       "Qigt9FTcQOaeEmnBLkQ27qZTMS4AQMTyFRfkDilfSpvzK9qjWUjoCC/Y1j9Auu6mMBRODaRze0Ba\n",
       "cUqUuhZestf+0UN6en/byCmP069pjVbRQcrkphPqECJ1s2vhO9upjQKyWRPpkVHatptUaGdonVHz\n",
       "HYLm58/ReIm0Yi9liPWQOijqqspLPwNyjxS2InrWDRPAOYX7XSa8ZqdLIUwH6eo4o2Jc2qGdN1mk\n",
       "X80bDGdA2KqDPx6DWeoIv0B6sinsJMB0vZ9309p0MDKNyQs9cB1SF2yzEaU3GVVMKNWgNTLCOVoG\n",
       "/1LqtIrSt4S32HrP2CXFprS4J03NjnRxE4aa4c388XiS/oFJx/r3J8bWzr8TNjLgjg0arw3YHyf4\n",
       "Izj+A3SNFmjL8c1mAAAAAElFTkSuQmCC\n",
       "\" style=\"display:inline;vertical-align:middle;\" /></a></span></td></tr>\n",
       "<tr><td><a name=\"-0x299f24219a35ff94_step1\">1</a></td><td>instantiation</td><td><a href=\"#-0x299f24219a35ff94_step2\">2</a>, <a href=\"#-0x299f24219a35ff94_step3\">3</a></td><td><span style=\"font-size:20px;\"><a class=\"ProveItLink\" href=\"../../../__pv_it/axioms/6957e7f764844780d82543418d2531b9f357c0530/expr.ipynb\"><img src=\"data:image/png;base64,iVBORw0KGgoAAAANSUhEUgAAAD8AAAAPBAMAAAChCwpBAAAAMFBMVEX///92dnYiIiIQEBBERERU\n",
       "VFS6urqIiIjc3NxmZmaqqqru7u6YmJgyMjLMzMwAAADiRdoGAAAAAXRSTlMAQObYZgAAAKdJREFU\n",
       "GNNjYACBtwzYAN8COPM+VgVcBTAWz/0N+BXsmt8AF2VpwKLgQH0CwmIHTAVsG9YfQBh8ElPBNob3\n",
       "YOYkJRDQn4ChIIGhfwKS29YuQFPAFzkz3gFJAfflBFQFbAwMzBeQFLRKoJkANJHJAMSYexcMbqC5\n",
       "gQOogPcDwoBcdF80gULnB8IFt9EUbPl/m4HL/xPcG6wPIDSnkpKykZJSAEYEcKDxATVyLqyoiK3W\n",
       "AAAAAElFTkSuQmCC\n",
       "\" style=\"display:inline;vertical-align:middle;\" /></a> <a class=\"ProveItLink\" href=\"../../../__pv_it/_proof_not_true_via_contradiction/02a2fcad902baa4b61991e3f1438c2acce1977950/proof.ipynb\" style=\"text-decoration: none\">&nbsp;&#x22A2;&nbsp;&nbsp;</a><a class=\"ProveItLink\" href=\"../../../../negation/__pv_it/theorems/e55a79a034b6274462b987a2d946ed82f80acecb0/expr.ipynb\"><img src=\"data:image/png;base64,iVBORw0KGgoAAAANSUhEUgAAADoAAAAUCAMAAADrw95cAAAAOVBMVEX///8kJCQNDQ0oKCh2dnYi\n",
       "IiIQEBBERERUVFS6urqIiIjc3NxmZmaqqqru7u6YmJgyMjLMzMwAAAADT7o2AAAAAXRSTlMAQObY\n",
       "ZgAAALlJREFUOMvFk9EOgyAMRbtNBGwLpf//sdOZZYhojS/rA5ibe3JbUwCsGpJpgSI9FSuVXFWh\n",
       "Mon20BBbhadWyaKd1tCDiSYmxU5osdEMk8YroTs0JmDNO5svJprmwKI/bZBPvZ7LSafo0ioqXQlt\n",
       "0BKIKGg7WAlgouv/Gdud8GiivF5u3M76GNeJwzGK3F8n6YbWKLpvf9udiATnaPKqsmwgzx+udsvB\n",
       "k4nZekhMcLck3SV5+EMoRNPxBiHzB9AVFlvOAAAAAElFTkSuQmCC\n",
       "\" style=\"display:inline;vertical-align:middle;\" /></a></span></td></tr>\n",
       "<tr><td>&nbsp;</td><td colspan=4 style=\"text-align:left\"><span style=\"font-size:20px;\"><a class=\"ProveItLink\" href=\"../../../../../../__pv_it/common/a2581dc5df71d9a30bad37de14965fa5fec97a240/expr.ipynb\"><img src=\"data:image/png;base64,iVBORw0KGgoAAAANSUhEUgAAAAsAAAAJBAMAAAAWSsseAAAALVBMVEX///9mZmaqqqrMzMxEREQy\n",
       "MjIiIiKYmJh2dna6urrc3NxUVFSIiIju7u4AAACJHQtQAAAAAXRSTlMAQObYZgAAAEJJREFUCNdj\n",
       "YLhzeuWJAwy8Dew5bAEMHBc43nIuYOBlYHFgAAG+A2DKzgBIMF04x8BzgWGegh/DcgaG22fuiBcw\n",
       "AAATyhBrnyPYZQAAAABJRU5ErkJggg==\n",
       "\" style=\"display:inline;vertical-align:middle;\" /></a> : <a class=\"ProveItLink\" href=\"../../../../../../__pv_it/common/e4aad701f7f5516d8e7f0d805d518bf02c13322a0/expr.ipynb\"><img src=\"data:image/png;base64,iVBORw0KGgoAAAANSUhEUgAAAA8AAAAOBAMAAAACpFvcAAAALVBMVEX///8iIiIQEBBERERUVFS6\n",
       "urqIiIjc3NxmZmaqqqru7u6YmJgyMjLMzMwAAACK9jtgAAAAAXRSTlMAQObYZgAAAFtJREFUCNdj\n",
       "YACBOwxQcA5Kc59bAGGs7CuAMDbkBYBp1gXzNoAZSxnuJYAZAQx1DSCa16PDzwCshIGB6QCIMYGB\n",
       "gVEBSLMDGTwPgIxCIGZ+zsCw+N0pBk67hw0AfpEVEQi8t+wAAAAASUVORK5CYII=\n",
       "\" style=\"display:inline;vertical-align:middle;\" /></a>, <a class=\"ProveItLink\" href=\"../../../../../../__pv_it/common/0f21cbfd5644a1cae6781c1d58354abc2ffbc9000/expr.ipynb\"><img src=\"data:image/png;base64,iVBORw0KGgoAAAANSUhEUgAAAAsAAAANBAMAAACN24kIAAAAMFBMVEX///8iIiKYmJhUVFTMzMxE\n",
       "REQyMjKqqqq6urp2dnYQEBDc3NxmZmaIiIju7u4AAACH5sGpAAAAAXRSTlMAQObYZgAAAFlJREFU\n",
       "CNdj4LtzgWHXAwZOjgUM9xkYtvMkMIQyMDzgusDwl4GBof8ByxcgdYyBdwGQCmZgNQBShxn6FYDU\n",
       "47vnNzAwgGUZGJgT+H4AKUYF1gtAiuPuESAJAJGkFvXVdzA+AAAAAElFTkSuQmCC\n",
       "\" style=\"display:inline;vertical-align:middle;\" /></a> : <a class=\"ProveItLink\" href=\"../../../../__pv_it/common/373f61d65f7ccc0f6ebbafaccf02f2693d0e3bad0/expr.ipynb\"><img src=\"data:image/png;base64,iVBORw0KGgoAAAANSUhEUgAAAA4AAAAOBAMAAADtZjDiAAAAG1BMVEX///+YmJi6urqIiIiqqqpU\n",
       "VFQiIiJmZmYAAAD2GhH1AAAAAXRSTlMAQObYZgAAABhJREFUCNdjKEsDgVQGIHBmgABa0YpADADk\n",
       "ogYfXGfJdgAAAABJRU5ErkJggg==\n",
       "\" style=\"display:inline;vertical-align:middle;\" /></a></span></td></tr><tr><td><a name=\"-0x299f24219a35ff94_step2\">2</a></td><td>theorem</td><td></td><td><span style=\"font-size:20px;\"> <a class=\"ProveItLink\" href=\"../../../../../equality/_theory_nbs_/proofs/fold_not_equals/thm_proof.ipynb\" style=\"text-decoration: none\">&nbsp;&#x22A2;&nbsp;&nbsp;</a><a class=\"ProveItLink\" href=\"../../../../../equality/__pv_it/theorems/9947de4646acc56fc2b15f600e9358ecec64346f0/expr.ipynb\"><img src=\"data:image/png;base64,iVBORw0KGgoAAAANSUhEUgAAALkAAAAWCAMAAACrOc1VAAAAOVBMVEX///8kJCQNDQ0oKCgQEBCI\n",
       "iIhmZma6urrMzMxUVFQiIiJERETc3Nzu7u6qqqp2dnaYmJgyMjIAAAD9T1yxAAAAAXRSTlMAQObY\n",
       "ZgAAAnFJREFUSMfFV+nS3SAIta2I+5L3f9hKjGYzmrnt3I8fmUkieIADImM/KjaO/wfX++otPVN7\n",
       "j/HrwJ2ZOJb63xVBD76+Jvd15MmO/yt88Jg8stVta74OPIpJyB8hBTiEeg/+10TPQi4facbJ8eBI\n",
       "rP5+eepPQ57jTTxaDIkO/wRiuqITPtjI4gCURVgZcBRz0nEgaIHlK0eCaDkx880ZPtJuruvvyqY0\n",
       "M5e1owamayMJaZU/v+kp9j2QKAJLKRFajKJW60yesqdeeM3EbZH2rWeHxTG0o5BbzwRhNAWEX5lG\n",
       "D4ifI5eviObU9QsvaXA7npPV8/q8ihNblsIpuYY+xIL+U+TPLWDcvPlOoAXum12XY85LRiwPyPNJ\n",
       "VR0MICRUJAj0VbsZct3RbdvtNm5p1a0PVzwHnv/ihe175FeyAN/s6s297bACx1RiGmtNZC8ln8V8\n",
       "a25NV5kq8WTDq36FelfKDtz4eDWqPmqFZl2hW+tKLTLWkWNgusjDBi4bQHPX7dnAq+NrZ8sk8Mws\n",
       "1+EL78erULR4WyXCjWbLwVf6rWAYc7Kmerp3G/LavkrGnQLIvfoy73WGKFoo6hZpo1d0O+MOhwbR\n",
       "hssZcmnOuipViScbqN6f/v5hohGb9+7SUeySq2M9V6whX7TM6WEz5MXKrntB12zE8H7i6oQ8FxFz\n",
       "Cx4mrlM+Igagk0Fyv0YJTBojt7Vz7LoXSjQbAuedr4a8c0LonEEDhyn3MV/5v231P+yKMJgyDzbS\n",
       "+5tF76qAmeVy4nG9MKk8KqQ3p/9gpttt+Pj+NoeTuX40bZBFjCG8QojPo0Oz4cRP3nfFKEMTgf99\n",
       "V/wLskgaj1Kxq7sAAAAASUVORK5CYII=\n",
       "\" style=\"display:inline;vertical-align:middle;\" /></a></span></td></tr>\n",
       "<tr><td>&nbsp;</td><td colspan=4 style-\"text-align:left\"><a class=\"ProveItLink\" href=\"../../../../../equality/_theory_nbs_/proofs/fold_not_equals/thm_proof.ipynb\">proveit.logic.equality.fold_not_equals</a></td></tr><tr><td><a name=\"-0x299f24219a35ff94_step3\">3</a></td><td>instantiation</td><td><a href=\"#-0x299f24219a35ff94_step4\">4</a>, <a href=\"#-0x299f24219a35ff94_step5\">5</a>, <a href=\"#-0x299f24219a35ff94_step6\">6</a></td><td><span style=\"font-size:20px;\"><a class=\"ProveItLink\" href=\"../../../__pv_it/axioms/6957e7f764844780d82543418d2531b9f357c0530/expr.ipynb\"><img src=\"data:image/png;base64,iVBORw0KGgoAAAANSUhEUgAAAD8AAAAPBAMAAAChCwpBAAAAMFBMVEX///92dnYiIiIQEBBERERU\n",
       "VFS6urqIiIjc3NxmZmaqqqru7u6YmJgyMjLMzMwAAADiRdoGAAAAAXRSTlMAQObYZgAAAKdJREFU\n",
       "GNNjYACBtwzYAN8COPM+VgVcBTAWz/0N+BXsmt8AF2VpwKLgQH0CwmIHTAVsG9YfQBh8ElPBNob3\n",
       "YOYkJRDQn4ChIIGhfwKS29YuQFPAFzkz3gFJAfflBFQFbAwMzBeQFLRKoJkANJHJAMSYexcMbqC5\n",
       "gQOogPcDwoBcdF80gULnB8IFt9EUbPl/m4HL/xPcG6wPIDSnkpKykZJSAEYEcKDxATVyLqyoiK3W\n",
       "AAAAAElFTkSuQmCC\n",
       "\" style=\"display:inline;vertical-align:middle;\" /></a> <a class=\"ProveItLink\" href=\"../../../__pv_it/_proof_not_true_via_contradiction/bd408e772e9e3fc9771940fe745a09bc481778ca0/proof.ipynb\" style=\"text-decoration: none\">&nbsp;&#x22A2;&nbsp;&nbsp;</a><a class=\"ProveItLink\" href=\"../../../__pv_it/_proof_not_true_via_contradiction/aadf02c71c36a18368a0e1f8232cd5775cbc08290/expr.ipynb\"><img src=\"data:image/png;base64,iVBORw0KGgoAAAANSUhEUgAAAFoAAAAUBAMAAAD/1DctAAAAMFBMVEX///+6uroQEBCqqqqIiIgy\n",
       "MjJERETu7u6YmJjMzMxUVFTc3Nx2dnYiIiJmZmYAAAAutVgsAAAAAXRSTlMAQObYZgAAAPVJREFU\n",
       "KM9jYECAHQx4AfMGZB57ApjiDEBTxXcXDBYwrEYWZYXoZf2AxVgHEFmKLNQHoVq/41LN44AkdBvi\n",
       "HrvfuFSzKyBEuC+AKQ6Wj7hUMwQiRFgegClx5h84VZ9DiLA1gG0T4PwCdmMoGDxAUd3K8BYUOneA\n",
       "TF4DkAAjA/c/nGbbQni7gJhJAMSa9e7VN5yq56OrBhKqxKgGu4QZiC8huXsBimpZhGqwLzcDcTxO\n",
       "s1shPE6QaQ+gYZ6/AZfqNwgRxgsM7PlfCxjM/t/DUM0IDl2GSIyYxwPYL2CmKtwAJVWxbSCguhRL\n",
       "bsANslF4BHIaxwYGAOt/QI8lA+3SAAAAAElFTkSuQmCC\n",
       "\" style=\"display:inline;vertical-align:middle;\" /></a></span></td></tr>\n",
       "<tr><td>&nbsp;</td><td colspan=4 style=\"text-align:left\"><span style=\"font-size:20px;\"><a class=\"ProveItLink\" href=\"../../../../../../__pv_it/common/e4aad701f7f5516d8e7f0d805d518bf02c13322a0/expr.ipynb\"><img src=\"data:image/png;base64,iVBORw0KGgoAAAANSUhEUgAAAA8AAAAOBAMAAAACpFvcAAAALVBMVEX///8iIiIQEBBERERUVFS6\n",
       "urqIiIjc3NxmZmaqqqru7u6YmJgyMjLMzMwAAACK9jtgAAAAAXRSTlMAQObYZgAAAFtJREFUCNdj\n",
       "YACBOwxQcA5Kc59bAGGs7CuAMDbkBYBp1gXzNoAZSxnuJYAZAQx1DSCa16PDzwCshIGB6QCIMYGB\n",
       "gVEBSLMDGTwPgIxCIGZ+zsCw+N0pBk67hw0AfpEVEQi8t+wAAAAASUVORK5CYII=\n",
       "\" style=\"display:inline;vertical-align:middle;\" /></a> : <a class=\"ProveItLink\" href=\"../../../../__pv_it/axioms/3cfc6152b0f6698bf3d1dd9b1468fa8ef959e6ee0/expr.ipynb\"><img src=\"data:image/png;base64,iVBORw0KGgoAAAANSUhEUgAAADoAAAAOBAMAAACMfhKgAAAAMFBMVEX///92dnYiIiIQEBBERERU\n",
       "VFS6urqIiIjc3NxmZmaqqqru7u6YmJgyMjLMzMwAAADiRdoGAAAAAXRSTlMAQObYZgAAAHlJREFU\n",
       "GNNjYACBtwxoYJISCKhCOPcZMMFyGIPn/gY8srvmN+CRPVCfgFuWbcP6A7hltzG8LwDRsndB4Caa\n",
       "bAJD/wScevkiZ8Y74JRlY2BgvoBTdgEDA5MBwt6rKLIcQFneD7j0NgExyw8cslv+32bg8v+E6egc\n",
       "IAYAzqMrmtpGhM0AAAAASUVORK5CYII=\n",
       "\" style=\"display:inline;vertical-align:middle;\" /></a></span></td></tr><tr><td><a name=\"-0x299f24219a35ff94_step4\">4</a></td><td>axiom</td><td></td><td><span style=\"font-size:20px;\"> <a class=\"ProveItLink\" href=\"../../axioms.ipynb#denial_via_contradiction\" style=\"text-decoration: none\">&nbsp;&#x22A2;&nbsp;&nbsp;</a><a class=\"ProveItLink\" href=\"../../../__pv_it/axioms/f2e3fe806d62adaa18049be164546361400331db0/expr.ipynb\"><img src=\"data:image/png;base64,iVBORw0KGgoAAAANSUhEUgAAAJ4AAAAWBAMAAADDSDj9AAAAMFBMVEX///8QEBCIiIhmZma6urrM\n",
       "zMxUVFQiIiJERETc3Nzu7u6qqqp2dnaYmJgyMjIAAAAcRTyBAAAAAXRSTlMAQObYZgAAAh1JREFU\n",
       "OMullEFoE0EUhn+TxmTT3dqDZxnqxVsDAQWpGPDQUyEnj7bQ9qAXCz0otIJ6miA1uYgiSBcUkYil\n",
       "UEqPDYRCW3vYe6lEowd7qQfBehB9b2anmQnG0vXB7L43b+fbN++9GSC5eFHXRH8NaLGyl4j3xrFu\n",
       "0LgJvGd9PxHvq2Md0FgCnnHg95PggoJjHYSALzDAr+UkvGzNtt5eJTM/iGC7Xn+aaLvuqmi4RM/P\n",
       "wKGU84l4522jL1znajeBaaCipirdC0pGqfyVt2AbrzAu6PUBuIa86pnge5zYT+1ZnU9TJePRctoo\n",
       "c0D6DktD/XuRy7NGaUVK9eXLX5zV5hWIxotVh6c8R5IzylnT1hNAZrJ4mz8fp+JGWTW9PUuRPHoe\n",
       "Qgj/ncNjD3d/1JvXB5xqaZ7Xus6zGSF57yRCjG3ZPOWB7n6bN2fxKEHZQdJHOdtTOi2X4sMniufK\n",
       "No89viT5WHJ4Cx2eR7yBb7oeWJnh2V0MI1/Q8aWf2Dz2xB1SsnlNo5RVK+Z+0mOExhkudL69Uw0z\n",
       "d6V8yPlLWTzl0Qtf37J5o52L4fc++qs/KJov3A78dTrEYhkTOj4/bfGUJ1UkuXjZ2a973vS/Z4w2\n",
       "RnFG2FC8hr9j8bSnTjLk1sO9D5T4wjTVIbzqPeQor8F8+3HU4cWeuI7YlA+kbPQ6NkvdExcof0fS\n",
       "dYt5/75Pex/MHrzj7/ug9l+8k0ohwZo//2aLn6xV0D0AAAAASUVORK5CYII=\n",
       "\" style=\"display:inline;vertical-align:middle;\" /></a></span></td></tr>\n",
       "<tr><td>&nbsp;</td><td colspan=4 style-\"text-align:left\"><a class=\"ProveItLink\" href=\"../../axioms.ipynb#denial_via_contradiction\">proveit.logic.booleans.implication.denial_via_contradiction</a></td></tr><tr><td><a name=\"-0x299f24219a35ff94_step5\">5</a></td><td>instantiation</td><td><a href=\"#-0x299f24219a35ff94_step7\">7</a></td><td><span style=\"font-size:20px;\"> <a class=\"ProveItLink\" href=\"../../../__pv_it/_proof_not_true_via_contradiction/9aa33dfeef9cc7017fed0a3ab7bb6d5951d2b3790/proof.ipynb\" style=\"text-decoration: none\">&nbsp;&#x22A2;&nbsp;&nbsp;</a><a class=\"ProveItLink\" href=\"../../../__pv_it/_proof_not_true_via_contradiction/b37eea1b4fd1035764e8aa2fc3da0a0a53b9d3ce0/expr.ipynb\"><img src=\"data:image/png;base64,iVBORw0KGgoAAAANSUhEUgAAAHAAAAAUBAMAAACnq6Q0AAAAMFBMVEX///9UVFTMzMx2dna6uroQ\n",
       "EBCqqqqIiIgiIiJmZmYyMjJERETu7u6YmJjc3NwAAAC+aOQFAAAAAXRSTlMAQObYZgAAAV5JREFU\n",
       "OMtjYOC7wIAXsD3AIXEaQmmhi3N2gIEAgxyqOHvr7l8RIkDGOgh/PTbLCkDkKTRRLqaC0ycvMPBO\n",
       "APN41x/ApZG5AFWUm+UCu8IGBg6IF47Nf4BLI08AhMe7o6MLqpEtYQPDC4johXoHXBoZloBJpu0H\n",
       "4DYy+2xgqARzWA7kX8Cp0RJMnjqAcKqHogLDXjDnCIM+xD+rwGACisZbYFIO4ceI/yEMDG1gjgPD\n",
       "+wk4bcwAkxuQAof5rgFDCNj9kjPlN+DUqA9WEgVyClQjwwZfiEYWBgbWBfg18iHbyLCBEeLUBAYG\n",
       "jgAkPwqgaPQAkwHIGgW4wIHDB9TI9QGnjZDAmY5i42VwWIPikvsfTo2TwSRHAjzJGTBbCoDccfr/\n",
       "Gga2/T8wg5UFEreLwCSPtA9KIud4wEAA8DRAjbGGJDko4J1ASCN6IoeBfYQ0nsKfkXEDXCYTKjp4\n",
       "sQcCAPfGZu/9NRrDAAAAAElFTkSuQmCC\n",
       "\" style=\"display:inline;vertical-align:middle;\" /></a></span></td></tr>\n",
       "<tr><td>&nbsp;</td><td colspan=4 style=\"text-align:left\"><span style=\"font-size:20px;\"><a class=\"ProveItLink\" href=\"../../../../../../__pv_it/common/a2581dc5df71d9a30bad37de14965fa5fec97a240/expr.ipynb\"><img src=\"data:image/png;base64,iVBORw0KGgoAAAANSUhEUgAAAAsAAAAJBAMAAAAWSsseAAAALVBMVEX///9mZmaqqqrMzMxEREQy\n",
       "MjIiIiKYmJh2dna6urrc3NxUVFSIiIju7u4AAACJHQtQAAAAAXRSTlMAQObYZgAAAEJJREFUCNdj\n",
       "YLhzeuWJAwy8Dew5bAEMHBc43nIuYOBlYHFgAAG+A2DKzgBIMF04x8BzgWGegh/DcgaG22fuiBcw\n",
       "AAATyhBrnyPYZQAAAABJRU5ErkJggg==\n",
       "\" style=\"display:inline;vertical-align:middle;\" /></a> : <a class=\"ProveItLink\" href=\"../../../../../../__pv_it/common/e4aad701f7f5516d8e7f0d805d518bf02c13322a0/expr.ipynb\"><img src=\"data:image/png;base64,iVBORw0KGgoAAAANSUhEUgAAAA8AAAAOBAMAAAACpFvcAAAALVBMVEX///8iIiIQEBBERERUVFS6\n",
       "urqIiIjc3NxmZmaqqqru7u6YmJgyMjLMzMwAAACK9jtgAAAAAXRSTlMAQObYZgAAAFtJREFUCNdj\n",
       "YACBOwxQcA5Kc59bAGGs7CuAMDbkBYBp1gXzNoAZSxnuJYAZAQx1DSCa16PDzwCshIGB6QCIMYGB\n",
       "gVEBSLMDGTwPgIxCIGZ+zsCw+N0pBk67hw0AfpEVEQi8t+wAAAAASUVORK5CYII=\n",
       "\" style=\"display:inline;vertical-align:middle;\" /></a>, <a class=\"ProveItLink\" href=\"../../../../../../__pv_it/common/0f21cbfd5644a1cae6781c1d58354abc2ffbc9000/expr.ipynb\"><img src=\"data:image/png;base64,iVBORw0KGgoAAAANSUhEUgAAAAsAAAANBAMAAACN24kIAAAAMFBMVEX///8iIiKYmJhUVFTMzMxE\n",
       "REQyMjKqqqq6urp2dnYQEBDc3NxmZmaIiIju7u4AAACH5sGpAAAAAXRSTlMAQObYZgAAAFlJREFU\n",
       "CNdj4LtzgWHXAwZOjgUM9xkYtvMkMIQyMDzgusDwl4GBof8ByxcgdYyBdwGQCmZgNQBShxn6FYDU\n",
       "47vnNzAwgGUZGJgT+H4AKUYF1gtAiuPuESAJAJGkFvXVdzA+AAAAAElFTkSuQmCC\n",
       "\" style=\"display:inline;vertical-align:middle;\" /></a> : <a class=\"ProveItLink\" href=\"../../../../__pv_it/common/373f61d65f7ccc0f6ebbafaccf02f2693d0e3bad0/expr.ipynb\"><img src=\"data:image/png;base64,iVBORw0KGgoAAAANSUhEUgAAAA4AAAAOBAMAAADtZjDiAAAAG1BMVEX///+YmJi6urqIiIiqqqpU\n",
       "VFQiIiJmZmYAAAD2GhH1AAAAAXRSTlMAQObYZgAAABhJREFUCNdjKEsDgVQGIHBmgABa0YpADADk\n",
       "ogYfXGfJdgAAAABJRU5ErkJggg==\n",
       "\" style=\"display:inline;vertical-align:middle;\" /></a></span></td></tr><tr><td><a name=\"-0x299f24219a35ff94_step6\">6</a></td><td>deduction</td><td><a href=\"#-0x299f24219a35ff94_step8\">8</a></td><td><span style=\"font-size:20px;\"><a class=\"ProveItLink\" href=\"../../../__pv_it/axioms/6957e7f764844780d82543418d2531b9f357c0530/expr.ipynb\"><img src=\"data:image/png;base64,iVBORw0KGgoAAAANSUhEUgAAAD8AAAAPBAMAAAChCwpBAAAAMFBMVEX///92dnYiIiIQEBBERERU\n",
       "VFS6urqIiIjc3NxmZmaqqqru7u6YmJgyMjLMzMwAAADiRdoGAAAAAXRSTlMAQObYZgAAAKdJREFU\n",
       "GNNjYACBtwzYAN8COPM+VgVcBTAWz/0N+BXsmt8AF2VpwKLgQH0CwmIHTAVsG9YfQBh8ElPBNob3\n",
       "YOYkJRDQn4ChIIGhfwKS29YuQFPAFzkz3gFJAfflBFQFbAwMzBeQFLRKoJkANJHJAMSYexcMbqC5\n",
       "gQOogPcDwoBcdF80gULnB8IFt9EUbPl/m4HL/xPcG6wPIDSnkpKykZJSAEYEcKDxATVyLqyoiK3W\n",
       "AAAAAElFTkSuQmCC\n",
       "\" style=\"display:inline;vertical-align:middle;\" /></a> <a class=\"ProveItLink\" href=\"../../../__pv_it/_proof_not_true_via_contradiction/5ec9014c261ed75468ea17ab7c52c2b49f1986820/proof.ipynb\" style=\"text-decoration: none\">&nbsp;&#x22A2;&nbsp;&nbsp;</a><a class=\"ProveItLink\" href=\"../../../__pv_it/_proof_not_true_via_contradiction/4c90bcc7cdf1f7deccb99d46bd9ef10af1ea9f9c0/expr.ipynb\"><img src=\"data:image/png;base64,iVBORw0KGgoAAAANSUhEUgAAAHkAAAAUBAMAAABbvo/+AAAAMFBMVEX///9UVFTMzMx2dna6uroQ\n",
       "EBCqqqqIiIgiIiJmZmYyMjJERETu7u6YmJjc3NwAAAC+aOQFAAAAAXRSTlMAQObYZgAAATFJREFU\n",
       "OMtjYOC7wIAX5OGVPQ2htNDFZ3SAQCMD4wOs2pgSwNQ6CG89FhXpIIJnAVbdbAUgkncCmMO7/gAO\n",
       "3QzmeHRzQBx2bP4DXLqPIgS4H6DpfgHhXKh3wKWbCyHDtAFNdyWYzXIg/wIu3cwTECI30XTvBbOP\n",
       "MOiDeVarQGAlim7eBYgo6J+AqrsNzHZgeD8Bl91sDUhCWQkoukPA/pGcKb8Bl26mD0hCPEsdMHSz\n",
       "MDCwLiBK90M7TJcDncMRgPD3QhTdLGCXzwLLrFqHGWp8QN1cH3DZzYvkKi+0MLeExjn3P1y6OQ0Q\n",
       "vl6DptsDmE/+r2Fg2/8DM9B9IalFAS7ACGVydnS0RnR0CMBSKh5wAsHkQ5fjnUBItzk+yX0ENOPI\n",
       "oailA07AjddrhEqme3jkAFeXWYKJR9ZGAAAAAElFTkSuQmCC\n",
       "\" style=\"display:inline;vertical-align:middle;\" /></a></span></td></tr>\n",
       "<tr><td><a name=\"-0x299f24219a35ff94_step7\">7</a></td><td>axiom</td><td></td><td><span style=\"font-size:20px;\"> <a class=\"ProveItLink\" href=\"../../../../../equality/_theory_nbs_/axioms.ipynb#equality_in_bool\" style=\"text-decoration: none\">&nbsp;&#x22A2;&nbsp;&nbsp;</a><a class=\"ProveItLink\" href=\"../../../../../equality/__pv_it/axioms/0032644a84796ee50f77c857714a616922f0e4bf0/expr.ipynb\"><img src=\"data:image/png;base64,iVBORw0KGgoAAAANSUhEUgAAAKYAAAAVBAMAAAA++IifAAAAMFBMVEX///8QEBCIiIhmZma6urrM\n",
       "zMxUVFQiIiJERETc3Nzu7u6qqqp2dnaYmJgyMjIAAAAcRTyBAAAAAXRSTlMAQObYZgAAAkxJREFU\n",
       "OMulVT9oE1Ec/oyX3OVyZzMoOMmRYuwgVIR2aqsiGBA0rYOTYBAFXaSI1UGxoYMmgvQEoUURHx1C\n",
       "6SABBweX0DpIVbjBscoJOigoVRTUqe9f2t7LezTgD768u++997vf/wAmyUYCBsmFZj5mD+81m/MS\n",
       "JrmkvO/bPf3x2mHOv2bvXzV3vkiY5KlKxKfcu8Ocn2VuVjuv+AcEjOIFClE9gb0O53cQujQ7r9ih\n",
       "gFHcvPz4neu32jpfOJz3lxcWZjRXZiTM8on/pqfIhp0v5wX/p1a7qbnRKzFXfLBf8dLtDXCfYEmE\n",
       "lWz4bk1coCvl6VLX6Lwn4Lb8KzarDe87FxZhz8qjH/igpL96ZPIHzTvjj8KNNTpvCHjE+2cpYX20\n",
       "PUYNeC40bc7R2xVw3kZKV9k7BVw4HUVBtgX4CZzl4dzDrG/rdKyI815kw6wT6Ak69sok/VvqzCbs\n",
       "dFDhfDY+TYnFgeIoYBVhk4Tv9MioKEcRzwp7HkGKFlKJ8/nNOjOsLRlfPw+kyGWbxtfrIWPJHOVI\n",
       "P91U7LwNp9LO0cGEnX5L8M/GaVjwjdEPS+iTJ5YEys1pPFZ9H0SZxm1I9MZ6v8Rn8GYQghcB+8v5\n",
       "IZyTJ0oCjcLccEcKG4VDtBQ+i2K9eDw5QzjvM9fSq2m2cRW7uurNEapsXDxar2RvtjtC8njixR5m\n",
       "CSas1a1nSCZ2f2lmiDpbGu8WlzHWxLG+9fqvQ99g1PzICTSzTj8Dm27oRFvPZKswYPyeyufCTOtk\n",
       "t/8dftgV78NaaeH/ZQ3wb6WAciBaNgAAAABJRU5ErkJggg==\n",
       "\" style=\"display:inline;vertical-align:middle;\" /></a></span></td></tr>\n",
       "<tr><td>&nbsp;</td><td colspan=4 style-\"text-align:left\"><a class=\"ProveItLink\" href=\"../../../../../equality/_theory_nbs_/axioms.ipynb#equality_in_bool\">proveit.logic.equality.equality_in_bool</a></td></tr><tr><td><a name=\"-0x299f24219a35ff94_step8\">8</a></td><td>modus ponens</td><td><a href=\"#-0x299f24219a35ff94_step9\">9</a>, <a href=\"#-0x299f24219a35ff94_step10\">10</a></td><td><span style=\"font-size:20px;\"><a class=\"ProveItLink\" href=\"../../../../__pv_it/axioms/3cfc6152b0f6698bf3d1dd9b1468fa8ef959e6ee0/expr.ipynb\"><img src=\"data:image/png;base64,iVBORw0KGgoAAAANSUhEUgAAADoAAAAOBAMAAACMfhKgAAAAMFBMVEX///92dnYiIiIQEBBERERU\n",
       "VFS6urqIiIjc3NxmZmaqqqru7u6YmJgyMjLMzMwAAADiRdoGAAAAAXRSTlMAQObYZgAAAHlJREFU\n",
       "GNNjYACBtwxoYJISCKhCOPcZMMFyGIPn/gY8srvmN+CRPVCfgFuWbcP6A7hltzG8LwDRsndB4Caa\n",
       "bAJD/wScevkiZ8Y74JRlY2BgvoBTdgEDA5MBwt6rKLIcQFneD7j0NgExyw8cslv+32bg8v+E6egc\n",
       "IAYAzqMrmtpGhM0AAAAASUVORK5CYII=\n",
       "\" style=\"display:inline;vertical-align:middle;\" /></a>, <a class=\"ProveItLink\" href=\"../../../__pv_it/axioms/6957e7f764844780d82543418d2531b9f357c0530/expr.ipynb\"><img src=\"data:image/png;base64,iVBORw0KGgoAAAANSUhEUgAAAD8AAAAPBAMAAAChCwpBAAAAMFBMVEX///92dnYiIiIQEBBERERU\n",
       "VFS6urqIiIjc3NxmZmaqqqru7u6YmJgyMjLMzMwAAADiRdoGAAAAAXRSTlMAQObYZgAAAKdJREFU\n",
       "GNNjYACBtwzYAN8COPM+VgVcBTAWz/0N+BXsmt8AF2VpwKLgQH0CwmIHTAVsG9YfQBh8ElPBNob3\n",
       "YOYkJRDQn4ChIIGhfwKS29YuQFPAFzkz3gFJAfflBFQFbAwMzBeQFLRKoJkANJHJAMSYexcMbqC5\n",
       "gQOogPcDwoBcdF80gULnB8IFt9EUbPl/m4HL/xPcG6wPIDSnkpKykZJSAEYEcKDxATVyLqyoiK3W\n",
       "AAAAAElFTkSuQmCC\n",
       "\" style=\"display:inline;vertical-align:middle;\" /></a> <a class=\"ProveItLink\" href=\"../../../__pv_it/_proof_not_true_via_contradiction/f777b51ad643943b62fb553e9147f5b1308003f20/proof.ipynb\" style=\"text-decoration: none\">&nbsp;&#x22A2;&nbsp;&nbsp;</a><a class=\"ProveItLink\" href=\"../../../../__pv_it/common/bc5c31e39ae582b67c89fb24025b57f5b995e8890/expr.ipynb\"><img src=\"data:image/png;base64,iVBORw0KGgoAAAANSUhEUgAAAA4AAAAOBAMAAADtZjDiAAAAG1BMVEX///9UVFQQEBAiIiJmZmaI\n",
       "iIiqqqrMzMwAAADC2JlRAAAAAXRSTlMAQObYZgAAABlJREFUCNdjYGBgKGOAgFRa0s7GxkrGxoYA\n",
       "QSUGlQeagkgAAAAASUVORK5CYII=\n",
       "\" style=\"display:inline;vertical-align:middle;\" /></a></span></td></tr>\n",
       "<tr><td><a name=\"-0x299f24219a35ff94_step9\">9</a></td><td>assumption</td><td></td><td><span style=\"font-size:20px;\"><a class=\"ProveItLink\" href=\"../../../__pv_it/axioms/6957e7f764844780d82543418d2531b9f357c0530/expr.ipynb\"><img src=\"data:image/png;base64,iVBORw0KGgoAAAANSUhEUgAAAD8AAAAPBAMAAAChCwpBAAAAMFBMVEX///92dnYiIiIQEBBERERU\n",
       "VFS6urqIiIjc3NxmZmaqqqru7u6YmJgyMjLMzMwAAADiRdoGAAAAAXRSTlMAQObYZgAAAKdJREFU\n",
       "GNNjYACBtwzYAN8COPM+VgVcBTAWz/0N+BXsmt8AF2VpwKLgQH0CwmIHTAVsG9YfQBh8ElPBNob3\n",
       "YOYkJRDQn4ChIIGhfwKS29YuQFPAFzkz3gFJAfflBFQFbAwMzBeQFLRKoJkANJHJAMSYexcMbqC5\n",
       "gQOogPcDwoBcdF80gULnB8IFt9EUbPl/m4HL/xPcG6wPIDSnkpKykZJSAEYEcKDxATVyLqyoiK3W\n",
       "AAAAAElFTkSuQmCC\n",
       "\" style=\"display:inline;vertical-align:middle;\" /></a> <a class=\"ProveItLink\" href=\"../../../__pv_it/_proof_not_true_via_contradiction/f51d84fa3173fb25eddc73f7a144f68fb12fdc980/proof.ipynb\" style=\"text-decoration: none\">&nbsp;&#x22A2;&nbsp;&nbsp;</a><a class=\"ProveItLink\" href=\"../../../__pv_it/axioms/6957e7f764844780d82543418d2531b9f357c0530/expr.ipynb\"><img src=\"data:image/png;base64,iVBORw0KGgoAAAANSUhEUgAAAD8AAAAPBAMAAAChCwpBAAAAMFBMVEX///92dnYiIiIQEBBERERU\n",
       "VFS6urqIiIjc3NxmZmaqqqru7u6YmJgyMjLMzMwAAADiRdoGAAAAAXRSTlMAQObYZgAAAKdJREFU\n",
       "GNNjYACBtwzYAN8COPM+VgVcBTAWz/0N+BXsmt8AF2VpwKLgQH0CwmIHTAVsG9YfQBh8ElPBNob3\n",
       "YOYkJRDQn4ChIIGhfwKS29YuQFPAFzkz3gFJAfflBFQFbAwMzBeQFLRKoJkANJHJAMSYexcMbqC5\n",
       "gQOogPcDwoBcdF80gULnB8IFt9EUbPl/m4HL/xPcG6wPIDSnkpKykZJSAEYEcKDxATVyLqyoiK3W\n",
       "AAAAAElFTkSuQmCC\n",
       "\" style=\"display:inline;vertical-align:middle;\" /></a></span></td></tr>\n",
       "<tr><td><a name=\"-0x299f24219a35ff94_step10\">10</a></td><td>instantiation</td><td><a href=\"#-0x299f24219a35ff94_step11\">11</a>, <a href=\"#-0x299f24219a35ff94_step12\">12</a></td><td><span style=\"font-size:20px;\"><a class=\"ProveItLink\" href=\"../../../../__pv_it/axioms/3cfc6152b0f6698bf3d1dd9b1468fa8ef959e6ee0/expr.ipynb\"><img src=\"data:image/png;base64,iVBORw0KGgoAAAANSUhEUgAAADoAAAAOBAMAAACMfhKgAAAAMFBMVEX///92dnYiIiIQEBBERERU\n",
       "VFS6urqIiIjc3NxmZmaqqqru7u6YmJgyMjLMzMwAAADiRdoGAAAAAXRSTlMAQObYZgAAAHlJREFU\n",
       "GNNjYACBtwxoYJISCKhCOPcZMMFyGIPn/gY8srvmN+CRPVCfgFuWbcP6A7hltzG8LwDRsndB4Caa\n",
       "bAJD/wScevkiZ8Y74JRlY2BgvoBTdgEDA5MBwt6rKLIcQFneD7j0NgExyw8cslv+32bg8v+E6egc\n",
       "IAYAzqMrmtpGhM0AAAAASUVORK5CYII=\n",
       "\" style=\"display:inline;vertical-align:middle;\" /></a> <a class=\"ProveItLink\" href=\"../../../__pv_it/_proof_not_true_via_contradiction/de7264b77332363845317741dff5df69607779b80/proof.ipynb\" style=\"text-decoration: none\">&nbsp;&#x22A2;&nbsp;&nbsp;</a><a class=\"ProveItLink\" href=\"../../../../../../__pv_it/common/e4aad701f7f5516d8e7f0d805d518bf02c13322a0/expr.ipynb\"><img src=\"data:image/png;base64,iVBORw0KGgoAAAANSUhEUgAAAA8AAAAOBAMAAAACpFvcAAAALVBMVEX///8iIiIQEBBERERUVFS6\n",
       "urqIiIjc3NxmZmaqqqru7u6YmJgyMjLMzMwAAACK9jtgAAAAAXRSTlMAQObYZgAAAFtJREFUCNdj\n",
       "YACBOwxQcA5Kc59bAGGs7CuAMDbkBYBp1gXzNoAZSxnuJYAZAQx1DSCa16PDzwCshIGB6QCIMYGB\n",
       "gVEBSLMDGTwPgIxCIGZ+zsCw+N0pBk67hw0AfpEVEQi8t+wAAAAASUVORK5CYII=\n",
       "\" style=\"display:inline;vertical-align:middle;\" /></a></span></td></tr>\n",
       "<tr><td>&nbsp;</td><td colspan=4 style=\"text-align:left\"><span style=\"font-size:20px;\"><a class=\"ProveItLink\" href=\"../../../../../../__pv_it/common/e4aad701f7f5516d8e7f0d805d518bf02c13322a0/expr.ipynb\"><img src=\"data:image/png;base64,iVBORw0KGgoAAAANSUhEUgAAAA8AAAAOBAMAAAACpFvcAAAALVBMVEX///8iIiIQEBBERERUVFS6\n",
       "urqIiIjc3NxmZmaqqqru7u6YmJgyMjLMzMwAAACK9jtgAAAAAXRSTlMAQObYZgAAAFtJREFUCNdj\n",
       "YACBOwxQcA5Kc59bAGGs7CuAMDbkBYBp1gXzNoAZSxnuJYAZAQx1DSCa16PDzwCshIGB6QCIMYGB\n",
       "gVEBSLMDGTwPgIxCIGZ+zsCw+N0pBk67hw0AfpEVEQi8t+wAAAAASUVORK5CYII=\n",
       "\" style=\"display:inline;vertical-align:middle;\" /></a> : <a class=\"ProveItLink\" href=\"../../../../../../__pv_it/common/e4aad701f7f5516d8e7f0d805d518bf02c13322a0/expr.ipynb\"><img src=\"data:image/png;base64,iVBORw0KGgoAAAANSUhEUgAAAA8AAAAOBAMAAAACpFvcAAAALVBMVEX///8iIiIQEBBERERUVFS6\n",
       "urqIiIjc3NxmZmaqqqru7u6YmJgyMjLMzMwAAACK9jtgAAAAAXRSTlMAQObYZgAAAFtJREFUCNdj\n",
       "YACBOwxQcA5Kc59bAGGs7CuAMDbkBYBp1gXzNoAZSxnuJYAZAQx1DSCa16PDzwCshIGB6QCIMYGB\n",
       "gVEBSLMDGTwPgIxCIGZ+zsCw+N0pBk67hw0AfpEVEQi8t+wAAAAASUVORK5CYII=\n",
       "\" style=\"display:inline;vertical-align:middle;\" /></a></span></td></tr><tr><td><a name=\"-0x299f24219a35ff94_step11\">11</a></td><td>axiom</td><td></td><td><span style=\"font-size:20px;\"> <a class=\"ProveItLink\" href=\"../../../../_theory_nbs_/axioms.ipynb#eq_true_elim\" style=\"text-decoration: none\">&nbsp;&#x22A2;&nbsp;&nbsp;</a><a class=\"ProveItLink\" href=\"../../../../__pv_it/axioms/ed8b0a27c515b8c85261606f0835dadd8c8b34f70/expr.ipynb\"><img src=\"data:image/png;base64,iVBORw0KGgoAAAANSUhEUgAAAGgAAAAWBAMAAADeGsQjAAAAMFBMVEX///8QEBCIiIhmZma6urrM\n",
       "zMxUVFQiIiJERETc3Nzu7u6qqqp2dnaYmJgyMjIAAAAcRTyBAAAAAXRSTlMAQObYZgAAAUpJREFU\n",
       "OMtjYCAHPAARd0nQwArUcRrEeEWCJr4PDAwzgDRnAwma7v0CalzAwMCzgXg9XJt/MjDwnlq1ajoJ\n",
       "FvEyfQGSPzo6akjQ5MX9F0imMjB0grkQkgUmyzEBq+scWD8BKWcGLnCw836BqIVJ33eAMng6OiQ6\n",
       "eqAcFgbOz0CKnYHpAoi7+C+KJi77CwjzEaEbZmz2A2TQBXYw91Qxiiae5QbYNAGtlwNF0oMwcEQr\n",
       "dKBoCuJowKKJG4gLwQGQAiLZGMxRNCUwFzBkdADBBWRNs4H4PYixuQBE3mbQR9bEu4HpA6ZNnCCl\n",
       "/aBg5VcA+fvxmf4FSJrW2Zz4haGJq//fAoYd/0Ge5wUpZl7AMD8ASZMVA+dXhrx3QIDiPFTgC7Tx\n",
       "AkITC5D9F1voIQOOHwyc/bUITf0NDDO+IyIqgUDa4iAnJ9NPEzMRagC48VUODJp6sgAAAABJRU5E\n",
       "rkJggg==\n",
       "\" style=\"display:inline;vertical-align:middle;\" /></a></span></td></tr>\n",
       "<tr><td>&nbsp;</td><td colspan=4 style-\"text-align:left\"><a class=\"ProveItLink\" href=\"../../../../_theory_nbs_/axioms.ipynb#eq_true_elim\">proveit.logic.booleans.eq_true_elim</a></td></tr><tr><td><a name=\"-0x299f24219a35ff94_step12\">12</a></td><td>assumption</td><td></td><td><span style=\"font-size:20px;\"><a class=\"ProveItLink\" href=\"../../../../__pv_it/axioms/3cfc6152b0f6698bf3d1dd9b1468fa8ef959e6ee0/expr.ipynb\"><img src=\"data:image/png;base64,iVBORw0KGgoAAAANSUhEUgAAADoAAAAOBAMAAACMfhKgAAAAMFBMVEX///92dnYiIiIQEBBERERU\n",
       "VFS6urqIiIjc3NxmZmaqqqru7u6YmJgyMjLMzMwAAADiRdoGAAAAAXRSTlMAQObYZgAAAHlJREFU\n",
       "GNNjYACBtwxoYJISCKhCOPcZMMFyGIPn/gY8srvmN+CRPVCfgFuWbcP6A7hltzG8LwDRsndB4Caa\n",
       "bAJD/wScevkiZ8Y74JRlY2BgvoBTdgEDA5MBwt6rKLIcQFneD7j0NgExyw8cslv+32bg8v+E6egc\n",
       "IAYAzqMrmtpGhM0AAAAASUVORK5CYII=\n",
       "\" style=\"display:inline;vertical-align:middle;\" /></a> <a class=\"ProveItLink\" href=\"../../../__pv_it/_proof_not_true_via_contradiction/b8769681d46769d83bbb3ba405983fb3f88494340/proof.ipynb\" style=\"text-decoration: none\">&nbsp;&#x22A2;&nbsp;&nbsp;</a><a class=\"ProveItLink\" href=\"../../../../__pv_it/axioms/3cfc6152b0f6698bf3d1dd9b1468fa8ef959e6ee0/expr.ipynb\"><img src=\"data:image/png;base64,iVBORw0KGgoAAAANSUhEUgAAADoAAAAOBAMAAACMfhKgAAAAMFBMVEX///92dnYiIiIQEBBERERU\n",
       "VFS6urqIiIjc3NxmZmaqqqru7u6YmJgyMjLMzMwAAADiRdoGAAAAAXRSTlMAQObYZgAAAHlJREFU\n",
       "GNNjYACBtwxoYJISCKhCOPcZMMFyGIPn/gY8srvmN+CRPVCfgFuWbcP6A7hltzG8LwDRsndB4Caa\n",
       "bAJD/wScevkiZ8Y74JRlY2BgvoBTdgEDA5MBwt6rKLIcQFneD7j0NgExyw8cslv+32bg8v+E6egc\n",
       "IAYAzqMrmtpGhM0AAAAASUVORK5CYII=\n",
       "\" style=\"display:inline;vertical-align:middle;\" /></a></span></td></tr>\n",
       "</table>"
      ],
      "text/plain": [
       "\tstep type\trequirements\tstatement\n",
       "0\tgeneralizaton\t1\t|- forall_{A | A => FALSE} (A != TRUE)\n",
       "1\tinstantiation\t2, 3\t{A => FALSE} |- A != TRUE\n",
       "\tx : A, y : TRUE\n",
       "2\ttheorem\t\t|- forall_{x, y | not(x = y)} (x != y)\n",
       "\tproveit.logic.equality.fold_not_equals\n",
       "3\tinstantiation\t4, 5, 6\t{A => FALSE} |- not(A = TRUE)\n",
       "\tA : A = TRUE\n",
       "4\taxiom\t\t|- forall_{A in BOOLEAN | A => FALSE} not(A)\n",
       "\tproveit.logic.booleans.implication.denial_via_contradiction\n",
       "5\tinstantiation\t7\t|- (A = TRUE) in BOOLEAN\n",
       "\tx : A, y : TRUE\n",
       "6\tdeduction\t8\t{A => FALSE} |- (A = TRUE) => FALSE\n",
       "7\taxiom\t\t|- forall_{x, y} ((x = y) in BOOLEAN)\n",
       "\tproveit.logic.equality.equality_in_bool\n",
       "8\tmodus ponens\t9, 10\t{A = TRUE, A => FALSE} |- FALSE\n",
       "9\tassumption\t\t{A => FALSE} |- A => FALSE\n",
       "10\tinstantiation\t11, 12\t{A = TRUE} |- A\n",
       "\tA : A\n",
       "11\taxiom\t\t|- forall_{A | A = TRUE} A\n",
       "\tproveit.logic.booleans.eq_true_elim\n",
       "12\tassumption\t\t{A = TRUE} |- A = TRUE"
      ]
     },
     "execution_count": 8,
     "metadata": {},
     "output_type": "execute_result"
    }
   ],
   "source": [
    "%qed"
   ]
  },
  {
   "cell_type": "code",
   "execution_count": null,
   "metadata": {},
   "outputs": [],
   "source": []
  }
 ],
 "metadata": {
  "kernelspec": {
   "display_name": "Python 3",
   "language": "python",
   "name": "python3"
  }
 },
 "nbformat": 4,
 "nbformat_minor": 0
}