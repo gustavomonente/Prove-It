{
 "cells": [
  {
   "cell_type": "markdown",
   "metadata": {},
   "source": [
    "Proof of <a class=\"ProveItLink\" href=\"../../../../../../_theory_nbs_/theory.ipynb\">proveit</a>.<a class=\"ProveItLink\" href=\"../../../../../_theory_nbs_/theory.ipynb\">logic</a>.<a class=\"ProveItLink\" href=\"../../../../_theory_nbs_/theory.ipynb\">booleans</a>.<a class=\"ProveItLink\" href=\"../../theory.ipynb\">implication</a>.<a class=\"ProveItLink\" href=\"../../theorems.ipynb#from_contraposition\">from_contraposition</a> theorem\n",
    "========"
   ]
  },
  {
   "cell_type": "code",
   "execution_count": 1,
   "metadata": {},
   "outputs": [],
   "source": [
    "import proveit\n",
    "from proveit import defaults\n",
    "from proveit import A\n",
    "theory = proveit.Theory() # the theorem's theory"
   ]
  },
  {
   "cell_type": "code",
   "execution_count": 2,
   "metadata": {},
   "outputs": [
    {
     "data": {
      "text/html": [
       "Under these <a href=\"presumptions.txt\">presumptions</a>, we begin our proof of<br><strong id=\"from_contraposition\">from_contraposition:</strong> <a class=\"ProveItLink\" href=\"../../../__pv_it/theorems/9f65e50b59996328790de0a9f60d0a4e486fda000/expr.ipynb\"><img src=\"data:image/png;base64,iVBORw0KGgoAAAANSUhEUgAAARkAAAAWBAMAAAAGH/VFAAAAMFBMVEX///8QEBCIiIhmZma6urrM\n",
       "zMxUVFQiIiJERETc3Nzu7u6qqqp2dnaYmJgyMjIAAAAcRTyBAAAAAXRSTlMAQObYZgAAA75JREFU\n",
       "SMe9Vk2IFEcU/uzpcaZnemb3ECSgSBMP8RJ3YWBCJCYjgnpZ3FzEU2wwwhoiKwpREiUqYsbfbQ+i\n",
       "CLItyiorSRZCDjkEJy4hiREZPQghCJPsKQru4q66GkRfvVc9XTM7uzno+GC6aup7r+ur772qLuD1\n",
       "mFP9X5cf6VdTnTttZ3NJmo9bYbefbyqWS5gfAH+o/3fbzuZfacZbgm8CiYfIkDCnlYx7200m1y3N\n",
       "eNgCTD4D7EngKpAn3B1pN5tUwM3lD4N47FDUsZ4QzwfAOWquDQ+fanui9AzVrlI8tiHqpDuJyRck\n",
       "DIHT5fLuuV4UNIg6K5Sck80SftrhleqM7AEdPpKfqxTRwOZIM3munRzt41lscXV1iD3wfvEQssba\n",
       "6hDHakTcZtgxfl7ARk+1iZ1skxrcuPXW16pWclTGq7iYqT8ljDvhdrJ+4roleuFN4GfgPWOKLfEy\n",
       "p+qIuPHgP2M7ooL8kp8lDHYb8dl70nYFyCxQ/7dRgcFi+c4/YyjhI/s0ZpOsRLFF4EqIISM3dYhj\n",
       "h0w3XB5dAa9y9gft8AYHbCr0N+zeb3kY+xQj4p2cIL2rKR67tkOq30OiFrOZ3xuFbgc+oErjLGar\n",
       "DRDHCqLdckfOhPA89xuTDeV+Xs08nz+TkEeKjSdsnNp6Ju6VGfquF8vCmE0qCs08hEWHpOjISUrF\n",
       "KqlYQbTbKtX3vJ7fzUzR8lNcBIn7YkH9uEE/lZ29TVXgJywC3mVs3TtLfcRs6pvffnDroFLFd8tk\n",
       "f5cMSGKzvuHGEniFxb1GFTvEJj8RS2PX4uMmOa2rGN8rSvgLXYzdAN422KwFfqPZa3BrsMjR1olf\n",
       "UoohiRVE3DLdok3ipJ55VC8s/cSoGn0u50mvlYeVZKoQO9Suy4xdH2D0KDA4ErNZLRE+0hU4/9Ei\n",
       "9IKGPo0hiRVE3JK7yuX9qm4sPfMa+m4+v4vswON4U23Wwo4/KvQdYVpKyZxikQgxyLLSjOuCmM2G\n",
       "aMqOEdi0MNu3CmTF5QYksTZnSrv5oo2baPwyzH6sKrtY7/XQi6rOYThP4SwyMnUxmnIwxAlSMlfB\n",
       "MNlbJsSxCjkdRm6/MJuKe7353J3LrtY/FdNwBvYkF+LXyUJfyWCTkuQG7leF4gGlIYOOb0ASq5CP\n",
       "RiK3NCU7t3vseHXGJ3J2y9SaBrJGX9hYTZ/3vJwULaC87GFtS6luWty25rJ00OIy2MgGTVefn4z+\n",
       "3mYkG7zMTfTP5oHqTDY9jWqa+e9pRnLtu5Lo7dC4Xsu8uzVAVvgK5nwBOlIM7qcNEfAAAAAASUVO\n",
       "RK5CYII=\n",
       "\" style=\"display:inline;vertical-align:middle;\" /></a><br>(see <a class=\"ProveItLink\" href=\"../../../__pv_it/theorems/f5f87b2160953cfd598e3f1fc09a05541cec04600/dependencies.ipynb\">dependencies</a>)<br>"
      ],
      "text/plain": [
       "from_contraposition: forall_{A, B | not(B) => not(A), B in BOOLEAN} (A => B)"
      ]
     },
     "execution_count": 2,
     "metadata": {},
     "output_type": "execute_result"
    }
   ],
   "source": [
    "%proving from_contraposition"
   ]
  },
  {
   "cell_type": "code",
   "execution_count": 3,
   "metadata": {},
   "outputs": [
    {
     "data": {
      "text/html": [
       "<strong id=\"defaults.assumptions\">defaults.assumptions:</strong> <a class=\"ProveItLink\" href=\"../../../__pv_it/_proof_from_contraposition/bc5d506b7b30317e9e092c55b637dfe8b0bb73bc0/expr.ipynb\"><img src=\"data:image/png;base64,iVBORw0KGgoAAAANSUhEUgAAAOMAAAAUBAMAAACNN5feAAAAMFBMVEX////MzMxUVFR2dna6uroQ\n",
       "EBCqqqqIiIgiIiJmZmYyMjJERETu7u6YmJjc3NwAAACgK8IjAAAAAXRSTlMAQObYZgAAArpJREFU\n",
       "SMeVVk1oE1EQ/jZdkzS7iUURDx6MRxExoCA9KAEpFFEQ6clechL8QeLNgqBWlBWKDTlZQcillyI2\n",
       "B5WCrQmCKPRg0YOoUJYeRBChFqW0VdvZ3ff2zb5dTR0Y3s9+38y82Xk/QGEOvkblEpLk2+Zg/xCf\n",
       "MCtUyNv1vfVnZaTcBLzd5COjAQYTPC5XBlvjw+UEwiOhUgaB7u+wGwkuc5E4covgsIAXkcZOe/pB\n",
       "nJCvBRqG8hswV4DDCS4/REYff4HBJI9L8yQuW3FC1g1USuYPhbAMvFRTlvx8N5Llc4RUMMnz5JPj\n",
       "NITLs1ac8AWBhvZP0fQIZUH9BEP8wsJ17jKf+QEGkzySXVfVKg/NxglD1AwxS1uLMIbbQFctltBM\n",
       "jbs8kaZUKpjk0WoeqsSaN/bECTPUzDBLu/e/n6p4Mfmpued4MhrYtfhWssvGcghjPF7Fzb7Rn+U4\n",
       "4TY1pN2+7RJwzYV9mubSPIvnfWPZiojhJg1MFFY4TPIoMl4+R97JgSIMUDMgZgtF4IlHJ9vGIl/S\n",
       "uBfsFhnxAum2sfoaGEzygB0TJLJ8LFOmRhF0l0setaq5XDgK3SX1z3CXkgd85au0UBQDRRCJlS69\n",
       "7YUD9Nn0M3Z/wpfgqMhWlMs0NbcgYVA8ioy7TEH8bEbg5UMuve1lrPG6IDmOaPmQy8/UTDJYyKOy\n",
       "qPJV5ktBnxF6qemVmB7kaHv1TXvEkvqTourDDWEEW7Tl+rA3nteQx5KGxnYcrMNelXtaEPqp2x9a\n",
       "T00uje176h+IPWpSdM2wiO3WahsX1u/4sOwI55G8eNyOHOtOWyNoB56U16pbQNKBp2AX9cljUw6/\n",
       "FdLtKEE/1qV0PtZDWKnDHdmlE54L1a7GpMvLcpNgdrWDy1e6Xe2K/qv12BUtYflOL4E53W7yQ2R+\n",
       "cw+R+f99iBBhAxKx9vqML6k2AAAAAElFTkSuQmCC\n",
       "\" style=\"display:inline;vertical-align:middle;\" /></a><br>"
      ],
      "text/plain": [
       "defaults.assumptions: (not(B) => not(A), B in BOOLEAN, A)"
      ]
     },
     "execution_count": 3,
     "metadata": {},
     "output_type": "execute_result"
    }
   ],
   "source": [
    "defaults.assumptions = list(from_contraposition.all_conditions()) + [A]"
   ]
  },
  {
   "cell_type": "code",
   "execution_count": 4,
   "metadata": {},
   "outputs": [
    {
     "data": {
      "text/html": [
       "<strong id=\"not_b_implies_not_a\">not_b_implies_not_a:</strong> <a class=\"ProveItLink\" href=\"../../../__pv_it/theorems/ba4beeec84b169d5062049eafe0bbe7a5356c1ea0/expr.ipynb\"><img src=\"data:image/png;base64,iVBORw0KGgoAAAANSUhEUgAAAHkAAAAUBAMAAABbvo/+AAAAMFBMVEX////MzMxUVFR2dna6uroQ\n",
       "EBCqqqqIiIgiIiJmZmYyMjJERETu7u6YmJjc3NwAAACgK8IjAAAAAXRSTlMAQObYZgAAAb5JREFU\n",
       "OMuNlD1LA0EQht/TM7kkl1P8A6YVEe3ERtIIIhYiVtqkVUFsrSKKoiB6WKmVjY2IsVEEv9IIQhqx\n",
       "ES0kpBAbIQZBYvya3U1u93ILOhB2d+55J7Mzuws4N6izaejsRYvl5Pr2p33jNImGvEZsH6orYwcC\n",
       "O1Cc40DkFfaORh31hYwWwbG4q0T8Aswy0KNR3/tWD5/gmKXEDH9TtHfgSrpitc9rvm1MEMmwZ8UZ\n",
       "GybXKuWVlOlUt+vMqep4+A0cm1WczQkY81mg0Q1kHHZV9VCI9siwc8XZ1nl3kmKhedk2l5mtC1lM\n",
       "7audNN4FtkRl5lg3kM7DHiF3SE1zksWDlaqGW6CFCacssNEq5CSAIxrThBlF9Y92WRWaaqUo0K91\n",
       "a6MCjqnqElPP1KkLfahX03xMqJekmrUbXfTJ5Jlv73ETp8lKSXWIhkVw7FyqWbuNilc1YYPwV43U\n",
       "TzRkBNZbw1oQpXb3n9E00i13vS9Gr4mGaP1lnmMDHtiQKW11HPNT3CKd1anptcG+/Mhi6meFY5bm\n",
       "Ql3LqQPdSfWwuBt0/31LPOwieJV1NzSW12K5f4CB18HDgi/T4/9eJsJ+AUwDfNKudYnMAAAAAElF\n",
       "TkSuQmCC\n",
       "\" style=\"display:inline;vertical-align:middle;\" /></a><br>"
      ],
      "text/plain": [
       "not_b_implies_not_a: not(B) => not(A)"
      ]
     },
     "execution_count": 4,
     "metadata": {},
     "output_type": "execute_result"
    }
   ],
   "source": [
    "not_b_implies_not_a = defaults.assumptions[0]"
   ]
  },
  {
   "cell_type": "code",
   "execution_count": 5,
   "metadata": {},
   "outputs": [
    {
     "data": {
      "text/html": [
       "<span style=\"font-size:20px;\"><a class=\"ProveItLink\" href=\"../../../__pv_it/theorems/67501eb487d67b93f0ec3f6965561f782e470d670/expr.ipynb\"><img src=\"data:image/png;base64,iVBORw0KGgoAAAANSUhEUgAAADcAAAAPBAMAAACy3Eq1AAAAMFBMVEX///92dnYyMjKqqqoiIiLu\n",
       "7u7c3NyIiIjMzMwQEBC6urpERERmZmZUVFSYmJgAAADEjrHzAAAAAXRSTlMAQObYZgAAAOZJREFU\n",
       "GNNjYGB4+//O2d0LGJBByez9mr4QodkMDDw/UCQZFNpZt54DMTj+MTBw/UGV3LCOoYIbxGD/xsDA\n",
       "9x0sxrfFxQkmaQyW5J7AwBDpCjZjewBCp1Q0iMF/gYHDFywaFIAwlsvjBojRf+/5FgOw0DWEnSv9\n",
       "f4JdW5/AwDoXIoTsILmHIMZOkAKQVo5JSkAAk+TmegBk/AVJFgAJNhSd3AwXIN5kuA+2YAKyJC+D\n",
       "AsSbHL/BQsdRdPIJMDAwAdWv3AoWYjGAB18jg+BZBgZe/b9nbm+GCLHeXooR8AjAJQ0NPggAAH2B\n",
       "SAzP/7V+AAAAAElFTkSuQmCC\n",
       "\" style=\"display:inline;vertical-align:middle;\" /></a>, <a class=\"ProveItLink\" href=\"../../../__pv_it/theorems/ba4beeec84b169d5062049eafe0bbe7a5356c1ea0/expr.ipynb\"><img src=\"data:image/png;base64,iVBORw0KGgoAAAANSUhEUgAAAHkAAAAUBAMAAABbvo/+AAAAMFBMVEX////MzMxUVFR2dna6uroQ\n",
       "EBCqqqqIiIgiIiJmZmYyMjJERETu7u6YmJjc3NwAAACgK8IjAAAAAXRSTlMAQObYZgAAAb5JREFU\n",
       "OMuNlD1LA0EQht/TM7kkl1P8A6YVEe3ERtIIIhYiVtqkVUFsrSKKoiB6WKmVjY2IsVEEv9IIQhqx\n",
       "ES0kpBAbIQZBYvya3U1u93ILOhB2d+55J7Mzuws4N6izaejsRYvl5Pr2p33jNImGvEZsH6orYwcC\n",
       "O1Cc40DkFfaORh31hYwWwbG4q0T8Aswy0KNR3/tWD5/gmKXEDH9TtHfgSrpitc9rvm1MEMmwZ8UZ\n",
       "GybXKuWVlOlUt+vMqep4+A0cm1WczQkY81mg0Q1kHHZV9VCI9siwc8XZ1nl3kmKhedk2l5mtC1lM\n",
       "7audNN4FtkRl5lg3kM7DHiF3SE1zksWDlaqGW6CFCacssNEq5CSAIxrThBlF9Y92WRWaaqUo0K91\n",
       "a6MCjqnqElPP1KkLfahX03xMqJekmrUbXfTJ5Jlv73ETp8lKSXWIhkVw7FyqWbuNilc1YYPwV43U\n",
       "TzRkBNZbw1oQpXb3n9E00i13vS9Gr4mGaP1lnmMDHtiQKW11HPNT3CKd1anptcG+/Mhi6meFY5bm\n",
       "Ql3LqQPdSfWwuBt0/31LPOwieJV1NzSW12K5f4CB18HDgi/T4/9eJsJ+AUwDfNKudYnMAAAAAElF\n",
       "TkSuQmCC\n",
       "\" style=\"display:inline;vertical-align:middle;\" /></a> <a class=\"ProveItLink\" href=\"../../../__pv_it/_proof_from_contraposition/247b291ab888beb536c3e177498d9c2771c092af0/proof.ipynb\" style=\"text-decoration: none\">&nbsp;&#x22A2;&nbsp;&nbsp;</a><a class=\"ProveItLink\" href=\"../../../__pv_it/theorems/d4325c8af119c430c8d7d2a3d4da5401a1227aa10/expr.ipynb\"><img src=\"data:image/png;base64,iVBORw0KGgoAAAANSUhEUgAAAEAAAAAPBAMAAACmSdRUAAAAMFBMVEX///92dnYiIiIQEBBERERU\n",
       "VFS6urqIiIjc3NxmZmaqqqru7u6YmJgyMjLMzMwAAADiRdoGAAAAAXRSTlMAQObYZgAAAO5JREFU\n",
       "GNNjYACBtwxYwNH/kVNdEiDs+9gUMJgwMHD+A7N47m/AIs/3h4GB7SeYuWt+A0LcA8Zg/wHU+h3M\n",
       "PFCfgFDwBMZgMWBg2KwNYrFtWH8AoYBnApTBH8DApwq2exvD+wIQzakEBj+hCt7HHHdaAGYlMPRP\n",
       "QHIc1y0IXd/AwG0Kdm3kzHgHZOfvNQNTziBFICPYGBiYLyDJcwRC/PQVpABkN1ARkwHYDXchoAEe\n",
       "DAzxQO9xABXwfkAYwHYBEQx8X4CMJpCXfyC5ABqqvEBTk70ZGLb8v83A5f8J4Y04CMV6/+vMEC9s\n",
       "UdSAygUACNlBmGjrK1sAAAAASUVORK5CYII=\n",
       "\" style=\"display:inline;vertical-align:middle;\" /></a></span>"
      ],
      "text/plain": [
       "{B in BOOLEAN, not(B) => not(A)} |- A => B"
      ]
     },
     "execution_count": 5,
     "metadata": {},
     "output_type": "execute_result"
    }
   ],
   "source": [
    "not_b_implies_not_a.deny_antecedent().as_implication(A)"
   ]
  },
  {
   "cell_type": "code",
   "execution_count": 6,
   "metadata": {},
   "outputs": [
    {
     "data": {
      "text/html": [
       "<table><tr><th>&nbsp;</th><th>step type</th><th>requirements</th><th>statement</th></tr>\n",
       "<tr><td><a name=\"0x5303c1672aa8ce49_step0\">0</a></td><td>generalizaton</td><td><a href=\"#0x5303c1672aa8ce49_step1\">1</a></td><td><span style=\"font-size:20px;\"> <a class=\"ProveItLink\" href=\"../../../__pv_it/_proof_from_contraposition/df461123cd10af124ae92421aa5fd31f2026114a0/proof.ipynb\" style=\"text-decoration: none\">&nbsp;&#x22A2;&nbsp;&nbsp;</a><a class=\"ProveItLink\" href=\"../../../__pv_it/theorems/9f65e50b59996328790de0a9f60d0a4e486fda000/expr.ipynb\"><img src=\"data:image/png;base64,iVBORw0KGgoAAAANSUhEUgAAARkAAAAWBAMAAAAGH/VFAAAAMFBMVEX///8QEBCIiIhmZma6urrM\n",
       "zMxUVFQiIiJERETc3Nzu7u6qqqp2dnaYmJgyMjIAAAAcRTyBAAAAAXRSTlMAQObYZgAAA75JREFU\n",
       "SMe9Vk2IFEcU/uzpcaZnemb3ECSgSBMP8RJ3YWBCJCYjgnpZ3FzEU2wwwhoiKwpREiUqYsbfbQ+i\n",
       "CLItyiorSRZCDjkEJy4hiREZPQghCJPsKQru4q66GkRfvVc9XTM7uzno+GC6aup7r+ur772qLuD1\n",
       "mFP9X5cf6VdTnTttZ3NJmo9bYbefbyqWS5gfAH+o/3fbzuZfacZbgm8CiYfIkDCnlYx7200m1y3N\n",
       "eNgCTD4D7EngKpAn3B1pN5tUwM3lD4N47FDUsZ4QzwfAOWquDQ+fanui9AzVrlI8tiHqpDuJyRck\n",
       "DIHT5fLuuV4UNIg6K5Sck80SftrhleqM7AEdPpKfqxTRwOZIM3munRzt41lscXV1iD3wfvEQssba\n",
       "6hDHakTcZtgxfl7ARk+1iZ1skxrcuPXW16pWclTGq7iYqT8ljDvhdrJ+4roleuFN4GfgPWOKLfEy\n",
       "p+qIuPHgP2M7ooL8kp8lDHYb8dl70nYFyCxQ/7dRgcFi+c4/YyjhI/s0ZpOsRLFF4EqIISM3dYhj\n",
       "h0w3XB5dAa9y9gft8AYHbCr0N+zeb3kY+xQj4p2cIL2rKR67tkOq30OiFrOZ3xuFbgc+oErjLGar\n",
       "DRDHCqLdckfOhPA89xuTDeV+Xs08nz+TkEeKjSdsnNp6Ju6VGfquF8vCmE0qCs08hEWHpOjISUrF\n",
       "KqlYQbTbKtX3vJ7fzUzR8lNcBIn7YkH9uEE/lZ29TVXgJywC3mVs3TtLfcRs6pvffnDroFLFd8tk\n",
       "f5cMSGKzvuHGEniFxb1GFTvEJj8RS2PX4uMmOa2rGN8rSvgLXYzdAN422KwFfqPZa3BrsMjR1olf\n",
       "UoohiRVE3DLdok3ipJ55VC8s/cSoGn0u50mvlYeVZKoQO9Suy4xdH2D0KDA4ErNZLRE+0hU4/9Ei\n",
       "9IKGPo0hiRVE3JK7yuX9qm4sPfMa+m4+v4vswON4U23Wwo4/KvQdYVpKyZxikQgxyLLSjOuCmM2G\n",
       "aMqOEdi0MNu3CmTF5QYksTZnSrv5oo2baPwyzH6sKrtY7/XQi6rOYThP4SwyMnUxmnIwxAlSMlfB\n",
       "MNlbJsSxCjkdRm6/MJuKe7353J3LrtY/FdNwBvYkF+LXyUJfyWCTkuQG7leF4gGlIYOOb0ASq5CP\n",
       "RiK3NCU7t3vseHXGJ3J2y9SaBrJGX9hYTZ/3vJwULaC87GFtS6luWty25rJ00OIy2MgGTVefn4z+\n",
       "3mYkG7zMTfTP5oHqTDY9jWqa+e9pRnLtu5Lo7dC4Xsu8uzVAVvgK5nwBOlIM7qcNEfAAAAAASUVO\n",
       "RK5CYII=\n",
       "\" style=\"display:inline;vertical-align:middle;\" /></a></span></td></tr>\n",
       "<tr><td><a name=\"0x5303c1672aa8ce49_step1\">1</a></td><td>deduction</td><td><a href=\"#0x5303c1672aa8ce49_step2\">2</a></td><td><span style=\"font-size:20px;\"><a class=\"ProveItLink\" href=\"../../../__pv_it/theorems/67501eb487d67b93f0ec3f6965561f782e470d670/expr.ipynb\"><img src=\"data:image/png;base64,iVBORw0KGgoAAAANSUhEUgAAADcAAAAPBAMAAACy3Eq1AAAAMFBMVEX///92dnYyMjKqqqoiIiLu\n",
       "7u7c3NyIiIjMzMwQEBC6urpERERmZmZUVFSYmJgAAADEjrHzAAAAAXRSTlMAQObYZgAAAOZJREFU\n",
       "GNNjYGB4+//O2d0LGJBByez9mr4QodkMDDw/UCQZFNpZt54DMTj+MTBw/UGV3LCOoYIbxGD/xsDA\n",
       "9x0sxrfFxQkmaQyW5J7AwBDpCjZjewBCp1Q0iMF/gYHDFywaFIAwlsvjBojRf+/5FgOw0DWEnSv9\n",
       "f4JdW5/AwDoXIoTsILmHIMZOkAKQVo5JSkAAk+TmegBk/AVJFgAJNhSd3AwXIN5kuA+2YAKyJC+D\n",
       "AsSbHL/BQsdRdPIJMDAwAdWv3AoWYjGAB18jg+BZBgZe/b9nbm+GCLHeXooR8AjAJQ0NPggAAH2B\n",
       "SAzP/7V+AAAAAElFTkSuQmCC\n",
       "\" style=\"display:inline;vertical-align:middle;\" /></a>, <a class=\"ProveItLink\" href=\"../../../__pv_it/theorems/ba4beeec84b169d5062049eafe0bbe7a5356c1ea0/expr.ipynb\"><img src=\"data:image/png;base64,iVBORw0KGgoAAAANSUhEUgAAAHkAAAAUBAMAAABbvo/+AAAAMFBMVEX////MzMxUVFR2dna6uroQ\n",
       "EBCqqqqIiIgiIiJmZmYyMjJERETu7u6YmJjc3NwAAACgK8IjAAAAAXRSTlMAQObYZgAAAb5JREFU\n",
       "OMuNlD1LA0EQht/TM7kkl1P8A6YVEe3ERtIIIhYiVtqkVUFsrSKKoiB6WKmVjY2IsVEEv9IIQhqx\n",
       "ES0kpBAbIQZBYvya3U1u93ILOhB2d+55J7Mzuws4N6izaejsRYvl5Pr2p33jNImGvEZsH6orYwcC\n",
       "O1Cc40DkFfaORh31hYwWwbG4q0T8Aswy0KNR3/tWD5/gmKXEDH9TtHfgSrpitc9rvm1MEMmwZ8UZ\n",
       "GybXKuWVlOlUt+vMqep4+A0cm1WczQkY81mg0Q1kHHZV9VCI9siwc8XZ1nl3kmKhedk2l5mtC1lM\n",
       "7audNN4FtkRl5lg3kM7DHiF3SE1zksWDlaqGW6CFCacssNEq5CSAIxrThBlF9Y92WRWaaqUo0K91\n",
       "a6MCjqnqElPP1KkLfahX03xMqJekmrUbXfTJ5Jlv73ETp8lKSXWIhkVw7FyqWbuNilc1YYPwV43U\n",
       "TzRkBNZbw1oQpXb3n9E00i13vS9Gr4mGaP1lnmMDHtiQKW11HPNT3CKd1anptcG+/Mhi6meFY5bm\n",
       "Ql3LqQPdSfWwuBt0/31LPOwieJV1NzSW12K5f4CB18HDgi/T4/9eJsJ+AUwDfNKudYnMAAAAAElF\n",
       "TkSuQmCC\n",
       "\" style=\"display:inline;vertical-align:middle;\" /></a> <a class=\"ProveItLink\" href=\"../../../__pv_it/_proof_from_contraposition/247b291ab888beb536c3e177498d9c2771c092af0/proof.ipynb\" style=\"text-decoration: none\">&nbsp;&#x22A2;&nbsp;&nbsp;</a><a class=\"ProveItLink\" href=\"../../../__pv_it/theorems/d4325c8af119c430c8d7d2a3d4da5401a1227aa10/expr.ipynb\"><img src=\"data:image/png;base64,iVBORw0KGgoAAAANSUhEUgAAAEAAAAAPBAMAAACmSdRUAAAAMFBMVEX///92dnYiIiIQEBBERERU\n",
       "VFS6urqIiIjc3NxmZmaqqqru7u6YmJgyMjLMzMwAAADiRdoGAAAAAXRSTlMAQObYZgAAAO5JREFU\n",
       "GNNjYACBtwxYwNH/kVNdEiDs+9gUMJgwMHD+A7N47m/AIs/3h4GB7SeYuWt+A0LcA8Zg/wHU+h3M\n",
       "PFCfgFDwBMZgMWBg2KwNYrFtWH8AoYBnApTBH8DApwq2exvD+wIQzakEBj+hCt7HHHdaAGYlMPRP\n",
       "QHIc1y0IXd/AwG0Kdm3kzHgHZOfvNQNTziBFICPYGBiYLyDJcwRC/PQVpABkN1ARkwHYDXchoAEe\n",
       "DAzxQO9xABXwfkAYwHYBEQx8X4CMJpCXfyC5ABqqvEBTk70ZGLb8v83A5f8J4Y04CMV6/+vMEC9s\n",
       "UdSAygUACNlBmGjrK1sAAAAASUVORK5CYII=\n",
       "\" style=\"display:inline;vertical-align:middle;\" /></a></span></td></tr>\n",
       "<tr><td><a name=\"0x5303c1672aa8ce49_step2\">2</a></td><td>instantiation</td><td><a href=\"#0x5303c1672aa8ce49_step3\">3</a>, <a href=\"#0x5303c1672aa8ce49_step4\">4</a>, <a href=\"#0x5303c1672aa8ce49_step5\">5</a>, <a href=\"#0x5303c1672aa8ce49_step6\">6</a></td><td><span style=\"font-size:20px;\"><a class=\"ProveItLink\" href=\"../../../__pv_it/theorems/67501eb487d67b93f0ec3f6965561f782e470d670/expr.ipynb\"><img src=\"data:image/png;base64,iVBORw0KGgoAAAANSUhEUgAAADcAAAAPBAMAAACy3Eq1AAAAMFBMVEX///92dnYyMjKqqqoiIiLu\n",
       "7u7c3NyIiIjMzMwQEBC6urpERERmZmZUVFSYmJgAAADEjrHzAAAAAXRSTlMAQObYZgAAAOZJREFU\n",
       "GNNjYGB4+//O2d0LGJBByez9mr4QodkMDDw/UCQZFNpZt54DMTj+MTBw/UGV3LCOoYIbxGD/xsDA\n",
       "9x0sxrfFxQkmaQyW5J7AwBDpCjZjewBCp1Q0iMF/gYHDFywaFIAwlsvjBojRf+/5FgOw0DWEnSv9\n",
       "f4JdW5/AwDoXIoTsILmHIMZOkAKQVo5JSkAAk+TmegBk/AVJFgAJNhSd3AwXIN5kuA+2YAKyJC+D\n",
       "AsSbHL/BQsdRdPIJMDAwAdWv3AoWYjGAB18jg+BZBgZe/b9nbm+GCLHeXooR8AjAJQ0NPggAAH2B\n",
       "SAzP/7V+AAAAAElFTkSuQmCC\n",
       "\" style=\"display:inline;vertical-align:middle;\" /></a>, <a class=\"ProveItLink\" href=\"../../../__pv_it/theorems/ba4beeec84b169d5062049eafe0bbe7a5356c1ea0/expr.ipynb\"><img src=\"data:image/png;base64,iVBORw0KGgoAAAANSUhEUgAAAHkAAAAUBAMAAABbvo/+AAAAMFBMVEX////MzMxUVFR2dna6uroQ\n",
       "EBCqqqqIiIgiIiJmZmYyMjJERETu7u6YmJjc3NwAAACgK8IjAAAAAXRSTlMAQObYZgAAAb5JREFU\n",
       "OMuNlD1LA0EQht/TM7kkl1P8A6YVEe3ERtIIIhYiVtqkVUFsrSKKoiB6WKmVjY2IsVEEv9IIQhqx\n",
       "ES0kpBAbIQZBYvya3U1u93ILOhB2d+55J7Mzuws4N6izaejsRYvl5Pr2p33jNImGvEZsH6orYwcC\n",
       "O1Cc40DkFfaORh31hYwWwbG4q0T8Aswy0KNR3/tWD5/gmKXEDH9TtHfgSrpitc9rvm1MEMmwZ8UZ\n",
       "GybXKuWVlOlUt+vMqep4+A0cm1WczQkY81mg0Q1kHHZV9VCI9siwc8XZ1nl3kmKhedk2l5mtC1lM\n",
       "7audNN4FtkRl5lg3kM7DHiF3SE1zksWDlaqGW6CFCacssNEq5CSAIxrThBlF9Y92WRWaaqUo0K91\n",
       "a6MCjqnqElPP1KkLfahX03xMqJekmrUbXfTJ5Jlv73ETp8lKSXWIhkVw7FyqWbuNilc1YYPwV43U\n",
       "TzRkBNZbw1oQpXb3n9E00i13vS9Gr4mGaP1lnmMDHtiQKW11HPNT3CKd1anptcG+/Mhi6meFY5bm\n",
       "Ql3LqQPdSfWwuBt0/31LPOwieJV1NzSW12K5f4CB18HDgi/T4/9eJsJ+AUwDfNKudYnMAAAAAElF\n",
       "TkSuQmCC\n",
       "\" style=\"display:inline;vertical-align:middle;\" /></a>, <a class=\"ProveItLink\" href=\"../../../../../../__pv_it/common/e4aad701f7f5516d8e7f0d805d518bf02c13322a0/expr.ipynb\"><img src=\"data:image/png;base64,iVBORw0KGgoAAAANSUhEUgAAAA8AAAAOBAMAAAACpFvcAAAALVBMVEX///8iIiIQEBBERERUVFS6\n",
       "urqIiIjc3NxmZmaqqqru7u6YmJgyMjLMzMwAAACK9jtgAAAAAXRSTlMAQObYZgAAAFtJREFUCNdj\n",
       "YACBOwxQcA5Kc59bAGGs7CuAMDbkBYBp1gXzNoAZSxnuJYAZAQx1DSCa16PDzwCshIGB6QCIMYGB\n",
       "gVEBSLMDGTwPgIxCIGZ+zsCw+N0pBk67hw0AfpEVEQi8t+wAAAAASUVORK5CYII=\n",
       "\" style=\"display:inline;vertical-align:middle;\" /></a> <a class=\"ProveItLink\" href=\"../../../__pv_it/_proof_from_contraposition/37c681c9227e33432373a59ebadca63c079518650/proof.ipynb\" style=\"text-decoration: none\">&nbsp;&#x22A2;&nbsp;&nbsp;</a><a class=\"ProveItLink\" href=\"../../../../../../__pv_it/common/4eca3b30dcf58a58494e201d1b7886d8643a617b0/expr.ipynb\"><img src=\"data:image/png;base64,iVBORw0KGgoAAAANSUhEUgAAABAAAAAOBAMAAADUAYG5AAAALVBMVEX///8yMjKqqqoiIiLu7u7c\n",
       "3NyIiIjMzMwQEBC6urpERERmZmZUVFSYmJgAAACsPVCVAAAAAXRSTlMAQObYZgAAAGxJREFUCNdj\n",
       "YGC48+70nlUTGICgi4GB+zmQZn/LwMD5Gshge8rAwPsMyOBqYGDwMAEy+A4wsNs4ABl1Z68tVgBp\n",
       "ygtgYOkBMVaAOCChNyBGAsQYhnMTIMawvwJyGIHGzFjCwMAj92b3qUUMDAAXABxvZ4rl5AAAAABJ\n",
       "RU5ErkJggg==\n",
       "\" style=\"display:inline;vertical-align:middle;\" /></a></span></td></tr>\n",
       "<tr><td>&nbsp;</td><td colspan=4 style=\"text-align:left\"><span style=\"font-size:20px;\"><a class=\"ProveItLink\" href=\"../../../../../../__pv_it/common/e4aad701f7f5516d8e7f0d805d518bf02c13322a0/expr.ipynb\"><img src=\"data:image/png;base64,iVBORw0KGgoAAAANSUhEUgAAAA8AAAAOBAMAAAACpFvcAAAALVBMVEX///8iIiIQEBBERERUVFS6\n",
       "urqIiIjc3NxmZmaqqqru7u6YmJgyMjLMzMwAAACK9jtgAAAAAXRSTlMAQObYZgAAAFtJREFUCNdj\n",
       "YACBOwxQcA5Kc59bAGGs7CuAMDbkBYBp1gXzNoAZSxnuJYAZAQx1DSCa16PDzwCshIGB6QCIMYGB\n",
       "gVEBSLMDGTwPgIxCIGZ+zsCw+N0pBk67hw0AfpEVEQi8t+wAAAAASUVORK5CYII=\n",
       "\" style=\"display:inline;vertical-align:middle;\" /></a> : <a class=\"ProveItLink\" href=\"../../../../../../__pv_it/common/4eca3b30dcf58a58494e201d1b7886d8643a617b0/expr.ipynb\"><img src=\"data:image/png;base64,iVBORw0KGgoAAAANSUhEUgAAABAAAAAOBAMAAADUAYG5AAAALVBMVEX///8yMjKqqqoiIiLu7u7c\n",
       "3NyIiIjMzMwQEBC6urpERERmZmZUVFSYmJgAAACsPVCVAAAAAXRSTlMAQObYZgAAAGxJREFUCNdj\n",
       "YGC48+70nlUTGICgi4GB+zmQZn/LwMD5Gshge8rAwPsMyOBqYGDwMAEy+A4wsNs4ABl1Z68tVgBp\n",
       "ygtgYOkBMVaAOCChNyBGAsQYhnMTIMawvwJyGIHGzFjCwMAj92b3qUUMDAAXABxvZ4rl5AAAAABJ\n",
       "RU5ErkJggg==\n",
       "\" style=\"display:inline;vertical-align:middle;\" /></a>, <a class=\"ProveItLink\" href=\"../../../../../../__pv_it/common/4eca3b30dcf58a58494e201d1b7886d8643a617b0/expr.ipynb\"><img src=\"data:image/png;base64,iVBORw0KGgoAAAANSUhEUgAAABAAAAAOBAMAAADUAYG5AAAALVBMVEX///8yMjKqqqoiIiLu7u7c\n",
       "3NyIiIjMzMwQEBC6urpERERmZmZUVFSYmJgAAACsPVCVAAAAAXRSTlMAQObYZgAAAGxJREFUCNdj\n",
       "YGC48+70nlUTGICgi4GB+zmQZn/LwMD5Gshge8rAwPsMyOBqYGDwMAEy+A4wsNs4ABl1Z68tVgBp\n",
       "ygtgYOkBMVaAOCChNyBGAsQYhnMTIMawvwJyGIHGzFjCwMAj92b3qUUMDAAXABxvZ4rl5AAAAABJ\n",
       "RU5ErkJggg==\n",
       "\" style=\"display:inline;vertical-align:middle;\" /></a> : <a class=\"ProveItLink\" href=\"../../../__pv_it/theorems/531b4d361e22bb9dc371e326667e78900b871afb0/expr.ipynb\"><img src=\"data:image/png;base64,iVBORw0KGgoAAAANSUhEUgAAABwAAAAOBAMAAADOPWE3AAAAMFBMVEX///8QEBBERES6urqIiIiq\n",
       "qqru7u6YmJgyMjLMzMxUVFTc3Nx2dnYiIiJmZmYAAAAfdW6kAAAAAXRSTlMAQObYZgAAAGNJREFU\n",
       "CNdjYEAAzgYGZMDxAYVb8Q2Zxxb3G5nLzvIZmWvG+h1ZrQHnFwaGt3eB4A6Qy8zA/Q8qswuIZ717\n",
       "9QmJa8DAIIHgsgKpiwjuViDVD3MtA/cFIKW/AWaL/o8EhqD/9wA5jBwoctwhSQAAAABJRU5ErkJg\n",
       "gg==\n",
       "\" style=\"display:inline;vertical-align:middle;\" /></a></span></td></tr><tr><td><a name=\"0x5303c1672aa8ce49_step3\">3</a></td><td>theorem</td><td></td><td><span style=\"font-size:20px;\"> <a class=\"ProveItLink\" href=\"../modus_tollens_affirmation/thm_proof.ipynb\" style=\"text-decoration: none\">&nbsp;&#x22A2;&nbsp;&nbsp;</a><a class=\"ProveItLink\" href=\"../../../__pv_it/theorems/8822c8e8ed7aa1392484f8230078e85cabe1fb0e0/expr.ipynb\"><img src=\"data:image/png;base64,iVBORw0KGgoAAAANSUhEUgAAAOoAAAAZBAMAAADNvK/KAAAAMFBMVEX///8QEBCIiIhmZma6urrM\n",
       "zMxUVFQiIiJERETc3Nzu7u6qqqp2dnaYmJgyMjIAAAAcRTyBAAAAAXRSTlMAQObYZgAAAxlJREFU\n",
       "SMfllktoE0Ecxj92N002u0l78ChlwYO9VAuRFEElIEgRSuOleFzwQb1VC1ahoojoBqWJB2tRtIuC\n",
       "4ooaKIKXYqSI2laJHn0R7M2L0lZoKz7mkexMSNIqbk8O7OyyM9/8Zr6Z+c8AK6amweMIOmmDQ6vU\n",
       "CGMt0sh/RS3R14fG1Dh9xYpBAUMlRp2m358bU808ecXdoKjxr4w6SnL9VGMqKxsNzNyPy4xKh8HG\n",
       "02heqQ/TQUGj40uMGpvyvMsrrab3nnenPyhqTFnga3jRcYZWojY7zrlCnaKcvEb+lLrb+MGpB4AM\n",
       "+5OpT21KI0IIXfOTfQyk8RJTVMrASMmxJ7stKbXlC6nBqdAcp+5ElO2e2ELZhE+zA3mJqnXgPv3d\n",
       "ArOF/orwkkPCNSLcKnf1NfBEMrUiZD3W5zk1DIXtxpt07Hcnt8MqXHsoR4l+tJNctWEsC2pImE6F\n",
       "t2RqEngstpovJKk3kVzkVLPIA9DUAOnX+SsuLMu8J1Nfgi6msAW1JKjE90qiwjj3cILlR4Ad0iRV\n",
       "hCSRiWjlVL3UyzpvOdRtkiyr+4VMvR6ySf4gjU2uoIpQyYTcLjRRePQbFCns+ELAIM/hchzO7GcC\n",
       "dIKHRyvRmpapkRG6Vnra22wIqthsTGjYeO44zvA6Onlzb85KfvtC4Cp5vpSp42w3vsNmRDv4WNVL\n",
       "MtXopF+vgI0StQsMU+JCaOXopmwhU1aCQps0aTckIXT6N5vj1GaL2jI7k3VDxxznNJ1XperMoYsd\n",
       "F4CxvKDu4uU2F/KgTps56CJSgP7dN0IIo9mfLh79GuDUGHVddTGWhs3HaqpV1Lc0I+305AR1b4XK\n",
       "hZqNDQmS9pG2mvPQlgTVF9Y5X7tJ7SKeMmrBnKk5X/Vl6Oslh29XqFwYKyDqed4NatuYi4sFjLqc\n",
       "KoS11Mgi9OwJRIgVsaHZ4WIN9dl8oi8lUcN8WebKQjXlN2eeTCTPAHuYq7okbHyXaCPzuspdglOV\n",
       "6mMqXhub84HeYMoRsfpInqipZuTWgtpddWx21J5p/3Jbq70Pq3XGovzNDUcbPPobjMDZqMhIwAIA\n",
       "AAAASUVORK5CYII=\n",
       "\" style=\"display:inline;vertical-align:middle;\" /></a></span></td></tr>\n",
       "<tr><td>&nbsp;</td><td colspan=4 style-\"text-align:left\"><a class=\"ProveItLink\" href=\"../modus_tollens_affirmation/thm_proof.ipynb\">proveit.logic.booleans.implication.modus_tollens_affirmation</a></td></tr><tr><td><a name=\"0x5303c1672aa8ce49_step4\">4</a></td><td>assumption</td><td></td><td><span style=\"font-size:20px;\"><a class=\"ProveItLink\" href=\"../../../__pv_it/theorems/67501eb487d67b93f0ec3f6965561f782e470d670/expr.ipynb\"><img src=\"data:image/png;base64,iVBORw0KGgoAAAANSUhEUgAAADcAAAAPBAMAAACy3Eq1AAAAMFBMVEX///92dnYyMjKqqqoiIiLu\n",
       "7u7c3NyIiIjMzMwQEBC6urpERERmZmZUVFSYmJgAAADEjrHzAAAAAXRSTlMAQObYZgAAAOZJREFU\n",
       "GNNjYGB4+//O2d0LGJBByez9mr4QodkMDDw/UCQZFNpZt54DMTj+MTBw/UGV3LCOoYIbxGD/xsDA\n",
       "9x0sxrfFxQkmaQyW5J7AwBDpCjZjewBCp1Q0iMF/gYHDFywaFIAwlsvjBojRf+/5FgOw0DWEnSv9\n",
       "f4JdW5/AwDoXIoTsILmHIMZOkAKQVo5JSkAAk+TmegBk/AVJFgAJNhSd3AwXIN5kuA+2YAKyJC+D\n",
       "AsSbHL/BQsdRdPIJMDAwAdWv3AoWYjGAB18jg+BZBgZe/b9nbm+GCLHeXooR8AjAJQ0NPggAAH2B\n",
       "SAzP/7V+AAAAAElFTkSuQmCC\n",
       "\" style=\"display:inline;vertical-align:middle;\" /></a> <a class=\"ProveItLink\" href=\"../../../__pv_it/_proof_from_contraposition/4c869562175a33cd0d48c3b1cfb878089f82bc2e0/proof.ipynb\" style=\"text-decoration: none\">&nbsp;&#x22A2;&nbsp;&nbsp;</a><a class=\"ProveItLink\" href=\"../../../__pv_it/theorems/67501eb487d67b93f0ec3f6965561f782e470d670/expr.ipynb\"><img src=\"data:image/png;base64,iVBORw0KGgoAAAANSUhEUgAAADcAAAAPBAMAAACy3Eq1AAAAMFBMVEX///92dnYyMjKqqqoiIiLu\n",
       "7u7c3NyIiIjMzMwQEBC6urpERERmZmZUVFSYmJgAAADEjrHzAAAAAXRSTlMAQObYZgAAAOZJREFU\n",
       "GNNjYGB4+//O2d0LGJBByez9mr4QodkMDDw/UCQZFNpZt54DMTj+MTBw/UGV3LCOoYIbxGD/xsDA\n",
       "9x0sxrfFxQkmaQyW5J7AwBDpCjZjewBCp1Q0iMF/gYHDFywaFIAwlsvjBojRf+/5FgOw0DWEnSv9\n",
       "f4JdW5/AwDoXIoTsILmHIMZOkAKQVo5JSkAAk+TmegBk/AVJFgAJNhSd3AwXIN5kuA+2YAKyJC+D\n",
       "AsSbHL/BQsdRdPIJMDAwAdWv3AoWYjGAB18jg+BZBgZe/b9nbm+GCLHeXooR8AjAJQ0NPggAAH2B\n",
       "SAzP/7V+AAAAAElFTkSuQmCC\n",
       "\" style=\"display:inline;vertical-align:middle;\" /></a></span></td></tr>\n",
       "<tr><td><a name=\"0x5303c1672aa8ce49_step5\">5</a></td><td>assumption</td><td></td><td><span style=\"font-size:20px;\"><a class=\"ProveItLink\" href=\"../../../__pv_it/theorems/ba4beeec84b169d5062049eafe0bbe7a5356c1ea0/expr.ipynb\"><img src=\"data:image/png;base64,iVBORw0KGgoAAAANSUhEUgAAAHkAAAAUBAMAAABbvo/+AAAAMFBMVEX////MzMxUVFR2dna6uroQ\n",
       "EBCqqqqIiIgiIiJmZmYyMjJERETu7u6YmJjc3NwAAACgK8IjAAAAAXRSTlMAQObYZgAAAb5JREFU\n",
       "OMuNlD1LA0EQht/TM7kkl1P8A6YVEe3ERtIIIhYiVtqkVUFsrSKKoiB6WKmVjY2IsVEEv9IIQhqx\n",
       "ES0kpBAbIQZBYvya3U1u93ILOhB2d+55J7Mzuws4N6izaejsRYvl5Pr2p33jNImGvEZsH6orYwcC\n",
       "O1Cc40DkFfaORh31hYwWwbG4q0T8Aswy0KNR3/tWD5/gmKXEDH9TtHfgSrpitc9rvm1MEMmwZ8UZ\n",
       "GybXKuWVlOlUt+vMqep4+A0cm1WczQkY81mg0Q1kHHZV9VCI9siwc8XZ1nl3kmKhedk2l5mtC1lM\n",
       "7audNN4FtkRl5lg3kM7DHiF3SE1zksWDlaqGW6CFCacssNEq5CSAIxrThBlF9Y92WRWaaqUo0K91\n",
       "a6MCjqnqElPP1KkLfahX03xMqJekmrUbXfTJ5Jlv73ETp8lKSXWIhkVw7FyqWbuNilc1YYPwV43U\n",
       "TzRkBNZbw1oQpXb3n9E00i13vS9Gr4mGaP1lnmMDHtiQKW11HPNT3CKd1anptcG+/Mhi6meFY5bm\n",
       "Ql3LqQPdSfWwuBt0/31LPOwieJV1NzSW12K5f4CB18HDgi/T4/9eJsJ+AUwDfNKudYnMAAAAAElF\n",
       "TkSuQmCC\n",
       "\" style=\"display:inline;vertical-align:middle;\" /></a> <a class=\"ProveItLink\" href=\"../../../__pv_it/_proof_from_contraposition/69f4d5022935ea07ef2cd8ac048f42eb90c503fe0/proof.ipynb\" style=\"text-decoration: none\">&nbsp;&#x22A2;&nbsp;&nbsp;</a><a class=\"ProveItLink\" href=\"../../../__pv_it/theorems/ba4beeec84b169d5062049eafe0bbe7a5356c1ea0/expr.ipynb\"><img src=\"data:image/png;base64,iVBORw0KGgoAAAANSUhEUgAAAHkAAAAUBAMAAABbvo/+AAAAMFBMVEX////MzMxUVFR2dna6uroQ\n",
       "EBCqqqqIiIgiIiJmZmYyMjJERETu7u6YmJjc3NwAAACgK8IjAAAAAXRSTlMAQObYZgAAAb5JREFU\n",
       "OMuNlD1LA0EQht/TM7kkl1P8A6YVEe3ERtIIIhYiVtqkVUFsrSKKoiB6WKmVjY2IsVEEv9IIQhqx\n",
       "ES0kpBAbIQZBYvya3U1u93ILOhB2d+55J7Mzuws4N6izaejsRYvl5Pr2p33jNImGvEZsH6orYwcC\n",
       "O1Cc40DkFfaORh31hYwWwbG4q0T8Aswy0KNR3/tWD5/gmKXEDH9TtHfgSrpitc9rvm1MEMmwZ8UZ\n",
       "GybXKuWVlOlUt+vMqep4+A0cm1WczQkY81mg0Q1kHHZV9VCI9siwc8XZ1nl3kmKhedk2l5mtC1lM\n",
       "7audNN4FtkRl5lg3kM7DHiF3SE1zksWDlaqGW6CFCacssNEq5CSAIxrThBlF9Y92WRWaaqUo0K91\n",
       "a6MCjqnqElPP1KkLfahX03xMqJekmrUbXfTJ5Jlv73ETp8lKSXWIhkVw7FyqWbuNilc1YYPwV43U\n",
       "TzRkBNZbw1oQpXb3n9E00i13vS9Gr4mGaP1lnmMDHtiQKW11HPNT3CKd1anptcG+/Mhi6meFY5bm\n",
       "Ql3LqQPdSfWwuBt0/31LPOwieJV1NzSW12K5f4CB18HDgi/T4/9eJsJ+AUwDfNKudYnMAAAAAElF\n",
       "TkSuQmCC\n",
       "\" style=\"display:inline;vertical-align:middle;\" /></a></span></td></tr>\n",
       "<tr><td><a name=\"0x5303c1672aa8ce49_step6\">6</a></td><td>instantiation</td><td><a href=\"#0x5303c1672aa8ce49_step7\">7</a>, <a href=\"#0x5303c1672aa8ce49_step8\">8</a></td><td><span style=\"font-size:20px;\"><a class=\"ProveItLink\" href=\"../../../../../../__pv_it/common/e4aad701f7f5516d8e7f0d805d518bf02c13322a0/expr.ipynb\"><img src=\"data:image/png;base64,iVBORw0KGgoAAAANSUhEUgAAAA8AAAAOBAMAAAACpFvcAAAALVBMVEX///8iIiIQEBBERERUVFS6\n",
       "urqIiIjc3NxmZmaqqqru7u6YmJgyMjLMzMwAAACK9jtgAAAAAXRSTlMAQObYZgAAAFtJREFUCNdj\n",
       "YACBOwxQcA5Kc59bAGGs7CuAMDbkBYBp1gXzNoAZSxnuJYAZAQx1DSCa16PDzwCshIGB6QCIMYGB\n",
       "gVEBSLMDGTwPgIxCIGZ+zsCw+N0pBk67hw0AfpEVEQi8t+wAAAAASUVORK5CYII=\n",
       "\" style=\"display:inline;vertical-align:middle;\" /></a> <a class=\"ProveItLink\" href=\"../../../__pv_it/_proof_from_contraposition/06e8715136dc6a2bcbb0cbd016902135db21d4aa0/proof.ipynb\" style=\"text-decoration: none\">&nbsp;&#x22A2;&nbsp;&nbsp;</a><a class=\"ProveItLink\" href=\"../../../../negation/__pv_it/theorems/711082176482053575b10e648c08154d944202880/expr.ipynb\"><img src=\"data:image/png;base64,iVBORw0KGgoAAAANSUhEUgAAADkAAAAUBAMAAADFBIheAAAAMFBMVEX///+6uroQEBCqqqqIiIgy\n",
       "MjJERETu7u6YmJjMzMxUVFTc3Nx2dnYiIiJmZmYAAAAutVgsAAAAAXRSTlMAQObYZgAAAN5JREFU\n",
       "KM9jYICBHQxowBqJzZ6ALMMZwMDAtQHBZ92ALMv6Aag+AMHvQzG19TuQOILg30aWZLf7DSSL4Hzu\n",
       "C8iyHCwfQcYLwPgsD5BlxZl/AEkeuBhbA7LBApxfQCYEMLy9CwR3GHgNGGBMBgZGBu5/QIoZatsu\n",
       "BiaYHbuAeNa7V99Anv6AVRbIVkWRBZkMk2UGUpdAFsBNhrsKKLsZSMVDXAUJVoTrOSFezwcGLN8B\n",
       "mCcY4aHBnv+1gMHs/z1gaEzAHpIQUIsrFsAAKRbYNqBLIscgauxjqMdIOd0MDAA/bDumsppcJAAA\n",
       "AABJRU5ErkJggg==\n",
       "\" style=\"display:inline;vertical-align:middle;\" /></a></span></td></tr>\n",
       "<tr><td>&nbsp;</td><td colspan=4 style=\"text-align:left\"><span style=\"font-size:20px;\"><a class=\"ProveItLink\" href=\"../../../../../../__pv_it/common/e4aad701f7f5516d8e7f0d805d518bf02c13322a0/expr.ipynb\"><img src=\"data:image/png;base64,iVBORw0KGgoAAAANSUhEUgAAAA8AAAAOBAMAAAACpFvcAAAALVBMVEX///8iIiIQEBBERERUVFS6\n",
       "urqIiIjc3NxmZmaqqqru7u6YmJgyMjLMzMwAAACK9jtgAAAAAXRSTlMAQObYZgAAAFtJREFUCNdj\n",
       "YACBOwxQcA5Kc59bAGGs7CuAMDbkBYBp1gXzNoAZSxnuJYAZAQx1DSCa16PDzwCshIGB6QCIMYGB\n",
       "gVEBSLMDGTwPgIxCIGZ+zsCw+N0pBk67hw0AfpEVEQi8t+wAAAAASUVORK5CYII=\n",
       "\" style=\"display:inline;vertical-align:middle;\" /></a> : <a class=\"ProveItLink\" href=\"../../../../../../__pv_it/common/e4aad701f7f5516d8e7f0d805d518bf02c13322a0/expr.ipynb\"><img src=\"data:image/png;base64,iVBORw0KGgoAAAANSUhEUgAAAA8AAAAOBAMAAAACpFvcAAAALVBMVEX///8iIiIQEBBERERUVFS6\n",
       "urqIiIjc3NxmZmaqqqru7u6YmJgyMjLMzMwAAACK9jtgAAAAAXRSTlMAQObYZgAAAFtJREFUCNdj\n",
       "YACBOwxQcA5Kc59bAGGs7CuAMDbkBYBp1gXzNoAZSxnuJYAZAQx1DSCa16PDzwCshIGB6QCIMYGB\n",
       "gVEBSLMDGTwPgIxCIGZ+zsCw+N0pBk67hw0AfpEVEQi8t+wAAAAASUVORK5CYII=\n",
       "\" style=\"display:inline;vertical-align:middle;\" /></a></span></td></tr><tr><td><a name=\"0x5303c1672aa8ce49_step7\">7</a></td><td>theorem</td><td></td><td><span style=\"font-size:20px;\"> <a class=\"ProveItLink\" href=\"../../../../negation/_theory_nbs_/proofs/double_negation_intro/thm_proof.ipynb\" style=\"text-decoration: none\">&nbsp;&#x22A2;&nbsp;&nbsp;</a><a class=\"ProveItLink\" href=\"../../../../negation/__pv_it/theorems/2570d79ec029392f14c749d2c1ace36dc4af39570/expr.ipynb\"><img src=\"data:image/png;base64,iVBORw0KGgoAAAANSUhEUgAAAIoAAAAWBAMAAADtDRlvAAAAMFBMVEX///8QEBCIiIhmZma6urrM\n",
       "zMxUVFQiIiJERETc3Nzu7u6qqqp2dnaYmJgyMjIAAAAcRTyBAAAAAXRSTlMAQObYZgAAAc1JREFU\n",
       "OMudVEFLAkEUfrmau+pah36A0A9Q6BCEoNDBUyAdOqZQHToldOhQgUf3IHrTm0JBYiBCh44FXsI6\n",
       "7D0qoTrkRQ+FFki92bfbztayih984zfOvI+Z994OwFhIqp0k+IvEDps8OLnUbCViE7lLvGXzrpPL\n",
       "m61E9JANYpkdNOtgIkfsJJv1qgCBkMYgk00HF2/RTiLOYzj1zWuU2/V6yelCJVuJUMNxHF+Iw1zu\n",
       "yMll0VYCuKtXrGIt4g6Aov1No9vYJerHz5uBed7lFFKYE3gkroJPq7b8TsHGrqc4/R4CCAcM17wE\n",
       "iEOFJfuS6AWX1ksnI4uLL6Z32ILRcWlegmdraY+VNkUMqF5tqb1vcQmcRRxd8OYzHdNF6mywFU8o\n",
       "Z3FZF7O/NzJCOQnYHF6sMiR0KttsZRaWLS5pIWNNKYZyUkKXYN/MLlxo2+8hzLvITVefVMtId5KX\n",
       "rHXETxyiOudYwXzPd4Uq59KI3nyRSpjFNWXtuwv+wgBT9wpEmUULVagkOZcVkD7GfAFUygyRsIZn\n",
       "Uk0XN+rRmK+RSklfo96oQ5AKx6ZLIQvlgd4wihmj/HPRX4a/ECd/pQxfZRIXpxdTLhLHu0wDYZqg\n",
       "H8j2eoNyIuULAAAAAElFTkSuQmCC\n",
       "\" style=\"display:inline;vertical-align:middle;\" /></a></span></td></tr>\n",
       "<tr><td>&nbsp;</td><td colspan=4 style-\"text-align:left\"><a class=\"ProveItLink\" href=\"../../../../negation/_theory_nbs_/proofs/double_negation_intro/thm_proof.ipynb\">proveit.logic.booleans.negation.double_negation_intro</a></td></tr><tr><td><a name=\"0x5303c1672aa8ce49_step8\">8</a></td><td>assumption</td><td></td><td><span style=\"font-size:20px;\"><a class=\"ProveItLink\" href=\"../../../../../../__pv_it/common/e4aad701f7f5516d8e7f0d805d518bf02c13322a0/expr.ipynb\"><img src=\"data:image/png;base64,iVBORw0KGgoAAAANSUhEUgAAAA8AAAAOBAMAAAACpFvcAAAALVBMVEX///8iIiIQEBBERERUVFS6\n",
       "urqIiIjc3NxmZmaqqqru7u6YmJgyMjLMzMwAAACK9jtgAAAAAXRSTlMAQObYZgAAAFtJREFUCNdj\n",
       "YACBOwxQcA5Kc59bAGGs7CuAMDbkBYBp1gXzNoAZSxnuJYAZAQx1DSCa16PDzwCshIGB6QCIMYGB\n",
       "gVEBSLMDGTwPgIxCIGZ+zsCw+N0pBk67hw0AfpEVEQi8t+wAAAAASUVORK5CYII=\n",
       "\" style=\"display:inline;vertical-align:middle;\" /></a> <a class=\"ProveItLink\" href=\"../../../__pv_it/_proof_from_contraposition/66b3c1b5ee819f66d0d04449682223f1af20398c0/proof.ipynb\" style=\"text-decoration: none\">&nbsp;&#x22A2;&nbsp;&nbsp;</a><a class=\"ProveItLink\" href=\"../../../../../../__pv_it/common/e4aad701f7f5516d8e7f0d805d518bf02c13322a0/expr.ipynb\"><img src=\"data:image/png;base64,iVBORw0KGgoAAAANSUhEUgAAAA8AAAAOBAMAAAACpFvcAAAALVBMVEX///8iIiIQEBBERERUVFS6\n",
       "urqIiIjc3NxmZmaqqqru7u6YmJgyMjLMzMwAAACK9jtgAAAAAXRSTlMAQObYZgAAAFtJREFUCNdj\n",
       "YACBOwxQcA5Kc59bAGGs7CuAMDbkBYBp1gXzNoAZSxnuJYAZAQx1DSCa16PDzwCshIGB6QCIMYGB\n",
       "gVEBSLMDGTwPgIxCIGZ+zsCw+N0pBk67hw0AfpEVEQi8t+wAAAAASUVORK5CYII=\n",
       "\" style=\"display:inline;vertical-align:middle;\" /></a></span></td></tr>\n",
       "</table>"
      ],
      "text/plain": [
       "\tstep type\trequirements\tstatement\n",
       "0\tgeneralizaton\t1\t|- forall_{A, B | not(B) => not(A), B in BOOLEAN} (A => B)\n",
       "1\tdeduction\t2\t{B in BOOLEAN, not(B) => not(A)} |- A => B\n",
       "2\tinstantiation\t3, 4, 5, 6\t{B in BOOLEAN, not(B) => not(A), A} |- B\n",
       "\tA : B, B : not(A)\n",
       "3\ttheorem\t\t|- forall_{A in BOOLEAN} [forall_{B | not(A) => B, not(B)} A]\n",
       "\tproveit.logic.booleans.implication.modus_tollens_affirmation\n",
       "4\tassumption\t\t{B in BOOLEAN} |- B in BOOLEAN\n",
       "5\tassumption\t\t{not(B) => not(A)} |- not(B) => not(A)\n",
       "6\tinstantiation\t7, 8\t{A} |- not(not(A))\n",
       "\tA : A\n",
       "7\ttheorem\t\t|- forall_{A | A} not(not(A))\n",
       "\tproveit.logic.booleans.negation.double_negation_intro\n",
       "8\tassumption\t\t{A} |- A"
      ]
     },
     "execution_count": 6,
     "metadata": {},
     "output_type": "execute_result"
    }
   ],
   "source": [
    "%qed # automation can take it from here"
   ]
  },
  {
   "cell_type": "code",
   "execution_count": null,
   "metadata": {},
   "outputs": [],
   "source": []
  }
 ],
 "metadata": {
  "kernelspec": {
   "display_name": "Python 3",
   "language": "python",
   "name": "python3"
  }
 },
 "nbformat": 4,
 "nbformat_minor": 0
}