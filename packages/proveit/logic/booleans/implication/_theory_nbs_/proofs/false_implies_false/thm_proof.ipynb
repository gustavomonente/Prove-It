{
 "cells": [
  {
   "cell_type": "markdown",
   "metadata": {},
   "source": [
    "Proof of <a class=\"ProveItLink\" href=\"../../../../../../_theory_nbs_/theory.ipynb\">proveit</a>.<a class=\"ProveItLink\" href=\"../../../../../_theory_nbs_/theory.ipynb\">logic</a>.<a class=\"ProveItLink\" href=\"../../../../_theory_nbs_/theory.ipynb\">booleans</a>.<a class=\"ProveItLink\" href=\"../../theory.ipynb\">implication</a>.<a class=\"ProveItLink\" href=\"../../theorems.ipynb#false_implies_false\">false_implies_false</a> theorem\n",
    "========"
   ]
  },
  {
   "cell_type": "code",
   "execution_count": 1,
   "metadata": {},
   "outputs": [],
   "source": [
    "import proveit\n",
    "theory = proveit.Theory() # the theorem's theory"
   ]
  },
  {
   "cell_type": "code",
   "execution_count": 2,
   "metadata": {},
   "outputs": [
    {
     "data": {
      "text/html": [
       "Under these <a href=\"presumptions.txt\">presumptions</a>, we begin our proof of<br><strong id=\"false_implies_false\">false_implies_false:</strong> <a class=\"ProveItLink\" href=\"../../../__pv_it/theorems/4a0153b826efccf7d09dd4d17c1174477a23dc130/expr.ipynb\"><img src=\"data:image/png;base64,iVBORw0KGgoAAAANSUhEUgAAAD8AAAAPBAMAAAChCwpBAAAAMFBMVEX///92dna6urru7u4yMjKY\n",
       "mJjc3NxERERUVFQQEBAiIiJmZmaIiIiqqqrMzMwAAACslU6QAAAAAXRSTlMAQObYZgAAAGdJREFU\n",
       "GNNjYGBgeMuAHfBdgDLu4FDAe4AsBewJBBTwFRCyIhq3gl2rQGD9BkKOvHKBgAJmTwX8CjLEcJmw\n",
       "xQUM3Ai4QYWAN5md0RQA/TZz1aoVcFGOBxCae9WqlbNWrWrAiAA2ND4AdQwr9PQN2ykAAAAASUVO\n",
       "RK5CYII=\n",
       "\" style=\"display:inline;vertical-align:middle;\" /></a><br>(see <a class=\"ProveItLink\" href=\"../../../__pv_it/theorems/fe2513b50a8462cbfa6aeb1df0e309742d442a3a0/dependencies.ipynb\">dependencies</a>)<br>"
      ],
      "text/plain": [
       "false_implies_false: FALSE => FALSE"
      ]
     },
     "execution_count": 2,
     "metadata": {},
     "output_type": "execute_result"
    }
   ],
   "source": [
    "%proving false_implies_false"
   ]
  },
  {
   "cell_type": "code",
   "execution_count": 3,
   "metadata": {},
   "outputs": [
    {
     "data": {
      "text/html": [
       "<table><tr><th>&nbsp;</th><th>step type</th><th>requirements</th><th>statement</th></tr>\n",
       "<tr><td><a name=\"0x4a5ab903e1198e38_step0\">0</a></td><td>instantiation</td><td><a href=\"#0x4a5ab903e1198e38_step1\">1</a></td><td><span style=\"font-size:20px;\"> <a class=\"ProveItLink\" href=\"../../../__pv_it/_proof_false_implies_false/c7bbe1617e90c196763379c702853d199d1bf9dc0/proof.ipynb\" style=\"text-decoration: none\">&nbsp;&#x22A2;&nbsp;&nbsp;</a><a class=\"ProveItLink\" href=\"../../../__pv_it/theorems/4a0153b826efccf7d09dd4d17c1174477a23dc130/expr.ipynb\"><img src=\"data:image/png;base64,iVBORw0KGgoAAAANSUhEUgAAAD8AAAAPBAMAAAChCwpBAAAAMFBMVEX///92dna6urru7u4yMjKY\n",
       "mJjc3NxERERUVFQQEBAiIiJmZmaIiIiqqqrMzMwAAACslU6QAAAAAXRSTlMAQObYZgAAAGdJREFU\n",
       "GNNjYGBgeMuAHfBdgDLu4FDAe4AsBewJBBTwFRCyIhq3gl2rQGD9BkKOvHKBgAJmTwX8CjLEcJmw\n",
       "xQUM3Ai4QYWAN5md0RQA/TZz1aoVcFGOBxCae9WqlbNWrWrAiAA2ND4AdQwr9PQN2ykAAAAASUVO\n",
       "RK5CYII=\n",
       "\" style=\"display:inline;vertical-align:middle;\" /></a></span></td></tr>\n",
       "<tr><td>&nbsp;</td><td colspan=4 style=\"text-align:left\"><span style=\"font-size:20px;\"><a class=\"ProveItLink\" href=\"../../../../../../__pv_it/common/09585084922504426caf1db2ff588a23a0932a960/expr.ipynb\"><img src=\"data:image/png;base64,iVBORw0KGgoAAAANSUhEUgAAAA8AAAAOBAMAAAACpFvcAAAALVBMVEX///8iIiIQEBBERERUVFS6\n",
       "urqIiIjc3NxmZmaqqqru7u6YmJgyMjLMzMwAAACK9jtgAAAAAXRSTlMAQObYZgAAAFtJREFUCNdj\n",
       "YACBOwxQcA5Kc59bAGGs7CuAMDbkBYBp1gXzNoAZSxnuJYAZAQx1DSCa16PDzwCshIGB6QCIMYGB\n",
       "gVEBSLMDGTwPgIxCIGZ+zsCw+N0pBk67hw0AfpEVEQi8t+wAAAAASUVORK5CYII=\n",
       "\" style=\"display:inline;vertical-align:middle;\" /></a> : <a class=\"ProveItLink\" href=\"../../../../__pv_it/common/e0f123f2e4f322e1eba7f861749cda9fd9d99a120/expr.ipynb\"><img src=\"data:image/png;base64,iVBORw0KGgoAAAANSUhEUgAAAA4AAAAOBAMAAADtZjDiAAAAG1BMVEX///9UVFQQEBAiIiJmZmaI\n",
       "iIiqqqrMzMwAAADC2JlRAAAAAXRSTlMAQObYZgAAABlJREFUCNdjYGBgKGOAgFRa0s7GxkrGxoYA\n",
       "QSUGlQeagkgAAAAASUVORK5CYII=\n",
       "\" style=\"display:inline;vertical-align:middle;\" /></a></span></td></tr><tr><td><a name=\"0x4a5ab903e1198e38_step1\">1</a></td><td>theorem</td><td></td><td><span style=\"font-size:20px;\"> <a class=\"ProveItLink\" href=\"../self_implication/thm_proof.ipynb\" style=\"text-decoration: none\">&nbsp;&#x22A2;&nbsp;&nbsp;</a><a class=\"ProveItLink\" href=\"../../../__pv_it/theorems/068264227593daedec2423e488dd4d2252f02a6d0/expr.ipynb\"><img src=\"data:image/png;base64,iVBORw0KGgoAAAANSUhEUgAAAHIAAAAUBAMAAACjXnQJAAAAMFBMVEX///8QEBCIiIhmZma6urrM\n",
       "zMxUVFQiIiJERETc3Nzu7u6qqqp2dnaYmJgyMjIAAAAcRTyBAAAAAXRSTlMAQObYZgAAAZ5JREFU\n",
       "OMtjYMACOC8wEADcExgYHoAYd1HFV0CoOBzaQOKZDAynQexXqFIvIdR7HDpB4usYGGaAXNeAIsNr\n",
       "AKHeL8CqESzOo8DAB6I2oEixTwBTq+0nwIU4EEyIOJcAA++pVaumoxoK5V7Qd4ALsSK5CiL+hIHh\n",
       "R0dHDapOZTDJsmA/UhBfhrOg4ocZGFIZGDrBQp0wuV4wuYQhXgFEm5eDQL0BTBYqfo+BwZmBCxwz\n",
       "vF9gctVg0oFhvgGSQ/bBwgIqvh0YHgxMYFct/gtTJAL2WbJxPnKQcz2E+BomHg8M2AvsYKFTxSg6\n",
       "WRgYGB8g6Zx2EupNqDhQJ+eDMLBZCh0orgU6jl0AxLB7BwbQ1AEXdweFTApIhI3BHDmEOIEq+D4g\n",
       "rPSDJWmYODCEGDYXgIRuM+jDVB2GxinHT4QvXyHFNVjcBoj5QYHM9fhMPyyxAR2y4v8rBu7+7/DA\n",
       "ZQuA5gW4+FNQdIB0MC9gmB+AmvpQ8h26AFcBjOULtPsCaorHC3gUYCn6BwNnfy1MuJOwznXYhVcQ\n",
       "1onDcMKlCe8EBgDLUXFfmLCapgAAAABJRU5ErkJggg==\n",
       "\" style=\"display:inline;vertical-align:middle;\" /></a></span></td></tr>\n",
       "<tr><td>&nbsp;</td><td colspan=4 style-\"text-align:left\"><a class=\"ProveItLink\" href=\"../self_implication/thm_proof.ipynb\">proveit.logic.booleans.implication.self_implication</a></td></tr></table>"
      ],
      "text/plain": [
       "\tstep type\trequirements\tstatement\n",
       "0\tinstantiation\t1\t|- FALSE => FALSE\n",
       "\tA : FALSE\n",
       "1\ttheorem\t\t|- forall_{A} (A => A)\n",
       "\tproveit.logic.booleans.implication.self_implication"
      ]
     },
     "execution_count": 3,
     "metadata": {},
     "output_type": "execute_result"
    }
   ],
   "source": [
    "%qed"
   ]
  },
  {
   "cell_type": "code",
   "execution_count": null,
   "metadata": {},
   "outputs": [],
   "source": []
  }
 ],
 "metadata": {
  "kernelspec": {
   "display_name": "Python 3",
   "language": "python",
   "name": "python3"
  }
 },
 "nbformat": 4,
 "nbformat_minor": 0
}