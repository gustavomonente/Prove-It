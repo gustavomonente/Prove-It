{
 "cells": [
  {
   "cell_type": "markdown",
   "metadata": {},
   "source": [
    "Proof of <a class=\"ProveItLink\" href=\"../../../../../../_theory_nbs_/theory.ipynb\">proveit</a>.<a class=\"ProveItLink\" href=\"../../../../../_theory_nbs_/theory.ipynb\">logic</a>.<a class=\"ProveItLink\" href=\"../../../../_theory_nbs_/theory.ipynb\">booleans</a>.<a class=\"ProveItLink\" href=\"../../theory.ipynb\">implication</a>.<a class=\"ProveItLink\" href=\"../../theorems.ipynb#negated_reflex\">negated_reflex</a> theorem\n",
    "========"
   ]
  },
  {
   "cell_type": "code",
   "execution_count": 1,
   "metadata": {},
   "outputs": [],
   "source": [
    "import proveit\n",
    "from proveit import defaults\n",
    "from proveit import A, B\n",
    "from proveit.logic import Equals, TRUE, FALSE\n",
    "from proveit.logic.booleans.implication import Implies\n",
    "from proveit.logic.booleans.implication import not_true_via_contradiction\n",
    "from proveit.logic.booleans.negation import Not\n",
    "theory = proveit.Theory() # the theorem's theory"
   ]
  },
  {
   "cell_type": "code",
   "execution_count": 2,
   "metadata": {},
   "outputs": [
    {
     "data": {
      "text/html": [
       "Under these <a href=\"presumptions.txt\">presumptions</a>, we begin our proof of<br><strong id=\"negated_reflex\">negated_reflex:</strong> <a class=\"ProveItLink\" href=\"../../../__pv_it/theorems/49bee642421d614f6f323ab4d0eda12a23040f0f0/expr.ipynb\"><img src=\"data:image/png;base64,iVBORw0KGgoAAAANSUhEUgAAANoAAAAWBAMAAABUGZ8nAAAAMFBMVEX///8QEBCIiIhmZma6urrM\n",
       "zMxUVFQiIiJERETc3Nzu7u6qqqp2dnaYmJgyMjIAAAAcRTyBAAAAAXRSTlMAQObYZgAAAydJREFU\n",
       "SMetVk9IFFEY/zk7qzvjrnoICuqw0CEpymBlhRBdCMpLKR3qEu2CGdYhpQ7RP9wgYo1ot4t5iZ0y\n",
       "KDawhaLoUBoeMovY6ljmSnXIQ4rmnxSx73uzo89pl0XWD+bNzPve+37f+31/ZoB1kjt5V5TGgDQ/\n",
       "DBcMpocBT9uMr/Vqdv0xuk4C7/h5rGC0MnIcRQRZ35RVP05XL9BNNy1cMNpnHoIpoHF3NrVn3ADc\n",
       "XpTxLVkw2nkequiAI15ryhVbUT+qpxe9Ap6hROJ2wWBaO49XyOJGw5pzSoylqgI0/gDmIpFL+a1l\n",
       "n16OkSL4mwGOnLKxK0Q1+ohkDAAtQKeYMseGqYFWQYEqm+23U6NGa/2deLrMGhtzzgxXXhSvNedY\n",
       "OpZDeB9BJvgbsBe6qALPHzOeFXBXCAMSWLHAGQlIUx+B13BY+CUceeUvcDckrXll5UMAcUZ+Tguh\n",
       "sGPoWRQKRwil83a0o6Kk6lPSlB/oM3TLdhE74iIvlQW5CEdN/5zNvjYOYpASMlUipobOml564Ujb\n",
       "0Vp4cD8wmXkpxjNAHfBLRisnbGVS2tb1NkM7LUibaFr6sMD3RoTmcRN2GXY0kXGHXOEVWvVpKNQT\n",
       "dspMcrkVi3jU/RZi+ULKEo7Ofs6O48IGaoSmcWelSY/Lnt8hRzsGI5HIzQ3s7uSna3R7JmcJl1tQ\n",
       "SvuD1nZCK5swswRPhK0vqBKqD8A2CY3Np1U24UkqE5l0ryZa01BoX0PGoJtJHiUnNhkrUbP6IZez\n",
       "izIItUw3J6f+/X1ULLwBxJOrzxZS+bS9tYPzGTMnDLj6oS2YzVZEhpBPLzX7I1JXKs5U48OlMZRG\n",
       "Z8mfn+w0ozgMxIWWTDTGbGiiK+yBNo2tPpJm2lCehEru7lvVufJ0BL3dejpABlLadWjz0LbY4hbi\n",
       "ZSpFZhF6IpG4x1zEDdyikv/6f9/ILW6rhbrmoEUvOzfjzZSvNWBDi+ECEA2je1YUXBdv7PD5+UtW\n",
       "na0F55Je++dVepYrYIe8SLablr+m+aTT9v4iB5or18c/tYY/BY/9+KkcCGoqu4Ge9fqrgSPXoSXZ\n",
       "vkab/wBSDM1Ms4MeswAAAABJRU5ErkJggg==\n",
       "\" style=\"display:inline;vertical-align:middle;\" /></a><br>(see <a class=\"ProveItLink\" href=\"../../../__pv_it/theorems/497e5573d9c9f253e1c06395b5de2e178b8a90a10/dependencies.ipynb\">dependencies</a>)<br>"
      ],
      "text/plain": [
       "negated_reflex: forall_{A, B | not(A => B)} (B => A)"
      ]
     },
     "execution_count": 2,
     "metadata": {},
     "output_type": "execute_result"
    }
   ],
   "source": [
    "%proving negated_reflex"
   ]
  },
  {
   "cell_type": "code",
   "execution_count": 3,
   "metadata": {},
   "outputs": [
    {
     "data": {
      "text/html": [
       "<strong id=\"defaults.assumptions\">defaults.assumptions:</strong> <a class=\"ProveItLink\" href=\"../../../__pv_it/_proof_negated_reflex/a2b1f12afbe9a741c451875e2a7a1f0b05a3e8bb0/expr.ipynb\"><img src=\"data:image/png;base64,iVBORw0KGgoAAAANSUhEUgAAAG4AAAAUBAMAAACezBVvAAAAMFBMVEX////MzMxUVFR2dna6uroQ\n",
       "EBCqqqqIiIgiIiJmZmYyMjJERETu7u6YmJjc3NwAAACgK8IjAAAAAXRSTlMAQObYZgAAAZdJREFU\n",
       "OMtjYOC7wIAAbxkIAbYHEMxwGkmQZwOYYlyARQOv/qeZ2lsYGPQYIHgdkhzXAwj1AZtNrEBD5wsw\n",
       "nAIygZh3ApLUTQh16w82ffJAD/lPYGAuYABhjgdIUn0Q12b+Qwjtg7PqgSrvFzDwBDCA8AskbXwN\n",
       "EJ+wf0GIScNZW4HqIw4wMCxhAOFKJH3sEDf7sP1FCg64Pz4xMEjoAGlLMN6LpI8bHCU8DozfQTRn\n",
       "Bxj8hEoyfrpb3Qb2PRi3wRQYMDBwJIDEWRj4fiJH2DKoY4CePqoAZGSAcQjMb0AhVgcQS2jmpN/I\n",
       "4XgKooQbGB7s30DhCsaY+oBEFHJgKUNCnB+ogP07XF8bkj6wO9mAuBXsv1UQ8AARfUyggPYA471I\n",
       "+sDh8gyI1yOsY1mAFH3yG+DhYglTIABMBhOgcbgfkRhOHYAylgLNiAZxJoOxB5JXWBoYePb/OsCQ\n",
       "/b8TLqYIpbX+a07aDQ7vhWCMJZ2hgAfoAjwNYIwtXeMF0HSNlHCBAfOAsD5oPsKWb/GCfVBMYjnB\n",
       "+wCMAZ56dXjRaJGzAAAAAElFTkSuQmCC\n",
       "\" style=\"display:inline;vertical-align:middle;\" /></a><br>"
      ],
      "text/plain": [
       "defaults.assumptions: (not(A => B))"
      ]
     },
     "execution_count": 3,
     "metadata": {},
     "output_type": "execute_result"
    }
   ],
   "source": [
    "defaults.assumptions = negated_reflex.all_conditions()"
   ]
  },
  {
   "cell_type": "code",
   "execution_count": 4,
   "metadata": {},
   "outputs": [
    {
     "data": {
      "text/html": [
       "<strong id=\"BeqT\">BeqT:</strong> <a class=\"ProveItLink\" href=\"../../../__pv_it/_proof_negated_reflex/0f9f4616c85fb3dbeb8db2be86216a4830f500c80/expr.ipynb\"><img src=\"data:image/png;base64,iVBORw0KGgoAAAANSUhEUgAAADwAAAAOBAMAAACBYGLnAAAAMFBMVEX///92dnYyMjKqqqoiIiLu\n",
       "7u7c3NyIiIjMzMwQEBC6urpERERmZmZUVFSYmJgAAADEjrHzAAAAAXRSTlMAQObYZgAAAI5JREFU\n",
       "GNNjYGB4+//O2d0LGFDBERcQ8AUxZzMw8PxgwADmEIrjHwMD1x+c0uzfGBj4vuOU5p7AwBDpilOa\n",
       "/wIDh28ATun+e8+3GIBZQkogoIMqXZ/AwDqXAafunSAlBjil/4KkC3BJg7zNcH8Bwm5dFGmQtzl+\n",
       "47SbCejtlVtxSfPq/z1zezMWWYZ1QAwAmGAm6Lnjy/0AAAAASUVORK5CYII=\n",
       "\" style=\"display:inline;vertical-align:middle;\" /></a><br>"
      ],
      "text/plain": [
       "BeqT: B = TRUE"
      ]
     },
     "execution_count": 4,
     "metadata": {},
     "output_type": "execute_result"
    }
   ],
   "source": [
    "BeqT = Equals(B,TRUE)"
   ]
  },
  {
   "cell_type": "code",
   "execution_count": 5,
   "metadata": {},
   "outputs": [
    {
     "data": {
      "text/html": [
       "<strong id=\"AimplBeqT\">AimplBeqT:</strong> <span style=\"font-size:20px;\"><a class=\"ProveItLink\" href=\"../../../__pv_it/_proof_negated_reflex/0f9f4616c85fb3dbeb8db2be86216a4830f500c80/expr.ipynb\"><img src=\"data:image/png;base64,iVBORw0KGgoAAAANSUhEUgAAADwAAAAOBAMAAACBYGLnAAAAMFBMVEX///92dnYyMjKqqqoiIiLu\n",
       "7u7c3NyIiIjMzMwQEBC6urpERERmZmZUVFSYmJgAAADEjrHzAAAAAXRSTlMAQObYZgAAAI5JREFU\n",
       "GNNjYGB4+//O2d0LGFDBERcQ8AUxZzMw8PxgwADmEIrjHwMD1x+c0uzfGBj4vuOU5p7AwBDpilOa\n",
       "/wIDh28ATun+e8+3GIBZQkogoIMqXZ/AwDqXAafunSAlBjil/4KkC3BJg7zNcH8Bwm5dFGmQtzl+\n",
       "47SbCejtlVtxSfPq/z1zezMWWYZ1QAwAmGAm6Lnjy/0AAAAASUVORK5CYII=\n",
       "\" style=\"display:inline;vertical-align:middle;\" /></a> <a class=\"ProveItLink\" href=\"../../../__pv_it/_proof_negated_reflex/eaa3c5a0dd5b2f8ace3b7153e4a417944ff7aa2b0/proof.ipynb\" style=\"text-decoration: none\">&nbsp;&#x22A2;&nbsp;&nbsp;</a><a class=\"ProveItLink\" href=\"../../../__pv_it/_proof_negated_reflex/e811bdb5eb045e9d085dea71792a12a1408867e70/expr.ipynb\"><img src=\"data:image/png;base64,iVBORw0KGgoAAAANSUhEUgAAAHsAAAAUBAMAAABfS1/DAAAAMFBMVEX///92dnYiIiIQEBBERERU\n",
       "VFS6urqIiIjc3NxmZmaqqqru7u6YmJgyMjLMzMwAAADiRdoGAAAAAXRSTlMAQObYZgAAAX9JREFU\n",
       "OMtjYMAJOA4w4AcrYIy32GS3APHR/5FTXRLQJCYpgYAqA2sDVOA+Nu03QIQJAwPnP0y55SCC+wKE\n",
       "w3N/A6YKnglAgu8PAwPbTxzaGcQhnF3zGxAyHlCaCSTG/gNozndc2jdDOAfqkbz3BEo3gQgWA6Ai\n",
       "bVzaecHa2DasP4DmaCCoBBH8AQx8qhtwaWcEK93G8L4ARHOCQ1QJ6lUfEPE+5rjTAjBX9i4I3ETR\n",
       "zgMOuwSG/glIJnPdAlNaIKK+gYHblAGX7VwKoNCNnBnvgCy31wxEgglnkBELcGnn+wDyOgMD8wXk\n",
       "1BbYANf+FaS9AK92oOFMBmC/34WABrjjQdHOEJ+A8PtVFO1sQMdzALXzfkAYzHYBEXSgaOf7gtPv\n",
       "oKADxS/LDySfQ+NJEhSxQFcle+PUzinAsOX/bQYu/0+IoI+D0kkMDKz3v84M8cKWH3IgyeYBpkwD\n",
       "cqLFDzbhkeOZQFC7OD5JD0K6uS/gk91CSDsLXu8RLKxOMDAAACPAaq/KtGJSAAAAAElFTkSuQmCC\n",
       "\" style=\"display:inline;vertical-align:middle;\" /></a></span><br>"
      ],
      "text/plain": [
       "AimplBeqT: {B = TRUE} |- A => (B = TRUE)"
      ]
     },
     "execution_count": 5,
     "metadata": {},
     "output_type": "execute_result"
    }
   ],
   "source": [
    "AimplBeqT = BeqT.prove([BeqT]).as_implication(A)"
   ]
  },
  {
   "cell_type": "code",
   "execution_count": 6,
   "metadata": {},
   "outputs": [
    {
     "data": {
      "text/html": [
       "<strong id=\"n_impl_a_b\">n_impl_a_b:</strong> <a class=\"ProveItLink\" href=\"../../../__pv_it/theorems/d26eae191e914fc353ccead38c44781cbedb3d660/expr.ipynb\"><img src=\"data:image/png;base64,iVBORw0KGgoAAAANSUhEUgAAAF8AAAAUBAMAAAAZ/fxpAAAAMFBMVEX///+6uroQEBCqqqqIiIgy\n",
       "MjJERETu7u6YmJjMzMxUVFTc3Nx2dnYiIiJmZmYAAAAutVgsAAAAAXRSTlMAQObYZgAAAWRJREFU\n",
       "KM9jYIAD7gYGQsAahVcGoaZiU9n1f92rNAEGrg3IgtEQKh6r2WoMDHw/GdgDkIQ4HkCo+AIs6jl/\n",
       "MDAw/mNgOIIkxguxrvg9wlo2OJPlN9CoLwwMRUga9kKoBn8BhLkJcK0KQMXXGRhYEZIMfmCSscAe\n",
       "KbD6YAz+BQyct4Bu5XmAkMwAk4UM8x1A9Nu7IHAfJj9/RUuuAciHARCZO0D2ZbCMAMN+JEMYTA0g\n",
       "tP8GBnYtIM18AcLfBcSKYFeve7c+AUkDexDE0UkgTUDNnB/QNDAyMDAhh/Wu0xD6F0iDA6oGsJOA\n",
       "hvAqgBhPQ8EgGhENDOuBljEiOQnkaW6gBtYPCAtEkaKB8xvE0xATgPgcNC7YfiN8EA5lsAJtFUoH\n",
       "MvgOIEyTBSa//+EMzPl/4cHENQFKx/96tywZrHMCRtJABtwYIrWYiQ8/QE58DNmE1aMkb1gGwgfY\n",
       "UJxNRBbtZmAAALGZW4fbrGcJAAAAAElFTkSuQmCC\n",
       "\" style=\"display:inline;vertical-align:middle;\" /></a><br>"
      ],
      "text/plain": [
       "n_impl_a_b: not(A => B)"
      ]
     },
     "execution_count": 6,
     "metadata": {},
     "output_type": "execute_result"
    }
   ],
   "source": [
    "n_impl_a_b = Not(Implies(A,B))"
   ]
  },
  {
   "cell_type": "code",
   "execution_count": 7,
   "metadata": {},
   "outputs": [
    {
     "data": {
      "text/html": [
       "<strong id=\"AimplB\">AimplB:</strong> <a class=\"ProveItLink\" href=\"../../../__pv_it/theorems/d4325c8af119c430c8d7d2a3d4da5401a1227aa10/expr.ipynb\"><img src=\"data:image/png;base64,iVBORw0KGgoAAAANSUhEUgAAAEAAAAAPBAMAAACmSdRUAAAAMFBMVEX///92dnYiIiIQEBBERERU\n",
       "VFS6urqIiIjc3NxmZmaqqqru7u6YmJgyMjLMzMwAAADiRdoGAAAAAXRSTlMAQObYZgAAAO5JREFU\n",
       "GNNjYACBtwxYwNH/kVNdEiDs+9gUMJgwMHD+A7N47m/AIs/3h4GB7SeYuWt+A0LcA8Zg/wHU+h3M\n",
       "PFCfgFDwBMZgMWBg2KwNYrFtWH8AoYBnApTBH8DApwq2exvD+wIQzakEBj+hCt7HHHdaAGYlMPRP\n",
       "QHIc1y0IXd/AwG0Kdm3kzHgHZOfvNQNTziBFICPYGBiYLyDJcwRC/PQVpABkN1ARkwHYDXchoAEe\n",
       "DAzxQO9xABXwfkAYwHYBEQx8X4CMJpCXfyC5ABqqvEBTk70ZGLb8v83A5f8J4Y04CMV6/+vMEC9s\n",
       "UdSAygUACNlBmGjrK1sAAAAASUVORK5CYII=\n",
       "\" style=\"display:inline;vertical-align:middle;\" /></a><br>"
      ],
      "text/plain": [
       "AimplB: A => B"
      ]
     },
     "execution_count": 7,
     "metadata": {},
     "output_type": "execute_result"
    }
   ],
   "source": [
    "AimplB = n_impl_a_b.operands[0]"
   ]
  },
  {
   "cell_type": "code",
   "execution_count": 8,
   "metadata": {},
   "outputs": [
    {
     "data": {
      "text/html": [
       "<span style=\"font-size:20px;\"><a class=\"ProveItLink\" href=\"../../../__pv_it/theorems/d26eae191e914fc353ccead38c44781cbedb3d660/expr.ipynb\"><img src=\"data:image/png;base64,iVBORw0KGgoAAAANSUhEUgAAAF8AAAAUBAMAAAAZ/fxpAAAAMFBMVEX///+6uroQEBCqqqqIiIgy\n",
       "MjJERETu7u6YmJjMzMxUVFTc3Nx2dnYiIiJmZmYAAAAutVgsAAAAAXRSTlMAQObYZgAAAWRJREFU\n",
       "KM9jYIAD7gYGQsAahVcGoaZiU9n1f92rNAEGrg3IgtEQKh6r2WoMDHw/GdgDkIQ4HkCo+AIs6jl/\n",
       "MDAw/mNgOIIkxguxrvg9wlo2OJPlN9CoLwwMRUga9kKoBn8BhLkJcK0KQMXXGRhYEZIMfmCSscAe\n",
       "KbD6YAz+BQyct4Bu5XmAkMwAk4UM8x1A9Nu7IHAfJj9/RUuuAciHARCZO0D2ZbCMAMN+JEMYTA0g\n",
       "tP8GBnYtIM18AcLfBcSKYFeve7c+AUkDexDE0UkgTUDNnB/QNDAyMDAhh/Wu0xD6F0iDA6oGsJOA\n",
       "hvAqgBhPQ8EgGhENDOuBljEiOQnkaW6gBtYPCAtEkaKB8xvE0xATgPgcNC7YfiN8EA5lsAJtFUoH\n",
       "MvgOIEyTBSa//+EMzPl/4cHENQFKx/96tywZrHMCRtJABtwYIrWYiQ8/QE58DNmE1aMkb1gGwgfY\n",
       "UJxNRBbtZmAAALGZW4fbrGcJAAAAAElFTkSuQmCC\n",
       "\" style=\"display:inline;vertical-align:middle;\" /></a> <a class=\"ProveItLink\" href=\"../../../__pv_it/_proof_negated_reflex/c177bb53d552d6a27312198bdd893348657cedac0/proof.ipynb\" style=\"text-decoration: none\">&nbsp;&#x22A2;&nbsp;&nbsp;</a><a class=\"ProveItLink\" href=\"../../../__pv_it/_proof_negated_reflex/4bf7d5a19bca7573c27206c8bae7bfd5e0e5a0710/expr.ipynb\"><img src=\"data:image/png;base64,iVBORw0KGgoAAAANSUhEUgAAAJsAAAAUBAMAAABoqVKyAAAAMFBMVEX////MzMxUVFR2dna6uroQ\n",
       "EBCqqqqIiIgiIiJmZmYyMjJERETu7u6YmJjc3NwAAACgK8IjAAAAAXRSTlMAQObYZgAAAcxJREFU\n",
       "OMtjYOC7wIAAbxkIAbYHEIwLnEZi82wAU4wLsKjj1f80U3sLA4MeAwSjAM4OMFBgYFiHJMoFsZbr\n",
       "AzZ7WYF2zRdgOAVknsLm7AKwpROQhG5CqFt/sBknDwwV/wkMzEBtzAW4jONADoc+iJcz/yGE9sFZ\n",
       "9UCV9wsYeAIYwBi7cS+QRPgaIKHE/gUhJg1nbQUaE3GAgWEJAwRjNa4SSYQd4nEftr9IMQAPjE8M\n",
       "DBI6QNoSirEatxdJhBucZngcGL8jxdZPqCTjp7vVbeCQhWIG5lVgMAHZuDaYPgNgOCaARFgY+H4i\n",
       "27oM6nRggB4FpgSGDCjG6roQWLgBVbI6gFhCMyf9RlZ3CqKEGxj87N9AMQzFRBoHJKKQ40cZEvf8\n",
       "QAXs3wkZ14ZkHNizbEDcCg47SNCseoBIdkygKPeAYljYKWCLCpBx4Kh4BsTrEZayLEBKdvIbkKMC\n",
       "m+vgUS4AtG4CNO3tR6TtUwegjKVAo6NBnMlQjNU4DyQRlgYGnv2/DjBk/++EiylCaa3/mpN2g2N+\n",
       "IRSjAZYLODIZCsAoi3gaIBg7wFYE4AW4igCMPA6MiweEjcNVQOEuPvGCfWhOQAMkFu68DyAYOwAA\n",
       "A8qH2+RRn8AAAAAASUVORK5CYII=\n",
       "\" style=\"display:inline;vertical-align:middle;\" /></a></span>"
      ],
      "text/plain": [
       "{not(A => B)} |- not(A => B) = TRUE"
      ]
     },
     "execution_count": 8,
     "metadata": {},
     "output_type": "execute_result"
    }
   ],
   "source": [
    "n_impl_a_b.evaluation()"
   ]
  },
  {
   "cell_type": "code",
   "execution_count": 9,
   "metadata": {},
   "outputs": [
    {
     "data": {
      "text/html": [
       "<strong id=\"contradiction\">contradiction:</strong> <span style=\"font-size:20px;\"><a class=\"ProveItLink\" href=\"../../../../../../__pv_it/common/4eca3b30dcf58a58494e201d1b7886d8643a617b0/expr.ipynb\"><img src=\"data:image/png;base64,iVBORw0KGgoAAAANSUhEUgAAABAAAAAOBAMAAADUAYG5AAAALVBMVEX///8yMjKqqqoiIiLu7u7c\n",
       "3NyIiIjMzMwQEBC6urpERERmZmZUVFSYmJgAAACsPVCVAAAAAXRSTlMAQObYZgAAAGxJREFUCNdj\n",
       "YGC48+70nlUTGICgi4GB+zmQZn/LwMD5Gshge8rAwPsMyOBqYGDwMAEy+A4wsNs4ABl1Z68tVgBp\n",
       "ygtgYOkBMVaAOCChNyBGAsQYhnMTIMawvwJyGIHGzFjCwMAj92b3qUUMDAAXABxvZ4rl5AAAAABJ\n",
       "RU5ErkJggg==\n",
       "\" style=\"display:inline;vertical-align:middle;\" /></a>, <a class=\"ProveItLink\" href=\"../../../__pv_it/theorems/d26eae191e914fc353ccead38c44781cbedb3d660/expr.ipynb\"><img src=\"data:image/png;base64,iVBORw0KGgoAAAANSUhEUgAAAF8AAAAUBAMAAAAZ/fxpAAAAMFBMVEX///+6uroQEBCqqqqIiIgy\n",
       "MjJERETu7u6YmJjMzMxUVFTc3Nx2dnYiIiJmZmYAAAAutVgsAAAAAXRSTlMAQObYZgAAAWRJREFU\n",
       "KM9jYIAD7gYGQsAahVcGoaZiU9n1f92rNAEGrg3IgtEQKh6r2WoMDHw/GdgDkIQ4HkCo+AIs6jl/\n",
       "MDAw/mNgOIIkxguxrvg9wlo2OJPlN9CoLwwMRUga9kKoBn8BhLkJcK0KQMXXGRhYEZIMfmCSscAe\n",
       "KbD6YAz+BQyct4Bu5XmAkMwAk4UM8x1A9Nu7IHAfJj9/RUuuAciHARCZO0D2ZbCMAMN+JEMYTA0g\n",
       "tP8GBnYtIM18AcLfBcSKYFeve7c+AUkDexDE0UkgTUDNnB/QNDAyMDAhh/Wu0xD6F0iDA6oGsJOA\n",
       "hvAqgBhPQ8EgGhENDOuBljEiOQnkaW6gBtYPCAtEkaKB8xvE0xATgPgcNC7YfiN8EA5lsAJtFUoH\n",
       "MvgOIEyTBSa//+EMzPl/4cHENQFKx/96tywZrHMCRtJABtwYIrWYiQ8/QE58DNmE1aMkb1gGwgfY\n",
       "UJxNRBbtZmAAALGZW4fbrGcJAAAAAElFTkSuQmCC\n",
       "\" style=\"display:inline;vertical-align:middle;\" /></a> <a class=\"ProveItLink\" href=\"../../../__pv_it/_proof_negated_reflex/42d4d9ab9fb05cf5f6a2dabd400335aa6d01e2b00/proof.ipynb\" style=\"text-decoration: none\">&nbsp;&#x22A2;&nbsp;&nbsp;</a><a class=\"ProveItLink\" href=\"../../../../__pv_it/common/bc5c31e39ae582b67c89fb24025b57f5b995e8890/expr.ipynb\"><img src=\"data:image/png;base64,iVBORw0KGgoAAAANSUhEUgAAAA4AAAAOBAMAAADtZjDiAAAAG1BMVEX///9UVFQQEBAiIiJmZmaI\n",
       "iIiqqqrMzMwAAADC2JlRAAAAAXRSTlMAQObYZgAAABlJREFUCNdjYGBgKGOAgFRa0s7GxkrGxoYA\n",
       "QSUGlQeagkgAAAAASUVORK5CYII=\n",
       "\" style=\"display:inline;vertical-align:middle;\" /></a></span><br>"
      ],
      "text/plain": [
       "contradiction: {B, not(A => B)} |- FALSE"
      ]
     },
     "execution_count": 9,
     "metadata": {},
     "output_type": "execute_result"
    }
   ],
   "source": [
    "contradiction = n_impl_a_b.derive_contradiction([B, Not(Implies(A,B))])"
   ]
  },
  {
   "cell_type": "code",
   "execution_count": 10,
   "metadata": {},
   "outputs": [
    {
     "data": {
      "text/html": [
       "<strong id=\"B_impl_F\">B_impl_F:</strong> <span style=\"font-size:20px;\"><a class=\"ProveItLink\" href=\"../../../__pv_it/theorems/d26eae191e914fc353ccead38c44781cbedb3d660/expr.ipynb\"><img src=\"data:image/png;base64,iVBORw0KGgoAAAANSUhEUgAAAF8AAAAUBAMAAAAZ/fxpAAAAMFBMVEX///+6uroQEBCqqqqIiIgy\n",
       "MjJERETu7u6YmJjMzMxUVFTc3Nx2dnYiIiJmZmYAAAAutVgsAAAAAXRSTlMAQObYZgAAAWRJREFU\n",
       "KM9jYIAD7gYGQsAahVcGoaZiU9n1f92rNAEGrg3IgtEQKh6r2WoMDHw/GdgDkIQ4HkCo+AIs6jl/\n",
       "MDAw/mNgOIIkxguxrvg9wlo2OJPlN9CoLwwMRUga9kKoBn8BhLkJcK0KQMXXGRhYEZIMfmCSscAe\n",
       "KbD6YAz+BQyct4Bu5XmAkMwAk4UM8x1A9Nu7IHAfJj9/RUuuAciHARCZO0D2ZbCMAMN+JEMYTA0g\n",
       "tP8GBnYtIM18AcLfBcSKYFeve7c+AUkDexDE0UkgTUDNnB/QNDAyMDAhh/Wu0xD6F0iDA6oGsJOA\n",
       "hvAqgBhPQ8EgGhENDOuBljEiOQnkaW6gBtYPCAtEkaKB8xvE0xATgPgcNC7YfiN8EA5lsAJtFUoH\n",
       "MvgOIEyTBSa//+EMzPl/4cHENQFKx/96tywZrHMCRtJABtwYIrWYiQ8/QE58DNmE1aMkb1gGwgfY\n",
       "UJxNRBbtZmAAALGZW4fbrGcJAAAAAElFTkSuQmCC\n",
       "\" style=\"display:inline;vertical-align:middle;\" /></a> <a class=\"ProveItLink\" href=\"../../../__pv_it/_proof_negated_reflex/84b098bbd80c7bf0756b583ba41002a0f81e4c9d0/proof.ipynb\" style=\"text-decoration: none\">&nbsp;&#x22A2;&nbsp;&nbsp;</a><a class=\"ProveItLink\" href=\"../../../__pv_it/_proof_negated_reflex/6c8012746852b1840fee3f51ca617f6c032dafe20/expr.ipynb\"><img src=\"data:image/png;base64,iVBORw0KGgoAAAANSUhEUgAAAEAAAAAPBAMAAACmSdRUAAAAMFBMVEX///92dnYyMjKqqqoiIiLu\n",
       "7u7c3NyIiIjMzMwQEBC6urpERERmZmZUVFSYmJgAAADEjrHzAAAAAXRSTlMAQObYZgAAALhJREFU\n",
       "GNNjYGB4+//O2d0LGLCAZig9m4GB5wc2BeYQiuMfAwPXHzwK2L8xMPB9h4tyJ6Ar4J7AwBDpChfl\n",
       "2ICugP8CA4dvAMLgN+gK+u8932IAZh1xAQH/A2gK6hMYWOciu83IAFXBTpAiAyQFrJoLUBT8BSko\n",
       "QFKQK4ZiAigYGO6D9RxSAgM1VDeAgoHjN5IBi9B8wQQMhpVbkVygiqqAV//vmdubkQzgbWCA+Xmm\n",
       "i4svZgSwoXIBQtgvPRdpmQIAAAAASUVORK5CYII=\n",
       "\" style=\"display:inline;vertical-align:middle;\" /></a></span><br>"
      ],
      "text/plain": [
       "B_impl_F: {not(A => B)} |- B => FALSE"
      ]
     },
     "execution_count": 10,
     "metadata": {},
     "output_type": "execute_result"
    }
   ],
   "source": [
    "B_impl_F = contradiction.as_implication(B)"
   ]
  },
  {
   "cell_type": "code",
   "execution_count": 11,
   "metadata": {},
   "outputs": [
    {
     "data": {
      "text/html": [
       "<span style=\"font-size:20px;\"><a class=\"ProveItLink\" href=\"../../../__pv_it/theorems/d26eae191e914fc353ccead38c44781cbedb3d660/expr.ipynb\"><img src=\"data:image/png;base64,iVBORw0KGgoAAAANSUhEUgAAAF8AAAAUBAMAAAAZ/fxpAAAAMFBMVEX///+6uroQEBCqqqqIiIgy\n",
       "MjJERETu7u6YmJjMzMxUVFTc3Nx2dnYiIiJmZmYAAAAutVgsAAAAAXRSTlMAQObYZgAAAWRJREFU\n",
       "KM9jYIAD7gYGQsAahVcGoaZiU9n1f92rNAEGrg3IgtEQKh6r2WoMDHw/GdgDkIQ4HkCo+AIs6jl/\n",
       "MDAw/mNgOIIkxguxrvg9wlo2OJPlN9CoLwwMRUga9kKoBn8BhLkJcK0KQMXXGRhYEZIMfmCSscAe\n",
       "KbD6YAz+BQyct4Bu5XmAkMwAk4UM8x1A9Nu7IHAfJj9/RUuuAciHARCZO0D2ZbCMAMN+JEMYTA0g\n",
       "tP8GBnYtIM18AcLfBcSKYFeve7c+AUkDexDE0UkgTUDNnB/QNDAyMDAhh/Wu0xD6F0iDA6oGsJOA\n",
       "hvAqgBhPQ8EgGhENDOuBljEiOQnkaW6gBtYPCAtEkaKB8xvE0xATgPgcNC7YfiN8EA5lsAJtFUoH\n",
       "MvgOIEyTBSa//+EMzPl/4cHENQFKx/96tywZrHMCRtJABtwYIrWYiQ8/QE58DNmE1aMkb1gGwgfY\n",
       "UJxNRBbtZmAAALGZW4fbrGcJAAAAAElFTkSuQmCC\n",
       "\" style=\"display:inline;vertical-align:middle;\" /></a> <a class=\"ProveItLink\" href=\"../../../__pv_it/_proof_negated_reflex/fd0b499b4c5f822a51026e1408030d9ea7642bba0/proof.ipynb\" style=\"text-decoration: none\">&nbsp;&#x22A2;&nbsp;&nbsp;</a><a class=\"ProveItLink\" href=\"../../../__pv_it/_proof_negated_reflex/694f1e31ab2f5004c4acb16e6165bd30fadc71910/expr.ipynb\"><img src=\"data:image/png;base64,iVBORw0KGgoAAAANSUhEUgAAADwAAAAUCAMAAADm3a4bAAAAOVBMVEX///8kJCQNDQ0oKCh2dnYy\n",
       "MjKqqqoiIiLu7u7c3NyIiIjMzMwQEBC6urpERERmZmZUVFSYmJgAAAAlhNHDAAAAAXRSTlMAQObY\n",
       "ZgAAAMtJREFUOMvFk8sSgyAMRdNWHhIIIf//sW1BpgoqjptmIWg4XG8yARjHZM+yiUU4RiYKO9lZ\n",
       "/fbRrIKXj55KTrCHubtRu/UbSsprkNgLE5zDTuby/+J6YRzA5PNivbEXhBtYsnc03NeVcACjcEqO\n",
       "jF73R+V4Pb/PeAIvlq3nS8JbeLH8uUQ3x5BhBAtXuC02zSO4dhlYwtbzwxfnfAzXLqO0bVG7whtY\n",
       "FcvBU9OpEGEAs6pT0VYL1ME4hTQeRR3hfih7n9XTn4QhDE+8Ae3tCEAGDuk8AAAAAElFTkSuQmCC\n",
       "\" style=\"display:inline;vertical-align:middle;\" /></a></span>"
      ],
      "text/plain": [
       "{not(A => B)} |- B != TRUE"
      ]
     },
     "execution_count": 11,
     "metadata": {},
     "output_type": "execute_result"
    }
   ],
   "source": [
    "B_impl_F.derive_via_contradiction()"
   ]
  },
  {
   "cell_type": "code",
   "execution_count": 12,
   "metadata": {},
   "outputs": [
    {
     "data": {
      "text/html": [
       "<span style=\"font-size:20px;\"><a class=\"ProveItLink\" href=\"../../../__pv_it/theorems/d26eae191e914fc353ccead38c44781cbedb3d660/expr.ipynb\"><img src=\"data:image/png;base64,iVBORw0KGgoAAAANSUhEUgAAAF8AAAAUBAMAAAAZ/fxpAAAAMFBMVEX///+6uroQEBCqqqqIiIgy\n",
       "MjJERETu7u6YmJjMzMxUVFTc3Nx2dnYiIiJmZmYAAAAutVgsAAAAAXRSTlMAQObYZgAAAWRJREFU\n",
       "KM9jYIAD7gYGQsAahVcGoaZiU9n1f92rNAEGrg3IgtEQKh6r2WoMDHw/GdgDkIQ4HkCo+AIs6jl/\n",
       "MDAw/mNgOIIkxguxrvg9wlo2OJPlN9CoLwwMRUga9kKoBn8BhLkJcK0KQMXXGRhYEZIMfmCSscAe\n",
       "KbD6YAz+BQyct4Bu5XmAkMwAk4UM8x1A9Nu7IHAfJj9/RUuuAciHARCZO0D2ZbCMAMN+JEMYTA0g\n",
       "tP8GBnYtIM18AcLfBcSKYFeve7c+AUkDexDE0UkgTUDNnB/QNDAyMDAhh/Wu0xD6F0iDA6oGsJOA\n",
       "hvAqgBhPQ8EgGhENDOuBljEiOQnkaW6gBtYPCAtEkaKB8xvE0xATgPgcNC7YfiN8EA5lsAJtFUoH\n",
       "MvgOIEyTBSa//+EMzPl/4cHENQFKx/96tywZrHMCRtJABtwYIrWYiQ8/QE58DNmE1aMkb1gGwgfY\n",
       "UJxNRBbtZmAAALGZW4fbrGcJAAAAAElFTkSuQmCC\n",
       "\" style=\"display:inline;vertical-align:middle;\" /></a> <a class=\"ProveItLink\" href=\"../../../__pv_it/_proof_negated_reflex/44824fa675e9e7922b7ba305295028f6b9ac4a5e0/proof.ipynb\" style=\"text-decoration: none\">&nbsp;&#x22A2;&nbsp;&nbsp;</a><a class=\"ProveItLink\" href=\"../../../__pv_it/theorems/6920eb5f79a02998298ad6a0526e6038a0e1c7ed0/expr.ipynb\"><img src=\"data:image/png;base64,iVBORw0KGgoAAAANSUhEUgAAAEAAAAAPBAMAAACmSdRUAAAAMFBMVEX///92dnYyMjKqqqoiIiLu\n",
       "7u7c3NyIiIjMzMwQEBC6urpERERmZmZUVFSYmJgAAADEjrHzAAAAAXRSTlMAQObYZgAAAOpJREFU\n",
       "GNNjYGB4+//O2d0LGLABDgUwNZuBgecHVgVMH8DK/jEwcP3BquDRVxDJ/o2Bge87XJA7Ac5ktfkG\n",
       "FpnAwBDpirB3A5zJx/4LRPFfYODwDUCY+wbOWsr8D0T133u+xQAscMQFBPwPwGxYwAG2uT6BgXUu\n",
       "stOMIMoZuBjYwG7fCVJkgKSAVRMSKr1nzv4G0X9BCgqQFOSKQWigsknQYGC4D9ZzSAkM1CDyzEDs\n",
       "CQ0Gjt9IBiyC0slArA8KTmAwrNyK5AJVCM3mACT2JzDw6v89c3szkgG8DRB1+z8FMFj/98EMfzZU\n",
       "LgBdXD0b6P4qzAAAAABJRU5ErkJggg==\n",
       "\" style=\"display:inline;vertical-align:middle;\" /></a></span>"
      ],
      "text/plain": [
       "{not(A => B)} |- B => A"
      ]
     },
     "execution_count": 12,
     "metadata": {},
     "output_type": "execute_result"
    }
   ],
   "source": [
    "Implies(B, A).prove()"
   ]
  },
  {
   "cell_type": "code",
   "execution_count": 13,
   "metadata": {},
   "outputs": [
    {
     "data": {
      "text/html": [
       "<table><tr><th>&nbsp;</th><th>step type</th><th>requirements</th><th>statement</th></tr>\n",
       "<tr><td><a name=\"0xf35e6284edd4c65_step0\">0</a></td><td>generalizaton</td><td><a href=\"#0xf35e6284edd4c65_step1\">1</a></td><td><span style=\"font-size:20px;\"> <a class=\"ProveItLink\" href=\"../../../__pv_it/_proof_negated_reflex/a2eb627e54c856163133e66510f0b651ebe952ff0/proof.ipynb\" style=\"text-decoration: none\">&nbsp;&#x22A2;&nbsp;&nbsp;</a><a class=\"ProveItLink\" href=\"../../../__pv_it/theorems/49bee642421d614f6f323ab4d0eda12a23040f0f0/expr.ipynb\"><img src=\"data:image/png;base64,iVBORw0KGgoAAAANSUhEUgAAANoAAAAWBAMAAABUGZ8nAAAAMFBMVEX///8QEBCIiIhmZma6urrM\n",
       "zMxUVFQiIiJERETc3Nzu7u6qqqp2dnaYmJgyMjIAAAAcRTyBAAAAAXRSTlMAQObYZgAAAydJREFU\n",
       "SMetVk9IFFEY/zk7qzvjrnoICuqw0CEpymBlhRBdCMpLKR3qEu2CGdYhpQ7RP9wgYo1ot4t5iZ0y\n",
       "KDawhaLoUBoeMovY6ljmSnXIQ4rmnxSx73uzo89pl0XWD+bNzPve+37f+31/ZoB1kjt5V5TGgDQ/\n",
       "DBcMpocBT9uMr/Vqdv0xuk4C7/h5rGC0MnIcRQRZ35RVP05XL9BNNy1cMNpnHoIpoHF3NrVn3ADc\n",
       "XpTxLVkw2nkequiAI15ryhVbUT+qpxe9Ap6hROJ2wWBaO49XyOJGw5pzSoylqgI0/gDmIpFL+a1l\n",
       "n16OkSL4mwGOnLKxK0Q1+ohkDAAtQKeYMseGqYFWQYEqm+23U6NGa/2deLrMGhtzzgxXXhSvNedY\n",
       "OpZDeB9BJvgbsBe6qALPHzOeFXBXCAMSWLHAGQlIUx+B13BY+CUceeUvcDckrXll5UMAcUZ+Tguh\n",
       "sGPoWRQKRwil83a0o6Kk6lPSlB/oM3TLdhE74iIvlQW5CEdN/5zNvjYOYpASMlUipobOml564Ujb\n",
       "0Vp4cD8wmXkpxjNAHfBLRisnbGVS2tb1NkM7LUibaFr6sMD3RoTmcRN2GXY0kXGHXOEVWvVpKNQT\n",
       "dspMcrkVi3jU/RZi+ULKEo7Ofs6O48IGaoSmcWelSY/Lnt8hRzsGI5HIzQ3s7uSna3R7JmcJl1tQ\n",
       "SvuD1nZCK5swswRPhK0vqBKqD8A2CY3Np1U24UkqE5l0ryZa01BoX0PGoJtJHiUnNhkrUbP6IZez\n",
       "izIItUw3J6f+/X1ULLwBxJOrzxZS+bS9tYPzGTMnDLj6oS2YzVZEhpBPLzX7I1JXKs5U48OlMZRG\n",
       "Z8mfn+w0ozgMxIWWTDTGbGiiK+yBNo2tPpJm2lCehEru7lvVufJ0BL3dejpABlLadWjz0LbY4hbi\n",
       "ZSpFZhF6IpG4x1zEDdyikv/6f9/ILW6rhbrmoEUvOzfjzZSvNWBDi+ECEA2je1YUXBdv7PD5+UtW\n",
       "na0F55Je++dVepYrYIe8SLablr+m+aTT9v4iB5or18c/tYY/BY/9+KkcCGoqu4Ge9fqrgSPXoSXZ\n",
       "vkab/wBSDM1Ms4MeswAAAABJRU5ErkJggg==\n",
       "\" style=\"display:inline;vertical-align:middle;\" /></a></span></td></tr>\n",
       "<tr><td><a name=\"0xf35e6284edd4c65_step1\">1</a></td><td>instantiation</td><td><a href=\"#0xf35e6284edd4c65_step2\">2</a>, <a href=\"#0xf35e6284edd4c65_step3\">3</a></td><td><span style=\"font-size:20px;\"><a class=\"ProveItLink\" href=\"../../../__pv_it/theorems/d26eae191e914fc353ccead38c44781cbedb3d660/expr.ipynb\"><img src=\"data:image/png;base64,iVBORw0KGgoAAAANSUhEUgAAAF8AAAAUBAMAAAAZ/fxpAAAAMFBMVEX///+6uroQEBCqqqqIiIgy\n",
       "MjJERETu7u6YmJjMzMxUVFTc3Nx2dnYiIiJmZmYAAAAutVgsAAAAAXRSTlMAQObYZgAAAWRJREFU\n",
       "KM9jYIAD7gYGQsAahVcGoaZiU9n1f92rNAEGrg3IgtEQKh6r2WoMDHw/GdgDkIQ4HkCo+AIs6jl/\n",
       "MDAw/mNgOIIkxguxrvg9wlo2OJPlN9CoLwwMRUga9kKoBn8BhLkJcK0KQMXXGRhYEZIMfmCSscAe\n",
       "KbD6YAz+BQyct4Bu5XmAkMwAk4UM8x1A9Nu7IHAfJj9/RUuuAciHARCZO0D2ZbCMAMN+JEMYTA0g\n",
       "tP8GBnYtIM18AcLfBcSKYFeve7c+AUkDexDE0UkgTUDNnB/QNDAyMDAhh/Wu0xD6F0iDA6oGsJOA\n",
       "hvAqgBhPQ8EgGhENDOuBljEiOQnkaW6gBtYPCAtEkaKB8xvE0xATgPgcNC7YfiN8EA5lsAJtFUoH\n",
       "MvgOIEyTBSa//+EMzPl/4cHENQFKx/96tywZrHMCRtJABtwYIrWYiQ8/QE58DNmE1aMkb1gGwgfY\n",
       "UJxNRBbtZmAAALGZW4fbrGcJAAAAAElFTkSuQmCC\n",
       "\" style=\"display:inline;vertical-align:middle;\" /></a> <a class=\"ProveItLink\" href=\"../../../__pv_it/_proof_negated_reflex/44824fa675e9e7922b7ba305295028f6b9ac4a5e0/proof.ipynb\" style=\"text-decoration: none\">&nbsp;&#x22A2;&nbsp;&nbsp;</a><a class=\"ProveItLink\" href=\"../../../__pv_it/theorems/6920eb5f79a02998298ad6a0526e6038a0e1c7ed0/expr.ipynb\"><img src=\"data:image/png;base64,iVBORw0KGgoAAAANSUhEUgAAAEAAAAAPBAMAAACmSdRUAAAAMFBMVEX///92dnYyMjKqqqoiIiLu\n",
       "7u7c3NyIiIjMzMwQEBC6urpERERmZmZUVFSYmJgAAADEjrHzAAAAAXRSTlMAQObYZgAAAOpJREFU\n",
       "GNNjYGB4+//O2d0LGLABDgUwNZuBgecHVgVMH8DK/jEwcP3BquDRVxDJ/o2Bge87XJA7Ac5ktfkG\n",
       "FpnAwBDpirB3A5zJx/4LRPFfYODwDUCY+wbOWsr8D0T133u+xQAscMQFBPwPwGxYwAG2uT6BgXUu\n",
       "stOMIMoZuBjYwG7fCVJkgKSAVRMSKr1nzv4G0X9BCgqQFOSKQWigsknQYGC4D9ZzSAkM1CDyzEDs\n",
       "CQ0Gjt9IBiyC0slArA8KTmAwrNyK5AJVCM3mACT2JzDw6v89c3szkgG8DRB1+z8FMFj/98EMfzZU\n",
       "LgBdXD0b6P4qzAAAAABJRU5ErkJggg==\n",
       "\" style=\"display:inline;vertical-align:middle;\" /></a></span></td></tr>\n",
       "<tr><td>&nbsp;</td><td colspan=4 style=\"text-align:left\"><span style=\"font-size:20px;\"><a class=\"ProveItLink\" href=\"../../../../../../__pv_it/common/e4aad701f7f5516d8e7f0d805d518bf02c13322a0/expr.ipynb\"><img src=\"data:image/png;base64,iVBORw0KGgoAAAANSUhEUgAAAA8AAAAOBAMAAAACpFvcAAAALVBMVEX///8iIiIQEBBERERUVFS6\n",
       "urqIiIjc3NxmZmaqqqru7u6YmJgyMjLMzMwAAACK9jtgAAAAAXRSTlMAQObYZgAAAFtJREFUCNdj\n",
       "YACBOwxQcA5Kc59bAGGs7CuAMDbkBYBp1gXzNoAZSxnuJYAZAQx1DSCa16PDzwCshIGB6QCIMYGB\n",
       "gVEBSLMDGTwPgIxCIGZ+zsCw+N0pBk67hw0AfpEVEQi8t+wAAAAASUVORK5CYII=\n",
       "\" style=\"display:inline;vertical-align:middle;\" /></a> : <a class=\"ProveItLink\" href=\"../../../../../../__pv_it/common/4eca3b30dcf58a58494e201d1b7886d8643a617b0/expr.ipynb\"><img src=\"data:image/png;base64,iVBORw0KGgoAAAANSUhEUgAAABAAAAAOBAMAAADUAYG5AAAALVBMVEX///8yMjKqqqoiIiLu7u7c\n",
       "3NyIiIjMzMwQEBC6urpERERmZmZUVFSYmJgAAACsPVCVAAAAAXRSTlMAQObYZgAAAGxJREFUCNdj\n",
       "YGC48+70nlUTGICgi4GB+zmQZn/LwMD5Gshge8rAwPsMyOBqYGDwMAEy+A4wsNs4ABl1Z68tVgBp\n",
       "ygtgYOkBMVaAOCChNyBGAsQYhnMTIMawvwJyGIHGzFjCwMAj92b3qUUMDAAXABxvZ4rl5AAAAABJ\n",
       "RU5ErkJggg==\n",
       "\" style=\"display:inline;vertical-align:middle;\" /></a>, <a class=\"ProveItLink\" href=\"../../../../../../__pv_it/common/4eca3b30dcf58a58494e201d1b7886d8643a617b0/expr.ipynb\"><img src=\"data:image/png;base64,iVBORw0KGgoAAAANSUhEUgAAABAAAAAOBAMAAADUAYG5AAAALVBMVEX///8yMjKqqqoiIiLu7u7c\n",
       "3NyIiIjMzMwQEBC6urpERERmZmZUVFSYmJgAAACsPVCVAAAAAXRSTlMAQObYZgAAAGxJREFUCNdj\n",
       "YGC48+70nlUTGICgi4GB+zmQZn/LwMD5Gshge8rAwPsMyOBqYGDwMAEy+A4wsNs4ABl1Z68tVgBp\n",
       "ygtgYOkBMVaAOCChNyBGAsQYhnMTIMawvwJyGIHGzFjCwMAj92b3qUUMDAAXABxvZ4rl5AAAAABJ\n",
       "RU5ErkJggg==\n",
       "\" style=\"display:inline;vertical-align:middle;\" /></a> : <a class=\"ProveItLink\" href=\"../../../../../../__pv_it/common/e4aad701f7f5516d8e7f0d805d518bf02c13322a0/expr.ipynb\"><img src=\"data:image/png;base64,iVBORw0KGgoAAAANSUhEUgAAAA8AAAAOBAMAAAACpFvcAAAALVBMVEX///8iIiIQEBBERERUVFS6\n",
       "urqIiIjc3NxmZmaqqqru7u6YmJgyMjLMzMwAAACK9jtgAAAAAXRSTlMAQObYZgAAAFtJREFUCNdj\n",
       "YACBOwxQcA5Kc59bAGGs7CuAMDbkBYBp1gXzNoAZSxnuJYAZAQx1DSCa16PDzwCshIGB6QCIMYGB\n",
       "gVEBSLMDGTwPgIxCIGZ+zsCw+N0pBk67hw0AfpEVEQi8t+wAAAAASUVORK5CYII=\n",
       "\" style=\"display:inline;vertical-align:middle;\" /></a></span></td></tr><tr><td><a name=\"0xf35e6284edd4c65_step2\">2</a></td><td>theorem</td><td></td><td><span style=\"font-size:20px;\"> <a class=\"ProveItLink\" href=\"../untrue_antecedent_implication/thm_proof.ipynb\" style=\"text-decoration: none\">&nbsp;&#x22A2;&nbsp;&nbsp;</a><a class=\"ProveItLink\" href=\"../../../__pv_it/theorems/c449629c528ad428408063a39d6569e7a08c49720/expr.ipynb\"><img src=\"data:image/png;base64,iVBORw0KGgoAAAANSUhEUgAAAL0AAAAWCAMAAACi0m0vAAAAOVBMVEX///8oKCgUFBQNDQ0QEBCI\n",
       "iIhmZma6urrMzMxUVFQiIiJERETc3Nzu7u6qqqp2dnaYmJgyMjIAAAArQGDrAAAAAXRSTlMAQObY\n",
       "ZgAAAoBJREFUWMPNV4u2nCAMtC0PeQf+/2NLQCWoqLd3a8s564GVyDCZhDBN/6BZ+P43vMVn3MYA\n",
       "L4F3ho7m+NQOVEpKCGWMzCOF8INfX0b3Evpou1F6bsnqvkWaMwe4a7sSYc1L4EF0o5geszanKg+Z\n",
       "8BOBE8qbE/5y05R650WyZ7PMyb98mQoJgTuG3eCwWf1WyHYLQYYkT3k+kYJhdcdMF8YjGiaDTYeX\n",
       "0HMqHOkmn+CBwEpLquxLqyqXgDPUvPcU7UuTRMhxTv+6cfO1jg0B6ySKmW9joUlL4iB7BcCN9lvI\n",
       "IBic5Ujegs6XUNwVGFn/QFNnIJCNgP5k+Nj7VPueB5vEKKVHfyZ7x9TyvmgQH7wx4kTnS1HmepIZ\n",
       "9uh7A6vG2yxZr+10ztlbqDRMdi4yeZR93oVffFF4hbqDpQWnKRu6OFbEMfe9gXGP0dceGx1XVgV7\n",
       "lD2i5wS9jZmFRgifDFnW4ckwcXqU7UD1BjJM1+ibcpaObqIUsWv2NNtPahGq1EvQqUaIwuAh0kw8\n",
       "R4rq4q6Hsxqokrt+5R9cod/eWn952Mo4yPbzKjWoMzyBCx7nEVmUKVwP0fcG3E833Aexy/vm9Lhy\n",
       "h8IlVh9JtmpTLG5uSctFEYKhIVqm2OQHoHqDvgA7RV/97UxKBZ/PHX2SdWoeJ+O4lmitMFumwIZW\n",
       "uIK1mVbYkvLTgWoGKiv15w/U66Vy+kphfCTfl6qH6kDWhTE+rKm4ypOFAaXEoM+WY/QgPnNoB76P\n",
       "qBIQ1iQN08wy6yGfeOguOQBFDfpsucTz0wLsD24JN/eCUdE5PF38s1rJfaQWv+HA26+if3pL+sTN\n",
       "EG4cOFxihB7euiF8q4n/BslvQhscDi68I44AAAAASUVORK5CYII=\n",
       "\" style=\"display:inline;vertical-align:middle;\" /></a></span></td></tr>\n",
       "<tr><td>&nbsp;</td><td colspan=4 style-\"text-align:left\"><a class=\"ProveItLink\" href=\"../untrue_antecedent_implication/thm_proof.ipynb\">proveit.logic.booleans.implication.untrue_antecedent_implication</a></td></tr><tr><td><a name=\"0xf35e6284edd4c65_step3\">3</a></td><td>instantiation</td><td><a href=\"#0xf35e6284edd4c65_step4\">4</a>, <a href=\"#0xf35e6284edd4c65_step5\">5</a></td><td><span style=\"font-size:20px;\"><a class=\"ProveItLink\" href=\"../../../__pv_it/theorems/d26eae191e914fc353ccead38c44781cbedb3d660/expr.ipynb\"><img src=\"data:image/png;base64,iVBORw0KGgoAAAANSUhEUgAAAF8AAAAUBAMAAAAZ/fxpAAAAMFBMVEX///+6uroQEBCqqqqIiIgy\n",
       "MjJERETu7u6YmJjMzMxUVFTc3Nx2dnYiIiJmZmYAAAAutVgsAAAAAXRSTlMAQObYZgAAAWRJREFU\n",
       "KM9jYIAD7gYGQsAahVcGoaZiU9n1f92rNAEGrg3IgtEQKh6r2WoMDHw/GdgDkIQ4HkCo+AIs6jl/\n",
       "MDAw/mNgOIIkxguxrvg9wlo2OJPlN9CoLwwMRUga9kKoBn8BhLkJcK0KQMXXGRhYEZIMfmCSscAe\n",
       "KbD6YAz+BQyct4Bu5XmAkMwAk4UM8x1A9Nu7IHAfJj9/RUuuAciHARCZO0D2ZbCMAMN+JEMYTA0g\n",
       "tP8GBnYtIM18AcLfBcSKYFeve7c+AUkDexDE0UkgTUDNnB/QNDAyMDAhh/Wu0xD6F0iDA6oGsJOA\n",
       "hvAqgBhPQ8EgGhENDOuBljEiOQnkaW6gBtYPCAtEkaKB8xvE0xATgPgcNC7YfiN8EA5lsAJtFUoH\n",
       "MvgOIEyTBSa//+EMzPl/4cHENQFKx/96tywZrHMCRtJABtwYIrWYiQ8/QE58DNmE1aMkb1gGwgfY\n",
       "UJxNRBbtZmAAALGZW4fbrGcJAAAAAElFTkSuQmCC\n",
       "\" style=\"display:inline;vertical-align:middle;\" /></a> <a class=\"ProveItLink\" href=\"../../../__pv_it/_proof_negated_reflex/fd0b499b4c5f822a51026e1408030d9ea7642bba0/proof.ipynb\" style=\"text-decoration: none\">&nbsp;&#x22A2;&nbsp;&nbsp;</a><a class=\"ProveItLink\" href=\"../../../__pv_it/_proof_negated_reflex/694f1e31ab2f5004c4acb16e6165bd30fadc71910/expr.ipynb\"><img src=\"data:image/png;base64,iVBORw0KGgoAAAANSUhEUgAAADwAAAAUCAMAAADm3a4bAAAAOVBMVEX///8kJCQNDQ0oKCh2dnYy\n",
       "MjKqqqoiIiLu7u7c3NyIiIjMzMwQEBC6urpERERmZmZUVFSYmJgAAAAlhNHDAAAAAXRSTlMAQObY\n",
       "ZgAAAMtJREFUOMvFk8sSgyAMRdNWHhIIIf//sW1BpgoqjptmIWg4XG8yARjHZM+yiUU4RiYKO9lZ\n",
       "/fbRrIKXj55KTrCHubtRu/UbSsprkNgLE5zDTuby/+J6YRzA5PNivbEXhBtYsnc03NeVcACjcEqO\n",
       "jF73R+V4Pb/PeAIvlq3nS8JbeLH8uUQ3x5BhBAtXuC02zSO4dhlYwtbzwxfnfAzXLqO0bVG7whtY\n",
       "FcvBU9OpEGEAs6pT0VYL1ME4hTQeRR3hfih7n9XTn4QhDE+8Ae3tCEAGDuk8AAAAAElFTkSuQmCC\n",
       "\" style=\"display:inline;vertical-align:middle;\" /></a></span></td></tr>\n",
       "<tr><td>&nbsp;</td><td colspan=4 style=\"text-align:left\"><span style=\"font-size:20px;\"><a class=\"ProveItLink\" href=\"../../../../../../__pv_it/common/e4aad701f7f5516d8e7f0d805d518bf02c13322a0/expr.ipynb\"><img src=\"data:image/png;base64,iVBORw0KGgoAAAANSUhEUgAAAA8AAAAOBAMAAAACpFvcAAAALVBMVEX///8iIiIQEBBERERUVFS6\n",
       "urqIiIjc3NxmZmaqqqru7u6YmJgyMjLMzMwAAACK9jtgAAAAAXRSTlMAQObYZgAAAFtJREFUCNdj\n",
       "YACBOwxQcA5Kc59bAGGs7CuAMDbkBYBp1gXzNoAZSxnuJYAZAQx1DSCa16PDzwCshIGB6QCIMYGB\n",
       "gVEBSLMDGTwPgIxCIGZ+zsCw+N0pBk67hw0AfpEVEQi8t+wAAAAASUVORK5CYII=\n",
       "\" style=\"display:inline;vertical-align:middle;\" /></a> : <a class=\"ProveItLink\" href=\"../../../../../../__pv_it/common/4eca3b30dcf58a58494e201d1b7886d8643a617b0/expr.ipynb\"><img src=\"data:image/png;base64,iVBORw0KGgoAAAANSUhEUgAAABAAAAAOBAMAAADUAYG5AAAALVBMVEX///8yMjKqqqoiIiLu7u7c\n",
       "3NyIiIjMzMwQEBC6urpERERmZmZUVFSYmJgAAACsPVCVAAAAAXRSTlMAQObYZgAAAGxJREFUCNdj\n",
       "YGC48+70nlUTGICgi4GB+zmQZn/LwMD5Gshge8rAwPsMyOBqYGDwMAEy+A4wsNs4ABl1Z68tVgBp\n",
       "ygtgYOkBMVaAOCChNyBGAsQYhnMTIMawvwJyGIHGzFjCwMAj92b3qUUMDAAXABxvZ4rl5AAAAABJ\n",
       "RU5ErkJggg==\n",
       "\" style=\"display:inline;vertical-align:middle;\" /></a></span></td></tr><tr><td><a name=\"0xf35e6284edd4c65_step4\">4</a></td><td>theorem</td><td></td><td><span style=\"font-size:20px;\"> <a class=\"ProveItLink\" href=\"../not_true_via_contradiction/thm_proof.ipynb\" style=\"text-decoration: none\">&nbsp;&#x22A2;&nbsp;&nbsp;</a><a class=\"ProveItLink\" href=\"../../../__pv_it/theorems/bb8d8fa072a6abd7ccaa2558ea0bda92e1a58d970/expr.ipynb\"><img src=\"data:image/png;base64,iVBORw0KGgoAAAANSUhEUgAAAKkAAAAWCAMAAACMl0y9AAAAOVBMVEX///8kJCQNDQ0oKCgQEBCI\n",
       "iIhmZma6urrMzMxUVFQiIiJERETc3Nzu7u6qqqp2dnaYmJgyMjIAAAD9T1yxAAAAAXRSTlMAQObY\n",
       "ZgAAAgBJREFUSMfNV9dy7CAMJblG9Pr/H3uNqyjGOLPORA8MINY66lpCfoO0v3/jzCXL6rSG4+z9\n",
       "W0CNwicemsqgW5CIxHwhElRnd34wbyENOjvF1hvBKkvSU9Wkht711eotoB6yU4gNkzSkI6TEUWTK\n",
       "07ifJolNaixE3TAp7yI1U9LRmURavpZO2Zc9oZGNmDRDSkL6TVSJpHsLKcXOZ4bYWKeu4jdIHRyG\n",
       "V8gleE9qAyj9CKlCwMz8NR5PCC4s9O87rdBB6lNOMdiza7/N3FP5xTe8d4RbK0xtrraOMGLSHKld\n",
       "Qigt9FTcQOaeEmnBLkQ27qZTMS4AQMTyFRfkDilfSpvzK9qjWUjoCC/Y1j9Auu6mMBRODaRze0Ba\n",
       "cUqUuhZestf+0UN6en/byCmP069pjVbRQcrkphPqECJ1s2vhO9upjQKyWRPpkVHatptUaGdonVHz\n",
       "HYLm58/ReIm0Yi9liPWQOijqqspLPwNyjxS2InrWDRPAOYX7XSa8ZqdLIUwH6eo4o2Jc2qGdN1mk\n",
       "X80bDGdA2KqDPx6DWeoIv0B6sinsJMB0vZ9309p0MDKNyQs9cB1SF2yzEaU3GVVMKNWgNTLCOVoG\n",
       "/1LqtIrSt4S32HrP2CXFprS4J03NjnRxE4aa4c388XiS/oFJx/r3J8bWzr8TNjLgjg0arw3YHyf4\n",
       "Izj+A3SNFmjL8c1mAAAAAElFTkSuQmCC\n",
       "\" style=\"display:inline;vertical-align:middle;\" /></a></span></td></tr>\n",
       "<tr><td>&nbsp;</td><td colspan=4 style-\"text-align:left\"><a class=\"ProveItLink\" href=\"../not_true_via_contradiction/thm_proof.ipynb\">proveit.logic.booleans.implication.not_true_via_contradiction</a></td></tr><tr><td><a name=\"0xf35e6284edd4c65_step5\">5</a></td><td>deduction</td><td><a href=\"#0xf35e6284edd4c65_step6\">6</a></td><td><span style=\"font-size:20px;\"><a class=\"ProveItLink\" href=\"../../../__pv_it/theorems/d26eae191e914fc353ccead38c44781cbedb3d660/expr.ipynb\"><img src=\"data:image/png;base64,iVBORw0KGgoAAAANSUhEUgAAAF8AAAAUBAMAAAAZ/fxpAAAAMFBMVEX///+6uroQEBCqqqqIiIgy\n",
       "MjJERETu7u6YmJjMzMxUVFTc3Nx2dnYiIiJmZmYAAAAutVgsAAAAAXRSTlMAQObYZgAAAWRJREFU\n",
       "KM9jYIAD7gYGQsAahVcGoaZiU9n1f92rNAEGrg3IgtEQKh6r2WoMDHw/GdgDkIQ4HkCo+AIs6jl/\n",
       "MDAw/mNgOIIkxguxrvg9wlo2OJPlN9CoLwwMRUga9kKoBn8BhLkJcK0KQMXXGRhYEZIMfmCSscAe\n",
       "KbD6YAz+BQyct4Bu5XmAkMwAk4UM8x1A9Nu7IHAfJj9/RUuuAciHARCZO0D2ZbCMAMN+JEMYTA0g\n",
       "tP8GBnYtIM18AcLfBcSKYFeve7c+AUkDexDE0UkgTUDNnB/QNDAyMDAhh/Wu0xD6F0iDA6oGsJOA\n",
       "hvAqgBhPQ8EgGhENDOuBljEiOQnkaW6gBtYPCAtEkaKB8xvE0xATgPgcNC7YfiN8EA5lsAJtFUoH\n",
       "MvgOIEyTBSa//+EMzPl/4cHENQFKx/96tywZrHMCRtJABtwYIrWYiQ8/QE58DNmE1aMkb1gGwgfY\n",
       "UJxNRBbtZmAAALGZW4fbrGcJAAAAAElFTkSuQmCC\n",
       "\" style=\"display:inline;vertical-align:middle;\" /></a> <a class=\"ProveItLink\" href=\"../../../__pv_it/_proof_negated_reflex/84b098bbd80c7bf0756b583ba41002a0f81e4c9d0/proof.ipynb\" style=\"text-decoration: none\">&nbsp;&#x22A2;&nbsp;&nbsp;</a><a class=\"ProveItLink\" href=\"../../../__pv_it/_proof_negated_reflex/6c8012746852b1840fee3f51ca617f6c032dafe20/expr.ipynb\"><img src=\"data:image/png;base64,iVBORw0KGgoAAAANSUhEUgAAAEAAAAAPBAMAAACmSdRUAAAAMFBMVEX///92dnYyMjKqqqoiIiLu\n",
       "7u7c3NyIiIjMzMwQEBC6urpERERmZmZUVFSYmJgAAADEjrHzAAAAAXRSTlMAQObYZgAAALhJREFU\n",
       "GNNjYGB4+//O2d0LGLCAZig9m4GB5wc2BeYQiuMfAwPXHzwK2L8xMPB9h4tyJ6Ar4J7AwBDpChfl\n",
       "2ICugP8CA4dvAMLgN+gK+u8932IAZh1xAQH/A2gK6hMYWOciu83IAFXBTpAiAyQFrJoLUBT8BSko\n",
       "QFKQK4ZiAigYGO6D9RxSAgM1VDeAgoHjN5IBi9B8wQQMhpVbkVygiqqAV//vmdubkQzgbWCA+Xmm\n",
       "i4svZgSwoXIBQtgvPRdpmQIAAAAASUVORK5CYII=\n",
       "\" style=\"display:inline;vertical-align:middle;\" /></a></span></td></tr>\n",
       "<tr><td><a name=\"0xf35e6284edd4c65_step6\">6</a></td><td>instantiation</td><td><a href=\"#0xf35e6284edd4c65_step7\">7</a>, <a href=\"#0xf35e6284edd4c65_step8\">8</a>, <a href=\"#0xf35e6284edd4c65_step9\">9</a></td><td><span style=\"font-size:20px;\"><a class=\"ProveItLink\" href=\"../../../../../../__pv_it/common/4eca3b30dcf58a58494e201d1b7886d8643a617b0/expr.ipynb\"><img src=\"data:image/png;base64,iVBORw0KGgoAAAANSUhEUgAAABAAAAAOBAMAAADUAYG5AAAALVBMVEX///8yMjKqqqoiIiLu7u7c\n",
       "3NyIiIjMzMwQEBC6urpERERmZmZUVFSYmJgAAACsPVCVAAAAAXRSTlMAQObYZgAAAGxJREFUCNdj\n",
       "YGC48+70nlUTGICgi4GB+zmQZn/LwMD5Gshge8rAwPsMyOBqYGDwMAEy+A4wsNs4ABl1Z68tVgBp\n",
       "ygtgYOkBMVaAOCChNyBGAsQYhnMTIMawvwJyGIHGzFjCwMAj92b3qUUMDAAXABxvZ4rl5AAAAABJ\n",
       "RU5ErkJggg==\n",
       "\" style=\"display:inline;vertical-align:middle;\" /></a>, <a class=\"ProveItLink\" href=\"../../../__pv_it/theorems/d26eae191e914fc353ccead38c44781cbedb3d660/expr.ipynb\"><img src=\"data:image/png;base64,iVBORw0KGgoAAAANSUhEUgAAAF8AAAAUBAMAAAAZ/fxpAAAAMFBMVEX///+6uroQEBCqqqqIiIgy\n",
       "MjJERETu7u6YmJjMzMxUVFTc3Nx2dnYiIiJmZmYAAAAutVgsAAAAAXRSTlMAQObYZgAAAWRJREFU\n",
       "KM9jYIAD7gYGQsAahVcGoaZiU9n1f92rNAEGrg3IgtEQKh6r2WoMDHw/GdgDkIQ4HkCo+AIs6jl/\n",
       "MDAw/mNgOIIkxguxrvg9wlo2OJPlN9CoLwwMRUga9kKoBn8BhLkJcK0KQMXXGRhYEZIMfmCSscAe\n",
       "KbD6YAz+BQyct4Bu5XmAkMwAk4UM8x1A9Nu7IHAfJj9/RUuuAciHARCZO0D2ZbCMAMN+JEMYTA0g\n",
       "tP8GBnYtIM18AcLfBcSKYFeve7c+AUkDexDE0UkgTUDNnB/QNDAyMDAhh/Wu0xD6F0iDA6oGsJOA\n",
       "hvAqgBhPQ8EgGhENDOuBljEiOQnkaW6gBtYPCAtEkaKB8xvE0xATgPgcNC7YfiN8EA5lsAJtFUoH\n",
       "MvgOIEyTBSa//+EMzPl/4cHENQFKx/96tywZrHMCRtJABtwYIrWYiQ8/QE58DNmE1aMkb1gGwgfY\n",
       "UJxNRBbtZmAAALGZW4fbrGcJAAAAAElFTkSuQmCC\n",
       "\" style=\"display:inline;vertical-align:middle;\" /></a> <a class=\"ProveItLink\" href=\"../../../__pv_it/_proof_negated_reflex/42d4d9ab9fb05cf5f6a2dabd400335aa6d01e2b00/proof.ipynb\" style=\"text-decoration: none\">&nbsp;&#x22A2;&nbsp;&nbsp;</a><a class=\"ProveItLink\" href=\"../../../../__pv_it/common/bc5c31e39ae582b67c89fb24025b57f5b995e8890/expr.ipynb\"><img src=\"data:image/png;base64,iVBORw0KGgoAAAANSUhEUgAAAA4AAAAOBAMAAADtZjDiAAAAG1BMVEX///9UVFQQEBAiIiJmZmaI\n",
       "iIiqqqrMzMwAAADC2JlRAAAAAXRSTlMAQObYZgAAABlJREFUCNdjYGBgKGOAgFRa0s7GxkrGxoYA\n",
       "QSUGlQeagkgAAAAASUVORK5CYII=\n",
       "\" style=\"display:inline;vertical-align:middle;\" /></a></span></td></tr>\n",
       "<tr><td>&nbsp;</td><td colspan=4 style=\"text-align:left\"><span style=\"font-size:20px;\"><a class=\"ProveItLink\" href=\"../../../../../../__pv_it/common/e4aad701f7f5516d8e7f0d805d518bf02c13322a0/expr.ipynb\"><img src=\"data:image/png;base64,iVBORw0KGgoAAAANSUhEUgAAAA8AAAAOBAMAAAACpFvcAAAALVBMVEX///8iIiIQEBBERERUVFS6\n",
       "urqIiIjc3NxmZmaqqqru7u6YmJgyMjLMzMwAAACK9jtgAAAAAXRSTlMAQObYZgAAAFtJREFUCNdj\n",
       "YACBOwxQcA5Kc59bAGGs7CuAMDbkBYBp1gXzNoAZSxnuJYAZAQx1DSCa16PDzwCshIGB6QCIMYGB\n",
       "gVEBSLMDGTwPgIxCIGZ+zsCw+N0pBk67hw0AfpEVEQi8t+wAAAAASUVORK5CYII=\n",
       "\" style=\"display:inline;vertical-align:middle;\" /></a> : <a class=\"ProveItLink\" href=\"../../../__pv_it/theorems/d4325c8af119c430c8d7d2a3d4da5401a1227aa10/expr.ipynb\"><img src=\"data:image/png;base64,iVBORw0KGgoAAAANSUhEUgAAAEAAAAAPBAMAAACmSdRUAAAAMFBMVEX///92dnYiIiIQEBBERERU\n",
       "VFS6urqIiIjc3NxmZmaqqqru7u6YmJgyMjLMzMwAAADiRdoGAAAAAXRSTlMAQObYZgAAAO5JREFU\n",
       "GNNjYACBtwxYwNH/kVNdEiDs+9gUMJgwMHD+A7N47m/AIs/3h4GB7SeYuWt+A0LcA8Zg/wHU+h3M\n",
       "PFCfgFDwBMZgMWBg2KwNYrFtWH8AoYBnApTBH8DApwq2exvD+wIQzakEBj+hCt7HHHdaAGYlMPRP\n",
       "QHIc1y0IXd/AwG0Kdm3kzHgHZOfvNQNTziBFICPYGBiYLyDJcwRC/PQVpABkN1ARkwHYDXchoAEe\n",
       "DAzxQO9xABXwfkAYwHYBEQx8X4CMJpCXfyC5ABqqvEBTk70ZGLb8v83A5f8J4Y04CMV6/+vMEC9s\n",
       "UdSAygUACNlBmGjrK1sAAAAASUVORK5CYII=\n",
       "\" style=\"display:inline;vertical-align:middle;\" /></a></span></td></tr><tr><td><a name=\"0xf35e6284edd4c65_step7\">7</a></td><td>theorem</td><td></td><td><span style=\"font-size:20px;\"> <a class=\"ProveItLink\" href=\"../../../../negation/_theory_nbs_/proofs/negation_contradiction/thm_proof.ipynb\" style=\"text-decoration: none\">&nbsp;&#x22A2;&nbsp;&nbsp;</a><a class=\"ProveItLink\" href=\"../../../../negation/__pv_it/theorems/c7513fda06010a7723fd74a5896c2aebcaad90630/expr.ipynb\"><img src=\"data:image/png;base64,iVBORw0KGgoAAAANSUhEUgAAAGsAAAAWBAMAAAA1LX8gAAAAMFBMVEX///8QEBCIiIhmZma6urrM\n",
       "zMxUVFQiIiJERETc3Nzu7u6qqqp2dnaYmJgyMjIAAAAcRTyBAAAAAXRSTlMAQObYZgAAATRJREFU\n",
       "OMtjYCAPPAARd0nQwLoBRJ4GEa9I0MatACJnADFnA8na+BYwMPBsIFkb76lVq6YzkKyN4UdHRw0Z\n",
       "2lIZGDrBDAjJApPmmICsGMGDanNm4AJHAu8XiDxM+r4DsjYED6qNnYHpAohe/BdFG5f9BSRdSDyo\n",
       "Np4L7GD6VDGKNp7lBkjakHhQbZwPwsCRr9CBoi2IAzkykXhQbQydKSCSjcEcRVsCcwGSNiQeTNtm\n",
       "sMhtBn1kbbwbmD6AHNfR0dEH56Fo4wfRXI/P9C9A0rbO5sQvqDo2JB5zeXmheHl5AshgkHLmBQzz\n",
       "A5C0WTFwfkVoQ+KhAl+grRcQ2liA7L8MMxZAtEF4WADHDwbO/lqEtv4GhhnfLwSCkzgnlIc3yXEg\n",
       "c4jPGcjauCeQpY2X+HzBTJQqAM5TTY2MQblbAAAAAElFTkSuQmCC\n",
       "\" style=\"display:inline;vertical-align:middle;\" /></a></span></td></tr>\n",
       "<tr><td>&nbsp;</td><td colspan=4 style-\"text-align:left\"><a class=\"ProveItLink\" href=\"../../../../negation/_theory_nbs_/proofs/negation_contradiction/thm_proof.ipynb\">proveit.logic.booleans.negation.negation_contradiction</a></td></tr><tr><td><a name=\"0xf35e6284edd4c65_step8\">8</a></td><td>deduction</td><td><a href=\"#0xf35e6284edd4c65_step10\">10</a></td><td><span style=\"font-size:20px;\"><a class=\"ProveItLink\" href=\"../../../../../../__pv_it/common/4eca3b30dcf58a58494e201d1b7886d8643a617b0/expr.ipynb\"><img src=\"data:image/png;base64,iVBORw0KGgoAAAANSUhEUgAAABAAAAAOBAMAAADUAYG5AAAALVBMVEX///8yMjKqqqoiIiLu7u7c\n",
       "3NyIiIjMzMwQEBC6urpERERmZmZUVFSYmJgAAACsPVCVAAAAAXRSTlMAQObYZgAAAGxJREFUCNdj\n",
       "YGC48+70nlUTGICgi4GB+zmQZn/LwMD5Gshge8rAwPsMyOBqYGDwMAEy+A4wsNs4ABl1Z68tVgBp\n",
       "ygtgYOkBMVaAOCChNyBGAsQYhnMTIMawvwJyGIHGzFjCwMAj92b3qUUMDAAXABxvZ4rl5AAAAABJ\n",
       "RU5ErkJggg==\n",
       "\" style=\"display:inline;vertical-align:middle;\" /></a> <a class=\"ProveItLink\" href=\"../../../__pv_it/_proof_negated_reflex/aa4cd64a4a197aa9d91b89714d74fd2ffa45c1370/proof.ipynb\" style=\"text-decoration: none\">&nbsp;&#x22A2;&nbsp;&nbsp;</a><a class=\"ProveItLink\" href=\"../../../__pv_it/theorems/d4325c8af119c430c8d7d2a3d4da5401a1227aa10/expr.ipynb\"><img src=\"data:image/png;base64,iVBORw0KGgoAAAANSUhEUgAAAEAAAAAPBAMAAACmSdRUAAAAMFBMVEX///92dnYiIiIQEBBERERU\n",
       "VFS6urqIiIjc3NxmZmaqqqru7u6YmJgyMjLMzMwAAADiRdoGAAAAAXRSTlMAQObYZgAAAO5JREFU\n",
       "GNNjYACBtwxYwNH/kVNdEiDs+9gUMJgwMHD+A7N47m/AIs/3h4GB7SeYuWt+A0LcA8Zg/wHU+h3M\n",
       "PFCfgFDwBMZgMWBg2KwNYrFtWH8AoYBnApTBH8DApwq2exvD+wIQzakEBj+hCt7HHHdaAGYlMPRP\n",
       "QHIc1y0IXd/AwG0Kdm3kzHgHZOfvNQNTziBFICPYGBiYLyDJcwRC/PQVpABkN1ARkwHYDXchoAEe\n",
       "DAzxQO9xABXwfkAYwHYBEQx8X4CMJpCXfyC5ABqqvEBTk70ZGLb8v83A5f8J4Y04CMV6/+vMEC9s\n",
       "UdSAygUACNlBmGjrK1sAAAAASUVORK5CYII=\n",
       "\" style=\"display:inline;vertical-align:middle;\" /></a></span></td></tr>\n",
       "<tr><td><a name=\"0xf35e6284edd4c65_step9\">9</a></td><td>assumption</td><td></td><td><span style=\"font-size:20px;\"><a class=\"ProveItLink\" href=\"../../../__pv_it/theorems/d26eae191e914fc353ccead38c44781cbedb3d660/expr.ipynb\"><img src=\"data:image/png;base64,iVBORw0KGgoAAAANSUhEUgAAAF8AAAAUBAMAAAAZ/fxpAAAAMFBMVEX///+6uroQEBCqqqqIiIgy\n",
       "MjJERETu7u6YmJjMzMxUVFTc3Nx2dnYiIiJmZmYAAAAutVgsAAAAAXRSTlMAQObYZgAAAWRJREFU\n",
       "KM9jYIAD7gYGQsAahVcGoaZiU9n1f92rNAEGrg3IgtEQKh6r2WoMDHw/GdgDkIQ4HkCo+AIs6jl/\n",
       "MDAw/mNgOIIkxguxrvg9wlo2OJPlN9CoLwwMRUga9kKoBn8BhLkJcK0KQMXXGRhYEZIMfmCSscAe\n",
       "KbD6YAz+BQyct4Bu5XmAkMwAk4UM8x1A9Nu7IHAfJj9/RUuuAciHARCZO0D2ZbCMAMN+JEMYTA0g\n",
       "tP8GBnYtIM18AcLfBcSKYFeve7c+AUkDexDE0UkgTUDNnB/QNDAyMDAhh/Wu0xD6F0iDA6oGsJOA\n",
       "hvAqgBhPQ8EgGhENDOuBljEiOQnkaW6gBtYPCAtEkaKB8xvE0xATgPgcNC7YfiN8EA5lsAJtFUoH\n",
       "MvgOIEyTBSa//+EMzPl/4cHENQFKx/96tywZrHMCRtJABtwYIrWYiQ8/QE58DNmE1aMkb1gGwgfY\n",
       "UJxNRBbtZmAAALGZW4fbrGcJAAAAAElFTkSuQmCC\n",
       "\" style=\"display:inline;vertical-align:middle;\" /></a> <a class=\"ProveItLink\" href=\"../../../__pv_it/_proof_negated_reflex/c0e64a48e1b82f082cdc6de0155c2633c34e302d0/proof.ipynb\" style=\"text-decoration: none\">&nbsp;&#x22A2;&nbsp;&nbsp;</a><a class=\"ProveItLink\" href=\"../../../__pv_it/theorems/d26eae191e914fc353ccead38c44781cbedb3d660/expr.ipynb\"><img src=\"data:image/png;base64,iVBORw0KGgoAAAANSUhEUgAAAF8AAAAUBAMAAAAZ/fxpAAAAMFBMVEX///+6uroQEBCqqqqIiIgy\n",
       "MjJERETu7u6YmJjMzMxUVFTc3Nx2dnYiIiJmZmYAAAAutVgsAAAAAXRSTlMAQObYZgAAAWRJREFU\n",
       "KM9jYIAD7gYGQsAahVcGoaZiU9n1f92rNAEGrg3IgtEQKh6r2WoMDHw/GdgDkIQ4HkCo+AIs6jl/\n",
       "MDAw/mNgOIIkxguxrvg9wlo2OJPlN9CoLwwMRUga9kKoBn8BhLkJcK0KQMXXGRhYEZIMfmCSscAe\n",
       "KbD6YAz+BQyct4Bu5XmAkMwAk4UM8x1A9Nu7IHAfJj9/RUuuAciHARCZO0D2ZbCMAMN+JEMYTA0g\n",
       "tP8GBnYtIM18AcLfBcSKYFeve7c+AUkDexDE0UkgTUDNnB/QNDAyMDAhh/Wu0xD6F0iDA6oGsJOA\n",
       "hvAqgBhPQ8EgGhENDOuBljEiOQnkaW6gBtYPCAtEkaKB8xvE0xATgPgcNC7YfiN8EA5lsAJtFUoH\n",
       "MvgOIEyTBSa//+EMzPl/4cHENQFKx/96tywZrHMCRtJABtwYIrWYiQ8/QE58DNmE1aMkb1gGwgfY\n",
       "UJxNRBbtZmAAALGZW4fbrGcJAAAAAElFTkSuQmCC\n",
       "\" style=\"display:inline;vertical-align:middle;\" /></a></span></td></tr>\n",
       "<tr><td><a name=\"0xf35e6284edd4c65_step10\">10</a></td><td>assumption</td><td></td><td><span style=\"font-size:20px;\"><a class=\"ProveItLink\" href=\"../../../../../../__pv_it/common/4eca3b30dcf58a58494e201d1b7886d8643a617b0/expr.ipynb\"><img src=\"data:image/png;base64,iVBORw0KGgoAAAANSUhEUgAAABAAAAAOBAMAAADUAYG5AAAALVBMVEX///8yMjKqqqoiIiLu7u7c\n",
       "3NyIiIjMzMwQEBC6urpERERmZmZUVFSYmJgAAACsPVCVAAAAAXRSTlMAQObYZgAAAGxJREFUCNdj\n",
       "YGC48+70nlUTGICgi4GB+zmQZn/LwMD5Gshge8rAwPsMyOBqYGDwMAEy+A4wsNs4ABl1Z68tVgBp\n",
       "ygtgYOkBMVaAOCChNyBGAsQYhnMTIMawvwJyGIHGzFjCwMAj92b3qUUMDAAXABxvZ4rl5AAAAABJ\n",
       "RU5ErkJggg==\n",
       "\" style=\"display:inline;vertical-align:middle;\" /></a> <a class=\"ProveItLink\" href=\"../../../__pv_it/_proof_negated_reflex/3e8afd290a1b666c207657aea8e3c78144a9f44f0/proof.ipynb\" style=\"text-decoration: none\">&nbsp;&#x22A2;&nbsp;&nbsp;</a><a class=\"ProveItLink\" href=\"../../../../../../__pv_it/common/4eca3b30dcf58a58494e201d1b7886d8643a617b0/expr.ipynb\"><img src=\"data:image/png;base64,iVBORw0KGgoAAAANSUhEUgAAABAAAAAOBAMAAADUAYG5AAAALVBMVEX///8yMjKqqqoiIiLu7u7c\n",
       "3NyIiIjMzMwQEBC6urpERERmZmZUVFSYmJgAAACsPVCVAAAAAXRSTlMAQObYZgAAAGxJREFUCNdj\n",
       "YGC48+70nlUTGICgi4GB+zmQZn/LwMD5Gshge8rAwPsMyOBqYGDwMAEy+A4wsNs4ABl1Z68tVgBp\n",
       "ygtgYOkBMVaAOCChNyBGAsQYhnMTIMawvwJyGIHGzFjCwMAj92b3qUUMDAAXABxvZ4rl5AAAAABJ\n",
       "RU5ErkJggg==\n",
       "\" style=\"display:inline;vertical-align:middle;\" /></a></span></td></tr>\n",
       "</table>"
      ],
      "text/plain": [
       "\tstep type\trequirements\tstatement\n",
       "0\tgeneralizaton\t1\t|- forall_{A, B | not(A => B)} (B => A)\n",
       "1\tinstantiation\t2, 3\t{not(A => B)} |- B => A\n",
       "\tA : B, B : A\n",
       "2\ttheorem\t\t|- forall_{A, B | A != TRUE} (A => B)\n",
       "\tproveit.logic.booleans.implication.untrue_antecedent_implication\n",
       "3\tinstantiation\t4, 5\t{not(A => B)} |- B != TRUE\n",
       "\tA : B\n",
       "4\ttheorem\t\t|- forall_{A | A => FALSE} (A != TRUE)\n",
       "\tproveit.logic.booleans.implication.not_true_via_contradiction\n",
       "5\tdeduction\t6\t{not(A => B)} |- B => FALSE\n",
       "6\tinstantiation\t7, 8, 9\t{B, not(A => B)} |- FALSE\n",
       "\tA : A => B\n",
       "7\ttheorem\t\t|- forall_{A | A, not(A)} FALSE\n",
       "\tproveit.logic.booleans.negation.negation_contradiction\n",
       "8\tdeduction\t10\t{B} |- A => B\n",
       "9\tassumption\t\t{not(A => B)} |- not(A => B)\n",
       "10\tassumption\t\t{B} |- B"
      ]
     },
     "execution_count": 13,
     "metadata": {},
     "output_type": "execute_result"
    }
   ],
   "source": [
    "%qed"
   ]
  }
 ],
 "metadata": {
  "kernelspec": {
   "display_name": "Python 3",
   "language": "python",
   "name": "python3"
  }
 },
 "nbformat": 4,
 "nbformat_minor": 0
}