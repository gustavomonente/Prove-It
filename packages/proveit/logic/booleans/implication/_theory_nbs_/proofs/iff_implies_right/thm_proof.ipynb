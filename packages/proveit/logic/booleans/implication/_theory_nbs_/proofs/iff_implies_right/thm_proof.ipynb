{
 "cells": [
  {
   "cell_type": "markdown",
   "metadata": {},
   "source": [
    "Proof of <a class=\"ProveItLink\" href=\"../../../../../../_theory_nbs_/theory.ipynb\">proveit</a>.<a class=\"ProveItLink\" href=\"../../../../../_theory_nbs_/theory.ipynb\">logic</a>.<a class=\"ProveItLink\" href=\"../../../../_theory_nbs_/theory.ipynb\">booleans</a>.<a class=\"ProveItLink\" href=\"../../theory.ipynb\">implication</a>.<a class=\"ProveItLink\" href=\"../../theorems.ipynb#iff_implies_right\">iff_implies_right</a> theorem\n",
    "========"
   ]
  },
  {
   "cell_type": "code",
   "execution_count": 1,
   "metadata": {},
   "outputs": [],
   "source": [
    "import proveit\n",
    "from proveit import A, B\n",
    "from proveit.logic.booleans.implication  import iff_def\n",
    "from proveit.logic.booleans.conjunction import left_from_and\n",
    "from proveit.logic.equality import rhs_via_equality\n",
    "theory = proveit.Theory() # the theorem's theory"
   ]
  },
  {
   "cell_type": "code",
   "execution_count": 2,
   "metadata": {},
   "outputs": [
    {
     "data": {
      "text/html": [
       "Under these <a href=\"presumptions.txt\">presumptions</a>, we begin our proof of<br><strong id=\"iff_implies_right\">iff_implies_right:</strong> <a class=\"ProveItLink\" href=\"../../../__pv_it/theorems/e051e9c0e004bf997384d6e7d40ca0c4ac6d9ea50/expr.ipynb\"><img src=\"data:image/png;base64,iVBORw0KGgoAAAANSUhEUgAAAMEAAAAWBAMAAACLV+U4AAAAMFBMVEX///8QEBCIiIhmZma6urrM\n",
       "zMxUVFQiIiJERETc3Nzu7u6qqqp2dnaYmJgyMjIAAAAcRTyBAAAAAXRSTlMAQObYZgAAAuJJREFU\n",
       "SMetVUFoE0EUfe5u2uwmaXsQFBQJXuxFG12MIsUGvBRBGzxUbw1opYhotAcRFSMW2YqQeLIo0i0e\n",
       "CjnEQC/2ZKwHpYqsehKpTfFWQUtja5ui9c/sbjKNacXUD7vz5//Zef+//2cHWIc8/OuKUXryTJmo\n",
       "CUBL8MGTr+ILnJ/Xe/pQlwJesfl0TQgNKXuYqebcQPBtUY3QB2imJmpCeG8Pn4rVnF0W0BHCGEVg\n",
       "Av5sTQiXba5GFsum/pLWQglOBjFEhI2n0/dqAlDjNuPS97LtREm7QdibTDREgAXDuFoTghTiw2Hf\n",
       "T6HAIVebB46fIXrI0O3mZr/bC897eAUVd603Vd5BSbaGXSa8Ficp4pllo3yJS8FxeuYnmq8wSCr1\n",
       "IWi83QJ2soEm+Jv4Bu6ukxEh8LfAM0etz9qBqAXB7/viJEjFGYrRnKish8SDeWQnK8fgK4oIWpsl\n",
       "7BAGnppOP3LkTj28IHKX2WgnSFFKS5QLtbLfque28V47siDkvIjgHyYqtRDUHJtdBA5CRKDXNrH8\n",
       "Z21OGyl+adZGUPOdnLigwV2Po9hligjHvHRa2NncyxKagzQtsuSj5wLP/astqfJxqCPeFdZw/aeY\n",
       "qQ77uKtjZ3MMIkJMpkW7DcOYoo+V2Xe3IFb6AT3fhE7IC8ehK2FXGiO8rz+ihbveADtEhEBWmkE7\n",
       "J2SPCX8eUtylL+SciWS52TJOjTBFaJtpIjNuG4Ms/c+vk9x7BxjMCgiZ1pdFnObq0Qi8OahLbrxx\n",
       "aMlfJp4s95YQup3x3PLJsMG2aYiyKNnOsolBNgF935ESEA5AnYN6U9f1/RROYxbK4sq/xgpJVRqG\n",
       "S9oR+tpSb0MtQt0qsKQQ2dTGmfvp9HaaDpq4m6v4860pY6WqLUBNXvNswYuC3hMREJIJDPywoOT4\n",
       "beC/rof7UO2wr3aFVN4dPkH3rvBEoZmr3EBryR9BjK6KUOMt+qHSYP0bwjpF/k/7/AaZ/L6AobDC\n",
       "HgAAAABJRU5ErkJggg==\n",
       "\" style=\"display:inline;vertical-align:middle;\" /></a><br>(see <a class=\"ProveItLink\" href=\"../../../__pv_it/theorems/6d57ffd382867371a69df899ecf6cde046586eb20/dependencies.ipynb\">dependencies</a>)<br>"
      ],
      "text/plain": [
       "iff_implies_right: forall_{A, B | A <=> B} (A => B)"
      ]
     },
     "execution_count": 2,
     "metadata": {},
     "output_type": "execute_result"
    }
   ],
   "source": [
    "%proving iff_implies_right"
   ]
  },
  {
   "cell_type": "code",
   "execution_count": 3,
   "metadata": {},
   "outputs": [
    {
     "data": {
      "text/html": [
       "<span style=\"font-size:20px;\"> <a class=\"ProveItLink\" href=\"../../axioms.ipynb#iff_def\" style=\"text-decoration: none\">&nbsp;&#x22A2;&nbsp;&nbsp;</a><a class=\"ProveItLink\" href=\"../../../__pv_it/axioms/0cd5738fd7a3109ea2cf798d3a1f4edab4dd47c70/expr.ipynb\"><img src=\"data:image/png;base64,iVBORw0KGgoAAAANSUhEUgAAAXkAAAAVBAMAAABRbIObAAAAMFBMVEX///8QEBCIiIhmZma6urrM\n",
       "zMxUVFQiIiJERETc3Nzu7u6qqqp2dnaYmJgyMjIAAAAcRTyBAAAAAXRSTlMAQObYZgAAA8xJREFU\n",
       "SMfVl09oE0EUxj+TbNNNmrQHUUGRgAe9aAuFetOoB0VQ40U8aUALRRQrQgtWUU+2/iF7qoJgVxQs\n",
       "FarQi15U9CBakaCgFFEiHqQKtjRaa6XW+fdmk+0kTVsvfvC1Yd/8Zt/OvJnZBcrJzkrPovv/jqyQ\n",
       "Ief4hfclGvYqM+0zxd9MH2jqTKLK+WdkrxczyWLpcoY8yC9+KZH9sDLTiLHBMiD4A5HcgkmngFMx\n",
       "k+KjEAz5Cp+uM+bkYw3S/OeIaxqKKSCUBx4vmPzkcTpm0IdJSEY5zvquuWvOPuxIM93eqEYnzryH\n",
       "GgR+sRuOAdcrIbm6SpDWOVdzOqZU7fGRARYSjHLseV/f5RKFc1mZKVuvCnEt7y9FHdexPk6wR0pW\n",
       "QHLthZms2pzQnI7RNHmVEQt8h2TIE52dJ0tkv0qZTaT7MOt1FaF1UpuG1cYnr2F20qsMA9mPVs3p\n",
       "GOm1/rU9yopKMORmmk/5d1v+SQtN1SVl4Cb2y8HZvbSdaaXqe/+RV+d41cX44qv5JtRgJoPtQlTO\n",
       "RSTfOwb1HXUMWC+Y0/TIkaQ1phjyFrXwY9/l6NShpk617lAGkugRXQQOyRm4IBvUO4gsYf+jrb6x\n",
       "n0kqRb8ayVZc05yOaT1Q6zIEO68YchgBMbU3pkSLYBrRSUUtVoZ1oPGoKJk2WpWyFs/ye7GurVFf\n",
       "9jNIrf7FBjKWQFWKOB3zFutHuTr2NDZNQDLkmmxYhJ4fl3klEMz5cwgBi8TF7keyu8OywTi/T6Jc\n",
       "9pqks/SwYyDDLqy0zp5iWt3PoOYRK33Z2zmxAVqJTtHiTgrrXP/8s4EIy3J6K2r7c0pv2jjK+gy1\n",
       "enWfNpNBGf3mGEgM0DnVURgDNkhGHXtR5mOQDBldB8WehfWiya61a9LwrVr7rjzlaNOIDHubtjXh\n",
       "rT1PBlJWbs5IDqsnEIyOkXaq/1fVwV24ajEgHv8d6kWTl8Bqwp4o8124+pe8xh81qIoyzkZ103l+\n",
       "4ZEvexMpqt41kWIbDruK0TGqerU/2zzPjCMZMmp5iUU+vciIni8CPbRitkr3Tn9BNPOTdmb5dsGn\n",
       "a2S8sUXsPvGUL3sTydVsJKt4mQQSkvFiSnI9I5L54+Le9HHJkBHjWQdd9IhWv1nxODPPe2/ZMff5\n",
       "j7VbZd4UiuQYyZD4mYKZsU3MraK77mBzkLXPw56EvcLwrlVe5d7S5kRWzDwuZKsnYGdOWcvxNN/Y\n",
       "kix6qeqavTvDG/J8yQoZcpGipb8xyqm67NfJnMgKGXLZD7UKv++G5v1lODSPL8OhAhcpi/9LfwF9\n",
       "GoUpN6fzvwAAAABJRU5ErkJggg==\n",
       "\" style=\"display:inline;vertical-align:middle;\" /></a></span>"
      ],
      "text/plain": [
       "|- forall_{A, B} ((A <=> B) = ((A => B) and (B => A)))"
      ]
     },
     "execution_count": 3,
     "metadata": {},
     "output_type": "execute_result"
    }
   ],
   "source": [
    "iff_def"
   ]
  },
  {
   "cell_type": "code",
   "execution_count": 4,
   "metadata": {},
   "outputs": [
    {
     "data": {
      "text/html": [
       "<strong id=\"iff_def_spec\">iff_def_spec:</strong> <span style=\"font-size:20px;\"> <a class=\"ProveItLink\" href=\"../../../__pv_it/_proof_iff_implies_right/ee3fbe5fe7f4218232ac306318ae323bf257bd2c0/proof.ipynb\" style=\"text-decoration: none\">&nbsp;&#x22A2;&nbsp;&nbsp;</a><a class=\"ProveItLink\" href=\"../../../__pv_it/axioms/86b5f320ac0b97a0e1b657dd28f655aec5285f110/expr.ipynb\"><img src=\"data:image/png;base64,iVBORw0KGgoAAAANSUhEUgAAATEAAAAUBAMAAAAXXRdqAAAAMFBMVEX///9UVFTMzMx2dna6uroQ\n",
       "EBCqqqqIiIgiIiJmZmYyMjJERETu7u6YmJjc3NwAAAC+aOQFAAAAAXRSTlMAQObYZgAAA5pJREFU\n",
       "SMedVk1IVFEUPu81zozNT5Ir+9N2kYtxVdgiZhNFBBlMELmZZRbUtJQWMwWK/VAjQWQbLTJIRCUq\n",
       "hDInyJBxM60iIXttQoIoQzIztXvPuX++eY0zHjnznvfc753v3HvuORcgWoD15LzH2DehFSLL8OZ3\n",
       "BG6K/t/rNendal33izhYTpElPELKxO7zQEbq53q2Py1GTmmbp3Aau4BwQzQ07DmxFaD6J4SLfW92\n",
       "SPnrDy9kFaPd26CQkuGQtnk65DTygB4jWYpxOOcxz14G8C0C7C+yfBDKZPqvl4sY27bjWYV8LJYy\n",
       "a9i8lprT2JRCj0GK5m2vjIqxtWvEe2CFTV4AmCj6xE2hLLy2FT38Sr2l2fc+pSTSHqXAyZuwCQkZ\n",
       "O440wi3ocZaGCum4IMNT9IkE8Tk32IbF3YmcIeVhBub1eKN6e8Y8nMpJpHWYiMyaNrkxIxpPNB6i\n",
       "x3Yc8eUuFIxv5wVsSw3Yl/n6upc+kCVlcsy/bOyGmjgHsGeHQuaBwmg3bWZmgEmjGXFjOPQGYhSU\n",
       "fbKLScegSJad70eT3CEm8oEBLpgxoQIpCz5uL/BndRfKolyIuY+XOhUS9rE/LmOmDeAuYm6pcASN\n",
       "acTRlDh8J/NFWq3GpEyW8AleYjKuNQsmSVmYEF00i9EjnaETNQqZga/47DRtSs4mxYugcQZxCYyi\n",
       "rqced3tSAq7LhIA0g9nuwlAVJwXY3dO9ZFryCZWhgV8SGUmBhVUiYdp0ceynbJQ0YohLUOBQhcse\n",
       "raW5r5tkQkA6VZIZ+zltHo1aR2YoBBYkMpgT5z1h2pR8PijSTNAgZri+fG9aKIWvYTJdUeUM6plv\n",
       "X0bn2f01u+ln2oF5NkDi6HJmzUtkm6yxnaYN4B5hRLFXNI4gjudkNKkrOR6UvKOSxV7SeaxFnYAv\n",
       "a9uHr88oZ7ERiRwS7OgESJuUo3K9JQ06Ac2iyoREvbT4Ht0RLYgFcOglX5AmFzNeDLhiTRvXpVKW\n",
       "G+hnLFtzAokVK5ijeqBtMstEIdA0biOOrdzU6iD4x3/T4eQdK0oBWcOs8z5Hiu4mxzeJaXj8Tw7O\n",
       "rV5V41vFcxu/CiQlEqMNpGiftE2IJT6uaTxAXNB9G+Dtwd1DJ0t0JzfYA+nD1wbVnVz9pOgek0Fc\n",
       "JAvrS8mOXgmyLG+ioxtN+L/icQvibTjkVI4sw5u8BcmbYykJlbw5VoQswxtnj7gy7r8zG75tz2zg\n",
       "th1xEPcPr/tEHfZflmoAAAAASUVORK5CYII=\n",
       "\" style=\"display:inline;vertical-align:middle;\" /></a></span><br>"
      ],
      "text/plain": [
       "iff_def_spec: |- (A <=> B) = ((A => B) and (B => A))"
      ]
     },
     "execution_count": 4,
     "metadata": {},
     "output_type": "execute_result"
    }
   ],
   "source": [
    "iff_def_spec = iff_def.instantiate({A:A, B:B})"
   ]
  },
  {
   "cell_type": "code",
   "execution_count": 5,
   "metadata": {},
   "outputs": [
    {
     "data": {
      "text/html": [
       "<span style=\"font-size:20px;\"><a class=\"ProveItLink\" href=\"../../../__pv_it/axioms/e95e5f69263d4c6cfbc6bb3b223a4060b72917d60/expr.ipynb\"><img src=\"data:image/png;base64,iVBORw0KGgoAAAANSUhEUgAAAEAAAAAPBAMAAACmSdRUAAAAMFBMVEX///92dnYiIiIQEBBERERU\n",
       "VFS6urqIiIjc3NxmZmaqqqru7u6YmJgyMjLMzMwAAADiRdoGAAAAAXRSTlMAQObYZgAAAQpJREFU\n",
       "GNNjYACBtwxYwNH/kVNdEiDs+9gUMJgwMHD+A7N47m/AIs/3h4GB7SeYuWt+A1TwAlA8AMpm/wHU\n",
       "+h3MPFAPtYr9AJDwgypgMWBg2KwNYrFtWH8AIvYEROyF2scfwMCnCmZvY3hfALHVWAkIlG9DFLyP\n",
       "Oe60AMxKYOifAGaUQvQ+gQjXNzBwm4L1Rc6MdwAxNsGcpwImnUGKQGrZGBiYL4BEOAIh8lsFwNRX\n",
       "kAKQ3UBFTAaQ8NC9CwJ68GBgiAd6jwOogPcDRO9JsC8a4MHA9wXIaAJ5+QdEASsoPGZB2LxAU5O9\n",
       "GRi2/L/NwOX/CeINbqBbOBwgau9/nRnihRH+QNO5UeMFAE9FRwBt4bk1AAAAAElFTkSuQmCC\n",
       "\" style=\"display:inline;vertical-align:middle;\" /></a> <a class=\"ProveItLink\" href=\"../../../__pv_it/_proof_iff_implies_right/dbf2f051786170e4d6d9aab74e1b68430ef713ec0/proof.ipynb\" style=\"text-decoration: none\">&nbsp;&#x22A2;&nbsp;&nbsp;</a><a class=\"ProveItLink\" href=\"../../../__pv_it/axioms/9fb6b166895505172ae956c828809d363bcff2a30/expr.ipynb\"><img src=\"data:image/png;base64,iVBORw0KGgoAAAANSUhEUgAAAEAAAAAPBAMAAACmSdRUAAAAMFBMVEX///92dnYiIiIQEBBERERU\n",
       "VFS6urqIiIjc3NxmZmaqqqru7u6YmJgyMjLMzMwAAADiRdoGAAAAAXRSTlMAQObYZgAAAO5JREFU\n",
       "GNNjYACBtwxYwNH/kVNdEiDs+9gUMJgwMHD+A7N47m/AIs/3h4GB7SeYuWt+A0LcA8Zg/wHU+h3M\n",
       "PFCfgFDwBMZgMWBg2KwNYrFtWH8AoYBnApTBH8DApwq2exvD+wIQzakEBj+hCt7HHHdaAGYlMPRP\n",
       "QHIc1y0IXd/AwG0Kdm3kzHgHZOfvNQNTziBFICPYGBiYLyDJcwRC/PQVpABkN1ARkwHYDXchoAEe\n",
       "DAzxQO9xABXwfkAYwHYBEQx8X4CMJpCXfyC5ABqqvEBTk70ZGLb8v83A5f8J4Y04CMV6/+vMEC9s\n",
       "UdSAygUACNlBmGjrK1sAAAAASUVORK5CYII=\n",
       "\" style=\"display:inline;vertical-align:middle;\" /></a></span>"
      ],
      "text/plain": [
       "{A <=> B} |- A => B"
      ]
     },
     "execution_count": 5,
     "metadata": {},
     "output_type": "execute_result"
    }
   ],
   "source": [
    "iff_def_spec.derive_right_via_equality(iff_implies_right.conditions).derive_left()"
   ]
  },
  {
   "cell_type": "code",
   "execution_count": 6,
   "metadata": {},
   "outputs": [
    {
     "data": {
      "text/html": [
       "<table><tr><th>&nbsp;</th><th>step type</th><th>requirements</th><th>statement</th></tr>\n",
       "<tr><td><a name=\"0x9b46c2b55066ee3_step0\">0</a></td><td>generalizaton</td><td><a href=\"#0x9b46c2b55066ee3_step1\">1</a></td><td><span style=\"font-size:20px;\"> <a class=\"ProveItLink\" href=\"../../../__pv_it/_proof_iff_implies_right/b29e2df25f3f570f6fcdd1c1f7252dbaf63853ba0/proof.ipynb\" style=\"text-decoration: none\">&nbsp;&#x22A2;&nbsp;&nbsp;</a><a class=\"ProveItLink\" href=\"../../../__pv_it/theorems/e051e9c0e004bf997384d6e7d40ca0c4ac6d9ea50/expr.ipynb\"><img src=\"data:image/png;base64,iVBORw0KGgoAAAANSUhEUgAAAMEAAAAWBAMAAACLV+U4AAAAMFBMVEX///8QEBCIiIhmZma6urrM\n",
       "zMxUVFQiIiJERETc3Nzu7u6qqqp2dnaYmJgyMjIAAAAcRTyBAAAAAXRSTlMAQObYZgAAAuJJREFU\n",
       "SMetVUFoE0EUfe5u2uwmaXsQFBQJXuxFG12MIsUGvBRBGzxUbw1opYhotAcRFSMW2YqQeLIo0i0e\n",
       "CjnEQC/2ZKwHpYqsehKpTfFWQUtja5ui9c/sbjKNacXUD7vz5//Zef+//2cHWIc8/OuKUXryTJmo\n",
       "CUBL8MGTr+ILnJ/Xe/pQlwJesfl0TQgNKXuYqebcQPBtUY3QB2imJmpCeG8Pn4rVnF0W0BHCGEVg\n",
       "Av5sTQiXba5GFsum/pLWQglOBjFEhI2n0/dqAlDjNuPS97LtREm7QdibTDREgAXDuFoTghTiw2Hf\n",
       "T6HAIVebB46fIXrI0O3mZr/bC897eAUVd603Vd5BSbaGXSa8Ficp4pllo3yJS8FxeuYnmq8wSCr1\n",
       "IWi83QJ2soEm+Jv4Bu6ukxEh8LfAM0etz9qBqAXB7/viJEjFGYrRnKish8SDeWQnK8fgK4oIWpsl\n",
       "7BAGnppOP3LkTj28IHKX2WgnSFFKS5QLtbLfque28V47siDkvIjgHyYqtRDUHJtdBA5CRKDXNrH8\n",
       "Z21OGyl+adZGUPOdnLigwV2Po9hligjHvHRa2NncyxKagzQtsuSj5wLP/astqfJxqCPeFdZw/aeY\n",
       "qQ77uKtjZ3MMIkJMpkW7DcOYoo+V2Xe3IFb6AT3fhE7IC8ehK2FXGiO8rz+ihbveADtEhEBWmkE7\n",
       "J2SPCX8eUtylL+SciWS52TJOjTBFaJtpIjNuG4Ms/c+vk9x7BxjMCgiZ1pdFnObq0Qi8OahLbrxx\n",
       "aMlfJp4s95YQup3x3PLJsMG2aYiyKNnOsolBNgF935ESEA5AnYN6U9f1/RROYxbK4sq/xgpJVRqG\n",
       "S9oR+tpSb0MtQt0qsKQQ2dTGmfvp9HaaDpq4m6v4860pY6WqLUBNXvNswYuC3hMREJIJDPywoOT4\n",
       "beC/rof7UO2wr3aFVN4dPkH3rvBEoZmr3EBryR9BjK6KUOMt+qHSYP0bwjpF/k/7/AaZ/L6AobDC\n",
       "HgAAAABJRU5ErkJggg==\n",
       "\" style=\"display:inline;vertical-align:middle;\" /></a></span></td></tr>\n",
       "<tr><td><a name=\"0x9b46c2b55066ee3_step1\">1</a></td><td>instantiation</td><td><a href=\"#0x9b46c2b55066ee3_step2\">2</a>, <a href=\"#0x9b46c2b55066ee3_step3\">3</a></td><td><span style=\"font-size:20px;\"><a class=\"ProveItLink\" href=\"../../../__pv_it/axioms/e95e5f69263d4c6cfbc6bb3b223a4060b72917d60/expr.ipynb\"><img src=\"data:image/png;base64,iVBORw0KGgoAAAANSUhEUgAAAEAAAAAPBAMAAACmSdRUAAAAMFBMVEX///92dnYiIiIQEBBERERU\n",
       "VFS6urqIiIjc3NxmZmaqqqru7u6YmJgyMjLMzMwAAADiRdoGAAAAAXRSTlMAQObYZgAAAQpJREFU\n",
       "GNNjYACBtwxYwNH/kVNdEiDs+9gUMJgwMHD+A7N47m/AIs/3h4GB7SeYuWt+A1TwAlA8AMpm/wHU\n",
       "+h3MPFAPtYr9AJDwgypgMWBg2KwNYrFtWH8AIvYEROyF2scfwMCnCmZvY3hfALHVWAkIlG9DFLyP\n",
       "Oe60AMxKYOifAGaUQvQ+gQjXNzBwm4L1Rc6MdwAxNsGcpwImnUGKQGrZGBiYL4BEOAIh8lsFwNRX\n",
       "kAKQ3UBFTAaQ8NC9CwJ68GBgiAd6jwOogPcDRO9JsC8a4MHA9wXIaAJ5+QdEASsoPGZB2LxAU5O9\n",
       "GRi2/L/NwOX/CeINbqBbOBwgau9/nRnihRH+QNO5UeMFAE9FRwBt4bk1AAAAAElFTkSuQmCC\n",
       "\" style=\"display:inline;vertical-align:middle;\" /></a> <a class=\"ProveItLink\" href=\"../../../__pv_it/_proof_iff_implies_right/dbf2f051786170e4d6d9aab74e1b68430ef713ec0/proof.ipynb\" style=\"text-decoration: none\">&nbsp;&#x22A2;&nbsp;&nbsp;</a><a class=\"ProveItLink\" href=\"../../../__pv_it/axioms/9fb6b166895505172ae956c828809d363bcff2a30/expr.ipynb\"><img src=\"data:image/png;base64,iVBORw0KGgoAAAANSUhEUgAAAEAAAAAPBAMAAACmSdRUAAAAMFBMVEX///92dnYiIiIQEBBERERU\n",
       "VFS6urqIiIjc3NxmZmaqqqru7u6YmJgyMjLMzMwAAADiRdoGAAAAAXRSTlMAQObYZgAAAO5JREFU\n",
       "GNNjYACBtwxYwNH/kVNdEiDs+9gUMJgwMHD+A7N47m/AIs/3h4GB7SeYuWt+A0LcA8Zg/wHU+h3M\n",
       "PFCfgFDwBMZgMWBg2KwNYrFtWH8AoYBnApTBH8DApwq2exvD+wIQzakEBj+hCt7HHHdaAGYlMPRP\n",
       "QHIc1y0IXd/AwG0Kdm3kzHgHZOfvNQNTziBFICPYGBiYLyDJcwRC/PQVpABkN1ARkwHYDXchoAEe\n",
       "DAzxQO9xABXwfkAYwHYBEQx8X4CMJpCXfyC5ABqqvEBTk70ZGLb8v83A5f8J4Y04CMV6/+vMEC9s\n",
       "UdSAygUACNlBmGjrK1sAAAAASUVORK5CYII=\n",
       "\" style=\"display:inline;vertical-align:middle;\" /></a></span></td></tr>\n",
       "<tr><td>&nbsp;</td><td colspan=4 style=\"text-align:left\"><span style=\"font-size:20px;\"><a class=\"ProveItLink\" href=\"../../../../../../__pv_it/common/09585084922504426caf1db2ff588a23a0932a960/expr.ipynb\"><img src=\"data:image/png;base64,iVBORw0KGgoAAAANSUhEUgAAAA8AAAAOBAMAAAACpFvcAAAALVBMVEX///8iIiIQEBBERERUVFS6\n",
       "urqIiIjc3NxmZmaqqqru7u6YmJgyMjLMzMwAAACK9jtgAAAAAXRSTlMAQObYZgAAAFtJREFUCNdj\n",
       "YACBOwxQcA5Kc59bAGGs7CuAMDbkBYBp1gXzNoAZSxnuJYAZAQx1DSCa16PDzwCshIGB6QCIMYGB\n",
       "gVEBSLMDGTwPgIxCIGZ+zsCw+N0pBk67hw0AfpEVEQi8t+wAAAAASUVORK5CYII=\n",
       "\" style=\"display:inline;vertical-align:middle;\" /></a> : <a class=\"ProveItLink\" href=\"../../../__pv_it/axioms/9fb6b166895505172ae956c828809d363bcff2a30/expr.ipynb\"><img src=\"data:image/png;base64,iVBORw0KGgoAAAANSUhEUgAAAEAAAAAPBAMAAACmSdRUAAAAMFBMVEX///92dnYiIiIQEBBERERU\n",
       "VFS6urqIiIjc3NxmZmaqqqru7u6YmJgyMjLMzMwAAADiRdoGAAAAAXRSTlMAQObYZgAAAO5JREFU\n",
       "GNNjYACBtwxYwNH/kVNdEiDs+9gUMJgwMHD+A7N47m/AIs/3h4GB7SeYuWt+A0LcA8Zg/wHU+h3M\n",
       "PFCfgFDwBMZgMWBg2KwNYrFtWH8AoYBnApTBH8DApwq2exvD+wIQzakEBj+hCt7HHHdaAGYlMPRP\n",
       "QHIc1y0IXd/AwG0Kdm3kzHgHZOfvNQNTziBFICPYGBiYLyDJcwRC/PQVpABkN1ARkwHYDXchoAEe\n",
       "DAzxQO9xABXwfkAYwHYBEQx8X4CMJpCXfyC5ABqqvEBTk70ZGLb8v83A5f8J4Y04CMV6/+vMEC9s\n",
       "UdSAygUACNlBmGjrK1sAAAAASUVORK5CYII=\n",
       "\" style=\"display:inline;vertical-align:middle;\" /></a>, <a class=\"ProveItLink\" href=\"../../../../../../__pv_it/common/a9162d1c3cc0470c02e5daf414500903a7a419230/expr.ipynb\"><img src=\"data:image/png;base64,iVBORw0KGgoAAAANSUhEUgAAABAAAAAOBAMAAADUAYG5AAAALVBMVEX///8yMjKqqqoiIiLu7u7c\n",
       "3NyIiIjMzMwQEBC6urpERERmZmZUVFSYmJgAAACsPVCVAAAAAXRSTlMAQObYZgAAAGxJREFUCNdj\n",
       "YGC48+70nlUTGICgi4GB+zmQZn/LwMD5Gshge8rAwPsMyOBqYGDwMAEy+A4wsNs4ABl1Z68tVgBp\n",
       "ygtgYOkBMVaAOCChNyBGAsQYhnMTIMawvwJyGIHGzFjCwMAj92b3qUUMDAAXABxvZ4rl5AAAAABJ\n",
       "RU5ErkJggg==\n",
       "\" style=\"display:inline;vertical-align:middle;\" /></a> : <a class=\"ProveItLink\" href=\"../../../__pv_it/axioms/db1fa03cf71e75f8db9f390d2d4f9502454804800/expr.ipynb\"><img src=\"data:image/png;base64,iVBORw0KGgoAAAANSUhEUgAAAEAAAAAPBAMAAACmSdRUAAAAMFBMVEX///92dnYyMjKqqqoiIiLu\n",
       "7u7c3NyIiIjMzMwQEBC6urpERERmZmZUVFSYmJgAAADEjrHzAAAAAXRSTlMAQObYZgAAAOpJREFU\n",
       "GNNjYGB4+//O2d0LGLABDgUwNZuBgecHVgVMH8DK/jEwcP3BquDRVxDJ/o2Bge87XJA7Ac5ktfkG\n",
       "FpnAwBDpirB3A5zJx/4LRPFfYODwDUCY+wbOWsr8D0T133u+xQAscMQFBPwPwGxYwAG2uT6BgXUu\n",
       "stOMIMoZuBjYwG7fCVJkgKSAVRMSKr1nzv4G0X9BCgqQFOSKQWigsknQYGC4D9ZzSAkM1CDyzEDs\n",
       "CQ0Gjt9IBiyC0slArA8KTmAwrNyK5AJVCM3mACT2JzDw6v89c3szkgG8DRB1+z8FMFj/98EMfzZU\n",
       "LgBdXD0b6P4qzAAAAABJRU5ErkJggg==\n",
       "\" style=\"display:inline;vertical-align:middle;\" /></a></span></td></tr><tr><td><a name=\"0x9b46c2b55066ee3_step2\">2</a></td><td>theorem</td><td></td><td><span style=\"font-size:20px;\"> <a class=\"ProveItLink\" href=\"../../../../conjunction/_theory_nbs_/proofs/left_from_and/thm_proof.ipynb\" style=\"text-decoration: none\">&nbsp;&#x22A2;&nbsp;&nbsp;</a><a class=\"ProveItLink\" href=\"../../../../conjunction/__pv_it/theorems/bc53d2618bb8ec232213c4beb6b502372de7d58f0/expr.ipynb\"><img src=\"data:image/png;base64,iVBORw0KGgoAAAANSUhEUgAAAHMAAAAWBAMAAAABVL48AAAAMFBMVEX///8QEBCIiIhmZma6urrM\n",
       "zMxUVFQiIiJERETc3Nzu7u6qqqp2dnaYmJgyMjIAAAAcRTyBAAAAAXRSTlMAQObYZgAAAchJREFU\n",
       "OMudkz1IAzEUx//2qm3au+quQzdd/IBCBSm24OIiVQdHLajgpuiq6CDSinB1slsPFJQKeuDkpOKg\n",
       "qMjpKmLBzUXxA1tFNHnnQQa1nAfJS/7v/ZJc3gvw/68oumvX2CBvp2Jw5xq95y3HG5tzS2r3BhDi\n",
       "TTXdopvxLOdPCoUV1+e1WhO8L6XT025Jr7FncTMKZGhu991Ph2NZcjtxfnuqx6IZR1rDUJibLgQo\n",
       "QdqzfQF1UOuIcOJuEmQugANHSiDfxo0PHrE5Vj9IVVIIvsloIE5uRIE9w5aqhyPjIimq5aP5yRQZ\n",
       "XxhKUUbV9Tayk0Cn86tAlYhhxQFaKZwmebsXLYaM9vsp64EXeJzK4bn00U9lRkRfg3aSk81NKcho\n",
       "SpmgnR4vF74VxtHQgxjtkOsKraSfA40yqpkeilKL8EzYkigDf1mMasU9B27PdDrnEpA3JXQrdmzf\n",
       "2j7YOykbn3cI6q/iBjSBKAbyvcLB3cmshHaAvdAGJrzlH+ujhzsttgj2BtYgHdjLM/OBHF/YwPL+\n",
       "T6S/BKbPVNfj6CkylpBQfQ65V6vPVGcj0fm/ajMoryY7Kj+t3V/QYLbyW/oF1dw9LKVSwBeDsXAY\n",
       "KpZ6WQAAAABJRU5ErkJggg==\n",
       "\" style=\"display:inline;vertical-align:middle;\" /></a></span></td></tr>\n",
       "<tr><td>&nbsp;</td><td colspan=4 style-\"text-align:left\"><a class=\"ProveItLink\" href=\"../../../../conjunction/_theory_nbs_/proofs/left_from_and/thm_proof.ipynb\">proveit.logic.booleans.conjunction.left_from_and</a></td></tr><tr><td><a name=\"0x9b46c2b55066ee3_step3\">3</a></td><td>instantiation</td><td><a href=\"#0x9b46c2b55066ee3_step4\">4</a>, <a href=\"#0x9b46c2b55066ee3_step5\">5</a>, <a href=\"#0x9b46c2b55066ee3_step6\">6</a></td><td><span style=\"font-size:20px;\"><a class=\"ProveItLink\" href=\"../../../__pv_it/axioms/e95e5f69263d4c6cfbc6bb3b223a4060b72917d60/expr.ipynb\"><img src=\"data:image/png;base64,iVBORw0KGgoAAAANSUhEUgAAAEAAAAAPBAMAAACmSdRUAAAAMFBMVEX///92dnYiIiIQEBBERERU\n",
       "VFS6urqIiIjc3NxmZmaqqqru7u6YmJgyMjLMzMwAAADiRdoGAAAAAXRSTlMAQObYZgAAAQpJREFU\n",
       "GNNjYACBtwxYwNH/kVNdEiDs+9gUMJgwMHD+A7N47m/AIs/3h4GB7SeYuWt+A1TwAlA8AMpm/wHU\n",
       "+h3MPFAPtYr9AJDwgypgMWBg2KwNYrFtWH8AIvYEROyF2scfwMCnCmZvY3hfALHVWAkIlG9DFLyP\n",
       "Oe60AMxKYOifAGaUQvQ+gQjXNzBwm4L1Rc6MdwAxNsGcpwImnUGKQGrZGBiYL4BEOAIh8lsFwNRX\n",
       "kAKQ3UBFTAaQ8NC9CwJ68GBgiAd6jwOogPcDRO9JsC8a4MHA9wXIaAJ5+QdEASsoPGZB2LxAU5O9\n",
       "GRi2/L/NwOX/CeINbqBbOBwgau9/nRnihRH+QNO5UeMFAE9FRwBt4bk1AAAAAElFTkSuQmCC\n",
       "\" style=\"display:inline;vertical-align:middle;\" /></a> <a class=\"ProveItLink\" href=\"../../../__pv_it/_proof_iff_implies_right/d624cd046f9a3a6edc22688710acea944dd9ba750/proof.ipynb\" style=\"text-decoration: none\">&nbsp;&#x22A2;&nbsp;&nbsp;</a><a class=\"ProveItLink\" href=\"../../../__pv_it/axioms/2fe17d41ca19c3d45b1138b14f985cff74b119bb0/expr.ipynb\"><img src=\"data:image/png;base64,iVBORw0KGgoAAAANSUhEUgAAALUAAAAUBAMAAAA5PWHRAAAAMFBMVEX///9UVFTMzMx2dna6uroQ\n",
       "EBCqqqqIiIgiIiJmZmYyMjJERETu7u6YmJjc3NwAAAC+aOQFAAAAAXRSTlMAQObYZgAAAl9JREFU\n",
       "OMudVTFoFEEUfbuud5vc3iVoFUQSWy1iZUgTrpEEsYhwlTZpo6DXpkosPBQEL13Oxm0UDOEujRLQ\n",
       "5K5QkVwTK9FC1kaCjYkIMUZzzvw/szteBm7xHcfMnzdv/p//Z3aAwhZ64Wb3QFpNm/tnbRPedYYW\n",
       "XxThRF3j7YSzwQ3BmjrbDeusa0DfdwShMrWPesLZ0L8D0uSrZOYbLVsAfwBvHxhT9lNuSKM5Cz7+\n",
       "Bml8juXNI2PfG7qTPRQL7QGvlas1DoA0mlPIJfpgVlBSs8321ryRunOxYFrMuS82yaQzWaZ22+T0\n",
       "Flfjbj77A6SZI9Nr3TJKr/IEDAzCvS1iPcYDm1igds7kND7EvcsZkS6pWSfzFUYppL67BJ3G0dPv\n",
       "12akMy7mBfGTWDc5YIk0D3RAQdHdY02F7CK+VY1iZJ5wOx8huCJtjncBX6mtmFyM6+wJHgr7rClR\n",
       "soZqw6vmvE0axjO5hpC4O5SqMpwR2SmZXFLCx1yVM7XFA5CmxK5wPDTv3Umu+q7Ul/XafgvuYLy2\n",
       "5mJ8noDKAa7y2rQ/4d6fpnwvM6L4eGNYzPUoJ7P61lRMDnjIGnUJM+J/B6SRdSnM8F3S8MLkeLsH\n",
       "cS3ran3SxJzGJdV+UZdcaMbVec0dGtlWR6tf7OXiS7md8/oE+5IaNzmd7RWVTrnFZkSaKfHl6awg\n",
       "0/yZHJQT3DiN3dqp5+REltCRCcjKDE+ZnAJXGUHzVws3OvdI40dHvwdHht6qgguMAFZNwaLJV9Eb\n",
       "Y/+aqTUbvacFYddAWk2797yc7W1Io0nxPn36jzdNaP4C8jTBYUc5oRQAAAAASUVORK5CYII=\n",
       "\" style=\"display:inline;vertical-align:middle;\" /></a></span></td></tr>\n",
       "<tr><td>&nbsp;</td><td colspan=4 style=\"text-align:left\"><span style=\"font-size:20px;\"><a class=\"ProveItLink\" href=\"../../../../../../__pv_it/common/de55da274ba0f49c86925fbf3828021c04d27faf0/expr.ipynb\"><img src=\"data:image/png;base64,iVBORw0KGgoAAAANSUhEUgAAABAAAAAOBAMAAADUAYG5AAAAMFBMVEX///8iIiLc3Ny6urqIiIiq\n",
       "qqp2dnbMzMwQEBDu7u5mZmYyMjJERERUVFSYmJgAAAA4CJ/KAAAAAXRSTlMAQObYZgAAAF5JREFU\n",
       "CNdjYGB4+//s3V0TGIDgNwMDTyeQZv/GwMD6Bchg+QzEQA4DzwcGBl4gh4F/AwOD/gIgoz6BgVUM\n",
       "pMn/WtoSsO7zYBIIPkJp9l9QBsgYMOD+CaG59v91ANEANtEY7WfmSIAAAAAASUVORK5CYII=\n",
       "\" style=\"display:inline;vertical-align:middle;\" /></a> : <a class=\"ProveItLink\" href=\"../../../__pv_it/axioms/e95e5f69263d4c6cfbc6bb3b223a4060b72917d60/expr.ipynb\"><img src=\"data:image/png;base64,iVBORw0KGgoAAAANSUhEUgAAAEAAAAAPBAMAAACmSdRUAAAAMFBMVEX///92dnYiIiIQEBBERERU\n",
       "VFS6urqIiIjc3NxmZmaqqqru7u6YmJgyMjLMzMwAAADiRdoGAAAAAXRSTlMAQObYZgAAAQpJREFU\n",
       "GNNjYACBtwxYwNH/kVNdEiDs+9gUMJgwMHD+A7N47m/AIs/3h4GB7SeYuWt+A1TwAlA8AMpm/wHU\n",
       "+h3MPFAPtYr9AJDwgypgMWBg2KwNYrFtWH8AIvYEROyF2scfwMCnCmZvY3hfALHVWAkIlG9DFLyP\n",
       "Oe60AMxKYOifAGaUQvQ+gQjXNzBwm4L1Rc6MdwAxNsGcpwImnUGKQGrZGBiYL4BEOAIh8lsFwNRX\n",
       "kAKQ3UBFTAaQ8NC9CwJ68GBgiAd6jwOogPcDRO9JsC8a4MHA9wXIaAJ5+QdEASsoPGZB2LxAU5O9\n",
       "GRi2/L/NwOX/CeINbqBbOBwgau9/nRnihRH+QNO5UeMFAE9FRwBt4bk1AAAAAElFTkSuQmCC\n",
       "\" style=\"display:inline;vertical-align:middle;\" /></a>, <a class=\"ProveItLink\" href=\"../../../../../../__pv_it/common/d72bb8b07403efe79afab564c36a28e21330e5f90/expr.ipynb\"><img src=\"data:image/png;base64,iVBORw0KGgoAAAANSUhEUgAAAA8AAAASBAMAAAB2sJk8AAAAMFBMVEX///+qqqq6urrc3NwQEBAy\n",
       "MjJERERUVFTMzMwiIiKYmJh2dnZmZmaIiIju7u4AAABsX1SbAAAAAXRSTlMAQObYZgAAAINJREFU\n",
       "CNdjYGDgu7P7FAMI7GxgYE8A0k8DgILeQEbIAyBRz8DA/Qskvd+AwX4CiHFegWH/BRAjv4FhfgOI\n",
       "8R+IQGoZvzMwTAEJcP5jYCgBMe4DFfY/eHuD4w+Qw3thAff6DSDhvuqbyQxgrQzsDVwGYAbbATUw\n",
       "zcDz/weEwTFFgIEBAOxlJHQBUmidAAAAAElFTkSuQmCC\n",
       "\" style=\"display:inline;vertical-align:middle;\" /></a> : <a class=\"ProveItLink\" href=\"../../../__pv_it/axioms/2fe17d41ca19c3d45b1138b14f985cff74b119bb0/expr.ipynb\"><img src=\"data:image/png;base64,iVBORw0KGgoAAAANSUhEUgAAALUAAAAUBAMAAAA5PWHRAAAAMFBMVEX///9UVFTMzMx2dna6uroQ\n",
       "EBCqqqqIiIgiIiJmZmYyMjJERETu7u6YmJjc3NwAAAC+aOQFAAAAAXRSTlMAQObYZgAAAl9JREFU\n",
       "OMudVTFoFEEUfbuud5vc3iVoFUQSWy1iZUgTrpEEsYhwlTZpo6DXpkosPBQEL13Oxm0UDOEujRLQ\n",
       "5K5QkVwTK9FC1kaCjYkIMUZzzvw/szteBm7xHcfMnzdv/p//Z3aAwhZ64Wb3QFpNm/tnbRPedYYW\n",
       "XxThRF3j7YSzwQ3BmjrbDeusa0DfdwShMrWPesLZ0L8D0uSrZOYbLVsAfwBvHxhT9lNuSKM5Cz7+\n",
       "Bml8juXNI2PfG7qTPRQL7QGvlas1DoA0mlPIJfpgVlBSs8321ryRunOxYFrMuS82yaQzWaZ22+T0\n",
       "Flfjbj77A6SZI9Nr3TJKr/IEDAzCvS1iPcYDm1igds7kND7EvcsZkS6pWSfzFUYppL67BJ3G0dPv\n",
       "12akMy7mBfGTWDc5YIk0D3RAQdHdY02F7CK+VY1iZJ5wOx8huCJtjncBX6mtmFyM6+wJHgr7rClR\n",
       "soZqw6vmvE0axjO5hpC4O5SqMpwR2SmZXFLCx1yVM7XFA5CmxK5wPDTv3Umu+q7Ul/XafgvuYLy2\n",
       "5mJ8noDKAa7y2rQ/4d6fpnwvM6L4eGNYzPUoJ7P61lRMDnjIGnUJM+J/B6SRdSnM8F3S8MLkeLsH\n",
       "cS3ran3SxJzGJdV+UZdcaMbVec0dGtlWR6tf7OXiS7md8/oE+5IaNzmd7RWVTrnFZkSaKfHl6awg\n",
       "0/yZHJQT3DiN3dqp5+REltCRCcjKDE+ZnAJXGUHzVws3OvdI40dHvwdHht6qgguMAFZNwaLJV9Eb\n",
       "Y/+aqTUbvacFYddAWk2797yc7W1Io0nxPn36jzdNaP4C8jTBYUc5oRQAAAAASUVORK5CYII=\n",
       "\" style=\"display:inline;vertical-align:middle;\" /></a></span></td></tr><tr><td><a name=\"0x9b46c2b55066ee3_step4\">4</a></td><td>theorem</td><td></td><td><span style=\"font-size:20px;\"> <a class=\"ProveItLink\" href=\"../../../../../equality/_theory_nbs_/proofs/rhs_via_equality/thm_proof.ipynb\" style=\"text-decoration: none\">&nbsp;&#x22A2;&nbsp;&nbsp;</a><a class=\"ProveItLink\" href=\"../../../../../equality/__pv_it/theorems/4546a35b627d4cb8c4df070fccd511b94f50b8070/expr.ipynb\"><img src=\"data:image/png;base64,iVBORw0KGgoAAAANSUhEUgAAAIkAAAAWBAMAAAAGOqJsAAAAMFBMVEX///8QEBCIiIhmZma6urrM\n",
       "zMxUVFQiIiJERETc3Nzu7u6qqqp2dnaYmJgyMjIAAAAcRTyBAAAAAXRSTlMAQObYZgAAAgFJREFU\n",
       "OMutVD9IG1EY/3nR/DnvqkiXVgdFxEUaxyiIBy7ZmnZwcDFCdSiCuhaLgYImhZJsuqjRMUMrdMoi\n",
       "0kIFDXrOIqaLg9BWEKVpbdPve5fcvUsc9OgP3vf78uX3fnfve/ce8F9Q5HDiebraXRgi2uf83LPL\n",
       "bgz+BLBCaSjh1eQ9LUXtAB5kAW3Lq8tXmo0ZQN/L5Za9mmh/OB5mgJ/J5LxXl/VZjsMGMAmkgMb0\n",
       "dOQll7oLg0LQaOmi158XsxJbqIoOOzmmY8AIVN7tI+o30ZqBZ0IdtPR6K7RZiQVs0UKMY5lGAIpJ\n",
       "NAWEabceAb645OKPQ7mQmOGIyuzVfM0dMgNceA0kydIUj3VcqBBMSFypVURz4ucvdi6O8jdYgvIK\n",
       "6KLUembF5UMGvVmJGY5ogkNYNCf1gpt508df8RkNX1FyefqpsGWzP0l4J4nGs5s9TZdC+JG7pokq\n",
       "bmg07EguB3CzW6R0mtqpyNDCbxTsF3mbtVuOyxu42S3C2HRvCmKjdF5vi3UIptTj0EPZ5Tck9n8n\n",
       "fJNEXIvpGdt/nNLQW2w817cNyaWpBFEXXIUjEouI2n8oPwZoSjvUyJd4SHJ5cpkRdcH2nWKLuM3l\n",
       "q5pj0cxPj6/KK7LrLlRFnM7VXgh5fv2/j+tc8rUuVdGt4JOAJaPOxaxTLhl3O/S++9wQ/wC6SI3I\n",
       "rLOAiQAAAABJRU5ErkJggg==\n",
       "\" style=\"display:inline;vertical-align:middle;\" /></a></span></td></tr>\n",
       "<tr><td>&nbsp;</td><td colspan=4 style-\"text-align:left\"><a class=\"ProveItLink\" href=\"../../../../../equality/_theory_nbs_/proofs/rhs_via_equality/thm_proof.ipynb\">proveit.logic.equality.rhs_via_equality</a></td></tr><tr><td><a name=\"0x9b46c2b55066ee3_step5\">5</a></td><td>assumption</td><td></td><td><span style=\"font-size:20px;\"><a class=\"ProveItLink\" href=\"../../../__pv_it/axioms/e95e5f69263d4c6cfbc6bb3b223a4060b72917d60/expr.ipynb\"><img src=\"data:image/png;base64,iVBORw0KGgoAAAANSUhEUgAAAEAAAAAPBAMAAACmSdRUAAAAMFBMVEX///92dnYiIiIQEBBERERU\n",
       "VFS6urqIiIjc3NxmZmaqqqru7u6YmJgyMjLMzMwAAADiRdoGAAAAAXRSTlMAQObYZgAAAQpJREFU\n",
       "GNNjYACBtwxYwNH/kVNdEiDs+9gUMJgwMHD+A7N47m/AIs/3h4GB7SeYuWt+A1TwAlA8AMpm/wHU\n",
       "+h3MPFAPtYr9AJDwgypgMWBg2KwNYrFtWH8AIvYEROyF2scfwMCnCmZvY3hfALHVWAkIlG9DFLyP\n",
       "Oe60AMxKYOifAGaUQvQ+gQjXNzBwm4L1Rc6MdwAxNsGcpwImnUGKQGrZGBiYL4BEOAIh8lsFwNRX\n",
       "kAKQ3UBFTAaQ8NC9CwJ68GBgiAd6jwOogPcDRO9JsC8a4MHA9wXIaAJ5+QdEASsoPGZB2LxAU5O9\n",
       "GRi2/L/NwOX/CeINbqBbOBwgau9/nRnihRH+QNO5UeMFAE9FRwBt4bk1AAAAAElFTkSuQmCC\n",
       "\" style=\"display:inline;vertical-align:middle;\" /></a> <a class=\"ProveItLink\" href=\"../../../__pv_it/_proof_iff_implies_right/a7cc93c7b89f69e25c6bd3efeee4bff7055b2fa10/proof.ipynb\" style=\"text-decoration: none\">&nbsp;&#x22A2;&nbsp;&nbsp;</a><a class=\"ProveItLink\" href=\"../../../__pv_it/axioms/e95e5f69263d4c6cfbc6bb3b223a4060b72917d60/expr.ipynb\"><img src=\"data:image/png;base64,iVBORw0KGgoAAAANSUhEUgAAAEAAAAAPBAMAAACmSdRUAAAAMFBMVEX///92dnYiIiIQEBBERERU\n",
       "VFS6urqIiIjc3NxmZmaqqqru7u6YmJgyMjLMzMwAAADiRdoGAAAAAXRSTlMAQObYZgAAAQpJREFU\n",
       "GNNjYACBtwxYwNH/kVNdEiDs+9gUMJgwMHD+A7N47m/AIs/3h4GB7SeYuWt+A1TwAlA8AMpm/wHU\n",
       "+h3MPFAPtYr9AJDwgypgMWBg2KwNYrFtWH8AIvYEROyF2scfwMCnCmZvY3hfALHVWAkIlG9DFLyP\n",
       "Oe60AMxKYOifAGaUQvQ+gQjXNzBwm4L1Rc6MdwAxNsGcpwImnUGKQGrZGBiYL4BEOAIh8lsFwNRX\n",
       "kAKQ3UBFTAaQ8NC9CwJ68GBgiAd6jwOogPcDRO9JsC8a4MHA9wXIaAJ5+QdEASsoPGZB2LxAU5O9\n",
       "GRi2/L/NwOX/CeINbqBbOBwgau9/nRnihRH+QNO5UeMFAE9FRwBt4bk1AAAAAElFTkSuQmCC\n",
       "\" style=\"display:inline;vertical-align:middle;\" /></a></span></td></tr>\n",
       "<tr><td><a name=\"0x9b46c2b55066ee3_step6\">6</a></td><td>instantiation</td><td><a href=\"#0x9b46c2b55066ee3_step7\">7</a></td><td><span style=\"font-size:20px;\"> <a class=\"ProveItLink\" href=\"../../../__pv_it/_proof_iff_implies_right/ee3fbe5fe7f4218232ac306318ae323bf257bd2c0/proof.ipynb\" style=\"text-decoration: none\">&nbsp;&#x22A2;&nbsp;&nbsp;</a><a class=\"ProveItLink\" href=\"../../../__pv_it/axioms/86b5f320ac0b97a0e1b657dd28f655aec5285f110/expr.ipynb\"><img src=\"data:image/png;base64,iVBORw0KGgoAAAANSUhEUgAAATEAAAAUBAMAAAAXXRdqAAAAMFBMVEX///9UVFTMzMx2dna6uroQ\n",
       "EBCqqqqIiIgiIiJmZmYyMjJERETu7u6YmJjc3NwAAAC+aOQFAAAAAXRSTlMAQObYZgAAA5pJREFU\n",
       "SMedVk1IVFEUPu81zozNT5Ir+9N2kYtxVdgiZhNFBBlMELmZZRbUtJQWMwWK/VAjQWQbLTJIRCUq\n",
       "hDInyJBxM60iIXttQoIoQzIztXvPuX++eY0zHjnznvfc753v3HvuORcgWoD15LzH2DehFSLL8OZ3\n",
       "BG6K/t/rNendal33izhYTpElPELKxO7zQEbq53q2Py1GTmmbp3Aau4BwQzQ07DmxFaD6J4SLfW92\n",
       "SPnrDy9kFaPd26CQkuGQtnk65DTygB4jWYpxOOcxz14G8C0C7C+yfBDKZPqvl4sY27bjWYV8LJYy\n",
       "a9i8lprT2JRCj0GK5m2vjIqxtWvEe2CFTV4AmCj6xE2hLLy2FT38Sr2l2fc+pSTSHqXAyZuwCQkZ\n",
       "O440wi3ocZaGCum4IMNT9IkE8Tk32IbF3YmcIeVhBub1eKN6e8Y8nMpJpHWYiMyaNrkxIxpPNB6i\n",
       "x3Yc8eUuFIxv5wVsSw3Yl/n6upc+kCVlcsy/bOyGmjgHsGeHQuaBwmg3bWZmgEmjGXFjOPQGYhSU\n",
       "fbKLScegSJad70eT3CEm8oEBLpgxoQIpCz5uL/BndRfKolyIuY+XOhUS9rE/LmOmDeAuYm6pcASN\n",
       "acTRlDh8J/NFWq3GpEyW8AleYjKuNQsmSVmYEF00i9EjnaETNQqZga/47DRtSs4mxYugcQZxCYyi\n",
       "rqced3tSAq7LhIA0g9nuwlAVJwXY3dO9ZFryCZWhgV8SGUmBhVUiYdp0ceynbJQ0YohLUOBQhcse\n",
       "raW5r5tkQkA6VZIZ+zltHo1aR2YoBBYkMpgT5z1h2pR8PijSTNAgZri+fG9aKIWvYTJdUeUM6plv\n",
       "X0bn2f01u+ln2oF5NkDi6HJmzUtkm6yxnaYN4B5hRLFXNI4gjudkNKkrOR6UvKOSxV7SeaxFnYAv\n",
       "a9uHr88oZ7ERiRwS7OgESJuUo3K9JQ06Ac2iyoREvbT4Ht0RLYgFcOglX5AmFzNeDLhiTRvXpVKW\n",
       "G+hnLFtzAokVK5ijeqBtMstEIdA0biOOrdzU6iD4x3/T4eQdK0oBWcOs8z5Hiu4mxzeJaXj8Tw7O\n",
       "rV5V41vFcxu/CiQlEqMNpGiftE2IJT6uaTxAXNB9G+Dtwd1DJ0t0JzfYA+nD1wbVnVz9pOgek0Fc\n",
       "JAvrS8mOXgmyLG+ioxtN+L/icQvibTjkVI4sw5u8BcmbYykJlbw5VoQswxtnj7gy7r8zG75tz2zg\n",
       "th1xEPcPr/tEHfZflmoAAAAASUVORK5CYII=\n",
       "\" style=\"display:inline;vertical-align:middle;\" /></a></span></td></tr>\n",
       "<tr><td>&nbsp;</td><td colspan=4 style=\"text-align:left\"><span style=\"font-size:20px;\"><a class=\"ProveItLink\" href=\"../../../../../../__pv_it/common/09585084922504426caf1db2ff588a23a0932a960/expr.ipynb\"><img src=\"data:image/png;base64,iVBORw0KGgoAAAANSUhEUgAAAA8AAAAOBAMAAAACpFvcAAAALVBMVEX///8iIiIQEBBERERUVFS6\n",
       "urqIiIjc3NxmZmaqqqru7u6YmJgyMjLMzMwAAACK9jtgAAAAAXRSTlMAQObYZgAAAFtJREFUCNdj\n",
       "YACBOwxQcA5Kc59bAGGs7CuAMDbkBYBp1gXzNoAZSxnuJYAZAQx1DSCa16PDzwCshIGB6QCIMYGB\n",
       "gVEBSLMDGTwPgIxCIGZ+zsCw+N0pBk67hw0AfpEVEQi8t+wAAAAASUVORK5CYII=\n",
       "\" style=\"display:inline;vertical-align:middle;\" /></a> : <a class=\"ProveItLink\" href=\"../../../../../../__pv_it/common/09585084922504426caf1db2ff588a23a0932a960/expr.ipynb\"><img src=\"data:image/png;base64,iVBORw0KGgoAAAANSUhEUgAAAA8AAAAOBAMAAAACpFvcAAAALVBMVEX///8iIiIQEBBERERUVFS6\n",
       "urqIiIjc3NxmZmaqqqru7u6YmJgyMjLMzMwAAACK9jtgAAAAAXRSTlMAQObYZgAAAFtJREFUCNdj\n",
       "YACBOwxQcA5Kc59bAGGs7CuAMDbkBYBp1gXzNoAZSxnuJYAZAQx1DSCa16PDzwCshIGB6QCIMYGB\n",
       "gVEBSLMDGTwPgIxCIGZ+zsCw+N0pBk67hw0AfpEVEQi8t+wAAAAASUVORK5CYII=\n",
       "\" style=\"display:inline;vertical-align:middle;\" /></a>, <a class=\"ProveItLink\" href=\"../../../../../../__pv_it/common/a9162d1c3cc0470c02e5daf414500903a7a419230/expr.ipynb\"><img src=\"data:image/png;base64,iVBORw0KGgoAAAANSUhEUgAAABAAAAAOBAMAAADUAYG5AAAALVBMVEX///8yMjKqqqoiIiLu7u7c\n",
       "3NyIiIjMzMwQEBC6urpERERmZmZUVFSYmJgAAACsPVCVAAAAAXRSTlMAQObYZgAAAGxJREFUCNdj\n",
       "YGC48+70nlUTGICgi4GB+zmQZn/LwMD5Gshge8rAwPsMyOBqYGDwMAEy+A4wsNs4ABl1Z68tVgBp\n",
       "ygtgYOkBMVaAOCChNyBGAsQYhnMTIMawvwJyGIHGzFjCwMAj92b3qUUMDAAXABxvZ4rl5AAAAABJ\n",
       "RU5ErkJggg==\n",
       "\" style=\"display:inline;vertical-align:middle;\" /></a> : <a class=\"ProveItLink\" href=\"../../../../../../__pv_it/common/a9162d1c3cc0470c02e5daf414500903a7a419230/expr.ipynb\"><img src=\"data:image/png;base64,iVBORw0KGgoAAAANSUhEUgAAABAAAAAOBAMAAADUAYG5AAAALVBMVEX///8yMjKqqqoiIiLu7u7c\n",
       "3NyIiIjMzMwQEBC6urpERERmZmZUVFSYmJgAAACsPVCVAAAAAXRSTlMAQObYZgAAAGxJREFUCNdj\n",
       "YGC48+70nlUTGICgi4GB+zmQZn/LwMD5Gshge8rAwPsMyOBqYGDwMAEy+A4wsNs4ABl1Z68tVgBp\n",
       "ygtgYOkBMVaAOCChNyBGAsQYhnMTIMawvwJyGIHGzFjCwMAj92b3qUUMDAAXABxvZ4rl5AAAAABJ\n",
       "RU5ErkJggg==\n",
       "\" style=\"display:inline;vertical-align:middle;\" /></a></span></td></tr><tr><td><a name=\"0x9b46c2b55066ee3_step7\">7</a></td><td>axiom</td><td></td><td><span style=\"font-size:20px;\"> <a class=\"ProveItLink\" href=\"../../axioms.ipynb#iff_def\" style=\"text-decoration: none\">&nbsp;&#x22A2;&nbsp;&nbsp;</a><a class=\"ProveItLink\" href=\"../../../__pv_it/axioms/0cd5738fd7a3109ea2cf798d3a1f4edab4dd47c70/expr.ipynb\"><img src=\"data:image/png;base64,iVBORw0KGgoAAAANSUhEUgAAAXkAAAAVBAMAAABRbIObAAAAMFBMVEX///8QEBCIiIhmZma6urrM\n",
       "zMxUVFQiIiJERETc3Nzu7u6qqqp2dnaYmJgyMjIAAAAcRTyBAAAAAXRSTlMAQObYZgAAA8xJREFU\n",
       "SMfVl09oE0EUxj+TbNNNmrQHUUGRgAe9aAuFetOoB0VQ40U8aUALRRQrQgtWUU+2/iF7qoJgVxQs\n",
       "FarQi15U9CBakaCgFFEiHqQKtjRaa6XW+fdmk+0kTVsvfvC1Yd/8Zt/OvJnZBcrJzkrPovv/jqyQ\n",
       "Ief4hfclGvYqM+0zxd9MH2jqTKLK+WdkrxczyWLpcoY8yC9+KZH9sDLTiLHBMiD4A5HcgkmngFMx\n",
       "k+KjEAz5Cp+uM+bkYw3S/OeIaxqKKSCUBx4vmPzkcTpm0IdJSEY5zvquuWvOPuxIM93eqEYnzryH\n",
       "GgR+sRuOAdcrIbm6SpDWOVdzOqZU7fGRARYSjHLseV/f5RKFc1mZKVuvCnEt7y9FHdexPk6wR0pW\n",
       "QHLthZms2pzQnI7RNHmVEQt8h2TIE52dJ0tkv0qZTaT7MOt1FaF1UpuG1cYnr2F20qsMA9mPVs3p\n",
       "GOm1/rU9yopKMORmmk/5d1v+SQtN1SVl4Cb2y8HZvbSdaaXqe/+RV+d41cX44qv5JtRgJoPtQlTO\n",
       "RSTfOwb1HXUMWC+Y0/TIkaQ1phjyFrXwY9/l6NShpk617lAGkugRXQQOyRm4IBvUO4gsYf+jrb6x\n",
       "n0kqRb8ayVZc05yOaT1Q6zIEO68YchgBMbU3pkSLYBrRSUUtVoZ1oPGoKJk2WpWyFs/ye7GurVFf\n",
       "9jNIrf7FBjKWQFWKOB3zFutHuTr2NDZNQDLkmmxYhJ4fl3klEMz5cwgBi8TF7keyu8OywTi/T6Jc\n",
       "9pqks/SwYyDDLqy0zp5iWt3PoOYRK33Z2zmxAVqJTtHiTgrrXP/8s4EIy3J6K2r7c0pv2jjK+gy1\n",
       "enWfNpNBGf3mGEgM0DnVURgDNkhGHXtR5mOQDBldB8WehfWiya61a9LwrVr7rjzlaNOIDHubtjXh\n",
       "rT1PBlJWbs5IDqsnEIyOkXaq/1fVwV24ajEgHv8d6kWTl8Bqwp4o8124+pe8xh81qIoyzkZ103l+\n",
       "4ZEvexMpqt41kWIbDruK0TGqerU/2zzPjCMZMmp5iUU+vciIni8CPbRitkr3Tn9BNPOTdmb5dsGn\n",
       "a2S8sUXsPvGUL3sTydVsJKt4mQQSkvFiSnI9I5L54+Le9HHJkBHjWQdd9IhWv1nxODPPe2/ZMff5\n",
       "j7VbZd4UiuQYyZD4mYKZsU3MraK77mBzkLXPw56EvcLwrlVe5d7S5kRWzDwuZKsnYGdOWcvxNN/Y\n",
       "kix6qeqavTvDG/J8yQoZcpGipb8xyqm67NfJnMgKGXLZD7UKv++G5v1lODSPL8OhAhcpi/9LfwF9\n",
       "GoUpN6fzvwAAAABJRU5ErkJggg==\n",
       "\" style=\"display:inline;vertical-align:middle;\" /></a></span></td></tr>\n",
       "<tr><td>&nbsp;</td><td colspan=4 style-\"text-align:left\"><a class=\"ProveItLink\" href=\"../../axioms.ipynb#iff_def\">proveit.logic.booleans.implication.iff_def</a></td></tr></table>"
      ],
      "text/plain": [
       "\tstep type\trequirements\tstatement\n",
       "0\tgeneralizaton\t1\t|- forall_{A, B | A <=> B} (A => B)\n",
       "1\tinstantiation\t2, 3\t{A <=> B} |- A => B\n",
       "\tA : A => B, B : B => A\n",
       "2\ttheorem\t\t|- forall_{A, B | A, B} A\n",
       "\tproveit.logic.booleans.conjunction.left_from_and\n",
       "3\tinstantiation\t4, 5, 6\t{A <=> B} |- (A => B) and (B => A)\n",
       "\tP : A <=> B, Q : (A => B) and (B => A)\n",
       "4\ttheorem\t\t|- forall_{P, Q | P, P = Q} Q\n",
       "\tproveit.logic.equality.rhs_via_equality\n",
       "5\tassumption\t\t{A <=> B} |- A <=> B\n",
       "6\tinstantiation\t7\t|- (A <=> B) = ((A => B) and (B => A))\n",
       "\tA : A, B : B\n",
       "7\taxiom\t\t|- forall_{A, B} ((A <=> B) = ((A => B) and (B => A)))\n",
       "\tproveit.logic.booleans.implication.iff_def"
      ]
     },
     "execution_count": 6,
     "metadata": {},
     "output_type": "execute_result"
    }
   ],
   "source": [
    "%qed"
   ]
  },
  {
   "cell_type": "code",
   "execution_count": null,
   "metadata": {},
   "outputs": [],
   "source": []
  }
 ],
 "metadata": {
  "kernelspec": {
   "display_name": "Python 3",
   "language": "python",
   "name": "python3"
  }
 },
 "nbformat": 4,
 "nbformat_minor": 0
}