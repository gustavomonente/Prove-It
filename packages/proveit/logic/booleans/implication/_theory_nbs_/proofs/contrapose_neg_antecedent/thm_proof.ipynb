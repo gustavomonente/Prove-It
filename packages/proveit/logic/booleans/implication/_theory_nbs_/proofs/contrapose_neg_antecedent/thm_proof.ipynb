{
 "cells": [
  {
   "cell_type": "markdown",
   "metadata": {},
   "source": [
    "Proof of <a class=\"ProveItLink\" href=\"../../../../../../_theory_nbs_/theory.ipynb\">proveit</a>.<a class=\"ProveItLink\" href=\"../../../../../_theory_nbs_/theory.ipynb\">logic</a>.<a class=\"ProveItLink\" href=\"../../../../_theory_nbs_/theory.ipynb\">booleans</a>.<a class=\"ProveItLink\" href=\"../../theory.ipynb\">implication</a>.<a class=\"ProveItLink\" href=\"../../theorems.ipynb#contrapose_neg_antecedent\">contrapose_neg_antecedent</a> theorem\n",
    "========"
   ]
  },
  {
   "cell_type": "code",
   "execution_count": 1,
   "metadata": {},
   "outputs": [],
   "source": [
    "import proveit\n",
    "from proveit import defaults\n",
    "from proveit import B\n",
    "from proveit.logic import Not\n",
    "theory = proveit.Theory() # the theorem's theory"
   ]
  },
  {
   "cell_type": "code",
   "execution_count": 2,
   "metadata": {},
   "outputs": [
    {
     "data": {
      "text/html": [
       "Under these <a href=\"presumptions.txt\">presumptions</a>, we begin our proof of<br><strong id=\"contrapose_neg_antecedent\">contrapose_neg_antecedent:</strong> <a class=\"ProveItLink\" href=\"../../../__pv_it/theorems/4ddb0cc8a8de6619e8c9b41e47d23feb5fea171f0/expr.ipynb\"><img src=\"data:image/png;base64,iVBORw0KGgoAAAANSUhEUgAAAR4AAAAWBAMAAADkw+48AAAAMFBMVEX///8QEBCIiIhmZma6urrM\n",
       "zMxUVFQiIiJERETc3Nzu7u6qqqp2dnaYmJgyMjIAAAAcRTyBAAAAAXRSTlMAQObYZgAAA4tJREFU\n",
       "SMe9VkFIVEEY/nu76+7bfU+9FRTxqENeyoUFpahcEMqLuV2qUy5YYB5S8FCR0RYd1orcSyaBuFFY\n",
       "KNlCRHSoFiRKk3jQMaw165CHjAxTI2xm/pl5s+6+BQ/bD/++t/N9M++b/5/5ZwDKZ4Pc8yyUcu9A\n",
       "sRx9mS6HnGACnZvZuRhpvwJwyoV+HBj2lr7PlUNPZQpd2AairSEGYy70eeIEGyAPPVEOPe+5C2u1\n",
       "AVrCYFhF2eZ8GihWSR+Zcug5x11YLYnVJwuC1bIloERvtIH8IZg5OTJyqxxy9C50aZfI9zaS2X+R\n",
       "LT4lL3ZtFBi2lEz2lBpX3Q++dejRwujSFgGOdpDneH5K0bzplzZiJwF6WRP+Ni2MtzMJXiQaTu9e\n",
       "CEWV8SVT9s2zgI0u57I4XXOevnykP/VnqF2Ueu9Bq4VYIwTZnjd/4bqqBoNlOIBEZ3tSwm51BQqm\n",
       "7Avm59lusRb9GXT2ZZIBbRngTpwAT5UxXgh2FIbCiPlBY7O4+5cBnjiEVhw9vqzsSwnDyliSyfuO\n",
       "ju8DKzv4RGzvKDqzfjIe0a79oftMrVEzyPC1RToTiBm2nzVNduO0LPDkHD0VMdmXErCehOw8JkLm\n",
       "tdtpsCzjoYueKhIb7ecaPf0TfPkQbg4xPXeEKbSSDHkUg11pR4/fyT8lYCgxiZKJUCN9s6zmiTX5\n",
       "Enpo+amgeT1IG/Z/Z/aN45RbzbHeEywQUM+Qlp01cXD0OKWAEUJxI0mMRVkyEWKhsiJbY8XWcz+W\n",
       "n9aEWM9oh0RtIHoqf3DsMSsSH6CWQe8Adih6mgDeEAE5TvDyirE9qjAZFAxjfDw3+TeMMLooFDOk\n",
       "9yYaz73O6hHnFJ11YJljVXSjBWen+ljwrwMMZRw9B7BDnBN8fMEMdyhMBvnOJpOX6frRREXpQud2\n",
       "erWtLsnoX52Q81g+WJ2DUN/vMGIm1eFJwxBDyQ5oSTl6jgk9SPDGtQixuj0qE6E4xsfwuJ0XIiiO\n",
       "Rt0dayZxsvWroK+AvkXJ132hhxHAzMIIsW10MGQOpDn0iunJGlNu56nIo+Ve0yUWWAK974JvM7xe\n",
       "iLRHFT1+3EEpJICHYTqNBWceznAoQJJh9szesNXTMlB4+xorccasxUJqvcdTKP/oryyMsyTUkPVT\n",
       "4j4G7keLK/asQA/kD/gc1nH/LHpfNUvcVwswu1BPc96Uw4VjwH8yT5H5a+lyf/UfX0oMLnQUkvYA\n",
       "AAAASUVORK5CYII=\n",
       "\" style=\"display:inline;vertical-align:middle;\" /></a><br>(see <a class=\"ProveItLink\" href=\"../../../__pv_it/theorems/ff12be73a7559cef4453c6e7d77414c870825cd60/dependencies.ipynb\">dependencies</a>)<br>"
      ],
      "text/plain": [
       "contrapose_neg_antecedent: forall_{A, B | [not](A) => B, A in BOOLEAN} ([not](B) => A)"
      ]
     },
     "execution_count": 2,
     "metadata": {},
     "output_type": "execute_result"
    }
   ],
   "source": [
    "%proving contrapose_neg_antecedent"
   ]
  },
  {
   "cell_type": "code",
   "execution_count": 3,
   "metadata": {},
   "outputs": [
    {
     "data": {
      "text/html": [
       "<strong id=\"defaults.assumptions\">defaults.assumptions:</strong> <a class=\"ProveItLink\" href=\"../../../__pv_it/_proof_contrapose_neg_antecedent/ed0e327cf8620a8a21784c92bb6572ff5d58114c0/expr.ipynb\"><img src=\"data:image/png;base64,iVBORw0KGgoAAAANSUhEUgAAANMAAAAUBAMAAADlxBXmAAAAMFBMVEX////MzMxUVFR2dna6uroQ\n",
       "EBCqqqqIiIgiIiJmZmYyMjJERETu7u6YmJjc3NwAAACgK8IjAAAAAXRSTlMAQObYZgAAApBJREFU\n",
       "SMetVT1oU1EU/l7yTJOXH4OjDonoUor2bSW4ZBEyVCjiUHTJ6CCatVNDwVKkQ9FBOvkEcShisqiF\n",
       "2prBiiaDQQdBUDK6Wbv4UzSe+979fbltl35w8/LeOd/9zj333HOBQh/hMJAa4Ghxk/30+FA4SeO8\n",
       "zf/DcPzuRtV01DB2e+PP7Fk7J8Fif8qHQotG1xrbNSDzw3TU4TmN3ru+lZMLgPxKNBTyrQ6QbFiU\n",
       "nL+A+9t01JF1+2PFtp0zBaQH0VB484BeczPqw5bM0D+a/6fpGGquL93hUql6TEpwtoFviIZCf55t\n",
       "xyP14ZSMmvS3l2OOFPiLjlxVcjomJTheFXP0Oqfb3M4tlu6KllGR3+NlOAudmCPta0clsHaiaEoJ\n",
       "TnIFm/S6qdteo8T26TP7n1kKIbandO7Tej3uqFVr1p0dXontr+DkAyzSY1FM6tNLFd/ZKq7rp+xx\n",
       "9JwfIHdZfuWOQFsri+QXHypIX3FSTbAoRCSFMiV+fHWScUt6aN3I4xmTE8sSjnCurhG4FNqXFI3N\n",
       "JzjOzoiUCxwLYlKFM1Gp7TKaOAXCEQV9VWgnTCnBISmeQGmiANKs0GthGtYiDOQRwaToFsIRmNGl\n",
       "yp4hJTlu0ygLMhVoBm9HlAWPP1BHxNkTvsIRuG+s6qMhJTlUFhW9sIvhEcuSGfe0neLF7FH4F18C\n",
       "7wN+FkNHWlxdNiY/WSlHdj6f4CDjh4mqyVl7wydIvfpFlfVQSZ2OHonW7urEczb1su5InWVi2mi3\n",
       "aXXKJQde0dKYQuSa6v+I9Ubs3b0QNab97Axvbe02hLXdCviHXE42+xRvplsjlu4BM+UaByvZ7OwS\n",
       "sVyNsIprPfGQRdnsWbYL1gs/f9QX/lfgP/rG2VRCgsQoAAAAAElFTkSuQmCC\n",
       "\" style=\"display:inline;vertical-align:middle;\" /></a><br>"
      ],
      "text/plain": [
       "defaults.assumptions: ([not](A) => B, A in BOOLEAN, [not](B))"
      ]
     },
     "execution_count": 3,
     "metadata": {},
     "output_type": "execute_result"
    }
   ],
   "source": [
    "defaults.assumptions = list(contrapose_neg_antecedent.all_conditions()) + [Not(B)]"
   ]
  },
  {
   "cell_type": "code",
   "execution_count": 4,
   "metadata": {},
   "outputs": [
    {
     "data": {
      "text/html": [
       "<strong id=\"not_a_implies_B\">not_a_implies_B:</strong> <a class=\"ProveItLink\" href=\"../../../__pv_it/theorems/eaba87f0887a4ce2b5d5821c8c7a45685b9d619a0/expr.ipynb\"><img src=\"data:image/png;base64,iVBORw0KGgoAAAANSUhEUgAAAFwAAAAUBAMAAADyykdqAAAAMFBMVEX////MzMxUVFR2dna6uroQ\n",
       "EBCqqqqIiIgiIiJmZmYyMjJERETu7u6YmJjc3NwAAACgK8IjAAAAAXRSTlMAQObYZgAAAWBJREFU\n",
       "KM9jYOC7wIAK2B4w4AGnUXhSQKyHTdml/5qTdjswMKxDEV0PxKewGhvNwMD5kYF3ArIY7/oDDAzM\n",
       "BVhUM/5lYGD5ycCB4tJj84FcngCEwD4Yg/0f0LDvDC9QzLhQD3QewxKEgDSMwQ0042gPQyWyapYD\n",
       "+aBwskRyHcyt/AoMjE0HGPYiKz/CIA9y9y0Qm7MDDH5CpeR1r+9IYGBog0kYAMUcGN6DTMtAjoVl\n",
       "ELr+AQNPEANDCFSYTwHoe82Z+htAJiHbeAqiYitISwKKchYGBtYFaMr5lCFB9wmkvADkGLhyoNs4\n",
       "QIHoAXb7Kgh4AA92Bn0HuFeByvmAyrk+wLwKDasFiGBn/I0UaALgKOAGCjNMRnL5AQjNBbTVdQ/U\n",
       "Ykha+7+GgW3/D2DQLEQoV4RQTOs/zdTeBmRwYCZXngYEG10WNYmBAdYkhpGIEO4lPntgNwA5HtAz\n",
       "Hy+ezAcAn6teNb06mV0AAAAASUVORK5CYII=\n",
       "\" style=\"display:inline;vertical-align:middle;\" /></a><br>"
      ],
      "text/plain": [
       "not_a_implies_B: [not](A) => B"
      ]
     },
     "execution_count": 4,
     "metadata": {},
     "output_type": "execute_result"
    }
   ],
   "source": [
    "not_a_implies_B = defaults.assumptions[0]"
   ]
  },
  {
   "cell_type": "code",
   "execution_count": 5,
   "metadata": {},
   "outputs": [
    {
     "data": {
      "text/html": [
       "<span style=\"font-size:20px;\"><a class=\"ProveItLink\" href=\"../../../../__pv_it/theorems/bc796b8e7562f2d661739850b78776738bfc78d80/expr.ipynb\"><img src=\"data:image/png;base64,iVBORw0KGgoAAAANSUhEUgAAADYAAAAPBAMAAABdHiGLAAAAMFBMVEX///92dnYiIiIQEBBERERU\n",
       "VFS6urqIiIjc3NxmZmaqqqru7u6YmJgyMjLMzMwAAADiRdoGAAAAAXRSTlMAQObYZgAAANdJREFU\n",
       "GNNjYACBtwwogF3Z5a9RGJRzH1WOgZevYMvOA2Amz/0NqHIsbAfYHziAmbvmN0DEeJyUdKFyXAsg\n",
       "cgfqE8A0n/sGuD7GbLAc24b1ELP3bkCYmfT0AYi1jeF9AVgoAmGf0X8zMCuBoX8CmOGA5BbGMwIg\n",
       "WyJnxoNF+WzvAgFUjsEhB2QdAwPzBZAIB7I+BgdWIGMBAwOTAVjIAFkugBeoGijH+wEsNB1F30EG\n",
       "hiYQ+wdYiGkBPMwEGCUDGLb8v83A5f8J7FDukGzMsIYBNhFImEEAAEUpOYcaSaDVAAAAAElFTkSu\n",
       "QmCC\n",
       "\" style=\"display:inline;vertical-align:middle;\" /></a>, <a class=\"ProveItLink\" href=\"../../../__pv_it/theorems/eaba87f0887a4ce2b5d5821c8c7a45685b9d619a0/expr.ipynb\"><img src=\"data:image/png;base64,iVBORw0KGgoAAAANSUhEUgAAAFwAAAAUBAMAAADyykdqAAAAMFBMVEX////MzMxUVFR2dna6uroQ\n",
       "EBCqqqqIiIgiIiJmZmYyMjJERETu7u6YmJjc3NwAAACgK8IjAAAAAXRSTlMAQObYZgAAAWBJREFU\n",
       "KM9jYOC7wIAK2B4w4AGnUXhSQKyHTdml/5qTdjswMKxDEV0PxKewGhvNwMD5kYF3ArIY7/oDDAzM\n",
       "BVhUM/5lYGD5ycCB4tJj84FcngCEwD4Yg/0f0LDvDC9QzLhQD3QewxKEgDSMwQ0042gPQyWyapYD\n",
       "+aBwskRyHcyt/AoMjE0HGPYiKz/CIA9y9y0Qm7MDDH5CpeR1r+9IYGBog0kYAMUcGN6DTMtAjoVl\n",
       "ELr+AQNPEANDCFSYTwHoe82Z+htAJiHbeAqiYitISwKKchYGBtYFaMr5lCFB9wmkvADkGLhyoNs4\n",
       "QIHoAXb7Kgh4AA92Bn0HuFeByvmAyrk+wLwKDasFiGBn/I0UaALgKOAGCjNMRnL5AQjNBbTVdQ/U\n",
       "Ykha+7+GgW3/D2DQLEQoV4RQTOs/zdTeBmRwYCZXngYEG10WNYmBAdYkhpGIEO4lPntgNwA5HtAz\n",
       "Hy+ezAcAn6teNb06mV0AAAAASUVORK5CYII=\n",
       "\" style=\"display:inline;vertical-align:middle;\" /></a> <a class=\"ProveItLink\" href=\"../../../__pv_it/_proof_contrapose_neg_antecedent/2208f732bb60dac437cfd258b5e32f31e7d930550/proof.ipynb\" style=\"text-decoration: none\">&nbsp;&#x22A2;&nbsp;&nbsp;</a><a class=\"ProveItLink\" href=\"../../../__pv_it/theorems/6db021c390634ab9cbaa4f2c950441896cc60d2f0/expr.ipynb\"><img src=\"data:image/png;base64,iVBORw0KGgoAAAANSUhEUgAAAFwAAAAUBAMAAADyykdqAAAAMFBMVEX////MzMxUVFR2dna6uroQ\n",
       "EBCqqqqIiIgiIiJmZmYyMjJERETu7u6YmJjc3NwAAACgK8IjAAAAAXRSTlMAQObYZgAAAWpJREFU\n",
       "KM9jYOC7wIAG8hjwgNMI5qX/mpN2OzAwPcCuknEBkFiHJBDNwMD5kYFnAXblXB8YGHgnIGn/y8DA\n",
       "8pOBwRy78lt/GBg4kGxm/wfU/p2B4ShCiBshzZMJlH6BpJ07AKi0B2irA8LCDXAmL/sXBoZKJOX8\n",
       "CgyMTQcYGJiRHHgTzvJhA7p1L5Jyed3rOxJA5oD9OqMDBPphWnkcGIHubAMGBljcgIGh/gEDTxBQ\n",
       "hq0ByYysBAjNwsAHDIUQqCifAgPDViBdD5Rl/ICknGcpxCdCMyf9RlX+CaS8AE35IzsIDdQUBXYM\n",
       "TDko2Bn0gcIsYMfMWgUG0GhkA+JWhFeBykHBzvgb7lUI8ILSz4B4PQODJUxcgIELGOyue4BMTgOE\n",
       "y9dATQNZuP8Bgwdchmn9p5na28CJQwAhCGHy7P91gCH7fydKIoCBEwgmH5oUchKDAXM86X0fhgiu\n",
       "BIyePTBTISbAzHz3cCsGABV5XOua2qXAAAAAAElFTkSuQmCC\n",
       "\" style=\"display:inline;vertical-align:middle;\" /></a></span>"
      ],
      "text/plain": [
       "{A in BOOLEAN, [not](A) => B} |- [not](B) => A"
      ]
     },
     "execution_count": 5,
     "metadata": {},
     "output_type": "execute_result"
    }
   ],
   "source": [
    "not_a_implies_B.deny_antecedent().as_implication(Not(B))"
   ]
  },
  {
   "cell_type": "code",
   "execution_count": 6,
   "metadata": {},
   "outputs": [
    {
     "data": {
      "text/html": [
       "<table><tr><th>&nbsp;</th><th>step type</th><th>requirements</th><th>statement</th></tr>\n",
       "<tr><td><a name=\"0x764564ea7d8b44c2_step0\">0</a></td><td>generalizaton</td><td><a href=\"#0x764564ea7d8b44c2_step1\">1</a></td><td><span style=\"font-size:20px;\"> <a class=\"ProveItLink\" href=\"../../../__pv_it/_proof_contrapose_neg_antecedent/952520b2c7f59d15b2df1d6e6e969a810a0bc0970/proof.ipynb\" style=\"text-decoration: none\">&nbsp;&#x22A2;&nbsp;&nbsp;</a><a class=\"ProveItLink\" href=\"../../../__pv_it/theorems/4ddb0cc8a8de6619e8c9b41e47d23feb5fea171f0/expr.ipynb\"><img src=\"data:image/png;base64,iVBORw0KGgoAAAANSUhEUgAAAR4AAAAWBAMAAADkw+48AAAAMFBMVEX///8QEBCIiIhmZma6urrM\n",
       "zMxUVFQiIiJERETc3Nzu7u6qqqp2dnaYmJgyMjIAAAAcRTyBAAAAAXRSTlMAQObYZgAAA4tJREFU\n",
       "SMe9VkFIVEEY/nu76+7bfU+9FRTxqENeyoUFpahcEMqLuV2qUy5YYB5S8FCR0RYd1orcSyaBuFFY\n",
       "KNlCRHSoFiRKk3jQMaw165CHjAxTI2xm/pl5s+6+BQ/bD/++t/N9M++b/5/5ZwDKZ4Pc8yyUcu9A\n",
       "sRx9mS6HnGACnZvZuRhpvwJwyoV+HBj2lr7PlUNPZQpd2AairSEGYy70eeIEGyAPPVEOPe+5C2u1\n",
       "AVrCYFhF2eZ8GihWSR+Zcug5x11YLYnVJwuC1bIloERvtIH8IZg5OTJyqxxy9C50aZfI9zaS2X+R\n",
       "LT4lL3ZtFBi2lEz2lBpX3Q++dejRwujSFgGOdpDneH5K0bzplzZiJwF6WRP+Ni2MtzMJXiQaTu9e\n",
       "CEWV8SVT9s2zgI0u57I4XXOevnykP/VnqF2Ueu9Bq4VYIwTZnjd/4bqqBoNlOIBEZ3tSwm51BQqm\n",
       "7Avm59lusRb9GXT2ZZIBbRngTpwAT5UxXgh2FIbCiPlBY7O4+5cBnjiEVhw9vqzsSwnDyliSyfuO\n",
       "ju8DKzv4RGzvKDqzfjIe0a79oftMrVEzyPC1RToTiBm2nzVNduO0LPDkHD0VMdmXErCehOw8JkLm\n",
       "tdtpsCzjoYueKhIb7ecaPf0TfPkQbg4xPXeEKbSSDHkUg11pR4/fyT8lYCgxiZKJUCN9s6zmiTX5\n",
       "Enpo+amgeT1IG/Z/Z/aN45RbzbHeEywQUM+Qlp01cXD0OKWAEUJxI0mMRVkyEWKhsiJbY8XWcz+W\n",
       "n9aEWM9oh0RtIHoqf3DsMSsSH6CWQe8Adih6mgDeEAE5TvDyirE9qjAZFAxjfDw3+TeMMLooFDOk\n",
       "9yYaz73O6hHnFJ11YJljVXSjBWen+ljwrwMMZRw9B7BDnBN8fMEMdyhMBvnOJpOX6frRREXpQud2\n",
       "erWtLsnoX52Q81g+WJ2DUN/vMGIm1eFJwxBDyQ5oSTl6jgk9SPDGtQixuj0qE6E4xsfwuJ0XIiiO\n",
       "Rt0dayZxsvWroK+AvkXJ132hhxHAzMIIsW10MGQOpDn0iunJGlNu56nIo+Ve0yUWWAK974JvM7xe\n",
       "iLRHFT1+3EEpJICHYTqNBWceznAoQJJh9szesNXTMlB4+xorccasxUJqvcdTKP/oryyMsyTUkPVT\n",
       "4j4G7keLK/asQA/kD/gc1nH/LHpfNUvcVwswu1BPc96Uw4VjwH8yT5H5a+lyf/UfX0oMLnQUkvYA\n",
       "AAAASUVORK5CYII=\n",
       "\" style=\"display:inline;vertical-align:middle;\" /></a></span></td></tr>\n",
       "<tr><td><a name=\"0x764564ea7d8b44c2_step1\">1</a></td><td>deduction</td><td><a href=\"#0x764564ea7d8b44c2_step2\">2</a></td><td><span style=\"font-size:20px;\"><a class=\"ProveItLink\" href=\"../../../../__pv_it/theorems/bc796b8e7562f2d661739850b78776738bfc78d80/expr.ipynb\"><img src=\"data:image/png;base64,iVBORw0KGgoAAAANSUhEUgAAADYAAAAPBAMAAABdHiGLAAAAMFBMVEX///92dnYiIiIQEBBERERU\n",
       "VFS6urqIiIjc3NxmZmaqqqru7u6YmJgyMjLMzMwAAADiRdoGAAAAAXRSTlMAQObYZgAAANdJREFU\n",
       "GNNjYACBtwwogF3Z5a9RGJRzH1WOgZevYMvOA2Amz/0NqHIsbAfYHziAmbvmN0DEeJyUdKFyXAsg\n",
       "cgfqE8A0n/sGuD7GbLAc24b1ELP3bkCYmfT0AYi1jeF9AVgoAmGf0X8zMCuBoX8CmOGA5BbGMwIg\n",
       "WyJnxoNF+WzvAgFUjsEhB2QdAwPzBZAIB7I+BgdWIGMBAwOTAVjIAFkugBeoGijH+wEsNB1F30EG\n",
       "hiYQ+wdYiGkBPMwEGCUDGLb8v83A5f8J7FDukGzMsIYBNhFImEEAAEUpOYcaSaDVAAAAAElFTkSu\n",
       "QmCC\n",
       "\" style=\"display:inline;vertical-align:middle;\" /></a>, <a class=\"ProveItLink\" href=\"../../../__pv_it/theorems/eaba87f0887a4ce2b5d5821c8c7a45685b9d619a0/expr.ipynb\"><img src=\"data:image/png;base64,iVBORw0KGgoAAAANSUhEUgAAAFwAAAAUBAMAAADyykdqAAAAMFBMVEX////MzMxUVFR2dna6uroQ\n",
       "EBCqqqqIiIgiIiJmZmYyMjJERETu7u6YmJjc3NwAAACgK8IjAAAAAXRSTlMAQObYZgAAAWBJREFU\n",
       "KM9jYOC7wIAK2B4w4AGnUXhSQKyHTdml/5qTdjswMKxDEV0PxKewGhvNwMD5kYF3ArIY7/oDDAzM\n",
       "BVhUM/5lYGD5ycCB4tJj84FcngCEwD4Yg/0f0LDvDC9QzLhQD3QewxKEgDSMwQ0042gPQyWyapYD\n",
       "+aBwskRyHcyt/AoMjE0HGPYiKz/CIA9y9y0Qm7MDDH5CpeR1r+9IYGBog0kYAMUcGN6DTMtAjoVl\n",
       "ELr+AQNPEANDCFSYTwHoe82Z+htAJiHbeAqiYitISwKKchYGBtYFaMr5lCFB9wmkvADkGLhyoNs4\n",
       "QIHoAXb7Kgh4AA92Bn0HuFeByvmAyrk+wLwKDasFiGBn/I0UaALgKOAGCjNMRnL5AQjNBbTVdQ/U\n",
       "Ykha+7+GgW3/D2DQLEQoV4RQTOs/zdTeBmRwYCZXngYEG10WNYmBAdYkhpGIEO4lPntgNwA5HtAz\n",
       "Hy+ezAcAn6teNb06mV0AAAAASUVORK5CYII=\n",
       "\" style=\"display:inline;vertical-align:middle;\" /></a> <a class=\"ProveItLink\" href=\"../../../__pv_it/_proof_contrapose_neg_antecedent/2208f732bb60dac437cfd258b5e32f31e7d930550/proof.ipynb\" style=\"text-decoration: none\">&nbsp;&#x22A2;&nbsp;&nbsp;</a><a class=\"ProveItLink\" href=\"../../../__pv_it/theorems/6db021c390634ab9cbaa4f2c950441896cc60d2f0/expr.ipynb\"><img src=\"data:image/png;base64,iVBORw0KGgoAAAANSUhEUgAAAFwAAAAUBAMAAADyykdqAAAAMFBMVEX////MzMxUVFR2dna6uroQ\n",
       "EBCqqqqIiIgiIiJmZmYyMjJERETu7u6YmJjc3NwAAACgK8IjAAAAAXRSTlMAQObYZgAAAWpJREFU\n",
       "KM9jYOC7wIAG8hjwgNMI5qX/mpN2OzAwPcCuknEBkFiHJBDNwMD5kYFnAXblXB8YGHgnIGn/y8DA\n",
       "8pOBwRy78lt/GBg4kGxm/wfU/p2B4ShCiBshzZMJlH6BpJ07AKi0B2irA8LCDXAmL/sXBoZKJOX8\n",
       "CgyMTQcYGJiRHHgTzvJhA7p1L5Jyed3rOxJA5oD9OqMDBPphWnkcGIHubAMGBljcgIGh/gEDTxBQ\n",
       "hq0ByYysBAjNwsAHDIUQqCifAgPDViBdD5Rl/ICknGcpxCdCMyf9RlX+CaS8AE35IzsIDdQUBXYM\n",
       "TDko2Bn0gcIsYMfMWgUG0GhkA+JWhFeBykHBzvgb7lUI8ILSz4B4PQODJUxcgIELGOyue4BMTgOE\n",
       "y9dATQNZuP8Bgwdchmn9p5na28CJQwAhCGHy7P91gCH7fydKIoCBEwgmH5oUchKDAXM86X0fhgiu\n",
       "BIyePTBTISbAzHz3cCsGABV5XOua2qXAAAAAAElFTkSuQmCC\n",
       "\" style=\"display:inline;vertical-align:middle;\" /></a></span></td></tr>\n",
       "<tr><td><a name=\"0x764564ea7d8b44c2_step2\">2</a></td><td>instantiation</td><td><a href=\"#0x764564ea7d8b44c2_step3\">3</a>, <a href=\"#0x764564ea7d8b44c2_step4\">4</a>, <a href=\"#0x764564ea7d8b44c2_step5\">5</a>, <a href=\"#0x764564ea7d8b44c2_step6\">6</a></td><td><span style=\"font-size:20px;\"><a class=\"ProveItLink\" href=\"../../../../__pv_it/theorems/bc796b8e7562f2d661739850b78776738bfc78d80/expr.ipynb\"><img src=\"data:image/png;base64,iVBORw0KGgoAAAANSUhEUgAAADYAAAAPBAMAAABdHiGLAAAAMFBMVEX///92dnYiIiIQEBBERERU\n",
       "VFS6urqIiIjc3NxmZmaqqqru7u6YmJgyMjLMzMwAAADiRdoGAAAAAXRSTlMAQObYZgAAANdJREFU\n",
       "GNNjYACBtwwogF3Z5a9RGJRzH1WOgZevYMvOA2Amz/0NqHIsbAfYHziAmbvmN0DEeJyUdKFyXAsg\n",
       "cgfqE8A0n/sGuD7GbLAc24b1ELP3bkCYmfT0AYi1jeF9AVgoAmGf0X8zMCuBoX8CmOGA5BbGMwIg\n",
       "WyJnxoNF+WzvAgFUjsEhB2QdAwPzBZAIB7I+BgdWIGMBAwOTAVjIAFkugBeoGijH+wEsNB1F30EG\n",
       "hiYQ+wdYiGkBPMwEGCUDGLb8v83A5f8J7FDukGzMsIYBNhFImEEAAEUpOYcaSaDVAAAAAElFTkSu\n",
       "QmCC\n",
       "\" style=\"display:inline;vertical-align:middle;\" /></a>, <a class=\"ProveItLink\" href=\"../../../__pv_it/theorems/eaba87f0887a4ce2b5d5821c8c7a45685b9d619a0/expr.ipynb\"><img src=\"data:image/png;base64,iVBORw0KGgoAAAANSUhEUgAAAFwAAAAUBAMAAADyykdqAAAAMFBMVEX////MzMxUVFR2dna6uroQ\n",
       "EBCqqqqIiIgiIiJmZmYyMjJERETu7u6YmJjc3NwAAACgK8IjAAAAAXRSTlMAQObYZgAAAWBJREFU\n",
       "KM9jYOC7wIAK2B4w4AGnUXhSQKyHTdml/5qTdjswMKxDEV0PxKewGhvNwMD5kYF3ArIY7/oDDAzM\n",
       "BVhUM/5lYGD5ycCB4tJj84FcngCEwD4Yg/0f0LDvDC9QzLhQD3QewxKEgDSMwQ0042gPQyWyapYD\n",
       "+aBwskRyHcyt/AoMjE0HGPYiKz/CIA9y9y0Qm7MDDH5CpeR1r+9IYGBog0kYAMUcGN6DTMtAjoVl\n",
       "ELr+AQNPEANDCFSYTwHoe82Z+htAJiHbeAqiYitISwKKchYGBtYFaMr5lCFB9wmkvADkGLhyoNs4\n",
       "QIHoAXb7Kgh4AA92Bn0HuFeByvmAyrk+wLwKDasFiGBn/I0UaALgKOAGCjNMRnL5AQjNBbTVdQ/U\n",
       "Ykha+7+GgW3/D2DQLEQoV4RQTOs/zdTeBmRwYCZXngYEG10WNYmBAdYkhpGIEO4lPntgNwA5HtAz\n",
       "Hy+ezAcAn6teNb06mV0AAAAASUVORK5CYII=\n",
       "\" style=\"display:inline;vertical-align:middle;\" /></a>, <a class=\"ProveItLink\" href=\"../../../__pv_it/theorems/303f482d5bc18658cf260ef56d927698c7912bf90/expr.ipynb\"><img src=\"data:image/png;base64,iVBORw0KGgoAAAANSUhEUgAAAB0AAAAOBAMAAAAh/woJAAAAMFBMVEX///8yMjKqqqru7u6IiIgQ\n",
       "EBC6urpERESYmJjMzMxUVFTc3Nx2dnYiIiJmZmYAAABbDZECAAAAAXRSTlMAQObYZgAAAH9JREFU\n",
       "CNdjYIACjvW/3i0vY0AA1gIGhvcTEPz5DQwM+Q8QfP8NDAz9Dgh+KQMDc6wBgv+LgWHuYgSX81eH\n",
       "+yUg/fYuENxhYGD5zcBgugAquYuBgT0AKPYJwecHyrF8QfBB1nN9Q/BB1s8vgBnOwCDKwMAWjrB+\n",
       "4f91r8oVGBgAyy8lZJPyWlAAAAAASUVORK5CYII=\n",
       "\" style=\"display:inline;vertical-align:middle;\" /></a> <a class=\"ProveItLink\" href=\"../../../__pv_it/_proof_contrapose_neg_antecedent/e80aa096292cc5c4f082730f156c5ec788c166d50/proof.ipynb\" style=\"text-decoration: none\">&nbsp;&#x22A2;&nbsp;&nbsp;</a><a class=\"ProveItLink\" href=\"../../../../../../__pv_it/common/09585084922504426caf1db2ff588a23a0932a960/expr.ipynb\"><img src=\"data:image/png;base64,iVBORw0KGgoAAAANSUhEUgAAAA8AAAAOBAMAAAACpFvcAAAALVBMVEX///8iIiIQEBBERERUVFS6\n",
       "urqIiIjc3NxmZmaqqqru7u6YmJgyMjLMzMwAAACK9jtgAAAAAXRSTlMAQObYZgAAAFtJREFUCNdj\n",
       "YACBOwxQcA5Kc59bAGGs7CuAMDbkBYBp1gXzNoAZSxnuJYAZAQx1DSCa16PDzwCshIGB6QCIMYGB\n",
       "gVEBSLMDGTwPgIxCIGZ+zsCw+N0pBk67hw0AfpEVEQi8t+wAAAAASUVORK5CYII=\n",
       "\" style=\"display:inline;vertical-align:middle;\" /></a></span></td></tr>\n",
       "<tr><td>&nbsp;</td><td colspan=4 style=\"text-align:left\"><span style=\"font-size:20px;\"><a class=\"ProveItLink\" href=\"../../../../../../__pv_it/common/09585084922504426caf1db2ff588a23a0932a960/expr.ipynb\"><img src=\"data:image/png;base64,iVBORw0KGgoAAAANSUhEUgAAAA8AAAAOBAMAAAACpFvcAAAALVBMVEX///8iIiIQEBBERERUVFS6\n",
       "urqIiIjc3NxmZmaqqqru7u6YmJgyMjLMzMwAAACK9jtgAAAAAXRSTlMAQObYZgAAAFtJREFUCNdj\n",
       "YACBOwxQcA5Kc59bAGGs7CuAMDbkBYBp1gXzNoAZSxnuJYAZAQx1DSCa16PDzwCshIGB6QCIMYGB\n",
       "gVEBSLMDGTwPgIxCIGZ+zsCw+N0pBk67hw0AfpEVEQi8t+wAAAAASUVORK5CYII=\n",
       "\" style=\"display:inline;vertical-align:middle;\" /></a> : <a class=\"ProveItLink\" href=\"../../../../../../__pv_it/common/09585084922504426caf1db2ff588a23a0932a960/expr.ipynb\"><img src=\"data:image/png;base64,iVBORw0KGgoAAAANSUhEUgAAAA8AAAAOBAMAAAACpFvcAAAALVBMVEX///8iIiIQEBBERERUVFS6\n",
       "urqIiIjc3NxmZmaqqqru7u6YmJgyMjLMzMwAAACK9jtgAAAAAXRSTlMAQObYZgAAAFtJREFUCNdj\n",
       "YACBOwxQcA5Kc59bAGGs7CuAMDbkBYBp1gXzNoAZSxnuJYAZAQx1DSCa16PDzwCshIGB6QCIMYGB\n",
       "gVEBSLMDGTwPgIxCIGZ+zsCw+N0pBk67hw0AfpEVEQi8t+wAAAAASUVORK5CYII=\n",
       "\" style=\"display:inline;vertical-align:middle;\" /></a>, <a class=\"ProveItLink\" href=\"../../../../../../__pv_it/common/a9162d1c3cc0470c02e5daf414500903a7a419230/expr.ipynb\"><img src=\"data:image/png;base64,iVBORw0KGgoAAAANSUhEUgAAABAAAAAOBAMAAADUAYG5AAAALVBMVEX///8yMjKqqqoiIiLu7u7c\n",
       "3NyIiIjMzMwQEBC6urpERERmZmZUVFSYmJgAAACsPVCVAAAAAXRSTlMAQObYZgAAAGxJREFUCNdj\n",
       "YGC48+70nlUTGICgi4GB+zmQZn/LwMD5Gshge8rAwPsMyOBqYGDwMAEy+A4wsNs4ABl1Z68tVgBp\n",
       "ygtgYOkBMVaAOCChNyBGAsQYhnMTIMawvwJyGIHGzFjCwMAj92b3qUUMDAAXABxvZ4rl5AAAAABJ\n",
       "RU5ErkJggg==\n",
       "\" style=\"display:inline;vertical-align:middle;\" /></a> : <a class=\"ProveItLink\" href=\"../../../../../../__pv_it/common/a9162d1c3cc0470c02e5daf414500903a7a419230/expr.ipynb\"><img src=\"data:image/png;base64,iVBORw0KGgoAAAANSUhEUgAAABAAAAAOBAMAAADUAYG5AAAALVBMVEX///8yMjKqqqoiIiLu7u7c\n",
       "3NyIiIjMzMwQEBC6urpERERmZmZUVFSYmJgAAACsPVCVAAAAAXRSTlMAQObYZgAAAGxJREFUCNdj\n",
       "YGC48+70nlUTGICgi4GB+zmQZn/LwMD5Gshge8rAwPsMyOBqYGDwMAEy+A4wsNs4ABl1Z68tVgBp\n",
       "ygtgYOkBMVaAOCChNyBGAsQYhnMTIMawvwJyGIHGzFjCwMAj92b3qUUMDAAXABxvZ4rl5AAAAABJ\n",
       "RU5ErkJggg==\n",
       "\" style=\"display:inline;vertical-align:middle;\" /></a></span></td></tr><tr><td><a name=\"0x764564ea7d8b44c2_step3\">3</a></td><td>theorem</td><td></td><td><span style=\"font-size:20px;\"> <a class=\"ProveItLink\" href=\"../modus_tollens_affirmation/thm_proof.ipynb\" style=\"text-decoration: none\">&nbsp;&#x22A2;&nbsp;&nbsp;</a><a class=\"ProveItLink\" href=\"../../../__pv_it/theorems/1ac21c0faecacbdae22987d4c569391284ee6fd10/expr.ipynb\"><img src=\"data:image/png;base64,iVBORw0KGgoAAAANSUhEUgAAAOoAAAAZBAMAAADNvK/KAAAAMFBMVEX///8QEBCIiIhmZma6urrM\n",
       "zMxUVFQiIiJERETc3Nzu7u6qqqp2dnaYmJgyMjIAAAAcRTyBAAAAAXRSTlMAQObYZgAAAxlJREFU\n",
       "SMfllktoE0Ecxj92N002u0l78ChlwYO9VAuRFEElIEgRSuOleFzwQb1VC1ahoojoBqWJB2tRtIuC\n",
       "4ooaKIKXYqSI2laJHn0R7M2L0lZoKz7mkexMSNIqbk8O7OyyM9/8Zr6Z+c8AK6amweMIOmmDQ6vU\n",
       "CGMt0sh/RS3R14fG1Dh9xYpBAUMlRp2m358bU808ecXdoKjxr4w6SnL9VGMqKxsNzNyPy4xKh8HG\n",
       "02heqQ/TQUGj40uMGpvyvMsrrab3nnenPyhqTFnga3jRcYZWojY7zrlCnaKcvEb+lLrb+MGpB4AM\n",
       "+5OpT21KI0IIXfOTfQyk8RJTVMrASMmxJ7stKbXlC6nBqdAcp+5ElO2e2ELZhE+zA3mJqnXgPv3d\n",
       "ArOF/orwkkPCNSLcKnf1NfBEMrUiZD3W5zk1DIXtxpt07Hcnt8MqXHsoR4l+tJNctWEsC2pImE6F\n",
       "t2RqEngstpovJKk3kVzkVLPIA9DUAOnX+SsuLMu8J1Nfgi6msAW1JKjE90qiwjj3cILlR4Ad0iRV\n",
       "hCSRiWjlVL3UyzpvOdRtkiyr+4VMvR6ySf4gjU2uoIpQyYTcLjRRePQbFCns+ELAIM/hchzO7GcC\n",
       "dIKHRyvRmpapkRG6Vnra22wIqthsTGjYeO44zvA6Onlzb85KfvtC4Cp5vpSp42w3vsNmRDv4WNVL\n",
       "MtXopF+vgI0StQsMU+JCaOXopmwhU1aCQps0aTckIXT6N5vj1GaL2jI7k3VDxxznNJ1XperMoYsd\n",
       "F4CxvKDu4uU2F/KgTps56CJSgP7dN0IIo9mfLh79GuDUGHVddTGWhs3HaqpV1Lc0I+305AR1b4XK\n",
       "hZqNDQmS9pG2mvPQlgTVF9Y5X7tJ7SKeMmrBnKk5X/Vl6Oslh29XqFwYKyDqed4NatuYi4sFjLqc\n",
       "KoS11Mgi9OwJRIgVsaHZ4WIN9dl8oi8lUcN8WebKQjXlN2eeTCTPAHuYq7okbHyXaCPzuspdglOV\n",
       "6mMqXhub84HeYMoRsfpInqipZuTWgtpddWx21J5p/3Jbq70Pq3XGovzNDUcbPPobjMDZqMhIwAIA\n",
       "AAAASUVORK5CYII=\n",
       "\" style=\"display:inline;vertical-align:middle;\" /></a></span></td></tr>\n",
       "<tr><td>&nbsp;</td><td colspan=4 style-\"text-align:left\"><a class=\"ProveItLink\" href=\"../modus_tollens_affirmation/thm_proof.ipynb\">proveit.logic.booleans.implication.modus_tollens_affirmation</a></td></tr><tr><td><a name=\"0x764564ea7d8b44c2_step4\">4</a></td><td>assumption</td><td></td><td><span style=\"font-size:20px;\"><a class=\"ProveItLink\" href=\"../../../../__pv_it/theorems/bc796b8e7562f2d661739850b78776738bfc78d80/expr.ipynb\"><img src=\"data:image/png;base64,iVBORw0KGgoAAAANSUhEUgAAADYAAAAPBAMAAABdHiGLAAAAMFBMVEX///92dnYiIiIQEBBERERU\n",
       "VFS6urqIiIjc3NxmZmaqqqru7u6YmJgyMjLMzMwAAADiRdoGAAAAAXRSTlMAQObYZgAAANdJREFU\n",
       "GNNjYACBtwwogF3Z5a9RGJRzH1WOgZevYMvOA2Amz/0NqHIsbAfYHziAmbvmN0DEeJyUdKFyXAsg\n",
       "cgfqE8A0n/sGuD7GbLAc24b1ELP3bkCYmfT0AYi1jeF9AVgoAmGf0X8zMCuBoX8CmOGA5BbGMwIg\n",
       "WyJnxoNF+WzvAgFUjsEhB2QdAwPzBZAIB7I+BgdWIGMBAwOTAVjIAFkugBeoGijH+wEsNB1F30EG\n",
       "hiYQ+wdYiGkBPMwEGCUDGLb8v83A5f8J7FDukGzMsIYBNhFImEEAAEUpOYcaSaDVAAAAAElFTkSu\n",
       "QmCC\n",
       "\" style=\"display:inline;vertical-align:middle;\" /></a> <a class=\"ProveItLink\" href=\"../../../__pv_it/_proof_contrapose_neg_antecedent/c2ef803ea4f0c87916714ea10154e1c2667b569b0/proof.ipynb\" style=\"text-decoration: none\">&nbsp;&#x22A2;&nbsp;&nbsp;</a><a class=\"ProveItLink\" href=\"../../../../__pv_it/theorems/bc796b8e7562f2d661739850b78776738bfc78d80/expr.ipynb\"><img src=\"data:image/png;base64,iVBORw0KGgoAAAANSUhEUgAAADYAAAAPBAMAAABdHiGLAAAAMFBMVEX///92dnYiIiIQEBBERERU\n",
       "VFS6urqIiIjc3NxmZmaqqqru7u6YmJgyMjLMzMwAAADiRdoGAAAAAXRSTlMAQObYZgAAANdJREFU\n",
       "GNNjYACBtwwogF3Z5a9RGJRzH1WOgZevYMvOA2Amz/0NqHIsbAfYHziAmbvmN0DEeJyUdKFyXAsg\n",
       "cgfqE8A0n/sGuD7GbLAc24b1ELP3bkCYmfT0AYi1jeF9AVgoAmGf0X8zMCuBoX8CmOGA5BbGMwIg\n",
       "WyJnxoNF+WzvAgFUjsEhB2QdAwPzBZAIB7I+BgdWIGMBAwOTAVjIAFkugBeoGijH+wEsNB1F30EG\n",
       "hiYQ+wdYiGkBPMwEGCUDGLb8v83A5f8J7FDukGzMsIYBNhFImEEAAEUpOYcaSaDVAAAAAElFTkSu\n",
       "QmCC\n",
       "\" style=\"display:inline;vertical-align:middle;\" /></a></span></td></tr>\n",
       "<tr><td><a name=\"0x764564ea7d8b44c2_step5\">5</a></td><td>assumption</td><td></td><td><span style=\"font-size:20px;\"><a class=\"ProveItLink\" href=\"../../../__pv_it/theorems/eaba87f0887a4ce2b5d5821c8c7a45685b9d619a0/expr.ipynb\"><img src=\"data:image/png;base64,iVBORw0KGgoAAAANSUhEUgAAAFwAAAAUBAMAAADyykdqAAAAMFBMVEX////MzMxUVFR2dna6uroQ\n",
       "EBCqqqqIiIgiIiJmZmYyMjJERETu7u6YmJjc3NwAAACgK8IjAAAAAXRSTlMAQObYZgAAAWBJREFU\n",
       "KM9jYOC7wIAK2B4w4AGnUXhSQKyHTdml/5qTdjswMKxDEV0PxKewGhvNwMD5kYF3ArIY7/oDDAzM\n",
       "BVhUM/5lYGD5ycCB4tJj84FcngCEwD4Yg/0f0LDvDC9QzLhQD3QewxKEgDSMwQ0042gPQyWyapYD\n",
       "+aBwskRyHcyt/AoMjE0HGPYiKz/CIA9y9y0Qm7MDDH5CpeR1r+9IYGBog0kYAMUcGN6DTMtAjoVl\n",
       "ELr+AQNPEANDCFSYTwHoe82Z+htAJiHbeAqiYitISwKKchYGBtYFaMr5lCFB9wmkvADkGLhyoNs4\n",
       "QIHoAXb7Kgh4AA92Bn0HuFeByvmAyrk+wLwKDasFiGBn/I0UaALgKOAGCjNMRnL5AQjNBbTVdQ/U\n",
       "Ykha+7+GgW3/D2DQLEQoV4RQTOs/zdTeBmRwYCZXngYEG10WNYmBAdYkhpGIEO4lPntgNwA5HtAz\n",
       "Hy+ezAcAn6teNb06mV0AAAAASUVORK5CYII=\n",
       "\" style=\"display:inline;vertical-align:middle;\" /></a> <a class=\"ProveItLink\" href=\"../../../__pv_it/_proof_contrapose_neg_antecedent/9a5631259eee78214c46fe5ea5087fd306ff65220/proof.ipynb\" style=\"text-decoration: none\">&nbsp;&#x22A2;&nbsp;&nbsp;</a><a class=\"ProveItLink\" href=\"../../../__pv_it/theorems/eaba87f0887a4ce2b5d5821c8c7a45685b9d619a0/expr.ipynb\"><img src=\"data:image/png;base64,iVBORw0KGgoAAAANSUhEUgAAAFwAAAAUBAMAAADyykdqAAAAMFBMVEX////MzMxUVFR2dna6uroQ\n",
       "EBCqqqqIiIgiIiJmZmYyMjJERETu7u6YmJjc3NwAAACgK8IjAAAAAXRSTlMAQObYZgAAAWBJREFU\n",
       "KM9jYOC7wIAK2B4w4AGnUXhSQKyHTdml/5qTdjswMKxDEV0PxKewGhvNwMD5kYF3ArIY7/oDDAzM\n",
       "BVhUM/5lYGD5ycCB4tJj84FcngCEwD4Yg/0f0LDvDC9QzLhQD3QewxKEgDSMwQ0042gPQyWyapYD\n",
       "+aBwskRyHcyt/AoMjE0HGPYiKz/CIA9y9y0Qm7MDDH5CpeR1r+9IYGBog0kYAMUcGN6DTMtAjoVl\n",
       "ELr+AQNPEANDCFSYTwHoe82Z+htAJiHbeAqiYitISwKKchYGBtYFaMr5lCFB9wmkvADkGLhyoNs4\n",
       "QIHoAXb7Kgh4AA92Bn0HuFeByvmAyrk+wLwKDasFiGBn/I0UaALgKOAGCjNMRnL5AQjNBbTVdQ/U\n",
       "Ykha+7+GgW3/D2DQLEQoV4RQTOs/zdTeBmRwYCZXngYEG10WNYmBAdYkhpGIEO4lPntgNwA5HtAz\n",
       "Hy+ezAcAn6teNb06mV0AAAAASUVORK5CYII=\n",
       "\" style=\"display:inline;vertical-align:middle;\" /></a></span></td></tr>\n",
       "<tr><td><a name=\"0x764564ea7d8b44c2_step6\">6</a></td><td>assumption</td><td></td><td><span style=\"font-size:20px;\"><a class=\"ProveItLink\" href=\"../../../__pv_it/theorems/303f482d5bc18658cf260ef56d927698c7912bf90/expr.ipynb\"><img src=\"data:image/png;base64,iVBORw0KGgoAAAANSUhEUgAAAB0AAAAOBAMAAAAh/woJAAAAMFBMVEX///8yMjKqqqru7u6IiIgQ\n",
       "EBC6urpERESYmJjMzMxUVFTc3Nx2dnYiIiJmZmYAAABbDZECAAAAAXRSTlMAQObYZgAAAH9JREFU\n",
       "CNdjYIACjvW/3i0vY0AA1gIGhvcTEPz5DQwM+Q8QfP8NDAz9Dgh+KQMDc6wBgv+LgWHuYgSX81eH\n",
       "+yUg/fYuENxhYGD5zcBgugAquYuBgT0AKPYJwecHyrF8QfBB1nN9Q/BB1s8vgBnOwCDKwMAWjrB+\n",
       "4f91r8oVGBgAyy8lZJPyWlAAAAAASUVORK5CYII=\n",
       "\" style=\"display:inline;vertical-align:middle;\" /></a> <a class=\"ProveItLink\" href=\"../../../__pv_it/_proof_contrapose_neg_antecedent/24532d4ddd07ff2906b369b597795c0d7f2d7de10/proof.ipynb\" style=\"text-decoration: none\">&nbsp;&#x22A2;&nbsp;&nbsp;</a><a class=\"ProveItLink\" href=\"../../../__pv_it/theorems/303f482d5bc18658cf260ef56d927698c7912bf90/expr.ipynb\"><img src=\"data:image/png;base64,iVBORw0KGgoAAAANSUhEUgAAAB0AAAAOBAMAAAAh/woJAAAAMFBMVEX///8yMjKqqqru7u6IiIgQ\n",
       "EBC6urpERESYmJjMzMxUVFTc3Nx2dnYiIiJmZmYAAABbDZECAAAAAXRSTlMAQObYZgAAAH9JREFU\n",
       "CNdjYIACjvW/3i0vY0AA1gIGhvcTEPz5DQwM+Q8QfP8NDAz9Dgh+KQMDc6wBgv+LgWHuYgSX81eH\n",
       "+yUg/fYuENxhYGD5zcBgugAquYuBgT0AKPYJwecHyrF8QfBB1nN9Q/BB1s8vgBnOwCDKwMAWjrB+\n",
       "4f91r8oVGBgAyy8lZJPyWlAAAAAASUVORK5CYII=\n",
       "\" style=\"display:inline;vertical-align:middle;\" /></a></span></td></tr>\n",
       "</table>"
      ],
      "text/plain": [
       "\tstep type\trequirements\tstatement\n",
       "0\tgeneralizaton\t1\t|- forall_{A, B | [not](A) => B, A in BOOLEAN} ([not](B) => A)\n",
       "1\tdeduction\t2\t{A in BOOLEAN, [not](A) => B} |- [not](B) => A\n",
       "2\tinstantiation\t3, 4, 5, 6\t{A in BOOLEAN, [not](A) => B, [not](B)} |- A\n",
       "\tA : A, B : B\n",
       "3\ttheorem\t\t|- forall_{A in BOOLEAN} [forall_{B | [not](A) => B, [not](B)} A]\n",
       "\tproveit.logic.booleans.implication.modus_tollens_affirmation\n",
       "4\tassumption\t\t{A in BOOLEAN} |- A in BOOLEAN\n",
       "5\tassumption\t\t{[not](A) => B} |- [not](A) => B\n",
       "6\tassumption\t\t{[not](B)} |- [not](B)"
      ]
     },
     "execution_count": 6,
     "metadata": {},
     "output_type": "execute_result"
    }
   ],
   "source": [
    "%qed"
   ]
  },
  {
   "cell_type": "code",
   "execution_count": null,
   "metadata": {},
   "outputs": [],
   "source": []
  }
 ],
 "metadata": {
  "kernelspec": {
   "display_name": "Python 3",
   "language": "python",
   "name": "python3"
  }
 },
 "nbformat": 4,
 "nbformat_minor": 0
}