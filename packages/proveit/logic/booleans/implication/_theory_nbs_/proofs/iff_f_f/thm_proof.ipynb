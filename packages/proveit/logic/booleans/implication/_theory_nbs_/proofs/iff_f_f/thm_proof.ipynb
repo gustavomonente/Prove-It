{
 "cells": [
  {
   "cell_type": "markdown",
   "metadata": {},
   "source": [
    "Proof of <a class=\"ProveItLink\" href=\"../../../../../../_theory_nbs_/theory.ipynb\">proveit</a>.<a class=\"ProveItLink\" href=\"../../../../../_theory_nbs_/theory.ipynb\">logic</a>.<a class=\"ProveItLink\" href=\"../../../../_theory_nbs_/theory.ipynb\">booleans</a>.<a class=\"ProveItLink\" href=\"../../theory.ipynb\">implication</a>.<a class=\"ProveItLink\" href=\"../../theorems.ipynb#iff_f_f\">iff_f_f</a> theorem\n",
    "========"
   ]
  },
  {
   "cell_type": "code",
   "execution_count": 1,
   "metadata": {},
   "outputs": [],
   "source": [
    "import proveit\n",
    "from proveit.logic.booleans.implication import false_iff_false\n",
    "theory = proveit.Theory() # the theorem's theory"
   ]
  },
  {
   "cell_type": "code",
   "execution_count": 2,
   "metadata": {},
   "outputs": [
    {
     "data": {
      "text/html": [
       "Under these <a href=\"presumptions.txt\">presumptions</a>, we begin our proof of<br><strong id=\"iff_f_f\">iff_f_f:</strong> <a class=\"ProveItLink\" href=\"../../../__pv_it/theorems/caa4bdb71acbeb39539b1f05ed3600fd807810540/expr.ipynb\"><img src=\"data:image/png;base64,iVBORw0KGgoAAAANSUhEUgAAAHoAAAAUBAMAAACwiTT9AAAAMFBMVEX///9UVFTMzMx2dna6uroQ\n",
       "EBCqqqqIiIgiIiJmZmYyMjJERETu7u6YmJjc3NwAAAC+aOQFAAAAAXRSTlMAQObYZgAAAQtJREFU\n",
       "OMtjYOC7wEAI5OGWOg0m1XDIgsUZH6ALz+gAgUYGhnVgbjoO3WBxngW4ZHgnENbNYI5LhuMBmm6g\n",
       "PUwCaLqP4tL9ggFVNzsoEDeh6eZywKG7Ek23Nog4dQBVN/MEHLr3oupmCgUFZusaVN284GCzWgUC\n",
       "K5Fl2lB1F0Js1U5A0c3WgMPuEBTdJ2Dh1Y2im+kDUbr5hCH0QQPidKO5nLcL7LkmVH+zNCD8vRBP\n",
       "qDHcBIf5A2yhhsVuSzTdjKConYYW35wGOHR7QNJ8KDjNQ9M03wZ4XoCIcylg6vZFSqkIAOTzHEAT\n",
       "O4Erg/JOYCAMzHHK7COsGWsORS4d8ALuBziliCiZ7uGSAAAurVHEtovd9wAAAABJRU5ErkJggg==\n",
       "\" style=\"display:inline;vertical-align:middle;\" /></a><br>(see <a class=\"ProveItLink\" href=\"../../../__pv_it/theorems/2a0a6608a2562f48901a5be1be12638bb9a4d1b80/dependencies.ipynb\">dependencies</a>)<br>"
      ],
      "text/plain": [
       "iff_f_f: (FALSE <=> FALSE) = TRUE"
      ]
     },
     "execution_count": 2,
     "metadata": {},
     "output_type": "execute_result"
    }
   ],
   "source": [
    "%proving iff_f_f"
   ]
  },
  {
   "cell_type": "code",
   "execution_count": 3,
   "metadata": {},
   "outputs": [
    {
     "data": {
      "text/html": [
       "<table><tr><th>&nbsp;</th><th>step type</th><th>requirements</th><th>statement</th></tr>\n",
       "<tr><td><a name=\"0x5607a796e6e5cce3_step0\">0</a></td><td>instantiation</td><td><a href=\"#0x5607a796e6e5cce3_step1\">1</a>, <a href=\"#0x5607a796e6e5cce3_step2\">2</a></td><td><span style=\"font-size:20px;\"> <a class=\"ProveItLink\" href=\"../../../__pv_it/_proof_iff_f_f/a77408ebc56b865f391a3a1211ddf3fd64c514450/proof.ipynb\" style=\"text-decoration: none\">&nbsp;&#x22A2;&nbsp;&nbsp;</a><a class=\"ProveItLink\" href=\"../../../__pv_it/theorems/caa4bdb71acbeb39539b1f05ed3600fd807810540/expr.ipynb\"><img src=\"data:image/png;base64,iVBORw0KGgoAAAANSUhEUgAAAHoAAAAUBAMAAACwiTT9AAAAMFBMVEX///9UVFTMzMx2dna6uroQ\n",
       "EBCqqqqIiIgiIiJmZmYyMjJERETu7u6YmJjc3NwAAAC+aOQFAAAAAXRSTlMAQObYZgAAAQtJREFU\n",
       "OMtjYOC7wEAI5OGWOg0m1XDIgsUZH6ALz+gAgUYGhnVgbjoO3WBxngW4ZHgnENbNYI5LhuMBmm6g\n",
       "PUwCaLqP4tL9ggFVNzsoEDeh6eZywKG7Ek23Nog4dQBVN/MEHLr3oupmCgUFZusaVN284GCzWgUC\n",
       "K5Fl2lB1F0Js1U5A0c3WgMPuEBTdJ2Dh1Y2im+kDUbr5hCH0QQPidKO5nLcL7LkmVH+zNCD8vRBP\n",
       "qDHcBIf5A2yhhsVuSzTdjKConYYW35wGOHR7QNJ8KDjNQ9M03wZ4XoCIcylg6vZFSqkIAOTzHEAT\n",
       "O4Erg/JOYCAMzHHK7COsGWsORS4d8ALuBziliCiZ7uGSAAAurVHEtovd9wAAAABJRU5ErkJggg==\n",
       "\" style=\"display:inline;vertical-align:middle;\" /></a></span></td></tr>\n",
       "<tr><td>&nbsp;</td><td colspan=4 style=\"text-align:left\"><span style=\"font-size:20px;\"><a class=\"ProveItLink\" href=\"../../../../../../__pv_it/common/09585084922504426caf1db2ff588a23a0932a960/expr.ipynb\"><img src=\"data:image/png;base64,iVBORw0KGgoAAAANSUhEUgAAAA8AAAAOBAMAAAACpFvcAAAALVBMVEX///8iIiIQEBBERERUVFS6\n",
       "urqIiIjc3NxmZmaqqqru7u6YmJgyMjLMzMwAAACK9jtgAAAAAXRSTlMAQObYZgAAAFtJREFUCNdj\n",
       "YACBOwxQcA5Kc59bAGGs7CuAMDbkBYBp1gXzNoAZSxnuJYAZAQx1DSCa16PDzwCshIGB6QCIMYGB\n",
       "gVEBSLMDGTwPgIxCIGZ+zsCw+N0pBk67hw0AfpEVEQi8t+wAAAAASUVORK5CYII=\n",
       "\" style=\"display:inline;vertical-align:middle;\" /></a> : <a class=\"ProveItLink\" href=\"../../../__pv_it/theorems/dd4cc848c3939f25698b6c34cccb9f02b24790af0/expr.ipynb\"><img src=\"data:image/png;base64,iVBORw0KGgoAAAANSUhEUgAAAD8AAAAPBAMAAAChCwpBAAAAMFBMVEX///+6urp2dnbc3Nzu7u5E\n",
       "RESYmJgyMjJUVFQQEBAiIiJmZmaIiIiqqqrMzMwAAABCZPcTAAAAAXRSTlMAQObYZgAAAIVJREFU\n",
       "GNNjYGBgeMuAHfBdgDLu4FDAe4B0BexA/AKfgmNAzPoAtwK+ACDBUoJbwctZq4BgugMuBTwtEHNi\n",
       "cShgWQHlcwXgMMFCAaKwCacbsspBoOoBTgVsG0AGFOMJh0Yg5r6AqmDXqlUzV62Cus8diE0hTO5V\n",
       "q1YCfd2AGvrMQOyCKgQAwCgxhT0pvrMAAAAASUVORK5CYII=\n",
       "\" style=\"display:inline;vertical-align:middle;\" /></a></span></td></tr><tr><td><a name=\"0x5607a796e6e5cce3_step1\">1</a></td><td>axiom</td><td></td><td><span style=\"font-size:20px;\"> <a class=\"ProveItLink\" href=\"../../../../_theory_nbs_/axioms.ipynb#eq_true_intro\" style=\"text-decoration: none\">&nbsp;&#x22A2;&nbsp;&nbsp;</a><a class=\"ProveItLink\" href=\"../../../../__pv_it/axioms/654339f5fb5a65119fa860e26cec5f77107afe860/expr.ipynb\"><img src=\"data:image/png;base64,iVBORw0KGgoAAAANSUhEUgAAAIwAAAAWBAMAAADgE2koAAAAMFBMVEX///8QEBCIiIhmZma6urrM\n",
       "zMxUVFQiIiJERETc3Nzu7u6qqqp2dnaYmJgyMjIAAAAcRTyBAAAAAXRSTlMAQObYZgAAAaJJREFU\n",
       "OMtjYCAMOC/gl+eewMDwAMS4i1fZCggVhy7OXA4GCQyZDAynQQKv8BrzEkK9x+YQBRC5joFhBsjV\n",
       "DfhM4TWAUO8X4DKGR4GBDyjJswGfMewTwNRq+wm4jOESYOA9tWrVdLx+gspe0HfAZQzDEwaGHx0d\n",
       "NXiNUQaTLAv2X8BpzGEGhlQGhk4wG0KywFR0whi9YHIJQzwkHN6BgQGKMfcYGJwZuMCRzvsFLMIB\n",
       "C9gvMGOqwaQDw3wDnK7ZDgxBBiawaxf/RTEGygUCERDBmmyc34DTmHigKy+wg5mnilGMgXJhxgD9\n",
       "yvgAnzGcD8LA1il0IBsD48I8BUwS7AJIYZOAYow7KCxTQCw2BnNkY2BcaBBzAo3h+4DTNcAgZthc\n",
       "AGLdZtBHNgbGhcQmOO1w/MRpjA0Q84OYXI/P9C9AGAPnQly84v8rBu7+75hRxQJJS09BUQtSz7yA\n",
       "YX4Awhg4F5EZ8ACuAhjLF+iqCwhj4FxE1sQDeBSgDI4fDJz9tXBjEFyU9IwLrMMU4sBZbOEGnUQZ\n",
       "Q6gQ5Z1AlDHkAGaydAEA+qlrXgbLZpIAAAAASUVORK5CYII=\n",
       "\" style=\"display:inline;vertical-align:middle;\" /></a></span></td></tr>\n",
       "<tr><td>&nbsp;</td><td colspan=4 style-\"text-align:left\"><a class=\"ProveItLink\" href=\"../../../../_theory_nbs_/axioms.ipynb#eq_true_intro\">proveit.logic.booleans.eq_true_intro</a></td></tr><tr><td><a name=\"0x5607a796e6e5cce3_step2\">2</a></td><td>theorem</td><td></td><td><span style=\"font-size:20px;\"> <a class=\"ProveItLink\" href=\"../false_iff_false/thm_proof.ipynb\" style=\"text-decoration: none\">&nbsp;&#x22A2;&nbsp;&nbsp;</a><a class=\"ProveItLink\" href=\"../../../__pv_it/theorems/dd4cc848c3939f25698b6c34cccb9f02b24790af0/expr.ipynb\"><img src=\"data:image/png;base64,iVBORw0KGgoAAAANSUhEUgAAAD8AAAAPBAMAAAChCwpBAAAAMFBMVEX///+6urp2dnbc3Nzu7u5E\n",
       "RESYmJgyMjJUVFQQEBAiIiJmZmaIiIiqqqrMzMwAAABCZPcTAAAAAXRSTlMAQObYZgAAAIVJREFU\n",
       "GNNjYGBgeMuAHfBdgDLu4FDAe4B0BexA/AKfgmNAzPoAtwK+ACDBUoJbwctZq4BgugMuBTwtEHNi\n",
       "cShgWQHlcwXgMMFCAaKwCacbsspBoOoBTgVsG0AGFOMJh0Yg5r6AqmDXqlUzV62Cus8diE0hTO5V\n",
       "q1YCfd2AGvrMQOyCKgQAwCgxhT0pvrMAAAAASUVORK5CYII=\n",
       "\" style=\"display:inline;vertical-align:middle;\" /></a></span></td></tr>\n",
       "<tr><td>&nbsp;</td><td colspan=4 style-\"text-align:left\"><a class=\"ProveItLink\" href=\"../false_iff_false/thm_proof.ipynb\">proveit.logic.booleans.implication.false_iff_false</a></td></tr></table>"
      ],
      "text/plain": [
       "\tstep type\trequirements\tstatement\n",
       "0\tinstantiation\t1, 2\t|- (FALSE <=> FALSE) = TRUE\n",
       "\tA : FALSE <=> FALSE\n",
       "1\taxiom\t\t|- forall_{A | A} (A = TRUE)\n",
       "\tproveit.logic.booleans.eq_true_intro\n",
       "2\ttheorem\t\t|- FALSE <=> FALSE\n",
       "\tproveit.logic.booleans.implication.false_iff_false"
      ]
     },
     "execution_count": 3,
     "metadata": {},
     "output_type": "execute_result"
    }
   ],
   "source": [
    "%qed"
   ]
  },
  {
   "cell_type": "code",
   "execution_count": null,
   "metadata": {},
   "outputs": [],
   "source": []
  }
 ],
 "metadata": {
  "kernelspec": {
   "display_name": "Python 3",
   "language": "python",
   "name": "python3"
  }
 },
 "nbformat": 4,
 "nbformat_minor": 0
}