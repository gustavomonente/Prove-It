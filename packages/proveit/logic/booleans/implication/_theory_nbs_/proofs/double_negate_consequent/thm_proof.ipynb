{
 "cells": [
  {
   "cell_type": "markdown",
   "metadata": {},
   "source": [
    "Proof of <a class=\"ProveItLink\" href=\"../../../../../../_theory_nbs_/theory.ipynb\">proveit</a>.<a class=\"ProveItLink\" href=\"../../../../../_theory_nbs_/theory.ipynb\">logic</a>.<a class=\"ProveItLink\" href=\"../../../../_theory_nbs_/theory.ipynb\">booleans</a>.<a class=\"ProveItLink\" href=\"../../theory.ipynb\">implication</a>.<a class=\"ProveItLink\" href=\"../../theorems.ipynb#double_negate_consequent\">double_negate_consequent</a> theorem\n",
    "========"
   ]
  },
  {
   "cell_type": "code",
   "execution_count": 1,
   "metadata": {},
   "outputs": [],
   "source": [
    "import proveit\n",
    "theory = proveit.Theory() # the theorem's theory"
   ]
  },
  {
   "cell_type": "code",
   "execution_count": 2,
   "metadata": {},
   "outputs": [
    {
     "data": {
      "text/html": [
       "Under these <a href=\"presumptions.txt\">presumptions</a>, we begin our proof of<br><strong id=\"double_negate_consequent\">double_negate_consequent:</strong> <a class=\"ProveItLink\" href=\"../../../__pv_it/theorems/9a9c80dd79a342d6fe61491110190b8642e2f7860/expr.ipynb\"><img src=\"data:image/png;base64,iVBORw0KGgoAAAANSUhEUgAAAP0AAAAWBAMAAAD5mIeOAAAAMFBMVEX///8QEBCIiIhmZma6urrM\n",
       "zMxUVFQiIiJERETc3Nzu7u6qqqp2dnaYmJgyMjIAAAAcRTyBAAAAAXRSTlMAQObYZgAAAyZJREFU\n",
       "SMe9Vk1oE0EU/txN2uzmpz0ICooEPNiLNhBJQYoNeBFBWjxUbw3UShHRaA8iVoxQZCti4qUWRLrV\n",
       "QyGHGuhFD2LVg6WKRD2J1K54q1BLY2t/qHV2djf7dpNojT8PvsyXebPzvXnzZnaBP7A7G/OVDHtI\n",
       "oOkdU1XJyyneeLXKPhcNnlmMdvehJoMiXuj9M1XphzJGM1fZ56LYxGJpaZNZxBYGWa+Uqkr/rdF8\n",
       "WKnsc1F05IHWCJ4yaiKkAoFcVfoXjPSOLdtd/U6fm6KR5WI6jGFGTQQns9lbVclLSWNPha923zGn\n",
       "z0WBKyzeLSpCcRSxpCi9VekLEd4c8q/ZfcGIw+eiwCJw9CRLeMRGl5U14/dg4Vk3LxiP9YyP1I8n\n",
       "3RyzcuzL8/THvfN6K57nVqA+N4V3carhoh6mZuMAL0PGjTQG6xGo589ZD03HyQJeA09MWpszwpQK\n",
       "xO//XPQ16fH0UgqBlcpwgo1K2qiFwCO8Z6RRTMC/QvXlFrIAxIDHqnmWeFzt0dgS3ZXRzbaP2QCl\n",
       "8LGVCassD3M2Avla7p7sMSIPQ9SofmDE2MBH/PccsB9Un/3soEV5KvMT/Tq2dmHeqS9p7Xxrwgof\n",
       "db8Ne1Sqf8Rn3A76ZQV5AcIMzb+f4SzP26xhGbI3XJRQfvxr2D57kjbQf5xPjyY+qnV3QwJUPyEm\n",
       "MaEoyg09sZ75N1cdhXWb4QupT81VdAOU8uPfkXLWH8b4AX2PRj7qFbCL6gdzgnm/CnvZZmgQrPOs\n",
       "Hx5+uNP2ARlVbZ9R8ZTiI4twKxsijttAXVhP7KeXaf7sdWAoR/RHmyfM+1U+ocI3DmnVWmsScvq7\n",
       "igfrPUX9LtuHUnp6vTOm6JOH2mwgqOuKKob0P2Czt2aI/j5IC9gZZdbJxtXl4Fkud7GalvnF/Wva\n",
       "CIFhh9nceekapBVI20n+PWz31iBns9m7epqGVNwcL/di2eD7xzTy/jHrZQlS+pJ3G54Xot1xop9O\n",
       "YfBb3iwfBC5HY30odzG6jfhKh9H3r8P8dIZKqS33YbHB7w8SkYWSD6NK+n/x++sdgcPyv6f/T038\n",
       "Lyo/ACWp9wbY2ubrAAAAAElFTkSuQmCC\n",
       "\" style=\"display:inline;vertical-align:middle;\" /></a><br>(see <a class=\"ProveItLink\" href=\"../../../__pv_it/theorems/be1b1413d8fc16a2ce5f810e97268dba9d07762f0/dependencies.ipynb\">dependencies</a>)<br>"
      ],
      "text/plain": [
       "double_negate_consequent: forall_{A, B | A => B} (A => not(not(B)))"
      ]
     },
     "execution_count": 2,
     "metadata": {},
     "output_type": "execute_result"
    }
   ],
   "source": [
    "%proving double_negate_consequent"
   ]
  },
  {
   "cell_type": "code",
   "execution_count": 3,
   "metadata": {},
   "outputs": [
    {
     "data": {
      "text/html": [
       "<span style=\"font-size:20px;\"><a class=\"ProveItLink\" href=\"../../../__pv_it/theorems/d4325c8af119c430c8d7d2a3d4da5401a1227aa10/expr.ipynb\"><img src=\"data:image/png;base64,iVBORw0KGgoAAAANSUhEUgAAAEAAAAAPBAMAAACmSdRUAAAAMFBMVEX///92dnYiIiIQEBBERERU\n",
       "VFS6urqIiIjc3NxmZmaqqqru7u6YmJgyMjLMzMwAAADiRdoGAAAAAXRSTlMAQObYZgAAAO5JREFU\n",
       "GNNjYACBtwxYwNH/kVNdEiDs+9gUMJgwMHD+A7N47m/AIs/3h4GB7SeYuWt+A0LcA8Zg/wHU+h3M\n",
       "PFCfgFDwBMZgMWBg2KwNYrFtWH8AoYBnApTBH8DApwq2exvD+wIQzakEBj+hCt7HHHdaAGYlMPRP\n",
       "QHIc1y0IXd/AwG0Kdm3kzHgHZOfvNQNTziBFICPYGBiYLyDJcwRC/PQVpABkN1ARkwHYDXchoAEe\n",
       "DAzxQO9xABXwfkAYwHYBEQx8X4CMJpCXfyC5ABqqvEBTk70ZGLb8v83A5f8J4Y04CMV6/+vMEC9s\n",
       "UdSAygUACNlBmGjrK1sAAAAASUVORK5CYII=\n",
       "\" style=\"display:inline;vertical-align:middle;\" /></a> <a class=\"ProveItLink\" href=\"../../../__pv_it/_proof_double_negate_consequent/51f26d08aaa53c912ae14e2bb0132e00c3be3b740/proof.ipynb\" style=\"text-decoration: none\">&nbsp;&#x22A2;&nbsp;&nbsp;</a><a class=\"ProveItLink\" href=\"../../../__pv_it/theorems/199d31d564eae2d16a73ca9abec56cc0d640ce1f0/expr.ipynb\"><img src=\"data:image/png;base64,iVBORw0KGgoAAAANSUhEUgAAAHsAAAAUBAMAAABfS1/DAAAAMFBMVEX///92dnYiIiIQEBBERERU\n",
       "VFS6urqIiIjc3NxmZmaqqqru7u6YmJgyMjLMzMwAAADiRdoGAAAAAXRSTlMAQObYZgAAAZJJREFU\n",
       "OMudVLtKA0EUPcZkzWvXdGIXBBttUmhqUYugghFsAmIW/YG0Vln8AdNYpNLSzqDBQhDSiJZbiiJJ\n",
       "YSsJYjABMc5jh7maiYUHzt7D7JyZO3cewEhEGyYZ4CygwKvJXjfK20HheNVFxIOgQNNkfzBKLACx\n",
       "LyR8CHIkm7Vhd7JiknA+AasPTEGS4frE0/9zQQzpNiIx0WPDfQCXkGRolF39/yWIh7qJSIQzzDYP\n",
       "2K4ky6V23hhO+kA3EYnJPJxZttaxiiRwhXaJx9iMQF/229AWItHeuVs+5bP4koCLI1IbxB9FmFPj\n",
       "pahE2UNikfdKS8IpVItLtOY3Wf7NqiOTpxIrLJbZ9E5HEhYw7tPTtuX9Ye9ye4nY2VChjFj7s4Sn\n",
       "klceIvm2o8gqbqUlo8xud/Tklv+zXsxDJN92552Ujm9quEdWHpzAadXQotJmee6v81RTgvXBE+Kb\n",
       "b7r0u0Hc0yNqGWl2q9trXNktyd/w/j60ChcBR2HElVEgV8aMnFEGoBfWDPNzoW6OJ/nPx+pe8huo\n",
       "33F2GWhp9QAAAABJRU5ErkJggg==\n",
       "\" style=\"display:inline;vertical-align:middle;\" /></a></span>"
      ],
      "text/plain": [
       "{A => B} |- A => not(not(B))"
      ]
     },
     "execution_count": 3,
     "metadata": {},
     "output_type": "execute_result"
    }
   ],
   "source": [
    "double_negate_consequent.instance_expr.prove(\n",
    "    double_negate_consequent.conditions)"
   ]
  },
  {
   "cell_type": "code",
   "execution_count": 4,
   "metadata": {},
   "outputs": [
    {
     "data": {
      "text/html": [
       "<table><tr><th>&nbsp;</th><th>step type</th><th>requirements</th><th>statement</th></tr>\n",
       "<tr><td><a name=\"-0x5e3b5d2848d682dd_step0\">0</a></td><td>generalizaton</td><td><a href=\"#-0x5e3b5d2848d682dd_step1\">1</a></td><td><span style=\"font-size:20px;\"> <a class=\"ProveItLink\" href=\"../../../__pv_it/_proof_double_negate_consequent/154121bacaebb3020ba64ae13ea1aead5ac69d530/proof.ipynb\" style=\"text-decoration: none\">&nbsp;&#x22A2;&nbsp;&nbsp;</a><a class=\"ProveItLink\" href=\"../../../__pv_it/theorems/9a9c80dd79a342d6fe61491110190b8642e2f7860/expr.ipynb\"><img src=\"data:image/png;base64,iVBORw0KGgoAAAANSUhEUgAAAP0AAAAWBAMAAAD5mIeOAAAAMFBMVEX///8QEBCIiIhmZma6urrM\n",
       "zMxUVFQiIiJERETc3Nzu7u6qqqp2dnaYmJgyMjIAAAAcRTyBAAAAAXRSTlMAQObYZgAAAyZJREFU\n",
       "SMe9Vk1oE0EU/txN2uzmpz0ICooEPNiLNhBJQYoNeBFBWjxUbw3UShHRaA8iVoxQZCti4qUWRLrV\n",
       "QyGHGuhFD2LVg6WKRD2J1K54q1BLY2t/qHV2djf7dpNojT8PvsyXebPzvXnzZnaBP7A7G/OVDHtI\n",
       "oOkdU1XJyyneeLXKPhcNnlmMdvehJoMiXuj9M1XphzJGM1fZ56LYxGJpaZNZxBYGWa+Uqkr/rdF8\n",
       "WKnsc1F05IHWCJ4yaiKkAoFcVfoXjPSOLdtd/U6fm6KR5WI6jGFGTQQns9lbVclLSWNPha923zGn\n",
       "z0WBKyzeLSpCcRSxpCi9VekLEd4c8q/ZfcGIw+eiwCJw9CRLeMRGl5U14/dg4Vk3LxiP9YyP1I8n\n",
       "3RyzcuzL8/THvfN6K57nVqA+N4V3carhoh6mZuMAL0PGjTQG6xGo589ZD03HyQJeA09MWpszwpQK\n",
       "xO//XPQ16fH0UgqBlcpwgo1K2qiFwCO8Z6RRTMC/QvXlFrIAxIDHqnmWeFzt0dgS3ZXRzbaP2QCl\n",
       "8LGVCassD3M2Avla7p7sMSIPQ9SofmDE2MBH/PccsB9Un/3soEV5KvMT/Tq2dmHeqS9p7Xxrwgof\n",
       "db8Ne1Sqf8Rn3A76ZQV5AcIMzb+f4SzP26xhGbI3XJRQfvxr2D57kjbQf5xPjyY+qnV3QwJUPyEm\n",
       "MaEoyg09sZ75N1cdhXWb4QupT81VdAOU8uPfkXLWH8b4AX2PRj7qFbCL6gdzgnm/CnvZZmgQrPOs\n",
       "Hx5+uNP2ARlVbZ9R8ZTiI4twKxsijttAXVhP7KeXaf7sdWAoR/RHmyfM+1U+ocI3DmnVWmsScvq7\n",
       "igfrPUX9LtuHUnp6vTOm6JOH2mwgqOuKKob0P2Czt2aI/j5IC9gZZdbJxtXl4Fkud7GalvnF/Wva\n",
       "CIFhh9nceekapBVI20n+PWz31iBns9m7epqGVNwcL/di2eD7xzTy/jHrZQlS+pJ3G54Xot1xop9O\n",
       "YfBb3iwfBC5HY30odzG6jfhKh9H3r8P8dIZKqS33YbHB7w8SkYWSD6NK+n/x++sdgcPyv6f/T038\n",
       "Lyo/ACWp9wbY2ubrAAAAAElFTkSuQmCC\n",
       "\" style=\"display:inline;vertical-align:middle;\" /></a></span></td></tr>\n",
       "<tr><td><a name=\"-0x5e3b5d2848d682dd_step1\">1</a></td><td>deduction</td><td><a href=\"#-0x5e3b5d2848d682dd_step2\">2</a></td><td><span style=\"font-size:20px;\"><a class=\"ProveItLink\" href=\"../../../__pv_it/theorems/d4325c8af119c430c8d7d2a3d4da5401a1227aa10/expr.ipynb\"><img src=\"data:image/png;base64,iVBORw0KGgoAAAANSUhEUgAAAEAAAAAPBAMAAACmSdRUAAAAMFBMVEX///92dnYiIiIQEBBERERU\n",
       "VFS6urqIiIjc3NxmZmaqqqru7u6YmJgyMjLMzMwAAADiRdoGAAAAAXRSTlMAQObYZgAAAO5JREFU\n",
       "GNNjYACBtwxYwNH/kVNdEiDs+9gUMJgwMHD+A7N47m/AIs/3h4GB7SeYuWt+A0LcA8Zg/wHU+h3M\n",
       "PFCfgFDwBMZgMWBg2KwNYrFtWH8AoYBnApTBH8DApwq2exvD+wIQzakEBj+hCt7HHHdaAGYlMPRP\n",
       "QHIc1y0IXd/AwG0Kdm3kzHgHZOfvNQNTziBFICPYGBiYLyDJcwRC/PQVpABkN1ARkwHYDXchoAEe\n",
       "DAzxQO9xABXwfkAYwHYBEQx8X4CMJpCXfyC5ABqqvEBTk70ZGLb8v83A5f8J4Y04CMV6/+vMEC9s\n",
       "UdSAygUACNlBmGjrK1sAAAAASUVORK5CYII=\n",
       "\" style=\"display:inline;vertical-align:middle;\" /></a> <a class=\"ProveItLink\" href=\"../../../__pv_it/_proof_double_negate_consequent/51f26d08aaa53c912ae14e2bb0132e00c3be3b740/proof.ipynb\" style=\"text-decoration: none\">&nbsp;&#x22A2;&nbsp;&nbsp;</a><a class=\"ProveItLink\" href=\"../../../__pv_it/theorems/199d31d564eae2d16a73ca9abec56cc0d640ce1f0/expr.ipynb\"><img src=\"data:image/png;base64,iVBORw0KGgoAAAANSUhEUgAAAHsAAAAUBAMAAABfS1/DAAAAMFBMVEX///92dnYiIiIQEBBERERU\n",
       "VFS6urqIiIjc3NxmZmaqqqru7u6YmJgyMjLMzMwAAADiRdoGAAAAAXRSTlMAQObYZgAAAZJJREFU\n",
       "OMudVLtKA0EUPcZkzWvXdGIXBBttUmhqUYugghFsAmIW/YG0Vln8AdNYpNLSzqDBQhDSiJZbiiJJ\n",
       "YSsJYjABMc5jh7maiYUHzt7D7JyZO3cewEhEGyYZ4CygwKvJXjfK20HheNVFxIOgQNNkfzBKLACx\n",
       "LyR8CHIkm7Vhd7JiknA+AasPTEGS4frE0/9zQQzpNiIx0WPDfQCXkGRolF39/yWIh7qJSIQzzDYP\n",
       "2K4ky6V23hhO+kA3EYnJPJxZttaxiiRwhXaJx9iMQF/229AWItHeuVs+5bP4koCLI1IbxB9FmFPj\n",
       "pahE2UNikfdKS8IpVItLtOY3Wf7NqiOTpxIrLJbZ9E5HEhYw7tPTtuX9Ye9ye4nY2VChjFj7s4Sn\n",
       "klceIvm2o8gqbqUlo8xud/Tklv+zXsxDJN92552Ujm9quEdWHpzAadXQotJmee6v81RTgvXBE+Kb\n",
       "b7r0u0Hc0yNqGWl2q9trXNktyd/w/j60ChcBR2HElVEgV8aMnFEGoBfWDPNzoW6OJ/nPx+pe8huo\n",
       "33F2GWhp9QAAAABJRU5ErkJggg==\n",
       "\" style=\"display:inline;vertical-align:middle;\" /></a></span></td></tr>\n",
       "<tr><td><a name=\"-0x5e3b5d2848d682dd_step2\">2</a></td><td>instantiation</td><td><a href=\"#-0x5e3b5d2848d682dd_step3\">3</a>, <a href=\"#-0x5e3b5d2848d682dd_step4\">4</a></td><td><span style=\"font-size:20px;\"><a class=\"ProveItLink\" href=\"../../../__pv_it/theorems/d4325c8af119c430c8d7d2a3d4da5401a1227aa10/expr.ipynb\"><img src=\"data:image/png;base64,iVBORw0KGgoAAAANSUhEUgAAAEAAAAAPBAMAAACmSdRUAAAAMFBMVEX///92dnYiIiIQEBBERERU\n",
       "VFS6urqIiIjc3NxmZmaqqqru7u6YmJgyMjLMzMwAAADiRdoGAAAAAXRSTlMAQObYZgAAAO5JREFU\n",
       "GNNjYACBtwxYwNH/kVNdEiDs+9gUMJgwMHD+A7N47m/AIs/3h4GB7SeYuWt+A0LcA8Zg/wHU+h3M\n",
       "PFCfgFDwBMZgMWBg2KwNYrFtWH8AoYBnApTBH8DApwq2exvD+wIQzakEBj+hCt7HHHdaAGYlMPRP\n",
       "QHIc1y0IXd/AwG0Kdm3kzHgHZOfvNQNTziBFICPYGBiYLyDJcwRC/PQVpABkN1ARkwHYDXchoAEe\n",
       "DAzxQO9xABXwfkAYwHYBEQx8X4CMJpCXfyC5ABqqvEBTk70ZGLb8v83A5f8J4Y04CMV6/+vMEC9s\n",
       "UdSAygUACNlBmGjrK1sAAAAASUVORK5CYII=\n",
       "\" style=\"display:inline;vertical-align:middle;\" /></a>, <a class=\"ProveItLink\" href=\"../../../../../../__pv_it/common/e4aad701f7f5516d8e7f0d805d518bf02c13322a0/expr.ipynb\"><img src=\"data:image/png;base64,iVBORw0KGgoAAAANSUhEUgAAAA8AAAAOBAMAAAACpFvcAAAALVBMVEX///8iIiIQEBBERERUVFS6\n",
       "urqIiIjc3NxmZmaqqqru7u6YmJgyMjLMzMwAAACK9jtgAAAAAXRSTlMAQObYZgAAAFtJREFUCNdj\n",
       "YACBOwxQcA5Kc59bAGGs7CuAMDbkBYBp1gXzNoAZSxnuJYAZAQx1DSCa16PDzwCshIGB6QCIMYGB\n",
       "gVEBSLMDGTwPgIxCIGZ+zsCw+N0pBk67hw0AfpEVEQi8t+wAAAAASUVORK5CYII=\n",
       "\" style=\"display:inline;vertical-align:middle;\" /></a> <a class=\"ProveItLink\" href=\"../../../__pv_it/_proof_double_negate_consequent/cb2124fb0af609b3cd7f6728434a31561c2e48640/proof.ipynb\" style=\"text-decoration: none\">&nbsp;&#x22A2;&nbsp;&nbsp;</a><a class=\"ProveItLink\" href=\"../../../__pv_it/theorems/c902571aab0e4fcf144c208dd9c69da85d92d01e0/expr.ipynb\"><img src=\"data:image/png;base64,iVBORw0KGgoAAAANSUhEUgAAADoAAAAUBAMAAAAuMzNdAAAAMFBMVEX///+6uroQEBCqqqqIiIgy\n",
       "MjJERETu7u6YmJjMzMxUVFTc3Nx2dnYiIiJmZmYAAAAutVgsAAAAAXRSTlMAQObYZgAAAPlJREFU\n",
       "KM9jYICBHQxogHkDgs2eAGdyrP/1blkiA8NqhCwrkkomoMr3ExhKESJ9SGbOb2BgkH/AwOMAF7mN\n",
       "JOsPNKffgYFdASbAfQFJNgnoDN0CBoZAmADLAyTZXwwMc5cD6XMwAbYGhCTnrw63yyBGK8Pbu0Bw\n",
       "h4HXgAHGZGD5zcBQtAAoawtRvYuBSYABxmRgA7qG5TPI7dhk+YH6WL4gy4JMhsmCvMv1EciWhQnB\n",
       "XbUL4t35CWBXQVzJwAPzEScDQxADA6Ma0LsMb2C+YESExtL/616lgS2KxBqSsGi7gDUWoAApFtg2\n",
       "YMiWYo19GMhGYmOkHI4NDADnS0MIolOvqgAAAABJRU5ErkJggg==\n",
       "\" style=\"display:inline;vertical-align:middle;\" /></a></span></td></tr>\n",
       "<tr><td>&nbsp;</td><td colspan=4 style=\"text-align:left\"><span style=\"font-size:20px;\"><a class=\"ProveItLink\" href=\"../../../../../../__pv_it/common/e4aad701f7f5516d8e7f0d805d518bf02c13322a0/expr.ipynb\"><img src=\"data:image/png;base64,iVBORw0KGgoAAAANSUhEUgAAAA8AAAAOBAMAAAACpFvcAAAALVBMVEX///8iIiIQEBBERERUVFS6\n",
       "urqIiIjc3NxmZmaqqqru7u6YmJgyMjLMzMwAAACK9jtgAAAAAXRSTlMAQObYZgAAAFtJREFUCNdj\n",
       "YACBOwxQcA5Kc59bAGGs7CuAMDbkBYBp1gXzNoAZSxnuJYAZAQx1DSCa16PDzwCshIGB6QCIMYGB\n",
       "gVEBSLMDGTwPgIxCIGZ+zsCw+N0pBk67hw0AfpEVEQi8t+wAAAAASUVORK5CYII=\n",
       "\" style=\"display:inline;vertical-align:middle;\" /></a> : <a class=\"ProveItLink\" href=\"../../../../../../__pv_it/common/4eca3b30dcf58a58494e201d1b7886d8643a617b0/expr.ipynb\"><img src=\"data:image/png;base64,iVBORw0KGgoAAAANSUhEUgAAABAAAAAOBAMAAADUAYG5AAAALVBMVEX///8yMjKqqqoiIiLu7u7c\n",
       "3NyIiIjMzMwQEBC6urpERERmZmZUVFSYmJgAAACsPVCVAAAAAXRSTlMAQObYZgAAAGxJREFUCNdj\n",
       "YGC48+70nlUTGICgi4GB+zmQZn/LwMD5Gshge8rAwPsMyOBqYGDwMAEy+A4wsNs4ABl1Z68tVgBp\n",
       "ygtgYOkBMVaAOCChNyBGAsQYhnMTIMawvwJyGIHGzFjCwMAj92b3qUUMDAAXABxvZ4rl5AAAAABJ\n",
       "RU5ErkJggg==\n",
       "\" style=\"display:inline;vertical-align:middle;\" /></a></span></td></tr><tr><td><a name=\"-0x5e3b5d2848d682dd_step3\">3</a></td><td>theorem</td><td></td><td><span style=\"font-size:20px;\"> <a class=\"ProveItLink\" href=\"../../../../negation/_theory_nbs_/proofs/double_negation_intro/thm_proof.ipynb\" style=\"text-decoration: none\">&nbsp;&#x22A2;&nbsp;&nbsp;</a><a class=\"ProveItLink\" href=\"../../../../negation/__pv_it/theorems/2570d79ec029392f14c749d2c1ace36dc4af39570/expr.ipynb\"><img src=\"data:image/png;base64,iVBORw0KGgoAAAANSUhEUgAAAIoAAAAWBAMAAADtDRlvAAAAMFBMVEX///8QEBCIiIhmZma6urrM\n",
       "zMxUVFQiIiJERETc3Nzu7u6qqqp2dnaYmJgyMjIAAAAcRTyBAAAAAXRSTlMAQObYZgAAAc1JREFU\n",
       "OMudVEFLAkEUfrmau+pah36A0A9Q6BCEoNDBUyAdOqZQHToldOhQgUf3IHrTm0JBYiBCh44FXsI6\n",
       "7D0qoTrkRQ+FFki92bfbztayih984zfOvI+Z994OwFhIqp0k+IvEDps8OLnUbCViE7lLvGXzrpPL\n",
       "m61E9JANYpkdNOtgIkfsJJv1qgCBkMYgk00HF2/RTiLOYzj1zWuU2/V6yelCJVuJUMNxHF+Iw1zu\n",
       "yMll0VYCuKtXrGIt4g6Aov1No9vYJerHz5uBed7lFFKYE3gkroJPq7b8TsHGrqc4/R4CCAcM17wE\n",
       "iEOFJfuS6AWX1ksnI4uLL6Z32ILRcWlegmdraY+VNkUMqF5tqb1vcQmcRRxd8OYzHdNF6mywFU8o\n",
       "Z3FZF7O/NzJCOQnYHF6sMiR0KttsZRaWLS5pIWNNKYZyUkKXYN/MLlxo2+8hzLvITVefVMtId5KX\n",
       "rHXETxyiOudYwXzPd4Uq59KI3nyRSpjFNWXtuwv+wgBT9wpEmUULVagkOZcVkD7GfAFUygyRsIZn\n",
       "Uk0XN+rRmK+RSklfo96oQ5AKx6ZLIQvlgd4wihmj/HPRX4a/ECd/pQxfZRIXpxdTLhLHu0wDYZqg\n",
       "H8j2eoNyIuULAAAAAElFTkSuQmCC\n",
       "\" style=\"display:inline;vertical-align:middle;\" /></a></span></td></tr>\n",
       "<tr><td>&nbsp;</td><td colspan=4 style-\"text-align:left\"><a class=\"ProveItLink\" href=\"../../../../negation/_theory_nbs_/proofs/double_negation_intro/thm_proof.ipynb\">proveit.logic.booleans.negation.double_negation_intro</a></td></tr><tr><td><a name=\"-0x5e3b5d2848d682dd_step4\">4</a></td><td>modus ponens</td><td><a href=\"#-0x5e3b5d2848d682dd_step5\">5</a>, <a href=\"#-0x5e3b5d2848d682dd_step6\">6</a></td><td><span style=\"font-size:20px;\"><a class=\"ProveItLink\" href=\"../../../__pv_it/theorems/d4325c8af119c430c8d7d2a3d4da5401a1227aa10/expr.ipynb\"><img src=\"data:image/png;base64,iVBORw0KGgoAAAANSUhEUgAAAEAAAAAPBAMAAACmSdRUAAAAMFBMVEX///92dnYiIiIQEBBERERU\n",
       "VFS6urqIiIjc3NxmZmaqqqru7u6YmJgyMjLMzMwAAADiRdoGAAAAAXRSTlMAQObYZgAAAO5JREFU\n",
       "GNNjYACBtwxYwNH/kVNdEiDs+9gUMJgwMHD+A7N47m/AIs/3h4GB7SeYuWt+A0LcA8Zg/wHU+h3M\n",
       "PFCfgFDwBMZgMWBg2KwNYrFtWH8AoYBnApTBH8DApwq2exvD+wIQzakEBj+hCt7HHHdaAGYlMPRP\n",
       "QHIc1y0IXd/AwG0Kdm3kzHgHZOfvNQNTziBFICPYGBiYLyDJcwRC/PQVpABkN1ARkwHYDXchoAEe\n",
       "DAzxQO9xABXwfkAYwHYBEQx8X4CMJpCXfyC5ABqqvEBTk70ZGLb8v83A5f8J4Y04CMV6/+vMEC9s\n",
       "UdSAygUACNlBmGjrK1sAAAAASUVORK5CYII=\n",
       "\" style=\"display:inline;vertical-align:middle;\" /></a>, <a class=\"ProveItLink\" href=\"../../../../../../__pv_it/common/e4aad701f7f5516d8e7f0d805d518bf02c13322a0/expr.ipynb\"><img src=\"data:image/png;base64,iVBORw0KGgoAAAANSUhEUgAAAA8AAAAOBAMAAAACpFvcAAAALVBMVEX///8iIiIQEBBERERUVFS6\n",
       "urqIiIjc3NxmZmaqqqru7u6YmJgyMjLMzMwAAACK9jtgAAAAAXRSTlMAQObYZgAAAFtJREFUCNdj\n",
       "YACBOwxQcA5Kc59bAGGs7CuAMDbkBYBp1gXzNoAZSxnuJYAZAQx1DSCa16PDzwCshIGB6QCIMYGB\n",
       "gVEBSLMDGTwPgIxCIGZ+zsCw+N0pBk67hw0AfpEVEQi8t+wAAAAASUVORK5CYII=\n",
       "\" style=\"display:inline;vertical-align:middle;\" /></a> <a class=\"ProveItLink\" href=\"../../../__pv_it/_proof_double_negate_consequent/734e99563225105ff35a87fdcfe501c13098a0fd0/proof.ipynb\" style=\"text-decoration: none\">&nbsp;&#x22A2;&nbsp;&nbsp;</a><a class=\"ProveItLink\" href=\"../../../../../../__pv_it/common/4eca3b30dcf58a58494e201d1b7886d8643a617b0/expr.ipynb\"><img src=\"data:image/png;base64,iVBORw0KGgoAAAANSUhEUgAAABAAAAAOBAMAAADUAYG5AAAALVBMVEX///8yMjKqqqoiIiLu7u7c\n",
       "3NyIiIjMzMwQEBC6urpERERmZmZUVFSYmJgAAACsPVCVAAAAAXRSTlMAQObYZgAAAGxJREFUCNdj\n",
       "YGC48+70nlUTGICgi4GB+zmQZn/LwMD5Gshge8rAwPsMyOBqYGDwMAEy+A4wsNs4ABl1Z68tVgBp\n",
       "ygtgYOkBMVaAOCChNyBGAsQYhnMTIMawvwJyGIHGzFjCwMAj92b3qUUMDAAXABxvZ4rl5AAAAABJ\n",
       "RU5ErkJggg==\n",
       "\" style=\"display:inline;vertical-align:middle;\" /></a></span></td></tr>\n",
       "<tr><td><a name=\"-0x5e3b5d2848d682dd_step5\">5</a></td><td>assumption</td><td></td><td><span style=\"font-size:20px;\"><a class=\"ProveItLink\" href=\"../../../__pv_it/theorems/d4325c8af119c430c8d7d2a3d4da5401a1227aa10/expr.ipynb\"><img src=\"data:image/png;base64,iVBORw0KGgoAAAANSUhEUgAAAEAAAAAPBAMAAACmSdRUAAAAMFBMVEX///92dnYiIiIQEBBERERU\n",
       "VFS6urqIiIjc3NxmZmaqqqru7u6YmJgyMjLMzMwAAADiRdoGAAAAAXRSTlMAQObYZgAAAO5JREFU\n",
       "GNNjYACBtwxYwNH/kVNdEiDs+9gUMJgwMHD+A7N47m/AIs/3h4GB7SeYuWt+A0LcA8Zg/wHU+h3M\n",
       "PFCfgFDwBMZgMWBg2KwNYrFtWH8AoYBnApTBH8DApwq2exvD+wIQzakEBj+hCt7HHHdaAGYlMPRP\n",
       "QHIc1y0IXd/AwG0Kdm3kzHgHZOfvNQNTziBFICPYGBiYLyDJcwRC/PQVpABkN1ARkwHYDXchoAEe\n",
       "DAzxQO9xABXwfkAYwHYBEQx8X4CMJpCXfyC5ABqqvEBTk70ZGLb8v83A5f8J4Y04CMV6/+vMEC9s\n",
       "UdSAygUACNlBmGjrK1sAAAAASUVORK5CYII=\n",
       "\" style=\"display:inline;vertical-align:middle;\" /></a> <a class=\"ProveItLink\" href=\"../../../__pv_it/_proof_double_negate_consequent/2dbb1a12b28019e571efc717615a0dd1fb50e5770/proof.ipynb\" style=\"text-decoration: none\">&nbsp;&#x22A2;&nbsp;&nbsp;</a><a class=\"ProveItLink\" href=\"../../../__pv_it/theorems/d4325c8af119c430c8d7d2a3d4da5401a1227aa10/expr.ipynb\"><img src=\"data:image/png;base64,iVBORw0KGgoAAAANSUhEUgAAAEAAAAAPBAMAAACmSdRUAAAAMFBMVEX///92dnYiIiIQEBBERERU\n",
       "VFS6urqIiIjc3NxmZmaqqqru7u6YmJgyMjLMzMwAAADiRdoGAAAAAXRSTlMAQObYZgAAAO5JREFU\n",
       "GNNjYACBtwxYwNH/kVNdEiDs+9gUMJgwMHD+A7N47m/AIs/3h4GB7SeYuWt+A0LcA8Zg/wHU+h3M\n",
       "PFCfgFDwBMZgMWBg2KwNYrFtWH8AoYBnApTBH8DApwq2exvD+wIQzakEBj+hCt7HHHdaAGYlMPRP\n",
       "QHIc1y0IXd/AwG0Kdm3kzHgHZOfvNQNTziBFICPYGBiYLyDJcwRC/PQVpABkN1ARkwHYDXchoAEe\n",
       "DAzxQO9xABXwfkAYwHYBEQx8X4CMJpCXfyC5ABqqvEBTk70ZGLb8v83A5f8J4Y04CMV6/+vMEC9s\n",
       "UdSAygUACNlBmGjrK1sAAAAASUVORK5CYII=\n",
       "\" style=\"display:inline;vertical-align:middle;\" /></a></span></td></tr>\n",
       "<tr><td><a name=\"-0x5e3b5d2848d682dd_step6\">6</a></td><td>assumption</td><td></td><td><span style=\"font-size:20px;\"><a class=\"ProveItLink\" href=\"../../../../../../__pv_it/common/e4aad701f7f5516d8e7f0d805d518bf02c13322a0/expr.ipynb\"><img src=\"data:image/png;base64,iVBORw0KGgoAAAANSUhEUgAAAA8AAAAOBAMAAAACpFvcAAAALVBMVEX///8iIiIQEBBERERUVFS6\n",
       "urqIiIjc3NxmZmaqqqru7u6YmJgyMjLMzMwAAACK9jtgAAAAAXRSTlMAQObYZgAAAFtJREFUCNdj\n",
       "YACBOwxQcA5Kc59bAGGs7CuAMDbkBYBp1gXzNoAZSxnuJYAZAQx1DSCa16PDzwCshIGB6QCIMYGB\n",
       "gVEBSLMDGTwPgIxCIGZ+zsCw+N0pBk67hw0AfpEVEQi8t+wAAAAASUVORK5CYII=\n",
       "\" style=\"display:inline;vertical-align:middle;\" /></a> <a class=\"ProveItLink\" href=\"../../../__pv_it/_proof_double_negate_consequent/66b3c1b5ee819f66d0d04449682223f1af20398c0/proof.ipynb\" style=\"text-decoration: none\">&nbsp;&#x22A2;&nbsp;&nbsp;</a><a class=\"ProveItLink\" href=\"../../../../../../__pv_it/common/e4aad701f7f5516d8e7f0d805d518bf02c13322a0/expr.ipynb\"><img src=\"data:image/png;base64,iVBORw0KGgoAAAANSUhEUgAAAA8AAAAOBAMAAAACpFvcAAAALVBMVEX///8iIiIQEBBERERUVFS6\n",
       "urqIiIjc3NxmZmaqqqru7u6YmJgyMjLMzMwAAACK9jtgAAAAAXRSTlMAQObYZgAAAFtJREFUCNdj\n",
       "YACBOwxQcA5Kc59bAGGs7CuAMDbkBYBp1gXzNoAZSxnuJYAZAQx1DSCa16PDzwCshIGB6QCIMYGB\n",
       "gVEBSLMDGTwPgIxCIGZ+zsCw+N0pBk67hw0AfpEVEQi8t+wAAAAASUVORK5CYII=\n",
       "\" style=\"display:inline;vertical-align:middle;\" /></a></span></td></tr>\n",
       "</table>"
      ],
      "text/plain": [
       "\tstep type\trequirements\tstatement\n",
       "0\tgeneralizaton\t1\t|- forall_{A, B | A => B} (A => not(not(B)))\n",
       "1\tdeduction\t2\t{A => B} |- A => not(not(B))\n",
       "2\tinstantiation\t3, 4\t{A => B, A} |- not(not(B))\n",
       "\tA : B\n",
       "3\ttheorem\t\t|- forall_{A | A} not(not(A))\n",
       "\tproveit.logic.booleans.negation.double_negation_intro\n",
       "4\tmodus ponens\t5, 6\t{A => B, A} |- B\n",
       "5\tassumption\t\t{A => B} |- A => B\n",
       "6\tassumption\t\t{A} |- A"
      ]
     },
     "execution_count": 4,
     "metadata": {},
     "output_type": "execute_result"
    }
   ],
   "source": [
    "%qed # automation can handle this one"
   ]
  },
  {
   "cell_type": "code",
   "execution_count": null,
   "metadata": {},
   "outputs": [],
   "source": []
  }
 ],
 "metadata": {
  "kernelspec": {
   "display_name": "Python 3",
   "language": "python",
   "name": "python3"
  }
 },
 "nbformat": 4,
 "nbformat_minor": 0
}