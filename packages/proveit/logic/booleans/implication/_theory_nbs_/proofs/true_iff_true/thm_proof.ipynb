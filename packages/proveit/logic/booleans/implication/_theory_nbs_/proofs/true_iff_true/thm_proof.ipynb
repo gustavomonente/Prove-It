{
 "cells": [
  {
   "cell_type": "markdown",
   "metadata": {},
   "source": [
    "Proof of <a class=\"ProveItLink\" href=\"../../../../../../_theory_nbs_/theory.ipynb\">proveit</a>.<a class=\"ProveItLink\" href=\"../../../../../_theory_nbs_/theory.ipynb\">logic</a>.<a class=\"ProveItLink\" href=\"../../../../_theory_nbs_/theory.ipynb\">booleans</a>.<a class=\"ProveItLink\" href=\"../../theory.ipynb\">implication</a>.<a class=\"ProveItLink\" href=\"../../theorems.ipynb#true_iff_true\">true_iff_true</a> theorem\n",
    "========"
   ]
  },
  {
   "cell_type": "code",
   "execution_count": 1,
   "metadata": {},
   "outputs": [],
   "source": [
    "import proveit\n",
    "from proveit.logic.booleans.implication import true_implies_true\n",
    "theory = proveit.Theory() # the theorem's theory"
   ]
  },
  {
   "cell_type": "code",
   "execution_count": 2,
   "metadata": {},
   "outputs": [
    {
     "data": {
      "text/html": [
       "Under these <a href=\"presumptions.txt\">presumptions</a>, we begin our proof of<br><strong id=\"true_iff_true\">true_iff_true:</strong> <a class=\"ProveItLink\" href=\"../../../__pv_it/theorems/6f0d3e7f90049f505222beec2b50d69f4ec683950/expr.ipynb\"><img src=\"data:image/png;base64,iVBORw0KGgoAAAANSUhEUgAAAD8AAAAPBAMAAAChCwpBAAAAMFBMVEX///92dnbc3NwQEBDu7u5E\n",
       "RETMzMwyMjKYmJi6urqIiIiqqqpUVFQiIiJmZmYAAACZRlYpAAAAAXRSTlMAQObYZgAAAH5JREFU\n",
       "GNNjeHsXBO4woAM+sPjdAyD2LgbsgHsBlEGCAnYgzsGnYAUQsybgVsAWACRYSnArSLYFOdzcAZcC\n",
       "riMQc6JxKGCBBQZvAA4TdAQgCg/idENvOQjUJuBUwPEAZEARnnA4CYqEDRgKZsAVuAOxKpzH2YAR\n",
       "+kxA7IIqBAB5MC+ONv6d1wAAAABJRU5ErkJggg==\n",
       "\" style=\"display:inline;vertical-align:middle;\" /></a><br>(see <a class=\"ProveItLink\" href=\"../../../__pv_it/theorems/5adc5c7751e948c324b1e34c88de9d29270aa0a50/dependencies.ipynb\">dependencies</a>)<br>"
      ],
      "text/plain": [
       "true_iff_true: TRUE <=> TRUE"
      ]
     },
     "execution_count": 2,
     "metadata": {},
     "output_type": "execute_result"
    }
   ],
   "source": [
    "%proving true_iff_true"
   ]
  },
  {
   "cell_type": "code",
   "execution_count": 3,
   "metadata": {},
   "outputs": [
    {
     "data": {
      "text/html": [
       "<table><tr><th>&nbsp;</th><th>step type</th><th>requirements</th><th>statement</th></tr>\n",
       "<tr><td><a name=\"0x42c63972c3f91d54_step0\">0</a></td><td>instantiation</td><td><a href=\"#0x42c63972c3f91d54_step1\">1</a>, <a href=\"#0x42c63972c3f91d54_step2\">2</a></td><td><span style=\"font-size:20px;\"> <a class=\"ProveItLink\" href=\"../../../__pv_it/_proof_true_iff_true/2f864ccbc0b05b73ed99b32617ce38d8834348ef0/proof.ipynb\" style=\"text-decoration: none\">&nbsp;&#x22A2;&nbsp;&nbsp;</a><a class=\"ProveItLink\" href=\"../../../__pv_it/theorems/6f0d3e7f90049f505222beec2b50d69f4ec683950/expr.ipynb\"><img src=\"data:image/png;base64,iVBORw0KGgoAAAANSUhEUgAAAD8AAAAPBAMAAAChCwpBAAAAMFBMVEX///92dnbc3NwQEBDu7u5E\n",
       "RETMzMwyMjKYmJi6urqIiIiqqqpUVFQiIiJmZmYAAACZRlYpAAAAAXRSTlMAQObYZgAAAH5JREFU\n",
       "GNNjeHsXBO4woAM+sPjdAyD2LgbsgHsBlEGCAnYgzsGnYAUQsybgVsAWACRYSnArSLYFOdzcAZcC\n",
       "riMQc6JxKGCBBQZvAA4TdAQgCg/idENvOQjUJuBUwPEAZEARnnA4CYqEDRgKZsAVuAOxKpzH2YAR\n",
       "+kxA7IIqBAB5MC+ONv6d1wAAAABJRU5ErkJggg==\n",
       "\" style=\"display:inline;vertical-align:middle;\" /></a></span></td></tr>\n",
       "<tr><td>&nbsp;</td><td colspan=4 style=\"text-align:left\"><span style=\"font-size:20px;\"><a class=\"ProveItLink\" href=\"../../../../../../__pv_it/common/e4aad701f7f5516d8e7f0d805d518bf02c13322a0/expr.ipynb\"><img src=\"data:image/png;base64,iVBORw0KGgoAAAANSUhEUgAAAA8AAAAOBAMAAAACpFvcAAAALVBMVEX///8iIiIQEBBERERUVFS6\n",
       "urqIiIjc3NxmZmaqqqru7u6YmJgyMjLMzMwAAACK9jtgAAAAAXRSTlMAQObYZgAAAFtJREFUCNdj\n",
       "YACBOwxQcA5Kc59bAGGs7CuAMDbkBYBp1gXzNoAZSxnuJYAZAQx1DSCa16PDzwCshIGB6QCIMYGB\n",
       "gVEBSLMDGTwPgIxCIGZ+zsCw+N0pBk67hw0AfpEVEQi8t+wAAAAASUVORK5CYII=\n",
       "\" style=\"display:inline;vertical-align:middle;\" /></a> : <a class=\"ProveItLink\" href=\"../../../../__pv_it/common/373f61d65f7ccc0f6ebbafaccf02f2693d0e3bad0/expr.ipynb\"><img src=\"data:image/png;base64,iVBORw0KGgoAAAANSUhEUgAAAA4AAAAOBAMAAADtZjDiAAAAG1BMVEX///+YmJi6urqIiIiqqqpU\n",
       "VFQiIiJmZmYAAAD2GhH1AAAAAXRSTlMAQObYZgAAABhJREFUCNdjKEsDgVQGIHBmgABa0YpADADk\n",
       "ogYfXGfJdgAAAABJRU5ErkJggg==\n",
       "\" style=\"display:inline;vertical-align:middle;\" /></a>, <a class=\"ProveItLink\" href=\"../../../../../../__pv_it/common/4eca3b30dcf58a58494e201d1b7886d8643a617b0/expr.ipynb\"><img src=\"data:image/png;base64,iVBORw0KGgoAAAANSUhEUgAAABAAAAAOBAMAAADUAYG5AAAALVBMVEX///8yMjKqqqoiIiLu7u7c\n",
       "3NyIiIjMzMwQEBC6urpERERmZmZUVFSYmJgAAACsPVCVAAAAAXRSTlMAQObYZgAAAGxJREFUCNdj\n",
       "YGC48+70nlUTGICgi4GB+zmQZn/LwMD5Gshge8rAwPsMyOBqYGDwMAEy+A4wsNs4ABl1Z68tVgBp\n",
       "ygtgYOkBMVaAOCChNyBGAsQYhnMTIMawvwJyGIHGzFjCwMAj92b3qUUMDAAXABxvZ4rl5AAAAABJ\n",
       "RU5ErkJggg==\n",
       "\" style=\"display:inline;vertical-align:middle;\" /></a> : <a class=\"ProveItLink\" href=\"../../../../__pv_it/common/373f61d65f7ccc0f6ebbafaccf02f2693d0e3bad0/expr.ipynb\"><img src=\"data:image/png;base64,iVBORw0KGgoAAAANSUhEUgAAAA4AAAAOBAMAAADtZjDiAAAAG1BMVEX///+YmJi6urqIiIiqqqpU\n",
       "VFQiIiJmZmYAAAD2GhH1AAAAAXRSTlMAQObYZgAAABhJREFUCNdjKEsDgVQGIHBmgABa0YpADADk\n",
       "ogYfXGfJdgAAAABJRU5ErkJggg==\n",
       "\" style=\"display:inline;vertical-align:middle;\" /></a></span></td></tr><tr><td><a name=\"0x42c63972c3f91d54_step1\">1</a></td><td>theorem</td><td></td><td><span style=\"font-size:20px;\"> <a class=\"ProveItLink\" href=\"../iff_intro/thm_proof.ipynb\" style=\"text-decoration: none\">&nbsp;&#x22A2;&nbsp;&nbsp;</a><a class=\"ProveItLink\" href=\"../../../__pv_it/theorems/bb73ee92a0fd8f636e5c503e29bfb3d3a9fbb06d0/expr.ipynb\"><img src=\"data:image/png;base64,iVBORw0KGgoAAAANSUhEUgAAAPEAAAAWBAMAAADjpGcAAAAAMFBMVEX///8QEBCIiIhmZma6urrM\n",
       "zMxUVFQiIiJERETc3Nzu7u6qqqp2dnaYmJgyMjIAAAAcRTyBAAAAAXRSTlMAQObYZgAAAzdJREFU\n",
       "SMe1VkloU1EUPSY/bf5P0lYQEXQRLKgbrRCJUIuNuNCNtLiQrmygKlWURsUBxwoO3zrku9HuEges\n",
       "RKgBVy6ktV1YqkisIIiIEVd2YUtrRyn1viHJ+01aRdILfdM9vefd4d18oPiip/4KeUF/abb4UlTm\n",
       "J2LaW0j3cbYpaIZQYgFv2H6wqMw/xDRUULkCcI7BIIfbWXhai0ns2yimoXgBpWsG0EaBHqCM9N5k\n",
       "MZlLLT49rbXkAfnnCsu1Y4ruNALcp6k/kbhX1GBLa6mqkCRjBXdFKt0VxHqGHCblpGmeKypzJR+1\n",
       "eJcs8QY2dMrQl4fhOsnCTCnZD1znh2LcOdrbzMOkZSy5rZxVLVoTnIPLg93i4yM0+kVml54iOSqL\n",
       "uPHIwDWWWx+lYDsvNFr/EoVRAW8Ft5Qx+TWk2H8PvLLj8mBn+RhCTFTaGuFtg6ilKgvGcpo9ESoI\n",
       "kQg8nOEqZxieaZXZqFUbQxDoittwebBl3NOmQAt/MR2Z2jrNx0uMnS7hGqaIp0r5Wf9xUZl+ONMq\n",
       "s7dD3P0lH48BW+04T8oGk8yUqyVcrR8Wp4+7+TTOmP2CWU/v4Zf0m1z1rB4b4irzbrd47aztwBiD\n",
       "Y9COw0EbTEab3CoVyfBd+MnkRPY5o4XyokVYZe3jhrGZ6+rWrxPxyTCHnRH0maZ5m/mijQxcRQ7n\n",
       "pXPzWygDy1WYTsxlw2L/gde2lX3OrklZYXjO/+UzqrjuHbBWZfYlHdKCYxPFNA1HxI6jZxRSYeiV\n",
       "b9o9JfYl7GZbxLqM4rCtjZUJC345q37j+9soD95NIJZUmDtr+mQhGQficHdD/w0bjlJ4SIVhB/1m\n",
       "zA7CE50QmWdPR/bnkqHxQPMNfoV65hVjdMYRYxuQ3TpLYa6GPobKAEkT4cqT0IQrHOdg58HqDMzW\n",
       "PXNCe2NuD+/IrnaR1ZTeBn0a+iol2hpV7gyMRCLxgIUmFscdcjuLo/PE6izM9ouxsPRkG9Ak9Oh5\n",
       "10q8Hg00hxTmaCvaJ/i7ucuezsVA8DLViIrTwzZYthkuKKJ5KeJRu2F+zAri9Pm+DBYSt1XgI2U+\n",
       "5vlw//U19GnuQeofmVNYTHFiceUP2yTuOOdP8akAAAAASUVORK5CYII=\n",
       "\" style=\"display:inline;vertical-align:middle;\" /></a></span></td></tr>\n",
       "<tr><td>&nbsp;</td><td colspan=4 style-\"text-align:left\"><a class=\"ProveItLink\" href=\"../iff_intro/thm_proof.ipynb\">proveit.logic.booleans.implication.iff_intro</a></td></tr><tr><td><a name=\"0x42c63972c3f91d54_step2\">2</a></td><td>theorem</td><td></td><td><span style=\"font-size:20px;\"> <a class=\"ProveItLink\" href=\"../true_implies_true/thm_proof.ipynb\" style=\"text-decoration: none\">&nbsp;&#x22A2;&nbsp;&nbsp;</a><a class=\"ProveItLink\" href=\"../../../__pv_it/theorems/c85354e998a271fafc85a84824d5fef0009528cd0/expr.ipynb\"><img src=\"data:image/png;base64,iVBORw0KGgoAAAANSUhEUgAAAD8AAAAPBAMAAAChCwpBAAAAMFBMVEX///92dnYQEBDu7u4yMjLM\n",
       "zMzc3NxERESYmJi6urqIiIiqqqpUVFQiIiJmZmYAAACJh1oyAAAAAXRSTlMAQObYZgAAAGBJREFU\n",
       "GNNjeHsXBO4woAM+sPjdAyD2LgbsgHsBlEGaAvYEAgpYCwhZ0YdbAcRD9x8QcuSWDQQUMDtNwK8g\n",
       "RwyXCU9cwMCNgBumEPAmszOmghnICngC4EzOBmwRwIbGBwAahy0U7u7JOAAAAABJRU5ErkJggg==\n",
       "\" style=\"display:inline;vertical-align:middle;\" /></a></span></td></tr>\n",
       "<tr><td>&nbsp;</td><td colspan=4 style-\"text-align:left\"><a class=\"ProveItLink\" href=\"../true_implies_true/thm_proof.ipynb\">proveit.logic.booleans.implication.true_implies_true</a></td></tr></table>"
      ],
      "text/plain": [
       "\tstep type\trequirements\tstatement\n",
       "0\tinstantiation\t1, 2\t|- TRUE <=> TRUE\n",
       "\tA : TRUE, B : TRUE\n",
       "1\ttheorem\t\t|- forall_{A, B | A => B, B => A} (A <=> B)\n",
       "\tproveit.logic.booleans.implication.iff_intro\n",
       "2\ttheorem\t\t|- TRUE => TRUE\n",
       "\tproveit.logic.booleans.implication.true_implies_true"
      ]
     },
     "execution_count": 3,
     "metadata": {},
     "output_type": "execute_result"
    }
   ],
   "source": [
    "%qed"
   ]
  },
  {
   "cell_type": "code",
   "execution_count": null,
   "metadata": {},
   "outputs": [],
   "source": []
  }
 ],
 "metadata": {
  "kernelspec": {
   "display_name": "Python 3",
   "language": "python",
   "name": "python3"
  }
 },
 "nbformat": 4,
 "nbformat_minor": 0
}