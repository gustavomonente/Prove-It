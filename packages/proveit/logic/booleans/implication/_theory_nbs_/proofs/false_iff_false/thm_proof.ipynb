{
 "cells": [
  {
   "cell_type": "markdown",
   "metadata": {},
   "source": [
    "Proof of <a class=\"ProveItLink\" href=\"../../../../../../_theory_nbs_/theory.ipynb\">proveit</a>.<a class=\"ProveItLink\" href=\"../../../../../_theory_nbs_/theory.ipynb\">logic</a>.<a class=\"ProveItLink\" href=\"../../../../_theory_nbs_/theory.ipynb\">booleans</a>.<a class=\"ProveItLink\" href=\"../../theory.ipynb\">implication</a>.<a class=\"ProveItLink\" href=\"../../theorems.ipynb#false_iff_false\">false_iff_false</a> theorem\n",
    "========"
   ]
  },
  {
   "cell_type": "code",
   "execution_count": 1,
   "metadata": {},
   "outputs": [],
   "source": [
    "import proveit\n",
    "from proveit.logic.booleans.implication import false_implies_false\n",
    "theory = proveit.Theory() # the theorem's theory"
   ]
  },
  {
   "cell_type": "code",
   "execution_count": 2,
   "metadata": {},
   "outputs": [
    {
     "data": {
      "text/html": [
       "Under these <a href=\"presumptions.txt\">presumptions</a>, we begin our proof of<br><strong id=\"false_iff_false\">false_iff_false:</strong> <a class=\"ProveItLink\" href=\"../../../__pv_it/theorems/dd4cc848c3939f25698b6c34cccb9f02b24790af0/expr.ipynb\"><img src=\"data:image/png;base64,iVBORw0KGgoAAAANSUhEUgAAAD8AAAAPBAMAAAChCwpBAAAAMFBMVEX///+6urp2dnbc3Nzu7u5E\n",
       "RESYmJgyMjJUVFQQEBAiIiJmZmaIiIiqqqrMzMwAAABCZPcTAAAAAXRSTlMAQObYZgAAAIVJREFU\n",
       "GNNjYGBgeMuAHfBdgDLu4FDAe4B0BexA/AKfgmNAzPoAtwK+ACDBUoJbwctZq4BgugMuBTwtEHNi\n",
       "cShgWQHlcwXgMMFCAaKwCacbsspBoOoBTgVsG0AGFOMJh0Yg5r6AqmDXqlUzV62Cus8diE0hTO5V\n",
       "q1YCfd2AGvrMQOyCKgQAwCgxhT0pvrMAAAAASUVORK5CYII=\n",
       "\" style=\"display:inline;vertical-align:middle;\" /></a><br>(see <a class=\"ProveItLink\" href=\"../../../__pv_it/theorems/0cb0712a4c9f41439bd6aabcc7cc8586bd61c0000/dependencies.ipynb\">dependencies</a>)<br>"
      ],
      "text/plain": [
       "false_iff_false: FALSE <=> FALSE"
      ]
     },
     "execution_count": 2,
     "metadata": {},
     "output_type": "execute_result"
    }
   ],
   "source": [
    "%proving false_iff_false"
   ]
  },
  {
   "cell_type": "code",
   "execution_count": 3,
   "metadata": {},
   "outputs": [
    {
     "data": {
      "text/html": [
       "<table><tr><th>&nbsp;</th><th>step type</th><th>requirements</th><th>statement</th></tr>\n",
       "<tr><td><a name=\"-0x45831613bd563571_step0\">0</a></td><td>instantiation</td><td><a href=\"#-0x45831613bd563571_step1\">1</a>, <a href=\"#-0x45831613bd563571_step2\">2</a></td><td><span style=\"font-size:20px;\"> <a class=\"ProveItLink\" href=\"../../../__pv_it/_proof_false_iff_false/c10982a42b6862eb118497af17d0a88186e2cff20/proof.ipynb\" style=\"text-decoration: none\">&nbsp;&#x22A2;&nbsp;&nbsp;</a><a class=\"ProveItLink\" href=\"../../../__pv_it/theorems/dd4cc848c3939f25698b6c34cccb9f02b24790af0/expr.ipynb\"><img src=\"data:image/png;base64,iVBORw0KGgoAAAANSUhEUgAAAD8AAAAPBAMAAAChCwpBAAAAMFBMVEX///+6urp2dnbc3Nzu7u5E\n",
       "RESYmJgyMjJUVFQQEBAiIiJmZmaIiIiqqqrMzMwAAABCZPcTAAAAAXRSTlMAQObYZgAAAIVJREFU\n",
       "GNNjYGBgeMuAHfBdgDLu4FDAe4B0BexA/AKfgmNAzPoAtwK+ACDBUoJbwctZq4BgugMuBTwtEHNi\n",
       "cShgWQHlcwXgMMFCAaKwCacbsspBoOoBTgVsG0AGFOMJh0Yg5r6AqmDXqlUzV62Cus8diE0hTO5V\n",
       "q1YCfd2AGvrMQOyCKgQAwCgxhT0pvrMAAAAASUVORK5CYII=\n",
       "\" style=\"display:inline;vertical-align:middle;\" /></a></span></td></tr>\n",
       "<tr><td>&nbsp;</td><td colspan=4 style=\"text-align:left\"><span style=\"font-size:20px;\"><a class=\"ProveItLink\" href=\"../../../../../../__pv_it/common/09585084922504426caf1db2ff588a23a0932a960/expr.ipynb\"><img src=\"data:image/png;base64,iVBORw0KGgoAAAANSUhEUgAAAA8AAAAOBAMAAAACpFvcAAAALVBMVEX///8iIiIQEBBERERUVFS6\n",
       "urqIiIjc3NxmZmaqqqru7u6YmJgyMjLMzMwAAACK9jtgAAAAAXRSTlMAQObYZgAAAFtJREFUCNdj\n",
       "YACBOwxQcA5Kc59bAGGs7CuAMDbkBYBp1gXzNoAZSxnuJYAZAQx1DSCa16PDzwCshIGB6QCIMYGB\n",
       "gVEBSLMDGTwPgIxCIGZ+zsCw+N0pBk67hw0AfpEVEQi8t+wAAAAASUVORK5CYII=\n",
       "\" style=\"display:inline;vertical-align:middle;\" /></a> : <a class=\"ProveItLink\" href=\"../../../../__pv_it/common/e0f123f2e4f322e1eba7f861749cda9fd9d99a120/expr.ipynb\"><img src=\"data:image/png;base64,iVBORw0KGgoAAAANSUhEUgAAAA4AAAAOBAMAAADtZjDiAAAAG1BMVEX///9UVFQQEBAiIiJmZmaI\n",
       "iIiqqqrMzMwAAADC2JlRAAAAAXRSTlMAQObYZgAAABlJREFUCNdjYGBgKGOAgFRa0s7GxkrGxoYA\n",
       "QSUGlQeagkgAAAAASUVORK5CYII=\n",
       "\" style=\"display:inline;vertical-align:middle;\" /></a>, <a class=\"ProveItLink\" href=\"../../../../../../__pv_it/common/a9162d1c3cc0470c02e5daf414500903a7a419230/expr.ipynb\"><img src=\"data:image/png;base64,iVBORw0KGgoAAAANSUhEUgAAABAAAAAOBAMAAADUAYG5AAAALVBMVEX///8yMjKqqqoiIiLu7u7c\n",
       "3NyIiIjMzMwQEBC6urpERERmZmZUVFSYmJgAAACsPVCVAAAAAXRSTlMAQObYZgAAAGxJREFUCNdj\n",
       "YGC48+70nlUTGICgi4GB+zmQZn/LwMD5Gshge8rAwPsMyOBqYGDwMAEy+A4wsNs4ABl1Z68tVgBp\n",
       "ygtgYOkBMVaAOCChNyBGAsQYhnMTIMawvwJyGIHGzFjCwMAj92b3qUUMDAAXABxvZ4rl5AAAAABJ\n",
       "RU5ErkJggg==\n",
       "\" style=\"display:inline;vertical-align:middle;\" /></a> : <a class=\"ProveItLink\" href=\"../../../../__pv_it/common/e0f123f2e4f322e1eba7f861749cda9fd9d99a120/expr.ipynb\"><img src=\"data:image/png;base64,iVBORw0KGgoAAAANSUhEUgAAAA4AAAAOBAMAAADtZjDiAAAAG1BMVEX///9UVFQQEBAiIiJmZmaI\n",
       "iIiqqqrMzMwAAADC2JlRAAAAAXRSTlMAQObYZgAAABlJREFUCNdjYGBgKGOAgFRa0s7GxkrGxoYA\n",
       "QSUGlQeagkgAAAAASUVORK5CYII=\n",
       "\" style=\"display:inline;vertical-align:middle;\" /></a></span></td></tr><tr><td><a name=\"-0x45831613bd563571_step1\">1</a></td><td>theorem</td><td></td><td><span style=\"font-size:20px;\"> <a class=\"ProveItLink\" href=\"../iff_intro/thm_proof.ipynb\" style=\"text-decoration: none\">&nbsp;&#x22A2;&nbsp;&nbsp;</a><a class=\"ProveItLink\" href=\"../../../__pv_it/theorems/97c93ce3306a9d4fb93a71da92f46396f109bec30/expr.ipynb\"><img src=\"data:image/png;base64,iVBORw0KGgoAAAANSUhEUgAAAPEAAAAWBAMAAADjpGcAAAAAMFBMVEX///8QEBCIiIhmZma6urrM\n",
       "zMxUVFQiIiJERETc3Nzu7u6qqqp2dnaYmJgyMjIAAAAcRTyBAAAAAXRSTlMAQObYZgAAAzdJREFU\n",
       "SMe1VkloU1EUPSY/bf5P0lYQEXQRLKgbrRCJUIuNuNCNtLiQrmygKlWURsUBxwoO3zrku9HuEges\n",
       "RKgBVy6ktV1YqkisIIiIEVd2YUtrRyn1viHJ+01aRdILfdM9vefd4d18oPiip/4KeUF/abb4UlTm\n",
       "J2LaW0j3cbYpaIZQYgFv2H6wqMw/xDRUULkCcI7BIIfbWXhai0ns2yimoXgBpWsG0EaBHqCM9N5k\n",
       "MZlLLT49rbXkAfnnCsu1Y4ruNALcp6k/kbhX1GBLa6mqkCRjBXdFKt0VxHqGHCblpGmeKypzJR+1\n",
       "eJcs8QY2dMrQl4fhOsnCTCnZD1znh2LcOdrbzMOkZSy5rZxVLVoTnIPLg93i4yM0+kVml54iOSqL\n",
       "uPHIwDWWWx+lYDsvNFr/EoVRAW8Ft5Qx+TWk2H8PvLLj8mBn+RhCTFTaGuFtg6ilKgvGcpo9ESoI\n",
       "kQg8nOEqZxieaZXZqFUbQxDoittwebBl3NOmQAt/MR2Z2jrNx0uMnS7hGqaIp0r5Wf9xUZl+ONMq\n",
       "s7dD3P0lH48BW+04T8oGk8yUqyVcrR8Wp4+7+TTOmP2CWU/v4Zf0m1z1rB4b4irzbrd47aztwBiD\n",
       "Y9COw0EbTEab3CoVyfBd+MnkRPY5o4XyokVYZe3jhrGZ6+rWrxPxyTCHnRH0maZ5m/mijQxcRQ7n\n",
       "pXPzWygDy1WYTsxlw2L/gde2lX3OrklZYXjO/+UzqrjuHbBWZfYlHdKCYxPFNA1HxI6jZxRSYeiV\n",
       "b9o9JfYl7GZbxLqM4rCtjZUJC345q37j+9soD95NIJZUmDtr+mQhGQficHdD/w0bjlJ4SIVhB/1m\n",
       "zA7CE50QmWdPR/bnkqHxQPMNfoV65hVjdMYRYxuQ3TpLYa6GPobKAEkT4cqT0IQrHOdg58HqDMzW\n",
       "PXNCe2NuD+/IrnaR1ZTeBn0a+iol2hpV7gyMRCLxgIUmFscdcjuLo/PE6izM9ouxsPRkG9Ak9Oh5\n",
       "10q8Hg00hxTmaCvaJ/i7ucuezsVA8DLViIrTwzZYthkuKKJ5KeJRu2F+zAri9Pm+DBYSt1XgI2U+\n",
       "5vlw//U19GnuQeofmVNYTHFiceUP2yTuOOdP8akAAAAASUVORK5CYII=\n",
       "\" style=\"display:inline;vertical-align:middle;\" /></a></span></td></tr>\n",
       "<tr><td>&nbsp;</td><td colspan=4 style-\"text-align:left\"><a class=\"ProveItLink\" href=\"../iff_intro/thm_proof.ipynb\">proveit.logic.booleans.implication.iff_intro</a></td></tr><tr><td><a name=\"-0x45831613bd563571_step2\">2</a></td><td>theorem</td><td></td><td><span style=\"font-size:20px;\"> <a class=\"ProveItLink\" href=\"../false_implies_false/thm_proof.ipynb\" style=\"text-decoration: none\">&nbsp;&#x22A2;&nbsp;&nbsp;</a><a class=\"ProveItLink\" href=\"../../../__pv_it/theorems/4a0153b826efccf7d09dd4d17c1174477a23dc130/expr.ipynb\"><img src=\"data:image/png;base64,iVBORw0KGgoAAAANSUhEUgAAAD8AAAAPBAMAAAChCwpBAAAAMFBMVEX///92dna6urru7u4yMjKY\n",
       "mJjc3NxERERUVFQQEBAiIiJmZmaIiIiqqqrMzMwAAACslU6QAAAAAXRSTlMAQObYZgAAAGdJREFU\n",
       "GNNjYGBgeMuAHfBdgDLu4FDAe4AsBewJBBTwFRCyIhq3gl2rQGD9BkKOvHKBgAJmTwX8CjLEcJmw\n",
       "xQUM3Ai4QYWAN5md0RQA/TZz1aoVcFGOBxCae9WqlbNWrWrAiAA2ND4AdQwr9PQN2ykAAAAASUVO\n",
       "RK5CYII=\n",
       "\" style=\"display:inline;vertical-align:middle;\" /></a></span></td></tr>\n",
       "<tr><td>&nbsp;</td><td colspan=4 style-\"text-align:left\"><a class=\"ProveItLink\" href=\"../false_implies_false/thm_proof.ipynb\">proveit.logic.booleans.implication.false_implies_false</a></td></tr></table>"
      ],
      "text/plain": [
       "\tstep type\trequirements\tstatement\n",
       "0\tinstantiation\t1, 2\t|- FALSE <=> FALSE\n",
       "\tA : FALSE, B : FALSE\n",
       "1\ttheorem\t\t|- forall_{A, B | A => B, B => A} (A <=> B)\n",
       "\tproveit.logic.booleans.implication.iff_intro\n",
       "2\ttheorem\t\t|- FALSE => FALSE\n",
       "\tproveit.logic.booleans.implication.false_implies_false"
      ]
     },
     "execution_count": 3,
     "metadata": {},
     "output_type": "execute_result"
    }
   ],
   "source": [
    "%qed"
   ]
  },
  {
   "cell_type": "code",
   "execution_count": null,
   "metadata": {},
   "outputs": [],
   "source": []
  }
 ],
 "metadata": {
  "kernelspec": {
   "display_name": "Python 3",
   "language": "python",
   "name": "python3"
  }
 },
 "nbformat": 4,
 "nbformat_minor": 0
}