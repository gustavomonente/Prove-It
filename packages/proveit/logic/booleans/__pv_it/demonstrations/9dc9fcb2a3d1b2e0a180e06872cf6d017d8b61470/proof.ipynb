{
 "cells": [
  {
   "cell_type": "markdown",
   "metadata": {},
   "source": [
    "Show the Proof\n",
    "========"
   ]
  },
  {
   "cell_type": "code",
   "execution_count": 1,
   "metadata": {},
   "outputs": [
    {
     "data": {
      "text/html": [
       "<table><tr><th>&nbsp;</th><th>step type</th><th>requirements</th><th>statement</th></tr>\n",
       "<tr><td><a name=\"proveit.logic.booleans.demonstrations.9dc9fcb2a3d1b2e0a180e06872cf6d017d8b61470_step0\">0</a></td><td>instantiation</td><td><a href=\"#proveit.logic.booleans.demonstrations.9dc9fcb2a3d1b2e0a180e06872cf6d017d8b61470_step1\">1</a>, <a href=\"#proveit.logic.booleans.demonstrations.9dc9fcb2a3d1b2e0a180e06872cf6d017d8b61470_step2\">2</a>, <a href=\"#proveit.logic.booleans.demonstrations.9dc9fcb2a3d1b2e0a180e06872cf6d017d8b61470_step3\">3</a></td><td><span style=\"font-size:20px;\"><a class=\"ProveItLink\" href=\"../../../negation/__pv_it/theorems/01f448c1859c833a809fa283ac70522a4677a9270/expr.ipynb\"><img src=\"../../../negation/__pv_it/theorems/01f448c1859c833a809fa283ac70522a4677a9270/expr.png\" style=\"display:inline;vertical-align:middle;\" /></a> <a class=\"ProveItLink\" href=\"proof.ipynb\" style=\"text-decoration: none\">&nbsp;&#x22A2;&nbsp;&nbsp;</a><a class=\"ProveItLink\" href=\"../../theorems/bc796b8e7562f2d661739850b78776738bfc78d80/expr.ipynb\"><img src=\"../../theorems/bc796b8e7562f2d661739850b78776738bfc78d80/expr.png\" style=\"display:inline;vertical-align:middle;\" /></a></span></td></tr>\n",
       "<tr><td>&nbsp;</td><td colspan=4 style=\"text-align:left\"><span style=\"font-size:20px;\"><a class=\"ProveItLink\" href=\"../84fb6bfbf82ffd89b2e4fb128d4f37cc62a695fa0/expr.ipynb\"><img src=\"../84fb6bfbf82ffd89b2e4fb128d4f37cc62a695fa0/expr.png\" style=\"display:inline;vertical-align:middle;\" /></a> : <a class=\"ProveItLink\" href=\"../fa50952fef319815f79241f238d4c37bee4340220/expr.ipynb\"><img src=\"../fa50952fef319815f79241f238d4c37bee4340220/expr.png\" style=\"display:inline;vertical-align:middle;\" /></a>, <a class=\"ProveItLink\" href=\"../../../../../__pv_it/common/a0d9d672aa5e272d907247690c152cc2c6daafb70/expr.ipynb\"><img src=\"../../../../../__pv_it/common/a0d9d672aa5e272d907247690c152cc2c6daafb70/expr.png\" style=\"display:inline;vertical-align:middle;\" /></a> : <a class=\"ProveItLink\" href=\"../../../../../__pv_it/common/09585084922504426caf1db2ff588a23a0932a960/expr.ipynb\"><img src=\"../../../../../__pv_it/common/09585084922504426caf1db2ff588a23a0932a960/expr.png\" style=\"display:inline;vertical-align:middle;\" /></a></span></td></tr><tr><td><a name=\"proveit.logic.booleans.demonstrations.9dc9fcb2a3d1b2e0a180e06872cf6d017d8b61470_step1\">1</a></td><td>theorem</td><td></td><td><span style=\"font-size:20px;\"> <a class=\"ProveItLink\" href=\"../../../../equality/_theory_nbs_/proofs/substitute_falsehood/thm_proof.ipynb\" style=\"text-decoration: none\">&nbsp;&#x22A2;&nbsp;&nbsp;</a><a class=\"ProveItLink\" href=\"../../../../equality/__pv_it/theorems/3235ff35dedbd71bd7db2ed5eb07aab3b6012de00/expr.ipynb\"><img src=\"../../../../equality/__pv_it/theorems/3235ff35dedbd71bd7db2ed5eb07aab3b6012de00/expr.png\" style=\"display:inline;vertical-align:middle;\" /></a></span></td></tr>\n",
       "<tr><td>&nbsp;</td><td colspan=4 style-\"text-align:left\"><a class=\"ProveItLink\" href=\"../../../../equality/_theory_nbs_/proofs/substitute_falsehood/thm_proof.ipynb\">proveit.logic.equality.substitute_falsehood</a></td></tr><tr><td><a name=\"proveit.logic.booleans.demonstrations.9dc9fcb2a3d1b2e0a180e06872cf6d017d8b61470_step2\">2</a></td><td>theorem</td><td></td><td><span style=\"font-size:20px;\"> <a class=\"ProveItLink\" href=\"../../../_theory_nbs_/proofs/false_is_bool/thm_proof.ipynb\" style=\"text-decoration: none\">&nbsp;&#x22A2;&nbsp;&nbsp;</a><a class=\"ProveItLink\" href=\"../../theorems/64b5eb31cd53fe557e0685222a3e2b2dc77234e00/expr.ipynb\"><img src=\"../../theorems/64b5eb31cd53fe557e0685222a3e2b2dc77234e00/expr.png\" style=\"display:inline;vertical-align:middle;\" /></a></span></td></tr>\n",
       "<tr><td>&nbsp;</td><td colspan=4 style-\"text-align:left\"><a class=\"ProveItLink\" href=\"../../../_theory_nbs_/proofs/false_is_bool/thm_proof.ipynb\">proveit.logic.booleans.false_is_bool</a></td></tr><tr><td><a name=\"proveit.logic.booleans.demonstrations.9dc9fcb2a3d1b2e0a180e06872cf6d017d8b61470_step3\">3</a></td><td>assumption</td><td></td><td><span style=\"font-size:20px;\"><a class=\"ProveItLink\" href=\"../../../negation/__pv_it/theorems/01f448c1859c833a809fa283ac70522a4677a9270/expr.ipynb\"><img src=\"../../../negation/__pv_it/theorems/01f448c1859c833a809fa283ac70522a4677a9270/expr.png\" style=\"display:inline;vertical-align:middle;\" /></a> <a class=\"ProveItLink\" href=\"../9cd1cd31a5ce22f2942ad600f40d1b7e92b6d7190/proof.ipynb\" style=\"text-decoration: none\">&nbsp;&#x22A2;&nbsp;&nbsp;</a><a class=\"ProveItLink\" href=\"../../../negation/__pv_it/theorems/01f448c1859c833a809fa283ac70522a4677a9270/expr.ipynb\"><img src=\"../../../negation/__pv_it/theorems/01f448c1859c833a809fa283ac70522a4677a9270/expr.png\" style=\"display:inline;vertical-align:middle;\" /></a></span></td></tr>\n",
       "</table>"
      ],
      "text/plain": [
       "<proveit._core_.proof._ShowProof at 0x7fbb1d146d68>"
      ]
     },
     "execution_count": 1,
     "metadata": {},
     "output_type": "execute_result"
    }
   ],
   "source": [
    "import proveit\n",
    "# Automation is not needed when only showing a stored proof:\n",
    "proveit.defaults.automation = False # This will speed things up.\n",
    "proveit.defaults.inline_pngs = False # Makes files smaller.\n",
    "%show_proof"
   ]
  },
  {
   "cell_type": "code",
   "execution_count": null,
   "metadata": {},
   "outputs": [],
   "source": []
  }
 ],
 "metadata": {
  "kernelspec": {
   "display_name": "Python 3",
   "language": "python",
   "name": "python3"
  }
 },
 "nbformat": 4,
 "nbformat_minor": 0
}