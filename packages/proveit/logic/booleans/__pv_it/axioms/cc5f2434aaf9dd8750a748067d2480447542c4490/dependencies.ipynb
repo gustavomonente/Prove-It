{
 "cells": [
  {
   "cell_type": "markdown",
   "metadata": {},
   "source": [
    "Axiom Dependencies\n",
    "=======================\n",
    "\n",
    "## <a class=\"ProveItLink\" href=\"../../../_theory_nbs_/theory.ipynb\">proveit.logic.booleans</a>.<a class=\"ProveItLink\" href=\"../../../_axioms_.ipynb#true_axiom\">true_axiom</a> \n"
   ]
  },
  {
   "cell_type": "code",
   "execution_count": 1,
   "metadata": {},
   "outputs": [],
   "source": [
    "import proveit\n",
    "# Automation is not needed when querying dependencies:\n",
    "proveit.defaults.automation = False # This will speed things up.\n",
    "proveit.defaults.inline_pngs = False # Makes files smaller.\n",
    "from proveit.logic.booleans import true_axiom"
   ]
  },
  {
   "cell_type": "code",
   "execution_count": 2,
   "metadata": {},
   "outputs": [
    {
     "data": {
      "text/html": [
       "<h3>Theorems/conjectures that depend directly on true_axiom</h3>"
      ],
      "text/plain": [
       "<IPython.core.display.HTML object>"
      ]
     },
     "metadata": {},
     "output_type": "display_data"
    },
    {
     "data": {
      "text/html": [
       "<dl>"
      ],
      "text/plain": [
       "<IPython.core.display.HTML object>"
      ]
     },
     "metadata": {},
     "output_type": "display_data"
    },
    {
     "data": {
      "text/html": [
       "<dt><a class=\"ProveItLink\" href=\"../../../conjunction/_theory_nbs_/proofs/nand_if_not_right/thm_proof.ipynb\">proveit.logic.booleans.conjunction.nand_if_not_right</a></dt><dd><a class=\"ProveItLink\" href=\"../../../conjunction/__pv_it/theorems/8215d917ebc66efbe2022d397d346c218061934d0/expr.ipynb\"><img src=\"../../../conjunction/__pv_it/theorems/8215d917ebc66efbe2022d397d346c218061934d0/expr.png\" style=\"display:inline;vertical-align:middle;\" /></a></dd>"
      ],
      "text/plain": [
       "<IPython.core.display.HTML object>"
      ]
     },
     "metadata": {},
     "output_type": "display_data"
    },
    {
     "data": {
      "text/html": [
       "<dt><a class=\"ProveItLink\" href=\"../../../implication/_theory_nbs_/proofs/false_implies_true/thm_proof.ipynb\">proveit.logic.booleans.implication.false_implies_true</a></dt><dd><a class=\"ProveItLink\" href=\"../../../implication/__pv_it/theorems/3d7f114cc4f18f94cf0e8491d520ba0907eddca30/expr.ipynb\"><img src=\"../../../implication/__pv_it/theorems/3d7f114cc4f18f94cf0e8491d520ba0907eddca30/expr.png\" style=\"display:inline;vertical-align:middle;\" /></a></dd>"
      ],
      "text/plain": [
       "<IPython.core.display.HTML object>"
      ]
     },
     "metadata": {},
     "output_type": "display_data"
    },
    {
     "data": {
      "text/html": [
       "<dt><a class=\"ProveItLink\" href=\"../../../negation/_theory_nbs_/proofs/double_negation_elim_lemma/thm_proof.ipynb\">proveit.logic.booleans.negation.double_negation_elim_lemma</a></dt><dd><a class=\"ProveItLink\" href=\"../../../negation/__pv_it/theorems/c6738f903a23c1a427f7afb0cb81ee72874457660/expr.ipynb\"><img src=\"../../../negation/__pv_it/theorems/c6738f903a23c1a427f7afb0cb81ee72874457660/expr.png\" style=\"display:inline;vertical-align:middle;\" /></a></dd>"
      ],
      "text/plain": [
       "<IPython.core.display.HTML object>"
      ]
     },
     "metadata": {},
     "output_type": "display_data"
    },
    {
     "data": {
      "text/html": [
       "<dt><a class=\"ProveItLink\" href=\"../../../negation/_theory_nbs_/proofs/double_negation_equiv/thm_proof.ipynb\">proveit.logic.booleans.negation.double_negation_equiv</a></dt><dd><a class=\"ProveItLink\" href=\"../../../negation/__pv_it/theorems/a57d023e1773efcc8bde73f49d90fa2bade8c5660/expr.ipynb\"><img src=\"../../../negation/__pv_it/theorems/a57d023e1773efcc8bde73f49d90fa2bade8c5660/expr.png\" style=\"display:inline;vertical-align:middle;\" /></a></dd>"
      ],
      "text/plain": [
       "<IPython.core.display.HTML object>"
      ]
     },
     "metadata": {},
     "output_type": "display_data"
    },
    {
     "data": {
      "text/html": [
       "</dl>"
      ],
      "text/plain": [
       "<IPython.core.display.HTML object>"
      ]
     },
     "metadata": {},
     "output_type": "display_data"
    }
   ],
   "source": [
    "%dependencies true_axiom"
   ]
  }
 ],
 "metadata": {
  "kernelspec": {
   "display_name": "Python 3",
   "language": "python",
   "name": "python3"
  }
 },
 "nbformat": 4,
 "nbformat_minor": 0
}