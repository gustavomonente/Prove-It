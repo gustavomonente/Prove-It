{
 "cells": [
  {
   "cell_type": "markdown",
   "metadata": {},
   "source": [
    "Axiom Dependencies\n",
    "=======================\n",
    "\n",
    "## <a class=\"ProveItLink\" href=\"../../../_theory_nbs_/theory.ipynb\">proveit.logic.booleans</a>.<a class=\"ProveItLink\" href=\"../../../_axioms_.ipynb#eq_true_intro\">eq_true_intro</a> \n"
   ]
  },
  {
   "cell_type": "code",
   "execution_count": 1,
   "metadata": {},
   "outputs": [],
   "source": [
    "import proveit\n",
    "# Automation is not needed when querying dependencies:\n",
    "proveit.defaults.automation = False # This will speed things up.\n",
    "proveit.defaults.inline_pngs = False # Makes files smaller.\n",
    "from proveit.logic.booleans import eq_true_intro"
   ]
  },
  {
   "cell_type": "code",
   "execution_count": 2,
   "metadata": {},
   "outputs": [
    {
     "data": {
      "text/html": [
       "<h3>Theorems/conjectures that depend directly on eq_true_intro</h3>"
      ],
      "text/plain": [
       "<IPython.core.display.HTML object>"
      ]
     },
     "metadata": {},
     "output_type": "display_data"
    },
    {
     "data": {
      "text/html": [
       "<dl>"
      ],
      "text/plain": [
       "<IPython.core.display.HTML object>"
      ]
     },
     "metadata": {},
     "output_type": "display_data"
    },
    {
     "data": {
      "text/html": [
       "<dt><a class=\"ProveItLink\" href=\"../../../../../core_expr_types/conditionals/_theory_nbs_/proofs/implication_from_conditional/thm_proof.ipynb\">proveit.core_expr_types.conditionals.implication_from_conditional</a></dt><dd><a class=\"ProveItLink\" href=\"../../../../../core_expr_types/conditionals/__pv_it/theorems/69243b2b9f91413c66b70954143e92ceeb03fc3c0/expr.ipynb\"><img src=\"../../../../../core_expr_types/conditionals/__pv_it/theorems/69243b2b9f91413c66b70954143e92ceeb03fc3c0/expr.png\" style=\"display:inline;vertical-align:middle;\" /></a></dd>"
      ],
      "text/plain": [
       "<IPython.core.display.HTML object>"
      ]
     },
     "metadata": {},
     "output_type": "display_data"
    },
    {
     "data": {
      "text/html": [
       "<dt><a class=\"ProveItLink\" href=\"../../../conjunction/_theory_nbs_/proofs/and_if_both/thm_proof.ipynb\">proveit.logic.booleans.conjunction.and_if_both</a></dt><dd><a class=\"ProveItLink\" href=\"../../../conjunction/__pv_it/theorems/008b0a99de239a049527e6b5d7f3470fecf84f5f0/expr.ipynb\"><img src=\"../../../conjunction/__pv_it/theorems/008b0a99de239a049527e6b5d7f3470fecf84f5f0/expr.png\" style=\"display:inline;vertical-align:middle;\" /></a></dd>"
      ],
      "text/plain": [
       "<IPython.core.display.HTML object>"
      ]
     },
     "metadata": {},
     "output_type": "display_data"
    },
    {
     "data": {
      "text/html": [
       "<dt><a class=\"ProveItLink\" href=\"../../../conjunction/_theory_nbs_/proofs/empty_conjunction_eval/thm_proof.ipynb\">proveit.logic.booleans.conjunction.empty_conjunction_eval</a></dt><dd><a class=\"ProveItLink\" href=\"../../../conjunction/__pv_it/theorems/ecf59b3e230f7f385a9daa0666b12a532e1912510/expr.ipynb\"><img src=\"../../../conjunction/__pv_it/theorems/ecf59b3e230f7f385a9daa0666b12a532e1912510/expr.png\" style=\"display:inline;vertical-align:middle;\" /></a></dd>"
      ],
      "text/plain": [
       "<IPython.core.display.HTML object>"
      ]
     },
     "metadata": {},
     "output_type": "display_data"
    },
    {
     "data": {
      "text/html": [
       "<dt><a class=\"ProveItLink\" href=\"../../../conjunction/_theory_nbs_/proofs/nand_if_left_but_not_right/thm_proof.ipynb\">proveit.logic.booleans.conjunction.nand_if_left_but_not_right</a></dt><dd><a class=\"ProveItLink\" href=\"../../../conjunction/__pv_it/theorems/1dfe28165023bfd0397c8b424dbdf8bc0fbf18010/expr.ipynb\"><img src=\"../../../conjunction/__pv_it/theorems/1dfe28165023bfd0397c8b424dbdf8bc0fbf18010/expr.png\" style=\"display:inline;vertical-align:middle;\" /></a></dd>"
      ],
      "text/plain": [
       "<IPython.core.display.HTML object>"
      ]
     },
     "metadata": {},
     "output_type": "display_data"
    },
    {
     "data": {
      "text/html": [
       "<dt><a class=\"ProveItLink\" href=\"../../../conjunction/_theory_nbs_/proofs/nand_if_right_but_not_left/thm_proof.ipynb\">proveit.logic.booleans.conjunction.nand_if_right_but_not_left</a></dt><dd><a class=\"ProveItLink\" href=\"../../../conjunction/__pv_it/theorems/1b5bcf5df8d76bedf01e8ba160eb40a0b9c5f0530/expr.ipynb\"><img src=\"../../../conjunction/__pv_it/theorems/1b5bcf5df8d76bedf01e8ba160eb40a0b9c5f0530/expr.png\" style=\"display:inline;vertical-align:middle;\" /></a></dd>"
      ],
      "text/plain": [
       "<IPython.core.display.HTML object>"
      ]
     },
     "metadata": {},
     "output_type": "display_data"
    },
    {
     "data": {
      "text/html": [
       "<dt><a class=\"ProveItLink\" href=\"../../../disjunction/_theory_nbs_/proofs/or_if_both/thm_proof.ipynb\">proveit.logic.booleans.disjunction.or_if_both</a></dt><dd><a class=\"ProveItLink\" href=\"../../../disjunction/__pv_it/theorems/725ea138bc28e56121d7e69a299a3c798e7ce5180/expr.ipynb\"><img src=\"../../../disjunction/__pv_it/theorems/725ea138bc28e56121d7e69a299a3c798e7ce5180/expr.png\" style=\"display:inline;vertical-align:middle;\" /></a></dd>"
      ],
      "text/plain": [
       "<IPython.core.display.HTML object>"
      ]
     },
     "metadata": {},
     "output_type": "display_data"
    },
    {
     "data": {
      "text/html": [
       "<dt><a class=\"ProveItLink\" href=\"../../../disjunction/_theory_nbs_/proofs/or_if_only_left/thm_proof.ipynb\">proveit.logic.booleans.disjunction.or_if_only_left</a></dt><dd><a class=\"ProveItLink\" href=\"../../../disjunction/__pv_it/theorems/b1112dea936402586b1d8adb61470672b010d3b60/expr.ipynb\"><img src=\"../../../disjunction/__pv_it/theorems/b1112dea936402586b1d8adb61470672b010d3b60/expr.png\" style=\"display:inline;vertical-align:middle;\" /></a></dd>"
      ],
      "text/plain": [
       "<IPython.core.display.HTML object>"
      ]
     },
     "metadata": {},
     "output_type": "display_data"
    },
    {
     "data": {
      "text/html": [
       "<dt><a class=\"ProveItLink\" href=\"../../../disjunction/_theory_nbs_/proofs/or_if_only_right/thm_proof.ipynb\">proveit.logic.booleans.disjunction.or_if_only_right</a></dt><dd><a class=\"ProveItLink\" href=\"../../../disjunction/__pv_it/theorems/56c6d5b6edb1a7819c74532433c277f96d39433e0/expr.ipynb\"><img src=\"../../../disjunction/__pv_it/theorems/56c6d5b6edb1a7819c74532433c277f96d39433e0/expr.png\" style=\"display:inline;vertical-align:middle;\" /></a></dd>"
      ],
      "text/plain": [
       "<IPython.core.display.HTML object>"
      ]
     },
     "metadata": {},
     "output_type": "display_data"
    },
    {
     "data": {
      "text/html": [
       "<dt><a class=\"ProveItLink\" href=\"../../../disjunction/_theory_nbs_/proofs/singular_constructive_dilemma/thm_proof.ipynb\">proveit.logic.booleans.disjunction.singular_constructive_dilemma</a></dt><dd><a class=\"ProveItLink\" href=\"../../../disjunction/__pv_it/theorems/a342d3aa1ba3fc6225e619eef0c8fb07cd1eaa860/expr.ipynb\"><img src=\"../../../disjunction/__pv_it/theorems/a342d3aa1ba3fc6225e619eef0c8fb07cd1eaa860/expr.png\" style=\"display:inline;vertical-align:middle;\" /></a></dd>"
      ],
      "text/plain": [
       "<IPython.core.display.HTML object>"
      ]
     },
     "metadata": {},
     "output_type": "display_data"
    },
    {
     "data": {
      "text/html": [
       "<dt><a class=\"ProveItLink\" href=\"../../../implication/_theory_nbs_/proofs/iff_f_f/thm_proof.ipynb\">proveit.logic.booleans.implication.iff_f_f</a></dt><dd><a class=\"ProveItLink\" href=\"../../../implication/__pv_it/theorems/3fe97e0489ffb4731bfdf8b9f6450398b1ca4dad0/expr.ipynb\"><img src=\"../../../implication/__pv_it/theorems/3fe97e0489ffb4731bfdf8b9f6450398b1ca4dad0/expr.png\" style=\"display:inline;vertical-align:middle;\" /></a></dd>"
      ],
      "text/plain": [
       "<IPython.core.display.HTML object>"
      ]
     },
     "metadata": {},
     "output_type": "display_data"
    },
    {
     "data": {
      "text/html": [
       "<dt><a class=\"ProveItLink\" href=\"../../../implication/_theory_nbs_/proofs/iff_t_t/thm_proof.ipynb\">proveit.logic.booleans.implication.iff_t_t</a></dt><dd><a class=\"ProveItLink\" href=\"../../../implication/__pv_it/theorems/e58e159afa635d0f7fbc6b3fa519fe6f0c54c1f70/expr.ipynb\"><img src=\"../../../implication/__pv_it/theorems/e58e159afa635d0f7fbc6b3fa519fe6f0c54c1f70/expr.png\" style=\"display:inline;vertical-align:middle;\" /></a></dd>"
      ],
      "text/plain": [
       "<IPython.core.display.HTML object>"
      ]
     },
     "metadata": {},
     "output_type": "display_data"
    },
    {
     "data": {
      "text/html": [
       "<dt><a class=\"ProveItLink\" href=\"../../../implication/_theory_nbs_/proofs/implies_f_f/thm_proof.ipynb\">proveit.logic.booleans.implication.implies_f_f</a></dt><dd><a class=\"ProveItLink\" href=\"../../../implication/__pv_it/theorems/c7b97a1161cb385fa28ef502f0fce9ef1cfda5480/expr.ipynb\"><img src=\"../../../implication/__pv_it/theorems/c7b97a1161cb385fa28ef502f0fce9ef1cfda5480/expr.png\" style=\"display:inline;vertical-align:middle;\" /></a></dd>"
      ],
      "text/plain": [
       "<IPython.core.display.HTML object>"
      ]
     },
     "metadata": {},
     "output_type": "display_data"
    },
    {
     "data": {
      "text/html": [
       "<dt><a class=\"ProveItLink\" href=\"../../../implication/_theory_nbs_/proofs/implies_f_t/thm_proof.ipynb\">proveit.logic.booleans.implication.implies_f_t</a></dt><dd><a class=\"ProveItLink\" href=\"../../../implication/__pv_it/theorems/f9ddae6b0ea01ac875d1478e681ccca449d4d70b0/expr.ipynb\"><img src=\"../../../implication/__pv_it/theorems/f9ddae6b0ea01ac875d1478e681ccca449d4d70b0/expr.png\" style=\"display:inline;vertical-align:middle;\" /></a></dd>"
      ],
      "text/plain": [
       "<IPython.core.display.HTML object>"
      ]
     },
     "metadata": {},
     "output_type": "display_data"
    },
    {
     "data": {
      "text/html": [
       "<dt><a class=\"ProveItLink\" href=\"../../../implication/_theory_nbs_/proofs/implies_t_t/thm_proof.ipynb\">proveit.logic.booleans.implication.implies_t_t</a></dt><dd><a class=\"ProveItLink\" href=\"../../../implication/__pv_it/theorems/2bf9fdd034c5bb42fdae9a0820e564628086672d0/expr.ipynb\"><img src=\"../../../implication/__pv_it/theorems/2bf9fdd034c5bb42fdae9a0820e564628086672d0/expr.png\" style=\"display:inline;vertical-align:middle;\" /></a></dd>"
      ],
      "text/plain": [
       "<IPython.core.display.HTML object>"
      ]
     },
     "metadata": {},
     "output_type": "display_data"
    },
    {
     "data": {
      "text/html": [
       "<dt><a class=\"ProveItLink\" href=\"../../../implication/_theory_nbs_/proofs/untrue_antecedent_implication/thm_proof.ipynb\">proveit.logic.booleans.implication.untrue_antecedent_implication</a></dt><dd><a class=\"ProveItLink\" href=\"../../../implication/__pv_it/theorems/c449629c528ad428408063a39d6569e7a08c49720/expr.ipynb\"><img src=\"../../../implication/__pv_it/theorems/c449629c528ad428408063a39d6569e7a08c49720/expr.png\" style=\"display:inline;vertical-align:middle;\" /></a></dd>"
      ],
      "text/plain": [
       "<IPython.core.display.HTML object>"
      ]
     },
     "metadata": {},
     "output_type": "display_data"
    },
    {
     "data": {
      "text/html": [
       "<dt><a class=\"ProveItLink\" href=\"../../../negation/_theory_nbs_/proofs/double_negation_equiv/thm_proof.ipynb\">proveit.logic.booleans.negation.double_negation_equiv</a></dt><dd><a class=\"ProveItLink\" href=\"../../../negation/__pv_it/theorems/0b2341405671c4e55c70dcded044f5f1f06481a80/expr.ipynb\"><img src=\"../../../negation/__pv_it/theorems/0b2341405671c4e55c70dcded044f5f1f06481a80/expr.png\" style=\"display:inline;vertical-align:middle;\" /></a></dd>"
      ],
      "text/plain": [
       "<IPython.core.display.HTML object>"
      ]
     },
     "metadata": {},
     "output_type": "display_data"
    },
    {
     "data": {
      "text/html": [
       "<dt><a class=\"ProveItLink\" href=\"../../../negation/_theory_nbs_/proofs/negation_contradiction/thm_proof.ipynb\">proveit.logic.booleans.negation.negation_contradiction</a></dt><dd><a class=\"ProveItLink\" href=\"../../../negation/__pv_it/theorems/c7513fda06010a7723fd74a5896c2aebcaad90630/expr.ipynb\"><img src=\"../../../negation/__pv_it/theorems/c7513fda06010a7723fd74a5896c2aebcaad90630/expr.png\" style=\"display:inline;vertical-align:middle;\" /></a></dd>"
      ],
      "text/plain": [
       "<IPython.core.display.HTML object>"
      ]
     },
     "metadata": {},
     "output_type": "display_data"
    },
    {
     "data": {
      "text/html": [
       "<dt><a class=\"ProveItLink\" href=\"../../../quantification/existence/_theory_nbs_/proofs/skolem_elim/thm_proof.ipynb\">proveit.logic.booleans.quantification.existence.skolem_elim</a></dt><dd><a class=\"ProveItLink\" href=\"../../../quantification/existence/__pv_it/theorems/72ab57b0236c6441521ef1ae08d13b715e79796f0/expr.ipynb\"><img src=\"../../../quantification/existence/__pv_it/theorems/72ab57b0236c6441521ef1ae08d13b715e79796f0/expr.png\" style=\"display:inline;vertical-align:middle;\" /></a></dd>"
      ],
      "text/plain": [
       "<IPython.core.display.HTML object>"
      ]
     },
     "metadata": {},
     "output_type": "display_data"
    },
    {
     "data": {
      "text/html": [
       "<dt><a class=\"ProveItLink\" href=\"../../../../equality/_theory_nbs_/proofs/sub_left_side_into/thm_proof.ipynb\">proveit.logic.equality.sub_left_side_into</a></dt><dd><a class=\"ProveItLink\" href=\"../../../../equality/__pv_it/theorems/75144010233a3c81a15f68a7971ea51ab0e7a18c0/expr.ipynb\"><img src=\"../../../../equality/__pv_it/theorems/75144010233a3c81a15f68a7971ea51ab0e7a18c0/expr.png\" style=\"display:inline;vertical-align:middle;\" /></a></dd>"
      ],
      "text/plain": [
       "<IPython.core.display.HTML object>"
      ]
     },
     "metadata": {},
     "output_type": "display_data"
    },
    {
     "data": {
      "text/html": [
       "<dt><a class=\"ProveItLink\" href=\"../../../../equality/_theory_nbs_/proofs/substitute_in_true/thm_proof.ipynb\">proveit.logic.equality.substitute_in_true</a></dt><dd><a class=\"ProveItLink\" href=\"../../../../equality/__pv_it/theorems/b745dd49efcc59f25a6422c994174d6b024dd6270/expr.ipynb\"><img src=\"../../../../equality/__pv_it/theorems/b745dd49efcc59f25a6422c994174d6b024dd6270/expr.png\" style=\"display:inline;vertical-align:middle;\" /></a></dd>"
      ],
      "text/plain": [
       "<IPython.core.display.HTML object>"
      ]
     },
     "metadata": {},
     "output_type": "display_data"
    },
    {
     "data": {
      "text/html": [
       "<dt><a class=\"ProveItLink\" href=\"../../../../equality/_theory_nbs_/proofs/substitute_truth/thm_proof.ipynb\">proveit.logic.equality.substitute_truth</a></dt><dd><a class=\"ProveItLink\" href=\"../../../../equality/__pv_it/theorems/8269ff5b5f5e83d2baef9de076d0445aba99b73b0/expr.ipynb\"><img src=\"../../../../equality/__pv_it/theorems/8269ff5b5f5e83d2baef9de076d0445aba99b73b0/expr.png\" style=\"display:inline;vertical-align:middle;\" /></a></dd>"
      ],
      "text/plain": [
       "<IPython.core.display.HTML object>"
      ]
     },
     "metadata": {},
     "output_type": "display_data"
    },
    {
     "data": {
      "text/html": [
       "<dt><a class=\"ProveItLink\" href=\"../../../../sets/enumeration/_theory_nbs_/proofs/in_singleton_eval_true/thm_proof.ipynb\">proveit.logic.sets.enumeration.in_singleton_eval_true</a></dt><dd><a class=\"ProveItLink\" href=\"../../../../sets/enumeration/__pv_it/theorems/c1024f82362d33db7531f5e09e9eb62988c7f6480/expr.ipynb\"><img src=\"../../../../sets/enumeration/__pv_it/theorems/c1024f82362d33db7531f5e09e9eb62988c7f6480/expr.png\" style=\"display:inline;vertical-align:middle;\" /></a></dd>"
      ],
      "text/plain": [
       "<IPython.core.display.HTML object>"
      ]
     },
     "metadata": {},
     "output_type": "display_data"
    },
    {
     "data": {
      "text/html": [
       "</dl>"
      ],
      "text/plain": [
       "<IPython.core.display.HTML object>"
      ]
     },
     "metadata": {},
     "output_type": "display_data"
    }
   ],
   "source": [
    "%dependencies eq_true_intro"
   ]
  }
 ],
 "metadata": {
  "kernelspec": {
   "display_name": "Python 3",
   "language": "python",
   "name": "python3"
  }
 },
 "nbformat": 4,
 "nbformat_minor": 0
}