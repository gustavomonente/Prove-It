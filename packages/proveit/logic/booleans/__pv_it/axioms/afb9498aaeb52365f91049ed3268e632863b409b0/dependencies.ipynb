{
 "cells": [
  {
   "cell_type": "markdown",
   "metadata": {},
   "source": [
    "Axiom Dependencies\n",
    "=======================\n",
    "\n",
    "## <a class=\"ProveItLink\" href=\"../../../_theory_nbs_/theory.ipynb\">proveit.logic.booleans</a>.<a class=\"ProveItLink\" href=\"../../../_axioms_.ipynb#eq_true_intro\">eq_true_intro</a> \n"
   ]
  },
  {
   "cell_type": "code",
   "execution_count": 1,
   "metadata": {},
   "outputs": [],
   "source": [
    "import proveit\n",
    "# Automation is not needed when querying dependencies:\n",
    "proveit.defaults.automation = False # This will speed things up.\n",
    "proveit.defaults.inline_pngs = False # Makes files smaller.\n",
    "from proveit.logic.booleans import eq_true_intro"
   ]
  },
  {
   "cell_type": "code",
   "execution_count": 2,
   "metadata": {},
   "outputs": [
    {
     "data": {
      "text/html": [
       "<h3>Theorems/conjectures that depend directly on eq_true_intro</h3>"
      ],
      "text/plain": [
       "<IPython.core.display.HTML object>"
      ]
     },
     "metadata": {},
     "output_type": "display_data"
    },
    {
     "data": {
      "text/html": [
       "<dl>"
      ],
      "text/plain": [
       "<IPython.core.display.HTML object>"
      ]
     },
     "metadata": {},
     "output_type": "display_data"
    },
    {
     "data": {
      "text/html": [
       "<dt><a class=\"ProveItLink\" href=\"../../../../../core_expr_types/conditionals/_theory_nbs_/proofs/implication_from_conditional/thm_proof.ipynb\">proveit.core_expr_types.conditionals.implication_from_conditional</a></dt><dd><a class=\"ProveItLink\" href=\"../../../../../core_expr_types/conditionals/__pv_it/theorems/407c0d5d2c6155094109c1ede3f329cb5d9c033b0/expr.ipynb\"><img src=\"../../../../../core_expr_types/conditionals/__pv_it/theorems/407c0d5d2c6155094109c1ede3f329cb5d9c033b0/expr.png\" style=\"display:inline;vertical-align:middle;\" /></a></dd>"
      ],
      "text/plain": [
       "<IPython.core.display.HTML object>"
      ]
     },
     "metadata": {},
     "output_type": "display_data"
    },
    {
     "data": {
      "text/html": [
       "<dt><a class=\"ProveItLink\" href=\"../../../conjunction/_theory_nbs_/proofs/and_if_both/thm_proof.ipynb\">proveit.logic.booleans.conjunction.and_if_both</a></dt><dd><a class=\"ProveItLink\" href=\"../../../conjunction/__pv_it/theorems/476a12431311272afdc4871f98066dc5006610aa0/expr.ipynb\"><img src=\"../../../conjunction/__pv_it/theorems/476a12431311272afdc4871f98066dc5006610aa0/expr.png\" style=\"display:inline;vertical-align:middle;\" /></a></dd>"
      ],
      "text/plain": [
       "<IPython.core.display.HTML object>"
      ]
     },
     "metadata": {},
     "output_type": "display_data"
    },
    {
     "data": {
      "text/html": [
       "<dt><a class=\"ProveItLink\" href=\"../../../conjunction/_theory_nbs_/proofs/empty_conjunction_eval/thm_proof.ipynb\">proveit.logic.booleans.conjunction.empty_conjunction_eval</a></dt><dd><a class=\"ProveItLink\" href=\"../../../conjunction/__pv_it/theorems/50efbe88423572f8aef2dafc050b3fd5475165ca0/expr.ipynb\"><img src=\"../../../conjunction/__pv_it/theorems/50efbe88423572f8aef2dafc050b3fd5475165ca0/expr.png\" style=\"display:inline;vertical-align:middle;\" /></a></dd>"
      ],
      "text/plain": [
       "<IPython.core.display.HTML object>"
      ]
     },
     "metadata": {},
     "output_type": "display_data"
    },
    {
     "data": {
      "text/html": [
       "<dt><a class=\"ProveItLink\" href=\"../../../conjunction/_theory_nbs_/proofs/nand_if_left_but_not_right/thm_proof.ipynb\">proveit.logic.booleans.conjunction.nand_if_left_but_not_right</a></dt><dd><a class=\"ProveItLink\" href=\"../../../conjunction/__pv_it/theorems/a30cabccccf417b63570b317ea608093adb3db790/expr.ipynb\"><img src=\"../../../conjunction/__pv_it/theorems/a30cabccccf417b63570b317ea608093adb3db790/expr.png\" style=\"display:inline;vertical-align:middle;\" /></a></dd>"
      ],
      "text/plain": [
       "<IPython.core.display.HTML object>"
      ]
     },
     "metadata": {},
     "output_type": "display_data"
    },
    {
     "data": {
      "text/html": [
       "<dt><a class=\"ProveItLink\" href=\"../../../conjunction/_theory_nbs_/proofs/nand_if_right_but_not_left/thm_proof.ipynb\">proveit.logic.booleans.conjunction.nand_if_right_but_not_left</a></dt><dd><a class=\"ProveItLink\" href=\"../../../conjunction/__pv_it/theorems/cea4ee78dcdbb248426b2a4d83709b8dfd1d4e5c0/expr.ipynb\"><img src=\"../../../conjunction/__pv_it/theorems/cea4ee78dcdbb248426b2a4d83709b8dfd1d4e5c0/expr.png\" style=\"display:inline;vertical-align:middle;\" /></a></dd>"
      ],
      "text/plain": [
       "<IPython.core.display.HTML object>"
      ]
     },
     "metadata": {},
     "output_type": "display_data"
    },
    {
     "data": {
      "text/html": [
       "<dt><a class=\"ProveItLink\" href=\"../../../disjunction/_theory_nbs_/proofs/or_if_both/thm_proof.ipynb\">proveit.logic.booleans.disjunction.or_if_both</a></dt><dd><a class=\"ProveItLink\" href=\"../../../disjunction/__pv_it/theorems/1820faa13a2210d5ef0e6e4a9e55a8a00c59fef60/expr.ipynb\"><img src=\"../../../disjunction/__pv_it/theorems/1820faa13a2210d5ef0e6e4a9e55a8a00c59fef60/expr.png\" style=\"display:inline;vertical-align:middle;\" /></a></dd>"
      ],
      "text/plain": [
       "<IPython.core.display.HTML object>"
      ]
     },
     "metadata": {},
     "output_type": "display_data"
    },
    {
     "data": {
      "text/html": [
       "<dt><a class=\"ProveItLink\" href=\"../../../disjunction/_theory_nbs_/proofs/or_if_only_left/thm_proof.ipynb\">proveit.logic.booleans.disjunction.or_if_only_left</a></dt><dd><a class=\"ProveItLink\" href=\"../../../disjunction/__pv_it/theorems/889bfc0e1509011aab17d2eb775ff94fd3e9aa8b0/expr.ipynb\"><img src=\"../../../disjunction/__pv_it/theorems/889bfc0e1509011aab17d2eb775ff94fd3e9aa8b0/expr.png\" style=\"display:inline;vertical-align:middle;\" /></a></dd>"
      ],
      "text/plain": [
       "<IPython.core.display.HTML object>"
      ]
     },
     "metadata": {},
     "output_type": "display_data"
    },
    {
     "data": {
      "text/html": [
       "<dt><a class=\"ProveItLink\" href=\"../../../disjunction/_theory_nbs_/proofs/or_if_only_right/thm_proof.ipynb\">proveit.logic.booleans.disjunction.or_if_only_right</a></dt><dd><a class=\"ProveItLink\" href=\"../../../disjunction/__pv_it/theorems/e12ec68e17cbe93c82ba53de97edea6f713984a30/expr.ipynb\"><img src=\"../../../disjunction/__pv_it/theorems/e12ec68e17cbe93c82ba53de97edea6f713984a30/expr.png\" style=\"display:inline;vertical-align:middle;\" /></a></dd>"
      ],
      "text/plain": [
       "<IPython.core.display.HTML object>"
      ]
     },
     "metadata": {},
     "output_type": "display_data"
    },
    {
     "data": {
      "text/html": [
       "<dt><a class=\"ProveItLink\" href=\"../../../disjunction/_theory_nbs_/proofs/singular_constructive_dilemma/thm_proof.ipynb\">proveit.logic.booleans.disjunction.singular_constructive_dilemma</a></dt><dd><a class=\"ProveItLink\" href=\"../../../disjunction/__pv_it/theorems/af11bd589531bf2abe9b7bb78fe694ec3519550a0/expr.ipynb\"><img src=\"../../../disjunction/__pv_it/theorems/af11bd589531bf2abe9b7bb78fe694ec3519550a0/expr.png\" style=\"display:inline;vertical-align:middle;\" /></a></dd>"
      ],
      "text/plain": [
       "<IPython.core.display.HTML object>"
      ]
     },
     "metadata": {},
     "output_type": "display_data"
    },
    {
     "data": {
      "text/html": [
       "<dt><a class=\"ProveItLink\" href=\"../../../implication/_theory_nbs_/proofs/iff_f_f/thm_proof.ipynb\">proveit.logic.booleans.implication.iff_f_f</a></dt><dd><a class=\"ProveItLink\" href=\"../../../implication/__pv_it/theorems/caa4bdb71acbeb39539b1f05ed3600fd807810540/expr.ipynb\"><img src=\"../../../implication/__pv_it/theorems/caa4bdb71acbeb39539b1f05ed3600fd807810540/expr.png\" style=\"display:inline;vertical-align:middle;\" /></a></dd>"
      ],
      "text/plain": [
       "<IPython.core.display.HTML object>"
      ]
     },
     "metadata": {},
     "output_type": "display_data"
    },
    {
     "data": {
      "text/html": [
       "<dt><a class=\"ProveItLink\" href=\"../../../implication/_theory_nbs_/proofs/iff_t_t/thm_proof.ipynb\">proveit.logic.booleans.implication.iff_t_t</a></dt><dd><a class=\"ProveItLink\" href=\"../../../implication/__pv_it/theorems/ce23ac33f9ed9ca47fd58ac8527e8d3ff79456590/expr.ipynb\"><img src=\"../../../implication/__pv_it/theorems/ce23ac33f9ed9ca47fd58ac8527e8d3ff79456590/expr.png\" style=\"display:inline;vertical-align:middle;\" /></a></dd>"
      ],
      "text/plain": [
       "<IPython.core.display.HTML object>"
      ]
     },
     "metadata": {},
     "output_type": "display_data"
    },
    {
     "data": {
      "text/html": [
       "<dt><a class=\"ProveItLink\" href=\"../../../implication/_theory_nbs_/proofs/implies_f_f/thm_proof.ipynb\">proveit.logic.booleans.implication.implies_f_f</a></dt><dd><a class=\"ProveItLink\" href=\"../../../implication/__pv_it/theorems/7c3155117c18abc9c2ef8f4f1bcba66d61e2f5130/expr.ipynb\"><img src=\"../../../implication/__pv_it/theorems/7c3155117c18abc9c2ef8f4f1bcba66d61e2f5130/expr.png\" style=\"display:inline;vertical-align:middle;\" /></a></dd>"
      ],
      "text/plain": [
       "<IPython.core.display.HTML object>"
      ]
     },
     "metadata": {},
     "output_type": "display_data"
    },
    {
     "data": {
      "text/html": [
       "<dt><a class=\"ProveItLink\" href=\"../../../implication/_theory_nbs_/proofs/implies_f_t/thm_proof.ipynb\">proveit.logic.booleans.implication.implies_f_t</a></dt><dd><a class=\"ProveItLink\" href=\"../../../implication/__pv_it/theorems/12bf19d6881f802adbd63618bbacb97d741ef7d60/expr.ipynb\"><img src=\"../../../implication/__pv_it/theorems/12bf19d6881f802adbd63618bbacb97d741ef7d60/expr.png\" style=\"display:inline;vertical-align:middle;\" /></a></dd>"
      ],
      "text/plain": [
       "<IPython.core.display.HTML object>"
      ]
     },
     "metadata": {},
     "output_type": "display_data"
    },
    {
     "data": {
      "text/html": [
       "<dt><a class=\"ProveItLink\" href=\"../../../implication/_theory_nbs_/proofs/implies_t_t/thm_proof.ipynb\">proveit.logic.booleans.implication.implies_t_t</a></dt><dd><a class=\"ProveItLink\" href=\"../../../implication/__pv_it/theorems/aca6719bf96eddf0376618d1e3832706e4a4f2ec0/expr.ipynb\"><img src=\"../../../implication/__pv_it/theorems/aca6719bf96eddf0376618d1e3832706e4a4f2ec0/expr.png\" style=\"display:inline;vertical-align:middle;\" /></a></dd>"
      ],
      "text/plain": [
       "<IPython.core.display.HTML object>"
      ]
     },
     "metadata": {},
     "output_type": "display_data"
    },
    {
     "data": {
      "text/html": [
       "<dt><a class=\"ProveItLink\" href=\"../../../implication/_theory_nbs_/proofs/untrue_antecedent_implication/thm_proof.ipynb\">proveit.logic.booleans.implication.untrue_antecedent_implication</a></dt><dd><a class=\"ProveItLink\" href=\"../../../implication/__pv_it/theorems/360b0acb5ffcc6d91b9e940a4c0f9fa458643c2d0/expr.ipynb\"><img src=\"../../../implication/__pv_it/theorems/360b0acb5ffcc6d91b9e940a4c0f9fa458643c2d0/expr.png\" style=\"display:inline;vertical-align:middle;\" /></a></dd>"
      ],
      "text/plain": [
       "<IPython.core.display.HTML object>"
      ]
     },
     "metadata": {},
     "output_type": "display_data"
    },
    {
     "data": {
      "text/html": [
       "<dt><a class=\"ProveItLink\" href=\"../../../negation/_theory_nbs_/proofs/double_negation_equiv/thm_proof.ipynb\">proveit.logic.booleans.negation.double_negation_equiv</a></dt><dd><a class=\"ProveItLink\" href=\"../../../negation/__pv_it/theorems/a57d023e1773efcc8bde73f49d90fa2bade8c5660/expr.ipynb\"><img src=\"../../../negation/__pv_it/theorems/a57d023e1773efcc8bde73f49d90fa2bade8c5660/expr.png\" style=\"display:inline;vertical-align:middle;\" /></a></dd>"
      ],
      "text/plain": [
       "<IPython.core.display.HTML object>"
      ]
     },
     "metadata": {},
     "output_type": "display_data"
    },
    {
     "data": {
      "text/html": [
       "<dt><a class=\"ProveItLink\" href=\"../../../negation/_theory_nbs_/proofs/negation_contradiction/thm_proof.ipynb\">proveit.logic.booleans.negation.negation_contradiction</a></dt><dd><a class=\"ProveItLink\" href=\"../../../negation/__pv_it/theorems/bd6cf2ce5fe950bec6524114e2e809bb030011670/expr.ipynb\"><img src=\"../../../negation/__pv_it/theorems/bd6cf2ce5fe950bec6524114e2e809bb030011670/expr.png\" style=\"display:inline;vertical-align:middle;\" /></a></dd>"
      ],
      "text/plain": [
       "<IPython.core.display.HTML object>"
      ]
     },
     "metadata": {},
     "output_type": "display_data"
    },
    {
     "data": {
      "text/html": [
       "<dt><a class=\"ProveItLink\" href=\"../../../quantification/existence/_theory_nbs_/proofs/skolem_elim/thm_proof.ipynb\">proveit.logic.booleans.quantification.existence.skolem_elim</a></dt><dd><a class=\"ProveItLink\" href=\"../../../quantification/existence/__pv_it/theorems/5998a3bc1077e7c659442b2e28b52b46208d47480/expr.ipynb\"><img src=\"../../../quantification/existence/__pv_it/theorems/5998a3bc1077e7c659442b2e28b52b46208d47480/expr.png\" style=\"display:inline;vertical-align:middle;\" /></a></dd>"
      ],
      "text/plain": [
       "<IPython.core.display.HTML object>"
      ]
     },
     "metadata": {},
     "output_type": "display_data"
    },
    {
     "data": {
      "text/html": [
       "<dt><a class=\"ProveItLink\" href=\"../../../../equality/_theory_nbs_/proofs/sub_left_side_into/thm_proof.ipynb\">proveit.logic.equality.sub_left_side_into</a></dt><dd><a class=\"ProveItLink\" href=\"../../../../equality/__pv_it/theorems/8c444378a3a7afbc2953d40707cf277d9e5724670/expr.ipynb\"><img src=\"../../../../equality/__pv_it/theorems/8c444378a3a7afbc2953d40707cf277d9e5724670/expr.png\" style=\"display:inline;vertical-align:middle;\" /></a></dd>"
      ],
      "text/plain": [
       "<IPython.core.display.HTML object>"
      ]
     },
     "metadata": {},
     "output_type": "display_data"
    },
    {
     "data": {
      "text/html": [
       "<dt><a class=\"ProveItLink\" href=\"../../../../equality/_theory_nbs_/proofs/substitute_in_true/thm_proof.ipynb\">proveit.logic.equality.substitute_in_true</a></dt><dd><a class=\"ProveItLink\" href=\"../../../../equality/__pv_it/theorems/9c555432ce222cff035a5939d129253199a3e8f30/expr.ipynb\"><img src=\"../../../../equality/__pv_it/theorems/9c555432ce222cff035a5939d129253199a3e8f30/expr.png\" style=\"display:inline;vertical-align:middle;\" /></a></dd>"
      ],
      "text/plain": [
       "<IPython.core.display.HTML object>"
      ]
     },
     "metadata": {},
     "output_type": "display_data"
    },
    {
     "data": {
      "text/html": [
       "<dt><a class=\"ProveItLink\" href=\"../../../../equality/_theory_nbs_/proofs/substitute_truth/thm_proof.ipynb\">proveit.logic.equality.substitute_truth</a></dt><dd><a class=\"ProveItLink\" href=\"../../../../equality/__pv_it/theorems/a2fcccb6b9a54f83342381fbffc0c31590728d2e0/expr.ipynb\"><img src=\"../../../../equality/__pv_it/theorems/a2fcccb6b9a54f83342381fbffc0c31590728d2e0/expr.png\" style=\"display:inline;vertical-align:middle;\" /></a></dd>"
      ],
      "text/plain": [
       "<IPython.core.display.HTML object>"
      ]
     },
     "metadata": {},
     "output_type": "display_data"
    },
    {
     "data": {
      "text/html": [
       "<dt><a class=\"ProveItLink\" href=\"../../../../sets/enumeration/_theory_nbs_/proofs/in_singleton_eval_true/thm_proof.ipynb\">proveit.logic.sets.enumeration.in_singleton_eval_true</a></dt><dd><a class=\"ProveItLink\" href=\"../../../../sets/enumeration/__pv_it/theorems/8f4cea3a2b47b2aa2662790c61aa148ed52b5afa0/expr.ipynb\"><img src=\"../../../../sets/enumeration/__pv_it/theorems/8f4cea3a2b47b2aa2662790c61aa148ed52b5afa0/expr.png\" style=\"display:inline;vertical-align:middle;\" /></a></dd>"
      ],
      "text/plain": [
       "<IPython.core.display.HTML object>"
      ]
     },
     "metadata": {},
     "output_type": "display_data"
    },
    {
     "data": {
      "text/html": [
       "</dl>"
      ],
      "text/plain": [
       "<IPython.core.display.HTML object>"
      ]
     },
     "metadata": {},
     "output_type": "display_data"
    }
   ],
   "source": [
    "%dependencies eq_true_intro"
   ]
  }
 ],
 "metadata": {
  "kernelspec": {
   "display_name": "Python 3",
   "language": "python",
   "name": "python3"
  }
 },
 "nbformat": 4,
 "nbformat_minor": 0
}