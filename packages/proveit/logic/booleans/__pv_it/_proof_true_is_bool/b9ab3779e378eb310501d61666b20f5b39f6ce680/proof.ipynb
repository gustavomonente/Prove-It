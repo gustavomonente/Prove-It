{
 "cells": [
  {
   "cell_type": "markdown",
   "metadata": {},
   "source": [
    "Show the Proof\n",
    "========"
   ]
  },
  {
   "cell_type": "code",
   "execution_count": 1,
   "metadata": {},
   "outputs": [
    {
     "data": {
      "text/html": [
       "<table><tr><th>&nbsp;</th><th>step type</th><th>requirements</th><th>statement</th></tr>\n",
       "<tr><td><a name=\"proveit.logic.booleans._proof_true_is_bool.b9ab3779e378eb310501d61666b20f5b39f6ce680_step0\">0</a></td><td>instantiation</td><td><a href=\"#proveit.logic.booleans._proof_true_is_bool.b9ab3779e378eb310501d61666b20f5b39f6ce680_step1\">1</a>, <a href=\"#proveit.logic.booleans._proof_true_is_bool.b9ab3779e378eb310501d61666b20f5b39f6ce680_step2\">2</a>, <a href=\"#proveit.logic.booleans._proof_true_is_bool.b9ab3779e378eb310501d61666b20f5b39f6ce680_step3\">3</a></td><td><span style=\"font-size:20px;\"> <a class=\"ProveItLink\" href=\"proof.ipynb\" style=\"text-decoration: none\">&nbsp;&#x22A2;&nbsp;&nbsp;</a><a class=\"ProveItLink\" href=\"../118c7a6d8b5e4a9dec0024dc0f818837050c9c200/expr.ipynb\"><img src=\"../118c7a6d8b5e4a9dec0024dc0f818837050c9c200/expr.png\" style=\"display:inline;vertical-align:middle;\" /></a></span></td></tr>\n",
       "<tr><td>&nbsp;</td><td colspan=4 style=\"text-align:left\"><span style=\"font-size:20px;\"><a class=\"ProveItLink\" href=\"../24158abeeef499d6a6e1879eb4a1d2f5cc086ef30/expr.ipynb\"><img src=\"../24158abeeef499d6a6e1879eb4a1d2f5cc086ef30/expr.png\" style=\"display:inline;vertical-align:middle;\" /></a> : <a class=\"ProveItLink\" href=\"../7c5bff96ed5a6b0d9dc80e6172dbcd9e6c1f03bf0/expr.ipynb\"><img src=\"../7c5bff96ed5a6b0d9dc80e6172dbcd9e6c1f03bf0/expr.png\" style=\"display:inline;vertical-align:middle;\" /></a>, <a class=\"ProveItLink\" href=\"../../../../../__pv_it/common/a2581dc5df71d9a30bad37de14965fa5fec97a240/expr.ipynb\"><img src=\"../../../../../__pv_it/common/a2581dc5df71d9a30bad37de14965fa5fec97a240/expr.png\" style=\"display:inline;vertical-align:middle;\" /></a> : <a class=\"ProveItLink\" href=\"../f45acb8aa9e0af663f821c16df0458a51def92a20/expr.ipynb\"><img src=\"../f45acb8aa9e0af663f821c16df0458a51def92a20/expr.png\" style=\"display:inline;vertical-align:middle;\" /></a></span></td></tr><tr><td><a name=\"proveit.logic.booleans._proof_true_is_bool.b9ab3779e378eb310501d61666b20f5b39f6ce680_step1\">1</a></td><td>theorem</td><td></td><td><span style=\"font-size:20px;\"> <a class=\"ProveItLink\" href=\"../../../../equality/_theory_nbs_/proofs/substitute_falsehood/thm_proof.ipynb\" style=\"text-decoration: none\">&nbsp;&#x22A2;&nbsp;&nbsp;</a><a class=\"ProveItLink\" href=\"../../../../equality/__pv_it/theorems/7d3b9dbc96255434cf7c52195a76f487ec37fee40/expr.ipynb\"><img src=\"../../../../equality/__pv_it/theorems/7d3b9dbc96255434cf7c52195a76f487ec37fee40/expr.png\" style=\"display:inline;vertical-align:middle;\" /></a></span></td></tr>\n",
       "<tr><td>&nbsp;</td><td colspan=4 style-\"text-align:left\"><a class=\"ProveItLink\" href=\"../../../../equality/_theory_nbs_/proofs/substitute_falsehood/thm_proof.ipynb\">proveit.logic.equality.substitute_falsehood</a></td></tr><tr><td><a name=\"proveit.logic.booleans._proof_true_is_bool.b9ab3779e378eb310501d61666b20f5b39f6ce680_step2\">2</a></td><td>instantiation</td><td><a href=\"#proveit.logic.booleans._proof_true_is_bool.b9ab3779e378eb310501d61666b20f5b39f6ce680_step4\">4</a>, <a href=\"#proveit.logic.booleans._proof_true_is_bool.b9ab3779e378eb310501d61666b20f5b39f6ce680_step5\">5</a>, <a href=\"#proveit.logic.booleans._proof_true_is_bool.b9ab3779e378eb310501d61666b20f5b39f6ce680_step6\">6</a></td><td><span style=\"font-size:20px;\"> <a class=\"ProveItLink\" href=\"../2790448922d8b2da0fb8b7ef7447154fadcd53190/proof.ipynb\" style=\"text-decoration: none\">&nbsp;&#x22A2;&nbsp;&nbsp;</a><a class=\"ProveItLink\" href=\"../9056dd784fdec371cfa5a6e7109467a63d6a2d8d0/expr.ipynb\"><img src=\"../9056dd784fdec371cfa5a6e7109467a63d6a2d8d0/expr.png\" style=\"display:inline;vertical-align:middle;\" /></a></span></td></tr>\n",
       "<tr><td>&nbsp;</td><td colspan=4 style=\"text-align:left\"><span style=\"font-size:20px;\"><a class=\"ProveItLink\" href=\"../24158abeeef499d6a6e1879eb4a1d2f5cc086ef30/expr.ipynb\"><img src=\"../24158abeeef499d6a6e1879eb4a1d2f5cc086ef30/expr.png\" style=\"display:inline;vertical-align:middle;\" /></a> : <a class=\"ProveItLink\" href=\"../fff7ad97659534cc27d1cd6bef1963100500a57f0/expr.ipynb\"><img src=\"../fff7ad97659534cc27d1cd6bef1963100500a57f0/expr.png\" style=\"display:inline;vertical-align:middle;\" /></a>, <a class=\"ProveItLink\" href=\"../../../../../__pv_it/common/a2581dc5df71d9a30bad37de14965fa5fec97a240/expr.ipynb\"><img src=\"../../../../../__pv_it/common/a2581dc5df71d9a30bad37de14965fa5fec97a240/expr.png\" style=\"display:inline;vertical-align:middle;\" /></a> : <a class=\"ProveItLink\" href=\"../../theorems/52b4f7bc7da956ecc9dae3497359cbd2e35d2aa50/expr.ipynb\"><img src=\"../../theorems/52b4f7bc7da956ecc9dae3497359cbd2e35d2aa50/expr.png\" style=\"display:inline;vertical-align:middle;\" /></a></span></td></tr><tr><td><a name=\"proveit.logic.booleans._proof_true_is_bool.b9ab3779e378eb310501d61666b20f5b39f6ce680_step3\">3</a></td><td>instantiation</td><td><a href=\"#proveit.logic.booleans._proof_true_is_bool.b9ab3779e378eb310501d61666b20f5b39f6ce680_step7\">7</a>, <a href=\"#proveit.logic.booleans._proof_true_is_bool.b9ab3779e378eb310501d61666b20f5b39f6ce680_step8\">8</a></td><td><span style=\"font-size:20px;\"> <a class=\"ProveItLink\" href=\"../6cbe59e7160931954853bc8195a83bada336c3ec0/proof.ipynb\" style=\"text-decoration: none\">&nbsp;&#x22A2;&nbsp;&nbsp;</a><a class=\"ProveItLink\" href=\"../ae66c032ea813aea0ebadcd5f05fdd601f01a1000/expr.ipynb\"><img src=\"../ae66c032ea813aea0ebadcd5f05fdd601f01a1000/expr.png\" style=\"display:inline;vertical-align:middle;\" /></a></span></td></tr>\n",
       "<tr><td>&nbsp;</td><td colspan=4 style=\"text-align:left\"><span style=\"font-size:20px;\"><a class=\"ProveItLink\" href=\"../../../../../__pv_it/common/a2581dc5df71d9a30bad37de14965fa5fec97a240/expr.ipynb\"><img src=\"../../../../../__pv_it/common/a2581dc5df71d9a30bad37de14965fa5fec97a240/expr.png\" style=\"display:inline;vertical-align:middle;\" /></a> : <a class=\"ProveItLink\" href=\"../../common/373f61d65f7ccc0f6ebbafaccf02f2693d0e3bad0/expr.ipynb\"><img src=\"../../common/373f61d65f7ccc0f6ebbafaccf02f2693d0e3bad0/expr.png\" style=\"display:inline;vertical-align:middle;\" /></a>, <a class=\"ProveItLink\" href=\"../../../../../__pv_it/common/0f21cbfd5644a1cae6781c1d58354abc2ffbc9000/expr.ipynb\"><img src=\"../../../../../__pv_it/common/0f21cbfd5644a1cae6781c1d58354abc2ffbc9000/expr.png\" style=\"display:inline;vertical-align:middle;\" /></a> : <a class=\"ProveItLink\" href=\"../../common/bc5c31e39ae582b67c89fb24025b57f5b995e8890/expr.ipynb\"><img src=\"../../common/bc5c31e39ae582b67c89fb24025b57f5b995e8890/expr.png\" style=\"display:inline;vertical-align:middle;\" /></a></span></td></tr><tr><td><a name=\"proveit.logic.booleans._proof_true_is_bool.b9ab3779e378eb310501d61666b20f5b39f6ce680_step4\">4</a></td><td>theorem</td><td></td><td><span style=\"font-size:20px;\"> <a class=\"ProveItLink\" href=\"../../../../equality/_theory_nbs_/proofs/substitute_truth/thm_proof.ipynb\" style=\"text-decoration: none\">&nbsp;&#x22A2;&nbsp;&nbsp;</a><a class=\"ProveItLink\" href=\"../../../../equality/__pv_it/theorems/8269ff5b5f5e83d2baef9de076d0445aba99b73b0/expr.ipynb\"><img src=\"../../../../equality/__pv_it/theorems/8269ff5b5f5e83d2baef9de076d0445aba99b73b0/expr.png\" style=\"display:inline;vertical-align:middle;\" /></a></span></td></tr>\n",
       "<tr><td>&nbsp;</td><td colspan=4 style-\"text-align:left\"><a class=\"ProveItLink\" href=\"../../../../equality/_theory_nbs_/proofs/substitute_truth/thm_proof.ipynb\">proveit.logic.equality.substitute_truth</a></td></tr><tr><td><a name=\"proveit.logic.booleans._proof_true_is_bool.b9ab3779e378eb310501d61666b20f5b39f6ce680_step5\">5</a></td><td>theorem</td><td></td><td><span style=\"font-size:20px;\"> <a class=\"ProveItLink\" href=\"../../../disjunction/_theory_nbs_/proofs/true_or_false/thm_proof.ipynb\" style=\"text-decoration: none\">&nbsp;&#x22A2;&nbsp;&nbsp;</a><a class=\"ProveItLink\" href=\"../../../disjunction/__pv_it/theorems/84ddfe0a2ea6d1170e8d0439db424649f45484d00/expr.ipynb\"><img src=\"../../../disjunction/__pv_it/theorems/84ddfe0a2ea6d1170e8d0439db424649f45484d00/expr.png\" style=\"display:inline;vertical-align:middle;\" /></a></span></td></tr>\n",
       "<tr><td>&nbsp;</td><td colspan=4 style-\"text-align:left\"><a class=\"ProveItLink\" href=\"../../../disjunction/_theory_nbs_/proofs/true_or_false/thm_proof.ipynb\">proveit.logic.booleans.disjunction.true_or_false</a></td></tr><tr><td><a name=\"proveit.logic.booleans._proof_true_is_bool.b9ab3779e378eb310501d61666b20f5b39f6ce680_step6\">6</a></td><td>theorem</td><td></td><td><span style=\"font-size:20px;\"> <a class=\"ProveItLink\" href=\"../../../_theory_nbs_/proofs/true_eq_true/thm_proof.ipynb\" style=\"text-decoration: none\">&nbsp;&#x22A2;&nbsp;&nbsp;</a><a class=\"ProveItLink\" href=\"../../theorems/52b4f7bc7da956ecc9dae3497359cbd2e35d2aa50/expr.ipynb\"><img src=\"../../theorems/52b4f7bc7da956ecc9dae3497359cbd2e35d2aa50/expr.png\" style=\"display:inline;vertical-align:middle;\" /></a></span></td></tr>\n",
       "<tr><td>&nbsp;</td><td colspan=4 style-\"text-align:left\"><a class=\"ProveItLink\" href=\"../../../_theory_nbs_/proofs/true_eq_true/thm_proof.ipynb\">proveit.logic.booleans.true_eq_true</a></td></tr><tr><td><a name=\"proveit.logic.booleans._proof_true_is_bool.b9ab3779e378eb310501d61666b20f5b39f6ce680_step7\">7</a></td><td>theorem</td><td></td><td><span style=\"font-size:20px;\"> <a class=\"ProveItLink\" href=\"../../../../equality/_theory_nbs_/proofs/unfold_not_equals/thm_proof.ipynb\" style=\"text-decoration: none\">&nbsp;&#x22A2;&nbsp;&nbsp;</a><a class=\"ProveItLink\" href=\"../../../../equality/__pv_it/theorems/b0f13b620d3024b50bac13c56a90b21cd102cffc0/expr.ipynb\"><img src=\"../../../../equality/__pv_it/theorems/b0f13b620d3024b50bac13c56a90b21cd102cffc0/expr.png\" style=\"display:inline;vertical-align:middle;\" /></a></span></td></tr>\n",
       "<tr><td>&nbsp;</td><td colspan=4 style-\"text-align:left\"><a class=\"ProveItLink\" href=\"../../../../equality/_theory_nbs_/proofs/unfold_not_equals/thm_proof.ipynb\">proveit.logic.equality.unfold_not_equals</a></td></tr><tr><td><a name=\"proveit.logic.booleans._proof_true_is_bool.b9ab3779e378eb310501d61666b20f5b39f6ce680_step8\">8</a></td><td>theorem</td><td></td><td><span style=\"font-size:20px;\"> <a class=\"ProveItLink\" href=\"../../../_theory_nbs_/proofs/true_not_false/thm_proof.ipynb\" style=\"text-decoration: none\">&nbsp;&#x22A2;&nbsp;&nbsp;</a><a class=\"ProveItLink\" href=\"../../theorems/1118b6b4ddc20b44e714bd4309989d16ef8189ce0/expr.ipynb\"><img src=\"../../theorems/1118b6b4ddc20b44e714bd4309989d16ef8189ce0/expr.png\" style=\"display:inline;vertical-align:middle;\" /></a></span></td></tr>\n",
       "<tr><td>&nbsp;</td><td colspan=4 style-\"text-align:left\"><a class=\"ProveItLink\" href=\"../../../_theory_nbs_/proofs/true_not_false/thm_proof.ipynb\">proveit.logic.booleans.true_not_false</a></td></tr></table>"
      ],
      "text/plain": [
       "<proveit._core_.proof._ShowProof at 0x7ff5f2dfda20>"
      ]
     },
     "execution_count": 1,
     "metadata": {},
     "output_type": "execute_result"
    }
   ],
   "source": [
    "import proveit\n",
    "# Automation is not needed when only showing a stored proof:\n",
    "proveit.defaults.automation = False # This will speed things up.\n",
    "proveit.defaults.inline_pngs = False # Makes files smaller.\n",
    "%show_proof"
   ]
  },
  {
   "cell_type": "code",
   "execution_count": null,
   "metadata": {},
   "outputs": [],
   "source": []
  }
 ],
 "metadata": {
  "kernelspec": {
   "display_name": "Python 3",
   "language": "python",
   "name": "python3"
  },
  "language_info": {
   "codemirror_mode": {
    "name": "ipython",
    "version": 3
   },
   "file_extension": ".py",
   "mimetype": "text/x-python",
   "name": "python",
   "nbconvert_exporter": "python",
   "pygments_lexer": "ipython3",
   "version": "3.7.3"
  }
 },
 "nbformat": 4,
 "nbformat_minor": 1
}