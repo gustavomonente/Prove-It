{
 "cells": [
  {
   "cell_type": "markdown",
   "metadata": {},
   "source": [
    "Expression of type <a class=\"ProveItLink\" href=\"../../../../../../../doc/html/api/proveit.Lambda.html\">Lambda</a>\n",
    "=======================\n",
    "# from the theory of <a class=\"ProveItLink\" href=\"../../../_theory_nbs_/theory.ipynb\">proveit.logic.booleans</a>"
   ]
  },
  {
   "cell_type": "code",
   "execution_count": 1,
   "metadata": {},
   "outputs": [],
   "source": [
    "import proveit\n",
    "# Automation is not needed when building an expression:\n",
    "proveit.defaults.automation = False # This will speed things up.\n",
    "proveit.defaults.inline_pngs = False # Makes files smaller.\n",
    "%load_expr # Load the stored expression as 'stored_expr'\n",
    "# import Expression classes needed to build the expression\n",
    "from proveit import A, Conditional, Lambda, P, PofA, Q, QofA\n",
    "from proveit.logic import And, Boolean, Forall, Implies, QimplPofFalse, QimplPofTrue"
   ]
  },
  {
   "cell_type": "code",
   "execution_count": 2,
   "metadata": {},
   "outputs": [
    {
     "data": {
      "text/html": [
       "<strong id=\"expr\">expr:</strong> <a class=\"ProveItLink\" href=\"expr.ipynb\"><img src=\"expr.png\" style=\"display:inline;vertical-align:middle;\" /></a><br>"
      ],
      "text/plain": [
       "expr: (P, Q) -> {forall_{A in BOOLEAN} (Q(A) => P(A)) if Q(TRUE) => P(TRUE) ,  Q(FALSE) => P(FALSE)."
      ]
     },
     "execution_count": 2,
     "metadata": {},
     "output_type": "execute_result"
    }
   ],
   "source": [
    "# build up the expression from sub-expressions\n",
    "expr = Lambda([P, Q], Conditional(Forall([A], Implies(QofA, PofA), domains = [Boolean]), And(QimplPofTrue, QimplPofFalse)))"
   ]
  },
  {
   "cell_type": "code",
   "execution_count": 3,
   "metadata": {},
   "outputs": [
    {
     "name": "stdout",
     "output_type": "stream",
     "text": [
      "Passed sanity check: expr matches stored_expr\n"
     ]
    }
   ],
   "source": [
    "# check that the built expression is the same as the stored expression\n",
    "assert expr == stored_expr\n",
    "assert expr._style_id == stored_expr._style_id\n",
    "print(\"Passed sanity check: expr matches stored_expr\")"
   ]
  },
  {
   "cell_type": "code",
   "execution_count": 4,
   "metadata": {},
   "outputs": [
    {
     "name": "stdout",
     "output_type": "stream",
     "text": [
      "\\left(P, Q\\right) \\mapsto \\left\\{\\forall_{A \\in \\mathbb{B}}~\\left(Q(A) \\Rightarrow P(A)\\right) \\textrm{ if } Q(\\top) \\Rightarrow P(\\top) ,  Q(\\bot) \\Rightarrow P(\\bot)\\right..\n"
     ]
    }
   ],
   "source": [
    "# Show the LaTeX representation of the expression for convenience if you need it.\n",
    "print(expr.latex())"
   ]
  },
  {
   "cell_type": "code",
   "execution_count": 5,
   "metadata": {},
   "outputs": [
    {
     "data": {
      "text/html": [
       "<table><tr><th>&nbsp;</th><th>core type</th><th>sub-expressions</th><th>expression</th></tr>\n",
       "<tr><td>0</td><td>Lambda</td><td>parameters:&nbsp;1<br>body:&nbsp;2<br></td><td><a class=\"ProveItLink\" href=\"expr.ipynb\"><img src=\"expr.png\" style=\"display:inline;vertical-align:middle;\" /></a></td></tr>\n",
       "<tr><td>1</td><td>ExprTuple</td><td>30, 29</td><td><a class=\"ProveItLink\" href=\"../../theorems/00f77196d611264a98752a66a912b8c36b7e38b70/expr.ipynb\"><img src=\"../../theorems/00f77196d611264a98752a66a912b8c36b7e38b70/expr.png\" style=\"display:inline;vertical-align:middle;\" /></a></td></tr>\n",
       "<tr><td>2</td><td>Conditional</td><td>value:&nbsp;3<br>condition:&nbsp;4<br></td><td><a class=\"ProveItLink\" href=\"../6f2e633df1220cb496cb71e884b17c57d04e17350/expr.ipynb\"><img src=\"../6f2e633df1220cb496cb71e884b17c57d04e17350/expr.png\" style=\"display:inline;vertical-align:middle;\" /></a></td></tr>\n",
       "<tr><td>3</td><td>Operation</td><td>operator:&nbsp;5<br>operand:&nbsp;6<br></td><td><a class=\"ProveItLink\" href=\"../fdb6024955411c31311203f61713f07e8679fc380/expr.ipynb\"><img src=\"../fdb6024955411c31311203f61713f07e8679fc380/expr.png\" style=\"display:inline;vertical-align:middle;\" /></a></td></tr>\n",
       "<tr><td>4</td><td>Operation</td><td>operator:&nbsp;7<br>operands:&nbsp;8<br></td><td><a class=\"ProveItLink\" href=\"../../theorems/0b2a2025288ab4240c96c14cb285de69734642710/expr.ipynb\"><img src=\"../../theorems/0b2a2025288ab4240c96c14cb285de69734642710/expr.png\" style=\"display:inline;vertical-align:middle;\" /></a></td></tr>\n",
       "<tr><td>5</td><td>Literal</td><td></td><td><a class=\"ProveItLink\" href=\"../../../quantification/universality/__pv_it/common/083d2baa0b8ecab1d230f9ec29a15aa1355809fb0/expr.ipynb\"><img src=\"../../../quantification/universality/__pv_it/common/083d2baa0b8ecab1d230f9ec29a15aa1355809fb0/expr.png\" style=\"display:inline;vertical-align:middle;\" /></a></td></tr>\n",
       "<tr><td>6</td><td>Lambda</td><td>parameter:&nbsp;31<br>body:&nbsp;9<br></td><td><a class=\"ProveItLink\" href=\"../2e20c01cb929b0e948a1ad8f01fb4d8be1ee4ac10/expr.ipynb\"><img src=\"../2e20c01cb929b0e948a1ad8f01fb4d8be1ee4ac10/expr.png\" style=\"display:inline;vertical-align:middle;\" /></a></td></tr>\n",
       "<tr><td>7</td><td>Literal</td><td></td><td><a class=\"ProveItLink\" href=\"../../../conjunction/__pv_it/common/42118ff318bd65d98b1393f64ce7c2269feef76e0/expr.ipynb\"><img src=\"../../../conjunction/__pv_it/common/42118ff318bd65d98b1393f64ce7c2269feef76e0/expr.png\" style=\"display:inline;vertical-align:middle;\" /></a></td></tr>\n",
       "<tr><td>8</td><td>ExprTuple</td><td>10, 11</td><td><a class=\"ProveItLink\" href=\"../../theorems/e9b25d86714e2c15ea31601dac78db3dc54c49160/expr.ipynb\"><img src=\"../../theorems/e9b25d86714e2c15ea31601dac78db3dc54c49160/expr.png\" style=\"display:inline;vertical-align:middle;\" /></a></td></tr>\n",
       "<tr><td>9</td><td>Conditional</td><td>value:&nbsp;12<br>condition:&nbsp;13<br></td><td><a class=\"ProveItLink\" href=\"../1b03afba5bc788dfb1c9389c8c02b4aae66ac70c0/expr.ipynb\"><img src=\"../1b03afba5bc788dfb1c9389c8c02b4aae66ac70c0/expr.png\" style=\"display:inline;vertical-align:middle;\" /></a></td></tr>\n",
       "<tr><td>10</td><td>Operation</td><td>operator:&nbsp;16<br>operands:&nbsp;14<br></td><td><a class=\"ProveItLink\" href=\"../../../../__pv_it/common/077e6efbd25ac48c4cd9d65efbb63444aae283a00/expr.ipynb\"><img src=\"../../../../__pv_it/common/077e6efbd25ac48c4cd9d65efbb63444aae283a00/expr.png\" style=\"display:inline;vertical-align:middle;\" /></a></td></tr>\n",
       "<tr><td>11</td><td>Operation</td><td>operator:&nbsp;16<br>operands:&nbsp;15<br></td><td><a class=\"ProveItLink\" href=\"../../../../__pv_it/common/c3c88a43aba128b26fcbdf660511c18b168cd1430/expr.ipynb\"><img src=\"../../../../__pv_it/common/c3c88a43aba128b26fcbdf660511c18b168cd1430/expr.png\" style=\"display:inline;vertical-align:middle;\" /></a></td></tr>\n",
       "<tr><td>12</td><td>Operation</td><td>operator:&nbsp;16<br>operands:&nbsp;17<br></td><td><a class=\"ProveItLink\" href=\"../a8390861a611eedc39072c5adcd6568fca1595b80/expr.ipynb\"><img src=\"../a8390861a611eedc39072c5adcd6568fca1595b80/expr.png\" style=\"display:inline;vertical-align:middle;\" /></a></td></tr>\n",
       "<tr><td>13</td><td>Operation</td><td>operator:&nbsp;18<br>operands:&nbsp;19<br></td><td><a class=\"ProveItLink\" href=\"../../theorems/bc796b8e7562f2d661739850b78776738bfc78d80/expr.ipynb\"><img src=\"../../theorems/bc796b8e7562f2d661739850b78776738bfc78d80/expr.png\" style=\"display:inline;vertical-align:middle;\" /></a></td></tr>\n",
       "<tr><td>14</td><td>ExprTuple</td><td>20, 21</td><td><a class=\"ProveItLink\" href=\"../../../../__pv_it/common/7fd2696fdc46b9675e858c619b9f3167ce6988af0/expr.ipynb\"><img src=\"../../../../__pv_it/common/7fd2696fdc46b9675e858c619b9f3167ce6988af0/expr.png\" style=\"display:inline;vertical-align:middle;\" /></a></td></tr>\n",
       "<tr><td>15</td><td>ExprTuple</td><td>22, 23</td><td><a class=\"ProveItLink\" href=\"../../../../__pv_it/common/5683afcfeb3b1f82e7731a3c85e48d8438fce1000/expr.ipynb\"><img src=\"../../../../__pv_it/common/5683afcfeb3b1f82e7731a3c85e48d8438fce1000/expr.png\" style=\"display:inline;vertical-align:middle;\" /></a></td></tr>\n",
       "<tr><td>16</td><td>Literal</td><td></td><td><a class=\"ProveItLink\" href=\"../../../implication/__pv_it/common/02bdb382575728da8cdbaed545b9096ea7a1bd5b0/expr.ipynb\"><img src=\"../../../implication/__pv_it/common/02bdb382575728da8cdbaed545b9096ea7a1bd5b0/expr.png\" style=\"display:inline;vertical-align:middle;\" /></a></td></tr>\n",
       "<tr><td>17</td><td>ExprTuple</td><td>24, 25</td><td><a class=\"ProveItLink\" href=\"../8c9d82c942184f3bed418f74c6bf09977b171cb30/expr.ipynb\"><img src=\"../8c9d82c942184f3bed418f74c6bf09977b171cb30/expr.png\" style=\"display:inline;vertical-align:middle;\" /></a></td></tr>\n",
       "<tr><td>18</td><td>Literal</td><td></td><td><a class=\"ProveItLink\" href=\"../../../../sets/membership/__pv_it/common/477487d8796864d23d5810f83761435f25167f690/expr.ipynb\"><img src=\"../../../../sets/membership/__pv_it/common/477487d8796864d23d5810f83761435f25167f690/expr.png\" style=\"display:inline;vertical-align:middle;\" /></a></td></tr>\n",
       "<tr><td>19</td><td>ExprTuple</td><td>31, 26</td><td><a class=\"ProveItLink\" href=\"../../theorems/fd383f8575975e415dd7ccbc9e442b0a58d01dd60/expr.ipynb\"><img src=\"../../theorems/fd383f8575975e415dd7ccbc9e442b0a58d01dd60/expr.png\" style=\"display:inline;vertical-align:middle;\" /></a></td></tr>\n",
       "<tr><td>20</td><td>Operation</td><td>operator:&nbsp;29<br>operand:&nbsp;27<br></td><td><a class=\"ProveItLink\" href=\"../../../../__pv_it/common/3632e3c726e1cb4a90aecfef8cffdd780ef67f6a0/expr.ipynb\"><img src=\"../../../../__pv_it/common/3632e3c726e1cb4a90aecfef8cffdd780ef67f6a0/expr.png\" style=\"display:inline;vertical-align:middle;\" /></a></td></tr>\n",
       "<tr><td>21</td><td>Operation</td><td>operator:&nbsp;30<br>operand:&nbsp;27<br></td><td><a class=\"ProveItLink\" href=\"../../../../__pv_it/common/4a34c27c6fa4b7a162456426f0490726e7cb5dd70/expr.ipynb\"><img src=\"../../../../__pv_it/common/4a34c27c6fa4b7a162456426f0490726e7cb5dd70/expr.png\" style=\"display:inline;vertical-align:middle;\" /></a></td></tr>\n",
       "<tr><td>22</td><td>Operation</td><td>operator:&nbsp;29<br>operand:&nbsp;28<br></td><td><a class=\"ProveItLink\" href=\"../../../../__pv_it/common/64a3900945f6ed7bb2d29db5acd1665ee3a7db510/expr.ipynb\"><img src=\"../../../../__pv_it/common/64a3900945f6ed7bb2d29db5acd1665ee3a7db510/expr.png\" style=\"display:inline;vertical-align:middle;\" /></a></td></tr>\n",
       "<tr><td>23</td><td>Operation</td><td>operator:&nbsp;30<br>operand:&nbsp;28<br></td><td><a class=\"ProveItLink\" href=\"../../../../__pv_it/common/996086537b82db4fb9cd8f02b66509a4b55daf220/expr.ipynb\"><img src=\"../../../../__pv_it/common/996086537b82db4fb9cd8f02b66509a4b55daf220/expr.png\" style=\"display:inline;vertical-align:middle;\" /></a></td></tr>\n",
       "<tr><td>24</td><td>Operation</td><td>operator:&nbsp;29<br>operand:&nbsp;31<br></td><td><a class=\"ProveItLink\" href=\"../../../../../__pv_it/common/dc483d86b30a50c7234b8607076bedacd48fbe1c0/expr.ipynb\"><img src=\"../../../../../__pv_it/common/dc483d86b30a50c7234b8607076bedacd48fbe1c0/expr.png\" style=\"display:inline;vertical-align:middle;\" /></a></td></tr>\n",
       "<tr><td>25</td><td>Operation</td><td>operator:&nbsp;30<br>operand:&nbsp;31<br></td><td><a class=\"ProveItLink\" href=\"../../../../../__pv_it/common/fe6640cb78fc32b52bdc7ce00a2aedf4c97d5da60/expr.ipynb\"><img src=\"../../../../../__pv_it/common/fe6640cb78fc32b52bdc7ce00a2aedf4c97d5da60/expr.png\" style=\"display:inline;vertical-align:middle;\" /></a></td></tr>\n",
       "<tr><td>26</td><td>Literal</td><td></td><td><a class=\"ProveItLink\" href=\"../../common/97424376de9815ad99f7180e3191b1cf4ab2a5710/expr.ipynb\"><img src=\"../../common/97424376de9815ad99f7180e3191b1cf4ab2a5710/expr.png\" style=\"display:inline;vertical-align:middle;\" /></a></td></tr>\n",
       "<tr><td>27</td><td>Literal</td><td></td><td><a class=\"ProveItLink\" href=\"../../common/95025295868b9266d37330b4427adf122f6061770/expr.ipynb\"><img src=\"../../common/95025295868b9266d37330b4427adf122f6061770/expr.png\" style=\"display:inline;vertical-align:middle;\" /></a></td></tr>\n",
       "<tr><td>28</td><td>Literal</td><td></td><td><a class=\"ProveItLink\" href=\"../../common/e0f123f2e4f322e1eba7f861749cda9fd9d99a120/expr.ipynb\"><img src=\"../../common/e0f123f2e4f322e1eba7f861749cda9fd9d99a120/expr.png\" style=\"display:inline;vertical-align:middle;\" /></a></td></tr>\n",
       "<tr><td>29</td><td>Variable</td><td></td><td><a class=\"ProveItLink\" href=\"../../../../../__pv_it/common/d72bb8b07403efe79afab564c36a28e21330e5f90/expr.ipynb\"><img src=\"../../../../../__pv_it/common/d72bb8b07403efe79afab564c36a28e21330e5f90/expr.png\" style=\"display:inline;vertical-align:middle;\" /></a></td></tr>\n",
       "<tr><td>30</td><td>Variable</td><td></td><td><a class=\"ProveItLink\" href=\"../../../../../__pv_it/common/de55da274ba0f49c86925fbf3828021c04d27faf0/expr.ipynb\"><img src=\"../../../../../__pv_it/common/de55da274ba0f49c86925fbf3828021c04d27faf0/expr.png\" style=\"display:inline;vertical-align:middle;\" /></a></td></tr>\n",
       "<tr><td>31</td><td>Variable</td><td></td><td><a class=\"ProveItLink\" href=\"../../../../../__pv_it/common/09585084922504426caf1db2ff588a23a0932a960/expr.ipynb\"><img src=\"../../../../../__pv_it/common/09585084922504426caf1db2ff588a23a0932a960/expr.png\" style=\"display:inline;vertical-align:middle;\" /></a></td></tr>\n",
       "</table>\n"
      ],
      "text/plain": [
       "0. (P, Q) -> {forall_{A in BOOLEAN} (Q(A) => P(A)) if Q(TRUE) => P(TRUE) ,  Q(FALSE) => P(FALSE).\n",
       "   core type: Lambda\n",
       "   parameters: 1\\n   body: 2\n",
       "1. (P, Q)\n",
       "   core type: ExprTuple\n",
       "   sub-expressions: 30, 29\n",
       "2. {forall_{A in BOOLEAN} (Q(A) => P(A)) if Q(TRUE) => P(TRUE) ,  Q(FALSE) => P(FALSE).\n",
       "   core type: Conditional\n",
       "   value: 3\n",
       "   condition: 4\n",
       "3. forall_{A in BOOLEAN} (Q(A) => P(A))\n",
       "   core type: Operation\n",
       "   operator: 5\n",
       "   operand: 6\n",
       "4. (Q(TRUE) => P(TRUE)) and (Q(FALSE) => P(FALSE))\n",
       "   core type: Operation\n",
       "   operator: 7\n",
       "   operands: 8\n",
       "5. forall\n",
       "   core type: Literal\n",
       "   sub-expressions: \n",
       "6. A -> {Q(A) => P(A) if A in BOOLEAN.\n",
       "   core type: Lambda\n",
       "   parameter: 31\n",
       "   body: 9\n",
       "7. and\n",
       "   core type: Literal\n",
       "   sub-expressions: \n",
       "8. (Q(TRUE) => P(TRUE), Q(FALSE) => P(FALSE))\n",
       "   core type: ExprTuple\n",
       "   sub-expressions: 10, 11\n",
       "9. {Q(A) => P(A) if A in BOOLEAN.\n",
       "   core type: Conditional\n",
       "   value: 12\n",
       "   condition: 13\n",
       "10. Q(TRUE) => P(TRUE)\n",
       "    core type: Operation\n",
       "    operator: 16\n",
       "    operands: 14\n",
       "11. Q(FALSE) => P(FALSE)\n",
       "    core type: Operation\n",
       "    operator: 16\n",
       "    operands: 15\n",
       "12. Q(A) => P(A)\n",
       "    core type: Operation\n",
       "    operator: 16\n",
       "    operands: 17\n",
       "13. A in BOOLEAN\n",
       "    core type: Operation\n",
       "    operator: 18\n",
       "    operands: 19\n",
       "14. (Q(TRUE), P(TRUE))\n",
       "    core type: ExprTuple\n",
       "    sub-expressions: 20, 21\n",
       "15. (Q(FALSE), P(FALSE))\n",
       "    core type: ExprTuple\n",
       "    sub-expressions: 22, 23\n",
       "16. =>\n",
       "    core type: Literal\n",
       "    sub-expressions: \n",
       "17. (Q(A), P(A))\n",
       "    core type: ExprTuple\n",
       "    sub-expressions: 24, 25\n",
       "18. in\n",
       "    core type: Literal\n",
       "    sub-expressions: \n",
       "19. (A, BOOLEAN)\n",
       "    core type: ExprTuple\n",
       "    sub-expressions: 31, 26\n",
       "20. Q(TRUE)\n",
       "    core type: Operation\n",
       "    operator: 29\n",
       "    operand: 27\n",
       "21. P(TRUE)\n",
       "    core type: Operation\n",
       "    operator: 30\n",
       "    operand: 27\n",
       "22. Q(FALSE)\n",
       "    core type: Operation\n",
       "    operator: 29\n",
       "    operand: 28\n",
       "23. P(FALSE)\n",
       "    core type: Operation\n",
       "    operator: 30\n",
       "    operand: 28\n",
       "24. Q(A)\n",
       "    core type: Operation\n",
       "    operator: 29\n",
       "    operand: 31\n",
       "25. P(A)\n",
       "    core type: Operation\n",
       "    operator: 30\n",
       "    operand: 31\n",
       "26. BOOLEAN\n",
       "    core type: Literal\n",
       "    sub-expressions: \n",
       "27. TRUE\n",
       "    core type: Literal\n",
       "    sub-expressions: \n",
       "28. FALSE\n",
       "    core type: Literal\n",
       "    sub-expressions: \n",
       "29. Q\n",
       "    core type: Variable\n",
       "    sub-expressions: \n",
       "30. P\n",
       "    core type: Variable\n",
       "    sub-expressions: \n",
       "31. A\n",
       "    core type: Variable\n",
       "    sub-expressions: "
      ]
     },
     "execution_count": 5,
     "metadata": {},
     "output_type": "execute_result"
    }
   ],
   "source": [
    "# display the expression information\n",
    "expr.expr_info()"
   ]
  },
  {
   "cell_type": "code",
   "execution_count": null,
   "metadata": {},
   "outputs": [],
   "source": []
  }
 ],
 "metadata": {
  "kernelspec": {
   "display_name": "Python 3",
   "language": "python",
   "name": "python3"
  }
 },
 "nbformat": 4,
 "nbformat_minor": 0
}