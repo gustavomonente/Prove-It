{
 "cells": [
  {
   "cell_type": "markdown",
   "metadata": {},
   "source": [
    "Show the Proof\n",
    "========"
   ]
  },
  {
   "cell_type": "code",
   "execution_count": 1,
   "metadata": {},
   "outputs": [
    {
     "data": {
      "text/html": [
       "<table><tr><th>&nbsp;</th><th>step type</th><th>requirements</th><th>statement</th></tr>\n",
       "<tr><td><a name=\"proveit.logic.booleans._proof_fold_conditioned_forall_over_bool.025ed95d4e79010611635ae00d1ce9f1fd7cf4b90_step0\">0</a></td><td>generalizaton</td><td><a href=\"#proveit.logic.booleans._proof_fold_conditioned_forall_over_bool.025ed95d4e79010611635ae00d1ce9f1fd7cf4b90_step1\">1</a></td><td><span style=\"font-size:20px;\"> <a class=\"ProveItLink\" href=\"proof.ipynb\" style=\"text-decoration: none\">&nbsp;&#x22A2;&nbsp;&nbsp;</a><a class=\"ProveItLink\" href=\"../82b10fa2f56549ec45d92a98ad9c7ae79085d2280/expr.ipynb\"><img src=\"../82b10fa2f56549ec45d92a98ad9c7ae79085d2280/expr.png\" style=\"display:inline;vertical-align:middle;\" /></a></span></td></tr>\n",
       "<tr><td><a name=\"proveit.logic.booleans._proof_fold_conditioned_forall_over_bool.025ed95d4e79010611635ae00d1ce9f1fd7cf4b90_step1\">1</a></td><td>instantiation</td><td><a href=\"#proveit.logic.booleans._proof_fold_conditioned_forall_over_bool.025ed95d4e79010611635ae00d1ce9f1fd7cf4b90_step2\">2</a>, <a href=\"#proveit.logic.booleans._proof_fold_conditioned_forall_over_bool.025ed95d4e79010611635ae00d1ce9f1fd7cf4b90_step3\">3</a>, <a href=\"#proveit.logic.booleans._proof_fold_conditioned_forall_over_bool.025ed95d4e79010611635ae00d1ce9f1fd7cf4b90_step4\">4</a></td><td><span style=\"font-size:20px;\"><a class=\"ProveItLink\" href=\"../../../../__pv_it/common/eb5f8a7c61fd2f3ec0dfa89356256585c350d0c30/expr.ipynb\"><img src=\"../../../../__pv_it/common/eb5f8a7c61fd2f3ec0dfa89356256585c350d0c30/expr.png\" style=\"display:inline;vertical-align:middle;\" /></a>, <a class=\"ProveItLink\" href=\"../../../../__pv_it/common/ca9181ccb6dc0a9c4729421491e01b01a7b58bcc0/expr.ipynb\"><img src=\"../../../../__pv_it/common/ca9181ccb6dc0a9c4729421491e01b01a7b58bcc0/expr.png\" style=\"display:inline;vertical-align:middle;\" /></a> <a class=\"ProveItLink\" href=\"../76d484c87bf92217acc4a4a95c79df0ecbed4d0e0/proof.ipynb\" style=\"text-decoration: none\">&nbsp;&#x22A2;&nbsp;&nbsp;</a><a class=\"ProveItLink\" href=\"../f29eed74a47a284c70b0b3e43a02a177146433aa0/expr.ipynb\"><img src=\"../f29eed74a47a284c70b0b3e43a02a177146433aa0/expr.png\" style=\"display:inline;vertical-align:middle;\" /></a></span></td></tr>\n",
       "<tr><td>&nbsp;</td><td colspan=4 style=\"text-align:left\"><span style=\"font-size:20px;\"><a class=\"ProveItLink\" href=\"../../../../../__pv_it/common/bfd6cbbf901c56262d9826d514808c68a6e9726f0/expr.ipynb\"><img src=\"../../../../../__pv_it/common/bfd6cbbf901c56262d9826d514808c68a6e9726f0/expr.png\" style=\"display:inline;vertical-align:middle;\" /></a> : <a class=\"ProveItLink\" href=\"../31ecb014c6fb1e9a7f5b180db7b385d8d845b6710/expr.ipynb\"><img src=\"../31ecb014c6fb1e9a7f5b180db7b385d8d845b6710/expr.png\" style=\"display:inline;vertical-align:middle;\" /></a></span></td></tr><tr><td><a name=\"proveit.logic.booleans._proof_fold_conditioned_forall_over_bool.025ed95d4e79010611635ae00d1ce9f1fd7cf4b90_step2\">2</a></td><td>theorem</td><td></td><td><span style=\"font-size:20px;\"> <a class=\"ProveItLink\" href=\"../../../_theory_nbs_/proofs/fold_forall_over_bool/thm_proof.ipynb\" style=\"text-decoration: none\">&nbsp;&#x22A2;&nbsp;&nbsp;</a><a class=\"ProveItLink\" href=\"../../theorems/6c162ab5702ef138f00210765d27995c5c0e9c840/expr.ipynb\"><img src=\"../../theorems/6c162ab5702ef138f00210765d27995c5c0e9c840/expr.png\" style=\"display:inline;vertical-align:middle;\" /></a></span></td></tr>\n",
       "<tr><td>&nbsp;</td><td colspan=4 style-\"text-align:left\"><a class=\"ProveItLink\" href=\"../../../_theory_nbs_/proofs/fold_forall_over_bool/thm_proof.ipynb\">proveit.logic.booleans.fold_forall_over_bool</a></td></tr><tr><td><a name=\"proveit.logic.booleans._proof_fold_conditioned_forall_over_bool.025ed95d4e79010611635ae00d1ce9f1fd7cf4b90_step3\">3</a></td><td>assumption</td><td></td><td><span style=\"font-size:20px;\"><a class=\"ProveItLink\" href=\"../../../../__pv_it/common/eb5f8a7c61fd2f3ec0dfa89356256585c350d0c30/expr.ipynb\"><img src=\"../../../../__pv_it/common/eb5f8a7c61fd2f3ec0dfa89356256585c350d0c30/expr.png\" style=\"display:inline;vertical-align:middle;\" /></a> <a class=\"ProveItLink\" href=\"../0eb719fc828b9539899c31063159546c7cddea4f0/proof.ipynb\" style=\"text-decoration: none\">&nbsp;&#x22A2;&nbsp;&nbsp;</a><a class=\"ProveItLink\" href=\"../../../../__pv_it/common/eb5f8a7c61fd2f3ec0dfa89356256585c350d0c30/expr.ipynb\"><img src=\"../../../../__pv_it/common/eb5f8a7c61fd2f3ec0dfa89356256585c350d0c30/expr.png\" style=\"display:inline;vertical-align:middle;\" /></a></span></td></tr>\n",
       "<tr><td><a name=\"proveit.logic.booleans._proof_fold_conditioned_forall_over_bool.025ed95d4e79010611635ae00d1ce9f1fd7cf4b90_step4\">4</a></td><td>assumption</td><td></td><td><span style=\"font-size:20px;\"><a class=\"ProveItLink\" href=\"../../../../__pv_it/common/ca9181ccb6dc0a9c4729421491e01b01a7b58bcc0/expr.ipynb\"><img src=\"../../../../__pv_it/common/ca9181ccb6dc0a9c4729421491e01b01a7b58bcc0/expr.png\" style=\"display:inline;vertical-align:middle;\" /></a> <a class=\"ProveItLink\" href=\"../e0c0682934cdce28eba953c35c8c0303000a67a50/proof.ipynb\" style=\"text-decoration: none\">&nbsp;&#x22A2;&nbsp;&nbsp;</a><a class=\"ProveItLink\" href=\"../../../../__pv_it/common/ca9181ccb6dc0a9c4729421491e01b01a7b58bcc0/expr.ipynb\"><img src=\"../../../../__pv_it/common/ca9181ccb6dc0a9c4729421491e01b01a7b58bcc0/expr.png\" style=\"display:inline;vertical-align:middle;\" /></a></span></td></tr>\n",
       "</table>"
      ],
      "text/plain": [
       "<proveit._core_.proof._ShowProof at 0x7f8694996668>"
      ]
     },
     "execution_count": 1,
     "metadata": {},
     "output_type": "execute_result"
    }
   ],
   "source": [
    "import proveit\n",
    "# Automation is not needed when only showing a stored proof:\n",
    "proveit.defaults.automation = False # This will speed things up.\n",
    "proveit.defaults.inline_pngs = False # Makes files smaller.\n",
    "%show_proof"
   ]
  },
  {
   "cell_type": "code",
   "execution_count": null,
   "metadata": {},
   "outputs": [],
   "source": []
  }
 ],
 "metadata": {
  "kernelspec": {
   "display_name": "Python 3",
   "language": "python",
   "name": "python3"
  },
  "language_info": {
   "codemirror_mode": {
    "name": "ipython",
    "version": 3
   },
   "file_extension": ".py",
   "mimetype": "text/x-python",
   "name": "python",
   "nbconvert_exporter": "python",
   "pygments_lexer": "ipython3",
   "version": "3.7.3"
  }
 },
 "nbformat": 4,
 "nbformat_minor": 1
}