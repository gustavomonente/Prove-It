{
 "cells": [
  {
   "cell_type": "markdown",
   "metadata": {},
   "source": [
    "Expression of type <a class=\"ProveItLink\" href=\"../../../../../../../doc/html/api/proveit.ExprTuple.html\">ExprTuple</a>\n",
    "=======================\n",
    "# from the theory of <a class=\"ProveItLink\" href=\"../../../_theory_nbs_/theory.ipynb\">proveit.logic.booleans</a>"
   ]
  },
  {
   "cell_type": "code",
   "execution_count": 1,
   "metadata": {},
   "outputs": [],
   "source": [
    "import proveit\n",
    "# Automation is not needed when building an expression:\n",
    "proveit.defaults.automation = False # This will speed things up.\n",
    "proveit.defaults.inline_pngs = False # Makes files smaller.\n",
    "%load_expr # Load the stored expression as 'stored_expr'\n",
    "# import Expression classes needed to build the expression\n",
    "from proveit import A, ExprTuple, QofA\n",
    "from proveit.logic import Boolean, InSet, QimplPofFalse, QimplPofTrue"
   ]
  },
  {
   "cell_type": "code",
   "execution_count": 2,
   "metadata": {},
   "outputs": [
    {
     "data": {
      "text/html": [
       "<strong id=\"expr\">expr:</strong> <a class=\"ProveItLink\" href=\"expr.ipynb\"><img src=\"expr.png\" style=\"display:inline;vertical-align:middle;\" /></a><br>"
      ],
      "text/plain": [
       "expr: (Q(TRUE) => P(TRUE), Q(FALSE) => P(FALSE), A in BOOLEAN, Q(A))"
      ]
     },
     "execution_count": 2,
     "metadata": {},
     "output_type": "execute_result"
    }
   ],
   "source": [
    "# build up the expression from sub-expressions\n",
    "expr = ExprTuple(QimplPofTrue, QimplPofFalse, InSet(A, Boolean), QofA)"
   ]
  },
  {
   "cell_type": "code",
   "execution_count": 3,
   "metadata": {},
   "outputs": [
    {
     "name": "stdout",
     "output_type": "stream",
     "text": [
      "Passed sanity check: expr matches stored_expr\n"
     ]
    }
   ],
   "source": [
    "# check that the built expression is the same as the stored expression\n",
    "assert expr == stored_expr\n",
    "assert expr._style_id == stored_expr._style_id\n",
    "print(\"Passed sanity check: expr matches stored_expr\")"
   ]
  },
  {
   "cell_type": "code",
   "execution_count": 4,
   "metadata": {},
   "outputs": [
    {
     "name": "stdout",
     "output_type": "stream",
     "text": [
      "\\left(Q(\\top) \\Rightarrow P(\\top), Q(\\bot) \\Rightarrow P(\\bot), A \\in \\mathbb{B}, Q(A)\\right)\n"
     ]
    }
   ],
   "source": [
    "# Show the LaTeX representation of the expression for convenience if you need it.\n",
    "print(expr.latex())"
   ]
  },
  {
   "cell_type": "code",
   "execution_count": 5,
   "metadata": {},
   "outputs": [
    {
     "data": {
      "text/html": [
       "<table><tr><th>&nbsp;</th><th>core type</th><th>sub-expressions</th><th>expression</th></tr>\n",
       "<tr><td>0</td><td>ExprTuple</td><td>1, 2, 3, 4</td><td><a class=\"ProveItLink\" href=\"expr.ipynb\"><img src=\"expr.png\" style=\"display:inline;vertical-align:middle;\" /></a></td></tr>\n",
       "<tr><td>1</td><td>Operation</td><td>operator:&nbsp;6<br>operands:&nbsp;5<br></td><td><a class=\"ProveItLink\" href=\"../../../../__pv_it/common/077e6efbd25ac48c4cd9d65efbb63444aae283a00/expr.ipynb\"><img src=\"../../../../__pv_it/common/077e6efbd25ac48c4cd9d65efbb63444aae283a00/expr.png\" style=\"display:inline;vertical-align:middle;\" /></a></td></tr>\n",
       "<tr><td>2</td><td>Operation</td><td>operator:&nbsp;6<br>operands:&nbsp;7<br></td><td><a class=\"ProveItLink\" href=\"../../../../__pv_it/common/c3c88a43aba128b26fcbdf660511c18b168cd1430/expr.ipynb\"><img src=\"../../../../__pv_it/common/c3c88a43aba128b26fcbdf660511c18b168cd1430/expr.png\" style=\"display:inline;vertical-align:middle;\" /></a></td></tr>\n",
       "<tr><td>3</td><td>Operation</td><td>operator:&nbsp;8<br>operands:&nbsp;9<br></td><td><a class=\"ProveItLink\" href=\"../../theorems/bc796b8e7562f2d661739850b78776738bfc78d80/expr.ipynb\"><img src=\"../../theorems/bc796b8e7562f2d661739850b78776738bfc78d80/expr.png\" style=\"display:inline;vertical-align:middle;\" /></a></td></tr>\n",
       "<tr><td>4</td><td>Operation</td><td>operator:&nbsp;17<br>operand:&nbsp;14<br></td><td><a class=\"ProveItLink\" href=\"../../../../../__pv_it/common/dc483d86b30a50c7234b8607076bedacd48fbe1c0/expr.ipynb\"><img src=\"../../../../../__pv_it/common/dc483d86b30a50c7234b8607076bedacd48fbe1c0/expr.png\" style=\"display:inline;vertical-align:middle;\" /></a></td></tr>\n",
       "<tr><td>5</td><td>ExprTuple</td><td>10, 11</td><td><a class=\"ProveItLink\" href=\"../../../../__pv_it/common/7fd2696fdc46b9675e858c619b9f3167ce6988af0/expr.ipynb\"><img src=\"../../../../__pv_it/common/7fd2696fdc46b9675e858c619b9f3167ce6988af0/expr.png\" style=\"display:inline;vertical-align:middle;\" /></a></td></tr>\n",
       "<tr><td>6</td><td>Literal</td><td></td><td><a class=\"ProveItLink\" href=\"../../../implication/__pv_it/common/02bdb382575728da8cdbaed545b9096ea7a1bd5b0/expr.ipynb\"><img src=\"../../../implication/__pv_it/common/02bdb382575728da8cdbaed545b9096ea7a1bd5b0/expr.png\" style=\"display:inline;vertical-align:middle;\" /></a></td></tr>\n",
       "<tr><td>7</td><td>ExprTuple</td><td>12, 13</td><td><a class=\"ProveItLink\" href=\"../../../../__pv_it/common/5683afcfeb3b1f82e7731a3c85e48d8438fce1000/expr.ipynb\"><img src=\"../../../../__pv_it/common/5683afcfeb3b1f82e7731a3c85e48d8438fce1000/expr.png\" style=\"display:inline;vertical-align:middle;\" /></a></td></tr>\n",
       "<tr><td>8</td><td>Literal</td><td></td><td><a class=\"ProveItLink\" href=\"../../../../sets/membership/__pv_it/common/477487d8796864d23d5810f83761435f25167f690/expr.ipynb\"><img src=\"../../../../sets/membership/__pv_it/common/477487d8796864d23d5810f83761435f25167f690/expr.png\" style=\"display:inline;vertical-align:middle;\" /></a></td></tr>\n",
       "<tr><td>9</td><td>ExprTuple</td><td>14, 15</td><td><a class=\"ProveItLink\" href=\"../../theorems/fd383f8575975e415dd7ccbc9e442b0a58d01dd60/expr.ipynb\"><img src=\"../../theorems/fd383f8575975e415dd7ccbc9e442b0a58d01dd60/expr.png\" style=\"display:inline;vertical-align:middle;\" /></a></td></tr>\n",
       "<tr><td>10</td><td>Operation</td><td>operator:&nbsp;17<br>operand:&nbsp;16<br></td><td><a class=\"ProveItLink\" href=\"../../../../__pv_it/common/3632e3c726e1cb4a90aecfef8cffdd780ef67f6a0/expr.ipynb\"><img src=\"../../../../__pv_it/common/3632e3c726e1cb4a90aecfef8cffdd780ef67f6a0/expr.png\" style=\"display:inline;vertical-align:middle;\" /></a></td></tr>\n",
       "<tr><td>11</td><td>Operation</td><td>operator:&nbsp;18<br>operand:&nbsp;16<br></td><td><a class=\"ProveItLink\" href=\"../../../../__pv_it/common/4a34c27c6fa4b7a162456426f0490726e7cb5dd70/expr.ipynb\"><img src=\"../../../../__pv_it/common/4a34c27c6fa4b7a162456426f0490726e7cb5dd70/expr.png\" style=\"display:inline;vertical-align:middle;\" /></a></td></tr>\n",
       "<tr><td>12</td><td>Operation</td><td>operator:&nbsp;17<br>operand:&nbsp;19<br></td><td><a class=\"ProveItLink\" href=\"../../../../__pv_it/common/64a3900945f6ed7bb2d29db5acd1665ee3a7db510/expr.ipynb\"><img src=\"../../../../__pv_it/common/64a3900945f6ed7bb2d29db5acd1665ee3a7db510/expr.png\" style=\"display:inline;vertical-align:middle;\" /></a></td></tr>\n",
       "<tr><td>13</td><td>Operation</td><td>operator:&nbsp;18<br>operand:&nbsp;19<br></td><td><a class=\"ProveItLink\" href=\"../../../../__pv_it/common/996086537b82db4fb9cd8f02b66509a4b55daf220/expr.ipynb\"><img src=\"../../../../__pv_it/common/996086537b82db4fb9cd8f02b66509a4b55daf220/expr.png\" style=\"display:inline;vertical-align:middle;\" /></a></td></tr>\n",
       "<tr><td>14</td><td>Variable</td><td></td><td><a class=\"ProveItLink\" href=\"../../../../../__pv_it/common/09585084922504426caf1db2ff588a23a0932a960/expr.ipynb\"><img src=\"../../../../../__pv_it/common/09585084922504426caf1db2ff588a23a0932a960/expr.png\" style=\"display:inline;vertical-align:middle;\" /></a></td></tr>\n",
       "<tr><td>15</td><td>Literal</td><td></td><td><a class=\"ProveItLink\" href=\"../../common/97424376de9815ad99f7180e3191b1cf4ab2a5710/expr.ipynb\"><img src=\"../../common/97424376de9815ad99f7180e3191b1cf4ab2a5710/expr.png\" style=\"display:inline;vertical-align:middle;\" /></a></td></tr>\n",
       "<tr><td>16</td><td>Literal</td><td></td><td><a class=\"ProveItLink\" href=\"../../common/95025295868b9266d37330b4427adf122f6061770/expr.ipynb\"><img src=\"../../common/95025295868b9266d37330b4427adf122f6061770/expr.png\" style=\"display:inline;vertical-align:middle;\" /></a></td></tr>\n",
       "<tr><td>17</td><td>Variable</td><td></td><td><a class=\"ProveItLink\" href=\"../../../../../__pv_it/common/d72bb8b07403efe79afab564c36a28e21330e5f90/expr.ipynb\"><img src=\"../../../../../__pv_it/common/d72bb8b07403efe79afab564c36a28e21330e5f90/expr.png\" style=\"display:inline;vertical-align:middle;\" /></a></td></tr>\n",
       "<tr><td>18</td><td>Variable</td><td></td><td><a class=\"ProveItLink\" href=\"../../../../../__pv_it/common/de55da274ba0f49c86925fbf3828021c04d27faf0/expr.ipynb\"><img src=\"../../../../../__pv_it/common/de55da274ba0f49c86925fbf3828021c04d27faf0/expr.png\" style=\"display:inline;vertical-align:middle;\" /></a></td></tr>\n",
       "<tr><td>19</td><td>Literal</td><td></td><td><a class=\"ProveItLink\" href=\"../../common/e0f123f2e4f322e1eba7f861749cda9fd9d99a120/expr.ipynb\"><img src=\"../../common/e0f123f2e4f322e1eba7f861749cda9fd9d99a120/expr.png\" style=\"display:inline;vertical-align:middle;\" /></a></td></tr>\n",
       "</table>\n"
      ],
      "text/plain": [
       "0. (Q(TRUE) => P(TRUE), Q(FALSE) => P(FALSE), A in BOOLEAN, Q(A))\n",
       "   core type: ExprTuple\n",
       "   sub-expressions: 1, 2, 3, 4\n",
       "1. Q(TRUE) => P(TRUE)\n",
       "   core type: Operation\n",
       "   operator: 6\n",
       "   operands: 5\n",
       "2. Q(FALSE) => P(FALSE)\n",
       "   core type: Operation\n",
       "   operator: 6\n",
       "   operands: 7\n",
       "3. A in BOOLEAN\n",
       "   core type: Operation\n",
       "   operator: 8\n",
       "   operands: 9\n",
       "4. Q(A)\n",
       "   core type: Operation\n",
       "   operator: 17\n",
       "   operand: 14\n",
       "5. (Q(TRUE), P(TRUE))\n",
       "   core type: ExprTuple\n",
       "   sub-expressions: 10, 11\n",
       "6. =>\n",
       "   core type: Literal\n",
       "   sub-expressions: \n",
       "7. (Q(FALSE), P(FALSE))\n",
       "   core type: ExprTuple\n",
       "   sub-expressions: 12, 13\n",
       "8. in\n",
       "   core type: Literal\n",
       "   sub-expressions: \n",
       "9. (A, BOOLEAN)\n",
       "   core type: ExprTuple\n",
       "   sub-expressions: 14, 15\n",
       "10. Q(TRUE)\n",
       "    core type: Operation\n",
       "    operator: 17\n",
       "    operand: 16\n",
       "11. P(TRUE)\n",
       "    core type: Operation\n",
       "    operator: 18\n",
       "    operand: 16\n",
       "12. Q(FALSE)\n",
       "    core type: Operation\n",
       "    operator: 17\n",
       "    operand: 19\n",
       "13. P(FALSE)\n",
       "    core type: Operation\n",
       "    operator: 18\n",
       "    operand: 19\n",
       "14. A\n",
       "    core type: Variable\n",
       "    sub-expressions: \n",
       "15. BOOLEAN\n",
       "    core type: Literal\n",
       "    sub-expressions: \n",
       "16. TRUE\n",
       "    core type: Literal\n",
       "    sub-expressions: \n",
       "17. Q\n",
       "    core type: Variable\n",
       "    sub-expressions: \n",
       "18. P\n",
       "    core type: Variable\n",
       "    sub-expressions: \n",
       "19. FALSE\n",
       "    core type: Literal\n",
       "    sub-expressions: "
      ]
     },
     "execution_count": 5,
     "metadata": {},
     "output_type": "execute_result"
    }
   ],
   "source": [
    "# display the expression information\n",
    "expr.expr_info()"
   ]
  },
  {
   "cell_type": "code",
   "execution_count": null,
   "metadata": {},
   "outputs": [],
   "source": []
  }
 ],
 "metadata": {
  "kernelspec": {
   "display_name": "Python 3",
   "language": "python",
   "name": "python3"
  }
 },
 "nbformat": 4,
 "nbformat_minor": 0
}