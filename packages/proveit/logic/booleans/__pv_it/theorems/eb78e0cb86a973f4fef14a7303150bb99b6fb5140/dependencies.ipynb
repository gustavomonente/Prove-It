{
 "cells": [
  {
   "cell_type": "markdown",
   "metadata": {},
   "source": [
    "Theorem Dependencies\n",
    "=======================\n",
    "\n",
    "## <a class=\"ProveItLink\" href=\"../../../_theory_nbs_/theory.ipynb\">proveit.logic.booleans</a>.<a class=\"ProveItLink\" href=\"../../../_theorems_.ipynb#true_is_bool\">true_is_bool</a> \n",
    "***see <a class=\"ProveItLink\" href=\"../../../_theory_nbs_/proofs/true_is_bool/thm_proof.ipynb\">proof</a>***"
   ]
  },
  {
   "cell_type": "code",
   "execution_count": 1,
   "metadata": {},
   "outputs": [],
   "source": [
    "import proveit\n",
    "# Automation is not needed when querying dependencies:\n",
    "proveit.defaults.automation = False # This will speed things up.\n",
    "proveit.defaults.inline_pngs = False # Makes files smaller.\n",
    "from proveit.logic.booleans import true_is_bool"
   ]
  },
  {
   "cell_type": "code",
   "execution_count": 2,
   "metadata": {},
   "outputs": [
    {
     "data": {
      "text/html": [
       "<h3>Unproven conjectures required (directly or indirectly) to prove true_is_bool</h3>"
      ],
      "text/plain": [
       "<IPython.core.display.HTML object>"
      ]
     },
     "metadata": {},
     "output_type": "display_data"
    },
    {
     "data": {
      "text/html": [
       "<dl>"
      ],
      "text/plain": [
       "<IPython.core.display.HTML object>"
      ]
     },
     "metadata": {},
     "output_type": "display_data"
    },
    {
     "data": {
      "text/html": [
       "<dt><a class=\"ProveItLink\" href=\"../../../../sets/enumeration/_theory_nbs_/proofs/fold/thm_proof.ipynb\">proveit.logic.sets.enumeration.fold</a></dt><dd><a class=\"ProveItLink\" href=\"../../../../sets/enumeration/__pv_it/theorems/4b71bfe5d22b9547d17c7ff100fd316b5dbe9cd80/expr.ipynb\"><img src=\"../../../../sets/enumeration/__pv_it/theorems/4b71bfe5d22b9547d17c7ff100fd316b5dbe9cd80/expr.png\" style=\"display:inline;vertical-align:middle;\" /></a></dd>"
      ],
      "text/plain": [
       "<IPython.core.display.HTML object>"
      ]
     },
     "metadata": {},
     "output_type": "display_data"
    },
    {
     "data": {
      "text/html": [
       "<dt><a class=\"ProveItLink\" href=\"../../../../../numbers/numerals/decimals/_theory_nbs_/proofs/tuple_len_2_typical_eq/thm_proof.ipynb\">proveit.numbers.numerals.decimals.tuple_len_2_typical_eq</a></dt><dd><a class=\"ProveItLink\" href=\"../../../../../numbers/numerals/decimals/__pv_it/theorems/bb1c1a418873d36ac86831cd16ffb643d1ab33940/expr.ipynb\"><img src=\"../../../../../numbers/numerals/decimals/__pv_it/theorems/bb1c1a418873d36ac86831cd16ffb643d1ab33940/expr.png\" style=\"display:inline;vertical-align:middle;\" /></a></dd>"
      ],
      "text/plain": [
       "<IPython.core.display.HTML object>"
      ]
     },
     "metadata": {},
     "output_type": "display_data"
    },
    {
     "data": {
      "text/html": [
       "</dl>"
      ],
      "text/plain": [
       "<IPython.core.display.HTML object>"
      ]
     },
     "metadata": {},
     "output_type": "display_data"
    },
    {
     "data": {
      "text/html": [
       "<h3>Axioms required (directly or indirectly) to prove true_is_bool</h3>"
      ],
      "text/plain": [
       "<IPython.core.display.HTML object>"
      ]
     },
     "metadata": {},
     "output_type": "display_data"
    },
    {
     "data": {
      "text/html": [
       "<dl>"
      ],
      "text/plain": [
       "<IPython.core.display.HTML object>"
      ]
     },
     "metadata": {},
     "output_type": "display_data"
    },
    {
     "data": {
      "text/html": [
       "<dt><a class=\"ProveItLink\" href=\"../../../_theory_nbs_/axioms.ipynb#bools_def\">proveit.logic.booleans.bools_def</a></dt><dd><a class=\"ProveItLink\" href=\"../../axioms/431e034907d6f96351eae8139726328016eb40280/expr.ipynb\"><img src=\"../../axioms/431e034907d6f96351eae8139726328016eb40280/expr.png\" style=\"display:inline;vertical-align:middle;\" /></a></dd>"
      ],
      "text/plain": [
       "<IPython.core.display.HTML object>"
      ]
     },
     "metadata": {},
     "output_type": "display_data"
    },
    {
     "data": {
      "text/html": [
       "<dt><a class=\"ProveItLink\" href=\"../../../disjunction/_theory_nbs_/axioms.ipynb#or_t_f\">proveit.logic.booleans.disjunction.or_t_f</a></dt><dd><a class=\"ProveItLink\" href=\"../../../disjunction/__pv_it/axioms/257ff432d8cac3d069379a19b2748921daaea29b0/expr.ipynb\"><img src=\"../../../disjunction/__pv_it/axioms/257ff432d8cac3d069379a19b2748921daaea29b0/expr.png\" style=\"display:inline;vertical-align:middle;\" /></a></dd>"
      ],
      "text/plain": [
       "<IPython.core.display.HTML object>"
      ]
     },
     "metadata": {},
     "output_type": "display_data"
    },
    {
     "data": {
      "text/html": [
       "<dt><a class=\"ProveItLink\" href=\"../../../_theory_nbs_/axioms.ipynb#eq_true_elim\">proveit.logic.booleans.eq_true_elim</a></dt><dd><a class=\"ProveItLink\" href=\"../../axioms/05a6b4904cc64664b923b0e52c73af64907ac3af0/expr.ipynb\"><img src=\"../../axioms/05a6b4904cc64664b923b0e52c73af64907ac3af0/expr.png\" style=\"display:inline;vertical-align:middle;\" /></a></dd>"
      ],
      "text/plain": [
       "<IPython.core.display.HTML object>"
      ]
     },
     "metadata": {},
     "output_type": "display_data"
    },
    {
     "data": {
      "text/html": [
       "<dt><a class=\"ProveItLink\" href=\"../../../_theory_nbs_/axioms.ipynb#eq_true_intro\">proveit.logic.booleans.eq_true_intro</a></dt><dd><a class=\"ProveItLink\" href=\"../../axioms/654339f5fb5a65119fa860e26cec5f77107afe860/expr.ipynb\"><img src=\"../../axioms/654339f5fb5a65119fa860e26cec5f77107afe860/expr.png\" style=\"display:inline;vertical-align:middle;\" /></a></dd>"
      ],
      "text/plain": [
       "<IPython.core.display.HTML object>"
      ]
     },
     "metadata": {},
     "output_type": "display_data"
    },
    {
     "data": {
      "text/html": [
       "<dt><a class=\"ProveItLink\" href=\"../../../_theory_nbs_/axioms.ipynb#false_not_true\">proveit.logic.booleans.false_not_true</a></dt><dd><a class=\"ProveItLink\" href=\"../../axioms/b9f4f9c8793d91d033446a779b4ceb95b6859e9f0/expr.ipynb\"><img src=\"../../axioms/b9f4f9c8793d91d033446a779b4ceb95b6859e9f0/expr.png\" style=\"display:inline;vertical-align:middle;\" /></a></dd>"
      ],
      "text/plain": [
       "<IPython.core.display.HTML object>"
      ]
     },
     "metadata": {},
     "output_type": "display_data"
    },
    {
     "data": {
      "text/html": [
       "<dt><a class=\"ProveItLink\" href=\"../../../negation/_theory_nbs_/axioms.ipynb#negation_elim\">proveit.logic.booleans.negation.negation_elim</a></dt><dd><a class=\"ProveItLink\" href=\"../../../negation/__pv_it/axioms/9495abbd5f513bded61d958ff7a4f236116799110/expr.ipynb\"><img src=\"../../../negation/__pv_it/axioms/9495abbd5f513bded61d958ff7a4f236116799110/expr.png\" style=\"display:inline;vertical-align:middle;\" /></a></dd>"
      ],
      "text/plain": [
       "<IPython.core.display.HTML object>"
      ]
     },
     "metadata": {},
     "output_type": "display_data"
    },
    {
     "data": {
      "text/html": [
       "<dt><a class=\"ProveItLink\" href=\"../../../../equality/_theory_nbs_/axioms.ipynb#equals_reflexivity\">proveit.logic.equality.equals_reflexivity</a></dt><dd><a class=\"ProveItLink\" href=\"../../../../equality/__pv_it/axioms/0c02b1327017968f316ebce717ba48d58a50c60b0/expr.ipynb\"><img src=\"../../../../equality/__pv_it/axioms/0c02b1327017968f316ebce717ba48d58a50c60b0/expr.png\" style=\"display:inline;vertical-align:middle;\" /></a></dd>"
      ],
      "text/plain": [
       "<IPython.core.display.HTML object>"
      ]
     },
     "metadata": {},
     "output_type": "display_data"
    },
    {
     "data": {
      "text/html": [
       "<dt><a class=\"ProveItLink\" href=\"../../../../equality/_theory_nbs_/axioms.ipynb#equals_symmetry\">proveit.logic.equality.equals_symmetry</a></dt><dd><a class=\"ProveItLink\" href=\"../../../../equality/__pv_it/axioms/e6f7b31ca70e222042a7b5b219b78712171810de0/expr.ipynb\"><img src=\"../../../../equality/__pv_it/axioms/e6f7b31ca70e222042a7b5b219b78712171810de0/expr.png\" style=\"display:inline;vertical-align:middle;\" /></a></dd>"
      ],
      "text/plain": [
       "<IPython.core.display.HTML object>"
      ]
     },
     "metadata": {},
     "output_type": "display_data"
    },
    {
     "data": {
      "text/html": [
       "<dt><a class=\"ProveItLink\" href=\"../../../../equality/_theory_nbs_/axioms.ipynb#equals_transitivity\">proveit.logic.equality.equals_transitivity</a></dt><dd><a class=\"ProveItLink\" href=\"../../../../equality/__pv_it/axioms/f827123c5f21af6ab6d517e6d3247a9ee44c13460/expr.ipynb\"><img src=\"../../../../equality/__pv_it/axioms/f827123c5f21af6ab6d517e6d3247a9ee44c13460/expr.png\" style=\"display:inline;vertical-align:middle;\" /></a></dd>"
      ],
      "text/plain": [
       "<IPython.core.display.HTML object>"
      ]
     },
     "metadata": {},
     "output_type": "display_data"
    },
    {
     "data": {
      "text/html": [
       "<dt><a class=\"ProveItLink\" href=\"../../../../equality/_theory_nbs_/axioms.ipynb#not_equals_def\">proveit.logic.equality.not_equals_def</a></dt><dd><a class=\"ProveItLink\" href=\"../../../../equality/__pv_it/axioms/612e6fef5ce01aa9bc54740faae71fac6c98e14f0/expr.ipynb\"><img src=\"../../../../equality/__pv_it/axioms/612e6fef5ce01aa9bc54740faae71fac6c98e14f0/expr.png\" style=\"display:inline;vertical-align:middle;\" /></a></dd>"
      ],
      "text/plain": [
       "<IPython.core.display.HTML object>"
      ]
     },
     "metadata": {},
     "output_type": "display_data"
    },
    {
     "data": {
      "text/html": [
       "<dt><a class=\"ProveItLink\" href=\"../../../../equality/_theory_nbs_/axioms.ipynb#substitution\">proveit.logic.equality.substitution</a></dt><dd><a class=\"ProveItLink\" href=\"../../../../equality/__pv_it/axioms/326b89aaf9a595f74daee801075977039365c5540/expr.ipynb\"><img src=\"../../../../equality/__pv_it/axioms/326b89aaf9a595f74daee801075977039365c5540/expr.png\" style=\"display:inline;vertical-align:middle;\" /></a></dd>"
      ],
      "text/plain": [
       "<IPython.core.display.HTML object>"
      ]
     },
     "metadata": {},
     "output_type": "display_data"
    },
    {
     "data": {
      "text/html": [
       "<dt><a class=\"ProveItLink\" href=\"../../../../../numbers/number_sets/natural_numbers/_theory_nbs_/axioms.ipynb#successor_in_nats\">proveit.numbers.number_sets.natural_numbers.successor_in_nats</a></dt><dd><a class=\"ProveItLink\" href=\"../../../../../numbers/number_sets/natural_numbers/__pv_it/axioms/f3a49da770e4d222eaa27aba165c392838336ed70/expr.ipynb\"><img src=\"../../../../../numbers/number_sets/natural_numbers/__pv_it/axioms/f3a49da770e4d222eaa27aba165c392838336ed70/expr.png\" style=\"display:inline;vertical-align:middle;\" /></a></dd>"
      ],
      "text/plain": [
       "<IPython.core.display.HTML object>"
      ]
     },
     "metadata": {},
     "output_type": "display_data"
    },
    {
     "data": {
      "text/html": [
       "<dt><a class=\"ProveItLink\" href=\"../../../../../numbers/number_sets/natural_numbers/_theory_nbs_/axioms.ipynb#zero_in_nats\">proveit.numbers.number_sets.natural_numbers.zero_in_nats</a></dt><dd><a class=\"ProveItLink\" href=\"../../../../../numbers/number_sets/natural_numbers/__pv_it/axioms/41585b68a7dd1d513f84c532999561d9671aca5e0/expr.ipynb\"><img src=\"../../../../../numbers/number_sets/natural_numbers/__pv_it/axioms/41585b68a7dd1d513f84c532999561d9671aca5e0/expr.png\" style=\"display:inline;vertical-align:middle;\" /></a></dd>"
      ],
      "text/plain": [
       "<IPython.core.display.HTML object>"
      ]
     },
     "metadata": {},
     "output_type": "display_data"
    },
    {
     "data": {
      "text/html": [
       "<dt><a class=\"ProveItLink\" href=\"../../../../../numbers/numerals/decimals/_theory_nbs_/axioms.ipynb#one_def\">proveit.numbers.numerals.decimals.one_def</a></dt><dd><a class=\"ProveItLink\" href=\"../../../../../numbers/numerals/decimals/__pv_it/axioms/58fe78e5dae28e9d8f11281c875767fa467140140/expr.ipynb\"><img src=\"../../../../../numbers/numerals/decimals/__pv_it/axioms/58fe78e5dae28e9d8f11281c875767fa467140140/expr.png\" style=\"display:inline;vertical-align:middle;\" /></a></dd>"
      ],
      "text/plain": [
       "<IPython.core.display.HTML object>"
      ]
     },
     "metadata": {},
     "output_type": "display_data"
    },
    {
     "data": {
      "text/html": [
       "<dt><a class=\"ProveItLink\" href=\"../../../../../numbers/numerals/decimals/_theory_nbs_/axioms.ipynb#two_def\">proveit.numbers.numerals.decimals.two_def</a></dt><dd><a class=\"ProveItLink\" href=\"../../../../../numbers/numerals/decimals/__pv_it/axioms/0d4f8d6aafbb1763372638950331fcf1bcff5f0b0/expr.ipynb\"><img src=\"../../../../../numbers/numerals/decimals/__pv_it/axioms/0d4f8d6aafbb1763372638950331fcf1bcff5f0b0/expr.png\" style=\"display:inline;vertical-align:middle;\" /></a></dd>"
      ],
      "text/plain": [
       "<IPython.core.display.HTML object>"
      ]
     },
     "metadata": {},
     "output_type": "display_data"
    },
    {
     "data": {
      "text/html": [
       "</dl>"
      ],
      "text/plain": [
       "<IPython.core.display.HTML object>"
      ]
     },
     "metadata": {},
     "output_type": "display_data"
    },
    {
     "data": {
      "text/html": [
       "<h3>Theorems/conjectures that depend directly on true_is_bool</h3>"
      ],
      "text/plain": [
       "<IPython.core.display.HTML object>"
      ]
     },
     "metadata": {},
     "output_type": "display_data"
    },
    {
     "data": {
      "text/html": [
       "<dl>"
      ],
      "text/plain": [
       "<IPython.core.display.HTML object>"
      ]
     },
     "metadata": {},
     "output_type": "display_data"
    },
    {
     "data": {
      "text/html": [
       "<dt><a class=\"ProveItLink\" href=\"../../../conjunction/_theory_nbs_/proofs/binary_closure/thm_proof.ipynb\">proveit.logic.booleans.conjunction.binary_closure</a></dt><dd><a class=\"ProveItLink\" href=\"../../../conjunction/__pv_it/theorems/a577ce2bfebc29eda648b62e587ecd367813afa70/expr.ipynb\"><img src=\"../../../conjunction/__pv_it/theorems/a577ce2bfebc29eda648b62e587ecd367813afa70/expr.png\" style=\"display:inline;vertical-align:middle;\" /></a></dd>"
      ],
      "text/plain": [
       "<IPython.core.display.HTML object>"
      ]
     },
     "metadata": {},
     "output_type": "display_data"
    },
    {
     "data": {
      "text/html": [
       "<dt><a class=\"ProveItLink\" href=\"../../../conjunction/_theory_nbs_/proofs/falsified_and_if_not_left/thm_proof.ipynb\">proveit.logic.booleans.conjunction.falsified_and_if_not_left</a></dt><dd><a class=\"ProveItLink\" href=\"../../../conjunction/__pv_it/theorems/2116a5ec68c3a7442924f74c38750f1a868b30ce0/expr.ipynb\"><img src=\"../../../conjunction/__pv_it/theorems/2116a5ec68c3a7442924f74c38750f1a868b30ce0/expr.png\" style=\"display:inline;vertical-align:middle;\" /></a></dd>"
      ],
      "text/plain": [
       "<IPython.core.display.HTML object>"
      ]
     },
     "metadata": {},
     "output_type": "display_data"
    },
    {
     "data": {
      "text/html": [
       "<dt><a class=\"ProveItLink\" href=\"../../../conjunction/_theory_nbs_/proofs/falsified_and_if_not_right/thm_proof.ipynb\">proveit.logic.booleans.conjunction.falsified_and_if_not_right</a></dt><dd><a class=\"ProveItLink\" href=\"../../../conjunction/__pv_it/theorems/1c6c0bbcecd395f0d541a225bb12f6100c3353a60/expr.ipynb\"><img src=\"../../../conjunction/__pv_it/theorems/1c6c0bbcecd395f0d541a225bb12f6100c3353a60/expr.png\" style=\"display:inline;vertical-align:middle;\" /></a></dd>"
      ],
      "text/plain": [
       "<IPython.core.display.HTML object>"
      ]
     },
     "metadata": {},
     "output_type": "display_data"
    },
    {
     "data": {
      "text/html": [
       "<dt><a class=\"ProveItLink\" href=\"../../../conjunction/_theory_nbs_/proofs/unary_and_reduction/thm_proof.ipynb\">proveit.logic.booleans.conjunction.unary_and_reduction</a></dt><dd><a class=\"ProveItLink\" href=\"../../../conjunction/__pv_it/theorems/035fda88412385f3899dccb71fff64bfd5c2e8db0/expr.ipynb\"><img src=\"../../../conjunction/__pv_it/theorems/035fda88412385f3899dccb71fff64bfd5c2e8db0/expr.png\" style=\"display:inline;vertical-align:middle;\" /></a></dd>"
      ],
      "text/plain": [
       "<IPython.core.display.HTML object>"
      ]
     },
     "metadata": {},
     "output_type": "display_data"
    },
    {
     "data": {
      "text/html": [
       "<dt><a class=\"ProveItLink\" href=\"../../../disjunction/_theory_nbs_/proofs/binary_closure/thm_proof.ipynb\">proveit.logic.booleans.disjunction.binary_closure</a></dt><dd><a class=\"ProveItLink\" href=\"../../../disjunction/__pv_it/theorems/3d47255124ebc6c6039d7873e4deabfd41c0b0520/expr.ipynb\"><img src=\"../../../disjunction/__pv_it/theorems/3d47255124ebc6c6039d7873e4deabfd41c0b0520/expr.png\" style=\"display:inline;vertical-align:middle;\" /></a></dd>"
      ],
      "text/plain": [
       "<IPython.core.display.HTML object>"
      ]
     },
     "metadata": {},
     "output_type": "display_data"
    },
    {
     "data": {
      "text/html": [
       "<dt><a class=\"ProveItLink\" href=\"../../../disjunction/_theory_nbs_/proofs/demorgans_law_and_to_or_bin/thm_proof.ipynb\">proveit.logic.booleans.disjunction.demorgans_law_and_to_or_bin</a></dt><dd><a class=\"ProveItLink\" href=\"../../../disjunction/__pv_it/theorems/97b9131face51724ab6bf7478991b70d2e9cc7890/expr.ipynb\"><img src=\"../../../disjunction/__pv_it/theorems/97b9131face51724ab6bf7478991b70d2e9cc7890/expr.png\" style=\"display:inline;vertical-align:middle;\" /></a></dd>"
      ],
      "text/plain": [
       "<IPython.core.display.HTML object>"
      ]
     },
     "metadata": {},
     "output_type": "display_data"
    },
    {
     "data": {
      "text/html": [
       "<dt><a class=\"ProveItLink\" href=\"../../../disjunction/_theory_nbs_/proofs/not_left_if_neither/thm_proof.ipynb\">proveit.logic.booleans.disjunction.not_left_if_neither</a></dt><dd><a class=\"ProveItLink\" href=\"../../../disjunction/__pv_it/theorems/3ddb48f5ca76c610ddb398eb714351d7f8c78a460/expr.ipynb\"><img src=\"../../../disjunction/__pv_it/theorems/3ddb48f5ca76c610ddb398eb714351d7f8c78a460/expr.png\" style=\"display:inline;vertical-align:middle;\" /></a></dd>"
      ],
      "text/plain": [
       "<IPython.core.display.HTML object>"
      ]
     },
     "metadata": {},
     "output_type": "display_data"
    },
    {
     "data": {
      "text/html": [
       "<dt><a class=\"ProveItLink\" href=\"../../../disjunction/_theory_nbs_/proofs/not_right_if_neither/thm_proof.ipynb\">proveit.logic.booleans.disjunction.not_right_if_neither</a></dt><dd><a class=\"ProveItLink\" href=\"../../../disjunction/__pv_it/theorems/e147b8b9ecd0c24a9de90f199c30f96897968aee0/expr.ipynb\"><img src=\"../../../disjunction/__pv_it/theorems/e147b8b9ecd0c24a9de90f199c30f96897968aee0/expr.png\" style=\"display:inline;vertical-align:middle;\" /></a></dd>"
      ],
      "text/plain": [
       "<IPython.core.display.HTML object>"
      ]
     },
     "metadata": {},
     "output_type": "display_data"
    },
    {
     "data": {
      "text/html": [
       "<dt><a class=\"ProveItLink\" href=\"../../../disjunction/_theory_nbs_/proofs/unary_or_reduction/thm_proof.ipynb\">proveit.logic.booleans.disjunction.unary_or_reduction</a></dt><dd><a class=\"ProveItLink\" href=\"../../../disjunction/__pv_it/theorems/3c68a1b115223e83f7611c5b5c01a0ca6031ff420/expr.ipynb\"><img src=\"../../../disjunction/__pv_it/theorems/3c68a1b115223e83f7611c5b5c01a0ca6031ff420/expr.png\" style=\"display:inline;vertical-align:middle;\" /></a></dd>"
      ],
      "text/plain": [
       "<IPython.core.display.HTML object>"
      ]
     },
     "metadata": {},
     "output_type": "display_data"
    },
    {
     "data": {
      "text/html": [
       "<dt><a class=\"ProveItLink\" href=\"../../../_theory_nbs_/proofs/false_is_bool/thm_proof.ipynb\">proveit.logic.booleans.false_is_bool</a></dt><dd><a class=\"ProveItLink\" href=\"../64b5eb31cd53fe557e0685222a3e2b2dc77234e00/expr.ipynb\"><img src=\"../64b5eb31cd53fe557e0685222a3e2b2dc77234e00/expr.png\" style=\"display:inline;vertical-align:middle;\" /></a></dd>"
      ],
      "text/plain": [
       "<IPython.core.display.HTML object>"
      ]
     },
     "metadata": {},
     "output_type": "display_data"
    },
    {
     "data": {
      "text/html": [
       "<dt><a class=\"ProveItLink\" href=\"../../../_theory_nbs_/proofs/fold_forall_over_bool/thm_proof.ipynb\">proveit.logic.booleans.fold_forall_over_bool</a></dt><dd><a class=\"ProveItLink\" href=\"../941011f151bd62186581ef117fe0865b27e97ecc0/expr.ipynb\"><img src=\"../941011f151bd62186581ef117fe0865b27e97ecc0/expr.png\" style=\"display:inline;vertical-align:middle;\" /></a></dd>"
      ],
      "text/plain": [
       "<IPython.core.display.HTML object>"
      ]
     },
     "metadata": {},
     "output_type": "display_data"
    },
    {
     "data": {
      "text/html": [
       "<dt><a class=\"ProveItLink\" href=\"../../../implication/_theory_nbs_/proofs/iff_closure/thm_proof.ipynb\">proveit.logic.booleans.implication.iff_closure</a></dt><dd><a class=\"ProveItLink\" href=\"../../../implication/__pv_it/theorems/1f787d0f75c82a75a7df908794c330384ea0bec70/expr.ipynb\"><img src=\"../../../implication/__pv_it/theorems/1f787d0f75c82a75a7df908794c330384ea0bec70/expr.png\" style=\"display:inline;vertical-align:middle;\" /></a></dd>"
      ],
      "text/plain": [
       "<IPython.core.display.HTML object>"
      ]
     },
     "metadata": {},
     "output_type": "display_data"
    },
    {
     "data": {
      "text/html": [
       "<dt><a class=\"ProveItLink\" href=\"../../../implication/_theory_nbs_/proofs/implication_closure/thm_proof.ipynb\">proveit.logic.booleans.implication.implication_closure</a></dt><dd><a class=\"ProveItLink\" href=\"../../../implication/__pv_it/theorems/20c630950e3c064091d2d6f48fd94ff1376ae3d60/expr.ipynb\"><img src=\"../../../implication/__pv_it/theorems/20c630950e3c064091d2d6f48fd94ff1376ae3d60/expr.png\" style=\"display:inline;vertical-align:middle;\" /></a></dd>"
      ],
      "text/plain": [
       "<IPython.core.display.HTML object>"
      ]
     },
     "metadata": {},
     "output_type": "display_data"
    },
    {
     "data": {
      "text/html": [
       "<dt><a class=\"ProveItLink\" href=\"../../../_theory_nbs_/proofs/in_bool_if_false/thm_proof.ipynb\">proveit.logic.booleans.in_bool_if_false</a></dt><dd><a class=\"ProveItLink\" href=\"../a5702876333f87ab7a472d7eb87230d41634f5d40/expr.ipynb\"><img src=\"../a5702876333f87ab7a472d7eb87230d41634f5d40/expr.png\" style=\"display:inline;vertical-align:middle;\" /></a></dd>"
      ],
      "text/plain": [
       "<IPython.core.display.HTML object>"
      ]
     },
     "metadata": {},
     "output_type": "display_data"
    },
    {
     "data": {
      "text/html": [
       "<dt><a class=\"ProveItLink\" href=\"../../../_theory_nbs_/proofs/in_bool_if_true/thm_proof.ipynb\">proveit.logic.booleans.in_bool_if_true</a></dt><dd><a class=\"ProveItLink\" href=\"../09922d6025ce6ee32cd633dc685e26c76edbf3a80/expr.ipynb\"><img src=\"../09922d6025ce6ee32cd633dc685e26c76edbf3a80/expr.png\" style=\"display:inline;vertical-align:middle;\" /></a></dd>"
      ],
      "text/plain": [
       "<IPython.core.display.HTML object>"
      ]
     },
     "metadata": {},
     "output_type": "display_data"
    },
    {
     "data": {
      "text/html": [
       "<dt><a class=\"ProveItLink\" href=\"../../../negation/_theory_nbs_/proofs/closure/thm_proof.ipynb\">proveit.logic.booleans.negation.closure</a></dt><dd><a class=\"ProveItLink\" href=\"../../../negation/__pv_it/theorems/3ce0df3c5132a3653fd6f1749f1a509d249414970/expr.ipynb\"><img src=\"../../../negation/__pv_it/theorems/3ce0df3c5132a3653fd6f1749f1a509d249414970/expr.png\" style=\"display:inline;vertical-align:middle;\" /></a></dd>"
      ],
      "text/plain": [
       "<IPython.core.display.HTML object>"
      ]
     },
     "metadata": {},
     "output_type": "display_data"
    },
    {
     "data": {
      "text/html": [
       "<dt><a class=\"ProveItLink\" href=\"../../../negation/_theory_nbs_/proofs/double_negation_elim/thm_proof.ipynb\">proveit.logic.booleans.negation.double_negation_elim</a></dt><dd><a class=\"ProveItLink\" href=\"../../../negation/__pv_it/theorems/5a36acb641a2621cb7630896c3c9d06b6e334b9f0/expr.ipynb\"><img src=\"../../../negation/__pv_it/theorems/5a36acb641a2621cb7630896c3c9d06b6e334b9f0/expr.png\" style=\"display:inline;vertical-align:middle;\" /></a></dd>"
      ],
      "text/plain": [
       "<IPython.core.display.HTML object>"
      ]
     },
     "metadata": {},
     "output_type": "display_data"
    },
    {
     "data": {
      "text/html": [
       "<dt><a class=\"ProveItLink\" href=\"../../../_theory_nbs_/proofs/unfold_is_bool/thm_proof.ipynb\">proveit.logic.booleans.unfold_is_bool</a></dt><dd><a class=\"ProveItLink\" href=\"../6d42edfa19a6cd3654bd8d0b7066cb0b238f90b90/expr.ipynb\"><img src=\"../6d42edfa19a6cd3654bd8d0b7066cb0b238f90b90/expr.png\" style=\"display:inline;vertical-align:middle;\" /></a></dd>"
      ],
      "text/plain": [
       "<IPython.core.display.HTML object>"
      ]
     },
     "metadata": {},
     "output_type": "display_data"
    },
    {
     "data": {
      "text/html": [
       "<dt><a class=\"ProveItLink\" href=\"../../../../sets/_theory_nbs_/proofs/set_subset_eq_of_union_with_set/thm_proof.ipynb\">proveit.logic.sets.set_subset_eq_of_union_with_set</a></dt><dd><a class=\"ProveItLink\" href=\"../../../../sets/__pv_it/theorems/3c6fc612ce4ed3923410d046ed9fbb5a400725ff0/expr.ipynb\"><img src=\"../../../../sets/__pv_it/theorems/3c6fc612ce4ed3923410d046ed9fbb5a400725ff0/expr.png\" style=\"display:inline;vertical-align:middle;\" /></a></dd>"
      ],
      "text/plain": [
       "<IPython.core.display.HTML object>"
      ]
     },
     "metadata": {},
     "output_type": "display_data"
    },
    {
     "data": {
      "text/html": [
       "<dt><a class=\"ProveItLink\" href=\"../../../../../numbers/ordering/_theory_nbs_/proofs/transitivity_greater_eq_greater/thm_proof.ipynb\">proveit.numbers.ordering.transitivity_greater_eq_greater</a></dt><dd><a class=\"ProveItLink\" href=\"../../../../../numbers/ordering/__pv_it/theorems/253e57dcc33067bdef055811e978562913e8eac60/expr.ipynb\"><img src=\"../../../../../numbers/ordering/__pv_it/theorems/253e57dcc33067bdef055811e978562913e8eac60/expr.png\" style=\"display:inline;vertical-align:middle;\" /></a></dd>"
      ],
      "text/plain": [
       "<IPython.core.display.HTML object>"
      ]
     },
     "metadata": {},
     "output_type": "display_data"
    },
    {
     "data": {
      "text/html": [
       "<dt><a class=\"ProveItLink\" href=\"../../../../../numbers/ordering/_theory_nbs_/proofs/transitivity_greater_eq_greater_eq/thm_proof.ipynb\">proveit.numbers.ordering.transitivity_greater_eq_greater_eq</a></dt><dd><a class=\"ProveItLink\" href=\"../../../../../numbers/ordering/__pv_it/theorems/f8d9b4d46d14c84f80d895c56947b99495d69aa20/expr.ipynb\"><img src=\"../../../../../numbers/ordering/__pv_it/theorems/f8d9b4d46d14c84f80d895c56947b99495d69aa20/expr.png\" style=\"display:inline;vertical-align:middle;\" /></a></dd>"
      ],
      "text/plain": [
       "<IPython.core.display.HTML object>"
      ]
     },
     "metadata": {},
     "output_type": "display_data"
    },
    {
     "data": {
      "text/html": [
       "<dt><a class=\"ProveItLink\" href=\"../../../../../numbers/ordering/_theory_nbs_/proofs/transitivity_greater_greater_eq/thm_proof.ipynb\">proveit.numbers.ordering.transitivity_greater_greater_eq</a></dt><dd><a class=\"ProveItLink\" href=\"../../../../../numbers/ordering/__pv_it/theorems/a54738effe6b3a37fd56d9476a67a596d3da2f0a0/expr.ipynb\"><img src=\"../../../../../numbers/ordering/__pv_it/theorems/a54738effe6b3a37fd56d9476a67a596d3da2f0a0/expr.png\" style=\"display:inline;vertical-align:middle;\" /></a></dd>"
      ],
      "text/plain": [
       "<IPython.core.display.HTML object>"
      ]
     },
     "metadata": {},
     "output_type": "display_data"
    },
    {
     "data": {
      "text/html": [
       "<dt><a class=\"ProveItLink\" href=\"../../../../../numbers/ordering/_theory_nbs_/proofs/transitivity_less_eq_less/thm_proof.ipynb\">proveit.numbers.ordering.transitivity_less_eq_less</a></dt><dd><a class=\"ProveItLink\" href=\"../../../../../numbers/ordering/__pv_it/theorems/7fc80fd0eaf1ee875074c1b5925ff9bb287042be0/expr.ipynb\"><img src=\"../../../../../numbers/ordering/__pv_it/theorems/7fc80fd0eaf1ee875074c1b5925ff9bb287042be0/expr.png\" style=\"display:inline;vertical-align:middle;\" /></a></dd>"
      ],
      "text/plain": [
       "<IPython.core.display.HTML object>"
      ]
     },
     "metadata": {},
     "output_type": "display_data"
    },
    {
     "data": {
      "text/html": [
       "<dt><a class=\"ProveItLink\" href=\"../../../../../numbers/ordering/_theory_nbs_/proofs/transitivity_less_eq_less_eq/thm_proof.ipynb\">proveit.numbers.ordering.transitivity_less_eq_less_eq</a></dt><dd><a class=\"ProveItLink\" href=\"../../../../../numbers/ordering/__pv_it/theorems/a67d79a6901b2d9af4cde56e3eff617c916a5df70/expr.ipynb\"><img src=\"../../../../../numbers/ordering/__pv_it/theorems/a67d79a6901b2d9af4cde56e3eff617c916a5df70/expr.png\" style=\"display:inline;vertical-align:middle;\" /></a></dd>"
      ],
      "text/plain": [
       "<IPython.core.display.HTML object>"
      ]
     },
     "metadata": {},
     "output_type": "display_data"
    },
    {
     "data": {
      "text/html": [
       "<dt><a class=\"ProveItLink\" href=\"../../../../../numbers/ordering/_theory_nbs_/proofs/transitivity_less_less_eq/thm_proof.ipynb\">proveit.numbers.ordering.transitivity_less_less_eq</a></dt><dd><a class=\"ProveItLink\" href=\"../../../../../numbers/ordering/__pv_it/theorems/7b8d58341b5906ecd4ee00de1e57de439743b9390/expr.ipynb\"><img src=\"../../../../../numbers/ordering/__pv_it/theorems/7b8d58341b5906ecd4ee00de1e57de439743b9390/expr.png\" style=\"display:inline;vertical-align:middle;\" /></a></dd>"
      ],
      "text/plain": [
       "<IPython.core.display.HTML object>"
      ]
     },
     "metadata": {},
     "output_type": "display_data"
    },
    {
     "data": {
      "text/html": [
       "</dl>"
      ],
      "text/plain": [
       "<IPython.core.display.HTML object>"
      ]
     },
     "metadata": {},
     "output_type": "display_data"
    }
   ],
   "source": [
    "%dependencies true_is_bool"
   ]
  }
 ],
 "metadata": {
  "kernelspec": {
   "display_name": "Python 3",
   "language": "python",
   "name": "python3"
  }
 },
 "nbformat": 4,
 "nbformat_minor": 0
}