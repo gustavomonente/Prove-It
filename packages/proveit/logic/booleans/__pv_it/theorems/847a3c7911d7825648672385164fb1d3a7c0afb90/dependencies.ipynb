{
 "cells": [
  {
   "cell_type": "markdown",
   "metadata": {},
   "source": [
    "Theorem Dependencies\n",
    "=======================\n",
    "\n",
    "## <a class=\"ProveItLink\" href=\"../../../_theory_nbs_/theory.ipynb\">proveit.logic.booleans</a>.<a class=\"ProveItLink\" href=\"../../../_theorems_.ipynb#true_is_bool\">true_is_bool</a> \n",
    "***see <a class=\"ProveItLink\" href=\"../../../_theory_nbs_/proofs/true_is_bool/thm_proof.ipynb\">proof</a>***"
   ]
  },
  {
   "cell_type": "code",
   "execution_count": 1,
   "metadata": {},
   "outputs": [],
   "source": [
    "import proveit\n",
    "# Automation is not needed when querying dependencies:\n",
    "proveit.defaults.automation = False # This will speed things up.\n",
    "proveit.defaults.inline_pngs = False # Makes files smaller.\n",
    "from proveit.logic.booleans import true_is_bool"
   ]
  },
  {
   "cell_type": "code",
   "execution_count": 2,
   "metadata": {},
   "outputs": [
    {
     "data": {
      "text/html": [
       "<h3>Unproven conjectures required (directly or indirectly) to prove true_is_bool</h3>"
      ],
      "text/plain": [
       "<IPython.core.display.HTML object>"
      ]
     },
     "metadata": {},
     "output_type": "display_data"
    },
    {
     "data": {
      "text/html": [
       "<dl>"
      ],
      "text/plain": [
       "<IPython.core.display.HTML object>"
      ]
     },
     "metadata": {},
     "output_type": "display_data"
    },
    {
     "data": {
      "text/html": [
       "<dt><a class=\"ProveItLink\" href=\"../../../../sets/enumeration/_theory_nbs_/proofs/fold/thm_proof.ipynb\">proveit.logic.sets.enumeration.fold</a></dt><dd><a class=\"ProveItLink\" href=\"../../../../sets/enumeration/__pv_it/theorems/22e34c6090b35d0e995aaf11b862758af5d969170/expr.ipynb\"><img src=\"../../../../sets/enumeration/__pv_it/theorems/22e34c6090b35d0e995aaf11b862758af5d969170/expr.png\" style=\"display:inline;vertical-align:middle;\" /></a></dd>"
      ],
      "text/plain": [
       "<IPython.core.display.HTML object>"
      ]
     },
     "metadata": {},
     "output_type": "display_data"
    },
    {
     "data": {
      "text/html": [
       "<dt><a class=\"ProveItLink\" href=\"../../../../../numbers/numerals/decimals/_theory_nbs_/proofs/tuple_len_2_typical_eq/thm_proof.ipynb\">proveit.numbers.numerals.decimals.tuple_len_2_typical_eq</a></dt><dd><a class=\"ProveItLink\" href=\"../../../../../numbers/numerals/decimals/__pv_it/theorems/b56994510623f1b534ae67f3cc44762f6d45f3ce0/expr.ipynb\"><img src=\"../../../../../numbers/numerals/decimals/__pv_it/theorems/b56994510623f1b534ae67f3cc44762f6d45f3ce0/expr.png\" style=\"display:inline;vertical-align:middle;\" /></a></dd>"
      ],
      "text/plain": [
       "<IPython.core.display.HTML object>"
      ]
     },
     "metadata": {},
     "output_type": "display_data"
    },
    {
     "data": {
      "text/html": [
       "</dl>"
      ],
      "text/plain": [
       "<IPython.core.display.HTML object>"
      ]
     },
     "metadata": {},
     "output_type": "display_data"
    },
    {
     "data": {
      "text/html": [
       "<h3>Axioms required (directly or indirectly) to prove true_is_bool</h3>"
      ],
      "text/plain": [
       "<IPython.core.display.HTML object>"
      ]
     },
     "metadata": {},
     "output_type": "display_data"
    },
    {
     "data": {
      "text/html": [
       "<dl>"
      ],
      "text/plain": [
       "<IPython.core.display.HTML object>"
      ]
     },
     "metadata": {},
     "output_type": "display_data"
    },
    {
     "data": {
      "text/html": [
       "<dt><a class=\"ProveItLink\" href=\"../../../_theory_nbs_/axioms.ipynb#bools_def\">proveit.logic.booleans.bools_def</a></dt><dd><a class=\"ProveItLink\" href=\"../../axioms/5f870cc97ede5884d7fdb45e83259888549dff960/expr.ipynb\"><img src=\"../../axioms/5f870cc97ede5884d7fdb45e83259888549dff960/expr.png\" style=\"display:inline;vertical-align:middle;\" /></a></dd>"
      ],
      "text/plain": [
       "<IPython.core.display.HTML object>"
      ]
     },
     "metadata": {},
     "output_type": "display_data"
    },
    {
     "data": {
      "text/html": [
       "<dt><a class=\"ProveItLink\" href=\"../../../disjunction/_theory_nbs_/axioms.ipynb#or_t_f\">proveit.logic.booleans.disjunction.or_t_f</a></dt><dd><a class=\"ProveItLink\" href=\"../../../disjunction/__pv_it/axioms/1265d8c2db5f45ad43008c6049a25fa3b4b905990/expr.ipynb\"><img src=\"../../../disjunction/__pv_it/axioms/1265d8c2db5f45ad43008c6049a25fa3b4b905990/expr.png\" style=\"display:inline;vertical-align:middle;\" /></a></dd>"
      ],
      "text/plain": [
       "<IPython.core.display.HTML object>"
      ]
     },
     "metadata": {},
     "output_type": "display_data"
    },
    {
     "data": {
      "text/html": [
       "<dt><a class=\"ProveItLink\" href=\"../../../_theory_nbs_/axioms.ipynb#eq_true_elim\">proveit.logic.booleans.eq_true_elim</a></dt><dd><a class=\"ProveItLink\" href=\"../../axioms/ed8b0a27c515b8c85261606f0835dadd8c8b34f70/expr.ipynb\"><img src=\"../../axioms/ed8b0a27c515b8c85261606f0835dadd8c8b34f70/expr.png\" style=\"display:inline;vertical-align:middle;\" /></a></dd>"
      ],
      "text/plain": [
       "<IPython.core.display.HTML object>"
      ]
     },
     "metadata": {},
     "output_type": "display_data"
    },
    {
     "data": {
      "text/html": [
       "<dt><a class=\"ProveItLink\" href=\"../../../_theory_nbs_/axioms.ipynb#eq_true_intro\">proveit.logic.booleans.eq_true_intro</a></dt><dd><a class=\"ProveItLink\" href=\"../../axioms/3a99d3cb7c410f4636cdc59f7b36cdf6997b37680/expr.ipynb\"><img src=\"../../axioms/3a99d3cb7c410f4636cdc59f7b36cdf6997b37680/expr.png\" style=\"display:inline;vertical-align:middle;\" /></a></dd>"
      ],
      "text/plain": [
       "<IPython.core.display.HTML object>"
      ]
     },
     "metadata": {},
     "output_type": "display_data"
    },
    {
     "data": {
      "text/html": [
       "<dt><a class=\"ProveItLink\" href=\"../../../_theory_nbs_/axioms.ipynb#false_not_true\">proveit.logic.booleans.false_not_true</a></dt><dd><a class=\"ProveItLink\" href=\"../../axioms/1f2330903588c2c37d611ef7de2b1d9bf8c297ca0/expr.ipynb\"><img src=\"../../axioms/1f2330903588c2c37d611ef7de2b1d9bf8c297ca0/expr.png\" style=\"display:inline;vertical-align:middle;\" /></a></dd>"
      ],
      "text/plain": [
       "<IPython.core.display.HTML object>"
      ]
     },
     "metadata": {},
     "output_type": "display_data"
    },
    {
     "data": {
      "text/html": [
       "<dt><a class=\"ProveItLink\" href=\"../../../negation/_theory_nbs_/axioms.ipynb#negation_elim\">proveit.logic.booleans.negation.negation_elim</a></dt><dd><a class=\"ProveItLink\" href=\"../../../negation/__pv_it/axioms/8b230bef1238f6f2a4e697102186a20733df080f0/expr.ipynb\"><img src=\"../../../negation/__pv_it/axioms/8b230bef1238f6f2a4e697102186a20733df080f0/expr.png\" style=\"display:inline;vertical-align:middle;\" /></a></dd>"
      ],
      "text/plain": [
       "<IPython.core.display.HTML object>"
      ]
     },
     "metadata": {},
     "output_type": "display_data"
    },
    {
     "data": {
      "text/html": [
       "<dt><a class=\"ProveItLink\" href=\"../../../../equality/_theory_nbs_/axioms.ipynb#equals_reflexivity\">proveit.logic.equality.equals_reflexivity</a></dt><dd><a class=\"ProveItLink\" href=\"../../../../equality/__pv_it/axioms/1323d646948b67e1f22d6b53e3da8bd16e1229770/expr.ipynb\"><img src=\"../../../../equality/__pv_it/axioms/1323d646948b67e1f22d6b53e3da8bd16e1229770/expr.png\" style=\"display:inline;vertical-align:middle;\" /></a></dd>"
      ],
      "text/plain": [
       "<IPython.core.display.HTML object>"
      ]
     },
     "metadata": {},
     "output_type": "display_data"
    },
    {
     "data": {
      "text/html": [
       "<dt><a class=\"ProveItLink\" href=\"../../../../equality/_theory_nbs_/axioms.ipynb#equals_symmetry\">proveit.logic.equality.equals_symmetry</a></dt><dd><a class=\"ProveItLink\" href=\"../../../../equality/__pv_it/axioms/34996bbbceac0f69a08b78cc992f42a548486c1c0/expr.ipynb\"><img src=\"../../../../equality/__pv_it/axioms/34996bbbceac0f69a08b78cc992f42a548486c1c0/expr.png\" style=\"display:inline;vertical-align:middle;\" /></a></dd>"
      ],
      "text/plain": [
       "<IPython.core.display.HTML object>"
      ]
     },
     "metadata": {},
     "output_type": "display_data"
    },
    {
     "data": {
      "text/html": [
       "<dt><a class=\"ProveItLink\" href=\"../../../../equality/_theory_nbs_/axioms.ipynb#equals_transitivity\">proveit.logic.equality.equals_transitivity</a></dt><dd><a class=\"ProveItLink\" href=\"../../../../equality/__pv_it/axioms/fe5ecb4839370106d7aa598ff8e51b95c71757a70/expr.ipynb\"><img src=\"../../../../equality/__pv_it/axioms/fe5ecb4839370106d7aa598ff8e51b95c71757a70/expr.png\" style=\"display:inline;vertical-align:middle;\" /></a></dd>"
      ],
      "text/plain": [
       "<IPython.core.display.HTML object>"
      ]
     },
     "metadata": {},
     "output_type": "display_data"
    },
    {
     "data": {
      "text/html": [
       "<dt><a class=\"ProveItLink\" href=\"../../../../equality/_theory_nbs_/axioms.ipynb#not_equals_def\">proveit.logic.equality.not_equals_def</a></dt><dd><a class=\"ProveItLink\" href=\"../../../../equality/__pv_it/axioms/15f4bc0dbe6f9cb8363f313a4b59eb995eddacaf0/expr.ipynb\"><img src=\"../../../../equality/__pv_it/axioms/15f4bc0dbe6f9cb8363f313a4b59eb995eddacaf0/expr.png\" style=\"display:inline;vertical-align:middle;\" /></a></dd>"
      ],
      "text/plain": [
       "<IPython.core.display.HTML object>"
      ]
     },
     "metadata": {},
     "output_type": "display_data"
    },
    {
     "data": {
      "text/html": [
       "<dt><a class=\"ProveItLink\" href=\"../../../../equality/_theory_nbs_/axioms.ipynb#substitution\">proveit.logic.equality.substitution</a></dt><dd><a class=\"ProveItLink\" href=\"../../../../equality/__pv_it/axioms/fb5aa0007e656f471030da411c3555b23b265d8f0/expr.ipynb\"><img src=\"../../../../equality/__pv_it/axioms/fb5aa0007e656f471030da411c3555b23b265d8f0/expr.png\" style=\"display:inline;vertical-align:middle;\" /></a></dd>"
      ],
      "text/plain": [
       "<IPython.core.display.HTML object>"
      ]
     },
     "metadata": {},
     "output_type": "display_data"
    },
    {
     "data": {
      "text/html": [
       "<dt><a class=\"ProveItLink\" href=\"../../../../../numbers/number_sets/natural_numbers/_theory_nbs_/axioms.ipynb#successor_in_nats\">proveit.numbers.number_sets.natural_numbers.successor_in_nats</a></dt><dd><a class=\"ProveItLink\" href=\"../../../../../numbers/number_sets/natural_numbers/__pv_it/axioms/2db81787f6a0f99da3aba01d94e3b9282244bf690/expr.ipynb\"><img src=\"../../../../../numbers/number_sets/natural_numbers/__pv_it/axioms/2db81787f6a0f99da3aba01d94e3b9282244bf690/expr.png\" style=\"display:inline;vertical-align:middle;\" /></a></dd>"
      ],
      "text/plain": [
       "<IPython.core.display.HTML object>"
      ]
     },
     "metadata": {},
     "output_type": "display_data"
    },
    {
     "data": {
      "text/html": [
       "<dt><a class=\"ProveItLink\" href=\"../../../../../numbers/number_sets/natural_numbers/_theory_nbs_/axioms.ipynb#zero_in_nats\">proveit.numbers.number_sets.natural_numbers.zero_in_nats</a></dt><dd><a class=\"ProveItLink\" href=\"../../../../../numbers/number_sets/natural_numbers/__pv_it/axioms/0b15b4387138326157a681ee81e504aafbe547fc0/expr.ipynb\"><img src=\"../../../../../numbers/number_sets/natural_numbers/__pv_it/axioms/0b15b4387138326157a681ee81e504aafbe547fc0/expr.png\" style=\"display:inline;vertical-align:middle;\" /></a></dd>"
      ],
      "text/plain": [
       "<IPython.core.display.HTML object>"
      ]
     },
     "metadata": {},
     "output_type": "display_data"
    },
    {
     "data": {
      "text/html": [
       "<dt><a class=\"ProveItLink\" href=\"../../../../../numbers/numerals/decimals/_theory_nbs_/axioms.ipynb#one_def\">proveit.numbers.numerals.decimals.one_def</a></dt><dd><a class=\"ProveItLink\" href=\"../../../../../numbers/numerals/decimals/__pv_it/axioms/3b8a0fdd6ab23c4e3ffec5a1eaca45ba8800b76d0/expr.ipynb\"><img src=\"../../../../../numbers/numerals/decimals/__pv_it/axioms/3b8a0fdd6ab23c4e3ffec5a1eaca45ba8800b76d0/expr.png\" style=\"display:inline;vertical-align:middle;\" /></a></dd>"
      ],
      "text/plain": [
       "<IPython.core.display.HTML object>"
      ]
     },
     "metadata": {},
     "output_type": "display_data"
    },
    {
     "data": {
      "text/html": [
       "<dt><a class=\"ProveItLink\" href=\"../../../../../numbers/numerals/decimals/_theory_nbs_/axioms.ipynb#two_def\">proveit.numbers.numerals.decimals.two_def</a></dt><dd><a class=\"ProveItLink\" href=\"../../../../../numbers/numerals/decimals/__pv_it/axioms/e98b085de1ec8e054620f1fe3934bd43118538d00/expr.ipynb\"><img src=\"../../../../../numbers/numerals/decimals/__pv_it/axioms/e98b085de1ec8e054620f1fe3934bd43118538d00/expr.png\" style=\"display:inline;vertical-align:middle;\" /></a></dd>"
      ],
      "text/plain": [
       "<IPython.core.display.HTML object>"
      ]
     },
     "metadata": {},
     "output_type": "display_data"
    },
    {
     "data": {
      "text/html": [
       "</dl>"
      ],
      "text/plain": [
       "<IPython.core.display.HTML object>"
      ]
     },
     "metadata": {},
     "output_type": "display_data"
    },
    {
     "data": {
      "text/html": [
       "<h3>Theorems/conjectures that depend directly on true_is_bool</h3>"
      ],
      "text/plain": [
       "<IPython.core.display.HTML object>"
      ]
     },
     "metadata": {},
     "output_type": "display_data"
    },
    {
     "data": {
      "text/html": [
       "<dl>"
      ],
      "text/plain": [
       "<IPython.core.display.HTML object>"
      ]
     },
     "metadata": {},
     "output_type": "display_data"
    },
    {
     "data": {
      "text/html": [
       "<dt><a class=\"ProveItLink\" href=\"../../../conjunction/_theory_nbs_/proofs/binary_closure/thm_proof.ipynb\">proveit.logic.booleans.conjunction.binary_closure</a></dt><dd><a class=\"ProveItLink\" href=\"../../../conjunction/__pv_it/theorems/7bb5bce0f6053a510a90f0f0024015dce498dbad0/expr.ipynb\"><img src=\"../../../conjunction/__pv_it/theorems/7bb5bce0f6053a510a90f0f0024015dce498dbad0/expr.png\" style=\"display:inline;vertical-align:middle;\" /></a></dd>"
      ],
      "text/plain": [
       "<IPython.core.display.HTML object>"
      ]
     },
     "metadata": {},
     "output_type": "display_data"
    },
    {
     "data": {
      "text/html": [
       "<dt><a class=\"ProveItLink\" href=\"../../../conjunction/_theory_nbs_/proofs/falsified_and_if_not_left/thm_proof.ipynb\">proveit.logic.booleans.conjunction.falsified_and_if_not_left</a></dt><dd><a class=\"ProveItLink\" href=\"../../../conjunction/__pv_it/theorems/b5be166a8824317688a0386644b6c9ff8d6def8c0/expr.ipynb\"><img src=\"../../../conjunction/__pv_it/theorems/b5be166a8824317688a0386644b6c9ff8d6def8c0/expr.png\" style=\"display:inline;vertical-align:middle;\" /></a></dd>"
      ],
      "text/plain": [
       "<IPython.core.display.HTML object>"
      ]
     },
     "metadata": {},
     "output_type": "display_data"
    },
    {
     "data": {
      "text/html": [
       "<dt><a class=\"ProveItLink\" href=\"../../../conjunction/_theory_nbs_/proofs/falsified_and_if_not_right/thm_proof.ipynb\">proveit.logic.booleans.conjunction.falsified_and_if_not_right</a></dt><dd><a class=\"ProveItLink\" href=\"../../../conjunction/__pv_it/theorems/ea48506849fb76b42a848abcbb9ee57c7b3cbb740/expr.ipynb\"><img src=\"../../../conjunction/__pv_it/theorems/ea48506849fb76b42a848abcbb9ee57c7b3cbb740/expr.png\" style=\"display:inline;vertical-align:middle;\" /></a></dd>"
      ],
      "text/plain": [
       "<IPython.core.display.HTML object>"
      ]
     },
     "metadata": {},
     "output_type": "display_data"
    },
    {
     "data": {
      "text/html": [
       "<dt><a class=\"ProveItLink\" href=\"../../../conjunction/_theory_nbs_/proofs/unary_and_reduction/thm_proof.ipynb\">proveit.logic.booleans.conjunction.unary_and_reduction</a></dt><dd><a class=\"ProveItLink\" href=\"../../../conjunction/__pv_it/theorems/abed72f39aa443501ccaf5b97246efe9e72643db0/expr.ipynb\"><img src=\"../../../conjunction/__pv_it/theorems/abed72f39aa443501ccaf5b97246efe9e72643db0/expr.png\" style=\"display:inline;vertical-align:middle;\" /></a></dd>"
      ],
      "text/plain": [
       "<IPython.core.display.HTML object>"
      ]
     },
     "metadata": {},
     "output_type": "display_data"
    },
    {
     "data": {
      "text/html": [
       "<dt><a class=\"ProveItLink\" href=\"../../../disjunction/_theory_nbs_/proofs/binary_closure/thm_proof.ipynb\">proveit.logic.booleans.disjunction.binary_closure</a></dt><dd><a class=\"ProveItLink\" href=\"../../../disjunction/__pv_it/theorems/844964a911c6f9a9e4dd74e611dfe52df23d23ba0/expr.ipynb\"><img src=\"../../../disjunction/__pv_it/theorems/844964a911c6f9a9e4dd74e611dfe52df23d23ba0/expr.png\" style=\"display:inline;vertical-align:middle;\" /></a></dd>"
      ],
      "text/plain": [
       "<IPython.core.display.HTML object>"
      ]
     },
     "metadata": {},
     "output_type": "display_data"
    },
    {
     "data": {
      "text/html": [
       "<dt><a class=\"ProveItLink\" href=\"../../../disjunction/_theory_nbs_/proofs/demorgans_law_and_to_or_bin/thm_proof.ipynb\">proveit.logic.booleans.disjunction.demorgans_law_and_to_or_bin</a></dt><dd><a class=\"ProveItLink\" href=\"../../../disjunction/__pv_it/theorems/306b5b513ef5b50b22f81193c78d8c09e60744080/expr.ipynb\"><img src=\"../../../disjunction/__pv_it/theorems/306b5b513ef5b50b22f81193c78d8c09e60744080/expr.png\" style=\"display:inline;vertical-align:middle;\" /></a></dd>"
      ],
      "text/plain": [
       "<IPython.core.display.HTML object>"
      ]
     },
     "metadata": {},
     "output_type": "display_data"
    },
    {
     "data": {
      "text/html": [
       "<dt><a class=\"ProveItLink\" href=\"../../../disjunction/_theory_nbs_/proofs/not_left_if_neither/thm_proof.ipynb\">proveit.logic.booleans.disjunction.not_left_if_neither</a></dt><dd><a class=\"ProveItLink\" href=\"../../../disjunction/__pv_it/theorems/f464c43ff692568a2fd838741e1098bdcbd159ef0/expr.ipynb\"><img src=\"../../../disjunction/__pv_it/theorems/f464c43ff692568a2fd838741e1098bdcbd159ef0/expr.png\" style=\"display:inline;vertical-align:middle;\" /></a></dd>"
      ],
      "text/plain": [
       "<IPython.core.display.HTML object>"
      ]
     },
     "metadata": {},
     "output_type": "display_data"
    },
    {
     "data": {
      "text/html": [
       "<dt><a class=\"ProveItLink\" href=\"../../../disjunction/_theory_nbs_/proofs/not_right_if_neither/thm_proof.ipynb\">proveit.logic.booleans.disjunction.not_right_if_neither</a></dt><dd><a class=\"ProveItLink\" href=\"../../../disjunction/__pv_it/theorems/b2020b5e610c1fcf140a488f744b8da7ba3163c00/expr.ipynb\"><img src=\"../../../disjunction/__pv_it/theorems/b2020b5e610c1fcf140a488f744b8da7ba3163c00/expr.png\" style=\"display:inline;vertical-align:middle;\" /></a></dd>"
      ],
      "text/plain": [
       "<IPython.core.display.HTML object>"
      ]
     },
     "metadata": {},
     "output_type": "display_data"
    },
    {
     "data": {
      "text/html": [
       "<dt><a class=\"ProveItLink\" href=\"../../../disjunction/_theory_nbs_/proofs/unary_or_reduction/thm_proof.ipynb\">proveit.logic.booleans.disjunction.unary_or_reduction</a></dt><dd><a class=\"ProveItLink\" href=\"../../../disjunction/__pv_it/theorems/131d173a01015a533ad3e5b10320b471401b34610/expr.ipynb\"><img src=\"../../../disjunction/__pv_it/theorems/131d173a01015a533ad3e5b10320b471401b34610/expr.png\" style=\"display:inline;vertical-align:middle;\" /></a></dd>"
      ],
      "text/plain": [
       "<IPython.core.display.HTML object>"
      ]
     },
     "metadata": {},
     "output_type": "display_data"
    },
    {
     "data": {
      "text/html": [
       "<dt><a class=\"ProveItLink\" href=\"../../../_theory_nbs_/proofs/false_is_bool/thm_proof.ipynb\">proveit.logic.booleans.false_is_bool</a></dt><dd><a class=\"ProveItLink\" href=\"../9245be62bf47fb80f33ddbb3ee8ca0ef807317de0/expr.ipynb\"><img src=\"../9245be62bf47fb80f33ddbb3ee8ca0ef807317de0/expr.png\" style=\"display:inline;vertical-align:middle;\" /></a></dd>"
      ],
      "text/plain": [
       "<IPython.core.display.HTML object>"
      ]
     },
     "metadata": {},
     "output_type": "display_data"
    },
    {
     "data": {
      "text/html": [
       "<dt><a class=\"ProveItLink\" href=\"../../../_theory_nbs_/proofs/fold_forall_over_bool/thm_proof.ipynb\">proveit.logic.booleans.fold_forall_over_bool</a></dt><dd><a class=\"ProveItLink\" href=\"../6c162ab5702ef138f00210765d27995c5c0e9c840/expr.ipynb\"><img src=\"../6c162ab5702ef138f00210765d27995c5c0e9c840/expr.png\" style=\"display:inline;vertical-align:middle;\" /></a></dd>"
      ],
      "text/plain": [
       "<IPython.core.display.HTML object>"
      ]
     },
     "metadata": {},
     "output_type": "display_data"
    },
    {
     "data": {
      "text/html": [
       "<dt><a class=\"ProveItLink\" href=\"../../../implication/_theory_nbs_/proofs/iff_closure/thm_proof.ipynb\">proveit.logic.booleans.implication.iff_closure</a></dt><dd><a class=\"ProveItLink\" href=\"../../../implication/__pv_it/theorems/d1777515ad21c50bd42cd3bed088eb0b54d197b40/expr.ipynb\"><img src=\"../../../implication/__pv_it/theorems/d1777515ad21c50bd42cd3bed088eb0b54d197b40/expr.png\" style=\"display:inline;vertical-align:middle;\" /></a></dd>"
      ],
      "text/plain": [
       "<IPython.core.display.HTML object>"
      ]
     },
     "metadata": {},
     "output_type": "display_data"
    },
    {
     "data": {
      "text/html": [
       "<dt><a class=\"ProveItLink\" href=\"../../../implication/_theory_nbs_/proofs/implication_closure/thm_proof.ipynb\">proveit.logic.booleans.implication.implication_closure</a></dt><dd><a class=\"ProveItLink\" href=\"../../../implication/__pv_it/theorems/136d30cb91eb58f6f1da8b512ebb55192e0dbe430/expr.ipynb\"><img src=\"../../../implication/__pv_it/theorems/136d30cb91eb58f6f1da8b512ebb55192e0dbe430/expr.png\" style=\"display:inline;vertical-align:middle;\" /></a></dd>"
      ],
      "text/plain": [
       "<IPython.core.display.HTML object>"
      ]
     },
     "metadata": {},
     "output_type": "display_data"
    },
    {
     "data": {
      "text/html": [
       "<dt><a class=\"ProveItLink\" href=\"../../../_theory_nbs_/proofs/in_bool_if_false/thm_proof.ipynb\">proveit.logic.booleans.in_bool_if_false</a></dt><dd><a class=\"ProveItLink\" href=\"../01d1ed51575b78efb4e9b56ecffae7f184dad83e0/expr.ipynb\"><img src=\"../01d1ed51575b78efb4e9b56ecffae7f184dad83e0/expr.png\" style=\"display:inline;vertical-align:middle;\" /></a></dd>"
      ],
      "text/plain": [
       "<IPython.core.display.HTML object>"
      ]
     },
     "metadata": {},
     "output_type": "display_data"
    },
    {
     "data": {
      "text/html": [
       "<dt><a class=\"ProveItLink\" href=\"../../../_theory_nbs_/proofs/in_bool_if_true/thm_proof.ipynb\">proveit.logic.booleans.in_bool_if_true</a></dt><dd><a class=\"ProveItLink\" href=\"../ff60e5dc2636388b76fa71924c1fe3274e0c07e30/expr.ipynb\"><img src=\"../ff60e5dc2636388b76fa71924c1fe3274e0c07e30/expr.png\" style=\"display:inline;vertical-align:middle;\" /></a></dd>"
      ],
      "text/plain": [
       "<IPython.core.display.HTML object>"
      ]
     },
     "metadata": {},
     "output_type": "display_data"
    },
    {
     "data": {
      "text/html": [
       "<dt><a class=\"ProveItLink\" href=\"../../../negation/_theory_nbs_/proofs/closure/thm_proof.ipynb\">proveit.logic.booleans.negation.closure</a></dt><dd><a class=\"ProveItLink\" href=\"../../../negation/__pv_it/theorems/a845d74cb4ab8512f25658851d65709796e6cea10/expr.ipynb\"><img src=\"../../../negation/__pv_it/theorems/a845d74cb4ab8512f25658851d65709796e6cea10/expr.png\" style=\"display:inline;vertical-align:middle;\" /></a></dd>"
      ],
      "text/plain": [
       "<IPython.core.display.HTML object>"
      ]
     },
     "metadata": {},
     "output_type": "display_data"
    },
    {
     "data": {
      "text/html": [
       "<dt><a class=\"ProveItLink\" href=\"../../../negation/_theory_nbs_/proofs/double_negation_elim/thm_proof.ipynb\">proveit.logic.booleans.negation.double_negation_elim</a></dt><dd><a class=\"ProveItLink\" href=\"../../../negation/__pv_it/theorems/fcdeb2e5119825945eacabd6d9704764a7b138c20/expr.ipynb\"><img src=\"../../../negation/__pv_it/theorems/fcdeb2e5119825945eacabd6d9704764a7b138c20/expr.png\" style=\"display:inline;vertical-align:middle;\" /></a></dd>"
      ],
      "text/plain": [
       "<IPython.core.display.HTML object>"
      ]
     },
     "metadata": {},
     "output_type": "display_data"
    },
    {
     "data": {
      "text/html": [
       "<dt><a class=\"ProveItLink\" href=\"../../../_theory_nbs_/proofs/unfold_is_bool/thm_proof.ipynb\">proveit.logic.booleans.unfold_is_bool</a></dt><dd><a class=\"ProveItLink\" href=\"../3826c8863519ba65ca59964bb86d25b1d466275c0/expr.ipynb\"><img src=\"../3826c8863519ba65ca59964bb86d25b1d466275c0/expr.png\" style=\"display:inline;vertical-align:middle;\" /></a></dd>"
      ],
      "text/plain": [
       "<IPython.core.display.HTML object>"
      ]
     },
     "metadata": {},
     "output_type": "display_data"
    },
    {
     "data": {
      "text/html": [
       "<dt><a class=\"ProveItLink\" href=\"../../../../sets/_theory_nbs_/proofs/set_subset_eq_of_union_with_set/thm_proof.ipynb\">proveit.logic.sets.set_subset_eq_of_union_with_set</a></dt><dd><a class=\"ProveItLink\" href=\"../../../../sets/__pv_it/theorems/ac75bb3b00de4d25b07232d5dcc2e8727911d7390/expr.ipynb\"><img src=\"../../../../sets/__pv_it/theorems/ac75bb3b00de4d25b07232d5dcc2e8727911d7390/expr.png\" style=\"display:inline;vertical-align:middle;\" /></a></dd>"
      ],
      "text/plain": [
       "<IPython.core.display.HTML object>"
      ]
     },
     "metadata": {},
     "output_type": "display_data"
    },
    {
     "data": {
      "text/html": [
       "<dt><a class=\"ProveItLink\" href=\"../../../../../numbers/ordering/_theory_nbs_/proofs/transitivity_less_eq_less/thm_proof.ipynb\">proveit.numbers.ordering.transitivity_less_eq_less</a></dt><dd><a class=\"ProveItLink\" href=\"../../../../../numbers/ordering/__pv_it/theorems/d9f84220a59ee615bee049b848f96080cd2f6afa0/expr.ipynb\"><img src=\"../../../../../numbers/ordering/__pv_it/theorems/d9f84220a59ee615bee049b848f96080cd2f6afa0/expr.png\" style=\"display:inline;vertical-align:middle;\" /></a></dd>"
      ],
      "text/plain": [
       "<IPython.core.display.HTML object>"
      ]
     },
     "metadata": {},
     "output_type": "display_data"
    },
    {
     "data": {
      "text/html": [
       "<dt><a class=\"ProveItLink\" href=\"../../../../../numbers/ordering/_theory_nbs_/proofs/transitivity_less_eq_less_eq/thm_proof.ipynb\">proveit.numbers.ordering.transitivity_less_eq_less_eq</a></dt><dd><a class=\"ProveItLink\" href=\"../../../../../numbers/ordering/__pv_it/theorems/5938b78cf098d619aa701a66d7ba30f51b1c59250/expr.ipynb\"><img src=\"../../../../../numbers/ordering/__pv_it/theorems/5938b78cf098d619aa701a66d7ba30f51b1c59250/expr.png\" style=\"display:inline;vertical-align:middle;\" /></a></dd>"
      ],
      "text/plain": [
       "<IPython.core.display.HTML object>"
      ]
     },
     "metadata": {},
     "output_type": "display_data"
    },
    {
     "data": {
      "text/html": [
       "<dt><a class=\"ProveItLink\" href=\"../../../../../numbers/ordering/_theory_nbs_/proofs/transitivity_less_less_eq/thm_proof.ipynb\">proveit.numbers.ordering.transitivity_less_less_eq</a></dt><dd><a class=\"ProveItLink\" href=\"../../../../../numbers/ordering/__pv_it/theorems/6927333a80bb6f8c61a2c0d484948fc9f06d9b1c0/expr.ipynb\"><img src=\"../../../../../numbers/ordering/__pv_it/theorems/6927333a80bb6f8c61a2c0d484948fc9f06d9b1c0/expr.png\" style=\"display:inline;vertical-align:middle;\" /></a></dd>"
      ],
      "text/plain": [
       "<IPython.core.display.HTML object>"
      ]
     },
     "metadata": {},
     "output_type": "display_data"
    },
    {
     "data": {
      "text/html": [
       "</dl>"
      ],
      "text/plain": [
       "<IPython.core.display.HTML object>"
      ]
     },
     "metadata": {},
     "output_type": "display_data"
    }
   ],
   "source": [
    "%dependencies true_is_bool"
   ]
  }
 ],
 "metadata": {
  "kernelspec": {
   "display_name": "Python 3",
   "language": "python",
   "name": "python3"
  }
 },
 "nbformat": 4,
 "nbformat_minor": 0
}