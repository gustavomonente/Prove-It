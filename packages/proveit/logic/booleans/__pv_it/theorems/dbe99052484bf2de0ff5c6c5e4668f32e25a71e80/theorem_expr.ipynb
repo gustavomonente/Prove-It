{
 "cells": [
  {
   "cell_type": "markdown",
   "metadata": {},
   "source": [
    "Theorem <a class=\"ProveItLink\" href=\"../../../_theorems_.ipynb#fold_forall_over_bool\">fold_forall_over_bool</a> of type <a class=\"ProveItLink\" href=\"../../../../../../../doc/html/api/proveit.logic.Forall.html\">Forall</a>\n",
    "=======================\n",
    "# from the theory of <a class=\"ProveItLink\" href=\"../../../_theory_nbs_/theory.ipynb\">proveit.logic.booleans</a>\n",
    "*** see <a class=\"ProveItLink\" href=\"dependencies.ipynb\">dependencies</a> ***"
   ]
  },
  {
   "cell_type": "code",
   "execution_count": 1,
   "metadata": {},
   "outputs": [],
   "source": [
    "import proveit\n",
    "# Automation is not needed when only building an expression:\n",
    "proveit.defaults.automation = False # This will speed things up.\n",
    "proveit.defaults.inline_pngs = False # Makes files smaller.\n",
    "%load_theorem_expr # Load the stored theorem expression as 'stored_expr'\n",
    "# import the special expression\n",
    "from proveit.logic.booleans import fold_forall_over_bool"
   ]
  },
  {
   "cell_type": "code",
   "execution_count": 2,
   "metadata": {},
   "outputs": [
    {
     "name": "stdout",
     "output_type": "stream",
     "text": [
      "Passed sanity check: fold_forall_over_bool matches stored_expr\n"
     ]
    }
   ],
   "source": [
    "# check that the built expression is the same as the stored expression\n",
    "assert fold_forall_over_bool.expr == stored_expr\n",
    "assert fold_forall_over_bool.expr._style_id == stored_expr._style_id\n",
    "print(\"Passed sanity check: fold_forall_over_bool matches stored_expr\")"
   ]
  },
  {
   "cell_type": "code",
   "execution_count": 3,
   "metadata": {},
   "outputs": [
    {
     "name": "stdout",
     "output_type": "stream",
     "text": [
      "\\vdash \\forall_{P~|~P(\\top), P(\\bot)}~\\left[\\forall_{A \\in \\mathbb{B}}~P(A)\\right]\n"
     ]
    }
   ],
   "source": [
    "# Show the LaTeX representation of the expression for convenience if you need it.\n",
    "print(fold_forall_over_bool.latex())"
   ]
  },
  {
   "cell_type": "code",
   "execution_count": 4,
   "metadata": {},
   "outputs": [
    {
     "data": {
      "text/html": [
       "<table>\n",
       "<tr><th>name</th><th>description</th><th>default</th><th>current value</th><th>related methods</th></tr><tr><td>with_wrapping</td><td>If 'True', wrap the Expression after the parameters</td><td>None</td><td>None/False</td><td>('with_wrapping',)</td></tr>\n",
       "<tr><td>wrap_params</td><td>If 'True', wraps every two parameters AND wraps the Expression after the parameters</td><td>None</td><td>None/False</td><td>('with_params',)</td></tr>\n",
       "<tr><td>justification</td><td>justify to the 'left', 'center', or 'right' in the array cells</td><td>center</td><td>center</td><td>('with_justification',)</td></tr>\n",
       "</table>\n"
      ],
      "text/plain": [
       "style name: with_wrapping\n",
       "description: If 'True', wrap the Expression after the parameters\n",
       "default: None\n",
       "current value: None/False\n",
       "related methods: ('with_wrapping',)\n",
       "style name: wrap_params\n",
       "description: If 'True', wraps every two parameters AND wraps the Expression after the parameters\n",
       "default: None\n",
       "current value: None/False\n",
       "related methods: ('with_params',)\n",
       "style name: justification\n",
       "description: justify to the 'left', 'center', or 'right' in the array cells\n",
       "default: center\n",
       "current value: center\n",
       "related methods: ('with_justification',)"
      ]
     },
     "execution_count": 4,
     "metadata": {},
     "output_type": "execute_result"
    }
   ],
   "source": [
    "fold_forall_over_bool.style_options()"
   ]
  },
  {
   "cell_type": "code",
   "execution_count": 5,
   "metadata": {},
   "outputs": [
    {
     "data": {
      "text/html": [
       "<table><tr><th>&nbsp;</th><th>core type</th><th>sub-expressions</th><th>expression</th></tr>\n",
       "<tr><td>0</td><td>Operation</td><td>operator:&nbsp;6<br>operand:&nbsp;2<br></td><td><a class=\"ProveItLink\" href=\"../6c162ab5702ef138f00210765d27995c5c0e9c840/expr.ipynb\"><img src=\"../6c162ab5702ef138f00210765d27995c5c0e9c840/expr.png\" style=\"display:inline;vertical-align:middle;\" /></a></td></tr>\n",
       "<tr><td>1</td><td>ExprTuple</td><td>2</td><td><a class=\"ProveItLink\" href=\"../7a0bc27047cb645154a801a424b9ce63302556c00/expr.ipynb\"><img src=\"../7a0bc27047cb645154a801a424b9ce63302556c00/expr.png\" style=\"display:inline;vertical-align:middle;\" /></a></td></tr>\n",
       "<tr><td>2</td><td>Lambda</td><td>parameter:&nbsp;20<br>body:&nbsp;3<br></td><td><a class=\"ProveItLink\" href=\"../76c2c79beedd0ab3ff9a233f46636a5bb1ee08360/expr.ipynb\"><img src=\"../76c2c79beedd0ab3ff9a233f46636a5bb1ee08360/expr.png\" style=\"display:inline;vertical-align:middle;\" /></a></td></tr>\n",
       "<tr><td>3</td><td>Conditional</td><td>value:&nbsp;4<br>condition:&nbsp;5<br></td><td><a class=\"ProveItLink\" href=\"../5709d97cc843d24f430a0e5a0e13d5fbdd401e410/expr.ipynb\"><img src=\"../5709d97cc843d24f430a0e5a0e13d5fbdd401e410/expr.png\" style=\"display:inline;vertical-align:middle;\" /></a></td></tr>\n",
       "<tr><td>4</td><td>Operation</td><td>operator:&nbsp;6<br>operand:&nbsp;10<br></td><td><a class=\"ProveItLink\" href=\"../c72580134d640c88c013f06856fc1d5020362b3d0/expr.ipynb\"><img src=\"../c72580134d640c88c013f06856fc1d5020362b3d0/expr.png\" style=\"display:inline;vertical-align:middle;\" /></a></td></tr>\n",
       "<tr><td>5</td><td>Operation</td><td>operator:&nbsp;8<br>operands:&nbsp;9<br></td><td><a class=\"ProveItLink\" href=\"../9c620fba9b56414625c58ee7b2676aeef010f2a90/expr.ipynb\"><img src=\"../9c620fba9b56414625c58ee7b2676aeef010f2a90/expr.png\" style=\"display:inline;vertical-align:middle;\" /></a></td></tr>\n",
       "<tr><td>6</td><td>Literal</td><td></td><td><a class=\"ProveItLink\" href=\"../../../quantification/universality/__pv_it/common/684d35ba98fcbf8ca5011f865e530a51e77730630/expr.ipynb\"><img src=\"../../../quantification/universality/__pv_it/common/684d35ba98fcbf8ca5011f865e530a51e77730630/expr.png\" style=\"display:inline;vertical-align:middle;\" /></a></td></tr>\n",
       "<tr><td>7</td><td>ExprTuple</td><td>10</td><td><a class=\"ProveItLink\" href=\"../b6f916883202ef1a4e0d9655ba35b8e6ff5107600/expr.ipynb\"><img src=\"../b6f916883202ef1a4e0d9655ba35b8e6ff5107600/expr.png\" style=\"display:inline;vertical-align:middle;\" /></a></td></tr>\n",
       "<tr><td>8</td><td>Literal</td><td></td><td><a class=\"ProveItLink\" href=\"../../../conjunction/__pv_it/common/26b94b53e70b1d77b70f0d9d4236347db37731060/expr.ipynb\"><img src=\"../../../conjunction/__pv_it/common/26b94b53e70b1d77b70f0d9d4236347db37731060/expr.png\" style=\"display:inline;vertical-align:middle;\" /></a></td></tr>\n",
       "<tr><td>9</td><td>ExprTuple</td><td>11, 12</td><td><a class=\"ProveItLink\" href=\"../8c9b8bae6d47057e671285dbd050f692ed8966680/expr.ipynb\"><img src=\"../8c9b8bae6d47057e671285dbd050f692ed8966680/expr.png\" style=\"display:inline;vertical-align:middle;\" /></a></td></tr>\n",
       "<tr><td>10</td><td>Lambda</td><td>parameter:&nbsp;24<br>body:&nbsp;13<br></td><td><a class=\"ProveItLink\" href=\"../e3fcd2de20deefc8be9b4bdfe2c9457a30c6aec00/expr.ipynb\"><img src=\"../e3fcd2de20deefc8be9b4bdfe2c9457a30c6aec00/expr.png\" style=\"display:inline;vertical-align:middle;\" /></a></td></tr>\n",
       "<tr><td>11</td><td>Operation</td><td>operator:&nbsp;20<br>operand:&nbsp;18<br></td><td><a class=\"ProveItLink\" href=\"../../../../__pv_it/common/0ea795e0ea0fefeea5a32b4f8e009298917320360/expr.ipynb\"><img src=\"../../../../__pv_it/common/0ea795e0ea0fefeea5a32b4f8e009298917320360/expr.png\" style=\"display:inline;vertical-align:middle;\" /></a></td></tr>\n",
       "<tr><td>12</td><td>Operation</td><td>operator:&nbsp;20<br>operand:&nbsp;19<br></td><td><a class=\"ProveItLink\" href=\"../../../../__pv_it/common/f2cb5fde10adfc3cfb797f19dcde6688ec6174c90/expr.ipynb\"><img src=\"../../../../__pv_it/common/f2cb5fde10adfc3cfb797f19dcde6688ec6174c90/expr.png\" style=\"display:inline;vertical-align:middle;\" /></a></td></tr>\n",
       "<tr><td>13</td><td>Conditional</td><td>value:&nbsp;16<br>condition:&nbsp;17<br></td><td><a class=\"ProveItLink\" href=\"../a8abd8085c3dbfe9fcca64605c43c8e0de5ff1760/expr.ipynb\"><img src=\"../a8abd8085c3dbfe9fcca64605c43c8e0de5ff1760/expr.png\" style=\"display:inline;vertical-align:middle;\" /></a></td></tr>\n",
       "<tr><td>14</td><td>ExprTuple</td><td>18</td><td><a class=\"ProveItLink\" href=\"../../../../__pv_it/common/79f23c4f369471938b1ee825f812b2d542e7433a0/expr.ipynb\"><img src=\"../../../../__pv_it/common/79f23c4f369471938b1ee825f812b2d542e7433a0/expr.png\" style=\"display:inline;vertical-align:middle;\" /></a></td></tr>\n",
       "<tr><td>15</td><td>ExprTuple</td><td>19</td><td><a class=\"ProveItLink\" href=\"../../../../__pv_it/common/d260be7503e77a7eb4ca45c9fc6d012d82d1143a0/expr.ipynb\"><img src=\"../../../../__pv_it/common/d260be7503e77a7eb4ca45c9fc6d012d82d1143a0/expr.png\" style=\"display:inline;vertical-align:middle;\" /></a></td></tr>\n",
       "<tr><td>16</td><td>Operation</td><td>operator:&nbsp;20<br>operand:&nbsp;24<br></td><td><a class=\"ProveItLink\" href=\"../../../../../__pv_it/common/bfd6cbbf901c56262d9826d514808c68a6e9726f0/expr.ipynb\"><img src=\"../../../../../__pv_it/common/bfd6cbbf901c56262d9826d514808c68a6e9726f0/expr.png\" style=\"display:inline;vertical-align:middle;\" /></a></td></tr>\n",
       "<tr><td>17</td><td>Operation</td><td>operator:&nbsp;22<br>operands:&nbsp;23<br></td><td><a class=\"ProveItLink\" href=\"../ddc941563dffabdeb005429c2f934b2b6ccbeab10/expr.ipynb\"><img src=\"../ddc941563dffabdeb005429c2f934b2b6ccbeab10/expr.png\" style=\"display:inline;vertical-align:middle;\" /></a></td></tr>\n",
       "<tr><td>18</td><td>Literal</td><td></td><td><a class=\"ProveItLink\" href=\"../../common/373f61d65f7ccc0f6ebbafaccf02f2693d0e3bad0/expr.ipynb\"><img src=\"../../common/373f61d65f7ccc0f6ebbafaccf02f2693d0e3bad0/expr.png\" style=\"display:inline;vertical-align:middle;\" /></a></td></tr>\n",
       "<tr><td>19</td><td>Literal</td><td></td><td><a class=\"ProveItLink\" href=\"../../common/bc5c31e39ae582b67c89fb24025b57f5b995e8890/expr.ipynb\"><img src=\"../../common/bc5c31e39ae582b67c89fb24025b57f5b995e8890/expr.png\" style=\"display:inline;vertical-align:middle;\" /></a></td></tr>\n",
       "<tr><td>20</td><td>Variable</td><td></td><td><a class=\"ProveItLink\" href=\"../../../../../__pv_it/common/d5fc3066299847984076662ce51556220bdb6cfb0/expr.ipynb\"><img src=\"../../../../../__pv_it/common/d5fc3066299847984076662ce51556220bdb6cfb0/expr.png\" style=\"display:inline;vertical-align:middle;\" /></a></td></tr>\n",
       "<tr><td>21</td><td>ExprTuple</td><td>24</td><td><a class=\"ProveItLink\" href=\"../../../../../__pv_it/common/bb03acfece02b6b7473f186beb081fc940c764230/expr.ipynb\"><img src=\"../../../../../__pv_it/common/bb03acfece02b6b7473f186beb081fc940c764230/expr.png\" style=\"display:inline;vertical-align:middle;\" /></a></td></tr>\n",
       "<tr><td>22</td><td>Literal</td><td></td><td><a class=\"ProveItLink\" href=\"../../../../sets/membership/__pv_it/common/7171deca84f71f47a6ec7696972d1632274a12880/expr.ipynb\"><img src=\"../../../../sets/membership/__pv_it/common/7171deca84f71f47a6ec7696972d1632274a12880/expr.png\" style=\"display:inline;vertical-align:middle;\" /></a></td></tr>\n",
       "<tr><td>23</td><td>ExprTuple</td><td>24, 25</td><td><a class=\"ProveItLink\" href=\"../d19240028c6a8d49b0c81a3bfb9e3897520bcdc60/expr.ipynb\"><img src=\"../d19240028c6a8d49b0c81a3bfb9e3897520bcdc60/expr.png\" style=\"display:inline;vertical-align:middle;\" /></a></td></tr>\n",
       "<tr><td>24</td><td>Variable</td><td></td><td><a class=\"ProveItLink\" href=\"../../../../../__pv_it/common/e4aad701f7f5516d8e7f0d805d518bf02c13322a0/expr.ipynb\"><img src=\"../../../../../__pv_it/common/e4aad701f7f5516d8e7f0d805d518bf02c13322a0/expr.png\" style=\"display:inline;vertical-align:middle;\" /></a></td></tr>\n",
       "<tr><td>25</td><td>Literal</td><td></td><td><a class=\"ProveItLink\" href=\"../../common/8fc291135425020cce4ba1ad615843f54f1fc6600/expr.ipynb\"><img src=\"../../common/8fc291135425020cce4ba1ad615843f54f1fc6600/expr.png\" style=\"display:inline;vertical-align:middle;\" /></a></td></tr>\n",
       "</table>\n"
      ],
      "text/plain": [
       "0. forall_{P | P(TRUE), P(FALSE)} [forall_{A in BOOLEAN} P(A)]\n",
       "   core type: Operation\n",
       "   operator: 6\n",
       "   operand: 2\n",
       "1. (P -> {forall_{A in BOOLEAN} P(A) if P(TRUE) ,  P(FALSE).)\n",
       "   core type: ExprTuple\n",
       "   sub-expressions: 2\n",
       "2. P -> {forall_{A in BOOLEAN} P(A) if P(TRUE) ,  P(FALSE).\n",
       "   core type: Lambda\n",
       "   parameter: 20\n",
       "   body: 3\n",
       "3. {forall_{A in BOOLEAN} P(A) if P(TRUE) ,  P(FALSE).\n",
       "   core type: Conditional\n",
       "   value: 4\n",
       "   condition: 5\n",
       "4. forall_{A in BOOLEAN} P(A)\n",
       "   core type: Operation\n",
       "   operator: 6\n",
       "   operand: 10\n",
       "5. P(TRUE) and P(FALSE)\n",
       "   core type: Operation\n",
       "   operator: 8\n",
       "   operands: 9\n",
       "6. forall\n",
       "   core type: Literal\n",
       "   sub-expressions: \n",
       "7. (A -> {P(A) if A in BOOLEAN.)\n",
       "   core type: ExprTuple\n",
       "   sub-expressions: 10\n",
       "8. and\n",
       "   core type: Literal\n",
       "   sub-expressions: \n",
       "9. (P(TRUE), P(FALSE))\n",
       "   core type: ExprTuple\n",
       "   sub-expressions: 11, 12\n",
       "10. A -> {P(A) if A in BOOLEAN.\n",
       "    core type: Lambda\n",
       "    parameter: 24\n",
       "    body: 13\n",
       "11. P(TRUE)\n",
       "    core type: Operation\n",
       "    operator: 20\n",
       "    operand: 18\n",
       "12. P(FALSE)\n",
       "    core type: Operation\n",
       "    operator: 20\n",
       "    operand: 19\n",
       "13. {P(A) if A in BOOLEAN.\n",
       "    core type: Conditional\n",
       "    value: 16\n",
       "    condition: 17\n",
       "14. (TRUE)\n",
       "    core type: ExprTuple\n",
       "    sub-expressions: 18\n",
       "15. (FALSE)\n",
       "    core type: ExprTuple\n",
       "    sub-expressions: 19\n",
       "16. P(A)\n",
       "    core type: Operation\n",
       "    operator: 20\n",
       "    operand: 24\n",
       "17. A in BOOLEAN\n",
       "    core type: Operation\n",
       "    operator: 22\n",
       "    operands: 23\n",
       "18. TRUE\n",
       "    core type: Literal\n",
       "    sub-expressions: \n",
       "19. FALSE\n",
       "    core type: Literal\n",
       "    sub-expressions: \n",
       "20. P\n",
       "    core type: Variable\n",
       "    sub-expressions: \n",
       "21. (A)\n",
       "    core type: ExprTuple\n",
       "    sub-expressions: 24\n",
       "22. in\n",
       "    core type: Literal\n",
       "    sub-expressions: \n",
       "23. (A, BOOLEAN)\n",
       "    core type: ExprTuple\n",
       "    sub-expressions: 24, 25\n",
       "24. A\n",
       "    core type: Variable\n",
       "    sub-expressions: \n",
       "25. BOOLEAN\n",
       "    core type: Literal\n",
       "    sub-expressions: "
      ]
     },
     "execution_count": 5,
     "metadata": {},
     "output_type": "execute_result"
    }
   ],
   "source": [
    "# display the expression information\n",
    "fold_forall_over_bool.expr_info()"
   ]
  },
  {
   "cell_type": "code",
   "execution_count": null,
   "metadata": {},
   "outputs": [],
   "source": []
  }
 ],
 "metadata": {
  "kernelspec": {
   "display_name": "Python 3",
   "language": "python",
   "name": "python3"
  }
 },
 "nbformat": 4,
 "nbformat_minor": 0
}