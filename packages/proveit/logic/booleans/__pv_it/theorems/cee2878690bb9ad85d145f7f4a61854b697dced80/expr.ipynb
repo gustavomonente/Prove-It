{
 "cells": [
  {
   "cell_type": "markdown",
   "metadata": {},
   "source": [
    "Expression of type <a class=\"ProveItLink\" href=\"../../../../../../../doc/html/api/proveit.logic.And.html\">And</a>\n",
    "=======================\n",
    "# from the theory of <a class=\"ProveItLink\" href=\"../../../_theory_nbs_/theory.ipynb\">proveit.logic.booleans</a>"
   ]
  },
  {
   "cell_type": "code",
   "execution_count": 1,
   "metadata": {},
   "outputs": [],
   "source": [
    "import proveit\n",
    "# Automation is not needed when building an expression:\n",
    "proveit.defaults.automation = False # This will speed things up.\n",
    "proveit.defaults.inline_pngs = False # Makes files smaller.\n",
    "%load_expr # Load the stored expression as 'stored_expr'\n",
    "# import Expression classes needed to build the expression\n",
    "from proveit.logic import And, QimplPofFalse, QimplPofTrue"
   ]
  },
  {
   "cell_type": "code",
   "execution_count": 2,
   "metadata": {},
   "outputs": [
    {
     "data": {
      "text/html": [
       "<strong id=\"expr\">expr:</strong> <a class=\"ProveItLink\" href=\"expr.ipynb\"><img src=\"expr.png\" style=\"display:inline;vertical-align:middle;\" /></a><br>"
      ],
      "text/plain": [
       "expr: (Q(TRUE) => P(TRUE)) and (Q(FALSE) => P(FALSE))"
      ]
     },
     "execution_count": 2,
     "metadata": {},
     "output_type": "execute_result"
    }
   ],
   "source": [
    "# build up the expression from sub-expressions\n",
    "expr = And(QimplPofTrue, QimplPofFalse)"
   ]
  },
  {
   "cell_type": "code",
   "execution_count": 3,
   "metadata": {},
   "outputs": [
    {
     "name": "stdout",
     "output_type": "stream",
     "text": [
      "Passed sanity check: expr matches stored_expr\n"
     ]
    }
   ],
   "source": [
    "# check that the built expression is the same as the stored expression\n",
    "assert expr == stored_expr\n",
    "assert expr._style_id == stored_expr._style_id\n",
    "print(\"Passed sanity check: expr matches stored_expr\")"
   ]
  },
  {
   "cell_type": "code",
   "execution_count": 4,
   "metadata": {},
   "outputs": [
    {
     "name": "stdout",
     "output_type": "stream",
     "text": [
      "\\left(Q(\\top) \\Rightarrow P(\\top)\\right) \\land \\left(Q(\\bot) \\Rightarrow P(\\bot)\\right)\n"
     ]
    }
   ],
   "source": [
    "# Show the LaTeX representation of the expression for convenience if you need it.\n",
    "print(expr.latex())"
   ]
  },
  {
   "cell_type": "code",
   "execution_count": 5,
   "metadata": {},
   "outputs": [
    {
     "data": {
      "text/html": [
       "<table>\n",
       "<tr><th>name</th><th>description</th><th>default</th><th>current value</th><th>related methods</th></tr><tr><td>operation</td><td>'infix' or 'function' style formatting</td><td>infix</td><td>infix</td><td></td></tr>\n",
       "<tr><td>wrap_positions</td><td>position(s) at which wrapping is to occur; '2 n - 1' is after the nth operand, '2 n' is after the nth operation.</td><td>()</td><td>()</td><td>('with_wrapping_at', 'with_wrap_before_operator', 'with_wrap_after_operator', 'wrap_positions')</td></tr>\n",
       "<tr><td>justification</td><td>if any wrap positions are set, justify to the 'left', 'center', or 'right'</td><td>center</td><td>center</td><td>('with_justification',)</td></tr>\n",
       "</table>\n"
      ],
      "text/plain": [
       "style name: operation\n",
       "description: 'infix' or 'function' style formatting\n",
       "default: infix\n",
       "current value: infix\n",
       "related methods: ()\n",
       "style name: wrap_positions\n",
       "description: position(s) at which wrapping is to occur; '2 n - 1' is after the nth operand, '2 n' is after the nth operation.\n",
       "default: ()\n",
       "current value: ()\n",
       "related methods: ('with_wrapping_at', 'with_wrap_before_operator', 'with_wrap_after_operator', 'wrap_positions')\n",
       "style name: justification\n",
       "description: if any wrap positions are set, justify to the 'left', 'center', or 'right'\n",
       "default: center\n",
       "current value: center\n",
       "related methods: ('with_justification',)"
      ]
     },
     "execution_count": 5,
     "metadata": {},
     "output_type": "execute_result"
    }
   ],
   "source": [
    "expr.style_options()"
   ]
  },
  {
   "cell_type": "code",
   "execution_count": 6,
   "metadata": {},
   "outputs": [
    {
     "data": {
      "text/html": [
       "<table><tr><th>&nbsp;</th><th>core type</th><th>sub-expressions</th><th>expression</th></tr>\n",
       "<tr><td>0</td><td>Operation</td><td>operator:&nbsp;1<br>operands:&nbsp;2<br></td><td><a class=\"ProveItLink\" href=\"expr.ipynb\"><img src=\"expr.png\" style=\"display:inline;vertical-align:middle;\" /></a></td></tr>\n",
       "<tr><td>1</td><td>Literal</td><td></td><td><a class=\"ProveItLink\" href=\"../../../conjunction/__pv_it/common/26b94b53e70b1d77b70f0d9d4236347db37731060/expr.ipynb\"><img src=\"../../../conjunction/__pv_it/common/26b94b53e70b1d77b70f0d9d4236347db37731060/expr.png\" style=\"display:inline;vertical-align:middle;\" /></a></td></tr>\n",
       "<tr><td>2</td><td>ExprTuple</td><td>3, 4</td><td><a class=\"ProveItLink\" href=\"../64d48e46e18e4a245402d3457ca8c43e8d2e1c860/expr.ipynb\"><img src=\"../64d48e46e18e4a245402d3457ca8c43e8d2e1c860/expr.png\" style=\"display:inline;vertical-align:middle;\" /></a></td></tr>\n",
       "<tr><td>3</td><td>Operation</td><td>operator:&nbsp;6<br>operands:&nbsp;5<br></td><td><a class=\"ProveItLink\" href=\"../../../../__pv_it/common/eb5f8a7c61fd2f3ec0dfa89356256585c350d0c30/expr.ipynb\"><img src=\"../../../../__pv_it/common/eb5f8a7c61fd2f3ec0dfa89356256585c350d0c30/expr.png\" style=\"display:inline;vertical-align:middle;\" /></a></td></tr>\n",
       "<tr><td>4</td><td>Operation</td><td>operator:&nbsp;6<br>operands:&nbsp;7<br></td><td><a class=\"ProveItLink\" href=\"../../../../__pv_it/common/ca9181ccb6dc0a9c4729421491e01b01a7b58bcc0/expr.ipynb\"><img src=\"../../../../__pv_it/common/ca9181ccb6dc0a9c4729421491e01b01a7b58bcc0/expr.png\" style=\"display:inline;vertical-align:middle;\" /></a></td></tr>\n",
       "<tr><td>5</td><td>ExprTuple</td><td>8, 9</td><td><a class=\"ProveItLink\" href=\"../../../../__pv_it/common/4608fe545926c9d576f144d5120cb0d887194f4e0/expr.ipynb\"><img src=\"../../../../__pv_it/common/4608fe545926c9d576f144d5120cb0d887194f4e0/expr.png\" style=\"display:inline;vertical-align:middle;\" /></a></td></tr>\n",
       "<tr><td>6</td><td>Literal</td><td></td><td><a class=\"ProveItLink\" href=\"../../../implication/__pv_it/common/95a8cc69d34af52c7732e4a6fefbd5b63e8d31ba0/expr.ipynb\"><img src=\"../../../implication/__pv_it/common/95a8cc69d34af52c7732e4a6fefbd5b63e8d31ba0/expr.png\" style=\"display:inline;vertical-align:middle;\" /></a></td></tr>\n",
       "<tr><td>7</td><td>ExprTuple</td><td>10, 11</td><td><a class=\"ProveItLink\" href=\"../../../../__pv_it/common/cd6fe9ff883c302b5d6bebad7a4afe8335bc6ff80/expr.ipynb\"><img src=\"../../../../__pv_it/common/cd6fe9ff883c302b5d6bebad7a4afe8335bc6ff80/expr.png\" style=\"display:inline;vertical-align:middle;\" /></a></td></tr>\n",
       "<tr><td>8</td><td>Operation</td><td>operator:&nbsp;13<br>operand:&nbsp;16<br></td><td><a class=\"ProveItLink\" href=\"../../../../__pv_it/common/092493e005a427ee968f6210ef4d9e3eae2fd5eb0/expr.ipynb\"><img src=\"../../../../__pv_it/common/092493e005a427ee968f6210ef4d9e3eae2fd5eb0/expr.png\" style=\"display:inline;vertical-align:middle;\" /></a></td></tr>\n",
       "<tr><td>9</td><td>Operation</td><td>operator:&nbsp;14<br>operand:&nbsp;16<br></td><td><a class=\"ProveItLink\" href=\"../../../../__pv_it/common/0ea795e0ea0fefeea5a32b4f8e009298917320360/expr.ipynb\"><img src=\"../../../../__pv_it/common/0ea795e0ea0fefeea5a32b4f8e009298917320360/expr.png\" style=\"display:inline;vertical-align:middle;\" /></a></td></tr>\n",
       "<tr><td>10</td><td>Operation</td><td>operator:&nbsp;13<br>operand:&nbsp;17<br></td><td><a class=\"ProveItLink\" href=\"../../../../__pv_it/common/ea78f67ecf55d9c86214c3942c4fa91bdee4d4490/expr.ipynb\"><img src=\"../../../../__pv_it/common/ea78f67ecf55d9c86214c3942c4fa91bdee4d4490/expr.png\" style=\"display:inline;vertical-align:middle;\" /></a></td></tr>\n",
       "<tr><td>11</td><td>Operation</td><td>operator:&nbsp;14<br>operand:&nbsp;17<br></td><td><a class=\"ProveItLink\" href=\"../../../../__pv_it/common/f2cb5fde10adfc3cfb797f19dcde6688ec6174c90/expr.ipynb\"><img src=\"../../../../__pv_it/common/f2cb5fde10adfc3cfb797f19dcde6688ec6174c90/expr.png\" style=\"display:inline;vertical-align:middle;\" /></a></td></tr>\n",
       "<tr><td>12</td><td>ExprTuple</td><td>16</td><td><a class=\"ProveItLink\" href=\"../../../../__pv_it/common/79f23c4f369471938b1ee825f812b2d542e7433a0/expr.ipynb\"><img src=\"../../../../__pv_it/common/79f23c4f369471938b1ee825f812b2d542e7433a0/expr.png\" style=\"display:inline;vertical-align:middle;\" /></a></td></tr>\n",
       "<tr><td>13</td><td>Variable</td><td></td><td><a class=\"ProveItLink\" href=\"../../../../../__pv_it/common/50527aea954422d65ebe44b8de200683294751540/expr.ipynb\"><img src=\"../../../../../__pv_it/common/50527aea954422d65ebe44b8de200683294751540/expr.png\" style=\"display:inline;vertical-align:middle;\" /></a></td></tr>\n",
       "<tr><td>14</td><td>Variable</td><td></td><td><a class=\"ProveItLink\" href=\"../../../../../__pv_it/common/d5fc3066299847984076662ce51556220bdb6cfb0/expr.ipynb\"><img src=\"../../../../../__pv_it/common/d5fc3066299847984076662ce51556220bdb6cfb0/expr.png\" style=\"display:inline;vertical-align:middle;\" /></a></td></tr>\n",
       "<tr><td>15</td><td>ExprTuple</td><td>17</td><td><a class=\"ProveItLink\" href=\"../../../../__pv_it/common/d260be7503e77a7eb4ca45c9fc6d012d82d1143a0/expr.ipynb\"><img src=\"../../../../__pv_it/common/d260be7503e77a7eb4ca45c9fc6d012d82d1143a0/expr.png\" style=\"display:inline;vertical-align:middle;\" /></a></td></tr>\n",
       "<tr><td>16</td><td>Literal</td><td></td><td><a class=\"ProveItLink\" href=\"../../common/373f61d65f7ccc0f6ebbafaccf02f2693d0e3bad0/expr.ipynb\"><img src=\"../../common/373f61d65f7ccc0f6ebbafaccf02f2693d0e3bad0/expr.png\" style=\"display:inline;vertical-align:middle;\" /></a></td></tr>\n",
       "<tr><td>17</td><td>Literal</td><td></td><td><a class=\"ProveItLink\" href=\"../../common/bc5c31e39ae582b67c89fb24025b57f5b995e8890/expr.ipynb\"><img src=\"../../common/bc5c31e39ae582b67c89fb24025b57f5b995e8890/expr.png\" style=\"display:inline;vertical-align:middle;\" /></a></td></tr>\n",
       "</table>\n"
      ],
      "text/plain": [
       "0. (Q(TRUE) => P(TRUE)) and (Q(FALSE) => P(FALSE))\n",
       "   core type: Operation\n",
       "   operator: 1\n",
       "   operands: 2\n",
       "1. and\n",
       "   core type: Literal\n",
       "   sub-expressions: \n",
       "2. (Q(TRUE) => P(TRUE), Q(FALSE) => P(FALSE))\n",
       "   core type: ExprTuple\n",
       "   sub-expressions: 3, 4\n",
       "3. Q(TRUE) => P(TRUE)\n",
       "   core type: Operation\n",
       "   operator: 6\n",
       "   operands: 5\n",
       "4. Q(FALSE) => P(FALSE)\n",
       "   core type: Operation\n",
       "   operator: 6\n",
       "   operands: 7\n",
       "5. (Q(TRUE), P(TRUE))\n",
       "   core type: ExprTuple\n",
       "   sub-expressions: 8, 9\n",
       "6. =>\n",
       "   core type: Literal\n",
       "   sub-expressions: \n",
       "7. (Q(FALSE), P(FALSE))\n",
       "   core type: ExprTuple\n",
       "   sub-expressions: 10, 11\n",
       "8. Q(TRUE)\n",
       "   core type: Operation\n",
       "   operator: 13\n",
       "   operand: 16\n",
       "9. P(TRUE)\n",
       "   core type: Operation\n",
       "   operator: 14\n",
       "   operand: 16\n",
       "10. Q(FALSE)\n",
       "    core type: Operation\n",
       "    operator: 13\n",
       "    operand: 17\n",
       "11. P(FALSE)\n",
       "    core type: Operation\n",
       "    operator: 14\n",
       "    operand: 17\n",
       "12. (TRUE)\n",
       "    core type: ExprTuple\n",
       "    sub-expressions: 16\n",
       "13. Q\n",
       "    core type: Variable\n",
       "    sub-expressions: \n",
       "14. P\n",
       "    core type: Variable\n",
       "    sub-expressions: \n",
       "15. (FALSE)\n",
       "    core type: ExprTuple\n",
       "    sub-expressions: 17\n",
       "16. TRUE\n",
       "    core type: Literal\n",
       "    sub-expressions: \n",
       "17. FALSE\n",
       "    core type: Literal\n",
       "    sub-expressions: "
      ]
     },
     "execution_count": 6,
     "metadata": {},
     "output_type": "execute_result"
    }
   ],
   "source": [
    "# display the expression information\n",
    "expr.expr_info()"
   ]
  },
  {
   "cell_type": "code",
   "execution_count": null,
   "metadata": {},
   "outputs": [],
   "source": []
  }
 ],
 "metadata": {
  "kernelspec": {
   "display_name": "Python 3",
   "language": "python",
   "name": "python3"
  }
 },
 "nbformat": 4,
 "nbformat_minor": 0
}