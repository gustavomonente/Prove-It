{
 "cells": [
  {
   "cell_type": "markdown",
   "metadata": {},
   "source": [
    "Show the Proof\n",
    "========"
   ]
  },
  {
   "cell_type": "code",
   "execution_count": 1,
   "metadata": {},
   "outputs": [
    {
     "data": {
      "text/html": [
       "<table><tr><th>&nbsp;</th><th>step type</th><th>requirements</th><th>statement</th></tr>\n",
       "<tr><td><a name=\"proveit.logic.booleans._proof_from_excluded_middle.a83f09b8e71a24db9d98ae850e5902e6a85a1da50_step0\">0</a></td><td>generalizaton</td><td><a href=\"#proveit.logic.booleans._proof_from_excluded_middle.a83f09b8e71a24db9d98ae850e5902e6a85a1da50_step1\">1</a></td><td><span style=\"font-size:20px;\"> <a class=\"ProveItLink\" href=\"proof.ipynb\" style=\"text-decoration: none\">&nbsp;&#x22A2;&nbsp;&nbsp;</a><a class=\"ProveItLink\" href=\"../../theorems/fa1ae0229d6422f12d89e9bfdde9e38377dccfdf0/expr.ipynb\"><img src=\"../../theorems/fa1ae0229d6422f12d89e9bfdde9e38377dccfdf0/expr.png\" style=\"display:inline;vertical-align:middle;\" /></a></span></td></tr>\n",
       "<tr><td><a name=\"proveit.logic.booleans._proof_from_excluded_middle.a83f09b8e71a24db9d98ae850e5902e6a85a1da50_step1\">1</a></td><td>instantiation</td><td><a href=\"#proveit.logic.booleans._proof_from_excluded_middle.a83f09b8e71a24db9d98ae850e5902e6a85a1da50_step2\">2</a>, <a href=\"#proveit.logic.booleans._proof_from_excluded_middle.a83f09b8e71a24db9d98ae850e5902e6a85a1da50_step9\">9</a>, <a href=\"#proveit.logic.booleans._proof_from_excluded_middle.a83f09b8e71a24db9d98ae850e5902e6a85a1da50_step3\">3</a>, <a href=\"#proveit.logic.booleans._proof_from_excluded_middle.a83f09b8e71a24db9d98ae850e5902e6a85a1da50_step4\">4</a>, <a href=\"#proveit.logic.booleans._proof_from_excluded_middle.a83f09b8e71a24db9d98ae850e5902e6a85a1da50_step5\">5</a>, <a href=\"#proveit.logic.booleans._proof_from_excluded_middle.a83f09b8e71a24db9d98ae850e5902e6a85a1da50_step6\">6</a></td><td><span style=\"font-size:20px;\"><a class=\"ProveItLink\" href=\"../../theorems/ddc941563dffabdeb005429c2f934b2b6ccbeab10/expr.ipynb\"><img src=\"../../theorems/ddc941563dffabdeb005429c2f934b2b6ccbeab10/expr.png\" style=\"display:inline;vertical-align:middle;\" /></a>, <a class=\"ProveItLink\" href=\"../../theorems/56a3e61828ec431744fbff6a1a85c149617bc5cf0/expr.ipynb\"><img src=\"../../theorems/56a3e61828ec431744fbff6a1a85c149617bc5cf0/expr.png\" style=\"display:inline;vertical-align:middle;\" /></a>, <a class=\"ProveItLink\" href=\"../../theorems/a7e4d60aa05aa2643f53ad3ccce382ce568953c10/expr.ipynb\"><img src=\"../../theorems/a7e4d60aa05aa2643f53ad3ccce382ce568953c10/expr.png\" style=\"display:inline;vertical-align:middle;\" /></a> <a class=\"ProveItLink\" href=\"../30d4b72b9829510dc3b9441ad579f298b5e6cbc20/proof.ipynb\" style=\"text-decoration: none\">&nbsp;&#x22A2;&nbsp;&nbsp;</a><a class=\"ProveItLink\" href=\"../../../../../__pv_it/common/c4a83a53f0ed6678b0c7a2d6d691a4b400f735c90/expr.ipynb\"><img src=\"../../../../../__pv_it/common/c4a83a53f0ed6678b0c7a2d6d691a4b400f735c90/expr.png\" style=\"display:inline;vertical-align:middle;\" /></a></span></td></tr>\n",
       "<tr><td>&nbsp;</td><td colspan=4 style=\"text-align:left\"><span style=\"font-size:20px;\"><a class=\"ProveItLink\" href=\"../../../../../__pv_it/common/e4aad701f7f5516d8e7f0d805d518bf02c13322a0/expr.ipynb\"><img src=\"../../../../../__pv_it/common/e4aad701f7f5516d8e7f0d805d518bf02c13322a0/expr.png\" style=\"display:inline;vertical-align:middle;\" /></a> : <a class=\"ProveItLink\" href=\"../../../../../__pv_it/common/e4aad701f7f5516d8e7f0d805d518bf02c13322a0/expr.ipynb\"><img src=\"../../../../../__pv_it/common/e4aad701f7f5516d8e7f0d805d518bf02c13322a0/expr.png\" style=\"display:inline;vertical-align:middle;\" /></a>, <a class=\"ProveItLink\" href=\"../../../../../__pv_it/common/4eca3b30dcf58a58494e201d1b7886d8643a617b0/expr.ipynb\"><img src=\"../../../../../__pv_it/common/4eca3b30dcf58a58494e201d1b7886d8643a617b0/expr.png\" style=\"display:inline;vertical-align:middle;\" /></a> : <a class=\"ProveItLink\" href=\"../../theorems/07422f10f1e08ed78c3a7819220244e231d95c340/expr.ipynb\"><img src=\"../../theorems/07422f10f1e08ed78c3a7819220244e231d95c340/expr.png\" style=\"display:inline;vertical-align:middle;\" /></a>, <a class=\"ProveItLink\" href=\"../../../../../__pv_it/common/c4a83a53f0ed6678b0c7a2d6d691a4b400f735c90/expr.ipynb\"><img src=\"../../../../../__pv_it/common/c4a83a53f0ed6678b0c7a2d6d691a4b400f735c90/expr.png\" style=\"display:inline;vertical-align:middle;\" /></a> : <a class=\"ProveItLink\" href=\"../../../../../__pv_it/common/c4a83a53f0ed6678b0c7a2d6d691a4b400f735c90/expr.ipynb\"><img src=\"../../../../../__pv_it/common/c4a83a53f0ed6678b0c7a2d6d691a4b400f735c90/expr.png\" style=\"display:inline;vertical-align:middle;\" /></a></span></td></tr><tr><td><a name=\"proveit.logic.booleans._proof_from_excluded_middle.a83f09b8e71a24db9d98ae850e5902e6a85a1da50_step2\">2</a></td><td>theorem</td><td></td><td><span style=\"font-size:20px;\"> <a class=\"ProveItLink\" href=\"../../../disjunction/_theory_nbs_/proofs/singular_constructive_dilemma/thm_proof.ipynb\" style=\"text-decoration: none\">&nbsp;&#x22A2;&nbsp;&nbsp;</a><a class=\"ProveItLink\" href=\"../../../disjunction/__pv_it/theorems/a342d3aa1ba3fc6225e619eef0c8fb07cd1eaa860/expr.ipynb\"><img src=\"../../../disjunction/__pv_it/theorems/a342d3aa1ba3fc6225e619eef0c8fb07cd1eaa860/expr.png\" style=\"display:inline;vertical-align:middle;\" /></a></span></td></tr>\n",
       "<tr><td>&nbsp;</td><td colspan=4 style-\"text-align:left\"><a class=\"ProveItLink\" href=\"../../../disjunction/_theory_nbs_/proofs/singular_constructive_dilemma/thm_proof.ipynb\">proveit.logic.booleans.disjunction.singular_constructive_dilemma</a></td></tr><tr><td><a name=\"proveit.logic.booleans._proof_from_excluded_middle.a83f09b8e71a24db9d98ae850e5902e6a85a1da50_step3\">3</a></td><td>instantiation</td><td><a href=\"#proveit.logic.booleans._proof_from_excluded_middle.a83f09b8e71a24db9d98ae850e5902e6a85a1da50_step7\">7</a>, <a href=\"#proveit.logic.booleans._proof_from_excluded_middle.a83f09b8e71a24db9d98ae850e5902e6a85a1da50_step9\">9</a></td><td><span style=\"font-size:20px;\"><a class=\"ProveItLink\" href=\"../../theorems/ddc941563dffabdeb005429c2f934b2b6ccbeab10/expr.ipynb\"><img src=\"../../theorems/ddc941563dffabdeb005429c2f934b2b6ccbeab10/expr.png\" style=\"display:inline;vertical-align:middle;\" /></a> <a class=\"ProveItLink\" href=\"../a366114ffbdbc8e8a209fc18902a3a83dc7b7a2c0/proof.ipynb\" style=\"text-decoration: none\">&nbsp;&#x22A2;&nbsp;&nbsp;</a><a class=\"ProveItLink\" href=\"../../../negation/__pv_it/axioms/903e4865682bef95933a5e2f859a29b67bbd91fb0/expr.ipynb\"><img src=\"../../../negation/__pv_it/axioms/903e4865682bef95933a5e2f859a29b67bbd91fb0/expr.png\" style=\"display:inline;vertical-align:middle;\" /></a></span></td></tr>\n",
       "<tr><td>&nbsp;</td><td colspan=4 style=\"text-align:left\"><span style=\"font-size:20px;\"><a class=\"ProveItLink\" href=\"../../../../../__pv_it/common/e4aad701f7f5516d8e7f0d805d518bf02c13322a0/expr.ipynb\"><img src=\"../../../../../__pv_it/common/e4aad701f7f5516d8e7f0d805d518bf02c13322a0/expr.png\" style=\"display:inline;vertical-align:middle;\" /></a> : <a class=\"ProveItLink\" href=\"../../../../../__pv_it/common/e4aad701f7f5516d8e7f0d805d518bf02c13322a0/expr.ipynb\"><img src=\"../../../../../__pv_it/common/e4aad701f7f5516d8e7f0d805d518bf02c13322a0/expr.png\" style=\"display:inline;vertical-align:middle;\" /></a></span></td></tr><tr><td><a name=\"proveit.logic.booleans._proof_from_excluded_middle.a83f09b8e71a24db9d98ae850e5902e6a85a1da50_step4\">4</a></td><td>instantiation</td><td><a href=\"#proveit.logic.booleans._proof_from_excluded_middle.a83f09b8e71a24db9d98ae850e5902e6a85a1da50_step8\">8</a>, <a href=\"#proveit.logic.booleans._proof_from_excluded_middle.a83f09b8e71a24db9d98ae850e5902e6a85a1da50_step9\">9</a></td><td><span style=\"font-size:20px;\"><a class=\"ProveItLink\" href=\"../../theorems/ddc941563dffabdeb005429c2f934b2b6ccbeab10/expr.ipynb\"><img src=\"../../theorems/ddc941563dffabdeb005429c2f934b2b6ccbeab10/expr.png\" style=\"display:inline;vertical-align:middle;\" /></a> <a class=\"ProveItLink\" href=\"../c9481e619e542fa3eab8dd3329fad4ecaa1b9cd00/proof.ipynb\" style=\"text-decoration: none\">&nbsp;&#x22A2;&nbsp;&nbsp;</a><a class=\"ProveItLink\" href=\"../../theorems/468b487b4f343efccda1b1a5fc529e1d4c34004d0/expr.ipynb\"><img src=\"../../theorems/468b487b4f343efccda1b1a5fc529e1d4c34004d0/expr.png\" style=\"display:inline;vertical-align:middle;\" /></a></span></td></tr>\n",
       "<tr><td>&nbsp;</td><td colspan=4 style=\"text-align:left\"><span style=\"font-size:20px;\"><a class=\"ProveItLink\" href=\"../../../../../__pv_it/common/e4aad701f7f5516d8e7f0d805d518bf02c13322a0/expr.ipynb\"><img src=\"../../../../../__pv_it/common/e4aad701f7f5516d8e7f0d805d518bf02c13322a0/expr.png\" style=\"display:inline;vertical-align:middle;\" /></a> : <a class=\"ProveItLink\" href=\"../../../../../__pv_it/common/e4aad701f7f5516d8e7f0d805d518bf02c13322a0/expr.ipynb\"><img src=\"../../../../../__pv_it/common/e4aad701f7f5516d8e7f0d805d518bf02c13322a0/expr.png\" style=\"display:inline;vertical-align:middle;\" /></a></span></td></tr><tr><td><a name=\"proveit.logic.booleans._proof_from_excluded_middle.a83f09b8e71a24db9d98ae850e5902e6a85a1da50_step5\">5</a></td><td>assumption</td><td></td><td><span style=\"font-size:20px;\"><a class=\"ProveItLink\" href=\"../../theorems/56a3e61828ec431744fbff6a1a85c149617bc5cf0/expr.ipynb\"><img src=\"../../theorems/56a3e61828ec431744fbff6a1a85c149617bc5cf0/expr.png\" style=\"display:inline;vertical-align:middle;\" /></a> <a class=\"ProveItLink\" href=\"../8503bf58e187b70acc4fa461159f04966a5d8fe00/proof.ipynb\" style=\"text-decoration: none\">&nbsp;&#x22A2;&nbsp;&nbsp;</a><a class=\"ProveItLink\" href=\"../../theorems/56a3e61828ec431744fbff6a1a85c149617bc5cf0/expr.ipynb\"><img src=\"../../theorems/56a3e61828ec431744fbff6a1a85c149617bc5cf0/expr.png\" style=\"display:inline;vertical-align:middle;\" /></a></span></td></tr>\n",
       "<tr><td><a name=\"proveit.logic.booleans._proof_from_excluded_middle.a83f09b8e71a24db9d98ae850e5902e6a85a1da50_step6\">6</a></td><td>assumption</td><td></td><td><span style=\"font-size:20px;\"><a class=\"ProveItLink\" href=\"../../theorems/a7e4d60aa05aa2643f53ad3ccce382ce568953c10/expr.ipynb\"><img src=\"../../theorems/a7e4d60aa05aa2643f53ad3ccce382ce568953c10/expr.png\" style=\"display:inline;vertical-align:middle;\" /></a> <a class=\"ProveItLink\" href=\"../5369933e2318d2dc77d2bef00efdc74ed919d0150/proof.ipynb\" style=\"text-decoration: none\">&nbsp;&#x22A2;&nbsp;&nbsp;</a><a class=\"ProveItLink\" href=\"../../theorems/a7e4d60aa05aa2643f53ad3ccce382ce568953c10/expr.ipynb\"><img src=\"../../theorems/a7e4d60aa05aa2643f53ad3ccce382ce568953c10/expr.png\" style=\"display:inline;vertical-align:middle;\" /></a></span></td></tr>\n",
       "<tr><td><a name=\"proveit.logic.booleans._proof_from_excluded_middle.a83f09b8e71a24db9d98ae850e5902e6a85a1da50_step7\">7</a></td><td>theorem</td><td></td><td><span style=\"font-size:20px;\"> <a class=\"ProveItLink\" href=\"../../../negation/_theory_nbs_/proofs/closure/thm_proof.ipynb\" style=\"text-decoration: none\">&nbsp;&#x22A2;&nbsp;&nbsp;</a><a class=\"ProveItLink\" href=\"../../../negation/__pv_it/theorems/a845d74cb4ab8512f25658851d65709796e6cea10/expr.ipynb\"><img src=\"../../../negation/__pv_it/theorems/a845d74cb4ab8512f25658851d65709796e6cea10/expr.png\" style=\"display:inline;vertical-align:middle;\" /></a></span></td></tr>\n",
       "<tr><td>&nbsp;</td><td colspan=4 style-\"text-align:left\"><a class=\"ProveItLink\" href=\"../../../negation/_theory_nbs_/proofs/closure/thm_proof.ipynb\">proveit.logic.booleans.negation.closure</a></td></tr><tr><td><a name=\"proveit.logic.booleans._proof_from_excluded_middle.a83f09b8e71a24db9d98ae850e5902e6a85a1da50_step8\">8</a></td><td>theorem</td><td></td><td><span style=\"font-size:20px;\"> <a class=\"ProveItLink\" href=\"../../../_theory_nbs_/proofs/unfold_is_bool/thm_proof.ipynb\" style=\"text-decoration: none\">&nbsp;&#x22A2;&nbsp;&nbsp;</a><a class=\"ProveItLink\" href=\"../../theorems/3826c8863519ba65ca59964bb86d25b1d466275c0/expr.ipynb\"><img src=\"../../theorems/3826c8863519ba65ca59964bb86d25b1d466275c0/expr.png\" style=\"display:inline;vertical-align:middle;\" /></a></span></td></tr>\n",
       "<tr><td>&nbsp;</td><td colspan=4 style-\"text-align:left\"><a class=\"ProveItLink\" href=\"../../../_theory_nbs_/proofs/unfold_is_bool/thm_proof.ipynb\">proveit.logic.booleans.unfold_is_bool</a></td></tr><tr><td><a name=\"proveit.logic.booleans._proof_from_excluded_middle.a83f09b8e71a24db9d98ae850e5902e6a85a1da50_step9\">9</a></td><td>assumption</td><td></td><td><span style=\"font-size:20px;\"><a class=\"ProveItLink\" href=\"../../theorems/ddc941563dffabdeb005429c2f934b2b6ccbeab10/expr.ipynb\"><img src=\"../../theorems/ddc941563dffabdeb005429c2f934b2b6ccbeab10/expr.png\" style=\"display:inline;vertical-align:middle;\" /></a> <a class=\"ProveItLink\" href=\"../9292f10e36894b28b53578007a7c53228e3a967d0/proof.ipynb\" style=\"text-decoration: none\">&nbsp;&#x22A2;&nbsp;&nbsp;</a><a class=\"ProveItLink\" href=\"../../theorems/ddc941563dffabdeb005429c2f934b2b6ccbeab10/expr.ipynb\"><img src=\"../../theorems/ddc941563dffabdeb005429c2f934b2b6ccbeab10/expr.png\" style=\"display:inline;vertical-align:middle;\" /></a></span></td></tr>\n",
       "</table>"
      ],
      "text/plain": [
       "<proveit._core_.proof._ShowProof at 0x7effac3d3cc0>"
      ]
     },
     "execution_count": 1,
     "metadata": {},
     "output_type": "execute_result"
    }
   ],
   "source": [
    "import proveit\n",
    "# Automation is not needed when only showing a stored proof:\n",
    "proveit.defaults.automation = False # This will speed things up.\n",
    "proveit.defaults.inline_pngs = False # Makes files smaller.\n",
    "%show_proof"
   ]
  },
  {
   "cell_type": "code",
   "execution_count": null,
   "metadata": {},
   "outputs": [],
   "source": []
  }
 ],
 "metadata": {
  "kernelspec": {
   "display_name": "Python 3",
   "language": "python",
   "name": "python3"
  },
  "language_info": {
   "codemirror_mode": {
    "name": "ipython",
    "version": 3
   },
   "file_extension": ".py",
   "mimetype": "text/x-python",
   "name": "python",
   "nbconvert_exporter": "python",
   "pygments_lexer": "ipython3",
   "version": "3.7.3"
  }
 },
 "nbformat": 4,
 "nbformat_minor": 1
}