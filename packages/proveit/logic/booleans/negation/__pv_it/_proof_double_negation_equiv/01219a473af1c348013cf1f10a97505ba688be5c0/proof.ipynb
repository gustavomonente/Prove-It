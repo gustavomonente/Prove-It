{
 "cells": [
  {
   "cell_type": "markdown",
   "metadata": {},
   "source": [
    "Show the Proof\n",
    "========"
   ]
  },
  {
   "cell_type": "code",
   "execution_count": 1,
   "metadata": {},
   "outputs": [
    {
     "data": {
      "text/html": [
       "<table><tr><th>&nbsp;</th><th>step type</th><th>requirements</th><th>statement</th></tr>\n",
       "<tr><td><a name=\"proveit.logic.booleans.negation._proof_double_negation_equiv.01219a473af1c348013cf1f10a97505ba688be5c0_step0\">0</a></td><td>instantiation</td><td><a href=\"#proveit.logic.booleans.negation._proof_double_negation_equiv.01219a473af1c348013cf1f10a97505ba688be5c0_step1\">1</a>, <a href=\"#proveit.logic.booleans.negation._proof_double_negation_equiv.01219a473af1c348013cf1f10a97505ba688be5c0_step2\">2</a>, <a href=\"#proveit.logic.booleans.negation._proof_double_negation_equiv.01219a473af1c348013cf1f10a97505ba688be5c0_step3\">3</a></td><td><span style=\"font-size:20px;\"> <a class=\"ProveItLink\" href=\"proof.ipynb\" style=\"text-decoration: none\">&nbsp;&#x22A2;&nbsp;&nbsp;</a><a class=\"ProveItLink\" href=\"../../theorems/0b2341405671c4e55c70dcded044f5f1f06481a80/expr.ipynb\"><img src=\"../../theorems/0b2341405671c4e55c70dcded044f5f1f06481a80/expr.png\" style=\"display:inline;vertical-align:middle;\" /></a></span></td></tr>\n",
       "<tr><td>&nbsp;</td><td colspan=4 style=\"text-align:left\"><span style=\"font-size:20px;\"><a class=\"ProveItLink\" href=\"../../../../../../__pv_it/common/bfd6cbbf901c56262d9826d514808c68a6e9726f0/expr.ipynb\"><img src=\"../../../../../../__pv_it/common/bfd6cbbf901c56262d9826d514808c68a6e9726f0/expr.png\" style=\"display:inline;vertical-align:middle;\" /></a> : <a class=\"ProveItLink\" href=\"../../theorems/05c48c13db69fd51069ae289f12818b75711e8030/expr.ipynb\"><img src=\"../../theorems/05c48c13db69fd51069ae289f12818b75711e8030/expr.png\" style=\"display:inline;vertical-align:middle;\" /></a>, <a class=\"ProveItLink\" href=\"../../../../../../__pv_it/common/e4aad701f7f5516d8e7f0d805d518bf02c13322a0/expr.ipynb\"><img src=\"../../../../../../__pv_it/common/e4aad701f7f5516d8e7f0d805d518bf02c13322a0/expr.png\" style=\"display:inline;vertical-align:middle;\" /></a> : <a class=\"ProveItLink\" href=\"../../../../../../__pv_it/common/e4aad701f7f5516d8e7f0d805d518bf02c13322a0/expr.ipynb\"><img src=\"../../../../../../__pv_it/common/e4aad701f7f5516d8e7f0d805d518bf02c13322a0/expr.png\" style=\"display:inline;vertical-align:middle;\" /></a></span></td></tr><tr><td><a name=\"proveit.logic.booleans.negation._proof_double_negation_equiv.01219a473af1c348013cf1f10a97505ba688be5c0_step1\">1</a></td><td>theorem</td><td></td><td><span style=\"font-size:20px;\"> <a class=\"ProveItLink\" href=\"../../../../_theory_nbs_/proofs/fold_forall_over_bool/thm_proof.ipynb\" style=\"text-decoration: none\">&nbsp;&#x22A2;&nbsp;&nbsp;</a><a class=\"ProveItLink\" href=\"../../../../__pv_it/theorems/6c162ab5702ef138f00210765d27995c5c0e9c840/expr.ipynb\"><img src=\"../../../../__pv_it/theorems/6c162ab5702ef138f00210765d27995c5c0e9c840/expr.png\" style=\"display:inline;vertical-align:middle;\" /></a></span></td></tr>\n",
       "<tr><td>&nbsp;</td><td colspan=4 style-\"text-align:left\"><a class=\"ProveItLink\" href=\"../../../../_theory_nbs_/proofs/fold_forall_over_bool/thm_proof.ipynb\">proveit.logic.booleans.fold_forall_over_bool</a></td></tr><tr><td><a name=\"proveit.logic.booleans.negation._proof_double_negation_equiv.01219a473af1c348013cf1f10a97505ba688be5c0_step2\">2</a></td><td>instantiation</td><td><a href=\"#proveit.logic.booleans.negation._proof_double_negation_equiv.01219a473af1c348013cf1f10a97505ba688be5c0_step4\">4</a>, <a href=\"#proveit.logic.booleans.negation._proof_double_negation_equiv.01219a473af1c348013cf1f10a97505ba688be5c0_step5\">5</a></td><td><span style=\"font-size:20px;\"> <a class=\"ProveItLink\" href=\"../5184923d54a6331dfd7028c193370942270f0d0a0/proof.ipynb\" style=\"text-decoration: none\">&nbsp;&#x22A2;&nbsp;&nbsp;</a><a class=\"ProveItLink\" href=\"../731c5dc336bbeb41c6666a8395393cd35990c8890/expr.ipynb\"><img src=\"../731c5dc336bbeb41c6666a8395393cd35990c8890/expr.png\" style=\"display:inline;vertical-align:middle;\" /></a></span></td></tr>\n",
       "<tr><td>&nbsp;</td><td colspan=4 style=\"text-align:left\"><span style=\"font-size:20px;\"><a class=\"ProveItLink\" href=\"../../../../../../__pv_it/common/e4aad701f7f5516d8e7f0d805d518bf02c13322a0/expr.ipynb\"><img src=\"../../../../../../__pv_it/common/e4aad701f7f5516d8e7f0d805d518bf02c13322a0/expr.png\" style=\"display:inline;vertical-align:middle;\" /></a> : <a class=\"ProveItLink\" href=\"../bdcd3913d33a09f3ccfe109e1ac3b2053d23fd360/expr.ipynb\"><img src=\"../bdcd3913d33a09f3ccfe109e1ac3b2053d23fd360/expr.png\" style=\"display:inline;vertical-align:middle;\" /></a></span></td></tr><tr><td><a name=\"proveit.logic.booleans.negation._proof_double_negation_equiv.01219a473af1c348013cf1f10a97505ba688be5c0_step3\">3</a></td><td>instantiation</td><td><a href=\"#proveit.logic.booleans.negation._proof_double_negation_equiv.01219a473af1c348013cf1f10a97505ba688be5c0_step6\">6</a>, <a href=\"#proveit.logic.booleans.negation._proof_double_negation_equiv.01219a473af1c348013cf1f10a97505ba688be5c0_step7\">7</a></td><td><span style=\"font-size:20px;\"> <a class=\"ProveItLink\" href=\"../df120c1445f77f9489b6052b821f1af86df95cb80/proof.ipynb\" style=\"text-decoration: none\">&nbsp;&#x22A2;&nbsp;&nbsp;</a><a class=\"ProveItLink\" href=\"../655c67ebae38b5ba9489b557598b2853fc5e29930/expr.ipynb\"><img src=\"../655c67ebae38b5ba9489b557598b2853fc5e29930/expr.png\" style=\"display:inline;vertical-align:middle;\" /></a></span></td></tr>\n",
       "<tr><td>&nbsp;</td><td colspan=4 style=\"text-align:left\"><span style=\"font-size:20px;\"><a class=\"ProveItLink\" href=\"../../../../../../__pv_it/common/e4aad701f7f5516d8e7f0d805d518bf02c13322a0/expr.ipynb\"><img src=\"../../../../../../__pv_it/common/e4aad701f7f5516d8e7f0d805d518bf02c13322a0/expr.png\" style=\"display:inline;vertical-align:middle;\" /></a> : <a class=\"ProveItLink\" href=\"../../axioms/a4fdfc1e2cef2bb7c6d1fd40bfe263bf2d35d59a0/expr.ipynb\"><img src=\"../../axioms/a4fdfc1e2cef2bb7c6d1fd40bfe263bf2d35d59a0/expr.png\" style=\"display:inline;vertical-align:middle;\" /></a></span></td></tr><tr><td><a name=\"proveit.logic.booleans.negation._proof_double_negation_equiv.01219a473af1c348013cf1f10a97505ba688be5c0_step4\">4</a></td><td>axiom</td><td></td><td><span style=\"font-size:20px;\"> <a class=\"ProveItLink\" href=\"../../../../_theory_nbs_/axioms.ipynb#eq_true_intro\" style=\"text-decoration: none\">&nbsp;&#x22A2;&nbsp;&nbsp;</a><a class=\"ProveItLink\" href=\"../../../../__pv_it/axioms/3a99d3cb7c410f4636cdc59f7b36cdf6997b37680/expr.ipynb\"><img src=\"../../../../__pv_it/axioms/3a99d3cb7c410f4636cdc59f7b36cdf6997b37680/expr.png\" style=\"display:inline;vertical-align:middle;\" /></a></span></td></tr>\n",
       "<tr><td>&nbsp;</td><td colspan=4 style-\"text-align:left\"><a class=\"ProveItLink\" href=\"../../../../_theory_nbs_/axioms.ipynb#eq_true_intro\">proveit.logic.booleans.eq_true_intro</a></td></tr><tr><td><a name=\"proveit.logic.booleans.negation._proof_double_negation_equiv.01219a473af1c348013cf1f10a97505ba688be5c0_step5\">5</a></td><td>instantiation</td><td><a href=\"#proveit.logic.booleans.negation._proof_double_negation_equiv.01219a473af1c348013cf1f10a97505ba688be5c0_step8\">8</a>, <a href=\"#proveit.logic.booleans.negation._proof_double_negation_equiv.01219a473af1c348013cf1f10a97505ba688be5c0_step9\">9</a></td><td><span style=\"font-size:20px;\"> <a class=\"ProveItLink\" href=\"../9397fec4dd23984f630903335a4bd54d421517e60/proof.ipynb\" style=\"text-decoration: none\">&nbsp;&#x22A2;&nbsp;&nbsp;</a><a class=\"ProveItLink\" href=\"../bdcd3913d33a09f3ccfe109e1ac3b2053d23fd360/expr.ipynb\"><img src=\"../bdcd3913d33a09f3ccfe109e1ac3b2053d23fd360/expr.png\" style=\"display:inline;vertical-align:middle;\" /></a></span></td></tr>\n",
       "<tr><td>&nbsp;</td><td colspan=4 style=\"text-align:left\"><span style=\"font-size:20px;\"><a class=\"ProveItLink\" href=\"../../../../../../__pv_it/common/e4aad701f7f5516d8e7f0d805d518bf02c13322a0/expr.ipynb\"><img src=\"../../../../../../__pv_it/common/e4aad701f7f5516d8e7f0d805d518bf02c13322a0/expr.png\" style=\"display:inline;vertical-align:middle;\" /></a> : <a class=\"ProveItLink\" href=\"../../../../__pv_it/common/373f61d65f7ccc0f6ebbafaccf02f2693d0e3bad0/expr.ipynb\"><img src=\"../../../../__pv_it/common/373f61d65f7ccc0f6ebbafaccf02f2693d0e3bad0/expr.png\" style=\"display:inline;vertical-align:middle;\" /></a></span></td></tr><tr><td><a name=\"proveit.logic.booleans.negation._proof_double_negation_equiv.01219a473af1c348013cf1f10a97505ba688be5c0_step6\">6</a></td><td>theorem</td><td></td><td><span style=\"font-size:20px;\"> <a class=\"ProveItLink\" href=\"../../../_theory_nbs_/proofs/falsified_negation_intro/thm_proof.ipynb\" style=\"text-decoration: none\">&nbsp;&#x22A2;&nbsp;&nbsp;</a><a class=\"ProveItLink\" href=\"../../theorems/d80cc8ef4dee33aefaffdbf38f5d52314c1d13280/expr.ipynb\"><img src=\"../../theorems/d80cc8ef4dee33aefaffdbf38f5d52314c1d13280/expr.png\" style=\"display:inline;vertical-align:middle;\" /></a></span></td></tr>\n",
       "<tr><td>&nbsp;</td><td colspan=4 style-\"text-align:left\"><a class=\"ProveItLink\" href=\"../../../_theory_nbs_/proofs/falsified_negation_intro/thm_proof.ipynb\">proveit.logic.booleans.negation.falsified_negation_intro</a></td></tr><tr><td><a name=\"proveit.logic.booleans.negation._proof_double_negation_equiv.01219a473af1c348013cf1f10a97505ba688be5c0_step7\">7</a></td><td>instantiation</td><td><a href=\"#proveit.logic.booleans.negation._proof_double_negation_equiv.01219a473af1c348013cf1f10a97505ba688be5c0_step10\">10</a>, <a href=\"#proveit.logic.booleans.negation._proof_double_negation_equiv.01219a473af1c348013cf1f10a97505ba688be5c0_step11\">11</a></td><td><span style=\"font-size:20px;\"> <a class=\"ProveItLink\" href=\"../9a77505931e0dce1a952a0d3fa6fe19eb5773e4d0/proof.ipynb\" style=\"text-decoration: none\">&nbsp;&#x22A2;&nbsp;&nbsp;</a><a class=\"ProveItLink\" href=\"../../axioms/a4fdfc1e2cef2bb7c6d1fd40bfe263bf2d35d59a0/expr.ipynb\"><img src=\"../../axioms/a4fdfc1e2cef2bb7c6d1fd40bfe263bf2d35d59a0/expr.png\" style=\"display:inline;vertical-align:middle;\" /></a></span></td></tr>\n",
       "<tr><td>&nbsp;</td><td colspan=4 style=\"text-align:left\"><span style=\"font-size:20px;\"><a class=\"ProveItLink\" href=\"../../../../../../__pv_it/common/e4aad701f7f5516d8e7f0d805d518bf02c13322a0/expr.ipynb\"><img src=\"../../../../../../__pv_it/common/e4aad701f7f5516d8e7f0d805d518bf02c13322a0/expr.png\" style=\"display:inline;vertical-align:middle;\" /></a> : <a class=\"ProveItLink\" href=\"../../axioms/a4fdfc1e2cef2bb7c6d1fd40bfe263bf2d35d59a0/expr.ipynb\"><img src=\"../../axioms/a4fdfc1e2cef2bb7c6d1fd40bfe263bf2d35d59a0/expr.png\" style=\"display:inline;vertical-align:middle;\" /></a></span></td></tr><tr><td><a name=\"proveit.logic.booleans.negation._proof_double_negation_equiv.01219a473af1c348013cf1f10a97505ba688be5c0_step8\">8</a></td><td>theorem</td><td></td><td><span style=\"font-size:20px;\"> <a class=\"ProveItLink\" href=\"../../../_theory_nbs_/proofs/double_negation_intro/thm_proof.ipynb\" style=\"text-decoration: none\">&nbsp;&#x22A2;&nbsp;&nbsp;</a><a class=\"ProveItLink\" href=\"../../theorems/2570d79ec029392f14c749d2c1ace36dc4af39570/expr.ipynb\"><img src=\"../../theorems/2570d79ec029392f14c749d2c1ace36dc4af39570/expr.png\" style=\"display:inline;vertical-align:middle;\" /></a></span></td></tr>\n",
       "<tr><td>&nbsp;</td><td colspan=4 style-\"text-align:left\"><a class=\"ProveItLink\" href=\"../../../_theory_nbs_/proofs/double_negation_intro/thm_proof.ipynb\">proveit.logic.booleans.negation.double_negation_intro</a></td></tr><tr><td><a name=\"proveit.logic.booleans.negation._proof_double_negation_equiv.01219a473af1c348013cf1f10a97505ba688be5c0_step9\">9</a></td><td>axiom</td><td></td><td><span style=\"font-size:20px;\"> <a class=\"ProveItLink\" href=\"../../../../_theory_nbs_/axioms.ipynb#true_axiom\" style=\"text-decoration: none\">&nbsp;&#x22A2;&nbsp;&nbsp;</a><a class=\"ProveItLink\" href=\"../../../../__pv_it/common/373f61d65f7ccc0f6ebbafaccf02f2693d0e3bad0/expr.ipynb\"><img src=\"../../../../__pv_it/common/373f61d65f7ccc0f6ebbafaccf02f2693d0e3bad0/expr.png\" style=\"display:inline;vertical-align:middle;\" /></a></span></td></tr>\n",
       "<tr><td>&nbsp;</td><td colspan=4 style-\"text-align:left\"><a class=\"ProveItLink\" href=\"../../../../_theory_nbs_/axioms.ipynb#true_axiom\">proveit.logic.booleans.true_axiom</a></td></tr><tr><td><a name=\"proveit.logic.booleans.negation._proof_double_negation_equiv.01219a473af1c348013cf1f10a97505ba688be5c0_step10\">10</a></td><td>axiom</td><td></td><td><span style=\"font-size:20px;\"> <a class=\"ProveItLink\" href=\"../../../../_theory_nbs_/axioms.ipynb#eq_true_elim\" style=\"text-decoration: none\">&nbsp;&#x22A2;&nbsp;&nbsp;</a><a class=\"ProveItLink\" href=\"../../../../__pv_it/axioms/ed8b0a27c515b8c85261606f0835dadd8c8b34f70/expr.ipynb\"><img src=\"../../../../__pv_it/axioms/ed8b0a27c515b8c85261606f0835dadd8c8b34f70/expr.png\" style=\"display:inline;vertical-align:middle;\" /></a></span></td></tr>\n",
       "<tr><td>&nbsp;</td><td colspan=4 style-\"text-align:left\"><a class=\"ProveItLink\" href=\"../../../../_theory_nbs_/axioms.ipynb#eq_true_elim\">proveit.logic.booleans.eq_true_elim</a></td></tr><tr><td><a name=\"proveit.logic.booleans.negation._proof_double_negation_equiv.01219a473af1c348013cf1f10a97505ba688be5c0_step11\">11</a></td><td>axiom</td><td></td><td><span style=\"font-size:20px;\"> <a class=\"ProveItLink\" href=\"../../../_theory_nbs_/axioms.ipynb#not_f\" style=\"text-decoration: none\">&nbsp;&#x22A2;&nbsp;&nbsp;</a><a class=\"ProveItLink\" href=\"../../axioms/d87ab8cd9ba5383125dc9d2926712d95b71ba6dc0/expr.ipynb\"><img src=\"../../axioms/d87ab8cd9ba5383125dc9d2926712d95b71ba6dc0/expr.png\" style=\"display:inline;vertical-align:middle;\" /></a></span></td></tr>\n",
       "<tr><td>&nbsp;</td><td colspan=4 style-\"text-align:left\"><a class=\"ProveItLink\" href=\"../../../_theory_nbs_/axioms.ipynb#not_f\">proveit.logic.booleans.negation.not_f</a></td></tr></table>"
      ],
      "text/plain": [
       "<proveit._core_.proof._ShowProof at 0x7f140e6fb780>"
      ]
     },
     "execution_count": 1,
     "metadata": {},
     "output_type": "execute_result"
    }
   ],
   "source": [
    "import proveit\n",
    "# Automation is not needed when only showing a stored proof:\n",
    "proveit.defaults.automation = False # This will speed things up.\n",
    "proveit.defaults.inline_pngs = False # Makes files smaller.\n",
    "%show_proof"
   ]
  },
  {
   "cell_type": "code",
   "execution_count": null,
   "metadata": {},
   "outputs": [],
   "source": []
  }
 ],
 "metadata": {
  "kernelspec": {
   "display_name": "Python 3",
   "language": "python",
   "name": "python3"
  },
  "language_info": {
   "codemirror_mode": {
    "name": "ipython",
    "version": 3
   },
   "file_extension": ".py",
   "mimetype": "text/x-python",
   "name": "python",
   "nbconvert_exporter": "python",
   "pygments_lexer": "ipython3",
   "version": "3.7.3"
  }
 },
 "nbformat": 4,
 "nbformat_minor": 1
}