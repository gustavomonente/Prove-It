{
 "cells": [
  {
   "cell_type": "markdown",
   "metadata": {},
   "source": [
    "Axiom Dependencies\n",
    "=======================\n",
    "\n",
    "## <a class=\"ProveItLink\" href=\"../../../_theory_nbs_/theory.ipynb\">proveit.logic.booleans.negation</a>.<a class=\"ProveItLink\" href=\"../../../_axioms_.ipynb#operand_is_bool\">operand_is_bool</a> \n"
   ]
  },
  {
   "cell_type": "code",
   "execution_count": 1,
   "metadata": {},
   "outputs": [],
   "source": [
    "import proveit\n",
    "# Automation is not needed when querying dependencies:\n",
    "proveit.defaults.automation = False # This will speed things up.\n",
    "proveit.defaults.inline_pngs = False # Makes files smaller.\n",
    "from proveit.logic.booleans.negation import operand_is_bool"
   ]
  },
  {
   "cell_type": "code",
   "execution_count": 2,
   "metadata": {},
   "outputs": [
    {
     "data": {
      "text/html": [
       "<h3>Theorems/conjectures that depend directly on operand_is_bool</h3>"
      ],
      "text/plain": [
       "<IPython.core.display.HTML object>"
      ]
     },
     "metadata": {},
     "output_type": "display_data"
    },
    {
     "data": {
      "text/html": [
       "<dl>"
      ],
      "text/plain": [
       "<IPython.core.display.HTML object>"
      ]
     },
     "metadata": {},
     "output_type": "display_data"
    },
    {
     "data": {
      "text/html": [
       "<dt><a class=\"ProveItLink\" href=\"../../../../conjunction/_theory_nbs_/proofs/binary_closure/thm_proof.ipynb\">proveit.logic.booleans.conjunction.binary_closure</a></dt><dd><a class=\"ProveItLink\" href=\"../../../../conjunction/__pv_it/theorems/a577ce2bfebc29eda648b62e587ecd367813afa70/expr.ipynb\"><img src=\"../../../../conjunction/__pv_it/theorems/a577ce2bfebc29eda648b62e587ecd367813afa70/expr.png\" style=\"display:inline;vertical-align:middle;\" /></a></dd>"
      ],
      "text/plain": [
       "<IPython.core.display.HTML object>"
      ]
     },
     "metadata": {},
     "output_type": "display_data"
    },
    {
     "data": {
      "text/html": [
       "<dt><a class=\"ProveItLink\" href=\"../../../../conjunction/_theory_nbs_/proofs/falsified_and_if_not_left/thm_proof.ipynb\">proveit.logic.booleans.conjunction.falsified_and_if_not_left</a></dt><dd><a class=\"ProveItLink\" href=\"../../../../conjunction/__pv_it/theorems/2116a5ec68c3a7442924f74c38750f1a868b30ce0/expr.ipynb\"><img src=\"../../../../conjunction/__pv_it/theorems/2116a5ec68c3a7442924f74c38750f1a868b30ce0/expr.png\" style=\"display:inline;vertical-align:middle;\" /></a></dd>"
      ],
      "text/plain": [
       "<IPython.core.display.HTML object>"
      ]
     },
     "metadata": {},
     "output_type": "display_data"
    },
    {
     "data": {
      "text/html": [
       "<dt><a class=\"ProveItLink\" href=\"../../../../conjunction/_theory_nbs_/proofs/falsified_and_if_not_right/thm_proof.ipynb\">proveit.logic.booleans.conjunction.falsified_and_if_not_right</a></dt><dd><a class=\"ProveItLink\" href=\"../../../../conjunction/__pv_it/theorems/1c6c0bbcecd395f0d541a225bb12f6100c3353a60/expr.ipynb\"><img src=\"../../../../conjunction/__pv_it/theorems/1c6c0bbcecd395f0d541a225bb12f6100c3353a60/expr.png\" style=\"display:inline;vertical-align:middle;\" /></a></dd>"
      ],
      "text/plain": [
       "<IPython.core.display.HTML object>"
      ]
     },
     "metadata": {},
     "output_type": "display_data"
    },
    {
     "data": {
      "text/html": [
       "<dt><a class=\"ProveItLink\" href=\"../../../../disjunction/_theory_nbs_/proofs/binary_closure/thm_proof.ipynb\">proveit.logic.booleans.disjunction.binary_closure</a></dt><dd><a class=\"ProveItLink\" href=\"../../../../disjunction/__pv_it/theorems/3d47255124ebc6c6039d7873e4deabfd41c0b0520/expr.ipynb\"><img src=\"../../../../disjunction/__pv_it/theorems/3d47255124ebc6c6039d7873e4deabfd41c0b0520/expr.png\" style=\"display:inline;vertical-align:middle;\" /></a></dd>"
      ],
      "text/plain": [
       "<IPython.core.display.HTML object>"
      ]
     },
     "metadata": {},
     "output_type": "display_data"
    },
    {
     "data": {
      "text/html": [
       "<dt><a class=\"ProveItLink\" href=\"../../../../disjunction/_theory_nbs_/proofs/demorgans_law_and_to_or_bin/thm_proof.ipynb\">proveit.logic.booleans.disjunction.demorgans_law_and_to_or_bin</a></dt><dd><a class=\"ProveItLink\" href=\"../../../../disjunction/__pv_it/theorems/97b9131face51724ab6bf7478991b70d2e9cc7890/expr.ipynb\"><img src=\"../../../../disjunction/__pv_it/theorems/97b9131face51724ab6bf7478991b70d2e9cc7890/expr.png\" style=\"display:inline;vertical-align:middle;\" /></a></dd>"
      ],
      "text/plain": [
       "<IPython.core.display.HTML object>"
      ]
     },
     "metadata": {},
     "output_type": "display_data"
    },
    {
     "data": {
      "text/html": [
       "<dt><a class=\"ProveItLink\" href=\"../../../../disjunction/_theory_nbs_/proofs/not_left_if_neither/thm_proof.ipynb\">proveit.logic.booleans.disjunction.not_left_if_neither</a></dt><dd><a class=\"ProveItLink\" href=\"../../../../disjunction/__pv_it/theorems/3ddb48f5ca76c610ddb398eb714351d7f8c78a460/expr.ipynb\"><img src=\"../../../../disjunction/__pv_it/theorems/3ddb48f5ca76c610ddb398eb714351d7f8c78a460/expr.png\" style=\"display:inline;vertical-align:middle;\" /></a></dd>"
      ],
      "text/plain": [
       "<IPython.core.display.HTML object>"
      ]
     },
     "metadata": {},
     "output_type": "display_data"
    },
    {
     "data": {
      "text/html": [
       "<dt><a class=\"ProveItLink\" href=\"../../../../disjunction/_theory_nbs_/proofs/not_right_if_neither/thm_proof.ipynb\">proveit.logic.booleans.disjunction.not_right_if_neither</a></dt><dd><a class=\"ProveItLink\" href=\"../../../../disjunction/__pv_it/theorems/e147b8b9ecd0c24a9de90f199c30f96897968aee0/expr.ipynb\"><img src=\"../../../../disjunction/__pv_it/theorems/e147b8b9ecd0c24a9de90f199c30f96897968aee0/expr.png\" style=\"display:inline;vertical-align:middle;\" /></a></dd>"
      ],
      "text/plain": [
       "<IPython.core.display.HTML object>"
      ]
     },
     "metadata": {},
     "output_type": "display_data"
    },
    {
     "data": {
      "text/html": [
       "<dt><a class=\"ProveItLink\" href=\"../../../../implication/_theory_nbs_/proofs/iff_closure/thm_proof.ipynb\">proveit.logic.booleans.implication.iff_closure</a></dt><dd><a class=\"ProveItLink\" href=\"../../../../implication/__pv_it/theorems/1f787d0f75c82a75a7df908794c330384ea0bec70/expr.ipynb\"><img src=\"../../../../implication/__pv_it/theorems/1f787d0f75c82a75a7df908794c330384ea0bec70/expr.png\" style=\"display:inline;vertical-align:middle;\" /></a></dd>"
      ],
      "text/plain": [
       "<IPython.core.display.HTML object>"
      ]
     },
     "metadata": {},
     "output_type": "display_data"
    },
    {
     "data": {
      "text/html": [
       "<dt><a class=\"ProveItLink\" href=\"../../../../implication/_theory_nbs_/proofs/implication_closure/thm_proof.ipynb\">proveit.logic.booleans.implication.implication_closure</a></dt><dd><a class=\"ProveItLink\" href=\"../../../../implication/__pv_it/theorems/20c630950e3c064091d2d6f48fd94ff1376ae3d60/expr.ipynb\"><img src=\"../../../../implication/__pv_it/theorems/20c630950e3c064091d2d6f48fd94ff1376ae3d60/expr.png\" style=\"display:inline;vertical-align:middle;\" /></a></dd>"
      ],
      "text/plain": [
       "<IPython.core.display.HTML object>"
      ]
     },
     "metadata": {},
     "output_type": "display_data"
    },
    {
     "data": {
      "text/html": [
       "<dt><a class=\"ProveItLink\" href=\"../../../../_theory_nbs_/proofs/in_bool_if_false/thm_proof.ipynb\">proveit.logic.booleans.in_bool_if_false</a></dt><dd><a class=\"ProveItLink\" href=\"../../../../__pv_it/theorems/a5702876333f87ab7a472d7eb87230d41634f5d40/expr.ipynb\"><img src=\"../../../../__pv_it/theorems/a5702876333f87ab7a472d7eb87230d41634f5d40/expr.png\" style=\"display:inline;vertical-align:middle;\" /></a></dd>"
      ],
      "text/plain": [
       "<IPython.core.display.HTML object>"
      ]
     },
     "metadata": {},
     "output_type": "display_data"
    },
    {
     "data": {
      "text/html": [
       "<dt><a class=\"ProveItLink\" href=\"../../../_theory_nbs_/proofs/double_negation_elim/thm_proof.ipynb\">proveit.logic.booleans.negation.double_negation_elim</a></dt><dd><a class=\"ProveItLink\" href=\"../../theorems/5a36acb641a2621cb7630896c3c9d06b6e334b9f0/expr.ipynb\"><img src=\"../../theorems/5a36acb641a2621cb7630896c3c9d06b6e334b9f0/expr.png\" style=\"display:inline;vertical-align:middle;\" /></a></dd>"
      ],
      "text/plain": [
       "<IPython.core.display.HTML object>"
      ]
     },
     "metadata": {},
     "output_type": "display_data"
    },
    {
     "data": {
      "text/html": [
       "</dl>"
      ],
      "text/plain": [
       "<IPython.core.display.HTML object>"
      ]
     },
     "metadata": {},
     "output_type": "display_data"
    }
   ],
   "source": [
    "%dependencies operand_is_bool"
   ]
  }
 ],
 "metadata": {
  "kernelspec": {
   "display_name": "Python 3",
   "language": "python",
   "name": "python3"
  }
 },
 "nbformat": 4,
 "nbformat_minor": 0
}