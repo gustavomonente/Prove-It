{
 "cells": [
  {
   "cell_type": "markdown",
   "metadata": {},
   "source": [
    "Theorems (or conjectures) for the theory of <a class=\"ProveItLink\" href=\"theory.ipynb\">proveit.logic.booleans.negation</a>\n",
    "========"
   ]
  },
  {
   "cell_type": "code",
   "execution_count": 1,
   "metadata": {},
   "outputs": [
    {
     "name": "stdout",
     "output_type": "stream",
     "text": [
      "Defining theorems for theory 'proveit.logic.booleans.negation'\n",
      "Subsequent end-of-cell assignments will define theorems\n",
      "'%end theorems' will finalize the definitions\n"
     ]
    }
   ],
   "source": [
    "import proveit\n",
    "# Prepare this notebook for defining the theorems of a theory:\n",
    "%theorems_notebook # Keep this at the top following 'import proveit'.\n",
    "from proveit.logic import Not, FALSE, Forall, Implies, Equals, TRUE, Or, NotEquals, Boolean, in_bool\n",
    "from proveit import A, B\n",
    "%begin theorems"
   ]
  },
  {
   "cell_type": "code",
   "execution_count": 2,
   "metadata": {},
   "outputs": [
    {
     "data": {
      "text/html": [
       "<strong id=\"not_false\"><a class=\"ProveItLink\" href=\"proofs/not_false/thm_proof.ipynb\">not_false</a> (established theorem):<br></strong> <a class=\"ProveItLink\" href=\"../__pv_it/theorems/8b7e34fc3b6ab5bcdf7b97303d84aac32684ff000/theorem_expr.ipynb\"><img src=\"data:image/png;base64,iVBORw0KGgoAAAANSUhEUgAAABwAAAAOBAMAAADOPWE3AAAAIVBMVEX///8QEBCIiIiqqqrMzMxU\n",
       "VFTc3Nx2dnYiIiJmZmYAAACQPOdZAAAAAXRSTlMAQObYZgAAACVJREFUCNdjYIADZwYUYERl7owO\n",
       "IGhHlU2lgMuCbhHQAsGOjlYA220KwYq1fgIAAAAASUVORK5CYII=\n",
       "\" style=\"display:inline;vertical-align:middle;\" /></a><br>"
      ],
      "text/plain": [
       "not_false: not(FALSE)"
      ]
     },
     "execution_count": 2,
     "metadata": {},
     "output_type": "execute_result"
    }
   ],
   "source": [
    "not_false = Not(FALSE)"
   ]
  },
  {
   "cell_type": "code",
   "execution_count": 3,
   "metadata": {},
   "outputs": [
    {
     "data": {
      "text/html": [
       "<strong id=\"negation_intro\"><a class=\"ProveItLink\" href=\"proofs/negation_intro/thm_proof.ipynb\">negation_intro</a> (established theorem):<br></strong> <a class=\"ProveItLink\" href=\"../__pv_it/theorems/8cf6a97de816f7c881feb264a07832c4bc45f3e00/theorem_expr.ipynb\"><img src=\"data:image/png;base64,iVBORw0KGgoAAAANSUhEUgAAAIUAAAAWBAMAAAAcBkLiAAAAMFBMVEX///8QEBCIiIhmZma6urrM\n",
       "zMxUVFQiIiJERETc3Nzu7u6qqqp2dnaYmJgyMjIAAAAcRTyBAAAAAXRSTlMAQObYZgAAAchJREFU\n",
       "OMtjYCANzEUX2AnED0CMu8QawdWAzGMFamabwMBwGsR5RawZfBNQeB+ApgLNmQFkczYQa8ZlFN69\n",
       "X0DiENCsBQwMPBuINaMSxWObfwLJhQwMvKdWrZpOrBGcBcg8XqYvIA85MDD86OioIdYMJgNknhf3\n",
       "XyDJAxRLZWDoBAtBSBaYCo4JmGZwXED2igPrJ5BrgIHqDA5aIPsLRBlMyX0HhPIEKM0ODDjzciCo\n",
       "AdvG+RlIcQP9x87ABDZ98V8UM7jskeyExRsjzNxpQBxmbPYDlEiAEcxzgR0sfKoYxQye5QYEzACy\n",
       "5aBmcD4IA6c5hQ4UM4I4GjDNYN+AMIMbSBWCvASKq84UkCgbgzmKGQnMBQwZHUBwAckMeJgCzZgN\n",
       "pN5Dw5RhMzjSbzPoI5vBu4HpA6Y7eGD+Y4UklX5g3DEfADL4FUBB+PhM/wIkM9bZnPiFaQYLPI1x\n",
       "9f9bwLDjPzAM+QJAVoL0Mi9gmB+AZIYVA+dXhrx3QIDsF9S0DgHL4SxfoHsuIMxgAbL/YroDLc+B\n",
       "wSF4AvzBwNlfizCjv4FhxndoAPJ0dEh09OBKvJAEipacSSiDcGYJEsvCmwwkm0EUYCZdCwB363LP\n",
       "gacX1AAAAABJRU5ErkJggg==\n",
       "\" style=\"display:inline;vertical-align:middle;\" /></a><br>"
      ],
      "text/plain": [
       "negation_intro: forall_{A | A = FALSE} not(A)"
      ]
     },
     "execution_count": 3,
     "metadata": {},
     "output_type": "execute_result"
    }
   ],
   "source": [
    "negation_intro = Forall(A, Not(A), conditions=[Equals(A, FALSE)])"
   ]
  },
  {
   "cell_type": "code",
   "execution_count": 4,
   "metadata": {},
   "outputs": [
    {
     "data": {
      "text/html": [
       "<strong id=\"negation_contradiction\"><a class=\"ProveItLink\" href=\"proofs/negation_contradiction/thm_proof.ipynb\">negation_contradiction</a> (established theorem):<br></strong> <a class=\"ProveItLink\" href=\"../__pv_it/theorems/e67866ba800765f4e577f60c236190415825e9ba0/theorem_expr.ipynb\"><img src=\"data:image/png;base64,iVBORw0KGgoAAAANSUhEUgAAAGsAAAAWBAMAAAA1LX8gAAAAMFBMVEX///8QEBCIiIhmZma6urrM\n",
       "zMxUVFQiIiJERETc3Nzu7u6qqqp2dnaYmJgyMjIAAAAcRTyBAAAAAXRSTlMAQObYZgAAATRJREFU\n",
       "OMtjYCAPPAARd0nQwLoBRJ4GEa9I0MatACJnADFnA8na+BYwMPBsIFkb76lVq6YzkKyN4UdHRw0Z\n",
       "2lIZGDrBDAjJApPmmICsGMGDanNm4AJHAu8XiDxM+r4DsjYED6qNnYHpAohe/BdFG5f9BSRdSDyo\n",
       "Np4L7GD6VDGKNp7lBkjakHhQbZwPwsCRr9CBoi2IAzkykXhQbQydKSCSjcEcRVsCcwGSNiQeTNtm\n",
       "sMhtBn1kbbwbmD6AHNfR0dEH56Fo4wfRXI/P9C9A0rbO5sQvqDo2JB5zeXmheHl5AshgkHLmBQzz\n",
       "A5C0WTFwfkVoQ+KhAl+grRcQ2liA7L8MMxZAtEF4WADHDwbO/lqEtv4GhhnfLwSCkzgnlIc3yXEg\n",
       "c4jPGcjauCeQpY2X+HzBTJQqAM5TTY2MQblbAAAAAElFTkSuQmCC\n",
       "\" style=\"display:inline;vertical-align:middle;\" /></a><br>"
      ],
      "text/plain": [
       "negation_contradiction: forall_{A | A, not(A)} FALSE"
      ]
     },
     "execution_count": 4,
     "metadata": {},
     "output_type": "execute_result"
    }
   ],
   "source": [
    "negation_contradiction = Forall(A, FALSE, conditions=[A, Not(A)])"
   ]
  },
  {
   "cell_type": "code",
   "execution_count": 5,
   "metadata": {},
   "outputs": [
    {
     "data": {
      "text/html": [
       "<strong id=\"untrue_from_negation\"><a class=\"ProveItLink\" href=\"proofs/untrue_from_negation/thm_proof.ipynb\">untrue_from_negation</a> (established theorem):<br></strong> <a class=\"ProveItLink\" href=\"../__pv_it/theorems/c8d2c00cf93c1c47b18eadc125a48a068fc5e1470/theorem_expr.ipynb\"><img src=\"data:image/png;base64,iVBORw0KGgoAAAANSUhEUgAAAJcAAAAWCAMAAAD6rf42AAAAOVBMVEX///8kJCQNDQ0oKCgQEBCI\n",
       "iIhmZma6urrMzMxUVFQiIiJERETc3Nzu7u6qqqp2dnaYmJgyMjIAAAD9T1yxAAAAAXRSTlMAQObY\n",
       "ZgAAAdBJREFUSMfFltlygCAMRWkrYQn7/39sxTUoIp3SaR4c0YgnF5LA2Hgz4d3H28dXzuRrPMYh\n",
       "jMGySEcyVtHJU9DE1PxAZTDv9vfRjuGKphilmo8SN5X4GViGNnt0BsdgBShGMVXCrfyLcDHPiUyn\n",
       "cL8zTeWyDpKpyCWbXHbKEXmbzehBm76YJzCeRI9cBReL+ZuE2bQfw8XpMgrLXLqnE8oXLg+HqEjk\n",
       "pvdMtCjwtkhIMOz8rUznD31c7OszX6HBFfLOF7DnwP60kL6VDuG+SNqVIZkEPXKVXG7ZDPnCzzAt\n",
       "FNI3uC6ei00nqVQAoNJ1AqnYG5dciosPK9tRijX0cV08r1zr3RRf1/6Bay6+JAbJGWIX19Xzso7b\n",
       "jZ7K/fUxrbtMNbiE3iIg9VflztDFdfUs971x9YIfDXvVK6waOzJ9mKfjqc7lcbVY9zxTnNYxLAur\n",
       "APbOBVvROnPZRvAeae/AqlA1T7IEFlNaGombb4pN+NSFBc2guGVsOJzBLrkt37nunpU+dJcFek4k\n",
       "+oGapv8DV8Wz1rdvh42eQ4vn1027FBuDSYcWl6l7NuvAJldPt7Oxp+H9+Phj8ZdyofkTrtY5WvQc\n",
       "4Lqw2KDj4nCDf/nrN2crFEOHuRxYAAAAAElFTkSuQmCC\n",
       "\" style=\"display:inline;vertical-align:middle;\" /></a><br>"
      ],
      "text/plain": [
       "untrue_from_negation: forall_{A | not(A)} (A != TRUE)"
      ]
     },
     "execution_count": 5,
     "metadata": {},
     "output_type": "execute_result"
    }
   ],
   "source": [
    "untrue_from_negation = Forall(A, NotEquals(A, TRUE), conditions=[Not(A)])"
   ]
  },
  {
   "cell_type": "code",
   "execution_count": 6,
   "metadata": {},
   "outputs": [
    {
     "data": {
      "text/html": [
       "<strong id=\"falsified_negation_intro\"><a class=\"ProveItLink\" href=\"proofs/falsified_negation_intro/thm_proof.ipynb\">falsified_negation_intro</a> (established theorem):<br></strong> <a class=\"ProveItLink\" href=\"../__pv_it/theorems/d0112fce4cc5c17f93b4794ea1aec18e72ab7ada0/theorem_expr.ipynb\"><img src=\"data:image/png;base64,iVBORw0KGgoAAAANSUhEUgAAAKoAAAAWBAMAAACiUBq/AAAAMFBMVEX///8QEBCIiIhmZma6urrM\n",
       "zMxUVFQiIiJERETc3Nzu7u6qqqp2dnaYmJgyMjIAAAAcRTyBAAAAAXRSTlMAQObYZgAAAeZJREFU\n",
       "OMu1lb8vBEEUxx933O6dPQqJ9hJ/wF2i0EhIFCqJSsklKFSI4gokyttCTnc6l1AIyUWiUJLoUGwv\n",
       "5BIUFCgkTiG8Nz93z8xS8JK3+95+Zz47O/NmFuBncwPuEcts2pqT0qDgOpa6J1zbFPq8oWXHIXDl\n",
       "gu6PsdQH4dqe0eumYeaAK1v0ietxUK/APfTkuQbQlbNRUclSg8M4amqTu7aDYUzTPTYqKt75/n41\n",
       "dgKqwrUF+RG83tmopDTL5dVYar9wZcnaCVXEmZWKyhyAz2J+TcoWvgw2hCvbhWnqfcPm8IlZIUJF\n",
       "ZRTSrLq8V/bEkSvyKiEr3BMlslNMRmCbKMfWsaKSgnZW4TsfEapI0XqFsw1RxKKcGVigopm2UlHp\n",
       "ClIsPF+OUEVqoOIctTV+orqNSbYtcuUwVaZ6BhQVyzBFVTUWmtdihEqKP0tRJwyGqTJtWS2kukjN\n",
       "vsjVMo6VlKNFiq4gH6bKVFSQqqIJVrrOO16GrFRSuilM315WapqqUvE9Y/qo+XyETOUNi+C+BYlF\n",
       "stRXKhW54lH3RA22JzRVpcYdy1+8aNs2WhnHMQeaqlLj6QLiDLGYUpwmuJU1RdWp3GX+t7516xY3\n",
       "KM5vTm0wvidGcX75h/GsfxiT4sB/WOIvIF864IStHX9koQAAAABJRU5ErkJggg==\n",
       "\" style=\"display:inline;vertical-align:middle;\" /></a><br>"
      ],
      "text/plain": [
       "falsified_negation_intro: forall_{A | A} (not(A) = FALSE)"
      ]
     },
     "execution_count": 6,
     "metadata": {},
     "output_type": "execute_result"
    }
   ],
   "source": [
    "falsified_negation_intro = Forall(A, Equals(Not(A), FALSE), conditions=[A])"
   ]
  },
  {
   "cell_type": "code",
   "execution_count": 7,
   "metadata": {},
   "outputs": [
    {
     "data": {
      "text/html": [
       "<strong id=\"double_negation_intro\"><a class=\"ProveItLink\" href=\"proofs/double_negation_intro/thm_proof.ipynb\">double_negation_intro</a> (established theorem):<br></strong> <a class=\"ProveItLink\" href=\"../__pv_it/theorems/1cafa87691872ab4c8294e7c575a109ed798f8de0/theorem_expr.ipynb\"><img src=\"data:image/png;base64,iVBORw0KGgoAAAANSUhEUgAAAIoAAAAWBAMAAADtDRlvAAAAMFBMVEX///8QEBCIiIhmZma6urrM\n",
       "zMxUVFQiIiJERETc3Nzu7u6qqqp2dnaYmJgyMjIAAAAcRTyBAAAAAXRSTlMAQObYZgAAAc1JREFU\n",
       "OMudVEFLAkEUfrmau+pah36A0A9Q6BCEoNDBUyAdOqZQHToldOhQgUf3IHrTm0JBYiBCh44FXsI6\n",
       "7D0qoTrkRQ+FFki92bfbztayih984zfOvI+Z994OwFhIqp0k+IvEDps8OLnUbCViE7lLvGXzrpPL\n",
       "m61E9JANYpkdNOtgIkfsJJv1qgCBkMYgk00HF2/RTiLOYzj1zWuU2/V6yelCJVuJUMNxHF+Iw1zu\n",
       "yMll0VYCuKtXrGIt4g6Aov1No9vYJerHz5uBed7lFFKYE3gkroJPq7b8TsHGrqc4/R4CCAcM17wE\n",
       "iEOFJfuS6AWX1ksnI4uLL6Z32ILRcWlegmdraY+VNkUMqF5tqb1vcQmcRRxd8OYzHdNF6mywFU8o\n",
       "Z3FZF7O/NzJCOQnYHF6sMiR0KttsZRaWLS5pIWNNKYZyUkKXYN/MLlxo2+8hzLvITVefVMtId5KX\n",
       "rHXETxyiOudYwXzPd4Uq59KI3nyRSpjFNWXtuwv+wgBT9wpEmUULVagkOZcVkD7GfAFUygyRsIZn\n",
       "Uk0XN+rRmK+RSklfo96oQ5AKx6ZLIQvlgd4wihmj/HPRX4a/ECd/pQxfZRIXpxdTLhLHu0wDYZqg\n",
       "H8j2eoNyIuULAAAAAElFTkSuQmCC\n",
       "\" style=\"display:inline;vertical-align:middle;\" /></a><br>"
      ],
      "text/plain": [
       "double_negation_intro: forall_{A | A} not(not(A))"
      ]
     },
     "execution_count": 7,
     "metadata": {},
     "output_type": "execute_result"
    }
   ],
   "source": [
    "double_negation_intro = Forall(A, Not(Not(A)), conditions=[A])"
   ]
  },
  {
   "cell_type": "code",
   "execution_count": 8,
   "metadata": {},
   "outputs": [
    {
     "data": {
      "text/html": [
       "<strong id=\"double_negation_elim_lemma\"><a class=\"ProveItLink\" href=\"proofs/double_negation_elim_lemma/thm_proof.ipynb\">double_negation_elim_lemma</a> (conjecture with conjecture-based proof):<br></strong> <a class=\"ProveItLink\" href=\"../__pv_it/theorems/d8a97f7b37f8f85d4e6120d7282d20a294ef90b70/theorem_expr.ipynb\"><img src=\"data:image/png;base64,iVBORw0KGgoAAAANSUhEUgAAAIcAAAAWBAMAAAAY85LfAAAAMFBMVEX///8QEBCIiIhmZma6urrM\n",
       "zMxUVFQiIiJERETc3Nzu7u6qqqp2dnaYmJgyMjIAAAAcRTyBAAAAAXRSTlMAQObYZgAAAdtJREFU\n",
       "OMutlL1Lw0AYxh/7YZomqf4FktGthQ7iIBYEcSl0EictqIOTgouDQnFKEVoXUQQxoKhUBEEcxYII\n",
       "fg3ZRSh2c6mDoA6i7921+aJKaT24u+eSJ7977727AP9RKqx56gAwSfWeiZcOIDWqW1TlXPsMrWYC\n",
       "MarqafuQ4+F1It2VSpsdrMaKp6j9MIzlFszrLh12ZMi8tKibBfJ8nPd/l3Jp1ZF5KM6bfUzp1I0g\n",
       "yrdZe6tn6rm6KHLkTveck0nyDbom2k1QJyHAAsLeF0vT1RD08s65HxIu25L5Duzn08l5ZlMtiY/v\n",
       "FmmWtW0Tuq6e+CHdGVsyX6yRoRDQxdYhV8Y5UzfY0qjoevrWD5GcmJhPxE6F1i318kTN8LkwUL8D\n",
       "erIv44c4h4D7lKwYyASJvTJ1tsDaR8QRTYhIghsORDUMo4Ax4IZERfgQyjnsyCdTPWyPotWHohle\n",
       "MoxVlpOAN5JujAqRFT6Eecg4+n6BUnxnU2t08BE0sZtBVkSiBv2QiQZE+ELZpgcyTRFZuOaQsvrg\n",
       "hxw2IMKnlZsxIh+QiyuIUKK05WrB8kJkSKY4+3VfMPXXDemnnNjFtTsB7z2PtX5Bc79o4KI9SNr9\n",
       "QhyF1orbqrh/BQHTa/wBaCt5Pb0SHGYAAAAASUVORK5CYII=\n",
       "\" style=\"display:inline;vertical-align:middle;\" /></a><br>"
      ],
      "text/plain": [
       "double_negation_elim_lemma: forall_{A in BOOLEAN | not(not(A))} A"
      ]
     },
     "execution_count": 8,
     "metadata": {},
     "output_type": "execute_result"
    }
   ],
   "source": [
    "double_negation_elim_lemma = Forall(A, A, conditions=[Not(Not(A))],\n",
    "                                domain=Boolean)"
   ]
  },
  {
   "cell_type": "code",
   "execution_count": 9,
   "metadata": {},
   "outputs": [
    {
     "data": {
      "text/html": [
       "<strong id=\"double_negation_elim\"><a class=\"ProveItLink\" href=\"proofs/double_negation_elim/thm_proof.ipynb\">double_negation_elim</a> (conjecture with conjecture-based proof):<br></strong> <a class=\"ProveItLink\" href=\"../__pv_it/theorems/94bbbeec7153bc27713245788e8ea9335bf544b40/theorem_expr.ipynb\"><img src=\"data:image/png;base64,iVBORw0KGgoAAAANSUhEUgAAAHEAAAAWBAMAAAAFoW4BAAAAMFBMVEX///8QEBCIiIhmZma6urrM\n",
       "zMxUVFQiIiJERETc3Nzu7u6qqqp2dnaYmJgyMjIAAAAcRTyBAAAAAXRSTlMAQObYZgAAAXpJREFU\n",
       "OMtjYCAbPAARd0nVFQfEp0GMV6TqfA/EM4CYs4FEjbzvFzAw8AExzwYSda62nwDUfmrVqumkOvaC\n",
       "vgOQ/NHRUYNLxQRkTgCcxbJg/wUglcrA0AnmQ0gWJLU8CCZQcgucs4QhXgFIOTNwgWOG9wtYlANJ\n",
       "ZyYiSICSzHAXODDMNwBS7AxMIKsZFv9F18l6AM4ESXIlwMSTjfNBscFzgR3MP1WMrpMN4TOw5EuY\n",
       "NxkYGEHO5HwQBjZIoQNdJzvCdrCkLpQHjEN2AbDnU8AWMJij60REFkRyG4TDCdTJ9wHE2lwAIm8z\n",
       "6CN08nR0dPQxeDAwnAAyHsAkPRAGcvwEsfhBIcz1+Ez/AhQ72RjcIIwEmGQcmLvi/ysG7v7voMDl\n",
       "BelgXsAwPwBNZwRMJ1TSDWtq8QXafQFN53KYTqjkHWwaOX4wcPbXoujkZGBfAEmCMEkT/IkZKWyZ\n",
       "NmApBIjSyYCabbkvEK/TF0VmMYGsx4xsC0ou00JVCAC211tZTJMxOwAAAABJRU5ErkJggg==\n",
       "\" style=\"display:inline;vertical-align:middle;\" /></a><br>"
      ],
      "text/plain": [
       "double_negation_elim: forall_{A | not(not(A))} A"
      ]
     },
     "execution_count": 9,
     "metadata": {},
     "output_type": "execute_result"
    }
   ],
   "source": [
    "double_negation_elim = Forall(A, A, conditions=[Not(Not(A))])"
   ]
  },
  {
   "cell_type": "code",
   "execution_count": 10,
   "metadata": {},
   "outputs": [
    {
     "data": {
      "text/html": [
       "<strong id=\"closure\"><a class=\"ProveItLink\" href=\"proofs/closure/thm_proof.ipynb\">closure</a> (conjecture with conjecture-based proof):<br></strong> <a class=\"ProveItLink\" href=\"../__pv_it/theorems/82d7f2c1924322688b0d60ece212c0416519b3750/theorem_expr.ipynb\"><img src=\"data:image/png;base64,iVBORw0KGgoAAAANSUhEUgAAAJsAAAAUBAMAAABoqVKyAAAAMFBMVEX///8QEBCIiIhmZma6urrM\n",
       "zMxUVFQiIiJERETc3Nzu7u6qqqp2dnaYmJgyMjIAAAAcRTyBAAAAAXRSTlMAQObYZgAAAmtJREFU\n",
       "OMudVD1oFEEUft7e3+7tbVIE0oUBG7sEU9goBlIcBAJbpTQHRjCVJykiGOVI4x6id02ICJKVCIaE\n",
       "HAciYuWRQ9CYYlvRyOFpYQqTQjAWGt+bmZvdjTcp/OAt8/P2m/cPcCLMQEgMuVpv5ZcobVrs6ujW\n",
       "pIS4hDIbV0pc9/4MzgCk8Zl3dLCno/smJcQ+Sv2YlpNia6sBWGjaA3KprGHLjwiJnOz7ADaLq2WT\n",
       "QcJFji1kpuuGhi5TExJi4yJurX7JfWf+tqTLNZDuMR5tr68v63xdlhIiGB7D7xe+Ti36yjp7Aukc\n",
       "vDv0vAUd3WkpCkn/FeW5xTd1P3S2MOWilxiXKwAVflj5l+6eFIUnME1x+8Q3s2HsBo8GyHnMxTjP\n",
       "CK5/yIB87sx1Y3lTiDFPaOJmDFYoMy/4bTmSCnsXr3MlDDUkeJ2u/qZIty4Aaz56LvUGpPCKLmK0\n",
       "Lo9eI5JpHrqh7whJB+VJPDlAh4MMV9+eQ8vuPvSBMXtTQ5cEONXu0plR66CcFnRme4q/xTxyHMHY\n",
       "5Nu4s4oOg5ChIinwk/4oXdHB10qUghk6SsM52XFsdMjtkQqkM5HOOVCpOBuz7qNIBTwjTvgAw2CN\n",
       "COuMJanXUkWBcHkJZn/h57wo8oZqsqbdQuMNylYfpd7q7FT91A3PW6TYJaReQTnG58HRHuSqP/HN\n",
       "r3xvXZ2IjQBwyKs8VaPhw4oLRWGdbWibTPCUZFG/EU3WxVO1wjT3BfCa0zXtHe0I4Dg+ArrYUsE8\n",
       "BLN6C7IYjfxC574amJWe3VLvzSbaIYozGLuTx6emHblNNYD/GO55zW/vAf4C0m6ni8+oVXgAAAAA\n",
       "SUVORK5CYII=\n",
       "\" style=\"display:inline;vertical-align:middle;\" /></a><br>"
      ],
      "text/plain": [
       "closure: forall_{A in BOOLEAN} (not(A) in BOOLEAN)"
      ]
     },
     "execution_count": 10,
     "metadata": {},
     "output_type": "execute_result"
    }
   ],
   "source": [
    "closure = Forall(A, in_bool(Not(A)), domain=Boolean)"
   ]
  },
  {
   "cell_type": "code",
   "execution_count": 11,
   "metadata": {},
   "outputs": [
    {
     "data": {
      "text/html": [
       "<strong id=\"double_neg_closure\"><a class=\"ProveItLink\" href=\"proofs/double_neg_closure/thm_proof.ipynb\">double_neg_closure</a> (conjecture with conjecture-based proof):<br></strong> <a class=\"ProveItLink\" href=\"../__pv_it/theorems/97a29434f8b3394e87e891236f791b1347d2097b0/theorem_expr.ipynb\"><img src=\"data:image/png;base64,iVBORw0KGgoAAAANSUhEUgAAALkAAAAUBAMAAAAjAYFfAAAAMFBMVEX///8QEBCIiIhmZma6urrM\n",
       "zMxUVFQiIiJERETc3Nzu7u6qqqp2dnaYmJgyMjIAAAAcRTyBAAAAAXRSTlMAQObYZgAAApJJREFU\n",
       "OMulVT1oFFEQ/ryf3N/eJUUgXViwsUswhY1iwCIQCFyV0hwYQStPUkQwypHGPUTvGokIkpUIhohy\n",
       "ICJWHjkEjSm2FY0cnhamMCkEY6FxZt/c7luzqwd+8C0zb99+b97Me7PAX5FxFDU3gFxdMQzPiW02\n",
       "tqLUV4Wa6+M08bxQQ+yi9WtoFuijVd/wwHaU+heh5vrYIT4W6igkzdUVB1kK/DZvuBIhnh9V1Fzt\n",
       "5Y4NGKaijnTCiRVJcp0W4imNCPVUXVFzfTw8SW52QNFd7tr8VVHPNUj9Hg1trK0tRSVmSai5PpyR\n",
       "cXp+EgLJRduL3Zgk9QK937OshSj1w0LN9ZCwX/AJagkp/bafmYnpIqWEEnkWqLqD1YPqN4Sa6+E+\n",
       "ZjjfH4Ta0UknhvYHOVNU1lNuccn+Jtn72Jnr1uGyYnye0dRNYBzLXORnQqCiVdXYoim5MpUKMfeO\n",
       "rPzkSrVOwGzefSrzBoXuTSrpJpJnxi6w3owQyeGvBFFHZYpGdik7Tsr9ZGOO4r5+x4ZpGo/+rZ4A\n",
       "DrV19YweOyp9Sj3TnnaXNi3OEsE0p14HM9OV1ExQ8lJ8EieEwICuXipQAGWu5iwP9eGYtAVzbLgY\n",
       "UlWS1MwMqRd2A1U9Goj9vaoqnvASeIcRZEdV7PFbMs8/boSibvLRT/+gx3EhbaXhdYKm0aLtxbn4\n",
       "/Xywsp3Nmp28ZFmLnPeYzPO37bnSzva3kat9p2g+Q5Ekzk0GuhgKnII834K4jeUiSip2I95LJ1CS\n",
       "ZUX3fr1SnaCLB55FB6jfwUtXvWls9tLFXIR1sS7WvULsIVO7gjSlLr/Quen9JKrBO3zwOod14O62\n",
       "2n+OHKG89/z3CFk+0IjrwP/9+fJ1xTC8BX4Da5PBXz4XT5AAAAAASUVORK5CYII=\n",
       "\" style=\"display:inline;vertical-align:middle;\" /></a><br>"
      ],
      "text/plain": [
       "double_neg_closure: forall_{A in BOOLEAN} (not(not(A)) in BOOLEAN)"
      ]
     },
     "execution_count": 11,
     "metadata": {},
     "output_type": "execute_result"
    }
   ],
   "source": [
    "double_neg_closure = Forall(A, in_bool(Not(Not(A))), domain=Boolean)"
   ]
  },
  {
   "cell_type": "code",
   "execution_count": 12,
   "metadata": {},
   "outputs": [
    {
     "data": {
      "text/html": [
       "<strong id=\"double_negation_equiv\"><a class=\"ProveItLink\" href=\"proofs/double_negation_equiv/thm_proof.ipynb\">double_negation_equiv</a> (conjecture with conjecture-based proof):<br></strong> <a class=\"ProveItLink\" href=\"../__pv_it/theorems/b9875aa2cbb94f2c4970adb7882c4e5d4d8db86b0/theorem_expr.ipynb\"><img src=\"data:image/png;base64,iVBORw0KGgoAAAANSUhEUgAAAL4AAAAUBAMAAADB3ZomAAAAMFBMVEX///8QEBCIiIhmZma6urrM\n",
       "zMxUVFQiIiJERETc3Nzu7u6qqqp2dnaYmJgyMjIAAAAcRTyBAAAAAXRSTlMAQObYZgAAAihJREFU\n",
       "OMulVTFIG1EY/pvEJjnv0g7OcuDSzYBDF0Whg5OQyVED1qFTAw4VTEGcLogmS1EE8aAOolQKRRwN\n",
       "hA6mGbIXS2jawQyNQ6F2EPv+9/7c/Ze71wb6wXf3/+97+fPuf//7H8BfkW4qMjeA4YpiNFBpoXGl\n",
       "m3FEZK6PBcEXxDBI/YR2Rxf/mshcH13BU2IYpO7iZ69rwltZReYysesCmLZi+KekZvD1XhM/WVFk\n",
       "ro+TaeEajxVD6KlW/fh4R5eeHSJzfTTHZ8TzG7EfnnrrOEVd/DEicz0k3AusphqxD766DFCSQ6Xw\n",
       "rC0icz0cwiLm/QsRzB8S2X71GRiyRq2ftDFf2yu9/VhTjL9CVLkJMAMHGOuc2AdfTUJMnpq3d7gr\n",
       "tSmwq/tnNGuEKM9WnpswtDTxEstukRgEU81mUg7VV8TaN/dcsG3z3b/jJwAetLTxmZpuzct/tB3M\n",
       "lYBtz10G89MLykwQKUxiXc4Se/nPyxlcLT3HkYfwlJqFPTGai9hfEZSZaREhc8P3N9C2uPqhgEOf\n",
       "YRyMrFp//A3NCxRfjpt4FFK/xWOSGDo3nvoIC8loN8ru0KrjbGD+YzTP+3jfpUZ334Hh8i+xnu+g\n",
       "GOiKAdUSHQLiLhzkIK/Wb8YH6Q8SRkExGr4yJ76jCR9l/KrZGKS/SWj7m6dKpG4hXX4NKbEvVrG9\n",
       "7V0jpeC5Dh9xfX+GKOWJyP/A90vEAiLU/7ofrYqi5vqowB/KOreAdwRa7wAAAABJRU5ErkJggg==\n",
       "\" style=\"display:inline;vertical-align:middle;\" /></a><br>"
      ],
      "text/plain": [
       "double_negation_equiv: forall_{A in BOOLEAN} (not(not(A)) = A)"
      ]
     },
     "execution_count": 12,
     "metadata": {},
     "output_type": "execute_result"
    }
   ],
   "source": [
    "double_negation_equiv = Forall(A, Equals(Not(Not(A)), A), domain=Boolean)"
   ]
  },
  {
   "cell_type": "code",
   "execution_count": 13,
   "metadata": {},
   "outputs": [
    {
     "name": "stdout",
     "output_type": "stream",
     "text": [
      "These theorems may now be imported from the theory package: proveit.logic.booleans.negation\n"
     ]
    }
   ],
   "source": [
    "%end theorems"
   ]
  },
  {
   "cell_type": "code",
   "execution_count": null,
   "metadata": {},
   "outputs": [],
   "source": []
  }
 ],
 "metadata": {
  "kernelspec": {
   "display_name": "Python 3",
   "language": "python",
   "name": "python3"
  }
 },
 "nbformat": 4,
 "nbformat_minor": 0
}