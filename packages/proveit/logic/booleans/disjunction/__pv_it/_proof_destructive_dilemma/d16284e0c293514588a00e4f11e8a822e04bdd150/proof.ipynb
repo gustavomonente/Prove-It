{
 "cells": [
  {
   "cell_type": "markdown",
   "metadata": {},
   "source": [
    "Show the Proof\n",
    "========"
   ]
  },
  {
   "cell_type": "code",
   "execution_count": 1,
   "metadata": {},
   "outputs": [
    {
     "data": {
      "text/html": [
       "<table><tr><th>&nbsp;</th><th>step type</th><th>requirements</th><th>statement</th></tr>\n",
       "<tr><td><a name=\"proveit.logic.booleans.disjunction._proof_destructive_dilemma.d16284e0c293514588a00e4f11e8a822e04bdd150_step0\">0</a></td><td>instantiation</td><td><a href=\"#proveit.logic.booleans.disjunction._proof_destructive_dilemma.d16284e0c293514588a00e4f11e8a822e04bdd150_step1\">1</a>, <a href=\"#proveit.logic.booleans.disjunction._proof_destructive_dilemma.d16284e0c293514588a00e4f11e8a822e04bdd150_step2\">2</a>, <a href=\"#proveit.logic.booleans.disjunction._proof_destructive_dilemma.d16284e0c293514588a00e4f11e8a822e04bdd150_step3\">3</a></td><td><span style=\"font-size:20px;\"><a class=\"ProveItLink\" href=\"../../theorems/c2aa04bf99ae24ec8b0363b3be1acdac5538f46b0/expr.ipynb\"><img src=\"../../theorems/c2aa04bf99ae24ec8b0363b3be1acdac5538f46b0/expr.png\" style=\"display:inline;vertical-align:middle;\" /></a>, <a class=\"ProveItLink\" href=\"../../axioms/67501eb487d67b93f0ec3f6965561f782e470d670/expr.ipynb\"><img src=\"../../axioms/67501eb487d67b93f0ec3f6965561f782e470d670/expr.png\" style=\"display:inline;vertical-align:middle;\" /></a> <a class=\"ProveItLink\" href=\"proof.ipynb\" style=\"text-decoration: none\">&nbsp;&#x22A2;&nbsp;&nbsp;</a><a class=\"ProveItLink\" href=\"../38362a7f0740787c80a673f819165c7e26288e8c0/expr.ipynb\"><img src=\"../38362a7f0740787c80a673f819165c7e26288e8c0/expr.png\" style=\"display:inline;vertical-align:middle;\" /></a></span></td></tr>\n",
       "<tr><td>&nbsp;</td><td colspan=4 style=\"text-align:left\"><span style=\"font-size:20px;\"><a class=\"ProveItLink\" href=\"../../../../../../__pv_it/common/e4aad701f7f5516d8e7f0d805d518bf02c13322a0/expr.ipynb\"><img src=\"../../../../../../__pv_it/common/e4aad701f7f5516d8e7f0d805d518bf02c13322a0/expr.png\" style=\"display:inline;vertical-align:middle;\" /></a> : <a class=\"ProveItLink\" href=\"../../../../../../__pv_it/common/4eca3b30dcf58a58494e201d1b7886d8643a617b0/expr.ipynb\"><img src=\"../../../../../../__pv_it/common/4eca3b30dcf58a58494e201d1b7886d8643a617b0/expr.png\" style=\"display:inline;vertical-align:middle;\" /></a>, <a class=\"ProveItLink\" href=\"../../../../../../__pv_it/common/4eca3b30dcf58a58494e201d1b7886d8643a617b0/expr.ipynb\"><img src=\"../../../../../../__pv_it/common/4eca3b30dcf58a58494e201d1b7886d8643a617b0/expr.png\" style=\"display:inline;vertical-align:middle;\" /></a> : <a class=\"ProveItLink\" href=\"../../../../../../__pv_it/common/e5e296931d7f88d2c0ed4dd1b8498a680788952f0/expr.ipynb\"><img src=\"../../../../../../__pv_it/common/e5e296931d7f88d2c0ed4dd1b8498a680788952f0/expr.png\" style=\"display:inline;vertical-align:middle;\" /></a></span></td></tr><tr><td><a name=\"proveit.logic.booleans.disjunction._proof_destructive_dilemma.d16284e0c293514588a00e4f11e8a822e04bdd150_step1\">1</a></td><td>theorem</td><td></td><td><span style=\"font-size:20px;\"> <a class=\"ProveItLink\" href=\"../../../../implication/_theory_nbs_/proofs/to_contraposition/thm_proof.ipynb\" style=\"text-decoration: none\">&nbsp;&#x22A2;&nbsp;&nbsp;</a><a class=\"ProveItLink\" href=\"../../../../implication/__pv_it/theorems/045779f82aab7f735b5cbb778680ff678c3eda240/expr.ipynb\"><img src=\"../../../../implication/__pv_it/theorems/045779f82aab7f735b5cbb778680ff678c3eda240/expr.png\" style=\"display:inline;vertical-align:middle;\" /></a></span></td></tr>\n",
       "<tr><td>&nbsp;</td><td colspan=4 style-\"text-align:left\"><a class=\"ProveItLink\" href=\"../../../../implication/_theory_nbs_/proofs/to_contraposition/thm_proof.ipynb\">proveit.logic.booleans.implication.to_contraposition</a></td></tr><tr><td><a name=\"proveit.logic.booleans.disjunction._proof_destructive_dilemma.d16284e0c293514588a00e4f11e8a822e04bdd150_step2\">2</a></td><td>assumption</td><td></td><td><span style=\"font-size:20px;\"><a class=\"ProveItLink\" href=\"../../theorems/c2aa04bf99ae24ec8b0363b3be1acdac5538f46b0/expr.ipynb\"><img src=\"../../theorems/c2aa04bf99ae24ec8b0363b3be1acdac5538f46b0/expr.png\" style=\"display:inline;vertical-align:middle;\" /></a> <a class=\"ProveItLink\" href=\"../838cdcee07e4140e11fa1d10472a07c4d548eea30/proof.ipynb\" style=\"text-decoration: none\">&nbsp;&#x22A2;&nbsp;&nbsp;</a><a class=\"ProveItLink\" href=\"../../theorems/c2aa04bf99ae24ec8b0363b3be1acdac5538f46b0/expr.ipynb\"><img src=\"../../theorems/c2aa04bf99ae24ec8b0363b3be1acdac5538f46b0/expr.png\" style=\"display:inline;vertical-align:middle;\" /></a></span></td></tr>\n",
       "<tr><td><a name=\"proveit.logic.booleans.disjunction._proof_destructive_dilemma.d16284e0c293514588a00e4f11e8a822e04bdd150_step3\">3</a></td><td>assumption</td><td></td><td><span style=\"font-size:20px;\"><a class=\"ProveItLink\" href=\"../../axioms/67501eb487d67b93f0ec3f6965561f782e470d670/expr.ipynb\"><img src=\"../../axioms/67501eb487d67b93f0ec3f6965561f782e470d670/expr.png\" style=\"display:inline;vertical-align:middle;\" /></a> <a class=\"ProveItLink\" href=\"../26576d970443a788b3e377203709abd56423f3c30/proof.ipynb\" style=\"text-decoration: none\">&nbsp;&#x22A2;&nbsp;&nbsp;</a><a class=\"ProveItLink\" href=\"../../axioms/67501eb487d67b93f0ec3f6965561f782e470d670/expr.ipynb\"><img src=\"../../axioms/67501eb487d67b93f0ec3f6965561f782e470d670/expr.png\" style=\"display:inline;vertical-align:middle;\" /></a></span></td></tr>\n",
       "</table>"
      ],
      "text/plain": [
       "<proveit._core_.proof._ShowProof at 0x7ff5f2bb9f28>"
      ]
     },
     "execution_count": 1,
     "metadata": {},
     "output_type": "execute_result"
    }
   ],
   "source": [
    "import proveit\n",
    "# Automation is not needed when only showing a stored proof:\n",
    "proveit.defaults.automation = False # This will speed things up.\n",
    "proveit.defaults.inline_pngs = False # Makes files smaller.\n",
    "%show_proof"
   ]
  },
  {
   "cell_type": "code",
   "execution_count": null,
   "metadata": {},
   "outputs": [],
   "source": []
  }
 ],
 "metadata": {
  "kernelspec": {
   "display_name": "Python 3",
   "language": "python",
   "name": "python3"
  },
  "language_info": {
   "codemirror_mode": {
    "name": "ipython",
    "version": 3
   },
   "file_extension": ".py",
   "mimetype": "text/x-python",
   "name": "python",
   "nbconvert_exporter": "python",
   "pygments_lexer": "ipython3",
   "version": "3.7.3"
  }
 },
 "nbformat": 4,
 "nbformat_minor": 1
}