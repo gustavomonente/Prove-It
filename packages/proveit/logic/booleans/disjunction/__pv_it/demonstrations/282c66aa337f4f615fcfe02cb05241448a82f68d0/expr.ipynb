{
 "cells": [
  {
   "cell_type": "markdown",
   "metadata": {},
   "source": [
    "Expression of type <a class=\"ProveItLink\" href=\"../../../../../../../../doc/html/api/proveit.ExprTuple.html\">ExprTuple</a>\n",
    "=======================\n",
    "# from the theory of <a class=\"ProveItLink\" href=\"../../../_theory_nbs_/theory.ipynb\">proveit.logic.booleans.disjunction</a>"
   ]
  },
  {
   "cell_type": "code",
   "execution_count": 1,
   "metadata": {},
   "outputs": [],
   "source": [
    "import proveit\n",
    "# Automation is not needed when building an expression:\n",
    "proveit.defaults.automation = False # This will speed things up.\n",
    "proveit.defaults.inline_pngs = False # Makes files smaller.\n",
    "%load_expr # Load the stored expression as 'stored_expr'\n",
    "# import Expression classes needed to build the expression\n",
    "from proveit import ExprTuple, H, I, J, K\n",
    "from proveit.logic import Not"
   ]
  },
  {
   "cell_type": "code",
   "execution_count": 2,
   "metadata": {},
   "outputs": [
    {
     "data": {
      "text/html": [
       "<strong id=\"expr\">expr:</strong> <a class=\"ProveItLink\" href=\"expr.ipynb\"><img src=\"expr.png\" style=\"display:inline;vertical-align:middle;\" /></a><br>"
      ],
      "text/plain": [
       "expr: (not(H), not(I), not(J), not(K))"
      ]
     },
     "execution_count": 2,
     "metadata": {},
     "output_type": "execute_result"
    }
   ],
   "source": [
    "# build up the expression from sub-expressions\n",
    "expr = ExprTuple(Not(H), Not(I), Not(J), Not(K))"
   ]
  },
  {
   "cell_type": "code",
   "execution_count": 3,
   "metadata": {},
   "outputs": [
    {
     "name": "stdout",
     "output_type": "stream",
     "text": [
      "Passed sanity check: expr matches stored_expr\n"
     ]
    }
   ],
   "source": [
    "# check that the built expression is the same as the stored expression\n",
    "assert expr == stored_expr\n",
    "assert expr._style_id == stored_expr._style_id\n",
    "print(\"Passed sanity check: expr matches stored_expr\")"
   ]
  },
  {
   "cell_type": "code",
   "execution_count": 4,
   "metadata": {},
   "outputs": [
    {
     "name": "stdout",
     "output_type": "stream",
     "text": [
      "\\left(\\lnot H, \\lnot I, \\lnot J, \\lnot K\\right)\n"
     ]
    }
   ],
   "source": [
    "# Show the LaTeX representation of the expression for convenience if you need it.\n",
    "print(expr.latex())"
   ]
  },
  {
   "cell_type": "code",
   "execution_count": 5,
   "metadata": {},
   "outputs": [
    {
     "data": {
      "text/html": [
       "<table>\n",
       "<tr><th>name</th><th>description</th><th>default</th><th>current value</th><th>related methods</th></tr><tr><td>wrap_positions</td><td>position(s) at which wrapping is to occur; 'n' is after the nth comma.</td><td>()</td><td>()</td><td>('with_wrapping_at',)</td></tr>\n",
       "<tr><td>justification</td><td>if any wrap positions are set, justify to the 'left', 'center', or 'right'</td><td>left</td><td>left</td><td>('with_justification',)</td></tr>\n",
       "</table>\n"
      ],
      "text/plain": [
       "style name: wrap_positions\n",
       "description: position(s) at which wrapping is to occur; 'n' is after the nth comma.\n",
       "default: ()\n",
       "current value: ()\n",
       "related methods: ('with_wrapping_at',)\n",
       "style name: justification\n",
       "description: if any wrap positions are set, justify to the 'left', 'center', or 'right'\n",
       "default: left\n",
       "current value: left\n",
       "related methods: ('with_justification',)"
      ]
     },
     "execution_count": 5,
     "metadata": {},
     "output_type": "execute_result"
    }
   ],
   "source": [
    "expr.style_options()"
   ]
  },
  {
   "cell_type": "code",
   "execution_count": 6,
   "metadata": {},
   "outputs": [
    {
     "data": {
      "text/html": [
       "<table><tr><th>&nbsp;</th><th>core type</th><th>sub-expressions</th><th>expression</th></tr>\n",
       "<tr><td>0</td><td>ExprTuple</td><td>1, 2, 3, 4</td><td><a class=\"ProveItLink\" href=\"expr.ipynb\"><img src=\"expr.png\" style=\"display:inline;vertical-align:middle;\" /></a></td></tr>\n",
       "<tr><td>1</td><td>Operation</td><td>operator:&nbsp;8<br>operand:&nbsp;10<br></td><td><a class=\"ProveItLink\" href=\"../e646dcec0f02e434cdf782caa5ac532ffc6811ca0/expr.ipynb\"><img src=\"../e646dcec0f02e434cdf782caa5ac532ffc6811ca0/expr.png\" style=\"display:inline;vertical-align:middle;\" /></a></td></tr>\n",
       "<tr><td>2</td><td>Operation</td><td>operator:&nbsp;8<br>operand:&nbsp;11<br></td><td><a class=\"ProveItLink\" href=\"../92ddb486c79c4667842157cf7a70dbbbcc830f1c0/expr.ipynb\"><img src=\"../92ddb486c79c4667842157cf7a70dbbbcc830f1c0/expr.png\" style=\"display:inline;vertical-align:middle;\" /></a></td></tr>\n",
       "<tr><td>3</td><td>Operation</td><td>operator:&nbsp;8<br>operand:&nbsp;12<br></td><td><a class=\"ProveItLink\" href=\"../13c32037b35d5597ca0b7569b00cb55084aa5c420/expr.ipynb\"><img src=\"../13c32037b35d5597ca0b7569b00cb55084aa5c420/expr.png\" style=\"display:inline;vertical-align:middle;\" /></a></td></tr>\n",
       "<tr><td>4</td><td>Operation</td><td>operator:&nbsp;8<br>operand:&nbsp;13<br></td><td><a class=\"ProveItLink\" href=\"../20fc4098a307eb9664da60583de7d637bad521290/expr.ipynb\"><img src=\"../20fc4098a307eb9664da60583de7d637bad521290/expr.png\" style=\"display:inline;vertical-align:middle;\" /></a></td></tr>\n",
       "<tr><td>5</td><td>ExprTuple</td><td>10</td><td><a class=\"ProveItLink\" href=\"../80f251ce4f1b476fb59b6d83cb8d468dc32ee00b0/expr.ipynb\"><img src=\"../80f251ce4f1b476fb59b6d83cb8d468dc32ee00b0/expr.png\" style=\"display:inline;vertical-align:middle;\" /></a></td></tr>\n",
       "<tr><td>6</td><td>ExprTuple</td><td>11</td><td><a class=\"ProveItLink\" href=\"../de8dbd1793d398ff0389c98a390adfe27473b9820/expr.ipynb\"><img src=\"../de8dbd1793d398ff0389c98a390adfe27473b9820/expr.png\" style=\"display:inline;vertical-align:middle;\" /></a></td></tr>\n",
       "<tr><td>7</td><td>ExprTuple</td><td>12</td><td><a class=\"ProveItLink\" href=\"../1ac273f3c8350bfd9aed465a6607cebef6854ad70/expr.ipynb\"><img src=\"../1ac273f3c8350bfd9aed465a6607cebef6854ad70/expr.png\" style=\"display:inline;vertical-align:middle;\" /></a></td></tr>\n",
       "<tr><td>8</td><td>Literal</td><td></td><td><a class=\"ProveItLink\" href=\"../../../../negation/__pv_it/common/44cff78c6737753417865a5233f827322c0f04ad0/expr.ipynb\"><img src=\"../../../../negation/__pv_it/common/44cff78c6737753417865a5233f827322c0f04ad0/expr.png\" style=\"display:inline;vertical-align:middle;\" /></a></td></tr>\n",
       "<tr><td>9</td><td>ExprTuple</td><td>13</td><td><a class=\"ProveItLink\" href=\"../a48faa19b062cc7d487669d3a61e82286f7b7b620/expr.ipynb\"><img src=\"../a48faa19b062cc7d487669d3a61e82286f7b7b620/expr.png\" style=\"display:inline;vertical-align:middle;\" /></a></td></tr>\n",
       "<tr><td>10</td><td>Variable</td><td></td><td><a class=\"ProveItLink\" href=\"../../../../../../__pv_it/common/8e7eaddc606b500c41ae9dfe0dcdc76b16b24fea0/expr.ipynb\"><img src=\"../../../../../../__pv_it/common/8e7eaddc606b500c41ae9dfe0dcdc76b16b24fea0/expr.png\" style=\"display:inline;vertical-align:middle;\" /></a></td></tr>\n",
       "<tr><td>11</td><td>Variable</td><td></td><td><a class=\"ProveItLink\" href=\"../../../../../../__pv_it/common/8909118354b2d3d197900d8738a63ccf006966600/expr.ipynb\"><img src=\"../../../../../../__pv_it/common/8909118354b2d3d197900d8738a63ccf006966600/expr.png\" style=\"display:inline;vertical-align:middle;\" /></a></td></tr>\n",
       "<tr><td>12</td><td>Variable</td><td></td><td><a class=\"ProveItLink\" href=\"../../../../../../__pv_it/common/775f5d926fdbb1ace09fe0b4cfd6f76f9914e4160/expr.ipynb\"><img src=\"../../../../../../__pv_it/common/775f5d926fdbb1ace09fe0b4cfd6f76f9914e4160/expr.png\" style=\"display:inline;vertical-align:middle;\" /></a></td></tr>\n",
       "<tr><td>13</td><td>Variable</td><td></td><td><a class=\"ProveItLink\" href=\"../../../../../../__pv_it/common/648c57b9e2d27205a304a62ce70bcf921c30fb7c0/expr.ipynb\"><img src=\"../../../../../../__pv_it/common/648c57b9e2d27205a304a62ce70bcf921c30fb7c0/expr.png\" style=\"display:inline;vertical-align:middle;\" /></a></td></tr>\n",
       "</table>\n"
      ],
      "text/plain": [
       "0. (not(H), not(I), not(J), not(K))\n",
       "   core type: ExprTuple\n",
       "   sub-expressions: 1, 2, 3, 4\n",
       "1. not(H)\n",
       "   core type: Operation\n",
       "   operator: 8\n",
       "   operand: 10\n",
       "2. not(I)\n",
       "   core type: Operation\n",
       "   operator: 8\n",
       "   operand: 11\n",
       "3. not(J)\n",
       "   core type: Operation\n",
       "   operator: 8\n",
       "   operand: 12\n",
       "4. not(K)\n",
       "   core type: Operation\n",
       "   operator: 8\n",
       "   operand: 13\n",
       "5. (H)\n",
       "   core type: ExprTuple\n",
       "   sub-expressions: 10\n",
       "6. (I)\n",
       "   core type: ExprTuple\n",
       "   sub-expressions: 11\n",
       "7. (J)\n",
       "   core type: ExprTuple\n",
       "   sub-expressions: 12\n",
       "8. not\n",
       "   core type: Literal\n",
       "   sub-expressions: \n",
       "9. (K)\n",
       "   core type: ExprTuple\n",
       "   sub-expressions: 13\n",
       "10. H\n",
       "    core type: Variable\n",
       "    sub-expressions: \n",
       "11. I\n",
       "    core type: Variable\n",
       "    sub-expressions: \n",
       "12. J\n",
       "    core type: Variable\n",
       "    sub-expressions: \n",
       "13. K\n",
       "    core type: Variable\n",
       "    sub-expressions: "
      ]
     },
     "execution_count": 6,
     "metadata": {},
     "output_type": "execute_result"
    }
   ],
   "source": [
    "# display the expression information\n",
    "expr.expr_info()"
   ]
  },
  {
   "cell_type": "code",
   "execution_count": null,
   "metadata": {},
   "outputs": [],
   "source": []
  }
 ],
 "metadata": {
  "kernelspec": {
   "display_name": "Python 3",
   "language": "python",
   "name": "python3"
  }
 },
 "nbformat": 4,
 "nbformat_minor": 0
}