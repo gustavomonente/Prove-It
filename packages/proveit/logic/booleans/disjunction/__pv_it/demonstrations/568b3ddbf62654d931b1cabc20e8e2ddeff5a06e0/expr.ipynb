{
 "cells": [
  {
   "cell_type": "markdown",
   "metadata": {},
   "source": [
    "Expression of type <a class=\"ProveItLink\" href=\"../../../../../../../../doc/html/api/proveit.ExprTuple.html\">ExprTuple</a>\n",
    "=======================\n",
    "# from the theory of <a class=\"ProveItLink\" href=\"../../../_theory_nbs_/theory.ipynb\">proveit.logic.booleans.disjunction</a>"
   ]
  },
  {
   "cell_type": "code",
   "execution_count": 1,
   "metadata": {},
   "outputs": [],
   "source": [
    "import proveit\n",
    "# Automation is not needed when building an expression:\n",
    "proveit.defaults.automation = False # This will speed things up.\n",
    "proveit.defaults.inline_pngs = False # Makes files smaller.\n",
    "%load_expr # Load the stored expression as 'stored_expr'\n",
    "# import Expression classes needed to build the expression\n",
    "from proveit import C, Conditional, ExprRange, ExprTuple, IndexedVar, Lambda, Variable\n",
    "from proveit.logic import And, Boolean, InSet, Or\n",
    "from proveit.numbers import four, one"
   ]
  },
  {
   "cell_type": "code",
   "execution_count": 2,
   "metadata": {},
   "outputs": [
    {
     "data": {
      "text/html": [
       "<strong id=\"expr\">expr:</strong> <a class=\"ProveItLink\" href=\"expr.ipynb\"><img src=\"expr.png\" style=\"display:inline;vertical-align:middle;\" /></a><br>"
      ],
      "text/plain": [
       "expr: ((C_{1}, ..C_{_a}.., C_{4}) -> {(C_{1} or ..C_{_a}.. or C_{4}) in BOOLEAN if (C_{1} in BOOLEAN) and ..(C_{_a} in BOOLEAN).. and (C_{4} in BOOLEAN).)"
      ]
     },
     "execution_count": 2,
     "metadata": {},
     "output_type": "execute_result"
    }
   ],
   "source": [
    "# build up the expression from sub-expressions\n",
    "sub_expr1 = Variable(\"_a\", latex_format = r\"{_{-}a}\")\n",
    "sub_expr2 = IndexedVar(C, sub_expr1)\n",
    "sub_expr3 = ExprRange(sub_expr1, sub_expr2, one, four)\n",
    "expr = ExprTuple(Lambda([sub_expr3], Conditional(InSet(Or(sub_expr3), Boolean), And(ExprRange(sub_expr1, InSet(sub_expr2, Boolean), one, four)))))"
   ]
  },
  {
   "cell_type": "code",
   "execution_count": 3,
   "metadata": {},
   "outputs": [
    {
     "name": "stdout",
     "output_type": "stream",
     "text": [
      "Passed sanity check: expr matches stored_expr\n"
     ]
    }
   ],
   "source": [
    "# check that the built expression is the same as the stored expression\n",
    "assert expr == stored_expr\n",
    "assert expr._style_id == stored_expr._style_id\n",
    "print(\"Passed sanity check: expr matches stored_expr\")"
   ]
  },
  {
   "cell_type": "code",
   "execution_count": 4,
   "metadata": {},
   "outputs": [
    {
     "name": "stdout",
     "output_type": "stream",
     "text": [
      "\\left(\\left(C_{1}, \\ldots, C_{4}\\right) \\mapsto \\left\\{\\left(C_{1} \\lor \\ldots \\lor C_{4}\\right) \\in \\mathbb{B} \\textrm{ if } \\left(C_{1} \\in \\mathbb{B}\\right) \\land \\ldots \\land \\left(C_{4} \\in \\mathbb{B}\\right)\\right..\\right)\n"
     ]
    }
   ],
   "source": [
    "# Show the LaTeX representation of the expression for convenience if you need it.\n",
    "print(expr.latex())"
   ]
  },
  {
   "cell_type": "code",
   "execution_count": 5,
   "metadata": {},
   "outputs": [
    {
     "data": {
      "text/html": [
       "no style options"
      ],
      "text/plain": [
       "no style options"
      ]
     },
     "execution_count": 5,
     "metadata": {},
     "output_type": "execute_result"
    }
   ],
   "source": [
    "expr.style_options()"
   ]
  },
  {
   "cell_type": "code",
   "execution_count": 6,
   "metadata": {},
   "outputs": [
    {
     "data": {
      "text/html": [
       "<table><tr><th>&nbsp;</th><th>core type</th><th>sub-expressions</th><th>expression</th></tr>\n",
       "<tr><td>0</td><td>ExprTuple</td><td>1</td><td><a class=\"ProveItLink\" href=\"expr.ipynb\"><img src=\"expr.png\" style=\"display:inline;vertical-align:middle;\" /></a></td></tr>\n",
       "<tr><td>1</td><td>Lambda</td><td>parameters:&nbsp;11<br>body:&nbsp;2<br></td><td><a class=\"ProveItLink\" href=\"../4c62428bef22f670e4d04fd7fc7d545e41879f9c0/expr.ipynb\"><img src=\"../4c62428bef22f670e4d04fd7fc7d545e41879f9c0/expr.png\" style=\"display:inline;vertical-align:middle;\" /></a></td></tr>\n",
       "<tr><td>2</td><td>Conditional</td><td>value:&nbsp;3<br>condition:&nbsp;4<br></td><td><a class=\"ProveItLink\" href=\"../e537f0ee48b5bdb1d5153415e0efe415f57e343c0/expr.ipynb\"><img src=\"../e537f0ee48b5bdb1d5153415e0efe415f57e343c0/expr.png\" style=\"display:inline;vertical-align:middle;\" /></a></td></tr>\n",
       "<tr><td>3</td><td>Operation</td><td>operator:&nbsp;18<br>operands:&nbsp;5<br></td><td><a class=\"ProveItLink\" href=\"../d68dc007dac0a96ae9c9dae8241caf87f099d2b50/expr.ipynb\"><img src=\"../d68dc007dac0a96ae9c9dae8241caf87f099d2b50/expr.png\" style=\"display:inline;vertical-align:middle;\" /></a></td></tr>\n",
       "<tr><td>4</td><td>Operation</td><td>operator:&nbsp;6<br>operands:&nbsp;7<br></td><td><a class=\"ProveItLink\" href=\"../5bd467435226b8c5fcc9e9b9d82269b96c2227c80/expr.ipynb\"><img src=\"../5bd467435226b8c5fcc9e9b9d82269b96c2227c80/expr.png\" style=\"display:inline;vertical-align:middle;\" /></a></td></tr>\n",
       "<tr><td>5</td><td>ExprTuple</td><td>8, 21</td><td><a class=\"ProveItLink\" href=\"../48572f23b26cee63352a7959e53b45c8e24e4c480/expr.ipynb\"><img src=\"../48572f23b26cee63352a7959e53b45c8e24e4c480/expr.png\" style=\"display:inline;vertical-align:middle;\" /></a></td></tr>\n",
       "<tr><td>6</td><td>Literal</td><td></td><td><a class=\"ProveItLink\" href=\"../../../../conjunction/__pv_it/common/26b94b53e70b1d77b70f0d9d4236347db37731060/expr.ipynb\"><img src=\"../../../../conjunction/__pv_it/common/26b94b53e70b1d77b70f0d9d4236347db37731060/expr.png\" style=\"display:inline;vertical-align:middle;\" /></a></td></tr>\n",
       "<tr><td>7</td><td>ExprTuple</td><td>9</td><td><a class=\"ProveItLink\" href=\"../72304d385e34e456e5527b26b57dd7550d705f1e0/expr.ipynb\"><img src=\"../72304d385e34e456e5527b26b57dd7550d705f1e0/expr.png\" style=\"display:inline;vertical-align:middle;\" /></a></td></tr>\n",
       "<tr><td>8</td><td>Operation</td><td>operator:&nbsp;10<br>operands:&nbsp;11<br></td><td><a class=\"ProveItLink\" href=\"../bac86052a5d8a157fb4b8bc74d40259d5d95deb30/expr.ipynb\"><img src=\"../bac86052a5d8a157fb4b8bc74d40259d5d95deb30/expr.png\" style=\"display:inline;vertical-align:middle;\" /></a></td></tr>\n",
       "<tr><td>9</td><td>ExprRange</td><td>lambda_map:&nbsp;12<br>start_index:&nbsp;16<br>end_index:&nbsp;17<br></td><td><a class=\"ProveItLink\" href=\"../cd556ff8883d83f987a1e6b517de57a41d64b57e0/expr.ipynb\"><img src=\"../cd556ff8883d83f987a1e6b517de57a41d64b57e0/expr.png\" style=\"display:inline;vertical-align:middle;\" /></a></td></tr>\n",
       "<tr><td>10</td><td>Literal</td><td></td><td><a class=\"ProveItLink\" href=\"../../common/0e5dcae3232d8ebdc0777b8ce92ce453a450f6c30/expr.ipynb\"><img src=\"../../common/0e5dcae3232d8ebdc0777b8ce92ce453a450f6c30/expr.png\" style=\"display:inline;vertical-align:middle;\" /></a></td></tr>\n",
       "<tr><td>11</td><td>ExprTuple</td><td>13</td><td><a class=\"ProveItLink\" href=\"../21c192946c92afaf2eb819ceaa2f51041aac4be60/expr.ipynb\"><img src=\"../21c192946c92afaf2eb819ceaa2f51041aac4be60/expr.png\" style=\"display:inline;vertical-align:middle;\" /></a></td></tr>\n",
       "<tr><td>12</td><td>Lambda</td><td>parameter:&nbsp;24<br>body:&nbsp;14<br></td><td><a class=\"ProveItLink\" href=\"../44d02f55038efbfa51355c8af2a3161e3b4208f30/expr.ipynb\"><img src=\"../44d02f55038efbfa51355c8af2a3161e3b4208f30/expr.png\" style=\"display:inline;vertical-align:middle;\" /></a></td></tr>\n",
       "<tr><td>13</td><td>ExprRange</td><td>lambda_map:&nbsp;15<br>start_index:&nbsp;16<br>end_index:&nbsp;17<br></td><td><a class=\"ProveItLink\" href=\"../d40af59a97f4e08793cb42048edd313cda2fad550/expr.ipynb\"><img src=\"../d40af59a97f4e08793cb42048edd313cda2fad550/expr.png\" style=\"display:inline;vertical-align:middle;\" /></a></td></tr>\n",
       "<tr><td>14</td><td>Operation</td><td>operator:&nbsp;18<br>operands:&nbsp;19<br></td><td><a class=\"ProveItLink\" href=\"../f47f729186c285f89676a0e2723676389facb8bd0/expr.ipynb\"><img src=\"../f47f729186c285f89676a0e2723676389facb8bd0/expr.png\" style=\"display:inline;vertical-align:middle;\" /></a></td></tr>\n",
       "<tr><td>15</td><td>Lambda</td><td>parameter:&nbsp;24<br>body:&nbsp;20<br></td><td><a class=\"ProveItLink\" href=\"../../../../../../core_expr_types/__pv_it/common/4c1da7aa00988c869f86b048280afeb169884b440/expr.ipynb\"><img src=\"../../../../../../core_expr_types/__pv_it/common/4c1da7aa00988c869f86b048280afeb169884b440/expr.png\" style=\"display:inline;vertical-align:middle;\" /></a></td></tr>\n",
       "<tr><td>16</td><td>Literal</td><td></td><td><a class=\"ProveItLink\" href=\"../../../../../../numbers/numerals/__pv_it/common/d278e359da0695d9652dd541d45264f93703e2e40/expr.ipynb\"><img src=\"../../../../../../numbers/numerals/__pv_it/common/d278e359da0695d9652dd541d45264f93703e2e40/expr.png\" style=\"display:inline;vertical-align:middle;\" /></a></td></tr>\n",
       "<tr><td>17</td><td>Literal</td><td></td><td><a class=\"ProveItLink\" href=\"../../../../../../numbers/numerals/__pv_it/common/de8f3e06d530f467e73bdbc965d9d86fa0f1b0db0/expr.ipynb\"><img src=\"../../../../../../numbers/numerals/__pv_it/common/de8f3e06d530f467e73bdbc965d9d86fa0f1b0db0/expr.png\" style=\"display:inline;vertical-align:middle;\" /></a></td></tr>\n",
       "<tr><td>18</td><td>Literal</td><td></td><td><a class=\"ProveItLink\" href=\"../../../../../sets/membership/__pv_it/common/7171deca84f71f47a6ec7696972d1632274a12880/expr.ipynb\"><img src=\"../../../../../sets/membership/__pv_it/common/7171deca84f71f47a6ec7696972d1632274a12880/expr.png\" style=\"display:inline;vertical-align:middle;\" /></a></td></tr>\n",
       "<tr><td>19</td><td>ExprTuple</td><td>20, 21</td><td><a class=\"ProveItLink\" href=\"../23a98ff6fff23d7a267b6bb0bcb4ac37395f23af0/expr.ipynb\"><img src=\"../23a98ff6fff23d7a267b6bb0bcb4ac37395f23af0/expr.png\" style=\"display:inline;vertical-align:middle;\" /></a></td></tr>\n",
       "<tr><td>20</td><td>IndexedVar</td><td>variable:&nbsp;22<br>index:&nbsp;24<br></td><td><a class=\"ProveItLink\" href=\"../../../../../../core_expr_types/__pv_it/common/0ee3702df5b7424b59efa90500e629500c821e270/expr.ipynb\"><img src=\"../../../../../../core_expr_types/__pv_it/common/0ee3702df5b7424b59efa90500e629500c821e270/expr.png\" style=\"display:inline;vertical-align:middle;\" /></a></td></tr>\n",
       "<tr><td>21</td><td>Literal</td><td></td><td><a class=\"ProveItLink\" href=\"../../../../__pv_it/common/8fc291135425020cce4ba1ad615843f54f1fc6600/expr.ipynb\"><img src=\"../../../../__pv_it/common/8fc291135425020cce4ba1ad615843f54f1fc6600/expr.png\" style=\"display:inline;vertical-align:middle;\" /></a></td></tr>\n",
       "<tr><td>22</td><td>Variable</td><td></td><td><a class=\"ProveItLink\" href=\"../../../../../../__pv_it/common/c4a83a53f0ed6678b0c7a2d6d691a4b400f735c90/expr.ipynb\"><img src=\"../../../../../../__pv_it/common/c4a83a53f0ed6678b0c7a2d6d691a4b400f735c90/expr.png\" style=\"display:inline;vertical-align:middle;\" /></a></td></tr>\n",
       "<tr><td>23</td><td>ExprTuple</td><td>24</td><td><a class=\"ProveItLink\" href=\"../../../../../../core_expr_types/__pv_it/common/ecf50ade416ab41c42c9f4e777b4c862cd9469670/expr.ipynb\"><img src=\"../../../../../../core_expr_types/__pv_it/common/ecf50ade416ab41c42c9f4e777b4c862cd9469670/expr.png\" style=\"display:inline;vertical-align:middle;\" /></a></td></tr>\n",
       "<tr><td>24</td><td>Variable</td><td></td><td><a class=\"ProveItLink\" href=\"../../../../../../core_expr_types/__pv_it/common/9e6d9d5d7eeb0342cf5bca68def0eb165a1a9bb10/expr.ipynb\"><img src=\"../../../../../../core_expr_types/__pv_it/common/9e6d9d5d7eeb0342cf5bca68def0eb165a1a9bb10/expr.png\" style=\"display:inline;vertical-align:middle;\" /></a></td></tr>\n",
       "</table>\n"
      ],
      "text/plain": [
       "0. ((C_{1}, ..C_{_a}.., C_{4}) -> {(C_{1} or ..C_{_a}.. or C_{4}) in BOOLEAN if (C_{1} in BOOLEAN) and ..(C_{_a} in BOOLEAN).. and (C_{4} in BOOLEAN).)\n",
       "   core type: ExprTuple\n",
       "   sub-expressions: 1\n",
       "1. (C_{1}, ..C_{_a}.., C_{4}) -> {(C_{1} or ..C_{_a}.. or C_{4}) in BOOLEAN if (C_{1} in BOOLEAN) and ..(C_{_a} in BOOLEAN).. and (C_{4} in BOOLEAN).\n",
       "   core type: Lambda\n",
       "   parameters: 11\\n   body: 2\n",
       "2. {(C_{1} or ..C_{_a}.. or C_{4}) in BOOLEAN if (C_{1} in BOOLEAN) and ..(C_{_a} in BOOLEAN).. and (C_{4} in BOOLEAN).\n",
       "   core type: Conditional\n",
       "   value: 3\n",
       "   condition: 4\n",
       "3. (C_{1} or ..C_{_a}.. or C_{4}) in BOOLEAN\n",
       "   core type: Operation\n",
       "   operator: 18\n",
       "   operands: 5\n",
       "4. (C_{1} in BOOLEAN) and ..(C_{_a} in BOOLEAN).. and (C_{4} in BOOLEAN)\n",
       "   core type: Operation\n",
       "   operator: 6\n",
       "   operands: 7\n",
       "5. (C_{1} or ..C_{_a}.. or C_{4}, BOOLEAN)\n",
       "   core type: ExprTuple\n",
       "   sub-expressions: 8, 21\n",
       "6. and\n",
       "   core type: Literal\n",
       "   sub-expressions: \n",
       "7. (C_{1} in BOOLEAN, ..C_{_a} in BOOLEAN.., C_{4} in BOOLEAN)\n",
       "   core type: ExprTuple\n",
       "   sub-expressions: 9\n",
       "8. C_{1} or ..C_{_a}.. or C_{4}\n",
       "   core type: Operation\n",
       "   operator: 10\n",
       "   operands: 11\n",
       "9. (C_{1} in BOOLEAN), ..(C_{_a} in BOOLEAN).., (C_{4} in BOOLEAN)\n",
       "   core type: ExprRange\n",
       "   lambda_map: 12\n",
       "   start_index: 16\n",
       "   end_index: 17\n",
       "10. or\n",
       "    core type: Literal\n",
       "    sub-expressions: \n",
       "11. (C_{1}, ..C_{_a}.., C_{4})\n",
       "    core type: ExprTuple\n",
       "    sub-expressions: 13\n",
       "12. _a -> (C_{_a} in BOOLEAN)\n",
       "    core type: Lambda\n",
       "    parameter: 24\n",
       "    body: 14\n",
       "13. C_{1}, ..C_{_a}.., C_{4}\n",
       "    core type: ExprRange\n",
       "    lambda_map: 15\n",
       "    start_index: 16\n",
       "    end_index: 17\n",
       "14. C_{_a} in BOOLEAN\n",
       "    core type: Operation\n",
       "    operator: 18\n",
       "    operands: 19\n",
       "15. _a -> C_{_a}\n",
       "    core type: Lambda\n",
       "    parameter: 24\n",
       "    body: 20\n",
       "16. 1\n",
       "    core type: Literal\n",
       "    sub-expressions: \n",
       "17. 4\n",
       "    core type: Literal\n",
       "    sub-expressions: \n",
       "18. in\n",
       "    core type: Literal\n",
       "    sub-expressions: \n",
       "19. (C_{_a}, BOOLEAN)\n",
       "    core type: ExprTuple\n",
       "    sub-expressions: 20, 21\n",
       "20. C_{_a}\n",
       "    core type: IndexedVar\n",
       "variable: 22\n",
       "index: 24\n",
       "21. BOOLEAN\n",
       "    core type: Literal\n",
       "    sub-expressions: \n",
       "22. C\n",
       "    core type: Variable\n",
       "    sub-expressions: \n",
       "23. (_a)\n",
       "    core type: ExprTuple\n",
       "    sub-expressions: 24\n",
       "24. _a\n",
       "    core type: Variable\n",
       "    sub-expressions: "
      ]
     },
     "execution_count": 6,
     "metadata": {},
     "output_type": "execute_result"
    }
   ],
   "source": [
    "# display the expression information\n",
    "expr.expr_info()"
   ]
  },
  {
   "cell_type": "code",
   "execution_count": null,
   "metadata": {},
   "outputs": [],
   "source": []
  }
 ],
 "metadata": {
  "kernelspec": {
   "display_name": "Python 3",
   "language": "python",
   "name": "python3"
  }
 },
 "nbformat": 4,
 "nbformat_minor": 0
}