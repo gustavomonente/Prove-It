{
 "cells": [
  {
   "cell_type": "markdown",
   "metadata": {},
   "source": [
    "Expression of type <a class=\"ProveItLink\" href=\"../../../../../../../../doc/html/api/proveit.logic.Forall.html\">Forall</a>\n",
    "=======================\n",
    "# from the theory of <a class=\"ProveItLink\" href=\"../../../_theory_nbs_/theory.ipynb\">proveit.logic.booleans.disjunction</a>"
   ]
  },
  {
   "cell_type": "code",
   "execution_count": 1,
   "metadata": {},
   "outputs": [],
   "source": [
    "import proveit\n",
    "# Automation is not needed when building an expression:\n",
    "proveit.defaults.automation = False # This will speed things up.\n",
    "proveit.defaults.inline_pngs = False # Makes files smaller.\n",
    "%load_expr # Load the stored expression as 'stored_expr'\n",
    "# import Expression classes needed to build the expression\n",
    "from proveit import A, B\n",
    "from proveit.logic import Boolean, Forall, InSet, Or"
   ]
  },
  {
   "cell_type": "code",
   "execution_count": 2,
   "metadata": {},
   "outputs": [
    {
     "data": {
      "text/html": [
       "<strong id=\"expr\">expr:</strong> <a class=\"ProveItLink\" href=\"expr.ipynb\"><img src=\"expr.png\" style=\"display:inline;vertical-align:middle;\" /></a><br>"
      ],
      "text/plain": [
       "expr: forall_{A in BOOLEAN} [forall_{B in BOOLEAN} ((A or B) in BOOLEAN)]"
      ]
     },
     "execution_count": 2,
     "metadata": {},
     "output_type": "execute_result"
    }
   ],
   "source": [
    "# build up the expression from sub-expressions\n",
    "sub_expr1 = [Boolean]\n",
    "expr = Forall([A], Forall([B], InSet(Or(A, B), Boolean), domains = sub_expr1), domains = sub_expr1)"
   ]
  },
  {
   "cell_type": "code",
   "execution_count": 3,
   "metadata": {},
   "outputs": [
    {
     "name": "stdout",
     "output_type": "stream",
     "text": [
      "Passed sanity check: expr matches stored_expr\n"
     ]
    }
   ],
   "source": [
    "# check that the built expression is the same as the stored expression\n",
    "assert expr == stored_expr\n",
    "assert expr._style_id == stored_expr._style_id\n",
    "print(\"Passed sanity check: expr matches stored_expr\")"
   ]
  },
  {
   "cell_type": "code",
   "execution_count": 4,
   "metadata": {},
   "outputs": [
    {
     "name": "stdout",
     "output_type": "stream",
     "text": [
      "\\forall_{A \\in \\mathbb{B}}~\\left[\\forall_{B \\in \\mathbb{B}}~\\left(\\left(A \\lor B\\right) \\in \\mathbb{B}\\right)\\right]\n"
     ]
    }
   ],
   "source": [
    "# Show the LaTeX representation of the expression for convenience if you need it.\n",
    "print(expr.latex())"
   ]
  },
  {
   "cell_type": "code",
   "execution_count": 5,
   "metadata": {},
   "outputs": [
    {
     "data": {
      "text/html": [
       "<table>\n",
       "<tr><th>name</th><th>description</th><th>default</th><th>current value</th><th>related methods</th></tr><tr><td>with_wrapping</td><td>If 'True', wrap the Expression after the parameters</td><td>None</td><td>None/False</td><td>('with_wrapping',)</td></tr>\n",
       "<tr><td>wrap_params</td><td>If 'True', wraps every two parameters AND wraps the Expression after the parameters</td><td>None</td><td>None/False</td><td>('with_params',)</td></tr>\n",
       "<tr><td>justification</td><td>justify to the 'left', 'center', or 'right' in the array cells</td><td>center</td><td>center</td><td>('with_justification',)</td></tr>\n",
       "</table>\n"
      ],
      "text/plain": [
       "style name: with_wrapping\n",
       "description: If 'True', wrap the Expression after the parameters\n",
       "default: None\n",
       "current value: None/False\n",
       "related methods: ('with_wrapping',)\n",
       "style name: wrap_params\n",
       "description: If 'True', wraps every two parameters AND wraps the Expression after the parameters\n",
       "default: None\n",
       "current value: None/False\n",
       "related methods: ('with_params',)\n",
       "style name: justification\n",
       "description: justify to the 'left', 'center', or 'right' in the array cells\n",
       "default: center\n",
       "current value: center\n",
       "related methods: ('with_justification',)"
      ]
     },
     "execution_count": 5,
     "metadata": {},
     "output_type": "execute_result"
    }
   ],
   "source": [
    "expr.style_options()"
   ]
  },
  {
   "cell_type": "code",
   "execution_count": 6,
   "metadata": {},
   "outputs": [
    {
     "data": {
      "text/html": [
       "<table><tr><th>&nbsp;</th><th>core type</th><th>sub-expressions</th><th>expression</th></tr>\n",
       "<tr><td>0</td><td>Operation</td><td>operator:&nbsp;6<br>operand:&nbsp;2<br></td><td><a class=\"ProveItLink\" href=\"expr.ipynb\"><img src=\"expr.png\" style=\"display:inline;vertical-align:middle;\" /></a></td></tr>\n",
       "<tr><td>1</td><td>ExprTuple</td><td>2</td><td><a class=\"ProveItLink\" href=\"../c91de737163cda270d281d5119eace722cb5cd670/expr.ipynb\"><img src=\"../c91de737163cda270d281d5119eace722cb5cd670/expr.png\" style=\"display:inline;vertical-align:middle;\" /></a></td></tr>\n",
       "<tr><td>2</td><td>Lambda</td><td>parameter:&nbsp;20<br>body:&nbsp;3<br></td><td><a class=\"ProveItLink\" href=\"../195b1b2ab4167f6ebc0834c9c132b7c6e6ed45c80/expr.ipynb\"><img src=\"../195b1b2ab4167f6ebc0834c9c132b7c6e6ed45c80/expr.png\" style=\"display:inline;vertical-align:middle;\" /></a></td></tr>\n",
       "<tr><td>3</td><td>Conditional</td><td>value:&nbsp;4<br>condition:&nbsp;5<br></td><td><a class=\"ProveItLink\" href=\"../366ed0339572c817b62852a748a5b6779aaff4f50/expr.ipynb\"><img src=\"../366ed0339572c817b62852a748a5b6779aaff4f50/expr.png\" style=\"display:inline;vertical-align:middle;\" /></a></td></tr>\n",
       "<tr><td>4</td><td>Operation</td><td>operator:&nbsp;6<br>operand:&nbsp;9<br></td><td><a class=\"ProveItLink\" href=\"../277300b784dec19b0fdb1b374d93dbb059024d2b0/expr.ipynb\"><img src=\"../277300b784dec19b0fdb1b374d93dbb059024d2b0/expr.png\" style=\"display:inline;vertical-align:middle;\" /></a></td></tr>\n",
       "<tr><td>5</td><td>Operation</td><td>operator:&nbsp;14<br>operands:&nbsp;8<br></td><td><a class=\"ProveItLink\" href=\"../../../../__pv_it/theorems/ddc941563dffabdeb005429c2f934b2b6ccbeab10/expr.ipynb\"><img src=\"../../../../__pv_it/theorems/ddc941563dffabdeb005429c2f934b2b6ccbeab10/expr.png\" style=\"display:inline;vertical-align:middle;\" /></a></td></tr>\n",
       "<tr><td>6</td><td>Literal</td><td></td><td><a class=\"ProveItLink\" href=\"../../../../quantification/universality/__pv_it/common/684d35ba98fcbf8ca5011f865e530a51e77730630/expr.ipynb\"><img src=\"../../../../quantification/universality/__pv_it/common/684d35ba98fcbf8ca5011f865e530a51e77730630/expr.png\" style=\"display:inline;vertical-align:middle;\" /></a></td></tr>\n",
       "<tr><td>7</td><td>ExprTuple</td><td>9</td><td><a class=\"ProveItLink\" href=\"../45667f6eb1338e0a0c77b54866860af3308d90e80/expr.ipynb\"><img src=\"../45667f6eb1338e0a0c77b54866860af3308d90e80/expr.png\" style=\"display:inline;vertical-align:middle;\" /></a></td></tr>\n",
       "<tr><td>8</td><td>ExprTuple</td><td>20, 17</td><td><a class=\"ProveItLink\" href=\"../../../../__pv_it/theorems/d19240028c6a8d49b0c81a3bfb9e3897520bcdc60/expr.ipynb\"><img src=\"../../../../__pv_it/theorems/d19240028c6a8d49b0c81a3bfb9e3897520bcdc60/expr.png\" style=\"display:inline;vertical-align:middle;\" /></a></td></tr>\n",
       "<tr><td>9</td><td>Lambda</td><td>parameter:&nbsp;21<br>body:&nbsp;10<br></td><td><a class=\"ProveItLink\" href=\"../a4a8777aeb3e6af5a1ca90b5f3eb5e7405633ada0/expr.ipynb\"><img src=\"../a4a8777aeb3e6af5a1ca90b5f3eb5e7405633ada0/expr.png\" style=\"display:inline;vertical-align:middle;\" /></a></td></tr>\n",
       "<tr><td>10</td><td>Conditional</td><td>value:&nbsp;11<br>condition:&nbsp;12<br></td><td><a class=\"ProveItLink\" href=\"../73eaee968d7d9088104c537473749b09efc377c60/expr.ipynb\"><img src=\"../73eaee968d7d9088104c537473749b09efc377c60/expr.png\" style=\"display:inline;vertical-align:middle;\" /></a></td></tr>\n",
       "<tr><td>11</td><td>Operation</td><td>operator:&nbsp;14<br>operands:&nbsp;13<br></td><td><a class=\"ProveItLink\" href=\"../../axioms/9dbb91b755739abe1a742a96e05a49440910e7ee0/expr.ipynb\"><img src=\"../../axioms/9dbb91b755739abe1a742a96e05a49440910e7ee0/expr.png\" style=\"display:inline;vertical-align:middle;\" /></a></td></tr>\n",
       "<tr><td>12</td><td>Operation</td><td>operator:&nbsp;14<br>operands:&nbsp;15<br></td><td><a class=\"ProveItLink\" href=\"../../theorems/67501eb487d67b93f0ec3f6965561f782e470d670/expr.ipynb\"><img src=\"../../theorems/67501eb487d67b93f0ec3f6965561f782e470d670/expr.png\" style=\"display:inline;vertical-align:middle;\" /></a></td></tr>\n",
       "<tr><td>13</td><td>ExprTuple</td><td>16, 17</td><td><a class=\"ProveItLink\" href=\"../../axioms/44b59e92d6e66491c1d42e8441b4cea1a077600d0/expr.ipynb\"><img src=\"../../axioms/44b59e92d6e66491c1d42e8441b4cea1a077600d0/expr.png\" style=\"display:inline;vertical-align:middle;\" /></a></td></tr>\n",
       "<tr><td>14</td><td>Literal</td><td></td><td><a class=\"ProveItLink\" href=\"../../../../../sets/membership/__pv_it/common/7171deca84f71f47a6ec7696972d1632274a12880/expr.ipynb\"><img src=\"../../../../../sets/membership/__pv_it/common/7171deca84f71f47a6ec7696972d1632274a12880/expr.png\" style=\"display:inline;vertical-align:middle;\" /></a></td></tr>\n",
       "<tr><td>15</td><td>ExprTuple</td><td>21, 17</td><td><a class=\"ProveItLink\" href=\"../../theorems/b464bb5e9f3209bc967a4021ab40c71e0755ea4e0/expr.ipynb\"><img src=\"../../theorems/b464bb5e9f3209bc967a4021ab40c71e0755ea4e0/expr.png\" style=\"display:inline;vertical-align:middle;\" /></a></td></tr>\n",
       "<tr><td>16</td><td>Operation</td><td>operator:&nbsp;18<br>operands:&nbsp;19<br></td><td><a class=\"ProveItLink\" href=\"../../axioms/64d599a7acc604adfa976ed673118f75c53672710/expr.ipynb\"><img src=\"../../axioms/64d599a7acc604adfa976ed673118f75c53672710/expr.png\" style=\"display:inline;vertical-align:middle;\" /></a></td></tr>\n",
       "<tr><td>17</td><td>Literal</td><td></td><td><a class=\"ProveItLink\" href=\"../../../../__pv_it/common/8fc291135425020cce4ba1ad615843f54f1fc6600/expr.ipynb\"><img src=\"../../../../__pv_it/common/8fc291135425020cce4ba1ad615843f54f1fc6600/expr.png\" style=\"display:inline;vertical-align:middle;\" /></a></td></tr>\n",
       "<tr><td>18</td><td>Literal</td><td></td><td><a class=\"ProveItLink\" href=\"../../common/0e5dcae3232d8ebdc0777b8ce92ce453a450f6c30/expr.ipynb\"><img src=\"../../common/0e5dcae3232d8ebdc0777b8ce92ce453a450f6c30/expr.png\" style=\"display:inline;vertical-align:middle;\" /></a></td></tr>\n",
       "<tr><td>19</td><td>ExprTuple</td><td>20, 21</td><td><a class=\"ProveItLink\" href=\"../../axioms/7aa24190517d6a40e915c207672cefb0d36c3b690/expr.ipynb\"><img src=\"../../axioms/7aa24190517d6a40e915c207672cefb0d36c3b690/expr.png\" style=\"display:inline;vertical-align:middle;\" /></a></td></tr>\n",
       "<tr><td>20</td><td>Variable</td><td></td><td><a class=\"ProveItLink\" href=\"../../../../../../__pv_it/common/e4aad701f7f5516d8e7f0d805d518bf02c13322a0/expr.ipynb\"><img src=\"../../../../../../__pv_it/common/e4aad701f7f5516d8e7f0d805d518bf02c13322a0/expr.png\" style=\"display:inline;vertical-align:middle;\" /></a></td></tr>\n",
       "<tr><td>21</td><td>Variable</td><td></td><td><a class=\"ProveItLink\" href=\"../../../../../../__pv_it/common/4eca3b30dcf58a58494e201d1b7886d8643a617b0/expr.ipynb\"><img src=\"../../../../../../__pv_it/common/4eca3b30dcf58a58494e201d1b7886d8643a617b0/expr.png\" style=\"display:inline;vertical-align:middle;\" /></a></td></tr>\n",
       "</table>\n"
      ],
      "text/plain": [
       "0. forall_{A in BOOLEAN} [forall_{B in BOOLEAN} ((A or B) in BOOLEAN)]\n",
       "   core type: Operation\n",
       "   operator: 6\n",
       "   operand: 2\n",
       "1. (A -> {forall_{B in BOOLEAN} ((A or B) in BOOLEAN) if A in BOOLEAN.)\n",
       "   core type: ExprTuple\n",
       "   sub-expressions: 2\n",
       "2. A -> {forall_{B in BOOLEAN} ((A or B) in BOOLEAN) if A in BOOLEAN.\n",
       "   core type: Lambda\n",
       "   parameter: 20\n",
       "   body: 3\n",
       "3. {forall_{B in BOOLEAN} ((A or B) in BOOLEAN) if A in BOOLEAN.\n",
       "   core type: Conditional\n",
       "   value: 4\n",
       "   condition: 5\n",
       "4. forall_{B in BOOLEAN} ((A or B) in BOOLEAN)\n",
       "   core type: Operation\n",
       "   operator: 6\n",
       "   operand: 9\n",
       "5. A in BOOLEAN\n",
       "   core type: Operation\n",
       "   operator: 14\n",
       "   operands: 8\n",
       "6. forall\n",
       "   core type: Literal\n",
       "   sub-expressions: \n",
       "7. (B -> {(A or B) in BOOLEAN if B in BOOLEAN.)\n",
       "   core type: ExprTuple\n",
       "   sub-expressions: 9\n",
       "8. (A, BOOLEAN)\n",
       "   core type: ExprTuple\n",
       "   sub-expressions: 20, 17\n",
       "9. B -> {(A or B) in BOOLEAN if B in BOOLEAN.\n",
       "   core type: Lambda\n",
       "   parameter: 21\n",
       "   body: 10\n",
       "10. {(A or B) in BOOLEAN if B in BOOLEAN.\n",
       "    core type: Conditional\n",
       "    value: 11\n",
       "    condition: 12\n",
       "11. (A or B) in BOOLEAN\n",
       "    core type: Operation\n",
       "    operator: 14\n",
       "    operands: 13\n",
       "12. B in BOOLEAN\n",
       "    core type: Operation\n",
       "    operator: 14\n",
       "    operands: 15\n",
       "13. (A or B, BOOLEAN)\n",
       "    core type: ExprTuple\n",
       "    sub-expressions: 16, 17\n",
       "14. in\n",
       "    core type: Literal\n",
       "    sub-expressions: \n",
       "15. (B, BOOLEAN)\n",
       "    core type: ExprTuple\n",
       "    sub-expressions: 21, 17\n",
       "16. A or B\n",
       "    core type: Operation\n",
       "    operator: 18\n",
       "    operands: 19\n",
       "17. BOOLEAN\n",
       "    core type: Literal\n",
       "    sub-expressions: \n",
       "18. or\n",
       "    core type: Literal\n",
       "    sub-expressions: \n",
       "19. (A, B)\n",
       "    core type: ExprTuple\n",
       "    sub-expressions: 20, 21\n",
       "20. A\n",
       "    core type: Variable\n",
       "    sub-expressions: \n",
       "21. B\n",
       "    core type: Variable\n",
       "    sub-expressions: "
      ]
     },
     "execution_count": 6,
     "metadata": {},
     "output_type": "execute_result"
    }
   ],
   "source": [
    "# display the expression information\n",
    "expr.expr_info()"
   ]
  },
  {
   "cell_type": "code",
   "execution_count": null,
   "metadata": {},
   "outputs": [],
   "source": []
  }
 ],
 "metadata": {
  "kernelspec": {
   "display_name": "Python 3",
   "language": "python",
   "name": "python3"
  }
 },
 "nbformat": 4,
 "nbformat_minor": 0
}