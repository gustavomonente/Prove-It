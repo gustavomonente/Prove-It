{
 "cells": [
  {
   "cell_type": "markdown",
   "metadata": {},
   "source": [
    "Expression of type <a class=\"ProveItLink\" href=\"../../../../../../../../doc/html/api/proveit.ExprTuple.html\">ExprTuple</a>\n",
    "=======================\n",
    "# from the theory of <a class=\"ProveItLink\" href=\"../../../_theory_nbs_/theory.ipynb\">proveit.logic.booleans.disjunction</a>"
   ]
  },
  {
   "cell_type": "code",
   "execution_count": 1,
   "metadata": {},
   "outputs": [],
   "source": [
    "import proveit\n",
    "# Automation is not needed when building an expression:\n",
    "proveit.defaults.automation = False # This will speed things up.\n",
    "proveit.defaults.inline_pngs = False # Makes files smaller.\n",
    "%load_expr # Load the stored expression as 'stored_expr'\n",
    "# import Expression classes needed to build the expression\n",
    "from proveit import A, B, ExprTuple\n",
    "from proveit.logic import Boolean, Forall, InSet, Or"
   ]
  },
  {
   "cell_type": "code",
   "execution_count": 2,
   "metadata": {},
   "outputs": [
    {
     "data": {
      "text/html": [
       "<strong id=\"expr\">expr:</strong> <a class=\"ProveItLink\" href=\"expr.ipynb\"><img src=\"expr.png\" style=\"display:inline;vertical-align:middle;\" /></a><br>"
      ],
      "text/plain": [
       "expr: (forall_{A in BOOLEAN} [forall_{B in BOOLEAN} ((A or B) in BOOLEAN)], forall_{A, B in BOOLEAN} ((A or B) in BOOLEAN))"
      ]
     },
     "execution_count": 2,
     "metadata": {},
     "output_type": "execute_result"
    }
   ],
   "source": [
    "# build up the expression from sub-expressions\n",
    "sub_expr1 = [Boolean]\n",
    "sub_expr2 = InSet(Or(A, B), Boolean)\n",
    "expr = ExprTuple(Forall([A], Forall([B], sub_expr2, domains = sub_expr1), domains = sub_expr1), Forall([A, B], sub_expr2, domains = [Boolean, Boolean]))"
   ]
  },
  {
   "cell_type": "code",
   "execution_count": 3,
   "metadata": {},
   "outputs": [
    {
     "name": "stdout",
     "output_type": "stream",
     "text": [
      "Passed sanity check: expr matches stored_expr\n"
     ]
    }
   ],
   "source": [
    "# check that the built expression is the same as the stored expression\n",
    "assert expr == stored_expr\n",
    "assert expr._style_id == stored_expr._style_id\n",
    "print(\"Passed sanity check: expr matches stored_expr\")"
   ]
  },
  {
   "cell_type": "code",
   "execution_count": 4,
   "metadata": {},
   "outputs": [
    {
     "name": "stdout",
     "output_type": "stream",
     "text": [
      "\\left(\\forall_{A \\in \\mathbb{B}}~\\left[\\forall_{B \\in \\mathbb{B}}~\\left(\\left(A \\lor B\\right) \\in \\mathbb{B}\\right)\\right], \\forall_{A, B \\in \\mathbb{B}}~\\left(\\left(A \\lor B\\right) \\in \\mathbb{B}\\right)\\right)\n"
     ]
    }
   ],
   "source": [
    "# Show the LaTeX representation of the expression for convenience if you need it.\n",
    "print(expr.latex())"
   ]
  },
  {
   "cell_type": "code",
   "execution_count": 5,
   "metadata": {},
   "outputs": [
    {
     "data": {
      "text/html": [
       "<table><tr><th>&nbsp;</th><th>core type</th><th>sub-expressions</th><th>expression</th></tr>\n",
       "<tr><td>0</td><td>ExprTuple</td><td>1, 2</td><td><a class=\"ProveItLink\" href=\"expr.ipynb\"><img src=\"expr.png\" style=\"display:inline;vertical-align:middle;\" /></a></td></tr>\n",
       "<tr><td>1</td><td>Operation</td><td>operator:&nbsp;9<br>operand:&nbsp;3<br></td><td><a class=\"ProveItLink\" href=\"../4836ea10d5c605f944be688500ad56e44b54c74f0/expr.ipynb\"><img src=\"../4836ea10d5c605f944be688500ad56e44b54c74f0/expr.png\" style=\"display:inline;vertical-align:middle;\" /></a></td></tr>\n",
       "<tr><td>2</td><td>Operation</td><td>operator:&nbsp;9<br>operand:&nbsp;4<br></td><td><a class=\"ProveItLink\" href=\"../../theorems/3d47255124ebc6c6039d7873e4deabfd41c0b0520/expr.ipynb\"><img src=\"../../theorems/3d47255124ebc6c6039d7873e4deabfd41c0b0520/expr.png\" style=\"display:inline;vertical-align:middle;\" /></a></td></tr>\n",
       "<tr><td>3</td><td>Lambda</td><td>parameter:&nbsp;25<br>body:&nbsp;5<br></td><td><a class=\"ProveItLink\" href=\"../bce9f9f3f93404d4a7abf05d416a7264c30668390/expr.ipynb\"><img src=\"../bce9f9f3f93404d4a7abf05d416a7264c30668390/expr.png\" style=\"display:inline;vertical-align:middle;\" /></a></td></tr>\n",
       "<tr><td>4</td><td>Lambda</td><td>parameters:&nbsp;24<br>body:&nbsp;6<br></td><td><a class=\"ProveItLink\" href=\"../../theorems/d7679dac36758556d60da90afc907a5180f001880/expr.ipynb\"><img src=\"../../theorems/d7679dac36758556d60da90afc907a5180f001880/expr.png\" style=\"display:inline;vertical-align:middle;\" /></a></td></tr>\n",
       "<tr><td>5</td><td>Conditional</td><td>value:&nbsp;7<br>condition:&nbsp;14<br></td><td><a class=\"ProveItLink\" href=\"../14f6096816fdc30a9249c9fd8be82f6e47f86b950/expr.ipynb\"><img src=\"../14f6096816fdc30a9249c9fd8be82f6e47f86b950/expr.png\" style=\"display:inline;vertical-align:middle;\" /></a></td></tr>\n",
       "<tr><td>6</td><td>Conditional</td><td>value:&nbsp;15<br>condition:&nbsp;8<br></td><td><a class=\"ProveItLink\" href=\"../../theorems/7f3d2d6830a045ef967b77b2aef16429941d809b0/expr.ipynb\"><img src=\"../../theorems/7f3d2d6830a045ef967b77b2aef16429941d809b0/expr.png\" style=\"display:inline;vertical-align:middle;\" /></a></td></tr>\n",
       "<tr><td>7</td><td>Operation</td><td>operator:&nbsp;9<br>operand:&nbsp;10<br></td><td><a class=\"ProveItLink\" href=\"../f6d1c5389dbbbfe05ef8ef85def2455dded5d7070/expr.ipynb\"><img src=\"../f6d1c5389dbbbfe05ef8ef85def2455dded5d7070/expr.png\" style=\"display:inline;vertical-align:middle;\" /></a></td></tr>\n",
       "<tr><td>8</td><td>Operation</td><td>operator:&nbsp;11<br>operands:&nbsp;12<br></td><td><a class=\"ProveItLink\" href=\"../../theorems/786e9407564d62fb7dd95d802a702a81abbaa9df0/expr.ipynb\"><img src=\"../../theorems/786e9407564d62fb7dd95d802a702a81abbaa9df0/expr.png\" style=\"display:inline;vertical-align:middle;\" /></a></td></tr>\n",
       "<tr><td>9</td><td>Literal</td><td></td><td><a class=\"ProveItLink\" href=\"../../../../quantification/universality/__pv_it/common/083d2baa0b8ecab1d230f9ec29a15aa1355809fb0/expr.ipynb\"><img src=\"../../../../quantification/universality/__pv_it/common/083d2baa0b8ecab1d230f9ec29a15aa1355809fb0/expr.png\" style=\"display:inline;vertical-align:middle;\" /></a></td></tr>\n",
       "<tr><td>10</td><td>Lambda</td><td>parameter:&nbsp;26<br>body:&nbsp;13<br></td><td><a class=\"ProveItLink\" href=\"../0c9ddf5cb56c5cce5c966d76c96b6ce69143ba350/expr.ipynb\"><img src=\"../0c9ddf5cb56c5cce5c966d76c96b6ce69143ba350/expr.png\" style=\"display:inline;vertical-align:middle;\" /></a></td></tr>\n",
       "<tr><td>11</td><td>Literal</td><td></td><td><a class=\"ProveItLink\" href=\"../../../../conjunction/__pv_it/common/42118ff318bd65d98b1393f64ce7c2269feef76e0/expr.ipynb\"><img src=\"../../../../conjunction/__pv_it/common/42118ff318bd65d98b1393f64ce7c2269feef76e0/expr.png\" style=\"display:inline;vertical-align:middle;\" /></a></td></tr>\n",
       "<tr><td>12</td><td>ExprTuple</td><td>14, 16</td><td><a class=\"ProveItLink\" href=\"../../theorems/f9ae64c8de761e3aea9d166ad66f2e07120a9fde0/expr.ipynb\"><img src=\"../../theorems/f9ae64c8de761e3aea9d166ad66f2e07120a9fde0/expr.png\" style=\"display:inline;vertical-align:middle;\" /></a></td></tr>\n",
       "<tr><td>13</td><td>Conditional</td><td>value:&nbsp;15<br>condition:&nbsp;16<br></td><td><a class=\"ProveItLink\" href=\"../b2cb422603ef4d6a42e24162ee533b302163b5fd0/expr.ipynb\"><img src=\"../b2cb422603ef4d6a42e24162ee533b302163b5fd0/expr.png\" style=\"display:inline;vertical-align:middle;\" /></a></td></tr>\n",
       "<tr><td>14</td><td>Operation</td><td>operator:&nbsp;19<br>operands:&nbsp;17<br></td><td><a class=\"ProveItLink\" href=\"../../theorems/414e2da7a309b8ea0e77405db0c64f7feb9fa17e0/expr.ipynb\"><img src=\"../../theorems/414e2da7a309b8ea0e77405db0c64f7feb9fa17e0/expr.png\" style=\"display:inline;vertical-align:middle;\" /></a></td></tr>\n",
       "<tr><td>15</td><td>Operation</td><td>operator:&nbsp;19<br>operands:&nbsp;18<br></td><td><a class=\"ProveItLink\" href=\"../../axioms/2826703c437a528ed8a748491f3743a33c6b71a70/expr.ipynb\"><img src=\"../../axioms/2826703c437a528ed8a748491f3743a33c6b71a70/expr.png\" style=\"display:inline;vertical-align:middle;\" /></a></td></tr>\n",
       "<tr><td>16</td><td>Operation</td><td>operator:&nbsp;19<br>operands:&nbsp;20<br></td><td><a class=\"ProveItLink\" href=\"../../theorems/6b89b43e4cbb2b2a7f36bef7320ec444c4840e0e0/expr.ipynb\"><img src=\"../../theorems/6b89b43e4cbb2b2a7f36bef7320ec444c4840e0e0/expr.png\" style=\"display:inline;vertical-align:middle;\" /></a></td></tr>\n",
       "<tr><td>17</td><td>ExprTuple</td><td>25, 22</td><td><a class=\"ProveItLink\" href=\"../../theorems/71e21f013283363ece441aa9c43e819052d454d00/expr.ipynb\"><img src=\"../../theorems/71e21f013283363ece441aa9c43e819052d454d00/expr.png\" style=\"display:inline;vertical-align:middle;\" /></a></td></tr>\n",
       "<tr><td>18</td><td>ExprTuple</td><td>21, 22</td><td><a class=\"ProveItLink\" href=\"../../axioms/6324ee983e6e1bd691f00e52b0d92cc3a221ee420/expr.ipynb\"><img src=\"../../axioms/6324ee983e6e1bd691f00e52b0d92cc3a221ee420/expr.png\" style=\"display:inline;vertical-align:middle;\" /></a></td></tr>\n",
       "<tr><td>19</td><td>Literal</td><td></td><td><a class=\"ProveItLink\" href=\"../../../../../sets/membership/__pv_it/common/477487d8796864d23d5810f83761435f25167f690/expr.ipynb\"><img src=\"../../../../../sets/membership/__pv_it/common/477487d8796864d23d5810f83761435f25167f690/expr.png\" style=\"display:inline;vertical-align:middle;\" /></a></td></tr>\n",
       "<tr><td>20</td><td>ExprTuple</td><td>26, 22</td><td><a class=\"ProveItLink\" href=\"../../theorems/b193ebcd6b21c9b60c917b2f2b0404fb0b4261ba0/expr.ipynb\"><img src=\"../../theorems/b193ebcd6b21c9b60c917b2f2b0404fb0b4261ba0/expr.png\" style=\"display:inline;vertical-align:middle;\" /></a></td></tr>\n",
       "<tr><td>21</td><td>Operation</td><td>operator:&nbsp;23<br>operands:&nbsp;24<br></td><td><a class=\"ProveItLink\" href=\"../../axioms/eed4b15619dee979ba3d430883847f7bf71847990/expr.ipynb\"><img src=\"../../axioms/eed4b15619dee979ba3d430883847f7bf71847990/expr.png\" style=\"display:inline;vertical-align:middle;\" /></a></td></tr>\n",
       "<tr><td>22</td><td>Literal</td><td></td><td><a class=\"ProveItLink\" href=\"../../../../__pv_it/common/97424376de9815ad99f7180e3191b1cf4ab2a5710/expr.ipynb\"><img src=\"../../../../__pv_it/common/97424376de9815ad99f7180e3191b1cf4ab2a5710/expr.png\" style=\"display:inline;vertical-align:middle;\" /></a></td></tr>\n",
       "<tr><td>23</td><td>Literal</td><td></td><td><a class=\"ProveItLink\" href=\"../../common/ef8e59262ff8e0133aa1ca984dd6b3a41bf69d5b0/expr.ipynb\"><img src=\"../../common/ef8e59262ff8e0133aa1ca984dd6b3a41bf69d5b0/expr.png\" style=\"display:inline;vertical-align:middle;\" /></a></td></tr>\n",
       "<tr><td>24</td><td>ExprTuple</td><td>25, 26</td><td><a class=\"ProveItLink\" href=\"../../axioms/8168c562b942d2349bc15878d637d47dc90786870/expr.ipynb\"><img src=\"../../axioms/8168c562b942d2349bc15878d637d47dc90786870/expr.png\" style=\"display:inline;vertical-align:middle;\" /></a></td></tr>\n",
       "<tr><td>25</td><td>Variable</td><td></td><td><a class=\"ProveItLink\" href=\"../../../../../../__pv_it/common/09585084922504426caf1db2ff588a23a0932a960/expr.ipynb\"><img src=\"../../../../../../__pv_it/common/09585084922504426caf1db2ff588a23a0932a960/expr.png\" style=\"display:inline;vertical-align:middle;\" /></a></td></tr>\n",
       "<tr><td>26</td><td>Variable</td><td></td><td><a class=\"ProveItLink\" href=\"../../../../../../__pv_it/common/a9162d1c3cc0470c02e5daf414500903a7a419230/expr.ipynb\"><img src=\"../../../../../../__pv_it/common/a9162d1c3cc0470c02e5daf414500903a7a419230/expr.png\" style=\"display:inline;vertical-align:middle;\" /></a></td></tr>\n",
       "</table>\n"
      ],
      "text/plain": [
       "0. (forall_{A in BOOLEAN} [forall_{B in BOOLEAN} ((A or B) in BOOLEAN)], forall_{A, B in BOOLEAN} ((A or B) in BOOLEAN))\n",
       "   core type: ExprTuple\n",
       "   sub-expressions: 1, 2\n",
       "1. forall_{A in BOOLEAN} [forall_{B in BOOLEAN} ((A or B) in BOOLEAN)]\n",
       "   core type: Operation\n",
       "   operator: 9\n",
       "   operand: 3\n",
       "2. forall_{A, B in BOOLEAN} ((A or B) in BOOLEAN)\n",
       "   core type: Operation\n",
       "   operator: 9\n",
       "   operand: 4\n",
       "3. A -> {forall_{B in BOOLEAN} ((A or B) in BOOLEAN) if A in BOOLEAN.\n",
       "   core type: Lambda\n",
       "   parameter: 25\n",
       "   body: 5\n",
       "4. (A, B) -> {(A or B) in BOOLEAN if A in BOOLEAN ,  B in BOOLEAN.\n",
       "   core type: Lambda\n",
       "   parameters: 24\\n   body: 6\n",
       "5. {forall_{B in BOOLEAN} ((A or B) in BOOLEAN) if A in BOOLEAN.\n",
       "   core type: Conditional\n",
       "   value: 7\n",
       "   condition: 14\n",
       "6. {(A or B) in BOOLEAN if A in BOOLEAN ,  B in BOOLEAN.\n",
       "   core type: Conditional\n",
       "   value: 15\n",
       "   condition: 8\n",
       "7. forall_{B in BOOLEAN} ((A or B) in BOOLEAN)\n",
       "   core type: Operation\n",
       "   operator: 9\n",
       "   operand: 10\n",
       "8. (A in BOOLEAN) and (B in BOOLEAN)\n",
       "   core type: Operation\n",
       "   operator: 11\n",
       "   operands: 12\n",
       "9. forall\n",
       "   core type: Literal\n",
       "   sub-expressions: \n",
       "10. B -> {(A or B) in BOOLEAN if B in BOOLEAN.\n",
       "    core type: Lambda\n",
       "    parameter: 26\n",
       "    body: 13\n",
       "11. and\n",
       "    core type: Literal\n",
       "    sub-expressions: \n",
       "12. (A in BOOLEAN, B in BOOLEAN)\n",
       "    core type: ExprTuple\n",
       "    sub-expressions: 14, 16\n",
       "13. {(A or B) in BOOLEAN if B in BOOLEAN.\n",
       "    core type: Conditional\n",
       "    value: 15\n",
       "    condition: 16\n",
       "14. A in BOOLEAN\n",
       "    core type: Operation\n",
       "    operator: 19\n",
       "    operands: 17\n",
       "15. (A or B) in BOOLEAN\n",
       "    core type: Operation\n",
       "    operator: 19\n",
       "    operands: 18\n",
       "16. B in BOOLEAN\n",
       "    core type: Operation\n",
       "    operator: 19\n",
       "    operands: 20\n",
       "17. (A, BOOLEAN)\n",
       "    core type: ExprTuple\n",
       "    sub-expressions: 25, 22\n",
       "18. (A or B, BOOLEAN)\n",
       "    core type: ExprTuple\n",
       "    sub-expressions: 21, 22\n",
       "19. in\n",
       "    core type: Literal\n",
       "    sub-expressions: \n",
       "20. (B, BOOLEAN)\n",
       "    core type: ExprTuple\n",
       "    sub-expressions: 26, 22\n",
       "21. A or B\n",
       "    core type: Operation\n",
       "    operator: 23\n",
       "    operands: 24\n",
       "22. BOOLEAN\n",
       "    core type: Literal\n",
       "    sub-expressions: \n",
       "23. or\n",
       "    core type: Literal\n",
       "    sub-expressions: \n",
       "24. (A, B)\n",
       "    core type: ExprTuple\n",
       "    sub-expressions: 25, 26\n",
       "25. A\n",
       "    core type: Variable\n",
       "    sub-expressions: \n",
       "26. B\n",
       "    core type: Variable\n",
       "    sub-expressions: "
      ]
     },
     "execution_count": 5,
     "metadata": {},
     "output_type": "execute_result"
    }
   ],
   "source": [
    "# display the expression information\n",
    "expr.expr_info()"
   ]
  },
  {
   "cell_type": "code",
   "execution_count": null,
   "metadata": {},
   "outputs": [],
   "source": []
  }
 ],
 "metadata": {
  "kernelspec": {
   "display_name": "Python 3",
   "language": "python",
   "name": "python3"
  }
 },
 "nbformat": 4,
 "nbformat_minor": 0
}