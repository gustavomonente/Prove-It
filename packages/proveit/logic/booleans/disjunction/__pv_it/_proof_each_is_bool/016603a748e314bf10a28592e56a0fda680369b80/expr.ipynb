{
 "cells": [
  {
   "cell_type": "markdown",
   "metadata": {},
   "source": [
    "Expression of type <a class=\"ProveItLink\" href=\"../../../../../../../../doc/html/api/proveit.ExprTuple.html\">ExprTuple</a>\n",
    "=======================\n",
    "# from the theory of <a class=\"ProveItLink\" href=\"../../../_theory_nbs_/theory.ipynb\">proveit.logic.booleans.disjunction</a>"
   ]
  },
  {
   "cell_type": "code",
   "execution_count": 1,
   "metadata": {},
   "outputs": [],
   "source": [
    "import proveit\n",
    "# Automation is not needed when building an expression:\n",
    "proveit.defaults.automation = False # This will speed things up.\n",
    "proveit.defaults.inline_pngs = False # Makes files smaller.\n",
    "%load_expr # Load the stored expression as 'stored_expr'\n",
    "# import Expression classes needed to build the expression\n",
    "from proveit import B, ExprTuple, m, n\n",
    "from proveit.core_expr_types import A_1_to_m, C_1_to_n\n",
    "from proveit.logic import Boolean, InSet, Or\n",
    "from proveit.numbers import Natural"
   ]
  },
  {
   "cell_type": "code",
   "execution_count": 2,
   "metadata": {},
   "outputs": [
    {
     "data": {
      "text/html": [
       "<strong id=\"expr\">expr:</strong> <a class=\"ProveItLink\" href=\"expr.ipynb\"><img src=\"expr.png\" style=\"display:inline;vertical-align:middle;\" /></a><br>"
      ],
      "text/plain": [
       "expr: (m in Natural, n in Natural, (A_{1} or ..A_{_a}.. or A_{m} or B or C_{1} or ..C_{_a}.. or C_{n}) in BOOLEAN)"
      ]
     },
     "execution_count": 2,
     "metadata": {},
     "output_type": "execute_result"
    }
   ],
   "source": [
    "# build up the expression from sub-expressions\n",
    "expr = ExprTuple(InSet(m, Natural), InSet(n, Natural), InSet(Or(A_1_to_m, B, C_1_to_n), Boolean))"
   ]
  },
  {
   "cell_type": "code",
   "execution_count": 3,
   "metadata": {},
   "outputs": [
    {
     "name": "stdout",
     "output_type": "stream",
     "text": [
      "Passed sanity check: expr matches stored_expr\n"
     ]
    }
   ],
   "source": [
    "# check that the built expression is the same as the stored expression\n",
    "assert expr == stored_expr\n",
    "assert expr._style_id == stored_expr._style_id\n",
    "print(\"Passed sanity check: expr matches stored_expr\")"
   ]
  },
  {
   "cell_type": "code",
   "execution_count": 4,
   "metadata": {},
   "outputs": [
    {
     "name": "stdout",
     "output_type": "stream",
     "text": [
      "\\left(m \\in \\mathbb{N}, n \\in \\mathbb{N}, \\left(A_{1} \\lor \\ldots \\lor A_{m} \\lor B \\lor C_{1} \\lor \\ldots \\lor C_{n}\\right) \\in \\mathbb{B}\\right)\n"
     ]
    }
   ],
   "source": [
    "# Show the LaTeX representation of the expression for convenience if you need it.\n",
    "print(expr.latex())"
   ]
  },
  {
   "cell_type": "code",
   "execution_count": 5,
   "metadata": {},
   "outputs": [
    {
     "data": {
      "text/html": [
       "<table><tr><th>&nbsp;</th><th>core type</th><th>sub-expressions</th><th>expression</th></tr>\n",
       "<tr><td>0</td><td>ExprTuple</td><td>1, 2, 3</td><td><a class=\"ProveItLink\" href=\"expr.ipynb\"><img src=\"expr.png\" style=\"display:inline;vertical-align:middle;\" /></a></td></tr>\n",
       "<tr><td>1</td><td>Operation</td><td>operator:&nbsp;6<br>operands:&nbsp;4<br></td><td><a class=\"ProveItLink\" href=\"../../axioms/98023afa4ea0d397f8a177bad4a359b36939fb170/expr.ipynb\"><img src=\"../../axioms/98023afa4ea0d397f8a177bad4a359b36939fb170/expr.png\" style=\"display:inline;vertical-align:middle;\" /></a></td></tr>\n",
       "<tr><td>2</td><td>Operation</td><td>operator:&nbsp;6<br>operands:&nbsp;5<br></td><td><a class=\"ProveItLink\" href=\"../../../../../../numbers/number_sets/natural_numbers/__pv_it/theorems/12ab02a6aa52e45203d5ea4187476fa00e51b3b50/expr.ipynb\"><img src=\"../../../../../../numbers/number_sets/natural_numbers/__pv_it/theorems/12ab02a6aa52e45203d5ea4187476fa00e51b3b50/expr.png\" style=\"display:inline;vertical-align:middle;\" /></a></td></tr>\n",
       "<tr><td>3</td><td>Operation</td><td>operator:&nbsp;6<br>operands:&nbsp;7<br></td><td><a class=\"ProveItLink\" href=\"../../theorems/71e18f3ca851a944e171bc56d075ed53d7de81ef0/expr.ipynb\"><img src=\"../../theorems/71e18f3ca851a944e171bc56d075ed53d7de81ef0/expr.png\" style=\"display:inline;vertical-align:middle;\" /></a></td></tr>\n",
       "<tr><td>4</td><td>ExprTuple</td><td>17, 8</td><td><a class=\"ProveItLink\" href=\"../../axioms/cd7d4f1c848a714c5e3ee950f74fc6919eb17af50/expr.ipynb\"><img src=\"../../axioms/cd7d4f1c848a714c5e3ee950f74fc6919eb17af50/expr.png\" style=\"display:inline;vertical-align:middle;\" /></a></td></tr>\n",
       "<tr><td>5</td><td>ExprTuple</td><td>20, 8</td><td><a class=\"ProveItLink\" href=\"../../../../../../numbers/number_sets/natural_numbers/__pv_it/theorems/085c3e3dd60775d5a3d2ee7cbdd012fa9fa1715b0/expr.ipynb\"><img src=\"../../../../../../numbers/number_sets/natural_numbers/__pv_it/theorems/085c3e3dd60775d5a3d2ee7cbdd012fa9fa1715b0/expr.png\" style=\"display:inline;vertical-align:middle;\" /></a></td></tr>\n",
       "<tr><td>6</td><td>Literal</td><td></td><td><a class=\"ProveItLink\" href=\"../../../../../sets/membership/__pv_it/common/477487d8796864d23d5810f83761435f25167f690/expr.ipynb\"><img src=\"../../../../../sets/membership/__pv_it/common/477487d8796864d23d5810f83761435f25167f690/expr.png\" style=\"display:inline;vertical-align:middle;\" /></a></td></tr>\n",
       "<tr><td>7</td><td>ExprTuple</td><td>9, 10</td><td><a class=\"ProveItLink\" href=\"../../theorems/3af6eac03c751701bfbc0258438480c93078eddc0/expr.ipynb\"><img src=\"../../theorems/3af6eac03c751701bfbc0258438480c93078eddc0/expr.png\" style=\"display:inline;vertical-align:middle;\" /></a></td></tr>\n",
       "<tr><td>8</td><td>Literal</td><td></td><td><a class=\"ProveItLink\" href=\"../../../../../../numbers/number_sets/natural_numbers/__pv_it/common/8b7c321957f52ed3b05b36af612eeae4fa4783bc0/expr.ipynb\"><img src=\"../../../../../../numbers/number_sets/natural_numbers/__pv_it/common/8b7c321957f52ed3b05b36af612eeae4fa4783bc0/expr.png\" style=\"display:inline;vertical-align:middle;\" /></a></td></tr>\n",
       "<tr><td>9</td><td>Operation</td><td>operator:&nbsp;11<br>operands:&nbsp;12<br></td><td><a class=\"ProveItLink\" href=\"../../theorems/ec992265ab97d7342782957642ead636bdcf1d300/expr.ipynb\"><img src=\"../../theorems/ec992265ab97d7342782957642ead636bdcf1d300/expr.png\" style=\"display:inline;vertical-align:middle;\" /></a></td></tr>\n",
       "<tr><td>10</td><td>Literal</td><td></td><td><a class=\"ProveItLink\" href=\"../../../../__pv_it/common/97424376de9815ad99f7180e3191b1cf4ab2a5710/expr.ipynb\"><img src=\"../../../../__pv_it/common/97424376de9815ad99f7180e3191b1cf4ab2a5710/expr.png\" style=\"display:inline;vertical-align:middle;\" /></a></td></tr>\n",
       "<tr><td>11</td><td>Literal</td><td></td><td><a class=\"ProveItLink\" href=\"../../common/ef8e59262ff8e0133aa1ca984dd6b3a41bf69d5b0/expr.ipynb\"><img src=\"../../common/ef8e59262ff8e0133aa1ca984dd6b3a41bf69d5b0/expr.png\" style=\"display:inline;vertical-align:middle;\" /></a></td></tr>\n",
       "<tr><td>12</td><td>ExprTuple</td><td>13, 14, 15</td><td><a class=\"ProveItLink\" href=\"../../theorems/6a395f0cc65f3883ec6cb4c867afa5b4342c7e720/expr.ipynb\"><img src=\"../../theorems/6a395f0cc65f3883ec6cb4c867afa5b4342c7e720/expr.png\" style=\"display:inline;vertical-align:middle;\" /></a></td></tr>\n",
       "<tr><td>13</td><td>ExprRange</td><td>lambda_map:&nbsp;16<br>start_index:&nbsp;19<br>end_index:&nbsp;17<br></td><td><a class=\"ProveItLink\" href=\"../../../../../../core_expr_types/__pv_it/common/91d05fae55026f965c0cd103d1c27b85b1e1aa760/expr.ipynb\"><img src=\"../../../../../../core_expr_types/__pv_it/common/91d05fae55026f965c0cd103d1c27b85b1e1aa760/expr.png\" style=\"display:inline;vertical-align:middle;\" /></a></td></tr>\n",
       "<tr><td>14</td><td>Variable</td><td></td><td><a class=\"ProveItLink\" href=\"../../../../../../__pv_it/common/a9162d1c3cc0470c02e5daf414500903a7a419230/expr.ipynb\"><img src=\"../../../../../../__pv_it/common/a9162d1c3cc0470c02e5daf414500903a7a419230/expr.png\" style=\"display:inline;vertical-align:middle;\" /></a></td></tr>\n",
       "<tr><td>15</td><td>ExprRange</td><td>lambda_map:&nbsp;18<br>start_index:&nbsp;19<br>end_index:&nbsp;20<br></td><td><a class=\"ProveItLink\" href=\"../../../../../../core_expr_types/__pv_it/common/e65c5945bd28d04ab16a8cf959c7330e438d17bc0/expr.ipynb\"><img src=\"../../../../../../core_expr_types/__pv_it/common/e65c5945bd28d04ab16a8cf959c7330e438d17bc0/expr.png\" style=\"display:inline;vertical-align:middle;\" /></a></td></tr>\n",
       "<tr><td>16</td><td>Lambda</td><td>parameter:&nbsp;25<br>body:&nbsp;21<br></td><td><a class=\"ProveItLink\" href=\"../../../../../../core_expr_types/__pv_it/common/db87d41146842355e9d6585688749d13269ab0980/expr.ipynb\"><img src=\"../../../../../../core_expr_types/__pv_it/common/db87d41146842355e9d6585688749d13269ab0980/expr.png\" style=\"display:inline;vertical-align:middle;\" /></a></td></tr>\n",
       "<tr><td>17</td><td>Variable</td><td></td><td><a class=\"ProveItLink\" href=\"../../../../../../__pv_it/common/674a03b9c3ca221b3aabd5636837b31528ff33830/expr.ipynb\"><img src=\"../../../../../../__pv_it/common/674a03b9c3ca221b3aabd5636837b31528ff33830/expr.png\" style=\"display:inline;vertical-align:middle;\" /></a></td></tr>\n",
       "<tr><td>18</td><td>Lambda</td><td>parameter:&nbsp;25<br>body:&nbsp;22<br></td><td><a class=\"ProveItLink\" href=\"../../../../../../core_expr_types/__pv_it/common/735fd06c5ab0aaa2fbd887b513f592492fdcee940/expr.ipynb\"><img src=\"../../../../../../core_expr_types/__pv_it/common/735fd06c5ab0aaa2fbd887b513f592492fdcee940/expr.png\" style=\"display:inline;vertical-align:middle;\" /></a></td></tr>\n",
       "<tr><td>19</td><td>Literal</td><td></td><td><a class=\"ProveItLink\" href=\"../../../../../../numbers/numerals/__pv_it/common/2778428c7f555b2bdc06aa0530bc142c6e6335100/expr.ipynb\"><img src=\"../../../../../../numbers/numerals/__pv_it/common/2778428c7f555b2bdc06aa0530bc142c6e6335100/expr.png\" style=\"display:inline;vertical-align:middle;\" /></a></td></tr>\n",
       "<tr><td>20</td><td>Variable</td><td></td><td><a class=\"ProveItLink\" href=\"../../../../../../__pv_it/common/8968bb04eb3f7dfa02353397ce929b025bbd79c20/expr.ipynb\"><img src=\"../../../../../../__pv_it/common/8968bb04eb3f7dfa02353397ce929b025bbd79c20/expr.png\" style=\"display:inline;vertical-align:middle;\" /></a></td></tr>\n",
       "<tr><td>21</td><td>IndexedVar</td><td>variable:&nbsp;23<br>index:&nbsp;25<br></td><td><a class=\"ProveItLink\" href=\"../../../../../../core_expr_types/__pv_it/common/65f6ea908cba61c02c46e59c65a80b52e171496d0/expr.ipynb\"><img src=\"../../../../../../core_expr_types/__pv_it/common/65f6ea908cba61c02c46e59c65a80b52e171496d0/expr.png\" style=\"display:inline;vertical-align:middle;\" /></a></td></tr>\n",
       "<tr><td>22</td><td>IndexedVar</td><td>variable:&nbsp;24<br>index:&nbsp;25<br></td><td><a class=\"ProveItLink\" href=\"../../../../../../core_expr_types/__pv_it/common/129e0fbda88d5300ebce8374b884a28c2f22b2730/expr.ipynb\"><img src=\"../../../../../../core_expr_types/__pv_it/common/129e0fbda88d5300ebce8374b884a28c2f22b2730/expr.png\" style=\"display:inline;vertical-align:middle;\" /></a></td></tr>\n",
       "<tr><td>23</td><td>Variable</td><td></td><td><a class=\"ProveItLink\" href=\"../../../../../../__pv_it/common/09585084922504426caf1db2ff588a23a0932a960/expr.ipynb\"><img src=\"../../../../../../__pv_it/common/09585084922504426caf1db2ff588a23a0932a960/expr.png\" style=\"display:inline;vertical-align:middle;\" /></a></td></tr>\n",
       "<tr><td>24</td><td>Variable</td><td></td><td><a class=\"ProveItLink\" href=\"../../../../../../__pv_it/common/9fba9f29e823606ff4fdf2f1c6d5d08d906e850a0/expr.ipynb\"><img src=\"../../../../../../__pv_it/common/9fba9f29e823606ff4fdf2f1c6d5d08d906e850a0/expr.png\" style=\"display:inline;vertical-align:middle;\" /></a></td></tr>\n",
       "<tr><td>25</td><td>Variable</td><td></td><td><a class=\"ProveItLink\" href=\"../../../../../../core_expr_types/__pv_it/common/006c465e50948aa2b52285e2de47974f741255cc0/expr.ipynb\"><img src=\"../../../../../../core_expr_types/__pv_it/common/006c465e50948aa2b52285e2de47974f741255cc0/expr.png\" style=\"display:inline;vertical-align:middle;\" /></a></td></tr>\n",
       "</table>\n"
      ],
      "text/plain": [
       "0. (m in Natural, n in Natural, (A_{1} or ..A_{_a}.. or A_{m} or B or C_{1} or ..C_{_a}.. or C_{n}) in BOOLEAN)\n",
       "   core type: ExprTuple\n",
       "   sub-expressions: 1, 2, 3\n",
       "1. m in Natural\n",
       "   core type: Operation\n",
       "   operator: 6\n",
       "   operands: 4\n",
       "2. n in Natural\n",
       "   core type: Operation\n",
       "   operator: 6\n",
       "   operands: 5\n",
       "3. (A_{1} or ..A_{_a}.. or A_{m} or B or C_{1} or ..C_{_a}.. or C_{n}) in BOOLEAN\n",
       "   core type: Operation\n",
       "   operator: 6\n",
       "   operands: 7\n",
       "4. (m, Natural)\n",
       "   core type: ExprTuple\n",
       "   sub-expressions: 17, 8\n",
       "5. (n, Natural)\n",
       "   core type: ExprTuple\n",
       "   sub-expressions: 20, 8\n",
       "6. in\n",
       "   core type: Literal\n",
       "   sub-expressions: \n",
       "7. (A_{1} or ..A_{_a}.. or A_{m} or B or C_{1} or ..C_{_a}.. or C_{n}, BOOLEAN)\n",
       "   core type: ExprTuple\n",
       "   sub-expressions: 9, 10\n",
       "8. Natural\n",
       "   core type: Literal\n",
       "   sub-expressions: \n",
       "9. A_{1} or ..A_{_a}.. or A_{m} or B or C_{1} or ..C_{_a}.. or C_{n}\n",
       "   core type: Operation\n",
       "   operator: 11\n",
       "   operands: 12\n",
       "10. BOOLEAN\n",
       "    core type: Literal\n",
       "    sub-expressions: \n",
       "11. or\n",
       "    core type: Literal\n",
       "    sub-expressions: \n",
       "12. (A_{1}, ..A_{_a}.., A_{m}, B, C_{1}, ..C_{_a}.., C_{n})\n",
       "    core type: ExprTuple\n",
       "    sub-expressions: 13, 14, 15\n",
       "13. A_{1}, ..A_{_a}.., A_{m}\n",
       "    core type: ExprRange\n",
       "    lambda_map: 16\n",
       "    start_index: 19\n",
       "    end_index: 17\n",
       "14. B\n",
       "    core type: Variable\n",
       "    sub-expressions: \n",
       "15. C_{1}, ..C_{_a}.., C_{n}\n",
       "    core type: ExprRange\n",
       "    lambda_map: 18\n",
       "    start_index: 19\n",
       "    end_index: 20\n",
       "16. _a -> A_{_a}\n",
       "    core type: Lambda\n",
       "    parameter: 25\n",
       "    body: 21\n",
       "17. m\n",
       "    core type: Variable\n",
       "    sub-expressions: \n",
       "18. _a -> C_{_a}\n",
       "    core type: Lambda\n",
       "    parameter: 25\n",
       "    body: 22\n",
       "19. 1\n",
       "    core type: Literal\n",
       "    sub-expressions: \n",
       "20. n\n",
       "    core type: Variable\n",
       "    sub-expressions: \n",
       "21. A_{_a}\n",
       "    core type: IndexedVar\n",
       "variable: 23\n",
       "index: 25\n",
       "22. C_{_a}\n",
       "    core type: IndexedVar\n",
       "variable: 24\n",
       "index: 25\n",
       "23. A\n",
       "    core type: Variable\n",
       "    sub-expressions: \n",
       "24. C\n",
       "    core type: Variable\n",
       "    sub-expressions: \n",
       "25. _a\n",
       "    core type: Variable\n",
       "    sub-expressions: "
      ]
     },
     "execution_count": 5,
     "metadata": {},
     "output_type": "execute_result"
    }
   ],
   "source": [
    "# display the expression information\n",
    "expr.expr_info()"
   ]
  },
  {
   "cell_type": "code",
   "execution_count": null,
   "metadata": {},
   "outputs": [],
   "source": []
  }
 ],
 "metadata": {
  "kernelspec": {
   "display_name": "Python 3",
   "language": "python",
   "name": "python3"
  }
 },
 "nbformat": 4,
 "nbformat_minor": 0
}