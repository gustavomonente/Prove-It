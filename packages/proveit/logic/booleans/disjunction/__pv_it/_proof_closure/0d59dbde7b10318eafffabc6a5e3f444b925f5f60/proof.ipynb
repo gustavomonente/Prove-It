{
 "cells": [
  {
   "cell_type": "markdown",
   "metadata": {},
   "source": [
    "Show the Proof\n",
    "========"
   ]
  },
  {
   "cell_type": "code",
   "execution_count": 1,
   "metadata": {},
   "outputs": [
    {
     "data": {
      "text/html": [
       "<table><tr><th>&nbsp;</th><th>step type</th><th>requirements</th><th>statement</th></tr>\n",
       "<tr><td><a name=\"proveit.logic.booleans.disjunction._proof_closure.0d59dbde7b10318eafffabc6a5e3f444b925f5f60_step0\">0</a></td><td>instantiation</td><td><a href=\"#proveit.logic.booleans.disjunction._proof_closure.0d59dbde7b10318eafffabc6a5e3f444b925f5f60_step1\">1</a>, <a href=\"#proveit.logic.booleans.disjunction._proof_closure.0d59dbde7b10318eafffabc6a5e3f444b925f5f60_step2\">2</a></td><td><span style=\"font-size:20px;\"><a class=\"ProveItLink\" href=\"../92a45f323869705626588f1d8998f8228acb874d0/expr.ipynb\"><img src=\"../92a45f323869705626588f1d8998f8228acb874d0/expr.png\" style=\"display:inline;vertical-align:middle;\" /></a> <a class=\"ProveItLink\" href=\"proof.ipynb\" style=\"text-decoration: none\">&nbsp;&#x22A2;&nbsp;&nbsp;</a><a class=\"ProveItLink\" href=\"../5d4d03eb802f884321009f76501c8bb87ccf1b420/expr.ipynb\"><img src=\"../5d4d03eb802f884321009f76501c8bb87ccf1b420/expr.png\" style=\"display:inline;vertical-align:middle;\" /></a></span></td></tr>\n",
       "<tr><td>&nbsp;</td><td colspan=4 style=\"text-align:left\"><span style=\"font-size:20px;\"><a class=\"ProveItLink\" href=\"../../../../../../__pv_it/common/e4aad701f7f5516d8e7f0d805d518bf02c13322a0/expr.ipynb\"><img src=\"../../../../../../__pv_it/common/e4aad701f7f5516d8e7f0d805d518bf02c13322a0/expr.png\" style=\"display:inline;vertical-align:middle;\" /></a> : <a class=\"ProveItLink\" href=\"../ce1b49afc6c50439fe2611c2f6db7dd9c15384ff0/expr.ipynb\"><img src=\"../ce1b49afc6c50439fe2611c2f6db7dd9c15384ff0/expr.png\" style=\"display:inline;vertical-align:middle;\" /></a></span></td></tr><tr><td><a name=\"proveit.logic.booleans.disjunction._proof_closure.0d59dbde7b10318eafffabc6a5e3f444b925f5f60_step1\">1</a></td><td>theorem</td><td></td><td><span style=\"font-size:20px;\"> <a class=\"ProveItLink\" href=\"../../../_theory_nbs_/proofs/unary_or_reduction/thm_proof.ipynb\" style=\"text-decoration: none\">&nbsp;&#x22A2;&nbsp;&nbsp;</a><a class=\"ProveItLink\" href=\"../../theorems/131d173a01015a533ad3e5b10320b471401b34610/expr.ipynb\"><img src=\"../../theorems/131d173a01015a533ad3e5b10320b471401b34610/expr.png\" style=\"display:inline;vertical-align:middle;\" /></a></span></td></tr>\n",
       "<tr><td>&nbsp;</td><td colspan=4 style-\"text-align:left\"><a class=\"ProveItLink\" href=\"../../../_theory_nbs_/proofs/unary_or_reduction/thm_proof.ipynb\">proveit.logic.booleans.disjunction.unary_or_reduction</a></td></tr><tr><td><a name=\"proveit.logic.booleans.disjunction._proof_closure.0d59dbde7b10318eafffabc6a5e3f444b925f5f60_step2\">2</a></td><td>instantiation</td><td><a href=\"#proveit.logic.booleans.disjunction._proof_closure.0d59dbde7b10318eafffabc6a5e3f444b925f5f60_step3\">3</a>, <a href=\"#proveit.logic.booleans.disjunction._proof_closure.0d59dbde7b10318eafffabc6a5e3f444b925f5f60_step4\">4</a></td><td><span style=\"font-size:20px;\"><a class=\"ProveItLink\" href=\"../92a45f323869705626588f1d8998f8228acb874d0/expr.ipynb\"><img src=\"../92a45f323869705626588f1d8998f8228acb874d0/expr.png\" style=\"display:inline;vertical-align:middle;\" /></a> <a class=\"ProveItLink\" href=\"../637875d1ed7f7540a8412b128adbe7f10e41def50/proof.ipynb\" style=\"text-decoration: none\">&nbsp;&#x22A2;&nbsp;&nbsp;</a><a class=\"ProveItLink\" href=\"../a1bbab9ae2c54acff4dedf172196113b5197a84f0/expr.ipynb\"><img src=\"../a1bbab9ae2c54acff4dedf172196113b5197a84f0/expr.png\" style=\"display:inline;vertical-align:middle;\" /></a></span></td></tr>\n",
       "<tr><td>&nbsp;</td><td colspan=4 style=\"text-align:left\"><span style=\"font-size:20px;\"><a class=\"ProveItLink\" href=\"../../../../../../__pv_it/common/e4aad701f7f5516d8e7f0d805d518bf02c13322a0/expr.ipynb\"><img src=\"../../../../../../__pv_it/common/e4aad701f7f5516d8e7f0d805d518bf02c13322a0/expr.png\" style=\"display:inline;vertical-align:middle;\" /></a> : <a class=\"ProveItLink\" href=\"../a1bbab9ae2c54acff4dedf172196113b5197a84f0/expr.ipynb\"><img src=\"../a1bbab9ae2c54acff4dedf172196113b5197a84f0/expr.png\" style=\"display:inline;vertical-align:middle;\" /></a></span></td></tr><tr><td><a name=\"proveit.logic.booleans.disjunction._proof_closure.0d59dbde7b10318eafffabc6a5e3f444b925f5f60_step3\">3</a></td><td>theorem</td><td></td><td><span style=\"font-size:20px;\"> <a class=\"ProveItLink\" href=\"../../../../conjunction/_theory_nbs_/proofs/from_unary_and/thm_proof.ipynb\" style=\"text-decoration: none\">&nbsp;&#x22A2;&nbsp;&nbsp;</a><a class=\"ProveItLink\" href=\"../../../../conjunction/__pv_it/theorems/f6aff55015c7d5092a18d45174f4a26ec1ceef5c0/expr.ipynb\"><img src=\"../../../../conjunction/__pv_it/theorems/f6aff55015c7d5092a18d45174f4a26ec1ceef5c0/expr.png\" style=\"display:inline;vertical-align:middle;\" /></a></span></td></tr>\n",
       "<tr><td>&nbsp;</td><td colspan=4 style-\"text-align:left\"><a class=\"ProveItLink\" href=\"../../../../conjunction/_theory_nbs_/proofs/from_unary_and/thm_proof.ipynb\">proveit.logic.booleans.conjunction.from_unary_and</a></td></tr><tr><td><a name=\"proveit.logic.booleans.disjunction._proof_closure.0d59dbde7b10318eafffabc6a5e3f444b925f5f60_step4\">4</a></td><td>assumption</td><td></td><td><span style=\"font-size:20px;\"><a class=\"ProveItLink\" href=\"../92a45f323869705626588f1d8998f8228acb874d0/expr.ipynb\"><img src=\"../92a45f323869705626588f1d8998f8228acb874d0/expr.png\" style=\"display:inline;vertical-align:middle;\" /></a> <a class=\"ProveItLink\" href=\"../b1134f1e8f2e77bdbad900617445a903980d34da0/proof.ipynb\" style=\"text-decoration: none\">&nbsp;&#x22A2;&nbsp;&nbsp;</a><a class=\"ProveItLink\" href=\"../92a45f323869705626588f1d8998f8228acb874d0/expr.ipynb\"><img src=\"../92a45f323869705626588f1d8998f8228acb874d0/expr.png\" style=\"display:inline;vertical-align:middle;\" /></a></span></td></tr>\n",
       "</table>"
      ],
      "text/plain": [
       "<proveit._core_.proof._ShowProof at 0x7f4ea40c1e48>"
      ]
     },
     "execution_count": 1,
     "metadata": {},
     "output_type": "execute_result"
    }
   ],
   "source": [
    "import proveit\n",
    "# Automation is not needed when only showing a stored proof:\n",
    "proveit.defaults.automation = False # This will speed things up.\n",
    "proveit.defaults.inline_pngs = False # Makes files smaller.\n",
    "%show_proof"
   ]
  },
  {
   "cell_type": "code",
   "execution_count": null,
   "metadata": {},
   "outputs": [],
   "source": []
  }
 ],
 "metadata": {
  "kernelspec": {
   "display_name": "Python 3",
   "language": "python",
   "name": "python3"
  },
  "language_info": {
   "codemirror_mode": {
    "name": "ipython",
    "version": 3
   },
   "file_extension": ".py",
   "mimetype": "text/x-python",
   "name": "python",
   "nbconvert_exporter": "python",
   "pygments_lexer": "ipython3",
   "version": "3.7.3"
  }
 },
 "nbformat": 4,
 "nbformat_minor": 1
}