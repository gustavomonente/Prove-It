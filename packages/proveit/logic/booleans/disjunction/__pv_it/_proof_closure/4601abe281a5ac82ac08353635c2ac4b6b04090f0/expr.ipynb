{
 "cells": [
  {
   "cell_type": "markdown",
   "metadata": {},
   "source": [
    "Expression of type <a class=\"ProveItLink\" href=\"../../../../../../../../doc/html/api/proveit.Lambda.html\">Lambda</a>\n",
    "=======================\n",
    "# from the theory of <a class=\"ProveItLink\" href=\"../../../_theory_nbs_/theory.ipynb\">proveit.logic.booleans.disjunction</a>"
   ]
  },
  {
   "cell_type": "code",
   "execution_count": 1,
   "metadata": {},
   "outputs": [],
   "source": [
    "import proveit\n",
    "# Automation is not needed when building an expression:\n",
    "proveit.defaults.automation = False # This will speed things up.\n",
    "proveit.defaults.inline_pngs = False # Makes files smaller.\n",
    "%load_expr # Load the stored expression as 'stored_expr'\n",
    "# import Expression classes needed to build the expression\n",
    "from proveit import A, Conditional, ExprRange, IndexedVar, Lambda, Variable, n\n",
    "from proveit.logic import Boolean, Forall, InSet, Or\n",
    "from proveit.numbers import NaturalPos, one"
   ]
  },
  {
   "cell_type": "code",
   "execution_count": 2,
   "metadata": {},
   "outputs": [
    {
     "data": {
      "text/html": [
       "<strong id=\"expr\">expr:</strong> <a class=\"ProveItLink\" href=\"expr.ipynb\"><img src=\"expr.png\" style=\"display:inline;vertical-align:middle;\" /></a><br>"
      ],
      "text/plain": [
       "expr: n -> {forall_{A_{1}, ..A_{_a}.., A_{n} in BOOLEAN} ((A_{1} or ..A_{_a}.. or A_{n}) in BOOLEAN) if n in NaturalPos."
      ]
     },
     "execution_count": 2,
     "metadata": {},
     "output_type": "execute_result"
    }
   ],
   "source": [
    "# build up the expression from sub-expressions\n",
    "sub_expr1 = Variable(\"_a\", latex_format = r\"{_{-}a}\")\n",
    "sub_expr2 = ExprRange(sub_expr1, IndexedVar(A, sub_expr1), one, n)\n",
    "expr = Lambda(n, Conditional(Forall([sub_expr2], InSet(Or(sub_expr2), Boolean), domains = [Boolean]), InSet(n, NaturalPos)))"
   ]
  },
  {
   "cell_type": "code",
   "execution_count": 3,
   "metadata": {},
   "outputs": [
    {
     "name": "stdout",
     "output_type": "stream",
     "text": [
      "Passed sanity check: expr matches stored_expr\n"
     ]
    }
   ],
   "source": [
    "# check that the built expression is the same as the stored expression\n",
    "assert expr == stored_expr\n",
    "assert expr._style_id == stored_expr._style_id\n",
    "print(\"Passed sanity check: expr matches stored_expr\")"
   ]
  },
  {
   "cell_type": "code",
   "execution_count": 4,
   "metadata": {},
   "outputs": [
    {
     "name": "stdout",
     "output_type": "stream",
     "text": [
      "n \\mapsto \\left\\{\\forall_{A_{1}, \\ldots, A_{n} \\in \\mathbb{B}}~\\left(\\left(A_{1} \\lor \\ldots \\lor A_{n}\\right) \\in \\mathbb{B}\\right) \\textrm{ if } n \\in \\mathbb{N}^+\\right..\n"
     ]
    }
   ],
   "source": [
    "# Show the LaTeX representation of the expression for convenience if you need it.\n",
    "print(expr.latex())"
   ]
  },
  {
   "cell_type": "code",
   "execution_count": 5,
   "metadata": {},
   "outputs": [
    {
     "data": {
      "text/html": [
       "no style options"
      ],
      "text/plain": [
       "no style options"
      ]
     },
     "execution_count": 5,
     "metadata": {},
     "output_type": "execute_result"
    }
   ],
   "source": [
    "expr.style_options()"
   ]
  },
  {
   "cell_type": "code",
   "execution_count": 6,
   "metadata": {},
   "outputs": [
    {
     "data": {
      "text/html": [
       "<table><tr><th>&nbsp;</th><th>core type</th><th>sub-expressions</th><th>expression</th></tr>\n",
       "<tr><td>0</td><td>Lambda</td><td>parameter:&nbsp;24<br>body:&nbsp;1<br></td><td><a class=\"ProveItLink\" href=\"expr.ipynb\"><img src=\"expr.png\" style=\"display:inline;vertical-align:middle;\" /></a></td></tr>\n",
       "<tr><td>1</td><td>Conditional</td><td>value:&nbsp;2<br>condition:&nbsp;3<br></td><td><a class=\"ProveItLink\" href=\"../31a6ac8a0de88779bbb9fde0540733f7ebdf2a090/expr.ipynb\"><img src=\"../31a6ac8a0de88779bbb9fde0540733f7ebdf2a090/expr.png\" style=\"display:inline;vertical-align:middle;\" /></a></td></tr>\n",
       "<tr><td>2</td><td>Operation</td><td>operator:&nbsp;4<br>operand:&nbsp;7<br></td><td><a class=\"ProveItLink\" href=\"../5880ef5612afe35294140bb1dc30b5e49c5942b80/expr.ipynb\"><img src=\"../5880ef5612afe35294140bb1dc30b5e49c5942b80/expr.png\" style=\"display:inline;vertical-align:middle;\" /></a></td></tr>\n",
       "<tr><td>3</td><td>Operation</td><td>operator:&nbsp;25<br>operands:&nbsp;6<br></td><td><a class=\"ProveItLink\" href=\"../../../../../../numbers/number_sets/natural_numbers/__pv_it/theorems/c137fc4bdb69d9d8200a128e712a550420acc4790/expr.ipynb\"><img src=\"../../../../../../numbers/number_sets/natural_numbers/__pv_it/theorems/c137fc4bdb69d9d8200a128e712a550420acc4790/expr.png\" style=\"display:inline;vertical-align:middle;\" /></a></td></tr>\n",
       "<tr><td>4</td><td>Literal</td><td></td><td><a class=\"ProveItLink\" href=\"../../../../quantification/universality/__pv_it/common/684d35ba98fcbf8ca5011f865e530a51e77730630/expr.ipynb\"><img src=\"../../../../quantification/universality/__pv_it/common/684d35ba98fcbf8ca5011f865e530a51e77730630/expr.png\" style=\"display:inline;vertical-align:middle;\" /></a></td></tr>\n",
       "<tr><td>5</td><td>ExprTuple</td><td>7</td><td><a class=\"ProveItLink\" href=\"../23ddb0b73fca3100737ed84b4613f439fd642f2d0/expr.ipynb\"><img src=\"../23ddb0b73fca3100737ed84b4613f439fd642f2d0/expr.png\" style=\"display:inline;vertical-align:middle;\" /></a></td></tr>\n",
       "<tr><td>6</td><td>ExprTuple</td><td>24, 8</td><td><a class=\"ProveItLink\" href=\"../../../../../../numbers/number_sets/natural_numbers/__pv_it/theorems/7228b855ca92cba683b50e93e2a2e59565fe73200/expr.ipynb\"><img src=\"../../../../../../numbers/number_sets/natural_numbers/__pv_it/theorems/7228b855ca92cba683b50e93e2a2e59565fe73200/expr.png\" style=\"display:inline;vertical-align:middle;\" /></a></td></tr>\n",
       "<tr><td>7</td><td>Lambda</td><td>parameters:&nbsp;18<br>body:&nbsp;9<br></td><td><a class=\"ProveItLink\" href=\"../9798dce62818ce6bb21f742ff42d030d2b1c35ce0/expr.ipynb\"><img src=\"../9798dce62818ce6bb21f742ff42d030d2b1c35ce0/expr.png\" style=\"display:inline;vertical-align:middle;\" /></a></td></tr>\n",
       "<tr><td>8</td><td>Literal</td><td></td><td><a class=\"ProveItLink\" href=\"../../../../../../numbers/number_sets/natural_numbers/__pv_it/common/a2a7252783c385c028dad802e97575c19e456b990/expr.ipynb\"><img src=\"../../../../../../numbers/number_sets/natural_numbers/__pv_it/common/a2a7252783c385c028dad802e97575c19e456b990/expr.png\" style=\"display:inline;vertical-align:middle;\" /></a></td></tr>\n",
       "<tr><td>9</td><td>Conditional</td><td>value:&nbsp;10<br>condition:&nbsp;11<br></td><td><a class=\"ProveItLink\" href=\"../0ce56301dd692b8aa34803cf48d564da686496f10/expr.ipynb\"><img src=\"../0ce56301dd692b8aa34803cf48d564da686496f10/expr.png\" style=\"display:inline;vertical-align:middle;\" /></a></td></tr>\n",
       "<tr><td>10</td><td>Operation</td><td>operator:&nbsp;25<br>operands:&nbsp;12<br></td><td><a class=\"ProveItLink\" href=\"../c1fd400f7105181c5174d3f12353bde6225b7dd80/expr.ipynb\"><img src=\"../c1fd400f7105181c5174d3f12353bde6225b7dd80/expr.png\" style=\"display:inline;vertical-align:middle;\" /></a></td></tr>\n",
       "<tr><td>11</td><td>Operation</td><td>operator:&nbsp;13<br>operands:&nbsp;14<br></td><td><a class=\"ProveItLink\" href=\"../f604a33716e81af44e7dc4034d92194507c022790/expr.ipynb\"><img src=\"../f604a33716e81af44e7dc4034d92194507c022790/expr.png\" style=\"display:inline;vertical-align:middle;\" /></a></td></tr>\n",
       "<tr><td>12</td><td>ExprTuple</td><td>15, 28</td><td><a class=\"ProveItLink\" href=\"../2ee08f40e29c5bbbc4db251d6751ba1b616f00c00/expr.ipynb\"><img src=\"../2ee08f40e29c5bbbc4db251d6751ba1b616f00c00/expr.png\" style=\"display:inline;vertical-align:middle;\" /></a></td></tr>\n",
       "<tr><td>13</td><td>Literal</td><td></td><td><a class=\"ProveItLink\" href=\"../../../../conjunction/__pv_it/common/26b94b53e70b1d77b70f0d9d4236347db37731060/expr.ipynb\"><img src=\"../../../../conjunction/__pv_it/common/26b94b53e70b1d77b70f0d9d4236347db37731060/expr.png\" style=\"display:inline;vertical-align:middle;\" /></a></td></tr>\n",
       "<tr><td>14</td><td>ExprTuple</td><td>16</td><td><a class=\"ProveItLink\" href=\"../32d9b28e9e61858d5cd9146189a27a9e9778f0c40/expr.ipynb\"><img src=\"../32d9b28e9e61858d5cd9146189a27a9e9778f0c40/expr.png\" style=\"display:inline;vertical-align:middle;\" /></a></td></tr>\n",
       "<tr><td>15</td><td>Operation</td><td>operator:&nbsp;17<br>operands:&nbsp;18<br></td><td><a class=\"ProveItLink\" href=\"../3df6287f50b5fb02346a3d7ede298617b34936070/expr.ipynb\"><img src=\"../3df6287f50b5fb02346a3d7ede298617b34936070/expr.png\" style=\"display:inline;vertical-align:middle;\" /></a></td></tr>\n",
       "<tr><td>16</td><td>ExprRange</td><td>lambda_map:&nbsp;19<br>start_index:&nbsp;23<br>end_index:&nbsp;24<br></td><td><a class=\"ProveItLink\" href=\"../6f9b94fdf8e933032b4050b55e99110510f286610/expr.ipynb\"><img src=\"../6f9b94fdf8e933032b4050b55e99110510f286610/expr.png\" style=\"display:inline;vertical-align:middle;\" /></a></td></tr>\n",
       "<tr><td>17</td><td>Literal</td><td></td><td><a class=\"ProveItLink\" href=\"../../common/0e5dcae3232d8ebdc0777b8ce92ce453a450f6c30/expr.ipynb\"><img src=\"../../common/0e5dcae3232d8ebdc0777b8ce92ce453a450f6c30/expr.png\" style=\"display:inline;vertical-align:middle;\" /></a></td></tr>\n",
       "<tr><td>18</td><td>ExprTuple</td><td>20</td><td><a class=\"ProveItLink\" href=\"../51ef372beba3c67119a0df2f0a0c7e4281dfefda0/expr.ipynb\"><img src=\"../51ef372beba3c67119a0df2f0a0c7e4281dfefda0/expr.png\" style=\"display:inline;vertical-align:middle;\" /></a></td></tr>\n",
       "<tr><td>19</td><td>Lambda</td><td>parameter:&nbsp;31<br>body:&nbsp;21<br></td><td><a class=\"ProveItLink\" href=\"../../theorems/57ad99e7c548004330720c8120fe2f3f488dfd7b0/expr.ipynb\"><img src=\"../../theorems/57ad99e7c548004330720c8120fe2f3f488dfd7b0/expr.png\" style=\"display:inline;vertical-align:middle;\" /></a></td></tr>\n",
       "<tr><td>20</td><td>ExprRange</td><td>lambda_map:&nbsp;22<br>start_index:&nbsp;23<br>end_index:&nbsp;24<br></td><td><a class=\"ProveItLink\" href=\"../0fdf853c4f52c5ee3b2464757c7672c7b2602d930/expr.ipynb\"><img src=\"../0fdf853c4f52c5ee3b2464757c7672c7b2602d930/expr.png\" style=\"display:inline;vertical-align:middle;\" /></a></td></tr>\n",
       "<tr><td>21</td><td>Operation</td><td>operator:&nbsp;25<br>operands:&nbsp;26<br></td><td><a class=\"ProveItLink\" href=\"../../theorems/55edfe981d91e57d14ee559c772a50bf666d0ed20/expr.ipynb\"><img src=\"../../theorems/55edfe981d91e57d14ee559c772a50bf666d0ed20/expr.png\" style=\"display:inline;vertical-align:middle;\" /></a></td></tr>\n",
       "<tr><td>22</td><td>Lambda</td><td>parameter:&nbsp;31<br>body:&nbsp;27<br></td><td><a class=\"ProveItLink\" href=\"../../../../../../core_expr_types/__pv_it/common/7cb3671e4363a47742a54e63b73ddf8e8fe2c9390/expr.ipynb\"><img src=\"../../../../../../core_expr_types/__pv_it/common/7cb3671e4363a47742a54e63b73ddf8e8fe2c9390/expr.png\" style=\"display:inline;vertical-align:middle;\" /></a></td></tr>\n",
       "<tr><td>23</td><td>Literal</td><td></td><td><a class=\"ProveItLink\" href=\"../../../../../../numbers/numerals/__pv_it/common/d278e359da0695d9652dd541d45264f93703e2e40/expr.ipynb\"><img src=\"../../../../../../numbers/numerals/__pv_it/common/d278e359da0695d9652dd541d45264f93703e2e40/expr.png\" style=\"display:inline;vertical-align:middle;\" /></a></td></tr>\n",
       "<tr><td>24</td><td>Variable</td><td></td><td><a class=\"ProveItLink\" href=\"../../../../../../__pv_it/common/6165c9bb82ce3c7097cdba4440a1aeeb6eaca8a40/expr.ipynb\"><img src=\"../../../../../../__pv_it/common/6165c9bb82ce3c7097cdba4440a1aeeb6eaca8a40/expr.png\" style=\"display:inline;vertical-align:middle;\" /></a></td></tr>\n",
       "<tr><td>25</td><td>Literal</td><td></td><td><a class=\"ProveItLink\" href=\"../../../../../sets/membership/__pv_it/common/7171deca84f71f47a6ec7696972d1632274a12880/expr.ipynb\"><img src=\"../../../../../sets/membership/__pv_it/common/7171deca84f71f47a6ec7696972d1632274a12880/expr.png\" style=\"display:inline;vertical-align:middle;\" /></a></td></tr>\n",
       "<tr><td>26</td><td>ExprTuple</td><td>27, 28</td><td><a class=\"ProveItLink\" href=\"../../theorems/0abcd98583fac5283d1d91942b1fa1206b700a840/expr.ipynb\"><img src=\"../../theorems/0abcd98583fac5283d1d91942b1fa1206b700a840/expr.png\" style=\"display:inline;vertical-align:middle;\" /></a></td></tr>\n",
       "<tr><td>27</td><td>IndexedVar</td><td>variable:&nbsp;29<br>index:&nbsp;31<br></td><td><a class=\"ProveItLink\" href=\"../../../../../../core_expr_types/__pv_it/common/44c047560b26e24c2a9af7e0d00ef8bc5e74e7580/expr.ipynb\"><img src=\"../../../../../../core_expr_types/__pv_it/common/44c047560b26e24c2a9af7e0d00ef8bc5e74e7580/expr.png\" style=\"display:inline;vertical-align:middle;\" /></a></td></tr>\n",
       "<tr><td>28</td><td>Literal</td><td></td><td><a class=\"ProveItLink\" href=\"../../../../__pv_it/common/8fc291135425020cce4ba1ad615843f54f1fc6600/expr.ipynb\"><img src=\"../../../../__pv_it/common/8fc291135425020cce4ba1ad615843f54f1fc6600/expr.png\" style=\"display:inline;vertical-align:middle;\" /></a></td></tr>\n",
       "<tr><td>29</td><td>Variable</td><td></td><td><a class=\"ProveItLink\" href=\"../../../../../../__pv_it/common/e4aad701f7f5516d8e7f0d805d518bf02c13322a0/expr.ipynb\"><img src=\"../../../../../../__pv_it/common/e4aad701f7f5516d8e7f0d805d518bf02c13322a0/expr.png\" style=\"display:inline;vertical-align:middle;\" /></a></td></tr>\n",
       "<tr><td>30</td><td>ExprTuple</td><td>31</td><td><a class=\"ProveItLink\" href=\"../../../../../../core_expr_types/__pv_it/common/ecf50ade416ab41c42c9f4e777b4c862cd9469670/expr.ipynb\"><img src=\"../../../../../../core_expr_types/__pv_it/common/ecf50ade416ab41c42c9f4e777b4c862cd9469670/expr.png\" style=\"display:inline;vertical-align:middle;\" /></a></td></tr>\n",
       "<tr><td>31</td><td>Variable</td><td></td><td><a class=\"ProveItLink\" href=\"../../../../../../core_expr_types/__pv_it/common/9e6d9d5d7eeb0342cf5bca68def0eb165a1a9bb10/expr.ipynb\"><img src=\"../../../../../../core_expr_types/__pv_it/common/9e6d9d5d7eeb0342cf5bca68def0eb165a1a9bb10/expr.png\" style=\"display:inline;vertical-align:middle;\" /></a></td></tr>\n",
       "</table>\n"
      ],
      "text/plain": [
       "0. n -> {forall_{A_{1}, ..A_{_a}.., A_{n} in BOOLEAN} ((A_{1} or ..A_{_a}.. or A_{n}) in BOOLEAN) if n in NaturalPos.\n",
       "   core type: Lambda\n",
       "   parameter: 24\n",
       "   body: 1\n",
       "1. {forall_{A_{1}, ..A_{_a}.., A_{n} in BOOLEAN} ((A_{1} or ..A_{_a}.. or A_{n}) in BOOLEAN) if n in NaturalPos.\n",
       "   core type: Conditional\n",
       "   value: 2\n",
       "   condition: 3\n",
       "2. forall_{A_{1}, ..A_{_a}.., A_{n} in BOOLEAN} ((A_{1} or ..A_{_a}.. or A_{n}) in BOOLEAN)\n",
       "   core type: Operation\n",
       "   operator: 4\n",
       "   operand: 7\n",
       "3. n in NaturalPos\n",
       "   core type: Operation\n",
       "   operator: 25\n",
       "   operands: 6\n",
       "4. forall\n",
       "   core type: Literal\n",
       "   sub-expressions: \n",
       "5. ((A_{1}, ..A_{_a}.., A_{n}) -> {(A_{1} or ..A_{_a}.. or A_{n}) in BOOLEAN if (A_{1} in BOOLEAN) and ..(A_{_a} in BOOLEAN).. and (A_{n} in BOOLEAN).)\n",
       "   core type: ExprTuple\n",
       "   sub-expressions: 7\n",
       "6. (n, NaturalPos)\n",
       "   core type: ExprTuple\n",
       "   sub-expressions: 24, 8\n",
       "7. (A_{1}, ..A_{_a}.., A_{n}) -> {(A_{1} or ..A_{_a}.. or A_{n}) in BOOLEAN if (A_{1} in BOOLEAN) and ..(A_{_a} in BOOLEAN).. and (A_{n} in BOOLEAN).\n",
       "   core type: Lambda\n",
       "   parameters: 18\\n   body: 9\n",
       "8. NaturalPos\n",
       "   core type: Literal\n",
       "   sub-expressions: \n",
       "9. {(A_{1} or ..A_{_a}.. or A_{n}) in BOOLEAN if (A_{1} in BOOLEAN) and ..(A_{_a} in BOOLEAN).. and (A_{n} in BOOLEAN).\n",
       "   core type: Conditional\n",
       "   value: 10\n",
       "   condition: 11\n",
       "10. (A_{1} or ..A_{_a}.. or A_{n}) in BOOLEAN\n",
       "    core type: Operation\n",
       "    operator: 25\n",
       "    operands: 12\n",
       "11. (A_{1} in BOOLEAN) and ..(A_{_a} in BOOLEAN).. and (A_{n} in BOOLEAN)\n",
       "    core type: Operation\n",
       "    operator: 13\n",
       "    operands: 14\n",
       "12. (A_{1} or ..A_{_a}.. or A_{n}, BOOLEAN)\n",
       "    core type: ExprTuple\n",
       "    sub-expressions: 15, 28\n",
       "13. and\n",
       "    core type: Literal\n",
       "    sub-expressions: \n",
       "14. (A_{1} in BOOLEAN, ..A_{_a} in BOOLEAN.., A_{n} in BOOLEAN)\n",
       "    core type: ExprTuple\n",
       "    sub-expressions: 16\n",
       "15. A_{1} or ..A_{_a}.. or A_{n}\n",
       "    core type: Operation\n",
       "    operator: 17\n",
       "    operands: 18\n",
       "16. (A_{1} in BOOLEAN), ..(A_{_a} in BOOLEAN).., (A_{n} in BOOLEAN)\n",
       "    core type: ExprRange\n",
       "    lambda_map: 19\n",
       "    start_index: 23\n",
       "    end_index: 24\n",
       "17. or\n",
       "    core type: Literal\n",
       "    sub-expressions: \n",
       "18. (A_{1}, ..A_{_a}.., A_{n})\n",
       "    core type: ExprTuple\n",
       "    sub-expressions: 20\n",
       "19. _a -> (A_{_a} in BOOLEAN)\n",
       "    core type: Lambda\n",
       "    parameter: 31\n",
       "    body: 21\n",
       "20. A_{1}, ..A_{_a}.., A_{n}\n",
       "    core type: ExprRange\n",
       "    lambda_map: 22\n",
       "    start_index: 23\n",
       "    end_index: 24\n",
       "21. A_{_a} in BOOLEAN\n",
       "    core type: Operation\n",
       "    operator: 25\n",
       "    operands: 26\n",
       "22. _a -> A_{_a}\n",
       "    core type: Lambda\n",
       "    parameter: 31\n",
       "    body: 27\n",
       "23. 1\n",
       "    core type: Literal\n",
       "    sub-expressions: \n",
       "24. n\n",
       "    core type: Variable\n",
       "    sub-expressions: \n",
       "25. in\n",
       "    core type: Literal\n",
       "    sub-expressions: \n",
       "26. (A_{_a}, BOOLEAN)\n",
       "    core type: ExprTuple\n",
       "    sub-expressions: 27, 28\n",
       "27. A_{_a}\n",
       "    core type: IndexedVar\n",
       "variable: 29\n",
       "index: 31\n",
       "28. BOOLEAN\n",
       "    core type: Literal\n",
       "    sub-expressions: \n",
       "29. A\n",
       "    core type: Variable\n",
       "    sub-expressions: \n",
       "30. (_a)\n",
       "    core type: ExprTuple\n",
       "    sub-expressions: 31\n",
       "31. _a\n",
       "    core type: Variable\n",
       "    sub-expressions: "
      ]
     },
     "execution_count": 6,
     "metadata": {},
     "output_type": "execute_result"
    }
   ],
   "source": [
    "# display the expression information\n",
    "expr.expr_info()"
   ]
  },
  {
   "cell_type": "code",
   "execution_count": null,
   "metadata": {},
   "outputs": [],
   "source": []
  }
 ],
 "metadata": {
  "kernelspec": {
   "display_name": "Python 3",
   "language": "python",
   "name": "python3"
  }
 },
 "nbformat": 4,
 "nbformat_minor": 0
}