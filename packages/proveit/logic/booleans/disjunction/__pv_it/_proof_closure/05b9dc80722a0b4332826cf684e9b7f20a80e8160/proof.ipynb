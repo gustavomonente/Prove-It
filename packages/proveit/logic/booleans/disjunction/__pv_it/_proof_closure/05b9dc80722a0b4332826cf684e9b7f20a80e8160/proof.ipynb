{
 "cells": [
  {
   "cell_type": "markdown",
   "metadata": {},
   "source": [
    "Show the Proof\n",
    "========"
   ]
  },
  {
   "cell_type": "code",
   "execution_count": 1,
   "metadata": {},
   "outputs": [
    {
     "data": {
      "text/html": [
       "<table><tr><th>&nbsp;</th><th>step type</th><th>requirements</th><th>statement</th></tr>\n",
       "<tr><td><a name=\"proveit.logic.booleans.disjunction._proof_closure.05b9dc80722a0b4332826cf684e9b7f20a80e8160_step0\">0</a></td><td>instantiation</td><td><a href=\"#proveit.logic.booleans.disjunction._proof_closure.05b9dc80722a0b4332826cf684e9b7f20a80e8160_step1\">1</a></td><td><span style=\"font-size:20px;\"> <a class=\"ProveItLink\" href=\"proof.ipynb\" style=\"text-decoration: none\">&nbsp;&#x22A2;&nbsp;&nbsp;</a><a class=\"ProveItLink\" href=\"../80e21756e0e403d84ec27c00834bd5abbd86b1430/expr.ipynb\"><img src=\"../80e21756e0e403d84ec27c00834bd5abbd86b1430/expr.png\" style=\"display:inline;vertical-align:middle;\" /></a></span></td></tr>\n",
       "<tr><td>&nbsp;</td><td colspan=4 style=\"text-align:left\"><span style=\"font-size:20px;\"><a class=\"ProveItLink\" href=\"../e83ebc607cda2e51fc4a1a4cbd0bc18ab078f28d0/expr.ipynb\"><img src=\"../e83ebc607cda2e51fc4a1a4cbd0bc18ab078f28d0/expr.png\" style=\"display:inline;vertical-align:middle;\" /></a> : <a class=\"ProveItLink\" href=\"../../theorems/874c8082deb448f04b0ff552bef91dd355d650f90/expr.ipynb\"><img src=\"../../theorems/874c8082deb448f04b0ff552bef91dd355d650f90/expr.png\" style=\"display:inline;vertical-align:middle;\" /></a>, <a class=\"ProveItLink\" href=\"../../../../../../__pv_it/common/ae955345c83abf786c3aff8681cd5465beae262d0/expr.ipynb\"><img src=\"../../../../../../__pv_it/common/ae955345c83abf786c3aff8681cd5465beae262d0/expr.png\" style=\"display:inline;vertical-align:middle;\" /></a> : <a class=\"ProveItLink\" href=\"../../../../../../numbers/numerals/__pv_it/common/2778428c7f555b2bdc06aa0530bc142c6e6335100/expr.ipynb\"><img src=\"../../../../../../numbers/numerals/__pv_it/common/2778428c7f555b2bdc06aa0530bc142c6e6335100/expr.png\" style=\"display:inline;vertical-align:middle;\" /></a></span></td></tr><tr><td><a name=\"proveit.logic.booleans.disjunction._proof_closure.05b9dc80722a0b4332826cf684e9b7f20a80e8160_step1\">1</a></td><td>theorem</td><td></td><td><span style=\"font-size:20px;\"> <a class=\"ProveItLink\" href=\"../../../../../../core_expr_types/tuples/_theory_nbs_/proofs/singular_range_reduction/thm_proof.ipynb\" style=\"text-decoration: none\">&nbsp;&#x22A2;&nbsp;&nbsp;</a><a class=\"ProveItLink\" href=\"../../../../../../core_expr_types/tuples/__pv_it/theorems/c9afdcb1479f1c75c10e70eb46e085bf4b7c6a890/expr.ipynb\"><img src=\"../../../../../../core_expr_types/tuples/__pv_it/theorems/c9afdcb1479f1c75c10e70eb46e085bf4b7c6a890/expr.png\" style=\"display:inline;vertical-align:middle;\" /></a></span></td></tr>\n",
       "<tr><td>&nbsp;</td><td colspan=4 style-\"text-align:left\"><a class=\"ProveItLink\" href=\"../../../../../../core_expr_types/tuples/_theory_nbs_/proofs/singular_range_reduction/thm_proof.ipynb\">proveit.core_expr_types.tuples.singular_range_reduction</a></td></tr></table>"
      ],
      "text/plain": [
       "<proveit._core_.proof._ShowProof at 0x7fe8f31476a0>"
      ]
     },
     "execution_count": 1,
     "metadata": {},
     "output_type": "execute_result"
    }
   ],
   "source": [
    "import proveit\n",
    "# Automation is not needed when only showing a stored proof:\n",
    "proveit.defaults.automation = False # This will speed things up.\n",
    "proveit.defaults.inline_pngs = False # Makes files smaller.\n",
    "%show_proof"
   ]
  },
  {
   "cell_type": "code",
   "execution_count": null,
   "metadata": {},
   "outputs": [],
   "source": []
  }
 ],
 "metadata": {
  "kernelspec": {
   "display_name": "Python 3",
   "language": "python",
   "name": "python3"
  }
 },
 "nbformat": 4,
 "nbformat_minor": 0
}