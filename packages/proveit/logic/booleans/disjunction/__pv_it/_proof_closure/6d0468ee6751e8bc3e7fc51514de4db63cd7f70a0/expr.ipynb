{
 "cells": [
  {
   "cell_type": "markdown",
   "metadata": {},
   "source": [
    "Expression of type <a class=\"ProveItLink\" href=\"../../../../../../../../doc/html/api/proveit.Lambda.html\">Lambda</a>\n",
    "=======================\n",
    "# from the theory of <a class=\"ProveItLink\" href=\"../../../_theory_nbs_/theory.ipynb\">proveit.logic.booleans.disjunction</a>"
   ]
  },
  {
   "cell_type": "code",
   "execution_count": 1,
   "metadata": {},
   "outputs": [],
   "source": [
    "import proveit\n",
    "# Automation is not needed when building an expression:\n",
    "proveit.defaults.automation = False # This will speed things up.\n",
    "proveit.defaults.inline_pngs = False # Makes files smaller.\n",
    "%load_expr # Load the stored expression as 'stored_expr'\n",
    "# import Expression classes needed to build the expression\n",
    "from proveit import A, Conditional, ExprRange, IndexedVar, Lambda, Variable, n\n",
    "from proveit.logic import Boolean, Forall, InSet, Or\n",
    "from proveit.numbers import NaturalPos, one"
   ]
  },
  {
   "cell_type": "code",
   "execution_count": 2,
   "metadata": {},
   "outputs": [
    {
     "data": {
      "text/html": [
       "<strong id=\"expr\">expr:</strong> <a class=\"ProveItLink\" href=\"expr.ipynb\"><img src=\"expr.png\" style=\"display:inline;vertical-align:middle;\" /></a><br>"
      ],
      "text/plain": [
       "expr: n -> {forall_{A_{1}, ..A_{_a}.., A_{n} in BOOLEAN} ((A_{1} or ..A_{_a}.. or A_{n}) in BOOLEAN) if n in NaturalPos."
      ]
     },
     "execution_count": 2,
     "metadata": {},
     "output_type": "execute_result"
    }
   ],
   "source": [
    "# build up the expression from sub-expressions\n",
    "sub_expr1 = Variable(\"_a\", latex_format = r\"{_{-}a}\")\n",
    "sub_expr2 = ExprRange(sub_expr1, IndexedVar(A, sub_expr1), one, n)\n",
    "expr = Lambda(n, Conditional(Forall([sub_expr2], InSet(Or(sub_expr2), Boolean), domains = [Boolean]), InSet(n, NaturalPos)))"
   ]
  },
  {
   "cell_type": "code",
   "execution_count": 3,
   "metadata": {},
   "outputs": [
    {
     "name": "stdout",
     "output_type": "stream",
     "text": [
      "Passed sanity check: expr matches stored_expr\n"
     ]
    }
   ],
   "source": [
    "# check that the built expression is the same as the stored expression\n",
    "assert expr == stored_expr\n",
    "assert expr._style_id == stored_expr._style_id\n",
    "print(\"Passed sanity check: expr matches stored_expr\")"
   ]
  },
  {
   "cell_type": "code",
   "execution_count": 4,
   "metadata": {},
   "outputs": [
    {
     "name": "stdout",
     "output_type": "stream",
     "text": [
      "n \\mapsto \\left\\{\\forall_{A_{1}, \\ldots, A_{n} \\in \\mathbb{B}}~\\left(\\left(A_{1} \\lor \\ldots \\lor A_{n}\\right) \\in \\mathbb{B}\\right) \\textrm{ if } n \\in \\mathbb{N}^+\\right..\n"
     ]
    }
   ],
   "source": [
    "# Show the LaTeX representation of the expression for convenience if you need it.\n",
    "print(expr.latex())"
   ]
  },
  {
   "cell_type": "code",
   "execution_count": 5,
   "metadata": {},
   "outputs": [
    {
     "data": {
      "text/html": [
       "<table><tr><th>&nbsp;</th><th>core type</th><th>sub-expressions</th><th>expression</th></tr>\n",
       "<tr><td>0</td><td>Lambda</td><td>parameter:&nbsp;23<br>body:&nbsp;1<br></td><td><a class=\"ProveItLink\" href=\"expr.ipynb\"><img src=\"expr.png\" style=\"display:inline;vertical-align:middle;\" /></a></td></tr>\n",
       "<tr><td>1</td><td>Conditional</td><td>value:&nbsp;2<br>condition:&nbsp;3<br></td><td><a class=\"ProveItLink\" href=\"../c9636c4f6375f3e4d20563c80b389980097452300/expr.ipynb\"><img src=\"../c9636c4f6375f3e4d20563c80b389980097452300/expr.png\" style=\"display:inline;vertical-align:middle;\" /></a></td></tr>\n",
       "<tr><td>2</td><td>Operation</td><td>operator:&nbsp;4<br>operand:&nbsp;5<br></td><td><a class=\"ProveItLink\" href=\"../8c8bd21f95860ca9fc059b21bdcf3d7a4c739e0f0/expr.ipynb\"><img src=\"../8c8bd21f95860ca9fc059b21bdcf3d7a4c739e0f0/expr.png\" style=\"display:inline;vertical-align:middle;\" /></a></td></tr>\n",
       "<tr><td>3</td><td>Operation</td><td>operator:&nbsp;24<br>operands:&nbsp;6<br></td><td><a class=\"ProveItLink\" href=\"../../../../../../numbers/number_sets/natural_numbers/__pv_it/theorems/2c629b73e558dcaacbf71c0a050e9fdf89a4ad830/expr.ipynb\"><img src=\"../../../../../../numbers/number_sets/natural_numbers/__pv_it/theorems/2c629b73e558dcaacbf71c0a050e9fdf89a4ad830/expr.png\" style=\"display:inline;vertical-align:middle;\" /></a></td></tr>\n",
       "<tr><td>4</td><td>Literal</td><td></td><td><a class=\"ProveItLink\" href=\"../../../../quantification/universality/__pv_it/common/083d2baa0b8ecab1d230f9ec29a15aa1355809fb0/expr.ipynb\"><img src=\"../../../../quantification/universality/__pv_it/common/083d2baa0b8ecab1d230f9ec29a15aa1355809fb0/expr.png\" style=\"display:inline;vertical-align:middle;\" /></a></td></tr>\n",
       "<tr><td>5</td><td>Lambda</td><td>parameters:&nbsp;17<br>body:&nbsp;7<br></td><td><a class=\"ProveItLink\" href=\"../947e2fc149e906fe111f4f9a22900d2f6b9d3a2a0/expr.ipynb\"><img src=\"../947e2fc149e906fe111f4f9a22900d2f6b9d3a2a0/expr.png\" style=\"display:inline;vertical-align:middle;\" /></a></td></tr>\n",
       "<tr><td>6</td><td>ExprTuple</td><td>23, 8</td><td><a class=\"ProveItLink\" href=\"../../../../../../numbers/number_sets/natural_numbers/__pv_it/theorems/443ee719f2afe90923a7e0e147169eb97be9a35c0/expr.ipynb\"><img src=\"../../../../../../numbers/number_sets/natural_numbers/__pv_it/theorems/443ee719f2afe90923a7e0e147169eb97be9a35c0/expr.png\" style=\"display:inline;vertical-align:middle;\" /></a></td></tr>\n",
       "<tr><td>7</td><td>Conditional</td><td>value:&nbsp;9<br>condition:&nbsp;10<br></td><td><a class=\"ProveItLink\" href=\"../f6e9faa32d0d241058223c257f6b933f0cd994b20/expr.ipynb\"><img src=\"../f6e9faa32d0d241058223c257f6b933f0cd994b20/expr.png\" style=\"display:inline;vertical-align:middle;\" /></a></td></tr>\n",
       "<tr><td>8</td><td>Literal</td><td></td><td><a class=\"ProveItLink\" href=\"../../../../../../numbers/number_sets/natural_numbers/__pv_it/common/6111329435c43892c831c4793de96afbf80bdb3e0/expr.ipynb\"><img src=\"../../../../../../numbers/number_sets/natural_numbers/__pv_it/common/6111329435c43892c831c4793de96afbf80bdb3e0/expr.png\" style=\"display:inline;vertical-align:middle;\" /></a></td></tr>\n",
       "<tr><td>9</td><td>Operation</td><td>operator:&nbsp;24<br>operands:&nbsp;11<br></td><td><a class=\"ProveItLink\" href=\"../b4854bf81761dc44b793385b5c0ff1253fdd84fc0/expr.ipynb\"><img src=\"../b4854bf81761dc44b793385b5c0ff1253fdd84fc0/expr.png\" style=\"display:inline;vertical-align:middle;\" /></a></td></tr>\n",
       "<tr><td>10</td><td>Operation</td><td>operator:&nbsp;12<br>operands:&nbsp;13<br></td><td><a class=\"ProveItLink\" href=\"../c58ced74f618a352fbdde0230ee72f7f940abadd0/expr.ipynb\"><img src=\"../c58ced74f618a352fbdde0230ee72f7f940abadd0/expr.png\" style=\"display:inline;vertical-align:middle;\" /></a></td></tr>\n",
       "<tr><td>11</td><td>ExprTuple</td><td>14, 27</td><td><a class=\"ProveItLink\" href=\"../900611bbe2462c63cfb4ed9b7a1150c8263e0ccb0/expr.ipynb\"><img src=\"../900611bbe2462c63cfb4ed9b7a1150c8263e0ccb0/expr.png\" style=\"display:inline;vertical-align:middle;\" /></a></td></tr>\n",
       "<tr><td>12</td><td>Literal</td><td></td><td><a class=\"ProveItLink\" href=\"../../../../conjunction/__pv_it/common/42118ff318bd65d98b1393f64ce7c2269feef76e0/expr.ipynb\"><img src=\"../../../../conjunction/__pv_it/common/42118ff318bd65d98b1393f64ce7c2269feef76e0/expr.png\" style=\"display:inline;vertical-align:middle;\" /></a></td></tr>\n",
       "<tr><td>13</td><td>ExprTuple</td><td>15</td><td><a class=\"ProveItLink\" href=\"../aa593b9cd99a4d3d37aa0ce76975ff2cd14b88cb0/expr.ipynb\"><img src=\"../aa593b9cd99a4d3d37aa0ce76975ff2cd14b88cb0/expr.png\" style=\"display:inline;vertical-align:middle;\" /></a></td></tr>\n",
       "<tr><td>14</td><td>Operation</td><td>operator:&nbsp;16<br>operands:&nbsp;17<br></td><td><a class=\"ProveItLink\" href=\"../d2fbdbe4cec7c1322f70cab5700319ffee0921ab0/expr.ipynb\"><img src=\"../d2fbdbe4cec7c1322f70cab5700319ffee0921ab0/expr.png\" style=\"display:inline;vertical-align:middle;\" /></a></td></tr>\n",
       "<tr><td>15</td><td>ExprRange</td><td>lambda_map:&nbsp;18<br>start_index:&nbsp;22<br>end_index:&nbsp;23<br></td><td><a class=\"ProveItLink\" href=\"../0a1fdb1e7aefea0d4d7722a4af4641b04af280e20/expr.ipynb\"><img src=\"../0a1fdb1e7aefea0d4d7722a4af4641b04af280e20/expr.png\" style=\"display:inline;vertical-align:middle;\" /></a></td></tr>\n",
       "<tr><td>16</td><td>Literal</td><td></td><td><a class=\"ProveItLink\" href=\"../../common/ef8e59262ff8e0133aa1ca984dd6b3a41bf69d5b0/expr.ipynb\"><img src=\"../../common/ef8e59262ff8e0133aa1ca984dd6b3a41bf69d5b0/expr.png\" style=\"display:inline;vertical-align:middle;\" /></a></td></tr>\n",
       "<tr><td>17</td><td>ExprTuple</td><td>19</td><td><a class=\"ProveItLink\" href=\"../ce9f0e52739b5f464dc58db9c4ea01c1eb57b7640/expr.ipynb\"><img src=\"../ce9f0e52739b5f464dc58db9c4ea01c1eb57b7640/expr.png\" style=\"display:inline;vertical-align:middle;\" /></a></td></tr>\n",
       "<tr><td>18</td><td>Lambda</td><td>parameter:&nbsp;29<br>body:&nbsp;20<br></td><td><a class=\"ProveItLink\" href=\"../../theorems/dcd2a304dd7fba4219b9ebc4dc7465707158eff50/expr.ipynb\"><img src=\"../../theorems/dcd2a304dd7fba4219b9ebc4dc7465707158eff50/expr.png\" style=\"display:inline;vertical-align:middle;\" /></a></td></tr>\n",
       "<tr><td>19</td><td>ExprRange</td><td>lambda_map:&nbsp;21<br>start_index:&nbsp;22<br>end_index:&nbsp;23<br></td><td><a class=\"ProveItLink\" href=\"../fabcb5d1ae14773d9782d7cf975cdf62509015680/expr.ipynb\"><img src=\"../fabcb5d1ae14773d9782d7cf975cdf62509015680/expr.png\" style=\"display:inline;vertical-align:middle;\" /></a></td></tr>\n",
       "<tr><td>20</td><td>Operation</td><td>operator:&nbsp;24<br>operands:&nbsp;25<br></td><td><a class=\"ProveItLink\" href=\"../../theorems/874c8082deb448f04b0ff552bef91dd355d650f90/expr.ipynb\"><img src=\"../../theorems/874c8082deb448f04b0ff552bef91dd355d650f90/expr.png\" style=\"display:inline;vertical-align:middle;\" /></a></td></tr>\n",
       "<tr><td>21</td><td>Lambda</td><td>parameter:&nbsp;29<br>body:&nbsp;26<br></td><td><a class=\"ProveItLink\" href=\"../../../../../../core_expr_types/__pv_it/common/db87d41146842355e9d6585688749d13269ab0980/expr.ipynb\"><img src=\"../../../../../../core_expr_types/__pv_it/common/db87d41146842355e9d6585688749d13269ab0980/expr.png\" style=\"display:inline;vertical-align:middle;\" /></a></td></tr>\n",
       "<tr><td>22</td><td>Literal</td><td></td><td><a class=\"ProveItLink\" href=\"../../../../../../numbers/numerals/__pv_it/common/2778428c7f555b2bdc06aa0530bc142c6e6335100/expr.ipynb\"><img src=\"../../../../../../numbers/numerals/__pv_it/common/2778428c7f555b2bdc06aa0530bc142c6e6335100/expr.png\" style=\"display:inline;vertical-align:middle;\" /></a></td></tr>\n",
       "<tr><td>23</td><td>Variable</td><td></td><td><a class=\"ProveItLink\" href=\"../../../../../../__pv_it/common/8968bb04eb3f7dfa02353397ce929b025bbd79c20/expr.ipynb\"><img src=\"../../../../../../__pv_it/common/8968bb04eb3f7dfa02353397ce929b025bbd79c20/expr.png\" style=\"display:inline;vertical-align:middle;\" /></a></td></tr>\n",
       "<tr><td>24</td><td>Literal</td><td></td><td><a class=\"ProveItLink\" href=\"../../../../../sets/membership/__pv_it/common/477487d8796864d23d5810f83761435f25167f690/expr.ipynb\"><img src=\"../../../../../sets/membership/__pv_it/common/477487d8796864d23d5810f83761435f25167f690/expr.png\" style=\"display:inline;vertical-align:middle;\" /></a></td></tr>\n",
       "<tr><td>25</td><td>ExprTuple</td><td>26, 27</td><td><a class=\"ProveItLink\" href=\"../../theorems/8c5f6fadd3c74e04805ac4da92a7bc4644c939840/expr.ipynb\"><img src=\"../../theorems/8c5f6fadd3c74e04805ac4da92a7bc4644c939840/expr.png\" style=\"display:inline;vertical-align:middle;\" /></a></td></tr>\n",
       "<tr><td>26</td><td>IndexedVar</td><td>variable:&nbsp;28<br>index:&nbsp;29<br></td><td><a class=\"ProveItLink\" href=\"../../../../../../core_expr_types/__pv_it/common/65f6ea908cba61c02c46e59c65a80b52e171496d0/expr.ipynb\"><img src=\"../../../../../../core_expr_types/__pv_it/common/65f6ea908cba61c02c46e59c65a80b52e171496d0/expr.png\" style=\"display:inline;vertical-align:middle;\" /></a></td></tr>\n",
       "<tr><td>27</td><td>Literal</td><td></td><td><a class=\"ProveItLink\" href=\"../../../../__pv_it/common/97424376de9815ad99f7180e3191b1cf4ab2a5710/expr.ipynb\"><img src=\"../../../../__pv_it/common/97424376de9815ad99f7180e3191b1cf4ab2a5710/expr.png\" style=\"display:inline;vertical-align:middle;\" /></a></td></tr>\n",
       "<tr><td>28</td><td>Variable</td><td></td><td><a class=\"ProveItLink\" href=\"../../../../../../__pv_it/common/09585084922504426caf1db2ff588a23a0932a960/expr.ipynb\"><img src=\"../../../../../../__pv_it/common/09585084922504426caf1db2ff588a23a0932a960/expr.png\" style=\"display:inline;vertical-align:middle;\" /></a></td></tr>\n",
       "<tr><td>29</td><td>Variable</td><td></td><td><a class=\"ProveItLink\" href=\"../../../../../../core_expr_types/__pv_it/common/006c465e50948aa2b52285e2de47974f741255cc0/expr.ipynb\"><img src=\"../../../../../../core_expr_types/__pv_it/common/006c465e50948aa2b52285e2de47974f741255cc0/expr.png\" style=\"display:inline;vertical-align:middle;\" /></a></td></tr>\n",
       "</table>\n"
      ],
      "text/plain": [
       "0. n -> {forall_{A_{1}, ..A_{_a}.., A_{n} in BOOLEAN} ((A_{1} or ..A_{_a}.. or A_{n}) in BOOLEAN) if n in NaturalPos.\n",
       "   core type: Lambda\n",
       "   parameter: 23\n",
       "   body: 1\n",
       "1. {forall_{A_{1}, ..A_{_a}.., A_{n} in BOOLEAN} ((A_{1} or ..A_{_a}.. or A_{n}) in BOOLEAN) if n in NaturalPos.\n",
       "   core type: Conditional\n",
       "   value: 2\n",
       "   condition: 3\n",
       "2. forall_{A_{1}, ..A_{_a}.., A_{n} in BOOLEAN} ((A_{1} or ..A_{_a}.. or A_{n}) in BOOLEAN)\n",
       "   core type: Operation\n",
       "   operator: 4\n",
       "   operand: 5\n",
       "3. n in NaturalPos\n",
       "   core type: Operation\n",
       "   operator: 24\n",
       "   operands: 6\n",
       "4. forall\n",
       "   core type: Literal\n",
       "   sub-expressions: \n",
       "5. (A_{1}, ..A_{_a}.., A_{n}) -> {(A_{1} or ..A_{_a}.. or A_{n}) in BOOLEAN if (A_{1} in BOOLEAN) and ..(A_{_a} in BOOLEAN).. and (A_{n} in BOOLEAN).\n",
       "   core type: Lambda\n",
       "   parameters: 17\\n   body: 7\n",
       "6. (n, NaturalPos)\n",
       "   core type: ExprTuple\n",
       "   sub-expressions: 23, 8\n",
       "7. {(A_{1} or ..A_{_a}.. or A_{n}) in BOOLEAN if (A_{1} in BOOLEAN) and ..(A_{_a} in BOOLEAN).. and (A_{n} in BOOLEAN).\n",
       "   core type: Conditional\n",
       "   value: 9\n",
       "   condition: 10\n",
       "8. NaturalPos\n",
       "   core type: Literal\n",
       "   sub-expressions: \n",
       "9. (A_{1} or ..A_{_a}.. or A_{n}) in BOOLEAN\n",
       "   core type: Operation\n",
       "   operator: 24\n",
       "   operands: 11\n",
       "10. (A_{1} in BOOLEAN) and ..(A_{_a} in BOOLEAN).. and (A_{n} in BOOLEAN)\n",
       "    core type: Operation\n",
       "    operator: 12\n",
       "    operands: 13\n",
       "11. (A_{1} or ..A_{_a}.. or A_{n}, BOOLEAN)\n",
       "    core type: ExprTuple\n",
       "    sub-expressions: 14, 27\n",
       "12. and\n",
       "    core type: Literal\n",
       "    sub-expressions: \n",
       "13. (A_{1} in BOOLEAN, ..A_{_a} in BOOLEAN.., A_{n} in BOOLEAN)\n",
       "    core type: ExprTuple\n",
       "    sub-expressions: 15\n",
       "14. A_{1} or ..A_{_a}.. or A_{n}\n",
       "    core type: Operation\n",
       "    operator: 16\n",
       "    operands: 17\n",
       "15. (A_{1} in BOOLEAN), ..(A_{_a} in BOOLEAN).., (A_{n} in BOOLEAN)\n",
       "    core type: ExprRange\n",
       "    lambda_map: 18\n",
       "    start_index: 22\n",
       "    end_index: 23\n",
       "16. or\n",
       "    core type: Literal\n",
       "    sub-expressions: \n",
       "17. (A_{1}, ..A_{_a}.., A_{n})\n",
       "    core type: ExprTuple\n",
       "    sub-expressions: 19\n",
       "18. _a -> (A_{_a} in BOOLEAN)\n",
       "    core type: Lambda\n",
       "    parameter: 29\n",
       "    body: 20\n",
       "19. A_{1}, ..A_{_a}.., A_{n}\n",
       "    core type: ExprRange\n",
       "    lambda_map: 21\n",
       "    start_index: 22\n",
       "    end_index: 23\n",
       "20. A_{_a} in BOOLEAN\n",
       "    core type: Operation\n",
       "    operator: 24\n",
       "    operands: 25\n",
       "21. _a -> A_{_a}\n",
       "    core type: Lambda\n",
       "    parameter: 29\n",
       "    body: 26\n",
       "22. 1\n",
       "    core type: Literal\n",
       "    sub-expressions: \n",
       "23. n\n",
       "    core type: Variable\n",
       "    sub-expressions: \n",
       "24. in\n",
       "    core type: Literal\n",
       "    sub-expressions: \n",
       "25. (A_{_a}, BOOLEAN)\n",
       "    core type: ExprTuple\n",
       "    sub-expressions: 26, 27\n",
       "26. A_{_a}\n",
       "    core type: IndexedVar\n",
       "variable: 28\n",
       "index: 29\n",
       "27. BOOLEAN\n",
       "    core type: Literal\n",
       "    sub-expressions: \n",
       "28. A\n",
       "    core type: Variable\n",
       "    sub-expressions: \n",
       "29. _a\n",
       "    core type: Variable\n",
       "    sub-expressions: "
      ]
     },
     "execution_count": 5,
     "metadata": {},
     "output_type": "execute_result"
    }
   ],
   "source": [
    "# display the expression information\n",
    "expr.expr_info()"
   ]
  },
  {
   "cell_type": "code",
   "execution_count": null,
   "metadata": {},
   "outputs": [],
   "source": []
  }
 ],
 "metadata": {
  "kernelspec": {
   "display_name": "Python 3",
   "language": "python",
   "name": "python3"
  }
 },
 "nbformat": 4,
 "nbformat_minor": 0
}