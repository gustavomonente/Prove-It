{
 "cells": [
  {
   "cell_type": "markdown",
   "metadata": {},
   "source": [
    "Expression of type <a class=\"ProveItLink\" href=\"../../../../../../../../doc/html/api/proveit.Lambda.html\">Lambda</a>\n",
    "=======================\n",
    "# from the theory of <a class=\"ProveItLink\" href=\"../../../_theory_nbs_/theory.ipynb\">proveit.logic.booleans.disjunction</a>"
   ]
  },
  {
   "cell_type": "code",
   "execution_count": 1,
   "metadata": {},
   "outputs": [],
   "source": [
    "import proveit\n",
    "# Automation is not needed when building an expression:\n",
    "proveit.defaults.automation = False # This will speed things up.\n",
    "proveit.defaults.inline_pngs = False # Makes files smaller.\n",
    "%load_expr # Load the stored expression as 'stored_expr'\n",
    "# import Expression classes needed to build the expression\n",
    "from proveit import A, Conditional, ExprRange, IndexedVar, Lambda, Variable, m\n",
    "from proveit.core_expr_types import A_1_to_m\n",
    "from proveit.logic import And, Boolean, Forall, InSet, Or\n",
    "from proveit.numbers import Add, NaturalPos, one"
   ]
  },
  {
   "cell_type": "code",
   "execution_count": 2,
   "metadata": {},
   "outputs": [
    {
     "data": {
      "text/html": [
       "<strong id=\"expr\">expr:</strong> <a class=\"ProveItLink\" href=\"expr.ipynb\"><img src=\"expr.png\" style=\"display:inline;vertical-align:middle;\" /></a><br>"
      ],
      "text/plain": [
       "expr: m -> {forall_{A_{1}, ..A_{_a}.., A_{m + 1} in BOOLEAN} ((A_{1} or ..A_{_a}.. or A_{m + 1}) in BOOLEAN) if m in NaturalPos ,  forall_{A_{1}, ..A_{_a}.., A_{m} in BOOLEAN} ((A_{1} or ..A_{_a}.. or A_{m}) in BOOLEAN)."
      ]
     },
     "execution_count": 2,
     "metadata": {},
     "output_type": "execute_result"
    }
   ],
   "source": [
    "# build up the expression from sub-expressions\n",
    "sub_expr1 = Variable(\"_a\", latex_format = r\"{_{-}a}\")\n",
    "sub_expr2 = [Boolean]\n",
    "sub_expr3 = ExprRange(sub_expr1, IndexedVar(A, sub_expr1), one, Add(m, one))\n",
    "expr = Lambda(m, Conditional(Forall([sub_expr3], InSet(Or(sub_expr3), Boolean), domains = sub_expr2), And(InSet(m, NaturalPos), Forall([A_1_to_m], InSet(Or(A_1_to_m), Boolean), domains = sub_expr2))))"
   ]
  },
  {
   "cell_type": "code",
   "execution_count": 3,
   "metadata": {},
   "outputs": [
    {
     "name": "stdout",
     "output_type": "stream",
     "text": [
      "Passed sanity check: expr matches stored_expr\n"
     ]
    }
   ],
   "source": [
    "# check that the built expression is the same as the stored expression\n",
    "assert expr == stored_expr\n",
    "assert expr._style_id == stored_expr._style_id\n",
    "print(\"Passed sanity check: expr matches stored_expr\")"
   ]
  },
  {
   "cell_type": "code",
   "execution_count": 4,
   "metadata": {},
   "outputs": [
    {
     "name": "stdout",
     "output_type": "stream",
     "text": [
      "m \\mapsto \\left\\{\\forall_{A_{1}, \\ldots, A_{m + 1} \\in \\mathbb{B}}~\\left(\\left(A_{1} \\lor \\ldots \\lor A_{m + 1}\\right) \\in \\mathbb{B}\\right) \\textrm{ if } m \\in \\mathbb{N}^+ ,  \\forall_{A_{1}, \\ldots, A_{m} \\in \\mathbb{B}}~\\left(\\left(A_{1} \\lor \\ldots \\lor A_{m}\\right) \\in \\mathbb{B}\\right)\\right..\n"
     ]
    }
   ],
   "source": [
    "# Show the LaTeX representation of the expression for convenience if you need it.\n",
    "print(expr.latex())"
   ]
  },
  {
   "cell_type": "code",
   "execution_count": 5,
   "metadata": {},
   "outputs": [
    {
     "data": {
      "text/html": [
       "no style options"
      ],
      "text/plain": [
       "no style options"
      ]
     },
     "execution_count": 5,
     "metadata": {},
     "output_type": "execute_result"
    }
   ],
   "source": [
    "expr.style_options()"
   ]
  },
  {
   "cell_type": "code",
   "execution_count": 6,
   "metadata": {},
   "outputs": [
    {
     "data": {
      "text/html": [
       "<table><tr><th>&nbsp;</th><th>core type</th><th>sub-expressions</th><th>expression</th></tr>\n",
       "<tr><td>0</td><td>Lambda</td><td>parameter:&nbsp;41<br>body:&nbsp;1<br></td><td><a class=\"ProveItLink\" href=\"expr.ipynb\"><img src=\"expr.png\" style=\"display:inline;vertical-align:middle;\" /></a></td></tr>\n",
       "<tr><td>1</td><td>Conditional</td><td>value:&nbsp;2<br>condition:&nbsp;3<br></td><td><a class=\"ProveItLink\" href=\"../f51743608aaa1dccf091cb265aa68cedfe490a930/expr.ipynb\"><img src=\"../f51743608aaa1dccf091cb265aa68cedfe490a930/expr.png\" style=\"display:inline;vertical-align:middle;\" /></a></td></tr>\n",
       "<tr><td>2</td><td>Operation</td><td>operator:&nbsp;11<br>operand:&nbsp;6<br></td><td><a class=\"ProveItLink\" href=\"../8eeaca5823f89bc5a899b012de6067652aeb815d0/expr.ipynb\"><img src=\"../8eeaca5823f89bc5a899b012de6067652aeb815d0/expr.png\" style=\"display:inline;vertical-align:middle;\" /></a></td></tr>\n",
       "<tr><td>3</td><td>Operation</td><td>operator:&nbsp;26<br>operands:&nbsp;5<br></td><td><a class=\"ProveItLink\" href=\"../941a8522d6ed9b8dfe2493e146cf8ad4ff3815850/expr.ipynb\"><img src=\"../941a8522d6ed9b8dfe2493e146cf8ad4ff3815850/expr.png\" style=\"display:inline;vertical-align:middle;\" /></a></td></tr>\n",
       "<tr><td>4</td><td>ExprTuple</td><td>6</td><td><a class=\"ProveItLink\" href=\"../6dc45f81a4eb9f82ac9b65e776f064e7b80c66eb0/expr.ipynb\"><img src=\"../6dc45f81a4eb9f82ac9b65e776f064e7b80c66eb0/expr.png\" style=\"display:inline;vertical-align:middle;\" /></a></td></tr>\n",
       "<tr><td>5</td><td>ExprTuple</td><td>7, 8</td><td><a class=\"ProveItLink\" href=\"../b80a6ca32f5e3cf7f5ec721c3c15e836e86892cf0/expr.ipynb\"><img src=\"../b80a6ca32f5e3cf7f5ec721c3c15e836e86892cf0/expr.png\" style=\"display:inline;vertical-align:middle;\" /></a></td></tr>\n",
       "<tr><td>6</td><td>Lambda</td><td>parameters:&nbsp;24<br>body:&nbsp;9<br></td><td><a class=\"ProveItLink\" href=\"../7dc79689a89658fd4b8aa26669a889f1974d17150/expr.ipynb\"><img src=\"../7dc79689a89658fd4b8aa26669a889f1974d17150/expr.png\" style=\"display:inline;vertical-align:middle;\" /></a></td></tr>\n",
       "<tr><td>7</td><td>Operation</td><td>operator:&nbsp;42<br>operands:&nbsp;10<br></td><td><a class=\"ProveItLink\" href=\"../../../../../../numbers/number_sets/natural_numbers/__pv_it/theorems/3b21f44c33a0a353db2d1dd5dc2aa7f39934f4730/expr.ipynb\"><img src=\"../../../../../../numbers/number_sets/natural_numbers/__pv_it/theorems/3b21f44c33a0a353db2d1dd5dc2aa7f39934f4730/expr.png\" style=\"display:inline;vertical-align:middle;\" /></a></td></tr>\n",
       "<tr><td>8</td><td>Operation</td><td>operator:&nbsp;11<br>operand:&nbsp;16<br></td><td><a class=\"ProveItLink\" href=\"../../theorems/76cf53ec728b75509c1ef186c66fa0260428f58a0/expr.ipynb\"><img src=\"../../theorems/76cf53ec728b75509c1ef186c66fa0260428f58a0/expr.png\" style=\"display:inline;vertical-align:middle;\" /></a></td></tr>\n",
       "<tr><td>9</td><td>Conditional</td><td>value:&nbsp;13<br>condition:&nbsp;14<br></td><td><a class=\"ProveItLink\" href=\"../3377d073a604ad9725fc0906d2bc3f10b1b321d40/expr.ipynb\"><img src=\"../3377d073a604ad9725fc0906d2bc3f10b1b321d40/expr.png\" style=\"display:inline;vertical-align:middle;\" /></a></td></tr>\n",
       "<tr><td>10</td><td>ExprTuple</td><td>41, 15</td><td><a class=\"ProveItLink\" href=\"../../../../../../numbers/number_sets/natural_numbers/__pv_it/theorems/2ef0539d68697845682d6e019421ae2d6c28df770/expr.ipynb\"><img src=\"../../../../../../numbers/number_sets/natural_numbers/__pv_it/theorems/2ef0539d68697845682d6e019421ae2d6c28df770/expr.png\" style=\"display:inline;vertical-align:middle;\" /></a></td></tr>\n",
       "<tr><td>11</td><td>Literal</td><td></td><td><a class=\"ProveItLink\" href=\"../../../../quantification/universality/__pv_it/common/684d35ba98fcbf8ca5011f865e530a51e77730630/expr.ipynb\"><img src=\"../../../../quantification/universality/__pv_it/common/684d35ba98fcbf8ca5011f865e530a51e77730630/expr.png\" style=\"display:inline;vertical-align:middle;\" /></a></td></tr>\n",
       "<tr><td>12</td><td>ExprTuple</td><td>16</td><td><a class=\"ProveItLink\" href=\"../../theorems/f81975227438d9e370ad5aa18b5d177d47be5ceb0/expr.ipynb\"><img src=\"../../theorems/f81975227438d9e370ad5aa18b5d177d47be5ceb0/expr.png\" style=\"display:inline;vertical-align:middle;\" /></a></td></tr>\n",
       "<tr><td>13</td><td>Operation</td><td>operator:&nbsp;42<br>operands:&nbsp;17<br></td><td><a class=\"ProveItLink\" href=\"../f8aa94717f5d76a3180e7d21da6bcaab0df4c2b00/expr.ipynb\"><img src=\"../f8aa94717f5d76a3180e7d21da6bcaab0df4c2b00/expr.png\" style=\"display:inline;vertical-align:middle;\" /></a></td></tr>\n",
       "<tr><td>14</td><td>Operation</td><td>operator:&nbsp;26<br>operands:&nbsp;18<br></td><td><a class=\"ProveItLink\" href=\"../3cb793ff51133ce056aaae080b4ec4d577b95b1b0/expr.ipynb\"><img src=\"../3cb793ff51133ce056aaae080b4ec4d577b95b1b0/expr.png\" style=\"display:inline;vertical-align:middle;\" /></a></td></tr>\n",
       "<tr><td>15</td><td>Literal</td><td></td><td><a class=\"ProveItLink\" href=\"../../../../../../numbers/number_sets/natural_numbers/__pv_it/common/a2a7252783c385c028dad802e97575c19e456b990/expr.ipynb\"><img src=\"../../../../../../numbers/number_sets/natural_numbers/__pv_it/common/a2a7252783c385c028dad802e97575c19e456b990/expr.png\" style=\"display:inline;vertical-align:middle;\" /></a></td></tr>\n",
       "<tr><td>16</td><td>Lambda</td><td>parameters:&nbsp;33<br>body:&nbsp;19<br></td><td><a class=\"ProveItLink\" href=\"../../theorems/bc7732ca6eaa3cef842b611334d728aeb38abea90/expr.ipynb\"><img src=\"../../theorems/bc7732ca6eaa3cef842b611334d728aeb38abea90/expr.png\" style=\"display:inline;vertical-align:middle;\" /></a></td></tr>\n",
       "<tr><td>17</td><td>ExprTuple</td><td>20, 45</td><td><a class=\"ProveItLink\" href=\"../cd442c20bc49a8f5ebc1726a11dd0f4f26b3320d0/expr.ipynb\"><img src=\"../cd442c20bc49a8f5ebc1726a11dd0f4f26b3320d0/expr.png\" style=\"display:inline;vertical-align:middle;\" /></a></td></tr>\n",
       "<tr><td>18</td><td>ExprTuple</td><td>21</td><td><a class=\"ProveItLink\" href=\"../ea9865000f4e4e1437256e50f495298f51f023f00/expr.ipynb\"><img src=\"../ea9865000f4e4e1437256e50f495298f51f023f00/expr.png\" style=\"display:inline;vertical-align:middle;\" /></a></td></tr>\n",
       "<tr><td>19</td><td>Conditional</td><td>value:&nbsp;22<br>condition:&nbsp;23<br></td><td><a class=\"ProveItLink\" href=\"../../theorems/12fc8bcb99833b4fdcd92e24eb0d6967a7742d620/expr.ipynb\"><img src=\"../../theorems/12fc8bcb99833b4fdcd92e24eb0d6967a7742d620/expr.png\" style=\"display:inline;vertical-align:middle;\" /></a></td></tr>\n",
       "<tr><td>20</td><td>Operation</td><td>operator:&nbsp;32<br>operands:&nbsp;24<br></td><td><a class=\"ProveItLink\" href=\"../ed71044231ff7fc9c6fa7cc2a720b2c8080908ea0/expr.ipynb\"><img src=\"../ed71044231ff7fc9c6fa7cc2a720b2c8080908ea0/expr.png\" style=\"display:inline;vertical-align:middle;\" /></a></td></tr>\n",
       "<tr><td>21</td><td>ExprRange</td><td>lambda_map:&nbsp;34<br>start_index:&nbsp;40<br>end_index:&nbsp;31<br></td><td><a class=\"ProveItLink\" href=\"../a956b84c0f6501a4522676e8ad2de14462a07d080/expr.ipynb\"><img src=\"../a956b84c0f6501a4522676e8ad2de14462a07d080/expr.png\" style=\"display:inline;vertical-align:middle;\" /></a></td></tr>\n",
       "<tr><td>22</td><td>Operation</td><td>operator:&nbsp;42<br>operands:&nbsp;25<br></td><td><a class=\"ProveItLink\" href=\"../../theorems/e55f2d42e3185848d002680d31f63ac78b57cb580/expr.ipynb\"><img src=\"../../theorems/e55f2d42e3185848d002680d31f63ac78b57cb580/expr.png\" style=\"display:inline;vertical-align:middle;\" /></a></td></tr>\n",
       "<tr><td>23</td><td>Operation</td><td>operator:&nbsp;26<br>operands:&nbsp;27<br></td><td><a class=\"ProveItLink\" href=\"../../theorems/21c0484296e17143a00357a5dbeaf5e37578e6530/expr.ipynb\"><img src=\"../../theorems/21c0484296e17143a00357a5dbeaf5e37578e6530/expr.png\" style=\"display:inline;vertical-align:middle;\" /></a></td></tr>\n",
       "<tr><td>24</td><td>ExprTuple</td><td>28</td><td><a class=\"ProveItLink\" href=\"../1f8eef7b9c7dea4af5479ac83422994dbe765e4f0/expr.ipynb\"><img src=\"../1f8eef7b9c7dea4af5479ac83422994dbe765e4f0/expr.png\" style=\"display:inline;vertical-align:middle;\" /></a></td></tr>\n",
       "<tr><td>25</td><td>ExprTuple</td><td>29, 45</td><td><a class=\"ProveItLink\" href=\"../../theorems/b829c07a4c2c066838e0d5ac3f98990bce62440b0/expr.ipynb\"><img src=\"../../theorems/b829c07a4c2c066838e0d5ac3f98990bce62440b0/expr.png\" style=\"display:inline;vertical-align:middle;\" /></a></td></tr>\n",
       "<tr><td>26</td><td>Literal</td><td></td><td><a class=\"ProveItLink\" href=\"../../../../conjunction/__pv_it/common/26b94b53e70b1d77b70f0d9d4236347db37731060/expr.ipynb\"><img src=\"../../../../conjunction/__pv_it/common/26b94b53e70b1d77b70f0d9d4236347db37731060/expr.png\" style=\"display:inline;vertical-align:middle;\" /></a></td></tr>\n",
       "<tr><td>27</td><td>ExprTuple</td><td>30</td><td><a class=\"ProveItLink\" href=\"../../theorems/0750c52bd69535ed854b99ebc013094f6a4ed21d0/expr.ipynb\"><img src=\"../../theorems/0750c52bd69535ed854b99ebc013094f6a4ed21d0/expr.png\" style=\"display:inline;vertical-align:middle;\" /></a></td></tr>\n",
       "<tr><td>28</td><td>ExprRange</td><td>lambda_map:&nbsp;39<br>start_index:&nbsp;40<br>end_index:&nbsp;31<br></td><td><a class=\"ProveItLink\" href=\"../f2dd1b0c28a1d924706dd6268e63b469cd00023a0/expr.ipynb\"><img src=\"../f2dd1b0c28a1d924706dd6268e63b469cd00023a0/expr.png\" style=\"display:inline;vertical-align:middle;\" /></a></td></tr>\n",
       "<tr><td>29</td><td>Operation</td><td>operator:&nbsp;32<br>operands:&nbsp;33<br></td><td><a class=\"ProveItLink\" href=\"../../theorems/efbd6a9037ae8f5d6d0d5bf6ad515f688f55b5ff0/expr.ipynb\"><img src=\"../../theorems/efbd6a9037ae8f5d6d0d5bf6ad515f688f55b5ff0/expr.png\" style=\"display:inline;vertical-align:middle;\" /></a></td></tr>\n",
       "<tr><td>30</td><td>ExprRange</td><td>lambda_map:&nbsp;34<br>start_index:&nbsp;40<br>end_index:&nbsp;41<br></td><td><a class=\"ProveItLink\" href=\"../../theorems/a2ed50698ae74baa7cb32a2f1b6caecd6da22a010/expr.ipynb\"><img src=\"../../theorems/a2ed50698ae74baa7cb32a2f1b6caecd6da22a010/expr.png\" style=\"display:inline;vertical-align:middle;\" /></a></td></tr>\n",
       "<tr><td>31</td><td>Operation</td><td>operator:&nbsp;35<br>operands:&nbsp;36<br></td><td><a class=\"ProveItLink\" href=\"../../../../../../numbers/__pv_it/common/efd1d07d2fb8417de5db55be233e5799d8cec0b20/expr.ipynb\"><img src=\"../../../../../../numbers/__pv_it/common/efd1d07d2fb8417de5db55be233e5799d8cec0b20/expr.png\" style=\"display:inline;vertical-align:middle;\" /></a></td></tr>\n",
       "<tr><td>32</td><td>Literal</td><td></td><td><a class=\"ProveItLink\" href=\"../../common/0e5dcae3232d8ebdc0777b8ce92ce453a450f6c30/expr.ipynb\"><img src=\"../../common/0e5dcae3232d8ebdc0777b8ce92ce453a450f6c30/expr.png\" style=\"display:inline;vertical-align:middle;\" /></a></td></tr>\n",
       "<tr><td>33</td><td>ExprTuple</td><td>37</td><td><a class=\"ProveItLink\" href=\"../../theorems/0a65ec265686482133d742d4363a8cf4d6c35e350/expr.ipynb\"><img src=\"../../theorems/0a65ec265686482133d742d4363a8cf4d6c35e350/expr.png\" style=\"display:inline;vertical-align:middle;\" /></a></td></tr>\n",
       "<tr><td>34</td><td>Lambda</td><td>parameter:&nbsp;48<br>body:&nbsp;38<br></td><td><a class=\"ProveItLink\" href=\"../../theorems/57ad99e7c548004330720c8120fe2f3f488dfd7b0/expr.ipynb\"><img src=\"../../theorems/57ad99e7c548004330720c8120fe2f3f488dfd7b0/expr.png\" style=\"display:inline;vertical-align:middle;\" /></a></td></tr>\n",
       "<tr><td>35</td><td>Literal</td><td></td><td><a class=\"ProveItLink\" href=\"../../../../../../numbers/addition/__pv_it/common/1f38fe5cce441387feef296e2c0a2eac260bb4f30/expr.ipynb\"><img src=\"../../../../../../numbers/addition/__pv_it/common/1f38fe5cce441387feef296e2c0a2eac260bb4f30/expr.png\" style=\"display:inline;vertical-align:middle;\" /></a></td></tr>\n",
       "<tr><td>36</td><td>ExprTuple</td><td>41, 40</td><td><a class=\"ProveItLink\" href=\"../../../../../../numbers/__pv_it/common/03a40d63027ce00fe578e986fa3bc5aefc3f8df10/expr.ipynb\"><img src=\"../../../../../../numbers/__pv_it/common/03a40d63027ce00fe578e986fa3bc5aefc3f8df10/expr.png\" style=\"display:inline;vertical-align:middle;\" /></a></td></tr>\n",
       "<tr><td>37</td><td>ExprRange</td><td>lambda_map:&nbsp;39<br>start_index:&nbsp;40<br>end_index:&nbsp;41<br></td><td><a class=\"ProveItLink\" href=\"../../../../../../core_expr_types/__pv_it/common/30c3e05d1ed167fcc220828c60f35ec81c3feb3f0/expr.ipynb\"><img src=\"../../../../../../core_expr_types/__pv_it/common/30c3e05d1ed167fcc220828c60f35ec81c3feb3f0/expr.png\" style=\"display:inline;vertical-align:middle;\" /></a></td></tr>\n",
       "<tr><td>38</td><td>Operation</td><td>operator:&nbsp;42<br>operands:&nbsp;43<br></td><td><a class=\"ProveItLink\" href=\"../../theorems/55edfe981d91e57d14ee559c772a50bf666d0ed20/expr.ipynb\"><img src=\"../../theorems/55edfe981d91e57d14ee559c772a50bf666d0ed20/expr.png\" style=\"display:inline;vertical-align:middle;\" /></a></td></tr>\n",
       "<tr><td>39</td><td>Lambda</td><td>parameter:&nbsp;48<br>body:&nbsp;44<br></td><td><a class=\"ProveItLink\" href=\"../../../../../../core_expr_types/__pv_it/common/7cb3671e4363a47742a54e63b73ddf8e8fe2c9390/expr.ipynb\"><img src=\"../../../../../../core_expr_types/__pv_it/common/7cb3671e4363a47742a54e63b73ddf8e8fe2c9390/expr.png\" style=\"display:inline;vertical-align:middle;\" /></a></td></tr>\n",
       "<tr><td>40</td><td>Literal</td><td></td><td><a class=\"ProveItLink\" href=\"../../../../../../numbers/numerals/__pv_it/common/d278e359da0695d9652dd541d45264f93703e2e40/expr.ipynb\"><img src=\"../../../../../../numbers/numerals/__pv_it/common/d278e359da0695d9652dd541d45264f93703e2e40/expr.png\" style=\"display:inline;vertical-align:middle;\" /></a></td></tr>\n",
       "<tr><td>41</td><td>Variable</td><td></td><td><a class=\"ProveItLink\" href=\"../../../../../../__pv_it/common/2dc4f15b3407a25e8d70754a86bf74f1871f92650/expr.ipynb\"><img src=\"../../../../../../__pv_it/common/2dc4f15b3407a25e8d70754a86bf74f1871f92650/expr.png\" style=\"display:inline;vertical-align:middle;\" /></a></td></tr>\n",
       "<tr><td>42</td><td>Literal</td><td></td><td><a class=\"ProveItLink\" href=\"../../../../../sets/membership/__pv_it/common/7171deca84f71f47a6ec7696972d1632274a12880/expr.ipynb\"><img src=\"../../../../../sets/membership/__pv_it/common/7171deca84f71f47a6ec7696972d1632274a12880/expr.png\" style=\"display:inline;vertical-align:middle;\" /></a></td></tr>\n",
       "<tr><td>43</td><td>ExprTuple</td><td>44, 45</td><td><a class=\"ProveItLink\" href=\"../../theorems/0abcd98583fac5283d1d91942b1fa1206b700a840/expr.ipynb\"><img src=\"../../theorems/0abcd98583fac5283d1d91942b1fa1206b700a840/expr.png\" style=\"display:inline;vertical-align:middle;\" /></a></td></tr>\n",
       "<tr><td>44</td><td>IndexedVar</td><td>variable:&nbsp;46<br>index:&nbsp;48<br></td><td><a class=\"ProveItLink\" href=\"../../../../../../core_expr_types/__pv_it/common/44c047560b26e24c2a9af7e0d00ef8bc5e74e7580/expr.ipynb\"><img src=\"../../../../../../core_expr_types/__pv_it/common/44c047560b26e24c2a9af7e0d00ef8bc5e74e7580/expr.png\" style=\"display:inline;vertical-align:middle;\" /></a></td></tr>\n",
       "<tr><td>45</td><td>Literal</td><td></td><td><a class=\"ProveItLink\" href=\"../../../../__pv_it/common/8fc291135425020cce4ba1ad615843f54f1fc6600/expr.ipynb\"><img src=\"../../../../__pv_it/common/8fc291135425020cce4ba1ad615843f54f1fc6600/expr.png\" style=\"display:inline;vertical-align:middle;\" /></a></td></tr>\n",
       "<tr><td>46</td><td>Variable</td><td></td><td><a class=\"ProveItLink\" href=\"../../../../../../__pv_it/common/e4aad701f7f5516d8e7f0d805d518bf02c13322a0/expr.ipynb\"><img src=\"../../../../../../__pv_it/common/e4aad701f7f5516d8e7f0d805d518bf02c13322a0/expr.png\" style=\"display:inline;vertical-align:middle;\" /></a></td></tr>\n",
       "<tr><td>47</td><td>ExprTuple</td><td>48</td><td><a class=\"ProveItLink\" href=\"../../../../../../core_expr_types/__pv_it/common/ecf50ade416ab41c42c9f4e777b4c862cd9469670/expr.ipynb\"><img src=\"../../../../../../core_expr_types/__pv_it/common/ecf50ade416ab41c42c9f4e777b4c862cd9469670/expr.png\" style=\"display:inline;vertical-align:middle;\" /></a></td></tr>\n",
       "<tr><td>48</td><td>Variable</td><td></td><td><a class=\"ProveItLink\" href=\"../../../../../../core_expr_types/__pv_it/common/9e6d9d5d7eeb0342cf5bca68def0eb165a1a9bb10/expr.ipynb\"><img src=\"../../../../../../core_expr_types/__pv_it/common/9e6d9d5d7eeb0342cf5bca68def0eb165a1a9bb10/expr.png\" style=\"display:inline;vertical-align:middle;\" /></a></td></tr>\n",
       "</table>\n"
      ],
      "text/plain": [
       "0. m -> {forall_{A_{1}, ..A_{_a}.., A_{m + 1} in BOOLEAN} ((A_{1} or ..A_{_a}.. or A_{m + 1}) in BOOLEAN) if m in NaturalPos ,  forall_{A_{1}, ..A_{_a}.., A_{m} in BOOLEAN} ((A_{1} or ..A_{_a}.. or A_{m}) in BOOLEAN).\n",
       "   core type: Lambda\n",
       "   parameter: 41\n",
       "   body: 1\n",
       "1. {forall_{A_{1}, ..A_{_a}.., A_{m + 1} in BOOLEAN} ((A_{1} or ..A_{_a}.. or A_{m + 1}) in BOOLEAN) if m in NaturalPos ,  forall_{A_{1}, ..A_{_a}.., A_{m} in BOOLEAN} ((A_{1} or ..A_{_a}.. or A_{m}) in BOOLEAN).\n",
       "   core type: Conditional\n",
       "   value: 2\n",
       "   condition: 3\n",
       "2. forall_{A_{1}, ..A_{_a}.., A_{m + 1} in BOOLEAN} ((A_{1} or ..A_{_a}.. or A_{m + 1}) in BOOLEAN)\n",
       "   core type: Operation\n",
       "   operator: 11\n",
       "   operand: 6\n",
       "3. (m in NaturalPos) and [forall_{A_{1}, ..A_{_a}.., A_{m} in BOOLEAN} ((A_{1} or ..A_{_a}.. or A_{m}) in BOOLEAN)]\n",
       "   core type: Operation\n",
       "   operator: 26\n",
       "   operands: 5\n",
       "4. ((A_{1}, ..A_{_a}.., A_{m + 1}) -> {(A_{1} or ..A_{_a}.. or A_{m + 1}) in BOOLEAN if (A_{1} in BOOLEAN) and ..(A_{_a} in BOOLEAN).. and (A_{m + 1} in BOOLEAN).)\n",
       "   core type: ExprTuple\n",
       "   sub-expressions: 6\n",
       "5. (m in NaturalPos, forall_{A_{1}, ..A_{_a}.., A_{m} in BOOLEAN} ((A_{1} or ..A_{_a}.. or A_{m}) in BOOLEAN))\n",
       "   core type: ExprTuple\n",
       "   sub-expressions: 7, 8\n",
       "6. (A_{1}, ..A_{_a}.., A_{m + 1}) -> {(A_{1} or ..A_{_a}.. or A_{m + 1}) in BOOLEAN if (A_{1} in BOOLEAN) and ..(A_{_a} in BOOLEAN).. and (A_{m + 1} in BOOLEAN).\n",
       "   core type: Lambda\n",
       "   parameters: 24\\n   body: 9\n",
       "7. m in NaturalPos\n",
       "   core type: Operation\n",
       "   operator: 42\n",
       "   operands: 10\n",
       "8. forall_{A_{1}, ..A_{_a}.., A_{m} in BOOLEAN} ((A_{1} or ..A_{_a}.. or A_{m}) in BOOLEAN)\n",
       "   core type: Operation\n",
       "   operator: 11\n",
       "   operand: 16\n",
       "9. {(A_{1} or ..A_{_a}.. or A_{m + 1}) in BOOLEAN if (A_{1} in BOOLEAN) and ..(A_{_a} in BOOLEAN).. and (A_{m + 1} in BOOLEAN).\n",
       "   core type: Conditional\n",
       "   value: 13\n",
       "   condition: 14\n",
       "10. (m, NaturalPos)\n",
       "    core type: ExprTuple\n",
       "    sub-expressions: 41, 15\n",
       "11. forall\n",
       "    core type: Literal\n",
       "    sub-expressions: \n",
       "12. ((A_{1}, ..A_{_a}.., A_{m}) -> {(A_{1} or ..A_{_a}.. or A_{m}) in BOOLEAN if (A_{1} in BOOLEAN) and ..(A_{_a} in BOOLEAN).. and (A_{m} in BOOLEAN).)\n",
       "    core type: ExprTuple\n",
       "    sub-expressions: 16\n",
       "13. (A_{1} or ..A_{_a}.. or A_{m + 1}) in BOOLEAN\n",
       "    core type: Operation\n",
       "    operator: 42\n",
       "    operands: 17\n",
       "14. (A_{1} in BOOLEAN) and ..(A_{_a} in BOOLEAN).. and (A_{m + 1} in BOOLEAN)\n",
       "    core type: Operation\n",
       "    operator: 26\n",
       "    operands: 18\n",
       "15. NaturalPos\n",
       "    core type: Literal\n",
       "    sub-expressions: \n",
       "16. (A_{1}, ..A_{_a}.., A_{m}) -> {(A_{1} or ..A_{_a}.. or A_{m}) in BOOLEAN if (A_{1} in BOOLEAN) and ..(A_{_a} in BOOLEAN).. and (A_{m} in BOOLEAN).\n",
       "    core type: Lambda\n",
       "    parameters: 33\\n    body: 19\n",
       "17. (A_{1} or ..A_{_a}.. or A_{m + 1}, BOOLEAN)\n",
       "    core type: ExprTuple\n",
       "    sub-expressions: 20, 45\n",
       "18. (A_{1} in BOOLEAN, ..A_{_a} in BOOLEAN.., A_{m + 1} in BOOLEAN)\n",
       "    core type: ExprTuple\n",
       "    sub-expressions: 21\n",
       "19. {(A_{1} or ..A_{_a}.. or A_{m}) in BOOLEAN if (A_{1} in BOOLEAN) and ..(A_{_a} in BOOLEAN).. and (A_{m} in BOOLEAN).\n",
       "    core type: Conditional\n",
       "    value: 22\n",
       "    condition: 23\n",
       "20. A_{1} or ..A_{_a}.. or A_{m + 1}\n",
       "    core type: Operation\n",
       "    operator: 32\n",
       "    operands: 24\n",
       "21. (A_{1} in BOOLEAN), ..(A_{_a} in BOOLEAN).., (A_{m + 1} in BOOLEAN)\n",
       "    core type: ExprRange\n",
       "    lambda_map: 34\n",
       "    start_index: 40\n",
       "    end_index: 31\n",
       "22. (A_{1} or ..A_{_a}.. or A_{m}) in BOOLEAN\n",
       "    core type: Operation\n",
       "    operator: 42\n",
       "    operands: 25\n",
       "23. (A_{1} in BOOLEAN) and ..(A_{_a} in BOOLEAN).. and (A_{m} in BOOLEAN)\n",
       "    core type: Operation\n",
       "    operator: 26\n",
       "    operands: 27\n",
       "24. (A_{1}, ..A_{_a}.., A_{m + 1})\n",
       "    core type: ExprTuple\n",
       "    sub-expressions: 28\n",
       "25. (A_{1} or ..A_{_a}.. or A_{m}, BOOLEAN)\n",
       "    core type: ExprTuple\n",
       "    sub-expressions: 29, 45\n",
       "26. and\n",
       "    core type: Literal\n",
       "    sub-expressions: \n",
       "27. (A_{1} in BOOLEAN, ..A_{_a} in BOOLEAN.., A_{m} in BOOLEAN)\n",
       "    core type: ExprTuple\n",
       "    sub-expressions: 30\n",
       "28. A_{1}, ..A_{_a}.., A_{m + 1}\n",
       "    core type: ExprRange\n",
       "    lambda_map: 39\n",
       "    start_index: 40\n",
       "    end_index: 31\n",
       "29. A_{1} or ..A_{_a}.. or A_{m}\n",
       "    core type: Operation\n",
       "    operator: 32\n",
       "    operands: 33\n",
       "30. (A_{1} in BOOLEAN), ..(A_{_a} in BOOLEAN).., (A_{m} in BOOLEAN)\n",
       "    core type: ExprRange\n",
       "    lambda_map: 34\n",
       "    start_index: 40\n",
       "    end_index: 41\n",
       "31. m + 1\n",
       "    core type: Operation\n",
       "    operator: 35\n",
       "    operands: 36\n",
       "32. or\n",
       "    core type: Literal\n",
       "    sub-expressions: \n",
       "33. (A_{1}, ..A_{_a}.., A_{m})\n",
       "    core type: ExprTuple\n",
       "    sub-expressions: 37\n",
       "34. _a -> (A_{_a} in BOOLEAN)\n",
       "    core type: Lambda\n",
       "    parameter: 48\n",
       "    body: 38\n",
       "35. +\n",
       "    core type: Literal\n",
       "    sub-expressions: \n",
       "36. (m, 1)\n",
       "    core type: ExprTuple\n",
       "    sub-expressions: 41, 40\n",
       "37. A_{1}, ..A_{_a}.., A_{m}\n",
       "    core type: ExprRange\n",
       "    lambda_map: 39\n",
       "    start_index: 40\n",
       "    end_index: 41\n",
       "38. A_{_a} in BOOLEAN\n",
       "    core type: Operation\n",
       "    operator: 42\n",
       "    operands: 43\n",
       "39. _a -> A_{_a}\n",
       "    core type: Lambda\n",
       "    parameter: 48\n",
       "    body: 44\n",
       "40. 1\n",
       "    core type: Literal\n",
       "    sub-expressions: \n",
       "41. m\n",
       "    core type: Variable\n",
       "    sub-expressions: \n",
       "42. in\n",
       "    core type: Literal\n",
       "    sub-expressions: \n",
       "43. (A_{_a}, BOOLEAN)\n",
       "    core type: ExprTuple\n",
       "    sub-expressions: 44, 45\n",
       "44. A_{_a}\n",
       "    core type: IndexedVar\n",
       "variable: 46\n",
       "index: 48\n",
       "45. BOOLEAN\n",
       "    core type: Literal\n",
       "    sub-expressions: \n",
       "46. A\n",
       "    core type: Variable\n",
       "    sub-expressions: \n",
       "47. (_a)\n",
       "    core type: ExprTuple\n",
       "    sub-expressions: 48\n",
       "48. _a\n",
       "    core type: Variable\n",
       "    sub-expressions: "
      ]
     },
     "execution_count": 6,
     "metadata": {},
     "output_type": "execute_result"
    }
   ],
   "source": [
    "# display the expression information\n",
    "expr.expr_info()"
   ]
  },
  {
   "cell_type": "code",
   "execution_count": null,
   "metadata": {},
   "outputs": [],
   "source": []
  }
 ],
 "metadata": {
  "kernelspec": {
   "display_name": "Python 3",
   "language": "python",
   "name": "python3"
  }
 },
 "nbformat": 4,
 "nbformat_minor": 0
}