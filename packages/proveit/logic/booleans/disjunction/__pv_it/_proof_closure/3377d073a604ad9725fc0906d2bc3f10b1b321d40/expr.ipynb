{
 "cells": [
  {
   "cell_type": "markdown",
   "metadata": {},
   "source": [
    "Expression of type <a class=\"ProveItLink\" href=\"../../../../../../../../doc/html/api/proveit.Conditional.html\">Conditional</a>\n",
    "=======================\n",
    "# from the theory of <a class=\"ProveItLink\" href=\"../../../_theory_nbs_/theory.ipynb\">proveit.logic.booleans.disjunction</a>"
   ]
  },
  {
   "cell_type": "code",
   "execution_count": 1,
   "metadata": {},
   "outputs": [],
   "source": [
    "import proveit\n",
    "# Automation is not needed when building an expression:\n",
    "proveit.defaults.automation = False # This will speed things up.\n",
    "proveit.defaults.inline_pngs = False # Makes files smaller.\n",
    "%load_expr # Load the stored expression as 'stored_expr'\n",
    "# import Expression classes needed to build the expression\n",
    "from proveit import A, Conditional, ExprRange, IndexedVar, Variable, m\n",
    "from proveit.logic import And, Boolean, InSet, Or\n",
    "from proveit.numbers import Add, one"
   ]
  },
  {
   "cell_type": "code",
   "execution_count": 2,
   "metadata": {},
   "outputs": [
    {
     "data": {
      "text/html": [
       "<strong id=\"expr\">expr:</strong> <a class=\"ProveItLink\" href=\"expr.ipynb\"><img src=\"expr.png\" style=\"display:inline;vertical-align:middle;\" /></a><br>"
      ],
      "text/plain": [
       "expr: {(A_{1} or ..A_{_a}.. or A_{m + 1}) in BOOLEAN if (A_{1} in BOOLEAN) and ..(A_{_a} in BOOLEAN).. and (A_{m + 1} in BOOLEAN)."
      ]
     },
     "execution_count": 2,
     "metadata": {},
     "output_type": "execute_result"
    }
   ],
   "source": [
    "# build up the expression from sub-expressions\n",
    "sub_expr1 = Variable(\"_a\", latex_format = r\"{_{-}a}\")\n",
    "sub_expr2 = IndexedVar(A, sub_expr1)\n",
    "sub_expr3 = Add(m, one)\n",
    "expr = Conditional(InSet(Or(ExprRange(sub_expr1, sub_expr2, one, sub_expr3)), Boolean), And(ExprRange(sub_expr1, InSet(sub_expr2, Boolean), one, sub_expr3)))"
   ]
  },
  {
   "cell_type": "code",
   "execution_count": 3,
   "metadata": {},
   "outputs": [
    {
     "name": "stdout",
     "output_type": "stream",
     "text": [
      "Passed sanity check: expr matches stored_expr\n"
     ]
    }
   ],
   "source": [
    "# check that the built expression is the same as the stored expression\n",
    "assert expr == stored_expr\n",
    "assert expr._style_id == stored_expr._style_id\n",
    "print(\"Passed sanity check: expr matches stored_expr\")"
   ]
  },
  {
   "cell_type": "code",
   "execution_count": 4,
   "metadata": {},
   "outputs": [
    {
     "name": "stdout",
     "output_type": "stream",
     "text": [
      "\\left\\{\\left(A_{1} \\lor \\ldots \\lor A_{m + 1}\\right) \\in \\mathbb{B} \\textrm{ if } \\left(A_{1} \\in \\mathbb{B}\\right) \\land \\ldots \\land \\left(A_{m + 1} \\in \\mathbb{B}\\right)\\right..\n"
     ]
    }
   ],
   "source": [
    "# Show the LaTeX representation of the expression for convenience if you need it.\n",
    "print(expr.latex())"
   ]
  },
  {
   "cell_type": "code",
   "execution_count": 5,
   "metadata": {},
   "outputs": [
    {
     "data": {
      "text/html": [
       "<table>\n",
       "<tr><th>name</th><th>description</th><th>default</th><th>current value</th><th>related methods</th></tr><tr><td>condition_delimiter</td><td>'comma' or 'and'</td><td>comma</td><td>comma</td><td>('with_comma_delimiter', 'with_conjunction_delimiter')</td></tr>\n",
       "</table>\n"
      ],
      "text/plain": [
       "style name: condition_delimiter\n",
       "description: 'comma' or 'and'\n",
       "default: comma\n",
       "current value: comma\n",
       "related methods: ('with_comma_delimiter', 'with_conjunction_delimiter')"
      ]
     },
     "execution_count": 5,
     "metadata": {},
     "output_type": "execute_result"
    }
   ],
   "source": [
    "expr.style_options()"
   ]
  },
  {
   "cell_type": "code",
   "execution_count": 6,
   "metadata": {},
   "outputs": [
    {
     "data": {
      "text/html": [
       "<table><tr><th>&nbsp;</th><th>core type</th><th>sub-expressions</th><th>expression</th></tr>\n",
       "<tr><td>0</td><td>Conditional</td><td>value:&nbsp;1<br>condition:&nbsp;2<br></td><td><a class=\"ProveItLink\" href=\"expr.ipynb\"><img src=\"expr.png\" style=\"display:inline;vertical-align:middle;\" /></a></td></tr>\n",
       "<tr><td>1</td><td>Operation</td><td>operator:&nbsp;15<br>operands:&nbsp;3<br></td><td><a class=\"ProveItLink\" href=\"../f8aa94717f5d76a3180e7d21da6bcaab0df4c2b00/expr.ipynb\"><img src=\"../f8aa94717f5d76a3180e7d21da6bcaab0df4c2b00/expr.png\" style=\"display:inline;vertical-align:middle;\" /></a></td></tr>\n",
       "<tr><td>2</td><td>Operation</td><td>operator:&nbsp;4<br>operands:&nbsp;5<br></td><td><a class=\"ProveItLink\" href=\"../3cb793ff51133ce056aaae080b4ec4d577b95b1b0/expr.ipynb\"><img src=\"../3cb793ff51133ce056aaae080b4ec4d577b95b1b0/expr.png\" style=\"display:inline;vertical-align:middle;\" /></a></td></tr>\n",
       "<tr><td>3</td><td>ExprTuple</td><td>6, 20</td><td><a class=\"ProveItLink\" href=\"../cd442c20bc49a8f5ebc1726a11dd0f4f26b3320d0/expr.ipynb\"><img src=\"../cd442c20bc49a8f5ebc1726a11dd0f4f26b3320d0/expr.png\" style=\"display:inline;vertical-align:middle;\" /></a></td></tr>\n",
       "<tr><td>4</td><td>Literal</td><td></td><td><a class=\"ProveItLink\" href=\"../../../../conjunction/__pv_it/common/26b94b53e70b1d77b70f0d9d4236347db37731060/expr.ipynb\"><img src=\"../../../../conjunction/__pv_it/common/26b94b53e70b1d77b70f0d9d4236347db37731060/expr.png\" style=\"display:inline;vertical-align:middle;\" /></a></td></tr>\n",
       "<tr><td>5</td><td>ExprTuple</td><td>7</td><td><a class=\"ProveItLink\" href=\"../ea9865000f4e4e1437256e50f495298f51f023f00/expr.ipynb\"><img src=\"../ea9865000f4e4e1437256e50f495298f51f023f00/expr.png\" style=\"display:inline;vertical-align:middle;\" /></a></td></tr>\n",
       "<tr><td>6</td><td>Operation</td><td>operator:&nbsp;8<br>operands:&nbsp;9<br></td><td><a class=\"ProveItLink\" href=\"../ed71044231ff7fc9c6fa7cc2a720b2c8080908ea0/expr.ipynb\"><img src=\"../ed71044231ff7fc9c6fa7cc2a720b2c8080908ea0/expr.png\" style=\"display:inline;vertical-align:middle;\" /></a></td></tr>\n",
       "<tr><td>7</td><td>ExprRange</td><td>lambda_map:&nbsp;10<br>start_index:&nbsp;22<br>end_index:&nbsp;14<br></td><td><a class=\"ProveItLink\" href=\"../a956b84c0f6501a4522676e8ad2de14462a07d080/expr.ipynb\"><img src=\"../a956b84c0f6501a4522676e8ad2de14462a07d080/expr.png\" style=\"display:inline;vertical-align:middle;\" /></a></td></tr>\n",
       "<tr><td>8</td><td>Literal</td><td></td><td><a class=\"ProveItLink\" href=\"../../common/0e5dcae3232d8ebdc0777b8ce92ce453a450f6c30/expr.ipynb\"><img src=\"../../common/0e5dcae3232d8ebdc0777b8ce92ce453a450f6c30/expr.png\" style=\"display:inline;vertical-align:middle;\" /></a></td></tr>\n",
       "<tr><td>9</td><td>ExprTuple</td><td>11</td><td><a class=\"ProveItLink\" href=\"../1f8eef7b9c7dea4af5479ac83422994dbe765e4f0/expr.ipynb\"><img src=\"../1f8eef7b9c7dea4af5479ac83422994dbe765e4f0/expr.png\" style=\"display:inline;vertical-align:middle;\" /></a></td></tr>\n",
       "<tr><td>10</td><td>Lambda</td><td>parameter:&nbsp;25<br>body:&nbsp;12<br></td><td><a class=\"ProveItLink\" href=\"../../theorems/57ad99e7c548004330720c8120fe2f3f488dfd7b0/expr.ipynb\"><img src=\"../../theorems/57ad99e7c548004330720c8120fe2f3f488dfd7b0/expr.png\" style=\"display:inline;vertical-align:middle;\" /></a></td></tr>\n",
       "<tr><td>11</td><td>ExprRange</td><td>lambda_map:&nbsp;13<br>start_index:&nbsp;22<br>end_index:&nbsp;14<br></td><td><a class=\"ProveItLink\" href=\"../f2dd1b0c28a1d924706dd6268e63b469cd00023a0/expr.ipynb\"><img src=\"../f2dd1b0c28a1d924706dd6268e63b469cd00023a0/expr.png\" style=\"display:inline;vertical-align:middle;\" /></a></td></tr>\n",
       "<tr><td>12</td><td>Operation</td><td>operator:&nbsp;15<br>operands:&nbsp;16<br></td><td><a class=\"ProveItLink\" href=\"../../theorems/55edfe981d91e57d14ee559c772a50bf666d0ed20/expr.ipynb\"><img src=\"../../theorems/55edfe981d91e57d14ee559c772a50bf666d0ed20/expr.png\" style=\"display:inline;vertical-align:middle;\" /></a></td></tr>\n",
       "<tr><td>13</td><td>Lambda</td><td>parameter:&nbsp;25<br>body:&nbsp;19<br></td><td><a class=\"ProveItLink\" href=\"../../../../../../core_expr_types/__pv_it/common/7cb3671e4363a47742a54e63b73ddf8e8fe2c9390/expr.ipynb\"><img src=\"../../../../../../core_expr_types/__pv_it/common/7cb3671e4363a47742a54e63b73ddf8e8fe2c9390/expr.png\" style=\"display:inline;vertical-align:middle;\" /></a></td></tr>\n",
       "<tr><td>14</td><td>Operation</td><td>operator:&nbsp;17<br>operands:&nbsp;18<br></td><td><a class=\"ProveItLink\" href=\"../../../../../../numbers/__pv_it/common/efd1d07d2fb8417de5db55be233e5799d8cec0b20/expr.ipynb\"><img src=\"../../../../../../numbers/__pv_it/common/efd1d07d2fb8417de5db55be233e5799d8cec0b20/expr.png\" style=\"display:inline;vertical-align:middle;\" /></a></td></tr>\n",
       "<tr><td>15</td><td>Literal</td><td></td><td><a class=\"ProveItLink\" href=\"../../../../../sets/membership/__pv_it/common/7171deca84f71f47a6ec7696972d1632274a12880/expr.ipynb\"><img src=\"../../../../../sets/membership/__pv_it/common/7171deca84f71f47a6ec7696972d1632274a12880/expr.png\" style=\"display:inline;vertical-align:middle;\" /></a></td></tr>\n",
       "<tr><td>16</td><td>ExprTuple</td><td>19, 20</td><td><a class=\"ProveItLink\" href=\"../../theorems/0abcd98583fac5283d1d91942b1fa1206b700a840/expr.ipynb\"><img src=\"../../theorems/0abcd98583fac5283d1d91942b1fa1206b700a840/expr.png\" style=\"display:inline;vertical-align:middle;\" /></a></td></tr>\n",
       "<tr><td>17</td><td>Literal</td><td></td><td><a class=\"ProveItLink\" href=\"../../../../../../numbers/addition/__pv_it/common/1f38fe5cce441387feef296e2c0a2eac260bb4f30/expr.ipynb\"><img src=\"../../../../../../numbers/addition/__pv_it/common/1f38fe5cce441387feef296e2c0a2eac260bb4f30/expr.png\" style=\"display:inline;vertical-align:middle;\" /></a></td></tr>\n",
       "<tr><td>18</td><td>ExprTuple</td><td>21, 22</td><td><a class=\"ProveItLink\" href=\"../../../../../../numbers/__pv_it/common/03a40d63027ce00fe578e986fa3bc5aefc3f8df10/expr.ipynb\"><img src=\"../../../../../../numbers/__pv_it/common/03a40d63027ce00fe578e986fa3bc5aefc3f8df10/expr.png\" style=\"display:inline;vertical-align:middle;\" /></a></td></tr>\n",
       "<tr><td>19</td><td>IndexedVar</td><td>variable:&nbsp;23<br>index:&nbsp;25<br></td><td><a class=\"ProveItLink\" href=\"../../../../../../core_expr_types/__pv_it/common/44c047560b26e24c2a9af7e0d00ef8bc5e74e7580/expr.ipynb\"><img src=\"../../../../../../core_expr_types/__pv_it/common/44c047560b26e24c2a9af7e0d00ef8bc5e74e7580/expr.png\" style=\"display:inline;vertical-align:middle;\" /></a></td></tr>\n",
       "<tr><td>20</td><td>Literal</td><td></td><td><a class=\"ProveItLink\" href=\"../../../../__pv_it/common/8fc291135425020cce4ba1ad615843f54f1fc6600/expr.ipynb\"><img src=\"../../../../__pv_it/common/8fc291135425020cce4ba1ad615843f54f1fc6600/expr.png\" style=\"display:inline;vertical-align:middle;\" /></a></td></tr>\n",
       "<tr><td>21</td><td>Variable</td><td></td><td><a class=\"ProveItLink\" href=\"../../../../../../__pv_it/common/2dc4f15b3407a25e8d70754a86bf74f1871f92650/expr.ipynb\"><img src=\"../../../../../../__pv_it/common/2dc4f15b3407a25e8d70754a86bf74f1871f92650/expr.png\" style=\"display:inline;vertical-align:middle;\" /></a></td></tr>\n",
       "<tr><td>22</td><td>Literal</td><td></td><td><a class=\"ProveItLink\" href=\"../../../../../../numbers/numerals/__pv_it/common/d278e359da0695d9652dd541d45264f93703e2e40/expr.ipynb\"><img src=\"../../../../../../numbers/numerals/__pv_it/common/d278e359da0695d9652dd541d45264f93703e2e40/expr.png\" style=\"display:inline;vertical-align:middle;\" /></a></td></tr>\n",
       "<tr><td>23</td><td>Variable</td><td></td><td><a class=\"ProveItLink\" href=\"../../../../../../__pv_it/common/e4aad701f7f5516d8e7f0d805d518bf02c13322a0/expr.ipynb\"><img src=\"../../../../../../__pv_it/common/e4aad701f7f5516d8e7f0d805d518bf02c13322a0/expr.png\" style=\"display:inline;vertical-align:middle;\" /></a></td></tr>\n",
       "<tr><td>24</td><td>ExprTuple</td><td>25</td><td><a class=\"ProveItLink\" href=\"../../../../../../core_expr_types/__pv_it/common/ecf50ade416ab41c42c9f4e777b4c862cd9469670/expr.ipynb\"><img src=\"../../../../../../core_expr_types/__pv_it/common/ecf50ade416ab41c42c9f4e777b4c862cd9469670/expr.png\" style=\"display:inline;vertical-align:middle;\" /></a></td></tr>\n",
       "<tr><td>25</td><td>Variable</td><td></td><td><a class=\"ProveItLink\" href=\"../../../../../../core_expr_types/__pv_it/common/9e6d9d5d7eeb0342cf5bca68def0eb165a1a9bb10/expr.ipynb\"><img src=\"../../../../../../core_expr_types/__pv_it/common/9e6d9d5d7eeb0342cf5bca68def0eb165a1a9bb10/expr.png\" style=\"display:inline;vertical-align:middle;\" /></a></td></tr>\n",
       "</table>\n"
      ],
      "text/plain": [
       "0. {(A_{1} or ..A_{_a}.. or A_{m + 1}) in BOOLEAN if (A_{1} in BOOLEAN) and ..(A_{_a} in BOOLEAN).. and (A_{m + 1} in BOOLEAN).\n",
       "   core type: Conditional\n",
       "   value: 1\n",
       "   condition: 2\n",
       "1. (A_{1} or ..A_{_a}.. or A_{m + 1}) in BOOLEAN\n",
       "   core type: Operation\n",
       "   operator: 15\n",
       "   operands: 3\n",
       "2. (A_{1} in BOOLEAN) and ..(A_{_a} in BOOLEAN).. and (A_{m + 1} in BOOLEAN)\n",
       "   core type: Operation\n",
       "   operator: 4\n",
       "   operands: 5\n",
       "3. (A_{1} or ..A_{_a}.. or A_{m + 1}, BOOLEAN)\n",
       "   core type: ExprTuple\n",
       "   sub-expressions: 6, 20\n",
       "4. and\n",
       "   core type: Literal\n",
       "   sub-expressions: \n",
       "5. (A_{1} in BOOLEAN, ..A_{_a} in BOOLEAN.., A_{m + 1} in BOOLEAN)\n",
       "   core type: ExprTuple\n",
       "   sub-expressions: 7\n",
       "6. A_{1} or ..A_{_a}.. or A_{m + 1}\n",
       "   core type: Operation\n",
       "   operator: 8\n",
       "   operands: 9\n",
       "7. (A_{1} in BOOLEAN), ..(A_{_a} in BOOLEAN).., (A_{m + 1} in BOOLEAN)\n",
       "   core type: ExprRange\n",
       "   lambda_map: 10\n",
       "   start_index: 22\n",
       "   end_index: 14\n",
       "8. or\n",
       "   core type: Literal\n",
       "   sub-expressions: \n",
       "9. (A_{1}, ..A_{_a}.., A_{m + 1})\n",
       "   core type: ExprTuple\n",
       "   sub-expressions: 11\n",
       "10. _a -> (A_{_a} in BOOLEAN)\n",
       "    core type: Lambda\n",
       "    parameter: 25\n",
       "    body: 12\n",
       "11. A_{1}, ..A_{_a}.., A_{m + 1}\n",
       "    core type: ExprRange\n",
       "    lambda_map: 13\n",
       "    start_index: 22\n",
       "    end_index: 14\n",
       "12. A_{_a} in BOOLEAN\n",
       "    core type: Operation\n",
       "    operator: 15\n",
       "    operands: 16\n",
       "13. _a -> A_{_a}\n",
       "    core type: Lambda\n",
       "    parameter: 25\n",
       "    body: 19\n",
       "14. m + 1\n",
       "    core type: Operation\n",
       "    operator: 17\n",
       "    operands: 18\n",
       "15. in\n",
       "    core type: Literal\n",
       "    sub-expressions: \n",
       "16. (A_{_a}, BOOLEAN)\n",
       "    core type: ExprTuple\n",
       "    sub-expressions: 19, 20\n",
       "17. +\n",
       "    core type: Literal\n",
       "    sub-expressions: \n",
       "18. (m, 1)\n",
       "    core type: ExprTuple\n",
       "    sub-expressions: 21, 22\n",
       "19. A_{_a}\n",
       "    core type: IndexedVar\n",
       "variable: 23\n",
       "index: 25\n",
       "20. BOOLEAN\n",
       "    core type: Literal\n",
       "    sub-expressions: \n",
       "21. m\n",
       "    core type: Variable\n",
       "    sub-expressions: \n",
       "22. 1\n",
       "    core type: Literal\n",
       "    sub-expressions: \n",
       "23. A\n",
       "    core type: Variable\n",
       "    sub-expressions: \n",
       "24. (_a)\n",
       "    core type: ExprTuple\n",
       "    sub-expressions: 25\n",
       "25. _a\n",
       "    core type: Variable\n",
       "    sub-expressions: "
      ]
     },
     "execution_count": 6,
     "metadata": {},
     "output_type": "execute_result"
    }
   ],
   "source": [
    "# display the expression information\n",
    "expr.expr_info()"
   ]
  },
  {
   "cell_type": "code",
   "execution_count": null,
   "metadata": {},
   "outputs": [],
   "source": []
  }
 ],
 "metadata": {
  "kernelspec": {
   "display_name": "Python 3",
   "language": "python",
   "name": "python3"
  }
 },
 "nbformat": 4,
 "nbformat_minor": 0
}