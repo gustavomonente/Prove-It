{
 "cells": [
  {
   "cell_type": "markdown",
   "metadata": {},
   "source": [
    "Expression of type <a class=\"ProveItLink\" href=\"../../../../../../../../doc/html/api/proveit.Lambda.html\">Lambda</a>\n",
    "=======================\n",
    "# from the theory of <a class=\"ProveItLink\" href=\"../../../_theory_nbs_/theory.ipynb\">proveit.logic.booleans.disjunction</a>"
   ]
  },
  {
   "cell_type": "code",
   "execution_count": 1,
   "metadata": {},
   "outputs": [],
   "source": [
    "import proveit\n",
    "# Automation is not needed when building an expression:\n",
    "proveit.defaults.automation = False # This will speed things up.\n",
    "proveit.defaults.inline_pngs = False # Makes files smaller.\n",
    "%load_expr # Load the stored expression as 'stored_expr'\n",
    "# import Expression classes needed to build the expression\n",
    "from proveit import Conditional, Lambda, l, m, n\n",
    "from proveit.core_expr_types import A_1_to_l, B_1_to_m, C_1_to_n\n",
    "from proveit.logic import And, Forall, InSet, Or\n",
    "from proveit.numbers import Natural"
   ]
  },
  {
   "cell_type": "code",
   "execution_count": 2,
   "metadata": {},
   "outputs": [
    {
     "data": {
      "text/html": [
       "<strong id=\"expr\">expr:</strong> <a class=\"ProveItLink\" href=\"expr.ipynb\"><img src=\"expr.png\" style=\"display:inline;vertical-align:middle;\" /></a><br>"
      ],
      "text/plain": [
       "expr: (l, m, n) -> {forall_{A_{1}, ..A_{_a}.., A_{l}, B_{1}, ..B_{_a}.., B_{m}, C_{1}, ..C_{_a}.., C_{n} | A_{1} or ..A_{_a}.. or A_{l} or (B_{1} or ..B_{_a}.. or B_{m}) or C_{1} or ..C_{_a}.. or C_{n}} (A_{1} or ..A_{_a}.. or A_{l} or B_{1} or ..B_{_a}.. or B_{m} or C_{1} or ..C_{_a}.. or C_{n}) if l in Natural ,  m in Natural ,  n in Natural."
      ]
     },
     "execution_count": 2,
     "metadata": {},
     "output_type": "execute_result"
    }
   ],
   "source": [
    "# build up the expression from sub-expressions\n",
    "expr = Lambda([l, m, n], Conditional(Forall([A_1_to_l, B_1_to_m, C_1_to_n], Or(A_1_to_l, B_1_to_m, C_1_to_n), condition = Or(A_1_to_l, Or(B_1_to_m), C_1_to_n)), And(InSet(l, Natural), InSet(m, Natural), InSet(n, Natural))))"
   ]
  },
  {
   "cell_type": "code",
   "execution_count": 3,
   "metadata": {},
   "outputs": [
    {
     "name": "stdout",
     "output_type": "stream",
     "text": [
      "Passed sanity check: expr matches stored_expr\n"
     ]
    }
   ],
   "source": [
    "# check that the built expression is the same as the stored expression\n",
    "assert expr == stored_expr\n",
    "assert expr._style_id == stored_expr._style_id\n",
    "print(\"Passed sanity check: expr matches stored_expr\")"
   ]
  },
  {
   "cell_type": "code",
   "execution_count": 4,
   "metadata": {},
   "outputs": [
    {
     "name": "stdout",
     "output_type": "stream",
     "text": [
      "\\left(l, m, n\\right) \\mapsto \\left\\{\\forall_{A_{1}, \\ldots, A_{l}, B_{1}, \\ldots, B_{m}, C_{1}, \\ldots, C_{n}~|~A_{1} \\lor \\ldots \\lor A_{l} \\lor \\left(B_{1} \\lor \\ldots \\lor B_{m}\\right) \\lor C_{1} \\lor \\ldots \\lor C_{n}}~\\left(A_{1} \\lor \\ldots \\lor A_{l} \\lor B_{1} \\lor \\ldots \\lor B_{m} \\lor C_{1} \\lor \\ldots \\lor C_{n}\\right) \\textrm{ if } l \\in \\mathbb{N} ,  m \\in \\mathbb{N} ,  n \\in \\mathbb{N}\\right..\n"
     ]
    }
   ],
   "source": [
    "# Show the LaTeX representation of the expression for convenience if you need it.\n",
    "print(expr.latex())"
   ]
  },
  {
   "cell_type": "code",
   "execution_count": 5,
   "metadata": {},
   "outputs": [
    {
     "data": {
      "text/html": [
       "<table><tr><th>&nbsp;</th><th>core type</th><th>sub-expressions</th><th>expression</th></tr>\n",
       "<tr><td>0</td><td>Lambda</td><td>parameters:&nbsp;1<br>body:&nbsp;2<br></td><td><a class=\"ProveItLink\" href=\"expr.ipynb\"><img src=\"expr.png\" style=\"display:inline;vertical-align:middle;\" /></a></td></tr>\n",
       "<tr><td>1</td><td>ExprTuple</td><td>26, 37, 30</td><td><a class=\"ProveItLink\" href=\"../e11024635cdce94551d0393f601d4952c2cf2b520/expr.ipynb\"><img src=\"../e11024635cdce94551d0393f601d4952c2cf2b520/expr.png\" style=\"display:inline;vertical-align:middle;\" /></a></td></tr>\n",
       "<tr><td>2</td><td>Conditional</td><td>value:&nbsp;3<br>condition:&nbsp;4<br></td><td><a class=\"ProveItLink\" href=\"../1c331a4edda9cb546602150e2efb2eb9ecfb8ff80/expr.ipynb\"><img src=\"../1c331a4edda9cb546602150e2efb2eb9ecfb8ff80/expr.png\" style=\"display:inline;vertical-align:middle;\" /></a></td></tr>\n",
       "<tr><td>3</td><td>Operation</td><td>operator:&nbsp;5<br>operand:&nbsp;6<br></td><td><a class=\"ProveItLink\" href=\"../b88213307fc070136eab039ca8e2041b983e37640/expr.ipynb\"><img src=\"../b88213307fc070136eab039ca8e2041b983e37640/expr.png\" style=\"display:inline;vertical-align:middle;\" /></a></td></tr>\n",
       "<tr><td>4</td><td>Operation</td><td>operator:&nbsp;7<br>operands:&nbsp;8<br></td><td><a class=\"ProveItLink\" href=\"../b2a0065b5582fa840d28b113e4c08d1d924d5e610/expr.ipynb\"><img src=\"../b2a0065b5582fa840d28b113e4c08d1d924d5e610/expr.png\" style=\"display:inline;vertical-align:middle;\" /></a></td></tr>\n",
       "<tr><td>5</td><td>Literal</td><td></td><td><a class=\"ProveItLink\" href=\"../../../../quantification/universality/__pv_it/common/083d2baa0b8ecab1d230f9ec29a15aa1355809fb0/expr.ipynb\"><img src=\"../../../../quantification/universality/__pv_it/common/083d2baa0b8ecab1d230f9ec29a15aa1355809fb0/expr.png\" style=\"display:inline;vertical-align:middle;\" /></a></td></tr>\n",
       "<tr><td>6</td><td>Lambda</td><td>parameters:&nbsp;19<br>body:&nbsp;9<br></td><td><a class=\"ProveItLink\" href=\"../d092a1e4b38dbab03c6b143522058e81b85d87260/expr.ipynb\"><img src=\"../d092a1e4b38dbab03c6b143522058e81b85d87260/expr.png\" style=\"display:inline;vertical-align:middle;\" /></a></td></tr>\n",
       "<tr><td>7</td><td>Literal</td><td></td><td><a class=\"ProveItLink\" href=\"../../../../conjunction/__pv_it/common/42118ff318bd65d98b1393f64ce7c2269feef76e0/expr.ipynb\"><img src=\"../../../../conjunction/__pv_it/common/42118ff318bd65d98b1393f64ce7c2269feef76e0/expr.png\" style=\"display:inline;vertical-align:middle;\" /></a></td></tr>\n",
       "<tr><td>8</td><td>ExprTuple</td><td>10, 11, 12</td><td><a class=\"ProveItLink\" href=\"../a75d1ec99622e6c72a5f3b39a167d1da5339f1f80/expr.ipynb\"><img src=\"../a75d1ec99622e6c72a5f3b39a167d1da5339f1f80/expr.png\" style=\"display:inline;vertical-align:middle;\" /></a></td></tr>\n",
       "<tr><td>9</td><td>Conditional</td><td>value:&nbsp;13<br>condition:&nbsp;14<br></td><td><a class=\"ProveItLink\" href=\"../89ac5ed29888b31af93a950105a1c7bed79f9da90/expr.ipynb\"><img src=\"../89ac5ed29888b31af93a950105a1c7bed79f9da90/expr.png\" style=\"display:inline;vertical-align:middle;\" /></a></td></tr>\n",
       "<tr><td>10</td><td>Operation</td><td>operator:&nbsp;17<br>operands:&nbsp;15<br></td><td><a class=\"ProveItLink\" href=\"../d1cd2c212c0ffdb03a0e1ad2f9430686fd6a8f700/expr.ipynb\"><img src=\"../d1cd2c212c0ffdb03a0e1ad2f9430686fd6a8f700/expr.png\" style=\"display:inline;vertical-align:middle;\" /></a></td></tr>\n",
       "<tr><td>11</td><td>Operation</td><td>operator:&nbsp;17<br>operands:&nbsp;16<br></td><td><a class=\"ProveItLink\" href=\"../98023afa4ea0d397f8a177bad4a359b36939fb170/expr.ipynb\"><img src=\"../98023afa4ea0d397f8a177bad4a359b36939fb170/expr.png\" style=\"display:inline;vertical-align:middle;\" /></a></td></tr>\n",
       "<tr><td>12</td><td>Operation</td><td>operator:&nbsp;17<br>operands:&nbsp;18<br></td><td><a class=\"ProveItLink\" href=\"../7351e7b0b5ab4699fe31eac3b02ba02b17a05bf60/expr.ipynb\"><img src=\"../7351e7b0b5ab4699fe31eac3b02ba02b17a05bf60/expr.png\" style=\"display:inline;vertical-align:middle;\" /></a></td></tr>\n",
       "<tr><td>13</td><td>Operation</td><td>operator:&nbsp;27<br>operands:&nbsp;19<br></td><td><a class=\"ProveItLink\" href=\"../ea2855ef00ff20219fa704c4a432a49c7a6211210/expr.ipynb\"><img src=\"../ea2855ef00ff20219fa704c4a432a49c7a6211210/expr.png\" style=\"display:inline;vertical-align:middle;\" /></a></td></tr>\n",
       "<tr><td>14</td><td>Operation</td><td>operator:&nbsp;27<br>operands:&nbsp;20<br></td><td><a class=\"ProveItLink\" href=\"../0838e64e648c9f5327ce56e3e8f1a80d46fd10640/expr.ipynb\"><img src=\"../0838e64e648c9f5327ce56e3e8f1a80d46fd10640/expr.png\" style=\"display:inline;vertical-align:middle;\" /></a></td></tr>\n",
       "<tr><td>15</td><td>ExprTuple</td><td>26, 21</td><td><a class=\"ProveItLink\" href=\"../ca99aea1fb54ac1e977a726f9b73b0ed04a21fc90/expr.ipynb\"><img src=\"../ca99aea1fb54ac1e977a726f9b73b0ed04a21fc90/expr.png\" style=\"display:inline;vertical-align:middle;\" /></a></td></tr>\n",
       "<tr><td>16</td><td>ExprTuple</td><td>37, 21</td><td><a class=\"ProveItLink\" href=\"../cd7d4f1c848a714c5e3ee950f74fc6919eb17af50/expr.ipynb\"><img src=\"../cd7d4f1c848a714c5e3ee950f74fc6919eb17af50/expr.png\" style=\"display:inline;vertical-align:middle;\" /></a></td></tr>\n",
       "<tr><td>17</td><td>Literal</td><td></td><td><a class=\"ProveItLink\" href=\"../../../../../sets/membership/__pv_it/common/477487d8796864d23d5810f83761435f25167f690/expr.ipynb\"><img src=\"../../../../../sets/membership/__pv_it/common/477487d8796864d23d5810f83761435f25167f690/expr.png\" style=\"display:inline;vertical-align:middle;\" /></a></td></tr>\n",
       "<tr><td>18</td><td>ExprTuple</td><td>30, 21</td><td><a class=\"ProveItLink\" href=\"../361f8713efdd17d455c1f3e958d6205fdaeaf3c70/expr.ipynb\"><img src=\"../361f8713efdd17d455c1f3e958d6205fdaeaf3c70/expr.png\" style=\"display:inline;vertical-align:middle;\" /></a></td></tr>\n",
       "<tr><td>19</td><td>ExprTuple</td><td>22, 32, 24</td><td><a class=\"ProveItLink\" href=\"../a63bb09889aa452e800929b0f57c116cc12f493c0/expr.ipynb\"><img src=\"../a63bb09889aa452e800929b0f57c116cc12f493c0/expr.png\" style=\"display:inline;vertical-align:middle;\" /></a></td></tr>\n",
       "<tr><td>20</td><td>ExprTuple</td><td>22, 23, 24</td><td><a class=\"ProveItLink\" href=\"../5caae0b053c2e61a562ea16cacde765910473a9f0/expr.ipynb\"><img src=\"../5caae0b053c2e61a562ea16cacde765910473a9f0/expr.png\" style=\"display:inline;vertical-align:middle;\" /></a></td></tr>\n",
       "<tr><td>21</td><td>Literal</td><td></td><td><a class=\"ProveItLink\" href=\"../../../../../../numbers/number_sets/natural_numbers/__pv_it/common/8b7c321957f52ed3b05b36af612eeae4fa4783bc0/expr.ipynb\"><img src=\"../../../../../../numbers/number_sets/natural_numbers/__pv_it/common/8b7c321957f52ed3b05b36af612eeae4fa4783bc0/expr.png\" style=\"display:inline;vertical-align:middle;\" /></a></td></tr>\n",
       "<tr><td>22</td><td>ExprRange</td><td>lambda_map:&nbsp;25<br>start_index:&nbsp;36<br>end_index:&nbsp;26<br></td><td><a class=\"ProveItLink\" href=\"../../../../../../core_expr_types/__pv_it/common/88690fe244074d101627de9d933bdb8ba2a87d430/expr.ipynb\"><img src=\"../../../../../../core_expr_types/__pv_it/common/88690fe244074d101627de9d933bdb8ba2a87d430/expr.png\" style=\"display:inline;vertical-align:middle;\" /></a></td></tr>\n",
       "<tr><td>23</td><td>Operation</td><td>operator:&nbsp;27<br>operands:&nbsp;28<br></td><td><a class=\"ProveItLink\" href=\"../812f5b745f2765659fde2a49b5c64e0802eb234e0/expr.ipynb\"><img src=\"../812f5b745f2765659fde2a49b5c64e0802eb234e0/expr.png\" style=\"display:inline;vertical-align:middle;\" /></a></td></tr>\n",
       "<tr><td>24</td><td>ExprRange</td><td>lambda_map:&nbsp;29<br>start_index:&nbsp;36<br>end_index:&nbsp;30<br></td><td><a class=\"ProveItLink\" href=\"../../../../../../core_expr_types/__pv_it/common/e65c5945bd28d04ab16a8cf959c7330e438d17bc0/expr.ipynb\"><img src=\"../../../../../../core_expr_types/__pv_it/common/e65c5945bd28d04ab16a8cf959c7330e438d17bc0/expr.png\" style=\"display:inline;vertical-align:middle;\" /></a></td></tr>\n",
       "<tr><td>25</td><td>Lambda</td><td>parameter:&nbsp;41<br>body:&nbsp;31<br></td><td><a class=\"ProveItLink\" href=\"../../../../../../core_expr_types/__pv_it/common/db87d41146842355e9d6585688749d13269ab0980/expr.ipynb\"><img src=\"../../../../../../core_expr_types/__pv_it/common/db87d41146842355e9d6585688749d13269ab0980/expr.png\" style=\"display:inline;vertical-align:middle;\" /></a></td></tr>\n",
       "<tr><td>26</td><td>Variable</td><td></td><td><a class=\"ProveItLink\" href=\"../../../../../../__pv_it/common/27cc275d44b4f4499fb9ccfb3fab1a98165d2fa60/expr.ipynb\"><img src=\"../../../../../../__pv_it/common/27cc275d44b4f4499fb9ccfb3fab1a98165d2fa60/expr.png\" style=\"display:inline;vertical-align:middle;\" /></a></td></tr>\n",
       "<tr><td>27</td><td>Literal</td><td></td><td><a class=\"ProveItLink\" href=\"../../common/ef8e59262ff8e0133aa1ca984dd6b3a41bf69d5b0/expr.ipynb\"><img src=\"../../common/ef8e59262ff8e0133aa1ca984dd6b3a41bf69d5b0/expr.png\" style=\"display:inline;vertical-align:middle;\" /></a></td></tr>\n",
       "<tr><td>28</td><td>ExprTuple</td><td>32</td><td><a class=\"ProveItLink\" href=\"../ab3902925bb5df284177e4d548506355127d13160/expr.ipynb\"><img src=\"../ab3902925bb5df284177e4d548506355127d13160/expr.png\" style=\"display:inline;vertical-align:middle;\" /></a></td></tr>\n",
       "<tr><td>29</td><td>Lambda</td><td>parameter:&nbsp;41<br>body:&nbsp;33<br></td><td><a class=\"ProveItLink\" href=\"../../../../../../core_expr_types/__pv_it/common/735fd06c5ab0aaa2fbd887b513f592492fdcee940/expr.ipynb\"><img src=\"../../../../../../core_expr_types/__pv_it/common/735fd06c5ab0aaa2fbd887b513f592492fdcee940/expr.png\" style=\"display:inline;vertical-align:middle;\" /></a></td></tr>\n",
       "<tr><td>30</td><td>Variable</td><td></td><td><a class=\"ProveItLink\" href=\"../../../../../../__pv_it/common/8968bb04eb3f7dfa02353397ce929b025bbd79c20/expr.ipynb\"><img src=\"../../../../../../__pv_it/common/8968bb04eb3f7dfa02353397ce929b025bbd79c20/expr.png\" style=\"display:inline;vertical-align:middle;\" /></a></td></tr>\n",
       "<tr><td>31</td><td>IndexedVar</td><td>variable:&nbsp;34<br>index:&nbsp;41<br></td><td><a class=\"ProveItLink\" href=\"../../../../../../core_expr_types/__pv_it/common/65f6ea908cba61c02c46e59c65a80b52e171496d0/expr.ipynb\"><img src=\"../../../../../../core_expr_types/__pv_it/common/65f6ea908cba61c02c46e59c65a80b52e171496d0/expr.png\" style=\"display:inline;vertical-align:middle;\" /></a></td></tr>\n",
       "<tr><td>32</td><td>ExprRange</td><td>lambda_map:&nbsp;35<br>start_index:&nbsp;36<br>end_index:&nbsp;37<br></td><td><a class=\"ProveItLink\" href=\"../../../../../../core_expr_types/__pv_it/common/3e4d82792343c1b5f3c6c6e0400b2769320ff5030/expr.ipynb\"><img src=\"../../../../../../core_expr_types/__pv_it/common/3e4d82792343c1b5f3c6c6e0400b2769320ff5030/expr.png\" style=\"display:inline;vertical-align:middle;\" /></a></td></tr>\n",
       "<tr><td>33</td><td>IndexedVar</td><td>variable:&nbsp;38<br>index:&nbsp;41<br></td><td><a class=\"ProveItLink\" href=\"../../../../../../core_expr_types/__pv_it/common/129e0fbda88d5300ebce8374b884a28c2f22b2730/expr.ipynb\"><img src=\"../../../../../../core_expr_types/__pv_it/common/129e0fbda88d5300ebce8374b884a28c2f22b2730/expr.png\" style=\"display:inline;vertical-align:middle;\" /></a></td></tr>\n",
       "<tr><td>34</td><td>Variable</td><td></td><td><a class=\"ProveItLink\" href=\"../../../../../../__pv_it/common/09585084922504426caf1db2ff588a23a0932a960/expr.ipynb\"><img src=\"../../../../../../__pv_it/common/09585084922504426caf1db2ff588a23a0932a960/expr.png\" style=\"display:inline;vertical-align:middle;\" /></a></td></tr>\n",
       "<tr><td>35</td><td>Lambda</td><td>parameter:&nbsp;41<br>body:&nbsp;39<br></td><td><a class=\"ProveItLink\" href=\"../../../../../../core_expr_types/__pv_it/common/14e537a69156ff3b4cc3e2b46c0bc1595be1915c0/expr.ipynb\"><img src=\"../../../../../../core_expr_types/__pv_it/common/14e537a69156ff3b4cc3e2b46c0bc1595be1915c0/expr.png\" style=\"display:inline;vertical-align:middle;\" /></a></td></tr>\n",
       "<tr><td>36</td><td>Literal</td><td></td><td><a class=\"ProveItLink\" href=\"../../../../../../numbers/numerals/__pv_it/common/2778428c7f555b2bdc06aa0530bc142c6e6335100/expr.ipynb\"><img src=\"../../../../../../numbers/numerals/__pv_it/common/2778428c7f555b2bdc06aa0530bc142c6e6335100/expr.png\" style=\"display:inline;vertical-align:middle;\" /></a></td></tr>\n",
       "<tr><td>37</td><td>Variable</td><td></td><td><a class=\"ProveItLink\" href=\"../../../../../../__pv_it/common/674a03b9c3ca221b3aabd5636837b31528ff33830/expr.ipynb\"><img src=\"../../../../../../__pv_it/common/674a03b9c3ca221b3aabd5636837b31528ff33830/expr.png\" style=\"display:inline;vertical-align:middle;\" /></a></td></tr>\n",
       "<tr><td>38</td><td>Variable</td><td></td><td><a class=\"ProveItLink\" href=\"../../../../../../__pv_it/common/9fba9f29e823606ff4fdf2f1c6d5d08d906e850a0/expr.ipynb\"><img src=\"../../../../../../__pv_it/common/9fba9f29e823606ff4fdf2f1c6d5d08d906e850a0/expr.png\" style=\"display:inline;vertical-align:middle;\" /></a></td></tr>\n",
       "<tr><td>39</td><td>IndexedVar</td><td>variable:&nbsp;40<br>index:&nbsp;41<br></td><td><a class=\"ProveItLink\" href=\"../../../../../../core_expr_types/__pv_it/common/6be519f77f8e35455c857bbd73a9aacbdbee96610/expr.ipynb\"><img src=\"../../../../../../core_expr_types/__pv_it/common/6be519f77f8e35455c857bbd73a9aacbdbee96610/expr.png\" style=\"display:inline;vertical-align:middle;\" /></a></td></tr>\n",
       "<tr><td>40</td><td>Variable</td><td></td><td><a class=\"ProveItLink\" href=\"../../../../../../__pv_it/common/a9162d1c3cc0470c02e5daf414500903a7a419230/expr.ipynb\"><img src=\"../../../../../../__pv_it/common/a9162d1c3cc0470c02e5daf414500903a7a419230/expr.png\" style=\"display:inline;vertical-align:middle;\" /></a></td></tr>\n",
       "<tr><td>41</td><td>Variable</td><td></td><td><a class=\"ProveItLink\" href=\"../../../../../../core_expr_types/__pv_it/common/006c465e50948aa2b52285e2de47974f741255cc0/expr.ipynb\"><img src=\"../../../../../../core_expr_types/__pv_it/common/006c465e50948aa2b52285e2de47974f741255cc0/expr.png\" style=\"display:inline;vertical-align:middle;\" /></a></td></tr>\n",
       "</table>\n"
      ],
      "text/plain": [
       "0. (l, m, n) -> {forall_{A_{1}, ..A_{_a}.., A_{l}, B_{1}, ..B_{_a}.., B_{m}, C_{1}, ..C_{_a}.., C_{n} | A_{1} or ..A_{_a}.. or A_{l} or (B_{1} or ..B_{_a}.. or B_{m}) or C_{1} or ..C_{_a}.. or C_{n}} (A_{1} or ..A_{_a}.. or A_{l} or B_{1} or ..B_{_a}.. or B_{m} or C_{1} or ..C_{_a}.. or C_{n}) if l in Natural ,  m in Natural ,  n in Natural.\n",
       "   core type: Lambda\n",
       "   parameters: 1\\n   body: 2\n",
       "1. (l, m, n)\n",
       "   core type: ExprTuple\n",
       "   sub-expressions: 26, 37, 30\n",
       "2. {forall_{A_{1}, ..A_{_a}.., A_{l}, B_{1}, ..B_{_a}.., B_{m}, C_{1}, ..C_{_a}.., C_{n} | A_{1} or ..A_{_a}.. or A_{l} or (B_{1} or ..B_{_a}.. or B_{m}) or C_{1} or ..C_{_a}.. or C_{n}} (A_{1} or ..A_{_a}.. or A_{l} or B_{1} or ..B_{_a}.. or B_{m} or C_{1} or ..C_{_a}.. or C_{n}) if l in Natural ,  m in Natural ,  n in Natural.\n",
       "   core type: Conditional\n",
       "   value: 3\n",
       "   condition: 4\n",
       "3. forall_{A_{1}, ..A_{_a}.., A_{l}, B_{1}, ..B_{_a}.., B_{m}, C_{1}, ..C_{_a}.., C_{n} | A_{1} or ..A_{_a}.. or A_{l} or (B_{1} or ..B_{_a}.. or B_{m}) or C_{1} or ..C_{_a}.. or C_{n}} (A_{1} or ..A_{_a}.. or A_{l} or B_{1} or ..B_{_a}.. or B_{m} or C_{1} or ..C_{_a}.. or C_{n})\n",
       "   core type: Operation\n",
       "   operator: 5\n",
       "   operand: 6\n",
       "4. (l in Natural) and (m in Natural) and (n in Natural)\n",
       "   core type: Operation\n",
       "   operator: 7\n",
       "   operands: 8\n",
       "5. forall\n",
       "   core type: Literal\n",
       "   sub-expressions: \n",
       "6. (A_{1}, ..A_{_a}.., A_{l}, B_{1}, ..B_{_a}.., B_{m}, C_{1}, ..C_{_a}.., C_{n}) -> {A_{1} or ..A_{_a}.. or A_{l} or B_{1} or ..B_{_a}.. or B_{m} or C_{1} or ..C_{_a}.. or C_{n} if A_{1} or ..A_{_a}.. or A_{l} or (B_{1} or ..B_{_a}.. or B_{m}) or C_{1} or ..C_{_a}.. or C_{n}.\n",
       "   core type: Lambda\n",
       "   parameters: 19\\n   body: 9\n",
       "7. and\n",
       "   core type: Literal\n",
       "   sub-expressions: \n",
       "8. (l in Natural, m in Natural, n in Natural)\n",
       "   core type: ExprTuple\n",
       "   sub-expressions: 10, 11, 12\n",
       "9. {A_{1} or ..A_{_a}.. or A_{l} or B_{1} or ..B_{_a}.. or B_{m} or C_{1} or ..C_{_a}.. or C_{n} if A_{1} or ..A_{_a}.. or A_{l} or (B_{1} or ..B_{_a}.. or B_{m}) or C_{1} or ..C_{_a}.. or C_{n}.\n",
       "   core type: Conditional\n",
       "   value: 13\n",
       "   condition: 14\n",
       "10. l in Natural\n",
       "    core type: Operation\n",
       "    operator: 17\n",
       "    operands: 15\n",
       "11. m in Natural\n",
       "    core type: Operation\n",
       "    operator: 17\n",
       "    operands: 16\n",
       "12. n in Natural\n",
       "    core type: Operation\n",
       "    operator: 17\n",
       "    operands: 18\n",
       "13. A_{1} or ..A_{_a}.. or A_{l} or B_{1} or ..B_{_a}.. or B_{m} or C_{1} or ..C_{_a}.. or C_{n}\n",
       "    core type: Operation\n",
       "    operator: 27\n",
       "    operands: 19\n",
       "14. A_{1} or ..A_{_a}.. or A_{l} or (B_{1} or ..B_{_a}.. or B_{m}) or C_{1} or ..C_{_a}.. or C_{n}\n",
       "    core type: Operation\n",
       "    operator: 27\n",
       "    operands: 20\n",
       "15. (l, Natural)\n",
       "    core type: ExprTuple\n",
       "    sub-expressions: 26, 21\n",
       "16. (m, Natural)\n",
       "    core type: ExprTuple\n",
       "    sub-expressions: 37, 21\n",
       "17. in\n",
       "    core type: Literal\n",
       "    sub-expressions: \n",
       "18. (n, Natural)\n",
       "    core type: ExprTuple\n",
       "    sub-expressions: 30, 21\n",
       "19. (A_{1}, ..A_{_a}.., A_{l}, B_{1}, ..B_{_a}.., B_{m}, C_{1}, ..C_{_a}.., C_{n})\n",
       "    core type: ExprTuple\n",
       "    sub-expressions: 22, 32, 24\n",
       "20. (A_{1}, ..A_{_a}.., A_{l}, B_{1} or ..B_{_a}.. or B_{m}, C_{1}, ..C_{_a}.., C_{n})\n",
       "    core type: ExprTuple\n",
       "    sub-expressions: 22, 23, 24\n",
       "21. Natural\n",
       "    core type: Literal\n",
       "    sub-expressions: \n",
       "22. A_{1}, ..A_{_a}.., A_{l}\n",
       "    core type: ExprRange\n",
       "    lambda_map: 25\n",
       "    start_index: 36\n",
       "    end_index: 26\n",
       "23. B_{1} or ..B_{_a}.. or B_{m}\n",
       "    core type: Operation\n",
       "    operator: 27\n",
       "    operands: 28\n",
       "24. C_{1}, ..C_{_a}.., C_{n}\n",
       "    core type: ExprRange\n",
       "    lambda_map: 29\n",
       "    start_index: 36\n",
       "    end_index: 30\n",
       "25. _a -> A_{_a}\n",
       "    core type: Lambda\n",
       "    parameter: 41\n",
       "    body: 31\n",
       "26. l\n",
       "    core type: Variable\n",
       "    sub-expressions: \n",
       "27. or\n",
       "    core type: Literal\n",
       "    sub-expressions: \n",
       "28. (B_{1}, ..B_{_a}.., B_{m})\n",
       "    core type: ExprTuple\n",
       "    sub-expressions: 32\n",
       "29. _a -> C_{_a}\n",
       "    core type: Lambda\n",
       "    parameter: 41\n",
       "    body: 33\n",
       "30. n\n",
       "    core type: Variable\n",
       "    sub-expressions: \n",
       "31. A_{_a}\n",
       "    core type: IndexedVar\n",
       "variable: 34\n",
       "index: 41\n",
       "32. B_{1}, ..B_{_a}.., B_{m}\n",
       "    core type: ExprRange\n",
       "    lambda_map: 35\n",
       "    start_index: 36\n",
       "    end_index: 37\n",
       "33. C_{_a}\n",
       "    core type: IndexedVar\n",
       "variable: 38\n",
       "index: 41\n",
       "34. A\n",
       "    core type: Variable\n",
       "    sub-expressions: \n",
       "35. _a -> B_{_a}\n",
       "    core type: Lambda\n",
       "    parameter: 41\n",
       "    body: 39\n",
       "36. 1\n",
       "    core type: Literal\n",
       "    sub-expressions: \n",
       "37. m\n",
       "    core type: Variable\n",
       "    sub-expressions: \n",
       "38. C\n",
       "    core type: Variable\n",
       "    sub-expressions: \n",
       "39. B_{_a}\n",
       "    core type: IndexedVar\n",
       "variable: 40\n",
       "index: 41\n",
       "40. B\n",
       "    core type: Variable\n",
       "    sub-expressions: \n",
       "41. _a\n",
       "    core type: Variable\n",
       "    sub-expressions: "
      ]
     },
     "execution_count": 5,
     "metadata": {},
     "output_type": "execute_result"
    }
   ],
   "source": [
    "# display the expression information\n",
    "expr.expr_info()"
   ]
  },
  {
   "cell_type": "code",
   "execution_count": null,
   "metadata": {},
   "outputs": [],
   "source": []
  }
 ],
 "metadata": {
  "kernelspec": {
   "display_name": "Python 3",
   "language": "python",
   "name": "python3"
  }
 },
 "nbformat": 4,
 "nbformat_minor": 0
}