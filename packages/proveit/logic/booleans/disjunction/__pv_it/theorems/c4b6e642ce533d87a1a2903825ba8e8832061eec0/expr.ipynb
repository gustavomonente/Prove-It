{
 "cells": [
  {
   "cell_type": "markdown",
   "metadata": {},
   "source": [
    "Expression of type <a class=\"ProveItLink\" href=\"../../../../../../../../doc/html/api/proveit.Lambda.html\">Lambda</a>\n",
    "=======================\n",
    "# from the theory of <a class=\"ProveItLink\" href=\"../../../_theory_nbs_/theory.ipynb\">proveit.logic.booleans.disjunction</a>"
   ]
  },
  {
   "cell_type": "code",
   "execution_count": 1,
   "metadata": {},
   "outputs": [],
   "source": [
    "import proveit\n",
    "# Automation is not needed when building an expression:\n",
    "proveit.defaults.automation = False # This will speed things up.\n",
    "proveit.defaults.inline_pngs = False # Makes files smaller.\n",
    "%load_expr # Load the stored expression as 'stored_expr'\n",
    "# import Expression classes needed to build the expression\n",
    "from proveit import A, B, IndexedVar, Lambda, i\n",
    "from proveit.logic import Implies"
   ]
  },
  {
   "cell_type": "code",
   "execution_count": 2,
   "metadata": {},
   "outputs": [
    {
     "data": {
      "text/html": [
       "<strong id=\"expr\">expr:</strong> <a class=\"ProveItLink\" href=\"expr.ipynb\"><img src=\"expr.png\" style=\"display:inline;vertical-align:middle;\" /></a><br>"
      ],
      "text/plain": [
       "expr: i -> (A_{i} => B_{i})"
      ]
     },
     "execution_count": 2,
     "metadata": {},
     "output_type": "execute_result"
    }
   ],
   "source": [
    "# build up the expression from sub-expressions\n",
    "expr = Lambda(i, Implies(IndexedVar(A, i), IndexedVar(B, i)))"
   ]
  },
  {
   "cell_type": "code",
   "execution_count": 3,
   "metadata": {},
   "outputs": [
    {
     "name": "stdout",
     "output_type": "stream",
     "text": [
      "Passed sanity check: expr matches stored_expr\n"
     ]
    }
   ],
   "source": [
    "# check that the built expression is the same as the stored expression\n",
    "assert expr == stored_expr\n",
    "assert expr._style_id == stored_expr._style_id\n",
    "print(\"Passed sanity check: expr matches stored_expr\")"
   ]
  },
  {
   "cell_type": "code",
   "execution_count": 4,
   "metadata": {},
   "outputs": [
    {
     "name": "stdout",
     "output_type": "stream",
     "text": [
      "i \\mapsto \\left(A_{i} \\Rightarrow B_{i}\\right)\n"
     ]
    }
   ],
   "source": [
    "# Show the LaTeX representation of the expression for convenience if you need it.\n",
    "print(expr.latex())"
   ]
  },
  {
   "cell_type": "code",
   "execution_count": 5,
   "metadata": {},
   "outputs": [
    {
     "data": {
      "text/html": [
       "no style options"
      ],
      "text/plain": [
       "no style options"
      ]
     },
     "execution_count": 5,
     "metadata": {},
     "output_type": "execute_result"
    }
   ],
   "source": [
    "expr.style_options()"
   ]
  },
  {
   "cell_type": "code",
   "execution_count": 6,
   "metadata": {},
   "outputs": [
    {
     "data": {
      "text/html": [
       "<table><tr><th>&nbsp;</th><th>core type</th><th>sub-expressions</th><th>expression</th></tr>\n",
       "<tr><td>0</td><td>Lambda</td><td>parameter:&nbsp;9<br>body:&nbsp;1<br></td><td><a class=\"ProveItLink\" href=\"expr.ipynb\"><img src=\"expr.png\" style=\"display:inline;vertical-align:middle;\" /></a></td></tr>\n",
       "<tr><td>1</td><td>Operation</td><td>operator:&nbsp;2<br>operands:&nbsp;3<br></td><td><a class=\"ProveItLink\" href=\"../b7e714bf67312b16cac7d7a989ae0bb5b21cfcb50/expr.ipynb\"><img src=\"../b7e714bf67312b16cac7d7a989ae0bb5b21cfcb50/expr.png\" style=\"display:inline;vertical-align:middle;\" /></a></td></tr>\n",
       "<tr><td>2</td><td>Literal</td><td></td><td><a class=\"ProveItLink\" href=\"../../../../implication/__pv_it/common/95a8cc69d34af52c7732e4a6fefbd5b63e8d31ba0/expr.ipynb\"><img src=\"../../../../implication/__pv_it/common/95a8cc69d34af52c7732e4a6fefbd5b63e8d31ba0/expr.png\" style=\"display:inline;vertical-align:middle;\" /></a></td></tr>\n",
       "<tr><td>3</td><td>ExprTuple</td><td>4, 5</td><td><a class=\"ProveItLink\" href=\"../79f93ceeaaa688009701521b05007052cb225b400/expr.ipynb\"><img src=\"../79f93ceeaaa688009701521b05007052cb225b400/expr.png\" style=\"display:inline;vertical-align:middle;\" /></a></td></tr>\n",
       "<tr><td>4</td><td>IndexedVar</td><td>variable:&nbsp;6<br>index:&nbsp;9<br></td><td><a class=\"ProveItLink\" href=\"../8944fa99962c4fa65f005c3e1a1975d4210055e80/expr.ipynb\"><img src=\"../8944fa99962c4fa65f005c3e1a1975d4210055e80/expr.png\" style=\"display:inline;vertical-align:middle;\" /></a></td></tr>\n",
       "<tr><td>5</td><td>IndexedVar</td><td>variable:&nbsp;7<br>index:&nbsp;9<br></td><td><a class=\"ProveItLink\" href=\"../146a063dd1fc4d019c860952a873954c89c38a120/expr.ipynb\"><img src=\"../146a063dd1fc4d019c860952a873954c89c38a120/expr.png\" style=\"display:inline;vertical-align:middle;\" /></a></td></tr>\n",
       "<tr><td>6</td><td>Variable</td><td></td><td><a class=\"ProveItLink\" href=\"../../../../../../__pv_it/common/e4aad701f7f5516d8e7f0d805d518bf02c13322a0/expr.ipynb\"><img src=\"../../../../../../__pv_it/common/e4aad701f7f5516d8e7f0d805d518bf02c13322a0/expr.png\" style=\"display:inline;vertical-align:middle;\" /></a></td></tr>\n",
       "<tr><td>7</td><td>Variable</td><td></td><td><a class=\"ProveItLink\" href=\"../../../../../../__pv_it/common/4eca3b30dcf58a58494e201d1b7886d8643a617b0/expr.ipynb\"><img src=\"../../../../../../__pv_it/common/4eca3b30dcf58a58494e201d1b7886d8643a617b0/expr.png\" style=\"display:inline;vertical-align:middle;\" /></a></td></tr>\n",
       "<tr><td>8</td><td>ExprTuple</td><td>9</td><td><a class=\"ProveItLink\" href=\"../6420c4d2520c27c1137ad22005291620057456040/expr.ipynb\"><img src=\"../6420c4d2520c27c1137ad22005291620057456040/expr.png\" style=\"display:inline;vertical-align:middle;\" /></a></td></tr>\n",
       "<tr><td>9</td><td>Variable</td><td></td><td><a class=\"ProveItLink\" href=\"../../../../../../__pv_it/common/575a6156bb1c87c5beeaf38c302b5905ad57f5780/expr.ipynb\"><img src=\"../../../../../../__pv_it/common/575a6156bb1c87c5beeaf38c302b5905ad57f5780/expr.png\" style=\"display:inline;vertical-align:middle;\" /></a></td></tr>\n",
       "</table>\n"
      ],
      "text/plain": [
       "0. i -> (A_{i} => B_{i})\n",
       "   core type: Lambda\n",
       "   parameter: 9\n",
       "   body: 1\n",
       "1. A_{i} => B_{i}\n",
       "   core type: Operation\n",
       "   operator: 2\n",
       "   operands: 3\n",
       "2. =>\n",
       "   core type: Literal\n",
       "   sub-expressions: \n",
       "3. (A_{i}, B_{i})\n",
       "   core type: ExprTuple\n",
       "   sub-expressions: 4, 5\n",
       "4. A_{i}\n",
       "   core type: IndexedVar\n",
       "variable: 6\n",
       "index: 9\n",
       "5. B_{i}\n",
       "   core type: IndexedVar\n",
       "variable: 7\n",
       "index: 9\n",
       "6. A\n",
       "   core type: Variable\n",
       "   sub-expressions: \n",
       "7. B\n",
       "   core type: Variable\n",
       "   sub-expressions: \n",
       "8. (i)\n",
       "   core type: ExprTuple\n",
       "   sub-expressions: 9\n",
       "9. i\n",
       "   core type: Variable\n",
       "   sub-expressions: "
      ]
     },
     "execution_count": 6,
     "metadata": {},
     "output_type": "execute_result"
    }
   ],
   "source": [
    "# display the expression information\n",
    "expr.expr_info()"
   ]
  },
  {
   "cell_type": "code",
   "execution_count": null,
   "metadata": {},
   "outputs": [],
   "source": []
  }
 ],
 "metadata": {
  "kernelspec": {
   "display_name": "Python 3",
   "language": "python",
   "name": "python3"
  }
 },
 "nbformat": 4,
 "nbformat_minor": 0
}