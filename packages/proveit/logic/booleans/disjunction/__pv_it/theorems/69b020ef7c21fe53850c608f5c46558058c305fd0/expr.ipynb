{
 "cells": [
  {
   "cell_type": "markdown",
   "metadata": {},
   "source": [
    "Expression of type <a class=\"ProveItLink\" href=\"../../../../../../../../doc/html/api/proveit.Lambda.html\">Lambda</a>\n",
    "=======================\n",
    "# from the theory of <a class=\"ProveItLink\" href=\"../../../_theory_nbs_/theory.ipynb\">proveit.logic.booleans.disjunction</a>"
   ]
  },
  {
   "cell_type": "code",
   "execution_count": 1,
   "metadata": {},
   "outputs": [],
   "source": [
    "import proveit\n",
    "# Automation is not needed when building an expression:\n",
    "proveit.defaults.automation = False # This will speed things up.\n",
    "proveit.defaults.inline_pngs = False # Makes files smaller.\n",
    "%load_expr # Load the stored expression as 'stored_expr'\n",
    "# import Expression classes needed to build the expression\n",
    "from proveit import A, B, Conditional, ExprRange, IndexedVar, Lambda, i, m\n",
    "from proveit.core_expr_types import A_1_to_m, B_1_to_m\n",
    "from proveit.logic import Boolean, Forall, Implies, InSet, Or\n",
    "from proveit.numbers import Natural, one"
   ]
  },
  {
   "cell_type": "code",
   "execution_count": 2,
   "metadata": {},
   "outputs": [
    {
     "data": {
      "text/html": [
       "<strong id=\"expr\">expr:</strong> <a class=\"ProveItLink\" href=\"expr.ipynb\"><img src=\"expr.png\" style=\"display:inline;vertical-align:middle;\" /></a><br>"
      ],
      "text/plain": [
       "expr: m -> {forall_{A_{1}, ..A_{_a}.., A_{m}, B_{1}, ..B_{_a}.., B_{m} in BOOLEAN | A_{1} or ..A_{_a}.. or A_{m}, A_{1} => B_{1}, ..A_{i} => B_{i}.., A_{m} => B_{m}} (B_{1} or ..B_{_a}.. or B_{m}) if m in Natural."
      ]
     },
     "execution_count": 2,
     "metadata": {},
     "output_type": "execute_result"
    }
   ],
   "source": [
    "# build up the expression from sub-expressions\n",
    "expr = Lambda(m, Conditional(Forall([A_1_to_m, B_1_to_m], Or(B_1_to_m), domains = [Boolean, Boolean], conditions = [Or(A_1_to_m), ExprRange(i, Implies(IndexedVar(A, i), IndexedVar(B, i)), one, m)]), InSet(m, Natural)))"
   ]
  },
  {
   "cell_type": "code",
   "execution_count": 3,
   "metadata": {},
   "outputs": [
    {
     "name": "stdout",
     "output_type": "stream",
     "text": [
      "Passed sanity check: expr matches stored_expr\n"
     ]
    }
   ],
   "source": [
    "# check that the built expression is the same as the stored expression\n",
    "assert expr == stored_expr\n",
    "assert expr._style_id == stored_expr._style_id\n",
    "print(\"Passed sanity check: expr matches stored_expr\")"
   ]
  },
  {
   "cell_type": "code",
   "execution_count": 4,
   "metadata": {},
   "outputs": [
    {
     "name": "stdout",
     "output_type": "stream",
     "text": [
      "m \\mapsto \\left\\{\\forall_{A_{1}, \\ldots, A_{m}, B_{1}, \\ldots, B_{m} \\in \\mathbb{B}~|~A_{1} \\lor \\ldots \\lor A_{m}, A_{1} \\Rightarrow B_{1}, \\ldots, A_{m} \\Rightarrow B_{m}}~\\left(B_{1} \\lor \\ldots \\lor B_{m}\\right) \\textrm{ if } m \\in \\mathbb{N}\\right..\n"
     ]
    }
   ],
   "source": [
    "# Show the LaTeX representation of the expression for convenience if you need it.\n",
    "print(expr.latex())"
   ]
  },
  {
   "cell_type": "code",
   "execution_count": 5,
   "metadata": {},
   "outputs": [
    {
     "data": {
      "text/html": [
       "no style options"
      ],
      "text/plain": [
       "no style options"
      ]
     },
     "execution_count": 5,
     "metadata": {},
     "output_type": "execute_result"
    }
   ],
   "source": [
    "expr.style_options()"
   ]
  },
  {
   "cell_type": "code",
   "execution_count": 6,
   "metadata": {},
   "outputs": [
    {
     "data": {
      "text/html": [
       "<table><tr><th>&nbsp;</th><th>core type</th><th>sub-expressions</th><th>expression</th></tr>\n",
       "<tr><td>0</td><td>Lambda</td><td>parameter:&nbsp;36<br>body:&nbsp;1<br></td><td><a class=\"ProveItLink\" href=\"expr.ipynb\"><img src=\"expr.png\" style=\"display:inline;vertical-align:middle;\" /></a></td></tr>\n",
       "<tr><td>1</td><td>Conditional</td><td>value:&nbsp;2<br>condition:&nbsp;3<br></td><td><a class=\"ProveItLink\" href=\"../4e8829540d130862c3b0240c79685a6d5a9894690/expr.ipynb\"><img src=\"../4e8829540d130862c3b0240c79685a6d5a9894690/expr.png\" style=\"display:inline;vertical-align:middle;\" /></a></td></tr>\n",
       "<tr><td>2</td><td>Operation</td><td>operator:&nbsp;4<br>operand:&nbsp;7<br></td><td><a class=\"ProveItLink\" href=\"../edce9ec455b551e447e1dfccaf8073db5f5aee990/expr.ipynb\"><img src=\"../edce9ec455b551e447e1dfccaf8073db5f5aee990/expr.png\" style=\"display:inline;vertical-align:middle;\" /></a></td></tr>\n",
       "<tr><td>3</td><td>Operation</td><td>operator:&nbsp;32<br>operands:&nbsp;6<br></td><td><a class=\"ProveItLink\" href=\"../3287be28b2126783aeddb65edbf04637df184bd00/expr.ipynb\"><img src=\"../3287be28b2126783aeddb65edbf04637df184bd00/expr.png\" style=\"display:inline;vertical-align:middle;\" /></a></td></tr>\n",
       "<tr><td>4</td><td>Literal</td><td></td><td><a class=\"ProveItLink\" href=\"../../../../quantification/universality/__pv_it/common/684d35ba98fcbf8ca5011f865e530a51e77730630/expr.ipynb\"><img src=\"../../../../quantification/universality/__pv_it/common/684d35ba98fcbf8ca5011f865e530a51e77730630/expr.png\" style=\"display:inline;vertical-align:middle;\" /></a></td></tr>\n",
       "<tr><td>5</td><td>ExprTuple</td><td>7</td><td><a class=\"ProveItLink\" href=\"../f791e84aa7afcbc3446d7911472ed735a2f5b73c0/expr.ipynb\"><img src=\"../f791e84aa7afcbc3446d7911472ed735a2f5b73c0/expr.png\" style=\"display:inline;vertical-align:middle;\" /></a></td></tr>\n",
       "<tr><td>6</td><td>ExprTuple</td><td>36, 8</td><td><a class=\"ProveItLink\" href=\"../04159094d330187d96682e7798bfbb21b0aae5810/expr.ipynb\"><img src=\"../04159094d330187d96682e7798bfbb21b0aae5810/expr.png\" style=\"display:inline;vertical-align:middle;\" /></a></td></tr>\n",
       "<tr><td>7</td><td>Lambda</td><td>parameters:&nbsp;9<br>body:&nbsp;10<br></td><td><a class=\"ProveItLink\" href=\"../35f37ae9c4ee97c35af76f22ef0fa286bf8131290/expr.ipynb\"><img src=\"../35f37ae9c4ee97c35af76f22ef0fa286bf8131290/expr.png\" style=\"display:inline;vertical-align:middle;\" /></a></td></tr>\n",
       "<tr><td>8</td><td>Literal</td><td></td><td><a class=\"ProveItLink\" href=\"../../../../../../numbers/number_sets/natural_numbers/__pv_it/common/85c8b43c90a7392ebb5459360d343dfa7c7408b50/expr.ipynb\"><img src=\"../../../../../../numbers/number_sets/natural_numbers/__pv_it/common/85c8b43c90a7392ebb5459360d343dfa7c7408b50/expr.png\" style=\"display:inline;vertical-align:middle;\" /></a></td></tr>\n",
       "<tr><td>9</td><td>ExprTuple</td><td>29, 16</td><td><a class=\"ProveItLink\" href=\"../3090d5e48049cc96412ebec2911e04e531e195bd0/expr.ipynb\"><img src=\"../3090d5e48049cc96412ebec2911e04e531e195bd0/expr.png\" style=\"display:inline;vertical-align:middle;\" /></a></td></tr>\n",
       "<tr><td>10</td><td>Conditional</td><td>value:&nbsp;11<br>condition:&nbsp;12<br></td><td><a class=\"ProveItLink\" href=\"../b8d1c0628f5cfaa7dc16ced10f01ffd05384cce10/expr.ipynb\"><img src=\"../b8d1c0628f5cfaa7dc16ced10f01ffd05384cce10/expr.png\" style=\"display:inline;vertical-align:middle;\" /></a></td></tr>\n",
       "<tr><td>11</td><td>Operation</td><td>operator:&nbsp;24<br>operands:&nbsp;13<br></td><td><a class=\"ProveItLink\" href=\"../30e59b809d2e1f1cf05fd1340f44e5ebebf4ba5f0/expr.ipynb\"><img src=\"../30e59b809d2e1f1cf05fd1340f44e5ebebf4ba5f0/expr.png\" style=\"display:inline;vertical-align:middle;\" /></a></td></tr>\n",
       "<tr><td>12</td><td>Operation</td><td>operator:&nbsp;14<br>operands:&nbsp;15<br></td><td><a class=\"ProveItLink\" href=\"../4ffc38a6ce3202dbcabf252d61147fd239b114340/expr.ipynb\"><img src=\"../4ffc38a6ce3202dbcabf252d61147fd239b114340/expr.png\" style=\"display:inline;vertical-align:middle;\" /></a></td></tr>\n",
       "<tr><td>13</td><td>ExprTuple</td><td>16</td><td><a class=\"ProveItLink\" href=\"../398340f8687c69ab96a81b00de48d59643f6c7f60/expr.ipynb\"><img src=\"../398340f8687c69ab96a81b00de48d59643f6c7f60/expr.png\" style=\"display:inline;vertical-align:middle;\" /></a></td></tr>\n",
       "<tr><td>14</td><td>Literal</td><td></td><td><a class=\"ProveItLink\" href=\"../../../../conjunction/__pv_it/common/26b94b53e70b1d77b70f0d9d4236347db37731060/expr.ipynb\"><img src=\"../../../../conjunction/__pv_it/common/26b94b53e70b1d77b70f0d9d4236347db37731060/expr.png\" style=\"display:inline;vertical-align:middle;\" /></a></td></tr>\n",
       "<tr><td>15</td><td>ExprTuple</td><td>17, 18, 19, 20</td><td><a class=\"ProveItLink\" href=\"../e6b6021e4dfd40f284c23336e994e39e4dff44a50/expr.ipynb\"><img src=\"../e6b6021e4dfd40f284c23336e994e39e4dff44a50/expr.png\" style=\"display:inline;vertical-align:middle;\" /></a></td></tr>\n",
       "<tr><td>16</td><td>ExprRange</td><td>lambda_map:&nbsp;21<br>start_index:&nbsp;35<br>end_index:&nbsp;36<br></td><td><a class=\"ProveItLink\" href=\"../../../../../../core_expr_types/__pv_it/common/4c9bca4d56fb4cb84c4e790e95e569e3667263f10/expr.ipynb\"><img src=\"../../../../../../core_expr_types/__pv_it/common/4c9bca4d56fb4cb84c4e790e95e569e3667263f10/expr.png\" style=\"display:inline;vertical-align:middle;\" /></a></td></tr>\n",
       "<tr><td>17</td><td>ExprRange</td><td>lambda_map:&nbsp;22<br>start_index:&nbsp;35<br>end_index:&nbsp;36<br></td><td><a class=\"ProveItLink\" href=\"../a2ed50698ae74baa7cb32a2f1b6caecd6da22a010/expr.ipynb\"><img src=\"../a2ed50698ae74baa7cb32a2f1b6caecd6da22a010/expr.png\" style=\"display:inline;vertical-align:middle;\" /></a></td></tr>\n",
       "<tr><td>18</td><td>ExprRange</td><td>lambda_map:&nbsp;23<br>start_index:&nbsp;35<br>end_index:&nbsp;36<br></td><td><a class=\"ProveItLink\" href=\"../3a06db1652d241259c5cd847e2a6e39bfc8bb06e0/expr.ipynb\"><img src=\"../3a06db1652d241259c5cd847e2a6e39bfc8bb06e0/expr.png\" style=\"display:inline;vertical-align:middle;\" /></a></td></tr>\n",
       "<tr><td>19</td><td>Operation</td><td>operator:&nbsp;24<br>operands:&nbsp;25<br></td><td><a class=\"ProveItLink\" href=\"../efbd6a9037ae8f5d6d0d5bf6ad515f688f55b5ff0/expr.ipynb\"><img src=\"../efbd6a9037ae8f5d6d0d5bf6ad515f688f55b5ff0/expr.png\" style=\"display:inline;vertical-align:middle;\" /></a></td></tr>\n",
       "<tr><td>20</td><td>ExprRange</td><td>lambda_map:&nbsp;26<br>start_index:&nbsp;35<br>end_index:&nbsp;36<br></td><td><a class=\"ProveItLink\" href=\"../de824962d8caa616b4d7b740cc187726a791d0480/expr.ipynb\"><img src=\"../de824962d8caa616b4d7b740cc187726a791d0480/expr.png\" style=\"display:inline;vertical-align:middle;\" /></a></td></tr>\n",
       "<tr><td>21</td><td>Lambda</td><td>parameter:&nbsp;48<br>body:&nbsp;39<br></td><td><a class=\"ProveItLink\" href=\"../../../../../../core_expr_types/__pv_it/common/02c8c006a9ec368154b7bff99c95899c5fb743200/expr.ipynb\"><img src=\"../../../../../../core_expr_types/__pv_it/common/02c8c006a9ec368154b7bff99c95899c5fb743200/expr.png\" style=\"display:inline;vertical-align:middle;\" /></a></td></tr>\n",
       "<tr><td>22</td><td>Lambda</td><td>parameter:&nbsp;48<br>body:&nbsp;27<br></td><td><a class=\"ProveItLink\" href=\"../57ad99e7c548004330720c8120fe2f3f488dfd7b0/expr.ipynb\"><img src=\"../57ad99e7c548004330720c8120fe2f3f488dfd7b0/expr.png\" style=\"display:inline;vertical-align:middle;\" /></a></td></tr>\n",
       "<tr><td>23</td><td>Lambda</td><td>parameter:&nbsp;48<br>body:&nbsp;28<br></td><td><a class=\"ProveItLink\" href=\"../4c1cf5ed1b6aedd1b1fb9b5b873b1f819f8be3800/expr.ipynb\"><img src=\"../4c1cf5ed1b6aedd1b1fb9b5b873b1f819f8be3800/expr.png\" style=\"display:inline;vertical-align:middle;\" /></a></td></tr>\n",
       "<tr><td>24</td><td>Literal</td><td></td><td><a class=\"ProveItLink\" href=\"../../common/0e5dcae3232d8ebdc0777b8ce92ce453a450f6c30/expr.ipynb\"><img src=\"../../common/0e5dcae3232d8ebdc0777b8ce92ce453a450f6c30/expr.png\" style=\"display:inline;vertical-align:middle;\" /></a></td></tr>\n",
       "<tr><td>25</td><td>ExprTuple</td><td>29</td><td><a class=\"ProveItLink\" href=\"../0a65ec265686482133d742d4363a8cf4d6c35e350/expr.ipynb\"><img src=\"../0a65ec265686482133d742d4363a8cf4d6c35e350/expr.png\" style=\"display:inline;vertical-align:middle;\" /></a></td></tr>\n",
       "<tr><td>26</td><td>Lambda</td><td>parameter:&nbsp;49<br>body:&nbsp;30<br></td><td><a class=\"ProveItLink\" href=\"../c4b6e642ce533d87a1a2903825ba8e8832061eec0/expr.ipynb\"><img src=\"../c4b6e642ce533d87a1a2903825ba8e8832061eec0/expr.png\" style=\"display:inline;vertical-align:middle;\" /></a></td></tr>\n",
       "<tr><td>27</td><td>Operation</td><td>operator:&nbsp;32<br>operands:&nbsp;31<br></td><td><a class=\"ProveItLink\" href=\"../55edfe981d91e57d14ee559c772a50bf666d0ed20/expr.ipynb\"><img src=\"../55edfe981d91e57d14ee559c772a50bf666d0ed20/expr.png\" style=\"display:inline;vertical-align:middle;\" /></a></td></tr>\n",
       "<tr><td>28</td><td>Operation</td><td>operator:&nbsp;32<br>operands:&nbsp;33<br></td><td><a class=\"ProveItLink\" href=\"../71e968e00fe008f01ab572c1ddf1b9244cd16b850/expr.ipynb\"><img src=\"../71e968e00fe008f01ab572c1ddf1b9244cd16b850/expr.png\" style=\"display:inline;vertical-align:middle;\" /></a></td></tr>\n",
       "<tr><td>29</td><td>ExprRange</td><td>lambda_map:&nbsp;34<br>start_index:&nbsp;35<br>end_index:&nbsp;36<br></td><td><a class=\"ProveItLink\" href=\"../../../../../../core_expr_types/__pv_it/common/30c3e05d1ed167fcc220828c60f35ec81c3feb3f0/expr.ipynb\"><img src=\"../../../../../../core_expr_types/__pv_it/common/30c3e05d1ed167fcc220828c60f35ec81c3feb3f0/expr.png\" style=\"display:inline;vertical-align:middle;\" /></a></td></tr>\n",
       "<tr><td>30</td><td>Operation</td><td>operator:&nbsp;37<br>operands:&nbsp;38<br></td><td><a class=\"ProveItLink\" href=\"../b7e714bf67312b16cac7d7a989ae0bb5b21cfcb50/expr.ipynb\"><img src=\"../b7e714bf67312b16cac7d7a989ae0bb5b21cfcb50/expr.png\" style=\"display:inline;vertical-align:middle;\" /></a></td></tr>\n",
       "<tr><td>31</td><td>ExprTuple</td><td>41, 40</td><td><a class=\"ProveItLink\" href=\"../0abcd98583fac5283d1d91942b1fa1206b700a840/expr.ipynb\"><img src=\"../0abcd98583fac5283d1d91942b1fa1206b700a840/expr.png\" style=\"display:inline;vertical-align:middle;\" /></a></td></tr>\n",
       "<tr><td>32</td><td>Literal</td><td></td><td><a class=\"ProveItLink\" href=\"../../../../../sets/membership/__pv_it/common/7171deca84f71f47a6ec7696972d1632274a12880/expr.ipynb\"><img src=\"../../../../../sets/membership/__pv_it/common/7171deca84f71f47a6ec7696972d1632274a12880/expr.png\" style=\"display:inline;vertical-align:middle;\" /></a></td></tr>\n",
       "<tr><td>33</td><td>ExprTuple</td><td>39, 40</td><td><a class=\"ProveItLink\" href=\"../20ec04de41c62c0e23c2a14dc31b809126587ad10/expr.ipynb\"><img src=\"../20ec04de41c62c0e23c2a14dc31b809126587ad10/expr.png\" style=\"display:inline;vertical-align:middle;\" /></a></td></tr>\n",
       "<tr><td>34</td><td>Lambda</td><td>parameter:&nbsp;48<br>body:&nbsp;41<br></td><td><a class=\"ProveItLink\" href=\"../../../../../../core_expr_types/__pv_it/common/7cb3671e4363a47742a54e63b73ddf8e8fe2c9390/expr.ipynb\"><img src=\"../../../../../../core_expr_types/__pv_it/common/7cb3671e4363a47742a54e63b73ddf8e8fe2c9390/expr.png\" style=\"display:inline;vertical-align:middle;\" /></a></td></tr>\n",
       "<tr><td>35</td><td>Literal</td><td></td><td><a class=\"ProveItLink\" href=\"../../../../../../numbers/numerals/__pv_it/common/d278e359da0695d9652dd541d45264f93703e2e40/expr.ipynb\"><img src=\"../../../../../../numbers/numerals/__pv_it/common/d278e359da0695d9652dd541d45264f93703e2e40/expr.png\" style=\"display:inline;vertical-align:middle;\" /></a></td></tr>\n",
       "<tr><td>36</td><td>Variable</td><td></td><td><a class=\"ProveItLink\" href=\"../../../../../../__pv_it/common/2dc4f15b3407a25e8d70754a86bf74f1871f92650/expr.ipynb\"><img src=\"../../../../../../__pv_it/common/2dc4f15b3407a25e8d70754a86bf74f1871f92650/expr.png\" style=\"display:inline;vertical-align:middle;\" /></a></td></tr>\n",
       "<tr><td>37</td><td>Literal</td><td></td><td><a class=\"ProveItLink\" href=\"../../../../implication/__pv_it/common/95a8cc69d34af52c7732e4a6fefbd5b63e8d31ba0/expr.ipynb\"><img src=\"../../../../implication/__pv_it/common/95a8cc69d34af52c7732e4a6fefbd5b63e8d31ba0/expr.png\" style=\"display:inline;vertical-align:middle;\" /></a></td></tr>\n",
       "<tr><td>38</td><td>ExprTuple</td><td>42, 43</td><td><a class=\"ProveItLink\" href=\"../79f93ceeaaa688009701521b05007052cb225b400/expr.ipynb\"><img src=\"../79f93ceeaaa688009701521b05007052cb225b400/expr.png\" style=\"display:inline;vertical-align:middle;\" /></a></td></tr>\n",
       "<tr><td>39</td><td>IndexedVar</td><td>variable:&nbsp;46<br>index:&nbsp;48<br></td><td><a class=\"ProveItLink\" href=\"../../../../../../core_expr_types/__pv_it/common/ea3ee9a0627bf44c889015ae8c7679796d32e3c60/expr.ipynb\"><img src=\"../../../../../../core_expr_types/__pv_it/common/ea3ee9a0627bf44c889015ae8c7679796d32e3c60/expr.png\" style=\"display:inline;vertical-align:middle;\" /></a></td></tr>\n",
       "<tr><td>40</td><td>Literal</td><td></td><td><a class=\"ProveItLink\" href=\"../../../../__pv_it/common/8fc291135425020cce4ba1ad615843f54f1fc6600/expr.ipynb\"><img src=\"../../../../__pv_it/common/8fc291135425020cce4ba1ad615843f54f1fc6600/expr.png\" style=\"display:inline;vertical-align:middle;\" /></a></td></tr>\n",
       "<tr><td>41</td><td>IndexedVar</td><td>variable:&nbsp;45<br>index:&nbsp;48<br></td><td><a class=\"ProveItLink\" href=\"../../../../../../core_expr_types/__pv_it/common/44c047560b26e24c2a9af7e0d00ef8bc5e74e7580/expr.ipynb\"><img src=\"../../../../../../core_expr_types/__pv_it/common/44c047560b26e24c2a9af7e0d00ef8bc5e74e7580/expr.png\" style=\"display:inline;vertical-align:middle;\" /></a></td></tr>\n",
       "<tr><td>42</td><td>IndexedVar</td><td>variable:&nbsp;45<br>index:&nbsp;49<br></td><td><a class=\"ProveItLink\" href=\"../8944fa99962c4fa65f005c3e1a1975d4210055e80/expr.ipynb\"><img src=\"../8944fa99962c4fa65f005c3e1a1975d4210055e80/expr.png\" style=\"display:inline;vertical-align:middle;\" /></a></td></tr>\n",
       "<tr><td>43</td><td>IndexedVar</td><td>variable:&nbsp;46<br>index:&nbsp;49<br></td><td><a class=\"ProveItLink\" href=\"../146a063dd1fc4d019c860952a873954c89c38a120/expr.ipynb\"><img src=\"../146a063dd1fc4d019c860952a873954c89c38a120/expr.png\" style=\"display:inline;vertical-align:middle;\" /></a></td></tr>\n",
       "<tr><td>44</td><td>ExprTuple</td><td>48</td><td><a class=\"ProveItLink\" href=\"../../../../../../core_expr_types/__pv_it/common/ecf50ade416ab41c42c9f4e777b4c862cd9469670/expr.ipynb\"><img src=\"../../../../../../core_expr_types/__pv_it/common/ecf50ade416ab41c42c9f4e777b4c862cd9469670/expr.png\" style=\"display:inline;vertical-align:middle;\" /></a></td></tr>\n",
       "<tr><td>45</td><td>Variable</td><td></td><td><a class=\"ProveItLink\" href=\"../../../../../../__pv_it/common/e4aad701f7f5516d8e7f0d805d518bf02c13322a0/expr.ipynb\"><img src=\"../../../../../../__pv_it/common/e4aad701f7f5516d8e7f0d805d518bf02c13322a0/expr.png\" style=\"display:inline;vertical-align:middle;\" /></a></td></tr>\n",
       "<tr><td>46</td><td>Variable</td><td></td><td><a class=\"ProveItLink\" href=\"../../../../../../__pv_it/common/4eca3b30dcf58a58494e201d1b7886d8643a617b0/expr.ipynb\"><img src=\"../../../../../../__pv_it/common/4eca3b30dcf58a58494e201d1b7886d8643a617b0/expr.png\" style=\"display:inline;vertical-align:middle;\" /></a></td></tr>\n",
       "<tr><td>47</td><td>ExprTuple</td><td>49</td><td><a class=\"ProveItLink\" href=\"../6420c4d2520c27c1137ad22005291620057456040/expr.ipynb\"><img src=\"../6420c4d2520c27c1137ad22005291620057456040/expr.png\" style=\"display:inline;vertical-align:middle;\" /></a></td></tr>\n",
       "<tr><td>48</td><td>Variable</td><td></td><td><a class=\"ProveItLink\" href=\"../../../../../../core_expr_types/__pv_it/common/9e6d9d5d7eeb0342cf5bca68def0eb165a1a9bb10/expr.ipynb\"><img src=\"../../../../../../core_expr_types/__pv_it/common/9e6d9d5d7eeb0342cf5bca68def0eb165a1a9bb10/expr.png\" style=\"display:inline;vertical-align:middle;\" /></a></td></tr>\n",
       "<tr><td>49</td><td>Variable</td><td></td><td><a class=\"ProveItLink\" href=\"../../../../../../__pv_it/common/575a6156bb1c87c5beeaf38c302b5905ad57f5780/expr.ipynb\"><img src=\"../../../../../../__pv_it/common/575a6156bb1c87c5beeaf38c302b5905ad57f5780/expr.png\" style=\"display:inline;vertical-align:middle;\" /></a></td></tr>\n",
       "</table>\n"
      ],
      "text/plain": [
       "0. m -> {forall_{A_{1}, ..A_{_a}.., A_{m}, B_{1}, ..B_{_a}.., B_{m} in BOOLEAN | A_{1} or ..A_{_a}.. or A_{m}, A_{1} => B_{1}, ..A_{i} => B_{i}.., A_{m} => B_{m}} (B_{1} or ..B_{_a}.. or B_{m}) if m in Natural.\n",
       "   core type: Lambda\n",
       "   parameter: 36\n",
       "   body: 1\n",
       "1. {forall_{A_{1}, ..A_{_a}.., A_{m}, B_{1}, ..B_{_a}.., B_{m} in BOOLEAN | A_{1} or ..A_{_a}.. or A_{m}, A_{1} => B_{1}, ..A_{i} => B_{i}.., A_{m} => B_{m}} (B_{1} or ..B_{_a}.. or B_{m}) if m in Natural.\n",
       "   core type: Conditional\n",
       "   value: 2\n",
       "   condition: 3\n",
       "2. forall_{A_{1}, ..A_{_a}.., A_{m}, B_{1}, ..B_{_a}.., B_{m} in BOOLEAN | A_{1} or ..A_{_a}.. or A_{m}, A_{1} => B_{1}, ..A_{i} => B_{i}.., A_{m} => B_{m}} (B_{1} or ..B_{_a}.. or B_{m})\n",
       "   core type: Operation\n",
       "   operator: 4\n",
       "   operand: 7\n",
       "3. m in Natural\n",
       "   core type: Operation\n",
       "   operator: 32\n",
       "   operands: 6\n",
       "4. forall\n",
       "   core type: Literal\n",
       "   sub-expressions: \n",
       "5. ((A_{1}, ..A_{_a}.., A_{m}, B_{1}, ..B_{_a}.., B_{m}) -> {B_{1} or ..B_{_a}.. or B_{m} if A_{1} in BOOLEAN ,  ..A_{_a} in BOOLEAN.. ,  A_{m} in BOOLEAN ,  B_{1} in BOOLEAN ,  ..B_{_a} in BOOLEAN.. ,  B_{m} in BOOLEAN ,  A_{1} or ..A_{_a}.. or A_{m} ,  A_{1} => B_{1} ,  ..A_{i} => B_{i}.. ,  A_{m} => B_{m}.)\n",
       "   core type: ExprTuple\n",
       "   sub-expressions: 7\n",
       "6. (m, Natural)\n",
       "   core type: ExprTuple\n",
       "   sub-expressions: 36, 8\n",
       "7. (A_{1}, ..A_{_a}.., A_{m}, B_{1}, ..B_{_a}.., B_{m}) -> {B_{1} or ..B_{_a}.. or B_{m} if A_{1} in BOOLEAN ,  ..A_{_a} in BOOLEAN.. ,  A_{m} in BOOLEAN ,  B_{1} in BOOLEAN ,  ..B_{_a} in BOOLEAN.. ,  B_{m} in BOOLEAN ,  A_{1} or ..A_{_a}.. or A_{m} ,  A_{1} => B_{1} ,  ..A_{i} => B_{i}.. ,  A_{m} => B_{m}.\n",
       "   core type: Lambda\n",
       "   parameters: 9\\n   body: 10\n",
       "8. Natural\n",
       "   core type: Literal\n",
       "   sub-expressions: \n",
       "9. (A_{1}, ..A_{_a}.., A_{m}, B_{1}, ..B_{_a}.., B_{m})\n",
       "   core type: ExprTuple\n",
       "   sub-expressions: 29, 16\n",
       "10. {B_{1} or ..B_{_a}.. or B_{m} if A_{1} in BOOLEAN ,  ..A_{_a} in BOOLEAN.. ,  A_{m} in BOOLEAN ,  B_{1} in BOOLEAN ,  ..B_{_a} in BOOLEAN.. ,  B_{m} in BOOLEAN ,  A_{1} or ..A_{_a}.. or A_{m} ,  A_{1} => B_{1} ,  ..A_{i} => B_{i}.. ,  A_{m} => B_{m}.\n",
       "    core type: Conditional\n",
       "    value: 11\n",
       "    condition: 12\n",
       "11. B_{1} or ..B_{_a}.. or B_{m}\n",
       "    core type: Operation\n",
       "    operator: 24\n",
       "    operands: 13\n",
       "12. (A_{1} in BOOLEAN) and ..(A_{_a} in BOOLEAN).. and (A_{m} in BOOLEAN) and (B_{1} in BOOLEAN) and ..(B_{_a} in BOOLEAN).. and (B_{m} in BOOLEAN) and (A_{1} or ..A_{_a}.. or A_{m}) and (A_{1} => B_{1}) and ..(A_{i} => B_{i}).. and (A_{m} => B_{m})\n",
       "    core type: Operation\n",
       "    operator: 14\n",
       "    operands: 15\n",
       "13. (B_{1}, ..B_{_a}.., B_{m})\n",
       "    core type: ExprTuple\n",
       "    sub-expressions: 16\n",
       "14. and\n",
       "    core type: Literal\n",
       "    sub-expressions: \n",
       "15. (A_{1} in BOOLEAN, ..A_{_a} in BOOLEAN.., A_{m} in BOOLEAN, B_{1} in BOOLEAN, ..B_{_a} in BOOLEAN.., B_{m} in BOOLEAN, A_{1} or ..A_{_a}.. or A_{m}, A_{1} => B_{1}, ..A_{i} => B_{i}.., A_{m} => B_{m})\n",
       "    core type: ExprTuple\n",
       "    sub-expressions: 17, 18, 19, 20\n",
       "16. B_{1}, ..B_{_a}.., B_{m}\n",
       "    core type: ExprRange\n",
       "    lambda_map: 21\n",
       "    start_index: 35\n",
       "    end_index: 36\n",
       "17. (A_{1} in BOOLEAN), ..(A_{_a} in BOOLEAN).., (A_{m} in BOOLEAN)\n",
       "    core type: ExprRange\n",
       "    lambda_map: 22\n",
       "    start_index: 35\n",
       "    end_index: 36\n",
       "18. (B_{1} in BOOLEAN), ..(B_{_a} in BOOLEAN).., (B_{m} in BOOLEAN)\n",
       "    core type: ExprRange\n",
       "    lambda_map: 23\n",
       "    start_index: 35\n",
       "    end_index: 36\n",
       "19. A_{1} or ..A_{_a}.. or A_{m}\n",
       "    core type: Operation\n",
       "    operator: 24\n",
       "    operands: 25\n",
       "20. (A_{1} => B_{1}), ..(A_{i} => B_{i}).., (A_{m} => B_{m})\n",
       "    core type: ExprRange\n",
       "    lambda_map: 26\n",
       "    start_index: 35\n",
       "    end_index: 36\n",
       "21. _a -> B_{_a}\n",
       "    core type: Lambda\n",
       "    parameter: 48\n",
       "    body: 39\n",
       "22. _a -> (A_{_a} in BOOLEAN)\n",
       "    core type: Lambda\n",
       "    parameter: 48\n",
       "    body: 27\n",
       "23. _a -> (B_{_a} in BOOLEAN)\n",
       "    core type: Lambda\n",
       "    parameter: 48\n",
       "    body: 28\n",
       "24. or\n",
       "    core type: Literal\n",
       "    sub-expressions: \n",
       "25. (A_{1}, ..A_{_a}.., A_{m})\n",
       "    core type: ExprTuple\n",
       "    sub-expressions: 29\n",
       "26. i -> (A_{i} => B_{i})\n",
       "    core type: Lambda\n",
       "    parameter: 49\n",
       "    body: 30\n",
       "27. A_{_a} in BOOLEAN\n",
       "    core type: Operation\n",
       "    operator: 32\n",
       "    operands: 31\n",
       "28. B_{_a} in BOOLEAN\n",
       "    core type: Operation\n",
       "    operator: 32\n",
       "    operands: 33\n",
       "29. A_{1}, ..A_{_a}.., A_{m}\n",
       "    core type: ExprRange\n",
       "    lambda_map: 34\n",
       "    start_index: 35\n",
       "    end_index: 36\n",
       "30. A_{i} => B_{i}\n",
       "    core type: Operation\n",
       "    operator: 37\n",
       "    operands: 38\n",
       "31. (A_{_a}, BOOLEAN)\n",
       "    core type: ExprTuple\n",
       "    sub-expressions: 41, 40\n",
       "32. in\n",
       "    core type: Literal\n",
       "    sub-expressions: \n",
       "33. (B_{_a}, BOOLEAN)\n",
       "    core type: ExprTuple\n",
       "    sub-expressions: 39, 40\n",
       "34. _a -> A_{_a}\n",
       "    core type: Lambda\n",
       "    parameter: 48\n",
       "    body: 41\n",
       "35. 1\n",
       "    core type: Literal\n",
       "    sub-expressions: \n",
       "36. m\n",
       "    core type: Variable\n",
       "    sub-expressions: \n",
       "37. =>\n",
       "    core type: Literal\n",
       "    sub-expressions: \n",
       "38. (A_{i}, B_{i})\n",
       "    core type: ExprTuple\n",
       "    sub-expressions: 42, 43\n",
       "39. B_{_a}\n",
       "    core type: IndexedVar\n",
       "variable: 46\n",
       "index: 48\n",
       "40. BOOLEAN\n",
       "    core type: Literal\n",
       "    sub-expressions: \n",
       "41. A_{_a}\n",
       "    core type: IndexedVar\n",
       "variable: 45\n",
       "index: 48\n",
       "42. A_{i}\n",
       "    core type: IndexedVar\n",
       "variable: 45\n",
       "index: 49\n",
       "43. B_{i}\n",
       "    core type: IndexedVar\n",
       "variable: 46\n",
       "index: 49\n",
       "44. (_a)\n",
       "    core type: ExprTuple\n",
       "    sub-expressions: 48\n",
       "45. A\n",
       "    core type: Variable\n",
       "    sub-expressions: \n",
       "46. B\n",
       "    core type: Variable\n",
       "    sub-expressions: \n",
       "47. (i)\n",
       "    core type: ExprTuple\n",
       "    sub-expressions: 49\n",
       "48. _a\n",
       "    core type: Variable\n",
       "    sub-expressions: \n",
       "49. i\n",
       "    core type: Variable\n",
       "    sub-expressions: "
      ]
     },
     "execution_count": 6,
     "metadata": {},
     "output_type": "execute_result"
    }
   ],
   "source": [
    "# display the expression information\n",
    "expr.expr_info()"
   ]
  },
  {
   "cell_type": "code",
   "execution_count": null,
   "metadata": {},
   "outputs": [],
   "source": []
  }
 ],
 "metadata": {
  "kernelspec": {
   "display_name": "Python 3",
   "language": "python",
   "name": "python3"
  }
 },
 "nbformat": 4,
 "nbformat_minor": 0
}