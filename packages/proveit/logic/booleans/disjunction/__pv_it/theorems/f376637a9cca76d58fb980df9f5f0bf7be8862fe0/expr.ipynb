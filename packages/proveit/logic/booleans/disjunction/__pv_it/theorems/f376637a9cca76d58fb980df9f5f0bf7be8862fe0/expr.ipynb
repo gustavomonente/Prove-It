{
 "cells": [
  {
   "cell_type": "markdown",
   "metadata": {},
   "source": [
    "Expression of type <a class=\"ProveItLink\" href=\"../../../../../../../../doc/html/api/proveit.Lambda.html\">Lambda</a>\n",
    "=======================\n",
    "# from the theory of <a class=\"ProveItLink\" href=\"../../../_theory_nbs_/theory.ipynb\">proveit.logic.booleans.disjunction</a>"
   ]
  },
  {
   "cell_type": "code",
   "execution_count": 1,
   "metadata": {},
   "outputs": [],
   "source": [
    "import proveit\n",
    "# Automation is not needed when building an expression:\n",
    "proveit.defaults.automation = False # This will speed things up.\n",
    "proveit.defaults.inline_pngs = False # Makes files smaller.\n",
    "%load_expr # Load the stored expression as 'stored_expr'\n",
    "# import Expression classes needed to build the expression\n",
    "from proveit import Conditional, Lambda, m\n",
    "from proveit.core_expr_types import A_1_to_m\n",
    "from proveit.logic import Equals, FALSE, Forall, InSet, Or, Set\n",
    "from proveit.numbers import Natural"
   ]
  },
  {
   "cell_type": "code",
   "execution_count": 2,
   "metadata": {},
   "outputs": [
    {
     "data": {
      "text/html": [
       "<strong id=\"expr\">expr:</strong> <a class=\"ProveItLink\" href=\"expr.ipynb\"><img src=\"expr.png\" style=\"display:inline;vertical-align:middle;\" /></a><br>"
      ],
      "text/plain": [
       "expr: m -> {forall_{A_{1}, ..A_{_a}.., A_{m} in {FALSE}} ((A_{1} or ..A_{_a}.. or A_{m}) = FALSE) if m in Natural."
      ]
     },
     "execution_count": 2,
     "metadata": {},
     "output_type": "execute_result"
    }
   ],
   "source": [
    "# build up the expression from sub-expressions\n",
    "expr = Lambda(m, Conditional(Forall([A_1_to_m], Equals(Or(A_1_to_m), FALSE), domains = [Set(FALSE)]), InSet(m, Natural)))"
   ]
  },
  {
   "cell_type": "code",
   "execution_count": 3,
   "metadata": {},
   "outputs": [
    {
     "name": "stdout",
     "output_type": "stream",
     "text": [
      "Passed sanity check: expr matches stored_expr\n"
     ]
    }
   ],
   "source": [
    "# check that the built expression is the same as the stored expression\n",
    "assert expr == stored_expr\n",
    "assert expr._style_id == stored_expr._style_id\n",
    "print(\"Passed sanity check: expr matches stored_expr\")"
   ]
  },
  {
   "cell_type": "code",
   "execution_count": 4,
   "metadata": {},
   "outputs": [
    {
     "name": "stdout",
     "output_type": "stream",
     "text": [
      "m \\mapsto \\left\\{\\forall_{A_{1}, \\ldots, A_{m} \\in \\left\\{\\bot\\right\\}}~\\left(\\left(A_{1} \\lor \\ldots \\lor A_{m}\\right) = \\bot\\right) \\textrm{ if } m \\in \\mathbb{N}\\right..\n"
     ]
    }
   ],
   "source": [
    "# Show the LaTeX representation of the expression for convenience if you need it.\n",
    "print(expr.latex())"
   ]
  },
  {
   "cell_type": "code",
   "execution_count": 5,
   "metadata": {},
   "outputs": [
    {
     "data": {
      "text/html": [
       "no style options"
      ],
      "text/plain": [
       "no style options"
      ]
     },
     "execution_count": 5,
     "metadata": {},
     "output_type": "execute_result"
    }
   ],
   "source": [
    "expr.style_options()"
   ]
  },
  {
   "cell_type": "code",
   "execution_count": 6,
   "metadata": {},
   "outputs": [
    {
     "data": {
      "text/html": [
       "<table><tr><th>&nbsp;</th><th>core type</th><th>sub-expressions</th><th>expression</th></tr>\n",
       "<tr><td>0</td><td>Lambda</td><td>parameter:&nbsp;25<br>body:&nbsp;1<br></td><td><a class=\"ProveItLink\" href=\"expr.ipynb\"><img src=\"expr.png\" style=\"display:inline;vertical-align:middle;\" /></a></td></tr>\n",
       "<tr><td>1</td><td>Conditional</td><td>value:&nbsp;2<br>condition:&nbsp;3<br></td><td><a class=\"ProveItLink\" href=\"../16636aee3ed1ceb708be4c6823ddd699c2d6cafb0/expr.ipynb\"><img src=\"../16636aee3ed1ceb708be4c6823ddd699c2d6cafb0/expr.png\" style=\"display:inline;vertical-align:middle;\" /></a></td></tr>\n",
       "<tr><td>2</td><td>Operation</td><td>operator:&nbsp;4<br>operand:&nbsp;7<br></td><td><a class=\"ProveItLink\" href=\"../d5233e38b6a22e21002024ebeb347abce116c2840/expr.ipynb\"><img src=\"../d5233e38b6a22e21002024ebeb347abce116c2840/expr.png\" style=\"display:inline;vertical-align:middle;\" /></a></td></tr>\n",
       "<tr><td>3</td><td>Operation</td><td>operator:&nbsp;26<br>operands:&nbsp;6<br></td><td><a class=\"ProveItLink\" href=\"../3287be28b2126783aeddb65edbf04637df184bd00/expr.ipynb\"><img src=\"../3287be28b2126783aeddb65edbf04637df184bd00/expr.png\" style=\"display:inline;vertical-align:middle;\" /></a></td></tr>\n",
       "<tr><td>4</td><td>Literal</td><td></td><td><a class=\"ProveItLink\" href=\"../../../../quantification/universality/__pv_it/common/684d35ba98fcbf8ca5011f865e530a51e77730630/expr.ipynb\"><img src=\"../../../../quantification/universality/__pv_it/common/684d35ba98fcbf8ca5011f865e530a51e77730630/expr.png\" style=\"display:inline;vertical-align:middle;\" /></a></td></tr>\n",
       "<tr><td>5</td><td>ExprTuple</td><td>7</td><td><a class=\"ProveItLink\" href=\"../26c434f0ce2f49a7f2acd5e080f44fe5dfa5e8ed0/expr.ipynb\"><img src=\"../26c434f0ce2f49a7f2acd5e080f44fe5dfa5e8ed0/expr.png\" style=\"display:inline;vertical-align:middle;\" /></a></td></tr>\n",
       "<tr><td>6</td><td>ExprTuple</td><td>25, 8</td><td><a class=\"ProveItLink\" href=\"../04159094d330187d96682e7798bfbb21b0aae5810/expr.ipynb\"><img src=\"../04159094d330187d96682e7798bfbb21b0aae5810/expr.png\" style=\"display:inline;vertical-align:middle;\" /></a></td></tr>\n",
       "<tr><td>7</td><td>Lambda</td><td>parameters:&nbsp;19<br>body:&nbsp;9<br></td><td><a class=\"ProveItLink\" href=\"../9a84f18b54c83b378091a93ba4cb1b665e6fc2720/expr.ipynb\"><img src=\"../9a84f18b54c83b378091a93ba4cb1b665e6fc2720/expr.png\" style=\"display:inline;vertical-align:middle;\" /></a></td></tr>\n",
       "<tr><td>8</td><td>Literal</td><td></td><td><a class=\"ProveItLink\" href=\"../../../../../../numbers/number_sets/natural_numbers/__pv_it/common/85c8b43c90a7392ebb5459360d343dfa7c7408b50/expr.ipynb\"><img src=\"../../../../../../numbers/number_sets/natural_numbers/__pv_it/common/85c8b43c90a7392ebb5459360d343dfa7c7408b50/expr.png\" style=\"display:inline;vertical-align:middle;\" /></a></td></tr>\n",
       "<tr><td>9</td><td>Conditional</td><td>value:&nbsp;10<br>condition:&nbsp;11<br></td><td><a class=\"ProveItLink\" href=\"../1bafc97f3d0b362298b7b5f6cee82251d2bbeb290/expr.ipynb\"><img src=\"../1bafc97f3d0b362298b7b5f6cee82251d2bbeb290/expr.png\" style=\"display:inline;vertical-align:middle;\" /></a></td></tr>\n",
       "<tr><td>10</td><td>Operation</td><td>operator:&nbsp;12<br>operands:&nbsp;13<br></td><td><a class=\"ProveItLink\" href=\"../cc79baf20bd4d99d65fe49ae065209f9315309ca0/expr.ipynb\"><img src=\"../cc79baf20bd4d99d65fe49ae065209f9315309ca0/expr.png\" style=\"display:inline;vertical-align:middle;\" /></a></td></tr>\n",
       "<tr><td>11</td><td>Operation</td><td>operator:&nbsp;14<br>operands:&nbsp;15<br></td><td><a class=\"ProveItLink\" href=\"../60f1b53b651e81350d3a997c17e4f38fdc921ca30/expr.ipynb\"><img src=\"../60f1b53b651e81350d3a997c17e4f38fdc921ca30/expr.png\" style=\"display:inline;vertical-align:middle;\" /></a></td></tr>\n",
       "<tr><td>12</td><td>Literal</td><td></td><td><a class=\"ProveItLink\" href=\"../../../../../equality/__pv_it/common/731dd3955b346c1320ed5c0ba7a618bcda61457d0/expr.ipynb\"><img src=\"../../../../../equality/__pv_it/common/731dd3955b346c1320ed5c0ba7a618bcda61457d0/expr.png\" style=\"display:inline;vertical-align:middle;\" /></a></td></tr>\n",
       "<tr><td>13</td><td>ExprTuple</td><td>16, 35</td><td><a class=\"ProveItLink\" href=\"../6d4294fcde43c2af454b99e6055b1466f88609500/expr.ipynb\"><img src=\"../6d4294fcde43c2af454b99e6055b1466f88609500/expr.png\" style=\"display:inline;vertical-align:middle;\" /></a></td></tr>\n",
       "<tr><td>14</td><td>Literal</td><td></td><td><a class=\"ProveItLink\" href=\"../../../../conjunction/__pv_it/common/26b94b53e70b1d77b70f0d9d4236347db37731060/expr.ipynb\"><img src=\"../../../../conjunction/__pv_it/common/26b94b53e70b1d77b70f0d9d4236347db37731060/expr.png\" style=\"display:inline;vertical-align:middle;\" /></a></td></tr>\n",
       "<tr><td>15</td><td>ExprTuple</td><td>17</td><td><a class=\"ProveItLink\" href=\"../571bad2103421a9a024307f2636f75f1bfdc98290/expr.ipynb\"><img src=\"../571bad2103421a9a024307f2636f75f1bfdc98290/expr.png\" style=\"display:inline;vertical-align:middle;\" /></a></td></tr>\n",
       "<tr><td>16</td><td>Operation</td><td>operator:&nbsp;18<br>operands:&nbsp;19<br></td><td><a class=\"ProveItLink\" href=\"../efbd6a9037ae8f5d6d0d5bf6ad515f688f55b5ff0/expr.ipynb\"><img src=\"../efbd6a9037ae8f5d6d0d5bf6ad515f688f55b5ff0/expr.png\" style=\"display:inline;vertical-align:middle;\" /></a></td></tr>\n",
       "<tr><td>17</td><td>ExprRange</td><td>lambda_map:&nbsp;20<br>start_index:&nbsp;24<br>end_index:&nbsp;25<br></td><td><a class=\"ProveItLink\" href=\"../e347031f54dc627a3968145380bd0759e4aa505e0/expr.ipynb\"><img src=\"../e347031f54dc627a3968145380bd0759e4aa505e0/expr.png\" style=\"display:inline;vertical-align:middle;\" /></a></td></tr>\n",
       "<tr><td>18</td><td>Literal</td><td></td><td><a class=\"ProveItLink\" href=\"../../common/0e5dcae3232d8ebdc0777b8ce92ce453a450f6c30/expr.ipynb\"><img src=\"../../common/0e5dcae3232d8ebdc0777b8ce92ce453a450f6c30/expr.png\" style=\"display:inline;vertical-align:middle;\" /></a></td></tr>\n",
       "<tr><td>19</td><td>ExprTuple</td><td>21</td><td><a class=\"ProveItLink\" href=\"../0a65ec265686482133d742d4363a8cf4d6c35e350/expr.ipynb\"><img src=\"../0a65ec265686482133d742d4363a8cf4d6c35e350/expr.png\" style=\"display:inline;vertical-align:middle;\" /></a></td></tr>\n",
       "<tr><td>20</td><td>Lambda</td><td>parameter:&nbsp;34<br>body:&nbsp;22<br></td><td><a class=\"ProveItLink\" href=\"../2ed62182f5e7f4a4ae65489b7fcbc465d6a5379a0/expr.ipynb\"><img src=\"../2ed62182f5e7f4a4ae65489b7fcbc465d6a5379a0/expr.png\" style=\"display:inline;vertical-align:middle;\" /></a></td></tr>\n",
       "<tr><td>21</td><td>ExprRange</td><td>lambda_map:&nbsp;23<br>start_index:&nbsp;24<br>end_index:&nbsp;25<br></td><td><a class=\"ProveItLink\" href=\"../../../../../../core_expr_types/__pv_it/common/30c3e05d1ed167fcc220828c60f35ec81c3feb3f0/expr.ipynb\"><img src=\"../../../../../../core_expr_types/__pv_it/common/30c3e05d1ed167fcc220828c60f35ec81c3feb3f0/expr.png\" style=\"display:inline;vertical-align:middle;\" /></a></td></tr>\n",
       "<tr><td>22</td><td>Operation</td><td>operator:&nbsp;26<br>operands:&nbsp;27<br></td><td><a class=\"ProveItLink\" href=\"../14f448ecc8eeed87f1cc5be1b1931edde5ae7e8c0/expr.ipynb\"><img src=\"../14f448ecc8eeed87f1cc5be1b1931edde5ae7e8c0/expr.png\" style=\"display:inline;vertical-align:middle;\" /></a></td></tr>\n",
       "<tr><td>23</td><td>Lambda</td><td>parameter:&nbsp;34<br>body:&nbsp;28<br></td><td><a class=\"ProveItLink\" href=\"../../../../../../core_expr_types/__pv_it/common/7cb3671e4363a47742a54e63b73ddf8e8fe2c9390/expr.ipynb\"><img src=\"../../../../../../core_expr_types/__pv_it/common/7cb3671e4363a47742a54e63b73ddf8e8fe2c9390/expr.png\" style=\"display:inline;vertical-align:middle;\" /></a></td></tr>\n",
       "<tr><td>24</td><td>Literal</td><td></td><td><a class=\"ProveItLink\" href=\"../../../../../../numbers/numerals/__pv_it/common/d278e359da0695d9652dd541d45264f93703e2e40/expr.ipynb\"><img src=\"../../../../../../numbers/numerals/__pv_it/common/d278e359da0695d9652dd541d45264f93703e2e40/expr.png\" style=\"display:inline;vertical-align:middle;\" /></a></td></tr>\n",
       "<tr><td>25</td><td>Variable</td><td></td><td><a class=\"ProveItLink\" href=\"../../../../../../__pv_it/common/2dc4f15b3407a25e8d70754a86bf74f1871f92650/expr.ipynb\"><img src=\"../../../../../../__pv_it/common/2dc4f15b3407a25e8d70754a86bf74f1871f92650/expr.png\" style=\"display:inline;vertical-align:middle;\" /></a></td></tr>\n",
       "<tr><td>26</td><td>Literal</td><td></td><td><a class=\"ProveItLink\" href=\"../../../../../sets/membership/__pv_it/common/7171deca84f71f47a6ec7696972d1632274a12880/expr.ipynb\"><img src=\"../../../../../sets/membership/__pv_it/common/7171deca84f71f47a6ec7696972d1632274a12880/expr.png\" style=\"display:inline;vertical-align:middle;\" /></a></td></tr>\n",
       "<tr><td>27</td><td>ExprTuple</td><td>28, 29</td><td><a class=\"ProveItLink\" href=\"../368dc4de9b627c7710f70d66a3d88c49bfc3bdd50/expr.ipynb\"><img src=\"../368dc4de9b627c7710f70d66a3d88c49bfc3bdd50/expr.png\" style=\"display:inline;vertical-align:middle;\" /></a></td></tr>\n",
       "<tr><td>28</td><td>IndexedVar</td><td>variable:&nbsp;30<br>index:&nbsp;34<br></td><td><a class=\"ProveItLink\" href=\"../../../../../../core_expr_types/__pv_it/common/44c047560b26e24c2a9af7e0d00ef8bc5e74e7580/expr.ipynb\"><img src=\"../../../../../../core_expr_types/__pv_it/common/44c047560b26e24c2a9af7e0d00ef8bc5e74e7580/expr.png\" style=\"display:inline;vertical-align:middle;\" /></a></td></tr>\n",
       "<tr><td>29</td><td>Operation</td><td>operator:&nbsp;32<br>operand:&nbsp;35<br></td><td><a class=\"ProveItLink\" href=\"../06f946ea0f2dbce7804a97e2929561c94ab4a1dd0/expr.ipynb\"><img src=\"../06f946ea0f2dbce7804a97e2929561c94ab4a1dd0/expr.png\" style=\"display:inline;vertical-align:middle;\" /></a></td></tr>\n",
       "<tr><td>30</td><td>Variable</td><td></td><td><a class=\"ProveItLink\" href=\"../../../../../../__pv_it/common/e4aad701f7f5516d8e7f0d805d518bf02c13322a0/expr.ipynb\"><img src=\"../../../../../../__pv_it/common/e4aad701f7f5516d8e7f0d805d518bf02c13322a0/expr.png\" style=\"display:inline;vertical-align:middle;\" /></a></td></tr>\n",
       "<tr><td>31</td><td>ExprTuple</td><td>34</td><td><a class=\"ProveItLink\" href=\"../../../../../../core_expr_types/__pv_it/common/ecf50ade416ab41c42c9f4e777b4c862cd9469670/expr.ipynb\"><img src=\"../../../../../../core_expr_types/__pv_it/common/ecf50ade416ab41c42c9f4e777b4c862cd9469670/expr.png\" style=\"display:inline;vertical-align:middle;\" /></a></td></tr>\n",
       "<tr><td>32</td><td>Literal</td><td></td><td><a class=\"ProveItLink\" href=\"../../../../../sets/enumeration/__pv_it/common/f7caf702081f903a6ea3d95d680568dd78698f5a0/expr.ipynb\"><img src=\"../../../../../sets/enumeration/__pv_it/common/f7caf702081f903a6ea3d95d680568dd78698f5a0/expr.png\" style=\"display:inline;vertical-align:middle;\" /></a></td></tr>\n",
       "<tr><td>33</td><td>ExprTuple</td><td>35</td><td><a class=\"ProveItLink\" href=\"../d260be7503e77a7eb4ca45c9fc6d012d82d1143a0/expr.ipynb\"><img src=\"../d260be7503e77a7eb4ca45c9fc6d012d82d1143a0/expr.png\" style=\"display:inline;vertical-align:middle;\" /></a></td></tr>\n",
       "<tr><td>34</td><td>Variable</td><td></td><td><a class=\"ProveItLink\" href=\"../../../../../../core_expr_types/__pv_it/common/9e6d9d5d7eeb0342cf5bca68def0eb165a1a9bb10/expr.ipynb\"><img src=\"../../../../../../core_expr_types/__pv_it/common/9e6d9d5d7eeb0342cf5bca68def0eb165a1a9bb10/expr.png\" style=\"display:inline;vertical-align:middle;\" /></a></td></tr>\n",
       "<tr><td>35</td><td>Literal</td><td></td><td><a class=\"ProveItLink\" href=\"../../../../__pv_it/common/bc5c31e39ae582b67c89fb24025b57f5b995e8890/expr.ipynb\"><img src=\"../../../../__pv_it/common/bc5c31e39ae582b67c89fb24025b57f5b995e8890/expr.png\" style=\"display:inline;vertical-align:middle;\" /></a></td></tr>\n",
       "</table>\n"
      ],
      "text/plain": [
       "0. m -> {forall_{A_{1}, ..A_{_a}.., A_{m} in {FALSE}} ((A_{1} or ..A_{_a}.. or A_{m}) = FALSE) if m in Natural.\n",
       "   core type: Lambda\n",
       "   parameter: 25\n",
       "   body: 1\n",
       "1. {forall_{A_{1}, ..A_{_a}.., A_{m} in {FALSE}} ((A_{1} or ..A_{_a}.. or A_{m}) = FALSE) if m in Natural.\n",
       "   core type: Conditional\n",
       "   value: 2\n",
       "   condition: 3\n",
       "2. forall_{A_{1}, ..A_{_a}.., A_{m} in {FALSE}} ((A_{1} or ..A_{_a}.. or A_{m}) = FALSE)\n",
       "   core type: Operation\n",
       "   operator: 4\n",
       "   operand: 7\n",
       "3. m in Natural\n",
       "   core type: Operation\n",
       "   operator: 26\n",
       "   operands: 6\n",
       "4. forall\n",
       "   core type: Literal\n",
       "   sub-expressions: \n",
       "5. ((A_{1}, ..A_{_a}.., A_{m}) -> {(A_{1} or ..A_{_a}.. or A_{m}) = FALSE if (A_{1} in {FALSE}) and ..(A_{_a} in {FALSE}).. and (A_{m} in {FALSE}).)\n",
       "   core type: ExprTuple\n",
       "   sub-expressions: 7\n",
       "6. (m, Natural)\n",
       "   core type: ExprTuple\n",
       "   sub-expressions: 25, 8\n",
       "7. (A_{1}, ..A_{_a}.., A_{m}) -> {(A_{1} or ..A_{_a}.. or A_{m}) = FALSE if (A_{1} in {FALSE}) and ..(A_{_a} in {FALSE}).. and (A_{m} in {FALSE}).\n",
       "   core type: Lambda\n",
       "   parameters: 19\\n   body: 9\n",
       "8. Natural\n",
       "   core type: Literal\n",
       "   sub-expressions: \n",
       "9. {(A_{1} or ..A_{_a}.. or A_{m}) = FALSE if (A_{1} in {FALSE}) and ..(A_{_a} in {FALSE}).. and (A_{m} in {FALSE}).\n",
       "   core type: Conditional\n",
       "   value: 10\n",
       "   condition: 11\n",
       "10. (A_{1} or ..A_{_a}.. or A_{m}) = FALSE\n",
       "    core type: Operation\n",
       "    operator: 12\n",
       "    operands: 13\n",
       "11. (A_{1} in {FALSE}) and ..(A_{_a} in {FALSE}).. and (A_{m} in {FALSE})\n",
       "    core type: Operation\n",
       "    operator: 14\n",
       "    operands: 15\n",
       "12. =\n",
       "    core type: Literal\n",
       "    sub-expressions: \n",
       "13. (A_{1} or ..A_{_a}.. or A_{m}, FALSE)\n",
       "    core type: ExprTuple\n",
       "    sub-expressions: 16, 35\n",
       "14. and\n",
       "    core type: Literal\n",
       "    sub-expressions: \n",
       "15. (A_{1} in {FALSE}, ..A_{_a} in {FALSE}.., A_{m} in {FALSE})\n",
       "    core type: ExprTuple\n",
       "    sub-expressions: 17\n",
       "16. A_{1} or ..A_{_a}.. or A_{m}\n",
       "    core type: Operation\n",
       "    operator: 18\n",
       "    operands: 19\n",
       "17. (A_{1} in {FALSE}), ..(A_{_a} in {FALSE}).., (A_{m} in {FALSE})\n",
       "    core type: ExprRange\n",
       "    lambda_map: 20\n",
       "    start_index: 24\n",
       "    end_index: 25\n",
       "18. or\n",
       "    core type: Literal\n",
       "    sub-expressions: \n",
       "19. (A_{1}, ..A_{_a}.., A_{m})\n",
       "    core type: ExprTuple\n",
       "    sub-expressions: 21\n",
       "20. _a -> (A_{_a} in {FALSE})\n",
       "    core type: Lambda\n",
       "    parameter: 34\n",
       "    body: 22\n",
       "21. A_{1}, ..A_{_a}.., A_{m}\n",
       "    core type: ExprRange\n",
       "    lambda_map: 23\n",
       "    start_index: 24\n",
       "    end_index: 25\n",
       "22. A_{_a} in {FALSE}\n",
       "    core type: Operation\n",
       "    operator: 26\n",
       "    operands: 27\n",
       "23. _a -> A_{_a}\n",
       "    core type: Lambda\n",
       "    parameter: 34\n",
       "    body: 28\n",
       "24. 1\n",
       "    core type: Literal\n",
       "    sub-expressions: \n",
       "25. m\n",
       "    core type: Variable\n",
       "    sub-expressions: \n",
       "26. in\n",
       "    core type: Literal\n",
       "    sub-expressions: \n",
       "27. (A_{_a}, {FALSE})\n",
       "    core type: ExprTuple\n",
       "    sub-expressions: 28, 29\n",
       "28. A_{_a}\n",
       "    core type: IndexedVar\n",
       "variable: 30\n",
       "index: 34\n",
       "29. {FALSE}\n",
       "    core type: Operation\n",
       "    operator: 32\n",
       "    operand: 35\n",
       "30. A\n",
       "    core type: Variable\n",
       "    sub-expressions: \n",
       "31. (_a)\n",
       "    core type: ExprTuple\n",
       "    sub-expressions: 34\n",
       "32. Set\n",
       "    core type: Literal\n",
       "    sub-expressions: \n",
       "33. (FALSE)\n",
       "    core type: ExprTuple\n",
       "    sub-expressions: 35\n",
       "34. _a\n",
       "    core type: Variable\n",
       "    sub-expressions: \n",
       "35. FALSE\n",
       "    core type: Literal\n",
       "    sub-expressions: "
      ]
     },
     "execution_count": 6,
     "metadata": {},
     "output_type": "execute_result"
    }
   ],
   "source": [
    "# display the expression information\n",
    "expr.expr_info()"
   ]
  },
  {
   "cell_type": "code",
   "execution_count": null,
   "metadata": {},
   "outputs": [],
   "source": []
  }
 ],
 "metadata": {
  "kernelspec": {
   "display_name": "Python 3",
   "language": "python",
   "name": "python3"
  }
 },
 "nbformat": 4,
 "nbformat_minor": 0
}