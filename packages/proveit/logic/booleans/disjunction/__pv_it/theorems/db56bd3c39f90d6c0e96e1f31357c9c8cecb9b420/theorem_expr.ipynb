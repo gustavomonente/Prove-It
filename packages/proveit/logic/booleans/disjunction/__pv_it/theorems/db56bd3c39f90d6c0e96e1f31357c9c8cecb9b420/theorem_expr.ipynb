{
 "cells": [
  {
   "cell_type": "markdown",
   "metadata": {},
   "source": [
    "Theorem <a class=\"ProveItLink\" href=\"../../../_theorems_.ipynb#destructive_dilemma\">destructive_dilemma</a> of type <a class=\"ProveItLink\" href=\"../../../../../../../../doc/html/api/proveit.logic.Forall.html\">Forall</a>\n",
    "=======================\n",
    "# from the theory of <a class=\"ProveItLink\" href=\"../../../_theory_nbs_/theory.ipynb\">proveit.logic.booleans.disjunction</a>\n",
    "*** see <a class=\"ProveItLink\" href=\"dependencies.ipynb\">dependencies</a> ***"
   ]
  },
  {
   "cell_type": "code",
   "execution_count": 1,
   "metadata": {},
   "outputs": [],
   "source": [
    "import proveit\n",
    "# Automation is not needed when only building an expression:\n",
    "proveit.defaults.automation = False # This will speed things up.\n",
    "proveit.defaults.inline_pngs = False # Makes files smaller.\n",
    "%load_theorem_expr # Load the stored theorem expression as 'stored_expr'\n",
    "# import the special expression\n",
    "from proveit.logic.booleans.disjunction import destructive_dilemma"
   ]
  },
  {
   "cell_type": "code",
   "execution_count": 2,
   "metadata": {},
   "outputs": [
    {
     "name": "stdout",
     "output_type": "stream",
     "text": [
      "Passed sanity check: destructive_dilemma matches stored_expr\n"
     ]
    }
   ],
   "source": [
    "# check that the built expression is the same as the stored expression\n",
    "assert destructive_dilemma.expr == stored_expr\n",
    "assert destructive_dilemma.expr._style_id == stored_expr._style_id\n",
    "print(\"Passed sanity check: destructive_dilemma matches stored_expr\")"
   ]
  },
  {
   "cell_type": "code",
   "execution_count": 3,
   "metadata": {},
   "outputs": [
    {
     "name": "stdout",
     "output_type": "stream",
     "text": [
      "\\vdash \\forall_{A, B, C, D \\in \\mathbb{B}~|~(\\lnot C) \\lor (\\lnot D), A \\Rightarrow C, B \\Rightarrow D}~\\left((\\lnot A) \\lor (\\lnot B)\\right)\n"
     ]
    }
   ],
   "source": [
    "# Show the LaTeX representation of the expression for convenience if you need it.\n",
    "print(destructive_dilemma.latex())"
   ]
  },
  {
   "cell_type": "code",
   "execution_count": 4,
   "metadata": {},
   "outputs": [
    {
     "data": {
      "text/html": [
       "<table>\n",
       "<tr><th>name</th><th>description</th><th>default</th><th>current value</th><th>related methods</th></tr><tr><td>with_wrapping</td><td>If 'True', wrap the Expression after the parameters</td><td>None</td><td>None/False</td><td>('with_wrapping',)</td></tr>\n",
       "<tr><td>wrap_params</td><td>If 'True', wraps every two parameters AND wraps the Expression after the parameters</td><td>None</td><td>None/False</td><td>('with_params',)</td></tr>\n",
       "<tr><td>justification</td><td>justify to the 'left', 'center', or 'right' in the array cells</td><td>center</td><td>center</td><td>('with_justification',)</td></tr>\n",
       "</table>\n"
      ],
      "text/plain": [
       "style name: with_wrapping\n",
       "description: If 'True', wrap the Expression after the parameters\n",
       "default: None\n",
       "current value: None/False\n",
       "related methods: ('with_wrapping',)\n",
       "style name: wrap_params\n",
       "description: If 'True', wraps every two parameters AND wraps the Expression after the parameters\n",
       "default: None\n",
       "current value: None/False\n",
       "related methods: ('with_params',)\n",
       "style name: justification\n",
       "description: justify to the 'left', 'center', or 'right' in the array cells\n",
       "default: center\n",
       "current value: center\n",
       "related methods: ('with_justification',)"
      ]
     },
     "execution_count": 4,
     "metadata": {},
     "output_type": "execute_result"
    }
   ],
   "source": [
    "destructive_dilemma.style_options()"
   ]
  },
  {
   "cell_type": "code",
   "execution_count": 5,
   "metadata": {},
   "outputs": [
    {
     "data": {
      "text/html": [
       "<table><tr><th>&nbsp;</th><th>core type</th><th>sub-expressions</th><th>expression</th></tr>\n",
       "<tr><td>0</td><td>Operation</td><td>operator:&nbsp;1<br>operand:&nbsp;3<br></td><td><a class=\"ProveItLink\" href=\"../7c35a40fb27472f258bdf787e7afcc0bca317bb90/expr.ipynb\"><img src=\"../7c35a40fb27472f258bdf787e7afcc0bca317bb90/expr.png\" style=\"display:inline;vertical-align:middle;\" /></a></td></tr>\n",
       "<tr><td>1</td><td>Literal</td><td></td><td><a class=\"ProveItLink\" href=\"../../../../quantification/universality/__pv_it/common/684d35ba98fcbf8ca5011f865e530a51e77730630/expr.ipynb\"><img src=\"../../../../quantification/universality/__pv_it/common/684d35ba98fcbf8ca5011f865e530a51e77730630/expr.png\" style=\"display:inline;vertical-align:middle;\" /></a></td></tr>\n",
       "<tr><td>2</td><td>ExprTuple</td><td>3</td><td><a class=\"ProveItLink\" href=\"../98ca5dcf5d436a995ae8af0683e33614eeea29990/expr.ipynb\"><img src=\"../98ca5dcf5d436a995ae8af0683e33614eeea29990/expr.png\" style=\"display:inline;vertical-align:middle;\" /></a></td></tr>\n",
       "<tr><td>3</td><td>Lambda</td><td>parameters:&nbsp;4<br>body:&nbsp;5<br></td><td><a class=\"ProveItLink\" href=\"../e478992fa93d15fedcd2a79210379d666659b42a0/expr.ipynb\"><img src=\"../e478992fa93d15fedcd2a79210379d666659b42a0/expr.png\" style=\"display:inline;vertical-align:middle;\" /></a></td></tr>\n",
       "<tr><td>4</td><td>ExprTuple</td><td>35, 36, 40, 41</td><td><a class=\"ProveItLink\" href=\"../f5ea7698198a350d8788a849f76b8287b90cc14b0/expr.ipynb\"><img src=\"../f5ea7698198a350d8788a849f76b8287b90cc14b0/expr.png\" style=\"display:inline;vertical-align:middle;\" /></a></td></tr>\n",
       "<tr><td>5</td><td>Conditional</td><td>value:&nbsp;6<br>condition:&nbsp;7<br></td><td><a class=\"ProveItLink\" href=\"../8072df13fe91abd45ab8c7be7ab9ea7d445328410/expr.ipynb\"><img src=\"../8072df13fe91abd45ab8c7be7ab9ea7d445328410/expr.png\" style=\"display:inline;vertical-align:middle;\" /></a></td></tr>\n",
       "<tr><td>6</td><td>Operation</td><td>operator:&nbsp;27<br>operands:&nbsp;8<br></td><td><a class=\"ProveItLink\" href=\"../3870a1e3bdc3c143f78b0c708defe513bf682f6d0/expr.ipynb\"><img src=\"../3870a1e3bdc3c143f78b0c708defe513bf682f6d0/expr.png\" style=\"display:inline;vertical-align:middle;\" /></a></td></tr>\n",
       "<tr><td>7</td><td>Operation</td><td>operator:&nbsp;9<br>operands:&nbsp;10<br></td><td><a class=\"ProveItLink\" href=\"../320978de008ab9fce13ecc83d8850bf18c4959870/expr.ipynb\"><img src=\"../320978de008ab9fce13ecc83d8850bf18c4959870/expr.png\" style=\"display:inline;vertical-align:middle;\" /></a></td></tr>\n",
       "<tr><td>8</td><td>ExprTuple</td><td>11, 12</td><td><a class=\"ProveItLink\" href=\"../3e63daaee2d0823467155cd8c98574f48c7035b70/expr.ipynb\"><img src=\"../3e63daaee2d0823467155cd8c98574f48c7035b70/expr.png\" style=\"display:inline;vertical-align:middle;\" /></a></td></tr>\n",
       "<tr><td>9</td><td>Literal</td><td></td><td><a class=\"ProveItLink\" href=\"../../../../conjunction/__pv_it/common/26b94b53e70b1d77b70f0d9d4236347db37731060/expr.ipynb\"><img src=\"../../../../conjunction/__pv_it/common/26b94b53e70b1d77b70f0d9d4236347db37731060/expr.png\" style=\"display:inline;vertical-align:middle;\" /></a></td></tr>\n",
       "<tr><td>10</td><td>ExprTuple</td><td>13, 14, 15, 16, 17, 18, 19</td><td><a class=\"ProveItLink\" href=\"../32bb1460de022a3b0bf3e758a8ab484d75e976910/expr.ipynb\"><img src=\"../32bb1460de022a3b0bf3e758a8ab484d75e976910/expr.png\" style=\"display:inline;vertical-align:middle;\" /></a></td></tr>\n",
       "<tr><td>11</td><td>Operation</td><td>operator:&nbsp;38<br>operand:&nbsp;35<br></td><td><a class=\"ProveItLink\" href=\"../531b4d361e22bb9dc371e326667e78900b871afb0/expr.ipynb\"><img src=\"../531b4d361e22bb9dc371e326667e78900b871afb0/expr.png\" style=\"display:inline;vertical-align:middle;\" /></a></td></tr>\n",
       "<tr><td>12</td><td>Operation</td><td>operator:&nbsp;38<br>operand:&nbsp;36<br></td><td><a class=\"ProveItLink\" href=\"../7e62a2cc7488cf98fcf25c6e4b2091ce54d5d3b80/expr.ipynb\"><img src=\"../7e62a2cc7488cf98fcf25c6e4b2091ce54d5d3b80/expr.png\" style=\"display:inline;vertical-align:middle;\" /></a></td></tr>\n",
       "<tr><td>13</td><td>Operation</td><td>operator:&nbsp;25<br>operands:&nbsp;22<br></td><td><a class=\"ProveItLink\" href=\"../7cfa8b9c477c340a2bec05787809c87a088f07ac0/expr.ipynb\"><img src=\"../7cfa8b9c477c340a2bec05787809c87a088f07ac0/expr.png\" style=\"display:inline;vertical-align:middle;\" /></a></td></tr>\n",
       "<tr><td>14</td><td>Operation</td><td>operator:&nbsp;25<br>operands:&nbsp;23<br></td><td><a class=\"ProveItLink\" href=\"../67501eb487d67b93f0ec3f6965561f782e470d670/expr.ipynb\"><img src=\"../67501eb487d67b93f0ec3f6965561f782e470d670/expr.png\" style=\"display:inline;vertical-align:middle;\" /></a></td></tr>\n",
       "<tr><td>15</td><td>Operation</td><td>operator:&nbsp;25<br>operands:&nbsp;24<br></td><td><a class=\"ProveItLink\" href=\"../6d4a76c8afef1311edaf37cd3d7c58f6a0f3bae70/expr.ipynb\"><img src=\"../6d4a76c8afef1311edaf37cd3d7c58f6a0f3bae70/expr.png\" style=\"display:inline;vertical-align:middle;\" /></a></td></tr>\n",
       "<tr><td>16</td><td>Operation</td><td>operator:&nbsp;25<br>operands:&nbsp;26<br></td><td><a class=\"ProveItLink\" href=\"../fd6d96a8fa1d80eb29daf8272b5460a0b6c3669c0/expr.ipynb\"><img src=\"../fd6d96a8fa1d80eb29daf8272b5460a0b6c3669c0/expr.png\" style=\"display:inline;vertical-align:middle;\" /></a></td></tr>\n",
       "<tr><td>17</td><td>Operation</td><td>operator:&nbsp;27<br>operands:&nbsp;28<br></td><td><a class=\"ProveItLink\" href=\"../92dcdd199f78df57405194378f962daefd52bcaf0/expr.ipynb\"><img src=\"../92dcdd199f78df57405194378f962daefd52bcaf0/expr.png\" style=\"display:inline;vertical-align:middle;\" /></a></td></tr>\n",
       "<tr><td>18</td><td>Operation</td><td>operator:&nbsp;30<br>operands:&nbsp;29<br></td><td><a class=\"ProveItLink\" href=\"../56a3e61828ec431744fbff6a1a85c149617bc5cf0/expr.ipynb\"><img src=\"../56a3e61828ec431744fbff6a1a85c149617bc5cf0/expr.png\" style=\"display:inline;vertical-align:middle;\" /></a></td></tr>\n",
       "<tr><td>19</td><td>Operation</td><td>operator:&nbsp;30<br>operands:&nbsp;31<br></td><td><a class=\"ProveItLink\" href=\"../c2aa04bf99ae24ec8b0363b3be1acdac5538f46b0/expr.ipynb\"><img src=\"../c2aa04bf99ae24ec8b0363b3be1acdac5538f46b0/expr.png\" style=\"display:inline;vertical-align:middle;\" /></a></td></tr>\n",
       "<tr><td>20</td><td>ExprTuple</td><td>35</td><td><a class=\"ProveItLink\" href=\"../0593fb3fd45e428ede78a1c9e57ad43924c1ecdd0/expr.ipynb\"><img src=\"../0593fb3fd45e428ede78a1c9e57ad43924c1ecdd0/expr.png\" style=\"display:inline;vertical-align:middle;\" /></a></td></tr>\n",
       "<tr><td>21</td><td>ExprTuple</td><td>36</td><td><a class=\"ProveItLink\" href=\"../012b0094f536af98194e412c455f1250186fffc30/expr.ipynb\"><img src=\"../012b0094f536af98194e412c455f1250186fffc30/expr.png\" style=\"display:inline;vertical-align:middle;\" /></a></td></tr>\n",
       "<tr><td>22</td><td>ExprTuple</td><td>35, 32</td><td><a class=\"ProveItLink\" href=\"../5b8642875a5af086e135f91f5fe6a0b1d15f8cb50/expr.ipynb\"><img src=\"../5b8642875a5af086e135f91f5fe6a0b1d15f8cb50/expr.png\" style=\"display:inline;vertical-align:middle;\" /></a></td></tr>\n",
       "<tr><td>23</td><td>ExprTuple</td><td>36, 32</td><td><a class=\"ProveItLink\" href=\"../b464bb5e9f3209bc967a4021ab40c71e0755ea4e0/expr.ipynb\"><img src=\"../b464bb5e9f3209bc967a4021ab40c71e0755ea4e0/expr.png\" style=\"display:inline;vertical-align:middle;\" /></a></td></tr>\n",
       "<tr><td>24</td><td>ExprTuple</td><td>40, 32</td><td><a class=\"ProveItLink\" href=\"../3975967f7ef362a6ffc4f55e9adce1bd0439031b0/expr.ipynb\"><img src=\"../3975967f7ef362a6ffc4f55e9adce1bd0439031b0/expr.png\" style=\"display:inline;vertical-align:middle;\" /></a></td></tr>\n",
       "<tr><td>25</td><td>Literal</td><td></td><td><a class=\"ProveItLink\" href=\"../../../../../sets/membership/__pv_it/common/7171deca84f71f47a6ec7696972d1632274a12880/expr.ipynb\"><img src=\"../../../../../sets/membership/__pv_it/common/7171deca84f71f47a6ec7696972d1632274a12880/expr.png\" style=\"display:inline;vertical-align:middle;\" /></a></td></tr>\n",
       "<tr><td>26</td><td>ExprTuple</td><td>41, 32</td><td><a class=\"ProveItLink\" href=\"../0a5e3790c0cf91316e53d32cf2904cebe7c36b320/expr.ipynb\"><img src=\"../0a5e3790c0cf91316e53d32cf2904cebe7c36b320/expr.png\" style=\"display:inline;vertical-align:middle;\" /></a></td></tr>\n",
       "<tr><td>27</td><td>Literal</td><td></td><td><a class=\"ProveItLink\" href=\"../../common/0e5dcae3232d8ebdc0777b8ce92ce453a450f6c30/expr.ipynb\"><img src=\"../../common/0e5dcae3232d8ebdc0777b8ce92ce453a450f6c30/expr.png\" style=\"display:inline;vertical-align:middle;\" /></a></td></tr>\n",
       "<tr><td>28</td><td>ExprTuple</td><td>33, 34</td><td><a class=\"ProveItLink\" href=\"../168c64d5f3315fb7721ced62ffc0f350c6ca72d40/expr.ipynb\"><img src=\"../168c64d5f3315fb7721ced62ffc0f350c6ca72d40/expr.png\" style=\"display:inline;vertical-align:middle;\" /></a></td></tr>\n",
       "<tr><td>29</td><td>ExprTuple</td><td>35, 40</td><td><a class=\"ProveItLink\" href=\"../8ebfe06b34fa87dcba6405df11cdfe4ac03d69d70/expr.ipynb\"><img src=\"../8ebfe06b34fa87dcba6405df11cdfe4ac03d69d70/expr.png\" style=\"display:inline;vertical-align:middle;\" /></a></td></tr>\n",
       "<tr><td>30</td><td>Literal</td><td></td><td><a class=\"ProveItLink\" href=\"../../../../implication/__pv_it/common/95a8cc69d34af52c7732e4a6fefbd5b63e8d31ba0/expr.ipynb\"><img src=\"../../../../implication/__pv_it/common/95a8cc69d34af52c7732e4a6fefbd5b63e8d31ba0/expr.png\" style=\"display:inline;vertical-align:middle;\" /></a></td></tr>\n",
       "<tr><td>31</td><td>ExprTuple</td><td>36, 41</td><td><a class=\"ProveItLink\" href=\"../d20d0eeb073519873a01dd5e5014549e4f8f71290/expr.ipynb\"><img src=\"../d20d0eeb073519873a01dd5e5014549e4f8f71290/expr.png\" style=\"display:inline;vertical-align:middle;\" /></a></td></tr>\n",
       "<tr><td>32</td><td>Literal</td><td></td><td><a class=\"ProveItLink\" href=\"../../../../__pv_it/common/8fc291135425020cce4ba1ad615843f54f1fc6600/expr.ipynb\"><img src=\"../../../../__pv_it/common/8fc291135425020cce4ba1ad615843f54f1fc6600/expr.png\" style=\"display:inline;vertical-align:middle;\" /></a></td></tr>\n",
       "<tr><td>33</td><td>Operation</td><td>operator:&nbsp;38<br>operand:&nbsp;40<br></td><td><a class=\"ProveItLink\" href=\"../5bd2a278c88a18758dd2d155b0e0f979a2724be30/expr.ipynb\"><img src=\"../5bd2a278c88a18758dd2d155b0e0f979a2724be30/expr.png\" style=\"display:inline;vertical-align:middle;\" /></a></td></tr>\n",
       "<tr><td>34</td><td>Operation</td><td>operator:&nbsp;38<br>operand:&nbsp;41<br></td><td><a class=\"ProveItLink\" href=\"../8aca6dff9a9b59349e84ad5276664f551047fdd90/expr.ipynb\"><img src=\"../8aca6dff9a9b59349e84ad5276664f551047fdd90/expr.png\" style=\"display:inline;vertical-align:middle;\" /></a></td></tr>\n",
       "<tr><td>35</td><td>Variable</td><td></td><td><a class=\"ProveItLink\" href=\"../../../../../../__pv_it/common/e4aad701f7f5516d8e7f0d805d518bf02c13322a0/expr.ipynb\"><img src=\"../../../../../../__pv_it/common/e4aad701f7f5516d8e7f0d805d518bf02c13322a0/expr.png\" style=\"display:inline;vertical-align:middle;\" /></a></td></tr>\n",
       "<tr><td>36</td><td>Variable</td><td></td><td><a class=\"ProveItLink\" href=\"../../../../../../__pv_it/common/4eca3b30dcf58a58494e201d1b7886d8643a617b0/expr.ipynb\"><img src=\"../../../../../../__pv_it/common/4eca3b30dcf58a58494e201d1b7886d8643a617b0/expr.png\" style=\"display:inline;vertical-align:middle;\" /></a></td></tr>\n",
       "<tr><td>37</td><td>ExprTuple</td><td>40</td><td><a class=\"ProveItLink\" href=\"../50970f9cde6123412316f6074e200f820b93573a0/expr.ipynb\"><img src=\"../50970f9cde6123412316f6074e200f820b93573a0/expr.png\" style=\"display:inline;vertical-align:middle;\" /></a></td></tr>\n",
       "<tr><td>38</td><td>Literal</td><td></td><td><a class=\"ProveItLink\" href=\"../../../../negation/__pv_it/common/44cff78c6737753417865a5233f827322c0f04ad0/expr.ipynb\"><img src=\"../../../../negation/__pv_it/common/44cff78c6737753417865a5233f827322c0f04ad0/expr.png\" style=\"display:inline;vertical-align:middle;\" /></a></td></tr>\n",
       "<tr><td>39</td><td>ExprTuple</td><td>41</td><td><a class=\"ProveItLink\" href=\"../d1dbb90f372acfb218aed0e91497b17e7f9202400/expr.ipynb\"><img src=\"../d1dbb90f372acfb218aed0e91497b17e7f9202400/expr.png\" style=\"display:inline;vertical-align:middle;\" /></a></td></tr>\n",
       "<tr><td>40</td><td>Variable</td><td></td><td><a class=\"ProveItLink\" href=\"../../../../../../__pv_it/common/c4a83a53f0ed6678b0c7a2d6d691a4b400f735c90/expr.ipynb\"><img src=\"../../../../../../__pv_it/common/c4a83a53f0ed6678b0c7a2d6d691a4b400f735c90/expr.png\" style=\"display:inline;vertical-align:middle;\" /></a></td></tr>\n",
       "<tr><td>41</td><td>Variable</td><td></td><td><a class=\"ProveItLink\" href=\"../../../../../../__pv_it/common/e5e296931d7f88d2c0ed4dd1b8498a680788952f0/expr.ipynb\"><img src=\"../../../../../../__pv_it/common/e5e296931d7f88d2c0ed4dd1b8498a680788952f0/expr.png\" style=\"display:inline;vertical-align:middle;\" /></a></td></tr>\n",
       "</table>\n"
      ],
      "text/plain": [
       "0. forall_{A, B, C, D in BOOLEAN | not(C) or not(D), A => C, B => D} (not(A) or not(B))\n",
       "   core type: Operation\n",
       "   operator: 1\n",
       "   operand: 3\n",
       "1. forall\n",
       "   core type: Literal\n",
       "   sub-expressions: \n",
       "2. ((A, B, C, D) -> {not(A) or not(B) if A in BOOLEAN ,  B in BOOLEAN ,  C in BOOLEAN ,  D in BOOLEAN ,  not(C) or not(D) ,  A => C ,  B => D.)\n",
       "   core type: ExprTuple\n",
       "   sub-expressions: 3\n",
       "3. (A, B, C, D) -> {not(A) or not(B) if A in BOOLEAN ,  B in BOOLEAN ,  C in BOOLEAN ,  D in BOOLEAN ,  not(C) or not(D) ,  A => C ,  B => D.\n",
       "   core type: Lambda\n",
       "   parameters: 4\\n   body: 5\n",
       "4. (A, B, C, D)\n",
       "   core type: ExprTuple\n",
       "   sub-expressions: 35, 36, 40, 41\n",
       "5. {not(A) or not(B) if A in BOOLEAN ,  B in BOOLEAN ,  C in BOOLEAN ,  D in BOOLEAN ,  not(C) or not(D) ,  A => C ,  B => D.\n",
       "   core type: Conditional\n",
       "   value: 6\n",
       "   condition: 7\n",
       "6. not(A) or not(B)\n",
       "   core type: Operation\n",
       "   operator: 27\n",
       "   operands: 8\n",
       "7. (A in BOOLEAN) and (B in BOOLEAN) and (C in BOOLEAN) and (D in BOOLEAN) and (not(C) or not(D)) and (A => C) and (B => D)\n",
       "   core type: Operation\n",
       "   operator: 9\n",
       "   operands: 10\n",
       "8. (not(A), not(B))\n",
       "   core type: ExprTuple\n",
       "   sub-expressions: 11, 12\n",
       "9. and\n",
       "   core type: Literal\n",
       "   sub-expressions: \n",
       "10. (A in BOOLEAN, B in BOOLEAN, C in BOOLEAN, D in BOOLEAN, not(C) or not(D), A => C, B => D)\n",
       "    core type: ExprTuple\n",
       "    sub-expressions: 13, 14, 15, 16, 17, 18, 19\n",
       "11. not(A)\n",
       "    core type: Operation\n",
       "    operator: 38\n",
       "    operand: 35\n",
       "12. not(B)\n",
       "    core type: Operation\n",
       "    operator: 38\n",
       "    operand: 36\n",
       "13. A in BOOLEAN\n",
       "    core type: Operation\n",
       "    operator: 25\n",
       "    operands: 22\n",
       "14. B in BOOLEAN\n",
       "    core type: Operation\n",
       "    operator: 25\n",
       "    operands: 23\n",
       "15. C in BOOLEAN\n",
       "    core type: Operation\n",
       "    operator: 25\n",
       "    operands: 24\n",
       "16. D in BOOLEAN\n",
       "    core type: Operation\n",
       "    operator: 25\n",
       "    operands: 26\n",
       "17. not(C) or not(D)\n",
       "    core type: Operation\n",
       "    operator: 27\n",
       "    operands: 28\n",
       "18. A => C\n",
       "    core type: Operation\n",
       "    operator: 30\n",
       "    operands: 29\n",
       "19. B => D\n",
       "    core type: Operation\n",
       "    operator: 30\n",
       "    operands: 31\n",
       "20. (A)\n",
       "    core type: ExprTuple\n",
       "    sub-expressions: 35\n",
       "21. (B)\n",
       "    core type: ExprTuple\n",
       "    sub-expressions: 36\n",
       "22. (A, BOOLEAN)\n",
       "    core type: ExprTuple\n",
       "    sub-expressions: 35, 32\n",
       "23. (B, BOOLEAN)\n",
       "    core type: ExprTuple\n",
       "    sub-expressions: 36, 32\n",
       "24. (C, BOOLEAN)\n",
       "    core type: ExprTuple\n",
       "    sub-expressions: 40, 32\n",
       "25. in\n",
       "    core type: Literal\n",
       "    sub-expressions: \n",
       "26. (D, BOOLEAN)\n",
       "    core type: ExprTuple\n",
       "    sub-expressions: 41, 32\n",
       "27. or\n",
       "    core type: Literal\n",
       "    sub-expressions: \n",
       "28. (not(C), not(D))\n",
       "    core type: ExprTuple\n",
       "    sub-expressions: 33, 34\n",
       "29. (A, C)\n",
       "    core type: ExprTuple\n",
       "    sub-expressions: 35, 40\n",
       "30. =>\n",
       "    core type: Literal\n",
       "    sub-expressions: \n",
       "31. (B, D)\n",
       "    core type: ExprTuple\n",
       "    sub-expressions: 36, 41\n",
       "32. BOOLEAN\n",
       "    core type: Literal\n",
       "    sub-expressions: \n",
       "33. not(C)\n",
       "    core type: Operation\n",
       "    operator: 38\n",
       "    operand: 40\n",
       "34. not(D)\n",
       "    core type: Operation\n",
       "    operator: 38\n",
       "    operand: 41\n",
       "35. A\n",
       "    core type: Variable\n",
       "    sub-expressions: \n",
       "36. B\n",
       "    core type: Variable\n",
       "    sub-expressions: \n",
       "37. (C)\n",
       "    core type: ExprTuple\n",
       "    sub-expressions: 40\n",
       "38. not\n",
       "    core type: Literal\n",
       "    sub-expressions: \n",
       "39. (D)\n",
       "    core type: ExprTuple\n",
       "    sub-expressions: 41\n",
       "40. C\n",
       "    core type: Variable\n",
       "    sub-expressions: \n",
       "41. D\n",
       "    core type: Variable\n",
       "    sub-expressions: "
      ]
     },
     "execution_count": 5,
     "metadata": {},
     "output_type": "execute_result"
    }
   ],
   "source": [
    "# display the expression information\n",
    "destructive_dilemma.expr_info()"
   ]
  },
  {
   "cell_type": "code",
   "execution_count": null,
   "metadata": {},
   "outputs": [],
   "source": []
  }
 ],
 "metadata": {
  "kernelspec": {
   "display_name": "Python 3",
   "language": "python",
   "name": "python3"
  }
 },
 "nbformat": 4,
 "nbformat_minor": 0
}