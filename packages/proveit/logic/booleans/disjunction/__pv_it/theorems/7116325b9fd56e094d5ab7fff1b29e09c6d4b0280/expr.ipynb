{
 "cells": [
  {
   "cell_type": "markdown",
   "metadata": {},
   "source": [
    "Expression of type <a class=\"ProveItLink\" href=\"../../../../../../../../doc/html/api/proveit.ExprTuple.html\">ExprTuple</a>\n",
    "=======================\n",
    "# from the theory of <a class=\"ProveItLink\" href=\"../../../_theory_nbs_/theory.ipynb\">proveit.logic.booleans.disjunction</a>"
   ]
  },
  {
   "cell_type": "code",
   "execution_count": 1,
   "metadata": {},
   "outputs": [],
   "source": [
    "import proveit\n",
    "# Automation is not needed when building an expression:\n",
    "proveit.defaults.automation = False # This will speed things up.\n",
    "proveit.defaults.inline_pngs = False # Makes files smaller.\n",
    "%load_expr # Load the stored expression as 'stored_expr'\n",
    "# import Expression classes needed to build the expression\n",
    "from proveit import A, B, C, Conditional, D, ExprRange, ExprTuple, IndexedVar, Lambda, Variable, l, m, n\n",
    "from proveit.core_expr_types import A_1_to_l, B_1_to_m, D_1_to_n\n",
    "from proveit.logic import And, Boolean, Equals, InSet, Or\n",
    "from proveit.numbers import one"
   ]
  },
  {
   "cell_type": "code",
   "execution_count": 2,
   "metadata": {},
   "outputs": [
    {
     "data": {
      "text/html": [
       "<strong id=\"expr\">expr:</strong> <a class=\"ProveItLink\" href=\"expr.ipynb\"><img src=\"expr.png\" style=\"display:inline;vertical-align:middle;\" /></a><br>"
      ],
      "text/plain": [
       "expr: ((A_{1}, ..A_{_a}.., A_{l}, B_{1}, ..B_{_a}.., B_{m}, C, D_{1}, ..D_{_a}.., D_{n}) -> {(A_{1} or ..A_{_a}.. or A_{l} or B_{1} or ..B_{_a}.. or B_{m} or C or D_{1} or ..D_{_a}.. or D_{n}) =  \\\\ (A_{1} or ..A_{_a}.. or A_{l} or C or B_{1} or ..B_{_a}.. or B_{m} or D_{1} or ..D_{_a}.. or D_{n}) if A_{1} in BOOLEAN ,  ..A_{_a} in BOOLEAN.. ,  A_{l} in BOOLEAN ,  B_{1} in BOOLEAN ,  ..B_{_a} in BOOLEAN.. ,  B_{m} in BOOLEAN ,  C in BOOLEAN ,  D_{1} in BOOLEAN ,  ..D_{_a} in BOOLEAN.. ,  D_{n} in BOOLEAN.)"
      ]
     },
     "execution_count": 2,
     "metadata": {},
     "output_type": "execute_result"
    }
   ],
   "source": [
    "# build up the expression from sub-expressions\n",
    "sub_expr1 = Variable(\"_a\", latex_format = r\"{_{-}a}\")\n",
    "expr = ExprTuple(Lambda([A_1_to_l, B_1_to_m, C, D_1_to_n], Conditional(Equals(Or(A_1_to_l, B_1_to_m, C, D_1_to_n), Or(A_1_to_l, C, B_1_to_m, D_1_to_n)).with_wrapping_at(2), And(ExprRange(sub_expr1, InSet(IndexedVar(A, sub_expr1), Boolean), one, l), ExprRange(sub_expr1, InSet(IndexedVar(B, sub_expr1), Boolean), one, m), InSet(C, Boolean), ExprRange(sub_expr1, InSet(IndexedVar(D, sub_expr1), Boolean), one, n)))))"
   ]
  },
  {
   "cell_type": "code",
   "execution_count": 3,
   "metadata": {},
   "outputs": [
    {
     "name": "stdout",
     "output_type": "stream",
     "text": [
      "Passed sanity check: expr matches stored_expr\n"
     ]
    }
   ],
   "source": [
    "# check that the built expression is the same as the stored expression\n",
    "assert expr == stored_expr\n",
    "assert expr._style_id == stored_expr._style_id\n",
    "print(\"Passed sanity check: expr matches stored_expr\")"
   ]
  },
  {
   "cell_type": "code",
   "execution_count": 4,
   "metadata": {},
   "outputs": [
    {
     "name": "stdout",
     "output_type": "stream",
     "text": [
      "\\left(\\left(A_{1}, \\ldots, A_{l}, B_{1}, \\ldots, B_{m}, C, D_{1}, \\ldots, D_{n}\\right) \\mapsto \\left\\{\\begin{array}{c} \\begin{array}{l} \\left(A_{1} \\lor \\ldots \\lor A_{l} \\lor B_{1} \\lor \\ldots \\lor B_{m} \\lor C \\lor D_{1} \\lor \\ldots \\lor D_{n}\\right) =  \\\\ \\left(A_{1} \\lor \\ldots \\lor A_{l} \\lor C \\lor B_{1} \\lor \\ldots \\lor B_{m} \\lor D_{1} \\lor \\ldots \\lor D_{n}\\right) \\end{array} \\end{array} \\textrm{ if } A_{1} \\in \\mathbb{B} ,  \\ldots ,  A_{l} \\in \\mathbb{B} ,  B_{1} \\in \\mathbb{B} ,  \\ldots ,  B_{m} \\in \\mathbb{B} ,  C \\in \\mathbb{B} ,  D_{1} \\in \\mathbb{B} ,  \\ldots ,  D_{n} \\in \\mathbb{B}\\right..\\right)\n"
     ]
    }
   ],
   "source": [
    "# Show the LaTeX representation of the expression for convenience if you need it.\n",
    "print(expr.latex())"
   ]
  },
  {
   "cell_type": "code",
   "execution_count": 5,
   "metadata": {},
   "outputs": [
    {
     "data": {
      "text/html": [
       "no style options"
      ],
      "text/plain": [
       "no style options"
      ]
     },
     "execution_count": 5,
     "metadata": {},
     "output_type": "execute_result"
    }
   ],
   "source": [
    "expr.style_options()"
   ]
  },
  {
   "cell_type": "code",
   "execution_count": 6,
   "metadata": {},
   "outputs": [
    {
     "data": {
      "text/html": [
       "<table><tr><th>&nbsp;</th><th>core type</th><th>sub-expressions</th><th>expression</th></tr>\n",
       "<tr><td>0</td><td>ExprTuple</td><td>1</td><td><a class=\"ProveItLink\" href=\"expr.ipynb\"><img src=\"expr.png\" style=\"display:inline;vertical-align:middle;\" /></a></td></tr>\n",
       "<tr><td>1</td><td>Lambda</td><td>parameters:&nbsp;15<br>body:&nbsp;2<br></td><td><a class=\"ProveItLink\" href=\"../ff63a975096d62cb1f0c7b8b3dc242b8382cad230/expr.ipynb\"><img src=\"../ff63a975096d62cb1f0c7b8b3dc242b8382cad230/expr.png\" style=\"display:inline;vertical-align:middle;\" /></a></td></tr>\n",
       "<tr><td>2</td><td>Conditional</td><td>value:&nbsp;3<br>condition:&nbsp;4<br></td><td><a class=\"ProveItLink\" href=\"../57ebcde7e3a26ffed855205a5333ae31e1bd8ee20/expr.ipynb\"><img src=\"../57ebcde7e3a26ffed855205a5333ae31e1bd8ee20/expr.png\" style=\"display:inline;vertical-align:middle;\" /></a></td></tr>\n",
       "<tr><td>3</td><td>Operation</td><td>operator:&nbsp;5<br>operands:&nbsp;6<br></td><td><a class=\"ProveItLink\" href=\"../bb8d45f1b976f882a07500b9ab9cb3120c5958650/expr.ipynb\"><img src=\"../bb8d45f1b976f882a07500b9ab9cb3120c5958650/expr.png\" style=\"display:inline;vertical-align:middle;\" /></a></td></tr>\n",
       "<tr><td>4</td><td>Operation</td><td>operator:&nbsp;7<br>operands:&nbsp;8<br></td><td><a class=\"ProveItLink\" href=\"../1ff8310c2b5003c1c1c89930f9bc4d3253e05aea0/expr.ipynb\"><img src=\"../1ff8310c2b5003c1c1c89930f9bc4d3253e05aea0/expr.png\" style=\"display:inline;vertical-align:middle;\" /></a></td></tr>\n",
       "<tr><td>5</td><td>Literal</td><td></td><td><a class=\"ProveItLink\" href=\"../../../../../equality/__pv_it/common/731dd3955b346c1320ed5c0ba7a618bcda61457d0/expr.ipynb\"><img src=\"../../../../../equality/__pv_it/common/731dd3955b346c1320ed5c0ba7a618bcda61457d0/expr.png\" style=\"display:inline;vertical-align:middle;\" /></a></td></tr>\n",
       "<tr><td>6</td><td>ExprTuple</td><td>9, 10</td><td><a class=\"ProveItLink\" href=\"../632300a6d813055bb835ef1ac0be3a545c4184020/expr.ipynb\"><img src=\"../632300a6d813055bb835ef1ac0be3a545c4184020/expr.png\" style=\"display:inline;vertical-align:middle;\" /></a></td></tr>\n",
       "<tr><td>7</td><td>Literal</td><td></td><td><a class=\"ProveItLink\" href=\"../../../../conjunction/__pv_it/common/26b94b53e70b1d77b70f0d9d4236347db37731060/expr.ipynb\"><img src=\"../../../../conjunction/__pv_it/common/26b94b53e70b1d77b70f0d9d4236347db37731060/expr.png\" style=\"display:inline;vertical-align:middle;\" /></a></td></tr>\n",
       "<tr><td>8</td><td>ExprTuple</td><td>11, 12, 13, 14</td><td><a class=\"ProveItLink\" href=\"../dd03bde57f9d943f545b6f9e34a7fa6a68bcd2870/expr.ipynb\"><img src=\"../dd03bde57f9d943f545b6f9e34a7fa6a68bcd2870/expr.png\" style=\"display:inline;vertical-align:middle;\" /></a></td></tr>\n",
       "<tr><td>9</td><td>Operation</td><td>operator:&nbsp;16<br>operands:&nbsp;15<br></td><td><a class=\"ProveItLink\" href=\"../5ed7840d90d38395e09016419bf8313f626364ac0/expr.ipynb\"><img src=\"../5ed7840d90d38395e09016419bf8313f626364ac0/expr.png\" style=\"display:inline;vertical-align:middle;\" /></a></td></tr>\n",
       "<tr><td>10</td><td>Operation</td><td>operator:&nbsp;16<br>operands:&nbsp;17<br></td><td><a class=\"ProveItLink\" href=\"../e486ddcc8176014f14b31f7f3c8746736ce9d9d90/expr.ipynb\"><img src=\"../e486ddcc8176014f14b31f7f3c8746736ce9d9d90/expr.png\" style=\"display:inline;vertical-align:middle;\" /></a></td></tr>\n",
       "<tr><td>11</td><td>ExprRange</td><td>lambda_map:&nbsp;18<br>start_index:&nbsp;34<br>end_index:&nbsp;30<br></td><td><a class=\"ProveItLink\" href=\"../0cfb2f1a6e3e8d9859d7cfde14e770607df7cc8c0/expr.ipynb\"><img src=\"../0cfb2f1a6e3e8d9859d7cfde14e770607df7cc8c0/expr.png\" style=\"display:inline;vertical-align:middle;\" /></a></td></tr>\n",
       "<tr><td>12</td><td>ExprRange</td><td>lambda_map:&nbsp;19<br>start_index:&nbsp;34<br>end_index:&nbsp;32<br></td><td><a class=\"ProveItLink\" href=\"../3a06db1652d241259c5cd847e2a6e39bfc8bb06e0/expr.ipynb\"><img src=\"../3a06db1652d241259c5cd847e2a6e39bfc8bb06e0/expr.png\" style=\"display:inline;vertical-align:middle;\" /></a></td></tr>\n",
       "<tr><td>13</td><td>Operation</td><td>operator:&nbsp;38<br>operands:&nbsp;20<br></td><td><a class=\"ProveItLink\" href=\"../6d4a76c8afef1311edaf37cd3d7c58f6a0f3bae70/expr.ipynb\"><img src=\"../6d4a76c8afef1311edaf37cd3d7c58f6a0f3bae70/expr.png\" style=\"display:inline;vertical-align:middle;\" /></a></td></tr>\n",
       "<tr><td>14</td><td>ExprRange</td><td>lambda_map:&nbsp;21<br>start_index:&nbsp;34<br>end_index:&nbsp;35<br></td><td><a class=\"ProveItLink\" href=\"../5d174897231aba46c24b20cd8f6d78f3a7ef6d4d0/expr.ipynb\"><img src=\"../5d174897231aba46c24b20cd8f6d78f3a7ef6d4d0/expr.png\" style=\"display:inline;vertical-align:middle;\" /></a></td></tr>\n",
       "<tr><td>15</td><td>ExprTuple</td><td>22, 23, 27, 24</td><td><a class=\"ProveItLink\" href=\"../75fe47406816d3de21d9fd8a5cd7ec2bdd6d40b20/expr.ipynb\"><img src=\"../75fe47406816d3de21d9fd8a5cd7ec2bdd6d40b20/expr.png\" style=\"display:inline;vertical-align:middle;\" /></a></td></tr>\n",
       "<tr><td>16</td><td>Literal</td><td></td><td><a class=\"ProveItLink\" href=\"../../common/0e5dcae3232d8ebdc0777b8ce92ce453a450f6c30/expr.ipynb\"><img src=\"../../common/0e5dcae3232d8ebdc0777b8ce92ce453a450f6c30/expr.png\" style=\"display:inline;vertical-align:middle;\" /></a></td></tr>\n",
       "<tr><td>17</td><td>ExprTuple</td><td>22, 27, 23, 24</td><td><a class=\"ProveItLink\" href=\"../2297d1067155dfff01e12c53e3986887ba5bfe610/expr.ipynb\"><img src=\"../2297d1067155dfff01e12c53e3986887ba5bfe610/expr.png\" style=\"display:inline;vertical-align:middle;\" /></a></td></tr>\n",
       "<tr><td>18</td><td>Lambda</td><td>parameter:&nbsp;48<br>body:&nbsp;25<br></td><td><a class=\"ProveItLink\" href=\"../57ad99e7c548004330720c8120fe2f3f488dfd7b0/expr.ipynb\"><img src=\"../57ad99e7c548004330720c8120fe2f3f488dfd7b0/expr.png\" style=\"display:inline;vertical-align:middle;\" /></a></td></tr>\n",
       "<tr><td>19</td><td>Lambda</td><td>parameter:&nbsp;48<br>body:&nbsp;26<br></td><td><a class=\"ProveItLink\" href=\"../4c1cf5ed1b6aedd1b1fb9b5b873b1f819f8be3800/expr.ipynb\"><img src=\"../4c1cf5ed1b6aedd1b1fb9b5b873b1f819f8be3800/expr.png\" style=\"display:inline;vertical-align:middle;\" /></a></td></tr>\n",
       "<tr><td>20</td><td>ExprTuple</td><td>27, 43</td><td><a class=\"ProveItLink\" href=\"../3975967f7ef362a6ffc4f55e9adce1bd0439031b0/expr.ipynb\"><img src=\"../3975967f7ef362a6ffc4f55e9adce1bd0439031b0/expr.png\" style=\"display:inline;vertical-align:middle;\" /></a></td></tr>\n",
       "<tr><td>21</td><td>Lambda</td><td>parameter:&nbsp;48<br>body:&nbsp;28<br></td><td><a class=\"ProveItLink\" href=\"../53721c14ae9185312e0066cdf38882707fbc8e5c0/expr.ipynb\"><img src=\"../53721c14ae9185312e0066cdf38882707fbc8e5c0/expr.png\" style=\"display:inline;vertical-align:middle;\" /></a></td></tr>\n",
       "<tr><td>22</td><td>ExprRange</td><td>lambda_map:&nbsp;29<br>start_index:&nbsp;34<br>end_index:&nbsp;30<br></td><td><a class=\"ProveItLink\" href=\"../../../../../../core_expr_types/__pv_it/common/81aae054bf8437fbcb7d7ac65ef1a6845e9b5b150/expr.ipynb\"><img src=\"../../../../../../core_expr_types/__pv_it/common/81aae054bf8437fbcb7d7ac65ef1a6845e9b5b150/expr.png\" style=\"display:inline;vertical-align:middle;\" /></a></td></tr>\n",
       "<tr><td>23</td><td>ExprRange</td><td>lambda_map:&nbsp;31<br>start_index:&nbsp;34<br>end_index:&nbsp;32<br></td><td><a class=\"ProveItLink\" href=\"../../../../../../core_expr_types/__pv_it/common/4c9bca4d56fb4cb84c4e790e95e569e3667263f10/expr.ipynb\"><img src=\"../../../../../../core_expr_types/__pv_it/common/4c9bca4d56fb4cb84c4e790e95e569e3667263f10/expr.png\" style=\"display:inline;vertical-align:middle;\" /></a></td></tr>\n",
       "<tr><td>24</td><td>ExprRange</td><td>lambda_map:&nbsp;33<br>start_index:&nbsp;34<br>end_index:&nbsp;35<br></td><td><a class=\"ProveItLink\" href=\"../../../../../../core_expr_types/__pv_it/common/3ed78a0573846b3421ed45b0b24be09d4c7d3cee0/expr.ipynb\"><img src=\"../../../../../../core_expr_types/__pv_it/common/3ed78a0573846b3421ed45b0b24be09d4c7d3cee0/expr.png\" style=\"display:inline;vertical-align:middle;\" /></a></td></tr>\n",
       "<tr><td>25</td><td>Operation</td><td>operator:&nbsp;38<br>operands:&nbsp;36<br></td><td><a class=\"ProveItLink\" href=\"../55edfe981d91e57d14ee559c772a50bf666d0ed20/expr.ipynb\"><img src=\"../55edfe981d91e57d14ee559c772a50bf666d0ed20/expr.png\" style=\"display:inline;vertical-align:middle;\" /></a></td></tr>\n",
       "<tr><td>26</td><td>Operation</td><td>operator:&nbsp;38<br>operands:&nbsp;37<br></td><td><a class=\"ProveItLink\" href=\"../71e968e00fe008f01ab572c1ddf1b9244cd16b850/expr.ipynb\"><img src=\"../71e968e00fe008f01ab572c1ddf1b9244cd16b850/expr.png\" style=\"display:inline;vertical-align:middle;\" /></a></td></tr>\n",
       "<tr><td>27</td><td>Variable</td><td></td><td><a class=\"ProveItLink\" href=\"../../../../../../__pv_it/common/c4a83a53f0ed6678b0c7a2d6d691a4b400f735c90/expr.ipynb\"><img src=\"../../../../../../__pv_it/common/c4a83a53f0ed6678b0c7a2d6d691a4b400f735c90/expr.png\" style=\"display:inline;vertical-align:middle;\" /></a></td></tr>\n",
       "<tr><td>28</td><td>Operation</td><td>operator:&nbsp;38<br>operands:&nbsp;39<br></td><td><a class=\"ProveItLink\" href=\"../81265f313ee1eb037fd3d71e58a1fcd78c8e7d760/expr.ipynb\"><img src=\"../81265f313ee1eb037fd3d71e58a1fcd78c8e7d760/expr.png\" style=\"display:inline;vertical-align:middle;\" /></a></td></tr>\n",
       "<tr><td>29</td><td>Lambda</td><td>parameter:&nbsp;48<br>body:&nbsp;40<br></td><td><a class=\"ProveItLink\" href=\"../../../../../../core_expr_types/__pv_it/common/7cb3671e4363a47742a54e63b73ddf8e8fe2c9390/expr.ipynb\"><img src=\"../../../../../../core_expr_types/__pv_it/common/7cb3671e4363a47742a54e63b73ddf8e8fe2c9390/expr.png\" style=\"display:inline;vertical-align:middle;\" /></a></td></tr>\n",
       "<tr><td>30</td><td>Variable</td><td></td><td><a class=\"ProveItLink\" href=\"../../../../../../__pv_it/common/5f60d32873626c7ce57e35d1d9e427fb112cfe7a0/expr.ipynb\"><img src=\"../../../../../../__pv_it/common/5f60d32873626c7ce57e35d1d9e427fb112cfe7a0/expr.png\" style=\"display:inline;vertical-align:middle;\" /></a></td></tr>\n",
       "<tr><td>31</td><td>Lambda</td><td>parameter:&nbsp;48<br>body:&nbsp;41<br></td><td><a class=\"ProveItLink\" href=\"../../../../../../core_expr_types/__pv_it/common/02c8c006a9ec368154b7bff99c95899c5fb743200/expr.ipynb\"><img src=\"../../../../../../core_expr_types/__pv_it/common/02c8c006a9ec368154b7bff99c95899c5fb743200/expr.png\" style=\"display:inline;vertical-align:middle;\" /></a></td></tr>\n",
       "<tr><td>32</td><td>Variable</td><td></td><td><a class=\"ProveItLink\" href=\"../../../../../../__pv_it/common/2dc4f15b3407a25e8d70754a86bf74f1871f92650/expr.ipynb\"><img src=\"../../../../../../__pv_it/common/2dc4f15b3407a25e8d70754a86bf74f1871f92650/expr.png\" style=\"display:inline;vertical-align:middle;\" /></a></td></tr>\n",
       "<tr><td>33</td><td>Lambda</td><td>parameter:&nbsp;48<br>body:&nbsp;42<br></td><td><a class=\"ProveItLink\" href=\"../../../../../../core_expr_types/__pv_it/common/bf3815308de7cd6e79cf5a8b71344e821ff307b30/expr.ipynb\"><img src=\"../../../../../../core_expr_types/__pv_it/common/bf3815308de7cd6e79cf5a8b71344e821ff307b30/expr.png\" style=\"display:inline;vertical-align:middle;\" /></a></td></tr>\n",
       "<tr><td>34</td><td>Literal</td><td></td><td><a class=\"ProveItLink\" href=\"../../../../../../numbers/numerals/__pv_it/common/d278e359da0695d9652dd541d45264f93703e2e40/expr.ipynb\"><img src=\"../../../../../../numbers/numerals/__pv_it/common/d278e359da0695d9652dd541d45264f93703e2e40/expr.png\" style=\"display:inline;vertical-align:middle;\" /></a></td></tr>\n",
       "<tr><td>35</td><td>Variable</td><td></td><td><a class=\"ProveItLink\" href=\"../../../../../../__pv_it/common/6165c9bb82ce3c7097cdba4440a1aeeb6eaca8a40/expr.ipynb\"><img src=\"../../../../../../__pv_it/common/6165c9bb82ce3c7097cdba4440a1aeeb6eaca8a40/expr.png\" style=\"display:inline;vertical-align:middle;\" /></a></td></tr>\n",
       "<tr><td>36</td><td>ExprTuple</td><td>40, 43</td><td><a class=\"ProveItLink\" href=\"../0abcd98583fac5283d1d91942b1fa1206b700a840/expr.ipynb\"><img src=\"../0abcd98583fac5283d1d91942b1fa1206b700a840/expr.png\" style=\"display:inline;vertical-align:middle;\" /></a></td></tr>\n",
       "<tr><td>37</td><td>ExprTuple</td><td>41, 43</td><td><a class=\"ProveItLink\" href=\"../20ec04de41c62c0e23c2a14dc31b809126587ad10/expr.ipynb\"><img src=\"../20ec04de41c62c0e23c2a14dc31b809126587ad10/expr.png\" style=\"display:inline;vertical-align:middle;\" /></a></td></tr>\n",
       "<tr><td>38</td><td>Literal</td><td></td><td><a class=\"ProveItLink\" href=\"../../../../../sets/membership/__pv_it/common/7171deca84f71f47a6ec7696972d1632274a12880/expr.ipynb\"><img src=\"../../../../../sets/membership/__pv_it/common/7171deca84f71f47a6ec7696972d1632274a12880/expr.png\" style=\"display:inline;vertical-align:middle;\" /></a></td></tr>\n",
       "<tr><td>39</td><td>ExprTuple</td><td>42, 43</td><td><a class=\"ProveItLink\" href=\"../d7231f1b371fa72caa392340d7fbfa908eb1be230/expr.ipynb\"><img src=\"../d7231f1b371fa72caa392340d7fbfa908eb1be230/expr.png\" style=\"display:inline;vertical-align:middle;\" /></a></td></tr>\n",
       "<tr><td>40</td><td>IndexedVar</td><td>variable:&nbsp;44<br>index:&nbsp;48<br></td><td><a class=\"ProveItLink\" href=\"../../../../../../core_expr_types/__pv_it/common/44c047560b26e24c2a9af7e0d00ef8bc5e74e7580/expr.ipynb\"><img src=\"../../../../../../core_expr_types/__pv_it/common/44c047560b26e24c2a9af7e0d00ef8bc5e74e7580/expr.png\" style=\"display:inline;vertical-align:middle;\" /></a></td></tr>\n",
       "<tr><td>41</td><td>IndexedVar</td><td>variable:&nbsp;45<br>index:&nbsp;48<br></td><td><a class=\"ProveItLink\" href=\"../../../../../../core_expr_types/__pv_it/common/ea3ee9a0627bf44c889015ae8c7679796d32e3c60/expr.ipynb\"><img src=\"../../../../../../core_expr_types/__pv_it/common/ea3ee9a0627bf44c889015ae8c7679796d32e3c60/expr.png\" style=\"display:inline;vertical-align:middle;\" /></a></td></tr>\n",
       "<tr><td>42</td><td>IndexedVar</td><td>variable:&nbsp;46<br>index:&nbsp;48<br></td><td><a class=\"ProveItLink\" href=\"../../../../../../core_expr_types/__pv_it/common/1ada030c912c610d50fdaae446346fff369f9e480/expr.ipynb\"><img src=\"../../../../../../core_expr_types/__pv_it/common/1ada030c912c610d50fdaae446346fff369f9e480/expr.png\" style=\"display:inline;vertical-align:middle;\" /></a></td></tr>\n",
       "<tr><td>43</td><td>Literal</td><td></td><td><a class=\"ProveItLink\" href=\"../../../../__pv_it/common/8fc291135425020cce4ba1ad615843f54f1fc6600/expr.ipynb\"><img src=\"../../../../__pv_it/common/8fc291135425020cce4ba1ad615843f54f1fc6600/expr.png\" style=\"display:inline;vertical-align:middle;\" /></a></td></tr>\n",
       "<tr><td>44</td><td>Variable</td><td></td><td><a class=\"ProveItLink\" href=\"../../../../../../__pv_it/common/e4aad701f7f5516d8e7f0d805d518bf02c13322a0/expr.ipynb\"><img src=\"../../../../../../__pv_it/common/e4aad701f7f5516d8e7f0d805d518bf02c13322a0/expr.png\" style=\"display:inline;vertical-align:middle;\" /></a></td></tr>\n",
       "<tr><td>45</td><td>Variable</td><td></td><td><a class=\"ProveItLink\" href=\"../../../../../../__pv_it/common/4eca3b30dcf58a58494e201d1b7886d8643a617b0/expr.ipynb\"><img src=\"../../../../../../__pv_it/common/4eca3b30dcf58a58494e201d1b7886d8643a617b0/expr.png\" style=\"display:inline;vertical-align:middle;\" /></a></td></tr>\n",
       "<tr><td>46</td><td>Variable</td><td></td><td><a class=\"ProveItLink\" href=\"../../../../../../__pv_it/common/e5e296931d7f88d2c0ed4dd1b8498a680788952f0/expr.ipynb\"><img src=\"../../../../../../__pv_it/common/e5e296931d7f88d2c0ed4dd1b8498a680788952f0/expr.png\" style=\"display:inline;vertical-align:middle;\" /></a></td></tr>\n",
       "<tr><td>47</td><td>ExprTuple</td><td>48</td><td><a class=\"ProveItLink\" href=\"../../../../../../core_expr_types/__pv_it/common/ecf50ade416ab41c42c9f4e777b4c862cd9469670/expr.ipynb\"><img src=\"../../../../../../core_expr_types/__pv_it/common/ecf50ade416ab41c42c9f4e777b4c862cd9469670/expr.png\" style=\"display:inline;vertical-align:middle;\" /></a></td></tr>\n",
       "<tr><td>48</td><td>Variable</td><td></td><td><a class=\"ProveItLink\" href=\"../../../../../../core_expr_types/__pv_it/common/9e6d9d5d7eeb0342cf5bca68def0eb165a1a9bb10/expr.ipynb\"><img src=\"../../../../../../core_expr_types/__pv_it/common/9e6d9d5d7eeb0342cf5bca68def0eb165a1a9bb10/expr.png\" style=\"display:inline;vertical-align:middle;\" /></a></td></tr>\n",
       "</table>\n"
      ],
      "text/plain": [
       "0. ((A_{1}, ..A_{_a}.., A_{l}, B_{1}, ..B_{_a}.., B_{m}, C, D_{1}, ..D_{_a}.., D_{n}) -> {(A_{1} or ..A_{_a}.. or A_{l} or B_{1} or ..B_{_a}.. or B_{m} or C or D_{1} or ..D_{_a}.. or D_{n}) =  \\\\ (A_{1} or ..A_{_a}.. or A_{l} or C or B_{1} or ..B_{_a}.. or B_{m} or D_{1} or ..D_{_a}.. or D_{n}) if A_{1} in BOOLEAN ,  ..A_{_a} in BOOLEAN.. ,  A_{l} in BOOLEAN ,  B_{1} in BOOLEAN ,  ..B_{_a} in BOOLEAN.. ,  B_{m} in BOOLEAN ,  C in BOOLEAN ,  D_{1} in BOOLEAN ,  ..D_{_a} in BOOLEAN.. ,  D_{n} in BOOLEAN.)\n",
       "   core type: ExprTuple\n",
       "   sub-expressions: 1\n",
       "1. (A_{1}, ..A_{_a}.., A_{l}, B_{1}, ..B_{_a}.., B_{m}, C, D_{1}, ..D_{_a}.., D_{n}) -> {(A_{1} or ..A_{_a}.. or A_{l} or B_{1} or ..B_{_a}.. or B_{m} or C or D_{1} or ..D_{_a}.. or D_{n}) =  \\\\ (A_{1} or ..A_{_a}.. or A_{l} or C or B_{1} or ..B_{_a}.. or B_{m} or D_{1} or ..D_{_a}.. or D_{n}) if A_{1} in BOOLEAN ,  ..A_{_a} in BOOLEAN.. ,  A_{l} in BOOLEAN ,  B_{1} in BOOLEAN ,  ..B_{_a} in BOOLEAN.. ,  B_{m} in BOOLEAN ,  C in BOOLEAN ,  D_{1} in BOOLEAN ,  ..D_{_a} in BOOLEAN.. ,  D_{n} in BOOLEAN.\n",
       "   core type: Lambda\n",
       "   parameters: 15\\n   body: 2\n",
       "2. {(A_{1} or ..A_{_a}.. or A_{l} or B_{1} or ..B_{_a}.. or B_{m} or C or D_{1} or ..D_{_a}.. or D_{n}) =  \\\\ (A_{1} or ..A_{_a}.. or A_{l} or C or B_{1} or ..B_{_a}.. or B_{m} or D_{1} or ..D_{_a}.. or D_{n}) if A_{1} in BOOLEAN ,  ..A_{_a} in BOOLEAN.. ,  A_{l} in BOOLEAN ,  B_{1} in BOOLEAN ,  ..B_{_a} in BOOLEAN.. ,  B_{m} in BOOLEAN ,  C in BOOLEAN ,  D_{1} in BOOLEAN ,  ..D_{_a} in BOOLEAN.. ,  D_{n} in BOOLEAN.\n",
       "   core type: Conditional\n",
       "   value: 3\n",
       "   condition: 4\n",
       "3. (A_{1} or ..A_{_a}.. or A_{l} or B_{1} or ..B_{_a}.. or B_{m} or C or D_{1} or ..D_{_a}.. or D_{n}) =  \\\\ (A_{1} or ..A_{_a}.. or A_{l} or C or B_{1} or ..B_{_a}.. or B_{m} or D_{1} or ..D_{_a}.. or D_{n})\n",
       "   core type: Operation\n",
       "   operator: 5\n",
       "   operands: 6\n",
       "4. (A_{1} in BOOLEAN) and ..(A_{_a} in BOOLEAN).. and (A_{l} in BOOLEAN) and (B_{1} in BOOLEAN) and ..(B_{_a} in BOOLEAN).. and (B_{m} in BOOLEAN) and (C in BOOLEAN) and (D_{1} in BOOLEAN) and ..(D_{_a} in BOOLEAN).. and (D_{n} in BOOLEAN)\n",
       "   core type: Operation\n",
       "   operator: 7\n",
       "   operands: 8\n",
       "5. =\n",
       "   core type: Literal\n",
       "   sub-expressions: \n",
       "6. (A_{1} or ..A_{_a}.. or A_{l} or B_{1} or ..B_{_a}.. or B_{m} or C or D_{1} or ..D_{_a}.. or D_{n}, A_{1} or ..A_{_a}.. or A_{l} or C or B_{1} or ..B_{_a}.. or B_{m} or D_{1} or ..D_{_a}.. or D_{n})\n",
       "   core type: ExprTuple\n",
       "   sub-expressions: 9, 10\n",
       "7. and\n",
       "   core type: Literal\n",
       "   sub-expressions: \n",
       "8. (A_{1} in BOOLEAN, ..A_{_a} in BOOLEAN.., A_{l} in BOOLEAN, B_{1} in BOOLEAN, ..B_{_a} in BOOLEAN.., B_{m} in BOOLEAN, C in BOOLEAN, D_{1} in BOOLEAN, ..D_{_a} in BOOLEAN.., D_{n} in BOOLEAN)\n",
       "   core type: ExprTuple\n",
       "   sub-expressions: 11, 12, 13, 14\n",
       "9. A_{1} or ..A_{_a}.. or A_{l} or B_{1} or ..B_{_a}.. or B_{m} or C or D_{1} or ..D_{_a}.. or D_{n}\n",
       "   core type: Operation\n",
       "   operator: 16\n",
       "   operands: 15\n",
       "10. A_{1} or ..A_{_a}.. or A_{l} or C or B_{1} or ..B_{_a}.. or B_{m} or D_{1} or ..D_{_a}.. or D_{n}\n",
       "    core type: Operation\n",
       "    operator: 16\n",
       "    operands: 17\n",
       "11. (A_{1} in BOOLEAN), ..(A_{_a} in BOOLEAN).., (A_{l} in BOOLEAN)\n",
       "    core type: ExprRange\n",
       "    lambda_map: 18\n",
       "    start_index: 34\n",
       "    end_index: 30\n",
       "12. (B_{1} in BOOLEAN), ..(B_{_a} in BOOLEAN).., (B_{m} in BOOLEAN)\n",
       "    core type: ExprRange\n",
       "    lambda_map: 19\n",
       "    start_index: 34\n",
       "    end_index: 32\n",
       "13. C in BOOLEAN\n",
       "    core type: Operation\n",
       "    operator: 38\n",
       "    operands: 20\n",
       "14. (D_{1} in BOOLEAN), ..(D_{_a} in BOOLEAN).., (D_{n} in BOOLEAN)\n",
       "    core type: ExprRange\n",
       "    lambda_map: 21\n",
       "    start_index: 34\n",
       "    end_index: 35\n",
       "15. (A_{1}, ..A_{_a}.., A_{l}, B_{1}, ..B_{_a}.., B_{m}, C, D_{1}, ..D_{_a}.., D_{n})\n",
       "    core type: ExprTuple\n",
       "    sub-expressions: 22, 23, 27, 24\n",
       "16. or\n",
       "    core type: Literal\n",
       "    sub-expressions: \n",
       "17. (A_{1}, ..A_{_a}.., A_{l}, C, B_{1}, ..B_{_a}.., B_{m}, D_{1}, ..D_{_a}.., D_{n})\n",
       "    core type: ExprTuple\n",
       "    sub-expressions: 22, 27, 23, 24\n",
       "18. _a -> (A_{_a} in BOOLEAN)\n",
       "    core type: Lambda\n",
       "    parameter: 48\n",
       "    body: 25\n",
       "19. _a -> (B_{_a} in BOOLEAN)\n",
       "    core type: Lambda\n",
       "    parameter: 48\n",
       "    body: 26\n",
       "20. (C, BOOLEAN)\n",
       "    core type: ExprTuple\n",
       "    sub-expressions: 27, 43\n",
       "21. _a -> (D_{_a} in BOOLEAN)\n",
       "    core type: Lambda\n",
       "    parameter: 48\n",
       "    body: 28\n",
       "22. A_{1}, ..A_{_a}.., A_{l}\n",
       "    core type: ExprRange\n",
       "    lambda_map: 29\n",
       "    start_index: 34\n",
       "    end_index: 30\n",
       "23. B_{1}, ..B_{_a}.., B_{m}\n",
       "    core type: ExprRange\n",
       "    lambda_map: 31\n",
       "    start_index: 34\n",
       "    end_index: 32\n",
       "24. D_{1}, ..D_{_a}.., D_{n}\n",
       "    core type: ExprRange\n",
       "    lambda_map: 33\n",
       "    start_index: 34\n",
       "    end_index: 35\n",
       "25. A_{_a} in BOOLEAN\n",
       "    core type: Operation\n",
       "    operator: 38\n",
       "    operands: 36\n",
       "26. B_{_a} in BOOLEAN\n",
       "    core type: Operation\n",
       "    operator: 38\n",
       "    operands: 37\n",
       "27. C\n",
       "    core type: Variable\n",
       "    sub-expressions: \n",
       "28. D_{_a} in BOOLEAN\n",
       "    core type: Operation\n",
       "    operator: 38\n",
       "    operands: 39\n",
       "29. _a -> A_{_a}\n",
       "    core type: Lambda\n",
       "    parameter: 48\n",
       "    body: 40\n",
       "30. l\n",
       "    core type: Variable\n",
       "    sub-expressions: \n",
       "31. _a -> B_{_a}\n",
       "    core type: Lambda\n",
       "    parameter: 48\n",
       "    body: 41\n",
       "32. m\n",
       "    core type: Variable\n",
       "    sub-expressions: \n",
       "33. _a -> D_{_a}\n",
       "    core type: Lambda\n",
       "    parameter: 48\n",
       "    body: 42\n",
       "34. 1\n",
       "    core type: Literal\n",
       "    sub-expressions: \n",
       "35. n\n",
       "    core type: Variable\n",
       "    sub-expressions: \n",
       "36. (A_{_a}, BOOLEAN)\n",
       "    core type: ExprTuple\n",
       "    sub-expressions: 40, 43\n",
       "37. (B_{_a}, BOOLEAN)\n",
       "    core type: ExprTuple\n",
       "    sub-expressions: 41, 43\n",
       "38. in\n",
       "    core type: Literal\n",
       "    sub-expressions: \n",
       "39. (D_{_a}, BOOLEAN)\n",
       "    core type: ExprTuple\n",
       "    sub-expressions: 42, 43\n",
       "40. A_{_a}\n",
       "    core type: IndexedVar\n",
       "variable: 44\n",
       "index: 48\n",
       "41. B_{_a}\n",
       "    core type: IndexedVar\n",
       "variable: 45\n",
       "index: 48\n",
       "42. D_{_a}\n",
       "    core type: IndexedVar\n",
       "variable: 46\n",
       "index: 48\n",
       "43. BOOLEAN\n",
       "    core type: Literal\n",
       "    sub-expressions: \n",
       "44. A\n",
       "    core type: Variable\n",
       "    sub-expressions: \n",
       "45. B\n",
       "    core type: Variable\n",
       "    sub-expressions: \n",
       "46. D\n",
       "    core type: Variable\n",
       "    sub-expressions: \n",
       "47. (_a)\n",
       "    core type: ExprTuple\n",
       "    sub-expressions: 48\n",
       "48. _a\n",
       "    core type: Variable\n",
       "    sub-expressions: "
      ]
     },
     "execution_count": 6,
     "metadata": {},
     "output_type": "execute_result"
    }
   ],
   "source": [
    "# display the expression information\n",
    "expr.expr_info()"
   ]
  },
  {
   "cell_type": "code",
   "execution_count": null,
   "metadata": {},
   "outputs": [],
   "source": []
  }
 ],
 "metadata": {
  "kernelspec": {
   "display_name": "Python 3",
   "language": "python",
   "name": "python3"
  }
 },
 "nbformat": 4,
 "nbformat_minor": 0
}