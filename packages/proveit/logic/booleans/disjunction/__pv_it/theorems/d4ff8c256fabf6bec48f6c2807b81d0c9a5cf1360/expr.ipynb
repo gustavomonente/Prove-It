{
 "cells": [
  {
   "cell_type": "markdown",
   "metadata": {},
   "source": [
    "Expression of type <a class=\"ProveItLink\" href=\"../../../../../../../../doc/html/api/proveit.Conditional.html\">Conditional</a>\n",
    "=======================\n",
    "# from the theory of <a class=\"ProveItLink\" href=\"../../../_theory_nbs_/theory.ipynb\">proveit.logic.booleans.disjunction</a>"
   ]
  },
  {
   "cell_type": "code",
   "execution_count": 1,
   "metadata": {},
   "outputs": [],
   "source": [
    "import proveit\n",
    "# Automation is not needed when building an expression:\n",
    "proveit.defaults.automation = False # This will speed things up.\n",
    "proveit.defaults.inline_pngs = False # Makes files smaller.\n",
    "%load_expr # Load the stored expression as 'stored_expr'\n",
    "# import Expression classes needed to build the expression\n",
    "from proveit import A, C, Conditional, ExprRange, IndexedVar, Variable, m, n\n",
    "from proveit.core_expr_types import A_1_to_m, C_1_to_n\n",
    "from proveit.logic import And, Boolean, Equals, InSet, Or, TRUE\n",
    "from proveit.numbers import one"
   ]
  },
  {
   "cell_type": "code",
   "execution_count": 2,
   "metadata": {},
   "outputs": [
    {
     "data": {
      "text/html": [
       "<strong id=\"expr\">expr:</strong> <a class=\"ProveItLink\" href=\"expr.ipynb\"><img src=\"expr.png\" style=\"display:inline;vertical-align:middle;\" /></a><br>"
      ],
      "text/plain": [
       "expr: {(A_{1} or ..A_{_a}.. or A_{m} or TRUE or C_{1} or ..C_{_a}.. or C_{n}) = TRUE if A_{1} in BOOLEAN ,  ..A_{_a} in BOOLEAN.. ,  A_{m} in BOOLEAN ,  C_{1} in BOOLEAN ,  ..C_{_a} in BOOLEAN.. ,  C_{n} in BOOLEAN."
      ]
     },
     "execution_count": 2,
     "metadata": {},
     "output_type": "execute_result"
    }
   ],
   "source": [
    "# build up the expression from sub-expressions\n",
    "sub_expr1 = Variable(\"_a\", latex_format = r\"{_{-}a}\")\n",
    "expr = Conditional(Equals(Or(A_1_to_m, TRUE, C_1_to_n), TRUE), And(ExprRange(sub_expr1, InSet(IndexedVar(A, sub_expr1), Boolean), one, m), ExprRange(sub_expr1, InSet(IndexedVar(C, sub_expr1), Boolean), one, n)))"
   ]
  },
  {
   "cell_type": "code",
   "execution_count": 3,
   "metadata": {},
   "outputs": [
    {
     "name": "stdout",
     "output_type": "stream",
     "text": [
      "Passed sanity check: expr matches stored_expr\n"
     ]
    }
   ],
   "source": [
    "# check that the built expression is the same as the stored expression\n",
    "assert expr == stored_expr\n",
    "assert expr._style_id == stored_expr._style_id\n",
    "print(\"Passed sanity check: expr matches stored_expr\")"
   ]
  },
  {
   "cell_type": "code",
   "execution_count": 4,
   "metadata": {},
   "outputs": [
    {
     "name": "stdout",
     "output_type": "stream",
     "text": [
      "\\left\\{\\left(A_{1} \\lor \\ldots \\lor A_{m} \\lor \\top \\lor C_{1} \\lor \\ldots \\lor C_{n}\\right) = \\top \\textrm{ if } A_{1} \\in \\mathbb{B} ,  \\ldots ,  A_{m} \\in \\mathbb{B} ,  C_{1} \\in \\mathbb{B} ,  \\ldots ,  C_{n} \\in \\mathbb{B}\\right..\n"
     ]
    }
   ],
   "source": [
    "# Show the LaTeX representation of the expression for convenience if you need it.\n",
    "print(expr.latex())"
   ]
  },
  {
   "cell_type": "code",
   "execution_count": 5,
   "metadata": {},
   "outputs": [
    {
     "data": {
      "text/html": [
       "<table><tr><th>&nbsp;</th><th>core type</th><th>sub-expressions</th><th>expression</th></tr>\n",
       "<tr><td>0</td><td>Conditional</td><td>value:&nbsp;1<br>condition:&nbsp;2<br></td><td><a class=\"ProveItLink\" href=\"expr.ipynb\"><img src=\"expr.png\" style=\"display:inline;vertical-align:middle;\" /></a></td></tr>\n",
       "<tr><td>1</td><td>Operation</td><td>operator:&nbsp;3<br>operands:&nbsp;4<br></td><td><a class=\"ProveItLink\" href=\"../4d7fec3523d196cbb842a9434142b59fa00d2c8c0/expr.ipynb\"><img src=\"../4d7fec3523d196cbb842a9434142b59fa00d2c8c0/expr.png\" style=\"display:inline;vertical-align:middle;\" /></a></td></tr>\n",
       "<tr><td>2</td><td>Operation</td><td>operator:&nbsp;5<br>operands:&nbsp;6<br></td><td><a class=\"ProveItLink\" href=\"../2e8cd96b3696ae79f56bacb455d4f4a784731b340/expr.ipynb\"><img src=\"../2e8cd96b3696ae79f56bacb455d4f4a784731b340/expr.png\" style=\"display:inline;vertical-align:middle;\" /></a></td></tr>\n",
       "<tr><td>3</td><td>Literal</td><td></td><td><a class=\"ProveItLink\" href=\"../../../../../equality/__pv_it/common/fb96dc12b2aa8801dda64d0132b396c63d1502bb0/expr.ipynb\"><img src=\"../../../../../equality/__pv_it/common/fb96dc12b2aa8801dda64d0132b396c63d1502bb0/expr.png\" style=\"display:inline;vertical-align:middle;\" /></a></td></tr>\n",
       "<tr><td>4</td><td>ExprTuple</td><td>7, 15</td><td><a class=\"ProveItLink\" href=\"../3b9f9a9c27828b8441787c2d715f42ca681aa2bb0/expr.ipynb\"><img src=\"../3b9f9a9c27828b8441787c2d715f42ca681aa2bb0/expr.png\" style=\"display:inline;vertical-align:middle;\" /></a></td></tr>\n",
       "<tr><td>5</td><td>Literal</td><td></td><td><a class=\"ProveItLink\" href=\"../../../../conjunction/__pv_it/common/42118ff318bd65d98b1393f64ce7c2269feef76e0/expr.ipynb\"><img src=\"../../../../conjunction/__pv_it/common/42118ff318bd65d98b1393f64ce7c2269feef76e0/expr.png\" style=\"display:inline;vertical-align:middle;\" /></a></td></tr>\n",
       "<tr><td>6</td><td>ExprTuple</td><td>8, 9</td><td><a class=\"ProveItLink\" href=\"../bd4e5d9913d151cfa65a1a33341cd2815b81b0750/expr.ipynb\"><img src=\"../bd4e5d9913d151cfa65a1a33341cd2815b81b0750/expr.png\" style=\"display:inline;vertical-align:middle;\" /></a></td></tr>\n",
       "<tr><td>7</td><td>Operation</td><td>operator:&nbsp;10<br>operands:&nbsp;11<br></td><td><a class=\"ProveItLink\" href=\"../0238cb24cb430f17183a9b0201f59a49e21f4d1c0/expr.ipynb\"><img src=\"../0238cb24cb430f17183a9b0201f59a49e21f4d1c0/expr.png\" style=\"display:inline;vertical-align:middle;\" /></a></td></tr>\n",
       "<tr><td>8</td><td>ExprRange</td><td>lambda_map:&nbsp;12<br>start_index:&nbsp;22<br>end_index:&nbsp;20<br></td><td><a class=\"ProveItLink\" href=\"../f51be7676e200a823a0f5274bb31919faaf2afee0/expr.ipynb\"><img src=\"../f51be7676e200a823a0f5274bb31919faaf2afee0/expr.png\" style=\"display:inline;vertical-align:middle;\" /></a></td></tr>\n",
       "<tr><td>9</td><td>ExprRange</td><td>lambda_map:&nbsp;13<br>start_index:&nbsp;22<br>end_index:&nbsp;23<br></td><td><a class=\"ProveItLink\" href=\"../bcf3631cb47ff5c9e084dea69b47824f353a3b310/expr.ipynb\"><img src=\"../bcf3631cb47ff5c9e084dea69b47824f353a3b310/expr.png\" style=\"display:inline;vertical-align:middle;\" /></a></td></tr>\n",
       "<tr><td>10</td><td>Literal</td><td></td><td><a class=\"ProveItLink\" href=\"../../common/ef8e59262ff8e0133aa1ca984dd6b3a41bf69d5b0/expr.ipynb\"><img src=\"../../common/ef8e59262ff8e0133aa1ca984dd6b3a41bf69d5b0/expr.png\" style=\"display:inline;vertical-align:middle;\" /></a></td></tr>\n",
       "<tr><td>11</td><td>ExprTuple</td><td>14, 15, 16</td><td><a class=\"ProveItLink\" href=\"../4e767de34d965bd8f229b9f0a1745e6f423018bc0/expr.ipynb\"><img src=\"../4e767de34d965bd8f229b9f0a1745e6f423018bc0/expr.png\" style=\"display:inline;vertical-align:middle;\" /></a></td></tr>\n",
       "<tr><td>12</td><td>Lambda</td><td>parameter:&nbsp;32<br>body:&nbsp;17<br></td><td><a class=\"ProveItLink\" href=\"../dcd2a304dd7fba4219b9ebc4dc7465707158eff50/expr.ipynb\"><img src=\"../dcd2a304dd7fba4219b9ebc4dc7465707158eff50/expr.png\" style=\"display:inline;vertical-align:middle;\" /></a></td></tr>\n",
       "<tr><td>13</td><td>Lambda</td><td>parameter:&nbsp;32<br>body:&nbsp;18<br></td><td><a class=\"ProveItLink\" href=\"../12e008834cdc6c1c4ac054e0b5965d9d6c79c3460/expr.ipynb\"><img src=\"../12e008834cdc6c1c4ac054e0b5965d9d6c79c3460/expr.png\" style=\"display:inline;vertical-align:middle;\" /></a></td></tr>\n",
       "<tr><td>14</td><td>ExprRange</td><td>lambda_map:&nbsp;19<br>start_index:&nbsp;22<br>end_index:&nbsp;20<br></td><td><a class=\"ProveItLink\" href=\"../../../../../../core_expr_types/__pv_it/common/91d05fae55026f965c0cd103d1c27b85b1e1aa760/expr.ipynb\"><img src=\"../../../../../../core_expr_types/__pv_it/common/91d05fae55026f965c0cd103d1c27b85b1e1aa760/expr.png\" style=\"display:inline;vertical-align:middle;\" /></a></td></tr>\n",
       "<tr><td>15</td><td>Literal</td><td></td><td><a class=\"ProveItLink\" href=\"../../../../__pv_it/common/95025295868b9266d37330b4427adf122f6061770/expr.ipynb\"><img src=\"../../../../__pv_it/common/95025295868b9266d37330b4427adf122f6061770/expr.png\" style=\"display:inline;vertical-align:middle;\" /></a></td></tr>\n",
       "<tr><td>16</td><td>ExprRange</td><td>lambda_map:&nbsp;21<br>start_index:&nbsp;22<br>end_index:&nbsp;23<br></td><td><a class=\"ProveItLink\" href=\"../../../../../../core_expr_types/__pv_it/common/e65c5945bd28d04ab16a8cf959c7330e438d17bc0/expr.ipynb\"><img src=\"../../../../../../core_expr_types/__pv_it/common/e65c5945bd28d04ab16a8cf959c7330e438d17bc0/expr.png\" style=\"display:inline;vertical-align:middle;\" /></a></td></tr>\n",
       "<tr><td>17</td><td>Operation</td><td>operator:&nbsp;25<br>operands:&nbsp;24<br></td><td><a class=\"ProveItLink\" href=\"../874c8082deb448f04b0ff552bef91dd355d650f90/expr.ipynb\"><img src=\"../874c8082deb448f04b0ff552bef91dd355d650f90/expr.png\" style=\"display:inline;vertical-align:middle;\" /></a></td></tr>\n",
       "<tr><td>18</td><td>Operation</td><td>operator:&nbsp;25<br>operands:&nbsp;26<br></td><td><a class=\"ProveItLink\" href=\"../2181576f4cd98f4fc4d1784cb4ae0095127accb10/expr.ipynb\"><img src=\"../2181576f4cd98f4fc4d1784cb4ae0095127accb10/expr.png\" style=\"display:inline;vertical-align:middle;\" /></a></td></tr>\n",
       "<tr><td>19</td><td>Lambda</td><td>parameter:&nbsp;32<br>body:&nbsp;27<br></td><td><a class=\"ProveItLink\" href=\"../../../../../../core_expr_types/__pv_it/common/db87d41146842355e9d6585688749d13269ab0980/expr.ipynb\"><img src=\"../../../../../../core_expr_types/__pv_it/common/db87d41146842355e9d6585688749d13269ab0980/expr.png\" style=\"display:inline;vertical-align:middle;\" /></a></td></tr>\n",
       "<tr><td>20</td><td>Variable</td><td></td><td><a class=\"ProveItLink\" href=\"../../../../../../__pv_it/common/674a03b9c3ca221b3aabd5636837b31528ff33830/expr.ipynb\"><img src=\"../../../../../../__pv_it/common/674a03b9c3ca221b3aabd5636837b31528ff33830/expr.png\" style=\"display:inline;vertical-align:middle;\" /></a></td></tr>\n",
       "<tr><td>21</td><td>Lambda</td><td>parameter:&nbsp;32<br>body:&nbsp;28<br></td><td><a class=\"ProveItLink\" href=\"../../../../../../core_expr_types/__pv_it/common/735fd06c5ab0aaa2fbd887b513f592492fdcee940/expr.ipynb\"><img src=\"../../../../../../core_expr_types/__pv_it/common/735fd06c5ab0aaa2fbd887b513f592492fdcee940/expr.png\" style=\"display:inline;vertical-align:middle;\" /></a></td></tr>\n",
       "<tr><td>22</td><td>Literal</td><td></td><td><a class=\"ProveItLink\" href=\"../../../../../../numbers/numerals/__pv_it/common/2778428c7f555b2bdc06aa0530bc142c6e6335100/expr.ipynb\"><img src=\"../../../../../../numbers/numerals/__pv_it/common/2778428c7f555b2bdc06aa0530bc142c6e6335100/expr.png\" style=\"display:inline;vertical-align:middle;\" /></a></td></tr>\n",
       "<tr><td>23</td><td>Variable</td><td></td><td><a class=\"ProveItLink\" href=\"../../../../../../__pv_it/common/8968bb04eb3f7dfa02353397ce929b025bbd79c20/expr.ipynb\"><img src=\"../../../../../../__pv_it/common/8968bb04eb3f7dfa02353397ce929b025bbd79c20/expr.png\" style=\"display:inline;vertical-align:middle;\" /></a></td></tr>\n",
       "<tr><td>24</td><td>ExprTuple</td><td>27, 29</td><td><a class=\"ProveItLink\" href=\"../8c5f6fadd3c74e04805ac4da92a7bc4644c939840/expr.ipynb\"><img src=\"../8c5f6fadd3c74e04805ac4da92a7bc4644c939840/expr.png\" style=\"display:inline;vertical-align:middle;\" /></a></td></tr>\n",
       "<tr><td>25</td><td>Literal</td><td></td><td><a class=\"ProveItLink\" href=\"../../../../../sets/membership/__pv_it/common/477487d8796864d23d5810f83761435f25167f690/expr.ipynb\"><img src=\"../../../../../sets/membership/__pv_it/common/477487d8796864d23d5810f83761435f25167f690/expr.png\" style=\"display:inline;vertical-align:middle;\" /></a></td></tr>\n",
       "<tr><td>26</td><td>ExprTuple</td><td>28, 29</td><td><a class=\"ProveItLink\" href=\"../15ea32dcdd7c36e9113949814bfed9065575803a0/expr.ipynb\"><img src=\"../15ea32dcdd7c36e9113949814bfed9065575803a0/expr.png\" style=\"display:inline;vertical-align:middle;\" /></a></td></tr>\n",
       "<tr><td>27</td><td>IndexedVar</td><td>variable:&nbsp;30<br>index:&nbsp;32<br></td><td><a class=\"ProveItLink\" href=\"../../../../../../core_expr_types/__pv_it/common/65f6ea908cba61c02c46e59c65a80b52e171496d0/expr.ipynb\"><img src=\"../../../../../../core_expr_types/__pv_it/common/65f6ea908cba61c02c46e59c65a80b52e171496d0/expr.png\" style=\"display:inline;vertical-align:middle;\" /></a></td></tr>\n",
       "<tr><td>28</td><td>IndexedVar</td><td>variable:&nbsp;31<br>index:&nbsp;32<br></td><td><a class=\"ProveItLink\" href=\"../../../../../../core_expr_types/__pv_it/common/129e0fbda88d5300ebce8374b884a28c2f22b2730/expr.ipynb\"><img src=\"../../../../../../core_expr_types/__pv_it/common/129e0fbda88d5300ebce8374b884a28c2f22b2730/expr.png\" style=\"display:inline;vertical-align:middle;\" /></a></td></tr>\n",
       "<tr><td>29</td><td>Literal</td><td></td><td><a class=\"ProveItLink\" href=\"../../../../__pv_it/common/97424376de9815ad99f7180e3191b1cf4ab2a5710/expr.ipynb\"><img src=\"../../../../__pv_it/common/97424376de9815ad99f7180e3191b1cf4ab2a5710/expr.png\" style=\"display:inline;vertical-align:middle;\" /></a></td></tr>\n",
       "<tr><td>30</td><td>Variable</td><td></td><td><a class=\"ProveItLink\" href=\"../../../../../../__pv_it/common/09585084922504426caf1db2ff588a23a0932a960/expr.ipynb\"><img src=\"../../../../../../__pv_it/common/09585084922504426caf1db2ff588a23a0932a960/expr.png\" style=\"display:inline;vertical-align:middle;\" /></a></td></tr>\n",
       "<tr><td>31</td><td>Variable</td><td></td><td><a class=\"ProveItLink\" href=\"../../../../../../__pv_it/common/9fba9f29e823606ff4fdf2f1c6d5d08d906e850a0/expr.ipynb\"><img src=\"../../../../../../__pv_it/common/9fba9f29e823606ff4fdf2f1c6d5d08d906e850a0/expr.png\" style=\"display:inline;vertical-align:middle;\" /></a></td></tr>\n",
       "<tr><td>32</td><td>Variable</td><td></td><td><a class=\"ProveItLink\" href=\"../../../../../../core_expr_types/__pv_it/common/006c465e50948aa2b52285e2de47974f741255cc0/expr.ipynb\"><img src=\"../../../../../../core_expr_types/__pv_it/common/006c465e50948aa2b52285e2de47974f741255cc0/expr.png\" style=\"display:inline;vertical-align:middle;\" /></a></td></tr>\n",
       "</table>\n"
      ],
      "text/plain": [
       "0. {(A_{1} or ..A_{_a}.. or A_{m} or TRUE or C_{1} or ..C_{_a}.. or C_{n}) = TRUE if A_{1} in BOOLEAN ,  ..A_{_a} in BOOLEAN.. ,  A_{m} in BOOLEAN ,  C_{1} in BOOLEAN ,  ..C_{_a} in BOOLEAN.. ,  C_{n} in BOOLEAN.\n",
       "   core type: Conditional\n",
       "   value: 1\n",
       "   condition: 2\n",
       "1. (A_{1} or ..A_{_a}.. or A_{m} or TRUE or C_{1} or ..C_{_a}.. or C_{n}) = TRUE\n",
       "   core type: Operation\n",
       "   operator: 3\n",
       "   operands: 4\n",
       "2. (A_{1} in BOOLEAN) and ..(A_{_a} in BOOLEAN).. and (A_{m} in BOOLEAN) and (C_{1} in BOOLEAN) and ..(C_{_a} in BOOLEAN).. and (C_{n} in BOOLEAN)\n",
       "   core type: Operation\n",
       "   operator: 5\n",
       "   operands: 6\n",
       "3. =\n",
       "   core type: Literal\n",
       "   sub-expressions: \n",
       "4. (A_{1} or ..A_{_a}.. or A_{m} or TRUE or C_{1} or ..C_{_a}.. or C_{n}, TRUE)\n",
       "   core type: ExprTuple\n",
       "   sub-expressions: 7, 15\n",
       "5. and\n",
       "   core type: Literal\n",
       "   sub-expressions: \n",
       "6. (A_{1} in BOOLEAN, ..A_{_a} in BOOLEAN.., A_{m} in BOOLEAN, C_{1} in BOOLEAN, ..C_{_a} in BOOLEAN.., C_{n} in BOOLEAN)\n",
       "   core type: ExprTuple\n",
       "   sub-expressions: 8, 9\n",
       "7. A_{1} or ..A_{_a}.. or A_{m} or TRUE or C_{1} or ..C_{_a}.. or C_{n}\n",
       "   core type: Operation\n",
       "   operator: 10\n",
       "   operands: 11\n",
       "8. (A_{1} in BOOLEAN), ..(A_{_a} in BOOLEAN).., (A_{m} in BOOLEAN)\n",
       "   core type: ExprRange\n",
       "   lambda_map: 12\n",
       "   start_index: 22\n",
       "   end_index: 20\n",
       "9. (C_{1} in BOOLEAN), ..(C_{_a} in BOOLEAN).., (C_{n} in BOOLEAN)\n",
       "   core type: ExprRange\n",
       "   lambda_map: 13\n",
       "   start_index: 22\n",
       "   end_index: 23\n",
       "10. or\n",
       "    core type: Literal\n",
       "    sub-expressions: \n",
       "11. (A_{1}, ..A_{_a}.., A_{m}, TRUE, C_{1}, ..C_{_a}.., C_{n})\n",
       "    core type: ExprTuple\n",
       "    sub-expressions: 14, 15, 16\n",
       "12. _a -> (A_{_a} in BOOLEAN)\n",
       "    core type: Lambda\n",
       "    parameter: 32\n",
       "    body: 17\n",
       "13. _a -> (C_{_a} in BOOLEAN)\n",
       "    core type: Lambda\n",
       "    parameter: 32\n",
       "    body: 18\n",
       "14. A_{1}, ..A_{_a}.., A_{m}\n",
       "    core type: ExprRange\n",
       "    lambda_map: 19\n",
       "    start_index: 22\n",
       "    end_index: 20\n",
       "15. TRUE\n",
       "    core type: Literal\n",
       "    sub-expressions: \n",
       "16. C_{1}, ..C_{_a}.., C_{n}\n",
       "    core type: ExprRange\n",
       "    lambda_map: 21\n",
       "    start_index: 22\n",
       "    end_index: 23\n",
       "17. A_{_a} in BOOLEAN\n",
       "    core type: Operation\n",
       "    operator: 25\n",
       "    operands: 24\n",
       "18. C_{_a} in BOOLEAN\n",
       "    core type: Operation\n",
       "    operator: 25\n",
       "    operands: 26\n",
       "19. _a -> A_{_a}\n",
       "    core type: Lambda\n",
       "    parameter: 32\n",
       "    body: 27\n",
       "20. m\n",
       "    core type: Variable\n",
       "    sub-expressions: \n",
       "21. _a -> C_{_a}\n",
       "    core type: Lambda\n",
       "    parameter: 32\n",
       "    body: 28\n",
       "22. 1\n",
       "    core type: Literal\n",
       "    sub-expressions: \n",
       "23. n\n",
       "    core type: Variable\n",
       "    sub-expressions: \n",
       "24. (A_{_a}, BOOLEAN)\n",
       "    core type: ExprTuple\n",
       "    sub-expressions: 27, 29\n",
       "25. in\n",
       "    core type: Literal\n",
       "    sub-expressions: \n",
       "26. (C_{_a}, BOOLEAN)\n",
       "    core type: ExprTuple\n",
       "    sub-expressions: 28, 29\n",
       "27. A_{_a}\n",
       "    core type: IndexedVar\n",
       "variable: 30\n",
       "index: 32\n",
       "28. C_{_a}\n",
       "    core type: IndexedVar\n",
       "variable: 31\n",
       "index: 32\n",
       "29. BOOLEAN\n",
       "    core type: Literal\n",
       "    sub-expressions: \n",
       "30. A\n",
       "    core type: Variable\n",
       "    sub-expressions: \n",
       "31. C\n",
       "    core type: Variable\n",
       "    sub-expressions: \n",
       "32. _a\n",
       "    core type: Variable\n",
       "    sub-expressions: "
      ]
     },
     "execution_count": 5,
     "metadata": {},
     "output_type": "execute_result"
    }
   ],
   "source": [
    "# display the expression information\n",
    "expr.expr_info()"
   ]
  },
  {
   "cell_type": "code",
   "execution_count": null,
   "metadata": {},
   "outputs": [],
   "source": []
  }
 ],
 "metadata": {
  "kernelspec": {
   "display_name": "Python 3",
   "language": "python",
   "name": "python3"
  }
 },
 "nbformat": 4,
 "nbformat_minor": 0
}