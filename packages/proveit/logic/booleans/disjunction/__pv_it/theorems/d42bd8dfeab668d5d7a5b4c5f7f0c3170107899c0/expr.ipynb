{
 "cells": [
  {
   "cell_type": "markdown",
   "metadata": {},
   "source": [
    "Expression of type <a class=\"ProveItLink\" href=\"../../../../../../../../doc/html/api/proveit.Lambda.html\">Lambda</a>\n",
    "=======================\n",
    "# from the theory of <a class=\"ProveItLink\" href=\"../../../_theory_nbs_/theory.ipynb\">proveit.logic.booleans.disjunction</a>"
   ]
  },
  {
   "cell_type": "code",
   "execution_count": 1,
   "metadata": {},
   "outputs": [],
   "source": [
    "import proveit\n",
    "# Automation is not needed when building an expression:\n",
    "proveit.defaults.automation = False # This will speed things up.\n",
    "proveit.defaults.inline_pngs = False # Makes files smaller.\n",
    "%load_expr # Load the stored expression as 'stored_expr'\n",
    "# import Expression classes needed to build the expression\n",
    "from proveit import A, Conditional, ExprRange, IndexedVar, Lambda, i, m\n",
    "from proveit.core_expr_types import A_1_to_m\n",
    "from proveit.logic import And, FALSE, Not, Or\n",
    "from proveit.numbers import one"
   ]
  },
  {
   "cell_type": "code",
   "execution_count": 2,
   "metadata": {},
   "outputs": [
    {
     "data": {
      "text/html": [
       "<strong id=\"expr\">expr:</strong> <a class=\"ProveItLink\" href=\"expr.ipynb\"><img src=\"expr.png\" style=\"display:inline;vertical-align:middle;\" /></a><br>"
      ],
      "text/plain": [
       "expr: (A_{1}, ..A_{_a}.., A_{m}) -> {FALSE if A_{1} or ..A_{_a}.. or A_{m} ,  [not](A_{1}) ,  ..[not](A_{i}).. ,  [not](A_{m})."
      ]
     },
     "execution_count": 2,
     "metadata": {},
     "output_type": "execute_result"
    }
   ],
   "source": [
    "# build up the expression from sub-expressions\n",
    "expr = Lambda([A_1_to_m], Conditional(FALSE, And(Or(A_1_to_m), ExprRange(i, Not(IndexedVar(A, i)), one, m))))"
   ]
  },
  {
   "cell_type": "code",
   "execution_count": 3,
   "metadata": {},
   "outputs": [
    {
     "name": "stdout",
     "output_type": "stream",
     "text": [
      "Passed sanity check: expr matches stored_expr\n"
     ]
    }
   ],
   "source": [
    "# check that the built expression is the same as the stored expression\n",
    "assert expr == stored_expr\n",
    "assert expr._style_id == stored_expr._style_id\n",
    "print(\"Passed sanity check: expr matches stored_expr\")"
   ]
  },
  {
   "cell_type": "code",
   "execution_count": 4,
   "metadata": {},
   "outputs": [
    {
     "name": "stdout",
     "output_type": "stream",
     "text": [
      "\\left(A_{1}, \\ldots, A_{m}\\right) \\mapsto \\left\\{\\bot \\textrm{ if } A_{1} \\lor \\ldots \\lor A_{m} ,  \\lnot A_{1} ,  \\ldots ,  \\lnot A_{m}\\right..\n"
     ]
    }
   ],
   "source": [
    "# Show the LaTeX representation of the expression for convenience if you need it.\n",
    "print(expr.latex())"
   ]
  },
  {
   "cell_type": "code",
   "execution_count": 5,
   "metadata": {},
   "outputs": [
    {
     "data": {
      "text/html": [
       "<table><tr><th>&nbsp;</th><th>core type</th><th>sub-expressions</th><th>expression</th></tr>\n",
       "<tr><td>0</td><td>Lambda</td><td>parameters:&nbsp;9<br>body:&nbsp;1<br></td><td><a class=\"ProveItLink\" href=\"expr.ipynb\"><img src=\"expr.png\" style=\"display:inline;vertical-align:middle;\" /></a></td></tr>\n",
       "<tr><td>1</td><td>Conditional</td><td>value:&nbsp;2<br>condition:&nbsp;3<br></td><td><a class=\"ProveItLink\" href=\"../14933ec3d1d2b23603e4b3c0ff4c72037e210a600/expr.ipynb\"><img src=\"../14933ec3d1d2b23603e4b3c0ff4c72037e210a600/expr.png\" style=\"display:inline;vertical-align:middle;\" /></a></td></tr>\n",
       "<tr><td>2</td><td>Literal</td><td></td><td><a class=\"ProveItLink\" href=\"../../../../__pv_it/common/e0f123f2e4f322e1eba7f861749cda9fd9d99a120/expr.ipynb\"><img src=\"../../../../__pv_it/common/e0f123f2e4f322e1eba7f861749cda9fd9d99a120/expr.png\" style=\"display:inline;vertical-align:middle;\" /></a></td></tr>\n",
       "<tr><td>3</td><td>Operation</td><td>operator:&nbsp;4<br>operands:&nbsp;5<br></td><td><a class=\"ProveItLink\" href=\"../ec2d45e1f07ba8288bf2934c49604dc926627b500/expr.ipynb\"><img src=\"../ec2d45e1f07ba8288bf2934c49604dc926627b500/expr.png\" style=\"display:inline;vertical-align:middle;\" /></a></td></tr>\n",
       "<tr><td>4</td><td>Literal</td><td></td><td><a class=\"ProveItLink\" href=\"../../../../conjunction/__pv_it/common/42118ff318bd65d98b1393f64ce7c2269feef76e0/expr.ipynb\"><img src=\"../../../../conjunction/__pv_it/common/42118ff318bd65d98b1393f64ce7c2269feef76e0/expr.png\" style=\"display:inline;vertical-align:middle;\" /></a></td></tr>\n",
       "<tr><td>5</td><td>ExprTuple</td><td>6, 7</td><td><a class=\"ProveItLink\" href=\"../0e7aa454c73643cefd55e6ed63b49cf03da79b620/expr.ipynb\"><img src=\"../0e7aa454c73643cefd55e6ed63b49cf03da79b620/expr.png\" style=\"display:inline;vertical-align:middle;\" /></a></td></tr>\n",
       "<tr><td>6</td><td>Operation</td><td>operator:&nbsp;8<br>operands:&nbsp;9<br></td><td><a class=\"ProveItLink\" href=\"../93a3efdb124eb214da4423974b17b7bebe420ddc0/expr.ipynb\"><img src=\"../93a3efdb124eb214da4423974b17b7bebe420ddc0/expr.png\" style=\"display:inline;vertical-align:middle;\" /></a></td></tr>\n",
       "<tr><td>7</td><td>ExprRange</td><td>lambda_map:&nbsp;10<br>start_index:&nbsp;14<br>end_index:&nbsp;15<br></td><td><a class=\"ProveItLink\" href=\"../90beb74625a23d1b9c4140ebe43394bf12740fed0/expr.ipynb\"><img src=\"../90beb74625a23d1b9c4140ebe43394bf12740fed0/expr.png\" style=\"display:inline;vertical-align:middle;\" /></a></td></tr>\n",
       "<tr><td>8</td><td>Literal</td><td></td><td><a class=\"ProveItLink\" href=\"../../common/ef8e59262ff8e0133aa1ca984dd6b3a41bf69d5b0/expr.ipynb\"><img src=\"../../common/ef8e59262ff8e0133aa1ca984dd6b3a41bf69d5b0/expr.png\" style=\"display:inline;vertical-align:middle;\" /></a></td></tr>\n",
       "<tr><td>9</td><td>ExprTuple</td><td>11</td><td><a class=\"ProveItLink\" href=\"../93ae5dfb178f6a043477f4fdbbc517b5718a327f0/expr.ipynb\"><img src=\"../93ae5dfb178f6a043477f4fdbbc517b5718a327f0/expr.png\" style=\"display:inline;vertical-align:middle;\" /></a></td></tr>\n",
       "<tr><td>10</td><td>Lambda</td><td>parameter:&nbsp;19<br>body:&nbsp;12<br></td><td><a class=\"ProveItLink\" href=\"../82a9657e7ee726c324971845b21da2f13741a6a30/expr.ipynb\"><img src=\"../82a9657e7ee726c324971845b21da2f13741a6a30/expr.png\" style=\"display:inline;vertical-align:middle;\" /></a></td></tr>\n",
       "<tr><td>11</td><td>ExprRange</td><td>lambda_map:&nbsp;13<br>start_index:&nbsp;14<br>end_index:&nbsp;15<br></td><td><a class=\"ProveItLink\" href=\"../../../../../../core_expr_types/__pv_it/common/91d05fae55026f965c0cd103d1c27b85b1e1aa760/expr.ipynb\"><img src=\"../../../../../../core_expr_types/__pv_it/common/91d05fae55026f965c0cd103d1c27b85b1e1aa760/expr.png\" style=\"display:inline;vertical-align:middle;\" /></a></td></tr>\n",
       "<tr><td>12</td><td>Operation</td><td>operator:&nbsp;16<br>operand:&nbsp;17<br></td><td><a class=\"ProveItLink\" href=\"../4f798830ec0b1b8a6c3ac42f91e7df39477c7d710/expr.ipynb\"><img src=\"../4f798830ec0b1b8a6c3ac42f91e7df39477c7d710/expr.png\" style=\"display:inline;vertical-align:middle;\" /></a></td></tr>\n",
       "<tr><td>13</td><td>Lambda</td><td>parameter:&nbsp;21<br>body:&nbsp;18<br></td><td><a class=\"ProveItLink\" href=\"../../../../../../core_expr_types/__pv_it/common/db87d41146842355e9d6585688749d13269ab0980/expr.ipynb\"><img src=\"../../../../../../core_expr_types/__pv_it/common/db87d41146842355e9d6585688749d13269ab0980/expr.png\" style=\"display:inline;vertical-align:middle;\" /></a></td></tr>\n",
       "<tr><td>14</td><td>Literal</td><td></td><td><a class=\"ProveItLink\" href=\"../../../../../../numbers/numerals/__pv_it/common/2778428c7f555b2bdc06aa0530bc142c6e6335100/expr.ipynb\"><img src=\"../../../../../../numbers/numerals/__pv_it/common/2778428c7f555b2bdc06aa0530bc142c6e6335100/expr.png\" style=\"display:inline;vertical-align:middle;\" /></a></td></tr>\n",
       "<tr><td>15</td><td>Variable</td><td></td><td><a class=\"ProveItLink\" href=\"../../../../../../__pv_it/common/674a03b9c3ca221b3aabd5636837b31528ff33830/expr.ipynb\"><img src=\"../../../../../../__pv_it/common/674a03b9c3ca221b3aabd5636837b31528ff33830/expr.png\" style=\"display:inline;vertical-align:middle;\" /></a></td></tr>\n",
       "<tr><td>16</td><td>Literal</td><td></td><td><a class=\"ProveItLink\" href=\"../../../../negation/__pv_it/common/1a811a997e5d75fdb50cdaf74f302daccad39af40/expr.ipynb\"><img src=\"../../../../negation/__pv_it/common/1a811a997e5d75fdb50cdaf74f302daccad39af40/expr.png\" style=\"display:inline;vertical-align:middle;\" /></a></td></tr>\n",
       "<tr><td>17</td><td>IndexedVar</td><td>variable:&nbsp;20<br>index:&nbsp;19<br></td><td><a class=\"ProveItLink\" href=\"../37561ccd23499b6ae37bcade0946ef4e29ca4de10/expr.ipynb\"><img src=\"../37561ccd23499b6ae37bcade0946ef4e29ca4de10/expr.png\" style=\"display:inline;vertical-align:middle;\" /></a></td></tr>\n",
       "<tr><td>18</td><td>IndexedVar</td><td>variable:&nbsp;20<br>index:&nbsp;21<br></td><td><a class=\"ProveItLink\" href=\"../../../../../../core_expr_types/__pv_it/common/65f6ea908cba61c02c46e59c65a80b52e171496d0/expr.ipynb\"><img src=\"../../../../../../core_expr_types/__pv_it/common/65f6ea908cba61c02c46e59c65a80b52e171496d0/expr.png\" style=\"display:inline;vertical-align:middle;\" /></a></td></tr>\n",
       "<tr><td>19</td><td>Variable</td><td></td><td><a class=\"ProveItLink\" href=\"../../../../../../__pv_it/common/ae955345c83abf786c3aff8681cd5465beae262d0/expr.ipynb\"><img src=\"../../../../../../__pv_it/common/ae955345c83abf786c3aff8681cd5465beae262d0/expr.png\" style=\"display:inline;vertical-align:middle;\" /></a></td></tr>\n",
       "<tr><td>20</td><td>Variable</td><td></td><td><a class=\"ProveItLink\" href=\"../../../../../../__pv_it/common/09585084922504426caf1db2ff588a23a0932a960/expr.ipynb\"><img src=\"../../../../../../__pv_it/common/09585084922504426caf1db2ff588a23a0932a960/expr.png\" style=\"display:inline;vertical-align:middle;\" /></a></td></tr>\n",
       "<tr><td>21</td><td>Variable</td><td></td><td><a class=\"ProveItLink\" href=\"../../../../../../core_expr_types/__pv_it/common/006c465e50948aa2b52285e2de47974f741255cc0/expr.ipynb\"><img src=\"../../../../../../core_expr_types/__pv_it/common/006c465e50948aa2b52285e2de47974f741255cc0/expr.png\" style=\"display:inline;vertical-align:middle;\" /></a></td></tr>\n",
       "</table>\n"
      ],
      "text/plain": [
       "0. (A_{1}, ..A_{_a}.., A_{m}) -> {FALSE if A_{1} or ..A_{_a}.. or A_{m} ,  [not](A_{1}) ,  ..[not](A_{i}).. ,  [not](A_{m}).\n",
       "   core type: Lambda\n",
       "   parameters: 9\\n   body: 1\n",
       "1. {FALSE if A_{1} or ..A_{_a}.. or A_{m} ,  [not](A_{1}) ,  ..[not](A_{i}).. ,  [not](A_{m}).\n",
       "   core type: Conditional\n",
       "   value: 2\n",
       "   condition: 3\n",
       "2. FALSE\n",
       "   core type: Literal\n",
       "   sub-expressions: \n",
       "3. (A_{1} or ..A_{_a}.. or A_{m}) and [not](A_{1}) and ..[not](A_{i}).. and [not](A_{m})\n",
       "   core type: Operation\n",
       "   operator: 4\n",
       "   operands: 5\n",
       "4. and\n",
       "   core type: Literal\n",
       "   sub-expressions: \n",
       "5. (A_{1} or ..A_{_a}.. or A_{m}, [not](A_{1}), ..[not](A_{i}).., [not](A_{m}))\n",
       "   core type: ExprTuple\n",
       "   sub-expressions: 6, 7\n",
       "6. A_{1} or ..A_{_a}.. or A_{m}\n",
       "   core type: Operation\n",
       "   operator: 8\n",
       "   operands: 9\n",
       "7. [not](A_{1}), ..[not](A_{i}).., [not](A_{m})\n",
       "   core type: ExprRange\n",
       "   lambda_map: 10\n",
       "   start_index: 14\n",
       "   end_index: 15\n",
       "8. or\n",
       "   core type: Literal\n",
       "   sub-expressions: \n",
       "9. (A_{1}, ..A_{_a}.., A_{m})\n",
       "   core type: ExprTuple\n",
       "   sub-expressions: 11\n",
       "10. i -> [not](A_{i})\n",
       "    core type: Lambda\n",
       "    parameter: 19\n",
       "    body: 12\n",
       "11. A_{1}, ..A_{_a}.., A_{m}\n",
       "    core type: ExprRange\n",
       "    lambda_map: 13\n",
       "    start_index: 14\n",
       "    end_index: 15\n",
       "12. [not](A_{i})\n",
       "    core type: Operation\n",
       "    operator: 16\n",
       "    operand: 17\n",
       "13. _a -> A_{_a}\n",
       "    core type: Lambda\n",
       "    parameter: 21\n",
       "    body: 18\n",
       "14. 1\n",
       "    core type: Literal\n",
       "    sub-expressions: \n",
       "15. m\n",
       "    core type: Variable\n",
       "    sub-expressions: \n",
       "16. not\n",
       "    core type: Literal\n",
       "    sub-expressions: \n",
       "17. A_{i}\n",
       "    core type: IndexedVar\n",
       "variable: 20\n",
       "index: 19\n",
       "18. A_{_a}\n",
       "    core type: IndexedVar\n",
       "variable: 20\n",
       "index: 21\n",
       "19. i\n",
       "    core type: Variable\n",
       "    sub-expressions: \n",
       "20. A\n",
       "    core type: Variable\n",
       "    sub-expressions: \n",
       "21. _a\n",
       "    core type: Variable\n",
       "    sub-expressions: "
      ]
     },
     "execution_count": 5,
     "metadata": {},
     "output_type": "execute_result"
    }
   ],
   "source": [
    "# display the expression information\n",
    "expr.expr_info()"
   ]
  },
  {
   "cell_type": "code",
   "execution_count": null,
   "metadata": {},
   "outputs": [],
   "source": []
  }
 ],
 "metadata": {
  "kernelspec": {
   "display_name": "Python 3",
   "language": "python",
   "name": "python3"
  }
 },
 "nbformat": 4,
 "nbformat_minor": 0
}