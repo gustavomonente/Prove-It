{
 "cells": [
  {
   "cell_type": "markdown",
   "metadata": {},
   "source": [
    "Expression of type <a class=\"ProveItLink\" href=\"../../../../../../../../doc/html/api/proveit.Conditional.html\">Conditional</a>\n",
    "=======================\n",
    "# from the theory of <a class=\"ProveItLink\" href=\"../../../_theory_nbs_/theory.ipynb\">proveit.logic.booleans.disjunction</a>"
   ]
  },
  {
   "cell_type": "code",
   "execution_count": 1,
   "metadata": {},
   "outputs": [],
   "source": [
    "import proveit\n",
    "# Automation is not needed when building an expression:\n",
    "proveit.defaults.automation = False # This will speed things up.\n",
    "proveit.defaults.inline_pngs = False # Makes files smaller.\n",
    "%load_expr # Load the stored expression as 'stored_expr'\n",
    "# import Expression classes needed to build the expression\n",
    "from proveit import A, B, C, Conditional, D\n",
    "from proveit.logic import And, Boolean, Implies, InSet, Or"
   ]
  },
  {
   "cell_type": "code",
   "execution_count": 2,
   "metadata": {},
   "outputs": [
    {
     "data": {
      "text/html": [
       "<strong id=\"expr\">expr:</strong> <a class=\"ProveItLink\" href=\"expr.ipynb\"><img src=\"expr.png\" style=\"display:inline;vertical-align:middle;\" /></a><br>"
      ],
      "text/plain": [
       "expr: {C or D if A in BOOLEAN ,  B in BOOLEAN ,  C in BOOLEAN ,  D in BOOLEAN ,  A or B ,  A => C ,  B => D."
      ]
     },
     "execution_count": 2,
     "metadata": {},
     "output_type": "execute_result"
    }
   ],
   "source": [
    "# build up the expression from sub-expressions\n",
    "expr = Conditional(Or(C, D), And(InSet(A, Boolean), InSet(B, Boolean), InSet(C, Boolean), InSet(D, Boolean), Or(A, B), Implies(A, C), Implies(B, D)))"
   ]
  },
  {
   "cell_type": "code",
   "execution_count": 3,
   "metadata": {},
   "outputs": [
    {
     "name": "stdout",
     "output_type": "stream",
     "text": [
      "Passed sanity check: expr matches stored_expr\n"
     ]
    }
   ],
   "source": [
    "# check that the built expression is the same as the stored expression\n",
    "assert expr == stored_expr\n",
    "assert expr._style_id == stored_expr._style_id\n",
    "print(\"Passed sanity check: expr matches stored_expr\")"
   ]
  },
  {
   "cell_type": "code",
   "execution_count": 4,
   "metadata": {},
   "outputs": [
    {
     "name": "stdout",
     "output_type": "stream",
     "text": [
      "\\left\\{C \\lor D \\textrm{ if } A \\in \\mathbb{B} ,  B \\in \\mathbb{B} ,  C \\in \\mathbb{B} ,  D \\in \\mathbb{B} ,  A \\lor B ,  A \\Rightarrow C ,  B \\Rightarrow D\\right..\n"
     ]
    }
   ],
   "source": [
    "# Show the LaTeX representation of the expression for convenience if you need it.\n",
    "print(expr.latex())"
   ]
  },
  {
   "cell_type": "code",
   "execution_count": 5,
   "metadata": {},
   "outputs": [
    {
     "data": {
      "text/html": [
       "<table><tr><th>&nbsp;</th><th>core type</th><th>sub-expressions</th><th>expression</th></tr>\n",
       "<tr><td>0</td><td>Conditional</td><td>value:&nbsp;1<br>condition:&nbsp;2<br></td><td><a class=\"ProveItLink\" href=\"expr.ipynb\"><img src=\"expr.png\" style=\"display:inline;vertical-align:middle;\" /></a></td></tr>\n",
       "<tr><td>1</td><td>Operation</td><td>operator:&nbsp;18<br>operands:&nbsp;3<br></td><td><a class=\"ProveItLink\" href=\"../22e998c8f2d48683678fb0f864fcf10db567a1b60/expr.ipynb\"><img src=\"../22e998c8f2d48683678fb0f864fcf10db567a1b60/expr.png\" style=\"display:inline;vertical-align:middle;\" /></a></td></tr>\n",
       "<tr><td>2</td><td>Operation</td><td>operator:&nbsp;4<br>operands:&nbsp;5<br></td><td><a class=\"ProveItLink\" href=\"../68e3080ae9216cf0f06ff2f9da9fc1bdf6e701a10/expr.ipynb\"><img src=\"../68e3080ae9216cf0f06ff2f9da9fc1bdf6e701a10/expr.png\" style=\"display:inline;vertical-align:middle;\" /></a></td></tr>\n",
       "<tr><td>3</td><td>ExprTuple</td><td>25, 27</td><td><a class=\"ProveItLink\" href=\"../080e00adb81b5d44f4f3ef2f29aa8b1e346320610/expr.ipynb\"><img src=\"../080e00adb81b5d44f4f3ef2f29aa8b1e346320610/expr.png\" style=\"display:inline;vertical-align:middle;\" /></a></td></tr>\n",
       "<tr><td>4</td><td>Literal</td><td></td><td><a class=\"ProveItLink\" href=\"../../../../conjunction/__pv_it/common/42118ff318bd65d98b1393f64ce7c2269feef76e0/expr.ipynb\"><img src=\"../../../../conjunction/__pv_it/common/42118ff318bd65d98b1393f64ce7c2269feef76e0/expr.png\" style=\"display:inline;vertical-align:middle;\" /></a></td></tr>\n",
       "<tr><td>5</td><td>ExprTuple</td><td>6, 7, 8, 9, 10, 11, 12</td><td><a class=\"ProveItLink\" href=\"../5836fd09664d8000a376639fff97a3a77af1328c0/expr.ipynb\"><img src=\"../5836fd09664d8000a376639fff97a3a77af1328c0/expr.png\" style=\"display:inline;vertical-align:middle;\" /></a></td></tr>\n",
       "<tr><td>6</td><td>Operation</td><td>operator:&nbsp;16<br>operands:&nbsp;13<br></td><td><a class=\"ProveItLink\" href=\"../414e2da7a309b8ea0e77405db0c64f7feb9fa17e0/expr.ipynb\"><img src=\"../414e2da7a309b8ea0e77405db0c64f7feb9fa17e0/expr.png\" style=\"display:inline;vertical-align:middle;\" /></a></td></tr>\n",
       "<tr><td>7</td><td>Operation</td><td>operator:&nbsp;16<br>operands:&nbsp;14<br></td><td><a class=\"ProveItLink\" href=\"../6b89b43e4cbb2b2a7f36bef7320ec444c4840e0e0/expr.ipynb\"><img src=\"../6b89b43e4cbb2b2a7f36bef7320ec444c4840e0e0/expr.png\" style=\"display:inline;vertical-align:middle;\" /></a></td></tr>\n",
       "<tr><td>8</td><td>Operation</td><td>operator:&nbsp;16<br>operands:&nbsp;15<br></td><td><a class=\"ProveItLink\" href=\"../b59e86c72b4502a600c4eac6a03d74436cb1fea40/expr.ipynb\"><img src=\"../b59e86c72b4502a600c4eac6a03d74436cb1fea40/expr.png\" style=\"display:inline;vertical-align:middle;\" /></a></td></tr>\n",
       "<tr><td>9</td><td>Operation</td><td>operator:&nbsp;16<br>operands:&nbsp;17<br></td><td><a class=\"ProveItLink\" href=\"../af75d7a88b426fc518b410470e1d3e96fbdd11d60/expr.ipynb\"><img src=\"../af75d7a88b426fc518b410470e1d3e96fbdd11d60/expr.png\" style=\"display:inline;vertical-align:middle;\" /></a></td></tr>\n",
       "<tr><td>10</td><td>Operation</td><td>operator:&nbsp;18<br>operands:&nbsp;19<br></td><td><a class=\"ProveItLink\" href=\"../eed4b15619dee979ba3d430883847f7bf71847990/expr.ipynb\"><img src=\"../eed4b15619dee979ba3d430883847f7bf71847990/expr.png\" style=\"display:inline;vertical-align:middle;\" /></a></td></tr>\n",
       "<tr><td>11</td><td>Operation</td><td>operator:&nbsp;21<br>operands:&nbsp;20<br></td><td><a class=\"ProveItLink\" href=\"../4f9b7325d954af88465c365611fbf7b210ae09a70/expr.ipynb\"><img src=\"../4f9b7325d954af88465c365611fbf7b210ae09a70/expr.png\" style=\"display:inline;vertical-align:middle;\" /></a></td></tr>\n",
       "<tr><td>12</td><td>Operation</td><td>operator:&nbsp;21<br>operands:&nbsp;22<br></td><td><a class=\"ProveItLink\" href=\"../22b1825a82877c5990a3349ca69ff35354230a780/expr.ipynb\"><img src=\"../22b1825a82877c5990a3349ca69ff35354230a780/expr.png\" style=\"display:inline;vertical-align:middle;\" /></a></td></tr>\n",
       "<tr><td>13</td><td>ExprTuple</td><td>24, 23</td><td><a class=\"ProveItLink\" href=\"../71e21f013283363ece441aa9c43e819052d454d00/expr.ipynb\"><img src=\"../71e21f013283363ece441aa9c43e819052d454d00/expr.png\" style=\"display:inline;vertical-align:middle;\" /></a></td></tr>\n",
       "<tr><td>14</td><td>ExprTuple</td><td>26, 23</td><td><a class=\"ProveItLink\" href=\"../b193ebcd6b21c9b60c917b2f2b0404fb0b4261ba0/expr.ipynb\"><img src=\"../b193ebcd6b21c9b60c917b2f2b0404fb0b4261ba0/expr.png\" style=\"display:inline;vertical-align:middle;\" /></a></td></tr>\n",
       "<tr><td>15</td><td>ExprTuple</td><td>25, 23</td><td><a class=\"ProveItLink\" href=\"../05392ff554fb1a00db924efd52cba884893ad43b0/expr.ipynb\"><img src=\"../05392ff554fb1a00db924efd52cba884893ad43b0/expr.png\" style=\"display:inline;vertical-align:middle;\" /></a></td></tr>\n",
       "<tr><td>16</td><td>Literal</td><td></td><td><a class=\"ProveItLink\" href=\"../../../../../sets/membership/__pv_it/common/477487d8796864d23d5810f83761435f25167f690/expr.ipynb\"><img src=\"../../../../../sets/membership/__pv_it/common/477487d8796864d23d5810f83761435f25167f690/expr.png\" style=\"display:inline;vertical-align:middle;\" /></a></td></tr>\n",
       "<tr><td>17</td><td>ExprTuple</td><td>27, 23</td><td><a class=\"ProveItLink\" href=\"../7113fc352861d578305c0b71936f6dae88a0b44c0/expr.ipynb\"><img src=\"../7113fc352861d578305c0b71936f6dae88a0b44c0/expr.png\" style=\"display:inline;vertical-align:middle;\" /></a></td></tr>\n",
       "<tr><td>18</td><td>Literal</td><td></td><td><a class=\"ProveItLink\" href=\"../../common/ef8e59262ff8e0133aa1ca984dd6b3a41bf69d5b0/expr.ipynb\"><img src=\"../../common/ef8e59262ff8e0133aa1ca984dd6b3a41bf69d5b0/expr.png\" style=\"display:inline;vertical-align:middle;\" /></a></td></tr>\n",
       "<tr><td>19</td><td>ExprTuple</td><td>24, 26</td><td><a class=\"ProveItLink\" href=\"../8168c562b942d2349bc15878d637d47dc90786870/expr.ipynb\"><img src=\"../8168c562b942d2349bc15878d637d47dc90786870/expr.png\" style=\"display:inline;vertical-align:middle;\" /></a></td></tr>\n",
       "<tr><td>20</td><td>ExprTuple</td><td>24, 25</td><td><a class=\"ProveItLink\" href=\"../9a27a952bf8116820aa70563ec9855f174d317b00/expr.ipynb\"><img src=\"../9a27a952bf8116820aa70563ec9855f174d317b00/expr.png\" style=\"display:inline;vertical-align:middle;\" /></a></td></tr>\n",
       "<tr><td>21</td><td>Literal</td><td></td><td><a class=\"ProveItLink\" href=\"../../../../implication/__pv_it/common/02bdb382575728da8cdbaed545b9096ea7a1bd5b0/expr.ipynb\"><img src=\"../../../../implication/__pv_it/common/02bdb382575728da8cdbaed545b9096ea7a1bd5b0/expr.png\" style=\"display:inline;vertical-align:middle;\" /></a></td></tr>\n",
       "<tr><td>22</td><td>ExprTuple</td><td>26, 27</td><td><a class=\"ProveItLink\" href=\"../30bb021b1334646fcaf33ac33ef596abf3839f700/expr.ipynb\"><img src=\"../30bb021b1334646fcaf33ac33ef596abf3839f700/expr.png\" style=\"display:inline;vertical-align:middle;\" /></a></td></tr>\n",
       "<tr><td>23</td><td>Literal</td><td></td><td><a class=\"ProveItLink\" href=\"../../../../__pv_it/common/97424376de9815ad99f7180e3191b1cf4ab2a5710/expr.ipynb\"><img src=\"../../../../__pv_it/common/97424376de9815ad99f7180e3191b1cf4ab2a5710/expr.png\" style=\"display:inline;vertical-align:middle;\" /></a></td></tr>\n",
       "<tr><td>24</td><td>Variable</td><td></td><td><a class=\"ProveItLink\" href=\"../../../../../../__pv_it/common/09585084922504426caf1db2ff588a23a0932a960/expr.ipynb\"><img src=\"../../../../../../__pv_it/common/09585084922504426caf1db2ff588a23a0932a960/expr.png\" style=\"display:inline;vertical-align:middle;\" /></a></td></tr>\n",
       "<tr><td>25</td><td>Variable</td><td></td><td><a class=\"ProveItLink\" href=\"../../../../../../__pv_it/common/9fba9f29e823606ff4fdf2f1c6d5d08d906e850a0/expr.ipynb\"><img src=\"../../../../../../__pv_it/common/9fba9f29e823606ff4fdf2f1c6d5d08d906e850a0/expr.png\" style=\"display:inline;vertical-align:middle;\" /></a></td></tr>\n",
       "<tr><td>26</td><td>Variable</td><td></td><td><a class=\"ProveItLink\" href=\"../../../../../../__pv_it/common/a9162d1c3cc0470c02e5daf414500903a7a419230/expr.ipynb\"><img src=\"../../../../../../__pv_it/common/a9162d1c3cc0470c02e5daf414500903a7a419230/expr.png\" style=\"display:inline;vertical-align:middle;\" /></a></td></tr>\n",
       "<tr><td>27</td><td>Variable</td><td></td><td><a class=\"ProveItLink\" href=\"../../../../../../__pv_it/common/8d36d28f3636cdaa66f8b7d56eb3bbf0b50f70200/expr.ipynb\"><img src=\"../../../../../../__pv_it/common/8d36d28f3636cdaa66f8b7d56eb3bbf0b50f70200/expr.png\" style=\"display:inline;vertical-align:middle;\" /></a></td></tr>\n",
       "</table>\n"
      ],
      "text/plain": [
       "0. {C or D if A in BOOLEAN ,  B in BOOLEAN ,  C in BOOLEAN ,  D in BOOLEAN ,  A or B ,  A => C ,  B => D.\n",
       "   core type: Conditional\n",
       "   value: 1\n",
       "   condition: 2\n",
       "1. C or D\n",
       "   core type: Operation\n",
       "   operator: 18\n",
       "   operands: 3\n",
       "2. (A in BOOLEAN) and (B in BOOLEAN) and (C in BOOLEAN) and (D in BOOLEAN) and (A or B) and (A => C) and (B => D)\n",
       "   core type: Operation\n",
       "   operator: 4\n",
       "   operands: 5\n",
       "3. (C, D)\n",
       "   core type: ExprTuple\n",
       "   sub-expressions: 25, 27\n",
       "4. and\n",
       "   core type: Literal\n",
       "   sub-expressions: \n",
       "5. (A in BOOLEAN, B in BOOLEAN, C in BOOLEAN, D in BOOLEAN, A or B, A => C, B => D)\n",
       "   core type: ExprTuple\n",
       "   sub-expressions: 6, 7, 8, 9, 10, 11, 12\n",
       "6. A in BOOLEAN\n",
       "   core type: Operation\n",
       "   operator: 16\n",
       "   operands: 13\n",
       "7. B in BOOLEAN\n",
       "   core type: Operation\n",
       "   operator: 16\n",
       "   operands: 14\n",
       "8. C in BOOLEAN\n",
       "   core type: Operation\n",
       "   operator: 16\n",
       "   operands: 15\n",
       "9. D in BOOLEAN\n",
       "   core type: Operation\n",
       "   operator: 16\n",
       "   operands: 17\n",
       "10. A or B\n",
       "    core type: Operation\n",
       "    operator: 18\n",
       "    operands: 19\n",
       "11. A => C\n",
       "    core type: Operation\n",
       "    operator: 21\n",
       "    operands: 20\n",
       "12. B => D\n",
       "    core type: Operation\n",
       "    operator: 21\n",
       "    operands: 22\n",
       "13. (A, BOOLEAN)\n",
       "    core type: ExprTuple\n",
       "    sub-expressions: 24, 23\n",
       "14. (B, BOOLEAN)\n",
       "    core type: ExprTuple\n",
       "    sub-expressions: 26, 23\n",
       "15. (C, BOOLEAN)\n",
       "    core type: ExprTuple\n",
       "    sub-expressions: 25, 23\n",
       "16. in\n",
       "    core type: Literal\n",
       "    sub-expressions: \n",
       "17. (D, BOOLEAN)\n",
       "    core type: ExprTuple\n",
       "    sub-expressions: 27, 23\n",
       "18. or\n",
       "    core type: Literal\n",
       "    sub-expressions: \n",
       "19. (A, B)\n",
       "    core type: ExprTuple\n",
       "    sub-expressions: 24, 26\n",
       "20. (A, C)\n",
       "    core type: ExprTuple\n",
       "    sub-expressions: 24, 25\n",
       "21. =>\n",
       "    core type: Literal\n",
       "    sub-expressions: \n",
       "22. (B, D)\n",
       "    core type: ExprTuple\n",
       "    sub-expressions: 26, 27\n",
       "23. BOOLEAN\n",
       "    core type: Literal\n",
       "    sub-expressions: \n",
       "24. A\n",
       "    core type: Variable\n",
       "    sub-expressions: \n",
       "25. C\n",
       "    core type: Variable\n",
       "    sub-expressions: \n",
       "26. B\n",
       "    core type: Variable\n",
       "    sub-expressions: \n",
       "27. D\n",
       "    core type: Variable\n",
       "    sub-expressions: "
      ]
     },
     "execution_count": 5,
     "metadata": {},
     "output_type": "execute_result"
    }
   ],
   "source": [
    "# display the expression information\n",
    "expr.expr_info()"
   ]
  },
  {
   "cell_type": "code",
   "execution_count": null,
   "metadata": {},
   "outputs": [],
   "source": []
  }
 ],
 "metadata": {
  "kernelspec": {
   "display_name": "Python 3",
   "language": "python",
   "name": "python3"
  }
 },
 "nbformat": 4,
 "nbformat_minor": 0
}