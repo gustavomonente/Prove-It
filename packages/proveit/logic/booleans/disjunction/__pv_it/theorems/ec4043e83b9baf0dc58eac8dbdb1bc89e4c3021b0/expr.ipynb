{
 "cells": [
  {
   "cell_type": "markdown",
   "metadata": {},
   "source": [
    "Expression of type <a class=\"ProveItLink\" href=\"../../../../../../../../doc/html/api/proveit.logic.And.html\">And</a>\n",
    "=======================\n",
    "# from the theory of <a class=\"ProveItLink\" href=\"../../../_theory_nbs_/theory.ipynb\">proveit.logic.booleans.disjunction</a>"
   ]
  },
  {
   "cell_type": "code",
   "execution_count": 1,
   "metadata": {},
   "outputs": [],
   "source": [
    "import proveit\n",
    "# Automation is not needed when building an expression:\n",
    "proveit.defaults.automation = False # This will speed things up.\n",
    "proveit.defaults.inline_pngs = False # Makes files smaller.\n",
    "%load_expr # Load the stored expression as 'stored_expr'\n",
    "# import Expression classes needed to build the expression\n",
    "from proveit import A, B, ExprRange, IndexedVar, Variable, i, m\n",
    "from proveit.logic import And, Boolean, Implies, InSet, Not, Or\n",
    "from proveit.numbers import one"
   ]
  },
  {
   "cell_type": "code",
   "execution_count": 2,
   "metadata": {},
   "outputs": [
    {
     "data": {
      "text/html": [
       "<strong id=\"expr\">expr:</strong> <a class=\"ProveItLink\" href=\"expr.ipynb\"><img src=\"expr.png\" style=\"display:inline;vertical-align:middle;\" /></a><br>"
      ],
      "text/plain": [
       "expr: (A_{1} in BOOLEAN) and ..(A_{_a} in BOOLEAN).. and (A_{m} in BOOLEAN) and (B_{1} in BOOLEAN) and ..(B_{_a} in BOOLEAN).. and (B_{m} in BOOLEAN) and ([not](A_{1}) or ..[not](A_{i}).. or [not](A_{m})) and (A_{1} => B_{1}) and ..(A_{i} => B_{i}).. and (A_{m} => B_{m})"
      ]
     },
     "execution_count": 2,
     "metadata": {},
     "output_type": "execute_result"
    }
   ],
   "source": [
    "# build up the expression from sub-expressions\n",
    "sub_expr1 = Variable(\"_a\", latex_format = r\"{_{-}a}\")\n",
    "sub_expr2 = IndexedVar(A, i)\n",
    "expr = And(ExprRange(sub_expr1, InSet(IndexedVar(A, sub_expr1), Boolean), one, m), ExprRange(sub_expr1, InSet(IndexedVar(B, sub_expr1), Boolean), one, m), Or(ExprRange(i, Not(sub_expr2), one, m)), ExprRange(i, Implies(sub_expr2, IndexedVar(B, i)), one, m))"
   ]
  },
  {
   "cell_type": "code",
   "execution_count": 3,
   "metadata": {},
   "outputs": [
    {
     "name": "stdout",
     "output_type": "stream",
     "text": [
      "Passed sanity check: expr matches stored_expr\n"
     ]
    }
   ],
   "source": [
    "# check that the built expression is the same as the stored expression\n",
    "assert expr == stored_expr\n",
    "assert expr._style_id == stored_expr._style_id\n",
    "print(\"Passed sanity check: expr matches stored_expr\")"
   ]
  },
  {
   "cell_type": "code",
   "execution_count": 4,
   "metadata": {},
   "outputs": [
    {
     "name": "stdout",
     "output_type": "stream",
     "text": [
      "\\left(A_{1} \\in \\mathbb{B}\\right) \\land \\ldots \\land \\left(A_{m} \\in \\mathbb{B}\\right) \\land \\left(B_{1} \\in \\mathbb{B}\\right) \\land \\ldots \\land \\left(B_{m} \\in \\mathbb{B}\\right) \\land \\left((\\lnot A_{1}) \\lor \\ldots \\lor (\\lnot A_{m})\\right) \\land \\left(A_{1} \\Rightarrow B_{1}\\right) \\land \\ldots \\land \\left(A_{m} \\Rightarrow B_{m}\\right)\n"
     ]
    }
   ],
   "source": [
    "# Show the LaTeX representation of the expression for convenience if you need it.\n",
    "print(expr.latex())"
   ]
  },
  {
   "cell_type": "code",
   "execution_count": 5,
   "metadata": {},
   "outputs": [
    {
     "data": {
      "text/html": [
       "<table><tr><th>&nbsp;</th><th>core type</th><th>sub-expressions</th><th>expression</th></tr>\n",
       "<tr><td>0</td><td>Operation</td><td>operator:&nbsp;1<br>operands:&nbsp;2<br></td><td><a class=\"ProveItLink\" href=\"expr.ipynb\"><img src=\"expr.png\" style=\"display:inline;vertical-align:middle;\" /></a></td></tr>\n",
       "<tr><td>1</td><td>Literal</td><td></td><td><a class=\"ProveItLink\" href=\"../../../../conjunction/__pv_it/common/42118ff318bd65d98b1393f64ce7c2269feef76e0/expr.ipynb\"><img src=\"../../../../conjunction/__pv_it/common/42118ff318bd65d98b1393f64ce7c2269feef76e0/expr.png\" style=\"display:inline;vertical-align:middle;\" /></a></td></tr>\n",
       "<tr><td>2</td><td>ExprTuple</td><td>3, 4, 5, 6</td><td><a class=\"ProveItLink\" href=\"../30d46c93ff2aa73ccd4cb16df2c8ec416d77a5fc0/expr.ipynb\"><img src=\"../30d46c93ff2aa73ccd4cb16df2c8ec416d77a5fc0/expr.png\" style=\"display:inline;vertical-align:middle;\" /></a></td></tr>\n",
       "<tr><td>3</td><td>ExprRange</td><td>lambda_map:&nbsp;7<br>start_index:&nbsp;20<br>end_index:&nbsp;21<br></td><td><a class=\"ProveItLink\" href=\"../f51be7676e200a823a0f5274bb31919faaf2afee0/expr.ipynb\"><img src=\"../f51be7676e200a823a0f5274bb31919faaf2afee0/expr.png\" style=\"display:inline;vertical-align:middle;\" /></a></td></tr>\n",
       "<tr><td>4</td><td>ExprRange</td><td>lambda_map:&nbsp;8<br>start_index:&nbsp;20<br>end_index:&nbsp;21<br></td><td><a class=\"ProveItLink\" href=\"../a642372663407a326231f9628ea399fffb11d38a0/expr.ipynb\"><img src=\"../a642372663407a326231f9628ea399fffb11d38a0/expr.png\" style=\"display:inline;vertical-align:middle;\" /></a></td></tr>\n",
       "<tr><td>5</td><td>Operation</td><td>operator:&nbsp;9<br>operands:&nbsp;10<br></td><td><a class=\"ProveItLink\" href=\"../29e39b8184b9e5e250a7d768233ea1538414b77a0/expr.ipynb\"><img src=\"../29e39b8184b9e5e250a7d768233ea1538414b77a0/expr.png\" style=\"display:inline;vertical-align:middle;\" /></a></td></tr>\n",
       "<tr><td>6</td><td>ExprRange</td><td>lambda_map:&nbsp;11<br>start_index:&nbsp;20<br>end_index:&nbsp;21<br></td><td><a class=\"ProveItLink\" href=\"../c96ee3c3b85bb9197bab39d6d1a8da262149d4cf0/expr.ipynb\"><img src=\"../c96ee3c3b85bb9197bab39d6d1a8da262149d4cf0/expr.png\" style=\"display:inline;vertical-align:middle;\" /></a></td></tr>\n",
       "<tr><td>7</td><td>Lambda</td><td>parameter:&nbsp;29<br>body:&nbsp;12<br></td><td><a class=\"ProveItLink\" href=\"../dcd2a304dd7fba4219b9ebc4dc7465707158eff50/expr.ipynb\"><img src=\"../dcd2a304dd7fba4219b9ebc4dc7465707158eff50/expr.png\" style=\"display:inline;vertical-align:middle;\" /></a></td></tr>\n",
       "<tr><td>8</td><td>Lambda</td><td>parameter:&nbsp;29<br>body:&nbsp;13<br></td><td><a class=\"ProveItLink\" href=\"../4ccdc9e3f397182c9455db4945d4b9b6117de8e50/expr.ipynb\"><img src=\"../4ccdc9e3f397182c9455db4945d4b9b6117de8e50/expr.png\" style=\"display:inline;vertical-align:middle;\" /></a></td></tr>\n",
       "<tr><td>9</td><td>Literal</td><td></td><td><a class=\"ProveItLink\" href=\"../../common/ef8e59262ff8e0133aa1ca984dd6b3a41bf69d5b0/expr.ipynb\"><img src=\"../../common/ef8e59262ff8e0133aa1ca984dd6b3a41bf69d5b0/expr.png\" style=\"display:inline;vertical-align:middle;\" /></a></td></tr>\n",
       "<tr><td>10</td><td>ExprTuple</td><td>14</td><td><a class=\"ProveItLink\" href=\"../c962b35d04abb11711db5222faa7a7a30ee2c8080/expr.ipynb\"><img src=\"../c962b35d04abb11711db5222faa7a7a30ee2c8080/expr.png\" style=\"display:inline;vertical-align:middle;\" /></a></td></tr>\n",
       "<tr><td>11</td><td>Lambda</td><td>parameter:&nbsp;34<br>body:&nbsp;15<br></td><td><a class=\"ProveItLink\" href=\"../995d3e11461286de035f6327bca78bf9dc107eb30/expr.ipynb\"><img src=\"../995d3e11461286de035f6327bca78bf9dc107eb30/expr.png\" style=\"display:inline;vertical-align:middle;\" /></a></td></tr>\n",
       "<tr><td>12</td><td>Operation</td><td>operator:&nbsp;17<br>operands:&nbsp;16<br></td><td><a class=\"ProveItLink\" href=\"../874c8082deb448f04b0ff552bef91dd355d650f90/expr.ipynb\"><img src=\"../874c8082deb448f04b0ff552bef91dd355d650f90/expr.png\" style=\"display:inline;vertical-align:middle;\" /></a></td></tr>\n",
       "<tr><td>13</td><td>Operation</td><td>operator:&nbsp;17<br>operands:&nbsp;18<br></td><td><a class=\"ProveItLink\" href=\"../b91c6def0c9b81e6a55584d439d8c40bdbf7548b0/expr.ipynb\"><img src=\"../b91c6def0c9b81e6a55584d439d8c40bdbf7548b0/expr.png\" style=\"display:inline;vertical-align:middle;\" /></a></td></tr>\n",
       "<tr><td>14</td><td>ExprRange</td><td>lambda_map:&nbsp;19<br>start_index:&nbsp;20<br>end_index:&nbsp;21<br></td><td><a class=\"ProveItLink\" href=\"../90beb74625a23d1b9c4140ebe43394bf12740fed0/expr.ipynb\"><img src=\"../90beb74625a23d1b9c4140ebe43394bf12740fed0/expr.png\" style=\"display:inline;vertical-align:middle;\" /></a></td></tr>\n",
       "<tr><td>15</td><td>Operation</td><td>operator:&nbsp;22<br>operands:&nbsp;23<br></td><td><a class=\"ProveItLink\" href=\"../618477045450df162360d3c24ce601b1fba30a290/expr.ipynb\"><img src=\"../618477045450df162360d3c24ce601b1fba30a290/expr.png\" style=\"display:inline;vertical-align:middle;\" /></a></td></tr>\n",
       "<tr><td>16</td><td>ExprTuple</td><td>24, 26</td><td><a class=\"ProveItLink\" href=\"../8c5f6fadd3c74e04805ac4da92a7bc4644c939840/expr.ipynb\"><img src=\"../8c5f6fadd3c74e04805ac4da92a7bc4644c939840/expr.png\" style=\"display:inline;vertical-align:middle;\" /></a></td></tr>\n",
       "<tr><td>17</td><td>Literal</td><td></td><td><a class=\"ProveItLink\" href=\"../../../../../sets/membership/__pv_it/common/477487d8796864d23d5810f83761435f25167f690/expr.ipynb\"><img src=\"../../../../../sets/membership/__pv_it/common/477487d8796864d23d5810f83761435f25167f690/expr.png\" style=\"display:inline;vertical-align:middle;\" /></a></td></tr>\n",
       "<tr><td>18</td><td>ExprTuple</td><td>25, 26</td><td><a class=\"ProveItLink\" href=\"../b77a5f9a71845b6b83fb205d041392f19f69250c0/expr.ipynb\"><img src=\"../b77a5f9a71845b6b83fb205d041392f19f69250c0/expr.png\" style=\"display:inline;vertical-align:middle;\" /></a></td></tr>\n",
       "<tr><td>19</td><td>Lambda</td><td>parameter:&nbsp;34<br>body:&nbsp;27<br></td><td><a class=\"ProveItLink\" href=\"../82a9657e7ee726c324971845b21da2f13741a6a30/expr.ipynb\"><img src=\"../82a9657e7ee726c324971845b21da2f13741a6a30/expr.png\" style=\"display:inline;vertical-align:middle;\" /></a></td></tr>\n",
       "<tr><td>20</td><td>Literal</td><td></td><td><a class=\"ProveItLink\" href=\"../../../../../../numbers/numerals/__pv_it/common/2778428c7f555b2bdc06aa0530bc142c6e6335100/expr.ipynb\"><img src=\"../../../../../../numbers/numerals/__pv_it/common/2778428c7f555b2bdc06aa0530bc142c6e6335100/expr.png\" style=\"display:inline;vertical-align:middle;\" /></a></td></tr>\n",
       "<tr><td>21</td><td>Variable</td><td></td><td><a class=\"ProveItLink\" href=\"../../../../../../__pv_it/common/674a03b9c3ca221b3aabd5636837b31528ff33830/expr.ipynb\"><img src=\"../../../../../../__pv_it/common/674a03b9c3ca221b3aabd5636837b31528ff33830/expr.png\" style=\"display:inline;vertical-align:middle;\" /></a></td></tr>\n",
       "<tr><td>22</td><td>Literal</td><td></td><td><a class=\"ProveItLink\" href=\"../../../../implication/__pv_it/common/02bdb382575728da8cdbaed545b9096ea7a1bd5b0/expr.ipynb\"><img src=\"../../../../implication/__pv_it/common/02bdb382575728da8cdbaed545b9096ea7a1bd5b0/expr.png\" style=\"display:inline;vertical-align:middle;\" /></a></td></tr>\n",
       "<tr><td>23</td><td>ExprTuple</td><td>31, 28</td><td><a class=\"ProveItLink\" href=\"../d442c569c02145f0f3bdbc73665f6571cf81e00b0/expr.ipynb\"><img src=\"../d442c569c02145f0f3bdbc73665f6571cf81e00b0/expr.png\" style=\"display:inline;vertical-align:middle;\" /></a></td></tr>\n",
       "<tr><td>24</td><td>IndexedVar</td><td>variable:&nbsp;33<br>index:&nbsp;29<br></td><td><a class=\"ProveItLink\" href=\"../../../../../../core_expr_types/__pv_it/common/65f6ea908cba61c02c46e59c65a80b52e171496d0/expr.ipynb\"><img src=\"../../../../../../core_expr_types/__pv_it/common/65f6ea908cba61c02c46e59c65a80b52e171496d0/expr.png\" style=\"display:inline;vertical-align:middle;\" /></a></td></tr>\n",
       "<tr><td>25</td><td>IndexedVar</td><td>variable:&nbsp;32<br>index:&nbsp;29<br></td><td><a class=\"ProveItLink\" href=\"../../../../../../core_expr_types/__pv_it/common/6be519f77f8e35455c857bbd73a9aacbdbee96610/expr.ipynb\"><img src=\"../../../../../../core_expr_types/__pv_it/common/6be519f77f8e35455c857bbd73a9aacbdbee96610/expr.png\" style=\"display:inline;vertical-align:middle;\" /></a></td></tr>\n",
       "<tr><td>26</td><td>Literal</td><td></td><td><a class=\"ProveItLink\" href=\"../../../../__pv_it/common/97424376de9815ad99f7180e3191b1cf4ab2a5710/expr.ipynb\"><img src=\"../../../../__pv_it/common/97424376de9815ad99f7180e3191b1cf4ab2a5710/expr.png\" style=\"display:inline;vertical-align:middle;\" /></a></td></tr>\n",
       "<tr><td>27</td><td>Operation</td><td>operator:&nbsp;30<br>operand:&nbsp;31<br></td><td><a class=\"ProveItLink\" href=\"../4f798830ec0b1b8a6c3ac42f91e7df39477c7d710/expr.ipynb\"><img src=\"../4f798830ec0b1b8a6c3ac42f91e7df39477c7d710/expr.png\" style=\"display:inline;vertical-align:middle;\" /></a></td></tr>\n",
       "<tr><td>28</td><td>IndexedVar</td><td>variable:&nbsp;32<br>index:&nbsp;34<br></td><td><a class=\"ProveItLink\" href=\"../6b5cfcd3a9a5cbfe9b527fdfa8813c750009a5730/expr.ipynb\"><img src=\"../6b5cfcd3a9a5cbfe9b527fdfa8813c750009a5730/expr.png\" style=\"display:inline;vertical-align:middle;\" /></a></td></tr>\n",
       "<tr><td>29</td><td>Variable</td><td></td><td><a class=\"ProveItLink\" href=\"../../../../../../core_expr_types/__pv_it/common/006c465e50948aa2b52285e2de47974f741255cc0/expr.ipynb\"><img src=\"../../../../../../core_expr_types/__pv_it/common/006c465e50948aa2b52285e2de47974f741255cc0/expr.png\" style=\"display:inline;vertical-align:middle;\" /></a></td></tr>\n",
       "<tr><td>30</td><td>Literal</td><td></td><td><a class=\"ProveItLink\" href=\"../../../../negation/__pv_it/common/1a811a997e5d75fdb50cdaf74f302daccad39af40/expr.ipynb\"><img src=\"../../../../negation/__pv_it/common/1a811a997e5d75fdb50cdaf74f302daccad39af40/expr.png\" style=\"display:inline;vertical-align:middle;\" /></a></td></tr>\n",
       "<tr><td>31</td><td>IndexedVar</td><td>variable:&nbsp;33<br>index:&nbsp;34<br></td><td><a class=\"ProveItLink\" href=\"../37561ccd23499b6ae37bcade0946ef4e29ca4de10/expr.ipynb\"><img src=\"../37561ccd23499b6ae37bcade0946ef4e29ca4de10/expr.png\" style=\"display:inline;vertical-align:middle;\" /></a></td></tr>\n",
       "<tr><td>32</td><td>Variable</td><td></td><td><a class=\"ProveItLink\" href=\"../../../../../../__pv_it/common/a9162d1c3cc0470c02e5daf414500903a7a419230/expr.ipynb\"><img src=\"../../../../../../__pv_it/common/a9162d1c3cc0470c02e5daf414500903a7a419230/expr.png\" style=\"display:inline;vertical-align:middle;\" /></a></td></tr>\n",
       "<tr><td>33</td><td>Variable</td><td></td><td><a class=\"ProveItLink\" href=\"../../../../../../__pv_it/common/09585084922504426caf1db2ff588a23a0932a960/expr.ipynb\"><img src=\"../../../../../../__pv_it/common/09585084922504426caf1db2ff588a23a0932a960/expr.png\" style=\"display:inline;vertical-align:middle;\" /></a></td></tr>\n",
       "<tr><td>34</td><td>Variable</td><td></td><td><a class=\"ProveItLink\" href=\"../../../../../../__pv_it/common/ae955345c83abf786c3aff8681cd5465beae262d0/expr.ipynb\"><img src=\"../../../../../../__pv_it/common/ae955345c83abf786c3aff8681cd5465beae262d0/expr.png\" style=\"display:inline;vertical-align:middle;\" /></a></td></tr>\n",
       "</table>\n"
      ],
      "text/plain": [
       "0. (A_{1} in BOOLEAN) and ..(A_{_a} in BOOLEAN).. and (A_{m} in BOOLEAN) and (B_{1} in BOOLEAN) and ..(B_{_a} in BOOLEAN).. and (B_{m} in BOOLEAN) and ([not](A_{1}) or ..[not](A_{i}).. or [not](A_{m})) and (A_{1} => B_{1}) and ..(A_{i} => B_{i}).. and (A_{m} => B_{m})\n",
       "   core type: Operation\n",
       "   operator: 1\n",
       "   operands: 2\n",
       "1. and\n",
       "   core type: Literal\n",
       "   sub-expressions: \n",
       "2. (A_{1} in BOOLEAN, ..A_{_a} in BOOLEAN.., A_{m} in BOOLEAN, B_{1} in BOOLEAN, ..B_{_a} in BOOLEAN.., B_{m} in BOOLEAN, [not](A_{1}) or ..[not](A_{i}).. or [not](A_{m}), A_{1} => B_{1}, ..A_{i} => B_{i}.., A_{m} => B_{m})\n",
       "   core type: ExprTuple\n",
       "   sub-expressions: 3, 4, 5, 6\n",
       "3. (A_{1} in BOOLEAN), ..(A_{_a} in BOOLEAN).., (A_{m} in BOOLEAN)\n",
       "   core type: ExprRange\n",
       "   lambda_map: 7\n",
       "   start_index: 20\n",
       "   end_index: 21\n",
       "4. (B_{1} in BOOLEAN), ..(B_{_a} in BOOLEAN).., (B_{m} in BOOLEAN)\n",
       "   core type: ExprRange\n",
       "   lambda_map: 8\n",
       "   start_index: 20\n",
       "   end_index: 21\n",
       "5. [not](A_{1}) or ..[not](A_{i}).. or [not](A_{m})\n",
       "   core type: Operation\n",
       "   operator: 9\n",
       "   operands: 10\n",
       "6. (A_{1} => B_{1}), ..(A_{i} => B_{i}).., (A_{m} => B_{m})\n",
       "   core type: ExprRange\n",
       "   lambda_map: 11\n",
       "   start_index: 20\n",
       "   end_index: 21\n",
       "7. _a -> (A_{_a} in BOOLEAN)\n",
       "   core type: Lambda\n",
       "   parameter: 29\n",
       "   body: 12\n",
       "8. _a -> (B_{_a} in BOOLEAN)\n",
       "   core type: Lambda\n",
       "   parameter: 29\n",
       "   body: 13\n",
       "9. or\n",
       "   core type: Literal\n",
       "   sub-expressions: \n",
       "10. ([not](A_{1}), ..[not](A_{i}).., [not](A_{m}))\n",
       "    core type: ExprTuple\n",
       "    sub-expressions: 14\n",
       "11. i -> (A_{i} => B_{i})\n",
       "    core type: Lambda\n",
       "    parameter: 34\n",
       "    body: 15\n",
       "12. A_{_a} in BOOLEAN\n",
       "    core type: Operation\n",
       "    operator: 17\n",
       "    operands: 16\n",
       "13. B_{_a} in BOOLEAN\n",
       "    core type: Operation\n",
       "    operator: 17\n",
       "    operands: 18\n",
       "14. [not](A_{1}), ..[not](A_{i}).., [not](A_{m})\n",
       "    core type: ExprRange\n",
       "    lambda_map: 19\n",
       "    start_index: 20\n",
       "    end_index: 21\n",
       "15. A_{i} => B_{i}\n",
       "    core type: Operation\n",
       "    operator: 22\n",
       "    operands: 23\n",
       "16. (A_{_a}, BOOLEAN)\n",
       "    core type: ExprTuple\n",
       "    sub-expressions: 24, 26\n",
       "17. in\n",
       "    core type: Literal\n",
       "    sub-expressions: \n",
       "18. (B_{_a}, BOOLEAN)\n",
       "    core type: ExprTuple\n",
       "    sub-expressions: 25, 26\n",
       "19. i -> [not](A_{i})\n",
       "    core type: Lambda\n",
       "    parameter: 34\n",
       "    body: 27\n",
       "20. 1\n",
       "    core type: Literal\n",
       "    sub-expressions: \n",
       "21. m\n",
       "    core type: Variable\n",
       "    sub-expressions: \n",
       "22. =>\n",
       "    core type: Literal\n",
       "    sub-expressions: \n",
       "23. (A_{i}, B_{i})\n",
       "    core type: ExprTuple\n",
       "    sub-expressions: 31, 28\n",
       "24. A_{_a}\n",
       "    core type: IndexedVar\n",
       "variable: 33\n",
       "index: 29\n",
       "25. B_{_a}\n",
       "    core type: IndexedVar\n",
       "variable: 32\n",
       "index: 29\n",
       "26. BOOLEAN\n",
       "    core type: Literal\n",
       "    sub-expressions: \n",
       "27. [not](A_{i})\n",
       "    core type: Operation\n",
       "    operator: 30\n",
       "    operand: 31\n",
       "28. B_{i}\n",
       "    core type: IndexedVar\n",
       "variable: 32\n",
       "index: 34\n",
       "29. _a\n",
       "    core type: Variable\n",
       "    sub-expressions: \n",
       "30. not\n",
       "    core type: Literal\n",
       "    sub-expressions: \n",
       "31. A_{i}\n",
       "    core type: IndexedVar\n",
       "variable: 33\n",
       "index: 34\n",
       "32. B\n",
       "    core type: Variable\n",
       "    sub-expressions: \n",
       "33. A\n",
       "    core type: Variable\n",
       "    sub-expressions: \n",
       "34. i\n",
       "    core type: Variable\n",
       "    sub-expressions: "
      ]
     },
     "execution_count": 5,
     "metadata": {},
     "output_type": "execute_result"
    }
   ],
   "source": [
    "# display the expression information\n",
    "expr.expr_info()"
   ]
  },
  {
   "cell_type": "code",
   "execution_count": null,
   "metadata": {},
   "outputs": [],
   "source": []
  }
 ],
 "metadata": {
  "kernelspec": {
   "display_name": "Python 3",
   "language": "python",
   "name": "python3"
  }
 },
 "nbformat": 4,
 "nbformat_minor": 0
}