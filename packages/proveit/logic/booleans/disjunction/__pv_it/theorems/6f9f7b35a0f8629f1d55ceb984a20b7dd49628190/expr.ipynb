{
 "cells": [
  {
   "cell_type": "markdown",
   "metadata": {},
   "source": [
    "Expression of type <a class=\"ProveItLink\" href=\"../../../../../../../../doc/html/api/proveit.Lambda.html\">Lambda</a>\n",
    "=======================\n",
    "# from the theory of <a class=\"ProveItLink\" href=\"../../../_theory_nbs_/theory.ipynb\">proveit.logic.booleans.disjunction</a>"
   ]
  },
  {
   "cell_type": "code",
   "execution_count": 1,
   "metadata": {},
   "outputs": [],
   "source": [
    "import proveit\n",
    "# Automation is not needed when building an expression:\n",
    "proveit.defaults.automation = False # This will speed things up.\n",
    "proveit.defaults.inline_pngs = False # Makes files smaller.\n",
    "%load_expr # Load the stored expression as 'stored_expr'\n",
    "# import Expression classes needed to build the expression\n",
    "from proveit import A, Conditional, ExprRange, IndexedVar, Lambda, Variable, m\n",
    "from proveit.core_expr_types import A_1_to_m\n",
    "from proveit.logic import And, Equals, FALSE, InSet, Or, Set\n",
    "from proveit.numbers import one"
   ]
  },
  {
   "cell_type": "code",
   "execution_count": 2,
   "metadata": {},
   "outputs": [
    {
     "data": {
      "text/html": [
       "<strong id=\"expr\">expr:</strong> <a class=\"ProveItLink\" href=\"expr.ipynb\"><img src=\"expr.png\" style=\"display:inline;vertical-align:middle;\" /></a><br>"
      ],
      "text/plain": [
       "expr: (A_{1}, ..A_{_a}.., A_{m}) -> {(A_{1} or ..A_{_a}.. or A_{m}) = FALSE if (A_{1} in {FALSE}) and ..(A_{_a} in {FALSE}).. and (A_{m} in {FALSE})."
      ]
     },
     "execution_count": 2,
     "metadata": {},
     "output_type": "execute_result"
    }
   ],
   "source": [
    "# build up the expression from sub-expressions\n",
    "sub_expr1 = Variable(\"_a\", latex_format = r\"{_{-}a}\")\n",
    "expr = Lambda([A_1_to_m], Conditional(Equals(Or(A_1_to_m), FALSE), And(ExprRange(sub_expr1, InSet(IndexedVar(A, sub_expr1), Set(FALSE)), one, m))))"
   ]
  },
  {
   "cell_type": "code",
   "execution_count": 3,
   "metadata": {},
   "outputs": [
    {
     "name": "stdout",
     "output_type": "stream",
     "text": [
      "Passed sanity check: expr matches stored_expr\n"
     ]
    }
   ],
   "source": [
    "# check that the built expression is the same as the stored expression\n",
    "assert expr == stored_expr\n",
    "assert expr._style_id == stored_expr._style_id\n",
    "print(\"Passed sanity check: expr matches stored_expr\")"
   ]
  },
  {
   "cell_type": "code",
   "execution_count": 4,
   "metadata": {},
   "outputs": [
    {
     "name": "stdout",
     "output_type": "stream",
     "text": [
      "\\left(A_{1}, \\ldots, A_{m}\\right) \\mapsto \\left\\{\\left(A_{1} \\lor \\ldots \\lor A_{m}\\right) = \\bot \\textrm{ if } \\left(A_{1} \\in \\left\\{\\bot\\right\\}\\right) \\land \\ldots \\land \\left(A_{m} \\in \\left\\{\\bot\\right\\}\\right)\\right..\n"
     ]
    }
   ],
   "source": [
    "# Show the LaTeX representation of the expression for convenience if you need it.\n",
    "print(expr.latex())"
   ]
  },
  {
   "cell_type": "code",
   "execution_count": 5,
   "metadata": {},
   "outputs": [
    {
     "data": {
      "text/html": [
       "<table><tr><th>&nbsp;</th><th>core type</th><th>sub-expressions</th><th>expression</th></tr>\n",
       "<tr><td>0</td><td>Lambda</td><td>parameters:&nbsp;11<br>body:&nbsp;1<br></td><td><a class=\"ProveItLink\" href=\"expr.ipynb\"><img src=\"expr.png\" style=\"display:inline;vertical-align:middle;\" /></a></td></tr>\n",
       "<tr><td>1</td><td>Conditional</td><td>value:&nbsp;2<br>condition:&nbsp;3<br></td><td><a class=\"ProveItLink\" href=\"../2bc54ffeb062d87d7f4dadd5427375beaa42e5100/expr.ipynb\"><img src=\"../2bc54ffeb062d87d7f4dadd5427375beaa42e5100/expr.png\" style=\"display:inline;vertical-align:middle;\" /></a></td></tr>\n",
       "<tr><td>2</td><td>Operation</td><td>operator:&nbsp;4<br>operands:&nbsp;5<br></td><td><a class=\"ProveItLink\" href=\"../4ef700b5c65f6865dfc44ddfbcc17dd7487d32810/expr.ipynb\"><img src=\"../4ef700b5c65f6865dfc44ddfbcc17dd7487d32810/expr.png\" style=\"display:inline;vertical-align:middle;\" /></a></td></tr>\n",
       "<tr><td>3</td><td>Operation</td><td>operator:&nbsp;6<br>operands:&nbsp;7<br></td><td><a class=\"ProveItLink\" href=\"../34d2350ab7b19f5dfa032f7068e9a739b967a08e0/expr.ipynb\"><img src=\"../34d2350ab7b19f5dfa032f7068e9a739b967a08e0/expr.png\" style=\"display:inline;vertical-align:middle;\" /></a></td></tr>\n",
       "<tr><td>4</td><td>Literal</td><td></td><td><a class=\"ProveItLink\" href=\"../../../../../equality/__pv_it/common/fb96dc12b2aa8801dda64d0132b396c63d1502bb0/expr.ipynb\"><img src=\"../../../../../equality/__pv_it/common/fb96dc12b2aa8801dda64d0132b396c63d1502bb0/expr.png\" style=\"display:inline;vertical-align:middle;\" /></a></td></tr>\n",
       "<tr><td>5</td><td>ExprTuple</td><td>8, 25</td><td><a class=\"ProveItLink\" href=\"../0f3e7b03d8f829867adba6a010e75334dff233600/expr.ipynb\"><img src=\"../0f3e7b03d8f829867adba6a010e75334dff233600/expr.png\" style=\"display:inline;vertical-align:middle;\" /></a></td></tr>\n",
       "<tr><td>6</td><td>Literal</td><td></td><td><a class=\"ProveItLink\" href=\"../../../../conjunction/__pv_it/common/42118ff318bd65d98b1393f64ce7c2269feef76e0/expr.ipynb\"><img src=\"../../../../conjunction/__pv_it/common/42118ff318bd65d98b1393f64ce7c2269feef76e0/expr.png\" style=\"display:inline;vertical-align:middle;\" /></a></td></tr>\n",
       "<tr><td>7</td><td>ExprTuple</td><td>9</td><td><a class=\"ProveItLink\" href=\"../cdb93c2fb7f7ae70471df23248d681bac3965e710/expr.ipynb\"><img src=\"../cdb93c2fb7f7ae70471df23248d681bac3965e710/expr.png\" style=\"display:inline;vertical-align:middle;\" /></a></td></tr>\n",
       "<tr><td>8</td><td>Operation</td><td>operator:&nbsp;10<br>operands:&nbsp;11<br></td><td><a class=\"ProveItLink\" href=\"../93a3efdb124eb214da4423974b17b7bebe420ddc0/expr.ipynb\"><img src=\"../93a3efdb124eb214da4423974b17b7bebe420ddc0/expr.png\" style=\"display:inline;vertical-align:middle;\" /></a></td></tr>\n",
       "<tr><td>9</td><td>ExprRange</td><td>lambda_map:&nbsp;12<br>start_index:&nbsp;16<br>end_index:&nbsp;17<br></td><td><a class=\"ProveItLink\" href=\"../07affa99212587e911ad8e8dc7fca93d38e5f59e0/expr.ipynb\"><img src=\"../07affa99212587e911ad8e8dc7fca93d38e5f59e0/expr.png\" style=\"display:inline;vertical-align:middle;\" /></a></td></tr>\n",
       "<tr><td>10</td><td>Literal</td><td></td><td><a class=\"ProveItLink\" href=\"../../common/ef8e59262ff8e0133aa1ca984dd6b3a41bf69d5b0/expr.ipynb\"><img src=\"../../common/ef8e59262ff8e0133aa1ca984dd6b3a41bf69d5b0/expr.png\" style=\"display:inline;vertical-align:middle;\" /></a></td></tr>\n",
       "<tr><td>11</td><td>ExprTuple</td><td>13</td><td><a class=\"ProveItLink\" href=\"../93ae5dfb178f6a043477f4fdbbc517b5718a327f0/expr.ipynb\"><img src=\"../93ae5dfb178f6a043477f4fdbbc517b5718a327f0/expr.png\" style=\"display:inline;vertical-align:middle;\" /></a></td></tr>\n",
       "<tr><td>12</td><td>Lambda</td><td>parameter:&nbsp;23<br>body:&nbsp;14<br></td><td><a class=\"ProveItLink\" href=\"../5c71c9fe44e31e19fde42c1d5521af5638eff3eb0/expr.ipynb\"><img src=\"../5c71c9fe44e31e19fde42c1d5521af5638eff3eb0/expr.png\" style=\"display:inline;vertical-align:middle;\" /></a></td></tr>\n",
       "<tr><td>13</td><td>ExprRange</td><td>lambda_map:&nbsp;15<br>start_index:&nbsp;16<br>end_index:&nbsp;17<br></td><td><a class=\"ProveItLink\" href=\"../../../../../../core_expr_types/__pv_it/common/91d05fae55026f965c0cd103d1c27b85b1e1aa760/expr.ipynb\"><img src=\"../../../../../../core_expr_types/__pv_it/common/91d05fae55026f965c0cd103d1c27b85b1e1aa760/expr.png\" style=\"display:inline;vertical-align:middle;\" /></a></td></tr>\n",
       "<tr><td>14</td><td>Operation</td><td>operator:&nbsp;18<br>operands:&nbsp;19<br></td><td><a class=\"ProveItLink\" href=\"../b7ed20c9901aba82ed35e7011441efade88826c70/expr.ipynb\"><img src=\"../b7ed20c9901aba82ed35e7011441efade88826c70/expr.png\" style=\"display:inline;vertical-align:middle;\" /></a></td></tr>\n",
       "<tr><td>15</td><td>Lambda</td><td>parameter:&nbsp;23<br>body:&nbsp;20<br></td><td><a class=\"ProveItLink\" href=\"../../../../../../core_expr_types/__pv_it/common/db87d41146842355e9d6585688749d13269ab0980/expr.ipynb\"><img src=\"../../../../../../core_expr_types/__pv_it/common/db87d41146842355e9d6585688749d13269ab0980/expr.png\" style=\"display:inline;vertical-align:middle;\" /></a></td></tr>\n",
       "<tr><td>16</td><td>Literal</td><td></td><td><a class=\"ProveItLink\" href=\"../../../../../../numbers/numerals/__pv_it/common/2778428c7f555b2bdc06aa0530bc142c6e6335100/expr.ipynb\"><img src=\"../../../../../../numbers/numerals/__pv_it/common/2778428c7f555b2bdc06aa0530bc142c6e6335100/expr.png\" style=\"display:inline;vertical-align:middle;\" /></a></td></tr>\n",
       "<tr><td>17</td><td>Variable</td><td></td><td><a class=\"ProveItLink\" href=\"../../../../../../__pv_it/common/674a03b9c3ca221b3aabd5636837b31528ff33830/expr.ipynb\"><img src=\"../../../../../../__pv_it/common/674a03b9c3ca221b3aabd5636837b31528ff33830/expr.png\" style=\"display:inline;vertical-align:middle;\" /></a></td></tr>\n",
       "<tr><td>18</td><td>Literal</td><td></td><td><a class=\"ProveItLink\" href=\"../../../../../sets/membership/__pv_it/common/477487d8796864d23d5810f83761435f25167f690/expr.ipynb\"><img src=\"../../../../../sets/membership/__pv_it/common/477487d8796864d23d5810f83761435f25167f690/expr.png\" style=\"display:inline;vertical-align:middle;\" /></a></td></tr>\n",
       "<tr><td>19</td><td>ExprTuple</td><td>20, 21</td><td><a class=\"ProveItLink\" href=\"../75a8dae1989cb8c2767827c285ced50e06264c1f0/expr.ipynb\"><img src=\"../75a8dae1989cb8c2767827c285ced50e06264c1f0/expr.png\" style=\"display:inline;vertical-align:middle;\" /></a></td></tr>\n",
       "<tr><td>20</td><td>IndexedVar</td><td>variable:&nbsp;22<br>index:&nbsp;23<br></td><td><a class=\"ProveItLink\" href=\"../../../../../../core_expr_types/__pv_it/common/65f6ea908cba61c02c46e59c65a80b52e171496d0/expr.ipynb\"><img src=\"../../../../../../core_expr_types/__pv_it/common/65f6ea908cba61c02c46e59c65a80b52e171496d0/expr.png\" style=\"display:inline;vertical-align:middle;\" /></a></td></tr>\n",
       "<tr><td>21</td><td>Operation</td><td>operator:&nbsp;24<br>operand:&nbsp;25<br></td><td><a class=\"ProveItLink\" href=\"../7a0439facea659bbd7c900f76dea5979de9a45f00/expr.ipynb\"><img src=\"../7a0439facea659bbd7c900f76dea5979de9a45f00/expr.png\" style=\"display:inline;vertical-align:middle;\" /></a></td></tr>\n",
       "<tr><td>22</td><td>Variable</td><td></td><td><a class=\"ProveItLink\" href=\"../../../../../../__pv_it/common/09585084922504426caf1db2ff588a23a0932a960/expr.ipynb\"><img src=\"../../../../../../__pv_it/common/09585084922504426caf1db2ff588a23a0932a960/expr.png\" style=\"display:inline;vertical-align:middle;\" /></a></td></tr>\n",
       "<tr><td>23</td><td>Variable</td><td></td><td><a class=\"ProveItLink\" href=\"../../../../../../core_expr_types/__pv_it/common/006c465e50948aa2b52285e2de47974f741255cc0/expr.ipynb\"><img src=\"../../../../../../core_expr_types/__pv_it/common/006c465e50948aa2b52285e2de47974f741255cc0/expr.png\" style=\"display:inline;vertical-align:middle;\" /></a></td></tr>\n",
       "<tr><td>24</td><td>Literal</td><td></td><td><a class=\"ProveItLink\" href=\"../../../../../sets/enumeration/__pv_it/common/0ead90ccbf4f17bc585a51f8aa904bb77916ae6e0/expr.ipynb\"><img src=\"../../../../../sets/enumeration/__pv_it/common/0ead90ccbf4f17bc585a51f8aa904bb77916ae6e0/expr.png\" style=\"display:inline;vertical-align:middle;\" /></a></td></tr>\n",
       "<tr><td>25</td><td>Literal</td><td></td><td><a class=\"ProveItLink\" href=\"../../../../__pv_it/common/e0f123f2e4f322e1eba7f861749cda9fd9d99a120/expr.ipynb\"><img src=\"../../../../__pv_it/common/e0f123f2e4f322e1eba7f861749cda9fd9d99a120/expr.png\" style=\"display:inline;vertical-align:middle;\" /></a></td></tr>\n",
       "</table>\n"
      ],
      "text/plain": [
       "0. (A_{1}, ..A_{_a}.., A_{m}) -> {(A_{1} or ..A_{_a}.. or A_{m}) = FALSE if (A_{1} in {FALSE}) and ..(A_{_a} in {FALSE}).. and (A_{m} in {FALSE}).\n",
       "   core type: Lambda\n",
       "   parameters: 11\\n   body: 1\n",
       "1. {(A_{1} or ..A_{_a}.. or A_{m}) = FALSE if (A_{1} in {FALSE}) and ..(A_{_a} in {FALSE}).. and (A_{m} in {FALSE}).\n",
       "   core type: Conditional\n",
       "   value: 2\n",
       "   condition: 3\n",
       "2. (A_{1} or ..A_{_a}.. or A_{m}) = FALSE\n",
       "   core type: Operation\n",
       "   operator: 4\n",
       "   operands: 5\n",
       "3. (A_{1} in {FALSE}) and ..(A_{_a} in {FALSE}).. and (A_{m} in {FALSE})\n",
       "   core type: Operation\n",
       "   operator: 6\n",
       "   operands: 7\n",
       "4. =\n",
       "   core type: Literal\n",
       "   sub-expressions: \n",
       "5. (A_{1} or ..A_{_a}.. or A_{m}, FALSE)\n",
       "   core type: ExprTuple\n",
       "   sub-expressions: 8, 25\n",
       "6. and\n",
       "   core type: Literal\n",
       "   sub-expressions: \n",
       "7. (A_{1} in {FALSE}, ..A_{_a} in {FALSE}.., A_{m} in {FALSE})\n",
       "   core type: ExprTuple\n",
       "   sub-expressions: 9\n",
       "8. A_{1} or ..A_{_a}.. or A_{m}\n",
       "   core type: Operation\n",
       "   operator: 10\n",
       "   operands: 11\n",
       "9. (A_{1} in {FALSE}), ..(A_{_a} in {FALSE}).., (A_{m} in {FALSE})\n",
       "   core type: ExprRange\n",
       "   lambda_map: 12\n",
       "   start_index: 16\n",
       "   end_index: 17\n",
       "10. or\n",
       "    core type: Literal\n",
       "    sub-expressions: \n",
       "11. (A_{1}, ..A_{_a}.., A_{m})\n",
       "    core type: ExprTuple\n",
       "    sub-expressions: 13\n",
       "12. _a -> (A_{_a} in {FALSE})\n",
       "    core type: Lambda\n",
       "    parameter: 23\n",
       "    body: 14\n",
       "13. A_{1}, ..A_{_a}.., A_{m}\n",
       "    core type: ExprRange\n",
       "    lambda_map: 15\n",
       "    start_index: 16\n",
       "    end_index: 17\n",
       "14. A_{_a} in {FALSE}\n",
       "    core type: Operation\n",
       "    operator: 18\n",
       "    operands: 19\n",
       "15. _a -> A_{_a}\n",
       "    core type: Lambda\n",
       "    parameter: 23\n",
       "    body: 20\n",
       "16. 1\n",
       "    core type: Literal\n",
       "    sub-expressions: \n",
       "17. m\n",
       "    core type: Variable\n",
       "    sub-expressions: \n",
       "18. in\n",
       "    core type: Literal\n",
       "    sub-expressions: \n",
       "19. (A_{_a}, {FALSE})\n",
       "    core type: ExprTuple\n",
       "    sub-expressions: 20, 21\n",
       "20. A_{_a}\n",
       "    core type: IndexedVar\n",
       "variable: 22\n",
       "index: 23\n",
       "21. {FALSE}\n",
       "    core type: Operation\n",
       "    operator: 24\n",
       "    operand: 25\n",
       "22. A\n",
       "    core type: Variable\n",
       "    sub-expressions: \n",
       "23. _a\n",
       "    core type: Variable\n",
       "    sub-expressions: \n",
       "24. Set\n",
       "    core type: Literal\n",
       "    sub-expressions: \n",
       "25. FALSE\n",
       "    core type: Literal\n",
       "    sub-expressions: "
      ]
     },
     "execution_count": 5,
     "metadata": {},
     "output_type": "execute_result"
    }
   ],
   "source": [
    "# display the expression information\n",
    "expr.expr_info()"
   ]
  },
  {
   "cell_type": "code",
   "execution_count": null,
   "metadata": {},
   "outputs": [],
   "source": []
  }
 ],
 "metadata": {
  "kernelspec": {
   "display_name": "Python 3",
   "language": "python",
   "name": "python3"
  }
 },
 "nbformat": 4,
 "nbformat_minor": 0
}