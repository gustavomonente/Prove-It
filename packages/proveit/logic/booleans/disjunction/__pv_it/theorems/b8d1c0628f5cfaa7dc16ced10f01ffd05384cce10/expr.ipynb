{
 "cells": [
  {
   "cell_type": "markdown",
   "metadata": {},
   "source": [
    "Expression of type <a class=\"ProveItLink\" href=\"../../../../../../../../doc/html/api/proveit.Conditional.html\">Conditional</a>\n",
    "=======================\n",
    "# from the theory of <a class=\"ProveItLink\" href=\"../../../_theory_nbs_/theory.ipynb\">proveit.logic.booleans.disjunction</a>"
   ]
  },
  {
   "cell_type": "code",
   "execution_count": 1,
   "metadata": {},
   "outputs": [],
   "source": [
    "import proveit\n",
    "# Automation is not needed when building an expression:\n",
    "proveit.defaults.automation = False # This will speed things up.\n",
    "proveit.defaults.inline_pngs = False # Makes files smaller.\n",
    "%load_expr # Load the stored expression as 'stored_expr'\n",
    "# import Expression classes needed to build the expression\n",
    "from proveit import A, B, Conditional, ExprRange, IndexedVar, Variable, i, m\n",
    "from proveit.core_expr_types import A_1_to_m, B_1_to_m\n",
    "from proveit.logic import And, Boolean, Implies, InSet, Or\n",
    "from proveit.numbers import one"
   ]
  },
  {
   "cell_type": "code",
   "execution_count": 2,
   "metadata": {},
   "outputs": [
    {
     "data": {
      "text/html": [
       "<strong id=\"expr\">expr:</strong> <a class=\"ProveItLink\" href=\"expr.ipynb\"><img src=\"expr.png\" style=\"display:inline;vertical-align:middle;\" /></a><br>"
      ],
      "text/plain": [
       "expr: {B_{1} or ..B_{_a}.. or B_{m} if A_{1} in BOOLEAN ,  ..A_{_a} in BOOLEAN.. ,  A_{m} in BOOLEAN ,  B_{1} in BOOLEAN ,  ..B_{_a} in BOOLEAN.. ,  B_{m} in BOOLEAN ,  A_{1} or ..A_{_a}.. or A_{m} ,  A_{1} => B_{1} ,  ..A_{i} => B_{i}.. ,  A_{m} => B_{m}."
      ]
     },
     "execution_count": 2,
     "metadata": {},
     "output_type": "execute_result"
    }
   ],
   "source": [
    "# build up the expression from sub-expressions\n",
    "sub_expr1 = Variable(\"_a\", latex_format = r\"{_{-}a}\")\n",
    "expr = Conditional(Or(B_1_to_m), And(ExprRange(sub_expr1, InSet(IndexedVar(A, sub_expr1), Boolean), one, m), ExprRange(sub_expr1, InSet(IndexedVar(B, sub_expr1), Boolean), one, m), Or(A_1_to_m), ExprRange(i, Implies(IndexedVar(A, i), IndexedVar(B, i)), one, m)))"
   ]
  },
  {
   "cell_type": "code",
   "execution_count": 3,
   "metadata": {},
   "outputs": [
    {
     "name": "stdout",
     "output_type": "stream",
     "text": [
      "Passed sanity check: expr matches stored_expr\n"
     ]
    }
   ],
   "source": [
    "# check that the built expression is the same as the stored expression\n",
    "assert expr == stored_expr\n",
    "assert expr._style_id == stored_expr._style_id\n",
    "print(\"Passed sanity check: expr matches stored_expr\")"
   ]
  },
  {
   "cell_type": "code",
   "execution_count": 4,
   "metadata": {},
   "outputs": [
    {
     "name": "stdout",
     "output_type": "stream",
     "text": [
      "\\left\\{B_{1} \\lor \\ldots \\lor B_{m} \\textrm{ if } A_{1} \\in \\mathbb{B} ,  \\ldots ,  A_{m} \\in \\mathbb{B} ,  B_{1} \\in \\mathbb{B} ,  \\ldots ,  B_{m} \\in \\mathbb{B} ,  A_{1} \\lor \\ldots \\lor A_{m} ,  A_{1} \\Rightarrow B_{1} ,  \\ldots ,  A_{m} \\Rightarrow B_{m}\\right..\n"
     ]
    }
   ],
   "source": [
    "# Show the LaTeX representation of the expression for convenience if you need it.\n",
    "print(expr.latex())"
   ]
  },
  {
   "cell_type": "code",
   "execution_count": 5,
   "metadata": {},
   "outputs": [
    {
     "data": {
      "text/html": [
       "<table>\n",
       "<tr><th>name</th><th>description</th><th>default</th><th>current value</th><th>related methods</th></tr><tr><td>condition_delimiter</td><td>'comma' or 'and'</td><td>comma</td><td>comma</td><td>('with_comma_delimiter', 'with_conjunction_delimiter')</td></tr>\n",
       "</table>\n"
      ],
      "text/plain": [
       "style name: condition_delimiter\n",
       "description: 'comma' or 'and'\n",
       "default: comma\n",
       "current value: comma\n",
       "related methods: ('with_comma_delimiter', 'with_conjunction_delimiter')"
      ]
     },
     "execution_count": 5,
     "metadata": {},
     "output_type": "execute_result"
    }
   ],
   "source": [
    "expr.style_options()"
   ]
  },
  {
   "cell_type": "code",
   "execution_count": 6,
   "metadata": {},
   "outputs": [
    {
     "data": {
      "text/html": [
       "<table><tr><th>&nbsp;</th><th>core type</th><th>sub-expressions</th><th>expression</th></tr>\n",
       "<tr><td>0</td><td>Conditional</td><td>value:&nbsp;1<br>condition:&nbsp;2<br></td><td><a class=\"ProveItLink\" href=\"expr.ipynb\"><img src=\"expr.png\" style=\"display:inline;vertical-align:middle;\" /></a></td></tr>\n",
       "<tr><td>1</td><td>Operation</td><td>operator:&nbsp;14<br>operands:&nbsp;3<br></td><td><a class=\"ProveItLink\" href=\"../30e59b809d2e1f1cf05fd1340f44e5ebebf4ba5f0/expr.ipynb\"><img src=\"../30e59b809d2e1f1cf05fd1340f44e5ebebf4ba5f0/expr.png\" style=\"display:inline;vertical-align:middle;\" /></a></td></tr>\n",
       "<tr><td>2</td><td>Operation</td><td>operator:&nbsp;4<br>operands:&nbsp;5<br></td><td><a class=\"ProveItLink\" href=\"../4ffc38a6ce3202dbcabf252d61147fd239b114340/expr.ipynb\"><img src=\"../4ffc38a6ce3202dbcabf252d61147fd239b114340/expr.png\" style=\"display:inline;vertical-align:middle;\" /></a></td></tr>\n",
       "<tr><td>3</td><td>ExprTuple</td><td>6</td><td><a class=\"ProveItLink\" href=\"../398340f8687c69ab96a81b00de48d59643f6c7f60/expr.ipynb\"><img src=\"../398340f8687c69ab96a81b00de48d59643f6c7f60/expr.png\" style=\"display:inline;vertical-align:middle;\" /></a></td></tr>\n",
       "<tr><td>4</td><td>Literal</td><td></td><td><a class=\"ProveItLink\" href=\"../../../../conjunction/__pv_it/common/26b94b53e70b1d77b70f0d9d4236347db37731060/expr.ipynb\"><img src=\"../../../../conjunction/__pv_it/common/26b94b53e70b1d77b70f0d9d4236347db37731060/expr.png\" style=\"display:inline;vertical-align:middle;\" /></a></td></tr>\n",
       "<tr><td>5</td><td>ExprTuple</td><td>7, 8, 9, 10</td><td><a class=\"ProveItLink\" href=\"../e6b6021e4dfd40f284c23336e994e39e4dff44a50/expr.ipynb\"><img src=\"../e6b6021e4dfd40f284c23336e994e39e4dff44a50/expr.png\" style=\"display:inline;vertical-align:middle;\" /></a></td></tr>\n",
       "<tr><td>6</td><td>ExprRange</td><td>lambda_map:&nbsp;11<br>start_index:&nbsp;25<br>end_index:&nbsp;26<br></td><td><a class=\"ProveItLink\" href=\"../../../../../../core_expr_types/__pv_it/common/4c9bca4d56fb4cb84c4e790e95e569e3667263f10/expr.ipynb\"><img src=\"../../../../../../core_expr_types/__pv_it/common/4c9bca4d56fb4cb84c4e790e95e569e3667263f10/expr.png\" style=\"display:inline;vertical-align:middle;\" /></a></td></tr>\n",
       "<tr><td>7</td><td>ExprRange</td><td>lambda_map:&nbsp;12<br>start_index:&nbsp;25<br>end_index:&nbsp;26<br></td><td><a class=\"ProveItLink\" href=\"../a2ed50698ae74baa7cb32a2f1b6caecd6da22a010/expr.ipynb\"><img src=\"../a2ed50698ae74baa7cb32a2f1b6caecd6da22a010/expr.png\" style=\"display:inline;vertical-align:middle;\" /></a></td></tr>\n",
       "<tr><td>8</td><td>ExprRange</td><td>lambda_map:&nbsp;13<br>start_index:&nbsp;25<br>end_index:&nbsp;26<br></td><td><a class=\"ProveItLink\" href=\"../3a06db1652d241259c5cd847e2a6e39bfc8bb06e0/expr.ipynb\"><img src=\"../3a06db1652d241259c5cd847e2a6e39bfc8bb06e0/expr.png\" style=\"display:inline;vertical-align:middle;\" /></a></td></tr>\n",
       "<tr><td>9</td><td>Operation</td><td>operator:&nbsp;14<br>operands:&nbsp;15<br></td><td><a class=\"ProveItLink\" href=\"../efbd6a9037ae8f5d6d0d5bf6ad515f688f55b5ff0/expr.ipynb\"><img src=\"../efbd6a9037ae8f5d6d0d5bf6ad515f688f55b5ff0/expr.png\" style=\"display:inline;vertical-align:middle;\" /></a></td></tr>\n",
       "<tr><td>10</td><td>ExprRange</td><td>lambda_map:&nbsp;16<br>start_index:&nbsp;25<br>end_index:&nbsp;26<br></td><td><a class=\"ProveItLink\" href=\"../de824962d8caa616b4d7b740cc187726a791d0480/expr.ipynb\"><img src=\"../de824962d8caa616b4d7b740cc187726a791d0480/expr.png\" style=\"display:inline;vertical-align:middle;\" /></a></td></tr>\n",
       "<tr><td>11</td><td>Lambda</td><td>parameter:&nbsp;38<br>body:&nbsp;29<br></td><td><a class=\"ProveItLink\" href=\"../../../../../../core_expr_types/__pv_it/common/02c8c006a9ec368154b7bff99c95899c5fb743200/expr.ipynb\"><img src=\"../../../../../../core_expr_types/__pv_it/common/02c8c006a9ec368154b7bff99c95899c5fb743200/expr.png\" style=\"display:inline;vertical-align:middle;\" /></a></td></tr>\n",
       "<tr><td>12</td><td>Lambda</td><td>parameter:&nbsp;38<br>body:&nbsp;17<br></td><td><a class=\"ProveItLink\" href=\"../57ad99e7c548004330720c8120fe2f3f488dfd7b0/expr.ipynb\"><img src=\"../57ad99e7c548004330720c8120fe2f3f488dfd7b0/expr.png\" style=\"display:inline;vertical-align:middle;\" /></a></td></tr>\n",
       "<tr><td>13</td><td>Lambda</td><td>parameter:&nbsp;38<br>body:&nbsp;18<br></td><td><a class=\"ProveItLink\" href=\"../4c1cf5ed1b6aedd1b1fb9b5b873b1f819f8be3800/expr.ipynb\"><img src=\"../4c1cf5ed1b6aedd1b1fb9b5b873b1f819f8be3800/expr.png\" style=\"display:inline;vertical-align:middle;\" /></a></td></tr>\n",
       "<tr><td>14</td><td>Literal</td><td></td><td><a class=\"ProveItLink\" href=\"../../common/0e5dcae3232d8ebdc0777b8ce92ce453a450f6c30/expr.ipynb\"><img src=\"../../common/0e5dcae3232d8ebdc0777b8ce92ce453a450f6c30/expr.png\" style=\"display:inline;vertical-align:middle;\" /></a></td></tr>\n",
       "<tr><td>15</td><td>ExprTuple</td><td>19</td><td><a class=\"ProveItLink\" href=\"../0a65ec265686482133d742d4363a8cf4d6c35e350/expr.ipynb\"><img src=\"../0a65ec265686482133d742d4363a8cf4d6c35e350/expr.png\" style=\"display:inline;vertical-align:middle;\" /></a></td></tr>\n",
       "<tr><td>16</td><td>Lambda</td><td>parameter:&nbsp;39<br>body:&nbsp;20<br></td><td><a class=\"ProveItLink\" href=\"../c4b6e642ce533d87a1a2903825ba8e8832061eec0/expr.ipynb\"><img src=\"../c4b6e642ce533d87a1a2903825ba8e8832061eec0/expr.png\" style=\"display:inline;vertical-align:middle;\" /></a></td></tr>\n",
       "<tr><td>17</td><td>Operation</td><td>operator:&nbsp;22<br>operands:&nbsp;21<br></td><td><a class=\"ProveItLink\" href=\"../55edfe981d91e57d14ee559c772a50bf666d0ed20/expr.ipynb\"><img src=\"../55edfe981d91e57d14ee559c772a50bf666d0ed20/expr.png\" style=\"display:inline;vertical-align:middle;\" /></a></td></tr>\n",
       "<tr><td>18</td><td>Operation</td><td>operator:&nbsp;22<br>operands:&nbsp;23<br></td><td><a class=\"ProveItLink\" href=\"../71e968e00fe008f01ab572c1ddf1b9244cd16b850/expr.ipynb\"><img src=\"../71e968e00fe008f01ab572c1ddf1b9244cd16b850/expr.png\" style=\"display:inline;vertical-align:middle;\" /></a></td></tr>\n",
       "<tr><td>19</td><td>ExprRange</td><td>lambda_map:&nbsp;24<br>start_index:&nbsp;25<br>end_index:&nbsp;26<br></td><td><a class=\"ProveItLink\" href=\"../../../../../../core_expr_types/__pv_it/common/30c3e05d1ed167fcc220828c60f35ec81c3feb3f0/expr.ipynb\"><img src=\"../../../../../../core_expr_types/__pv_it/common/30c3e05d1ed167fcc220828c60f35ec81c3feb3f0/expr.png\" style=\"display:inline;vertical-align:middle;\" /></a></td></tr>\n",
       "<tr><td>20</td><td>Operation</td><td>operator:&nbsp;27<br>operands:&nbsp;28<br></td><td><a class=\"ProveItLink\" href=\"../b7e714bf67312b16cac7d7a989ae0bb5b21cfcb50/expr.ipynb\"><img src=\"../b7e714bf67312b16cac7d7a989ae0bb5b21cfcb50/expr.png\" style=\"display:inline;vertical-align:middle;\" /></a></td></tr>\n",
       "<tr><td>21</td><td>ExprTuple</td><td>31, 30</td><td><a class=\"ProveItLink\" href=\"../0abcd98583fac5283d1d91942b1fa1206b700a840/expr.ipynb\"><img src=\"../0abcd98583fac5283d1d91942b1fa1206b700a840/expr.png\" style=\"display:inline;vertical-align:middle;\" /></a></td></tr>\n",
       "<tr><td>22</td><td>Literal</td><td></td><td><a class=\"ProveItLink\" href=\"../../../../../sets/membership/__pv_it/common/7171deca84f71f47a6ec7696972d1632274a12880/expr.ipynb\"><img src=\"../../../../../sets/membership/__pv_it/common/7171deca84f71f47a6ec7696972d1632274a12880/expr.png\" style=\"display:inline;vertical-align:middle;\" /></a></td></tr>\n",
       "<tr><td>23</td><td>ExprTuple</td><td>29, 30</td><td><a class=\"ProveItLink\" href=\"../20ec04de41c62c0e23c2a14dc31b809126587ad10/expr.ipynb\"><img src=\"../20ec04de41c62c0e23c2a14dc31b809126587ad10/expr.png\" style=\"display:inline;vertical-align:middle;\" /></a></td></tr>\n",
       "<tr><td>24</td><td>Lambda</td><td>parameter:&nbsp;38<br>body:&nbsp;31<br></td><td><a class=\"ProveItLink\" href=\"../../../../../../core_expr_types/__pv_it/common/7cb3671e4363a47742a54e63b73ddf8e8fe2c9390/expr.ipynb\"><img src=\"../../../../../../core_expr_types/__pv_it/common/7cb3671e4363a47742a54e63b73ddf8e8fe2c9390/expr.png\" style=\"display:inline;vertical-align:middle;\" /></a></td></tr>\n",
       "<tr><td>25</td><td>Literal</td><td></td><td><a class=\"ProveItLink\" href=\"../../../../../../numbers/numerals/__pv_it/common/d278e359da0695d9652dd541d45264f93703e2e40/expr.ipynb\"><img src=\"../../../../../../numbers/numerals/__pv_it/common/d278e359da0695d9652dd541d45264f93703e2e40/expr.png\" style=\"display:inline;vertical-align:middle;\" /></a></td></tr>\n",
       "<tr><td>26</td><td>Variable</td><td></td><td><a class=\"ProveItLink\" href=\"../../../../../../__pv_it/common/2dc4f15b3407a25e8d70754a86bf74f1871f92650/expr.ipynb\"><img src=\"../../../../../../__pv_it/common/2dc4f15b3407a25e8d70754a86bf74f1871f92650/expr.png\" style=\"display:inline;vertical-align:middle;\" /></a></td></tr>\n",
       "<tr><td>27</td><td>Literal</td><td></td><td><a class=\"ProveItLink\" href=\"../../../../implication/__pv_it/common/95a8cc69d34af52c7732e4a6fefbd5b63e8d31ba0/expr.ipynb\"><img src=\"../../../../implication/__pv_it/common/95a8cc69d34af52c7732e4a6fefbd5b63e8d31ba0/expr.png\" style=\"display:inline;vertical-align:middle;\" /></a></td></tr>\n",
       "<tr><td>28</td><td>ExprTuple</td><td>32, 33</td><td><a class=\"ProveItLink\" href=\"../79f93ceeaaa688009701521b05007052cb225b400/expr.ipynb\"><img src=\"../79f93ceeaaa688009701521b05007052cb225b400/expr.png\" style=\"display:inline;vertical-align:middle;\" /></a></td></tr>\n",
       "<tr><td>29</td><td>IndexedVar</td><td>variable:&nbsp;36<br>index:&nbsp;38<br></td><td><a class=\"ProveItLink\" href=\"../../../../../../core_expr_types/__pv_it/common/ea3ee9a0627bf44c889015ae8c7679796d32e3c60/expr.ipynb\"><img src=\"../../../../../../core_expr_types/__pv_it/common/ea3ee9a0627bf44c889015ae8c7679796d32e3c60/expr.png\" style=\"display:inline;vertical-align:middle;\" /></a></td></tr>\n",
       "<tr><td>30</td><td>Literal</td><td></td><td><a class=\"ProveItLink\" href=\"../../../../__pv_it/common/8fc291135425020cce4ba1ad615843f54f1fc6600/expr.ipynb\"><img src=\"../../../../__pv_it/common/8fc291135425020cce4ba1ad615843f54f1fc6600/expr.png\" style=\"display:inline;vertical-align:middle;\" /></a></td></tr>\n",
       "<tr><td>31</td><td>IndexedVar</td><td>variable:&nbsp;35<br>index:&nbsp;38<br></td><td><a class=\"ProveItLink\" href=\"../../../../../../core_expr_types/__pv_it/common/44c047560b26e24c2a9af7e0d00ef8bc5e74e7580/expr.ipynb\"><img src=\"../../../../../../core_expr_types/__pv_it/common/44c047560b26e24c2a9af7e0d00ef8bc5e74e7580/expr.png\" style=\"display:inline;vertical-align:middle;\" /></a></td></tr>\n",
       "<tr><td>32</td><td>IndexedVar</td><td>variable:&nbsp;35<br>index:&nbsp;39<br></td><td><a class=\"ProveItLink\" href=\"../8944fa99962c4fa65f005c3e1a1975d4210055e80/expr.ipynb\"><img src=\"../8944fa99962c4fa65f005c3e1a1975d4210055e80/expr.png\" style=\"display:inline;vertical-align:middle;\" /></a></td></tr>\n",
       "<tr><td>33</td><td>IndexedVar</td><td>variable:&nbsp;36<br>index:&nbsp;39<br></td><td><a class=\"ProveItLink\" href=\"../146a063dd1fc4d019c860952a873954c89c38a120/expr.ipynb\"><img src=\"../146a063dd1fc4d019c860952a873954c89c38a120/expr.png\" style=\"display:inline;vertical-align:middle;\" /></a></td></tr>\n",
       "<tr><td>34</td><td>ExprTuple</td><td>38</td><td><a class=\"ProveItLink\" href=\"../../../../../../core_expr_types/__pv_it/common/ecf50ade416ab41c42c9f4e777b4c862cd9469670/expr.ipynb\"><img src=\"../../../../../../core_expr_types/__pv_it/common/ecf50ade416ab41c42c9f4e777b4c862cd9469670/expr.png\" style=\"display:inline;vertical-align:middle;\" /></a></td></tr>\n",
       "<tr><td>35</td><td>Variable</td><td></td><td><a class=\"ProveItLink\" href=\"../../../../../../__pv_it/common/e4aad701f7f5516d8e7f0d805d518bf02c13322a0/expr.ipynb\"><img src=\"../../../../../../__pv_it/common/e4aad701f7f5516d8e7f0d805d518bf02c13322a0/expr.png\" style=\"display:inline;vertical-align:middle;\" /></a></td></tr>\n",
       "<tr><td>36</td><td>Variable</td><td></td><td><a class=\"ProveItLink\" href=\"../../../../../../__pv_it/common/4eca3b30dcf58a58494e201d1b7886d8643a617b0/expr.ipynb\"><img src=\"../../../../../../__pv_it/common/4eca3b30dcf58a58494e201d1b7886d8643a617b0/expr.png\" style=\"display:inline;vertical-align:middle;\" /></a></td></tr>\n",
       "<tr><td>37</td><td>ExprTuple</td><td>39</td><td><a class=\"ProveItLink\" href=\"../6420c4d2520c27c1137ad22005291620057456040/expr.ipynb\"><img src=\"../6420c4d2520c27c1137ad22005291620057456040/expr.png\" style=\"display:inline;vertical-align:middle;\" /></a></td></tr>\n",
       "<tr><td>38</td><td>Variable</td><td></td><td><a class=\"ProveItLink\" href=\"../../../../../../core_expr_types/__pv_it/common/9e6d9d5d7eeb0342cf5bca68def0eb165a1a9bb10/expr.ipynb\"><img src=\"../../../../../../core_expr_types/__pv_it/common/9e6d9d5d7eeb0342cf5bca68def0eb165a1a9bb10/expr.png\" style=\"display:inline;vertical-align:middle;\" /></a></td></tr>\n",
       "<tr><td>39</td><td>Variable</td><td></td><td><a class=\"ProveItLink\" href=\"../../../../../../__pv_it/common/575a6156bb1c87c5beeaf38c302b5905ad57f5780/expr.ipynb\"><img src=\"../../../../../../__pv_it/common/575a6156bb1c87c5beeaf38c302b5905ad57f5780/expr.png\" style=\"display:inline;vertical-align:middle;\" /></a></td></tr>\n",
       "</table>\n"
      ],
      "text/plain": [
       "0. {B_{1} or ..B_{_a}.. or B_{m} if A_{1} in BOOLEAN ,  ..A_{_a} in BOOLEAN.. ,  A_{m} in BOOLEAN ,  B_{1} in BOOLEAN ,  ..B_{_a} in BOOLEAN.. ,  B_{m} in BOOLEAN ,  A_{1} or ..A_{_a}.. or A_{m} ,  A_{1} => B_{1} ,  ..A_{i} => B_{i}.. ,  A_{m} => B_{m}.\n",
       "   core type: Conditional\n",
       "   value: 1\n",
       "   condition: 2\n",
       "1. B_{1} or ..B_{_a}.. or B_{m}\n",
       "   core type: Operation\n",
       "   operator: 14\n",
       "   operands: 3\n",
       "2. (A_{1} in BOOLEAN) and ..(A_{_a} in BOOLEAN).. and (A_{m} in BOOLEAN) and (B_{1} in BOOLEAN) and ..(B_{_a} in BOOLEAN).. and (B_{m} in BOOLEAN) and (A_{1} or ..A_{_a}.. or A_{m}) and (A_{1} => B_{1}) and ..(A_{i} => B_{i}).. and (A_{m} => B_{m})\n",
       "   core type: Operation\n",
       "   operator: 4\n",
       "   operands: 5\n",
       "3. (B_{1}, ..B_{_a}.., B_{m})\n",
       "   core type: ExprTuple\n",
       "   sub-expressions: 6\n",
       "4. and\n",
       "   core type: Literal\n",
       "   sub-expressions: \n",
       "5. (A_{1} in BOOLEAN, ..A_{_a} in BOOLEAN.., A_{m} in BOOLEAN, B_{1} in BOOLEAN, ..B_{_a} in BOOLEAN.., B_{m} in BOOLEAN, A_{1} or ..A_{_a}.. or A_{m}, A_{1} => B_{1}, ..A_{i} => B_{i}.., A_{m} => B_{m})\n",
       "   core type: ExprTuple\n",
       "   sub-expressions: 7, 8, 9, 10\n",
       "6. B_{1}, ..B_{_a}.., B_{m}\n",
       "   core type: ExprRange\n",
       "   lambda_map: 11\n",
       "   start_index: 25\n",
       "   end_index: 26\n",
       "7. (A_{1} in BOOLEAN), ..(A_{_a} in BOOLEAN).., (A_{m} in BOOLEAN)\n",
       "   core type: ExprRange\n",
       "   lambda_map: 12\n",
       "   start_index: 25\n",
       "   end_index: 26\n",
       "8. (B_{1} in BOOLEAN), ..(B_{_a} in BOOLEAN).., (B_{m} in BOOLEAN)\n",
       "   core type: ExprRange\n",
       "   lambda_map: 13\n",
       "   start_index: 25\n",
       "   end_index: 26\n",
       "9. A_{1} or ..A_{_a}.. or A_{m}\n",
       "   core type: Operation\n",
       "   operator: 14\n",
       "   operands: 15\n",
       "10. (A_{1} => B_{1}), ..(A_{i} => B_{i}).., (A_{m} => B_{m})\n",
       "    core type: ExprRange\n",
       "    lambda_map: 16\n",
       "    start_index: 25\n",
       "    end_index: 26\n",
       "11. _a -> B_{_a}\n",
       "    core type: Lambda\n",
       "    parameter: 38\n",
       "    body: 29\n",
       "12. _a -> (A_{_a} in BOOLEAN)\n",
       "    core type: Lambda\n",
       "    parameter: 38\n",
       "    body: 17\n",
       "13. _a -> (B_{_a} in BOOLEAN)\n",
       "    core type: Lambda\n",
       "    parameter: 38\n",
       "    body: 18\n",
       "14. or\n",
       "    core type: Literal\n",
       "    sub-expressions: \n",
       "15. (A_{1}, ..A_{_a}.., A_{m})\n",
       "    core type: ExprTuple\n",
       "    sub-expressions: 19\n",
       "16. i -> (A_{i} => B_{i})\n",
       "    core type: Lambda\n",
       "    parameter: 39\n",
       "    body: 20\n",
       "17. A_{_a} in BOOLEAN\n",
       "    core type: Operation\n",
       "    operator: 22\n",
       "    operands: 21\n",
       "18. B_{_a} in BOOLEAN\n",
       "    core type: Operation\n",
       "    operator: 22\n",
       "    operands: 23\n",
       "19. A_{1}, ..A_{_a}.., A_{m}\n",
       "    core type: ExprRange\n",
       "    lambda_map: 24\n",
       "    start_index: 25\n",
       "    end_index: 26\n",
       "20. A_{i} => B_{i}\n",
       "    core type: Operation\n",
       "    operator: 27\n",
       "    operands: 28\n",
       "21. (A_{_a}, BOOLEAN)\n",
       "    core type: ExprTuple\n",
       "    sub-expressions: 31, 30\n",
       "22. in\n",
       "    core type: Literal\n",
       "    sub-expressions: \n",
       "23. (B_{_a}, BOOLEAN)\n",
       "    core type: ExprTuple\n",
       "    sub-expressions: 29, 30\n",
       "24. _a -> A_{_a}\n",
       "    core type: Lambda\n",
       "    parameter: 38\n",
       "    body: 31\n",
       "25. 1\n",
       "    core type: Literal\n",
       "    sub-expressions: \n",
       "26. m\n",
       "    core type: Variable\n",
       "    sub-expressions: \n",
       "27. =>\n",
       "    core type: Literal\n",
       "    sub-expressions: \n",
       "28. (A_{i}, B_{i})\n",
       "    core type: ExprTuple\n",
       "    sub-expressions: 32, 33\n",
       "29. B_{_a}\n",
       "    core type: IndexedVar\n",
       "variable: 36\n",
       "index: 38\n",
       "30. BOOLEAN\n",
       "    core type: Literal\n",
       "    sub-expressions: \n",
       "31. A_{_a}\n",
       "    core type: IndexedVar\n",
       "variable: 35\n",
       "index: 38\n",
       "32. A_{i}\n",
       "    core type: IndexedVar\n",
       "variable: 35\n",
       "index: 39\n",
       "33. B_{i}\n",
       "    core type: IndexedVar\n",
       "variable: 36\n",
       "index: 39\n",
       "34. (_a)\n",
       "    core type: ExprTuple\n",
       "    sub-expressions: 38\n",
       "35. A\n",
       "    core type: Variable\n",
       "    sub-expressions: \n",
       "36. B\n",
       "    core type: Variable\n",
       "    sub-expressions: \n",
       "37. (i)\n",
       "    core type: ExprTuple\n",
       "    sub-expressions: 39\n",
       "38. _a\n",
       "    core type: Variable\n",
       "    sub-expressions: \n",
       "39. i\n",
       "    core type: Variable\n",
       "    sub-expressions: "
      ]
     },
     "execution_count": 6,
     "metadata": {},
     "output_type": "execute_result"
    }
   ],
   "source": [
    "# display the expression information\n",
    "expr.expr_info()"
   ]
  },
  {
   "cell_type": "code",
   "execution_count": null,
   "metadata": {},
   "outputs": [],
   "source": []
  }
 ],
 "metadata": {
  "kernelspec": {
   "display_name": "Python 3",
   "language": "python",
   "name": "python3"
  }
 },
 "nbformat": 4,
 "nbformat_minor": 0
}