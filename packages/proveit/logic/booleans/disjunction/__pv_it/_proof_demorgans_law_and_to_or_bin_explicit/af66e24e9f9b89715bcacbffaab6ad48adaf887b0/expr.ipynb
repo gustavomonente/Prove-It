{
 "cells": [
  {
   "cell_type": "markdown",
   "metadata": {},
   "source": [
    "Expression of type <a class=\"ProveItLink\" href=\"../../../../../../../../doc/html/api/proveit.logic.Implies.html\">Implies</a>\n",
    "=======================\n",
    "# from the theory of <a class=\"ProveItLink\" href=\"../../../_theory_nbs_/theory.ipynb\">proveit.logic.booleans.disjunction</a>"
   ]
  },
  {
   "cell_type": "code",
   "execution_count": 1,
   "metadata": {},
   "outputs": [],
   "source": [
    "import proveit\n",
    "# Automation is not needed when building an expression:\n",
    "proveit.defaults.automation = False # This will speed things up.\n",
    "proveit.defaults.inline_pngs = False # Makes files smaller.\n",
    "%load_expr # Load the stored expression as 'stored_expr'\n",
    "# import Expression classes needed to build the expression\n",
    "from proveit import A, B\n",
    "from proveit.logic import And, Boolean, Forall, Implies, Not, Or"
   ]
  },
  {
   "cell_type": "code",
   "execution_count": 2,
   "metadata": {},
   "outputs": [
    {
     "data": {
      "text/html": [
       "<strong id=\"expr\">expr:</strong> <a class=\"ProveItLink\" href=\"expr.ipynb\"><img src=\"expr.png\" style=\"display:inline;vertical-align:middle;\" /></a><br>"
      ],
      "text/plain": [
       "expr: [forall_{A in BOOLEAN} [forall_{B in BOOLEAN | not(not(A) and not(B))} (A or B)]] => [forall_{A, B in BOOLEAN | not(not(A) and not(B))} (A or B)]"
      ]
     },
     "execution_count": 2,
     "metadata": {},
     "output_type": "execute_result"
    }
   ],
   "source": [
    "# build up the expression from sub-expressions\n",
    "sub_expr1 = [Boolean]\n",
    "sub_expr2 = Or(A, B)\n",
    "sub_expr3 = Not(And(Not(A), Not(B)))\n",
    "expr = Implies(Forall([A], Forall([B], sub_expr2, domains = sub_expr1, condition = sub_expr3), domains = sub_expr1), Forall([A, B], sub_expr2, domains = [Boolean, Boolean], condition = sub_expr3))"
   ]
  },
  {
   "cell_type": "code",
   "execution_count": 3,
   "metadata": {},
   "outputs": [
    {
     "name": "stdout",
     "output_type": "stream",
     "text": [
      "Passed sanity check: expr matches stored_expr\n"
     ]
    }
   ],
   "source": [
    "# check that the built expression is the same as the stored expression\n",
    "assert expr == stored_expr\n",
    "assert expr._style_id == stored_expr._style_id\n",
    "print(\"Passed sanity check: expr matches stored_expr\")"
   ]
  },
  {
   "cell_type": "code",
   "execution_count": 4,
   "metadata": {},
   "outputs": [
    {
     "name": "stdout",
     "output_type": "stream",
     "text": [
      "\\left[\\forall_{A \\in \\mathbb{B}}~\\left[\\forall_{B \\in \\mathbb{B}~|~\\lnot \\left((\\lnot A) \\land (\\lnot B)\\right)}~\\left(A \\lor B\\right)\\right]\\right] \\Rightarrow \\left[\\forall_{A, B \\in \\mathbb{B}~|~\\lnot \\left((\\lnot A) \\land (\\lnot B)\\right)}~\\left(A \\lor B\\right)\\right]\n"
     ]
    }
   ],
   "source": [
    "# Show the LaTeX representation of the expression for convenience if you need it.\n",
    "print(expr.latex())"
   ]
  },
  {
   "cell_type": "code",
   "execution_count": 5,
   "metadata": {},
   "outputs": [
    {
     "data": {
      "text/html": [
       "<table>\n",
       "<tr><th>name</th><th>description</th><th>default</th><th>current value</th><th>related methods</th></tr><tr><td>operation</td><td>'infix' or 'function' style formatting</td><td>infix</td><td>infix</td><td></td></tr>\n",
       "<tr><td>wrap_positions</td><td>position(s) at which wrapping is to occur; '2 n - 1' is after the nth operand, '2 n' is after the nth operation.</td><td>()</td><td>()</td><td>('with_wrapping_at', 'with_wrap_before_operator', 'with_wrap_after_operator', 'wrap_positions')</td></tr>\n",
       "<tr><td>justification</td><td>if any wrap positions are set, justify to the 'left', 'center', or 'right'</td><td>center</td><td>center</td><td>('with_justification',)</td></tr>\n",
       "<tr><td>direction</td><td>Direction of the relation (normal or reversed)</td><td>normal</td><td>normal</td><td>('with_direction_reversed', 'is_reversed')</td></tr>\n",
       "</table>\n"
      ],
      "text/plain": [
       "style name: operation\n",
       "description: 'infix' or 'function' style formatting\n",
       "default: infix\n",
       "current value: infix\n",
       "related methods: ()\n",
       "style name: wrap_positions\n",
       "description: position(s) at which wrapping is to occur; '2 n - 1' is after the nth operand, '2 n' is after the nth operation.\n",
       "default: ()\n",
       "current value: ()\n",
       "related methods: ('with_wrapping_at', 'with_wrap_before_operator', 'with_wrap_after_operator', 'wrap_positions')\n",
       "style name: justification\n",
       "description: if any wrap positions are set, justify to the 'left', 'center', or 'right'\n",
       "default: center\n",
       "current value: center\n",
       "related methods: ('with_justification',)\n",
       "style name: direction\n",
       "description: Direction of the relation (normal or reversed)\n",
       "default: normal\n",
       "current value: normal\n",
       "related methods: ('with_direction_reversed', 'is_reversed')"
      ]
     },
     "execution_count": 5,
     "metadata": {},
     "output_type": "execute_result"
    }
   ],
   "source": [
    "expr.style_options()"
   ]
  },
  {
   "cell_type": "code",
   "execution_count": 6,
   "metadata": {},
   "outputs": [
    {
     "data": {
      "text/html": [
       "<table><tr><th>&nbsp;</th><th>core type</th><th>sub-expressions</th><th>expression</th></tr>\n",
       "<tr><td>0</td><td>Operation</td><td>operator:&nbsp;1<br>operands:&nbsp;2<br></td><td><a class=\"ProveItLink\" href=\"expr.ipynb\"><img src=\"expr.png\" style=\"display:inline;vertical-align:middle;\" /></a></td></tr>\n",
       "<tr><td>1</td><td>Literal</td><td></td><td><a class=\"ProveItLink\" href=\"../../../../implication/__pv_it/common/95a8cc69d34af52c7732e4a6fefbd5b63e8d31ba0/expr.ipynb\"><img src=\"../../../../implication/__pv_it/common/95a8cc69d34af52c7732e4a6fefbd5b63e8d31ba0/expr.png\" style=\"display:inline;vertical-align:middle;\" /></a></td></tr>\n",
       "<tr><td>2</td><td>ExprTuple</td><td>3, 4</td><td><a class=\"ProveItLink\" href=\"../0e59f601a51cbbca4d43700e30032468d18a7e1f0/expr.ipynb\"><img src=\"../0e59f601a51cbbca4d43700e30032468d18a7e1f0/expr.png\" style=\"display:inline;vertical-align:middle;\" /></a></td></tr>\n",
       "<tr><td>3</td><td>Operation</td><td>operator:&nbsp;13<br>operand:&nbsp;7<br></td><td><a class=\"ProveItLink\" href=\"../c3f2449ffe380c330e192c4776d9fe7ed28e620c0/expr.ipynb\"><img src=\"../c3f2449ffe380c330e192c4776d9fe7ed28e620c0/expr.png\" style=\"display:inline;vertical-align:middle;\" /></a></td></tr>\n",
       "<tr><td>4</td><td>Operation</td><td>operator:&nbsp;13<br>operand:&nbsp;8<br></td><td><a class=\"ProveItLink\" href=\"../../theorems/999cb470c0e318f861be975008b9ea20366fb87e0/expr.ipynb\"><img src=\"../../theorems/999cb470c0e318f861be975008b9ea20366fb87e0/expr.png\" style=\"display:inline;vertical-align:middle;\" /></a></td></tr>\n",
       "<tr><td>5</td><td>ExprTuple</td><td>7</td><td><a class=\"ProveItLink\" href=\"../17cd6eef6a7b7b81507a7da960208115538cc84f0/expr.ipynb\"><img src=\"../17cd6eef6a7b7b81507a7da960208115538cc84f0/expr.png\" style=\"display:inline;vertical-align:middle;\" /></a></td></tr>\n",
       "<tr><td>6</td><td>ExprTuple</td><td>8</td><td><a class=\"ProveItLink\" href=\"../../theorems/fb4d8d35f752666536e3dd7a6171047c1e2102450/expr.ipynb\"><img src=\"../../theorems/fb4d8d35f752666536e3dd7a6171047c1e2102450/expr.png\" style=\"display:inline;vertical-align:middle;\" /></a></td></tr>\n",
       "<tr><td>7</td><td>Lambda</td><td>parameter:&nbsp;39<br>body:&nbsp;9<br></td><td><a class=\"ProveItLink\" href=\"../44189af742248be750dd3079196f40f28817a0bf0/expr.ipynb\"><img src=\"../44189af742248be750dd3079196f40f28817a0bf0/expr.png\" style=\"display:inline;vertical-align:middle;\" /></a></td></tr>\n",
       "<tr><td>8</td><td>Lambda</td><td>parameters:&nbsp;23<br>body:&nbsp;10<br></td><td><a class=\"ProveItLink\" href=\"../../theorems/dc421e743182792aa686c83da0ed59aa1a988a4d0/expr.ipynb\"><img src=\"../../theorems/dc421e743182792aa686c83da0ed59aa1a988a4d0/expr.png\" style=\"display:inline;vertical-align:middle;\" /></a></td></tr>\n",
       "<tr><td>9</td><td>Conditional</td><td>value:&nbsp;11<br>condition:&nbsp;17<br></td><td><a class=\"ProveItLink\" href=\"../da4bf3726ee992ac0d844700905ecfe492fda6f20/expr.ipynb\"><img src=\"../da4bf3726ee992ac0d844700905ecfe492fda6f20/expr.png\" style=\"display:inline;vertical-align:middle;\" /></a></td></tr>\n",
       "<tr><td>10</td><td>Conditional</td><td>value:&nbsp;20<br>condition:&nbsp;12<br></td><td><a class=\"ProveItLink\" href=\"../../theorems/9906e819d8fcc958d276bc5728c8f1639c0e405f0/expr.ipynb\"><img src=\"../../theorems/9906e819d8fcc958d276bc5728c8f1639c0e405f0/expr.png\" style=\"display:inline;vertical-align:middle;\" /></a></td></tr>\n",
       "<tr><td>11</td><td>Operation</td><td>operator:&nbsp;13<br>operand:&nbsp;16<br></td><td><a class=\"ProveItLink\" href=\"../02964bfe57d30ed5cb4e54611d9d0e98bef5b8700/expr.ipynb\"><img src=\"../02964bfe57d30ed5cb4e54611d9d0e98bef5b8700/expr.png\" style=\"display:inline;vertical-align:middle;\" /></a></td></tr>\n",
       "<tr><td>12</td><td>Operation</td><td>operator:&nbsp;32<br>operands:&nbsp;15<br></td><td><a class=\"ProveItLink\" href=\"../../theorems/161a50bdc4caa2770cbec50d1d8f4a8d7e1c0cdb0/expr.ipynb\"><img src=\"../../theorems/161a50bdc4caa2770cbec50d1d8f4a8d7e1c0cdb0/expr.png\" style=\"display:inline;vertical-align:middle;\" /></a></td></tr>\n",
       "<tr><td>13</td><td>Literal</td><td></td><td><a class=\"ProveItLink\" href=\"../../../../quantification/universality/__pv_it/common/684d35ba98fcbf8ca5011f865e530a51e77730630/expr.ipynb\"><img src=\"../../../../quantification/universality/__pv_it/common/684d35ba98fcbf8ca5011f865e530a51e77730630/expr.png\" style=\"display:inline;vertical-align:middle;\" /></a></td></tr>\n",
       "<tr><td>14</td><td>ExprTuple</td><td>16</td><td><a class=\"ProveItLink\" href=\"../69ebbd81f5a5c538b941210f461a5a28954ff96e0/expr.ipynb\"><img src=\"../69ebbd81f5a5c538b941210f461a5a28954ff96e0/expr.png\" style=\"display:inline;vertical-align:middle;\" /></a></td></tr>\n",
       "<tr><td>15</td><td>ExprTuple</td><td>17, 25, 26</td><td><a class=\"ProveItLink\" href=\"../../theorems/4852002dc67f7867209d5e73e192a8823e5ae88e0/expr.ipynb\"><img src=\"../../theorems/4852002dc67f7867209d5e73e192a8823e5ae88e0/expr.png\" style=\"display:inline;vertical-align:middle;\" /></a></td></tr>\n",
       "<tr><td>16</td><td>Lambda</td><td>parameter:&nbsp;40<br>body:&nbsp;18<br></td><td><a class=\"ProveItLink\" href=\"../92ca7574169276c18c5a4a8b11f3d173120ca7100/expr.ipynb\"><img src=\"../92ca7574169276c18c5a4a8b11f3d173120ca7100/expr.png\" style=\"display:inline;vertical-align:middle;\" /></a></td></tr>\n",
       "<tr><td>17</td><td>Operation</td><td>operator:&nbsp;27<br>operands:&nbsp;19<br></td><td><a class=\"ProveItLink\" href=\"../../theorems/7cfa8b9c477c340a2bec05787809c87a088f07ac0/expr.ipynb\"><img src=\"../../theorems/7cfa8b9c477c340a2bec05787809c87a088f07ac0/expr.png\" style=\"display:inline;vertical-align:middle;\" /></a></td></tr>\n",
       "<tr><td>18</td><td>Conditional</td><td>value:&nbsp;20<br>condition:&nbsp;21<br></td><td><a class=\"ProveItLink\" href=\"../ec2c6f31869110569e9e3737cb09aadbd2ae3ee90/expr.ipynb\"><img src=\"../ec2c6f31869110569e9e3737cb09aadbd2ae3ee90/expr.png\" style=\"display:inline;vertical-align:middle;\" /></a></td></tr>\n",
       "<tr><td>19</td><td>ExprTuple</td><td>39, 30</td><td><a class=\"ProveItLink\" href=\"../../theorems/5b8642875a5af086e135f91f5fe6a0b1d15f8cb50/expr.ipynb\"><img src=\"../../theorems/5b8642875a5af086e135f91f5fe6a0b1d15f8cb50/expr.png\" style=\"display:inline;vertical-align:middle;\" /></a></td></tr>\n",
       "<tr><td>20</td><td>Operation</td><td>operator:&nbsp;22<br>operands:&nbsp;23<br></td><td><a class=\"ProveItLink\" href=\"../../theorems/64d599a7acc604adfa976ed673118f75c53672710/expr.ipynb\"><img src=\"../../theorems/64d599a7acc604adfa976ed673118f75c53672710/expr.png\" style=\"display:inline;vertical-align:middle;\" /></a></td></tr>\n",
       "<tr><td>21</td><td>Operation</td><td>operator:&nbsp;32<br>operands:&nbsp;24<br></td><td><a class=\"ProveItLink\" href=\"../60b7083a676c9051e8df6812a8cc1f2eeb8356d00/expr.ipynb\"><img src=\"../60b7083a676c9051e8df6812a8cc1f2eeb8356d00/expr.png\" style=\"display:inline;vertical-align:middle;\" /></a></td></tr>\n",
       "<tr><td>22</td><td>Literal</td><td></td><td><a class=\"ProveItLink\" href=\"../../common/0e5dcae3232d8ebdc0777b8ce92ce453a450f6c30/expr.ipynb\"><img src=\"../../common/0e5dcae3232d8ebdc0777b8ce92ce453a450f6c30/expr.png\" style=\"display:inline;vertical-align:middle;\" /></a></td></tr>\n",
       "<tr><td>23</td><td>ExprTuple</td><td>39, 40</td><td><a class=\"ProveItLink\" href=\"../../theorems/7aa24190517d6a40e915c207672cefb0d36c3b690/expr.ipynb\"><img src=\"../../theorems/7aa24190517d6a40e915c207672cefb0d36c3b690/expr.png\" style=\"display:inline;vertical-align:middle;\" /></a></td></tr>\n",
       "<tr><td>24</td><td>ExprTuple</td><td>25, 26</td><td><a class=\"ProveItLink\" href=\"../354acfaadceb404237d07ba473dd8a82ad925a990/expr.ipynb\"><img src=\"../354acfaadceb404237d07ba473dd8a82ad925a990/expr.png\" style=\"display:inline;vertical-align:middle;\" /></a></td></tr>\n",
       "<tr><td>25</td><td>Operation</td><td>operator:&nbsp;27<br>operands:&nbsp;28<br></td><td><a class=\"ProveItLink\" href=\"../../theorems/67501eb487d67b93f0ec3f6965561f782e470d670/expr.ipynb\"><img src=\"../../theorems/67501eb487d67b93f0ec3f6965561f782e470d670/expr.png\" style=\"display:inline;vertical-align:middle;\" /></a></td></tr>\n",
       "<tr><td>26</td><td>Operation</td><td>operator:&nbsp;37<br>operand:&nbsp;31<br></td><td><a class=\"ProveItLink\" href=\"../../theorems/4ea963c046d617890207cfed720335385d2c3dfd0/expr.ipynb\"><img src=\"../../theorems/4ea963c046d617890207cfed720335385d2c3dfd0/expr.png\" style=\"display:inline;vertical-align:middle;\" /></a></td></tr>\n",
       "<tr><td>27</td><td>Literal</td><td></td><td><a class=\"ProveItLink\" href=\"../../../../../sets/membership/__pv_it/common/7171deca84f71f47a6ec7696972d1632274a12880/expr.ipynb\"><img src=\"../../../../../sets/membership/__pv_it/common/7171deca84f71f47a6ec7696972d1632274a12880/expr.png\" style=\"display:inline;vertical-align:middle;\" /></a></td></tr>\n",
       "<tr><td>28</td><td>ExprTuple</td><td>40, 30</td><td><a class=\"ProveItLink\" href=\"../../theorems/b464bb5e9f3209bc967a4021ab40c71e0755ea4e0/expr.ipynb\"><img src=\"../../theorems/b464bb5e9f3209bc967a4021ab40c71e0755ea4e0/expr.png\" style=\"display:inline;vertical-align:middle;\" /></a></td></tr>\n",
       "<tr><td>29</td><td>ExprTuple</td><td>31</td><td><a class=\"ProveItLink\" href=\"../../theorems/0ca6bb5048901f6b9b876e1d07ab033c790668020/expr.ipynb\"><img src=\"../../theorems/0ca6bb5048901f6b9b876e1d07ab033c790668020/expr.png\" style=\"display:inline;vertical-align:middle;\" /></a></td></tr>\n",
       "<tr><td>30</td><td>Literal</td><td></td><td><a class=\"ProveItLink\" href=\"../../../../__pv_it/common/8fc291135425020cce4ba1ad615843f54f1fc6600/expr.ipynb\"><img src=\"../../../../__pv_it/common/8fc291135425020cce4ba1ad615843f54f1fc6600/expr.png\" style=\"display:inline;vertical-align:middle;\" /></a></td></tr>\n",
       "<tr><td>31</td><td>Operation</td><td>operator:&nbsp;32<br>operands:&nbsp;33<br></td><td><a class=\"ProveItLink\" href=\"../../theorems/503b9d04c2f02bd499293336610d13ccb1e00f960/expr.ipynb\"><img src=\"../../theorems/503b9d04c2f02bd499293336610d13ccb1e00f960/expr.png\" style=\"display:inline;vertical-align:middle;\" /></a></td></tr>\n",
       "<tr><td>32</td><td>Literal</td><td></td><td><a class=\"ProveItLink\" href=\"../../../../conjunction/__pv_it/common/26b94b53e70b1d77b70f0d9d4236347db37731060/expr.ipynb\"><img src=\"../../../../conjunction/__pv_it/common/26b94b53e70b1d77b70f0d9d4236347db37731060/expr.png\" style=\"display:inline;vertical-align:middle;\" /></a></td></tr>\n",
       "<tr><td>33</td><td>ExprTuple</td><td>34, 35</td><td><a class=\"ProveItLink\" href=\"../../theorems/3e63daaee2d0823467155cd8c98574f48c7035b70/expr.ipynb\"><img src=\"../../theorems/3e63daaee2d0823467155cd8c98574f48c7035b70/expr.png\" style=\"display:inline;vertical-align:middle;\" /></a></td></tr>\n",
       "<tr><td>34</td><td>Operation</td><td>operator:&nbsp;37<br>operand:&nbsp;39<br></td><td><a class=\"ProveItLink\" href=\"../../theorems/531b4d361e22bb9dc371e326667e78900b871afb0/expr.ipynb\"><img src=\"../../theorems/531b4d361e22bb9dc371e326667e78900b871afb0/expr.png\" style=\"display:inline;vertical-align:middle;\" /></a></td></tr>\n",
       "<tr><td>35</td><td>Operation</td><td>operator:&nbsp;37<br>operand:&nbsp;40<br></td><td><a class=\"ProveItLink\" href=\"../../theorems/7e62a2cc7488cf98fcf25c6e4b2091ce54d5d3b80/expr.ipynb\"><img src=\"../../theorems/7e62a2cc7488cf98fcf25c6e4b2091ce54d5d3b80/expr.png\" style=\"display:inline;vertical-align:middle;\" /></a></td></tr>\n",
       "<tr><td>36</td><td>ExprTuple</td><td>39</td><td><a class=\"ProveItLink\" href=\"../../theorems/0593fb3fd45e428ede78a1c9e57ad43924c1ecdd0/expr.ipynb\"><img src=\"../../theorems/0593fb3fd45e428ede78a1c9e57ad43924c1ecdd0/expr.png\" style=\"display:inline;vertical-align:middle;\" /></a></td></tr>\n",
       "<tr><td>37</td><td>Literal</td><td></td><td><a class=\"ProveItLink\" href=\"../../../../negation/__pv_it/common/44cff78c6737753417865a5233f827322c0f04ad0/expr.ipynb\"><img src=\"../../../../negation/__pv_it/common/44cff78c6737753417865a5233f827322c0f04ad0/expr.png\" style=\"display:inline;vertical-align:middle;\" /></a></td></tr>\n",
       "<tr><td>38</td><td>ExprTuple</td><td>40</td><td><a class=\"ProveItLink\" href=\"../../theorems/012b0094f536af98194e412c455f1250186fffc30/expr.ipynb\"><img src=\"../../theorems/012b0094f536af98194e412c455f1250186fffc30/expr.png\" style=\"display:inline;vertical-align:middle;\" /></a></td></tr>\n",
       "<tr><td>39</td><td>Variable</td><td></td><td><a class=\"ProveItLink\" href=\"../../../../../../__pv_it/common/e4aad701f7f5516d8e7f0d805d518bf02c13322a0/expr.ipynb\"><img src=\"../../../../../../__pv_it/common/e4aad701f7f5516d8e7f0d805d518bf02c13322a0/expr.png\" style=\"display:inline;vertical-align:middle;\" /></a></td></tr>\n",
       "<tr><td>40</td><td>Variable</td><td></td><td><a class=\"ProveItLink\" href=\"../../../../../../__pv_it/common/4eca3b30dcf58a58494e201d1b7886d8643a617b0/expr.ipynb\"><img src=\"../../../../../../__pv_it/common/4eca3b30dcf58a58494e201d1b7886d8643a617b0/expr.png\" style=\"display:inline;vertical-align:middle;\" /></a></td></tr>\n",
       "</table>\n"
      ],
      "text/plain": [
       "0. [forall_{A in BOOLEAN} [forall_{B in BOOLEAN | not(not(A) and not(B))} (A or B)]] => [forall_{A, B in BOOLEAN | not(not(A) and not(B))} (A or B)]\n",
       "   core type: Operation\n",
       "   operator: 1\n",
       "   operands: 2\n",
       "1. =>\n",
       "   core type: Literal\n",
       "   sub-expressions: \n",
       "2. (forall_{A in BOOLEAN} [forall_{B in BOOLEAN | not(not(A) and not(B))} (A or B)], forall_{A, B in BOOLEAN | not(not(A) and not(B))} (A or B))\n",
       "   core type: ExprTuple\n",
       "   sub-expressions: 3, 4\n",
       "3. forall_{A in BOOLEAN} [forall_{B in BOOLEAN | not(not(A) and not(B))} (A or B)]\n",
       "   core type: Operation\n",
       "   operator: 13\n",
       "   operand: 7\n",
       "4. forall_{A, B in BOOLEAN | not(not(A) and not(B))} (A or B)\n",
       "   core type: Operation\n",
       "   operator: 13\n",
       "   operand: 8\n",
       "5. (A -> {forall_{B in BOOLEAN | not(not(A) and not(B))} (A or B) if A in BOOLEAN.)\n",
       "   core type: ExprTuple\n",
       "   sub-expressions: 7\n",
       "6. ((A, B) -> {A or B if A in BOOLEAN ,  B in BOOLEAN ,  not(not(A) and not(B)).)\n",
       "   core type: ExprTuple\n",
       "   sub-expressions: 8\n",
       "7. A -> {forall_{B in BOOLEAN | not(not(A) and not(B))} (A or B) if A in BOOLEAN.\n",
       "   core type: Lambda\n",
       "   parameter: 39\n",
       "   body: 9\n",
       "8. (A, B) -> {A or B if A in BOOLEAN ,  B in BOOLEAN ,  not(not(A) and not(B)).\n",
       "   core type: Lambda\n",
       "   parameters: 23\\n   body: 10\n",
       "9. {forall_{B in BOOLEAN | not(not(A) and not(B))} (A or B) if A in BOOLEAN.\n",
       "   core type: Conditional\n",
       "   value: 11\n",
       "   condition: 17\n",
       "10. {A or B if A in BOOLEAN ,  B in BOOLEAN ,  not(not(A) and not(B)).\n",
       "    core type: Conditional\n",
       "    value: 20\n",
       "    condition: 12\n",
       "11. forall_{B in BOOLEAN | not(not(A) and not(B))} (A or B)\n",
       "    core type: Operation\n",
       "    operator: 13\n",
       "    operand: 16\n",
       "12. (A in BOOLEAN) and (B in BOOLEAN) and not(not(A) and not(B))\n",
       "    core type: Operation\n",
       "    operator: 32\n",
       "    operands: 15\n",
       "13. forall\n",
       "    core type: Literal\n",
       "    sub-expressions: \n",
       "14. (B -> {A or B if B in BOOLEAN ,  not(not(A) and not(B)).)\n",
       "    core type: ExprTuple\n",
       "    sub-expressions: 16\n",
       "15. (A in BOOLEAN, B in BOOLEAN, not(not(A) and not(B)))\n",
       "    core type: ExprTuple\n",
       "    sub-expressions: 17, 25, 26\n",
       "16. B -> {A or B if B in BOOLEAN ,  not(not(A) and not(B)).\n",
       "    core type: Lambda\n",
       "    parameter: 40\n",
       "    body: 18\n",
       "17. A in BOOLEAN\n",
       "    core type: Operation\n",
       "    operator: 27\n",
       "    operands: 19\n",
       "18. {A or B if B in BOOLEAN ,  not(not(A) and not(B)).\n",
       "    core type: Conditional\n",
       "    value: 20\n",
       "    condition: 21\n",
       "19. (A, BOOLEAN)\n",
       "    core type: ExprTuple\n",
       "    sub-expressions: 39, 30\n",
       "20. A or B\n",
       "    core type: Operation\n",
       "    operator: 22\n",
       "    operands: 23\n",
       "21. (B in BOOLEAN) and not(not(A) and not(B))\n",
       "    core type: Operation\n",
       "    operator: 32\n",
       "    operands: 24\n",
       "22. or\n",
       "    core type: Literal\n",
       "    sub-expressions: \n",
       "23. (A, B)\n",
       "    core type: ExprTuple\n",
       "    sub-expressions: 39, 40\n",
       "24. (B in BOOLEAN, not(not(A) and not(B)))\n",
       "    core type: ExprTuple\n",
       "    sub-expressions: 25, 26\n",
       "25. B in BOOLEAN\n",
       "    core type: Operation\n",
       "    operator: 27\n",
       "    operands: 28\n",
       "26. not(not(A) and not(B))\n",
       "    core type: Operation\n",
       "    operator: 37\n",
       "    operand: 31\n",
       "27. in\n",
       "    core type: Literal\n",
       "    sub-expressions: \n",
       "28. (B, BOOLEAN)\n",
       "    core type: ExprTuple\n",
       "    sub-expressions: 40, 30\n",
       "29. (not(A) and not(B))\n",
       "    core type: ExprTuple\n",
       "    sub-expressions: 31\n",
       "30. BOOLEAN\n",
       "    core type: Literal\n",
       "    sub-expressions: \n",
       "31. not(A) and not(B)\n",
       "    core type: Operation\n",
       "    operator: 32\n",
       "    operands: 33\n",
       "32. and\n",
       "    core type: Literal\n",
       "    sub-expressions: \n",
       "33. (not(A), not(B))\n",
       "    core type: ExprTuple\n",
       "    sub-expressions: 34, 35\n",
       "34. not(A)\n",
       "    core type: Operation\n",
       "    operator: 37\n",
       "    operand: 39\n",
       "35. not(B)\n",
       "    core type: Operation\n",
       "    operator: 37\n",
       "    operand: 40\n",
       "36. (A)\n",
       "    core type: ExprTuple\n",
       "    sub-expressions: 39\n",
       "37. not\n",
       "    core type: Literal\n",
       "    sub-expressions: \n",
       "38. (B)\n",
       "    core type: ExprTuple\n",
       "    sub-expressions: 40\n",
       "39. A\n",
       "    core type: Variable\n",
       "    sub-expressions: \n",
       "40. B\n",
       "    core type: Variable\n",
       "    sub-expressions: "
      ]
     },
     "execution_count": 6,
     "metadata": {},
     "output_type": "execute_result"
    }
   ],
   "source": [
    "# display the expression information\n",
    "expr.expr_info()"
   ]
  },
  {
   "cell_type": "code",
   "execution_count": null,
   "metadata": {},
   "outputs": [],
   "source": []
  }
 ],
 "metadata": {
  "kernelspec": {
   "display_name": "Python 3",
   "language": "python",
   "name": "python3"
  }
 },
 "nbformat": 4,
 "nbformat_minor": 0
}