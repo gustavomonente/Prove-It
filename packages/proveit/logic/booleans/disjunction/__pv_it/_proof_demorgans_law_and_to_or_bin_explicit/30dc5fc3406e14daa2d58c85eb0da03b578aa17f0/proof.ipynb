{
 "cells": [
  {
   "cell_type": "markdown",
   "metadata": {},
   "source": [
    "Show the Proof\n",
    "========"
   ]
  },
  {
   "cell_type": "code",
   "execution_count": 1,
   "metadata": {},
   "outputs": [
    {
     "data": {
      "text/html": [
       "<table><tr><th>&nbsp;</th><th>step type</th><th>requirements</th><th>statement</th></tr>\n",
       "<tr><td><a name=\"proveit.logic.booleans.disjunction._proof_demorgans_law_and_to_or_bin_explicit.30dc5fc3406e14daa2d58c85eb0da03b578aa17f0_step0\">0</a></td><td>instantiation</td><td><a href=\"#proveit.logic.booleans.disjunction._proof_demorgans_law_and_to_or_bin_explicit.30dc5fc3406e14daa2d58c85eb0da03b578aa17f0_step1\">1</a>, <a href=\"#proveit.logic.booleans.disjunction._proof_demorgans_law_and_to_or_bin_explicit.30dc5fc3406e14daa2d58c85eb0da03b578aa17f0_step2\">2</a>, <a href=\"#proveit.logic.booleans.disjunction._proof_demorgans_law_and_to_or_bin_explicit.30dc5fc3406e14daa2d58c85eb0da03b578aa17f0_step3\">3</a></td><td><span style=\"font-size:20px;\"> <a class=\"ProveItLink\" href=\"proof.ipynb\" style=\"text-decoration: none\">&nbsp;&#x22A2;&nbsp;&nbsp;</a><a class=\"ProveItLink\" href=\"../f9ad326d848eb9105a00cb70e18f67e77dc5b4580/expr.ipynb\"><img src=\"../f9ad326d848eb9105a00cb70e18f67e77dc5b4580/expr.png\" style=\"display:inline;vertical-align:middle;\" /></a></span></td></tr>\n",
       "<tr><td>&nbsp;</td><td colspan=4 style=\"text-align:left\"><span style=\"font-size:20px;\"><a class=\"ProveItLink\" href=\"../62ef1aa2d29d585934db561f9e547c15d8494afb0/expr.ipynb\"><img src=\"../62ef1aa2d29d585934db561f9e547c15d8494afb0/expr.png\" style=\"display:inline;vertical-align:middle;\" /></a> : <a class=\"ProveItLink\" href=\"../bd5c8461ae53317ed06a205db23c248fb537d0730/expr.ipynb\"><img src=\"../bd5c8461ae53317ed06a205db23c248fb537d0730/expr.png\" style=\"display:inline;vertical-align:middle;\" /></a>, <a class=\"ProveItLink\" href=\"../e33d84ec0fd1b5cb4f276158a5500212d5384eaa0/expr.ipynb\"><img src=\"../e33d84ec0fd1b5cb4f276158a5500212d5384eaa0/expr.png\" style=\"display:inline;vertical-align:middle;\" /></a> : <a class=\"ProveItLink\" href=\"../88d30a0e234a8630aaafdaa5065c913ffe980bc30/expr.ipynb\"><img src=\"../88d30a0e234a8630aaafdaa5065c913ffe980bc30/expr.png\" style=\"display:inline;vertical-align:middle;\" /></a>, <a class=\"ProveItLink\" href=\"../../../../../../__pv_it/common/e4aad701f7f5516d8e7f0d805d518bf02c13322a0/expr.ipynb\"><img src=\"../../../../../../__pv_it/common/e4aad701f7f5516d8e7f0d805d518bf02c13322a0/expr.png\" style=\"display:inline;vertical-align:middle;\" /></a> : <a class=\"ProveItLink\" href=\"../../../../../../__pv_it/common/4eca3b30dcf58a58494e201d1b7886d8643a617b0/expr.ipynb\"><img src=\"../../../../../../__pv_it/common/4eca3b30dcf58a58494e201d1b7886d8643a617b0/expr.png\" style=\"display:inline;vertical-align:middle;\" /></a></span></td></tr><tr><td><a name=\"proveit.logic.booleans.disjunction._proof_demorgans_law_and_to_or_bin_explicit.30dc5fc3406e14daa2d58c85eb0da03b578aa17f0_step1\">1</a></td><td>theorem</td><td></td><td><span style=\"font-size:20px;\"> <a class=\"ProveItLink\" href=\"../../../../_theory_nbs_/proofs/fold_conditioned_forall_over_bool/thm_proof.ipynb\" style=\"text-decoration: none\">&nbsp;&#x22A2;&nbsp;&nbsp;</a><a class=\"ProveItLink\" href=\"../../../../__pv_it/theorems/c87b4268bd6d9e0b4b81b5ba73ef43440258e62b0/expr.ipynb\"><img src=\"../../../../__pv_it/theorems/c87b4268bd6d9e0b4b81b5ba73ef43440258e62b0/expr.png\" style=\"display:inline;vertical-align:middle;\" /></a></span></td></tr>\n",
       "<tr><td>&nbsp;</td><td colspan=4 style-\"text-align:left\"><a class=\"ProveItLink\" href=\"../../../../_theory_nbs_/proofs/fold_conditioned_forall_over_bool/thm_proof.ipynb\">proveit.logic.booleans.fold_conditioned_forall_over_bool</a></td></tr><tr><td><a name=\"proveit.logic.booleans.disjunction._proof_demorgans_law_and_to_or_bin_explicit.30dc5fc3406e14daa2d58c85eb0da03b578aa17f0_step2\">2</a></td><td>deduction</td><td><a href=\"#proveit.logic.booleans.disjunction._proof_demorgans_law_and_to_or_bin_explicit.30dc5fc3406e14daa2d58c85eb0da03b578aa17f0_step4\">4</a></td><td><span style=\"font-size:20px;\"> <a class=\"ProveItLink\" href=\"../31580e96e3bfe3bdf62126b72ed7a0cf9cfbf1b10/proof.ipynb\" style=\"text-decoration: none\">&nbsp;&#x22A2;&nbsp;&nbsp;</a><a class=\"ProveItLink\" href=\"../868f87ffa0183339d4efa96d6cad476208e251510/expr.ipynb\"><img src=\"../868f87ffa0183339d4efa96d6cad476208e251510/expr.png\" style=\"display:inline;vertical-align:middle;\" /></a></span></td></tr>\n",
       "<tr><td><a name=\"proveit.logic.booleans.disjunction._proof_demorgans_law_and_to_or_bin_explicit.30dc5fc3406e14daa2d58c85eb0da03b578aa17f0_step3\">3</a></td><td>deduction</td><td><a href=\"#proveit.logic.booleans.disjunction._proof_demorgans_law_and_to_or_bin_explicit.30dc5fc3406e14daa2d58c85eb0da03b578aa17f0_step5\">5</a></td><td><span style=\"font-size:20px;\"> <a class=\"ProveItLink\" href=\"../6484897df4cca4c6c85a19c69fbc480825fc0bea0/proof.ipynb\" style=\"text-decoration: none\">&nbsp;&#x22A2;&nbsp;&nbsp;</a><a class=\"ProveItLink\" href=\"../6ef0f62ff87b2dd48232a030c56f217d4cbe79e70/expr.ipynb\"><img src=\"../6ef0f62ff87b2dd48232a030c56f217d4cbe79e70/expr.png\" style=\"display:inline;vertical-align:middle;\" /></a></span></td></tr>\n",
       "<tr><td><a name=\"proveit.logic.booleans.disjunction._proof_demorgans_law_and_to_or_bin_explicit.30dc5fc3406e14daa2d58c85eb0da03b578aa17f0_step4\">4</a></td><td>instantiation</td><td><a href=\"#proveit.logic.booleans.disjunction._proof_demorgans_law_and_to_or_bin_explicit.30dc5fc3406e14daa2d58c85eb0da03b578aa17f0_step7\">7</a>, <a href=\"#proveit.logic.booleans.disjunction._proof_demorgans_law_and_to_or_bin_explicit.30dc5fc3406e14daa2d58c85eb0da03b578aa17f0_step6\">6</a></td><td><span style=\"font-size:20px;\"> <a class=\"ProveItLink\" href=\"../23fb94b9aab8474670ee5697c3acf40be2526b700/proof.ipynb\" style=\"text-decoration: none\">&nbsp;&#x22A2;&nbsp;&nbsp;</a><a class=\"ProveItLink\" href=\"../../axioms/9dfa130a8f021198f22c3aa5733ebc53fb66c2820/expr.ipynb\"><img src=\"../../axioms/9dfa130a8f021198f22c3aa5733ebc53fb66c2820/expr.png\" style=\"display:inline;vertical-align:middle;\" /></a></span></td></tr>\n",
       "<tr><td>&nbsp;</td><td colspan=4 style=\"text-align:left\"><span style=\"font-size:20px;\"><a class=\"ProveItLink\" href=\"../../../../../../__pv_it/common/e4aad701f7f5516d8e7f0d805d518bf02c13322a0/expr.ipynb\"><img src=\"../../../../../../__pv_it/common/e4aad701f7f5516d8e7f0d805d518bf02c13322a0/expr.png\" style=\"display:inline;vertical-align:middle;\" /></a> : <a class=\"ProveItLink\" href=\"../../axioms/9dfa130a8f021198f22c3aa5733ebc53fb66c2820/expr.ipynb\"><img src=\"../../axioms/9dfa130a8f021198f22c3aa5733ebc53fb66c2820/expr.png\" style=\"display:inline;vertical-align:middle;\" /></a></span></td></tr><tr><td><a name=\"proveit.logic.booleans.disjunction._proof_demorgans_law_and_to_or_bin_explicit.30dc5fc3406e14daa2d58c85eb0da03b578aa17f0_step5\">5</a></td><td>instantiation</td><td><a href=\"#proveit.logic.booleans.disjunction._proof_demorgans_law_and_to_or_bin_explicit.30dc5fc3406e14daa2d58c85eb0da03b578aa17f0_step7\">7</a>, <a href=\"#proveit.logic.booleans.disjunction._proof_demorgans_law_and_to_or_bin_explicit.30dc5fc3406e14daa2d58c85eb0da03b578aa17f0_step8\">8</a></td><td><span style=\"font-size:20px;\"> <a class=\"ProveItLink\" href=\"../97665ced30832e59400beb9fc342639f05defa450/proof.ipynb\" style=\"text-decoration: none\">&nbsp;&#x22A2;&nbsp;&nbsp;</a><a class=\"ProveItLink\" href=\"../../axioms/84ddfe0a2ea6d1170e8d0439db424649f45484d00/expr.ipynb\"><img src=\"../../axioms/84ddfe0a2ea6d1170e8d0439db424649f45484d00/expr.png\" style=\"display:inline;vertical-align:middle;\" /></a></span></td></tr>\n",
       "<tr><td>&nbsp;</td><td colspan=4 style=\"text-align:left\"><span style=\"font-size:20px;\"><a class=\"ProveItLink\" href=\"../../../../../../__pv_it/common/e4aad701f7f5516d8e7f0d805d518bf02c13322a0/expr.ipynb\"><img src=\"../../../../../../__pv_it/common/e4aad701f7f5516d8e7f0d805d518bf02c13322a0/expr.png\" style=\"display:inline;vertical-align:middle;\" /></a> : <a class=\"ProveItLink\" href=\"../../axioms/84ddfe0a2ea6d1170e8d0439db424649f45484d00/expr.ipynb\"><img src=\"../../axioms/84ddfe0a2ea6d1170e8d0439db424649f45484d00/expr.png\" style=\"display:inline;vertical-align:middle;\" /></a></span></td></tr><tr><td><a name=\"proveit.logic.booleans.disjunction._proof_demorgans_law_and_to_or_bin_explicit.30dc5fc3406e14daa2d58c85eb0da03b578aa17f0_step6\">6</a></td><td>axiom</td><td></td><td><span style=\"font-size:20px;\"> <a class=\"ProveItLink\" href=\"../../../_theory_nbs_/axioms.ipynb#or_t_t\" style=\"text-decoration: none\">&nbsp;&#x22A2;&nbsp;&nbsp;</a><a class=\"ProveItLink\" href=\"../../axioms/cc637b0579cd6c85883fa5524629e7a285ffca700/expr.ipynb\"><img src=\"../../axioms/cc637b0579cd6c85883fa5524629e7a285ffca700/expr.png\" style=\"display:inline;vertical-align:middle;\" /></a></span></td></tr>\n",
       "<tr><td>&nbsp;</td><td colspan=4 style-\"text-align:left\"><a class=\"ProveItLink\" href=\"../../../_theory_nbs_/axioms.ipynb#or_t_t\">proveit.logic.booleans.disjunction.or_t_t</a></td></tr><tr><td><a name=\"proveit.logic.booleans.disjunction._proof_demorgans_law_and_to_or_bin_explicit.30dc5fc3406e14daa2d58c85eb0da03b578aa17f0_step7\">7</a></td><td>axiom</td><td></td><td><span style=\"font-size:20px;\"> <a class=\"ProveItLink\" href=\"../../../../_theory_nbs_/axioms.ipynb#eq_true_elim\" style=\"text-decoration: none\">&nbsp;&#x22A2;&nbsp;&nbsp;</a><a class=\"ProveItLink\" href=\"../../../../__pv_it/axioms/ed8b0a27c515b8c85261606f0835dadd8c8b34f70/expr.ipynb\"><img src=\"../../../../__pv_it/axioms/ed8b0a27c515b8c85261606f0835dadd8c8b34f70/expr.png\" style=\"display:inline;vertical-align:middle;\" /></a></span></td></tr>\n",
       "<tr><td>&nbsp;</td><td colspan=4 style-\"text-align:left\"><a class=\"ProveItLink\" href=\"../../../../_theory_nbs_/axioms.ipynb#eq_true_elim\">proveit.logic.booleans.eq_true_elim</a></td></tr><tr><td><a name=\"proveit.logic.booleans.disjunction._proof_demorgans_law_and_to_or_bin_explicit.30dc5fc3406e14daa2d58c85eb0da03b578aa17f0_step8\">8</a></td><td>axiom</td><td></td><td><span style=\"font-size:20px;\"> <a class=\"ProveItLink\" href=\"../../../_theory_nbs_/axioms.ipynb#or_t_f\" style=\"text-decoration: none\">&nbsp;&#x22A2;&nbsp;&nbsp;</a><a class=\"ProveItLink\" href=\"../../axioms/1265d8c2db5f45ad43008c6049a25fa3b4b905990/expr.ipynb\"><img src=\"../../axioms/1265d8c2db5f45ad43008c6049a25fa3b4b905990/expr.png\" style=\"display:inline;vertical-align:middle;\" /></a></span></td></tr>\n",
       "<tr><td>&nbsp;</td><td colspan=4 style-\"text-align:left\"><a class=\"ProveItLink\" href=\"../../../_theory_nbs_/axioms.ipynb#or_t_f\">proveit.logic.booleans.disjunction.or_t_f</a></td></tr></table>"
      ],
      "text/plain": [
       "<proveit._core_.proof._ShowProof at 0x7f140e6f9828>"
      ]
     },
     "execution_count": 1,
     "metadata": {},
     "output_type": "execute_result"
    }
   ],
   "source": [
    "import proveit\n",
    "# Automation is not needed when only showing a stored proof:\n",
    "proveit.defaults.automation = False # This will speed things up.\n",
    "proveit.defaults.inline_pngs = False # Makes files smaller.\n",
    "%show_proof"
   ]
  },
  {
   "cell_type": "code",
   "execution_count": null,
   "metadata": {},
   "outputs": [],
   "source": []
  }
 ],
 "metadata": {
  "kernelspec": {
   "display_name": "Python 3",
   "language": "python",
   "name": "python3"
  },
  "language_info": {
   "codemirror_mode": {
    "name": "ipython",
    "version": 3
   },
   "file_extension": ".py",
   "mimetype": "text/x-python",
   "name": "python",
   "nbconvert_exporter": "python",
   "pygments_lexer": "ipython3",
   "version": "3.7.3"
  }
 },
 "nbformat": 4,
 "nbformat_minor": 1
}