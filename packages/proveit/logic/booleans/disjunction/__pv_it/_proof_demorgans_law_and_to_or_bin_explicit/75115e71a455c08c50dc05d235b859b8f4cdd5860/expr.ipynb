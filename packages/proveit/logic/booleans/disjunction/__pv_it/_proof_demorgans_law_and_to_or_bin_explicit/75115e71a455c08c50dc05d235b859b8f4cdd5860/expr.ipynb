{
 "cells": [
  {
   "cell_type": "markdown",
   "metadata": {},
   "source": [
    "Expression of type <a class=\"ProveItLink\" href=\"../../../../../../../../doc/html/api/proveit.Lambda.html\">Lambda</a>\n",
    "=======================\n",
    "# from the theory of <a class=\"ProveItLink\" href=\"../../../_theory_nbs_/theory.ipynb\">proveit.logic.booleans.disjunction</a>"
   ]
  },
  {
   "cell_type": "code",
   "execution_count": 1,
   "metadata": {},
   "outputs": [],
   "source": [
    "import proveit\n",
    "# Automation is not needed when building an expression:\n",
    "proveit.defaults.automation = False # This will speed things up.\n",
    "proveit.defaults.inline_pngs = False # Makes files smaller.\n",
    "%load_expr # Load the stored expression as 'stored_expr'\n",
    "# import Expression classes needed to build the expression\n",
    "from proveit import B, Conditional, Lambda\n",
    "from proveit.logic import And, Boolean, FALSE, InSet, Not, Or"
   ]
  },
  {
   "cell_type": "code",
   "execution_count": 2,
   "metadata": {},
   "outputs": [
    {
     "data": {
      "text/html": [
       "<strong id=\"expr\">expr:</strong> <a class=\"ProveItLink\" href=\"expr.ipynb\"><img src=\"expr.png\" style=\"display:inline;vertical-align:middle;\" /></a><br>"
      ],
      "text/plain": [
       "expr: B -> {FALSE or B if B in BOOLEAN ,  not(not(FALSE) and not(B))."
      ]
     },
     "execution_count": 2,
     "metadata": {},
     "output_type": "execute_result"
    }
   ],
   "source": [
    "# build up the expression from sub-expressions\n",
    "expr = Lambda(B, Conditional(Or(FALSE, B), And(InSet(B, Boolean), Not(And(Not(FALSE), Not(B))))))"
   ]
  },
  {
   "cell_type": "code",
   "execution_count": 3,
   "metadata": {},
   "outputs": [
    {
     "name": "stdout",
     "output_type": "stream",
     "text": [
      "Passed sanity check: expr matches stored_expr\n"
     ]
    }
   ],
   "source": [
    "# check that the built expression is the same as the stored expression\n",
    "assert expr == stored_expr\n",
    "assert expr._style_id == stored_expr._style_id\n",
    "print(\"Passed sanity check: expr matches stored_expr\")"
   ]
  },
  {
   "cell_type": "code",
   "execution_count": 4,
   "metadata": {},
   "outputs": [
    {
     "name": "stdout",
     "output_type": "stream",
     "text": [
      "B \\mapsto \\left\\{\\bot \\lor B \\textrm{ if } B \\in \\mathbb{B} ,  \\lnot \\left((\\lnot \\bot) \\land (\\lnot B)\\right)\\right..\n"
     ]
    }
   ],
   "source": [
    "# Show the LaTeX representation of the expression for convenience if you need it.\n",
    "print(expr.latex())"
   ]
  },
  {
   "cell_type": "code",
   "execution_count": 5,
   "metadata": {},
   "outputs": [
    {
     "data": {
      "text/html": [
       "no style options"
      ],
      "text/plain": [
       "no style options"
      ]
     },
     "execution_count": 5,
     "metadata": {},
     "output_type": "execute_result"
    }
   ],
   "source": [
    "expr.style_options()"
   ]
  },
  {
   "cell_type": "code",
   "execution_count": 6,
   "metadata": {},
   "outputs": [
    {
     "data": {
      "text/html": [
       "<table><tr><th>&nbsp;</th><th>core type</th><th>sub-expressions</th><th>expression</th></tr>\n",
       "<tr><td>0</td><td>Lambda</td><td>parameter:&nbsp;22<br>body:&nbsp;1<br></td><td><a class=\"ProveItLink\" href=\"expr.ipynb\"><img src=\"expr.png\" style=\"display:inline;vertical-align:middle;\" /></a></td></tr>\n",
       "<tr><td>1</td><td>Conditional</td><td>value:&nbsp;2<br>condition:&nbsp;3<br></td><td><a class=\"ProveItLink\" href=\"../ea91065417803b54b8edd3c5d0e662e2897a6d720/expr.ipynb\"><img src=\"../ea91065417803b54b8edd3c5d0e662e2897a6d720/expr.png\" style=\"display:inline;vertical-align:middle;\" /></a></td></tr>\n",
       "<tr><td>2</td><td>Operation</td><td>operator:&nbsp;4<br>operands:&nbsp;5<br></td><td><a class=\"ProveItLink\" href=\"../887e7eb89923dbb44637a64c071e23becdb13e790/expr.ipynb\"><img src=\"../887e7eb89923dbb44637a64c071e23becdb13e790/expr.png\" style=\"display:inline;vertical-align:middle;\" /></a></td></tr>\n",
       "<tr><td>3</td><td>Operation</td><td>operator:&nbsp;14<br>operands:&nbsp;6<br></td><td><a class=\"ProveItLink\" href=\"../b36f063775b9b1e534f806d5d582b421e2456b560/expr.ipynb\"><img src=\"../b36f063775b9b1e534f806d5d582b421e2456b560/expr.png\" style=\"display:inline;vertical-align:middle;\" /></a></td></tr>\n",
       "<tr><td>4</td><td>Literal</td><td></td><td><a class=\"ProveItLink\" href=\"../../common/0e5dcae3232d8ebdc0777b8ce92ce453a450f6c30/expr.ipynb\"><img src=\"../../common/0e5dcae3232d8ebdc0777b8ce92ce453a450f6c30/expr.png\" style=\"display:inline;vertical-align:middle;\" /></a></td></tr>\n",
       "<tr><td>5</td><td>ExprTuple</td><td>21, 22</td><td><a class=\"ProveItLink\" href=\"../2fa63b8b3d39bed11dae6646e01e900c3d5e65810/expr.ipynb\"><img src=\"../2fa63b8b3d39bed11dae6646e01e900c3d5e65810/expr.png\" style=\"display:inline;vertical-align:middle;\" /></a></td></tr>\n",
       "<tr><td>6</td><td>ExprTuple</td><td>7, 8</td><td><a class=\"ProveItLink\" href=\"../a00d18d83c88b4d411455fa64e8c39af268a3b290/expr.ipynb\"><img src=\"../a00d18d83c88b4d411455fa64e8c39af268a3b290/expr.png\" style=\"display:inline;vertical-align:middle;\" /></a></td></tr>\n",
       "<tr><td>7</td><td>Operation</td><td>operator:&nbsp;9<br>operands:&nbsp;10<br></td><td><a class=\"ProveItLink\" href=\"../../theorems/67501eb487d67b93f0ec3f6965561f782e470d670/expr.ipynb\"><img src=\"../../theorems/67501eb487d67b93f0ec3f6965561f782e470d670/expr.png\" style=\"display:inline;vertical-align:middle;\" /></a></td></tr>\n",
       "<tr><td>8</td><td>Operation</td><td>operator:&nbsp;19<br>operand:&nbsp;13<br></td><td><a class=\"ProveItLink\" href=\"../9c60ffafe82ead6a4c422fab1d3caea4243fb69c0/expr.ipynb\"><img src=\"../9c60ffafe82ead6a4c422fab1d3caea4243fb69c0/expr.png\" style=\"display:inline;vertical-align:middle;\" /></a></td></tr>\n",
       "<tr><td>9</td><td>Literal</td><td></td><td><a class=\"ProveItLink\" href=\"../../../../../sets/membership/__pv_it/common/7171deca84f71f47a6ec7696972d1632274a12880/expr.ipynb\"><img src=\"../../../../../sets/membership/__pv_it/common/7171deca84f71f47a6ec7696972d1632274a12880/expr.png\" style=\"display:inline;vertical-align:middle;\" /></a></td></tr>\n",
       "<tr><td>10</td><td>ExprTuple</td><td>22, 12</td><td><a class=\"ProveItLink\" href=\"../../theorems/b464bb5e9f3209bc967a4021ab40c71e0755ea4e0/expr.ipynb\"><img src=\"../../theorems/b464bb5e9f3209bc967a4021ab40c71e0755ea4e0/expr.png\" style=\"display:inline;vertical-align:middle;\" /></a></td></tr>\n",
       "<tr><td>11</td><td>ExprTuple</td><td>13</td><td><a class=\"ProveItLink\" href=\"../d8b25b09dd3ca2c428737212901b6c8816611ce80/expr.ipynb\"><img src=\"../d8b25b09dd3ca2c428737212901b6c8816611ce80/expr.png\" style=\"display:inline;vertical-align:middle;\" /></a></td></tr>\n",
       "<tr><td>12</td><td>Literal</td><td></td><td><a class=\"ProveItLink\" href=\"../../../../__pv_it/common/8fc291135425020cce4ba1ad615843f54f1fc6600/expr.ipynb\"><img src=\"../../../../__pv_it/common/8fc291135425020cce4ba1ad615843f54f1fc6600/expr.png\" style=\"display:inline;vertical-align:middle;\" /></a></td></tr>\n",
       "<tr><td>13</td><td>Operation</td><td>operator:&nbsp;14<br>operands:&nbsp;15<br></td><td><a class=\"ProveItLink\" href=\"../8698e417ee86bc8026093ae147611c63eee39fea0/expr.ipynb\"><img src=\"../8698e417ee86bc8026093ae147611c63eee39fea0/expr.png\" style=\"display:inline;vertical-align:middle;\" /></a></td></tr>\n",
       "<tr><td>14</td><td>Literal</td><td></td><td><a class=\"ProveItLink\" href=\"../../../../conjunction/__pv_it/common/26b94b53e70b1d77b70f0d9d4236347db37731060/expr.ipynb\"><img src=\"../../../../conjunction/__pv_it/common/26b94b53e70b1d77b70f0d9d4236347db37731060/expr.png\" style=\"display:inline;vertical-align:middle;\" /></a></td></tr>\n",
       "<tr><td>15</td><td>ExprTuple</td><td>16, 17</td><td><a class=\"ProveItLink\" href=\"../bc1fdb0b31cd2c125d7f70db95cd23c2f9bbd58c0/expr.ipynb\"><img src=\"../bc1fdb0b31cd2c125d7f70db95cd23c2f9bbd58c0/expr.png\" style=\"display:inline;vertical-align:middle;\" /></a></td></tr>\n",
       "<tr><td>16</td><td>Operation</td><td>operator:&nbsp;19<br>operand:&nbsp;21<br></td><td><a class=\"ProveItLink\" href=\"../../../../negation/__pv_it/axioms/a4fdfc1e2cef2bb7c6d1fd40bfe263bf2d35d59a0/expr.ipynb\"><img src=\"../../../../negation/__pv_it/axioms/a4fdfc1e2cef2bb7c6d1fd40bfe263bf2d35d59a0/expr.png\" style=\"display:inline;vertical-align:middle;\" /></a></td></tr>\n",
       "<tr><td>17</td><td>Operation</td><td>operator:&nbsp;19<br>operand:&nbsp;22<br></td><td><a class=\"ProveItLink\" href=\"../../theorems/7e62a2cc7488cf98fcf25c6e4b2091ce54d5d3b80/expr.ipynb\"><img src=\"../../theorems/7e62a2cc7488cf98fcf25c6e4b2091ce54d5d3b80/expr.png\" style=\"display:inline;vertical-align:middle;\" /></a></td></tr>\n",
       "<tr><td>18</td><td>ExprTuple</td><td>21</td><td><a class=\"ProveItLink\" href=\"../../../../negation/__pv_it/axioms/d260be7503e77a7eb4ca45c9fc6d012d82d1143a0/expr.ipynb\"><img src=\"../../../../negation/__pv_it/axioms/d260be7503e77a7eb4ca45c9fc6d012d82d1143a0/expr.png\" style=\"display:inline;vertical-align:middle;\" /></a></td></tr>\n",
       "<tr><td>19</td><td>Literal</td><td></td><td><a class=\"ProveItLink\" href=\"../../../../negation/__pv_it/common/44cff78c6737753417865a5233f827322c0f04ad0/expr.ipynb\"><img src=\"../../../../negation/__pv_it/common/44cff78c6737753417865a5233f827322c0f04ad0/expr.png\" style=\"display:inline;vertical-align:middle;\" /></a></td></tr>\n",
       "<tr><td>20</td><td>ExprTuple</td><td>22</td><td><a class=\"ProveItLink\" href=\"../../theorems/012b0094f536af98194e412c455f1250186fffc30/expr.ipynb\"><img src=\"../../theorems/012b0094f536af98194e412c455f1250186fffc30/expr.png\" style=\"display:inline;vertical-align:middle;\" /></a></td></tr>\n",
       "<tr><td>21</td><td>Literal</td><td></td><td><a class=\"ProveItLink\" href=\"../../../../__pv_it/common/bc5c31e39ae582b67c89fb24025b57f5b995e8890/expr.ipynb\"><img src=\"../../../../__pv_it/common/bc5c31e39ae582b67c89fb24025b57f5b995e8890/expr.png\" style=\"display:inline;vertical-align:middle;\" /></a></td></tr>\n",
       "<tr><td>22</td><td>Variable</td><td></td><td><a class=\"ProveItLink\" href=\"../../../../../../__pv_it/common/4eca3b30dcf58a58494e201d1b7886d8643a617b0/expr.ipynb\"><img src=\"../../../../../../__pv_it/common/4eca3b30dcf58a58494e201d1b7886d8643a617b0/expr.png\" style=\"display:inline;vertical-align:middle;\" /></a></td></tr>\n",
       "</table>\n"
      ],
      "text/plain": [
       "0. B -> {FALSE or B if B in BOOLEAN ,  not(not(FALSE) and not(B)).\n",
       "   core type: Lambda\n",
       "   parameter: 22\n",
       "   body: 1\n",
       "1. {FALSE or B if B in BOOLEAN ,  not(not(FALSE) and not(B)).\n",
       "   core type: Conditional\n",
       "   value: 2\n",
       "   condition: 3\n",
       "2. FALSE or B\n",
       "   core type: Operation\n",
       "   operator: 4\n",
       "   operands: 5\n",
       "3. (B in BOOLEAN) and not(not(FALSE) and not(B))\n",
       "   core type: Operation\n",
       "   operator: 14\n",
       "   operands: 6\n",
       "4. or\n",
       "   core type: Literal\n",
       "   sub-expressions: \n",
       "5. (FALSE, B)\n",
       "   core type: ExprTuple\n",
       "   sub-expressions: 21, 22\n",
       "6. (B in BOOLEAN, not(not(FALSE) and not(B)))\n",
       "   core type: ExprTuple\n",
       "   sub-expressions: 7, 8\n",
       "7. B in BOOLEAN\n",
       "   core type: Operation\n",
       "   operator: 9\n",
       "   operands: 10\n",
       "8. not(not(FALSE) and not(B))\n",
       "   core type: Operation\n",
       "   operator: 19\n",
       "   operand: 13\n",
       "9. in\n",
       "   core type: Literal\n",
       "   sub-expressions: \n",
       "10. (B, BOOLEAN)\n",
       "    core type: ExprTuple\n",
       "    sub-expressions: 22, 12\n",
       "11. (not(FALSE) and not(B))\n",
       "    core type: ExprTuple\n",
       "    sub-expressions: 13\n",
       "12. BOOLEAN\n",
       "    core type: Literal\n",
       "    sub-expressions: \n",
       "13. not(FALSE) and not(B)\n",
       "    core type: Operation\n",
       "    operator: 14\n",
       "    operands: 15\n",
       "14. and\n",
       "    core type: Literal\n",
       "    sub-expressions: \n",
       "15. (not(FALSE), not(B))\n",
       "    core type: ExprTuple\n",
       "    sub-expressions: 16, 17\n",
       "16. not(FALSE)\n",
       "    core type: Operation\n",
       "    operator: 19\n",
       "    operand: 21\n",
       "17. not(B)\n",
       "    core type: Operation\n",
       "    operator: 19\n",
       "    operand: 22\n",
       "18. (FALSE)\n",
       "    core type: ExprTuple\n",
       "    sub-expressions: 21\n",
       "19. not\n",
       "    core type: Literal\n",
       "    sub-expressions: \n",
       "20. (B)\n",
       "    core type: ExprTuple\n",
       "    sub-expressions: 22\n",
       "21. FALSE\n",
       "    core type: Literal\n",
       "    sub-expressions: \n",
       "22. B\n",
       "    core type: Variable\n",
       "    sub-expressions: "
      ]
     },
     "execution_count": 6,
     "metadata": {},
     "output_type": "execute_result"
    }
   ],
   "source": [
    "# display the expression information\n",
    "expr.expr_info()"
   ]
  },
  {
   "cell_type": "code",
   "execution_count": null,
   "metadata": {},
   "outputs": [],
   "source": []
  }
 ],
 "metadata": {
  "kernelspec": {
   "display_name": "Python 3",
   "language": "python",
   "name": "python3"
  }
 },
 "nbformat": 4,
 "nbformat_minor": 0
}