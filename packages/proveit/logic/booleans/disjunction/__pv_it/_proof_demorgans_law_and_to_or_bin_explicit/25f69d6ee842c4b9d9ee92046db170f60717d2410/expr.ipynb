{
 "cells": [
  {
   "cell_type": "markdown",
   "metadata": {},
   "source": [
    "Expression of type <a class=\"ProveItLink\" href=\"../../../../../../../../doc/html/api/proveit.logic.Equals.html\">Equals</a>\n",
    "=======================\n",
    "# from the theory of <a class=\"ProveItLink\" href=\"../../../_theory_nbs_/theory.ipynb\">proveit.logic.booleans.disjunction</a>"
   ]
  },
  {
   "cell_type": "code",
   "execution_count": 1,
   "metadata": {},
   "outputs": [],
   "source": [
    "import proveit\n",
    "# Automation is not needed when building an expression:\n",
    "proveit.defaults.automation = False # This will speed things up.\n",
    "proveit.defaults.inline_pngs = False # Makes files smaller.\n",
    "%load_expr # Load the stored expression as 'stored_expr'\n",
    "# import Expression classes needed to build the expression\n",
    "from proveit import A, B, Conditional\n",
    "from proveit.logic import And, Boolean, Equals, InSet, Not, Or"
   ]
  },
  {
   "cell_type": "code",
   "execution_count": 2,
   "metadata": {},
   "outputs": [
    {
     "data": {
      "text/html": [
       "<strong id=\"expr\">expr:</strong> <a class=\"ProveItLink\" href=\"expr.ipynb\"><img src=\"expr.png\" style=\"display:inline;vertical-align:middle;\" /></a><br>"
      ],
      "text/plain": [
       "expr: {A or B if A in BOOLEAN ,  (B in BOOLEAN) and [not]([not](A) and [not](B)). = {A or B if A in BOOLEAN ,  B in BOOLEAN ,  [not]([not](A) and [not](B))."
      ]
     },
     "execution_count": 2,
     "metadata": {},
     "output_type": "execute_result"
    }
   ],
   "source": [
    "# build up the expression from sub-expressions\n",
    "sub_expr1 = Or(A, B)\n",
    "sub_expr2 = InSet(A, Boolean)\n",
    "sub_expr3 = InSet(B, Boolean)\n",
    "sub_expr4 = Not(And(Not(A), Not(B)))\n",
    "expr = Equals(Conditional(sub_expr1, And(sub_expr2, And(sub_expr3, sub_expr4))), Conditional(sub_expr1, And(sub_expr2, sub_expr3, sub_expr4)))"
   ]
  },
  {
   "cell_type": "code",
   "execution_count": 3,
   "metadata": {},
   "outputs": [
    {
     "name": "stdout",
     "output_type": "stream",
     "text": [
      "Passed sanity check: expr matches stored_expr\n"
     ]
    }
   ],
   "source": [
    "# check that the built expression is the same as the stored expression\n",
    "assert expr == stored_expr\n",
    "assert expr._style_id == stored_expr._style_id\n",
    "print(\"Passed sanity check: expr matches stored_expr\")"
   ]
  },
  {
   "cell_type": "code",
   "execution_count": 4,
   "metadata": {},
   "outputs": [
    {
     "name": "stdout",
     "output_type": "stream",
     "text": [
      "\\left\\{A \\lor B \\textrm{ if } A \\in \\mathbb{B} ,  \\left(B \\in \\mathbb{B}\\right) \\land (\\lnot \\left((\\lnot A) \\land (\\lnot B)\\right))\\right.. = \\left\\{A \\lor B \\textrm{ if } A \\in \\mathbb{B} ,  B \\in \\mathbb{B} ,  \\lnot \\left((\\lnot A) \\land (\\lnot B)\\right)\\right..\n"
     ]
    }
   ],
   "source": [
    "# Show the LaTeX representation of the expression for convenience if you need it.\n",
    "print(expr.latex())"
   ]
  },
  {
   "cell_type": "code",
   "execution_count": 5,
   "metadata": {},
   "outputs": [
    {
     "data": {
      "text/html": [
       "<table><tr><th>&nbsp;</th><th>core type</th><th>sub-expressions</th><th>expression</th></tr>\n",
       "<tr><td>0</td><td>Operation</td><td>operator:&nbsp;1<br>operands:&nbsp;2<br></td><td><a class=\"ProveItLink\" href=\"expr.ipynb\"><img src=\"expr.png\" style=\"display:inline;vertical-align:middle;\" /></a></td></tr>\n",
       "<tr><td>1</td><td>Literal</td><td></td><td><a class=\"ProveItLink\" href=\"../../../../../equality/__pv_it/common/fb96dc12b2aa8801dda64d0132b396c63d1502bb0/expr.ipynb\"><img src=\"../../../../../equality/__pv_it/common/fb96dc12b2aa8801dda64d0132b396c63d1502bb0/expr.png\" style=\"display:inline;vertical-align:middle;\" /></a></td></tr>\n",
       "<tr><td>2</td><td>ExprTuple</td><td>3, 4</td><td><a class=\"ProveItLink\" href=\"../5e8b91c2589324b4abdb185adadb9a4c429251aa0/expr.ipynb\"><img src=\"../5e8b91c2589324b4abdb185adadb9a4c429251aa0/expr.png\" style=\"display:inline;vertical-align:middle;\" /></a></td></tr>\n",
       "<tr><td>3</td><td>Conditional</td><td>value:&nbsp;6<br>condition:&nbsp;5<br></td><td><a class=\"ProveItLink\" href=\"../98b9781b4338dd7fd6a50d0a3da1af5e7db9523f0/expr.ipynb\"><img src=\"../98b9781b4338dd7fd6a50d0a3da1af5e7db9523f0/expr.png\" style=\"display:inline;vertical-align:middle;\" /></a></td></tr>\n",
       "<tr><td>4</td><td>Conditional</td><td>value:&nbsp;6<br>condition:&nbsp;7<br></td><td><a class=\"ProveItLink\" href=\"../../theorems/b0af5ccf62b3ab4c6607e39ac52672156d02c18e0/expr.ipynb\"><img src=\"../../theorems/b0af5ccf62b3ab4c6607e39ac52672156d02c18e0/expr.png\" style=\"display:inline;vertical-align:middle;\" /></a></td></tr>\n",
       "<tr><td>5</td><td>Operation</td><td>operator:&nbsp;22<br>operands:&nbsp;8<br></td><td><a class=\"ProveItLink\" href=\"../f44572437777254f8fc9ab1466b968d5628df6ad0/expr.ipynb\"><img src=\"../f44572437777254f8fc9ab1466b968d5628df6ad0/expr.png\" style=\"display:inline;vertical-align:middle;\" /></a></td></tr>\n",
       "<tr><td>6</td><td>Operation</td><td>operator:&nbsp;9<br>operands:&nbsp;10<br></td><td><a class=\"ProveItLink\" href=\"../../theorems/eed4b15619dee979ba3d430883847f7bf71847990/expr.ipynb\"><img src=\"../../theorems/eed4b15619dee979ba3d430883847f7bf71847990/expr.png\" style=\"display:inline;vertical-align:middle;\" /></a></td></tr>\n",
       "<tr><td>7</td><td>Operation</td><td>operator:&nbsp;22<br>operands:&nbsp;11<br></td><td><a class=\"ProveItLink\" href=\"../../theorems/64e399cf7c84f399ba3dd16acc5f547b88b49b730/expr.ipynb\"><img src=\"../../theorems/64e399cf7c84f399ba3dd16acc5f547b88b49b730/expr.png\" style=\"display:inline;vertical-align:middle;\" /></a></td></tr>\n",
       "<tr><td>8</td><td>ExprTuple</td><td>13, 12</td><td><a class=\"ProveItLink\" href=\"../12d62c49de8b2a926dddca69d32878fcf771c6330/expr.ipynb\"><img src=\"../12d62c49de8b2a926dddca69d32878fcf771c6330/expr.png\" style=\"display:inline;vertical-align:middle;\" /></a></td></tr>\n",
       "<tr><td>9</td><td>Literal</td><td></td><td><a class=\"ProveItLink\" href=\"../../common/ef8e59262ff8e0133aa1ca984dd6b3a41bf69d5b0/expr.ipynb\"><img src=\"../../common/ef8e59262ff8e0133aa1ca984dd6b3a41bf69d5b0/expr.png\" style=\"display:inline;vertical-align:middle;\" /></a></td></tr>\n",
       "<tr><td>10</td><td>ExprTuple</td><td>26, 28</td><td><a class=\"ProveItLink\" href=\"../../theorems/8168c562b942d2349bc15878d637d47dc90786870/expr.ipynb\"><img src=\"../../theorems/8168c562b942d2349bc15878d637d47dc90786870/expr.png\" style=\"display:inline;vertical-align:middle;\" /></a></td></tr>\n",
       "<tr><td>11</td><td>ExprTuple</td><td>13, 16, 17</td><td><a class=\"ProveItLink\" href=\"../../theorems/e4f5179c0b2eace52b2bd5a695c7af3d6366050d0/expr.ipynb\"><img src=\"../../theorems/e4f5179c0b2eace52b2bd5a695c7af3d6366050d0/expr.png\" style=\"display:inline;vertical-align:middle;\" /></a></td></tr>\n",
       "<tr><td>12</td><td>Operation</td><td>operator:&nbsp;22<br>operands:&nbsp;14<br></td><td><a class=\"ProveItLink\" href=\"../397c3d33796412a21e367e651762dcddc7da49bf0/expr.ipynb\"><img src=\"../397c3d33796412a21e367e651762dcddc7da49bf0/expr.png\" style=\"display:inline;vertical-align:middle;\" /></a></td></tr>\n",
       "<tr><td>13</td><td>Operation</td><td>operator:&nbsp;18<br>operands:&nbsp;15<br></td><td><a class=\"ProveItLink\" href=\"../../theorems/414e2da7a309b8ea0e77405db0c64f7feb9fa17e0/expr.ipynb\"><img src=\"../../theorems/414e2da7a309b8ea0e77405db0c64f7feb9fa17e0/expr.png\" style=\"display:inline;vertical-align:middle;\" /></a></td></tr>\n",
       "<tr><td>14</td><td>ExprTuple</td><td>16, 17</td><td><a class=\"ProveItLink\" href=\"../d649cbdf38a48c000beb6a254ce1bec1a531ee720/expr.ipynb\"><img src=\"../d649cbdf38a48c000beb6a254ce1bec1a531ee720/expr.png\" style=\"display:inline;vertical-align:middle;\" /></a></td></tr>\n",
       "<tr><td>15</td><td>ExprTuple</td><td>26, 21</td><td><a class=\"ProveItLink\" href=\"../../theorems/71e21f013283363ece441aa9c43e819052d454d00/expr.ipynb\"><img src=\"../../theorems/71e21f013283363ece441aa9c43e819052d454d00/expr.png\" style=\"display:inline;vertical-align:middle;\" /></a></td></tr>\n",
       "<tr><td>16</td><td>Operation</td><td>operator:&nbsp;18<br>operands:&nbsp;19<br></td><td><a class=\"ProveItLink\" href=\"../../theorems/6b89b43e4cbb2b2a7f36bef7320ec444c4840e0e0/expr.ipynb\"><img src=\"../../theorems/6b89b43e4cbb2b2a7f36bef7320ec444c4840e0e0/expr.png\" style=\"display:inline;vertical-align:middle;\" /></a></td></tr>\n",
       "<tr><td>17</td><td>Operation</td><td>operator:&nbsp;27<br>operand:&nbsp;20<br></td><td><a class=\"ProveItLink\" href=\"../../theorems/45c9996fc5107fee5de16d485dbeeb697d1008920/expr.ipynb\"><img src=\"../../theorems/45c9996fc5107fee5de16d485dbeeb697d1008920/expr.png\" style=\"display:inline;vertical-align:middle;\" /></a></td></tr>\n",
       "<tr><td>18</td><td>Literal</td><td></td><td><a class=\"ProveItLink\" href=\"../../../../../sets/membership/__pv_it/common/477487d8796864d23d5810f83761435f25167f690/expr.ipynb\"><img src=\"../../../../../sets/membership/__pv_it/common/477487d8796864d23d5810f83761435f25167f690/expr.png\" style=\"display:inline;vertical-align:middle;\" /></a></td></tr>\n",
       "<tr><td>19</td><td>ExprTuple</td><td>28, 21</td><td><a class=\"ProveItLink\" href=\"../../theorems/b193ebcd6b21c9b60c917b2f2b0404fb0b4261ba0/expr.ipynb\"><img src=\"../../theorems/b193ebcd6b21c9b60c917b2f2b0404fb0b4261ba0/expr.png\" style=\"display:inline;vertical-align:middle;\" /></a></td></tr>\n",
       "<tr><td>20</td><td>Operation</td><td>operator:&nbsp;22<br>operands:&nbsp;23<br></td><td><a class=\"ProveItLink\" href=\"../../theorems/a0a9141866372df520459dd9cf704aedf04929bc0/expr.ipynb\"><img src=\"../../theorems/a0a9141866372df520459dd9cf704aedf04929bc0/expr.png\" style=\"display:inline;vertical-align:middle;\" /></a></td></tr>\n",
       "<tr><td>21</td><td>Literal</td><td></td><td><a class=\"ProveItLink\" href=\"../../../../__pv_it/common/97424376de9815ad99f7180e3191b1cf4ab2a5710/expr.ipynb\"><img src=\"../../../../__pv_it/common/97424376de9815ad99f7180e3191b1cf4ab2a5710/expr.png\" style=\"display:inline;vertical-align:middle;\" /></a></td></tr>\n",
       "<tr><td>22</td><td>Literal</td><td></td><td><a class=\"ProveItLink\" href=\"../../../../conjunction/__pv_it/common/42118ff318bd65d98b1393f64ce7c2269feef76e0/expr.ipynb\"><img src=\"../../../../conjunction/__pv_it/common/42118ff318bd65d98b1393f64ce7c2269feef76e0/expr.png\" style=\"display:inline;vertical-align:middle;\" /></a></td></tr>\n",
       "<tr><td>23</td><td>ExprTuple</td><td>24, 25</td><td><a class=\"ProveItLink\" href=\"../../theorems/918dfe1780874791518d2a68f7e9fcd3140fd6f30/expr.ipynb\"><img src=\"../../theorems/918dfe1780874791518d2a68f7e9fcd3140fd6f30/expr.png\" style=\"display:inline;vertical-align:middle;\" /></a></td></tr>\n",
       "<tr><td>24</td><td>Operation</td><td>operator:&nbsp;27<br>operand:&nbsp;26<br></td><td><a class=\"ProveItLink\" href=\"../../theorems/2603b54e7854a5f2d3dc1b13a443addf6e3a79180/expr.ipynb\"><img src=\"../../theorems/2603b54e7854a5f2d3dc1b13a443addf6e3a79180/expr.png\" style=\"display:inline;vertical-align:middle;\" /></a></td></tr>\n",
       "<tr><td>25</td><td>Operation</td><td>operator:&nbsp;27<br>operand:&nbsp;28<br></td><td><a class=\"ProveItLink\" href=\"../../theorems/303f482d5bc18658cf260ef56d927698c7912bf90/expr.ipynb\"><img src=\"../../theorems/303f482d5bc18658cf260ef56d927698c7912bf90/expr.png\" style=\"display:inline;vertical-align:middle;\" /></a></td></tr>\n",
       "<tr><td>26</td><td>Variable</td><td></td><td><a class=\"ProveItLink\" href=\"../../../../../../__pv_it/common/09585084922504426caf1db2ff588a23a0932a960/expr.ipynb\"><img src=\"../../../../../../__pv_it/common/09585084922504426caf1db2ff588a23a0932a960/expr.png\" style=\"display:inline;vertical-align:middle;\" /></a></td></tr>\n",
       "<tr><td>27</td><td>Literal</td><td></td><td><a class=\"ProveItLink\" href=\"../../../../negation/__pv_it/common/1a811a997e5d75fdb50cdaf74f302daccad39af40/expr.ipynb\"><img src=\"../../../../negation/__pv_it/common/1a811a997e5d75fdb50cdaf74f302daccad39af40/expr.png\" style=\"display:inline;vertical-align:middle;\" /></a></td></tr>\n",
       "<tr><td>28</td><td>Variable</td><td></td><td><a class=\"ProveItLink\" href=\"../../../../../../__pv_it/common/a9162d1c3cc0470c02e5daf414500903a7a419230/expr.ipynb\"><img src=\"../../../../../../__pv_it/common/a9162d1c3cc0470c02e5daf414500903a7a419230/expr.png\" style=\"display:inline;vertical-align:middle;\" /></a></td></tr>\n",
       "</table>\n"
      ],
      "text/plain": [
       "0. {A or B if A in BOOLEAN ,  (B in BOOLEAN) and [not]([not](A) and [not](B)). = {A or B if A in BOOLEAN ,  B in BOOLEAN ,  [not]([not](A) and [not](B)).\n",
       "   core type: Operation\n",
       "   operator: 1\n",
       "   operands: 2\n",
       "1. =\n",
       "   core type: Literal\n",
       "   sub-expressions: \n",
       "2. (A or B if A in BOOLEAN ,  (B in BOOLEAN) and [not]([not](A) and [not](B)), A or B if A in BOOLEAN ,  B in BOOLEAN ,  [not]([not](A) and [not](B)))\n",
       "   core type: ExprTuple\n",
       "   sub-expressions: 3, 4\n",
       "3. {A or B if A in BOOLEAN ,  (B in BOOLEAN) and [not]([not](A) and [not](B)).\n",
       "   core type: Conditional\n",
       "   value: 6\n",
       "   condition: 5\n",
       "4. {A or B if A in BOOLEAN ,  B in BOOLEAN ,  [not]([not](A) and [not](B)).\n",
       "   core type: Conditional\n",
       "   value: 6\n",
       "   condition: 7\n",
       "5. (A in BOOLEAN) and ((B in BOOLEAN) and [not]([not](A) and [not](B)))\n",
       "   core type: Operation\n",
       "   operator: 22\n",
       "   operands: 8\n",
       "6. A or B\n",
       "   core type: Operation\n",
       "   operator: 9\n",
       "   operands: 10\n",
       "7. (A in BOOLEAN) and (B in BOOLEAN) and [not]([not](A) and [not](B))\n",
       "   core type: Operation\n",
       "   operator: 22\n",
       "   operands: 11\n",
       "8. (A in BOOLEAN, (B in BOOLEAN) and [not]([not](A) and [not](B)))\n",
       "   core type: ExprTuple\n",
       "   sub-expressions: 13, 12\n",
       "9. or\n",
       "   core type: Literal\n",
       "   sub-expressions: \n",
       "10. (A, B)\n",
       "    core type: ExprTuple\n",
       "    sub-expressions: 26, 28\n",
       "11. (A in BOOLEAN, B in BOOLEAN, [not]([not](A) and [not](B)))\n",
       "    core type: ExprTuple\n",
       "    sub-expressions: 13, 16, 17\n",
       "12. (B in BOOLEAN) and [not]([not](A) and [not](B))\n",
       "    core type: Operation\n",
       "    operator: 22\n",
       "    operands: 14\n",
       "13. A in BOOLEAN\n",
       "    core type: Operation\n",
       "    operator: 18\n",
       "    operands: 15\n",
       "14. (B in BOOLEAN, [not]([not](A) and [not](B)))\n",
       "    core type: ExprTuple\n",
       "    sub-expressions: 16, 17\n",
       "15. (A, BOOLEAN)\n",
       "    core type: ExprTuple\n",
       "    sub-expressions: 26, 21\n",
       "16. B in BOOLEAN\n",
       "    core type: Operation\n",
       "    operator: 18\n",
       "    operands: 19\n",
       "17. [not]([not](A) and [not](B))\n",
       "    core type: Operation\n",
       "    operator: 27\n",
       "    operand: 20\n",
       "18. in\n",
       "    core type: Literal\n",
       "    sub-expressions: \n",
       "19. (B, BOOLEAN)\n",
       "    core type: ExprTuple\n",
       "    sub-expressions: 28, 21\n",
       "20. [not](A) and [not](B)\n",
       "    core type: Operation\n",
       "    operator: 22\n",
       "    operands: 23\n",
       "21. BOOLEAN\n",
       "    core type: Literal\n",
       "    sub-expressions: \n",
       "22. and\n",
       "    core type: Literal\n",
       "    sub-expressions: \n",
       "23. ([not](A), [not](B))\n",
       "    core type: ExprTuple\n",
       "    sub-expressions: 24, 25\n",
       "24. [not](A)\n",
       "    core type: Operation\n",
       "    operator: 27\n",
       "    operand: 26\n",
       "25. [not](B)\n",
       "    core type: Operation\n",
       "    operator: 27\n",
       "    operand: 28\n",
       "26. A\n",
       "    core type: Variable\n",
       "    sub-expressions: \n",
       "27. not\n",
       "    core type: Literal\n",
       "    sub-expressions: \n",
       "28. B\n",
       "    core type: Variable\n",
       "    sub-expressions: "
      ]
     },
     "execution_count": 5,
     "metadata": {},
     "output_type": "execute_result"
    }
   ],
   "source": [
    "# display the expression information\n",
    "expr.expr_info()"
   ]
  },
  {
   "cell_type": "code",
   "execution_count": null,
   "metadata": {},
   "outputs": [],
   "source": []
  }
 ],
 "metadata": {
  "kernelspec": {
   "display_name": "Python 3",
   "language": "python",
   "name": "python3"
  }
 },
 "nbformat": 4,
 "nbformat_minor": 0
}