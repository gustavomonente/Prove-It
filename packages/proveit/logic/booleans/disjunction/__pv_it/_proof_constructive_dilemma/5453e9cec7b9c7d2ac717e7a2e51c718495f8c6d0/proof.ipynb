{
 "cells": [
  {
   "cell_type": "markdown",
   "metadata": {},
   "source": [
    "Show the Proof\n",
    "========"
   ]
  },
  {
   "cell_type": "code",
   "execution_count": 1,
   "metadata": {},
   "outputs": [
    {
     "data": {
      "text/html": [
       "<table><tr><th>&nbsp;</th><th>step type</th><th>requirements</th><th>statement</th></tr>\n",
       "<tr><td><a name=\"proveit.logic.booleans.disjunction._proof_constructive_dilemma.5453e9cec7b9c7d2ac717e7a2e51c718495f8c6d0_step0\">0</a></td><td>deduction</td><td><a href=\"#proveit.logic.booleans.disjunction._proof_constructive_dilemma.5453e9cec7b9c7d2ac717e7a2e51c718495f8c6d0_step1\">1</a></td><td><span style=\"font-size:20px;\"><a class=\"ProveItLink\" href=\"../../theorems/b59e86c72b4502a600c4eac6a03d74436cb1fea40/expr.ipynb\"><img src=\"../../theorems/b59e86c72b4502a600c4eac6a03d74436cb1fea40/expr.png\" style=\"display:inline;vertical-align:middle;\" /></a>, <a class=\"ProveItLink\" href=\"../../theorems/af75d7a88b426fc518b410470e1d3e96fbdd11d60/expr.ipynb\"><img src=\"../../theorems/af75d7a88b426fc518b410470e1d3e96fbdd11d60/expr.png\" style=\"display:inline;vertical-align:middle;\" /></a>, <a class=\"ProveItLink\" href=\"../../theorems/4f9b7325d954af88465c365611fbf7b210ae09a70/expr.ipynb\"><img src=\"../../theorems/4f9b7325d954af88465c365611fbf7b210ae09a70/expr.png\" style=\"display:inline;vertical-align:middle;\" /></a> <a class=\"ProveItLink\" href=\"proof.ipynb\" style=\"text-decoration: none\">&nbsp;&#x22A2;&nbsp;&nbsp;</a><a class=\"ProveItLink\" href=\"../48661e1710e63bc9f5733dd91d4e4c1b8a28c9480/expr.ipynb\"><img src=\"../48661e1710e63bc9f5733dd91d4e4c1b8a28c9480/expr.png\" style=\"display:inline;vertical-align:middle;\" /></a></span></td></tr>\n",
       "<tr><td><a name=\"proveit.logic.booleans.disjunction._proof_constructive_dilemma.5453e9cec7b9c7d2ac717e7a2e51c718495f8c6d0_step1\">1</a></td><td>instantiation</td><td><a href=\"#proveit.logic.booleans.disjunction._proof_constructive_dilemma.5453e9cec7b9c7d2ac717e7a2e51c718495f8c6d0_step2\">2</a>, <a href=\"#proveit.logic.booleans.disjunction._proof_constructive_dilemma.5453e9cec7b9c7d2ac717e7a2e51c718495f8c6d0_step3\">3</a>, <a href=\"#proveit.logic.booleans.disjunction._proof_constructive_dilemma.5453e9cec7b9c7d2ac717e7a2e51c718495f8c6d0_step4\">4</a>, <a href=\"#proveit.logic.booleans.disjunction._proof_constructive_dilemma.5453e9cec7b9c7d2ac717e7a2e51c718495f8c6d0_step5\">5</a></td><td><span style=\"font-size:20px;\"><a class=\"ProveItLink\" href=\"../../theorems/b59e86c72b4502a600c4eac6a03d74436cb1fea40/expr.ipynb\"><img src=\"../../theorems/b59e86c72b4502a600c4eac6a03d74436cb1fea40/expr.png\" style=\"display:inline;vertical-align:middle;\" /></a>, <a class=\"ProveItLink\" href=\"../../theorems/af75d7a88b426fc518b410470e1d3e96fbdd11d60/expr.ipynb\"><img src=\"../../theorems/af75d7a88b426fc518b410470e1d3e96fbdd11d60/expr.png\" style=\"display:inline;vertical-align:middle;\" /></a>, <a class=\"ProveItLink\" href=\"../../theorems/4f9b7325d954af88465c365611fbf7b210ae09a70/expr.ipynb\"><img src=\"../../theorems/4f9b7325d954af88465c365611fbf7b210ae09a70/expr.png\" style=\"display:inline;vertical-align:middle;\" /></a>, <a class=\"ProveItLink\" href=\"../../../../../../__pv_it/common/09585084922504426caf1db2ff588a23a0932a960/expr.ipynb\"><img src=\"../../../../../../__pv_it/common/09585084922504426caf1db2ff588a23a0932a960/expr.png\" style=\"display:inline;vertical-align:middle;\" /></a> <a class=\"ProveItLink\" href=\"../c4a93becc231e7e12e04b083ebf9ee29ba26f6770/proof.ipynb\" style=\"text-decoration: none\">&nbsp;&#x22A2;&nbsp;&nbsp;</a><a class=\"ProveItLink\" href=\"../../theorems/22e998c8f2d48683678fb0f864fcf10db567a1b60/expr.ipynb\"><img src=\"../../theorems/22e998c8f2d48683678fb0f864fcf10db567a1b60/expr.png\" style=\"display:inline;vertical-align:middle;\" /></a></span></td></tr>\n",
       "<tr><td>&nbsp;</td><td colspan=4 style=\"text-align:left\"><span style=\"font-size:20px;\"><a class=\"ProveItLink\" href=\"../../../../../../__pv_it/common/09585084922504426caf1db2ff588a23a0932a960/expr.ipynb\"><img src=\"../../../../../../__pv_it/common/09585084922504426caf1db2ff588a23a0932a960/expr.png\" style=\"display:inline;vertical-align:middle;\" /></a> : <a class=\"ProveItLink\" href=\"../../../../../../__pv_it/common/9fba9f29e823606ff4fdf2f1c6d5d08d906e850a0/expr.ipynb\"><img src=\"../../../../../../__pv_it/common/9fba9f29e823606ff4fdf2f1c6d5d08d906e850a0/expr.png\" style=\"display:inline;vertical-align:middle;\" /></a>, <a class=\"ProveItLink\" href=\"../../../../../../__pv_it/common/a9162d1c3cc0470c02e5daf414500903a7a419230/expr.ipynb\"><img src=\"../../../../../../__pv_it/common/a9162d1c3cc0470c02e5daf414500903a7a419230/expr.png\" style=\"display:inline;vertical-align:middle;\" /></a> : <a class=\"ProveItLink\" href=\"../../../../../../__pv_it/common/8d36d28f3636cdaa66f8b7d56eb3bbf0b50f70200/expr.ipynb\"><img src=\"../../../../../../__pv_it/common/8d36d28f3636cdaa66f8b7d56eb3bbf0b50f70200/expr.png\" style=\"display:inline;vertical-align:middle;\" /></a></span></td></tr><tr><td><a name=\"proveit.logic.booleans.disjunction._proof_constructive_dilemma.5453e9cec7b9c7d2ac717e7a2e51c718495f8c6d0_step2\">2</a></td><td>theorem</td><td></td><td><span style=\"font-size:20px;\"> <a class=\"ProveItLink\" href=\"../../../_theory_nbs_/proofs/or_if_left/thm_proof.ipynb\" style=\"text-decoration: none\">&nbsp;&#x22A2;&nbsp;&nbsp;</a><a class=\"ProveItLink\" href=\"../../theorems/1fa7fd61ab35615f69abea2661041db90c8373dd0/expr.ipynb\"><img src=\"../../theorems/1fa7fd61ab35615f69abea2661041db90c8373dd0/expr.png\" style=\"display:inline;vertical-align:middle;\" /></a></span></td></tr>\n",
       "<tr><td>&nbsp;</td><td colspan=4 style-\"text-align:left\"><a class=\"ProveItLink\" href=\"../../../_theory_nbs_/proofs/or_if_left/thm_proof.ipynb\">proveit.logic.booleans.disjunction.or_if_left</a></td></tr><tr><td><a name=\"proveit.logic.booleans.disjunction._proof_constructive_dilemma.5453e9cec7b9c7d2ac717e7a2e51c718495f8c6d0_step3\">3</a></td><td>assumption</td><td></td><td><span style=\"font-size:20px;\"><a class=\"ProveItLink\" href=\"../../theorems/b59e86c72b4502a600c4eac6a03d74436cb1fea40/expr.ipynb\"><img src=\"../../theorems/b59e86c72b4502a600c4eac6a03d74436cb1fea40/expr.png\" style=\"display:inline;vertical-align:middle;\" /></a> <a class=\"ProveItLink\" href=\"../9890963db93c0b425d5a4413b18349da73cb8e100/proof.ipynb\" style=\"text-decoration: none\">&nbsp;&#x22A2;&nbsp;&nbsp;</a><a class=\"ProveItLink\" href=\"../../theorems/b59e86c72b4502a600c4eac6a03d74436cb1fea40/expr.ipynb\"><img src=\"../../theorems/b59e86c72b4502a600c4eac6a03d74436cb1fea40/expr.png\" style=\"display:inline;vertical-align:middle;\" /></a></span></td></tr>\n",
       "<tr><td><a name=\"proveit.logic.booleans.disjunction._proof_constructive_dilemma.5453e9cec7b9c7d2ac717e7a2e51c718495f8c6d0_step4\">4</a></td><td>assumption</td><td></td><td><span style=\"font-size:20px;\"><a class=\"ProveItLink\" href=\"../../theorems/af75d7a88b426fc518b410470e1d3e96fbdd11d60/expr.ipynb\"><img src=\"../../theorems/af75d7a88b426fc518b410470e1d3e96fbdd11d60/expr.png\" style=\"display:inline;vertical-align:middle;\" /></a> <a class=\"ProveItLink\" href=\"../4d1d0a955049be154cfa960c54e032b968191eb80/proof.ipynb\" style=\"text-decoration: none\">&nbsp;&#x22A2;&nbsp;&nbsp;</a><a class=\"ProveItLink\" href=\"../../theorems/af75d7a88b426fc518b410470e1d3e96fbdd11d60/expr.ipynb\"><img src=\"../../theorems/af75d7a88b426fc518b410470e1d3e96fbdd11d60/expr.png\" style=\"display:inline;vertical-align:middle;\" /></a></span></td></tr>\n",
       "<tr><td><a name=\"proveit.logic.booleans.disjunction._proof_constructive_dilemma.5453e9cec7b9c7d2ac717e7a2e51c718495f8c6d0_step5\">5</a></td><td>modus ponens</td><td><a href=\"#proveit.logic.booleans.disjunction._proof_constructive_dilemma.5453e9cec7b9c7d2ac717e7a2e51c718495f8c6d0_step6\">6</a>, <a href=\"#proveit.logic.booleans.disjunction._proof_constructive_dilemma.5453e9cec7b9c7d2ac717e7a2e51c718495f8c6d0_step7\">7</a></td><td><span style=\"font-size:20px;\"><a class=\"ProveItLink\" href=\"../../theorems/4f9b7325d954af88465c365611fbf7b210ae09a70/expr.ipynb\"><img src=\"../../theorems/4f9b7325d954af88465c365611fbf7b210ae09a70/expr.png\" style=\"display:inline;vertical-align:middle;\" /></a>, <a class=\"ProveItLink\" href=\"../../../../../../__pv_it/common/09585084922504426caf1db2ff588a23a0932a960/expr.ipynb\"><img src=\"../../../../../../__pv_it/common/09585084922504426caf1db2ff588a23a0932a960/expr.png\" style=\"display:inline;vertical-align:middle;\" /></a> <a class=\"ProveItLink\" href=\"../d6d5b5d556412ab89a4087b29aa64941a8f275690/proof.ipynb\" style=\"text-decoration: none\">&nbsp;&#x22A2;&nbsp;&nbsp;</a><a class=\"ProveItLink\" href=\"../../../../../../__pv_it/common/9fba9f29e823606ff4fdf2f1c6d5d08d906e850a0/expr.ipynb\"><img src=\"../../../../../../__pv_it/common/9fba9f29e823606ff4fdf2f1c6d5d08d906e850a0/expr.png\" style=\"display:inline;vertical-align:middle;\" /></a></span></td></tr>\n",
       "<tr><td><a name=\"proveit.logic.booleans.disjunction._proof_constructive_dilemma.5453e9cec7b9c7d2ac717e7a2e51c718495f8c6d0_step6\">6</a></td><td>assumption</td><td></td><td><span style=\"font-size:20px;\"><a class=\"ProveItLink\" href=\"../../theorems/4f9b7325d954af88465c365611fbf7b210ae09a70/expr.ipynb\"><img src=\"../../theorems/4f9b7325d954af88465c365611fbf7b210ae09a70/expr.png\" style=\"display:inline;vertical-align:middle;\" /></a> <a class=\"ProveItLink\" href=\"../8d606386136c8f378366fac2edd56dc0edcc15dd0/proof.ipynb\" style=\"text-decoration: none\">&nbsp;&#x22A2;&nbsp;&nbsp;</a><a class=\"ProveItLink\" href=\"../../theorems/4f9b7325d954af88465c365611fbf7b210ae09a70/expr.ipynb\"><img src=\"../../theorems/4f9b7325d954af88465c365611fbf7b210ae09a70/expr.png\" style=\"display:inline;vertical-align:middle;\" /></a></span></td></tr>\n",
       "<tr><td><a name=\"proveit.logic.booleans.disjunction._proof_constructive_dilemma.5453e9cec7b9c7d2ac717e7a2e51c718495f8c6d0_step7\">7</a></td><td>assumption</td><td></td><td><span style=\"font-size:20px;\"><a class=\"ProveItLink\" href=\"../../../../../../__pv_it/common/09585084922504426caf1db2ff588a23a0932a960/expr.ipynb\"><img src=\"../../../../../../__pv_it/common/09585084922504426caf1db2ff588a23a0932a960/expr.png\" style=\"display:inline;vertical-align:middle;\" /></a> <a class=\"ProveItLink\" href=\"../20b7eda420dd18b82917d5b2814aed1ac49439ac0/proof.ipynb\" style=\"text-decoration: none\">&nbsp;&#x22A2;&nbsp;&nbsp;</a><a class=\"ProveItLink\" href=\"../../../../../../__pv_it/common/09585084922504426caf1db2ff588a23a0932a960/expr.ipynb\"><img src=\"../../../../../../__pv_it/common/09585084922504426caf1db2ff588a23a0932a960/expr.png\" style=\"display:inline;vertical-align:middle;\" /></a></span></td></tr>\n",
       "</table>"
      ],
      "text/plain": [
       "<proveit._core_.proof._ShowProof at 0x7fca2007ecf8>"
      ]
     },
     "execution_count": 1,
     "metadata": {},
     "output_type": "execute_result"
    }
   ],
   "source": [
    "import proveit\n",
    "# Automation is not needed when only showing a stored proof:\n",
    "proveit.defaults.automation = False # This will speed things up.\n",
    "proveit.defaults.inline_pngs = False # Makes files smaller.\n",
    "%show_proof"
   ]
  },
  {
   "cell_type": "code",
   "execution_count": null,
   "metadata": {},
   "outputs": [],
   "source": []
  }
 ],
 "metadata": {
  "kernelspec": {
   "display_name": "Python 3",
   "language": "python",
   "name": "python3"
  }
 },
 "nbformat": 4,
 "nbformat_minor": 0
}