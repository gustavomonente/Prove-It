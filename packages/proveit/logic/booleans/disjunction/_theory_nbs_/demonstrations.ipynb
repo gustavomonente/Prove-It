{
 "cells": [
  {
   "cell_type": "markdown",
   "metadata": {},
   "source": [
    "Demonstrations for the theory of <a class=\"ProveItLink\" href=\"theory.ipynb\">proveit.logic.booleans.disjunction</a>\n",
    "========"
   ]
  },
  {
   "cell_type": "code",
   "execution_count": 1,
   "metadata": {},
   "outputs": [],
   "source": [
    "import proveit\n",
    "from proveit import defaults\n",
    "from proveit import A, B, C, D, E,F,G,H,I,J,K,L, m\n",
    "from proveit.numbers import num, NaturalPos\n",
    "from proveit.logic import Boolean, in_bool, InSet, Or, And, TRUE, FALSE, Not, Implies, Equals\n",
    "from proveit.logic.booleans.disjunction import closure, each_is_bool\n",
    "%begin demonstrations"
   ]
  },
  {
   "cell_type": "code",
   "execution_count": 2,
   "metadata": {},
   "outputs": [
    {
     "data": {
      "text/html": [
       "<span style=\"font-size:20px;\"> <a class=\"ProveItLink\" href=\"proofs/closure/thm_proof.ipynb\" style=\"text-decoration: none\">&nbsp;&#x22A2;&nbsp;&nbsp;</a><a class=\"ProveItLink\" href=\"../__pv_it/theorems/198827e1a2dfd95fcbe87ff0c21e62861d317e7a0/expr.ipynb\"><img src=\"data:image/png;base64,iVBORw0KGgoAAAANSUhEUgAAAYoAAAAVBAMAAACqF7QBAAAAMFBMVEX///8QEBCIiIhmZma6urrM\n",
       "zMxUVFQiIiJERETc3Nzu7u6qqqp2dnaYmJgyMjIAAAAcRTyBAAAAAXRSTlMAQObYZgAABQ1JREFU\n",
       "WMO1V2+IVFUUP/tm3sy8mfd290NJFi2PtdQv1dCEC7qLI1KCIMzuh7XQdLCklKAJzcLEBiGcVWrm\n",
       "S7ps5E5/aG2kbWiJkpSGVsFWhcFNsLBtau1DftAtLf+A2rnn3vf/jauzdeC8d9959913fvf8vQB3\n",
       "QNKFFDROSpXzzOigvzhWAJjYDDU2/vn2K6jJZnbTGlNlv2CkNXf3pVyzxqGC8928+/K/bkkCbMDx\n",
       "ETjOROenQ6GW8dZcbAjFH4KRLloK0tVr4pT1En84Zb2I1lwzaz3RXV0Aw4Sin9k8Ox0KmtHfEAgt\n",
       "zpkNL5r7EGLqarpn9np2OSUeJq7b3nznmpldAQ9HUDedoWAbTDt9WxRkreMNoQgXOCMdWGy6hZxm\n",
       "r7zG7WWXrWL7R67Z3nwgNmXna9sNFN8gimgrQ6GNlUp7YVoUZ0ulTzMNodgrGKn6WNLhZ0u9s5sR\n",
       "ZzAuFJYu29/Qt/KOomWLIyzczjEUcDWX2+avux1FSy63s9IQijmCUbvit1Z+GEHu88k5iCAiLLY8\n",
       "dsOuDmEbLloeFXyV+d8ooVjvuxpSwI4C/ZgvHin4zfWXEr0tGOBjWItOLPMgDJsjJ6HBnxYOlZT/\n",
       "sscXhfcGKy6WvPknM88EoVjqDX8fFGjlYRr/kvSb65Jqv01uMmLtDcEASRiMg5zgjinpEPJbqh3g\n",
       "eT4KgnLJbiX6LmuP7pNn8f4VoQiD5KoDKzuT0iwXCtyjR2iDFvsVDYf0wGgX6JX3vxSP9wgG+bnE\n",
       "y6hEkKOIZsS2uGjI3NTexIKr9uLB0q7cdgHJQBEJ4m/XEgq1GrbrcyhRjWXHYKGa6EgssqE4CfR3\n",
       "dSjuF0I2qbZ7oAi6rn7mRhEEaKqZKGCRf84LlI2MiT9tc6NQHLaIQNpAodR6bXPPHCxB7FQAKm5b\n",
       "7KPcCD0RP2e2Synx6PqK790ehcqFWy0U+8A35yk1sakx5FcAxk+3x9tZFPPvWu0oQqzzWEYooA/9\n",
       "UOvqmSPNTfEkF1v1jO5BEdlDXpwO4GIb3b8mqVFTCUWiLeWKbqXMi7GBIvKs7huOb4ma9x6v9T88\n",
       "CLOKc83oftxhC61iRDeM4LLakmrTRikN1C/FUmOnPShiHeQuZWkKVt/vLs9MarhknNsi8K4QjApm\n",
       "NSNyzUIhv0BJM3oTL5/XxICFA695CpuWLygfZuAydDJXo0QfNgt0bTWcWID3To6iBfdkYB60JHHe\n",
       "RxyFypKzEwVQ1hvuPHbdrK0mcalQ7vVcbgeLC0kIlnHef+s8xPJX4iYKmOS3LUy3tBiw6kbbEM3f\n",
       "LMLXtzZBSJdbySObybjRF5c7u0H4naPQ2J6sg26Gc2Uul9NjKaWasXoygeInNloIyt9eFCQdPzy+\n",
       "6ijzLm4LNeDtQHgCNVAM1GnknW1JU0rKKlMplrz458dEB2LYPsNREN0L82FQxnghW8CTuqsDEUtg\n",
       "ZrtBKPqLyi664I1Lv6g1lQ/hnKOEoqKe8HaDtrx/xzSI1tCyFW83aOimWyiUKbTGGRVUajWToFV8\n",
       "UeSz0H+lylB0l+XZ0F2QZ8sPCGkoNQRPMN9Hz9W2Tb5jVpA+R6+hdPyj3w2Kp7C1Ul4q1ivNojMX\n",
       "m5zG9mzPGMBu5sXnhF94UAjayvOmlRF5SzECGSadj3FR55Q0A6rX4/TZUFiHU4wL74l1u+M403Op\n",
       "TCdF51HyE3gI1hX+txPrj3VOL/jHRzc3uqhmjmas339A/wJAvWELn9TFzwAAAABJRU5ErkJggg==\n",
       "\" style=\"display:inline;vertical-align:middle;\" /></a></span>"
      ],
      "text/plain": [
       "|- forall_{m in NaturalPos} [forall_{A_{1}, ..A_{_a}.., A_{m} in BOOLEAN} ((A_{1} or ..A_{_a}.. or A_{m}) in BOOLEAN)]"
      ]
     },
     "execution_count": 2,
     "metadata": {},
     "output_type": "execute_result"
    }
   ],
   "source": [
    "closure"
   ]
  },
  {
   "cell_type": "code",
   "execution_count": 3,
   "metadata": {},
   "outputs": [
    {
     "data": {
      "text/html": [
       "<strong id=\"closure_spec\">closure_spec:</strong> <span style=\"font-size:20px;\"><a class=\"ProveItLink\" href=\"../__pv_it/theorems/6b3ff92246828fbfb97988abc8ee79a02ac1c4480/expr.ipynb\"><img src=\"data:image/png;base64,iVBORw0KGgoAAAANSUhEUgAAAEYAAAAUBAMAAADCRlZLAAAAMFBMVEX///9mZmaYmJgyMjIiIiIQ\n",
       "EBCqqqru7u5ERETMzMyIiIjc3NxUVFR2dna6uroAAAAPJcEmAAAAAXRSTlMAQObYZgAAAQpJREFU\n",
       "KM9jYKACOECEmgZaq2G37zBn4I2Pw2sOh8IcBoZ6Bh5j42BjIxxqeDy5FjCwYreLqcXFGazmRcFJ\n",
       "Bhasaji7CqDm7DxQXABXw3dn96pTnLfOgaWKC2B2bcjiPABXw8vRxVC/jiEVLHUa7p4NvA+04Gqm\n",
       "sRgw7L/AoI8aGDwbGI7zTAGxNgBxQf0DhvwChhNg5wQbAwFUTQ2DKdyd+QwMIgwMUSAmN7I5nBem\n",
       "wtUIMzD4MvD9ZgexA5DUMKhxwNXEMrD/Y2A02AZiS8HVTAD6ZgeMx/2Pge0DA/OFCyAOSwJUlDkB\n",
       "YgME8DkwcAkwsAltAMflieeQsPSPAIUW9njiuwGJCxQAADImPXnmmVDHAAAAAElFTkSuQmCC\n",
       "\" style=\"display:inline;vertical-align:middle;\" /></a> <a class=\"ProveItLink\" href=\"../__pv_it/demonstrations/761f8c62b447d55285b03105cf0a2f72a523fa3e0/proof.ipynb\" style=\"text-decoration: none\">&nbsp;&#x22A2;&nbsp;&nbsp;</a><a class=\"ProveItLink\" href=\"../__pv_it/theorems/76cf53ec728b75509c1ef186c66fa0260428f58a0/expr.ipynb\"><img src=\"data:image/png;base64,iVBORw0KGgoAAAANSUhEUgAAATcAAAAVBAMAAADRH7SIAAAAMFBMVEX///8QEBCIiIhmZma6urrM\n",
       "zMxUVFQiIiJERETc3Nzu7u6qqqp2dnaYmJgyMjIAAAAcRTyBAAAAAXRSTlMAQObYZgAAA+NJREFU\n",
       "SMfFVl1IFFEUPs46uzu7s6sPkYQki0SPuWVkpZAQJAjBVmBBRCJKBT2sCEX/SxCt9bALPSRFOSVk\n",
       "+FBLPpRgsCmBmMTgFhX+tGA9FFRSRhaonTv3zp2ZnRF0JTpw7tw5c+6d757fC7ACusV4ReRPOsv7\n",
       "kLNkMpHXtr4YZSQxu7ylZv1j1k9Ca3y+pBnAjaBfEMHnvMAFk5TJdJpLI9rP7XCMj1Z9eJC7rRi6\n",
       "36WCD/F34KsUywtchjHS5B8ubSHDqE3ZTXAFQmDTBzlk1fQWqkIEEQ0gTgU/p/ICd4oxOrf3N5c2\n",
       "kOG03XKNOHgUsOmDr5g+A5dPnmfg/CkEdwdFwz091/PCJkUpk32FGYuzC8N29U/IO9ncrA/wgaK/\n",
       "qHDLyfUILlgLMBuPn80LnBCmjFTvnzOyD0VehwzsRW5nc7M+wCANPcVwa10DBoEc1mKErml3hOBN\n",
       "LgbOq1JGx9SK3/FxgMqjfGYhDxqHxTbT12nSmrTewpKFVcS8WWJqn5bXgRlHCO9rLa+TG6qq9b+l\n",
       "KKMXQfoBsK+KyssBmp0MHQI324vqc3qsjTFTQsgTaXRBlJxI0I7fNedYy3aoxry/UhVkaYzVg4Ja\n",
       "ypgDlVtm8VFH5d3stLk7RXnRYPo6HdZCruwrEgMHsd0owXIjqx5NZbjNCZzcbcT2274eEAQYVnPB\n",
       "4VBmgHOlnLO/mtZUQ98CTjJbDmJuCk7KaskvhuJOO+718kVaCgpC4Xgyx61+5FYDnJT1OAbIbYiy\n",
       "lKH6mdfl4fIWvq7YDK4xiP8j6u1ahLgBQ8at5O7Y6IryGqFFjmvjx9yEuIn8zQAHl0adE+gQq7ZM\n",
       "/9VaWK2s5wmxyWK5cZoQ0Kv9fgwqQHyWCy6QEnij6dLACbCNxRxJdcJarUskDXANtAQ/zLLBN08L\n",
       "2RGF10fUl+5GYQZqcF7DHcHaV1oexJLtwqSAInIg39RIQuEV3Oh7NUO80eyPx+MhBJdmBiBmR/Yl\n",
       "5hV4stBmgAvSMPU06sMJKp+iiaHru0NiMZxBCXWF72i9pfFDUGt4BJFLgc6IHdx2kH5C5mnm4HPi\n",
       "eGq5dNjWvijp4CTFuTDesL4WRISYNB0haUwPO0Tbl07dfIapW6QScNIV6FD0Ab0Pc/AoW5DqRxeS\n",
       "kwgyjKTtjd9Ur5ZMnWi7QCxta/w6DfAgnAUpcY6AE0thT1JcQ4ZSSMSg45fqjnTDZlS6ivzm5dYv\n",
       "5uZhaiDXLjQtC9wubMPSccV2ZdLrYm6xJG71G12SN55eiGK4Chhzi1w2V0LtsKS+KVZU0+uxcVEm\n",
       "dA/WQVPyX13TA4s073dOQtVh9p/oL8QwEOwu7MbYAAAAAElFTkSuQmCC\n",
       "\" style=\"display:inline;vertical-align:middle;\" /></a></span><br>"
      ],
      "text/plain": [
       "closure_spec: {m in NaturalPos} |- forall_{A_{1}, ..A_{_a}.., A_{m} in BOOLEAN} ((A_{1} or ..A_{_a}.. or A_{m}) in BOOLEAN)"
      ]
     },
     "execution_count": 3,
     "metadata": {},
     "output_type": "execute_result"
    }
   ],
   "source": [
    "closure_spec = closure.instantiate({m:m}, assumptions=[InSet(m, NaturalPos)])"
   ]
  },
  {
   "cell_type": "code",
   "execution_count": 4,
   "metadata": {},
   "outputs": [
    {
     "data": {
      "text/html": [
       "<span style=\"font-size:20px;\"> <a class=\"ProveItLink\" href=\"../__pv_it/demonstrations/38e6aa788f09224564199dd8a6443943d91db7e20/proof.ipynb\" style=\"text-decoration: none\">&nbsp;&#x22A2;&nbsp;&nbsp;</a><a class=\"ProveItLink\" href=\"../__pv_it/demonstrations/50cce2017190234beb2930380eeffd3a17de210f0/expr.ipynb\"><img src=\"data:image/png;base64,iVBORw0KGgoAAAANSUhEUgAAASkAAAAVBAMAAADoeAXTAAAAMFBMVEX///8QEBCIiIhmZma6urrM\n",
       "zMxUVFQiIiJERETc3Nzu7u6qqqp2dnaYmJgyMjIAAAAcRTyBAAAAAXRSTlMAQObYZgAABAZJREFU\n",
       "SMe9lk1o1FAQgMfsZn+y6daDICpi9KQ96Iqi1RaseBBEoSqoF7XQqngQ1os/VXEFrVu97M0iaqMF\n",
       "rfVvoYgIgmuLglU01IMr/rD+HSwoxf9/nZn3sukmEdyCPpjJy+Tl5XvzZt4EYLjtqJRht1jG334Z\n",
       "pUCdx+XPqaWEgDa5cVM09/cvnmiZZR3h3sbSB8rm9M/RTQAhpL1FhoHyqeIZITDRgth0SxhV1vWe\n",
       "wfXOQ2U8QPd47p53T6kanR0WaOioNryNpsqnuielsxnVPLkZIfp8heEZvI5UP7t4vwkQ+MJW3TUw\n",
       "ErSUekTpQUAcpWfLp9ou5Sm+D/OlUW1AFTY9g1eQamZ/jEUVHCmCQFwgv3VrQVLFskh1HFfW19V1\n",
       "qHyoaFJI4BvdLbfNr1AW+G93MEG9eeQANSHML1ivqnJ8pS9CqngdwOd0emf5VEpCSHuS7k7b5m6U\n",
       "Vp90w5ER2uXoJ3aS3PBevhkYsoMLV2AM6Anec5qnoqVW8UnVfGNuih9VxBJyV8aGKkIzXOyVNmRf\n",
       "xaH01rbQqCccixmHavSvUYRSIIdT0EefgbbHO9sxAzpHFu+eTJ1dI7vhrJDdIuHUGUnhQgNCdT5U\n",
       "kwCa+LUPtvcGUV1ilqHRrj/GMyaWpOUpuOZ2nCvvjZ73SC7Wrl2ZYSl69KFM+xF1QiZwaJsQFFRa\n",
       "0pPv3E7x0vGVrzwK4CxRraWbpW+w2dEOqSW4RHymW+h2oNBa5pksjOSq2KP85S5QFOizSql288Lr\n",
       "bSqoEQeguwWyIs/DBAMXAaqKVG1DfQWpkKCKFjBvFVpDl2eyaegJjb3BGaQowUeZ0h3kk0qHItUx\n",
       "SPqmbCEs6PikyoGaJaqFvL4Sqoa4nKsVdzwstinkOmq2yeEmxDlqAtNfuqK9nTzZ51BFVhu+Obuv\n",
       "X9BRtOsmrmPQjvaAUeKrRyLaoRsnrORCpl5zUX0Xl/smdDCVAnNkXFH2ksR+4ASmQ6Vu4Cm0n6gu\n",
       "FGyF52izeH4V69NcgAdMVcumHU7Fyem9eA4HCKbSEAGkWZ5jmaLtHATXmLAynU4bSJWTKyMKJulo\n",
       "aawDhwqei8sW2uUGW+EX5cGpVa+fidpgKuH4k3vNkuoMca5bVJlSHB1uqmoOgjNYlULSV7mEq+KA\n",
       "Q8nt8B9qQcnMsdredxYlLLfF+0XFcRLWbrtAu8lU0QPQZtoqbMHZDBhIpRO/osPtnKs6299Jllmx\n",
       "vnqrs916ij29scdkKnUcLM2oY0iNA7hRWwVqz8TrAAcpvu5Uvy6GZkYWEfGR2R+NsqjyH7P+JxvI\n",
       "k23o+YRkMWf9dmcEmhWMK9+/vuG3Vn9zxFX41Gk14gfV+VVlgLtz/sUfcsUf/pAf+Bktn97/br8B\n",
       "OusSPdSTW9AAAAAASUVORK5CYII=\n",
       "\" style=\"display:inline;vertical-align:middle;\" /></a></span>"
      ],
      "text/plain": [
       "|- forall_{C_{1}, ..C_{_a}.., C_{4} in BOOLEAN} ((C_{1} or ..C_{_a}.. or C_{4}) in BOOLEAN)"
      ]
     },
     "execution_count": 4,
     "metadata": {},
     "output_type": "execute_result"
    }
   ],
   "source": [
    "closure.instantiate({m:num(4), A:C}, num_forall_eliminations=1)"
   ]
  },
  {
   "cell_type": "code",
   "execution_count": 5,
   "metadata": {},
   "outputs": [
    {
     "data": {
      "text/html": [
       "<strong id=\"demo1\">demo1:</strong> <span style=\"font-size:20px;\"><a class=\"ProveItLink\" href=\"../../__pv_it/theorems/ddc941563dffabdeb005429c2f934b2b6ccbeab10/expr.ipynb\"><img src=\"data:image/png;base64,iVBORw0KGgoAAAANSUhEUgAAADYAAAAPBAMAAABdHiGLAAAAMFBMVEX///92dnYiIiIQEBBERERU\n",
       "VFS6urqIiIjc3NxmZmaqqqru7u6YmJgyMjLMzMwAAADiRdoGAAAAAXRSTlMAQObYZgAAANdJREFU\n",
       "GNNjYACBtwwogF3Z5a9RGJRzH1WOgZevYMvOA2Amz/0NqHIsbAfYHziAmbvmN0DEeJyUdKFyXAsg\n",
       "cgfqE8A0n/sGuD7GbLAc24b1ELP3bkCYmfT0AYi1jeF9AVgoAmGf0X8zMCuBoX8CmOGA5BbGMwIg\n",
       "WyJnxoNF+WzvAgFUjsEhB2QdAwPzBZAIB7I+BgdWIGMBAwOTAVjIAFkugBeoGijH+wEsNB1F30EG\n",
       "hiYQ+wdYiGkBPMwEGCUDGLb8v83A5f8J7FDukGzMsIYBNhFImEEAAEUpOYcaSaDVAAAAAElFTkSu\n",
       "QmCC\n",
       "\" style=\"display:inline;vertical-align:middle;\" /></a>, <a class=\"ProveItLink\" href=\"../__pv_it/theorems/67501eb487d67b93f0ec3f6965561f782e470d670/expr.ipynb\"><img src=\"data:image/png;base64,iVBORw0KGgoAAAANSUhEUgAAADcAAAAPBAMAAACy3Eq1AAAAMFBMVEX///92dnYyMjKqqqoiIiLu\n",
       "7u7c3NyIiIjMzMwQEBC6urpERERmZmZUVFSYmJgAAADEjrHzAAAAAXRSTlMAQObYZgAAAOZJREFU\n",
       "GNNjYGB4+//O2d0LGJBByez9mr4QodkMDDw/UCQZFNpZt54DMTj+MTBw/UGV3LCOoYIbxGD/xsDA\n",
       "9x0sxrfFxQkmaQyW5J7AwBDpCjZjewBCp1Q0iMF/gYHDFywaFIAwlsvjBojRf+/5FgOw0DWEnSv9\n",
       "f4JdW5/AwDoXIoTsILmHIMZOkAKQVo5JSkAAk+TmegBk/AVJFgAJNhSd3AwXIN5kuA+2YAKyJC+D\n",
       "AsSbHL/BQsdRdPIJMDAwAdWv3AoWYjGAB18jg+BZBgZe/b9nbm+GCLHeXooR8AjAJQ0NPggAAH2B\n",
       "SAzP/7V+AAAAAElFTkSuQmCC\n",
       "\" style=\"display:inline;vertical-align:middle;\" /></a>, <a class=\"ProveItLink\" href=\"../__pv_it/demonstrations/6d4a76c8afef1311edaf37cd3d7c58f6a0f3bae70/expr.ipynb\"><img src=\"data:image/png;base64,iVBORw0KGgoAAAANSUhEUgAAADYAAAAPBAMAAABdHiGLAAAAMFBMVEX////MzMy6uroyMjIiIiKq\n",
       "qqoQEBB2dnbc3NyYmJhmZmZUVFRERESIiIju7u4AAACOKgoaAAAAAXRSTlMAQObYZgAAANxJREFU\n",
       "GNNjYGDgu7NrJ0cBAxLgdTvzOWUTiHVtAgPrsgnIcgzMjBfevAIKvfEDctY3oMjxME3gFTjAwGD2\n",
       "AMhRg4jNcXExgMqxBhxg4PoK4kiBpWTuIfSx6x1g6HcAcV6ACD47JDNVpAUY6i/AbeFuQMil/E9i\n",
       "YPAXQLgA2S3sMwsY8kFOYQATYsZAAHMLwwFNBn8QmxWsuQdZH8MBbojP2MEibChyG5gZ+kFuqQOL\n",
       "cF1A0TedgfUnA0PUA4iQKyLMCtirNjAwvDq9SwEq9PrQA7SwRgLqRyBhBgEActk8e8zZ+EcAAAAA\n",
       "SUVORK5CYII=\n",
       "\" style=\"display:inline;vertical-align:middle;\" /></a>, <a class=\"ProveItLink\" href=\"../__pv_it/demonstrations/fd6d96a8fa1d80eb29daf8272b5460a0b6c3669c0/expr.ipynb\"><img src=\"data:image/png;base64,iVBORw0KGgoAAAANSUhEUgAAADgAAAAPBAMAAABD1xE4AAAAMFBMVEX///8iIiLu7u52dna6uroQ\n",
       "EBBmZmaIiIjMzMyqqqoyMjLc3NxERERUVFSYmJgAAAAdjRNVAAAAAXRSTlMAQObYZgAAAONJREFU\n",
       "GNNjYGB4+//snbMbGJABu+iZX4FXwMxfDAx8P1EkGbg4CnTUHgAZHN+BRCqqJA/LA/aGAyAzfgAJ\n",
       "/wdgQb6DglJQSc4JIEmeD0BivwFIjOO4AlwnsxNIkh9E+F8AiWkpIIx17G0AMvoLgEQ9WOdthJ2B\n",
       "/0NAjHqQivsOIOYBJAcxvwOpPw/ifQVbGbUKCKCSDAf8gIw/IFf+AwlxI+tkOMAL9aYqRDgAWfIC\n",
       "F8SbTKsgYukoOh8DQwroTccEiBjjBHjwGTCbXWDgXf839042VIzpjhN6wCMBFhtI8EEAALZERsGv\n",
       "6x6JAAAAAElFTkSuQmCC\n",
       "\" style=\"display:inline;vertical-align:middle;\" /></a> <a class=\"ProveItLink\" href=\"../__pv_it/demonstrations/0c52cba606b453408fb53a7aa9be2f37d41d67760/proof.ipynb\" style=\"text-decoration: none\">&nbsp;&#x22A2;&nbsp;&nbsp;</a><a class=\"ProveItLink\" href=\"../__pv_it/demonstrations/9113989455fdc479b29801cf0e47904c61b651040/expr.ipynb\"><img src=\"data:image/png;base64,iVBORw0KGgoAAAANSUhEUgAAALwAAAAUBAMAAADFKEobAAAAMFBMVEX///9UVFTMzMx2dna6uroQ\n",
       "EBCqqqqIiIgiIiJmZmYyMjJERETu7u6YmJjc3NwAAAC+aOQFAAAAAXRSTlMAQObYZgAAAp1JREFU\n",
       "OMutVU1oE1EQnmRjNuavOXgwRpv1poIkJ6EomIsQodIeegh6MEd7MhcP0kNysYgITZEqvVgRe1DE\n",
       "bEBRKLZ7sEITkBVvQrFHESGNaCoVG+fN7CaZ0IpgHmTy5nvzJt/OfJkFiNowgOXf2OOgzl8n+uBI\n",
       "sjmfeN4HhqfiR6JpAb1vVxNVzD0sI/UbS9u5A7h5xn5FGS9tDbL7TIAFQ2LXbPDP2RLbRiotgFof\n",
       "k6C3UF+zIVJmshULrUfdiBQISWGasbLA6rfRLGwIzLuFZg5AK8j0IZ+tGyYEuGhv1S3wxtAELEKK\n",
       "CHwqCGxR2XMyTv+GZsyG8LhT1Fc3bznp/XkTPjNqFzPgVOo8Iy+w1DmrF9vfUva4jAttomlgPx6R\n",
       "631pddhroyZcJ8dnXSUBTeJnmc+bAMcOC6xRUvadjBsyFXt8mhFya1a3ONmjBrwm5w2kqHYB/H2T\n",
       "aTTXp6ZBYGe75e3G0b0isv9I7nC39rn2BACnyECDWqwXwJNhZe0ArMYENmN0ddeJKyowifsr5Jo9\n",
       "rdXW0zBBVOPzSToIl1yFhbBVektgl+nBLRm3oswP9RiU6OITXE56MC9weh/K/AFF34VTfG0Imetb\n",
       "Apuhv6ch434ptfx200d72YPp4eLksZosrC9Qgo7sPd8FRtrVQGAk+1WVNEv+eG/6WJBaG8X0wU1G\n",
       "Tzr9U7JPmQJrqK8zIDAl+zBVg1t7T7D/QHpS2g/tMJuDjrIWsWSXLIH5sQaTzrGLKVZZUsUdllS+\n",
       "MxTS2khMPVO9/RT8Kz95Ojzm00Pt+OySG+pgsFaNZ0BgnkpzNnGftg956CVGxUgL9E3Sr7sM1X/B\n",
       "wk7PfKd5KLiDtwwDWf0jzV3Lg0lf+/vr5H/XXiwH8zKM7P4y/AOcuMYfYjeKmgAAAABJRU5ErkJg\n",
       "gg==\n",
       "\" style=\"display:inline;vertical-align:middle;\" /></a></span><br>"
      ],
      "text/plain": [
       "demo1: {A in BOOLEAN, B in BOOLEAN, C in BOOLEAN, D in BOOLEAN} |- (A or B or C or D) in BOOLEAN"
      ]
     },
     "execution_count": 5,
     "metadata": {},
     "output_type": "execute_result"
    }
   ],
   "source": [
    "demo1 = closure.instantiate({m:num(4), A:[A, B, C, D]}, assumptions = [in_bool(A), in_bool(B), in_bool(C), in_bool(D)])"
   ]
  },
  {
   "cell_type": "code",
   "execution_count": 6,
   "metadata": {},
   "outputs": [
    {
     "data": {
      "text/html": [
       "<span style=\"font-size:20px;\"><a class=\"ProveItLink\" href=\"../__pv_it/demonstrations/9113989455fdc479b29801cf0e47904c61b651040/expr.ipynb\"><img src=\"data:image/png;base64,iVBORw0KGgoAAAANSUhEUgAAALwAAAAUBAMAAADFKEobAAAAMFBMVEX///9UVFTMzMx2dna6uroQ\n",
       "EBCqqqqIiIgiIiJmZmYyMjJERETu7u6YmJjc3NwAAAC+aOQFAAAAAXRSTlMAQObYZgAAAp1JREFU\n",
       "OMutVU1oE1EQnmRjNuavOXgwRpv1poIkJ6EomIsQodIeegh6MEd7MhcP0kNysYgITZEqvVgRe1DE\n",
       "bEBRKLZ7sEITkBVvQrFHESGNaCoVG+fN7CaZ0IpgHmTy5nvzJt/OfJkFiNowgOXf2OOgzl8n+uBI\n",
       "sjmfeN4HhqfiR6JpAb1vVxNVzD0sI/UbS9u5A7h5xn5FGS9tDbL7TIAFQ2LXbPDP2RLbRiotgFof\n",
       "k6C3UF+zIVJmshULrUfdiBQISWGasbLA6rfRLGwIzLuFZg5AK8j0IZ+tGyYEuGhv1S3wxtAELEKK\n",
       "CHwqCGxR2XMyTv+GZsyG8LhT1Fc3bznp/XkTPjNqFzPgVOo8Iy+w1DmrF9vfUva4jAttomlgPx6R\n",
       "631pddhroyZcJ8dnXSUBTeJnmc+bAMcOC6xRUvadjBsyFXt8mhFya1a3ONmjBrwm5w2kqHYB/H2T\n",
       "aTTXp6ZBYGe75e3G0b0isv9I7nC39rn2BACnyECDWqwXwJNhZe0ArMYENmN0ddeJKyowifsr5Jo9\n",
       "rdXW0zBBVOPzSToIl1yFhbBVektgl+nBLRm3oswP9RiU6OITXE56MC9weh/K/AFF34VTfG0Imetb\n",
       "Apuhv6ch434ptfx200d72YPp4eLksZosrC9Qgo7sPd8FRtrVQGAk+1WVNEv+eG/6WJBaG8X0wU1G\n",
       "Tzr9U7JPmQJrqK8zIDAl+zBVg1t7T7D/QHpS2g/tMJuDjrIWsWSXLIH5sQaTzrGLKVZZUsUdllS+\n",
       "MxTS2khMPVO9/RT8Kz95Ojzm00Pt+OySG+pgsFaNZ0BgnkpzNnGftg956CVGxUgL9E3Sr7sM1X/B\n",
       "wk7PfKd5KLiDtwwDWf0jzV3Lg0lf+/vr5H/XXiwH8zKM7P4y/AOcuMYfYjeKmgAAAABJRU5ErkJg\n",
       "gg==\n",
       "\" style=\"display:inline;vertical-align:middle;\" /></a> <a class=\"ProveItLink\" href=\"../__pv_it/demonstrations/09aea1b2bcc92557166f8b6670ad9dc13dab27b00/proof.ipynb\" style=\"text-decoration: none\">&nbsp;&#x22A2;&nbsp;&nbsp;</a><a class=\"ProveItLink\" href=\"../__pv_it/theorems/67501eb487d67b93f0ec3f6965561f782e470d670/expr.ipynb\"><img src=\"data:image/png;base64,iVBORw0KGgoAAAANSUhEUgAAADcAAAAPBAMAAACy3Eq1AAAAMFBMVEX///92dnYyMjKqqqoiIiLu\n",
       "7u7c3NyIiIjMzMwQEBC6urpERERmZmZUVFSYmJgAAADEjrHzAAAAAXRSTlMAQObYZgAAAOZJREFU\n",
       "GNNjYGB4+//O2d0LGJBByez9mr4QodkMDDw/UCQZFNpZt54DMTj+MTBw/UGV3LCOoYIbxGD/xsDA\n",
       "9x0sxrfFxQkmaQyW5J7AwBDpCjZjewBCp1Q0iMF/gYHDFywaFIAwlsvjBojRf+/5FgOw0DWEnSv9\n",
       "f4JdW5/AwDoXIoTsILmHIMZOkAKQVo5JSkAAk+TmegBk/AVJFgAJNhSd3AwXIN5kuA+2YAKyJC+D\n",
       "AsSbHL/BQsdRdPIJMDAwAdWv3AoWYjGAB18jg+BZBgZe/b9nbm+GCLHeXooR8AjAJQ0NPggAAH2B\n",
       "SAzP/7V+AAAAAElFTkSuQmCC\n",
       "\" style=\"display:inline;vertical-align:middle;\" /></a></span>"
      ],
      "text/plain": [
       "{(A or B or C or D) in BOOLEAN} |- B in BOOLEAN"
      ]
     },
     "execution_count": 6,
     "metadata": {},
     "output_type": "execute_result"
    }
   ],
   "source": [
    "demo1.element.deduce_part_in_bool(1, assumptions=[demo1.expr])"
   ]
  },
  {
   "cell_type": "code",
   "execution_count": 7,
   "metadata": {},
   "outputs": [
    {
     "data": {
      "text/html": [
       "<span style=\"font-size:20px;\"> <a class=\"ProveItLink\" href=\"proofs/each_is_bool/thm_proof.ipynb\" style=\"text-decoration: none\">&nbsp;&#x22A2;&nbsp;&nbsp;</a><a class=\"ProveItLink\" href=\"../__pv_it/theorems/2a6a31186c2f8e0dd1b360f1f26cab4239c05a9a0/expr.ipynb\"><img src=\"data:image/png;base64,iVBORw0KGgoAAAANSUhEUgAAAlQAAAAZBAMAAAAF762BAAAAMFBMVEX///8QEBCIiIhmZma6urrM\n",
       "zMxUVFQiIiJERETc3Nzu7u6qqqp2dnaYmJgyMjIAAAAcRTyBAAAAAXRSTlMAQObYZgAABpNJREFU\n",
       "WMPtWV2ME1UUPjud6c90uuVBg4oPNRpZjEDNygKySImJEiOhuw9AIgkNKxF50CrGIj9aDIECJlt9\n",
       "gA0JUEOy4CLYSDaRBOK4i3/LT0YhugorVeODJBoCgvyIeO69M50zndluMcDD4k06c86cM+fc+e65\n",
       "5557C1Bbez6Th9u5yZkVtaqm4XZvG/+HirctVaX7BFQldhuoAap6dosYwxIpNYuf9tKFxkWrHY+l\n",
       "l3P/jHwOwJ/nUB1iz07XAJVWxFt9YVhCVc+wqEO8piWdz5XYzu0GqCUOVQdeQ9kaoOJKHcNz/h1j\n",
       "l/k4Y2bFHc+DsiEl8bt7OFQsTnjADJmrWOgdGp5Qvc4u4zG0TsU435/JlEyowkWE6j0OVaSvq2tT\n",
       "TWn9ZFfX+8Mzu4f4Z63CnDWSJ5i5D9lRpT2NUNUn+Ap4MZdbURNU0VxurT4soZL4tLsAMGcxT/Kn\n",
       "yQR8ajamLy3OoVoIsK4mqPxJCN7cOvRWVLmKx7MgW9eVCwMNyznrz9tQjbx2B1v4SxyqJ0SCHxoq\n",
       "OQ57hAHvT3IAPuNc7yKh1t+mj3ErR9Y0S2UzsrhpVYyDp2e5vbnJduvtqcJfOOEWBliuli5hTkpx\n",
       "LzStawM4k8JpDlUAJO9iSVlyEO5LkRI0DWM5fSrh2Zk/HdwI0EYwYmsMdo5wZ4efQV1l90jcXhjc\n",
       "uNlcwq8BPrVob08uf5PNRz+OmzjFJOuY2SC+K11hbMsf2Ky0DtmZCMUZDpVmBDxs7+qdCh9rBV+B\n",
       "QHVE1OzqNE9ot1+lnC8F4cusjwhgxF2LbMPO9VdApejEeMT8ORji2RC/JoBPCkJsezJlVJH462SG\n",
       "9jcakhY6kSRQRTEqpLPgqIg4VP4yVKHSbI8Q2bC5AAdicY1ubLYqPMa0HXEvqPqWOGI6Bj42MAH8\n",
       "fiXmUmYLSWsFVP4kMS4lyK7LYojnB7Dj2JtXAB43xbYnU0YViT9Wbvbv6wJJgj6DTEBWVvn5zKhz\n",
       "QJXCbYosJiCsw9I9MrX1fulB1ldGsQSGrbv7XQdUwY08/luDXhWrEstR9sMkjGMROR4vqqvEl1jA\n",
       "dVVAFXAYz9pTpcwQz/iKLw/qeZBOm2Lbk5BRReoP043MEJck+WSepHVWVs3n9n0xR1SdLKd12Isw\n",
       "RKYbdYslNhSMyoudYbe2ex6FKjyRkykfMosrv94PEyk7a2wDH9ilgq1QDzjBFlBtchg/SCLDYrjQ\n",
       "XAISrO/y2W/WWGLbk5BRReovnBLbWcn3yK+WDoPuJzR3lxjU5fbGRtd60bNPF1BFEcTNoyGaYA84\n",
       "VVB5oHeD3us4WeAzOVKUzsC8eyqhOgHjKXsUYDS7/825SvWo7gHVDIfxnSQyTIYL7Q0uxplWAilt\n",
       "im1PQkYVqT85C9s5VBJMNnMVm18vXmtrypm7ls7VBcd2GeqTAqoIe74AWsSURWo6KEtzubcQqi0B\n",
       "B1Q/sMue5i8xnJdV7s1/OdxO59nbmLqLZlLa7VJneUU1KqB60mFcS3QCCY3OstAKNBVHO6hD6Iop\n",
       "Jp64jCpSf0oJ5uRyuRhCpcfoxoa0Z9ZmHAXUDnpedSc0wDZFUM0KpERUya3u86rHIHTeDRUulduS\n",
       "kSkDE/aLkcIPmMWiYhL+dJe6L8uqKFTXCVRzHcbV7AR6SDLBEh47cOzZz1ig+dBRtAjyJVNMPHFZ\n",
       "OSKRof7kFCYLEVV6nG6Xq7QeAlXoDEZTvwYdBaRe7QbWGTiO+z4XVJjo4CrvEequty6AxUfUCI+D\n",
       "UWEc6PUQugyhexkRMOCDvFt9JahfQbjBNBu0hs42jqVJqvyOYITwo1JdcT8LtG9ZzVGAd3RT1/bE\n",
       "ZZYzoUj8RXTQGJKSBof1QUrbyilTIlAh1L/Bxj5oKSL1sAFBnDzyGwmBvwOq9ix0/GWwHrUUlbuh\n",
       "Jc8uxeBFCLWvhIVq2pcAZRR8ca5xESfg82a296xQB62tBwFYqGTpClggxvkaaqrnBSOE/uQOeJR1\n",
       "H6NPe7OxabWla3viMssZZ6g/7CBswEffHZ30Oz3aG2qT4Dowto5jGjBXVTswXkZ0bSodjgfCuMiU\n",
       "V5sh1KXjBCqpSLVBdYyrneZgL6SZZsFTLN51VCc2w/2x5U/CXHUdB8bfe52th/O1na23nisSXYtS\n",
       "U1LCP8Y8iy4fSldRDx+hG5ss0R60dWJRuWDw+VLtXeHvwA36GyJyHX9DRAZ9y3ARVdUtqGbekmP0\n",
       "+A2CatCWuZn/A/qGCOkbejb13/4dkDOv/Qu6ARekLNXBXQAAAABJRU5ErkJggg==\n",
       "\" style=\"display:inline;vertical-align:middle;\" /></a></span>"
      ],
      "text/plain": [
       "|- forall_{m, n in Natural} [forall_{A_{1}, ..A_{_a}.., A_{m}, B, C_{1}, ..C_{_a}.., C_{n} | (A_{1} or ..A_{_a}.. or A_{m} or B or C_{1} or ..C_{_a}.. or C_{n}) in BOOLEAN} (B in BOOLEAN)]"
      ]
     },
     "execution_count": 7,
     "metadata": {},
     "output_type": "execute_result"
    }
   ],
   "source": [
    "each_is_bool"
   ]
  },
  {
   "cell_type": "code",
   "execution_count": null,
   "metadata": {},
   "outputs": [],
   "source": []
  },
  {
   "cell_type": "code",
   "execution_count": 8,
   "metadata": {},
   "outputs": [
    {
     "data": {
      "text/html": [
       "<span style=\"font-size:20px;\"> <a class=\"ProveItLink\" href=\"../__pv_it/demonstrations/23fb94b9aab8474670ee5697c3acf40be2526b700/proof.ipynb\" style=\"text-decoration: none\">&nbsp;&#x22A2;&nbsp;&nbsp;</a><a class=\"ProveItLink\" href=\"../__pv_it/axioms/9dfa130a8f021198f22c3aa5733ebc53fb66c2820/expr.ipynb\"><img src=\"data:image/png;base64,iVBORw0KGgoAAAANSUhEUgAAADUAAAAPBAMAAAC2KZqIAAAALVBMVEX///92dnZERETc3NwyMjLu\n",
       "7u7MzMyYmJi6urqIiIiqqqpUVFQiIiJmZmYAAAAtULTAAAAAAXRSTlMAQObYZgAAAHlJREFUGNNj\n",
       "uHMGBE4zIAFesNCZDSD2SogQG5hMAJNcE6DqoHLcIGH2CVjl2ECG8ARglWNwBuJeBuxya4FYGYcc\n",
       "D9BcBRxynBMYuBtwyLEeYAhhwCHHcItBCqecCcMBnHJM6RNwyrHtCUCXa4eHsi+MwVHAgA5MUXgA\n",
       "6F4mSiD358QAAAAASUVORK5CYII=\n",
       "\" style=\"display:inline;vertical-align:middle;\" /></a></span>"
      ],
      "text/plain": [
       "|- TRUE or TRUE"
      ]
     },
     "execution_count": 8,
     "metadata": {},
     "output_type": "execute_result"
    }
   ],
   "source": [
    "Or(TRUE,TRUE).prove()"
   ]
  },
  {
   "cell_type": "code",
   "execution_count": 9,
   "metadata": {},
   "outputs": [
    {
     "data": {
      "text/html": [
       "<span style=\"font-size:20px;\"> <a class=\"ProveItLink\" href=\"../__pv_it/demonstrations/97665ced30832e59400beb9fc342639f05defa450/proof.ipynb\" style=\"text-decoration: none\">&nbsp;&#x22A2;&nbsp;&nbsp;</a><a class=\"ProveItLink\" href=\"../__pv_it/axioms/84ddfe0a2ea6d1170e8d0439db424649f45484d00/expr.ipynb\"><img src=\"data:image/png;base64,iVBORw0KGgoAAAANSUhEUgAAADUAAAAPBAMAAAC2KZqIAAAAMFBMVEX///8QEBB2dnZERETc3Nwy\n",
       "MjLu7u7MzMyYmJi6urqIiIiqqqpUVFQiIiJmZmYAAACecvKAAAAAAXRSTlMAQObYZgAAAHtJREFU\n",
       "GNNjeHsXBO4woAL2DVDGLigfTBaASe4FqHI8IGGOBVjl2A8ACd4ErHIMIUA8jwG73D4gNsEhxws0\n",
       "1wCHHNcCBp4JOOTYLjCkMuCQY3jNoI1TzpXhAk455ooFOOXYzyagy82AB3EcmOS7e/ei7N27B1CD\n",
       "3w2FBwB6DinsStvkdwAAAABJRU5ErkJggg==\n",
       "\" style=\"display:inline;vertical-align:middle;\" /></a></span>"
      ],
      "text/plain": [
       "|- TRUE or FALSE"
      ]
     },
     "execution_count": 9,
     "metadata": {},
     "output_type": "execute_result"
    }
   ],
   "source": [
    "Or(TRUE,FALSE).prove()"
   ]
  },
  {
   "cell_type": "code",
   "execution_count": 10,
   "metadata": {},
   "outputs": [
    {
     "data": {
      "text/html": [
       "<span style=\"font-size:20px;\"> <a class=\"ProveItLink\" href=\"../__pv_it/demonstrations/41c1f91482b22dee776f9d574f9ed2048d4056e30/proof.ipynb\" style=\"text-decoration: none\">&nbsp;&#x22A2;&nbsp;&nbsp;</a><a class=\"ProveItLink\" href=\"../__pv_it/axioms/612fe3d03626ccb50b201a129f8ef2ec0fe535c50/expr.ipynb\"><img src=\"data:image/png;base64,iVBORw0KGgoAAAANSUhEUgAAADUAAAAPBAMAAAC2KZqIAAAAMFBMVEX///92dnZERES6urrc3Nwy\n",
       "MjLu7u6YmJhUVFQQEBAiIiJmZmaIiIiqqqrMzMwAAAAH70cZAAAAAXRSTlMAQObYZgAAAH9JREFU\n",
       "GNNjYGBgeMuACrhXgUEDiH0HIsQHJh+ASd4DUHVQOQ6QMPsBrHJ8IEO4ErDKMYQAsTUDdrnbQKyC\n",
       "Q44LaK4CDjmeAwwcBjjk2BYwpDLgkGPYyyCLU86VYQFOOabnB3DK8XUloMjtWrVq5qpVKyBC0TBV\n",
       "zAUM6MANhQcAQLgq4na1HsoAAAAASUVORK5CYII=\n",
       "\" style=\"display:inline;vertical-align:middle;\" /></a></span>"
      ],
      "text/plain": [
       "|- FALSE or TRUE"
      ]
     },
     "execution_count": 10,
     "metadata": {},
     "output_type": "execute_result"
    }
   ],
   "source": [
    "Or(FALSE,TRUE).prove()"
   ]
  },
  {
   "cell_type": "code",
   "execution_count": 11,
   "metadata": {},
   "outputs": [
    {
     "data": {
      "text/html": [
       "<span style=\"font-size:20px;\"> <a class=\"ProveItLink\" href=\"../__pv_it/demonstrations/c4367fbaf386efe71bca9a4abd7c552bf0184a0b0/proof.ipynb\" style=\"text-decoration: none\">&nbsp;&#x22A2;&nbsp;&nbsp;</a><a class=\"ProveItLink\" href=\"../__pv_it/demonstrations/d10760631620def45a830681a265ceae7f856c3d0/expr.ipynb\"><img src=\"data:image/png;base64,iVBORw0KGgoAAAANSUhEUgAAAFYAAAAUBAMAAADl6NejAAAAMFBMVEX///+6uroQEBCqqqqIiIgy\n",
       "MjJERETu7u6YmJjMzMxUVFTc3Nx2dnYiIiJmZmYAAAAutVgsAAAAAXRSTlMAQObYZgAAAQNJREFU\n",
       "KM9jYECAHQx4APMGZB57AoicjKmM0wBErkYWYgXrNIFwJoAVQY10AJGlyGr7GJDUrgQRLchqeRyQ\n",
       "1N5GVjsLRFxHVsuugFDKfQFZLchBjA+Q1TIEItSyPEBWywzksW1AUXsOoZatAVktA9CWaQwoalsZ\n",
       "3t4FgjtAJq8BiloXBoaFqGptIbxdQMwkgKK2loE9AFXtfJxq+Qx4DHCqRXMDdwAvA6paWYRaNL8x\n",
       "ZLYwoPuNARaZPA9Q1c66jqb2DSLMGIGhBAwUpbt3b0FiA6KX7+7dS7p37y5gYIjEiGNEPBag8tkv\n",
       "YKQdnAAl7bBtwKu2FDOt4wTZKDy8eYhjAwMArrU82qimWPQAAAAASUVORK5CYII=\n",
       "\" style=\"display:inline;vertical-align:middle;\" /></a></span>"
      ],
      "text/plain": [
       "|- not(FALSE or FALSE)"
      ]
     },
     "execution_count": 11,
     "metadata": {},
     "output_type": "execute_result"
    }
   ],
   "source": [
    "Not(Or(FALSE,FALSE)).prove()"
   ]
  },
  {
   "cell_type": "code",
   "execution_count": 12,
   "metadata": {},
   "outputs": [
    {
     "data": {
      "text/html": [
       "<span style=\"font-size:20px;\"><a class=\"ProveItLink\" href=\"../../../../__pv_it/common/e4aad701f7f5516d8e7f0d805d518bf02c13322a0/expr.ipynb\"><img src=\"data:image/png;base64,iVBORw0KGgoAAAANSUhEUgAAAA8AAAAOBAMAAAACpFvcAAAALVBMVEX///8iIiIQEBBERERUVFS6\n",
       "urqIiIjc3NxmZmaqqqru7u6YmJgyMjLMzMwAAACK9jtgAAAAAXRSTlMAQObYZgAAAFtJREFUCNdj\n",
       "YACBOwxQcA5Kc59bAGGs7CuAMDbkBYBp1gXzNoAZSxnuJYAZAQx1DSCa16PDzwCshIGB6QCIMYGB\n",
       "gVEBSLMDGTwPgIxCIGZ+zsCw+N0pBk67hw0AfpEVEQi8t+wAAAAASUVORK5CYII=\n",
       "\" style=\"display:inline;vertical-align:middle;\" /></a>, <a class=\"ProveItLink\" href=\"../../../../__pv_it/common/4eca3b30dcf58a58494e201d1b7886d8643a617b0/expr.ipynb\"><img src=\"data:image/png;base64,iVBORw0KGgoAAAANSUhEUgAAABAAAAAOBAMAAADUAYG5AAAALVBMVEX///8yMjKqqqoiIiLu7u7c\n",
       "3NyIiIjMzMwQEBC6urpERERmZmZUVFSYmJgAAACsPVCVAAAAAXRSTlMAQObYZgAAAGxJREFUCNdj\n",
       "YGC48+70nlUTGICgi4GB+zmQZn/LwMD5Gshge8rAwPsMyOBqYGDwMAEy+A4wsNs4ABl1Z68tVgBp\n",
       "ygtgYOkBMVaAOCChNyBGAsQYhnMTIMawvwJyGIHGzFjCwMAj92b3qUUMDAAXABxvZ4rl5AAAAABJ\n",
       "RU5ErkJggg==\n",
       "\" style=\"display:inline;vertical-align:middle;\" /></a> <a class=\"ProveItLink\" href=\"../__pv_it/demonstrations/da4cfee537b0ee8426307c824a88952e5c018fd90/proof.ipynb\" style=\"text-decoration: none\">&nbsp;&#x22A2;&nbsp;&nbsp;</a><a class=\"ProveItLink\" href=\"../__pv_it/axioms/64d599a7acc604adfa976ed673118f75c53672710/expr.ipynb\"><img src=\"data:image/png;base64,iVBORw0KGgoAAAANSUhEUgAAADcAAAAPBAMAAACy3Eq1AAAAMFBMVEX///92dnYiIiIQEBBERERU\n",
       "VFS6urqIiIjc3NxmZmaqqqru7u6YmJgyMjLMzMwAAADiRdoGAAAAAXRSTlMAQObYZgAAAQVJREFU\n",
       "GNNjYACBtwyogCf+68wQNyjnPojgAzMfgElmBwaG+RAmz/0NQJIVxOEpAIu8P8DAkD8BzNw1vwGk\n",
       "MwBIMG0Ai9QDBc5D1B2oTwBRN4A4E2KPMwMDtxFYHduG9QdA9Eog9oBIfmVgeBQNZm1jeA82gQlo\n",
       "tANYhO/rmRItiLIEhn6w3ewFDKxg8xnYfzAwbA4AK4ucGQ/WwK3AsBeinMUAqOAX2Eqgty6AxWYx\n",
       "SEEk+YG62L+DWAuAthmAxXoZFBjg3mT9BmRwACV5P0BMewPxGtib70FWNYFEf0AcGQQJAobLQMtM\n",
       "gOwt/28zcPl/ggTVTYhc7P/IqS4L0CKDoRuVCwDjpEGwITo9cgAAAABJRU5ErkJggg==\n",
       "\" style=\"display:inline;vertical-align:middle;\" /></a></span>"
      ],
      "text/plain": [
       "{A, B} |- A or B"
      ]
     },
     "execution_count": 12,
     "metadata": {},
     "output_type": "execute_result"
    }
   ],
   "source": [
    "Or(A,B).prove([A,B])"
   ]
  },
  {
   "cell_type": "code",
   "execution_count": 13,
   "metadata": {},
   "outputs": [
    {
     "data": {
      "text/html": [
       "<span style=\"font-size:20px;\"><a class=\"ProveItLink\" href=\"../../../../__pv_it/common/e4aad701f7f5516d8e7f0d805d518bf02c13322a0/expr.ipynb\"><img src=\"data:image/png;base64,iVBORw0KGgoAAAANSUhEUgAAAA8AAAAOBAMAAAACpFvcAAAALVBMVEX///8iIiIQEBBERERUVFS6\n",
       "urqIiIjc3NxmZmaqqqru7u6YmJgyMjLMzMwAAACK9jtgAAAAAXRSTlMAQObYZgAAAFtJREFUCNdj\n",
       "YACBOwxQcA5Kc59bAGGs7CuAMDbkBYBp1gXzNoAZSxnuJYAZAQx1DSCa16PDzwCshIGB6QCIMYGB\n",
       "gVEBSLMDGTwPgIxCIGZ+zsCw+N0pBk67hw0AfpEVEQi8t+wAAAAASUVORK5CYII=\n",
       "\" style=\"display:inline;vertical-align:middle;\" /></a>, <a class=\"ProveItLink\" href=\"../__pv_it/theorems/7e62a2cc7488cf98fcf25c6e4b2091ce54d5d3b80/expr.ipynb\"><img src=\"data:image/png;base64,iVBORw0KGgoAAAANSUhEUgAAAB0AAAAOBAMAAAAh/woJAAAAMFBMVEX///8yMjKqqqru7u6IiIgQ\n",
       "EBC6urpERESYmJjMzMxUVFTc3Nx2dnYiIiJmZmYAAABbDZECAAAAAXRSTlMAQObYZgAAAH9JREFU\n",
       "CNdjYIACjvW/3i0vY0AA1gIGhvcTEPz5DQwM+Q8QfP8NDAz9Dgh+KQMDc6wBgv+LgWHuYgSX81eH\n",
       "+yUg/fYuENxhYGD5zcBgugAquYuBgT0AKPYJwecHyrF8QfBB1nN9Q/BB1s8vgBnOwCDKwMAWjrB+\n",
       "4f91r8oVGBgAyy8lZJPyWlAAAAAASUVORK5CYII=\n",
       "\" style=\"display:inline;vertical-align:middle;\" /></a> <a class=\"ProveItLink\" href=\"../__pv_it/demonstrations/44b4e14c5bd219581838a62de16d5229adc2d24c0/proof.ipynb\" style=\"text-decoration: none\">&nbsp;&#x22A2;&nbsp;&nbsp;</a><a class=\"ProveItLink\" href=\"../__pv_it/axioms/64d599a7acc604adfa976ed673118f75c53672710/expr.ipynb\"><img src=\"data:image/png;base64,iVBORw0KGgoAAAANSUhEUgAAADcAAAAPBAMAAACy3Eq1AAAAMFBMVEX///92dnYiIiIQEBBERERU\n",
       "VFS6urqIiIjc3NxmZmaqqqru7u6YmJgyMjLMzMwAAADiRdoGAAAAAXRSTlMAQObYZgAAAQVJREFU\n",
       "GNNjYACBtwyogCf+68wQNyjnPojgAzMfgElmBwaG+RAmz/0NQJIVxOEpAIu8P8DAkD8BzNw1vwGk\n",
       "MwBIMG0Ai9QDBc5D1B2oTwBRN4A4E2KPMwMDtxFYHduG9QdA9Eog9oBIfmVgeBQNZm1jeA82gQlo\n",
       "tANYhO/rmRItiLIEhn6w3ewFDKxg8xnYfzAwbA4AK4ucGQ/WwK3AsBeinMUAqOAX2Eqgty6AxWYx\n",
       "SEEk+YG62L+DWAuAthmAxXoZFBjg3mT9BmRwACV5P0BMewPxGtib70FWNYFEf0AcGQQJAobLQMtM\n",
       "gOwt/28zcPl/ggTVTYhc7P/IqS4L0CKDoRuVCwDjpEGwITo9cgAAAABJRU5ErkJggg==\n",
       "\" style=\"display:inline;vertical-align:middle;\" /></a></span>"
      ],
      "text/plain": [
       "{A, not(B)} |- A or B"
      ]
     },
     "execution_count": 13,
     "metadata": {},
     "output_type": "execute_result"
    }
   ],
   "source": [
    "Or(A,B).prove([A,Not(B)])"
   ]
  },
  {
   "cell_type": "code",
   "execution_count": 14,
   "metadata": {},
   "outputs": [
    {
     "data": {
      "text/html": [
       "<span style=\"font-size:20px;\"><a class=\"ProveItLink\" href=\"../../negation/__pv_it/theorems/e025e57903ee24d89047aba8869ea7beb1da67b40/expr.ipynb\"><img src=\"data:image/png;base64,iVBORw0KGgoAAAANSUhEUgAAABwAAAAOBAMAAADOPWE3AAAAMFBMVEX///8QEBBERES6urqIiIiq\n",
       "qqru7u6YmJgyMjLMzMxUVFTc3Nx2dnYiIiJmZmYAAAAfdW6kAAAAAXRSTlMAQObYZgAAAGNJREFU\n",
       "CNdjYEAAzgYGZMDxAYVb8Q2Zxxb3G5nLzvIZmWvG+h1ZrQHnFwaGt3eB4A6Qy8zA/Q8qswuIZ717\n",
       "9QmJa8DAIIHgsgKpiwjuViDVD3MtA/cFIKW/AWaL/o8EhqD/9wA5jBwoctwhSQAAAABJRU5ErkJg\n",
       "gg==\n",
       "\" style=\"display:inline;vertical-align:middle;\" /></a>, <a class=\"ProveItLink\" href=\"../../../../__pv_it/common/4eca3b30dcf58a58494e201d1b7886d8643a617b0/expr.ipynb\"><img src=\"data:image/png;base64,iVBORw0KGgoAAAANSUhEUgAAABAAAAAOBAMAAADUAYG5AAAALVBMVEX///8yMjKqqqoiIiLu7u7c\n",
       "3NyIiIjMzMwQEBC6urpERERmZmZUVFSYmJgAAACsPVCVAAAAAXRSTlMAQObYZgAAAGxJREFUCNdj\n",
       "YGC48+70nlUTGICgi4GB+zmQZn/LwMD5Gshge8rAwPsMyOBqYGDwMAEy+A4wsNs4ABl1Z68tVgBp\n",
       "ygtgYOkBMVaAOCChNyBGAsQYhnMTIMawvwJyGIHGzFjCwMAj92b3qUUMDAAXABxvZ4rl5AAAAABJ\n",
       "RU5ErkJggg==\n",
       "\" style=\"display:inline;vertical-align:middle;\" /></a> <a class=\"ProveItLink\" href=\"../__pv_it/demonstrations/f3e3677b75d8a50eb687c15e0386d3ad3ec4d7460/proof.ipynb\" style=\"text-decoration: none\">&nbsp;&#x22A2;&nbsp;&nbsp;</a><a class=\"ProveItLink\" href=\"../__pv_it/axioms/64d599a7acc604adfa976ed673118f75c53672710/expr.ipynb\"><img src=\"data:image/png;base64,iVBORw0KGgoAAAANSUhEUgAAADcAAAAPBAMAAACy3Eq1AAAAMFBMVEX///92dnYiIiIQEBBERERU\n",
       "VFS6urqIiIjc3NxmZmaqqqru7u6YmJgyMjLMzMwAAADiRdoGAAAAAXRSTlMAQObYZgAAAQVJREFU\n",
       "GNNjYACBtwyogCf+68wQNyjnPojgAzMfgElmBwaG+RAmz/0NQJIVxOEpAIu8P8DAkD8BzNw1vwGk\n",
       "MwBIMG0Ai9QDBc5D1B2oTwBRN4A4E2KPMwMDtxFYHduG9QdA9Eog9oBIfmVgeBQNZm1jeA82gQlo\n",
       "tANYhO/rmRItiLIEhn6w3ewFDKxg8xnYfzAwbA4AK4ucGQ/WwK3AsBeinMUAqOAX2Eqgty6AxWYx\n",
       "SEEk+YG62L+DWAuAthmAxXoZFBjg3mT9BmRwACV5P0BMewPxGtib70FWNYFEf0AcGQQJAobLQMtM\n",
       "gOwt/28zcPl/ggTVTYhc7P/IqS4L0CKDoRuVCwDjpEGwITo9cgAAAABJRU5ErkJggg==\n",
       "\" style=\"display:inline;vertical-align:middle;\" /></a></span>"
      ],
      "text/plain": [
       "{not(A), B} |- A or B"
      ]
     },
     "execution_count": 14,
     "metadata": {},
     "output_type": "execute_result"
    }
   ],
   "source": [
    "Or(A,B).prove([B,Not(A)])"
   ]
  },
  {
   "cell_type": "code",
   "execution_count": 15,
   "metadata": {},
   "outputs": [
    {
     "data": {
      "text/html": [
       "<span style=\"font-size:20px;\"><a class=\"ProveItLink\" href=\"../../negation/__pv_it/theorems/e025e57903ee24d89047aba8869ea7beb1da67b40/expr.ipynb\"><img src=\"data:image/png;base64,iVBORw0KGgoAAAANSUhEUgAAABwAAAAOBAMAAADOPWE3AAAAMFBMVEX///8QEBBERES6urqIiIiq\n",
       "qqru7u6YmJgyMjLMzMxUVFTc3Nx2dnYiIiJmZmYAAAAfdW6kAAAAAXRSTlMAQObYZgAAAGNJREFU\n",
       "CNdjYEAAzgYGZMDxAYVb8Q2Zxxb3G5nLzvIZmWvG+h1ZrQHnFwaGt3eB4A6Qy8zA/Q8qswuIZ717\n",
       "9QmJa8DAIIHgsgKpiwjuViDVD3MtA/cFIKW/AWaL/o8EhqD/9wA5jBwoctwhSQAAAABJRU5ErkJg\n",
       "gg==\n",
       "\" style=\"display:inline;vertical-align:middle;\" /></a>, <a class=\"ProveItLink\" href=\"../__pv_it/theorems/7e62a2cc7488cf98fcf25c6e4b2091ce54d5d3b80/expr.ipynb\"><img src=\"data:image/png;base64,iVBORw0KGgoAAAANSUhEUgAAAB0AAAAOBAMAAAAh/woJAAAAMFBMVEX///8yMjKqqqru7u6IiIgQ\n",
       "EBC6urpERESYmJjMzMxUVFTc3Nx2dnYiIiJmZmYAAABbDZECAAAAAXRSTlMAQObYZgAAAH9JREFU\n",
       "CNdjYIACjvW/3i0vY0AA1gIGhvcTEPz5DQwM+Q8QfP8NDAz9Dgh+KQMDc6wBgv+LgWHuYgSX81eH\n",
       "+yUg/fYuENxhYGD5zcBgugAquYuBgT0AKPYJwecHyrF8QfBB1nN9Q/BB1s8vgBnOwCDKwMAWjrB+\n",
       "4f91r8oVGBgAyy8lZJPyWlAAAAAASUVORK5CYII=\n",
       "\" style=\"display:inline;vertical-align:middle;\" /></a> <a class=\"ProveItLink\" href=\"../__pv_it/demonstrations/f47d4d37bee399479d2e9712f3cc449669367f770/proof.ipynb\" style=\"text-decoration: none\">&nbsp;&#x22A2;&nbsp;&nbsp;</a><a class=\"ProveItLink\" href=\"../__pv_it/theorems/fc8eebf736fb357954cbd39f3c8deb41845fe5ab0/expr.ipynb\"><img src=\"data:image/png;base64,iVBORw0KGgoAAAANSUhEUgAAAFYAAAAUBAMAAADl6NejAAAAMFBMVEX///+6uroQEBCqqqqIiIgy\n",
       "MjJERETu7u6YmJjMzMxUVFTc3Nx2dnYiIiJmZmYAAAAutVgsAAAAAXRSTlMAQObYZgAAAXlJREFU\n",
       "KM9jYECAHQx4APMGZB57ApjiDEBVxLH+17tliQwMq5EFWSE6WT+AyAlgbWABJqAZ7ycwlCKr7YNQ\n",
       "rd9B5EoQ0QIWmN/AwCD/gIHHAUntbYhL7H6DqFkg4jpYxB9oX78DA7sCQin3BYjzWD7CHMT4ACyS\n",
       "BDRAt4CBIRChlgUiI878A+xtII8N4oFfDAxzlwPpcwi1bA1gJwhwfgFzgbZMg4TLrw63y2CPMLy9\n",
       "CwR3gExeA5AAIwP3P7ASFwaGhRD7gO4vWgBk2ELM3AUKGgGwn969+gYWqmVghwQ0G9BPLJ9B4YGu\n",
       "FkiogoX4DHjAFjHwA81k+YKqFuwGZiC+BAmWAF4GePBygcJGFqEW7LfNQBwPEcuExAQ4eOcngP3G\n",
       "AItMngfQMM6HBNUsSEwwBAE9rAYMXoY3iDBjvMDAnv+1gMHs/z1IuoCE99L/616lgV0eiRHHiHgs\n",
       "QOWzX8BMO7gAStph24BXbSmWtI4LZKPw8OYhjg0MABWuXKLalKd0AAAAAElFTkSuQmCC\n",
       "\" style=\"display:inline;vertical-align:middle;\" /></a></span>"
      ],
      "text/plain": [
       "{not(A), not(B)} |- not(A or B)"
      ]
     },
     "execution_count": 15,
     "metadata": {},
     "output_type": "execute_result"
    }
   ],
   "source": [
    "Not(Or(A,B)).prove([Not(A), Not(B)])"
   ]
  },
  {
   "cell_type": "code",
   "execution_count": 16,
   "metadata": {},
   "outputs": [
    {
     "data": {
      "text/html": [
       "<span style=\"font-size:20px;\"><a class=\"ProveItLink\" href=\"../__pv_it/axioms/64d599a7acc604adfa976ed673118f75c53672710/expr.ipynb\"><img src=\"data:image/png;base64,iVBORw0KGgoAAAANSUhEUgAAADcAAAAPBAMAAACy3Eq1AAAAMFBMVEX///92dnYiIiIQEBBERERU\n",
       "VFS6urqIiIjc3NxmZmaqqqru7u6YmJgyMjLMzMwAAADiRdoGAAAAAXRSTlMAQObYZgAAAQVJREFU\n",
       "GNNjYACBtwyogCf+68wQNyjnPojgAzMfgElmBwaG+RAmz/0NQJIVxOEpAIu8P8DAkD8BzNw1vwGk\n",
       "MwBIMG0Ai9QDBc5D1B2oTwBRN4A4E2KPMwMDtxFYHduG9QdA9Eog9oBIfmVgeBQNZm1jeA82gQlo\n",
       "tANYhO/rmRItiLIEhn6w3ewFDKxg8xnYfzAwbA4AK4ucGQ/WwK3AsBeinMUAqOAX2Eqgty6AxWYx\n",
       "SEEk+YG62L+DWAuAthmAxXoZFBjg3mT9BmRwACV5P0BMewPxGtib70FWNYFEf0AcGQQJAobLQMtM\n",
       "gOwt/28zcPl/ggTVTYhc7P/IqS4L0CKDoRuVCwDjpEGwITo9cgAAAABJRU5ErkJggg==\n",
       "\" style=\"display:inline;vertical-align:middle;\" /></a>, <a class=\"ProveItLink\" href=\"../../negation/__pv_it/theorems/e025e57903ee24d89047aba8869ea7beb1da67b40/expr.ipynb\"><img src=\"data:image/png;base64,iVBORw0KGgoAAAANSUhEUgAAABwAAAAOBAMAAADOPWE3AAAAMFBMVEX///8QEBBERES6urqIiIiq\n",
       "qqru7u6YmJgyMjLMzMxUVFTc3Nx2dnYiIiJmZmYAAAAfdW6kAAAAAXRSTlMAQObYZgAAAGNJREFU\n",
       "CNdjYEAAzgYGZMDxAYVb8Q2Zxxb3G5nLzvIZmWvG+h1ZrQHnFwaGt3eB4A6Qy8zA/Q8qswuIZ717\n",
       "9QmJa8DAIIHgsgKpiwjuViDVD3MtA/cFIKW/AWaL/o8EhqD/9wA5jBwoctwhSQAAAABJRU5ErkJg\n",
       "gg==\n",
       "\" style=\"display:inline;vertical-align:middle;\" /></a>, <a class=\"ProveItLink\" href=\"../__pv_it/theorems/7e62a2cc7488cf98fcf25c6e4b2091ce54d5d3b80/expr.ipynb\"><img src=\"data:image/png;base64,iVBORw0KGgoAAAANSUhEUgAAAB0AAAAOBAMAAAAh/woJAAAAMFBMVEX///8yMjKqqqru7u6IiIgQ\n",
       "EBC6urpERESYmJjMzMxUVFTc3Nx2dnYiIiJmZmYAAABbDZECAAAAAXRSTlMAQObYZgAAAH9JREFU\n",
       "CNdjYIACjvW/3i0vY0AA1gIGhvcTEPz5DQwM+Q8QfP8NDAz9Dgh+KQMDc6wBgv+LgWHuYgSX81eH\n",
       "+yUg/fYuENxhYGD5zcBgugAquYuBgT0AKPYJwecHyrF8QfBB1nN9Q/BB1s8vgBnOwCDKwMAWjrB+\n",
       "4f91r8oVGBgAyy8lZJPyWlAAAAAASUVORK5CYII=\n",
       "\" style=\"display:inline;vertical-align:middle;\" /></a> <a class=\"ProveItLink\" href=\"../__pv_it/demonstrations/b3431555d24188968e9de92b71777a392839a7d50/proof.ipynb\" style=\"text-decoration: none\">&nbsp;&#x22A2;&nbsp;&nbsp;</a><a class=\"ProveItLink\" href=\"../../__pv_it/common/bc5c31e39ae582b67c89fb24025b57f5b995e8890/expr.ipynb\"><img src=\"data:image/png;base64,iVBORw0KGgoAAAANSUhEUgAAAA4AAAAOBAMAAADtZjDiAAAAG1BMVEX///9UVFQQEBAiIiJmZmaI\n",
       "iIiqqqrMzMwAAADC2JlRAAAAAXRSTlMAQObYZgAAABlJREFUCNdjYGBgKGOAgFRa0s7GxkrGxoYA\n",
       "QSUGlQeagkgAAAAASUVORK5CYII=\n",
       "\" style=\"display:inline;vertical-align:middle;\" /></a></span>"
      ],
      "text/plain": [
       "{A or B, not(A), not(B)} |- FALSE"
      ]
     },
     "execution_count": 16,
     "metadata": {},
     "output_type": "execute_result"
    }
   ],
   "source": [
    "Or(A,B).derive_contradiction([Not(A),Not(B), Or(A,B)])"
   ]
  },
  {
   "cell_type": "code",
   "execution_count": 17,
   "metadata": {},
   "outputs": [
    {
     "data": {
      "text/html": [
       "<span style=\"font-size:20px;\"><a class=\"ProveItLink\" href=\"../../__pv_it/theorems/ddc941563dffabdeb005429c2f934b2b6ccbeab10/expr.ipynb\"><img src=\"data:image/png;base64,iVBORw0KGgoAAAANSUhEUgAAADYAAAAPBAMAAABdHiGLAAAAMFBMVEX///92dnYiIiIQEBBERERU\n",
       "VFS6urqIiIjc3NxmZmaqqqru7u6YmJgyMjLMzMwAAADiRdoGAAAAAXRSTlMAQObYZgAAANdJREFU\n",
       "GNNjYACBtwwogF3Z5a9RGJRzH1WOgZevYMvOA2Amz/0NqHIsbAfYHziAmbvmN0DEeJyUdKFyXAsg\n",
       "cgfqE8A0n/sGuD7GbLAc24b1ELP3bkCYmfT0AYi1jeF9AVgoAmGf0X8zMCuBoX8CmOGA5BbGMwIg\n",
       "WyJnxoNF+WzvAgFUjsEhB2QdAwPzBZAIB7I+BgdWIGMBAwOTAVjIAFkugBeoGijH+wEsNB1F30EG\n",
       "hiYQ+wdYiGkBPMwEGCUDGLb8v83A5f8J7FDukGzMsIYBNhFImEEAAEUpOYcaSaDVAAAAAElFTkSu\n",
       "QmCC\n",
       "\" style=\"display:inline;vertical-align:middle;\" /></a>, <a class=\"ProveItLink\" href=\"../__pv_it/theorems/67501eb487d67b93f0ec3f6965561f782e470d670/expr.ipynb\"><img src=\"data:image/png;base64,iVBORw0KGgoAAAANSUhEUgAAADcAAAAPBAMAAACy3Eq1AAAAMFBMVEX///92dnYyMjKqqqoiIiLu\n",
       "7u7c3NyIiIjMzMwQEBC6urpERERmZmZUVFSYmJgAAADEjrHzAAAAAXRSTlMAQObYZgAAAOZJREFU\n",
       "GNNjYGB4+//O2d0LGJBByez9mr4QodkMDDw/UCQZFNpZt54DMTj+MTBw/UGV3LCOoYIbxGD/xsDA\n",
       "9x0sxrfFxQkmaQyW5J7AwBDpCjZjewBCp1Q0iMF/gYHDFywaFIAwlsvjBojRf+/5FgOw0DWEnSv9\n",
       "f4JdW5/AwDoXIoTsILmHIMZOkAKQVo5JSkAAk+TmegBk/AVJFgAJNhSd3AwXIN5kuA+2YAKyJC+D\n",
       "AsSbHL/BQsdRdPIJMDAwAdWv3AoWYjGAB18jg+BZBgZe/b9nbm+GCLHeXooR8AjAJQ0NPggAAH2B\n",
       "SAzP/7V+AAAAAElFTkSuQmCC\n",
       "\" style=\"display:inline;vertical-align:middle;\" /></a>, <a class=\"ProveItLink\" href=\"../__pv_it/axioms/64d599a7acc604adfa976ed673118f75c53672710/expr.ipynb\"><img src=\"data:image/png;base64,iVBORw0KGgoAAAANSUhEUgAAADcAAAAPBAMAAACy3Eq1AAAAMFBMVEX///92dnYiIiIQEBBERERU\n",
       "VFS6urqIiIjc3NxmZmaqqqru7u6YmJgyMjLMzMwAAADiRdoGAAAAAXRSTlMAQObYZgAAAQVJREFU\n",
       "GNNjYACBtwyogCf+68wQNyjnPojgAzMfgElmBwaG+RAmz/0NQJIVxOEpAIu8P8DAkD8BzNw1vwGk\n",
       "MwBIMG0Ai9QDBc5D1B2oTwBRN4A4E2KPMwMDtxFYHduG9QdA9Eog9oBIfmVgeBQNZm1jeA82gQlo\n",
       "tANYhO/rmRItiLIEhn6w3ewFDKxg8xnYfzAwbA4AK4ucGQ/WwK3AsBeinMUAqOAX2Eqgty6AxWYx\n",
       "SEEk+YG62L+DWAuAthmAxXoZFBjg3mT9BmRwACV5P0BMewPxGtib70FWNYFEf0AcGQQJAobLQMtM\n",
       "gOwt/28zcPl/ggTVTYhc7P/IqS4L0CKDoRuVCwDjpEGwITo9cgAAAABJRU5ErkJggg==\n",
       "\" style=\"display:inline;vertical-align:middle;\" /></a>, <a class=\"ProveItLink\" href=\"../__pv_it/theorems/7e62a2cc7488cf98fcf25c6e4b2091ce54d5d3b80/expr.ipynb\"><img src=\"data:image/png;base64,iVBORw0KGgoAAAANSUhEUgAAAB0AAAAOBAMAAAAh/woJAAAAMFBMVEX///8yMjKqqqru7u6IiIgQ\n",
       "EBC6urpERESYmJjMzMxUVFTc3Nx2dnYiIiJmZmYAAABbDZECAAAAAXRSTlMAQObYZgAAAH9JREFU\n",
       "CNdjYIACjvW/3i0vY0AA1gIGhvcTEPz5DQwM+Q8QfP8NDAz9Dgh+KQMDc6wBgv+LgWHuYgSX81eH\n",
       "+yUg/fYuENxhYGD5zcBgugAquYuBgT0AKPYJwecHyrF8QfBB1nN9Q/BB1s8vgBnOwCDKwMAWjrB+\n",
       "4f91r8oVGBgAyy8lZJPyWlAAAAAASUVORK5CYII=\n",
       "\" style=\"display:inline;vertical-align:middle;\" /></a> <a class=\"ProveItLink\" href=\"../__pv_it/demonstrations/56e755fd11d4c224e3b08ed180d70516a663c7da0/proof.ipynb\" style=\"text-decoration: none\">&nbsp;&#x22A2;&nbsp;&nbsp;</a><a class=\"ProveItLink\" href=\"../../../../__pv_it/common/e4aad701f7f5516d8e7f0d805d518bf02c13322a0/expr.ipynb\"><img src=\"data:image/png;base64,iVBORw0KGgoAAAANSUhEUgAAAA8AAAAOBAMAAAACpFvcAAAALVBMVEX///8iIiIQEBBERERUVFS6\n",
       "urqIiIjc3NxmZmaqqqru7u6YmJgyMjLMzMwAAACK9jtgAAAAAXRSTlMAQObYZgAAAFtJREFUCNdj\n",
       "YACBOwxQcA5Kc59bAGGs7CuAMDbkBYBp1gXzNoAZSxnuJYAZAQx1DSCa16PDzwCshIGB6QCIMYGB\n",
       "gVEBSLMDGTwPgIxCIGZ+zsCw+N0pBk67hw0AfpEVEQi8t+wAAAAASUVORK5CYII=\n",
       "\" style=\"display:inline;vertical-align:middle;\" /></a></span>"
      ],
      "text/plain": [
       "{A in BOOLEAN, B in BOOLEAN, A or B, not(B)} |- A"
      ]
     },
     "execution_count": 17,
     "metadata": {},
     "output_type": "execute_result"
    }
   ],
   "source": [
    "Or(A,B).derive_left_if_not_right([in_bool(A), in_bool(B), Not(B), Or(A,B)])"
   ]
  },
  {
   "cell_type": "code",
   "execution_count": 18,
   "metadata": {},
   "outputs": [
    {
     "data": {
      "text/html": [
       "<span style=\"font-size:20px;\"><a class=\"ProveItLink\" href=\"../../__pv_it/theorems/ddc941563dffabdeb005429c2f934b2b6ccbeab10/expr.ipynb\"><img src=\"data:image/png;base64,iVBORw0KGgoAAAANSUhEUgAAADYAAAAPBAMAAABdHiGLAAAAMFBMVEX///92dnYiIiIQEBBERERU\n",
       "VFS6urqIiIjc3NxmZmaqqqru7u6YmJgyMjLMzMwAAADiRdoGAAAAAXRSTlMAQObYZgAAANdJREFU\n",
       "GNNjYACBtwwogF3Z5a9RGJRzH1WOgZevYMvOA2Amz/0NqHIsbAfYHziAmbvmN0DEeJyUdKFyXAsg\n",
       "cgfqE8A0n/sGuD7GbLAc24b1ELP3bkCYmfT0AYi1jeF9AVgoAmGf0X8zMCuBoX8CmOGA5BbGMwIg\n",
       "WyJnxoNF+WzvAgFUjsEhB2QdAwPzBZAIB7I+BgdWIGMBAwOTAVjIAFkugBeoGijH+wEsNB1F30EG\n",
       "hiYQ+wdYiGkBPMwEGCUDGLb8v83A5f8J7FDukGzMsIYBNhFImEEAAEUpOYcaSaDVAAAAAElFTkSu\n",
       "QmCC\n",
       "\" style=\"display:inline;vertical-align:middle;\" /></a>, <a class=\"ProveItLink\" href=\"../__pv_it/theorems/67501eb487d67b93f0ec3f6965561f782e470d670/expr.ipynb\"><img src=\"data:image/png;base64,iVBORw0KGgoAAAANSUhEUgAAADcAAAAPBAMAAACy3Eq1AAAAMFBMVEX///92dnYyMjKqqqoiIiLu\n",
       "7u7c3NyIiIjMzMwQEBC6urpERERmZmZUVFSYmJgAAADEjrHzAAAAAXRSTlMAQObYZgAAAOZJREFU\n",
       "GNNjYGB4+//O2d0LGJBByez9mr4QodkMDDw/UCQZFNpZt54DMTj+MTBw/UGV3LCOoYIbxGD/xsDA\n",
       "9x0sxrfFxQkmaQyW5J7AwBDpCjZjewBCp1Q0iMF/gYHDFywaFIAwlsvjBojRf+/5FgOw0DWEnSv9\n",
       "f4JdW5/AwDoXIoTsILmHIMZOkAKQVo5JSkAAk+TmegBk/AVJFgAJNhSd3AwXIN5kuA+2YAKyJC+D\n",
       "AsSbHL/BQsdRdPIJMDAwAdWv3AoWYjGAB18jg+BZBgZe/b9nbm+GCLHeXooR8AjAJQ0NPggAAH2B\n",
       "SAzP/7V+AAAAAElFTkSuQmCC\n",
       "\" style=\"display:inline;vertical-align:middle;\" /></a>, <a class=\"ProveItLink\" href=\"../__pv_it/axioms/64d599a7acc604adfa976ed673118f75c53672710/expr.ipynb\"><img src=\"data:image/png;base64,iVBORw0KGgoAAAANSUhEUgAAADcAAAAPBAMAAACy3Eq1AAAAMFBMVEX///92dnYiIiIQEBBERERU\n",
       "VFS6urqIiIjc3NxmZmaqqqru7u6YmJgyMjLMzMwAAADiRdoGAAAAAXRSTlMAQObYZgAAAQVJREFU\n",
       "GNNjYACBtwyogCf+68wQNyjnPojgAzMfgElmBwaG+RAmz/0NQJIVxOEpAIu8P8DAkD8BzNw1vwGk\n",
       "MwBIMG0Ai9QDBc5D1B2oTwBRN4A4E2KPMwMDtxFYHduG9QdA9Eog9oBIfmVgeBQNZm1jeA82gQlo\n",
       "tANYhO/rmRItiLIEhn6w3ewFDKxg8xnYfzAwbA4AK4ucGQ/WwK3AsBeinMUAqOAX2Eqgty6AxWYx\n",
       "SEEk+YG62L+DWAuAthmAxXoZFBjg3mT9BmRwACV5P0BMewPxGtib70FWNYFEf0AcGQQJAobLQMtM\n",
       "gOwt/28zcPl/ggTVTYhc7P/IqS4L0CKDoRuVCwDjpEGwITo9cgAAAABJRU5ErkJggg==\n",
       "\" style=\"display:inline;vertical-align:middle;\" /></a>, <a class=\"ProveItLink\" href=\"../../negation/__pv_it/theorems/e025e57903ee24d89047aba8869ea7beb1da67b40/expr.ipynb\"><img src=\"data:image/png;base64,iVBORw0KGgoAAAANSUhEUgAAABwAAAAOBAMAAADOPWE3AAAAMFBMVEX///8QEBBERES6urqIiIiq\n",
       "qqru7u6YmJgyMjLMzMxUVFTc3Nx2dnYiIiJmZmYAAAAfdW6kAAAAAXRSTlMAQObYZgAAAGNJREFU\n",
       "CNdjYEAAzgYGZMDxAYVb8Q2Zxxb3G5nLzvIZmWvG+h1ZrQHnFwaGt3eB4A6Qy8zA/Q8qswuIZ717\n",
       "9QmJa8DAIIHgsgKpiwjuViDVD3MtA/cFIKW/AWaL/o8EhqD/9wA5jBwoctwhSQAAAABJRU5ErkJg\n",
       "gg==\n",
       "\" style=\"display:inline;vertical-align:middle;\" /></a> <a class=\"ProveItLink\" href=\"../__pv_it/demonstrations/3258b45c061e86cb96b9b0ed871e887449b568f50/proof.ipynb\" style=\"text-decoration: none\">&nbsp;&#x22A2;&nbsp;&nbsp;</a><a class=\"ProveItLink\" href=\"../../../../__pv_it/common/4eca3b30dcf58a58494e201d1b7886d8643a617b0/expr.ipynb\"><img src=\"data:image/png;base64,iVBORw0KGgoAAAANSUhEUgAAABAAAAAOBAMAAADUAYG5AAAALVBMVEX///8yMjKqqqoiIiLu7u7c\n",
       "3NyIiIjMzMwQEBC6urpERERmZmZUVFSYmJgAAACsPVCVAAAAAXRSTlMAQObYZgAAAGxJREFUCNdj\n",
       "YGC48+70nlUTGICgi4GB+zmQZn/LwMD5Gshge8rAwPsMyOBqYGDwMAEy+A4wsNs4ABl1Z68tVgBp\n",
       "ygtgYOkBMVaAOCChNyBGAsQYhnMTIMawvwJyGIHGzFjCwMAj92b3qUUMDAAXABxvZ4rl5AAAAABJ\n",
       "RU5ErkJggg==\n",
       "\" style=\"display:inline;vertical-align:middle;\" /></a></span>"
      ],
      "text/plain": [
       "{A in BOOLEAN, B in BOOLEAN, A or B, not(A)} |- B"
      ]
     },
     "execution_count": 18,
     "metadata": {},
     "output_type": "execute_result"
    }
   ],
   "source": [
    "Or(A,B).derive_right_if_not_left([*in_bool(A,B), Not(A), Or(A,B)])"
   ]
  },
  {
   "cell_type": "code",
   "execution_count": 19,
   "metadata": {},
   "outputs": [
    {
     "data": {
      "text/html": [
       "<span style=\"font-size:20px;\"><a class=\"ProveItLink\" href=\"../../__pv_it/theorems/ddc941563dffabdeb005429c2f934b2b6ccbeab10/expr.ipynb\"><img src=\"data:image/png;base64,iVBORw0KGgoAAAANSUhEUgAAADYAAAAPBAMAAABdHiGLAAAAMFBMVEX///92dnYiIiIQEBBERERU\n",
       "VFS6urqIiIjc3NxmZmaqqqru7u6YmJgyMjLMzMwAAADiRdoGAAAAAXRSTlMAQObYZgAAANdJREFU\n",
       "GNNjYACBtwwogF3Z5a9RGJRzH1WOgZevYMvOA2Amz/0NqHIsbAfYHziAmbvmN0DEeJyUdKFyXAsg\n",
       "cgfqE8A0n/sGuD7GbLAc24b1ELP3bkCYmfT0AYi1jeF9AVgoAmGf0X8zMCuBoX8CmOGA5BbGMwIg\n",
       "WyJnxoNF+WzvAgFUjsEhB2QdAwPzBZAIB7I+BgdWIGMBAwOTAVjIAFkugBeoGijH+wEsNB1F30EG\n",
       "hiYQ+wdYiGkBPMwEGCUDGLb8v83A5f8J7FDukGzMsIYBNhFImEEAAEUpOYcaSaDVAAAAAElFTkSu\n",
       "QmCC\n",
       "\" style=\"display:inline;vertical-align:middle;\" /></a>, <a class=\"ProveItLink\" href=\"../__pv_it/theorems/67501eb487d67b93f0ec3f6965561f782e470d670/expr.ipynb\"><img src=\"data:image/png;base64,iVBORw0KGgoAAAANSUhEUgAAADcAAAAPBAMAAACy3Eq1AAAAMFBMVEX///92dnYyMjKqqqoiIiLu\n",
       "7u7c3NyIiIjMzMwQEBC6urpERERmZmZUVFSYmJgAAADEjrHzAAAAAXRSTlMAQObYZgAAAOZJREFU\n",
       "GNNjYGB4+//O2d0LGJBByez9mr4QodkMDDw/UCQZFNpZt54DMTj+MTBw/UGV3LCOoYIbxGD/xsDA\n",
       "9x0sxrfFxQkmaQyW5J7AwBDpCjZjewBCp1Q0iMF/gYHDFywaFIAwlsvjBojRf+/5FgOw0DWEnSv9\n",
       "f4JdW5/AwDoXIoTsILmHIMZOkAKQVo5JSkAAk+TmegBk/AVJFgAJNhSd3AwXIN5kuA+2YAKyJC+D\n",
       "AsSbHL/BQsdRdPIJMDAwAdWv3AoWYjGAB18jg+BZBgZe/b9nbm+GCLHeXooR8AjAJQ0NPggAAH2B\n",
       "SAzP/7V+AAAAAElFTkSuQmCC\n",
       "\" style=\"display:inline;vertical-align:middle;\" /></a>, <a class=\"ProveItLink\" href=\"../__pv_it/axioms/64d599a7acc604adfa976ed673118f75c53672710/expr.ipynb\"><img src=\"data:image/png;base64,iVBORw0KGgoAAAANSUhEUgAAADcAAAAPBAMAAACy3Eq1AAAAMFBMVEX///92dnYiIiIQEBBERERU\n",
       "VFS6urqIiIjc3NxmZmaqqqru7u6YmJgyMjLMzMwAAADiRdoGAAAAAXRSTlMAQObYZgAAAQVJREFU\n",
       "GNNjYACBtwyogCf+68wQNyjnPojgAzMfgElmBwaG+RAmz/0NQJIVxOEpAIu8P8DAkD8BzNw1vwGk\n",
       "MwBIMG0Ai9QDBc5D1B2oTwBRN4A4E2KPMwMDtxFYHduG9QdA9Eog9oBIfmVgeBQNZm1jeA82gQlo\n",
       "tANYhO/rmRItiLIEhn6w3ewFDKxg8xnYfzAwbA4AK4ucGQ/WwK3AsBeinMUAqOAX2Eqgty6AxWYx\n",
       "SEEk+YG62L+DWAuAthmAxXoZFBjg3mT9BmRwACV5P0BMewPxGtib70FWNYFEf0AcGQQJAobLQMtM\n",
       "gOwt/28zcPl/ggTVTYhc7P/IqS4L0CKDoRuVCwDjpEGwITo9cgAAAABJRU5ErkJggg==\n",
       "\" style=\"display:inline;vertical-align:middle;\" /></a>, <a class=\"ProveItLink\" href=\"../__pv_it/theorems/56a3e61828ec431744fbff6a1a85c149617bc5cf0/expr.ipynb\"><img src=\"data:image/png;base64,iVBORw0KGgoAAAANSUhEUgAAAD8AAAAPBAMAAAChCwpBAAAAMFBMVEX///92dnYiIiIQEBBERERU\n",
       "VFS6urqIiIjc3NxmZmaqqqru7u6YmJgyMjLMzMwAAADiRdoGAAAAAXRSTlMAQObYZgAAAONJREFU\n",
       "GNNjYACBtwxYAHdJZAyHAIR9H5uC4gMMXJMPgJk89zdgym/RBhLzG8DsXVAaBFhgzMsgTckQ9oH6\n",
       "BLgCPgcIzfkLRL4Es9k2rD+AMPokhOpXAJE7wOxtDO8LQPQkJRDQnwAWlC9A6Elg6J+A5Lq1C0Ck\n",
       "/gOErZEz4x2Q/X8Z5CJ7sMfABBsDA/MFJAWtEmATQAQX2BigiUwGIMbcu2BwA6wM7HNGEIsDqID3\n",
       "A8KAXKgvQI6UBrGaQKHzA+GC2xCa6w8Dw0qQE7b8v83A5f8J7g1WmOt3ukYmYIsiDjQ+AHM/PMle\n",
       "6aWhAAAAAElFTkSuQmCC\n",
       "\" style=\"display:inline;vertical-align:middle;\" /></a>, <a class=\"ProveItLink\" href=\"../__pv_it/theorems/398fa5b07c71606bda8c87d8103665c56906dbde0/expr.ipynb\"><img src=\"data:image/png;base64,iVBORw0KGgoAAAANSUhEUgAAAEEAAAAPBAMAAABJi79qAAAAMFBMVEX///92dnYyMjKqqqoiIiLu\n",
       "7u7c3NyIiIjMzMwQEBC6urpERERmZmZUVFSYmJgAAADEjrHzAAAAAXRSTlMAQObYZgAAAPdJREFU\n",
       "GNNjYGB4+//O2d0LGDABa/Wde2wCINZsBgaeH1hUVD5gYD75AMjg+MfAwPUHU0G0K5A4nwAk2L8x\n",
       "MPB9h0twJ0AZmgFAYiVYaAIDQ6QrXAXHBgjN8xlE9oAI/gsMHL4BCNPfQKh8BxAZBiL67z3fYgAW\n",
       "POICAv4HwBz5Arie+gQG1rnITjQCq/dvgAvsBKkyQA4HTVDozAdbDCb+glQUIKnIFQObASKYG6DB\n",
       "wXAfHKaHlMBADawOHBKMDNDg4PiNZMQiqF9AxoqCWEzA4Fi5FckVqhCaGWi2DcgZvPp/z9zejGQE\n",
       "L8wPMXvvYItPBgY2ND4AIAc997kUO5QAAAAASUVORK5CYII=\n",
       "\" style=\"display:inline;vertical-align:middle;\" /></a> <a class=\"ProveItLink\" href=\"../__pv_it/demonstrations/44a0b3eb57ba17d4281e73a5c0af894c73fbd9f70/proof.ipynb\" style=\"text-decoration: none\">&nbsp;&#x22A2;&nbsp;&nbsp;</a><a class=\"ProveItLink\" href=\"../../../../__pv_it/common/c4a83a53f0ed6678b0c7a2d6d691a4b400f735c90/expr.ipynb\"><img src=\"data:image/png;base64,iVBORw0KGgoAAAANSUhEUgAAAA8AAAAOBAMAAAACpFvcAAAAMFBMVEX////MzMy6uroyMjIiIiKq\n",
       "qqoQEBB2dnbc3NyYmJhmZmZUVFRERESIiIju7u4AAACOKgoaAAAAAXRSTlMAQObYZgAAAGRJREFU\n",
       "CNdjYGDgu7NrJ0cBAwPDtQkMrMsmMDC88QNy1jcwMJg9ADLUGBi4vgJpBikGhn4HEOMFA0P9BQYI\n",
       "8BeAMvJBahmAhD+IZhWAmMDADsT9IMV1INGfDAxRYHWvTu9SAFIARRcYB3lKsPwAAAAASUVORK5C\n",
       "YII=\n",
       "\" style=\"display:inline;vertical-align:middle;\" /></a></span>"
      ],
      "text/plain": [
       "{A in BOOLEAN, B in BOOLEAN, A or B, A => C, B => C} |- C"
      ]
     },
     "execution_count": 19,
     "metadata": {},
     "output_type": "execute_result"
    }
   ],
   "source": [
    "Or(A,B).derive_via_dilemma(C,assumptions=[Or(A,B),in_bool(B),Implies(A,C), Implies(B,C), in_bool(A), Implies(A,Or(C,D)), Implies(B, Or(C,D))])"
   ]
  },
  {
   "cell_type": "code",
   "execution_count": 20,
   "metadata": {},
   "outputs": [
    {
     "data": {
      "text/html": [
       "<span style=\"font-size:20px;\"><a class=\"ProveItLink\" href=\"../../__pv_it/theorems/ddc941563dffabdeb005429c2f934b2b6ccbeab10/expr.ipynb\"><img src=\"data:image/png;base64,iVBORw0KGgoAAAANSUhEUgAAADYAAAAPBAMAAABdHiGLAAAAMFBMVEX///92dnYiIiIQEBBERERU\n",
       "VFS6urqIiIjc3NxmZmaqqqru7u6YmJgyMjLMzMwAAADiRdoGAAAAAXRSTlMAQObYZgAAANdJREFU\n",
       "GNNjYACBtwwogF3Z5a9RGJRzH1WOgZevYMvOA2Amz/0NqHIsbAfYHziAmbvmN0DEeJyUdKFyXAsg\n",
       "cgfqE8A0n/sGuD7GbLAc24b1ELP3bkCYmfT0AYi1jeF9AVgoAmGf0X8zMCuBoX8CmOGA5BbGMwIg\n",
       "WyJnxoNF+WzvAgFUjsEhB2QdAwPzBZAIB7I+BgdWIGMBAwOTAVjIAFkugBeoGijH+wEsNB1F30EG\n",
       "hiYQ+wdYiGkBPMwEGCUDGLb8v83A5f8J7FDukGzMsIYBNhFImEEAAEUpOYcaSaDVAAAAAElFTkSu\n",
       "QmCC\n",
       "\" style=\"display:inline;vertical-align:middle;\" /></a>, <a class=\"ProveItLink\" href=\"../__pv_it/theorems/67501eb487d67b93f0ec3f6965561f782e470d670/expr.ipynb\"><img src=\"data:image/png;base64,iVBORw0KGgoAAAANSUhEUgAAADcAAAAPBAMAAACy3Eq1AAAAMFBMVEX///92dnYyMjKqqqoiIiLu\n",
       "7u7c3NyIiIjMzMwQEBC6urpERERmZmZUVFSYmJgAAADEjrHzAAAAAXRSTlMAQObYZgAAAOZJREFU\n",
       "GNNjYGB4+//O2d0LGJBByez9mr4QodkMDDw/UCQZFNpZt54DMTj+MTBw/UGV3LCOoYIbxGD/xsDA\n",
       "9x0sxrfFxQkmaQyW5J7AwBDpCjZjewBCp1Q0iMF/gYHDFywaFIAwlsvjBojRf+/5FgOw0DWEnSv9\n",
       "f4JdW5/AwDoXIoTsILmHIMZOkAKQVo5JSkAAk+TmegBk/AVJFgAJNhSd3AwXIN5kuA+2YAKyJC+D\n",
       "AsSbHL/BQsdRdPIJMDAwAdWv3AoWYjGAB18jg+BZBgZe/b9nbm+GCLHeXooR8AjAJQ0NPggAAH2B\n",
       "SAzP/7V+AAAAAElFTkSuQmCC\n",
       "\" style=\"display:inline;vertical-align:middle;\" /></a>, <a class=\"ProveItLink\" href=\"../__pv_it/demonstrations/6d4a76c8afef1311edaf37cd3d7c58f6a0f3bae70/expr.ipynb\"><img src=\"data:image/png;base64,iVBORw0KGgoAAAANSUhEUgAAADYAAAAPBAMAAABdHiGLAAAAMFBMVEX////MzMy6uroyMjIiIiKq\n",
       "qqoQEBB2dnbc3NyYmJhmZmZUVFRERESIiIju7u4AAACOKgoaAAAAAXRSTlMAQObYZgAAANxJREFU\n",
       "GNNjYGDgu7NrJ0cBAxLgdTvzOWUTiHVtAgPrsgnIcgzMjBfevAIKvfEDctY3oMjxME3gFTjAwGD2\n",
       "AMhRg4jNcXExgMqxBhxg4PoK4kiBpWTuIfSx6x1g6HcAcV6ACD47JDNVpAUY6i/AbeFuQMil/E9i\n",
       "YPAXQLgA2S3sMwsY8kFOYQATYsZAAHMLwwFNBn8QmxWsuQdZH8MBbojP2MEibChyG5gZ+kFuqQOL\n",
       "cF1A0TedgfUnA0PUA4iQKyLMCtirNjAwvDq9SwEq9PrQA7SwRgLqRyBhBgEActk8e8zZ+EcAAAAA\n",
       "SUVORK5CYII=\n",
       "\" style=\"display:inline;vertical-align:middle;\" /></a>, <a class=\"ProveItLink\" href=\"../__pv_it/demonstrations/fd6d96a8fa1d80eb29daf8272b5460a0b6c3669c0/expr.ipynb\"><img src=\"data:image/png;base64,iVBORw0KGgoAAAANSUhEUgAAADgAAAAPBAMAAABD1xE4AAAAMFBMVEX///8iIiLu7u52dna6uroQ\n",
       "EBBmZmaIiIjMzMyqqqoyMjLc3NxERERUVFSYmJgAAAAdjRNVAAAAAXRSTlMAQObYZgAAAONJREFU\n",
       "GNNjYGB4+//snbMbGJABu+iZX4FXwMxfDAx8P1EkGbg4CnTUHgAZHN+BRCqqJA/LA/aGAyAzfgAJ\n",
       "/wdgQb6DglJQSc4JIEmeD0BivwFIjOO4AlwnsxNIkh9E+F8AiWkpIIx17G0AMvoLgEQ9WOdthJ2B\n",
       "/0NAjHqQivsOIOYBJAcxvwOpPw/ifQVbGbUKCKCSDAf8gIw/IFf+AwlxI+tkOMAL9aYqRDgAWfIC\n",
       "F8SbTKsgYukoOh8DQwroTccEiBjjBHjwGTCbXWDgXf839042VIzpjhN6wCMBFhtI8EEAALZERsGv\n",
       "6x6JAAAAAElFTkSuQmCC\n",
       "\" style=\"display:inline;vertical-align:middle;\" /></a>, <a class=\"ProveItLink\" href=\"../__pv_it/demonstrations/bca6a62397124fb717dfddfa797954f944dcbc520/expr.ipynb\"><img src=\"data:image/png;base64,iVBORw0KGgoAAAANSUhEUgAAAIcAAAAPBAMAAAA8KsGMAAAAMFBMVEX///92dnYiIiIQEBBERERU\n",
       "VFS6urqIiIjc3NxmZmaqqqru7u6YmJgyMjLMzMwAAADiRdoGAAAAAXRSTlMAQObYZgAAAfpJREFU\n",
       "OMuNUj1IW1EU/vJM8p55Jjo7OdtFpFsdQm3ESaVEQUpNcHMyg9AxbddSDLQRf4ZkdWkfVRQEIYt0\n",
       "KVToUhGJiG6WiDaN2Nb0/LyY+5x64Z2c+50v5+9+AJ8fCJ6uTH0lPXIP3E4VK6+C0F4zlU699C9V\n",
       "Nglxj8V2JIHScQCzh4D1odZNA/hLBW/8wlWPbISjXTlBahVgvmBi7mPidF6TN8OEz0JLNMi80yQ7\n",
       "JW4pMUHG8gTJE/A1Z2LxR2SiA2TOmPBAaPYtmfmK+JV8ln++0zenaYep9KBnYqUy1ylwOioQLQgt\n",
       "fEFmsYfdqPdRkq3TN6pJ6sDJMxNzLvnmcscxShDWbXYnuRPuFluoySYsKpXUWetfFvphYqFG+036\n",
       "gFP15H956SSLRenOziGS1VlpgRsTJmbdtpO8AKbUy/PeMxxPTK9kpAG3D7saDNMC7RsT6/gtN4l+\n",
       "gruvvHE2V7ISoii4il4NdlMXdsPELF4hPgjUWQ6VlfeTBfCHPQKsAcHe8rgtmUR+mZgoBDI9nH0L\n",
       "bZls8BQOJYlf6BTnOdzJpJY0MYf5IRURxlRqIhP3iL3XzLzWzE991jca8qEXwEgFsTV/s2cqNak9\n",
       "y2+y2TxEbPxSxXOgwefN6eITf+wW5r6fXGo9T1zZkWq9mF7G/fMG+B/M8YL3fyOBjcx4XdytAAAA\n",
       "AElFTkSuQmCC\n",
       "\" style=\"display:inline;vertical-align:middle;\" /></a>, <a class=\"ProveItLink\" href=\"../__pv_it/demonstrations/8703f05c9ed2798daebdce15c01d0eae89c56b6f0/expr.ipynb\"><img src=\"data:image/png;base64,iVBORw0KGgoAAAANSUhEUgAAAD8AAAAPBAMAAAChCwpBAAAAMFBMVEX///92dnYiIiIQEBBERERU\n",
       "VFS6urqIiIjc3NxmZmaqqqru7u6YmJgyMjLMzMwAAADiRdoGAAAAAXRSTlMAQObYZgAAAOxJREFU\n",
       "GNNjYACBtwyYgN3/y8xQ/QsQzn0sChj4gZI8DmAmz/0NWBTkFzAwcE8AM3fNb4ALs8CZ8g+ACgrA\n",
       "zAP1CXAFfA4wFtBeAQawcrYN6w8gTD4JY3xh4IEKb2N4DzZpkhII6EOsZWD7O9Ueal0CQ/8EJMet\n",
       "XQCmGP8x8EJtjZwZ74CkgPsy2EW8HxgYGfjAZjEwMF9AUtAqAQkGBwZuhu0gFtBEJgMQY+5dMLiB\n",
       "CAYGaSDmWAA2Dg5ykYKBLwDIaAKFzg+EC25DGfpAnAxUtOX/bQYu/09wb7A+gKiL/R851ekvlhjg\n",
       "QOMDAFM0PnJKf0unAAAAAElFTkSuQmCC\n",
       "\" style=\"display:inline;vertical-align:middle;\" /></a>, <a class=\"ProveItLink\" href=\"../__pv_it/demonstrations/1244e3f094a041846fb4162c2a36f5a5a1a28e670/expr.ipynb\"><img src=\"data:image/png;base64,iVBORw0KGgoAAAANSUhEUgAAAEEAAAAPBAMAAABJi79qAAAAMFBMVEX///92dnYyMjKqqqoiIiLu\n",
       "7u7c3NyIiIjMzMwQEBC6urpERERmZmZUVFSYmJgAAADEjrHzAAAAAXRSTlMAQObYZgAAAP9JREFU\n",
       "GNNjYGB4+//O2d0LGDAA+/7fZ+76K4CYsxkYeH5gqmDgB8rybQAyOP4xMHD9waJifQEDA+sBkGnf\n",
       "gEq/w8W3wVnyDUAVQFUM3BMYGCJd4eLdcJY+A4MAQwLIugsMHL4BcHG+AzDWbwa+B2BG/73nWwxA\n",
       "DB4XMIA5ievT2fkJYFZ9AgPrXCQHMitDaMYfDEwQ1k6QKgMkJUGzwBTTBwZGBg4Q6y9IRQFCAdtF\n",
       "iNn8GxhYGcKhwcFwHxSmPEoQkIAIDgZRaHBw/EYYwaWAFBwcF0DWAYNj5VYkV8A87g/EK4GqePX/\n",
       "nrm9GcmdNyAU6yVghG75hCUyGBLQ+AD5yUMtsmAUOgAAAABJRU5ErkJggg==\n",
       "\" style=\"display:inline;vertical-align:middle;\" /></a>, <a class=\"ProveItLink\" href=\"../__pv_it/demonstrations/ec8f4834f5b16b3d19a8c5974f90a15a58058e9b0/expr.ipynb\"><img src=\"data:image/png;base64,iVBORw0KGgoAAAANSUhEUgAAAEAAAAAPBAMAAACmSdRUAAAAMFBMVEX////MzMy6uroyMjIiIiKq\n",
       "qqoQEBB2dnbc3NyYmJhmZmZUVFRERESIiIju7u4AAACOKgoaAAAAAXRSTlMAQObYZgAAAPBJREFU\n",
       "GNNjYGDgu7NrJ0cBAwa48//U6i2fgYxrExhYl03AVMAAkpzDwPDGD0ivb8CUZ/oLJF4xMJg9ANJq\n",
       "cGEeuFL2j0DiLQPXVxBHCq6A8QCMxfyBgZ2Bg6HfAcR5gTB5FozBf4BhJpCqvwCXWuICAv4LoFx9\n",
       "q20/gJS/ALrjggMgdL0AgwGQyge5keEBkgI+MwUwbc/AUMAgwOAPYrMiG9NdAaH/APXxXYCEADtY\n",
       "ZLExGFggBQP7A4Z+kCPrkAxQRg4GaaDpPxkYopCcwGcHZbB8AJqSCArM07sUkAzghjrntf3vVXv8\n",
       "DTBjgAONDwDNtzzll5mfkwAAAABJRU5ErkJggg==\n",
       "\" style=\"display:inline;vertical-align:middle;\" /></a>, <a class=\"ProveItLink\" href=\"../__pv_it/demonstrations/68203b589d5a78fe872c48c3e8b5325c78829f7d0/expr.ipynb\"><img src=\"data:image/png;base64,iVBORw0KGgoAAAANSUhEUgAAAEIAAAAPBAMAAACivARpAAAAMFBMVEX///8iIiLu7u52dna6uroQ\n",
       "EBBmZmaIiIjMzMyqqqoyMjLc3NxERERUVFSYmJgAAAAdjRNVAAAAAXRSTlMAQObYZgAAAPFJREFU\n",
       "GNNjYGB4+//snbMbGDBBzf9juRd/gVhAgu8nFhUgCYY3QMzxHUikYlHAApJQA2L2H0DC/wFc4jSM\n",
       "wQySUAding9AYr8BXEUPjMH1gYGZgRvI4D8AMuMCXAVfApQBlHgHZvQXAIl6kBlsgmDwDarCf9nV\n",
       "32BGfQOQuO+AcCHnSght38CwAMw4DyK+IntCKwRMrWdgMGAAaf8DsvsfkgLuy5DwA0ooMBVAg0MV\n",
       "5FoGtlUQsAERHMwKkOBgWoUcUAuQgqMX4msGxwRkVyhAaEagBEsEAwPv+r+5d7KR3XkDQumu/5t2\n",
       "R34BtvhCi2YABNJGqmATIXAAAAAASUVORK5CYII=\n",
       "\" style=\"display:inline;vertical-align:middle;\" /></a> <a class=\"ProveItLink\" href=\"../__pv_it/demonstrations/6f84f74605f2e94614f795a662462ecf1c349d180/proof.ipynb\" style=\"text-decoration: none\">&nbsp;&#x22A2;&nbsp;&nbsp;</a><a class=\"ProveItLink\" href=\"../../../../__pv_it/common/1705cbeb348b2c6026b93d25b121a23c24142a900/expr.ipynb\"><img src=\"data:image/png;base64,iVBORw0KGgoAAAANSUhEUgAAABAAAAAOBAMAAADUAYG5AAAALVBMVEX///8QEBDc3NzMzMx2dnbu\n",
       "7u66urqYmJgyMjIiIiJUVFRmZmZERESIiIgAAACJIPtQAAAAAXRSTlMAQObYZgAAAGZJREFUCNdj\n",
       "YGC48+70rpUvGIAARNQAMdtbIBENxCyPgUQsEHM8YGBhYAIy+A4wlIOUMuR1L3wEZvgZMDSAGX0M\n",
       "DA4MBkDGGwaGANYLUGNYAqDGWAEx5wOgqDADQ1Tfq91r5jUwAABgCxlUc9vB0AAAAABJRU5ErkJg\n",
       "gg==\n",
       "\" style=\"display:inline;vertical-align:middle;\" /></a></span>"
      ],
      "text/plain": [
       "{A in BOOLEAN, B in BOOLEAN, C in BOOLEAN, D in BOOLEAN, A or B or C or D, A => E, B => E, C => E, D => E} |- E"
      ]
     },
     "execution_count": 20,
     "metadata": {},
     "output_type": "execute_result"
    }
   ],
   "source": [
    "Or(A,B,C,D).derive_via_dilemma(E,[Or(A,B,C,D),Implies(A,E), Implies(B,E), Implies(C,E), Implies(D,E), in_bool(A) ,in_bool(B),in_bool(C),in_bool(D)])"
   ]
  },
  {
   "cell_type": "code",
   "execution_count": 21,
   "metadata": {},
   "outputs": [
    {
     "data": {
      "text/html": [
       "<span style=\"font-size:20px;\"><a class=\"ProveItLink\" href=\"../../__pv_it/theorems/ddc941563dffabdeb005429c2f934b2b6ccbeab10/expr.ipynb\"><img src=\"data:image/png;base64,iVBORw0KGgoAAAANSUhEUgAAADYAAAAPBAMAAABdHiGLAAAAMFBMVEX///92dnYiIiIQEBBERERU\n",
       "VFS6urqIiIjc3NxmZmaqqqru7u6YmJgyMjLMzMwAAADiRdoGAAAAAXRSTlMAQObYZgAAANdJREFU\n",
       "GNNjYACBtwwogF3Z5a9RGJRzH1WOgZevYMvOA2Amz/0NqHIsbAfYHziAmbvmN0DEeJyUdKFyXAsg\n",
       "cgfqE8A0n/sGuD7GbLAc24b1ELP3bkCYmfT0AYi1jeF9AVgoAmGf0X8zMCuBoX8CmOGA5BbGMwIg\n",
       "WyJnxoNF+WzvAgFUjsEhB2QdAwPzBZAIB7I+BgdWIGMBAwOTAVjIAFkugBeoGijH+wEsNB1F30EG\n",
       "hiYQ+wdYiGkBPMwEGCUDGLb8v83A5f8J7FDukGzMsIYBNhFImEEAAEUpOYcaSaDVAAAAAElFTkSu\n",
       "QmCC\n",
       "\" style=\"display:inline;vertical-align:middle;\" /></a>, <a class=\"ProveItLink\" href=\"../__pv_it/theorems/67501eb487d67b93f0ec3f6965561f782e470d670/expr.ipynb\"><img src=\"data:image/png;base64,iVBORw0KGgoAAAANSUhEUgAAADcAAAAPBAMAAACy3Eq1AAAAMFBMVEX///92dnYyMjKqqqoiIiLu\n",
       "7u7c3NyIiIjMzMwQEBC6urpERERmZmZUVFSYmJgAAADEjrHzAAAAAXRSTlMAQObYZgAAAOZJREFU\n",
       "GNNjYGB4+//O2d0LGJBByez9mr4QodkMDDw/UCQZFNpZt54DMTj+MTBw/UGV3LCOoYIbxGD/xsDA\n",
       "9x0sxrfFxQkmaQyW5J7AwBDpCjZjewBCp1Q0iMF/gYHDFywaFIAwlsvjBojRf+/5FgOw0DWEnSv9\n",
       "f4JdW5/AwDoXIoTsILmHIMZOkAKQVo5JSkAAk+TmegBk/AVJFgAJNhSd3AwXIN5kuA+2YAKyJC+D\n",
       "AsSbHL/BQsdRdPIJMDAwAdWv3AoWYjGAB18jg+BZBgZe/b9nbm+GCLHeXooR8AjAJQ0NPggAAH2B\n",
       "SAzP/7V+AAAAAElFTkSuQmCC\n",
       "\" style=\"display:inline;vertical-align:middle;\" /></a>, <a class=\"ProveItLink\" href=\"../../../../__pv_it/common/e4aad701f7f5516d8e7f0d805d518bf02c13322a0/expr.ipynb\"><img src=\"data:image/png;base64,iVBORw0KGgoAAAANSUhEUgAAAA8AAAAOBAMAAAACpFvcAAAALVBMVEX///8iIiIQEBBERERUVFS6\n",
       "urqIiIjc3NxmZmaqqqru7u6YmJgyMjLMzMwAAACK9jtgAAAAAXRSTlMAQObYZgAAAFtJREFUCNdj\n",
       "YACBOwxQcA5Kc59bAGGs7CuAMDbkBYBp1gXzNoAZSxnuJYAZAQx1DSCa16PDzwCshIGB6QCIMYGB\n",
       "gVEBSLMDGTwPgIxCIGZ+zsCw+N0pBk67hw0AfpEVEQi8t+wAAAAASUVORK5CYII=\n",
       "\" style=\"display:inline;vertical-align:middle;\" /></a> <a class=\"ProveItLink\" href=\"../__pv_it/demonstrations/e04b451da1cb85b8a4a149a251aa4b8b18827db60/proof.ipynb\" style=\"text-decoration: none\">&nbsp;&#x22A2;&nbsp;&nbsp;</a><a class=\"ProveItLink\" href=\"../__pv_it/axioms/64d599a7acc604adfa976ed673118f75c53672710/expr.ipynb\"><img src=\"data:image/png;base64,iVBORw0KGgoAAAANSUhEUgAAADcAAAAPBAMAAACy3Eq1AAAAMFBMVEX///92dnYiIiIQEBBERERU\n",
       "VFS6urqIiIjc3NxmZmaqqqru7u6YmJgyMjLMzMwAAADiRdoGAAAAAXRSTlMAQObYZgAAAQVJREFU\n",
       "GNNjYACBtwyogCf+68wQNyjnPojgAzMfgElmBwaG+RAmz/0NQJIVxOEpAIu8P8DAkD8BzNw1vwGk\n",
       "MwBIMG0Ai9QDBc5D1B2oTwBRN4A4E2KPMwMDtxFYHduG9QdA9Eog9oBIfmVgeBQNZm1jeA82gQlo\n",
       "tANYhO/rmRItiLIEhn6w3ewFDKxg8xnYfzAwbA4AK4ucGQ/WwK3AsBeinMUAqOAX2Eqgty6AxWYx\n",
       "SEEk+YG62L+DWAuAthmAxXoZFBjg3mT9BmRwACV5P0BMewPxGtib70FWNYFEf0AcGQQJAobLQMtM\n",
       "gOwt/28zcPl/ggTVTYhc7P/IqS4L0CKDoRuVCwDjpEGwITo9cgAAAABJRU5ErkJggg==\n",
       "\" style=\"display:inline;vertical-align:middle;\" /></a></span>"
      ],
      "text/plain": [
       "{A in BOOLEAN, B in BOOLEAN, A} |- A or B"
      ]
     },
     "execution_count": 21,
     "metadata": {},
     "output_type": "execute_result"
    }
   ],
   "source": [
    "Or(A,B).prove([in_bool(B), A, in_bool(A)])"
   ]
  },
  {
   "cell_type": "code",
   "execution_count": 22,
   "metadata": {},
   "outputs": [
    {
     "data": {
      "text/html": [
       "<span style=\"font-size:20px;\"><a class=\"ProveItLink\" href=\"../../__pv_it/theorems/ddc941563dffabdeb005429c2f934b2b6ccbeab10/expr.ipynb\"><img src=\"data:image/png;base64,iVBORw0KGgoAAAANSUhEUgAAADYAAAAPBAMAAABdHiGLAAAAMFBMVEX///92dnYiIiIQEBBERERU\n",
       "VFS6urqIiIjc3NxmZmaqqqru7u6YmJgyMjLMzMwAAADiRdoGAAAAAXRSTlMAQObYZgAAANdJREFU\n",
       "GNNjYACBtwwogF3Z5a9RGJRzH1WOgZevYMvOA2Amz/0NqHIsbAfYHziAmbvmN0DEeJyUdKFyXAsg\n",
       "cgfqE8A0n/sGuD7GbLAc24b1ELP3bkCYmfT0AYi1jeF9AVgoAmGf0X8zMCuBoX8CmOGA5BbGMwIg\n",
       "WyJnxoNF+WzvAgFUjsEhB2QdAwPzBZAIB7I+BgdWIGMBAwOTAVjIAFkugBeoGijH+wEsNB1F30EG\n",
       "hiYQ+wdYiGkBPMwEGCUDGLb8v83A5f8J7FDukGzMsIYBNhFImEEAAEUpOYcaSaDVAAAAAElFTkSu\n",
       "QmCC\n",
       "\" style=\"display:inline;vertical-align:middle;\" /></a>, <a class=\"ProveItLink\" href=\"../__pv_it/theorems/67501eb487d67b93f0ec3f6965561f782e470d670/expr.ipynb\"><img src=\"data:image/png;base64,iVBORw0KGgoAAAANSUhEUgAAADcAAAAPBAMAAACy3Eq1AAAAMFBMVEX///92dnYyMjKqqqoiIiLu\n",
       "7u7c3NyIiIjMzMwQEBC6urpERERmZmZUVFSYmJgAAADEjrHzAAAAAXRSTlMAQObYZgAAAOZJREFU\n",
       "GNNjYGB4+//O2d0LGJBByez9mr4QodkMDDw/UCQZFNpZt54DMTj+MTBw/UGV3LCOoYIbxGD/xsDA\n",
       "9x0sxrfFxQkmaQyW5J7AwBDpCjZjewBCp1Q0iMF/gYHDFywaFIAwlsvjBojRf+/5FgOw0DWEnSv9\n",
       "f4JdW5/AwDoXIoTsILmHIMZOkAKQVo5JSkAAk+TmegBk/AVJFgAJNhSd3AwXIN5kuA+2YAKyJC+D\n",
       "AsSbHL/BQsdRdPIJMDAwAdWv3AoWYjGAB18jg+BZBgZe/b9nbm+GCLHeXooR8AjAJQ0NPggAAH2B\n",
       "SAzP/7V+AAAAAElFTkSuQmCC\n",
       "\" style=\"display:inline;vertical-align:middle;\" /></a>, <a class=\"ProveItLink\" href=\"../../../../__pv_it/common/4eca3b30dcf58a58494e201d1b7886d8643a617b0/expr.ipynb\"><img src=\"data:image/png;base64,iVBORw0KGgoAAAANSUhEUgAAABAAAAAOBAMAAADUAYG5AAAALVBMVEX///8yMjKqqqoiIiLu7u7c\n",
       "3NyIiIjMzMwQEBC6urpERERmZmZUVFSYmJgAAACsPVCVAAAAAXRSTlMAQObYZgAAAGxJREFUCNdj\n",
       "YGC48+70nlUTGICgi4GB+zmQZn/LwMD5Gshge8rAwPsMyOBqYGDwMAEy+A4wsNs4ABl1Z68tVgBp\n",
       "ygtgYOkBMVaAOCChNyBGAsQYhnMTIMawvwJyGIHGzFjCwMAj92b3qUUMDAAXABxvZ4rl5AAAAABJ\n",
       "RU5ErkJggg==\n",
       "\" style=\"display:inline;vertical-align:middle;\" /></a> <a class=\"ProveItLink\" href=\"../__pv_it/demonstrations/2a757a9cd900b770d44792b04e648c6601dcfb580/proof.ipynb\" style=\"text-decoration: none\">&nbsp;&#x22A2;&nbsp;&nbsp;</a><a class=\"ProveItLink\" href=\"../__pv_it/axioms/64d599a7acc604adfa976ed673118f75c53672710/expr.ipynb\"><img src=\"data:image/png;base64,iVBORw0KGgoAAAANSUhEUgAAADcAAAAPBAMAAACy3Eq1AAAAMFBMVEX///92dnYiIiIQEBBERERU\n",
       "VFS6urqIiIjc3NxmZmaqqqru7u6YmJgyMjLMzMwAAADiRdoGAAAAAXRSTlMAQObYZgAAAQVJREFU\n",
       "GNNjYACBtwyogCf+68wQNyjnPojgAzMfgElmBwaG+RAmz/0NQJIVxOEpAIu8P8DAkD8BzNw1vwGk\n",
       "MwBIMG0Ai9QDBc5D1B2oTwBRN4A4E2KPMwMDtxFYHduG9QdA9Eog9oBIfmVgeBQNZm1jeA82gQlo\n",
       "tANYhO/rmRItiLIEhn6w3ewFDKxg8xnYfzAwbA4AK4ucGQ/WwK3AsBeinMUAqOAX2Eqgty6AxWYx\n",
       "SEEk+YG62L+DWAuAthmAxXoZFBjg3mT9BmRwACV5P0BMewPxGtib70FWNYFEf0AcGQQJAobLQMtM\n",
       "gOwt/28zcPl/ggTVTYhc7P/IqS4L0CKDoRuVCwDjpEGwITo9cgAAAABJRU5ErkJggg==\n",
       "\" style=\"display:inline;vertical-align:middle;\" /></a></span>"
      ],
      "text/plain": [
       "{A in BOOLEAN, B in BOOLEAN, B} |- A or B"
      ]
     },
     "execution_count": 22,
     "metadata": {},
     "output_type": "execute_result"
    }
   ],
   "source": [
    "Or(A,B).prove([in_bool(A), in_bool(B), B])"
   ]
  },
  {
   "cell_type": "code",
   "execution_count": 23,
   "metadata": {},
   "outputs": [
    {
     "data": {
      "text/html": [
       "<span style=\"font-size:20px;\"><a class=\"ProveItLink\" href=\"../__pv_it/demonstrations/6d4a76c8afef1311edaf37cd3d7c58f6a0f3bae70/expr.ipynb\"><img src=\"data:image/png;base64,iVBORw0KGgoAAAANSUhEUgAAADYAAAAPBAMAAABdHiGLAAAAMFBMVEX////MzMy6uroyMjIiIiKq\n",
       "qqoQEBB2dnbc3NyYmJhmZmZUVFRERESIiIju7u4AAACOKgoaAAAAAXRSTlMAQObYZgAAANxJREFU\n",
       "GNNjYGDgu7NrJ0cBAxLgdTvzOWUTiHVtAgPrsgnIcgzMjBfevAIKvfEDctY3oMjxME3gFTjAwGD2\n",
       "AMhRg4jNcXExgMqxBhxg4PoK4kiBpWTuIfSx6x1g6HcAcV6ACD47JDNVpAUY6i/AbeFuQMil/E9i\n",
       "YPAXQLgA2S3sMwsY8kFOYQATYsZAAHMLwwFNBn8QmxWsuQdZH8MBbojP2MEibChyG5gZ+kFuqQOL\n",
       "cF1A0TedgfUnA0PUA4iQKyLMCtirNjAwvDq9SwEq9PrQA7SwRgLqRyBhBgEActk8e8zZ+EcAAAAA\n",
       "SUVORK5CYII=\n",
       "\" style=\"display:inline;vertical-align:middle;\" /></a>, <a class=\"ProveItLink\" href=\"../__pv_it/demonstrations/fd6d96a8fa1d80eb29daf8272b5460a0b6c3669c0/expr.ipynb\"><img src=\"data:image/png;base64,iVBORw0KGgoAAAANSUhEUgAAADgAAAAPBAMAAABD1xE4AAAAMFBMVEX///8iIiLu7u52dna6uroQ\n",
       "EBBmZmaIiIjMzMyqqqoyMjLc3NxERERUVFSYmJgAAAAdjRNVAAAAAXRSTlMAQObYZgAAAONJREFU\n",
       "GNNjYGB4+//snbMbGJABu+iZX4FXwMxfDAx8P1EkGbg4CnTUHgAZHN+BRCqqJA/LA/aGAyAzfgAJ\n",
       "/wdgQb6DglJQSc4JIEmeD0BivwFIjOO4AlwnsxNIkh9E+F8AiWkpIIx17G0AMvoLgEQ9WOdthJ2B\n",
       "/0NAjHqQivsOIOYBJAcxvwOpPw/ifQVbGbUKCKCSDAf8gIw/IFf+AwlxI+tkOMAL9aYqRDgAWfIC\n",
       "F8SbTKsgYukoOh8DQwroTccEiBjjBHjwGTCbXWDgXf839042VIzpjhN6wCMBFhtI8EEAALZERsGv\n",
       "6x6JAAAAAElFTkSuQmCC\n",
       "\" style=\"display:inline;vertical-align:middle;\" /></a>, <a class=\"ProveItLink\" href=\"../__pv_it/theorems/fe3baeb480a16afb24235d1b7769a09d83609e0c0/expr.ipynb\"><img src=\"data:image/png;base64,iVBORw0KGgoAAAANSUhEUgAAADgAAAAPBAMAAABD1xE4AAAAMFBMVEX////MzMy6uroyMjIiIiKq\n",
       "qqoQEBB2dnbc3NyYmJhmZmZUVFRERESIiIju7u4AAACOKgoaAAAAAXRSTlMAQObYZgAAAQpJREFU\n",
       "GNNjYGDgu7NrJ0cBAzLg3P9n95kdINa1CQysyyYwMDCCxQXAJL8BA8P8AAaGN35AzvoGBgZukDjn\n",
       "BbCkPJDiSmBgMHsA5KgBMeMGIMHyACx5H6iQ6ScD11cQRwpEWACxFsTS80DM8Z2h3wHEeQEiooD4\n",
       "BETyDxAz/WaovwB3IwvQ6ANgFuNfIMH7ncFfAC7Je4GBWwHC+ggkuD8x5INdACb4HBgeQ5TxfAB5\n",
       "J4HBH8RhhWhfylAKkeQHmT5/AtiHDOwQsWYGBwa4N/lyGBj6QQ6qg5omCXUdyJuPgYHE+hPoB4jP\n",
       "GRi3QBn2QI94gRivTu9SgLnXCkJt/r9r96kGBjTQh8oFAJ5cQFo7ZbdQAAAAAElFTkSuQmCC\n",
       "\" style=\"display:inline;vertical-align:middle;\" /></a> <a class=\"ProveItLink\" href=\"../__pv_it/demonstrations/a60e5fd63566f8401b6cea690e95b404ce53a54b0/proof.ipynb\" style=\"text-decoration: none\">&nbsp;&#x22A2;&nbsp;&nbsp;</a><a class=\"ProveItLink\" href=\"../__pv_it/theorems/fe3baeb480a16afb24235d1b7769a09d83609e0c0/expr.ipynb\"><img src=\"data:image/png;base64,iVBORw0KGgoAAAANSUhEUgAAADgAAAAPBAMAAABD1xE4AAAAMFBMVEX////MzMy6uroyMjIiIiKq\n",
       "qqoQEBB2dnbc3NyYmJhmZmZUVFRERESIiIju7u4AAACOKgoaAAAAAXRSTlMAQObYZgAAAQpJREFU\n",
       "GNNjYGDgu7NrJ0cBAzLg3P9n95kdINa1CQysyyYwMDCCxQXAJL8BA8P8AAaGN35AzvoGBgZukDjn\n",
       "BbCkPJDiSmBgMHsA5KgBMeMGIMHyACx5H6iQ6ScD11cQRwpEWACxFsTS80DM8Z2h3wHEeQEiooD4\n",
       "BETyDxAz/WaovwB3IwvQ6ANgFuNfIMH7ncFfAC7Je4GBWwHC+ggkuD8x5INdACb4HBgeQ5TxfAB5\n",
       "J4HBH8RhhWhfylAKkeQHmT5/AtiHDOwQsWYGBwa4N/lyGBj6QQ6qg5omCXUdyJuPgYHE+hPoB4jP\n",
       "GRi3QBn2QI94gRivTu9SgLnXCkJt/r9r96kGBjTQh8oFAJ5cQFo7ZbdQAAAAAElFTkSuQmCC\n",
       "\" style=\"display:inline;vertical-align:middle;\" /></a></span>"
      ],
      "text/plain": [
       "{C in BOOLEAN, D in BOOLEAN, C or D} |- C or D"
      ]
     },
     "execution_count": 23,
     "metadata": {},
     "output_type": "execute_result"
    }
   ],
   "source": [
    "Or(C,D).derive_via_dilemma(Or(C,D),[Or(A,B), Or(C,D),Implies(A,C), Implies(A,C),Implies(B,D), in_bool(A), in_bool(B), in_bool(C), in_bool(D)])"
   ]
  },
  {
   "cell_type": "code",
   "execution_count": 24,
   "metadata": {},
   "outputs": [
    {
     "data": {
      "text/html": [
       "<span style=\"font-size:20px;\"><a class=\"ProveItLink\" href=\"../../__pv_it/theorems/ddc941563dffabdeb005429c2f934b2b6ccbeab10/expr.ipynb\"><img src=\"data:image/png;base64,iVBORw0KGgoAAAANSUhEUgAAADYAAAAPBAMAAABdHiGLAAAAMFBMVEX///92dnYiIiIQEBBERERU\n",
       "VFS6urqIiIjc3NxmZmaqqqru7u6YmJgyMjLMzMwAAADiRdoGAAAAAXRSTlMAQObYZgAAANdJREFU\n",
       "GNNjYACBtwwogF3Z5a9RGJRzH1WOgZevYMvOA2Amz/0NqHIsbAfYHziAmbvmN0DEeJyUdKFyXAsg\n",
       "cgfqE8A0n/sGuD7GbLAc24b1ELP3bkCYmfT0AYi1jeF9AVgoAmGf0X8zMCuBoX8CmOGA5BbGMwIg\n",
       "WyJnxoNF+WzvAgFUjsEhB2QdAwPzBZAIB7I+BgdWIGMBAwOTAVjIAFkugBeoGijH+wEsNB1F30EG\n",
       "hiYQ+wdYiGkBPMwEGCUDGLb8v83A5f8J7FDukGzMsIYBNhFImEEAAEUpOYcaSaDVAAAAAElFTkSu\n",
       "QmCC\n",
       "\" style=\"display:inline;vertical-align:middle;\" /></a>, <a class=\"ProveItLink\" href=\"../__pv_it/theorems/67501eb487d67b93f0ec3f6965561f782e470d670/expr.ipynb\"><img src=\"data:image/png;base64,iVBORw0KGgoAAAANSUhEUgAAADcAAAAPBAMAAACy3Eq1AAAAMFBMVEX///92dnYyMjKqqqoiIiLu\n",
       "7u7c3NyIiIjMzMwQEBC6urpERERmZmZUVFSYmJgAAADEjrHzAAAAAXRSTlMAQObYZgAAAOZJREFU\n",
       "GNNjYGB4+//O2d0LGJBByez9mr4QodkMDDw/UCQZFNpZt54DMTj+MTBw/UGV3LCOoYIbxGD/xsDA\n",
       "9x0sxrfFxQkmaQyW5J7AwBDpCjZjewBCp1Q0iMF/gYHDFywaFIAwlsvjBojRf+/5FgOw0DWEnSv9\n",
       "f4JdW5/AwDoXIoTsILmHIMZOkAKQVo5JSkAAk+TmegBk/AVJFgAJNhSd3AwXIN5kuA+2YAKyJC+D\n",
       "AsSbHL/BQsdRdPIJMDAwAdWv3AoWYjGAB18jg+BZBgZe/b9nbm+GCLHeXooR8AjAJQ0NPggAAH2B\n",
       "SAzP/7V+AAAAAElFTkSuQmCC\n",
       "\" style=\"display:inline;vertical-align:middle;\" /></a>, <a class=\"ProveItLink\" href=\"../__pv_it/demonstrations/6d4a76c8afef1311edaf37cd3d7c58f6a0f3bae70/expr.ipynb\"><img src=\"data:image/png;base64,iVBORw0KGgoAAAANSUhEUgAAADYAAAAPBAMAAABdHiGLAAAAMFBMVEX////MzMy6uroyMjIiIiKq\n",
       "qqoQEBB2dnbc3NyYmJhmZmZUVFRERESIiIju7u4AAACOKgoaAAAAAXRSTlMAQObYZgAAANxJREFU\n",
       "GNNjYGDgu7NrJ0cBAxLgdTvzOWUTiHVtAgPrsgnIcgzMjBfevAIKvfEDctY3oMjxME3gFTjAwGD2\n",
       "AMhRg4jNcXExgMqxBhxg4PoK4kiBpWTuIfSx6x1g6HcAcV6ACD47JDNVpAUY6i/AbeFuQMil/E9i\n",
       "YPAXQLgA2S3sMwsY8kFOYQATYsZAAHMLwwFNBn8QmxWsuQdZH8MBbojP2MEibChyG5gZ+kFuqQOL\n",
       "cF1A0TedgfUnA0PUA4iQKyLMCtirNjAwvDq9SwEq9PrQA7SwRgLqRyBhBgEActk8e8zZ+EcAAAAA\n",
       "SUVORK5CYII=\n",
       "\" style=\"display:inline;vertical-align:middle;\" /></a>, <a class=\"ProveItLink\" href=\"../__pv_it/demonstrations/fd6d96a8fa1d80eb29daf8272b5460a0b6c3669c0/expr.ipynb\"><img src=\"data:image/png;base64,iVBORw0KGgoAAAANSUhEUgAAADgAAAAPBAMAAABD1xE4AAAAMFBMVEX///8iIiLu7u52dna6uroQ\n",
       "EBBmZmaIiIjMzMyqqqoyMjLc3NxERERUVFSYmJgAAAAdjRNVAAAAAXRSTlMAQObYZgAAAONJREFU\n",
       "GNNjYGB4+//snbMbGJABu+iZX4FXwMxfDAx8P1EkGbg4CnTUHgAZHN+BRCqqJA/LA/aGAyAzfgAJ\n",
       "/wdgQb6DglJQSc4JIEmeD0BivwFIjOO4AlwnsxNIkh9E+F8AiWkpIIx17G0AMvoLgEQ9WOdthJ2B\n",
       "/0NAjHqQivsOIOYBJAcxvwOpPw/ifQVbGbUKCKCSDAf8gIw/IFf+AwlxI+tkOMAL9aYqRDgAWfIC\n",
       "F8SbTKsgYukoOh8DQwroTccEiBjjBHjwGTCbXWDgXf839042VIzpjhN6wCMBFhtI8EEAALZERsGv\n",
       "6x6JAAAAAElFTkSuQmCC\n",
       "\" style=\"display:inline;vertical-align:middle;\" /></a>, <a class=\"ProveItLink\" href=\"../__pv_it/demonstrations/9523dc591776f471a5639d111d1ff4d729eec8b30/expr.ipynb\"><img src=\"data:image/png;base64,iVBORw0KGgoAAAANSUhEUgAAADkAAAAPBAMAAACsFXoGAAAAMFBMVEX///8QEBDc3Nyqqqp2dnbM\n",
       "zMyIiIi6uroiIiLu7u4yMjJmZmZERERUVFSYmJgAAADCfy+7AAAAAXRSTlMAQObYZgAAAOVJREFU\n",
       "GNNjYGB4+/80EK+ewIAEMmTOL+wtADN/AfEPBlSwIIzz5D4Qg/0bAwPrbzTZA3UMqTwgBstXBga2\n",
       "zxBBvhMdXTBZY7As1wcGBp6fYDHWYxMQet3ngBj8B4C4ASw2awLCZPbWqyBG/erdu887gMUuIewt\n",
       "7P8IdrN/AANDPsT1B5Bd5fcExFgPxOfBRrJKrQICmCwP+wMg4w/UywwMTCh6eRguQL37BSImgCzL\n",
       "y7AA6t3vELFtKHr5gE7lQHiXgcMAHpIhDC57GRhmr/+bwH3+TwJYjPNOJUYsIAF2H2hIQgAA9VpQ\n",
       "BRkDOOYAAAAASUVORK5CYII=\n",
       "\" style=\"display:inline;vertical-align:middle;\" /></a>, <a class=\"ProveItLink\" href=\"../__pv_it/demonstrations/0a2591baf401d22982769c999067ec2d32050af30/expr.ipynb\"><img src=\"data:image/png;base64,iVBORw0KGgoAAAANSUhEUgAAADEAAAAPBAMAAAC/wjryAAAAMFBMVEX///+qqqoQEBCYmJju7u4i\n",
       "IiLMzMxERER2dna6urrc3NxmZmYyMjJUVFSIiIgAAAAnOzgWAAAAAXRSTlMAQObYZgAAAL1JREFU\n",
       "GNNjYGB4+//0AgYk8FS9/lDsBDDzDwMqOJDHUrIZxOD8gSZTMJnhGTuIwfETIsBcGhoDkxEEy/B8\n",
       "APPZ6hwQejrdQQz+AjDfxwFhGmfYNRBj/gMw/xbCnknxn8Bu60+A8JFd0GwBYpyHWKNzBghgMuyc\n",
       "BkDGdzCXC0UPO8MFoHf+QfgKyDK8DAeA3vkG4e9D0cPcwMDACvEOA6sAPHQyGDr2MjD4nv/bAOaz\n",
       "XJ+CEaJQwNkODR0IAABdDjpFH5fEzgAAAABJRU5ErkJggg==\n",
       "\" style=\"display:inline;vertical-align:middle;\" /></a>, <a class=\"ProveItLink\" href=\"../__pv_it/demonstrations/a8a5eaddb90f549b5e65bdd2ffece006dfb202cb0/expr.ipynb\"><img src=\"data:image/png;base64,iVBORw0KGgoAAAANSUhEUgAAADMAAAAPBAMAAAC7N+rPAAAAMFBMVEX///9ERESIiIiqqqru7u7c\n",
       "3NyYmJi6urpUVFQQEBAyMjLMzMwiIiJmZmZ2dnYAAACebuTwAAAAAXRSTlMAQObYZgAAAMJJREFU\n",
       "GNNjYGBgeHv+LAMy0Jkov/JEAYT9fgOKFMOCTSwi1yDMlagyDAJlDNqMEOYPqFDimTMLoFLGECn2\n",
       "bxCZjSoIXc8dwSy+r2CKZQnCQPbT3WAWzwQwxREAl6o8/xPiQv8GMMWI7IxneWCWvQGY2rkKCGDO\n",
       "YGRPALHuO4ClApF1MTI0MMQ8YDgDEeBEluJgWMCgrwBzO68Csi62BwxmDD4NUJHD8IDax/DuBgMD\n",
       "k1IzTMRD3AEjeGGgTgYSUBAAANB4NSWuT2sGAAAAAElFTkSuQmCC\n",
       "\" style=\"display:inline;vertical-align:middle;\" /></a>, <a class=\"ProveItLink\" href=\"../__pv_it/demonstrations/8993b16fdf09fc3c02d158258ffdfa7b0be7f39a0/expr.ipynb\"><img src=\"data:image/png;base64,iVBORw0KGgoAAAANSUhEUgAAADkAAAAPBAMAAACsFXoGAAAAMFBMVEX///8QEBAiIiJmZmbu7u6Y\n",
       "mJh2dna6urrc3NxERESqqqrMzMwyMjJUVFSIiIgAAACmFsX7AAAAAXRSTlMAQObYZgAAAOxJREFU\n",
       "GNNjYGB4+/8sA8P9PxsYkMAjyfkHdQvAzD9AvLKBAQUc2McyxRTEYP/GwMC6AFWSYUIpw2tOEIPt\n",
       "OwNLBlSQdZKSDkx2FViW5wPDNqgk9zwHhN50TxCD/wCrAVTMxwFhMrv2bRCjPuG9AlTsBsLeQv2P\n",
       "YDfnv2P+BRNDdlVqGIhxPoDjD9RamTNAAJPlZA8AMn4yMMyHBAUHil5OhgtA7/4DWn0BIiaALMvL\n",
       "cADo3d8MDExfIGJ2KHpZE4AyHxgY+L5BxJjgQXZgG0OaLQOD8/m/Dxge/Z8BFmO5WYIRC0iAPRMa\n",
       "khAAALYMSNzdbU43AAAAAElFTkSuQmCC\n",
       "\" style=\"display:inline;vertical-align:middle;\" /></a>, <a class=\"ProveItLink\" href=\"../__pv_it/demonstrations/bca6a62397124fb717dfddfa797954f944dcbc520/expr.ipynb\"><img src=\"data:image/png;base64,iVBORw0KGgoAAAANSUhEUgAAAIcAAAAPBAMAAAA8KsGMAAAAMFBMVEX///92dnYiIiIQEBBERERU\n",
       "VFS6urqIiIjc3NxmZmaqqqru7u6YmJgyMjLMzMwAAADiRdoGAAAAAXRSTlMAQObYZgAAAfpJREFU\n",
       "OMuNUj1IW1EU/vJM8p55Jjo7OdtFpFsdQm3ESaVEQUpNcHMyg9AxbddSDLQRf4ZkdWkfVRQEIYt0\n",
       "KVToUhGJiG6WiDaN2Nb0/LyY+5x64Z2c+50v5+9+AJ8fCJ6uTH0lPXIP3E4VK6+C0F4zlU699C9V\n",
       "Nglxj8V2JIHScQCzh4D1odZNA/hLBW/8wlWPbISjXTlBahVgvmBi7mPidF6TN8OEz0JLNMi80yQ7\n",
       "JW4pMUHG8gTJE/A1Z2LxR2SiA2TOmPBAaPYtmfmK+JV8ln++0zenaYep9KBnYqUy1ylwOioQLQgt\n",
       "fEFmsYfdqPdRkq3TN6pJ6sDJMxNzLvnmcscxShDWbXYnuRPuFluoySYsKpXUWetfFvphYqFG+036\n",
       "gFP15H956SSLRenOziGS1VlpgRsTJmbdtpO8AKbUy/PeMxxPTK9kpAG3D7saDNMC7RsT6/gtN4l+\n",
       "gruvvHE2V7ISoii4il4NdlMXdsPELF4hPgjUWQ6VlfeTBfCHPQKsAcHe8rgtmUR+mZgoBDI9nH0L\n",
       "bZls8BQOJYlf6BTnOdzJpJY0MYf5IRURxlRqIhP3iL3XzLzWzE991jca8qEXwEgFsTV/s2cqNak9\n",
       "y2+y2TxEbPxSxXOgwefN6eITf+wW5r6fXGo9T1zZkWq9mF7G/fMG+B/M8YL3fyOBjcx4XdytAAAA\n",
       "AElFTkSuQmCC\n",
       "\" style=\"display:inline;vertical-align:middle;\" /></a>, <a class=\"ProveItLink\" href=\"../__pv_it/demonstrations/900ba16a8b1488fa298f6dcdaeaab27f21ae296b0/expr.ipynb\"><img src=\"data:image/png;base64,iVBORw0KGgoAAAANSUhEUgAAAEMAAAAPBAMAAABNfm9XAAAAMFBMVEX///92dnYiIiIQEBBERERU\n",
       "VFS6urqIiIjc3NxmZmaqqqru7u6YmJgyMjLMzMwAAADiRdoGAAAAAXRSTlMAQObYZgAAAOdJREFU\n",
       "KM9jYACBtwxYwNH/nkB8cwOEdx+bEoa/QPwJyua5vwGLCrbvDAx8P6GcXfMbEDIeMAbjPwYG9l9Q\n",
       "zoH6BISSJzAG7wcGBpbfUBM3rD+AUMIzAcrgdwBiBQh7G8P7AhDNqQQGMOvzb86c6S8AYScw9E9A\n",
       "cibXLQgt/4CBAeoCvsiZ8Q7IXtlrBg8Jf4hX2RgYmC8gqeAIhPjvCzRogGABAwOTAdgtdyGgAREs\n",
       "HyGaFkD8Bw+xC0jB8g3MbAJilh9ILoGGNBM8WLb8v83A5f8J4aU4CLXz/tcCTv8vBdgirwFdAAD4\n",
       "kEhZDp6HZgAAAABJRU5ErkJggg==\n",
       "\" style=\"display:inline;vertical-align:middle;\" /></a>, <a class=\"ProveItLink\" href=\"../__pv_it/demonstrations/b24f546edec568859c01513446f97204aa51123d0/expr.ipynb\"><img src=\"data:image/png;base64,iVBORw0KGgoAAAANSUhEUgAAADwAAAAPBAMAAABKPLFCAAAAMFBMVEX///92dnYyMjKqqqoiIiLu\n",
       "7u7c3NyIiIjMzMwQEBC6urpERERmZmZUVFSYmJgAAADEjrHzAAAAAXRSTlMAQObYZgAAANJJREFU\n",
       "GNNjYGB4+//O2d0LGDAA+/1Px0D0bAYGnh+Y0gz8CiCS4x8DA9cfLNLrBcCGfGNg4PsOF9wGZ8mD\n",
       "beSewMAQ6QoX7Iaz9CFWXGDg8A2AC/IdgLF+g8n+e8+3GIAYPC5gAHMGF8TC+gQG1rlILmJWhtCM\n",
       "EN/sBCkxQJIPmgWmmD6Aqb8g6QKELNvFBIibNsC8zXAf5AceJQhIgHq7AOZtjt8IzVwKMG83gK0A\n",
       "envlViSbYX70BxG8+n/P3N6M5LAbEIr10v+LWAKaIQGZAwC2YTeanNre7gAAAABJRU5ErkJggg==\n",
       "\" style=\"display:inline;vertical-align:middle;\" /></a>, <a class=\"ProveItLink\" href=\"../__pv_it/demonstrations/e2e347a7b0df83790ac7c2d7d0f2325aa0b84bb00/expr.ipynb\"><img src=\"data:image/png;base64,iVBORw0KGgoAAAANSUhEUgAAAD0AAAAPBAMAAACl/tp8AAAAMFBMVEX////MzMy6uroyMjIiIiKq\n",
       "qqoQEBB2dnbc3NyYmJhmZmZUVFRERESIiIju7u4AAACOKgoaAAAAAXRSTlMAQObYZgAAANBJREFU\n",
       "GNNjYGDgu7NrJ0cBAyao8vcCUdcmMLAum4BFnqFeAEi88QMS6xuwyZuBiQdAQg0uxoOk8jcQc30F\n",
       "saTgYowH4Eymn0Ci3wHEfIHQNAvOYv8BcsMFOH+JCwj4L4DxWRKAhL8AuquCA6CM9xuARD7IeQwP\n",
       "kOT5zBQgjHiQQn8QixXZkO4KKGP9A5jP2cH8xcZgYAHmtBQwuIDofpD76pC0K0Oo+xfA3mNgBZJR\n",
       "SNbz2UHoSIYnG8CMV6d3KSBp54Y6hffuVmxBzsCBygUAWB4x+ghK/ZsAAAAASUVORK5CYII=\n",
       "\" style=\"display:inline;vertical-align:middle;\" /></a>, <a class=\"ProveItLink\" href=\"../__pv_it/demonstrations/a0a10cb881b31226d62b273b042de5593a3b7cce0/expr.ipynb\"><img src=\"data:image/png;base64,iVBORw0KGgoAAAANSUhEUgAAAEUAAAAPBAMAAABAYB8QAAAAMFBMVEX///8iIiLu7u52dna6uroQ\n",
       "EBBmZmaIiIjMzMyqqqoyMjLc3NxERERUVFSYmJgAAAAdjRNVAAAAAXRSTlMAQObYZgAAAPdJREFU\n",
       "KM9jYGB4+//snbMbGDBB7f+1DAz3fzWA2L8YGPh+YlEDkmCYA9bN8R1IpGJRwvIZqHkCmMn+A0j4\n",
       "P4BLnYYxmL8wMFlDmDwfgMR+A7iaHhiD6wNDM5TJfwBkzgW4Gr4EmMQCOLO/AEjUg8xhEwSDb1AJ\n",
       "f4N6ASizHuS5+w4It3KuhND25Www754HEV+RPaQVAqbWP+D+BRX5A3LDPyQl3Jc3wCTOgwMQEjyq\n",
       "IHczsK2CAIgSlu9wr4CCh2kVctAtgAYPUILxEywUGBwTkF2jAKEZgRLsn0Es3vV/c+9kI7v4BoRS\n",
       "W/+3gKHw/2lsEcmAkQQACeVKouJm2asAAAAASUVORK5CYII=\n",
       "\" style=\"display:inline;vertical-align:middle;\" /></a> <a class=\"ProveItLink\" href=\"../__pv_it/demonstrations/c27c70fe00fde315bd60f6651edf685e0a9786430/proof.ipynb\" style=\"text-decoration: none\">&nbsp;&#x22A2;&nbsp;&nbsp;</a><a class=\"ProveItLink\" href=\"../__pv_it/demonstrations/d91798318f4731e07b621e9e1c3499dab6f1fb120/expr.ipynb\"><img src=\"data:image/png;base64,iVBORw0KGgoAAAANSUhEUgAAAIMAAAAPBAMAAAA1wWH2AAAAMFBMVEX///8QEBDc3Nyqqqp2dnbM\n",
       "zMyIiIi6uroiIiLu7u4yMjJmZmZERERUVFSYmJgAAADCfy+7AAAAAXRSTlMAQObYZgAAAZdJREFU\n",
       "KM+FUj1LA0EQHfJx3nlJ9Cek1Sq9FkF/gBaWRq4KNiHpLXKCjYWQUhQh2B4SwUZIEwJWFpdGtDOV\n",
       "nSAk5suEODs7u2fuAg7MZPLm3bu53QcAn/NnTK8Gf6M097ILACQeR/chyh3A+2Rf9BPMkWiSNCKM\n",
       "QNkmlcb3Eso2vWhlgJMf0aXFKOMQ2Bf1RZQPllhdj1IyOa1u9Oh9HSwmfVFiKGpBlHOWWOtEKNYO\n",
       "q38BpMbU3mKeaBArrrmiTqDajVAOlHoL06V2C7OtQYA4Pp5Sx7qXDVHqGa3uNZt+nloTN21JkD4X\n",
       "UPlQ3cBpmJIvu0odT6hcodZwIF3RIEYR4JVp1ixMKdo9njUwfekKy4WrAMS4BKvOtHgvTOnGJjyb\n",
       "KhdgPMBuAGLYuUSOR/Y4SvHlrmSLPvM2wdWgiFjdlL9nYLpRSrUT2GLIEqkjJ3CiiCdpLGPAd7pI\n",
       "MeVmZmALXOetpkGKgjRWvGtdLKEYtP11Y+bY/tRhgkf1pjHLs+/46osldSZMEc/B8bwNkdgI/Y/V\n",
       "/qX8AvcUhV+FbUMHAAAAAElFTkSuQmCC\n",
       "\" style=\"display:inline;vertical-align:middle;\" /></a></span>"
      ],
      "text/plain": [
       "{A in BOOLEAN, B in BOOLEAN, C in BOOLEAN, D in BOOLEAN, H in BOOLEAN, I in BOOLEAN, J in BOOLEAN, K in BOOLEAN, A or B or C or D, A => H, B => I, C => J, D => K} |- H or I or J or K"
      ]
     },
     "execution_count": 24,
     "metadata": {},
     "output_type": "execute_result"
    }
   ],
   "source": [
    "Or(A,B,C,D).derive_via_multi_dilemma(Or(H,I,J,K),[Or(A,B,C,D), Implies(A,H), Implies(B,I), Implies(C,J), Implies(D,K),in_bool(A), in_bool(B), in_bool(C), in_bool(D), in_bool(H), in_bool(I), in_bool(J), in_bool(K)])"
   ]
  },
  {
   "cell_type": "code",
   "execution_count": 25,
   "metadata": {},
   "outputs": [
    {
     "data": {
      "text/html": [
       "<span style=\"font-size:20px;\"><a class=\"ProveItLink\" href=\"../../__pv_it/theorems/ddc941563dffabdeb005429c2f934b2b6ccbeab10/expr.ipynb\"><img src=\"data:image/png;base64,iVBORw0KGgoAAAANSUhEUgAAADYAAAAPBAMAAABdHiGLAAAAMFBMVEX///92dnYiIiIQEBBERERU\n",
       "VFS6urqIiIjc3NxmZmaqqqru7u6YmJgyMjLMzMwAAADiRdoGAAAAAXRSTlMAQObYZgAAANdJREFU\n",
       "GNNjYACBtwwogF3Z5a9RGJRzH1WOgZevYMvOA2Amz/0NqHIsbAfYHziAmbvmN0DEeJyUdKFyXAsg\n",
       "cgfqE8A0n/sGuD7GbLAc24b1ELP3bkCYmfT0AYi1jeF9AVgoAmGf0X8zMCuBoX8CmOGA5BbGMwIg\n",
       "WyJnxoNF+WzvAgFUjsEhB2QdAwPzBZAIB7I+BgdWIGMBAwOTAVjIAFkugBeoGijH+wEsNB1F30EG\n",
       "hiYQ+wdYiGkBPMwEGCUDGLb8v83A5f8J7FDukGzMsIYBNhFImEEAAEUpOYcaSaDVAAAAAElFTkSu\n",
       "QmCC\n",
       "\" style=\"display:inline;vertical-align:middle;\" /></a>, <a class=\"ProveItLink\" href=\"../__pv_it/theorems/67501eb487d67b93f0ec3f6965561f782e470d670/expr.ipynb\"><img src=\"data:image/png;base64,iVBORw0KGgoAAAANSUhEUgAAADcAAAAPBAMAAACy3Eq1AAAAMFBMVEX///92dnYyMjKqqqoiIiLu\n",
       "7u7c3NyIiIjMzMwQEBC6urpERERmZmZUVFSYmJgAAADEjrHzAAAAAXRSTlMAQObYZgAAAOZJREFU\n",
       "GNNjYGB4+//O2d0LGJBByez9mr4QodkMDDw/UCQZFNpZt54DMTj+MTBw/UGV3LCOoYIbxGD/xsDA\n",
       "9x0sxrfFxQkmaQyW5J7AwBDpCjZjewBCp1Q0iMF/gYHDFywaFIAwlsvjBojRf+/5FgOw0DWEnSv9\n",
       "f4JdW5/AwDoXIoTsILmHIMZOkAKQVo5JSkAAk+TmegBk/AVJFgAJNhSd3AwXIN5kuA+2YAKyJC+D\n",
       "AsSbHL/BQsdRdPIJMDAwAdWv3AoWYjGAB18jg+BZBgZe/b9nbm+GCLHeXooR8AjAJQ0NPggAAH2B\n",
       "SAzP/7V+AAAAAElFTkSuQmCC\n",
       "\" style=\"display:inline;vertical-align:middle;\" /></a>, <a class=\"ProveItLink\" href=\"../__pv_it/demonstrations/6d4a76c8afef1311edaf37cd3d7c58f6a0f3bae70/expr.ipynb\"><img src=\"data:image/png;base64,iVBORw0KGgoAAAANSUhEUgAAADYAAAAPBAMAAABdHiGLAAAAMFBMVEX////MzMy6uroyMjIiIiKq\n",
       "qqoQEBB2dnbc3NyYmJhmZmZUVFRERESIiIju7u4AAACOKgoaAAAAAXRSTlMAQObYZgAAANxJREFU\n",
       "GNNjYGDgu7NrJ0cBAxLgdTvzOWUTiHVtAgPrsgnIcgzMjBfevAIKvfEDctY3oMjxME3gFTjAwGD2\n",
       "AMhRg4jNcXExgMqxBhxg4PoK4kiBpWTuIfSx6x1g6HcAcV6ACD47JDNVpAUY6i/AbeFuQMil/E9i\n",
       "YPAXQLgA2S3sMwsY8kFOYQATYsZAAHMLwwFNBn8QmxWsuQdZH8MBbojP2MEibChyG5gZ+kFuqQOL\n",
       "cF1A0TedgfUnA0PUA4iQKyLMCtirNjAwvDq9SwEq9PrQA7SwRgLqRyBhBgEActk8e8zZ+EcAAAAA\n",
       "SUVORK5CYII=\n",
       "\" style=\"display:inline;vertical-align:middle;\" /></a>, <a class=\"ProveItLink\" href=\"../__pv_it/demonstrations/fd6d96a8fa1d80eb29daf8272b5460a0b6c3669c0/expr.ipynb\"><img src=\"data:image/png;base64,iVBORw0KGgoAAAANSUhEUgAAADgAAAAPBAMAAABD1xE4AAAAMFBMVEX///8iIiLu7u52dna6uroQ\n",
       "EBBmZmaIiIjMzMyqqqoyMjLc3NxERERUVFSYmJgAAAAdjRNVAAAAAXRSTlMAQObYZgAAAONJREFU\n",
       "GNNjYGB4+//snbMbGJABu+iZX4FXwMxfDAx8P1EkGbg4CnTUHgAZHN+BRCqqJA/LA/aGAyAzfgAJ\n",
       "/wdgQb6DglJQSc4JIEmeD0BivwFIjOO4AlwnsxNIkh9E+F8AiWkpIIx17G0AMvoLgEQ9WOdthJ2B\n",
       "/0NAjHqQivsOIOYBJAcxvwOpPw/ifQVbGbUKCKCSDAf8gIw/IFf+AwlxI+tkOMAL9aYqRDgAWfIC\n",
       "F8SbTKsgYukoOh8DQwroTccEiBjjBHjwGTCbXWDgXf839042VIzpjhN6wCMBFhtI8EEAALZERsGv\n",
       "6x6JAAAAAElFTkSuQmCC\n",
       "\" style=\"display:inline;vertical-align:middle;\" /></a>, <a class=\"ProveItLink\" href=\"../__pv_it/demonstrations/9523dc591776f471a5639d111d1ff4d729eec8b30/expr.ipynb\"><img src=\"data:image/png;base64,iVBORw0KGgoAAAANSUhEUgAAADkAAAAPBAMAAACsFXoGAAAAMFBMVEX///8QEBDc3Nyqqqp2dnbM\n",
       "zMyIiIi6uroiIiLu7u4yMjJmZmZERERUVFSYmJgAAADCfy+7AAAAAXRSTlMAQObYZgAAAOVJREFU\n",
       "GNNjYGB4+/80EK+ewIAEMmTOL+wtADN/AfEPBlSwIIzz5D4Qg/0bAwPrbzTZA3UMqTwgBstXBga2\n",
       "zxBBvhMdXTBZY7As1wcGBp6fYDHWYxMQet3ngBj8B4C4ASw2awLCZPbWqyBG/erdu887gMUuIewt\n",
       "7P8IdrN/AANDPsT1B5Bd5fcExFgPxOfBRrJKrQICmCwP+wMg4w/UywwMTCh6eRguQL37BSImgCzL\n",
       "y7AA6t3vELFtKHr5gE7lQHiXgcMAHpIhDC57GRhmr/+bwH3+TwJYjPNOJUYsIAF2H2hIQgAA9VpQ\n",
       "BRkDOOYAAAAASUVORK5CYII=\n",
       "\" style=\"display:inline;vertical-align:middle;\" /></a>, <a class=\"ProveItLink\" href=\"../__pv_it/demonstrations/0a2591baf401d22982769c999067ec2d32050af30/expr.ipynb\"><img src=\"data:image/png;base64,iVBORw0KGgoAAAANSUhEUgAAADEAAAAPBAMAAAC/wjryAAAAMFBMVEX///+qqqoQEBCYmJju7u4i\n",
       "IiLMzMxERER2dna6urrc3NxmZmYyMjJUVFSIiIgAAAAnOzgWAAAAAXRSTlMAQObYZgAAAL1JREFU\n",
       "GNNjYGB4+//0AgYk8FS9/lDsBDDzDwMqOJDHUrIZxOD8gSZTMJnhGTuIwfETIsBcGhoDkxEEy/B8\n",
       "APPZ6hwQejrdQQz+AjDfxwFhGmfYNRBj/gMw/xbCnknxn8Bu60+A8JFd0GwBYpyHWKNzBghgMuyc\n",
       "BkDGdzCXC0UPO8MFoHf+QfgKyDK8DAeA3vkG4e9D0cPcwMDACvEOA6sAPHQyGDr2MjD4nv/bAOaz\n",
       "XJ+CEaJQwNkODR0IAABdDjpFH5fEzgAAAABJRU5ErkJggg==\n",
       "\" style=\"display:inline;vertical-align:middle;\" /></a>, <a class=\"ProveItLink\" href=\"../__pv_it/demonstrations/a8a5eaddb90f549b5e65bdd2ffece006dfb202cb0/expr.ipynb\"><img src=\"data:image/png;base64,iVBORw0KGgoAAAANSUhEUgAAADMAAAAPBAMAAAC7N+rPAAAAMFBMVEX///9ERESIiIiqqqru7u7c\n",
       "3NyYmJi6urpUVFQQEBAyMjLMzMwiIiJmZmZ2dnYAAACebuTwAAAAAXRSTlMAQObYZgAAAMJJREFU\n",
       "GNNjYGBgeHv+LAMy0Jkov/JEAYT9fgOKFMOCTSwi1yDMlagyDAJlDNqMEOYPqFDimTMLoFLGECn2\n",
       "bxCZjSoIXc8dwSy+r2CKZQnCQPbT3WAWzwQwxREAl6o8/xPiQv8GMMWI7IxneWCWvQGY2rkKCGDO\n",
       "YGRPALHuO4ClApF1MTI0MMQ8YDgDEeBEluJgWMCgrwBzO68Csi62BwxmDD4NUJHD8IDax/DuBgMD\n",
       "k1IzTMRD3AEjeGGgTgYSUBAAANB4NSWuT2sGAAAAAElFTkSuQmCC\n",
       "\" style=\"display:inline;vertical-align:middle;\" /></a>, <a class=\"ProveItLink\" href=\"../__pv_it/demonstrations/8993b16fdf09fc3c02d158258ffdfa7b0be7f39a0/expr.ipynb\"><img src=\"data:image/png;base64,iVBORw0KGgoAAAANSUhEUgAAADkAAAAPBAMAAACsFXoGAAAAMFBMVEX///8QEBAiIiJmZmbu7u6Y\n",
       "mJh2dna6urrc3NxERESqqqrMzMwyMjJUVFSIiIgAAACmFsX7AAAAAXRSTlMAQObYZgAAAOxJREFU\n",
       "GNNjYGB4+/8sA8P9PxsYkMAjyfkHdQvAzD9AvLKBAQUc2McyxRTEYP/GwMC6AFWSYUIpw2tOEIPt\n",
       "OwNLBlSQdZKSDkx2FViW5wPDNqgk9zwHhN50TxCD/wCrAVTMxwFhMrv2bRCjPuG9AlTsBsLeQv2P\n",
       "YDfnv2P+BRNDdlVqGIhxPoDjD9RamTNAAJPlZA8AMn4yMMyHBAUHil5OhgtA7/4DWn0BIiaALMvL\n",
       "cADo3d8MDExfIGJ2KHpZE4AyHxgY+L5BxJjgQXZgG0OaLQOD8/m/Dxge/Z8BFmO5WYIRC0iAPRMa\n",
       "khAAALYMSNzdbU43AAAAAElFTkSuQmCC\n",
       "\" style=\"display:inline;vertical-align:middle;\" /></a>, <a class=\"ProveItLink\" href=\"../__pv_it/demonstrations/bca6a62397124fb717dfddfa797954f944dcbc520/expr.ipynb\"><img src=\"data:image/png;base64,iVBORw0KGgoAAAANSUhEUgAAAIcAAAAPBAMAAAA8KsGMAAAAMFBMVEX///92dnYiIiIQEBBERERU\n",
       "VFS6urqIiIjc3NxmZmaqqqru7u6YmJgyMjLMzMwAAADiRdoGAAAAAXRSTlMAQObYZgAAAfpJREFU\n",
       "OMuNUj1IW1EU/vJM8p55Jjo7OdtFpFsdQm3ESaVEQUpNcHMyg9AxbddSDLQRf4ZkdWkfVRQEIYt0\n",
       "KVToUhGJiG6WiDaN2Nb0/LyY+5x64Z2c+50v5+9+AJ8fCJ6uTH0lPXIP3E4VK6+C0F4zlU699C9V\n",
       "Nglxj8V2JIHScQCzh4D1odZNA/hLBW/8wlWPbISjXTlBahVgvmBi7mPidF6TN8OEz0JLNMi80yQ7\n",
       "JW4pMUHG8gTJE/A1Z2LxR2SiA2TOmPBAaPYtmfmK+JV8ln++0zenaYep9KBnYqUy1ylwOioQLQgt\n",
       "fEFmsYfdqPdRkq3TN6pJ6sDJMxNzLvnmcscxShDWbXYnuRPuFluoySYsKpXUWetfFvphYqFG+036\n",
       "gFP15H956SSLRenOziGS1VlpgRsTJmbdtpO8AKbUy/PeMxxPTK9kpAG3D7saDNMC7RsT6/gtN4l+\n",
       "gruvvHE2V7ISoii4il4NdlMXdsPELF4hPgjUWQ6VlfeTBfCHPQKsAcHe8rgtmUR+mZgoBDI9nH0L\n",
       "bZls8BQOJYlf6BTnOdzJpJY0MYf5IRURxlRqIhP3iL3XzLzWzE991jca8qEXwEgFsTV/s2cqNak9\n",
       "y2+y2TxEbPxSxXOgwefN6eITf+wW5r6fXGo9T1zZkWq9mF7G/fMG+B/M8YL3fyOBjcx4XdytAAAA\n",
       "AElFTkSuQmCC\n",
       "\" style=\"display:inline;vertical-align:middle;\" /></a>, <a class=\"ProveItLink\" href=\"../__pv_it/demonstrations/900ba16a8b1488fa298f6dcdaeaab27f21ae296b0/expr.ipynb\"><img src=\"data:image/png;base64,iVBORw0KGgoAAAANSUhEUgAAAEMAAAAPBAMAAABNfm9XAAAAMFBMVEX///92dnYiIiIQEBBERERU\n",
       "VFS6urqIiIjc3NxmZmaqqqru7u6YmJgyMjLMzMwAAADiRdoGAAAAAXRSTlMAQObYZgAAAOdJREFU\n",
       "KM9jYACBtwxYwNH/nkB8cwOEdx+bEoa/QPwJyua5vwGLCrbvDAx8P6GcXfMbEDIeMAbjPwYG9l9Q\n",
       "zoH6BISSJzAG7wcGBpbfUBM3rD+AUMIzAcrgdwBiBQh7G8P7AhDNqQQGMOvzb86c6S8AYScw9E9A\n",
       "cibXLQgt/4CBAeoCvsiZ8Q7IXtlrBg8Jf4hX2RgYmC8gqeAIhPjvCzRogGABAwOTAdgtdyGgAREs\n",
       "HyGaFkD8Bw+xC0jB8g3MbAJilh9ILoGGNBM8WLb8v83A5f8J4aU4CLXz/tcCTv8vBdgirwFdAAD4\n",
       "kEhZDp6HZgAAAABJRU5ErkJggg==\n",
       "\" style=\"display:inline;vertical-align:middle;\" /></a>, <a class=\"ProveItLink\" href=\"../__pv_it/demonstrations/b24f546edec568859c01513446f97204aa51123d0/expr.ipynb\"><img src=\"data:image/png;base64,iVBORw0KGgoAAAANSUhEUgAAADwAAAAPBAMAAABKPLFCAAAAMFBMVEX///92dnYyMjKqqqoiIiLu\n",
       "7u7c3NyIiIjMzMwQEBC6urpERERmZmZUVFSYmJgAAADEjrHzAAAAAXRSTlMAQObYZgAAANJJREFU\n",
       "GNNjYGB4+//O2d0LGDAA+/1Px0D0bAYGnh+Y0gz8CiCS4x8DA9cfLNLrBcCGfGNg4PsOF9wGZ8mD\n",
       "beSewMAQ6QoX7Iaz9CFWXGDg8A2AC/IdgLF+g8n+e8+3GIAYPC5gAHMGF8TC+gQG1rlILmJWhtCM\n",
       "EN/sBCkxQJIPmgWmmD6Aqb8g6QKELNvFBIibNsC8zXAf5AceJQhIgHq7AOZtjt8IzVwKMG83gK0A\n",
       "envlViSbYX70BxG8+n/P3N6M5LAbEIr10v+LWAKaIQGZAwC2YTeanNre7gAAAABJRU5ErkJggg==\n",
       "\" style=\"display:inline;vertical-align:middle;\" /></a>, <a class=\"ProveItLink\" href=\"../__pv_it/demonstrations/e2e347a7b0df83790ac7c2d7d0f2325aa0b84bb00/expr.ipynb\"><img src=\"data:image/png;base64,iVBORw0KGgoAAAANSUhEUgAAAD0AAAAPBAMAAACl/tp8AAAAMFBMVEX////MzMy6uroyMjIiIiKq\n",
       "qqoQEBB2dnbc3NyYmJhmZmZUVFRERESIiIju7u4AAACOKgoaAAAAAXRSTlMAQObYZgAAANBJREFU\n",
       "GNNjYGDgu7NrJ0cBAyao8vcCUdcmMLAum4BFnqFeAEi88QMS6xuwyZuBiQdAQg0uxoOk8jcQc30F\n",
       "saTgYowH4Eymn0Ci3wHEfIHQNAvOYv8BcsMFOH+JCwj4L4DxWRKAhL8AuquCA6CM9xuARD7IeQwP\n",
       "kOT5zBQgjHiQQn8QixXZkO4KKGP9A5jP2cH8xcZgYAHmtBQwuIDofpD76pC0K0Oo+xfA3mNgBZJR\n",
       "SNbz2UHoSIYnG8CMV6d3KSBp54Y6hffuVmxBzsCBygUAWB4x+ghK/ZsAAAAASUVORK5CYII=\n",
       "\" style=\"display:inline;vertical-align:middle;\" /></a>, <a class=\"ProveItLink\" href=\"../__pv_it/demonstrations/a0a10cb881b31226d62b273b042de5593a3b7cce0/expr.ipynb\"><img src=\"data:image/png;base64,iVBORw0KGgoAAAANSUhEUgAAAEUAAAAPBAMAAABAYB8QAAAAMFBMVEX///8iIiLu7u52dna6uroQ\n",
       "EBBmZmaIiIjMzMyqqqoyMjLc3NxERERUVFSYmJgAAAAdjRNVAAAAAXRSTlMAQObYZgAAAPdJREFU\n",
       "KM9jYGB4+//snbMbGDBB7f+1DAz3fzWA2L8YGPh+YlEDkmCYA9bN8R1IpGJRwvIZqHkCmMn+A0j4\n",
       "P4BLnYYxmL8wMFlDmDwfgMR+A7iaHhiD6wNDM5TJfwBkzgW4Gr4EmMQCOLO/AEjUg8xhEwSDb1AJ\n",
       "f4N6ASizHuS5+w4It3KuhND25Www754HEV+RPaQVAqbWP+D+BRX5A3LDPyQl3Jc3wCTOgwMQEjyq\n",
       "IHczsK2CAIgSlu9wr4CCh2kVctAtgAYPUILxEywUGBwTkF2jAKEZgRLsn0Es3vV/c+9kI7v4BoRS\n",
       "W/+3gKHw/2lsEcmAkQQACeVKouJm2asAAAAASUVORK5CYII=\n",
       "\" style=\"display:inline;vertical-align:middle;\" /></a> <a class=\"ProveItLink\" href=\"../__pv_it/demonstrations/c27c70fe00fde315bd60f6651edf685e0a9786430/proof.ipynb\" style=\"text-decoration: none\">&nbsp;&#x22A2;&nbsp;&nbsp;</a><a class=\"ProveItLink\" href=\"../__pv_it/demonstrations/d91798318f4731e07b621e9e1c3499dab6f1fb120/expr.ipynb\"><img src=\"data:image/png;base64,iVBORw0KGgoAAAANSUhEUgAAAIMAAAAPBAMAAAA1wWH2AAAAMFBMVEX///8QEBDc3Nyqqqp2dnbM\n",
       "zMyIiIi6uroiIiLu7u4yMjJmZmZERERUVFSYmJgAAADCfy+7AAAAAXRSTlMAQObYZgAAAZdJREFU\n",
       "KM+FUj1LA0EQHfJx3nlJ9Cek1Sq9FkF/gBaWRq4KNiHpLXKCjYWQUhQh2B4SwUZIEwJWFpdGtDOV\n",
       "nSAk5suEODs7u2fuAg7MZPLm3bu53QcAn/NnTK8Gf6M097ILACQeR/chyh3A+2Rf9BPMkWiSNCKM\n",
       "QNkmlcb3Eso2vWhlgJMf0aXFKOMQ2Bf1RZQPllhdj1IyOa1u9Oh9HSwmfVFiKGpBlHOWWOtEKNYO\n",
       "q38BpMbU3mKeaBArrrmiTqDajVAOlHoL06V2C7OtQYA4Pp5Sx7qXDVHqGa3uNZt+nloTN21JkD4X\n",
       "UPlQ3cBpmJIvu0odT6hcodZwIF3RIEYR4JVp1ixMKdo9njUwfekKy4WrAMS4BKvOtHgvTOnGJjyb\n",
       "KhdgPMBuAGLYuUSOR/Y4SvHlrmSLPvM2wdWgiFjdlL9nYLpRSrUT2GLIEqkjJ3CiiCdpLGPAd7pI\n",
       "MeVmZmALXOetpkGKgjRWvGtdLKEYtP11Y+bY/tRhgkf1pjHLs+/46osldSZMEc/B8bwNkdgI/Y/V\n",
       "/qX8AvcUhV+FbUMHAAAAAElFTkSuQmCC\n",
       "\" style=\"display:inline;vertical-align:middle;\" /></a></span>"
      ],
      "text/plain": [
       "{A in BOOLEAN, B in BOOLEAN, C in BOOLEAN, D in BOOLEAN, H in BOOLEAN, I in BOOLEAN, J in BOOLEAN, K in BOOLEAN, A or B or C or D, A => H, B => I, C => J, D => K} |- H or I or J or K"
      ]
     },
     "execution_count": 25,
     "metadata": {},
     "output_type": "execute_result"
    }
   ],
   "source": [
    "Or(A,B,C,D).derive_via_dilemma(Or(H,I,J,K),[Or(A,B,C,D), Implies(A,H), Implies(B,I), Implies(C,J), Implies(D,K),in_bool(A), in_bool(B), in_bool(C), in_bool(D), in_bool(H), in_bool(I), in_bool(J), in_bool(K)])"
   ]
  },
  {
   "cell_type": "code",
   "execution_count": 26,
   "metadata": {},
   "outputs": [
    {
     "data": {
      "text/html": [
       "<span style=\"font-size:20px;\"><a class=\"ProveItLink\" href=\"../__pv_it/demonstrations/d91798318f4731e07b621e9e1c3499dab6f1fb120/expr.ipynb\"><img src=\"data:image/png;base64,iVBORw0KGgoAAAANSUhEUgAAAIMAAAAPBAMAAAA1wWH2AAAAMFBMVEX///8QEBDc3Nyqqqp2dnbM\n",
       "zMyIiIi6uroiIiLu7u4yMjJmZmZERERUVFSYmJgAAADCfy+7AAAAAXRSTlMAQObYZgAAAZdJREFU\n",
       "KM+FUj1LA0EQHfJx3nlJ9Cek1Sq9FkF/gBaWRq4KNiHpLXKCjYWQUhQh2B4SwUZIEwJWFpdGtDOV\n",
       "nSAk5suEODs7u2fuAg7MZPLm3bu53QcAn/NnTK8Gf6M097ILACQeR/chyh3A+2Rf9BPMkWiSNCKM\n",
       "QNkmlcb3Eso2vWhlgJMf0aXFKOMQ2Bf1RZQPllhdj1IyOa1u9Oh9HSwmfVFiKGpBlHOWWOtEKNYO\n",
       "q38BpMbU3mKeaBArrrmiTqDajVAOlHoL06V2C7OtQYA4Pp5Sx7qXDVHqGa3uNZt+nloTN21JkD4X\n",
       "UPlQ3cBpmJIvu0odT6hcodZwIF3RIEYR4JVp1ixMKdo9njUwfekKy4WrAMS4BKvOtHgvTOnGJjyb\n",
       "KhdgPMBuAGLYuUSOR/Y4SvHlrmSLPvM2wdWgiFjdlL9nYLpRSrUT2GLIEqkjJ3CiiCdpLGPAd7pI\n",
       "MeVmZmALXOetpkGKgjRWvGtdLKEYtP11Y+bY/tRhgkf1pjHLs+/46osldSZMEc/B8bwNkdgI/Y/V\n",
       "/qX8AvcUhV+FbUMHAAAAAElFTkSuQmCC\n",
       "\" style=\"display:inline;vertical-align:middle;\" /></a> <a class=\"ProveItLink\" href=\"../__pv_it/demonstrations/8af4ee8c296faf5a13dd5a0b64451c3648e7ede80/proof.ipynb\" style=\"text-decoration: none\">&nbsp;&#x22A2;&nbsp;&nbsp;</a><a class=\"ProveItLink\" href=\"../__pv_it/demonstrations/a8a5eaddb90f549b5e65bdd2ffece006dfb202cb0/expr.ipynb\"><img src=\"data:image/png;base64,iVBORw0KGgoAAAANSUhEUgAAADMAAAAPBAMAAAC7N+rPAAAAMFBMVEX///9ERESIiIiqqqru7u7c\n",
       "3NyYmJi6urpUVFQQEBAyMjLMzMwiIiJmZmZ2dnYAAACebuTwAAAAAXRSTlMAQObYZgAAAMJJREFU\n",
       "GNNjYGBgeHv+LAMy0Jkov/JEAYT9fgOKFMOCTSwi1yDMlagyDAJlDNqMEOYPqFDimTMLoFLGECn2\n",
       "bxCZjSoIXc8dwSy+r2CKZQnCQPbT3WAWzwQwxREAl6o8/xPiQv8GMMWI7IxneWCWvQGY2rkKCGDO\n",
       "YGRPALHuO4ClApF1MTI0MMQ8YDgDEeBEluJgWMCgrwBzO68Csi62BwxmDD4NUJHD8IDax/DuBgMD\n",
       "k1IzTMRD3AEjeGGgTgYSUBAAANB4NSWuT2sGAAAAAElFTkSuQmCC\n",
       "\" style=\"display:inline;vertical-align:middle;\" /></a></span>"
      ],
      "text/plain": [
       "{H or I or J or K} |- J in BOOLEAN"
      ]
     },
     "execution_count": 26,
     "metadata": {},
     "output_type": "execute_result"
    }
   ],
   "source": [
    "Or(H, I, J, K).deduce_part_in_bool(2, [Or(H, I, J, K)])"
   ]
  },
  {
   "cell_type": "markdown",
   "metadata": {},
   "source": [
    "destructive_dilemma"
   ]
  },
  {
   "cell_type": "code",
   "execution_count": 27,
   "metadata": {},
   "outputs": [
    {
     "data": {
      "text/html": [
       "<span style=\"font-size:20px;\"><a class=\"ProveItLink\" href=\"../../__pv_it/theorems/ddc941563dffabdeb005429c2f934b2b6ccbeab10/expr.ipynb\"><img src=\"data:image/png;base64,iVBORw0KGgoAAAANSUhEUgAAADYAAAAPBAMAAABdHiGLAAAAMFBMVEX///92dnYiIiIQEBBERERU\n",
       "VFS6urqIiIjc3NxmZmaqqqru7u6YmJgyMjLMzMwAAADiRdoGAAAAAXRSTlMAQObYZgAAANdJREFU\n",
       "GNNjYACBtwwogF3Z5a9RGJRzH1WOgZevYMvOA2Amz/0NqHIsbAfYHziAmbvmN0DEeJyUdKFyXAsg\n",
       "cgfqE8A0n/sGuD7GbLAc24b1ELP3bkCYmfT0AYi1jeF9AVgoAmGf0X8zMCuBoX8CmOGA5BbGMwIg\n",
       "WyJnxoNF+WzvAgFUjsEhB2QdAwPzBZAIB7I+BgdWIGMBAwOTAVjIAFkugBeoGijH+wEsNB1F30EG\n",
       "hiYQ+wdYiGkBPMwEGCUDGLb8v83A5f8J7FDukGzMsIYBNhFImEEAAEUpOYcaSaDVAAAAAElFTkSu\n",
       "QmCC\n",
       "\" style=\"display:inline;vertical-align:middle;\" /></a>, <a class=\"ProveItLink\" href=\"../__pv_it/theorems/67501eb487d67b93f0ec3f6965561f782e470d670/expr.ipynb\"><img src=\"data:image/png;base64,iVBORw0KGgoAAAANSUhEUgAAADcAAAAPBAMAAACy3Eq1AAAAMFBMVEX///92dnYyMjKqqqoiIiLu\n",
       "7u7c3NyIiIjMzMwQEBC6urpERERmZmZUVFSYmJgAAADEjrHzAAAAAXRSTlMAQObYZgAAAOZJREFU\n",
       "GNNjYGB4+//O2d0LGJBByez9mr4QodkMDDw/UCQZFNpZt54DMTj+MTBw/UGV3LCOoYIbxGD/xsDA\n",
       "9x0sxrfFxQkmaQyW5J7AwBDpCjZjewBCp1Q0iMF/gYHDFywaFIAwlsvjBojRf+/5FgOw0DWEnSv9\n",
       "f4JdW5/AwDoXIoTsILmHIMZOkAKQVo5JSkAAk+TmegBk/AVJFgAJNhSd3AwXIN5kuA+2YAKyJC+D\n",
       "AsSbHL/BQsdRdPIJMDAwAdWv3AoWYjGAB18jg+BZBgZe/b9nbm+GCLHeXooR8AjAJQ0NPggAAH2B\n",
       "SAzP/7V+AAAAAElFTkSuQmCC\n",
       "\" style=\"display:inline;vertical-align:middle;\" /></a>, <a class=\"ProveItLink\" href=\"../__pv_it/demonstrations/6d4a76c8afef1311edaf37cd3d7c58f6a0f3bae70/expr.ipynb\"><img src=\"data:image/png;base64,iVBORw0KGgoAAAANSUhEUgAAADYAAAAPBAMAAABdHiGLAAAAMFBMVEX////MzMy6uroyMjIiIiKq\n",
       "qqoQEBB2dnbc3NyYmJhmZmZUVFRERESIiIju7u4AAACOKgoaAAAAAXRSTlMAQObYZgAAANxJREFU\n",
       "GNNjYGDgu7NrJ0cBAxLgdTvzOWUTiHVtAgPrsgnIcgzMjBfevAIKvfEDctY3oMjxME3gFTjAwGD2\n",
       "AMhRg4jNcXExgMqxBhxg4PoK4kiBpWTuIfSx6x1g6HcAcV6ACD47JDNVpAUY6i/AbeFuQMil/E9i\n",
       "YPAXQLgA2S3sMwsY8kFOYQATYsZAAHMLwwFNBn8QmxWsuQdZH8MBbojP2MEibChyG5gZ+kFuqQOL\n",
       "cF1A0TedgfUnA0PUA4iQKyLMCtirNjAwvDq9SwEq9PrQA7SwRgLqRyBhBgEActk8e8zZ+EcAAAAA\n",
       "SUVORK5CYII=\n",
       "\" style=\"display:inline;vertical-align:middle;\" /></a>, <a class=\"ProveItLink\" href=\"../__pv_it/demonstrations/fd6d96a8fa1d80eb29daf8272b5460a0b6c3669c0/expr.ipynb\"><img src=\"data:image/png;base64,iVBORw0KGgoAAAANSUhEUgAAADgAAAAPBAMAAABD1xE4AAAAMFBMVEX///8iIiLu7u52dna6uroQ\n",
       "EBBmZmaIiIjMzMyqqqoyMjLc3NxERERUVFSYmJgAAAAdjRNVAAAAAXRSTlMAQObYZgAAAONJREFU\n",
       "GNNjYGB4+//snbMbGJABu+iZX4FXwMxfDAx8P1EkGbg4CnTUHgAZHN+BRCqqJA/LA/aGAyAzfgAJ\n",
       "/wdgQb6DglJQSc4JIEmeD0BivwFIjOO4AlwnsxNIkh9E+F8AiWkpIIx17G0AMvoLgEQ9WOdthJ2B\n",
       "/0NAjHqQivsOIOYBJAcxvwOpPw/ifQVbGbUKCKCSDAf8gIw/IFf+AwlxI+tkOMAL9aYqRDgAWfIC\n",
       "F8SbTKsgYukoOh8DQwroTccEiBjjBHjwGTCbXWDgXf839042VIzpjhN6wCMBFhtI8EEAALZERsGv\n",
       "6x6JAAAAAElFTkSuQmCC\n",
       "\" style=\"display:inline;vertical-align:middle;\" /></a>, <a class=\"ProveItLink\" href=\"../__pv_it/theorems/92dcdd199f78df57405194378f962daefd52bcaf0/expr.ipynb\"><img src=\"data:image/png;base64,iVBORw0KGgoAAAANSUhEUgAAAHEAAAAUBAMAAABIac8KAAAAMFBMVEX////MzMxUVFR2dna6uroQ\n",
       "EBCqqqqIiIgiIiJmZmYyMjJERETu7u6YmJjc3NwAAACgK8IjAAAAAXRSTlMAQObYZgAAAdJJREFU\n",
       "OMuNVClMQ0EQffSX3i1NLYJCcCRQR3CVdVQgISkODNQRFFUNooJwKAiUBIXgqMIUahoINQ2mCYKQ\n",
       "YHAcCUe4Z+Zf+/tJYMXb2fffzM7OTD4Qa8K5fNdthFuCGYaGQpxWlps3GGzXKZKL78pA5Roejr5n\n",
       "0/4JYHoC53KIM3SIqUjwBkSfESnTtmSRkaMaEPyCludTL0OLQZGg44VgDRgGAvarQuME3iwiWT4l\n",
       "GEoMigT+B4LRJurArc1u5TgoXbAjcUjvldsUCcL3BHcphNKYtyv4KimTw4iUmLzCctu84tl1wHcm\n",
       "oS2hapHai2ldChaAbjGqimcP12AhhWgZRSrKIq9U4MH8PCU4B/SLYUvIiUs+lIavgDEz12Tnh2TL\n",
       "gYU5k9rTsiXACRtPVI57hQ7w4zFpeQZzWs7l+c5d+hTPokVTJ2lRRsjoTDkAM1vTU9pZpyp5C9bz\n",
       "Y8kYs1rNqhAOW3BUiDy5nZFdvresd0CfttkmfBtsruhMoqTviiREL8pwk4MpIzN9+tb7VsXYNmbK\n",
       "mDpb4tl/XB7YlG9xx2iZEQpGdjV9/0VChXeMszkSeef5FwlPPI5d7Hk74ZZIpxv4U+iWyEC7fhXR\n",
       "f/xNroAfgAh2Z7IpXNYAAAAASUVORK5CYII=\n",
       "\" style=\"display:inline;vertical-align:middle;\" /></a>, <a class=\"ProveItLink\" href=\"../__pv_it/theorems/56a3e61828ec431744fbff6a1a85c149617bc5cf0/expr.ipynb\"><img src=\"data:image/png;base64,iVBORw0KGgoAAAANSUhEUgAAAD8AAAAPBAMAAAChCwpBAAAAMFBMVEX///92dnYiIiIQEBBERERU\n",
       "VFS6urqIiIjc3NxmZmaqqqru7u6YmJgyMjLMzMwAAADiRdoGAAAAAXRSTlMAQObYZgAAAONJREFU\n",
       "GNNjYACBtwxYAHdJZAyHAIR9H5uC4gMMXJMPgJk89zdgym/RBhLzG8DsXVAaBFhgzMsgTckQ9oH6\n",
       "BLgCPgcIzfkLRL4Es9k2rD+AMPokhOpXAJE7wOxtDO8LQPQkJRDQnwAWlC9A6Elg6J+A5Lq1C0Ck\n",
       "/gOErZEz4x2Q/X8Z5CJ7sMfABBsDA/MFJAWtEmATQAQX2BigiUwGIMbcu2BwA6wM7HNGEIsDqID3\n",
       "A8KAXKgvQI6UBrGaQKHzA+GC2xCa6w8Dw0qQE7b8v83A5f8J7g1WmOt3ukYmYIsiDjQ+AHM/PMle\n",
       "6aWhAAAAAElFTkSuQmCC\n",
       "\" style=\"display:inline;vertical-align:middle;\" /></a>, <a class=\"ProveItLink\" href=\"../__pv_it/theorems/c2aa04bf99ae24ec8b0363b3be1acdac5538f46b0/expr.ipynb\"><img src=\"data:image/png;base64,iVBORw0KGgoAAAANSUhEUgAAAEIAAAAPBAMAAACivARpAAAAMFBMVEX///92dnYyMjKqqqoiIiLu\n",
       "7u7c3NyIiIjMzMwQEBC6urpERERmZmZUVFSYmJgAAADEjrHzAAAAAXRSTlMAQObYZgAAAP1JREFU\n",
       "GNNjYGB4+//O2d0LGDAA3/3fd3dfAzNnMzDw/MBUwcCvwMDw3gDI4PjHwMD1B4uK/gKg1glABvs3\n",
       "oInf4eLcCTBWfQNQ6z+QEFBZpCtcBccGGGs/ELN9BFl3gYHDNwBh+BsY4zcQc/0FWXfv+RYDsNAR\n",
       "FxDwPwA1DGQzO8iM+gQG1rnILjSCqGcH+Y/3F5DYCVJlgKSCVRMcOtwfQE4A+QVkU30BkopcMUhw\n",
       "gJz8/gEkOBjug3UdUgIDNURwsM6GBgfHbyQjFiEFRxAwWBmYgDat3IrkClUoQx/oVx+QY/X/nrm9\n",
       "GckI3gYIfen/nbt7ErBEBgMbGh8A3QJGysHKhroAAAAASUVORK5CYII=\n",
       "\" style=\"display:inline;vertical-align:middle;\" /></a> <a class=\"ProveItLink\" href=\"../__pv_it/demonstrations/cd4b66c5450e22209e81c13042a454a3a966487f0/proof.ipynb\" style=\"text-decoration: none\">&nbsp;&#x22A2;&nbsp;&nbsp;</a><a class=\"ProveItLink\" href=\"../__pv_it/theorems/3870a1e3bdc3c143f78b0c708defe513bf682f6d0/expr.ipynb\"><img src=\"data:image/png;base64,iVBORw0KGgoAAAANSUhEUgAAAG8AAAAUBAMAAABxDn5RAAAAMFBMVEX////MzMxUVFR2dna6uroQ\n",
       "EBCqqqqIiIgiIiJmZmYyMjJERETu7u6YmJjc3NwAAACgK8IjAAAAAXRSTlMAQObYZgAAAeVJREFU\n",
       "OMuFVD0sBEEU/m7dn9u7daVI5JT+gorotqSiUEg0Shq2FYVNJKK6XEiEykkoJIKCSnCFEznNtSfx\n",
       "E5UIcbkIKrw3u8vMrsQkM/feu+/9fW9mAaMMdUXvfAY8+w1TfFwqpibaXT5Ycv9HTHXX1joOoHHs\n",
       "XQW0R7vEQkioaT4SUgkRCrKeTuYpRk72S+0VgDqLJI19UiyhIgEy1NhQDn1AXOnofJ3U5DBnbKEj\n",
       "XmBjVgLM0f+3ForAg1Jpec6kcxNuC4MsGLYEOKS4owUkTMzIfuHCNHPcz/Ik7RMWYnIzNaCxk7rJ\n",
       "4Vh2PEOGu7piOU7lCjp1aV6h2vXsAjefB/3UL/LqId3EC4efEIksaKaIMA6sMmKejJ9AkbqP2hhx\n",
       "YxmkhtrWujlJRkzPduaCiOlC7ik78RZ7I2RVcQwTKu85YgW9AccGQsXeheOC5Eg1xXkUA8LyCIdO\n",
       "LtVz5DFqr5TC/iGHHA1CJKoeOdCbLSjk3DtjzOwLcvo9wtJipDp1j2WHwVYxfqbepRTYomRjZK7v\n",
       "ccsSt/1rB9HTD4JtOIZtd7i/F6D9q23piCtPpH1XDi6fYj25ejaAwIX/kju1WapeCTr2eddKWSWf\n",
       "rgeK4mfle8j4I5T0kOVQgU9H6v9Pxw3wDaZ5ePDKcBH8AAAAAElFTkSuQmCC\n",
       "\" style=\"display:inline;vertical-align:middle;\" /></a></span>"
      ],
      "text/plain": [
       "{A in BOOLEAN, B in BOOLEAN, C in BOOLEAN, D in BOOLEAN, not(C) or not(D), A => C, B => D} |- not(A) or not(B)"
      ]
     },
     "execution_count": 27,
     "metadata": {},
     "output_type": "execute_result"
    }
   ],
   "source": [
    "Or(Not(C),Not(D)).derive_via_dilemma(Or(Not(A),Not(B)),[Or(Not(C),Not(D)), Implies(A,C), Implies(B,D),in_bool(A),in_bool(B),in_bool(C),in_bool(D)])"
   ]
  },
  {
   "cell_type": "code",
   "execution_count": 28,
   "metadata": {},
   "outputs": [
    {
     "data": {
      "text/html": [
       "<span style=\"font-size:20px;\"><a class=\"ProveItLink\" href=\"../../__pv_it/theorems/ddc941563dffabdeb005429c2f934b2b6ccbeab10/expr.ipynb\"><img src=\"data:image/png;base64,iVBORw0KGgoAAAANSUhEUgAAADYAAAAPBAMAAABdHiGLAAAAMFBMVEX///92dnYiIiIQEBBERERU\n",
       "VFS6urqIiIjc3NxmZmaqqqru7u6YmJgyMjLMzMwAAADiRdoGAAAAAXRSTlMAQObYZgAAANdJREFU\n",
       "GNNjYACBtwwogF3Z5a9RGJRzH1WOgZevYMvOA2Amz/0NqHIsbAfYHziAmbvmN0DEeJyUdKFyXAsg\n",
       "cgfqE8A0n/sGuD7GbLAc24b1ELP3bkCYmfT0AYi1jeF9AVgoAmGf0X8zMCuBoX8CmOGA5BbGMwIg\n",
       "WyJnxoNF+WzvAgFUjsEhB2QdAwPzBZAIB7I+BgdWIGMBAwOTAVjIAFkugBeoGijH+wEsNB1F30EG\n",
       "hiYQ+wdYiGkBPMwEGCUDGLb8v83A5f8J7FDukGzMsIYBNhFImEEAAEUpOYcaSaDVAAAAAElFTkSu\n",
       "QmCC\n",
       "\" style=\"display:inline;vertical-align:middle;\" /></a>, <a class=\"ProveItLink\" href=\"../__pv_it/theorems/67501eb487d67b93f0ec3f6965561f782e470d670/expr.ipynb\"><img src=\"data:image/png;base64,iVBORw0KGgoAAAANSUhEUgAAADcAAAAPBAMAAACy3Eq1AAAAMFBMVEX///92dnYyMjKqqqoiIiLu\n",
       "7u7c3NyIiIjMzMwQEBC6urpERERmZmZUVFSYmJgAAADEjrHzAAAAAXRSTlMAQObYZgAAAOZJREFU\n",
       "GNNjYGB4+//O2d0LGJBByez9mr4QodkMDDw/UCQZFNpZt54DMTj+MTBw/UGV3LCOoYIbxGD/xsDA\n",
       "9x0sxrfFxQkmaQyW5J7AwBDpCjZjewBCp1Q0iMF/gYHDFywaFIAwlsvjBojRf+/5FgOw0DWEnSv9\n",
       "f4JdW5/AwDoXIoTsILmHIMZOkAKQVo5JSkAAk+TmegBk/AVJFgAJNhSd3AwXIN5kuA+2YAKyJC+D\n",
       "AsSbHL/BQsdRdPIJMDAwAdWv3AoWYjGAB18jg+BZBgZe/b9nbm+GCLHeXooR8AjAJQ0NPggAAH2B\n",
       "SAzP/7V+AAAAAElFTkSuQmCC\n",
       "\" style=\"display:inline;vertical-align:middle;\" /></a>, <a class=\"ProveItLink\" href=\"../__pv_it/demonstrations/6d4a76c8afef1311edaf37cd3d7c58f6a0f3bae70/expr.ipynb\"><img src=\"data:image/png;base64,iVBORw0KGgoAAAANSUhEUgAAADYAAAAPBAMAAABdHiGLAAAAMFBMVEX////MzMy6uroyMjIiIiKq\n",
       "qqoQEBB2dnbc3NyYmJhmZmZUVFRERESIiIju7u4AAACOKgoaAAAAAXRSTlMAQObYZgAAANxJREFU\n",
       "GNNjYGDgu7NrJ0cBAxLgdTvzOWUTiHVtAgPrsgnIcgzMjBfevAIKvfEDctY3oMjxME3gFTjAwGD2\n",
       "AMhRg4jNcXExgMqxBhxg4PoK4kiBpWTuIfSx6x1g6HcAcV6ACD47JDNVpAUY6i/AbeFuQMil/E9i\n",
       "YPAXQLgA2S3sMwsY8kFOYQATYsZAAHMLwwFNBn8QmxWsuQdZH8MBbojP2MEibChyG5gZ+kFuqQOL\n",
       "cF1A0TedgfUnA0PUA4iQKyLMCtirNjAwvDq9SwEq9PrQA7SwRgLqRyBhBgEActk8e8zZ+EcAAAAA\n",
       "SUVORK5CYII=\n",
       "\" style=\"display:inline;vertical-align:middle;\" /></a>, <a class=\"ProveItLink\" href=\"../__pv_it/demonstrations/fd6d96a8fa1d80eb29daf8272b5460a0b6c3669c0/expr.ipynb\"><img src=\"data:image/png;base64,iVBORw0KGgoAAAANSUhEUgAAADgAAAAPBAMAAABD1xE4AAAAMFBMVEX///8iIiLu7u52dna6uroQ\n",
       "EBBmZmaIiIjMzMyqqqoyMjLc3NxERERUVFSYmJgAAAAdjRNVAAAAAXRSTlMAQObYZgAAAONJREFU\n",
       "GNNjYGB4+//snbMbGJABu+iZX4FXwMxfDAx8P1EkGbg4CnTUHgAZHN+BRCqqJA/LA/aGAyAzfgAJ\n",
       "/wdgQb6DglJQSc4JIEmeD0BivwFIjOO4AlwnsxNIkh9E+F8AiWkpIIx17G0AMvoLgEQ9WOdthJ2B\n",
       "/0NAjHqQivsOIOYBJAcxvwOpPw/ifQVbGbUKCKCSDAf8gIw/IFf+AwlxI+tkOMAL9aYqRDgAWfIC\n",
       "F8SbTKsgYukoOh8DQwroTccEiBjjBHjwGTCbXWDgXf839042VIzpjhN6wCMBFhtI8EEAALZERsGv\n",
       "6x6JAAAAAElFTkSuQmCC\n",
       "\" style=\"display:inline;vertical-align:middle;\" /></a>, <a class=\"ProveItLink\" href=\"../__pv_it/demonstrations/9523dc591776f471a5639d111d1ff4d729eec8b30/expr.ipynb\"><img src=\"data:image/png;base64,iVBORw0KGgoAAAANSUhEUgAAADkAAAAPBAMAAACsFXoGAAAAMFBMVEX///8QEBDc3Nyqqqp2dnbM\n",
       "zMyIiIi6uroiIiLu7u4yMjJmZmZERERUVFSYmJgAAADCfy+7AAAAAXRSTlMAQObYZgAAAOVJREFU\n",
       "GNNjYGB4+/80EK+ewIAEMmTOL+wtADN/AfEPBlSwIIzz5D4Qg/0bAwPrbzTZA3UMqTwgBstXBga2\n",
       "zxBBvhMdXTBZY7As1wcGBp6fYDHWYxMQet3ngBj8B4C4ASw2awLCZPbWqyBG/erdu887gMUuIewt\n",
       "7P8IdrN/AANDPsT1B5Bd5fcExFgPxOfBRrJKrQICmCwP+wMg4w/UywwMTCh6eRguQL37BSImgCzL\n",
       "y7AA6t3vELFtKHr5gE7lQHiXgcMAHpIhDC57GRhmr/+bwH3+TwJYjPNOJUYsIAF2H2hIQgAA9VpQ\n",
       "BRkDOOYAAAAASUVORK5CYII=\n",
       "\" style=\"display:inline;vertical-align:middle;\" /></a>, <a class=\"ProveItLink\" href=\"../__pv_it/demonstrations/0a2591baf401d22982769c999067ec2d32050af30/expr.ipynb\"><img src=\"data:image/png;base64,iVBORw0KGgoAAAANSUhEUgAAADEAAAAPBAMAAAC/wjryAAAAMFBMVEX///+qqqoQEBCYmJju7u4i\n",
       "IiLMzMxERER2dna6urrc3NxmZmYyMjJUVFSIiIgAAAAnOzgWAAAAAXRSTlMAQObYZgAAAL1JREFU\n",
       "GNNjYGB4+//0AgYk8FS9/lDsBDDzDwMqOJDHUrIZxOD8gSZTMJnhGTuIwfETIsBcGhoDkxEEy/B8\n",
       "APPZ6hwQejrdQQz+AjDfxwFhGmfYNRBj/gMw/xbCnknxn8Bu60+A8JFd0GwBYpyHWKNzBghgMuyc\n",
       "BkDGdzCXC0UPO8MFoHf+QfgKyDK8DAeA3vkG4e9D0cPcwMDACvEOA6sAPHQyGDr2MjD4nv/bAOaz\n",
       "XJ+CEaJQwNkODR0IAABdDjpFH5fEzgAAAABJRU5ErkJggg==\n",
       "\" style=\"display:inline;vertical-align:middle;\" /></a>, <a class=\"ProveItLink\" href=\"../__pv_it/demonstrations/a8a5eaddb90f549b5e65bdd2ffece006dfb202cb0/expr.ipynb\"><img src=\"data:image/png;base64,iVBORw0KGgoAAAANSUhEUgAAADMAAAAPBAMAAAC7N+rPAAAAMFBMVEX///9ERESIiIiqqqru7u7c\n",
       "3NyYmJi6urpUVFQQEBAyMjLMzMwiIiJmZmZ2dnYAAACebuTwAAAAAXRSTlMAQObYZgAAAMJJREFU\n",
       "GNNjYGBgeHv+LAMy0Jkov/JEAYT9fgOKFMOCTSwi1yDMlagyDAJlDNqMEOYPqFDimTMLoFLGECn2\n",
       "bxCZjSoIXc8dwSy+r2CKZQnCQPbT3WAWzwQwxREAl6o8/xPiQv8GMMWI7IxneWCWvQGY2rkKCGDO\n",
       "YGRPALHuO4ClApF1MTI0MMQ8YDgDEeBEluJgWMCgrwBzO68Csi62BwxmDD4NUJHD8IDax/DuBgMD\n",
       "k1IzTMRD3AEjeGGgTgYSUBAAANB4NSWuT2sGAAAAAElFTkSuQmCC\n",
       "\" style=\"display:inline;vertical-align:middle;\" /></a>, <a class=\"ProveItLink\" href=\"../__pv_it/demonstrations/8993b16fdf09fc3c02d158258ffdfa7b0be7f39a0/expr.ipynb\"><img src=\"data:image/png;base64,iVBORw0KGgoAAAANSUhEUgAAADkAAAAPBAMAAACsFXoGAAAAMFBMVEX///8QEBAiIiJmZmbu7u6Y\n",
       "mJh2dna6urrc3NxERESqqqrMzMwyMjJUVFSIiIgAAACmFsX7AAAAAXRSTlMAQObYZgAAAOxJREFU\n",
       "GNNjYGB4+/8sA8P9PxsYkMAjyfkHdQvAzD9AvLKBAQUc2McyxRTEYP/GwMC6AFWSYUIpw2tOEIPt\n",
       "OwNLBlSQdZKSDkx2FViW5wPDNqgk9zwHhN50TxCD/wCrAVTMxwFhMrv2bRCjPuG9AlTsBsLeQv2P\n",
       "YDfnv2P+BRNDdlVqGIhxPoDjD9RamTNAAJPlZA8AMn4yMMyHBAUHil5OhgtA7/4DWn0BIiaALMvL\n",
       "cADo3d8MDExfIGJ2KHpZE4AyHxgY+L5BxJjgQXZgG0OaLQOD8/m/Dxge/Z8BFmO5WYIRC0iAPRMa\n",
       "khAAALYMSNzdbU43AAAAAElFTkSuQmCC\n",
       "\" style=\"display:inline;vertical-align:middle;\" /></a>, <a class=\"ProveItLink\" href=\"../__pv_it/demonstrations/6b8ac4e6aac71954bf24e42e30c8611610dd5c290/expr.ipynb\"><img src=\"data:image/png;base64,iVBORw0KGgoAAAANSUhEUgAAAPsAAAAUBAMAAAC5TlbCAAAAMFBMVEX////MzMxUVFR2dna6uroQ\n",
       "EBCqqqqIiIgiIiJmZmYyMjJERETu7u6YmJjc3NwAAACgK8IjAAAAAXRSTlMAQObYZgAAA0BJREFU\n",
       "SMeNlk1oE0EUx1++t/lq6EkUSRUP1orNydJbjvFUDx4ELcSbvWhuIh4aEIqHUkL9wKLYCHpQxNai\n",
       "IEjTPRiV9hK8lApqqBcRpW3QttSP+N7M7s683X5kYYeZt7/9v5k3780uQLIG/ArXXQb44TZccBs8\n",
       "Ii0j88y0F+9jLiw+5XQTPY3x7ufgd89QF3k7PVb7siPyvjndPV2XyFMGTeI9Rx2fGKaoiWpKIZzK\n",
       "RCpediGaSGQAYHAAJJJSnO5nExeyJpBESfeemDQBAgXs+enNBPVgUQPSGML+EvQCQzSR+EtUaPsH\n",
       "EjlAzQJwBHzr2NwUiMGC9GYCh/GThHRiY5hkHNWAIXz+uQBVYIgmEj2LTRAVBNJBzQhwBCKr2PTX\n",
       "CPnKYl8bymL7wA7WCZEzRQ14gbM7bUI0yxBNZCJPE8OlCoT2LVhyIRBbwWY5Q8hl3XvQvEj52Uf9\n",
       "QbwrYq769jQA9hzF/SkxRIkkN8QO1C0kjE2szhGAdsrl/k5CZnT3ryFNW/lBRAsXIVI+plWMr/Hx\n",
       "yjDtZJkhSiSw7qSRQDBy+4AjIJ0MZQhBsbZrdGXQlIVlmvN5segC+EWIDQznbSKuohFzqopbHi4y\n",
       "RIkYq87xIZBLAIeAI+iZcrYnS8gpO2oo6usa76HVpEUAi7ICIZS1kCWMBOZUZA3JFYYokdAf8QBs\n",
       "5J1VgczPLHV+CUQ3B9FX2XYPt+C4x307UpF1W9tBlIghHpxz3LflA3mP+9+0N38FMqyZETSo6HLC\n",
       "8g1kyht55Z7K3v8TJ1pkiBKhigegjZRIsmyAC5FlX50SyIwyJ9FPdMVOPYjtLwBLvSVZ9ukpO68c\n",
       "RIkkSTpgOqkHzxbAhYiyjz+WSJ+dKilRmjGa/XWZ5YdNmcx24eHh+RCnfIaOtQxDNBGs3PBdEXaJ\n",
       "dIyAG6El5koSyalvQvMJhGc30H5fGh5Zh4E6do40u8Ze0V5EUwzJad+nOwdvyONPItGSG/FPNsa6\n",
       "71mI4fm8UkKL67s1HvUQmNAM2ULERpLmjgj/5MhoF/h40ftiLx9uIdIqUvFY51zjmGfiVi2ryyvS\n",
       "KjLvMVe2/93YbkJekVYRz09QYvefrU+7/0m1hvwHbTb8H+9xd94AAAAASUVORK5CYII=\n",
       "\" style=\"display:inline;vertical-align:middle;\" /></a>, <a class=\"ProveItLink\" href=\"../__pv_it/demonstrations/900ba16a8b1488fa298f6dcdaeaab27f21ae296b0/expr.ipynb\"><img src=\"data:image/png;base64,iVBORw0KGgoAAAANSUhEUgAAAEMAAAAPBAMAAABNfm9XAAAAMFBMVEX///92dnYiIiIQEBBERERU\n",
       "VFS6urqIiIjc3NxmZmaqqqru7u6YmJgyMjLMzMwAAADiRdoGAAAAAXRSTlMAQObYZgAAAOdJREFU\n",
       "KM9jYACBtwxYwNH/nkB8cwOEdx+bEoa/QPwJyua5vwGLCrbvDAx8P6GcXfMbEDIeMAbjPwYG9l9Q\n",
       "zoH6BISSJzAG7wcGBpbfUBM3rD+AUMIzAcrgdwBiBQh7G8P7AhDNqQQGMOvzb86c6S8AYScw9E9A\n",
       "cibXLQgt/4CBAeoCvsiZ8Q7IXtlrBg8Jf4hX2RgYmC8gqeAIhPjvCzRogGABAwOTAdgtdyGgAREs\n",
       "HyGaFkD8Bw+xC0jB8g3MbAJilh9ILoGGNBM8WLb8v83A5f8J4aU4CLXz/tcCTv8vBdgirwFdAAD4\n",
       "kEhZDp6HZgAAAABJRU5ErkJggg==\n",
       "\" style=\"display:inline;vertical-align:middle;\" /></a>, <a class=\"ProveItLink\" href=\"../__pv_it/demonstrations/b24f546edec568859c01513446f97204aa51123d0/expr.ipynb\"><img src=\"data:image/png;base64,iVBORw0KGgoAAAANSUhEUgAAADwAAAAPBAMAAABKPLFCAAAAMFBMVEX///92dnYyMjKqqqoiIiLu\n",
       "7u7c3NyIiIjMzMwQEBC6urpERERmZmZUVFSYmJgAAADEjrHzAAAAAXRSTlMAQObYZgAAANJJREFU\n",
       "GNNjYGB4+//O2d0LGDAA+/1Px0D0bAYGnh+Y0gz8CiCS4x8DA9cfLNLrBcCGfGNg4PsOF9wGZ8mD\n",
       "beSewMAQ6QoX7Iaz9CFWXGDg8A2AC/IdgLF+g8n+e8+3GIAYPC5gAHMGF8TC+gQG1rlILmJWhtCM\n",
       "EN/sBCkxQJIPmgWmmD6Aqb8g6QKELNvFBIibNsC8zXAf5AceJQhIgHq7AOZtjt8IzVwKMG83gK0A\n",
       "envlViSbYX70BxG8+n/P3N6M5LAbEIr10v+LWAKaIQGZAwC2YTeanNre7gAAAABJRU5ErkJggg==\n",
       "\" style=\"display:inline;vertical-align:middle;\" /></a>, <a class=\"ProveItLink\" href=\"../__pv_it/demonstrations/e2e347a7b0df83790ac7c2d7d0f2325aa0b84bb00/expr.ipynb\"><img src=\"data:image/png;base64,iVBORw0KGgoAAAANSUhEUgAAAD0AAAAPBAMAAACl/tp8AAAAMFBMVEX////MzMy6uroyMjIiIiKq\n",
       "qqoQEBB2dnbc3NyYmJhmZmZUVFRERESIiIju7u4AAACOKgoaAAAAAXRSTlMAQObYZgAAANBJREFU\n",
       "GNNjYGDgu7NrJ0cBAyao8vcCUdcmMLAum4BFnqFeAEi88QMS6xuwyZuBiQdAQg0uxoOk8jcQc30F\n",
       "saTgYowH4Eymn0Ci3wHEfIHQNAvOYv8BcsMFOH+JCwj4L4DxWRKAhL8AuquCA6CM9xuARD7IeQwP\n",
       "kOT5zBQgjHiQQn8QixXZkO4KKGP9A5jP2cH8xcZgYAHmtBQwuIDofpD76pC0K0Oo+xfA3mNgBZJR\n",
       "SNbz2UHoSIYnG8CMV6d3KSBp54Y6hffuVmxBzsCBygUAWB4x+ghK/ZsAAAAASUVORK5CYII=\n",
       "\" style=\"display:inline;vertical-align:middle;\" /></a>, <a class=\"ProveItLink\" href=\"../__pv_it/demonstrations/a0a10cb881b31226d62b273b042de5593a3b7cce0/expr.ipynb\"><img src=\"data:image/png;base64,iVBORw0KGgoAAAANSUhEUgAAAEUAAAAPBAMAAABAYB8QAAAAMFBMVEX///8iIiLu7u52dna6uroQ\n",
       "EBBmZmaIiIjMzMyqqqoyMjLc3NxERERUVFSYmJgAAAAdjRNVAAAAAXRSTlMAQObYZgAAAPdJREFU\n",
       "KM9jYGB4+//snbMbGDBB7f+1DAz3fzWA2L8YGPh+YlEDkmCYA9bN8R1IpGJRwvIZqHkCmMn+A0j4\n",
       "P4BLnYYxmL8wMFlDmDwfgMR+A7iaHhiD6wNDM5TJfwBkzgW4Gr4EmMQCOLO/AEjUg8xhEwSDb1AJ\n",
       "f4N6ASizHuS5+w4It3KuhND25Www754HEV+RPaQVAqbWP+D+BRX5A3LDPyQl3Jc3wCTOgwMQEjyq\n",
       "IHczsK2CAIgSlu9wr4CCh2kVctAtgAYPUILxEywUGBwTkF2jAKEZgRLsn0Es3vV/c+9kI7v4BoRS\n",
       "W/+3gKHw/2lsEcmAkQQACeVKouJm2asAAAAASUVORK5CYII=\n",
       "\" style=\"display:inline;vertical-align:middle;\" /></a> <a class=\"ProveItLink\" href=\"../__pv_it/demonstrations/c4209b08329f8ec1c6f613c07a359af9f37d3dae0/proof.ipynb\" style=\"text-decoration: none\">&nbsp;&#x22A2;&nbsp;&nbsp;</a><a class=\"ProveItLink\" href=\"../__pv_it/demonstrations/eeb1737ddddea44193619f389bf8008df803fee60/expr.ipynb\"><img src=\"data:image/png;base64,iVBORw0KGgoAAAANSUhEUgAAAPcAAAAUBAMAAACjcrZMAAAAMFBMVEX////MzMxUVFR2dna6uroQ\n",
       "EBCqqqqIiIgiIiJmZmYyMjJERETu7u6YmJjc3NwAAACgK8IjAAAAAXRSTlMAQObYZgAAAnVJREFU\n",
       "SMeVlr9rE2EYx79NSnKXXOJRRxEiOLiZyeJiO+pUB/+ArCLI0SU6NSgWhw6ZxG7BLYupo0OTIAjV\n",
       "LsGlm9wo4qBJSWsSiO/P3N1zNo++cO+P5/t5v/fyvu+THFAegJbHNEAYTucByxxH4y/z9+Jp9zMh\n",
       "AWPM9rwdLtORfX3eXG7wBrg58RXzNsZMxHMOeC05WFEhH2lG634ExXVkf7EGeBQqptSMwqtnYsZv\n",
       "0VmXo4ycVgpAmJHVr8nqBEQHCvdZg1JNmzhhYs3Ij0Xno1p4RVROH4Q5tfqarPZAdOBShTPw7kCb\n",
       "fIuv+SdQnMnOpt2re7JDGa0XhONqk+rA1oAzuKw7m3gaX/OBeBpydcrzoXi6skMZredEVQypDmyE\n",
       "yw1a5hAEcxhfc3t/v1eVZ6QujCN2Tr4qyQQLXSzzCqgOvGAMqjsN1RHMLuC+lEW8dEPckB25YTkl\n",
       "5wNk1PZRxuh14DqoDm/IGNTdsZolmAf2Z0Dcjo5oe/KCrMiDhdfAZ6VRxuhHJqUSOnJjxmBQnsCY\n",
       "xONTk4VmLl7hVmruNNLdWraWfrk7Yw16vjHZjeIqzUcqF/WpfEfDbmucsXq55YDo5edwGqzBVsWY\n",
       "HEZxleanWNwXFK8GiQtlmIX+7gREz5+pTGMMnJkxuW1voQ/Hpjncqj6VG33VEmahr+2B6LmB94w3\n",
       "yI8Mc3eRA586w8DtTeVaC74OtXUTMR86w2qkF5pUR31bXYMLDeRL8GTe1YwTIl2OTPtDNynG6OX+\n",
       "BTprYJjkn4Ip68lhiuF0HjBMNx026RuV7v/pPGCZ43S8uOxj4R90HrDMX75wvjJfQZzOA5r5A4Bv\n",
       "8wpHS5hbAAAAAElFTkSuQmCC\n",
       "\" style=\"display:inline;vertical-align:middle;\" /></a></span>"
      ],
      "text/plain": [
       "{A in BOOLEAN, B in BOOLEAN, C in BOOLEAN, D in BOOLEAN, H in BOOLEAN, I in BOOLEAN, J in BOOLEAN, K in BOOLEAN, not(A) or not(B) or not(C) or not(D), A => H, B => I, C => J, D => K} |- not(H) or not(I) or not(J) or not(K)"
      ]
     },
     "execution_count": 28,
     "metadata": {},
     "output_type": "execute_result"
    }
   ],
   "source": [
    "Or(Not(A), Not(B), Not(C), Not(D)).derive_via_dilemma(Or(Not(H), Not(I), Not(J), Not(K)),[Or(Not(A), Not(B), Not(C), Not(D)),Implies(A,H), Implies(B,I), Implies(C,J), Implies(D,K),in_bool(A), in_bool(B), in_bool(C), in_bool(D), in_bool(H), in_bool(I), in_bool(J), in_bool(K)])"
   ]
  },
  {
   "cell_type": "code",
   "execution_count": 29,
   "metadata": {},
   "outputs": [
    {
     "data": {
      "text/html": [
       "<span style=\"font-size:20px;\"><a class=\"ProveItLink\" href=\"../__pv_it/theorems/fc8eebf736fb357954cbd39f3c8deb41845fe5ab0/expr.ipynb\"><img src=\"data:image/png;base64,iVBORw0KGgoAAAANSUhEUgAAAFYAAAAUBAMAAADl6NejAAAAMFBMVEX///+6uroQEBCqqqqIiIgy\n",
       "MjJERETu7u6YmJjMzMxUVFTc3Nx2dnYiIiJmZmYAAAAutVgsAAAAAXRSTlMAQObYZgAAAXlJREFU\n",
       "KM9jYECAHQx4APMGZB57ApjiDEBVxLH+17tliQwMq5EFWSE6WT+AyAlgbWABJqAZ7ycwlCKr7YNQ\n",
       "rd9B5EoQ0QIWmN/AwCD/gIHHAUntbYhL7H6DqFkg4jpYxB9oX78DA7sCQin3BYjzWD7CHMT4ACyS\n",
       "BDRAt4CBIRChlgUiI878A+xtII8N4oFfDAxzlwPpcwi1bA1gJwhwfgFzgbZMg4TLrw63y2CPMLy9\n",
       "CwR3gExeA5AAIwP3P7ASFwaGhRD7gO4vWgBk2ELM3AUKGgGwn969+gYWqmVghwQ0G9BPLJ9B4YGu\n",
       "FkiogoX4DHjAFjHwA81k+YKqFuwGZiC+BAmWAF4GePBygcJGFqEW7LfNQBwPEcuExAQ4eOcngP3G\n",
       "AItMngfQMM6HBNUsSEwwBAE9rAYMXoY3iDBjvMDAnv+1gMHs/z1IuoCE99L/616lgV0eiRHHiHgs\n",
       "QOWzX8BMO7gAStph24BXbSmWtI4LZKPw8OYhjg0MABWuXKLalKd0AAAAAElFTkSuQmCC\n",
       "\" style=\"display:inline;vertical-align:middle;\" /></a> <a class=\"ProveItLink\" href=\"../__pv_it/demonstrations/dccbacd6f6168ce604c2e61a1ff8c057615df5fd0/proof.ipynb\" style=\"text-decoration: none\">&nbsp;&#x22A2;&nbsp;&nbsp;</a><a class=\"ProveItLink\" href=\"../../negation/__pv_it/theorems/e025e57903ee24d89047aba8869ea7beb1da67b40/expr.ipynb\"><img src=\"data:image/png;base64,iVBORw0KGgoAAAANSUhEUgAAABwAAAAOBAMAAADOPWE3AAAAMFBMVEX///8QEBBERES6urqIiIiq\n",
       "qqru7u6YmJgyMjLMzMxUVFTc3Nx2dnYiIiJmZmYAAAAfdW6kAAAAAXRSTlMAQObYZgAAAGNJREFU\n",
       "CNdjYEAAzgYGZMDxAYVb8Q2Zxxb3G5nLzvIZmWvG+h1ZrQHnFwaGt3eB4A6Qy8zA/Q8qswuIZ717\n",
       "9QmJa8DAIIHgsgKpiwjuViDVD3MtA/cFIKW/AWaL/o8EhqD/9wA5jBwoctwhSQAAAABJRU5ErkJg\n",
       "gg==\n",
       "\" style=\"display:inline;vertical-align:middle;\" /></a></span>"
      ],
      "text/plain": [
       "{not(A or B)} |- not(A)"
      ]
     },
     "execution_count": 29,
     "metadata": {},
     "output_type": "execute_result"
    }
   ],
   "source": [
    "Not(A).prove([Not(Or(A,B))])"
   ]
  },
  {
   "cell_type": "code",
   "execution_count": 30,
   "metadata": {},
   "outputs": [
    {
     "data": {
      "text/html": [
       "<span style=\"font-size:20px;\"><a class=\"ProveItLink\" href=\"../__pv_it/theorems/fc8eebf736fb357954cbd39f3c8deb41845fe5ab0/expr.ipynb\"><img src=\"data:image/png;base64,iVBORw0KGgoAAAANSUhEUgAAAFYAAAAUBAMAAADl6NejAAAAMFBMVEX///+6uroQEBCqqqqIiIgy\n",
       "MjJERETu7u6YmJjMzMxUVFTc3Nx2dnYiIiJmZmYAAAAutVgsAAAAAXRSTlMAQObYZgAAAXlJREFU\n",
       "KM9jYECAHQx4APMGZB57ApjiDEBVxLH+17tliQwMq5EFWSE6WT+AyAlgbWABJqAZ7ycwlCKr7YNQ\n",
       "rd9B5EoQ0QIWmN/AwCD/gIHHAUntbYhL7H6DqFkg4jpYxB9oX78DA7sCQin3BYjzWD7CHMT4ACyS\n",
       "BDRAt4CBIRChlgUiI878A+xtII8N4oFfDAxzlwPpcwi1bA1gJwhwfgFzgbZMg4TLrw63y2CPMLy9\n",
       "CwR3gExeA5AAIwP3P7ASFwaGhRD7gO4vWgBk2ELM3AUKGgGwn969+gYWqmVghwQ0G9BPLJ9B4YGu\n",
       "FkiogoX4DHjAFjHwA81k+YKqFuwGZiC+BAmWAF4GePBygcJGFqEW7LfNQBwPEcuExAQ4eOcngP3G\n",
       "AItMngfQMM6HBNUsSEwwBAE9rAYMXoY3iDBjvMDAnv+1gMHs/z1IuoCE99L/616lgV0eiRHHiHgs\n",
       "QOWzX8BMO7gAStph24BXbSmWtI4LZKPw8OYhjg0MABWuXKLalKd0AAAAAElFTkSuQmCC\n",
       "\" style=\"display:inline;vertical-align:middle;\" /></a> <a class=\"ProveItLink\" href=\"../__pv_it/demonstrations/4fd68fed6875e1b46800ba884a0b971f11ee5f020/proof.ipynb\" style=\"text-decoration: none\">&nbsp;&#x22A2;&nbsp;&nbsp;</a><a class=\"ProveItLink\" href=\"../__pv_it/theorems/7e62a2cc7488cf98fcf25c6e4b2091ce54d5d3b80/expr.ipynb\"><img src=\"data:image/png;base64,iVBORw0KGgoAAAANSUhEUgAAAB0AAAAOBAMAAAAh/woJAAAAMFBMVEX///8yMjKqqqru7u6IiIgQ\n",
       "EBC6urpERESYmJjMzMxUVFTc3Nx2dnYiIiJmZmYAAABbDZECAAAAAXRSTlMAQObYZgAAAH9JREFU\n",
       "CNdjYIACjvW/3i0vY0AA1gIGhvcTEPz5DQwM+Q8QfP8NDAz9Dgh+KQMDc6wBgv+LgWHuYgSX81eH\n",
       "+yUg/fYuENxhYGD5zcBgugAquYuBgT0AKPYJwecHyrF8QfBB1nN9Q/BB1s8vgBnOwCDKwMAWjrB+\n",
       "4f91r8oVGBgAyy8lZJPyWlAAAAAASUVORK5CYII=\n",
       "\" style=\"display:inline;vertical-align:middle;\" /></a></span>"
      ],
      "text/plain": [
       "{not(A or B)} |- not(B)"
      ]
     },
     "execution_count": 30,
     "metadata": {},
     "output_type": "execute_result"
    }
   ],
   "source": [
    "Not(B).prove([Not(Or(A,B))])"
   ]
  },
  {
   "cell_type": "code",
   "execution_count": 31,
   "metadata": {},
   "outputs": [
    {
     "data": {
      "text/html": [
       "<strong id=\"reduction\">reduction:</strong> <span style=\"font-size:20px;\"><a class=\"ProveItLink\" href=\"../../__pv_it/theorems/ddc941563dffabdeb005429c2f934b2b6ccbeab10/expr.ipynb\"><img src=\"data:image/png;base64,iVBORw0KGgoAAAANSUhEUgAAADYAAAAPBAMAAABdHiGLAAAAMFBMVEX///92dnYiIiIQEBBERERU\n",
       "VFS6urqIiIjc3NxmZmaqqqru7u6YmJgyMjLMzMwAAADiRdoGAAAAAXRSTlMAQObYZgAAANdJREFU\n",
       "GNNjYACBtwwogF3Z5a9RGJRzH1WOgZevYMvOA2Amz/0NqHIsbAfYHziAmbvmN0DEeJyUdKFyXAsg\n",
       "cgfqE8A0n/sGuD7GbLAc24b1ELP3bkCYmfT0AYi1jeF9AVgoAmGf0X8zMCuBoX8CmOGA5BbGMwIg\n",
       "WyJnxoNF+WzvAgFUjsEhB2QdAwPzBZAIB7I+BgdWIGMBAwOTAVjIAFkugBeoGijH+wEsNB1F30EG\n",
       "hiYQ+wdYiGkBPMwEGCUDGLb8v83A5f8J7FDukGzMsIYBNhFImEEAAEUpOYcaSaDVAAAAAElFTkSu\n",
       "QmCC\n",
       "\" style=\"display:inline;vertical-align:middle;\" /></a> <a class=\"ProveItLink\" href=\"../__pv_it/demonstrations/f7a52276dc909128bcc20f6f24055c9007406ee70/proof.ipynb\" style=\"text-decoration: none\">&nbsp;&#x22A2;&nbsp;&nbsp;</a><a class=\"ProveItLink\" href=\"../__pv_it/theorems/8e81d7fa7a916a5dee23a936f799f0581328bc150/expr.ipynb\"><img src=\"data:image/png;base64,iVBORw0KGgoAAAANSUhEUgAAAFgAAAAUBAMAAAD7IecQAAAAMFBMVEX///8QEBB2dnZERESqqqpm\n",
       "Zma6urrc3NwyMjLu7u4iIiKIiIiYmJhUVFTMzMwAAABF6oizAAAAAXRSTlMAQObYZgAAATxJREFU\n",
       "KM9jYICBGjjLnYEQ4DQAU3wNDAy8BdgUgGQegBkMDBwQFRwfgPoasCkGydwDMU4zMByFCJ34CSS0\n",
       "sSkGybwFMVYyMCyHOMb1O5CciM2ZIBmQ9WwBDOwLwEI83N9ANiZgKgbLsAQwMDAXMHAHgIUyWf4A\n",
       "SaYATMUQGaCRj4HqD4DtSuD7DTIF7EONDhBohboCIrObgeEaAwOXA0iIjYH9K5BiWYBhMFRmFjio\n",
       "GMHOfBsa+xkUkh8wFENlWB2YHGCKgYQEdsVQGfYGLgaoM1iAeCHIzgUIN/eC1cJkGOyAUQLxYAkQ\n",
       "98M9iAxgMgxvV0JDCxzW9sBwZ1VAUwuXYeAIgNjMaf9jAoPz/6VAkQdosQeXYWCfABJYjiQ5i1AS\n",
       "PYrE1iakmBmRiLEnUSyJH00fLoDIVsdxKQEAcURQdRJ00U8AAAAASUVORK5CYII=\n",
       "\" style=\"display:inline;vertical-align:middle;\" /></a></span><br>"
      ],
      "text/plain": [
       "reduction: {A in BOOLEAN} |- or(A) = A"
      ]
     },
     "execution_count": 31,
     "metadata": {},
     "output_type": "execute_result"
    }
   ],
   "source": [
    "reduction = Or(A).unary_reduction([in_bool(A)])"
   ]
  },
  {
   "cell_type": "code",
   "execution_count": 32,
   "metadata": {},
   "outputs": [
    {
     "data": {
      "text/html": [
       "<span style=\"font-size:20px;\"><a class=\"ProveItLink\" href=\"../__pv_it/demonstrations/84ad4317cda3e15fc55f739ff5ae019227af780c0/expr.ipynb\"><img src=\"data:image/png;base64,iVBORw0KGgoAAAANSUhEUgAAAJMAAAAUBAMAAAB7fhJGAAAAMFBMVEX///9UVFTMzMx2dna6uroQ\n",
       "EBCqqqqIiIgiIiJmZmYyMjJERETu7u6YmJjc3NwAAAC+aOQFAAAAAXRSTlMAQObYZgAAAkdJREFU\n",
       "OMuVVE1oE1EQ/rJZ0232x+jJUrSCB0GQFpRCESGXgoJCBE/WQvAg9mTwpKe2HkRKwQaLUlQaRA+K\n",
       "mHhQA9Z2D/5Aeol4EDwVvIgItgVpRU2dN5Nt3q4G2YGd3fl23vfm7z3AqyOepJba/VmU174I/G6j\n",
       "q/giGwHfPinWP2FXBL04tHB/XLk+FruslMGfu1kPAZ2rYaxjGBgZRi0aTWmvM3cHcKfYcss+6YRa\n",
       "4RaY9Tdg/ghhTpV8OhtIFiJUleO4YAOWZP5mVr2NDCnL5wgaRLAWwtKnSZk5ODlhcKtXJwKqs0T1\n",
       "WeD6KNdFZXuUAZv8X0+GsNm8YqYs7rGH8dxvRXWQSn6JDdM/z40coWeeka0ZGOO+jnnrynIo+gH2\n",
       "qPmtBM3L24GXbLxCLxfAos0qjPTu/FDNQ8eSa8HSj6xbjawMXvtOSV1hI4tvXP6OAhIyAaNLcE5A\n",
       "x6zVYOk5IdDLfvg9cJLT7prp4T/OWNDqp4our2NbfrGlIuY1px6SBFS2WRcqkxxLjN5Av1CtKKqC\n",
       "jlnLSp8JqLxQVDYykiDtbkmHv2AMwVihJ6tjNFEkffQcYTinUyVQ4rJ7RJVelhnYL5GosTJ+Qsc8\n",
       "Vfakv1n2m6Go3D5urJotuyHR7JAWp2nPwTmEMJqX1G31cV06m988OHtwoMjBLm48QmphXU7QA9aJ\n",
       "8spM97PAVTA4t7ZN88ddMbuPhY+zFbkyvv7j8ohgjpQT5qHmwWlK8zjHkb+OcyDzsalq/7n6Ykjb\n",
       "zWNfyG6bC/kPky6eIE2NnOEAAAAASUVORK5CYII=\n",
       "\" style=\"display:inline;vertical-align:middle;\" /></a> <a class=\"ProveItLink\" href=\"../__pv_it/demonstrations/05f2f684619636dc93aec411a39f6c73993a579f0/proof.ipynb\" style=\"text-decoration: none\">&nbsp;&#x22A2;&nbsp;&nbsp;</a><a class=\"ProveItLink\" href=\"../__pv_it/theorems/67501eb487d67b93f0ec3f6965561f782e470d670/expr.ipynb\"><img src=\"data:image/png;base64,iVBORw0KGgoAAAANSUhEUgAAADcAAAAPBAMAAACy3Eq1AAAAMFBMVEX///92dnYyMjKqqqoiIiLu\n",
       "7u7c3NyIiIjMzMwQEBC6urpERERmZmZUVFSYmJgAAADEjrHzAAAAAXRSTlMAQObYZgAAAOZJREFU\n",
       "GNNjYGB4+//O2d0LGJBByez9mr4QodkMDDw/UCQZFNpZt54DMTj+MTBw/UGV3LCOoYIbxGD/xsDA\n",
       "9x0sxrfFxQkmaQyW5J7AwBDpCjZjewBCp1Q0iMF/gYHDFywaFIAwlsvjBojRf+/5FgOw0DWEnSv9\n",
       "f4JdW5/AwDoXIoTsILmHIMZOkAKQVo5JSkAAk+TmegBk/AVJFgAJNhSd3AwXIN5kuA+2YAKyJC+D\n",
       "AsSbHL/BQsdRdPIJMDAwAdWv3AoWYjGAB18jg+BZBgZe/b9nbm+GCLHeXooR8AjAJQ0NPggAAH2B\n",
       "SAzP/7V+AAAAAElFTkSuQmCC\n",
       "\" style=\"display:inline;vertical-align:middle;\" /></a></span>"
      ],
      "text/plain": [
       "{(A or B or C) in BOOLEAN} |- B in BOOLEAN"
      ]
     },
     "execution_count": 32,
     "metadata": {},
     "output_type": "execute_result"
    }
   ],
   "source": [
    "in_bool(B).prove([in_bool(Or(A,B,C))])"
   ]
  },
  {
   "cell_type": "code",
   "execution_count": 33,
   "metadata": {},
   "outputs": [
    {
     "data": {
      "text/html": [
       "<span style=\"font-size:20px;\"><a class=\"ProveItLink\" href=\"../../__pv_it/theorems/ddc941563dffabdeb005429c2f934b2b6ccbeab10/expr.ipynb\"><img src=\"data:image/png;base64,iVBORw0KGgoAAAANSUhEUgAAADYAAAAPBAMAAABdHiGLAAAAMFBMVEX///92dnYiIiIQEBBERERU\n",
       "VFS6urqIiIjc3NxmZmaqqqru7u6YmJgyMjLMzMwAAADiRdoGAAAAAXRSTlMAQObYZgAAANdJREFU\n",
       "GNNjYACBtwwogF3Z5a9RGJRzH1WOgZevYMvOA2Amz/0NqHIsbAfYHziAmbvmN0DEeJyUdKFyXAsg\n",
       "cgfqE8A0n/sGuD7GbLAc24b1ELP3bkCYmfT0AYi1jeF9AVgoAmGf0X8zMCuBoX8CmOGA5BbGMwIg\n",
       "WyJnxoNF+WzvAgFUjsEhB2QdAwPzBZAIB7I+BgdWIGMBAwOTAVjIAFkugBeoGijH+wEsNB1F30EG\n",
       "hiYQ+wdYiGkBPMwEGCUDGLb8v83A5f8J7FDukGzMsIYBNhFImEEAAEUpOYcaSaDVAAAAAElFTkSu\n",
       "QmCC\n",
       "\" style=\"display:inline;vertical-align:middle;\" /></a>, <a class=\"ProveItLink\" href=\"../__pv_it/theorems/67501eb487d67b93f0ec3f6965561f782e470d670/expr.ipynb\"><img src=\"data:image/png;base64,iVBORw0KGgoAAAANSUhEUgAAADcAAAAPBAMAAACy3Eq1AAAAMFBMVEX///92dnYyMjKqqqoiIiLu\n",
       "7u7c3NyIiIjMzMwQEBC6urpERERmZmZUVFSYmJgAAADEjrHzAAAAAXRSTlMAQObYZgAAAOZJREFU\n",
       "GNNjYGB4+//O2d0LGJBByez9mr4QodkMDDw/UCQZFNpZt54DMTj+MTBw/UGV3LCOoYIbxGD/xsDA\n",
       "9x0sxrfFxQkmaQyW5J7AwBDpCjZjewBCp1Q0iMF/gYHDFywaFIAwlsvjBojRf+/5FgOw0DWEnSv9\n",
       "f4JdW5/AwDoXIoTsILmHIMZOkAKQVo5JSkAAk+TmegBk/AVJFgAJNhSd3AwXIN5kuA+2YAKyJC+D\n",
       "AsSbHL/BQsdRdPIJMDAwAdWv3AoWYjGAB18jg+BZBgZe/b9nbm+GCLHeXooR8AjAJQ0NPggAAH2B\n",
       "SAzP/7V+AAAAAElFTkSuQmCC\n",
       "\" style=\"display:inline;vertical-align:middle;\" /></a>, <a class=\"ProveItLink\" href=\"../__pv_it/demonstrations/6d4a76c8afef1311edaf37cd3d7c58f6a0f3bae70/expr.ipynb\"><img src=\"data:image/png;base64,iVBORw0KGgoAAAANSUhEUgAAADYAAAAPBAMAAABdHiGLAAAAMFBMVEX////MzMy6uroyMjIiIiKq\n",
       "qqoQEBB2dnbc3NyYmJhmZmZUVFRERESIiIju7u4AAACOKgoaAAAAAXRSTlMAQObYZgAAANxJREFU\n",
       "GNNjYGDgu7NrJ0cBAxLgdTvzOWUTiHVtAgPrsgnIcgzMjBfevAIKvfEDctY3oMjxME3gFTjAwGD2\n",
       "AMhRg4jNcXExgMqxBhxg4PoK4kiBpWTuIfSx6x1g6HcAcV6ACD47JDNVpAUY6i/AbeFuQMil/E9i\n",
       "YPAXQLgA2S3sMwsY8kFOYQATYsZAAHMLwwFNBn8QmxWsuQdZH8MBbojP2MEibChyG5gZ+kFuqQOL\n",
       "cF1A0TedgfUnA0PUA4iQKyLMCtirNjAwvDq9SwEq9PrQA7SwRgLqRyBhBgEActk8e8zZ+EcAAAAA\n",
       "SUVORK5CYII=\n",
       "\" style=\"display:inline;vertical-align:middle;\" /></a>, <a class=\"ProveItLink\" href=\"../../../../__pv_it/common/e4aad701f7f5516d8e7f0d805d518bf02c13322a0/expr.ipynb\"><img src=\"data:image/png;base64,iVBORw0KGgoAAAANSUhEUgAAAA8AAAAOBAMAAAACpFvcAAAALVBMVEX///8iIiIQEBBERERUVFS6\n",
       "urqIiIjc3NxmZmaqqqru7u6YmJgyMjLMzMwAAACK9jtgAAAAAXRSTlMAQObYZgAAAFtJREFUCNdj\n",
       "YACBOwxQcA5Kc59bAGGs7CuAMDbkBYBp1gXzNoAZSxnuJYAZAQx1DSCa16PDzwCshIGB6QCIMYGB\n",
       "gVEBSLMDGTwPgIxCIGZ+zsCw+N0pBk67hw0AfpEVEQi8t+wAAAAASUVORK5CYII=\n",
       "\" style=\"display:inline;vertical-align:middle;\" /></a> <a class=\"ProveItLink\" href=\"../__pv_it/demonstrations/6eec369a44af65eb21c285ac1a3428cfef7c7f270/proof.ipynb\" style=\"text-decoration: none\">&nbsp;&#x22A2;&nbsp;&nbsp;</a><a class=\"ProveItLink\" href=\"../__pv_it/demonstrations/cd535d273ec00a794f84baff814c4ca40a1ab9cb0/expr.ipynb\"><img src=\"data:image/png;base64,iVBORw0KGgoAAAANSUhEUgAAAF8AAAAPBAMAAABw7A4xAAAAMFBMVEX///92dnYiIiIQEBBERERU\n",
       "VFS6urqIiIjc3NxmZmaqqqru7u6YmJgyMjLMzMwAAADiRdoGAAAAAXRSTlMAQObYZgAAAWRJREFU\n",
       "KM+Fkb1LA0EQxZ/RS+IlntZamFqLBLE34Ad2BrE5VHJgZeWB6SO2IgmIRWyS1soDg6gg5A8QFNIo\n",
       "Fgl2gnIinIYgxJnZEN00Luyb4Tf78XYW4PEGfcSzQWltqQ/GcvZGdEzlDRZL0qboYBooN3W2W4N5\n",
       "VFMHNjxSg3ncFeJTYaeoseo0SXlPytcSrQxJyBOSJ3DnaqzOuqUc1fIOhwea24rMk+UZ7y8bbrO+\n",
       "SDXsnYm1U5rLakMAPK9rrJBgvZTqBXxxGSILaSFWcJubgsYm3d9+OSgUOUZcGOINkRZwntFYstlb\n",
       "b9mlrBwSS+BGoaEULW1rbE5eLhKmtt8LPMG42jBKp0e+NJZkMeWaCjlNCTxEAr1vMD41Jp0f4CxK\n",
       "G0belZPX7sv4G/y0xgocJjjbZ9pSr1lV34Y6GZ31NGZ+U485rXaeYK58SJvwqNZvduzjhUq3J12G\n",
       "q0XbQf84AP5jP88pZENHh0v0AAAAAElFTkSuQmCC\n",
       "\" style=\"display:inline;vertical-align:middle;\" /></a></span>"
      ],
      "text/plain": [
       "{A in BOOLEAN, B in BOOLEAN, C in BOOLEAN, A} |- A or B or C"
      ]
     },
     "execution_count": 33,
     "metadata": {},
     "output_type": "execute_result"
    }
   ],
   "source": [
    "Or(A,B,C).prove([A,in_bool(A),in_bool(B),in_bool(C)])"
   ]
  },
  {
   "cell_type": "code",
   "execution_count": 34,
   "metadata": {},
   "outputs": [
    {
     "data": {
      "text/html": [
       "<span style=\"font-size:20px;\"><a class=\"ProveItLink\" href=\"../../negation/__pv_it/theorems/e025e57903ee24d89047aba8869ea7beb1da67b40/expr.ipynb\"><img src=\"data:image/png;base64,iVBORw0KGgoAAAANSUhEUgAAABwAAAAOBAMAAADOPWE3AAAAMFBMVEX///8QEBBERES6urqIiIiq\n",
       "qqru7u6YmJgyMjLMzMxUVFTc3Nx2dnYiIiJmZmYAAAAfdW6kAAAAAXRSTlMAQObYZgAAAGNJREFU\n",
       "CNdjYEAAzgYGZMDxAYVb8Q2Zxxb3G5nLzvIZmWvG+h1ZrQHnFwaGt3eB4A6Qy8zA/Q8qswuIZ717\n",
       "9QmJa8DAIIHgsgKpiwjuViDVD3MtA/cFIKW/AWaL/o8EhqD/9wA5jBwoctwhSQAAAABJRU5ErkJg\n",
       "gg==\n",
       "\" style=\"display:inline;vertical-align:middle;\" /></a>, <a class=\"ProveItLink\" href=\"../__pv_it/theorems/7e62a2cc7488cf98fcf25c6e4b2091ce54d5d3b80/expr.ipynb\"><img src=\"data:image/png;base64,iVBORw0KGgoAAAANSUhEUgAAAB0AAAAOBAMAAAAh/woJAAAAMFBMVEX///8yMjKqqqru7u6IiIgQ\n",
       "EBC6urpERESYmJjMzMxUVFTc3Nx2dnYiIiJmZmYAAABbDZECAAAAAXRSTlMAQObYZgAAAH9JREFU\n",
       "CNdjYIACjvW/3i0vY0AA1gIGhvcTEPz5DQwM+Q8QfP8NDAz9Dgh+KQMDc6wBgv+LgWHuYgSX81eH\n",
       "+yUg/fYuENxhYGD5zcBgugAquYuBgT0AKPYJwecHyrF8QfBB1nN9Q/BB1s8vgBnOwCDKwMAWjrB+\n",
       "4f91r8oVGBgAyy8lZJPyWlAAAAAASUVORK5CYII=\n",
       "\" style=\"display:inline;vertical-align:middle;\" /></a>, <a class=\"ProveItLink\" href=\"../__pv_it/theorems/5bd2a278c88a18758dd2d155b0e0f979a2724be30/expr.ipynb\"><img src=\"data:image/png;base64,iVBORw0KGgoAAAANSUhEUgAAAB0AAAAOBAMAAAAh/woJAAAAMFBMVEX///+6uroyMjKqqqoQEBCY\n",
       "mJhERESIiIju7u7MzMxUVFTc3Nx2dnYiIiJmZmYAAABvDAmeAAAAAXRSTlMAQObYZgAAAHFJREFU\n",
       "CNdjYIABjrJ1S7kPwLkMJQEMzE8C4Ny2G0Di/QY4X6UBSIjAuXyfQeQ8OH//BRDZDeefL4Ay3t4F\n",
       "gjsM9ycwIIFdDP4g4xga4Pz7IIp5ApwPtpkHoX4/yLwTMD4nA/NXBga7BiQj+7LWCQApABN8ILGQ\n",
       "9NVeAAAAAElFTkSuQmCC\n",
       "\" style=\"display:inline;vertical-align:middle;\" /></a> <a class=\"ProveItLink\" href=\"../__pv_it/demonstrations/249270ad381c4c91c75d116ab90d804c7db28ef00/proof.ipynb\" style=\"text-decoration: none\">&nbsp;&#x22A2;&nbsp;&nbsp;</a><a class=\"ProveItLink\" href=\"../__pv_it/demonstrations/5e3a1272ab9725ba64a726807bbd8485ef85fa7c0/expr.ipynb\"><img src=\"data:image/png;base64,iVBORw0KGgoAAAANSUhEUgAAAH0AAAAUBAMAAABSVS+EAAAAMFBMVEX///+6uroQEBCqqqqIiIgy\n",
       "MjJERETu7u6YmJjMzMxUVFTc3Nx2dnYiIiJmZmYAAAAutVgsAAAAAXRSTlMAQObYZgAAAd9JREFU\n",
       "OMuVlDtLA0EQgCfmksvrNH9AjY3aCLYiaCpLE2wsBBMtRBTxjI9OSClYmEawkaRRQTCxEUEUA1pL\n",
       "wFYhIigIGkVBTAhxdiaX7J02N3Cze9/O3MzO7B5AQ/xJsCmDprc1HrYtRp5c+W1/ygJX5l6S5+A7\n",
       "ltkEDzGhvDRNkW6JA5RSJqb0Agz1ghqV4xR5iOmofcLMEyaSxn11FmWmLqBNawXgWvLXOJnlkhi9\n",
       "GUF0IhEEW2GZuXpQOUIACcn/godkJGhspoPJNAbs02VW6hchMCVXsOk/StqhD1MbhvCZ54UywO6B\n",
       "zPxV8aZiWoFi03+W9BKkadcaBogT8ZY3Rm5BZoGvRs2i8HqPcodztgnCJX1TCYOPk1OwTomMzLQf\n",
       "w99Z4PEMny4Kln3LUVi1AKu85sY6KZ8ya/mmN2H+bvF34Co39RGueK0NYytfMtPIa8DiT/ljYbUQ\n",
       "oROo5yba7/uQmeg8QF6Ek/IX9fOjv4u/6d7h00PtT8dl5hfZBHSuHxjH9aZ+BtwVRkd8emAMw3Tr\n",
       "JoYtdj5TJvlm/9rxBtXGwblY5aZOMt6rZV9m+us2daY+HT7QxJX6c34bcvrPhbWy9b/3x5bI98c4\n",
       "rjbEdH+N/4cNcZu2bP//tQnwC4KifNWvH1K2AAAAAElFTkSuQmCC\n",
       "\" style=\"display:inline;vertical-align:middle;\" /></a></span>"
      ],
      "text/plain": [
       "{not(A), not(B), not(C)} |- not(A or B or C)"
      ]
     },
     "execution_count": 34,
     "metadata": {},
     "output_type": "execute_result"
    }
   ],
   "source": [
    "Not(Or(A,B,C)).prove([Not(A), Not(B), Not(C)])"
   ]
  },
  {
   "cell_type": "code",
   "execution_count": 35,
   "metadata": {},
   "outputs": [
    {
     "data": {
      "text/html": [
       "<span style=\"font-size:20px;\"><a class=\"ProveItLink\" href=\"../__pv_it/demonstrations/cd535d273ec00a794f84baff814c4ca40a1ab9cb0/expr.ipynb\"><img src=\"data:image/png;base64,iVBORw0KGgoAAAANSUhEUgAAAF8AAAAPBAMAAABw7A4xAAAAMFBMVEX///92dnYiIiIQEBBERERU\n",
       "VFS6urqIiIjc3NxmZmaqqqru7u6YmJgyMjLMzMwAAADiRdoGAAAAAXRSTlMAQObYZgAAAWRJREFU\n",
       "KM+Fkb1LA0EQxZ/RS+IlntZamFqLBLE34Ad2BrE5VHJgZeWB6SO2IgmIRWyS1soDg6gg5A8QFNIo\n",
       "Fgl2gnIinIYgxJnZEN00Luyb4Tf78XYW4PEGfcSzQWltqQ/GcvZGdEzlDRZL0qboYBooN3W2W4N5\n",
       "VFMHNjxSg3ncFeJTYaeoseo0SXlPytcSrQxJyBOSJ3DnaqzOuqUc1fIOhwea24rMk+UZ7y8bbrO+\n",
       "SDXsnYm1U5rLakMAPK9rrJBgvZTqBXxxGSILaSFWcJubgsYm3d9+OSgUOUZcGOINkRZwntFYstlb\n",
       "b9mlrBwSS+BGoaEULW1rbE5eLhKmtt8LPMG42jBKp0e+NJZkMeWaCjlNCTxEAr1vMD41Jp0f4CxK\n",
       "G0belZPX7sv4G/y0xgocJjjbZ9pSr1lV34Y6GZ31NGZ+U485rXaeYK58SJvwqNZvduzjhUq3J12G\n",
       "q0XbQf84AP5jP88pZENHh0v0AAAAAElFTkSuQmCC\n",
       "\" style=\"display:inline;vertical-align:middle;\" /></a>, <a class=\"ProveItLink\" href=\"../../negation/__pv_it/theorems/e025e57903ee24d89047aba8869ea7beb1da67b40/expr.ipynb\"><img src=\"data:image/png;base64,iVBORw0KGgoAAAANSUhEUgAAABwAAAAOBAMAAADOPWE3AAAAMFBMVEX///8QEBBERES6urqIiIiq\n",
       "qqru7u6YmJgyMjLMzMxUVFTc3Nx2dnYiIiJmZmYAAAAfdW6kAAAAAXRSTlMAQObYZgAAAGNJREFU\n",
       "CNdjYEAAzgYGZMDxAYVb8Q2Zxxb3G5nLzvIZmWvG+h1ZrQHnFwaGt3eB4A6Qy8zA/Q8qswuIZ717\n",
       "9QmJa8DAIIHgsgKpiwjuViDVD3MtA/cFIKW/AWaL/o8EhqD/9wA5jBwoctwhSQAAAABJRU5ErkJg\n",
       "gg==\n",
       "\" style=\"display:inline;vertical-align:middle;\" /></a>, <a class=\"ProveItLink\" href=\"../__pv_it/theorems/7e62a2cc7488cf98fcf25c6e4b2091ce54d5d3b80/expr.ipynb\"><img src=\"data:image/png;base64,iVBORw0KGgoAAAANSUhEUgAAAB0AAAAOBAMAAAAh/woJAAAAMFBMVEX///8yMjKqqqru7u6IiIgQ\n",
       "EBC6urpERESYmJjMzMxUVFTc3Nx2dnYiIiJmZmYAAABbDZECAAAAAXRSTlMAQObYZgAAAH9JREFU\n",
       "CNdjYIACjvW/3i0vY0AA1gIGhvcTEPz5DQwM+Q8QfP8NDAz9Dgh+KQMDc6wBgv+LgWHuYgSX81eH\n",
       "+yUg/fYuENxhYGD5zcBgugAquYuBgT0AKPYJwecHyrF8QfBB1nN9Q/BB1s8vgBnOwCDKwMAWjrB+\n",
       "4f91r8oVGBgAyy8lZJPyWlAAAAAASUVORK5CYII=\n",
       "\" style=\"display:inline;vertical-align:middle;\" /></a>, <a class=\"ProveItLink\" href=\"../__pv_it/theorems/5bd2a278c88a18758dd2d155b0e0f979a2724be30/expr.ipynb\"><img src=\"data:image/png;base64,iVBORw0KGgoAAAANSUhEUgAAAB0AAAAOBAMAAAAh/woJAAAAMFBMVEX///+6uroyMjKqqqoQEBCY\n",
       "mJhERESIiIju7u7MzMxUVFTc3Nx2dnYiIiJmZmYAAABvDAmeAAAAAXRSTlMAQObYZgAAAHFJREFU\n",
       "CNdjYIABjrJ1S7kPwLkMJQEMzE8C4Ny2G0Di/QY4X6UBSIjAuXyfQeQ8OH//BRDZDeefL4Ay3t4F\n",
       "gjsM9ycwIIFdDP4g4xga4Pz7IIp5ApwPtpkHoX4/yLwTMD4nA/NXBga7BiQj+7LWCQApABN8ILGQ\n",
       "9NVeAAAAAElFTkSuQmCC\n",
       "\" style=\"display:inline;vertical-align:middle;\" /></a> <a class=\"ProveItLink\" href=\"../__pv_it/demonstrations/ccef93da0cfdc28a1d3c265e3371751bbc5b67810/proof.ipynb\" style=\"text-decoration: none\">&nbsp;&#x22A2;&nbsp;&nbsp;</a><a class=\"ProveItLink\" href=\"../../__pv_it/common/bc5c31e39ae582b67c89fb24025b57f5b995e8890/expr.ipynb\"><img src=\"data:image/png;base64,iVBORw0KGgoAAAANSUhEUgAAAA4AAAAOBAMAAADtZjDiAAAAG1BMVEX///9UVFQQEBAiIiJmZmaI\n",
       "iIiqqqrMzMwAAADC2JlRAAAAAXRSTlMAQObYZgAAABlJREFUCNdjYGBgKGOAgFRa0s7GxkrGxoYA\n",
       "QSUGlQeagkgAAAAASUVORK5CYII=\n",
       "\" style=\"display:inline;vertical-align:middle;\" /></a></span>"
      ],
      "text/plain": [
       "{A or B or C, not(A), not(B), not(C)} |- FALSE"
      ]
     },
     "execution_count": 35,
     "metadata": {},
     "output_type": "execute_result"
    }
   ],
   "source": [
    "Or(A,B,C).derive_contradiction([Or(A,B,C), Not(A), Not(B), Not(C)])"
   ]
  },
  {
   "cell_type": "code",
   "execution_count": 36,
   "metadata": {},
   "outputs": [
    {
     "data": {
      "text/html": [
       "<strong id=\"group_c_d\">group_c_d:</strong> <span style=\"font-size:20px;\"><a class=\"ProveItLink\" href=\"../__pv_it/demonstrations/2bce3b593382ba00d1cccab5a249cd241fbba63e0/expr.ipynb\"><img src=\"data:image/png;base64,iVBORw0KGgoAAAANSUhEUgAAAP0AAAAPBAMAAADdQdTdAAAAMFBMVEX///92dnYiIiIQEBBERERU\n",
       "VFS6urqIiIjc3NxmZmaqqqru7u6YmJgyMjLMzMwAAADiRdoGAAAAAXRSTlMAQObYZgAAAvBJREFU\n",
       "OMuNlU1oE1EQxyexSbbZZJuzl8SDpx7Sg54sGlsDfmFDW8WC2FBPnhqw4DHVq0ojNWJVaE5CEXSx\n",
       "ao0g5KAWwUPAi0FKejAHQWkbm7ba2jozL5vsbHrowk7e/t785703780LAD2/QD4fdoayJ5IOOBfP\n",
       "Fm44/eKD8XHJxnZOZfv/tbLedcn0saHHWki1y2QMbi6yPQTQvi2Zrxtgptv6Uh2A4wT+OrQ09vtd\n",
       "2FmpvVYA72SBm4GyidZDnYEUe2wBeP8IpvegT/sGti6TxzwLDVrTpNR6ieUd8VbQfBTal51oplXu\n",
       "3vKvkUDjNnmtOE5gXbDgEYrdhaZCHp0s9FGORgtC6yI254i3huaZ0H6hjhGVxUKa9/orvlcZtOE4\n",
       "s52CTecoZIZmgpP1ZpTfMpqJkNAGl8EFmowX3ETy1K5tp12DH9zrNZ/zPszge5JJRwKMg6adaVU+\n",
       "M5QnP+rbVOI6YrT+hNTG4LNalo1F4DY3GtqJCH2+YfgalniX3LjAGJOlS/M9ObAzl+30ovS7arEu\n",
       "HRLa0dLABoCMN5qBi1IbTjXjJWGC0+lLgUcVXXoc9MNgZ+7tpv91gAuqlaYjNpwU2vAiFAFkvHBp\n",
       "oEtqo4uNcMbQ1DBPU4/AO4V6KXbOzvZt8hf3vgC9PkIfmd9Si7UcUnVmY6aeAKE9hu+nheO8/Rhd\n",
       "xXsI+5VXjcZP2ZmbThofYTw7OZfaHFilCtuSWmSmnpKsCnpdYWmjnBbODn67VXbuQASs8ldpbTCu\n",
       "fFDXlVZ0Q7P8Z2NCy+XvMiVbaSTb0nLF87Wn5bhmuJx+qnlT+RurYGeaLSycm4dG+esLwk+Vf8XB\n",
       "1pqHp66lojX4lr5JjurEGv1qgCCm48oZEAxL1P+oHqOibh+e9khG+tFGeY+2MpBaP66ncoDuwZ1v\n",
       "4O+rqigltp5ybWrwtCUo1f8u7p2/b6FgxvLLDj6Qfq9IGy0Kli/XGl6WFvLxu4Unjn84uAWtzy5M\n",
       "M/fmtwftfzDO/p6i7ARtAAAAAElFTkSuQmCC\n",
       "\" style=\"display:inline;vertical-align:middle;\" /></a> <a class=\"ProveItLink\" href=\"../__pv_it/demonstrations/4b0611e2fc1edbcc941cf6338b705e86892d48020/proof.ipynb\" style=\"text-decoration: none\">&nbsp;&#x22A2;&nbsp;&nbsp;</a><a class=\"ProveItLink\" href=\"../__pv_it/demonstrations/56a91ee46b6e1de048adab3989269211f3e962520/expr.ipynb\"><img src=\"data:image/png;base64,iVBORw0KGgoAAAANSUhEUgAAAQ0AAAAUBAMAAABlknXcAAAAMFBMVEX///92dnYiIiIQEBBERERU\n",
       "VFS6urqIiIjc3NxmZmaqqqru7u6YmJgyMjLMzMwAAADiRdoGAAAAAXRSTlMAQObYZgAAA3FJREFU\n",
       "SMe9VktMU0EUPa1QSt9r6Y6oC+rCDSxgoW4kAcEm+Ik0CkYSFQIrVzSRxLhqdauGGqwBNbErIzHB\n",
       "BoiIiUk3iu6auJEY0i5kYaIRkJ98vXOnj/a+GCDRMMm7nTlzz5mZOzN3Cuy2uFPbdj/Hfyg/bO13\n",
       "m23xkx0SG1VmLBhP3bL7BluCURRHbRolzfMDrdVpgfVsnoo3Lkk/o6ftiduv6xllfFzNsj0ClG5I\n",
       "7LPSrgUGay1Ed2IdMFdgpO0aZYSY9RIjX5yV/OspuPp0rM1Mkmyx6jTD7LEGuH4LzIzR1BvIr3SZ\n",
       "WleV1wSTfWp9fUA5pAa66ceISd1ZMu8Ff7SKzFMdzDf86wuRcSY5pjSWuSQwJ7l4j1PFVUNmWnlV\n",
       "6firuHWnMAKpgQoa3whL3UUyQ4L/SXV06simIh1W5K8xUERjjVQJ7LaadkINRUuEl2blimnfGTK9\n",
       "fnhtGmqz/YgKzLsKN14U8ktXFP6Ne13Jl7w/g/Q16a0NwXc4KbCbdGPm+FwpaQ9pFOlgltWreITg\n",
       "iEkNzMPU216gG8BdrmzxewOq+ZrBV/jJu+ekxdYz8vPyREMCAqPT5Sg46UT/qmvMjfhhpqWGaz1e\n",
       "F5Ua6I7hkuRXhPOaHejltZSEUawvayQK4ygEVkl6G3nODeCirkXUMWzvgCcgNRwb8EJqoGLyQo3k\n",
       "V2e3JH1tA+08XSOAtxpqVPoJgR0D9q0yws3h3EUFmpX5RTIzUsM7A4e+mnkskzRCEPw6+j5OneAA\n",
       "0gha8xEOaK8FNY+wwGgeTh5piJulCUfCOgZ0t9aseeQ16NwYGJPYHIwcy+JXc5g4WtR26mjdQwBW\n",
       "+lChLsQqc5kDOvW5007k08cIxdMVEP6cPnBQYK7Z/CuR43PG4DTqTnAM+Qp+1zFQ6cM3D4HROXWr\n",
       "IR06OeDcBLbShzGlYpIW/pw+fCGBORbzByzHpwsP37qVGIqW9drO60G8FJ6uMxDYfvroense53Sm\n",
       "q7aOATo5E/iFP0e8KyswvbGC76G1TR9SeXXzCzzNczonTbItziwMtJy2CBrjlGc8aH1owd6Y5Rtv\n",
       "6WcgW+hvXKGnsmFdaIxnFvph42M8eD/1zP7u3vnLW5zDnLb31J20+Q3vrLEtf5fFjO3gUI69KU3b\n",
       "dxvpPZrH6PbdRdE9mscO/ws//Jv6H1hGDoClC6WpAAAAAElFTkSuQmCC\n",
       "\" style=\"display:inline;vertical-align:middle;\" /></a></span><br>"
      ],
      "text/plain": [
       "group_c_d: {A or B or C or D or E or F or G} |- A or B or (C or D) or E or F or G"
      ]
     },
     "execution_count": 36,
     "metadata": {},
     "output_type": "execute_result"
    }
   ],
   "source": [
    "group_c_d = Or(A,B,C,D,E,F,G).associate(2,length=2,assumptions=[Or(A,B,Or(C,D),E,F,G),Or(A,B,C,D,E,F,G),in_bool(A), in_bool(B),in_bool(C),in_bool(D),in_bool(E),in_bool(F),in_bool(G)])"
   ]
  },
  {
   "cell_type": "code",
   "execution_count": 37,
   "metadata": {},
   "outputs": [
    {
     "data": {
      "text/html": [
       "<span style=\"font-size:20px;\"><a class=\"ProveItLink\" href=\"../__pv_it/demonstrations/56a91ee46b6e1de048adab3989269211f3e962520/expr.ipynb\"><img src=\"data:image/png;base64,iVBORw0KGgoAAAANSUhEUgAAAQ0AAAAUBAMAAABlknXcAAAAMFBMVEX///92dnYiIiIQEBBERERU\n",
       "VFS6urqIiIjc3NxmZmaqqqru7u6YmJgyMjLMzMwAAADiRdoGAAAAAXRSTlMAQObYZgAAA3FJREFU\n",
       "SMe9VktMU0EUPa1QSt9r6Y6oC+rCDSxgoW4kAcEm+Ik0CkYSFQIrVzSRxLhqdauGGqwBNbErIzHB\n",
       "BoiIiUk3iu6auJEY0i5kYaIRkJ98vXOnj/a+GCDRMMm7nTlzz5mZOzN3Cuy2uFPbdj/Hfyg/bO13\n",
       "m23xkx0SG1VmLBhP3bL7BluCURRHbRolzfMDrdVpgfVsnoo3Lkk/o6ftiduv6xllfFzNsj0ClG5I\n",
       "7LPSrgUGay1Ed2IdMFdgpO0aZYSY9RIjX5yV/OspuPp0rM1Mkmyx6jTD7LEGuH4LzIzR1BvIr3SZ\n",
       "WleV1wSTfWp9fUA5pAa66ceISd1ZMu8Ff7SKzFMdzDf86wuRcSY5pjSWuSQwJ7l4j1PFVUNmWnlV\n",
       "6firuHWnMAKpgQoa3whL3UUyQ4L/SXV06simIh1W5K8xUERjjVQJ7LaadkINRUuEl2blimnfGTK9\n",
       "fnhtGmqz/YgKzLsKN14U8ktXFP6Ne13Jl7w/g/Q16a0NwXc4KbCbdGPm+FwpaQ9pFOlgltWreITg\n",
       "iEkNzMPU216gG8BdrmzxewOq+ZrBV/jJu+ekxdYz8vPyREMCAqPT5Sg46UT/qmvMjfhhpqWGaz1e\n",
       "F5Ua6I7hkuRXhPOaHejltZSEUawvayQK4ygEVkl6G3nODeCirkXUMWzvgCcgNRwb8EJqoGLyQo3k\n",
       "V2e3JH1tA+08XSOAtxpqVPoJgR0D9q0yws3h3EUFmpX5RTIzUsM7A4e+mnkskzRCEPw6+j5OneAA\n",
       "0gha8xEOaK8FNY+wwGgeTh5piJulCUfCOgZ0t9aseeQ16NwYGJPYHIwcy+JXc5g4WtR26mjdQwBW\n",
       "+lChLsQqc5kDOvW5007k08cIxdMVEP6cPnBQYK7Z/CuR43PG4DTqTnAM+Qp+1zFQ6cM3D4HROXWr\n",
       "IR06OeDcBLbShzGlYpIW/pw+fCGBORbzByzHpwsP37qVGIqW9drO60G8FJ6uMxDYfvroense53Sm\n",
       "q7aOATo5E/iFP0e8KyswvbGC76G1TR9SeXXzCzzNczonTbItziwMtJy2CBrjlGc8aH1owd6Y5Rtv\n",
       "6WcgW+hvXKGnsmFdaIxnFvph42M8eD/1zP7u3vnLW5zDnLb31J20+Q3vrLEtf5fFjO3gUI69KU3b\n",
       "dxvpPZrH6PbdRdE9mscO/ws//Jv6H1hGDoClC6WpAAAAAElFTkSuQmCC\n",
       "\" style=\"display:inline;vertical-align:middle;\" /></a> <a class=\"ProveItLink\" href=\"../__pv_it/demonstrations/f741da1a90f54414dfd874aa7f9efb2d78679aa50/proof.ipynb\" style=\"text-decoration: none\">&nbsp;&#x22A2;&nbsp;&nbsp;</a><a class=\"ProveItLink\" href=\"../__pv_it/demonstrations/2bce3b593382ba00d1cccab5a249cd241fbba63e0/expr.ipynb\"><img src=\"data:image/png;base64,iVBORw0KGgoAAAANSUhEUgAAAP0AAAAPBAMAAADdQdTdAAAAMFBMVEX///92dnYiIiIQEBBERERU\n",
       "VFS6urqIiIjc3NxmZmaqqqru7u6YmJgyMjLMzMwAAADiRdoGAAAAAXRSTlMAQObYZgAAAvBJREFU\n",
       "OMuNlU1oE1EQxyexSbbZZJuzl8SDpx7Sg54sGlsDfmFDW8WC2FBPnhqw4DHVq0ojNWJVaE5CEXSx\n",
       "ao0g5KAWwUPAi0FKejAHQWkbm7ba2jozL5vsbHrowk7e/t785703780LAD2/QD4fdoayJ5IOOBfP\n",
       "Fm44/eKD8XHJxnZOZfv/tbLedcn0saHHWki1y2QMbi6yPQTQvi2Zrxtgptv6Uh2A4wT+OrQ09vtd\n",
       "2FmpvVYA72SBm4GyidZDnYEUe2wBeP8IpvegT/sGti6TxzwLDVrTpNR6ieUd8VbQfBTal51oplXu\n",
       "3vKvkUDjNnmtOE5gXbDgEYrdhaZCHp0s9FGORgtC6yI254i3huaZ0H6hjhGVxUKa9/orvlcZtOE4\n",
       "s52CTecoZIZmgpP1ZpTfMpqJkNAGl8EFmowX3ETy1K5tp12DH9zrNZ/zPszge5JJRwKMg6adaVU+\n",
       "M5QnP+rbVOI6YrT+hNTG4LNalo1F4DY3GtqJCH2+YfgalniX3LjAGJOlS/M9ObAzl+30ovS7arEu\n",
       "HRLa0dLABoCMN5qBi1IbTjXjJWGC0+lLgUcVXXoc9MNgZ+7tpv91gAuqlaYjNpwU2vAiFAFkvHBp\n",
       "oEtqo4uNcMbQ1DBPU4/AO4V6KXbOzvZt8hf3vgC9PkIfmd9Si7UcUnVmY6aeAKE9hu+nheO8/Rhd\n",
       "xXsI+5VXjcZP2ZmbThofYTw7OZfaHFilCtuSWmSmnpKsCnpdYWmjnBbODn67VXbuQASs8ldpbTCu\n",
       "fFDXlVZ0Q7P8Z2NCy+XvMiVbaSTb0nLF87Wn5bhmuJx+qnlT+RurYGeaLSycm4dG+esLwk+Vf8XB\n",
       "1pqHp66lojX4lr5JjurEGv1qgCCm48oZEAxL1P+oHqOibh+e9khG+tFGeY+2MpBaP66ncoDuwZ1v\n",
       "4O+rqigltp5ybWrwtCUo1f8u7p2/b6FgxvLLDj6Qfq9IGy0Kli/XGl6WFvLxu4Unjn84uAWtzy5M\n",
       "M/fmtwftfzDO/p6i7ARtAAAAAElFTkSuQmCC\n",
       "\" style=\"display:inline;vertical-align:middle;\" /></a></span>"
      ],
      "text/plain": [
       "{A or B or (C or D) or E or F or G} |- A or B or C or D or E or F or G"
      ]
     },
     "execution_count": 37,
     "metadata": {},
     "output_type": "execute_result"
    }
   ],
   "source": [
    "group_c_d.disassociate(2, assumptions=[group_c_d.expr])"
   ]
  },
  {
   "cell_type": "code",
   "execution_count": 38,
   "metadata": {},
   "outputs": [
    {
     "data": {
      "text/html": [
       "<span style=\"font-size:20px;\"><a class=\"ProveItLink\" href=\"../../__pv_it/theorems/ddc941563dffabdeb005429c2f934b2b6ccbeab10/expr.ipynb\"><img src=\"data:image/png;base64,iVBORw0KGgoAAAANSUhEUgAAADYAAAAPBAMAAABdHiGLAAAAMFBMVEX///92dnYiIiIQEBBERERU\n",
       "VFS6urqIiIjc3NxmZmaqqqru7u6YmJgyMjLMzMwAAADiRdoGAAAAAXRSTlMAQObYZgAAANdJREFU\n",
       "GNNjYACBtwwogF3Z5a9RGJRzH1WOgZevYMvOA2Amz/0NqHIsbAfYHziAmbvmN0DEeJyUdKFyXAsg\n",
       "cgfqE8A0n/sGuD7GbLAc24b1ELP3bkCYmfT0AYi1jeF9AVgoAmGf0X8zMCuBoX8CmOGA5BbGMwIg\n",
       "WyJnxoNF+WzvAgFUjsEhB2QdAwPzBZAIB7I+BgdWIGMBAwOTAVjIAFkugBeoGijH+wEsNB1F30EG\n",
       "hiYQ+wdYiGkBPMwEGCUDGLb8v83A5f8J7FDukGzMsIYBNhFImEEAAEUpOYcaSaDVAAAAAElFTkSu\n",
       "QmCC\n",
       "\" style=\"display:inline;vertical-align:middle;\" /></a>, <a class=\"ProveItLink\" href=\"../__pv_it/theorems/67501eb487d67b93f0ec3f6965561f782e470d670/expr.ipynb\"><img src=\"data:image/png;base64,iVBORw0KGgoAAAANSUhEUgAAADcAAAAPBAMAAACy3Eq1AAAAMFBMVEX///92dnYyMjKqqqoiIiLu\n",
       "7u7c3NyIiIjMzMwQEBC6urpERERmZmZUVFSYmJgAAADEjrHzAAAAAXRSTlMAQObYZgAAAOZJREFU\n",
       "GNNjYGB4+//O2d0LGJBByez9mr4QodkMDDw/UCQZFNpZt54DMTj+MTBw/UGV3LCOoYIbxGD/xsDA\n",
       "9x0sxrfFxQkmaQyW5J7AwBDpCjZjewBCp1Q0iMF/gYHDFywaFIAwlsvjBojRf+/5FgOw0DWEnSv9\n",
       "f4JdW5/AwDoXIoTsILmHIMZOkAKQVo5JSkAAk+TmegBk/AVJFgAJNhSd3AwXIN5kuA+2YAKyJC+D\n",
       "AsSbHL/BQsdRdPIJMDAwAdWv3AoWYjGAB18jg+BZBgZe/b9nbm+GCLHeXooR8AjAJQ0NPggAAH2B\n",
       "SAzP/7V+AAAAAElFTkSuQmCC\n",
       "\" style=\"display:inline;vertical-align:middle;\" /></a>, <a class=\"ProveItLink\" href=\"../__pv_it/demonstrations/6d4a76c8afef1311edaf37cd3d7c58f6a0f3bae70/expr.ipynb\"><img src=\"data:image/png;base64,iVBORw0KGgoAAAANSUhEUgAAADYAAAAPBAMAAABdHiGLAAAAMFBMVEX////MzMy6uroyMjIiIiKq\n",
       "qqoQEBB2dnbc3NyYmJhmZmZUVFRERESIiIju7u4AAACOKgoaAAAAAXRSTlMAQObYZgAAANxJREFU\n",
       "GNNjYGDgu7NrJ0cBAxLgdTvzOWUTiHVtAgPrsgnIcgzMjBfevAIKvfEDctY3oMjxME3gFTjAwGD2\n",
       "AMhRg4jNcXExgMqxBhxg4PoK4kiBpWTuIfSx6x1g6HcAcV6ACD47JDNVpAUY6i/AbeFuQMil/E9i\n",
       "YPAXQLgA2S3sMwsY8kFOYQATYsZAAHMLwwFNBn8QmxWsuQdZH8MBbojP2MEibChyG5gZ+kFuqQOL\n",
       "cF1A0TedgfUnA0PUA4iQKyLMCtirNjAwvDq9SwEq9PrQA7SwRgLqRyBhBgEActk8e8zZ+EcAAAAA\n",
       "SUVORK5CYII=\n",
       "\" style=\"display:inline;vertical-align:middle;\" /></a>, <a class=\"ProveItLink\" href=\"../__pv_it/demonstrations/fd6d96a8fa1d80eb29daf8272b5460a0b6c3669c0/expr.ipynb\"><img src=\"data:image/png;base64,iVBORw0KGgoAAAANSUhEUgAAADgAAAAPBAMAAABD1xE4AAAAMFBMVEX///8iIiLu7u52dna6uroQ\n",
       "EBBmZmaIiIjMzMyqqqoyMjLc3NxERERUVFSYmJgAAAAdjRNVAAAAAXRSTlMAQObYZgAAAONJREFU\n",
       "GNNjYGB4+//snbMbGJABu+iZX4FXwMxfDAx8P1EkGbg4CnTUHgAZHN+BRCqqJA/LA/aGAyAzfgAJ\n",
       "/wdgQb6DglJQSc4JIEmeD0BivwFIjOO4AlwnsxNIkh9E+F8AiWkpIIx17G0AMvoLgEQ9WOdthJ2B\n",
       "/0NAjHqQivsOIOYBJAcxvwOpPw/ifQVbGbUKCKCSDAf8gIw/IFf+AwlxI+tkOMAL9aYqRDgAWfIC\n",
       "F8SbTKsgYukoOh8DQwroTccEiBjjBHjwGTCbXWDgXf839042VIzpjhN6wCMBFhtI8EEAALZERsGv\n",
       "6x6JAAAAAElFTkSuQmCC\n",
       "\" style=\"display:inline;vertical-align:middle;\" /></a>, <a class=\"ProveItLink\" href=\"../__pv_it/demonstrations/e428f1209cf2d8fbb595a1333009c1d986a9099a0/expr.ipynb\"><img src=\"data:image/png;base64,iVBORw0KGgoAAAANSUhEUgAAADcAAAAPBAMAAACy3Eq1AAAAMFBMVEX///+qqqoQEBDc3NzMzMx2\n",
       "dnbu7u66urqYmJgyMjIiIiJUVFRmZmZERESIiIgAAADRBAegAAAAAXRSTlMAQObYZgAAAOJJREFU\n",
       "GNNjYGB4+//O6V0/GZDBK937k1YXgJkgiV4USYYJfmzXToAY7P+ARA6q5IUKhie8IAbrFyCRBxbj\n",
       "uLVqJUxSECzJ+YGBlYEZxGK5l4DQGZ4LYvBfYOiACGUmIIxlX7IFxKifs+kzRGgzws6i9Z/Aro13\n",
       "YJgAFUJ2UEQriDGfgSGAwQFkpeZMIIBJ8rI3ABl/GRgS2B4AGcwoOnkZNkC9yQp2igKyJDfIMrA3\n",
       "vcFC51B0cgQwMHB9AOpWAQtxCcCDz5Uh9DQDQ/b832f2roc4l21vGUbAIwB7LDT4IAAA1+JKJTT9\n",
       "YhQAAAAASUVORK5CYII=\n",
       "\" style=\"display:inline;vertical-align:middle;\" /></a> <a class=\"ProveItLink\" href=\"../__pv_it/demonstrations/32e383317d0b92b53e1c2d550dc34b99f8bc24c50/proof.ipynb\" style=\"text-decoration: none\">&nbsp;&#x22A2;&nbsp;&nbsp;</a><a class=\"ProveItLink\" href=\"../__pv_it/demonstrations/7a17412c11ada8b055bca6e92d0f4536bbbd52a20/expr.ipynb\"><img src=\"data:image/png;base64,iVBORw0KGgoAAAANSUhEUgAAAZYAAAAUBAMAAABc2QbCAAAAMFBMVEX///9UVFTMzMx2dna6uroQ\n",
       "EBCqqqqIiIgiIiJmZmYyMjJERETu7u6YmJjc3NwAAAC+aOQFAAAAAXRSTlMAQObYZgAABKVJREFU\n",
       "SMe9V11oHFUUPrs72d+ZaSIKXbVm8+YPkjwpitB9CSgIieKDGEsXnwxCuy8ikofEB4VCMLv4A0Eh\n",
       "q9iHiJhUVFKi7gjGtgnI+lQaqV0QRERJ05ZumzVdzzk3M/ee2Y36Ml6YOzPfnPudc+4599w7AG4D\n",
       "ImrHemB/RqUs2cRuQz3fH/r2YydfXS2GwDOnqo1fBOIMtgdW7wmJTXVOVw/uQKzZpdFe5lu8Fsan\n",
       "8ofckX9ldga35+/6XGKpent+YK4GJPqpgpZYBz8WuJ8AyFyRWOoIwOQR/019OIBmXSqFxu7g9RPY\n",
       "tS5fssq97GWQLC83IPlOQ5IEzIZcH87FQqHbAmcZ1rGvKI+XPOxjJOKUWW4XwLopMHsFZTK38Ok2\n",
       "kjjPA4fxS2ZcjrVa2J0DeLjLlwvqtvkXCJaNWewWmoJEM5va0N+xisTGUM6uQKIMaTVT3xMTxPux\n",
       "S3scA7TZaQks+zzZSexDJDHLA6dRu7UrxyYonmcA1rp8eVNl1CRNiMFykoaNShLNbGpDKy+VJXYY\n",
       "5ewy2OPwm1LSmOa1QQn3BAM5tHltVmALnEqVvVSxVEDreLlX5VhMoQS4eA+vN3dGJUHqGpgsmev0\n",
       "ep8k0cyGti/Q7Gc9ieHqGAF8/Qhe5XfLO87lbBKvb1QW9kP8Nc/E3Bs8pxS/JLLkVEDbNHo7NHYZ\n",
       "LnJ8KiFfUgp4MrkLJssWu/iDJNHMhjZ8vfduCFvgsO2PwNf8/h1nJ4YXJ16VmuFD51dKYGKJljYK\n",
       "lT+gKhKBqaty7NjiHZxEDi/+Rz+mtsjBZqV2Md4SLIfLAbEmMZi1tu2LU2+ELLB2qkfZqU1Qn4qw\n",
       "xVOWKkOs6Gem/RSYWPqK9uUVgNvVRwJj1+RYzGD2IjkTikuaZ8cC96ZgmSvoyAUkBrPWhlO01i8t\n",
       "wMWZ5YcX4Rn2Nz8/yLNhz1Bt28tMmC6ZWB8XH5u/nvULbo6q64FxOZYzGO2LXw750sdmDs1X24Ll\n",
       "KOeyJ0kMZq0NX1PXpQW8OKk6DytfLFSjvrwLD4GfmTBdNrE0W/YCQ5lSouQvDawsDTkWLfWwsuzn\n",
       "C3bPCZY5DmJBkhjMWhvGJNXqssCmoom+cI4hmuYZgN9B5QVtLzBYNDHeWUBtzm4tDcEmYE+AGMvb\n",
       "SwKn2ZrR6+WDIMeSeL0uWHg/SEgSk1lra/hppzHaXuAxvB7nte+W/K0Ycg+Wg8yMt8HEXN9Eap+p\n",
       "fYo3gfWakFPby1Cw9o3Ga/9X/5QRsGz55hgkgjnQhk4PL0uMthfeljaxkgHvMblbKh4HlbFZDNPo\n",
       "VyAwLNvJ9/esGpoNloZ1AqQcJaP1NEVyJOQLFWneY+pNk4VK9KQnSQSzr+0kYhOexChBRyk/38LI\n",
       "wEbnE0jWb6jaz7UTYkt4iPvSN2Fx7wD43sDbwcFKSd/ZyQ+cbkq5b2nsHM1othDyBZPOru948FLn\n",
       "hMkC507liyFlgllrq66WBGYTtkLnP/jQP8ME7Y8e5+kemOv9B7mz+5xh/pGllwG95MIYVkCnApG1\n",
       "fc+WUTQ8W/onhghajzN/rhmZtnX9LxZBy+37LxZF4yNjZP/IP/+f/8hOE/4Gu3aNO4D4rywAAAAA\n",
       "SUVORK5CYII=\n",
       "\" style=\"display:inline;vertical-align:middle;\" /></a></span>"
      ],
      "text/plain": [
       "{A in BOOLEAN, B in BOOLEAN, C in BOOLEAN, D in BOOLEAN, E in BOOLEAN} |- (A or B or C or D or E) = (A or C or D or B or E)"
      ]
     },
     "execution_count": 38,
     "metadata": {},
     "output_type": "execute_result"
    }
   ],
   "source": [
    "Or(A,B,C,D,E).commutation(1,3, in_bool(A,B,C,D,E))"
   ]
  },
  {
   "cell_type": "code",
   "execution_count": 39,
   "metadata": {},
   "outputs": [
    {
     "data": {
      "text/html": [
       "<span style=\"font-size:20px;\"><a class=\"ProveItLink\" href=\"../../__pv_it/theorems/ddc941563dffabdeb005429c2f934b2b6ccbeab10/expr.ipynb\"><img src=\"data:image/png;base64,iVBORw0KGgoAAAANSUhEUgAAADYAAAAPBAMAAABdHiGLAAAAMFBMVEX///92dnYiIiIQEBBERERU\n",
       "VFS6urqIiIjc3NxmZmaqqqru7u6YmJgyMjLMzMwAAADiRdoGAAAAAXRSTlMAQObYZgAAANdJREFU\n",
       "GNNjYACBtwwogF3Z5a9RGJRzH1WOgZevYMvOA2Amz/0NqHIsbAfYHziAmbvmN0DEeJyUdKFyXAsg\n",
       "cgfqE8A0n/sGuD7GbLAc24b1ELP3bkCYmfT0AYi1jeF9AVgoAmGf0X8zMCuBoX8CmOGA5BbGMwIg\n",
       "WyJnxoNF+WzvAgFUjsEhB2QdAwPzBZAIB7I+BgdWIGMBAwOTAVjIAFkugBeoGijH+wEsNB1F30EG\n",
       "hiYQ+wdYiGkBPMwEGCUDGLb8v83A5f8J7FDukGzMsIYBNhFImEEAAEUpOYcaSaDVAAAAAElFTkSu\n",
       "QmCC\n",
       "\" style=\"display:inline;vertical-align:middle;\" /></a>, <a class=\"ProveItLink\" href=\"../__pv_it/theorems/67501eb487d67b93f0ec3f6965561f782e470d670/expr.ipynb\"><img src=\"data:image/png;base64,iVBORw0KGgoAAAANSUhEUgAAADcAAAAPBAMAAACy3Eq1AAAAMFBMVEX///92dnYyMjKqqqoiIiLu\n",
       "7u7c3NyIiIjMzMwQEBC6urpERERmZmZUVFSYmJgAAADEjrHzAAAAAXRSTlMAQObYZgAAAOZJREFU\n",
       "GNNjYGB4+//O2d0LGJBByez9mr4QodkMDDw/UCQZFNpZt54DMTj+MTBw/UGV3LCOoYIbxGD/xsDA\n",
       "9x0sxrfFxQkmaQyW5J7AwBDpCjZjewBCp1Q0iMF/gYHDFywaFIAwlsvjBojRf+/5FgOw0DWEnSv9\n",
       "f4JdW5/AwDoXIoTsILmHIMZOkAKQVo5JSkAAk+TmegBk/AVJFgAJNhSd3AwXIN5kuA+2YAKyJC+D\n",
       "AsSbHL/BQsdRdPIJMDAwAdWv3AoWYjGAB18jg+BZBgZe/b9nbm+GCLHeXooR8AjAJQ0NPggAAH2B\n",
       "SAzP/7V+AAAAAElFTkSuQmCC\n",
       "\" style=\"display:inline;vertical-align:middle;\" /></a>, <a class=\"ProveItLink\" href=\"../__pv_it/demonstrations/6d4a76c8afef1311edaf37cd3d7c58f6a0f3bae70/expr.ipynb\"><img src=\"data:image/png;base64,iVBORw0KGgoAAAANSUhEUgAAADYAAAAPBAMAAABdHiGLAAAAMFBMVEX////MzMy6uroyMjIiIiKq\n",
       "qqoQEBB2dnbc3NyYmJhmZmZUVFRERESIiIju7u4AAACOKgoaAAAAAXRSTlMAQObYZgAAANxJREFU\n",
       "GNNjYGDgu7NrJ0cBAxLgdTvzOWUTiHVtAgPrsgnIcgzMjBfevAIKvfEDctY3oMjxME3gFTjAwGD2\n",
       "AMhRg4jNcXExgMqxBhxg4PoK4kiBpWTuIfSx6x1g6HcAcV6ACD47JDNVpAUY6i/AbeFuQMil/E9i\n",
       "YPAXQLgA2S3sMwsY8kFOYQATYsZAAHMLwwFNBn8QmxWsuQdZH8MBbojP2MEibChyG5gZ+kFuqQOL\n",
       "cF1A0TedgfUnA0PUA4iQKyLMCtirNjAwvDq9SwEq9PrQA7SwRgLqRyBhBgEActk8e8zZ+EcAAAAA\n",
       "SUVORK5CYII=\n",
       "\" style=\"display:inline;vertical-align:middle;\" /></a>, <a class=\"ProveItLink\" href=\"../__pv_it/demonstrations/fd6d96a8fa1d80eb29daf8272b5460a0b6c3669c0/expr.ipynb\"><img src=\"data:image/png;base64,iVBORw0KGgoAAAANSUhEUgAAADgAAAAPBAMAAABD1xE4AAAAMFBMVEX///8iIiLu7u52dna6uroQ\n",
       "EBBmZmaIiIjMzMyqqqoyMjLc3NxERERUVFSYmJgAAAAdjRNVAAAAAXRSTlMAQObYZgAAAONJREFU\n",
       "GNNjYGB4+//snbMbGJABu+iZX4FXwMxfDAx8P1EkGbg4CnTUHgAZHN+BRCqqJA/LA/aGAyAzfgAJ\n",
       "/wdgQb6DglJQSc4JIEmeD0BivwFIjOO4AlwnsxNIkh9E+F8AiWkpIIx17G0AMvoLgEQ9WOdthJ2B\n",
       "/0NAjHqQivsOIOYBJAcxvwOpPw/ifQVbGbUKCKCSDAf8gIw/IFf+AwlxI+tkOMAL9aYqRDgAWfIC\n",
       "F8SbTKsgYukoOh8DQwroTccEiBjjBHjwGTCbXWDgXf839042VIzpjhN6wCMBFhtI8EEAALZERsGv\n",
       "6x6JAAAAAElFTkSuQmCC\n",
       "\" style=\"display:inline;vertical-align:middle;\" /></a>, <a class=\"ProveItLink\" href=\"../__pv_it/demonstrations/e428f1209cf2d8fbb595a1333009c1d986a9099a0/expr.ipynb\"><img src=\"data:image/png;base64,iVBORw0KGgoAAAANSUhEUgAAADcAAAAPBAMAAACy3Eq1AAAAMFBMVEX///+qqqoQEBDc3NzMzMx2\n",
       "dnbu7u66urqYmJgyMjIiIiJUVFRmZmZERESIiIgAAADRBAegAAAAAXRSTlMAQObYZgAAAOJJREFU\n",
       "GNNjYGB4+//O6V0/GZDBK937k1YXgJkgiV4USYYJfmzXToAY7P+ARA6q5IUKhie8IAbrFyCRBxbj\n",
       "uLVqJUxSECzJ+YGBlYEZxGK5l4DQGZ4LYvBfYOiACGUmIIxlX7IFxKifs+kzRGgzws6i9Z/Aro13\n",
       "YJgAFUJ2UEQriDGfgSGAwQFkpeZMIIBJ8rI3ABl/GRgS2B4AGcwoOnkZNkC9yQp2igKyJDfIMrA3\n",
       "vcFC51B0cgQwMHB9AOpWAQtxCcCDz5Uh9DQDQ/b832f2roc4l21vGUbAIwB7LDT4IAAA1+JKJTT9\n",
       "YhQAAAAASUVORK5CYII=\n",
       "\" style=\"display:inline;vertical-align:middle;\" /></a> <a class=\"ProveItLink\" href=\"../__pv_it/demonstrations/d8548ecf89d2ad4af9c309614e17c2754f1193cf0/proof.ipynb\" style=\"text-decoration: none\">&nbsp;&#x22A2;&nbsp;&nbsp;</a><a class=\"ProveItLink\" href=\"../__pv_it/demonstrations/49e3560f61c505e546dabeb04a0a25210aa432f80/expr.ipynb\"><img src=\"data:image/png;base64,iVBORw0KGgoAAAANSUhEUgAAAZYAAAAUBAMAAABc2QbCAAAAMFBMVEX///9UVFTMzMx2dna6uroQ\n",
       "EBCqqqqIiIgiIiJmZmYyMjJERETu7u6YmJjc3NwAAAC+aOQFAAAAAXRSTlMAQObYZgAABJRJREFU\n",
       "SMe9V01oXFUUPjPzMr/vvSai0DHWTHZVKclKsQidTaCuEsWFEEsHV2ZTZyMiWUy6KQjBzKAVQsVE\n",
       "sYsUMRNRSYmaJxjbJiDTVWmlzQM3pShJWpvUxCSec+7Me++8uUo3rxfmzpvvne/e79xzzr13AOwG\n",
       "RNROabA/o5os6WK3op6fDb27up+vLRRD4KW5WuN3gVg9O10LT4fMRvcv1g5uQ8xtm9GsA6QWdya7\n",
       "JqbDr8ICrJ6Nye5vwvzR/CG7PyR0rnsOZyIRXylolro4Pxa4HwbI3JVY6gTAyInWL/XiAIpaLYW4\n",
       "2/j5Dcw2vZB1mxSrLhkaAR1oMlWQ2DsNSJ5ttE1mbQIs41dVrcKsg32M3lplHnUXwPhbYOY82mT2\n",
       "8OkxsrjGxD58kxmSXGMLuysAL7T5cp26QTQyq4KhEQB9qHlQmq2MYzflSqE02VmARBnSKhF+IQuI\n",
       "d2KXdjgGqNnaElj2DdJJunvJYpyJFRzV2JXcBMXzEsBSmy8fUHcMKWZZMDQCoILAqjQ7T/1ASChN\n",
       "NtgAcwhuq6EaFa4NSriXGcih5qVxgU1xKlWbqWKogC7ix74nudl1SICN3+F6s8ea2dQPrmBoBMC3\n",
       "6PHrThDLbFL/TEjoOnZrWENfwHsMGM7bvJ2N4OdHVQedED/tBDH7AVcfiUiiHzkV0B1ib4S4dbjJ\n",
       "8amGfElVFcVSe6fP0AgAHPTwUwJb46X4tW0yjAvG6UX4gYGfOe8xbLjwdZWth67NlyCIJbZ8UTjo\n",
       "c+Bla+qe5A7OPLHHNcDFf/QCtRleQ9JrbNdOuiAZGgHxjZujZ6TZsbInICCUwArG5QYo8yKs8ZKl\n",
       "yhArtrLVfAWCWPqu78u7AI+Dl62xvyQXC4K9SI6F4pIuqWrKAkiGRgAV7FKnwCYKfoR9oQT24PNb\n",
       "8BqvQX6yh700x2hva2YrVEpBrOMf/sVvL7c2XM7WA0OSywVBu+l6yJeOYqua4pKhEUAFm9oU2EnO\n",
       "eUfaUcHCfQqQ8sXAaZS2j+F5L1uhUg5iaVb2JkOZUqLkZ+tqQ3KxhhzeqLS+IMWkXS7I0AjAgoXU\n",
       "lsAmONiFtsnA2mVfOMdQV5rXFu6Aygs6XjhyPsYnC6hD155Og5et5jAILh8vCVw+Y8yvl8+8HKPj\n",
       "BV4SDI0APl5U8noYb9sJORkX7BKt6HGufbvEkefIHil72RrfgSBmtyRS+1qdlJyty9PCTh0vvV7t\n",
       "BxrXPh0vfD74DI0APl766gJb81fBF4qTmRfo6QbuZMBnTG5PuXlQic3iKg18DwLDXTP5SVNV77hX\n",
       "Gsb7IO0oGY1XKZL9IV94k6ZMGSgIhkYAnMdBhh2BJTFZRhw5GS3Bcd42PsTIwMr+l5BcfKAOA947\n",
       "ITaLF7vvWhJmmhe7c10feRcrZf3kfr7roivtfiIu3x2zhZAvmHQmUmrz24KhEUAj1xZKUgBcmcsX\n",
       "5WQotNb9KT9+3rrDeO0PzX1ag9nOQ9hd1t9h/n/khxTQhuHOZlUhsvYfd8toGt4tWzeGCJrmzp9z\n",
       "I5tt2f8vFkHL6f+LRdT4yhjZf+Rbj/I/suXCv9JBjwx8/X5bAAAAAElFTkSuQmCC\n",
       "\" style=\"display:inline;vertical-align:middle;\" /></a></span>"
      ],
      "text/plain": [
       "{A in BOOLEAN, B in BOOLEAN, C in BOOLEAN, D in BOOLEAN, E in BOOLEAN} |- (A or B or C or D or E) = (E or A or B or C or D)"
      ]
     },
     "execution_count": 39,
     "metadata": {},
     "output_type": "execute_result"
    }
   ],
   "source": [
    "Or(A,B,C,D,E).commutation(-1,0, in_bool(A,B,C,D,E))"
   ]
  },
  {
   "cell_type": "code",
   "execution_count": 40,
   "metadata": {},
   "outputs": [
    {
     "data": {
      "text/html": [
       "<span style=\"font-size:20px;\"><a class=\"ProveItLink\" href=\"../__pv_it/demonstrations/c7b1ecf317c1617358a149c70b423428e77361fd0/expr.ipynb\"><img src=\"data:image/png;base64,iVBORw0KGgoAAAANSUhEUgAAAUoAAAAPBAMAAABw5ZtdAAAAMFBMVEX///92dnYiIiIQEBBERERU\n",
       "VFS6urqIiIjc3NxmZmaqqqru7u6YmJgyMjLMzMwAAADiRdoGAAAAAXRSTlMAQObYZgAAA2pJREFU\n",
       "SMeNlk1ME1EQx/+tUNpuW3rWA3jw1AMc9CQJCDZ+xlYFlUQtgZMnmkjisdWrGmqghvoRejIhJtgI\n",
       "ETEx6UWJNxIvEkPKQQ4mGj7kS6HUee/tbne2e2CTnX397/zmvZ03O11AHL/Bj0+V3uzpPps4E80W\n",
       "79v9ot3RNNcaYhu5npZ5pg1VzmW7trmfNtT7whtmUiCxkQkkys95vER5TI1KwoTkcEna44Bvn2sN\n",
       "bcBEm/FL3UCZQv+zsY20wkAH18gPFzl7twjPSLEWbWx2iCefoVQgWy/EQFLG2QM8f5mmdZKPb4dG\n",
       "t4XHnARDIj8jnMUgXbQMj7dG5jNjpyNkxtO16ErGHk9P+AfhjVCcjLsg80arCWwzLXiSjKeVzLLw\n",
       "iKjdEPkeLDIWTTSDluTxtshMMvaruNGPWjSVt4t66RVTcvCNzjtSqKPVTEWYNi5h8ZxBeiRPRvmt\n",
       "khkOM1aUTxhppgV34cVrK+sTdYKfqEERKziIIkOFN0VxnaDzrCqFOELHClbNuy4rXkzup1nq1CvT\n",
       "2CFyGWcsNhCQ4azxmvFIDkx2WFQf3sOOAutwEOl4hxVZAW5KVodUVm7OdeZh1VyWN5Qm+KFGkkuF\n",
       "GespZ9vT4PEGM7jB2aakGc6K5nKja3ZRn7kPw3IDG5KoVzWQSkM7Aavm3q+u8h5wTY1SosgTfYx1\n",
       "7SMI8HhNC1dbOduyVG01VlSVsF0UxdabS8hla834qMAu6FVsaod25S959y00vTnEhPnD2eAqXKqT\n",
       "VLVSQYuDse10flk8VYOibhe1okgprUHN+gyH1Z1NscqkVXNL30kp+fKufLVkAnucpVrVMMO1dWg6\n",
       "YbAtlrfXiprdkYl0EOVW+/EYzTDapdpIU5OdEqpzeefdqLbLqQ7Gyp6HI0zzrJnba7Cy9+lvL0NX\n",
       "wg4icXkzq3W/VP5Euwzpr5auecWCXKqB4dIczHapLTI/1fNCcaa5tqpFrbOifYXKDmiqz0EEHghp\n",
       "R+XmilpGkFI7cAFMo2blN/5glyPVkunPcD+5lwNLTFPlwlg/PfXyUQc0VnAQMV35Dn9sXc21IG19\n",
       "aTPXfd4Iu6B/HIz2PDWkYMbwy3aPcT/tFn2odJaZNlvaNL0MFrPRJ8VXHH1ZuY7Ryhl7vMu2rx48\n",
       "RO3hoHkLB/M7KOuEMvE/nAQ+4j9xmK4AAAAASUVORK5CYII=\n",
       "\" style=\"display:inline;vertical-align:middle;\" /></a> <a class=\"ProveItLink\" href=\"../__pv_it/demonstrations/872c71b0b9573698ecbc0034c9349983dbf1705a0/proof.ipynb\" style=\"text-decoration: none\">&nbsp;&#x22A2;&nbsp;&nbsp;</a><a class=\"ProveItLink\" href=\"../__pv_it/demonstrations/e339a2c86f70d9feeb5cc999c20a2f0ae6d871cc0/expr.ipynb\"><img src=\"data:image/png;base64,iVBORw0KGgoAAAANSUhEUgAAAUoAAAAPBAMAAABw5ZtdAAAAMFBMVEX///92dnYiIiIQEBBERERU\n",
       "VFS6urqIiIjc3NxmZmaqqqru7u6YmJgyMjLMzMwAAADiRdoGAAAAAXRSTlMAQObYZgAAA3xJREFU\n",
       "SMeNlk1IVFEUx/8zzfeXrttoixbhYoRslaSZUhakmVYD2Qy1aqWQ0HKmthEaaTR94KwCN/UozRSE\n",
       "WRQSBA60SSJ0kYug8AO/Ssfp3Hvf13m+hQ/efe/93v+ce+6Zc88bQBx/wI9PldRIa8YBJ9tGivc4\n",
       "Gqi0j3SVGQp2rOe7m/oZi6XXe1qvOdxFB1IvQtVO3VAsXX7OHabLT9XdghgS8nZRjg1AeI+zYCMw\n",
       "1mg8qRcQEX7krKoE+IrcnWBzBa67U0TgsYuuqhb7oVzDgkajX8CYzEJiFwj8ZSzaQprwNt3dEIpZ\n",
       "aRjYomGKs2XKTyzD3GGZLuF6phuvo2E0x3V9dFkeggPqCZ8WaiQ6afBqMm8UTWyLsfhJEZWYaUko\n",
       "6qShR+R7krMsRRhZZO6QpefALtN9FW9u8mlRQ7pswQn10itm5c03Om9L4KNo3tUxNiqNxTrjtKTA\n",
       "kNTFV+BBiDP6XXIRjblDB52hVbsu/E/wX3xaWXkdmgsUGdLeFMV1jM5zqhQ6kTiq2VloTVa8yHmE\n",
       "ZvHllK4ZX+SNja0hJL3Z3GFdzLJh1w2K6sMHF92amzEd72XdUIYpWc2qjq7PthRgZ54ta9fRBD/V\n",
       "Xd/85W0Ho3L258DdJYRxcNWuq7G6gKULlPP54VUn1GfOYFD+WMF++FUNZHOInoCdefesKO8CV2DU\n",
       "UcnBPOWR4wB3FxTG/k27LrlotRpTJ8o8uOkCxUpT+bQMO1qLGWV4BnoVm+zQjnySb98iWjJLplr1\n",
       "C5PFdzChN0TTnW9FVEe9XddE5+cfp7mOyhy+HeyHIqUUg5rhGQ6rN6KEsv125pXa1xKFC56CWTJa\n",
       "tJ8xanfTepJMd1UiCXNFuy5p271MZ3RHbgyQlVeuEw9RC6NdIp2xM9kpoTpXqOSFVTIejbE+63Ni\n",
       "uJNlH21gtrL3LTh0sl1Wu0CyK5hZ9f1W+RPtMqFvLZ2FrICAi6p/q5JZ4qzG+rAa7mS7nCkx3SAF\n",
       "kyg7dLJdZlwgcF8gtVMTXSqMOKX21gUwRs0qYnxgl+r03UmLC5ziLGntMsNU5CxwjNtGaNVLRxy6\n",
       "pNkuHRDjle+IdKypjjwvR//CRr77vDHXvL4XhnueGCiu1BNClyzZWfRlJZWDw7S3kuppz3FbTLU9\n",
       "Kr5iOrK9iuHKWQ57K5ccf1PwAPsPFxbSDsbc3B1Ux+B/wjBDgx46iK8AAAAASUVORK5CYII=\n",
       "\" style=\"display:inline;vertical-align:middle;\" /></a></span>"
      ],
      "text/plain": [
       "{A or B or C or D or E or F or G or H or I} |- A or B or C or E or F or D or G or H or I"
      ]
     },
     "execution_count": 40,
     "metadata": {},
     "output_type": "execute_result"
    }
   ],
   "source": [
    "Or(A,B,C,D,E,F,G,H,I).commute(3, 5, [Or(A,B,C,D,E,F,G,H,I), *in_bool(A,B,C,D,E,F,G,H,I)])"
   ]
  },
  {
   "cell_type": "code",
   "execution_count": 41,
   "metadata": {},
   "outputs": [
    {
     "data": {
      "text/html": [
       "<span style=\"font-size:20px;\"><a class=\"ProveItLink\" href=\"../__pv_it/demonstrations/c7b1ecf317c1617358a149c70b423428e77361fd0/expr.ipynb\"><img src=\"data:image/png;base64,iVBORw0KGgoAAAANSUhEUgAAAUoAAAAPBAMAAABw5ZtdAAAAMFBMVEX///92dnYiIiIQEBBERERU\n",
       "VFS6urqIiIjc3NxmZmaqqqru7u6YmJgyMjLMzMwAAADiRdoGAAAAAXRSTlMAQObYZgAAA2pJREFU\n",
       "SMeNlk1ME1EQx/+tUNpuW3rWA3jw1AMc9CQJCDZ+xlYFlUQtgZMnmkjisdWrGmqghvoRejIhJtgI\n",
       "ETEx6UWJNxIvEkPKQQ4mGj7kS6HUee/tbne2e2CTnX397/zmvZ03O11AHL/Bj0+V3uzpPps4E80W\n",
       "79v9ot3RNNcaYhu5npZ5pg1VzmW7trmfNtT7whtmUiCxkQkkys95vER5TI1KwoTkcEna44Bvn2sN\n",
       "bcBEm/FL3UCZQv+zsY20wkAH18gPFzl7twjPSLEWbWx2iCefoVQgWy/EQFLG2QM8f5mmdZKPb4dG\n",
       "t4XHnARDIj8jnMUgXbQMj7dG5jNjpyNkxtO16ErGHk9P+AfhjVCcjLsg80arCWwzLXiSjKeVzLLw\n",
       "iKjdEPkeLDIWTTSDluTxtshMMvaruNGPWjSVt4t66RVTcvCNzjtSqKPVTEWYNi5h8ZxBeiRPRvmt\n",
       "khkOM1aUTxhppgV34cVrK+sTdYKfqEERKziIIkOFN0VxnaDzrCqFOELHClbNuy4rXkzup1nq1CvT\n",
       "2CFyGWcsNhCQ4azxmvFIDkx2WFQf3sOOAutwEOl4hxVZAW5KVodUVm7OdeZh1VyWN5Qm+KFGkkuF\n",
       "GespZ9vT4PEGM7jB2aakGc6K5nKja3ZRn7kPw3IDG5KoVzWQSkM7Aavm3q+u8h5wTY1SosgTfYx1\n",
       "7SMI8HhNC1dbOduyVG01VlSVsF0UxdabS8hla834qMAu6FVsaod25S959y00vTnEhPnD2eAqXKqT\n",
       "VLVSQYuDse10flk8VYOibhe1okgprUHN+gyH1Z1NscqkVXNL30kp+fKufLVkAnucpVrVMMO1dWg6\n",
       "YbAtlrfXiprdkYl0EOVW+/EYzTDapdpIU5OdEqpzeefdqLbLqQ7Gyp6HI0zzrJnba7Cy9+lvL0NX\n",
       "wg4icXkzq3W/VP5Euwzpr5auecWCXKqB4dIczHapLTI/1fNCcaa5tqpFrbOifYXKDmiqz0EEHghp\n",
       "R+XmilpGkFI7cAFMo2blN/5glyPVkunPcD+5lwNLTFPlwlg/PfXyUQc0VnAQMV35Dn9sXc21IG19\n",
       "aTPXfd4Iu6B/HIz2PDWkYMbwy3aPcT/tFn2odJaZNlvaNL0MFrPRJ8VXHH1ZuY7Ryhl7vMu2rx48\n",
       "RO3hoHkLB/M7KOuEMvE/nAQ+4j9xmK4AAAAASUVORK5CYII=\n",
       "\" style=\"display:inline;vertical-align:middle;\" /></a> <a class=\"ProveItLink\" href=\"../__pv_it/demonstrations/bc055208bb2b756affe4600210f10997874fe8b00/proof.ipynb\" style=\"text-decoration: none\">&nbsp;&#x22A2;&nbsp;&nbsp;</a><a class=\"ProveItLink\" href=\"../__pv_it/demonstrations/deca2b24fca9645e9437e36ba3dd9d4f7a6aa4bb0/expr.ipynb\"><img src=\"data:image/png;base64,iVBORw0KGgoAAAANSUhEUgAAAUoAAAAPBAMAAABw5ZtdAAAAMFBMVEX///92dnYiIiIQEBBERERU\n",
       "VFS6urqIiIjc3NxmZmaqqqru7u6YmJgyMjLMzMwAAADiRdoGAAAAAXRSTlMAQObYZgAAA01JREFU\n",
       "SMetlj1MU1EUx/8t/f6iszGBxcEwQCJOEiWIUTSxiKA2EdvEiYkOJo6trsbYAYzVELqyyIuKRBKS\n",
       "DhoWEzs4SBxgkE3DR/gyUOo5977XvvPabt7k3ffe7577/vfjf08LcPkDWb5Uk9ODaQdcvDJdetLA\n",
       "Cg4WSe2ODd5zhD2qDk2PVATyJ3YLo5cyzr75SKryRgamKq/00xpXMfW4rupeIHgimb8PmOuz3nQD\n",
       "swkHay8D34qSgUf4uTHOU5KyzNo70QjVHNYMqr0MI2p2sWPA91ew8ADFBA/p6QFHrKAFwyZFB3sk\n",
       "8x1Q9ckRF6cvp4UsJum2mYcDxvUol2ZzPLRhqtyGWiNSjhwIFr3Aaqy+wRFdqLFOwZAlAd+xZC7e\n",
       "l0VHHI0wtC5k0UHv2SIc0LReKaseftA1oYCHRvO+S7BZ1ZnnGaUp+fKtGBJ0BbYli27BhYBktH+5\n",
       "kCFklfMSBhohr4YxX+L7HF3XtBWGETtj2FlgR20xr3mIVDy5FgzY5S/uSdbej6/qwcZ2EFCqNlnV\n",
       "d6cZpPJReYlWmBamX3vm/spAEXbmOqifOtriX2jBEGPo3xYMk6u3Dx1xZHtvDlLWVykUprad0FRJ\n",
       "44XaBH8GXu2BbA7h87Az90l9RI+BO2jB4Gfo3ReM/VZ2xLkq0+cAKcv29e83gTz7ZCGlhh3uxLLu\n",
       "eBmmi2us7Ui9qdZ3CCvNti06YzPf43YGzxbvcI9gbK24zis1Fj3Cgm6sy5J94TlqAnlJSU/3fI1T\n",
       "uoVtlc3YmVvFvlUoWHQVa8y1LxhbkPJlSTC2lhHOyLhOLJn7UJPlvlZ2FJAK9XKrueM528ZMl0il\n",
       "7UxlRejMFSi7UWPmVC2mLB7ulUxZy2UIZmVBm6xOl/EmkPoVa1Ke33r9OF3GzKNlskBdCLip87LK\n",
       "N5tlwVS6XHYwZa0NyTrqP8CWrE6X6SYQeMpIn8DYiB5GlJb24Q0IRskqZP3Abui8jPkMNcclIwv6\n",
       "zjri2Bq+i5J110+eJaFYwmgC8aH6E6HEjs60q6r2ru0VRq9b31g1PT419tJC0bzFkqdDacHGq8mx\n",
       "oZyMW+DvdZftLDxTTeYgJYjdxVT1qoTj1VuOvy54hsbShAWM/8uayQr4D0B6RFUSmlW8AAAAAElF\n",
       "TkSuQmCC\n",
       "\" style=\"display:inline;vertical-align:middle;\" /></a></span>"
      ],
      "text/plain": [
       "{A or B or C or D or E or F or G or H or I} |- A or B or C or G or D or E or F or H or I"
      ]
     },
     "execution_count": 41,
     "metadata": {},
     "output_type": "execute_result"
    }
   ],
   "source": [
    "Or(A,B,C,D,E,F,G,H,I).commute(6, 3, [Or(A,B,C,D,E,F,G,H,I), *in_bool(A,B,C,D,E,F,G,H,I)])"
   ]
  },
  {
   "cell_type": "code",
   "execution_count": 42,
   "metadata": {},
   "outputs": [
    {
     "data": {
      "text/html": [
       "<span style=\"font-size:20px;\"><a class=\"ProveItLink\" href=\"../__pv_it/demonstrations/c7b1ecf317c1617358a149c70b423428e77361fd0/expr.ipynb\"><img src=\"data:image/png;base64,iVBORw0KGgoAAAANSUhEUgAAAUoAAAAPBAMAAABw5ZtdAAAAMFBMVEX///92dnYiIiIQEBBERERU\n",
       "VFS6urqIiIjc3NxmZmaqqqru7u6YmJgyMjLMzMwAAADiRdoGAAAAAXRSTlMAQObYZgAAA2pJREFU\n",
       "SMeNlk1ME1EQx/+tUNpuW3rWA3jw1AMc9CQJCDZ+xlYFlUQtgZMnmkjisdWrGmqghvoRejIhJtgI\n",
       "ETEx6UWJNxIvEkPKQQ4mGj7kS6HUee/tbne2e2CTnX397/zmvZ03O11AHL/Bj0+V3uzpPps4E80W\n",
       "79v9ot3RNNcaYhu5npZ5pg1VzmW7trmfNtT7whtmUiCxkQkkys95vER5TI1KwoTkcEna44Bvn2sN\n",
       "bcBEm/FL3UCZQv+zsY20wkAH18gPFzl7twjPSLEWbWx2iCefoVQgWy/EQFLG2QM8f5mmdZKPb4dG\n",
       "t4XHnARDIj8jnMUgXbQMj7dG5jNjpyNkxtO16ErGHk9P+AfhjVCcjLsg80arCWwzLXiSjKeVzLLw\n",
       "iKjdEPkeLDIWTTSDluTxtshMMvaruNGPWjSVt4t66RVTcvCNzjtSqKPVTEWYNi5h8ZxBeiRPRvmt\n",
       "khkOM1aUTxhppgV34cVrK+sTdYKfqEERKziIIkOFN0VxnaDzrCqFOELHClbNuy4rXkzup1nq1CvT\n",
       "2CFyGWcsNhCQ4azxmvFIDkx2WFQf3sOOAutwEOl4hxVZAW5KVodUVm7OdeZh1VyWN5Qm+KFGkkuF\n",
       "GespZ9vT4PEGM7jB2aakGc6K5nKja3ZRn7kPw3IDG5KoVzWQSkM7Aavm3q+u8h5wTY1SosgTfYx1\n",
       "7SMI8HhNC1dbOduyVG01VlSVsF0UxdabS8hla834qMAu6FVsaod25S959y00vTnEhPnD2eAqXKqT\n",
       "VLVSQYuDse10flk8VYOibhe1okgprUHN+gyH1Z1NscqkVXNL30kp+fKufLVkAnucpVrVMMO1dWg6\n",
       "YbAtlrfXiprdkYl0EOVW+/EYzTDapdpIU5OdEqpzeefdqLbLqQ7Gyp6HI0zzrJnba7Cy9+lvL0NX\n",
       "wg4icXkzq3W/VP5Euwzpr5auecWCXKqB4dIczHapLTI/1fNCcaa5tqpFrbOifYXKDmiqz0EEHghp\n",
       "R+XmilpGkFI7cAFMo2blN/5glyPVkunPcD+5lwNLTFPlwlg/PfXyUQc0VnAQMV35Dn9sXc21IG19\n",
       "aTPXfd4Iu6B/HIz2PDWkYMbwy3aPcT/tFn2odJaZNlvaNL0MFrPRJ8VXHH1ZuY7Ryhl7vMu2rx48\n",
       "RO3hoHkLB/M7KOuEMvE/nAQ+4j9xmK4AAAAASUVORK5CYII=\n",
       "\" style=\"display:inline;vertical-align:middle;\" /></a> <a class=\"ProveItLink\" href=\"../__pv_it/demonstrations/d209755f4663e990c1b481a98f7b669f9ccb4c890/proof.ipynb\" style=\"text-decoration: none\">&nbsp;&#x22A2;&nbsp;&nbsp;</a><a class=\"ProveItLink\" href=\"../__pv_it/demonstrations/0fa365d02671ce47224a38ff5e2e088e7fa5ea870/expr.ipynb\"><img src=\"data:image/png;base64,iVBORw0KGgoAAAANSUhEUgAAAUkAAAAPBAMAAACb0iBeAAAAMFBMVEX////MzMy6uroyMjIiIiKq\n",
       "qqoQEBB2dnbc3NyYmJhmZmZUVFRERESIiIju7u4AAACOKgoaAAAAAXRSTlMAQObYZgAAA3dJREFU\n",
       "SMelVktoE2EQ/vIy720OXrRCcxAPHmxBKBKE5KIHD23PRVBQBEFsLh68aEDEWxvwJCIGxCKJ0Pq4\n",
       "GIuNUkSMkJy8qHTBB9IqaOI7bePMv5vszr89CP6ww+b7v9mZf/ab2QAwXlcfRPJwr6vd+kK9ICAk\n",
       "G2vlh+Mj0JZPQ6KLnfLCE6/rwlRTgp/r5eIlaGGf05UxBfiqm+FMXhYRmi1SPAWmlG1TuO/9n9bO\n",
       "AOUTrUkeEPii0bYQZS7ldU3IEMmTwO6TksZh8Q2bgPg0RmaO0o3zVlSd2LdOZpbv7rC5ptjDtGWU\n",
       "BI/W5Q2NNkTZDJc0jF5VNO12NZaoYrFfkuansL4/2vP8P9mOcoF3cWrzZIKq3MmvnBWFwyD/HFP0\n",
       "8xTCaAoeAZMcyU1bpgNfb2oYZRhKuV0DpzmBnKSFKWzyu/a8cItMTKHb2eyja7faSfBrnGGtBiim\n",
       "v6TALJBHQfCoMMkWJO0ppX7c1FxNFEKm23VugutSkjRWT2IDXhAzfB58ZDNJ1zNLRzWuJR88RNSE\n",
       "1UdriBYhecCe0G9IWgfY+kjDviEiXSNKfUZB0jjsQA5eEOed1gvS6WqWjhhcVn1PTjssfbQrUwWN\n",
       "ByOtJOyi+TpXXh+AxPx/EJeu4XWnifs0DGfK5UZeBzmX8ZQzMJqIpy0dMbio7t8Ad3uiCeg8+BFR\n",
       "andoSdLph3mJhduVE9I1+NXJsk9Tyl9ObwJiSrWBMkYOb62dBpsf6vYdjJGePsLWcHB4GCxX1iQt\n",
       "cbTXAS7XDazatbddt5DYojf25wWNlY+GCS+IcSUDq6A3cQa2BOkhSnCITYQnevow8FnyQAc/ptGo\n",
       "jsl1Dcvhve1guwa/9LrXRVNh29gEVJOSiqTWBeTQH5cfLOlFRoIufZwTPIToOihpPC7jLc3V+bLZ\n",
       "rmpSWh8Eh6bG5U94QepxJzgS26xW4nFp7LWf+/iaow/fvODhYu+NODQel0M1zTXdz9J2jXAyQyOS\n",
       "psZlC16QykEvdtIe0b77Zn9E7Sz1pGcNVyWNXSnBi3BdGgVBG6XjnzK9rpAhjjTpNi9pwf641EBa\n",
       "K/Vq/6gZZePZTmXhVg8LqHSNe91qZakteEajbeJw95CLBqa9mJCuN7pV559Lxm6j29WzobSbhpVs\n",
       "pxlrrDUFuJrt5PU/ONPwrojpxab/jfYfrhL8C4tVQDRFt913AAAAAElFTkSuQmCC\n",
       "\" style=\"display:inline;vertical-align:middle;\" /></a></span>"
      ],
      "text/plain": [
       "{A or B or C or D or E or F or G or H or I} |- C or D or E or A or B or F or G or H or I"
      ]
     },
     "execution_count": 42,
     "metadata": {},
     "output_type": "execute_result"
    }
   ],
   "source": [
    "Or(A,B,C,D,E,F,G,H,I).group_commute(0, 3, length=2, assumptions=[Or(A,B,C,D,E,F,G,H,I), *in_bool(A,B,C,D,E,F,G,H,I)])"
   ]
  },
  {
   "cell_type": "code",
   "execution_count": 43,
   "metadata": {},
   "outputs": [
    {
     "data": {
      "text/html": [
       "<span style=\"font-size:20px;\"><a class=\"ProveItLink\" href=\"../__pv_it/demonstrations/bca6a62397124fb717dfddfa797954f944dcbc520/expr.ipynb\"><img src=\"data:image/png;base64,iVBORw0KGgoAAAANSUhEUgAAAIcAAAAPBAMAAAA8KsGMAAAAMFBMVEX///92dnYiIiIQEBBERERU\n",
       "VFS6urqIiIjc3NxmZmaqqqru7u6YmJgyMjLMzMwAAADiRdoGAAAAAXRSTlMAQObYZgAAAfpJREFU\n",
       "OMuNUj1IW1EU/vJM8p55Jjo7OdtFpFsdQm3ESaVEQUpNcHMyg9AxbddSDLQRf4ZkdWkfVRQEIYt0\n",
       "KVToUhGJiG6WiDaN2Nb0/LyY+5x64Z2c+50v5+9+AJ8fCJ6uTH0lPXIP3E4VK6+C0F4zlU699C9V\n",
       "Nglxj8V2JIHScQCzh4D1odZNA/hLBW/8wlWPbISjXTlBahVgvmBi7mPidF6TN8OEz0JLNMi80yQ7\n",
       "JW4pMUHG8gTJE/A1Z2LxR2SiA2TOmPBAaPYtmfmK+JV8ln++0zenaYep9KBnYqUy1ylwOioQLQgt\n",
       "fEFmsYfdqPdRkq3TN6pJ6sDJMxNzLvnmcscxShDWbXYnuRPuFluoySYsKpXUWetfFvphYqFG+036\n",
       "gFP15H956SSLRenOziGS1VlpgRsTJmbdtpO8AKbUy/PeMxxPTK9kpAG3D7saDNMC7RsT6/gtN4l+\n",
       "gruvvHE2V7ISoii4il4NdlMXdsPELF4hPgjUWQ6VlfeTBfCHPQKsAcHe8rgtmUR+mZgoBDI9nH0L\n",
       "bZls8BQOJYlf6BTnOdzJpJY0MYf5IRURxlRqIhP3iL3XzLzWzE991jca8qEXwEgFsTV/s2cqNak9\n",
       "y2+y2TxEbPxSxXOgwefN6eITf+wW5r6fXGo9T1zZkWq9mF7G/fMG+B/M8YL3fyOBjcx4XdytAAAA\n",
       "AElFTkSuQmCC\n",
       "\" style=\"display:inline;vertical-align:middle;\" /></a> <a class=\"ProveItLink\" href=\"../__pv_it/demonstrations/2d37b4a3b04b99ca74b325eebb6959d281e456910/proof.ipynb\" style=\"text-decoration: none\">&nbsp;&#x22A2;&nbsp;&nbsp;</a><a class=\"ProveItLink\" href=\"../__pv_it/demonstrations/58baa7f36bf134ee35733f8623073affeb1d28500/expr.ipynb\"><img src=\"data:image/png;base64,iVBORw0KGgoAAAANSUhEUgAAAIYAAAAPBAMAAADT6KqyAAAAMFBMVEX////MzMy6uroyMjIiIiKq\n",
       "qqoQEBB2dnbc3NyYmJhmZmZUVFRERESIiIju7u4AAACOKgoaAAAAAXRSTlMAQObYZgAAAbVJREFU\n",
       "KM+NkzEsA2EUx/9XPVpc24SFpTcZLDo1YtAuFgNmiw5GCYuVJsx6q6ldGBhIGLgKF4MITdrJ1KQX\n",
       "QkQMCFEpqffuO02/b3LJ9+693728733/7x2ASNU+Di1BefqUOHzW2Dk5V9l3sXTE3o0FfdsCNI/H\n",
       "/O8pNu2o0wH2YjKLJoD8DPA8RcFeFuhhHq74W6RcyChO24wUFEav7gyQ5OQh3nSfTNAVNe65qoRq\n",
       "BPIVhVG9wBe6PzgYZDNKa9g/ilUzFXRBys27MivTCn0il+bgkc0srUvxMeDOWQpqAP2nCvvm1AZW\n",
       "Ky2Zg9SoI9xb76jtSGtsVieUNO2HjPGJ6VirhlFBjylcE7mCjIw68LCvsFfW/Q2LnjqeiaRxJ0po\n",
       "9s6ZI6Nekt/4UNgL328G0xzoopktLPty0DgkZBSlHowfhfE+ecubDHQJtoa0cGhsghkZ8XhQ2zIj\n",
       "zSILQI61W/F7GxACh6hGx4uEvPGIOwqj9u+oX/2LbssfLO1QOOucWJcQknTCBVdm9D8EJtl5urbN\n",
       "v5sZ8+xzcxx6+b3QhnDQtHdLM1Ias+JVVv1ZN4B/IJX9AqQ3jfyUfMEnAAAAAElFTkSuQmCC\n",
       "\" style=\"display:inline;vertical-align:middle;\" /></a></span>"
      ],
      "text/plain": [
       "{A or B or C or D} |- C or A or B or D"
      ]
     },
     "execution_count": 43,
     "metadata": {},
     "output_type": "execute_result"
    }
   ],
   "source": [
    "Or(A,B,C,D).group_commute(0, 1, length=2, assumptions=[Or(A,B,C,D)])"
   ]
  },
  {
   "cell_type": "code",
   "execution_count": 44,
   "metadata": {},
   "outputs": [
    {
     "data": {
      "text/html": [
       "<span style=\"font-size:20px;\"><a class=\"ProveItLink\" href=\"../../__pv_it/theorems/ddc941563dffabdeb005429c2f934b2b6ccbeab10/expr.ipynb\"><img src=\"data:image/png;base64,iVBORw0KGgoAAAANSUhEUgAAADYAAAAPBAMAAABdHiGLAAAAMFBMVEX///92dnYiIiIQEBBERERU\n",
       "VFS6urqIiIjc3NxmZmaqqqru7u6YmJgyMjLMzMwAAADiRdoGAAAAAXRSTlMAQObYZgAAANdJREFU\n",
       "GNNjYACBtwwogF3Z5a9RGJRzH1WOgZevYMvOA2Amz/0NqHIsbAfYHziAmbvmN0DEeJyUdKFyXAsg\n",
       "cgfqE8A0n/sGuD7GbLAc24b1ELP3bkCYmfT0AYi1jeF9AVgoAmGf0X8zMCuBoX8CmOGA5BbGMwIg\n",
       "WyJnxoNF+WzvAgFUjsEhB2QdAwPzBZAIB7I+BgdWIGMBAwOTAVjIAFkugBeoGijH+wEsNB1F30EG\n",
       "hiYQ+wdYiGkBPMwEGCUDGLb8v83A5f8J7FDukGzMsIYBNhFImEEAAEUpOYcaSaDVAAAAAElFTkSu\n",
       "QmCC\n",
       "\" style=\"display:inline;vertical-align:middle;\" /></a>, <a class=\"ProveItLink\" href=\"../__pv_it/theorems/67501eb487d67b93f0ec3f6965561f782e470d670/expr.ipynb\"><img src=\"data:image/png;base64,iVBORw0KGgoAAAANSUhEUgAAADcAAAAPBAMAAACy3Eq1AAAAMFBMVEX///92dnYyMjKqqqoiIiLu\n",
       "7u7c3NyIiIjMzMwQEBC6urpERERmZmZUVFSYmJgAAADEjrHzAAAAAXRSTlMAQObYZgAAAOZJREFU\n",
       "GNNjYGB4+//O2d0LGJBByez9mr4QodkMDDw/UCQZFNpZt54DMTj+MTBw/UGV3LCOoYIbxGD/xsDA\n",
       "9x0sxrfFxQkmaQyW5J7AwBDpCjZjewBCp1Q0iMF/gYHDFywaFIAwlsvjBojRf+/5FgOw0DWEnSv9\n",
       "f4JdW5/AwDoXIoTsILmHIMZOkAKQVo5JSkAAk+TmegBk/AVJFgAJNhSd3AwXIN5kuA+2YAKyJC+D\n",
       "AsSbHL/BQsdRdPIJMDAwAdWv3AoWYjGAB18jg+BZBgZe/b9nbm+GCLHeXooR8AjAJQ0NPggAAH2B\n",
       "SAzP/7V+AAAAAElFTkSuQmCC\n",
       "\" style=\"display:inline;vertical-align:middle;\" /></a>, <a class=\"ProveItLink\" href=\"../__pv_it/demonstrations/6d4a76c8afef1311edaf37cd3d7c58f6a0f3bae70/expr.ipynb\"><img src=\"data:image/png;base64,iVBORw0KGgoAAAANSUhEUgAAADYAAAAPBAMAAABdHiGLAAAAMFBMVEX////MzMy6uroyMjIiIiKq\n",
       "qqoQEBB2dnbc3NyYmJhmZmZUVFRERESIiIju7u4AAACOKgoaAAAAAXRSTlMAQObYZgAAANxJREFU\n",
       "GNNjYGDgu7NrJ0cBAxLgdTvzOWUTiHVtAgPrsgnIcgzMjBfevAIKvfEDctY3oMjxME3gFTjAwGD2\n",
       "AMhRg4jNcXExgMqxBhxg4PoK4kiBpWTuIfSx6x1g6HcAcV6ACD47JDNVpAUY6i/AbeFuQMil/E9i\n",
       "YPAXQLgA2S3sMwsY8kFOYQATYsZAAHMLwwFNBn8QmxWsuQdZH8MBbojP2MEibChyG5gZ+kFuqQOL\n",
       "cF1A0TedgfUnA0PUA4iQKyLMCtirNjAwvDq9SwEq9PrQA7SwRgLqRyBhBgEActk8e8zZ+EcAAAAA\n",
       "SUVORK5CYII=\n",
       "\" style=\"display:inline;vertical-align:middle;\" /></a>, <a class=\"ProveItLink\" href=\"../__pv_it/demonstrations/fd6d96a8fa1d80eb29daf8272b5460a0b6c3669c0/expr.ipynb\"><img src=\"data:image/png;base64,iVBORw0KGgoAAAANSUhEUgAAADgAAAAPBAMAAABD1xE4AAAAMFBMVEX///8iIiLu7u52dna6uroQ\n",
       "EBBmZmaIiIjMzMyqqqoyMjLc3NxERERUVFSYmJgAAAAdjRNVAAAAAXRSTlMAQObYZgAAAONJREFU\n",
       "GNNjYGB4+//snbMbGJABu+iZX4FXwMxfDAx8P1EkGbg4CnTUHgAZHN+BRCqqJA/LA/aGAyAzfgAJ\n",
       "/wdgQb6DglJQSc4JIEmeD0BivwFIjOO4AlwnsxNIkh9E+F8AiWkpIIx17G0AMvoLgEQ9WOdthJ2B\n",
       "/0NAjHqQivsOIOYBJAcxvwOpPw/ifQVbGbUKCKCSDAf8gIw/IFf+AwlxI+tkOMAL9aYqRDgAWfIC\n",
       "F8SbTKsgYukoOh8DQwroTccEiBjjBHjwGTCbXWDgXf839042VIzpjhN6wCMBFhtI8EEAALZERsGv\n",
       "6x6JAAAAAElFTkSuQmCC\n",
       "\" style=\"display:inline;vertical-align:middle;\" /></a> <a class=\"ProveItLink\" href=\"../__pv_it/demonstrations/422303de9c2ec54358c9f8abcff1fcbb12d544f60/proof.ipynb\" style=\"text-decoration: none\">&nbsp;&#x22A2;&nbsp;&nbsp;</a><a class=\"ProveItLink\" href=\"../__pv_it/demonstrations/ab8f1bfe78b17217dd6d9634fc5a7e6d457486b00/expr.ipynb\"><img src=\"data:image/png;base64,iVBORw0KGgoAAAANSUhEUgAAAUcAAAAUBAMAAADsCuK1AAAAMFBMVEX///9UVFTMzMx2dna6uroQ\n",
       "EBCqqqqIiIgiIiJmZmYyMjJERETu7u6YmJjc3NwAAAC+aOQFAAAAAXRSTlMAQObYZgAAA9BJREFU\n",
       "SMe1V01oE0EYffkxSZtNUsWDtWrjzR+knpSCYC5CBcEKHsQezNEiaC4i0kPiwUKh0BRR6MUW0YMi\n",
       "thUVpbbNwYgakHgqFLQ9iYgQo7Vqa1u/75vddGfbxULjQCabt2/fvpl5++0EiBZRhRaYXolVR/k8\n",
       "dwV1vMdxLtJY7mt45ACNjvrt0f0a9G5puGGYHO5YKV+Q0/W9I4l/qlDzDjgNzG8cIVUPD/+BwgaF\n",
       "KIdx6TcMAf1xHbtYROB6UcfmSG8WeLPSpCi3ATXfLLLXVQWo/QqdFiPXU0kY9BXJKt+DOeo9zImk\n",
       "BGkimeNZDSt0U9c/rWHen9RdB3wpp0dR9i4A/t90sImhCTcVapN/oNHQRGdqWoGDQEiF6SVfBW8d\n",
       "daGcIGkCplIadof7IzovyNN0vAij1WlSlIOL5IPHsZOhbjcVykD7IjQa0jQGP40xD3xSnGI6Ya3Q\n",
       "UYU8pgtP5exYzSz3u3VemFepRAm77TQpymHynueb1pJlf9ZNhUYSnIGdBozzs/edoAQuC+DPXZBH\n",
       "sZ0+Y+qqMrBrm4aVMty/1XmxIZ5JmpNmp0lRjtXBe4WHGqA7h6fdVIBjgQXYacA8+yIXvixGBXgh\n",
       "CaDJp0UYUg9b+X1HJzTs8HLslnlyXZpmcpJ/+e5Jk6kQ5abtE0+TQiRve11VYCQk3Ms0FfYgzWRk\n",
       "AMpIAiURDqbgUQWDw5Sv07CeeEV+mcfJQSMdn3XOZKeZbOOE/LwEbHZVgR/R3xpNhd1DGQhkcFJc\n",
       "1/c1ypCMjFVLOEzBWQ07IxnP6TxODn7wnDlNnjSTjbRM5SspJi4q2NnXOw87TYU9Ri68X5WUn8qi\n",
       "OnUDB9RVFCYEf2pYj4QmrvNYOrLgarLMJmWBa5K+pKsKLSVOw05TYZ8qiklZFIJDqoR8RgaVMumZ\n",
       "0TCpUj5omCQnz3ottkzWWcvNZVLCQA/qQMhVBQH6XIWdJmE32ngGMxLvaNIq+AjvM3PNZbJpSMNK\n",
       "/HUIGsbJMe5JMXbO5KiZbK9aRzyccFXBR+udV6FJ2N/w8tKD02xWtPCimpktZnG9Q0Noy2kYF4l2\n",
       "87SF8dha5Jm75jTJyrW0Pkeem7HrdlWJ8oSOT9tp7NnfJQHYz6tUWLqPwPgvVULvKspW3hgkzduZ\n",
       "GF4P11f2CgrzDJZ7G27K4S2nyRY53dfwxHo5Z91UjPG5HM4tddlpZGDjM7FdG7dei5X2ZZXd0low\n",
       "I7Pqa9G+c8utSXkF7VVlg7Hu5rLBqEI7aHsvrbOtslWrjrKUzUJ1TI6tvuldf5M3eXU2+ZH/9vfh\n",
       "A/AX+xxFu1hfew4AAAAASUVORK5CYII=\n",
       "\" style=\"display:inline;vertical-align:middle;\" /></a></span>"
      ],
      "text/plain": [
       "{A in BOOLEAN, B in BOOLEAN, C in BOOLEAN, D in BOOLEAN} |- (A or B or C or D) = (B or C or A or D)"
      ]
     },
     "execution_count": 44,
     "metadata": {},
     "output_type": "execute_result"
    }
   ],
   "source": [
    "Or(A,B,C,D).group_commutation(1, 0, length=2, assumptions=in_bool(A,B,C,D))"
   ]
  },
  {
   "cell_type": "code",
   "execution_count": 45,
   "metadata": {},
   "outputs": [
    {
     "data": {
      "text/html": [
       "<span style=\"font-size:20px;\"><a class=\"ProveItLink\" href=\"../../__pv_it/theorems/ddc941563dffabdeb005429c2f934b2b6ccbeab10/expr.ipynb\"><img src=\"data:image/png;base64,iVBORw0KGgoAAAANSUhEUgAAADYAAAAPBAMAAABdHiGLAAAAMFBMVEX///92dnYiIiIQEBBERERU\n",
       "VFS6urqIiIjc3NxmZmaqqqru7u6YmJgyMjLMzMwAAADiRdoGAAAAAXRSTlMAQObYZgAAANdJREFU\n",
       "GNNjYACBtwwogF3Z5a9RGJRzH1WOgZevYMvOA2Amz/0NqHIsbAfYHziAmbvmN0DEeJyUdKFyXAsg\n",
       "cgfqE8A0n/sGuD7GbLAc24b1ELP3bkCYmfT0AYi1jeF9AVgoAmGf0X8zMCuBoX8CmOGA5BbGMwIg\n",
       "WyJnxoNF+WzvAgFUjsEhB2QdAwPzBZAIB7I+BgdWIGMBAwOTAVjIAFkugBeoGijH+wEsNB1F30EG\n",
       "hiYQ+wdYiGkBPMwEGCUDGLb8v83A5f8J7FDukGzMsIYBNhFImEEAAEUpOYcaSaDVAAAAAElFTkSu\n",
       "QmCC\n",
       "\" style=\"display:inline;vertical-align:middle;\" /></a>, <a class=\"ProveItLink\" href=\"../__pv_it/theorems/67501eb487d67b93f0ec3f6965561f782e470d670/expr.ipynb\"><img src=\"data:image/png;base64,iVBORw0KGgoAAAANSUhEUgAAADcAAAAPBAMAAACy3Eq1AAAAMFBMVEX///92dnYyMjKqqqoiIiLu\n",
       "7u7c3NyIiIjMzMwQEBC6urpERERmZmZUVFSYmJgAAADEjrHzAAAAAXRSTlMAQObYZgAAAOZJREFU\n",
       "GNNjYGB4+//O2d0LGJBByez9mr4QodkMDDw/UCQZFNpZt54DMTj+MTBw/UGV3LCOoYIbxGD/xsDA\n",
       "9x0sxrfFxQkmaQyW5J7AwBDpCjZjewBCp1Q0iMF/gYHDFywaFIAwlsvjBojRf+/5FgOw0DWEnSv9\n",
       "f4JdW5/AwDoXIoTsILmHIMZOkAKQVo5JSkAAk+TmegBk/AVJFgAJNhSd3AwXIN5kuA+2YAKyJC+D\n",
       "AsSbHL/BQsdRdPIJMDAwAdWv3AoWYjGAB18jg+BZBgZe/b9nbm+GCLHeXooR8AjAJQ0NPggAAH2B\n",
       "SAzP/7V+AAAAAElFTkSuQmCC\n",
       "\" style=\"display:inline;vertical-align:middle;\" /></a>, <a class=\"ProveItLink\" href=\"../__pv_it/demonstrations/6d4a76c8afef1311edaf37cd3d7c58f6a0f3bae70/expr.ipynb\"><img src=\"data:image/png;base64,iVBORw0KGgoAAAANSUhEUgAAADYAAAAPBAMAAABdHiGLAAAAMFBMVEX////MzMy6uroyMjIiIiKq\n",
       "qqoQEBB2dnbc3NyYmJhmZmZUVFRERESIiIju7u4AAACOKgoaAAAAAXRSTlMAQObYZgAAANxJREFU\n",
       "GNNjYGDgu7NrJ0cBAxLgdTvzOWUTiHVtAgPrsgnIcgzMjBfevAIKvfEDctY3oMjxME3gFTjAwGD2\n",
       "AMhRg4jNcXExgMqxBhxg4PoK4kiBpWTuIfSx6x1g6HcAcV6ACD47JDNVpAUY6i/AbeFuQMil/E9i\n",
       "YPAXQLgA2S3sMwsY8kFOYQATYsZAAHMLwwFNBn8QmxWsuQdZH8MBbojP2MEibChyG5gZ+kFuqQOL\n",
       "cF1A0TedgfUnA0PUA4iQKyLMCtirNjAwvDq9SwEq9PrQA7SwRgLqRyBhBgEActk8e8zZ+EcAAAAA\n",
       "SUVORK5CYII=\n",
       "\" style=\"display:inline;vertical-align:middle;\" /></a>, <a class=\"ProveItLink\" href=\"../__pv_it/demonstrations/fd6d96a8fa1d80eb29daf8272b5460a0b6c3669c0/expr.ipynb\"><img src=\"data:image/png;base64,iVBORw0KGgoAAAANSUhEUgAAADgAAAAPBAMAAABD1xE4AAAAMFBMVEX///8iIiLu7u52dna6uroQ\n",
       "EBBmZmaIiIjMzMyqqqoyMjLc3NxERERUVFSYmJgAAAAdjRNVAAAAAXRSTlMAQObYZgAAAONJREFU\n",
       "GNNjYGB4+//snbMbGJABu+iZX4FXwMxfDAx8P1EkGbg4CnTUHgAZHN+BRCqqJA/LA/aGAyAzfgAJ\n",
       "/wdgQb6DglJQSc4JIEmeD0BivwFIjOO4AlwnsxNIkh9E+F8AiWkpIIx17G0AMvoLgEQ9WOdthJ2B\n",
       "/0NAjHqQivsOIOYBJAcxvwOpPw/ifQVbGbUKCKCSDAf8gIw/IFf+AwlxI+tkOMAL9aYqRDgAWfIC\n",
       "F8SbTKsgYukoOh8DQwroTccEiBjjBHjwGTCbXWDgXf839042VIzpjhN6wCMBFhtI8EEAALZERsGv\n",
       "6x6JAAAAAElFTkSuQmCC\n",
       "\" style=\"display:inline;vertical-align:middle;\" /></a> <a class=\"ProveItLink\" href=\"../__pv_it/demonstrations/5877571328233dd0d2efa944818bf2c12c29c29c0/proof.ipynb\" style=\"text-decoration: none\">&nbsp;&#x22A2;&nbsp;&nbsp;</a><a class=\"ProveItLink\" href=\"../__pv_it/demonstrations/09a940f77630b321a62c666f8f65288dda86aed10/expr.ipynb\"><img src=\"data:image/png;base64,iVBORw0KGgoAAAANSUhEUgAAAgUAAAAUBAMAAADvp1MpAAAAMFBMVEX///9UVFTMzMx2dna6uroQ\n",
       "EBCqqqqIiIgiIiJmZmYyMjJERETu7u6YmJjc3NwAAAC+aOQFAAAAAXRSTlMAQObYZgAABGtJREFU\n",
       "WMPFWE1oVFcUPvOTmcnMm0kiWTS2qclOCZKsLJVCZyMoCEZwUZpKB3dB0NmIiIukiwpCiBPQgihk\n",
       "XLjQhSZiSkSbzCbUGijjKkTQDBSKFCVGQ6LGv3Pvue++e2bm+iZmqBfOy8z3zvne986cc38CkCpC\n",
       "zeMp1GMcUbYB9joLmaXvwTy/n9yydP7Lmxxzxqq6wv33bSO302Xgn+MjxX/KKNdabn8NECiRQU3s\n",
       "ViHOybb2VE85Sy3hFUKuER5/Rn9TrmMDPme0g2HxkuEqbwXpRh9A43OORQ8C9B/kWBPqW8iAg3+c\n",
       "fEUOGHsNQo4VIXKu6HJ3AFQXp8PtQpI5in3wRnGo79CN9PtyDJs3XTeJyxzl/i1A+BXDnMkC5uUd\n",
       "9+vOItYL8A2Q8TG/PiGzQ3gZFb+keLlkFizidLhdSIyy7/S/I46uIUU2gDcWsgwbNl07xYVuRBFI\n",
       "rjIs/hNewr3cbwDVhjFfM0DGx/D6hFzGJMMu8Qs04yVWAIs4HW4X8li1SHSZPrQeV4+eQMIfCiaW\n",
       "GjRdRT2G6XdJ4LvODDFsNCPU5bjftCB5gVCajA3O7iukcUV82gaqm/cAWMTpcLuQExS7N/KW8piP\n",
       "KbYlgK1fMSyaM10j+C1BRdTUDMFfCiaWeikDS9xvTdQG8oZyZGxwdl8hizJlf4tLP9oUgEWcDrcL\n",
       "+YPY08FV+SGUCWWox5cenjwFDEsUmSuK6FId2z43mWFYaNV7Oe0n46KY/mSeDGDnVTGuVGH3E/J9\n",
       "Vj8AExMcA6guzgi3CqH7YUi9UnypvO7xmWaGxTLMFeuyVXess59hsedeDrRfVIABrNXIIBkbZex+\n",
       "Qs50eBWUhYDqrEpxRrhVyAGJdp4fWQM1b27SPR5dYVhDmrne1QvchMhDxsQa5OzscL+EWLaakDf4\n",
       "jIyNMnY/IT/LGUJenEG4p0gqxRnhViGUAyT9EdS82en2OERXGUYqtWujW62i5WAga2Ix+YaHuF+T\n",
       "KNiF4kdzULOQM7LFqRh+gx2KpFKcEW4VInshgvarO2/QXkUsq4Flhslq1a5Yl2rWEtsD2JI2Mbkz\n",
       "gB7uJ1Zlp09U7CCZOx9cggp2XyFiZwAhIv4PVGNVEeeF24XIOfFftOvumhLJuctq9xjD5KylXQFu\n",
       "zIFuueAaw1Ii86EC9xOr8j1Rjd6caAzO7itkUdTddyp0u5ogq4jzwu1CvnWX5mmR2C69j7iMGeqT\n",
       "L6ExsZJ4rliXascSx87adQcYdhQ3sheBY6gufFpWSQ8ZG5zdV4hYA/tVkoNfFLwtRpk4L9wuZDeW\n",
       "xfTrAhx+L9BWNX/CZnEMou7RGFaN4ap3roHreCr5HfgO17nQchY4hpQtt6TAeAcZG5zdTwjAX+Nt\n",
       "ept1hZ5ZRZwRbhcSYwe4tHEQqsSGy3Z2hcrjaE3YXWXV9sqfIgSebExIMlf7eXse6jM+emb6HEKm\n",
       "ag9JlOryZMvZeR3s9RYyu46Ysbo8WrxBorQR9noL+f//l/ZI2Wf/X5oS8gHAZwFzO6HyjwAAAABJ\n",
       "RU5ErkJggg==\n",
       "\" style=\"display:inline;vertical-align:middle;\" /></a></span>"
      ],
      "text/plain": [
       "{A in BOOLEAN, B in BOOLEAN, C in BOOLEAN, D in BOOLEAN} |- (A and B and (A or B or C or D)) = (A and B and (C or A or B or D))"
      ]
     },
     "execution_count": 45,
     "metadata": {},
     "output_type": "execute_result"
    }
   ],
   "source": [
    "And(A, B, Or(A,B,C,D)).inner_expr().operands[2].group_commutation(0, 1, length=2, assumptions=in_bool(A,B,C,D))"
   ]
  },
  {
   "cell_type": "code",
   "execution_count": 46,
   "metadata": {},
   "outputs": [
    {
     "data": {
      "text/html": [
       "<span style=\"font-size:20px;\"><a class=\"ProveItLink\" href=\"../__pv_it/demonstrations/74b145cdc78b0d7d5a8a7d800e9b7f8b86f6f9f90/expr.ipynb\"><img src=\"data:image/png;base64,iVBORw0KGgoAAAANSUhEUgAAAOQAAAAUBAMAAABv64ynAAAAMFBMVEX///92dnYiIiIQEBBERERU\n",
       "VFS6urqIiIjc3NxmZmaqqqru7u6YmJgyMjLMzMwAAADiRdoGAAAAAXRSTlMAQObYZgAAAtFJREFU\n",
       "SMetlj9oE1Ecx7+N+dPm0qtrdTCLix1apLoaqpGiQoN0MFhJaAdx6oFdnBJcRVIpBeuS4tbJgwZR\n",
       "IZBFXCwKBamIJrgJSoq2tpZq/f3ee3e5X+2QYi7k5d3nvvf+/P69AO1e3TV04IoXTefbvgcv97Lz\n",
       "F/KSVQ6WJnKbC+MX90FrJjvRfXTfkOnxNM13zdzXza+3BAwDPX8kWwtIbdVtqPZICig3JLtdQ3yu\n",
       "JtlvWt4OUDUrrbu6894Mb+8C0V+CJWYD0giPknAUadLQ07OCVQaoKRcFs7eomQO69Fsvynor9oiZ\n",
       "OrZNyi3BQsWA1M4w0Q8KBN44gq1yOyV1MTbadA3WkHqrVtB+i9zUS0CY+PKAYHcRlLKVb2lynlx3\n",
       "2g2ynh1uv0hdeJ2aEvn3Hd9F3Sc6GqtI6mH6MrBPuoLdQVC6RN9Rrd0EPl8XrKTeeCZ1fSneJe26\n",
       "n++eoql3cow+2j8Tr0YWIdgVBKUhMlpKG37z9cwpCHbC8eO0pVPvFWiXK3yXR0nHRhL34fnHOgPB\n",
       "9LCeNOYgkvfdvpwRbLDhT9nSFRjmqP+Y15ldyKmVUGhFGp5/UFgU7CyCUivpRTu7PbYj2DnlElfq\n",
       "xrj5wdtl/1BuvYUOLRViyj8oOIKpKX0pHnk+ILcjtiXYoCozDanb4PXvmilpN6Ehz9drXloqIwSY\n",
       "MqwvJWubSOO0jPwUTOVRFwRTabnMFpqk2knj9K57Eb3k+cfegGAcPi0pwl8d3+1opgQr8c9xCMZp\n",
       "aX3k3opOuPA2TGipvO2lnUxdhmD9CEjpwVVTNVbJ3MOuYHEy0pJ57DFe6aSKvAeo7H1AfOw7V6y8\n",
       "DjFE6lSpL+lC4DG2R0vaqoM3+AAw+eTXy+fprH8maEZDzo8/VN1PgVofDdTgf1moKA+LewecTO0w\n",
       "K9n2QWfK+n9fXU772tHOTFk9hLbSmSkPs/LO/BFJFPEX+Zvth7awOxcAAAAASUVORK5CYII=\n",
       "\" style=\"display:inline;vertical-align:middle;\" /></a> <a class=\"ProveItLink\" href=\"../__pv_it/demonstrations/d480cd2b5fff889e81dc2d60f93f27b324016c0c0/proof.ipynb\" style=\"text-decoration: none\">&nbsp;&#x22A2;&nbsp;&nbsp;</a><a class=\"ProveItLink\" href=\"../__pv_it/demonstrations/ec7ab7474087cae521d4124ed3c8112ac99a53b30/expr.ipynb\"><img src=\"data:image/png;base64,iVBORw0KGgoAAAANSUhEUgAAAOQAAAAUBAMAAABv64ynAAAAMFBMVEX///92dnYiIiIQEBBERERU\n",
       "VFS6urqIiIjc3NxmZmaqqqru7u6YmJgyMjLMzMwAAADiRdoGAAAAAXRSTlMAQObYZgAAAtRJREFU\n",
       "SMetVj1ok0EYfhLz0+T7ErvqlMWlXTKoiw6lGigqtkgUC2JDHcTJbOKU6CrSiEasDg1uWTTYoCAE\n",
       "spROhU5SEU0HuykttSX+1Mb3vZ98d18GU8iF73L35J737567L0C/baiJAbR4UQ2++35Y6kyXz+Zs\n",
       "rM7du0y5ea/HTj/0pU4mmyF/V9W8pb51CDgOxPZtbI2e6GmgSg/WGUnCpMvZukU3sb+A+xtoSIrb\n",
       "qsnBR2UjuQdEflmYWwKccVoX+0mz6wwtw6SH2bKbt+gm1qbuMRAQM7xfkKkkx5XrKJl12xYWpCWJ\n",
       "UzSIpKnbYGhUuZT05BSvqll0E+OsbzfhpAWnWZCFD9+UISBE+OKohd2nZ6HCZihdJMhJpKRcKjpX\n",
       "/paPbmBb1M0NAx94Fqm9lmpsICWNHJ5C8ljNwu6SZrd54HBKcXIXUrus6VV6Jnx0AxvjLCnrIzx7\n",
       "i02ZyVH6iLZ5bXm8Agu7QNvQ9gRIcXxVQ00PUgXGfHQD4zUFynKFZznMlZSdh9JKoQjnBCxshPj7\n",
       "nss7wBU11PRoHuGcj25grKQZGr/kzZmenxGRkLTCUtBneE3Fwk4Ch/6IwooVb+CsKnVrupPSJ8Cj\n",
       "e9gkdz84Xd4LMiboJC0hMWCXOXkLI5dBVgBeiRWxSkBVvkvHc70vHt3Ddjj+PeWSqMG03us1fa5E\n",
       "EQxsRJ1IDMvrbzWo6tql0w6k4KN7GOtgkasxS2TiJLa0oqv6XCV3YGEknyGmBdTRvaguAo+O0Lc8\n",
       "fHQPIx04n3m0Ig9ciOMX0hLnNkFR3zgPC2Nt02GIv1DJbaiLoEunxZdkOB7dwCiqWaGyR6h3PiE+\n",
       "uU0zIS2SGMKt3fnsOXkRaIzrAefJ5adasgkpco/evRsNuomVs8/E8Itx10eMO7gXCxZ977Ja75vp\n",
       "Af6POam+X3RuCQNp6lrvq00MxmXjAGvrg3F5kMgH80fELeIft4fq884QeyIAAAAASUVORK5CYII=\n",
       "\" style=\"display:inline;vertical-align:middle;\" /></a></span>"
      ],
      "text/plain": [
       "{A and B and (A or B or C or D)} |- A and B and (C or A or B or D)"
      ]
     },
     "execution_count": 46,
     "metadata": {},
     "output_type": "execute_result"
    }
   ],
   "source": [
    "And(A, B, Or(A,B,C,D)).inner_expr().operands[2].group_commute(0, 1, length=2, assumptions=[And(A, B, Or(A,B,C,D))])"
   ]
  },
  {
   "cell_type": "code",
   "execution_count": 47,
   "metadata": {},
   "outputs": [
    {
     "data": {
      "text/html": [
       "<span style=\"font-size:20px;\"><a class=\"ProveItLink\" href=\"../../__pv_it/theorems/ddc941563dffabdeb005429c2f934b2b6ccbeab10/expr.ipynb\"><img src=\"data:image/png;base64,iVBORw0KGgoAAAANSUhEUgAAADYAAAAPBAMAAABdHiGLAAAAMFBMVEX///92dnYiIiIQEBBERERU\n",
       "VFS6urqIiIjc3NxmZmaqqqru7u6YmJgyMjLMzMwAAADiRdoGAAAAAXRSTlMAQObYZgAAANdJREFU\n",
       "GNNjYACBtwwogF3Z5a9RGJRzH1WOgZevYMvOA2Amz/0NqHIsbAfYHziAmbvmN0DEeJyUdKFyXAsg\n",
       "cgfqE8A0n/sGuD7GbLAc24b1ELP3bkCYmfT0AYi1jeF9AVgoAmGf0X8zMCuBoX8CmOGA5BbGMwIg\n",
       "WyJnxoNF+WzvAgFUjsEhB2QdAwPzBZAIB7I+BgdWIGMBAwOTAVjIAFkugBeoGijH+wEsNB1F30EG\n",
       "hiYQ+wdYiGkBPMwEGCUDGLb8v83A5f8J7FDukGzMsIYBNhFImEEAAEUpOYcaSaDVAAAAAElFTkSu\n",
       "QmCC\n",
       "\" style=\"display:inline;vertical-align:middle;\" /></a>, <a class=\"ProveItLink\" href=\"../__pv_it/theorems/67501eb487d67b93f0ec3f6965561f782e470d670/expr.ipynb\"><img src=\"data:image/png;base64,iVBORw0KGgoAAAANSUhEUgAAADcAAAAPBAMAAACy3Eq1AAAAMFBMVEX///92dnYyMjKqqqoiIiLu\n",
       "7u7c3NyIiIjMzMwQEBC6urpERERmZmZUVFSYmJgAAADEjrHzAAAAAXRSTlMAQObYZgAAAOZJREFU\n",
       "GNNjYGB4+//O2d0LGJBByez9mr4QodkMDDw/UCQZFNpZt54DMTj+MTBw/UGV3LCOoYIbxGD/xsDA\n",
       "9x0sxrfFxQkmaQyW5J7AwBDpCjZjewBCp1Q0iMF/gYHDFywaFIAwlsvjBojRf+/5FgOw0DWEnSv9\n",
       "f4JdW5/AwDoXIoTsILmHIMZOkAKQVo5JSkAAk+TmegBk/AVJFgAJNhSd3AwXIN5kuA+2YAKyJC+D\n",
       "AsSbHL/BQsdRdPIJMDAwAdWv3AoWYjGAB18jg+BZBgZe/b9nbm+GCLHeXooR8AjAJQ0NPggAAH2B\n",
       "SAzP/7V+AAAAAElFTkSuQmCC\n",
       "\" style=\"display:inline;vertical-align:middle;\" /></a>, <a class=\"ProveItLink\" href=\"../__pv_it/demonstrations/6d4a76c8afef1311edaf37cd3d7c58f6a0f3bae70/expr.ipynb\"><img src=\"data:image/png;base64,iVBORw0KGgoAAAANSUhEUgAAADYAAAAPBAMAAABdHiGLAAAAMFBMVEX////MzMy6uroyMjIiIiKq\n",
       "qqoQEBB2dnbc3NyYmJhmZmZUVFRERESIiIju7u4AAACOKgoaAAAAAXRSTlMAQObYZgAAANxJREFU\n",
       "GNNjYGDgu7NrJ0cBAxLgdTvzOWUTiHVtAgPrsgnIcgzMjBfevAIKvfEDctY3oMjxME3gFTjAwGD2\n",
       "AMhRg4jNcXExgMqxBhxg4PoK4kiBpWTuIfSx6x1g6HcAcV6ACD47JDNVpAUY6i/AbeFuQMil/E9i\n",
       "YPAXQLgA2S3sMwsY8kFOYQATYsZAAHMLwwFNBn8QmxWsuQdZH8MBbojP2MEibChyG5gZ+kFuqQOL\n",
       "cF1A0TedgfUnA0PUA4iQKyLMCtirNjAwvDq9SwEq9PrQA7SwRgLqRyBhBgEActk8e8zZ+EcAAAAA\n",
       "SUVORK5CYII=\n",
       "\" style=\"display:inline;vertical-align:middle;\" /></a>, <a class=\"ProveItLink\" href=\"../__pv_it/demonstrations/fd6d96a8fa1d80eb29daf8272b5460a0b6c3669c0/expr.ipynb\"><img src=\"data:image/png;base64,iVBORw0KGgoAAAANSUhEUgAAADgAAAAPBAMAAABD1xE4AAAAMFBMVEX///8iIiLu7u52dna6uroQ\n",
       "EBBmZmaIiIjMzMyqqqoyMjLc3NxERERUVFSYmJgAAAAdjRNVAAAAAXRSTlMAQObYZgAAAONJREFU\n",
       "GNNjYGB4+//snbMbGJABu+iZX4FXwMxfDAx8P1EkGbg4CnTUHgAZHN+BRCqqJA/LA/aGAyAzfgAJ\n",
       "/wdgQb6DglJQSc4JIEmeD0BivwFIjOO4AlwnsxNIkh9E+F8AiWkpIIx17G0AMvoLgEQ9WOdthJ2B\n",
       "/0NAjHqQivsOIOYBJAcxvwOpPw/ifQVbGbUKCKCSDAf8gIw/IFf+AwlxI+tkOMAL9aYqRDgAWfIC\n",
       "F8SbTKsgYukoOh8DQwroTccEiBjjBHjwGTCbXWDgXf839042VIzpjhN6wCMBFhtI8EEAALZERsGv\n",
       "6x6JAAAAAElFTkSuQmCC\n",
       "\" style=\"display:inline;vertical-align:middle;\" /></a>, <a class=\"ProveItLink\" href=\"../__pv_it/demonstrations/e428f1209cf2d8fbb595a1333009c1d986a9099a0/expr.ipynb\"><img src=\"data:image/png;base64,iVBORw0KGgoAAAANSUhEUgAAADcAAAAPBAMAAACy3Eq1AAAAMFBMVEX///+qqqoQEBDc3NzMzMx2\n",
       "dnbu7u66urqYmJgyMjIiIiJUVFRmZmZERESIiIgAAADRBAegAAAAAXRSTlMAQObYZgAAAOJJREFU\n",
       "GNNjYGB4+//O6V0/GZDBK937k1YXgJkgiV4USYYJfmzXToAY7P+ARA6q5IUKhie8IAbrFyCRBxbj\n",
       "uLVqJUxSECzJ+YGBlYEZxGK5l4DQGZ4LYvBfYOiACGUmIIxlX7IFxKifs+kzRGgzws6i9Z/Aro13\n",
       "YJgAFUJ2UEQriDGfgSGAwQFkpeZMIIBJ8rI3ABl/GRgS2B4AGcwoOnkZNkC9yQp2igKyJDfIMrA3\n",
       "vcFC51B0cgQwMHB9AOpWAQtxCcCDz5Uh9DQDQ/b832f2roc4l21vGUbAIwB7LDT4IAAA1+JKJTT9\n",
       "YhQAAAAASUVORK5CYII=\n",
       "\" style=\"display:inline;vertical-align:middle;\" /></a>, <a class=\"ProveItLink\" href=\"../__pv_it/demonstrations/c5ad58a50830febad06549d208eaa485c6e2d3920/expr.ipynb\"><img src=\"data:image/png;base64,iVBORw0KGgoAAAANSUhEUgAAADcAAAAPBAMAAACy3Eq1AAAAMFBMVEX///8iIiLc3Nzu7u6qqqq6\n",
       "urp2dnbMzMyYmJgyMjIQEBBUVFRmZmZERESIiIgAAABzTYE0AAAAAXRSTlMAQObYZgAAANlJREFU\n",
       "GNNjYGB4+//O6Vv/GJDBw7X3Z0kHgJk/gfgGiiTDhDrmyydADPZvQKIVVfJCBMNzXhCD7yuQcAeL\n",
       "cVwUlIRJuoAlOT8zMDE4g824Z4DQmWoLYvALMGhAhCwNEMayim8HMeIPMGyCCG1C2Bkl/wvs2vw5\n",
       "uxZAhZAdlNEGYsw3YN4AFmFfORMIYJK8rA1AxkcGZgewCBOKTl4GoBbWb3ChBciS3AwTGBjYvsKF\n",
       "zqHo5EhgYGD8ABdidIAHXxlD2mkGBpv5vw/BhJj3BmMEPAKw5kKDDwIAwPJCDDgfPPUAAAAASUVO\n",
       "RK5CYII=\n",
       "\" style=\"display:inline;vertical-align:middle;\" /></a>, <a class=\"ProveItLink\" href=\"../__pv_it/demonstrations/dbdb0e5966afcbcea97c599d3eea74bb87126b590/expr.ipynb\"><img src=\"data:image/png;base64,iVBORw0KGgoAAAANSUhEUgAAADYAAAAPBAMAAABdHiGLAAAAMFBMVEX////MzMyqqqoyMjIiIiK6\n",
       "uroQEBB2dnbc3NyYmJhmZmZUVFRERESIiIju7u4AAAAZ5rjZAAAAAXRSTlMAQObYZgAAAOFJREFU\n",
       "GNNjYGDgu7NrJUcBAxLgdTvzOWUriHVtAgPrsgnIcgzMjBfevAIKvfEDctY3oMjxsE7gFTjAwGD2\n",
       "AMgJgYjNcXExgMoxKRxg4PoE4kiBpWTuIfSxxx1g6HcAcV6ACD47JDNDpAUY6i/AbeFuQMil/E9l\n",
       "YPAXQLgA2S3sMwsY8oHMWcbHQSJixkAAcwvDgUgGfxC7PgBE9iDrYzjADfGZPViEDUVuAzNDPzC0\n",
       "GD+DRbguoOibzsD0l4FB2h0i5IQIswL2qg0MDK9OL5+gChF6ffQBWlgjgfAjkDCDAABJHj3RflW6\n",
       "aAAAAABJRU5ErkJggg==\n",
       "\" style=\"display:inline;vertical-align:middle;\" /></a>, <a class=\"ProveItLink\" href=\"../__pv_it/demonstrations/9523dc591776f471a5639d111d1ff4d729eec8b30/expr.ipynb\"><img src=\"data:image/png;base64,iVBORw0KGgoAAAANSUhEUgAAADkAAAAPBAMAAACsFXoGAAAAMFBMVEX///8QEBDc3Nyqqqp2dnbM\n",
       "zMyIiIi6uroiIiLu7u4yMjJmZmZERERUVFSYmJgAAADCfy+7AAAAAXRSTlMAQObYZgAAAOVJREFU\n",
       "GNNjYGB4+/80EK+ewIAEMmTOL+wtADN/AfEPBlSwIIzz5D4Qg/0bAwPrbzTZA3UMqTwgBstXBga2\n",
       "zxBBvhMdXTBZY7As1wcGBp6fYDHWYxMQet3ngBj8B4C4ASw2awLCZPbWqyBG/erdu887gMUuIewt\n",
       "7P8IdrN/AANDPsT1B5Bd5fcExFgPxOfBRrJKrQICmCwP+wMg4w/UywwMTCh6eRguQL37BSImgCzL\n",
       "y7AA6t3vELFtKHr5gE7lQHiXgcMAHpIhDC57GRhmr/+bwH3+TwJYjPNOJUYsIAF2H2hIQgAA9VpQ\n",
       "BRkDOOYAAAAASUVORK5CYII=\n",
       "\" style=\"display:inline;vertical-align:middle;\" /></a> <a class=\"ProveItLink\" href=\"../__pv_it/demonstrations/48f301354e6c277709e2242aeccdc5734c97589a0/proof.ipynb\" style=\"text-decoration: none\">&nbsp;&#x22A2;&nbsp;&nbsp;</a><a class=\"ProveItLink\" href=\"../__pv_it/demonstrations/d0788b702786b05dd610cd17e6a7f6764a2d5e4f0/expr.ipynb\"><img src=\"data:image/png;base64,iVBORw0KGgoAAAANSUhEUgAAAVwAAAAUBAMAAAAzRJiqAAAAMFBMVEX///9UVFTMzMx2dna6uroQ\n",
       "EBCqqqqIiIgiIiJmZmYyMjJERETu7u6YmJjc3NwAAAC+aOQFAAAAAXRSTlMAQObYZgAABC5JREFU\n",
       "SMfNl02IU1cUgE/yYpJJ3ntJi6XGUSez6w8lWRXElslGGEHRhYuhVgxdKRTMppQyi2RTKUWYDEUl\n",
       "TnGGogt/MG+k4hTReYtaOzNQUhQEQRrophRlJuNUh4xOes657+W989TShYtcyH33fvec+84999zz\n",
       "bgDMBvRgiTZfMbCgHu8FsDHQqvX/GID6aGarmRfo9850/3Rg7tjsWu2NsSnBRjs/jV99Gpjv9nSt\n",
       "8WfgtWtVY6D9PWwLTPn19fbIRmxcVv06VWFuZrneYAFMZiX7ogHREw3J2viOJwHdFJpqWC/IwQ23\n",
       "pwZiBwF2HZSMVFMVgPnAyhLh0sJcA4yqWlXdxjpEekaJSQ7N2lsVbOE4VpNNwcLksRMB3b340KVu\n",
       "+DFWd/H3JvXu8V7N4Dv71gVj1RyqaiVpbjLSiGUtiKuN/IWsgHAaq7jNpIzgj5Jg56jeKeViy/SO\n",
       "htQdQjN1qRtbweoz/A1S7zg77FOsIhXBWLVcRPV9TnTMfPOtY260aMFfijbKBXAiY5ciV1FlxPaz\n",
       "PtpzeFfKJZewWsxLXYysPDQFSzwDEz6nBvIIb+lkkVZeFYyDcpZee5a74Wt217vabgu+4k7EPsoJ\n",
       "4gj+bqrxFsA7WwRbJEfAb1IuZZF301J3DQyVb3xyFXikzjyalaSlmKscEU0/I1UAHtjO3XnbC4bh\n",
       "wSxHP8DPkONYieN6LLWs1oPRYyDYkBdOnhzrlfOCRdrjh5oBOTwGzmHHRb9PT82XJ1yGqrXaBIU5\n",
       "3Of+Ni92Rzr7AZRJBVjkvYiVIFRQpxaPwK20YGNZL6905coEBwqCacuQCMoNnX/LicYvATbyUpY9\n",
       "c11GqirM4TD3Ld9R0x7kYT+7MlMb4AG94maQJE4eeyLYId4YW8rNUvWPZIkl0FRe8ljd1tOq9Svo\n",
       "nJI3YNQbpy/m/YxUIfmMt40N++QCFsdcsPYocyOorMRPwodq0hROHnsq2BiHXlbKUawZzwO6Fuhw\n",
       "W7JV0Iuq1VfUuBWnQ6qtCMZHITXVNdf0exeskAoGFI2rrfobKtBNu6EVwTjXaSAYp91bltSl3Akf\n",
       "CRZ53N14cyquTFx3vOljKu2yw4e5v89vbjrBR80sdvWSHzjnidJuzhJs0bOiyyjt6hck49wZTgvm\n",
       "eJHLFfVBMGkFuSnBVNoteEftlPDuHc4XlHuT68pbm5zMcQ49csAWLIp7fsQZdhmtcrgqGUfNzqxg\n",
       "8SXP3EH1QYCjJRzOSzbmpl34TukVux/hvLY9TT5f6FyC6Oyqeul5Nbq5kxm/7oo6DOamMwUQLFRv\n",
       "jfefkUwn3Zm2YHP11hnv8+8sT5/IfBwt+Jl+uvM2THSuUfsHJdO/W1xx4oHb1MOXXNpeMzPt/8F0\n",
       "5xxEdqiPsHtjq0JPluAVxy03e9Pc+f++nvdaeZUXe/PPj/HyPz//AleXWrBbg8W5AAAAAElFTkSu\n",
       "QmCC\n",
       "\" style=\"display:inline;vertical-align:middle;\" /></a></span>"
      ],
      "text/plain": [
       "{A in BOOLEAN, B in BOOLEAN, C in BOOLEAN, D in BOOLEAN, E in BOOLEAN, F in BOOLEAN, G in BOOLEAN, H in BOOLEAN} |- (A or B or C or D or E or F or G or H) in BOOLEAN"
      ]
     },
     "execution_count": 47,
     "metadata": {},
     "output_type": "execute_result"
    }
   ],
   "source": [
    "Or(A,B,C,D,E,F,G,H).derive_in_bool(in_bool(A,B,C,D,E,F,G,H))"
   ]
  },
  {
   "cell_type": "markdown",
   "metadata": {},
   "source": [
    "true_eval"
   ]
  },
  {
   "cell_type": "code",
   "execution_count": 48,
   "metadata": {},
   "outputs": [
    {
     "data": {
      "text/html": [
       "<span style=\"font-size:20px;\"> <a class=\"ProveItLink\" href=\"../__pv_it/demonstrations/51de09d6fe45eb46ef64ff6f73e7a43ef1fafcf40/proof.ipynb\" style=\"text-decoration: none\">&nbsp;&#x22A2;&nbsp;&nbsp;</a><a class=\"ProveItLink\" href=\"../__pv_it/demonstrations/016e91d4b8160c0ca4fa9a275f56fd3a84e0fee10/expr.ipynb\"><img src=\"data:image/png;base64,iVBORw0KGgoAAAANSUhEUgAAAOYAAAAUBAMAAABrHlyaAAAAMFBMVEX///9UVFTMzMx2dna6uroQ\n",
       "EBCqqqqIiIgiIiJmZmYyMjJERETu7u6YmJjc3NwAAAC+aOQFAAAAAXRSTlMAQObYZgAAAbpJREFU\n",
       "SMe1lq9Pw0AUx1+7pexXl4UgkJvBEBIUC6hJEHOQIOcIhtQRXBGQiokqghxyCELwLDMkyzC4OVJJ\n",
       "CII/gbveRt+7e8cwfcku3fd93vvuuutdAepvkE+c2VOvcnB7ZsLQbiMZl8swERtycBKwNXiQ37xA\n",
       "qc20i7qea26WADixYkRLsdqAmWGa8WNcuCqHGWnmyGZ+QDwZjGgKa9s8SwkubMmhT+fZkNSYeDIY\n",
       "0RT2YvP8IIUV8QuKMW0mb/4BEE8Ow5rCKh2L5wUp9ERRNaHNTsVnRD05DGsKK8QWz2dSCCHAJtBm\n",
       "JXF/H6knh2FNYX66iPbuZQxx5poWngOsac1WAnA6mieDYU1hXmiZ5yEtnGRLfKHVQpiC5slgWFOY\n",
       "+/0/z3Kv0NOb3cCO7slhSFviqd3b+qAEerNPCHVPDkOawoph9n/e/bGG4GlmNKtuBbonhyENryFm\n",
       "nrtaYatvNHPXx4YngyFNYeVti+e+yEXR1XEUNdSDrB4qog1/S7qLCw6ba2InP0p38krT9Oxme18W\n",
       "9bEJfpkSh+naxHaU+THkFW1rZpSXJXuWoTM7j6gm1lRu7ybvtsQPLmCHyvoeiRgAAAAASUVORK5C\n",
       "YII=\n",
       "\" style=\"display:inline;vertical-align:middle;\" /></a></span>"
      ],
      "text/plain": [
       "|- (FALSE or FALSE or TRUE or FALSE or FALSE) = TRUE"
      ]
     },
     "execution_count": 48,
     "metadata": {},
     "output_type": "execute_result"
    }
   ],
   "source": [
    "Or(FALSE,FALSE,TRUE,FALSE,FALSE).evaluation()"
   ]
  },
  {
   "cell_type": "code",
   "execution_count": 49,
   "metadata": {},
   "outputs": [
    {
     "data": {
      "text/html": [
       "<span style=\"font-size:20px;\"><a class=\"ProveItLink\" href=\"../../__pv_it/theorems/ddc941563dffabdeb005429c2f934b2b6ccbeab10/expr.ipynb\"><img src=\"data:image/png;base64,iVBORw0KGgoAAAANSUhEUgAAADYAAAAPBAMAAABdHiGLAAAAMFBMVEX///92dnYiIiIQEBBERERU\n",
       "VFS6urqIiIjc3NxmZmaqqqru7u6YmJgyMjLMzMwAAADiRdoGAAAAAXRSTlMAQObYZgAAANdJREFU\n",
       "GNNjYACBtwwogF3Z5a9RGJRzH1WOgZevYMvOA2Amz/0NqHIsbAfYHziAmbvmN0DEeJyUdKFyXAsg\n",
       "cgfqE8A0n/sGuD7GbLAc24b1ELP3bkCYmfT0AYi1jeF9AVgoAmGf0X8zMCuBoX8CmOGA5BbGMwIg\n",
       "WyJnxoNF+WzvAgFUjsEhB2QdAwPzBZAIB7I+BgdWIGMBAwOTAVjIAFkugBeoGijH+wEsNB1F30EG\n",
       "hiYQ+wdYiGkBPMwEGCUDGLb8v83A5f8J7FDukGzMsIYBNhFImEEAAEUpOYcaSaDVAAAAAElFTkSu\n",
       "QmCC\n",
       "\" style=\"display:inline;vertical-align:middle;\" /></a>, <a class=\"ProveItLink\" href=\"../__pv_it/theorems/67501eb487d67b93f0ec3f6965561f782e470d670/expr.ipynb\"><img src=\"data:image/png;base64,iVBORw0KGgoAAAANSUhEUgAAADcAAAAPBAMAAACy3Eq1AAAAMFBMVEX///92dnYyMjKqqqoiIiLu\n",
       "7u7c3NyIiIjMzMwQEBC6urpERERmZmZUVFSYmJgAAADEjrHzAAAAAXRSTlMAQObYZgAAAOZJREFU\n",
       "GNNjYGB4+//O2d0LGJBByez9mr4QodkMDDw/UCQZFNpZt54DMTj+MTBw/UGV3LCOoYIbxGD/xsDA\n",
       "9x0sxrfFxQkmaQyW5J7AwBDpCjZjewBCp1Q0iMF/gYHDFywaFIAwlsvjBojRf+/5FgOw0DWEnSv9\n",
       "f4JdW5/AwDoXIoTsILmHIMZOkAKQVo5JSkAAk+TmegBk/AVJFgAJNhSd3AwXIN5kuA+2YAKyJC+D\n",
       "AsSbHL/BQsdRdPIJMDAwAdWv3AoWYjGAB18jg+BZBgZe/b9nbm+GCLHeXooR8AjAJQ0NPggAAH2B\n",
       "SAzP/7V+AAAAAElFTkSuQmCC\n",
       "\" style=\"display:inline;vertical-align:middle;\" /></a>, <a class=\"ProveItLink\" href=\"../__pv_it/demonstrations/6d4a76c8afef1311edaf37cd3d7c58f6a0f3bae70/expr.ipynb\"><img src=\"data:image/png;base64,iVBORw0KGgoAAAANSUhEUgAAADYAAAAPBAMAAABdHiGLAAAAMFBMVEX////MzMy6uroyMjIiIiKq\n",
       "qqoQEBB2dnbc3NyYmJhmZmZUVFRERESIiIju7u4AAACOKgoaAAAAAXRSTlMAQObYZgAAANxJREFU\n",
       "GNNjYGDgu7NrJ0cBAxLgdTvzOWUTiHVtAgPrsgnIcgzMjBfevAIKvfEDctY3oMjxME3gFTjAwGD2\n",
       "AMhRg4jNcXExgMqxBhxg4PoK4kiBpWTuIfSx6x1g6HcAcV6ACD47JDNVpAUY6i/AbeFuQMil/E9i\n",
       "YPAXQLgA2S3sMwsY8kFOYQATYsZAAHMLwwFNBn8QmxWsuQdZH8MBbojP2MEibChyG5gZ+kFuqQOL\n",
       "cF1A0TedgfUnA0PUA4iQKyLMCtirNjAwvDq9SwEq9PrQA7SwRgLqRyBhBgEActk8e8zZ+EcAAAAA\n",
       "SUVORK5CYII=\n",
       "\" style=\"display:inline;vertical-align:middle;\" /></a>, <a class=\"ProveItLink\" href=\"../__pv_it/demonstrations/fd6d96a8fa1d80eb29daf8272b5460a0b6c3669c0/expr.ipynb\"><img src=\"data:image/png;base64,iVBORw0KGgoAAAANSUhEUgAAADgAAAAPBAMAAABD1xE4AAAAMFBMVEX///8iIiLu7u52dna6uroQ\n",
       "EBBmZmaIiIjMzMyqqqoyMjLc3NxERERUVFSYmJgAAAAdjRNVAAAAAXRSTlMAQObYZgAAAONJREFU\n",
       "GNNjYGB4+//snbMbGJABu+iZX4FXwMxfDAx8P1EkGbg4CnTUHgAZHN+BRCqqJA/LA/aGAyAzfgAJ\n",
       "/wdgQb6DglJQSc4JIEmeD0BivwFIjOO4AlwnsxNIkh9E+F8AiWkpIIx17G0AMvoLgEQ9WOdthJ2B\n",
       "/0NAjHqQivsOIOYBJAcxvwOpPw/ifQVbGbUKCKCSDAf8gIw/IFf+AwlxI+tkOMAL9aYqRDgAWfIC\n",
       "F8SbTKsgYukoOh8DQwroTccEiBjjBHjwGTCbXWDgXf839042VIzpjhN6wCMBFhtI8EEAALZERsGv\n",
       "6x6JAAAAAElFTkSuQmCC\n",
       "\" style=\"display:inline;vertical-align:middle;\" /></a> <a class=\"ProveItLink\" href=\"../__pv_it/demonstrations/5832b6dace7295cdcdc6243f8ec487db754a8dd00/proof.ipynb\" style=\"text-decoration: none\">&nbsp;&#x22A2;&nbsp;&nbsp;</a><a class=\"ProveItLink\" href=\"../__pv_it/demonstrations/19c817eebf28e004e17d673a8ed2e6243a969cd30/expr.ipynb\"><img src=\"data:image/png;base64,iVBORw0KGgoAAAANSUhEUgAAAOgAAAAUBAMAAAB112wpAAAAMFBMVEX///9UVFTMzMx2dna6uroQ\n",
       "EBCqqqqIiIgiIiJmZmYyMjJERETu7u6YmJjc3NwAAAC+aOQFAAAAAXRSTlMAQObYZgAAAq1JREFU\n",
       "SMe1Vj1oU1EUPklek5ef92zEwarYdBNF2smiU0YdihkchFoILtJFs4k4NC5FwSEFEYtC4uBQEVtF\n",
       "QSm2b7Ba6pLNSVNwERFsVLRQbT0/7yfvvt7ikgu599zv3u9895x3z3sBsJvQpXZRv/ROhsMKbPW3\n",
       "p/c/C0F3rlO7pmx8+2Sq+UmhbuTnDwLEVlUt38Njmc9yX6AuzmbPHEC94M0KsuuCDB1YagxgfCxM\n",
       "3dUAaJUh19gmRvZg1eR0sw4Nu6l7z8ggpv00LsbIm1UJiQZY7gXy0psKFVfSJYBhnagpOXhT53GA\n",
       "upuMTCDQQna8l3Y54Uh9LHMOO6OkUPFMxl+AJZ3oZ7GbE0UaMqhkSOzPMYyz5JfyfwpCogFWL9MZ\n",
       "amHqIv7sHwgVNaJX2DScS3yJk8jKSuxtgEMHyBjH34Ii6mH2Os1yq2HqBnlEfqKmEX3F5mt+Dtiq\n",
       "AEckg+0PVyfZMnEyp4h6WOJ34C6gEpjCSC2+SSceUpvp9CCOi/BNTnUZYA8bKbwcS71sVSBWVEQ9\n",
       "zPweiAZUAmM/MfiqJtIzfLa+6X4JZtm76Fm8HKlfnLwqrIAi6mE9f3imUNeobJAfX9tJ1EC6ENLl\n",
       "RFlqDaNMSfJuwzFV1MNMdnteodL5W80dRDm9uNksMWY3TPDLlFKE7QtUI6IuxhUKQwoVr0dulGKp\n",
       "Bs/0vnqRbBTNuKd6KvXNZTooKc8erUREXcymXCQchYplukKJsxqaSI+7tZrdFHBA6hse4EFHxVt8\n",
       "rxMR9TCstOQ9CFPxjWrc4DwMaURP4it/6xEkF9fl+mZk2LfVNzVfdjfO+JQR33Kx3N38LQ8KqPmX\n",
       "XLCZQlR0pOM16DfbiW78Cv+FRajLui+bVYOutWHtykLXNLf9tIU+4l1o2VXtUvf+rnzULfwD6mTE\n",
       "rwFPLyQAAAAASUVORK5CYII=\n",
       "\" style=\"display:inline;vertical-align:middle;\" /></a></span>"
      ],
      "text/plain": [
       "{A in BOOLEAN, B in BOOLEAN, C in BOOLEAN, D in BOOLEAN} |- (A or B or TRUE or C or D) = TRUE"
      ]
     },
     "execution_count": 49,
     "metadata": {},
     "output_type": "execute_result"
    }
   ],
   "source": [
    "Or(A,B,TRUE,C,D).evaluation([in_bool(A), in_bool(B), in_bool(C), in_bool(D)])"
   ]
  },
  {
   "cell_type": "markdown",
   "metadata": {},
   "source": [
    "false_eval"
   ]
  },
  {
   "cell_type": "code",
   "execution_count": 50,
   "metadata": {},
   "outputs": [
    {
     "data": {
      "text/html": [
       "<span style=\"font-size:20px;\"><a class=\"ProveItLink\" href=\"../../__pv_it/theorems/7a6dcdf75c77d214ba3a79fe2ee816960e7dd13f0/expr.ipynb\"><img src=\"data:image/png;base64,iVBORw0KGgoAAAANSUhEUgAAADoAAAAOBAMAAACMfhKgAAAAMFBMVEX///92dnYiIiIQEBBERERU\n",
       "VFS6urqIiIjc3NxmZmaqqqru7u6YmJgyMjLMzMwAAADiRdoGAAAAAXRSTlMAQObYZgAAAHlJREFU\n",
       "GNNjYACBtwyY4BWcdR+L7HIYg+f+Bjyyu+Y34JE9UJ+AW5Ztw/oDuGW3MbwvANGyd0HgJppsAkP/\n",
       "BJx6+SJnxjvglGVjYGC+gFN2AQMDkwHC3qsoshxAWd4PuPQ2ATHLDxyyW/7fZuDy/4Tm6ElKSsZK\n",
       "SqoAG5UsKS5uX3IAAAAASUVORK5CYII=\n",
       "\" style=\"display:inline;vertical-align:middle;\" /></a>, <a class=\"ProveItLink\" href=\"../__pv_it/demonstrations/d3823b5c52aa05831491aae804795be93cdfdf7b0/expr.ipynb\"><img src=\"data:image/png;base64,iVBORw0KGgoAAAANSUhEUgAAADwAAAAOBAMAAACBYGLnAAAAMFBMVEX///92dnYyMjKqqqoiIiLu\n",
       "7u7c3NyIiIjMzMwQEBC6urpERERmZmZUVFSYmJgAAADEjrHzAAAAAXRSTlMAQObYZgAAAI1JREFU\n",
       "GNNjYGB4+//O2d0LGDBAM5SezcDA8wNT2hxCcfxjYOD6g1Oa/RsDA993nNLcExgYIl1xSvNfYODw\n",
       "DcAp3X/v+RYDMEtICQR0UKXrExhY5zLg1L0TpMQAp/RfkHQBLmmQtxnuL0DYrYsiDfI2x2+cdjMB\n",
       "vb1yKy5pXv2/Z25vxpA74uIy08XFFwCiFScSFwTWowAAAABJRU5ErkJggg==\n",
       "\" style=\"display:inline;vertical-align:middle;\" /></a>, <a class=\"ProveItLink\" href=\"../__pv_it/demonstrations/b54910da69eb48df3fabf5d3997c255efd20005d0/expr.ipynb\"><img src=\"data:image/png;base64,iVBORw0KGgoAAAANSUhEUgAAADoAAAAOBAMAAACMfhKgAAAAMFBMVEX////MzMy6uroyMjIiIiKq\n",
       "qqoQEBB2dnbc3NyYmJhmZmZUVFRERESIiIju7u4AAACOKgoaAAAAAXRSTlMAQObYZgAAAIRJREFU\n",
       "GNNjYGDgu7NrJ0cBAzoQhVDXJjCwLpuAIRsLJt/4AYn1DThkzR4ACTUG7LJcX0GkFA7ZfgcQ+QKH\n",
       "bP0FOL/YGASskGX9BRiwA7BsPshRDA9wyPqDCFYBHLJgn7Ij2WuN4maQq+pw2cv6k4Eh6gEuWYZX\n",
       "p3cpYEgtcXFJc3HxBgBxXiI20bozeAAAAABJRU5ErkJggg==\n",
       "\" style=\"display:inline;vertical-align:middle;\" /></a>, <a class=\"ProveItLink\" href=\"../__pv_it/demonstrations/fa16193d4dcc49ad6bf44e3b7e58ec83d47ca06a0/expr.ipynb\"><img src=\"data:image/png;base64,iVBORw0KGgoAAAANSUhEUgAAADwAAAAOBAMAAACBYGLnAAAAMFBMVEX///8iIiLu7u52dna6uroQ\n",
       "EBBmZmaIiIjMzMyqqqoyMjLc3NxERERUVFSYmJgAAAAdjRNVAAAAAXRSTlMAQObYZgAAAItJREFU\n",
       "GNNjYGB4+//snbMbGDBAJ5T+xcDA9xNTejqE4vgOJFJxSrP/ABL+D3BJ83wAEvsNcEnzHwDpvoBL\n",
       "ur8ASNSDdFutAoFlqNL1DUDivgMu3edBxFecLv8DxHz/cEmDva0Kch7U7rUo0iBvM61iwKWbC+ht\n",
       "xwRc0rzr/+beycaQSxQUDBUUlAUA2sMvzdzd8hcAAAAASUVORK5CYII=\n",
       "\" style=\"display:inline;vertical-align:middle;\" /></a> <a class=\"ProveItLink\" href=\"../__pv_it/demonstrations/da9ff95dab905492b3ffa095fb2f0ff0d15ef3470/proof.ipynb\" style=\"text-decoration: none\">&nbsp;&#x22A2;&nbsp;&nbsp;</a><a class=\"ProveItLink\" href=\"../__pv_it/demonstrations/1ed1d8633717e261b2824ac952c893ddb4c8d2cf0/expr.ipynb\"><img src=\"data:image/png;base64,iVBORw0KGgoAAAANSUhEUgAAAMAAAAAUBAMAAAApXS8NAAAAMFBMVEX///9UVFTMzMx2dna6uroQ\n",
       "EBCqqqqIiIgiIiJmZmYyMjJERETu7u6YmJjc3NwAAAC+aOQFAAAAAXRSTlMAQObYZgAAAo1JREFU\n",
       "OMutVT1oU1EUPvlp3mvy8lrFwRox7SKilHQS6pSxTu2gIGghuGgns4k4JC4lg0ODP1gUU0UHi5hE\n",
       "FASxfYNVaZc4CQVRcBER2hRtij+N5+e95ibk1qG5kJNzv3v+7zn3AdgV6MAKfdYeLcnf4RY4Gq9O\n",
       "x561gG/L+cqXZuh9vRwro/UDbUwfZPpENkUifmb7mXaVAAr9TZgxDjAx7u3kAH5hMOsAi20cnONI\n",
       "pyTgooPUR5rRNCMJLN3olIpZL1CmexO53STwgcX8NSQ3AAJpjQNTivemQP/+XkIcRjIIfEqrWPgM\n",
       "kuAYkgESuMpixhqS0QpYYxoHX4WvZJJevY4L8hxDPuWoWCFFMVDGYXQelNQjq0hWhgAeaBxcYjbo\n",
       "XOBmmsDfnJxWAQ7tVzF7g3YWZRpC4xFJvadEGWCWwxoHr5h9DQmuoYkhlqS21Y+XJ0HFArWGahbg\n",
       "iHCsl8EMlml3bJbWI9WBGEnCCmdspMGXlNriZS70qpi51nBwEWCPcBnqgTien9dkcILD7ZuOc+BW\n",
       "1uu3CF6asa5iXX94x6fvwJoRuXkiPymV7RwEUV0UbsJROezB6I2aipl0nXCWoe5UICVyv6mJ/27j\n",
       "gEuEwqa02TcqrzcGvh8qxhMAQwzZMyY0xmCBsh9p3MG91ku20UF4VSoz6A4MjUGipGI22QrIkMBT\n",
       "GTMeA2uWuGVNBsPuLEQ2JaK9roWHWLjTThOGnRy64+oOyJhxXCPcH9c0DjCzpfpjCM1vyOC4Lbav\n",
       "3pd/6ZbZw6zbu657umGR9hWr+dhdZu+3WL+Vy53M5a54T8XW+t7m0WqD2U4LYGU1r7X72O14tXvs\n",
       "ZM11xsHi/z44O136ODvzyYzqPpn/AP6zsLSCRYYeAAAAAElFTkSuQmCC\n",
       "\" style=\"display:inline;vertical-align:middle;\" /></a></span>"
      ],
      "text/plain": [
       "{A = FALSE, B = FALSE, C = FALSE, D = FALSE} |- (A or B or C or D) = FALSE"
      ]
     },
     "execution_count": 50,
     "metadata": {},
     "output_type": "execute_result"
    }
   ],
   "source": [
    "Equals(Or(A,B,C,D),FALSE).prove([Equals(A,FALSE), Equals(B,FALSE),Equals(C,FALSE),Equals(D,FALSE)])"
   ]
  },
  {
   "cell_type": "code",
   "execution_count": 51,
   "metadata": {},
   "outputs": [
    {
     "data": {
      "text/html": [
       "<span style=\"font-size:20px;\"><a class=\"ProveItLink\" href=\"../../__pv_it/theorems/ddc941563dffabdeb005429c2f934b2b6ccbeab10/expr.ipynb\"><img src=\"data:image/png;base64,iVBORw0KGgoAAAANSUhEUgAAADYAAAAPBAMAAABdHiGLAAAAMFBMVEX///92dnYiIiIQEBBERERU\n",
       "VFS6urqIiIjc3NxmZmaqqqru7u6YmJgyMjLMzMwAAADiRdoGAAAAAXRSTlMAQObYZgAAANdJREFU\n",
       "GNNjYACBtwwogF3Z5a9RGJRzH1WOgZevYMvOA2Amz/0NqHIsbAfYHziAmbvmN0DEeJyUdKFyXAsg\n",
       "cgfqE8A0n/sGuD7GbLAc24b1ELP3bkCYmfT0AYi1jeF9AVgoAmGf0X8zMCuBoX8CmOGA5BbGMwIg\n",
       "WyJnxoNF+WzvAgFUjsEhB2QdAwPzBZAIB7I+BgdWIGMBAwOTAVjIAFkugBeoGijH+wEsNB1F30EG\n",
       "hiYQ+wdYiGkBPMwEGCUDGLb8v83A5f8J7FDukGzMsIYBNhFImEEAAEUpOYcaSaDVAAAAAElFTkSu\n",
       "QmCC\n",
       "\" style=\"display:inline;vertical-align:middle;\" /></a>, <a class=\"ProveItLink\" href=\"../__pv_it/theorems/67501eb487d67b93f0ec3f6965561f782e470d670/expr.ipynb\"><img src=\"data:image/png;base64,iVBORw0KGgoAAAANSUhEUgAAADcAAAAPBAMAAACy3Eq1AAAAMFBMVEX///92dnYyMjKqqqoiIiLu\n",
       "7u7c3NyIiIjMzMwQEBC6urpERERmZmZUVFSYmJgAAADEjrHzAAAAAXRSTlMAQObYZgAAAOZJREFU\n",
       "GNNjYGB4+//O2d0LGJBByez9mr4QodkMDDw/UCQZFNpZt54DMTj+MTBw/UGV3LCOoYIbxGD/xsDA\n",
       "9x0sxrfFxQkmaQyW5J7AwBDpCjZjewBCp1Q0iMF/gYHDFywaFIAwlsvjBojRf+/5FgOw0DWEnSv9\n",
       "f4JdW5/AwDoXIoTsILmHIMZOkAKQVo5JSkAAk+TmegBk/AVJFgAJNhSd3AwXIN5kuA+2YAKyJC+D\n",
       "AsSbHL/BQsdRdPIJMDAwAdWv3AoWYjGAB18jg+BZBgZe/b9nbm+GCLHeXooR8AjAJQ0NPggAAH2B\n",
       "SAzP/7V+AAAAAElFTkSuQmCC\n",
       "\" style=\"display:inline;vertical-align:middle;\" /></a> <a class=\"ProveItLink\" href=\"../__pv_it/demonstrations/bc8227b04cc0eb8a4a818043af3b228a0a38e0d30/proof.ipynb\" style=\"text-decoration: none\">&nbsp;&#x22A2;&nbsp;&nbsp;</a><a class=\"ProveItLink\" href=\"../__pv_it/axioms/9dbb91b755739abe1a742a96e05a49440910e7ee0/expr.ipynb\"><img src=\"data:image/png;base64,iVBORw0KGgoAAAANSUhEUgAAAGwAAAAUBAMAAACaOcVSAAAAMFBMVEX///9UVFTMzMx2dna6uroQ\n",
       "EBCqqqqIiIgiIiJmZmYyMjJERETu7u6YmJjc3NwAAAC+aOQFAAAAAXRSTlMAQObYZgAAAdhJREFU\n",
       "OMt9VD0sQ1EU/tr3tE/7+jTSxU9oN2GoVSzGDhUGQ8PS0aabiIGFiBgqBjERYRHhRQhJgzcgtEsT\n",
       "g0TSMNpoIohB3XtOW32NvjPcc75z7/l537n3AUYeDuJ5brCRY9Vb5w50Fzc6joEuu9u7kPlOhIRx\n",
       "wPiQ1rBc3GQ2mcBmGNm6dD53KneXRyDNyQ8tqVrl8kCeqGh+JA0lZQ/zq3lv2ITGzd9sko7IZYU8\n",
       "c8LxlII+Wm76bGm5HOZJmnhhb35uiFoQZ1WufwLoCdHCDiH3qVWtpsRNzBBQrSki1CNC/Fy/CPR0\n",
       "Cj1AKGv9NRmLhHFO4ApR/oZ5oI/TFwuzi9J4JNj1922J0hhAWxjCK7c2DYSY6R/gOiiMSYJmDSVK\n",
       "oR9jlLpto5s3bqFv8bagwvshGaUD43tCymEwhzlMFWPi081JJUlGi6jk/ayEGbXVYLq4SXFSY6KN\n",
       "LQ3VsbnehREjOFobFvQRJYYI872x+4iHTWOLmlVK1m3V7olfOTv/D7sjPGzsitYnJOtrBLVk9XL1\n",
       "KwNB2UOutA/P5RdT6WPVXmpbzdDRbcJ6R9x2lbW6l2FYdqzPs1YH+XJVHkgajlJ/lSty4RyWdX6m\n",
       "jaRRVuefQuD/n8IvKVd8tEBgfOAAAAAASUVORK5CYII=\n",
       "\" style=\"display:inline;vertical-align:middle;\" /></a></span>"
      ],
      "text/plain": [
       "{A in BOOLEAN, B in BOOLEAN} |- (A or B) in BOOLEAN"
      ]
     },
     "execution_count": 51,
     "metadata": {},
     "output_type": "execute_result"
    }
   ],
   "source": [
    "in_bool(Or(A,B)).prove([in_bool(A), in_bool(B)])"
   ]
  },
  {
   "cell_type": "code",
   "execution_count": 52,
   "metadata": {},
   "outputs": [
    {
     "data": {
      "text/html": [
       "<span style=\"font-size:20px;\"><a class=\"ProveItLink\" href=\"../../__pv_it/theorems/ddc941563dffabdeb005429c2f934b2b6ccbeab10/expr.ipynb\"><img src=\"data:image/png;base64,iVBORw0KGgoAAAANSUhEUgAAADYAAAAPBAMAAABdHiGLAAAAMFBMVEX///92dnYiIiIQEBBERERU\n",
       "VFS6urqIiIjc3NxmZmaqqqru7u6YmJgyMjLMzMwAAADiRdoGAAAAAXRSTlMAQObYZgAAANdJREFU\n",
       "GNNjYACBtwwogF3Z5a9RGJRzH1WOgZevYMvOA2Amz/0NqHIsbAfYHziAmbvmN0DEeJyUdKFyXAsg\n",
       "cgfqE8A0n/sGuD7GbLAc24b1ELP3bkCYmfT0AYi1jeF9AVgoAmGf0X8zMCuBoX8CmOGA5BbGMwIg\n",
       "WyJnxoNF+WzvAgFUjsEhB2QdAwPzBZAIB7I+BgdWIGMBAwOTAVjIAFkugBeoGijH+wEsNB1F30EG\n",
       "hiYQ+wdYiGkBPMwEGCUDGLb8v83A5f8J7FDukGzMsIYBNhFImEEAAEUpOYcaSaDVAAAAAElFTkSu\n",
       "QmCC\n",
       "\" style=\"display:inline;vertical-align:middle;\" /></a>, <a class=\"ProveItLink\" href=\"../__pv_it/theorems/67501eb487d67b93f0ec3f6965561f782e470d670/expr.ipynb\"><img src=\"data:image/png;base64,iVBORw0KGgoAAAANSUhEUgAAADcAAAAPBAMAAACy3Eq1AAAAMFBMVEX///92dnYyMjKqqqoiIiLu\n",
       "7u7c3NyIiIjMzMwQEBC6urpERERmZmZUVFSYmJgAAADEjrHzAAAAAXRSTlMAQObYZgAAAOZJREFU\n",
       "GNNjYGB4+//O2d0LGJBByez9mr4QodkMDDw/UCQZFNpZt54DMTj+MTBw/UGV3LCOoYIbxGD/xsDA\n",
       "9x0sxrfFxQkmaQyW5J7AwBDpCjZjewBCp1Q0iMF/gYHDFywaFIAwlsvjBojRf+/5FgOw0DWEnSv9\n",
       "f4JdW5/AwDoXIoTsILmHIMZOkAKQVo5JSkAAk+TmegBk/AVJFgAJNhSd3AwXIN5kuA+2YAKyJC+D\n",
       "AsSbHL/BQsdRdPIJMDAwAdWv3AoWYjGAB18jg+BZBgZe/b9nbm+GCLHeXooR8AjAJQ0NPggAAH2B\n",
       "SAzP/7V+AAAAAElFTkSuQmCC\n",
       "\" style=\"display:inline;vertical-align:middle;\" /></a>, <a class=\"ProveItLink\" href=\"../__pv_it/demonstrations/6d4a76c8afef1311edaf37cd3d7c58f6a0f3bae70/expr.ipynb\"><img src=\"data:image/png;base64,iVBORw0KGgoAAAANSUhEUgAAADYAAAAPBAMAAABdHiGLAAAAMFBMVEX////MzMy6uroyMjIiIiKq\n",
       "qqoQEBB2dnbc3NyYmJhmZmZUVFRERESIiIju7u4AAACOKgoaAAAAAXRSTlMAQObYZgAAANxJREFU\n",
       "GNNjYGDgu7NrJ0cBAxLgdTvzOWUTiHVtAgPrsgnIcgzMjBfevAIKvfEDctY3oMjxME3gFTjAwGD2\n",
       "AMhRg4jNcXExgMqxBhxg4PoK4kiBpWTuIfSx6x1g6HcAcV6ACD47JDNVpAUY6i/AbeFuQMil/E9i\n",
       "YPAXQLgA2S3sMwsY8kFOYQATYsZAAHMLwwFNBn8QmxWsuQdZH8MBbojP2MEibChyG5gZ+kFuqQOL\n",
       "cF1A0TedgfUnA0PUA4iQKyLMCtirNjAwvDq9SwEq9PrQA7SwRgLqRyBhBgEActk8e8zZ+EcAAAAA\n",
       "SUVORK5CYII=\n",
       "\" style=\"display:inline;vertical-align:middle;\" /></a>, <a class=\"ProveItLink\" href=\"../__pv_it/demonstrations/fd6d96a8fa1d80eb29daf8272b5460a0b6c3669c0/expr.ipynb\"><img src=\"data:image/png;base64,iVBORw0KGgoAAAANSUhEUgAAADgAAAAPBAMAAABD1xE4AAAAMFBMVEX///8iIiLu7u52dna6uroQ\n",
       "EBBmZmaIiIjMzMyqqqoyMjLc3NxERERUVFSYmJgAAAAdjRNVAAAAAXRSTlMAQObYZgAAAONJREFU\n",
       "GNNjYGB4+//snbMbGJABu+iZX4FXwMxfDAx8P1EkGbg4CnTUHgAZHN+BRCqqJA/LA/aGAyAzfgAJ\n",
       "/wdgQb6DglJQSc4JIEmeD0BivwFIjOO4AlwnsxNIkh9E+F8AiWkpIIx17G0AMvoLgEQ9WOdthJ2B\n",
       "/0NAjHqQivsOIOYBJAcxvwOpPw/ifQVbGbUKCKCSDAf8gIw/IFf+AwlxI+tkOMAL9aYqRDgAWfIC\n",
       "F8SbTKsgYukoOh8DQwroTccEiBjjBHjwGTCbXWDgXf839042VIzpjhN6wCMBFhtI8EEAALZERsGv\n",
       "6x6JAAAAAElFTkSuQmCC\n",
       "\" style=\"display:inline;vertical-align:middle;\" /></a> <a class=\"ProveItLink\" href=\"../__pv_it/demonstrations/0c52cba606b453408fb53a7aa9be2f37d41d67760/proof.ipynb\" style=\"text-decoration: none\">&nbsp;&#x22A2;&nbsp;&nbsp;</a><a class=\"ProveItLink\" href=\"../__pv_it/demonstrations/9113989455fdc479b29801cf0e47904c61b651040/expr.ipynb\"><img src=\"data:image/png;base64,iVBORw0KGgoAAAANSUhEUgAAALwAAAAUBAMAAADFKEobAAAAMFBMVEX///9UVFTMzMx2dna6uroQ\n",
       "EBCqqqqIiIgiIiJmZmYyMjJERETu7u6YmJjc3NwAAAC+aOQFAAAAAXRSTlMAQObYZgAAAp1JREFU\n",
       "OMutVU1oE1EQnmRjNuavOXgwRpv1poIkJ6EomIsQodIeegh6MEd7MhcP0kNysYgITZEqvVgRe1DE\n",
       "bEBRKLZ7sEITkBVvQrFHESGNaCoVG+fN7CaZ0IpgHmTy5nvzJt/OfJkFiNowgOXf2OOgzl8n+uBI\n",
       "sjmfeN4HhqfiR6JpAb1vVxNVzD0sI/UbS9u5A7h5xn5FGS9tDbL7TIAFQ2LXbPDP2RLbRiotgFof\n",
       "k6C3UF+zIVJmshULrUfdiBQISWGasbLA6rfRLGwIzLuFZg5AK8j0IZ+tGyYEuGhv1S3wxtAELEKK\n",
       "CHwqCGxR2XMyTv+GZsyG8LhT1Fc3bznp/XkTPjNqFzPgVOo8Iy+w1DmrF9vfUva4jAttomlgPx6R\n",
       "631pddhroyZcJ8dnXSUBTeJnmc+bAMcOC6xRUvadjBsyFXt8mhFya1a3ONmjBrwm5w2kqHYB/H2T\n",
       "aTTXp6ZBYGe75e3G0b0isv9I7nC39rn2BACnyECDWqwXwJNhZe0ArMYENmN0ddeJKyowifsr5Jo9\n",
       "rdXW0zBBVOPzSToIl1yFhbBVektgl+nBLRm3oswP9RiU6OITXE56MC9weh/K/AFF34VTfG0Imetb\n",
       "Apuhv6ch434ptfx200d72YPp4eLksZosrC9Qgo7sPd8FRtrVQGAk+1WVNEv+eG/6WJBaG8X0wU1G\n",
       "Tzr9U7JPmQJrqK8zIDAl+zBVg1t7T7D/QHpS2g/tMJuDjrIWsWSXLIH5sQaTzrGLKVZZUsUdllS+\n",
       "MxTS2khMPVO9/RT8Kz95Ojzm00Pt+OySG+pgsFaNZ0BgnkpzNnGftg956CVGxUgL9E3Sr7sM1X/B\n",
       "wk7PfKd5KLiDtwwDWf0jzV3Lg0lf+/vr5H/XXiwH8zKM7P4y/AOcuMYfYjeKmgAAAABJRU5ErkJg\n",
       "gg==\n",
       "\" style=\"display:inline;vertical-align:middle;\" /></a></span>"
      ],
      "text/plain": [
       "{A in BOOLEAN, B in BOOLEAN, C in BOOLEAN, D in BOOLEAN} |- (A or B or C or D) in BOOLEAN"
      ]
     },
     "execution_count": 52,
     "metadata": {},
     "output_type": "execute_result"
    }
   ],
   "source": [
    "in_bool(Or(A,B,C,D)).prove([in_bool(A), in_bool(B), in_bool(C), in_bool(D)])"
   ]
  },
  {
   "cell_type": "code",
   "execution_count": 53,
   "metadata": {},
   "outputs": [
    {
     "data": {
      "text/html": [
       "<span style=\"font-size:20px;\"><a class=\"ProveItLink\" href=\"../__pv_it/theorems/4ea963c046d617890207cfed720335385d2c3dfd0/expr.ipynb\"><img src=\"data:image/png;base64,iVBORw0KGgoAAAANSUhEUgAAAJIAAAAUBAMAAACUvHl4AAAAMFBMVEX///+6uroQEBCqqqqIiIgy\n",
       "MjJERETu7u6YmJjMzMxUVFTc3Nx2dnYiIiJmZmYAAAAutVgsAAAAAXRSTlMAQObYZgAAAfBJREFU\n",
       "OMuFVDssBFEUvezY2bWzbKcSGjrJVhohCtFaOpVPoVEQiVKiIJFIUCkkggIRCZNoRKVQi1AofLK1\n",
       "+MY3K8G979733szO4iRn5r2b8+7c3zwAi31hCC3Fhogi5jMt3H6mRTIHUOmHzwUUid3C/cYAwDYw\n",
       "DSp8ZsDyiCdzvE4FVBrl6PVhAcZxOR48Nye0mH7Hx5F4yFuVxsokQF0evHZQNLgQ2kTaPvE5xpvF\n",
       "c6vS6ML45tvBrQdFjdQJ0yLhPFEwGbVZ6zAqg0H00DQK0A1MgZNnWtTEPvDpKZubSxuVQQFgeRPf\n",
       "x0JBfJJpk8skXygyVXIv62W1yrS2MNN5puqpeHeFuMRlOss0hjJIfdG4qHzSkFIegwoHyzi2isZW\n",
       "IeKAWpphGsPS/c0bffmRDFMAWwBhRRyr7DxTD4W/ecJ1g/GEnVsq9lSN8TgvUU86O22I4euUkqTs\n",
       "YnmZyaCCxqmS2lsrFE+hiqNhD199uuLkhbyFFDROK/2m4twF6bane5zkwRlBbdUhzaVkGFRADwbc\n",
       "iOMEt0IBZVFm5s4deR2F5u9rDGeB5pJsHRBUwPr3zs2QSrZX+OvfwpgArj5HXkrhnjD/+IMVjsLb\n",
       "EorIHxz3mUUfzIX3UUX0VonedKVORhUwLPzn9p399/ZN+Io/EKGY5pXzMZQAAAAASUVORK5CYII=\n",
       "\" style=\"display:inline;vertical-align:middle;\" /></a> <a class=\"ProveItLink\" href=\"../__pv_it/demonstrations/e18b1a6d4d0c560d712b025c4599df910108ec5a0/proof.ipynb\" style=\"text-decoration: none\">&nbsp;&#x22A2;&nbsp;&nbsp;</a><a class=\"ProveItLink\" href=\"../__pv_it/axioms/64d599a7acc604adfa976ed673118f75c53672710/expr.ipynb\"><img src=\"data:image/png;base64,iVBORw0KGgoAAAANSUhEUgAAADcAAAAPBAMAAACy3Eq1AAAAMFBMVEX///92dnYiIiIQEBBERERU\n",
       "VFS6urqIiIjc3NxmZmaqqqru7u6YmJgyMjLMzMwAAADiRdoGAAAAAXRSTlMAQObYZgAAAQVJREFU\n",
       "GNNjYACBtwyogCf+68wQNyjnPojgAzMfgElmBwaG+RAmz/0NQJIVxOEpAIu8P8DAkD8BzNw1vwGk\n",
       "MwBIMG0Ai9QDBc5D1B2oTwBRN4A4E2KPMwMDtxFYHduG9QdA9Eog9oBIfmVgeBQNZm1jeA82gQlo\n",
       "tANYhO/rmRItiLIEhn6w3ewFDKxg8xnYfzAwbA4AK4ucGQ/WwK3AsBeinMUAqOAX2Eqgty6AxWYx\n",
       "SEEk+YG62L+DWAuAthmAxXoZFBjg3mT9BmRwACV5P0BMewPxGtib70FWNYFEf0AcGQQJAobLQMtM\n",
       "gOwt/28zcPl/ggTVTYhc7P/IqS4L0CKDoRuVCwDjpEGwITo9cgAAAABJRU5ErkJggg==\n",
       "\" style=\"display:inline;vertical-align:middle;\" /></a></span>"
      ],
      "text/plain": [
       "{not(not(A) and not(B))} |- A or B"
      ]
     },
     "execution_count": 53,
     "metadata": {},
     "output_type": "execute_result"
    }
   ],
   "source": [
    "Or(A,B).prove([Not(And(Not(A), Not(B)))])"
   ]
  },
  {
   "cell_type": "code",
   "execution_count": 54,
   "metadata": {},
   "outputs": [
    {
     "data": {
      "text/html": [
       "<span style=\"font-size:20px;\"><a class=\"ProveItLink\" href=\"../__pv_it/demonstrations/c67b99043642208c1907546a989eb39a544cfcb20/expr.ipynb\"><img src=\"data:image/png;base64,iVBORw0KGgoAAAANSUhEUgAAANcAAAAUBAMAAADsL7WcAAAAMFBMVEX///+6uroQEBCqqqqIiIgy\n",
       "MjJERETu7u6YmJjMzMxUVFTc3Nx2dnYiIiJmZmYAAAAutVgsAAAAAXRSTlMAQObYZgAAAspJREFU\n",
       "SMeFlk1oE1EQx2eb3aTJJjUHr0G9aC+CVxFrTh5t9CJSsNGDiCLGaLwVchGEQs3Fo6QXFRTaXAQp\n",
       "igVzLgs9aiFeFIo2FQtipNSZ9zlvd2snTNj39vf+b3bevLcLYCxsS3cs04t1wNt4x5l4R0JEIC72\n",
       "ULm1p+ivY+NydXM5vjzaenENCvF4uMiDW5vtdwJxsRnl1mbRW+paowEbM4YTDzu5WgxhIv4kwNQk\n",
       "EGIwEedAOuuZbQAUq7JxVXUuMKCL+ToygD44CBPJ3UGFib8gkD4bWepJt3Z/iM3cUXGdp2Fknxgw\n",
       "jfefVKEJDsJEghP456ECIU028r1ya+3pMv5fFNeFw/IJw4gB1zGWkw0Iyg7CRIanKAh8UkIUJuyC\n",
       "cmNe4xyV1ZpotEDO4vNEjwCevcRMDxzEioS7Ipc9iRTZ0JvKjd2DLoX6SDQ+4o8sy8o6P3p8fp0W\n",
       "qeYgVqS4Y5a/JvzHBtpnbK9Ln6D2xio2yvCBYjkr6AjeyAXBxOghPq58cxH3YuQgVqT0x2zXyGCw\n",
       "gn5MuXh+lMgvbS3TnuqKyKpQ6Ihq14nHIVlcef8XktsOYkXGfos0gkQklj6Zh8o1PVmpAfnF+GSH\n",
       "sMff0SoGsSIlceN0ymQqjWYyzFeJyr5CHVN6r1Ia9RDaZoWfGFbkIFaEdhgALQkhHksjLxCcLETV\n",
       "YFsXyIxSswWyIrdZt64LxCBWJKQCKTZsgci6UiW+phe0I3ZLliL7TvfrMk+sfnHIJYz2OB0Rqw7C\n",
       "RHDvZL7RJSECU1bRKZOH6d5lyNzdRekrtF9ppfwq2FygPd9b2rxBWQ06DlJhp/bXV1/kUdJR2L7H\n",
       "leRJ3VORxo4rZXPgICkiApn770EsN2bVbS8klfpuM0UkcRDDbeWutWLtbCJu590BqSKJV0zKyzNt\n",
       "JHt57jd9UoQQF0v9LBg/+LNg/uDPgnnp/wA+nNf/bIta8wAAAABJRU5ErkJggg==\n",
       "\" style=\"display:inline;vertical-align:middle;\" /></a> <a class=\"ProveItLink\" href=\"../__pv_it/demonstrations/87218fd1b9279fe6274a2c06ad51a545aaa26ee60/proof.ipynb\" style=\"text-decoration: none\">&nbsp;&#x22A2;&nbsp;&nbsp;</a><a class=\"ProveItLink\" href=\"../__pv_it/demonstrations/cd535d273ec00a794f84baff814c4ca40a1ab9cb0/expr.ipynb\"><img src=\"data:image/png;base64,iVBORw0KGgoAAAANSUhEUgAAAF8AAAAPBAMAAABw7A4xAAAAMFBMVEX///92dnYiIiIQEBBERERU\n",
       "VFS6urqIiIjc3NxmZmaqqqru7u6YmJgyMjLMzMwAAADiRdoGAAAAAXRSTlMAQObYZgAAAWRJREFU\n",
       "KM+Fkb1LA0EQxZ/RS+IlntZamFqLBLE34Ad2BrE5VHJgZeWB6SO2IgmIRWyS1soDg6gg5A8QFNIo\n",
       "Fgl2gnIinIYgxJnZEN00Luyb4Tf78XYW4PEGfcSzQWltqQ/GcvZGdEzlDRZL0qboYBooN3W2W4N5\n",
       "VFMHNjxSg3ncFeJTYaeoseo0SXlPytcSrQxJyBOSJ3DnaqzOuqUc1fIOhwea24rMk+UZ7y8bbrO+\n",
       "SDXsnYm1U5rLakMAPK9rrJBgvZTqBXxxGSILaSFWcJubgsYm3d9+OSgUOUZcGOINkRZwntFYstlb\n",
       "b9mlrBwSS+BGoaEULW1rbE5eLhKmtt8LPMG42jBKp0e+NJZkMeWaCjlNCTxEAr1vMD41Jp0f4CxK\n",
       "G0belZPX7sv4G/y0xgocJjjbZ9pSr1lV34Y6GZ31NGZ+U485rXaeYK58SJvwqNZvduzjhUq3J12G\n",
       "q0XbQf84AP5jP88pZENHh0v0AAAAAElFTkSuQmCC\n",
       "\" style=\"display:inline;vertical-align:middle;\" /></a></span>"
      ],
      "text/plain": [
       "{not(not(A) and not(B) and not(C))} |- A or B or C"
      ]
     },
     "execution_count": 54,
     "metadata": {},
     "output_type": "execute_result"
    }
   ],
   "source": [
    "Or(A, B, C).prove([Not(And(Not(A),Not(B),Not(C)))])"
   ]
  },
  {
   "cell_type": "code",
   "execution_count": 55,
   "metadata": {},
   "outputs": [],
   "source": [
    "%end demonstrations"
   ]
  },
  {
   "cell_type": "code",
   "execution_count": null,
   "metadata": {},
   "outputs": [],
   "source": []
  }
 ],
 "metadata": {
  "kernelspec": {
   "display_name": "Python 3",
   "language": "python",
   "name": "python3"
  }
 },
 "nbformat": 4,
 "nbformat_minor": 0
}