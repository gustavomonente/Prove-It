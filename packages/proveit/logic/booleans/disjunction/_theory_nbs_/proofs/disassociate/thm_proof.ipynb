{
 "cells": [
  {
   "cell_type": "markdown",
   "metadata": {},
   "source": [
    "Proof of <a class=\"ProveItLink\" href=\"../../../../../../_theory_nbs_/theory.ipynb\">proveit</a>.<a class=\"ProveItLink\" href=\"../../../../../_theory_nbs_/theory.ipynb\">logic</a>.<a class=\"ProveItLink\" href=\"../../../../_theory_nbs_/theory.ipynb\">booleans</a>.<a class=\"ProveItLink\" href=\"../../theory.ipynb\">disjunction</a>.<a class=\"ProveItLink\" href=\"../../theorems.ipynb#disassociate\">disassociate</a> theorem\n",
    "========"
   ]
  },
  {
   "cell_type": "code",
   "execution_count": 1,
   "metadata": {},
   "outputs": [],
   "source": [
    "import proveit\n",
    "theory = proveit.Theory() # the theorem's theory"
   ]
  },
  {
   "cell_type": "code",
   "execution_count": 2,
   "metadata": {},
   "outputs": [
    {
     "data": {
      "text/html": [
       "Under these <a href=\"presumptions.txt\">presumptions</a>, we begin our proof of<br><strong id=\"disassociate\">disassociate:</strong> <a class=\"ProveItLink\" href=\"../../../__pv_it/theorems/64dfc80dad20ad6e2cf554242a75acfee03c177a0/expr.ipynb\"><img src=\"data:image/png;base64,iVBORw0KGgoAAAANSUhEUgAABBsAAAAZBAMAAACC6zvvAAAAMFBMVEX///8QEBCIiIhmZma6urrM\n",
       "zMxUVFQiIiJERETc3Nzu7u6qqqp2dnaYmJgyMjIAAAAcRTyBAAAAAXRSTlMAQObYZgAACatJREFU\n",
       "aN7tW3uMVNUZ//bO8965d4d/tD5KM6VGFy3uJIuLylqGmLBNTcPsNkUTUSbQrZTUMpZGLJY6Egsj\n",
       "ttlpmyChlb1qAnR9MHFd0UTjKPSFpZkCGlJFpqX9g/7jZoEVaNGe1z2Pe89dZvynzWZOMnfu+b7f\n",
       "/b5vzvmd13d3AZov962vQLvM3NK/vtYKvNhusZldzEKbDp+xPDWzfk6qQunQwJXjTdKhE3859TYZ\n",
       "wCqRr1ijtcd0+Pc+XdVbzjVtwlk71bP6sRDlM5t7679uPhwJ/h1Kh3fw/b+apINdRV+dbpsN0Em3\n",
       "UZ0TXJIn3R0kgFDKeBl9BUDk7PRWZHkHYuKivFZlzAYYm61zrA1Ihr9I6bAdf5WapAMBbm+TAeAI\n",
       "/frwApcM4cvhADCOG97JgA8voWMXAaKnp7ciy1eg2XlpVqeytqCRGjmvc6wLSIHbGUIHPNbJoG9q\n",
       "74CnkXfaZAD4IV0yxs5zyTJ82RAcjHh7lmATqsBLaAPJnMnprcjybjQxncjoVJ1XoUt0lsaxNiAF\n",
       "bs0idHAOjo4+2fRW8oPR0d+0d5So4WgjOMYZZfmIZoPQU+hzu7fuc7yETqKOeHrDJaxI8kdR333O\n",
       "1akW4WEdy2ocawNS4f+gJ4tz5fKPmqZDulzeUmuzAQzaiF9LXRR7cyRKahIzY+jzOLsXeAmdLkDs\n",
       "QfcSViT5FMCda3Qq82MyzCsax7qAfPD9lA5D+of0dEALT/L/PxdltoDNfyYPSXK6snKxSaV57tJA\n",
       "E2gEsr2ZjBfoFfcf3lK9lBUhj00d73pYq7Inwxxr5T74h5QOt4PVAGttc3RAk9KLtD30pODE+urp\n",
       "/auDkOhwX6/CPWdznxGEKdIo74LpeKgoa2H+NcG9LMTHVtXmhh7v1EATVRqaibeArPvmAHxLN5Fk\n",
       "IJ7zfgrG75pQ0WgvYF3Ouy7EipDjrcbTBZ0q4R1P7vI71gbE4bTso3RIgIGo3h92UF53AL5YEGmo\n",
       "Iswj9ye0B2WHL6XOLLBnBQF/AXhLHsZ/B+vR4OBWpEnv5sR0Z3NZGa+E+g8GF+GdvDMDe8Ie8Qfa\n",
       "Qdwt6+k9B/CNBVS2G48rTYaiyEaQh48WVTS2212N9RSnsyLkeKth/Fun6iDHFssLSHKsDciDs7KC\n",
       "0sGuJ+jKESzP7b8NXrXdiCvocIjmJq1F2lzUs3wpjRQgdSEI6AV4U9oFjaBWPRYAqVKPDp5Lh32U\n",
       "ClPWyWe57F8Hl4OzCkxqIio7JWGFFVrxB0rpgC5fAD6UIlX9CW0hP4tRvJ1V0VOYDhnGklArXI62\n",
       "GmBM6lQJMu2M84AWhhwCmZzDFTqYDXxS+ZluED2xw4U3MllbLBawk5xTwN6d1Tk6uI7PphmIaFj+\n",
       "fYCvSFW8hx0MgFSpRwfPpYEadRuf+FiFKa8hP2lI9q+DK8GdYtIEWmJiGWGFFVrxB0oWixT6PCDo\n",
       "YDYS2tbf6WX3GZ7uOzgapx1gbc6jQ5gVLsdph/gZnYqmEGo8oJ0hrxWYnMNp6We/+nG88GCVc9vg\n",
       "l4xr8+yOnUbGx38h0yG5jYyLwaRukxLLlL3bvXm4MXjmtc6CIWVADTxERwNrmyr16MBdoq9buJZV\n",
       "mDJJJv+i4l8DV4Kbx6TdSGK5wopwH6kEAiVd+iv0+UjQAX5yWL+tuYclCRg+XVHQeC8Q42tIqBUu\n",
       "x2mHFSU48u6c7JwhRWXiOcN2eUDcsT4gD44tia0kjKE4YnjRdBbXO9YYBXZXoa8zxu0Xlkt0SNF1\n",
       "qRBBlTWBhBcsAHMjuV06rwsZivsYEZ08vFkeY7SDfaiEyjSPDtzlAfnNG6tg5ZN1sHNomJOcgPCv\n",
       "gVMlK68w6UO0ijwQK14hlYSf/HjCJ36GK4IOy2jyYG+DXaxP6CC5zxW5CoQfUNDQiZp+8VZBByYn\n",
       "D0tWOP5vCHqFC0dnw+XutarqzTqkbhX89BxzK3sbipzBkaUrUa2P0SGNuGLg37vjOkjnIjV251pZ\n",
       "urbU9kt0ALJqOVVjApZf5afD+9CNqEpu/wxwHcTe8tHBboAhTWBpMlP5Uemajg7C5R5p7LIKUSbz\n",
       "+MXSLRAtKf41cKLkxwwm/Q+pYQ/ECp/QcCXtz7WgvrOGP3Hh1U/XCTp00tUsUfAuD1L5SWrIw3cp\n",
       "6PhHUz2rnwBBByYnD8tWmPx7+IVXFcxninAGd6H8iHXzt+eDNF2dBBEQNyfkFI4t4cnvn4wODmqz\n",
       "JJk+ViLm0iPUSlgMsYfK5U2IDk8lZDr8lbzv6PvDhWAu1Tr5p2EX6Ob8p2hHWA3kSJM1MKVNMV6u\n",
       "rbofxaQ+OgiXdm6XRDBSIcoOPPrRzjBaUPxr4FTJyr1MircHL1AP2IqYUFDFFxJPUvNVlw5/Vz/N\n",
       "71Crm/Rojw5hVnzyeAbN6A/rH+nXOw4JKJ7BiWp03hDTaMc38fUyxNyRGL3ri0GBzg7RQZkOpNwK\n",
       "5tkgHdAJZCTPXoehTl9aCdAhXYXoeTjyxpG7f0seQFg7kFinUmfh8ZpMB+HSKt0kUZBUiBK/WtsT\n",
       "ydMDvPCvgRMlcnDT62ijtIRJb6b7qg3MiphQUMUXkniFpbR+k+UyfeYr2lryvyNvlMwJvan+Fi1F\n",
       "annvFRbrJwO2u+YEmhWO2fTuB+NAuuwowAd+OkTRQLlIWg5Bt3oX+DqyU3fQBLAVzAtgfp50tNAj\n",
       "xIgLP6/BS42O6uv4WdgI1h+DKCJNdTF/SZ9LdNgtcMe0QpU4TPs9xnPuXwOnytSNcHWqRn8dlibq\n",
       "8HyFzT/IihcRqfhC8qW99rVGhwn9Bi/VGh1G0Kh2SvoXBvtatJS4I++94GYj8gAMVNEsewq2HaR3\n",
       "X65DEk2o0R/n0A7RR4fhEmz/uI5bbqAauxIGKvhSTZ4Dc3hjJAexq+H3p3tW50h3oArVVwaq9iM9\n",
       "vY/hTPdumI+fBXvV224AxaRDLE2X9LkkBwMPTStUOZ8eXUiPCv8aOFMOWUUULI6ESOF3fdezV4PY\n",
       "ive7qEk1JOB//oLLLx9Z2VLz92nTaeaCqUwrVpZAZ8X8rnZhaTGgJWAcYm8x5GRnNXDXVd7kS1Ir\n",
       "ZYPuoUSKHrBpxZUqHJuAMShWpboWVTSOqllJz6VIpKkVbBJw+9wAsv8wOBRTWRxsQ5USD0ori4oX\n",
       "Ei4z7I/jnIqPDqlK8C7wzkIug6ermofsuQCveXmI7oWiIrC74BpYWeF1PcoqpA4F6IBdhpa3K/60\n",
       "NrEcVqyCkYvPhVQ98KPCn2AhzdQi08HR3E1Lh/CHlBauh5l1mkKps0NTJdrKH3M+C+2io8Oly/r/\n",
       "yf9ZRFp/5LUWsNe3WcAPJOsL/wU2GTbIGHOMvQAAAABJRU5ErkJggg==\n",
       "\" style=\"display:inline;vertical-align:middle;\" /></a><br>(see <a class=\"ProveItLink\" href=\"../../../__pv_it/theorems/cbe470770c3327995f38d556df8a28711ddaf8ee0/dependencies.ipynb\">dependencies</a>)<br>"
      ],
      "text/plain": [
       "disassociate: forall_{l, m, n in Natural} [forall_{A_{1}, ..A_{_a}.., A_{l}, B_{1}, ..B_{_a}.., B_{m}, C_{1}, ..C_{_a}.., C_{n} | A_{1} or ..A_{_a}.. or A_{l} or (B_{1} or ..B_{_a}.. or B_{m}) or C_{1} or ..C_{_a}.. or C_{n}} (A_{1} or ..A_{_a}.. or A_{l} or B_{1} or ..B_{_a}.. or B_{m} or C_{1} or ..C_{_a}.. or C_{n})]"
      ]
     },
     "execution_count": 2,
     "metadata": {},
     "output_type": "execute_result"
    }
   ],
   "source": [
    "%proving disassociate"
   ]
  },
  {
   "cell_type": "code",
   "execution_count": null,
   "metadata": {},
   "outputs": [],
   "source": []
  }
 ],
 "metadata": {
  "kernelspec": {
   "display_name": "Python 3",
   "language": "python",
   "name": "python3"
  }
 },
 "nbformat": 4,
 "nbformat_minor": 0
}