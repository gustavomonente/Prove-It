{
 "cells": [
  {
   "cell_type": "markdown",
   "metadata": {},
   "source": [
    "Proof of <a class=\"ProveItLink\" href=\"../../../../../../_theory_nbs_/theory.ipynb\">proveit</a>.<a class=\"ProveItLink\" href=\"../../../../../_theory_nbs_/theory.ipynb\">logic</a>.<a class=\"ProveItLink\" href=\"../../../../_theory_nbs_/theory.ipynb\">booleans</a>.<a class=\"ProveItLink\" href=\"../../theory.ipynb\">disjunction</a>.<a class=\"ProveItLink\" href=\"../../theorems.ipynb#leftward_commute\">leftward_commute</a> theorem\n",
    "========"
   ]
  },
  {
   "cell_type": "code",
   "execution_count": 1,
   "metadata": {},
   "outputs": [],
   "source": [
    "import proveit\n",
    "theory = proveit.Theory() # the theorem's theory"
   ]
  },
  {
   "cell_type": "code",
   "execution_count": 2,
   "metadata": {},
   "outputs": [
    {
     "data": {
      "text/html": [
       "Under these <a href=\"presumptions.txt\">presumptions</a>, we begin our proof of<br><strong id=\"leftward_commute\">leftward_commute:</strong> <a class=\"ProveItLink\" href=\"../../../__pv_it/theorems/4a6f7f317f443053b2b76c5f419d0932c0a00a0c0/expr.ipynb\"><img src=\"data:image/png;base64,iVBORw0KGgoAAAANSUhEUgAABGoAAAAZBAMAAACbYNVJAAAAMFBMVEX///8QEBCIiIhmZma6urrM\n",
       "zMxUVFQiIiJERETc3Nzu7u6qqqp2dnaYmJgyMjIAAAAcRTyBAAAAAXRSTlMAQObYZgAACjtJREFU\n",
       "aN7tW29sHFcRH9/d+m73bm1/SEtaGnSkVRskgg85OLR1yUWVSIWEfDaiVKLgU0JSE5XaEOSgtKHX\n",
       "0CZuCvIBUmoFiNcFJcEVYall0UqN6iZBQErRkZSoQIoPypf2AzFO4zgpTnj//+y+M3sSEpVyT7rd\n",
       "N29mZ2b3/XZm3lsbIHp7YHsZGu2ab4ntj9QjPth4Yo2G274Gav5Xza5cC3f5AkVNFZ/eiIiaFnxy\n",
       "Kw2IGNphevpifVdZVcPgM7s7Kz/Uh85c3dQ5nI+s1h2Y7+h/3Mw7c3V3/+46ag13YGHL8JcZ0Vwm\n",
       "qHkF99+OiJqMj04tXgMihvYWPZ2TgCDHQkiwIJnoYc6GpWMrACZXBCSXA8QvRNfcVAJYVzAbvYKQ\n",
       "8K7RGzA634qQPePTcadKUDOKg2spImqI4GgDIaY3MkdP58Q71YyfuZsNSW7Gh1OM+OvlkLSzB6mI\n",
       "X9IlrUVUhp6PrrkPJYTunJFlzaHDR43eyKaa6EOneBtjHCOowZEj40eta3BQeqUBEUNL0pj/7DoR\n",
       "+60iHg4H5nvxYQd7dScvhaRbbsQLlTZdMobk3LnomtuRGzNZIyuGQ1Z3xeCNGmsUE+0IQYlFxhgn\n",
       "qHFPTkw8HbkaPjsx8dNGUWxq7BlW2vNazro7LNmCJjTBwoAbeyckvQ6/w1ZOl0whFI3viK75MYTI\n",
       "93lGVgonxbFpgzfBhMtMjOB09G8unydrqIXh4Ucio6Z1eHjPdAMihnYz3cvwXpJrhUn0ezIsmUZz\n",
       "lGIR6VPpxaC0fZEEobIu2VoEa8iLrnke4HNbzaxWXGZ0Fw3eqE0xsYBvbJ6NZ3IENZuNDtRADUp3\n",
       "qcZWn6l9hxx/QooAnrRQyCiZn+N9LEHlrbmgdGbOJNn3lVN7/Oiarfk3Vj1cwyjxsH06zNAzrjBB\n",
       "XIzxWONWCWruxnWxMxANNSiWHaFhzowdgb97zh/vD4skRro6NYi6u7tiWOyeeZN4YDjBO0sCV2Oa\n",
       "3ajhjOIPYT/YWft1CjlM5ygPYznxuGNZaDYtllcCfInfkY0q3IOzqnTygkkS1SnO9dE14zJovGg2\n",
       "issUGMhzrEiG1qQJUgc180yaHiSoSUIMBdUNtfYTtp2ADxblLt8grCb9GePegSuytNsGmbawwB8A\n",
       "XlZ3xv4OzmNM3LrBoE8bTvHOzFIbFxqzhhtGZ1R/GLunJjxDDi8jT2tTx0AJrA5a+jmD7BULtEN0\n",
       "/YpL0Y5OFP4Tg6p0E1lVOQFJ7FW7H1kzLoNi75qN4jIF/gWfWRtkaE2aIHVQK3+K1ixBTaaCghEc\n",
       "Nznx7PG74PmMF/ckal6lO8TOOuNW349Flo4XIX05LNAJ8JJSo42hGX6dicOWsLg+zFHDjbvspxGM\n",
       "yUjhRoX9QCFUZ+gQ9Ueym4u17IQcXsaiYVOVwwDgTvN6M+7zRSsy9wFaKkjpJIk8UwFJXFa0ZyNr\n",
       "RmUQxObMRnGZ4i6KQCEZehMmSB00U9FRY1fvFWk58D49td+Do9lcRmYoOECWZJA5lDNZOrlNpMUs\n",
       "xA0Q/hrAJxQSl+G9TBxuMyRXbZijhhuP5ZVPIpxgTEYKN25BNyoiNiNUZ+gQ9UeyY4O17IQcJhkK\n",
       "Pf5km0TNAfNHGLuaZNEe/b6K7quiSpOdGpjWJfF2Dc4qUTXj7RqRVAKqMJjGSwI1ghFowgSug5zl\n",
       "Iq/TDAVP4rSGXXXv6r05dmuB9djCa2rqeypqUvtIAuhNmYoxKzvMuz8vwEfCGwrOBYgp+9AxHAYm\n",
       "mHgwW4SHOWqEcXS6XXAZwZmUFG6ga+NlRREiNGfIEPNHsHl2M9gJOYxfO9unm718blNfyBon5Am2\n",
       "q/YDupfcWlalbTyrGU+XxHWKtRBdM96u6SvB6T+uzK3cHFCF7sv5J8ii5IlT5vqQm8B10JEqwwSv\n",
       "hmESeWLhx+OurzRtjRVZr0w/UU1lfna/gpo0zYbFOCK2hjYUYS3YO0m3e/UqpKg5AJzE3KndaigR\n",
       "0OtGv4fCGtlwADXC+AklfnACM5+ucFK4kckrX2opoTlDhpg/jI2mv7lKbsFgR/eMpXi8Z5O6JOfW\n",
       "eoDcv3MFvwBVfkDlDN14sbHYSBl6NGlAa/f0HXwPjm3RtKD5Wb+3tmbSUeT/hkSXe/DaCrjeuzWg\n",
       "Ct3XhpyCGsYQDjJd3B2M68Q2jgmIT1PUtCJMxfDz2n8btObxKOl5To4m2OnjCmqAJEvXj83C/TcG\n",
       "UfMXaEfQJd3f4wBuvRxATabKgj7LmGL5h8ThprBGOhxAjTR+WIkfjCDMVIGTwg2npIQLSmjOkCHm\n",
       "j2BD0zS5BYMd3TM6B4evvg3pkYs5MbfwJj0N4TekyA9o4siTdUauePD81W2wSpd2Pr5ljdico7m4\n",
       "+dx8R/9TALU1D2nyD+FvnT7YzwzCO9AVVNXZfzsoqGEM6eCQZgLp2vKtMsMEki5Q1LionyLRaCOC\n",
       "fdKnvfVgfWN4eBdCzY+SKmr+jA9Hun5zObwP7bz5uxEPaFD/Nip1/dCud2oabKWyT6JZcipMPN0W\n",
       "1siGddRI45n8QQWRhCDMJkFKN044ykKUELozeIj7w9nwC7qrbrCjeya/KIjcT9p+8wLM1h/LrtrS\n",
       "djBY16e5OYuSyMNmVQI1tmfWFTSBMYGXXLLIa/osPl6HYD9m0V6XBUUaaxK9KmpIuwPsC+E5Rmut\n",
       "sQL7Eoqmo7scQk2rD4lLcPro6c//ilyAZDNcfDwf1kiHTx89q6JGGndKH1MwSwjCHBWkdONwXPkC\n",
       "TAjdGTzE/eFsZxlFjcGO7hmIr5f63EZr1xUii9apuakQK9mzNdRvqHMfk2CCfb1k0xmDUc+eRXh6\n",
       "PUN7X58CMrOvAZwNoiaB3sdFMnFIdC8/wKeRnoqL3uC9YF8G+ybyyCUfSYx58N1peK7a5L+Ir4Wd\n",
       "4PwWS1hI/B/kK5oUl8PPlZIKaqRxgFeLwgVKUOZZzpNuQOYMCOWE0J2hQ8Qf1u/z4ECefcEL2Ql4\n",
       "BvoOf7q+uZ3NRhatU/MYijZuqcYnoF/WBxqKCfaXEixMnIAeP1GEt2DfSdr7cAVSKFklvplHRW4A\n",
       "NSMlGL1YwRPX41s3QE8ZH/zUAtgjO+N5sN4Pvz7f0U8fOSIov9zjZx7t6Hwcf5Y4BGvwtZDZdMxj\n",
       "4ps8ghopLoebC/cpqJHG6UqGiVOCMtdwnnSDLIm4r3R9pDlDhqg/ko1rUoKakJ2AZ7TeEc937Xy2\n",
       "nvnoykeeuTo1fxJayvaD5gz0/Uc31oUahoky6H8B6od6q4Z3Bb4oaG2H6aJkmu5DUMJTCCGbhEkY\n",
       "9CWdVjVKQmqB1Xltb5gbZzuoPHVIR32dR2Zee3ae8r2FOqPxvcC1NewIz8iMXhN/4vgn0FGTLod7\n",
       "oe9Qaus97xsuynyI/XEpXry13ykJKXsQboGNZUm/oGoUhOwdhBcrQdRg0ZrtmH4DxI1ajTlTqy15\n",
       "rfDsGmsKalxDb0nU1L5Ie5KVWmrdpcUhNB8paLT3Gmr+e9v+f/5/qHhjvt4LLbF96D8ojI1OWkRP\n",
       "agAAAABJRU5ErkJggg==\n",
       "\" style=\"display:inline;vertical-align:middle;\" /></a><br>(see <a class=\"ProveItLink\" href=\"../../../__pv_it/theorems/c4bbc496863a0594e4dc60930130ec49a4fe60bf0/dependencies.ipynb\">dependencies</a>)<br>"
      ],
      "text/plain": [
       "leftward_commute: forall_{l, m, n in Natural} [forall_{A_{1}, ..A_{_a}.., A_{l}, B_{1}, ..B_{_a}.., B_{m}, C, D_{1}, ..D_{_a}.., D_{n} | A_{1} or ..A_{_a}.. or A_{l} or B_{1} or ..B_{_a}.. or B_{m} or C or D_{1} or ..D_{_a}.. or D_{n}} (A_{1} or ..A_{_a}.. or A_{l} or C or B_{1} or ..B_{_a}.. or B_{m} or D_{1} or ..D_{_a}.. or D_{n})]"
      ]
     },
     "execution_count": 2,
     "metadata": {},
     "output_type": "execute_result"
    }
   ],
   "source": [
    "%proving leftward_commute"
   ]
  },
  {
   "cell_type": "code",
   "execution_count": null,
   "metadata": {},
   "outputs": [],
   "source": []
  }
 ],
 "metadata": {
  "kernelspec": {
   "display_name": "Python 3",
   "language": "python",
   "name": "python3"
  }
 },
 "nbformat": 4,
 "nbformat_minor": 0
}