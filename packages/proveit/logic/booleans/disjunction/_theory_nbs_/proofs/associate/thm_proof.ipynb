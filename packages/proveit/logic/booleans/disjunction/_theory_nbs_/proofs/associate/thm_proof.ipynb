{
 "cells": [
  {
   "cell_type": "markdown",
   "metadata": {},
   "source": [
    "Proof of <a class=\"ProveItLink\" href=\"../../../../../../_theory_nbs_/theory.ipynb\">proveit</a>.<a class=\"ProveItLink\" href=\"../../../../../_theory_nbs_/theory.ipynb\">logic</a>.<a class=\"ProveItLink\" href=\"../../../../_theory_nbs_/theory.ipynb\">booleans</a>.<a class=\"ProveItLink\" href=\"../../theory.ipynb\">disjunction</a>.<a class=\"ProveItLink\" href=\"../../theorems.ipynb#associate\">associate</a> theorem\n",
    "========"
   ]
  },
  {
   "cell_type": "code",
   "execution_count": 1,
   "metadata": {},
   "outputs": [],
   "source": [
    "import proveit\n",
    "theory = proveit.Theory() # the theorem's theory"
   ]
  },
  {
   "cell_type": "code",
   "execution_count": 2,
   "metadata": {},
   "outputs": [
    {
     "data": {
      "text/html": [
       "Under these <a href=\"presumptions.txt\">presumptions</a>, we begin our proof of<br><strong id=\"associate\">associate:</strong> <a class=\"ProveItLink\" href=\"../../../__pv_it/theorems/31a10af317ac30c6b203563210996848c6f7f5850/expr.ipynb\"><img src=\"data:image/png;base64,iVBORw0KGgoAAAANSUhEUgAABB8AAAAZBAMAAACLAJuVAAAAMFBMVEX///8QEBCIiIhmZma6urrM\n",
       "zMxUVFQiIiJERETc3Nzu7u6qqqp2dnaYmJgyMjIAAAAcRTyBAAAAAXRSTlMAQObYZgAACY1JREFU\n",
       "aN7tW31sHEcVf9679X7crp0/+CgfgiuNqIsINnJxKHHJRf0jCAnlbESoRMGnmKghUslBUNO6BF9R\n",
       "Sd0U5AOkNGrVeKOixnVpu6plUaRWvcbhK6VwJFUVIEmvFP5o/0mUNG4+SMN878zOnm9dooJqj+Td\n",
       "mffevnn75jczb96eAdKXm7dVYam8m8vabbWFiJeXPPZuL05pCRAL9ln9sql68L9VkLuMS/avGSAa\n",
       "+H4sJSA68M2vL2pATNKb2VjYY9/QSW4FOXPLXO+mu9KreenScN9YQTS/pensGr7FSb/uS+LtVQqI\n",
       "53Hj9ZSA8EJ06wgWNSBeo7eOk5xgkmtREyxGTFRO6NIdeAjaECpWF+fXJNOvAMicEZzH4+wr65D7\n",
       "dD21YZK426CA2I1vlZSAIIK7FzUe/B56P36eU9qxg/28JrkRXw7xx04EmvRhfBlCw7GuZ35NEt28\n",
       "CJA9LTheXmVPjqDL6mpawxTx/RQQeL6TiZ8qhsBLyfOLGhAWdZ87fU7MXxyIWfqyuR5fRljjUe52\n",
       "Sfp2fOlG9Jfz82uS6Abq1j8VLfnLVPYr+LomtWGK+F4KCP/g1NR9qYPKo1NTjyzu2JL5yjfeUDaR\n",
       "G3RJvCNk2dyHenchLu0QR96JRvX9wfyaJLqNELB3JOL8U2FnLuDrl9Mapop3FOgp4+zY2PdTA6Jz\n",
       "bOzu2qIGxFX09sXcRUGaRn/3JBwBkM9tti5kg2frcWmDgGUO4KubW2iS6J0lMG+VJv2swp4gGHsk\n",
       "rWGquNdDAbEx2YZkQKBtyV7c2amf0KW6YEbrtoVW50qyv25k1V/AUD4ubWOImHPHuu5oqSmiD91y\n",
       "6G55gz+usP+cb/JYsmGquN+ggLgBx5fulnSAQCvN43TpSoaFgNYXTs9u0kWy4/19Cvr8Hf2GLqZQ\n",
       "s7wyLxJlptbLvCY0tYKVI8O1a6TmHcwoB0d2dLyNPLQXEp78GMA3WbUAEz3MyULaCllMsLfUSlNE\n",
       "RyGH+z6J8yuFPcqPK5VUho0qJ5BcmQLCAgNBdW0Td5hbD8CVpSgxVYYVpP5yITEEFxurvwy8ZbrA\n",
       "XwCek5M8/wD3Tj31o1BtXknuMokZ62VeE5pawcqePEzKL/IeGpf19p1Fu+9KulyU2SyJlX30KIe9\n",
       "ONy7pcKcLKTbCiwmMC600hTRsZ3d0hIxpLA/SjaTwOwtpzKMifOhPkkB4dUtvhfFy6Oz18NTXpAJ\n",
       "IkC8QPOV7urE7NRDYmPNlCB3XhfoA3hW2gEnkE+OaEIqlQOCd+mzP6XBmHX6J3phbRbXxZiCJPpL\n",
       "UO0giPsVDRDoiY+AmEarkk9emZAf39Aq19bgTubSBBAoJgDjVCtNEX0OAyIfA4Rgj5KZXoRsOZVh\n",
       "XFwFhNNYL7bG2Hy/9/4Ansn3eNGWAXvIWQa8fT1JPR3cKravPGQScnnfBfi81MTR7KAmpFI5IHiX\n",
       "BvLjLrGWsgZjLqevJHpZLmfn40xBEv0lqLZQCG3m41tGDv19JwLEnuSsvtOwWA2531rGncylyZaB\n",
       "0xDtb7TSJOg4DQFbpNVwrcImZ1s0XBwQLQzj4gy1bMuAe/B+gk/V/vWDVxkfL7IaO7HMzPxMBoS9\n",
       "i1gzaCcFK2Z+jFefKMKn9BOwewYMKStq4DVkStswVSoHhOgS3a4TXNZgTCSbqUq90HakSGFyktSf\n",
       "rrobvYQbxIPKB1jqkQ2j/fV84jD+iKWlnJBmNs8p0iSoxGmIoUpLTZyOQw7zrDRSxxX2BL4djADR\n",
       "wjAmTkdbBJUwjZ428Tbpr6m3bTZKrFalnzlmvMdukgCRo5tdKYMam7WMGqwEZzuprlvRhRS1xzCR\n",
       "PXVohxwF0yGOSVkq1jggRJcH5G9yrIGZ99XBK+AZznpBsrTNlxiZKZEkK3TVt8XfcZZnEMarYhjN\n",
       "m8kbuG/xyxN0cVw/EuUu7HPUyUKaHPPgFWTRFUFcE1Ega+L0DqRizU5ppPoVNj4LTwcRIGTDhMrI\n",
       "MCZORxsyNQaIToQTAzvl/quhs4DJpBa4ZBWegdqsBAggpy0/NE7CTR+MO+vv0I3QR6p/ArgazOdi\n",
       "gPAaYEiLWCdJacSlOmtJgIi6nJRmPWsQpl3En4uu471gWdrmy5PElEmSFbrqf8ffEY2cO/5WAE9d\n",
       "2hqF4q/S2638YlFYddBNbvLS65Abf7PHqCjSeNS+jb9VhaBpIgokTYzefmKud9O98kj9S3kMHtox\n",
       "XIAIELJhQmVkGBMno42IRQYIHzVssrRsgAG6s6HaGjBvGxv7IQLEg5YMiL+Rbyr9vz8fpWWFe1/9\n",
       "43gAdBr8GC1IoZY3tWvgXJDWAvRKbj0uxagxQERdeoWHJYiRBmG24VntlkQvI7wtprzElEiSFbpq\n",
       "HF88lpC6lndw5NLkE4qjvpidV6VvT68pTucj5ZYT2QIQ6QzbQNLX+0CKuNq+gq/vhS6YMGmt34QS\n",
       "XSGygzIgSPkcOGd0QKDTyESRfShDPl9X1QDRGUL2HBx+5vDXfkMeqJCYJiZFqf6qYzUZEFGXbuUz\n",
       "EghJgzDxR7fJTJH3QmRJW0z5iMlNwCTJCl31Z1GlhsSPxj9uKcOYrlAnR+Xw29YkRspLjhGy5QVq\n",
       "Q6PNP26xkTJgd+CcRFg54tHa92aADNqLAEfjgMii+XuReByJ7uQX+BLSU/fRDNwJznlwPkycHPGR\n",
       "xEQAP63Bk4228Gn8LGwH9w+6FKHmulh/dqxLdPQtiY5pgzKxmd5LOFYivdDVBLW5bpnJTKAkYUWC\n",
       "aqsOv6zCkxVLz73xtFDqgpzcNJm2ME18pJLTDDTHtCBtaLT55282Kw/AQJgtwWuw6yCtfbIONlqT\n",
       "sj8ooFgxBojxCux+s449PhCaH4CBKr6E9llwxrdnCmB+CH53undTgTgZNSi/OhB6o719d+H89z64\n",
       "Fj8L3vD+QJNi1I0s3WbHuiQnGC5NG5R5LT3GAOuFriaozS2UmcwEQoqsSFANv+3/BBa/UQotRPn5\n",
       "6IaFOB45Wd1iK29XEx+pJh8dnJVz+YVpw6NdhdhP6EKt1oViCDV1rZSRpIesHD2m00YgNYSsBdNQ\n",
       "DqV2olTZeFHNVPIuwVW8GpkXSmk3LqvsRoGU5Z+OyxNANFFtwQpx9v9/+gmdfxm/K/0VYoCIfp/X\n",
       "7Jd6MUAMng4THvKuYT/Pw5F796qoEck+DMthQ1W0k6XcUu4FDRC4y6Zlf1Uzr2lhJsg5FGxFc/Gn\n",
       "F8fvBmVA+Am1eQHR/CHFefVmav1UUuoKsVTeOUC0Ltv+J/+XkVkapnesrN1W+g9AbEbQZuBEnQAA\n",
       "AABJRU5ErkJggg==\n",
       "\" style=\"display:inline;vertical-align:middle;\" /></a><br>(see <a class=\"ProveItLink\" href=\"../../../__pv_it/theorems/445b224aab408aefad57e8094e26fceb95dad9f40/dependencies.ipynb\">dependencies</a>)<br>"
      ],
      "text/plain": [
       "associate: forall_{l, m, n in Natural} [forall_{A_{1}, ..A_{_a}.., A_{l}, B_{1}, ..B_{_a}.., B_{m}, C_{1}, ..C_{_a}.., C_{n} | A_{1} or ..A_{_a}.. or A_{l} or B_{1} or ..B_{_a}.. or B_{m} or C_{1} or ..C_{_a}.. or C_{n}} (A_{1} or ..A_{_a}.. or A_{l} or (B_{1} or ..B_{_a}.. or B_{m}) or C_{1} or ..C_{_a}.. or C_{n})]"
      ]
     },
     "execution_count": 2,
     "metadata": {},
     "output_type": "execute_result"
    }
   ],
   "source": [
    "%proving associate"
   ]
  },
  {
   "cell_type": "code",
   "execution_count": null,
   "metadata": {},
   "outputs": [],
   "source": []
  }
 ],
 "metadata": {
  "kernelspec": {
   "display_name": "Python 3",
   "language": "python",
   "name": "python3"
  }
 },
 "nbformat": 4,
 "nbformat_minor": 0
}