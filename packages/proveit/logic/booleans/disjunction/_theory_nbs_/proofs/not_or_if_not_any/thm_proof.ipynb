{
 "cells": [
  {
   "cell_type": "markdown",
   "metadata": {},
   "source": [
    "Proof of <a class=\"ProveItLink\" href=\"../../../../../../_theory_nbs_/theory.ipynb\">proveit</a>.<a class=\"ProveItLink\" href=\"../../../../../_theory_nbs_/theory.ipynb\">logic</a>.<a class=\"ProveItLink\" href=\"../../../../_theory_nbs_/theory.ipynb\">booleans</a>.<a class=\"ProveItLink\" href=\"../../theory.ipynb\">disjunction</a>.<a class=\"ProveItLink\" href=\"../../theorems.ipynb#not_or_if_not_any\">not_or_if_not_any</a> theorem\n",
    "========"
   ]
  },
  {
   "cell_type": "code",
   "execution_count": 1,
   "metadata": {},
   "outputs": [],
   "source": [
    "import proveit\n",
    "theory = proveit.Theory() # the theorem's theory"
   ]
  },
  {
   "cell_type": "code",
   "execution_count": 2,
   "metadata": {},
   "outputs": [
    {
     "data": {
      "text/html": [
       "Under these <a href=\"presumptions.txt\">presumptions</a>, we begin our proof of<br><strong id=\"not_or_if_not_any\">not_or_if_not_any:</strong> <a class=\"ProveItLink\" href=\"../../../__pv_it/theorems/728656b8cf6fd86eb65155e7231787f903ba6b6b0/expr.ipynb\"><img src=\"data:image/png;base64,iVBORw0KGgoAAAANSUhEUgAAAcQAAAAZBAMAAABdpkNpAAAAMFBMVEX///8QEBCIiIhmZma6urrM\n",
       "zMxUVFQiIiJERETc3Nzu7u6qqqp2dnaYmJgyMjIAAAAcRTyBAAAAAXRSTlMAQObYZgAABLZJREFU\n",
       "WMPtWF2IHEUQrtvd2Z3fiw8qSEAWI/68eAunCeQiGRERBGEuQqIEdTkNgi9OCORIjLgvwp6iOyCs\n",
       "R0RvJeKFE+LgPmjgxFMRwsaHJYcQkehAfElecmgkl8Al9u9sz0xvL5esPwELqme6uqq7v66e6poG\n",
       "UFNx+gDczFSYPjRIpQQ3OzX/h/hPQvxAeDe6N9rbccYIYoQfZ1QQB2gMi8yaUDlKH1q0vj6eE4JI\n",
       "QBlBPInr51UQB2gMi0YDoXKOyVa4QCOll7Hyeo2ILggrFlFGEGfxtqipIA7QGBYtC+9OhT5/uRI7\n",
       "BWNxyhmrPbg4xc0utHot3zJuwiiS2qEK4gCNYZF4OJWoR8325diLVSxuZax24uIgq3y6XdgJHzFu\n",
       "gtNZWHhPGW4GaAyJDF+osOGc3MXE1n1Uvr0LzOfQHXOFFpcyiqir9fohdURVawyJchWhsok+nrDW\n",
       "YlEb8UzWzEJmOvNdofW1EIjtCuUm2c0zaoixhlwvIS0o2lKkB4maeEy8Tfepq/2OHk/ziWiygOBz\n",
       "BYCP4XnhY3Uiyk3sfTMVmndtc3O3CxC5hnNRNtOkVFe0pehXN7GW6GvfMo0Ib5hX2XIZfwA8tYV6\n",
       "uQxFV9LLXQAvslcX5oStYPmUmxhETlhAc3G8a9U6sFWAyDWOrMlmmpTqirbUObg9cbyPuEI2cisN\n",
       "JeObV9HjcaruwzFZN/Oxh7QXxl8R/KytUEb92V0xgzl9fAGsU3lYEiByjc4+2RhJqa5oS5I9XxkA\n",
       "EUnujCHCBD2g05QPebRH38hIJIVoRCjwOg/v2JS7x6PBydr9TFmESDSQfrkuGSIl1RVtSdqh19Ib\n",
       "NYZINqqFeG8P4ofgSyNxxD2EOijdEiOBgk8Z9zeD9rLzSHfk5VwVRknfXudHESLRQKcvoK+imD6a\n",
       "iLQPRLkFo2rel4abJg8377N0hUHUny1L+3mDHfxGSLIhjkQMN9BGQx2+Fza4+SU4QiHadkWE2CaT\n",
       "+RnGQPsmPWEszUA8Ua/Xoz4WNmp7B40e5lYS4oqQqn3HD8pGEEPUXiIdmVd58RndlTsP9s5S/XKM\n",
       "BDhjiBvw6kzBJN4ru9D4Zcszur4IkWiYZ39otDIJBpXKvFjtY0HdC8e2nbiSOG1EnyJUZuNqC768\n",
       "ti+GCGfpYz8vSlV6xNO1OXrtPFiNSxWOBEY9yhiig+dwG9wHcxoeG3sRHiuLEIlGvgVzXmbCROpM\n",
       "nHlo0ctAlFswiFvB+BOWv1re/X3/BC7GS+hwn7Qo1T9DgkItZf6/aKwg9KdtsEm264KzlPlffBJ5\n",
       "s4snbLwJsy1SzLao1HoANlpLGYixBdcnBYVYQJ/eGnwejYSLijSc0BfrSwQZEiENZ9ukipLAZgfg\n",
       "Lbxsv+EJpiDqq2A0XsMT1jbCZKDdgYrJkEn3mH7eTUEMehYwGRJ9XJDAaUCjBrOXukVvHh6UJTtC\n",
       "VvTu61PruqxhSISfqXSqiL5F1V8/nrAV13ig961KyZKci9wCwowJ670Nftj/l/gGCK+YHlzHxYY2\n",
       "NsHuC8hHyxberObc4v1yiMTCCtImlD6Bu2Eq+FsuNn5ifH13N/HwjmTxpL04oDD516+n1nmPmv/P\n",
       "3aPu/wtPPVzrZ+3nwAAAAABJRU5ErkJggg==\n",
       "\" style=\"display:inline;vertical-align:middle;\" /></a><br>(see <a class=\"ProveItLink\" href=\"../../../__pv_it/theorems/47fd97ad2cf080895ec56f52a7b0b16295c4c44a0/dependencies.ipynb\">dependencies</a>)<br>"
      ],
      "text/plain": [
       "not_or_if_not_any: forall_{m in Natural} [forall_{A_{1}, ..A_{_a}.., A_{m} | not(A_{1}), ..not(A_{i}).., not(A_{m})} not(A_{1} or ..A_{_a}.. or A_{m})]"
      ]
     },
     "execution_count": 2,
     "metadata": {},
     "output_type": "execute_result"
    }
   ],
   "source": [
    "%proving not_or_if_not_any"
   ]
  },
  {
   "cell_type": "code",
   "execution_count": null,
   "metadata": {},
   "outputs": [],
   "source": []
  }
 ],
 "metadata": {
  "kernelspec": {
   "display_name": "Python 3",
   "language": "python",
   "name": "python3"
  }
 },
 "nbformat": 4,
 "nbformat_minor": 0
}