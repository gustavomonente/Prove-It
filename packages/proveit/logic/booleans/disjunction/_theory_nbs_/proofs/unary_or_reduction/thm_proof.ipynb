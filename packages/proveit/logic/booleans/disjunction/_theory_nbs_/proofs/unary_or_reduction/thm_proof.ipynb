{
 "cells": [
  {
   "cell_type": "markdown",
   "metadata": {},
   "source": [
    "Proof of <a class=\"ProveItLink\" href=\"../../../../../../_theory_nbs_/theory.ipynb\">proveit</a>.<a class=\"ProveItLink\" href=\"../../../../../_theory_nbs_/theory.ipynb\">logic</a>.<a class=\"ProveItLink\" href=\"../../../../_theory_nbs_/theory.ipynb\">booleans</a>.<a class=\"ProveItLink\" href=\"../../theory.ipynb\">disjunction</a>.<a class=\"ProveItLink\" href=\"../../theorems.ipynb#unary_or_reduction\">unary_or_reduction</a> theorem\n",
    "========"
   ]
  },
  {
   "cell_type": "code",
   "execution_count": 1,
   "metadata": {},
   "outputs": [],
   "source": [
    "import proveit\n",
    "from proveit.logic import TRUE, FALSE\n",
    "from proveit import A\n",
    "from proveit.logic.booleans.disjunction import unary_or_lemma\n",
    "from proveit.logic.booleans.disjunction  import or_f_t, or_f_f\n",
    "theory = proveit.Theory() # the theorem's theory"
   ]
  },
  {
   "cell_type": "code",
   "execution_count": 2,
   "metadata": {},
   "outputs": [
    {
     "data": {
      "text/html": [
       "Under these <a href=\"presumptions.txt\">presumptions</a>, we begin our proof of<br><strong id=\"unary_or_reduction\">unary_or_reduction:</strong> <a class=\"ProveItLink\" href=\"../../../__pv_it/theorems/131d173a01015a533ad3e5b10320b471401b34610/expr.ipynb\"><img src=\"data:image/png;base64,iVBORw0KGgoAAAANSUhEUgAAAKAAAAAUBAMAAAD4uit9AAAAMFBMVEX///8QEBCIiIhmZma6urrM\n",
       "zMxUVFQiIiJERETc3Nzu7u6qqqp2dnaYmJgyMjIAAAAcRTyBAAAAAXRSTlMAQObYZgAAAitJREFU\n",
       "OMuFVT1oFEEU/rzL3s9mN7GwlgGbdAmksFDxIEWqwFV2MQdRxMqDNAEjBKsNopdGIgGThViESIIQ\n",
       "xDKBkCIxxfViODwtTJFYCMZC9L2Z2du57Mz5YGY+5nv75r03b94CPaXctMD+RZc6My0Gn10a6xl4\n",
       "l8ZDq65mPjI+cRn8Dk+uVYZSzmhsWXU184qjmXfYC0dQqPIqGMqdsxgIhE1XMwO8vHMYLC7Cq/Ea\n",
       "M2R5e5tW/7JFN2HCw42NJVfES1ChjilI0hyu0PzVotthzqNozmXwGo1tGgsKAn3xDl/2XlY1Ze5L\n",
       "fSRzlzzncAFvXkHgDaY4f8eMg1MpKrcGMwZflk74Uyf3S3smyeljGjmBQkVBoIJVNvAhe3bKFJGT\n",
       "Jbv2hzO7dwti9/V7rXWFhl+XZcIQ3vToI66IqYw9gwmaRbl1OEPePVuOIUSwaRjEDVmrEvYBl1pW\n",
       "gwZTbt2RR4hI3ibI4MSBETJWUE8gpaLIJTNu5LCGi8zCPd4p4Lp+h2L0atW4FJQmhYZl+mzgR3Ip\n",
       "XW/eZLbZAXzCMPwR5WH+pdaT5eE9iDXkWiz9pummrWA7zCA74LePGrE3G0VPOYc5rSdDQ1vD9b8n\n",
       "6G/8olO/XewhXUzIDuRjrFZRUx4G+fTpkSynUIlfd72ElJkgT5vYlwZ3g6O0OSAL7c2hmymdo9x4\n",
       "ghLlNpxrv+j0UuP1GHDL2ZAzzBDlsHeDdTzS/zK9fgGh8xdAzD+TgaQsjp+tqgAAAABJRU5ErkJg\n",
       "gg==\n",
       "\" style=\"display:inline;vertical-align:middle;\" /></a><br>(see <a class=\"ProveItLink\" href=\"../../../__pv_it/theorems/4b4310c392a19a1851dc5b6bee6fa810aa9853dc0/dependencies.ipynb\">dependencies</a>)<br>"
      ],
      "text/plain": [
       "unary_or_reduction: forall_{A in BOOLEAN} (or(A) = A)"
      ]
     },
     "execution_count": 2,
     "metadata": {},
     "output_type": "execute_result"
    }
   ],
   "source": [
    "%proving unary_or_reduction"
   ]
  },
  {
   "cell_type": "code",
   "execution_count": 3,
   "metadata": {},
   "outputs": [
    {
     "data": {
      "text/html": [
       "<strong id=\"base_case_t_r_u_e\">base_case_t_r_u_e:</strong> <span style=\"font-size:20px;\"> <a class=\"ProveItLink\" href=\"../../../__pv_it/_proof_unary_or_reduction/c837eefeb3f7aed7b8a2524236065dd8c68883f60/proof.ipynb\" style=\"text-decoration: none\">&nbsp;&#x22A2;&nbsp;&nbsp;</a><a class=\"ProveItLink\" href=\"../../../__pv_it/_proof_unary_or_reduction/735be3571e3daf96d68e32562676557ccd7ea68c0/expr.ipynb\"><img src=\"data:image/png;base64,iVBORw0KGgoAAAANSUhEUgAAAI4AAAAUBAMAAACpLhgeAAAAMFBMVEX///8QEBB2dnZERESqqqpm\n",
       "Zma6urrc3NwyMjLu7u4iIiKIiIiYmJhUVFTMzMwAAABF6oizAAAAAXRSTlMAQObYZgAAAaVJREFU\n",
       "OMuVlL9Lw0AUx7+mqf1hG/Q/cFAQXLp1ky4i6BLEyamLizhkVOjQpeqi1K10yiYtCNldXEShSycF\n",
       "BynoaNE/wfcu2nt3SQv9wiVHvu8+uXt394B/NSa9HSTVwAy5ge4XKjjss+5QDhKR5JI+ra9ZNaA/\n",
       "xCsw4g8ekFeD99SgZoIjXBWNv4FwI352gHd+D4BH6MjNBEe6KDOiFAmOE2HM7x5wKyJvEhzpwhvS\n",
       "o9gWnMKymvGij1woIvN1C2O4wAW1IwgOzuH6QCbAki8iHd/iGC6wTa1qcNYB+tUHoR5EZEkleuOS\n",
       "1eKu4dKaaG0Vg/MM3AMvZNVEpBta8zFcml6Ect3g7AJdtc8LdRHp/Vgcw6W0hrzTkvNNh6nm1Obk\n",
       "4ABrCU6uWbRnvhjq/FylrAunCE3OMbWtAVLzLGTlGZmvCHaeMe7prY4js6sWxzH3Hd5b2+Ts86nz\n",
       "J0vBSXwORxaHXbrFK3yLlVoTJ57pNR/Wtj75sbpT7oXWmVUOQusmYuY9nSon0qnURSelbmSCmZyO\n",
       "XammDRJumqqplfNp3rpaCvALRlprVIqBM7sAAAAASUVORK5CYII=\n",
       "\" style=\"display:inline;vertical-align:middle;\" /></a></span><br>"
      ],
      "text/plain": [
       "base_case_t_r_u_e: |- or(TRUE) = (FALSE or TRUE)"
      ]
     },
     "execution_count": 3,
     "metadata": {},
     "output_type": "execute_result"
    }
   ],
   "source": [
    "base_case_t_r_u_e = unary_or_lemma.instantiate({A:TRUE})"
   ]
  },
  {
   "cell_type": "code",
   "execution_count": 4,
   "metadata": {},
   "outputs": [
    {
     "data": {
      "text/html": [
       "<strong id=\"base_case_f_a_l_s_e\">base_case_f_a_l_s_e:</strong> <span style=\"font-size:20px;\"> <a class=\"ProveItLink\" href=\"../../../__pv_it/_proof_unary_or_reduction/4a6225c72fafa192c960db55137f9df34ce24ce40/proof.ipynb\" style=\"text-decoration: none\">&nbsp;&#x22A2;&nbsp;&nbsp;</a><a class=\"ProveItLink\" href=\"../../../__pv_it/_proof_unary_or_reduction/084777339030fc6027e7e855da92cbd6864208920/expr.ipynb\"><img src=\"data:image/png;base64,iVBORw0KGgoAAAANSUhEUgAAAI4AAAAUBAMAAACpLhgeAAAAMFBMVEX///8QEBB2dnZERESqqqpm\n",
       "Zma6urrc3NwyMjLu7u4iIiKIiIiYmJhUVFTMzMwAAABF6oizAAAAAXRSTlMAQObYZgAAAaJJREFU\n",
       "OMuVVL9LAzEYfV6vP20PXZ0cFASXbt3kFhF0OcTJqYuL040KHbpUXZS6lU7nJA0It7u4SIUuTgoO\n",
       "UtDRon+CSVrN9+WuhT7Id7l7L++SL8kH/KHx39tBEg3MgBuafrGq4qcKlTChJCyH56v4Cgz1G1DQ\n",
       "g/f0oGZCTlitxmQg3FjFDvCungPgEUa5mfChLCrKohwTHyfGSD17wC1RXid8KAvvWYZSm/gUl/SM\n",
       "cwHyEVEW6pYNY4Fz2Y5AfHAGNwAyIRYDonQCy4exwLZsNeazDshffUirB6Is60RvXCi0VJexck1y\n",
       "bVXm8wTcAy+S8onSjaz5MFZOL0alznx2ga7e54U6UXo/lg9jZVojtdPU5xvI+o4/pw8OsJbwyTdL\n",
       "9sxzkcnPZcq6cIKI+xzLtjVAap4JrDwj8xXDzjNGPbPVY2V21fJx+L7De2tzn3116oLJUg6FWBbi\n",
       "Tn4ZWj6MVWiN/yfEzYoQ8nhfqcPaNid/jO6Ue2FwapWDyLqJmHlPp8KJTSpN0UmpG5lwpk/HrlTT\n",
       "BhE2DbXUytmft66WQ/wCZKhqInvJbsQAAAAASUVORK5CYII=\n",
       "\" style=\"display:inline;vertical-align:middle;\" /></a></span><br>"
      ],
      "text/plain": [
       "base_case_f_a_l_s_e: |- or(FALSE) = (FALSE or FALSE)"
      ]
     },
     "execution_count": 4,
     "metadata": {},
     "output_type": "execute_result"
    }
   ],
   "source": [
    "base_case_f_a_l_s_e = unary_or_lemma.instantiate({A:FALSE})"
   ]
  },
  {
   "cell_type": "code",
   "execution_count": 5,
   "metadata": {},
   "outputs": [
    {
     "data": {
      "text/html": [
       "<span style=\"font-size:20px;\"> <a class=\"ProveItLink\" href=\"../../../__pv_it/_proof_unary_or_reduction/28b096efbf63554eddf1225c4c976aa7788dabb80/proof.ipynb\" style=\"text-decoration: none\">&nbsp;&#x22A2;&nbsp;&nbsp;</a><a class=\"ProveItLink\" href=\"../../../__pv_it/_proof_unary_or_reduction/75a3832833dca475a7f99739fdb58a39303687810/expr.ipynb\"><img src=\"data:image/png;base64,iVBORw0KGgoAAAANSUhEUgAAAFgAAAAUBAMAAAD7IecQAAAAMFBMVEX///8QEBB2dnZERESqqqpm\n",
       "Zma6urrc3NwyMjLu7u4iIiKIiIiYmJhUVFTMzMwAAABF6oizAAAAAXRSTlMAQObYZgAAAPBJREFU\n",
       "KM9jYICBGjjLnYEQ4DRgiFoFAmsZeAvQJWEyD0AcPgYGDrAKb7C+BiyGgWXugYjTDAxHEUIM2rgU\n",
       "vwURKxkYliMpnohLMch6tgAG9gVIijkScChmCWBgYC5g4A5AUswUgEMxA9DIx0D1B5CEeMA+1OgA\n",
       "gVYUxbsZGK4xMHA5IAmxLMBl8ixwUDEmIAnxfcClmNWByYFoxewNXAxozmBbgHBzL4piBjtglGDz\n",
       "IDaTGd6uRIQW1GUKOBVzBMBtZsiBiDzAVAyRYWCfACKXI0nMIpREjyKxtQkpZkYkYqxJFD3xY9GH\n",
       "CyCy1XFcSgD0xTqdEBR72AAAAABJRU5ErkJggg==\n",
       "\" style=\"display:inline;vertical-align:middle;\" /></a></span>"
      ],
      "text/plain": [
       "|- or(TRUE) = TRUE"
      ]
     },
     "execution_count": 5,
     "metadata": {},
     "output_type": "execute_result"
    }
   ],
   "source": [
    "base_case_t_r_u_e.sub_left_side_into(or_f_t)"
   ]
  },
  {
   "cell_type": "code",
   "execution_count": 6,
   "metadata": {},
   "outputs": [
    {
     "data": {
      "text/html": [
       "<span style=\"font-size:20px;\"> <a class=\"ProveItLink\" href=\"../../../__pv_it/_proof_unary_or_reduction/9959c6e1c07c00ad54a0c97e7394d9333036094d0/proof.ipynb\" style=\"text-decoration: none\">&nbsp;&#x22A2;&nbsp;&nbsp;</a><a class=\"ProveItLink\" href=\"../../../__pv_it/_proof_unary_or_reduction/87b0300818ddc2043c142fb84ca17837299a38f40/expr.ipynb\"><img src=\"data:image/png;base64,iVBORw0KGgoAAAANSUhEUgAAAFgAAAAUBAMAAAD7IecQAAAAMFBMVEX///8QEBB2dnZERESqqqpm\n",
       "Zma6urrc3NwyMjLu7u4iIiKIiIiYmJhUVFTMzMwAAABF6oizAAAAAXRSTlMAQObYZgAAAPRJREFU\n",
       "KM9jYICBGjjLnYEQ4DQAkU9ABG8BFnmwzAMQwcfAwAFW4Q3W14BFMVjmHog4zcBwFCHEoI1L8VsQ\n",
       "sZKBYTmS4om4FIOsZwtgYF+ApJgjAYdilgAGBuYCBu4AJMVMATgUMwCNfAxUfwBJiAfsQ40OEGhF\n",
       "UbybgeEaAwOXA5IQywJcJs8CBxVjApIQ3wdcilkdmByIVszewMWA5gy2BQg396IoZrADRgk2D2Iz\n",
       "meHtSkRoQV2mgFMxRwDU5qhVqwRXrVoLFHmAphIuw8A+AcRfjiQ3i1ASPYrE1iakmBmRiLEmUSyJ\n",
       "H10fLoDIVsdxKQEA6Lc6Wz7MLBYAAAAASUVORK5CYII=\n",
       "\" style=\"display:inline;vertical-align:middle;\" /></a></span>"
      ],
      "text/plain": [
       "|- or(FALSE) = FALSE"
      ]
     },
     "execution_count": 6,
     "metadata": {},
     "output_type": "execute_result"
    }
   ],
   "source": [
    "base_case_f_a_l_s_e.sub_left_side_into(or_f_f)"
   ]
  },
  {
   "cell_type": "code",
   "execution_count": 7,
   "metadata": {},
   "outputs": [
    {
     "data": {
      "text/html": [
       "<table><tr><th>&nbsp;</th><th>step type</th><th>requirements</th><th>statement</th></tr>\n",
       "<tr><td><a name=\"0x4043724cfaa5abe_step0\">0</a></td><td>instantiation</td><td><a href=\"#0x4043724cfaa5abe_step1\">1</a>, <a href=\"#0x4043724cfaa5abe_step2\">2</a>, <a href=\"#0x4043724cfaa5abe_step3\">3</a></td><td><span style=\"font-size:20px;\"> <a class=\"ProveItLink\" href=\"../../../__pv_it/_proof_unary_or_reduction/cc32ff995b7c446003a6152555f6c4a41e7aa96d0/proof.ipynb\" style=\"text-decoration: none\">&nbsp;&#x22A2;&nbsp;&nbsp;</a><a class=\"ProveItLink\" href=\"../../../__pv_it/theorems/131d173a01015a533ad3e5b10320b471401b34610/expr.ipynb\"><img src=\"data:image/png;base64,iVBORw0KGgoAAAANSUhEUgAAAKAAAAAUBAMAAAD4uit9AAAAMFBMVEX///8QEBCIiIhmZma6urrM\n",
       "zMxUVFQiIiJERETc3Nzu7u6qqqp2dnaYmJgyMjIAAAAcRTyBAAAAAXRSTlMAQObYZgAAAitJREFU\n",
       "OMuFVT1oFEEU/rzL3s9mN7GwlgGbdAmksFDxIEWqwFV2MQdRxMqDNAEjBKsNopdGIgGThViESIIQ\n",
       "xDKBkCIxxfViODwtTJFYCMZC9L2Z2du57Mz5YGY+5nv75r03b94CPaXctMD+RZc6My0Gn10a6xl4\n",
       "l8ZDq65mPjI+cRn8Dk+uVYZSzmhsWXU184qjmXfYC0dQqPIqGMqdsxgIhE1XMwO8vHMYLC7Cq/Ea\n",
       "M2R5e5tW/7JFN2HCw42NJVfES1ChjilI0hyu0PzVotthzqNozmXwGo1tGgsKAn3xDl/2XlY1Ze5L\n",
       "fSRzlzzncAFvXkHgDaY4f8eMg1MpKrcGMwZflk74Uyf3S3smyeljGjmBQkVBoIJVNvAhe3bKFJGT\n",
       "Jbv2hzO7dwti9/V7rXWFhl+XZcIQ3vToI66IqYw9gwmaRbl1OEPePVuOIUSwaRjEDVmrEvYBl1pW\n",
       "gwZTbt2RR4hI3ibI4MSBETJWUE8gpaLIJTNu5LCGi8zCPd4p4Lp+h2L0atW4FJQmhYZl+mzgR3Ip\n",
       "XW/eZLbZAXzCMPwR5WH+pdaT5eE9iDXkWiz9pummrWA7zCA74LePGrE3G0VPOYc5rSdDQ1vD9b8n\n",
       "6G/8olO/XewhXUzIDuRjrFZRUx4G+fTpkSynUIlfd72ElJkgT5vYlwZ3g6O0OSAL7c2hmymdo9x4\n",
       "ghLlNpxrv+j0UuP1GHDL2ZAzzBDlsHeDdTzS/zK9fgGh8xdAzD+TgaQsjp+tqgAAAABJRU5ErkJg\n",
       "gg==\n",
       "\" style=\"display:inline;vertical-align:middle;\" /></a></span></td></tr>\n",
       "<tr><td>&nbsp;</td><td colspan=4 style=\"text-align:left\"><span style=\"font-size:20px;\"><a class=\"ProveItLink\" href=\"../../../../../../__pv_it/common/bfd6cbbf901c56262d9826d514808c68a6e9726f0/expr.ipynb\"><img src=\"data:image/png;base64,iVBORw0KGgoAAAANSUhEUgAAAC4AAAAUBAMAAAAAdhLPAAAAMFBMVEX///8iIiLc3Ny6urqIiIiq\n",
       "qqp2dnbMzMwQEBDu7u5mZmYyMjJERERUVFSYmJgAAAA4CJ/KAAAAAXRSTlMAQObYZgAAARZJREFU\n",
       "GNNjYIADpgcwFqsCiHz7/+zdXRMYGOZABKuB+BKY9ZuBgaeTgWETRHw/EM8GMdi/AXV+YeBbABbm\n",
       "2w/UyuYAZLF8BuJvDIxgQxmmrgfSnA1AFs8HBgbezwyKEGMe+BsAyc1AzL+BgUF/AYMXWJh5QjzI\n",
       "WVlAXJ/AwCrGwHAOLD6ZoR5k9msg9r+WtgRolyhY3ACklYEhEIjPTwCLNIPddmvV/QMgM4D4IwNC\n",
       "nJmBgWMDRJz9F0QcbE4AAwMjyI2GEOeDAMheJqA49weIvdw/IeIgp4H8wPMJSCxj4Nr/1wEsDtQ6\n",
       "5/9OBtbzH4EO2o4IZmg4gAGnAIINDTcwYHNAsBkOIZizkYRh8YKmBDke+RQYABYwQkDyoYgLAAAA\n",
       "AElFTkSuQmCC\n",
       "\" style=\"display:inline;vertical-align:middle;\" /></a> : <a class=\"ProveItLink\" href=\"../../../__pv_it/theorems/8e81d7fa7a916a5dee23a936f799f0581328bc150/expr.ipynb\"><img src=\"data:image/png;base64,iVBORw0KGgoAAAANSUhEUgAAAFgAAAAUBAMAAAD7IecQAAAAMFBMVEX///8QEBB2dnZERESqqqpm\n",
       "Zma6urrc3NwyMjLu7u4iIiKIiIiYmJhUVFTMzMwAAABF6oizAAAAAXRSTlMAQObYZgAAATxJREFU\n",
       "KM9jYICBGjjLnYEQ4DQAU3wNDAy8BdgUgGQegBkMDBwQFRwfgPoasCkGydwDMU4zMByFCJ34CSS0\n",
       "sSkGybwFMVYyMCyHOMb1O5CciM2ZIBmQ9WwBDOwLwEI83N9ANiZgKgbLsAQwMDAXMHAHgIUyWf4A\n",
       "SaYATMUQGaCRj4HqD4DtSuD7DTIF7EONDhBohboCIrObgeEaAwOXA0iIjYH9K5BiWYBhMFRmFjio\n",
       "GMHOfBsa+xkUkh8wFENlWB2YHGCKgYQEdsVQGfYGLgaoM1iAeCHIzgUIN/eC1cJkGOyAUQLxYAkQ\n",
       "98M9iAxgMgxvV0JDCxzW9sBwZ1VAUwuXYeAIgNjMaf9jAoPz/6VAkQdosQeXYWCfABJYjiQ5i1AS\n",
       "PYrE1iakmBmRiLEnUSyJH00fLoDIVsdxKQEAcURQdRJ00U8AAAAASUVORK5CYII=\n",
       "\" style=\"display:inline;vertical-align:middle;\" /></a>, <a class=\"ProveItLink\" href=\"../../../../../../__pv_it/common/e4aad701f7f5516d8e7f0d805d518bf02c13322a0/expr.ipynb\"><img src=\"data:image/png;base64,iVBORw0KGgoAAAANSUhEUgAAAA8AAAAOBAMAAAACpFvcAAAALVBMVEX///8iIiIQEBBERERUVFS6\n",
       "urqIiIjc3NxmZmaqqqru7u6YmJgyMjLMzMwAAACK9jtgAAAAAXRSTlMAQObYZgAAAFtJREFUCNdj\n",
       "YACBOwxQcA5Kc59bAGGs7CuAMDbkBYBp1gXzNoAZSxnuJYAZAQx1DSCa16PDzwCshIGB6QCIMYGB\n",
       "gVEBSLMDGTwPgIxCIGZ+zsCw+N0pBk67hw0AfpEVEQi8t+wAAAAASUVORK5CYII=\n",
       "\" style=\"display:inline;vertical-align:middle;\" /></a> : <a class=\"ProveItLink\" href=\"../../../../../../__pv_it/common/e4aad701f7f5516d8e7f0d805d518bf02c13322a0/expr.ipynb\"><img src=\"data:image/png;base64,iVBORw0KGgoAAAANSUhEUgAAAA8AAAAOBAMAAAACpFvcAAAALVBMVEX///8iIiIQEBBERERUVFS6\n",
       "urqIiIjc3NxmZmaqqqru7u6YmJgyMjLMzMwAAACK9jtgAAAAAXRSTlMAQObYZgAAAFtJREFUCNdj\n",
       "YACBOwxQcA5Kc59bAGGs7CuAMDbkBYBp1gXzNoAZSxnuJYAZAQx1DSCa16PDzwCshIGB6QCIMYGB\n",
       "gVEBSLMDGTwPgIxCIGZ+zsCw+N0pBk67hw0AfpEVEQi8t+wAAAAASUVORK5CYII=\n",
       "\" style=\"display:inline;vertical-align:middle;\" /></a></span></td></tr><tr><td><a name=\"0x4043724cfaa5abe_step1\">1</a></td><td>conjecture</td><td></td><td><span style=\"font-size:20px;\"> <a class=\"ProveItLink\" href=\"../../../../_theory_nbs_/proofs/fold_forall_over_bool/thm_proof.ipynb\" style=\"text-decoration: none\">&nbsp;&#x22A2;&nbsp;&nbsp;</a><a class=\"ProveItLink\" href=\"../../../../__pv_it/theorems/6c162ab5702ef138f00210765d27995c5c0e9c840/expr.ipynb\"><img src=\"data:image/png;base64,iVBORw0KGgoAAAANSUhEUgAAAPgAAAAWBAMAAAAfsUzKAAAAMFBMVEX///8QEBCIiIhmZma6urrM\n",
       "zMxUVFQiIiJERETc3Nzu7u6qqqp2dnaYmJgyMjIAAAAcRTyBAAAAAXRSTlMAQObYZgAAA4JJREFU\n",
       "SMetll1IVEEUx//d/d69V33oIXoKegj60C0DtQKFoHzLeqiX0IVKKIL2oSf7YCGoKxW7T+VTLRRk\n",
       "G9hCUQhBkkGhJttLRZktlA8JpahpmmVnzsze3XtzzdgG5s6cM+fOb+bMOXMv8D+K9rVpOWaBTK4X\n",
       "SgDDJ5EV/fclwvWGMtEYmcWHXy2cb/2YBDql2Ez1KNWn6BfiaMlwPU1NWbLI+C/Avxr4LKUxql0M\n",
       "7xDuiJUM5yk6igx75snREzDCLBljtEZ9jYCL1fKyS4Oz8/qLhcQU1Xn4Eizdqac2WCHgRl8qdRWl\n",
       "w4dSqdvRIsP+ccA7BYXJVDXQ85OA47tpni4en6ptWlpL8HLTvNBTZJZyiurrYaxlwZ18LOKyl+FH\n",
       "gHZSxY/XHuMxad843XueDiQ33X35njKyayXc2wQ/u1U+baWlByHa4GUWbqKFzhvDDN+JoEi3l8Az\n",
       "flfaGxXQo/AmdNNcZV6CS84ojbxCiFB1JfJwd5gjGPjQIHXDlTXb1XDV8YEttJNTLDQIJwAPGe6D\n",
       "JtzQSjYFcG8E2jgOiq6I42CEtdLIqWU4otgkusF6mi34qDqj6YF36lziMgVXcuQfqj4h3m1huJ7x\n",
       "CeUZwCyA+zLwx8SRSIxKUWnk1Er4C3C86bdoX2+6U9A09KlLZwZ5OB3riqwFD2T3iwXPQmsrgN9N\n",
       "YF1STscYuStp5NAq+DUP+2Efrdkt/Kpp7iF5LJ5JacVup6z2UZphN8PRflgsaH6jzFIF3/NkII1A\n",
       "HvMAlpFTq+D+K3zYEVcUfNdqrs0j+TQXRQRcgOBl41bA4Z6YTM/mclI2gwyLWZhGWEZOrYKHajhQ\n",
       "0xQqNxipoU6eedmctKLs4lz3z9Jjh4SXi8j3h+3wc4yJWJhmWEZOrYJjQvS6djyfwwHTNNcQvEfM\n",
       "DNfYNLfC050LowjFZ2ieEQk3RCyWp+3wH3xY+T3ugmXk1Obgb0VvGwLf4FU77wnb0t1XcAMEoxIu\n",
       "74GEDe6ZzVkozBA6ksrIpi2As1covn9CF+7WdAzYrzyjYC3yw6JiYqzOBq+cZA7HP3t5K/amc0Zt\n",
       "UFcPaR3weAwdMxlcpO7rwdovjpuuPd+Vn9Q/PgKFwgarl+UkWURrh+f2Qme+yB3faV/HX+CWEMrw\n",
       "n8+fWgU7+4+/UQZNVnlyabg7Z03JYyyq/b/FZZO6Vbt+Gdp/L78Bj63+YiYwFhMAAAAASUVORK5C\n",
       "YII=\n",
       "\" style=\"display:inline;vertical-align:middle;\" /></a></span></td></tr>\n",
       "<tr><td>&nbsp;</td><td colspan=4 style-\"text-align:left\"><a class=\"ProveItLink\" href=\"../../../../_theory_nbs_/proofs/fold_forall_over_bool/thm_proof.ipynb\">proveit.logic.booleans.fold_forall_over_bool</a></td></tr><tr><td><a name=\"0x4043724cfaa5abe_step2\">2</a></td><td>instantiation</td><td><a href=\"#0x4043724cfaa5abe_step6\">6</a>, <a href=\"#0x4043724cfaa5abe_step4\">4</a>, <a href=\"#0x4043724cfaa5abe_step5\">5</a></td><td><span style=\"font-size:20px;\"> <a class=\"ProveItLink\" href=\"../../../__pv_it/_proof_unary_or_reduction/28b096efbf63554eddf1225c4c976aa7788dabb80/proof.ipynb\" style=\"text-decoration: none\">&nbsp;&#x22A2;&nbsp;&nbsp;</a><a class=\"ProveItLink\" href=\"../../../__pv_it/_proof_unary_or_reduction/75a3832833dca475a7f99739fdb58a39303687810/expr.ipynb\"><img src=\"data:image/png;base64,iVBORw0KGgoAAAANSUhEUgAAAFgAAAAUBAMAAAD7IecQAAAAMFBMVEX///8QEBB2dnZERESqqqpm\n",
       "Zma6urrc3NwyMjLu7u4iIiKIiIiYmJhUVFTMzMwAAABF6oizAAAAAXRSTlMAQObYZgAAAPBJREFU\n",
       "KM9jYICBGjjLnYEQ4DRgiFoFAmsZeAvQJWEyD0AcPgYGDrAKb7C+BiyGgWXugYjTDAxHEUIM2rgU\n",
       "vwURKxkYliMpnohLMch6tgAG9gVIijkScChmCWBgYC5g4A5AUswUgEMxA9DIx0D1B5CEeMA+1OgA\n",
       "gVYUxbsZGK4xMHA5IAmxLMBl8ixwUDEmIAnxfcClmNWByYFoxewNXAxozmBbgHBzL4piBjtglGDz\n",
       "IDaTGd6uRIQW1GUKOBVzBMBtZsiBiDzAVAyRYWCfACKXI0nMIpREjyKxtQkpZkYkYqxJFD3xY9GH\n",
       "CyCy1XFcSgD0xTqdEBR72AAAAABJRU5ErkJggg==\n",
       "\" style=\"display:inline;vertical-align:middle;\" /></a></span></td></tr>\n",
       "<tr><td>&nbsp;</td><td colspan=4 style=\"text-align:left\"><span style=\"font-size:20px;\"><a class=\"ProveItLink\" href=\"../../../__pv_it/_proof_unary_or_reduction/24158abeeef499d6a6e1879eb4a1d2f5cc086ef30/expr.ipynb\"><img src=\"data:image/png;base64,iVBORw0KGgoAAAANSUhEUgAAADcAAAAUBAMAAADbzbjtAAAAMFBMVEX///8iIiLc3Ny6urqIiIiq\n",
       "qqp2dnbMzMwQEBDu7u5mZmYyMjJERERUVFSYmJgAAAA4CJ/KAAAAAXRSTlMAQObYZgAAAQ1JREFU\n",
       "KM9jYIADpgcMyCAITL79f/burgkMDHNQ5Bh4FcDUbwYGnk4Ghk2okpwbQCT7NwYG1i8MfAtQJRlS\n",
       "QATLZyD+xsCogCY5A0TwfABa8JlBEU2OgdsASPADDddfwOCF5O5lS4BuYAPZU5/AwCrGwHAOIWmh\n",
       "wA00jQ/kIv9raUuAPhFFuLOPgesA0JECQPb5CWChZrgk108GRgegL4C6GT4yoElyHGCYXwCRZP8F\n",
       "EUIYOz+BIR5IMQtAvAkCCAfND2C4zaoAdhD3T4hQFlySx4FPlg1odQID1/6/DmAhQ6BBZ4DgJAPn\n",
       "FXddZ6CuAoTnMIJvIhIbe8DDwCFsUQYDaJHNg2INWjJ5xMAAAHA6PhPQZp1jAAAAAElFTkSuQmCC\n",
       "\" style=\"display:inline;vertical-align:middle;\" /></a> : <a class=\"ProveItLink\" href=\"../../../__pv_it/_proof_unary_or_reduction/f6dcdc5371688d3e6333f75c8f6f30e070041e6c0/expr.ipynb\"><img src=\"data:image/png;base64,iVBORw0KGgoAAAANSUhEUgAAAEMAAAAOBAMAAACGIrzyAAAAMFBMVEX///9UVFSqqqrMzMwiIiKY\n",
       "mJgyMjIQEBCIiIh2dnZmZmbc3Nzu7u5ERES6uroAAACFTSmKAAAAAXRSTlMAQObYZgAAAGtJREFU\n",
       "GNNjYMAJuFzAQIABL2BqYCAEaKFk16z2A/iV8FUz5INozjQwWIBFyfEAhrUELFp/gMGDgJJaBp7P\n",
       "+JXw/GRg+oDkFgEsSj4xMCZo47foBkOIwAQcSt7eBYIDDAc7rCUeYCjhCwASAMSVIycsgi1mAAAA\n",
       "AElFTkSuQmCC\n",
       "\" style=\"display:inline;vertical-align:middle;\" /></a>, <a class=\"ProveItLink\" href=\"../../../../../../__pv_it/common/a2581dc5df71d9a30bad37de14965fa5fec97a240/expr.ipynb\"><img src=\"data:image/png;base64,iVBORw0KGgoAAAANSUhEUgAAAAsAAAAJBAMAAAAWSsseAAAALVBMVEX///9mZmaqqqrMzMxEREQy\n",
       "MjIiIiKYmJh2dna6urrc3NxUVFSIiIju7u4AAACJHQtQAAAAAXRSTlMAQObYZgAAAEJJREFUCNdj\n",
       "YLhzeuWJAwy8Dew5bAEMHBc43nIuYOBlYHFgAAG+A2DKzgBIMF04x8BzgWGegh/DcgaG22fuiBcw\n",
       "AAATyhBrnyPYZQAAAABJRU5ErkJggg==\n",
       "\" style=\"display:inline;vertical-align:middle;\" /></a> : <a class=\"ProveItLink\" href=\"../../../__pv_it/_proof_unary_or_reduction/65faca950d96ac26acd55680f3061133c30680320/expr.ipynb\"><img src=\"data:image/png;base64,iVBORw0KGgoAAAANSUhEUgAAACsAAAAUBAMAAADmX9mLAAAAMFBMVEX///8QEBB2dnZERESqqqpm\n",
       "Zma6urrc3NwyMjLu7u4iIiKIiIiYmJhUVFTMzMwAAABF6oizAAAAAXRSTlMAQObYZgAAAMxJREFU\n",
       "GNNtkSsOwkAQhj/a0pZXz4Cv4QSkDoGpRnEARA+A6BHAVuEIJJwAg2kQeCQhQZNwBHYKtAN0zP77\n",
       "7czOCz42L9WIyloDJluxHb0ErsIC8BMR48IjhYuIE+SUmBDucm5grfDyFezGeCuF/SlODHZCJ1bY\n",
       "MhfjdjMvB4W7JuceztCOFHaMa1YU1JgqHDygGVlRDfbSNj+fuFLW0DTzn5L75l1TiZt9KT7+xMHs\n",
       "1Y4MyluIXKtpZpXMFQ4raSfV6NOvNdR46KUd4QnEwCuiKSSWmQAAAABJRU5ErkJggg==\n",
       "\" style=\"display:inline;vertical-align:middle;\" /></a>, <a class=\"ProveItLink\" href=\"../../../../../../__pv_it/common/0f21cbfd5644a1cae6781c1d58354abc2ffbc9000/expr.ipynb\"><img src=\"data:image/png;base64,iVBORw0KGgoAAAANSUhEUgAAAAsAAAANBAMAAACN24kIAAAAMFBMVEX///8iIiKYmJhUVFTMzMxE\n",
       "REQyMjKqqqq6urp2dnYQEBDc3NxmZmaIiIju7u4AAACH5sGpAAAAAXRSTlMAQObYZgAAAFlJREFU\n",
       "CNdj4LtzgWHXAwZOjgUM9xkYtvMkMIQyMDzgusDwl4GBof8ByxcgdYyBdwGQCmZgNQBShxn6FYDU\n",
       "47vnNzAwgGUZGJgT+H4AKUYF1gtAiuPuESAJAJGkFvXVdzA+AAAAAElFTkSuQmCC\n",
       "\" style=\"display:inline;vertical-align:middle;\" /></a> : <a class=\"ProveItLink\" href=\"../../../__pv_it/axioms/612fe3d03626ccb50b201a129f8ef2ec0fe535c50/expr.ipynb\"><img src=\"data:image/png;base64,iVBORw0KGgoAAAANSUhEUgAAADUAAAAPBAMAAAC2KZqIAAAAMFBMVEX///92dnZERES6urrc3Nwy\n",
       "MjLu7u6YmJhUVFQQEBAiIiJmZmaIiIiqqqrMzMwAAAAH70cZAAAAAXRSTlMAQObYZgAAAH9JREFU\n",
       "GNNjYGBgeMuACrhXgUEDiH0HIsQHJh+ASd4DUHVQOQ6QMPsBrHJ8IEO4ErDKMYQAsTUDdrnbQKyC\n",
       "Q44LaK4CDjmeAwwcBjjk2BYwpDLgkGPYyyCLU86VYQFOOabnB3DK8XUloMjtWrVq5qpVKyBC0TBV\n",
       "zAUM6MANhQcAQLgq4na1HsoAAAAASUVORK5CYII=\n",
       "\" style=\"display:inline;vertical-align:middle;\" /></a></span></td></tr><tr><td><a name=\"0x4043724cfaa5abe_step3\">3</a></td><td>instantiation</td><td><a href=\"#0x4043724cfaa5abe_step6\">6</a>, <a href=\"#0x4043724cfaa5abe_step7\">7</a>, <a href=\"#0x4043724cfaa5abe_step8\">8</a></td><td><span style=\"font-size:20px;\"> <a class=\"ProveItLink\" href=\"../../../__pv_it/_proof_unary_or_reduction/9959c6e1c07c00ad54a0c97e7394d9333036094d0/proof.ipynb\" style=\"text-decoration: none\">&nbsp;&#x22A2;&nbsp;&nbsp;</a><a class=\"ProveItLink\" href=\"../../../__pv_it/_proof_unary_or_reduction/87b0300818ddc2043c142fb84ca17837299a38f40/expr.ipynb\"><img src=\"data:image/png;base64,iVBORw0KGgoAAAANSUhEUgAAAFgAAAAUBAMAAAD7IecQAAAAMFBMVEX///8QEBB2dnZERESqqqpm\n",
       "Zma6urrc3NwyMjLu7u4iIiKIiIiYmJhUVFTMzMwAAABF6oizAAAAAXRSTlMAQObYZgAAAPRJREFU\n",
       "KM9jYICBGjjLnYEQ4DQAkU9ABG8BFnmwzAMQwcfAwAFW4Q3W14BFMVjmHog4zcBwFCHEoI1L8VsQ\n",
       "sZKBYTmS4om4FIOsZwtgYF+ApJgjAYdilgAGBuYCBu4AJMVMATgUMwCNfAxUfwBJiAfsQ40OEGhF\n",
       "UbybgeEaAwOXA5IQywJcJs8CBxVjApIQ3wdcilkdmByIVszewMWA5gy2BQg396IoZrADRgk2D2Iz\n",
       "meHtSkRoQV2mgFMxRwDU5qhVqwRXrVoLFHmAphIuw8A+AcRfjiQ3i1ASPYrE1iakmBmRiLEmUSyJ\n",
       "H10fLoDIVsdxKQEA6Lc6Wz7MLBYAAAAASUVORK5CYII=\n",
       "\" style=\"display:inline;vertical-align:middle;\" /></a></span></td></tr>\n",
       "<tr><td>&nbsp;</td><td colspan=4 style=\"text-align:left\"><span style=\"font-size:20px;\"><a class=\"ProveItLink\" href=\"../../../__pv_it/_proof_unary_or_reduction/24158abeeef499d6a6e1879eb4a1d2f5cc086ef30/expr.ipynb\"><img src=\"data:image/png;base64,iVBORw0KGgoAAAANSUhEUgAAADcAAAAUBAMAAADbzbjtAAAAMFBMVEX///8iIiLc3Ny6urqIiIiq\n",
       "qqp2dnbMzMwQEBDu7u5mZmYyMjJERERUVFSYmJgAAAA4CJ/KAAAAAXRSTlMAQObYZgAAAQ1JREFU\n",
       "KM9jYIADpgcMyCAITL79f/burgkMDHNQ5Bh4FcDUbwYGnk4Ghk2okpwbQCT7NwYG1i8MfAtQJRlS\n",
       "QATLZyD+xsCogCY5A0TwfABa8JlBEU2OgdsASPADDddfwOCF5O5lS4BuYAPZU5/AwCrGwHAOIWmh\n",
       "wA00jQ/kIv9raUuAPhFFuLOPgesA0JECQPb5CWChZrgk108GRgegL4C6GT4yoElyHGCYXwCRZP8F\n",
       "EUIYOz+BIR5IMQtAvAkCCAfND2C4zaoAdhD3T4hQFlySx4FPlg1odQID1/6/DmAhQ6BBZ4DgJAPn\n",
       "FXddZ6CuAoTnMIJvIhIbe8DDwCFsUQYDaJHNg2INWjJ5xMAAAHA6PhPQZp1jAAAAAElFTkSuQmCC\n",
       "\" style=\"display:inline;vertical-align:middle;\" /></a> : <a class=\"ProveItLink\" href=\"../../../__pv_it/_proof_unary_or_reduction/2513c137112b2f1d07c22c536102cf8dee56a0a30/expr.ipynb\"><img src=\"data:image/png;base64,iVBORw0KGgoAAAANSUhEUgAAAEMAAAAOBAMAAACGIrzyAAAAMFBMVEX///9UVFSqqqrMzMwiIiKY\n",
       "mJgyMjIQEBCIiIh2dnZmZmbc3Nzu7u5ERES6uroAAACFTSmKAAAAAXRSTlMAQObYZgAAAGpJREFU\n",
       "GNNjYMAHmBUYCAGmhgFRsmtW+wH8SviqGfJBNGcaGCzAouR4AMNaAhatP8DgQUBJLQPPZ/xKeH4y\n",
       "MH1AcosAFiWfGBgTtPFbdIMhRGACDiVv7wLBAYaDHdYSD1DluVxc3EtcXAQA/xcjH3j22t4AAAAA\n",
       "SUVORK5CYII=\n",
       "\" style=\"display:inline;vertical-align:middle;\" /></a>, <a class=\"ProveItLink\" href=\"../../../../../../__pv_it/common/a2581dc5df71d9a30bad37de14965fa5fec97a240/expr.ipynb\"><img src=\"data:image/png;base64,iVBORw0KGgoAAAANSUhEUgAAAAsAAAAJBAMAAAAWSsseAAAALVBMVEX///9mZmaqqqrMzMxEREQy\n",
       "MjIiIiKYmJh2dna6urrc3NxUVFSIiIju7u4AAACJHQtQAAAAAXRSTlMAQObYZgAAAEJJREFUCNdj\n",
       "YLhzeuWJAwy8Dew5bAEMHBc43nIuYOBlYHFgAAG+A2DKzgBIMF04x8BzgWGegh/DcgaG22fuiBcw\n",
       "AAATyhBrnyPYZQAAAABJRU5ErkJggg==\n",
       "\" style=\"display:inline;vertical-align:middle;\" /></a> : <a class=\"ProveItLink\" href=\"../../../__pv_it/_proof_unary_or_reduction/0330071123fcae0349860f519aaabbc0ab2373150/expr.ipynb\"><img src=\"data:image/png;base64,iVBORw0KGgoAAAANSUhEUgAAACsAAAAUBAMAAADmX9mLAAAAMFBMVEX///8QEBB2dnZERESqqqpm\n",
       "Zma6urrc3NwyMjLu7u4iIiKIiIiYmJhUVFTMzMwAAABF6oizAAAAAXRSTlMAQObYZgAAANFJREFU\n",
       "GNNjYICBGjjLnQEBOA1A5BMQwVvAwPAAxOBjYOAoADG8wSoaGBjugRinGRiOMsCFGbQZGN6C6JUM\n",
       "DMuRhCdCNLMFMLAvQBLmSGBgCWBgYC5g4A5AEmYCcoDKHgNlDiAJ8wDt3M3AcI2BgcsBSZgFqHQW\n",
       "2EGMCUjCfB8YGFgdmBywCLM3cDGgGcIGcpYd0DOYVjK8XQl1E1yYVQHk+ACovqhVqwRXrVoLFAEF\n",
       "FPsEkIrlSKE5C8E8iiSsjWAyFyCCvgE9GtBVIEfacQYGAKsCK4Ghtx30AAAAAElFTkSuQmCC\n",
       "\" style=\"display:inline;vertical-align:middle;\" /></a>, <a class=\"ProveItLink\" href=\"../../../../../../__pv_it/common/0f21cbfd5644a1cae6781c1d58354abc2ffbc9000/expr.ipynb\"><img src=\"data:image/png;base64,iVBORw0KGgoAAAANSUhEUgAAAAsAAAANBAMAAACN24kIAAAAMFBMVEX///8iIiKYmJhUVFTMzMxE\n",
       "REQyMjKqqqq6urp2dnYQEBDc3NxmZmaIiIju7u4AAACH5sGpAAAAAXRSTlMAQObYZgAAAFlJREFU\n",
       "CNdj4LtzgWHXAwZOjgUM9xkYtvMkMIQyMDzgusDwl4GBof8ByxcgdYyBdwGQCmZgNQBShxn6FYDU\n",
       "47vnNzAwgGUZGJgT+H4AKUYF1gtAiuPuESAJAJGkFvXVdzA+AAAAAElFTkSuQmCC\n",
       "\" style=\"display:inline;vertical-align:middle;\" /></a> : <a class=\"ProveItLink\" href=\"../../../__pv_it/axioms/e4fd44a116e761626976446457cff75e14f66a330/expr.ipynb\"><img src=\"data:image/png;base64,iVBORw0KGgoAAAANSUhEUgAAADUAAAAPBAMAAAC2KZqIAAAAMFBMVEX///92dnZERES6urrc3Nwy\n",
       "MjLu7u6YmJhUVFQQEBAiIiJmZmaIiIiqqqrMzMwAAAAH70cZAAAAAXRSTlMAQObYZgAAAIBJREFU\n",
       "GNNjYGBgeMuAAfguQBl3oHww+QBM8h5AleMACbMfwCrH1wAkuBKwyjGEALE1A3a520CsgkOOC2iu\n",
       "Ag45ngMMHAY45NgWMKQy4JBj2Msgi1POlWEBTjmm5wdwyvF1JaDI7Vq1auaqVSsgQtFgknvVqpWz\n",
       "Vq1qQA1+NxQeABdrKzxqoRi/AAAAAElFTkSuQmCC\n",
       "\" style=\"display:inline;vertical-align:middle;\" /></a></span></td></tr><tr><td><a name=\"0x4043724cfaa5abe_step4\">4</a></td><td>axiom</td><td></td><td><span style=\"font-size:20px;\"> <a class=\"ProveItLink\" href=\"../../axioms.ipynb#or_f_t\" style=\"text-decoration: none\">&nbsp;&#x22A2;&nbsp;&nbsp;</a><a class=\"ProveItLink\" href=\"../../../__pv_it/axioms/40797c45d8c7d5d99c3f2db26a59f8a259d10b070/expr.ipynb\"><img src=\"data:image/png;base64,iVBORw0KGgoAAAANSUhEUgAAAHAAAAAUBAMAAACnq6Q0AAAAMFBMVEX///9UVFTMzMx2dna6uroQ\n",
       "EBCqqqqIiIgiIiJmZmYyMjJERETu7u6YmJjc3NwAAAC+aOQFAAAAAXRSTlMAQObYZgAAAQ1JREFU\n",
       "OMtjYOC7wIAH5OGWOg0imBLQRGd0gEAjA+MDBhwyDOtAPLYCiKgC2BQIOx1E8CzAYhdYhncCskYh\n",
       "EHEdSZrBHJdGjgfIGhVBRA+yxqO4NL5gQNbIBTSGZQKyRi4HHBorUTSyATVxP0DWyDwBh8a9KBoZ\n",
       "GhgYtJGlGXjBoWO1CgRWIsu0oWosZ2AQQdHI1oDDxhBUjScQEQDRyPSBOI2cCcwJxGlEcyrfAg4U\n",
       "aQaWBoQfF+IJHIZN1xmwBA4WGy3RNCr2oGrkNMCh0QMo19HRGtHRIQCJcHi8+UL4CpgafRFJDgH4\n",
       "DqDyT+DKVbwTGPACc5wy+/Dqw5qtkDIyTsD9AKcU/qLjHi4JAP4OSHMxpgrYAAAAAElFTkSuQmCC\n",
       "\" style=\"display:inline;vertical-align:middle;\" /></a></span></td></tr>\n",
       "<tr><td>&nbsp;</td><td colspan=4 style-\"text-align:left\"><a class=\"ProveItLink\" href=\"../../axioms.ipynb#or_f_t\">proveit.logic.booleans.disjunction.or_f_t</a></td></tr><tr><td><a name=\"0x4043724cfaa5abe_step5\">5</a></td><td>instantiation</td><td><a href=\"#0x4043724cfaa5abe_step10\">10</a>, <a href=\"#0x4043724cfaa5abe_step9\">9</a></td><td><span style=\"font-size:20px;\"> <a class=\"ProveItLink\" href=\"../../../__pv_it/_proof_unary_or_reduction/c837eefeb3f7aed7b8a2524236065dd8c68883f60/proof.ipynb\" style=\"text-decoration: none\">&nbsp;&#x22A2;&nbsp;&nbsp;</a><a class=\"ProveItLink\" href=\"../../../__pv_it/_proof_unary_or_reduction/735be3571e3daf96d68e32562676557ccd7ea68c0/expr.ipynb\"><img src=\"data:image/png;base64,iVBORw0KGgoAAAANSUhEUgAAAI4AAAAUBAMAAACpLhgeAAAAMFBMVEX///8QEBB2dnZERESqqqpm\n",
       "Zma6urrc3NwyMjLu7u4iIiKIiIiYmJhUVFTMzMwAAABF6oizAAAAAXRSTlMAQObYZgAAAaVJREFU\n",
       "OMuVlL9Lw0AUx7+mqf1hG/Q/cFAQXLp1ky4i6BLEyamLizhkVOjQpeqi1K10yiYtCNldXEShSycF\n",
       "BynoaNE/wfcu2nt3SQv9wiVHvu8+uXt394B/NSa9HSTVwAy5ge4XKjjss+5QDhKR5JI+ra9ZNaA/\n",
       "xCsw4g8ekFeD99SgZoIjXBWNv4FwI352gHd+D4BH6MjNBEe6KDOiFAmOE2HM7x5wKyJvEhzpwhvS\n",
       "o9gWnMKymvGij1woIvN1C2O4wAW1IwgOzuH6QCbAki8iHd/iGC6wTa1qcNYB+tUHoR5EZEkleuOS\n",
       "1eKu4dKaaG0Vg/MM3AMvZNVEpBta8zFcml6Ect3g7AJdtc8LdRHp/Vgcw6W0hrzTkvNNh6nm1Obk\n",
       "4ABrCU6uWbRnvhjq/FylrAunCE3OMbWtAVLzLGTlGZmvCHaeMe7prY4js6sWxzH3Hd5b2+Ts86nz\n",
       "J0vBSXwORxaHXbrFK3yLlVoTJ57pNR/Wtj75sbpT7oXWmVUOQusmYuY9nSon0qnURSelbmSCmZyO\n",
       "XammDRJumqqplfNp3rpaCvALRlprVIqBM7sAAAAASUVORK5CYII=\n",
       "\" style=\"display:inline;vertical-align:middle;\" /></a></span></td></tr>\n",
       "<tr><td>&nbsp;</td><td colspan=4 style=\"text-align:left\"><span style=\"font-size:20px;\"><a class=\"ProveItLink\" href=\"../../../../../../__pv_it/common/e4aad701f7f5516d8e7f0d805d518bf02c13322a0/expr.ipynb\"><img src=\"data:image/png;base64,iVBORw0KGgoAAAANSUhEUgAAAA8AAAAOBAMAAAACpFvcAAAALVBMVEX///8iIiIQEBBERERUVFS6\n",
       "urqIiIjc3NxmZmaqqqru7u6YmJgyMjLMzMwAAACK9jtgAAAAAXRSTlMAQObYZgAAAFtJREFUCNdj\n",
       "YACBOwxQcA5Kc59bAGGs7CuAMDbkBYBp1gXzNoAZSxnuJYAZAQx1DSCa16PDzwCshIGB6QCIMYGB\n",
       "gVEBSLMDGTwPgIxCIGZ+zsCw+N0pBk67hw0AfpEVEQi8t+wAAAAASUVORK5CYII=\n",
       "\" style=\"display:inline;vertical-align:middle;\" /></a> : <a class=\"ProveItLink\" href=\"../../../../__pv_it/common/373f61d65f7ccc0f6ebbafaccf02f2693d0e3bad0/expr.ipynb\"><img src=\"data:image/png;base64,iVBORw0KGgoAAAANSUhEUgAAAA4AAAAOBAMAAADtZjDiAAAAG1BMVEX///+YmJi6urqIiIiqqqpU\n",
       "VFQiIiJmZmYAAAD2GhH1AAAAAXRSTlMAQObYZgAAABhJREFUCNdjKEsDgVQGIHBmgABa0YpADADk\n",
       "ogYfXGfJdgAAAABJRU5ErkJggg==\n",
       "\" style=\"display:inline;vertical-align:middle;\" /></a></span></td></tr><tr><td><a name=\"0x4043724cfaa5abe_step6\">6</a></td><td>theorem</td><td></td><td><span style=\"font-size:20px;\"> <a class=\"ProveItLink\" href=\"../../../../../equality/_theory_nbs_/proofs/sub_left_side_into/thm_proof.ipynb\" style=\"text-decoration: none\">&nbsp;&#x22A2;&nbsp;&nbsp;</a><a class=\"ProveItLink\" href=\"../../../../../equality/__pv_it/theorems/75144010233a3c81a15f68a7971ea51ab0e7a18c0/expr.ipynb\"><img src=\"data:image/png;base64,iVBORw0KGgoAAAANSUhEUgAAAL8AAAAWBAMAAABj11ATAAAAMFBMVEX///8QEBCIiIhmZma6urrM\n",
       "zMxUVFQiIiJERETc3Nzu7u6qqqp2dnaYmJgyMjIAAAAcRTyBAAAAAXRSTlMAQObYZgAAAthJREFU\n",
       "SMe1VU1oE0EU/rruTzbZJl48eQkWSgkFcxFUREKFqmA19SDeDMEWKrXtoR4sKvGWCrW5WQRxBalY\n",
       "PAQ8iIK41IMQg0YURFDYs1C7KEpbi/rmp5vdJhHF+GD3zXxvZr43782bAf6H3JD6IX0ua3xoz7qd\n",
       "4yvDY3uBaEECegl4zhof2+R5gty9bCNekv0o9edIm4U2EZxygCdJvPaBRSBuA1a5TQQ7M/Q5OO8D\n",
       "tyhulYWFa+1K7ix94xlzwgfixLhSLF74w/k8tNpvBvygcH+Bkqbo7xjpo/hY1BwCpgF1dnT3mcYZ\n",
       "Gf6XRot3YpmW62vrwAMHkRpwD2+Tlyg+lOUDPNd4BTxrnCKzL4wjorOnJYHyrfo0BRiU0gpe2ofJ\n",
       "G4qWAYUYMUzpaUnAjZojOvMtCSJrXHXQHm0U+Z482njNYM2LEFBTAm7UszJxpZZlMOETAJ83CEz3\n",
       "BCuJVShT7ODu6qZ11G4Ydp1AGMmPvhymxIatruNDclkOijJIc8VCBO0rzx6jnD7NWuu9rKYVe8wg\n",
       "fithDwZ2IIx0mJ01bStiOYJSujupF0lmBOiXAYsUefBI8ZASScZ9xmK54hxgianrB9ETIBDGQzBv\n",
       "TygFqAzMxmtyAwLksmyL4Wmo3yOeSSO2sLwlkow1Lcev8v8+5AMEwtjPxutJaJwu4WeCg0z2/xST\n",
       "KC7RfKqL3aBxlrdOxpuQt4Xm8UKaxLYAgTCepOhmOrJQczzeyOqfSJYEGJL6VXGnfk0xh+bsm5Zr\n",
       "kcI51QsQcCMbbGSPkUOOecX0XkCeWgGGJHTZyRJZZuUzWJ5/s1ghhf4et04gjOxcqfmrFJKMtj16\n",
       "9kivLedyMFwPwes6JDJO5WgpUgvWgXCijLuYobhSgQYncTAk/oMT2VQysZJUunMUDQTUGVXJpcfi\n",
       "KfSFg82fzHebn7wNpb53mhAMYKBK7tGRqoXg6j9c8OnGDSr2X63wC2jlxTKsC1d/AAAAAElFTkSu\n",
       "QmCC\n",
       "\" style=\"display:inline;vertical-align:middle;\" /></a></span></td></tr>\n",
       "<tr><td>&nbsp;</td><td colspan=4 style-\"text-align:left\"><a class=\"ProveItLink\" href=\"../../../../../equality/_theory_nbs_/proofs/sub_left_side_into/thm_proof.ipynb\">proveit.logic.equality.sub_left_side_into</a></td></tr><tr><td><a name=\"0x4043724cfaa5abe_step7\">7</a></td><td>axiom</td><td></td><td><span style=\"font-size:20px;\"> <a class=\"ProveItLink\" href=\"../../axioms.ipynb#or_f_f\" style=\"text-decoration: none\">&nbsp;&#x22A2;&nbsp;&nbsp;</a><a class=\"ProveItLink\" href=\"../../../__pv_it/axioms/a7d16acf81a777cddea413e1d7da2f6fb73427050/expr.ipynb\"><img src=\"data:image/png;base64,iVBORw0KGgoAAAANSUhEUgAAAHAAAAAUBAMAAACnq6Q0AAAAMFBMVEX///9UVFTMzMx2dna6uroQ\n",
       "EBCqqqqIiIgiIiJmZmYyMjJERETu7u6YmJjc3NwAAAC+aOQFAAAAAXRSTlMAQObYZgAAARFJREFU\n",
       "OMtjYOC7wIAH5OGWOg0imBIwJdRABOMDBhwyDOtABFsBREgBbAqEnQ4ieBZg0QiW4Z2ArFEIRFxH\n",
       "kmYwx6WR4wGyRkUQ0YOs8SgujS8YkDVyAY1hmYCskcsBh8ZKFI1sQE3cD5A1Mk/AoXEvikaGBgYG\n",
       "bWRpBl5w6FitAoGVyDJtqBrLGRhEUDSyNeCwMQRV4wlEBEA0Mn0gTiNnAnMCcRrRnMq3gANFmoGl\n",
       "AeHHhXgCh2HTdQYsgYPFRks0jYo9qBo5DXBo9ADKdXS0RnR0CEAiHBJvMzo6Qjs6GoF8BTRdMBkO\n",
       "tOTPdwCVfwJXruKdwIAXmOOU2YdXH9ZshZSRcQLuBzil8Bcd93BJAABJLUe/77Ia5AAAAABJRU5E\n",
       "rkJggg==\n",
       "\" style=\"display:inline;vertical-align:middle;\" /></a></span></td></tr>\n",
       "<tr><td>&nbsp;</td><td colspan=4 style-\"text-align:left\"><a class=\"ProveItLink\" href=\"../../axioms.ipynb#or_f_f\">proveit.logic.booleans.disjunction.or_f_f</a></td></tr><tr><td><a name=\"0x4043724cfaa5abe_step8\">8</a></td><td>instantiation</td><td><a href=\"#0x4043724cfaa5abe_step10\">10</a>, <a href=\"#0x4043724cfaa5abe_step11\">11</a></td><td><span style=\"font-size:20px;\"> <a class=\"ProveItLink\" href=\"../../../__pv_it/_proof_unary_or_reduction/4a6225c72fafa192c960db55137f9df34ce24ce40/proof.ipynb\" style=\"text-decoration: none\">&nbsp;&#x22A2;&nbsp;&nbsp;</a><a class=\"ProveItLink\" href=\"../../../__pv_it/_proof_unary_or_reduction/084777339030fc6027e7e855da92cbd6864208920/expr.ipynb\"><img src=\"data:image/png;base64,iVBORw0KGgoAAAANSUhEUgAAAI4AAAAUBAMAAACpLhgeAAAAMFBMVEX///8QEBB2dnZERESqqqpm\n",
       "Zma6urrc3NwyMjLu7u4iIiKIiIiYmJhUVFTMzMwAAABF6oizAAAAAXRSTlMAQObYZgAAAaJJREFU\n",
       "OMuVVL9LAzEYfV6vP20PXZ0cFASXbt3kFhF0OcTJqYuL040KHbpUXZS6lU7nJA0It7u4SIUuTgoO\n",
       "UtDRon+CSVrN9+WuhT7Id7l7L++SL8kH/KHx39tBEg3MgBuafrGq4qcKlTChJCyH56v4Cgz1G1DQ\n",
       "g/f0oGZCTlitxmQg3FjFDvCungPgEUa5mfChLCrKohwTHyfGSD17wC1RXid8KAvvWYZSm/gUl/SM\n",
       "cwHyEVEW6pYNY4Fz2Y5AfHAGNwAyIRYDonQCy4exwLZsNeazDshffUirB6Is60RvXCi0VJexck1y\n",
       "bVXm8wTcAy+S8onSjaz5MFZOL0alznx2ga7e54U6UXo/lg9jZVojtdPU5xvI+o4/pw8OsJbwyTdL\n",
       "9sxzkcnPZcq6cIKI+xzLtjVAap4JrDwj8xXDzjNGPbPVY2V21fJx+L7De2tzn3116oLJUg6FWBbi\n",
       "Tn4ZWj6MVWiN/yfEzYoQ8nhfqcPaNid/jO6Ue2FwapWDyLqJmHlPp8KJTSpN0UmpG5lwpk/HrlTT\n",
       "BhE2DbXUytmft66WQ/wCZKhqInvJbsQAAAAASUVORK5CYII=\n",
       "\" style=\"display:inline;vertical-align:middle;\" /></a></span></td></tr>\n",
       "<tr><td>&nbsp;</td><td colspan=4 style=\"text-align:left\"><span style=\"font-size:20px;\"><a class=\"ProveItLink\" href=\"../../../../../../__pv_it/common/e4aad701f7f5516d8e7f0d805d518bf02c13322a0/expr.ipynb\"><img src=\"data:image/png;base64,iVBORw0KGgoAAAANSUhEUgAAAA8AAAAOBAMAAAACpFvcAAAALVBMVEX///8iIiIQEBBERERUVFS6\n",
       "urqIiIjc3NxmZmaqqqru7u6YmJgyMjLMzMwAAACK9jtgAAAAAXRSTlMAQObYZgAAAFtJREFUCNdj\n",
       "YACBOwxQcA5Kc59bAGGs7CuAMDbkBYBp1gXzNoAZSxnuJYAZAQx1DSCa16PDzwCshIGB6QCIMYGB\n",
       "gVEBSLMDGTwPgIxCIGZ+zsCw+N0pBk67hw0AfpEVEQi8t+wAAAAASUVORK5CYII=\n",
       "\" style=\"display:inline;vertical-align:middle;\" /></a> : <a class=\"ProveItLink\" href=\"../../../../__pv_it/common/bc5c31e39ae582b67c89fb24025b57f5b995e8890/expr.ipynb\"><img src=\"data:image/png;base64,iVBORw0KGgoAAAANSUhEUgAAAA4AAAAOBAMAAADtZjDiAAAAG1BMVEX///9UVFQQEBAiIiJmZmaI\n",
       "iIiqqqrMzMwAAADC2JlRAAAAAXRSTlMAQObYZgAAABlJREFUCNdjYGBgKGOAgFRa0s7GxkrGxoYA\n",
       "QSUGlQeagkgAAAAASUVORK5CYII=\n",
       "\" style=\"display:inline;vertical-align:middle;\" /></a></span></td></tr><tr><td><a name=\"0x4043724cfaa5abe_step9\">9</a></td><td>conjecture</td><td></td><td><span style=\"font-size:20px;\"> <a class=\"ProveItLink\" href=\"../../../../_theory_nbs_/proofs/true_is_bool/thm_proof.ipynb\" style=\"text-decoration: none\">&nbsp;&#x22A2;&nbsp;&nbsp;</a><a class=\"ProveItLink\" href=\"../../../../__pv_it/theorems/87f68fc870f4712c3feccc2c0a04f4f966bbba7e0/expr.ipynb\"><img src=\"data:image/png;base64,iVBORw0KGgoAAAANSUhEUgAAADYAAAAPBAMAAABdHiGLAAAAMFBMVEX///92dnYQEBDc3Nzu7u7M\n",
       "zMwyMjJERESYmJi6urqIiIiqqqpUVFQiIiJmZmYAAABV8JwGAAAAAXRSTlMAQObYZgAAAJVJREFU\n",
       "GNNjeHsXBO4wIAOuS+XfdE+CmbsY0AEb6wJ3vwbscuycDVwBBahy7XfvJkDluDegyoUvQehjnIIi\n",
       "x5KCZObcmABkOR4DhJzuf00Ud7Iju4WxQwBZLigNCGBuYSiYgSxnjqyPoYAHWY4JRe4AG7Ic3wIU\n",
       "fY0o/ruNCDMBRrkDINYMmJBPpQN6WCPAxFpImEEAACptMtKk+o6sAAAAAElFTkSuQmCC\n",
       "\" style=\"display:inline;vertical-align:middle;\" /></a></span></td></tr>\n",
       "<tr><td>&nbsp;</td><td colspan=4 style-\"text-align:left\"><a class=\"ProveItLink\" href=\"../../../../_theory_nbs_/proofs/true_is_bool/thm_proof.ipynb\">proveit.logic.booleans.true_is_bool</a></td></tr><tr><td><a name=\"0x4043724cfaa5abe_step10\">10</a></td><td>conjecture</td><td></td><td><span style=\"font-size:20px;\"> <a class=\"ProveItLink\" href=\"../unary_or_lemma/thm_proof.ipynb\" style=\"text-decoration: none\">&nbsp;&#x22A2;&nbsp;&nbsp;</a><a class=\"ProveItLink\" href=\"../../../__pv_it/theorems/6af34a2ecffd056f562cbfb136ad352b76ace5a00/expr.ipynb\"><img src=\"data:image/png;base64,iVBORw0KGgoAAAANSUhEUgAAANcAAAAUBAMAAADsL7WcAAAAMFBMVEX///8QEBCIiIhmZma6urrM\n",
       "zMxUVFQiIiJERETc3Nzu7u6qqqp2dnaYmJgyMjIAAAAcRTyBAAAAAXRSTlMAQObYZgAAAqVJREFU\n",
       "SMeVlk1oE0EUx59J02STTbwI3sqiF28uFPQkFDwIQiGn4DEHvaf0EI0ViiBsEE0uoijFFQ+RihAo\n",
       "gr2FFg/WHkI9FVGCOelBi/YQBT/eezOznZnshjrwZt9O5jf/mTdvZwIwuazEuevj/Zz+pFHWpQ3o\n",
       "5UNSr/yy7WYQmG6PdXzGv3VjhlAA2Vtq+JIkVmpDmQl2uWUPdQdjHT9TVfDEi0IMgOwBxWA5Sewd\n",
       "wBV67rBL5eMvrDbsfkVfF1OICaCVQgC3myR2DaBCzwa7FMy1n1g/sftl27qYQkwArbi1uno/Scup\n",
       "ifBN+ezSElL7FJo5q6MYQYlJxALIRkGwlCSWQqKAlmuzi+Vi4TfWrm91PGmIScQCyDDATW5ujovl\n",
       "KKFxSZekC/m5zHeaLmWI+5UL694xxCRiAWTnZXIV9+W6Pw0X1R5myTkBcFm6MAXODxq1Zs3quikm\n",
       "EAsgy0KKJ/2Ulvt88xx4vZWXEjpCe9Ph2bALldkzI0rrPUvsmCnWib4ODSBz+1lu3lrEVd1+GILn\n",
       "uS90sXSXslWIYTVzCDGBWACZM+BMzXgBhRSL582/0cPoDLLKLaAtUHBqB3tWjQmjQCyAoSaHdxrO\n",
       "yrPLm50p6wkCt3aU+wjtm0oQvVgJIhALYGiNd/s9nIa8L1aWvicZkeKVhnT5W2thTqd7ltimJVZp\n",
       "RN9pBDB0lLrkh9utMHM1CG7SnqUkwyuHki/cfOtPCK/+4t6WypbYBRyrXl84Xq9XIUIsgKFiSFsa\n",
       "wuMyVMXK3LR2XOH8wsiNsi32uNKOntB87xjQPK6wD69ZrOduawdxjJt0ECeXDR3KjcBp3YAcplxx\n",
       "aXg3uglzBzPW3JgrpjlRS10xZjmFezb58rR0jcszsRAQAx3qb8Hu//4t2BX2D8X01SL07nfqAAAA\n",
       "AElFTkSuQmCC\n",
       "\" style=\"display:inline;vertical-align:middle;\" /></a></span></td></tr>\n",
       "<tr><td>&nbsp;</td><td colspan=4 style-\"text-align:left\"><a class=\"ProveItLink\" href=\"../unary_or_lemma/thm_proof.ipynb\">proveit.logic.booleans.disjunction.unary_or_lemma</a></td></tr><tr><td><a name=\"0x4043724cfaa5abe_step11\">11</a></td><td>conjecture</td><td></td><td><span style=\"font-size:20px;\"> <a class=\"ProveItLink\" href=\"../../../../_theory_nbs_/proofs/false_is_bool/thm_proof.ipynb\" style=\"text-decoration: none\">&nbsp;&#x22A2;&nbsp;&nbsp;</a><a class=\"ProveItLink\" href=\"../../../../__pv_it/theorems/9245be62bf47fb80f33ddbb3ee8ca0ef807317de0/expr.ipynb\"><img src=\"data:image/png;base64,iVBORw0KGgoAAAANSUhEUgAAADYAAAAPBAMAAABdHiGLAAAAMFBMVEX///92dna6urrc3Nzu7u4y\n",
       "MjJERESYmJhUVFQQEBAiIiJmZmaIiIiqqqrMzMwAAADwFAjMAAAAAXRSTlMAQObYZgAAAJtJREFU\n",
       "GNNjYGBgeMuABnhWpn2d1QRm3kGXY2DlO+DmXYBdjo2pgOdBAqpc2apVAVA53guocs+OIPQxqqDI\n",
       "sYQgman14gGyHIcBQm7W/0ko7mRDdgtjuQCy3MtQIIC5hSFBHVnODFkfQwIHshwnilwDK7Ic9wEU\n",
       "fYUo/luLCDMBRukGhl2rVs1ctWoFWMgjyQE9rBFAMQsSZhAAAHA/MhEUp0UxAAAAAElFTkSuQmCC\n",
       "\" style=\"display:inline;vertical-align:middle;\" /></a></span></td></tr>\n",
       "<tr><td>&nbsp;</td><td colspan=4 style-\"text-align:left\"><a class=\"ProveItLink\" href=\"../../../../_theory_nbs_/proofs/false_is_bool/thm_proof.ipynb\">proveit.logic.booleans.false_is_bool</a></td></tr></table>"
      ],
      "text/plain": [
       "\tstep type\trequirements\tstatement\n",
       "0\tinstantiation\t1, 2, 3\t|- forall_{A in BOOLEAN} (or(A) = A)\n",
       "\tP(A) : or(A) = A, A : A\n",
       "1\tconjecture\t\t|- forall_{P | P(TRUE), P(FALSE)} [forall_{A in BOOLEAN} P(A)]\n",
       "2\tinstantiation\t6, 4, 5\t|- or(TRUE) = TRUE\n",
       "\tP(_a) : _a = TRUE, x : or(TRUE), y : FALSE or TRUE\n",
       "3\tinstantiation\t6, 7, 8\t|- or(FALSE) = FALSE\n",
       "\tP(_a) : _a = FALSE, x : or(FALSE), y : FALSE or FALSE\n",
       "4\taxiom\t\t|- (FALSE or TRUE) = TRUE\n",
       "\tproveit.logic.booleans.disjunction.or_f_t\n",
       "5\tinstantiation\t10, 9\t|- or(TRUE) = (FALSE or TRUE)\n",
       "\tA : TRUE\n",
       "6\ttheorem\t\t|- forall_{P, x, y | P(y), x = y} P(x)\n",
       "\tproveit.logic.equality.sub_left_side_into\n",
       "7\taxiom\t\t|- (FALSE or FALSE) = FALSE\n",
       "\tproveit.logic.booleans.disjunction.or_f_f\n",
       "8\tinstantiation\t10, 11\t|- or(FALSE) = (FALSE or FALSE)\n",
       "\tA : FALSE\n",
       "9\tconjecture\t\t|- TRUE in BOOLEAN\n",
       "10\tconjecture\t\t|- forall_{A in BOOLEAN} (or(A) = (FALSE or A))\n",
       "11\tconjecture\t\t|- FALSE in BOOLEAN"
      ]
     },
     "execution_count": 7,
     "metadata": {},
     "output_type": "execute_result"
    }
   ],
   "source": [
    "%qed"
   ]
  },
  {
   "cell_type": "code",
   "execution_count": null,
   "metadata": {},
   "outputs": [],
   "source": []
  }
 ],
 "metadata": {
  "kernelspec": {
   "display_name": "Python 3",
   "language": "python",
   "name": "python3"
  }
 },
 "nbformat": 4,
 "nbformat_minor": 0
}