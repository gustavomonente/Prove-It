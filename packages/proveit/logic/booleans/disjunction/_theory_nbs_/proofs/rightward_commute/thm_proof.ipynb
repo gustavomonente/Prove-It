{
 "cells": [
  {
   "cell_type": "markdown",
   "metadata": {},
   "source": [
    "Proof of <a class=\"ProveItLink\" href=\"../../../../../../_theory_nbs_/theory.ipynb\">proveit</a>.<a class=\"ProveItLink\" href=\"../../../../../_theory_nbs_/theory.ipynb\">logic</a>.<a class=\"ProveItLink\" href=\"../../../../_theory_nbs_/theory.ipynb\">booleans</a>.<a class=\"ProveItLink\" href=\"../../theory.ipynb\">disjunction</a>.<a class=\"ProveItLink\" href=\"../../theorems.ipynb#rightward_commute\">rightward_commute</a> theorem\n",
    "========"
   ]
  },
  {
   "cell_type": "code",
   "execution_count": 1,
   "metadata": {},
   "outputs": [],
   "source": [
    "import proveit\n",
    "theory = proveit.Theory() # the theorem's theory"
   ]
  },
  {
   "cell_type": "code",
   "execution_count": 2,
   "metadata": {},
   "outputs": [
    {
     "data": {
      "text/html": [
       "Under these <a href=\"presumptions.txt\">presumptions</a>, we begin our proof of<br><strong id=\"rightward_commute\">rightward_commute:</strong> <a class=\"ProveItLink\" href=\"../../../__pv_it/theorems/028c05a5970594b1cd738d632e77b82f816af1780/expr.ipynb\"><img src=\"data:image/png;base64,iVBORw0KGgoAAAANSUhEUgAABGgAAAAZBAMAAACflQV0AAAAMFBMVEX///8QEBCIiIhmZma6urrM\n",
       "zMxUVFQiIiJERETc3Nzu7u6qqqp2dnaYmJgyMjIAAAAcRTyBAAAAAXRSTlMAQObYZgAACk1JREFU\n",
       "aN7tW1tsXEcZ/n12j3f37DlrP0DVW2AbUOsiUm/l1unFVTaqRCsQytoVUR8KXcU4NVXbLAQlJTRk\n",
       "AeG4LcgrkNIoUHvToiZ1abJgWbRSK0wSbimBJQlRgJQYwkv7QEyuTtrE/HM7M3POrL0rIVEpO9Ke\n",
       "ncs3/3ye+WbmnzlrgPrDI+tL0AxXeoiuf6oReKHZY82AYUtTNP+r8PyV8Ee+zkQzTb7erlM0KfLl\n",
       "VZsKCQenSL/s6caqfcFkqqP/8cRU/TZeGOqu/shYcmSuv3s4q2V5a2ZXD3+pAYZH5oYGh4Rf0lqi\n",
       "onmLxN+tUzRuBb9S5aZEwiHF+jU14+fkqIhCQFsWYjhpQN9QheStVRMaTMatRQATi4xFcDVA5Kye\n",
       "14ayPl5pgORlVNp7Qs/TVDRb8Zko1ikaCtzaVIghHGJff7/o5wyQx8EQsJUMhZfm8/5kOYTeuQEf\n",
       "y0oGtBIk3NmMJiIXTEVgX0LH9bSe9zAai7TXT9I+hY9bRcEeKhqybriVen0asiS91VSIIXyNzcQJ\n",
       "OXoryWNDeBLn8RHjWnlFiENB/4OULTehlSDhqWvJkabdVAQWsvFO6XmdqIfopfpJWmSlWiFcku1U\n",
       "NN7+8fHn6naEj42Pv9z0hw0hwXrFs85oG1Y0E4a+g597ebzamQ2iI3QreMCEDuyGzPgyMuPtjKkI\n",
       "4qil7Rv0vBHC9v36ScbJhjsmXKxUlp6eZoeHn6pbNG3Dw5unmhIJB4t1/KeT/hyGJGbFDTdbE/h5\n",
       "mt95lH9RDaLHqPxeNqDV4MMT5+kKVwJTu215sNeV9bxZ0u65+km2EZdkRZ7nuxkqmgEjqRqiwb0u\n",
       "3rzhM4Q4HXwnSz0A2V8PGqAxXBi4E/lj6mHo6D+ma6GDg0Hh7qmaRei/PH5wc0XPowSt9+snSRl2\n",
       "ipXCm6aiuZe4xM6a+kSDK9ku1klm6fjyu//03kEGOdo/dXMY6A31WIqJ+88JuBb07Kg/QvPpViuU\n",
       "NGoyMfKpTYlTGXmsW5tqsQpjmCBuJx+FxQBfNC1KaWjlm1IWxjKi7wV6Ez8q8TFT0FoQ8NjZmkU4\n",
       "1iVwrtLzqIvSesZX4oIkiQ8EawSFZIGKJgYWzpL7avSOvXYf3JCXl3sFWELjx7PGrvd3dK8dXOqc\n",
       "jaZhZ3vYBfgnON9UK7aDfY3BnpYdFxFz46ZCn0ZNJmY+tSnx8CeAXlVSLbTVlV3duPo/sJTl7WAn\n",
       "1NA1TIFPPLD7u9YURd8L9Eep+1m2uwoBtB4EvIUe1xxTEQD5kzorWh51UdrahfmFSRIfCP7j62GG\n",
       "isat4lIEe03EXtl7D7zmliNlKZoD7F7YWWa84XvR39EjeUiSPyeBMvLCy+sY9vFRJY1wWB22p2cL\n",
       "0YjGPf7REryQJykNFpdMqvwDMqHykVV52wY8dON0zYdEg4+PgD8DIxXzsfRucQDFpbNlWvS9QG+i\n",
       "EzoH0UIAHegaDo/Ri6FJUxEAcV0601oedVGOV33zC5IkPpB3KSCaxDQ5dn3PtG48u60Mb6Yzrtye\n",
       "YJQexsDdkTG1tH+tv1ynIUIUHMPN0A5fMxDXu09d3RFyk2Fn1bKFaETjVlZ5DyISvJAnKQ0Wl0w+\n",
       "jn+0P+AsofKRVXnbBjx8BXGF4PaUxM+XpWgS0zHjKjUqXshgnVi76HuBpodw7HIxqqPm1zcCzm5o\n",
       "pkxF9JqG7yx+HnFRnKul+YVIUh9ouz/to2x7gqfJnkaa9u7p+5h1Y47H+JFrcvL7qmjiWyiHvrjJ\n",
       "ObPTwyK6Owe3kAWqEx9O6JrBIovQuJKBcPhl2KCeLUTjN45fd/qlPCEKWZLRoHHJBO1ESorRSEnn\n",
       "41flbYfx4KBn4LYHHeEf8itesdd/56DZ6/o8m0WJCrtBvqChx0jhfjmqAh0MHJ4gg+qW4dCfF2cW\n",
       "D+jtkmsae1bPIy7KrmlpfiGSxAdy/g3UvnSEYQKr26QDvOXVlketPI+V2GupSffVhxTRJNl+nY9g\n",
       "4tHQPSIshcRGGl2xpINOzidZSQAaC0puBX6eCFvk2QHR+I3vU1YAkSCFz1VFktGgccnEzSovamlC\n",
       "58Or+pTCeIjiWLeqvgA5itK7mpGSFM1Kdmu2G4HOZeAP7OxH2Cwi12PxC6zvJZoc2ifKclQF2rey\n",
       "e1qFAx7ak3cBHF4EV5Vv1CxBCi0vf0bPQ1FH14IimiBJbl40S1R9X4baJx5eZIqJpg0lZZFe23YT\n",
       "tGVJLo2VnQzbLaf2KqIBesLzKtYMPHRtUDR/g05ULo3+ga/t7GwXhLYF73oQDteHLbLsgGhk4zuV\n",
       "FYAnaGE8J5KMBo1LJk5RWaBoQufjV+WUwnhwsWdb1Eo4Bs7I5TK8NrdWiibFttEYEfM6EA+AE6yZ\n",
       "uXchOXI+YxU1NLw41J9VR/UE6FZieQ3u3LH6NhTsCwU4Az2apdaT57oGn9W5PDHXv/rbJdV8kCQ3\n",
       "z5tFG92DdzL7ZDlO5ZhoPJRUnK5Fq6CXnx1XwXKwnxwe/haK5vmYKpq/kseunt9eDN8+Oyd+P1IG\n",
       "Nm++i+tshTsvr4agxL9wVFca4cn2sEWerYtGNu5mX1LmOk3QwhY/yWjQuMJkn6P4sCSh8/GrCkoh\n",
       "PMSxwk8NrxFYEKJJlM1Hr236RpA2ov1R3VbjwKfDW9O4Yn29drvBPN98fSTRPn1VsQOkH9nyOfL8\n",
       "MHTAmM1iPTbk2UoT7VNFQ8NdkDgbHmI8ZY3l+MvP93B9J4K+g3lpAWikSHw97+63b38jJ+Dbs2GL\n",
       "LPvQm8dU0cjGneLtimRpghZu9ZOMBo0rTHZGlNfGJKHz8asKSiE8tFXA+RCp4K82hwyiqS+wvg9f\n",
       "BTX2uqYlZxUTM7m68Q2aR/uRqZx4Ycn3Cwu2lhMzuMIcdVnsq5PwK1JyGOBYUDRRnJSXaH8i9Bnx\n",
       "gM+inao3BZhKXITE9SQSq8JPSmHoRnB+B8lb4LokhdsI/xd9cyYxMvtnxZgiGtk4wIG8b5clWOEx\n",
       "UcZosLhkAu4R8BuiCY0Pg0tKJvzDZRjNQrJD9ol6p/jzhoYD+94Uko2N6hiuBV6x/lc8DZpH+7HP\n",
       "5MRPI/jU3we9lWge3oEt+1nsk1WI4/4S/UYW/duAaEaKsPV8lfRnb8W+BnpL5FGJz0JiZGMkC/Z1\n",
       "8JvTXYM0Ar/u+QTrehUKbv8eHOYBp+DD+8sUhgmGKcns1tyDimhk4+yEw+EswQpvE2WMBotLJvTs\n",
       "I8jQhMbHr8opGfDupq5udD5hQN7wO9KX/sGmVY0MB/a9afdZei7diJVPQaqUeKxc9wvWBs2jfesA\n",
       "nxrqzz0roVgH+jT6awQtbDBViiXZfQWT87xQKCQzGpzAZCIp34MsyWo3wsKifhEqE4VKoMwJ1NP6\n",
       "ViY4H63qfHgoWIf9+BXxc8+/gC6aZCkcC717UkPf6Yqhknsz/yUpCa/PC3XyVrZVhROYn5Cxl+CN\n",
       "alA0BFoz7Kn9bmq+eoJPvXiskDwAV15QROMZYvOKpnalaigyr/2qORF6URGHZviAiWbhsP7//H9P\n",
       "keZ4fQBCdP26/wLJqnGqYvSwCAAAAABJRU5ErkJggg==\n",
       "\" style=\"display:inline;vertical-align:middle;\" /></a><br>(see <a class=\"ProveItLink\" href=\"../../../__pv_it/theorems/42361fd191c747cc10333b151066fb6acf25d97c0/dependencies.ipynb\">dependencies</a>)<br>"
      ],
      "text/plain": [
       "rightward_commute: forall_{l, m, n in Natural} [forall_{A_{1}, ..A_{_a}.., A_{l}, B, C_{1}, ..C_{_a}.., C_{m}, D_{1}, ..D_{_a}.., D_{n} | A_{1} or ..A_{_a}.. or A_{l} or B or C_{1} or ..C_{_a}.. or C_{m} or D_{1} or ..D_{_a}.. or D_{n}} (A_{1} or ..A_{_a}.. or A_{l} or C_{1} or ..C_{_a}.. or C_{m} or B or D_{1} or ..D_{_a}.. or D_{n})]"
      ]
     },
     "execution_count": 2,
     "metadata": {},
     "output_type": "execute_result"
    }
   ],
   "source": [
    "%proving rightward_commute"
   ]
  },
  {
   "cell_type": "code",
   "execution_count": null,
   "metadata": {},
   "outputs": [],
   "source": []
  }
 ],
 "metadata": {
  "kernelspec": {
   "display_name": "Python 3",
   "language": "python",
   "name": "python3"
  }
 },
 "nbformat": 4,
 "nbformat_minor": 0
}