{
 "cells": [
  {
   "cell_type": "markdown",
   "metadata": {},
   "source": [
    "Proof of <a class=\"ProveItLink\" href=\"../../../../../../_theory_nbs_/theory.ipynb\">proveit</a>.<a class=\"ProveItLink\" href=\"../../../../../_theory_nbs_/theory.ipynb\">logic</a>.<a class=\"ProveItLink\" href=\"../../../../_theory_nbs_/theory.ipynb\">booleans</a>.<a class=\"ProveItLink\" href=\"../../theory.ipynb\">disjunction</a>.<a class=\"ProveItLink\" href=\"../../theorems.ipynb#each_is_bool\">each_is_bool</a> theorem\n",
    "========"
   ]
  },
  {
   "cell_type": "code",
   "execution_count": 1,
   "metadata": {},
   "outputs": [],
   "source": [
    "import proveit\n",
    "from proveit import defaults\n",
    "#from proveit import Lambda, Iter, Indexed\n",
    "from proveit import A, B, C, D, i, j, k, l, m, n\n",
    "from proveit.logic import Or, TRUE, FALSE, Forall, Implies, Not, in_bool, And, Boolean, Equals, Set\n",
    "from proveit.core_expr_types import A_1_to_m, C_1_to_n\n",
    "from proveit.numbers import Natural, NaturalPos, Add, Exp, one, LessEq\n",
    "from proveit.logic.booleans.disjunction  import left_in_bool, right_in_bool, multi_disjunction_def\n",
    "theory = proveit.Theory() # the theorem's theory"
   ]
  },
  {
   "cell_type": "code",
   "execution_count": 2,
   "metadata": {},
   "outputs": [
    {
     "name": "stdout",
     "output_type": "stream",
     "text": [
      "proveit.logic.booleans.unfold_is_bool_explicit is being implicitly excluded as a presumption to avoid a Circular dependency.\n"
     ]
    },
    {
     "data": {
      "text/html": [
       "Under these <a href=\"presumptions.txt\">presumptions</a>, we begin our proof of<br><strong id=\"each_is_bool\">each_is_bool:</strong> <a class=\"ProveItLink\" href=\"../../../__pv_it/theorems/2a6a31186c2f8e0dd1b360f1f26cab4239c05a9a0/expr.ipynb\"><img src=\"data:image/png;base64,iVBORw0KGgoAAAANSUhEUgAAAlQAAAAZBAMAAAAF762BAAAAMFBMVEX///8QEBCIiIhmZma6urrM\n",
       "zMxUVFQiIiJERETc3Nzu7u6qqqp2dnaYmJgyMjIAAAAcRTyBAAAAAXRSTlMAQObYZgAABpNJREFU\n",
       "WMPtWV2ME1UUPjud6c90uuVBg4oPNRpZjEDNygKySImJEiOhuw9AIgkNKxF50CrGIj9aDIECJlt9\n",
       "gA0JUEOy4CLYSDaRBOK4i3/LT0YhugorVeODJBoCgvyIeO69M50zndluMcDD4k06c86cM+fc+e65\n",
       "5557C1Bbez6Th9u5yZkVtaqm4XZvG/+HirctVaX7BFQldhuoAap6dosYwxIpNYuf9tKFxkWrHY+l\n",
       "l3P/jHwOwJ/nUB1iz07XAJVWxFt9YVhCVc+wqEO8piWdz5XYzu0GqCUOVQdeQ9kaoOJKHcNz/h1j\n",
       "l/k4Y2bFHc+DsiEl8bt7OFQsTnjADJmrWOgdGp5Qvc4u4zG0TsU435/JlEyowkWE6j0OVaSvq2tT\n",
       "TWn9ZFfX+8Mzu4f4Z63CnDWSJ5i5D9lRpT2NUNUn+Ap4MZdbURNU0VxurT4soZL4tLsAMGcxT/Kn\n",
       "yQR8ajamLy3OoVoIsK4mqPxJCN7cOvRWVLmKx7MgW9eVCwMNyznrz9tQjbx2B1v4SxyqJ0SCHxoq\n",
       "OQ57hAHvT3IAPuNc7yKh1t+mj3ErR9Y0S2UzsrhpVYyDp2e5vbnJduvtqcJfOOEWBliuli5hTkpx\n",
       "LzStawM4k8JpDlUAJO9iSVlyEO5LkRI0DWM5fSrh2Zk/HdwI0EYwYmsMdo5wZ4efQV1l90jcXhjc\n",
       "uNlcwq8BPrVob08uf5PNRz+OmzjFJOuY2SC+K11hbMsf2Ky0DtmZCMUZDpVmBDxs7+qdCh9rBV+B\n",
       "QHVE1OzqNE9ot1+lnC8F4cusjwhgxF2LbMPO9VdApejEeMT8ORji2RC/JoBPCkJsezJlVJH462SG\n",
       "9jcakhY6kSRQRTEqpLPgqIg4VP4yVKHSbI8Q2bC5AAdicY1ubLYqPMa0HXEvqPqWOGI6Bj42MAH8\n",
       "fiXmUmYLSWsFVP4kMS4lyK7LYojnB7Dj2JtXAB43xbYnU0YViT9Wbvbv6wJJgj6DTEBWVvn5zKhz\n",
       "QJXCbYosJiCsw9I9MrX1fulB1ldGsQSGrbv7XQdUwY08/luDXhWrEstR9sMkjGMROR4vqqvEl1jA\n",
       "dVVAFXAYz9pTpcwQz/iKLw/qeZBOm2Lbk5BRReoP043MEJck+WSepHVWVs3n9n0xR1SdLKd12Isw\n",
       "RKYbdYslNhSMyoudYbe2ex6FKjyRkykfMosrv94PEyk7a2wDH9ilgq1QDzjBFlBtchg/SCLDYrjQ\n",
       "XAISrO/y2W/WWGLbk5BRReovnBLbWcn3yK+WDoPuJzR3lxjU5fbGRtd60bNPF1BFEcTNoyGaYA84\n",
       "VVB5oHeD3us4WeAzOVKUzsC8eyqhOgHjKXsUYDS7/825SvWo7gHVDIfxnSQyTIYL7Q0uxplWAilt\n",
       "im1PQkYVqT85C9s5VBJMNnMVm18vXmtrypm7ls7VBcd2GeqTAqoIe74AWsSURWo6KEtzubcQqi0B\n",
       "B1Q/sMue5i8xnJdV7s1/OdxO59nbmLqLZlLa7VJneUU1KqB60mFcS3QCCY3OstAKNBVHO6hD6Iop\n",
       "Jp64jCpSf0oJ5uRyuRhCpcfoxoa0Z9ZmHAXUDnpedSc0wDZFUM0KpERUya3u86rHIHTeDRUulduS\n",
       "kSkDE/aLkcIPmMWiYhL+dJe6L8uqKFTXCVRzHcbV7AR6SDLBEh47cOzZz1ig+dBRtAjyJVNMPHFZ\n",
       "OSKRof7kFCYLEVV6nG6Xq7QeAlXoDEZTvwYdBaRe7QbWGTiO+z4XVJjo4CrvEequty6AxUfUCI+D\n",
       "UWEc6PUQugyhexkRMOCDvFt9JahfQbjBNBu0hs42jqVJqvyOYITwo1JdcT8LtG9ZzVGAd3RT1/bE\n",
       "ZZYzoUj8RXTQGJKSBof1QUrbyilTIlAh1L/Bxj5oKSL1sAFBnDzyGwmBvwOq9ix0/GWwHrUUlbuh\n",
       "Jc8uxeBFCLWvhIVq2pcAZRR8ca5xESfg82a296xQB62tBwFYqGTpClggxvkaaqrnBSOE/uQOeJR1\n",
       "H6NPe7OxabWla3viMssZZ6g/7CBswEffHZ30Oz3aG2qT4Dowto5jGjBXVTswXkZ0bSodjgfCuMiU\n",
       "V5sh1KXjBCqpSLVBdYyrneZgL6SZZsFTLN51VCc2w/2x5U/CXHUdB8bfe52th/O1na23nisSXYtS\n",
       "U1LCP8Y8iy4fSldRDx+hG5ss0R60dWJRuWDw+VLtXeHvwA36GyJyHX9DRAZ9y3ARVdUtqGbekmP0\n",
       "+A2CatCWuZn/A/qGCOkbejb13/4dkDOv/Qu6ARekLNXBXQAAAABJRU5ErkJggg==\n",
       "\" style=\"display:inline;vertical-align:middle;\" /></a><br>(see <a class=\"ProveItLink\" href=\"../../../__pv_it/theorems/0364632b8ad5bea3374e599ceb4a0fc9f95a10940/dependencies.ipynb\">dependencies</a>)<br>"
      ],
      "text/plain": [
       "each_is_bool: forall_{m, n in Natural} [forall_{A_{1}, ..A_{_a}.., A_{m}, B, C_{1}, ..C_{_a}.., C_{n} | (A_{1} or ..A_{_a}.. or A_{m} or B or C_{1} or ..C_{_a}.. or C_{n}) in BOOLEAN} (B in BOOLEAN)]"
      ]
     },
     "execution_count": 2,
     "metadata": {},
     "output_type": "execute_result"
    }
   ],
   "source": [
    "%proving each_is_bool"
   ]
  },
  {
   "cell_type": "code",
   "execution_count": 3,
   "metadata": {},
   "outputs": [
    {
     "data": {
      "text/html": [
       "<strong id=\"defaults.assumptions\">defaults.assumptions:</strong> <a class=\"ProveItLink\" href=\"../../../__pv_it/_proof_each_is_bool/8948df4f680c4175162c7df6d32a46a80a29cb900/expr.ipynb\"><img src=\"data:image/png;base64,iVBORw0KGgoAAAANSUhEUgAAAfsAAAAUBAMAAAB4wIkCAAAAMFBMVEX////MzMxUVFR2dna6uroQ\n",
       "EBCqqqqIiIgiIiJmZmYyMjJERETu7u6YmJjc3NwAAACgK8IjAAAAAXRSTlMAQObYZgAABT9JREFU\n",
       "WMPdWGtoHFUU/mZ3M/uaHZcVxAeSjQZsDEkXUUPxtQiVChFCW2ipRtcfgkExgyhB/NFQaVEJdImP\n",
       "ND7ICiooxawFbbCtmR/Wti6YrQrBgjYgFBExaUhtmzSJ59557NzduZsNKogXMky+79zvnnNf58wC\n",
       "ehl/v/0jIv9WU2f88WfYoyTp9M3SFybuuJBtiLZFrl+fX0pBQny32jZ8pGpk7cW2Dj3TuPiJQ8Pl\n",
       "X6zXTpEJ7z2yuLMVCLBp+UTW/5iShjaHhmhbZNxlkzy82l4CHpuTUQ8D0fMi9nwZ6hv2JlMqHWTq\n",
       "4V6gr9deqiqzmGKUTpWh0ewn8rL4NiQHgB40QtsiiXHTYVvYY7q2l4CfuSKhlGUgdFnASkP0GLO3\n",
       "cYDFmTDqqGsT5Ep0xYKDVZbxUDmcLAJdQKT6YCQmXn6Vv7QepVEG0Qhti3w95oql2GOoNnwvrvWt\n",
       "SKgwEYmLAvYBm9nNzqlJs0HNOuqxR+gRsldH6xF9p/DVHIV/HPi1+jwedlQ7U9rBmvD9aVukvNs9\n",
       "rzGaiJDPxvLiifCChIqTv8eHvFj0T4ZfB89he7Ce+liOOes48L7oO4Uf7KbwY1m8QB1u+2PgFqWr\n",
       "1Ton7px2qkbKjo9ZjMhpJsKszH43Aag0ctznxvXi3eqyhLoqDWWP6cVm+UjfOrZ99PdlHXX9El91\n",
       "x4FNou8U/pYUnZ9gHsfoGT+MqefwRNUt2YnbE4YVH7eYkdJMhNpXaKZDphT5P8Tc4HdlVHAtq1yU\n",
       "UM0d0xM5AbvPPr62esR981cPispnxNDioZ2r29n2K2AfcE2kgNkMznKq6IkvYLZY8XGLpJRmItSy\n",
       "mM1DGbUwuhdb/cKv4CHolyXU7hloWwVsv3XNO+phA4FsHfXIeQF+UgyNbf6fKIeqg6BZMKey6DfR\n",
       "zvV3fUzNjk9Lx6xLg1mcldNMhLi20Y00Qshy8CTPK7WtgqdGh5ck1GdsCnJe7DG+cU1HXRusyWaC\n",
       "RBPPKZoDN4u+U/goPkTIHPe8HzgA7ODlm3d5cbVix0cWt9aht1uriaaCG340F8z5OVjBafV2Sah5\n",
       "Fr7hxfbzo5101PEm7qynHuEVxeNC+Lp39VEM8PDZvn0LeAmhFT5ZPd74Ejm7C1ks16H55qdxIz1u\n",
       "+Hoh4l8eO7hKf3uBH08P5AdaRIqlfWzMejGeUoOuOn6rTclecyvjZ7g6vWyB4DsLPx3jYuzW2gZt\n",
       "AdHCOUaNCDXEvXZ826BeCcppJqLnrDLOcfDTaf9yycHPWVXiD73Yaj4rUiztK0sCNsv2wt0V9fiN\n",
       "Rj11nV19QZOpP+pefSPC6n/Prz7KCfoC1DnEMrygjrhb9kM2iwVMFbhFsHBaSvPEwnJ/fKXiYMqq\n",
       "YLRFejAj/lLBdWY2OaOfGMQCXhMosCtl81EBYzmyz6yoKxusLOYqTxUECUrB6jtg6uwWsPRd32NK\n",
       "JriJKqdohu0Lkgznob7LM5vW3m3ZXHuBlpYuksgQt9A7clKaiZRWD0KdvJR3HYzZNcceNnDafnFx\n",
       "bXLRxFOrryBg0AWyT+gSGJ8fbf8cosypQ23sNDjq+MiuN9PeISrm2ts3vc6kDF75vQev784nD2LJ\n",
       "2qI3dJdd1Trt6bVpr4jjoG5Kvo1FvCkZLupzSWmXKswN//cG1aOZJMsTvr6frPfJ47TM2rRXRB1c\n",
       "10fvLK1Qotjwh+y61SMPJGs+eZzW5V87it/ZRgN0RUQ/MG+sx8H7qVDXbzYb/Vll3erhe+BfIsAq\n",
       "EUprKCQaoUv4LzfJCltfB//7H7sSkh+7fgb+AhAVuSjE1HnRAAAAAElFTkSuQmCC\n",
       "\" style=\"display:inline;vertical-align:middle;\" /></a><br>"
      ],
      "text/plain": [
       "defaults.assumptions: (m in Natural, n in Natural, (A_{1} or ..A_{_a}.. or A_{m} or B or C_{1} or ..C_{_a}.. or C_{n}) in BOOLEAN)"
      ]
     },
     "execution_count": 3,
     "metadata": {},
     "output_type": "execute_result"
    }
   ],
   "source": [
    "defaults.assumptions = each_is_bool.all_conditions()"
   ]
  },
  {
   "cell_type": "code",
   "execution_count": 4,
   "metadata": {},
   "outputs": [
    {
     "data": {
      "text/html": [
       "<strong id=\"BeqT_or_BeqF\">BeqT_or_BeqF:</strong> <span style=\"font-size:20px;\"><a class=\"ProveItLink\" href=\"../../../__pv_it/axioms/67501eb487d67b93f0ec3f6965561f782e470d670/expr.ipynb\"><img src=\"data:image/png;base64,iVBORw0KGgoAAAANSUhEUgAAADcAAAAPBAMAAACy3Eq1AAAAMFBMVEX///92dnYyMjKqqqoiIiLu\n",
       "7u7c3NyIiIjMzMwQEBC6urpERERmZmZUVFSYmJgAAADEjrHzAAAAAXRSTlMAQObYZgAAAOZJREFU\n",
       "GNNjYGB4+//O2d0LGJBByez9mr4QodkMDDw/UCQZFNpZt54DMTj+MTBw/UGV3LCOoYIbxGD/xsDA\n",
       "9x0sxrfFxQkmaQyW5J7AwBDpCjZjewBCp1Q0iMF/gYHDFywaFIAwlsvjBojRf+/5FgOw0DWEnSv9\n",
       "f4JdW5/AwDoXIoTsILmHIMZOkAKQVo5JSkAAk+TmegBk/AVJFgAJNhSd3AwXIN5kuA+2YAKyJC+D\n",
       "AsSbHL/BQsdRdPIJMDAwAdWv3AoWYjGAB18jg+BZBgZe/b9nbm+GCLHeXooR8AjAJQ0NPggAAH2B\n",
       "SAzP/7V+AAAAAElFTkSuQmCC\n",
       "\" style=\"display:inline;vertical-align:middle;\" /></a> <a class=\"ProveItLink\" href=\"../../../__pv_it/_proof_each_is_bool/f6b5f7c8ef1908d79587b433a075b62e712133a10/proof.ipynb\" style=\"text-decoration: none\">&nbsp;&#x22A2;&nbsp;&nbsp;</a><a class=\"ProveItLink\" href=\"../../../__pv_it/_proof_each_is_bool/1dd9a23b4f65e6968c46cf87f08160a759f6cedb0/expr.ipynb\"><img src=\"data:image/png;base64,iVBORw0KGgoAAAANSUhEUgAAAFUAAAAUBAMAAAAO32ygAAAAMFBMVEX///92dnYyMjKqqqoiIiLu\n",
       "7u7c3NyIiIjMzMwQEBC6urpERERmZmZUVFSYmJgAAADEjrHzAAAAAXRSTlMAQObYZgAAAVVJREFU\n",
       "KM9jYMAK2B6gi5iBybf/75zdvQBVJhrBhErzJoB5sxkYeH4AaQ4wrwFEqCHpg0izKoDYHP8YGLj+\n",
       "ABm8IGV8BSDiAEIpTFocxGH/BpT8DhK9ACRYAkBEAkItTDoSxOGeAGS4wmxeA2KkIDkBJs0E8hL/\n",
       "BQYOX5BpDDZAvA3EqEFSC5NmBLmr/97zLQZgYRagOzaAGPuQ1MKk+UCeq09gYJ0LcVoBAy848JyB\n",
       "XncBAQGENLMDkNgJUg82mNWBIQisaRYsSi4gpDk+ABl/QZwCsNxhBmEMtTBpkFpQ+DHch8RbEoMD\n",
       "A9QNMLVwaS4HSPhx/IaGTx/E/H0ItXBpkN+YgOG3cis0jq6Aw45BBhYIDQhpHgEGXv2/Z25vhsnp\n",
       "QKgl8BBDSDM1oKW8VAiFHMcwEII99aKkHRgQx6EWEtMoAJImsYFoDBHuBFxqMfPQMwYGAHvcYep9\n",
       "mQxtAAAAAElFTkSuQmCC\n",
       "\" style=\"display:inline;vertical-align:middle;\" /></a></span><br>"
      ],
      "text/plain": [
       "BeqT_or_BeqF: {B in BOOLEAN} |- B or not(B)"
      ]
     },
     "execution_count": 4,
     "metadata": {},
     "output_type": "execute_result"
    }
   ],
   "source": [
    "BeqT_or_BeqF = in_bool(B).unfold([in_bool(B)])"
   ]
  },
  {
   "cell_type": "code",
   "execution_count": 5,
   "metadata": {},
   "outputs": [
    {
     "data": {
      "text/html": [
       "<strong id=\"BeqT\">BeqT:</strong> <a class=\"ProveItLink\" href=\"../../../../../../__pv_it/common/4eca3b30dcf58a58494e201d1b7886d8643a617b0/expr.ipynb\"><img src=\"data:image/png;base64,iVBORw0KGgoAAAANSUhEUgAAABAAAAAOBAMAAADUAYG5AAAALVBMVEX///8yMjKqqqoiIiLu7u7c\n",
       "3NyIiIjMzMwQEBC6urpERERmZmZUVFSYmJgAAACsPVCVAAAAAXRSTlMAQObYZgAAAGxJREFUCNdj\n",
       "YGC48+70nlUTGICgi4GB+zmQZn/LwMD5Gshge8rAwPsMyOBqYGDwMAEy+A4wsNs4ABl1Z68tVgBp\n",
       "ygtgYOkBMVaAOCChNyBGAsQYhnMTIMawvwJyGIHGzFjCwMAj92b3qUUMDAAXABxvZ4rl5AAAAABJ\n",
       "RU5ErkJggg==\n",
       "\" style=\"display:inline;vertical-align:middle;\" /></a><br>"
      ],
      "text/plain": [
       "BeqT: B"
      ]
     },
     "execution_count": 5,
     "metadata": {},
     "output_type": "execute_result"
    }
   ],
   "source": [
    "BeqT = BeqT_or_BeqF.operands[0]"
   ]
  },
  {
   "cell_type": "code",
   "execution_count": 6,
   "metadata": {},
   "outputs": [
    {
     "data": {
      "text/html": [
       "<span style=\"font-size:20px;\"><a class=\"ProveItLink\" href=\"../../../../../../__pv_it/common/4eca3b30dcf58a58494e201d1b7886d8643a617b0/expr.ipynb\"><img src=\"data:image/png;base64,iVBORw0KGgoAAAANSUhEUgAAABAAAAAOBAMAAADUAYG5AAAALVBMVEX///8yMjKqqqoiIiLu7u7c\n",
       "3NyIiIjMzMwQEBC6urpERERmZmZUVFSYmJgAAACsPVCVAAAAAXRSTlMAQObYZgAAAGxJREFUCNdj\n",
       "YGC48+70nlUTGICgi4GB+zmQZn/LwMD5Gshge8rAwPsMyOBqYGDwMAEy+A4wsNs4ABl1Z68tVgBp\n",
       "ygtgYOkBMVaAOCChNyBGAsQYhnMTIMawvwJyGIHGzFjCwMAj92b3qUUMDAAXABxvZ4rl5AAAAABJ\n",
       "RU5ErkJggg==\n",
       "\" style=\"display:inline;vertical-align:middle;\" /></a> <a class=\"ProveItLink\" href=\"../../../__pv_it/_proof_each_is_bool/284535b02b7dcc4abac7670c062b51d9fb37fcbd0/proof.ipynb\" style=\"text-decoration: none\">&nbsp;&#x22A2;&nbsp;&nbsp;</a><a class=\"ProveItLink\" href=\"../../../__pv_it/_proof_each_is_bool/0f9f4616c85fb3dbeb8db2be86216a4830f500c80/expr.ipynb\"><img src=\"data:image/png;base64,iVBORw0KGgoAAAANSUhEUgAAADwAAAAOBAMAAACBYGLnAAAAMFBMVEX///92dnYyMjKqqqoiIiLu\n",
       "7u7c3NyIiIjMzMwQEBC6urpERERmZmZUVFSYmJgAAADEjrHzAAAAAXRSTlMAQObYZgAAAI5JREFU\n",
       "GNNjYGB4+//O2d0LGFDBERcQ8AUxZzMw8PxgwADmEIrjHwMD1x+c0uzfGBj4vuOU5p7AwBDpilOa\n",
       "/wIDh28ATun+e8+3GIBZQkogoIMqXZ/AwDqXAafunSAlBjil/4KkC3BJg7zNcH8Bwm5dFGmQtzl+\n",
       "47SbCejtlVtxSfPq/z1zezMWWYZ1QAwAmGAm6Lnjy/0AAAAASUVORK5CYII=\n",
       "\" style=\"display:inline;vertical-align:middle;\" /></a></span>"
      ],
      "text/plain": [
       "{B} |- B = TRUE"
      ]
     },
     "execution_count": 6,
     "metadata": {},
     "output_type": "execute_result"
    }
   ],
   "source": [
    "BeqT.evaluation([BeqT])"
   ]
  },
  {
   "cell_type": "code",
   "execution_count": 7,
   "metadata": {},
   "outputs": [
    {
     "data": {
      "text/html": [
       "<strong id=\"BeqF\">BeqF:</strong> <a class=\"ProveItLink\" href=\"../../../__pv_it/_proof_each_is_bool/7e62a2cc7488cf98fcf25c6e4b2091ce54d5d3b80/expr.ipynb\"><img src=\"data:image/png;base64,iVBORw0KGgoAAAANSUhEUgAAAB0AAAAOBAMAAAAh/woJAAAAMFBMVEX///8yMjKqqqru7u6IiIgQ\n",
       "EBC6urpERESYmJjMzMxUVFTc3Nx2dnYiIiJmZmYAAABbDZECAAAAAXRSTlMAQObYZgAAAH9JREFU\n",
       "CNdjYIACjvW/3i0vY0AA1gIGhvcTEPz5DQwM+Q8QfP8NDAz9Dgh+KQMDc6wBgv+LgWHuYgSX81eH\n",
       "+yUg/fYuENxhYGD5zcBgugAquYuBgT0AKPYJwecHyrF8QfBB1nN9Q/BB1s8vgBnOwCDKwMAWjrB+\n",
       "4f91r8oVGBgAyy8lZJPyWlAAAAAASUVORK5CYII=\n",
       "\" style=\"display:inline;vertical-align:middle;\" /></a><br>"
      ],
      "text/plain": [
       "BeqF: not(B)"
      ]
     },
     "execution_count": 7,
     "metadata": {},
     "output_type": "execute_result"
    }
   ],
   "source": [
    "BeqF = BeqT_or_BeqF.operands[1]"
   ]
  },
  {
   "cell_type": "code",
   "execution_count": 8,
   "metadata": {},
   "outputs": [
    {
     "data": {
      "text/html": [
       "<span style=\"font-size:20px;\"><a class=\"ProveItLink\" href=\"../../../__pv_it/_proof_each_is_bool/7e62a2cc7488cf98fcf25c6e4b2091ce54d5d3b80/expr.ipynb\"><img src=\"data:image/png;base64,iVBORw0KGgoAAAANSUhEUgAAAB0AAAAOBAMAAAAh/woJAAAAMFBMVEX///8yMjKqqqru7u6IiIgQ\n",
       "EBC6urpERESYmJjMzMxUVFTc3Nx2dnYiIiJmZmYAAABbDZECAAAAAXRSTlMAQObYZgAAAH9JREFU\n",
       "CNdjYIACjvW/3i0vY0AA1gIGhvcTEPz5DQwM+Q8QfP8NDAz9Dgh+KQMDc6wBgv+LgWHuYgSX81eH\n",
       "+yUg/fYuENxhYGD5zcBgugAquYuBgT0AKPYJwecHyrF8QfBB1nN9Q/BB1s8vgBnOwCDKwMAWjrB+\n",
       "4f91r8oVGBgAyy8lZJPyWlAAAAAASUVORK5CYII=\n",
       "\" style=\"display:inline;vertical-align:middle;\" /></a> <a class=\"ProveItLink\" href=\"../../../__pv_it/_proof_each_is_bool/773c3417f0421b91bab24817c4626653919ba3560/proof.ipynb\" style=\"text-decoration: none\">&nbsp;&#x22A2;&nbsp;&nbsp;</a><a class=\"ProveItLink\" href=\"../../../__pv_it/_proof_each_is_bool/d497826bbae195a47b82683d256b00e3c2e9c2a70/expr.ipynb\"><img src=\"data:image/png;base64,iVBORw0KGgoAAAANSUhEUgAAAFgAAAAUBAMAAAD7IecQAAAAMFBMVEX////MzMxUVFR2dna6uroQ\n",
       "EBCqqqqIiIgiIiJmZmYyMjJERETu7u6YmJjc3NwAAACgK8IjAAAAAXRSTlMAQObYZgAAARNJREFU\n",
       "KM9jYOC7wIAG8hhwgtMI5qX/mpN2OzAwPUBXM6MDBJoYGNYhCUYzMHB+ZOBZgMXMdBDBOwEhwPiX\n",
       "gYHlJwODOS7FHEh2sv8Dav7OwHAUl+IXSALcAUCFPQwMXA44FFciCfArMDA2HWBgYJ6AQ/FeJAF5\n",
       "3es7EkD+APvQahUIrERW3AYMAHDAGDAw1D9g4AkCirE14DA5BMrhU2Bg2Aqk64FGM34gQvEnkOIC\n",
       "PIrbEIpBwcygDwwJlgaEmxdh8yBQMSiYGX/DPYjFZEsYT4CBCxjMrnuATE4DHIo94Fym9Z9mam8D\n",
       "sbgEMBX7okc3DJzAlUJ5scSWOc70vA9DBGsSxUj8sPT0AKdizGx1D5dSAGH8SPsa8fbGAAAAAElF\n",
       "TkSuQmCC\n",
       "\" style=\"display:inline;vertical-align:middle;\" /></a></span>"
      ],
      "text/plain": [
       "{not(B)} |- not(B) = TRUE"
      ]
     },
     "execution_count": 8,
     "metadata": {},
     "output_type": "execute_result"
    }
   ],
   "source": [
    "BeqF.evaluation([BeqF])"
   ]
  },
  {
   "cell_type": "code",
   "execution_count": null,
   "metadata": {},
   "outputs": [],
   "source": []
  }
 ],
 "metadata": {
  "kernelspec": {
   "display_name": "Python 3",
   "language": "python",
   "name": "python3"
  }
 },
 "nbformat": 4,
 "nbformat_minor": 0
}