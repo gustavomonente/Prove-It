{
 "cells": [
  {
   "cell_type": "markdown",
   "metadata": {},
   "source": [
    "Proof of <a class=\"ProveItLink\" href=\"../../../../../../_theory_nbs_/theory.ipynb\">proveit</a>.<a class=\"ProveItLink\" href=\"../../../../../_theory_nbs_/theory.ipynb\">logic</a>.<a class=\"ProveItLink\" href=\"../../../../_theory_nbs_/theory.ipynb\">booleans</a>.<a class=\"ProveItLink\" href=\"../../theory.ipynb\">disjunction</a>.<a class=\"ProveItLink\" href=\"../../theorems.ipynb#rightward_commutation\">rightward_commutation</a> theorem\n",
    "========"
   ]
  },
  {
   "cell_type": "code",
   "execution_count": 1,
   "metadata": {},
   "outputs": [],
   "source": [
    "import proveit\n",
    "theory = proveit.Theory() # the theorem's theory"
   ]
  },
  {
   "cell_type": "code",
   "execution_count": 2,
   "metadata": {},
   "outputs": [
    {
     "data": {
      "text/html": [
       "Under these <a href=\"presumptions.txt\">presumptions</a>, we begin our proof of<br><strong id=\"rightward_commutation\">rightward_commutation:</strong> <a class=\"ProveItLink\" href=\"../../../__pv_it/theorems/14abf96327693156b7911558f3334597e17c265a0/expr.ipynb\"><img src=\"data:image/png;base64,iVBORw0KGgoAAAANSUhEUgAAA6sAAAAyBAMAAABITVCgAAAAMFBMVEX///8QEBCIiIhmZma6urrM\n",
       "zMxUVFQiIiJERETc3Nzu7u6qqqp2dnaYmJgyMjIAAAAcRTyBAAAAAXRSTlMAQObYZgAAC2NJREFU\n",
       "eNrtXH2MVNUVP/tm3nzPDv8UAcWONkGaFHbIWlDBMMSkmDbtDjTF/mG7E1bollQZQ2MVRYZaYRTM\n",
       "TttEEav70KbqmsKkZFNJMI5C0xaVvoC1tIK7lraJJpUt+8GyfGzv1/u4993ZmTVvyczs3GTe3nfu\n",
       "uWfuu79777n3vN8OQOWpaXy8CFWWjkAjsRRK07+R8fEZk6nXdPBZrcoeJVJswGmmbzF4n31ucrCm\n",
       "qu5J5jXAtFK0n2XUGoc1LLT/+emA3sGSJbvqBNa9Sd67ZOlT9U/OyvclA3/jSGvnz0TnNb/j3uAk\n",
       "Vv0Xty/WfyWdVhtH1+d+OIkWfjC+vXN7nt348uW6o9ZhfYy/baYP3DxgSkiLVUc91SpE6axEuwmN\n",
       "kOUpXnaDDuFFuswCyL5QmQtwYK60KIYGXl9hEo28gsbCRWN09ZdbvGoc1vAYf3+C/vnIEq/Dl+OO\n",
       "ij78JNE4mztnNad2O4KvLcHJXtmMLsvzEgu2ZKmHdiCznguyImhHFT0zKm+keg5dFhkFb5fskEfq\n",
       "AlZ/gr9/iI7mA1ZfrsGXzc6JgM8CfobmawZUdu0WJOuLc7KPsf4KmQVbstSb56CLd4asCFpQT3ov\n",
       "V95IZRhd2nRjrS3ZIW/m6wHWPt7LBDN09ilD3LLsTThrfoI+d7C83pJ0am9Dw+MazS7zkEXw2zIL\n",
       "gh+gJpbjRVZNyIqgC7f2UuWNDGC30m249eZkmXFe47A+yN8q9KG+Hr5sLdNIFJBsMQ6gzxM069Xe\n",
       "1J3aIwB3beBk3WTQvCqxwPkFQz14nqwceZC1ZRR/70jljYzhvWBb2jisJ0oeccbqAFZ1iL8PEHhC\n",
       "SeKJvktlGTPHD2tUm26b4dfY04U28trqyOn5D/MW/sIcKatns8AlQz1yrmQRdZXKJdNA2UZiXwwt\n",
       "Re58euwznM7we/VzdQCrR2i9n+wtvRAcRIvlEiq7EeAeSVUlDj62lCWhG43+lby2gtzz3jQn20qf\n",
       "Xm3NiBa4ZKj7h0sWUVfpGzJMlW8k9sWw0fi6cKZkl3xWB7A2pYV78txrWhfjNY7iBC/LzwOhDOxj\n",
       "k6+jdSOaEod57QDqGOUiJ/si2bxo4M0IFvhkqDeR9TAkK6KuMjbDMFW+kdgXw//MVWqgZJe05Gsf\n",
       "1nZdBiu6XG/B6ilECrK6S+Ed5lpRPdSnT/HaMTRilHOcbCuZKCkTC9OCsIQwdT/p+15ZEXWVfbpp\n",
       "qmwj8TiNXq4A1m699mFtyUsW4TD63G/BGuz3S+u+AKxLUR0/6oULvDYeMb4hTkaOQREwsTAt8MlQ\n",
       "pyfWIpz4642JG9cJ1pGrDM2yTJVrJPHFe7PEFhjVqG/9j2wBq21Yt4Fky/QcCxsxWOHx49K6ge/R\n",
       "HVCwQKJSRkcY2njEtGc5WTeucNTCwrAgJqYexFBENHh/LszU5gnWUUfu67dMlWsk9sUh5DaRrdlg\n",
       "C+lLamRqH9ZZwj3e+JOza1fegnUNPefvR10RugLsgp78BzSU8AzuiwugZDlt+Bj1+SyNk+Fj0wHN\n",
       "woJZsIzu7+dMoGNT+DYIvpiBIVjGW0fDzrsJbLCKjWSmjEbiaOjKBLGFPbanWLJLIgMMVmLgdKWw\n",
       "NpMNtl4VqIYGBQHqpVDXFQ1eH99kwdpMD3l+vDo9AMYFgJ4MXhn/FMJd5xOBOKd933jH4lyBtwAv\n",
       "be9I2rFgZwvTqD/NqYduWX8z3vDGUSc/LFpf/1jebkpsJDPFvsJ3dmRx563EFolaNZeeXtFhBitx\n",
       "yp9WCitx7c1adRxbHSfDh2x5A9Zgicbu4R/tO6W1BZmJxR65YUG9KaVkgwMpqXXTVGWNRLY8xRTe\n",
       "OJfpEwTrbmw1WymsRHN3dazB4Yui5IQt//tJ2YoplX9tZlKWu9Eci2aLbphCtvzfSE0U6mcrGIIV\n",
       "Tz359lrqW/G8fqc6YI06Dvy2CNwvt66dVGSjYk5UcMlIfDKWvwbN+eCPNDdMIVvKexO9mKNBTwJr\n",
       "9GhPzzOVb5lO9fS8mqkOWJULjrGahWmQAvkJCkeNnfBoLvdI5bDGcrkdxep4vMiYQzQtSC9/n6jw\n",
       "egPWdfg1AQt1l4fVl2KjpcSYMV9q3Dl4uJOqRLcvU5zKgvTOEUOdSyXEdOEcg0YS0zUGrHeQxXpl\n",
       "qa3VpiNwQ9qC1Ztgccq+pNTfmS9VojMgQk7FwX9CaJvTrwhSpK7OltgTxB8tXLLUyPsGGig60v0G\n",
       "rH5QdCPULaTXDt8Or0c0j2YLR2RgAXFjy6WH15fMwKUnzTgp3Qj/k85NnSBF6rBeMiNt4tChVl2J\n",
       "BD9MNWCtANaIjgOST8mm3s49GrwRT0TsUab3aJwy8rL0Xe7RTUbOHwcP2bJhx73aoShKkTrc5LRn\n",
       "F5882AOKAkf1xiJcOv3EgDXYj7k0eFcZvX31l5R5KZZjhIve3l9wsL5AKDawOiDbdarxnJHdn4KF\n",
       "eJYruPN7HLtYUYrU4S2nQZuY0EIUxXvK8LWRCw0US2+Z4Il7WCa6Qm/aoKRZLk/jir2R395thzXw\n",
       "NHGqaQ+atBtEoz5YAsEtJNu2YD7B30/h9/EnN784KNrQ5z6nRSbGicQtFc+if5tDY3h67oQPTlQ4\n",
       "04T1AAKIhLr33ASxJIkj45wWIstsLxQP22ENE9pBtKAMwN1zRKMfQgvA4yR7jK2eMXIcUt/iYY2J\n",
       "hySkDtc5LVIxddsESgVuTTm2Z8K51QX6t3tUb/gAx5f5/eVU0b9RGjRhjSH/RUPda2EVY46shRWg\n",
       "PpjL/RTB+rzfDiuQqOO+ZX8ac5IgQ2fe7dKAvhXahbZF2JQf9U1IF7mXTGqlXZS8LFrcZXGa78rl\n",
       "cnEEa9GIzIQdsLpI/3aP6o1fNHmG4WrQv1HZJRPWqGaEur8A86FbpbllKqTpbPWu5mD9B77cBsFh\n",
       "Jwhoy9ydYgFm1Ig23MueLHn5LMBKpdGlp796KGWo4381EC1S8Yk3TuEFns7WorFXUy+LD+Ue/dtF\n",
       "qjdupncQrgr92wr1s0VRgd1acADN0pMRmvtxL/wBl7wPcIqDlWxf0Di+TEBAuk8aF/gmMqRHi4Du\n",
       "gmMQvA4XwxYI/ZnAaika0vBCuDZM1FWk/i/AFi0tS/y7LFowIvjblQi8W+QWHHtyj/7tItUbxzij\n",
       "5+Cq0L/Z6w8TVs8RWFXwpuETePoozX1FhwBaJryPJuk84WDtysLu8zpuyqqCOhtW5fGlEBiFYNcW\n",
       "TxLUa+GPg62dSVwMkY63NdI8JKWKeVO6LpQx1Ts08nCWliX2pTDfcif6/O3YLf81n+FRMcThGv3b\n",
       "Tao3Zrvt3QxXhf7NTgccO6LgyM1HvlUIHnJps6yWP0wJRbwpPOqc0kw4watvtt+YOT8sQE+iIN/K\n",
       "ff1y8dTkGv3bTap3LA3qAxpcFfo3C9HYYQ3nnTlnTNieVg8WJLUiX7btwQ2h2rJUIg2llaTPro4t\n",
       "HnTu5H8Dh2QxrT5hXXSP/u0i1Rva7z2+o8DLXKF/yyHKirBGJbmJYS1dS5ea0kt9gS6/KcetaRde\n",
       "E7tH/3aR6o3ZbqGZvGzq6N/dccciXDZNH/q3i1Rvwo9sKXCyBv17ouQZkMGadIH+7SLVm/AVWuKc\n",
       "bOro3zug9mH1DkkWYVfo3y5Svcnpmq6f7tK/pake/rUKNkm2TK7Qv12keuNjqzrKy6aM/q3Uwz9C\n",
       "ilth9+jfJajeDn52BVTvZtTFK57kZVNG/2a7jRqHtYl/Pvfo36Wo3iI/uzzV23d2pLVzJ9+WqaN/\n",
       "18ePDIg/CeI6/dtFqrdM5jr9m42+Wv8BnzPSUD9JrtC/XaR6u2C+LP07PKc+YP053yK36d8uUr3d\n",
       "MF+W/l0vP7clDPfpTv/ugPqAFRbzt9Ob/h3Nfj5Yq++HZ31xaCQjfd4fnq3Cn4m+uYGm6YIYvw//\n",
       "TPT/AW5EYOMmOjmmAAAAAElFTkSuQmCC\n",
       "\" style=\"display:inline;vertical-align:middle;\" /></a><br>(see <a class=\"ProveItLink\" href=\"../../../__pv_it/theorems/c0510665969e77c76032d02a64b5dcb45c4d0e550/dependencies.ipynb\">dependencies</a>)<br>"
      ],
      "text/plain": [
       "rightward_commutation: forall_{l, m, n in Natural} [forall_{A_{1}, ..A_{_a}.., A_{l}, B, C_{1}, ..C_{_a}.., C_{m}, D_{1}, ..D_{_a}.., D_{n} in BOOLEAN} ((A_{1} or ..A_{_a}.. or A_{l} or B or C_{1} or ..C_{_a}.. or C_{m} or D_{1} or ..D_{_a}.. or D_{n}) =  \\\\ (A_{1} or ..A_{_a}.. or A_{l} or C_{1} or ..C_{_a}.. or C_{m} or B or D_{1} or ..D_{_a}.. or D_{n}))]"
      ]
     },
     "execution_count": 2,
     "metadata": {},
     "output_type": "execute_result"
    }
   ],
   "source": [
    "%proving rightward_commutation"
   ]
  },
  {
   "cell_type": "code",
   "execution_count": null,
   "metadata": {},
   "outputs": [],
   "source": []
  }
 ],
 "metadata": {
  "kernelspec": {
   "display_name": "Python 3",
   "language": "python",
   "name": "python3"
  }
 },
 "nbformat": 4,
 "nbformat_minor": 0
}