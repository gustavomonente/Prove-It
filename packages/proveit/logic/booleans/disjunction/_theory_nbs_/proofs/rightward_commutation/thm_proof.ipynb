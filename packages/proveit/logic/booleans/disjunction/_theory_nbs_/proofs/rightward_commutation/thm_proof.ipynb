{
 "cells": [
  {
   "cell_type": "markdown",
   "metadata": {},
   "source": [
    "Proof of <a class=\"ProveItLink\" href=\"../../../../../../_theory_nbs_/theory.ipynb\">proveit</a>.<a class=\"ProveItLink\" href=\"../../../../../_theory_nbs_/theory.ipynb\">logic</a>.<a class=\"ProveItLink\" href=\"../../../../_theory_nbs_/theory.ipynb\">booleans</a>.<a class=\"ProveItLink\" href=\"../../theory.ipynb\">disjunction</a>.<a class=\"ProveItLink\" href=\"../../theorems.ipynb#rightward_commutation\">rightward_commutation</a> theorem\n",
    "========"
   ]
  },
  {
   "cell_type": "code",
   "execution_count": 1,
   "metadata": {},
   "outputs": [],
   "source": [
    "import proveit\n",
    "theory = proveit.Theory() # the theorem's theory"
   ]
  },
  {
   "cell_type": "code",
   "execution_count": 2,
   "metadata": {},
   "outputs": [
    {
     "data": {
      "text/html": [
       "Under these <a href=\"presumptions.txt\">presumptions</a>, we begin our proof of<br><strong id=\"rightward_commutation\">rightward_commutation:</strong> <a class=\"ProveItLink\" href=\"../../../__pv_it/theorems/8d9613abea38df2c206c2bb720a94ba21b1e6e9a0/expr.ipynb\"><img src=\"data:image/png;base64,iVBORw0KGgoAAAANSUhEUgAAA5YAAAAyBAMAAADVQFkoAAAAMFBMVEX///8QEBCIiIhmZma6urrM\n",
       "zMxUVFQiIiJERETc3Nzu7u6qqqp2dnaYmJgyMjIAAAAcRTyBAAAAAXRSTlMAQObYZgAADSVJREFU\n",
       "eNrtXHuMVNUZ//bOa+fOzO7+UfCJHTFBmhR2yVpQwTDEREybloGm6B9WNqxQNLWMoaFKRYZaYVXM\n",
       "TttEkVZ30EYepjgtIUqCcRSatvhgAtbaysvS/oFJZWVhgeWxPe/XPXf2jvGPnV1OsjNnv/Pd3849\n",
       "v3POd853f7MAwUvD4GAZhlnZA6O8uB30fd/gF7Vc1rDz+eIwu5NkebRzCd+jb1ue/2NNXGaH3Y1M\n",
       "GPVUQuooq8ytby4TLaL6wiigLVGwWdeNDC43ZkTYyJO3yNHaAO61jPOl/e1LfmlGpYmdD8aDr+f+\n",
       "7qmlZxd33V/DJ/xocM2SNZzD+6t1Qp1z+bioNdHbberlhgh59X5i3X6Cm7OyrQENi5lZ3fP6CiSm\n",
       "VKojKxCqu9HUjEbbkRIEhoJLaACcZ/Zt1Ran+uYyMSCqB+jbYWGJ4g+bSnuu0eypE3wztwi/7CfV\n",
       "BYiEOW2a5+YV6GVmoTqyhNDcTXR0YagFgkJB5CR6mcK3emlbNzw6EriMtYnqI3Rt235OzD+8V495\n",
       "992a/VXR4fPxywpSbUW2I2nN81P8OmsIZAmhuZvoqBPDFwNDgXMavcxhc9xtsXXDW4URwOURMfTj\n",
       "OTrPnFOi8Tj6ud1ykWqvtGaUNTpMh8Zq1GdXFFXPEFnjvj8EsoAw3HX0bvxpLwSFAmjEUaOHx97/\n",
       "VBnS9c3lw6Lm0Nv5duKiMG1HP09aLlLs4eJbPKglEEAjHRr9AHc9oHn2kJGyZQhkAWG46+hn8d/t\n",
       "DwqF4ive1M1hCQHYbd1PDdQ/lxE5CRsJJ26GRJe76WhFDnnbKJb23+Po5S4l9Ry/LtJ/aOLPdc99\n",
       "LEyx6/yQOcS+tG8TDX/OhaBQNL5CK5+Xh0nU/JwUEWDck/XPZUhGjxjZGYYh3ocWt2l0qqYhmrFc\n",
       "pdgz0IM6ZDapjwe4j7ajkLuxQ/NcRW880p6riswhVmV9m2j4i54KCkXjKyzlPq9bO+Lz+ueyoUNW\n",
       "yc3Ob5+KlzBKjpuzb+GlPdLZvjTP161N4NKzaSMaIc55zfPrZHdShHCuKjKH4O6WJhr+mluCQtH4\n",
       "CiLVusDaEa2FuudyQcXgEr1cJ7iE6fCu9TJhD6PrUI89Qyd5KUlPfc1ohDgnNc9VJIZlOQF+yByC\n",
       "u1uaaPg7UgkKReNr6mJ1Lnsqdc9la0FfYxPo5yHJ5YuQs14m7OiaGJqE9BgTPxqTIyR6SvMkJ5ck\n",
       "CAJ8kDkEc0/dNu8GZ0LWQEfhz70yMBSNrxvzcODv49v4rbF42WEsUHXN5WrQ9z6/ZYkcxmXjD60n\n",
       "a2GPl0ieKMKi7hP75QhZkNc8e/DbXkmAHzKDYO6pWZWGB5wOAx314bajgaFIfHVRPPxwHFzF9z7e\n",
       "O8rVPZdXymqyjZ0xuwuCy8iPaMh6DXWde4lVFPtzuBfOgcP2kfPp2Rw+RR19ZVHzxCed7UVJALNL\n",
       "UIbMIJj7hhuhORMq6+horIWXgQfK8yG5P05Kzm6D+Es5wCePGdaOSPZSLsmlh4Jy2UTOM5VhQaXb\n",
       "J+uoa9zuS0V4Y3CZ4BKOsfUXT43lvCLsmwc/g0T3mbZGNjGa6B7/J4OdU7tKOgK8vKYzoxDA7QKU\n",
       "ITMI7r4QdW+sZKIvfrxggTI/JPOPnuifuuQWXEmH8frxX2tPpE5TLkno/SwolyQiNxWHx/HypPLL\n",
       "I0qdc7nB50Ld3vADFqKKQ3lKAnyQDYgxMBF6Inb0GqFQ34fKWbzt9e+JubAeX5gPyiXxXD88ltjE\n",
       "eeWXA0r99Zpgmp3gfzFXC3C8F83Mj5NfBRSKwRD7TtYnt85WqLlkkvH9b4B4iWfwu8ODS7qy8PAv\n",
       "97S/WbWwpoxDYMlQfFp/ugbgcAcch2f3fhVQAHeA877PMy+adsRcpvZu3fpc8L3Pwa1bt+SGB5fO\n",
       "OXVo5mEUlCd97GfZPvZsV9ejwbls7upaWx4eN5YcUH8bDRqRVMGn4TrG5SJMN0swD81lNMuWs8ZC\n",
       "9ZFzZ9/uJdQltWaG43U2rHf2c3et+Jjp4jgAlwstVzAubyepv9l+m8Vle+D6DslluI0t2kcy1pEj\n",
       "Hl2kWiBJTuHxf4O72hswDCtyj1xlwTPMhydPm87r0d7LJLLyEOMyBk7F58HYq7tvgzeSxVBRyRXk\n",
       "YBKJTzOth8yXReYw1MEkHD2I9I+9+zLDitxhsWXuKWZ3V3vFScY/yV7m0o/LZAWn/p6xTbKnNxTh\n",
       "zXRbUs37vE8TiMlNbTbQvct4LZaGEMlD4GA8z+NoWpE73OjFU80f79wKjgN7K5fXWLP8jHEZP4rV\n",
       "JXhPKJPBuMbECzt2/Frj8kWiUYF5jbaNYyTdxauvZWEyns8O7vGtnj2oaUXu8LYXUDETzYTjhA/y\n",
       "+Jk8d5lEY+8DT94HNMEsk8G4VqDpvR3JP9yjctn4LAmUHSE0PR8wMaMwDeIrSXXOpImE9BjlPKrn\n",
       "MWLmSJiDE1xeRGYmWS0yBkJTRBrLOe2NwpVRQNxOr2ks53I7YoUkmGUyGNeKLllFd0B5t8plgjy1\n",
       "T5WcXrjnahPzE2gFeIJUP2CLYzM5wUTe1rlsNs81yB2u9SJSMw3FhD8Hbsl69lmibKZv99bWOVaB\n",
       "9EtrplZ+FxzD3/0jnODNmDZFwBzkMKIqpKPeC/s4l80oJtEEs0wGL4RZEHm4q+sXiMsXYiqXQHJ/\n",
       "22b8dYCr/pQD+7H3uotAnyGtQ/sbDBVDrLkVUzjIrLKso5pdE3GdlPLe1dXVlUZclnnCJOHl8jh9\n",
       "EwpmTTSsFs0uBNKK9NgZhwb5uOoofu56E36cEzpt2FQBcwB4TSHteoaee4FzmSryBLNMBo+BGRHo\n",
       "oPMyPE/j8l/45VaIn/b2PNrw9mRZchd90jl4AIXy5DGuwSW1pqYf+tauLHfHWnoTkZoPvHkQr990\n",
       "Xpb5pity0TN8aZNUMKuiYa1odiGQltJjdy2CCJ2rjuLnrjWRjxnuM2yqgHloeEMh/Y6H9ZOcS8K7\n",
       "A+uLPBlMaj/dAX/GLR8CHNS4JPsQNKUukp5Hvk/xF/guAqqkyoB+iw9A/FrcDCvB/RvhUjpya2Iy\n",
       "XJMg7hHkjrWfKxQvaf5THi0NSfzXnSS8V9ZWFm2209VHKphV0bBWVLsUSEvpcRNe7MMt1VH83LUm\n",
       "kmpMnTRsqoB5aHhDIb3R9KRPGTiXoT0wt8STwaT2zQo0okkdfixDZ4TGZXce1p+p4L8/t4TO8nML\n",
       "+KXUeBbi3StDGYhcA3/pa1+Swc2Q7HynSD4TslLHgrAucnPCvbNI7kh6SXM0iwWGT6Off3xw8//E\n",
       "LTxm3hPLK0sFsyoa1opqVwTSQno8E69nkbYhUHzctSaiBdu4wrBpAuYh4Q2FdJOZpqE7elVXUPLU\n",
       "JqJ4aeTwtLLCdlUsQZU3OhQeX15rLtGmu69QfxG1GExCH99B8VL78zPNm7+BLhpSwayKhvWRrNgV\n",
       "gTSXHsfPkAlbGALFx11tIlqwyPKiYcNxSAiYh4IHQyGdNHmP9hpcyi/3JQr++Vi1zOsrWa5KfkPZ\n",
       "NnNjpHW6xep2OJmo6o4Rd3o336/ALtth40jRMNCEB1EwcwmxFA3rRdqpQPqVXjpo6HVJ/pj7bqiG\n",
       "4nH3NqFQ9+D+tSXThgdlazkgvFRIs4XE3Pw05A0uU5ZadS79r6pYoSp+f6Bi/2Wow+IC87ErlZsT\n",
       "BTMXE0vRsF6knQqk6XN+Lj2OsaMrk037oZjuliaiBXPHmjYqYA4ILxTSfCqYDx2JWGzEaJ1p+RoZ\n",
       "w1TBzEQYmyxbeN1OBdJ03eLS4ways3XFIwcfFI+7t4mqBVtLuo0LmIPBS4U0W+TMRPQI0DqHem1c\n",
       "MgUz41KKho1rhT1DUmD0Cylcehzrpccx3tl+KKa7t4k+829N6zYuYA4GLxXSPlyuhbrnMnzKtsYy\n",
       "BTPjUoiGzWwftzOBdDMN4Ux6TI+KZdHZfiiGOxYkj1+kNdFTMPs+iLAxAXNAeKGQpmlyqfviZQR8\n",
       "NwiWWfY+TMEsbviJ/fZruZ0JpFlHMOlxHPdOsigf6/qgGO4fjoOxxQlaEzleRs4aNiZgDggvFNI0\n",
       "Te7Z+zgj4Dt7no3sbhAKZsElEw0LHTGpSDsXSE9kyxeTHqNTTeJWpbOZtwBgKLo7FiSf4nJk3tSE\n",
       "1ohZTxk2KmD2wJsfkvtzhTRJk6NloGzdN9Q3lw3GTc2WCmbBJdcfCx3xctUuBNL8IM2kx+7Ni28C\n",
       "pbMZigRYbnOPpiMtbDPNm6In+tuXPA2mjQqYTXjPh2TwQiG9kHxzvsngYUR8xz0xYM3h0WDKuLRJ\n",
       "mC32MezeNnhGR1UUQzaddfLxXjuS1VYbPEuTo22vXhjjdf4/YY5Zc+v2Q1j10pu2mmuTTfegmZnK\n",
       "l4NfUBs80DS5mVtPXD0iuPyV8YmkfrRWMfGMjM1ao2z6DmgqxH9cDOxfIzzQNLl5Fh0h/6vJnHyb\n",
       "YRQUM3XbCSOCS5hqLEKjQSPyTyOw5L8Ul8Pvf45G0zDay5f8n6PD8H8B3zTaqXSZ3G3f4Bf/B5pO\n",
       "ZNAgJNFWAAAAAElFTkSuQmCC\n",
       "\" style=\"display:inline;vertical-align:middle;\" /></a><br>(see <a class=\"ProveItLink\" href=\"../../../__pv_it/theorems/a2c7a098ab96baab237e9404397baefedab020110/dependencies.ipynb\">dependencies</a>)<br>"
      ],
      "text/plain": [
       "rightward_commutation: forall_{l, m, n in Natural} [forall_{A_{1}, ..A_{_a}.., A_{l}, B, C_{1}, ..C_{_a}.., C_{m}, D_{1}, ..D_{_a}.., D_{n} in BOOLEAN} ((A_{1} or ..A_{_a}.. or A_{l} or B or C_{1} or ..C_{_a}.. or C_{m} or D_{1} or ..D_{_a}.. or D_{n}) =  \\\\ (A_{1} or ..A_{_a}.. or A_{l} or C_{1} or ..C_{_a}.. or C_{m} or B or D_{1} or ..D_{_a}.. or D_{n}))]"
      ]
     },
     "execution_count": 2,
     "metadata": {},
     "output_type": "execute_result"
    }
   ],
   "source": [
    "%proving rightward_commutation"
   ]
  },
  {
   "cell_type": "code",
   "execution_count": null,
   "metadata": {},
   "outputs": [],
   "source": []
  }
 ],
 "metadata": {
  "kernelspec": {
   "display_name": "Python 3",
   "language": "python",
   "name": "python3"
  }
 },
 "nbformat": 4,
 "nbformat_minor": 0
}