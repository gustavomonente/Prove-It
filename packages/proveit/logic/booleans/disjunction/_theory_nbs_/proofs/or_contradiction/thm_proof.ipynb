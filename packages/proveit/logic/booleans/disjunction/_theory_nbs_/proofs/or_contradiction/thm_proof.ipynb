{
 "cells": [
  {
   "cell_type": "markdown",
   "metadata": {},
   "source": [
    "Proof of <a class=\"ProveItLink\" href=\"../../../../../../_theory_nbs_/theory.ipynb\">proveit</a>.<a class=\"ProveItLink\" href=\"../../../../../_theory_nbs_/theory.ipynb\">logic</a>.<a class=\"ProveItLink\" href=\"../../../../_theory_nbs_/theory.ipynb\">booleans</a>.<a class=\"ProveItLink\" href=\"../../theory.ipynb\">disjunction</a>.<a class=\"ProveItLink\" href=\"../../theorems.ipynb#or_contradiction\">or_contradiction</a> theorem\n",
    "========"
   ]
  },
  {
   "cell_type": "code",
   "execution_count": 1,
   "metadata": {},
   "outputs": [],
   "source": [
    "import proveit\n",
    "theory = proveit.Theory() # the theorem's theory"
   ]
  },
  {
   "cell_type": "code",
   "execution_count": 2,
   "metadata": {},
   "outputs": [
    {
     "data": {
      "text/html": [
       "Under these <a href=\"presumptions.txt\">presumptions</a>, we begin our proof of<br><strong id=\"or_contradiction\">or_contradiction:</strong> <a class=\"ProveItLink\" href=\"../../../__pv_it/theorems/9602891f9843e9c29c5e11fe105be79cd1e905a80/expr.ipynb\"><img src=\"data:image/png;base64,iVBORw0KGgoAAAANSUhEUgAAAX4AAAAZBAMAAADEcliZAAAAMFBMVEX///8QEBCIiIhmZma6urrM\n",
       "zMxUVFQiIiJERETc3Nzu7u6qqqp2dnaYmJgyMjIAAAAcRTyBAAAAAXRSTlMAQObYZgAAAz1JREFU\n",
       "WMPtmE1IFGEYx//O7rrOl9KhQLwsFH1ccqFE/IgmIjoFq4ckvCySl04LQUtgsMe1Du7JpIsLgoaH\n",
       "GvQkGGxQIFvBkARCSAt1qZOHIgmE3vl+552vlaLx0AO+O888///z/pzZeWdmgejoLN/HkY10eSZO\n",
       "ksWRjvn//Anzt/SP3Sj+GEVCMWnxv9E/vkXxxygSijWLf4GMfCWKP0aRMH93HZDUKP4YRcL8cnN1\n",
       "9XHk9RujSJgf+9XqTPT6E61Imn8amI3mdxTBuq4anSn2RkRTxtKOYzaU/yqElrc0MapwJyh+WyF/\n",
       "D2z9SaEz+0IPEQdZ2nD4aw5/Fpzm7hY2L2hipYlhit9WLB0EtRYua0H8lli2/jwJY/E6AsNfc/gl\n",
       "jb7H7mysQnyfQoPitxXNu0GtpZV8EL8l5hTqJm8njMXrCAx/zeHnWzfJUbk0fpI7XUBabyxO3srR\n",
       "/IYCyOSqQa3HuyoB/I6Y5EN0cchvYRxoq+bwY/Y24b+iddzhiujWd4qF5gea31CQR2kMkqHONiqm\n",
       "SgH8jvgV+KJTtBLGwjgQUgvjXyfNnpxBj5JqYMnkl6Q8zb9uTPcR/ci8ZCeQVW4vgN8RP0XKXWzM\n",
       "hLFsVavVVkh7qhbK35MjwxTGkFUxQfQ5scBrJZrfUAif387VkWX5n41u/fLzu2JJWaauFSNhLfoZ\n",
       "CWtP1agYLJePlcv3TH5ZLx3HWSxmyIkyjj+u5Wh+Q5GqY7Hgn2AY/A9sv9iefE3zu2KhMkCtVUbC\n",
       "WgzGkPZuTR7ZHdgshDz/83vkDOxIkHSBrEBu+J7/b5DzoOkT8A+xULeHNFkJD7DW6lA3aX5HDLwj\n",
       "33hLbyYeC9lvMroOp7m3Jp5Hn9gI4U8X8RXzTeARSa5/0U0Mf9c++LkH+gSZPozVMr360Ie5ChZ+\n",
       "ap2FFVyk+F0x8JwcEktvJh4LaaFHjXKMqWbzXqY2LZRSStz7F0e+/1HvX/oEopOJjmodJdWz/tti\n",
       "CJ6bHdXYtIi+9lDZ9maUxHxW/MP3x0z/CLDhpPbWMk5hqsbyG+KwsC0bvvZijW1v/utFTuk89zfe\n",
       "f7WALd/9t93wt5Cj2h+a/7C//+T/6e8/934DwTQoskYL0HwAAAAASUVORK5CYII=\n",
       "\" style=\"display:inline;vertical-align:middle;\" /></a><br>(see <a class=\"ProveItLink\" href=\"../../../__pv_it/theorems/fe831f3733dc1276fe7e6a28a75a470f91aad21a0/dependencies.ipynb\">dependencies</a>)<br>"
      ],
      "text/plain": [
       "or_contradiction: forall_{m in Natural} [forall_{A_{1}, ..A_{_a}.., A_{m} | A_{1} or ..A_{_a}.. or A_{m}, [not](A_{1}), ..[not](A_{i}).., [not](A_{m})} FALSE]"
      ]
     },
     "execution_count": 2,
     "metadata": {},
     "output_type": "execute_result"
    }
   ],
   "source": [
    "%proving or_contradiction"
   ]
  },
  {
   "cell_type": "code",
   "execution_count": null,
   "metadata": {},
   "outputs": [],
   "source": []
  }
 ],
 "metadata": {
  "kernelspec": {
   "display_name": "Python 3",
   "language": "python",
   "name": "python3"
  }
 },
 "nbformat": 4,
 "nbformat_minor": 0
}