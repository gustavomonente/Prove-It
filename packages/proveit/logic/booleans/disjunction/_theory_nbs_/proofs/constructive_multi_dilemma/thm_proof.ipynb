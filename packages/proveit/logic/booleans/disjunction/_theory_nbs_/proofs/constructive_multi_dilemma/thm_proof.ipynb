{
 "cells": [
  {
   "cell_type": "markdown",
   "metadata": {},
   "source": [
    "Proof of <a class=\"ProveItLink\" href=\"../../../../../../_theory_nbs_/theory.ipynb\">proveit</a>.<a class=\"ProveItLink\" href=\"../../../../../_theory_nbs_/theory.ipynb\">logic</a>.<a class=\"ProveItLink\" href=\"../../../../_theory_nbs_/theory.ipynb\">booleans</a>.<a class=\"ProveItLink\" href=\"../../theory.ipynb\">disjunction</a>.<a class=\"ProveItLink\" href=\"../../theorems.ipynb#constructive_multi_dilemma\">constructive_multi_dilemma</a> theorem\n",
    "========"
   ]
  },
  {
   "cell_type": "code",
   "execution_count": 1,
   "metadata": {},
   "outputs": [],
   "source": [
    "import proveit\n",
    "theory = proveit.Theory() # the theorem's theory"
   ]
  },
  {
   "cell_type": "code",
   "execution_count": 2,
   "metadata": {},
   "outputs": [
    {
     "data": {
      "text/html": [
       "Under these <a href=\"presumptions.txt\">presumptions</a>, we begin our proof of<br><strong id=\"constructive_multi_dilemma\">constructive_multi_dilemma:</strong> <a class=\"ProveItLink\" href=\"../../../__pv_it/theorems/b1ae663be4d38f624e238e84644b5ea95869bb300/expr.ipynb\"><img src=\"data:image/png;base64,iVBORw0KGgoAAAANSUhEUgAAApsAAAAZBAMAAACMW/itAAAAMFBMVEX///8QEBCIiIhmZma6urrM\n",
       "zMxUVFQiIiJERETc3Nzu7u6qqqp2dnaYmJgyMjIAAAAcRTyBAAAAAXRSTlMAQObYZgAABilJREFU\n",
       "aN7tWW9oHEUUf9nL/b9N+kGrtShLKjXfchAbsU3tSdF+Kl4qpEqVHKmxGkQPC0bbSk+pcrXQnIg1\n",
       "BGrWFho5sR4GKYEWr1ShxgprYqEgtaepH/RTqGlsLVXn387OzO7eJVqFHnlwe/Pe/Wbezm9m3ryZ\n",
       "A6gh2wYKsCjzkg0D5ZqY7CJN85ZoZpFOIgf/bQPxAqWzgpXz1eishagDieUA9Bfm2p/ZM/86Cv5Z\n",
       "SufXuPxrNTprIepAmvDcakCcrkszC/kOuoBB50cZD0cpnUP4K1eNzlqIOpAp/OixAB5JMksffky6\n",
       "gCFMn26ACw8Jg9DZZKJiqRqdtRB1IK/gRxuaohcMZunGjx3u2Yk3m7AJLjzElhA69Yli8b2qW1Et\n",
       "RB3syGS/fQ1xcpspLP/GpBv6C/qsp0UJD3CR7uxX8vld1Xf2GoibXzTC2xzA5n6+UyNTxCPjHkOf\n",
       "vbQo4QFOUTr7+O9+dNZA3PwSsfA6njvfulPq92Me0DAC0n1EwcMPlM71EKtUp5MjvEmVBrFxsLPD\n",
       "A+ZjxpKyC9WGTJ0oqu7bvscMc2PDeGfQrgJ8kOEktgA85TWRDQjRN7bxthyjdIZBs+QqmztT2lKB\n",
       "Thuhz3p29UJK1L4FOOkBUs36T9Pb6fZm5ww+rXv5cOt+bt1AL2wDBkXQXqJdg0fvo7ZR71kWy5KU\n",
       "yMFz6aF0JqywCD/ebsVzE7BaoNNGHL7umQKvk0ajA+Bz042SzB+dWgtG+eBnEp2sdZ19JEXx4dJ9\n",
       "3bqBXlhCZzPiQruETt7UFih5ZzNraB7u4BU6o5VuAX1uvAjxyQCUBTptxMR2r/YTo9IG+CLAAx4o\n",
       "0azvGzbBMBIfS3Sy1jXUtQN8aTFF8SHpJ6q5VSr6YMlix2lkaJbTGa2EPdfJ+/ax28bzCxB2Zt+L\n",
       "YoS+dtMKbWWa5gbxLY8bIp0EgWKvkfdqf1NETPFjl0HzOEFJZpJoGMbGr0Q6eetIv5/XY4rsQ9ZD\n",
       "BX+3akUfLNmKcBrZk+N0whuT3lH8SZZqMvzU2ZZkS5+zFcEYYkx/0Gro11BST5KE9MRZic4xMiAh\n",
       "QGEl5FpRmYB4S9J4afJN9NWvhn9qpkJiktF+V1qkk7f+hXgxwxTZB9ORj9P5fH7/Lf5uxYoqVpzD\n",
       "eBL9iH653XTo7KZJfOxP9Pikwgpo2LcxBhj+uzthqbkS6Z2MzmZE9/A90JwKlOEwpTORSIp0NpMB\n",
       "+R7aIHhSpVMvaTPim1VAy8ITd6iLjpjZTE3S2Rl4V6STt/4hBJzdmCqKD6pzH9q9vm7VigJWGmyk\n",
       "Pv/X1o58CRw6mxgFL+FokGEFJNP0i+Gjh7Iwi6mEnxmdOmaoF7pwCNmMhtCIp6NWVqSTIGLTZwZN\n",
       "+4DlyNHO03+Ia6EM0Wvu4xkz0/F9OZ9/HcdOTaDTaT2ROiIMA1EUH0y3fcSeNv3cqhVFrOuQ6cRA\n",
       "GjxN7yRjWDnFG8ElsJNs+cKyuhVaYSSIlhyZnfCQ4brvDJgwknbTuRqil2HqxNSWL+l+V4LGq+5+\n",
       "UTODZejsTAQEOp3WY7lV4s3ZKrcPqmMfK9qRbDV93YoVFazQHLsCUeicpzSktVx0Jm1fgbChmEHz\n",
       "81wCEuTGJAV62UXnRvQiFu5w9C0YMu1HI4ri1+HTSkPpOCALjJjwdpn0y8FwM4ORXhjlxBmBTt46\n",
       "wDcZXpkqkg/uE/uIFYvFQ3jkuVv/l1OwzOpO9o8tjM4RND/1XNm+oGPRI4MO9wcmAPbh8bnIZpBI\n",
       "Z+QKRAdfxR0OLoeuQnAZfiyHwRwM/W6F0qOAolJXKbG7vWMPvYvpKlHMMsfMYBEUovRd0/sth06n\n",
       "dRT30ZAyB1SRfHCf9lQkiRR36/9yClaw0utjJu/s7l0QnQ9DUyH6nEnOdO4/NzQUO9VDppSioQ7H\n",
       "nSt9fpIdgywiiSe+uKtOFlxSYK0odoq5kNQ6xKRgJ5yWaeW46AOJeIrcUe3lZKxgvRF/bugF+Af/\n",
       "FQXb1gCMc9UuHYG7obdA/zAh6d5vJUdxSgwmS05p3U/syuOCDzXLRCbfl/Np7oZe9C2UTiKWR4mf\n",
       "CT0UvaqDhd7zW/P92fr/701r0znwX//Pnqybe74NA5m/Af5/RDYSVfyCAAAAAElFTkSuQmCC\n",
       "\" style=\"display:inline;vertical-align:middle;\" /></a><br>(see <a class=\"ProveItLink\" href=\"../../../__pv_it/theorems/0f8809294c88536f8c484ed9494fe94773e753530/dependencies.ipynb\">dependencies</a>)<br>"
      ],
      "text/plain": [
       "constructive_multi_dilemma: forall_{m in Natural} [forall_{A_{1}, ..A_{_a}.., A_{m}, B_{1}, ..B_{_a}.., B_{m} in BOOLEAN | A_{1} or ..A_{_a}.. or A_{m}, A_{1} => B_{1}, ..A_{i} => B_{i}.., A_{m} => B_{m}} (B_{1} or ..B_{_a}.. or B_{m})]"
      ]
     },
     "execution_count": 2,
     "metadata": {},
     "output_type": "execute_result"
    }
   ],
   "source": [
    "%proving constructive_multi_dilemma"
   ]
  },
  {
   "cell_type": "code",
   "execution_count": null,
   "metadata": {},
   "outputs": [],
   "source": []
  }
 ],
 "metadata": {
  "kernelspec": {
   "display_name": "Python 3",
   "language": "python",
   "name": "python3"
  }
 },
 "nbformat": 4,
 "nbformat_minor": 0
}