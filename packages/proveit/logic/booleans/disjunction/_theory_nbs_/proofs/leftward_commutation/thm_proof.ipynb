{
 "cells": [
  {
   "cell_type": "markdown",
   "metadata": {},
   "source": [
    "Proof of <a class=\"ProveItLink\" href=\"../../../../../../_theory_nbs_/theory.ipynb\">proveit</a>.<a class=\"ProveItLink\" href=\"../../../../../_theory_nbs_/theory.ipynb\">logic</a>.<a class=\"ProveItLink\" href=\"../../../../_theory_nbs_/theory.ipynb\">booleans</a>.<a class=\"ProveItLink\" href=\"../../theory.ipynb\">disjunction</a>.<a class=\"ProveItLink\" href=\"../../theorems.ipynb#leftward_commutation\">leftward_commutation</a> theorem\n",
    "========"
   ]
  },
  {
   "cell_type": "code",
   "execution_count": 1,
   "metadata": {},
   "outputs": [],
   "source": [
    "import proveit\n",
    "theory = proveit.Theory() # the theorem's theory"
   ]
  },
  {
   "cell_type": "code",
   "execution_count": 2,
   "metadata": {},
   "outputs": [
    {
     "data": {
      "text/html": [
       "Under these <a href=\"presumptions.txt\">presumptions</a>, we begin our proof of<br><strong id=\"leftward_commutation\">leftward_commutation:</strong> <a class=\"ProveItLink\" href=\"../../../__pv_it/theorems/5c2d66c2afa3c8d5a6aa6d0bdc8bb0055218779a0/expr.ipynb\"><img src=\"data:image/png;base64,iVBORw0KGgoAAAANSUhEUgAAA5cAAAAyBAMAAAA6gjIWAAAAMFBMVEX///8QEBCIiIhmZma6urrM\n",
       "zMxUVFQiIiJERETc3Nzu7u6qqqp2dnaYmJgyMjIAAAAcRTyBAAAAAXRSTlMAQObYZgAADLFJREFU\n",
       "eNrtXH2MVNUVP/vm+2uXPwrFKu2ICa6JsEPWgsqaHWNSTJtmZ2mK/cPKhhWKpC3bYIyuRYZaYKk1\n",
       "O20TRazuQxvENYWxZKMkGEehaYsKE7AtreCutf1Dk8qWhYUFl+39/njvvp0ZsyS7s9xk39w579wz\n",
       "593fvefee+Y3C1B+qRkbK8AkK4dgupdd9CU+NjajkmY1+5+xJ9mTxAvTHkz/AHmJPvNsZWBmJt2T\n",
       "zIOr5UP2GpjiYMak/89NB9xiOYMwXKgOMHemeS2apQ80UJmB+9yixLrhxjU/L9/EePrR+vYfRfSV\n",
       "4G9jW9ZsyVVi/sLqrgf4uwdMH/Kl6gDzcVGrpf1TO8gFAXJ1e6zLT3NxRt6rQeOiOeOWe1nR9PUm\n",
       "1xchtrCoq19GAF0q5aViow6Nz/48k+8x9cKrVQFm7KKoHmfrh5AEsbOJpKuNJk+c5ju6VfhyjFRX\n",
       "oN5vSbnlXlY0fa3J7k50ac5p6oEz6LKwlJeqO+iuj+MUTxq6IVSoBjBDsgsfoRFn34gY821Ywb37\n",
       "1uSvNPOAtxxfOkm1Acn6k265lxVNX2vyEVa4U1e3zqFLS7GEl6o7qNf9ozykmgCLjVQDmP1i7Yl0\n",
       "0JlmnRU3P0F/dxkaqfJiQ1oJ0346NjahPvuy7ZZ7WdH01SY+Ek2/o6uH8ULQUyjhpfKx3fjxPuc3\n",
       "/m3qh/XVAObDombRB/9mbFSI9qG/bYZGitxvv8mnSAwZCNOxMQxwz1pwy72saPpqkx4ywl7W1evw\n",
       "Tq2lrYSXysdewI4O8xsHjYPanvpgBuQ0DBNQommyIn2PxmCkkDXFZin/HV6QoutIvYO3Cwyfqn9U\n",
       "WJFyLytcXxbe5GjSoI6XQGgocKNeXkp38BNZn2uHyvhnpIiAsTc59cH0Se9DZLvnh8gQimuL6WRN\n",
       "QjBtaKXI09CDOmQpqc8FuJ/eRyvQzjZuRcq9rDB9pfAmGzMGdbwEwro0N+/lpXQHr7FBMWxfM3VE\n",
       "7cDUB7NGdmEN6ZDljYtwUKLoRDvMG3kpD7Q3rsvyyPUSROkZNYz6xLrErUi5lxWuLwtv8jUS/Wxd\n",
       "HS+B8D9h3stL6Q5eY+sETitMytbI1AdzRdEBJrp8VYAJS+AdYzMh96N2qMeepNM8H6eHuTo0RKwz\n",
       "woqQe1nh+krEYE02ktUvo6vj0ZYYFea9vJTu4CDcXxwXzMjo1AezIaeH2Rj6+4kE83noMDYTctQm\n",
       "hDqAbuwjAyE5RHBYY1aE3MsK0z/+17mpuau0JuTcE9fVyRK4MyvB9PBSuoPWw+hsSNyx7Abgz8bW\n",
       "TBmYZk19MDeBvgF6lqV0WD+Fv580NuPySJ5kjHgfbD4mh8gKpbc3HxvXCtd/fw7MsudpTXqwxmFd\n",
       "HS+B0c+kk55eCndQp+8ZgMSdxZocyKy6XrZOfTBny2o8xc6a3TnRT4Ef0MPfXhRKo5dZRZE/jbty\n",
       "BCy2mVzOUgMfofg725a9zeTCCrlIK0w/8kIHnIUmrQk+J+2zdWdwvnFpSgGT3RAOMvPCHTQ6/egc\n",
       "ueNGqMOKTcaeOMrAJA94qlwwa8nRvDgpsIwOybq/A6Ldl214fWy97KePWQjG4eghXhHy3WOfQqz7\n",
       "fCrMZkYt3en/eKx9UVde6W0mF1boRVjn+sEk6sxHtSbw4pZ2sVOl6sHTw4vW3AaKeW7nIe0zVHdW\n",
       "P46n5EqSSoL/mLMnGQomWX4/LRdMsirX2pPjmKnuOh5R6ryfdng01OU132WrlOOpuJWIXY4V1DlW\n",
       "NjKY8WzidGYpjO+l08ZMaAqQza9xK5ikYG7HDbPlgkk0t0+OKBtTzwPHlfprFZmps8zyyqxAD5qb\n",
       "iWyhbP0KzUcG4cE+j0Q7is8pCiaeZubNt3HNxHP4nckBZuKcuh+RO9vfbFxZUerBTCOq0Ap8A2pz\n",
       "kR+WHbMqNe9vg5uLHl+B0eMRBjNxuLf36fI3QCd7e1/umBxgWiPqApqF6VC2eYCZZbvZC11dPy0f\n",
       "zLqurq2FyfFg8Yvqu2lBG0l4UBRw7oOAuQrjzbLNpcEMZlhEC+fGHzp3Dx1cY1BxihNbmiz8/u5h\n",
       "s7pZTOPjRbhaGDIdDMy7SBZwqdeWcf0huL5NgulPsbjdnzYOHZERTsyAuOEU6xBH/gXRTUweuMao\n",
       "rok/XLB4Ca8HB6+iyBNgMxiYIbCKHt+TvXLwDng9bvtsJWnQAfPJGtVsPGy+KL5P9LWprA7wEPeg\n",
       "IXGCyWG1UV2Iowcai1Y88kHmKpieYMaLOAv4pGmaPbHDhjeSqbiaAXqP5hLjL6VMVg+vF/aT4Bsw\n",
       "fKwuxqv1MiaHG43qQnxify9YFhwuXg2zrm7iYTYygAkneGeIk7nWvAyrMTpDX9+vNTCfJ7QVWBY2\n",
       "bR8DyS5x9MnAAsNGXRdbGI9eJoe3jOpcTFgUluU/ydfQ+MhVFJ0bINh2P6vgZO5aq43VcjTT1xf/\n",
       "/b0qmOGnyGLZ5kODYa3TaBAWQ2QDqbbMr0eWgk48qViMKDEiWnDqym2RiUl+i6DvWygSWtY599G6\n",
       "OB2g2+8Gs42DuQ/BQrLNOJmb9hVYzY6SQNoHhYMqmDHyFXkibw3CvV9xGv0AGgA2k+oRHB8DbznB\n",
       "PKJF07qCIofr3BapmC7HBEALbsu4Nlui7KYv91XWOUbm9AtbFhV/q686E8eO1pnNZRSNOh107e/r\n",
       "UhzMOrQu0WzzSmhlBAyc1g083NX1MwTmcyEVTCAZ0T1Nf77opiBGP3632wa6Wf0l2t3k3SxCKhYz\n",
       "E4EZLTI5/q1Bp1ud/wThnq6uriQCs8AzWjE3mJ/QF0Ft9uIw63LBnFYoydYcNMrnwJViR2vM5nJs\n",
       "qdRpN/Vhb4GDmbB5tnkm1ENPgNaaAtBGZ6Z/mQbmP/Hldoicc3c92vb2ZFiiF31yS84NJhEnlpz6\n",
       "+gFszJfl395eor816HSrI/HxN07iEE5nZoHvvAKjrgFPb0lqsxeHWZcL5rSkJEe3IhO+EbhC7Gid\n",
       "2VyGLZ06/bZTkyfa2Ty1YLsdGUQz8kSc1h7sgz/iO+8DnNTAJJsR5OYo6Xqk+wt+gW8jQ8VEAdC7\n",
       "yEWIXEf4vfK+EMcWwLWxAm6xAaJ/wRoBJMeU0E5dnYn/kEXBIY4/3YrDuyI0D7k2dTT+SGqzF4dZ\n",
       "k0vmtKQk1+J4758BV4gdrTOby7ClU6d3OjXfzKtg+g5Ba97fhuLUU4dp7eYihJGK/7E0nRMamN1Z\n",
       "2H6+iD+/NY8O9a05fMmHL0Cke4MvDYFr4U9DjWvSxBX0ht7PSfGqaAdSa81DvP1tm6m32+SJnOpY\n",
       "HMxg2uET6O/vR279r3iEx5zPxHLMktrsyWFW5QpzWlCSm0nvpODKsKOdzObStnTqdK0zYXM0Bw6m\n",
       "Qd5Vq0drpiOdp5VOU6tQjLJx6BtbeSNrHbEUVss75diiQT0E85H7FloztY9vdj78DTRsSGqzJ4dZ\n",
       "lSvMaU5JjpwnUzYHV4Yd7WQ2l7alU6fjTuBJMlYFU/72L5bzzs2qZdlQ3tAqfpPcPAcalqg7aV6L\n",
       "tlnp4E2y7X7VolsddsEB05mj37kg08wHoTZzarEHh1mRU+b0rkE6ami7+BmD5sSxowWzmfOfS9ri\n",
       "1GkWS5w7oNlOMBOG2vhgerfSur5oFistylN3lRXOr2Fp1xFqc6CRflHnwWFW5JQ57SfqnJIcOmfQ\n",
       "nDh2NGc2cydL22LUaT5vHF9CRs44wSwjzzB5SdC0kF+dMmozRceLw6zIKXOaRi5OSa4h+9uorjlx\n",
       "7GjBbGZOlrbFqdMs4Dmy0tVAgvYNmsBk1GbWT14cZilPE+Y0/bEKpySHBumpTNOcOHa0YDZzMEva\n",
       "4tRpM5jhjqkPpv+sKcwyajPrJy8Os5Az5nQdXb8ZJZmcMKGga04cO5ozmwWYpWxx6jS2BbKZSAAl\n",
       "pz6YsN6wAWLUZvHAHhxmIWfM6VY2xiklmSxCcVvXnDh2NGc2S1RK2OLUaWTrGsMGqMGuAjCd29mD\n",
       "IKjNop8YmdiLZMyZ0/UsgDGuMjrcxG4HTdOLHe20XAY7mjObJZhOprWDr82o09gWXs19Bf25Z0EV\n",
       "gFnjeKilktos+okTks0kY8Gc5gdqRkmO3rr6FnGkH58d7bJcmh0tmM0CTCfTWudrC+p0MEmyUrU6\n",
       "ENXxM3gnlSGkHJDFcmSb2zrkM9mz7SipOZHsaAFm2bZ8hQze/OrprFQ1gMkngSPRbjyLlSiDybJV\n",
       "J5AdXaGTyFboWxlXov1VuyrA/JXDI0krjSweTlZiqSldruYEsqMrdRLZst5zfQVWLf/UyTmyd8N0\n",
       "KI40bjBVHWDCIsdQnxa0kX/ob0/AFwJz8v2L0mASpnv5ov+idBL+8+Bbpj2Yu+gEw/88+P+6aWXT\n",
       "HE9FMwAAAABJRU5ErkJggg==\n",
       "\" style=\"display:inline;vertical-align:middle;\" /></a><br>(see <a class=\"ProveItLink\" href=\"../../../__pv_it/theorems/e9f7124d53c9d27c31540bb0e06411784a780e110/dependencies.ipynb\">dependencies</a>)<br>"
      ],
      "text/plain": [
       "leftward_commutation: forall_{l, m, n in Natural} [forall_{A_{1}, ..A_{_a}.., A_{l}, B_{1}, ..B_{_a}.., B_{m}, C, D_{1}, ..D_{_a}.., D_{n} in BOOLEAN} ((A_{1} or ..A_{_a}.. or A_{l} or B_{1} or ..B_{_a}.. or B_{m} or C or D_{1} or ..D_{_a}.. or D_{n}) =  \\\\ (A_{1} or ..A_{_a}.. or A_{l} or C or B_{1} or ..B_{_a}.. or B_{m} or D_{1} or ..D_{_a}.. or D_{n}))]"
      ]
     },
     "execution_count": 2,
     "metadata": {},
     "output_type": "execute_result"
    }
   ],
   "source": [
    "%proving leftward_commutation"
   ]
  },
  {
   "cell_type": "code",
   "execution_count": null,
   "metadata": {},
   "outputs": [],
   "source": []
  }
 ],
 "metadata": {
  "kernelspec": {
   "display_name": "Python 3",
   "language": "python",
   "name": "python3"
  }
 },
 "nbformat": 4,
 "nbformat_minor": 0
}