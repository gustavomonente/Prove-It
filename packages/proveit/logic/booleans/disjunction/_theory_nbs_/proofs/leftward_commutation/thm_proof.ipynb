{
 "cells": [
  {
   "cell_type": "markdown",
   "metadata": {},
   "source": [
    "Proof of <a class=\"ProveItLink\" href=\"../../../../../../_theory_nbs_/theory.ipynb\">proveit</a>.<a class=\"ProveItLink\" href=\"../../../../../_theory_nbs_/theory.ipynb\">logic</a>.<a class=\"ProveItLink\" href=\"../../../../_theory_nbs_/theory.ipynb\">booleans</a>.<a class=\"ProveItLink\" href=\"../../theory.ipynb\">disjunction</a>.<a class=\"ProveItLink\" href=\"../../theorems.ipynb#leftward_commutation\">leftward_commutation</a> theorem\n",
    "========"
   ]
  },
  {
   "cell_type": "code",
   "execution_count": 1,
   "metadata": {},
   "outputs": [],
   "source": [
    "import proveit\n",
    "theory = proveit.Theory() # the theorem's theory"
   ]
  },
  {
   "cell_type": "code",
   "execution_count": 2,
   "metadata": {},
   "outputs": [
    {
     "data": {
      "text/html": [
       "Under these <a href=\"presumptions.txt\">presumptions</a>, we begin our proof of<br><strong id=\"leftward_commutation\">leftward_commutation:</strong> <a class=\"ProveItLink\" href=\"../../../__pv_it/theorems/637467961a9064c2941d7cf704013bfa472c1b9f0/expr.ipynb\"><img src=\"data:image/png;base64,iVBORw0KGgoAAAANSUhEUgAAA6wAAAAyBAMAAACqkUvZAAAAMFBMVEX///8QEBCIiIhmZma6urrM\n",
       "zMxUVFQiIiJERETc3Nzu7u6qqqp2dnaYmJgyMjIAAAAcRTyBAAAAAXRSTlMAQObYZgAAC15JREFU\n",
       "eNrtXH1sFMcVf977/rL9TwkkaXqhEiFSwYfcQlOIOBSpRK1an12V9I+0PuFAHdSEi6ho4oRwNA0c\n",
       "IZGvrZQQqsRHUzXBUeFahBIkolwKVVuSwAnSFDWAndL+kUgNDjaOMR/ufO7u7L6zb6Mz8tk3kvdm\n",
       "37x5Ozu/2fdm3/18AOWXurGxAkyxcgRqRZZgkn8eH/vUSbe6g8/nptidhAs1NI3yXf6x5/k/OoI1\n",
       "MeVuZF4NS1OJ9ItKa3XDGmpUz1+YCeCFsiWbnp4esO6Oq8ElzT48/c6s/AhZ9+uHmzt/4eA5GUc/\n",
       "OL/jgUDBoj6yNnO/gyG+P7a1c6uE8/4J56PKYX1CPa3nN14/oEvYiD22fh6jkZTziHYdWSHLE+Vb\n",
       "UfTVLrcWIbSoqKo3kJXXl0dHg9qAa2QtXBbyvRN6r+qGNTSqnp/kH2cN8Rp6OGHr6KV3EomKR+d8\n",
       "zq7dTnBoiZVvRdFXurzSRQ7LsxZ18uFqxEYDmA3wXCCHRXKfGC05I49NB1h9MfX8Ee709l/SJavo\n",
       "ocv+nNFXAZ9A89XlWbt2E5H1Rcu3ougrXT6kCius6mQq3Vex0QBmA7SL5NBSFF69seSMvJmdBrD2\n",
       "qZuHQIo/fdqQ4pbdMXvPj8jfXaJebIrbtbeQ2bshV74VRd/cxcVc5/cs6t10uFew0QBgg/fTuNIj\n",
       "A/R/Jlro1Q3rw+qpxu/pW6GrhpsmIj+yc9xP/rbzqjv3ZtGuPQxwzzoHVhR9c5cettb2WNRH6IWH\n",
       "ETuA2SCxmG4GW0S6AQ6X3rqNVj+sniH13M/gCcZZIPoBl6X0mrqqSW++bYbf0UAXXK9qe4bPzH/U\n",
       "gRWpbxTZ5XgUU6cj1K7IU9NoUBs8FkOTfFrPsgj7CSuqEwleqH5YXZYY42NbSzcEBonXW8JlcwHu\n",
       "Q7pqUfAK1xuHHjI1K1VtjYTn3cnyrQh9U5FdNicwdRoqvUOe5pR1NIDZ4LEY1kud10rPySfVD2td\n",
       "0nLObntV82Lq4jhO8DIEsbfYYEq+Jng6mtenpV/Ttf1kxWiXy7ci9Y0iu3yJBdycRZ2GyoZGcKcs\n",
       "dtRiXJbGYtAzve2l56QpW/WwthcxWMnhFgNWVz6cx/ouhbdFaCX9yNw9o2o3kBWjXSjfitQ3uRLR\n",
       "ZTOLkgmLOnW5fUUJq9FgcUf6ZelCjVwtA9aeYtXD2pRFnHCI/D1kwBro96F9XwQxo6SPjzxql1Rt\n",
       "umK8Q+VbEfon/zE3NneN0oW9PYWt6iRUBmeDDqveoBb9siwW704z+/LeRGxNYh6sqmHdAsiW6Tci\n",
       "bSQAgSdPoH39P+RbmUCeZaU8jao2XTHt6bKtSP33vgizcvOULj1U46hVnczk3n4DVr3BUuRlaSwO\n",
       "krBJ7M+RWya8+FNVD+tsy3k4Jt5du7MGIKv4+/w+MonBayAOZP3/mL9kPken4hJoaUUbPiRTPjtn\n",
       "s8I666YMK0I/8NsUDMEypQt929ovtHR1su7cG8CAVTQYA9zXrwyHpkNXxoDap28wy0rPSXiAw8r6\n",
       "nykX1nr2clScEqgGBy0CMknB7ms5eH1sgwFIPX8D8FHntBHkAeAcO74y9jGEuj+L+aOK9oNjHYsz\n",
       "ebBZYZ0NU9KKru+Nksf+UbXLS1s79F2uob72iawJVtmwUbmGbsN7fnhx5x20EnVTt/Lf0pMSuchh\n",
       "ZbH643JhZSG8Pjc1XlsvWCWPmOoSkECJwe5Sb+37uLYzK2SGtHRgIFGyyy77QsQbSly2LuEqJOjG\n",
       "eYJJaYWdtHe6XFiZ5s6p4YNDl62Sk6b6a45sNWi43JkV6CHPUyRdKP8WUk7t+76dGC/VL1xYK3v0\n",
       "8N07Glvpc/321ICV+xtlv2BsjX+9ebWjzAbOiXJoBb4J9dnAT8p2ZoElw1GH9rV3x/tijmcxKayR\n",
       "o729z5W/ZTrd27snNTVg1S7ZlmoaZkLZPl7jiNgJj2Qyj5UPa0Mms60wNe4uPGoTzQjSSyQ7Xust\n",
       "AtY1FH6R6p4YVm9CuDp/dvyVdPfg4U5ExSqObF2m0fO7h3F1XMwd5yjUiq3cIGC9iyUeV5baWW04\n",
       "ArcmDVjdMeHa++LoStK/VIk0Qhj5utciDvwbgluE3DMHVVfEZxcuWSrr3oEaiPbykIDVB1qxxFd4\n",
       "rx6+E14P51w5UzoiBQtYGFuOvry+pOctXUkbJwUR95DFcUrIYS2qrouDh5qLWjjwQaIGaxmwhos0\n",
       "8fgM9ujt2JWDN6KxsDnL9C5PX4ZfjmFGj26QNV8UXP12BYuYRvU2IYfbUHVdfOpgL2gaHC3WnPA4\n",
       "5WcC1kA/5czQXWXkzrYva/MSoiZ4GAcO/EqB9UXGvIE2P7br9EQzsrovAQuRnb4q1igyvUIOb6Hq\n",
       "UszoH5rmPi1jbfhSDcTSWybYfh/wVHdkRbFunZYUtSzPKx4I/+FeM6z+Z1lQTbrIQ7vOatMLSyCw\n",
       "iVVbFswnlrxWZLlYfxj1tdFC/h60WxRiWljeUnMt0jNn2sWZuRMOjbsTniVh3U8AYqnuXbdBQ9xV\n",
       "ELVckLnZA1A4bIY1xAgDkbw2APfeaLX5ATQBPMmqx6j39LxlhfWY4msbCiY53Gy3yMU8bDMoNbgj\n",
       "YdueWd5bK0D/xjnbzijh79NEcRx/R5kk+jcpgxLWBhK/eKp7NTnnzJHVsAI8D2cyPyewvuAzwwos\n",
       "6bh32d9G7RzL4Ll3unPAN7pPk/1Q3k6T5GL9aSUTFywKOeUud9nVJaX5nkwmEyWwFmRiJmSDtYL0\n",
       "b4yz7ZQSPpvE/4t40yTRv8lsXpGwRnIy1f0FmA89Hl5b5oEkf1rdbQqs/6KHb0Dgoh0EsmXuSYgE\n",
       "MxlDS9YOKxNHlp752iFqzJWWXzFf5v9p0GVXJ+KTb5ymDp4/rQW5V/Nctd5T5ejfOGfbGSWcjs89\n",
       "iF90sujfeqpfeEMNduYCA+QpPRXmtZ8egL/QlvcATiuwsu0LucGrDASi+5Q8wHeIoWKkAOQsMAqB\n",
       "mxmp2WjXxaGFcFOoQHtsguDfqYaHyCn7tUtVF+I/pYnDCNOra2F4p6D4G3OpHP0b52w7o4TT5Gbk\n",
       "An7RyaJ/i+8/JKyuI9CadyfhI3j2KK99pQh+4iXcj8f5c6LA2p2GnZ8V6SVb85450Jqlh7x/BALd\n",
       "m1xx8NwEfx1s7oyzwZIT3p41xGuCKaLWmodwx59zQr0jx27Cqk7F3gTlVe4gf/889vX/6bfwuOWW\n",
       "Kkf/xjnbDinhlLa2uwu/6GTRv8XrgZkdkbfV5pPYakkeKqUL6+ULcUIRP8mZToxaKhSjanmrnFpE\n",
       "1H2wgMy8RmKrcvnlluFUjv6Nc7YdUsIbkuDZmMMvOln0b5GjacX2zaV20FZY2wbzSK/w7QAHpXtp\n",
       "WmqcGLVgUot7bzf6HjRbtKvD7+EQltPqs/itytG/cc62Q0p4+wMntuXxpkrQv0tglLbAGkFq48Na\n",
       "upcCQhEXm3qUp24r7ZaviStH/8Y52w4p4SQUB2fhTZNH/2aMuBr9G6d/45xth5Rw+hVGUx5tqtG/\n",
       "xymuAQzWeAXo3zhnO+mMEk5DZ1MUbZo8+vc2qHpY3UOIE64I/RvnbDujhLPX6vVxI9FeYfo3XqbB\n",
       "v1bBBmTLVBH6N87ZdkYJp6HYM2JKtF8P+rc2Df4R0roVrhz9G+Vsl6CE65YFZVvq15OVsuIpU6L9\n",
       "etC/xXajumGtU3PxlaN/l+Bso5Rw3bKgbAt97/nh5s4dSqL9OtC/p8WPDFjpF5Wnf9s1HVPCjUT7\n",
       "daB/i+VR5T/gcw5N9U/0boeUUvRvrDizLBPt+LqsMP07dOO0gPWX6ogqTv/GikPLMtGOQl5p+vc0\n",
       "+bkty2qf8fTvDpgWsMJi9XSG078j6c8F69T74VlvFGpFL5/zh2en4M9Ef7UGphGDxLeGx8c+/T9N\n",
       "Um5DOpqT1gAAAABJRU5ErkJggg==\n",
       "\" style=\"display:inline;vertical-align:middle;\" /></a><br>(see <a class=\"ProveItLink\" href=\"../../../__pv_it/theorems/4c29ed254aeccc019b27db7fc034fb5b9023c6500/dependencies.ipynb\">dependencies</a>)<br>"
      ],
      "text/plain": [
       "leftward_commutation: forall_{l, m, n in Natural} [forall_{A_{1}, ..A_{_a}.., A_{l}, B_{1}, ..B_{_a}.., B_{m}, C, D_{1}, ..D_{_a}.., D_{n} in BOOLEAN} ((A_{1} or ..A_{_a}.. or A_{l} or B_{1} or ..B_{_a}.. or B_{m} or C or D_{1} or ..D_{_a}.. or D_{n}) =  \\\\ (A_{1} or ..A_{_a}.. or A_{l} or C or B_{1} or ..B_{_a}.. or B_{m} or D_{1} or ..D_{_a}.. or D_{n}))]"
      ]
     },
     "execution_count": 2,
     "metadata": {},
     "output_type": "execute_result"
    }
   ],
   "source": [
    "%proving leftward_commutation"
   ]
  },
  {
   "cell_type": "code",
   "execution_count": null,
   "metadata": {},
   "outputs": [],
   "source": []
  }
 ],
 "metadata": {
  "kernelspec": {
   "display_name": "Python 3",
   "language": "python",
   "name": "python3"
  }
 },
 "nbformat": 4,
 "nbformat_minor": 0
}