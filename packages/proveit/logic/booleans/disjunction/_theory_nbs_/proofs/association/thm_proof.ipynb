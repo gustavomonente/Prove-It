{
 "cells": [
  {
   "cell_type": "markdown",
   "metadata": {},
   "source": [
    "Proof of <a class=\"ProveItLink\" href=\"../../../../../../_theory_nbs_/theory.ipynb\">proveit</a>.<a class=\"ProveItLink\" href=\"../../../../../_theory_nbs_/theory.ipynb\">logic</a>.<a class=\"ProveItLink\" href=\"../../../../_theory_nbs_/theory.ipynb\">booleans</a>.<a class=\"ProveItLink\" href=\"../../theory.ipynb\">disjunction</a>.<a class=\"ProveItLink\" href=\"../../theorems.ipynb#association\">association</a> theorem\n",
    "========"
   ]
  },
  {
   "cell_type": "code",
   "execution_count": 1,
   "metadata": {},
   "outputs": [],
   "source": [
    "import proveit\n",
    "theory = proveit.Theory() # the theorem's theory"
   ]
  },
  {
   "cell_type": "code",
   "execution_count": 2,
   "metadata": {},
   "outputs": [
    {
     "data": {
      "text/html": [
       "Under these <a href=\"presumptions.txt\">presumptions</a>, we begin our proof of<br><strong id=\"association\">association:</strong> <a class=\"ProveItLink\" href=\"../../../__pv_it/theorems/bcb9dabfa8291f4ad3441270727c3a65698dfb730/expr.ipynb\"><img src=\"data:image/png;base64,iVBORw0KGgoAAAANSUhEUgAAA1cAAAAyBAMAAABCPTy3AAAAMFBMVEX///8QEBCIiIhmZma6urrM\n",
       "zMxUVFQiIiJERETc3Nzu7u6qqqp2dnaYmJgyMjIAAAAcRTyBAAAAAXRSTlMAQObYZgAADGZJREFU\n",
       "eNrtXHuMVNUZ//bOa+fOzC5/IMVa2hEThEbYMWuByhqGmGhT0zhgqv3Dlg0rLSW1TIMhFooMtsKq\n",
       "JTttE0Ws7kUbxLXKWLJREgxToS9UmIhtsfJYS22iScuG90Jxe96Pe8/duYM0cN2eZO+e+c7vfHPu\n",
       "+Z17Ht/97QIET03Dw1W4LNIuGD1pE/2VHh4e00i1pm1POJdF+9PVUURWdID8sp94sjGyCpdJ+yfB\n",
       "aEqH2O9YKMlKyVY/9eniZZvJ2FwNM1kb8zxnl+htDDTm4FteU2bJqfZFPwnu4i/DXdO78+Yye3LX\n",
       "vcngM7UCj5dN5WPDTNaPRa6F3lzLIDfEyNXbzoIsROmoAd2EeJ9dGNmLah8PEDlpLrq6Bqnra4Eb\n",
       "pMBt46h7OcRkpc6K7D42qwtLHDcxk/XUWYgvb/On6KjjRc9H3XV7bmQvij12Hi39x41Fm5ejy+xy\n",
       "0AZp8NdNN5yohpesRE5kf0jH49YhMcA7McC7Z70TX5azDy/wrlHRbch2ODuyF8Vuoa/MHDMWvY+v\n",
       "cwI3SINvNI7OofCSdVhM7MkifVKsE6LwQ/Rzs7cOni+jnORaW96LXo1I/4wzshfF3ox6buNyU1Hk\n",
       "HL7eEbRBOrzFuAwuDS9Z94ucRbv/q6nzwrQV/TxsGJwI2cxIjjo7al70KYC7FtfxothbOyG2zDEV\n",
       "9ZIR9HzQBunwdM44PJ2wkhWTj1Ez6XQ7H8Pz0TfoHIkAJUOtIgcA/ArmZ8FeoqNjpw5OXlHXi7TP\n",
       "v/fttRVj0V4+l5YCNWivtp5lyA5jz79xOiKsW7JhJSsi25wg3RWFJFrp75hBH7YsxE1TyUSAe1g2\n",
       "D71o/N6qo/EatLGznhdpR0ucPc5YtIr2Uqy9GKhBq7ROTRVNt9wyEFaymjpllvTCne3TzwDrfbCL\n",
       "8JKp1nNiWxzral+ChvpOHY3XIOtcPS/SvhoTVjEVfYHMWQ5Ei4EaxOGscYMmrDUUVrLm11xkocvn\n",
       "BVkwC94wPo+VNOvaKKqHummdjkZrEFjH6nmR9lOYrKypaBV5QgqcrHoN4vCRyEqeDytZbWV9Gkyh\n",
       "nx9Isp4G40ySHEiwHKqTQLc9pKPxEIifqOdF2PExC5bkMzfNu8aaVNCKyLkgDYKsOg1icOwJeCW6\n",
       "Zv1TgseFlazVoG8wnmQhCdbNzd/MGqs9xI7EyQqJeLA7F2g8BOaX6nrhdjwxxc5AZk6tabHVqRX1\n",
       "4l+7JVl1GsTg2FOZbzA8aW1YyRovs3ijS85aPWXRzbHv0Pl/C7pt+2OWwSsbOxQ9jvtvCKyShob3\n",
       "Ue+Od+p64fYW1HFzHoEN10JrPlLVivA5YqsjyWJ24YVkZIMYHHtCuIg5pLiXkUUacTAoWS1kf1m7\n",
       "hFzZSowH9Yfd87EDrw4vFd0MbMebwON9Gc+g7qUnmM3DH0Gq53SuOauhv4/jshWo64XZ40dPtS96\n",
       "FGUWwFy2JxVV4Nk1XXmQZHH7MtWdbBCHLyBRjBbz83C4QMkiq99HQckii2KLcymPWUqMh4WbaOLd\n",
       "vMFcL6k3uunrZnQdL277FTAZemPGIkFWsAZdAR0xvEc0b6qylKz1uF4pKFkEuf6ShnHPKR/2KflX\n",
       "GnLTapntjXlJDqInYn/a3NBig57u6/cJ5KLpM0fJwo9JuhJ4zcLP4BuXkqzMSXW9lzvDX6xa0NDR\n",
       "2izjaNBLtBM+hMd2G3t/xqlsY56uq/m8IqEHC0xWZndf3+PBNxgH+vqeL15KsqwhdQErwacqNZd9\n",
       "yCqx3eCZ7u4fBSertbt7bfVS3k/6rPrpU/Za/12/nh9gZC3EUWEa1wxAVrzA6PcZBCLA/JXjOxcZ\n",
       "IG5zZk2HZYDt76pO8Zm/zsLoS01FRtbNZKa81W/ztXQXXN0pyYrmWKjrcN64ooiQeGYMpA2nOJc5\n",
       "+XewVxsCBVnYrKAOTZsxi+fjg6OQLBxyIWQlwKqxuKY7vbDzJng17UQc5VBchKlktZhtPGw9K94s\n",
       "RTrV9+/gY+5FlO/3Ls6I8gxbjuzt7TUrnXyv8H+y0CVdw0GqdabH5NENDryWzaXVCMZbNNSVfs74\n",
       "mmz3UuE/CxHD3sZlxqvlPC8IrYoxtpfav60PLAt210bzNJjg02ByAOsB8B5LhiVpWJG8je7v/7lG\n",
       "1tNEVQDzmk0bsVi2WxwNCjDNcHjWzRbu+T4PqA0hbIoir74tK3qAL2zpodG4ZvENBjx8D8vIsCQN\n",
       "K5InoD/94t0qWc2PkcWqM4LIXux2GocZkFxJsrdPnYw8xd18UbMYMZRxN0q+uKfxLSty/QeC35Pw\n",
       "v9kOJj9xEG3bRTz665uupk5O1lbU7SSuKcOSJKxok4muH6o7VbJS5F1qpmINwt2fdX/He9AG8BDJ\n",
       "7gG4FmK/dZNFzPL8QE4BHtR/lEWQEGTBlwueLYxy0GpU5WnCb4aRpZumdUJXhnolms+smV77ZfBm\n",
       "KfDv6uesHCerFa0ONK4pw5I4rBi7v7v7QUTWUwmVLCCxuZc6/nhWartE1x15s8cBuo37Kdo9VLwi\n",
       "LGpWFye75kHhlexFmr2ru7s7i8iq8nBASiPLo/J0yTklPbJQxStoLEPSpJs+nlS7qgzlEk2l2JqA\n",
       "HoUJgRumwvW3y1uqnKyMw+OaMixJwoqd9MmKztPI+hu+3AjJk16y0Laxt8ACjefQlFf2kkXMmVkH\n",
       "v7QdO4uUyHs6N2om+qnCvtcO4ImVPllVvp+JnQdvcFCqPHU5pzJBa2JLgZfoTA5c0k0fT6pdVYYC\n",
       "i+zJYnstuq/IUNCGafC0FqvigVwR11zv8LAkyd3XD7/DJe8AHNDIIss+auR5QhbCPsIv8DXkqJap\n",
       "AvqUPAvJzxEaZLkwp6bBVakqrrES7D95UYka/LoMvymhRzqNv9NKw5sibHJcvQuPylOXcyoDGI88\n",
       "PigkXqITZXBJN308qXZVGQpMoimLW/AyER0TtGEa3NbOqDsqKlmRXTC3wsOSJHddDZoRJPpAno5u\n",
       "jayeEqw/XcNfPbcSuxLmlvGl0nwGkj0rI3mIXQV/ON6+KE9agT7Q8rI0L7SLCDa3Aumu1x0vCn7f\n",
       "8UU85rBWC781+uuemf8SDX9A3RR4VZ6anFNJqthS4iWaxEc16aafJ8WuKUOZRFMWzyZdnAvaMB3+\n",
       "DxWztwyuN8UVT24yWrNc4SYtLTfVSqSoLoJ+cJQPMldM5TCsMiIqAVPRzVtozdK+dLYa1fWqPFU5\n",
       "p5pUsaXES/Q1LLotpZt+nhS7pgxlEk1RnDxNHpFywIa54FqUggQDVbLkbjFV9o8Nqmne8YqhVnqK\n",
       "3MTG2mapO1qeszutfHyKqOGD2gTbTbvpw8oCZ1B5qnJO7VwpxZYUv2lQQ5OoAJNuMqCPJ2nnylCx\n",
       "OxxQi9N8Pg3WsPQxzXxI/TDeTVbGkBuZLP9aWifXzGbX9/ii3Gm+8vLNoPJU5ZxqUsSWFE/f5Ar0\n",
       "CrYG2eOEPtPHk7QzZagc75rLBNtWBmxYQj9Aqm9Bk8fcZAWLul8Gp3mldwwqT0XOqR8rpNiS4qms\n",
       "XKDHsjUISzfZG3kfT9LOlaFiszCoFjeRLacdtGECzsakymdoRZ6RQTdZeU3lKeWcepJiS4qnU6hA\n",
       "j2VrEJZuMrL8PAk7V4bqZPHixCA9+gRsmIB7yWouhpWs6AnXNOhSeUo5p56E2JLhW8saegUI6SYn\n",
       "y8+TsDNl6L4/T8xNxMcoWo8X0yNTNWjDOBx7A/2dVWs2rGTBUtcGw6XyFHJOVxJiS4afq6PXgZBu\n",
       "CmGSjydhZ8rQdybAOGeS2GDwYrLSpJ2gDeNw5O1K1wajzQktWcp20KTy5OpJIstUVJVchMnxkzU0\n",
       "2Soz6aYgi5X56TOZMjT5TBFOQAcIiSYv3lGD1I1gbJhJOErh2BtevTqUO6Z/rhJKspqqcko0qTyZ\n",
       "epIIKlVVJRVbCvyDGhrXFtJNThYv89FncmVoPIv6EU+jTKLJq9kzv30DgLlhXuEoh8ezJIrxgbLJ\n",
       "DPGfqapvmk0qz6RjrufWZxY0dEI5XHKy/Dy5BaMFq5QcLAiJprtaYw1rKkSqBbxHlIGRXHjJgiOe\n",
       "QK7nZBIgDeqBkUzOfV4KnHrR05ApVX0lmq806C1xW0EL5L7shJisn8l2XLjKEzry+mf5h78N6jPh\n",
       "FmgpJ7/n+Ek0G2zYLWC9pb0iCfc/LVEG/kVUeW7+xB78JJoXkpS/GY/nwkwWTJfZy+m1/rsX7w4z\n",
       "Cu9c/RUL57+wi2dh9KQL/Rd2l80/h7xhFJG1iT4g+J9D/he/nhKZXTw4/QAAAABJRU5ErkJggg==\n",
       "\" style=\"display:inline;vertical-align:middle;\" /></a><br>(see <a class=\"ProveItLink\" href=\"../../../__pv_it/theorems/f210d3a91f7c9136c37b61948e70ba68424c46650/dependencies.ipynb\">dependencies</a>)<br>"
      ],
      "text/plain": [
       "association: forall_{l, m, n in Natural} [forall_{A_{1}, ..A_{_a}.., A_{l}, B_{1}, ..B_{_a}.., B_{m}, C_{1}, ..C_{_a}.., C_{n} in BOOLEAN} ((A_{1} or ..A_{_a}.. or A_{l} or B_{1} or ..B_{_a}.. or B_{m} or C_{1} or ..C_{_a}.. or C_{n}) =  \\\\ (A_{1} or ..A_{_a}.. or A_{l} or (B_{1} or ..B_{_a}.. or B_{m}) or C_{1} or ..C_{_a}.. or C_{n}))]"
      ]
     },
     "execution_count": 2,
     "metadata": {},
     "output_type": "execute_result"
    }
   ],
   "source": [
    "%proving association"
   ]
  },
  {
   "cell_type": "code",
   "execution_count": null,
   "metadata": {},
   "outputs": [],
   "source": []
  }
 ],
 "metadata": {
  "kernelspec": {
   "display_name": "Python 3",
   "language": "python",
   "name": "python3"
  }
 },
 "nbformat": 4,
 "nbformat_minor": 0
}