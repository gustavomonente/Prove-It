{
 "cells": [
  {
   "cell_type": "markdown",
   "metadata": {},
   "source": [
    "Proof of <a class=\"ProveItLink\" href=\"../../../../../../_theory_nbs_/theory.ipynb\">proveit</a>.<a class=\"ProveItLink\" href=\"../../../../../_theory_nbs_/theory.ipynb\">logic</a>.<a class=\"ProveItLink\" href=\"../../../../_theory_nbs_/theory.ipynb\">booleans</a>.<a class=\"ProveItLink\" href=\"../../theory.ipynb\">disjunction</a>.<a class=\"ProveItLink\" href=\"../../theorems.ipynb#association\">association</a> theorem\n",
    "========"
   ]
  },
  {
   "cell_type": "code",
   "execution_count": 1,
   "metadata": {},
   "outputs": [],
   "source": [
    "import proveit\n",
    "theory = proveit.Theory() # the theorem's theory"
   ]
  },
  {
   "cell_type": "code",
   "execution_count": 2,
   "metadata": {},
   "outputs": [
    {
     "data": {
      "text/html": [
       "Under these <a href=\"presumptions.txt\">presumptions</a>, we begin our proof of<br><strong id=\"association\">association:</strong> <a class=\"ProveItLink\" href=\"../../../__pv_it/theorems/a3872817345ec8f72ade7f01069430c2da86830f0/expr.ipynb\"><img src=\"data:image/png;base64,iVBORw0KGgoAAAANSUhEUgAAA2wAAAAyBAMAAADSLkV4AAAAMFBMVEX///8QEBCIiIhmZma6urrM\n",
       "zMxUVFQiIiJERETc3Nzu7u6qqqp2dnaYmJgyMjIAAAAcRTyBAAAAAXRSTlMAQObYZgAACsBJREFU\n",
       "eNrtXGtsHNUVPp59zuyskz/lERq6pFJwqiY2Mk1SYpSNkJqqVcs6qKE/aL2KSZtGbbMoFYVAyKYt\n",
       "yaaAvG0lCGnBA1SQmBK2jSyIFMS2oS/zyIpQNSqJYxr4AVLBxHnZIbj3OTN35s56NzuRPXGu5Nl7\n",
       "z5xz9s797vPM5wWoPTWNj5dhSqRXYDomLUs/D4x/XI9Z095HjSlRf708LWGDb9KPXY/+sS7YMlOk\n",
       "+nOnJ2qQHGKZziDClpgplh+7uMBJFD1vPRhk2J5Ii1N+nnxEhurz8l1Jb153qn3NL+ro/VX0tZbu\n",
       "H6l1TOZPbllY+R3N/mDCJw8kbD8Xi820dzYPc0GEXN2VFeUfcXHGuteEesDSjFvu5UXQF02uqUDi\n",
       "ukr1CtnUldkAe2ZT8e4J55kgwpYYE8sH6cegKY7ieiZTLkNBnvyIb69W48ubJNuF2vnmNrfcy4ug\n",
       "L5js3IAuS4vVK2Spa1tRbUKjbMeV8nz2e4MLW6xNLN9NJ6U9o+Z4wBvlmHvTK8if5W0KK/FlA8m2\n",
       "ItnRlFvu5UXQF0zewQrLJqiQpd48C13CbCxpMz2f/eViYGE7Ki7Zao6OHuWEKXof/d0ksbTLK61p\n",
       "2yQbpl1hM2qzyw233MuLoG83CZ3FxVsmqJD1DUtLGF3+Ze9O1GWDCNtdYlGhT/K1xDlTtAf9bZNY\n",
       "2uRh4+UKn3SRgzjtCqcAbl0LbrmXF0HfbtJL+tKuCSpkqqunySjjX7bfexM0FlTYIifEcpw0v5aO\n",
       "HEcf36Z9EmnlZX3Vkv8eulKgrSP5HLeLnDrSco/pxZJ7eeH6VuImB9jMyRS9KsTV9eOCeJDIPiRJ\n",
       "HO7a8aDCFnLM/LESGT2gjqBZaREdgCmIpiWmNnkaelGDLCf5OQC30/toeXwiy71Yci8vTN+WuMkm\n",
       "2lSR9lzVCnH12ElB/IL3038YVNiaso4yaY+V7QvPAMdBy8k30ZY80t2+Ls9no2dAo2e+OOoRylnu\n",
       "xZJ7eeH6VuImnyMLngHhXNUKcfUmMvdpXNzl/fStxYDC1lWRwYYuV5uwwRJ4VWprysPIDjXYQ3T8\n",
       "lnQyYmEG6hHKcdOLKffywvVtUwEz2USWrgyHzatCXD1Gzpz9NcDWWwkobK1FySSZQH93WLA9Djmp\n",
       "rSlHNjE0VOiZQR2KWT0iesL0Ysq9vDD9g/+a0zZntWBCThc6mLB5VIir0xNbmXjiT8HWtqxsrgkg\n",
       "bJtBsiX5LQt7sAaPf0d+YuVytUSiKhG2TN7/ptUjuvKmF1Pu4YXrvzUbLjPmCia9WGPAgs2rQkxd\n",
       "xUNWN7CnK/mWRJ7iuYDCdoWjrLexs1tP0WzwyPfpYep5NBFqn7KMTf4IboBRUNjubiU7VL+D2vkK\n",
       "w4KNyYmx6crywvTVJ3NwAjoEE3wa2WNYsDET4sBeIf7N6DSSuAGwJ7zKdXg/vT5MYSPmR2qFrZkc\n",
       "HiqTiJo24hCgltF6PjXgxfH1VoMfYxMonlLu5BlTvnP8A0j0nG6LsyHQTHfZPx7vXlgoWWOWy4mx\n",
       "6cryzvWjKTRs7xFM4Kkt3WmwYOMmd4JYIa6uLf7e9TgKliKRkve8Hz95ksJGlsoPaoWNrKDNxmQe\n",
       "2447JXfb8rzBd3hYi/Kmb7ElxvFA3Itq1OIFtYuSV4czMhMTNo8KOdSbMqFyBu87J3j8TtiOjfO1\n",
       "wkY0t0/mHJk465QcrO3EI0kzFLm8Pi/Qi0ZJMl+W1jZXp6fY1zPVQslssukkQ0e+z5WubXhcvjqZ\n",
       "sCVPulZpa2v5m02r6jq5yzkpdXqBr0BzUf2hbGSqi06l6vOkvF7txQ2Np2HYkgN9fY/UviU53Ne3\n",
       "KzeZsCmjrg6Yh4srbat28wzbSZ4pFO6tHbYZhcLW8mQ+kz7mEl1kpIRksdrdqxlsqzG8LKg6MWzR\n",
       "DJuU4sXqPeWrI/vXSFSc4uSWDkWidqi7PM9jYhuDaZ0uZ7DdROJiy712LutfgWuyFmzhNjb1Hk1L\n",
       "e4oZnk/OBF3yus8hVv8L2mZJHCIFO21agwsWLeH56PD0hu0OBlsMlIrHK55n998IL+pGyLAdt3Mw\n",
       "nywoS6WHt6fMl16hrIs9IBH3IvAPuVdyBH6SrVjavvaKoqtvZy7BJsCmV3Bc7CHZ0HlghwEvpdp0\n",
       "e5TkdRpd059pkzkdWG+GClMQGnIrOMR4VV3hVkKrZ4RtwQ7t7QNFgYHKpUmSpJ8y2NQhTGnA+7Pk\n",
       "jSs+r8zNsBx7jd7f/2sBtscJMQJWxGX7t0iqwLPPZ2CBZE8sihWMQZ9LqRVpaFSLvLNXlPBhvgDq\n",
       "o9MbNr4lgW23Aw2qJpdVmtYqWZYr0rhXv/7cbXbY4g+TRS0bQoNurdNnFBaBupFkb57fgjxFnchR\n",
       "sTmsKPZOLRvtgETTlNB1ZrxHOXkBd5INe0oUfQwsSH1dxmHbgwAgQdUd18KMdKjMcoZGpsF+KO+3\n",
       "w5Ygr36TJWUYbpvl9Pk2tALcT7JvAFwLkT87YSNiK0xBzhIurU9siyWBSoEvZ1ybHse5zQd6K/bU\n",
       "IMXVRU31m+Y6wmGbgVYRGlRdhcr0Hf8qWAaRuwqFnyHYHovZYQMSFNvd8Y8xNxtNO/ZajwF0C/gg\n",
       "2m+U3CwzKrYvYlrFpYVXvOdo9tZCoZBCsJV5tCHhgs0/eivx1BjFdbfTzGeaq/YJhy1p8KDqZ6AF\n",
       "eiM01xGBLB1t4RUCbP/BlxtAPemGDW05ezMswHkWTYhFN2xEnFxy5Ev7sLNQnrxMdGotBvLO8KXD\n",
       "eNqlo63Md0CRc84n8Y/eSjw1RnGl8cQLR3PloWQ2Wymw3VCH0Sg7pNPcT/rhr/jOWwCHBdjIRgFV\n",
       "9RyBDen+kl/gG8hRJVkGVFLHQP0sAcS6b4oTC+CqRBlbbATtn26tWAX+UIQ/5dEw1/F3Kjq8VhZm\n",
       "CXvyj95KPDVGcaXU1AtHc6WR9E4rqNpZCmfhfXh4gOa+WIE4ms3C96Vpjxdg68nD9tMV/E2dpciV\n",
       "0FnEl1L8DKg9G0NpiFwFfx9pX5MmdUQFer9oiVdrOaTWWQK9+y+GWwv+1vEF3DcxGe0B9PfvNxb/\n",
       "z6z4fc5Dnm/0VuqpQYrru4KZ7zRXupG2v90uuXItaG1zBLeEtEFmFUtQagctGLaClcsl2rBaqapW\n",
       "DOajllXQ2iZ86VJnbNk3eiv11CDFdb9g5jvNNTrsgM3ab3rtYp2wrRgpSaz0eQB7+azQusQqWDkt\n",
       "q6Sj80wLD62nYZ8sEnPUMcn4R28lnhqluA4KZj7QXB0Y5B2wJSW56rB5WwnNXZGLHd/jqeVMXY6X\n",
       "g/7RW4mnRimuLwhmvtNcCbfoEr0VJ5Nkij01SnHtEsx8p7kGlt4aGpbBlvaB3ko8NUpx7RLMfKe5\n",
       "boWAwhY+IZkkfaG3Ek+NUlyXC2Y+0FzFFNh/3YD1ki2JL/RW4qlRiuugYOY3zVUJ7D9KObeS/tFb\n",
       "saeGKa410VxdFauV5soW9iDC1iQGZv2jt+K2bZji+p5g5kVzdVasVpprgP8J2PnS3D96q8xTnRRX\n",
       "Tk29QDRXhnogf+DimDSU7HXSqZKc9Nbz92RSXD2oqT7RXBOzAgzbr8R6+EdvPX9PJsVVTk31i+Ya\n",
       "6J+TcXRd/+itPnja5uNzun11Q4Bhg4VicQqREpI+khLcvjibrU7YpsoPE0ZTMC3Tef4w4ZT5GdDr\n",
       "pyVqGns/dGD84/8DYWgcrT3o3asAAAAASUVORK5CYII=\n",
       "\" style=\"display:inline;vertical-align:middle;\" /></a><br>(see <a class=\"ProveItLink\" href=\"../../../__pv_it/theorems/821d97718829c097224690f88e571482148431f40/dependencies.ipynb\">dependencies</a>)<br>"
      ],
      "text/plain": [
       "association: forall_{l, m, n in Natural} [forall_{A_{1}, ..A_{_a}.., A_{l}, B_{1}, ..B_{_a}.., B_{m}, C_{1}, ..C_{_a}.., C_{n} in BOOLEAN} ((A_{1} or ..A_{_a}.. or A_{l} or B_{1} or ..B_{_a}.. or B_{m} or C_{1} or ..C_{_a}.. or C_{n}) =  \\\\ (A_{1} or ..A_{_a}.. or A_{l} or (B_{1} or ..B_{_a}.. or B_{m}) or C_{1} or ..C_{_a}.. or C_{n}))]"
      ]
     },
     "execution_count": 2,
     "metadata": {},
     "output_type": "execute_result"
    }
   ],
   "source": [
    "%proving association"
   ]
  },
  {
   "cell_type": "code",
   "execution_count": null,
   "metadata": {},
   "outputs": [],
   "source": []
  }
 ],
 "metadata": {
  "kernelspec": {
   "display_name": "Python 3",
   "language": "python",
   "name": "python3"
  }
 },
 "nbformat": 4,
 "nbformat_minor": 0
}