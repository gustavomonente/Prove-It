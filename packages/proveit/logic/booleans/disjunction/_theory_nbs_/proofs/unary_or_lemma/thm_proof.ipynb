{
 "cells": [
  {
   "cell_type": "markdown",
   "metadata": {},
   "source": [
    "Proof of <a class=\"ProveItLink\" href=\"../../../../../../_theory_nbs_/theory.ipynb\">proveit</a>.<a class=\"ProveItLink\" href=\"../../../../../_theory_nbs_/theory.ipynb\">logic</a>.<a class=\"ProveItLink\" href=\"../../../../_theory_nbs_/theory.ipynb\">booleans</a>.<a class=\"ProveItLink\" href=\"../../theory.ipynb\">disjunction</a>.<a class=\"ProveItLink\" href=\"../../theorems.ipynb#unary_or_lemma\">unary_or_lemma</a> theorem\n",
    "========"
   ]
  },
  {
   "cell_type": "code",
   "execution_count": 1,
   "metadata": {},
   "outputs": [],
   "source": [
    "import proveit\n",
    "from proveit.numbers import num\n",
    "from proveit import A, B, m\n",
    "from proveit.logic.booleans.disjunction  import multi_disjunction_def\n",
    "theory = proveit.Theory() # the theorem's theory"
   ]
  },
  {
   "cell_type": "code",
   "execution_count": 2,
   "metadata": {},
   "outputs": [
    {
     "data": {
      "text/html": [
       "Under these <a href=\"presumptions.txt\">presumptions</a>, we begin our proof of<br><strong id=\"unary_or_lemma\">unary_or_lemma:</strong> <a class=\"ProveItLink\" href=\"../../../__pv_it/theorems/6af34a2ecffd056f562cbfb136ad352b76ace5a00/expr.ipynb\"><img src=\"data:image/png;base64,iVBORw0KGgoAAAANSUhEUgAAANcAAAAUBAMAAADsL7WcAAAAMFBMVEX///8QEBCIiIhmZma6urrM\n",
       "zMxUVFQiIiJERETc3Nzu7u6qqqp2dnaYmJgyMjIAAAAcRTyBAAAAAXRSTlMAQObYZgAAAqVJREFU\n",
       "SMeVlk1oE0EUx59J02STTbwI3sqiF28uFPQkFDwIQiGn4DEHvaf0EI0ViiBsEE0uoijFFQ+RihAo\n",
       "gr2FFg/WHkI9FVGCOelBi/YQBT/eezOznZnshjrwZt9O5jf/mTdvZwIwuazEuevj/Zz+pFHWpQ3o\n",
       "5UNSr/yy7WYQmG6PdXzGv3VjhlAA2Vtq+JIkVmpDmQl2uWUPdQdjHT9TVfDEi0IMgOwBxWA5Sewd\n",
       "wBV67rBL5eMvrDbsfkVfF1OICaCVQgC3myR2DaBCzwa7FMy1n1g/sftl27qYQkwArbi1uno/Scup\n",
       "ifBN+ezSElL7FJo5q6MYQYlJxALIRkGwlCSWQqKAlmuzi+Vi4TfWrm91PGmIScQCyDDATW5ujovl\n",
       "KKFxSZekC/m5zHeaLmWI+5UL694xxCRiAWTnZXIV9+W6Pw0X1R5myTkBcFm6MAXODxq1Zs3quikm\n",
       "EAsgy0KKJ/2Ulvt88xx4vZWXEjpCe9Ph2bALldkzI0rrPUvsmCnWib4ODSBz+1lu3lrEVd1+GILn\n",
       "uS90sXSXslWIYTVzCDGBWACZM+BMzXgBhRSL582/0cPoDLLKLaAtUHBqB3tWjQmjQCyAoSaHdxrO\n",
       "yrPLm50p6wkCt3aU+wjtm0oQvVgJIhALYGiNd/s9nIa8L1aWvicZkeKVhnT5W2thTqd7ltimJVZp\n",
       "RN9pBDB0lLrkh9utMHM1CG7SnqUkwyuHki/cfOtPCK/+4t6WypbYBRyrXl84Xq9XIUIsgKFiSFsa\n",
       "wuMyVMXK3LR2XOH8wsiNsi32uNKOntB87xjQPK6wD69ZrOduawdxjJt0ECeXDR3KjcBp3YAcplxx\n",
       "aXg3uglzBzPW3JgrpjlRS10xZjmFezb58rR0jcszsRAQAx3qb8Hu//4t2BX2D8X01SL07nfqAAAA\n",
       "AElFTkSuQmCC\n",
       "\" style=\"display:inline;vertical-align:middle;\" /></a><br>(see <a class=\"ProveItLink\" href=\"../../../__pv_it/theorems/d430f32a18a1ee99500edba7d14cad1217298c610/dependencies.ipynb\">dependencies</a>)<br>"
      ],
      "text/plain": [
       "unary_or_lemma: forall_{A in BOOLEAN} (or(A) = (FALSE or A))"
      ]
     },
     "execution_count": 2,
     "metadata": {},
     "output_type": "execute_result"
    }
   ],
   "source": [
    "%proving unary_or_lemma"
   ]
  },
  {
   "cell_type": "code",
   "execution_count": 3,
   "metadata": {},
   "outputs": [
    {
     "data": {
      "text/html": [
       "<span style=\"font-size:20px;\"> <a class=\"ProveItLink\" href=\"../../axioms.ipynb#multi_disjunction_def\" style=\"text-decoration: none\">&nbsp;&#x22A2;&nbsp;&nbsp;</a><a class=\"ProveItLink\" href=\"../../../__pv_it/axioms/a9a1915efaeb514be9c4ef822e25c892a1972ced0/expr.ipynb\"><img src=\"data:image/png;base64,iVBORw0KGgoAAAANSUhEUgAAAdEAAAAyBAMAAADxSvwwAAAAMFBMVEX///8QEBCIiIhmZma6urrM\n",
       "zMxUVFQiIiJERETc3Nzu7u6qqqp2dnaYmJgyMjIAAAAcRTyBAAAAAXRSTlMAQObYZgAABuxJREFU\n",
       "aN7NWn2IFGUYf252Z2dnP/0jxTBqyaj+242LC9S6FQkhiFaDs5C640yKIG5LELLCCypXI3YjyC/K\n",
       "EcMTA2/t/qgDw9UI4pLcTgol0gUjyD/yMD/utPN6P2Zm551552Mbd/ZeuJl5Z57n3ec37/M+7/P8\n",
       "bgBc2n1z/4KvlshD59pB1Ya5uQWuskt27/H3Y6c6CBTCDXKK7d7rjnShz98SBpiuXG8HoHHbJ+fV\n",
       "s9h+pEfZ7iH1hxutjfKizf1f5zb0lPIQqdgpRmtBIY3dxfb/oqfUlHZDJMeCRbHQfIjaZeMjo8pi\n",
       "gNA1iDXcfr/9SKM5pptUu+dvanci2OJkxqK4ER8mNbXLiuGRQUWcRWvxH4CTbj7VfqTHFaYrUTeL\n",
       "jc3oE4TXsaRYFPvwYYva+bLX6J4GFQGNk7wCsN/WAKkWENJNbHenOkfCVcafV1kVUwhbWHOIejZv\n",
       "XgJUJYoA7EfvI2W7lcVngkGanGH7S+npqfisfmsM/W3nWIhQRtWZDCvHmZDdVEkPgLgZzW4i5/Ku\n",
       "245UGmb7H1HnzYvI4+A5KoLMGOaoFjUBgC+gn1nITZX+1ya3VfEbJSHpp79xu8iOc0EJBGm/yave\n",
       "onMEMooizz5GN9wMRHi+dz/AS+plHvYxc9ZUyVYgtgh7QNHWhNFMIEgfMfVpzO/r7plGp9V0gotw\n",
       "hKc6ou8d4obuIWbWmyrvYrRoUsUpWxNSjUCQLuIiRfNxr44UlsOPPNVQNVFVlylAF7th6irXMdKM\n",
       "I1JhJgik4ixwvDeO/l5vIv0cuK4nNyT1CgGWFkDy8bVLhQcLjAoZfwi9uHCxuU7/NI0zGwRSwRR6\n",
       "aUTaqyY9KtLoCxmu8vtq3iBXSU6VXFnvelXNojUVPL44rUckB79qN9KoefzvsOX4/ZcrOlLxZRId\n",
       "Y7e1wyg1u29Lcw+OzsCehyCdD9WMKpBC46/cgV29Zm/ENhUpGfV3R6RuIvaty7x9IHCx8m0Fvpnb\n",
       "pCMFdVvYrB0kOnEpGm8PzV2CePlGDgZhDUhVo0rk8vXuVz4ksgV7I06rSMnSvuSI1E3Evo2aN3Sp\n",
       "wsImzaYAlhWzJQ/DPpGvMuJgxIUCRboLjznsiNRNxGE7Na/ApBH61y2NJU+hWT2b4D886WYEQprC\n",
       "uVTVEambiEN+b9Ey5H2fbB1siT4YQPnupxP82qzh5lgIaXLi8OGdzhHJTcTFcXiV+B1u0YrDw/SA\n",
       "GnunS6W3XWKvi4h9y1osaA+7cs7pYXpYRbqRW0owSHWR7e5vNFxe0aOLnVag843kVxjpKouXr1uR\n",
       "FxYZkWoiyat8H2US9J8BTmjXvfMCaVFFKoFg8KjYse56fHgClhmRaiIHZrnhoJfxyB4D0TA0D4Di\n",
       "TJIiTdQlw+2z44chPhmCmhGpJjKxiTdSYoTZNd8AeALmJVK50Qd6+kz4jPj65zMMUiKCpDMl3khr\n",
       "o8a9NnYNhEvzynslzXthOyp4tfQ5RWqNwsQvDFIigpIvQLVzxGL8QMhYi4SvTH7QTMT4sfczv8aP\n",
       "t3Jfj0gwhgzV0ucDFGmiycsQpGMEy2+QBfGEGWmyKhiLw0QDBB15lrufxqgP+GC3LUy2E8Pdpe2n\n",
       "kMbZkpo+ryuVSpl4Qa4XGaREJHbxVFmxEpZHVvxw07jl1EC+xY/KGq2Xovb4YLfpVuCR4U7nNKRJ\n",
       "pZk+R+icwpMZBikRCSmwr2BFugzka3Dm2zPrv6fjViGsV6XH87y89wy99sNunzSpOTHcozVjfaql\n",
       "zwminIdkzVqfPo1g1DFSeQfsUrRDGC28Wfiq0VU9hmoB9DIU+FhX7q/zapk36bz4Ybf3m9ScGG4t\n",
       "wzelz7jaW/0HCjMWpNFpkMvv4JHFJbCmIt6ND0ugPAy7btQjhRF4FGBNNbG1u+c91nGMbadWiftk\n",
       "tymT7Y3hJmWGlXMQ0Dp15BzwO4w3+WedgR2DYpVQPoywed1gZlugtvtit2nE9MZwkw2gdXZFzC43\n",
       "BnPt6iA8AIMViJtiX2iKwyNFicX+2G3KG9kx3Gwb8sEj1TlX1ABzALrJ4QYpQ+KP3aZMtjeGe3Eg\n",
       "LOgtDt/blffPblN+1xPDLV/pGLNNkfpjt1VEXhjuYJht6LXzXp/sNmWy7RhutnouBoL0mbxNRPLJ\n",
       "bquRxwvDnc4EglTKWZltvBPYsNuE1PbCbrfAcGeVQJCagy8GhjzMlt0mpLYHdltjsj0w3DRUtP+/\n",
       "//fYZoO+2O0R8MpwB/Xff/MXHcYM3w+7bcdkW++rXtF+pKmcldk2cIn/k922Y7I5948qASGVF9pW\n",
       "4m1gsq33g/vyyuyed4ZdOef5fiQXGNLQQEfpsrPgGanvr14HOwm0la9efX/JHMp3EOlBGo/wl8z/\n",
       "Ac0fPkpolJsDAAAAAElFTkSuQmCC\n",
       "\" style=\"display:inline;vertical-align:middle;\" /></a></span>"
      ],
      "text/plain": [
       "|- forall_{m in Natural} [forall_{A_{1}, ..A_{_a}.., A_{m}, B} ((A_{1} or ..A_{_a}.. or A_{m} or B) =  \\\\ ((A_{1} or ..A_{_a}.. or A_{m}) or B))]"
      ]
     },
     "execution_count": 3,
     "metadata": {},
     "output_type": "execute_result"
    }
   ],
   "source": [
    "multi_disjunction_def"
   ]
  },
  {
   "cell_type": "code",
   "execution_count": 4,
   "metadata": {},
   "outputs": [
    {
     "data": {
      "text/html": [
       "<span style=\"font-size:20px;\"> <a class=\"ProveItLink\" href=\"../../../__pv_it/_proof_unary_or_lemma/02c18c5ae4f703a7c1e136b525cc75fe23b65f5a0/proof.ipynb\" style=\"text-decoration: none\">&nbsp;&#x22A2;&nbsp;&nbsp;</a><a class=\"ProveItLink\" href=\"../../../__pv_it/theorems/9ac362ba0a99b45f78c84fba79c4673f914941250/expr.ipynb\"><img src=\"data:image/png;base64,iVBORw0KGgoAAAANSUhEUgAAAI0AAAAUBAMAAABCGaMdAAAAMFBMVEX///8QEBB2dnZERESqqqpm\n",
       "Zma6urrc3NwyMjLu7u4iIiKIiIiYmJhUVFTMzMwAAABF6oizAAAAAXRSTlMAQObYZgAAAahJREFU\n",
       "OMuVlD1Iw0AUx59p2qStdhRxcnFycXMRGxBxzeIodNUpg5M4ZNPNilunFJTSTC5OLi5FwaWToxSc\n",
       "AwXxCwV9dy/X3r0mRR/k2nu53//u3nt5AMqORv+2YcKcW5hiOlBelT+1EGAumFh5Lt95GRoKGMgJ\n",
       "gEuwO0TJcGL1sRjsK5ooxACexOQBoEfu+08cVrjMrK/rKMQAEjHpAnTodlvvOJ5xnUqg6yjEAMR9\n",
       "Sj44EW1cfRNnbTCdQ9B1UsQEbHQUAqiSf8/+xtHymc61oZMiDMCDPKNfJrbcqH2JTUSgrRNpUnLd\n",
       "0EkRBtwAPGIEZE5L4LwKIGLnuTB1CGFAS6ZtRoYk2dl9ETkdMp15U6c1Kg0NKHqWp3RwWPiDDiEM\n",
       "cMIKpPey8WmL00bj+PQz7kUIBzZESck4H+BzquKsG4szIRxIumnmZA3VMaHFJaazzHQSqkITcH06\n",
       "Wbn+0YTNn0v0DJjOPi6N4/ZiHPepEmU1MMBpCmdHw1rZ34XWRprmXAN6mjvnO803DSiMt8zoG2tT\n",
       "ZXQg7WNM0uhjuWYA475699++isAvJhiAWmv9CI8AAAAASUVORK5CYII=\n",
       "\" style=\"display:inline;vertical-align:middle;\" /></a></span>"
      ],
      "text/plain": [
       "|- or(A) = (FALSE or A)"
      ]
     },
     "execution_count": 4,
     "metadata": {},
     "output_type": "execute_result"
    }
   ],
   "source": [
    "multi_disjunction_def.instantiate({m:num(0), A:(), B:A})"
   ]
  },
  {
   "cell_type": "code",
   "execution_count": 5,
   "metadata": {},
   "outputs": [
    {
     "data": {
      "text/html": [
       "<table><tr><th>&nbsp;</th><th>step type</th><th>requirements</th><th>statement</th></tr>\n",
       "<tr><td><a name=\"-0x440d3c0967bfcbe4_step0\">0</a></td><td>generalizaton</td><td><a href=\"#-0x440d3c0967bfcbe4_step1\">1</a></td><td><span style=\"font-size:20px;\"> <a class=\"ProveItLink\" href=\"../../../__pv_it/_proof_unary_or_lemma/d0c9b8f6274ef2e5b6374d83ada298ae8d0083f30/proof.ipynb\" style=\"text-decoration: none\">&nbsp;&#x22A2;&nbsp;&nbsp;</a><a class=\"ProveItLink\" href=\"../../../__pv_it/theorems/6af34a2ecffd056f562cbfb136ad352b76ace5a00/expr.ipynb\"><img src=\"data:image/png;base64,iVBORw0KGgoAAAANSUhEUgAAANcAAAAUBAMAAADsL7WcAAAAMFBMVEX///8QEBCIiIhmZma6urrM\n",
       "zMxUVFQiIiJERETc3Nzu7u6qqqp2dnaYmJgyMjIAAAAcRTyBAAAAAXRSTlMAQObYZgAAAqVJREFU\n",
       "SMeVlk1oE0EUx59J02STTbwI3sqiF28uFPQkFDwIQiGn4DEHvaf0EI0ViiBsEE0uoijFFQ+RihAo\n",
       "gr2FFg/WHkI9FVGCOelBi/YQBT/eezOznZnshjrwZt9O5jf/mTdvZwIwuazEuevj/Zz+pFHWpQ3o\n",
       "5UNSr/yy7WYQmG6PdXzGv3VjhlAA2Vtq+JIkVmpDmQl2uWUPdQdjHT9TVfDEi0IMgOwBxWA5Sewd\n",
       "wBV67rBL5eMvrDbsfkVfF1OICaCVQgC3myR2DaBCzwa7FMy1n1g/sftl27qYQkwArbi1uno/Scup\n",
       "ifBN+ezSElL7FJo5q6MYQYlJxALIRkGwlCSWQqKAlmuzi+Vi4TfWrm91PGmIScQCyDDATW5ujovl\n",
       "KKFxSZekC/m5zHeaLmWI+5UL694xxCRiAWTnZXIV9+W6Pw0X1R5myTkBcFm6MAXODxq1Zs3quikm\n",
       "EAsgy0KKJ/2Ulvt88xx4vZWXEjpCe9Ph2bALldkzI0rrPUvsmCnWib4ODSBz+1lu3lrEVd1+GILn\n",
       "uS90sXSXslWIYTVzCDGBWACZM+BMzXgBhRSL582/0cPoDLLKLaAtUHBqB3tWjQmjQCyAoSaHdxrO\n",
       "yrPLm50p6wkCt3aU+wjtm0oQvVgJIhALYGiNd/s9nIa8L1aWvicZkeKVhnT5W2thTqd7ltimJVZp\n",
       "RN9pBDB0lLrkh9utMHM1CG7SnqUkwyuHki/cfOtPCK/+4t6WypbYBRyrXl84Xq9XIUIsgKFiSFsa\n",
       "wuMyVMXK3LR2XOH8wsiNsi32uNKOntB87xjQPK6wD69ZrOduawdxjJt0ECeXDR3KjcBp3YAcplxx\n",
       "aXg3uglzBzPW3JgrpjlRS10xZjmFezb58rR0jcszsRAQAx3qb8Hu//4t2BX2D8X01SL07nfqAAAA\n",
       "AElFTkSuQmCC\n",
       "\" style=\"display:inline;vertical-align:middle;\" /></a></span></td></tr>\n",
       "<tr><td><a name=\"-0x440d3c0967bfcbe4_step1\">1</a></td><td>instantiation</td><td><a href=\"#-0x440d3c0967bfcbe4_step2\">2</a>, <a href=\"#-0x440d3c0967bfcbe4_step3\">3</a>, <a href=\"#-0x440d3c0967bfcbe4_step4\">4</a>, <a href=\"#-0x440d3c0967bfcbe4_step5\">5</a><sup>*</sup></td><td><span style=\"font-size:20px;\"> <a class=\"ProveItLink\" href=\"../../../__pv_it/_proof_unary_or_lemma/02c18c5ae4f703a7c1e136b525cc75fe23b65f5a0/proof.ipynb\" style=\"text-decoration: none\">&nbsp;&#x22A2;&nbsp;&nbsp;</a><a class=\"ProveItLink\" href=\"../../../__pv_it/theorems/9ac362ba0a99b45f78c84fba79c4673f914941250/expr.ipynb\"><img src=\"data:image/png;base64,iVBORw0KGgoAAAANSUhEUgAAAI0AAAAUBAMAAABCGaMdAAAAMFBMVEX///8QEBB2dnZERESqqqpm\n",
       "Zma6urrc3NwyMjLu7u4iIiKIiIiYmJhUVFTMzMwAAABF6oizAAAAAXRSTlMAQObYZgAAAahJREFU\n",
       "OMuVlD1Iw0AUx59p2qStdhRxcnFycXMRGxBxzeIodNUpg5M4ZNPNilunFJTSTC5OLi5FwaWToxSc\n",
       "AwXxCwV9dy/X3r0mRR/k2nu53//u3nt5AMqORv+2YcKcW5hiOlBelT+1EGAumFh5Lt95GRoKGMgJ\n",
       "gEuwO0TJcGL1sRjsK5ooxACexOQBoEfu+08cVrjMrK/rKMQAEjHpAnTodlvvOJ5xnUqg6yjEAMR9\n",
       "Sj44EW1cfRNnbTCdQ9B1UsQEbHQUAqiSf8/+xtHymc61oZMiDMCDPKNfJrbcqH2JTUSgrRNpUnLd\n",
       "0EkRBtwAPGIEZE5L4LwKIGLnuTB1CGFAS6ZtRoYk2dl9ETkdMp15U6c1Kg0NKHqWp3RwWPiDDiEM\n",
       "cMIKpPey8WmL00bj+PQz7kUIBzZESck4H+BzquKsG4szIRxIumnmZA3VMaHFJaazzHQSqkITcH06\n",
       "Wbn+0YTNn0v0DJjOPi6N4/ZiHPepEmU1MMBpCmdHw1rZ34XWRprmXAN6mjvnO803DSiMt8zoG2tT\n",
       "ZXQg7WNM0uhjuWYA475699++isAvJhiAWmv9CI8AAAAASUVORK5CYII=\n",
       "\" style=\"display:inline;vertical-align:middle;\" /></a></span></td></tr>\n",
       "<tr><td>&nbsp;</td><td colspan=4 style=\"text-align:left\"><span style=\"font-size:20px;\"><a class=\"ProveItLink\" href=\"../../../../../../__pv_it/common/2dc4f15b3407a25e8d70754a86bf74f1871f92650/expr.ipynb\"><img src=\"data:image/png;base64,iVBORw0KGgoAAAANSUhEUgAAABIAAAAJBAMAAADN8WE8AAAAMFBMVEX///9mZmaYmJgyMjIiIiIQ\n",
       "EBCqqqru7u5ERETMzMyIiIjc3NxUVFR2dna6uroAAAAPJcEmAAAAAXRSTlMAQObYZgAAAGNJREFU\n",
       "CNdj4Luze9UpzlvnGBh4OboY6tcxpDIwTGMxYNh/gUGfgaGg/gFDfgHDCQYGhnwGBhEGhiggS5iB\n",
       "wZeB7zc7A0MsA/s/BkaDbQzc/xjYPjAwX7jAwOfAwCXAwCa0AQBn+hZiKtaxkQAAAABJRU5ErkJg\n",
       "gg==\n",
       "\" style=\"display:inline;vertical-align:middle;\" /></a> : <a class=\"ProveItLink\" href=\"../../../../../../numbers/numerals/__pv_it/common/c35fdf7268947ca3e24174d2909dc9d0a7f3aac60/expr.ipynb\"><img src=\"data:image/png;base64,iVBORw0KGgoAAAANSUhEUgAAAAoAAAAOBAMAAADkjZCYAAAAMFBMVEX///9mZma6urpUVFREREQQ\n",
       "EBDc3NwiIiLu7u6qqqoyMjLMzMyYmJiIiIh2dnYAAADXmt2vAAAAAXRSTlMAQObYZgAAAFFJREFU\n",
       "CNdjYOC785qBgWElQ3sCA08AA98CBhYDBs4fDPwGDEw/GfoFGJj+MuQ/YOAGkgIM3P+gIkBZzp8M\n",
       "LA4MPD+guhgqGVo3MDD03bVmAABi3RThwIkdoQAAAABJRU5ErkJggg==\n",
       "\" style=\"display:inline;vertical-align:middle;\" /></a>, <a class=\"ProveItLink\" href=\"../../../../../../__pv_it/common/e4aad701f7f5516d8e7f0d805d518bf02c13322a0/expr.ipynb\"><img src=\"data:image/png;base64,iVBORw0KGgoAAAANSUhEUgAAAA8AAAAOBAMAAAACpFvcAAAALVBMVEX///8iIiIQEBBERERUVFS6\n",
       "urqIiIjc3NxmZmaqqqru7u6YmJgyMjLMzMwAAACK9jtgAAAAAXRSTlMAQObYZgAAAFtJREFUCNdj\n",
       "YACBOwxQcA5Kc59bAGGs7CuAMDbkBYBp1gXzNoAZSxnuJYAZAQx1DSCa16PDzwCshIGB6QCIMYGB\n",
       "gVEBSLMDGTwPgIxCIGZ+zsCw+N0pBk67hw0AfpEVEQi8t+wAAAAASUVORK5CYII=\n",
       "\" style=\"display:inline;vertical-align:middle;\" /></a> : <a class=\"ProveItLink\" href=\"../../../../../../core_expr_types/tuples/__pv_it/theorems/1a4193f1deeaf7a4a6b6289328d46189ae6a257f0/expr.ipynb\"><img src=\"data:image/png;base64,iVBORw0KGgoAAAANSUhEUgAAAAwAAAAUBAMAAABL3sEiAAAAMFBMVEX////MzMxUVFR2dna6uroQ\n",
       "EBCqqqqIiIgiIiJmZmYyMjJERETu7u6YmJjc3NwAAACgK8IjAAAAAXRSTlMAQObYZgAAAGNJREFU\n",
       "CNdjYOC7wPaAgYHhNAODHpBax8BwioGBdwIDA3MBAwdQgieA4QVQnGEJQyWIsmTYC6JuMbSBqAyG\n",
       "EBAlD6PAgh4wJZYgajKQDwQLIYY1wIxm2Ae2CGQtkAV0BO8DBgBfVhetSSF8+gAAAABJRU5ErkJg\n",
       "gg==\n",
       "\" style=\"display:inline;vertical-align:middle;\" /></a>, <a class=\"ProveItLink\" href=\"../../../../../../__pv_it/common/4eca3b30dcf58a58494e201d1b7886d8643a617b0/expr.ipynb\"><img src=\"data:image/png;base64,iVBORw0KGgoAAAANSUhEUgAAABAAAAAOBAMAAADUAYG5AAAALVBMVEX///8yMjKqqqoiIiLu7u7c\n",
       "3NyIiIjMzMwQEBC6urpERERmZmZUVFSYmJgAAACsPVCVAAAAAXRSTlMAQObYZgAAAGxJREFUCNdj\n",
       "YGC48+70nlUTGICgi4GB+zmQZn/LwMD5Gshge8rAwPsMyOBqYGDwMAEy+A4wsNs4ABl1Z68tVgBp\n",
       "ygtgYOkBMVaAOCChNyBGAsQYhnMTIMawvwJyGIHGzFjCwMAj92b3qUUMDAAXABxvZ4rl5AAAAABJ\n",
       "RU5ErkJggg==\n",
       "\" style=\"display:inline;vertical-align:middle;\" /></a> : <a class=\"ProveItLink\" href=\"../../../../../../__pv_it/common/e4aad701f7f5516d8e7f0d805d518bf02c13322a0/expr.ipynb\"><img src=\"data:image/png;base64,iVBORw0KGgoAAAANSUhEUgAAAA8AAAAOBAMAAAACpFvcAAAALVBMVEX///8iIiIQEBBERERUVFS6\n",
       "urqIiIjc3NxmZmaqqqru7u6YmJgyMjLMzMwAAACK9jtgAAAAAXRSTlMAQObYZgAAAFtJREFUCNdj\n",
       "YACBOwxQcA5Kc59bAGGs7CuAMDbkBYBp1gXzNoAZSxnuJYAZAQx1DSCa16PDzwCshIGB6QCIMYGB\n",
       "gVEBSLMDGTwPgIxCIGZ+zsCw+N0pBk67hw0AfpEVEQi8t+wAAAAASUVORK5CYII=\n",
       "\" style=\"display:inline;vertical-align:middle;\" /></a></span></td></tr><tr><td><a name=\"-0x440d3c0967bfcbe4_step2\">2</a></td><td>axiom</td><td></td><td><span style=\"font-size:20px;\"> <a class=\"ProveItLink\" href=\"../../axioms.ipynb#multi_disjunction_def\" style=\"text-decoration: none\">&nbsp;&#x22A2;&nbsp;&nbsp;</a><a class=\"ProveItLink\" href=\"../../../__pv_it/axioms/a9a1915efaeb514be9c4ef822e25c892a1972ced0/expr.ipynb\"><img src=\"data:image/png;base64,iVBORw0KGgoAAAANSUhEUgAAAdEAAAAyBAMAAADxSvwwAAAAMFBMVEX///8QEBCIiIhmZma6urrM\n",
       "zMxUVFQiIiJERETc3Nzu7u6qqqp2dnaYmJgyMjIAAAAcRTyBAAAAAXRSTlMAQObYZgAABuxJREFU\n",
       "aN7NWn2IFGUYf252Z2dnP/0jxTBqyaj+242LC9S6FQkhiFaDs5C640yKIG5LELLCCypXI3YjyC/K\n",
       "EcMTA2/t/qgDw9UI4pLcTgol0gUjyD/yMD/utPN6P2Zm551552Mbd/ZeuJl5Z57n3ec37/M+7/P8\n",
       "bgBc2n1z/4KvlshD59pB1Ya5uQWuskt27/H3Y6c6CBTCDXKK7d7rjnShz98SBpiuXG8HoHHbJ+fV\n",
       "s9h+pEfZ7iH1hxutjfKizf1f5zb0lPIQqdgpRmtBIY3dxfb/oqfUlHZDJMeCRbHQfIjaZeMjo8pi\n",
       "gNA1iDXcfr/9SKM5pptUu+dvanci2OJkxqK4ER8mNbXLiuGRQUWcRWvxH4CTbj7VfqTHFaYrUTeL\n",
       "jc3oE4TXsaRYFPvwYYva+bLX6J4GFQGNk7wCsN/WAKkWENJNbHenOkfCVcafV1kVUwhbWHOIejZv\n",
       "XgJUJYoA7EfvI2W7lcVngkGanGH7S+npqfisfmsM/W3nWIhQRtWZDCvHmZDdVEkPgLgZzW4i5/Ku\n",
       "245UGmb7H1HnzYvI4+A5KoLMGOaoFjUBgC+gn1nITZX+1ya3VfEbJSHpp79xu8iOc0EJBGm/yave\n",
       "onMEMooizz5GN9wMRHi+dz/AS+plHvYxc9ZUyVYgtgh7QNHWhNFMIEgfMfVpzO/r7plGp9V0gotw\n",
       "hKc6ou8d4obuIWbWmyrvYrRoUsUpWxNSjUCQLuIiRfNxr44UlsOPPNVQNVFVlylAF7th6irXMdKM\n",
       "I1JhJgik4ixwvDeO/l5vIv0cuK4nNyT1CgGWFkDy8bVLhQcLjAoZfwi9uHCxuU7/NI0zGwRSwRR6\n",
       "aUTaqyY9KtLoCxmu8vtq3iBXSU6VXFnvelXNojUVPL44rUckB79qN9KoefzvsOX4/ZcrOlLxZRId\n",
       "Y7e1wyg1u29Lcw+OzsCehyCdD9WMKpBC46/cgV29Zm/ENhUpGfV3R6RuIvaty7x9IHCx8m0Fvpnb\n",
       "pCMFdVvYrB0kOnEpGm8PzV2CePlGDgZhDUhVo0rk8vXuVz4ksgV7I06rSMnSvuSI1E3Evo2aN3Sp\n",
       "wsImzaYAlhWzJQ/DPpGvMuJgxIUCRboLjznsiNRNxGE7Na/ApBH61y2NJU+hWT2b4D886WYEQprC\n",
       "uVTVEambiEN+b9Ey5H2fbB1siT4YQPnupxP82qzh5lgIaXLi8OGdzhHJTcTFcXiV+B1u0YrDw/SA\n",
       "GnunS6W3XWKvi4h9y1osaA+7cs7pYXpYRbqRW0owSHWR7e5vNFxe0aOLnVag843kVxjpKouXr1uR\n",
       "FxYZkWoiyat8H2US9J8BTmjXvfMCaVFFKoFg8KjYse56fHgClhmRaiIHZrnhoJfxyB4D0TA0D4Di\n",
       "TJIiTdQlw+2z44chPhmCmhGpJjKxiTdSYoTZNd8AeALmJVK50Qd6+kz4jPj65zMMUiKCpDMl3khr\n",
       "o8a9NnYNhEvzynslzXthOyp4tfQ5RWqNwsQvDFIigpIvQLVzxGL8QMhYi4SvTH7QTMT4sfczv8aP\n",
       "t3Jfj0gwhgzV0ucDFGmiycsQpGMEy2+QBfGEGWmyKhiLw0QDBB15lrufxqgP+GC3LUy2E8Pdpe2n\n",
       "kMbZkpo+ryuVSpl4Qa4XGaREJHbxVFmxEpZHVvxw07jl1EC+xY/KGq2Xovb4YLfpVuCR4U7nNKRJ\n",
       "pZk+R+icwpMZBikRCSmwr2BFugzka3Dm2zPrv6fjViGsV6XH87y89wy99sNunzSpOTHcozVjfaql\n",
       "zwminIdkzVqfPo1g1DFSeQfsUrRDGC28Wfiq0VU9hmoB9DIU+FhX7q/zapk36bz4Ybf3m9ScGG4t\n",
       "wzelz7jaW/0HCjMWpNFpkMvv4JHFJbCmIt6ND0ugPAy7btQjhRF4FGBNNbG1u+c91nGMbadWiftk\n",
       "tymT7Y3hJmWGlXMQ0Dp15BzwO4w3+WedgR2DYpVQPoywed1gZlugtvtit2nE9MZwkw2gdXZFzC43\n",
       "BnPt6iA8AIMViJtiX2iKwyNFicX+2G3KG9kx3Gwb8sEj1TlX1ABzALrJ4QYpQ+KP3aZMtjeGe3Eg\n",
       "LOgtDt/blffPblN+1xPDLV/pGLNNkfpjt1VEXhjuYJht6LXzXp/sNmWy7RhutnouBoL0mbxNRPLJ\n",
       "bquRxwvDnc4EglTKWZltvBPYsNuE1PbCbrfAcGeVQJCagy8GhjzMlt0mpLYHdltjsj0w3DRUtP+/\n",
       "//fYZoO+2O0R8MpwB/Xff/MXHcYM3w+7bcdkW++rXtF+pKmcldk2cIn/k922Y7I5948qASGVF9pW\n",
       "4m1gsq33g/vyyuyed4ZdOef5fiQXGNLQQEfpsrPgGanvr14HOwm0la9efX/JHMp3EOlBGo/wl8z/\n",
       "Ac0fPkpolJsDAAAAAElFTkSuQmCC\n",
       "\" style=\"display:inline;vertical-align:middle;\" /></a></span></td></tr>\n",
       "<tr><td>&nbsp;</td><td colspan=4 style-\"text-align:left\"><a class=\"ProveItLink\" href=\"../../axioms.ipynb#multi_disjunction_def\">proveit.logic.booleans.disjunction.multi_disjunction_def</a></td></tr><tr><td><a name=\"-0x440d3c0967bfcbe4_step3\">3</a></td><td>axiom</td><td></td><td><span style=\"font-size:20px;\"> <a class=\"ProveItLink\" href=\"../../../../../../numbers/number_sets/natural_numbers/_theory_nbs_/axioms.ipynb#zero_in_nats\" style=\"text-decoration: none\">&nbsp;&#x22A2;&nbsp;&nbsp;</a><a class=\"ProveItLink\" href=\"../../../../../../numbers/number_sets/natural_numbers/__pv_it/axioms/0b15b4387138326157a681ee81e504aafbe547fc0/expr.ipynb\"><img src=\"data:image/png;base64,iVBORw0KGgoAAAANSUhEUgAAADMAAAAPBAMAAAC7N+rPAAAAMFBMVEX///9mZma6urpUVFREREQQ\n",
       "EBDc3NwiIiLu7u6qqqoyMjLMzMyYmJiIiIh2dnYAAADXmt2vAAAAAXRSTlMAQObYZgAAAONJREFU\n",
       "GNNjYOC785oBBXR98WpgePpVgYFhJUN7AqqcD7cBA8cHBgaeAAa+BahS5hvuMjAEMDCwGDBw/gCL\n",
       "8LiXV4EZRh7MGxgKGBj4DRiYfoIEuH0boLrMNnOsAEn1CzAw/QXbDpNhMOO8sBkklf+AgRssZQa3\n",
       "y4zhEc8FkJQAA/c/kIADkhRzgzWSgdxRq4AAKsVhwBUAdgYnyBlsyLoY9nGDHO/AwAN2fACyFM8E\n",
       "ByQvy8KlrIH4GciQSobWDSAB9gkwqZVAzAhS3nfXGizAYaIBkdn+FaiDAyXwmJ5AAwoKAGQvOOyD\n",
       "fUpGAAAAAElFTkSuQmCC\n",
       "\" style=\"display:inline;vertical-align:middle;\" /></a></span></td></tr>\n",
       "<tr><td>&nbsp;</td><td colspan=4 style-\"text-align:left\"><a class=\"ProveItLink\" href=\"../../../../../../numbers/number_sets/natural_numbers/_theory_nbs_/axioms.ipynb#zero_in_nats\">proveit.numbers.number_sets.natural_numbers.zero_in_nats</a></td></tr><tr><td><a name=\"-0x440d3c0967bfcbe4_step4\">4</a></td><td>conjecture</td><td></td><td><span style=\"font-size:20px;\"> <a class=\"ProveItLink\" href=\"../../../../../../core_expr_types/tuples/_theory_nbs_/proofs/tuple_len_0_typical_eq/thm_proof.ipynb\" style=\"text-decoration: none\">&nbsp;&#x22A2;&nbsp;&nbsp;</a><a class=\"ProveItLink\" href=\"../../../../../../core_expr_types/tuples/__pv_it/theorems/f54d4023c967cc1c07815a58425e67c5b8a1a22c0/expr.ipynb\"><img src=\"data:image/png;base64,iVBORw0KGgoAAAANSUhEUgAAAJkAAAAVBAMAAACnAFEqAAAAMFBMVEX///9UVFQQEBCqqqoiIiJm\n",
       "ZmYyMjJERESYmJjc3NyIiIi6urp2dnbu7u7MzMwAAAADGpxCAAAAAXRSTlMAQObYZgAAAatJREFU\n",
       "OMtjeMsAB0hMHAL4Ad8FhtNAirOBeQKQOo0uDRGYQdgcSzDJswGs4zoDgyRO03gL8Jt0qucBA+ME\n",
       "JNMyGRiu4TSNDaiSWRenYWwGvJ4MvAkI0zgCgKwFuExrZWC4ePAvTtOaGBiOAR2IMI0FaDuvAi7T\n",
       "PIGYA7dphQwM9hcYLiFMmwJiZuMwjdMBv2kfGRj2GzCwbYCbthQkehSHaVwBeE3j/Qo0bQEDTwDc\n",
       "tAqQcBvUNJ40MAiAmcbegNc0zj8MDO8XMHAkwE1zBgmb4HAbiwF+04Bue3+AgdkBbpo2SPg9DtOY\n",
       "NhDjU74PVDENFAv2BsimgX26BTXcBIj0KUM5A0P/BQZuB+yxgO42ArEATb1IsXAUJBqDwzRw3HMB\n",
       "TbsP0gAieL8hM1gMePUYGFgPwE3bAtKZh8M0kB9Yhb5FMLD4gvSCQsARxnC5ADTy1MIHwNz6ADVn\n",
       "OeDLWWBgi+FL5gsw1hUScj0EHMAwjQdRLCGVSJX4SiT2CdCUtQDDtFvwVJeAWlpWEiwtOTDjswHG\n",
       "YIeVluvAJTkHiLsOXfU6YkvyTjDJ9QAAefyjssLNpqIAAAAASUVORK5CYII=\n",
       "\" style=\"display:inline;vertical-align:middle;\" /></a></span></td></tr>\n",
       "<tr><td>&nbsp;</td><td colspan=4 style-\"text-align:left\"><a class=\"ProveItLink\" href=\"../../../../../../core_expr_types/tuples/_theory_nbs_/proofs/tuple_len_0_typical_eq/thm_proof.ipynb\">proveit.core_expr_types.tuples.tuple_len_0_typical_eq</a></td></tr><tr><td><a name=\"-0x440d3c0967bfcbe4_step5\">5</a></td><td>theorem</td><td></td><td><span style=\"font-size:20px;\"> <a class=\"ProveItLink\" href=\"../empty_disjunction_eval/thm_proof.ipynb\" style=\"text-decoration: none\">&nbsp;&#x22A2;&nbsp;&nbsp;</a><a class=\"ProveItLink\" href=\"../../../__pv_it/theorems/2a8bacaca084ca1afe51f91a99ba575fb2df7d700/expr.ipynb\"><img src=\"data:image/png;base64,iVBORw0KGgoAAAANSUhEUgAAAEcAAAAUBAMAAAAthD11AAAAMFBMVEX///8QEBB2dnZERESqqqpm\n",
       "Zma6urrc3NwyMjLu7u4iIiKIiIiYmJhUVFTMzMwAAABF6oizAAAAAXRSTlMAQObYZgAAAOJJREFU\n",
       "KM9jYICBGgZ3BkKA04CBtwBTmM8BRD4AMxkYOAoYOBswFbFsAJH3QMRpBoajQEobl6K3IGIlA8Ny\n",
       "IDURlyKgNQxsAQzsC0DsBByKWAIYGJgLGLiBFANTAA5FDEAjHgPVHQAyecAu1+gAgVYURbsZGK4x\n",
       "MHCBvMqyAJdJs8BeZwQ5h+8DLkWsDkwOBBWxN3AxQK1jW4BwUy+KIgY7YFAiOxybSQxvV8J8z6qA\n",
       "UxFHAMwmjgeoKlhXrVootWrVBZCjJoAEloM9SgDgiGBUwIw9qWAkOuYCgkmzhuE4LikAfTc3Ad5w\n",
       "yqgAAAAASUVORK5CYII=\n",
       "\" style=\"display:inline;vertical-align:middle;\" /></a></span></td></tr>\n",
       "<tr><td>&nbsp;</td><td colspan=4 style-\"text-align:left\"><a class=\"ProveItLink\" href=\"../empty_disjunction_eval/thm_proof.ipynb\">proveit.logic.booleans.disjunction.empty_disjunction_eval</a></td></tr><tr><td colspan=4 style=\"text-align:left\"><sup>*</sup>equality replacement requirements</td></tr></table>"
      ],
      "text/plain": [
       "\tstep type\trequirements\tstatement\n",
       "0\tgeneralizaton\t1\t|- forall_{A in BOOLEAN} (or(A) = (FALSE or A))\n",
       "1\tinstantiation\t2, 3, 4, 5*\t|- or(A) = (FALSE or A)\n",
       "\tm : 0, A : (), B : A\n",
       "2\taxiom\t\t|- forall_{m in Natural} [forall_{A_{1}, ..A_{_a}.., A_{m}, B} ((A_{1} or ..A_{_a}.. or A_{m} or B) =  \\\\ ((A_{1} or ..A_{_a}.. or A_{m}) or B))]\n",
       "\tproveit.logic.booleans.disjunction.multi_disjunction_def\n",
       "3\taxiom\t\t|- 0 in Natural\n",
       "\tproveit.numbers.number_sets.natural_numbers.zero_in_nats\n",
       "4\tconjecture\t\t|- |()| = |(1, ..a.., 0)|\n",
       "5\ttheorem\t\t|- or() = FALSE\n",
       "\tproveit.logic.booleans.disjunction.empty_disjunction_eval"
      ]
     },
     "execution_count": 5,
     "metadata": {},
     "output_type": "execute_result"
    }
   ],
   "source": [
    "%qed"
   ]
  },
  {
   "cell_type": "code",
   "execution_count": null,
   "metadata": {},
   "outputs": [],
   "source": []
  }
 ],
 "metadata": {
  "kernelspec": {
   "display_name": "Python 3",
   "language": "python",
   "name": "python3"
  }
 },
 "nbformat": 4,
 "nbformat_minor": 0
}