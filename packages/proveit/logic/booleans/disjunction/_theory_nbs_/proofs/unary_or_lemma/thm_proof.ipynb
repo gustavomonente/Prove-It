{
 "cells": [
  {
   "cell_type": "markdown",
   "metadata": {},
   "source": [
    "Proof of <a class=\"ProveItLink\" href=\"../../../../../../_theory_nbs_/theory.ipynb\">proveit</a>.<a class=\"ProveItLink\" href=\"../../../../../_theory_nbs_/theory.ipynb\">logic</a>.<a class=\"ProveItLink\" href=\"../../../../_theory_nbs_/theory.ipynb\">booleans</a>.<a class=\"ProveItLink\" href=\"../../theory.ipynb\">disjunction</a>.<a class=\"ProveItLink\" href=\"../../theorems.ipynb#unary_or_lemma\">unary_or_lemma</a> theorem\n",
    "========"
   ]
  },
  {
   "cell_type": "code",
   "execution_count": 1,
   "metadata": {},
   "outputs": [],
   "source": [
    "import proveit\n",
    "from proveit.numbers import num\n",
    "from proveit import A, B, m\n",
    "from proveit.logic.booleans.disjunction  import multi_disjunction_def\n",
    "theory = proveit.Theory() # the theorem's theory"
   ]
  },
  {
   "cell_type": "code",
   "execution_count": 2,
   "metadata": {},
   "outputs": [
    {
     "data": {
      "text/html": [
       "Under these <a href=\"presumptions.txt\">presumptions</a>, we begin our proof of<br><strong id=\"unary_or_lemma\">unary_or_lemma:</strong> <a class=\"ProveItLink\" href=\"../../../__pv_it/theorems/2b4cae56333fccecf9262d93f7d7ac8577ab94190/expr.ipynb\"><img src=\"data:image/png;base64,iVBORw0KGgoAAAANSUhEUgAAAOUAAAAUBAMAAACAKeeZAAAAMFBMVEX///8QEBCIiIhmZma6urrM\n",
       "zMxUVFQiIiJERETc3Nzu7u6qqqp2dnaYmJgyMjIAAAAcRTyBAAAAAXRSTlMAQObYZgAAA0NJREFU\n",
       "SMeVVk1oE0EUfuZvs8luVPBcFj3oqQ0U9KBioIeCUMipCKItaBFPRirG1gpBEBJEk4tUKrUrCi0t\n",
       "lmAR9WSxerAWWexJRAnGCvZgixasgtb35s0m2U021oGdfbNvvvnm/cybBWjaVAtal6T84Zx4jVaU\n",
       "TxoARputFi0wqESD916zJgCeVwZCimSEHERcqFA3n7VHGy11HJ/TDHpF42Uvzi/EFBRikjljTBRb\n",
       "RYJS3XzWPgCJoM3ZqhV8phl0kzyY8aDU48QZIrBuMOeidPQv7J7VAVgrOfuoe2MvtWICaIYAxUgs\n",
       "enAqBWFnL4kmcw6wD2d+Yn+nDjBQy9lN3aDUTB3CtSLbBEifn5wc9nLtMEcRPQwdHE81xbv2rZEn\n",
       "E+6US9VykqMDcamy2mjyJwatZ7NDXpy7mHMGXznm9PEah6O/sdfirvlSKzmjOArLPAuYTy18zTGo\n",
       "T6wHdu9o15hTwVTIMGfYEq5NBL+RtSKJXn+lVoaK1uYEtPqIFO9Bj0FpwKAOmX/6mgz2x3K/Hd+L\n",
       "zOkzIJRgTkWoAqB+J0NS7vgXHZw7AU5KMQFj5INHDFLAJ3Z3l7w1NXcQjNnRh3LmDuaMpCjLBecW\n",
       "EcLu9r3rdA5WXZysrXCOV45T8ET7GTocPQzSLEV8nu9HG6+OmGAY2n0nJ+wXx7jKiV3LJjj9RftE\n",
       "BFBXqnKqJZHTQSMrkhOQs+ul07dwm0JT9W0Un7O0Uqoaz88NfKuWFCnhdwXPCXRKUE74PAT7ZCE0\n",
       "2luSzhyC8DEDanLoliwrursQuXIIrsiKoBa5ctk5BDNit++gDSJxttN/Q2LmJFPwlCklynRxCvN4\n",
       "CPyzLk4t7uTsHqye8zBVkQMStJVsiJQX8mbwQjZ7meLpk5hOu7KX7RqPnonk/5jweAPDH0u6OMlv\n",
       "+9Lp7en0ea4KvIeJjWWI5n/gYEmCdLLBb8JYEnrZTs3vqH3YRir3ykANxbhH7avWJdN17aRqQV1o\n",
       "rwUvBOestuCo8Y67bLFmCa8a79lkjZfBXwc1fwnCGGt9qHzdsr/n6jjD1UuzwV0WLjTlnG4E2oPx\n",
       "3NSd7UEQyTTlzP1zV/xvstv+N2l1/5u8/d9/E70gQH8B/Sj4Z8s4TucAAAAASUVORK5CYII=\n",
       "\" style=\"display:inline;vertical-align:middle;\" /></a><br>(see <a class=\"ProveItLink\" href=\"../../../__pv_it/theorems/683c95b5af3e643e1a4b5880f3c192657386d87e0/dependencies.ipynb\">dependencies</a>)<br>"
      ],
      "text/plain": [
       "unary_or_lemma: forall_{A in BOOLEAN} ([or](A) = (FALSE or A))"
      ]
     },
     "execution_count": 2,
     "metadata": {},
     "output_type": "execute_result"
    }
   ],
   "source": [
    "%proving unary_or_lemma"
   ]
  },
  {
   "cell_type": "code",
   "execution_count": 3,
   "metadata": {},
   "outputs": [
    {
     "data": {
      "text/html": [
       "<span style=\"font-size:20px;\"> <a class=\"ProveItLink\" href=\"../../axioms.ipynb#multi_disjunction_def\" style=\"text-decoration: none\">&nbsp;&#x22A2;&nbsp;&nbsp;</a><a class=\"ProveItLink\" href=\"../../../__pv_it/axioms/b88221fe248a3119c661e1de68092e2362e2fce40/expr.ipynb\"><img src=\"data:image/png;base64,iVBORw0KGgoAAAANSUhEUgAAAb0AAAAyBAMAAAA6kRjOAAAAMFBMVEX///8QEBCIiIhmZma6urrM\n",
       "zMxUVFQiIiJERETc3Nzu7u6qqqp2dnaYmJgyMjIAAAAcRTyBAAAAAXRSTlMAQObYZgAAB8dJREFU\n",
       "aN7NWm9sFEUUf7e9vbu9f+0HLSgRL2CQb21SUhOo9ghREhP1wAQ0RHsBiUpUDklQAeWIKFfU9IiJ\n",
       "/It2EWNJTfBiPygJhoKamGrM2YrBGOAMYCIfoCltaQvlnNmdmZ3Znd5xlC5Msnt7s+/NzG/m7Zv3\n",
       "frsAZcr9xWswufIjuFyCSfM3XCzWlBWesWfv5HoLd7uND54kOPfsK4/v7sl2NodeaPmpwHJYUhcp\n",
       "kAt16vGFWBcHSZ+Fyhp4foL6P4urGjNx8GUl9z50D9/+OL36z/yJ9tMK1TgnHCoJ6yYql/hbvMp0\n",
       "gKohCBZKdOoCvneZ0dSbv6fHaI0PjzMSc6isxqdeqnZJ525xKuo4gPcywPESRjP1+EIMjd80pGDX\n",
       "KFsM7Of8ukNnGT5tJH++auYNkFNRUDuRAbRWsm43u4XPX0+vdpH1UAaBt9hFTp0oQuSlevm6OH/P\n",
       "Ugmgse9HsxCNS7o9mnUJ3xk2+7PNn8dD4+xmFzpaJWuOsAWInlc/KrhdS6U6CeoGtJLh+omnderx\n",
       "vcmuPjLNM64im4JnzFGgEaQlSikqAPAFtAgPqKXS8mrv9hzbDH67iMtZ9rCPuYNPtYxxk7keoCGf\n",
       "8PRDxh8lBj6Zdc0CeIFcxqFdWB9LpS4LwVq82ilZCDPgDr4qq4O7TN/R0DiCfhabo0jBIZlWB/P6\n",
       "6qqGtcIKWypbMUa0gGq/rImL7uDzJG340NzPZPhgAfwinZVcOEceP9SEuMExlWGMLzYRvrqsK/ha\n",
       "8qJ9htCxzsL3GciMC7SCn1whmP4aiDy8dLYyJyGo4O0P1qLp8qas5+9f1kR73hV8dVnRv+wjAQnB\n",
       "F3guJlV7j+zuWs6IdyIL8541SlJQwdufOsIHmxLDmXJ8W63LH/B48Vy3ZRk+9UVjqw5ep6evzcEu\n",
       "22jtmYFR2PsgVMerunkViKKhL9yBjVmanwRSBJ/R4KmS+MqJlCjTrUsEKdh2XYfviusZPiAOfQM9\n",
       "+c1Fipo+82DxAoTartTDSlgC/hyv4rs03PDSB4ZsQpqV9RN8xtN6oSS+ciIlMs3L3M7Fx1kU3wS5\n",
       "pabbBzEX2lW5Soe0hcgQwbcbN5cuia+cSIntb4Drkd/Hvq2oGa0freDJsPzm8RI9I3xRHOLkSuIr\n",
       "J1Iiur7K/eEisY+3rKykGW8SxZ2f9MhNpFDCchC+SE9n567S/qWcyMTFtBIxv73FJZCV1w9T/zmS\n",
       "yWwu4z/LiExclFHeyqaEn/hrgvoRim+1NIYX8DGR1vJT6G1ramRi4TG4XWUmxbfIYcLLm+JKLY+P\n",
       "ikQG5TmQECP/DnCMBVq3D980is8PCmc4wSMN+VC6B+bz+KjIgXHpo9wsGF4jyi6pe/f13zZ86yi+\n",
       "cN7PVZ883Amh3iro5vFRkZ710q20Q8hgXgd4BO4gfFphGbAI1qAFQiuejQn4DBEkHcvIWloa4PfG\n",
       "4BAoF+4A+3yDxZ+tKJekEWzU2LUSPScEfIYIWg1AaanPwQclq/gkwDvQ+761tKOC5KfkmBxjlb2h\n",
       "euZfoAsNj0awB0x8YYvUMPB1GQj+hjpQj9nxRXIKb4XhAigMrzIkPKhp84DKSV5e/mX7ANaiUHSb\n",
       "vb6W4avGCQeJYJdnMplYKKHlUwI+QyR49tc23cnnHWr6mbfCQDdoLGoRHS7mxaLmLFskr43NlTK5\n",
       "gjzJ3zk1D5qz5oSNCrjM8EV0K4L1mesHj8YEfIZIlQ7tCSe++aANQd/3fSt+MmmtHHiZVYYEfH3k\n",
       "EEhekc2VMrmiPIRjNjWcRD9VT+qprVwT8j8awYaNVuMQ6Xbmf0+gwecxPm0H7NbpyYsaH4dvCp7c\n",
       "ERSJoynQYSdTVoUN5S1yCCSvyOZKmVxRHoI1NjWcRJ+JkXp7fG2LYHFKtfgcchoOfIER0Nrexl2q\n",
       "M2BJVr0Hn2ZAWxp2X8n7Eh0wD2BJLryloXGbzUroHKZIgiuSvAKbK2VyRXmAczY1lEQHp+mkXojs\n",
       "nfm7gp6/kvk7ntKQ1QyjJbsglTP4EqG8wzddbx42kpdnc+VMrihvMgG8Ggqll6+h9YLnrpyfUOsW\n",
       "8O/c6NWX8ACszDp9dzPvefLmYSN5eTZXzuRSeVpOi2rq8Km5m6x6PrK4Sf4lL7ky7cgRmnLeCBMM\n",
       "JskgkLw8mytncom8LTlmajhJ2Z+0Jc2etDv8IGewnrh52Ehejs0FOZNL5Vmjohp+0aJcZfWEH4y5\n",
       "ze9y+ESS12JzQc7kUnkRH1OrRn0oAzZ8LvG7Vf0S+7SRvBabKxZG/hL5vhOz6metZnpMDW9/vkGO\n",
       "tMJlO7iCzzso8S82kpexufa0mZK/RP6P+6BWn2P5EaqGl6olbfMvLr1fAS6jwjEtPuwkL2VzDW4X\n",
       "nwym12Jyibz2eQoGoQldNwlq8A+axum6VW/4HJfej/EOFL8oQIeT5CVsrsHtGqcNPJPL5H0xNFy8\n",
       "EZwX1F7D31EYT+J5x3M/9fg83bL4TCR5NV2ua2NyPQklrfUnsGOVqgW5NM2199OhMWl8fRMkL7Sj\n",
       "FYyku8U4GuxxN7/0bnwfclbk2bhIrEKSFx5DMaf2ii5/JcryJnNW73UN386ELL+dTGktX+/i9z38\n",
       "6/Fbwk9EsuXrV4Fr+DBf6HaJpG8c36S/j/TFXMdXyfeRk/++dZ7b8IJriEMtFmv+B8M7QBtMY5aP\n",
       "AAAAAElFTkSuQmCC\n",
       "\" style=\"display:inline;vertical-align:middle;\" /></a></span>"
      ],
      "text/plain": [
       "|- forall_{m in Natural} [forall_{A_{1}, ..A_{_a}.., A_{m}, B} ((A_{1} or ..A_{_a}.. or A_{m} or B) =  \\\\ ((A_{1} or ..A_{_a}.. or A_{m}) or B))]"
      ]
     },
     "execution_count": 3,
     "metadata": {},
     "output_type": "execute_result"
    }
   ],
   "source": [
    "multi_disjunction_def"
   ]
  },
  {
   "cell_type": "code",
   "execution_count": 4,
   "metadata": {},
   "outputs": [
    {
     "data": {
      "text/html": [
       "<span style=\"font-size:20px;\"> <a class=\"ProveItLink\" href=\"../../../__pv_it/_proof_unary_or_lemma/ecaeebd0e15c55c9413672a6bb2e046fcaf9d8080/proof.ipynb\" style=\"text-decoration: none\">&nbsp;&#x22A2;&nbsp;&nbsp;</a><a class=\"ProveItLink\" href=\"../../../__pv_it/theorems/38340dead84d64861405d8b5ace5a5aa109947520/expr.ipynb\"><img src=\"data:image/png;base64,iVBORw0KGgoAAAANSUhEUgAAAJwAAAAUBAMAAACKdUnLAAAAMFBMVEX///8QEBBERESqqqpmZmbc\n",
       "3Nzu7u6YmJhUVFQiIiK6urp2dnbMzMwyMjKIiIgAAABj8LvFAAAAAXRSTlMAQObYZgAAAkZJREFU\n",
       "OMuVlD9IG3EUx19zuUsudwmuFYQs4iIklDg4GdBB6NCAYHEonjqlIDjYUclgh4rQSFWIU4ZScCvo\n",
       "5CDBpVnEDNVBlNzg0iGtlP5BwT/v/d7vkrtfEmkf3O9+v3v3Pr8/7/t70DgHtqVt8XoJng1Bm+kL\n",
       "8IhpOYD95kj0jKTo2zWAaK4tYFb40p1YR/i8JYgthhXGxZkRv0JyrS3mRCzCBRlBbM9Vx2eecFH6\n",
       "HnEZtyh3/gebA5UWyfpxa9Qse666A2ARxC7g0HQYtymcRuY3tjMqzsz5cVVqtqRr7gX6jB6C0BY+\n",
       "8tnpRZ4rcUM7Liu4KfDj6FxiWela+EE/nxEkg51+xiXY/Un7i62VVXCXAZyG7pBMV8wZoaTvEcTE\n",
       "E00yLiSUYJTtO1oj5cK6ECbIAwEc4E4OZfc1HNPXJYIkXIiWGWcKEcRA/0VxRWV1H4K47wCrsluG\n",
       "aZpwmCBGkVIscE/EcVXHxn+SCK4UXG8Ql29qyV4Ze0+CPRaQUdgN4LDp+wdcOG1JRccwstbEvaJj\n",
       "aG1Ww2edfiq2zq7QYbN6zZQ9jDJ78L3DCfjigi8VE1LkEfVaKKmAQSliPc33iFMB9jtH4kgbQnsp\n",
       "VED4s4LbU3DVrZYeQyT853wXvnolAPdnpG4deHa/gRNWFNwOTlEqrT8tlQosZBbm7P0paKlrHJwz\n",
       "brJZUTZ90fnOl8xXr5zgGCWiFKhFn7dLCehulqviQq0FdChQ/Y/j5ruVT4UcKJ/dDWf75hX3hlrc\n",
       "3/xvcY/k4AHENKIqQbvHTwAAAABJRU5ErkJggg==\n",
       "\" style=\"display:inline;vertical-align:middle;\" /></a></span>"
      ],
      "text/plain": [
       "|- [or](A) = (FALSE or A)"
      ]
     },
     "execution_count": 4,
     "metadata": {},
     "output_type": "execute_result"
    }
   ],
   "source": [
    "multi_disjunction_def.instantiate({m:num(0), A:(), B:A})"
   ]
  },
  {
   "cell_type": "code",
   "execution_count": 5,
   "metadata": {},
   "outputs": [
    {
     "data": {
      "text/html": [
       "<table><tr><th>&nbsp;</th><th>step type</th><th>requirements</th><th>statement</th></tr>\n",
       "<tr><td><a name=\"0x6cc45eecc93dff67_step0\">0</a></td><td>generalizaton</td><td><a href=\"#0x6cc45eecc93dff67_step1\">1</a></td><td><span style=\"font-size:20px;\"> <a class=\"ProveItLink\" href=\"../../../__pv_it/_proof_unary_or_lemma/d5a475519e7114f28d40765f1ad2203789f78bd40/proof.ipynb\" style=\"text-decoration: none\">&nbsp;&#x22A2;&nbsp;&nbsp;</a><a class=\"ProveItLink\" href=\"../../../__pv_it/theorems/2b4cae56333fccecf9262d93f7d7ac8577ab94190/expr.ipynb\"><img src=\"data:image/png;base64,iVBORw0KGgoAAAANSUhEUgAAAOUAAAAUBAMAAACAKeeZAAAAMFBMVEX///8QEBCIiIhmZma6urrM\n",
       "zMxUVFQiIiJERETc3Nzu7u6qqqp2dnaYmJgyMjIAAAAcRTyBAAAAAXRSTlMAQObYZgAAA0NJREFU\n",
       "SMeVVk1oE0EUfuZvs8luVPBcFj3oqQ0U9KBioIeCUMipCKItaBFPRirG1gpBEBJEk4tUKrUrCi0t\n",
       "lmAR9WSxerAWWexJRAnGCvZgixasgtb35s0m2U021oGdfbNvvvnm/cybBWjaVAtal6T84Zx4jVaU\n",
       "TxoARputFi0wqESD916zJgCeVwZCimSEHERcqFA3n7VHGy11HJ/TDHpF42Uvzi/EFBRikjljTBRb\n",
       "RYJS3XzWPgCJoM3ZqhV8phl0kzyY8aDU48QZIrBuMOeidPQv7J7VAVgrOfuoe2MvtWICaIYAxUgs\n",
       "enAqBWFnL4kmcw6wD2d+Yn+nDjBQy9lN3aDUTB3CtSLbBEifn5wc9nLtMEcRPQwdHE81xbv2rZEn\n",
       "E+6US9VykqMDcamy2mjyJwatZ7NDXpy7mHMGXznm9PEah6O/sdfirvlSKzmjOArLPAuYTy18zTGo\n",
       "T6wHdu9o15hTwVTIMGfYEq5NBL+RtSKJXn+lVoaK1uYEtPqIFO9Bj0FpwKAOmX/6mgz2x3K/Hd+L\n",
       "zOkzIJRgTkWoAqB+J0NS7vgXHZw7AU5KMQFj5INHDFLAJ3Z3l7w1NXcQjNnRh3LmDuaMpCjLBecW\n",
       "EcLu9r3rdA5WXZysrXCOV45T8ET7GTocPQzSLEV8nu9HG6+OmGAY2n0nJ+wXx7jKiV3LJjj9RftE\n",
       "BFBXqnKqJZHTQSMrkhOQs+ul07dwm0JT9W0Un7O0Uqoaz88NfKuWFCnhdwXPCXRKUE74PAT7ZCE0\n",
       "2luSzhyC8DEDanLoliwrursQuXIIrsiKoBa5ctk5BDNit++gDSJxttN/Q2LmJFPwlCklynRxCvN4\n",
       "CPyzLk4t7uTsHqye8zBVkQMStJVsiJQX8mbwQjZ7meLpk5hOu7KX7RqPnonk/5jweAPDH0u6OMlv\n",
       "+9Lp7en0ea4KvIeJjWWI5n/gYEmCdLLBb8JYEnrZTs3vqH3YRir3ykANxbhH7avWJdN17aRqQV1o\n",
       "rwUvBOestuCo8Y67bLFmCa8a79lkjZfBXwc1fwnCGGt9qHzdsr/n6jjD1UuzwV0WLjTlnG4E2oPx\n",
       "3NSd7UEQyTTlzP1zV/xvstv+N2l1/5u8/d9/E70gQH8B/Sj4Z8s4TucAAAAASUVORK5CYII=\n",
       "\" style=\"display:inline;vertical-align:middle;\" /></a></span></td></tr>\n",
       "<tr><td><a name=\"0x6cc45eecc93dff67_step1\">1</a></td><td>instantiation</td><td><a href=\"#0x6cc45eecc93dff67_step2\">2</a>, <a href=\"#0x6cc45eecc93dff67_step3\">3</a>, <a href=\"#0x6cc45eecc93dff67_step4\">4</a>, <a href=\"#0x6cc45eecc93dff67_step5\">5</a><sup>*</sup></td><td><span style=\"font-size:20px;\"> <a class=\"ProveItLink\" href=\"../../../__pv_it/_proof_unary_or_lemma/ecaeebd0e15c55c9413672a6bb2e046fcaf9d8080/proof.ipynb\" style=\"text-decoration: none\">&nbsp;&#x22A2;&nbsp;&nbsp;</a><a class=\"ProveItLink\" href=\"../../../__pv_it/theorems/38340dead84d64861405d8b5ace5a5aa109947520/expr.ipynb\"><img src=\"data:image/png;base64,iVBORw0KGgoAAAANSUhEUgAAAJwAAAAUBAMAAACKdUnLAAAAMFBMVEX///8QEBBERESqqqpmZmbc\n",
       "3Nzu7u6YmJhUVFQiIiK6urp2dnbMzMwyMjKIiIgAAABj8LvFAAAAAXRSTlMAQObYZgAAAkZJREFU\n",
       "OMuVlD9IG3EUx19zuUsudwmuFYQs4iIklDg4GdBB6NCAYHEonjqlIDjYUclgh4rQSFWIU4ZScCvo\n",
       "5CDBpVnEDNVBlNzg0iGtlP5BwT/v/d7vkrtfEmkf3O9+v3v3Pr8/7/t70DgHtqVt8XoJng1Bm+kL\n",
       "8IhpOYD95kj0jKTo2zWAaK4tYFb40p1YR/i8JYgthhXGxZkRv0JyrS3mRCzCBRlBbM9Vx2eecFH6\n",
       "HnEZtyh3/gebA5UWyfpxa9Qse666A2ARxC7g0HQYtymcRuY3tjMqzsz5cVVqtqRr7gX6jB6C0BY+\n",
       "8tnpRZ4rcUM7Liu4KfDj6FxiWela+EE/nxEkg51+xiXY/Un7i62VVXCXAZyG7pBMV8wZoaTvEcTE\n",
       "E00yLiSUYJTtO1oj5cK6ECbIAwEc4E4OZfc1HNPXJYIkXIiWGWcKEcRA/0VxRWV1H4K47wCrsluG\n",
       "aZpwmCBGkVIscE/EcVXHxn+SCK4UXG8Ql29qyV4Ze0+CPRaQUdgN4LDp+wdcOG1JRccwstbEvaJj\n",
       "aG1Ww2edfiq2zq7QYbN6zZQ9jDJ78L3DCfjigi8VE1LkEfVaKKmAQSliPc33iFMB9jtH4kgbQnsp\n",
       "VED4s4LbU3DVrZYeQyT853wXvnolAPdnpG4deHa/gRNWFNwOTlEqrT8tlQosZBbm7P0paKlrHJwz\n",
       "brJZUTZ90fnOl8xXr5zgGCWiFKhFn7dLCehulqviQq0FdChQ/Y/j5ruVT4UcKJ/dDWf75hX3hlrc\n",
       "3/xvcY/k4AHENKIqQbvHTwAAAABJRU5ErkJggg==\n",
       "\" style=\"display:inline;vertical-align:middle;\" /></a></span></td></tr>\n",
       "<tr><td>&nbsp;</td><td colspan=4 style=\"text-align:left\"><span style=\"font-size:20px;\"><a class=\"ProveItLink\" href=\"../../../../../../__pv_it/common/674a03b9c3ca221b3aabd5636837b31528ff33830/expr.ipynb\"><img src=\"data:image/png;base64,iVBORw0KGgoAAAANSUhEUgAAABIAAAAJBAMAAADN8WE8AAAAMFBMVEX///9mZmaYmJgyMjIiIiIQ\n",
       "EBCqqqru7u5ERETMzMyIiIjc3NxUVFR2dna6uroAAAAPJcEmAAAAAXRSTlMAQObYZgAAAGNJREFU\n",
       "CNdj4Luze9UpzlvnGBh4OboY6tcxpDIwTGMxYNh/gUGfgaGg/gFDfgHDCQYGhnwGBhEGhiggS5iB\n",
       "wZeB7zc7A0MsA/s/BkaDbQzc/xjYPjAwX7jAwOfAwCXAwCa0AQBn+hZiKtaxkQAAAABJRU5ErkJg\n",
       "gg==\n",
       "\" style=\"display:inline;vertical-align:middle;\" /></a> : <a class=\"ProveItLink\" href=\"../../../../../../numbers/numerals/__pv_it/common/7d0a36793ffe8d307a5c120ee5598162e8cd2db10/expr.ipynb\"><img src=\"data:image/png;base64,iVBORw0KGgoAAAANSUhEUgAAAAoAAAAOBAMAAADkjZCYAAAAMFBMVEX///9mZma6urpUVFREREQQ\n",
       "EBDc3NwiIiLu7u6qqqoyMjLMzMyYmJiIiIh2dnYAAADXmt2vAAAAAXRSTlMAQObYZgAAAFFJREFU\n",
       "CNdjYOC785qBgWElQ3sCA08AA98CBhYDBs4fDPwGDEw/GfoFGJj+MuQ/YOAGkgIM3P+gIkBZzp8M\n",
       "LA4MPD+guhgqGVo3MDD03bVmAABi3RThwIkdoQAAAABJRU5ErkJggg==\n",
       "\" style=\"display:inline;vertical-align:middle;\" /></a>, <a class=\"ProveItLink\" href=\"../../../../../../__pv_it/common/09585084922504426caf1db2ff588a23a0932a960/expr.ipynb\"><img src=\"data:image/png;base64,iVBORw0KGgoAAAANSUhEUgAAAA8AAAAOBAMAAAACpFvcAAAALVBMVEX///8iIiIQEBBERERUVFS6\n",
       "urqIiIjc3NxmZmaqqqru7u6YmJgyMjLMzMwAAACK9jtgAAAAAXRSTlMAQObYZgAAAFtJREFUCNdj\n",
       "YACBOwxQcA5Kc59bAGGs7CuAMDbkBYBp1gXzNoAZSxnuJYAZAQx1DSCa16PDzwCshIGB6QCIMYGB\n",
       "gVEBSLMDGTwPgIxCIGZ+zsCw+N0pBk67hw0AfpEVEQi8t+wAAAAASUVORK5CYII=\n",
       "\" style=\"display:inline;vertical-align:middle;\" /></a> : <a class=\"ProveItLink\" href=\"../../../../../../core_expr_types/tuples/__pv_it/theorems/4bb7d36ca64d107000d79d4921539d4617258ebf0/expr.ipynb\"><img src=\"data:image/png;base64,iVBORw0KGgoAAAANSUhEUgAAAAwAAAAUBAMAAABL3sEiAAAAMFBMVEX////MzMxUVFR2dna6uroQ\n",
       "EBCqqqqIiIgiIiJmZmYyMjJERETu7u6YmJjc3NwAAACgK8IjAAAAAXRSTlMAQObYZgAAAGNJREFU\n",
       "CNdjYOC7wPaAgYHhNAODHpBax8BwioGBdwIDA3MBAwdQgieA4QVQnGEJQyWIsmTYC6JuMbSBqAyG\n",
       "EBAlD6PAgh4wJZYgajKQDwQLIYY1wIxm2Ae2CGQtkAV0BO8DBgBfVhetSSF8+gAAAABJRU5ErkJg\n",
       "gg==\n",
       "\" style=\"display:inline;vertical-align:middle;\" /></a>, <a class=\"ProveItLink\" href=\"../../../../../../__pv_it/common/a9162d1c3cc0470c02e5daf414500903a7a419230/expr.ipynb\"><img src=\"data:image/png;base64,iVBORw0KGgoAAAANSUhEUgAAABAAAAAOBAMAAADUAYG5AAAALVBMVEX///8yMjKqqqoiIiLu7u7c\n",
       "3NyIiIjMzMwQEBC6urpERERmZmZUVFSYmJgAAACsPVCVAAAAAXRSTlMAQObYZgAAAGxJREFUCNdj\n",
       "YGC48+70nlUTGICgi4GB+zmQZn/LwMD5Gshge8rAwPsMyOBqYGDwMAEy+A4wsNs4ABl1Z68tVgBp\n",
       "ygtgYOkBMVaAOCChNyBGAsQYhnMTIMawvwJyGIHGzFjCwMAj92b3qUUMDAAXABxvZ4rl5AAAAABJ\n",
       "RU5ErkJggg==\n",
       "\" style=\"display:inline;vertical-align:middle;\" /></a> : <a class=\"ProveItLink\" href=\"../../../../../../__pv_it/common/09585084922504426caf1db2ff588a23a0932a960/expr.ipynb\"><img src=\"data:image/png;base64,iVBORw0KGgoAAAANSUhEUgAAAA8AAAAOBAMAAAACpFvcAAAALVBMVEX///8iIiIQEBBERERUVFS6\n",
       "urqIiIjc3NxmZmaqqqru7u6YmJgyMjLMzMwAAACK9jtgAAAAAXRSTlMAQObYZgAAAFtJREFUCNdj\n",
       "YACBOwxQcA5Kc59bAGGs7CuAMDbkBYBp1gXzNoAZSxnuJYAZAQx1DSCa16PDzwCshIGB6QCIMYGB\n",
       "gVEBSLMDGTwPgIxCIGZ+zsCw+N0pBk67hw0AfpEVEQi8t+wAAAAASUVORK5CYII=\n",
       "\" style=\"display:inline;vertical-align:middle;\" /></a></span></td></tr><tr><td><a name=\"0x6cc45eecc93dff67_step2\">2</a></td><td>axiom</td><td></td><td><span style=\"font-size:20px;\"> <a class=\"ProveItLink\" href=\"../../axioms.ipynb#multi_disjunction_def\" style=\"text-decoration: none\">&nbsp;&#x22A2;&nbsp;&nbsp;</a><a class=\"ProveItLink\" href=\"../../../__pv_it/axioms/b88221fe248a3119c661e1de68092e2362e2fce40/expr.ipynb\"><img src=\"data:image/png;base64,iVBORw0KGgoAAAANSUhEUgAAAb0AAAAyBAMAAAA6kRjOAAAAMFBMVEX///8QEBCIiIhmZma6urrM\n",
       "zMxUVFQiIiJERETc3Nzu7u6qqqp2dnaYmJgyMjIAAAAcRTyBAAAAAXRSTlMAQObYZgAAB8dJREFU\n",
       "aN7NWm9sFEUUf7e9vbu9f+0HLSgRL2CQb21SUhOo9ghREhP1wAQ0RHsBiUpUDklQAeWIKFfU9IiJ\n",
       "/It2EWNJTfBiPygJhoKamGrM2YrBGOAMYCIfoCltaQvlnNmdmZ3Znd5xlC5Msnt7s+/NzG/m7Zv3\n",
       "frsAZcr9xWswufIjuFyCSfM3XCzWlBWesWfv5HoLd7uND54kOPfsK4/v7sl2NodeaPmpwHJYUhcp\n",
       "kAt16vGFWBcHSZ+Fyhp4foL6P4urGjNx8GUl9z50D9/+OL36z/yJ9tMK1TgnHCoJ6yYql/hbvMp0\n",
       "gKohCBZKdOoCvneZ0dSbv6fHaI0PjzMSc6isxqdeqnZJ525xKuo4gPcywPESRjP1+EIMjd80pGDX\n",
       "KFsM7Of8ukNnGT5tJH++auYNkFNRUDuRAbRWsm43u4XPX0+vdpH1UAaBt9hFTp0oQuSlevm6OH/P\n",
       "Ugmgse9HsxCNS7o9mnUJ3xk2+7PNn8dD4+xmFzpaJWuOsAWInlc/KrhdS6U6CeoGtJLh+omnderx\n",
       "vcmuPjLNM64im4JnzFGgEaQlSikqAPAFtAgPqKXS8mrv9hzbDH67iMtZ9rCPuYNPtYxxk7keoCGf\n",
       "8PRDxh8lBj6Zdc0CeIFcxqFdWB9LpS4LwVq82ilZCDPgDr4qq4O7TN/R0DiCfhabo0jBIZlWB/P6\n",
       "6qqGtcIKWypbMUa0gGq/rImL7uDzJG340NzPZPhgAfwinZVcOEceP9SEuMExlWGMLzYRvrqsK/ha\n",
       "8qJ9htCxzsL3GciMC7SCn1whmP4aiDy8dLYyJyGo4O0P1qLp8qas5+9f1kR73hV8dVnRv+wjAQnB\n",
       "F3guJlV7j+zuWs6IdyIL8541SlJQwdufOsIHmxLDmXJ8W63LH/B48Vy3ZRk+9UVjqw5ep6evzcEu\n",
       "22jtmYFR2PsgVMerunkViKKhL9yBjVmanwRSBJ/R4KmS+MqJlCjTrUsEKdh2XYfviusZPiAOfQM9\n",
       "+c1Fipo+82DxAoTartTDSlgC/hyv4rs03PDSB4ZsQpqV9RN8xtN6oSS+ciIlMs3L3M7Fx1kU3wS5\n",
       "pabbBzEX2lW5Soe0hcgQwbcbN5cuia+cSIntb4Drkd/Hvq2oGa0freDJsPzm8RI9I3xRHOLkSuIr\n",
       "J1Iiur7K/eEisY+3rKykGW8SxZ2f9MhNpFDCchC+SE9n567S/qWcyMTFtBIxv73FJZCV1w9T/zmS\n",
       "yWwu4z/LiExclFHeyqaEn/hrgvoRim+1NIYX8DGR1vJT6G1ramRi4TG4XWUmxbfIYcLLm+JKLY+P\n",
       "ikQG5TmQECP/DnCMBVq3D980is8PCmc4wSMN+VC6B+bz+KjIgXHpo9wsGF4jyi6pe/f13zZ86yi+\n",
       "cN7PVZ883Amh3iro5vFRkZ710q20Q8hgXgd4BO4gfFphGbAI1qAFQiuejQn4DBEkHcvIWloa4PfG\n",
       "4BAoF+4A+3yDxZ+tKJekEWzU2LUSPScEfIYIWg1AaanPwQclq/gkwDvQ+761tKOC5KfkmBxjlb2h\n",
       "euZfoAsNj0awB0x8YYvUMPB1GQj+hjpQj9nxRXIKb4XhAigMrzIkPKhp84DKSV5e/mX7ANaiUHSb\n",
       "vb6W4avGCQeJYJdnMplYKKHlUwI+QyR49tc23cnnHWr6mbfCQDdoLGoRHS7mxaLmLFskr43NlTK5\n",
       "gjzJ3zk1D5qz5oSNCrjM8EV0K4L1mesHj8YEfIZIlQ7tCSe++aANQd/3fSt+MmmtHHiZVYYEfH3k\n",
       "EEhekc2VMrmiPIRjNjWcRD9VT+qprVwT8j8awYaNVuMQ6Xbmf0+gwecxPm0H7NbpyYsaH4dvCp7c\n",
       "ERSJoynQYSdTVoUN5S1yCCSvyOZKmVxRHoI1NjWcRJ+JkXp7fG2LYHFKtfgcchoOfIER0Nrexl2q\n",
       "M2BJVr0Hn2ZAWxp2X8n7Eh0wD2BJLryloXGbzUroHKZIgiuSvAKbK2VyRXmAczY1lEQHp+mkXojs\n",
       "nfm7gp6/kvk7ntKQ1QyjJbsglTP4EqG8wzddbx42kpdnc+VMrihvMgG8Ggqll6+h9YLnrpyfUOsW\n",
       "8O/c6NWX8ACszDp9dzPvefLmYSN5eTZXzuRSeVpOi2rq8Km5m6x6PrK4Sf4lL7ky7cgRmnLeCBMM\n",
       "JskgkLw8mytncom8LTlmajhJ2Z+0Jc2etDv8IGewnrh52Ehejs0FOZNL5Vmjohp+0aJcZfWEH4y5\n",
       "ze9y+ESS12JzQc7kUnkRH1OrRn0oAzZ8LvG7Vf0S+7SRvBabKxZG/hL5vhOz6metZnpMDW9/vkGO\n",
       "tMJlO7iCzzso8S82kpexufa0mZK/RP6P+6BWn2P5EaqGl6olbfMvLr1fAS6jwjEtPuwkL2VzDW4X\n",
       "nwym12Jyibz2eQoGoQldNwlq8A+axum6VW/4HJfej/EOFL8oQIeT5CVsrsHtGqcNPJPL5H0xNFy8\n",
       "EZwX1F7D31EYT+J5x3M/9fg83bL4TCR5NV2ua2NyPQklrfUnsGOVqgW5NM2199OhMWl8fRMkL7Sj\n",
       "FYyku8U4GuxxN7/0bnwfclbk2bhIrEKSFx5DMaf2ii5/JcryJnNW73UN386ELL+dTGktX+/i9z38\n",
       "6/Fbwk9EsuXrV4Fr+DBf6HaJpG8c36S/j/TFXMdXyfeRk/++dZ7b8IJriEMtFmv+B8M7QBtMY5aP\n",
       "AAAAAElFTkSuQmCC\n",
       "\" style=\"display:inline;vertical-align:middle;\" /></a></span></td></tr>\n",
       "<tr><td>&nbsp;</td><td colspan=4 style-\"text-align:left\"><a class=\"ProveItLink\" href=\"../../axioms.ipynb#multi_disjunction_def\">proveit.logic.booleans.disjunction.multi_disjunction_def</a></td></tr><tr><td><a name=\"0x6cc45eecc93dff67_step3\">3</a></td><td>axiom</td><td></td><td><span style=\"font-size:20px;\"> <a class=\"ProveItLink\" href=\"../../../../../../numbers/number_sets/natural_numbers/_theory_nbs_/axioms.ipynb#zero_in_nats\" style=\"text-decoration: none\">&nbsp;&#x22A2;&nbsp;&nbsp;</a><a class=\"ProveItLink\" href=\"../../../../../../numbers/number_sets/natural_numbers/__pv_it/axioms/41585b68a7dd1d513f84c532999561d9671aca5e0/expr.ipynb\"><img src=\"data:image/png;base64,iVBORw0KGgoAAAANSUhEUgAAADMAAAAPBAMAAAC7N+rPAAAAMFBMVEX///9mZma6urpUVFREREQQ\n",
       "EBDc3NwiIiLu7u6qqqoyMjLMzMyYmJiIiIh2dnYAAADXmt2vAAAAAXRSTlMAQObYZgAAAONJREFU\n",
       "GNNjYOC785oBBXR98WpgePpVgYFhJUN7AqqcD7cBA8cHBgaeAAa+BahS5hvuMjAEMDCwGDBw/gCL\n",
       "8LiXV4EZRh7MGxgKGBj4DRiYfoIEuH0boLrMNnOsAEn1CzAw/QXbDpNhMOO8sBkklf+AgRssZQa3\n",
       "y4zhEc8FkJQAA/c/kIADkhRzgzWSgdxRq4AAKsVhwBUAdgYnyBlsyLoY9nGDHO/AwAN2fACyFM8E\n",
       "ByQvy8KlrIH4GciQSobWDSAB9gkwqZVAzAhS3nfXGizAYaIBkdn+FaiDAyXwmJ5AAwoKAGQvOOyD\n",
       "fUpGAAAAAElFTkSuQmCC\n",
       "\" style=\"display:inline;vertical-align:middle;\" /></a></span></td></tr>\n",
       "<tr><td>&nbsp;</td><td colspan=4 style-\"text-align:left\"><a class=\"ProveItLink\" href=\"../../../../../../numbers/number_sets/natural_numbers/_theory_nbs_/axioms.ipynb#zero_in_nats\">proveit.numbers.number_sets.natural_numbers.zero_in_nats</a></td></tr><tr><td><a name=\"0x6cc45eecc93dff67_step4\">4</a></td><td>conjecture</td><td></td><td><span style=\"font-size:20px;\"> <a class=\"ProveItLink\" href=\"../../../../../../core_expr_types/tuples/_theory_nbs_/proofs/tuple_len_0_typical_eq/thm_proof.ipynb\" style=\"text-decoration: none\">&nbsp;&#x22A2;&nbsp;&nbsp;</a><a class=\"ProveItLink\" href=\"../../../../../../core_expr_types/tuples/__pv_it/theorems/0e50a84fcd29aed2e6c3f826159fa446aca6ee610/expr.ipynb\"><img src=\"data:image/png;base64,iVBORw0KGgoAAAANSUhEUgAAAJkAAAAVBAMAAACnAFEqAAAAMFBMVEX///9UVFQQEBCqqqoiIiJm\n",
       "ZmYyMjJERESYmJjc3NyIiIi6urp2dnbu7u7MzMwAAAADGpxCAAAAAXRSTlMAQObYZgAAAatJREFU\n",
       "OMtjeMsAB0hMHAL4Ad8FhtNAirOBeQKQOo0uDRGYQdgcSzDJswGs4zoDgyRO03gL8Jt0qucBA+ME\n",
       "JNMyGRiu4TSNDaiSWRenYWwGvJ4MvAkI0zgCgKwFuExrZWC4ePAvTtOaGBiOAR2IMI0FaDuvAi7T\n",
       "PIGYA7dphQwM9hcYLiFMmwJiZuMwjdMBv2kfGRj2GzCwbYCbthQkehSHaVwBeE3j/Qo0bQEDTwDc\n",
       "tAqQcBvUNJ40MAiAmcbegNc0zj8MDO8XMHAkwE1zBgmb4HAbiwF+04Bue3+AgdkBbpo2SPg9DtOY\n",
       "NhDjU74PVDENFAv2BsimgX26BTXcBIj0KUM5A0P/BQZuB+yxgO42ArEATb1IsXAUJBqDwzRw3HMB\n",
       "TbsP0gAieL8hM1gMePUYGFgPwE3bAtKZh8M0kB9Yhb5FMLD4gvSCQsARxnC5ADTy1MIHwNz6ADVn\n",
       "OeDLWWBgi+FL5gsw1hUScj0EHMAwjQdRLCGVSJX4SiT2CdCUtQDDtFvwVJeAWlpWEiwtOTDjswHG\n",
       "YIeVluvAJTkHiLsOXfU6YkvyTjDJ9QAAefyjssLNpqIAAAAASUVORK5CYII=\n",
       "\" style=\"display:inline;vertical-align:middle;\" /></a></span></td></tr>\n",
       "<tr><td>&nbsp;</td><td colspan=4 style-\"text-align:left\"><a class=\"ProveItLink\" href=\"../../../../../../core_expr_types/tuples/_theory_nbs_/proofs/tuple_len_0_typical_eq/thm_proof.ipynb\">proveit.core_expr_types.tuples.tuple_len_0_typical_eq</a></td></tr><tr><td><a name=\"0x6cc45eecc93dff67_step5\">5</a></td><td>theorem</td><td></td><td><span style=\"font-size:20px;\"> <a class=\"ProveItLink\" href=\"../empty_disjunction_eval/thm_proof.ipynb\" style=\"text-decoration: none\">&nbsp;&#x22A2;&nbsp;&nbsp;</a><a class=\"ProveItLink\" href=\"../../../__pv_it/theorems/fb4547487f73d73e98a0ad108e025261a51f9c470/expr.ipynb\"><img src=\"data:image/png;base64,iVBORw0KGgoAAAANSUhEUgAAAFYAAAAUBAMAAADl6NejAAAAMFBMVEX///8QEBBERESqqqpmZmbc\n",
       "3Nzu7u6YmJhUVFQiIiK6urp2dnbMzMwyMjKIiIgAAABj8LvFAAAAAXRSTlMAQObYZgAAAP9JREFU\n",
       "KM9jeHuHAQJqZ4GpcAZTBlxgFyqLTYGBIwCLssMQFTxgzgGIWt4ABrYLWNTaQdRyHABS7A8gakuA\n",
       "eB9utTwNQIozAaJ2KhAn4lbLcBVILYG4l3UCyB0LcKs1AVKqELV8DkCC2wG3Wk4GBh4FiFqmApDb\n",
       "wZ7bexcErqCp5XvAwLEAopbTAEgwT8BtLtsEhlxo+DKCnMrzAbdaBmeGzUSrjWWYwIDkBq4JCPfe\n",
       "QFfLdPwBA4bfcJjL05kAZYGDi2UDHrUMV2AssPW8B9AUes6cKThz5gyI2jC4LlAcZxKZJnGlHWxq\n",
       "mXCkSRxpnSkAl9qXsDz0FpaHSnEpBQCrmFWG51VrCAAAAABJRU5ErkJggg==\n",
       "\" style=\"display:inline;vertical-align:middle;\" /></a></span></td></tr>\n",
       "<tr><td>&nbsp;</td><td colspan=4 style-\"text-align:left\"><a class=\"ProveItLink\" href=\"../empty_disjunction_eval/thm_proof.ipynb\">proveit.logic.booleans.disjunction.empty_disjunction_eval</a></td></tr><tr><td colspan=4 style=\"text-align:left\"><sup>*</sup>equality replacement requirements</td></tr></table>"
      ],
      "text/plain": [
       "\tstep type\trequirements\tstatement\n",
       "0\tgeneralizaton\t1\t|- forall_{A in BOOLEAN} ([or](A) = (FALSE or A))\n",
       "1\tinstantiation\t2, 3, 4, 5*\t|- [or](A) = (FALSE or A)\n",
       "\tm : 0, A : (), B : A\n",
       "2\taxiom\t\t|- forall_{m in Natural} [forall_{A_{1}, ..A_{_a}.., A_{m}, B} ((A_{1} or ..A_{_a}.. or A_{m} or B) =  \\\\ ((A_{1} or ..A_{_a}.. or A_{m}) or B))]\n",
       "\tproveit.logic.booleans.disjunction.multi_disjunction_def\n",
       "3\taxiom\t\t|- 0 in Natural\n",
       "\tproveit.numbers.number_sets.natural_numbers.zero_in_nats\n",
       "4\tconjecture\t\t|- |()| = |(1, ..a.., 0)|\n",
       "5\ttheorem\t\t|- [or]() = FALSE\n",
       "\tproveit.logic.booleans.disjunction.empty_disjunction_eval"
      ]
     },
     "execution_count": 5,
     "metadata": {},
     "output_type": "execute_result"
    }
   ],
   "source": [
    "%qed"
   ]
  },
  {
   "cell_type": "code",
   "execution_count": null,
   "metadata": {},
   "outputs": [],
   "source": []
  }
 ],
 "metadata": {
  "kernelspec": {
   "display_name": "Python 3",
   "language": "python",
   "name": "python3"
  }
 },
 "nbformat": 4,
 "nbformat_minor": 0
}