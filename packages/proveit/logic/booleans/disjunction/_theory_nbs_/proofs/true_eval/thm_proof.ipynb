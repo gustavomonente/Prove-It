{
 "cells": [
  {
   "cell_type": "markdown",
   "metadata": {},
   "source": [
    "Proof of <a class=\"ProveItLink\" href=\"../../../../../../_theory_nbs_/theory.ipynb\">proveit</a>.<a class=\"ProveItLink\" href=\"../../../../../_theory_nbs_/theory.ipynb\">logic</a>.<a class=\"ProveItLink\" href=\"../../../../_theory_nbs_/theory.ipynb\">booleans</a>.<a class=\"ProveItLink\" href=\"../../theory.ipynb\">disjunction</a>.<a class=\"ProveItLink\" href=\"../../theorems.ipynb#true_eval\">true_eval</a> theorem\n",
    "========"
   ]
  },
  {
   "cell_type": "code",
   "execution_count": 1,
   "metadata": {},
   "outputs": [],
   "source": [
    "import proveit\n",
    "theory = proveit.Theory() # the theorem's theory"
   ]
  },
  {
   "cell_type": "code",
   "execution_count": 2,
   "metadata": {},
   "outputs": [
    {
     "data": {
      "text/html": [
       "Under these <a href=\"presumptions.txt\">presumptions</a>, we begin our proof of<br><strong id=\"true_eval\">true_eval:</strong> <a class=\"ProveItLink\" href=\"../../../__pv_it/theorems/ea459135252d23bc6ddea0a5407ea89ab633f9020/expr.ipynb\"><img src=\"data:image/png;base64,iVBORw0KGgoAAAANSUhEUgAAApEAAAAWBAMAAABqL9qxAAAAMFBMVEX///8QEBCIiIhmZma6urrM\n",
       "zMxUVFQiIiJERETc3Nzu7u6qqqp2dnaYmJgyMjIAAAAcRTyBAAAAAXRSTlMAQObYZgAABldJREFU\n",
       "WMPdWX2IVFUUP76ZNzPva3f/qKCkGhVsjdSRpdZyxSdCQRDsbrD1h9XgtgRSNGGUWOkSVGMSO/SH\n",
       "LkbumNHqmjrssqCgNGRFrGYPNdpytQ0pSUiXtPzIj879eG/u+9p9Gw5YF+6bM+f83rlzf/fce8+9\n",
       "AxCpSGeaobpFsVi9acue8SzGKRNGiXx8Ije6WUM+jOp1dSuvWJ6e3JvyaKC68VVSXvFo1fr2F5Ry\n",
       "ZN8CPFEIa4FYdBMOEN3piZnUS/hRU6wak7/xiuWso6QTQfaDXfqasTBTP6e6YoBpFmjzrMjeBbga\n",
       "NGD9tgWZ7CYzq3NiJimmu2pEGhlWiXjWGa8O8jjsR7v0Jy6HmTiTCUKNkaaRvwofiwpRvbvgn4cx\n",
       "SSzIJAkzGm8TMEnj9kDVmEwWWMWyfZEzj9rIY5UfLerVgUthJjsms6QBOjw/k+fiyN5d8M2hTG6m\n",
       "BBlDfX0bIAKTI31923JVY3IDr1isuaatrUFO4xk/WtQb0vkwU7+wciwhQuxv8nw8qncP3AxjEi1I\n",
       "EFzM51+PwmRtPv9OuWpMzuAV+1D8zNnXNOxPquBHi/pHtathJpvJAaxridBDQ2FbVO9uuJ4JYxIt\n",
       "hMkO3spETOJqE9TsDSrv8QrwMTyTdtTYlSeD4BW9asp/hJgcJpM4w+lW8G06DBqod8MNuuUcOkPK\n",
       "SVcLaCFMLgnelXxMYrzvpHIIn+7hGG4vz/JjgrWkvMYrgAk9GbvnMB3g2SB4RR8H5VyIyWFSSkOC\n",
       "Ts01PCuO6H2NK4nWcmExiRbCZBKk4CxRXvEFTMs6TOJIzabyT2bg5utarTalYWudD+PRnpjTuMCW\n",
       "b+EV5PaGFztBbmA/uzdkmCv6toYHLoaYHCbVHA+Cu+m2U4zqncNtPsbCmEQLIUi3kgHOtu9fCLv1\n",
       "YqxYYfIboO2riwKJ3yKuVgrSavhSK1Gr7m2wJF051uxlMg4wBbsRZ32NlYLziooef9hdISaHSVjA\n",
       "s441NIKao3q34RGZVEbbAiJs3cYi7Etn9Mrshk00mwC9NxPU+tAKMafBrUlO+zIdQTu8pw8kCYYs\n",
       "7+zGLiTrHCaV0WTw2dLWa1hfCjYJTG5iQcBSQz2ydxvO15FcZZ381dVCnM1uWItrgrGwdYY0k2aw\n",
       "KPGcYXDwfZHJ1Ho6rVtTQXm8nM4L3+ZiKKu+85CgpUmGJMVHCp4dRymxQwvvK7x1OHhdtfUfsDPR\n",
       "ke+mZ6Z3eF9xmEw9xQawh3wMRfbO4YwSvuMExSTfcWAA3RqLrSnLJRJzRCqw0/igvmOpwKTWSMVs\n",
       "DPHLvS4T0Ch8W8k+PKiVQspGN4LYvF9sxX5eSU6ZulTpaxvLnNVr+Ng1yoWKXiGwrgIcvRNuK850\n",
       "mUQm5efYAJKEaaAY2TuHM0ogVg5jEi2UyVpkfuM9UGtSKJGKKp3Ag1DeLzAJNNswStIYLL3D6/IY\n",
       "zBW+XaFPL+qKsKpSJiV40F6EHmF16/XToHVdyDh9reFLCbmJSGa54OjVrmtF2H19hfJRDs5Dk/sV\n",
       "gMec9uysZcvb7SZARO82nFKCyoDrMNYCWihBBhmvZdACSbrMLsPjkbwyn38TmfwwKTL5I5F2Nn19\n",
       "2X/GUk8e7BJmM0n1d/hQXEvKE/l8Po1MltP+06KwKGHQhdyZePSJtFzHs6jAVza6v07S+zJ6YuwN\n",
       "zRF7OUG03Ar10CMzqUmGLIvJeKvIJC0PgfKnn0nc43uajQXH799LB24+1rIPxbRH9o2QxYDFZDnj\n",
       "v8Fw9TVimdIsdSpjke9QJ+mdUhJ4gwHCDQYfhDEkfliH7iJKLw/Cl0R5FGDEy2QcN9urlCOEvms/\n",
       "SJTXWtocmKqVATVJCz4tuFGOtr8TA10nnZZ0OFgWE/u146fB45QejEqjM/JhdnLeGSXh5xd+q8YJ\n",
       "yuIxf/0QtJRQus+CFE70+GqTxY7IZFcndF+wCEctJfl2aCmQRyl1EZSuN6BDzcVMkKcCfNV0L7tP\n",
       "cVCONtFMTmLrsH5/aP7vQTe95Mc3/pWeTGcfhpqC8nzU29NJeueUhB6VUwVx0trFzlTrcZ0U/31Y\n",
       "7Z45qwRoRcppmaTGcjw/SnMOwbOxVQnXyf/Wvw8/jGeRTnmZ1KLdUbSeKwlQW1KzkpmYVfnHw42y\n",
       "tZ/A3puZsBt2df1voN6XrEDU/52+fwC1eAIvZ9VFwAAAAABJRU5ErkJggg==\n",
       "\" style=\"display:inline;vertical-align:middle;\" /></a><br>(see <a class=\"ProveItLink\" href=\"../../../__pv_it/theorems/3ba9ddc2e3efb813751ef516a8231b8456fe14570/dependencies.ipynb\">dependencies</a>)<br>"
      ],
      "text/plain": [
       "true_eval: forall_{m, n in Natural} [forall_{A_{1}, ..A_{_a}.., A_{m}, C_{1}, ..C_{_a}.., C_{n} in BOOLEAN} ((A_{1} or ..A_{_a}.. or A_{m} or TRUE or C_{1} or ..C_{_a}.. or C_{n}) = TRUE)]"
      ]
     },
     "execution_count": 2,
     "metadata": {},
     "output_type": "execute_result"
    }
   ],
   "source": [
    "%proving true_eval"
   ]
  },
  {
   "cell_type": "code",
   "execution_count": null,
   "metadata": {},
   "outputs": [],
   "source": []
  }
 ],
 "metadata": {
  "kernelspec": {
   "display_name": "Python 3",
   "language": "python",
   "name": "python3"
  }
 },
 "nbformat": 4,
 "nbformat_minor": 0
}