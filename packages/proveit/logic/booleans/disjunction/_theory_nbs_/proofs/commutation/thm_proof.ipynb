{
 "cells": [
  {
   "cell_type": "markdown",
   "metadata": {},
   "source": [
    "Proof of <a class=\"ProveItLink\" href=\"../../../../../../_theory_nbs_/theory.ipynb\">proveit</a>.<a class=\"ProveItLink\" href=\"../../../../../_theory_nbs_/theory.ipynb\">logic</a>.<a class=\"ProveItLink\" href=\"../../../../_theory_nbs_/theory.ipynb\">booleans</a>.<a class=\"ProveItLink\" href=\"../../theory.ipynb\">disjunction</a>.<a class=\"ProveItLink\" href=\"../../theorems.ipynb#commutation\">commutation</a> theorem\n",
    "========"
   ]
  },
  {
   "cell_type": "code",
   "execution_count": 1,
   "metadata": {},
   "outputs": [],
   "source": [
    "import proveit\n",
    "theory = proveit.Theory() # the theorem's theory"
   ]
  },
  {
   "cell_type": "code",
   "execution_count": 2,
   "metadata": {},
   "outputs": [
    {
     "data": {
      "text/html": [
       "Under these <a href=\"presumptions.txt\">presumptions</a>, we begin our proof of<br><strong id=\"commutation\">commutation:</strong> <a class=\"ProveItLink\" href=\"../../../__pv_it/theorems/ea4a207258bd1c15c1c56ce5c464e928a6a704b50/expr.ipynb\"><img src=\"data:image/png;base64,iVBORw0KGgoAAAANSUhEUgAAAQMAAAAVBAMAAACwB5bKAAAAMFBMVEX///8QEBCIiIhmZma6urrM\n",
       "zMxUVFQiIiJERETc3Nzu7u6qqqp2dnaYmJgyMjIAAAAcRTyBAAAAAXRSTlMAQObYZgAAA7hJREFU\n",
       "SMfFVk1oE0EU/kyyTXaTjT0UFZSy6MFetIFAvShWPCiCtKfqyQZUqIJWEURthSqKqX/pRRRFGlGo\n",
       "KGpARD1ZLCL+IEFBEFGj1YMerLS1torW995sqrvZdBUPDuzs/Ow3+81733szwJ8VPU/V6cm+iHaV\n",
       "QU2KuEnvAnde+FI4T4/RIU2t4JwyW0eSLfuADd6op+Nr69L1JVNrIIgKovGA+x98KbynJ672Gf/E\n",
       "daOwkYEpRG1xIy57ozADCH52IqgM0EMIg/Zzgu3V4cfATFD1RLVffuV6PVePZaCZzN2QQMzyRGnf\n",
       "gdCQE0FTA1kI4jbtiZs5PwphNsBOaRpXx/jVxNUuGamlyVcWjEpPVIA+NwedCODiYppjxBmavX/h\n",
       "wnFfP/AX+hbFPzAM2yuhhIzsocWm007eeqEQ4f/sciKAfC3LgxBxeo+m0+2+FObwdhR8RfS7yJl6\n",
       "ESWOEWDVRnr3eaEwNQVte9aJQCh7K68QsYS4qFOGVb18qK+lNLyO8HYkwox6bVCGyCarVYSMvKhp\n",
       "E5FwFfsoJVFEoXnT4wM5JwI4h2ZLIUzS41JRJbWHlZ0rEVNONd/0byuKhH8Rlk4I+pAMzQbWSYOd\n",
       "fSZFjetu4m22UoxpTgRQj+6EQkSJWBgB2d5ZsS+CKURJ8hf7FsHqPX3NhlRx7ElwNyXrRmWox6Yu\n",
       "zg584/26KVTZSkFtzoGAtjbZ2qEQGoV4LB+W4fvblIotBAswD53MwrJil0ooUFWtuObsQCJnIzBY\n",
       "lsIIU7AcCDIlphR+UdALEi2alZbZK42YnyXvULGslffcjojSs1Ul34KiLmmhgr247DctpIooTgto\n",
       "rXcgQCuFKxUixHHWKQ6qwAKZbZhXk7LTtpWsbnTL8ZSd2Kjst9MMp4XmjqIc3SJmpWijToSes3Os\n",
       "LUdclXh/jlqZfgTMhZFQVggesxfjeOPwkdyQURHTZKeZ17SVGRx1C90UGBWn3S45CAeC80VkTCGC\n",
       "vexLdpTR/zDDy+Aw0J3TdqTTe1kLAXsxtjGZzMj8yOLGuFJNXOWJzXwMiY/fuSkQqmKAzrBDdt9G\n",
       "nB//gGjmS0IQcTa0yb8OZtEtVidpN3QhpawQC5Ym6F8ncdbZN7Z4JmgfRM9EbyVZI68fhP4V+izg\n",
       "jlDojT30OKbKlTLHlA/idrETGYWe2a3NxN2hZAvJN0KWNdv7j05cOTh1RromXdDjsO6EH8IouO8x\n",
       "E60a0kKZK0u50ul9ZZkcUbKtm/9wcTP/+uLGiGfuwTz+Q/kJpDYPBkAaCrgAAAAASUVORK5CYII=\n",
       "\" style=\"display:inline;vertical-align:middle;\" /></a><br>(see <a class=\"ProveItLink\" href=\"../../../__pv_it/theorems/859f8faa7d05d9069a445f8c0b95dfd39f6c12b00/dependencies.ipynb\">dependencies</a>)<br>"
      ],
      "text/plain": [
       "commutation: forall_{A, B in BOOLEAN} ((A or B) = (B or A))"
      ]
     },
     "execution_count": 2,
     "metadata": {},
     "output_type": "execute_result"
    }
   ],
   "source": [
    "%proving commutation"
   ]
  },
  {
   "cell_type": "code",
   "execution_count": null,
   "metadata": {},
   "outputs": [],
   "source": []
  }
 ],
 "metadata": {
  "kernelspec": {
   "display_name": "Python 3",
   "language": "python",
   "name": "python3"
  }
 },
 "nbformat": 4,
 "nbformat_minor": 0
}