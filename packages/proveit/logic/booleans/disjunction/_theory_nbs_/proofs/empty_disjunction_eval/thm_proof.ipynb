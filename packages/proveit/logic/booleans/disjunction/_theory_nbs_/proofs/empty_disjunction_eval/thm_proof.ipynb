{
 "cells": [
  {
   "cell_type": "markdown",
   "metadata": {},
   "source": [
    "Proof of <a class=\"ProveItLink\" href=\"../../../../../../_theory_nbs_/theory.ipynb\">proveit</a>.<a class=\"ProveItLink\" href=\"../../../../../_theory_nbs_/theory.ipynb\">logic</a>.<a class=\"ProveItLink\" href=\"../../../../_theory_nbs_/theory.ipynb\">booleans</a>.<a class=\"ProveItLink\" href=\"../../theory.ipynb\">disjunction</a>.<a class=\"ProveItLink\" href=\"../../theorems.ipynb#empty_disjunction_eval\">empty_disjunction_eval</a> theorem\n",
    "========"
   ]
  },
  {
   "cell_type": "code",
   "execution_count": 1,
   "metadata": {},
   "outputs": [],
   "source": [
    "import proveit\n",
    "from proveit.logic.booleans.disjunction  import empty_disjunction\n",
    "theory = proveit.Theory() # the theorem's theory"
   ]
  },
  {
   "cell_type": "code",
   "execution_count": 2,
   "metadata": {},
   "outputs": [
    {
     "data": {
      "text/html": [
       "Under these <a href=\"presumptions.txt\">presumptions</a>, we begin our proof of<br><strong id=\"empty_disjunction_eval\">empty_disjunction_eval:</strong> <a class=\"ProveItLink\" href=\"../../../__pv_it/theorems/2a8bacaca084ca1afe51f91a99ba575fb2df7d700/expr.ipynb\"><img src=\"data:image/png;base64,iVBORw0KGgoAAAANSUhEUgAAAEcAAAAUBAMAAAAthD11AAAAMFBMVEX///8QEBB2dnZERESqqqpm\n",
       "Zma6urrc3NwyMjLu7u4iIiKIiIiYmJhUVFTMzMwAAABF6oizAAAAAXRSTlMAQObYZgAAAOJJREFU\n",
       "KM9jYICBGgZ3BkKA04CBtwBTmM8BRD4AMxkYOAoYOBswFbFsAJH3QMRpBoajQEobl6K3IGIlA8Ny\n",
       "IDURlyKgNQxsAQzsC0DsBByKWAIYGJgLGLiBFANTAA5FDEAjHgPVHQAyecAu1+gAgVYURbsZGK4x\n",
       "MHCBvMqyAJdJs8BeZwQ5h+8DLkWsDkwOBBWxN3AxQK1jW4BwUy+KIgY7YFAiOxybSQxvV8J8z6qA\n",
       "UxFHAMwmjgeoKlhXrVootWrVBZCjJoAEloM9SgDgiGBUwIw9qWAkOuYCgkmzhuE4LikAfTc3Ad5w\n",
       "yqgAAAAASUVORK5CYII=\n",
       "\" style=\"display:inline;vertical-align:middle;\" /></a><br>(see <a class=\"ProveItLink\" href=\"../../../__pv_it/theorems/48718b599b62610a26eba8d53ed7afcea689873d0/dependencies.ipynb\">dependencies</a>)<br>"
      ],
      "text/plain": [
       "empty_disjunction_eval: or() = FALSE"
      ]
     },
     "execution_count": 2,
     "metadata": {},
     "output_type": "execute_result"
    }
   ],
   "source": [
    "%proving empty_disjunction_eval"
   ]
  },
  {
   "cell_type": "code",
   "execution_count": 3,
   "metadata": {},
   "outputs": [
    {
     "data": {
      "text/html": [
       "<span style=\"font-size:20px;\"> <a class=\"ProveItLink\" href=\"../../axioms.ipynb#empty_disjunction\" style=\"text-decoration: none\">&nbsp;&#x22A2;&nbsp;&nbsp;</a><a class=\"ProveItLink\" href=\"../../../__pv_it/axioms/4a50bab66334d57234dd7a04f38c71fb49c937720/expr.ipynb\"><img src=\"data:image/png;base64,iVBORw0KGgoAAAANSUhEUgAAADIAAAAUBAMAAAA95HOpAAAAMFBMVEX///8QEBBERESqqqq6uroy\n",
       "MjLu7u6IiIiYmJjMzMxUVFTc3Nx2dnYiIiJmZmYAAAC/kaUnAAAAAXRSTlMAQObYZgAAAMVJREFU\n",
       "KM9jYMACuBuYNzBgBUkMDKuRuJxgcgKIiGZgSEWS4QIJchSAiAcMDDwFSHoWAAneBBABtIRNAEkT\n",
       "0AwGPxBjL4gIQZKxA2JtEKMORJxDkuEFmqgAYmiAiFaGt3eB4A6IzV7AwOUAYlwGEbYQ5btABNsF\n",
       "qFtFQMR8JBmGxwyHcchsZbjAADfNF1mGaQbEe1AXIIUM59oEBriD36CEZByEAhsUiSKzDeqxDWCH\n",
       "YgHoIYoEtFFjATXmtLHLcDdwbGAAAJMpKNkzK6kHAAAAAElFTkSuQmCC\n",
       "\" style=\"display:inline;vertical-align:middle;\" /></a></span>"
      ],
      "text/plain": [
       "|- not(or())"
      ]
     },
     "execution_count": 3,
     "metadata": {},
     "output_type": "execute_result"
    }
   ],
   "source": [
    "empty_disjunction"
   ]
  },
  {
   "cell_type": "code",
   "execution_count": 4,
   "metadata": {},
   "outputs": [
    {
     "name": "stdout",
     "output_type": "stream",
     "text": [
      "empty_disjunction_eval has been proven.  Now simply execute \"%qed\".\n"
     ]
    },
    {
     "data": {
      "text/html": [
       "<span style=\"font-size:20px;\"> <a class=\"ProveItLink\" href=\"../../../__pv_it/_proof_empty_disjunction_eval/411dce24c94c0870507d569309ee2fa28a02704a0/proof.ipynb\" style=\"text-decoration: none\">&nbsp;&#x22A2;&nbsp;&nbsp;</a><a class=\"ProveItLink\" href=\"../../../__pv_it/theorems/2a8bacaca084ca1afe51f91a99ba575fb2df7d700/expr.ipynb\"><img src=\"data:image/png;base64,iVBORw0KGgoAAAANSUhEUgAAAEcAAAAUBAMAAAAthD11AAAAMFBMVEX///8QEBB2dnZERESqqqpm\n",
       "Zma6urrc3NwyMjLu7u4iIiKIiIiYmJhUVFTMzMwAAABF6oizAAAAAXRSTlMAQObYZgAAAOJJREFU\n",
       "KM9jYICBGgZ3BkKA04CBtwBTmM8BRD4AMxkYOAoYOBswFbFsAJH3QMRpBoajQEobl6K3IGIlA8Ny\n",
       "IDURlyKgNQxsAQzsC0DsBByKWAIYGJgLGLiBFANTAA5FDEAjHgPVHQAyecAu1+gAgVYURbsZGK4x\n",
       "MHCBvMqyAJdJs8BeZwQ5h+8DLkWsDkwOBBWxN3AxQK1jW4BwUy+KIgY7YFAiOxybSQxvV8J8z6qA\n",
       "UxFHAMwmjgeoKlhXrVootWrVBZCjJoAEloM9SgDgiGBUwIw9qWAkOuYCgkmzhuE4LikAfTc3Ad5w\n",
       "yqgAAAAASUVORK5CYII=\n",
       "\" style=\"display:inline;vertical-align:middle;\" /></a></span>"
      ],
      "text/plain": [
       "|- or() = FALSE"
      ]
     },
     "execution_count": 4,
     "metadata": {},
     "output_type": "execute_result"
    }
   ],
   "source": [
    "empty_disjunction.equate_negated_to_false()"
   ]
  },
  {
   "cell_type": "code",
   "execution_count": 5,
   "metadata": {},
   "outputs": [
    {
     "data": {
      "text/html": [
       "<table><tr><th>&nbsp;</th><th>step type</th><th>requirements</th><th>statement</th></tr>\n",
       "<tr><td><a name=\"0x63b52d431e08a90c_step0\">0</a></td><td>instantiation</td><td><a href=\"#0x63b52d431e08a90c_step1\">1</a>, <a href=\"#0x63b52d431e08a90c_step2\">2</a></td><td><span style=\"font-size:20px;\"> <a class=\"ProveItLink\" href=\"../../../__pv_it/_proof_empty_disjunction_eval/411dce24c94c0870507d569309ee2fa28a02704a0/proof.ipynb\" style=\"text-decoration: none\">&nbsp;&#x22A2;&nbsp;&nbsp;</a><a class=\"ProveItLink\" href=\"../../../__pv_it/theorems/2a8bacaca084ca1afe51f91a99ba575fb2df7d700/expr.ipynb\"><img src=\"data:image/png;base64,iVBORw0KGgoAAAANSUhEUgAAAEcAAAAUBAMAAAAthD11AAAAMFBMVEX///8QEBB2dnZERESqqqpm\n",
       "Zma6urrc3NwyMjLu7u4iIiKIiIiYmJhUVFTMzMwAAABF6oizAAAAAXRSTlMAQObYZgAAAOJJREFU\n",
       "KM9jYICBGgZ3BkKA04CBtwBTmM8BRD4AMxkYOAoYOBswFbFsAJH3QMRpBoajQEobl6K3IGIlA8Ny\n",
       "IDURlyKgNQxsAQzsC0DsBByKWAIYGJgLGLiBFANTAA5FDEAjHgPVHQAyecAu1+gAgVYURbsZGK4x\n",
       "MHCBvMqyAJdJs8BeZwQ5h+8DLkWsDkwOBBWxN3AxQK1jW4BwUy+KIgY7YFAiOxybSQxvV8J8z6qA\n",
       "UxFHAMwmjgeoKlhXrVootWrVBZCjJoAEloM9SgDgiGBUwIw9qWAkOuYCgkmzhuE4LikAfTc3Ad5w\n",
       "yqgAAAAASUVORK5CYII=\n",
       "\" style=\"display:inline;vertical-align:middle;\" /></a></span></td></tr>\n",
       "<tr><td>&nbsp;</td><td colspan=4 style=\"text-align:left\"><span style=\"font-size:20px;\"><a class=\"ProveItLink\" href=\"../../../../../../__pv_it/common/e4aad701f7f5516d8e7f0d805d518bf02c13322a0/expr.ipynb\"><img src=\"data:image/png;base64,iVBORw0KGgoAAAANSUhEUgAAAA8AAAAOBAMAAAACpFvcAAAALVBMVEX///8iIiIQEBBERERUVFS6\n",
       "urqIiIjc3NxmZmaqqqru7u6YmJgyMjLMzMwAAACK9jtgAAAAAXRSTlMAQObYZgAAAFtJREFUCNdj\n",
       "YACBOwxQcA5Kc59bAGGs7CuAMDbkBYBp1gXzNoAZSxnuJYAZAQx1DSCa16PDzwCshIGB6QCIMYGB\n",
       "gVEBSLMDGTwPgIxCIGZ+zsCw+N0pBk67hw0AfpEVEQi8t+wAAAAASUVORK5CYII=\n",
       "\" style=\"display:inline;vertical-align:middle;\" /></a> : <a class=\"ProveItLink\" href=\"../../../__pv_it/axioms/1d192e4b2dc01da4604907788da93dd0f4145dd90/expr.ipynb\"><img src=\"data:image/png;base64,iVBORw0KGgoAAAANSUhEUgAAABsAAAAUBAMAAACOrFuzAAAAMFBMVEX///8QEBB2dnZERESqqqpm\n",
       "Zma6urrc3NwyMjLu7u4iIiKIiIiYmJhUVFTMzMwAAABF6oizAAAAAXRSTlMAQObYZgAAALBJREFU\n",
       "GNNNkD0OglAQhD/5B3/OYG/jCQydLUfgCBzAgiNoS2VnOAONjbGwtzQm1iQewVmEwBZv3+ybzOw8\n",
       "GOrAnrHiLcsC3nZfQVQQl/Ay+ICb2gZagzVc1E4diSAjPAtGOV4GbsFcDUeHxh9NroILaTXwhCQV\n",
       "9PRUdQaz3Py+4KdOOoFhmdCTA5PfaYlRirbuPfDXZp4NvMgChEfb05asxoB9hKHcf8BJfE2YfM4d\n",
       "fsfcI1nbMFPXAAAAAElFTkSuQmCC\n",
       "\" style=\"display:inline;vertical-align:middle;\" /></a></span></td></tr><tr><td><a name=\"0x63b52d431e08a90c_step1\">1</a></td><td>axiom</td><td></td><td><span style=\"font-size:20px;\"> <a class=\"ProveItLink\" href=\"../../../../negation/_theory_nbs_/axioms.ipynb#negation_elim\" style=\"text-decoration: none\">&nbsp;&#x22A2;&nbsp;&nbsp;</a><a class=\"ProveItLink\" href=\"../../../../negation/__pv_it/axioms/8b230bef1238f6f2a4e697102186a20733df080f0/expr.ipynb\"><img src=\"data:image/png;base64,iVBORw0KGgoAAAANSUhEUgAAAJcAAAAWBAMAAAA/XRM3AAAAMFBMVEX///8QEBCIiIhmZma6urrM\n",
       "zMxUVFQiIiJERETc3Nzu7u6qqqp2dnaYmJgyMjIAAAAcRTyBAAAAAXRSTlMAQObYZgAAAbRJREFU\n",
       "OMtjYCAWcF7AL78TiB+AGHeJMGwFhIrDIhUNItgmMDCcBjFeEWHYSwj1HovUJhDBBXTWDJAPGgib\n",
       "xWsAod4vwGEYwyEGBj6gJM8GwoaxTwBTq+0n4DJsIdCqU6tWTSfCl1A1F/QdcBnGB5T50dFRQ4Rh\n",
       "ymCSZcH+C7gM4wEGRCoDQyeYAyFZUNV1whi9YHIJQ7wCiD73DgQeoxjGC4wBZ3A8ANlfwEIcqMH+\n",
       "BcaqBpMODPMNcLmMuwAYsgxMYJcv/ovFMKggEIiACNZk4/wGXIaxfgB69QI7mH2qGIthUEGYYcAw\n",
       "YHyAzzDOB2FgpkIHpmEwQZg3gUmIXQARZs9QDGMpAIVxCjg3MJhjGgYThEYAJ9Awvg+4XAaKAIbN\n",
       "IBMZbjPoIxl2oqOj4wFCEAgOQ9Max09chjEfABL8oMjmenymfwGqyxIQgkDgDszq/18xcPd/R4tO\n",
       "8/JywfLyMqCbA0DOA6lnXsAwPwDdMLggIjvhAcvhLF+gCy+gGwYXRGR0POAQjMHxg4GzvxbVsAkI\n",
       "QZS8gANwYUkzHAQKR5yAYwIJhhEqtm8ykGAYOYCZAr0AOed5gytoZ+0AAAAASUVORK5CYII=\n",
       "\" style=\"display:inline;vertical-align:middle;\" /></a></span></td></tr>\n",
       "<tr><td>&nbsp;</td><td colspan=4 style-\"text-align:left\"><a class=\"ProveItLink\" href=\"../../../../negation/_theory_nbs_/axioms.ipynb#negation_elim\">proveit.logic.booleans.negation.negation_elim</a></td></tr><tr><td><a name=\"0x63b52d431e08a90c_step2\">2</a></td><td>axiom</td><td></td><td><span style=\"font-size:20px;\"> <a class=\"ProveItLink\" href=\"../../axioms.ipynb#empty_disjunction\" style=\"text-decoration: none\">&nbsp;&#x22A2;&nbsp;&nbsp;</a><a class=\"ProveItLink\" href=\"../../../__pv_it/axioms/4a50bab66334d57234dd7a04f38c71fb49c937720/expr.ipynb\"><img src=\"data:image/png;base64,iVBORw0KGgoAAAANSUhEUgAAADIAAAAUBAMAAAA95HOpAAAAMFBMVEX///8QEBBERESqqqq6uroy\n",
       "MjLu7u6IiIiYmJjMzMxUVFTc3Nx2dnYiIiJmZmYAAAC/kaUnAAAAAXRSTlMAQObYZgAAAMVJREFU\n",
       "KM9jYMACuBuYNzBgBUkMDKuRuJxgcgKIiGZgSEWS4QIJchSAiAcMDDwFSHoWAAneBBABtIRNAEkT\n",
       "0AwGPxBjL4gIQZKxA2JtEKMORJxDkuEFmqgAYmiAiFaGt3eB4A6IzV7AwOUAYlwGEbYQ5btABNsF\n",
       "qFtFQMR8JBmGxwyHcchsZbjAADfNF1mGaQbEe1AXIIUM59oEBriD36CEZByEAhsUiSKzDeqxDWCH\n",
       "YgHoIYoEtFFjATXmtLHLcDdwbGAAAJMpKNkzK6kHAAAAAElFTkSuQmCC\n",
       "\" style=\"display:inline;vertical-align:middle;\" /></a></span></td></tr>\n",
       "<tr><td>&nbsp;</td><td colspan=4 style-\"text-align:left\"><a class=\"ProveItLink\" href=\"../../axioms.ipynb#empty_disjunction\">proveit.logic.booleans.disjunction.empty_disjunction</a></td></tr></table>"
      ],
      "text/plain": [
       "\tstep type\trequirements\tstatement\n",
       "0\tinstantiation\t1, 2\t|- or() = FALSE\n",
       "\tA : or()\n",
       "1\taxiom\t\t|- forall_{A | not(A)} (A = FALSE)\n",
       "\tproveit.logic.booleans.negation.negation_elim\n",
       "2\taxiom\t\t|- not(or())\n",
       "\tproveit.logic.booleans.disjunction.empty_disjunction"
      ]
     },
     "execution_count": 5,
     "metadata": {},
     "output_type": "execute_result"
    }
   ],
   "source": [
    "%qed"
   ]
  }
 ],
 "metadata": {
  "kernelspec": {
   "display_name": "Python 3",
   "language": "python",
   "name": "python3"
  }
 },
 "nbformat": 4,
 "nbformat_minor": 0
}