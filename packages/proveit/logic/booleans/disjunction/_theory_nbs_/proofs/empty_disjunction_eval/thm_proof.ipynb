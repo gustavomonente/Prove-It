{
 "cells": [
  {
   "cell_type": "markdown",
   "metadata": {},
   "source": [
    "Proof of <a class=\"ProveItLink\" href=\"../../../../../../_theory_nbs_/theory.ipynb\">proveit</a>.<a class=\"ProveItLink\" href=\"../../../../../_theory_nbs_/theory.ipynb\">logic</a>.<a class=\"ProveItLink\" href=\"../../../../_theory_nbs_/theory.ipynb\">booleans</a>.<a class=\"ProveItLink\" href=\"../../theory.ipynb\">disjunction</a>.<a class=\"ProveItLink\" href=\"../../theorems.ipynb#empty_disjunction_eval\">empty_disjunction_eval</a> theorem\n",
    "========"
   ]
  },
  {
   "cell_type": "code",
   "execution_count": 1,
   "metadata": {},
   "outputs": [],
   "source": [
    "import proveit\n",
    "from proveit.logic.booleans.disjunction  import empty_disjunction\n",
    "theory = proveit.Theory() # the theorem's theory"
   ]
  },
  {
   "cell_type": "code",
   "execution_count": 2,
   "metadata": {},
   "outputs": [
    {
     "data": {
      "text/html": [
       "Under these <a href=\"presumptions.txt\">presumptions</a>, we begin our proof of<br><strong id=\"empty_disjunction_eval\">empty_disjunction_eval:</strong> <a class=\"ProveItLink\" href=\"../../../__pv_it/theorems/fb4547487f73d73e98a0ad108e025261a51f9c470/expr.ipynb\"><img src=\"data:image/png;base64,iVBORw0KGgoAAAANSUhEUgAAAFYAAAAUBAMAAADl6NejAAAAMFBMVEX///8QEBBERESqqqpmZmbc\n",
       "3Nzu7u6YmJhUVFQiIiK6urp2dnbMzMwyMjKIiIgAAABj8LvFAAAAAXRSTlMAQObYZgAAAP9JREFU\n",
       "KM9jeHuHAQJqZ4GpcAZTBlxgFyqLTYGBIwCLssMQFTxgzgGIWt4ABrYLWNTaQdRyHABS7A8gakuA\n",
       "eB9utTwNQIozAaJ2KhAn4lbLcBVILYG4l3UCyB0LcKs1AVKqELV8DkCC2wG3Wk4GBh4FiFqmApDb\n",
       "wZ7bexcErqCp5XvAwLEAopbTAEgwT8BtLtsEhlxo+DKCnMrzAbdaBmeGzUSrjWWYwIDkBq4JCPfe\n",
       "QFfLdPwBA4bfcJjL05kAZYGDi2UDHrUMV2AssPW8B9AUes6cKThz5gyI2jC4LlAcZxKZJnGlHWxq\n",
       "mXCkSRxpnSkAl9qXsDz0FpaHSnEpBQCrmFWG51VrCAAAAABJRU5ErkJggg==\n",
       "\" style=\"display:inline;vertical-align:middle;\" /></a><br>(see <a class=\"ProveItLink\" href=\"../../../__pv_it/theorems/e0ad22b613363cd02019fc7d2077530d958c357d0/dependencies.ipynb\">dependencies</a>)<br>"
      ],
      "text/plain": [
       "empty_disjunction_eval: [or]() = FALSE"
      ]
     },
     "execution_count": 2,
     "metadata": {},
     "output_type": "execute_result"
    }
   ],
   "source": [
    "%proving empty_disjunction_eval"
   ]
  },
  {
   "cell_type": "code",
   "execution_count": 3,
   "metadata": {},
   "outputs": [
    {
     "data": {
      "text/html": [
       "<span style=\"font-size:20px;\"> <a class=\"ProveItLink\" href=\"../../axioms.ipynb#empty_disjunction\" style=\"text-decoration: none\">&nbsp;&#x22A2;&nbsp;&nbsp;</a><a class=\"ProveItLink\" href=\"../../../__pv_it/axioms/25457ba768b8e083d3aef1fb189b90f421febeae0/expr.ipynb\"><img src=\"data:image/png;base64,iVBORw0KGgoAAAANSUhEUgAAADsAAAAUBAMAAADB8VhjAAAAMFBMVEX///8QEBBERESqqqru7u6Y\n",
       "mJi6uroyMjKIiIjMzMxUVFTc3Nx2dnYiIiJmZmYAAAAK2EhgAAAAAXRSTlMAQObYZgAAAOhJREFU\n",
       "KM9jYICB9kooI/wamNrKYM2ABI6hslgUGLg2oEhzgukJEGn2DQwsBSjSXBOAFGsDRDoOiE+g6l4A\n",
       "pHgdINK3gdgR1e5qIJUHsZv7AsiCBBRpOyClDZHmeAAkeB6gSPMyMHAqQKSZAkDuKGB4excI7kCk\n",
       "ORoYuBIg0rwGQIL5AkTnLog0ywUGd6i/GUHWcn5AkWZ4zHAYn/R2hgsMSIazoRrOwDS1gQHVaWDA\n",
       "CRXkXOsAZYH9xHcALUrqYCywuewT0KS3wFmgQPXFHaGYUYLCYsKIUPTkwIScHHphiakdlpiiGRgA\n",
       "VudMfZzNtAQAAAAASUVORK5CYII=\n",
       "\" style=\"display:inline;vertical-align:middle;\" /></a></span>"
      ],
      "text/plain": [
       "|- [not]([or]())"
      ]
     },
     "execution_count": 3,
     "metadata": {},
     "output_type": "execute_result"
    }
   ],
   "source": [
    "empty_disjunction"
   ]
  },
  {
   "cell_type": "code",
   "execution_count": 4,
   "metadata": {},
   "outputs": [
    {
     "name": "stdout",
     "output_type": "stream",
     "text": [
      "empty_disjunction_eval has been proven.  Now simply execute \"%qed\".\n"
     ]
    },
    {
     "data": {
      "text/html": [
       "<span style=\"font-size:20px;\"> <a class=\"ProveItLink\" href=\"../../../__pv_it/_proof_empty_disjunction_eval/af88b8a5a1c904ef654dfc1c24ec713b1d61e71c0/proof.ipynb\" style=\"text-decoration: none\">&nbsp;&#x22A2;&nbsp;&nbsp;</a><a class=\"ProveItLink\" href=\"../../../__pv_it/theorems/fb4547487f73d73e98a0ad108e025261a51f9c470/expr.ipynb\"><img src=\"data:image/png;base64,iVBORw0KGgoAAAANSUhEUgAAAFYAAAAUBAMAAADl6NejAAAAMFBMVEX///8QEBBERESqqqpmZmbc\n",
       "3Nzu7u6YmJhUVFQiIiK6urp2dnbMzMwyMjKIiIgAAABj8LvFAAAAAXRSTlMAQObYZgAAAP9JREFU\n",
       "KM9jeHuHAQJqZ4GpcAZTBlxgFyqLTYGBIwCLssMQFTxgzgGIWt4ABrYLWNTaQdRyHABS7A8gakuA\n",
       "eB9utTwNQIozAaJ2KhAn4lbLcBVILYG4l3UCyB0LcKs1AVKqELV8DkCC2wG3Wk4GBh4FiFqmApDb\n",
       "wZ7bexcErqCp5XvAwLEAopbTAEgwT8BtLtsEhlxo+DKCnMrzAbdaBmeGzUSrjWWYwIDkBq4JCPfe\n",
       "QFfLdPwBA4bfcJjL05kAZYGDi2UDHrUMV2AssPW8B9AUes6cKThz5gyI2jC4LlAcZxKZJnGlHWxq\n",
       "mXCkSRxpnSkAl9qXsDz0FpaHSnEpBQCrmFWG51VrCAAAAABJRU5ErkJggg==\n",
       "\" style=\"display:inline;vertical-align:middle;\" /></a></span>"
      ],
      "text/plain": [
       "|- [or]() = FALSE"
      ]
     },
     "execution_count": 4,
     "metadata": {},
     "output_type": "execute_result"
    }
   ],
   "source": [
    "empty_disjunction.equate_negated_to_false()"
   ]
  },
  {
   "cell_type": "code",
   "execution_count": 5,
   "metadata": {},
   "outputs": [
    {
     "data": {
      "text/html": [
       "<table><tr><th>&nbsp;</th><th>step type</th><th>requirements</th><th>statement</th></tr>\n",
       "<tr><td><a name=\"0x599d2bdb68a35296_step0\">0</a></td><td>instantiation</td><td><a href=\"#0x599d2bdb68a35296_step1\">1</a>, <a href=\"#0x599d2bdb68a35296_step2\">2</a></td><td><span style=\"font-size:20px;\"> <a class=\"ProveItLink\" href=\"../../../__pv_it/_proof_empty_disjunction_eval/af88b8a5a1c904ef654dfc1c24ec713b1d61e71c0/proof.ipynb\" style=\"text-decoration: none\">&nbsp;&#x22A2;&nbsp;&nbsp;</a><a class=\"ProveItLink\" href=\"../../../__pv_it/theorems/fb4547487f73d73e98a0ad108e025261a51f9c470/expr.ipynb\"><img src=\"data:image/png;base64,iVBORw0KGgoAAAANSUhEUgAAAFYAAAAUBAMAAADl6NejAAAAMFBMVEX///8QEBBERESqqqpmZmbc\n",
       "3Nzu7u6YmJhUVFQiIiK6urp2dnbMzMwyMjKIiIgAAABj8LvFAAAAAXRSTlMAQObYZgAAAP9JREFU\n",
       "KM9jeHuHAQJqZ4GpcAZTBlxgFyqLTYGBIwCLssMQFTxgzgGIWt4ABrYLWNTaQdRyHABS7A8gakuA\n",
       "eB9utTwNQIozAaJ2KhAn4lbLcBVILYG4l3UCyB0LcKs1AVKqELV8DkCC2wG3Wk4GBh4FiFqmApDb\n",
       "wZ7bexcErqCp5XvAwLEAopbTAEgwT8BtLtsEhlxo+DKCnMrzAbdaBmeGzUSrjWWYwIDkBq4JCPfe\n",
       "QFfLdPwBA4bfcJjL05kAZYGDi2UDHrUMV2AssPW8B9AUes6cKThz5gyI2jC4LlAcZxKZJnGlHWxq\n",
       "mXCkSRxpnSkAl9qXsDz0FpaHSnEpBQCrmFWG51VrCAAAAABJRU5ErkJggg==\n",
       "\" style=\"display:inline;vertical-align:middle;\" /></a></span></td></tr>\n",
       "<tr><td>&nbsp;</td><td colspan=4 style=\"text-align:left\"><span style=\"font-size:20px;\"><a class=\"ProveItLink\" href=\"../../../../../../__pv_it/common/09585084922504426caf1db2ff588a23a0932a960/expr.ipynb\"><img src=\"data:image/png;base64,iVBORw0KGgoAAAANSUhEUgAAAA8AAAAOBAMAAAACpFvcAAAALVBMVEX///8iIiIQEBBERERUVFS6\n",
       "urqIiIjc3NxmZmaqqqru7u6YmJgyMjLMzMwAAACK9jtgAAAAAXRSTlMAQObYZgAAAFtJREFUCNdj\n",
       "YACBOwxQcA5Kc59bAGGs7CuAMDbkBYBp1gXzNoAZSxnuJYAZAQx1DSCa16PDzwCshIGB6QCIMYGB\n",
       "gVEBSLMDGTwPgIxCIGZ+zsCw+N0pBk67hw0AfpEVEQi8t+wAAAAASUVORK5CYII=\n",
       "\" style=\"display:inline;vertical-align:middle;\" /></a> : <a class=\"ProveItLink\" href=\"../../../__pv_it/axioms/1bf41a78328dddd3725f5bf8f4e33d1af6cc075c0/expr.ipynb\"><img src=\"data:image/png;base64,iVBORw0KGgoAAAANSUhEUgAAACkAAAAUBAMAAADiqgm2AAAAMFBMVEX///8QEBBERESqqqpmZmbc\n",
       "3Nzu7u6YmJhUVFQiIiK6urp2dnbMzMwyMjKIiIgAAABj8LvFAAAAAXRSTlMAQObYZgAAANpJREFU\n",
       "GNNjeHuHAQJqZ4GpcAZTILmLAQbALDYFBo4AEJsHLHYAIsobwMB2ASTKcQDIY38AES0B4n1gtQ1A\n",
       "FmcCRHQqECeCTbsKZC2BmMs6AWTKAhDbBMhShYjyOQAJbgcQm5OBgUcBIspUALLjAojN94CBYwFE\n",
       "lNMASDBPALHZJjDkQt3LCJRl4PkAZjszbMYiGsswgQHJBK4JEDuOP2DAsI2BpzMBKsoNchnLBoiP\n",
       "rsBChwvsC2iYhMHDDOTjTIyQhIcOiigTLCTRQx0owfASFkNvYTFUysAAAIdcQr3Qap+3AAAAAElF\n",
       "TkSuQmCC\n",
       "\" style=\"display:inline;vertical-align:middle;\" /></a></span></td></tr><tr><td><a name=\"0x599d2bdb68a35296_step1\">1</a></td><td>axiom</td><td></td><td><span style=\"font-size:20px;\"> <a class=\"ProveItLink\" href=\"../../../../negation/_theory_nbs_/axioms.ipynb#negation_elim\" style=\"text-decoration: none\">&nbsp;&#x22A2;&nbsp;&nbsp;</a><a class=\"ProveItLink\" href=\"../../../../negation/__pv_it/axioms/9495abbd5f513bded61d958ff7a4f236116799110/expr.ipynb\"><img src=\"data:image/png;base64,iVBORw0KGgoAAAANSUhEUgAAAJcAAAAWBAMAAAA/XRM3AAAAMFBMVEX///8QEBCIiIhmZma6urrM\n",
       "zMxUVFQiIiJERETc3Nzu7u6qqqp2dnaYmJgyMjIAAAAcRTyBAAAAAXRSTlMAQObYZgAAAbRJREFU\n",
       "OMtjYCAWcF7AL78TiB+AGHeJMGwFhIrDIhUNItgmMDCcBjFeEWHYSwj1HovUJhDBBXTWDJAPGgib\n",
       "xWsAod4vwGEYwyEGBj6gJM8GwoaxTwBTq+0n4DJsIdCqU6tWTSfCl1A1F/QdcBnGB5T50dFRQ4Rh\n",
       "ymCSZcH+C7gM4wEGRCoDQyeYAyFZUNV1whi9YHIJQ7wCiD73DgQeoxjGC4wBZ3A8ANlfwEIcqMH+\n",
       "BcaqBpMODPMNcLmMuwAYsgxMYJcv/ovFMKggEIiACNZk4/wGXIaxfgB69QI7mH2qGIthUEGYYcAw\n",
       "YHyAzzDOB2FgpkIHpmEwQZg3gUmIXQARZs9QDGMpAIVxCjg3MJhjGgYThEYAJ9Awvg+4XAaKAIbN\n",
       "IBMZbjPoIxl2oqOj4wFCEAgOQ9Max09chjEfABL8oMjmenymfwGqyxIQgkDgDszq/18xcPd/R4tO\n",
       "8/JywfLyMqCbA0DOA6lnXsAwPwDdMLggIjvhAcvhLF+gCy+gGwYXRGR0POAQjMHxg4GzvxbVsAkI\n",
       "QZS8gANwYUkzHAQKR5yAYwIJhhEqtm8ykGAYOYCZAr0AOed5gytoZ+0AAAAASUVORK5CYII=\n",
       "\" style=\"display:inline;vertical-align:middle;\" /></a></span></td></tr>\n",
       "<tr><td>&nbsp;</td><td colspan=4 style-\"text-align:left\"><a class=\"ProveItLink\" href=\"../../../../negation/_theory_nbs_/axioms.ipynb#negation_elim\">proveit.logic.booleans.negation.negation_elim</a></td></tr><tr><td><a name=\"0x599d2bdb68a35296_step2\">2</a></td><td>axiom</td><td></td><td><span style=\"font-size:20px;\"> <a class=\"ProveItLink\" href=\"../../axioms.ipynb#empty_disjunction\" style=\"text-decoration: none\">&nbsp;&#x22A2;&nbsp;&nbsp;</a><a class=\"ProveItLink\" href=\"../../../__pv_it/axioms/25457ba768b8e083d3aef1fb189b90f421febeae0/expr.ipynb\"><img src=\"data:image/png;base64,iVBORw0KGgoAAAANSUhEUgAAADsAAAAUBAMAAADB8VhjAAAAMFBMVEX///8QEBBERESqqqru7u6Y\n",
       "mJi6uroyMjKIiIjMzMxUVFTc3Nx2dnYiIiJmZmYAAAAK2EhgAAAAAXRSTlMAQObYZgAAAOhJREFU\n",
       "KM9jYICB9kooI/wamNrKYM2ABI6hslgUGLg2oEhzgukJEGn2DQwsBSjSXBOAFGsDRDoOiE+g6l4A\n",
       "pHgdINK3gdgR1e5qIJUHsZv7AsiCBBRpOyClDZHmeAAkeB6gSPMyMHAqQKSZAkDuKGB4excI7kCk\n",
       "ORoYuBIg0rwGQIL5AkTnLog0ywUGd6i/GUHWcn5AkWZ4zHAYn/R2hgsMSIazoRrOwDS1gQHVaWDA\n",
       "CRXkXOsAZYH9xHcALUrqYCywuewT0KS3wFmgQPXFHaGYUYLCYsKIUPTkwIScHHphiakdlpiiGRgA\n",
       "VudMfZzNtAQAAAAASUVORK5CYII=\n",
       "\" style=\"display:inline;vertical-align:middle;\" /></a></span></td></tr>\n",
       "<tr><td>&nbsp;</td><td colspan=4 style-\"text-align:left\"><a class=\"ProveItLink\" href=\"../../axioms.ipynb#empty_disjunction\">proveit.logic.booleans.disjunction.empty_disjunction</a></td></tr></table>"
      ],
      "text/plain": [
       "\tstep type\trequirements\tstatement\n",
       "0\tinstantiation\t1, 2\t|- [or]() = FALSE\n",
       "\tA : [or]()\n",
       "1\taxiom\t\t|- forall_{A | [not](A)} (A = FALSE)\n",
       "\tproveit.logic.booleans.negation.negation_elim\n",
       "2\taxiom\t\t|- [not]([or]())\n",
       "\tproveit.logic.booleans.disjunction.empty_disjunction"
      ]
     },
     "execution_count": 5,
     "metadata": {},
     "output_type": "execute_result"
    }
   ],
   "source": [
    "%qed"
   ]
  }
 ],
 "metadata": {
  "kernelspec": {
   "display_name": "Python 3",
   "language": "python",
   "name": "python3"
  }
 },
 "nbformat": 4,
 "nbformat_minor": 0
}