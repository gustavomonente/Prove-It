{
 "cells": [
  {
   "cell_type": "markdown",
   "metadata": {},
   "source": [
    "Proof of <a class=\"ProveItLink\" href=\"../../../../../../_theory_nbs_/theory.ipynb\">proveit</a>.<a class=\"ProveItLink\" href=\"../../../../../_theory_nbs_/theory.ipynb\">logic</a>.<a class=\"ProveItLink\" href=\"../../../../_theory_nbs_/theory.ipynb\">booleans</a>.<a class=\"ProveItLink\" href=\"../../theory.ipynb\">disjunction</a>.<a class=\"ProveItLink\" href=\"../../theorems.ipynb#destructive_multi_dilemma\">destructive_multi_dilemma</a> theorem\n",
    "========"
   ]
  },
  {
   "cell_type": "code",
   "execution_count": 1,
   "metadata": {},
   "outputs": [],
   "source": [
    "import proveit\n",
    "theory = proveit.Theory() # the theorem's theory"
   ]
  },
  {
   "cell_type": "code",
   "execution_count": 2,
   "metadata": {},
   "outputs": [
    {
     "data": {
      "text/html": [
       "Under these <a href=\"presumptions.txt\">presumptions</a>, we begin our proof of<br><strong id=\"destructive_multi_dilemma\">destructive_multi_dilemma:</strong> <a class=\"ProveItLink\" href=\"../../../__pv_it/theorems/b0bd3dcb06df799405b22e5d6558f882508e32240/expr.ipynb\"><img src=\"data:image/png;base64,iVBORw0KGgoAAAANSUhEUgAAAwUAAAAZBAMAAACSt583AAAAMFBMVEX///8QEBCIiIhmZma6urrM\n",
       "zMxUVFQiIiJERETc3Nzu7u6qqqp2dnaYmJgyMjIAAAAcRTyBAAAAAXRSTlMAQObYZgAAB3lJREFU\n",
       "aN7tWm+IVFUUP743/+e93f1QZtmHISOtUCe23NbdcERq/SKOBmlkOVjSulAOBC7+iUYInNXMgWBd\n",
       "hHRFUNsPOWAkgsHEBslqMhiZpK4r6geDSFrdTLG65/5597737ptdiY1ivXBn7j1z3rm/e373nvvn\n",
       "DUDNFOlcD/fTeKa2zsooGtH7ThrvFM/d56BW+pRnX0qWxurhasAPaIFaIRwMoeBCMAd1+GVXJyQF\n",
       "iQLLPNlrRxrbP2TlNWM0cVAWz/z15pxixqmu4ZlwcALrPwdzYJXJV13vhOSgrsSySJMIH/OytPg5\n",
       "foRpMet7TpFfU8RTAMybTu1zngkHPfhVCOaA/tYzMUPR9zyLtJKEg8VpWrRSuGNBN9sp/07Gkdtp\n",
       "hZm7AKFhp4oWMBMOcIjTsR60HuAcOTExOVjPs0izyZy4yFyeaECv4nIa9ccIKY8qs8j4g3Dymwx0\n",
       "DSwTDuyBvr6dtdbk8319n+Un5o4lz7KTNhOvPcRdfkVEmgWaJx256tkYcfjeDbJ+hWXcF90qFjfV\n",
       "4qC+WNxSmZAcGGmWnTQCsKyDl/vx4zDJXZonHfk0RVifg/A6ZdL0s4wcrNabcTggwS1WGvf++lrI\n",
       "BoxNjSw8TphiVZaddkYuzNgoKoPcPeGC3m1Mvl1dTd45vUUN+oMsIwcLIDFUi4NQmm0CgphwEbhw\n",
       "uL9doxYgJinEFyifvS/0gOSMlHCSGZ9otHa7xoIxWma5qZOkTSyg7yUeW44/HqEzJQWRjG4GCTmh\n",
       "zMSn8TBMVpPEZEXpCMvIQRQMz+5/WWvGmCzPaHmYScsXda2BfcNVawCrQaPkFQ/OamphbvNut4U9\n",
       "U+u7iJQqcJr9oppwPKCDdCdlWKapmwV04w683ERHNV1X83x8eg8WQv6AchjejKu6MhFWsow/WVX1\n",
       "MJw41lhNFgZgruTgO6DrUmKe9qC2765aM3OQvO1XcomxCcOKn8tKDsIVn71EDrA9p01WWSGBKnD2\n",
       "+0U14XhAB+l6OSABHQyysWlzOICWgC2jkKscjCAHKS0H8aFXlIfPHu2D5GlTzHnkYDfdaoF1IK1r\n",
       "beA91/RNgamJbC4xNmEYMFCVHESyfnvX4HH1MoVVVsvttQKHn6NUUbJaA44HdJCuiEWCAzweRG5w\n",
       "DugH7Ab9llHIN0oO8HgAa5WZ2sYy7WLXW2QivrB0mvFEFoM/wfTaqymFg1g3fXBpTLf6hFNFtXoo\n",
       "C7M0Z2pVTJswjND5kuQgqrE3E3+TEYlVZI9VODyYuhCuqQHHAzpI17Umd7PjwcoCd/8gU3k9pV/O\n",
       "uXy75ABXk/Atx9OuNRkOk47Z86uTOowcux1KZgd+UDhI0vgHOZPodfgCNDSp1cUzZxCTEW+/mZgP\n",
       "Wuo185mrynqw022PPv8lWBnsuRj3WFF26xSOGMg5F0KrSNKlTDAcBbRXV01WmmWx+bpEBtCUXs5B\n",
       "K5O+zWwfIjMo8ScvKPJ+uc2rI6vJ/K2Op5mFVs5BPaFs13Soz5gV2Mc4sETTdIDSs51dNq7Dike8\n",
       "HJyD2Wr1FMB0CH/t7TQVi1hMOTCgWVkPFgIcJ74YYvbY8wvxuqxZvT9rhlCBOu1jDsfZXBU0CKdl\n",
       "AuF4QCu67j1bnmWe3sU7t7IIQ2wIwWXuJ3TkOlGQ8jbJ+68jje3bpKeZhaucAxshroIlGPuWkR6m\n",
       "ktl4Na9w8BO9Ymo9TlasDd4NwOWTO9QefgSwp+w/vjMx33VhE4SDSkpy8BIf29weff4NgG8SysjE\n",
       "SijHxzGHI8bokAbh/o4gOF7Qqm7NuwolkCe4g3YFbOq5POrf3XFPUwuY5ZL3IMyAPWHsHc4DeDEF\n",
       "nkA9F+I3/RyYvbAna7dceO4YW1XvkDld8nNAxVwtwudBJS05WC44oPbY84SXg6ZyUsMKPxBFOBzR\n",
       "MKPGQWg0kjRnbiAcFbRHV+mK5s5O4cBKjemYZ/v3MdzT6p0dXzOuE37OWmDRG78M2BUPByGyNt2l\n",
       "PezpjW8VH7CIhLJqchZMTVaASOK3If4ova6SOo6Yq9EmDAtOViQHBwQH1B5z2nkC8Qw4hmiFj74I\n",
       "h8MtErREQSKEPpIew15p4HhAe3SFVJ75NCfTI+LuegzJdxgUnlbvrrmLc2Qv2D0AsA15voLucHOw\n",
       "owA9v1exh0vK4YdhSQk/yrFbEN/xPqxO5M0MhKfCt8ON7RnaaVJhOiUpZmq0iR9PPf+LsibzkVri\n",
       "9mj1WeJyMq5FY7TC52FcwOEWzQxpRCIUG3ItHA9or66U+t/h8PTJB6tqXe8EvsPxeLqLM+R/l2mQ\n",
       "YO2+q3Al7KEMmqKUT6ajSRLDnKd6lYoscTVXE4wDwx2IKQcY411BBCtPu+Fwi3VKIxv890puOB7Q\n",
       "Hl0pxRT4LtP+x+8y0YJdgnt/n7x0uKy8ShWlRM7IRJ4EOCqWyNktsiJLQs29kWZfrsFGn09qwcfc\n",
       "iyu3+JVsBBF6TwMuOF7QoLX4b96Q3yMHlEBNSV4naCo130Vzpy7yXyfor/h0xhLpURpRQdj/ubcU\n",
       "o3Iw3v8vMt2jU6an9PpHdbeUvf/jlxRtnbm/AUFRZf7BLUtNAAAAAElFTkSuQmCC\n",
       "\" style=\"display:inline;vertical-align:middle;\" /></a><br>(see <a class=\"ProveItLink\" href=\"../../../__pv_it/theorems/073b92ccb99bab58e3759591096142abd73bd6600/dependencies.ipynb\">dependencies</a>)<br>"
      ],
      "text/plain": [
       "destructive_multi_dilemma: forall_{m in Natural} [forall_{A_{1}, ..A_{_a}.., A_{m}, B_{1}, ..B_{_a}.., B_{m} in BOOLEAN | [not](A_{1}) or ..[not](A_{i}).. or [not](A_{m}), A_{1} => B_{1}, ..A_{i} => B_{i}.., A_{m} => B_{m}} ([not](B_{1}) or ..[not](B_{i}).. or [not](B_{m}))]"
      ]
     },
     "execution_count": 2,
     "metadata": {},
     "output_type": "execute_result"
    }
   ],
   "source": [
    "%proving destructive_multi_dilemma"
   ]
  },
  {
   "cell_type": "code",
   "execution_count": null,
   "metadata": {},
   "outputs": [],
   "source": []
  }
 ],
 "metadata": {
  "kernelspec": {
   "display_name": "Python 3",
   "language": "python",
   "name": "python3"
  }
 },
 "nbformat": 4,
 "nbformat_minor": 0
}