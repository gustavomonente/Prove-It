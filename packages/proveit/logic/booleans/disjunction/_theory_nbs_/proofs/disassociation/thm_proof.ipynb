{
 "cells": [
  {
   "cell_type": "markdown",
   "metadata": {},
   "source": [
    "Proof of <a class=\"ProveItLink\" href=\"../../../../../../_theory_nbs_/theory.ipynb\">proveit</a>.<a class=\"ProveItLink\" href=\"../../../../../_theory_nbs_/theory.ipynb\">logic</a>.<a class=\"ProveItLink\" href=\"../../../../_theory_nbs_/theory.ipynb\">booleans</a>.<a class=\"ProveItLink\" href=\"../../theory.ipynb\">disjunction</a>.<a class=\"ProveItLink\" href=\"../../theorems.ipynb#disassociation\">disassociation</a> theorem\n",
    "========"
   ]
  },
  {
   "cell_type": "code",
   "execution_count": 1,
   "metadata": {},
   "outputs": [],
   "source": [
    "import proveit\n",
    "theory = proveit.Theory() # the theorem's theory"
   ]
  },
  {
   "cell_type": "code",
   "execution_count": 2,
   "metadata": {},
   "outputs": [
    {
     "data": {
      "text/html": [
       "Under these <a href=\"presumptions.txt\">presumptions</a>, we begin our proof of<br><strong id=\"disassociation\">disassociation:</strong> <a class=\"ProveItLink\" href=\"../../../__pv_it/theorems/71c836f7251f13d302541df138937646061eabe40/expr.ipynb\"><img src=\"data:image/png;base64,iVBORw0KGgoAAAANSUhEUgAAA2cAAAAyBAMAAAAqzr6PAAAAMFBMVEX///8QEBCIiIhmZma6urrM\n",
       "zMxUVFQiIiJERETc3Nzu7u6qqqp2dnaYmJgyMjIAAAAcRTyBAAAAAXRSTlMAQObYZgAADFpJREFU\n",
       "eNrtXH+MFNUd/+7s79ndO/6oFGtpV0zwaIRbcxaonGGJiTZtGvcw1f5hvQ0nLZBatsEQxSKLrXBo\n",
       "Dds2UcTqLdognhXWkguSYNz26C9U2IhtSQU5izbBpOXCj4OD4vX9nvdm3rCz9JK74XzJzr557/O+\n",
       "8+Z95v36zmcXwHsIjIxUYVyEvTDxwlb6lRwZmdRIscDuZ8rjov7J6gQkLTRAvsxnnm2MtNw4qf90\n",
       "mIjhA/Yd9iVpCavWz42a0f/bUqI0ineosxWr+pm0LVkeM4v0NgYaM3CvMwlbSi0falvyU+9m/jbS\n",
       "Nbtb1AWWOmy2dN0f9z6Sy/CluvzP+Zm0n4hYE30imwZ5QpgcnfXMWZkonHCiiaUAYm5+TlsEdFeY\n",
       "AhA8I3K227OvrUHixprnisnw7br7fs3HpCXOi+hBNtqLlAiuYirtKLMYH95lJ6kTZQeaWOpETXZH\n",
       "RlfEClKZ8EW0PDhlLY/Sava2Vegwv+S1Ygo8mdbceLTqX9KiGRF9iI4bO4dFP8hjgHONexc+rGIn\n",
       "r/CmkdDEUitKP5rWFZF6mlXGQJdNnbSGr0lq9of4uMBzxRS4qSMmMexf0o6KWTpeoD3HOC0yj6PP\n",
       "rc4yePQLcbJrrVk7mlpai1rr82VdESlYV4ih1tsi0fqRkh28gI93eq2YDf6R7s5X+Je0B0XMoG36\n",
       "jcRFkbQTfTZoHlKEjDGyQ+U3a3Y0tTQEcPcyXRE5WFdozkN4pdR5+pXsHvIcvOy1YjZ4v/ZxLfuV\n",
       "tLDVrWKk8c1sGI9R36FjJwIUNaUKHADwa+hMg7lcQRNL4aEjLQ8LS3IRZXQWV+i8/931FftGSmQf\n",
       "YOMsA9er2IG0c1O2/z84HBOJO9J+JS1o1TlKmiwEcbQauHMO7XxpiGQ1paYB3MeiWehBj/ftCppY\n",
       "wnPUljy3JBeRg3UFNAWak6WcXUr2Gtpa4baCp4qtURt3l+7Wmwb8Slogb0VJK9zVNvscMBbALOiX\n",
       "yy+ByTZz4a625UU2/gg0sYTnKOMCtyQVUbdL4gprMXFSV+tUsr9MxrIyhAqeKsbhsi3H8zLsV9I6\n",
       "azbS0OFLgjSYB29p+2clyZo3hMqhZnpSQRNLaI4C46SwZBVRg7jCECYtbSNNZK8hU1aOk1avYhx+\n",
       "KdLiF/1KWmtJHR4T6PMji7TnoaC934Eoi6EyUXTbwwqaWMKPQ+S0sGQVUQMvg7dpsDybumXhdcb0\n",
       "nKgBzyb7iiQI0upUjMGxNeC26Jz2Lws82a+krQV1IfIsc3Gwpo59N60t9hjbJ8crxIPC7pyjiSX8\n",
       "OHQWhSVRxO4DZGXwYBU+B6kFtcAyI88XDyK7B3/ts0irUzEGx9ZKYHmH1bDer6RNsaLJDNthbSyJ\n",
       "pg5/n84LO9AQaH7KInjmYxuqp3H7DYNRVNDYEnyIWnhK2SKNFbFb4mWaUOMteBw2Xw/N2SB2VrQr\n",
       "2XgfsrNskcbSLUtqxRgcWysLW/ZwgJFGSh7xSloT2czWxpAz0/Ib4fYwN35ahtdHVlhNzVbIUfzs\n",
       "r+QR1MR0T7dt5BNIbDybiaUVNG7ZH2L/b8Xqs7yI3RIrEzkx1LbkCRRZBB10eP1YMQkvruvKgkUa\n",
       "TxeW1Ipx+CLqFflY71fIUdLI7PiJV9LIpNlUHstt2knp5CEpzpt6s75cXK104NsqWmcp7nKftitc\n",
       "BS3QEybrQ122IM1bxa6CdsmWfRGWpqRtwuWKXkkjyE1j6i6+IJ0crLezcQ3Nhnp++Zbig6h3HEq6\n",
       "OHlRhQsNWnugz9XWjgwlDXcb/dJWO6fhPvnWWJKWOiOvCayV5C/XLGpoi26TmVy+pVAejsNT+1xe\n",
       "p0B8zlC6MWs31NxskU0JJi21r7f3ae8LkcO9vS8XxpI0Y1ie4IqjZXYULG0Yxbt0sdVcZKvHc93d\n",
       "P/ZOWnN39/rqWJKWPC+fjSO5QWoU5QZutrBXgJC2GPNK/aceSIvk2EgSK136Efn6qf4lGog9ObWu\n",
       "3dDADnVVZ7iMa+dh4oZAgZF2K3F+3e62WFuxF67NW6SFMmy8PZrVPiLCBZ+aBEnNLtCWHP8nmGs1\n",
       "Toc0bJNQH8yaM4/HI4MTmLToJEZaFIyay/ubV/pvgdeT5WBZ2lwXYCaZA+ZrN2svijdbwbysCwCX\n",
       "5B5E/SHn5I2oT7FJxtzTVjOS8fdzn5EmkZasYefXk7pu88TmMryRziRlj8g71IWWfCmjs7pvhbCf\n",
       "huCA5rJqMp5NFzpBaNYMszXXod29YBiwr/bZ8Igahg+P8QGsU8BrMsv1Sd2W5O14X98vFNKeJ2oH\n",
       "WBjTLbfC6W6xpcjBLM3mVE02MAO9DlArQpgURV7FG0boMJ/4ksMTeU7jCxHYcB+LWK5P6rYkPaIv\n",
       "+eo9Mmmxp8hklg8i0pfZjUZgDsRXk+gdM1uQpYidN5osnhzKvB1lCQqo38wI3ijcOsYZ/XaodkWx\n",
       "46J8DeQ5aTtR8xP/qeX6JG5LkwyAfVDtl0lLkPe6qYoxCPd8wW70fWgFeIxE9wNcD+Hf2Ukjyda+\n",
       "g+weHKj/SpMkIcqAr+UcSx0lbKNf9zboE9MM4DYJat3V+aUUri+sm137lffqSPCl+n1ahpPWjGYP\n",
       "6j8Vrk/itgw/2N39KCLtuahMGhDf3/b2P593CszMY29vLANd9v0MrTIqTtEYTZYnL7PmQOGZ7lUa\n",
       "vbu7uzuNSKtyt0JCT9px+nVCJHjQmkoqVxktS1A9aEwVhauaZUxFXWKq5wrJcL1LZEeVk5Yqc/8p\n",
       "d30yt2We9rTQQoW0f+DDzRA/4yQNLTN7csyReQENhSUnaSQ5Ne/IV/dgY8EieU9oR81FnyocfOMw\n",
       "HnBpT6vydU/4ovZ5p9lChupFawqSylVCKxJUD+JXReGqZJnrUW2Cw14rpMD1zkfuMGb9zoBNZe76\n",
       "JLEH+uAPOOc9gMMKaWR5gCp6kZCGsI/zA3wLGaqlqoDO4uch/kVCh5UvkhOz4JpEFZdYDeZfnKho\n",
       "DX5Tgt8WURdP4msaSXhbuGFOaZdVdA4QMlQvWlNZ5SqhFQmqB/GronBVsprw9BGa5LVCClyrVoU3\n",
       "KzJpwb3QUeGuTxK7oQYxBAk9kqVPu0LaxiJsOlvDVeiohK+GjhI+VGLnIL5xdTAL4WvgT6falmRJ\n",
       "bdAJzS9ZyYvNAoJ1VCDZ9fuyEwV/bP8Kfgaxtgy/sfr7/rn/FhV/RHc3zHtqyVA9aE1llauEViWo\n",
       "9cWvisJVyZpPmjjjtUIqXKtWPVAC25vriiPWguY0mxtLCat0paIJqtugJ2XpxIoVEhkMq1wSFYWZ\n",
       "iAIDzWnKRefr7uY6OgBYMlQPWlNZ5SqhVQlqffGronCVs+JnSZcpeayQDa71dhBno0yatcp0+6WV\n",
       "nbSFpyqaUskZALt532+dZ51YMTNvZCMzRAkX1FbYo1vHH9Xs/phvgMhQuSa0rtaUqVy3DqpoJkH1\n",
       "qDEVCldnVpKPsd7Er8mTSrJWJDLFTlpKE7s0ae6llMau6ZNt13FFOSZj3cs/2mxEhsrVoXW1pkzl\n",
       "St8sW2gqQfWqMeUKV01WlC1BPYpfo+oGVPcmNn7STpo3L/848ArkNYnk93ZMhsre79fVmjKVK9H0\n",
       "SGgmQfWoMRUKV2dWgCxNTa/iVwFnz6aOX9+KVYODbqQxGSpr7rpaU6ZypT8IsNBMgupRYyoUrs6s\n",
       "6CDdMnkUvwq4O2mxgl9JC512Gx6ZDJU1dz2tKVe5NpcUNJOgetWYcoXrwb9Oy0xbrGTRLVfVq/iV\n",
       "w7El0L8ra077lTRY4bIQYTJU0dx1tKZc5dqhopkE1avGlCtc35sKk8vTlSwyAyXLXsWvHI4sXe2y\n",
       "EGkt+5Y03fKxH4QMVTQ3U4EKdSiJWGJSrnJtUdBcguqqMWVWBJ4qXOMvFOA0V5jyLLT/SNwMnsWv\n",
       "FI4t4dlNp1alP9HxJWmBqjPtdkuGKpqbq0CFOnQlPaeiUaFyfVRBCwmqq8Z0pYLnCtdIGrXlw+qF\n",
       "zbnfuwnAq/iVwyNp4hXRqFX9/PNd3QvxqLS15M3tVWua06Ib1JgGckYxPqg31Zj4NZALVnNatSoj\n",
       "3Z9/SXHM1WFMSW1M4jeon7MatNKDekiqWNXm7WrQUvSbOa3D+LWyj0n7uaYelqupQXUotGe1HalB\n",
       "K7dBUyn+A21XalD8ehsY72hfzfj7z190nWAbXFlB4++MZPxMGszW9IwrS26gU6ty1VrYn38dGEnD\n",
       "xAuX+9eB4+ZPOm+agKRtpR0G/0nn/wCKcQ5wWqFT0wAAAABJRU5ErkJggg==\n",
       "\" style=\"display:inline;vertical-align:middle;\" /></a><br>(see <a class=\"ProveItLink\" href=\"../../../__pv_it/theorems/64afaf018495ec1c098b42097ec068f9f928334d0/dependencies.ipynb\">dependencies</a>)<br>"
      ],
      "text/plain": [
       "disassociation: forall_{l, m, n in Natural} [forall_{A_{1}, ..A_{_a}.., A_{l}, B_{1}, ..B_{_a}.., B_{m}, C_{1}, ..C_{_a}.., C_{n} in BOOLEAN} ((A_{1} or ..A_{_a}.. or A_{l} or (B_{1} or ..B_{_a}.. or B_{m}) or C_{1} or ..C_{_a}.. or C_{n}) =  \\\\ (A_{1} or ..A_{_a}.. or A_{l} or B_{1} or ..B_{_a}.. or B_{m} or C_{1} or ..C_{_a}.. or C_{n}))]"
      ]
     },
     "execution_count": 2,
     "metadata": {},
     "output_type": "execute_result"
    }
   ],
   "source": [
    "%proving disassociation"
   ]
  },
  {
   "cell_type": "code",
   "execution_count": null,
   "metadata": {},
   "outputs": [],
   "source": []
  }
 ],
 "metadata": {
  "kernelspec": {
   "display_name": "Python 3",
   "language": "python",
   "name": "python3"
  }
 },
 "nbformat": 4,
 "nbformat_minor": 0
}