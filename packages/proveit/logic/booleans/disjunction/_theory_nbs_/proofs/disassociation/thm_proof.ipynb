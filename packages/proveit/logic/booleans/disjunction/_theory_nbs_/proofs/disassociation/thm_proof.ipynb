{
 "cells": [
  {
   "cell_type": "markdown",
   "metadata": {},
   "source": [
    "Proof of <a class=\"ProveItLink\" href=\"../../../../../../_theory_nbs_/theory.ipynb\">proveit</a>.<a class=\"ProveItLink\" href=\"../../../../../_theory_nbs_/theory.ipynb\">logic</a>.<a class=\"ProveItLink\" href=\"../../../../_theory_nbs_/theory.ipynb\">booleans</a>.<a class=\"ProveItLink\" href=\"../../theory.ipynb\">disjunction</a>.<a class=\"ProveItLink\" href=\"../../theorems.ipynb#disassociation\">disassociation</a> theorem\n",
    "========"
   ]
  },
  {
   "cell_type": "code",
   "execution_count": 1,
   "metadata": {},
   "outputs": [],
   "source": [
    "import proveit\n",
    "theory = proveit.Theory() # the theorem's theory"
   ]
  },
  {
   "cell_type": "code",
   "execution_count": 2,
   "metadata": {},
   "outputs": [
    {
     "data": {
      "text/html": [
       "Under these <a href=\"presumptions.txt\">presumptions</a>, we begin our proof of<br><strong id=\"disassociation\">disassociation:</strong> <a class=\"ProveItLink\" href=\"../../../__pv_it/theorems/13f77bc7730515f3ab76b5d1772268f6fd400f160/expr.ipynb\"><img src=\"data:image/png;base64,iVBORw0KGgoAAAANSUhEUgAAA3wAAAAyBAMAAAD1gMSQAAAAMFBMVEX///8QEBCIiIhmZma6urrM\n",
       "zMxUVFQiIiJERETc3Nzu7u6qqqp2dnaYmJgyMjIAAAAcRTyBAAAAAXRSTlMAQObYZgAACrlJREFU\n",
       "eNrtXHtsHMUZ/7z38u7t2fmnPEJDj1QKTtXEh0yTlBj5IqRStaKcXTX0D1qfYtKmUdtclYpCSsil\n",
       "LcmlgHxtJQhpwQtUJTEFrrUsiBTEtUlf5pEToWpU8jBN+QOkgvEjiW2COzO7M7uzO3u+y60fSzzS\n",
       "3c1++83vxvOb57c/H0DlqW5qqgjzIh2BSzkpaf3z6NQH1RSrO/iINi/qrxYvafrgK/rHgUf+UBV9\n",
       "qXlS/WWXNnsQGzQy7X6kL7qIv37UM+SakaJ5D/9Md6wH/Ezf40l+KciSj9BgdSjfFCwqCCm25WzL\n",
       "pp9VMRJ4/+84MJu6vidXMdk/sWtV6TcuWI4W8CV9P+UvG/Re2jBEDSHy7qwsb3+fmlPsHkGqQxy2\n",
       "pRz3XJE4f3jWXuyaEkSvK5WvmMVdWgLQt8SKVW7+8SN90Qn++pj+cYqZw7iesbijIGePvU+3YRvx\n",
       "2+sMqRO19a0Jxz1XJM4f1DhfbP829NaWL18x013ZjWoVGLdiCdM9/qUvkuCv79Ynqb5xNjbwxjri\n",
       "3CRz9qdpm8J6/LaNITUj++m4454rEucPyiK+2FvYad00FTPdGxajt+AiK5YwvZT3LX2n+SVdzuij\n",
       "SRplpnfQ6yZBSau91Jy0TL7BBEPaidrtcs1+zx2J8wf4L1csMIkvvzpNxcxvaStglhNWrHJd2I/0\n",
       "3cVfSvpf8qXoBWbqQ689gpIWe1B7qUQnYwRQn2dIZwFu2wz2e+5InD/AYa5YD+kRB6apGHOXz5FR\n",
       "l7diiTdME36lLzTKX9cTGpRkaBh9fF3vm8grK+qzpv230BkHZQvJZ4xyBCl09mTTjxkSu+eKRP1p\n",
       "OsUVO2rMqoazW8WouzrMmQmW+h5J/BSgDPuVvoBtRYgUyGgCeQTNUqv1ARmHcFJQ1GJPQg9qkJtJ\n",
       "finAHQxJQkvo42mKxO65Ihn+LD3PFduhN1moJVO2YqwGY5z5efdWeM+v9NWlbdekPda3rDoPlA8l\n",
       "I950m/ZQV8uWLJ2dngJlkCHVo94hTVIkds8VifrT1MkV+xRZFDUIZspWjNWAzIkKjyVMzXmf0tdZ\n",
       "EtGH3q5m9MFaeFlYltmDqBxqsAf18VxQCwypEfUOaZgh0XuuSNSfb3JabAdZ2lKUPreKUfcIObv2\n",
       "V0BfT8mn9DXnBZNnFL1+YNL3GGSEZZkdlYmgYaOfNeTBiImEe0d4lCHRe65Ihv+xfy5NLN3IakCL\n",
       "kdOJCow+l4pRd/3EVyRoFMtY+9KiOciH9O0Ewdbl10YYxWj0+m+IT7zULhdIlCZkLKP3vW4i4d7R\n",
       "mWVI9J4bEvV/Ywlcpi1jWxdarAd7DZj0uVXMcJfxMFY1jHaliSX8/oxP6bvCdq0mjBNbd541eujb\n",
       "+kHsOTRBKh8ZGYv9YdwA4yAZu8D12xgSvIXa+grNpM+4RwAYnIlk+MtPZGAUWtF1K1cMn2b6NJM+\n",
       "t4oZ7oBOM9EbAKNNmFiipA7p9JHiJyulr4EcOkpzyJ4yYjOgllG6P9LghamtZqOfMSZWPMXcSTPM\n",
       "vn/qXYh2n0vUG0OhIUGR4PtTXatyBXMc03sEgMGZ30D9w3E0lPEB4m2uGDy5qysJJn1uFaPuyppv\n",
       "XY+ja3ESeXnbvRliYzp9ZCl9t1L6yArboM3lsW/YbrnbkqeNvs+lNG+v+5qx9GjuSLJWCRJqGykr\n",
       "D6Xw3lJUjNHnUjGbe10qUDSx3JuhHfbiwtlK6SOee+dy7oxO2i3HKjspCVKj5BUS9KARE8sW3cLM\n",
       "0UyVaJEvp8qFrI1JqJ0MJfHeWLj24XH68lzSFxtzrOLmVvRXOzZUFQE44hUSfAEa8vJ3NZeHPPLq\n",
       "s/Hq0KRXyz0w0mN1mL7YQG/vw5VvXU709h7IzCV90rijI2a9wvYAaY+Hf2pZrPPGzvN8LndP5fQ1\n",
       "5nK7i3NJnzrhMM0jsUTMQ7FEeayrDfo2YpqN4O309IVTxhRTny/fY744cniTwMVuju1qlQRux7uK\n",
       "y10mvAlYSChdbtB3E4m33ey2w9l6BK5Jm/QFE8aUfDop7DHscUBsEaiCx402s/wfUHYKYhpx2G/x\n",
       "OrVy9VqaDw8tUAdGjAnTFwGp5PJo6enDN8ILqhbQLMf2DKwgy0Sb8PD3JHvoFkg7VA0Ccw/qBMed\n",
       "Kz3qBDFjHVIOtZQkVX4ztUCfkD61hONtD4qG0v37NHgxnlCtUZdX9aid+lRCBDqwleYicQgMOh1s\n",
       "Zrzqdjid0OoaMrZqxw/2giTBQGlh8uTSjwz65EEstcD7udiNHZ+WlqWMnPFYv7//lxx9jxHBBnTU\n",
       "i3ZpoXiOZp9LwUrBiZc3S5iLXodTM/JQdC+iIZCk4Am6QKrjC9RZty6w5w7Qg7exdaW6zVLayOX1\n",
       "eFq/+sztVvrqHyKLXjqABuFmO2YYVoO8nWRvXdGEkMJ2BnUzG2Z6H7B7WeQQJEonBa5j8SNpbAZ3\n",
       "nvMiVSb1vYzS14eIIMHbfddCYzJQNHKaQqbHfigettIXJY+hYwVpCG5fbMd8E5oB7iPZ1wCuhdCf\n",
       "7PQRsxn2IGcQh9eHlsWUUCbB51OOzZHttOaBTLdGiS5fq5mQ51rSCKWvEa0yevB2A7rWtQcbYB2E\n",
       "7srlfoLoezRipQ9IsO3Z1r9POBV0yplXujXQt4wPoH1JwamK083WRU4pObzwiviMnr0tl8vFEX1F\n",
       "GrWIOujzTqZbo0R35uW5lqb+kNIX02jw9hPQBD0hPdcagrQ++oIdHH3/xm83gDzmpA9tUXtSRgB1\n",
       "Ek2UeSd9xBxbe/JzhzBYIEseZtq91gB5ZvniCTwd66OvSHdKoQv2v8Q7mW6NEt1ZkOeanWiY0kdm\n",
       "MQn2avIQGnXHVT33w374C77zBsAJjj6yoUDVvkDoQ74/p29wCwIqxYqAruQJkD9JiDHvM3N0JVwV\n",
       "LeIS20H5h9MrUoLf5+GPWTTsVfydkgqvFLlZw5q8k+nWKNGdBXmuuUBOWukLHIH2QjAN78BDA3ru\n",
       "syWoR7Nc8N6kPgI4+rqzsPdcCX9zeyF0JbTn8Vuh/jzI3dsDSQhdBX8badmUJHVGF/r9vGneqGSQ\n",
       "W3sB1K4/a04v+GvrZ3CfxeK5+9HrX6+t+R+r+L32Q6JnMt2aJbozL881Y4fjVvpwKjhyTWjtswXN\n",
       "uLRNVCoS1aUn+oVmuTBzmWgCuxXKekVgBWphCa193Je22SrhnUy3ZonuzMtzgQ8+tYv2q247Vzt9\n",
       "HSMFQSl1OcBBOms0rzUvzJySlpLh5ayEi9fv4JAosnPaNgl5J9OtWaLrqTx3mvhz1kZfTJArT597\n",
       "Ka7ZS2Kz7Xtcveyp0/Zw0juZbs0S3VmQ57JoY9w+eU7P+MdcpluzRHcW5LksMOVXmW5gSERf0gOZ\n",
       "bs0S3VmQ59K0G3xKX3BUMHl6ItOtWaLrqTy3fPLtv6jAVsHWxROZbs0SXZh5ea411u/Tf8/kt57e\n",
       "yXRrlujCdPJcAlCTPJffAPiRvjo+EOydTLdmiS5MK8+9E6A2ea6RfPzP0faH+N7JdO0oVUp0BUU8\n",
       "l+fyvcGXPwxyRhiyrvTEZEl2me7FoTCJrqireS3PNWAX+5i+X/D18E6me3EoTKIrGFzey3NJ8vXP\n",
       "8ti6tHcy3XmSppf6doGP6YNV/OXHTCwxvdSXqvCqpG++/CBkOA6XdLrIH4ScNz/Hev0lzZ5iPKM6\n",
       "OvXB/wE6HxytDTNXkwAAAABJRU5ErkJggg==\n",
       "\" style=\"display:inline;vertical-align:middle;\" /></a><br>(see <a class=\"ProveItLink\" href=\"../../../__pv_it/theorems/81bc7bba66e96879a107ab6e8aea3fab976f5df20/dependencies.ipynb\">dependencies</a>)<br>"
      ],
      "text/plain": [
       "disassociation: forall_{l, m, n in Natural} [forall_{A_{1}, ..A_{_a}.., A_{l}, B_{1}, ..B_{_a}.., B_{m}, C_{1}, ..C_{_a}.., C_{n} in BOOLEAN} ((A_{1} or ..A_{_a}.. or A_{l} or (B_{1} or ..B_{_a}.. or B_{m}) or C_{1} or ..C_{_a}.. or C_{n}) =  \\\\ (A_{1} or ..A_{_a}.. or A_{l} or B_{1} or ..B_{_a}.. or B_{m} or C_{1} or ..C_{_a}.. or C_{n}))]"
      ]
     },
     "execution_count": 2,
     "metadata": {},
     "output_type": "execute_result"
    }
   ],
   "source": [
    "%proving disassociation"
   ]
  },
  {
   "cell_type": "code",
   "execution_count": null,
   "metadata": {},
   "outputs": [],
   "source": []
  }
 ],
 "metadata": {
  "kernelspec": {
   "display_name": "Python 3",
   "language": "python",
   "name": "python3"
  }
 },
 "nbformat": 4,
 "nbformat_minor": 0
}