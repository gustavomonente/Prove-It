{
 "cells": [
  {
   "cell_type": "markdown",
   "metadata": {},
   "source": [
    "Theory of <a class=\"ProveItLink\" href=\"../../../../_theory_nbs_/theory.ipynb\">proveit</a>.<a class=\"ProveItLink\" href=\"../../../_theory_nbs_/theory.ipynb\">logic</a>.<a class=\"ProveItLink\" href=\"../../_theory_nbs_/theory.ipynb\">booleans</a>.disjunction\n",
    "========\n",
    "\n",
    "Theory for the disjunction operation `Or` ($\\lor$).  `Or` may operate on any number of Boolean operands and only evaluates to `FALSE` if all of the operands are `FALSE`.  If any operand is `TRUE` then the `Or` operation evaluates to `TRUE`.  The operation is only defined when all of the operands are Boolean; therefore, if the evaluation of the `Or` operation is a Boolean, all of the operands must be Boolean values."
   ]
  },
  {
   "cell_type": "code",
   "execution_count": 1,
   "metadata": {},
   "outputs": [
    {
     "data": {
      "text/html": [
       "<h3>Local content of this theory</h3>"
      ],
      "text/plain": [
       "<IPython.core.display.HTML object>"
      ]
     },
     "metadata": {},
     "output_type": "display_data"
    },
    {
     "data": {
      "text/html": [
       "<table><tr>\n",
       "<th><a class=\"ProveItLink\" href=\"common.ipynb\">common expressions</a></th>\n",
       "<th><a class=\"ProveItLink\" href=\"axioms.ipynb\">axioms</a></th>\n",
       "<th><a class=\"ProveItLink\" href=\"theorems.ipynb\">theorems</a></th>\n",
       "<th><a class=\"ProveItLink\" href=\"demonstrations.ipynb\">demonstrations</a></th>\n",
       "</tr></table>\n",
       "<h3>Sub-theories</h3>\n"
      ],
      "text/plain": [
       "<IPython.core.display.HTML object>"
      ]
     },
     "metadata": {},
     "output_type": "display_data"
    },
    {
     "data": {
      "text/html": [
       "<h3>All axioms contained within this theory</h3>"
      ],
      "text/plain": [
       "<IPython.core.display.HTML object>"
      ]
     },
     "metadata": {},
     "output_type": "display_data"
    },
    {
     "data": {
      "text/html": [
       "<dt><a class=\"ProveItLink\" href=\"axioms.ipynb#or_t_t\">proveit.logic.booleans.disjunction.or_t_t</a></dt><dd><a class=\"ProveItLink\" href=\"../__pv_it/axioms/8bf93f13ef4fd3c78d6cdf517a066f1935c37da50/expr.ipynb\"><img src=\"data:image/png;base64,iVBORw0KGgoAAAANSUhEUgAAAHAAAAAUBAMAAACnq6Q0AAAAMFBMVEX////MzMxUVFR2dna6uroQ\n",
       "EBCqqqqIiIgiIiJmZmYyMjJERETu7u6YmJjc3NwAAACgK8IjAAAAAXRSTlMAQObYZgAAAQpJREFU\n",
       "OMtjYOC7wIAH5OGWOs3A2QEGCsiiM8BCTQxMD9DVw2QY1oF4bAUQUQEQwQhhp4MIngVY7ALL8E5A\n",
       "1qgIIq4jSTOY49LI8QBZoxCI6EHWeBSXxhcMyBq5gMawTEDWyOWAQ2MlikY2oCbuB8gamSfg0LgX\n",
       "RSNDAwODNLI0Ay84dKxWgcBKZJk2VI3lDAwqKBrZGnDYGIKq8QQiAiAaGT8Qp5EzgTmBOI1oTuVb\n",
       "wIEizcDSgPDjIjyBw7DxOgOWwMFioyWaRqEeVI2cBjg0ekAcBM8iXPB484XwBTA1+iKSHALwHUDl\n",
       "n8CVq3gnMOAF5jhl9uHVhzVbwTIyPsD9AKcU/qLjHi4JABqGSPnwNDtcAAAAAElFTkSuQmCC\n",
       "\" style=\"display:inline;vertical-align:middle;\" /></a></dd>"
      ],
      "text/plain": [
       "<IPython.core.display.HTML object>"
      ]
     },
     "metadata": {},
     "output_type": "display_data"
    },
    {
     "data": {
      "text/html": [
       "<dt><a class=\"ProveItLink\" href=\"axioms.ipynb#or_t_f\">proveit.logic.booleans.disjunction.or_t_f</a></dt><dd><a class=\"ProveItLink\" href=\"../__pv_it/axioms/257ff432d8cac3d069379a19b2748921daaea29b0/expr.ipynb\"><img src=\"data:image/png;base64,iVBORw0KGgoAAAANSUhEUgAAAHAAAAAUBAMAAACnq6Q0AAAAMFBMVEX////MzMxUVFR2dna6uroQ\n",
       "EBCqqqqIiIgiIiJmZmYyMjJERETu7u6YmJjc3NwAAACgK8IjAAAAAXRSTlMAQObYZgAAAQ5JREFU\n",
       "OMtjYOC7wIAH5OGWOs3A2QEGCmgSYiCC6QG6+hlgxU0MDOtAPLYCiKgAiGCEsNNBBM8CLHaBZXgn\n",
       "IGtUBBHXkaQZzHFp5HiArFEIRPQgazyKS+MLBmSNXEBjWCYga+RywKGxEkUjG1AT9wNkjcwTcGjc\n",
       "i6KRoYGBQRpZmoEXHDpWq0BgJbJMG6rGcgYGFRSNbA04bAxB1XgCEQEQjYwfiNPImcCcQJxGNKfy\n",
       "LeBAkWZgaUD4cRGewGHYeJ0BS+BgsdESTaNQD6pGTgMcGj0gDoJnEa4JsKQcCk7KXAKYGn0RSQ4B\n",
       "+A6g8k/gylW8ExjwAnOcMvvw6sOarWAZGR/gfoBTCn/RcQ+XBAD2iEiPkqdDlgAAAABJRU5ErkJg\n",
       "gg==\n",
       "\" style=\"display:inline;vertical-align:middle;\" /></a></dd>"
      ],
      "text/plain": [
       "<IPython.core.display.HTML object>"
      ]
     },
     "metadata": {},
     "output_type": "display_data"
    },
    {
     "data": {
      "text/html": [
       "<dt><a class=\"ProveItLink\" href=\"axioms.ipynb#or_f_t\">proveit.logic.booleans.disjunction.or_f_t</a></dt><dd><a class=\"ProveItLink\" href=\"../__pv_it/axioms/5790d0807f6ee5075f9866317c9e0e02edc7e8b80/expr.ipynb\"><img src=\"data:image/png;base64,iVBORw0KGgoAAAANSUhEUgAAAHAAAAAUBAMAAACnq6Q0AAAAMFBMVEX///9UVFTMzMx2dna6uroQ\n",
       "EBCqqqqIiIgiIiJmZmYyMjJERETu7u6YmJjc3NwAAAC+aOQFAAAAAXRSTlMAQObYZgAAAQ1JREFU\n",
       "OMtjYOC7wIAH5OGWOg0imBLQRGd0gEAjA+MDBhwyDOtAPLYCiKgC2BQIOx1E8CzAYhdYhncCskYh\n",
       "EHEdSZrBHJdGjgfIGhVBRA+yxqO4NL5gQNbIBTSGZQKyRi4HHBorUTSyATVxP0DWyDwBh8a9KBoZ\n",
       "GhgYtJGlGXjBoWO1CgRWIsu0oWosZ2AQQdHI1oDDxhBUjScQEQDRyPSBOI2cCcwJxGlEcyrfAg4U\n",
       "aQaWBoQfF+IJHIZN1xmwBA4WGy3RNCr2oGrkNMCh0QMo19HRGtHRIQCJcHi8+UL4CpgafRFJDgH4\n",
       "DqDyT+DKVbwTGPACc5wy+/Dqw5qtkDIyTsD9AKcU/qLjHi4JAP4OSHMxpgrYAAAAAElFTkSuQmCC\n",
       "\" style=\"display:inline;vertical-align:middle;\" /></a></dd>"
      ],
      "text/plain": [
       "<IPython.core.display.HTML object>"
      ]
     },
     "metadata": {},
     "output_type": "display_data"
    },
    {
     "data": {
      "text/html": [
       "<dt><a class=\"ProveItLink\" href=\"axioms.ipynb#or_f_f\">proveit.logic.booleans.disjunction.or_f_f</a></dt><dd><a class=\"ProveItLink\" href=\"../__pv_it/axioms/d0fe79cfc14b52910247c57379e55073cac27fb70/expr.ipynb\"><img src=\"data:image/png;base64,iVBORw0KGgoAAAANSUhEUgAAAHAAAAAUBAMAAACnq6Q0AAAAMFBMVEX///9UVFTMzMx2dna6uroQ\n",
       "EBCqqqqIiIgiIiJmZmYyMjJERETu7u6YmJjc3NwAAAC+aOQFAAAAAXRSTlMAQObYZgAAARFJREFU\n",
       "OMtjYOC7wIAH5OGWOg0imBIwJdRABOMDBhwyDOtABFsBREgBbAqEnQ4ieBZg0QiW4Z2ArFEIRFxH\n",
       "kmYwx6WR4wGyRkUQ0YOs8SgujS8YkDVyAY1hmYCskcsBh8ZKFI1sQE3cD5A1Mk/AoXEvikaGBgYG\n",
       "bWRpBl5w6FitAoGVyDJtqBrLGRhEUDSyNeCwMQRV4wlEBEA0Mn0gTiNnAnMCcRrRnMq3gANFmoGl\n",
       "AeHHhXgCh2HTdQYsgYPFRks0jYo9qBo5DXBo9ADKdXS0RnR0CEAiHBJvMzo6Qjs6GoF8BTRdMBkO\n",
       "tOTPdwCVfwJXruKdwIAXmOOU2YdXH9ZshZSRcQLuBzil8Bcd93BJAABJLUe/77Ia5AAAAABJRU5E\n",
       "rkJggg==\n",
       "\" style=\"display:inline;vertical-align:middle;\" /></a></dd>"
      ],
      "text/plain": [
       "<IPython.core.display.HTML object>"
      ]
     },
     "metadata": {},
     "output_type": "display_data"
    },
    {
     "data": {
      "text/html": [
       "<dt><a class=\"ProveItLink\" href=\"axioms.ipynb#left_in_bool\">proveit.logic.booleans.disjunction.left_in_bool</a></dt><dd><a class=\"ProveItLink\" href=\"../__pv_it/axioms/9877b39fee12b8748af82b0311f7b4cb424b7da50/expr.ipynb\"><img src=\"data:image/png;base64,iVBORw0KGgoAAAANSUhEUgAAANQAAAAWBAMAAABK0K+UAAAAMFBMVEX///8QEBCIiIhmZma6urrM\n",
       "zMxUVFQiIiJERETc3Nzu7u6qqqp2dnaYmJgyMjIAAAAcRTyBAAAAAXRSTlMAQObYZgAAA1BJREFU\n",
       "SMetVl9IU1EY/3Xvne7e3ekeg0L2UNRLthrMLKtFUCKI4oP1ELSHAn1bRUVQOSJqWrDbSwkRXhBS\n",
       "fLCBDyUVLRQSM1kFFWi2qF6CyjTJjP5855zNe/dHodiBs+9+58/3+/6fAUUbN5bbdBlAin28LgKS\n",
       "FuHEkcpeXrcy9vZEEGgFHjP+YxGgygxBpnPWU01ax3agH+gkTo0UAeq5IFMLOeuReqx1AroXZSaR\n",
       "eBGgTgk3DvwQrPviybMZqLsEpXngHu3ru1YEJDUsEKRvImTnTMuq4V6i74H5aPT0cjKM/CVHgWOS\n",
       "j5M61y9O+03Lgcrxw0SHACLtfE381s4OtXDpijipsx9nBk+J1QTa4QrmQzmT3H9BxwxnW61Y7Wr7\n",
       "ys5PAbuh8fx0C8vdHugefhfWnTeLsp8CD4HqNDdVWbUt/VkaF/qpswLAnhZPJonepjOQuELdwnI5\n",
       "BNeCBeVIMF13JsHO0AwAD0zcZIv3/ElJVycahcQVXJtmf2CeX6v4TCMD5VTo5kHyULKUL40eE9p5\n",
       "IacsqBImSe/xYQ1FPgQcBXaIGno12AdJwmjSDkU/FcguHwaFEIdSU81cD2+U79xqRKVpQXE1mpwR\n",
       "xsoGtDlIVO/kB4WlgSQpk4bNgS6aRzjrsUOVsJ60l6XDIa4+qvhOw4b1IVhQvA5Cchh6EFcpFjPP\n",
       "LjCRIZTxtJM3fbCnxXWaXzi7Ocsqd4KnBQZ4RUxgI98Zp7Zlg6plmRKXplmLo2TQU5DouBJBN4eS\n",
       "UJ2Ole5L11bMsLKEN6YDGKMIo4ZmuZcF+d1YjPvtMtAVt6D2sBqpGaFEGdbIWmcC6k/eU/dFo1Ev\n",
       "QSW86TIIQ4v9NnHnD4+51lKX3W7BzHczCNlEF9ePBDUYFtR+mluhzgG9Mu2Xx6FQ51FC5HBhVcKX\n",
       "1ZgWhzKSbkyZxh/OfNWTmKTaAXUB6mqbA3voEkWBCkF/QWyXiSvkd/K9zhSTdIwlstvtUkP3ZoI6\n",
       "DzV2xrEKj2b9LUEbVKmJWASd35Ms+aC3+QPnmQ/oyCWiL8e3fFpsF8ayUP25b6W904jWZjV90/Y2\n",
       "sR2KVYGncanRnsMP5kGhoID7//zgu3NtTuZD1Rd6230o6pCt/x95D4b5PwL/Av+C11/3FK8+AAAA\n",
       "AElFTkSuQmCC\n",
       "\" style=\"display:inline;vertical-align:middle;\" /></a></dd>"
      ],
      "text/plain": [
       "<IPython.core.display.HTML object>"
      ]
     },
     "metadata": {},
     "output_type": "display_data"
    },
    {
     "data": {
      "text/html": [
       "<dt><a class=\"ProveItLink\" href=\"axioms.ipynb#right_in_bool\">proveit.logic.booleans.disjunction.right_in_bool</a></dt><dd><a class=\"ProveItLink\" href=\"../__pv_it/axioms/c2cdc684c6849d56d860f8b74236e8cb74419eb40/expr.ipynb\"><img src=\"data:image/png;base64,iVBORw0KGgoAAAANSUhEUgAAANUAAAAWBAMAAAClEsSqAAAAMFBMVEX///8QEBCIiIhmZma6urrM\n",
       "zMxUVFQiIiJERETc3Nzu7u6qqqp2dnaYmJgyMjIAAAAcRTyBAAAAAXRSTlMAQObYZgAAAx5JREFU\n",
       "SMetVktoU0EUPZ2XT1/yknQhVFAkO7uxrRatxYUBQUuhNKvWXQNWiC784ELED1EEX1VoVtaN9Emh\n",
       "LV1owVVBIbSCUmt54EKlrUbEjaCIlVIrWu/MvM+kCQElAxlm7pk3595z78wEqFm7VxWdpl+RD5Zr\n",
       "QBXJAbHTq23Z6yVmdtb80zgAhPLAC274XAOuOG2GOiI8mC61B5MTozYiFNRdmuq5GnC94l2/DfS0\n",
       "ltjrAzZLE8EM0VqAMVUDrgu8a6Hg3ifFPHbj/BWHKzpFXPfJNDc5OVwDKv0M769S3hotPgpes7y4\n",
       "jC7iiqeANdO8VG2TfLkpWGEZE8qtAn0nxfyB5Wt4pJdSaNCC48CgMMq+c2U2K7YPyKWGgrlwNFXO\n",
       "VW9zJ1aXmy7K+Qk/X40bW7imVByHRInQ+IeUuQFGg1ijfONgHtzhzN41tx9whmGec/aT8pIR85xS\n",
       "G8ZyAYiSyGEw7hJGfwtIyyC67nMFCw4W40QuPMbP0+M2mxn6olPhdTzWevKS/RLf7fhKzeFCrpss\n",
       "30gkOywWz52T/iWhFX2uUNrBGO11x4X5WXozPQnGMGcrXAmKiX1HyTESXCHJpRd7hSNJU0AP02i2\n",
       "fK6wh9HHHS5MSgR4LTAWWMorGvLjFZJ6N6hcmTjlnxfq4IAIAO0C6tnVJAWXXMMe9hR6xoWjGcRF\n",
       "8Wm7P6m1wY9Xv4xoT0lcS7I28EicjEW0CGgB2KlwdXrYBLS8CwdyGBVcDB1OvnhJ4wNBWy0/TnlH\n",
       "FYxZ8k/jmU/wcx75OD8kFt0GRqZ8rsMeZqTGPDhYRJ9pmkniKshbQkh0auPYPtPhiGS7Su5exLlT\n",
       "Mc6hWRgRHlIV9eR9rqMeFsnt9eBAhnSVcRVa1TtKaYHn8o5y27g3oqJM2PpN6OvQtysajrsY8JKE\n",
       "cOBYAQb3jBmYL6h3b5U24yVwDfrQ5eA2PFtpy6YUrrDlYKIEXVij3y1CXy/s/+Jtka/+vBU3GaLq\n",
       "pSPl9p+AiPImcYTytfmtrNLKXJku40LFHZ78+3+At5sNdjlXdyU9WlHbpjmyVkgDs/5rx7//6tso\n",
       "nVLfqQAAAABJRU5ErkJggg==\n",
       "\" style=\"display:inline;vertical-align:middle;\" /></a></dd>"
      ],
      "text/plain": [
       "<IPython.core.display.HTML object>"
      ]
     },
     "metadata": {},
     "output_type": "display_data"
    },
    {
     "data": {
      "text/html": [
       "<dt><a class=\"ProveItLink\" href=\"axioms.ipynb#empty_disjunction\">proveit.logic.booleans.disjunction.empty_disjunction</a></dt><dd><a class=\"ProveItLink\" href=\"../__pv_it/axioms/25457ba768b8e083d3aef1fb189b90f421febeae0/expr.ipynb\"><img src=\"data:image/png;base64,iVBORw0KGgoAAAANSUhEUgAAADsAAAAUBAMAAADB8VhjAAAAMFBMVEX///8QEBBERESqqqru7u6Y\n",
       "mJi6uroyMjKIiIjMzMxUVFTc3Nx2dnYiIiJmZmYAAAAK2EhgAAAAAXRSTlMAQObYZgAAAOhJREFU\n",
       "KM9jYICB9kooI/wamNrKYM2ABI6hslgUGLg2oEhzgukJEGn2DQwsBSjSXBOAFGsDRDoOiE+g6l4A\n",
       "pHgdINK3gdgR1e5qIJUHsZv7AsiCBBRpOyClDZHmeAAkeB6gSPMyMHAqQKSZAkDuKGB4excI7kCk\n",
       "ORoYuBIg0rwGQIL5AkTnLog0ywUGd6i/GUHWcn5AkWZ4zHAYn/R2hgsMSIazoRrOwDS1gQHVaWDA\n",
       "CRXkXOsAZYH9xHcALUrqYCywuewT0KS3wFmgQPXFHaGYUYLCYsKIUPTkwIScHHphiakdlpiiGRgA\n",
       "VudMfZzNtAQAAAAASUVORK5CYII=\n",
       "\" style=\"display:inline;vertical-align:middle;\" /></a></dd>"
      ],
      "text/plain": [
       "<IPython.core.display.HTML object>"
      ]
     },
     "metadata": {},
     "output_type": "display_data"
    },
    {
     "data": {
      "text/html": [
       "<dt><a class=\"ProveItLink\" href=\"axioms.ipynb#multi_disjunction_def\">proveit.logic.booleans.disjunction.multi_disjunction_def</a></dt><dd><a class=\"ProveItLink\" href=\"../__pv_it/axioms/b88221fe248a3119c661e1de68092e2362e2fce40/expr.ipynb\"><img src=\"data:image/png;base64,iVBORw0KGgoAAAANSUhEUgAAAb0AAAAyBAMAAAA6kRjOAAAAMFBMVEX///8QEBCIiIhmZma6urrM\n",
       "zMxUVFQiIiJERETc3Nzu7u6qqqp2dnaYmJgyMjIAAAAcRTyBAAAAAXRSTlMAQObYZgAAB8dJREFU\n",
       "aN7NWm9sFEUUf7e9vbu9f+0HLSgRL2CQb21SUhOo9ghREhP1wAQ0RHsBiUpUDklQAeWIKFfU9IiJ\n",
       "/It2EWNJTfBiPygJhoKamGrM2YrBGOAMYCIfoCltaQvlnNmdmZ3Znd5xlC5Msnt7s+/NzG/m7Zv3\n",
       "frsAZcr9xWswufIjuFyCSfM3XCzWlBWesWfv5HoLd7uND54kOPfsK4/v7sl2NodeaPmpwHJYUhcp\n",
       "kAt16vGFWBcHSZ+Fyhp4foL6P4urGjNx8GUl9z50D9/+OL36z/yJ9tMK1TgnHCoJ6yYql/hbvMp0\n",
       "gKohCBZKdOoCvneZ0dSbv6fHaI0PjzMSc6isxqdeqnZJ525xKuo4gPcywPESRjP1+EIMjd80pGDX\n",
       "KFsM7Of8ukNnGT5tJH++auYNkFNRUDuRAbRWsm43u4XPX0+vdpH1UAaBt9hFTp0oQuSlevm6OH/P\n",
       "Ugmgse9HsxCNS7o9mnUJ3xk2+7PNn8dD4+xmFzpaJWuOsAWInlc/KrhdS6U6CeoGtJLh+omnderx\n",
       "vcmuPjLNM64im4JnzFGgEaQlSikqAPAFtAgPqKXS8mrv9hzbDH67iMtZ9rCPuYNPtYxxk7keoCGf\n",
       "8PRDxh8lBj6Zdc0CeIFcxqFdWB9LpS4LwVq82ilZCDPgDr4qq4O7TN/R0DiCfhabo0jBIZlWB/P6\n",
       "6qqGtcIKWypbMUa0gGq/rImL7uDzJG340NzPZPhgAfwinZVcOEceP9SEuMExlWGMLzYRvrqsK/ha\n",
       "8qJ9htCxzsL3GciMC7SCn1whmP4aiDy8dLYyJyGo4O0P1qLp8qas5+9f1kR73hV8dVnRv+wjAQnB\n",
       "F3guJlV7j+zuWs6IdyIL8541SlJQwdufOsIHmxLDmXJ8W63LH/B48Vy3ZRk+9UVjqw5ep6evzcEu\n",
       "22jtmYFR2PsgVMerunkViKKhL9yBjVmanwRSBJ/R4KmS+MqJlCjTrUsEKdh2XYfviusZPiAOfQM9\n",
       "+c1Fipo+82DxAoTartTDSlgC/hyv4rs03PDSB4ZsQpqV9RN8xtN6oSS+ciIlMs3L3M7Fx1kU3wS5\n",
       "pabbBzEX2lW5Soe0hcgQwbcbN5cuia+cSIntb4Drkd/Hvq2oGa0freDJsPzm8RI9I3xRHOLkSuIr\n",
       "J1Iiur7K/eEisY+3rKykGW8SxZ2f9MhNpFDCchC+SE9n567S/qWcyMTFtBIxv73FJZCV1w9T/zmS\n",
       "yWwu4z/LiExclFHeyqaEn/hrgvoRim+1NIYX8DGR1vJT6G1ramRi4TG4XWUmxbfIYcLLm+JKLY+P\n",
       "ikQG5TmQECP/DnCMBVq3D980is8PCmc4wSMN+VC6B+bz+KjIgXHpo9wsGF4jyi6pe/f13zZ86yi+\n",
       "cN7PVZ883Amh3iro5vFRkZ710q20Q8hgXgd4BO4gfFphGbAI1qAFQiuejQn4DBEkHcvIWloa4PfG\n",
       "4BAoF+4A+3yDxZ+tKJekEWzU2LUSPScEfIYIWg1AaanPwQclq/gkwDvQ+761tKOC5KfkmBxjlb2h\n",
       "euZfoAsNj0awB0x8YYvUMPB1GQj+hjpQj9nxRXIKb4XhAigMrzIkPKhp84DKSV5e/mX7ANaiUHSb\n",
       "vb6W4avGCQeJYJdnMplYKKHlUwI+QyR49tc23cnnHWr6mbfCQDdoLGoRHS7mxaLmLFskr43NlTK5\n",
       "gjzJ3zk1D5qz5oSNCrjM8EV0K4L1mesHj8YEfIZIlQ7tCSe++aANQd/3fSt+MmmtHHiZVYYEfH3k\n",
       "EEhekc2VMrmiPIRjNjWcRD9VT+qprVwT8j8awYaNVuMQ6Xbmf0+gwecxPm0H7NbpyYsaH4dvCp7c\n",
       "ERSJoynQYSdTVoUN5S1yCCSvyOZKmVxRHoI1NjWcRJ+JkXp7fG2LYHFKtfgcchoOfIER0Nrexl2q\n",
       "M2BJVr0Hn2ZAWxp2X8n7Eh0wD2BJLryloXGbzUroHKZIgiuSvAKbK2VyRXmAczY1lEQHp+mkXojs\n",
       "nfm7gp6/kvk7ntKQ1QyjJbsglTP4EqG8wzddbx42kpdnc+VMrihvMgG8Ggqll6+h9YLnrpyfUOsW\n",
       "8O/c6NWX8ACszDp9dzPvefLmYSN5eTZXzuRSeVpOi2rq8Km5m6x6PrK4Sf4lL7ky7cgRmnLeCBMM\n",
       "JskgkLw8mytncom8LTlmajhJ2Z+0Jc2etDv8IGewnrh52Ehejs0FOZNL5Vmjohp+0aJcZfWEH4y5\n",
       "ze9y+ESS12JzQc7kUnkRH1OrRn0oAzZ8LvG7Vf0S+7SRvBabKxZG/hL5vhOz6metZnpMDW9/vkGO\n",
       "tMJlO7iCzzso8S82kpexufa0mZK/RP6P+6BWn2P5EaqGl6olbfMvLr1fAS6jwjEtPuwkL2VzDW4X\n",
       "nwym12Jyibz2eQoGoQldNwlq8A+axum6VW/4HJfej/EOFL8oQIeT5CVsrsHtGqcNPJPL5H0xNFy8\n",
       "EZwX1F7D31EYT+J5x3M/9fg83bL4TCR5NV2ua2NyPQklrfUnsGOVqgW5NM2199OhMWl8fRMkL7Sj\n",
       "FYyku8U4GuxxN7/0bnwfclbk2bhIrEKSFx5DMaf2ii5/JcryJnNW73UN386ELL+dTGktX+/i9z38\n",
       "6/Fbwk9EsuXrV4Fr+DBf6HaJpG8c36S/j/TFXMdXyfeRk/++dZ7b8IJriEMtFmv+B8M7QBtMY5aP\n",
       "AAAAAElFTkSuQmCC\n",
       "\" style=\"display:inline;vertical-align:middle;\" /></a></dd>"
      ],
      "text/plain": [
       "<IPython.core.display.HTML object>"
      ]
     },
     "metadata": {},
     "output_type": "display_data"
    }
   ],
   "source": [
    "import proveit\n",
    "%theory"
   ]
  },
  {
   "cell_type": "code",
   "execution_count": null,
   "metadata": {},
   "outputs": [],
   "source": []
  }
 ],
 "metadata": {
  "kernelspec": {
   "display_name": "Python 3",
   "language": "python",
   "name": "python3"
  }
 },
 "nbformat": 4,
 "nbformat_minor": 0
}