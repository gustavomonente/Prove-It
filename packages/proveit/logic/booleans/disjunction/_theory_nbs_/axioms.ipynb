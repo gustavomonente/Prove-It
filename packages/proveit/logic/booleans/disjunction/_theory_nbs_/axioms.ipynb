{
 "cells": [
  {
   "cell_type": "markdown",
   "metadata": {},
   "source": [
    "Axioms for the theory of <a class=\"ProveItLink\" href=\"theory.ipynb\">proveit.logic.booleans.disjunction</a>\n",
    "========"
   ]
  },
  {
   "cell_type": "code",
   "execution_count": 1,
   "metadata": {},
   "outputs": [],
   "source": [
    "import proveit\n",
    "# Prepare this notebook for defining the axioms of a theory:\n",
    "%axioms_notebook # Keep this at the top following 'import proveit'.\n",
    "from proveit.logic import TRUE, FALSE, Not, Or, Equals, Forall, in_bool\n",
    "from proveit import A, B, n, m\n",
    "from proveit.core_expr_types import B_1_to_n, A_1_to_m\n",
    "from proveit.numbers import Natural"
   ]
  },
  {
   "cell_type": "code",
   "execution_count": 2,
   "metadata": {},
   "outputs": [
    {
     "name": "stdout",
     "output_type": "stream",
     "text": [
      "Defining axioms for theory 'proveit.logic.booleans.disjunction'\n",
      "Subsequent end-of-cell assignments will define axioms\n",
      "%end_axioms will finalize the definitions\n"
     ]
    }
   ],
   "source": [
    "%begin axioms"
   ]
  },
  {
   "cell_type": "markdown",
   "metadata": {},
   "source": [
    "### Truth table definitions:"
   ]
  },
  {
   "cell_type": "code",
   "execution_count": 3,
   "metadata": {},
   "outputs": [
    {
     "data": {
      "text/html": [
       "<strong id=\"or_t_t\">or_t_t:</strong> <a class=\"ProveItLink\" href=\"../__pv_it/axioms/286d79d04085d28907c028d65e03efca45aa5bd50/axiom_expr.ipynb\"><img src=\"data:image/png;base64,iVBORw0KGgoAAAANSUhEUgAAAHAAAAAUBAMAAACnq6Q0AAAAMFBMVEX////MzMxUVFR2dna6uroQ\n",
       "EBCqqqqIiIgiIiJmZmYyMjJERETu7u6YmJjc3NwAAACgK8IjAAAAAXRSTlMAQObYZgAAAQpJREFU\n",
       "OMtjYOC7wIAH5OGWOs3A2QEGCsiiM8BCTQxMD9DVw2QY1oF4bAUQUQEQwQhhp4MIngVY7ALL8E5A\n",
       "1qgIIq4jSTOY49LI8QBZoxCI6EHWeBSXxhcMyBq5gMawTEDWyOWAQ2MlikY2oCbuB8gamSfg0LgX\n",
       "RSNDAwODNLI0Ay84dKxWgcBKZJk2VI3lDAwqKBrZGnDYGIKq8QQiAiAaGT8Qp5EzgTmBOI1oTuVb\n",
       "wIEizcDSgPDjIjyBw7DxOgOWwMFioyWaRqEeVI2cBjg0ekAcBM8iXPB484XwBTA1+iKSHALwHUDl\n",
       "n8CVq3gnMOAF5jhl9uHVhzVbwTIyPsD9AKcU/qLjHi4JABqGSPnwNDtcAAAAAElFTkSuQmCC\n",
       "\" style=\"display:inline;vertical-align:middle;\" /></a><br>"
      ],
      "text/plain": [
       "or_t_t: (TRUE or TRUE) = TRUE"
      ]
     },
     "execution_count": 3,
     "metadata": {},
     "output_type": "execute_result"
    }
   ],
   "source": [
    "or_t_t = Equals(Or(TRUE, TRUE), TRUE)"
   ]
  },
  {
   "cell_type": "code",
   "execution_count": 4,
   "metadata": {},
   "outputs": [
    {
     "data": {
      "text/html": [
       "<strong id=\"or_t_f\">or_t_f:</strong> <a class=\"ProveItLink\" href=\"../__pv_it/axioms/50a869ff3fda696250e564c9896b85961a6d9fa00/axiom_expr.ipynb\"><img src=\"data:image/png;base64,iVBORw0KGgoAAAANSUhEUgAAAHAAAAAUBAMAAACnq6Q0AAAAMFBMVEX////MzMxUVFR2dna6uroQ\n",
       "EBCqqqqIiIgiIiJmZmYyMjJERETu7u6YmJjc3NwAAACgK8IjAAAAAXRSTlMAQObYZgAAAQ5JREFU\n",
       "OMtjYOC7wIAH5OGWOs3A2QEGCmgSYiCC6QG6+hlgxU0MDOtAPLYCiKgAiGCEsNNBBM8CLHaBZXgn\n",
       "IGtUBBHXkaQZzHFp5HiArFEIRPQgazyKS+MLBmSNXEBjWCYga+RywKGxEkUjG1AT9wNkjcwTcGjc\n",
       "i6KRoYGBQRpZmoEXHDpWq0BgJbJMG6rGcgYGFRSNbA04bAxB1XgCEQEQjYwfiNPImcCcQJxGNKfy\n",
       "LeBAkWZgaUD4cRGewGHYeJ0BS+BgsdESTaNQD6pGTgMcGj0gDoJnEa4JsKQcCk7KXAKYGn0RSQ4B\n",
       "+A6g8k/gylW8ExjwAnOcMvvw6sOarWAZGR/gfoBTCn/RcQ+XBAD2iEiPkqdDlgAAAABJRU5ErkJg\n",
       "gg==\n",
       "\" style=\"display:inline;vertical-align:middle;\" /></a><br>"
      ],
      "text/plain": [
       "or_t_f: (TRUE or FALSE) = TRUE"
      ]
     },
     "execution_count": 4,
     "metadata": {},
     "output_type": "execute_result"
    }
   ],
   "source": [
    "or_t_f = Equals(Or(TRUE, FALSE), TRUE)"
   ]
  },
  {
   "cell_type": "code",
   "execution_count": 5,
   "metadata": {},
   "outputs": [
    {
     "data": {
      "text/html": [
       "<strong id=\"or_f_t\">or_f_t:</strong> <a class=\"ProveItLink\" href=\"../__pv_it/axioms/9375ab435e59342742e9aa3e9057df2a57b467480/axiom_expr.ipynb\"><img src=\"data:image/png;base64,iVBORw0KGgoAAAANSUhEUgAAAHAAAAAUBAMAAACnq6Q0AAAAMFBMVEX///9UVFTMzMx2dna6uroQ\n",
       "EBCqqqqIiIgiIiJmZmYyMjJERETu7u6YmJjc3NwAAAC+aOQFAAAAAXRSTlMAQObYZgAAAQ1JREFU\n",
       "OMtjYOC7wIAH5OGWOg0imBLQRGd0gEAjA+MDBhwyDOtAPLYCiKgC2BQIOx1E8CzAYhdYhncCskYh\n",
       "EHEdSZrBHJdGjgfIGhVBRA+yxqO4NL5gQNbIBTSGZQKyRi4HHBorUTSyATVxP0DWyDwBh8a9KBoZ\n",
       "GhgYtJGlGXjBoWO1CgRWIsu0oWosZ2AQQdHI1oDDxhBUjScQEQDRyPSBOI2cCcwJxGlEcyrfAg4U\n",
       "aQaWBoQfF+IJHIZN1xmwBA4WGy3RNCr2oGrkNMCh0QMo19HRGtHRIQCJcHi8+UL4CpgafRFJDgH4\n",
       "DqDyT+DKVbwTGPACc5wy+/Dqw5qtkDIyTsD9AKcU/qLjHi4JAP4OSHMxpgrYAAAAAElFTkSuQmCC\n",
       "\" style=\"display:inline;vertical-align:middle;\" /></a><br>"
      ],
      "text/plain": [
       "or_f_t: (FALSE or TRUE) = TRUE"
      ]
     },
     "execution_count": 5,
     "metadata": {},
     "output_type": "execute_result"
    }
   ],
   "source": [
    "or_f_t = Equals(Or(FALSE, TRUE), TRUE)"
   ]
  },
  {
   "cell_type": "code",
   "execution_count": 6,
   "metadata": {},
   "outputs": [
    {
     "data": {
      "text/html": [
       "<strong id=\"or_f_f\">or_f_f:</strong> <a class=\"ProveItLink\" href=\"../__pv_it/axioms/4e25a02a62e142a7e80f41df3ee71ffb7483d7700/axiom_expr.ipynb\"><img src=\"data:image/png;base64,iVBORw0KGgoAAAANSUhEUgAAAHAAAAAUBAMAAACnq6Q0AAAAMFBMVEX///9UVFTMzMx2dna6uroQ\n",
       "EBCqqqqIiIgiIiJmZmYyMjJERETu7u6YmJjc3NwAAAC+aOQFAAAAAXRSTlMAQObYZgAAARFJREFU\n",
       "OMtjYOC7wIAH5OGWOg0imBIwJdRABOMDBhwyDOtABFsBREgBbAqEnQ4ieBZg0QiW4Z2ArFEIRFxH\n",
       "kmYwx6WR4wGyRkUQ0YOs8SgujS8YkDVyAY1hmYCskcsBh8ZKFI1sQE3cD5A1Mk/AoXEvikaGBgYG\n",
       "bWRpBl5w6FitAoGVyDJtqBrLGRhEUDSyNeCwMQRV4wlEBEA0Mn0gTiNnAnMCcRrRnMq3gANFmoGl\n",
       "AeHHhXgCh2HTdQYsgYPFRks0jYo9qBo5DXBo9ADKdXS0RnR0CEAiHBJvMzo6Qjs6GoF8BTRdMBkO\n",
       "tOTPdwCVfwJXruKdwIAXmOOU2YdXH9ZshZSRcQLuBzil8Bcd93BJAABJLUe/77Ia5AAAAABJRU5E\n",
       "rkJggg==\n",
       "\" style=\"display:inline;vertical-align:middle;\" /></a><br>"
      ],
      "text/plain": [
       "or_f_f: (FALSE or FALSE) = FALSE"
      ]
     },
     "execution_count": 6,
     "metadata": {},
     "output_type": "execute_result"
    }
   ],
   "source": [
    "or_f_f = Equals(Or(FALSE, FALSE), FALSE)"
   ]
  },
  {
   "cell_type": "markdown",
   "metadata": {},
   "source": [
    "### Disjunction only well-defined when each input is a Boolean:"
   ]
  },
  {
   "cell_type": "code",
   "execution_count": 7,
   "metadata": {},
   "outputs": [
    {
     "data": {
      "text/html": [
       "<strong id=\"left_in_bool\">left_in_bool:</strong> <a class=\"ProveItLink\" href=\"../__pv_it/axioms/96254da8498ddebcc9e859130e00f558b8cbc0040/axiom_expr.ipynb\"><img src=\"data:image/png;base64,iVBORw0KGgoAAAANSUhEUgAAANQAAAAWBAMAAABK0K+UAAAAMFBMVEX///8QEBCIiIhmZma6urrM\n",
       "zMxUVFQiIiJERETc3Nzu7u6qqqp2dnaYmJgyMjIAAAAcRTyBAAAAAXRSTlMAQObYZgAAA1BJREFU\n",
       "SMetVl9IU1EY/3Xvne7e3ekeg0L2UNRLthrMLKtFUCKI4oP1ELSHAn1bRUVQOSJqWrDbSwkRXhBS\n",
       "fLCBDyUVLRQSM1kFFWi2qF6CyjTJjP5855zNe/dHodiBs+9+58/3+/6fAUUbN5bbdBlAin28LgKS\n",
       "FuHEkcpeXrcy9vZEEGgFHjP+YxGgygxBpnPWU01ax3agH+gkTo0UAeq5IFMLOeuReqx1AroXZSaR\n",
       "eBGgTgk3DvwQrPviybMZqLsEpXngHu3ru1YEJDUsEKRvImTnTMuq4V6i74H5aPT0cjKM/CVHgWOS\n",
       "j5M61y9O+03Lgcrxw0SHACLtfE381s4OtXDpijipsx9nBk+J1QTa4QrmQzmT3H9BxwxnW61Y7Wr7\n",
       "ys5PAbuh8fx0C8vdHugefhfWnTeLsp8CD4HqNDdVWbUt/VkaF/qpswLAnhZPJonepjOQuELdwnI5\n",
       "BNeCBeVIMF13JsHO0AwAD0zcZIv3/ElJVycahcQVXJtmf2CeX6v4TCMD5VTo5kHyULKUL40eE9p5\n",
       "IacsqBImSe/xYQ1FPgQcBXaIGno12AdJwmjSDkU/FcguHwaFEIdSU81cD2+U79xqRKVpQXE1mpwR\n",
       "xsoGtDlIVO/kB4WlgSQpk4bNgS6aRzjrsUOVsJ60l6XDIa4+qvhOw4b1IVhQvA5Cchh6EFcpFjPP\n",
       "LjCRIZTxtJM3fbCnxXWaXzi7Ocsqd4KnBQZ4RUxgI98Zp7Zlg6plmRKXplmLo2TQU5DouBJBN4eS\n",
       "UJ2Ole5L11bMsLKEN6YDGKMIo4ZmuZcF+d1YjPvtMtAVt6D2sBqpGaFEGdbIWmcC6k/eU/dFo1Ev\n",
       "QSW86TIIQ4v9NnHnD4+51lKX3W7BzHczCNlEF9ePBDUYFtR+mluhzgG9Mu2Xx6FQ51FC5HBhVcKX\n",
       "1ZgWhzKSbkyZxh/OfNWTmKTaAXUB6mqbA3voEkWBCkF/QWyXiSvkd/K9zhSTdIwlstvtUkP3ZoI6\n",
       "DzV2xrEKj2b9LUEbVKmJWASd35Ms+aC3+QPnmQ/oyCWiL8e3fFpsF8ayUP25b6W904jWZjV90/Y2\n",
       "sR2KVYGncanRnsMP5kGhoID7//zgu3NtTuZD1Rd6230o6pCt/x95D4b5PwL/Av+C11/3FK8+AAAA\n",
       "AElFTkSuQmCC\n",
       "\" style=\"display:inline;vertical-align:middle;\" /></a><br>"
      ],
      "text/plain": [
       "left_in_bool: forall_{A, B | (A or B) in BOOLEAN} (A in BOOLEAN)"
      ]
     },
     "execution_count": 7,
     "metadata": {},
     "output_type": "execute_result"
    }
   ],
   "source": [
    "left_in_bool = Forall((A, B), in_bool(A), conditions=[in_bool(Or(A, B))]) "
   ]
  },
  {
   "cell_type": "code",
   "execution_count": 8,
   "metadata": {},
   "outputs": [
    {
     "data": {
      "text/html": [
       "<strong id=\"right_in_bool\">right_in_bool:</strong> <a class=\"ProveItLink\" href=\"../__pv_it/axioms/1b00c46203a081b12d53b79779600ab874901eb10/axiom_expr.ipynb\"><img src=\"data:image/png;base64,iVBORw0KGgoAAAANSUhEUgAAANUAAAAWBAMAAAClEsSqAAAAMFBMVEX///8QEBCIiIhmZma6urrM\n",
       "zMxUVFQiIiJERETc3Nzu7u6qqqp2dnaYmJgyMjIAAAAcRTyBAAAAAXRSTlMAQObYZgAAAx5JREFU\n",
       "SMetVktoU0EUPZ2XT1/yknQhVFAkO7uxrRatxYUBQUuhNKvWXQNWiC784ELED1EEX1VoVtaN9Emh\n",
       "LV1owVVBIbSCUmt54EKlrUbEjaCIlVIrWu/MvM+kCQElAxlm7pk3595z78wEqFm7VxWdpl+RD5Zr\n",
       "QBXJAbHTq23Z6yVmdtb80zgAhPLAC274XAOuOG2GOiI8mC61B5MTozYiFNRdmuq5GnC94l2/DfS0\n",
       "ltjrAzZLE8EM0VqAMVUDrgu8a6Hg3ifFPHbj/BWHKzpFXPfJNDc5OVwDKv0M769S3hotPgpes7y4\n",
       "jC7iiqeANdO8VG2TfLkpWGEZE8qtAn0nxfyB5Wt4pJdSaNCC48CgMMq+c2U2K7YPyKWGgrlwNFXO\n",
       "VW9zJ1aXmy7K+Qk/X40bW7imVByHRInQ+IeUuQFGg1ijfONgHtzhzN41tx9whmGec/aT8pIR85xS\n",
       "G8ZyAYiSyGEw7hJGfwtIyyC67nMFCw4W40QuPMbP0+M2mxn6olPhdTzWevKS/RLf7fhKzeFCrpss\n",
       "30gkOywWz52T/iWhFX2uUNrBGO11x4X5WXozPQnGMGcrXAmKiX1HyTESXCHJpRd7hSNJU0AP02i2\n",
       "fK6wh9HHHS5MSgR4LTAWWMorGvLjFZJ6N6hcmTjlnxfq4IAIAO0C6tnVJAWXXMMe9hR6xoWjGcRF\n",
       "8Wm7P6m1wY9Xv4xoT0lcS7I28EicjEW0CGgB2KlwdXrYBLS8CwdyGBVcDB1OvnhJ4wNBWy0/TnlH\n",
       "FYxZ8k/jmU/wcx75OD8kFt0GRqZ8rsMeZqTGPDhYRJ9pmkniKshbQkh0auPYPtPhiGS7Su5exLlT\n",
       "Mc6hWRgRHlIV9eR9rqMeFsnt9eBAhnSVcRVa1TtKaYHn8o5y27g3oqJM2PpN6OvQtysajrsY8JKE\n",
       "cOBYAQb3jBmYL6h3b5U24yVwDfrQ5eA2PFtpy6YUrrDlYKIEXVij3y1CXy/s/+Jtka/+vBU3GaLq\n",
       "pSPl9p+AiPImcYTytfmtrNLKXJku40LFHZ78+3+At5sNdjlXdyU9WlHbpjmyVkgDs/5rx7//6tso\n",
       "nVLfqQAAAABJRU5ErkJggg==\n",
       "\" style=\"display:inline;vertical-align:middle;\" /></a><br>"
      ],
      "text/plain": [
       "right_in_bool: forall_{A, B | (A or B) in BOOLEAN} (B in BOOLEAN)"
      ]
     },
     "execution_count": 8,
     "metadata": {},
     "output_type": "execute_result"
    }
   ],
   "source": [
    "right_in_bool = Forall((A, B), in_bool(B), conditions=[in_bool(Or(A, B))]) "
   ]
  },
  {
   "cell_type": "markdown",
   "metadata": {},
   "source": [
    "### Definition of multi-operand disjunction"
   ]
  },
  {
   "cell_type": "code",
   "execution_count": 9,
   "metadata": {},
   "outputs": [
    {
     "data": {
      "text/html": [
       "<strong id=\"empty_disjunction\">empty_disjunction:</strong> <a class=\"ProveItLink\" href=\"../__pv_it/axioms/74fef36a3d4c5b9ce970f16d721d913bbf0fddba0/axiom_expr.ipynb\"><img src=\"data:image/png;base64,iVBORw0KGgoAAAANSUhEUgAAADIAAAAUBAMAAAA95HOpAAAAMFBMVEX///8QEBBERESqqqq6uroy\n",
       "MjLu7u6IiIiYmJjMzMxUVFTc3Nx2dnYiIiJmZmYAAAC/kaUnAAAAAXRSTlMAQObYZgAAAMVJREFU\n",
       "KM9jYMACuBuYNzBgBUkMDKuRuJxgcgKIiGZgSEWS4QIJchSAiAcMDDwFSHoWAAneBBABtIRNAEkT\n",
       "0AwGPxBjL4gIQZKxA2JtEKMORJxDkuEFmqgAYmiAiFaGt3eB4A6IzV7AwOUAYlwGEbYQ5btABNsF\n",
       "qFtFQMR8JBmGxwyHcchsZbjAADfNF1mGaQbEe1AXIIUM59oEBriD36CEZByEAhsUiSKzDeqxDWCH\n",
       "YgHoIYoEtFFjATXmtLHLcDdwbGAAAJMpKNkzK6kHAAAAAElFTkSuQmCC\n",
       "\" style=\"display:inline;vertical-align:middle;\" /></a><br>"
      ],
      "text/plain": [
       "empty_disjunction: not(or())"
      ]
     },
     "execution_count": 9,
     "metadata": {},
     "output_type": "execute_result"
    }
   ],
   "source": [
    "empty_disjunction = Not(Or()) # base case"
   ]
  },
  {
   "cell_type": "code",
   "execution_count": 10,
   "metadata": {},
   "outputs": [
    {
     "data": {
      "text/html": [
       "<strong id=\"multi_disjunction_def\">multi_disjunction_def:</strong> <a class=\"ProveItLink\" href=\"../__pv_it/axioms/d281d87eff4b638c9f103fba6a18abf19fa264f60/axiom_expr.ipynb\"><img src=\"data:image/png;base64,iVBORw0KGgoAAAANSUhEUgAAAdEAAAAyBAMAAADxSvwwAAAAMFBMVEX///8QEBCIiIhmZma6urrM\n",
       "zMxUVFQiIiJERETc3Nzu7u6qqqp2dnaYmJgyMjIAAAAcRTyBAAAAAXRSTlMAQObYZgAABuxJREFU\n",
       "aN7NWn2IFGUYf252Z2dnP/0jxTBqyaj+242LC9S6FQkhiFaDs5C640yKIG5LELLCCypXI3YjyC/K\n",
       "EcMTA2/t/qgDw9UI4pLcTgol0gUjyD/yMD/utPN6P2Zm551552Mbd/ZeuJl5Z57n3ec37/M+7/P8\n",
       "bgBc2n1z/4KvlshD59pB1Ya5uQWuskt27/H3Y6c6CBTCDXKK7d7rjnShz98SBpiuXG8HoHHbJ+fV\n",
       "s9h+pEfZ7iH1hxutjfKizf1f5zb0lPIQqdgpRmtBIY3dxfb/oqfUlHZDJMeCRbHQfIjaZeMjo8pi\n",
       "gNA1iDXcfr/9SKM5pptUu+dvanci2OJkxqK4ER8mNbXLiuGRQUWcRWvxH4CTbj7VfqTHFaYrUTeL\n",
       "jc3oE4TXsaRYFPvwYYva+bLX6J4GFQGNk7wCsN/WAKkWENJNbHenOkfCVcafV1kVUwhbWHOIejZv\n",
       "XgJUJYoA7EfvI2W7lcVngkGanGH7S+npqfisfmsM/W3nWIhQRtWZDCvHmZDdVEkPgLgZzW4i5/Ku\n",
       "245UGmb7H1HnzYvI4+A5KoLMGOaoFjUBgC+gn1nITZX+1ya3VfEbJSHpp79xu8iOc0EJBGm/yave\n",
       "onMEMooizz5GN9wMRHi+dz/AS+plHvYxc9ZUyVYgtgh7QNHWhNFMIEgfMfVpzO/r7plGp9V0gotw\n",
       "hKc6ou8d4obuIWbWmyrvYrRoUsUpWxNSjUCQLuIiRfNxr44UlsOPPNVQNVFVlylAF7th6irXMdKM\n",
       "I1JhJgik4ixwvDeO/l5vIv0cuK4nNyT1CgGWFkDy8bVLhQcLjAoZfwi9uHCxuU7/NI0zGwRSwRR6\n",
       "aUTaqyY9KtLoCxmu8vtq3iBXSU6VXFnvelXNojUVPL44rUckB79qN9KoefzvsOX4/ZcrOlLxZRId\n",
       "Y7e1wyg1u29Lcw+OzsCehyCdD9WMKpBC46/cgV29Zm/ENhUpGfV3R6RuIvaty7x9IHCx8m0Fvpnb\n",
       "pCMFdVvYrB0kOnEpGm8PzV2CePlGDgZhDUhVo0rk8vXuVz4ksgV7I06rSMnSvuSI1E3Evo2aN3Sp\n",
       "wsImzaYAlhWzJQ/DPpGvMuJgxIUCRboLjznsiNRNxGE7Na/ApBH61y2NJU+hWT2b4D886WYEQprC\n",
       "uVTVEambiEN+b9Ey5H2fbB1siT4YQPnupxP82qzh5lgIaXLi8OGdzhHJTcTFcXiV+B1u0YrDw/SA\n",
       "GnunS6W3XWKvi4h9y1osaA+7cs7pYXpYRbqRW0owSHWR7e5vNFxe0aOLnVag843kVxjpKouXr1uR\n",
       "FxYZkWoiyat8H2US9J8BTmjXvfMCaVFFKoFg8KjYse56fHgClhmRaiIHZrnhoJfxyB4D0TA0D4Di\n",
       "TJIiTdQlw+2z44chPhmCmhGpJjKxiTdSYoTZNd8AeALmJVK50Qd6+kz4jPj65zMMUiKCpDMl3khr\n",
       "o8a9NnYNhEvzynslzXthOyp4tfQ5RWqNwsQvDFIigpIvQLVzxGL8QMhYi4SvTH7QTMT4sfczv8aP\n",
       "t3Jfj0gwhgzV0ucDFGmiycsQpGMEy2+QBfGEGWmyKhiLw0QDBB15lrufxqgP+GC3LUy2E8Pdpe2n\n",
       "kMbZkpo+ryuVSpl4Qa4XGaREJHbxVFmxEpZHVvxw07jl1EC+xY/KGq2Xovb4YLfpVuCR4U7nNKRJ\n",
       "pZk+R+icwpMZBikRCSmwr2BFugzka3Dm2zPrv6fjViGsV6XH87y89wy99sNunzSpOTHcozVjfaql\n",
       "zwminIdkzVqfPo1g1DFSeQfsUrRDGC28Wfiq0VU9hmoB9DIU+FhX7q/zapk36bz4Ybf3m9ScGG4t\n",
       "wzelz7jaW/0HCjMWpNFpkMvv4JHFJbCmIt6ND0ugPAy7btQjhRF4FGBNNbG1u+c91nGMbadWiftk\n",
       "tymT7Y3hJmWGlXMQ0Dp15BzwO4w3+WedgR2DYpVQPoywed1gZlugtvtit2nE9MZwkw2gdXZFzC43\n",
       "BnPt6iA8AIMViJtiX2iKwyNFicX+2G3KG9kx3Gwb8sEj1TlX1ABzALrJ4QYpQ+KP3aZMtjeGe3Eg\n",
       "LOgtDt/blffPblN+1xPDLV/pGLNNkfpjt1VEXhjuYJht6LXzXp/sNmWy7RhutnouBoL0mbxNRPLJ\n",
       "bquRxwvDnc4EglTKWZltvBPYsNuE1PbCbrfAcGeVQJCagy8GhjzMlt0mpLYHdltjsj0w3DRUtP+/\n",
       "//fYZoO+2O0R8MpwB/Xff/MXHcYM3w+7bcdkW++rXtF+pKmcldk2cIn/k922Y7I5948qASGVF9pW\n",
       "4m1gsq33g/vyyuyed4ZdOef5fiQXGNLQQEfpsrPgGanvr14HOwm0la9efX/JHMp3EOlBGo/wl8z/\n",
       "Ac0fPkpolJsDAAAAAElFTkSuQmCC\n",
       "\" style=\"display:inline;vertical-align:middle;\" /></a><br>"
      ],
      "text/plain": [
       "multi_disjunction_def: forall_{m in Natural} [forall_{A_{1}, ..A_{_a}.., A_{m}, B} ((A_{1} or ..A_{_a}.. or A_{m} or B) =  \\\\ ((A_{1} or ..A_{_a}.. or A_{m}) or B))]"
      ]
     },
     "execution_count": 10,
     "metadata": {},
     "output_type": "execute_result"
    }
   ],
   "source": [
    "multi_disjunction_def = \\\n",
    "    Forall(m, Forall((A_1_to_m, B), \n",
    "                     Equals(Or(A_1_to_m, B), Or(Or(A_1_to_m), B)).with_wrapping_at(2)),\n",
    "           domain=Natural)"
   ]
  },
  {
   "cell_type": "code",
   "execution_count": 11,
   "metadata": {},
   "outputs": [
    {
     "name": "stdout",
     "output_type": "stream",
     "text": [
      "These axioms may now be imported from the theory package: proveit.logic.booleans.disjunction\n"
     ]
    }
   ],
   "source": [
    "%end axioms"
   ]
  },
  {
   "cell_type": "code",
   "execution_count": null,
   "metadata": {},
   "outputs": [],
   "source": []
  }
 ],
 "metadata": {
  "kernelspec": {
   "display_name": "Python 3",
   "language": "python",
   "name": "python3"
  }
 },
 "nbformat": 4,
 "nbformat_minor": 0
}