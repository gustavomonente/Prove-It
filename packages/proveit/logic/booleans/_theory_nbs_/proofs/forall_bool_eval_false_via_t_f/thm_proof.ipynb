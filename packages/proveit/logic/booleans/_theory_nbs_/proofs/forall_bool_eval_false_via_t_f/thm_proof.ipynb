{
 "cells": [
  {
   "cell_type": "markdown",
   "metadata": {},
   "source": [
    "Proof of <a class=\"ProveItLink\" href=\"../../../../../_theory_nbs_/theory.ipynb\">proveit</a>.<a class=\"ProveItLink\" href=\"../../../../_theory_nbs_/theory.ipynb\">logic</a>.<a class=\"ProveItLink\" href=\"../../theory.ipynb\">booleans</a>.<a class=\"ProveItLink\" href=\"../../theorems.ipynb#forall_bool_eval_false_via_t_f\">forall_bool_eval_false_via_t_f</a> theorem\n",
    "========"
   ]
  },
  {
   "cell_type": "code",
   "execution_count": 1,
   "metadata": {},
   "outputs": [],
   "source": [
    "import proveit\n",
    "theory = proveit.Theory() # the theorem's theory"
   ]
  },
  {
   "cell_type": "code",
   "execution_count": 2,
   "metadata": {},
   "outputs": [
    {
     "data": {
      "text/html": [
       "Under these <a href=\"presumptions.txt\">presumptions</a>, we begin our proof of<br><strong id=\"forall_bool_eval_false_via_t_f\">forall_bool_eval_false_via_t_f:</strong> <a class=\"ProveItLink\" href=\"../../../__pv_it/theorems/175c992e0a0a68673f6db98ffe7cc3db239a16540/expr.ipynb\"><img src=\"data:image/png;base64,iVBORw0KGgoAAAANSUhEUgAAAf8AAAAUBAMAAABxKyl4AAAAMFBMVEX///8QEBCIiIhmZma6urrM\n",
       "zMxUVFQiIiJERETc3Nzu7u6qqqp2dnaYmJgyMjIAAAAcRTyBAAAAAXRSTlMAQObYZgAABS9JREFU\n",
       "WMOlWF1oXEUUPu5P9+/upkJA8EEu7YuI2It9qErVBR/yVMiTBAS3aBNQgllpMfZPog+yi9TdF4kI\n",
       "oSsKLRXDokjoU5fuFbENsioIRRoWVwUrJMGGJpVqnDMz986ZuzO3KQ6cZXa/e7/zzbcz585cAEPL\n",
       "9VSEbSHsXQRbu2hiGu4XmjYCRCzoAiRWx2EHTc+zcixGK0Yfv1zXsfMkftp+d2rQAsjPwYFZbG/A\n",
       "riGFVoQyYB/Sbfx8xSBIISYU8ztlk9igFWe2pl57SuZk7UXJ5A9f+gJ+oFaMq/jlhn7BHyTgX4Ds\n",
       "gwAlPrYvuJa+Ib+G5ChTwMD7BRc/F01/foiYUMzvlE1iwzbCkr/dknkA1iSTH6MV40PUO6d76amA\n",
       "9B2m7S+AH9WtcNlmQICUPMUUMPC+HKbj2gxAxIRifqdsEKtapQNwyZV5oLjWEkx+nFYWJbyureGZ\n",
       "pgpIbLBgQzhObv3YaoBEJk4opoCB9+Uw87ttBiBC0XrQOY4GGMSqtq/MoiPzwGfPNgWTH6eVRfHK\n",
       "hQvzOj5PArLrbKlsQK5Kbi2VbaQSObJHMQUM82SY8KvNAI4QdCKobFU0wCBWtQaLmbLMAz30A5n8\n",
       "OK0YW7XaKR3fS4KvrLMeJDxyq+PZSAWS72cUU8Cwlw6zazWgq6NyQvP8TtkgVjVWanI3ZU5ItS71\n",
       "BJMfpxVjks+zVGP6iVclfoYErqwCy5ntkVuLvNZ9t4ptoJEKxGnLeUoZztBhrvDLOMGqB1GEo0n+\n",
       "ZJm9KVDMzwyYDBZFffgpwtbpUifI8ylUXMHkx2nFeE7U7u8BvpH4SRKwb3r5cbbyMm1ya6Fqc1Ug\n",
       "Gcj1Q6aA4SQd5pJ1BixF0MKfopq0uQFSLBQ35AT5ZXBU1oTEreXuI0FOKOOk40x+nFaMDCTw351i\n",
       "SiU+SgIaLf7bfWVya3rdRiqQH/i8ijCM0mFWrAZUoujiaJCfGSDFwif/YJ3rPg1uZ+ErOUf+Vuoh\n",
       "/fL+mTnB5MdpxXB6fMGeBqiZDNiEezeAPQOeV2I24f8YkJtuEgOkWLhylP37733UAtd1PpfbgCrJ\n",
       "k2J39HdoQK6PYvO3IXHCsATScg1qSyBVVevqd42UIwUv2DdRBm0JjJEacBiiCEeTAl1t0iUgxELa\n",
       "reHaZc11D30rtwEeycOuzuwWTH6cVq63fgS/3Xn0KhiKYGJDFaFIqTO5yhEcfMGDCMNwETTOgBUd\n",
       "TfW1IijEwi44IDfx7v6HxtU2IMiTYwaU1kkRtGnler9EFxwypi6JklxZDn0MJjs2Uo5MyGWgM3Tp\n",
       "MA9aDTioo4stlR8N4GLhZ1av8p6YAckP5Na3pfLgXiB7WzD5cVq53hHMnCWP9jEVybVbLpn1cEhs\n",
       "IQynMoLwP2kPRBjG+JPt9QdmZ9mc/y1yt44QdDKYCVVhABebHyw3Wuk3a7V3sAYk+AXPbL8Uqj+/\n",
       "fQMKjU2PM/nDB7f78eDGtXK9RbRupG3ZCpOtaNjOWY+i58QjCJdpuBUmrOHRrmojQISiTW0rLMUm\n",
       "W3B2HA6LGeAkYWgjT9n8OK1qJJWm5TBEDiNhu2w1IIJQBto3Hnfg7ochNdtGevA1N6DjLNtzWg5D\n",
       "QA9Dchex9iToJ5B6ZLuVVQ4Zj8NmpG7uL1odtB6Hs83QgOwW5BqnIcsmbfHU4P2ePaflOAz0OGxq\n",
       "9IUIeSFh8GJY5TCToV+3GlC3ofyFiP7Tw6wGWNQTNj9Gq20kd3klds0q/9rOXokVrQ4iUrS+Envr\n",
       "Hl+JIdNjx2K0svgP08Lul2eEvcsAAAAASUVORK5CYII=\n",
       "\" style=\"display:inline;vertical-align:middle;\" /></a><br>(see <a class=\"ProveItLink\" href=\"../../../__pv_it/theorems/112b18a83caedd1214ac2a2ce5f3a51d6d825e940/dependencies.ipynb\">dependencies</a>)<br>"
      ],
      "text/plain": [
       "forall_bool_eval_false_via_t_f: forall_{P} (((P(TRUE) = TRUE) and (P(FALSE) = FALSE)) => ([forall_{A in BOOLEAN} P(A)] = FALSE))"
      ]
     },
     "execution_count": 2,
     "metadata": {},
     "output_type": "execute_result"
    }
   ],
   "source": [
    "%proving forall_bool_eval_false_via_t_f"
   ]
  },
  {
   "cell_type": "code",
   "execution_count": null,
   "metadata": {},
   "outputs": [],
   "source": []
  }
 ],
 "metadata": {
  "kernelspec": {
   "display_name": "Python 3",
   "language": "python",
   "name": "python3"
  }
 },
 "nbformat": 4,
 "nbformat_minor": 0
}