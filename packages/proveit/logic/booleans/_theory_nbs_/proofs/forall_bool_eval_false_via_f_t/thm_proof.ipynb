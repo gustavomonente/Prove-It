{
 "cells": [
  {
   "cell_type": "markdown",
   "metadata": {},
   "source": [
    "Proof of <a class=\"ProveItLink\" href=\"../../../../../_theory_nbs_/theory.ipynb\">proveit</a>.<a class=\"ProveItLink\" href=\"../../../../_theory_nbs_/theory.ipynb\">logic</a>.<a class=\"ProveItLink\" href=\"../../theory.ipynb\">booleans</a>.<a class=\"ProveItLink\" href=\"../../theorems.ipynb#forall_bool_eval_false_via_f_t\">forall_bool_eval_false_via_f_t</a> theorem\n",
    "========"
   ]
  },
  {
   "cell_type": "code",
   "execution_count": 1,
   "metadata": {},
   "outputs": [],
   "source": [
    "import proveit\n",
    "theory = proveit.Theory() # the theorem's theory"
   ]
  },
  {
   "cell_type": "code",
   "execution_count": 2,
   "metadata": {},
   "outputs": [
    {
     "data": {
      "text/html": [
       "Under these <a href=\"presumptions.txt\">presumptions</a>, we begin our proof of<br><strong id=\"forall_bool_eval_false_via_f_t\">forall_bool_eval_false_via_f_t:</strong> <a class=\"ProveItLink\" href=\"../../../__pv_it/theorems/444a8fcc0178b183c583f7ca40b93abc5f7381240/expr.ipynb\"><img src=\"data:image/png;base64,iVBORw0KGgoAAAANSUhEUgAAAf8AAAAUBAMAAABxKyl4AAAAMFBMVEX///8QEBCIiIhmZma6urrM\n",
       "zMxUVFQiIiJERETc3Nzu7u6qqqp2dnaYmJgyMjIAAAAcRTyBAAAAAXRSTlMAQObYZgAABTRJREFU\n",
       "WMOlWF1oXEUUPu5P9+/upkJA8EEu7YuI2It9qErVBR/yVMiTBAQTtAlUgllpsfZPog+yi9TdF4kI\n",
       "oSsKLRXDokjoU5fuFbENsioIRRoW1wptIQk2NKlU45yZuXfO3J25TXHgLLP73fudb76dOXfmAhha\n",
       "rqsibPNh7wLY2gUT02C/0LARIGJB5yGxMgrbaHqe5SMxWjF6+OWajp0j8evWB1P9JkB+FvYdxfY2\n",
       "7DApfAU/BhDKgH1It/DzUPTuJKc+OsGRQya9LL9TNokNWnFmc+rN52RO1l6VTH6MVowr+OWmfsEN\n",
       "EvAvQPZRgBIf29dcS8+QX0NylClg4P2Ci58Lpj8/REwo5nfKJrFhG2LJ32vKPACrksmP0YrxCeqd\n",
       "1b30VED6HtP2F8Av6la4ZDMgQEqeYgoYeF8O03FtBiBiQjG/UzaIVW28DXDRlXmguNoUTH6cVhYl\n",
       "vK6l4ZmGCkiss2BDOEZu/cxqgETGjiumgIH35TDzO20GIELRWtA5hgYYxKq2p8yiLfPAly82BJMf\n",
       "p5VF8fL583M6PkcCsmtsqaxDrkJuLZVtpBI5uEsxBQxzZJjwh80AjhB0LKhsFTTAIFa1OouZsswD\n",
       "XfQDmfw4rRib1epJHd9Ngq+sMx4kPHKr49lIBZLvZRRTwLCbDrNjNaCjo3JC8/xO2SBWNVZqcrdl\n",
       "Tkg1L3YFkx+nFWOSz7NUffqZNyR+mgSurALLme2SW4u81v24gq2vkQrEacl5ShlO02Eu88s4wYoH\n",
       "UWSZPBhuCxTzMwMmg0VRGxgVlprFdpDnCxh3BZMfpxXjJVG7fwL4XuInSMCe6aWn2crLtMithYrN\n",
       "VYFkINcLmQKGE3SYi9YZsBhBC7dENWlxA6RYKK7LCfJ7/7CsCYk7S50ngpxQxknHmfw4rRgZSOC/\n",
       "O8WUSnyYBNSb/LeHyuTW9JqNVCA/83kVYRimwxy3GjAeRReGg/zMACkWPv8H61zneXDb89/KOfK3\n",
       "Ug/p1/fOzAomP04rhtPlC/YUQNVkwAY8uAHsGfCyErMB/8eA3HSDGCDFwuXD7N//8NMmuK7zldwG\n",
       "VEieFLujt00Dcj0Um78LieOGJZCWa1BbAqmKWld/aqQcKXjBvokyaEtghNSACYgiHE0KdKVBl4AQ\n",
       "C2m3imuXNdc98IPcBngkD7s6s1Mw+XFaud7aQfx278krYCiCiXVVhCKlzuQqR3DwBQ8iDINF0DgD\n",
       "lnU01dOKoBALO2Cf3MS7ex8bVduAIE+OGVBaI0XQppXr/QZdcMiYOiRKcmU59DGYbNtIOTIml4HO\n",
       "0KHD3G81YL+OLjRVfjSAi4XfWL3Ke2IGJD+WW9+myoN7gexdweTHaeV6hzBzljzaR1QkV++4ZNbD\n",
       "AbGFiJ7K2DHpYTwmCYT/SbsgwjDCn2xvPYJHHrg+qCol5th10NDJAK0IA7jYfH+p3ky/U62+jzUg\n",
       "wS94Yeu1UP25rZtQqG94nMmP08r1FtG6oZZlK0y2omE7az2KnhWPIFym4VaYsIZHu4qNABGKNrSt\n",
       "sBSbbMKZUZgQM8BJwsBGnrL5cVrVSMYblsMQOYyE7ZLVgAhCGWjfeNyB+x+GZJ/Nw6EufMcNaDtL\n",
       "9pyWwxDQw5DcRaw+C/oJpBbZbmWVQ8bjsBmpmfsLVgetx+FsIzQguwm5+inIsklbPNn/qGvPaTkO\n",
       "Az0Omxp9IUJeSBi8GFQ5yGTo16wG1GwofyGi//Q4qwEW9YTNj9FqG8l9Xoldtcq/ur1XYkWrg4gU\n",
       "ra/E3n3AV2LI9NSRGK0s/gNoXu7Egn/V3AAAAABJRU5ErkJggg==\n",
       "\" style=\"display:inline;vertical-align:middle;\" /></a><br>(see <a class=\"ProveItLink\" href=\"../../../__pv_it/theorems/718e836a88b5fa16373c69c853a869c73ece40370/dependencies.ipynb\">dependencies</a>)<br>"
      ],
      "text/plain": [
       "forall_bool_eval_false_via_f_t: forall_{P} (((P(TRUE) = FALSE) and (P(FALSE) = TRUE)) => ([forall_{A in BOOLEAN} P(A)] = FALSE))"
      ]
     },
     "execution_count": 2,
     "metadata": {},
     "output_type": "execute_result"
    }
   ],
   "source": [
    "%proving forall_bool_eval_false_via_f_t"
   ]
  },
  {
   "cell_type": "code",
   "execution_count": null,
   "metadata": {},
   "outputs": [],
   "source": []
  }
 ],
 "metadata": {
  "kernelspec": {
   "display_name": "Python 3",
   "language": "python",
   "name": "python3"
  }
 },
 "nbformat": 4,
 "nbformat_minor": 0
}