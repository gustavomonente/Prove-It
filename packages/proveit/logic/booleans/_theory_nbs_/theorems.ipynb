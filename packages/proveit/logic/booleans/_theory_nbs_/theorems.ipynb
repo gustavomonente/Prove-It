{
 "cells": [
  {
   "cell_type": "markdown",
   "metadata": {},
   "source": [
    "Theorems (or conjectures) for the theory of <a class=\"ProveItLink\" href=\"theory.ipynb\">proveit.logic.booleans</a>\n",
    "========"
   ]
  },
  {
   "cell_type": "code",
   "execution_count": 1,
   "metadata": {},
   "outputs": [],
   "source": [
    "import proveit\n",
    "# Prepare this notebook for defining the theorems of a theory:\n",
    "%theorems_notebook # Keep this at the top following 'import proveit'.\n",
    "from proveit.logic import Boolean, TRUE, FALSE, in_bool, Implies, Not, And, Or, Forall\n",
    "from proveit.logic import Equals, NotEquals, InSet\n",
    "from proveit import A, C, P, Q, PofA, QofA\n",
    "from proveit.logic import PofTrue, PofFalse, QimplPofTrue, QimplPofFalse"
   ]
  },
  {
   "cell_type": "code",
   "execution_count": 2,
   "metadata": {},
   "outputs": [
    {
     "name": "stdout",
     "output_type": "stream",
     "text": [
      "Defining theorems for theory 'proveit.logic.booleans'\n",
      "Subsequent end-of-cell assignments will define theorems\n",
      "'%end theorems' will finalize the definitions\n"
     ]
    }
   ],
   "source": [
    "%begin theorems"
   ]
  },
  {
   "cell_type": "markdown",
   "metadata": {},
   "source": [
    "### Comparisons between Boolean values"
   ]
  },
  {
   "cell_type": "code",
   "execution_count": 3,
   "metadata": {},
   "outputs": [
    {
     "data": {
      "text/html": [
       "<strong id=\"true_eq_true\"><a class=\"ProveItLink\" href=\"proofs/true_eq_true/thm_proof.ipynb\">true_eq_true</a> (established theorem):<br></strong> <a class=\"ProveItLink\" href=\"../__pv_it/theorems/c634ea3f659141fd2d47eaa009138b5e8793502a0/theorem_expr.ipynb\"><img src=\"data:image/png;base64,iVBORw0KGgoAAAANSUhEUgAAADoAAAAOBAMAAACMfhKgAAAAIVBMVEX///8yMjJ2dnaYmJi6urqI\n",
       "iIiqqqpUVFQiIiJmZmYAAAAYAVJeAAAAAXRSTlMAQObYZgAAACtJREFUGNNjmNEBAu0MqABJNJUB\n",
       "G0hFowdKVlEQBCQHyF5xKprsjFUWJAoAeuASqfAPxAMAAAAASUVORK5CYII=\n",
       "\" style=\"display:inline;vertical-align:middle;\" /></a><br>"
      ],
      "text/plain": [
       "true_eq_true: TRUE = TRUE"
      ]
     },
     "execution_count": 3,
     "metadata": {},
     "output_type": "execute_result"
    }
   ],
   "source": [
    "true_eq_true = Equals(TRUE, TRUE)"
   ]
  },
  {
   "cell_type": "code",
   "execution_count": 4,
   "metadata": {},
   "outputs": [
    {
     "data": {
      "text/html": [
       "<strong id=\"false_eq_false\"><a class=\"ProveItLink\" href=\"proofs/false_eq_false/thm_proof.ipynb\">false_eq_false</a> (established theorem):<br></strong> <a class=\"ProveItLink\" href=\"../__pv_it/theorems/13f700f7be78d812447f9fa5956768371ba71add0/theorem_expr.ipynb\"><img src=\"data:image/png;base64,iVBORw0KGgoAAAANSUhEUgAAADoAAAAOBAMAAACMfhKgAAAAIVBMVEX///8yMjJ2dnZUVFQQEBAi\n",
       "IiJmZmaIiIiqqqrMzMwAAAAsw9r6AAAAAXRSTlMAQObYZgAAAC5JREFUGNNjYGBgmMGADcBE27HK\n",
       "tg8SWUVBEBAbIHuFqWVyamioS2hoMJoUVBQAPnsTjiuM4g8AAAAASUVORK5CYII=\n",
       "\" style=\"display:inline;vertical-align:middle;\" /></a><br>"
      ],
      "text/plain": [
       "false_eq_false: FALSE = FALSE"
      ]
     },
     "execution_count": 4,
     "metadata": {},
     "output_type": "execute_result"
    }
   ],
   "source": [
    "false_eq_false = Equals(FALSE, FALSE)"
   ]
  },
  {
   "cell_type": "code",
   "execution_count": 5,
   "metadata": {},
   "outputs": [
    {
     "data": {
      "text/html": [
       "<strong id=\"true_not_false\"><a class=\"ProveItLink\" href=\"proofs/true_not_false/thm_proof.ipynb\">true_not_false</a> (established theorem):<br></strong> <a class=\"ProveItLink\" href=\"../__pv_it/theorems/e17a23b938ec159056db98b347fcacb91c28c1310/theorem_expr.ipynb\"><img src=\"data:image/png;base64,iVBORw0KGgoAAAANSUhEUgAAADoAAAAUCAMAAADrw95cAAAAOVBMVEX///8QEBAkJCQNDQ0oKCjM\n",
       "zMxEREQyMjLc3Nzu7u52dnaYmJi6urqIiIiqqqpUVFQiIiJmZmYAAADZ9py9AAAAAXRSTlMAQObY\n",
       "ZgAAAIFJREFUOMvFk9sOgCAIQLHymkn+/8+2bGtlMJWXeHATOJzxAEArgucqeX8EfuvO1hmdXt+0\n",
       "caMx1pmql0WdASmKWooS0l7U6GE02BLLfL5ZYqWkfahGkKLGCdCy66SujXHcaklpDxoz9KBxJaSe\n",
       "PhWluFO5h2eQhvVSMoUfpBCbHQfq2wZjnRBGFAAAAABJRU5ErkJggg==\n",
       "\" style=\"display:inline;vertical-align:middle;\" /></a><br>"
      ],
      "text/plain": [
       "true_not_false: TRUE != FALSE"
      ]
     },
     "execution_count": 5,
     "metadata": {},
     "output_type": "execute_result"
    }
   ],
   "source": [
    "true_not_false = NotEquals(TRUE, FALSE)"
   ]
  },
  {
   "cell_type": "markdown",
   "metadata": {},
   "source": [
    "### `TRUE` and `FALSE` are in the Boolean set:"
   ]
  },
  {
   "cell_type": "code",
   "execution_count": 6,
   "metadata": {},
   "outputs": [
    {
     "data": {
      "text/html": [
       "<strong id=\"fold_is_bool\"><a class=\"ProveItLink\" href=\"proofs/fold_is_bool/thm_proof.ipynb\">fold_is_bool</a> (conjecture with conjecture-based proof):<br></strong> <a class=\"ProveItLink\" href=\"../__pv_it/theorems/8df5b2377e1db5fadc8ebb0bfab3158e91bc65070/theorem_expr.ipynb\"><img src=\"data:image/png;base64,iVBORw0KGgoAAAANSUhEUgAAAO0AAAAWBAMAAADeNgZmAAAAMFBMVEX///8QEBCIiIhmZma6urrM\n",
       "zMxUVFQiIiJERETc3Nzu7u6qqqp2dnaYmJgyMjIAAAAcRTyBAAAAAXRSTlMAQObYZgAAArFJREFU\n",
       "SMe1Vs9r1EAUfubH7iabTXso9CYL/gEtiognFwpWCoU9FU+6YAU9WfHgwR9EL6aHsjlZb41U2lJB\n",
       "Fzx5EJfWQ6kKuYoWFjxZ0PYgWA9a38wkmZc2yYrEBzsz+b5Mvpk338wswH8JI8hjX+KvxxpbReuu\n",
       "iOpCElWuu7+HpwFKHsBbBmwXrftFVDsHYFuvrywGYOJkH7GsOAXL1kZFteMn8YoWKE0UW8MhIGV1\n",
       "CtYte7x6esYLx/Hg5t1Qt9pB3ccIba6uzhed5vCDwUiD1/p9P56vNYG6NuJ7rns7pauXgul/Sx/j\n",
       "pea/FrZ+5ss8j081McG4DpcBZjkoSk28YREojmojavWh53j5BC7WeeOqXN/h/SGWdzTWGLcXtr8L\n",
       "CuSrIYSx4d5z3S6cjp4P0Lg1WBHTt3jZgAXhL4f4ytrq4ghn0AOg8Gws/iK6epdAEl+CGtPLpsMY\n",
       "4t+4dOIaV9SPfsMIdcGZRGQXUxaU+bubN4huqUkgiduegrl8mE1TXVyxIzyTBp0vOCWha/Sm+KDq\n",
       "LtEtU0jimBmHpTObJnnGzVke5I+DVLdl45BmmDumxQKdIrrzEVRyMeYivNqCN2C0cmjpKwN17V3+\n",
       "eDwx30/CV/CCicNHGCG65ygkcc3Bk1f1cmgR6+HQKz9F9jrxOdm11nFwKvPHADO7+fld25e6Zykk\n",
       "P6z3wGos5dEixvFm2N+GavsHN7R5ZSJxL4DN/FFjvVUfFppS93wElZgVv8YTaoHpnMyjE+dkHNqG\n",
       "OCejWI5baO6BQOouU0hOqIb5ed/Kpem9kBlrcbc9MNp3iJ99AsmDQcVd9Lx5mA6PFTU+sGZzZc3e\n",
       "YUzoKuk3lM065dOJez8jKl6WLqTfyK+iRh+6z/+cD5CpO5man1Fihzz6H0IN75a0i06J900fun/8\n",
       "AW+5zeQvOwB3AAAAAElFTkSuQmCC\n",
       "\" style=\"display:inline;vertical-align:middle;\" /></a><br>"
      ],
      "text/plain": [
       "fold_is_bool: forall_{A | (A = TRUE) or (A = FALSE)} (A in BOOLEAN)"
      ]
     },
     "execution_count": 6,
     "metadata": {},
     "output_type": "execute_result"
    }
   ],
   "source": [
    "fold_is_bool = Forall(A, in_bool(A), \n",
    "                    conditions=[Or(Equals(A, TRUE), Equals(A, FALSE))])"
   ]
  },
  {
   "cell_type": "code",
   "execution_count": 7,
   "metadata": {},
   "outputs": [
    {
     "data": {
      "text/html": [
       "<strong id=\"true_is_bool\"><a class=\"ProveItLink\" href=\"proofs/true_is_bool/thm_proof.ipynb\">true_is_bool</a> (conjecture with conjecture-based proof):<br></strong> <a class=\"ProveItLink\" href=\"../__pv_it/theorems/847a3c7911d7825648672385164fb1d3a7c0afb90/theorem_expr.ipynb\"><img src=\"data:image/png;base64,iVBORw0KGgoAAAANSUhEUgAAADYAAAAPBAMAAABdHiGLAAAAMFBMVEX///92dnYQEBDc3Nzu7u7M\n",
       "zMwyMjJERESYmJi6urqIiIiqqqpUVFQiIiJmZmYAAABV8JwGAAAAAXRSTlMAQObYZgAAAJVJREFU\n",
       "GNNjeHsXBO4wIAOuS+XfdE+CmbsY0AEb6wJ3vwbscuycDVwBBahy7XfvJkDluDegyoUvQehjnIIi\n",
       "x5KCZObcmABkOR4DhJzuf00Ud7Iju4WxQwBZLigNCGBuYSiYgSxnjqyPoYAHWY4JRe4AG7Ic3wIU\n",
       "fY0o/ruNCDMBRrkDINYMmJBPpQN6WCPAxFpImEEAACptMtKk+o6sAAAAAElFTkSuQmCC\n",
       "\" style=\"display:inline;vertical-align:middle;\" /></a><br>"
      ],
      "text/plain": [
       "true_is_bool: TRUE in BOOLEAN"
      ]
     },
     "execution_count": 7,
     "metadata": {},
     "output_type": "execute_result"
    }
   ],
   "source": [
    "true_is_bool = InSet(TRUE, Boolean)"
   ]
  },
  {
   "cell_type": "code",
   "execution_count": 8,
   "metadata": {},
   "outputs": [
    {
     "data": {
      "text/html": [
       "<strong id=\"false_is_bool\"><a class=\"ProveItLink\" href=\"proofs/false_is_bool/thm_proof.ipynb\">false_is_bool</a> (conjecture with conjecture-based proof):<br></strong> <a class=\"ProveItLink\" href=\"../__pv_it/theorems/81f5aadf2376c2b8432b5bb99f51faa40bfa59920/theorem_expr.ipynb\"><img src=\"data:image/png;base64,iVBORw0KGgoAAAANSUhEUgAAADYAAAAPBAMAAABdHiGLAAAAMFBMVEX///92dna6urrc3Nzu7u4y\n",
       "MjJERESYmJhUVFQQEBAiIiJmZmaIiIiqqqrMzMwAAADwFAjMAAAAAXRSTlMAQObYZgAAAJtJREFU\n",
       "GNNjYGBgeMuABnhWpn2d1QRm3kGXY2DlO+DmXYBdjo2pgOdBAqpc2apVAVA53guocs+OIPQxqqDI\n",
       "sYQgman14gGyHIcBQm7W/0ko7mRDdgtjuQCy3MtQIIC5hSFBHVnODFkfQwIHshwnilwDK7Ic9wEU\n",
       "fYUo/luLCDMBRukGhl2rVs1ctWoFWMgjyQE9rBFAMQsSZhAAAHA/MhEUp0UxAAAAAElFTkSuQmCC\n",
       "\" style=\"display:inline;vertical-align:middle;\" /></a><br>"
      ],
      "text/plain": [
       "false_is_bool: FALSE in BOOLEAN"
      ]
     },
     "execution_count": 8,
     "metadata": {},
     "output_type": "execute_result"
    }
   ],
   "source": [
    "false_is_bool = InSet(FALSE, Boolean)"
   ]
  },
  {
   "cell_type": "code",
   "execution_count": 9,
   "metadata": {},
   "outputs": [
    {
     "data": {
      "text/html": [
       "<strong id=\"in_bool_if_true\"><a class=\"ProveItLink\" href=\"proofs/in_bool_if_true/thm_proof.ipynb\">in_bool_if_true</a> (conjecture with conjecture-based proof):<br></strong> <a class=\"ProveItLink\" href=\"../__pv_it/theorems/d758c67e791479ea7802d2ef112a3fc42be3ebb20/theorem_expr.ipynb\"><img src=\"data:image/png;base64,iVBORw0KGgoAAAANSUhEUgAAAIgAAAAWBAMAAADp+MlSAAAAMFBMVEX///8QEBCIiIhmZma6urrM\n",
       "zMxUVFQiIiJERETc3Nzu7u6qqqp2dnaYmJgyMjIAAAAcRTyBAAAAAXRSTlMAQObYZgAAAgxJREFU\n",
       "OMtjYCACzMUnyT2BgeEBiHEXrxlcDWCK9QGqsLpE/8MyBwaGTAaG0yD+K7yG8E2AUB/QxB8EcXXZ\n",
       "MjCsY2CYAeRxNuA15DKEuvcLTbzBl0GVg4GBR4GBbwGQ2oDXkEqIpzb/hHB528vrYIbsBhrCJcDA\n",
       "e2rVqul4zeAsgOhl+gIJmqYFCJccWQGknzAw/OjoqMFrCJMBmPLi/gum1y1AeIelNBVIH2ZgAFKd\n",
       "YDEIyQJTwjEBxrgA9o0D6ycwNxMRJo71Hx1AgcXA4MzABY47XohrOWBK7jtAGewbIIZzfoZoRQ7Y\n",
       "s3eA9HagGgYmsFWL/6IYwmV/AcpiBJsWZmz2Axwkcu+AAGYIBwtQVTwwai6wg4VOFaMYwrPcAMUQ\n",
       "ICHHgJocQIYwJIAN4XwQBrZBoQPFkCCOBmTvcANxIZgrgGwIGyjFu4MCNAUkwsZgjmJIAnMBcsDO\n",
       "BuL3YK4Rikt4D4ADlmEzWPVtBn1kQ3g3MMFSOY8BNK30T0CEMzjZxzCcMQPSNkDMrwAKx8dn+hcg\n",
       "GbLO5gQslbMUMHD1/1vAsOM/ONS4MrxQMyDDU5ClIM3MCxjmByAZYsXA+RU12cMBywlosofFI8zf\n",
       "DL5AF11AGAKKub9oGRAX4FGABd4PBs7+WoQh/Q0MM75fQE+72ME6TCEOnIUSLtBJlCH4i0feCcQZ\n",
       "QjJgJkMPAIOrgzUczSzjAAAAAElFTkSuQmCC\n",
       "\" style=\"display:inline;vertical-align:middle;\" /></a><br>"
      ],
      "text/plain": [
       "in_bool_if_true: forall_{A | A} (A in BOOLEAN)"
      ]
     },
     "execution_count": 9,
     "metadata": {},
     "output_type": "execute_result"
    }
   ],
   "source": [
    "in_bool_if_true = Forall(A, in_bool(A), conditions=[A])"
   ]
  },
  {
   "cell_type": "code",
   "execution_count": 10,
   "metadata": {},
   "outputs": [
    {
     "data": {
      "text/html": [
       "<strong id=\"in_bool_if_false\"><a class=\"ProveItLink\" href=\"proofs/in_bool_if_false/thm_proof.ipynb\">in_bool_if_false</a> (conjecture with conjecture-based proof):<br></strong> <a class=\"ProveItLink\" href=\"../__pv_it/theorems/59961d199f163dc300e4efde0f16f713890c968e0/theorem_expr.ipynb\"><img src=\"data:image/png;base64,iVBORw0KGgoAAAANSUhEUgAAAJMAAAAWBAMAAAA2trNNAAAAMFBMVEX///8QEBCIiIhmZma6urrM\n",
       "zMxUVFQiIiJERETc3Nzu7u6qqqp2dnaYmJgyMjIAAAAcRTyBAAAAAXRSTlMAQObYZgAAAgVJREFU\n",
       "OMudlL9Lw0AUx5/9nbZGB6GbFPwDFB0cFRyEgpDJUQsq6GTFwcEfBBfjIM2mmxEFRUEKTk6KLkUd\n",
       "sooWCk52sA6COvjj3bv86MVqUx/k7vK95JP3vncXAL8hmX/NnuJVZoOSD9QB78ZENTCnfaYmASI6\n",
       "wDUTKj5Qj7yremQ5nD7YNSGOKW2x3NXGpNYe3lUNUY+FzICC718gFaeShcaoqE7d0YBuodcWVixU\n",
       "ooCoHZSuDg83fdRnPWN2D1IfXjWcrJIZRMmov2nakg9UF7Uh44wv5LHhFjg8qmBlaMAUwDqJvA2J\n",
       "hHV7sEHtHoynaTDjepX66mAFo+9D5D6OX/iUaPaLPVqkdhC2uf1qje3J0jlAIod+QoBy3v2og7JE\n",
       "jA5yaKJvliDhzicMCwXqCCrPWKQZpWev5uugLNFGYfUtVIJUmxWoEY6SyqP0nbT2E2WLdoG4aaLt\n",
       "dNtei8rK+JUcc3aSSRHo/4myRct2CVHyM932Clndc9vhhPHgDrprUEVN08quiHFp7a3YO9+xBefg\n",
       "nCcvswBBtB7a2PLGH27yhphV1hUxhvFAf1UgkX+lJYxPZ4TjDLLCFpw9HTRgW/GiHNE9OE6Eivzg\n",
       "2LHvjHA520wvyhHd4/xrXDjmvYGUXxZRuisK+75u8G3u+Wk0+PX9EjG9CdTfP+RbaALVfAT//eY3\n",
       "SaaJBrh1E0EAAAAASUVORK5CYII=\n",
       "\" style=\"display:inline;vertical-align:middle;\" /></a><br>"
      ],
      "text/plain": [
       "in_bool_if_false: forall_{A | not(A)} (A in BOOLEAN)"
      ]
     },
     "execution_count": 10,
     "metadata": {},
     "output_type": "execute_result"
    }
   ],
   "source": [
    "in_bool_if_false = Forall(A, in_bool(A), conditions=[Not(A)])"
   ]
  },
  {
   "cell_type": "code",
   "execution_count": 11,
   "metadata": {},
   "outputs": [
    {
     "data": {
      "text/html": [
       "<strong id=\"not_equals_false\"><a class=\"ProveItLink\" href=\"proofs/not_equals_false/thm_proof.ipynb\">not_equals_false</a> (established theorem):<br></strong> <a class=\"ProveItLink\" href=\"../__pv_it/theorems/92fe06541c17c8569f73d686d48198644f9fd14c0/theorem_expr.ipynb\"><img src=\"data:image/png;base64,iVBORw0KGgoAAAANSUhEUgAAAIwAAAAWCAMAAAAl44QpAAAAOVBMVEX///8kJCQNDQ0oKCgQEBCI\n",
       "iIhmZma6urrMzMxUVFQiIiJERETc3Nzu7u6qqqp2dnaYmJgyMjIAAAD9T1yxAAAAAXRSTlMAQObY\n",
       "ZgAAActJREFUSMe9ltt2hCAMRWkrAQn3///YCjoaLip1ZjUPCgZ1cxICjH3GtB8Y5Mypy+p0DXvf\n",
       "++csBmlPhj5w81javTknGrf3g3kOE3TRi91Bs2j04Md0Eql+zUnjcxYPRS/E3rw6PyAwzHEiyCHR\n",
       "301RYYyFqHvCyEsYM6V5OJNMqzeyt3jXMx7FkDAFDAvppYjJlHsOw2mUhGE2dtYCyhsYB7t8SJSl\n",
       "bdZMEpsYIPm3WcbLSHMhZPv5Tle4gPEphQW8kvn1tFC5Vte3MVC2ZNcRhoQpYWwOdrrwY3IGCpUr\n",
       "mMqbbTrw5AwAc2zyQ87sDkbmguD8CrTXSQXnMJW3hllbU7iP7QnMUhkJuOQM8RSm9lZh2hpqqnLm\n",
       "a1ozZ76AEWrDJsVxGQ/qFKb2lgms7UkJDprdKuNXOS35vl++x+MZTOM9FiWtN1hVPQHsHga24nIs\n",
       "RRPAOaTlnMK0XiKwwRhzObdLo0ysdtsDlWya8m0NXtjWm98Hg8lLU/ZhWm9nO+gIACMbfxN9sUaf\n",
       "rl689PY2ynZPHzkPOF5nYi4QGqPyHZie93LlvoQZ2WlMGNl4hk4WBt8VBvXHYC6PnWLkRDTEwt44\n",
       "c33e4P9+9Qt0rxOicyeldgAAAABJRU5ErkJggg==\n",
       "\" style=\"display:inline;vertical-align:middle;\" /></a><br>"
      ],
      "text/plain": [
       "not_equals_false: forall_{A | A} (A != FALSE)"
      ]
     },
     "execution_count": 11,
     "metadata": {},
     "output_type": "execute_result"
    }
   ],
   "source": [
    "not_equals_false = Forall(A, NotEquals(A, FALSE), conditions=[A])"
   ]
  },
  {
   "cell_type": "markdown",
   "metadata": {},
   "source": [
    "### Must equal `TRUE` or `FALSE` if in the Boolean set:"
   ]
  },
  {
   "cell_type": "markdown",
   "metadata": {},
   "source": [
    "***The first form of 'unfold' is a more direct consequence of the Boolean definition.  See also 'unfold_is_bool'.***"
   ]
  },
  {
   "cell_type": "code",
   "execution_count": 12,
   "metadata": {},
   "outputs": [
    {
     "data": {
      "text/html": [
       "<strong id=\"unfold_is_bool_explicit\"><a class=\"ProveItLink\" href=\"proofs/unfold_is_bool_explicit/thm_proof.ipynb\">unfold_is_bool_explicit</a> (conjecture with conjecture-based proof):<br></strong> <a class=\"ProveItLink\" href=\"../__pv_it/theorems/efabbf8bd1d9d22b4d3d1ca366ed81ced6875d3d0/theorem_expr.ipynb\"><img src=\"data:image/png;base64,iVBORw0KGgoAAAANSUhEUgAAAPUAAAAUBAMAAACnh2ZxAAAAMFBMVEX///8QEBCIiIhmZma6urrM\n",
       "zMxUVFQiIiJERETc3Nzu7u6qqqp2dnaYmJgyMjIAAAAcRTyBAAAAAXRSTlMAQObYZgAAApxJREFU\n",
       "SMeVVktrE1EUPubRvGaq/oEyuHLnQMFuFAIuBKGQVRFcmIUu3EUCRkuFIggJgpmNKEpxxEWhYgkW\n",
       "UXfB4sJaJNSViGUw6sKFFnURBR/n3nMmcZI5t/WD73Bvcr/57rlvADMWmAYUvDiRCU+Ygaq8lVrl\n",
       "54mIdDD0X7KmUYYzMaI4gcIJFcY84gtV+SR5j3tEVdyKSdlRcVmXS9ovFAkCeKA7FxBvYDk3L3m/\n",
       "YiI2f0relo6nVdgAs4C84Slx3EdxS/K+wMR+rvyQvPN7VJxRYRbMAva+Q7TXlpauS9a5ChFhJ75L\n",
       "3vA+HOmUC2YBe48Xib16fU7yTrhExLHCL9F7VZexXdYDs4C9LZeI89TQPzRGW2Y7RBzBYvqrVn3W\n",
       "cCPemzpiusdD0UAAL7WgG/G2A+IRveSwzENkv+tWw/nPtIg4mpD7Jub9SMd9AKdCkSRg70KFmIGE\n",
       "7uhdNUT3Vg+D0154yC13FYm4kiYP9kTvkzouchImAXunt4hWJ6Pra1XM+cpNHxzHuj/ijWFiG+9k\n",
       "i/aLSTDknQv07kg7dTX+CMeZfj485gXk2X/muxzxPkqbIsj0RQMBz/fHiHeqQoSGnqUxmOID1pmc\n",
       "KA2vtVvIL2LetNbg8kZfJAmG1hqs6P34Bg5A3qW8k9e4ZbgX9JZtepL3IarNzPZFkoC9k20i7FYf\n",
       "yHfXm376fL1+Sc13glvy2OSbv314/Kc68qWUXqXwgQ9/NxQJgqlabW+tdg5blohg+6onPtwuQZny\n",
       "tpKjZ6oB+Qqfgv5AZMYikzCN+XfgmfZuW+sxd4kMukuiF5AZfJfwoupBrnkRsrhE7bnu1U7/d48P\n",
       "ShOWh0/D7QThHRrFfpxv4e0goxH/dpCxo4x29Gay//vN9Jr4F3oK30v5unkqAAAAAElFTkSuQmCC\n",
       "\" style=\"display:inline;vertical-align:middle;\" /></a><br>"
      ],
      "text/plain": [
       "unfold_is_bool_explicit: forall_{A in BOOLEAN} ((A = TRUE) or (A = FALSE))"
      ]
     },
     "execution_count": 12,
     "metadata": {},
     "output_type": "execute_result"
    }
   ],
   "source": [
    "unfold_is_bool_explicit = Forall(A, Or(Equals(A, TRUE), Equals(A, FALSE)), domain=Boolean)"
   ]
  },
  {
   "cell_type": "markdown",
   "metadata": {},
   "source": [
    "### Folding $\\forall$ over the Boolean domain"
   ]
  },
  {
   "cell_type": "code",
   "execution_count": 13,
   "metadata": {},
   "outputs": [
    {
     "data": {
      "text/html": [
       "<strong id=\"fold_forall_over_bool\"><a class=\"ProveItLink\" href=\"proofs/fold_forall_over_bool/thm_proof.ipynb\">fold_forall_over_bool</a> (conjecture with conjecture-based proof):<br></strong> <a class=\"ProveItLink\" href=\"../__pv_it/theorems/dbe99052484bf2de0ff5c6c5e4668f32e25a71e80/theorem_expr.ipynb\"><img src=\"data:image/png;base64,iVBORw0KGgoAAAANSUhEUgAAAPgAAAAWBAMAAAAfsUzKAAAAMFBMVEX///8QEBCIiIhmZma6urrM\n",
       "zMxUVFQiIiJERETc3Nzu7u6qqqp2dnaYmJgyMjIAAAAcRTyBAAAAAXRSTlMAQObYZgAAA4JJREFU\n",
       "SMetll1IVEEUx//d/d69V33oIXoKegj60C0DtQKFoHzLeqiX0IVKKIL2oSf7YCGoKxW7T+VTLRRk\n",
       "G9hCUQhBkkGhJttLRZktlA8JpahpmmVnzsze3XtzzdgG5s6cM+fOb+bMOXMv8D+K9rVpOWaBTK4X\n",
       "SgDDJ5EV/fclwvWGMtEYmcWHXy2cb/2YBDql2Ez1KNWn6BfiaMlwPU1NWbLI+C/Avxr4LKUxql0M\n",
       "7xDuiJUM5yk6igx75snREzDCLBljtEZ9jYCL1fKyS4Oz8/qLhcQU1Xn4Eizdqac2WCHgRl8qdRWl\n",
       "w4dSqdvRIsP+ccA7BYXJVDXQ85OA47tpni4en6ptWlpL8HLTvNBTZJZyiurrYaxlwZ18LOKyl+FH\n",
       "gHZSxY/XHuMxad843XueDiQ33X35njKyayXc2wQ/u1U+baWlByHa4GUWbqKFzhvDDN+JoEi3l8Az\n",
       "flfaGxXQo/AmdNNcZV6CS84ojbxCiFB1JfJwd5gjGPjQIHXDlTXb1XDV8YEttJNTLDQIJwAPGe6D\n",
       "JtzQSjYFcG8E2jgOiq6I42CEtdLIqWU4otgkusF6mi34qDqj6YF36lziMgVXcuQfqj4h3m1huJ7x\n",
       "CeUZwCyA+zLwx8SRSIxKUWnk1Er4C3C86bdoX2+6U9A09KlLZwZ5OB3riqwFD2T3iwXPQmsrgN9N\n",
       "YF1STscYuStp5NAq+DUP+2Efrdkt/Kpp7iF5LJ5JacVup6z2UZphN8PRflgsaH6jzFIF3/NkII1A\n",
       "HvMAlpFTq+D+K3zYEVcUfNdqrs0j+TQXRQRcgOBl41bA4Z6YTM/mclI2gwyLWZhGWEZOrYKHajhQ\n",
       "0xQqNxipoU6eedmctKLs4lz3z9Jjh4SXi8j3h+3wc4yJWJhmWEZOrYJjQvS6djyfwwHTNNcQvEfM\n",
       "DNfYNLfC050LowjFZ2ieEQk3RCyWp+3wH3xY+T3ugmXk1Obgb0VvGwLf4FU77wnb0t1XcAMEoxIu\n",
       "74GEDe6ZzVkozBA6ksrIpi2As1covn9CF+7WdAzYrzyjYC3yw6JiYqzOBq+cZA7HP3t5K/amc0Zt\n",
       "UFcPaR3weAwdMxlcpO7rwdovjpuuPd+Vn9Q/PgKFwgarl+UkWURrh+f2Qme+yB3faV/HX+CWEMrw\n",
       "n8+fWgU7+4+/UQZNVnlyabg7Z03JYyyq/b/FZZO6Vbt+Gdp/L78Bj63+YiYwFhMAAAAASUVORK5C\n",
       "YII=\n",
       "\" style=\"display:inline;vertical-align:middle;\" /></a><br>"
      ],
      "text/plain": [
       "fold_forall_over_bool: forall_{P | P(TRUE), P(FALSE)} [forall_{A in BOOLEAN} P(A)]"
      ]
     },
     "execution_count": 13,
     "metadata": {},
     "output_type": "execute_result"
    }
   ],
   "source": [
    "fold_forall_over_bool = Forall(P, Forall(A, PofA, domain=Boolean), conditions=[PofTrue, PofFalse])"
   ]
  },
  {
   "cell_type": "code",
   "execution_count": 14,
   "metadata": {},
   "outputs": [
    {
     "data": {
      "text/html": [
       "<strong id=\"fold_conditioned_forall_over_bool\"><a class=\"ProveItLink\" href=\"proofs/fold_conditioned_forall_over_bool/thm_proof.ipynb\">fold_conditioned_forall_over_bool</a> (conjecture with conjecture-based proof):<br></strong> <a class=\"ProveItLink\" href=\"../__pv_it/theorems/1fcba9a704b15bcd87e7262a76c8821f1545299e0/theorem_expr.ipynb\"><img src=\"data:image/png;base64,iVBORw0KGgoAAAANSUhEUgAAAbQAAAAZBAMAAACr78bxAAAAMFBMVEX///8QEBCIiIhmZma6urrM\n",
       "zMxUVFQiIiJERETc3Nzu7u6qqqp2dnaYmJgyMjIAAAAcRTyBAAAAAXRSTlMAQObYZgAABXBJREFU\n",
       "WMPtWF1oHFUUPr37k53Z3axIBa0iq30Qqm0iKWkaS10QShHEtA/RBzGL2ogidkUxtFjYItipFnf7\n",
       "0gakdWugxQVroKIW/FkS0NLGstIHfxLrFqqgIAlWaxLT1HPOnbn3zu7QxFBIBC/Mz5lzvjPnO/fe\n",
       "c+8MwJJoT/cVr6/DcN8rS4MZ5K6/ywP/U/svUDuk7k5KajW6/LD41Jrpkqz+e2hy+2Tv850Adp7F\n",
       "CBKKFpnaGZJ/XXxqiUG8NJcWgE0hmd0laJaFqHkCWdaYWj+erfziU+MY+heC7akAfJ6Gc1I6P42n\n",
       "IaZGieKMLfZco5FzZiHYlgweFdjBgn1iCs9HmFrydLl8cCmUkbFy+d0FVZMCHtszlsQmxR80KjNc\n",
       "IScdZ+7VzXKvXfPWuUtwJMhbow7jSjnOnso8mDSAZzGESyBaWXgwfgXPiVamtg1gL67ehec6niXd\n",
       "ypFOuZy7QCl77/zAXPBdSJ1ObBimMe4+jGcMxObLw68F65BatAtiHHasfmMSbnCMJgocmQH4qAIx\n",
       "Lq52JvI79V2NqT0gC8rXAF/i5XAGtnCZikmglKPFhOPc7OyDkPlaCanTWRchsgLgGbyNkrzerNM3\n",
       "QCIXqMOn4VY4zvc/ukGfX7PuPtChGI7ZxAOLyyPDqwCaBmUWsAMxaTmm1gSCCPfiXET8LQChrOFP\n",
       "yo/RPZUwO2tEKiF1uv1IsB0iFc/FUQMQzYKYCNTl+FjNib8fw7E/aauKhDXapUMxHLOJB45N82UZ\n",
       "J6S7rX2SenKCqSWqTfRwF4CDPKucW+XPlbd54cMv/PhT0JA63S7uzmiX50IuN/Gq6y2Wb9B51L6S\n",
       "e5LEMZwo354sgxBwuqpDMRyziQdO5QxqeLpdU7Nq3ZSIKRA7Ae6gHp7Q/lw5p8JfLdNf1BC/TlBe\n",
       "WqBJuRByg8Hj6P0i3FVq1LnUDke427ci+zDVBCHCY0VtazgmEwXukfWDB2QcjxdoXMoBCXufImHm\n",
       "HlpUfsYjVNPUpGzp8D+EU47jvLlcQXw6zCWFtxEOKhfxLE5Fx7lASX14aAQDMHUmtdgBTnw25O66\n",
       "ROjen/RcMx2TiQK3yKnJZeQtPMZ1GYET5DfBfGCGuraiqUk5nFfhb3bn7loPUqdLEfg2aRbTeqy0\n",
       "GMFZUC58Okktvo5LzSCOkgF+h4D1eq4ZjtlEgcfl5ozqPae5gD0dqkhqqTTBZbfeKAufoiblcFaF\n",
       "/7j0Z/eWXEidblmaJ+cm5SIicwZHcZ14le8ade6oprINxzecmoZHsJ/TSK2SVraGYzbxwBuvPiFX\n",
       "iBzYhdkSfHz1ReziLkktSbRTcq/Va49ayw1qUo7ontkEK9uwPVnyID4dFcH3Bvdn4FHdM1lBgHZa\n",
       "Hf9mn6bOR+17OnWC9adcGohaq7I1HLOJAZZth3F/zPxe68FutF6HI1uTn2UMalK29XwaA7tcLr+T\n",
       "diHg1/WX7JvSoxelb+kiWQEElO+kLEyp9ypd/fdaGKfMFUjQQBQJGNFzQzuWJgZYtnPG/ZBBTYzj\n",
       "Chi5FeyOL7KWQc2Vd/LkpdNa9QXLEPDrtgzCwL5e3As1lbDc7HacCoQ4UxYZrLnEyajX+agV8tD/\n",
       "VxXewNtvznb8ZoSiHLsmoYyfmrGJcT9qzEa1M5I9ZPhz5buVSc3cx3Hz6WiMdltVEOpbotm3z+Q0\n",
       "1umCvrIFzjUdtHsNcqybnfez9FOjD29rdoXPH8sxRb7xM9jUxcnn2xdK7gjVq7uvBeiuueX33jCH\n",
       "Y/0D4bvGfyMc956MP2KSwx6jgYDfYoYuyciX8PSQl8vWRkSAbl7U5nQ8z98+oYb+pLYqwDJQF3fH\n",
       "rAj4JRCg67vWf8jQfB37/kO+/A/ez6iVdQ7s6gAAAABJRU5ErkJggg==\n",
       "\" style=\"display:inline;vertical-align:middle;\" /></a><br>"
      ],
      "text/plain": [
       "fold_conditioned_forall_over_bool: forall_{P, Q | Q(TRUE) => P(TRUE), Q(FALSE) => P(FALSE)} [forall_{A in BOOLEAN | Q(A)} P(A)]"
      ]
     },
     "execution_count": 14,
     "metadata": {},
     "output_type": "execute_result"
    }
   ],
   "source": [
    "fold_conditioned_forall_over_bool = Forall((P, Q), Forall(A, PofA, domain=Boolean, \n",
    "                                                      conditions=[QofA]), \n",
    "                                       conditions=[QimplPofTrue, QimplPofFalse])"
   ]
  },
  {
   "cell_type": "code",
   "execution_count": null,
   "metadata": {},
   "outputs": [],
   "source": []
  },
  {
   "cell_type": "code",
   "execution_count": null,
   "metadata": {},
   "outputs": [],
   "source": []
  },
  {
   "cell_type": "code",
   "execution_count": 15,
   "metadata": {},
   "outputs": [
    {
     "data": {
      "text/html": [
       "<strong id=\"from_not_false\"><a class=\"ProveItLink\" href=\"proofs/from_not_false/thm_proof.ipynb\">from_not_false</a> (established theorem):<br></strong> <a class=\"ProveItLink\" href=\"../__pv_it/theorems/1de8c318ab72ce97f4431c416366242d4a8ca9c50/theorem_expr.ipynb\"><img src=\"data:image/png;base64,iVBORw0KGgoAAAANSUhEUgAAAH0AAAAWCAMAAADabWOOAAAAOVBMVEX///8oKCgUFBQNDQ0QEBCI\n",
       "iIhmZma6urrMzMxUVFQiIiJERETc3Nzu7u6qqqp2dnaYmJgyMjIAAAArQGDrAAAAAXRSTlMAQObY\n",
       "ZgAAAaVJREFUSMfFVglywyAMpK2RuSX4/2PLZY4kuNNOhygTBkxWK6QVMWNvNd9mRDt5RSZG1+Kw\n",
       "W08d0mh0XbbJFiMf7HjknoQNZh0Ek6NAm8yorUdnPJx5FnQyhRvJT8tcKCKXIo3a9M1xvoA/PZkx\n",
       "9wK2ES4CL54gPfBDWsL5oBDuQcGoiyeFzhgQ10yuYjcByiJVnPdmt1CTErWBAHHOGTJDTqzZOya3\n",
       "j1yHmVpdAoAMdQupRFANrSphkXbGphzy+ImPac3eMGXX3rKXLB0128bHcHpknGndKpItsZ+EZsne\n",
       "MMU7sjv2WkF1NMXIXrUYB6j5DuYM4PBiXfcLI3P7fMUvLdmNGy+7FA30xFPc5CGXko1nZ2CWdW+Y\n",
       "8utbebZ7RYcrl1X9WfuAqNMtKFQ+iOZX3RlfOO2YvJr2HtitDiFfri5OLqlQkwnY3A1iapbKDgun\n",
       "HSO9958fcfB0o7r1LVJQuX1QdPaoI8SFmEbM1G2/Zde5CY0OKrnStYCk0IP29NrpjBm6DVPdjjT8\n",
       "7RLnte4vwlxB3I6/C/3zq9Ib2GnLSwL8j5tv6EoSMhn4XR0AAAAASUVORK5CYII=\n",
       "\" style=\"display:inline;vertical-align:middle;\" /></a><br>"
      ],
      "text/plain": [
       "from_not_false: forall_{A in BOOLEAN | A != FALSE} A"
      ]
     },
     "execution_count": 15,
     "metadata": {},
     "output_type": "execute_result"
    }
   ],
   "source": [
    "from_not_false = Forall(A, A, conditions=[NotEquals(A, FALSE)], domain=Boolean)"
   ]
  },
  {
   "cell_type": "code",
   "execution_count": null,
   "metadata": {},
   "outputs": [],
   "source": []
  },
  {
   "cell_type": "code",
   "execution_count": null,
   "metadata": {},
   "outputs": [],
   "source": []
  },
  {
   "cell_type": "markdown",
   "metadata": {},
   "source": [
    "### Evaluation of $\\forall$ over the Boolean domain"
   ]
  },
  {
   "cell_type": "code",
   "execution_count": 16,
   "metadata": {},
   "outputs": [
    {
     "data": {
      "text/html": [
       "<strong id=\"forall_bool_eval_true\"><a class=\"ProveItLink\" href=\"proofs/forall_bool_eval_true/thm_proof.ipynb\">forall_bool_eval_true</a> (conjecture without proof):<br></strong> <a class=\"ProveItLink\" href=\"../__pv_it/theorems/02bbeb9e6b14c2681fc63d5deafd48c87ce04a950/theorem_expr.ipynb\"><img src=\"data:image/png;base64,iVBORw0KGgoAAAANSUhEUgAAAWcAAAAWBAMAAADun0BuAAAAMFBMVEX///8QEBCIiIhmZma6urrM\n",
       "zMxUVFQiIiJERETc3Nzu7u6qqqp2dnaYmJgyMjIAAAAcRTyBAAAAAXRSTlMAQObYZgAABAtJREFU\n",
       "SMe9V0loVEEQff5MMtufjAcPHgPeXEcU4oYOCOpFUA96ERPcUBEzB1FcGU/+oJI5aS5qRME4ggwq\n",
       "iiA4qKAYlREPbjEGXMCAJiiuuFVV/z9/mfk/ERwLOtPVedX1urq6fjdQazkK7f2SkQCjJasXzwF9\n",
       "W31gV6j1c+d57TjHstDTjdxLlKoCEm1f12+ZRZ1upa+itpHaTQ+ueTvLNjTQinp4YKB2pBtzRFov\n",
       "cK+rOiJJcdtH/3ur1EFq56qQJjkvUSB4J29MtnakH4JIi4NOH0RLEbjWhERKBX6Q+OtN/qRxXa1f\n",
       "AlEj2cGkZSt7fBBT0tSKCOdEOzuPfmOjA0ifoJXdyeeP1I5zNCOke/P5MxkfSAe1tjRMEiVeA14F\n",
       "kG4kwFfD2O3v0/wNOP7BEC0lpJOGsb/oM8EvmuMjME6UUNc1Pq83AkjrNOU6oJ3AHZtnbJKxtDJW\n",
       "uuXoYuUMlkUAhCRSEtINSxCR7Vd/nVL/A7hMkxwS7RRaKJ/RZ5K+/57lpYt0gk7ifDmPeADckjHz\n",
       "UIrekNMNY6xxEHWWL1MvI6QCoZVaNQgQLgjpUEoqAvBCxQR9k5tnm3vx+e6N8fS7ywzZcT6QlwMi\n",
       "Hac8C0PjDVlPp8FJWvSV1kCs1Ta1So2yCIQAo9JCGhlMkno1j3zFrk4raXr0mUqoyHeFHCNhXzOt\n",
       "jY1bAkjXD9GUpTB39wCG06Ho68oDbysZKYtAiE36HuQc6qcpjo+v5KFpuKM+NsmMg3SILPpHQDra\n",
       "v5xD8A3aTodDpWfKA5MqGJkWQRA7PXCsXjZiWSTLqUJJoYV6VT61qPqs0oPQYSp3WOjK6Tcu0iF2\n",
       "2b6Wez8m9jgdih61GV3CBoOkZDNSFoEQ+yAicliSubUuA/mma3VTX9tlmoUPYpRINw45DmK1SPNB\n",
       "xAX2q/e7oyR6KFseWFQRRmURCDHrE5OON4u/gjaEk0Jaw0yV04Pm152qnNTqyDf6MyeAdB3XqyTX\n",
       "mEjK7VD0UGt5YFUFI2URCDH3kknjA2vn5tz+jhW0HU1Eush+Mff3aoWkjOj+PYB4xxea+HVV0ovV\n",
       "x4UXm+ClJgtuh6LX22FcgC2cXY69VxaBEPszDjxlZRain9BgRrqYcjEKOyp4LFOVtJLT9q0l5yYt\n",
       "esxO2F53GDu7TAt/iPPCZIWdFvQTOkdK03HX/YlMONbgc2GCdWEyK/zgTJdDU5d6Igkw3TZifWnB\n",
       "sthZ/ph4INZJzNmkO7Lo/FLCAeo+uj/jnYdMu931uZrCuppWiPOaOqHc8yILw0McjwDPfYRyugqy\n",
       "283fj3TlRcBDOlJ+AHleHfHcsBDHc2vvXz63EjT7ZL/n1hMMQzpkzXPS+0YaHvJfJeV9RbKM98eP\n",
       "APKv5Q8f+E48VJuVXAAAAABJRU5ErkJggg==\n",
       "\" style=\"display:inline;vertical-align:middle;\" /></a><br>"
      ],
      "text/plain": [
       "forall_bool_eval_true: forall_{P | P(TRUE) = TRUE, P(FALSE) = TRUE} ([forall_{A in BOOLEAN} P(A)] = TRUE)"
      ]
     },
     "execution_count": 16,
     "metadata": {},
     "output_type": "execute_result"
    }
   ],
   "source": [
    "forall_bool_eval_true = Forall(P, Equals(Forall(A, PofA, domain=Boolean), TRUE),\n",
    "                           conditions=[Equals(PofTrue, TRUE), Equals(PofFalse, TRUE)])"
   ]
  },
  {
   "cell_type": "code",
   "execution_count": 17,
   "metadata": {},
   "outputs": [
    {
     "data": {
      "text/html": [
       "<strong id=\"unfold_forall_over_bool\"><a class=\"ProveItLink\" href=\"proofs/unfold_forall_over_bool/thm_proof.ipynb\">unfold_forall_over_bool</a> (conjecture without proof):<br></strong> <a class=\"ProveItLink\" href=\"../__pv_it/theorems/b8f5afc1af6e1d307157ea6e0f0f7ad285aa31250/theorem_expr.ipynb\"><img src=\"data:image/png;base64,iVBORw0KGgoAAAANSUhEUgAAAUsAAAAUBAMAAAD2NgI7AAAAMFBMVEX///8QEBCIiIhmZma6urrM\n",
       "zMxUVFQiIiJERETc3Nzu7u6qqqp2dnaYmJgyMjIAAAAcRTyBAAAAAXRSTlMAQObYZgAABApJREFU\n",
       "SMeVl0FoFFkQhmtnMpOZTM8EIScP0uBhRWRtFHQVlKCHhYXAnETwoMgmhyWsI4IaN0L0oBNEZy6i\n",
       "7JJNiwdFMQSDqKcdjCKaHGYRBBFlcBBRwYgGjSFrrHqvXvd73S8hFlRP99Q3r/+uqvf6DYDFsnX4\n",
       "6SUsxYaCs9sA+VediyIRfClDBt6gL56Z5GWAu9aAsvy+mZ4/NgO0DYjLFLLpKoBjkUmIhm88RHZQ\n",
       "4IY9nj/R0/TVkLvoQIzyCfrijfmT1yTTFgisHYUd86Egb1Z4j8M37DIFYuDXhfoGxwO5XwEyyyHK\n",
       "KD9PRR4wc+WRTEsgtN01gH9deCSvns/i4Y5d5qMYLiQQLqzJn6k5gNwHiDHsBUy0M2qM3FolmZZA\n",
       "aGtR0Noa9Mm6jn3B4wVD5qA66YvhUsIFVnfSlyeJafQ5iDHs+YdXrpwzNdDlXVsgtAr6vs5sSWaf\n",
       "bgGFTl3mTjUbSzFcSihINr3NlWAGGyc9DTFG+Uy53G9qWClkWgKhYSNlP0LCExe/5v7Ho+PpMvMe\n",
       "J8mL4VKCIy9GoBR2+7AXZ5R3iwq1VHp//p1vcVrK7FalG4yppEa6WYNMXdS8M/WBhDWkzKSYy4c+\n",
       "cpLqUZwl5OUcmpBTVbRvrh/ijPLtctb9B3CfRfwpZXIA8tOcoBfNA9yriU+T46uxicVlC2UK+79k\n",
       "TKHcW9nno1GcJeRkFkvwD3d77+Q638Iob4UEPUEPknyHDimTA3CRSnp1fAu4taEbnKNZ8fGDkLVj\n",
       "/YYZStl7c6aPdASIgbMExOnRXUgXZbf7dka5U2+lr44ClE2ZHICHB3C4U3/54LrONW6kkjYmHlbE\n",
       "ZWZ7qwFi4IbMVh9Se8T1Z1hcZraxgxrsCySOmEWXAUi5ZWoANNftesCN5IUVzaHvp9pz0ZPvpFVD\n",
       "RMeVhBYhfUy+TPAu3MsxRjkM/kbfzK2ZAHMKyQCkYSO/Ut31K4rhsqnmx9/oU9oUktbS0KaQjptT\n",
       "6DVLFcumlVEOY6TVaYT1GmeZIgBPsWfbPJnN5FlJTPnBgiEWugqmLlnTZY7wqi3WHQ0PJCCOORyQ\n",
       "hcelcRbsjHJopwU244Uyf2GZItDWnKz4qcPl8nHqzYQAts7vVUVpq3z14dY8tm+hqMvsVlktGThZ\n",
       "l1y6qTBp+kECb5Oc+uQGDG5PltH2RDDKIU9P0z4afVlyIOnDcBH2yGw6SXP97NPOLxkvy6oNieC0\n",
       "lpEVFxkycJ4U1ejWgw2fvb0O94TMmjNp2VewLbb1sONWizJ3dDYxtUkLD4YyMzOQrRyFDCY73988\n",
       "UzfHzIQPt9BGTkOiuNUijHKbXdayybYKe9O+59WGX2hbvAButQijfIE/GT9+75+MJ1iS7/iT8WRp\n",
       "Qyr/BncQej609drgAAAAAElFTkSuQmCC\n",
       "\" style=\"display:inline;vertical-align:middle;\" /></a><br>"
      ],
      "text/plain": [
       "unfold_forall_over_bool: forall_{P} ([forall_{A in BOOLEAN} P(A)] => (P(TRUE) and P(FALSE)))"
      ]
     },
     "execution_count": 17,
     "metadata": {},
     "output_type": "execute_result"
    }
   ],
   "source": [
    "unfold_forall_over_bool = Forall(P, Implies(Forall(A, PofA, domain=Boolean), \n",
    "                                         And(PofTrue, PofFalse)))"
   ]
  },
  {
   "cell_type": "markdown",
   "metadata": {},
   "source": [
    "**Various ways for a $\\forall$ expression over the Boolean set to evaluate to `FALSE`:**"
   ]
  },
  {
   "cell_type": "code",
   "execution_count": 18,
   "metadata": {},
   "outputs": [],
   "source": [
    "def _forallBoolEvalFalse(PofTrueVal, PofFalseVal):\n",
    "    return Forall(P, Implies(And(Equals(PofTrue, PofTrueVal), Equals(PofFalse, PofFalseVal)), \n",
    "                             Equals(Forall(A, PofA, domain=Boolean), FALSE)))"
   ]
  },
  {
   "cell_type": "code",
   "execution_count": 19,
   "metadata": {},
   "outputs": [
    {
     "data": {
      "text/html": [
       "<strong id=\"forall_bool_eval_false_via_f_f\"><a class=\"ProveItLink\" href=\"proofs/forall_bool_eval_false_via_f_f/thm_proof.ipynb\">forall_bool_eval_false_via_f_f</a> (conjecture without proof):<br></strong> <a class=\"ProveItLink\" href=\"../__pv_it/theorems/294619590d2aea3faaa55dc9dd08ef3a9d59c1010/theorem_expr.ipynb\"><img src=\"data:image/png;base64,iVBORw0KGgoAAAANSUhEUgAAAf8AAAAUBAMAAABxKyl4AAAAMFBMVEX///8QEBCIiIhmZma6urrM\n",
       "zMxUVFQiIiJERETc3Nzu7u6qqqp2dnaYmJgyMjIAAAAcRTyBAAAAAXRSTlMAQObYZgAABS5JREFU\n",
       "WMOlWF1oXEUUPu5P9+/upkJA8EEu7YuI2It9qErVBR/yVMiTBAS3aBNQgllpMfZPog+yi9TdF4kI\n",
       "oSsKLRXDokjoU5fuFbENsioIRRoWVwUrJMGGJpVqnDMz986ZuzO3KQ6cZXa/e7/zzbdz5s5cAEPL\n",
       "9VSEbSHsXQRbu2hiGu4XmjYCRCzoAiRWx2EHTc+zcixGK0Yfv1zXsfMkftp+d2rQAsjPwYFZbG/A\n",
       "LpPCF/BjCKEM2Id0Gz9fMRAoxIRifqdsEhu04szW1GtPyZysvSiZ/BitGFfxyw39gj9IwL8A2QcB\n",
       "SnxsX3AtfUN+DclRpoCB9wsufi6a/vwQMaGY3ymbxIZthCV/uyXzAKxJJj9GK8aHqHdO99JTAek7\n",
       "TNtfAD+qW+GyzYAAKXmKKWDgfTlMx7UZgIgJxfxO2SBWtUoH4JIr80BxrSWY/DitLEp4XVvDM00V\n",
       "kNhgwYZwnNz6sdUAiUycUEwBA+/LYeZ32wxAhKL1oHMcDTCIVW1fmUVH5oHPnm0KJj9OK4vilQsX\n",
       "5nV8ngRk11mpbECuSm4tlW2kEjmyRzEFDPNkmPCrzQCOEHQiWNmqaIBBrGoNFjNlmQd66Acy+XFa\n",
       "MbZqtVM6vpcEr6yzHiQ8cqvj2UgFku9nFFPAsJcOs2s1oKujckLz/E7ZIFY1ttTkbsqckGpd6gkm\n",
       "P04rxiSfZ6nG9BOvSvwMCaysAsuZ7ZFbi3yt+24V20AjFYjTlvOUMpyhw1zhl3GCVQ+iCEeT/Jkz\n",
       "e1OgmJ8ZMBkURX34KcLqdKkT5PkUKq5g8uO0Yjwn1u7vAb6R+EkSsG96+XFWeZk2ubVQtbkqkAzk\n",
       "+iFTwHCSDnPJOgOWImjhT7GatLkBUiwUN+QE+WVwVK4JiVvL3UeCnFDGSceZ/DitGBlI4L87xZRK\n",
       "fJQENFr8t/vK5Nb0uo1UID/weRVhGKXDrFgNqETRxdEgPzNAioVP/sF1rvs0uJ2Fr+Qc+Vuph/TL\n",
       "+2fmBJMfpxXD6fGCPQ1QMxmwCfduAHsGPK/EbML/MSA33SQGSLFw5Sj799/7qAWu63wutwFVkifF\n",
       "7ujv0IBcH8Xmb0PihKEE0rIGtRJIVVVd/a6RcqTgBfsmyqCVwBhZAw5DFOFoUqCrTVoCQiyk3RrW\n",
       "Lmuue+hbuQ3wSB52dWa3YPLjtHK99SP47c6jV8GwCCY21CIUWepMrnIEB1/wIMIwvAgaZ8CKjqb6\n",
       "2iIoxMIuOCA38e7+h8bVNiDIk2MGlNbJImjTyvV+iS44ZExdEiVZWQ59DCY7NlKOTMgy0Bm6dJgH\n",
       "rQYc1NHFlsqPBnCx8DNbr/KemAHJD+TWt6Xy4F4ge1sw+XFaud4RzJwlj/YxFcm1Wy6Z9XBIbCGi\n",
       "pzJ2TLofj0kC4X/SHogwjPEn2+sPzM6yOf9bhEBHCDoZzISqMICLzQ+WG630m7XaO7gGJPgFz2y/\n",
       "FKo/v30DCo1NjzP5cVq53iJaN9K2bIXJVjRs56xH0XPiEYRlGm6FCWt4tKvaCBChaFPbCkuxyRac\n",
       "HYfDYgY4SRjayFM2P06rGkmlaTkMkcNI2C5bDYgglIH2jccduPthSPbZPBzpwdfcgI6zbM9pOQwB\n",
       "PQzJXcTak6CfQOqR7VZWOWQ8DpuRurm/aHXQehzONkMDsluQa5yGLJu0xVOD93v2nJbjMNDjsKnR\n",
       "FyLkhYTBi2GVw0yGft1qQN2G8hci+k8PszXAop6w+TFabSO5yyuxa1b513b2SqxodRCRovWV2Fv3\n",
       "+EoMmR47FqOVxX9VTe4/UiWb+gAAAABJRU5ErkJggg==\n",
       "\" style=\"display:inline;vertical-align:middle;\" /></a><br>"
      ],
      "text/plain": [
       "forall_bool_eval_false_via_f_f: forall_{P} (((P(TRUE) = FALSE) and (P(FALSE) = FALSE)) => ([forall_{A in BOOLEAN} P(A)] = FALSE))"
      ]
     },
     "execution_count": 19,
     "metadata": {},
     "output_type": "execute_result"
    }
   ],
   "source": [
    "forall_bool_eval_false_via_f_f = _forallBoolEvalFalse(FALSE, FALSE)"
   ]
  },
  {
   "cell_type": "code",
   "execution_count": 20,
   "metadata": {},
   "outputs": [
    {
     "data": {
      "text/html": [
       "<strong id=\"forall_bool_eval_false_via_f_t\"><a class=\"ProveItLink\" href=\"proofs/forall_bool_eval_false_via_f_t/thm_proof.ipynb\">forall_bool_eval_false_via_f_t</a> (conjecture without proof):<br></strong> <a class=\"ProveItLink\" href=\"../__pv_it/theorems/718e836a88b5fa16373c69c853a869c73ece40370/theorem_expr.ipynb\"><img src=\"data:image/png;base64,iVBORw0KGgoAAAANSUhEUgAAAf8AAAAUBAMAAABxKyl4AAAAMFBMVEX///8QEBCIiIhmZma6urrM\n",
       "zMxUVFQiIiJERETc3Nzu7u6qqqp2dnaYmJgyMjIAAAAcRTyBAAAAAXRSTlMAQObYZgAABTRJREFU\n",
       "WMOlWF1oXEUUPu5P9+/upkJA8EEu7YuI2It9qErVBR/yVMiTBAQTtAlUgllpsfZPog+yi9TdF4kI\n",
       "oSsKLRXDokjoU5fuFbENsioIRRoW1wptIQk2NKlU45yZuXfO3J25TXHgLLP73fudb76dOXfmAhha\n",
       "rqsibPNh7wLY2gUT02C/0LARIGJB5yGxMgrbaHqe5SMxWjF6+OWajp0j8evWB1P9JkB+FvYdxfY2\n",
       "7DApfAU/BhDKgH1It/DzUPTuJKc+OsGRQya9LL9TNokNWnFmc+rN52RO1l6VTH6MVowr+OWmfsEN\n",
       "EvAvQPZRgBIf29dcS8+QX0NylClg4P2Ci58Lpj8/REwo5nfKJrFhG2LJ32vKPACrksmP0YrxCeqd\n",
       "1b30VED6HtP2F8Av6la4ZDMgQEqeYgoYeF8O03FtBiBiQjG/UzaIVW28DXDRlXmguNoUTH6cVhYl\n",
       "vK6l4ZmGCkiss2BDOEZu/cxqgETGjiumgIH35TDzO20GIELRWtA5hgYYxKq2p8yiLfPAly82BJMf\n",
       "p5VF8fL583M6PkcCsmtsqaxDrkJuLZVtpBI5uEsxBQxzZJjwh80AjhB0LKhsFTTAIFa1OouZsswD\n",
       "XfQDmfw4rRib1epJHd9Ngq+sMx4kPHKr49lIBZLvZRRTwLCbDrNjNaCjo3JC8/xO2SBWNVZqcrdl\n",
       "Tkg1L3YFkx+nFWOSz7NUffqZNyR+mgSurALLme2SW4u81v24gq2vkQrEacl5ShlO02Eu88s4wYoH\n",
       "UWSZPBhuCxTzMwMmg0VRGxgVlprFdpDnCxh3BZMfpxXjJVG7fwL4XuInSMCe6aWn2crLtMithYrN\n",
       "VYFkINcLmQKGE3SYi9YZsBhBC7dENWlxA6RYKK7LCfJ7/7CsCYk7S50ngpxQxknHmfw4rRgZSOC/\n",
       "O8WUSnyYBNSb/LeHyuTW9JqNVCA/83kVYRimwxy3GjAeRReGg/zMACkWPv8H61zneXDb89/KOfK3\n",
       "Ug/p1/fOzAomP04rhtPlC/YUQNVkwAY8uAHsGfCyErMB/8eA3HSDGCDFwuXD7N//8NMmuK7zldwG\n",
       "VEieFLujt00Dcj0Um78LieOGJZCWa1BbAqmKWld/aqQcKXjBvokyaEtghNSACYgiHE0KdKVBl4AQ\n",
       "C2m3imuXNdc98IPcBngkD7s6s1Mw+XFaud7aQfx278krYCiCiXVVhCKlzuQqR3DwBQ8iDINF0DgD\n",
       "lnU01dOKoBALO2Cf3MS7ex8bVduAIE+OGVBaI0XQppXr/QZdcMiYOiRKcmU59DGYbNtIOTIml4HO\n",
       "0KHD3G81YL+OLjRVfjSAi4XfWL3Ke2IGJD+WW9+myoN7gexdweTHaeV6hzBzljzaR1QkV++4ZNbD\n",
       "AbGFiJ7K2DHpYTwmCYT/SbsgwjDCn2xvPYJHHrg+qCol5th10NDJAK0IA7jYfH+p3ky/U62+jzUg\n",
       "wS94Yeu1UP25rZtQqG94nMmP08r1FtG6oZZlK0y2omE7az2KnhWPIFym4VaYsIZHu4qNABGKNrSt\n",
       "sBSbbMKZUZgQM8BJwsBGnrL5cVrVSMYblsMQOYyE7ZLVgAhCGWjfeNyB+x+GZJ/Nw6EufMcNaDtL\n",
       "9pyWwxDQw5DcRaw+C/oJpBbZbmWVQ8bjsBmpmfsLVgetx+FsIzQguwm5+inIsklbPNn/qGvPaTkO\n",
       "Az0Omxp9IUJeSBi8GFQ5yGTo16wG1GwofyGi//Q4qwEW9YTNj9FqG8l9Xoldtcq/ur1XYkWrg4gU\n",
       "ra/E3n3AV2LI9NSRGK0s/gNoXu7Egn/V3AAAAABJRU5ErkJggg==\n",
       "\" style=\"display:inline;vertical-align:middle;\" /></a><br>"
      ],
      "text/plain": [
       "forall_bool_eval_false_via_f_t: forall_{P} (((P(TRUE) = FALSE) and (P(FALSE) = TRUE)) => ([forall_{A in BOOLEAN} P(A)] = FALSE))"
      ]
     },
     "execution_count": 20,
     "metadata": {},
     "output_type": "execute_result"
    }
   ],
   "source": [
    "forall_bool_eval_false_via_f_t = _forallBoolEvalFalse(FALSE, TRUE)"
   ]
  },
  {
   "cell_type": "code",
   "execution_count": 21,
   "metadata": {},
   "outputs": [
    {
     "data": {
      "text/html": [
       "<strong id=\"forall_bool_eval_false_via_t_f\"><a class=\"ProveItLink\" href=\"proofs/forall_bool_eval_false_via_t_f/thm_proof.ipynb\">forall_bool_eval_false_via_t_f</a> (conjecture without proof):<br></strong> <a class=\"ProveItLink\" href=\"../__pv_it/theorems/b16bc8d390cf07d600ee8c4fc989d32be7d6858e0/theorem_expr.ipynb\"><img src=\"data:image/png;base64,iVBORw0KGgoAAAANSUhEUgAAAf8AAAAUBAMAAABxKyl4AAAAMFBMVEX///8QEBCIiIhmZma6urrM\n",
       "zMxUVFQiIiJERETc3Nzu7u6qqqp2dnaYmJgyMjIAAAAcRTyBAAAAAXRSTlMAQObYZgAABS9JREFU\n",
       "WMOlWF1oXEUUPu5P9+/upkJA8EEu7YuI2It9qErVBR/yVMiTBAS3aBNQgllpMfZPog+yi9TdF4kI\n",
       "oSsKLRXDokjoU5fuFbENsioIRRoWVwUrJMGGJpVqnDMz986ZuzO3KQ6cZXa/e7/zzbcz585cAEPL\n",
       "9VSEbSHsXQRbu2hiGu4XmjYCRCzoAiRWx2EHTc+zcixGK0Yfv1zXsfMkftp+d2rQAsjPwYFZbG/A\n",
       "riGFVoQyYB/Sbfx8xSBIISYU8ztlk9igFWe2pl57SuZk7UXJ5A9f+gJ+oFaMq/jlhn7BHyTgX4Ds\n",
       "gwAlPrYvuJa+Ib+G5ChTwMD7BRc/F01/foiYUMzvlE1iwzbCkr/dknkA1iSTH6MV40PUO6d76amA\n",
       "9B2m7S+AH9WtcNlmQICUPMUUMPC+HKbj2gxAxIRifqdsEKtapQNwyZV5oLjWEkx+nFYWJbyureGZ\n",
       "pgpIbLBgQzhObv3YaoBEJk4opoCB9+Uw87ttBiBC0XrQOY4GGMSqtq/MoiPzwGfPNgWTH6eVRfHK\n",
       "hQvzOj5PArLrbKlsQK5Kbi2VbaQSObJHMQUM82SY8KvNAI4QdCKobFU0wCBWtQaLmbLMAz30A5n8\n",
       "OK0YW7XaKR3fS4KvrLMeJDxyq+PZSAWS72cUU8Cwlw6zazWgq6NyQvP8TtkgVjVWanI3ZU5ItS71\n",
       "BJMfpxVjks+zVGP6iVclfoYErqwCy5ntkVuLvNZ9t4ptoJEKxGnLeUoZztBhrvDLOMGqB1GEo0n+\n",
       "ZJm9KVDMzwyYDBZFffgpwtbpUifI8ylUXMHkx2nFeE7U7u8BvpH4SRKwb3r5cbbyMm1ya6Fqc1Ug\n",
       "Gcj1Q6aA4SQd5pJ1BixF0MKfopq0uQFSLBQ35AT5ZXBU1oTEreXuI0FOKOOk40x+nFaMDCTw351i\n",
       "SiU+SgIaLf7bfWVya3rdRiqQH/i8ijCM0mFWrAZUoujiaJCfGSDFwif/YJ3rPg1uZ+ErOUf+Vuoh\n",
       "/fL+mTnB5MdpxXB6fMGeBqiZDNiEezeAPQOeV2I24f8YkJtuEgOkWLhylP37733UAtd1PpfbgCrJ\n",
       "k2J39HdoQK6PYvO3IXHCsATScg1qSyBVVevqd42UIwUv2DdRBm0JjJEacBiiCEeTAl1t0iUgxELa\n",
       "reHaZc11D30rtwEeycOuzuwWTH6cVq63fgS/3Xn0KhiKYGJDFaFIqTO5yhEcfMGDCMNwETTOgBUd\n",
       "TfW1IijEwi44IDfx7v6HxtU2IMiTYwaU1kkRtGnler9EFxwypi6JklxZDn0MJjs2Uo5MyGWgM3Tp\n",
       "MA9aDTioo4stlR8N4GLhZ1av8p6YAckP5Na3pfLgXiB7WzD5cVq53hHMnCWP9jEVybVbLpn1cEhs\n",
       "IQynMoLwP2kPRBjG+JPt9QdmZ9mc/y1yt44QdDKYCVVhABebHyw3Wuk3a7V3sAYk+AXPbL8Uqj+/\n",
       "fQMKjU2PM/nDB7f78eDGtXK9RbRupG3ZCpOtaNjOWY+i58QjCJdpuBUmrOHRrmojQISiTW0rLMUm\n",
       "W3B2HA6LGeAkYWgjT9n8OK1qJJWm5TBEDiNhu2w1IIJQBto3Hnfg7ochNdtGevA1N6DjLNtzWg5D\n",
       "QA9Dchex9iToJ5B6ZLuVVQ4Zj8NmpG7uL1odtB6Hs83QgOwW5BqnIcsmbfHU4P2ePaflOAz0OGxq\n",
       "9IUIeSFh8GJY5TCToV+3GlC3ofyFiP7Tw6wGWNQTNj9Gq20kd3klds0q/9rOXokVrQ4iUrS+Envr\n",
       "Hl+JIdNjx2K0svgP08Lul2eEvcsAAAAASUVORK5CYII=\n",
       "\" style=\"display:inline;vertical-align:middle;\" /></a><br>"
      ],
      "text/plain": [
       "forall_bool_eval_false_via_t_f: forall_{P} (((P(TRUE) = TRUE) and (P(FALSE) = FALSE)) => ([forall_{A in BOOLEAN} P(A)] = FALSE))"
      ]
     },
     "execution_count": 21,
     "metadata": {},
     "output_type": "execute_result"
    }
   ],
   "source": [
    "forall_bool_eval_false_via_t_f = _forallBoolEvalFalse(TRUE, FALSE)"
   ]
  },
  {
   "cell_type": "markdown",
   "metadata": {},
   "source": [
    "### Must be a true statement or a false statement if in the Boolean set:"
   ]
  },
  {
   "cell_type": "markdown",
   "metadata": {},
   "source": [
    "*** The second form, known as the 'law of excluded middle' can be more useful for unfolding the meaning of being in the Boolean set ***"
   ]
  },
  {
   "cell_type": "code",
   "execution_count": 22,
   "metadata": {},
   "outputs": [
    {
     "data": {
      "text/html": [
       "<strong id=\"in_bool_def\"><a class=\"ProveItLink\" href=\"proofs/in_bool_def/thm_proof.ipynb\">in_bool_def</a> (conjecture with conjecture-based proof):<br></strong> <a class=\"ProveItLink\" href=\"../__pv_it/theorems/d42baec04aaf3c5b34d0428c6ab09d717a6b26f90/theorem_expr.ipynb\"><img src=\"data:image/png;base64,iVBORw0KGgoAAAANSUhEUgAAAVMAAAAUBAMAAADCT8MnAAAAMFBMVEX///8QEBCIiIhmZma6urrM\n",
       "zMxUVFQiIiJERETc3Nzu7u6qqqp2dnaYmJgyMjIAAAAcRTyBAAAAAXRSTlMAQObYZgAAA4ZJREFU\n",
       "SMedV01oE0EUfs1Ps9lsUoVCbxL05qWBgr0IBjwUikK8lIJgC9aDJ1sKLlaFHBSTgyS3FkSaUrGl\n",
       "Qgn2oJ4s7a2KhHqxaEugKthDKyrYClrf/O3u7O5M0AffZLMz37xv3sy8mQUIsWSDQW0vQt495NBY\n",
       "qhpGauVIoElebMr18xxol+SayFjpT9cIQHvAJ5hFBrR401cXtakNw9UQUhiB2EVSEEcCr8iLHbnR\n",
       "Fw60PR8/E8/OzzbADPadqTKQx68hAc2ScpE+F6g8QVIQ4CkdS9PFFJnwotQmnWMgj3s1mW/EGpEC\n",
       "Nl8J9PyWA23rl0qqRcsrpFgHPYFJpY44MqjFqkttElUGtCdn+Ey/s+0ml5qqo9SZQM83ODACSwcq\n",
       "qeYRUg6QYgL0BC51xkV6bWFhUm4zyYHW6M7T38GTblStfpSayfu34igDmYrID5VU+CimPZYDPYFL\n",
       "JY4E9kulW3KbExzYX+0lTQTmjmcB9A3gWrNyvo4jOQa0/tRvpdRV+oztjCroCVwqcSSAC6dMX5ZF\n",
       "m/scAI9gKCv2oZDaddhJAkGXw5tdYtu0osGA48rHv1EntHI3J0ndoiUGc1CQXIK3O0cqcSRwlm/n\n",
       "tDMJNzkA8jBNPRnebWVtLqPnUV8MEnUGnApIfldG9RktjwOMCJKKwKUSRwIJiNCxzTqT0MkB8cs9\n",
       "12hyuEBGK7YVFM9jlT+9tOUZcNP0nNpXSh2i5RwPj47ApRJHAlYjQd+tjQekxrAz2uWUN6pQbNdK\n",
       "xeJYC6nROks6OkKI1GST5o54thRYAGROaXZpk6QOZ3AUo+7i+iwtgBRizLNWhyWpfSxdNBPOqnEJ\n",
       "3u4cqcSRAJTpsmmHXv+2StbFORLNSlH9ILaV92wQ2+pByBnn31Zwd90hqQgh2wqWaIDeQ7dos8pB\n",
       "cqtx4ASaH6zL1ioGKrrs61gkFJoqK1WV1NPs38CEQ1IRuFTiSAA6SCfm9uuKOEP7GOYPdyBV+UlT\n",
       "wOM7Nem6ApmCr2M+SWblTw2eH44HHMfYTe0TH3FOkBSEXts+atvXmSMBSBMV0RpMF4IHq2Pn7tnS\n",
       "lM9pDlaNmTzHJWsuSW9zHjDD/NPRCF5XlKa9rqjNygZJrR2teB0a+5Cs3Bb/yt6zKzw6wUsgOSmN\n",
       "agvHiyGklo4EwsxztVaYob1aq60cfrXWO9IFofUHy8b/fbCk//mDZcPFXwUnQf2viAHxAAAAAElF\n",
       "TkSuQmCC\n",
       "\" style=\"display:inline;vertical-align:middle;\" /></a><br>"
      ],
      "text/plain": [
       "in_bool_def: forall_{A} ((A in BOOLEAN) = ((A = TRUE) or (A = FALSE)))"
      ]
     },
     "execution_count": 22,
     "metadata": {},
     "output_type": "execute_result"
    }
   ],
   "source": [
    "in_bool_def = Forall(A, Equals(in_bool(A), Or(Equals(A, TRUE), Equals(A, FALSE))))"
   ]
  },
  {
   "cell_type": "code",
   "execution_count": 23,
   "metadata": {},
   "outputs": [
    {
     "data": {
      "text/html": [
       "<strong id=\"unfold_is_bool\"><a class=\"ProveItLink\" href=\"proofs/unfold_is_bool/thm_proof.ipynb\">unfold_is_bool</a> (conjecture with conjecture-based proof):<br></strong> <a class=\"ProveItLink\" href=\"../__pv_it/theorems/d083fa7b43b46f03362c66aa358b16b602434e140/theorem_expr.ipynb\"><img src=\"data:image/png;base64,iVBORw0KGgoAAAANSUhEUgAAAJsAAAAUBAMAAABoqVKyAAAAMFBMVEX///8QEBCIiIhmZma6urrM\n",
       "zMxUVFQiIiJERETc3Nzu7u6qqqp2dnaYmJgyMjIAAAAcRTyBAAAAAXRSTlMAQObYZgAAAjFJREFU\n",
       "OMudVM9LG0EUfiZZk0120/9AFk/euiDoqRDwVhByEo89tPeUHNpKBBGEDYLJpVoq4pYeBEtBkEK9\n",
       "BYsHfxyCnkpRFnPrpdJ6SAutvnlvJrNbMyI++Gbyvm/z5s17MwNwu63dkd6RiIRzaoqWn6PJivrS\n",
       "0oQ62GQcCuK7KVyxydOFGMv03xitPkI1HzHeoG/PmcKd8HT2R4zPxHAcoyGm7jKKIYCzZQr3ive2\n",
       "/VtMU2KY0bTaOanvGO7B5uaKKZpdoclNXaotZnxNS2O1WGJ0g6BmCpfyaXpc+CumAnq5pqalser4\n",
       "DKxInej6zXC5Nu2mZP0kF5Oa1rTaK6tuxJigjuDvS5n7eaeqapmlHxmwf5E7DPBU0eMv0GpaLVQY\n",
       "WUjRYu9Fyh++PAKvtfZJhhsoUQtGx7rkbsiVmUZb1qp1wXDaWZIOqpjZ4tsQPM/5mAiHwxC56S0+\n",
       "A4lwUlXh7IgOgOUFYuNonje5H99sAfGcGx1lYzXgcErNVBhQp3oMwri8cd7oUDneilXED/YXjiHR\n",
       "imWtqlbANp2ib/AQ8j5nl34tPxedp0PW4Fs1NdOj+bZqNd1iwANPtLtz1Aitl0EwL2qXkp9j9vnG\n",
       "vxA+X1X5dvqKVqekpxbLDHBDUeUQ1svwhLNz0slLpm9J2JfmrjPYJjHLNuxRuJZz9N8TYHgZ4iaf\n",
       "AFnzLtiNWchhy9xaZ6l36nPNvuFu0uqBStoI1s78Tt5CiwUMa9/ncf/KuAadcqSbKmjdIwAAAABJ\n",
       "RU5ErkJggg==\n",
       "\" style=\"display:inline;vertical-align:middle;\" /></a><br>"
      ],
      "text/plain": [
       "unfold_is_bool: forall_{A in BOOLEAN} (A or not(A))"
      ]
     },
     "execution_count": 23,
     "metadata": {},
     "output_type": "execute_result"
    }
   ],
   "source": [
    "unfold_is_bool = Forall(A, Or(A, Not(A)), domain=Boolean)"
   ]
  },
  {
   "cell_type": "code",
   "execution_count": 24,
   "metadata": {},
   "outputs": [
    {
     "data": {
      "text/html": [
       "<strong id=\"from_excluded_middle\"><a class=\"ProveItLink\" href=\"proofs/from_excluded_middle/thm_proof.ipynb\">from_excluded_middle</a> (conjecture with conjecture-based proof):<br></strong> <a class=\"ProveItLink\" href=\"../__pv_it/theorems/d8496de46321e82411fb9c2025662c04cf20b72b0/theorem_expr.ipynb\"><img src=\"data:image/png;base64,iVBORw0KGgoAAAANSUhEUgAAAPoAAAAZBAMAAADqEi4iAAAAMFBMVEX///8QEBCIiIhmZma6urrM\n",
       "zMxUVFQiIiJERETc3Nzu7u6qqqp2dnaYmJgyMjIAAAAcRTyBAAAAAXRSTlMAQObYZgAAAzZJREFU\n",
       "SMfllk1oE0EUx/9ukibZbFrPQiHoyYo2orS1FloQxIsQe9CLSKF+oKeCYEVaWC9timD3VHOQNljw\n",
       "I2gJVIWCYPAg2lbZm8VWrYoHBaGIpbVY8L3ZTXeyu6lQjRcHkpnZeW9+M++9eTOATznTbaDyJdjd\n",
       "4/u9C/+mDP3X9Hmu3rjp1VzFzUphb/Q1mNeZPsW9L266lqeqOlshuFILjNcyPUO9qO6miy+ZCsHV\n",
       "ftpW4AfTeYNip6V+Z2tMVYhevYXP22amxydzuWveqJvL5e5UKvhaebOhpIj55XS6x0uvSaf7CxuY\n",
       "OSp3Uv4iS8L8hqCfAgY4wPtaFMOhV6UQEd2IO+21FRsD8teZzsJ2rp0Vk+J9+Ilo36TzfgAqnbro\n",
       "B6iXpb0HkxgT7Xc27e2uxv2iUYzQ+Hdp5uEEbpMjUeWslRQDho8IwosSPQyFzvUIQWbkbNOFncJA\n",
       "rTSoPtpjKlp0NiXTR1clY9JK4jxw3AlsUlQ7fESwaUWMW3TNDFODXd8u019YGU+7RdExM5GDomDS\n",
       "lOmT50UV449hMngoAeFGuwjFzz4iCC/w/wOLHp0/Suef15OT6cMhsfD2iM5eIAklOGdI9FAibTXO\n",
       "0q+ejq2aLcnRrGiZzyUiTroVIJznB07SenR3no8MCYd3BOy0qwR2f5L9XoVGaGkq70nuYtG8Dp0V\n",
       "8dArQkIcdVrWpo/zASu46bFGEVp5ZQGjgq5gn+z3WdTb0tva8LN4ZesCd9VWxCGvCJXHJmLNxTuu\n",
       "JmF5RTVL7jhxLsZanq3gGE2YIHoh4dDVj9OD9jVw85yImntM77DtYiniBDwirNt0eu/aDRvnrEtz\n",
       "aqU37Gv+a0Z0kScTey8kHXogi5GUsodKA22jyXZkSC/ShSIOwiPie7/3Qn3uvd+DZI5VaGxxRcN0\n",
       "waEfJpuZyFHZymFs4q6BTFbtsumWIubgEilD1zqfZL30QR2ZJRNXqPnqZdNXJ+oiy4gO9ooYEsZ+\n",
       "2lIHHMnjkp1ubUXLwJLIRt42Cvl9raOXT+x57CgdnPfm/j98WellR2IGIqUfzL/+ritPj1uB4pTR\n",
       "Db0qu9d7zyfXnXBC7tT95j1/4Rcm8fakHlyqSwAAAABJRU5ErkJggg==\n",
       "\" style=\"display:inline;vertical-align:middle;\" /></a><br>"
      ],
      "text/plain": [
       "from_excluded_middle: forall_{C} [forall_{A in BOOLEAN | A => C, not(A) => C} C]"
      ]
     },
     "execution_count": 24,
     "metadata": {},
     "output_type": "execute_result"
    }
   ],
   "source": [
    "from_excluded_middle = Forall(C, Forall(A, C, domain=Boolean,\n",
    "                                            conditions=[Implies(A, C),\n",
    "                                                        Implies(Not(A), C)]))"
   ]
  },
  {
   "cell_type": "markdown",
   "metadata": {},
   "source": [
    "*** New facts may be derived via the 'law of excluded middle' through dual implications ***"
   ]
  },
  {
   "cell_type": "markdown",
   "metadata": {},
   "source": [
    "### The claim that $x\\in \\mathbb{B}$ should itself be in $\\mathbb{B}$"
   ]
  },
  {
   "cell_type": "code",
   "execution_count": 25,
   "metadata": {},
   "outputs": [
    {
     "data": {
      "text/html": [
       "<strong id=\"in_bool_is_bool\"><a class=\"ProveItLink\" href=\"proofs/in_bool_is_bool/thm_proof.ipynb\">in_bool_is_bool</a> (conjecture with conjecture-based proof):<br></strong> <a class=\"ProveItLink\" href=\"../__pv_it/theorems/fc89d430ce33cd02ef77dd4a2de4681be60154b90/theorem_expr.ipynb\"><img src=\"data:image/png;base64,iVBORw0KGgoAAAANSUhEUgAAAKAAAAAUBAMAAAD4uit9AAAAMFBMVEX///8QEBCIiIhmZma6urrM\n",
       "zMxUVFQiIiJERETc3Nzu7u6qqqp2dnaYmJgyMjIAAAAcRTyBAAAAAXRSTlMAQObYZgAAAhhJREFU\n",
       "OMtjYMAC5kIxTsA9Abf4AxDjLoowVwMEAwHrA1Qd6hL9D8scGBgyGXCKnwbxX6HI8k2AYBDzA5rO\n",
       "B0FcXbYMDOsYcIrPAPI4G1AkL0MxENz7haaxwZdBlYOBgUcBpzjfAiC1AUWyEoqBHt/8Eyp2o7z8\n",
       "AVTjbqBGLgGIMG97eR0DqjjvqVWrpqOYx1kAwSD1TF8gYhFaCJccWQGkn0CCuGkBpviPjo4aFAOZ\n",
       "DCAYCLy4/0Jc+grhNZbSVCB9GMxbtwCLOJDqBIt1QuU4LkAw0BwH1k9gITZ4MmlwrP/oAApcMA8R\n",
       "2Ujizgxc4NDhhfqOgX0DBDMwsDBwfobYgRz4Z+8A6e0QHjZxdgYmsHMW/4XKMTpAMANDmLHZD7BQ\n",
       "4DsggEUKBwtQfTw4COVA4gxo4jwX2MFCp4oxDAQScmChGcgu4WBIgBrI2YBNnPNBGNg2hQ50L3MD\n",
       "cSHEDmSNbKDc5Q7mCWAV70wBhzuDOXqkzAbi92AhZgVkl/AegEWKEQM28c3gNHebQR8qx2MAweC0\n",
       "2A+J32p4FothOGMGpG3gnsEU5wdZz/X4TD80UbEUgDFX/78FDDv+Q0J2WcsClEKA4SkkfWZ4MWCK\n",
       "84LUMi9gmB+AkfUQwKe9HLng4SqAWn4CmvXQxBkYfIEuvYBZOOACGIUDujjHDwbO/loYZwIE4wHr\n",
       "SBJHKmBxgU7SxAlWAbwTcIoDAOFcsb5rLLYBAAAAAElFTkSuQmCC\n",
       "\" style=\"display:inline;vertical-align:middle;\" /></a><br>"
      ],
      "text/plain": [
       "in_bool_is_bool: forall_{A} ((A in BOOLEAN) in BOOLEAN)"
      ]
     },
     "execution_count": 25,
     "metadata": {},
     "output_type": "execute_result"
    }
   ],
   "source": [
    "in_bool_is_bool = Forall(A, in_bool(in_bool(A)))"
   ]
  },
  {
   "cell_type": "code",
   "execution_count": 26,
   "metadata": {},
   "outputs": [
    {
     "name": "stdout",
     "output_type": "stream",
     "text": [
      "These theorems may now be imported from the theory package: proveit.logic.booleans\n"
     ]
    }
   ],
   "source": [
    "%end theorems"
   ]
  },
  {
   "cell_type": "code",
   "execution_count": null,
   "metadata": {},
   "outputs": [],
   "source": []
  }
 ],
 "metadata": {
  "kernelspec": {
   "display_name": "Python 3",
   "language": "python",
   "name": "python3"
  }
 },
 "nbformat": 4,
 "nbformat_minor": 0
}