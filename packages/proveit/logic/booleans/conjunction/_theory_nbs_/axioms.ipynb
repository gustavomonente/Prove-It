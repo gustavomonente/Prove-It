{
 "cells": [
  {
   "cell_type": "markdown",
   "metadata": {},
   "source": [
    "Axioms for the theory of <a class=\"ProveItLink\" href=\"theory.ipynb\">proveit.logic.booleans.conjunction</a>\n",
    "========"
   ]
  },
  {
   "cell_type": "code",
   "execution_count": 1,
   "metadata": {},
   "outputs": [],
   "source": [
    "import proveit\n",
    "# Prepare this notebook for defining the axioms of a theory:\n",
    "%axioms_notebook # Keep this at the top following 'import proveit'.\n",
    "from proveit.logic import Equals, And, TRUE, FALSE, Forall, in_bool\n",
    "from proveit import A, B, m, n\n",
    "from proveit.core_expr_types import A_1_to_m\n",
    "from proveit.numbers import Natural"
   ]
  },
  {
   "cell_type": "code",
   "execution_count": 2,
   "metadata": {},
   "outputs": [
    {
     "name": "stdout",
     "output_type": "stream",
     "text": [
      "Defining axioms for theory 'proveit.logic.booleans.conjunction'\n",
      "Subsequent end-of-cell assignments will define axioms\n",
      "%end_axioms will finalize the definitions\n"
     ]
    }
   ],
   "source": [
    "%begin axioms"
   ]
  },
  {
   "cell_type": "markdown",
   "metadata": {},
   "source": [
    "### Truth table definitions:"
   ]
  },
  {
   "cell_type": "code",
   "execution_count": 3,
   "metadata": {},
   "outputs": [
    {
     "data": {
      "text/html": [
       "<strong id=\"and_t_t\">and_t_t:</strong> <a class=\"ProveItLink\" href=\"../__pv_it/axioms/21e6c21e52cb1fd05cd12e558e220e6bb10c4dee0/axiom_expr.ipynb\"><img src=\"data:image/png;base64,iVBORw0KGgoAAAANSUhEUgAAAHAAAAAUBAMAAACnq6Q0AAAAMFBMVEX////MzMxUVFR2dna6uroQ\n",
       "EBCqqqqIiIgiIiJmZmYyMjJERETu7u6YmJjc3NwAAACgK8IjAAAAAXRSTlMAQObYZgAAAQRJREFU\n",
       "OMtjYOC7wIAH5OGWOs3A2QEGCsiiM8BCTQxMD9DVw2QY1oF4bAUwcT64inQQwbMAi11gGd4JqBq5\n",
       "JqBIM5jj0sjxAFWjdA+qxqO4NL5gQNWoUo6qkcsBh8ZKVI08CzhQNTJPwKFxL6pG5gTmBBSNvODQ\n",
       "sVoFAiuRZdpQNXIw8C1A0cjWgMPGEFSN1xkYFFE0Mn4gTiMwTIWI04jqVDZgUHA9QNbI0oDw4yLc\n",
       "gQPSxDYBM3Cw2GiJolEa6lyERk4DHBo9IA6CZhEVEAFNAr4QNwhgavRFJDkYACcTRmSRE7hyFe8E\n",
       "BrzAHKfMPrz6sGYrWEbGB7gf4JTCX3TcwyUBAKQERsxzlZRzAAAAAElFTkSuQmCC\n",
       "\" style=\"display:inline;vertical-align:middle;\" /></a><br>"
      ],
      "text/plain": [
       "and_t_t: (TRUE and TRUE) = TRUE"
      ]
     },
     "execution_count": 3,
     "metadata": {},
     "output_type": "execute_result"
    }
   ],
   "source": [
    "and_t_t = Equals(And(TRUE, TRUE), TRUE)"
   ]
  },
  {
   "cell_type": "code",
   "execution_count": 4,
   "metadata": {},
   "outputs": [
    {
     "data": {
      "text/html": [
       "<strong id=\"and_t_f\">and_t_f:</strong> <a class=\"ProveItLink\" href=\"../__pv_it/axioms/18ad8b1189fe08d3ef64553ca7a867f81e792f220/axiom_expr.ipynb\"><img src=\"data:image/png;base64,iVBORw0KGgoAAAANSUhEUgAAAHAAAAAUBAMAAACnq6Q0AAAAMFBMVEX////MzMxUVFR2dna6uroQ\n",
       "EBCqqqqIiIgiIiJmZmYyMjJERETu7u6YmJjc3NwAAACgK8IjAAAAAXRSTlMAQObYZgAAAQhJREFU\n",
       "OMtjYOC7wIAH5OGWOs3A2QEGCmgSYiCC6QEWLWAZhnUggq0AJsgHl04HETwLsGgEy/BOQNXINQFF\n",
       "msEcl0aOB6gapXtQNR7FpfEFA6pGlXJUjVwOODRWomrkWcCBqpF5Ag6Ne1E1MicwJ6Bo5AWHjtUq\n",
       "EFiJLNOGqpGDgW8Bika2Bhw2hqBqvM7AoIiikfEDcRqBYSpEnEZUp7IBg4LrAbJGlgaEHxfhDhyQ\n",
       "JrYJmIGDxUZLFI3SUOciNHIa4NDoAXEQNIuogAhQEpjR0RHa0dEEdIMAmi6YDAdK8gcnE0ZkkRO4\n",
       "chXvBAa8wBynzD68+rBmK1hGxge4H+CUwl903MMlAQBm6kX4QLZagwAAAABJRU5ErkJggg==\n",
       "\" style=\"display:inline;vertical-align:middle;\" /></a><br>"
      ],
      "text/plain": [
       "and_t_f: (TRUE and FALSE) = FALSE"
      ]
     },
     "execution_count": 4,
     "metadata": {},
     "output_type": "execute_result"
    }
   ],
   "source": [
    "and_t_f = Equals(And(TRUE, FALSE), FALSE)"
   ]
  },
  {
   "cell_type": "code",
   "execution_count": 5,
   "metadata": {},
   "outputs": [
    {
     "data": {
      "text/html": [
       "<strong id=\"and_f_t\">and_f_t:</strong> <a class=\"ProveItLink\" href=\"../__pv_it/axioms/1f5da032ece175358a1717ed799ecf1e1077a0930/axiom_expr.ipynb\"><img src=\"data:image/png;base64,iVBORw0KGgoAAAANSUhEUgAAAHAAAAAUBAMAAACnq6Q0AAAAMFBMVEX///9UVFTMzMx2dna6uroQ\n",
       "EBCqqqqIiIgiIiJmZmYyMjJERETu7u6YmJjc3NwAAAC+aOQFAAAAAXRSTlMAQObYZgAAAQtJREFU\n",
       "OMtjYOC7wIAH5OGWOg0imBLQRGd0gEAjA+MDLFrUwOQ6EMFWABPkg0ungwieBVg0gmV4J6Bq5JqA\n",
       "Is1gjksjxwNUjdo9qBqP4tL4ggFVo0g5qkYuBxwaK1E18izgQNXIPAGHxr2oGpkTmBNQNPKCQ8dq\n",
       "FQisRJZpQ9XIwcC3AEUjWwMOG0NQNV5nYBBC0cj0gTiNwDBVJE4jqlPZgEHB9QBZI0sDwo8LcQcO\n",
       "SBPbBMzAwWKjJYpGbahzERo5DXBo9ADKdXS0RnR0CICiHyQETQK+EDcoYCb/UFDy50BJ/uBkwoQs\n",
       "cgJXruKdwIAXmOOU2YdXH9ZshZSRcQLuBzil8Bcd93BJAABbF0XMzCmSpgAAAABJRU5ErkJggg==\n",
       "\" style=\"display:inline;vertical-align:middle;\" /></a><br>"
      ],
      "text/plain": [
       "and_f_t: (FALSE and TRUE) = FALSE"
      ]
     },
     "execution_count": 5,
     "metadata": {},
     "output_type": "execute_result"
    }
   ],
   "source": [
    "and_f_t = Equals(And(FALSE, TRUE), FALSE)"
   ]
  },
  {
   "cell_type": "code",
   "execution_count": 6,
   "metadata": {},
   "outputs": [
    {
     "data": {
      "text/html": [
       "<strong id=\"and_f_f\">and_f_f:</strong> <a class=\"ProveItLink\" href=\"../__pv_it/axioms/31085336ee8ba20c6d7a9715cf0f394e6077450c0/axiom_expr.ipynb\"><img src=\"data:image/png;base64,iVBORw0KGgoAAAANSUhEUgAAAHAAAAAUBAMAAACnq6Q0AAAAMFBMVEX///9UVFTMzMx2dna6uroQ\n",
       "EBCqqqqIiIgiIiJmZmYyMjJERETu7u6YmJjc3NwAAAC+aOQFAAAAAXRSTlMAQObYZgAAAQtJREFU\n",
       "OMtjYOC7wIAH5OGWOg0imBIwJdRABOMDBhwyDOtABFsBTJAPLp0OIngWYNEIluGdgKqRawKKNIM5\n",
       "Lo0cD1A1avegajyKS+MLBlSNIuWoGrkccGisRNXIs4ADVSPzBBwa96JqZE5gTkDRyAsOHatVILAS\n",
       "WaYNVSMHA98CFI1sDThsDEHVeJ2BQQhFI9MH4jQCw1SROI2oTmUDBgXXA2SNLA0IPy7EHTggTWwT\n",
       "MAMHi42WKBq1oc5FaOQ0wKHRAyjX0dEa0dEhAIp+kBAoCczo6Ajt6GgEukEBTRdMhgMl+YOTCROy\n",
       "yAlcuYp3AgNeYI5TZh9efVizFVJGxgm4H+CUwl903MMlAQB8DUVyivSWHQAAAABJRU5ErkJggg==\n",
       "\" style=\"display:inline;vertical-align:middle;\" /></a><br>"
      ],
      "text/plain": [
       "and_f_f: (FALSE and FALSE) = FALSE"
      ]
     },
     "execution_count": 6,
     "metadata": {},
     "output_type": "execute_result"
    }
   ],
   "source": [
    "and_f_f = Equals(And(FALSE, FALSE), FALSE)"
   ]
  },
  {
   "cell_type": "markdown",
   "metadata": {},
   "source": [
    "### Conjunction is only well-defined when each input is a Boolean:"
   ]
  },
  {
   "cell_type": "code",
   "execution_count": 7,
   "metadata": {},
   "outputs": [
    {
     "data": {
      "text/html": [
       "<strong id=\"left_in_bool\">left_in_bool:</strong> <a class=\"ProveItLink\" href=\"../__pv_it/axioms/1cddb3761467b3870f77165b3bc2894ede1bccbf0/axiom_expr.ipynb\"><img src=\"data:image/png;base64,iVBORw0KGgoAAAANSUhEUgAAANQAAAAWBAMAAABK0K+UAAAAMFBMVEX///8QEBCIiIhmZma6urrM\n",
       "zMxUVFQiIiJERETc3Nzu7u6qqqp2dnaYmJgyMjIAAAAcRTyBAAAAAXRSTlMAQObYZgAAA05JREFU\n",
       "SMetVl1IU2EYfjo7053tHN1lUMhuom6ylaBZVougRBDFwLoQ2kWBdmVFRZA5ImpasHWVEOEBIcML\n",
       "G3hRUtHCIDGLVRcFmi2qm6A/TTLD6v3eb/Oc/SgU++Dbe97v533e/29Awca15TY9USApPl4XAMkd\n",
       "YuJMZi6vXRl5eyIAtAGPBf+xAFAlUUm+Zq0nm9zd24BBoIc4LVQAqBeSTM1nrYfqscYF6D6UmERi\n",
       "BYA6Jd049FOyxoWTZ9JQdwjK7YUxNjBwpQBIWrtEUL7LkJ01Lase3iD6HpgLh08vJyOau+TMc0zx\n",
       "M6nzLDAdNC0HqscPER0BiHTxmvytnRlpZemqPKmLH1caT43UVHbBE8iFciXYfwHnNLNtVqx2dn4T\n",
       "56eAXXBzfhrScsML3ct3Yd15syj7GfAAqE5xU+VVW1OfxTGpnzYjAexp8WSS6C06A4UV6pOWO4Lw\n",
       "zFtQzrjQdYc44RN8JXDfxHWxeLcioejaRKOUuIK1aa6onONrZZ9ppKFcKt0/QB5KFPPS2DGpnQ+O\n",
       "pAVVJCTp/RQIZ4fgjwLbZQ29Gh6AomAsYYeinzJklo+AQpChtGQz6+EL887NRpSbFhSr0eSim65B\n",
       "YcosFKp38oMq0kBR1MmozYEemkeY9dqhikRP2iPS4SCrjyreaVi/LggLiusg6KBMbjFIf3X6+Xkh\n",
       "MogSTjvHxg/2tLhK8wuzmzKsMuKcFhjiipjABt55Sm3LBlUrMiWmULfpFqHWk1DouBpCH0MpqE7F\n",
       "SvenaisStbKEG1MLxinCqKFZKuLtfjceYb9dAnpjFtRuUSM1o/Nw+kkbuOLQfnFP3RcOh30EFfel\n",
       "yqAd7shvE7f/cMzdrXWZ7RbCfENAOEz0sn4kqCFqQe2nuQXaLIpMsVIag0qdRw2Sw6VVcX9GY1oc\n",
       "6miqMaUbf3v6q57EJLRuaPPQVtsc2E+XKAoL2CsciV4Tl8nv5HtdKKboGI9nttulhu5LB3UOWqTD\n",
       "uQqPZipaAzaoYhOREHp+JA6LCOudFZXnhA/oyEWiL59u/rTYLqLLQg1mv5X2TiNbWzq8ZmrKR0ns\n",
       "UKzyPI1Lja4sfjgHCnkF3PvnB9/ItjmRC1Wf7233o6DDYf3/yHkwzP8R+Be3SdbbBDyFcwAAAABJ\n",
       "RU5ErkJggg==\n",
       "\" style=\"display:inline;vertical-align:middle;\" /></a><br>"
      ],
      "text/plain": [
       "left_in_bool: forall_{A, B | (A and B) in BOOLEAN} (A in BOOLEAN)"
      ]
     },
     "execution_count": 7,
     "metadata": {},
     "output_type": "execute_result"
    }
   ],
   "source": [
    "left_in_bool = Forall((A, B), in_bool(A), conditions=[in_bool(And(A, B))]) "
   ]
  },
  {
   "cell_type": "code",
   "execution_count": 8,
   "metadata": {},
   "outputs": [
    {
     "data": {
      "text/html": [
       "<strong id=\"right_in_bool\">right_in_bool:</strong> <a class=\"ProveItLink\" href=\"../__pv_it/axioms/c0d5c258fcec46a8cf3bed094c3c4e6176dd5b050/axiom_expr.ipynb\"><img src=\"data:image/png;base64,iVBORw0KGgoAAAANSUhEUgAAANUAAAAWBAMAAAClEsSqAAAAMFBMVEX///8QEBCIiIhmZma6urrM\n",
       "zMxUVFQiIiJERETc3Nzu7u6qqqp2dnaYmJgyMjIAAAAcRTyBAAAAAXRSTlMAQObYZgAAAxtJREFU\n",
       "SMetVk1oE0EU/jrJJtlkk/YgVFAkN3uxjRasxYMFQUuhNCC03hqwQvTgDx5E/CGK4LYKza1epCsF\n",
       "Kz1owFNBYWkPSi1lwYNKG42IF0ERK6VWtL6Z2cxumhBQMrDDzPtm53vve29mF2hYu1cXnaWnxAfF\n",
       "BlBFc0D87Fpn9maFmZ03/7SOAKE88JIbPjeAK0GboYkID6Ur7Vry4ZSDKAV1l6Z6rgFcr3g37AAD\n",
       "qQp7JOiwNBHMEa0FGIUGcF3iXQcF9z4p5vFbF6+5XLECcd0n08LMzEQDqPRzvL9OeWu1+Ei7Yam4\n",
       "jD7iSvQA66Z5pd4m+WqTVmMZE8qtAUOnxfyR5Wl4dJBSaNCCk8CoMMq+d3U+K7YPyqWGDyvDsZ5q\n",
       "rojDnVgrtl2W81Nevlo3t3FNqTgOixKh8Q8pcwuMFrHG946LKbjbnb1r7zroDsM85+wn5SUj5jlf\n",
       "bRhFG4iRyGEw7hKmfgsokEFsw+PSbIUxD37Az9PTTocZ+rJb4U081gh5yX6J93Z9peZyIddPlm8k\n",
       "khMWixcuSP+SCJQ8rlBaYUOOgvlZejM7A8aw4Pi4mikm9h0Vx0hwhSSXXhoUjiRNAT1Oo93yuMIe\n",
       "NlZSMCkR5LXAWHAl79OQH6+Q1LvFz5VJUP55oY6OiADQJaCBPW1ScMk1oTDNLio4lkFCFF9g7yd/\n",
       "bfDjNSwj2lcR14qsDTwRJ2MZHQJaAnb7uHoVFrEiCg7mMCW4GLrdfPGSxgeCtltenPKOso158i/A\n",
       "M9/Mz3n04+K4WHQHmCx4XEcUdgzxQhnWShgyTTNJXLa8JYREZzZP7Dddjmi2r+LuRYI7FeccAQuT\n",
       "wkOqooG8x3VcYadFHUs4mCFdZVx2yn9H+Vrwhbyjym1ajagomx19DPoG9J0+DafLmJbiWrpw3IbB\n",
       "PWMGFm3/3VunzakErkMfv6rtwPPVzmyPjytsuVjI4iYXDtBzm9DXSwe+qC3y9T9vpS2GmP/SkXKX\n",
       "Uxx1H5lvjlC+tn4r67QqV2aruFBzh2f//g/wdqvBqebqr6VHCo1tAVfWGmlg1n/t+Bf/gNvfT2GJ\n",
       "ugAAAABJRU5ErkJggg==\n",
       "\" style=\"display:inline;vertical-align:middle;\" /></a><br>"
      ],
      "text/plain": [
       "right_in_bool: forall_{A, B | (A and B) in BOOLEAN} (B in BOOLEAN)"
      ]
     },
     "execution_count": 8,
     "metadata": {},
     "output_type": "execute_result"
    }
   ],
   "source": [
    "right_in_bool = Forall((A, B), in_bool(B), conditions=[in_bool(And(A, B))]) "
   ]
  },
  {
   "cell_type": "markdown",
   "metadata": {},
   "source": [
    "### Definition of multi-operand conjunction:"
   ]
  },
  {
   "cell_type": "code",
   "execution_count": 9,
   "metadata": {},
   "outputs": [
    {
     "data": {
      "text/html": [
       "<strong id=\"empty_conjunction\">empty_conjunction:</strong> <a class=\"ProveItLink\" href=\"../__pv_it/axioms/258b1a7475868e32195b9c6d437e23c2453ae06a0/axiom_expr.ipynb\"><img src=\"data:image/png;base64,iVBORw0KGgoAAAANSUhEUgAAABsAAAAUBAMAAACOrFuzAAAAMFBMVEX///8QEBCYmJiqqqp2dnaI\n",
       "iIi6urpUVFTu7u4iIiJERETMzMxmZmYyMjLc3NwAAACHEeD/AAAAAXRSTlMAQObYZgAAAK9JREFU\n",
       "GNNNUDEOgkAQHOVUOJQ32NgZwwuMjU+g9xU0VpZ2lFTEJ9iZUPEEnnDhBT7BmSMHbrKbmcvO7O4B\n",
       "IQacMUf8wsYJZJ7uHOLeg071yLwKtLVqw3wIlIUUlfpu9OgTopUUhsXkJgfsnnRJrwSZKp8QUXEA\n",
       "7sCCMqRfgL6fmUadX8E3rytBPQWrVqNrPwPbC0rRQn0UvSELpOOSz/nA6YQxbDhwOt+6v+8YcAJ+\n",
       "X3okQidb6vkAAAAASUVORK5CYII=\n",
       "\" style=\"display:inline;vertical-align:middle;\" /></a><br>"
      ],
      "text/plain": [
       "empty_conjunction: and()"
      ]
     },
     "execution_count": 9,
     "metadata": {},
     "output_type": "execute_result"
    }
   ],
   "source": [
    "empty_conjunction = And() # base case"
   ]
  },
  {
   "cell_type": "code",
   "execution_count": 10,
   "metadata": {},
   "outputs": [
    {
     "data": {
      "text/html": [
       "<strong id=\"multi_conjunction_def\">multi_conjunction_def:</strong> <a class=\"ProveItLink\" href=\"../__pv_it/axioms/f5e111bf6b6844ee37fdbcb07c61daae76c8abfc0/axiom_expr.ipynb\"><img src=\"data:image/png;base64,iVBORw0KGgoAAAANSUhEUgAAAdEAAAAyBAMAAADxSvwwAAAAMFBMVEX///8QEBCIiIhmZma6urrM\n",
       "zMxUVFQiIiJERETc3Nzu7u6qqqp2dnaYmJgyMjIAAAAcRTyBAAAAAXRSTlMAQObYZgAAButJREFU\n",
       "aN7NWmtoHFUUPpnd2fds+sOWSkUXK+q/XYlEqNVsFSkI4rZCqxTMkrYggmS1ULAqjSB2W5FdEewL\n",
       "7ZRKUyqYrfmhhUq3EUFisWuK0iK2CxXB/jAhNm3Smsb7mNedufNYpzubG7Jz751zZs8398y553w7\n",
       "AC7tvoV/wVdL5aFz7ahiw8LCElfZFfsP+Puysx0ECuEmOST2H3RHutTndwlFZhhvtAPQSdszl5Sj\n",
       "2H6kJ9jhMeWLm61d5WWb+V8XNveW8xCp2inG6kEhTdzFjv+ih/SUYc7GzLihP2k6p6ksBwjNQKLp\n",
       "9v3tRxrLMUNJGV66aZi8wldN66rSpMyeU1XEefQs/gMw5uZT7Ud6mjUxShcjMTqnz4m7ZK7qizu0\n",
       "7hd97LprKgK6jjQNcNjWgGg9IKTb2OFeZY2Ea/pc5KkMV3XL/Vq3kWW3Kk0lhgAcRnckbbuVJeeC\n",
       "QSrNseOV9PBscl6f+xJK3CesGdX2Cvk0G7I1le4iiNvR+qZyLve67UijQ+z4QwoiL05j96RzP6I/\n",
       "XsZRS9WU7ufQzy67ptL/2sQuLCWRkPTT37iZHvvLciBI+01e9RZdI4ijKPLCY3SuBJ9xbxLE1Yia\n",
       "h0Psmmkq2SoklmEfLdmaMJIJBOkjpjGN+Rt6emfRYS118AxEChzVCYCtSvzZ3DPI+Iau8i5GixZV\n",
       "nLI1Id0MBOkyLlK00PdqSKMyiEWOKoozG5THFKCL2TB1lesYacYRqTAXBFJxHjjem0T/r2tIR/V8\n",
       "gomZyF/TdG9BaxZdAtIT61cKDxYYFXL9QXTjwiX9Of3TlIDMB4FUMIVeGpEOKknPWi1rGuU4XZWi\n",
       "RabWSE4lrWl0vUqzaE0FX1+c1SKSg1+1G2nMfP3vsOX4/leqClJxiLojJG6D8jHSVAPzDnUPjs3B\n",
       "gYegOx+qG1Ugja6/Zg/qhOr2RuxSkJKb8bsjUjcR+9Zl2mQwuETltgzfLGxTkEZwdBZwfNwOykcU\n",
       "L9wWPMK5w7GFq5Cs3MjBAKyDaM2oEpm83vPKB8QDCvZGnFOQko3pqiNSNxH7NmLe0KNVFjYJN6hZ\n",
       "DSXbk8ha8jAcEvkqww5GXC5QpPuwPw05InUTcdhOzXmeZIT+dUvXik+hVb2Q4p8cczMCIU3jXKrm\n",
       "iNRNxCG/t2jt1rsf7xxoiT4ookj0yTi/Nmu6ORZCKo0fP77XOSK5ibg4Dq8Sv8MtVnU42V1UYu9s\n",
       "ufy2S+x1EbFvWYsF7WFXLjqd7B5SkG5lXIqLVBPZ7X5Hw5XVvZrYORk630h+hZE+bfHyjavzwjIj\n",
       "UlVEusb3USaN/xngjNrvWxRISwrSKAgGj0qc6mkkh8ZhlRGpKnJknhsO+hiP7DUQDYOLACjOJCnS\n",
       "VCNqmL5w8jgkJ0JQNyJVRca3cQvJYWbXfAPgSViUSONNVDKo6XMYG53c9FKGQUpEkHSmzLvS+phx\n",
       "r03MgHB1UXlvVPVe2I0SLzV9TpMyojD+C4OUiKDkC1DtHLEYXwwZy+Dw9MT7eiLGj72f+jX+ZCvz\n",
       "WkSCUWSomj4foUhTOi9DkI4SLL9BFsQzZqRSTTAWh6kmCBryLHc/TVAf8MFuW5hsJ4a7S91PoRtn\n",
       "S0r6vLFcLmeShXijxCAlIokrZysyrSEY9mr1D0byNlaH+C1+VFYLLqXs9MFua7uFF4a7O6cilWQ9\n",
       "fY7QNYVnMgxSIhKS4VDBinQVxGfg/LfnN31Pr1uDsFaVns7z8t7ztO+H3R4zqTkx3CN1Y32qps8p\n",
       "7G5SHqS6tT59DsFoYKTxPbBPVj/C6MGbh6+aXbVTqBZAN0OGjzTl/gavlnmTrosfdvuwSc2J4VYz\n",
       "fFP6jKu9tX+gMGNBGpuFeOUdwuGsgHVV8W78sQIqQ7DvRiNSGIZHAdbVUjt7et9jHcfY9qqVuE92\n",
       "W2GyPTHcpMywcg4Cek4dOQfsvUmd7dEoy1Eo1QjlwwibnxvMbAsUvi92W4mYnhhusgG0zq6I2ceN\n",
       "wVztHYUHYKAKSVNgCU1xeKQYsdgfu63wRjYMN9sGffBIDU6PGmAOQDc53CBhSHyy2wqT7YnhXh4I\n",
       "C3qLw/d25f2z25Tf9cRwx6c7xmxTpP7YbYrIE8MdDLMNfXbe65Pdpky2HcPNVs+lQJA+n7eJSD7Z\n",
       "bRp5PDHcJL8L4FfFnJXZxjuBDbtNSG0v7HYLDHdWDgSpOfhiYMjDbNltQmp7YLcJk+2N4aahov2/\n",
       "/t9jmw36YreHwSvDHdSv/+Y3OowZvh92247JHrOrEdqPNJ2zMtsGLvF/stt2TDZn/oQcENL4UttK\n",
       "vA1MtnU+uDevzO55Z9iVi57nI7nAkIaKHaXLLoBnpL7feh3oJNBW3nr1/SZzKN9BpEdpPMJvMv8H\n",
       "pSVCBOpmfecAAAAASUVORK5CYII=\n",
       "\" style=\"display:inline;vertical-align:middle;\" /></a><br>"
      ],
      "text/plain": [
       "multi_conjunction_def: forall_{m in Natural} [forall_{A_{1}, ..A_{_a}.., A_{m}, B} ((A_{1} and ..A_{_a}.. and A_{m} and B) =  \\\\ ((A_{1} and ..A_{_a}.. and A_{m}) and B))]"
      ]
     },
     "execution_count": 10,
     "metadata": {},
     "output_type": "execute_result"
    }
   ],
   "source": [
    "multi_conjunction_def = \\\n",
    "    Forall(m, Forall((A_1_to_m, B), \n",
    "                     Equals(And(A_1_to_m, B), And(And(A_1_to_m), B)).with_wrap_after_operator()),\n",
    "           domain=Natural)"
   ]
  },
  {
   "cell_type": "code",
   "execution_count": 11,
   "metadata": {},
   "outputs": [
    {
     "name": "stdout",
     "output_type": "stream",
     "text": [
      "These axioms may now be imported from the theory package: proveit.logic.booleans.conjunction\n"
     ]
    }
   ],
   "source": [
    "%end axioms"
   ]
  },
  {
   "cell_type": "code",
   "execution_count": null,
   "metadata": {},
   "outputs": [],
   "source": []
  }
 ],
 "metadata": {
  "kernelspec": {
   "display_name": "Python 3",
   "language": "python",
   "name": "python3"
  }
 },
 "nbformat": 4,
 "nbformat_minor": 0
}