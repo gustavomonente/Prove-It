{
 "cells": [
  {
   "cell_type": "markdown",
   "metadata": {},
   "source": [
    "Theorems (or conjectures) for the theory of <a class=\"ProveItLink\" href=\"theory.ipynb\">proveit.logic.booleans.conjunction</a>\n",
    "========"
   ]
  },
  {
   "cell_type": "code",
   "execution_count": 1,
   "metadata": {},
   "outputs": [
    {
     "name": "stdout",
     "output_type": "stream",
     "text": [
      "Defining theorems for theory 'proveit.logic.booleans.conjunction'\n",
      "Subsequent end-of-cell assignments will define theorems\n",
      "'%end theorems' will finalize the definitions\n"
     ]
    }
   ],
   "source": [
    "import proveit\n",
    "# Prepare this notebook for defining the theorems of a theory:\n",
    "%theorems_notebook # Keep this at the top following 'import proveit'.\n",
    "from proveit import ExprRange, IndexedVar\n",
    "from proveit import A, B, C, D, E, i, j, k, l, m, n\n",
    "from proveit.logic import And, Or, Not, TRUE, FALSE, Forall, in_bool, Boolean, Equals\n",
    "from proveit.core_expr_types import A_1_to_l, A_1_to_m, B_1_to_m, C_1_to_m, C_1_to_n, D_1_to_n\n",
    "from proveit.numbers import Natural, one\n",
    "%begin theorems"
   ]
  },
  {
   "cell_type": "code",
   "execution_count": 2,
   "metadata": {},
   "outputs": [
    {
     "data": {
      "text/html": [
       "<strong id=\"true_and_true\"><a class=\"ProveItLink\" href=\"proofs/true_and_true/thm_proof.ipynb\">true_and_true</a> (established theorem):<br></strong> <a class=\"ProveItLink\" href=\"../__pv_it/theorems/aa1fd3d54c056de09d43bb094b95496e1b58a6640/theorem_expr.ipynb\"><img src=\"data:image/png;base64,iVBORw0KGgoAAAANSUhEUgAAADUAAAAPBAMAAAC2KZqIAAAALVBMVEX///92dnbu7u5ERETMzMwy\n",
       "MjLc3NyYmJi6urqIiIiqqqpUVFQiIiJmZmYAAADMZXmcAAAAAXRSTlMAQObYZgAAAHFJREFUGNNj\n",
       "uHMGBE4zIAFesNCZDSD2SrhoAozBNQHKQMjF4pZjsVHAKcfdOQGnnCrDAZxyUkCIS+4AQyouOfYJ\n",
       "DNwOOOR4FBhYNuCQWwvEYTjkwqDyWORYDCDmosi1Q33eACQ4IYIcBQwogANMOiAEAGEgJV+JGj3x\n",
       "AAAAAElFTkSuQmCC\n",
       "\" style=\"display:inline;vertical-align:middle;\" /></a><br>"
      ],
      "text/plain": [
       "true_and_true: TRUE and TRUE"
      ]
     },
     "execution_count": 2,
     "metadata": {},
     "output_type": "execute_result"
    }
   ],
   "source": [
    "true_and_true = And(TRUE, TRUE)"
   ]
  },
  {
   "cell_type": "code",
   "execution_count": 3,
   "metadata": {},
   "outputs": [
    {
     "data": {
      "text/html": [
       "<strong id=\"true_and_false_negated\"><a class=\"ProveItLink\" href=\"proofs/true_and_false_negated/thm_proof.ipynb\">true_and_false_negated</a> (established theorem):<br></strong> <a class=\"ProveItLink\" href=\"../__pv_it/theorems/da381b524bbcea672364e3e67d87a961648d02ef0/theorem_expr.ipynb\"><img src=\"data:image/png;base64,iVBORw0KGgoAAAANSUhEUgAAAFYAAAAUBAMAAADl6NejAAAAMFBMVEX///+6uroQEBCqqqqIiIgy\n",
       "MjJERETu7u6YmJjMzMxUVFTc3Nx2dnYiIiJmZmYAAAAutVgsAAAAAXRSTlMAQObYZgAAAPdJREFU\n",
       "KM9jYECAHQx4APMGZB57AsPbuyBwC00ZpwGIXI0sxArWaQLjciOMdACRpchq+xhQ1LI+QFXL44Ck\n",
       "9jaq2mnXUdWyKyCUcl9AVbvQBVUtQyBCLcsDFLXsAbxoas8h1LI1oKjlMeAxQFXbCgmmO0AmrwGK\n",
       "Wl4G7gBUtbYQ3i4gZhJAUdvCwLASVe18nGqBoTALp1pUNzA/gEUOXK0sQi2q30DqmB+g+Q0S4yCP\n",
       "o4TZNKg7kNS+QYQZIyQuJKAxASJAscF39+4l3bt3FzAwRGLEMRQIwKxDJMMLGGkHJ0BJO2wb8Kot\n",
       "RUvr+EA2Cg9vHuLYwAAAxXE7tI62KFkAAAAASUVORK5CYII=\n",
       "\" style=\"display:inline;vertical-align:middle;\" /></a><br>"
      ],
      "text/plain": [
       "true_and_false_negated: not(TRUE and FALSE)"
      ]
     },
     "execution_count": 3,
     "metadata": {},
     "output_type": "execute_result"
    }
   ],
   "source": [
    "true_and_false_negated = Not(And(TRUE, FALSE))"
   ]
  },
  {
   "cell_type": "code",
   "execution_count": 4,
   "metadata": {},
   "outputs": [
    {
     "data": {
      "text/html": [
       "<strong id=\"false_and_true_negated\"><a class=\"ProveItLink\" href=\"proofs/false_and_true_negated/thm_proof.ipynb\">false_and_true_negated</a> (established theorem):<br></strong> <a class=\"ProveItLink\" href=\"../__pv_it/theorems/1b5decf954c65c42ceecd5a11a2055dea11344a60/theorem_expr.ipynb\"><img src=\"data:image/png;base64,iVBORw0KGgoAAAANSUhEUgAAAFYAAAAUBAMAAADl6NejAAAAMFBMVEX///+6uroQEBCqqqqIiIgy\n",
       "MjJERETu7u6YmJjMzMxUVFTc3Nx2dnYiIiJmZmYAAAAutVgsAAAAAXRSTlMAQObYZgAAAPZJREFU\n",
       "KM9jYECAHQx4APMGZB57AoicjKaG7y4YLGBYjSzKCtZpAuNyI4x0AJGlyGr7GFDUsj5AVcvjgKT2\n",
       "NqraaddR1bIrIJRyX0BVu9AFVS1DIEItywMUtewBvGhqzyHUsjWgqOUx4DFAVdvK8BYUIneATF4D\n",
       "FLW8DNwBqGptIbxdQMwkgKK2hYFhJara+TjVAkNhFk61qG5gfgCLHLhaWYRaVL+B1DE/QPMbGHCC\n",
       "PI4SZtOg7kBS+wYRZozAuAAGitLdu7dAMQESgsYGI8TGSIw4hgIBmHWIZHgBI+3gBChph20DXrWl\n",
       "mGkdJ8hG4eHNQxwbGACwdDx3X6+6OwAAAABJRU5ErkJggg==\n",
       "\" style=\"display:inline;vertical-align:middle;\" /></a><br>"
      ],
      "text/plain": [
       "false_and_true_negated: not(FALSE and TRUE)"
      ]
     },
     "execution_count": 4,
     "metadata": {},
     "output_type": "execute_result"
    }
   ],
   "source": [
    "false_and_true_negated = Not(And(FALSE, TRUE))"
   ]
  },
  {
   "cell_type": "code",
   "execution_count": 5,
   "metadata": {},
   "outputs": [
    {
     "data": {
      "text/html": [
       "<strong id=\"false_and_false_negated\"><a class=\"ProveItLink\" href=\"proofs/false_and_false_negated/thm_proof.ipynb\">false_and_false_negated</a> (established theorem):<br></strong> <a class=\"ProveItLink\" href=\"../__pv_it/theorems/2273299e88592187626332f7effd777e60781ab80/theorem_expr.ipynb\"><img src=\"data:image/png;base64,iVBORw0KGgoAAAANSUhEUgAAAFYAAAAUBAMAAADl6NejAAAAMFBMVEX///+6uroQEBCqqqqIiIgy\n",
       "MjJERETu7u6YmJjMzMxUVFTc3Nx2dnYiIiJmZmYAAAAutVgsAAAAAXRSTlMAQObYZgAAAPxJREFU\n",
       "KM9jYECAHQx4APMGZB57AoicjKmM0wBErkYWYgXrNIFxuRFGOoDIUmS1fQwoalkfoKrlcUBSextV\n",
       "7bTrqGrZFRBKuS+gql3ogqqWIRChluUBilr2AF40tecQatkaUNTyGPAYoKptZXh7FwjuAJm8Bihq\n",
       "eRm4A1DV2kJ4u4CYSQBFbQsDw0pUtfNxqgWGwiycalHdwPwAFjlwtbIItah+A6ljfoDmN0iMgzyO\n",
       "EmbToO5AUvsGEWaMwLgABorS3bu3QDEBEgLFBt/du5d0795dwMAQiRHHUCAAsw6RDC9gpB2cACXt\n",
       "sG3Aq7YUM63jBNkoPLx5iGMDAwAx0Tt0ptNgBgAAAABJRU5ErkJggg==\n",
       "\" style=\"display:inline;vertical-align:middle;\" /></a><br>"
      ],
      "text/plain": [
       "false_and_false_negated: not(FALSE and FALSE)"
      ]
     },
     "execution_count": 5,
     "metadata": {},
     "output_type": "execute_result"
    }
   ],
   "source": [
    "false_and_false_negated = Not(And(FALSE, FALSE))"
   ]
  },
  {
   "cell_type": "code",
   "execution_count": 6,
   "metadata": {},
   "outputs": [
    {
     "data": {
      "text/html": [
       "<strong id=\"empty_conjunction_eval\"><a class=\"ProveItLink\" href=\"proofs/empty_conjunction_eval/thm_proof.ipynb\">empty_conjunction_eval</a> (established theorem):<br></strong> <a class=\"ProveItLink\" href=\"../__pv_it/theorems/78debfd1585061dcf6fa6f95a719f582efae5c440/theorem_expr.ipynb\"><img src=\"data:image/png;base64,iVBORw0KGgoAAAANSUhEUgAAAEcAAAAUBAMAAAAthD11AAAAMFBMVEX///8QEBCYmJiqqqp2dnaI\n",
       "iIi6urpUVFTu7u4iIiJERETMzMxmZmYyMjLc3NwAAACHEeD/AAAAAXRSTlMAQObYZgAAANdJREFU\n",
       "KM9jYICBRwx2DIQAxwIG9gdoYjwzwaAAyOQDC/A+YOC4gKmXOQBC8x4AkTpA7Ipb0a4ZIHIeEDfi\n",
       "VlQWCrJzAsjMBFyKOC5wAklWkJ0sB3ApYjFgMWBg4FIAMpnALve9CwJ3UBRxMvAB5TgNQCITcJmk\n",
       "ysBQzcDACHIO9wdcioB+205IEfMBcECCrWObgHDTdWRFQAUghUgOx2LSLoiVYN/zOOBQVAYiQiE2\n",
       "8W7AUMQGsoEBHMjckGjpJJRUcEQwKuDCnlQwEh3XA4JJ8xGDHi4pAEZmN01P7wBbAAAAAElFTkSu\n",
       "QmCC\n",
       "\" style=\"display:inline;vertical-align:middle;\" /></a><br>"
      ],
      "text/plain": [
       "empty_conjunction_eval: and() = TRUE"
      ]
     },
     "execution_count": 6,
     "metadata": {},
     "output_type": "execute_result"
    }
   ],
   "source": [
    "empty_conjunction_eval = Equals(And(), TRUE)"
   ]
  },
  {
   "cell_type": "code",
   "execution_count": 7,
   "metadata": {},
   "outputs": [
    {
     "data": {
      "text/html": [
       "<strong id=\"left_from_and\"><a class=\"ProveItLink\" href=\"proofs/left_from_and/thm_proof.ipynb\">left_from_and</a> (established theorem):<br></strong> <a class=\"ProveItLink\" href=\"../__pv_it/theorems/6a715fa1cb1885d7b8483f69da92d8d7b9e63ecf0/theorem_expr.ipynb\"><img src=\"data:image/png;base64,iVBORw0KGgoAAAANSUhEUgAAAHMAAAAWBAMAAAABVL48AAAAMFBMVEX///8QEBCIiIhmZma6urrM\n",
       "zMxUVFQiIiJERETc3Nzu7u6qqqp2dnaYmJgyMjIAAAAcRTyBAAAAAXRSTlMAQObYZgAAAchJREFU\n",
       "OMudkz1IAzEUx//2qm3au+quQzdd/IBCBSm24OIiVQdHLajgpuiq6CDSinB1slsPFJQKeuDkpOKg\n",
       "qMjpKmLBzUXxA1tFNHnnQQa1nAfJS/7v/ZJc3gvw/68oumvX2CBvp2Jw5xq95y3HG5tzS2r3BhDi\n",
       "TTXdopvxLOdPCoUV1+e1WhO8L6XT025Jr7FncTMKZGhu991Ph2NZcjtxfnuqx6IZR1rDUJibLgQo\n",
       "QdqzfQF1UOuIcOJuEmQugANHSiDfxo0PHrE5Vj9IVVIIvsloIE5uRIE9w5aqhyPjIimq5aP5yRQZ\n",
       "XxhKUUbV9Tayk0Cn86tAlYhhxQFaKZwmebsXLYaM9vsp64EXeJzK4bn00U9lRkRfg3aSk81NKcho\n",
       "SpmgnR4vF74VxtHQgxjtkOsKraSfA40yqpkeilKL8EzYkigDf1mMasU9B27PdDrnEpA3JXQrdmzf\n",
       "2j7YOykbn3cI6q/iBjSBKAbyvcLB3cmshHaAvdAGJrzlH+ujhzsttgj2BtYgHdjLM/OBHF/YwPL+\n",
       "T6S/BKbPVNfj6CkylpBQfQ65V6vPVGcj0fm/ajMoryY7Kj+t3V/QYLbyW/oF1dw9LKVSwBeDsXAY\n",
       "KpZ6WQAAAABJRU5ErkJggg==\n",
       "\" style=\"display:inline;vertical-align:middle;\" /></a><br>"
      ],
      "text/plain": [
       "left_from_and: forall_{A, B | A, B} A"
      ]
     },
     "execution_count": 7,
     "metadata": {},
     "output_type": "execute_result"
    }
   ],
   "source": [
    "left_from_and = Forall((A, B), A, conditions=[A, B])"
   ]
  },
  {
   "cell_type": "code",
   "execution_count": 8,
   "metadata": {},
   "outputs": [
    {
     "data": {
      "text/html": [
       "<strong id=\"right_from_and\"><a class=\"ProveItLink\" href=\"proofs/right_from_and/thm_proof.ipynb\">right_from_and</a> (established theorem):<br></strong> <a class=\"ProveItLink\" href=\"../__pv_it/theorems/73c7601dc091bfa76262092d5b4df10a906f29170/theorem_expr.ipynb\"><img src=\"data:image/png;base64,iVBORw0KGgoAAAANSUhEUgAAAHMAAAAWBAMAAAABVL48AAAAMFBMVEX///8QEBCIiIhmZma6urrM\n",
       "zMxUVFQiIiJERETc3Nzu7u6qqqp2dnaYmJgyMjIAAAAcRTyBAAAAAXRSTlMAQObYZgAAAYZJREFU\n",
       "OMudkz9Iw0AUxj8T+ydtYrsp6JDNLlqhoKOCi4u0k44NqFAcVHBUoYJDKkK76daKWxcLTp0dhCqS\n",
       "XYoVN0crpVZE7y6UHjlDOd/w7t3v7rt3914C/N9a1DWlJMZuJ5U7Ae7p5E0u3UgeWMzggoRaXk6a\n",
       "dYD0HMYqgF6TkyZLwLMJo1GtnkvW5xiIjJOUXds+lJR2gPVtMm4BBQZcv9K+zZVoMNrf6OFAoNNM\n",
       "HNBgGRHWIOPDrXwcepwG4X4rPBxQPoFLiwQhKA4FV9+MqxaiPV7q5WSFHKF8kUB3Qgw09tkQMqG2\n",
       "eKmXAzGSUXmnTW2tsQeYNuPXGcxWOKnA3bYG2TMKm9QHscB4eiZhgZMK3G1rln1FN3vUPyHJ+CMw\n",
       "zUsFDryQ8k+wG8RM4iKvD0U2OwPKtYFU5Nj52Zi33dCgS2oF5QydkcqlSwOpyAVbJdkd7RRaD9oU\n",
       "d2GRey3chVY8Ckzirp3KLQ2kf3Afi/Kn+XAfq/tI68Oljo/Ukfuz1GEbfgEUVW+4LH+JngAAAABJ\n",
       "RU5ErkJggg==\n",
       "\" style=\"display:inline;vertical-align:middle;\" /></a><br>"
      ],
      "text/plain": [
       "right_from_and: forall_{A, B | A, B} B"
      ]
     },
     "execution_count": 8,
     "metadata": {},
     "output_type": "execute_result"
    }
   ],
   "source": [
    "right_from_and = Forall((A, B), B, conditions=[A, B])"
   ]
  },
  {
   "cell_type": "code",
   "execution_count": 9,
   "metadata": {},
   "outputs": [
    {
     "data": {
      "text/html": [
       "<strong id=\"and_if_both\"><a class=\"ProveItLink\" href=\"proofs/and_if_both/thm_proof.ipynb\">and_if_both</a> (established theorem):<br></strong> <a class=\"ProveItLink\" href=\"../__pv_it/theorems/8c5d0eb6dfe043bd31ec8e4f8194b794592d26f00/theorem_expr.ipynb\"><img src=\"data:image/png;base64,iVBORw0KGgoAAAANSUhEUgAAAK0AAAAWBAMAAABAjAHGAAAAMFBMVEX///8QEBCIiIhmZma6urrM\n",
       "zMxUVFQiIiJERETc3Nzu7u6qqqp2dnaYmJgyMjIAAAAcRTyBAAAAAXRSTlMAQObYZgAAArtJREFU\n",
       "OMutVU1oE1EQ/tzsJtn81J5E0ENuetEWAhGk2KgXL9LqwaMNVKEXaVEQFKURxKZVyHoyF21EoVKh\n",
       "LuTUU2M9KK1IrCCIiIGe7CWlsb8S6rx5L+EZTWHVB7szb+bN983OTF6Av1oPd/RO01MWyhePsKG0\n",
       "lOeb7B+3+xOZJPwOMC/2Sx5x2xwpK2rv1B17Ad8qQpRsjnZ22iPuBymilbxUFpXdqgFmFZglanJF\n",
       "XI+416R43i0TtUYUvrFJZCvAYxJzk5MPPMLaQ1KWOpIs/Sdi0hBsJ8zrlCzZNzKZGx5xjU4WZn6m\n",
       "xMoUFNHuFKyrogB04CIwykb5PlV9NSC/LqlQgrw1s12J0bpFwj1Fn8xzXnYf6Lu0MCJqGqXGneT2\n",
       "kf5d9qIdkXbW6s38KgneAy+VJeAq4nGZ+BAeSUeHg9AekmHKPwCD6Z/U2OVLIbyl44a6ZXYJYEa1\n",
       "ZxczWf3xQT4TjcHfy45bAptIrWWqRSnAtrkrMpcYfGUdNzIhk7oMHIOOa5LCJwN5WCl2rAncmMS1\n",
       "y+eYPZZh14teHM7ruGeDrIRWYSz9Ugd6BbhiBXq+1ccXg0Rqij6OXuBZwRGO6Tl0UHLXcVM+bra5\n",
       "snAHet9swm1bhsIs1MfX2lB9Q4HjPqODY94BB3TcqGtwcKQMQ00TjxHE0Ac3RZZpWQuiofSPj4km\n",
       "FcXQiWEJLb7N8uffA8ZdDXeq6w23MViE/UPhis98tr2EcHadGPyi2gaB+Ctr8YG7fH+INkYFni+P\n",
       "ce4pxfY4Gu5R2Ks88i7MzabfsWLhd69ummhopymyZI/B3oK9X6uDSaWsIUesedwvNt07LddsoxMb\n",
       "sLM3rX14XY0PJDXcbBq59dIZNzIcT9xuxAWdna/ncpMhrG/0y9P9873eYv1GO90CN+x4+h/61Gwo\n",
       "tcCN4j+uzn8J/glIXrXYTMUp0gAAAABJRU5ErkJggg==\n",
       "\" style=\"display:inline;vertical-align:middle;\" /></a><br>"
      ],
      "text/plain": [
       "and_if_both: forall_{A, B | A, B} (A and B)"
      ]
     },
     "execution_count": 9,
     "metadata": {},
     "output_type": "execute_result"
    }
   ],
   "source": [
    "and_if_both = Forall((A, B), And(A, B), conditions=[A, B])"
   ]
  },
  {
   "cell_type": "code",
   "execution_count": 10,
   "metadata": {},
   "outputs": [
    {
     "data": {
      "text/html": [
       "<strong id=\"nand_if_left_but_not_right\"><a class=\"ProveItLink\" href=\"proofs/nand_if_left_but_not_right/thm_proof.ipynb\">nand_if_left_but_not_right</a> (established theorem):<br></strong> <a class=\"ProveItLink\" href=\"../__pv_it/theorems/bb28cc95a4cb5011c1e57b64e16209c4456196940/theorem_expr.ipynb\"><img src=\"data:image/png;base64,iVBORw0KGgoAAAANSUhEUgAAANYAAAAWBAMAAABOJX+pAAAAMFBMVEX///8QEBCIiIhmZma6urrM\n",
       "zMxUVFQiIiJERETc3Nzu7u6qqqp2dnaYmJgyMjIAAAAcRTyBAAAAAXRSTlMAQObYZgAAAwtJREFU\n",
       "SMe1Vk1IVFEU/pwZZ+bNXy6CgloMtMhNKQgJITjUojbh1KJ2OWCBtUihRYQFEwQ9o5pZmZvySYFi\n",
       "YAMuolWRi0IjBlpFmIa1yI2SOeqE2LnnvvfmKDMRr7ow7/58z/Od893v3ifguT0QY6P4uzef0y+a\n",
       "B+bUZMYDVSQrJqO6O7vtnXhPqaX7JoLEgwvAtFpb8MCVyIvJN90t2lMXqqOE2tMRVdA4MKgUyHrg\n",
       "ei/zb9bdoqXn8w7QSdp2NOMVDWNJJAiOFTxwXRXjkC7kSbvu62/ZnGiihdkkhpXmDYhPjY3d90Bl\n",
       "9IqJHaDYlOI+eCRpAzeIY5eFhFr/AqyZ5jUPXL5mMdnHz4D1QttxHE4iJeDMRRJOvTwJnAf6eV0/\n",
       "jy9PdrMSASdQWJjARRGWLr/Lz8fo1PVMa8eRmKWZxj61kcocn4CjYJsg/kPvbwNiDRzMCTSbEiZw\n",
       "UIRoj1uvUFOi9PFSCkO62F48tItfB4YzdLhUnc/oj+DjFB9tMOzPIFqWXJF2UYGLos7JYIB+O7mI\n",
       "rpYeNnQ8iWBaF095+X4StKQ8SVoWQ7w+dVnnm4R/TnLFRsTOuGgVLhK9jrGQhfoMYzuo832vcBlz\n",
       "pzmrpMnw0zQOWpLrVFicPhdlDV0u1pAWQqzvhHu41fEK0t4ElIbHlCfOsU/RynDHgUadk8OV8Qt3\n",
       "u2jFGwO2NwziSiw5l8iEe7w6sxVvYIJjfUQTw++A/ZIrXvCpADHTNO8JVNuYBdF25jMWXlcLWa0j\n",
       "tc9U0m4a+V/SpE2JqowamX+bY/gOMFQQXONtb8p21KBAtSxOI3lGNxcQza1SBkG1kz4V9NJm1yFT\n",
       "vZ5QVvmqMlccfgtD7B1yTUdecB2GsVLhctGqd5Ru+mCm5cEfUdW4yZ2g+orGbRhlGHuFhgHalg0M\n",
       "Wpqrgla9e2s2++61d3oNRu56/R68Xm7pTgmuXBaDq8WTrJsh0K3XiX3n1PzU2d+ULS0qxmEJFP7s\n",
       "W1mjcVr9VT7W1bii+b/6H+CDknl7iGINrjj+b/P/84i/ALGBykwiTeHHAAAAAElFTkSuQmCC\n",
       "\" style=\"display:inline;vertical-align:middle;\" /></a><br>"
      ],
      "text/plain": [
       "nand_if_left_but_not_right: forall_{A, B | A, not(B)} not(A and B)"
      ]
     },
     "execution_count": 10,
     "metadata": {},
     "output_type": "execute_result"
    }
   ],
   "source": [
    "nand_if_left_but_not_right = Forall((A, B), Not(And(A, B)), conditions=[A, Not(B)])"
   ]
  },
  {
   "cell_type": "code",
   "execution_count": 11,
   "metadata": {},
   "outputs": [
    {
     "data": {
      "text/html": [
       "<strong id=\"nand_if_right_but_not_left\"><a class=\"ProveItLink\" href=\"proofs/nand_if_right_but_not_left/thm_proof.ipynb\">nand_if_right_but_not_left</a> (established theorem):<br></strong> <a class=\"ProveItLink\" href=\"../__pv_it/theorems/46e8e0a4888a1c45abfebdfc7bfb0830bd4bf5850/theorem_expr.ipynb\"><img src=\"data:image/png;base64,iVBORw0KGgoAAAANSUhEUgAAANYAAAAWBAMAAABOJX+pAAAAMFBMVEX///8QEBCIiIhmZma6urrM\n",
       "zMxUVFQiIiJERETc3Nzu7u6qqqp2dnaYmJgyMjIAAAAcRTyBAAAAAXRSTlMAQObYZgAAAthJREFU\n",
       "SMe1VktoE1EUPc1/mo9ZCAq6CLiwG02gYDdCgy50I8lKdyZQhejCFlyIVCGC4FSUZFXdaFMULBVq\n",
       "IQvpSrELpRUJuBKpRqoLu2mxUvtB6r33TZLJzKTCoA8y73PevHPveee9CeC6PDC1tdpOM2foFy4D\n",
       "de4suKDqLpo6E6o6a5kTHVzrLdxEgHhwAZjnsSUXXLGyqfNdVctGtwl1UUD92W5OaAq4zwoUXXC9\n",
       "N8efUtVyRfUXG0COtM2k8IqakQRiBEemXXBdNbWDKpGn/ar23zI4kaSBzwmMs+ZxROcmJ++5oNKG\n",
       "TB1jgVoyLXXgWMIAbhDHngpiPP4VWNf1ay64PClT54A8fZUXyo5TaASyBpy5SMLx5FngPDAi4+p5\n",
       "cnW2IEr42te2oAiZXX5Xno+RU/nMK8eRmGsLPcO8kWyOT8BxiE0Q/an2N45IXBZrd68FRZD2uO8K\n",
       "FRZlWIbSGFPJDuGhkfwGMJ6nw8V5PqeX4JEQH/0W2JtHeNPOZUXRlTaQUfrtliQGegfF0NEEAlmV\n",
       "PMXl2SJohT1JWtaCMj53WcWbgLdu57KiDlwkepdgwQr8ecF2UeX50eLS6qclqoQu8LMsDldsXDZU\n",
       "NGxyiYY0EBR9q83DzccrQOr7WMMTvOvnxKfoEzhzqEfF1MZlQ1veGDW8oRFXbKVxiVSbxytXbHkD\n",
       "VTHoRyQFfgccNHG90XW97oAqG0vKys5yxkIbPFBUOlL5QintpZb3JXWOsqhs1O7FtyWB7wBj0+15\n",
       "5R1QJUujkDwT20sIl35RBAHeSQ8veml74IjO02NslW9sG17FW8GYeIdckylbueyo4x2lijqYWfMW\n",
       "POFsmsGdovxq2m1om9D2w8plRx3v3o7FuHuNnV6HVrru34fXq72FtIWr7IASXrbdKh0/dcY3pa2E\n",
       "Te2Q7ZXwX7+VHYqENeLwse7MNeP2P8AHlrlsGaztyFXD/yref77iHzs/yYlbBkZPAAAAAElFTkSu\n",
       "QmCC\n",
       "\" style=\"display:inline;vertical-align:middle;\" /></a><br>"
      ],
      "text/plain": [
       "nand_if_right_but_not_left: forall_{A, B | not(A), B} not(A and B)"
      ]
     },
     "execution_count": 11,
     "metadata": {},
     "output_type": "execute_result"
    }
   ],
   "source": [
    "nand_if_right_but_not_left = Forall((A, B), Not(And(A, B)), conditions=[Not(A), B])"
   ]
  },
  {
   "cell_type": "code",
   "execution_count": 12,
   "metadata": {},
   "outputs": [
    {
     "data": {
      "text/html": [
       "<strong id=\"nand_if_neither\"><a class=\"ProveItLink\" href=\"proofs/nand_if_neither/thm_proof.ipynb\">nand_if_neither</a> (established theorem):<br></strong> <a class=\"ProveItLink\" href=\"../__pv_it/theorems/4f44cad589f9746589829a405649b2f101a6cce70/theorem_expr.ipynb\"><img src=\"data:image/png;base64,iVBORw0KGgoAAAANSUhEUgAAAOEAAAAWBAMAAADECuboAAAAMFBMVEX///8QEBCIiIhmZma6urrM\n",
       "zMxUVFQiIiJERETc3Nzu7u6qqqp2dnaYmJgyMjIAAAAcRTyBAAAAAXRSTlMAQObYZgAAAuhJREFU\n",
       "SMe1Vk1oE0EU/kyySTY/bQ8igh4CHvSiLQTiRTTqQS/SnDzaQBV6kQYFBX+wgthtVbKe6slEFCwV\n",
       "tNBTT432oLQisQdBRAj0ZC8pTVubSqkz780m2WxWJKUPXna+eTvzzXvzzWyAnZledAMOm1ZekuBn\n",
       "24zjLcClpne+bfcnjCT8JsjnZd9S24y/WoCygqbVvx/wriEkkpP+TFZjqF3CaI8TRMt5xouqX9sC\n",
       "fBXgA8g7RDgy2S5jwHSCN6f4qQ0rZk9VLGMFeAHy6NzExFjbRR1rAYrdSXr6z8S4I9glmG6J5JLs\n",
       "G4Zxp23GQ07gy8+wZN8iw/2daWg3ZCl72K8AIxTg3/OV2QGqis8+90i96cueSCj4pPEVBq/Qx7nN\n",
       "syqBvqsLw3LfoiX2syQg0V7lfe9CpItqYZfIagP4Crzn1m2hwpvSCgyEJZFjBWXwnF/qNhHaJ57h\n",
       "DHsAHqrCyy0Ke9MIbzoZVZQtAcywKvZaZz9tAa0/PkjSj8bgT1HwvmQVSWrL7JFigPrnrrPgYvCW\n",
       "nIwqynYNOAkXRrEZe2h8IA8tTcF1yRirM+qli7S2mEHhdykcyzsYrShZaA2epVpV64wERC4B2pUp\n",
       "60qQxxGDQqO+DDtGLpOWcZzG9h49wiuzMVpRVs7KwkPYlUOMEuiCsWPZuoCmrOOobTQoB1Mk4h/o\n",
       "prFfgMMNjJ8MwyjVoowiJXiU8GetVaQUkGcyWJWZDXFlxQJEyqdHpUQK7OiUYg4tfs5SMR8DuUl7\n",
       "jul6lFCwAP0Pg3ONhRBgfHsJ4exvIVa/vAY8Ymp/eT0+8EjGO1LsiMq5vHnkSFliql6zmbEWJdQ5\n",
       "CV/V/ZZTpa+lXrPXytkuiFyL+ij0TegH0cxoRRnl8nhacL/JXU3d5Orq24CevasdwMdKfCDZxGjW\n",
       "ooQi9+KJBy2uoibgMOtrZbNwQzvoGBL+zy+yiwVNdscfA3fG6Z396/iu3GbFfzIWsbvm3aV5/wLa\n",
       "wtGyB0bIlAAAAABJRU5ErkJggg==\n",
       "\" style=\"display:inline;vertical-align:middle;\" /></a><br>"
      ],
      "text/plain": [
       "nand_if_neither: forall_{A, B | not(A), not(B)} not(A and B)"
      ]
     },
     "execution_count": 12,
     "metadata": {},
     "output_type": "execute_result"
    }
   ],
   "source": [
    "nand_if_neither = Forall((A, B), Not(And(A, B)), conditions=[Not(A), Not(B)])"
   ]
  },
  {
   "cell_type": "code",
   "execution_count": 13,
   "metadata": {},
   "outputs": [
    {
     "data": {
      "text/html": [
       "<strong id=\"nand_if_not_right\"><a class=\"ProveItLink\" href=\"proofs/nand_if_not_right/thm_proof.ipynb\">nand_if_not_right</a> (conjecture with conjecture-based proof):<br></strong> <a class=\"ProveItLink\" href=\"../__pv_it/theorems/98ce2badbbc582ba90794b1092d4bf8c466328fc0/theorem_expr.ipynb\"><img src=\"data:image/png;base64,iVBORw0KGgoAAAANSUhEUgAAANkAAAAWBAMAAAC/LiQkAAAAMFBMVEX///8QEBCIiIhmZma6urrM\n",
       "zMxUVFQiIiJERETc3Nzu7u6qqqp2dnaYmJgyMjIAAAAcRTyBAAAAAXRSTlMAQObYZgAAAuxJREFU\n",
       "SMe1Vk1oE0EU/kyySTbZbXsQERRZ8GAv2kBAT2LUg16KOXm0gSr0Ig0UVPyB6KXbVtu9SEXQRhQs\n",
       "FbVQPHgyWERsiwQPgogQzMleWqzWtlLqzHuz+ekmoKt+8Lr7zbfZb96bN7MF/EMvNiMePFdRkuST\n",
       "L7fxBuTUpmfeb3Tvt1MIO6CYlWPzvty+NCALijru+HYg+B0xkZSMW7IKOT9mZsJLzIU887Ia19aB\n",
       "0BLwEhQtQjYm/bhFHC95dIivWr9yDayKKXwF7oHCnJmYGPVVyNEGpNiRomv4iMUD0TbhclEkleJY\n",
       "se3Lvtx2e0ko/4Jb8wmyPN6agXZOli/BcQYYIIH/Hl+a7nE2vTdVc1/Vb9Q+wuQBujinWe4+oOvs\n",
       "u365TmaJ4yg1i7j/xuvcBqON7z6X+3hBa5uoql8S3XZeosCEpjXG3ZLFXX68w0Fsm7jGsxwRBCj7\n",
       "++skBzOIr4nlnj4Iq3DnmcdN6QJb3X2dcYnWneylZ00L4TSJV6WjmLO2yGEUIzQ+08fNZSFYgjl0\n",
       "Ow/LMh573Fhv7BYCtpAWyUPLkLgs3ayqm146SfOybJKfprEvL8orYFmdbzxurKNSPOVGROQQoSpP\n",
       "udtdbjf0inUPZTkwcJp6Fgfotyf2tmfUeWYld6U9bqzXdgm5SaILt5ZF92CZcrebtlLTJZiiZv2I\n",
       "DvrtW2APYgnOLXiz6mbYtj2sdMK0O4G0InLPRVdlRjmupjAXqR4elMtd4ECrbNpYeW6ECnQdGJvU\n",
       "Ltj2Nblugfrcwkoncqx2BwgyvjGP+MgPMdGw3DIB8drwwnKyZ0jqLWkOmNIlmMcYle2nKJaDDOdm\n",
       "BD1urDc7uRihSsoVPFTB6BQ5FvVB6GvQdwKvyK1gzG12U3qzU7kp1KmsjrMV6CNXtB14vZTsEXWI\n",
       "imKZl8vDxXo33dVrDp9GxAP3i1OHeOWuXaxbBbnf/5o2QdTh8HzQGyD31/8pfFBRh+Ifuf0nJP7V\n",
       "i34B78HWtiGR/f4AAAAASUVORK5CYII=\n",
       "\" style=\"display:inline;vertical-align:middle;\" /></a><br>"
      ],
      "text/plain": [
       "nand_if_not_right: forall_{A, B in BOOLEAN | not(B)} not(A and B)"
      ]
     },
     "execution_count": 13,
     "metadata": {},
     "output_type": "execute_result"
    }
   ],
   "source": [
    "nand_if_not_right = Forall((A,B), Not(And(A,B)), condition=Not(B), domain = Boolean)"
   ]
  },
  {
   "cell_type": "code",
   "execution_count": 14,
   "metadata": {},
   "outputs": [
    {
     "data": {
      "text/html": [
       "<strong id=\"nand_if_not_left\"><a class=\"ProveItLink\" href=\"proofs/nand_if_not_left/thm_proof.ipynb\">nand_if_not_left</a> (conjecture with conjecture-based proof):<br></strong> <a class=\"ProveItLink\" href=\"../__pv_it/theorems/fe193a13083ab1b378a7a3f0d12b82d2c17439240/theorem_expr.ipynb\"><img src=\"data:image/png;base64,iVBORw0KGgoAAAANSUhEUgAAANkAAAAWBAMAAAC/LiQkAAAAMFBMVEX///8QEBCIiIhmZma6urrM\n",
       "zMxUVFQiIiJERETc3Nzu7u6qqqp2dnaYmJgyMjIAAAAcRTyBAAAAAXRSTlMAQObYZgAAAx1JREFU\n",
       "SMe1VktoE1EUPU4yaWeStF2ICIoEXOjGNhJo/YFRF4ogBhd1aUCFbsSIoPiDuGpaP5mdBdFGXFS6\n",
       "0EI2FlwEu1DaUoKCH+onUFwoSEtja6zU+t69b5JJ0ohGvXDz7n2/8+53AtRPRtah3Prl1mHFOam8\n",
       "rQvtnkM24zTouYo9L5aOtifC8FggHpNzn+pC++iQmyweZpRu2QurAdccTPEKyX3SJfF6wPxBh/Kc\n",
       "h3cLSp9So74IuPPAYxA3pQDfUD1oDZZDOcf+TH9TIN0pFjQx4Z8F7oDYPzo4eKMuRzpPGTE2V/vC\n",
       "umd3gIXGFoFyXhgVZi4kEhfrQlvvkDX26n7vIuv3wfBojkI/I90XZD4O9NAC/+7Lj3RZFfeGy7RG\n",
       "tXzNOUfFYIb1WdbHOPuAIyeedcs4+XPMeyhZhMxO8LfA16JC3tqxnYTyJHqvwC+IbDsrKSNiSJF3\n",
       "w8jzWgy3WWizYK4SozfG3ACNHnaXneCKwisSy3wUymo+YzJShWbuVEW90o5ZFFhBL+gMtRf4yQF4\n",
       "6CQuS0TxFH2G2ZdtoPnR05xpAbiEra+GB6FpGM1WofkGgrXQxM86viQFPUrSvEQLlNCMXCflbCBB\n",
       "yw8iaE3BLW/UNPcbqwrtUGO86MkiGnnSK/gUTaXt2pflhpPiFe4YM3qOUc6igzYe3LRRnG6iRHNt\n",
       "/lAdt6grVp4lEo2y5Kbg6WKXSdvlphccWYI0nZ5EG22cADaIINJWDVtLcfMlEonr4siQprrTiI0f\n",
       "4eSmmktKZ+hx9qZ4tUi4Xb0yHTLMaJaFaE6NJ6n8rwL9Qzgsrg4ItEygzDaPqKQdT1V32uswWDjJ\n",
       "TP5I4eGSjL5HRlETRz3T86GuK9RAI8zwSxRXCv1kx3fhTEteS7ZlgpVo22DM1excNrZtcokGFDMd\n",
       "EDZmjV4YCzDWCs/IrZoP45kKNLcI0GLtrlyTVFdWvaAAI3lJX4Mn+VCX9IM0/+XEls/lWWIgGUff\n",
       "V1VwPcs0mBpkf3HKyFtqfCJuRSX+21/TWiQfU/Wg4eX3xv/6n8JrxWWU/SO0/0TBf3XRTxNS1PIa\n",
       "mof0AAAAAElFTkSuQmCC\n",
       "\" style=\"display:inline;vertical-align:middle;\" /></a><br>"
      ],
      "text/plain": [
       "nand_if_not_left: forall_{A, B in BOOLEAN | not(A)} not(A and B)"
      ]
     },
     "execution_count": 14,
     "metadata": {},
     "output_type": "execute_result"
    }
   ],
   "source": [
    "nand_if_not_left = Forall((A,B), Not(And(A,B)), condition=Not(A), domain = Boolean)"
   ]
  },
  {
   "cell_type": "code",
   "execution_count": 15,
   "metadata": {},
   "outputs": [
    {
     "data": {
      "text/html": [
       "<strong id=\"nand_if_not_one\"><a class=\"ProveItLink\" href=\"proofs/nand_if_not_one/thm_proof.ipynb\">nand_if_not_one</a> (conjecture without proof):<br></strong> <a class=\"ProveItLink\" href=\"../__pv_it/theorems/4fb321cc4c52134364cc5cf3cc766acf01cc9e340/theorem_expr.ipynb\"><img src=\"data:image/png;base64,iVBORw0KGgoAAAANSUhEUgAAAqAAAAAZBAMAAAAcSIFiAAAAMFBMVEX///8QEBCIiIhmZma6urrM\n",
       "zMxUVFQiIiJERETc3Nzu7u6qqqp2dnaYmJgyMjIAAAAcRTyBAAAAAXRSTlMAQObYZgAABwpJREFU\n",
       "aN7tWV1sVEUUPr27t7v3r+VFoyBaNIFihK6pFoLFLvqAMTG0NSE8ENm0oISEsIqh2ICtxrQLmHTV\n",
       "pDYodBEToIhu0jRiomEFf7CIrkgM/qCrPMELTUuhgAXn786du3e23X1wA4RJ5t45Z898e+ebM2fO\n",
       "3AuQX3mhJQ63y2TF37IpX9PobbbyKt03NKE7cgo3WvmMVURoBt9O50FoGb5Z6SI+pd7uFdRMYRjP\n",
       "5dD/cr25JhbOUn7QUZN+v4Dnq2xeq6VIszROKyL0GJbP5UGomUS3skQRCS2Le4WyIUGXI6xrQvt8\n",
       "1m+8y10AvlG3TpkO0D9dCiOFmJEG42HqYXqGVkRoD+7angehxKinmOvoZ4nw5xVBdybHRIR40zqf\n",
       "5QF2F3UcbSEjLp3eiWx9l2UwUoi9rehSx+g9zGo38TnifJPGUOzGx4pJ6CteQe93Bgxqp3y9LGvl\n",
       "zf11bi/mXRSEYw27dGVT8T49RQYjhfgb3xcx7S5Wu8Ea7Ot7N69N6Y++vn3F3Ju0qFewlAuOrvSJ\n",
       "CmnHlffzZrrKHSd5lyAiblerS1eH3UoNyWBkEL6r+Pqs7c5hWtEuPxaLbcqL0PJYrDNVREKVkFd4\n",
       "2hh3dB/Lcw89E+B5YeKQexflXcojoG5IiDrtEukcl8BIIXrJbR/TmiFaEaGrALbkRWhpPQSLmd0H\n",
       "0x5BD6vDju6YPAKZSR7CPoQVbifmXVasPdGZdOnM4ZwwUogfXchWhlZE6JN0e5qcUH8IzQ4ZnJxW\n",
       "17Q8NXJkNTU71Zya7TW2OmoVDuMXDxtdtTUUKYDGM68FlU1MwIYa3kiW2c+0U/YcAdDsAYWhN5Q1\n",
       "DNalKg76nS5dYNSOnR4YKURbvag1orR2446KPLlU138FMyJCYh+FOaT9V1hmbl1wSVPAJPF9ZwXs\n",
       "neKNj/+A/prjfuJPPwF8SRolYeH0QYWl1TVjKG7No39RgReNt5wgq46MoLl6nSuBcbrgP69KiroS\n",
       "kj/oNroAA1KI+0jAsLdFdYhW9KxmWhYr9h9ZCAfNhC8hEHqcRg+9TjoBu8dFyRcBAz+hhmi2vFlZ\n",
       "L+LnlJzQGoBDiRyEosu96LaYulAC1IjkQdBWs5R7fonLy5wuFzGhFaIuQDLcARtdgAEpRBtxzHov\n",
       "oVpG0s/atj0BX1SETPHouZMimXukCdrgetf/VoAPjyWAtjHVuxnjVdwoJ/QlgMf5kueEEsFA9UVO\n",
       "aD+qZ73PYYT4KQD1CbhWB++C01BYFxZ1NANN2egCDEghSELG+fFHacXPumUlInBh4wPKTEw3buHA\n",
       "imdr4G0XocFu8gSNQdk5QK2IieIn9TAX+1kVuuiedFHBztsnJVQfBeWce1PqtoX32NGHDvksG57k\n",
       "fGWQKdeS5GTljM3pgtNQdcwFo+FNyUzY6A6Mu3CIXuwmg4wvcVOCfkSWtShdskbBDohbcXrCHzAP\n",
       "LBcJNWh0ifiQsMaTnsE8UVwyp5K480YqZpkH3FMiEuofPtHhZCJ0rphActGuOBuy2k4XIJo8fO67\n",
       "xhp0TyEZJk6vg5eFsTldypDjLtrqhkEZlrGATxeH4ejk4pjjBK4/wfgCX4pWTGg5onr7LCgPYwVp\n",
       "JfQQjSepI663TSSxsJLKECyfmk3o71Alij8AzML3f4mUbV6ekhB6NBaLZcDMgBLlqwiEJaV3XUvA\n",
       "wevr2ZBL8XJRsJsEMFkb7MZK/CPOyfdePwdG16WQMzbepfT8xerV28ANo89//hHghHIYjk4ujjns\n",
       "7mgOM77QDNXTigm1MN9N0MCCVhM6TqkbY7HXEaE7Ai5CfyOJbe3RK8wFxJV65vsucWW/idZEkgXL\n",
       "Ax5zHFn1tMRDIxBMgXY159GTlsVOruXd5sO2U/PCxybr4tUtzgGTw7yJHD/3sMrfh94BldCr0lat\n",
       "ChHqof5G7/vQBaCNeglF6UBvvfXY6Uc/p3+GOFmCo/Z8GuizzH3tOJ4j85SH0PIk+C/nfjkiDDnv\n",
       "4owtr1IwOuJLeDnC8sIhxPQpE3oSqPXyAHyNlSfR+d1DqB851jhhCNlutS/wDFrHaWMuTDOQh20F\n",
       "7Qpo9+BGIA0fxb3mm0H/DoxKBisS2puAt1hAcB0gROHTwt4JsLHlWwpGR3wJr+8YTRG0fXUPQkMS\n",
       "tR5KQxCtEP+rYbTVZBPa1Q49l9KYoYakejc0xPElGRwDrWszrNKjvjCo0+DbkerVpAHf1D5Io7to\n",
       "DmbzYRQgVqntWYTGzbbqmjcmeMGMyzttTYUM2R5bnqVwdMxXnE255xOInftVohg60SeQVsHWaUWN\n",
       "UMCg+SJN5iYxV05689Cb8hPIr6x6CDXiuc/yYmkcSQq2dkuPKOHS2ezriv2pZSJz4/iEhN6EJZtQ\n",
       "C/Ij1G2b3SvtaUxofisTmrO0/J/f5X23Cp3+lg3/AWMvHAWiJ+X1AAAAAElFTkSuQmCC\n",
       "\" style=\"display:inline;vertical-align:middle;\" /></a><br>"
      ],
      "text/plain": [
       "nand_if_not_one: forall_{m, n in Natural} [forall_{A_{1}, ..A_{_a}.., A_{m}, B, C_{1}, ..C_{_a}.., C_{n} | not(B)} not(A_{1} and ..A_{_a}.. and A_{m} and B and C_{1} and ..C_{_a}.. and C_{n})]"
      ]
     },
     "execution_count": 15,
     "metadata": {},
     "output_type": "execute_result"
    }
   ],
   "source": [
    "nand_if_not_one = \\\n",
    "    Forall((m, n), \n",
    "           Forall((A_1_to_m, B, C_1_to_n), \n",
    "                  Not(And(A_1_to_m,B,C_1_to_n)), condition=Not(B)),\n",
    "           domain=Natural)"
   ]
  },
  {
   "cell_type": "code",
   "execution_count": 16,
   "metadata": {},
   "outputs": [
    {
     "data": {
      "text/html": [
       "<strong id=\"falsified_and_if_not_right\"><a class=\"ProveItLink\" href=\"proofs/falsified_and_if_not_right/thm_proof.ipynb\">falsified_and_if_not_right</a> (conjecture with conjecture-based proof):<br></strong> <a class=\"ProveItLink\" href=\"../__pv_it/theorems/9cdbe7c76216a6a9512e311c51048484264431de0/theorem_expr.ipynb\"><img src=\"data:image/png;base64,iVBORw0KGgoAAAANSUhEUgAAAPMAAAAWBAMAAADnUbc9AAAAMFBMVEX///8QEBCIiIhmZma6urrM\n",
       "zMxUVFQiIiJERETc3Nzu7u6qqqp2dnaYmJgyMjIAAAAcRTyBAAAAAXRSTlMAQObYZgAAAyFJREFU\n",
       "SMe9Vk1oE0EU/pr/TbK1gqCgh4AHe9EWAhak0KAHvUijBz0INlCF6sEGBHOoQgTBrajJrT3ZiEJL\n",
       "hRjsQTwp9qC0UnIVqY1UBXuwxWr/pNQ3P7uZhIyFBX3wdl/el91v5s33Zgdwb0ZZuN4ieR3ygrzC\n",
       "gllX1GPSyc7XQWb/SrzvFnCpwWPn2CVAg5pmwYIr6m/SyRZlypllUxboSqLY4LFn7BKmKQ+zymXd\n",
       "MJvtwlm4WBC5eRvsoYXobkc0pqHGa6CZHoqW3FAH88LJnnSJu/+2HALaKDEXQ7hFR/2QBjw1Pj7k\n",
       "qt5D0snKbQl+Dxy1Z3mTarqbxvFZR91MT6xZ1nVX1PulA77CSyH0ItISXAHOXqb7pI46Skt1ERjk\n",
       "P8T1xPJkH6+ez/5rSOkQByW7Jx14jB4x22mhWqr8ymzrAAs+ssvMd2bzNdQm6ewYVxvFP0WqBVG+\n",
       "QCGbbi6hSMtGyQakAwmMCLml8UBgnnVazRQFz3WzjlB9gvDwaj3a5ClvCpENlTrcpewaDkq2Szr8\n",
       "vfF+3iNmDIGkqBSNz/ObKV1H7V+iopeDPJ66KnQbg7eiUkdH2xVV26hKTUvTxJPBAvwpju2gm+fH\n",
       "dtRG5QwPYxZPPU3iUEGlPh1Sut5B1YJTawb5Kkw4ewxr6wBbwePVtf5aQ+1jghy8wPsCHTzVfbBV\n",
       "DNymTnnTVWoHVWRmEHXzkr29TTht3ZO1ZdZo1kxmmOCv/oA2npoBDqjUZsnDXhu1LOu+gsq+mZS9\n",
       "HVpnhcuKopN9omntYVGnjtr7iq0La4zw/Lscf+guMFJSqIudb21dBRRU1pJ8bGsBkdwqCSLAWsHD\n",
       "3nZlq/ewxf/3pY63I5PZmclcozoxPZqM0lvACBcnybI7r1AfgfGrSu2gtRupMLETJFWmcFq3IY06\n",
       "0Umafdm4A2MDxj6l4D7SyyaGC4K6itZ+PrTW6PMB+/Mhd6w1GLkb/r14sxzvSyjUuSyGV8unePEM\n",
       "BbW3v8G/Uxd1QLhSf6pQ4pAKlLY5KuhMO7JQvsGxpRF144PO9gckU3tAel+fKGuoTfxX8/5rgj9f\n",
       "ldxfC6wJFAAAAABJRU5ErkJggg==\n",
       "\" style=\"display:inline;vertical-align:middle;\" /></a><br>"
      ],
      "text/plain": [
       "falsified_and_if_not_right: forall_{A, B | A, not(B)} ((A and B) = FALSE)"
      ]
     },
     "execution_count": 16,
     "metadata": {},
     "output_type": "execute_result"
    }
   ],
   "source": [
    "falsified_and_if_not_right = Forall((A, B), Equals(And(A, B), FALSE), conditions=[A, Not(B)])"
   ]
  },
  {
   "cell_type": "code",
   "execution_count": 17,
   "metadata": {},
   "outputs": [
    {
     "data": {
      "text/html": [
       "<strong id=\"falsified_and_if_not_left\"><a class=\"ProveItLink\" href=\"proofs/falsified_and_if_not_left/thm_proof.ipynb\">falsified_and_if_not_left</a> (conjecture with conjecture-based proof):<br></strong> <a class=\"ProveItLink\" href=\"../__pv_it/theorems/21eaad34aff107b67be75d822720504e55daa73f0/theorem_expr.ipynb\"><img src=\"data:image/png;base64,iVBORw0KGgoAAAANSUhEUgAAAPMAAAAWBAMAAADnUbc9AAAAMFBMVEX///8QEBCIiIhmZma6urrM\n",
       "zMxUVFQiIiJERETc3Nzu7u6qqqp2dnaYmJgyMjIAAAAcRTyBAAAAAXRSTlMAQObYZgAAAuhJREFU\n",
       "SMe9Vj1oU1EU/pr/l59aQVDQIeBgF00hYBehRQddJJl0EEygCtHBBgQzVCGC4IsoyVYnE1GwVIjF\n",
       "DNJJMYPSSskqUo1UBTvYYqW2Fann/ryY93MrPtAD573T8/Xmu+fvvgu4F60lVC2RigqZJm0zY94V\n",
       "9YRUktMWKDa6msxdA845LDvFHgHa1CwzFl1Rf5ZKsiRdnSh7isBQGnWHZY/ZI0wh32aZK7phjg0I\n",
       "ZeZSTfgWDDBDhUgNIBpXUOM50EuLolNuqIMVoSQPh8Tbf11uAQlyvIsj3KeivksbnpmcHHeV73Gp\n",
       "JK3EMH8HDhtRXqWc7qR9fFBR99KKNV2/7Ip6r1TAV3sqGr2OvARXgZPn6d1UUUepVGeBEv9DPI+t\n",
       "NHM8ez7zAgtKcksqcB8ZEe2s6FrK/Op8/xgz3rLH3BcmCybqGPXZEd5tZH8Trj5EeYFC5p6yoCRj\n",
       "UoFhVEW75XFHYJ51qmaWjCeqqCOUnyA8PFv3fnKXN4vIhp3aipLskAr/SHKUz0gsjkCaYyHan+cH\n",
       "63QVtX+Zkt4KcnvmoujbOLxtO7UV7aam0vRwZ7AGf5Zj2+jl+fonaq19gptxnbsepXGgZqO2od0J\n",
       "p9EM8io0OmcMG+sAq9HR37X+ZKL2sYYsneFzgUHuSu3vFxs3UdvQrjbTiLp32TjeGp2xzhSNNnOK\n",
       "mrUZGnwg3iDBXXPAvi7ql7qutx1QOTdNOduhdZaaokg6yXsKaxezDqmovc9YXdhghBdelfmim0B1\n",
       "yhx11gGVuSSd2FxEpPydWjzAzhUP+7ULmyMHdf5/Hy28g4XC9kLhEuWJ9WOM/ai3hipvTmrLVMVK\n",
       "bUfNB6kQcRKku5nCedWB9KBjHafoW9oNaBvQ9sBKbUfNnw+lOH0+YHw+hITWoJWv+HfjxUoyN2yh\n",
       "rjigxgFX2pq6rgLCbeutossO2e8c6quCSpQ7C1Ucri1q6um/viDFlBek11ZHa0vqFv6TeP81wS/d\n",
       "19ucNRxxYwAAAABJRU5ErkJggg==\n",
       "\" style=\"display:inline;vertical-align:middle;\" /></a><br>"
      ],
      "text/plain": [
       "falsified_and_if_not_left: forall_{A, B | not(A), B} ((A and B) = FALSE)"
      ]
     },
     "execution_count": 17,
     "metadata": {},
     "output_type": "execute_result"
    }
   ],
   "source": [
    "falsified_and_if_not_left = Forall((A, B), Equals(And(A, B), FALSE), conditions=[Not(A), B])"
   ]
  },
  {
   "cell_type": "code",
   "execution_count": 18,
   "metadata": {},
   "outputs": [
    {
     "data": {
      "text/html": [
       "<strong id=\"falsified_and_if_neither\"><a class=\"ProveItLink\" href=\"proofs/falsified_and_if_neither/thm_proof.ipynb\">falsified_and_if_neither</a> (established theorem):<br></strong> <a class=\"ProveItLink\" href=\"../__pv_it/theorems/a80c2c7d356cfc1126b2b1314b915d55159c2d3b0/theorem_expr.ipynb\"><img src=\"data:image/png;base64,iVBORw0KGgoAAAANSUhEUgAAAP8AAAAWBAMAAAD9bVezAAAAMFBMVEX///8QEBCIiIhmZma6urrM\n",
       "zMxUVFQiIiJERETc3Nzu7u6qqqp2dnaYmJgyMjIAAAAcRTyBAAAAAXRSTlMAQObYZgAAAxBJREFU\n",
       "SMe9lk1oE0EUx/8m2SSbj7aCiKCHgAe9aAuB9CIa9aAXaU5eBBuoQi/SoNCAH1hB7KYqiad6MhEF\n",
       "SwUN9tRTa3tQWimxB0FECBQEe7ClX7aVUmfezG66m920NNAHb3dmfjs7/33z5iVAvaaWhDvbcE1S\n",
       "5o2fdQgYkM7sqgV92+yIaXF4czbTrvALJ5O8MVuHgN/Smc3JIWPBQ4B7GYGyzbQP/MLJcx7Fnt2v\n",
       "H24RzptzBTE2I5myAXgWgTEnAZw0sEmh4u4F+HLCmb09I+5KrxTiWmOqFoCXjgIYCU8MDvbXsQP9\n",
       "0pmVmuN0956LiAF/E1viNvvIuJMATlY17W4dAo5KZ8EujIjD8A4pwRqTULp5hFucBHByHchQR1wv\n",
       "Lo53UiQ95gmZStOTPRUzuk+lA6/RLr58UmQ20H5jupfvbpiycOoPtxmTAE7OyywNL4mhJoSaKH7m\n",
       "XFva0vkKfNTbd6QDceTFl6bwQrDmHAIH2T2YcooAJz64KHKvNmjInURwvVqApMJiwIjMMxyQDqUj\n",
       "2kWnKRyBN0HsARfBQqDMOwngJFTyUXvilsjqCNzlagGSCrsJnIZVANuyfTTRV4CSJLbCBUS2E6CW\n",
       "L1MzotHQ+wROFqoE6JQssAzXbNUWsC/10d4N6ZWJlwF0sTz3pCo58MskgEjmGp0dtNJQ24njQr5J\n",
       "gE7FrIXpR7AmocoENMzrpXFILwPKqpGEdhEgMkT6fqCZhqaAY1sEfNY0rWxQ0QuV4TLSalw6rwX+\n",
       "Nf7dPWIbmB4WkLN9PK9GnQQQaeSHJzDzJUuRfwLki+YIJCuUev5RqP90eEH4wOYsgtm/7Bh4edVx\n",
       "sXd651ainY+p3CQsq7em0/vT6W5JwvzV7gLy9Bh7c1vOKsCg1GsswrNmU4rlBtHVtOQbxzJWIZdY\n",
       "JEpqH9R1qEdgFaBT0csX8GzU5sfI0ca2J/5VqNl7ymF8Wox2xi0CcgalXuh+NPbQXCIzNde3/Tm2\n",
       "J8EtbX/V48Ht/pA4mD+3YzJcU8DwLv+Sfd85KdUUUMKemntvlvkP2oPkpnKa3b0AAAAASUVORK5C\n",
       "YII=\n",
       "\" style=\"display:inline;vertical-align:middle;\" /></a><br>"
      ],
      "text/plain": [
       "falsified_and_if_neither: forall_{A, B | not(A), not(B)} ((A and B) = FALSE)"
      ]
     },
     "execution_count": 18,
     "metadata": {},
     "output_type": "execute_result"
    }
   ],
   "source": [
    "falsified_and_if_neither = Forall((A, B), Equals(And(A, B), FALSE), conditions=[Not(A), Not(B)])"
   ]
  },
  {
   "cell_type": "code",
   "execution_count": 19,
   "metadata": {},
   "outputs": [
    {
     "data": {
      "text/html": [
       "<strong id=\"unary_and_reduction_lemma\"><a class=\"ProveItLink\" href=\"proofs/unary_and_reduction_lemma/thm_proof.ipynb\">unary_and_reduction_lemma</a> (conjecture with conjecture-based proof):<br></strong> <a class=\"ProveItLink\" href=\"../__pv_it/theorems/4ddccb2e4628bb74569858e9752a2e6589bde68a0/theorem_expr.ipynb\"><img src=\"data:image/png;base64,iVBORw0KGgoAAAANSUhEUgAAANcAAAAUBAMAAADsL7WcAAAAMFBMVEX///8QEBCIiIhmZma6urrM\n",
       "zMxUVFQiIiJERETc3Nzu7u6qqqp2dnaYmJgyMjIAAAAcRTyBAAAAAXRSTlMAQObYZgAAAppJREFU\n",
       "SMeVlk1oE0EUx5+J6WY3u/HiuSz14s1AoZ6EggdBKORUesyh3iM9+FWheNogml5EUYorHpSKUCiC\n",
       "vYUWD9Yegp6KKIs56UGL9hALfrz3Zja78zYb2oE3edm83/znzbydCcDotjLM3cjG2d1Ro2xoi+jL\n",
       "p7woZ0m6JQTGljOBz6F4hVtD/hIDZO/owbc8sSoNaycufuyhbpQJ/EpdxR8kmhpCA2QP6KelPLEP\n",
       "HF4buACfD7DblHFezRRTiAmgVUMAdy1P7Bp1c9cHLjjrv7F/IuOsZVNMISaA5m2vrt7P07Kb1M9P\n",
       "DFzwCvs08WkRqEZIxBgRAFk/CBbzxAq0Gk5kxS7Axcof7N2aCDxliilEAGSXAFr8uJUVK1NBu2u0\n",
       "zOyCM136SdOlCnG/c2PdO6aYQgRAdl4Xl7ev8/7SW4j30CLHAjvSLhwH+xeN2hSzumGKKUQAZBYU\n",
       "eNJPKd0XW+fA76y80tAx2pv3nD27MDs51ad3Z0+InTTFFCIAMrer1nd7AbO6/TAE33dfpsWwsGZj\n",
       "MezGDyGmEAGQ2RE/L/kBLSk23595m1rGSo1faF7GCtplWpxmsmeN7DJqRAAMtebp8Ric1WeXPzle\n",
       "TxUIUUhzgTxC+xEXSLqZBaIRATC0zrv9Ec6AU1OZFe/FVYUP5tS6kMvvWhtHKnaE2JYhphEBMHSC\n",
       "QpzeTjssXQ2CW7RnBT0GZc55T5DrtP+G8Pof7m21LsQuqHB99GtEAAx5eGBBMYTHdWiozNxi6rji\n",
       "wijFx5Vqz4YfV3GLERNIoBnMsAtvWKzj7hgHccbNO4jz22YaKvfBbt+EMpact9i7O7gJy8mMU+6Q\n",
       "K6Y1Uiu+Ysx2Gvds9OUpdJPLc1QjYAh0qL8Fu0f9W7Cr7D+1ptGp25CgLQAAAABJRU5ErkJggg==\n",
       "\" style=\"display:inline;vertical-align:middle;\" /></a><br>"
      ],
      "text/plain": [
       "unary_and_reduction_lemma: forall_{A in BOOLEAN} (and(A) = (TRUE and A))"
      ]
     },
     "execution_count": 19,
     "metadata": {},
     "output_type": "execute_result"
    }
   ],
   "source": [
    "unary_and_reduction_lemma = Forall(A, Equals(And(A), And(TRUE, A)), domain=Boolean)"
   ]
  },
  {
   "cell_type": "code",
   "execution_count": 20,
   "metadata": {},
   "outputs": [
    {
     "data": {
      "text/html": [
       "<strong id=\"unary_and_reduction\"><a class=\"ProveItLink\" href=\"proofs/unary_and_reduction/thm_proof.ipynb\">unary_and_reduction</a> (conjecture with conjecture-based proof):<br></strong> <a class=\"ProveItLink\" href=\"../__pv_it/theorems/70ea15a1231b299509987cb5029f80d413e6ace90/theorem_expr.ipynb\"><img src=\"data:image/png;base64,iVBORw0KGgoAAAANSUhEUgAAAKAAAAAUBAMAAAD4uit9AAAAMFBMVEX///8QEBCIiIhmZma6urrM\n",
       "zMxUVFQiIiJERETc3Nzu7u6qqqp2dnaYmJgyMjIAAAAcRTyBAAAAAXRSTlMAQObYZgAAAipJREFU\n",
       "OMuFVT1IHEEU/ry7vb1bdzWFtQzYpFOwSJMQiYWVcJWlHhgLqxzYCFEQm+wRkrMJCYHoghZiUAQR\n",
       "S4UjhT/F9SHhyGmhRbQIRAsx82Znb+duZy4DO/ux3zdv5r157y3QceRrGti9YpITUyfww6TYTMBJ\n",
       "/sxqtZI5JXxlMnhJ00oMgWv+7Gi1kvlE3iwZ7HlDNDdiCO86AFym00qmh167BoM2Hc56E0QQ+Pqc\n",
       "v51HGm3EeCdbWx9NHgsi+4JFEKgNjvD5XKNtMre+v2AyOAARl1IEkQkO6bKrSWnMzABl8amcVL2j\n",
       "6VRcnIDYwBQd9ydh97cYYWwVZhSOSB3vjwzur8ZcFNPXNJWwGkGMYI0MHCT3jhkbKZGy6/cU2eoz\n",
       "sKMv+1LVRxswZAshhDU9/IoyYiphT2Hcmi0+nczxxW8/B2DM3VYM2gGsojSYAbrqWoMKk69PiC2Y\n",
       "T+7zwdj4seLyXpjUwmUeCptSZkyJYRHtTPmlSA48kXXIhvsLyqVchkYJ5vmynpvoUlpqXmX2KCvw\n",
       "HYNwhsITpj9IHU8Cayl0uypzMXfHp6e6hG0yvXTdTuOsEljzvr9MMUxJHXcgS+maYgQ3H67QXfnL\n",
       "d71o7yEtjEeVlQ6wVkAxPKGbjksvI0AhKj0xnJKpEmJmnJ+0hm/C4JF71tIc2qG+ObQyuVvkK4vI\n",
       "8dh6C433zV6qVI8Cd4wNOcE85jHs3GANRfpfptMvwDP+AjjzD/QQphrSjwbCAAAAAElFTkSuQmCC\n",
       "\" style=\"display:inline;vertical-align:middle;\" /></a><br>"
      ],
      "text/plain": [
       "unary_and_reduction: forall_{A in BOOLEAN} (and(A) = A)"
      ]
     },
     "execution_count": 20,
     "metadata": {},
     "output_type": "execute_result"
    }
   ],
   "source": [
    "unary_and_reduction = Forall(A, Equals(And(A), A), domain=Boolean)"
   ]
  },
  {
   "cell_type": "markdown",
   "metadata": {},
   "source": [
    "**Unproven**"
   ]
  },
  {
   "cell_type": "code",
   "execution_count": 21,
   "metadata": {},
   "outputs": [
    {
     "data": {
      "text/html": [
       "<strong id=\"from_unary_and\"><a class=\"ProveItLink\" href=\"proofs/from_unary_and/thm_proof.ipynb\">from_unary_and</a> (conjecture without proof):<br></strong> <a class=\"ProveItLink\" href=\"../__pv_it/theorems/4b06041b5fdf3ee9e901703095f55c9f77e2773a0/theorem_expr.ipynb\"><img src=\"data:image/png;base64,iVBORw0KGgoAAAANSUhEUgAAAGcAAAAWBAMAAAAvEZ+uAAAAMFBMVEX///8QEBCIiIhmZma6urrM\n",
       "zMxUVFQiIiJERETc3Nzu7u6qqqp2dnaYmJgyMjIAAAAcRTyBAAAAAXRSTlMAQObYZgAAAYVJREFU\n",
       "OMudkjFLw0AUx5/tpU3SJvoRuju04CBOBpwFQXAqWlAXFwtuYiFjdWk33XqgiFSQgpOD2Lk6ZBeh\n",
       "4NalDoJ1EH3vLtdcpWrjwbv37p/3u7x7dwD/GV2anmIA62j3FPRiQH20EzTLn5xx+hzARcu2Jocu\n",
       "F+tIdprN4xjVBXkP50G1evBThiWdESmM3wXotgEOxVrOTIfaUs94Q+UMNnLolsAWbXdehWpqTKoe\n",
       "6gtDyYNGAV0aEvRDOP0YgWi/otLPFWNszu1Sq7NBWqw7ezpkVGTlUnfr6kgAU1SX1V0TWbmqDplX\n",
       "OJWVLmvBgXeTnhEH3RL1w7wOFZ0ArLLSM6Wwmwi5LxRd0zd4hLwOHYEPzFc6C58MXaj5TtE0ndl+\n",
       "fqjxCDIKmM1KSjdEf+HisweZ2hu1z6HkJIfGSgSlOAaGr3RWGnv3y/jHIIJWca+WXVa60x7HmAOw\n",
       "apUI2kHzYV/pSe/3BykhLmxWiS5MAn2Lb2NALLxTu/AHlNQXN9Il+GjOF8z7XAq4i76TAAAAAElF\n",
       "TkSuQmCC\n",
       "\" style=\"display:inline;vertical-align:middle;\" /></a><br>"
      ],
      "text/plain": [
       "from_unary_and: forall_{A | and(A)} A"
      ]
     },
     "execution_count": 21,
     "metadata": {},
     "output_type": "execute_result"
    }
   ],
   "source": [
    "from_unary_and = Forall(A, A, conditions=[And(A)])"
   ]
  },
  {
   "cell_type": "code",
   "execution_count": 22,
   "metadata": {},
   "outputs": [
    {
     "data": {
      "text/html": [
       "<strong id=\"unary_and_is_true_reduction\"><a class=\"ProveItLink\" href=\"proofs/unary_and_is_true_reduction/thm_proof.ipynb\">unary_and_is_true_reduction</a> (conjecture without proof):<br></strong> <a class=\"ProveItLink\" href=\"../__pv_it/theorems/549d5cbde7e5887a6fe2ab67da79152129e62e3b0/theorem_expr.ipynb\"><img src=\"data:image/png;base64,iVBORw0KGgoAAAANSUhEUgAAAQIAAAAUBAMAAACUmS5RAAAAMFBMVEX///8QEBCIiIhmZma6urrM\n",
       "zMxUVFQiIiJERETc3Nzu7u6qqqp2dnaYmJgyMjIAAAAcRTyBAAAAAXRSTlMAQObYZgAAArVJREFU\n",
       "SMedVs1rE1EQH/PRdHezsQfPEuof0IWCXgQXPAiC0FPoyRasB09GPIgfhRyzB9ncFKQ0omCoUAI9\n",
       "VE9Ke6seFj2JGBbUgz3YogVToa0z896a7EveC3Tg9/bNzP7mzfvYeQswRJYk+lQhr0EjTmPQZkVg\n",
       "FOIQYlK+pFx2TaBPRcnjm2PqQNk7LPNwY3CElnhcBRMH8Y6M26lXSg0BsP6r9NjFZOIhUylTuzro\n",
       "+CEeO2DiIB7TSLWU/6MElLxERen8xWZDF61YVu2uJx47TRMHUcIXiu2U/64EzN5LVJz+2j62T3XR\n",
       "7AnVXhBL9/JCw8RBuFsrK4/SJ6gqALAwCUkX3MwerYqviQbfVLsMGk35YOIguvX6g5Q74wngrhek\n",
       "inLZOaCF83TRNlX7GW5zzTcRmDiI6wAB64F0j0cCuDm0PdwF28//opWgo1j8yeKlonVA8Txk83OY\n",
       "K4OJg7goT7i7l2xgWwAKYMWyCzmwfhO1qpvPumq/z60Pyx6YOOs0ToZn+exAuk/4AvCBF4i7UJk+\n",
       "26WisKuLNqfaT3ERuTZ9swYmDqIYFVjduq1mgF9CJckAm9PHyCCH/HhUBlZc4WzLdWUXHI+rEe+C\n",
       "g7hFEau9PZ1PRbsEiod3gUJNgIlDCBZIG4NzykmkWohZ8El8IoubG+vm01HtdBKttqilBg5hjU/X\n",
       "Z5iSbvriCLPAO0FdrgkhZpR9q4t2XrVvypowvg8mDuEkqfbX96Esn7TSBF6aSera4WETXh3hQSnN\n",
       "DETLie/9u2rH5W0dbYMT/vFMHIJLI2ebsDyTrsp8AvNJVRbyQnfV2lVNVTYIcXq8K7gWkXoz9dRE\n",
       "NnTRtDeTQeTNJE9fF6xwMVEaAn1qknWsizbkdg5GZbA6nKf9Q1GSGT1ca1QGgT5N7V/aJ10w9xh/\n",
       "acRB/ANuZN1OSRk+PwAAAABJRU5ErkJggg==\n",
       "\" style=\"display:inline;vertical-align:middle;\" /></a><br>"
      ],
      "text/plain": [
       "unary_and_is_true_reduction: forall_{A} ((and(A) = TRUE) = (A = TRUE))"
      ]
     },
     "execution_count": 22,
     "metadata": {},
     "output_type": "execute_result"
    }
   ],
   "source": [
    "unary_and_is_true_reduction = Forall(A, Equals(Equals(And(A), TRUE), \n",
    "                                               Equals(A, TRUE)))"
   ]
  },
  {
   "cell_type": "code",
   "execution_count": 23,
   "metadata": {},
   "outputs": [
    {
     "data": {
      "text/html": [
       "<strong id=\"each_is_bool\"><a class=\"ProveItLink\" href=\"proofs/each_is_bool/thm_proof.ipynb\">each_is_bool</a> (conjecture without proof):<br></strong> <a class=\"ProveItLink\" href=\"../__pv_it/theorems/35ff7195a7257e3d03a0907b993c9fce02a5cd6c0/theorem_expr.ipynb\"><img src=\"data:image/png;base64,iVBORw0KGgoAAAANSUhEUgAAAlQAAAAZBAMAAAAF762BAAAAMFBMVEX///8QEBCIiIhmZma6urrM\n",
       "zMxUVFQiIiJERETc3Nzu7u6qqqp2dnaYmJgyMjIAAAAcRTyBAAAAAXRSTlMAQObYZgAABpdJREFU\n",
       "WMPtWWuME1UUPjud6XO65YcGFX/UaGQxAjWrC8giJSZKjITumgCJm9CAxJUfWsVY5KHFEChgstUf\n",
       "sCGBrSEBXGVtJJtIAnFkxcfySBUSV2GlavwhiYaAIA8Rz7l32p7pzHaLAX4s3qR37rnnzDn3fnPO\n",
       "uY8C1FaeT2bgVi5qckWtogm41cvG/6ESZUtV7h4JVYEegzVAVU+PYH5EIuVP4dReOt/YvtrSrbyc\n",
       "/mf0cwDujIDqIPWdqgEqPYeP+uyIhKqesKhDvKbHrP1aeOe2PPgLAqpOrH2pGqASQp0jM/6OUjUf\n",
       "I2Z2xNLvVfNKDOe9X0BFfiIcZthcRa53cGRC9TpVE9G1ToYFPZBMFkyoAjmE6j0BVbC/u3tTTWn9\n",
       "RHf3+yMzu/vEtFZhzhotEsy8B8pepT+FUNVHxQp4IZ1eURNUoXR6rTEioVJE2J0HmLtYJPlTLACf\n",
       "nIPpS48IqBYBrKsJKncMvDd2H3ozdrmaQ5+X1nXt/GDDckG6M2WoRl+9jRb+goDqcZngh4dKjUCP\n",
       "VOA8JQvgM8/2tUuxgYXGOLtwcE2zUlKjyodeRTk4WlY7mpvKZp0tVdgLRO1MD+Vq5SLmpLiwwtO6\n",
       "PoiRFEgIqDygOG+WtCWfwz1xtgVNwHjRPhl1HMyfFmoU6KOosTUMO0fZs8PP4F9VHpF8vDC0crPY\n",
       "mN8AfFZsO1uy2Ztidv04YdJUs1lHar34rnKZyJY/sBTTOqRmIRSnBVR63uOg+4O+afCJnnVlGVSH\n",
       "5Z7dP90R2m1XOOWKQ+ASjREBDNr3Il04uIEKqDTDolyxZBOwWRZrVRPAp1nJ5pbC/N2w1d52UrS3\n",
       "Ma/ovuMxBlUIvUI5A5YdkYDKXYLKV5jj4CIbNmdhXzii84PNVk34mL4j4gRV/xKLT4fBRR/Gg/PX\n",
       "wjZhWkhaK6ByxyzK5/IPIgluWVtJ9SsAj5lsZknyuCCzR9vNgT3doCjQn2cBSNsqt4iMOgtUcTym\n",
       "qDIAYR1u3YPTWu9V7qexUosSGJbe3nctUHk3Cv9v9TrtWLVwmpMfxWACeeRErPy2Lb5CDtddAZXH\n",
       "qnw9z6CS4Ja9lDf950A5ZbKZJW8Pz289VnuYblRCXFHUExmW1mlbNV/od4UtXnWilNZhN8IQnJGv\n",
       "W6yQ01ArI0+GvfquNg5VYJJoxl1ILK6cvRsmcXL2+AbhgkslWSHusYItodpkUa4Z7GBqEoJpljY6\n",
       "jqpnvl1TZDNLbfyoSgS3F4jL46zieuhXs4v2AvATqrtDQr28fLAx9D6ch8uQUIUQxM1jIRSlDtHK\n",
       "+oWj94LRZ7lZEJEczCmnoe2uSqiOw0ROHgEYS8+/5XArxEOGA1QzLcq9WS8TEIRglvwMcPp6AZSE\n",
       "yWaWBI8LcntqCrYJqBSYYuYqiq8Xry5sSpunlu2rs5bjMtTHJFRB6l8ALTJksTUDtKXp9FsI1RaP\n",
       "BaofqOpp/grdeVnl2fyXQx08zt7GVJozk8QumzjlFX++AqonLMqfQWRKApKQTNPPIvhxwGuA77LJ\n",
       "LluSPC7I7WkFmJtOp8MIlRHmBxtWnl6btGygdvD7qtuhAbo02WrWIC69Sm2131c9Cr5zdqhwqeyK\n",
       "BacOPrJXfimcwGzKBJPxZ9jEXeQRgOIGg2qeRTkGUtk1JCGYR/cdffYAxnuW3grlQL1ossuWJK+Y\n",
       "GIjg9tQ4JgvpVUaEH5erlP0MKt9p9KYBHTqz2Hq1Fw5Q5zE899mgwkQHV8SIUHZ9sQLcfITygQkw\n",
       "JoAfej34LoHvbmp48vBhxi6+EvxfQ6DBVOstfrqycnQG9AZTXBKS+XGhLreXHIk8qSsL7ximbNmS\n",
       "4BWNSUFmL2iATp9T0eGQMcTWtjJkCgwqhPo32NgPLTlsPZgHL/q7+kZU4m+BqiMFnX/laUQtOe1O\n",
       "aMlQlfNeAF/HSljkT7iioI2BL882tosGfNFMZ88KcdAX7sdwXaSl+AqYZcrRGbBbimckIZnu2A54\n",
       "WGbvlP5mY9PqomzZkuAVjQmC28MBwgbs/O7I5N/51d5whwTbhXExPzRgrqp2YbyMyZZbiUDEE8BF\n",
       "prTaDCOuHGNQKTkm7Qf5kzNhhAd2QyIHlBezDmx6l/MshLBHy5+CueoaLoy/d7pbD2Rqu1tvPZtj\n",
       "ssWWP65E3ePMu+jSpXQV8cBhfrBJMekhy3a4DxYMHS/V3pX29l2nvyGC1/A3RHDIt/K2RlXxIlSz\n",
       "bso1euQ6QTVkSd7I/wFdw7j0db2b+m//DqjJ1/4FzMYYPaS2oEQAAAAASUVORK5CYII=\n",
       "\" style=\"display:inline;vertical-align:middle;\" /></a><br>"
      ],
      "text/plain": [
       "each_is_bool: forall_{m, n in Natural} [forall_{A_{1}, ..A_{_a}.., A_{m}, B, C_{1}, ..C_{_a}.., C_{n} | (A_{1} and ..A_{_a}.. and A_{m} and B and C_{1} and ..C_{_a}.. and C_{n}) in BOOLEAN} (B in BOOLEAN)]"
      ]
     },
     "execution_count": 23,
     "metadata": {},
     "output_type": "execute_result"
    }
   ],
   "source": [
    "each_is_bool = \\\n",
    "    Forall((m, n), \n",
    "           Forall((A_1_to_m, B, C_1_to_n), in_bool(B), \n",
    "                  conditions=in_bool(And(A_1_to_m, B, C_1_to_n))),\n",
    "           domain=Natural)"
   ]
  },
  {
   "cell_type": "code",
   "execution_count": 24,
   "metadata": {},
   "outputs": [
    {
     "data": {
      "text/html": [
       "<strong id=\"any_from_and\"><a class=\"ProveItLink\" href=\"proofs/any_from_and/thm_proof.ipynb\">any_from_and</a> (conjecture without proof):<br></strong> <a class=\"ProveItLink\" href=\"../__pv_it/theorems/779b54ae15e343cce1fdd8c8c8a833b4483ebd930/theorem_expr.ipynb\"><img src=\"data:image/png;base64,iVBORw0KGgoAAAANSUhEUgAAAdIAAAAZBAMAAAB3FrLGAAAAMFBMVEX///8QEBCIiIhmZma6urrM\n",
       "zMxUVFQiIiJERETc3Nzu7u6qqqp2dnaYmJgyMjIAAAAcRTyBAAAAAXRSTlMAQObYZgAAA/hJREFU\n",
       "WMPtmF1oFFcUx//O7GR25yObl5a29mFFqGmpJiD9oI10gy++iJt96JPQxTQ0CKUBi5GgEvtQVy1k\n",
       "6UMaBM0WH9T1a0AWKrSwNP2MHwwiJbSVBn1qXyqmatSGes6drJndO0mmZbawpQOZOWf25Nz7m3vu\n",
       "uedeINz1zmABTXzFBneHNR1Ak1+j/5P+B0mn+XE9BGkrP2y32Qh/+Kv35XyaSS+y+lsIUsuhR2ux\n",
       "6QbzKUC9w6RjpCSGQ5AKo7GmA9XmKPPOMCmPkhiuZecpD/zFpiNV7tOcu82k9mSp9EmojPRzqXSy\n",
       "+RJTvA34dEjk3tl8fnco0mQ+v7/SdKTJHLSdRUHaBxwIRdqSQVwUSvHgcqnGy6aZiX7PbKq38rxs\n",
       "bH/YpTx2E3s8AFF7Bt569+p+x1tPN8KYDp7LO77CqtwCaawTZ4X8SzrI3P6jRmuD1cbC0RROtEnG\n",
       "iRsw9i1EWFWI3DPQUYDxpEeqQwlYJE9NbMBnVlEt+iqHAaxl0XgjcFE9NufX1BzMB9ww9dKWU/s4\n",
       "IU1JpNF7Bpi6wxGklqsHfMZDh4v4ItVp+Wuky16lZB3vDOrP5A6/pqegcqjoNLO1lGTMmSErkUbv\n",
       "GbjLpClBmph+k8g2ZFcrz2XgSRzSdJXLH9eQHtVELGfjQcuvlsr71XMZrON46KCbIZUbCg9KSSKN\n",
       "3rNYTvFe2qt7D7xNfN3uiu0Kg7BU8GrEsnVmq580PiqmUU4lZXt9Ey14xa9uWdsuPssuT60z12uJ\n",
       "qqTRexbLqTY7X+GfJ/eH1yCZVnkNYaloiCgqozLhJzVFi7aj3MLWZ+r78xM6/OoVYA0//xRavXmy\n",
       "EkTaAM9opZzVfXCeNMnBvg090EWptA3d0Hbl8x8Q6RG9Zi9zm29nu76jCBmq645x89KIP5Q+otzg\n",
       "zE+bM5I5zzHDrSdtgOeW3++u7z9U3bXZ7OcJtGNcg5C6NOS8MY1la0h/5NtrSNyR+0NJejxjv379\n",
       "pc8zQn9IYcar2qv0V5HMVYoxC2Re8ZM2wLO8P03corGcsjBWJOn9Mr7ml9eoApT2pzH6YHOiAbI9\n",
       "WL1hM8WGa67DSrMCepN4gMSzLOguThdk8z0wvofZPu823jDPMmksh18xOokeh6QXXcQpPmJ705QN\n",
       "6klHhjF2z+UGehztafQU+ObEZ5EY2YM+Y0BNQ1uJb2fW9wsB33S9ANSbw+r9kiKpTxv2kTbC8xJn\n",
       "DtVdTTvN06XOHIZ8tgvSgNmpm5S6qu/NZcyVa7U1UuSeFyc1C+FOV7Izjs+2Khk5Jd1CpeiF6g8X\n",
       "ljE3L0uk0XpenNT+G+dI9qL/5UrCkua1Yxqp539wYjbYyPNe9V847935CLHHhISSD19TAAAAAElF\n",
       "TkSuQmCC\n",
       "\" style=\"display:inline;vertical-align:middle;\" /></a><br>"
      ],
      "text/plain": [
       "any_from_and: forall_{m, n in Natural} [forall_{A_{1}, ..A_{_a}.., A_{m}, B, C_{1}, ..C_{_a}.., C_{n} | A_{1}, ..A_{_a}.., A_{m}, B, C_{1}, ..C_{_a}.., C_{n}} B]"
      ]
     },
     "execution_count": 24,
     "metadata": {},
     "output_type": "execute_result"
    }
   ],
   "source": [
    "any_from_and = \\\n",
    "    Forall((m, n), \n",
    "           Forall((A_1_to_m, B, C_1_to_n), B, \n",
    "                  conditions=[A_1_to_m, B, C_1_to_n]),\n",
    "           domain=Natural)"
   ]
  },
  {
   "cell_type": "code",
   "execution_count": 25,
   "metadata": {},
   "outputs": [
    {
     "data": {
      "text/html": [
       "<strong id=\"some_from_and\"><a class=\"ProveItLink\" href=\"proofs/some_from_and/thm_proof.ipynb\">some_from_and</a> (conjecture without proof):<br></strong> <a class=\"ProveItLink\" href=\"../__pv_it/theorems/946fba4359fc67d969c3b1312a136d624ae7fceb0/theorem_expr.ipynb\"><img src=\"data:image/png;base64,iVBORw0KGgoAAAANSUhEUgAAAsMAAAAZBAMAAAAmmD4RAAAAMFBMVEX///8QEBCIiIhmZma6urrM\n",
       "zMxUVFQiIiJERETc3Nzu7u6qqqp2dnaYmJgyMjIAAAAcRTyBAAAAAXRSTlMAQObYZgAABpdJREFU\n",
       "aN7tWn2IVFUUP/N2vt6b99z9pw+zYLLQNdId0LbINdeCtn/C2Y1qIcFBXTCJHDLSLHMMsbUPdirI\n",
       "RdB9FWhY2qAsFSiNrn1pxeQaCGlOWX/YX+JXflbnvnvfm/vuvePMwyIGPDBvzr3ze+ec+7tf595d\n",
       "gAASXfo8XJNA0rW0GAgfu0ZZYNEz1yiuKhuu1kAiTykuk8KRuikOAm9sMXIA1uKzUxeurv8dAf8k\n",
       "pXg/0f+om+Ig8MaWMWQMhpDnmenKrK+CzbuKH7+NUjxIvnJ1UxwE3tgySh5zSwCzUxXaU2rsMVfx\n",
       "482kQ/EYG9VC3RQHgTe2OMlTG47Po0mvrne5Ehp5xWaaH2+0OBRb+7ZsWVf/dhcE3tiZQJY8VyFP\n",
       "N9he5YLx6mT2fpdVAf8bzSjO9fe/GCCjCABvaNGc6X4W4PFFlR2wrM6ptkGWaX48jFCK+wDWBqA4\n",
       "ALyhJV4iK8DZI60vVOrMgnqN3E+zAAkPP1OKH8DOAWNxvRQ7cCJqouPu5hoe6GhXQB46NbIwz1cc\n",
       "ml+cJMN8tZ2uUsOlbFwdidqltaZD416OETK18wDvIke9bvv1siqCLGxkQ5/hXfmEUhwDDTusqwqr\n",
       "kSV74dYMRzGFY0SnlfijHh8/AOxWNKQFzBauvDEJH7RIKH+tm8DUdCkaV0eidqn/CsYqrhwiVuOI\n",
       "0y7CI3fTugPOJJbblIQoTdQY3pO5lGKzFKOrhiwfjsyAT027yeYopnCA9y8r8/WZJVdtB/jclgBN\n",
       "GUhc4BqGrFlSDijUulpNl4JxdSRqlzCElB4SKW5GfrST3gDEfOIx1eS2IUJHoYsXKNbL5LU3VL3z\n",
       "2nobdiVTJr9QUDjAviWq9pqbvaTwGYD7FOEkoYmbbLEiTpSkBPLXunzUdCkYV0eidglkD+8BYaEg\n",
       "aW70tEtxIsUOJILswM9xLy2OcnOti91RrF2Aj/OE0hk9t2kT0kwjyy7K8PBbPoopHIPsV7W3J+7y\n",
       "YZwBTXEK/DgNU7ix3Ya6IY11oZaZrOlSNK6ORO1SI6N/i7jdkTR3bs6lmNCbUBw+jjOaPfzoj+NT\n",
       "4/sq2x3swIwjQhYna1YptEjLMC1P7yOGza1zfBTvcBKUKOD6FJUizTRlYZ0zccMnD6zBr0UCYPbk\n",
       "Vv7qaRn9ElDL/EVGYU2XzLgIYZFc2WVMXDpMwuUv+PaNtktxL1sswPiL9GeZKZEcXSwq+IO3wPX2\n",
       "BCx3MIqbcdZoBLZ+IjR3NhWZZhtOhw1DccRHcbMzyX6CNojsFttrFbQTEHeWfrMMWhbm3CQgvgeY\n",
       "yBUvOU8RdUlJcU2X1LgEoZHUcNlcFPMQfOXpv+e39xfApdiZvs7h4zlCRoYpUbJqa4QVhtffy8Jp\n",
       "Qi/8zii2MKS4w9s86KZrEGqzILKsv/9lpHhDzEcxgYNx7NsBm3Udn4N3fH0BQnSiFUG/SDudl9dx\n",
       "Yyn4V8CtEorV+imu7ZIZFyEskiu7JCu0UZIO0JU11U0eI3JS6DzT/GkviasC5sdGlrsvDj1KntdB\n",
       "KwxFqNYRgQwdxeEeH8V077ZhKC23917Qzzg3RTgsChA+L1OMbZ2dt6YfuWunE9M9+ClKKFo7uusw\n",
       "T3Ftl9S4BKGRjO4afeKL6i6b0IkJGFjRdw3ko7huCaW1nH4i7V4DsTA0GLT1Ezh6D5lUe3YYnIgO\n",
       "AhyWKX4YXymRxuivEjh7hHEYXCbwQaTDhjdpS7zf8Uu/APrNkJgC4xJF8m6sBB/lJRSt3Z6L8RR7\n",
       "Ln1Qz6VnnEAqIXmRbC+HCjuruCSoFWB8A4lW7yjMnWicI0QQGcJxbOWK7mUm68S90F0IZ3BzfGcf\n",
       "1e4sQRxndPilTtxnRIrj50AfWOEkhOOgOx8ZSx7jYCAHg3+WpgFaMFdObV9Nd4fuAv19LCK+OjV1\n",
       "Ic63PiPb1EnehS877pBRtDaa7uUorrj0QT2XFeMI8RCVSKLpzTCtikvUwJy/B033RXL8lTyTt1fO\n",
       "C0Txg5h86E/ZzmnU94elgqS14losHqCFnBsSXsnVsgXO1nLesIfNJlKxBFdWomIwudOXF7suZShx\n",
       "meAhcltimFchTO3S07LaQa/uqv+wZOUFihN5WVPcUfCH67bpAJ95RVfbk69Y6DlV4My5CCOjdUYn\n",
       "Vcpq1CbYWRIpdlzKUHTp6QSiaMsmuB3m5au4dDUjk/ju374U5Si2FNqVKXakpND8FiwVQipXR4GY\n",
       "sqqhamNWXS6t//DeORMIHvt//o8i1cB3ol1LM/8Ajto63wVk3ecAAAAASUVORK5CYII=\n",
       "\" style=\"display:inline;vertical-align:middle;\" /></a><br>"
      ],
      "text/plain": [
       "some_from_and: forall_{l, m, n in Natural} [forall_{A_{1}, ..A_{_a}.., A_{l}, B_{1}, ..B_{_a}.., B_{m}, C_{1}, ..C_{_a}.., C_{n} | A_{1}, ..A_{_a}.., A_{l}, B_{1}, ..B_{_a}.., B_{m}, C_{1}, ..C_{_a}.., C_{n}} (B_{1} and ..B_{_a}.. and B_{m})]"
      ]
     },
     "execution_count": 25,
     "metadata": {},
     "output_type": "execute_result"
    }
   ],
   "source": [
    "some_from_and = \\\n",
    "    Forall((l,m, n),\n",
    "           Forall((A_1_to_l,B_1_to_m,C_1_to_n), \n",
    "                  And(B_1_to_m), \n",
    "                  conditions=[A_1_to_l, B_1_to_m, C_1_to_n]), \n",
    "           domain = Natural)"
   ]
  },
  {
   "cell_type": "code",
   "execution_count": 26,
   "metadata": {},
   "outputs": [
    {
     "data": {
      "text/html": [
       "<strong id=\"and_if_all\"><a class=\"ProveItLink\" href=\"proofs/and_if_all/thm_proof.ipynb\">and_if_all</a> (conjecture without proof):<br></strong> <a class=\"ProveItLink\" href=\"../__pv_it/theorems/0c44c1a730054c570e79471e274ad352657979440/theorem_expr.ipynb\"><img src=\"data:image/png;base64,iVBORw0KGgoAAAANSUhEUgAAAZAAAAAZBAMAAADtWWVbAAAAMFBMVEX///8QEBCIiIhmZma6urrM\n",
       "zMxUVFQiIiJERETc3Nzu7u6qqqp2dnaYmJgyMjIAAAAcRTyBAAAAAXRSTlMAQObYZgAABAJJREFU\n",
       "WMPtmE1oE0EUx/9Ns0k2yUYPKmgvQUW9NVChUBWjIp6E2IMfKFqqXrwYECx+QW5GRZqTFg82UrFS\n",
       "QYM9CYpVESR6WBShImJAL3qx4EerUHW+djLZTHatET/AB93dvvxn9/125r2ZWcDbQn2H8PdbsO+o\n",
       "nySMf8PO/Af5VWbazd7hBgep0NMLLxAfRZN2mZ92zrCZog8VGMhDev3WC8RH0aS94ad3qq/QoPOU\n",
       "a0UfrTCQAarIeYH4KJozK8VP74qK85Vem0hVm6n6uwwkQTzxkheIj6I5C/O3f2W10gvG8aJWu/Ww\n",
       "vKzRX2AgVnlk5KxnsvsomjNxY7s9rQz6tUmtds9CeVmjT6RZ1ZrK5496Vy1vRXO2iE9oxdtK8bqK\n",
       "rE4arcgSWquPpxjIXuCEN4hU6HWRmtxMa70NxMBpdryIXaQTDJGID3l9cVu8JAc418uEqTCQdTzt\n",
       "FduyMh2Yp4A4CuuDNraXafW/nNbbQAwcEfSDKRgdoiOyOK9/p2ZFvq3BauIjlmUgYQSUbore7LBj\n",
       "uTK6FBBHMTSt7fHVtgbE5W0gBuaw7N7dsZ+0C3IQK4lQRtP2MRsbil4WhwkGErfV2Xv8xghij1sx\n",
       "poA4ivIBbY8PpzQgLm8DsQAJAi0VCRIuwujRtCU1a7NIEa53gZgV8rO1qntRYEkGQfqc2PZtSRWE\n",
       "KYg+mdfF1h3JaUBc3gZiMbTI0A/PliCj1WlStRgJLcEzjOudmFk7utY6sYeArLFb9gV6kGBNMuWn\n",
       "KghTkKqITnKoK/E9rVkNCPPug4+YJ7tJAktMSJA3AsY9HRY4jNQ7MTvJjlHS/txSzEq3jmGIg8Tj\n",
       "KRVklD3hOdph3HGDWKXARD0I8+5YAB8xcE/MJZHPDgirXWR4IfoV4nCNjqOtYnhJvRMz6B8FmUUr\n",
       "WS82IVzClnw+n4xlTDurgjBF9NWj/iJ7Qo1dXfngSz0I9x6GjxjYQJaN394i1j+ZEiAhWtcC9IkH\n",
       "IQ5hmjJsVNApUepFzEhkOIhFY5uLZRg0yPBhPYL1SRWEKVqLGMzUg3TB/Ignt55sv6+CMG89iFss\n",
       "lyg8h7Mik4nVly1Wtw3VI2LGsLIfMScI33gccXoDKw1rrG4/spH0jE1BzJMYKDqHICmn07heaSnd\n",
       "VEC4l4J4i+WiUc4HM9nJiJjFolG8jB6SY2fKwCna3a9JVrpBIlMw+4+x2tiGTQVjPj20oT+HgUk7\n",
       "lBnGcgWEeymIt7hmtWB2fkrOaKMuYhbLeJcFSI547RDp0IpV36FUjSJbqpnZndT0FFc3Vk1YpPAT\n",
       "W12jfYXYW1Z3mcQuYTF6C26Q7vclH/Ev2eo+++k9u625qltr/ZD4d358mOl3rdSf+a518DvWP0aR\n",
       "eRXOVAAAAABJRU5ErkJggg==\n",
       "\" style=\"display:inline;vertical-align:middle;\" /></a><br>"
      ],
      "text/plain": [
       "and_if_all: forall_{m in Natural} [forall_{A_{1}, ..A_{_a}.., A_{m} | A_{1}, ..A_{_a}.., A_{m}} (A_{1} and ..A_{_a}.. and A_{m})]"
      ]
     },
     "execution_count": 26,
     "metadata": {},
     "output_type": "execute_result"
    }
   ],
   "source": [
    "and_if_all = Forall(m, Forall(A_1_to_m, \n",
    "                            And(A_1_to_m), \n",
    "                            conditions=A_1_to_m), \n",
    "                  domain=Natural)"
   ]
  },
  {
   "cell_type": "code",
   "execution_count": 27,
   "metadata": {},
   "outputs": [
    {
     "data": {
      "text/html": [
       "<strong id=\"true_eval\"><a class=\"ProveItLink\" href=\"proofs/true_eval/thm_proof.ipynb\">true_eval</a> (conjecture without proof):<br></strong> <a class=\"ProveItLink\" href=\"../__pv_it/theorems/43932f8cd471b6daa35d766476e7579e34bbf6270/theorem_expr.ipynb\"><img src=\"data:image/png;base64,iVBORw0KGgoAAAANSUhEUgAAAcwAAAAZBAMAAABOcQOdAAAAMFBMVEX///8QEBCIiIhmZma6urrM\n",
       "zMxUVFQiIiJERETc3Nzu7u6qqqp2dnaYmJgyMjIAAAAcRTyBAAAAAXRSTlMAQObYZgAABJJJREFU\n",
       "WMPtmF2IG1UUx/+bZJKdTCbrgwq1IMGK+raBFQu10qhIQRDSFVqlosvavvTFlMIurhXzZmopCQjp\n",
       "ouCmVNyyQg3NgxYqroogqcjQUqiU1sCK0D60S1vptrCt92tm7szcmWmMSBUP3Mlw7v9m7u9+nDlz\n",
       "gWhLT7+Nf7ulpvfGSTL4L1jzf8x/BlO3eBnMjkfXNNGjP+ejMGMUA9oRUYhpvf6avi6FkIa/cv00\n",
       "tSle08RJ6rsUhRmjGNAuikIsvyz5GyGTL91fcW+zqhE65tQ0MUvbVqMwYxSDmVnkhdqFW1LFklqf\n",
       "L7pNr7Rc/3dhmKymiTzR5tpRmDGKwSzT4IWOe+em69febyn1r8w4t59vkmb8UCjmIYZpdhcWDkaG\n",
       "oBjFYHZQFDo7ievSZnuuoNTveMS5tUZL0iyXwjBpDYm0K7Xa3uhIG60YzNaJQuxFY9X1H0VFJc/2\n",
       "nNCfan0jBehcMQyT1hDMncC+aExHodYNe6JFSekNEQMHRCEEJe0qXZXcf5JHPr/l2s72+RRvSBNu\n",
       "shj082VqSx5MWkMwnw+EqW0bS4kHJUxbYV5X9vxXz3qpKr0hYuAdUcjsQL8GvLye+yv4RD3qes8Z\n",
       "zzlpBo1K2GzSmiZtmZAmP3tizDKqXWyQMG3F4VXlOtpkKTB93hAxcL8owNaxp1bIz2Y+BQWky4r2\n",
       "p9jaYjHqzbG3pPCvLYdh0hqCmbPkTOfs8QUYp5JYlDBtRXePch3NFxWYPm+IWMYk0/ywg5lpQZtQ\n",
       "tCdxdqvYmsBQrw9MvUcams+Mr0s8VkaK9sLY/mpBxmQKoi/UVD0fH64qMH3eELG0aA1SdjuYHTdp\n",
       "kM0g3cvz3U22aOY+p99IVdy9+bsHM8UXLfbtIJjPWkO7EhPIsz8rd8/ImExBYjzIvkkHXmcTyYoC\n",
       "k3l3IUYshaCPRVqz2cmNOorkoMFRydC3WdZk91uEINVsihCEDnnyR49jpJRcxGGOmXPiM8PssL6d\n",
       "wyi0b/2YZjuxHMRk3tceQowY+F4UnT6i3hCYWpUvXGRvQ1y+6NlheMZ+3w7fdPqN5GIYJq2hmCM0\n",
       "Lk9iCzJtbKvVagWjrFsVGZMpsks/1Vvs2R47uvHHW0FM7p1BjJhTkZKt327hqzt7BGaaxuMEfeoU\n",
       "xCVDtypbVTRBOHLnEoz6jaLdb+QVAeslvgLKHNOkPX8AT2BOIwuTzSZeKMiYTJFsYa4cxNwA/Q+c\n",
       "/vr09h9kTOYNYvrFnmTP5abxhViw5+xtpMke0W/Mh77556XvTX2ZjMvZHHL0r80SzMXA9yYZmxGL\n",
       "YuofYLZlX1LkBbGKY72h9gkJk3spZrTYm7oz+7K/r1XRb2XqDil1F+F5guz6ZhfYTwf0NxIr/JjD\n",
       "K9Dr77JIvxZbGtoaelmLehWzN6x0eR5PSpjcSzGjxSKzkrKrD9+b7OuYR/Q7G/qpKj7EfJYgezPq\n",
       "9IAuWsMN8I6qg0rbkwXZwSJS7P2sHsBCUku7pt9DEm30aflEwr77DI9isuHHHL/WjhH/bYckv0TX\n",
       "/KWzIEtxF8hp70p87xx59XtOW7wXz2mn/gTkPHTOCFyfSAAAAABJRU5ErkJggg==\n",
       "\" style=\"display:inline;vertical-align:middle;\" /></a><br>"
      ],
      "text/plain": [
       "true_eval: forall_{m in Natural} [forall_{A_{1}, ..A_{_a}.., A_{m} | A_{1}, ..A_{_a}.., A_{m}} ((A_{1} and ..A_{_a}.. and A_{m}) = TRUE)]"
      ]
     },
     "execution_count": 27,
     "metadata": {},
     "output_type": "execute_result"
    }
   ],
   "source": [
    "true_eval = Forall(m, Forall(A_1_to_m, \n",
    "                            Equals(And(A_1_to_m), TRUE), \n",
    "                            conditions=A_1_to_m),\n",
    "                  domain=Natural)"
   ]
  },
  {
   "cell_type": "code",
   "execution_count": 28,
   "metadata": {},
   "outputs": [
    {
     "data": {
      "text/html": [
       "<strong id=\"false_eval\"><a class=\"ProveItLink\" href=\"proofs/false_eval/thm_proof.ipynb\">false_eval</a> (conjecture without proof):<br></strong> <a class=\"ProveItLink\" href=\"../__pv_it/theorems/8dccc88e504ee6b9d251dc87fdccae19dbdbc50c0/theorem_expr.ipynb\"><img src=\"data:image/png;base64,iVBORw0KGgoAAAANSUhEUgAAApEAAAAWBAMAAABqL9qxAAAAMFBMVEX///8QEBCIiIhmZma6urrM\n",
       "zMxUVFQiIiJERETc3Nzu7u6qqqp2dnaYmJgyMjIAAAAcRTyBAAAAAXRSTlMAQObYZgAABllJREFU\n",
       "WMPdmX+IFFUcwL/O7ezu7MycBhWUVKuCaaSuHHWWJ44FBUGwd4EJSR2e/iNFG0YnVnr0R65J3NIf\n",
       "ehh5a0bqmbbccaCgtGRFnGZDGlmediElCemRlj/yR9/3Y2bezLy5m4sWrAdv5u33+53vzHzee9/3\n",
       "fbMAsYpyNg+1LZrN6k1b9o6kMU9bMETaJ0ZzY1j15GTW7lW384rl2bFdqQ5FaZ4JizLT2l7QqrF9\n",
       "C+bJUtQdiMaw4CBpnxmdpFHBU325ZiR/5RXLOXGoRg1hr1k/HKXqdVsuhUk26LPt2N4F84ysw3od\n",
       "DZLsIhd2jE6S2nTVDKSZY5U0zwn9VZ+T2wvyk1eiVB7JU87IX4WH+aW43n3mn0aRJBokSYYZHW+j\n",
       "kKTj9mDNSKZKrGLZOV+YR4tWye09eabvcpTKJamu5Z3zEzkviO3dZ74lkuQWCsgc6OnZCDFIDvb0\n",
       "7CjUjORGXrHYsyxPvnSy3N6Tm8qFKJVLMvlIlp7r/iLHp+J695vXW1EkUYOA4FKx+FockuOLxbXV\n",
       "mpGcwitAovyJt65lhlLylcCTP6Ffi1K5JHcDGwPd9LQjrne/uZGLIokaQnIZwLo4JJN5SJdqRvJt\n",
       "XgE+gOey3n0r8sjjyTOW+nuEyiN5kMelr7NRplK539ykS87hs6Sc8t0BNYTko/JVKUQykcOuJSWC\n",
       "p787jrVVp4dt5FJSXuUVwIJu7HyVLYIp0KQP58kToJ2PUHkkC7CZntfwrDim9zW+JFovRI1J1BCS\n",
       "KVDkWaK64jOY1OqSxMeZQds/WtLF1xetNmdh+4SQTUB6cmbjXKd9K6+gtjW82AFqA3vsb+icCRdP\n",
       "vrDhwUsRKpekmSUzCss9dOEpx/XOzR0ew1EkUUMAGbYsWOw8MA/2GOW6skfyKxZsMvOl4LeK0UpD\n",
       "rGYotRKlmX0NtmJox/NBkgmAcTggEuxdcQ1dKLubJ8cHuztC5ZJMlUGlQ2INHUH5uN4d85gktSGJ\n",
       "N3P9pjLsz+YMb3bDZvY0xjZpEjawQpweuDSp2dCkEaTH9vaAosCAHZzdGKBSExySOt6qXhJMPLmO\n",
       "9SW5yiPZ52T9NL8yYnt3zHkcKXhx8hcfyQSb3bBuKZKb1zJFmUrokxYJnlj6+98RSaY30Gndkpbl\n",
       "8Wq2KPyahUM5E9oPCdIE6Q1FSQyWAiuOVmGbFvbY5H10Scd58nfZnujIt5Nzk5cFL+kV9k99dDEm\n",
       "/TgQ2zs3Z0j4iiMbk3zFgT50ay6wxy1XyJgjrRLbjfcbuxYLJPVG2mytQ/vlQZdJaBR+rWSngNVK\n",
       "4WHpZ5G62T87ggO8kpwyfdl510V8rkHmOh4+HuINT64Rs84SHL0Lbi9P9ak8knR9SZEuJAlTXzm2\n",
       "d27OkEBdNYokaijJ8Uh+070w3qKmpFXO0J7qh+oBgSTQbMOsKMOw+M6gy+MwS/h1lR6DVleFqEpJ\n",
       "KvCQE4QeZ3X7jTOgd17M8XddSg40S36FwGjlDVee6bxehj03VmjvF+ACNPkuaWxvv6W9nZgnycMr\n",
       "NKxsfbPNcifqaN4dc4oEez/4Ocy9A2ooIJP01hJohhRNopbg9khdWSy+gSTfS4kkf6BJbtOXV9xO\n",
       "93LZU4c6hdlMUv1dISsuJeXpYrGYRZLVbHi3KAQlGk7U8FAIyZNZdQKLs5JLEvQochij9yV0x7gt\n",
       "MkfcxgHRchtMg26VtZpUaGVjMtEikqTlYdD+CJPENb47b8498cA++sBzsFZDVkx6ZP8gCQZsTFZz\n",
       "4S8YwrvGLuPySoc2HPsb6hi9UyTSLxggfMHgCcowgj9mQFcZWy/3w+dEeBRgMEgygYvtNcoITd9y\n",
       "DvAkBglbnwkT9SqgJGXDRyW/lSvt7cCBbpCXVgw4VBUT+3Ujp8EjlG4clWZH7M3s2LwzJNH7F/5V\n",
       "jQNqxQVuwwA0V7B1vw1pnOiJ1RYbOyLJzg7oumgTRs0V9Q5oLpFDJX0JtM7XYVmmUGeBOhHgi6b7\n",
       "WNR2rVxpMk8i+nqs3x2e85vsSy95+MY/s2N52cdwwdWej/v1dIzeOZLIrXK6JE5apzj70GkYJ8V/\n",
       "H1bng7krVEIXFfRcSmc5XthKd7diM/CuCsbJ/9a/D9+PpFFOB0nq8b5RtJyvCKZOK9OqWMnp3j8e\n",
       "fitH+iHsu5mB/Wufrv+JafAiW2r1f8f3Nzz6+WNy3Pq7AAAAAElFTkSuQmCC\n",
       "\" style=\"display:inline;vertical-align:middle;\" /></a><br>"
      ],
      "text/plain": [
       "false_eval: forall_{m, n in Natural} [forall_{A_{1}, ..A_{_a}.., A_{m}, C_{1}, ..C_{_a}.., C_{n} in BOOLEAN} ((A_{1} and ..A_{_a}.. and A_{m} and FALSE and C_{1} and ..C_{_a}.. and C_{n}) = FALSE)]"
      ]
     },
     "execution_count": 28,
     "metadata": {},
     "output_type": "execute_result"
    }
   ],
   "source": [
    "false_eval = Forall((m, n), \n",
    "                   Forall((A_1_to_m, C_1_to_n), \n",
    "                          Equals(And(A_1_to_m, FALSE, C_1_to_n), FALSE),\n",
    "                          domain=Boolean),\n",
    "                   domain=Natural)"
   ]
  },
  {
   "cell_type": "code",
   "execution_count": 29,
   "metadata": {},
   "outputs": [
    {
     "data": {
      "text/html": [
       "<strong id=\"binary_closure\"><a class=\"ProveItLink\" href=\"proofs/binary_closure/thm_proof.ipynb\">binary_closure</a> (conjecture with conjecture-based proof):<br></strong> <a class=\"ProveItLink\" href=\"../__pv_it/theorems/b597cb1e9ff55571a76207844274063b641f69ef0/theorem_expr.ipynb\"><img src=\"data:image/png;base64,iVBORw0KGgoAAAANSUhEUgAAAMcAAAAVBAMAAAAA3efRAAAAMFBMVEX///8QEBCIiIhmZma6urrM\n",
       "zMxUVFQiIiJERETc3Nzu7u6qqqp2dnaYmJgyMjIAAAAcRTyBAAAAAXRSTlMAQObYZgAAA0lJREFU\n",
       "SMe1VU1IVFEUPr7xjb43740uAoNCHrXITTU0YJsioYUhiLMydw5kMLYoxUV/FpMEjf2NmygKccRF\n",
       "YmQDEuVucIjKJB61irKmrEUtKjTEjLRzzr1vnF8niC7c98475977nfOdc88D+Luh2fgYXG+FZ6Cw\n",
       "fhJnioTZkiCjOPUwi2oq22QeW/SHzgN0ZquV7shKTQeAG8GfkeJLSZDPOL3CV+93GZxjK0PwfQEY\n",
       "z9niVa3RERt09OkGLQ+XwjB9+Hgp5LfL8hCfNLYjlS0+MKzsPZXlthLAk6dwaQzAiJcCqaAgTrKo\n",
       "T/wUurZT0rgTje8s0KulQxeOn5UgnjiCDKNqemzsekm2aIXWJc5QfghdxxZpPIfINejrR5Gyvlg6\n",
       "EqMJQbwNAEuRSG9JkK2USUFPk+e3iChVIY2LAAeP4DvJX+OxNboaWwPIE+47DNDPSvE8sJAM5Rfj\n",
       "Fdpk89kN6jyrjLhkWV2crTvNyeLPzrWc1KxuoNAx8/s5/ygLFsxqMAS55oe5HidZdEgFf5SDtiDS\n",
       "BJqoZQVzNBxE4QF/hjMSb8wm8AJ10WKFXRwRLLiC4MHyuZPcC1Zi8L7cQB6VNZDU6q9fYtULJoEO\n",
       "Q5+UX1RlHFftVxwSBMLNqMGSN2zB7XSPcNACVwrMSzdjYFnG3TwQfNSyCmurlYUqjEKZd0C0zEgg\n",
       "7BYgWorXqlaETfcCsCOGHOKwrOanuXR5cHZzF/E5t5OuiZu4buSl1ZkgQS8STFXZ30EqN+xmU8v2\n",
       "uqBsNpa/NpCb+Fs4v4G8/h6fc03aw+nE78qK5I1IPExw/b+GnWx6DrANdJ+IxHVNbqDqpFLkuxKl\n",
       "ANokZQDv0dmNVLd7BN/xdFtJGEl02JUgTqkd6HMzUS7wywBDcfVEJNJHOVHkBmICw9ajKzF4uErZ\n",
       "4/DpOh5dPVQf4YM/ifsTaspqkOAlOkw63BWDIeYGy6RlAIIiEsOV31bk4CpQMzW66AhQ/kS0FWfc\n",
       "TktYalW2dhG0ZdA2AzxikIQxU6BBFhu5DdIZU+kkLYEWPaNugscL/hA6WYnxm71zV21nAbWDyoF1\n",
       "QcYLq/VU7t8tLdVhTor8tIqN/sLqPNcm/+H3axaJ81Wuwob/Mv4APa/Zwj7Cer8AAAAASUVORK5C\n",
       "YII=\n",
       "\" style=\"display:inline;vertical-align:middle;\" /></a><br>"
      ],
      "text/plain": [
       "binary_closure: forall_{A, B in BOOLEAN} ((A and B) in BOOLEAN)"
      ]
     },
     "execution_count": 29,
     "metadata": {},
     "output_type": "execute_result"
    }
   ],
   "source": [
    "binary_closure = Forall((A, B), in_bool(And(A, B)), domain=Boolean)"
   ]
  },
  {
   "cell_type": "code",
   "execution_count": 30,
   "metadata": {},
   "outputs": [
    {
     "data": {
      "text/html": [
       "<strong id=\"closure\"><a class=\"ProveItLink\" href=\"proofs/closure/thm_proof.ipynb\">closure</a> (conjecture without proof):<br></strong> <a class=\"ProveItLink\" href=\"../__pv_it/theorems/5875d45203a3add01fa0082f355f31842e5a3ae20/theorem_expr.ipynb\"><img src=\"data:image/png;base64,iVBORw0KGgoAAAANSUhEUgAAAX4AAAAVBAMAAACzsJjiAAAAMFBMVEX///8QEBCIiIhmZma6urrM\n",
       "zMxUVFQiIiJERETc3Nzu7u6qqqp2dnaYmJgyMjIAAAAcRTyBAAAAAXRSTlMAQObYZgAABQVJREFU\n",
       "SMfFl11sU1UcwP+77W17v7o9KPEjkpsRAU2EJo2Q4BaKREmMS7o9wIwEGh0PEhNrhswoamNMdoFo\n",
       "+yI0GFkVI1jibLIQJZLYsJloN5IGJZkKszp8YA8wZcogAfyfj3vvaXs7pcR4knPvv+eec8+v/89z\n",
       "ARZs0sU4NN+UMuu31457D2sZgKkdUCHyuUZr9ViY3IzmII7wjm3Lra2UK64cyFQ/W3ZX+pedMYDn\n",
       "UB6DcTI005hfL+AtnGuK/wLv2C6J45kG5nLF8Kwrq5WaeZUedU8nwDDlz5KFqcb89Fm2KXwjwjoR\n",
       "L4kamPaeH4444tQ1YfxkzbxUF9wfQjaT8BPVUh034Ke2GW+KP5hhHdvRtYLO5UFvc/a+4qh85Kow\n",
       "/gG/Tw4MVDj/l8ivthF+o5TP74cF+M/m858km+Lfzzu28sqY4NCPmp7z+9ody0lzol3Y2t4HXf2P\n",
       "kbA6T/hh3rJ2LcTfalmDxab4l/AO4M99JWSAYfDUh1oJ2uIT2nURgvqVOuP6j/+lbXgfpfwo7V6I\n",
       "PxCHEDV+yDvsGi9+m3eAj2ArqlzmYTbu7Y96wfZjNSb/IcZRpToNpda98TsxyRTlX18X4Js6YtIi\n",
       "h98foZEO8HPMM0jnqn/+Ot1vR9OrvAPEYCgCcpSrPQkHPcMFFA7iB+WymOnpupAYv6fO4v1zyh8E\n",
       "SbCteiJa1lIlWOPw43YP0SdrPYvAIcHSR0c7wSy+f4z/vIN3kJ+NvoC69zN+wyQ2rW+nqS+QtjG6\n",
       "al4sBjSZdl/EZsdvyI8wWym/Xg4KcyeP50E77YOiy3+Kuat+OOLFX+p3db/3QA5MU/+0lt8P0FJx\n",
       "+IM5kBMeb8LssxG4uWBxHX9W1H8IEja/UsFVRmfPEmlpnDgL2uvpp0yB/yDbrSfkVSVk03Lk9eRi\n",
       "ml3f1voPOlSwzeEfcata1XkAtw5TH9ewvwjw3Zn2SDuxCFvXIvIHyLlhA+WH3X3Iv67csl1KAD0t\n",
       "aPHSGYE/tI86fsKHr9leu2sAVrt1kfJHF8dr4lcpsILK+S/w/1BbvTLsPwC8x+r19/fBotxSJ359\n",
       "pqh/o2jHL4zgaw8sg9aYrwiHGL+uR1x+jRIaBWkWNt9Tu+tPsNIJnQjTv+9dPjDKO6kBoas2P81C\n",
       "6EOg3kDhs4p96eU+BAqZls4oHyZhDjoIedExJ9PTZphYhfcOxt9K/tgz0A3BAmyyLMvU4ko56fID\n",
       "zWXDHd9cY++vytnTE2m7mMovW9abxP8lPrCB9SM3Z0BLX4lw/gB5pUT23En+SMK+9JGHWMHU9I0c\n",
       "fHGzHwKm3Eahw8ygH7+Vqzq/wW+M3yDDd8JyGJLRHaj+4TFT4P+RSGtA+bOe35eDobjxyLmHT+Ae\n",
       "CaZ/3Vd/fmBpMcmDGVt9AqJOKgsDLXEppczixMN84MnBATHTq0nGT49+s2iBSR108l4jBobg/2xv\n",
       "zFfXKX82p+yxL9CF5itrK+BeDRd8TfmL+kT9+U3I4/+6DaEFjFSx/vxm1zvT5fcnMKz2lQD2Epuf\n",
       "57oU+NMpyF4pE/7ugnw3dGfIpRCaByX9GmxTkz4S6Binxq7pd8piaXbLs7L6L/NW+B/HkFaez9Wf\n",
       "n51jiMvvfnCh/1efH2pzNLiHVVtKapEgSXrL0f8bfL/cRmtwbqGaGfuHtdLrVY7ac7lAv9vcLzjq\n",
       "iAkpFnjgP/t+/KHB1wXuvmJHE18lHtL/1/4GYexcmcZHeGIAAAAASUVORK5CYII=\n",
       "\" style=\"display:inline;vertical-align:middle;\" /></a><br>"
      ],
      "text/plain": [
       "closure: forall_{m in Natural} [forall_{A_{1}, ..A_{_a}.., A_{m} in BOOLEAN} ((A_{1} and ..A_{_a}.. and A_{m}) in BOOLEAN)]"
      ]
     },
     "execution_count": 30,
     "metadata": {},
     "output_type": "execute_result"
    }
   ],
   "source": [
    "closure = Forall(m, Forall(A_1_to_m, \n",
    "                           in_bool(And(A_1_to_m)), \n",
    "                           domain=Boolean),\n",
    "                 domain=Natural)"
   ]
  },
  {
   "cell_type": "code",
   "execution_count": 31,
   "metadata": {},
   "outputs": [
    {
     "data": {
      "text/html": [
       "<strong id=\"demorgans_law_or_to_and_bin\"><a class=\"ProveItLink\" href=\"proofs/demorgans_law_or_to_and_bin/thm_proof.ipynb\">demorgans_law_or_to_and_bin</a> (conjecture without proof):<br></strong> <a class=\"ProveItLink\" href=\"../__pv_it/theorems/8b93f035cb913d0eb52896e749b125330c6b56a70/theorem_expr.ipynb\"><img src=\"data:image/png;base64,iVBORw0KGgoAAAANSUhEUgAAAPsAAAAWBAMAAAD0hvfJAAAAMFBMVEX///8QEBCIiIhmZma6urrM\n",
       "zMxUVFQiIiJERETc3Nzu7u6qqqp2dnaYmJgyMjIAAAAcRTyBAAAAAXRSTlMAQObYZgAAA3BJREFU\n",
       "SMe1FktIVFH0OG/mzbx580YXQUEtBlokhSnYh1YOBeYmdFUtQh9YYC1yoF0WTBA0RuVbVascMUwM\n",
       "SjCCFpFoUGjFbKOkCVe6UTJMjbBzzr3vzp1XmovmcN67557PO/eez30XoJJgFTaTvsCnSMRMhdwP\n",
       "i6E9wHa6lxu7roPpAUzTfL5C7ufEsCCnns+vygI0tcVx6/cpRtnKeHcaxLCQF/NZX9CBSWltgAmA\n",
       "JIoSo5VxHxXbfdwkxsgNuQyoR8aXFAzg0qZGRu5VKPbyu4X6NI/m0ZQUXAOIb89DEvkrudyVf5ew\n",
       "njnaSIn0yhTbGCXs5nc4/0o0wBPISMEywKkLGHVMzjmAXuaJd8vSZBd/Max/dRx1S7NesNM+rdjC\n",
       "8BkQSrjN74fQIXY9LeocF788U9tDRYG1dwzi3HzOd1EnNZCoISKmeacWOV+qKNQ84k8UWxgaHqGE\n",
       "Hn6noV+UYAYeCH5oFWDABbAxGlEIcWwGf7HIcMFeC7o/gyseVzPSHAKHXGpsYRh3CSVs4612NnZz\n",
       "ZzkpMEViYri/0E8ULWL0ClHmTV0S1ZoCoxh0jwkySyklzaQXwvjf1djScE51u3SPSaziD0bzEBEr\n",
       "q8Yh9E24t4oneZGpHIuetsH+fNA9B0mVHWlixLKUghJbGtYxasHHpo5yNsfUOURtb2IGw1SKvWc5\n",
       "vXCYRa11tWKJmnsro5rI17RdeA2Wq7Gl4XPGUulZ6D656B+BY6rtO7Ki9GCM2+ET1LPoA8Aezf3b\n",
       "XC5XDKNqi6SlJrKGqciQnUD2HWXYwihgUvZ+bJWClhUJQPiK9juQMqhwqqkt4rPv+lh0C6B/tHz3\n",
       "bhi31SxpqRkpQiI9pNimMmzX/jDH8aezPg923w8sfZN6NUS+Lq53HsqRjyQVjkNujTz0cxVhQbZ6\n",
       "Afe08NO+e6GJK4pnDyq2qQyb1ZLUoSsg7B9LJXikqBMYhYJ1E6w1sHYFcu/GM0rVFZrgYNzeu4pt\n",
       "KsPPjGW/nA1hwidiK2D1XY3shDdLjV3pgHsPLvtZA09ogpHmWvfZljI8wKiOx81AHHca2BqtN94+\n",
       "zFr5XzFJ5vAHm68vxeB1YwOIeX+5/vzNPdHld4KXPhG4KtgFwq1dtj4GGYUN3IcLXB1a3Bq0otFh\n",
       "kPE/gBEIi62HKpRX2y2P4F7GLcNvfzLpNrFD2sgAAAAASUVORK5CYII=\n",
       "\" style=\"display:inline;vertical-align:middle;\" /></a><br>"
      ],
      "text/plain": [
       "demorgans_law_or_to_and_bin: forall_{A, B | not(not(A) or not(B))} (A and B)"
      ]
     },
     "execution_count": 31,
     "metadata": {},
     "output_type": "execute_result"
    }
   ],
   "source": [
    "demorgans_law_or_to_and_bin = Forall((A,B), And(A,B), conditions=[Not(Or(Not(A), Not(B)))])"
   ]
  },
  {
   "cell_type": "code",
   "execution_count": 32,
   "metadata": {},
   "outputs": [
    {
     "data": {
      "text/html": [
       "<strong id=\"demorgans_law_or_to_and\"><a class=\"ProveItLink\" href=\"proofs/demorgans_law_or_to_and/thm_proof.ipynb\">demorgans_law_or_to_and</a> (conjecture without proof):<br></strong> <a class=\"ProveItLink\" href=\"../__pv_it/theorems/41a2bb45dcae9ef2c2ae0c331317a02e633ecb4e0/theorem_expr.ipynb\"><img src=\"data:image/png;base64,iVBORw0KGgoAAAANSUhEUgAAAeYAAAAZBAMAAAAWDpCEAAAAMFBMVEX///8QEBCIiIhmZma6urrM\n",
       "zMxUVFQiIiJERETc3Nzu7u6qqqp2dnaYmJgyMjIAAAAcRTyBAAAAAXRSTlMAQObYZgAABUxJREFU\n",
       "WMPtWF1oHFUUPtnd2c38pXnQghZlSaWKIllItVgjXRFjEQrbPrSRlnapFWkRXCk0ECvs40bRnaca\n",
       "9CGLkSREaBcjaqDFiBVKVBgaCwW1Dlgf2pcGG21aSOu5PzP3zszdXdKWRYqHuzP3nvn2nPvd33Mv\n",
       "QAt5fciBe0lSQ0dbYkpwr8mx/zn/tznr7h0aMB3G2SOv35pxboVom0yx197V/UvzRP4g4/wDeV1u\n",
       "xrkVom1yib2uyF3faEiIbNeiyB9nnEcJotyMcytEu8TOsdeVmkQop8ZK+gs3hNrKUs5daMGqN+Pc\n",
       "CtEuybBN87Mt0uY5OKzGCr0xc12ojW7K2Z6fnv6w6RrWCtEu4XVwe/NCd6BHjRV6O7Ek6S+ydXu5\n",
       "UjnafN1ugWgijmLGaY2xMSnQxGU9iylq34jl2/AySluS/mVzRfrwHeP8GsBIc84BQo3rDNVW6gSw\n",
       "8DcXxZl5pRVLZIWbL2ji8j59fgr7cFJqbH2x6upJJ/RGXvtL+nCBcX4BWyX8j139+cRaibOPsJeU\n",
       "tf09REJe7HBrSDsx3DNKKwfFWiXcJB2SuLzN23QsB1ofCxsyoHvKqR/oU6BflT58xThnICHt9cbJ\n",
       "Ptcsz8NmibOPGF9RjqMtbgPOGvbxnjhuAmzCLKBIf5oYD5Ibo0gSl/uozVf73kQXKcb5LB2EcRH6\n",
       "nX1PL0sf9jHOlivPifOz02CeTYohWRKI+cPKcTSZa8A5XZCrFOC6nEReigBZIS3mrezmUrArc84p\n",
       "gA4v4Iyr805VnYQejT8c56x7+Nl+bsf6xIYCpEi9zN2vZGXOFIFNnK2o7O/oLDfgnAmFrgEOB01Z\n",
       "HuG0INo95OZJmqSxjdM00+1zNnOkBRUxZqA38fcWwMK5nlwPaf6XeLw9cgA5P+92HEoUoYsCC/Pn\n",
       "ZM4Ugd0Gm/BRizooJksNOOPmopfCuEPEfBFOgx4MWVYQmyF148uXNIk1TK+zwIpxJrxMRVQi9B+z\n",
       "uO3nh2BtbYNYw2AG///Ro7Amn5yDccbZsnIy5xnq4RfoBe3bKGe7nliMcbYqlcoHsBXrVuZ5htvz\n",
       "IFDdlLQ0sQJizyDQY24C2UqT2GdI03Re9zkP8nEMxk18nPB4Ruhpk1cd/ZMSLEE/5vs55zUkINsP\n",
       "2yFTh13oN2sWdLckc6YI448fqzXIRDkf7z9zQ9nPaRjAuhV5nuOGWdBv5SekBYEUBvhg4G582Ssd\n",
       "KXBcTt26DGb1Wo5zpsOPRh9HyFQq8kygN6o3a/D1rcOQzmrddG78yTnbxMX98BiMaaRypJ/hxazM\n",
       "mSKSNRgrxDlvBv1vWDi1sPv7GOfBYB9NcxzljO1glJ+SFn5SGPQ5Mze+wYGgNYLYk21BpSAWUMQ4\n",
       "MX1HIVHWFwtglKTzs76IPX3eAossn3Ye7LnY+Xkb9rdLOOvvwmjNf6RwA1qBz72O+skY50lgTkie\n",
       "4ShnYvsn7BNuhBUmfc7MjW/wV5pCZwy2Sq3uWD+GPW2X5/wzBm+3Iu4Jx+YB3iOD6CJxHuHcuQx6\n",
       "9R3CWVsH2x3tAfJYB9UyjF5z04VJ2BjhrNMxMczzDEeLSeyGE9i23Agr8PHjcDe+wY3g2w3FZ/qm\n",
       "f7Kr4TyAy5r+Rs0/S0YkgfO52T0JqZspmjvYlWagVI+u2wnUPBHbOOneYISiGo4NBVLMoAfgRe8M\n",
       "7kBGbuduSOt9FmA2KPq5CXgE9jux2BPzneG9/CryOKX0Ez6gc4OmS9Jduxuyndu+D3MVOWXdcW6m\n",
       "YhBDfczfplKOA9s923wHOLTK++1c5M5tNjZ7ak3u5yLyOE13+X77yL8ZoYuWkMjXnQAAAABJRU5E\n",
       "rkJggg==\n",
       "\" style=\"display:inline;vertical-align:middle;\" /></a><br>"
      ],
      "text/plain": [
       "demorgans_law_or_to_and: forall_{m in Natural} [forall_{A_{1}, ..A_{_a}.., A_{m} | not(not(A_{1}) or ..not(A_{i}).. or not(A_{m}))} (A_{1} and ..A_{_a}.. and A_{m})]"
      ]
     },
     "execution_count": 32,
     "metadata": {},
     "output_type": "execute_result"
    }
   ],
   "source": [
    "demorgans_law_or_to_and = \\\n",
    "    Forall(m, \n",
    "           Forall(A_1_to_m, \n",
    "                  And(A_1_to_m), \n",
    "                  conditions=[Not(Or(ExprRange(i, Not(IndexedVar(A,i)), \n",
    "                                               one, m)))]),\n",
    "           domain = Natural)"
   ]
  },
  {
   "cell_type": "code",
   "execution_count": 33,
   "metadata": {},
   "outputs": [
    {
     "data": {
      "text/html": [
       "<strong id=\"commutation\"><a class=\"ProveItLink\" href=\"proofs/commutation/thm_proof.ipynb\">commutation</a> (conjecture with conjecture-based proof):<br></strong> <a class=\"ProveItLink\" href=\"../__pv_it/theorems/9ffe9d8812814852baeb7d7268f34165bc43df7f0/theorem_expr.ipynb\"><img src=\"data:image/png;base64,iVBORw0KGgoAAAANSUhEUgAAAQMAAAAVBAMAAACwB5bKAAAAMFBMVEX///8QEBCIiIhmZma6urrM\n",
       "zMxUVFQiIiJERETc3Nzu7u6qqqp2dnaYmJgyMjIAAAAcRTyBAAAAAXRSTlMAQObYZgAAA7BJREFU\n",
       "SMfFlk9IFFEcx7/uOu7O7M7mISooZKhDXsqBhboUGh2KQPRUnnKhAgtKI4iyAoug1f6slygKcaWg\n",
       "SKqFiOqUJBH9IZaCIKLasg55yMgyM8p+v/feWDM76xQdejAzb95vPm9+/2eAPxt6nk490z0R6y5B\n",
       "TUvcoGuBb54HqnCeDqNDTLWCW2S2jiVbDgKb/aknkxuWpOuKROshiApS4z7fDweq8I6OhLQz8UGZ\n",
       "6MjKSLXaRlzypzAHCH92EzRG6CDCIHtOsqgjSAPTptNjOX8xIa8JWwmbyd0NNuKWL6V9B8pH3QSJ\n",
       "RrIQxC1a5mkuSIUIO2C3mBpXvsq1pnYlrCHhSwtGpS8VosfNj24C6K8lGRN9JL134cKJwDjwE3qb\n",
       "1D/0Sa5tnK+E+2mz2WTJGz8KUX5Pu5sA8jWcHkQk6DqeTu8NVGEBmyPduCb2XXqjEFHCMWDdFroO\n",
       "+lGYkYK2M+smUJ69mZdEnHbdBHSKZXlePTrYUlxeR9kcUWFGnSa9Gs+p+Gljz6v3iCQRy+/FsB0K\n",
       "zVsfHcq5CeAsmi1JmJSPK0VW0lz616xEXAbVfD20w0H4FRFxUw5d5lYEuqxODnZfiibXvIrvUZli\n",
       "zHITQB16bUnE2lgQEuadkf4NpxCjlO8fXA5roOeqQmZy7YniXptcMi6WHgkHqmCHvrG9XhVmqkxB\n",
       "Tc5FQNuQbO2QhEYlHs/LCN3bIVW1EC7APHwqC8uKXyxSgU5VYokybC1UsBH6WFKFMVbBchHkSpQV\n",
       "fqmgF8S6ZqWF9HIjFmcpOjQsq/6uNxAxOraL7mo7vYrbQgVHcdVvuZByKG4LaK1zEaCdIpWSKOc6\n",
       "69zIqxVYKqQNi6pTqm1byapGbzqeVo1NbBaznbbQ3OGkozeJOVO0cTeh51SPVemIK6Len6FGYA+B\n",
       "hTBs6YXwcbUZ1xuXj+gNGTalSbkWeEWmzOGqW+ZVgakEWbuiCy6C+0X0qyTCAxxLDpQx9CAjivcI\n",
       "0JvTdqXTBzgXQmoz9jG5zMj8yOL6JGeNcB23mm38GRLp9tarAlEVI/QNOywbk0OcnxxGLPPFFkSC\n",
       "HW3yq8NZ9AqvU2o3dCMlvRAPFzfoqbLiQP++YrT5NugA4tzUXT15I693QZ+APg+4LVQYiD/w+UyV\n",
       "GiU+UwHELecmOg49s0+bizujyRZSN0qeNfcOHZv65eDWGe2edkOfj3Unggij4P2PmZpVUy6U+GUp\n",
       "NTr9f1mmJ4rMuvEPP27mX/+4MfHUu5jHfxg/AaFxCwiEC5EqAAAAAElFTkSuQmCC\n",
       "\" style=\"display:inline;vertical-align:middle;\" /></a><br>"
      ],
      "text/plain": [
       "commutation: forall_{A, B in BOOLEAN} ((A and B) = (B and A))"
      ]
     },
     "execution_count": 33,
     "metadata": {},
     "output_type": "execute_result"
    }
   ],
   "source": [
    "commutation = Forall((A, B), Equals(And(A, B), And(B, A)), domain=Boolean)"
   ]
  },
  {
   "cell_type": "code",
   "execution_count": 34,
   "metadata": {},
   "outputs": [
    {
     "data": {
      "text/html": [
       "<strong id=\"commute\"><a class=\"ProveItLink\" href=\"proofs/commute/thm_proof.ipynb\">commute</a> (conjecture without proof):<br></strong> <a class=\"ProveItLink\" href=\"../__pv_it/theorems/dc8d8e889281ec83f59e0a146a60af0340a7b09e0/theorem_expr.ipynb\"><img src=\"data:image/png;base64,iVBORw0KGgoAAAANSUhEUgAAAK0AAAAWBAMAAABAjAHGAAAAMFBMVEX///8QEBCIiIhmZma6urrM\n",
       "zMxUVFQiIiJERETc3Nzu7u6qqqp2dnaYmJgyMjIAAAAcRTyBAAAAAXRSTlMAQObYZgAAArhJREFU\n",
       "OMutVU1oE1EQ/txk2+xP2pxEUKR40Yu2EIggRSteRJBWD8WbASv0IlYFQVGsIJpWIfFkQKQrHgo9\n",
       "6EIv9mStB6WKxAqCiLrgrZeW/plGap2Zlw2v1RRWfbDDm5nMN+99M/MC/NV6sKF3jL6AN58jwtr9\n",
       "JD6snsrkOta7TAJsKACvWZmOiNtUYLkFiC2KbmmuWUpL2EU290fEfS8nWwHi8wqsreb6UiExQSYP\n",
       "cP2IuJdYGMtAck70E5drDI2SFQ/JMzkyci8irNXHMpEiAAXYsyN0JY0FPj/RXs7lrkTENeTazVmY\n",
       "Fz05ZNAYuo44xA5c+sFpYEBMSh6ef9ErVUFY6oSo8Xx7ZiC0lFiePDN1SxHo+iGTdofJzCSpcIek\n",
       "fLRfUBdJwU3JLizmV5XgHfC8amkUlNYC7M1KhxUoTxwWV9LpY6Mh6R+tiCeWhVPRce0D4kYGeOYp\n",
       "0ybJdJ2xJcOU3JpXdzpT5lahZnNLipzJCyp3C2KBjusOqyY6D+yHjrvEuC28o+J1I+RuexXXCsRm\n",
       "tuTE86QLezwd93hCNvYijGmdB25fnOUMTls4KQ5955gObpiBHjY1YK/EdO7elYWOm41JV8Xnpm5C\n",
       "rxu3r1kOp8+RS92nb6ZaN4xK3Ce0SsxbYKeOm/SNWaEjgNFXxeU2QhNV9+CgTEWVC9XXecoSG+c+\n",
       "ZI7sb2/ycv07wJCv4T5ufyVlTIzD+lHF5Ws2zCyle2+rqWBBk2Hnf3p4ukp1auriEzFezMMQK6DY\n",
       "zoKGuw+WvC3NPuLLa+a4tqSKpm4Zru2OUmTJGoRVgbVN4yFOVK6gSFk93B1f8+5ssCZqlSjDyl81\n",
       "t+LlfLq3Q8PN96P4vXTMd6+lMzdqcWoE6z/PwTqDoyv64+n/4V2vv35LO1YH1ylE+h/6uN5QqoOb\n",
       "xH9cbf8S/AtLBLHrZz6oeQAAAABJRU5ErkJggg==\n",
       "\" style=\"display:inline;vertical-align:middle;\" /></a><br>"
      ],
      "text/plain": [
       "commute: forall_{A, B | A, B} (B and A)"
      ]
     },
     "execution_count": 34,
     "metadata": {},
     "output_type": "execute_result"
    }
   ],
   "source": [
    "commute = Forall((A, B), And(B, A), conditions=[A, B])"
   ]
  },
  {
   "cell_type": "code",
   "execution_count": 35,
   "metadata": {},
   "outputs": [
    {
     "data": {
      "text/html": [
       "<strong id=\"rightward_commutation\"><a class=\"ProveItLink\" href=\"proofs/rightward_commutation/thm_proof.ipynb\">rightward_commutation</a> (conjecture without proof):<br></strong> <a class=\"ProveItLink\" href=\"../__pv_it/theorems/861523f1f68d404a55bf4e9bdb3209b7fd9f8ad70/theorem_expr.ipynb\"><img src=\"data:image/png;base64,iVBORw0KGgoAAAANSUhEUgAAA6sAAAAyBAMAAABITVCgAAAAMFBMVEX///8QEBCIiIhmZma6urrM\n",
       "zMxUVFQiIiJERETc3Nzu7u6qqqp2dnaYmJgyMjIAAAAcRTyBAAAAAXRSTlMAQObYZgAAC2VJREFU\n",
       "eNrtXHtsFMcZ/7x3e+/z+Z8SHiG9UIlQqeBDTiEJRBytVKJWqQ9XTfgjqk8YkIuachFVmpAQjqaF\n",
       "IxD52koJSZp4SaomcVRyKrIaJKJcAlVbmtBVSFPaQOyUthJIDS5+YMzDndc+ZnfWd472qrvzjeX1\n",
       "7Dfffjs7v5n5Zr79eQHKT02Tk0WosnQMGomlUJr+jUxOtkznuqbDzyhV9iiRYgNOPX2TwfvMc9OD\n",
       "NVV1T7KwAaaRooMsI9c4rGFL/Z+fCegddizZVyewHkjy3iVLn2pwela+I+j4W8baun9sdV6Luu4P\n",
       "TmPWf3HXMvUXwmG1ZXxT7rvTqOGHk7u6d+XZiS9fqjlqHdbH+dNm+sDNQyZZ0OFSU9tcEGg3oR6y\n",
       "KsXLblYhvFQVWQDRDaX5AIfmC4tiqOMNFKZRyeuoL1zRetdgqcmrxmENT/DnJ+mfj83i5oT42rPG\n",
       "2Lmg2LU7EXztCU72yjZ0WJUXWOD7FlMP7UZmPZdFRdAZR0Ut5VdSvogOSzXpO44N8mhdwOq3tMbD\n",
       "tD0Pmdty3TbhpfJuHcvXTFDp2q1INhDnZJ/gK1aLLHBJU2+eiw7eFlERtKKW9F4rv5LSKDq0axPF\n",
       "AccGeStfD7AO8PNgMENHnzRiEm5YILzU95W4llVbk3btnah73KCYZR4yCX5LZIFLmolVeJKVE6Ii\n",
       "6MG1vVp+JQPYrfRqbr05WaKf1zisD/GnEn2or4dN4yA06BdeehAyLOdV3lLt2mMA927mZL3kglcF\n",
       "Fvh1FVMPXiJneRDVZRzfd6z8SsbwWrA9rW3WE45bnIk6gFUe4c8DBJ5QkniidawJCpGC6No/oR+a\n",
       "fok9XWgLry2PnVn0CG/hz2zkyFmrBT5AwtQjFx2LqKuUruqmSlYS+2JoLXL70xOf4sQ7+NDFOoDV\n",
       "Y6m9n7SNF4LDaLJczmQQFC4cM/ACyyWhF/X+Nby2hNzzgTQn20GfXm7LWC3wlWDq/lHHIuoqfSO6\n",
       "qZKVxL4Ytmhzbzjj2CSf1gGsTWnLOXnue9qW4TmO4gTvA2wUzVZx8DGYutq2oEFzlNcOoIaRrnCy\n",
       "zxNPq4A3Y7HAJ029icyHIVERdZWxFs1U6UpiXwz/1WepIccmac3XPqydqghWdLjJgBUtMe8RjSkF\n",
       "ZNopvOg6NFSe5LVjqFC6yMl2kIGS0rAwLPBJU/eTtu8XFVFXOaDqsJasJO6n0WtlwNqr1j6srXnB\n",
       "JBxGvw/osIYTepCCS4fQ7zmSQ9f4UStc5rVxj/GNcDKyDYqAhoVhgd9Ka+p0x1qEk39ZkFiw0WId\n",
       "ucrQbN1UyUoSX3wgS2yBdhn1rf8WTWC1DetOECyZnmNhozV63CksWDieY60GwQKJStGGMLRxj+nM\n",
       "crJevGw5rmOhW7AHuoh6EEMRUeCD+TBLWWixjhry4KBuqmQlsS8OIbeJbM0BU0jfngKZ2od1tnWl\n",
       "mWB71568Bus6NsfB66gpQteBHcgS1I+d5dO4LS6DlOW04RPU5rMVToa3TYcUDQvdgmEU38JkAm2b\n",
       "wndA8MUMjMBK3jrqdt6t+rATVJKYMiqJo6FrEsQW9tieomOTRIYYrAT5M+XC2kxcuVoVqIaGLQLU\n",
       "SqGe6wq8MblVg3UDPuC9vh/PTg8CO/iwF5bQ8Htl8jyEey4lAnFO+/uTXctyBd4CvLSrK6ljoVsw\n",
       "jJJbGOqh2zbdihXjqJEfsVrf9HjegNVeSZLRb+G7MLas+3Zii0Stmp2HV3SUwUp2RufLhZXsr5qV\n",
       "6ti22naGD5vya9juBSvaLvWSo6l1mr7tpG2TUSxsFpzUm1JSNjiUElpnsJZbSWTLU0TnL5dqEwTr\n",
       "fuwHsuXCSjT3V8ccHL5ilZw05X87LVsxqfzbZqZluReNsWi26IYpZMv/jdRUoX42gyFY8dATxziE\n",
       "vvU8CX5URYraNvwBYzn58x3rpxXZKJsTFVw+Fp+O5a+hFVHwe4obppAt6b2pXszRoCeBNXq8r+/p\n",
       "8pdMp/v6Xs1UB6zSZVtfzcIMSIH8FIXj2kp4PJd7tHxYY7nc7mJ1PF5kwiaaEaSXv01VeJMGK9oq\n",
       "79FC3aVh9aVYb3HoM3u0zF3DR7upSnTXSsmubJHeNaapc8lBTCfOCWgka7pBg/WrZLJe47S02noM\n",
       "bk4bsHoTcJCcDCSF/k5/qRJtgQjZFQf/AaGddr9ikSJ1eY7AnkX88ZLlK7S8b6iBoi09oMHqB0nV\n",
       "Qt2W9NrRO+GNiOJRTOGIDCwmbmyVcPP6kh649KQZJ6UX4X/KvqizSJE6bBKMSJM4dKRNlSLBj1IN\n",
       "WMuANaLid7hPiobe3mcVeDOeiJijTO/RV7uRl4Xvco9v1XL+OHjIkg077g6bolWK1OEWuz2z+NTh\n",
       "PpAkOK42JmHn9EMN1uAgfnuAV5XROzu+IC1MsRyenlHq7/8ZB+sL9KVCR0C06pTjOS37egqW4FEu\n",
       "4cbvs61irVKkDm/bDZrEXtyPJMl7WvO1kcsNFJ2XTLBnA8tEV6tNm6U0y+VpXLE/8uv7zLAGniJO\n",
       "Ne1Bg3az1agPlkNwO8m2L15E8PdT+H38zs1v7RTtOKhmt8jEOJG4peRZ+i+9a4zOzJXw4akKZ+mw\n",
       "HkIAkVD3s7dALEniyDinhMg02w/Fo2ZYw4R2EC1IQ3DfXKvRj6AV4Ccke4LNnjGyHZLf5mGNWTdJ\n",
       "SB1utFukYuq2CZQS3J6yLc8s+1YX6N/uUb3hQxxf5teXlaJ/ozSswxpD/ouGutfDWsYcWQ+rQX4o\n",
       "l/sRgvV5vxlWIFHHgyv/MMFeR5jb4uy7PQrQt0L70LIIm/Kjtgmp9E2EabRSqZH2UfKy1eI+g9N8\n",
       "by6XiyNYi1pkJmyD1UX6t3tUb/yiyTPKyypE/0ZlV3VYo4oW6v4cLIJemeZWypCmo9XbwcH6d3y4\n",
       "A4KjdhDQkrk3xQLMqBLt5HVylrx8tsBKpdEVZ758JKWp4381sFqk4pNvnsYTPB2tRW2tJl+zPpR7\n",
       "9G8Xqd64mt5hXlYp+rcR6mfdR4L9SnAIjdJTEZr7QT/8Dpd8AHCag5UsX1A/vkZAQLpPaAe4GxlS\n",
       "o0VAZ8EJCN6Ii2E7hP5IYDUUNWl4CcwLE3UZqf8TsEVDyxD/JosmjAi+uxSBd4vchGNO7tG/XaR6\n",
       "4xhn9CIvqxT9m73+0GH1HIO1BW8azsFTx2nuSyoE0DThfSxJxwkHa08W9l9SMaxrC/IcWJvHh0Jg\n",
       "HII92z1JkOfB74fbupO4GCJd7yiUlzOPKeZ16cZQRlfvUgishpYh9qXwm+a96PevJ277j/4Mj1mn\n",
       "RNfo325SvTHb7cA2XlYp+jfbHXDsiIIttwj5VkvwkEvbRFf5w5RQxJvCk7BdmgknePVt5hM954fF\n",
       "6Ekk5Fu526+y7ppco3+7SfWOpUF+UOFllaJ/sxCNGdZw3p6zx4TNqWO4ILgq8kXTGlwTyq0rBNJQ\n",
       "Wkr6zOrY4mH7Sv5XcEQU0xqwzIzu0b9dpHpD5/3v7y7wMlfo32KIslZYo4Lc1LA6X6UKTalON1DF\n",
       "J6W4NZ2WtnCP/u0i1Ruz3UKzeFnl6N+ER9egfzvQv12kehN+ZGuBkzXo31Mlz5AI1qQL9G8Xqd6E\n",
       "r9Aa52SVo3/vhtqH1TsimIRdoX+7SPUmu2syf7pM/xamevjXKtgqWDK5Qv92keqNt63yOC+rGP1b\n",
       "qod/hLQuhd2jfztQvS387LKo3s2oiVc/wcsqRv9mq40ah7WJfz736N9OVG+en10O1dt3Yaytey9f\n",
       "l8rRv+vjIwPWT4K4Tv92ker9f6F/sxhyrX/A56ww1E+SK/RvF6neLpgvSf8Oz60PWH/K18ht+reL\n",
       "VG83zJekf9fL57Ys3X2m07+7oD5ghWX86cymf0eznw3W6vvwrC8OjaSlz/rh2Sr8TPStDTR1F8T4\n",
       "ffgz0f8DyPZUgxWKTcgAAAAASUVORK5CYII=\n",
       "\" style=\"display:inline;vertical-align:middle;\" /></a><br>"
      ],
      "text/plain": [
       "rightward_commutation: forall_{l, m, n in Natural} [forall_{A_{1}, ..A_{_a}.., A_{l}, B, C_{1}, ..C_{_a}.., C_{m}, D_{1}, ..D_{_a}.., D_{n} in BOOLEAN} ((A_{1} and ..A_{_a}.. and A_{l} and B and C_{1} and ..C_{_a}.. and C_{m} and D_{1} and ..D_{_a}.. and D_{n}) =  \\\\ (A_{1} and ..A_{_a}.. and A_{l} and C_{1} and ..C_{_a}.. and C_{m} and B and D_{1} and ..D_{_a}.. and D_{n}))]"
      ]
     },
     "execution_count": 35,
     "metadata": {},
     "output_type": "execute_result"
    }
   ],
   "source": [
    "rightward_commutation = \\\n",
    "    Forall((l, m, n),\n",
    "           Forall((A_1_to_l,B,C_1_to_m,D_1_to_n),\n",
    "                  Equals(And(A_1_to_l, B, C_1_to_m, D_1_to_n),\n",
    "                         And(A_1_to_l, C_1_to_m, B, D_1_to_n)) \\\n",
    "                  .with_wrapping_at(2),\n",
    "                  domain = Boolean), \n",
    "           domain = Natural)"
   ]
  },
  {
   "cell_type": "code",
   "execution_count": 36,
   "metadata": {},
   "outputs": [
    {
     "data": {
      "text/html": [
       "<strong id=\"leftward_commutation\"><a class=\"ProveItLink\" href=\"proofs/leftward_commutation/thm_proof.ipynb\">leftward_commutation</a> (conjecture without proof):<br></strong> <a class=\"ProveItLink\" href=\"../__pv_it/theorems/ad7d2cb00cddddf4081cdaae7ca4bd85d6b1fc6a0/theorem_expr.ipynb\"><img src=\"data:image/png;base64,iVBORw0KGgoAAAANSUhEUgAAA6wAAAAyBAMAAACqkUvZAAAAMFBMVEX///8QEBCIiIhmZma6urrM\n",
       "zMxUVFQiIiJERETc3Nzu7u6qqqp2dnaYmJgyMjIAAAAcRTyBAAAAAXRSTlMAQObYZgAAC2NJREFU\n",
       "eNrtXH1sFMcVf967vfN92f6nBEKaXqhEHKlgI7fQFEccrVSiVq3PrprwR1SfMCAHNeUiKpo4IRxN\n",
       "C5eQyNdWSkiixEtTtcFRybUIJUhEuRSqtjSBU0hT1AB2SvsHSA2ObRxjPtyZ2dmPmX1n30ZndGff\n",
       "INazb9683Z3fzHuzb382QPGlZnIyB2VWjkK1GCWY0H+emPzETbeaQ89pZfYk4VwVTat8V/+x77k/\n",
       "uII1XnYPsriKpa1EBnmlvbJhDTWI5y/OBfBCmYJNT80OWPfGxOCSYj/UQXdWfoDM+81jLd0/c7FO\n",
       "ptAPNnY9EMhJ6uMb0/e7uMUPJnd27zTgvH/a8ahwWB8XT+v0B68bsskCBbrapvxFRLuGzJBV8eKt\n",
       "SPr2LrflIbQsL6rXk5k3kEXvBrUB18lcuMLr+6f1XpUNa2hCPD+p/zhrF9c1433PWUvnoubU7iQ4\n",
       "tDUXb0XSt3V5pYccVmUk9SiApwG7G8BsgDpMDsuMfWK04Ig8Ohtg9UuD/bDu9A5ctsnW9qBd1V0m\n",
       "lq+uyji1m4hsIFq8FUnf1uUjqrJaVidD6b2G3Q1gNkC5RA5tee7VGwqOyFuZWQDrgOi7Akl99Smj\n",
       "NuH6RWhX39dNDPJNMaf2DjJ6N2nFW5H0rS4e5jq/J6n30tu9it0NAHbztTSu9BkB+j/TTfTKhvUh\n",
       "8VTRn+lboWu2/cqgH+26H5K85tXeyju1xwDu3eTCiqhv69LHNPZJ6uP0wmOIHcBskFhMN4NtPN0A\n",
       "Rwpv3SYqH1Z1VDyvZfAEYywQreVxKBvOYn3/Tv7p5Tc00AU3i9rq2JnGR1xYMfRtiRLe5UQUU6d3\n",
       "qFwFNSXfDWpDj8XQZKzWs6zxY1bEOBQcrnxYPVKM8bMx8EJghHi9FVwGAfR1Jwkv8VoM+sjQrBG1\n",
       "FRKe9yaKt8L17TfDu2yPY+o0VPpG1ZakfDeA2dBjMWw2gsXrhcfk48qHtSYhnbPHvqdlOXVxOk7w\n",
       "HsAGzFlFwac/jdrVsjll+DVTu5bMGOVK8VYMfasYXb7AAq4mqdNQWd8A3qRkRyzWZWksBjPT21l4\n",
       "TJoyFQ9rZx6DlRxutWAlW8l7sHWggapPCi/pR5bE06J2PWlUhou3Yuhbxeiynb2JxSV16nwH8gas\n",
       "VoNYrMvSiRq5VgSsffmKh7UpgzjhEPn/oAlrqNlMUgjlAPl/ntVIHz9ZapdFbTpjfKPFW+H6J/+x\n",
       "qHnRBqELe3sKy+okVAbngwGr1SC+lpuXZbF4b4rZN56Nx9YE5sEqGtYdgGyZXuBpozVm3imEpBLO\n",
       "88GEQJZlpdQGUZvOmM5U0VYM/fc/D/O0xUKXPrrZOSark5HcP2jCajU4kmb6ZWksDpKwSewvMLZM\n",
       "eKlNVjys8+WNYzN/d+3NGICs5b4MXiODGLwO/MB2oH4a8J6lQ3EZlJSgDR+RIZ+vOaywzqYpywrX\n",
       "D/w6CaPQKnShb1sHmI5Nncw77xYwYDUbrBuk17DdDk2HrmkGap++wbQWHpPwkA4r22qdKRbWOhbh\n",
       "82WBanBEEpBBCvZe1+CNyS0GIOvpgb7T+6lz2gr84KNRWCHr6JXJCxDq/bS5Nipo/2iya3k6Cw4r\n",
       "rLNpyrRi6vuiZNk/InZ5eWeXvoMV1Dc+njFhtRq2Ctcwbfguji3vvpNWol7qVv5beFAil3RY2QvT\n",
       "hWJhZe9RdVp5vLYOy5KHbfU1/O2FKjq6etnR5nxqvo9ru7NCRkhJBYbieBenOocVaShw2Zq4JxeH\n",
       "YHK6QWmHPTTApIqFlWnuKQ8fHLoiS07a6q+7slWv4HJ3VqCPrKdIKlf8IyTd2vd/Oz5Vqp+7sHa2\n",
       "9PAUChpbL7CcSFkU3d8I+wVrt/qr7etcZTZwTpRLK/BNss0J/LBoZxZYMRZ1aV95d6oPc3oWk8Ia\n",
       "Odbf/2zxW6bT/f37kuUBq3LZMVVTMBfKE1M1jvOd8Hg6/WjxsNan07ty5fF04QmHaE6QXiKZqVpv\n",
       "5bBuoPDzVPf0sPri3NXVZqaeSXePHOlGVGRxZGerQs/vHsPVcbHuOCegWhzlJg7rNyA4aGbJnDur\n",
       "LUfhtoQFq7eZu/aBGDqTzI8qkQYII597JXHg3xDcweXqAlRdEJ9dumKlUfcNVUF0lgc5rH5Q8gU+\n",
       "4b165C54I6x5NFs6IglLWBhbhb68vmzmLT0JBycFEfeRyXGKy2Ejqm6Kg4db8ko48GG8CmsRsIbz\n",
       "9Fvt09jS2/28Bm9Gm8P2LNO7+hff8O9Qds+xLUbNHwXPoFNBEtOo3sHlcDuqbopPHeoHRYFj+aoT\n",
       "nqL8hMMaGKRfCeiuMnJXxxeVxXFeo+6ZlIMHfynA+pL+raGjFtt1qtG0UX0tDkuRnb4oVigy/VwO\n",
       "b6PqhthL55GieE8bsTZ8uQpi4S0TPLEe9FR3ZHW+ZpOS4LWMnlc8GP79fXZYa59hQTXhIYt2k2zT\n",
       "BysgsI1V25Y0Eks+GVldbC5Gc2600Zya0yIX08LylopnmZk5Uy7NzZ1waMqd8DwD1gMEIJbqfv52\n",
       "qI95crymBZmbPQi5I3ZYQ4wwEMkqQ3DfzbLND6EJ4Oesepx6T/VtGdbjgq+tz9nkcIvToi7WwzaD\n",
       "UoE7447tmfTeWgL6N87ZdkcJ/4AmimP4O8oM0b9JGTFgrSfxS091ryPnOnNkHawG9aF0+qcE1hf9\n",
       "dliBJR33t/51gn9dsI/FuXd6NdA3uk+R/VCWf7CwFV1srlYycME8l1Puco9T3aA035tOp6ME1pyR\n",
       "mAk5YC0h/RvjbLulhM8n8f8S3jRD9G8ymlcNWCOaker+HDRCn6rXWlVI6KvV2yHA+i96+BoELjlB\n",
       "IFvmvjhPMJN7aMs4YWXiyMozXzlMjXlSxifmK/pvGvQ41Yn45JunqYPXV2vOpERfk5+pdPRvnLPt\n",
       "jhJO7887gl90pujfZqqfzx4F9miBIbJKT4X12o8Pwp9py/sApwVY2faFPOA1BgLRfdI4wHeIoXwk\n",
       "B+QsMAGBW9hXRKvdFIeWwsJQjvbYBsG/UQ2VyCn7tUdU5+I/pojDCNOrK2F4Jyf4G3spHf0b52y7\n",
       "o4TT5GZkGL/oTNG/+fcPA1bPUWjPehNwHp45pte+lIda4iW8j8X0dSLA2puCPZ/mKaztWXUBtGfo\n",
       "IVs7DoHebZ4YqAvhLyMt3TGdpbOQt2cs8YZgkqi1ZyHc9SeNq3dpDFZZnYp9cfpFeTf5/8/jX/2f\n",
       "+QiPyS6rZPRvnLPtkhJOaWt7e/CLzhT9m78e2NkRWUetkcRWKXkolB6slz+kE4r0E812YtWSoWaq\n",
       "lpXl1CKi7oclZOQVEluFy6+Sbqd09G+cs+2SEl6fAHWrhl90pujfPEfTju2bC+2gZVg7RrJIr/Ad\n",
       "AIcM59K00jqxasGEEvPdYfU9ZLfoVIffwmEspzUgea7S0b9xzrZLSnjnA+/tyuJNpaB/F8AoJcEa\n",
       "QWpTw1q4lwBCHhfbehSn7iid0rCWjv6Nc7ZdUsJJKA7Ow5tmjv7NGHFV+jdO/8Y52y4p4fQTRlMW\n",
       "barSv6coniEM1lgJ6N84ZzvhjhJOQ2dTFG2aOfr3Lqh4WL2jiBMuCf0b52y7o4Sz1+rNMSvRXmL6\n",
       "N15mwa9WwRZky1QS+jfO2XZHCaehWB23JdpvBP1bmQW/CClvhUtH/0Y52wUo4aZlRtm29OvITFn9\n",
       "pC3RfiPo33y7Udmw1oi5+NLRvwtwtlFKuGmZVUx938Wxlu7d9kT7jaB/z4o/MiDTL0pP/8ao2S4p\n",
       "4Wai/UbQv3luucL/gM85NNU/3bsdUgrRv7HizrKRaMfnZYnp36GbZwWsvxDvqOT0b6y4tGwk2lHI\n",
       "S03/niV/bkua7XOe/t0FswJWWC6eznH6dyT1mWAtvz8864tCtZjlM/7h2TL8M9FfroJpxSD+1fDE\n",
       "5Cf/BzGubapFesDlAAAAAElFTkSuQmCC\n",
       "\" style=\"display:inline;vertical-align:middle;\" /></a><br>"
      ],
      "text/plain": [
       "leftward_commutation: forall_{l, m, n in Natural} [forall_{A_{1}, ..A_{_a}.., A_{l}, B_{1}, ..B_{_a}.., B_{m}, C, D_{1}, ..D_{_a}.., D_{n} in BOOLEAN} ((A_{1} and ..A_{_a}.. and A_{l} and B_{1} and ..B_{_a}.. and B_{m} and C and D_{1} and ..D_{_a}.. and D_{n}) =  \\\\ (A_{1} and ..A_{_a}.. and A_{l} and C and B_{1} and ..B_{_a}.. and B_{m} and D_{1} and ..D_{_a}.. and D_{n}))]"
      ]
     },
     "execution_count": 36,
     "metadata": {},
     "output_type": "execute_result"
    }
   ],
   "source": [
    "leftward_commutation = \\\n",
    "    Forall((l, m, n),\n",
    "           Forall((A_1_to_l,B_1_to_m,C,D_1_to_n), \n",
    "                  Equals(And(A_1_to_l, B_1_to_m, C, D_1_to_n), \n",
    "                         And(A_1_to_l, C, B_1_to_m, D_1_to_n)) \\\n",
    "                  .with_wrapping_at(2),\n",
    "                  domain=Boolean), \n",
    "           domain = Natural)"
   ]
  },
  {
   "cell_type": "code",
   "execution_count": 37,
   "metadata": {},
   "outputs": [
    {
     "data": {
      "text/html": [
       "<strong id=\"rightward_commute\"><a class=\"ProveItLink\" href=\"proofs/rightward_commute/thm_proof.ipynb\">rightward_commute</a> (conjecture without proof):<br></strong> <a class=\"ProveItLink\" href=\"../__pv_it/theorems/9a1ebfc912b746cd8f749fc32f5028c7003bb7d20/theorem_expr.ipynb\"><img src=\"data:image/png;base64,iVBORw0KGgoAAAANSUhEUgAABGgAAAAZBAMAAACflQV0AAAAMFBMVEX///8QEBCIiIhmZma6urrM\n",
       "zMxUVFQiIiJERETc3Nzu7u6qqqp2dnaYmJgyMjIAAAAcRTyBAAAAAXRSTlMAQObYZgAACjxJREFU\n",
       "aN7tW2tsXEcVPr67dx93d23/gKqvwDZIrYtIvZWLU4qrbEAiFQhl7YiSHxFdxU0wVdsYgpISGmJA\n",
       "OG4K8gqk1Co0vmkRTV2aLlgRrdQKk5RXQmBpQhVoSgzlT/uDmDydtIk5M3PndWfWvishUSk70t6d\n",
       "OfPNmeOZb86cmbsGiJ6+uLkCzXSlp/jmhxuBDzZHrJkw7WyS5n+VnrgS/sgXGWmmydcbEUnTSr5y\n",
       "tSZDzOQN0S93urFmX7Cp6uh/ID0VXceTw921H1lrXpvr7x4paqLchtn1I19qwMLX5oYHhnlckqhQ\n",
       "0hwi+bcjkiZbxa9Wv0kRM7WycW2dUWTpOlglNDxpQd9Qg8ytNRsabMqdRQCTi6xVcDVA7Kwua0Na\n",
       "n6g2YORlZNo7nM/TlDRjpN1QRNJQ4FiTIZZ0hH39/aJKpIId+6Zc9yd9A71nCz6WVSxonaUB3NuO\n",
       "KmIXbFXgXsLA9bQuuyeP8PboRrqn8HErl+6npCF+I1uNGtMQl3SoyRBL+hqbwUl19lZvsULd7YIp\n",
       "zyrk4Oh/kNrlNrSWOLz1WnKkabdVgYPW5E7pss4Swi9FN9Ihnmold3y7KWlyBycmHoscCB+fmHim\n",
       "GQ/bNgs2KjnnjCK8d7EVm/hEnmdrncUwOka3glU2tJa48mVkxbsFWxWkkEu7t+iyUWLtu9GNTJEN\n",
       "d5yHWK1FenqaHRl5ODJp2kZGtk81KWImh83apzPKGvamk1bsXnEOjfu/rIXR47TyGQtaj5YDePo8\n",
       "LVXA1m9bGdxNvi6bJf2ei25kGwlJVpYDcbZASbMO4JHIpEmUINW84bOkFJ18r+iekrJs1b7vHxI7\n",
       "/I9phKGj/5Svh9YSh2dP1a3C+OWBV7dXdRk10Hk3upHUwk7uKXLTlDSfJCGxtyEaaeIFpCAdJDt1\n",
       "BP3uOn1ggEGO9U/dbAJzwz2OouKucxyuJV0cFzM0H2+1SmlGXUus9tQ3KTBl9P5ubaklq8zCNAk7\n",
       "VwcySE/bx3FXkCvCeIGPPUdvKwVBxVAYrSUOT56tW4VzXQHvKl1GQ5TEGaF+QSNJDAQb+C6aGaSk\n",
       "SYKDq2RFndFxN74CN5QFafCzhOZPFK1DL3b0XDtkaXC2Kw972s0Q4J/gfVNt2A7uNRZ9mjjFM/bO\n",
       "bZXCjLqW2O2pb1KQ/gzQq1KqhfZ6d1c3ev9VS5nsVerGzT8qTxw2Hdz+rg1DfOw5+oN0O/HdrsEQ\n",
       "Wk8c3kKPa56tCoD8SZ1VTUZDlLZ2rn5hI0kMBP8RfJihpMnWyKZ2wDYyzx64E17I+jFfkuYw2+q8\n",
       "ZdYbvqfEjh4rQ4b8OWmkUc480Y/jGB9TygiH9aY+XcxJIzt3tLBCr3QUM5yQJdoOkDfsccJ9G3jo\n",
       "xuVaNkiDjw+AWIEYgd5t8xE+uGXuOlum+dhz9Da6oEsQHwyh9cThSXoxtM9WBUBCl868JqMhyoka\n",
       "V7+wkSQGyl0KkSY9TRp9z8a2Rx/34eV8ISu3J9jFVGWftp7uD24UneYhRtxeEjdD1wz/Sejdp9qI\n",
       "kJsspmtiThrZ+edV6rKCqKTFwAySVyxxt6q+dKthD2/K+zbx8BWk1mB4e8rg58uCNJmCuPLT0iR+\n",
       "3qI5bJNsD8ZeoOkhHIc8mFWJ1pKAsxuaKVsVvaZhO4uUkRDFu1qoX9BIGgPtFss+zrYneORefJCu\n",
       "c3f2fci5sRTkSLRDOLzv+yppUjvpkupL2e4D3fwIzz5fgluIg+rEh2dcNDjECU0oAoTDr0yFupiT\n",
       "Rna+Q92OWUFU0mJgBskrlqT2qjHQXsMe3pT3beDBw8gg2x4OhH8YXPGuEHfEGcvaeiuYE0hX2Q3y\n",
       "BQ09Toh9UMyqQJsX0BSeJpOa9eHIXxYXFq/T+yXXNO6sLiMhyt5poX5BI0kM5P0bqH4ZCMMkNnfJ\n",
       "AOSW11ruc8pBrsJeS+3LPrdGIU2G7dflGBbuM872sBTSbFWuXNJBXdJDrCYETYYptxI/D5oaA3GI\n",
       "NKJzd0p5aRYUSOVjNV5kZtC8Yska9fUZKej2BE2lSQYe4jjXCZWx5ChK72pGK5w0qwPvD88j0LsM\n",
       "wYNGoEnCXnI9lrrAxl6iyaF90uezKtFCC8lIOOChPXMHwNFFcJV/o6YJWlHz8h26DEkd3wiCNKaR\n",
       "VL3slrB6RYHqJxFebIqRpg2p7RDQ4zdBW5FIac73Cmy3nDqgkAboCS9XdWZgzbVh0rwOnQDfodk/\n",
       "Br6dne3C0LbwXQ/C4XpTIxOHSCM7T/kpZa3TAq1MlXiRmUHziiU7QCEJKej2iKbcJAMPWRzZFrUR\n",
       "zoE3etmHF+Y2ctIQBw7k5ixJls8mCB4J4qodHPM9c29DZvR8gY69RMNTw/1FMasCLbXQjIR7t6+/\n",
       "DQn75CCcgR5NU+Lkua6BR3VbHpzrX//tiiSNaSTNiG5RR/fAx5h+4o5bS4w0OSRUim72a6E3ODuu\n",
       "heXgPjQy8i0kzRNJlTR/ozc/Pb+7GDBXvVR68w+jPjCn/V30s9UgWHjOgJL4wlPjEYRn2k2NgVgn\n",
       "jex8FXJE1LICrWwRRWYGzUtL3ALSW7gVUtDtEU0Dk0w8pLDBzyyvEVhaEZynCdw8rdOnciBiY2+g\n",
       "2awaaHFYD8ETefRYX6/XrykLSBPVSNRPX1U8DfL3NC2fI8/3QweMuyzX40KZeZp4n0oamu6A9Flz\n",
       "ivGUNV4KXn6+g/6dEPp2FqWFoDGyWCH38Tc++lKJw3cXTY1MfOTl4yppZOe4dUgXwAq0ckwUmRk0\n",
       "Ly1J+PL0zgq6PaJpYJKJh7YqeO8jDYS3OWKQJmpiY2/OW2Ova1pKzlB6phQZ36B61B+bKvEXlsF+\n",
       "4cCYn55BD3Msy3Jf3Qe/JjVHAY6HSRPHRXmJjidCd/AHfBb11HJTgKX0RUhfTzLJGvy0YkK3gvd7\n",
       "yNwC12Uo3EX4v+jmKjFS/POhpEIa2Tl54fI6h7MCqzzO65gZLC8tWUV2Md4HLWj2MLg0yYa/x4dd\n",
       "Rch0yDFR7xR/0dB0tDlWcaaxWR1HX5Abiv6Kp0H1qD/5mRL/aUSw9F+B3mq8jEHzzoMs95EapNBJ\n",
       "x79RxPg2RJrRIRg7XyPj2Vt1r4HeCnlUU7OQHt0aK4J7Hfz2dNcAzcBvej7Mhl6FQrZ/P26K67xB\n",
       "Ae/3KQwLDFOR4kRptUIa2XmC7Ksczgqs8jZex8xgeWkJiW2HuDG0oNkjmgYmWfDZbV3dGHzCOld4\n",
       "Ok/6vB9sW9vIdODY264bl57LN6LlU3gQSt/vR37B2qB61O8cDpaG+nPPqpHrwJhGf40Qvl8yGyUz\n",
       "7L6C0XleKAxmChqcwGQhI6/FlxS1G+EA6qlXoWphsKoVNRy2IyMrRlctMHs0+Lx4GHSOCuAV8XPP\n",
       "v4JOmkzFzBnvntTUd7pqaZS9OfglKUkvzgv1yk4xocIJTBRk7ifwUi1MGgKtm/bXfzc1XztuT1Q8\n",
       "NsgcvgJfziqkyVly85KmfqOakZlXf81eMF5UpKCZ3mOkWTht/j//31OsOV/vgRTfvOm/+Zps/cSS\n",
       "TOIAAAAASUVORK5CYII=\n",
       "\" style=\"display:inline;vertical-align:middle;\" /></a><br>"
      ],
      "text/plain": [
       "rightward_commute: forall_{l, m, n in Natural} [forall_{A_{1}, ..A_{_a}.., A_{l}, B, C_{1}, ..C_{_a}.., C_{m}, D_{1}, ..D_{_a}.., D_{n} | A_{1} and ..A_{_a}.. and A_{l} and B and C_{1} and ..C_{_a}.. and C_{m} and D_{1} and ..D_{_a}.. and D_{n}} (A_{1} and ..A_{_a}.. and A_{l} and C_{1} and ..C_{_a}.. and C_{m} and B and D_{1} and ..D_{_a}.. and D_{n})]"
      ]
     },
     "execution_count": 37,
     "metadata": {},
     "output_type": "execute_result"
    }
   ],
   "source": [
    "rightward_commute = \\\n",
    "    Forall((l, m, n), \n",
    "           Forall((A_1_to_l,B,C_1_to_m,D_1_to_n), \n",
    "                  And(A_1_to_l, C_1_to_m, B, D_1_to_n),\n",
    "                  conditions=[And(A_1_to_l, B, C_1_to_m, D_1_to_n)]),\n",
    "           domain = Natural)"
   ]
  },
  {
   "cell_type": "code",
   "execution_count": 38,
   "metadata": {},
   "outputs": [
    {
     "data": {
      "text/html": [
       "<strong id=\"leftward_commute\"><a class=\"ProveItLink\" href=\"proofs/leftward_commute/thm_proof.ipynb\">leftward_commute</a> (conjecture without proof):<br></strong> <a class=\"ProveItLink\" href=\"../__pv_it/theorems/fb675262258987168ba21d5b5778118565fede9b0/theorem_expr.ipynb\"><img src=\"data:image/png;base64,iVBORw0KGgoAAAANSUhEUgAABGoAAAAZBAMAAACbYNVJAAAAMFBMVEX///8QEBCIiIhmZma6urrM\n",
       "zMxUVFQiIiJERETc3Nzu7u6qqqp2dnaYmJgyMjIAAAAcRTyBAAAAAXRSTlMAQObYZgAACidJREFU\n",
       "aN7tW2tsHFcVPh7v7Htt/0hL+ghaUtQGieBFjhwILtmARCok5LWjppGI8Cppg4lKbQhyUNvQbSiO\n",
       "64K8gJRaLcTjgpLUFWGoFdFKjbpNioAE0JKUqtAUL5Q/7Q9inMRxUpxw34+ZO2ZWQqJS9kqeveee\n",
       "b845O/ebc8/cWQOEb1/eXYZGu+5bZPfD9cAHG1es0XDb32DN/6olqtfDt3yRsqaGP94KyZoW/JGp\n",
       "NihiaIfpx5fqO8uuGQafGe6s/kgfev3a9s6RfGizmYH5jv7HzLrXrw33D9dRa2QGFnaMfIUJ0TJh\n",
       "zSncfzcka9Iu+mhxGhQxtHfoxzl1LGBuErLbMutHWysApld4kMsBmi+Gt9xUAlhfMDu9ipjwnjEa\n",
       "MAbfipg949J+skZYM47PK4VkDQGONxhiuiNz9OOcek+9bca25ET3r1d86OQ+ZKL5so60F1EZej68\n",
       "5T60IHTnjCp7Dh0+boxGa8JFXxbF08aE44Q1OHOk3bB1DU5KpxoUMbQYvTWfW69kAXufOS1veZD3\n",
       "ktOXfeiWm/GDSpuOtBAuMxfecjsKYyZrVFk4ZXVXDdHoa6dw0Y5yVmSRCZOENZmTU1NPhq6Gz05N\n",
       "Pdsoik2NXcNqu1J8RD+TNWLvXSkylHXBh16P72E7pyPjiEWTD4a3/Chi5AccoyqOF8WJiiEarUkX\n",
       "Y3g5+jfPTHnyDLUwMvJwaNa0jozsqzQoYmi30b0M52XlWeGI+bEzWYvx7udTi1504hLBlHVkaxHs\n",
       "ISe85XmAe3aaVa24zOguGqLRmnSxgL/YPBPSOcKa+wAeD82aaAHija0+U/seOf6UFAG8nTKv5mmX\n",
       "lwTJvD3nRafnTMi+r57e54a3bM+/teqhAKckwvaKX6E34YKEaPFck6kR1nwW18XJgXCsieQQB0ma\n",
       "M3NH8O+u8yf6/ZDIWFenRtHMcJeFYXfNm+Ce4QjvLElcTWkOIyAYJR6ivr8z+HbyBUznKA8T6F60\n",
       "S/yCHTCWQJCo8W+UQBXuwVkVHbtoQqI6JXljeMu4DJosmp3iMgUG8rDFq/DO9gGlDorylTQ1SFgT\n",
       "Awsl1Y1B+wm7XoUPFQVr0N9q0p8x7h1kxCqdaYN0mx/wR4BX1KfBv0PyUQa3bzLY04bjvDOz1MaF\n",
       "pgwIwxiMGg9T9wTS0xfwMnK1tncMlMDuoLk9k8W52d9OkwSP2+aOTpT+I4Mquok8VSU9SBxVuxva\n",
       "Mi6DrPfMTnGZAv+CTWu9Cv0LChekDmrlV9GeJaxJV/G6dsJ0aZ47cSe8kHaaHcma39PVLrneuNX3\n",
       "E7FKNxchdcUP6AR4WanRJtAMv8HgsMMP14c5a6RzSwVbutLyhKGVj1l/MFklHq6OFoP8+AJexrJh\n",
       "U43TAGIO2EXDVUJF7WZgqQk+SEsFiY6RzHPUg8RlRXs2tGVUBoE1Z3aKy5TMokgUUqGnLeGC1EEz\n",
       "VZ01idpmsSx76PbEUw4cy+bScoWCA9RU+pDxIf/kLuE0C82GxPd1gE8rIi7Dexkc7jCErg1z1kjn\n",
       "96jcpYJQElGGYe9RM+geXzBkiMUj1NZgkB9fwGSFQgVCrE2wZlru/akthQJsIUkshf6+hr5XVUXT\n",
       "nZqKjsTbNXhVCWsZb9dELxhVpEyZLHHWSIXepAtcByWXi3WdrlDw+L3ogEPN3Nl7m3V7gfVwxYNJ\n",
       "f/QHKmvi+8kC0Bs3bQza2RHe/XkBPubfUkheBEvZh7ZwGphicO9q4R/mrJHOR1ViUkEoiSjDiB9R\n",
       "a58jvmDwEI+Hq8Xq5vfjCxjfdgmXbvayuX2HXXzvTlyZzhXA03QvubWsohN4VtOOjsR1ir0Q3jLe\n",
       "rukrwZk/rcytvM9jCn2v5D+Bs0Yq/Fvd06IOOlJjnODVMEyjSGx8eTIbqk07rSLrlekrqqPpn21V\n",
       "WJOiq2GxGQk7fY/4sBYS9J7uXr0KGYp6iBOZOz2sphJBvW7094DfIhv2sEY4tyvKCzQmYOWTVS7K\n",
       "MLaqr8+IoAeDh3g8VI2mP1oj5xr86JGxJR7v2cQv87kllStK9JC8imlW44ctbF2ABIaNlaFHQwN6\n",
       "dk+to/tvHAktaH42jAZbJh0F/zcEXe7AayvgRud2jyn0vTbmBGuEQgRIbMlwMK8juzgnoLlCWdOK\n",
       "MpCFQU/dAa15PEp6TjJHF9jKCYU1QBbLjGvNwtabvax5E9oBvkO6f8AJ3H7Fw5p0TSR9smKKxz8E\n",
       "h1v9FumwhzXSedyJK/mDCEQZL3BRhjEKSnYkgh4MHuLxcDU0Vci5Bj96ZHQODl97F1Jjl3JsbqM4\n",
       "K1u4RBrCM1DkB5zaYSWanbGrDrxwbRes0tHJT+xYw/bfGBKi5+Y7+p8ACLY8pOEfwO86XUg8MwgX\n",
       "oMtrqrP/kyBYIxQywCHNBbK149tlxglEugJlTQZfF1L/bUO0j7m0twHsb46M7EWs+XFMZc1fyA5Q\n",
       "12+uMOqq68/bvxtzgCb176LS0mVkVa54BRJKZR9Ds5SsMniqzW+RDeuskc43IZIILRWIskmIIgw7\n",
       "hzgt0gURtGDIEItHqOEX9H4z+NEjk28UxNrPNwr8jzpkibeVgb1BaB+yXsvRLFpEHjKbYqwxKAJc\n",
       "YE4AHAL5+5qmu/HxBkT7CZv2umwo0lwT6VVZQ9o6SFz0zzF61poosDehaDq6yz7WtLoQuQxnjp35\n",
       "4q/ICfiW5vDJvN8iHT5z7KzKGukcrVIygVCBKMeFKMJAC43MF1TQgiFDLB6hTi6jrDH40SMD8fZS\n",
       "mdvQ7YZCaGidlpsKVikxG2B+Y537mIQT7O0lm04Lxp3ELOLTG2na+8ZRIDP7GsBZL2siKD8skolD\n",
       "0FF+gC8gO9UMuoNHIXEFEreSSy71CDHhwPcr8HytyX0Jnwt7IPlbjLAR/B9kfZVwOfx8KaawRjrH\n",
       "72re5HAqUOVZrpNhbMKLF7dLBD0YOkTiYf0+Bw7kgeUprx9PZNoGJ90Jq6PNZkND67Q8gbJNphTw\n",
       "CuiX9ZGGcoL9UoKliVehx40UUeW8/yTtfbQKcZSJI9/KoyLXw5qxEoxfquKJ63Htm6CnjA9ufAES\n",
       "Y3ua82DfAr8+39HPLvktTF/ucdOPdHQ+hl9LHII1+FxIbz/uMPh2h7BGwuVwtLBFYY10jgvVOIdT\n",
       "gSrXcJ0MAxfPJR4rEfRgyBCNR6rX0YrQ4McTGW6H5fVdO5+tZz668qFnrk7Ln0OPSIn7HaPuh49s\n",
       "q4s1jBNl0H8B6vp6q0b2et4oePeU/CfFUnQfgm8VSUFgY+iRbtCVckq1KAVpBVbntb1hBk2KPVTQ\n",
       "BWRc06Ew8JUTV08VWDDqkIZF5wb6EZGRGb0ufuL4Z9BZkyr7e773UGrrPe8aTkp/hP24FBdZ7Z+S\n",
       "gsQehA/DtrKUX1QtCkH2DsJLVS9rMDSwHde/AAkjqLFggtqS54rIrrOmsCZj6C3JmuCTtCtZDTKb\n",
       "WRoOvvmIQ6O931jz39vu//P/QzU35uv90CK7h/4DtQ6MjlJbWK4AAAAASUVORK5CYII=\n",
       "\" style=\"display:inline;vertical-align:middle;\" /></a><br>"
      ],
      "text/plain": [
       "leftward_commute: forall_{l, m, n in Natural} [forall_{A_{1}, ..A_{_a}.., A_{l}, B_{1}, ..B_{_a}.., B_{m}, C, D_{1}, ..D_{_a}.., D_{n} | A_{1} and ..A_{_a}.. and A_{l} and B_{1} and ..B_{_a}.. and B_{m} and C and D_{1} and ..D_{_a}.. and D_{n}} (A_{1} and ..A_{_a}.. and A_{l} and C and B_{1} and ..B_{_a}.. and B_{m} and D_{1} and ..D_{_a}.. and D_{n})]"
      ]
     },
     "execution_count": 38,
     "metadata": {},
     "output_type": "execute_result"
    }
   ],
   "source": [
    "leftward_commute = \\\n",
    "    Forall((l, m, n), \n",
    "           Forall((A_1_to_l,B_1_to_m,C,D_1_to_n), \n",
    "                  And(A_1_to_l, C, B_1_to_m,D_1_to_n),\n",
    "                  conditions=[And(A_1_to_l, B_1_to_m, C, D_1_to_n)]),\n",
    "           domain = Natural)"
   ]
  },
  {
   "cell_type": "code",
   "execution_count": 39,
   "metadata": {},
   "outputs": [
    {
     "data": {
      "text/html": [
       "<strong id=\"association\"><a class=\"ProveItLink\" href=\"proofs/association/thm_proof.ipynb\">association</a> (conjecture without proof):<br></strong> <a class=\"ProveItLink\" href=\"../__pv_it/theorems/5d92ad6336cf04011652bc6b741b54d9457c164e0/theorem_expr.ipynb\"><img src=\"data:image/png;base64,iVBORw0KGgoAAAANSUhEUgAAA2wAAAAyBAMAAADSLkV4AAAAMFBMVEX///8QEBCIiIhmZma6urrM\n",
       "zMxUVFQiIiJERETc3Nzu7u6qqqp2dnaYmJgyMjIAAAAcRTyBAAAAAXRSTlMAQObYZgAACsVJREFU\n",
       "eNrtXHtsU9cZ/3L9yr22E/5ZHzA6l0k0TIO4SgespIrZpDGtWutkWts/qsUiMDG0DVdMW0tLMXuA\n",
       "WVvF26SWditxH9ogXam3KGqRqOot3StrizU6Da0QstH+AdLaNA8goTQ7z/s491zHxhcll3CiOOd+\n",
       "/r7P557feXznu78YoPJSNz1dhDlRXof5WLQU/Xtk+sNqzOoOPZmfE+2PFOclbHAH/XPgyd9VBVty\n",
       "jjR/6fxEDaLDrNLuRdjCC6zXT19Z4IRzjm896mXYnklYl/wM+RMYrs7LNySjecvZlk0/rmL0l9HX\n",
       "mrq+o1axmD+7a2XpV7T6rRnv3JOw/ch62UBHZ8OISeY0YE3yD4yqqt8hGgFtSbvcyYugbza5sQTh\n",
       "m0szNUhXVxYD9C2m9YMzrjNehC08Zb0+Sv8MmcWnHGwNefQDI7xqiLNKJ+rnO+N2uZMXQd9ksn8b\n",
       "emnLzdQgrq7tRq3xTbKIK+Z47w95F7aQ0JkP0BvvmzREgd3ykNckf8HUp/dsY5VmJDsZs8udvAj6\n",
       "JpP/YJW1MzaIqzcsRC9+Npe0BY73/lrOs7CdtC44aprOHmXckAW/IB+wJnmp2dghNyxhlZ2oz67N\n",
       "2+VOXgR9w8R3Ab9+bcYG8U9oK2Bs+Xh8d6Yh60XY7rdeKvROvhK+aMgOQlpqasj9+df0jUcbDrHa\n",
       "WYC7N4Nd7uTFqm8y6SEaB2ZqEFdXz5ErPh4HnIOgKa/CFhi3XteT7tcSgVG86FDZ39GPrBjy56Ez\n",
       "BtoWupcUIgXq+uyJpgcNL7rcyQvXNyUCmMkRNrkCmbIN4uqRUYt4iMjeJ8W6I2ijXoXNJ6z8IXLj\n",
       "flDH0Kq0isrSsE9qa8gT0IM6ZB31ACo9PChoe3wmpXvR5U5emL65McxkB+2qQEu6bIO4emjCIn7Z\n",
       "+e7f9ypsdSnhmuxRd7WsPA8ch2gMgrK2GvJAV8uWDF+N/gGwkU5cNCKUC9yLIXfywvWNwk0+RTa8\n",
       "PPjTZRvE1evI2qfpAarz3TfnPApbZ0kGG3q5QYctlIdASja4dbkf2aFx/hi5QNHcXaTSiN5URnXY\n",
       "dLmTF65vFG6yg5xUkhw2pwZx9RA5c/ZXAFtPyaOwNecki2QY/d6nw9aHfk9LTA05sgmhqULODOE4\n",
       "P7LjEREc514MuZMXpn/0n0viSzZaTMjpIgIcNocG6er0xFYknvhdsL0tJVtrPAjbTpCEJL9kaQ/a\n",
       "4adZT4lFl6sFklUJLOBZlnCcj4jODPdiyB28cP23F8M1+aUWkx4ckgzqsDk0SFdX8ZSN5LGn63lI\n",
       "Ii/1aY/Cdp0YjcXZ2a07xzqchG8hvLu8hBZC7WNWMcmfwB0wCQqJ8+5hyxU6I6N+vi7PYdPlxFh3\n",
       "ZXhh+uqzaRiHVosJPo305TlsuglxYDTI+GR0GgnfCtgT3uVane8+MkJhI5HMiUphayAbbGkWUdPG\n",
       "BAHqGa374zy8Mr2VdXgQ73YKHu8hvKR8n1d0+f7pMxDuPhevJ2H6BvyCj73fne5amS3oc1aXE2Pd\n",
       "leGd6wdjaNo+aDGB53Z1JYDDZphgB0aDDHVt9TdvwYoxkil5z/n2oxMUNnKeOFMpbOSY0ZCfzWPb\n",
       "qCh5wFRfx+INVOxLg01e93UWzSC3IHqRyOVeUL8oGXUkKTOhsDk1yKZel/QVk6ClZ7r9dtiLl9ZM\n",
       "pbARzb2zmki+IEqOVnbikZRGRS6vzgv0oFkSzRSlrU1X6Sl0e7JcKpktNu1k6siTAdK97Qw58s9i\n",
       "iU7Ydmkj2vvFjvVVndzlnJQqvcCXUGyhflu2BKmrzsaq86S8We7BDc2nYdiig729T1Qekhzv7T2Q\n",
       "nk3YlEnbAMzAlVX2lHvzPIskz2ezD1UOW2M2u7s4m/cUmbKJrjBSQjRX7t0bGGwbMbwsqTozbMEk\n",
       "W5Tqc+VHypfHBjZJVERxdFerIlE71lVc5rCwTcG8Ltcy2L4I2rCez7FHLltfhxtTBmz+OFt6Tyak\n",
       "I0VPz0cXQETyuE8Qq/8Fbadda18M9pu0hlasWsPrwZH5Ddt9DLYQKCWHRzwvDNwGr0TyvrzpuJ2G\n",
       "5WRDaZMe3p7TH3r5Ujb2gETcg8A/Zt/JEfhRtmNph1tKSkR9J3kVNgtskRJ+VPeYbOo88lQeXo3F\n",
       "I+YsyZv0gV/kN1KexeBWPVUYA9+wXUEQ4121w66Eds8AC8GOHeoFRYHB0tVFkpQfMNjUYZyExvFZ\n",
       "9LaOTytLk6yGl09U+vt/boFtH01ld9TL4rdALMurLyVhhSQmtooVjEGvTakZ54Golh+PDkXxH+cb\n",
       "YGRyfsPGQxLYswFoUjW6tlS3WUmxWo7mvfojL95rhq3+cbKppXxo0m0WfQZhFajbSfXO5U3IU1BE\n",
       "jor1aUWxF7VMtAOSTVN8N+v5HmXiMkaSNXsK51xMLEh9XcNh60MAkKTqUzdBY8JXZLW8RpbBfigO\n",
       "mGELk0e/0YIyAvcuFH2+A80APyHVtwBugsAfRNiI2EhTkLOETesj02ZJoFLg80lb0COc21ygt2JP\n",
       "NVJcbdRUt2muYxy2RrSL0KTqenRNn/Gvh7UQuD+b/SGC7emQGTYgSbGDrX+dYslrcxNPvdGdBxoC\n",
       "PorijQLLlJsKFZs3Ma1k08I73ou0enc2m40h2Io82xC2weYevZV4qo3ielA0c5nmqn3EYYvmeVL1\n",
       "E9AEPQFaaw1Ais42f4cFtn/jl1tBnbDDhkLOniRLcF5AC2LODhsRR9ec+Nxh7MyXIQ8TRa3VQJ4Z\n",
       "vnocL7t0thV5BBS4KN6Je/RW4qk2iivPJ14umitPJbPVSoG9eXUEzbJjEVr7Xj/8Cb/zNsBxC2wk\n",
       "UEBNvUhgQ7o/5S/wVeSoFC0CulKnQP0kAcR4XxeHV8CicBFbbAftb3atUAl+m4PfZ9A0j+DPVCLw\n",
       "RtGySpiLe/RW4qk2iiunpl4umivNpLcbSdX2gj8Fp+HxQVr7bAnq0WrmfzhBR7wFtu4M7D1XwrC1\n",
       "FwLXQ3sOvxTqz4Pavd2XgMAi+MtYy6YEJVEsYu/nDPFGLY3U2gsQ6fpj3q4Ff279DE7I4MeIj6Df\n",
       "f721+n96wx8W1xfX6K3UU40U13ctZq7TXGkgbX66XbDVmtDeJiS3LGWbzCoUptQOepE3XRi1dDiO\n",
       "1QpltUKwHPWsgvY2y4e2ibll1+it1FONFNcBi5nrNNfgiACbEW86RbEibB1jBYlVZBnAIb4mNK8x\n",
       "LoyallISwWW6hYPWr+GwLBNzUlhm3KO3Ek+1UlyHLGYu0FwFDDICbFFJrTxszlaW7i7JxcLnOGqJ\n",
       "pVPoRvforcRTrRTXly1mrtNcCbfoKr0VF51kij3VSnHttJi5TnP1LL3VNyKDLeECvZV4qpXi2mkx\n",
       "c53muhs8Cpt/XLJIukJvJZ5qpbius5i5QHO1Fs/+6wZslYQkrtBbiadaKa5DFjO3aa6KZ/9RSgwl\n",
       "3aO3Yk81U1wrorkKDauc5so2di/CVmdNzLpHb8V9WzPF9T2LmRPN1dqwymmuHv4nYPGhuXv0Vpun\n",
       "6imulJpqM3OL5spSmp78gotT0lSy00mnTBHprZfuSae4OlBTXaK5hhd6GLafWdvhHr310j3pFFc5\n",
       "NdUtmqunv05GGLru0Vtd8LTHxfu0++oCD8MGK62Xc4iUEHWRlGD3xdlsVcI2V76YMBiDeVku8YsJ\n",
       "58zXgN4yL1HT2POhI9Mf/h8tQRwlVS2SYwAAAABJRU5ErkJggg==\n",
       "\" style=\"display:inline;vertical-align:middle;\" /></a><br>"
      ],
      "text/plain": [
       "association: forall_{l, m, n in Natural} [forall_{A_{1}, ..A_{_a}.., A_{l}, B_{1}, ..B_{_a}.., B_{m}, C_{1}, ..C_{_a}.., C_{n} in BOOLEAN} ((A_{1} and ..A_{_a}.. and A_{l} and B_{1} and ..B_{_a}.. and B_{m} and C_{1} and ..C_{_a}.. and C_{n}) =  \\\\ (A_{1} and ..A_{_a}.. and A_{l} and (B_{1} and ..B_{_a}.. and B_{m}) and C_{1} and ..C_{_a}.. and C_{n}))]"
      ]
     },
     "execution_count": 39,
     "metadata": {},
     "output_type": "execute_result"
    }
   ],
   "source": [
    "association = \\\n",
    "    Forall((l,m,n),\n",
    "           Forall((A_1_to_l,B_1_to_m,C_1_to_n), \n",
    "                  Equals(And(A_1_to_l, B_1_to_m, C_1_to_n),\n",
    "                         And(A_1_to_l, And(B_1_to_m), C_1_to_n)) \\\n",
    "                  .with_wrapping_at(2),\n",
    "                  domain=Boolean),\n",
    "           domain=Natural)"
   ]
  },
  {
   "cell_type": "code",
   "execution_count": 40,
   "metadata": {},
   "outputs": [
    {
     "data": {
      "text/html": [
       "<strong id=\"disassociation\"><a class=\"ProveItLink\" href=\"proofs/disassociation/thm_proof.ipynb\">disassociation</a> (conjecture without proof):<br></strong> <a class=\"ProveItLink\" href=\"../__pv_it/theorems/affd13dbdcfca9f6f96cb0423dd7dfdae65c6db50/theorem_expr.ipynb\"><img src=\"data:image/png;base64,iVBORw0KGgoAAAANSUhEUgAAA3wAAAAyBAMAAAD1gMSQAAAAMFBMVEX///8QEBCIiIhmZma6urrM\n",
       "zMxUVFQiIiJERETc3Nzu7u6qqqp2dnaYmJgyMjIAAAAcRTyBAAAAAXRSTlMAQObYZgAACrpJREFU\n",
       "eNrtXGtsHFcVPp59eWZnHf+hj4SUbZBSB5HYlUsSGlfegEQRFXQdRNsfFV7FCQoRkEVB0Iam2fBI\n",
       "trSVF5DatNB42iJIXJouWFYbKVUXEl6hbVakiIjm4RL6I5FoXT+S2Glq7mPunbkzd3bt7PgxTY7l\n",
       "9Z0z53579373ce6Z4wWYvNRNTJRgTsghuJJFy9C/Rybem0q1uv1PGHOi/XrpiqYPvkT/7H3id1Oi\n",
       "Lz1Hmr/4ymYPEgNmoSOI9MUbxeunfEOuGSle8PFjemM9EmT6nk6JW0GO/IkMTA3lq5JNBSElNp1r\n",
       "3fCjKcwE0f7rLsymrm+qU1jsn9mxvPxLDyxXDwSSvh+Klw10lDYM2nReA9emf9cqqnakOsRhe9p1\n",
       "zxNJtN/nrHZjGeI3l6s1jJsrCwH6FopY3utPEOmLj4vXR+mfk3b1aY+6lj7xruWGNbTYkDpRX9/Z\n",
       "4rrniSTa60mx2p4t6KW9UK1hzFzbiVoVGhOxJPJAcOmLOTr0fvrB+8YsVWSn3EW26Z+z9ek9W2xI\n",
       "zUh/Kum654kk2muNYrW3sNnqqg1j5g3z0Uu4UcSSyCuFwNJ3SlyA1CydTcqIpYt+Rj5wbfpys7WD\n",
       "rltkQ9qO+u1aw3nPG8lh/1+hWugifv1y1Yaxd2kvYo5bRCzvIRxE+u4TLxX6Sb4Qv2Tp9kFWWtXS\n",
       "h41X+IakDcRsSOcA7t4IznveSKI9HBSq9RCrvdUaxszV8+SqIGBJHabxoNIXGRGv6wkNWioyhBch\n",
       "qvs7+pGJpf8VdCZB20T3mKJe5EiRcyeavm8hsXueSMyeyUmh2hFzskVyFRvGzPUhQU2w9HeIiDuG\n",
       "NhRU+kKOHSFGPngY1GG0Sq2guizslta19CnoQR1yO0UAdYAjKWgLfTrDkdg9TyTTnsuLQrVttMsi\n",
       "rdmKDeMtGBXUL3r3wjtBpa8u47gme9hdrcsvAOMjkYSorK2WPtLVuinHVqd/AKznSPVodCgXGRK/\n",
       "54nE7LkjKlT7GNkUDQhnKzaMt4CsiZqIJZXmQkDp6yzL6EMvN3D6YgZEMrJBzvVhVA+N90fJBfL6\n",
       "7uJI85CBMsTpY/c8kZi92OWs2jZy0kkz+rwaxsxj5OzaPwn6esoBpa+5IFk84+j325y+PvR7RlLV\n",
       "0qM6MTRtyFkj3mIe2AkSHh3REYbE73kimfZH/7moZdF61gJejZxOdGD0eTSMm9MTX4mgMSxz78vI\n",
       "1qAA0rcdJK7LL8wwCu30M2ZPOYXr1SKJ0kQaWawFdyBFwqOjM8eQ+D0vJGb/xkK4xljM3A1erQe7\n",
       "Loc5fR4N4+Yqnsa6gdGu526QVOqzAaXvOqfX1mKe2LoLZqcTNy+Gd50X0AKpfWAWbPrHcQeMgUL8\n",
       "wXvM5YsgwVuor68zGH38HgHgcBaSaa8+k4URaEPXbUI1fJrpMxh9Xg3j5oBOM/FbAaONMyy56IOU\n",
       "PuLxnJgsfQ1kAy7PInvasEOBekbr/sCAlyY2m50exXuYgsd9DC8x32UFrt8zcRbi3edb6olbvw6/\n",
       "LKJI8K2JruX5Ip/H/B4B4HDWOzD7aBJNZXyAeFuoBs/u6EoBo8+rYZa5tvJrt2DDJIm8vO3dDYlR\n",
       "Sh85h5ydLH3keNJgzOaxb8ipud9Wvt30S5C4lwqXvu4rpteDYKVItnuVkVDfKDl1MA1aVlqN0ufV\n",
       "MJd5XTpUYliVuqEDduElNzdZ+ojlrtlcO+MXnZqjkzspSWSe4hcS9KAZk8iVvMLM8ewU0WJ3pCuF\n",
       "rM1FqINMJXlgQbr3nSWhg1mUxKhrF7c8w59vWzulCMAhv5Dgc8j/UL9heDzkUVecS04NTXmt0gMj\n",
       "GqvD9CUO9/Y+PnnX5Xhv797sbNKnjLkGYs4vbB+QHvLxo1bEumB6nhfy+QcmT9+8fH5naTbp08dd\n",
       "qjmULJHwMVmiMtYNJn3rMc1m8LY6fdG0ucTUFyqPmM8PH9wgMXGqEzvaFInZsa7SEo8FbxyuCpJr\n",
       "Tfo+C9oAjxG5PZzNh+DGjEVfuMVckk+lpCOGPw5INIIuedzoUKv/AW2722p3EvbYrE4uW7GKlaOD\n",
       "V6kDM8aE6YuBUvZ4tPTcwdvgJd0IGbZjexaWkm2iXXr4e5Y/dAtlXFkNEnUPGgTH3Ds9GgQJcx/S\n",
       "DrSWFV19M32VPil9ehk/KnxUNpUeftKAl5Mtuj3q8hp94Kj/RpoDcngzD0UmITTgNnCo8a67xm2E\n",
       "dteI6aod298LigKHy1cXT0G+Z9KnDuBgN/bnEret+biyOG2W8LKKpL//ZwJ9u2nIfE29zEuLJPOs\n",
       "+EIalkmO96JawVz0uoyakYVGrcJ4lChK+DjbIPWxq9TZXRd4aB3Q4G1idbluo5IxSwUaT+vXn7/X\n",
       "Tl/9Y2TTy4TQJNzoxIzCClC3kuKdS5sQUtTJIFXzaUbHgNPKlg5BonRK6GYeP1JGp9HznBMyuVTf\n",
       "axh9fYgIErx98iaYlwqVzJKhkeWxH0oH7fTFyWPoRFEZhHvnOzHfhGaAH5Pi6wA3QeQPTvqI2gp7\n",
       "kDOIy+p922ZKKFPg02mXc+Q4rfmQpltjiq7YqulIz7XJMKNvHtplaPB2LbqmuQdrYTVE7svnf4Do\n",
       "eypmpw9IsG1f21/HzSC5vcmnX+02gLqMjyC/pGhG5W1C1fZNTiu7rPCO+Dwt3p3P55OIvhKLWsRd\n",
       "9PmXpltjiq5QZVrSc21d/T6jL2Gw4O1HoAl6IrTUFoEMnX3hNQJ9/8Yvt4I66qYPuag9aTOAehEt\n",
       "lAU3fUSdWHXiUwcwWChHHmY6rVYCeWb58nG8HNPZV2KeUuSS85P4l6ZbY4quvco0pedaXsYQo4+s\n",
       "YgrsMtRBNOuO6bT0nX74E77zBsBxgT7iUKBmXyL0IdufsBf4IgIqJ0qArtRxUD9KiLHuc3V8GSyI\n",
       "l3CNraD9zW0VK8NvC/D7HJr2On5PRYdXS8KqYRf/0nRrTNG1V5mm9Fxrg7xopy90CDqK4QycgccO\n",
       "09Iny1CPVrnwgyk6AwT6unOw63wZ09dRjFwPHQX8Uqy/AGr31lAKIgvgL8OtG1I0uWOBeb9gqddr\n",
       "WWTWUQS964+G2wr+3PYJHODBjzEfRr//en3l/3jDH3SuP76l6dacogvTnp5rxQ7H7PRhKbpKTWjv\n",
       "cwTNBNkiqxWL09QTemHYLqxSNt6CzYoVrWKwFPWwgvY+4U3bHY3wL0235hTd6U/PBTH41CHzV708\n",
       "Vyd9a4aLklr6EoD9bM1oXmVdWCUto6SiS3gND6tfwwFZZOeUYxnyL0235hRdX9Nzq8Sfcw76EpJS\n",
       "Zfq8awndXparHe/jaeWUTkeX+pemW3OK7gyk5/JoY9K5eFZn/EOepltziu4MpOeCzWkKZpL8oIy+\n",
       "lA9pujWn6M5Aei6TnRBQ+sIjksXTlzTdmlN0fU3PrSyB/RcV2CxxXXxJ0605RXcG0nPtsf6A/num\n",
       "6Hr6l6Zbc4pu1fRcAlBTeq7oAASRvjoxEOxfmm7NKbrV03MxQE3puaYE+J+jnQ/x/UvTFVCmnqI7\n",
       "E+m5Ygg1kF8Mcloasp7sickmzjTdy0PhKbqyoeZ3eq4JOz/A9P1UbId/abqXh8JTdN0yDem5RAL9\n",
       "tTyOIe1fmu4ckeqpvl0QYPpguXj5IUuWqJ7qy7LwpkjfXPlCyGgSrmi5zC+EnDNfx3rLFc2eZj6j\n",
       "OjLx3v8BZokcJWpY+wQAAAAASUVORK5CYII=\n",
       "\" style=\"display:inline;vertical-align:middle;\" /></a><br>"
      ],
      "text/plain": [
       "disassociation: forall_{l, m, n in Natural} [forall_{A_{1}, ..A_{_a}.., A_{l}, B_{1}, ..B_{_a}.., B_{m}, C_{1}, ..C_{_a}.., C_{n} in BOOLEAN} ((A_{1} and ..A_{_a}.. and A_{l} and (B_{1} and ..B_{_a}.. and B_{m}) and C_{1} and ..C_{_a}.. and C_{n}) =  \\\\ (A_{1} and ..A_{_a}.. and A_{l} and B_{1} and ..B_{_a}.. and B_{m} and C_{1} and ..C_{_a}.. and C_{n}))]"
      ]
     },
     "execution_count": 40,
     "metadata": {},
     "output_type": "execute_result"
    }
   ],
   "source": [
    "disassociation = \\\n",
    "    Forall((l,m,n), \n",
    "           Forall((A_1_to_l,B_1_to_m,C_1_to_n), \n",
    "                  Equals(And(A_1_to_l, And(B_1_to_m), C_1_to_n),\n",
    "                         And(A_1_to_l, B_1_to_m, C_1_to_n)) \\\n",
    "                  .with_wrapping_at(2),\n",
    "                  domain=Boolean),\n",
    "           domain=Natural)"
   ]
  },
  {
   "cell_type": "code",
   "execution_count": 41,
   "metadata": {},
   "outputs": [
    {
     "data": {
      "text/html": [
       "<strong id=\"associate\"><a class=\"ProveItLink\" href=\"proofs/associate/thm_proof.ipynb\">associate</a> (conjecture without proof):<br></strong> <a class=\"ProveItLink\" href=\"../__pv_it/theorems/97f571aeb6060d681604caa4426a8169762cb7e30/theorem_expr.ipynb\"><img src=\"data:image/png;base64,iVBORw0KGgoAAAANSUhEUgAABB8AAAAZBAMAAACLAJuVAAAAMFBMVEX///8QEBCIiIhmZma6urrM\n",
       "zMxUVFQiIiJERETc3Nzu7u6qqqp2dnaYmJgyMjIAAAAcRTyBAAAAAXRSTlMAQObYZgAACX1JREFU\n",
       "aN7tW31sHEcVf9679e7t3dr5g49CEWwpoi4i+JArB1GXXOAPIyQU2xVpJCJ8ilsRIpUcBDVtSvAV\n",
       "lcR1QT5Aaq2ixhsVEdel7qmWRZFa9RqXr5TCkVQoQJJeKfxB/0mUNG4+SMN8f+zs5dYlKqj2SN6d\n",
       "ee/tm7dvfjPz5u0ZIHn56o4KrJR3cunfUVuKeGnFY+/0kimuAGLJPqtfMVUP/7cKsldwyf4lA0QD\n",
       "348lBEQHvvn1ZQ2IaXqzG0t77CsmySsjZ25b7Nlyb3I1f7400jtWEM2vGTq7Rm7PJF/3FfH2CgXE\n",
       "C7jxWkJA5Kro1hEua0D8i946Tiq0JhM1o9RPmNIduNKGULF2oJUmSb8KIHVGkGej7GvqkP1kPbFh\n",
       "irjXoICYxLdyQkAQwclljQc/T+/HzyvEV+NlO/LysROhIX0YX4bRcKzPt9Ik6PZFgPRpQc4FOnt6\n",
       "J7qsrSQ1TBM/QAGB5zuZ+IliCLyUvLCsAeFQ93lz5yTN3hO/aG7cKaqPyVES0nfhSzeivxy00iTo\n",
       "FurWPyWX/FU6+xV8X5fYME18HwWEf3Bm5sHEQeXRmZlHl3dsyXzlW69LWvtng1jZWz8sqvXuQlQ6\n",
       "Qxx5DxrV94atNAm6ixCwT+IM/qGxUxfw9eakhuniHQV6yjg7NvbtxIDoHBvbU1vWgLiW3r6QvQjK\n",
       "Th47SbyGw6vp8Nl6VNoi6/YiwC1bW2mS9M4i2Hco035BY0+R26NJDdPFc3kKiNsA7ksMiPYBcJd3\n",
       "duoH1KUFW67baBON3UZzVbEX/xSGg6i0iyFiLx7rurulJkkfvv3QHnWDP66x/xg0eSzeMF3cb1BA\n",
       "fA7Hl962ZIBI51lg2wQWAlqfP72wxRRJT/T1aujzd/dZpphGTfPKZZGoMo1eLmtCUytYOTJSu15p\n",
       "3s2MyuDIbiN3zN7YcAMy/GxagKk8dzKXdqosJthXbKVJ0lHI4b1HYfxCY4+y44pdTmTY6ICW1ChR\n",
       "QDhgIaj2N3GHvf15uKYoE1MlWE3qLxdiQ3CxsfqrILfKFPgTwHPq8efv4N1jHoo0qssr8V3GMSO9\n",
       "XNaEplawsjeAafVF3kWuG3p6z6Lddw191wCvnGY5RJZf4sWRnm1l5mQh3VZgMYF1oZUmScd2ditL\n",
       "xLDG/hDZTEK7p5TIMCbOh/okBUSu7oi9KFIeW7gJnsqFqVAC4kW6K3lrY7NTj4iNNVWE7HlToBfg\n",
       "WWUHnEI+OWII6VQOCNmlpQpbOjOI9KItioFpQqD3Z6jOIIj7ZQMQ6IkPAp9GTgh2McYbKPbbIFa5\n",
       "tgZzspAmgEAxAVinWmmS9EUMiCACCMEeJTN9ANKlRIZxcR0QmcYGsTVGcHn/QyE8E+RzcsuAvbSH\n",
       "3P58HCAObhevEEAqJpf3TYDPKE0czQ4ZQjqVA0J2eYsKRtrgTHuX3gttA8QyOUnpz1DtoBDaDqJb\n",
       "Rhb9fUMAYk6mq7QlOM9yTwBoSjurmJOFNNkycBqi/fUWmiQdpyFgm7Ia9mtscrZFw8UA0cowLs5Q\n",
       "y7YMuO9WdMGnav+moWutjw6wGo4uUJmf/5EKCPcBYs2QG5fLsoMxXn1iAD5hnoG9M2ApWVELryEz\n",
       "UaEIlQNCdjmuIo02ONOd1XtxZ9U4Y9YwAZPU/gzV3eglvDAaVP6EpR77Re5yLib7U6G+R26u0szm\n",
       "OU2aBJU4DTFcbqFJ0nHIYZ9VRuq4xp7C0D0oANHKMCZOR1sElTCHnrbxNumvq7dttYqsVqGfOeZz\n",
       "j29SAJGlm10xhRpbjdMyrIEMnZPrV3chRe0RTKRPHdqtroR0FCNSjo41DgjRpV1TPr2wBmY+iBy8\n",
       "CX9oYb1g2U3qhxeVqZAUK0zVd0bfcYFnECYqbBhJBOdg4LwJ7PJEg0ecO3nuwj1HnSykyTEPXkEW\n",
       "XRVGNREFUpOkdyAV68aVkerT2PgsPBdyQOiGCZXSMCZORxtSNQaIToQTCz/70HXQWcBkUgs9gu55\n",
       "qC0ogABy2vKr1knY9P6os/4G3QDfI9U/AFwH9nMRQOQaYCkn406S0ohKddbiACG7dENX4ZIGYbpo\n",
       "xoxDmfdCZElbzHjJVEmKFabqf0ffEY2cN/FmCE9d2s6GsR2vmRaebHcAuzjYr3jhBZwBmr70GmQn\n",
       "3sgTJ0tpPGpfx9+qqmBoIgqEJkFvP7HYs+V+daT+qT0Gj+weKQAHhG6YUCkNY+JktBHYBhggfOwJ\n",
       "om4zDNKdDdXWgX3n2Nh3ESAedlRA/JUkPPp+e56hX90QXv39RAg0JP8+WpCqFLbq4NYgc0FZC9Ar\n",
       "efWoFKNGACG7vBmNv+DSBmG2oVHNI1DyXnbyNp/xKlMhKVaYqnF88XhM6lrZwem52Izmyd5qq28f\n",
       "6NJ3JdVk0vlIeaVYNgVEYsM2k/T1flB+D9H2JXx9N3TBlE1rfTYU6QqRHlIBQcqnIXPGBAQ6jUwN\n",
       "sA9lyOfrKwYgOquQPgeHnzn85V+RB8okpolIUap/47GaCgjZJdoK5LSnDcKcJMu+y3vBsrTNNzSF\n",
       "yUwgJMUKU/WnUKWGxI9GP27JYUxcqJNlOfyWNYmRysWnptOlJWpDo80/brGRsmAyzJxEWDmSo7Vv\n",
       "zQMZtJcAjkYBkUbz9yLxOBId5xf4ItJT99EMHIfMech8gDhZ8pHEVAg/rMGTjbbq0/hZ2AXe70wp\n",
       "Qs12sf7cSJdoVqNpzaRpgzKPkrQ8mtW0FyxL2ly3ymQmUJKwIka1U4efV+DJsmPm3kRaKGnptJon\n",
       "05amiY8UzMbzs6UlakOjzT9/s1n5PAxW00UUlz5wkNY+XgcXrUnp7xRQrBgBxEQZJt+oY48PVu33\n",
       "wWAFX6ruWchM7EoVwL4afnO6Z0uBOvlqxq8MVnOjPb334vz3frgBPwu5kQOhIcWot7F0mxvpEgd/\n",
       "LpemDcq8gcaRZdYLliVtbqHKZCYQkrQiRjX8uu9jWHyjcN+09OSPRzcvxfHIyfoWW36rmvhINfno\n",
       "kFmzGCxNGx7tCkR+Qlc1al0ohtBT19H8hvmQk6XHdJ4ZkQ0h66CzUKmqtGOlStZLeqaSdekB/aM+\n",
       "VRpIZagk3rCs1lYbzASNFDZX7cBqcfb/f/oJnX8Fvyv9BSKAkL/Pa/ZLvQgghk5XYx7KXc9+nocD\n",
       "l+4bZUPK/gw+Apsroh0v5RWzLxqAwF02LQcqhnlNCzNBzaFgK5qLP708fjeoAsKPqV0WEM0f0pxX\n",
       "b6bWTySlrxAr5e0DROuy43/yfxmplWF620r/juJ/AObHTzKt3xeqAAAAAElFTkSuQmCC\n",
       "\" style=\"display:inline;vertical-align:middle;\" /></a><br>"
      ],
      "text/plain": [
       "associate: forall_{l, m, n in Natural} [forall_{A_{1}, ..A_{_a}.., A_{l}, B_{1}, ..B_{_a}.., B_{m}, C_{1}, ..C_{_a}.., C_{n} | A_{1} and ..A_{_a}.. and A_{l} and B_{1} and ..B_{_a}.. and B_{m} and C_{1} and ..C_{_a}.. and C_{n}} (A_{1} and ..A_{_a}.. and A_{l} and (B_{1} and ..B_{_a}.. and B_{m}) and C_{1} and ..C_{_a}.. and C_{n})]"
      ]
     },
     "execution_count": 41,
     "metadata": {},
     "output_type": "execute_result"
    }
   ],
   "source": [
    "associate = \\\n",
    "    Forall((l,m,n), \n",
    "           Forall((A_1_to_l,B_1_to_m,C_1_to_n), \n",
    "                  And(A_1_to_l, And(B_1_to_m), C_1_to_n), \n",
    "                  conditions=[And(A_1_to_l, B_1_to_m, C_1_to_n)]),\n",
    "           domain=Natural)"
   ]
  },
  {
   "cell_type": "code",
   "execution_count": 42,
   "metadata": {},
   "outputs": [
    {
     "data": {
      "text/html": [
       "<strong id=\"disassociate\"><a class=\"ProveItLink\" href=\"proofs/disassociate/thm_proof.ipynb\">disassociate</a> (conjecture without proof):<br></strong> <a class=\"ProveItLink\" href=\"../__pv_it/theorems/2ccdb71553fa639946a69958e59608614a2c59f40/theorem_expr.ipynb\"><img src=\"data:image/png;base64,iVBORw0KGgoAAAANSUhEUgAABBsAAAAZBAMAAACC6zvvAAAAMFBMVEX///8QEBCIiIhmZma6urrM\n",
       "zMxUVFQiIiJERETc3Nzu7u6qqqp2dnaYmJgyMjIAAAAcRTyBAAAAAXRSTlMAQObYZgAACZxJREFU\n",
       "aN7tW32MG0cVf7f2er3r3XP+aWkbgkxA7aWQnqULl6q9kgtIOUSF4ruKNhInYiUNhAiIIagpKaFu\n",
       "VBL3CjoDUnsqNLdtpX4cNLUIIa3Uqm5TvhKCTBJQRJLGUPgj/NNTPq5JIC3ztfOxO3tn9x/QySPd\n",
       "eue93773PPObmTezPoDWy5e3VqFT5m8Z2lpvB17qtNj8LnaxQ4f3WR6fX18nU6V0aOLKqRbp0I0/\n",
       "vEaHDOCUyYfZbO8xHf4v763vrwy2bMLbPNO38cEY5ZM7+xs/bT0cCf4VSodD+P5fLdLBraGPbr/D\n",
       "BuimaVT3tDzXxmCljEvCC/Q1AIkLc1rh8i7ExBUFrcpYBLB3kc6xNiAZvofSYQJ/lFukAwFOdMgA\n",
       "cJR+vHlZpkhej31L3Ep4jjavACTPzWmFy9ei2Xl1XqdydqGRmrikc6wLSIG7OUIHPNbJoG8pd8DT\n",
       "yKEOGQC+TRt07yVJtmabfoHYxadTGc/RBpJ5Z+eyIuS9aHCfzulU3dehS3KBxrE2IAXuLCB08A5O\n",
       "TT3acip5cmrquU5GiRqONoJnnJeEdy/WYlOf4n0n4zk6jTriiW1zWRHyB1DffcDXqVbgYW3mNY61\n",
       "Aanwf9CdxcVK5Tst0yFbqeyqd9gABm3Ez2auSNll09Ji94gtmYQX6GwRzHv8uawI+QzAXZt0Kvsd\n",
       "UqtqHOsCCsEPUDpsAHioZTqkCpD+/z+LstvAFt6XhzTZXTmDppjk0ZKrX3QP8eVVxgv02q8d2VWb\n",
       "0wqXmzOneu7TqtyzcY618hD8TUqHTyN2gbO5NTok8yQFhThScGJ95tyBjVFIcnygX+Get3PAiMIU\n",
       "aZJ3wWw8VJT1OP+a4H4pxMfX15fEbu/UQK0aDc3GKeAaJgO7qW+23fyrYPzT0yoa5QLO1aiby7Na\n",
       "4XKcajxR1KmsYHuyJuxYG5B1QZHup3SwwEBUH4rbKG95Az5cFMdQJVhK7k9rN8oeXxq9BeAuiAL+\n",
       "BPCaPIz/Ds4D0cGtSNPBzenZ9uayMlWN9R8NLsE7eXcOno17JBxoF3F3Z1//RYA7llPZETLTRp3l\n",
       "8JwKAp8sqWhst7dm9pVmsyLkONUw/q1TdZFtixMEJDnWBhTAgw0LpYPbsOjKES0/O3AbvOj6CV/Q\n",
       "4TBdd5wV2rOop/jSmChC5nIU0A/wqpQFTaJWPR4BqdKADsKloaziqhInSaOq/yhcDs4pMqmNqOyV\n",
       "hRVecppAKR3Q5UPAhxLKBu/UDWsfTDaeKN7Nq+gZTIccY0mcFSFHqQYYZ3Uqi0w7+4KAJMfagDhc\n",
       "oYPdxLZ+oKPRw4/58Eou74rFAnZTD+4z2t3xwS3cZw4SmknvmwCflKo4hx2JgFRpQAfh8i6ZirQS\n",
       "KM3tQIeK5D8KV4I7w6QWWmLMnLDC58ftmkDJYpFBf9/gdMjk+eGUUvYyHxxP8g6BxscOsHmQ0SHO\n",
       "ipDjY4fUeZ2KHiHUg4CEY31AHE7LEHtn8dDd6IJV3m0jHzGuL7A7nFVg9uz7kUyH9CNkXIykdSdX\n",
       "Zq4S3L5QgJuiu17nAhjSCaiBh+hUJGtXpQEdhMsxmWe0EijTe1ickv8oXAluKZP2IonjCyvc/x5N\n",
       "oKRLf4L+3uZ0wD2S0QySM6wHOD5bVdA4FzD5GhJnRcjxscPaMhz98+L84g2KysZzhusHAQnH+oAC\n",
       "OLYkUknYi+Iw8aLprWx0bTKK7K5KX2fsc58fleiQoetSMYEqmyIbWlgONh1Zq5f2IEOpECOSZ4/s\n",
       "lMcY7cMQylKZFtCBuzTr0isWVsHKR1EXjXoNeiYg/GvgVMnKr5j0XlrFHkbl1zK4YoXJjyd84me8\n",
       "GrT+GjZvwwtNdnHeBZYhWj4I/LCChm7U9CvHAjpwOXmYW5Hwf0PQa3w4tgiu9q9XVa82IHNLwE/h\n",
       "mFshkQk5gyNL16LaAKNDFs2QBsY8dgNkBxN1duc7ebq21A9IdACyank1YxpGrwvT4QT0AnyP3P4R\n",
       "4AYwXwvRwW2CIe2Fs2SmCqOydR0dhMu0n5a0pEKUaTSvjUEZkmXFvwZOlHybwaT/oZ2PPWArYj5B\n",
       "lWz4rAX1nTP+rg8vvrcloAOeYwGfB1nF4HIP5jqeTQ3UxBzfo6BTb8/0bXwYAjpwOXmYWxHyr+MX\n",
       "XjWwnyzBedyF8iPOzV9aBgEduGNhhdwIOYVjS3jy+yejg4fbjCya6xBz6RZqHawE895KZQeiw+OW\n",
       "TIe/koOMgd9dZoyUl4K3/jDuA03Ov4/Srxolody1dbClpBgv104jjGLSEB2EyztQ73MtrRBlFzli\n",
       "OwHJouJfA6dKVr7IpDg9eJ54IFb4fIIroZD4ITVfdWmeiNDRvXXkdGOHHk3pEGMlKk/l0Ix+n/6R\n",
       "Ib3jmIBSOXxQ7ZSk3zt0fR5fr0LMnTTp3YAJRTo7JEdkOpByC9gXonRAO5DJAnsdhjp9dTVCh2wN\n",
       "kpfg6CtHv/Br8gDCuhBGUal366m6TAfhEk3nYvDSClFOkMUhTWdD4V8DJ0rk4BMvo1ZZxaQ307xq\n",
       "G7PCGwtXQiGJV1gSHVouV+lPvpLtHf53FYyyPa03NdSmpUS9ELzCYv1kwIRvT6NZ4bhL7761D0iX\n",
       "HQM4GaZDEg2UK6TlEHQsuMDnkJ2GhyaAMbAvg/1B0tFCjxCTPvywDr9odtVexs/CdnB+H0URaaaH\n",
       "+UuHXOJD9hMBmlao8iQe5micE55z/xo4VWZugoWZOv52VGo14OdV4oFYCSIilVBIoWOv/e3RYVr/\n",
       "JiHTHh0m0aj2yvoXBvvbtGTdXghecLMR+QYM19AsewYeOUjvPt6ANJpQk98dRBliiA7jZZh4p4Fb\n",
       "brhmXgvDVXyppS+CPb49MQjmQvjtub6Ng7Q7FjJ9dbjm3t/X/yA+6X4GluFnwV3/uh9BMekGdkyX\n",
       "DrnE6WE6QNMKVS6jeWAZg4R/DZwpNzglFCyKhErhNwM30pyMWAm+FzWphgT85y+4/Pj+dW01/4D2\n",
       "OM1ePpNrx8oqtKOwv6p9ZdlmQKvAOEzPk5Ufx9Uidz2VHaFD6vDJSPQhK0M32MGJh6hwrIX2OaWa\n",
       "VNeiSsYx9VSSuXTkozS5gkzi1vHhY/KJSywcSpk8DrapSrcBs8KKXAlCwmWe/TjOq4bokKlG7yLv\n",
       "LOQycq6mechdAvBSkIb13ioqAvs0fBTWVXldj3KKmcMROmCXseX1avhYm1iOK07RGEwtgUwj8qXi\n",
       "n2Ahzdci08HT3M1Kh/iHlBZuxJn1WkKps0NLJdnOjzmfgk7R0WHusvV/8n8WifYfeakN7I0dFvAN\n",
       "ydbifwFzKTSe4T0QBgAAAABJRU5ErkJggg==\n",
       "\" style=\"display:inline;vertical-align:middle;\" /></a><br>"
      ],
      "text/plain": [
       "disassociate: forall_{l, m, n in Natural} [forall_{A_{1}, ..A_{_a}.., A_{l}, B_{1}, ..B_{_a}.., B_{m}, C_{1}, ..C_{_a}.., C_{n} | A_{1} and ..A_{_a}.. and A_{l} and (B_{1} and ..B_{_a}.. and B_{m}) and C_{1} and ..C_{_a}.. and C_{n}} (A_{1} and ..A_{_a}.. and A_{l} and B_{1} and ..B_{_a}.. and B_{m} and C_{1} and ..C_{_a}.. and C_{n})]"
      ]
     },
     "execution_count": 42,
     "metadata": {},
     "output_type": "execute_result"
    }
   ],
   "source": [
    "disassociate = \\\n",
    "    Forall((l,m,n), \n",
    "           Forall((A_1_to_l,B_1_to_m,C_1_to_n), \n",
    "                  And(A_1_to_l, B_1_to_m, C_1_to_n),\n",
    "                  conditions=[And(A_1_to_l, And(B_1_to_m), C_1_to_n)]),\n",
    "           domain=Natural)"
   ]
  },
  {
   "cell_type": "code",
   "execution_count": 43,
   "metadata": {},
   "outputs": [
    {
     "data": {
      "text/html": [
       "<strong id=\"redundant_conjunction\"><a class=\"ProveItLink\" href=\"proofs/redundant_conjunction/thm_proof.ipynb\">redundant_conjunction</a> (conjecture without proof):<br></strong> <a class=\"ProveItLink\" href=\"../__pv_it/theorems/ce778d64aa885d7b2676d24497e5ffffdcdaa10f0/theorem_expr.ipynb\"><img src=\"data:image/png;base64,iVBORw0KGgoAAAANSUhEUgAAAVAAAAAZBAMAAACV5mv6AAAAMFBMVEX///8QEBCIiIhmZma6urrM\n",
       "zMxUVFQiIiJERETc3Nzu7u6qqqp2dnaYmJgyMjIAAAAcRTyBAAAAAXRSTlMAQObYZgAABLBJREFU\n",
       "WMPll29oG2Ucx79pcvlzl0tkbi8Ukbi+UDGyYGHCaF06X0xkauiL4Qs1wc4XA8siFevmLME3SxmS\n",
       "MKWWiuu5idUONVgCU5QGqyKtm6ETQdfqyWC6oSys1WYbtf6e57lL7ow9G3Fa8Ef6PE/vee7u8/z+\n",
       "Pb8DnMTbtxdrQTx9+50X+LBWZPB/BRooX1XG9wSozrq5FUFDrFOdSd4Q3SNXAVIiPG+eg06z/8+v\n",
       "CBosUBfSHJ92TnQXjH/zTQZKo4Xqw1AFkHUOOsRmMiuC8qkhxzepMdFdMLZzpjnQow1XQrHa8NvL\n",
       "1HzEQZm2uNpW8FGm7GlnRxYqPLZV9NIBrSnQUw1XHtxnjuTxS9S+ykHVqbGxlxyCaXZs7M2045uM\n",
       "u8ub4iL3bos0w6nMN1zatbFmrJYFpuE4j/pqNrvfATSczR4oOb6qVbiaNiFC7m1Y97Vj96FWDn7/\n",
       "ug/O4YXZ3Z7vT7T3kLd1fJrHu9EITi22FaTbZvT6LbJeSzb3KkvUBmMc9DFgwAHUm4Cf21S0iJtz\n",
       "tZue5+1rSApNTts8pZSNyJf46Nr3lzz70Km51mM0hu2a53plLzYDvTxtWDYXLJiuKMeli0yvOge9\n",
       "W4RVLSH0foybUnVQT4x0xOQ7gWjGnbpg3vGMsYEREQNpHLY8rdCPwC98+APgKsEVCaWgLOAGYJ2y\n",
       "AQ9oDLRTQ8QWwbqZEALMMZQ0B/WhpZYmj0124HhQc2uWhJ/G7Xx3W8s20KNL5k3rOVF32x4+pUaY\n",
       "EWpmlBegVvjwLJDsmPuqTDEtz0vzc3M9kKIUgATqq95qUdUMtzKTnW2bq+zZFQ4aLNdcQj04rOHD\n",
       "SCxoPZlOCLMER2M20KleGyhlQxfXg0+DlLLESgVe3cxaEwUj+VSVK2wXP+aTHFQ+uVzPSKCY3wnT\n",
       "zW6sgwZ0uqx2dLUyLyApFg/ZQA+L93b5M1ZQKZK1mZ4QfNewwXj9BGDi1hEucwP9BOHFQqPM9/xp\n",
       "JIcJNDJscSQoxBzi8aDQ3xNMCcL0GNhFoJ1lV14cp8XgWw9ZQf2D3DlT7rQV1Is7rcEUKIhTRECO\n",
       "10HJLSe0kgHq0yEbPtoPHAnT3IuJs4htA3rq6T4vYIGXjePOCCaME8HwzQhrMp8uojRpBVU4kVpo\n",
       "qVhBT2OTuWjSyKV+Ft1SRpgfeEdnv5E4TqrcZ8nE0hW4tdB1GC0hWcAWVwZfPKzdhRgF04CxntK9\n",
       "YX4EmGZyhO0uCdAwM8ij6IT0dDb7HIG+4rNVTxd5dmz/7LIFVD7zec6MuO2UX5bPQ8kt0ka9TP0t\n",
       "7Im+FPvR5OBptuqe5YPA63dMIdSzkUwod0e1QHf0yM/wPp7fMTMbN9ZTumerKeXLud80HF+m/YUS\n",
       "AlRlb9yAdgkpoVFPlw30G9ZsMbOMAKW8MJKwH6HWEiPhcD5YTvI/Fe5okvXKqKUeDVTwZBGfsOGX\n",
       "dGw21KMeyk1LFtD7yBBle1GyWgk1t7xWlBggKUTL8FNIePrjFCl/BM1lMLRYroH6qwjknm04o1Yl\n",
       "vlSTnEaZZ5NbyEf/osLPrFg4r7L83PNrkwWrP/+3PkUy//qnyNf4p0DXwsdd43d97L/A9PQ99Tux\n",
       "lUsPV2ygIwAAAABJRU5ErkJggg==\n",
       "\" style=\"display:inline;vertical-align:middle;\" /></a><br>"
      ],
      "text/plain": [
       "redundant_conjunction: forall_{n in Natural} [forall_{A | A} (A and ..n repeats.. and A)]"
      ]
     },
     "execution_count": 43,
     "metadata": {},
     "output_type": "execute_result"
    }
   ],
   "source": [
    "redundant_conjunction = Forall(n, Forall(A, And(ExprRange(k, A, one, n)), conditions=[A]),\n",
    "                               domain=Natural)"
   ]
  },
  {
   "cell_type": "code",
   "execution_count": 44,
   "metadata": {},
   "outputs": [
    {
     "name": "stdout",
     "output_type": "stream",
     "text": [
      "These theorems may now be imported from the theory package: proveit.logic.booleans.conjunction\n"
     ]
    }
   ],
   "source": [
    "%end theorems"
   ]
  },
  {
   "cell_type": "code",
   "execution_count": null,
   "metadata": {},
   "outputs": [],
   "source": []
  }
 ],
 "metadata": {
  "kernelspec": {
   "display_name": "Python 3",
   "language": "python",
   "name": "python3"
  }
 },
 "nbformat": 4,
 "nbformat_minor": 0
}