{
 "cells": [
  {
   "cell_type": "markdown",
   "metadata": {},
   "source": [
    "Demonstrations for the theory of <a class=\"ProveItLink\" href=\"theory.ipynb\">proveit.logic.booleans.conjunction</a>\n",
    "========"
   ]
  },
  {
   "cell_type": "code",
   "execution_count": 1,
   "metadata": {},
   "outputs": [],
   "source": [
    "from proveit import ExprTuple\n",
    "from proveit import a, b, c, d, e, f, A,B,C,D,E,F,G,H, i, j, k, l, m,n\n",
    "from proveit.core_expr_types import A_1_to_m, B_1_to_n,C_1_to_n\n",
    "from proveit.logic import And, Or, Not, TRUE, FALSE, Equals, in_bool, Boolean\n",
    "from proveit.numbers import zero, one, two, three,five,Add, Exp, subtract\n",
    "%begin demonstrations"
   ]
  },
  {
   "cell_type": "code",
   "execution_count": 2,
   "metadata": {},
   "outputs": [],
   "source": [
    "#And(A,B,C,D,E,F).derive_some_from_and(3, assumptions=[And(A,B,C,var_iter(D, one, one),E,F)])"
   ]
  },
  {
   "cell_type": "code",
   "execution_count": 3,
   "metadata": {},
   "outputs": [],
   "source": [
    "#And(var_iter(A, one, five), var_iter(B, one, two), var_iter(C, one, three)).derive_some_from_and(1)"
   ]
  },
  {
   "cell_type": "code",
   "execution_count": 4,
   "metadata": {},
   "outputs": [],
   "source": [
    "#And(A_1_to_m, B_1_to_n, C_1_to_n).derive_some_from_and(1)"
   ]
  },
  {
   "cell_type": "code",
   "execution_count": 5,
   "metadata": {},
   "outputs": [
    {
     "data": {
      "text/html": [
       "<a class=\"ProveItLink\" href=\"../__pv_it/demonstrations/3b35e732117f987263676861d2c9a29595d28f120/expr.ipynb\"><img src=\"data:image/png;base64,iVBORw0KGgoAAAANSUhEUgAAAT8AAAAUBAMAAAAJlCfZAAAAMFBMVEX///9UVFTMzMx2dna6uroQ\n",
       "EBCqqqqIiIgiIiJmZmYyMjJERETu7u6YmJjc3NwAAAC+aOQFAAAAAXRSTlMAQObYZgAAAohJREFU\n",
       "SMellj9o1FAcx79eYry7JPUQxUGQm1y9uhzndGPHggeCOLhInewNQukgHIgdJeAiQiGWIpKhdHPq\n",
       "cSKF0grXVQfNJF3UgkVBivjyXpLL++XlfE1/8DvI5+X3fd+8d+8PMLMPRURU3RLHw0JqhXn+DaXl\n",
       "sAcYj2/Qpr04C+NMWEiv5rCzeQq5DeA1dmj7RpzKsO6yPv1CupsrqIfl5VwP7jyMuH0hbmWUpzLe\n",
       "zR6z33byuECp0acVH6EtZ/UJrYawG7COZYOM8lSHG729TQxOqDNPC55BWy4xmNID4HwD5i+5s4M4\n",
       "pyjWuyqDnK7TFTfQl5MNMroMjD2Yv+XOlkWas9+XLlfaF1WKhqcyyGmHvH/O05eTDTK6BfxooUIM\n",
       "bok07LcYP8J9laLrqwxy+il6NAIeUb/2vr6cbJDRFWbQQ+Wn3NmKyGtVP7L/RaVoDVQGOX1A3q/e\n",
       "05eTDTLam0zxzSB4GgSvotaeyNG4i8URrkRolw/IWlpbOYRcM6HXiYOz3ZycI8a3KReyUX9zJwga\n",
       "Wdrji8QiiyQ2iEXgBXBb9cnCIB3BqQZ15OQRZJSNvL0pnvJTjJfAE5h/HYWiqZxiTucy/8FGZop1\n",
       "5GSDjLL/rmKjjhcJbsE5Qs3/WmKRZCJZJDpyuUXS4R+33ZQ764icOYJ1iHqrRbaNqLbWIgYn9Dkx\n",
       "mOw9OnKpwYRG0/F+6QLpbE4kG2G2h1mr8iFQu/Rnle2hTbkmQ9eIwWTedeQSgymVTyC9o47HDq1J\n",
       "qTM42VEnyVl9QuUz/IPOZUFEm9ak9ISXBVnOGVE6VL4/LGxJhPxCmr9u2eEp5NT3yP9eWO2wkA5L\n",
       "XFinyJW88n8upG6ZK3+h3D+2ICUtEPC3AwAAAABJRU5ErkJggg==\n",
       "\" style=\"display:inline;vertical-align:middle;\" /></a>"
      ],
      "text/plain": [
       "(0 + ((m - 1) + 1)) = ((m - 1) + 1)"
      ]
     },
     "execution_count": 5,
     "metadata": {},
     "output_type": "execute_result"
    }
   ],
   "source": [
    "Equals(Add(zero, Add(subtract(m, one), one)), Add(subtract(m, one), one))"
   ]
  },
  {
   "cell_type": "code",
   "execution_count": 6,
   "metadata": {},
   "outputs": [],
   "source": [
    "#Equals(Add(zero, Add(subtract(m, one), one)), Add(subtract(m, one), one)).prove()"
   ]
  },
  {
   "cell_type": "code",
   "execution_count": 7,
   "metadata": {},
   "outputs": [
    {
     "data": {
      "text/html": [
       "<strong id=\"expr\">expr:</strong> <a class=\"ProveItLink\" href=\"../__pv_it/demonstrations/5ab700333465383903a07f07bdfaee6d01d6ecc60/expr.ipynb\"><img src=\"data:image/png;base64,iVBORw0KGgoAAAANSUhEUgAAALEAAAASBAMAAADmjyK2AAAAMFBMVEX///9UVFSqqqrMzMwiIiJE\n",
       "RESYmJgyMjK6urru7u4QEBCIiIh2dnZmZmbc3NwAAABRgo0vAAAAAXRSTlMAQObYZgAAAblJREFU\n",
       "OMu1kz9Lw0AYxp/0f/p/c9AhfgBpP0Id3BQqOHXKVBCX+AEqHZzq0Gx1KQWHgrgEugilUERc6lAc\n",
       "bdEIgqPiotm8u7Tpeyk0Ln1DXvjd+zyXu3svgD/USgkBEa6MAxTtgU1xBvGxzP46i5wWINgqaLRQ\n",
       "k2we++ssmuZqgfp7Ke3xyKQ2j/11FvcBgtCXVFAuLGJbMJa5FiBIi1Zlp5NrgS24rTvtP0mMUb9I\n",
       "OTvtfUsCdeT2yzPEng94rxp23F37HXu47sfs2ITxrkUNyg076lADzu3skDJrFV+82kWmLLCED3FG\n",
       "jluYM/ahaIS5waAG9QrtIjUAn5wzDiJiopgFRQwY6AwpO7MtLjgypANKt39MmUWBp2QZHcERE+G8\n",
       "e52bGuGkuyPKnTodyOVlwfwSsPWJL2CHvWdcqOPVJCw2ILPP4BOwOBQza9gI2bNBXszV2UlS1gGN\n",
       "8JKBn41FmMUNT1Ertpvm17zsbgiKHh1TzuRFgzxeMqQMtG3C/BcUebP3dsv7wM8uxb6tTh5AGY9V\n",
       "S6r7DRhUdYmRkH7BhMjFf/MqQbqM9cR2XF/TzHutNU2Mkxee/wDm5ZwUHgG6lAAAAABJRU5ErkJg\n",
       "gg==\n",
       "\" style=\"display:inline;vertical-align:middle;\" /></a><br>"
      ],
      "text/plain": [
       "expr: a and b and c and d and e and f"
      ]
     },
     "execution_count": 7,
     "metadata": {},
     "output_type": "execute_result"
    }
   ],
   "source": [
    "expr = And(a, b, c, d, e, f)"
   ]
  },
  {
   "cell_type": "code",
   "execution_count": 8,
   "metadata": {},
   "outputs": [
    {
     "data": {
      "text/html": [
       "<a class=\"ProveItLink\" href=\"../__pv_it/demonstrations/1580906ec5ea3ab20a2addbbe4ea273c015a82d00/expr.ipynb\"><img src=\"data:image/png;base64,iVBORw0KGgoAAAANSUhEUgAAAHwAAAArBAMAAABIu/HCAAAAMFBMVEX///9UVFSqqqrMzMwiIiJE\n",
       "RESYmJgyMjK6urru7u4QEBCIiIh2dnZmZmbc3NwAAABRgo0vAAAAAXRSTlMAQObYZgAAAjVJREFU\n",
       "SMftVr+LE0EU/jaXS25MLglaeHjN/gPqWaTVaCeIpBBELUwhNkFYGzslrVrcWgmHsI0KFkrgQIVF\n",
       "CIdeY+MP0CIa18pGQSOowSt87+1edmY9cLOphHshM/N9O9/M7Js38xZIY+p0A5ksCKvii2zyy2FV\n",
       "tTOpZ064Ui+7meTW9a7UTydSVd7170njJkKfXfRfTSC/FhS/SmONfuz5n64XpFaru5hvSquBT1zl\n",
       "Rqh2U8vnR8hL70IX1hITDrxeavmOJjxWIe9iphZu+3L6raOZ9ktjL/2v8La38CH91nk2dueCSMpD\n",
       "VDvkjtQ22y0cLnPQNMMXgNWanSBq1eLqx8ccNB0qSuRE1V/PEHNzUi5h27btP7H6/X8djf6A70Xz\n",
       "loybwySRwNba8K8MEqO50ZYJJsbeVT6R9aPGkseo3EgQyQ7hjbTg609jFE1jPtax5A7l5GUuf1VD\n",
       "wJfnh2yDuOUPDIwLt9+zzi5Tv8oRnMQY0Ys/wFnXII7js47JfstljIpDZQ87YwSstPAWBmGr1zqm\n",
       "Gb9z2QZ2YXwPh0jwMYPY037o6phSj+QxcuQB4E60oBAxVr8M4luiQ7QzOfJvMVAb0YiCyEEb0eCb\n",
       "BBId+DqX/BMI94PKGEENYTn7NIJfpaRjSmWcBuvhil5CPBMh4AzO1Xo68QhqoGMKOo65BW75KK+3\n",
       "ESPghn9wsaMTpTfnjQ70wcJFRz5hNgPJRFsQGn42zXHO1S5NI8+fcqaRF57w9v0BIj6SLUYLDE4A\n",
       "AAAASUVORK5CYII=\n",
       "\" style=\"display:inline;vertical-align:middle;\" /></a>"
      ],
      "text/plain": [
       "a and b \\\\  and c and d and e and f"
      ]
     },
     "execution_count": 8,
     "metadata": {},
     "output_type": "execute_result"
    }
   ],
   "source": [
    "expr.copy().with_wrapping_at(3)"
   ]
  },
  {
   "cell_type": "code",
   "execution_count": 9,
   "metadata": {},
   "outputs": [
    {
     "data": {
      "text/html": [
       "<strong id=\"new_expr\">new_expr:</strong> <a class=\"ProveItLink\" href=\"../__pv_it/demonstrations/1580906ec5ea3ab20a2addbbe4ea273c015a82d00/expr.ipynb\"><img src=\"data:image/png;base64,iVBORw0KGgoAAAANSUhEUgAAAHwAAAArBAMAAABIu/HCAAAAMFBMVEX///9UVFSqqqrMzMwiIiJE\n",
       "RESYmJgyMjK6urru7u4QEBCIiIh2dnZmZmbc3NwAAABRgo0vAAAAAXRSTlMAQObYZgAAAjVJREFU\n",
       "SMftVr+LE0EU/jaXS25MLglaeHjN/gPqWaTVaCeIpBBELUwhNkFYGzslrVrcWgmHsI0KFkrgQIVF\n",
       "CIdeY+MP0CIa18pGQSOowSt87+1edmY9cLOphHshM/N9O9/M7Js38xZIY+p0A5ksCKvii2zyy2FV\n",
       "tTOpZ064Ui+7meTW9a7UTydSVd7170njJkKfXfRfTSC/FhS/SmONfuz5n64XpFaru5hvSquBT1zl\n",
       "Rqh2U8vnR8hL70IX1hITDrxeavmOJjxWIe9iphZu+3L6raOZ9ktjL/2v8La38CH91nk2dueCSMpD\n",
       "VDvkjtQ22y0cLnPQNMMXgNWanSBq1eLqx8ccNB0qSuRE1V/PEHNzUi5h27btP7H6/X8djf6A70Xz\n",
       "loybwySRwNba8K8MEqO50ZYJJsbeVT6R9aPGkseo3EgQyQ7hjbTg609jFE1jPtax5A7l5GUuf1VD\n",
       "wJfnh2yDuOUPDIwLt9+zzi5Tv8oRnMQY0Ys/wFnXII7js47JfstljIpDZQ87YwSstPAWBmGr1zqm\n",
       "Gb9z2QZ2YXwPh0jwMYPY037o6phSj+QxcuQB4E60oBAxVr8M4luiQ7QzOfJvMVAb0YiCyEEb0eCb\n",
       "BBId+DqX/BMI94PKGEENYTn7NIJfpaRjSmWcBuvhil5CPBMh4AzO1Xo68QhqoGMKOo65BW75KK+3\n",
       "ESPghn9wsaMTpTfnjQ70wcJFRz5hNgPJRFsQGn42zXHO1S5NI8+fcqaRF57w9v0BIj6SLUYLDE4A\n",
       "AAAASUVORK5CYII=\n",
       "\" style=\"display:inline;vertical-align:middle;\" /></a><br>"
      ],
      "text/plain": [
       "new_expr: a and b \\\\  and c and d and e and f"
      ]
     },
     "execution_count": 9,
     "metadata": {},
     "output_type": "execute_result"
    }
   ],
   "source": [
    "new_expr = expr.copy().with_wrapping_at(3)"
   ]
  },
  {
   "cell_type": "code",
   "execution_count": 10,
   "metadata": {},
   "outputs": [
    {
     "data": {
      "text/html": [
       "<a class=\"ProveItLink\" href=\"../__pv_it/demonstrations/5ab700333465383903a07f07bdfaee6d01d6ecc60/expr.ipynb\"><img src=\"data:image/png;base64,iVBORw0KGgoAAAANSUhEUgAAALEAAAASBAMAAADmjyK2AAAAMFBMVEX///9UVFSqqqrMzMwiIiJE\n",
       "RESYmJgyMjK6urru7u4QEBCIiIh2dnZmZmbc3NwAAABRgo0vAAAAAXRSTlMAQObYZgAAAblJREFU\n",
       "OMu1kz9Lw0AYxp/0f/p/c9AhfgBpP0Id3BQqOHXKVBCX+AEqHZzq0Gx1KQWHgrgEugilUERc6lAc\n",
       "bdEIgqPiotm8u7Tpeyk0Ln1DXvjd+zyXu3svgD/USgkBEa6MAxTtgU1xBvGxzP46i5wWINgqaLRQ\n",
       "k2we++ssmuZqgfp7Ke3xyKQ2j/11FvcBgtCXVFAuLGJbMJa5FiBIi1Zlp5NrgS24rTvtP0mMUb9I\n",
       "OTvtfUsCdeT2yzPEng94rxp23F37HXu47sfs2ITxrkUNyg076lADzu3skDJrFV+82kWmLLCED3FG\n",
       "jluYM/ahaIS5waAG9QrtIjUAn5wzDiJiopgFRQwY6AwpO7MtLjgypANKt39MmUWBp2QZHcERE+G8\n",
       "e52bGuGkuyPKnTodyOVlwfwSsPWJL2CHvWdcqOPVJCw2ILPP4BOwOBQza9gI2bNBXszV2UlS1gGN\n",
       "8JKBn41FmMUNT1Ertpvm17zsbgiKHh1TzuRFgzxeMqQMtG3C/BcUebP3dsv7wM8uxb6tTh5AGY9V\n",
       "S6r7DRhUdYmRkH7BhMjFf/MqQbqM9cR2XF/TzHutNU2Mkxee/wDm5ZwUHgG6lAAAAABJRU5ErkJg\n",
       "gg==\n",
       "\" style=\"display:inline;vertical-align:middle;\" /></a>"
      ],
      "text/plain": [
       "a and b and c and d and e and f"
      ]
     },
     "execution_count": 10,
     "metadata": {},
     "output_type": "execute_result"
    }
   ],
   "source": [
    "expr"
   ]
  },
  {
   "cell_type": "code",
   "execution_count": 11,
   "metadata": {},
   "outputs": [
    {
     "data": {
      "text/html": [
       "<a class=\"ProveItLink\" href=\"../__pv_it/demonstrations/1580906ec5ea3ab20a2addbbe4ea273c015a82d00/expr.ipynb\"><img src=\"data:image/png;base64,iVBORw0KGgoAAAANSUhEUgAAAHwAAAArBAMAAABIu/HCAAAAMFBMVEX///9UVFSqqqrMzMwiIiJE\n",
       "RESYmJgyMjK6urru7u4QEBCIiIh2dnZmZmbc3NwAAABRgo0vAAAAAXRSTlMAQObYZgAAAjVJREFU\n",
       "SMftVr+LE0EU/jaXS25MLglaeHjN/gPqWaTVaCeIpBBELUwhNkFYGzslrVrcWgmHsI0KFkrgQIVF\n",
       "CIdeY+MP0CIa18pGQSOowSt87+1edmY9cLOphHshM/N9O9/M7Js38xZIY+p0A5ksCKvii2zyy2FV\n",
       "tTOpZ064Ui+7meTW9a7UTydSVd7170njJkKfXfRfTSC/FhS/SmONfuz5n64XpFaru5hvSquBT1zl\n",
       "Rqh2U8vnR8hL70IX1hITDrxeavmOJjxWIe9iphZu+3L6raOZ9ktjL/2v8La38CH91nk2dueCSMpD\n",
       "VDvkjtQ22y0cLnPQNMMXgNWanSBq1eLqx8ccNB0qSuRE1V/PEHNzUi5h27btP7H6/X8djf6A70Xz\n",
       "loybwySRwNba8K8MEqO50ZYJJsbeVT6R9aPGkseo3EgQyQ7hjbTg609jFE1jPtax5A7l5GUuf1VD\n",
       "wJfnh2yDuOUPDIwLt9+zzi5Tv8oRnMQY0Ys/wFnXII7js47JfstljIpDZQ87YwSstPAWBmGr1zqm\n",
       "Gb9z2QZ2YXwPh0jwMYPY037o6phSj+QxcuQB4E60oBAxVr8M4luiQ7QzOfJvMVAb0YiCyEEb0eCb\n",
       "BBId+DqX/BMI94PKGEENYTn7NIJfpaRjSmWcBuvhil5CPBMh4AzO1Xo68QhqoGMKOo65BW75KK+3\n",
       "ESPghn9wsaMTpTfnjQ70wcJFRz5hNgPJRFsQGn42zXHO1S5NI8+fcqaRF57w9v0BIj6SLUYLDE4A\n",
       "AAAASUVORK5CYII=\n",
       "\" style=\"display:inline;vertical-align:middle;\" /></a>"
      ],
      "text/plain": [
       "a and b \\\\  and c and d and e and f"
      ]
     },
     "execution_count": 11,
     "metadata": {},
     "output_type": "execute_result"
    }
   ],
   "source": [
    "new_expr"
   ]
  },
  {
   "cell_type": "code",
   "execution_count": 12,
   "metadata": {},
   "outputs": [
    {
     "data": {
      "text/html": [
       "<strong id=\"expr\">expr:</strong> <a class=\"ProveItLink\" href=\"../__pv_it/demonstrations/c5142734a1ca9983c18d99f5be95038d81fa81d40/expr.ipynb\"><img src=\"data:image/png;base64,iVBORw0KGgoAAAANSUhEUgAAAT8AAAAUBAMAAAAJlCfZAAAAMFBMVEX///9UVFTMzMx2dna6uroQ\n",
       "EBCqqqqIiIgiIiJmZmYyMjJERETu7u6YmJjc3NwAAAC+aOQFAAAAAXRSTlMAQObYZgAAAvhJREFU\n",
       "SMe1lr+LE0EUx98md/m9ScBCsco/IAQE4xXCNYexuka08WAtbUw4hJAuIhyITeDwrtNYXhNicWBz\n",
       "RwoFcymSzsaTtQuH4BViISl882Y2+2Z3NgkHmZDd/c57n3k7b2Z2BiA/hqXK82DFykGFDsP1ueNW\n",
       "uNJyAxVDs59eYsdtAygNC9BB0yW06zdG1xL+M21d01t31IMXr2v2C+iCYwLJsIC8ViPU9jtiCYtd\n",
       "VzDXVCrqfiRvAjT66Xq7bwKlYS6Z+/OZYqb8AYgV8ZLqK5hrKl+U1ydZI0Cjn67vGkFpmEsmLmXM\n",
       "CRt1kfsHHsw1lcym7OV92cNJlJ+uj4ygl885ZLwlYzbFsto/fCLqnuH/VDx8aBxoGiqNEsTl0JyB\n",
       "XBnNKD+m8/u7f8EESgPzzFWartaS/fZ1m9ATFFtu5pKSj0nuCe9//ZHLNEycbAdsOdnv4E+Ukyg/\n",
       "prfc7BQMoDIwz6qbL3ON81vkG9E9jLMDaapN1sESw5GYSrOn4RVYDiRkAlpwQfe9KD9fi4bx5cKg\n",
       "MjDPRzAo8ZYAfguN6EOA9BRSND1yLRwHLAiPylxTb2OUZVxjtNYINPppOlU2gtLge1o7je9cY6mp\n",
       "mOi+3oOR/PYcyFHAz9u2w/R6z39BXGO01gRo9tP0aNMEKoPvWSjqpLcAEcWEYxZqsvJCzuPCGN73\n",
       "maY0wVrLm9ZdNVJmP03XjGA4YoDE8lHFxCk7cuBmgj5O2Vs01IVNnCRc4+bpqLneVbEEaPbztWo4\n",
       "DIYiigGvM43lMchFsoGVdftlXH4ob1BCrHG2zXW6KKZwWvSS1hh9Sjei/HytGg6DoYjJDgxcpsVG\n",
       "Qi2WoYrP13d/vuC7Ue7wnr473T7HfmVEbFpjSdHLapQfa0c2bACDEaF5PtY0rNHERTSlnTV+BU4U\n",
       "XH8lbrada+A8bi4YScZ7CrUXnXogeFgAbc9fEfg0M/bQ0yXDzE5NXlkp+OZshg6XjJM1njtXBX57\n",
       "N0OXPYD/uOrJ/cogof8BTbE05R6dUusAAAAASUVORK5CYII=\n",
       "\" style=\"display:inline;vertical-align:middle;\" /></a><br>"
      ],
      "text/plain": [
       "expr: (a or b or c) and (b or c or d) and (d or e or f)"
      ]
     },
     "execution_count": 12,
     "metadata": {},
     "output_type": "execute_result"
    }
   ],
   "source": [
    "expr = And(Or(a, b, c), Or(b, c, d), Or(d, e, f))"
   ]
  },
  {
   "cell_type": "code",
   "execution_count": 13,
   "metadata": {},
   "outputs": [
    {
     "data": {
      "text/html": [
       "<strong id=\"new_expr\">new_expr:</strong> <a class=\"ProveItLink\" href=\"../__pv_it/demonstrations/c5142734a1ca9983c18d99f5be95038d81fa81d40/expr.ipynb\"><img src=\"data:image/png;base64,iVBORw0KGgoAAAANSUhEUgAAAT8AAAAUBAMAAAAJlCfZAAAAMFBMVEX///9UVFTMzMx2dna6uroQ\n",
       "EBCqqqqIiIgiIiJmZmYyMjJERETu7u6YmJjc3NwAAAC+aOQFAAAAAXRSTlMAQObYZgAAAvhJREFU\n",
       "SMe1lr+LE0EUx98md/m9ScBCsco/IAQE4xXCNYexuka08WAtbUw4hJAuIhyITeDwrtNYXhNicWBz\n",
       "RwoFcymSzsaTtQuH4BViISl882Y2+2Z3NgkHmZDd/c57n3k7b2Z2BiA/hqXK82DFykGFDsP1ueNW\n",
       "uNJyAxVDs59eYsdtAygNC9BB0yW06zdG1xL+M21d01t31IMXr2v2C+iCYwLJsIC8ViPU9jtiCYtd\n",
       "VzDXVCrqfiRvAjT66Xq7bwKlYS6Z+/OZYqb8AYgV8ZLqK5hrKl+U1ydZI0Cjn67vGkFpmEsmLmXM\n",
       "CRt1kfsHHsw1lcym7OV92cNJlJ+uj4ygl885ZLwlYzbFsto/fCLqnuH/VDx8aBxoGiqNEsTl0JyB\n",
       "XBnNKD+m8/u7f8EESgPzzFWartaS/fZ1m9ATFFtu5pKSj0nuCe9//ZHLNEycbAdsOdnv4E+Ukyg/\n",
       "prfc7BQMoDIwz6qbL3ON81vkG9E9jLMDaapN1sESw5GYSrOn4RVYDiRkAlpwQfe9KD9fi4bx5cKg\n",
       "MjDPRzAo8ZYAfguN6EOA9BRSND1yLRwHLAiPylxTb2OUZVxjtNYINPppOlU2gtLge1o7je9cY6mp\n",
       "mOi+3oOR/PYcyFHAz9u2w/R6z39BXGO01gRo9tP0aNMEKoPvWSjqpLcAEcWEYxZqsvJCzuPCGN73\n",
       "maY0wVrLm9ZdNVJmP03XjGA4YoDE8lHFxCk7cuBmgj5O2Vs01IVNnCRc4+bpqLneVbEEaPbztWo4\n",
       "DIYiigGvM43lMchFsoGVdftlXH4ob1BCrHG2zXW6KKZwWvSS1hh9Sjei/HytGg6DoYjJDgxcpsVG\n",
       "Qi2WoYrP13d/vuC7Ue7wnr473T7HfmVEbFpjSdHLapQfa0c2bACDEaF5PtY0rNHERTSlnTV+BU4U\n",
       "XH8lbrada+A8bi4YScZ7CrUXnXogeFgAbc9fEfg0M/bQ0yXDzE5NXlkp+OZshg6XjJM1njtXBX57\n",
       "N0OXPYD/uOrJ/cogof8BTbE05R6dUusAAAAASUVORK5CYII=\n",
       "\" style=\"display:inline;vertical-align:middle;\" /></a><br>"
      ],
      "text/plain": [
       "new_expr: (a or b or c) and (b or c or d) and (d or e or f)"
      ]
     },
     "execution_count": 13,
     "metadata": {},
     "output_type": "execute_result"
    }
   ],
   "source": [
    "new_expr = expr.copy()"
   ]
  },
  {
   "cell_type": "code",
   "execution_count": 14,
   "metadata": {},
   "outputs": [
    {
     "data": {
      "text/html": [
       "<a class=\"ProveItLink\" href=\"../__pv_it/demonstrations/168a70a6159786d536b8d518fcc2451ddc9366190/expr.ipynb\"><img src=\"data:image/png;base64,iVBORw0KGgoAAAANSUhEUgAAAUEAAAAyBAMAAAAw4XTZAAAAMFBMVEX///9UVFTMzMx2dna6uroQ\n",
       "EBCqqqqIiIgiIiJmZmYyMjJERETu7u6YmJjc3NwAAAC+aOQFAAAAAXRSTlMAQObYZgAABOpJREFU\n",
       "WMPNWU9oXEUY/97uuvv27b9QA4oX03MQF5SmPUhzKdZTKgQ9aGA99ODFrEUIObkiFNrmsKK2tzYe\n",
       "e1miEKgHyxYsNOlh9xZQ2z4PQiiCQYJFiaUz3zd/3076XrLidCD75s2beb/fm/m+7/fNBGC88nrK\n",
       "81vgueSbKR0Kq54Zfpza4ye/BItn6Fpd7+zXpdL0yvD2rKhEXf6bw/qU1aU675Xh97LSaPHfgJOr\n",
       "te0+Z70u8p6szfVxDifYT9i3O4U+lznsytpxuvTY31vJz3jskeGDWNa+WbrMLx+yv5vYMLOkzPGC\n",
       "R4aXlDv80x9wtiFb6TXesN2qqED4oO+NYG7XMMgGd5BSGwJ0788haMmHg7Y3huUzqrYKA+4Q1Q5s\n",
       "4v2e0S3yJyvPTYAOh3M4Z5fhGD5ZM7qV/LnKq0MVDodwDa3tIaC4DMwIU//XG8NPlSs3ZqsLpHGv\n",
       "tAVjUHYIb4+JUx9m6/fRSMu6qgXDCoXG3Is4leUJ2NDid+OwkAL07mi7MxEI4mTLe3rAlTdE7Tpd\n",
       "XrtnOPDJ5ECEzK13U+htLMcI2tPRQwm/KxGoSpeUTKt/O976uyuwi1fUZUNPafmUxoERyOcXWxy0\n",
       "pr9EC78zEZixpwlyj7J6VNtMgBQk1/IjvLIFDgpsBnZ/RNBQL54WfmcicFv0uiFain9lZDgQzKZX\n",
       "hJzHSsuP8soKOCiw9+8Q6LbxKiX8zkQgomQweFNMSe3PjAwbIm5OLtF1W69FxMgWui4KbIfRIdBl\n",
       "biBfXnnfEn5nIpCnN21C54CRuLEmDDmke4I8x5egyN5ZwSmtzizHFmTt6wvsIQP9gd2ciqMdMITf\n",
       "nQjUyFWOkWywwXtZtYcG5lt5ipEEWcHh7GunsfF0XG+akEBKz0DPM0ILUMZWKfzuRKBIc9dhwgEj\n",
       "4vtUhjQwhDpRFZB4wxZ+EqfwHYqgChLgD37PQOcRKkTbUsLvTARyOM/M0QKKBsFO1kSXMowt4boS\n",
       "EpXxjohiwcLSLyYFVhYF6Dzq/IBAhfC7EwFiyBwtN3EohivCdSUkTlVZLL30Jgkp3ZWBnkedX6RG\n",
       "IfzuRKDQkd7TO9gqhziQO0UUi1VWkHXhPg2ZazyUjgjfClBmtoMWvFSMTeF3JgLkKT3Bkln+4wN5\n",
       "CmdX7ApP0ZDfban9VtuAZOVdIE85wRrbtc/ypvC7E4Ey/0x0NAqppf3iYVJxKY+cVsHZgjxK8bq0\n",
       "ChuxAcklBaGbcJrVXzj36yemorkTgYjbKjpaCT+ztmvz0pLaaNnxEAlPCtcFG1JK4fK9oS2qBTRz\n",
       "BhrGTxN+8/4OjtM8ijZDQ1Ln7L0TmfGs+gwLst7fBzK/JkBr3YzWpDIHNWl27mxI6nF35iBLJsgP\n",
       "oqEEvZmRYHVkQ5TIvrSkXrcfLLYSA7NAXtpUoHczMqyMZLAX7VshqUJxjXIydmWwKWXrqgLNmpLf\n",
       "H2m5lgh75OlScXV5+fC7gPtjHorYRk6SqhTXtVv433ejtn2RpCrF1TP2yBtDvaM3JFUp7rOwoy8n\n",
       "UgeUVC3yysU63hgWdhNUuKRqxVWS4u9kKXkyiJKqFVcdTfg7nRs5GeSR2hD5/+hQZCxXaaZv5/2e\n",
       "Ehez5LBR1yPDpAA7y9m+T4a/TaUnHH7/41NMD3WB10UG+CK1x89+CUKQFo29//cWvkp5fmtsP3kC\n",
       "F/tlAd2hnLgAAAAASUVORK5CYII=\n",
       "\" style=\"display:inline;vertical-align:middle;\" /></a>"
      ],
      "text/plain": [
       "(a or b or c) and (b or c \\\\  or d) and (d or e or f)"
      ]
     },
     "execution_count": 14,
     "metadata": {},
     "output_type": "execute_result"
    }
   ],
   "source": [
    "new_expr.inner_expr().operands[1].with_wrapping_at(3)"
   ]
  },
  {
   "cell_type": "code",
   "execution_count": 15,
   "metadata": {},
   "outputs": [
    {
     "data": {
      "text/html": [
       "<a class=\"ProveItLink\" href=\"../__pv_it/demonstrations/c5142734a1ca9983c18d99f5be95038d81fa81d40/expr.ipynb\"><img src=\"data:image/png;base64,iVBORw0KGgoAAAANSUhEUgAAAT8AAAAUBAMAAAAJlCfZAAAAMFBMVEX///9UVFTMzMx2dna6uroQ\n",
       "EBCqqqqIiIgiIiJmZmYyMjJERETu7u6YmJjc3NwAAAC+aOQFAAAAAXRSTlMAQObYZgAAAvhJREFU\n",
       "SMe1lr+LE0EUx98md/m9ScBCsco/IAQE4xXCNYexuka08WAtbUw4hJAuIhyITeDwrtNYXhNicWBz\n",
       "RwoFcymSzsaTtQuH4BViISl882Y2+2Z3NgkHmZDd/c57n3k7b2Z2BiA/hqXK82DFykGFDsP1ueNW\n",
       "uNJyAxVDs59eYsdtAygNC9BB0yW06zdG1xL+M21d01t31IMXr2v2C+iCYwLJsIC8ViPU9jtiCYtd\n",
       "VzDXVCrqfiRvAjT66Xq7bwKlYS6Z+/OZYqb8AYgV8ZLqK5hrKl+U1ydZI0Cjn67vGkFpmEsmLmXM\n",
       "CRt1kfsHHsw1lcym7OV92cNJlJ+uj4ygl885ZLwlYzbFsto/fCLqnuH/VDx8aBxoGiqNEsTl0JyB\n",
       "XBnNKD+m8/u7f8EESgPzzFWartaS/fZ1m9ATFFtu5pKSj0nuCe9//ZHLNEycbAdsOdnv4E+Ukyg/\n",
       "prfc7BQMoDIwz6qbL3ON81vkG9E9jLMDaapN1sESw5GYSrOn4RVYDiRkAlpwQfe9KD9fi4bx5cKg\n",
       "MjDPRzAo8ZYAfguN6EOA9BRSND1yLRwHLAiPylxTb2OUZVxjtNYINPppOlU2gtLge1o7je9cY6mp\n",
       "mOi+3oOR/PYcyFHAz9u2w/R6z39BXGO01gRo9tP0aNMEKoPvWSjqpLcAEcWEYxZqsvJCzuPCGN73\n",
       "maY0wVrLm9ZdNVJmP03XjGA4YoDE8lHFxCk7cuBmgj5O2Vs01IVNnCRc4+bpqLneVbEEaPbztWo4\n",
       "DIYiigGvM43lMchFsoGVdftlXH4ob1BCrHG2zXW6KKZwWvSS1hh9Sjei/HytGg6DoYjJDgxcpsVG\n",
       "Qi2WoYrP13d/vuC7Ue7wnr473T7HfmVEbFpjSdHLapQfa0c2bACDEaF5PtY0rNHERTSlnTV+BU4U\n",
       "XH8lbrada+A8bi4YScZ7CrUXnXogeFgAbc9fEfg0M/bQ0yXDzE5NXlkp+OZshg6XjJM1njtXBX57\n",
       "N0OXPYD/uOrJ/cogof8BTbE05R6dUusAAAAASUVORK5CYII=\n",
       "\" style=\"display:inline;vertical-align:middle;\" /></a>"
      ],
      "text/plain": [
       "(a or b or c) and (b or c or d) and (d or e or f)"
      ]
     },
     "execution_count": 15,
     "metadata": {},
     "output_type": "execute_result"
    }
   ],
   "source": [
    "expr"
   ]
  },
  {
   "cell_type": "code",
   "execution_count": 16,
   "metadata": {},
   "outputs": [
    {
     "name": "stdout",
     "output_type": "stream",
     "text": [
      "True\n"
     ]
    }
   ],
   "source": [
    "print(expr==new_expr)"
   ]
  },
  {
   "cell_type": "code",
   "execution_count": 17,
   "metadata": {},
   "outputs": [
    {
     "data": {
      "text/html": [
       "<span style=\"font-size:20px;\"> <a class=\"ProveItLink\" href=\"axioms.ipynb#and_t_t\" style=\"text-decoration: none\">&nbsp;&#x22A2;&nbsp;&nbsp;</a><a class=\"ProveItLink\" href=\"../__pv_it/axioms/7b5a0e7b79eeb92155c7892ccd1bb94a860f999c0/expr.ipynb\"><img src=\"data:image/png;base64,iVBORw0KGgoAAAANSUhEUgAAAHAAAAAUBAMAAACnq6Q0AAAAMFBMVEX////MzMxUVFR2dna6uroQ\n",
       "EBCqqqqIiIgiIiJmZmYyMjJERETu7u6YmJjc3NwAAACgK8IjAAAAAXRSTlMAQObYZgAAAQRJREFU\n",
       "OMtjYOC7wIAH5OGWOs3A2QEGCsiiM8BCTQxMD9DVw2QY1oF4bAUwcT64inQQwbMAi11gGd4JqBq5\n",
       "JqBIM5jj0sjxAFWjdA+qxqO4NL5gQNWoUo6qkcsBh8ZKVI08CzhQNTJPwKFxL6pG5gTmBBSNvODQ\n",
       "sVoFAiuRZdpQNXIw8C1A0cjWgMPGEFSN1xkYFFE0Mn4gTiMwTIWI04jqVDZgUHA9QNbI0oDw4yLc\n",
       "gQPSxDYBM3Cw2GiJolEa6lyERk4DHBo9IA6CZhEVEAFNAr4QNwhgavRFJDkYACcTRmSRE7hyFe8E\n",
       "BrzAHKfMPrz6sGYrWEbGB7gf4JTCX3TcwyUBAKQERsxzlZRzAAAAAElFTkSuQmCC\n",
       "\" style=\"display:inline;vertical-align:middle;\" /></a></span>"
      ],
      "text/plain": [
       "|- (TRUE and TRUE) = TRUE"
      ]
     },
     "execution_count": 17,
     "metadata": {},
     "output_type": "execute_result"
    }
   ],
   "source": [
    "And(TRUE, TRUE).evaluation()"
   ]
  },
  {
   "cell_type": "code",
   "execution_count": 18,
   "metadata": {},
   "outputs": [
    {
     "data": {
      "text/html": [
       "<span style=\"font-size:20px;\"> <a class=\"ProveItLink\" href=\"../__pv_it/demonstrations/61012cece66231121dd0c2b2cbd43ca9f0fd319e0/proof.ipynb\" style=\"text-decoration: none\">&nbsp;&#x22A2;&nbsp;&nbsp;</a><a class=\"ProveItLink\" href=\"../__pv_it/demonstrations/22ec05b0a0a89678843dc7d6346e7dc63ce1dba80/expr.ipynb\"><img src=\"data:image/png;base64,iVBORw0KGgoAAAANSUhEUgAAAJgAAAAUBAMAAACDnumxAAAAMFBMVEX////MzMxUVFR2dna6uroQ\n",
       "EBCqqqqIiIgiIiJmZmYyMjJERETu7u6YmJjc3NwAAACgK8IjAAAAAXRSTlMAQObYZgAAAV5JREFU\n",
       "OMtjYOC7wEAiyMMtdZqBYUYHCDQhi3KChToUkMVgypgeoJsBN2AdmJsOE+eDq2ArgLEQmsHKeBZg\n",
       "cRNYhncCqmFcEzANW4mqhcEcl2EcD1ANk+7BMIxxxwFUw47iMuwFA6phKuUYhjG5F6AaxuWAw7BK\n",
       "VMN4FnBgGHaKoQHVMOYJOAzbi2oYcwJzArphZkCIYhgvOAasVoHASmSZNlTDOBj4FqAb1sDwCtUw\n",
       "tgYcLgtBNew6A4MimmG8BQxMAiiGMX4gzjBgXAqhGcZxgIFRgTjDUL3JBgxargeohmUywFI2TBlL\n",
       "AyLMFuGOAJBBbBNQDVsHNRA9ArC4zBLFMGmoV5EMY9wA8SqSMk4DHIZ5QNi+0CQLIqDJlgVSnDCB\n",
       "Uih7AbIyLgFMw3yRshMUgJM2I4oqFjCJov0ErhKIdwIDycAcp8w+ks3CWgTBC0cSAfcDnFKkF9v3\n",
       "cEkAACnVXHaJ7u4NAAAAAElFTkSuQmCC\n",
       "\" style=\"display:inline;vertical-align:middle;\" /></a></span>"
      ],
      "text/plain": [
       "|- (TRUE and TRUE and TRUE) = TRUE"
      ]
     },
     "execution_count": 18,
     "metadata": {},
     "output_type": "execute_result"
    }
   ],
   "source": [
    "And(TRUE, TRUE, TRUE).evaluation()"
   ]
  },
  {
   "cell_type": "code",
   "execution_count": 19,
   "metadata": {},
   "outputs": [
    {
     "data": {
      "text/html": [
       "<span style=\"font-size:20px;\"> <a class=\"ProveItLink\" href=\"../../negation/_theory_nbs_/proofs/not_false/thm_proof.ipynb\" style=\"text-decoration: none\">&nbsp;&#x22A2;&nbsp;&nbsp;</a><a class=\"ProveItLink\" href=\"../../negation/__pv_it/axioms/e1feaabc93f743fa3f5d29b2d0ee6b68d4ad3bc90/expr.ipynb\"><img src=\"data:image/png;base64,iVBORw0KGgoAAAANSUhEUgAAABwAAAAOBAMAAADOPWE3AAAAIVBMVEX///8QEBCIiIiqqqrMzMxU\n",
       "VFTc3Nx2dnYiIiJmZmYAAACQPOdZAAAAAXRSTlMAQObYZgAAACVJREFUCNdjYIADZwYUYERl7owO\n",
       "IGhHlU2lgMuCbhHQAsGOjlYA220KwYq1fgIAAAAASUVORK5CYII=\n",
       "\" style=\"display:inline;vertical-align:middle;\" /></a></span>"
      ],
      "text/plain": [
       "|- [not](FALSE)"
      ]
     },
     "execution_count": 19,
     "metadata": {},
     "output_type": "execute_result"
    }
   ],
   "source": [
    "Not(FALSE).prove()"
   ]
  },
  {
   "cell_type": "code",
   "execution_count": 20,
   "metadata": {},
   "outputs": [
    {
     "data": {
      "text/html": [
       "<span style=\"font-size:20px;\"> <a class=\"ProveItLink\" href=\"../__pv_it/demonstrations/80f61d615ed2a121608405df7883261962f13ac20/proof.ipynb\" style=\"text-decoration: none\">&nbsp;&#x22A2;&nbsp;&nbsp;</a><a class=\"ProveItLink\" href=\"../__pv_it/demonstrations/da02189fb8ea117adec565ee99dde16b997aa6f80/expr.ipynb\"><img src=\"data:image/png;base64,iVBORw0KGgoAAAANSUhEUgAAALYAAAAUBAMAAADSCtrSAAAAMFBMVEX////MzMxUVFR2dna6uroQ\n",
       "EBCqqqqIiIgiIiJmZmYyMjJERETu7u6YmJjc3NwAAACgK8IjAAAAAXRSTlMAQObYZgAAAb1JREFU\n",
       "OMuNlb9Lw0AUx1+aEtOYlOLawQrO0slSJze7FBwcHLtpF8lWugVByeAQcHGs4lKH4uiidBGkLm5C\n",
       "B8lYnPwTzN3lxz3uXskLvOS+ufv09b17F4D6F2hN0a1YP/ECSPsEuAuZXSp6bsaA+T08IVtVUX4z\n",
       "58348CwPN3uYySH7zC/SUcHiq9yJJmL+xosw2xHjTJfZpi9GU0yADsW2Y8xu3oi7HSts91gk6GWO\n",
       "2e8UewWYvTsS9xUobHjkvnLkY7ZzSLDHmO1ObPEw1rC7INIeYLYZEexXzDYHJt8TmY7YS+73kwux\n",
       "PV7MgydmU/nNNWbbUBdlT/Qa30rtgn3OfQC/mG0FRNwnmP0NsAOSDvVWwd7mUfpQaSC28VeOneyS\n",
       "rfVsew5Gqxwb58RKyuLEko7YPeaGUl+JVdWgyPcDXUvGtSK5ljJ7mfXrUFNLTdxdxG6mecl1gEbB\n",
       "vmUJeBZ5kVbV2gS7J577aecwN5J04Nvl6jQMk/jvWeewRtnw5VVOQ2X3ld4G3mGGqou+Ynmt5n8m\n",
       "tw/qiPWi0rrp66d2yPP7rbS+0E/UnrHqN2C9TkSxGZPs0t80j2D8UOR/hXR3JQqB1WQAAAAASUVO\n",
       "RK5CYII=\n",
       "\" style=\"display:inline;vertical-align:middle;\" /></a></span>"
      ],
      "text/plain": [
       "|- (TRUE and [not](FALSE) and TRUE) = TRUE"
      ]
     },
     "execution_count": 20,
     "metadata": {},
     "output_type": "execute_result"
    }
   ],
   "source": [
    "And(TRUE, Not(FALSE), TRUE).evaluation()"
   ]
  },
  {
   "cell_type": "code",
   "execution_count": 21,
   "metadata": {},
   "outputs": [
    {
     "data": {
      "text/html": [
       "<span style=\"font-size:20px;\"> <a class=\"ProveItLink\" href=\"../__pv_it/demonstrations/a4425f6bdd826e00fa76aed91393469873520f290/proof.ipynb\" style=\"text-decoration: none\">&nbsp;&#x22A2;&nbsp;&nbsp;</a><a class=\"ProveItLink\" href=\"../__pv_it/demonstrations/3a6a719d2e2c0bf2df7d66d6dbf17cb02a8f7de60/expr.ipynb\"><img src=\"data:image/png;base64,iVBORw0KGgoAAAANSUhEUgAAAHsAAAAUBAMAAABfS1/DAAAAMFBMVEX///8QEBB2dnbu7u5ERETM\n",
       "zMwyMjLc3NyYmJi6urqIiIiqqqpUVFQiIiJmZmYAAAB/Rz/cAAAAAXRSTlMAQObYZgAAAUpJREFU\n",
       "OMtjYMAKKtAFtmNXx/D2LgjcQRVkdkDiRIMIngIUBXxgXXcPgNi74KIwNWzIisHSzAkQDjtcmHsB\n",
       "sjwY5EHpPgZ07QxaUIMf4NbO6msAYVzH1G4I4YRcxq2dZxZEiP0Cpna2CWDq5Crc2s0YIPq4HmBq\n",
       "Z3oACQJe3Nq1gRAEWBowtXOAw45pA9MGnNovMJSBad4N0Ai9hJDmBjuMl4E9AZd2jgUMPAEgBuME\n",
       "qEgNQpr1A4jsYmA4iks7rwED6wH82oHhHoNL+z4gToc5Hl07J8jx3A8QSQpDezrUCETQ1aAFHUgr\n",
       "9wPs2lkdIB6ARRJICCHNpwBKNFAPoGifAU00IB9zLYA5FJ6jBME5ig0UqCdBQtCEw9mAms04wWQA\n",
       "RqKFAFsQMQHuJLygD1NIi4F4wFKALgLLsEQBlOICh4H4AEZh1Y5dHQD3xGPefLx4SgAAAABJRU5E\n",
       "rkJggg==\n",
       "\" style=\"display:inline;vertical-align:middle;\" /></a></span>"
      ],
      "text/plain": [
       "|- TRUE and [not](FALSE) and TRUE"
      ]
     },
     "execution_count": 21,
     "metadata": {},
     "output_type": "execute_result"
    }
   ],
   "source": [
    "And(TRUE, Not(FALSE), TRUE).prove()"
   ]
  },
  {
   "cell_type": "code",
   "execution_count": 22,
   "metadata": {},
   "outputs": [
    {
     "data": {
      "text/html": [
       "<span style=\"font-size:20px;\"> <a class=\"ProveItLink\" href=\"../__pv_it/demonstrations/80f61d615ed2a121608405df7883261962f13ac20/proof.ipynb\" style=\"text-decoration: none\">&nbsp;&#x22A2;&nbsp;&nbsp;</a><a class=\"ProveItLink\" href=\"../__pv_it/demonstrations/da02189fb8ea117adec565ee99dde16b997aa6f80/expr.ipynb\"><img src=\"data:image/png;base64,iVBORw0KGgoAAAANSUhEUgAAALYAAAAUBAMAAADSCtrSAAAAMFBMVEX////MzMxUVFR2dna6uroQ\n",
       "EBCqqqqIiIgiIiJmZmYyMjJERETu7u6YmJjc3NwAAACgK8IjAAAAAXRSTlMAQObYZgAAAb1JREFU\n",
       "OMuNlb9Lw0AUx1+aEtOYlOLawQrO0slSJze7FBwcHLtpF8lWugVByeAQcHGs4lKH4uiidBGkLm5C\n",
       "B8lYnPwTzN3lxz3uXskLvOS+ufv09b17F4D6F2hN0a1YP/ECSPsEuAuZXSp6bsaA+T08IVtVUX4z\n",
       "58348CwPN3uYySH7zC/SUcHiq9yJJmL+xosw2xHjTJfZpi9GU0yADsW2Y8xu3oi7HSts91gk6GWO\n",
       "2e8UewWYvTsS9xUobHjkvnLkY7ZzSLDHmO1ObPEw1rC7INIeYLYZEexXzDYHJt8TmY7YS+73kwux\n",
       "PV7MgydmU/nNNWbbUBdlT/Qa30rtgn3OfQC/mG0FRNwnmP0NsAOSDvVWwd7mUfpQaSC28VeOneyS\n",
       "rfVsew5Gqxwb58RKyuLEko7YPeaGUl+JVdWgyPcDXUvGtSK5ljJ7mfXrUFNLTdxdxG6mecl1gEbB\n",
       "vmUJeBZ5kVbV2gS7J577aecwN5J04Nvl6jQMk/jvWeewRtnw5VVOQ2X3ld4G3mGGqou+Ynmt5n8m\n",
       "tw/qiPWi0rrp66d2yPP7rbS+0E/UnrHqN2C9TkSxGZPs0t80j2D8UOR/hXR3JQqB1WQAAAAASUVO\n",
       "RK5CYII=\n",
       "\" style=\"display:inline;vertical-align:middle;\" /></a></span>"
      ],
      "text/plain": [
       "|- (TRUE and [not](FALSE) and TRUE) = TRUE"
      ]
     },
     "execution_count": 22,
     "metadata": {},
     "output_type": "execute_result"
    }
   ],
   "source": [
    "And(TRUE, Not(FALSE), TRUE).evaluation()"
   ]
  },
  {
   "cell_type": "code",
   "execution_count": 23,
   "metadata": {},
   "outputs": [
    {
     "data": {
      "text/html": [
       "<span style=\"font-size:20px;\"> <a class=\"ProveItLink\" href=\"../__pv_it/demonstrations/ed8824b71542b61491c3311b6e7f87f1aea8b1d20/proof.ipynb\" style=\"text-decoration: none\">&nbsp;&#x22A2;&nbsp;&nbsp;</a><a class=\"ProveItLink\" href=\"../__pv_it/demonstrations/d031db44cf8115974de6c6788a5ff1be74878e830/expr.ipynb\"><img src=\"data:image/png;base64,iVBORw0KGgoAAAANSUhEUgAAAKgAAAAUBAMAAADrbWuJAAAAMFBMVEX////MzMxUVFR2dna6uroQ\n",
       "EBCqqqqIiIgiIiJmZmYyMjJERETu7u6YmJjc3NwAAACgK8IjAAAAAXRSTlMAQObYZgAAAYdJREFU\n",
       "OMuVlbFLw0AUxr80EtOYlOLgUgSFDo5Oik4ZdXDTvZu4SLbiFhzEwSGTOAa3Ooj/gKWLILq4uUlG\n",
       "EQf/BHN5l5iXvEjzwXeXfsf9erlLXoDeG0Q15aRT7Qa9onuZaW2+HCuq6SRkrptswjlwr35ZQbHA\n",
       "/KKcG1nbp4Fj1bgxuaZs1Is41ImoZ3lH8bygNA3b2iLUTjh0cEU9yw21BfasDH3SFqGf4NDhmHqe\n",
       "q73YL0+D45NF6BmHurFNFzw/ST1lUDMii9BHDjVH5gj1PP0n44FBvZgM7N4pTcqjFxxqo0dnyvPF\n",
       "AB2fQa2QLK70kEPfgXXUczfEC5sG44c8DzQ9+2UBimtstYDy27TSrXcSYVu+EHLoQkjO9/S2+aAU\n",
       "0IqEA1xaDdBwUMJKd9jkgd6Cag5jY8ah3U2yCN2jm9ElaaiacT0HJkXJOMpKhtMnV3Xw9zrm8ovy\n",
       "YVdK0Hdl8rO2KC9ql+dqKiikacs8f50bSl9ejNvl+mlIyGj32fj/c/KhLeoXDXl0jMZkfNsAAAAA\n",
       "SUVORK5CYII=\n",
       "\" style=\"display:inline;vertical-align:middle;\" /></a></span>"
      ],
      "text/plain": [
       "|- (TRUE and (TRUE or FALSE)) = TRUE"
      ]
     },
     "execution_count": 23,
     "metadata": {},
     "output_type": "execute_result"
    }
   ],
   "source": [
    "And(TRUE, Or(TRUE, FALSE)).evaluation()"
   ]
  },
  {
   "cell_type": "code",
   "execution_count": 24,
   "metadata": {},
   "outputs": [
    {
     "data": {
      "text/html": [
       "<span style=\"font-size:20px;\"> <a class=\"ProveItLink\" href=\"../__pv_it/demonstrations/60ead0b5594c27c41676a097e2c2231bb6c616600/proof.ipynb\" style=\"text-decoration: none\">&nbsp;&#x22A2;&nbsp;&nbsp;</a><a class=\"ProveItLink\" href=\"../__pv_it/demonstrations/ec5b903d616e454e5181e6b316d8f4c7139dd1fd0/expr.ipynb\"><img src=\"data:image/png;base64,iVBORw0KGgoAAAANSUhEUgAAAM4AAAAUBAMAAAA3lB++AAAAMFBMVEX////MzMxUVFR2dna6uroQ\n",
       "EBCqqqqIiIgiIiJmZmYyMjJERETu7u6YmJjc3NwAAACgK8IjAAAAAXRSTlMAQObYZgAAAcpJREFU\n",
       "SMedlbFLw0AUxl+b2kabFHFwKWKFDk6OQreOOggOCo7d1C2buAVBcZASEMSxgosO0n/A0rku3aRO\n",
       "GUX0fzB3SeN9764p8UHv6MeX98u9vLwQ1cZkjB/KiHKYT4/ijRavZTRAdvp0L+UL5i90xLql5Zml\n",
       "E63K9UXehzcVa8m+JO/sOMkh12X6s46YnetqyCRugJylIN4npHCKAuF6Sj7LQzvXNY4dIqd+E+9d\n",
       "lVMQNbWHSj5nH+1c1zifhJzmWVwPX+XI4u6q+egR7Jqucc6R4/RsuVcC4JxGvwHka4Gd6zrnFTlW\n",
       "x5J9Ux0DJ8pW6EO+D7Az3XqWESicK+TYVOvJvQOcikfFNuQ7ATvX9fMcIOedaEPsC23gOH7asYl1\n",
       "Hexcn8uJ2mfFwKE72jblm9rnc7Bu5SB5Q1nd6It8zLcDdqYnz6cxsw/EReJi3gdUXfMMzzu18/7Q\n",
       "z9MCTj0pBlnY11TYHCLnFuxMN3DkOamUDO2mWMSrV4rLtJean+QajdzLIzlyH8DOdCWiYXwohrEN\n",
       "k7ydTs0u83/jX8dHO+qGcAOzPqHMMM3LLD0dJzyqYSZnlFMX3zljOP1MziCnTv/7brthPp1+ARkF\n",
       "hcBZBBcSAAAAAElFTkSuQmCC\n",
       "\" style=\"display:inline;vertical-align:middle;\" /></a></span>"
      ],
      "text/plain": [
       "|- (TRUE and (TRUE or FALSE) and FALSE) = FALSE"
      ]
     },
     "execution_count": 24,
     "metadata": {},
     "output_type": "execute_result"
    }
   ],
   "source": [
    "And(TRUE, Or(TRUE, FALSE), FALSE).evaluation()"
   ]
  },
  {
   "cell_type": "code",
   "execution_count": null,
   "metadata": {},
   "outputs": [],
   "source": []
  },
  {
   "cell_type": "code",
   "execution_count": null,
   "metadata": {},
   "outputs": [],
   "source": []
  },
  {
   "cell_type": "code",
   "execution_count": 25,
   "metadata": {},
   "outputs": [
    {
     "data": {
      "text/html": [
       "<span style=\"font-size:20px;\"> <a class=\"ProveItLink\" href=\"proofs/true_and_true/thm_proof.ipynb\" style=\"text-decoration: none\">&nbsp;&#x22A2;&nbsp;&nbsp;</a><a class=\"ProveItLink\" href=\"../__pv_it/axioms/af82a1f51d87d20e22fd377cd6923e59b60c04c80/expr.ipynb\"><img src=\"data:image/png;base64,iVBORw0KGgoAAAANSUhEUgAAADUAAAAPBAMAAAC2KZqIAAAALVBMVEX///92dnbu7u5ERETMzMwy\n",
       "MjLc3NyYmJi6urqIiIiqqqpUVFQiIiJmZmYAAADMZXmcAAAAAXRSTlMAQObYZgAAAHFJREFUGNNj\n",
       "uHMGBE4zIAFesNCZDSD2SrhoAozBNQHKQMjF4pZjsVHAKcfdOQGnnCrDAZxyUkCIS+4AQyouOfYJ\n",
       "DNwOOOR4FBhYNuCQWwvEYTjkwqDyWORYDCDmosi1Q33eACQ4IYIcBQwogANMOiAEAGEgJV+JGj3x\n",
       "AAAAAElFTkSuQmCC\n",
       "\" style=\"display:inline;vertical-align:middle;\" /></a></span>"
      ],
      "text/plain": [
       "|- TRUE and TRUE"
      ]
     },
     "execution_count": 25,
     "metadata": {},
     "output_type": "execute_result"
    }
   ],
   "source": [
    "And(TRUE, TRUE).prove()"
   ]
  },
  {
   "cell_type": "code",
   "execution_count": 26,
   "metadata": {},
   "outputs": [
    {
     "data": {
      "text/html": [
       "<span style=\"font-size:20px;\"> <a class=\"ProveItLink\" href=\"proofs/true_and_false_negated/thm_proof.ipynb\" style=\"text-decoration: none\">&nbsp;&#x22A2;&nbsp;&nbsp;</a><a class=\"ProveItLink\" href=\"../__pv_it/theorems/85fe910f4c4664aeec8dc44a9adad8d129b8eea90/expr.ipynb\"><img src=\"data:image/png;base64,iVBORw0KGgoAAAANSUhEUgAAAFYAAAAUBAMAAADl6NejAAAAMFBMVEX///+6uroQEBCqqqqIiIgy\n",
       "MjJERETu7u6YmJjMzMxUVFTc3Nx2dnYiIiJmZmYAAAAutVgsAAAAAXRSTlMAQObYZgAAAPdJREFU\n",
       "KM9jYECAHQx4APMGZB57AsPbuyBwC00ZpwGIXI0sxArWaQLjciOMdACRpchq+xhQ1LI+QFXL44Ck\n",
       "9jaq2mnXUdWyKyCUcl9AVbvQBVUtQyBCLcsDFLXsAbxoas8h1LI1oKjlMeAxQFXbCgmmO0AmrwGK\n",
       "Wl4G7gBUtbYQ3i4gZhJAUdvCwLASVe18nGqBoTALp1pUNzA/gEUOXK0sQi2q30DqmB+g+Q0S4yCP\n",
       "o4TZNKg7kNS+QYQZIyQuJKAxASJAscF39+4l3bt3FzAwRGLEMRQIwKxDJMMLGGkHJ0BJO2wb8Kot\n",
       "RUvr+EA2Cg9vHuLYwAAAxXE7tI62KFkAAAAASUVORK5CYII=\n",
       "\" style=\"display:inline;vertical-align:middle;\" /></a></span>"
      ],
      "text/plain": [
       "|- [not](TRUE and FALSE)"
      ]
     },
     "execution_count": 26,
     "metadata": {},
     "output_type": "execute_result"
    }
   ],
   "source": [
    "Not(And(TRUE, FALSE)).prove()"
   ]
  },
  {
   "cell_type": "code",
   "execution_count": 27,
   "metadata": {},
   "outputs": [
    {
     "data": {
      "text/html": [
       "<span style=\"font-size:20px;\"> <a class=\"ProveItLink\" href=\"proofs/false_and_true_negated/thm_proof.ipynb\" style=\"text-decoration: none\">&nbsp;&#x22A2;&nbsp;&nbsp;</a><a class=\"ProveItLink\" href=\"../__pv_it/theorems/1d9000babe9f0b411cc808f1963fbefaf5d8d7180/expr.ipynb\"><img src=\"data:image/png;base64,iVBORw0KGgoAAAANSUhEUgAAAFYAAAAUBAMAAADl6NejAAAAMFBMVEX///+6uroQEBCqqqqIiIgy\n",
       "MjJERETu7u6YmJjMzMxUVFTc3Nx2dnYiIiJmZmYAAAAutVgsAAAAAXRSTlMAQObYZgAAAPZJREFU\n",
       "KM9jYECAHQx4APMGZB57AoicjKaG7y4YLGBYjSzKCtZpAuNyI4x0AJGlyGr7GFDUsj5AVcvjgKT2\n",
       "NqraaddR1bIrIJRyX0BVu9AFVS1DIEItywMUtewBvGhqzyHUsjWgqOUx4DFAVdvK8BYUIneATF4D\n",
       "FLW8DNwBqGptIbxdQMwkgKK2hYFhJara+TjVAkNhFk61qG5gfgCLHLhaWYRaVL+B1DE/QPMbGHCC\n",
       "PI4SZtOg7kBS+wYRZozAuAAGitLdu7dAMQESgsYGI8TGSIw4hgIBmHWIZHgBI+3gBChph20DXrWl\n",
       "mGkdJ8hG4eHNQxwbGACwdDx3X6+6OwAAAABJRU5ErkJggg==\n",
       "\" style=\"display:inline;vertical-align:middle;\" /></a></span>"
      ],
      "text/plain": [
       "|- [not](FALSE and TRUE)"
      ]
     },
     "execution_count": 27,
     "metadata": {},
     "output_type": "execute_result"
    }
   ],
   "source": [
    "Not(And(FALSE,TRUE)).prove()"
   ]
  },
  {
   "cell_type": "code",
   "execution_count": 28,
   "metadata": {},
   "outputs": [
    {
     "data": {
      "text/html": [
       "<span style=\"font-size:20px;\"> <a class=\"ProveItLink\" href=\"proofs/false_and_false_negated/thm_proof.ipynb\" style=\"text-decoration: none\">&nbsp;&#x22A2;&nbsp;&nbsp;</a><a class=\"ProveItLink\" href=\"../__pv_it/theorems/a159d61736813573c34700de798d38f9f1d202850/expr.ipynb\"><img src=\"data:image/png;base64,iVBORw0KGgoAAAANSUhEUgAAAFYAAAAUBAMAAADl6NejAAAAMFBMVEX///+6uroQEBCqqqqIiIgy\n",
       "MjJERETu7u6YmJjMzMxUVFTc3Nx2dnYiIiJmZmYAAAAutVgsAAAAAXRSTlMAQObYZgAAAPxJREFU\n",
       "KM9jYECAHQx4APMGZB57AoicjKmM0wBErkYWYgXrNIFxuRFGOoDIUmS1fQwoalkfoKrlcUBSextV\n",
       "7bTrqGrZFRBKuS+gql3ogqqWIRChluUBilr2AF40tecQatkaUNTyGPAYoKptZXh7FwjuAJm8Bihq\n",
       "eRm4A1DV2kJ4u4CYSQBFbQsDw0pUtfNxqgWGwiycalHdwPwAFjlwtbIItah+A6ljfoDmN0iMgzyO\n",
       "EmbToO5AUvsGEWaMwLgABorS3bu3QDEBEgLFBt/du5d0795dwMAQiRHHUCAAsw6RDC9gpB2cACXt\n",
       "sG3Aq7YUM63jBNkoPLx5iGMDAwAx0Tt0ptNgBgAAAABJRU5ErkJggg==\n",
       "\" style=\"display:inline;vertical-align:middle;\" /></a></span>"
      ],
      "text/plain": [
       "|- [not](FALSE and FALSE)"
      ]
     },
     "execution_count": 28,
     "metadata": {},
     "output_type": "execute_result"
    }
   ],
   "source": [
    "Not(And(FALSE,FALSE)).prove()"
   ]
  },
  {
   "cell_type": "code",
   "execution_count": 29,
   "metadata": {},
   "outputs": [
    {
     "data": {
      "text/html": [
       "<span style=\"font-size:20px;\"><a class=\"ProveItLink\" href=\"../../../../__pv_it/common/09585084922504426caf1db2ff588a23a0932a960/expr.ipynb\"><img src=\"data:image/png;base64,iVBORw0KGgoAAAANSUhEUgAAAA8AAAAOBAMAAAACpFvcAAAALVBMVEX///8iIiIQEBBERERUVFS6\n",
       "urqIiIjc3NxmZmaqqqru7u6YmJgyMjLMzMwAAACK9jtgAAAAAXRSTlMAQObYZgAAAFtJREFUCNdj\n",
       "YACBOwxQcA5Kc59bAGGs7CuAMDbkBYBp1gXzNoAZSxnuJYAZAQx1DSCa16PDzwCshIGB6QCIMYGB\n",
       "gVEBSLMDGTwPgIxCIGZ+zsCw+N0pBk67hw0AfpEVEQi8t+wAAAAASUVORK5CYII=\n",
       "\" style=\"display:inline;vertical-align:middle;\" /></a>, <a class=\"ProveItLink\" href=\"../../../../__pv_it/common/a9162d1c3cc0470c02e5daf414500903a7a419230/expr.ipynb\"><img src=\"data:image/png;base64,iVBORw0KGgoAAAANSUhEUgAAABAAAAAOBAMAAADUAYG5AAAALVBMVEX///8yMjKqqqoiIiLu7u7c\n",
       "3NyIiIjMzMwQEBC6urpERERmZmZUVFSYmJgAAACsPVCVAAAAAXRSTlMAQObYZgAAAGxJREFUCNdj\n",
       "YGC48+70nlUTGICgi4GB+zmQZn/LwMD5Gshge8rAwPsMyOBqYGDwMAEy+A4wsNs4ABl1Z68tVgBp\n",
       "ygtgYOkBMVaAOCChNyBGAsQYhnMTIMawvwJyGIHGzFjCwMAj92b3qUUMDAAXABxvZ4rl5AAAAABJ\n",
       "RU5ErkJggg==\n",
       "\" style=\"display:inline;vertical-align:middle;\" /></a> <a class=\"ProveItLink\" href=\"../__pv_it/demonstrations/ee4073d6546061e0f6ff7371e34d9d84845da2c30/proof.ipynb\" style=\"text-decoration: none\">&nbsp;&#x22A2;&nbsp;&nbsp;</a><a class=\"ProveItLink\" href=\"../__pv_it/axioms/ffd8639669fdd5e29284503ab0e5d77da777efc70/expr.ipynb\"><img src=\"data:image/png;base64,iVBORw0KGgoAAAANSUhEUgAAADcAAAAPBAMAAACy3Eq1AAAAMFBMVEX///92dnYiIiIQEBBERERU\n",
       "VFS6urqIiIjc3NxmZmaqqqru7u6YmJgyMjLMzMwAAADiRdoGAAAAAXRSTlMAQObYZgAAAP1JREFU\n",
       "GNNjYACBtwyogCf+68wQNyjnPpRugMkyOzAwzH8AUXh/A0TsJkzy/QEGhvwJYOau+RAtfE5QRQz1\n",
       "QIHzBWDmgfoEMM2aXgCVdGZg4DYCq2TbsP4AWGgvgwJU8isDw6NoMGsbw3uIDikghJj/9UyJFoSZ\n",
       "wNAPsVuBoRciwv6DgWFzAFhZ5Mx4B7CjCxhYIc5nMQAq+AW2EuitCyAG0wYGPrByBn4gxf4dxFoA\n",
       "FDYAMVYC8Q24N1m/ARkcQEneDwxQiZVwb74HWdUEsuMHyG4HiNFAcBlomQmQteX/bQYu/09A57KC\n",
       "QoId5KnY/5FTXRagRAUbmHyAJAIAntVB/gEKLKYAAAAASUVORK5CYII=\n",
       "\" style=\"display:inline;vertical-align:middle;\" /></a></span>"
      ],
      "text/plain": [
       "{A, B} |- A and B"
      ]
     },
     "execution_count": 29,
     "metadata": {},
     "output_type": "execute_result"
    }
   ],
   "source": [
    "And(A,B).prove([A,B])"
   ]
  },
  {
   "cell_type": "code",
   "execution_count": 30,
   "metadata": {},
   "outputs": [
    {
     "data": {
      "text/html": [
       "<span style=\"font-size:20px;\"><a class=\"ProveItLink\" href=\"../../__pv_it/theorems/bc796b8e7562f2d661739850b78776738bfc78d80/expr.ipynb\"><img src=\"data:image/png;base64,iVBORw0KGgoAAAANSUhEUgAAADYAAAAPBAMAAABdHiGLAAAAMFBMVEX///92dnYiIiIQEBBERERU\n",
       "VFS6urqIiIjc3NxmZmaqqqru7u6YmJgyMjLMzMwAAADiRdoGAAAAAXRSTlMAQObYZgAAANdJREFU\n",
       "GNNjYACBtwwogF3Z5a9RGJRzH1WOgZevYMvOA2Amz/0NqHIsbAfYHziAmbvmN0DEeJyUdKFyXAsg\n",
       "cgfqE8A0n/sGuD7GbLAc24b1ELP3bkCYmfT0AYi1jeF9AVgoAmGf0X8zMCuBoX8CmOGA5BbGMwIg\n",
       "WyJnxoNF+WzvAgFUjsEhB2QdAwPzBZAIB7I+BgdWIGMBAwOTAVjIAFkugBeoGijH+wEsNB1F30EG\n",
       "hiYQ+wdYiGkBPMwEGCUDGLb8v83A5f8J7FDukGzMsIYBNhFImEEAAEUpOYcaSaDVAAAAAElFTkSu\n",
       "QmCC\n",
       "\" style=\"display:inline;vertical-align:middle;\" /></a>, <a class=\"ProveItLink\" href=\"../__pv_it/theorems/6b89b43e4cbb2b2a7f36bef7320ec444c4840e0e0/expr.ipynb\"><img src=\"data:image/png;base64,iVBORw0KGgoAAAANSUhEUgAAADcAAAAPBAMAAACy3Eq1AAAAMFBMVEX///92dnYyMjKqqqoiIiLu\n",
       "7u7c3NyIiIjMzMwQEBC6urpERERmZmZUVFSYmJgAAADEjrHzAAAAAXRSTlMAQObYZgAAAOZJREFU\n",
       "GNNjYGB4+//O2d0LGJBByez9mr4QodkMDDw/UCQZFNpZt54DMTj+MTBw/UGV3LCOoYIbxGD/xsDA\n",
       "9x0sxrfFxQkmaQyW5J7AwBDpCjZjewBCp1Q0iMF/gYHDFywaFIAwlsvjBojRf+/5FgOw0DWEnSv9\n",
       "f4JdW5/AwDoXIoTsILmHIMZOkAKQVo5JSkAAk+TmegBk/AVJFgAJNhSd3AwXIN5kuA+2YAKyJC+D\n",
       "AsSbHL/BQsdRdPIJMDAwAdWv3AoWYjGAB18jg+BZBgZe/b9nbm+GCLHeXooR8AjAJQ0NPggAAH2B\n",
       "SAzP/7V+AAAAAElFTkSuQmCC\n",
       "\" style=\"display:inline;vertical-align:middle;\" /></a>, <a class=\"ProveItLink\" href=\"../../disjunction/__pv_it/theorems/303f482d5bc18658cf260ef56d927698c7912bf90/expr.ipynb\"><img src=\"data:image/png;base64,iVBORw0KGgoAAAANSUhEUgAAAB0AAAAOBAMAAAAh/woJAAAAMFBMVEX///8yMjKqqqru7u6IiIgQ\n",
       "EBC6urpERESYmJjMzMxUVFTc3Nx2dnYiIiJmZmYAAABbDZECAAAAAXRSTlMAQObYZgAAAH9JREFU\n",
       "CNdjYIACjvW/3i0vY0AA1gIGhvcTEPz5DQwM+Q8QfP8NDAz9Dgh+KQMDc6wBgv+LgWHuYgSX81eH\n",
       "+yUg/fYuENxhYGD5zcBgugAquYuBgT0AKPYJwecHyrF8QfBB1nN9Q/BB1s8vgBnOwCDKwMAWjrB+\n",
       "4f91r8oVGBgAyy8lZJPyWlAAAAAASUVORK5CYII=\n",
       "\" style=\"display:inline;vertical-align:middle;\" /></a> <a class=\"ProveItLink\" href=\"../__pv_it/demonstrations/e8731bad9077cfe5cd647f6df0b32aa5c18b4acc0/proof.ipynb\" style=\"text-decoration: none\">&nbsp;&#x22A2;&nbsp;&nbsp;</a><a class=\"ProveItLink\" href=\"../__pv_it/theorems/2e0fdca22b7fa6cecbeccfc7e4e7dc56cc202b370/expr.ipynb\"><img src=\"data:image/png;base64,iVBORw0KGgoAAAANSUhEUgAAAFYAAAAUBAMAAADl6NejAAAAMFBMVEX///+6uroQEBCqqqqIiIgy\n",
       "MjJERETu7u6YmJjMzMxUVFTc3Nx2dnYiIiJmZmYAAAAutVgsAAAAAXRSTlMAQObYZgAAAXVJREFU\n",
       "KM9jYECAHQx4APMGZB57ApjiDEBVxLH+17tliQwMq5EFWSE6WT9AuNwwcSagGe8nMJQiq+2DUK3f\n",
       "oVofQMXnNzAwyD9g4HFAUnsb4hK73xDutOtQcX+gff0ODOwKCKXcFyDOY/kI4S90gUokAQ3QLWBg\n",
       "CESoZYHYKc78A2J+AC9U4hcDw9zlQPocQi1bA1iJAOcXMJfHgMcAEi6/Otwugz3C8PYuENwBMnnB\n",
       "UowM3P/ASngZuCGBxwJ0f9ECIMMWYuYuUNAIgFiz3r36BhZqYWBYCbEP6CeWz6DwQFcLJFTBQsBQ\n",
       "mAVm8APNZPmCqhbsBmYgvgSO0gewyAEFLxcobGQRasF+2wzE8bBIZH4AC975CWC/QfwK8vgDaBjn\n",
       "g4ybBnUHA0MQ0MNqwOBleIMIM8YLDOz5XwsYzP7fA8UESAgUG0v/r3uVBg6iSIw4hgIBmHWIZHgB\n",
       "M+3gAihph20DXrWlWNI6LpCNwsObhzg2MAAAmLtbPDI+YDoAAAAASUVORK5CYII=\n",
       "\" style=\"display:inline;vertical-align:middle;\" /></a></span>"
      ],
      "text/plain": [
       "{A in BOOLEAN, B in BOOLEAN, [not](B)} |- [not](A and B)"
      ]
     },
     "execution_count": 30,
     "metadata": {},
     "output_type": "execute_result"
    }
   ],
   "source": [
    "Not(And(A,B)).prove([in_bool(A), in_bool(B), Not(B)])"
   ]
  },
  {
   "cell_type": "code",
   "execution_count": 31,
   "metadata": {},
   "outputs": [
    {
     "data": {
      "text/html": [
       "<span style=\"font-size:20px;\"><a class=\"ProveItLink\" href=\"../../__pv_it/theorems/bc796b8e7562f2d661739850b78776738bfc78d80/expr.ipynb\"><img src=\"data:image/png;base64,iVBORw0KGgoAAAANSUhEUgAAADYAAAAPBAMAAABdHiGLAAAAMFBMVEX///92dnYiIiIQEBBERERU\n",
       "VFS6urqIiIjc3NxmZmaqqqru7u6YmJgyMjLMzMwAAADiRdoGAAAAAXRSTlMAQObYZgAAANdJREFU\n",
       "GNNjYACBtwwogF3Z5a9RGJRzH1WOgZevYMvOA2Amz/0NqHIsbAfYHziAmbvmN0DEeJyUdKFyXAsg\n",
       "cgfqE8A0n/sGuD7GbLAc24b1ELP3bkCYmfT0AYi1jeF9AVgoAmGf0X8zMCuBoX8CmOGA5BbGMwIg\n",
       "WyJnxoNF+WzvAgFUjsEhB2QdAwPzBZAIB7I+BgdWIGMBAwOTAVjIAFkugBeoGijH+wEsNB1F30EG\n",
       "hiYQ+wdYiGkBPMwEGCUDGLb8v83A5f8J7FDukGzMsIYBNhFImEEAAEUpOYcaSaDVAAAAAElFTkSu\n",
       "QmCC\n",
       "\" style=\"display:inline;vertical-align:middle;\" /></a>, <a class=\"ProveItLink\" href=\"../__pv_it/theorems/6b89b43e4cbb2b2a7f36bef7320ec444c4840e0e0/expr.ipynb\"><img src=\"data:image/png;base64,iVBORw0KGgoAAAANSUhEUgAAADcAAAAPBAMAAACy3Eq1AAAAMFBMVEX///92dnYyMjKqqqoiIiLu\n",
       "7u7c3NyIiIjMzMwQEBC6urpERERmZmZUVFSYmJgAAADEjrHzAAAAAXRSTlMAQObYZgAAAOZJREFU\n",
       "GNNjYGB4+//O2d0LGJBByez9mr4QodkMDDw/UCQZFNpZt54DMTj+MTBw/UGV3LCOoYIbxGD/xsDA\n",
       "9x0sxrfFxQkmaQyW5J7AwBDpCjZjewBCp1Q0iMF/gYHDFywaFIAwlsvjBojRf+/5FgOw0DWEnSv9\n",
       "f4JdW5/AwDoXIoTsILmHIMZOkAKQVo5JSkAAk+TmegBk/AVJFgAJNhSd3AwXIN5kuA+2YAKyJC+D\n",
       "AsSbHL/BQsdRdPIJMDAwAdWv3AoWYjGAB18jg+BZBgZe/b9nbm+GCLHeXooR8AjAJQ0NPggAAH2B\n",
       "SAzP/7V+AAAAAElFTkSuQmCC\n",
       "\" style=\"display:inline;vertical-align:middle;\" /></a>, <a class=\"ProveItLink\" href=\"../../negation/__pv_it/theorems/01f448c1859c833a809fa283ac70522a4677a9270/expr.ipynb\"><img src=\"data:image/png;base64,iVBORw0KGgoAAAANSUhEUgAAABwAAAAOBAMAAADOPWE3AAAAMFBMVEX///8QEBBERES6urqIiIiq\n",
       "qqru7u6YmJgyMjLMzMxUVFTc3Nx2dnYiIiJmZmYAAAAfdW6kAAAAAXRSTlMAQObYZgAAAGNJREFU\n",
       "CNdjYEAAzgYGZMDxAYVb8Q2Zxxb3G5nLzvIZmWvG+h1ZrQHnFwaGt3eB4A6Qy8zA/Q8qswuIZ717\n",
       "9QmJa8DAIIHgsgKpiwjuViDVD3MtA/cFIKW/AWaL/o8EhqD/9wA5jBwoctwhSQAAAABJRU5ErkJg\n",
       "gg==\n",
       "\" style=\"display:inline;vertical-align:middle;\" /></a> <a class=\"ProveItLink\" href=\"../__pv_it/demonstrations/97243f11059b6f86b0e597d1d304cebdd1c6210f0/proof.ipynb\" style=\"text-decoration: none\">&nbsp;&#x22A2;&nbsp;&nbsp;</a><a class=\"ProveItLink\" href=\"../__pv_it/theorems/2e0fdca22b7fa6cecbeccfc7e4e7dc56cc202b370/expr.ipynb\"><img src=\"data:image/png;base64,iVBORw0KGgoAAAANSUhEUgAAAFYAAAAUBAMAAADl6NejAAAAMFBMVEX///+6uroQEBCqqqqIiIgy\n",
       "MjJERETu7u6YmJjMzMxUVFTc3Nx2dnYiIiJmZmYAAAAutVgsAAAAAXRSTlMAQObYZgAAAXVJREFU\n",
       "KM9jYECAHQx4APMGZB57ApjiDEBVxLH+17tliQwMq5EFWSE6WT9AuNwwcSagGe8nMJQiq+2DUK3f\n",
       "oVofQMXnNzAwyD9g4HFAUnsb4hK73xDutOtQcX+gff0ODOwKCKXcFyDOY/kI4S90gUokAQ3QLWBg\n",
       "CESoZYHYKc78A2J+AC9U4hcDw9zlQPocQi1bA1iJAOcXMJfHgMcAEi6/Otwugz3C8PYuENwBMnnB\n",
       "UowM3P/ASngZuCGBxwJ0f9ECIMMWYuYuUNAIgFiz3r36BhZqYWBYCbEP6CeWz6DwQFcLJFTBQsBQ\n",
       "mAVm8APNZPmCqhbsBmYgvgSO0gewyAEFLxcobGQRasF+2wzE8bBIZH4AC975CWC/QfwK8vgDaBjn\n",
       "g4ybBnUHA0MQ0MNqwOBleIMIM8YLDOz5XwsYzP7fA8UESAgUG0v/r3uVBg6iSIw4hgIBmHWIZHgB\n",
       "M+3gAihph20DXrWlWNI6LpCNwsObhzg2MAAAmLtbPDI+YDoAAAAASUVORK5CYII=\n",
       "\" style=\"display:inline;vertical-align:middle;\" /></a></span>"
      ],
      "text/plain": [
       "{A in BOOLEAN, B in BOOLEAN, [not](A)} |- [not](A and B)"
      ]
     },
     "execution_count": 31,
     "metadata": {},
     "output_type": "execute_result"
    }
   ],
   "source": [
    "Not(And(A,B)).prove([in_bool(A), in_bool(B), Not(A)])"
   ]
  },
  {
   "cell_type": "code",
   "execution_count": 32,
   "metadata": {},
   "outputs": [
    {
     "data": {
      "text/html": [
       "<span style=\"font-size:20px;\"><a class=\"ProveItLink\" href=\"../../disjunction/__pv_it/theorems/303f482d5bc18658cf260ef56d927698c7912bf90/expr.ipynb\"><img src=\"data:image/png;base64,iVBORw0KGgoAAAANSUhEUgAAAB0AAAAOBAMAAAAh/woJAAAAMFBMVEX///8yMjKqqqru7u6IiIgQ\n",
       "EBC6urpERESYmJjMzMxUVFTc3Nx2dnYiIiJmZmYAAABbDZECAAAAAXRSTlMAQObYZgAAAH9JREFU\n",
       "CNdjYIACjvW/3i0vY0AA1gIGhvcTEPz5DQwM+Q8QfP8NDAz9Dgh+KQMDc6wBgv+LgWHuYgSX81eH\n",
       "+yUg/fYuENxhYGD5zcBgugAquYuBgT0AKPYJwecHyrF8QfBB1nN9Q/BB1s8vgBnOwCDKwMAWjrB+\n",
       "4f91r8oVGBgAyy8lZJPyWlAAAAAASUVORK5CYII=\n",
       "\" style=\"display:inline;vertical-align:middle;\" /></a> <a class=\"ProveItLink\" href=\"../__pv_it/demonstrations/94702edd53d8d85dc931b645722a9755ab5812f40/proof.ipynb\" style=\"text-decoration: none\">&nbsp;&#x22A2;&nbsp;&nbsp;</a><a class=\"ProveItLink\" href=\"../__pv_it/demonstrations/7f87800c73444d7708f748f1c9f23fca1c4c27810/expr.ipynb\"><img src=\"data:image/png;base64,iVBORw0KGgoAAAANSUhEUgAAAH0AAAAUBAMAAABSVS+EAAAAMFBMVEX///+6uroQEBCqqqqIiIgy\n",
       "MjJERETu7u6YmJjMzMxUVFTc3Nx2dnYiIiJmZmYAAAAutVgsAAAAAXRSTlMAQObYZgAAAdtJREFU\n",
       "OMuVVD1IQlEUPk+fmk+fObRGtpRL4BqBOTWmtDQE+WqIKKSX/WyBY9CQS2PYUkGDtrREkVBzCK0F\n",
       "thQIqZEQGWLn3vN83qct7zzePfd+556fe865F8AkXwZs0pRltUvsqGfTQKFZPVvqAbfXKpkbUC5F\n",
       "bIFY0liaMocGUMtaMDkMEA2DJyH6KRNL6rRe7AhyeK6Rsoh5Urgn8AvwIOirZHyrRtybMuxAHIHD\n",
       "mIi5xnGQQgBpQf+WWCYe5FwZihmCZXQ4oYtYLcKMYUiuYFd/lo+SPk1l2IGSIWgCHJ+LmK/FD4Fh\n",
       "+ctd/VU+bkKOfNzjRwdp7s88gYj5G2bOEvDxgvSMc9oThDuyWYIrI9eYp/SJiKk/HX2nEeM1/qPc\n",
       "Wb5a0LjlGChUMzfmSf4SMcc3j59tr/foSyjlRVV18JLTQWRyQ8RUrjXZo8/jx8SqITaJmg3Fyq98\n",
       "ihirPECRuRPiZ/nzob6r3mnGqFn+nCZiPhaNX6f8UY7xfzR6wM2sezWKF2kO3YzpFgxL7HxnskCx\n",
       "W79hvEHteXButLAACmsMmVXytJ2vrER495iY5+3ilRox29e/RBIfs5Y79w+2139/bJF4f2Ddtrrl\n",
       "/nbeDxvktrwf9t+vA4A/FZ176fWuxUQAAAAASUVORK5CYII=\n",
       "\" style=\"display:inline;vertical-align:middle;\" /></a></span>"
      ],
      "text/plain": [
       "{[not](B)} |- [not](A and B and C)"
      ]
     },
     "execution_count": 32,
     "metadata": {},
     "output_type": "execute_result"
    }
   ],
   "source": [
    "Not(And(A,B,C)).prove([Not(B)])"
   ]
  },
  {
   "cell_type": "code",
   "execution_count": 33,
   "metadata": {},
   "outputs": [
    {
     "data": {
      "text/html": [
       "<span style=\"font-size:20px;\"><a class=\"ProveItLink\" href=\"../__pv_it/axioms/ffd8639669fdd5e29284503ab0e5d77da777efc70/expr.ipynb\"><img src=\"data:image/png;base64,iVBORw0KGgoAAAANSUhEUgAAADcAAAAPBAMAAACy3Eq1AAAAMFBMVEX///92dnYiIiIQEBBERERU\n",
       "VFS6urqIiIjc3NxmZmaqqqru7u6YmJgyMjLMzMwAAADiRdoGAAAAAXRSTlMAQObYZgAAAP1JREFU\n",
       "GNNjYACBtwyogCf+68wQNyjnPpRugMkyOzAwzH8AUXh/A0TsJkzy/QEGhvwJYOau+RAtfE5QRQz1\n",
       "QIHzBWDmgfoEMM2aXgCVdGZg4DYCq2TbsP4AWGgvgwJU8isDw6NoMGsbw3uIDikghJj/9UyJFoSZ\n",
       "wNAPsVuBoRciwv6DgWFzAFhZ5Mx4B7CjCxhYIc5nMQAq+AW2EuitCyAG0wYGPrByBn4gxf4dxFoA\n",
       "FDYAMVYC8Q24N1m/ARkcQEneDwxQiZVwb74HWdUEsuMHyG4HiNFAcBlomQmQteX/bQYu/09A57KC\n",
       "QoId5KnY/5FTXRagRAUbmHyAJAIAntVB/gEKLKYAAAAASUVORK5CYII=\n",
       "\" style=\"display:inline;vertical-align:middle;\" /></a> <a class=\"ProveItLink\" href=\"../__pv_it/demonstrations/7c32a850bbd36e7c8629ea03c7afce2d1b5831f00/proof.ipynb\" style=\"text-decoration: none\">&nbsp;&#x22A2;&nbsp;&nbsp;</a><a class=\"ProveItLink\" href=\"../../../../__pv_it/common/09585084922504426caf1db2ff588a23a0932a960/expr.ipynb\"><img src=\"data:image/png;base64,iVBORw0KGgoAAAANSUhEUgAAAA8AAAAOBAMAAAACpFvcAAAALVBMVEX///8iIiIQEBBERERUVFS6\n",
       "urqIiIjc3NxmZmaqqqru7u6YmJgyMjLMzMwAAACK9jtgAAAAAXRSTlMAQObYZgAAAFtJREFUCNdj\n",
       "YACBOwxQcA5Kc59bAGGs7CuAMDbkBYBp1gXzNoAZSxnuJYAZAQx1DSCa16PDzwCshIGB6QCIMYGB\n",
       "gVEBSLMDGTwPgIxCIGZ+zsCw+N0pBk67hw0AfpEVEQi8t+wAAAAASUVORK5CYII=\n",
       "\" style=\"display:inline;vertical-align:middle;\" /></a></span>"
      ],
      "text/plain": [
       "{A and B} |- A"
      ]
     },
     "execution_count": 33,
     "metadata": {},
     "output_type": "execute_result"
    }
   ],
   "source": [
    "And(A,B).derive_any(0,[And(A,B), *in_bool(A,B)])"
   ]
  },
  {
   "cell_type": "code",
   "execution_count": 34,
   "metadata": {},
   "outputs": [
    {
     "data": {
      "text/html": [
       "<span style=\"font-size:20px;\"><a class=\"ProveItLink\" href=\"../__pv_it/axioms/ffd8639669fdd5e29284503ab0e5d77da777efc70/expr.ipynb\"><img src=\"data:image/png;base64,iVBORw0KGgoAAAANSUhEUgAAADcAAAAPBAMAAACy3Eq1AAAAMFBMVEX///92dnYiIiIQEBBERERU\n",
       "VFS6urqIiIjc3NxmZmaqqqru7u6YmJgyMjLMzMwAAADiRdoGAAAAAXRSTlMAQObYZgAAAP1JREFU\n",
       "GNNjYACBtwyogCf+68wQNyjnPpRugMkyOzAwzH8AUXh/A0TsJkzy/QEGhvwJYOau+RAtfE5QRQz1\n",
       "QIHzBWDmgfoEMM2aXgCVdGZg4DYCq2TbsP4AWGgvgwJU8isDw6NoMGsbw3uIDikghJj/9UyJFoSZ\n",
       "wNAPsVuBoRciwv6DgWFzAFhZ5Mx4B7CjCxhYIc5nMQAq+AW2EuitCyAG0wYGPrByBn4gxf4dxFoA\n",
       "FDYAMVYC8Q24N1m/ARkcQEneDwxQiZVwb74HWdUEsuMHyG4HiNFAcBlomQmQteX/bQYu/09A57KC\n",
       "QoId5KnY/5FTXRagRAUbmHyAJAIAntVB/gEKLKYAAAAASUVORK5CYII=\n",
       "\" style=\"display:inline;vertical-align:middle;\" /></a> <a class=\"ProveItLink\" href=\"../__pv_it/demonstrations/03dd4f6b3ecbe96355c80d5017e1d7d39c2decb90/proof.ipynb\" style=\"text-decoration: none\">&nbsp;&#x22A2;&nbsp;&nbsp;</a><a class=\"ProveItLink\" href=\"../../../../__pv_it/common/a9162d1c3cc0470c02e5daf414500903a7a419230/expr.ipynb\"><img src=\"data:image/png;base64,iVBORw0KGgoAAAANSUhEUgAAABAAAAAOBAMAAADUAYG5AAAALVBMVEX///8yMjKqqqoiIiLu7u7c\n",
       "3NyIiIjMzMwQEBC6urpERERmZmZUVFSYmJgAAACsPVCVAAAAAXRSTlMAQObYZgAAAGxJREFUCNdj\n",
       "YGC48+70nlUTGICgi4GB+zmQZn/LwMD5Gshge8rAwPsMyOBqYGDwMAEy+A4wsNs4ABl1Z68tVgBp\n",
       "ygtgYOkBMVaAOCChNyBGAsQYhnMTIMawvwJyGIHGzFjCwMAj92b3qUUMDAAXABxvZ4rl5AAAAABJ\n",
       "RU5ErkJggg==\n",
       "\" style=\"display:inline;vertical-align:middle;\" /></a></span>"
      ],
      "text/plain": [
       "{A and B} |- B"
      ]
     },
     "execution_count": 34,
     "metadata": {},
     "output_type": "execute_result"
    }
   ],
   "source": [
    "And(A,B).derive_any(1,[And(A,B), *in_bool(A,B)])"
   ]
  },
  {
   "cell_type": "code",
   "execution_count": 35,
   "metadata": {},
   "outputs": [
    {
     "data": {
      "text/html": [
       "<span style=\"font-size:20px;\"><a class=\"ProveItLink\" href=\"../../__pv_it/theorems/bc796b8e7562f2d661739850b78776738bfc78d80/expr.ipynb\"><img src=\"data:image/png;base64,iVBORw0KGgoAAAANSUhEUgAAADYAAAAPBAMAAABdHiGLAAAAMFBMVEX///92dnYiIiIQEBBERERU\n",
       "VFS6urqIiIjc3NxmZmaqqqru7u6YmJgyMjLMzMwAAADiRdoGAAAAAXRSTlMAQObYZgAAANdJREFU\n",
       "GNNjYACBtwwogF3Z5a9RGJRzH1WOgZevYMvOA2Amz/0NqHIsbAfYHziAmbvmN0DEeJyUdKFyXAsg\n",
       "cgfqE8A0n/sGuD7GbLAc24b1ELP3bkCYmfT0AYi1jeF9AVgoAmGf0X8zMCuBoX8CmOGA5BbGMwIg\n",
       "WyJnxoNF+WzvAgFUjsEhB2QdAwPzBZAIB7I+BgdWIGMBAwOTAVjIAFkugBeoGijH+wEsNB1F30EG\n",
       "hiYQ+wdYiGkBPMwEGCUDGLb8v83A5f8J7FDukGzMsIYBNhFImEEAAEUpOYcaSaDVAAAAAElFTkSu\n",
       "QmCC\n",
       "\" style=\"display:inline;vertical-align:middle;\" /></a>, <a class=\"ProveItLink\" href=\"../__pv_it/theorems/6b89b43e4cbb2b2a7f36bef7320ec444c4840e0e0/expr.ipynb\"><img src=\"data:image/png;base64,iVBORw0KGgoAAAANSUhEUgAAADcAAAAPBAMAAACy3Eq1AAAAMFBMVEX///92dnYyMjKqqqoiIiLu\n",
       "7u7c3NyIiIjMzMwQEBC6urpERERmZmZUVFSYmJgAAADEjrHzAAAAAXRSTlMAQObYZgAAAOZJREFU\n",
       "GNNjYGB4+//O2d0LGJBByez9mr4QodkMDDw/UCQZFNpZt54DMTj+MTBw/UGV3LCOoYIbxGD/xsDA\n",
       "9x0sxrfFxQkmaQyW5J7AwBDpCjZjewBCp1Q0iMF/gYHDFywaFIAwlsvjBojRf+/5FgOw0DWEnSv9\n",
       "f4JdW5/AwDoXIoTsILmHIMZOkAKQVo5JSkAAk+TmegBk/AVJFgAJNhSd3AwXIN5kuA+2YAKyJC+D\n",
       "AsSbHL/BQsdRdPIJMDAwAdWv3AoWYjGAB18jg+BZBgZe/b9nbm+GCLHeXooR8AjAJQ0NPggAAH2B\n",
       "SAzP/7V+AAAAAElFTkSuQmCC\n",
       "\" style=\"display:inline;vertical-align:middle;\" /></a> <a class=\"ProveItLink\" href=\"../__pv_it/demonstrations/417cdf556b177f25cab9aac83619c5cc5dd7c9e60/proof.ipynb\" style=\"text-decoration: none\">&nbsp;&#x22A2;&nbsp;&nbsp;</a><a class=\"ProveItLink\" href=\"../__pv_it/theorems/27b7e73cb55d71f3b83fe0f042a64527bbbf8a370/expr.ipynb\"><img src=\"data:image/png;base64,iVBORw0KGgoAAAANSUhEUgAAAKcAAAAUBAMAAAAaZjAEAAAAMFBMVEX///9UVFTMzMx2dna6uroQ\n",
       "EBCqqqqIiIgiIiJmZmYyMjJERETu7u6YmJjc3NwAAAC+aOQFAAAAAXRSTlMAQObYZgAAAm1JREFU\n",
       "OMuVVT1oU1EU/vLjS5q89wzSpf6l3USHuEm3LIKDoEIHsUtGRdBsIg6JgwWhwytOmRpEFxGTQUXQ\n",
       "NhmMiF3qVBDUTOJmI2LVauM5595Xcm+SJx7Iy7v3nu/8fOfc8wB/HRHidIf3ohFX+LGm3o9aZ16+\n",
       "VzvwGDg8DGPE2/7U0vOifRKvAzEO45FaN8IwQoU9TWB5Gm+GjQpiHpj4aiKAzCbgkmEvUIE12no/\n",
       "0AoFSvJMgETZtimI+B8g+dNEAO9+0+MEkFakvVrW5B1b1AoV2vhYhnvWNiqI1A5Z3zIRcC/RLjrA\n",
       "Z7Ver2iCJq9pjSekdJ7Cv2cbFUSWfHUWTQS81DeOvIjrsky2r6qSuvW01ugBRw7S/6xtVBB7c4jf\n",
       "bJsInHaIFCQCrMjyJQqKu0QpUVKF7L2/sSA8yfYDEWFPEIVDG89KJgJuMc6EeHUIEEV8UXSn4dfl\n",
       "hUnr5Ojloh3pgmbcPWcikITPpXOqmJOwpmr5phxsAPsQkpb6zjHZRuc046iUDARmakvbbGxTqSSp\n",
       "LZU74n4GmjSktsYa7bHRsoGgdHFBGZVkyGVaWschEjLdsE1jXMxTA5zmwvS5TZEvGgiHfrc4wqrQ\n",
       "7pfUZVDHThC2aaEZFmpQVjTj8W0T8UnfSyrUrO687I40sk4IuE8u57ln7thGGZGhvE6+MBB+lR4t\n",
       "cjFxnLNb6z+E0/rB7iZZhZt5Pw8MKcRd2yghYg2aNk9V62uE2/rVxuX+bXI4HV5T7HJNeQ3uuNWR\n",
       "1zQC8Xp3oIyVMQMlQmigYDVaZcToi0bw6AuH9DhZHT2kx0u2+8+Pg/ffn5MPwF8S0K+kUaqEVwAA\n",
       "AABJRU5ErkJggg==\n",
       "\" style=\"display:inline;vertical-align:middle;\" /></a></span>"
      ],
      "text/plain": [
       "{A in BOOLEAN, B in BOOLEAN} |- (A and B) = (B and A)"
      ]
     },
     "execution_count": 35,
     "metadata": {},
     "output_type": "execute_result"
    }
   ],
   "source": [
    "And(A,B).commutation(assumptions=in_bool(A, B))"
   ]
  },
  {
   "cell_type": "code",
   "execution_count": 36,
   "metadata": {},
   "outputs": [
    {
     "data": {
      "text/html": [
       "<span style=\"font-size:20px;\"><a class=\"ProveItLink\" href=\"../__pv_it/axioms/ffd8639669fdd5e29284503ab0e5d77da777efc70/expr.ipynb\"><img src=\"data:image/png;base64,iVBORw0KGgoAAAANSUhEUgAAADcAAAAPBAMAAACy3Eq1AAAAMFBMVEX///92dnYiIiIQEBBERERU\n",
       "VFS6urqIiIjc3NxmZmaqqqru7u6YmJgyMjLMzMwAAADiRdoGAAAAAXRSTlMAQObYZgAAAP1JREFU\n",
       "GNNjYACBtwyogCf+68wQNyjnPpRugMkyOzAwzH8AUXh/A0TsJkzy/QEGhvwJYOau+RAtfE5QRQz1\n",
       "QIHzBWDmgfoEMM2aXgCVdGZg4DYCq2TbsP4AWGgvgwJU8isDw6NoMGsbw3uIDikghJj/9UyJFoSZ\n",
       "wNAPsVuBoRciwv6DgWFzAFhZ5Mx4B7CjCxhYIc5nMQAq+AW2EuitCyAG0wYGPrByBn4gxf4dxFoA\n",
       "FDYAMVYC8Q24N1m/ARkcQEneDwxQiZVwb74HWdUEsuMHyG4HiNFAcBlomQmQteX/bQYu/09A57KC\n",
       "QoId5KnY/5FTXRagRAUbmHyAJAIAntVB/gEKLKYAAAAASUVORK5CYII=\n",
       "\" style=\"display:inline;vertical-align:middle;\" /></a> <a class=\"ProveItLink\" href=\"../__pv_it/demonstrations/ece71e2aa678d0f656333c9983db02444b5556de0/proof.ipynb\" style=\"text-decoration: none\">&nbsp;&#x22A2;&nbsp;&nbsp;</a><a class=\"ProveItLink\" href=\"../__pv_it/theorems/c5ab27e5b1cc2526c3676f172e8972ebc82477160/expr.ipynb\"><img src=\"data:image/png;base64,iVBORw0KGgoAAAANSUhEUgAAADcAAAAPBAMAAACy3Eq1AAAAMFBMVEX///92dnYyMjKqqqoiIiLu\n",
       "7u7c3NyIiIjMzMwQEBC6urpERERmZmZUVFSYmJgAAADEjrHzAAAAAXRSTlMAQObYZgAAAPxJREFU\n",
       "GNNjYGB4+//O2d0LGNBBE4SazcDA8wPMYkOS1AeTHP8YGLj+gJlMB+ByfPoBIIr9G5D5HSzS7QqX\n",
       "DD6fAKK4JzAwREJEb5XDJR/Ug53Bf4GBwxdsBqsCC0yOK8D+AYjuv/d8iwFYhNGA0QAqGcXQXwCi\n",
       "6xMYWOeCRVgY2BSgkgsY8sGO2wlSANbxnIHhBkSO486Z+xtAjL8gSbAZQFf1Qq1kYOBUgHqT4T7I\n",
       "acxAg5jAHmAAGsQyAepNjt/gIEiAKACGFFCS6QNICKhi5VZwEECNZmBIAXkfqIlX/++Z25shQQAi\n",
       "QMEQ/V+VgXn/lwPI8QAOEg4kAQAiLT7KX4RYxQAAAABJRU5ErkJggg==\n",
       "\" style=\"display:inline;vertical-align:middle;\" /></a></span>"
      ],
      "text/plain": [
       "{A and B} |- B and A"
      ]
     },
     "execution_count": 36,
     "metadata": {},
     "output_type": "execute_result"
    }
   ],
   "source": [
    "And(A,B).commute(assumptions=[And(A, B)])"
   ]
  },
  {
   "cell_type": "code",
   "execution_count": 37,
   "metadata": {},
   "outputs": [
    {
     "data": {
      "text/html": [
       "<span style=\"font-size:20px;\"><a class=\"ProveItLink\" href=\"../__pv_it/demonstrations/bbd81e84acf27000418852529c41cdf3b9173df20/expr.ipynb\"><img src=\"data:image/png;base64,iVBORw0KGgoAAAANSUhEUgAAALwAAAAUBAMAAADFKEobAAAAMFBMVEX///9UVFTMzMx2dna6uroQ\n",
       "EBCqqqqIiIgiIiJmZmYyMjJERETu7u6YmJjc3NwAAAC+aOQFAAAAAXRSTlMAQObYZgAAApdJREFU\n",
       "OMutVU1oE1EQnk1iNuavOXiJ0Wa9qZfkJBQFexFzqLSHHoIezNGczMWD9JBeFBGhKVKkFyuiB0XM\n",
       "BhQLRbsHKzQBWfEmFHsULzGiqVRsnDezu9kJVgrNW3hv3/fmffu9mXmzAEkbhtDCm7sstHg4OQAn\n",
       "sp3FzIsBMD6TPprMC+hDr5FpIPeotNRvrGwXD+HLc57XHdxTccAEWDIkds2G8IItsW2U0gVoDiiJ\n",
       "BiqtdRsSNRZbtxh+4q7nkGayJrDWHeyWNgUW2MJuASBYkfSxkK0bJkTY+p2zK7DsfAaqCHyuCOyx\n",
       "Gs9JO/07dpM2xKccpy7fuu3Qh0smfGHUro7TqJ13VbxEVxctP3awq/oT0i72Dbs2xuMRf/aV5akP\n",
       "TphwnSYh6yq7tAmzDn0H4PgRgbVpeC/tRkylPgUwxrjVd07hmAGvafIWcqzmFD4so7MxcxMEdtbn\n",
       "Xs+O9lVR/SeajvZ9X+xNAzDFOLQ5irPw1fHpDsBaSmBzRp/es6sqMIuevUJT0xfa4EYepklqejFL\n",
       "C4kKaEwSw1DpXYFdpoNb0m5VdT/VMYjo4lNsDj2YF5g+hGn+QL1ELAiw5BEc9C2BzdH1NKTdb/Wx\n",
       "Py590q8eTI2dU8INlFhl756ptNd+CIxyNwgCo7RfU6QFWpjy06eiFNok0kdVgtGWspf2OVNgbRXF\n",
       "MyAwlfZx8gaH9p5Q/5HySeV+bEdpMfng6gqhyy5ZAgujD8q02MeUqgJlxV1ijZS8opAPjqXUmVq9\n",
       "ZxBe/YVGmrpbuhJ5uJeeXyHTPgbrjbRz+VxMq3fmM/cJe8hFLzMhSlrEX0lD1BuieOwRizvXLHSa\n",
       "i4JbeGswlDZY0tz2Zjj0zf//TvbbdlM5nJ9h4t8/w79BMMk97v1KIAAAAABJRU5ErkJggg==\n",
       "\" style=\"display:inline;vertical-align:middle;\" /></a> <a class=\"ProveItLink\" href=\"../__pv_it/demonstrations/b2b3d358472ad8a954b539a860379b5303d82a900/proof.ipynb\" style=\"text-decoration: none\">&nbsp;&#x22A2;&nbsp;&nbsp;</a><a class=\"ProveItLink\" href=\"../__pv_it/demonstrations/af75d7a88b426fc518b410470e1d3e96fbdd11d60/expr.ipynb\"><img src=\"data:image/png;base64,iVBORw0KGgoAAAANSUhEUgAAADgAAAAPBAMAAABD1xE4AAAAMFBMVEX///8iIiLu7u52dna6uroQ\n",
       "EBBmZmaIiIjMzMyqqqoyMjLc3NxERERUVFSYmJgAAAAdjRNVAAAAAXRSTlMAQObYZgAAAONJREFU\n",
       "GNNjYGB4+//snbMbGJABu+iZX4FXwMxfDAx8P1EkGbg4CnTUHgAZHN+BRCqqJA/LA/aGAyAzfgAJ\n",
       "/wdgQb6DglJQSc4JIEmeD0BivwFIjOO4AlwnsxNIkh9E+F8AiWkpIIx17G0AMvoLgEQ9WOdthJ2B\n",
       "/0NAjHqQivsOIOYBJAcxvwOpPw/ifQVbGbUKCKCSDAf8gIw/IFf+AwlxI+tkOMAL9aYqRDgAWfIC\n",
       "F8SbTKsgYukoOh8DQwroTccEiBjjBHjwGTCbXWDgXf839042VIzpjhN6wCMBFhtI8EEAALZERsGv\n",
       "6x6JAAAAAElFTkSuQmCC\n",
       "\" style=\"display:inline;vertical-align:middle;\" /></a></span>"
      ],
      "text/plain": [
       "{(A and B and C and D) in BOOLEAN} |- D in BOOLEAN"
      ]
     },
     "execution_count": 37,
     "metadata": {},
     "output_type": "execute_result"
    }
   ],
   "source": [
    "in_bool(D).prove([in_bool(And(A,B,C,D))])"
   ]
  },
  {
   "cell_type": "code",
   "execution_count": 38,
   "metadata": {},
   "outputs": [
    {
     "data": {
      "text/html": [
       "<strong id=\"expr\">expr:</strong> <a class=\"ProveItLink\" href=\"../__pv_it/theorems/a466f217a46ff451f6b97c8b3899ac0738d92d180/expr.ipynb\"><img src=\"data:image/png;base64,iVBORw0KGgoAAAANSUhEUgAAATUAAAARBAMAAABOeyajAAAAMFBMVEX///92dnYiIiIQEBBERERU\n",
       "VFS6urqIiIjc3NxmZmaqqqru7u6YmJgyMjLMzMwAAADiRdoGAAAAAXRSTlMAQObYZgAAAxVJREFU\n",
       "SMeVlk1oE0EUx182JrvdbdecVTAgHmwPDaIgGDFU67UVtBDUtiAi6MFAKz22ehQk8aNC8NAcvOSi\n",
       "CxargpiTIvgR6KXioUHagwdJKaat1VrfzO7OzGum0GzIMPve+/92Pt68XQB2/YSWLreqt7cPNYrn\n",
       "zmwxOqPZi1Zi5/CZ3snKLeV+Xulb22gmZLdjibqEJJoBmKpR20gF7AcVHUaLMNMA5bQy33lPeXBB\n",
       "r/4qu5/+UJeQ1HEMNwrENt2FzdSEDqNDOD04lLY16XitaGGhS7+PPWL8TnmN+oRkHDlfcsQ2y2SX\n",
       "dRgtouM4NvGUdFTGh+XNwJhWHLuaE8tsrlCfkJzCgR/2VFvbOmt/6DBaxFSJTUBuXdx7JvPBqRpa\n",
       "8RtIht3r9l+a7ULSAPh+gdjyXPVSh9EhrGV+J7fxBdRxMm6G30RKkZJOvQd/AWfYXSUuIXEbH0c7\n",
       "qW1/sEwBXcFoEZHVLY5hyBfALfoTMsDSVogk3A2XGazfxCUkJubh835i6/ZPbUhXMFqE8W9LlmeL\n",
       "QziruK9+DzCoK105iPmPgcXi5C/iE5JdmMPmOrGd5NnnhXQFo0VEeQVwZLqhqSrGhudlUTcxD9z+\n",
       "cJnhBPEJyW6MMFeJrZs1di2kKxgtwuCV86mw40YbqXBsNh6RDk19LON/jvds/B8A+PB5rDA2SCWs\n",
       "vMVWiI1Xp4iYucSQS4T7lS3B6exolPxC76tZhK2pvnMBGOCO/x55l4aj3k0qYeWtniG2PDsLe8XY\n",
       "JIZW3jDcYqse8Rj9GPZus0RZC9ULwQqDs4HN22rQ4cfMYLljsbC+CWsmCStwj0hgFilHPGJj5abs\n",
       "hXSB4VDxCAWB1cx+DIyOmTe9+Q3svuVCoB5gDa+DBxmmP+jEWHE2cQ2cvg0PnmwegljOTUEnkVza\n",
       "zE6e9quJxLzqzTKtTxcYDpWPkOHOw/OPWGBOfTcEav6CcJsWPc5b9YRFa2bGWqptI2my+fRmzDbh\n",
       "0VpbQgmzky19J+Vxbu2ZHX/7tEw3rsmxWfcbuVbUVzCBrbPeDqNbp5v74D9nPeoof24fiwAAAABJ\n",
       "RU5ErkJggg==\n",
       "\" style=\"display:inline;vertical-align:middle;\" /></a><br>"
      ],
      "text/plain": [
       "expr: A_{1} and ..A_{_a}.. and A_{m} and B and C_{1} and ..C_{_a}.. and C_{n}"
      ]
     },
     "execution_count": 38,
     "metadata": {},
     "output_type": "execute_result"
    }
   ],
   "source": [
    "from  proveit.logic.booleans.conjunction import each_is_bool\n",
    "expr = each_is_bool.instance_expr.explicit_conditions()[0].element"
   ]
  },
  {
   "cell_type": "code",
   "execution_count": 39,
   "metadata": {},
   "outputs": [
    {
     "data": {
      "text/html": [
       "<span style=\"font-size:20px;\"><a class=\"ProveItLink\" href=\"../__pv_it/theorems/98023afa4ea0d397f8a177bad4a359b36939fb170/expr.ipynb\"><img src=\"data:image/png;base64,iVBORw0KGgoAAAANSUhEUgAAADsAAAAPBAMAAACo4Ko7AAAAMFBMVEX///9mZmaYmJgyMjIiIiIQ\n",
       "EBCqqqru7u5ERETMzMyIiIjc3NxUVFR2dna6uroAAAAPJcEmAAAAAXRSTlMAQObYZgAAAPlJREFU\n",
       "GNNjYMAKin80FzBc/fqAAQdo4jzAwP4BlyzDkQmrGBgC0EWZWlycwYxz7TwTGBzQZDm7CqCs03PY\n",
       "zUHSfHd2rzrFeescxEUwWYbTbAvmgKR5OboY6tcxpEIE4eacZrjHtAAoPY3FgGH/BQZ9sGADkjRP\n",
       "wUmgdEH9A4b8AoYTYKuDjYEAKs1+gBnk8nwGBhEGhiiQGDeyboa5nCBpYQYGXwa+3+wgwQBkaaYE\n",
       "kOpYBvZ/DIwG20CCUnDpk0B8GyjN/Y+B7QMD84ULIEGWBJi0GRAzGgD97cDAJcDAJrQBJMh+4jlE\n",
       "dspXoE52A/RA5bsBDVQoAAD1nz84wTBs3QAAAABJRU5ErkJggg==\n",
       "\" style=\"display:inline;vertical-align:middle;\" /></a>, <a class=\"ProveItLink\" href=\"../../../../numbers/number_sets/natural_numbers/__pv_it/theorems/12ab02a6aa52e45203d5ea4187476fa00e51b3b50/expr.ipynb\"><img src=\"data:image/png;base64,iVBORw0KGgoAAAANSUhEUgAAADUAAAAPBAMAAAC2KZqIAAAAMFBMVEX///8QEBCYmJgyMjIiIiKq\n",
       "qqrMzMzu7u5ERERmZmaIiIjc3NxUVFR2dna6uroAAABXsXCEAAAAAXRSTlMAQObYZgAAAN5JREFU\n",
       "GNNjYMAExT+aCxgufnzAgA00sR1gYP+AVYrhSMIqBgYBVDENFxcDEH2unSeBwQFFKmM5lHE6h90c\n",
       "JMd3Z/eqWWARIB8mx7ogByTHy9HFUL8BJMKzAS7HcI9pAVAulcWAYX8CSISDASHHU3AMKFdQ/4BB\n",
       "HyySaAwEBhA59gPMIHfGMzAcBsvtQNLHkMsGkpvMwPCJHSTCiCzHFNAAZMgysH7nBYlwLoDJHQPi\n",
       "20A57n8MvAZqYCFXmJwpSCXQZj4HBu5DAWChmr4CMJ3yEaiH3QA1zN62uCCLAADDBTVfYPhN3gAA\n",
       "AABJRU5ErkJggg==\n",
       "\" style=\"display:inline;vertical-align:middle;\" /></a>, <a class=\"ProveItLink\" href=\"../__pv_it/theorems/a466f217a46ff451f6b97c8b3899ac0738d92d180/expr.ipynb\"><img src=\"data:image/png;base64,iVBORw0KGgoAAAANSUhEUgAAATUAAAARBAMAAABOeyajAAAAMFBMVEX///92dnYiIiIQEBBERERU\n",
       "VFS6urqIiIjc3NxmZmaqqqru7u6YmJgyMjLMzMwAAADiRdoGAAAAAXRSTlMAQObYZgAAAxVJREFU\n",
       "SMeVlk1oE0EUx182JrvdbdecVTAgHmwPDaIgGDFU67UVtBDUtiAi6MFAKz22ehQk8aNC8NAcvOSi\n",
       "CxargpiTIvgR6KXioUHagwdJKaat1VrfzO7OzGum0GzIMPve+/92Pt68XQB2/YSWLreqt7cPNYrn\n",
       "zmwxOqPZi1Zi5/CZ3snKLeV+Xulb22gmZLdjibqEJJoBmKpR20gF7AcVHUaLMNMA5bQy33lPeXBB\n",
       "r/4qu5/+UJeQ1HEMNwrENt2FzdSEDqNDOD04lLY16XitaGGhS7+PPWL8TnmN+oRkHDlfcsQ2y2SX\n",
       "dRgtouM4NvGUdFTGh+XNwJhWHLuaE8tsrlCfkJzCgR/2VFvbOmt/6DBaxFSJTUBuXdx7JvPBqRpa\n",
       "8RtIht3r9l+a7ULSAPh+gdjyXPVSh9EhrGV+J7fxBdRxMm6G30RKkZJOvQd/AWfYXSUuIXEbH0c7\n",
       "qW1/sEwBXcFoEZHVLY5hyBfALfoTMsDSVogk3A2XGazfxCUkJubh835i6/ZPbUhXMFqE8W9LlmeL\n",
       "QziruK9+DzCoK105iPmPgcXi5C/iE5JdmMPmOrGd5NnnhXQFo0VEeQVwZLqhqSrGhudlUTcxD9z+\n",
       "cJnhBPEJyW6MMFeJrZs1di2kKxgtwuCV86mw40YbqXBsNh6RDk19LON/jvds/B8A+PB5rDA2SCWs\n",
       "vMVWiI1Xp4iYucSQS4T7lS3B6exolPxC76tZhK2pvnMBGOCO/x55l4aj3k0qYeWtniG2PDsLe8XY\n",
       "JIZW3jDcYqse8Rj9GPZus0RZC9ULwQqDs4HN22rQ4cfMYLljsbC+CWsmCStwj0hgFilHPGJj5abs\n",
       "hXSB4VDxCAWB1cx+DIyOmTe9+Q3svuVCoB5gDa+DBxmmP+jEWHE2cQ2cvg0PnmwegljOTUEnkVza\n",
       "zE6e9quJxLzqzTKtTxcYDpWPkOHOw/OPWGBOfTcEav6CcJsWPc5b9YRFa2bGWqptI2my+fRmzDbh\n",
       "0VpbQgmzky19J+Vxbu2ZHX/7tEw3rsmxWfcbuVbUVzCBrbPeDqNbp5v74D9nPeoof24fiwAAAABJ\n",
       "RU5ErkJggg==\n",
       "\" style=\"display:inline;vertical-align:middle;\" /></a> <a class=\"ProveItLink\" href=\"../__pv_it/demonstrations/3cf0738bd6b8c802c1e056ec701bf76af8a2663e0/proof.ipynb\" style=\"text-decoration: none\">&nbsp;&#x22A2;&nbsp;&nbsp;</a><a class=\"ProveItLink\" href=\"../../../../__pv_it/common/a9162d1c3cc0470c02e5daf414500903a7a419230/expr.ipynb\"><img src=\"data:image/png;base64,iVBORw0KGgoAAAANSUhEUgAAABAAAAAOBAMAAADUAYG5AAAALVBMVEX///8yMjKqqqoiIiLu7u7c\n",
       "3NyIiIjMzMwQEBC6urpERERmZmZUVFSYmJgAAACsPVCVAAAAAXRSTlMAQObYZgAAAGxJREFUCNdj\n",
       "YGC48+70nlUTGICgi4GB+zmQZn/LwMD5Gshge8rAwPsMyOBqYGDwMAEy+A4wsNs4ABl1Z68tVgBp\n",
       "ygtgYOkBMVaAOCChNyBGAsQYhnMTIMawvwJyGIHGzFjCwMAj92b3qUUMDAAXABxvZ4rl5AAAAABJ\n",
       "RU5ErkJggg==\n",
       "\" style=\"display:inline;vertical-align:middle;\" /></a></span>"
      ],
      "text/plain": [
       "{m in Natural, n in Natural, A_{1} and ..A_{_a}.. and A_{m} and B and C_{1} and ..C_{_a}.. and C_{n}} |- B"
      ]
     },
     "execution_count": 39,
     "metadata": {},
     "output_type": "execute_result"
    }
   ],
   "source": [
    "from proveit.logic import InSet\n",
    "from proveit.numbers import Natural\n",
    "expr.derive_any(1, assumptions=[InSet(m, Natural), InSet(n, Natural), expr])"
   ]
  },
  {
   "cell_type": "code",
   "execution_count": 40,
   "metadata": {},
   "outputs": [
    {
     "data": {
      "text/html": [
       "<span style=\"font-size:20px;\"><a class=\"ProveItLink\" href=\"../__pv_it/theorems/98023afa4ea0d397f8a177bad4a359b36939fb170/expr.ipynb\"><img src=\"data:image/png;base64,iVBORw0KGgoAAAANSUhEUgAAADsAAAAPBAMAAACo4Ko7AAAAMFBMVEX///9mZmaYmJgyMjIiIiIQ\n",
       "EBCqqqru7u5ERETMzMyIiIjc3NxUVFR2dna6uroAAAAPJcEmAAAAAXRSTlMAQObYZgAAAPlJREFU\n",
       "GNNjYMAKin80FzBc/fqAAQdo4jzAwP4BlyzDkQmrGBgC0EWZWlycwYxz7TwTGBzQZDm7CqCs03PY\n",
       "zUHSfHd2rzrFeescxEUwWYbTbAvmgKR5OboY6tcxpEIE4eacZrjHtAAoPY3FgGH/BQZ9sGADkjRP\n",
       "wUmgdEH9A4b8AoYTYKuDjYEAKs1+gBnk8nwGBhEGhiiQGDeyboa5nCBpYQYGXwa+3+wgwQBkaaYE\n",
       "kOpYBvZ/DIwG20CCUnDpk0B8GyjN/Y+B7QMD84ULIEGWBJi0GRAzGgD97cDAJcDAJrQBJMh+4jlE\n",
       "dspXoE52A/RA5bsBDVQoAAD1nz84wTBs3QAAAABJRU5ErkJggg==\n",
       "\" style=\"display:inline;vertical-align:middle;\" /></a>, <a class=\"ProveItLink\" href=\"../../../../numbers/number_sets/natural_numbers/__pv_it/theorems/12ab02a6aa52e45203d5ea4187476fa00e51b3b50/expr.ipynb\"><img src=\"data:image/png;base64,iVBORw0KGgoAAAANSUhEUgAAADUAAAAPBAMAAAC2KZqIAAAAMFBMVEX///8QEBCYmJgyMjIiIiKq\n",
       "qqrMzMzu7u5ERERmZmaIiIjc3NxUVFR2dna6uroAAABXsXCEAAAAAXRSTlMAQObYZgAAAN5JREFU\n",
       "GNNjYMAExT+aCxgufnzAgA00sR1gYP+AVYrhSMIqBgYBVDENFxcDEH2unSeBwQFFKmM5lHE6h90c\n",
       "JMd3Z/eqWWARIB8mx7ogByTHy9HFUL8BJMKzAS7HcI9pAVAulcWAYX8CSISDASHHU3AMKFdQ/4BB\n",
       "HyySaAwEBhA59gPMIHfGMzAcBsvtQNLHkMsGkpvMwPCJHSTCiCzHFNAAZMgysH7nBYlwLoDJHQPi\n",
       "20A57n8MvAZqYCFXmJwpSCXQZj4HBu5DAWChmr4CMJ3yEaiH3QA1zN62uCCLAADDBTVfYPhN3gAA\n",
       "AABJRU5ErkJggg==\n",
       "\" style=\"display:inline;vertical-align:middle;\" /></a>, <a class=\"ProveItLink\" href=\"../__pv_it/theorems/a466f217a46ff451f6b97c8b3899ac0738d92d180/expr.ipynb\"><img src=\"data:image/png;base64,iVBORw0KGgoAAAANSUhEUgAAATUAAAARBAMAAABOeyajAAAAMFBMVEX///92dnYiIiIQEBBERERU\n",
       "VFS6urqIiIjc3NxmZmaqqqru7u6YmJgyMjLMzMwAAADiRdoGAAAAAXRSTlMAQObYZgAAAxVJREFU\n",
       "SMeVlk1oE0EUx182JrvdbdecVTAgHmwPDaIgGDFU67UVtBDUtiAi6MFAKz22ehQk8aNC8NAcvOSi\n",
       "CxargpiTIvgR6KXioUHagwdJKaat1VrfzO7OzGum0GzIMPve+/92Pt68XQB2/YSWLreqt7cPNYrn\n",
       "zmwxOqPZi1Zi5/CZ3snKLeV+Xulb22gmZLdjibqEJJoBmKpR20gF7AcVHUaLMNMA5bQy33lPeXBB\n",
       "r/4qu5/+UJeQ1HEMNwrENt2FzdSEDqNDOD04lLY16XitaGGhS7+PPWL8TnmN+oRkHDlfcsQ2y2SX\n",
       "dRgtouM4NvGUdFTGh+XNwJhWHLuaE8tsrlCfkJzCgR/2VFvbOmt/6DBaxFSJTUBuXdx7JvPBqRpa\n",
       "8RtIht3r9l+a7ULSAPh+gdjyXPVSh9EhrGV+J7fxBdRxMm6G30RKkZJOvQd/AWfYXSUuIXEbH0c7\n",
       "qW1/sEwBXcFoEZHVLY5hyBfALfoTMsDSVogk3A2XGazfxCUkJubh835i6/ZPbUhXMFqE8W9LlmeL\n",
       "QziruK9+DzCoK105iPmPgcXi5C/iE5JdmMPmOrGd5NnnhXQFo0VEeQVwZLqhqSrGhudlUTcxD9z+\n",
       "cJnhBPEJyW6MMFeJrZs1di2kKxgtwuCV86mw40YbqXBsNh6RDk19LON/jvds/B8A+PB5rDA2SCWs\n",
       "vMVWiI1Xp4iYucSQS4T7lS3B6exolPxC76tZhK2pvnMBGOCO/x55l4aj3k0qYeWtniG2PDsLe8XY\n",
       "JIZW3jDcYqse8Rj9GPZus0RZC9ULwQqDs4HN22rQ4cfMYLljsbC+CWsmCStwj0hgFilHPGJj5abs\n",
       "hXSB4VDxCAWB1cx+DIyOmTe9+Q3svuVCoB5gDa+DBxmmP+jEWHE2cQ2cvg0PnmwegljOTUEnkVza\n",
       "zE6e9quJxLzqzTKtTxcYDpWPkOHOw/OPWGBOfTcEav6CcJsWPc5b9YRFa2bGWqptI2my+fRmzDbh\n",
       "0VpbQgmzky19J+Vxbu2ZHX/7tEw3rsmxWfcbuVbUVzCBrbPeDqNbp5v74D9nPeoof24fiwAAAABJ\n",
       "RU5ErkJggg==\n",
       "\" style=\"display:inline;vertical-align:middle;\" /></a> <a class=\"ProveItLink\" href=\"../__pv_it/demonstrations/4bb1682f051bdb3de7e321645e7bb21dcd1f29930/proof.ipynb\" style=\"text-decoration: none\">&nbsp;&#x22A2;&nbsp;&nbsp;</a><a class=\"ProveItLink\" href=\"../__pv_it/theorems/cb5f7ea28ad55be973b31ec0371c60ced6414e580/expr.ipynb\"><img src=\"data:image/png;base64,iVBORw0KGgoAAAANSUhEUgAAAH4AAAARBAMAAADprwU0AAAAMFBMVEX///92dnYiIiIQEBBERERU\n",
       "VFS6urqIiIjc3NxmZmaqqqru7u6YmJgyMjLMzMwAAADiRdoGAAAAAXRSTlMAQObYZgAAAWZJREFU\n",
       "OMtjYACBtwykAXT195E5Ddj1cOBSz8DAc38DEu8mdv28E3CoZ2DYNR/JTj6nDVj1P9HGrh4IDtQn\n",
       "IDis6QVY9YeVY1fPwMC2Yf0BBG8vgwI27dwXmLCrZ2DYxvAeaCWfA4QnBYRYAOMCxgUo6hEggaF/\n",
       "AgPfTKi1Cgy92PQzMXBcQFaPFGCRM+OBdrNB9PMUMLA+wKL/OANDHIp6hPcZGJgvwPUzbWDgC8Ci\n",
       "Hxj6T1HUwwHQW0wGcP0rgfgGpnYuoIt5G5DU88x5XsleCnQpB5DP+wGu/wbUDPTU0wAxA66eJ/kA\n",
       "czQ70KVNQDGWHzD94FgA+oGB+y8DlNgPcuwTqB/g6ruLGPgTOAUYtvy/zcDl/2kCVD8rKGWwg6JH\n",
       "lQFKMIGCIwzEA6UguPpwhscMTAuQglEBGjhAgBkB4ATHhyxix1DC0I8kwqVAUhbm+AB0wRFGBH/S\n",
       "1wJS9LMFAIO6VRoA7nVeqSlGNLYAAAAASUVORK5CYII=\n",
       "\" style=\"display:inline;vertical-align:middle;\" /></a></span>"
      ],
      "text/plain": [
       "{m in Natural, n in Natural, A_{1} and ..A_{_a}.. and A_{m} and B and C_{1} and ..C_{_a}.. and C_{n}} |- A_{1} and ..A_{_a}.. and A_{m}"
      ]
     },
     "execution_count": 40,
     "metadata": {},
     "output_type": "execute_result"
    }
   ],
   "source": [
    "expr.derive_some(0, assumptions=[InSet(m, Natural), InSet(n, Natural), expr])"
   ]
  },
  {
   "cell_type": "code",
   "execution_count": 41,
   "metadata": {},
   "outputs": [
    {
     "data": {
      "text/html": [
       "<span style=\"font-size:20px;\"><a class=\"ProveItLink\" href=\"../__pv_it/theorems/98023afa4ea0d397f8a177bad4a359b36939fb170/expr.ipynb\"><img src=\"data:image/png;base64,iVBORw0KGgoAAAANSUhEUgAAADsAAAAPBAMAAACo4Ko7AAAAMFBMVEX///9mZmaYmJgyMjIiIiIQ\n",
       "EBCqqqru7u5ERETMzMyIiIjc3NxUVFR2dna6uroAAAAPJcEmAAAAAXRSTlMAQObYZgAAAPlJREFU\n",
       "GNNjYMAKin80FzBc/fqAAQdo4jzAwP4BlyzDkQmrGBgC0EWZWlycwYxz7TwTGBzQZDm7CqCs03PY\n",
       "zUHSfHd2rzrFeescxEUwWYbTbAvmgKR5OboY6tcxpEIE4eacZrjHtAAoPY3FgGH/BQZ9sGADkjRP\n",
       "wUmgdEH9A4b8AoYTYKuDjYEAKs1+gBnk8nwGBhEGhiiQGDeyboa5nCBpYQYGXwa+3+wgwQBkaaYE\n",
       "kOpYBvZ/DIwG20CCUnDpk0B8GyjN/Y+B7QMD84ULIEGWBJi0GRAzGgD97cDAJcDAJrQBJMh+4jlE\n",
       "dspXoE52A/RA5bsBDVQoAAD1nz84wTBs3QAAAABJRU5ErkJggg==\n",
       "\" style=\"display:inline;vertical-align:middle;\" /></a>, <a class=\"ProveItLink\" href=\"../../../../numbers/number_sets/natural_numbers/__pv_it/theorems/12ab02a6aa52e45203d5ea4187476fa00e51b3b50/expr.ipynb\"><img src=\"data:image/png;base64,iVBORw0KGgoAAAANSUhEUgAAADUAAAAPBAMAAAC2KZqIAAAAMFBMVEX///8QEBCYmJgyMjIiIiKq\n",
       "qqrMzMzu7u5ERERmZmaIiIjc3NxUVFR2dna6uroAAABXsXCEAAAAAXRSTlMAQObYZgAAAN5JREFU\n",
       "GNNjYMAExT+aCxgufnzAgA00sR1gYP+AVYrhSMIqBgYBVDENFxcDEH2unSeBwQFFKmM5lHE6h90c\n",
       "JMd3Z/eqWWARIB8mx7ogByTHy9HFUL8BJMKzAS7HcI9pAVAulcWAYX8CSISDASHHU3AMKFdQ/4BB\n",
       "HyySaAwEBhA59gPMIHfGMzAcBsvtQNLHkMsGkpvMwPCJHSTCiCzHFNAAZMgysH7nBYlwLoDJHQPi\n",
       "20A57n8MvAZqYCFXmJwpSCXQZj4HBu5DAWChmr4CMJ3yEaiH3QA1zN62uCCLAADDBTVfYPhN3gAA\n",
       "AABJRU5ErkJggg==\n",
       "\" style=\"display:inline;vertical-align:middle;\" /></a>, <a class=\"ProveItLink\" href=\"../__pv_it/theorems/a466f217a46ff451f6b97c8b3899ac0738d92d180/expr.ipynb\"><img src=\"data:image/png;base64,iVBORw0KGgoAAAANSUhEUgAAATUAAAARBAMAAABOeyajAAAAMFBMVEX///92dnYiIiIQEBBERERU\n",
       "VFS6urqIiIjc3NxmZmaqqqru7u6YmJgyMjLMzMwAAADiRdoGAAAAAXRSTlMAQObYZgAAAxVJREFU\n",
       "SMeVlk1oE0EUx182JrvdbdecVTAgHmwPDaIgGDFU67UVtBDUtiAi6MFAKz22ehQk8aNC8NAcvOSi\n",
       "CxargpiTIvgR6KXioUHagwdJKaat1VrfzO7OzGum0GzIMPve+/92Pt68XQB2/YSWLreqt7cPNYrn\n",
       "zmwxOqPZi1Zi5/CZ3snKLeV+Xulb22gmZLdjibqEJJoBmKpR20gF7AcVHUaLMNMA5bQy33lPeXBB\n",
       "r/4qu5/+UJeQ1HEMNwrENt2FzdSEDqNDOD04lLY16XitaGGhS7+PPWL8TnmN+oRkHDlfcsQ2y2SX\n",
       "dRgtouM4NvGUdFTGh+XNwJhWHLuaE8tsrlCfkJzCgR/2VFvbOmt/6DBaxFSJTUBuXdx7JvPBqRpa\n",
       "8RtIht3r9l+a7ULSAPh+gdjyXPVSh9EhrGV+J7fxBdRxMm6G30RKkZJOvQd/AWfYXSUuIXEbH0c7\n",
       "qW1/sEwBXcFoEZHVLY5hyBfALfoTMsDSVogk3A2XGazfxCUkJubh835i6/ZPbUhXMFqE8W9LlmeL\n",
       "QziruK9+DzCoK105iPmPgcXi5C/iE5JdmMPmOrGd5NnnhXQFo0VEeQVwZLqhqSrGhudlUTcxD9z+\n",
       "cJnhBPEJyW6MMFeJrZs1di2kKxgtwuCV86mw40YbqXBsNh6RDk19LON/jvds/B8A+PB5rDA2SCWs\n",
       "vMVWiI1Xp4iYucSQS4T7lS3B6exolPxC76tZhK2pvnMBGOCO/x55l4aj3k0qYeWtniG2PDsLe8XY\n",
       "JIZW3jDcYqse8Rj9GPZus0RZC9ULwQqDs4HN22rQ4cfMYLljsbC+CWsmCStwj0hgFilHPGJj5abs\n",
       "hXSB4VDxCAWB1cx+DIyOmTe9+Q3svuVCoB5gDa+DBxmmP+jEWHE2cQ2cvg0PnmwegljOTUEnkVza\n",
       "zE6e9quJxLzqzTKtTxcYDpWPkOHOw/OPWGBOfTcEav6CcJsWPc5b9YRFa2bGWqptI2my+fRmzDbh\n",
       "0VpbQgmzky19J+Vxbu2ZHX/7tEw3rsmxWfcbuVbUVzCBrbPeDqNbp5v74D9nPeoof24fiwAAAABJ\n",
       "RU5ErkJggg==\n",
       "\" style=\"display:inline;vertical-align:middle;\" /></a> <a class=\"ProveItLink\" href=\"../__pv_it/demonstrations/c53df133d62280657e3e6bc3dd3d2c86ab5328e80/proof.ipynb\" style=\"text-decoration: none\">&nbsp;&#x22A2;&nbsp;&nbsp;</a><a class=\"ProveItLink\" href=\"../__pv_it/demonstrations/376b3dea0e3f424e3976b36a1a8780e9c7ed6f0d0/expr.ipynb\"><img src=\"data:image/png;base64,iVBORw0KGgoAAAANSUhEUgAAAHcAAAARBAMAAAAVui7+AAAAMFBMVEX////MzMy6uroyMjIiIiKq\n",
       "qqoQEBB2dnbc3NyYmJhmZmZUVFRERESIiIju7u4AAACOKgoaAAAAAXRSTlMAQObYZgAAAZFJREFU\n",
       "OMuVkj1Iw0AUx/9tkya2NGTWDl10EaGTFKfsQq1rFx3tol0cXLTg4NjqKAgi4qBiazfr4uDWJZOT\n",
       "hYCLiEVFBUUU791HWuwN9kLe173f3bt3B8C5bV3YZfx7dNsntS3l3NRgHtXCuYoesZWRKgHFknQe\n",
       "80zUe8iMHo7tC+1cB0DiQ0anmYOJMClCk5qRzstFlpmILgon8U5yNExKTvlauNkRul6gHWQZVY/k\n",
       "fZh0B0/HOllDHP2Ne/KUG3KjyJXQq+zTDKtgFbj+7o/OuYI9lht62NTBBuws1y/90RXenwBRAY/4\n",
       "SLoaeA84Jx3/4WWrnUmYroKNAJGGBma9HuPzzyTnZZTfsAUFF9mfG2RN1t4YZYobLmN3u8NCVWrY\n",
       "egjn5AJ/n0hFLACbGmYF2ClhiYU+WXagYN5zg9rwxPrjvEoDaVk6sMAe8xnsrgc6/UO7lYGCk2Sm\n",
       "qBiDTj6rjCZN8mfinF4eUKKvXhlCOMrtwXZneFl9gbibKPfSTA/DjCqM8RC2D7/8YeBJpNbwC8D8\n",
       "WiKEwt8HAAAAAElFTkSuQmCC\n",
       "\" style=\"display:inline;vertical-align:middle;\" /></a></span>"
      ],
      "text/plain": [
       "{m in Natural, n in Natural, A_{1} and ..A_{_a}.. and A_{m} and B and C_{1} and ..C_{_a}.. and C_{n}} |- C_{1} and ..C_{_a}.. and C_{n}"
      ]
     },
     "execution_count": 41,
     "metadata": {},
     "output_type": "execute_result"
    }
   ],
   "source": [
    "expr.derive_some(2, assumptions=[InSet(m, Natural), InSet(n, Natural), expr])"
   ]
  },
  {
   "cell_type": "code",
   "execution_count": 42,
   "metadata": {},
   "outputs": [
    {
     "data": {
      "text/html": [
       "<span style=\"font-size:20px;\"> <a class=\"ProveItLink\" href=\"proofs/any_from_and/thm_proof.ipynb\" style=\"text-decoration: none\">&nbsp;&#x22A2;&nbsp;&nbsp;</a><a class=\"ProveItLink\" href=\"../__pv_it/theorems/697957ccff67fd76cba9c24a6ad74baf20e074260/expr.ipynb\"><img src=\"data:image/png;base64,iVBORw0KGgoAAAANSUhEUgAAAdIAAAAZBAMAAAB3FrLGAAAAMFBMVEX///8QEBCIiIhmZma6urrM\n",
       "zMxUVFQiIiJERETc3Nzu7u6qqqp2dnaYmJgyMjIAAAAcRTyBAAAAAXRSTlMAQObYZgAAA/hJREFU\n",
       "WMPtmF1oFFcUx//O7GR25yObl5a29mFFqGmpJiD9oI10gy++iJt96JPQxTQ0CKUBi5GgEvtQVy1k\n",
       "6UMaBM0WH9T1a0AWKrSwNP2MHwwiJbSVBn1qXyqmatSGes6drJndO0mmZbawpQOZOWf25Nz7m3vu\n",
       "uedeINz1zmABTXzFBneHNR1Ak1+j/5P+B0mn+XE9BGkrP2y32Qh/+Kv35XyaSS+y+lsIUsuhR2ux\n",
       "6QbzKUC9w6RjpCSGQ5AKo7GmA9XmKPPOMCmPkhiuZecpD/zFpiNV7tOcu82k9mSp9EmojPRzqXSy\n",
       "+RJTvA34dEjk3tl8fnco0mQ+v7/SdKTJHLSdRUHaBxwIRdqSQVwUSvHgcqnGy6aZiX7PbKq38rxs\n",
       "bH/YpTx2E3s8AFF7Bt569+p+x1tPN8KYDp7LO77CqtwCaawTZ4X8SzrI3P6jRmuD1cbC0RROtEnG\n",
       "iRsw9i1EWFWI3DPQUYDxpEeqQwlYJE9NbMBnVlEt+iqHAaxl0XgjcFE9NufX1BzMB9ww9dKWU/s4\n",
       "IU1JpNF7Bpi6wxGklqsHfMZDh4v4ItVp+Wuky16lZB3vDOrP5A6/pqegcqjoNLO1lGTMmSErkUbv\n",
       "GbjLpClBmph+k8g2ZFcrz2XgSRzSdJXLH9eQHtVELGfjQcuvlsr71XMZrON46KCbIZUbCg9KSSKN\n",
       "3rNYTvFe2qt7D7xNfN3uiu0Kg7BU8GrEsnVmq580PiqmUU4lZXt9Ey14xa9uWdsuPssuT60z12uJ\n",
       "qqTRexbLqTY7X+GfJ/eH1yCZVnkNYaloiCgqozLhJzVFi7aj3MLWZ+r78xM6/OoVYA0//xRavXmy\n",
       "EkTaAM9opZzVfXCeNMnBvg090EWptA3d0Hbl8x8Q6RG9Zi9zm29nu76jCBmq645x89KIP5Q+otzg\n",
       "zE+bM5I5zzHDrSdtgOeW3++u7z9U3bXZ7OcJtGNcg5C6NOS8MY1la0h/5NtrSNyR+0NJejxjv379\n",
       "pc8zQn9IYcar2qv0V5HMVYoxC2Re8ZM2wLO8P03corGcsjBWJOn9Mr7ml9eoApT2pzH6YHOiAbI9\n",
       "WL1hM8WGa67DSrMCepN4gMSzLOguThdk8z0wvofZPu823jDPMmksh18xOokeh6QXXcQpPmJ705QN\n",
       "6klHhjF2z+UGehztafQU+ObEZ5EY2YM+Y0BNQ1uJb2fW9wsB33S9ANSbw+r9kiKpTxv2kTbC8xJn\n",
       "DtVdTTvN06XOHIZ8tgvSgNmpm5S6qu/NZcyVa7U1UuSeFyc1C+FOV7Izjs+2Khk5Jd1CpeiF6g8X\n",
       "ljE3L0uk0XpenNT+G+dI9qL/5UrCkua1Yxqp539wYjbYyPNe9V847935CLHHhISSD19TAAAAAElF\n",
       "TkSuQmCC\n",
       "\" style=\"display:inline;vertical-align:middle;\" /></a></span>"
      ],
      "text/plain": [
       "|- forall_{m, n in Natural} [forall_{A_{1}, ..A_{_a}.., A_{m}, B, C_{1}, ..C_{_a}.., C_{n} | A_{1}, ..A_{_a}.., A_{m}, B, C_{1}, ..C_{_a}.., C_{n}} B]"
      ]
     },
     "execution_count": 42,
     "metadata": {},
     "output_type": "execute_result"
    }
   ],
   "source": [
    "from  proveit.logic.booleans.conjunction import any_from_and\n",
    "any_from_and"
   ]
  },
  {
   "cell_type": "code",
   "execution_count": null,
   "metadata": {},
   "outputs": [],
   "source": []
  },
  {
   "cell_type": "code",
   "execution_count": 43,
   "metadata": {},
   "outputs": [
    {
     "data": {
      "text/html": [
       "<span style=\"font-size:20px;\"><a class=\"ProveItLink\" href=\"../../../../__pv_it/common/09585084922504426caf1db2ff588a23a0932a960/expr.ipynb\"><img src=\"data:image/png;base64,iVBORw0KGgoAAAANSUhEUgAAAA8AAAAOBAMAAAACpFvcAAAALVBMVEX///8iIiIQEBBERERUVFS6\n",
       "urqIiIjc3NxmZmaqqqru7u6YmJgyMjLMzMwAAACK9jtgAAAAAXRSTlMAQObYZgAAAFtJREFUCNdj\n",
       "YACBOwxQcA5Kc59bAGGs7CuAMDbkBYBp1gXzNoAZSxnuJYAZAQx1DSCa16PDzwCshIGB6QCIMYGB\n",
       "gVEBSLMDGTwPgIxCIGZ+zsCw+N0pBk67hw0AfpEVEQi8t+wAAAAASUVORK5CYII=\n",
       "\" style=\"display:inline;vertical-align:middle;\" /></a>, <a class=\"ProveItLink\" href=\"../../../../__pv_it/common/a9162d1c3cc0470c02e5daf414500903a7a419230/expr.ipynb\"><img src=\"data:image/png;base64,iVBORw0KGgoAAAANSUhEUgAAABAAAAAOBAMAAADUAYG5AAAALVBMVEX///8yMjKqqqoiIiLu7u7c\n",
       "3NyIiIjMzMwQEBC6urpERERmZmZUVFSYmJgAAACsPVCVAAAAAXRSTlMAQObYZgAAAGxJREFUCNdj\n",
       "YGC48+70nlUTGICgi4GB+zmQZn/LwMD5Gshge8rAwPsMyOBqYGDwMAEy+A4wsNs4ABl1Z68tVgBp\n",
       "ygtgYOkBMVaAOCChNyBGAsQYhnMTIMawvwJyGIHGzFjCwMAj92b3qUUMDAAXABxvZ4rl5AAAAABJ\n",
       "RU5ErkJggg==\n",
       "\" style=\"display:inline;vertical-align:middle;\" /></a>, <a class=\"ProveItLink\" href=\"../../../../__pv_it/common/9fba9f29e823606ff4fdf2f1c6d5d08d906e850a0/expr.ipynb\"><img src=\"data:image/png;base64,iVBORw0KGgoAAAANSUhEUgAAAA8AAAAOBAMAAAACpFvcAAAAMFBMVEX////MzMy6uroyMjIiIiKq\n",
       "qqoQEBB2dnbc3NyYmJhmZmZUVFRERESIiIju7u4AAACOKgoaAAAAAXRSTlMAQObYZgAAAGRJREFU\n",
       "CNdjYGDgu7NrJ0cBAwPDtQkMrMsmMDC88QNy1jcwMJg9ADLUGBi4vgJpBikGhn4HEOMFA0P9BQYI\n",
       "8BeAMvJBahmAhD+IZhWAmMDADsT9IMV1INGfDAxRYHWvTu9SAFIARRcYB3lKsPwAAAAASUVORK5C\n",
       "YII=\n",
       "\" style=\"display:inline;vertical-align:middle;\" /></a> <a class=\"ProveItLink\" href=\"../__pv_it/demonstrations/f4c7bdfa8445036f9d6bfb2e97d9f6c6ed0bbaf00/proof.ipynb\" style=\"text-decoration: none\">&nbsp;&#x22A2;&nbsp;&nbsp;</a><a class=\"ProveItLink\" href=\"../__pv_it/demonstrations/810ed78738f42881375be650615d01027c23a1080/expr.ipynb\"><img src=\"data:image/png;base64,iVBORw0KGgoAAAANSUhEUgAAAF8AAAAPBAMAAABw7A4xAAAAMFBMVEX///92dnYiIiIQEBBERERU\n",
       "VFS6urqIiIjc3NxmZmaqqqru7u6YmJgyMjLMzMwAAADiRdoGAAAAAXRSTlMAQObYZgAAAVdJREFU\n",
       "KM9jYACBtwyogCf+68wQNzRB7pLIGA4BCPs+VKwBJsnswMAw/wGqWPEBBq7JByAG3t8AEbsJk3wP\n",
       "lMifgCK2RRtIzIdo3wWl+ZygGhnqgQLnC1DELoPoZAj7QH0CmGZNL4BqcAY62WgDshjnLxD5Esxm\n",
       "27Ae4rS9DApQDV8ZGB5Fo4j1g6kdYPY2hvcQU6SAEOK2r2dKtBhQxOQLEOGVwNAP8Z8CQy9EhP0H\n",
       "A8PmABQx/Qdw9XyRM+MdwIFVwMAKEWYxAGr6hSJmD/YRmGADBvsFEINpAwMfxFh+IMX+HUVMH0Rw\n",
       "gfUuAAobgBgrgfgGPBpYv6GIgUOeEcTiAGrg/cAAlVgJj4b3Dihi/SBPS4NYTSA3/wD5xQHiBFAk\n",
       "AR1qsgFFjOsPUCeIseX/bQYu/0/AYGIFxR47yKDY/5FTXRaAow0uxrDTNTIBNTWygckHBMQAif1k\n",
       "34m7olkAAAAASUVORK5CYII=\n",
       "\" style=\"display:inline;vertical-align:middle;\" /></a></span>"
      ],
      "text/plain": [
       "{A, B, C} |- A and B and C"
      ]
     },
     "execution_count": 43,
     "metadata": {},
     "output_type": "execute_result"
    }
   ],
   "source": [
    "And(A,B,C).prove([A,C,B])"
   ]
  },
  {
   "cell_type": "code",
   "execution_count": 44,
   "metadata": {},
   "outputs": [
    {
     "data": {
      "text/html": [
       "<span style=\"font-size:20px;\"><a class=\"ProveItLink\" href=\"../__pv_it/demonstrations/299e81ba59930ac5c6fe721d958dbb0a6735c8e20/expr.ipynb\"><img src=\"data:image/png;base64,iVBORw0KGgoAAAANSUhEUgAAAP0AAAAPBAMAAADdQdTdAAAAMFBMVEX///92dnYiIiIQEBBERERU\n",
       "VFS6urqIiIjc3NxmZmaqqqru7u6YmJgyMjLMzMwAAADiRdoGAAAAAXRSTlMAQObYZgAAAt5JREFU\n",
       "OMutlT1oU1EUx09i8/mS18wurYNTh3bQyaIxNYMf0GBjsSA21MGxAQuOjc5KIjXSotBMQhD0QdUa\n",
       "QcigFsGh4GKQkgx2cJB+2C9tbTzn3PuSd14FF1/IzeV3z/+c+8655waAnu8gn3fNkeKZjAvOJ4vV\n",
       "W267ZDqZk2yiebZ48fdBNrAtmTEx8igYU/O6Zi1XxwBC+5IF+gHK/TwNtpxgnMgvl5Ziv/0LuyC1\n",
       "N6rgn6ryNFK3FKvpNXMPwP9TMCOBNqEdnkcLth2905TU+olVXP7WcHgvtM97cJhVG3ytf82E3kcA\n",
       "40S2BYueIN99PP/aY+eEcjReFVoPsXmXvy0cngrtJ1oaU/PqpKq173pWgQ6MM9cj2GyJHKrND9/U\n",
       "8TtWccjHhDa6Ch6d5TbbRfLEqQ1x1b6pjFnPVB3eQLey70yBedRysuA6F4HzZCx6dfzOOL1/Smrj\n",
       "8FEvt1k33NFl1No8r7zi+UtYUfs8jB9+Vq4sJErgZB7H6fWUPHqRdZMxoR2vDe0ASH/jBbgstV3Z\n",
       "tr8M5FVeu+GuIpM5MI6Dk3n32/ZeCC5quwYOoxmh7WqAXnWw2lCf1PY2Wu7MkZnROLdBFnwKD5Dv\n",
       "kpMd2uXs8eoCwFUlHaThh9RiL8eg4WKWkQKhPYXfD0unufzonffktcBUZpsUP+tkXjpp+gjjwVxW\n",
       "3jYoyp7UIrOMrGTrYOiK2dpeTgtnDle8nJ0yfj/b7a/TajPV+VzpMBYrmmu1/1xcaLn9PZZka3au\n",
       "W1rueL72giXuGW1bttvf3AAnC7bdkj5csNvfWBJ2qv2XXWzLjt/SUtOafEvfpj6mtzPjKmdohem4\n",
       "dh4EwxYNP1Q3iM6j2vZYQdpRofwnDzKQ2jC+z/IRugebXyA8uI5efJTwAFbOV9+cSZ9TN4jNwLh/\n",
       "6YHyMUwD3SJoV0xPS7sXpO1dFKxS35wGlxYqyXvVx+IPyc9j45+Mz4UJ/0f7B9eF+6Supjp/AAAA\n",
       "AElFTkSuQmCC\n",
       "\" style=\"display:inline;vertical-align:middle;\" /></a> <a class=\"ProveItLink\" href=\"../__pv_it/demonstrations/a322355289320e84e47ebe398e693509bd73bd7e0/proof.ipynb\" style=\"text-decoration: none\">&nbsp;&#x22A2;&nbsp;&nbsp;</a><a class=\"ProveItLink\" href=\"../__pv_it/demonstrations/eeea9e54cabfc51daddf62c945b9fb14c941da080/expr.ipynb\"><img src=\"data:image/png;base64,iVBORw0KGgoAAAANSUhEUgAAAQ0AAAAUBAMAAABlknXcAAAAMFBMVEX///92dnYiIiIQEBBERERU\n",
       "VFS6urqIiIjc3NxmZmaqqqru7u6YmJgyMjLMzMwAAADiRdoGAAAAAXRSTlMAQObYZgAAA2tJREFU\n",
       "SMe9Vk1oU0EQ/l5M0iTv5ZlbUQ+NBy/toT2oFwutqQH/oAXbYkFtaQ8eE7AgnhI9K43USIuCOYlF\n",
       "0GCLtYKQi1ZvAS8WKcnBHjxIf+yPtk3r7O57L5mAbUHphkz2fTvz7ezM7LwAex2+3I7Lz/Afxo+q\n",
       "5/fbPekzfRybEGIyms7drtaNdkaT8CSrOGral0e7GvMMG9w+l25b43r6YM9jX0jNCxbmcB0H/Fsc\n",
       "+yK4m4GxZhUeh6gEGOvQ89UcBwkxWjlGurjI7W/k4B1WsTYKWYXNWGvmJuD9zTAjRa5HSM//Sz4H\n",
       "U7auON8wUAvOgVicLFKcd5HEB2Y/0UDiiXL0rfVrRix/amgvY41hLlIJnqKJt0k+f2uw4y/iFsth\n",
       "HJwDdUXyI855V0m8YPafxVK/mucSqhY81+MKcNNe4w0MuyPczghSdZDum9Z27gUSQyEEqzhEskMq\n",
       "Iw4W3KB8PK+0968L+V3OvdmXKj/vELZS2wHzWJZhtyilS7KuJLWed9llIEog1gEtxTmwDMO6YmXe\n",
       "MO5a1WnZD8mVN3L+GvPK38P0kWP+ynQkA4ZRdWkVla5lNEtB2iZCMPKcw1tKtyQ5B2IpXOb2dfEy\n",
       "Zx+G1FnCuKeQRBL6CTCsnkpkq2zjgs+6IAkqA/T2IRDmHNoWguAcqJu51MTtG4sOpdkz2iuvlxGH\n",
       "R8Ftgj/DsJPAgQ0ZUakxDVxT5u1C/CSaBc4RXIAGk2OFrN4BZt9C30+zp2UAaQfpmysLU6mtCD/i\n",
       "DCM/XHInVe5UxHN2GdBOm7YfZQ6qGx2THFuCbmXTtm+UYZIlTisuGa0xq1vJ9iFCXYnV251Dtr4A\n",
       "JTKYdNrHOMXTG2b6sn3gCMO8i3YOHHvZMWQb9WVkDC3dMbt9mMtgGNWpT2ypyWskOAIpu33osyIm\n",
       "eaYv24cKg4Npq7Yfjj1deJgluzG4xUnNVhVD0qLwDFwAww7Rl6534JHqQlZs1RH6BaM/xPRlxAeK\n",
       "DFOJZfYBOtvcUdFXt78i0L5ETB6RiBqKpqewMtp5XnUlG5MtT3/Q9VDxdAshOhHppjtHpEPFSn39\n",
       "Kr0qIyXGMVVYGUGVPaai93NP2YvPK2XxL5iLvU9l7ZhM9dXuHDva73EYqV0UarE/4+zOy3p+n/yY\n",
       "2HnZndwnP3b5X/jx39j/AMlCC4Yl/WY/AAAAAElFTkSuQmCC\n",
       "\" style=\"display:inline;vertical-align:middle;\" /></a></span>"
      ],
      "text/plain": [
       "{A and B and C and D and E and F and G} |- A and B and (C and D) and E and F and G"
      ]
     },
     "execution_count": 44,
     "metadata": {},
     "output_type": "execute_result"
    }
   ],
   "source": [
    "And(A,B,C,D,E,F,G).associate(2,length=2,assumptions=[And(A,B,And(C,D),E,F,G),And(A,B,C,D,E,F,G),in_bool(A), in_bool(B),in_bool(C),in_bool(D),in_bool(E),in_bool(F),in_bool(G)])"
   ]
  },
  {
   "cell_type": "code",
   "execution_count": 45,
   "metadata": {},
   "outputs": [
    {
     "data": {
      "text/html": [
       "<span style=\"font-size:20px;\"><a class=\"ProveItLink\" href=\"../__pv_it/demonstrations/63a4440c1e85c8cd13489c1a33f84725b2a3395d0/expr.ipynb\"><img src=\"data:image/png;base64,iVBORw0KGgoAAAANSUhEUgAAAK8AAAAPBAMAAABgoIKoAAAAMFBMVEX///92dnYiIiIQEBBERERU\n",
       "VFS6urqIiIjc3NxmZmaqqqru7u6YmJgyMjLMzMwAAADiRdoGAAAAAXRSTlMAQObYZgAAAgtJREFU\n",
       "OMutlD9IG3EUx1+sl9hcTDK3g87tEJHuHtp0jUMcQlsS6tAxB7pH3EsECTSTWTN5oLRaKGTpJii4\n",
       "WEpJ6NahRNqkijTG997vl4vfzL1w73f5vD+/997v3RHJ9YvwShT79fyLCehuFl7NpAF9GWbz2S00\n",
       "i+V69bXMmfnTtjC0eeAR7XWQbbQovttCNuAkbiZ8Uxw04ZkE24FhX0fKLgco7wA7fMpibwtY8orF\n",
       "7oRv2efqjO8na59cthtQhcGpD+xc1nW0i91KoBb6znGlrvpSq1LS1XnrW+UK6xaD++yhVvwT7aYv\n",
       "WVTT6Mt9TZvGRIN907rPNG+VfaIfL4FVdTlCu5S0sryKvj1KmHD0gbpmt0f8M7X2TzafELA5f3zw\n",
       "oZ36VdLAooPakj3IElVNr+fpne3dNdHBKrBMZxw4tKsILJaARW5p1qZXqBd1OhI+OcZ9eoGD3wBb\n",
       "0o4HaJcT8QfZ7CVFKKm589jqPE8FlDRppniJXQHLiIh30K4nIf9N+Hrk0kd5ajBekIcm3xfhGDt/\n",
       "gelERgiYjvGBh74yxvSY75mGpm8VzXCMux6w6sj+HpMxdr8j0zHW5Lelp9eyv2dKkpeBG/QsABbn\n",
       "ipuqHDPJ580OMu3ZOgc/HH6jeO43qx053Zgk9npYqD1v6NiHjI6zBfsajZjT7tfy75G54rs8gM9S\n",
       "VGXnP7E7YFeym/q2KWAAAAAASUVORK5CYII=\n",
       "\" style=\"display:inline;vertical-align:middle;\" /></a> <a class=\"ProveItLink\" href=\"../__pv_it/demonstrations/dd21e5db7a89942613bda0266d99f3950fbe70f60/proof.ipynb\" style=\"text-decoration: none\">&nbsp;&#x22A2;&nbsp;&nbsp;</a><a class=\"ProveItLink\" href=\"../__pv_it/demonstrations/e8003b8462a72d18a5d3ab2d4f76b5b49141ee520/expr.ipynb\"><img src=\"data:image/png;base64,iVBORw0KGgoAAAANSUhEUgAAAK8AAAAPBAMAAABgoIKoAAAAMFBMVEX///92dnYiIiIQEBBERERU\n",
       "VFS6urqIiIjc3NxmZmaqqqru7u6YmJgyMjLMzMwAAADiRdoGAAAAAXRSTlMAQObYZgAAAgpJREFU\n",
       "OMutlD9oE3EUx7+xvVybSy+Z7WDnOqSIe49qXNMhDqFKQjs4JmD3FHdJoQTM1KyZetDiPxCyuAkK\n",
       "XSoiCd0cJEUbW4ppfL/3uzN+M3vh3rv7/N7vvd/v+3sXwFzfMXV526VHc1lC78f5Yn6Hw9LlYav4\n",
       "gJlbOG89zH2yL70I/p33tIvUXpfZSBJdTcXNBMB+n1lGkqYDW7gXWvY5Gju6LWZ/h5h/IWaP4zCQ\n",
       "4tVdZtWa7Niyt1EOfy0qcGz8FjP32kzqEkNdJn6sMbslO/CUoVuvqHee2Pd53fE3Ypg9E9PIEsM9\n",
       "yXEnZCa6Zq0wyfDAyvkOS+ob6l4TQ8bIVl0nhiFwusFxOEfapsNLDGy1m/LTzdQmhxwzG1PPEvOH\n",
       "H7aXp+KSo+ZqdJAVNKzWS3iuPtefJI4Z6gaWK8TcS+BwneMS11iIypZaZe2OdA2OplxV1UJiKBjz\n",
       "k9nsiiS/YrZwhgR8Xbu0o/bzjRC+ls8Zk+oTE+lk+m9mGXHuxRQL4OGVeWoLXjEPHblPEHdwAsS0\n",
       "jQ8DYtrGzi9mpo2xKPdcW5cfDXS0K+Kxf5hpY+8rM23jQcDMtLEu/pnR6tKsKbBbEhVkxx2VeMJM\n",
       "7c1dZjgWIe+GzIyOW5L8aPwFqcIPmeKYE3e1097kS9EnEzOnN2wWXzDD43Gpeb9NzDNsbUR/S0m1\n",
       "/f/E/gCrbLKbBlHuKAAAAABJRU5ErkJggg==\n",
       "\" style=\"display:inline;vertical-align:middle;\" /></a></span>"
      ],
      "text/plain": [
       "{A and B and C and D and E} |- A and C and D and B and E"
      ]
     },
     "execution_count": 45,
     "metadata": {},
     "output_type": "execute_result"
    }
   ],
   "source": [
    "And(A,B,C,D,E).commute(1,3,[And(A,B,C,D,E), *in_bool(A,B,C,D,E)])"
   ]
  },
  {
   "cell_type": "code",
   "execution_count": 46,
   "metadata": {},
   "outputs": [
    {
     "data": {
      "text/html": [
       "<span style=\"font-size:20px;\"><a class=\"ProveItLink\" href=\"../__pv_it/demonstrations/63a4440c1e85c8cd13489c1a33f84725b2a3395d0/expr.ipynb\"><img src=\"data:image/png;base64,iVBORw0KGgoAAAANSUhEUgAAAK8AAAAPBAMAAABgoIKoAAAAMFBMVEX///92dnYiIiIQEBBERERU\n",
       "VFS6urqIiIjc3NxmZmaqqqru7u6YmJgyMjLMzMwAAADiRdoGAAAAAXRSTlMAQObYZgAAAgtJREFU\n",
       "OMutlD9IG3EUx1+sl9hcTDK3g87tEJHuHtp0jUMcQlsS6tAxB7pH3EsECTSTWTN5oLRaKGTpJii4\n",
       "WEpJ6NahRNqkijTG997vl4vfzL1w73f5vD+/997v3RHJ9YvwShT79fyLCehuFl7NpAF9GWbz2S00\n",
       "i+V69bXMmfnTtjC0eeAR7XWQbbQovttCNuAkbiZ8Uxw04ZkE24FhX0fKLgco7wA7fMpibwtY8orF\n",
       "7oRv2efqjO8na59cthtQhcGpD+xc1nW0i91KoBb6znGlrvpSq1LS1XnrW+UK6xaD++yhVvwT7aYv\n",
       "WVTT6Mt9TZvGRIN907rPNG+VfaIfL4FVdTlCu5S0sryKvj1KmHD0gbpmt0f8M7X2TzafELA5f3zw\n",
       "oZ36VdLAooPakj3IElVNr+fpne3dNdHBKrBMZxw4tKsILJaARW5p1qZXqBd1OhI+OcZ9eoGD3wBb\n",
       "0o4HaJcT8QfZ7CVFKKm589jqPE8FlDRppniJXQHLiIh30K4nIf9N+Hrk0kd5ajBekIcm3xfhGDt/\n",
       "gelERgiYjvGBh74yxvSY75mGpm8VzXCMux6w6sj+HpMxdr8j0zHW5Lelp9eyv2dKkpeBG/QsABbn\n",
       "ipuqHDPJ580OMu3ZOgc/HH6jeO43qx053Zgk9npYqD1v6NiHjI6zBfsajZjT7tfy75G54rs8gM9S\n",
       "VGXnP7E7YFeym/q2KWAAAAAASUVORK5CYII=\n",
       "\" style=\"display:inline;vertical-align:middle;\" /></a> <a class=\"ProveItLink\" href=\"../__pv_it/demonstrations/fd419ca464a9e35590bb247cef9b14c6e73053250/proof.ipynb\" style=\"text-decoration: none\">&nbsp;&#x22A2;&nbsp;&nbsp;</a><a class=\"ProveItLink\" href=\"../__pv_it/demonstrations/a46aa22e983cbf631915c7774a0d0187be0d08540/expr.ipynb\"><img src=\"data:image/png;base64,iVBORw0KGgoAAAANSUhEUgAAAK8AAAAPBAMAAABgoIKoAAAAMFBMVEX///8iIiLu7u52dna6uroQ\n",
       "EBBmZmaIiIjMzMyqqqoyMjLc3NxERERUVFSYmJgAAAAdjRNVAAAAAXRSTlMAQObYZgAAAkVJREFU\n",
       "OMuFlD9oE1Ecx7/JheYuaa4loJvkliqoQ3FzahSCY5xFaZdmkeAt4iIkk1NLM2Vy6FIHOzSrLmkE\n",
       "B8GQDBJEYu1WEAoiamtMG39/7i734mDCvXt87vf93fv93vcdgONJd9htYfZnb8+A48mg+r5osuTT\n",
       "wUF22UDp3rjyuSDiEeD+VhrLn/mm92xE7gNzpyZ7fAhn/dCULlBSd5+XdkLDusIX08RfvwcvWAtL\n",
       "OAdSvwx2PU/Do5YpLftUCQekeRVlea3d8aIim390spEPayTgnhhsh8NLMKUrdVJTcsxzzW1pVO6O\n",
       "HyZ20z908uFJQObvAkv5OJuTBj6DKd0DlqUxC9yPcp/ZVSyGiW8757ry7UTYuz7sS16ctSX6Gkzp\n",
       "GK52fYtfVZMV36R/0ImirVVbDauhaOvgqNMw2Io/3ZJImhpVV7XrNeoJvoiPFvE6iEshq/uUQDbw\n",
       "Xa2F5AODFerTxJHUOkVGZz0efkpffeSC2M1KdSyTI+CjorecvBFnq9IYz5SSTS3Y2hPi0tCEB7uv\n",
       "WaiAezKh3dpUdMaJ/Tgr8ODUTSltWRJXQhsv8QaiSdeuPHXouiATMmSmFdpYOxYxcbAFU8o2xo3A\n",
       "xsmXwnaDCOCV2kYTOGuhje2xwdphjriUbSyL56N7S6T2vtZER5at0+P1bASlUxzZuPQGccaObHqm\n",
       "VPpTouS5vbPq8KF6nOtM84HsjTw8n1zko8AP+DhQXGX4To9HyHC5OyjOSD/Rp6ozMj9VKRnrBhOd\n",
       "jf+xf6V/AWJIqQCYVF1lAAAAAElFTkSuQmCC\n",
       "\" style=\"display:inline;vertical-align:middle;\" /></a></span>"
      ],
      "text/plain": [
       "{A and B and C and D and E} |- D and A and B and C and E"
      ]
     },
     "execution_count": 46,
     "metadata": {},
     "output_type": "execute_result"
    }
   ],
   "source": [
    "And(A,B,C,D,E).group_commute(0,1,length=3, assumptions=[And(A,B,C,D,E), *in_bool(A,B,C,D,E)])"
   ]
  },
  {
   "cell_type": "code",
   "execution_count": 47,
   "metadata": {},
   "outputs": [
    {
     "data": {
      "text/html": [
       "<strong id=\"expr\">expr:</strong> <a class=\"ProveItLink\" href=\"../__pv_it/demonstrations/f7aa198e014911ac6f13ab1b58223dc921e7aed70/expr.ipynb\"><img src=\"data:image/png;base64,iVBORw0KGgoAAAANSUhEUgAAAL0AAAAUBAMAAAAq6iElAAAAMFBMVEX///92dnYiIiIQEBBERERU\n",
       "VFS6urqIiIjc3NxmZmaqqqru7u6YmJgyMjLMzMwAAADiRdoGAAAAAXRSTlMAQObYZgAAAqZJREFU\n",
       "OMuVlU1oE1EQxydpNkmzSbq3gh66x6KHFPHepRrxliDxEFQS7EE8ZcHeU7xqyUIJGC/N0ZxcTPEL\n",
       "hFwEC4KBXioiCd4EJUUbW4ppnJm322ZEpLtlJ29/+97/zde+Apz6eghBryf+4PtfL5KlYaNwRTLd\n",
       "IrNSvBk3BH87zhayq3JuLLfXuJ7paj7ukUnzsM92CsU2+oKlaPK9DiTWOwyPJUfozyFINtNFaOld\n",
       "z92ei1YjmaTNZIAaFUewLbw3z6PZUCofPan0Ppp1EAwquER3YFY9veYl6TyasMukiuCDLdg83ts0\n",
       "WlayS66XiyPS6wgGc+iXbkNbPXWqZfrZwfuuIpfw9QV3ksVNgGlOw1eeod1RkUJkF03NEIwSbmC2\n",
       "UqwbdZ/y9i28r6r3Q4AvNwSLYbZqJo1e8ow3YHqpprpX8oLBHiRJMuTQw3MY8L5hjNBSwQ/fr5wD\n",
       "wSI4f84+aZEz+KdKRbBqCBYd1Rcp5UkucBlqvE/MBq2scnoA0M4LFm4CZPon+iasqUGVYKksWOgI\n",
       "UvSboHjSxUaJXdRNjFDldAGVDwWbQoVFLh8b7ClN7ZYj81Oy1C6EqLfTVJsoLlaN+tiPbwZ9j+0L\n",
       "RvoZ9oklsKe4tyjVqPxbMqyJDi88fQw8vMB4za8Ptb/2SzDKD7dxCPy67xy3f9sSjNsfzqLruDbe\n",
       "5Hg4Ld+8AlL7DyzBqL41b5mn0/LbX/8sGbc/hUL1vU+LD1TbXPO+j23c+qIrGLVaAtPQ4kfuKf7u\n",
       "yLXbjmScyGXcY9qAzfEnSOR+OJPf961xsX65CeKbp1DhVbaoGox7CnsLtN6wXngkmU7rl0a0eV+e\n",
       "ew/+ccj6bH4SRifOwv+wZwEO8y0Ifs0GmBtZDSzvn8+nm2wF1g/mUvD/j+8A/gDseMdy9ZC/swAA\n",
       "AABJRU5ErkJggg==\n",
       "\" style=\"display:inline;vertical-align:middle;\" /></a><br>"
      ],
      "text/plain": [
       "expr: A or B or (C and D and E)"
      ]
     },
     "execution_count": 47,
     "metadata": {},
     "output_type": "execute_result"
    }
   ],
   "source": [
    "expr = Or(A, B, And(C, D, E))"
   ]
  },
  {
   "cell_type": "code",
   "execution_count": 48,
   "metadata": {},
   "outputs": [
    {
     "data": {
      "text/html": [
       "<span style=\"font-size:20px;\"><a class=\"ProveItLink\" href=\"../__pv_it/theorems/b59e86c72b4502a600c4eac6a03d74436cb1fea40/expr.ipynb\"><img src=\"data:image/png;base64,iVBORw0KGgoAAAANSUhEUgAAADYAAAAPBAMAAABdHiGLAAAAMFBMVEX////MzMy6uroyMjIiIiKq\n",
       "qqoQEBB2dnbc3NyYmJhmZmZUVFRERESIiIju7u4AAACOKgoaAAAAAXRSTlMAQObYZgAAANxJREFU\n",
       "GNNjYGDgu7NrJ0cBAxLgdTvzOWUTiHVtAgPrsgnIcgzMjBfevAIKvfEDctY3oMjxME3gFTjAwGD2\n",
       "AMhRg4jNcXExgMqxBhxg4PoK4kiBpWTuIfSx6x1g6HcAcV6ACD47JDNVpAUY6i/AbeFuQMil/E9i\n",
       "YPAXQLgA2S3sMwsY8kFOYQATYsZAAHMLwwFNBn8QmxWsuQdZH8MBbojP2MEibChyG5gZ+kFuqQOL\n",
       "cF1A0TedgfUnA0PUA4iQKyLMCtirNjAwvDq9SwEq9PrQA7SwRgLqRyBhBgEActk8e8zZ+EcAAAAA\n",
       "SUVORK5CYII=\n",
       "\" style=\"display:inline;vertical-align:middle;\" /></a>, <a class=\"ProveItLink\" href=\"../__pv_it/demonstrations/af75d7a88b426fc518b410470e1d3e96fbdd11d60/expr.ipynb\"><img src=\"data:image/png;base64,iVBORw0KGgoAAAANSUhEUgAAADgAAAAPBAMAAABD1xE4AAAAMFBMVEX///8iIiLu7u52dna6uroQ\n",
       "EBBmZmaIiIjMzMyqqqoyMjLc3NxERERUVFSYmJgAAAAdjRNVAAAAAXRSTlMAQObYZgAAAONJREFU\n",
       "GNNjYGB4+//snbMbGJABu+iZX4FXwMxfDAx8P1EkGbg4CnTUHgAZHN+BRCqqJA/LA/aGAyAzfgAJ\n",
       "/wdgQb6DglJQSc4JIEmeD0BivwFIjOO4AlwnsxNIkh9E+F8AiWkpIIx17G0AMvoLgEQ9WOdthJ2B\n",
       "/0NAjHqQivsOIOYBJAcxvwOpPw/ifQVbGbUKCKCSDAf8gIw/IFf+AwlxI+tkOMAL9aYqRDgAWfIC\n",
       "F8SbTKsgYukoOh8DQwroTccEiBjjBHjwGTCbXWDgXf839042VIzpjhN6wCMBFhtI8EEAALZERsGv\n",
       "6x6JAAAAAElFTkSuQmCC\n",
       "\" style=\"display:inline;vertical-align:middle;\" /></a>, <a class=\"ProveItLink\" href=\"../__pv_it/demonstrations/e033eb4357ad726045b6b9376437c7943f79a5010/expr.ipynb\"><img src=\"data:image/png;base64,iVBORw0KGgoAAAANSUhEUgAAADcAAAAPBAMAAACy3Eq1AAAAMFBMVEX///+qqqoQEBDc3NzMzMx2\n",
       "dnbu7u66urqYmJgyMjIiIiJUVFRmZmZERESIiIgAAADRBAegAAAAAXRSTlMAQObYZgAAAOJJREFU\n",
       "GNNjYGB4+//O6V0/GZDBK937k1YXgJkgiV4USYYJfmzXToAY7P+ARA6q5IUKhie8IAbrFyCRBxbj\n",
       "uLVqJUxSECzJ+YGBlYEZxGK5l4DQGZ4LYvBfYOiACGUmIIxlX7IFxKifs+kzRGgzws6i9Z/Aro13\n",
       "YJgAFUJ2UEQriDGfgSGAwQFkpeZMIIBJ8rI3ABl/GRgS2B4AGcwoOnkZNkC9yQp2igKyJDfIMrA3\n",
       "vcFC51B0cgQwMHB9AOpWAQtxCcCDz5Uh9DQDQ/b832f2roc4l21vGUbAIwB7LDT4IAAA1+JKJTT9\n",
       "YhQAAAAASUVORK5CYII=\n",
       "\" style=\"display:inline;vertical-align:middle;\" /></a> <a class=\"ProveItLink\" href=\"../__pv_it/demonstrations/a8da068158e64b38fa3867c916f093f0f0a2445d0/proof.ipynb\" style=\"text-decoration: none\">&nbsp;&#x22A2;&nbsp;&nbsp;</a><a class=\"ProveItLink\" href=\"../__pv_it/demonstrations/6abe72b7e5665b266e6403ab15b5a3012f4506400/expr.ipynb\"><img src=\"data:image/png;base64,iVBORw0KGgoAAAANSUhEUgAAAbcAAAAUBAMAAAD8Rm4sAAAAMFBMVEX///9UVFTMzMx2dna6uroQ\n",
       "EBCqqqqIiIgiIiJmZmYyMjJERETu7u6YmJjc3NwAAAC+aOQFAAAAAXRSTlMAQObYZgAABL1JREFU\n",
       "WMO9WE1MXFUUPvPTmWHmzRQbFiK2wE5LzLDSkJh0NkRcoQkLky46S9nobIxpupjphhUpQ0xN2Fhi\n",
       "7MLG8GPUkCgwC9EKiaErUhOVZdNogEZFIS2ev3vfuzN03ryFHnLuu++89+73nXPPPfcOAIVt6Fh+\n",
       "h6iS2hVtlgioUQiqvKMKW3J/sel5vv9gru8L1+YtUXOt93xh2LHfO1nuW27yIL1+PPfMzDxcwP6F\n",
       "VvinoN476Z39utT6ajsElyKzi+GrpLAg1kVuB6iJc/cMenJrwNzxgyy9/942pG5KMC3aEQbjL42z\n",
       "sZ1F2PwSbGJ3s9W5IGoAAS4DdD1ybQshCA4TYefhE9J8XSZqsUGXc9TssKWIDozjwxgh5Ctkuk9x\n",
       "nMbmlgz2qY4YP8TmpvSzdTWO4ydeHRJ4SVSafXNQAwjxxwDJfxwbv9oOIcjEsHsFL6gZ4fmd8B2k\n",
       "ZpotVTT8ip/Hu/Emw67fQL1NvVHxaaWhCUKxHpfZHJpWnEtIz6uA9wawuuKgBhDST9CbQ8fGr7ZD\n",
       "CDIx7DaA9YFYt6slk3hJCcaX+OVbDU2L1zkfapgznBsv8hux13RGcvvY7Mk67HkfbMYNU7p8AqKO\n",
       "uKgWAXIYho1px/YgFMFnYtllS6xX2ZpsvMthSaFjOYnqAcALz1NnEnWNw4oP92rU+5Hf2ISaJj8l\n",
       "/ng3L+j5jEIfQ56HHFF1xEW1CHC2G+LXG47taiiCz8SyS9RZV9n6LRTFd3w6JDl38PO1KUkhvOFl\n",
       "m8OhLgWWz8v4J8uTjFWOa6KcKAvxo9krHKWfVCFxh4XzwkW1CFA8v7NSdlFXQxF8JpZdfp5VHCjB\n",
       "niQjTnkPmOzf4FClKxDj7MngoDMDvnM1eCidKhn75R0oSHFOPIIsd95WdcRFtQi00L03wbFNhSL4\n",
       "TCy7VI11gqepd65fQneXS6hmf5pT2KtpLT+Dg1/hnOEGa1lMBlun5k/QSntOato+JLigF1UdcVEt\n",
       "Ai10qJYd20Qogs/Esovvs/K3SWQuPnWZScfsh/Qhdz/USSfnZjguPBLWMq5plPwI8Bi00g6adejB\n",
       "922d81ENAi10qFYc20Qogs/EslPneNbRn4yU64JZrrTNxf7g7kNdrpSWXLsTYJb8gt3mNpZMQeKt\n",
       "njcheBV1TNWsuW6baz6qQaBtTrPP2qZCEXwmll2yxkrrtVDmSWb5fAfsNleUVM29JLGkgrJnR+Th\n",
       "Js02590Bs5Wk6mYT4nDaghKUJlSDQAs9fgyObTUUwWdi2WlBGdGtJPdExhzULfI2un5Ztsb4s3Kl\n",
       "+prC2E7yLdcy3maJ4ZjUoyF7CKAMGaX0/UDVkSZUg5DFiRz9BhzbSCiCz8Sy6xpmxYzZOvkMUut/\n",
       "14OHm+foBFtWKnq4obmGH5Z7JW24lmFNg9jiwWzfR/JKj1Zcj75fOaK7j1UdaUYVBBxpru8rcFHH\n",
       "QhEsE59ddoA103TWLjRaT7m/6fVG0JgMHHetlPyDsDmm10RPPX61IJxia3q1FeE0JndF8/XOfybd\n",
       "h+jS9uDciUQhaEUPznru6Uhyu9FhnvKTJwLqWnRQ85PH/Gzs6Jul6Dhrp9OLgLoVHZRmgWfiv/03\n",
       "Q35X9P/9N8Mvov8CecS+hQyyTQEAAAAASUVORK5CYII=\n",
       "\" style=\"display:inline;vertical-align:middle;\" /></a></span>"
      ],
      "text/plain": [
       "{C in BOOLEAN, D in BOOLEAN, E in BOOLEAN} |- (A or B or (C and D and E)) = (A or B or (D and E and C))"
      ]
     },
     "execution_count": 48,
     "metadata": {},
     "output_type": "execute_result"
    }
   ],
   "source": [
    "expr.inner_expr().operands[-1].commutation(0, -1, assumptions=in_bool(C, D, E))"
   ]
  },
  {
   "cell_type": "code",
   "execution_count": 49,
   "metadata": {},
   "outputs": [
    {
     "data": {
      "text/html": [
       "<strong id=\"kt\">kt:</strong> <span style=\"font-size:20px;\"><a class=\"ProveItLink\" href=\"../__pv_it/demonstrations/f7aa198e014911ac6f13ab1b58223dc921e7aed70/expr.ipynb\"><img src=\"data:image/png;base64,iVBORw0KGgoAAAANSUhEUgAAAL0AAAAUBAMAAAAq6iElAAAAMFBMVEX///92dnYiIiIQEBBERERU\n",
       "VFS6urqIiIjc3NxmZmaqqqru7u6YmJgyMjLMzMwAAADiRdoGAAAAAXRSTlMAQObYZgAAAqZJREFU\n",
       "OMuVlU1oE1EQxydpNkmzSbq3gh66x6KHFPHepRrxliDxEFQS7EE8ZcHeU7xqyUIJGC/N0ZxcTPEL\n",
       "hFwEC4KBXioiCd4EJUUbW4ppnJm322ZEpLtlJ29/+97/zde+Apz6eghBryf+4PtfL5KlYaNwRTLd\n",
       "IrNSvBk3BH87zhayq3JuLLfXuJ7paj7ukUnzsM92CsU2+oKlaPK9DiTWOwyPJUfozyFINtNFaOld\n",
       "z92ei1YjmaTNZIAaFUewLbw3z6PZUCofPan0Ppp1EAwquER3YFY9veYl6TyasMukiuCDLdg83ts0\n",
       "WlayS66XiyPS6wgGc+iXbkNbPXWqZfrZwfuuIpfw9QV3ksVNgGlOw1eeod1RkUJkF03NEIwSbmC2\n",
       "UqwbdZ/y9i28r6r3Q4AvNwSLYbZqJo1e8ow3YHqpprpX8oLBHiRJMuTQw3MY8L5hjNBSwQ/fr5wD\n",
       "wSI4f84+aZEz+KdKRbBqCBYd1Rcp5UkucBlqvE/MBq2scnoA0M4LFm4CZPon+iasqUGVYKksWOgI\n",
       "UvSboHjSxUaJXdRNjFDldAGVDwWbQoVFLh8b7ClN7ZYj81Oy1C6EqLfTVJsoLlaN+tiPbwZ9j+0L\n",
       "RvoZ9oklsKe4tyjVqPxbMqyJDi88fQw8vMB4za8Ptb/2SzDKD7dxCPy67xy3f9sSjNsfzqLruDbe\n",
       "5Hg4Ld+8AlL7DyzBqL41b5mn0/LbX/8sGbc/hUL1vU+LD1TbXPO+j23c+qIrGLVaAtPQ4kfuKf7u\n",
       "yLXbjmScyGXcY9qAzfEnSOR+OJPf961xsX65CeKbp1DhVbaoGox7CnsLtN6wXngkmU7rl0a0eV+e\n",
       "ew/+ccj6bH4SRifOwv+wZwEO8y0Ifs0GmBtZDSzvn8+nm2wF1g/mUvD/j+8A/gDseMdy9ZC/swAA\n",
       "AABJRU5ErkJggg==\n",
       "\" style=\"display:inline;vertical-align:middle;\" /></a> <a class=\"ProveItLink\" href=\"../__pv_it/demonstrations/06037a77468f5608da06ce3579713335416e35c20/proof.ipynb\" style=\"text-decoration: none\">&nbsp;&#x22A2;&nbsp;&nbsp;</a><a class=\"ProveItLink\" href=\"../__pv_it/demonstrations/cac961124f7db31337efea10507741ff54e3ab320/expr.ipynb\"><img src=\"data:image/png;base64,iVBORw0KGgoAAAANSUhEUgAAAM0AAAAUBAMAAADco6S9AAAAMFBMVEX///92dnYiIiIQEBBERERU\n",
       "VFS6urqIiIjc3NxmZmaqqqru7u6YmJgyMjLMzMwAAADiRdoGAAAAAXRSTlMAQObYZgAAAv9JREFU\n",
       "SMeVVV9oUlEY/zSvOq8638bqYT5GPRgRvU5WRg+BIwySCmV7iJ4U2ktPjr3W0BhC9jLpKZ+SHP0D\n",
       "wZegoJEwiEWU0ltQbNRsQ3L2fd855+oZ5uxc7sc9v3PO9/f3nQsw6nDXUNwbusWzOBh/rD5+HFjw\n",
       "JlqF2AUdW8PXDJNYiF93B7S1191ILIJGrh7Q44ruFK6E6oay3yDh588myyOocLWpYZv4+ujA7Rp4\n",
       "Vmq8YPnfQd/aAFU5tfDxOi6Ezbp0v1FGaZA6b5qRLdSTyvVjXpzBW4rrJIpVoemjVOffRbECYBOn\n",
       "LRxSCJg5mBCzV3zMP4vCXmYkg8D7dD9mpy3H8d2g2bxQP1OW+dknnTUwT+k4TKGfZhoqYlbLJFVm\n",
       "bgnkHC6fLvdjS0SFIMBYm2bfeJdxU/rv2EaRxZp90HEqSACz6GP9zvITTncJ34tivQXw9ZqG3SG3\n",
       "MXfZIM1e8K4qBGUZiB8pjH1Sx2EHvKTaRkmHZ7DF9u0YcVgE3nq3cAI07BK5jWem0j06HcVHlJPA\n",
       "DMazruPOTn6a8u1lIiQhy/ZcaTCSIt97AJVZDSOz9iJAqNmzE4Rl8ZEhMIH7Hum4bR983FgUnz9e\n",
       "SLDLZlAR04H1dLU17CyxHTVNc4lZIA8NYTVK4hcFpuO+bbBRb/ipfk5UIAj+UMU7jrG4djVM2Qmx\n",
       "f6wGech8pDKg9j/KTg/HupnwXNrBZNgFH5dV/ah9jN8apvLGLWADxZFNq30qlJM5Def2gWMYCupw\n",
       "Fzk+Ttd3WWRqn62whikeZOVRqauk2sf8TF/rGs7tQ6ERD6gxHHuCZpdlf22gC2fKGjYp6enB9JQY\n",
       "Yh5yD5Obc0yl+xrOSZ5HW2MBWOt+Ak/0Z67/vrjRjefPF0G7QygjFD68jMQFKZmHyEcwGq187AFj\n",
       "X/pxk/TMdMiRpn6/3h1wqUvMunes4ey7d+Uwg4PxpyP/fXr36LBhSw/GJ0a3w7ePY3H4nupgWP0X\n",
       "RhrWf+4QXwaMw9z73/+29x/63gD8Bf6K2+ZMwRHEAAAAAElFTkSuQmCC\n",
       "\" style=\"display:inline;vertical-align:middle;\" /></a></span><br>"
      ],
      "text/plain": [
       "kt: {A or B or (C and D and E)} |- A or B or ((C and D) and E)"
      ]
     },
     "execution_count": 49,
     "metadata": {},
     "output_type": "execute_result"
    }
   ],
   "source": [
    "kt = expr.inner_expr().operands[-1].associate(0, length=2, assumptions=[expr])"
   ]
  },
  {
   "cell_type": "code",
   "execution_count": 50,
   "metadata": {},
   "outputs": [
    {
     "data": {
      "text/html": [
       "<strong id=\"expr\">expr:</strong> <a class=\"ProveItLink\" href=\"../__pv_it/demonstrations/cac961124f7db31337efea10507741ff54e3ab320/expr.ipynb\"><img src=\"data:image/png;base64,iVBORw0KGgoAAAANSUhEUgAAAM0AAAAUBAMAAADco6S9AAAAMFBMVEX///92dnYiIiIQEBBERERU\n",
       "VFS6urqIiIjc3NxmZmaqqqru7u6YmJgyMjLMzMwAAADiRdoGAAAAAXRSTlMAQObYZgAAAv9JREFU\n",
       "SMeVVV9oUlEY/zSvOq8638bqYT5GPRgRvU5WRg+BIwySCmV7iJ4U2ktPjr3W0BhC9jLpKZ+SHP0D\n",
       "wZegoJEwiEWU0ltQbNRsQ3L2fd855+oZ5uxc7sc9v3PO9/f3nQsw6nDXUNwbusWzOBh/rD5+HFjw\n",
       "JlqF2AUdW8PXDJNYiF93B7S1191ILIJGrh7Q44ruFK6E6oay3yDh588myyOocLWpYZv4+ujA7Rp4\n",
       "Vmq8YPnfQd/aAFU5tfDxOi6Ezbp0v1FGaZA6b5qRLdSTyvVjXpzBW4rrJIpVoemjVOffRbECYBOn\n",
       "LRxSCJg5mBCzV3zMP4vCXmYkg8D7dD9mpy3H8d2g2bxQP1OW+dknnTUwT+k4TKGfZhoqYlbLJFVm\n",
       "bgnkHC6fLvdjS0SFIMBYm2bfeJdxU/rv2EaRxZp90HEqSACz6GP9zvITTncJ34tivQXw9ZqG3SG3\n",
       "MXfZIM1e8K4qBGUZiB8pjH1Sx2EHvKTaRkmHZ7DF9u0YcVgE3nq3cAI07BK5jWem0j06HcVHlJPA\n",
       "DMazruPOTn6a8u1lIiQhy/ZcaTCSIt97AJVZDSOz9iJAqNmzE4Rl8ZEhMIH7Hum4bR983FgUnz9e\n",
       "SLDLZlAR04H1dLU17CyxHTVNc4lZIA8NYTVK4hcFpuO+bbBRb/ipfk5UIAj+UMU7jrG4djVM2Qmx\n",
       "f6wGech8pDKg9j/KTg/HupnwXNrBZNgFH5dV/ah9jN8apvLGLWADxZFNq30qlJM5Def2gWMYCupw\n",
       "Fzk+Ttd3WWRqn62whikeZOVRqauk2sf8TF/rGs7tQ6ERD6gxHHuCZpdlf22gC2fKGjYp6enB9JQY\n",
       "Yh5yD5Obc0yl+xrOSZ5HW2MBWOt+Ak/0Z67/vrjRjefPF0G7QygjFD68jMQFKZmHyEcwGq187AFj\n",
       "X/pxk/TMdMiRpn6/3h1wqUvMunes4ey7d+Uwg4PxpyP/fXr36LBhSw/GJ0a3w7ePY3H4nupgWP0X\n",
       "RhrWf+4QXwaMw9z73/+29x/63gD8Bf6K2+ZMwRHEAAAAAElFTkSuQmCC\n",
       "\" style=\"display:inline;vertical-align:middle;\" /></a><br>"
      ],
      "text/plain": [
       "expr: A or B or ((C and D) and E)"
      ]
     },
     "execution_count": 50,
     "metadata": {},
     "output_type": "execute_result"
    }
   ],
   "source": [
    "expr = kt.expr"
   ]
  },
  {
   "cell_type": "code",
   "execution_count": 51,
   "metadata": {},
   "outputs": [
    {
     "data": {
      "text/html": [
       "<strong id=\"expr\">expr:</strong> <span style=\"font-size:20px;\"><a class=\"ProveItLink\" href=\"../__pv_it/demonstrations/cac961124f7db31337efea10507741ff54e3ab320/expr.ipynb\"><img src=\"data:image/png;base64,iVBORw0KGgoAAAANSUhEUgAAAM0AAAAUBAMAAADco6S9AAAAMFBMVEX///92dnYiIiIQEBBERERU\n",
       "VFS6urqIiIjc3NxmZmaqqqru7u6YmJgyMjLMzMwAAADiRdoGAAAAAXRSTlMAQObYZgAAAv9JREFU\n",
       "SMeVVV9oUlEY/zSvOq8638bqYT5GPRgRvU5WRg+BIwySCmV7iJ4U2ktPjr3W0BhC9jLpKZ+SHP0D\n",
       "wZegoJEwiEWU0ltQbNRsQ3L2fd855+oZ5uxc7sc9v3PO9/f3nQsw6nDXUNwbusWzOBh/rD5+HFjw\n",
       "JlqF2AUdW8PXDJNYiF93B7S1191ILIJGrh7Q44ruFK6E6oay3yDh588myyOocLWpYZv4+ujA7Rp4\n",
       "Vmq8YPnfQd/aAFU5tfDxOi6Ezbp0v1FGaZA6b5qRLdSTyvVjXpzBW4rrJIpVoemjVOffRbECYBOn\n",
       "LRxSCJg5mBCzV3zMP4vCXmYkg8D7dD9mpy3H8d2g2bxQP1OW+dknnTUwT+k4TKGfZhoqYlbLJFVm\n",
       "bgnkHC6fLvdjS0SFIMBYm2bfeJdxU/rv2EaRxZp90HEqSACz6GP9zvITTncJ34tivQXw9ZqG3SG3\n",
       "MXfZIM1e8K4qBGUZiB8pjH1Sx2EHvKTaRkmHZ7DF9u0YcVgE3nq3cAI07BK5jWem0j06HcVHlJPA\n",
       "DMazruPOTn6a8u1lIiQhy/ZcaTCSIt97AJVZDSOz9iJAqNmzE4Rl8ZEhMIH7Hum4bR983FgUnz9e\n",
       "SLDLZlAR04H1dLU17CyxHTVNc4lZIA8NYTVK4hcFpuO+bbBRb/ipfk5UIAj+UMU7jrG4djVM2Qmx\n",
       "f6wGech8pDKg9j/KTg/HupnwXNrBZNgFH5dV/ah9jN8apvLGLWADxZFNq30qlJM5Def2gWMYCupw\n",
       "Fzk+Ttd3WWRqn62whikeZOVRqauk2sf8TF/rGs7tQ6ERD6gxHHuCZpdlf22gC2fKGjYp6enB9JQY\n",
       "Yh5yD5Obc0yl+xrOSZ5HW2MBWOt+Ak/0Z67/vrjRjefPF0G7QygjFD68jMQFKZmHyEcwGq187AFj\n",
       "X/pxk/TMdMiRpn6/3h1wqUvMunes4ey7d+Uwg4PxpyP/fXr36LBhSw/GJ0a3w7ePY3H4nupgWP0X\n",
       "RhrWf+4QXwaMw9z73/+29x/63gD8Bf6K2+ZMwRHEAAAAAElFTkSuQmCC\n",
       "\" style=\"display:inline;vertical-align:middle;\" /></a> <a class=\"ProveItLink\" href=\"../__pv_it/demonstrations/079aad8f7dd9f5df59e612900a1cc5ea9f06cf1b0/proof.ipynb\" style=\"text-decoration: none\">&nbsp;&#x22A2;&nbsp;&nbsp;</a><a class=\"ProveItLink\" href=\"../__pv_it/demonstrations/f7aa198e014911ac6f13ab1b58223dc921e7aed70/expr.ipynb\"><img src=\"data:image/png;base64,iVBORw0KGgoAAAANSUhEUgAAAL0AAAAUBAMAAAAq6iElAAAAMFBMVEX///92dnYiIiIQEBBERERU\n",
       "VFS6urqIiIjc3NxmZmaqqqru7u6YmJgyMjLMzMwAAADiRdoGAAAAAXRSTlMAQObYZgAAAqZJREFU\n",
       "OMuVlU1oE1EQxydpNkmzSbq3gh66x6KHFPHepRrxliDxEFQS7EE8ZcHeU7xqyUIJGC/N0ZxcTPEL\n",
       "hFwEC4KBXioiCd4EJUUbW4ppnJm322ZEpLtlJ29/+97/zde+Apz6eghBryf+4PtfL5KlYaNwRTLd\n",
       "IrNSvBk3BH87zhayq3JuLLfXuJ7paj7ukUnzsM92CsU2+oKlaPK9DiTWOwyPJUfozyFINtNFaOld\n",
       "z92ei1YjmaTNZIAaFUewLbw3z6PZUCofPan0Ppp1EAwquER3YFY9veYl6TyasMukiuCDLdg83ts0\n",
       "WlayS66XiyPS6wgGc+iXbkNbPXWqZfrZwfuuIpfw9QV3ksVNgGlOw1eeod1RkUJkF03NEIwSbmC2\n",
       "UqwbdZ/y9i28r6r3Q4AvNwSLYbZqJo1e8ow3YHqpprpX8oLBHiRJMuTQw3MY8L5hjNBSwQ/fr5wD\n",
       "wSI4f84+aZEz+KdKRbBqCBYd1Rcp5UkucBlqvE/MBq2scnoA0M4LFm4CZPon+iasqUGVYKksWOgI\n",
       "UvSboHjSxUaJXdRNjFDldAGVDwWbQoVFLh8b7ClN7ZYj81Oy1C6EqLfTVJsoLlaN+tiPbwZ9j+0L\n",
       "RvoZ9oklsKe4tyjVqPxbMqyJDi88fQw8vMB4za8Ptb/2SzDKD7dxCPy67xy3f9sSjNsfzqLruDbe\n",
       "5Hg4Ld+8AlL7DyzBqL41b5mn0/LbX/8sGbc/hUL1vU+LD1TbXPO+j23c+qIrGLVaAtPQ4kfuKf7u\n",
       "yLXbjmScyGXcY9qAzfEnSOR+OJPf961xsX65CeKbp1DhVbaoGox7CnsLtN6wXngkmU7rl0a0eV+e\n",
       "ew/+ccj6bH4SRifOwv+wZwEO8y0Ifs0GmBtZDSzvn8+nm2wF1g/mUvD/j+8A/gDseMdy9ZC/swAA\n",
       "AABJRU5ErkJggg==\n",
       "\" style=\"display:inline;vertical-align:middle;\" /></a></span><br>"
      ],
      "text/plain": [
       "expr: {A or B or ((C and D) and E)} |- A or B or (C and D and E)"
      ]
     },
     "execution_count": 51,
     "metadata": {},
     "output_type": "execute_result"
    }
   ],
   "source": [
    "expr = expr.inner_expr().operands[-1].disassociate(0, assumptions=[expr])"
   ]
  },
  {
   "cell_type": "code",
   "execution_count": 52,
   "metadata": {},
   "outputs": [
    {
     "data": {
      "text/html": [
       "<span style=\"font-size:20px;\"><a class=\"ProveItLink\" href=\"../../__pv_it/theorems/bc796b8e7562f2d661739850b78776738bfc78d80/expr.ipynb\"><img src=\"data:image/png;base64,iVBORw0KGgoAAAANSUhEUgAAADYAAAAPBAMAAABdHiGLAAAAMFBMVEX///92dnYiIiIQEBBERERU\n",
       "VFS6urqIiIjc3NxmZmaqqqru7u6YmJgyMjLMzMwAAADiRdoGAAAAAXRSTlMAQObYZgAAANdJREFU\n",
       "GNNjYACBtwwogF3Z5a9RGJRzH1WOgZevYMvOA2Amz/0NqHIsbAfYHziAmbvmN0DEeJyUdKFyXAsg\n",
       "cgfqE8A0n/sGuD7GbLAc24b1ELP3bkCYmfT0AYi1jeF9AVgoAmGf0X8zMCuBoX8CmOGA5BbGMwIg\n",
       "WyJnxoNF+WzvAgFUjsEhB2QdAwPzBZAIB7I+BgdWIGMBAwOTAVjIAFkugBeoGijH+wEsNB1F30EG\n",
       "hiYQ+wdYiGkBPMwEGCUDGLb8v83A5f8J7FDukGzMsIYBNhFImEEAAEUpOYcaSaDVAAAAAElFTkSu\n",
       "QmCC\n",
       "\" style=\"display:inline;vertical-align:middle;\" /></a>, <a class=\"ProveItLink\" href=\"../__pv_it/theorems/6b89b43e4cbb2b2a7f36bef7320ec444c4840e0e0/expr.ipynb\"><img src=\"data:image/png;base64,iVBORw0KGgoAAAANSUhEUgAAADcAAAAPBAMAAACy3Eq1AAAAMFBMVEX///92dnYyMjKqqqoiIiLu\n",
       "7u7c3NyIiIjMzMwQEBC6urpERERmZmZUVFSYmJgAAADEjrHzAAAAAXRSTlMAQObYZgAAAOZJREFU\n",
       "GNNjYGB4+//O2d0LGJBByez9mr4QodkMDDw/UCQZFNpZt54DMTj+MTBw/UGV3LCOoYIbxGD/xsDA\n",
       "9x0sxrfFxQkmaQyW5J7AwBDpCjZjewBCp1Q0iMF/gYHDFywaFIAwlsvjBojRf+/5FgOw0DWEnSv9\n",
       "f4JdW5/AwDoXIoTsILmHIMZOkAKQVo5JSkAAk+TmegBk/AVJFgAJNhSd3AwXIN5kuA+2YAKyJC+D\n",
       "AsSbHL/BQsdRdPIJMDAwAdWv3AoWYjGAB18jg+BZBgZe/b9nbm+GCLHeXooR8AjAJQ0NPggAAH2B\n",
       "SAzP/7V+AAAAAElFTkSuQmCC\n",
       "\" style=\"display:inline;vertical-align:middle;\" /></a> <a class=\"ProveItLink\" href=\"../__pv_it/demonstrations/0937a72ca9b1a96709164e13e7af216abe1282d10/proof.ipynb\" style=\"text-decoration: none\">&nbsp;&#x22A2;&nbsp;&nbsp;</a><a class=\"ProveItLink\" href=\"../__pv_it/axioms/f3ff6bc7ae37c2a5cd1bbbe5c0416596756b3c060/expr.ipynb\"><img src=\"data:image/png;base64,iVBORw0KGgoAAAANSUhEUgAAAGwAAAAUBAMAAACaOcVSAAAAMFBMVEX///9UVFTMzMx2dna6uroQ\n",
       "EBCqqqqIiIgiIiJmZmYyMjJERETu7u6YmJjc3NwAAAC+aOQFAAAAAXRSTlMAQObYZgAAAddJREFU\n",
       "OMt9VD1IQlEU/vKZPvx5SbiUkbZFDbZGi6NDUYOD1OLYlltEgy1FRIPREE5F1BJRbygKpHKoIF2E\n",
       "hiCQHNtKiIqG7L5z7lOf5DvLPT/3u+fc75x7Aa0MG3FVOwRKvIy0uf3hWi50Bgxa3e7V/E8yKJQT\n",
       "tk+lXzM3dOvAbgTFtuM8jnTpoQx/lg8/LUh3VsajovjpLJS0FeZ1lt0RHSoXf78rLzG6KeMZ4XhJ\n",
       "wzcji75c35AwV0rHK3vLmRgrwUUJOwd8SVHCAVmOi0IjmzKpY4kMZ2GBCfXtqRJWA4YHxDpOVrHQ\n",
       "LDI+FMEVGbeI8h2UlJLi42uV5TVDeSZzsHm3ZD0BUAgxvDEVKrQ9ZvoXuAsIZZ5MvYUSpTKGBB3d\n",
       "lwtz4Ano5bCgwv1pMEobZo+ESBj0KYY5RZs4ieBxiJQekcn9ZcK01mzQu7hIcR2ViHaJUj1Vs21d\n",
       "H0KJ0+6ZVljAQ5RoAuZ5p2ZXGcpti+oNSnYs2R6JX6N33l9qtiwUOBSlzxmsbzNVqcZwjSnjAaOG\n",
       "Uv0YrptvI4kxpDAa3l/v28rT1n3uZ2jSMsqq5WXQqDhaPb4VXp0TPFzmA8nCVtpH2ZRre1jR/pl2\n",
       "kk6n2n8K/v8/hT+av3pnLPiN2QAAAABJRU5ErkJggg==\n",
       "\" style=\"display:inline;vertical-align:middle;\" /></a></span>"
      ],
      "text/plain": [
       "{A in BOOLEAN, B in BOOLEAN} |- (A and B) in BOOLEAN"
      ]
     },
     "execution_count": 52,
     "metadata": {},
     "output_type": "execute_result"
    }
   ],
   "source": [
    "in_bool(And(A,B)).prove([in_bool(A), in_bool(B)])"
   ]
  },
  {
   "cell_type": "code",
   "execution_count": 53,
   "metadata": {},
   "outputs": [
    {
     "data": {
      "text/html": [
       "<span style=\"font-size:20px;\"><a class=\"ProveItLink\" href=\"../../__pv_it/theorems/bc796b8e7562f2d661739850b78776738bfc78d80/expr.ipynb\"><img src=\"data:image/png;base64,iVBORw0KGgoAAAANSUhEUgAAADYAAAAPBAMAAABdHiGLAAAAMFBMVEX///92dnYiIiIQEBBERERU\n",
       "VFS6urqIiIjc3NxmZmaqqqru7u6YmJgyMjLMzMwAAADiRdoGAAAAAXRSTlMAQObYZgAAANdJREFU\n",
       "GNNjYACBtwwogF3Z5a9RGJRzH1WOgZevYMvOA2Amz/0NqHIsbAfYHziAmbvmN0DEeJyUdKFyXAsg\n",
       "cgfqE8A0n/sGuD7GbLAc24b1ELP3bkCYmfT0AYi1jeF9AVgoAmGf0X8zMCuBoX8CmOGA5BbGMwIg\n",
       "WyJnxoNF+WzvAgFUjsEhB2QdAwPzBZAIB7I+BgdWIGMBAwOTAVjIAFkugBeoGijH+wEsNB1F30EG\n",
       "hiYQ+wdYiGkBPMwEGCUDGLb8v83A5f8J7FDukGzMsIYBNhFImEEAAEUpOYcaSaDVAAAAAElFTkSu\n",
       "QmCC\n",
       "\" style=\"display:inline;vertical-align:middle;\" /></a>, <a class=\"ProveItLink\" href=\"../__pv_it/theorems/6b89b43e4cbb2b2a7f36bef7320ec444c4840e0e0/expr.ipynb\"><img src=\"data:image/png;base64,iVBORw0KGgoAAAANSUhEUgAAADcAAAAPBAMAAACy3Eq1AAAAMFBMVEX///92dnYyMjKqqqoiIiLu\n",
       "7u7c3NyIiIjMzMwQEBC6urpERERmZmZUVFSYmJgAAADEjrHzAAAAAXRSTlMAQObYZgAAAOZJREFU\n",
       "GNNjYGB4+//O2d0LGJBByez9mr4QodkMDDw/UCQZFNpZt54DMTj+MTBw/UGV3LCOoYIbxGD/xsDA\n",
       "9x0sxrfFxQkmaQyW5J7AwBDpCjZjewBCp1Q0iMF/gYHDFywaFIAwlsvjBojRf+/5FgOw0DWEnSv9\n",
       "f4JdW5/AwDoXIoTsILmHIMZOkAKQVo5JSkAAk+TmegBk/AVJFgAJNhSd3AwXIN5kuA+2YAKyJC+D\n",
       "AsSbHL/BQsdRdPIJMDAwAdWv3AoWYjGAB18jg+BZBgZe/b9nbm+GCLHeXooR8AjAJQ0NPggAAH2B\n",
       "SAzP/7V+AAAAAElFTkSuQmCC\n",
       "\" style=\"display:inline;vertical-align:middle;\" /></a>, <a class=\"ProveItLink\" href=\"../__pv_it/theorems/b59e86c72b4502a600c4eac6a03d74436cb1fea40/expr.ipynb\"><img src=\"data:image/png;base64,iVBORw0KGgoAAAANSUhEUgAAADYAAAAPBAMAAABdHiGLAAAAMFBMVEX////MzMy6uroyMjIiIiKq\n",
       "qqoQEBB2dnbc3NyYmJhmZmZUVFRERESIiIju7u4AAACOKgoaAAAAAXRSTlMAQObYZgAAANxJREFU\n",
       "GNNjYGDgu7NrJ0cBAxLgdTvzOWUTiHVtAgPrsgnIcgzMjBfevAIKvfEDctY3oMjxME3gFTjAwGD2\n",
       "AMhRg4jNcXExgMqxBhxg4PoK4kiBpWTuIfSx6x1g6HcAcV6ACD47JDNVpAUY6i/AbeFuQMil/E9i\n",
       "YPAXQLgA2S3sMwsY8kFOYQATYsZAAHMLwwFNBn8QmxWsuQdZH8MBbojP2MEibChyG5gZ+kFuqQOL\n",
       "cF1A0TedgfUnA0PUA4iQKyLMCtirNjAwvDq9SwEq9PrQA7SwRgLqRyBhBgEActk8e8zZ+EcAAAAA\n",
       "SUVORK5CYII=\n",
       "\" style=\"display:inline;vertical-align:middle;\" /></a>, <a class=\"ProveItLink\" href=\"../__pv_it/demonstrations/af75d7a88b426fc518b410470e1d3e96fbdd11d60/expr.ipynb\"><img src=\"data:image/png;base64,iVBORw0KGgoAAAANSUhEUgAAADgAAAAPBAMAAABD1xE4AAAAMFBMVEX///8iIiLu7u52dna6uroQ\n",
       "EBBmZmaIiIjMzMyqqqoyMjLc3NxERERUVFSYmJgAAAAdjRNVAAAAAXRSTlMAQObYZgAAAONJREFU\n",
       "GNNjYGB4+//snbMbGJABu+iZX4FXwMxfDAx8P1EkGbg4CnTUHgAZHN+BRCqqJA/LA/aGAyAzfgAJ\n",
       "/wdgQb6DglJQSc4JIEmeD0BivwFIjOO4AlwnsxNIkh9E+F8AiWkpIIx17G0AMvoLgEQ9WOdthJ2B\n",
       "/0NAjHqQivsOIOYBJAcxvwOpPw/ifQVbGbUKCKCSDAf8gIw/IFf+AwlxI+tkOMAL9aYqRDgAWfIC\n",
       "F8SbTKsgYukoOh8DQwroTccEiBjjBHjwGTCbXWDgXf839042VIzpjhN6wCMBFhtI8EEAALZERsGv\n",
       "6x6JAAAAAElFTkSuQmCC\n",
       "\" style=\"display:inline;vertical-align:middle;\" /></a> <a class=\"ProveItLink\" href=\"../__pv_it/demonstrations/33d134ee5c2ae18d93a28d47ee381a228fdd412e0/proof.ipynb\" style=\"text-decoration: none\">&nbsp;&#x22A2;&nbsp;&nbsp;</a><a class=\"ProveItLink\" href=\"../__pv_it/demonstrations/bbd81e84acf27000418852529c41cdf3b9173df20/expr.ipynb\"><img src=\"data:image/png;base64,iVBORw0KGgoAAAANSUhEUgAAALwAAAAUBAMAAADFKEobAAAAMFBMVEX///9UVFTMzMx2dna6uroQ\n",
       "EBCqqqqIiIgiIiJmZmYyMjJERETu7u6YmJjc3NwAAAC+aOQFAAAAAXRSTlMAQObYZgAAApdJREFU\n",
       "OMutVU1oE1EQnk1iNuavOXiJ0Wa9qZfkJBQFexFzqLSHHoIezNGczMWD9JBeFBGhKVKkFyuiB0XM\n",
       "BhQLRbsHKzQBWfEmFHsULzGiqVRsnDezu9kJVgrNW3hv3/fmffu9mXmzAEkbhtDCm7sstHg4OQAn\n",
       "sp3FzIsBMD6TPprMC+hDr5FpIPeotNRvrGwXD+HLc57XHdxTccAEWDIkds2G8IItsW2U0gVoDiiJ\n",
       "BiqtdRsSNRZbtxh+4q7nkGayJrDWHeyWNgUW2MJuASBYkfSxkK0bJkTY+p2zK7DsfAaqCHyuCOyx\n",
       "Gs9JO/07dpM2xKccpy7fuu3Qh0smfGHUro7TqJ13VbxEVxctP3awq/oT0i72Dbs2xuMRf/aV5akP\n",
       "TphwnSYh6yq7tAmzDn0H4PgRgbVpeC/tRkylPgUwxrjVd07hmAGvafIWcqzmFD4so7MxcxMEdtbn\n",
       "Xs+O9lVR/SeajvZ9X+xNAzDFOLQ5irPw1fHpDsBaSmBzRp/es6sqMIuevUJT0xfa4EYepklqejFL\n",
       "C4kKaEwSw1DpXYFdpoNb0m5VdT/VMYjo4lNsDj2YF5g+hGn+QL1ELAiw5BEc9C2BzdH1NKTdb/Wx\n",
       "Py590q8eTI2dU8INlFhl756ptNd+CIxyNwgCo7RfU6QFWpjy06eiFNok0kdVgtGWspf2OVNgbRXF\n",
       "MyAwlfZx8gaH9p5Q/5HySeV+bEdpMfng6gqhyy5ZAgujD8q02MeUqgJlxV1ijZS8opAPjqXUmVq9\n",
       "ZxBe/YVGmrpbuhJ5uJeeXyHTPgbrjbRz+VxMq3fmM/cJe8hFLzMhSlrEX0lD1BuieOwRizvXLHSa\n",
       "i4JbeGswlDZY0tz2Zjj0zf//TvbbdlM5nJ9h4t8/w79BMMk97v1KIAAAAABJRU5ErkJggg==\n",
       "\" style=\"display:inline;vertical-align:middle;\" /></a></span>"
      ],
      "text/plain": [
       "{A in BOOLEAN, B in BOOLEAN, C in BOOLEAN, D in BOOLEAN} |- (A and B and C and D) in BOOLEAN"
      ]
     },
     "execution_count": 53,
     "metadata": {},
     "output_type": "execute_result"
    }
   ],
   "source": [
    "in_bool(And(A,B,C,D)).prove([in_bool(A), in_bool(B), in_bool(C), in_bool(D)])"
   ]
  },
  {
   "cell_type": "code",
   "execution_count": 54,
   "metadata": {},
   "outputs": [
    {
     "data": {
      "text/html": [
       "<span style=\"font-size:20px;\"><a class=\"ProveItLink\" href=\"../__pv_it/theorems/4d932fdabd371a37ba1a38141cc2814bc4d37ae10/expr.ipynb\"><img src=\"data:image/png;base64,iVBORw0KGgoAAAANSUhEUgAAAJIAAAAUBAMAAACUvHl4AAAAMFBMVEX///+6uroQEBCqqqqIiIgy\n",
       "MjJERETu7u6YmJjMzMxUVFTc3Nx2dnYiIiJmZmYAAAAutVgsAAAAAXRSTlMAQObYZgAAAgJJREFU\n",
       "OMuFVD1IXEEQ/s573o93ntelktiYTrgqjSRYSNqc6VJ5SREIFncIloKFQiCQXJXiIKhFEoKgD2zC\n",
       "VSmsg2iRwh+uPvRUNImcoM7szu6+H8198O3uG76dtzM7s4DDD2EI41FDTJH0NR3SFU2HbBkY8MP7\n",
       "AorMRrfz9RWwBk2Lfl8zYDmlnWVe1ZVjozLoI68ndczRci6474PQYekfDVu8+s7DIiKK5QXgYQv5\n",
       "CSha7AldIE+vaJzlZYOH34gontP5Pk4gPQJFg9y2pkPGO+NwihJTooWI4jV5GKsBU9AUeC1NhwfJ\n",
       "SxrzbEvSkPIRUXSBz99o/iUUpBY0XXDF7AWfTKWcjvLJqOzVdt8921X5VDw+IOzTcrCkaQ0J5K75\n",
       "OCqeSWAVCCs8SuPsChmfCAlNvtKipjU0Ou2//OdTNsxLOQQVKcqyd853KLzPE61HradCKV+Kehqi\n",
       "83gXcU8mOmNI0rTDQarocuVBmOiMgstpgK93WCieQhknwyZN0zbjeLuIUMabupyWKzbjMH3At503\n",
       "d5zVhVMlbeGnsjRUXQYVeEEHfkTlhCOhgKNI2LpLV//U8PjmkIqyrnuwZVWCLzfr7Tcq2JfCe7tF\n",
       "Y15aoOZUEaS3Nf/TwQpb4c87FLEO5m5I+bEflsPfcUX8VYm/dHftjCswI+zx+r7v+fpmfMVbT0ea\n",
       "TJ+CuNMAAAAASUVORK5CYII=\n",
       "\" style=\"display:inline;vertical-align:middle;\" /></a> <a class=\"ProveItLink\" href=\"../__pv_it/demonstrations/993c136b9cdbe2fc729c9adb1865ded6a31ea3760/proof.ipynb\" style=\"text-decoration: none\">&nbsp;&#x22A2;&nbsp;&nbsp;</a><a class=\"ProveItLink\" href=\"../__pv_it/axioms/ffd8639669fdd5e29284503ab0e5d77da777efc70/expr.ipynb\"><img src=\"data:image/png;base64,iVBORw0KGgoAAAANSUhEUgAAADcAAAAPBAMAAACy3Eq1AAAAMFBMVEX///92dnYiIiIQEBBERERU\n",
       "VFS6urqIiIjc3NxmZmaqqqru7u6YmJgyMjLMzMwAAADiRdoGAAAAAXRSTlMAQObYZgAAAP1JREFU\n",
       "GNNjYACBtwyogCf+68wQNyjnPpRugMkyOzAwzH8AUXh/A0TsJkzy/QEGhvwJYOau+RAtfE5QRQz1\n",
       "QIHzBWDmgfoEMM2aXgCVdGZg4DYCq2TbsP4AWGgvgwJU8isDw6NoMGsbw3uIDikghJj/9UyJFoSZ\n",
       "wNAPsVuBoRciwv6DgWFzAFhZ5Mx4B7CjCxhYIc5nMQAq+AW2EuitCyAG0wYGPrByBn4gxf4dxFoA\n",
       "FDYAMVYC8Q24N1m/ARkcQEneDwxQiZVwb74HWdUEsuMHyG4HiNFAcBlomQmQteX/bQYu/09A57KC\n",
       "QoId5KnY/5FTXRagRAUbmHyAJAIAntVB/gEKLKYAAAAASUVORK5CYII=\n",
       "\" style=\"display:inline;vertical-align:middle;\" /></a></span>"
      ],
      "text/plain": [
       "{[not]([not](A) or [not](B))} |- A and B"
      ]
     },
     "execution_count": 54,
     "metadata": {},
     "output_type": "execute_result"
    }
   ],
   "source": [
    "And(A,B).prove([Not(Or(Not(A), Not(B)))])"
   ]
  },
  {
   "cell_type": "code",
   "execution_count": 55,
   "metadata": {},
   "outputs": [
    {
     "data": {
      "text/html": [
       "<span style=\"font-size:20px;\"><a class=\"ProveItLink\" href=\"../__pv_it/demonstrations/fea7231d05c4b45e958aab795c2f06e6f7fb31570/expr.ipynb\"><img src=\"data:image/png;base64,iVBORw0KGgoAAAANSUhEUgAAANcAAAAUBAMAAADsL7WcAAAAMFBMVEX///+6uroQEBCqqqqIiIgy\n",
       "MjJERETu7u6YmJjMzMxUVFTc3Nx2dnYiIiJmZmYAAAAutVgsAAAAAXRSTlMAQObYZgAAAtRJREFU\n",
       "SMeFls9r1EAUx9/+SPZn6v4D64+L9iJ4FbHm5NGuXkQEWz2IWMS4Wm+FvQiFQt2L4EXWiwqK7V5E\n",
       "KYoF91wCPdbCiqBQtFuxIK6U+t6bmcxMEu2DFzKTz3zn5c2bSQAiq7SEW5brxjrgTbzjRLwjIcKI\n",
       "jd2Vru0B+ovYuMJkdFtcHG4+vQzleDymyJ3rG623jNjYRenaJtCn6abEzTZdHGNMFicetAuNGGKI\n",
       "5EcBxkaBEIGpOPvCjZ6JAKDq412ZRIp0B/MG0MF8HehDDyzEECncQIWRP8BIzxjpdYVruz3AZuEg\n",
       "hf2YgIA61wxgHJ/f96EJFmKIOEfwkkEFQprGyHfStbXGa3g9qzKznxc/NIArGMvRAJyahRgig2MU\n",
       "Br4pIQITdkZ6ZJngFJXVCt2PoU/xIpiJHgI8eoaZ7luIFqnscC67AqkaQ69Jj+wWdGgJ7nGOMUAu\n",
       "Q9co69Jw9vQqLVLDQrRIdTta/gb793W0j9heFT5C7fVlbNTgPcVykl/IhzJnwcPEqCF5XPkmLlUu\n",
       "tBAt4v2OtmuoMIAl9EPS+f1RorSwuUiRdjgVodgDkFWJxyEurnz+J5JbFqJFsr/4AQhEYOmTZVC5\n",
       "oSaDz/AhMdk+pPLbkYpCtIjHD46nTCbTGE2G+fKo7Ovc8wpEEiiNaghts/IPDCu0EC1COwyAloSQ\n",
       "jJFGs0BwsgqqOluqQMB96INVIEtim3UmVYFEiBapUIFUA10goM6aFVXm4tih3eJSZN8E8TIQBabq\n",
       "F4ecw2gP0xGxbCGGCO6d3Fe6JURibPUoZXyY7p6H3M0dlL4gOi7Jzac39ZPdhY2rlFWnbSF149T+\n",
       "8vyTOEraGks/rkAWGdtr2V5LEDADFpIiwsjMfw9ikTffbs8nlXp2M0UkcRDzWTOVwKZjbTcRt/Xt\n",
       "gFSRxCcm5eOZNtL4eP5r+qQIITaW+ltQ3Pu3YG7v34I54X8BQinY60Rpw18AAAAASUVORK5CYII=\n",
       "\" style=\"display:inline;vertical-align:middle;\" /></a> <a class=\"ProveItLink\" href=\"../__pv_it/demonstrations/709dbe31211013246f6307db1c299bccd66528450/proof.ipynb\" style=\"text-decoration: none\">&nbsp;&#x22A2;&nbsp;&nbsp;</a><a class=\"ProveItLink\" href=\"../__pv_it/demonstrations/810ed78738f42881375be650615d01027c23a1080/expr.ipynb\"><img src=\"data:image/png;base64,iVBORw0KGgoAAAANSUhEUgAAAF8AAAAPBAMAAABw7A4xAAAAMFBMVEX///92dnYiIiIQEBBERERU\n",
       "VFS6urqIiIjc3NxmZmaqqqru7u6YmJgyMjLMzMwAAADiRdoGAAAAAXRSTlMAQObYZgAAAVdJREFU\n",
       "KM9jYACBtwyogCf+68wQNzRB7pLIGA4BCPs+VKwBJsnswMAw/wGqWPEBBq7JByAG3t8AEbsJk3wP\n",
       "lMifgCK2RRtIzIdo3wWl+ZygGhnqgQLnC1DELoPoZAj7QH0CmGZNL4BqcAY62WgDshjnLxD5Esxm\n",
       "27Ae4rS9DApQDV8ZGB5Fo4j1g6kdYPY2hvcQU6SAEOK2r2dKtBhQxOQLEOGVwNAP8Z8CQy9EhP0H\n",
       "A8PmABQx/Qdw9XyRM+MdwIFVwMAKEWYxAGr6hSJmD/YRmGADBvsFEINpAwMfxFh+IMX+HUVMH0Rw\n",
       "gfUuAAobgBgrgfgGPBpYv6GIgUOeEcTiAGrg/cAAlVgJj4b3Dihi/SBPS4NYTSA3/wD5xQHiBFAk\n",
       "AR1qsgFFjOsPUCeIseX/bQYu/0/AYGIFxR47yKDY/5FTXRaAow0uxrDTNTIBNTWygckHBMQAif1k\n",
       "34m7olkAAAAASUVORK5CYII=\n",
       "\" style=\"display:inline;vertical-align:middle;\" /></a></span>"
      ],
      "text/plain": [
       "{[not]([not](A) or [not](B) or [not](C))} |- A and B and C"
      ]
     },
     "execution_count": 55,
     "metadata": {},
     "output_type": "execute_result"
    }
   ],
   "source": [
    "And(A,B,C).prove([Not(Or(Not(A), Not(B), Not(C)))])"
   ]
  },
  {
   "cell_type": "markdown",
   "metadata": {},
   "source": [
    "## Axioms"
   ]
  },
  {
   "cell_type": "code",
   "execution_count": 56,
   "metadata": {},
   "outputs": [
    {
     "data": {
      "text/html": [
       "<span style=\"font-size:20px;\"> <a class=\"ProveItLink\" href=\"axioms.ipynb#and_t_t\" style=\"text-decoration: none\">&nbsp;&#x22A2;&nbsp;&nbsp;</a><a class=\"ProveItLink\" href=\"../__pv_it/axioms/7b5a0e7b79eeb92155c7892ccd1bb94a860f999c0/expr.ipynb\"><img src=\"data:image/png;base64,iVBORw0KGgoAAAANSUhEUgAAAHAAAAAUBAMAAACnq6Q0AAAAMFBMVEX////MzMxUVFR2dna6uroQ\n",
       "EBCqqqqIiIgiIiJmZmYyMjJERETu7u6YmJjc3NwAAACgK8IjAAAAAXRSTlMAQObYZgAAAQRJREFU\n",
       "OMtjYOC7wIAH5OGWOs3A2QEGCsiiM8BCTQxMD9DVw2QY1oF4bAUwcT64inQQwbMAi11gGd4JqBq5\n",
       "JqBIM5jj0sjxAFWjdA+qxqO4NL5gQNWoUo6qkcsBh8ZKVI08CzhQNTJPwKFxL6pG5gTmBBSNvODQ\n",
       "sVoFAiuRZdpQNXIw8C1A0cjWgMPGEFSN1xkYFFE0Mn4gTiMwTIWI04jqVDZgUHA9QNbI0oDw4yLc\n",
       "gQPSxDYBM3Cw2GiJolEa6lyERk4DHBo9IA6CZhEVEAFNAr4QNwhgavRFJDkYACcTRmSRE7hyFe8E\n",
       "BrzAHKfMPrz6sGYrWEbGB7gf4JTCX3TcwyUBAKQERsxzlZRzAAAAAElFTkSuQmCC\n",
       "\" style=\"display:inline;vertical-align:middle;\" /></a></span>"
      ],
      "text/plain": [
       "|- (TRUE and TRUE) = TRUE"
      ]
     },
     "execution_count": 56,
     "metadata": {},
     "output_type": "execute_result"
    }
   ],
   "source": [
    "Equals(And(TRUE, TRUE), TRUE).prove()"
   ]
  },
  {
   "cell_type": "code",
   "execution_count": 57,
   "metadata": {},
   "outputs": [
    {
     "data": {
      "text/html": [
       "<span style=\"font-size:20px;\"> <a class=\"ProveItLink\" href=\"axioms.ipynb#and_t_f\" style=\"text-decoration: none\">&nbsp;&#x22A2;&nbsp;&nbsp;</a><a class=\"ProveItLink\" href=\"../__pv_it/axioms/a36dbdd067ad42508f9137691c0b55fd24339f740/expr.ipynb\"><img src=\"data:image/png;base64,iVBORw0KGgoAAAANSUhEUgAAAHAAAAAUBAMAAACnq6Q0AAAAMFBMVEX////MzMxUVFR2dna6uroQ\n",
       "EBCqqqqIiIgiIiJmZmYyMjJERETu7u6YmJjc3NwAAACgK8IjAAAAAXRSTlMAQObYZgAAAQhJREFU\n",
       "OMtjYOC7wIAH5OGWOs3A2QEGCmgSYiCC6QEWLWAZhnUggq0AJsgHl04HETwLsGgEy/BOQNXINQFF\n",
       "msEcl0aOB6gapXtQNR7FpfEFA6pGlXJUjVwOODRWomrkWcCBqpF5Ag6Ne1E1MicwJ6Bo5AWHjtUq\n",
       "EFiJLNOGqpGDgW8Bika2Bhw2hqBqvM7AoIiikfEDcRqBYSpEnEZUp7IBg4LrAbJGlgaEHxfhDhyQ\n",
       "JrYJmIGDxUZLFI3SUOciNHIa4NDoAXEQNIuogAhQEpjR0RHa0dEEdIMAmi6YDAdK8gcnE0ZkkRO4\n",
       "chXvBAa8wBynzD68+rBmK1hGxge4H+CUwl903MMlAQBm6kX4QLZagwAAAABJRU5ErkJggg==\n",
       "\" style=\"display:inline;vertical-align:middle;\" /></a></span>"
      ],
      "text/plain": [
       "|- (TRUE and FALSE) = FALSE"
      ]
     },
     "execution_count": 57,
     "metadata": {},
     "output_type": "execute_result"
    }
   ],
   "source": [
    "Equals(And(TRUE, FALSE), FALSE).prove()"
   ]
  },
  {
   "cell_type": "code",
   "execution_count": 58,
   "metadata": {},
   "outputs": [
    {
     "data": {
      "text/html": [
       "<span style=\"font-size:20px;\"> <a class=\"ProveItLink\" href=\"axioms.ipynb#and_f_t\" style=\"text-decoration: none\">&nbsp;&#x22A2;&nbsp;&nbsp;</a><a class=\"ProveItLink\" href=\"../__pv_it/axioms/2c5ba0a41c2ed36e3ae7192aeee85ad4e41d75e60/expr.ipynb\"><img src=\"data:image/png;base64,iVBORw0KGgoAAAANSUhEUgAAAHAAAAAUBAMAAACnq6Q0AAAAMFBMVEX///9UVFTMzMx2dna6uroQ\n",
       "EBCqqqqIiIgiIiJmZmYyMjJERETu7u6YmJjc3NwAAAC+aOQFAAAAAXRSTlMAQObYZgAAAQtJREFU\n",
       "OMtjYOC7wIAH5OGWOg0imBLQRGd0gEAjA+MDLFrUwOQ6EMFWABPkg0ungwieBVg0gmV4J6Bq5JqA\n",
       "Is1gjksjxwNUjdo9qBqP4tL4ggFVo0g5qkYuBxwaK1E18izgQNXIPAGHxr2oGpkTmBNQNPKCQ8dq\n",
       "FQisRJZpQ9XIwcC3AEUjWwMOG0NQNV5nYBBC0cj0gTiNwDBVJE4jqlPZgEHB9QBZI0sDwo8LcQcO\n",
       "SBPbBMzAwWKjJYpGbahzERo5DXBo9ADKdXS0RnR0CICiHyQETQK+EDcoYCb/UFDy50BJ/uBkwoQs\n",
       "cgJXruKdwIAXmOOU2YdXH9ZshZSRcQLuBzil8Bcd93BJAABbF0XMzCmSpgAAAABJRU5ErkJggg==\n",
       "\" style=\"display:inline;vertical-align:middle;\" /></a></span>"
      ],
      "text/plain": [
       "|- (FALSE and TRUE) = FALSE"
      ]
     },
     "execution_count": 58,
     "metadata": {},
     "output_type": "execute_result"
    }
   ],
   "source": [
    "Equals(And(FALSE, TRUE), FALSE).prove()"
   ]
  },
  {
   "cell_type": "code",
   "execution_count": 59,
   "metadata": {},
   "outputs": [
    {
     "data": {
      "text/html": [
       "<span style=\"font-size:20px;\"> <a class=\"ProveItLink\" href=\"axioms.ipynb#and_f_f\" style=\"text-decoration: none\">&nbsp;&#x22A2;&nbsp;&nbsp;</a><a class=\"ProveItLink\" href=\"../__pv_it/axioms/5359044f0303ca2ec865e9819376bbee591546150/expr.ipynb\"><img src=\"data:image/png;base64,iVBORw0KGgoAAAANSUhEUgAAAHAAAAAUBAMAAACnq6Q0AAAAMFBMVEX///9UVFTMzMx2dna6uroQ\n",
       "EBCqqqqIiIgiIiJmZmYyMjJERETu7u6YmJjc3NwAAAC+aOQFAAAAAXRSTlMAQObYZgAAAQtJREFU\n",
       "OMtjYOC7wIAH5OGWOg0imBIwJdRABOMDBhwyDOtABFsBTJAPLp0OIngWYNEIluGdgKqRawKKNIM5\n",
       "Lo0cD1A1avegajyKS+MLBlSNIuWoGrkccGisRNXIs4ADVSPzBBwa96JqZE5gTkDRyAsOHatVILAS\n",
       "WaYNVSMHA98CFI1sDThsDEHVeJ2BQQhFI9MH4jQCw1SROI2oTmUDBgXXA2SNLA0IPy7EHTggTWwT\n",
       "MAMHi42WKBq1oc5FaOQ0wKHRAyjX0dEa0dEhAIp+kBAoCczo6Ajt6GgEukEBTRdMhgMl+YOTCROy\n",
       "yAlcuYp3AgNeYI5TZh9efVizFVJGxgm4H+CUwl903MMlAQB8DUVyivSWHQAAAABJRU5ErkJggg==\n",
       "\" style=\"display:inline;vertical-align:middle;\" /></a></span>"
      ],
      "text/plain": [
       "|- (FALSE and FALSE) = FALSE"
      ]
     },
     "execution_count": 59,
     "metadata": {},
     "output_type": "execute_result"
    }
   ],
   "source": [
    "Equals(And(FALSE, FALSE), FALSE).prove()"
   ]
  },
  {
   "cell_type": "code",
   "execution_count": 60,
   "metadata": {},
   "outputs": [
    {
     "data": {
      "text/html": [
       "<span style=\"font-size:20px;\"><a class=\"ProveItLink\" href=\"../__pv_it/axioms/f3ff6bc7ae37c2a5cd1bbbe5c0416596756b3c060/expr.ipynb\"><img src=\"data:image/png;base64,iVBORw0KGgoAAAANSUhEUgAAAGwAAAAUBAMAAACaOcVSAAAAMFBMVEX///9UVFTMzMx2dna6uroQ\n",
       "EBCqqqqIiIgiIiJmZmYyMjJERETu7u6YmJjc3NwAAAC+aOQFAAAAAXRSTlMAQObYZgAAAddJREFU\n",
       "OMt9VD1IQlEU/vKZPvx5SbiUkbZFDbZGi6NDUYOD1OLYlltEgy1FRIPREE5F1BJRbygKpHKoIF2E\n",
       "hiCQHNtKiIqG7L5z7lOf5DvLPT/3u+fc75x7Aa0MG3FVOwRKvIy0uf3hWi50Bgxa3e7V/E8yKJQT\n",
       "tk+lXzM3dOvAbgTFtuM8jnTpoQx/lg8/LUh3VsajovjpLJS0FeZ1lt0RHSoXf78rLzG6KeMZ4XhJ\n",
       "wzcji75c35AwV0rHK3vLmRgrwUUJOwd8SVHCAVmOi0IjmzKpY4kMZ2GBCfXtqRJWA4YHxDpOVrHQ\n",
       "LDI+FMEVGbeI8h2UlJLi42uV5TVDeSZzsHm3ZD0BUAgxvDEVKrQ9ZvoXuAsIZZ5MvYUSpTKGBB3d\n",
       "lwtz4Ano5bCgwv1pMEobZo+ESBj0KYY5RZs4ieBxiJQekcn9ZcK01mzQu7hIcR2ViHaJUj1Vs21d\n",
       "H0KJ0+6ZVljAQ5RoAuZ5p2ZXGcpti+oNSnYs2R6JX6N33l9qtiwUOBSlzxmsbzNVqcZwjSnjAaOG\n",
       "Uv0YrptvI4kxpDAa3l/v28rT1n3uZ2jSMsqq5WXQqDhaPb4VXp0TPFzmA8nCVtpH2ZRre1jR/pl2\n",
       "kk6n2n8K/v8/hT+av3pnLPiN2QAAAABJRU5ErkJggg==\n",
       "\" style=\"display:inline;vertical-align:middle;\" /></a> <a class=\"ProveItLink\" href=\"../__pv_it/demonstrations/d51711eedfb773923b8974ff25215f261ea317360/proof.ipynb\" style=\"text-decoration: none\">&nbsp;&#x22A2;&nbsp;&nbsp;</a><a class=\"ProveItLink\" href=\"../../__pv_it/theorems/bc796b8e7562f2d661739850b78776738bfc78d80/expr.ipynb\"><img src=\"data:image/png;base64,iVBORw0KGgoAAAANSUhEUgAAADYAAAAPBAMAAABdHiGLAAAAMFBMVEX///92dnYiIiIQEBBERERU\n",
       "VFS6urqIiIjc3NxmZmaqqqru7u6YmJgyMjLMzMwAAADiRdoGAAAAAXRSTlMAQObYZgAAANdJREFU\n",
       "GNNjYACBtwwogF3Z5a9RGJRzH1WOgZevYMvOA2Amz/0NqHIsbAfYHziAmbvmN0DEeJyUdKFyXAsg\n",
       "cgfqE8A0n/sGuD7GbLAc24b1ELP3bkCYmfT0AYi1jeF9AVgoAmGf0X8zMCuBoX8CmOGA5BbGMwIg\n",
       "WyJnxoNF+WzvAgFUjsEhB2QdAwPzBZAIB7I+BgdWIGMBAwOTAVjIAFkugBeoGijH+wEsNB1F30EG\n",
       "hiYQ+wdYiGkBPMwEGCUDGLb8v83A5f8J7FDukGzMsIYBNhFImEEAAEUpOYcaSaDVAAAAAElFTkSu\n",
       "QmCC\n",
       "\" style=\"display:inline;vertical-align:middle;\" /></a></span>"
      ],
      "text/plain": [
       "{(A and B) in BOOLEAN} |- A in BOOLEAN"
      ]
     },
     "execution_count": 60,
     "metadata": {},
     "output_type": "execute_result"
    }
   ],
   "source": [
    "in_bool(A).prove([in_bool(And(A,B))])"
   ]
  },
  {
   "cell_type": "code",
   "execution_count": 61,
   "metadata": {},
   "outputs": [
    {
     "data": {
      "text/html": [
       "<span style=\"font-size:20px;\"><a class=\"ProveItLink\" href=\"../__pv_it/axioms/f3ff6bc7ae37c2a5cd1bbbe5c0416596756b3c060/expr.ipynb\"><img src=\"data:image/png;base64,iVBORw0KGgoAAAANSUhEUgAAAGwAAAAUBAMAAACaOcVSAAAAMFBMVEX///9UVFTMzMx2dna6uroQ\n",
       "EBCqqqqIiIgiIiJmZmYyMjJERETu7u6YmJjc3NwAAAC+aOQFAAAAAXRSTlMAQObYZgAAAddJREFU\n",
       "OMt9VD1IQlEU/vKZPvx5SbiUkbZFDbZGi6NDUYOD1OLYlltEgy1FRIPREE5F1BJRbygKpHKoIF2E\n",
       "hiCQHNtKiIqG7L5z7lOf5DvLPT/3u+fc75x7Aa0MG3FVOwRKvIy0uf3hWi50Bgxa3e7V/E8yKJQT\n",
       "tk+lXzM3dOvAbgTFtuM8jnTpoQx/lg8/LUh3VsajovjpLJS0FeZ1lt0RHSoXf78rLzG6KeMZ4XhJ\n",
       "wzcji75c35AwV0rHK3vLmRgrwUUJOwd8SVHCAVmOi0IjmzKpY4kMZ2GBCfXtqRJWA4YHxDpOVrHQ\n",
       "LDI+FMEVGbeI8h2UlJLi42uV5TVDeSZzsHm3ZD0BUAgxvDEVKrQ9ZvoXuAsIZZ5MvYUSpTKGBB3d\n",
       "lwtz4Ano5bCgwv1pMEobZo+ESBj0KYY5RZs4ieBxiJQekcn9ZcK01mzQu7hIcR2ViHaJUj1Vs21d\n",
       "H0KJ0+6ZVljAQ5RoAuZ5p2ZXGcpti+oNSnYs2R6JX6N33l9qtiwUOBSlzxmsbzNVqcZwjSnjAaOG\n",
       "Uv0YrptvI4kxpDAa3l/v28rT1n3uZ2jSMsqq5WXQqDhaPb4VXp0TPFzmA8nCVtpH2ZRre1jR/pl2\n",
       "kk6n2n8K/v8/hT+av3pnLPiN2QAAAABJRU5ErkJggg==\n",
       "\" style=\"display:inline;vertical-align:middle;\" /></a> <a class=\"ProveItLink\" href=\"../__pv_it/demonstrations/4f63f9d3e9325de10a4fc4110943dafc8960aea60/proof.ipynb\" style=\"text-decoration: none\">&nbsp;&#x22A2;&nbsp;&nbsp;</a><a class=\"ProveItLink\" href=\"../__pv_it/theorems/6b89b43e4cbb2b2a7f36bef7320ec444c4840e0e0/expr.ipynb\"><img src=\"data:image/png;base64,iVBORw0KGgoAAAANSUhEUgAAADcAAAAPBAMAAACy3Eq1AAAAMFBMVEX///92dnYyMjKqqqoiIiLu\n",
       "7u7c3NyIiIjMzMwQEBC6urpERERmZmZUVFSYmJgAAADEjrHzAAAAAXRSTlMAQObYZgAAAOZJREFU\n",
       "GNNjYGB4+//O2d0LGJBByez9mr4QodkMDDw/UCQZFNpZt54DMTj+MTBw/UGV3LCOoYIbxGD/xsDA\n",
       "9x0sxrfFxQkmaQyW5J7AwBDpCjZjewBCp1Q0iMF/gYHDFywaFIAwlsvjBojRf+/5FgOw0DWEnSv9\n",
       "f4JdW5/AwDoXIoTsILmHIMZOkAKQVo5JSkAAk+TmegBk/AVJFgAJNhSd3AwXIN5kuA+2YAKyJC+D\n",
       "AsSbHL/BQsdRdPIJMDAwAdWv3AoWYjGAB18jg+BZBgZe/b9nbm+GCLHeXooR8AjAJQ0NPggAAH2B\n",
       "SAzP/7V+AAAAAElFTkSuQmCC\n",
       "\" style=\"display:inline;vertical-align:middle;\" /></a></span>"
      ],
      "text/plain": [
       "{(A and B) in BOOLEAN} |- B in BOOLEAN"
      ]
     },
     "execution_count": 61,
     "metadata": {},
     "output_type": "execute_result"
    }
   ],
   "source": [
    "in_bool(B).prove([in_bool(And(A,B))])"
   ]
  },
  {
   "cell_type": "code",
   "execution_count": 62,
   "metadata": {},
   "outputs": [
    {
     "data": {
      "text/html": [
       "<span style=\"font-size:20px;\"> <a class=\"ProveItLink\" href=\"axioms.ipynb#and_f_t\" style=\"text-decoration: none\">&nbsp;&#x22A2;&nbsp;&nbsp;</a><a class=\"ProveItLink\" href=\"../__pv_it/axioms/2c5ba0a41c2ed36e3ae7192aeee85ad4e41d75e60/expr.ipynb\"><img src=\"data:image/png;base64,iVBORw0KGgoAAAANSUhEUgAAAHAAAAAUBAMAAACnq6Q0AAAAMFBMVEX///9UVFTMzMx2dna6uroQ\n",
       "EBCqqqqIiIgiIiJmZmYyMjJERETu7u6YmJjc3NwAAAC+aOQFAAAAAXRSTlMAQObYZgAAAQtJREFU\n",
       "OMtjYOC7wIAH5OGWOg0imBLQRGd0gEAjA+MDLFrUwOQ6EMFWABPkg0ungwieBVg0gmV4J6Bq5JqA\n",
       "Is1gjksjxwNUjdo9qBqP4tL4ggFVo0g5qkYuBxwaK1E18izgQNXIPAGHxr2oGpkTmBNQNPKCQ8dq\n",
       "FQisRJZpQ9XIwcC3AEUjWwMOG0NQNV5nYBBC0cj0gTiNwDBVJE4jqlPZgEHB9QBZI0sDwo8LcQcO\n",
       "SBPbBMzAwWKjJYpGbahzERo5DXBo9ADKdXS0RnR0CICiHyQETQK+EDcoYCb/UFDy50BJ/uBkwoQs\n",
       "cgJXruKdwIAXmOOU2YdXH9ZshZSRcQLuBzil8Bcd93BJAABbF0XMzCmSpgAAAABJRU5ErkJggg==\n",
       "\" style=\"display:inline;vertical-align:middle;\" /></a></span>"
      ],
      "text/plain": [
       "|- (FALSE and TRUE) = FALSE"
      ]
     },
     "execution_count": 62,
     "metadata": {},
     "output_type": "execute_result"
    }
   ],
   "source": [
    "Equals(And(FALSE, TRUE), FALSE).prove()"
   ]
  },
  {
   "cell_type": "code",
   "execution_count": 63,
   "metadata": {},
   "outputs": [
    {
     "data": {
      "text/html": [
       "<span style=\"font-size:20px;\"> <a class=\"ProveItLink\" href=\"axioms.ipynb#and_f_f\" style=\"text-decoration: none\">&nbsp;&#x22A2;&nbsp;&nbsp;</a><a class=\"ProveItLink\" href=\"../__pv_it/axioms/5359044f0303ca2ec865e9819376bbee591546150/expr.ipynb\"><img src=\"data:image/png;base64,iVBORw0KGgoAAAANSUhEUgAAAHAAAAAUBAMAAACnq6Q0AAAAMFBMVEX///9UVFTMzMx2dna6uroQ\n",
       "EBCqqqqIiIgiIiJmZmYyMjJERETu7u6YmJjc3NwAAAC+aOQFAAAAAXRSTlMAQObYZgAAAQtJREFU\n",
       "OMtjYOC7wIAH5OGWOg0imBIwJdRABOMDBhwyDOtABFsBTJAPLp0OIngWYNEIluGdgKqRawKKNIM5\n",
       "Lo0cD1A1avegajyKS+MLBlSNIuWoGrkccGisRNXIs4ADVSPzBBwa96JqZE5gTkDRyAsOHatVILAS\n",
       "WaYNVSMHA98CFI1sDThsDEHVeJ2BQQhFI9MH4jQCw1SROI2oTmUDBgXXA2SNLA0IPy7EHTggTWwT\n",
       "MAMHi42WKBq1oc5FaOQ0wKHRAyjX0dEa0dEhAIp+kBAoCczo6Ajt6GgEukEBTRdMhgMl+YOTCROy\n",
       "yAlcuYp3AgNeYI5TZh9efVizFVJGxgm4H+CUwl903MMlAQB8DUVyivSWHQAAAABJRU5ErkJggg==\n",
       "\" style=\"display:inline;vertical-align:middle;\" /></a></span>"
      ],
      "text/plain": [
       "|- (FALSE and FALSE) = FALSE"
      ]
     },
     "execution_count": 63,
     "metadata": {},
     "output_type": "execute_result"
    }
   ],
   "source": [
    "Equals(And(FALSE, FALSE), FALSE).prove()"
   ]
  },
  {
   "cell_type": "code",
   "execution_count": 64,
   "metadata": {},
   "outputs": [
    {
     "data": {
      "text/html": [
       "<span style=\"font-size:20px;\"><a class=\"ProveItLink\" href=\"../__pv_it/axioms/f3ff6bc7ae37c2a5cd1bbbe5c0416596756b3c060/expr.ipynb\"><img src=\"data:image/png;base64,iVBORw0KGgoAAAANSUhEUgAAAGwAAAAUBAMAAACaOcVSAAAAMFBMVEX///9UVFTMzMx2dna6uroQ\n",
       "EBCqqqqIiIgiIiJmZmYyMjJERETu7u6YmJjc3NwAAAC+aOQFAAAAAXRSTlMAQObYZgAAAddJREFU\n",
       "OMt9VD1IQlEU/vKZPvx5SbiUkbZFDbZGi6NDUYOD1OLYlltEgy1FRIPREE5F1BJRbygKpHKoIF2E\n",
       "hiCQHNtKiIqG7L5z7lOf5DvLPT/3u+fc75x7Aa0MG3FVOwRKvIy0uf3hWi50Bgxa3e7V/E8yKJQT\n",
       "tk+lXzM3dOvAbgTFtuM8jnTpoQx/lg8/LUh3VsajovjpLJS0FeZ1lt0RHSoXf78rLzG6KeMZ4XhJ\n",
       "wzcji75c35AwV0rHK3vLmRgrwUUJOwd8SVHCAVmOi0IjmzKpY4kMZ2GBCfXtqRJWA4YHxDpOVrHQ\n",
       "LDI+FMEVGbeI8h2UlJLi42uV5TVDeSZzsHm3ZD0BUAgxvDEVKrQ9ZvoXuAsIZZ5MvYUSpTKGBB3d\n",
       "lwtz4Ano5bCgwv1pMEobZo+ESBj0KYY5RZs4ieBxiJQekcn9ZcK01mzQu7hIcR2ViHaJUj1Vs21d\n",
       "H0KJ0+6ZVljAQ5RoAuZ5p2ZXGcpti+oNSnYs2R6JX6N33l9qtiwUOBSlzxmsbzNVqcZwjSnjAaOG\n",
       "Uv0YrptvI4kxpDAa3l/v28rT1n3uZ2jSMsqq5WXQqDhaPb4VXp0TPFzmA8nCVtpH2ZRre1jR/pl2\n",
       "kk6n2n8K/v8/hT+av3pnLPiN2QAAAABJRU5ErkJggg==\n",
       "\" style=\"display:inline;vertical-align:middle;\" /></a> <a class=\"ProveItLink\" href=\"../__pv_it/demonstrations/d51711eedfb773923b8974ff25215f261ea317360/proof.ipynb\" style=\"text-decoration: none\">&nbsp;&#x22A2;&nbsp;&nbsp;</a><a class=\"ProveItLink\" href=\"../../__pv_it/theorems/bc796b8e7562f2d661739850b78776738bfc78d80/expr.ipynb\"><img src=\"data:image/png;base64,iVBORw0KGgoAAAANSUhEUgAAADYAAAAPBAMAAABdHiGLAAAAMFBMVEX///92dnYiIiIQEBBERERU\n",
       "VFS6urqIiIjc3NxmZmaqqqru7u6YmJgyMjLMzMwAAADiRdoGAAAAAXRSTlMAQObYZgAAANdJREFU\n",
       "GNNjYACBtwwogF3Z5a9RGJRzH1WOgZevYMvOA2Amz/0NqHIsbAfYHziAmbvmN0DEeJyUdKFyXAsg\n",
       "cgfqE8A0n/sGuD7GbLAc24b1ELP3bkCYmfT0AYi1jeF9AVgoAmGf0X8zMCuBoX8CmOGA5BbGMwIg\n",
       "WyJnxoNF+WzvAgFUjsEhB2QdAwPzBZAIB7I+BgdWIGMBAwOTAVjIAFkugBeoGijH+wEsNB1F30EG\n",
       "hiYQ+wdYiGkBPMwEGCUDGLb8v83A5f8J7FDukGzMsIYBNhFImEEAAEUpOYcaSaDVAAAAAElFTkSu\n",
       "QmCC\n",
       "\" style=\"display:inline;vertical-align:middle;\" /></a></span>"
      ],
      "text/plain": [
       "{(A and B) in BOOLEAN} |- A in BOOLEAN"
      ]
     },
     "execution_count": 64,
     "metadata": {},
     "output_type": "execute_result"
    }
   ],
   "source": [
    "in_bool(A).prove([in_bool(And(A,B))])"
   ]
  },
  {
   "cell_type": "code",
   "execution_count": 65,
   "metadata": {},
   "outputs": [
    {
     "data": {
      "text/html": [
       "<span style=\"font-size:20px;\"><a class=\"ProveItLink\" href=\"../__pv_it/axioms/f3ff6bc7ae37c2a5cd1bbbe5c0416596756b3c060/expr.ipynb\"><img src=\"data:image/png;base64,iVBORw0KGgoAAAANSUhEUgAAAGwAAAAUBAMAAACaOcVSAAAAMFBMVEX///9UVFTMzMx2dna6uroQ\n",
       "EBCqqqqIiIgiIiJmZmYyMjJERETu7u6YmJjc3NwAAAC+aOQFAAAAAXRSTlMAQObYZgAAAddJREFU\n",
       "OMt9VD1IQlEU/vKZPvx5SbiUkbZFDbZGi6NDUYOD1OLYlltEgy1FRIPREE5F1BJRbygKpHKoIF2E\n",
       "hiCQHNtKiIqG7L5z7lOf5DvLPT/3u+fc75x7Aa0MG3FVOwRKvIy0uf3hWi50Bgxa3e7V/E8yKJQT\n",
       "tk+lXzM3dOvAbgTFtuM8jnTpoQx/lg8/LUh3VsajovjpLJS0FeZ1lt0RHSoXf78rLzG6KeMZ4XhJ\n",
       "wzcji75c35AwV0rHK3vLmRgrwUUJOwd8SVHCAVmOi0IjmzKpY4kMZ2GBCfXtqRJWA4YHxDpOVrHQ\n",
       "LDI+FMEVGbeI8h2UlJLi42uV5TVDeSZzsHm3ZD0BUAgxvDEVKrQ9ZvoXuAsIZZ5MvYUSpTKGBB3d\n",
       "lwtz4Ano5bCgwv1pMEobZo+ESBj0KYY5RZs4ieBxiJQekcn9ZcK01mzQu7hIcR2ViHaJUj1Vs21d\n",
       "H0KJ0+6ZVljAQ5RoAuZ5p2ZXGcpti+oNSnYs2R6JX6N33l9qtiwUOBSlzxmsbzNVqcZwjSnjAaOG\n",
       "Uv0YrptvI4kxpDAa3l/v28rT1n3uZ2jSMsqq5WXQqDhaPb4VXp0TPFzmA8nCVtpH2ZRre1jR/pl2\n",
       "kk6n2n8K/v8/hT+av3pnLPiN2QAAAABJRU5ErkJggg==\n",
       "\" style=\"display:inline;vertical-align:middle;\" /></a> <a class=\"ProveItLink\" href=\"../__pv_it/demonstrations/4f63f9d3e9325de10a4fc4110943dafc8960aea60/proof.ipynb\" style=\"text-decoration: none\">&nbsp;&#x22A2;&nbsp;&nbsp;</a><a class=\"ProveItLink\" href=\"../__pv_it/theorems/6b89b43e4cbb2b2a7f36bef7320ec444c4840e0e0/expr.ipynb\"><img src=\"data:image/png;base64,iVBORw0KGgoAAAANSUhEUgAAADcAAAAPBAMAAACy3Eq1AAAAMFBMVEX///92dnYyMjKqqqoiIiLu\n",
       "7u7c3NyIiIjMzMwQEBC6urpERERmZmZUVFSYmJgAAADEjrHzAAAAAXRSTlMAQObYZgAAAOZJREFU\n",
       "GNNjYGB4+//O2d0LGJBByez9mr4QodkMDDw/UCQZFNpZt54DMTj+MTBw/UGV3LCOoYIbxGD/xsDA\n",
       "9x0sxrfFxQkmaQyW5J7AwBDpCjZjewBCp1Q0iMF/gYHDFywaFIAwlsvjBojRf+/5FgOw0DWEnSv9\n",
       "f4JdW5/AwDoXIoTsILmHIMZOkAKQVo5JSkAAk+TmegBk/AVJFgAJNhSd3AwXIN5kuA+2YAKyJC+D\n",
       "AsSbHL/BQsdRdPIJMDAwAdWv3AoWYjGAB18jg+BZBgZe/b9nbm+GCLHeXooR8AjAJQ0NPggAAH2B\n",
       "SAzP/7V+AAAAAElFTkSuQmCC\n",
       "\" style=\"display:inline;vertical-align:middle;\" /></a></span>"
      ],
      "text/plain": [
       "{(A and B) in BOOLEAN} |- B in BOOLEAN"
      ]
     },
     "execution_count": 65,
     "metadata": {},
     "output_type": "execute_result"
    }
   ],
   "source": [
    "in_bool(B).prove([in_bool(And(A,B))])"
   ]
  },
  {
   "cell_type": "code",
   "execution_count": 66,
   "metadata": {},
   "outputs": [],
   "source": [
    "%end demonstrations"
   ]
  },
  {
   "cell_type": "code",
   "execution_count": null,
   "metadata": {},
   "outputs": [],
   "source": []
  }
 ],
 "metadata": {
  "kernelspec": {
   "display_name": "Python 3",
   "language": "python",
   "name": "python3"
  }
 },
 "nbformat": 4,
 "nbformat_minor": 0
}