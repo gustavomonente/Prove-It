{
 "cells": [
  {
   "cell_type": "markdown",
   "metadata": {},
   "source": [
    "Proof of <a class=\"ProveItLink\" href=\"../../../../../../_theory_nbs_/theory.ipynb\">proveit</a>.<a class=\"ProveItLink\" href=\"../../../../../_theory_nbs_/theory.ipynb\">logic</a>.<a class=\"ProveItLink\" href=\"../../../../_theory_nbs_/theory.ipynb\">booleans</a>.<a class=\"ProveItLink\" href=\"../../theory.ipynb\">conjunction</a>.<a class=\"ProveItLink\" href=\"../../theorems.ipynb#from_unary_and\">from_unary_and</a> theorem\n",
    "========"
   ]
  },
  {
   "cell_type": "code",
   "execution_count": 1,
   "metadata": {},
   "outputs": [],
   "source": [
    "import proveit\n",
    "theory = proveit.Theory() # the theorem's theory"
   ]
  },
  {
   "cell_type": "code",
   "execution_count": 2,
   "metadata": {},
   "outputs": [
    {
     "data": {
      "text/html": [
       "Under these <a href=\"presumptions.txt\">presumptions</a>, we begin our proof of<br><strong id=\"from_unary_and\">from_unary_and:</strong> <a class=\"ProveItLink\" href=\"../../../__pv_it/theorems/f6aff55015c7d5092a18d45174f4a26ec1ceef5c0/expr.ipynb\"><img src=\"data:image/png;base64,iVBORw0KGgoAAAANSUhEUgAAAGcAAAAWBAMAAAAvEZ+uAAAAMFBMVEX///8QEBCIiIhmZma6urrM\n",
       "zMxUVFQiIiJERETc3Nzu7u6qqqp2dnaYmJgyMjIAAAAcRTyBAAAAAXRSTlMAQObYZgAAAYVJREFU\n",
       "OMudkjFLw0AUx5/tpU3SJvoRuju04CBOBpwFQXAqWlAXFwtuYiFjdWk33XqgiFSQgpOD2Lk6ZBeh\n",
       "4NalDoJ1EH3vLtdcpWrjwbv37p/3u7x7dwD/GV2anmIA62j3FPRiQH20EzTLn5xx+hzARcu2Jocu\n",
       "F+tIdprN4xjVBXkP50G1evBThiWdESmM3wXotgEOxVrOTIfaUs94Q+UMNnLolsAWbXdehWpqTKoe\n",
       "6gtDyYNGAV0aEvRDOP0YgWi/otLPFWNszu1Sq7NBWqw7ezpkVGTlUnfr6kgAU1SX1V0TWbmqDplX\n",
       "OJWVLmvBgXeTnhEH3RL1w7wOFZ0ArLLSM6Wwmwi5LxRd0zd4hLwOHYEPzFc6C58MXaj5TtE0ndl+\n",
       "fqjxCDIKmM1KSjdEf+HisweZ2hu1z6HkJIfGSgSlOAaGr3RWGnv3y/jHIIJWca+WXVa60x7HmAOw\n",
       "apUI2kHzYV/pSe/3BykhLmxWiS5MAn2Lb2NALLxTu/AHlNQXN9Il+GjOF8z7XAq4i76TAAAAAElF\n",
       "TkSuQmCC\n",
       "\" style=\"display:inline;vertical-align:middle;\" /></a><br>(see <a class=\"ProveItLink\" href=\"../../../__pv_it/theorems/4b06041b5fdf3ee9e901703095f55c9f77e2773a0/dependencies.ipynb\">dependencies</a>)<br>"
      ],
      "text/plain": [
       "from_unary_and: forall_{A | and(A)} A"
      ]
     },
     "execution_count": 2,
     "metadata": {},
     "output_type": "execute_result"
    }
   ],
   "source": [
    "%proving from_unary_and"
   ]
  },
  {
   "cell_type": "code",
   "execution_count": null,
   "metadata": {},
   "outputs": [],
   "source": []
  }
 ],
 "metadata": {
  "kernelspec": {
   "display_name": "Python 3",
   "language": "python",
   "name": "python3"
  }
 },
 "nbformat": 4,
 "nbformat_minor": 0
}