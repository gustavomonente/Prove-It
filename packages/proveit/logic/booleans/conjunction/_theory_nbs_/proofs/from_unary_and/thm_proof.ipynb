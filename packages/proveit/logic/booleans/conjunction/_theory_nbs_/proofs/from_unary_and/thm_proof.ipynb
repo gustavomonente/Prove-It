{
 "cells": [
  {
   "cell_type": "markdown",
   "metadata": {},
   "source": [
    "Proof of <a class=\"ProveItLink\" href=\"../../../../../../_theory_nbs_/theory.ipynb\">proveit</a>.<a class=\"ProveItLink\" href=\"../../../../../_theory_nbs_/theory.ipynb\">logic</a>.<a class=\"ProveItLink\" href=\"../../../../_theory_nbs_/theory.ipynb\">booleans</a>.<a class=\"ProveItLink\" href=\"../../theory.ipynb\">conjunction</a>.<a class=\"ProveItLink\" href=\"../../theorems.ipynb#from_unary_and\">from_unary_and</a> theorem\n",
    "========"
   ]
  },
  {
   "cell_type": "code",
   "execution_count": 1,
   "metadata": {},
   "outputs": [],
   "source": [
    "import proveit\n",
    "theory = proveit.Theory() # the theorem's theory"
   ]
  },
  {
   "cell_type": "code",
   "execution_count": 2,
   "metadata": {},
   "outputs": [
    {
     "data": {
      "text/html": [
       "Under these <a href=\"presumptions.txt\">presumptions</a>, we begin our proof of<br><strong id=\"from_unary_and\">from_unary_and:</strong> <a class=\"ProveItLink\" href=\"../../../__pv_it/theorems/d37c3bdd1298404984721f024bb11ac39cfe9d6b0/expr.ipynb\"><img src=\"data:image/png;base64,iVBORw0KGgoAAAANSUhEUgAAAG8AAAAWBAMAAAA8xt9aAAAAMFBMVEX///8QEBCIiIhmZma6urrM\n",
       "zMxUVFQiIiJERETc3Nzu7u6qqqp2dnaYmJgyMjIAAAAcRTyBAAAAAXRSTlMAQObYZgAAAb1JREFU\n",
       "OMudk89LAkEUx79p6q6u1p/gOQiFgiAChSC8CFIQHaKE6lCXhC4dMjxaF73lzQUDw0CEomsdwzrs\n",
       "vV9Cp7zYodCCqPdmXXMzkm1h3nvfnfm8mXkzA/z3q7G5swgtUbvioG4RbFDLUZNT1jhvQwV81JSK\n",
       "NfA4lCW6WiodWFypFgiTbaXTOz1d21nh7oNk9BCxTuegeq6RWwP2hNZtWNh4ewxtXmEvZXHaAQ+x\n",
       "7Cc3Dbc4Eu+LMdQMrrN/CMOeNcAw8rwSF2w8MQofP0C/UI4Lcu6QBreRzLEytsmjFM0ldHXLDDqS\n",
       "Qjl5b0qRpngytggM8Brl2rzI40+bQakslMg6K9Hv0TZIZ+caFkVZZevEhBlc9GqsxFHF7QngTOdk\n",
       "An3PHJ0k2N4gYAb3OUwhwnWr2GhkRAc5k/TG0RBXwf14nVG7QUeQcpGaIVWeunzXbzZw9FmHJ9Pk\n",
       "snoZsKvIx7pBpwqJ1QKpScivECl6vyjNrHWDc7xCUkUqI3XQWd3+xkktyJlkN7ghYqqqikwKuaaG\n",
       "8b8vsAHy+lVStorpyfcHO8p4qx7NIhhth4U+by0o7O73s/K0L/eIedwXyDV1vvSdkD8AAAAASUVO\n",
       "RK5CYII=\n",
       "\" style=\"display:inline;vertical-align:middle;\" /></a><br>(see <a class=\"ProveItLink\" href=\"../../../__pv_it/theorems/448d6e5bc4d40c7c13c8aadf9879bd21f38a7dd80/dependencies.ipynb\">dependencies</a>)<br>"
      ],
      "text/plain": [
       "from_unary_and: forall_{A | [and](A)} A"
      ]
     },
     "execution_count": 2,
     "metadata": {},
     "output_type": "execute_result"
    }
   ],
   "source": [
    "%proving from_unary_and"
   ]
  },
  {
   "cell_type": "code",
   "execution_count": null,
   "metadata": {},
   "outputs": [],
   "source": []
  }
 ],
 "metadata": {
  "kernelspec": {
   "display_name": "Python 3",
   "language": "python",
   "name": "python3"
  }
 },
 "nbformat": 4,
 "nbformat_minor": 0
}