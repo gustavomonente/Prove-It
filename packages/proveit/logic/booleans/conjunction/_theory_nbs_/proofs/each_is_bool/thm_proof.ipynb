{
 "cells": [
  {
   "cell_type": "markdown",
   "metadata": {},
   "source": [
    "Proof of <a class=\"ProveItLink\" href=\"../../../../../../_theory_nbs_/theory.ipynb\">proveit</a>.<a class=\"ProveItLink\" href=\"../../../../../_theory_nbs_/theory.ipynb\">logic</a>.<a class=\"ProveItLink\" href=\"../../../../_theory_nbs_/theory.ipynb\">booleans</a>.<a class=\"ProveItLink\" href=\"../../theory.ipynb\">conjunction</a>.<a class=\"ProveItLink\" href=\"../../theorems.ipynb#each_is_bool\">each_is_bool</a> theorem\n",
    "========"
   ]
  },
  {
   "cell_type": "code",
   "execution_count": 1,
   "metadata": {},
   "outputs": [],
   "source": [
    "import proveit\n",
    "theory = proveit.Theory() # the theorem's theory"
   ]
  },
  {
   "cell_type": "code",
   "execution_count": 2,
   "metadata": {},
   "outputs": [
    {
     "data": {
      "text/html": [
       "Under these <a href=\"presumptions.txt\">presumptions</a>, we begin our proof of<br><strong id=\"each_is_bool\">each_is_bool:</strong> <a class=\"ProveItLink\" href=\"../../../__pv_it/theorems/5296c59d275a25a47ad4caa5b5641690feb6d06d0/expr.ipynb\"><img src=\"data:image/png;base64,iVBORw0KGgoAAAANSUhEUgAAAlQAAAAZBAMAAAAF762BAAAAMFBMVEX///8QEBCIiIhmZma6urrM\n",
       "zMxUVFQiIiJERETc3Nzu7u6qqqp2dnaYmJgyMjIAAAAcRTyBAAAAAXRSTlMAQObYZgAABpdJREFU\n",
       "WMPtWWuME1UUPjud6XO65YcGFX/UaGQxAjWrC8giJSZKjITumgCJm9CAxJUfWsVY5KHFEChgstUf\n",
       "sCGBrSEBXGVtJJtIAnFkxcfySBUSV2GlavwhiYaAIA8Rz7l32p7pzHaLAX4s3qR37rnnzDn3fnPO\n",
       "uY8C1FaeT2bgVi5qckWtogm41cvG/6ESZUtV7h4JVYEegzVAVU+PYH5EIuVP4dReOt/YvtrSrbyc\n",
       "/mf0cwDujIDqIPWdqgEqPYeP+uyIhKqesKhDvKbHrP1aeOe2PPgLAqpOrH2pGqASQp0jM/6OUjUf\n",
       "I2Z2xNLvVfNKDOe9X0BFfiIcZthcRa53cGRC9TpVE9G1ToYFPZBMFkyoAjmE6j0BVbC/u3tTTWn9\n",
       "RHf3+yMzu/vEtFZhzhotEsy8B8pepT+FUNVHxQp4IZ1eURNUoXR6rTEioVJE2J0HmLtYJPlTLACf\n",
       "nIPpS48IqBYBrKsJKncMvDd2H3ozdrmaQ5+X1nXt/GDDckG6M2WoRl+9jRb+goDqcZngh4dKjUCP\n",
       "VOA8JQvgM8/2tUuxgYXGOLtwcE2zUlKjyodeRTk4WlY7mpvKZp0tVdgLRO1MD+Vq5SLmpLiwwtO6\n",
       "PoiRFEgIqDygOG+WtCWfwz1xtgVNwHjRPhl1HMyfFmoU6KOosTUMO0fZs8PP4F9VHpF8vDC0crPY\n",
       "mN8AfFZsO1uy2Ztidv04YdJUs1lHar34rnKZyJY/sBTTOqRmIRSnBVR63uOg+4O+afCJnnVlGVSH\n",
       "5Z7dP90R2m1XOOWKQ+ASjREBDNr3Il04uIEKqDTDolyxZBOwWRZrVRPAp1nJ5pbC/N2w1d52UrS3\n",
       "Ma/ovuMxBlUIvUI5A5YdkYDKXYLKV5jj4CIbNmdhXzii84PNVk34mL4j4gRV/xKLT4fBRR/Gg/PX\n",
       "wjZhWkhaK6ByxyzK5/IPIgluWVtJ9SsAj5lsZknyuCCzR9vNgT3doCjQn2cBSNsqt4iMOgtUcTym\n",
       "qDIAYR1u3YPTWu9V7qexUosSGJbe3nctUHk3Cv9v9TrtWLVwmpMfxWACeeRErPy2Lb5CDtddAZXH\n",
       "qnw9z6CS4Ja9lDf950A5ZbKZJW8Pz289VnuYblRCXFHUExmW1mlbNV/od4UtXnWilNZhN8IQnJGv\n",
       "W6yQ01ArI0+GvfquNg5VYJJoxl1ILK6cvRsmcXL2+AbhgkslWSHusYItodpkUa4Z7GBqEoJpljY6\n",
       "jqpnvl1TZDNLbfyoSgS3F4jL46zieuhXs4v2AvATqrtDQr28fLAx9D6ch8uQUIUQxM1jIRSlDtHK\n",
       "+oWj94LRZ7lZEJEczCmnoe2uSqiOw0ROHgEYS8+/5XArxEOGA1QzLcq9WS8TEIRglvwMcPp6AZSE\n",
       "yWaWBI8LcntqCrYJqBSYYuYqiq8Xry5sSpunlu2rs5bjMtTHJFRB6l8ALTJksTUDtKXp9FsI1RaP\n",
       "BaofqOpp/grdeVnl2fyXQx08zt7GVJozk8QumzjlFX++AqonLMqfQWRKApKQTNPPIvhxwGuA77LJ\n",
       "LluSPC7I7WkFmJtOp8MIlRHmBxtWnl6btGygdvD7qtuhAbo02WrWIC69Sm2131c9Cr5zdqhwqeyK\n",
       "BacOPrJXfimcwGzKBJPxZ9jEXeQRgOIGg2qeRTkGUtk1JCGYR/cdffYAxnuW3grlQL1ossuWJK+Y\n",
       "GIjg9tQ4JgvpVUaEH5erlP0MKt9p9KYBHTqz2Hq1Fw5Q5zE899mgwkQHV8SIUHZ9sQLcfITygQkw\n",
       "JoAfej34LoHvbmp48vBhxi6+EvxfQ6DBVOstfrqycnQG9AZTXBKS+XGhLreXHIk8qSsL7ximbNmS\n",
       "4BWNSUFmL2iATp9T0eGQMcTWtjJkCgwqhPo32NgPLTlsPZgHL/q7+kZU4m+BqiMFnX/laUQtOe1O\n",
       "aMlQlfNeAF/HSljkT7iioI2BL882tosGfNFMZ88KcdAX7sdwXaSl+AqYZcrRGbBbimckIZnu2A54\n",
       "WGbvlP5mY9PqomzZkuAVjQmC28MBwgbs/O7I5N/51d5whwTbhXExPzRgrqp2YbyMyZZbiUDEE8BF\n",
       "prTaDCOuHGNQKTkm7Qf5kzNhhAd2QyIHlBezDmx6l/MshLBHy5+CueoaLoy/d7pbD2Rqu1tvPZtj\n",
       "ssWWP65E3ePMu+jSpXQV8cBhfrBJMekhy3a4DxYMHS/V3pX29l2nvyGC1/A3RHDIt/K2RlXxIlSz\n",
       "bso1euQ6QTVkSd7I/wFdw7j0db2b+m//DqjJ1/4FzMYYPaS2oEQAAAAASUVORK5CYII=\n",
       "\" style=\"display:inline;vertical-align:middle;\" /></a><br>(see <a class=\"ProveItLink\" href=\"../../../__pv_it/theorems/35ff7195a7257e3d03a0907b993c9fce02a5cd6c0/dependencies.ipynb\">dependencies</a>)<br>"
      ],
      "text/plain": [
       "each_is_bool: forall_{m, n in Natural} [forall_{A_{1}, ..A_{_a}.., A_{m}, B, C_{1}, ..C_{_a}.., C_{n} | (A_{1} and ..A_{_a}.. and A_{m} and B and C_{1} and ..C_{_a}.. and C_{n}) in BOOLEAN} (B in BOOLEAN)]"
      ]
     },
     "execution_count": 2,
     "metadata": {},
     "output_type": "execute_result"
    }
   ],
   "source": [
    "%proving each_is_bool"
   ]
  },
  {
   "cell_type": "code",
   "execution_count": null,
   "metadata": {},
   "outputs": [],
   "source": []
  }
 ],
 "metadata": {
  "kernelspec": {
   "display_name": "Python 3",
   "language": "python",
   "name": "python3"
  }
 },
 "nbformat": 4,
 "nbformat_minor": 0
}