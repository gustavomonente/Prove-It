{
 "cells": [
  {
   "cell_type": "markdown",
   "metadata": {},
   "source": [
    "Proof of <a class=\"ProveItLink\" href=\"../../../../../../_theory_nbs_/theory.ipynb\">proveit</a>.<a class=\"ProveItLink\" href=\"../../../../../_theory_nbs_/theory.ipynb\">logic</a>.<a class=\"ProveItLink\" href=\"../../../../_theory_nbs_/theory.ipynb\">booleans</a>.<a class=\"ProveItLink\" href=\"../../theory.ipynb\">conjunction</a>.<a class=\"ProveItLink\" href=\"../../theorems.ipynb#some_from_and\">some_from_and</a> theorem\n",
    "========"
   ]
  },
  {
   "cell_type": "code",
   "execution_count": 1,
   "metadata": {},
   "outputs": [],
   "source": [
    "import proveit\n",
    "theory = proveit.Theory() # the theorem's theory"
   ]
  },
  {
   "cell_type": "code",
   "execution_count": 2,
   "metadata": {},
   "outputs": [
    {
     "data": {
      "text/html": [
       "Under these <a href=\"presumptions.txt\">presumptions</a>, we begin our proof of<br><strong id=\"some_from_and\">some_from_and:</strong> <a class=\"ProveItLink\" href=\"../../../__pv_it/theorems/eee90f04ea0977c35390d1c729ecf8a034420b140/expr.ipynb\"><img src=\"data:image/png;base64,iVBORw0KGgoAAAANSUhEUgAAAsMAAAAZBAMAAAAmmD4RAAAAMFBMVEX///8QEBCIiIhmZma6urrM\n",
       "zMxUVFQiIiJERETc3Nzu7u6qqqp2dnaYmJgyMjIAAAAcRTyBAAAAAXRSTlMAQObYZgAABpdJREFU\n",
       "aN7tWn2IVFUUP/N2vt6b99z9pw+zYLLQNdId0LbINdeCtn/C2Y1qIcFBXTCJHDLSLHMMsbUPdirI\n",
       "RdB9FWhY2qAsFSiNrn1pxeQaCGlOWX/YX+JXflbnvnvfm/vuvePMwyIGPDBvzr3ze+ec+7tf595d\n",
       "gAASXfo8XJNA0rW0GAgfu0ZZYNEz1yiuKhuu1kAiTykuk8KRuikOAm9sMXIA1uKzUxeurv8dAf8k\n",
       "pXg/0f+om+Ig8MaWMWQMhpDnmenKrK+CzbuKH7+NUjxIvnJ1UxwE3tgySh5zSwCzUxXaU2rsMVfx\n",
       "482kQ/EYG9VC3RQHgTe2OMlTG47Po0mvrne5Ehp5xWaaH2+0OBRb+7ZsWVf/dhcE3tiZQJY8VyFP\n",
       "N9he5YLx6mT2fpdVAf8bzSjO9fe/GCCjCABvaNGc6X4W4PFFlR2wrM6ptkGWaX48jFCK+wDWBqA4\n",
       "ALyhJV4iK8DZI60vVOrMgnqN3E+zAAkPP1OKH8DOAWNxvRQ7cCJqouPu5hoe6GhXQB46NbIwz1cc\n",
       "ml+cJMN8tZ2uUsOlbFwdidqltaZD416OETK18wDvIke9bvv1siqCLGxkQ5/hXfmEUhwDDTusqwqr\n",
       "kSV74dYMRzGFY0SnlfijHh8/AOxWNKQFzBauvDEJH7RIKH+tm8DUdCkaV0eidqn/CsYqrhwiVuOI\n",
       "0y7CI3fTugPOJJbblIQoTdQY3pO5lGKzFKOrhiwfjsyAT027yeYopnCA9y8r8/WZJVdtB/jclgBN\n",
       "GUhc4BqGrFlSDijUulpNl4JxdSRqlzCElB4SKW5GfrST3gDEfOIx1eS2IUJHoYsXKNbL5LU3VL3z\n",
       "2nobdiVTJr9QUDjAviWq9pqbvaTwGYD7FOEkoYmbbLEiTpSkBPLXunzUdCkYV0eidglkD+8BYaEg\n",
       "aW70tEtxIsUOJILswM9xLy2OcnOti91RrF2Aj/OE0hk9t2kT0kwjyy7K8PBbPoopHIPsV7W3J+7y\n",
       "YZwBTXEK/DgNU7ix3Ya6IY11oZaZrOlSNK6ORO1SI6N/i7jdkTR3bs6lmNCbUBw+jjOaPfzoj+NT\n",
       "4/sq2x3swIwjQhYna1YptEjLMC1P7yOGza1zfBTvcBKUKOD6FJUizTRlYZ0zccMnD6zBr0UCYPbk\n",
       "Vv7qaRn9ElDL/EVGYU2XzLgIYZFc2WVMXDpMwuUv+PaNtktxL1sswPiL9GeZKZEcXSwq+IO3wPX2\n",
       "BCx3MIqbcdZoBLZ+IjR3NhWZZhtOhw1DccRHcbMzyX6CNojsFttrFbQTEHeWfrMMWhbm3CQgvgeY\n",
       "yBUvOU8RdUlJcU2X1LgEoZHUcNlcFPMQfOXpv+e39xfApdiZvs7h4zlCRoYpUbJqa4QVhtffy8Jp\n",
       "Qi/8zii2MKS4w9s86KZrEGqzILKsv/9lpHhDzEcxgYNx7NsBm3Udn4N3fH0BQnSiFUG/SDudl9dx\n",
       "Yyn4V8CtEorV+imu7ZIZFyEskiu7JCu0UZIO0JU11U0eI3JS6DzT/GkviasC5sdGlrsvDj1KntdB\n",
       "KwxFqNYRgQwdxeEeH8V077ZhKC23917Qzzg3RTgsChA+L1OMbZ2dt6YfuWunE9M9+ClKKFo7uusw\n",
       "T3Ftl9S4BKGRjO4afeKL6i6b0IkJGFjRdw3ko7huCaW1nH4i7V4DsTA0GLT1Ezh6D5lUe3YYnIgO\n",
       "AhyWKX4YXymRxuivEjh7hHEYXCbwQaTDhjdpS7zf8Uu/APrNkJgC4xJF8m6sBB/lJRSt3Z6L8RR7\n",
       "Ln1Qz6VnnEAqIXmRbC+HCjuruCSoFWB8A4lW7yjMnWicI0QQGcJxbOWK7mUm68S90F0IZ3BzfGcf\n",
       "1e4sQRxndPilTtxnRIrj50AfWOEkhOOgOx8ZSx7jYCAHg3+WpgFaMFdObV9Nd4fuAv19LCK+OjV1\n",
       "Ic63PiPb1EnehS877pBRtDaa7uUorrj0QT2XFeMI8RCVSKLpzTCtikvUwJy/B033RXL8lTyTt1fO\n",
       "C0Txg5h86E/ZzmnU94elgqS14losHqCFnBsSXsnVsgXO1nLesIfNJlKxBFdWomIwudOXF7suZShx\n",
       "meAhcltimFchTO3S07LaQa/uqv+wZOUFihN5WVPcUfCH67bpAJ95RVfbk69Y6DlV4My5CCOjdUYn\n",
       "Vcpq1CbYWRIpdlzKUHTp6QSiaMsmuB3m5au4dDUjk/ju374U5Si2FNqVKXakpND8FiwVQipXR4GY\n",
       "sqqhamNWXS6t//DeORMIHvt//o8i1cB3ol1LM/8Ajto63wVk3ecAAAAASUVORK5CYII=\n",
       "\" style=\"display:inline;vertical-align:middle;\" /></a><br>(see <a class=\"ProveItLink\" href=\"../../../__pv_it/theorems/ed6ce7409152509d7f3b2a9373e03d73b0b65b950/dependencies.ipynb\">dependencies</a>)<br>"
      ],
      "text/plain": [
       "some_from_and: forall_{l, m, n in Natural} [forall_{A_{1}, ..A_{_a}.., A_{l}, B_{1}, ..B_{_a}.., B_{m}, C_{1}, ..C_{_a}.., C_{n} | A_{1}, ..A_{_a}.., A_{l}, B_{1}, ..B_{_a}.., B_{m}, C_{1}, ..C_{_a}.., C_{n}} (B_{1} and ..B_{_a}.. and B_{m})]"
      ]
     },
     "execution_count": 2,
     "metadata": {},
     "output_type": "execute_result"
    }
   ],
   "source": [
    "%proving some_from_and"
   ]
  },
  {
   "cell_type": "code",
   "execution_count": null,
   "metadata": {},
   "outputs": [],
   "source": []
  }
 ],
 "metadata": {
  "kernelspec": {
   "display_name": "Python 3",
   "language": "python",
   "name": "python3"
  }
 },
 "nbformat": 4,
 "nbformat_minor": 0
}