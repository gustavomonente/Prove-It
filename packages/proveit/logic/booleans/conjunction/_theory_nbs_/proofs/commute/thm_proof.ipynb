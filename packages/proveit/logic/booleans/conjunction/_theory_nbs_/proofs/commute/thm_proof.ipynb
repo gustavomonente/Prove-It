{
 "cells": [
  {
   "cell_type": "markdown",
   "metadata": {},
   "source": [
    "Proof of <a class=\"ProveItLink\" href=\"../../../../../../_theory_nbs_/theory.ipynb\">proveit</a>.<a class=\"ProveItLink\" href=\"../../../../../_theory_nbs_/theory.ipynb\">logic</a>.<a class=\"ProveItLink\" href=\"../../../../_theory_nbs_/theory.ipynb\">booleans</a>.<a class=\"ProveItLink\" href=\"../../theory.ipynb\">conjunction</a>.<a class=\"ProveItLink\" href=\"../../theorems.ipynb#commute\">commute</a> theorem\n",
    "========"
   ]
  },
  {
   "cell_type": "code",
   "execution_count": 1,
   "metadata": {},
   "outputs": [],
   "source": [
    "import proveit\n",
    "theory = proveit.Theory() # the theorem's theory"
   ]
  },
  {
   "cell_type": "code",
   "execution_count": 2,
   "metadata": {},
   "outputs": [
    {
     "data": {
      "text/html": [
       "Under these <a href=\"presumptions.txt\">presumptions</a>, we begin our proof of<br><strong id=\"commute\">commute:</strong> <a class=\"ProveItLink\" href=\"../../../__pv_it/theorems/b971d3b702592e879d361afed3f40b84627dda740/expr.ipynb\"><img src=\"data:image/png;base64,iVBORw0KGgoAAAANSUhEUgAAAK0AAAAWBAMAAABAjAHGAAAAMFBMVEX///8QEBCIiIhmZma6urrM\n",
       "zMxUVFQiIiJERETc3Nzu7u6qqqp2dnaYmJgyMjIAAAAcRTyBAAAAAXRSTlMAQObYZgAAArhJREFU\n",
       "OMutVU1oE1EQ/txk2+xP2pxEUKR40Yu2EIggRSteRJBWD8WbASv0IlYFQVGsIJpWIfFkQKQrHgo9\n",
       "6EIv9mStB6WKxAqCiLrgrZeW/plGap2Zlw2v1RRWfbDDm5nMN+99M/MC/NV6sKF3jL6AN58jwtr9\n",
       "JD6snsrkOta7TAJsKACvWZmOiNtUYLkFiC2KbmmuWUpL2EU290fEfS8nWwHi8wqsreb6UiExQSYP\n",
       "cP2IuJdYGMtAck70E5drDI2SFQ/JMzkyci8irNXHMpEiAAXYsyN0JY0FPj/RXs7lrkTENeTazVmY\n",
       "Fz05ZNAYuo44xA5c+sFpYEBMSh6ef9ErVUFY6oSo8Xx7ZiC0lFiePDN1SxHo+iGTdofJzCSpcIek\n",
       "fLRfUBdJwU3JLizmV5XgHfC8amkUlNYC7M1KhxUoTxwWV9LpY6Mh6R+tiCeWhVPRce0D4kYGeOYp\n",
       "0ybJdJ2xJcOU3JpXdzpT5lahZnNLipzJCyp3C2KBjusOqyY6D+yHjrvEuC28o+J1I+RuexXXCsRm\n",
       "tuTE86QLezwd93hCNvYijGmdB25fnOUMTls4KQ5955gObpiBHjY1YK/EdO7elYWOm41JV8Xnpm5C\n",
       "rxu3r1kOp8+RS92nb6ZaN4xK3Ce0SsxbYKeOm/SNWaEjgNFXxeU2QhNV9+CgTEWVC9XXecoSG+c+\n",
       "ZI7sb2/ycv07wJCv4T5ufyVlTIzD+lHF5Ws2zCyle2+rqWBBk2Hnf3p4ukp1auriEzFezMMQK6DY\n",
       "zoKGuw+WvC3NPuLLa+a4tqSKpm4Zru2OUmTJGoRVgbVN4yFOVK6gSFk93B1f8+5ssCZqlSjDyl81\n",
       "t+LlfLq3Q8PN96P4vXTMd6+lMzdqcWoE6z/PwTqDoyv64+n/4V2vv35LO1YH1ylE+h/6uN5QqoOb\n",
       "xH9cbf8S/AtLBLHrZz6oeQAAAABJRU5ErkJggg==\n",
       "\" style=\"display:inline;vertical-align:middle;\" /></a><br>(see <a class=\"ProveItLink\" href=\"../../../__pv_it/theorems/dc8d8e889281ec83f59e0a146a60af0340a7b09e0/dependencies.ipynb\">dependencies</a>)<br>"
      ],
      "text/plain": [
       "commute: forall_{A, B | A, B} (B and A)"
      ]
     },
     "execution_count": 2,
     "metadata": {},
     "output_type": "execute_result"
    }
   ],
   "source": [
    "%proving commute"
   ]
  },
  {
   "cell_type": "code",
   "execution_count": null,
   "metadata": {},
   "outputs": [],
   "source": []
  }
 ],
 "metadata": {
  "kernelspec": {
   "display_name": "Python 3",
   "language": "python",
   "name": "python3"
  }
 },
 "nbformat": 4,
 "nbformat_minor": 0
}