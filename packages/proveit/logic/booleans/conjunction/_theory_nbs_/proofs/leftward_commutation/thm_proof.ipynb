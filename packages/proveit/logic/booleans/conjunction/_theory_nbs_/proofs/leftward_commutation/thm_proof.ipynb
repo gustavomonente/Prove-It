{
 "cells": [
  {
   "cell_type": "markdown",
   "metadata": {},
   "source": [
    "Proof of <a class=\"ProveItLink\" href=\"../../../../../../_theory_nbs_/theory.ipynb\">proveit</a>.<a class=\"ProveItLink\" href=\"../../../../../_theory_nbs_/theory.ipynb\">logic</a>.<a class=\"ProveItLink\" href=\"../../../../_theory_nbs_/theory.ipynb\">booleans</a>.<a class=\"ProveItLink\" href=\"../../theory.ipynb\">conjunction</a>.<a class=\"ProveItLink\" href=\"../../theorems.ipynb#leftward_commutation\">leftward_commutation</a> theorem\n",
    "========"
   ]
  },
  {
   "cell_type": "code",
   "execution_count": 1,
   "metadata": {},
   "outputs": [],
   "source": [
    "import proveit\n",
    "theory = proveit.Theory() # the theorem's theory"
   ]
  },
  {
   "cell_type": "code",
   "execution_count": 2,
   "metadata": {},
   "outputs": [
    {
     "data": {
      "text/html": [
       "Under these <a href=\"presumptions.txt\">presumptions</a>, we begin our proof of<br><strong id=\"leftward_commutation\">leftward_commutation:</strong> <a class=\"ProveItLink\" href=\"../../../__pv_it/theorems/661961a6c8072fea5a660561bfd67912f179f6310/expr.ipynb\"><img src=\"data:image/png;base64,iVBORw0KGgoAAAANSUhEUgAAA5cAAAAyBAMAAAA6gjIWAAAAMFBMVEX///8QEBCIiIhmZma6urrM\n",
       "zMxUVFQiIiJERETc3Nzu7u6qqqp2dnaYmJgyMjIAAAAcRTyBAAAAAXRSTlMAQObYZgAADL9JREFU\n",
       "eNrtXH2MVNUVP/vma+drlz8KxSLtiAmuibBD1oLKmh3bpJg2zc7SVP3DyIQFgqQt02CMrkWG2sJY\n",
       "a3baJopa3UEbxDXFsWSjJBhHoWlLFSbFtrSCu5b2D0kqWxYWFoTt/f547z5mxswfs7N7CW/vO+/c\n",
       "M/ed3333nnvebwag8tI0OVmEOisHYbqXXfRPZHJyVjXNmvY9k6+zO4kUpz2Y3hHyJ/TMc9WBmay7\n",
       "O1kIM+Uj9tc3xcEMy/4/Px1wC+cMwuZiY4C5M8FroQy9oZHqDNznFEU3jnes/0nlJq6mH2rr/X5Q\n",
       "Xwn+Nrlt/bZcNeYvrMvez8/uN33IFxoDzMdErYX6p2VUuermMkV+WlaD4jbRuOhKOuVuVmz6apPr\n",
       "ShBeUtLVryCALpXvpbDRisbncIGd7DGpvt4QYIYviupRtn5cVC6fdGkm5dHTMqJribPKKuT97rhT\n",
       "7mbFpq802d2HDl05Td13Bh2WlO+l7E4MwMNxisQMqoFiI4AZkC58mM44eyfkVd92c+ytyF/tks/F\n",
       "PX2s0o5kwzGn3M2KTV9p8jFWuUNXt86hQ3epbC9ld5DXvZf5lGoCLDzRCGAOCyiCafqkWWflVf/X\n",
       "YsZWirzULhZdWLOAVbYin30x75S7WbHpyyYeMpt+R1dvxgvBQLFsL8XH9uPb+4yL/23S3dQIYD4k\n",
       "ahZ9Rr8Zviyv7oG0sZWUe/Nvi0ckNBJgtXGAuzeAU+5mRddXmgwQjVd09VYcqXWnyvVSfuwF3NFx\n",
       "Lj9gHNT5qQ+mTz6GzQSUUIKsSPdQ2Z/RP1OR8t/gBSm0ka5GhQiNMnzjJ9oekVaE3M0K11cyGazJ\n",
       "kZhBHS+B0F7k5t16KbuD78j6TNtURj4lRSwyr8WmPpge2fsAuXMvBMfQvLaMytLwgrGZlCdgADlk\n",
       "BbUAQbqtsdAKtDMlrAi5mxWmry7lrMmWpEEdL4GwMcHNu/VSdgevsX4xbN8wBksjUx/MJunCJrL2\n",
       "3dWxFE9KFJ1oDPymDku5r7djY4bPXH8BWEsfcuQT6xK3IuVuVri+LLzJV8jsl9fV8RII/xPm3Xop\n",
       "u4PX2FaB0yqTI6yJqQ/mqpINTHT4sgAzkAdfyjTmhdyL2qEx/SQ5QcHjXXRRQxetM8LbQu5mhevL\n",
       "wptsIaFmUlfHoy16WZh366XsDl5jh0tXBTN4eeqD2Z7Tp9kw+v9DAeZe9P8TQyspR20CyAFkWIfj\n",
       "PPGAhwie1qgVKXezwvSP/nVBfMFarQnZ90R0dbIE7swIMF16qXQHrYehuRC9feX1wO+NrZlyEMyZ\n",
       "+mBuBT0Aeo6ldKifPmGushchDxZIxoj6AHsuHOdDZJXwtpS7WOH6H8yHOfmFWpMBHJcc0tXxEhj6\n",
       "VHTSrZdKd5DT94xA9I5SUw5kVl0v26c+mHOV4C/O9pr9OeYnX4ZOYijWQ1Np6AqrKPKn8SCYACsD\n",
       "PHYl+/SP0fw7N8+9LeTCCjlIK0w/+GIazkKn1gTvk/bm9c7gfOOKuABTXBAdJBWlO2h0etE+8tkb\n",
       "oBW37zR64ggDkwRCJyoFs4Us2qW6wDI0JuveNIT6r+ThzclNzE9+vIpa+NkI4OnoQV4R8t2TpyDc\n",
       "fz7eTOL6NfiA9+k/mOxdmi0Ibwu5sEIO0jrX98eQMx/RmsBL23ppUkKo+0+PL11/q5gvFTsPap+h\n",
       "dmfdY/iRXE1TSf8xZ0+SFEyyyzlVKZhk89OSr49tphp1PKzUV7DoBhXnXOKQN32XxU7IItitGORm\n",
       "K8g5ViY4mjQ3MXRmBVytl04bs6ETnYfMeRCyeUVg7sCrR6ZSMInmjvqYZcPqfuCoUn+jKjOtllle\n",
       "nRUYQM9mNFOsWL9K88FReGDIJdGO5uc4BRM/ZuYch3HNPEWSFnVRoueUk2YZcf5qy+qqUg9mGlGV\n",
       "VuAbKGgJfq/iOata894U3FRyeQVGt0cYzOihwcGnKw+Ajg8OvpKuDzCtCXUBzcB0KI+7gJlh0eyF\n",
       "bPZHlYPZms1uL9bHjUXUd5fTgzYSdXmT3TTCwFyL8WbZ5vJg+pNsRmvOXX3o3Dl2YL1BxS6Obuu0\n",
       "8Pmd42Z1s5jOjxdhpjBk0gzMr0NoROxhnSHjpoNwXUqC6Y2zeXs4YRw6IiMcnQURwy7WJg7+C0Jb\n",
       "mdx3jVFdE3+0eNlyXvePzqDIE2CzGJgBsEou78lePXA7vBnJe/JK0iANi8ga1WXcbL4k3id6Uiqr\n",
       "A1zEA2hIHGNyWGdUF+LQ/o6SFQl+mJwB0xXMSAm/Bn3S9Jg98Wwe3orFI2oG6H36MjXyspEac2iT\n",
       "sB8Dz4jhY3UxXq1XMjncYFQX4mP7BsGy4FBpZpp1uIlPs8ERnJ7HkSFO5loLk6yGJ2BUhoZ+qYH5\n",
       "Ak3yr2w2hY++WFZsfZKw2BCo62IL4zHI5PCOUZ2LvXj0WJb3OF9DIxMzKNoDIHh8DavgZO4GK8Vq\n",
       "OZrpG4r89l4VzOanyGKZ8qDBsMFu1A/LILiZVLsXtSFLfjueVCxGlBgR3Th15bTIxLiQTKLlWSIS\n",
       "WtY559a6NB2g2+cEM8XB3ItgIdlmnMxNeIqslg+RiXQIigdUMMPkFXm0YI3CvV+yG/0Q2gF+SqqH\n",
       "8fzoe8cO5mFtNm0tKnK41mmRiulyTAC04NakI9gSZTf9c191zjEyp1/ctrT0a33VqR07Wmc2V1A0\n",
       "6rTfEd+3xjmYrWhdotnm1dDDCBg4ret7KJv9MQLz+YAKJpCM6J7OP15kaX11537yvf480GD15yi6\n",
       "KbAXC0qhYvFkIjBDJSbH3zXoc6rzryDcnc1mYwjMIs9ohZ1gsjeDp9WH1S0/Jqsqc5r7yZqPRvl8\n",
       "XbOG7GiN2VyJLZU6HXIMvteKHMxonmebZ0MbDPhordMHKfpkeldqYP4TH26D4Dmn61HYO5BkiV70\n",
       "yd05J5hEHF1+4qv7sTFPhr+9vUS/a9DnVEfio28dx1M4fTKLPPLyXXYMeHpJpTa7cpgVucqcZpTk\n",
       "EGazeiZ0zdqxo3VmcwW2dOr0u3Y1nmhnI8WCHfngKHoij0Vo7YEh+D2+8gHAcQ1MEoygbl4mrke6\n",
       "P+MH+DYyVIoWAZ0FL0LwWvKqTl4X4vBimBcu4habIfQnrOFDckwJ7dPVmfh3GTQ5RPCnWxF4T0zN\n",
       "Y46gjg5kldrsxmFW5CpzmlOSW/B8752la9aOHa0zmyuwpVOnd9r13i6oYHoOQk/Bm0Lz1FOHaO2m\n",
       "EjQjFe+jCfpMaGD2Z2DH+RIGs6eANvU9OXwoNF+AYP9mTwJ88+APYx3rE5TiMo9dz0nx2lAaqfUU\n",
       "INL7bp6p9+YJmHZ1LPYn8cvaJ9D/vx++5b/iFh613xPLMavUZjcOsyJXmdOcktxFvBPXNWvGjrYz\n",
       "m8vb0qnTLfaEzZEc2JgGBUetDa2ZtnSeVvpMrQJhysahJ3nlRNbS4ThWK9jl2KJBPQCLUPcttGZq\n",
       "H99lv/fr6bShUJtdOcyKXGVOM0py8DzRyemaNWNH25nN5W3p1OmIfVImyVgVTPndv3DOPTerlpVj\n",
       "BUOryI0yePa1L1cjaV4LpayE/0bZdp9q0akOu2C/ac8xbF+QaeaDUJspIcOdwyzllDm9iwZBjJIc\n",
       "OWPQrB07WjCbWSfL2+LUaTaX2COguXYwo4ba1cF0b6W5vmQWKy0qU3eUVXYHUNcRarOvI80eajOH\n",
       "Wcopc9pL1RklOXDOoFk7djRnNvNOlrfFqNP8ubG9hAyesYNZQZ6hfknQtJBvnTJqM0PHhcOsyClz\n",
       "ms5cnJLcROLbkK5ZO3a0YDazTpa3xanT7Jm3ZaUbgQTtGTWByajNzE8uHGZFniDMafplFU5JDozS\n",
       "XZmmWTt2tGA2czDL2uLUaTOYzempD6b3rGmaZdRm6ic3DrOUM+Z0KznhlGS6wyzqmrVjR3NmMwez\n",
       "rC1Onca2QDSTCaDY1AcTNhkCIEZtZjfsxmGWcsac7hEZpL18EYrkdc3asaM5s5mjUtYWp04jW9cY\n",
       "AqD2fAOAaQ9nD4CgNjM/CTKxG8mYM6fbiDsybDcFaHMTvg00TTd2tG65InY0ZzZzMJ1Maxtfm1Gn\n",
       "sS28mnuK+n3PgQYAs8l2UysktZn5SRKSzSRjwZwmG2pJSQ7dsu5mtp3nFtzY0brlitjRgtnMwHQy\n",
       "rXW+tqBO+2MkK9WiA9EYX4O3UxkCyrpD/USCeSeH2SmfnQQzJdlpoYbsaAZmFbY8RXT+sjHNPNV/\n",
       "OuakMdFu3IuVKaOxilVryI6uspPIVuBbSUei/fV8Q4D5C1uPJK00uGw8Vo2lzkSlmjVkR1fbSWTL\n",
       "et/xCqxRftTJPrJ3w3QoNparP94YYMJS21CfFrSRf+inx+BzgVl/P1Hqj8F0L5/3J0rr8MeDb572\n",
       "YO6iDxj+8eD/AzOKYU1L5LYDAAAAAElFTkSuQmCC\n",
       "\" style=\"display:inline;vertical-align:middle;\" /></a><br>(see <a class=\"ProveItLink\" href=\"../../../__pv_it/theorems/5d942398fe1f1e9156fb57c7dc5ad6742bbaacb50/dependencies.ipynb\">dependencies</a>)<br>"
      ],
      "text/plain": [
       "leftward_commutation: forall_{l, m, n in Natural} [forall_{A_{1}, ..A_{_a}.., A_{l}, B_{1}, ..B_{_a}.., B_{m}, C, D_{1}, ..D_{_a}.., D_{n} in BOOLEAN} ((A_{1} and ..A_{_a}.. and A_{l} and B_{1} and ..B_{_a}.. and B_{m} and C and D_{1} and ..D_{_a}.. and D_{n}) =  \\\\ (A_{1} and ..A_{_a}.. and A_{l} and C and B_{1} and ..B_{_a}.. and B_{m} and D_{1} and ..D_{_a}.. and D_{n}))]"
      ]
     },
     "execution_count": 2,
     "metadata": {},
     "output_type": "execute_result"
    }
   ],
   "source": [
    "%proving leftward_commutation"
   ]
  },
  {
   "cell_type": "code",
   "execution_count": null,
   "metadata": {},
   "outputs": [],
   "source": []
  }
 ],
 "metadata": {
  "kernelspec": {
   "display_name": "Python 3",
   "language": "python",
   "name": "python3"
  }
 },
 "nbformat": 4,
 "nbformat_minor": 0
}