{
 "cells": [
  {
   "cell_type": "markdown",
   "metadata": {},
   "source": [
    "Proof of <a class=\"ProveItLink\" href=\"../../../../../../_theory_nbs_/theory.ipynb\">proveit</a>.<a class=\"ProveItLink\" href=\"../../../../../_theory_nbs_/theory.ipynb\">logic</a>.<a class=\"ProveItLink\" href=\"../../../../_theory_nbs_/theory.ipynb\">booleans</a>.<a class=\"ProveItLink\" href=\"../../theory.ipynb\">conjunction</a>.<a class=\"ProveItLink\" href=\"../../theorems.ipynb#leftward_commutation\">leftward_commutation</a> theorem\n",
    "========"
   ]
  },
  {
   "cell_type": "code",
   "execution_count": 1,
   "metadata": {},
   "outputs": [],
   "source": [
    "import proveit\n",
    "theory = proveit.Theory() # the theorem's theory"
   ]
  },
  {
   "cell_type": "code",
   "execution_count": 2,
   "metadata": {},
   "outputs": [
    {
     "data": {
      "text/html": [
       "Under these <a href=\"presumptions.txt\">presumptions</a>, we begin our proof of<br><strong id=\"leftward_commutation\">leftward_commutation:</strong> <a class=\"ProveItLink\" href=\"../../../__pv_it/theorems/541cb311ed4d8577e561620a1c3e6a9d466b4e030/expr.ipynb\"><img src=\"data:image/png;base64,iVBORw0KGgoAAAANSUhEUgAAA6wAAAAyBAMAAACqkUvZAAAAMFBMVEX///8QEBCIiIhmZma6urrM\n",
       "zMxUVFQiIiJERETc3Nzu7u6qqqp2dnaYmJgyMjIAAAAcRTyBAAAAAXRSTlMAQObYZgAAC2NJREFU\n",
       "eNrtXH1sFMcVf967vfN92f6nBEKaXqhEHKlgI7fQFEccrVSiVq3PrprwR1SfMCAHNeUiKpo4IRxN\n",
       "C5eQyNdWSkiixEtTtcFRybUIJUhEuRSqtjSBU0hT1AB2SvsHSA2ObRxjPtyZ2dmPmX1n30ZndGff\n",
       "INazb9683Z3fzHuzb382QPGlZnIyB2VWjkK1GCWY0H+emPzETbeaQ89pZfYk4VwVTat8V/+x77k/\n",
       "uII1XnYPsriKpa1EBnmlvbJhDTWI5y/OBfBCmYJNT80OWPfGxOCSYj/UQXdWfoDM+81jLd0/c7FO\n",
       "ptAPNnY9EMhJ6uMb0/e7uMUPJnd27zTgvH/a8ahwWB8XT+v0B68bsskCBbrapvxFRLuGzJBV8eKt\n",
       "SPr2LrflIbQsL6rXk5k3kEXvBrUB18lcuMLr+6f1XpUNa2hCPD+p/zhrF9c1433PWUvnoubU7iQ4\n",
       "tDUXb0XSt3V5pYccVmUk9SiApwG7G8BsgDpMDsuMfWK04Ig8Ohtg9UuD/bDu9A5ctsnW9qBd1V0m\n",
       "lq+uyji1m4hsIFq8FUnf1uUjqrJaVidD6b2G3Q1gNkC5RA5tee7VGwqOyFuZWQDrgOi7Akl99Smj\n",
       "NuH6RWhX39dNDPJNMaf2DjJ6N2nFW5H0rS4e5jq/J6n30tu9it0NAHbztTSu9BkB+j/TTfTKhvUh\n",
       "8VTRn+lboWu2/cqgH+26H5K85tXeyju1xwDu3eTCiqhv69LHNPZJ6uP0wmOIHcBskFhMN4NtPN0A\n",
       "Rwpv3SYqH1Z1VDyvZfAEYywQreVxKBvOYn3/Tv7p5Tc00AU3i9rq2JnGR1xYMfRtiRLe5UQUU6d3\n",
       "qFwFNSXfDWpDj8XQZKzWs6zxY1bEOBQcrnxYPVKM8bMx8EJghHi9FVwGAfR1Jwkv8VoM+sjQrBG1\n",
       "FRKe9yaKt8L17TfDu2yPY+o0VPpG1ZakfDeA2dBjMWw2gsXrhcfk48qHtSYhnbPHvqdlOXVxOk7w\n",
       "HsAGzFlFwac/jdrVsjll+DVTu5bMGOVK8VYMfasYXb7AAq4mqdNQWd8A3qRkRyzWZWksBjPT21l4\n",
       "TJoyFQ9rZx6DlRxutWAlW8l7sHWggapPCi/pR5bE06J2PWlUhou3Yuhbxeiynb2JxSV16nwH8gas\n",
       "VoNYrMvSiRq5VgSsffmKh7UpgzjhEPn/oAlrqNlMUgjlAPl/ntVIHz9ZapdFbTpjfKPFW+H6J/+x\n",
       "qHnRBqELe3sKy+okVAbngwGr1SC+lpuXZbF4b4rZN56Nx9YE5sEqGtYdgGyZXuBpozVm3imEpBLO\n",
       "88GEQJZlpdQGUZvOmM5U0VYM/fc/D/O0xUKXPrrZOSark5HcP2jCajU4kmb6ZWksDpKwSewvMLZM\n",
       "eKlNVjys8+WNYzN/d+3NGICs5b4MXiODGLwO/MB2oH4a8J6lQ3EZlJSgDR+RIZ+vOaywzqYpywrX\n",
       "D/w6CaPQKnShb1sHmI5Nncw77xYwYDUbrBuk17DdDk2HrmkGap++wbQWHpPwkA4r22qdKRbWOhbh\n",
       "82WBanBEEpBBCvZe1+CNyS0GIOvpgb7T+6lz2gr84KNRWCHr6JXJCxDq/bS5Nipo/2iya3k6Cw4r\n",
       "rLNpyrRi6vuiZNk/InZ5eWeXvoMV1Dc+njFhtRq2Ctcwbfguji3vvpNWol7qVv5beFAil3RY2QvT\n",
       "hWJhZe9RdVp5vLYOy5KHbfU1/O2FKjq6etnR5nxqvo9ru7NCRkhJBYbieBenOocVaShw2Zq4JxeH\n",
       "YHK6QWmHPTTApIqFlWnuKQ8fHLoiS07a6q+7slWv4HJ3VqCPrKdIKlf8IyTd2vd/Oz5Vqp+7sHa2\n",
       "9PAUChpbL7CcSFkU3d8I+wVrt/qr7etcZTZwTpRLK/BNss0J/LBoZxZYMRZ1aV95d6oPc3oWk8Ia\n",
       "Odbf/2zxW6bT/f37kuUBq3LZMVVTMBfKE1M1jvOd8Hg6/WjxsNan07ty5fF04QmHaE6QXiKZqVpv\n",
       "5bBuoPDzVPf0sPri3NXVZqaeSXePHOlGVGRxZGerQs/vHsPVcbHuOCegWhzlJg7rNyA4aGbJnDur\n",
       "LUfhtoQFq7eZu/aBGDqTzI8qkQYII597JXHg3xDcweXqAlRdEJ9dumKlUfcNVUF0lgc5rH5Q8gU+\n",
       "4b165C54I6x5NFs6IglLWBhbhb68vmzmLT0JBycFEfeRyXGKy2Ejqm6Kg4db8ko48GG8CmsRsIbz\n",
       "9Fvt09jS2/28Bm9Gm8P2LNO7+hff8O9Qds+xLUbNHwXPoFNBEtOo3sHlcDuqbopPHeoHRYFj+aoT\n",
       "nqL8hMMaGKRfCeiuMnJXxxeVxXFeo+6ZlIMHfynA+pL+raGjFtt1qtG0UX0tDkuRnb4oVigy/VwO\n",
       "b6PqhthL55GieE8bsTZ8uQpi4S0TPLEe9FR3ZHW+ZpOS4LWMnlc8GP79fXZYa59hQTXhIYt2k2zT\n",
       "BysgsI1V25Y0Eks+GVldbC5Gc2600Zya0yIX08LylopnmZk5Uy7NzZ1waMqd8DwD1gMEIJbqfv52\n",
       "qI95crymBZmbPQi5I3ZYQ4wwEMkqQ3DfzbLND6EJ4Oesepx6T/VtGdbjgq+tz9nkcIvToi7WwzaD\n",
       "UoE7447tmfTeWgL6N87ZdkcJ/4AmimP4O8oM0b9JGTFgrSfxS091ryPnOnNkHawG9aF0+qcE1hf9\n",
       "dliBJR33t/51gn9dsI/FuXd6NdA3uk+R/VCWf7CwFV1srlYycME8l1Puco9T3aA035tOp6ME1pyR\n",
       "mAk5YC0h/RvjbLulhM8n8f8S3jRD9G8ymlcNWCOaker+HDRCn6rXWlVI6KvV2yHA+i96+BoELjlB\n",
       "IFvmvjhPMJN7aMs4YWXiyMozXzlMjXlSxifmK/pvGvQ41Yn45JunqYPXV2vOpERfk5+pdPRvnLPt\n",
       "jhJO7887gl90pujfZqqfzx4F9miBIbJKT4X12o8Pwp9py/sApwVY2faFPOA1BgLRfdI4wHeIoXwk\n",
       "B+QsMAGBW9hXRKvdFIeWwsJQjvbYBsG/UQ2VyCn7tUdU5+I/pojDCNOrK2F4Jyf4G3spHf0b52y7\n",
       "o4TT5GZkGL/oTNG/+fcPA1bPUWjPehNwHp45pte+lIda4iW8j8X0dSLA2puCPZ/mKaztWXUBtGfo\n",
       "IVs7DoHebZ4YqAvhLyMt3TGdpbOQt2cs8YZgkqi1ZyHc9SeNq3dpDFZZnYp9cfpFeTf5/8/jX/2f\n",
       "+QiPyS6rZPRvnLPtkhJOaWt7e/CLzhT9m78e2NkRWUetkcRWKXkolB6slz+kE4r0E812YtWSoWaq\n",
       "lpXl1CKi7oclZOQVEluFy6+Sbqd09G+cs+2SEl6fAHWrhl90pujfPEfTju2bC+2gZVg7RrJIr/Ad\n",
       "AIcM59K00jqxasGEEvPdYfU9ZLfoVIffwmEspzUgea7S0b9xzrZLSnjnA+/tyuJNpaB/F8AoJcEa\n",
       "QWpTw1q4lwBCHhfbehSn7iid0rCWjv6Nc7ZdUsJJKA7Ow5tmjv7NGHFV+jdO/8Y52y4p4fQTRlMW\n",
       "barSv6coniEM1lgJ6N84ZzvhjhJOQ2dTFG2aOfr3Lqh4WL2jiBMuCf0b52y7o4Sz1+rNMSvRXmL6\n",
       "N15mwa9WwRZky1QS+jfO2XZHCaehWB23JdpvBP1bmQW/CClvhUtH/0Y52wUo4aZlRtm29OvITFn9\n",
       "pC3RfiPo33y7Udmw1oi5+NLRvwtwtlFKuGmZVUx938Wxlu7d9kT7jaB/z4o/MiDTL0pP/8ao2S4p\n",
       "4Wai/UbQv3luucL/gM85NNU/3bsdUgrRv7HizrKRaMfnZYnp36GbZwWsvxDvqOT0b6y4tGwk2lHI\n",
       "S03/niV/bkua7XOe/t0FswJWWC6eznH6dyT1mWAtvz8864tCtZjlM/7h2TL8M9FfroJpxSD+1fDE\n",
       "5Cf/BzGubapFesDlAAAAAElFTkSuQmCC\n",
       "\" style=\"display:inline;vertical-align:middle;\" /></a><br>(see <a class=\"ProveItLink\" href=\"../../../__pv_it/theorems/ad7d2cb00cddddf4081cdaae7ca4bd85d6b1fc6a0/dependencies.ipynb\">dependencies</a>)<br>"
      ],
      "text/plain": [
       "leftward_commutation: forall_{l, m, n in Natural} [forall_{A_{1}, ..A_{_a}.., A_{l}, B_{1}, ..B_{_a}.., B_{m}, C, D_{1}, ..D_{_a}.., D_{n} in BOOLEAN} ((A_{1} and ..A_{_a}.. and A_{l} and B_{1} and ..B_{_a}.. and B_{m} and C and D_{1} and ..D_{_a}.. and D_{n}) =  \\\\ (A_{1} and ..A_{_a}.. and A_{l} and C and B_{1} and ..B_{_a}.. and B_{m} and D_{1} and ..D_{_a}.. and D_{n}))]"
      ]
     },
     "execution_count": 2,
     "metadata": {},
     "output_type": "execute_result"
    }
   ],
   "source": [
    "%proving leftward_commutation"
   ]
  },
  {
   "cell_type": "code",
   "execution_count": null,
   "metadata": {},
   "outputs": [],
   "source": []
  }
 ],
 "metadata": {
  "kernelspec": {
   "display_name": "Python 3",
   "language": "python",
   "name": "python3"
  }
 },
 "nbformat": 4,
 "nbformat_minor": 0
}