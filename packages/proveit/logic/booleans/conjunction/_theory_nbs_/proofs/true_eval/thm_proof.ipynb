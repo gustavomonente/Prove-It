{
 "cells": [
  {
   "cell_type": "markdown",
   "metadata": {},
   "source": [
    "Proof of <a class=\"ProveItLink\" href=\"../../../../../../_theory_nbs_/theory.ipynb\">proveit</a>.<a class=\"ProveItLink\" href=\"../../../../../_theory_nbs_/theory.ipynb\">logic</a>.<a class=\"ProveItLink\" href=\"../../../../_theory_nbs_/theory.ipynb\">booleans</a>.<a class=\"ProveItLink\" href=\"../../theory.ipynb\">conjunction</a>.<a class=\"ProveItLink\" href=\"../../theorems.ipynb#true_eval\">true_eval</a> theorem\n",
    "========"
   ]
  },
  {
   "cell_type": "code",
   "execution_count": 1,
   "metadata": {},
   "outputs": [],
   "source": [
    "import proveit\n",
    "theory = proveit.Theory() # the theorem's theory"
   ]
  },
  {
   "cell_type": "code",
   "execution_count": 2,
   "metadata": {},
   "outputs": [
    {
     "data": {
      "text/html": [
       "Under these <a href=\"presumptions.txt\">presumptions</a>, we begin our proof of<br><strong id=\"true_eval\">true_eval:</strong> <a class=\"ProveItLink\" href=\"../../../__pv_it/theorems/bb4295043db273a08b8ff7fadaaac510358372550/expr.ipynb\"><img src=\"data:image/png;base64,iVBORw0KGgoAAAANSUhEUgAAAcwAAAAZBAMAAABOcQOdAAAAMFBMVEX///8QEBCIiIhmZma6urrM\n",
       "zMxUVFQiIiJERETc3Nzu7u6qqqp2dnaYmJgyMjIAAAAcRTyBAAAAAXRSTlMAQObYZgAABJJJREFU\n",
       "WMPtmF2IG1UUx/+bZJKdTCbrgwq1IMGK+raBFQu10qhIQRDSFVqlosvavvTFlMIurhXzZmopCQjp\n",
       "ouCmVNyyQg3NgxYqroogqcjQUqiU1sCK0D60S1vptrCt92tm7szcmWmMSBUP3Mlw7v9m7u9+nDlz\n",
       "gWhLT7+Nf7ulpvfGSTL4L1jzf8x/BlO3eBnMjkfXNNGjP+ejMGMUA9oRUYhpvf6avi6FkIa/cv00\n",
       "tSle08RJ6rsUhRmjGNAuikIsvyz5GyGTL91fcW+zqhE65tQ0MUvbVqMwYxSDmVnkhdqFW1LFklqf\n",
       "L7pNr7Rc/3dhmKymiTzR5tpRmDGKwSzT4IWOe+em69febyn1r8w4t59vkmb8UCjmIYZpdhcWDkaG\n",
       "oBjFYHZQFDo7ievSZnuuoNTveMS5tUZL0iyXwjBpDYm0K7Xa3uhIG60YzNaJQuxFY9X1H0VFJc/2\n",
       "nNCfan0jBehcMQyT1hDMncC+aExHodYNe6JFSekNEQMHRCEEJe0qXZXcf5JHPr/l2s72+RRvSBNu\n",
       "shj082VqSx5MWkMwnw+EqW0bS4kHJUxbYV5X9vxXz3qpKr0hYuAdUcjsQL8GvLye+yv4RD3qes8Z\n",
       "zzlpBo1K2GzSmiZtmZAmP3tizDKqXWyQMG3F4VXlOtpkKTB93hAxcL8owNaxp1bIz2Y+BQWky4r2\n",
       "p9jaYjHqzbG3pPCvLYdh0hqCmbPkTOfs8QUYp5JYlDBtRXePch3NFxWYPm+IWMYk0/ywg5lpQZtQ\n",
       "tCdxdqvYmsBQrw9MvUcams+Mr0s8VkaK9sLY/mpBxmQKoi/UVD0fH64qMH3eELG0aA1SdjuYHTdp\n",
       "kM0g3cvz3U22aOY+p99IVdy9+bsHM8UXLfbtIJjPWkO7EhPIsz8rd8/ImExBYjzIvkkHXmcTyYoC\n",
       "k3l3IUYshaCPRVqz2cmNOorkoMFRydC3WdZk91uEINVsihCEDnnyR49jpJRcxGGOmXPiM8PssL6d\n",
       "wyi0b/2YZjuxHMRk3tceQowY+F4UnT6i3hCYWpUvXGRvQ1y+6NlheMZ+3w7fdPqN5GIYJq2hmCM0\n",
       "Lk9iCzJtbKvVagWjrFsVGZMpsks/1Vvs2R47uvHHW0FM7p1BjJhTkZKt327hqzt7BGaaxuMEfeoU\n",
       "xCVDtypbVTRBOHLnEoz6jaLdb+QVAeslvgLKHNOkPX8AT2BOIwuTzSZeKMiYTJFsYa4cxNwA/Q+c\n",
       "/vr09h9kTOYNYvrFnmTP5abxhViw5+xtpMke0W/Mh77556XvTX2ZjMvZHHL0r80SzMXA9yYZmxGL\n",
       "YuofYLZlX1LkBbGKY72h9gkJk3spZrTYm7oz+7K/r1XRb2XqDil1F+F5guz6ZhfYTwf0NxIr/JjD\n",
       "K9Dr77JIvxZbGtoaelmLehWzN6x0eR5PSpjcSzGjxSKzkrKrD9+b7OuYR/Q7G/qpKj7EfJYgezPq\n",
       "9IAuWsMN8I6qg0rbkwXZwSJS7P2sHsBCUku7pt9DEm30aflEwr77DI9isuHHHL/WjhH/bYckv0TX\n",
       "/KWzIEtxF8hp70p87xx59XtOW7wXz2mn/gTkPHTOCFyfSAAAAABJRU5ErkJggg==\n",
       "\" style=\"display:inline;vertical-align:middle;\" /></a><br>(see <a class=\"ProveItLink\" href=\"../../../__pv_it/theorems/43932f8cd471b6daa35d766476e7579e34bbf6270/dependencies.ipynb\">dependencies</a>)<br>"
      ],
      "text/plain": [
       "true_eval: forall_{m in Natural} [forall_{A_{1}, ..A_{_a}.., A_{m} | A_{1}, ..A_{_a}.., A_{m}} ((A_{1} and ..A_{_a}.. and A_{m}) = TRUE)]"
      ]
     },
     "execution_count": 2,
     "metadata": {},
     "output_type": "execute_result"
    }
   ],
   "source": [
    "%proving true_eval"
   ]
  },
  {
   "cell_type": "code",
   "execution_count": null,
   "metadata": {},
   "outputs": [],
   "source": []
  }
 ],
 "metadata": {
  "kernelspec": {
   "display_name": "Python 3",
   "language": "python",
   "name": "python3"
  }
 },
 "nbformat": 4,
 "nbformat_minor": 0
}