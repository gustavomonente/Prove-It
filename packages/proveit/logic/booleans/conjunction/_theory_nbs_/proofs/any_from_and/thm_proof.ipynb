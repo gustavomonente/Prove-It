{
 "cells": [
  {
   "cell_type": "markdown",
   "metadata": {},
   "source": [
    "Proof of <a class=\"ProveItLink\" href=\"../../../../../../_theory_nbs_/theory.ipynb\">proveit</a>.<a class=\"ProveItLink\" href=\"../../../../../_theory_nbs_/theory.ipynb\">logic</a>.<a class=\"ProveItLink\" href=\"../../../../_theory_nbs_/theory.ipynb\">booleans</a>.<a class=\"ProveItLink\" href=\"../../theory.ipynb\">conjunction</a>.<a class=\"ProveItLink\" href=\"../../theorems.ipynb#any_from_and\">any_from_and</a> theorem\n",
    "========"
   ]
  },
  {
   "cell_type": "code",
   "execution_count": 1,
   "metadata": {},
   "outputs": [],
   "source": [
    "import proveit\n",
    "from proveit.logic import And\n",
    "from proveit import A, B, C\n",
    "from proveit.logic.booleans import in_bool_if_true, fold_forall_over_bool\n",
    "from proveit.logic.booleans.conjunction  import left_in_bool, right_in_bool\n",
    "theory = proveit.Theory() # the theorem's theory\n"
   ]
  },
  {
   "cell_type": "code",
   "execution_count": 2,
   "metadata": {},
   "outputs": [
    {
     "data": {
      "text/html": [
       "Under these <a href=\"presumptions.txt\">presumptions</a>, we begin our proof of<br><strong id=\"any_from_and\">any_from_and:</strong> <a class=\"ProveItLink\" href=\"../../../__pv_it/theorems/697957ccff67fd76cba9c24a6ad74baf20e074260/expr.ipynb\"><img src=\"data:image/png;base64,iVBORw0KGgoAAAANSUhEUgAAAdIAAAAZBAMAAAB3FrLGAAAAMFBMVEX///8QEBCIiIhmZma6urrM\n",
       "zMxUVFQiIiJERETc3Nzu7u6qqqp2dnaYmJgyMjIAAAAcRTyBAAAAAXRSTlMAQObYZgAAA/hJREFU\n",
       "WMPtmF1oFFcUx//O7GR25yObl5a29mFFqGmpJiD9oI10gy++iJt96JPQxTQ0CKUBi5GgEvtQVy1k\n",
       "6UMaBM0WH9T1a0AWKrSwNP2MHwwiJbSVBn1qXyqmatSGes6drJndO0mmZbawpQOZOWf25Nz7m3vu\n",
       "uedeINz1zmABTXzFBneHNR1Ak1+j/5P+B0mn+XE9BGkrP2y32Qh/+Kv35XyaSS+y+lsIUsuhR2ux\n",
       "6QbzKUC9w6RjpCSGQ5AKo7GmA9XmKPPOMCmPkhiuZecpD/zFpiNV7tOcu82k9mSp9EmojPRzqXSy\n",
       "+RJTvA34dEjk3tl8fnco0mQ+v7/SdKTJHLSdRUHaBxwIRdqSQVwUSvHgcqnGy6aZiX7PbKq38rxs\n",
       "bH/YpTx2E3s8AFF7Bt569+p+x1tPN8KYDp7LO77CqtwCaawTZ4X8SzrI3P6jRmuD1cbC0RROtEnG\n",
       "iRsw9i1EWFWI3DPQUYDxpEeqQwlYJE9NbMBnVlEt+iqHAaxl0XgjcFE9NufX1BzMB9ww9dKWU/s4\n",
       "IU1JpNF7Bpi6wxGklqsHfMZDh4v4ItVp+Wuky16lZB3vDOrP5A6/pqegcqjoNLO1lGTMmSErkUbv\n",
       "GbjLpClBmph+k8g2ZFcrz2XgSRzSdJXLH9eQHtVELGfjQcuvlsr71XMZrON46KCbIZUbCg9KSSKN\n",
       "3rNYTvFe2qt7D7xNfN3uiu0Kg7BU8GrEsnVmq580PiqmUU4lZXt9Ey14xa9uWdsuPssuT60z12uJ\n",
       "qqTRexbLqTY7X+GfJ/eH1yCZVnkNYaloiCgqozLhJzVFi7aj3MLWZ+r78xM6/OoVYA0//xRavXmy\n",
       "EkTaAM9opZzVfXCeNMnBvg090EWptA3d0Hbl8x8Q6RG9Zi9zm29nu76jCBmq645x89KIP5Q+otzg\n",
       "zE+bM5I5zzHDrSdtgOeW3++u7z9U3bXZ7OcJtGNcg5C6NOS8MY1la0h/5NtrSNyR+0NJejxjv379\n",
       "pc8zQn9IYcar2qv0V5HMVYoxC2Re8ZM2wLO8P03corGcsjBWJOn9Mr7ml9eoApT2pzH6YHOiAbI9\n",
       "WL1hM8WGa67DSrMCepN4gMSzLOguThdk8z0wvofZPu823jDPMmksh18xOokeh6QXXcQpPmJ705QN\n",
       "6klHhjF2z+UGehztafQU+ObEZ5EY2YM+Y0BNQ1uJb2fW9wsB33S9ANSbw+r9kiKpTxv2kTbC8xJn\n",
       "DtVdTTvN06XOHIZ8tgvSgNmpm5S6qu/NZcyVa7U1UuSeFyc1C+FOV7Izjs+2Khk5Jd1CpeiF6g8X\n",
       "ljE3L0uk0XpenNT+G+dI9qL/5UrCkua1Yxqp539wYjbYyPNe9V847935CLHHhISSD19TAAAAAElF\n",
       "TkSuQmCC\n",
       "\" style=\"display:inline;vertical-align:middle;\" /></a><br>(see <a class=\"ProveItLink\" href=\"../../../__pv_it/theorems/983afd26f79057fa6ea40dd7ff65c937bb12331a0/dependencies.ipynb\">dependencies</a>)<br>"
      ],
      "text/plain": [
       "any_from_and: forall_{m, n in Natural} [forall_{A_{1}, ..A_{_a}.., A_{m}, B, C_{1}, ..C_{_a}.., C_{n} | A_{1}, ..A_{_a}.., A_{m}, B, C_{1}, ..C_{_a}.., C_{n}} B]"
      ]
     },
     "execution_count": 2,
     "metadata": {},
     "output_type": "execute_result"
    }
   ],
   "source": [
    "%proving any_from_and"
   ]
  },
  {
   "cell_type": "code",
   "execution_count": null,
   "metadata": {},
   "outputs": [],
   "source": []
  },
  {
   "cell_type": "code",
   "execution_count": null,
   "metadata": {},
   "outputs": [],
   "source": []
  }
 ],
 "metadata": {
  "kernelspec": {
   "display_name": "Python 3",
   "language": "python",
   "name": "python3"
  }
 },
 "nbformat": 4,
 "nbformat_minor": 0
}