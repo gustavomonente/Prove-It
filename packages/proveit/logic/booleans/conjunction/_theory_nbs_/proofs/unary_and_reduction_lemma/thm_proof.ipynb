{
 "cells": [
  {
   "cell_type": "markdown",
   "metadata": {},
   "source": [
    "Proof of <a class=\"ProveItLink\" href=\"../../../../../../_theory_nbs_/theory.ipynb\">proveit</a>.<a class=\"ProveItLink\" href=\"../../../../../_theory_nbs_/theory.ipynb\">logic</a>.<a class=\"ProveItLink\" href=\"../../../../_theory_nbs_/theory.ipynb\">booleans</a>.<a class=\"ProveItLink\" href=\"../../theory.ipynb\">conjunction</a>.<a class=\"ProveItLink\" href=\"../../theorems.ipynb#unary_and_reduction_lemma\">unary_and_reduction_lemma</a> theorem\n",
    "========"
   ]
  },
  {
   "cell_type": "code",
   "execution_count": 1,
   "metadata": {},
   "outputs": [],
   "source": [
    "import proveit\n",
    "from proveit.numbers import num\n",
    "from proveit import A, B, m\n",
    "from proveit.logic.booleans.conjunction  import multi_conjunction_def\n",
    "theory = proveit.Theory() # the theorem's theory"
   ]
  },
  {
   "cell_type": "code",
   "execution_count": 2,
   "metadata": {},
   "outputs": [
    {
     "data": {
      "text/html": [
       "Under these <a href=\"presumptions.txt\">presumptions</a>, we begin our proof of<br><strong id=\"unary_and_reduction_lemma\">unary_and_reduction_lemma:</strong> <a class=\"ProveItLink\" href=\"../../../__pv_it/theorems/caa4fa85f429badd63ed4a0e8aecb9c844bff2a80/expr.ipynb\"><img src=\"data:image/png;base64,iVBORw0KGgoAAAANSUhEUgAAAOUAAAAUBAMAAACAKeeZAAAAMFBMVEX///8QEBCIiIhmZma6urrM\n",
       "zMxUVFQiIiJERETc3Nzu7u6qqqp2dnaYmJgyMjIAAAAcRTyBAAAAAXRSTlMAQObYZgAAAzVJREFU\n",
       "SMeVlkFo1EAUhp+7zWaTTbYePJegBz21CwV7UVz0UBAKeyo92YL14MlIRa1WKF7cRXT3IhWlNqJg\n",
       "abEsFlFPFlsPtkWCnkQsi2sFe7BFC1ZB67yZl9lN0qx1IMkkb/75Ju+9eQlAw6a50LpM/aUz/DIq\n",
       "jc+2EIw2mi1VEqIK3nyIGjUOMCdveE8f5n2F6RKl0Hhm7TiH7WzIdIwdJ4VoAe9XophfiFSSzLQA\n",
       "pdcYoBIaL6yPpJvqTKvsmBKim2gajkCaGSJVJfMtOfoXO70ICYRVMtOZ2lSrDoBhcVEau+UIploS\n",
       "JOWK4zEHhQ+nf7Lz3ZBg0M/suSAtk4fYXPpOLjLnJyZGolw7QqTEYYt6mi1WHVvH18gGU872M/t3\n",
       "S5PbhoM/CdFGPj8UxdxDpCmwqRcT3jqa+s3ORiYwnqweU6+onqXJee6yy6wQnQAo8MeFMPMakRZ4\n",
       "qmEv6fLJsso3fFueRK+/YuMRF1bJNMoyavehF121JERHKP/MdQr2x+qAN/IikWy4Qz2Vm5pA+477\n",
       "zQ7Gv+xjqqB5qZ2FMfTBEyFSIcZXdw+9NTl7EKyZ0cc0cpcgmRYkcoK5g4ewu33/BqbWWoAprJL5\n",
       "hnuRb+fj7adwc/QKkeEKp88PsMmv3nLAsoyHfqbqgNJXz2Snlm0wWdZ2UziZrVJjahX+XLHy6GfW\n",
       "LKvrld+307XqwL2XYsdpnMmuxfNz2LepjCwh7LnK9gl0kqjQj08T0EGF0GpvyflziPGQK3PoNpUV\n",
       "M1iI/DmEvBTPZK0sKpeXQzDNV/se2kDPiPeM36A5ZjlTwUgw/87R9uC7sMgmjM8EmIZvr/SQf8U+\n",
       "T2IVOUCiZkxivbpYdJTz+fxljGeM5ujkzARGKWZxJvOMXvzjwNNNFv50LsAUzoYuqgh4wqowvrkC\n",
       "qeIPtqBlEplY1+IOjOWgT7ynEffVvibez9XXPtEeRNQ+uT8wT3yfHbtexJbW7MJLzpwxFoM1HoI1\n",
       "nreoGh/ZqMZT8DdAK16CJIu1OVS97nrPCyFmsvbR3OJbliw1ZE5tJdrH4rmtb3YEQB9uyCz8c1Xi\n",
       "32Sv92/SGvw3efe//yZmiYv+Aiap+K6FEGOlAAAAAElFTkSuQmCC\n",
       "\" style=\"display:inline;vertical-align:middle;\" /></a><br>(see <a class=\"ProveItLink\" href=\"../../../__pv_it/theorems/f22e4892c257ad7c26e01420a03361ecc991e0070/dependencies.ipynb\">dependencies</a>)<br>"
      ],
      "text/plain": [
       "unary_and_reduction_lemma: forall_{A in BOOLEAN} ([and](A) = (TRUE and A))"
      ]
     },
     "execution_count": 2,
     "metadata": {},
     "output_type": "execute_result"
    }
   ],
   "source": [
    "%proving unary_and_reduction_lemma"
   ]
  },
  {
   "cell_type": "code",
   "execution_count": 3,
   "metadata": {},
   "outputs": [
    {
     "data": {
      "text/html": [
       "<span style=\"font-size:20px;\"> <a class=\"ProveItLink\" href=\"../../axioms.ipynb#multi_conjunction_def\" style=\"text-decoration: none\">&nbsp;&#x22A2;&nbsp;&nbsp;</a><a class=\"ProveItLink\" href=\"../../../__pv_it/axioms/99604d56996e262a507070605571b2b391afd99a0/expr.ipynb\"><img src=\"data:image/png;base64,iVBORw0KGgoAAAANSUhEUgAAAb0AAAAyBAMAAAA6kRjOAAAAMFBMVEX///8QEBCIiIhmZma6urrM\n",
       "zMxUVFQiIiJERETc3Nzu7u6qqqp2dnaYmJgyMjIAAAAcRTyBAAAAAXRSTlMAQObYZgAAB8pJREFU\n",
       "aN7NWm9sFEUUf7e9vevu3V77QQtKxAsY5FsvKakJVntotImJemBCNST2wp9EicohCSqgHJFIi5oe\n",
       "MZF/0R5ihGCCF/tBSTAU1MRUY85WDMYgZwAT+QCX0pa2UM6Z3ZnZmb25O0q5hWl2bzr73uz8Zt6+\n",
       "ee+3C1Ch3F+4BtMrP4DLRY9bv8FCob6i8Kzde6Z3t2Cf2/jgGYJz997K+O6e7s3m0YqWrQaWI5I2\n",
       "I0cqavXxBdgtDpJ75qbWwYsl2v8orGjujIIvJbn2gXv49kVp7T/rJ5TnrqbkShpXv+S4xlRmAtSM\n",
       "gJ4rc1MX8L3LjCZi/f49wV09K1cKRWxbu5QWr1EVdRLAexngRBmjqT6+AEPjtyZe7x23r6rb0lKt\n",
       "5zew6pet4hozFQX1YwyhtZJ1sMktfH62EjvJeijD9lXfY2Gp1so5rJptjAqXmEotGvs+NA+hqKSD\n",
       "YymX8J1hsz/X+nkqMGlfPQwJ6QaW89OqN31MdLtMpS4O6nq0lsFI6WmtPr43We1Da+hRdQgboNX2\n",
       "M/qTbZmZYIZUP4cOcYmZSserA9sybDP49SIu7HE2JtzBp9rGuNFaD9CQT3juIastAZ9KjRo06hWj\n",
       "0COuD1NpTIHegJ9wmQnoQ+7gq7FvcJd5XtrUPIZ+2qxZDoMvJtEaAFhF5mdF05qksHUzlS0YI1pA\n",
       "NS+78UV38HniDnzIGcxm+PxpUOMSLeQ1lpLHD3UhbHC2yijGFy6FrzHlCr6OrGifAXSsZfh67V1f\n",
       "2FOQRYYsv4TWx18PxiNL5irzYoIK3v5gDZoub8J+/v5lffRkXcHXmBL9y14SkLSxiKZXsrunLIwo\n",
       "jsmY8Y6xKOtZrcQFFbz9qWN8sCkxnKrj22JXv8fjxXPdnSL41KRlcKBfB3L6Kked6wa6Z9aOw54H\n",
       "oS5a08erQAgNfdF2/IhL85PaBMFnoj9dFl8lkTJlpl1FkPTu62n4trCO4PPhnVnB7n89kJMfT/tK\n",
       "/B/e4Q8WLkCg+0oElsNi8Gd4Fd+l0aaX3jdXOybdYvIEn7mbXCiLr5JImUzzMucZ+DirjTgPVIqH\n",
       "ZwYkqjiI+dCjylUOSO9sjBB8u7DZJMviqyRSZvsb4u7I72PfTKkbLY9W8FRQfvFEmTsjfCEc4mTK\n",
       "4qskUia6vsr902VXP9q8fCrdeOPIr3zcLzeRXBnLQfiM/kOHdpb3L5VEShfLSsT89haX2hIp5Cj1\n",
       "n2OdnZsq+M8KIqWLMs5bWVX4iT9LtI9RfKsEy5HiYyJdlafQ293SzMSCE3C7ymyK7/EiE25viSoN\n",
       "PD4qYgzLcyAhA/sN4DgLP28fvhkUnx8UznD0o03ZQLIfFvL4qMj+Semj3CoYXjPKLmlW7svfNnxr\n",
       "Kb5g1s81nzpyCAIDNdDH46Mi/eukW+kBIYN5HeBRuIPwaTkUq9MI1ouHGlj2QljAZ4og6XCnrKcl\n",
       "tfzeqI+AcuEOsM83WPzZheIhGsGGzF0r1n9SwGeKoNUAlJb6ihiheA2fYXqHBt6zl3ZckPyEHNNj\n",
       "rFI31M78C/Si4dEIdr+FL2iTGia+XhPBX9AI6nEnPiOj8FYYzIHC8CojwoOatA6YOsnLy7/sHMAa\n",
       "FIpudbY3MHx1OMIlEWx7Z2dnOBDTsgkBnymin/2lO20F7wLh0/ITb4W1faCxqEV0uDjvIXmdQPJq\n",
       "JUBxC8LLH3aqedCctcZYu1UuM3xG2o5gfdb6wRNhAZ8pUpOGnlgxvoWgjcDgd4PLfrRorQx4mVUG\n",
       "BHyD5HCSvKGIHB9H/vLywbBDDSfRz0ZYu2Ur14T8j0awQRyaG1Ew+orzv6fR4LMYn7YddqXpyYs6\n",
       "n4Svc57MURSJoylIww6mrAobylvkcJC8PJsrZXId8nq9Qw0n0WfCrF2Mrx0RLE6p2s4hp1GEr3YM\n",
       "tO63TQJkFixOqffg0yzoTsKuK1lf7AAsAFicCW5uat7qsBI6hwmS4DpIXp7NlTK5TvlzDjWUROsz\n",
       "0qydi+yL83cFPX9l83dsnwG7G8bo9UIiY/IlQnmH7zpiHU6Sl2Nz5UyuQ95kAng1FEq3r2btvOee\n",
       "Oj+hNj7Mv3OjtS/gAVieKvbdrbznyVqHk+Tl2Fw5k0vl2cMoqqmjp+dvtNv5yOIm+ZespGbZUVFo\n",
       "ynkjTDCYJIOD5OXYXDmTS+QdyTFTw0nKvrgjafYk3eEHuZXxRK3DQfJybC7ImVwqzzoV1fCLFuUq\n",
       "ayf8YNhtfpfDJ5C8HJsLciaXyov4mFodklKGHPhc4ndr8hL7FElejs0Vik3+EvnBk3Mic1ZRPVsN\n",
       "b3++YXu+zLINXMHnHZb4F5HktdlcsdjkL5H//T5oSM+jfsRWw0vVkXT4F5ferwCXUeGYFh8iyWuz\n",
       "uSa3i08m02szuURe+ywBw9CC6i2CGvyDpnFmmraTvcil92O8A8UvCtDhIHltNtfkds3Tep7JZfK+\n",
       "MBou3gjOC2qv4e8oTDd2vui5rz4+T58sPuNIXgmbC3Ly1xNTklo+BnpCrqZzaZpr76cDE9L4+iZI\n",
       "XuhBK2gk+8Q4Gorjbi40d+H7kLMiz8ZxbVMkeeFJ5FO0V9KOPKg4b8Kzeq9r+HbEZPntdEpX5XYX\n",
       "v+/hX4/fEn7CSFVuXwGu4cN8odvFSN44vml/H+kLu45vKt9HTv/71gVuw9NXE4daKNT/DzgRP+hd\n",
       "ttm+AAAAAElFTkSuQmCC\n",
       "\" style=\"display:inline;vertical-align:middle;\" /></a></span>"
      ],
      "text/plain": [
       "|- forall_{m in Natural} [forall_{A_{1}, ..A_{_a}.., A_{m}, B} ((A_{1} and ..A_{_a}.. and A_{m} and B) =  \\\\ ((A_{1} and ..A_{_a}.. and A_{m}) and B))]"
      ]
     },
     "execution_count": 3,
     "metadata": {},
     "output_type": "execute_result"
    }
   ],
   "source": [
    "multi_conjunction_def"
   ]
  },
  {
   "cell_type": "code",
   "execution_count": 4,
   "metadata": {},
   "outputs": [
    {
     "data": {
      "text/html": [
       "<span style=\"font-size:20px;\"> <a class=\"ProveItLink\" href=\"../../../__pv_it/_proof_unary_and_reduction_lemma/cd9c8cfb4a3508f4d50a407d9644020d25fe512b0/proof.ipynb\" style=\"text-decoration: none\">&nbsp;&#x22A2;&nbsp;&nbsp;</a><a class=\"ProveItLink\" href=\"../../../__pv_it/theorems/1126b95f8fd9526069e3dfc532ace8a66dc3f4f00/expr.ipynb\"><img src=\"data:image/png;base64,iVBORw0KGgoAAAANSUhEUgAAAJwAAAAUBAMAAACKdUnLAAAAMFBMVEX///8QEBCYmJiqqqpUVFTu\n",
       "7u5ERERmZmbc3NwiIiK6urp2dnbMzMwyMjKIiIgAAADRdxPqAAAAAXRSTlMAQObYZgAAAjhJREFU\n",
       "OMuVlD1o20AUgF8ty5Es2XgOBLKlS4Knup3qrcEUqhIINGAonZLJHgoeOlS0U4dSlVKaZPKSwUsp\n",
       "ZAhkKB5CthIvpSEkxFvJkB8K/YXWfe/d6aw7xaZ94k4nvbvv3rv37sHpIQiZXefXE4jlOqTEmYYx\n",
       "YoUA2+qLR/Z9Hvs9gGyYWrAIE2ss1ZTqA7Z5CQkVriAYhQsk91Jr9tmIvjI2oTrGVpeQTwo3Iz3/\n",
       "it17k5Zp6rhCc6g6DgC8PkP8lSDGrbLSrvzA/q6Jc0Mdt/taqRYeo84uMST7ti9xTiT2Kv6izdsG\n",
       "7hnouNqZUk2f0+QDhtQhkriiMH/D+oK91zRwn3Wc3XNjTT64SUHfYsgmPgKX40yw2/4fspFi4R2x\n",
       "MPmBjvPKXlkOl2CP/s4yJILnEueyPg/Od1oXGda90nEuOHHw2/CCNrxBkEwfsl2Bu8LHtdN6+I0i\n",
       "dGHgJnXcHMBtMfJvte5Qwu4RxA3AryZx2E39Aw7juiOPDlf2YlxFJKhy1sL2kiZFw7Orpp21mirr\n",
       "cZVbwneHIJTrlUQonsokz5jXQg8FoSwOkVMW94hD4ZPX6PC2zA3OvQbOnXhn4LY03K50WORjjhL/\n",
       "EUKydF5FcT/QP7vxO4Brgze4YdfAdcRBybJSo44SeXHwEazGT7TkECF5VnaTl0zIvcsvGajkoHAl\n",
       "/9iRWaBmEtoRJWC0yBKQwOWGBlxSoJbH4+qjyqdBHpbPsYK7ncTF/dQs7lf/t7hnQvgL7fGld17/\n",
       "3scAAAAASUVORK5CYII=\n",
       "\" style=\"display:inline;vertical-align:middle;\" /></a></span>"
      ],
      "text/plain": [
       "|- [and](A) = (TRUE and A)"
      ]
     },
     "execution_count": 4,
     "metadata": {},
     "output_type": "execute_result"
    }
   ],
   "source": [
    "multi_conjunction_def.instantiate({m:num(0), A:(), B:A})"
   ]
  },
  {
   "cell_type": "code",
   "execution_count": 5,
   "metadata": {},
   "outputs": [
    {
     "data": {
      "text/html": [
       "<table><tr><th>&nbsp;</th><th>step type</th><th>requirements</th><th>statement</th></tr>\n",
       "<tr><td><a name=\"0x34c7e67d97d7cbff_step0\">0</a></td><td>generalizaton</td><td><a href=\"#0x34c7e67d97d7cbff_step1\">1</a></td><td><span style=\"font-size:20px;\"> <a class=\"ProveItLink\" href=\"../../../__pv_it/_proof_unary_and_reduction_lemma/835f554f660194109b90968c8770d7c417734cc50/proof.ipynb\" style=\"text-decoration: none\">&nbsp;&#x22A2;&nbsp;&nbsp;</a><a class=\"ProveItLink\" href=\"../../../__pv_it/theorems/caa4fa85f429badd63ed4a0e8aecb9c844bff2a80/expr.ipynb\"><img src=\"data:image/png;base64,iVBORw0KGgoAAAANSUhEUgAAAOUAAAAUBAMAAACAKeeZAAAAMFBMVEX///8QEBCIiIhmZma6urrM\n",
       "zMxUVFQiIiJERETc3Nzu7u6qqqp2dnaYmJgyMjIAAAAcRTyBAAAAAXRSTlMAQObYZgAAAzVJREFU\n",
       "SMeVlkFo1EAUhp+7zWaTTbYePJegBz21CwV7UVz0UBAKeyo92YL14MlIRa1WKF7cRXT3IhWlNqJg\n",
       "abEsFlFPFlsPtkWCnkQsi2sFe7BFC1ZB67yZl9lN0qx1IMkkb/75Ju+9eQlAw6a50LpM/aUz/DIq\n",
       "jc+2EIw2mi1VEqIK3nyIGjUOMCdveE8f5n2F6RKl0Hhm7TiH7WzIdIwdJ4VoAe9XophfiFSSzLQA\n",
       "pdcYoBIaL6yPpJvqTKvsmBKim2gajkCaGSJVJfMtOfoXO70ICYRVMtOZ2lSrDoBhcVEau+UIploS\n",
       "JOWK4zEHhQ+nf7Lz3ZBg0M/suSAtk4fYXPpOLjLnJyZGolw7QqTEYYt6mi1WHVvH18gGU872M/t3\n",
       "S5PbhoM/CdFGPj8UxdxDpCmwqRcT3jqa+s3ORiYwnqweU6+onqXJee6yy6wQnQAo8MeFMPMakRZ4\n",
       "qmEv6fLJsso3fFueRK+/YuMRF1bJNMoyavehF121JERHKP/MdQr2x+qAN/IikWy4Qz2Vm5pA+477\n",
       "zQ7Gv+xjqqB5qZ2FMfTBEyFSIcZXdw+9NTl7EKyZ0cc0cpcgmRYkcoK5g4ewu33/BqbWWoAprJL5\n",
       "hnuRb+fj7adwc/QKkeEKp88PsMmv3nLAsoyHfqbqgNJXz2Snlm0wWdZ2UziZrVJjahX+XLHy6GfW\n",
       "LKvrld+307XqwL2XYsdpnMmuxfNz2LepjCwh7LnK9gl0kqjQj08T0EGF0GpvyflziPGQK3PoNpUV\n",
       "M1iI/DmEvBTPZK0sKpeXQzDNV/se2kDPiPeM36A5ZjlTwUgw/87R9uC7sMgmjM8EmIZvr/SQf8U+\n",
       "T2IVOUCiZkxivbpYdJTz+fxljGeM5ujkzARGKWZxJvOMXvzjwNNNFv50LsAUzoYuqgh4wqowvrkC\n",
       "qeIPtqBlEplY1+IOjOWgT7ynEffVvibez9XXPtEeRNQ+uT8wT3yfHbtexJbW7MJLzpwxFoM1HoI1\n",
       "nreoGh/ZqMZT8DdAK16CJIu1OVS97nrPCyFmsvbR3OJbliw1ZE5tJdrH4rmtb3YEQB9uyCz8c1Xi\n",
       "32Sv92/SGvw3efe//yZmiYv+Aiap+K6FEGOlAAAAAElFTkSuQmCC\n",
       "\" style=\"display:inline;vertical-align:middle;\" /></a></span></td></tr>\n",
       "<tr><td><a name=\"0x34c7e67d97d7cbff_step1\">1</a></td><td>instantiation</td><td><a href=\"#0x34c7e67d97d7cbff_step2\">2</a>, <a href=\"#0x34c7e67d97d7cbff_step3\">3</a>, <a href=\"#0x34c7e67d97d7cbff_step4\">4</a>, <a href=\"#0x34c7e67d97d7cbff_step5\">5</a><sup>*</sup></td><td><span style=\"font-size:20px;\"> <a class=\"ProveItLink\" href=\"../../../__pv_it/_proof_unary_and_reduction_lemma/cd9c8cfb4a3508f4d50a407d9644020d25fe512b0/proof.ipynb\" style=\"text-decoration: none\">&nbsp;&#x22A2;&nbsp;&nbsp;</a><a class=\"ProveItLink\" href=\"../../../__pv_it/theorems/1126b95f8fd9526069e3dfc532ace8a66dc3f4f00/expr.ipynb\"><img src=\"data:image/png;base64,iVBORw0KGgoAAAANSUhEUgAAAJwAAAAUBAMAAACKdUnLAAAAMFBMVEX///8QEBCYmJiqqqpUVFTu\n",
       "7u5ERERmZmbc3NwiIiK6urp2dnbMzMwyMjKIiIgAAADRdxPqAAAAAXRSTlMAQObYZgAAAjhJREFU\n",
       "OMuVlD1o20AUgF8ty5Es2XgOBLKlS4Knup3qrcEUqhIINGAonZLJHgoeOlS0U4dSlVKaZPKSwUsp\n",
       "ZAhkKB5CthIvpSEkxFvJkB8K/YXWfe/d6aw7xaZ94k4nvbvv3rv37sHpIQiZXefXE4jlOqTEmYYx\n",
       "YoUA2+qLR/Z9Hvs9gGyYWrAIE2ss1ZTqA7Z5CQkVriAYhQsk91Jr9tmIvjI2oTrGVpeQTwo3Iz3/\n",
       "it17k5Zp6rhCc6g6DgC8PkP8lSDGrbLSrvzA/q6Jc0Mdt/taqRYeo84uMST7ti9xTiT2Kv6izdsG\n",
       "7hnouNqZUk2f0+QDhtQhkriiMH/D+oK91zRwn3Wc3XNjTT64SUHfYsgmPgKX40yw2/4fspFi4R2x\n",
       "MPmBjvPKXlkOl2CP/s4yJILnEueyPg/Od1oXGda90nEuOHHw2/CCNrxBkEwfsl2Bu8LHtdN6+I0i\n",
       "dGHgJnXcHMBtMfJvte5Qwu4RxA3AryZx2E39Aw7juiOPDlf2YlxFJKhy1sL2kiZFw7Orpp21mirr\n",
       "cZVbwneHIJTrlUQonsokz5jXQg8FoSwOkVMW94hD4ZPX6PC2zA3OvQbOnXhn4LY03K50WORjjhL/\n",
       "EUKydF5FcT/QP7vxO4Brgze4YdfAdcRBybJSo44SeXHwEazGT7TkECF5VnaTl0zIvcsvGajkoHAl\n",
       "/9iRWaBmEtoRJWC0yBKQwOWGBlxSoJbH4+qjyqdBHpbPsYK7ncTF/dQs7lf/t7hnQvgL7fGld17/\n",
       "3scAAAAASUVORK5CYII=\n",
       "\" style=\"display:inline;vertical-align:middle;\" /></a></span></td></tr>\n",
       "<tr><td>&nbsp;</td><td colspan=4 style=\"text-align:left\"><span style=\"font-size:20px;\"><a class=\"ProveItLink\" href=\"../../../../../../__pv_it/common/674a03b9c3ca221b3aabd5636837b31528ff33830/expr.ipynb\"><img src=\"data:image/png;base64,iVBORw0KGgoAAAANSUhEUgAAABIAAAAJBAMAAADN8WE8AAAAMFBMVEX///9mZmaYmJgyMjIiIiIQ\n",
       "EBCqqqru7u5ERETMzMyIiIjc3NxUVFR2dna6uroAAAAPJcEmAAAAAXRSTlMAQObYZgAAAGNJREFU\n",
       "CNdj4Luze9UpzlvnGBh4OboY6tcxpDIwTGMxYNh/gUGfgaGg/gFDfgHDCQYGhnwGBhEGhiggS5iB\n",
       "wZeB7zc7A0MsA/s/BkaDbQzc/xjYPjAwX7jAwOfAwCXAwCa0AQBn+hZiKtaxkQAAAABJRU5ErkJg\n",
       "gg==\n",
       "\" style=\"display:inline;vertical-align:middle;\" /></a> : <a class=\"ProveItLink\" href=\"../../../../../../numbers/numerals/__pv_it/common/7d0a36793ffe8d307a5c120ee5598162e8cd2db10/expr.ipynb\"><img src=\"data:image/png;base64,iVBORw0KGgoAAAANSUhEUgAAAAoAAAAOBAMAAADkjZCYAAAAMFBMVEX///9mZma6urpUVFREREQQ\n",
       "EBDc3NwiIiLu7u6qqqoyMjLMzMyYmJiIiIh2dnYAAADXmt2vAAAAAXRSTlMAQObYZgAAAFFJREFU\n",
       "CNdjYOC785qBgWElQ3sCA08AA98CBhYDBs4fDPwGDEw/GfoFGJj+MuQ/YOAGkgIM3P+gIkBZzp8M\n",
       "LA4MPD+guhgqGVo3MDD03bVmAABi3RThwIkdoQAAAABJRU5ErkJggg==\n",
       "\" style=\"display:inline;vertical-align:middle;\" /></a>, <a class=\"ProveItLink\" href=\"../../../../../../__pv_it/common/09585084922504426caf1db2ff588a23a0932a960/expr.ipynb\"><img src=\"data:image/png;base64,iVBORw0KGgoAAAANSUhEUgAAAA8AAAAOBAMAAAACpFvcAAAALVBMVEX///8iIiIQEBBERERUVFS6\n",
       "urqIiIjc3NxmZmaqqqru7u6YmJgyMjLMzMwAAACK9jtgAAAAAXRSTlMAQObYZgAAAFtJREFUCNdj\n",
       "YACBOwxQcA5Kc59bAGGs7CuAMDbkBYBp1gXzNoAZSxnuJYAZAQx1DSCa16PDzwCshIGB6QCIMYGB\n",
       "gVEBSLMDGTwPgIxCIGZ+zsCw+N0pBk67hw0AfpEVEQi8t+wAAAAASUVORK5CYII=\n",
       "\" style=\"display:inline;vertical-align:middle;\" /></a> : <a class=\"ProveItLink\" href=\"../../../../../../core_expr_types/tuples/__pv_it/theorems/4bb7d36ca64d107000d79d4921539d4617258ebf0/expr.ipynb\"><img src=\"data:image/png;base64,iVBORw0KGgoAAAANSUhEUgAAAAwAAAAUBAMAAABL3sEiAAAAMFBMVEX////MzMxUVFR2dna6uroQ\n",
       "EBCqqqqIiIgiIiJmZmYyMjJERETu7u6YmJjc3NwAAACgK8IjAAAAAXRSTlMAQObYZgAAAGNJREFU\n",
       "CNdjYOC7wPaAgYHhNAODHpBax8BwioGBdwIDA3MBAwdQgieA4QVQnGEJQyWIsmTYC6JuMbSBqAyG\n",
       "EBAlD6PAgh4wJZYgajKQDwQLIYY1wIxm2Ae2CGQtkAV0BO8DBgBfVhetSSF8+gAAAABJRU5ErkJg\n",
       "gg==\n",
       "\" style=\"display:inline;vertical-align:middle;\" /></a>, <a class=\"ProveItLink\" href=\"../../../../../../__pv_it/common/a9162d1c3cc0470c02e5daf414500903a7a419230/expr.ipynb\"><img src=\"data:image/png;base64,iVBORw0KGgoAAAANSUhEUgAAABAAAAAOBAMAAADUAYG5AAAALVBMVEX///8yMjKqqqoiIiLu7u7c\n",
       "3NyIiIjMzMwQEBC6urpERERmZmZUVFSYmJgAAACsPVCVAAAAAXRSTlMAQObYZgAAAGxJREFUCNdj\n",
       "YGC48+70nlUTGICgi4GB+zmQZn/LwMD5Gshge8rAwPsMyOBqYGDwMAEy+A4wsNs4ABl1Z68tVgBp\n",
       "ygtgYOkBMVaAOCChNyBGAsQYhnMTIMawvwJyGIHGzFjCwMAj92b3qUUMDAAXABxvZ4rl5AAAAABJ\n",
       "RU5ErkJggg==\n",
       "\" style=\"display:inline;vertical-align:middle;\" /></a> : <a class=\"ProveItLink\" href=\"../../../../../../__pv_it/common/09585084922504426caf1db2ff588a23a0932a960/expr.ipynb\"><img src=\"data:image/png;base64,iVBORw0KGgoAAAANSUhEUgAAAA8AAAAOBAMAAAACpFvcAAAALVBMVEX///8iIiIQEBBERERUVFS6\n",
       "urqIiIjc3NxmZmaqqqru7u6YmJgyMjLMzMwAAACK9jtgAAAAAXRSTlMAQObYZgAAAFtJREFUCNdj\n",
       "YACBOwxQcA5Kc59bAGGs7CuAMDbkBYBp1gXzNoAZSxnuJYAZAQx1DSCa16PDzwCshIGB6QCIMYGB\n",
       "gVEBSLMDGTwPgIxCIGZ+zsCw+N0pBk67hw0AfpEVEQi8t+wAAAAASUVORK5CYII=\n",
       "\" style=\"display:inline;vertical-align:middle;\" /></a></span></td></tr><tr><td><a name=\"0x34c7e67d97d7cbff_step2\">2</a></td><td>axiom</td><td></td><td><span style=\"font-size:20px;\"> <a class=\"ProveItLink\" href=\"../../axioms.ipynb#multi_conjunction_def\" style=\"text-decoration: none\">&nbsp;&#x22A2;&nbsp;&nbsp;</a><a class=\"ProveItLink\" href=\"../../../__pv_it/axioms/99604d56996e262a507070605571b2b391afd99a0/expr.ipynb\"><img src=\"data:image/png;base64,iVBORw0KGgoAAAANSUhEUgAAAb0AAAAyBAMAAAA6kRjOAAAAMFBMVEX///8QEBCIiIhmZma6urrM\n",
       "zMxUVFQiIiJERETc3Nzu7u6qqqp2dnaYmJgyMjIAAAAcRTyBAAAAAXRSTlMAQObYZgAAB8pJREFU\n",
       "aN7NWm9sFEUUf7e9vevu3V77QQtKxAsY5FsvKakJVntotImJemBCNST2wp9EicohCSqgHJFIi5oe\n",
       "MZF/0R5ihGCCF/tBSTAU1MRUY85WDMYgZwAT+QCX0pa2UM6Z3ZnZmb25O0q5hWl2bzr73uz8Zt6+\n",
       "ee+3C1Ch3F+4BtMrP4DLRY9bv8FCob6i8Kzde6Z3t2Cf2/jgGYJz997K+O6e7s3m0YqWrQaWI5I2\n",
       "I0cqavXxBdgtDpJ75qbWwYsl2v8orGjujIIvJbn2gXv49kVp7T/rJ5TnrqbkShpXv+S4xlRmAtSM\n",
       "gJ4rc1MX8L3LjCZi/f49wV09K1cKRWxbu5QWr1EVdRLAexngRBmjqT6+AEPjtyZe7x23r6rb0lKt\n",
       "5zew6pet4hozFQX1YwyhtZJ1sMktfH62EjvJeijD9lXfY2Gp1so5rJptjAqXmEotGvs+NA+hqKSD\n",
       "YymX8J1hsz/X+nkqMGlfPQwJ6QaW89OqN31MdLtMpS4O6nq0lsFI6WmtPr43We1Da+hRdQgboNX2\n",
       "M/qTbZmZYIZUP4cOcYmZSserA9sybDP49SIu7HE2JtzBp9rGuNFaD9CQT3juIastAZ9KjRo06hWj\n",
       "0COuD1NpTIHegJ9wmQnoQ+7gq7FvcJd5XtrUPIZ+2qxZDoMvJtEaAFhF5mdF05qksHUzlS0YI1pA\n",
       "NS+78UV38HniDnzIGcxm+PxpUOMSLeQ1lpLHD3UhbHC2yijGFy6FrzHlCr6OrGifAXSsZfh67V1f\n",
       "2FOQRYYsv4TWx18PxiNL5irzYoIK3v5gDZoub8J+/v5lffRkXcHXmBL9y14SkLSxiKZXsrunLIwo\n",
       "jsmY8Y6xKOtZrcQFFbz9qWN8sCkxnKrj22JXv8fjxXPdnSL41KRlcKBfB3L6Kked6wa6Z9aOw54H\n",
       "oS5a08erQAgNfdF2/IhL85PaBMFnoj9dFl8lkTJlpl1FkPTu62n4trCO4PPhnVnB7n89kJMfT/tK\n",
       "/B/e4Q8WLkCg+0oElsNi8Gd4Fd+l0aaX3jdXOybdYvIEn7mbXCiLr5JImUzzMucZ+DirjTgPVIqH\n",
       "ZwYkqjiI+dCjylUOSO9sjBB8u7DZJMviqyRSZvsb4u7I72PfTKkbLY9W8FRQfvFEmTsjfCEc4mTK\n",
       "4qskUia6vsr902VXP9q8fCrdeOPIr3zcLzeRXBnLQfiM/kOHdpb3L5VEShfLSsT89haX2hIp5Cj1\n",
       "n2OdnZsq+M8KIqWLMs5bWVX4iT9LtI9RfKsEy5HiYyJdlafQ293SzMSCE3C7ymyK7/EiE25viSoN\n",
       "PD4qYgzLcyAhA/sN4DgLP28fvhkUnx8UznD0o03ZQLIfFvL4qMj+Semj3CoYXjPKLmlW7svfNnxr\n",
       "Kb5g1s81nzpyCAIDNdDH46Mi/eukW+kBIYN5HeBRuIPwaTkUq9MI1ouHGlj2QljAZ4og6XCnrKcl\n",
       "tfzeqI+AcuEOsM83WPzZheIhGsGGzF0r1n9SwGeKoNUAlJb6ihiheA2fYXqHBt6zl3ZckPyEHNNj\n",
       "rFI31M78C/Si4dEIdr+FL2iTGia+XhPBX9AI6nEnPiOj8FYYzIHC8CojwoOatA6YOsnLy7/sHMAa\n",
       "FIpudbY3MHx1OMIlEWx7Z2dnOBDTsgkBnymin/2lO20F7wLh0/ITb4W1faCxqEV0uDjvIXmdQPJq\n",
       "JUBxC8LLH3aqedCctcZYu1UuM3xG2o5gfdb6wRNhAZ8pUpOGnlgxvoWgjcDgd4PLfrRorQx4mVUG\n",
       "BHyD5HCSvKGIHB9H/vLywbBDDSfRz0ZYu2Ur14T8j0awQRyaG1Ew+orzv6fR4LMYn7YddqXpyYs6\n",
       "n4Svc57MURSJoylIww6mrAobylvkcJC8PJsrZXId8nq9Qw0n0WfCrF2Mrx0RLE6p2s4hp1GEr3YM\n",
       "tO63TQJkFixOqffg0yzoTsKuK1lf7AAsAFicCW5uat7qsBI6hwmS4DpIXp7NlTK5TvlzDjWUROsz\n",
       "0qydi+yL83cFPX9l83dsnwG7G8bo9UIiY/IlQnmH7zpiHU6Sl2Nz5UyuQ95kAng1FEq3r2btvOee\n",
       "Oj+hNj7Mv3OjtS/gAVieKvbdrbznyVqHk+Tl2Fw5k0vl2cMoqqmjp+dvtNv5yOIm+ZespGbZUVFo\n",
       "ynkjTDCYJIOD5OXYXDmTS+QdyTFTw0nKvrgjafYk3eEHuZXxRK3DQfJybC7ImVwqzzoV1fCLFuUq\n",
       "ayf8YNhtfpfDJ5C8HJsLciaXyov4mFodklKGHPhc4ndr8hL7FElejs0Vik3+EvnBk3Mic1ZRPVsN\n",
       "b3++YXu+zLINXMHnHZb4F5HktdlcsdjkL5H//T5oSM+jfsRWw0vVkXT4F5ferwCXUeGYFh8iyWuz\n",
       "uSa3i08m02szuURe+ywBw9CC6i2CGvyDpnFmmraTvcil92O8A8UvCtDhIHltNtfkds3Tep7JZfK+\n",
       "MBou3gjOC2qv4e8oTDd2vui5rz4+T58sPuNIXgmbC3Ly1xNTklo+BnpCrqZzaZpr76cDE9L4+iZI\n",
       "XuhBK2gk+8Q4Gorjbi40d+H7kLMiz8ZxbVMkeeFJ5FO0V9KOPKg4b8Kzeq9r+HbEZPntdEpX5XYX\n",
       "v+/hX4/fEn7CSFVuXwGu4cN8odvFSN44vml/H+kLu45vKt9HTv/71gVuw9NXE4daKNT/DzgRP+hd\n",
       "ttm+AAAAAElFTkSuQmCC\n",
       "\" style=\"display:inline;vertical-align:middle;\" /></a></span></td></tr>\n",
       "<tr><td>&nbsp;</td><td colspan=4 style-\"text-align:left\"><a class=\"ProveItLink\" href=\"../../axioms.ipynb#multi_conjunction_def\">proveit.logic.booleans.conjunction.multi_conjunction_def</a></td></tr><tr><td><a name=\"0x34c7e67d97d7cbff_step3\">3</a></td><td>axiom</td><td></td><td><span style=\"font-size:20px;\"> <a class=\"ProveItLink\" href=\"../../../../../../numbers/number_sets/natural_numbers/_theory_nbs_/axioms.ipynb#zero_in_nats\" style=\"text-decoration: none\">&nbsp;&#x22A2;&nbsp;&nbsp;</a><a class=\"ProveItLink\" href=\"../../../../../../numbers/number_sets/natural_numbers/__pv_it/axioms/41585b68a7dd1d513f84c532999561d9671aca5e0/expr.ipynb\"><img src=\"data:image/png;base64,iVBORw0KGgoAAAANSUhEUgAAADMAAAAPBAMAAAC7N+rPAAAAMFBMVEX///9mZma6urpUVFREREQQ\n",
       "EBDc3NwiIiLu7u6qqqoyMjLMzMyYmJiIiIh2dnYAAADXmt2vAAAAAXRSTlMAQObYZgAAAONJREFU\n",
       "GNNjYOC785oBBXR98WpgePpVgYFhJUN7AqqcD7cBA8cHBgaeAAa+BahS5hvuMjAEMDCwGDBw/gCL\n",
       "8LiXV4EZRh7MGxgKGBj4DRiYfoIEuH0boLrMNnOsAEn1CzAw/QXbDpNhMOO8sBkklf+AgRssZQa3\n",
       "y4zhEc8FkJQAA/c/kIADkhRzgzWSgdxRq4AAKsVhwBUAdgYnyBlsyLoY9nGDHO/AwAN2fACyFM8E\n",
       "ByQvy8KlrIH4GciQSobWDSAB9gkwqZVAzAhS3nfXGizAYaIBkdn+FaiDAyXwmJ5AAwoKAGQvOOyD\n",
       "fUpGAAAAAElFTkSuQmCC\n",
       "\" style=\"display:inline;vertical-align:middle;\" /></a></span></td></tr>\n",
       "<tr><td>&nbsp;</td><td colspan=4 style-\"text-align:left\"><a class=\"ProveItLink\" href=\"../../../../../../numbers/number_sets/natural_numbers/_theory_nbs_/axioms.ipynb#zero_in_nats\">proveit.numbers.number_sets.natural_numbers.zero_in_nats</a></td></tr><tr><td><a name=\"0x34c7e67d97d7cbff_step4\">4</a></td><td>conjecture</td><td></td><td><span style=\"font-size:20px;\"> <a class=\"ProveItLink\" href=\"../../../../../../core_expr_types/tuples/_theory_nbs_/proofs/tuple_len_0_typical_eq/thm_proof.ipynb\" style=\"text-decoration: none\">&nbsp;&#x22A2;&nbsp;&nbsp;</a><a class=\"ProveItLink\" href=\"../../../../../../core_expr_types/tuples/__pv_it/theorems/0e50a84fcd29aed2e6c3f826159fa446aca6ee610/expr.ipynb\"><img src=\"data:image/png;base64,iVBORw0KGgoAAAANSUhEUgAAAJkAAAAVBAMAAACnAFEqAAAAMFBMVEX///9UVFQQEBCqqqoiIiJm\n",
       "ZmYyMjJERESYmJjc3NyIiIi6urp2dnbu7u7MzMwAAAADGpxCAAAAAXRSTlMAQObYZgAAAatJREFU\n",
       "OMtjeMsAB0hMHAL4Ad8FhtNAirOBeQKQOo0uDRGYQdgcSzDJswGs4zoDgyRO03gL8Jt0qucBA+ME\n",
       "JNMyGRiu4TSNDaiSWRenYWwGvJ4MvAkI0zgCgKwFuExrZWC4ePAvTtOaGBiOAR2IMI0FaDuvAi7T\n",
       "PIGYA7dphQwM9hcYLiFMmwJiZuMwjdMBv2kfGRj2GzCwbYCbthQkehSHaVwBeE3j/Qo0bQEDTwDc\n",
       "tAqQcBvUNJ40MAiAmcbegNc0zj8MDO8XMHAkwE1zBgmb4HAbiwF+04Bue3+AgdkBbpo2SPg9DtOY\n",
       "NhDjU74PVDENFAv2BsimgX26BTXcBIj0KUM5A0P/BQZuB+yxgO42ArEATb1IsXAUJBqDwzRw3HMB\n",
       "TbsP0gAieL8hM1gMePUYGFgPwE3bAtKZh8M0kB9Yhb5FMLD4gvSCQsARxnC5ADTy1MIHwNz6ADVn\n",
       "OeDLWWBgi+FL5gsw1hUScj0EHMAwjQdRLCGVSJX4SiT2CdCUtQDDtFvwVJeAWlpWEiwtOTDjswHG\n",
       "YIeVluvAJTkHiLsOXfU6YkvyTjDJ9QAAefyjssLNpqIAAAAASUVORK5CYII=\n",
       "\" style=\"display:inline;vertical-align:middle;\" /></a></span></td></tr>\n",
       "<tr><td>&nbsp;</td><td colspan=4 style-\"text-align:left\"><a class=\"ProveItLink\" href=\"../../../../../../core_expr_types/tuples/_theory_nbs_/proofs/tuple_len_0_typical_eq/thm_proof.ipynb\">proveit.core_expr_types.tuples.tuple_len_0_typical_eq</a></td></tr><tr><td><a name=\"0x34c7e67d97d7cbff_step5\">5</a></td><td>theorem</td><td></td><td><span style=\"font-size:20px;\"> <a class=\"ProveItLink\" href=\"../empty_conjunction_eval/thm_proof.ipynb\" style=\"text-decoration: none\">&nbsp;&#x22A2;&nbsp;&nbsp;</a><a class=\"ProveItLink\" href=\"../../../__pv_it/theorems/50efbe88423572f8aef2dafc050b3fd5475165ca0/expr.ipynb\"><img src=\"data:image/png;base64,iVBORw0KGgoAAAANSUhEUgAAAFYAAAAUBAMAAADl6NejAAAAMFBMVEX///8QEBCYmJiqqqpUVFTu\n",
       "7u5ERERmZmbc3NwiIiK6urp2dnbMzMwyMjKIiIgAAADRdxPqAAAAAXRSTlMAQObYZgAAAPFJREFU\n",
       "KM9jeHuHAQJ0Z4GpJgYLBlxgFyqLNYGBpQFdTeVMEJgCUdEAV8vbwMB6AYuRdnAV1+EsdSDeh08t\n",
       "T2YATO0MIA7Ep5Zl3QMoi2MCyB0L8KiNZZgAZfEVAAnuAjxqNwMhhMWmACSYwJ7bexcErqOrncDQ\n",
       "C2VxGgAJ5gm4zWV6wMByAKKWEeRUng+41XIGMPA4EKnWHEjdQHID1wSEe6+gqQWqA6lH8xtWc3kS\n",
       "GMDu2AULLvYNONWygNzI9wCsFmw97wFMtYsgarnAnAOIOI4kMk3iSjvY1LLhSJM40jpbAy61L2F5\n",
       "6C0sD2ngUgoAUTxXQbIhWYQAAAAASUVORK5CYII=\n",
       "\" style=\"display:inline;vertical-align:middle;\" /></a></span></td></tr>\n",
       "<tr><td>&nbsp;</td><td colspan=4 style-\"text-align:left\"><a class=\"ProveItLink\" href=\"../empty_conjunction_eval/thm_proof.ipynb\">proveit.logic.booleans.conjunction.empty_conjunction_eval</a></td></tr><tr><td colspan=4 style=\"text-align:left\"><sup>*</sup>equality replacement requirements</td></tr></table>"
      ],
      "text/plain": [
       "\tstep type\trequirements\tstatement\n",
       "0\tgeneralizaton\t1\t|- forall_{A in BOOLEAN} ([and](A) = (TRUE and A))\n",
       "1\tinstantiation\t2, 3, 4, 5*\t|- [and](A) = (TRUE and A)\n",
       "\tm : 0, A : (), B : A\n",
       "2\taxiom\t\t|- forall_{m in Natural} [forall_{A_{1}, ..A_{_a}.., A_{m}, B} ((A_{1} and ..A_{_a}.. and A_{m} and B) =  \\\\ ((A_{1} and ..A_{_a}.. and A_{m}) and B))]\n",
       "\tproveit.logic.booleans.conjunction.multi_conjunction_def\n",
       "3\taxiom\t\t|- 0 in Natural\n",
       "\tproveit.numbers.number_sets.natural_numbers.zero_in_nats\n",
       "4\tconjecture\t\t|- |()| = |(1, ..a.., 0)|\n",
       "5\ttheorem\t\t|- [and]() = TRUE\n",
       "\tproveit.logic.booleans.conjunction.empty_conjunction_eval"
      ]
     },
     "execution_count": 5,
     "metadata": {},
     "output_type": "execute_result"
    }
   ],
   "source": [
    "%qed"
   ]
  },
  {
   "cell_type": "code",
   "execution_count": null,
   "metadata": {},
   "outputs": [],
   "source": []
  }
 ],
 "metadata": {
  "kernelspec": {
   "display_name": "Python 3",
   "language": "python",
   "name": "python3"
  }
 },
 "nbformat": 4,
 "nbformat_minor": 0
}