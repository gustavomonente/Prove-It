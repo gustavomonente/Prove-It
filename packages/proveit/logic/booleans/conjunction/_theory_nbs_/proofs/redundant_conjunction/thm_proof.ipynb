{
 "cells": [
  {
   "cell_type": "markdown",
   "metadata": {},
   "source": [
    "Proof of <a class=\"ProveItLink\" href=\"../../../../../../_theory_nbs_/theory.ipynb\">proveit</a>.<a class=\"ProveItLink\" href=\"../../../../../_theory_nbs_/theory.ipynb\">logic</a>.<a class=\"ProveItLink\" href=\"../../../../_theory_nbs_/theory.ipynb\">booleans</a>.<a class=\"ProveItLink\" href=\"../../theory.ipynb\">conjunction</a>.<a class=\"ProveItLink\" href=\"../../theorems.ipynb#redundant_conjunction\">redundant_conjunction</a> theorem\n",
    "========"
   ]
  },
  {
   "cell_type": "code",
   "execution_count": 1,
   "metadata": {},
   "outputs": [],
   "source": [
    "import proveit\n",
    "theory = proveit.Theory() # the theorem's theory"
   ]
  },
  {
   "cell_type": "code",
   "execution_count": 2,
   "metadata": {},
   "outputs": [
    {
     "data": {
      "text/html": [
       "Under these <a href=\"presumptions.txt\">presumptions</a>, we begin our proof of<br><strong id=\"redundant_conjunction\">redundant_conjunction:</strong> <a class=\"ProveItLink\" href=\"../../../__pv_it/theorems/c97877e7be57627ad188619864ecabb1e4f5407a0/expr.ipynb\"><img src=\"data:image/png;base64,iVBORw0KGgoAAAANSUhEUgAAAVAAAAAZBAMAAACV5mv6AAAAMFBMVEX///8QEBCIiIhmZma6urrM\n",
       "zMxUVFQiIiJERETc3Nzu7u6qqqp2dnaYmJgyMjIAAAAcRTyBAAAAAXRSTlMAQObYZgAABLBJREFU\n",
       "WMPll29oG2Ucx79pcvlzl0tkbi8Ukbi+UDGyYGHCaF06X0xkauiL4Qs1wc4XA8siFevmLME3SxmS\n",
       "MKWWiuu5idUONVgCU5QGqyKtm6ETQdfqyWC6oSys1WYbtf6e57lL7ow9G3Fa8Ef6PE/vee7u8/z+\n",
       "Pb8DnMTbtxdrQTx9+50X+LBWZPB/BRooX1XG9wSozrq5FUFDrFOdSd4Q3SNXAVIiPG+eg06z/8+v\n",
       "CBosUBfSHJ92TnQXjH/zTQZKo4Xqw1AFkHUOOsRmMiuC8qkhxzepMdFdMLZzpjnQow1XQrHa8NvL\n",
       "1HzEQZm2uNpW8FGm7GlnRxYqPLZV9NIBrSnQUw1XHtxnjuTxS9S+ykHVqbGxlxyCaXZs7M2045uM\n",
       "u8ub4iL3bos0w6nMN1zatbFmrJYFpuE4j/pqNrvfATSczR4oOb6qVbiaNiFC7m1Y97Vj96FWDn7/\n",
       "ug/O4YXZ3Z7vT7T3kLd1fJrHu9EITi22FaTbZvT6LbJeSzb3KkvUBmMc9DFgwAHUm4Cf21S0iJtz\n",
       "tZue5+1rSApNTts8pZSNyJf46Nr3lzz70Km51mM0hu2a53plLzYDvTxtWDYXLJiuKMeli0yvOge9\n",
       "W4RVLSH0foybUnVQT4x0xOQ7gWjGnbpg3vGMsYEREQNpHLY8rdCPwC98+APgKsEVCaWgLOAGYJ2y\n",
       "AQ9oDLRTQ8QWwbqZEALMMZQ0B/WhpZYmj0124HhQc2uWhJ/G7Xx3W8s20KNL5k3rOVF32x4+pUaY\n",
       "EWpmlBegVvjwLJDsmPuqTDEtz0vzc3M9kKIUgATqq95qUdUMtzKTnW2bq+zZFQ4aLNdcQj04rOHD\n",
       "SCxoPZlOCLMER2M20KleGyhlQxfXg0+DlLLESgVe3cxaEwUj+VSVK2wXP+aTHFQ+uVzPSKCY3wnT\n",
       "zW6sgwZ0uqx2dLUyLyApFg/ZQA+L93b5M1ZQKZK1mZ4QfNewwXj9BGDi1hEucwP9BOHFQqPM9/xp\n",
       "JIcJNDJscSQoxBzi8aDQ3xNMCcL0GNhFoJ1lV14cp8XgWw9ZQf2D3DlT7rQV1Is7rcEUKIhTRECO\n",
       "10HJLSe0kgHq0yEbPtoPHAnT3IuJs4htA3rq6T4vYIGXjePOCCaME8HwzQhrMp8uojRpBVU4kVpo\n",
       "qVhBT2OTuWjSyKV+Ft1SRpgfeEdnv5E4TqrcZ8nE0hW4tdB1GC0hWcAWVwZfPKzdhRgF04CxntK9\n",
       "YX4EmGZyhO0uCdAwM8ij6IT0dDb7HIG+4rNVTxd5dmz/7LIFVD7zec6MuO2UX5bPQ8kt0ka9TP0t\n",
       "7Im+FPvR5OBptuqe5YPA63dMIdSzkUwod0e1QHf0yM/wPp7fMTMbN9ZTumerKeXLud80HF+m/YUS\n",
       "AlRlb9yAdgkpoVFPlw30G9ZsMbOMAKW8MJKwH6HWEiPhcD5YTvI/Fe5okvXKqKUeDVTwZBGfsOGX\n",
       "dGw21KMeyk1LFtD7yBBle1GyWgk1t7xWlBggKUTL8FNIePrjFCl/BM1lMLRYroH6qwjknm04o1Yl\n",
       "vlSTnEaZZ5NbyEf/osLPrFg4r7L83PNrkwWrP/+3PkUy//qnyNf4p0DXwsdd43d97L/A9PQ99Tux\n",
       "lUsPV2ygIwAAAABJRU5ErkJggg==\n",
       "\" style=\"display:inline;vertical-align:middle;\" /></a><br>(see <a class=\"ProveItLink\" href=\"../../../__pv_it/theorems/ce778d64aa885d7b2676d24497e5ffffdcdaa10f0/dependencies.ipynb\">dependencies</a>)<br>"
      ],
      "text/plain": [
       "redundant_conjunction: forall_{n in Natural} [forall_{A | A} (A and ..n repeats.. and A)]"
      ]
     },
     "execution_count": 2,
     "metadata": {},
     "output_type": "execute_result"
    }
   ],
   "source": [
    "%proving redundant_conjunction"
   ]
  },
  {
   "cell_type": "code",
   "execution_count": null,
   "metadata": {},
   "outputs": [],
   "source": []
  }
 ],
 "metadata": {
  "kernelspec": {
   "display_name": "Python 3",
   "language": "python",
   "name": "python3"
  }
 },
 "nbformat": 4,
 "nbformat_minor": 0
}