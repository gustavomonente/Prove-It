{
 "cells": [
  {
   "cell_type": "markdown",
   "metadata": {},
   "source": [
    "Proof of <a class=\"ProveItLink\" href=\"../../../../../../_theory_nbs_/theory.ipynb\">proveit</a>.<a class=\"ProveItLink\" href=\"../../../../../_theory_nbs_/theory.ipynb\">logic</a>.<a class=\"ProveItLink\" href=\"../../../../_theory_nbs_/theory.ipynb\">booleans</a>.<a class=\"ProveItLink\" href=\"../../theory.ipynb\">conjunction</a>.<a class=\"ProveItLink\" href=\"../../theorems.ipynb#disassociate\">disassociate</a> theorem\n",
    "========"
   ]
  },
  {
   "cell_type": "code",
   "execution_count": 1,
   "metadata": {},
   "outputs": [],
   "source": [
    "import proveit\n",
    "theory = proveit.Theory() # the theorem's theory"
   ]
  },
  {
   "cell_type": "code",
   "execution_count": 2,
   "metadata": {},
   "outputs": [
    {
     "data": {
      "text/html": [
       "Under these <a href=\"presumptions.txt\">presumptions</a>, we begin our proof of<br><strong id=\"disassociate\">disassociate:</strong> <a class=\"ProveItLink\" href=\"../../../__pv_it/theorems/64d74ed8564dcacb482f162a4da38a94d46a380d0/expr.ipynb\"><img src=\"data:image/png;base64,iVBORw0KGgoAAAANSUhEUgAAA+kAAAAZBAMAAAC/aXLIAAAAMFBMVEX///8QEBCIiIhmZma6urrM\n",
       "zMxUVFQiIiJERETc3Nzu7u6qqqp2dnaYmJgyMjIAAAAcRTyBAAAAAXRSTlMAQObYZgAACSxJREFU\n",
       "aN7tWnuMVNUZ//bO3Llz7527u//4ROqIRpZG3GnWLkbXMtikNG0Ms2t8JJoyYaVF0pZpaQpFKWNj\n",
       "YcU2O20TS6yy10cE19eEDRESiGOxtoWiU5cmpIKutf1D/5HwXlDpeZ9z77l3ZyYxacpykr1zzre/\n",
       "7zvfPb/z+M43A9B8+d6qClwo//dl4apaK/DShRE7L4pdvMD61OXJ8+t13AplfQI3DjfJejv+8OrT\n",
       "h3SnTD7MidbUvqOLvBUne5Y93LyJqfBO1+AP7Ba26afX99afoNX7Kev7cP3jJlnPVNFHuz99WG+n\n",
       "kUz7EUUWF9wo8k+U7ZRX2tAEml/Q5XFWQnhV5ao6uF+pN3JIwI2ZAGMzaf1lyvom/FFuknUC3DSN\n",
       "Nvhx+vHeGUX2YQxWyr1P5MJoz7HKYkTTopwuj7MSwisqW9egx/xKI4c43NmAvElM0kYmS1jHK5cs\n",
       "4abOdbwp7JtGrP+MjtvYpBSZG6L3OkX+gkLJ3WtYpRvJ3s/q8jgrIbyi8gGGLGjoEIe3X44eyU42\n",
       "BToJ697e0dHfNx3NHRodfX4aBXU2fVfPOC5lqVuzkVhFXu/OC/F9s1jlITTkl/i6PM5KCC9VEmfx\n",
       "8/aGDvEe5uM1bfJd4980hj89NPRg06x3DA1tqE0f1g06Vt9yP5Oyl2PuMlKe9F8Th64zYbHaSYC7\n",
       "loMuj7MSxCsqIwTxfCOHONw+RVp899lDWV8K8EjTrKcKkJ5GqZo0Yc/Jm0elbF/MESflz8Jisfoy\n",
       "VXZ8micPdz0g0UIeZyWEV1TezsZ1HAnPHA2I36Osfx3NCnBWNMd6MkeiQIjjXsyfbx7bs0yHJIf7\n",
       "egNTzFvfZ+iwgDQpKGjQpWZcLZo/Bwdrc3RYSGpVqQf2MXxO8lHYHDM6XJ6HkRwfUQtseuszUGjw\n",
       "VFFYEfI4KxyvOMNU1rHA3ixP6RCHWycC4lcp6xYYaEYvjBktc+UbcFVRZmlKMJfU389HXjLF+ed1\n",
       "QqZTB/wd4HX13PwXOA/pp2lAmuaVRl2GjQdhIX82Z2Gr7l9Y2ka6vLOn9zQ6SOdRQ1m84UV0IOTm\n",
       "YM+KMh/Rd8hmil8D2TXOcitSHmeF4ZXCVa4kh71v9pSmdIjD28j9wxFXA8p6pm7R7V4vL+y5BXZk\n",
       "/IQvWd9PDxFnfmSq5hlx/iWK4J7RAb0ArykRygga1YMaKCjlrDfsUjFuBA7nCH9sNFc87b6qSSnr\n",
       "6PEl4DRaPpjFqKUl5GhzapvgI4ri6DtJpQP90zgqlpeQx1nheFm4yjqSZCtAsjSlQxxukVzD9hDr\n",
       "9gT+56+jJt6jj/uwO5vLyB0eNtMeMlsir5t7Vwr3s5CI2MJ+DPA1pYnDyAENFJRy1ht2qRi/S50g\n",
       "pBHyx0IhqamFvpqU7PAu+vuRYH0M/X0U4YeUIx2rk42om+OZHnz9Th3nVqQ8zgrHy2QqVyHXQsQJ\n",
       "Yz3GIQGnN3URgi9kefhH7kMP/C/vloGrjWsLrIZPfDxJtv9WZT39GJn+A+moxI6ZHeLVVwpwvX6N\n",
       "dE6AoeQBDbz6RrXAOSjlrDfsUjG+UZ1wpBHypxvVHc0/TUqiuT+wZBvl6yM20OEi5HaV5vImeW7P\n",
       "zfHr92Kx8Ut5jBWOH//HrNyspQGVETwv9wrWYxwScBtvGBmfWJLRHIwhbROfZt6Cettyo8hqFZqi\n",
       "35556V6FdZeeS8UEaizXLpswD+y1pLpobhcylAoNbPLoO+vVpUR5DKGsILuc9YZdMuMIYtaULxZo\n",
       "g/ojymr6ETK3WouDc+zOPlxhfJEQysIOv4KGx/mcVRQ5Tn6kJ+mI0tiNZEs+QA5e6nPWhZwoC1PS\n",
       "CscfmAkX+9cGVPA1csznrAsVYkA6JHtG10j3JsCWLkOtPsZ6B5o7BtZ9fDZ05BM1VvOdHD0QansU\n",
       "1oEcNV7VOAL3Xh4epHehG+CXpPoWwGwwXw+xnpkAQ7lcdpB9J4zqqEWx3rhLahxD0n5a0ScN4o8s\n",
       "n5Jn2Nyn2p2jBM7w5z7sOLeS8ZXCW52BV5uFx+6nvCLkW899DO7wqRwZUcDbKOBsyQ/PDfYOVcWO\n",
       "IeREWZiS1hnefroExzFTigo8s34wD5x1qYINSIck3LnxuzcAsYQ30f8w1j006Glymi2BfnZZWQIL\n",
       "wFw9NPQLxPqTlsr6P0lioO8vZ9hMUvfvD/827AONgX+FdqIqm7YKAzWwzwbPUaceRjFpiPXGXTLj\n",
       "a3DeypOXYdqg/gRCh5c0c0yqZWTFicjvkXrMrMnpiJLj0ISwlQh5tBVIZdGm8UCkCmU9ziENnsri\n",
       "rKxTUr5fb7sDPy+CLhgxaa3PhCJd68kBlXVSbgL7hE4BivVHCuybHDT8iyoa6x1VSE7C+O7xe/5E\n",
       "FMokLAmhqNS7+XBNZb1xl9Q4hqCNW54StEH8QTa/uosM0I00wAmZo9Lx3YfC374ofDVb6IjqpTUr\n",
       "0FYwyvaRqJsZP9ebt5SoFfi3L4wOAzb59hG0xg9maO0n24EwcwDgUJj1JFqJn5ExQ9CN/AG3ITt1\n",
       "D624jWCfAfsKwqf8P0KM+PCbGmybaKvuwrqwFpy/6igidbtYf+lQlwEo7xKEcQTBOed3OYg2qD/u\n",
       "9TDDJf5ZdXixEnwDId1WlslSNTP0akuD3GFEy1uzAiNojXrlyCS4W2rRkvXtAv+mla2ZN6C/miyi\n",
       "gPCxvbR2XR3SaEtM/jyPIqYQ68Nl2HSqjsesv2peBv0V/KimT4M9vDaRB3MG/PlYz7I8vUvOYP+v\n",
       "9Fcz63p6H8Zp3S1wA9aFzOAffQ3FpEtZ7ikd6lKFii5BGEcQHB2mOYg2mD9LnRL1D97s+zKNdsQb\n",
       "CGmqcLc8QeSe8bt1S1oZZDSiUaVFK/ANFIzb34/6Us2edzLbmiVjP81kBn5BVdVqXehcD2Zkw3kA\n",
       "Xcly6Q2XZxBkQ2AtdNMoVZV2JKpkHAjm5kQMG9WldGQNyUOJXFSgUXJzAf8Cb+AK9+bKLOB59gsq\n",
       "rxJi3a3oNS0Pr5aBY9UIpcwcgJ380tR9s2xI7HNwDSypiHY0yim6+zXWcZc6FHcpjBNITHGKRj6l\n",
       "+Bd8g53CvV3n92/EVNa9iNqUrMcrBQatHmfWawoVXOuxUK+V165HKk6bnwO29hvZVf+T38Mn4EL5\n",
       "QsvCVcX/AqV8BQqUgj5aAAAAAElFTkSuQmCC\n",
       "\" style=\"display:inline;vertical-align:middle;\" /></a><br>(see <a class=\"ProveItLink\" href=\"../../../__pv_it/theorems/fea6799d39b61a9eeee3269c742e93aeb31740060/dependencies.ipynb\">dependencies</a>)<br>"
      ],
      "text/plain": [
       "disassociate: forall_{l, m, n in Natural} [forall_{A_{1}, ..A_{_a}.., A_{l}, B_{1}, ..B_{_a}.., B_{m}, C_{1}, ..C_{_a}.., C_{n} | A_{1}, ..A_{_a}.., A_{l}, B_{1} and ..B_{_a}.. and B_{m}, C_{1}, ..C_{_a}.., C_{n}} (A_{1} and ..A_{_a}.. and A_{l} and B_{1} and ..B_{_a}.. and B_{m} and C_{1} and ..C_{_a}.. and C_{n})]"
      ]
     },
     "execution_count": 2,
     "metadata": {},
     "output_type": "execute_result"
    }
   ],
   "source": [
    "%proving disassociate"
   ]
  },
  {
   "cell_type": "code",
   "execution_count": null,
   "metadata": {},
   "outputs": [],
   "source": []
  }
 ],
 "metadata": {
  "kernelspec": {
   "display_name": "Python 3",
   "language": "python",
   "name": "python3"
  }
 },
 "nbformat": 4,
 "nbformat_minor": 0
}