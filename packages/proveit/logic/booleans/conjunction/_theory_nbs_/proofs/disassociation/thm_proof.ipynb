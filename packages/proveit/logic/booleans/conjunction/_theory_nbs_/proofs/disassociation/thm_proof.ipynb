{
 "cells": [
  {
   "cell_type": "markdown",
   "metadata": {},
   "source": [
    "Proof of <a class=\"ProveItLink\" href=\"../../../../../../_theory_nbs_/theory.ipynb\">proveit</a>.<a class=\"ProveItLink\" href=\"../../../../../_theory_nbs_/theory.ipynb\">logic</a>.<a class=\"ProveItLink\" href=\"../../../../_theory_nbs_/theory.ipynb\">booleans</a>.<a class=\"ProveItLink\" href=\"../../theory.ipynb\">conjunction</a>.<a class=\"ProveItLink\" href=\"../../theorems.ipynb#disassociation\">disassociation</a> theorem\n",
    "========"
   ]
  },
  {
   "cell_type": "code",
   "execution_count": 1,
   "metadata": {},
   "outputs": [],
   "source": [
    "import proveit\n",
    "theory = proveit.Theory() # the theorem's theory"
   ]
  },
  {
   "cell_type": "code",
   "execution_count": 2,
   "metadata": {},
   "outputs": [
    {
     "data": {
      "text/html": [
       "Under these <a href=\"presumptions.txt\">presumptions</a>, we begin our proof of<br><strong id=\"disassociation\">disassociation:</strong> <a class=\"ProveItLink\" href=\"../../../__pv_it/theorems/2342df02131328c1fbcad0aa58266f6f3d01e1010/expr.ipynb\"><img src=\"data:image/png;base64,iVBORw0KGgoAAAANSUhEUgAAA2cAAAAyBAMAAAAqzr6PAAAAMFBMVEX///8QEBCIiIhmZma6urrM\n",
       "zMxUVFQiIiJERETc3Nzu7u6qqqp2dnaYmJgyMjIAAAAcRTyBAAAAAXRSTlMAQObYZgAADFxJREFU\n",
       "eNrtXH+MVMUd/+7b29+7d/xRKZbSrpjg0Qi35ixQOcNSE2lsGvcw/vjDeBsOGiC1bIMhikUW28Kp\n",
       "NbdtE0Wt3EMbimeFVXJBEozbHv1FFTZiW1JBzqJNJGm58OPgoHid32/mvXnsW3rJ3eMcwu7szGe+\n",
       "b3Y+b2a+832fWwDvKTAyUoFxkfbBxEvb6FtyZGRSPc0Ce54zx0X/k5UJSFrDAHmLP/dCfaTlxkn/\n",
       "Z8BETB+y95AvSUtYvX5x1Iz+35YSpVH8hjpb0YqfSdua5bl4kX6NgfoMPOAswpZSq4Zal//Yu5m/\n",
       "jXTO6RJ9gRUOm82dD8a8r+QyfIWu/gt+Ju1HItdI78jGQanW5YaPSfmTTjSxFEDMLchpm4DuClMA\n",
       "gmdF8Q579XVVSNxU9dwxGb5Dh3zdx6QlLojsIbbaX5Cqj+tbNWZENnXSdKCJpQ40ZHdmdE2UxNuE\n",
       "LiH34LTlHqXV6u1r0cuCkteOKXBuS0mRin9Ji1hj+QhdN3YNW7WhTXoP9761IvuqNZICTSy1oPJj\n",
       "aV0TOYk2Brps6pS1fE1Sqz/C7ws9d0yBx3XEJIb9S9oxMeSxAp05xhmrNvzNtLbV0ukiW23J2tHU\n",
       "0gY0Wl80dU3kJK4QRaO3VSL2Y6U6eBG/3uW1Yzb4xzroav+S9rDIGXTO3ZG4BNLOUtDu8gMRceAx\n",
       "367a0dTSEMC9K3VNlCSu0JSH0Bpp+vQr1T3k7RWvHbPB+7W3q+lX0kLWtIqSwY9nQ3iNuo+W/QX9\n",
       "053Hy8kyy/4KOtIQX6WgiaXQ0NHmRy1LUhMliSt0PPjeprLjIMWrD7KJFSp66tjBtPNQduA/OFl7\n",
       "4c60X0kLWn2OkK/bADHkDdw1l5YVYIt2I4QYPxdkoQfNq0UKmljCe9TWvLAkNVGSuALaAuOTpYrd\n",
       "SvV6Olqh1oKnjq1XB3e31mcZ8CtpgbyVJXvTPa1zzgNnIZWGsK6b7wEsY3d+Z+uqIlt/BJpYwnuU\n",
       "cZFbkpooybrCBkycNNU6lOqvkrXMhIaCp45xuGzLnoxhv5LWUbWRhl6+IkiLmBDKa1ohf+EetqWh\n",
       "duiOfVpBE0tojwLjlCDNaqJODXGFIUxa2kaaqF5PHL4cJ61Wxzj8cqTFLvmVtJaSujwm0P8fCNJ2\n",
       "of+farzljDiJozYR9LWHFTSxhG+H8BluSWqiJNEGH9NgVTZ16+LrjRk53gNRTc4VSeCk1eoYg2Nr\n",
       "wG3RPe1fFnqyX0nbAKoj8gILcdCh/pSNj303KNHxQXdrmURQ6DcXaGIJ3w4dRW7JaqIm0QYvVqHz\n",
       "kFpYDaw08tx5ENU9eA7uF6TV6hiDY2slsKLDatrkV9KmSJ5Xhp2wuktsqImrFsE7w060BMY/Yxnq\n",
       "EJIj1bOYomEwigoaW4KP0AhPMTlpoolqyWrTiAZv4ZPw/A3QlA3iYEWbUo3PIbtMTpootyypHWNw\n",
       "bM1ktpzpICONOCRHvZLWSPbU6hhyFrfiRng84t2fmfDmyGo21GG8Nxn4po3ge38NzyzFlfgUu33k\n",
       "BCS6z2WiaQWNR/b7OP5bFnNWNFEtiTbhk0Oty59CH5ZAO11eP1FMwssbO7PASbPKhSW1Yxy+hEZF\n",
       "PtHHFXKUNHJ4OOGVNHKmaDTH8ph2SvrwiJRfxLwMlJwrAvFYQvJ3uVtFOyw5mwg/xnaFa6AZehAw\n",
       "XtBWU9I8d+waaOO2NE5YmpK2Ga/zRa+kEeTmMQ0XX5Q+HKp1snFNTYb6+cotxQbR7DicdAnyog4X\n",
       "6rT2UJ+rrZ0ZShqeNvqTv3ZPO0HO9mOYUmelD1HLu/vF+iV1HdFtMpMrt9SQR07GM/tdHqdAbO5Q\n",
       "uj5rN1bdbJFDCSYttb+391nvjsiR3t5XCmNJmjEsb3DF0TI7CpaeGMVv6WKrqci8x/NdXT/0TlpT\n",
       "V9emyliSlpSfnY0nuUFqFOUGbrYCA4y0ZZhXFj+tTVo4x1aSaOnyt8i3Tvcv10DsxamNbYYGdriz\n",
       "MtNlXbsAEzcFCoy02yA+IEI3Tmdt9T64Lm+R1pBh6+2xrPYWESH41CRIak6BtuLYPyG+wYnakobt\n",
       "EurD2XPn83x4cAKThkM5hLQIGFWX5zev9t8KbybNoCkdrgswi+wBC7SHtZfFk61gXtYFgEtxD6L+\n",
       "sHPzRtSn2CYT39taNZKxD3KfkyaRlqzip3BP66bNU8+b8FY6k5QjIu/SZ3nJX2sFFPtXC/tpCA5o\n",
       "LqsW4910sROEds0Q87kO7+kFw4D91c+XRzQwfHmMDeAoM/bJrNAnDVvehnF9fT9XSNtCY9WLozp3\n",
       "K5TuEkeKHMzWHMLVYgMz0OsAteBwD0U14HvDMBqO8I0vOTyR9zTuiMATS1nGCn3SsCWZEX3J1+6X\n",
       "SYs+QzazfBCRvtJuNAxzIbaOZO+c1Ywshe280WJx51Dm7ShLUEDjZkbwJhHWMc7qj0PVq4odF+Vr\n",
       "IM9J24WGn8RPrdAnCVvGyQLYB5V+mbQEea6bKhuDcP+X7EY/gBaAn5DsAYAbIPRbO2mk2Dp3kNOD\n",
       "A/VfaZMkRBnwjZzD1VHSdvr2QJ0xMc0CbpOg1vTOL6dwfWnjnOovvXdHgq/Qn9MynLQmtHuQ+KkV\n",
       "+iRhy9DDXV2PI9JejMikAYn97Wj70wUWNpdPqMff6TaBun0/RV5Gmca75USL5c0rXnWg8E73Gs3e\n",
       "29XVlUakVXhYIaEnjT2qOilPPpehkW5iSeVqoVUJak2NqU3hKlcZ09CUmOa5QzJcHxLZWeGkpUwW\n",
       "PxWhTxa2zNOZ1rBYIe0f+OUWiJ11kobczJ4cC2ReREthyUkaKU7NP/r1vdhYsEieE9pR89D/Chx6\n",
       "6whecOlMq3C/J3RJe7/TalmGWlNrCorKtVG+gCRBrSl+tSlcpao4VjoGh712SIHrg488YMzmnQGb\n",
       "TR76JLmH+uD3uOZ9gCMKacQ9QB29REhD2Cf5C3wHGaqmKoA+xS5A7MuEDqteFCdmw9REBbdYB/E/\n",
       "O1GRKvymBG8U0RRP4msaSXhHhGFOa90qerdKMtTaWlNV5SrQNglqTfGrTeEqVTXi7aNhktcOKXCt\n",
       "WhXeLsukBfdBe5mHPknuxipEEaThsSy92xXSuouw+VwVk9ZeDl0L7SX8Uo6eh1j3umAWQlPhj6db\n",
       "l2epMmIqqy9ZxcviBQRrL0Oy83emEwV/aPsaDr7gJ4T4idXfD8z7t+j4Y7pvw6Knkgy1ttZUVbkK\n",
       "tE2CWlP8alO4SlULyBBnvHZIhWvVqgdLYHtyXXbkmtGeZgtjKWmtrlUkQXUb9IMpfbByhUQGw8qX\n",
       "RUVgFqLAQHuactEFum9zPV0AJBlqba2ponK10DYJak3xq6pwlapi58inkscO2eDaaAcJNsqkWV6m\n",
       "219a2UlbfLqsaZWcCbCHz/yW+dYHKxfPG9nwTNHCBbUN9ur8+GO65YrGBogMlatDa2pNmcp126CK\n",
       "ZhJUjxpToXB1ViX5GutN/Jo8pZRqRSJT7KSlNLnLk+beShnsqr7Ydh1XlGMz1n1zOmxEhsrVoTW1\n",
       "pkzlSp8sW2gqQfWqMeUKV01VhLmgHsWvEfUAqnsSGztlJ83DeXy8iVWtRP7ejslQmfypptaUqVyJ\n",
       "pkdCMwmqR42pULg6qwLENY17Fb8KOLs3NVD/ilWDg26kMRkqG+6aWlOmcqV/EGChmQTVo8ZUKFyd\n",
       "VZFBemTyKH4VcHfSogW/ktZwxm15ZDJUOtw1taZc5dpUUtBMgupVY8oVrof+Oj0zfZlSRY9cFa/i\n",
       "Vw7HlkD/rKwp7VfSYLWLI8JkqGy4a2pNucq1XUUzCapXjSlXuL4/DSabM5QqsgMlTa/iVw5Hlq51\n",
       "cURaTN+SpnMf+0HIUNlwCxWoUIeSjCUm5SrXZgXNJaiuGlOSkfBU4Rp7qQBnqMLUqkLnj8Qt4Fn8\n",
       "SuHYEt7ddGpV+ic6viQtUHGWLbJkqGy4LRWoUIfijBCNCpXr4wpaSFBdNaZrFDxXuIbTaCwfVS8c\n",
       "n/fdmwG8il85PJwmURGNWtXPf76reyAekTYLOtwkNOJJa5rTouvUmAZyRjE2qDdVn/g1kAtWclq1\n",
       "Kotd+vMnKY67BowpqfVJ/Ab1Yao6rfSgGZIqVrR1u+u0FPl2Thswft30MWk/0/TDEgrWqQ6Ftqyu\n",
       "tF4rtyNHI/Y9bWy5TvHr7WC8q3004+8ff9FNgu1wdSWNWjWc8TNpMEczM64uuYFOrcpVayF//nRg\n",
       "OA0TL13pTweOmx/pvHkCkraNThj8I53/A+FODejrm96KAAAAAElFTkSuQmCC\n",
       "\" style=\"display:inline;vertical-align:middle;\" /></a><br>(see <a class=\"ProveItLink\" href=\"../../../__pv_it/theorems/7ca8afd19937c84bb2e1af1aba6ea261b615e8190/dependencies.ipynb\">dependencies</a>)<br>"
      ],
      "text/plain": [
       "disassociation: forall_{l, m, n in Natural} [forall_{A_{1}, ..A_{_a}.., A_{l}, B_{1}, ..B_{_a}.., B_{m}, C_{1}, ..C_{_a}.., C_{n} in BOOLEAN} ((A_{1} and ..A_{_a}.. and A_{l} and (B_{1} and ..B_{_a}.. and B_{m}) and C_{1} and ..C_{_a}.. and C_{n}) =  \\\\ (A_{1} and ..A_{_a}.. and A_{l} and B_{1} and ..B_{_a}.. and B_{m} and C_{1} and ..C_{_a}.. and C_{n}))]"
      ]
     },
     "execution_count": 2,
     "metadata": {},
     "output_type": "execute_result"
    }
   ],
   "source": [
    "%proving disassociation"
   ]
  },
  {
   "cell_type": "code",
   "execution_count": null,
   "metadata": {},
   "outputs": [],
   "source": []
  }
 ],
 "metadata": {
  "kernelspec": {
   "display_name": "Python 3",
   "language": "python",
   "name": "python3"
  }
 },
 "nbformat": 4,
 "nbformat_minor": 0
}