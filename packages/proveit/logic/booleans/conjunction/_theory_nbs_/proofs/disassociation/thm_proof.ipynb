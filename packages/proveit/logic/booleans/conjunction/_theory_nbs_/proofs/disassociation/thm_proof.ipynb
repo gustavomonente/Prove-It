{
 "cells": [
  {
   "cell_type": "markdown",
   "metadata": {},
   "source": [
    "Proof of <a class=\"ProveItLink\" href=\"../../../../../../_theory_nbs_/theory.ipynb\">proveit</a>.<a class=\"ProveItLink\" href=\"../../../../../_theory_nbs_/theory.ipynb\">logic</a>.<a class=\"ProveItLink\" href=\"../../../../_theory_nbs_/theory.ipynb\">booleans</a>.<a class=\"ProveItLink\" href=\"../../theory.ipynb\">conjunction</a>.<a class=\"ProveItLink\" href=\"../../theorems.ipynb#disassociation\">disassociation</a> theorem\n",
    "========"
   ]
  },
  {
   "cell_type": "code",
   "execution_count": 1,
   "metadata": {},
   "outputs": [],
   "source": [
    "import proveit\n",
    "theory = proveit.Theory() # the theorem's theory"
   ]
  },
  {
   "cell_type": "code",
   "execution_count": 2,
   "metadata": {},
   "outputs": [
    {
     "data": {
      "text/html": [
       "Under these <a href=\"presumptions.txt\">presumptions</a>, we begin our proof of<br><strong id=\"disassociation\">disassociation:</strong> <a class=\"ProveItLink\" href=\"../../../__pv_it/theorems/ed8177fdcd6516a4af5eb6656645c9aec0083b050/expr.ipynb\"><img src=\"data:image/png;base64,iVBORw0KGgoAAAANSUhEUgAAA3wAAAAyBAMAAAD1gMSQAAAAMFBMVEX///8QEBCIiIhmZma6urrM\n",
       "zMxUVFQiIiJERETc3Nzu7u6qqqp2dnaYmJgyMjIAAAAcRTyBAAAAAXRSTlMAQObYZgAACrpJREFU\n",
       "eNrtXGtsHFcVPp59eWZnHf+hj4SUbZBSB5HYlUsSGlfegEQRFXQdRNsfFV7FCQoRkEVB0Iam2fBI\n",
       "trSVF5DatNB42iJIXJouWFYbKVUXEl6hbVakiIjm4RL6I5FoXT+S2Glq7mPunbkzd3bt7PgxTY7l\n",
       "9Z0z53579373ce6Z4wWYvNRNTJRgTsghuJJFy9C/Rybem0q1uv1PGHOi/XrpiqYPvkT/7H3id1Oi\n",
       "Lz1Hmr/4ymYPEgNmoSOI9MUbxeunfEOuGSle8PFjemM9EmT6nk6JW0GO/IkMTA3lq5JNBSElNp1r\n",
       "3fCjKcwE0f7rLsymrm+qU1jsn9mxvPxLDyxXDwSSvh+Klw10lDYM2nReA9emf9cqqnakOsRhe9p1\n",
       "zxNJtN/nrHZjGeI3l6s1jJsrCwH6FopY3utPEOmLj4vXR+mfk3b1aY+6lj7xruWGNbTYkDpRX9/Z\n",
       "4rrniSTa60mx2p4t6KW9UK1hzFzbiVoVGhOxJPJAcOmLOTr0fvrB+8YsVWSn3EW26Z+z9ek9W2xI\n",
       "zUh/Kum654kk2muNYrW3sNnqqg1j5g3z0Uu4UcSSyCuFwNJ3SlyA1CydTcqIpYt+Rj5wbfpys7WD\n",
       "rltkQ9qO+u1aw3nPG8lh/1+hWugifv1y1Yaxd2kvYo5bRCzvIRxE+u4TLxX6Sb4Qv2Tp9kFWWtXS\n",
       "h41X+IakDcRsSOcA7t4IznveSKI9HBSq9RCrvdUaxszV8+SqIGBJHabxoNIXGRGv6wkNWioyhBch\n",
       "qvs7+pGJpf8VdCZB20T3mKJe5EiRcyeavm8hsXueSMyeyUmh2hFzskVyFRvGzPUhQU2w9HeIiDuG\n",
       "NhRU+kKOHSFGPngY1GG0Sq2guizslta19CnoQR1yO0UAdYAjKWgLfTrDkdg9TyTTnsuLQrVttMsi\n",
       "rdmKDeMtGBXUL3r3wjtBpa8u47gme9hdrcsvAOMjkYSorK2WPtLVuinHVqd/AKznSPVodCgXGRK/\n",
       "54nE7LkjKlT7GNkUDQhnKzaMt4CsiZqIJZXmQkDp6yzL6EMvN3D6YgZEMrJBzvVhVA+N90fJBfL6\n",
       "7uJI85CBMsTpY/c8kZi92OWs2jZy0kkz+rwaxsxj5OzaPwn6esoBpa+5IFk84+j325y+PvR7RlLV\n",
       "0qM6MTRtyFkj3mIe2AkSHh3REYbE73kimfZH/7moZdF61gJejZxOdGD0eTSMm9MTX4mgMSxz78vI\n",
       "1qAA0rcdJK7LL8wwCu30M2ZPOYXr1SKJ0kQaWawFdyBFwqOjM8eQ+D0vJGb/xkK4xljM3A1erQe7\n",
       "Loc5fR4N4+Yqnsa6gdGu526QVOqzAaXvOqfX1mKe2LoLZqcTNy+Gd50X0AKpfWAWbPrHcQeMgUL8\n",
       "wXvM5YsgwVuor68zGH38HgHgcBaSaa8+k4URaEPXbUI1fJrpMxh9Xg3j5oBOM/FbAaONMyy56IOU\n",
       "PuLxnJgsfQ1kAy7PInvasEOBekbr/sCAlyY2m50exXuYgsd9DC8x32UFrt8zcRbi3edb6olbvw6/\n",
       "LKJI8K2JruX5Ip/H/B4B4HDWOzD7aBJNZXyAeFuoBs/u6EoBo8+rYZa5tvJrt2DDJIm8vO3dDYlR\n",
       "Sh85h5ydLH3keNJgzOaxb8ipud9Wvt30S5C4lwqXvu4rpteDYKVItnuVkVDfKDl1MA1aVlqN0ufV\n",
       "MJd5XTpUYliVuqEDduElNzdZ+ojlrtlcO+MXnZqjkzspSWSe4hcS9KAZk8iVvMLM8ewU0WJ3pCuF\n",
       "rM1FqINMJXlgQbr3nSWhg1mUxKhrF7c8w59vWzulCMAhv5Dgc8j/UL9heDzkUVecS04NTXmt0gMj\n",
       "GqvD9CUO9/Y+PnnX5Xhv797sbNKnjLkGYs4vbB+QHvLxo1bEumB6nhfy+QcmT9+8fH5naTbp08dd\n",
       "qjmULJHwMVmiMtYNJn3rMc1m8LY6fdG0ucTUFyqPmM8PH9wgMXGqEzvaFInZsa7SEo8FbxyuCpJr\n",
       "Tfo+C9oAjxG5PZzNh+DGjEVfuMVckk+lpCOGPw5INIIuedzoUKv/AW2722p3EvbYrE4uW7GKlaOD\n",
       "V6kDM8aE6YuBUvZ4tPTcwdvgJd0IGbZjexaWkm2iXXr4e5Y/dAtlXFkNEnUPGgTH3Ds9GgQJcx/S\n",
       "DrSWFV19M32VPil9ehk/KnxUNpUeftKAl5Mtuj3q8hp94Kj/RpoDcngzD0UmITTgNnCo8a67xm2E\n",
       "dteI6aod298LigKHy1cXT0G+Z9KnDuBgN/bnEret+biyOG2W8LKKpL//ZwJ9u2nIfE29zEuLJPOs\n",
       "+EIalkmO96JawVz0uoyakYVGrcJ4lChK+DjbIPWxq9TZXRd4aB3Q4G1idbluo5IxSwUaT+vXn7/X\n",
       "Tl/9Y2TTy4TQJNzoxIzCClC3kuKdS5sQUtTJIFXzaUbHgNPKlg5BonRK6GYeP1JGp9HznBMyuVTf\n",
       "axh9fYgIErx98iaYlwqVzJKhkeWxH0oH7fTFyWPoRFEZhHvnOzHfhGaAH5Pi6wA3QeQPTvqI2gp7\n",
       "kDOIy+p922ZKKFPg02mXc+Q4rfmQpltjiq7YqulIz7XJMKNvHtplaPB2LbqmuQdrYTVE7svnf4Do\n",
       "eypmpw9IsG1f21/HzSC5vcmnX+02gLqMjyC/pGhG5W1C1fZNTiu7rPCO+Dwt3p3P55OIvhKLWsRd\n",
       "9PmXpltjiq5QZVrSc21d/T6jL2Gw4O1HoAl6IrTUFoEMnX3hNQJ9/8Yvt4I66qYPuag9aTOAehEt\n",
       "lAU3fUSdWHXiUwcwWChHHmY6rVYCeWb58nG8HNPZV2KeUuSS85P4l6ZbY4quvco0pedaXsYQo4+s\n",
       "YgrsMtRBNOuO6bT0nX74E77zBsBxgT7iUKBmXyL0IdufsBf4IgIqJ0qArtRxUD9KiLHuc3V8GSyI\n",
       "l3CNraD9zW0VK8NvC/D7HJr2On5PRYdXS8KqYRf/0nRrTNG1V5mm9Fxrg7xopy90CDqK4QycgccO\n",
       "09Iny1CPVrnwgyk6AwT6unOw63wZ09dRjFwPHQX8Uqy/AGr31lAKIgvgL8OtG1I0uWOBeb9gqddr\n",
       "WWTWUQS964+G2wr+3PYJHODBjzEfRr//en3l/3jDH3SuP76l6dacogvTnp5rxQ7H7PRhKbpKTWjv\n",
       "cwTNBNkiqxWL09QTemHYLqxSNt6CzYoVrWKwFPWwgvY+4U3bHY3wL0235hTd6U/PBTH41CHzV708\n",
       "Vyd9a4aLklr6EoD9bM1oXmVdWCUto6SiS3gND6tfwwFZZOeUYxnyL0235hRdX9Nzq8Sfcw76EpJS\n",
       "Zfq8awndXparHe/jaeWUTkeX+pemW3OK7gyk5/JoY9K5eFZn/EOepltziu4MpOeCzWkKZpL8oIy+\n",
       "lA9pujWn6M5Aei6TnRBQ+sIjksXTlzTdmlN0fU3PrSyB/RcV2CxxXXxJ0605RXcG0nPtsf6A/num\n",
       "6Hr6l6Zbc4pu1fRcAlBTeq7oAASRvjoxEOxfmm7NKbrV03MxQE3puaYE+J+jnQ/x/UvTFVCmnqI7\n",
       "E+m5Ygg1kF8Mcloasp7sickmzjTdy0PhKbqyoeZ3eq4JOz/A9P1UbId/abqXh8JTdN0yDem5RAL9\n",
       "tTyOIe1fmu4ckeqpvl0QYPpguXj5IUuWqJ7qy7LwpkjfXPlCyGgSrmi5zC+EnDNfx3rLFc2eZj6j\n",
       "OjLx3v8BZokcJWpY+wQAAAAASUVORK5CYII=\n",
       "\" style=\"display:inline;vertical-align:middle;\" /></a><br>(see <a class=\"ProveItLink\" href=\"../../../__pv_it/theorems/affd13dbdcfca9f6f96cb0423dd7dfdae65c6db50/dependencies.ipynb\">dependencies</a>)<br>"
      ],
      "text/plain": [
       "disassociation: forall_{l, m, n in Natural} [forall_{A_{1}, ..A_{_a}.., A_{l}, B_{1}, ..B_{_a}.., B_{m}, C_{1}, ..C_{_a}.., C_{n} in BOOLEAN} ((A_{1} and ..A_{_a}.. and A_{l} and (B_{1} and ..B_{_a}.. and B_{m}) and C_{1} and ..C_{_a}.. and C_{n}) =  \\\\ (A_{1} and ..A_{_a}.. and A_{l} and B_{1} and ..B_{_a}.. and B_{m} and C_{1} and ..C_{_a}.. and C_{n}))]"
      ]
     },
     "execution_count": 2,
     "metadata": {},
     "output_type": "execute_result"
    }
   ],
   "source": [
    "%proving disassociation"
   ]
  },
  {
   "cell_type": "code",
   "execution_count": null,
   "metadata": {},
   "outputs": [],
   "source": []
  }
 ],
 "metadata": {
  "kernelspec": {
   "display_name": "Python 3",
   "language": "python",
   "name": "python3"
  }
 },
 "nbformat": 4,
 "nbformat_minor": 0
}