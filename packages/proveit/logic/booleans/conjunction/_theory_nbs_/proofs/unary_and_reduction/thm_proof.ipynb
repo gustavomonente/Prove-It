{
 "cells": [
  {
   "cell_type": "markdown",
   "metadata": {},
   "source": [
    "Proof of <a class=\"ProveItLink\" href=\"../../../../../../_theory_nbs_/theory.ipynb\">proveit</a>.<a class=\"ProveItLink\" href=\"../../../../../_theory_nbs_/theory.ipynb\">logic</a>.<a class=\"ProveItLink\" href=\"../../../../_theory_nbs_/theory.ipynb\">booleans</a>.<a class=\"ProveItLink\" href=\"../../theory.ipynb\">conjunction</a>.<a class=\"ProveItLink\" href=\"../../theorems.ipynb#unary_and_reduction\">unary_and_reduction</a> theorem\n",
    "========"
   ]
  },
  {
   "cell_type": "code",
   "execution_count": 1,
   "metadata": {},
   "outputs": [],
   "source": [
    "import proveit\n",
    "from proveit.logic import TRUE, FALSE\n",
    "from proveit import A\n",
    "from proveit.logic.booleans.conjunction import unary_and_reduction_lemma\n",
    "theory = proveit.Theory() # the theorem's theory"
   ]
  },
  {
   "cell_type": "code",
   "execution_count": 2,
   "metadata": {},
   "outputs": [
    {
     "data": {
      "text/html": [
       "Under these <a href=\"presumptions.txt\">presumptions</a>, we begin our proof of<br><strong id=\"unary_and_reduction\">unary_and_reduction:</strong> <a class=\"ProveItLink\" href=\"../../../__pv_it/theorems/abed72f39aa443501ccaf5b97246efe9e72643db0/expr.ipynb\"><img src=\"data:image/png;base64,iVBORw0KGgoAAAANSUhEUgAAAKAAAAAUBAMAAAD4uit9AAAAMFBMVEX///8QEBCIiIhmZma6urrM\n",
       "zMxUVFQiIiJERETc3Nzu7u6qqqp2dnaYmJgyMjIAAAAcRTyBAAAAAXRSTlMAQObYZgAAAipJREFU\n",
       "OMuFVT1IHEEU/ry7vb1bdzWFtQzYpFOwSJMQiYWVcJWlHhgLqxzYCFEQm+wRkrMJCYHoghZiUAQR\n",
       "S4UjhT/F9SHhyGmhRbQIRAsx82Znb+duZy4DO/ux3zdv5r157y3QceRrGti9YpITUyfww6TYTMBJ\n",
       "/sxqtZI5JXxlMnhJ00oMgWv+7Gi1kvlE3iwZ7HlDNDdiCO86AFym00qmh167BoM2Hc56E0QQ+Pqc\n",
       "v51HGm3EeCdbWx9NHgsi+4JFEKgNjvD5XKNtMre+v2AyOAARl1IEkQkO6bKrSWnMzABl8amcVL2j\n",
       "6VRcnIDYwBQd9ydh97cYYWwVZhSOSB3vjwzur8ZcFNPXNJWwGkGMYI0MHCT3jhkbKZGy6/cU2eoz\n",
       "sKMv+1LVRxswZAshhDU9/IoyYiphT2Hcmi0+nczxxW8/B2DM3VYM2gGsojSYAbrqWoMKk69PiC2Y\n",
       "T+7zwdj4seLyXpjUwmUeCptSZkyJYRHtTPmlSA48kXXIhvsLyqVchkYJ5vmynpvoUlpqXmX2KCvw\n",
       "HYNwhsITpj9IHU8Cayl0uypzMXfHp6e6hG0yvXTdTuOsEljzvr9MMUxJHXcgS+maYgQ3H67QXfnL\n",
       "d71o7yEtjEeVlQ6wVkAxPKGbjksvI0AhKj0xnJKpEmJmnJ+0hm/C4JF71tIc2qG+ObQyuVvkK4vI\n",
       "8dh6C433zV6qVI8Cd4wNOcE85jHs3GANRfpfptMvwDP+AjjzD/QQphrSjwbCAAAAAElFTkSuQmCC\n",
       "\" style=\"display:inline;vertical-align:middle;\" /></a><br>(see <a class=\"ProveItLink\" href=\"../../../__pv_it/theorems/70ea15a1231b299509987cb5029f80d413e6ace90/dependencies.ipynb\">dependencies</a>)<br>"
      ],
      "text/plain": [
       "unary_and_reduction: forall_{A in BOOLEAN} (and(A) = A)"
      ]
     },
     "execution_count": 2,
     "metadata": {},
     "output_type": "execute_result"
    }
   ],
   "source": [
    "%proving unary_and_reduction"
   ]
  },
  {
   "cell_type": "code",
   "execution_count": 3,
   "metadata": {},
   "outputs": [
    {
     "data": {
      "text/html": [
       "<span style=\"font-size:20px;\"> <a class=\"ProveItLink\" href=\"../unary_and_reduction_lemma/thm_proof.ipynb\" style=\"text-decoration: none\">&nbsp;&#x22A2;&nbsp;&nbsp;</a><a class=\"ProveItLink\" href=\"../../../__pv_it/theorems/7e81e39b7692941b12742259659c6cc5aaa0b8e60/expr.ipynb\"><img src=\"data:image/png;base64,iVBORw0KGgoAAAANSUhEUgAAANcAAAAUBAMAAADsL7WcAAAAMFBMVEX///8QEBCIiIhmZma6urrM\n",
       "zMxUVFQiIiJERETc3Nzu7u6qqqp2dnaYmJgyMjIAAAAcRTyBAAAAAXRSTlMAQObYZgAAAppJREFU\n",
       "SMeVlk1oE0EUx5+J6WY3u/HiuSz14s1AoZ6EggdBKORUesyh3iM9+FWheNogml5EUYorHpSKUCiC\n",
       "vYUWD9Yegp6KKIs56UGL9hALfrz3Zja78zYb2oE3edm83/znzbydCcDotjLM3cjG2d1Ro2xoi+jL\n",
       "p7woZ0m6JQTGljOBz6F4hVtD/hIDZO/owbc8sSoNaycufuyhbpQJ/EpdxR8kmhpCA2QP6KelPLEP\n",
       "HF4buACfD7DblHFezRRTiAmgVUMAdy1P7Bp1c9cHLjjrv7F/IuOsZVNMISaA5m2vrt7P07Kb1M9P\n",
       "DFzwCvs08WkRqEZIxBgRAFk/CBbzxAq0Gk5kxS7Axcof7N2aCDxliilEAGSXAFr8uJUVK1NBu2u0\n",
       "zOyCM136SdOlCnG/c2PdO6aYQgRAdl4Xl7ev8/7SW4j30CLHAjvSLhwH+xeN2hSzumGKKUQAZBYU\n",
       "eNJPKd0XW+fA76y80tAx2pv3nD27MDs51ad3Z0+InTTFFCIAMrer1nd7AbO6/TAE33dfpsWwsGZj\n",
       "MezGDyGmEAGQ2RE/L/kBLSk23595m1rGSo1faF7GCtplWpxmsmeN7DJqRAAMtebp8Ric1WeXPzle\n",
       "TxUIUUhzgTxC+xEXSLqZBaIRATC0zrv9Ec6AU1OZFe/FVYUP5tS6kMvvWhtHKnaE2JYhphEBMHSC\n",
       "QpzeTjssXQ2CW7RnBT0GZc55T5DrtP+G8Pof7m21LsQuqHB99GtEAAx5eGBBMYTHdWiozNxi6rji\n",
       "wijFx5Vqz4YfV3GLERNIoBnMsAtvWKzj7hgHccbNO4jz22YaKvfBbt+EMpact9i7O7gJy8mMU+6Q\n",
       "K6Y1Uiu+Ysx2Gvds9OUpdJPLc1QjYAh0qL8Fu0f9W7Cr7D+1ptGp25CgLQAAAABJRU5ErkJggg==\n",
       "\" style=\"display:inline;vertical-align:middle;\" /></a></span>"
      ],
      "text/plain": [
       "|- forall_{A in BOOLEAN} (and(A) = (TRUE and A))"
      ]
     },
     "execution_count": 3,
     "metadata": {},
     "output_type": "execute_result"
    }
   ],
   "source": [
    "unary_and_reduction_lemma"
   ]
  },
  {
   "cell_type": "code",
   "execution_count": 4,
   "metadata": {},
   "outputs": [
    {
     "data": {
      "text/html": [
       "<strong id=\"and_true\">and_true:</strong> <span style=\"font-size:20px;\"> <a class=\"ProveItLink\" href=\"../../../__pv_it/_proof_unary_and_reduction/329f381aceb5e5587cdbe32a8f8656c3b99f42070/proof.ipynb\" style=\"text-decoration: none\">&nbsp;&#x22A2;&nbsp;&nbsp;</a><a class=\"ProveItLink\" href=\"../../../__pv_it/_proof_unary_and_reduction/4c63707200f200598a84f4433f396b3b20e1bca50/expr.ipynb\"><img src=\"data:image/png;base64,iVBORw0KGgoAAAANSUhEUgAAAI4AAAAUBAMAAACpLhgeAAAAMFBMVEX///8QEBCYmJiqqqp2dnaI\n",
       "iIi6urpUVFTu7u4iIiJERETMzMxmZmYyMjLc3NwAAACHEeD/AAAAAXRSTlMAQObYZgAAAZZJREFU\n",
       "OMuVlLFLw0AUxj9N2jRNW/wTXNxUujgIIoK4KWTpXgQHt05dBKmjQyGb7VK6ukg3oYsZXNycdFBL\n",
       "6C74J3j30jTvXdJAv9CXa967X+6+3B2QaL5sHSOrOQpkRWm7MsbbUOsBTpSpZFmmGj0adnCr/zXo\n",
       "WZ06H1Cn9wyHZUnLN1m+jn2qCXXcRVp5luHwrNa35Ng6Tge6OWKVdxnOSHK8x57gVLZU6Lb05AJW\n",
       "WW8bGJFVcq58wcGHdsNVjVLIKu3Q4Igs+RFIzrnq1LSbQHWbVW6S0Rc/WuSEyCqdqktw9gAXDdXN\n",
       "bbJKKzDGI7JKAX4l5xDYAW6AjTar9P4Mjsiq8fpwJoLzAqiv9bwmx+3B6xgcK6RVJkZeDlJ/PnPm\n",
       "daR+M8G5ppWqWDk+Mxk+zxYs7vNU3wbJp44raycGR2ThjeO5Mc4ruvrWWkwFl/E6nBgckYWj3SrF\n",
       "gHI80i+Qg16y8mPdr9gXCZUif1clMHYiCvfpStl+amV66OScG9WokNMXJ1VBJ5bN01Puybm/7rm6\n",
       "GeEfBrJo2BDUYJIAAAAASUVORK5CYII=\n",
       "\" style=\"display:inline;vertical-align:middle;\" /></a></span><br>"
      ],
      "text/plain": [
       "and_true: |- and(TRUE) = (TRUE and TRUE)"
      ]
     },
     "execution_count": 4,
     "metadata": {},
     "output_type": "execute_result"
    }
   ],
   "source": [
    "and_true = unary_and_reduction_lemma.instantiate({A:TRUE})"
   ]
  },
  {
   "cell_type": "code",
   "execution_count": 5,
   "metadata": {},
   "outputs": [
    {
     "data": {
      "text/html": [
       "<strong id=\"and_false\">and_false:</strong> <span style=\"font-size:20px;\"> <a class=\"ProveItLink\" href=\"../../../__pv_it/_proof_unary_and_reduction/460e93614bd4a5bfcb4b2ef60a41fe8f8cc004ad0/proof.ipynb\" style=\"text-decoration: none\">&nbsp;&#x22A2;&nbsp;&nbsp;</a><a class=\"ProveItLink\" href=\"../../../__pv_it/_proof_unary_and_reduction/f8da1fdc4e93841b89c29a179d5553f4ec9c7af50/expr.ipynb\"><img src=\"data:image/png;base64,iVBORw0KGgoAAAANSUhEUgAAAI4AAAAUBAMAAACpLhgeAAAAMFBMVEX///8QEBCYmJiqqqp2dnaI\n",
       "iIi6urpUVFTu7u4iIiJERETMzMxmZmYyMjLc3NwAAACHEeD/AAAAAXRSTlMAQObYZgAAAaNJREFU\n",
       "OMuVlLFLw1AQxk+T2qZpi45uLm4qXRwEEUHcFLJ0L4KDm1MXQeroUIiTzVK6ukjBQehiBhc3Jx3U\n",
       "EroL/gneXZrm7iUt9Au5PHL3fnnvy3sPINF42jqArMYwR1aUtkt9ik8UilGmErNvAeneSLh1itcU\n",
       "avyiyp13udN7hiOyrOmXLI9ih2tCiluQVh5nODJL+tYcm+KwS82eqLzJcHqa4z60Fae0iqHVoMn5\n",
       "orLaNDAqSw6ee4oDH+SGg41CKCrt0OCoLPvha84Jdqrb6Hl5Q1Qus9GnPyR2QmVRR3gpzjaAAzXs\n",
       "5tRFpeUb41FZlA+/mrMHsAlwBbDUFJXun8FRWRyvB8WB4rwA4N96XpDjtMG9NDhWyKtMjXzFT/35\n",
       "zJnXPt4jxbnglYqsHJ+FDJ9HE5b0eUiPbvKr48rKocFRWXD78dwE5xVa9GjwVHAnrvFOrA4MTjxR\n",
       "OJusQnKrgIBKENytBwFa9QXsoJus/Fi3M/ZFQuUov1XyjZ0Ic/fpTNleamV66OScG+VoLqdjnmOz\n",
       "Oolsnh5zT86dRc/V5Qj+AZbgaC43aAAtAAAAAElFTkSuQmCC\n",
       "\" style=\"display:inline;vertical-align:middle;\" /></a></span><br>"
      ],
      "text/plain": [
       "and_false: |- and(FALSE) = (TRUE and FALSE)"
      ]
     },
     "execution_count": 5,
     "metadata": {},
     "output_type": "execute_result"
    }
   ],
   "source": [
    "and_false = unary_and_reduction_lemma.instantiate({A:FALSE})"
   ]
  },
  {
   "cell_type": "code",
   "execution_count": 6,
   "metadata": {},
   "outputs": [
    {
     "data": {
      "text/html": [
       "<span style=\"font-size:20px;\"> <a class=\"ProveItLink\" href=\"../../../__pv_it/_proof_unary_and_reduction/fcf3f188db6829e91c24f99386a5e7f5eda9da280/proof.ipynb\" style=\"text-decoration: none\">&nbsp;&#x22A2;&nbsp;&nbsp;</a><a class=\"ProveItLink\" href=\"../../../__pv_it/_proof_unary_and_reduction/7757a2e2bf03cc0c8cd8d7b5a14710bfdb7388bc0/expr.ipynb\"><img src=\"data:image/png;base64,iVBORw0KGgoAAAANSUhEUgAAAFgAAAAUBAMAAAD7IecQAAAAMFBMVEX///8QEBCYmJiqqqp2dnaI\n",
       "iIi6urpUVFTu7u4iIiJERETMzMxmZmYyMjLc3NwAAACHEeD/AAAAAXRSTlMAQObYZgAAAOpJREFU\n",
       "KM9jYICBR3CWHQMhwLGA4eRMEJjOwP4AXRImw8DAB+bzglWYgvVdwGKYKYTiPQAidZCEXHEr3jUD\n",
       "RM5DEmrErbgsFOSWCUhCvAm4FHNc4ASSrAeQhFgO4FLMYsBiwMDApYAkxAT2oe9dELiDopiTgQ8o\n",
       "x2mAJMQ8AZfJqgwM1QwMjAlIQtwfcCkGhsV2YhUzHwBHCIoz2CYg3HwdWTEo5oAasHgQi8m7IE5h\n",
       "QQ46HgccistARCjUZoYkSKRswFQMlgF7jBsW3RDQSSiJ6iCxXQkp5kIkYqxJFD3xY9GHCyCylR4u\n",
       "JQBeaj2nV/QwkAAAAABJRU5ErkJggg==\n",
       "\" style=\"display:inline;vertical-align:middle;\" /></a></span>"
      ],
      "text/plain": [
       "|- and(TRUE) = TRUE"
      ]
     },
     "execution_count": 6,
     "metadata": {},
     "output_type": "execute_result"
    }
   ],
   "source": [
    "and_true.inner_expr().rhs.evaluate()"
   ]
  },
  {
   "cell_type": "code",
   "execution_count": 7,
   "metadata": {},
   "outputs": [
    {
     "data": {
      "text/html": [
       "<span style=\"font-size:20px;\"> <a class=\"ProveItLink\" href=\"../../../__pv_it/_proof_unary_and_reduction/4201128cb7c2eb1f3cbfc96323a125d77b4ad1520/proof.ipynb\" style=\"text-decoration: none\">&nbsp;&#x22A2;&nbsp;&nbsp;</a><a class=\"ProveItLink\" href=\"../../../__pv_it/_proof_unary_and_reduction/53892ad2df41fc12a7c15da1ecfc6465972316f70/expr.ipynb\"><img src=\"data:image/png;base64,iVBORw0KGgoAAAANSUhEUgAAAFgAAAAUBAMAAAD7IecQAAAAMFBMVEX///8QEBCYmJiqqqp2dnaI\n",
       "iIi6urpUVFTu7u4iIiJERETMzMxmZmYyMjLc3NwAAACHEeD/AAAAAXRSTlMAQObYZgAAAOxJREFU\n",
       "KM9jYICBR3CWHQMhwLEARG4GEewPsMhvhlB8YJIXrMIUrO8CFsWmEIr3AIjUQRJyxa141wwQOQ9J\n",
       "qBG34rJQkFsmIAnxJuBSzHGBE0iyHkASYjmASzGLAYsBAwOXApIQE9iHvndB4A6KYk4GPqAcpwGS\n",
       "EPMEXCarMjBUMzAwJiAJcX/ApRgYFtuJVcx8ABwhKM5gm4Bw83VkxaCYA2rA4kEsJu+COIUFOeh4\n",
       "HHAoLgMRoWCbT86cKThz5nSgbRvQVMJkwB7jhkU3BHQSSqI6SGxXQoq5EIkYaxLFkvjR9eECiGyl\n",
       "h0sJADZ7PTnGpuilAAAAAElFTkSuQmCC\n",
       "\" style=\"display:inline;vertical-align:middle;\" /></a></span>"
      ],
      "text/plain": [
       "|- and(FALSE) = FALSE"
      ]
     },
     "execution_count": 7,
     "metadata": {},
     "output_type": "execute_result"
    }
   ],
   "source": [
    "and_false.inner_expr().rhs.evaluate()"
   ]
  },
  {
   "cell_type": "code",
   "execution_count": 8,
   "metadata": {},
   "outputs": [
    {
     "data": {
      "text/html": [
       "<table><tr><th>&nbsp;</th><th>step type</th><th>requirements</th><th>statement</th></tr>\n",
       "<tr><td><a name=\"0xbb377f21f40138d_step0\">0</a></td><td>instantiation</td><td><a href=\"#0xbb377f21f40138d_step1\">1</a>, <a href=\"#0xbb377f21f40138d_step2\">2</a>, <a href=\"#0xbb377f21f40138d_step3\">3</a></td><td><span style=\"font-size:20px;\"> <a class=\"ProveItLink\" href=\"../../../__pv_it/_proof_unary_and_reduction/7fbc95c6dd53e87b1888811c93c72ff4fe9e6b7e0/proof.ipynb\" style=\"text-decoration: none\">&nbsp;&#x22A2;&nbsp;&nbsp;</a><a class=\"ProveItLink\" href=\"../../../__pv_it/theorems/abed72f39aa443501ccaf5b97246efe9e72643db0/expr.ipynb\"><img src=\"data:image/png;base64,iVBORw0KGgoAAAANSUhEUgAAAKAAAAAUBAMAAAD4uit9AAAAMFBMVEX///8QEBCIiIhmZma6urrM\n",
       "zMxUVFQiIiJERETc3Nzu7u6qqqp2dnaYmJgyMjIAAAAcRTyBAAAAAXRSTlMAQObYZgAAAipJREFU\n",
       "OMuFVT1IHEEU/ry7vb1bdzWFtQzYpFOwSJMQiYWVcJWlHhgLqxzYCFEQm+wRkrMJCYHoghZiUAQR\n",
       "S4UjhT/F9SHhyGmhRbQIRAsx82Znb+duZy4DO/ux3zdv5r157y3QceRrGti9YpITUyfww6TYTMBJ\n",
       "/sxqtZI5JXxlMnhJ00oMgWv+7Gi1kvlE3iwZ7HlDNDdiCO86AFym00qmh167BoM2Hc56E0QQ+Pqc\n",
       "v51HGm3EeCdbWx9NHgsi+4JFEKgNjvD5XKNtMre+v2AyOAARl1IEkQkO6bKrSWnMzABl8amcVL2j\n",
       "6VRcnIDYwBQd9ydh97cYYWwVZhSOSB3vjwzur8ZcFNPXNJWwGkGMYI0MHCT3jhkbKZGy6/cU2eoz\n",
       "sKMv+1LVRxswZAshhDU9/IoyYiphT2Hcmi0+nczxxW8/B2DM3VYM2gGsojSYAbrqWoMKk69PiC2Y\n",
       "T+7zwdj4seLyXpjUwmUeCptSZkyJYRHtTPmlSA48kXXIhvsLyqVchkYJ5vmynpvoUlpqXmX2KCvw\n",
       "HYNwhsITpj9IHU8Cayl0uypzMXfHp6e6hG0yvXTdTuOsEljzvr9MMUxJHXcgS+maYgQ3H67QXfnL\n",
       "d71o7yEtjEeVlQ6wVkAxPKGbjksvI0AhKj0xnJKpEmJmnJ+0hm/C4JF71tIc2qG+ObQyuVvkK4vI\n",
       "8dh6C433zV6qVI8Cd4wNOcE85jHs3GANRfpfptMvwDP+AjjzD/QQphrSjwbCAAAAAElFTkSuQmCC\n",
       "\" style=\"display:inline;vertical-align:middle;\" /></a></span></td></tr>\n",
       "<tr><td>&nbsp;</td><td colspan=4 style=\"text-align:left\"><span style=\"font-size:20px;\"><a class=\"ProveItLink\" href=\"../../../../../../__pv_it/common/bfd6cbbf901c56262d9826d514808c68a6e9726f0/expr.ipynb\"><img src=\"data:image/png;base64,iVBORw0KGgoAAAANSUhEUgAAAC4AAAAUBAMAAAAAdhLPAAAAMFBMVEX///8iIiLc3Ny6urqIiIiq\n",
       "qqp2dnbMzMwQEBDu7u5mZmYyMjJERERUVFSYmJgAAAA4CJ/KAAAAAXRSTlMAQObYZgAAARZJREFU\n",
       "GNNjYIADpgcwFqsCiHz7/+zdXRMYGOZABKuB+BKY9ZuBgaeTgWETRHw/EM8GMdi/AXV+YeBbABbm\n",
       "2w/UyuYAZLF8BuJvDIxgQxmmrgfSnA1AFs8HBgbezwyKEGMe+BsAyc1AzL+BgUF/AYMXWJh5QjzI\n",
       "WVlAXJ/AwCrGwHAOLD6ZoR5k9msg9r+WtgRolyhY3ACklYEhEIjPTwCLNIPddmvV/QMgM4D4IwNC\n",
       "nJmBgWMDRJz9F0QcbE4AAwMjyI2GEOeDAMheJqA49weIvdw/IeIgp4H8wPMJSCxj4Nr/1wEsDtQ6\n",
       "5/9OBtbzH4EO2o4IZmg4gAGnAIINDTcwYHNAsBkOIZizkYRh8YKmBDke+RQYABYwQkDyoYgLAAAA\n",
       "AElFTkSuQmCC\n",
       "\" style=\"display:inline;vertical-align:middle;\" /></a> : <a class=\"ProveItLink\" href=\"../../../__pv_it/theorems/8e4ef7d51e91daa3456f6ee28e6ac0a9d7be3ad50/expr.ipynb\"><img src=\"data:image/png;base64,iVBORw0KGgoAAAANSUhEUgAAAFgAAAAUBAMAAAD7IecQAAAAMFBMVEX///8QEBCYmJiqqqp2dnaI\n",
       "iIi6urpUVFTu7u4iIiJERETMzMxmZmYyMjLc3NwAAACHEeD/AAAAAXRSTlMAQObYZgAAATpJREFU\n",
       "KM9jYICBR3CWHQMhwLEATHFfYGBgf4BNAUiGgYEPzOaFqOD9ANR3AZtikAyQPAAidSBCuj+AhCs2\n",
       "xWAZhl0zQOQ8iGNs/gHJRmzOBMswlIWC3DIBLMTE+g1kVwKmYogMxwVOIMkKdgtDBvMnIMlyAFMx\n",
       "VMaAxYCBgUsBbFcC91eQKWAf+t4FgTtQV0BkOBn4gHKcBiAhNga+P0CKeQKGwVAZVQaGagYGRrAz\n",
       "t585/gsUpB8wFENlgGGxHaYYSMhiVwyRYT4AjhCwM5iBeCLIzgkIN18Hq4XKgGIOqAHswcdAfB/u\n",
       "QWQAldnFAHYKKLTAYb0eqJnHAU0tTKYMxAkF2cyx/m8Dg9X/OUDbNqDFHkwG7DFuWHRDQCehJKqD\n",
       "xHYlpJgLkYixJ1EsiR9NHy6AyFZ6uJQAAPKTWe1DatmWAAAAAElFTkSuQmCC\n",
       "\" style=\"display:inline;vertical-align:middle;\" /></a>, <a class=\"ProveItLink\" href=\"../../../../../../__pv_it/common/e4aad701f7f5516d8e7f0d805d518bf02c13322a0/expr.ipynb\"><img src=\"data:image/png;base64,iVBORw0KGgoAAAANSUhEUgAAAA8AAAAOBAMAAAACpFvcAAAALVBMVEX///8iIiIQEBBERERUVFS6\n",
       "urqIiIjc3NxmZmaqqqru7u6YmJgyMjLMzMwAAACK9jtgAAAAAXRSTlMAQObYZgAAAFtJREFUCNdj\n",
       "YACBOwxQcA5Kc59bAGGs7CuAMDbkBYBp1gXzNoAZSxnuJYAZAQx1DSCa16PDzwCshIGB6QCIMYGB\n",
       "gVEBSLMDGTwPgIxCIGZ+zsCw+N0pBk67hw0AfpEVEQi8t+wAAAAASUVORK5CYII=\n",
       "\" style=\"display:inline;vertical-align:middle;\" /></a> : <a class=\"ProveItLink\" href=\"../../../../../../__pv_it/common/e4aad701f7f5516d8e7f0d805d518bf02c13322a0/expr.ipynb\"><img src=\"data:image/png;base64,iVBORw0KGgoAAAANSUhEUgAAAA8AAAAOBAMAAAACpFvcAAAALVBMVEX///8iIiIQEBBERERUVFS6\n",
       "urqIiIjc3NxmZmaqqqru7u6YmJgyMjLMzMwAAACK9jtgAAAAAXRSTlMAQObYZgAAAFtJREFUCNdj\n",
       "YACBOwxQcA5Kc59bAGGs7CuAMDbkBYBp1gXzNoAZSxnuJYAZAQx1DSCa16PDzwCshIGB6QCIMYGB\n",
       "gVEBSLMDGTwPgIxCIGZ+zsCw+N0pBk67hw0AfpEVEQi8t+wAAAAASUVORK5CYII=\n",
       "\" style=\"display:inline;vertical-align:middle;\" /></a></span></td></tr><tr><td><a name=\"0xbb377f21f40138d_step1\">1</a></td><td>conjecture</td><td></td><td><span style=\"font-size:20px;\"> <a class=\"ProveItLink\" href=\"../../../../_theory_nbs_/proofs/fold_forall_over_bool/thm_proof.ipynb\" style=\"text-decoration: none\">&nbsp;&#x22A2;&nbsp;&nbsp;</a><a class=\"ProveItLink\" href=\"../../../../__pv_it/theorems/6c162ab5702ef138f00210765d27995c5c0e9c840/expr.ipynb\"><img src=\"data:image/png;base64,iVBORw0KGgoAAAANSUhEUgAAAPgAAAAWBAMAAAAfsUzKAAAAMFBMVEX///8QEBCIiIhmZma6urrM\n",
       "zMxUVFQiIiJERETc3Nzu7u6qqqp2dnaYmJgyMjIAAAAcRTyBAAAAAXRSTlMAQObYZgAAA4JJREFU\n",
       "SMetll1IVEEUx//d/d69V33oIXoKegj60C0DtQKFoHzLeqiX0IVKKIL2oSf7YCGoKxW7T+VTLRRk\n",
       "G9hCUQhBkkGhJttLRZktlA8JpahpmmVnzsze3XtzzdgG5s6cM+fOb+bMOXMv8D+K9rVpOWaBTK4X\n",
       "SgDDJ5EV/fclwvWGMtEYmcWHXy2cb/2YBDql2Ez1KNWn6BfiaMlwPU1NWbLI+C/Avxr4LKUxql0M\n",
       "7xDuiJUM5yk6igx75snREzDCLBljtEZ9jYCL1fKyS4Oz8/qLhcQU1Xn4Eizdqac2WCHgRl8qdRWl\n",
       "w4dSqdvRIsP+ccA7BYXJVDXQ85OA47tpni4en6ptWlpL8HLTvNBTZJZyiurrYaxlwZ18LOKyl+FH\n",
       "gHZSxY/XHuMxad843XueDiQ33X35njKyayXc2wQ/u1U+baWlByHa4GUWbqKFzhvDDN+JoEi3l8Az\n",
       "flfaGxXQo/AmdNNcZV6CS84ojbxCiFB1JfJwd5gjGPjQIHXDlTXb1XDV8YEttJNTLDQIJwAPGe6D\n",
       "JtzQSjYFcG8E2jgOiq6I42CEtdLIqWU4otgkusF6mi34qDqj6YF36lziMgVXcuQfqj4h3m1huJ7x\n",
       "CeUZwCyA+zLwx8SRSIxKUWnk1Er4C3C86bdoX2+6U9A09KlLZwZ5OB3riqwFD2T3iwXPQmsrgN9N\n",
       "YF1STscYuStp5NAq+DUP+2Efrdkt/Kpp7iF5LJ5JacVup6z2UZphN8PRflgsaH6jzFIF3/NkII1A\n",
       "HvMAlpFTq+D+K3zYEVcUfNdqrs0j+TQXRQRcgOBl41bA4Z6YTM/mclI2gwyLWZhGWEZOrYKHajhQ\n",
       "0xQqNxipoU6eedmctKLs4lz3z9Jjh4SXi8j3h+3wc4yJWJhmWEZOrYJjQvS6djyfwwHTNNcQvEfM\n",
       "DNfYNLfC050LowjFZ2ieEQk3RCyWp+3wH3xY+T3ugmXk1Obgb0VvGwLf4FU77wnb0t1XcAMEoxIu\n",
       "74GEDe6ZzVkozBA6ksrIpi2As1covn9CF+7WdAzYrzyjYC3yw6JiYqzOBq+cZA7HP3t5K/amc0Zt\n",
       "UFcPaR3weAwdMxlcpO7rwdovjpuuPd+Vn9Q/PgKFwgarl+UkWURrh+f2Qme+yB3faV/HX+CWEMrw\n",
       "n8+fWgU7+4+/UQZNVnlyabg7Z03JYyyq/b/FZZO6Vbt+Gdp/L78Bj63+YiYwFhMAAAAASUVORK5C\n",
       "YII=\n",
       "\" style=\"display:inline;vertical-align:middle;\" /></a></span></td></tr>\n",
       "<tr><td>&nbsp;</td><td colspan=4 style-\"text-align:left\"><a class=\"ProveItLink\" href=\"../../../../_theory_nbs_/proofs/fold_forall_over_bool/thm_proof.ipynb\">proveit.logic.booleans.fold_forall_over_bool</a></td></tr><tr><td><a name=\"0xbb377f21f40138d_step2\">2</a></td><td>instantiation</td><td><a href=\"#0xbb377f21f40138d_step6\">6</a>, <a href=\"#0xbb377f21f40138d_step4\">4</a>, <a href=\"#0xbb377f21f40138d_step5\">5</a></td><td><span style=\"font-size:20px;\"> <a class=\"ProveItLink\" href=\"../../../__pv_it/_proof_unary_and_reduction/fcf3f188db6829e91c24f99386a5e7f5eda9da280/proof.ipynb\" style=\"text-decoration: none\">&nbsp;&#x22A2;&nbsp;&nbsp;</a><a class=\"ProveItLink\" href=\"../../../__pv_it/_proof_unary_and_reduction/7757a2e2bf03cc0c8cd8d7b5a14710bfdb7388bc0/expr.ipynb\"><img src=\"data:image/png;base64,iVBORw0KGgoAAAANSUhEUgAAAFgAAAAUBAMAAAD7IecQAAAAMFBMVEX///8QEBCYmJiqqqp2dnaI\n",
       "iIi6urpUVFTu7u4iIiJERETMzMxmZmYyMjLc3NwAAACHEeD/AAAAAXRSTlMAQObYZgAAAOpJREFU\n",
       "KM9jYICBR3CWHQMhwLGA4eRMEJjOwP4AXRImw8DAB+bzglWYgvVdwGKYKYTiPQAidZCEXHEr3jUD\n",
       "RM5DEmrErbgsFOSWCUhCvAm4FHNc4ASSrAeQhFgO4FLMYsBiwMDApYAkxAT2oe9dELiDopiTgQ8o\n",
       "x2mAJMQ8AZfJqgwM1QwMjAlIQtwfcCkGhsV2YhUzHwBHCIoz2CYg3HwdWTEo5oAasHgQi8m7IE5h\n",
       "QQ46HgccistARCjUZoYkSKRswFQMlgF7jBsW3RDQSSiJ6iCxXQkp5kIkYqxJFD3xY9GHCyCylR4u\n",
       "JQBeaj2nV/QwkAAAAABJRU5ErkJggg==\n",
       "\" style=\"display:inline;vertical-align:middle;\" /></a></span></td></tr>\n",
       "<tr><td>&nbsp;</td><td colspan=4 style=\"text-align:left\"><span style=\"font-size:20px;\"><a class=\"ProveItLink\" href=\"../../../__pv_it/_proof_unary_and_reduction/24158abeeef499d6a6e1879eb4a1d2f5cc086ef30/expr.ipynb\"><img src=\"data:image/png;base64,iVBORw0KGgoAAAANSUhEUgAAADcAAAAUBAMAAADbzbjtAAAAMFBMVEX///8iIiLc3Ny6urqIiIiq\n",
       "qqp2dnbMzMwQEBDu7u5mZmYyMjJERERUVFSYmJgAAAA4CJ/KAAAAAXRSTlMAQObYZgAAAQ1JREFU\n",
       "KM9jYIADpgcMyCAITL79f/burgkMDHNQ5Bh4FcDUbwYGnk4Ghk2okpwbQCT7NwYG1i8MfAtQJRlS\n",
       "QATLZyD+xsCogCY5A0TwfABa8JlBEU2OgdsASPADDddfwOCF5O5lS4BuYAPZU5/AwCrGwHAOIWmh\n",
       "wA00jQ/kIv9raUuAPhFFuLOPgesA0JECQPb5CWChZrgk108GRgegL4C6GT4yoElyHGCYXwCRZP8F\n",
       "EUIYOz+BIR5IMQtAvAkCCAfND2C4zaoAdhD3T4hQFlySx4FPlg1odQID1/6/DmAhQ6BBZ4DgJAPn\n",
       "FXddZ6CuAoTnMIJvIhIbe8DDwCFsUQYDaJHNg2INWjJ5xMAAAHA6PhPQZp1jAAAAAElFTkSuQmCC\n",
       "\" style=\"display:inline;vertical-align:middle;\" /></a> : <a class=\"ProveItLink\" href=\"../../../__pv_it/_proof_unary_and_reduction/9d928e0b3dd1ab96f87ce565cae6c63c454cf04d0/expr.ipynb\"><img src=\"data:image/png;base64,iVBORw0KGgoAAAANSUhEUgAAAGIAAAAUBAMAAACE8PXhAAAAMFBMVEX///8QEBCYmJiqqqp2dnaI\n",
       "iIi6urpUVFTu7u4iIiJERETMzMxmZmYyMjLc3NwAAACHEeD/AAAAAXRSTlMAQObYZgAAAR1JREFU\n",
       "KM9jYICBR3CWHQNRgGMBw8mZIDCdgf0BAbV8YJIXrMwUrPkCAR28B0CkDgNcB4MrAR27ZoDIeUg6\n",
       "GgnoKAsFOW0Ckg7eBPxevsAJJFkPIOlgOYBD7RufwAagtAGLAQMDlwKSDiaw133vgsAdJA1scgz3\n",
       "gRQnAx9QAacBkg7mCditaFRgOAWkVBkYqhkYGBOQdHB/wK7jfAPDVCAFDKntROqQYuD4DXTBAXDs\n",
       "obiKbQLCH9eRwugLA/MHSFwDdWHxOWaofmZgv2DHsIsB7DIW5NDlccDuqqUMmgUODGUgZijUIQxJ\n",
       "kBjcgKY0axUQNDC0h+4rTWAA+5gblkogoJOo1K6DxHYlSgfXA6R0Q2yOwqIZL0DkWj286gBCW0li\n",
       "+GrZswAAAABJRU5ErkJggg==\n",
       "\" style=\"display:inline;vertical-align:middle;\" /></a>, <a class=\"ProveItLink\" href=\"../../../../../../__pv_it/common/a2581dc5df71d9a30bad37de14965fa5fec97a240/expr.ipynb\"><img src=\"data:image/png;base64,iVBORw0KGgoAAAANSUhEUgAAAAsAAAAJBAMAAAAWSsseAAAALVBMVEX///9mZmaqqqrMzMxEREQy\n",
       "MjIiIiKYmJh2dna6urrc3NxUVFSIiIju7u4AAACJHQtQAAAAAXRSTlMAQObYZgAAAEJJREFUCNdj\n",
       "YLhzeuWJAwy8Dew5bAEMHBc43nIuYOBlYHFgAAG+A2DKzgBIMF04x8BzgWGegh/DcgaG22fuiBcw\n",
       "AAATyhBrnyPYZQAAAABJRU5ErkJggg==\n",
       "\" style=\"display:inline;vertical-align:middle;\" /></a> : <a class=\"ProveItLink\" href=\"../../../__pv_it/_proof_unary_and_reduction/9e362671b9b2a0f5ffefde77f66fca4656e6537d0/expr.ipynb\"><img src=\"data:image/png;base64,iVBORw0KGgoAAAANSUhEUgAAADUAAAAPBAMAAAC2KZqIAAAALVBMVEX///92dnbu7u5ERETMzMwy\n",
       "MjLc3NyYmJi6urqIiIiqqqpUVFQiIiJmZmYAAADMZXmcAAAAAXRSTlMAQObYZgAAAHFJREFUGNNj\n",
       "uHMGBE4zIAFesNCZDSD2SrhoAozBNQHKQMjF4pZjsVHAKcfdOQGnnCrDAZxyUkCIS+4AQyouOfYJ\n",
       "DNwOOOR4FBhYNuCQWwvEYTjkwqDyWORYDCDmosi1Q33eACQ4IYIcBQwogANMOiAEAGEgJV+JGj3x\n",
       "AAAAAElFTkSuQmCC\n",
       "\" style=\"display:inline;vertical-align:middle;\" /></a>, <a class=\"ProveItLink\" href=\"../../../../../../__pv_it/common/0f21cbfd5644a1cae6781c1d58354abc2ffbc9000/expr.ipynb\"><img src=\"data:image/png;base64,iVBORw0KGgoAAAANSUhEUgAAAAsAAAANBAMAAACN24kIAAAAMFBMVEX///8iIiKYmJhUVFTMzMxE\n",
       "REQyMjKqqqq6urp2dnYQEBDc3NxmZmaIiIju7u4AAACH5sGpAAAAAXRSTlMAQObYZgAAAFlJREFU\n",
       "CNdj4LtzgWHXAwZOjgUM9xkYtvMkMIQyMDzgusDwl4GBof8ByxcgdYyBdwGQCmZgNQBShxn6FYDU\n",
       "47vnNzAwgGUZGJgT+H4AKUYF1gtAiuPuESAJAJGkFvXVdzA+AAAAAElFTkSuQmCC\n",
       "\" style=\"display:inline;vertical-align:middle;\" /></a> : <a class=\"ProveItLink\" href=\"../../../../__pv_it/common/373f61d65f7ccc0f6ebbafaccf02f2693d0e3bad0/expr.ipynb\"><img src=\"data:image/png;base64,iVBORw0KGgoAAAANSUhEUgAAAA4AAAAOBAMAAADtZjDiAAAAG1BMVEX///+YmJi6urqIiIiqqqpU\n",
       "VFQiIiJmZmYAAAD2GhH1AAAAAXRSTlMAQObYZgAAABhJREFUCNdjKEsDgVQGIHBmgABa0YpADADk\n",
       "ogYfXGfJdgAAAABJRU5ErkJggg==\n",
       "\" style=\"display:inline;vertical-align:middle;\" /></a></span></td></tr><tr><td><a name=\"0xbb377f21f40138d_step3\">3</a></td><td>instantiation</td><td><a href=\"#0xbb377f21f40138d_step6\">6</a>, <a href=\"#0xbb377f21f40138d_step7\">7</a>, <a href=\"#0xbb377f21f40138d_step8\">8</a></td><td><span style=\"font-size:20px;\"> <a class=\"ProveItLink\" href=\"../../../__pv_it/_proof_unary_and_reduction/4201128cb7c2eb1f3cbfc96323a125d77b4ad1520/proof.ipynb\" style=\"text-decoration: none\">&nbsp;&#x22A2;&nbsp;&nbsp;</a><a class=\"ProveItLink\" href=\"../../../__pv_it/_proof_unary_and_reduction/53892ad2df41fc12a7c15da1ecfc6465972316f70/expr.ipynb\"><img src=\"data:image/png;base64,iVBORw0KGgoAAAANSUhEUgAAAFgAAAAUBAMAAAD7IecQAAAAMFBMVEX///8QEBCYmJiqqqp2dnaI\n",
       "iIi6urpUVFTu7u4iIiJERETMzMxmZmYyMjLc3NwAAACHEeD/AAAAAXRSTlMAQObYZgAAAOxJREFU\n",
       "KM9jYICBR3CWHQMhwLEARG4GEewPsMhvhlB8YJIXrMIUrO8CFsWmEIr3AIjUQRJyxa141wwQOQ9J\n",
       "qBG34rJQkFsmIAnxJuBSzHGBE0iyHkASYjmASzGLAYsBAwOXApIQE9iHvndB4A6KYk4GPqAcpwGS\n",
       "EPMEXCarMjBUMzAwJiAJcX/ApRgYFtuJVcx8ABwhKM5gm4Bw83VkxaCYA2rA4kEsJu+COIUFOeh4\n",
       "HHAoLgMRoWCbT86cKThz5nSgbRvQVMJkwB7jhkU3BHQSSqI6SGxXQoq5EIkYaxLFkvjR9eECiGyl\n",
       "h0sJADZ7PTnGpuilAAAAAElFTkSuQmCC\n",
       "\" style=\"display:inline;vertical-align:middle;\" /></a></span></td></tr>\n",
       "<tr><td>&nbsp;</td><td colspan=4 style=\"text-align:left\"><span style=\"font-size:20px;\"><a class=\"ProveItLink\" href=\"../../../__pv_it/_proof_unary_and_reduction/24158abeeef499d6a6e1879eb4a1d2f5cc086ef30/expr.ipynb\"><img src=\"data:image/png;base64,iVBORw0KGgoAAAANSUhEUgAAADcAAAAUBAMAAADbzbjtAAAAMFBMVEX///8iIiLc3Ny6urqIiIiq\n",
       "qqp2dnbMzMwQEBDu7u5mZmYyMjJERERUVFSYmJgAAAA4CJ/KAAAAAXRSTlMAQObYZgAAAQ1JREFU\n",
       "KM9jYIADpgcMyCAITL79f/burgkMDHNQ5Bh4FcDUbwYGnk4Ghk2okpwbQCT7NwYG1i8MfAtQJRlS\n",
       "QATLZyD+xsCogCY5A0TwfABa8JlBEU2OgdsASPADDddfwOCF5O5lS4BuYAPZU5/AwCrGwHAOIWmh\n",
       "wA00jQ/kIv9raUuAPhFFuLOPgesA0JECQPb5CWChZrgk108GRgegL4C6GT4yoElyHGCYXwCRZP8F\n",
       "EUIYOz+BIR5IMQtAvAkCCAfND2C4zaoAdhD3T4hQFlySx4FPlg1odQID1/6/DmAhQ6BBZ4DgJAPn\n",
       "FXddZ6CuAoTnMIJvIhIbe8DDwCFsUQYDaJHNg2INWjJ5xMAAAHA6PhPQZp1jAAAAAElFTkSuQmCC\n",
       "\" style=\"display:inline;vertical-align:middle;\" /></a> : <a class=\"ProveItLink\" href=\"../../../__pv_it/_proof_unary_and_reduction/822299686cbc6869a545f3cc71382cabec6e6c9b0/expr.ipynb\"><img src=\"data:image/png;base64,iVBORw0KGgoAAAANSUhEUgAAAGIAAAAUBAMAAACE8PXhAAAAMFBMVEX///8QEBCYmJiqqqp2dnaI\n",
       "iIi6urpUVFTu7u4iIiJERETMzMxmZmYyMjLc3NwAAACHEeD/AAAAAXRSTlMAQObYZgAAASBJREFU\n",
       "KM9jYICBR3CWHQNRgGMBiNwMItgfEFDLByZ5wcpMwZovENDBewBE6jDAdTC4EtCxawaInIeko5GA\n",
       "jrJQkNMmIOngTcDv5QucQJL1AJIOlgM41L7xCWwAShuwGDAwcCkg6WACe933LgjcQdLAJsdwH0hx\n",
       "MvABFXAaIOlgnoDdikYFhlNASpWBoZqBgTEBSQf3B+w6zjcwTAVSwJDaTqQOKQaO30AXHADHHoqr\n",
       "2CYg/HEdKYy+MDB/gMQ1UBcWn2OG6mcG9gt2DLsYwC5jQQ5dHgfsrlrKoFngwFAGYoaCHXJy5kzB\n",
       "mTOnA+3dgKY0axUQNDC0h+4rTWAA+5gblkogoJOo1K6DxHYlSgfXA6R0Q0KOQteMFyByrR5edQC2\n",
       "5kkrzPAnsQAAAABJRU5ErkJggg==\n",
       "\" style=\"display:inline;vertical-align:middle;\" /></a>, <a class=\"ProveItLink\" href=\"../../../../../../__pv_it/common/a2581dc5df71d9a30bad37de14965fa5fec97a240/expr.ipynb\"><img src=\"data:image/png;base64,iVBORw0KGgoAAAANSUhEUgAAAAsAAAAJBAMAAAAWSsseAAAALVBMVEX///9mZmaqqqrMzMxEREQy\n",
       "MjIiIiKYmJh2dna6urrc3NxUVFSIiIju7u4AAACJHQtQAAAAAXRSTlMAQObYZgAAAEJJREFUCNdj\n",
       "YLhzeuWJAwy8Dew5bAEMHBc43nIuYOBlYHFgAAG+A2DKzgBIMF04x8BzgWGegh/DcgaG22fuiBcw\n",
       "AAATyhBrnyPYZQAAAABJRU5ErkJggg==\n",
       "\" style=\"display:inline;vertical-align:middle;\" /></a> : <a class=\"ProveItLink\" href=\"../../../__pv_it/_proof_unary_and_reduction/ab099c7276007032c520494aabe9956687c373890/expr.ipynb\"><img src=\"data:image/png;base64,iVBORw0KGgoAAAANSUhEUgAAADUAAAAPBAMAAAC2KZqIAAAAMFBMVEX///8QEBB2dnbu7u5ERETM\n",
       "zMwyMjLc3NyYmJi6urqIiIiqqqpUVFQiIiJmZmYAAAB/Rz/cAAAAAXRSTlMAQObYZgAAAHRJREFU\n",
       "GNNjeHsXBO4woALWDVDGLrhQAYzBvQBDLg+3HKuvAU45nlkLcMqZMVzAKacNhLjkLjCU4ZLjWMDA\n",
       "E4BDjteAgfUADrl9QJyOQy4dKo9FjtUBYi6K3AyozycACS6gIN/duxdl7949gBT2nGAyACEAAOdJ\n",
       "KQ0q7GpoAAAAAElFTkSuQmCC\n",
       "\" style=\"display:inline;vertical-align:middle;\" /></a>, <a class=\"ProveItLink\" href=\"../../../../../../__pv_it/common/0f21cbfd5644a1cae6781c1d58354abc2ffbc9000/expr.ipynb\"><img src=\"data:image/png;base64,iVBORw0KGgoAAAANSUhEUgAAAAsAAAANBAMAAACN24kIAAAAMFBMVEX///8iIiKYmJhUVFTMzMxE\n",
       "REQyMjKqqqq6urp2dnYQEBDc3NxmZmaIiIju7u4AAACH5sGpAAAAAXRSTlMAQObYZgAAAFlJREFU\n",
       "CNdj4LtzgWHXAwZOjgUM9xkYtvMkMIQyMDzgusDwl4GBof8ByxcgdYyBdwGQCmZgNQBShxn6FYDU\n",
       "47vnNzAwgGUZGJgT+H4AKUYF1gtAiuPuESAJAJGkFvXVdzA+AAAAAElFTkSuQmCC\n",
       "\" style=\"display:inline;vertical-align:middle;\" /></a> : <a class=\"ProveItLink\" href=\"../../../../__pv_it/common/bc5c31e39ae582b67c89fb24025b57f5b995e8890/expr.ipynb\"><img src=\"data:image/png;base64,iVBORw0KGgoAAAANSUhEUgAAAA4AAAAOBAMAAADtZjDiAAAAG1BMVEX///9UVFQQEBAiIiJmZmaI\n",
       "iIiqqqrMzMwAAADC2JlRAAAAAXRSTlMAQObYZgAAABlJREFUCNdjYGBgKGOAgFRa0s7GxkrGxoYA\n",
       "QSUGlQeagkgAAAAASUVORK5CYII=\n",
       "\" style=\"display:inline;vertical-align:middle;\" /></a></span></td></tr><tr><td><a name=\"0xbb377f21f40138d_step4\">4</a></td><td>instantiation</td><td><a href=\"#0xbb377f21f40138d_step10\">10</a>, <a href=\"#0xbb377f21f40138d_step9\">9</a></td><td><span style=\"font-size:20px;\"> <a class=\"ProveItLink\" href=\"../../../__pv_it/_proof_unary_and_reduction/329f381aceb5e5587cdbe32a8f8656c3b99f42070/proof.ipynb\" style=\"text-decoration: none\">&nbsp;&#x22A2;&nbsp;&nbsp;</a><a class=\"ProveItLink\" href=\"../../../__pv_it/_proof_unary_and_reduction/4c63707200f200598a84f4433f396b3b20e1bca50/expr.ipynb\"><img src=\"data:image/png;base64,iVBORw0KGgoAAAANSUhEUgAAAI4AAAAUBAMAAACpLhgeAAAAMFBMVEX///8QEBCYmJiqqqp2dnaI\n",
       "iIi6urpUVFTu7u4iIiJERETMzMxmZmYyMjLc3NwAAACHEeD/AAAAAXRSTlMAQObYZgAAAZZJREFU\n",
       "OMuVlLFLw0AUxj9N2jRNW/wTXNxUujgIIoK4KWTpXgQHt05dBKmjQyGb7VK6ukg3oYsZXNycdFBL\n",
       "6C74J3j30jTvXdJAv9CXa967X+6+3B2QaL5sHSOrOQpkRWm7MsbbUOsBTpSpZFmmGj0adnCr/zXo\n",
       "WZ06H1Cn9wyHZUnLN1m+jn2qCXXcRVp5luHwrNa35Ng6Tge6OWKVdxnOSHK8x57gVLZU6Lb05AJW\n",
       "WW8bGJFVcq58wcGHdsNVjVLIKu3Q4Igs+RFIzrnq1LSbQHWbVW6S0Rc/WuSEyCqdqktw9gAXDdXN\n",
       "bbJKKzDGI7JKAX4l5xDYAW6AjTar9P4Mjsiq8fpwJoLzAqiv9bwmx+3B6xgcK6RVJkZeDlJ/PnPm\n",
       "daR+M8G5ppWqWDk+Mxk+zxYs7vNU3wbJp44raycGR2ThjeO5Mc4ruvrWWkwFl/E6nBgckYWj3SrF\n",
       "gHI80i+Qg16y8mPdr9gXCZUif1clMHYiCvfpStl+amV66OScG9WokNMXJ1VBJ5bN01Puybm/7rm6\n",
       "GeEfBrJo2BDUYJIAAAAASUVORK5CYII=\n",
       "\" style=\"display:inline;vertical-align:middle;\" /></a></span></td></tr>\n",
       "<tr><td>&nbsp;</td><td colspan=4 style=\"text-align:left\"><span style=\"font-size:20px;\"><a class=\"ProveItLink\" href=\"../../../../../../__pv_it/common/e4aad701f7f5516d8e7f0d805d518bf02c13322a0/expr.ipynb\"><img src=\"data:image/png;base64,iVBORw0KGgoAAAANSUhEUgAAAA8AAAAOBAMAAAACpFvcAAAALVBMVEX///8iIiIQEBBERERUVFS6\n",
       "urqIiIjc3NxmZmaqqqru7u6YmJgyMjLMzMwAAACK9jtgAAAAAXRSTlMAQObYZgAAAFtJREFUCNdj\n",
       "YACBOwxQcA5Kc59bAGGs7CuAMDbkBYBp1gXzNoAZSxnuJYAZAQx1DSCa16PDzwCshIGB6QCIMYGB\n",
       "gVEBSLMDGTwPgIxCIGZ+zsCw+N0pBk67hw0AfpEVEQi8t+wAAAAASUVORK5CYII=\n",
       "\" style=\"display:inline;vertical-align:middle;\" /></a> : <a class=\"ProveItLink\" href=\"../../../../__pv_it/common/373f61d65f7ccc0f6ebbafaccf02f2693d0e3bad0/expr.ipynb\"><img src=\"data:image/png;base64,iVBORw0KGgoAAAANSUhEUgAAAA4AAAAOBAMAAADtZjDiAAAAG1BMVEX///+YmJi6urqIiIiqqqpU\n",
       "VFQiIiJmZmYAAAD2GhH1AAAAAXRSTlMAQObYZgAAABhJREFUCNdjKEsDgVQGIHBmgABa0YpADADk\n",
       "ogYfXGfJdgAAAABJRU5ErkJggg==\n",
       "\" style=\"display:inline;vertical-align:middle;\" /></a></span></td></tr><tr><td><a name=\"0xbb377f21f40138d_step5\">5</a></td><td>axiom</td><td></td><td><span style=\"font-size:20px;\"> <a class=\"ProveItLink\" href=\"../../axioms.ipynb#and_t_t\" style=\"text-decoration: none\">&nbsp;&#x22A2;&nbsp;&nbsp;</a><a class=\"ProveItLink\" href=\"../../../__pv_it/axioms/5e5ba687f3cbbf47e9f0d88f93c2b4e2e63bdabc0/expr.ipynb\"><img src=\"data:image/png;base64,iVBORw0KGgoAAAANSUhEUgAAAHAAAAAUBAMAAACnq6Q0AAAAMFBMVEX////MzMxUVFR2dna6uroQ\n",
       "EBCqqqqIiIgiIiJmZmYyMjJERETu7u6YmJjc3NwAAACgK8IjAAAAAXRSTlMAQObYZgAAAQRJREFU\n",
       "OMtjYOC7wIAH5OGWOs3A2QEGCsiiM8BCTQxMD9DVw2QY1oF4bAUwcT64inQQwbMAi11gGd4JqBq5\n",
       "JqBIM5jj0sjxAFWjdA+qxqO4NL5gQNWoUo6qkcsBh8ZKVI08CzhQNTJPwKFxL6pG5gTmBBSNvODQ\n",
       "sVoFAiuRZdpQNXIw8C1A0cjWgMPGEFSN1xkYFFE0Mn4gTiMwTIWI04jqVDZgUHA9QNbI0oDw4yLc\n",
       "gQPSxDYBM3Cw2GiJolEa6lyERk4DHBo9IA6CZhEVEAFNAr4QNwhgavRFJDkYACcTRmSRE7hyFe8E\n",
       "BrzAHKfMPrz6sGYrWEbGB7gf4JTCX3TcwyUBAKQERsxzlZRzAAAAAElFTkSuQmCC\n",
       "\" style=\"display:inline;vertical-align:middle;\" /></a></span></td></tr>\n",
       "<tr><td>&nbsp;</td><td colspan=4 style-\"text-align:left\"><a class=\"ProveItLink\" href=\"../../axioms.ipynb#and_t_t\">proveit.logic.booleans.conjunction.and_t_t</a></td></tr><tr><td><a name=\"0xbb377f21f40138d_step6\">6</a></td><td>theorem</td><td></td><td><span style=\"font-size:20px;\"> <a class=\"ProveItLink\" href=\"../../../../../equality/_theory_nbs_/proofs/sub_right_side_into/thm_proof.ipynb\" style=\"text-decoration: none\">&nbsp;&#x22A2;&nbsp;&nbsp;</a><a class=\"ProveItLink\" href=\"../../../../../equality/__pv_it/theorems/f0759588b0275c29c9b37c086fa38378e758407a0/expr.ipynb\"><img src=\"data:image/png;base64,iVBORw0KGgoAAAANSUhEUgAAAL4AAAAWBAMAAACMFTstAAAAMFBMVEX///8QEBCIiIhmZma6urrM\n",
       "zMxUVFQiIiJERETc3Nzu7u6qqqp2dnaYmJgyMjIAAAAcRTyBAAAAAXRSTlMAQObYZgAAAu1JREFU\n",
       "SMe1VU1oE1EQ/rrZ3WQ3aVo82kukoFCrlqKgIBIrqAel0YMnMaHYglJLD14sCkGhpIXa3OxFGlQE\n",
       "e7ABRfEW2oNQS4konlQW1INCbbCl2lp/Zt57m2yNCypxYDPzJvO+nTfzvVngf8h1qcJZwGHjVW1g\n",
       "X/wY7HmTA+y0cpwBnrD+UKO8vwOhjUA0q9Z3gTFSVro28MYa1eQT8Mx1RGKI0nki+drga0v00Dsu\n",
       "uA67EfUzExPXalSeUAkwl2D1lz1vgS+ZzMU/226J34R/QAORZbwNWhtwox0WdWIa6AaGAH20d/fZ\n",
       "qg26VIeXpwepjAWxuO+PnywgTLmGihS7Hxqd5jVwADZz9CnwuPrAUtU3ItIPU7IikPXF39E72055\n",
       "BPOw8vsQItY8pBU0eh966G8/fDPFyZxUPUv54o/mhKqLw8YGNMToRESeYpCdl4CMH36wyMl0K+d7\n",
       "X/zPcPGhryKZEPiWc4KzWoE2QC9rPs4wHSkMePAns9iSA7FiatfmBLaxS1hS3GAYiyodonvAwSYy\n",
       "D9EzdJo7udbKN7nFdM6TKqwajR78zqnZPLNOy/UF43jATGfLzJCMlIMF/cUuqncohUGI/uIe0zXi\n",
       "SPJFuRfWrX4t7cGfE1xKw8A8s4lTFZZkrRuM6Kq6tcTPQEr/RuZeZm2MkdoUhQU7AgUz5sG/IvC5\n",
       "ryv0nBK+lXLV3eDAwnJMspoStruaOeIds4+73qBGRFLcn2C8LuHB/yqqS0kaJQM4KFZkmR9J5svB\n",
       "FRHzgToAu3yTk5S3NWyV5lCwhhFMdHr4Y4hcKXY84kSAlxjLSUu1UwVXhOZbHybjYr6pybSwh3Ca\n",
       "7HNHWnNGE/Suqx787YuiaAO4/XxqBtiJY3lpqUuugj20zhLdL8v57JWwq+5gxMt/KVuVpnOvm7du\n",
       "cEXo+9LRzDUbWu9/5Kpe3anGV4twUXz3KuIGV38f638ZJUVXHZ1FNb4u/75J+9btcoP/QQK/OV7L\n",
       "XyH8BE6swAxF4PihAAAAAElFTkSuQmCC\n",
       "\" style=\"display:inline;vertical-align:middle;\" /></a></span></td></tr>\n",
       "<tr><td>&nbsp;</td><td colspan=4 style-\"text-align:left\"><a class=\"ProveItLink\" href=\"../../../../../equality/_theory_nbs_/proofs/sub_right_side_into/thm_proof.ipynb\">proveit.logic.equality.sub_right_side_into</a></td></tr><tr><td><a name=\"0xbb377f21f40138d_step7\">7</a></td><td>instantiation</td><td><a href=\"#0xbb377f21f40138d_step10\">10</a>, <a href=\"#0xbb377f21f40138d_step11\">11</a></td><td><span style=\"font-size:20px;\"> <a class=\"ProveItLink\" href=\"../../../__pv_it/_proof_unary_and_reduction/460e93614bd4a5bfcb4b2ef60a41fe8f8cc004ad0/proof.ipynb\" style=\"text-decoration: none\">&nbsp;&#x22A2;&nbsp;&nbsp;</a><a class=\"ProveItLink\" href=\"../../../__pv_it/_proof_unary_and_reduction/f8da1fdc4e93841b89c29a179d5553f4ec9c7af50/expr.ipynb\"><img src=\"data:image/png;base64,iVBORw0KGgoAAAANSUhEUgAAAI4AAAAUBAMAAACpLhgeAAAAMFBMVEX///8QEBCYmJiqqqp2dnaI\n",
       "iIi6urpUVFTu7u4iIiJERETMzMxmZmYyMjLc3NwAAACHEeD/AAAAAXRSTlMAQObYZgAAAaNJREFU\n",
       "OMuVlLFLw1AQxk+T2qZpi45uLm4qXRwEEUHcFLJ0L4KDm1MXQeroUIiTzVK6ukjBQehiBhc3Jx3U\n",
       "EroL/gneXZrm7iUt9Au5PHL3fnnvy3sPINF42jqArMYwR1aUtkt9ik8UilGmErNvAeneSLh1itcU\n",
       "avyiyp13udN7hiOyrOmXLI9ih2tCiluQVh5nODJL+tYcm+KwS82eqLzJcHqa4z60Fae0iqHVoMn5\n",
       "orLaNDAqSw6ee4oDH+SGg41CKCrt0OCoLPvha84Jdqrb6Hl5Q1Qus9GnPyR2QmVRR3gpzjaAAzXs\n",
       "5tRFpeUb41FZlA+/mrMHsAlwBbDUFJXun8FRWRyvB8WB4rwA4N96XpDjtMG9NDhWyKtMjXzFT/35\n",
       "zJnXPt4jxbnglYqsHJ+FDJ9HE5b0eUiPbvKr48rKocFRWXD78dwE5xVa9GjwVHAnrvFOrA4MTjxR\n",
       "OJusQnKrgIBKENytBwFa9QXsoJus/Fi3M/ZFQuUov1XyjZ0Ic/fpTNleamV66OScG+VoLqdjnmOz\n",
       "Oolsnh5zT86dRc/V5Qj+AZbgaC43aAAtAAAAAElFTkSuQmCC\n",
       "\" style=\"display:inline;vertical-align:middle;\" /></a></span></td></tr>\n",
       "<tr><td>&nbsp;</td><td colspan=4 style=\"text-align:left\"><span style=\"font-size:20px;\"><a class=\"ProveItLink\" href=\"../../../../../../__pv_it/common/e4aad701f7f5516d8e7f0d805d518bf02c13322a0/expr.ipynb\"><img src=\"data:image/png;base64,iVBORw0KGgoAAAANSUhEUgAAAA8AAAAOBAMAAAACpFvcAAAALVBMVEX///8iIiIQEBBERERUVFS6\n",
       "urqIiIjc3NxmZmaqqqru7u6YmJgyMjLMzMwAAACK9jtgAAAAAXRSTlMAQObYZgAAAFtJREFUCNdj\n",
       "YACBOwxQcA5Kc59bAGGs7CuAMDbkBYBp1gXzNoAZSxnuJYAZAQx1DSCa16PDzwCshIGB6QCIMYGB\n",
       "gVEBSLMDGTwPgIxCIGZ+zsCw+N0pBk67hw0AfpEVEQi8t+wAAAAASUVORK5CYII=\n",
       "\" style=\"display:inline;vertical-align:middle;\" /></a> : <a class=\"ProveItLink\" href=\"../../../../__pv_it/common/bc5c31e39ae582b67c89fb24025b57f5b995e8890/expr.ipynb\"><img src=\"data:image/png;base64,iVBORw0KGgoAAAANSUhEUgAAAA4AAAAOBAMAAADtZjDiAAAAG1BMVEX///9UVFQQEBAiIiJmZmaI\n",
       "iIiqqqrMzMwAAADC2JlRAAAAAXRSTlMAQObYZgAAABlJREFUCNdjYGBgKGOAgFRa0s7GxkrGxoYA\n",
       "QSUGlQeagkgAAAAASUVORK5CYII=\n",
       "\" style=\"display:inline;vertical-align:middle;\" /></a></span></td></tr><tr><td><a name=\"0xbb377f21f40138d_step8\">8</a></td><td>axiom</td><td></td><td><span style=\"font-size:20px;\"> <a class=\"ProveItLink\" href=\"../../axioms.ipynb#and_t_f\" style=\"text-decoration: none\">&nbsp;&#x22A2;&nbsp;&nbsp;</a><a class=\"ProveItLink\" href=\"../../../__pv_it/axioms/8c9c98798203d32da2638117b24b1adf07a857270/expr.ipynb\"><img src=\"data:image/png;base64,iVBORw0KGgoAAAANSUhEUgAAAHAAAAAUBAMAAACnq6Q0AAAAMFBMVEX////MzMxUVFR2dna6uroQ\n",
       "EBCqqqqIiIgiIiJmZmYyMjJERETu7u6YmJjc3NwAAACgK8IjAAAAAXRSTlMAQObYZgAAAQhJREFU\n",
       "OMtjYOC7wIAH5OGWOs3A2QEGCmgSYiCC6QEWLWAZhnUggq0AJsgHl04HETwLsGgEy/BOQNXINQFF\n",
       "msEcl0aOB6gapXtQNR7FpfEFA6pGlXJUjVwOODRWomrkWcCBqpF5Ag6Ne1E1MicwJ6Bo5AWHjtUq\n",
       "EFiJLNOGqpGDgW8Bika2Bhw2hqBqvM7AoIiikfEDcRqBYSpEnEZUp7IBg4LrAbJGlgaEHxfhDhyQ\n",
       "JrYJmIGDxUZLFI3SUOciNHIa4NDoAXEQNIuogAhQEpjR0RHa0dEEdIMAmi6YDAdK8gcnE0ZkkRO4\n",
       "chXvBAa8wBynzD68+rBmK1hGxge4H+CUwl903MMlAQBm6kX4QLZagwAAAABJRU5ErkJggg==\n",
       "\" style=\"display:inline;vertical-align:middle;\" /></a></span></td></tr>\n",
       "<tr><td>&nbsp;</td><td colspan=4 style-\"text-align:left\"><a class=\"ProveItLink\" href=\"../../axioms.ipynb#and_t_f\">proveit.logic.booleans.conjunction.and_t_f</a></td></tr><tr><td><a name=\"0xbb377f21f40138d_step9\">9</a></td><td>conjecture</td><td></td><td><span style=\"font-size:20px;\"> <a class=\"ProveItLink\" href=\"../../../../_theory_nbs_/proofs/true_is_bool/thm_proof.ipynb\" style=\"text-decoration: none\">&nbsp;&#x22A2;&nbsp;&nbsp;</a><a class=\"ProveItLink\" href=\"../../../../__pv_it/theorems/87f68fc870f4712c3feccc2c0a04f4f966bbba7e0/expr.ipynb\"><img src=\"data:image/png;base64,iVBORw0KGgoAAAANSUhEUgAAADYAAAAPBAMAAABdHiGLAAAAMFBMVEX///92dnYQEBDc3Nzu7u7M\n",
       "zMwyMjJERESYmJi6urqIiIiqqqpUVFQiIiJmZmYAAABV8JwGAAAAAXRSTlMAQObYZgAAAJVJREFU\n",
       "GNNjeHsXBO4wIAOuS+XfdE+CmbsY0AEb6wJ3vwbscuycDVwBBahy7XfvJkDluDegyoUvQehjnIIi\n",
       "x5KCZObcmABkOR4DhJzuf00Ud7Iju4WxQwBZLigNCGBuYSiYgSxnjqyPoYAHWY4JRe4AG7Ic3wIU\n",
       "fY0o/ruNCDMBRrkDINYMmJBPpQN6WCPAxFpImEEAACptMtKk+o6sAAAAAElFTkSuQmCC\n",
       "\" style=\"display:inline;vertical-align:middle;\" /></a></span></td></tr>\n",
       "<tr><td>&nbsp;</td><td colspan=4 style-\"text-align:left\"><a class=\"ProveItLink\" href=\"../../../../_theory_nbs_/proofs/true_is_bool/thm_proof.ipynb\">proveit.logic.booleans.true_is_bool</a></td></tr><tr><td><a name=\"0xbb377f21f40138d_step10\">10</a></td><td>conjecture</td><td></td><td><span style=\"font-size:20px;\"> <a class=\"ProveItLink\" href=\"../unary_and_reduction_lemma/thm_proof.ipynb\" style=\"text-decoration: none\">&nbsp;&#x22A2;&nbsp;&nbsp;</a><a class=\"ProveItLink\" href=\"../../../__pv_it/theorems/7e81e39b7692941b12742259659c6cc5aaa0b8e60/expr.ipynb\"><img src=\"data:image/png;base64,iVBORw0KGgoAAAANSUhEUgAAANcAAAAUBAMAAADsL7WcAAAAMFBMVEX///8QEBCIiIhmZma6urrM\n",
       "zMxUVFQiIiJERETc3Nzu7u6qqqp2dnaYmJgyMjIAAAAcRTyBAAAAAXRSTlMAQObYZgAAAppJREFU\n",
       "SMeVlk1oE0EUx5+J6WY3u/HiuSz14s1AoZ6EggdBKORUesyh3iM9+FWheNogml5EUYorHpSKUCiC\n",
       "vYUWD9Yegp6KKIs56UGL9hALfrz3Zja78zYb2oE3edm83/znzbydCcDotjLM3cjG2d1Ro2xoi+jL\n",
       "p7woZ0m6JQTGljOBz6F4hVtD/hIDZO/owbc8sSoNaycufuyhbpQJ/EpdxR8kmhpCA2QP6KelPLEP\n",
       "HF4buACfD7DblHFezRRTiAmgVUMAdy1P7Bp1c9cHLjjrv7F/IuOsZVNMISaA5m2vrt7P07Kb1M9P\n",
       "DFzwCvs08WkRqEZIxBgRAFk/CBbzxAq0Gk5kxS7Axcof7N2aCDxliilEAGSXAFr8uJUVK1NBu2u0\n",
       "zOyCM136SdOlCnG/c2PdO6aYQgRAdl4Xl7ev8/7SW4j30CLHAjvSLhwH+xeN2hSzumGKKUQAZBYU\n",
       "eNJPKd0XW+fA76y80tAx2pv3nD27MDs51ad3Z0+InTTFFCIAMrer1nd7AbO6/TAE33dfpsWwsGZj\n",
       "MezGDyGmEAGQ2RE/L/kBLSk23595m1rGSo1faF7GCtplWpxmsmeN7DJqRAAMtebp8Ric1WeXPzle\n",
       "TxUIUUhzgTxC+xEXSLqZBaIRATC0zrv9Ec6AU1OZFe/FVYUP5tS6kMvvWhtHKnaE2JYhphEBMHSC\n",
       "QpzeTjssXQ2CW7RnBT0GZc55T5DrtP+G8Pof7m21LsQuqHB99GtEAAx5eGBBMYTHdWiozNxi6rji\n",
       "wijFx5Vqz4YfV3GLERNIoBnMsAtvWKzj7hgHccbNO4jz22YaKvfBbt+EMpact9i7O7gJy8mMU+6Q\n",
       "K6Y1Uiu+Ysx2Gvds9OUpdJPLc1QjYAh0qL8Fu0f9W7Cr7D+1ptGp25CgLQAAAABJRU5ErkJggg==\n",
       "\" style=\"display:inline;vertical-align:middle;\" /></a></span></td></tr>\n",
       "<tr><td>&nbsp;</td><td colspan=4 style-\"text-align:left\"><a class=\"ProveItLink\" href=\"../unary_and_reduction_lemma/thm_proof.ipynb\">proveit.logic.booleans.conjunction.unary_and_reduction_lemma</a></td></tr><tr><td><a name=\"0xbb377f21f40138d_step11\">11</a></td><td>conjecture</td><td></td><td><span style=\"font-size:20px;\"> <a class=\"ProveItLink\" href=\"../../../../_theory_nbs_/proofs/false_is_bool/thm_proof.ipynb\" style=\"text-decoration: none\">&nbsp;&#x22A2;&nbsp;&nbsp;</a><a class=\"ProveItLink\" href=\"../../../../__pv_it/theorems/9245be62bf47fb80f33ddbb3ee8ca0ef807317de0/expr.ipynb\"><img src=\"data:image/png;base64,iVBORw0KGgoAAAANSUhEUgAAADYAAAAPBAMAAABdHiGLAAAAMFBMVEX///92dna6urrc3Nzu7u4y\n",
       "MjJERESYmJhUVFQQEBAiIiJmZmaIiIiqqqrMzMwAAADwFAjMAAAAAXRSTlMAQObYZgAAAJtJREFU\n",
       "GNNjYGBgeMuABnhWpn2d1QRm3kGXY2DlO+DmXYBdjo2pgOdBAqpc2apVAVA53guocs+OIPQxqqDI\n",
       "sYQgman14gGyHIcBQm7W/0ko7mRDdgtjuQCy3MtQIIC5hSFBHVnODFkfQwIHshwnilwDK7Ic9wEU\n",
       "fYUo/luLCDMBRukGhl2rVs1ctWoFWMgjyQE9rBFAMQsSZhAAAHA/MhEUp0UxAAAAAElFTkSuQmCC\n",
       "\" style=\"display:inline;vertical-align:middle;\" /></a></span></td></tr>\n",
       "<tr><td>&nbsp;</td><td colspan=4 style-\"text-align:left\"><a class=\"ProveItLink\" href=\"../../../../_theory_nbs_/proofs/false_is_bool/thm_proof.ipynb\">proveit.logic.booleans.false_is_bool</a></td></tr></table>"
      ],
      "text/plain": [
       "\tstep type\trequirements\tstatement\n",
       "0\tinstantiation\t1, 2, 3\t|- forall_{A in BOOLEAN} (and(A) = A)\n",
       "\tP(A) : and(A) = A, A : A\n",
       "1\tconjecture\t\t|- forall_{P | P(TRUE), P(FALSE)} [forall_{A in BOOLEAN} P(A)]\n",
       "2\tinstantiation\t6, 4, 5\t|- and(TRUE) = TRUE\n",
       "\tP(_a) : and(TRUE) = _a, x : TRUE and TRUE, y : TRUE\n",
       "3\tinstantiation\t6, 7, 8\t|- and(FALSE) = FALSE\n",
       "\tP(_a) : and(FALSE) = _a, x : TRUE and FALSE, y : FALSE\n",
       "4\tinstantiation\t10, 9\t|- and(TRUE) = (TRUE and TRUE)\n",
       "\tA : TRUE\n",
       "5\taxiom\t\t|- (TRUE and TRUE) = TRUE\n",
       "\tproveit.logic.booleans.conjunction.and_t_t\n",
       "6\ttheorem\t\t|- forall_{P, x, y | P(x), x = y} P(y)\n",
       "\tproveit.logic.equality.sub_right_side_into\n",
       "7\tinstantiation\t10, 11\t|- and(FALSE) = (TRUE and FALSE)\n",
       "\tA : FALSE\n",
       "8\taxiom\t\t|- (TRUE and FALSE) = FALSE\n",
       "\tproveit.logic.booleans.conjunction.and_t_f\n",
       "9\tconjecture\t\t|- TRUE in BOOLEAN\n",
       "10\tconjecture\t\t|- forall_{A in BOOLEAN} (and(A) = (TRUE and A))\n",
       "11\tconjecture\t\t|- FALSE in BOOLEAN"
      ]
     },
     "execution_count": 8,
     "metadata": {},
     "output_type": "execute_result"
    }
   ],
   "source": [
    "%qed"
   ]
  },
  {
   "cell_type": "code",
   "execution_count": null,
   "metadata": {},
   "outputs": [],
   "source": []
  }
 ],
 "metadata": {
  "kernelspec": {
   "display_name": "Python 3",
   "language": "python",
   "name": "python3"
  }
 },
 "nbformat": 4,
 "nbformat_minor": 0
}