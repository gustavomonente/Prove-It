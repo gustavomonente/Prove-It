{
 "cells": [
  {
   "cell_type": "markdown",
   "metadata": {},
   "source": [
    "Proof of <a class=\"ProveItLink\" href=\"../../../../../../_theory_nbs_/theory.ipynb\">proveit</a>.<a class=\"ProveItLink\" href=\"../../../../../_theory_nbs_/theory.ipynb\">logic</a>.<a class=\"ProveItLink\" href=\"../../../../_theory_nbs_/theory.ipynb\">booleans</a>.<a class=\"ProveItLink\" href=\"../../theory.ipynb\">conjunction</a>.<a class=\"ProveItLink\" href=\"../../theorems.ipynb#rightward_commutation\">rightward_commutation</a> theorem\n",
    "========"
   ]
  },
  {
   "cell_type": "code",
   "execution_count": 1,
   "metadata": {},
   "outputs": [],
   "source": [
    "import proveit\n",
    "theory = proveit.Theory() # the theorem's theory"
   ]
  },
  {
   "cell_type": "code",
   "execution_count": 2,
   "metadata": {},
   "outputs": [
    {
     "data": {
      "text/html": [
       "Under these <a href=\"presumptions.txt\">presumptions</a>, we begin our proof of<br><strong id=\"rightward_commutation\">rightward_commutation:</strong> <a class=\"ProveItLink\" href=\"../../../__pv_it/theorems/e11cdd7497b17d997414ed56a723b59f50a75dff0/expr.ipynb\"><img src=\"data:image/png;base64,iVBORw0KGgoAAAANSUhEUgAAA6sAAAAyBAMAAABITVCgAAAAMFBMVEX///8QEBCIiIhmZma6urrM\n",
       "zMxUVFQiIiJERETc3Nzu7u6qqqp2dnaYmJgyMjIAAAAcRTyBAAAAAXRSTlMAQObYZgAAC2VJREFU\n",
       "eNrtXHtsFMcZ/7x3e+/z+Z8SHiG9UIlQqeBDTiEJRBytVKJWqQ9XTfgjqk8YkIuachFVmpAQjqaF\n",
       "IxD52koJSZp4SaomcVRyKrIaJKJcAlVbmtBVSFPaQOyUthJIDS5+YMzDndc+ZnfWd472qrvzjeX1\n",
       "7Dfffjs7v5n5Zr79eQHKT02Tk0WosnQMGomlUJr+jUxOtkznuqbDzyhV9iiRYgNOPX2TwfvMc9OD\n",
       "NVV1T7KwAaaRooMsI9c4rGFL/Z+fCegddizZVyewHkjy3iVLn2pwela+I+j4W8baun9sdV6Luu4P\n",
       "TmPWf3HXMvUXwmG1ZXxT7rvTqOGHk7u6d+XZiS9fqjlqHdbH+dNm+sDNQyZZ0OFSU9tcEGg3oR6y\n",
       "KsXLblYhvFQVWQDRDaX5AIfmC4tiqOMNFKZRyeuoL1zRetdgqcmrxmENT/DnJ+mfj83i5oT42rPG\n",
       "2Lmg2LU7EXztCU72yjZ0WJUXWOD7FlMP7UZmPZdFRdAZR0Ut5VdSvogOSzXpO44N8mhdwOq3tMbD\n",
       "tD0Pmdty3TbhpfJuHcvXTFDp2q1INhDnZJ/gK1aLLHBJU2+eiw7eFlERtKKW9F4rv5LSKDq0axPF\n",
       "AccGeStfD7AO8PNgMENHnzRiEm5YILzU95W4llVbk3btnah73KCYZR4yCX5LZIFLmolVeJKVE6Ii\n",
       "6MG1vVp+JQPYrfRqbr05WaKf1zisD/GnEn2or4dN4yA06BdeehAyLOdV3lLt2mMA927mZL3kglcF\n",
       "Fvh1FVMPXiJneRDVZRzfd6z8SsbwWrA9rW3WE45bnIk6gFUe4c8DBJ5QkniidawJCpGC6No/oR+a\n",
       "fok9XWgLry2PnVn0CG/hz2zkyFmrBT5AwtQjFx2LqKuUruqmSlYS+2JoLXL70xOf4sQ7+NDFOoDV\n",
       "Y6m9n7SNF4LDaLJczmQQFC4cM/ACyyWhF/X+Nby2hNzzgTQn20GfXm7LWC3wlWDq/lHHIuoqfSO6\n",
       "qZKVxL4Ytmhzbzjj2CSf1gGsTWnLOXnue9qW4TmO4gTvA2wUzVZx8DGYutq2oEFzlNcOoIaRrnCy\n",
       "zxNPq4A3Y7HAJ029icyHIVERdZWxFs1U6UpiXwz/1WepIccmac3XPqydqghWdLjJgBUtMe8RjSkF\n",
       "ZNopvOg6NFSe5LVjqFC6yMl2kIGS0rAwLPBJU/eTtu8XFVFXOaDqsJasJO6n0WtlwNqr1j6srXnB\n",
       "JBxGvw/osIYTepCCS4fQ7zmSQ9f4UStc5rVxj/GNcDKyDYqAhoVhgd9Ka+p0x1qEk39ZkFiw0WId\n",
       "ucrQbN1UyUoSX3wgS2yBdhn1rf8WTWC1DetOECyZnmNhozV63CksWDieY60GwQKJStGGMLRxj+nM\n",
       "crJevGw5rmOhW7AHuoh6EEMRUeCD+TBLWWixjhry4KBuqmQlsS8OIbeJbM0BU0jfngKZ2od1tnWl\n",
       "mWB71568Bus6NsfB66gpQteBHcgS1I+d5dO4LS6DlOW04RPU5rMVToa3TYcUDQvdgmEU38JkAm2b\n",
       "wndA8MUMjMBK3jrqdt6t+rATVJKYMiqJo6FrEsQW9tieomOTRIYYrAT5M+XC2kxcuVoVqIaGLQLU\n",
       "SqGe6wq8MblVg3UDPuC9vh/PTg8CO/iwF5bQ8Htl8jyEey4lAnFO+/uTXctyBd4CvLSrK6ljoVsw\n",
       "jJJbGOqh2zbdihXjqJEfsVrf9HjegNVeSZLRb+G7MLas+3Zii0Stmp2HV3SUwUp2RufLhZXsr5qV\n",
       "6ti22naGD5vya9juBSvaLvWSo6l1mr7tpG2TUSxsFpzUm1JSNjiUElpnsJZbSWTLU0TnL5dqEwTr\n",
       "fuwHsuXCSjT3V8ccHL5ilZw05X87LVsxqfzbZqZluReNsWi26IYpZMv/jdRUoX42gyFY8dATxziE\n",
       "vvU8CX5URYraNvwBYzn58x3rpxXZKJsTFVw+Fp+O5a+hFVHwe4obppAt6b2pXszRoCeBNXq8r+/p\n",
       "8pdMp/v6Xs1UB6zSZVtfzcIMSIH8FIXj2kp4PJd7tHxYY7nc7mJ1PF5kwiaaEaSXv01VeJMGK9oq\n",
       "79FC3aVh9aVYb3HoM3u0zF3DR7upSnTXSsmubJHeNaapc8lBTCfOCWgka7pBg/WrZLJe47S02noM\n",
       "bk4bsHoTcJCcDCSF/k5/qRJtgQjZFQf/AaGddr9ikSJ1eY7AnkX88ZLlK7S8b6iBoi09oMHqB0nV\n",
       "Qt2W9NrRO+GNiOJRTOGIDCwmbmyVcPP6kh649KQZJ6UX4X/KvqizSJE6bBKMSJM4dKRNlSLBj1IN\n",
       "WMuANaLid7hPiobe3mcVeDOeiJijTO/RV7uRl4Xvco9v1XL+OHjIkg077g6bolWK1OEWuz2z+NTh\n",
       "PpAkOK42JmHn9EMN1uAgfnuAV5XROzu+IC1MsRyenlHq7/8ZB+sL9KVCR0C06pTjOS37egqW4FEu\n",
       "4cbvs61irVKkDm/bDZrEXtyPJMl7WvO1kcsNFJ2XTLBnA8tEV6tNm6U0y+VpXLE/8uv7zLAGniJO\n",
       "Ne1Bg3az1agPlkNwO8m2L15E8PdT+H38zs1v7RTtOKhmt8jEOJG4peRZ+i+9a4zOzJXw4akKZ+mw\n",
       "HkIAkVD3s7dALEniyDinhMg02w/Fo2ZYw4R2EC1IQ3DfXKvRj6AV4Ccke4LNnjGyHZLf5mGNWTdJ\n",
       "SB1utFukYuq2CZQS3J6yLc8s+1YX6N/uUb3hQxxf5teXlaJ/ozSswxpD/ouGutfDWsYcWQ+rQX4o\n",
       "l/sRgvV5vxlWIFHHgyv/MMFeR5jb4uy7PQrQt0L70LIIm/Kjtgmp9E2EabRSqZH2UfKy1eI+g9N8\n",
       "by6XiyNYi1pkJmyD1UX6t3tUb/yiyTPKyypE/0ZlV3VYo4oW6v4cLIJemeZWypCmo9XbwcH6d3y4\n",
       "A4KjdhDQkrk3xQLMqBLt5HVylrx8tsBKpdEVZ758JKWp4381sFqk4pNvnsYTPB2tRW2tJl+zPpR7\n",
       "9G8Xqd64mt5hXlYp+rcR6mfdR4L9SnAIjdJTEZr7QT/8Dpd8AHCag5UsX1A/vkZAQLpPaAe4GxlS\n",
       "o0VAZ8EJCN6Ii2E7hP5IYDUUNWl4CcwLE3UZqf8TsEVDyxD/JosmjAi+uxSBd4vchGNO7tG/XaR6\n",
       "4xhn9CIvqxT9m73+0GH1HIO1BW8azsFTx2nuSyoE0DThfSxJxwkHa08W9l9SMaxrC/IcWJvHh0Jg\n",
       "HII92z1JkOfB74fbupO4GCJd7yiUlzOPKeZ16cZQRlfvUgishpYh9qXwm+a96PevJ277j/4Mj1mn\n",
       "RNfo325SvTHb7cA2XlYp+jfbHXDsiIIttwj5VkvwkEvbRFf5w5RQxJvCk7BdmgknePVt5hM954fF\n",
       "6Ekk5Fu526+y7ppco3+7SfWOpUF+UOFllaJ/sxCNGdZw3p6zx4TNqWO4ILgq8kXTGlwTyq0rBNJQ\n",
       "Wkr6zOrY4mH7Sv5XcEQU0xqwzIzu0b9dpHpD5/3v7y7wMlfo32KIslZYo4Lc1LA6X6UKTalON1DF\n",
       "J6W4NZ2WtnCP/u0i1Ruz3UKzeFnl6N+ER9egfzvQv12kehN+ZGuBkzXo31Mlz5AI1qQL9G8Xqd6E\n",
       "r9Aa52SVo3/vhtqH1TsimIRdoX+7SPUmu2syf7pM/xamevjXKtgqWDK5Qv92keqNt63yOC+rGP1b\n",
       "qod/hLQuhd2jfztQvS387LKo3s2oiVc/wcsqRv9mq40ah7WJfz736N9OVG+en10O1dt3Yaytey9f\n",
       "l8rRv+vjIwPWT4K4Tv92ker9f6F/sxhyrX/A56ww1E+SK/RvF6neLpgvSf8Oz60PWH/K18ht+reL\n",
       "VG83zJekf9fL57Ys3X2m07+7oD5ghWX86cymf0eznw3W6vvwrC8OjaSlz/rh2Sr8TPStDTR1F8T4\n",
       "ffgz0f8DyPZUgxWKTcgAAAAASUVORK5CYII=\n",
       "\" style=\"display:inline;vertical-align:middle;\" /></a><br>(see <a class=\"ProveItLink\" href=\"../../../__pv_it/theorems/861523f1f68d404a55bf4e9bdb3209b7fd9f8ad70/dependencies.ipynb\">dependencies</a>)<br>"
      ],
      "text/plain": [
       "rightward_commutation: forall_{l, m, n in Natural} [forall_{A_{1}, ..A_{_a}.., A_{l}, B, C_{1}, ..C_{_a}.., C_{m}, D_{1}, ..D_{_a}.., D_{n} in BOOLEAN} ((A_{1} and ..A_{_a}.. and A_{l} and B and C_{1} and ..C_{_a}.. and C_{m} and D_{1} and ..D_{_a}.. and D_{n}) =  \\\\ (A_{1} and ..A_{_a}.. and A_{l} and C_{1} and ..C_{_a}.. and C_{m} and B and D_{1} and ..D_{_a}.. and D_{n}))]"
      ]
     },
     "execution_count": 2,
     "metadata": {},
     "output_type": "execute_result"
    }
   ],
   "source": [
    "%proving rightward_commutation"
   ]
  },
  {
   "cell_type": "code",
   "execution_count": null,
   "metadata": {},
   "outputs": [],
   "source": []
  }
 ],
 "metadata": {
  "kernelspec": {
   "display_name": "Python 3",
   "language": "python",
   "name": "python3"
  }
 },
 "nbformat": 4,
 "nbformat_minor": 0
}