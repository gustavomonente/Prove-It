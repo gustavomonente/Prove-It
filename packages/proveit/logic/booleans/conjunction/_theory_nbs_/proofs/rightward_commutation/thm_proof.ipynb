{
 "cells": [
  {
   "cell_type": "markdown",
   "metadata": {},
   "source": [
    "Proof of <a class=\"ProveItLink\" href=\"../../../../../../_theory_nbs_/theory.ipynb\">proveit</a>.<a class=\"ProveItLink\" href=\"../../../../../_theory_nbs_/theory.ipynb\">logic</a>.<a class=\"ProveItLink\" href=\"../../../../_theory_nbs_/theory.ipynb\">booleans</a>.<a class=\"ProveItLink\" href=\"../../theory.ipynb\">conjunction</a>.<a class=\"ProveItLink\" href=\"../../theorems.ipynb#rightward_commutation\">rightward_commutation</a> theorem\n",
    "========"
   ]
  },
  {
   "cell_type": "code",
   "execution_count": 1,
   "metadata": {},
   "outputs": [],
   "source": [
    "import proveit\n",
    "theory = proveit.Theory() # the theorem's theory"
   ]
  },
  {
   "cell_type": "code",
   "execution_count": 2,
   "metadata": {},
   "outputs": [
    {
     "data": {
      "text/html": [
       "Under these <a href=\"presumptions.txt\">presumptions</a>, we begin our proof of<br><strong id=\"rightward_commutation\">rightward_commutation:</strong> <a class=\"ProveItLink\" href=\"../../../__pv_it/theorems/9678b610043e2995e36f91549ffbef465beaecf10/expr.ipynb\"><img src=\"data:image/png;base64,iVBORw0KGgoAAAANSUhEUgAAA5YAAAAyBAMAAADVQFkoAAAAMFBMVEX///8QEBCIiIhmZma6urrM\n",
       "zMxUVFQiIiJERETc3Nzu7u6qqqp2dnaYmJgyMjIAAAAcRTyBAAAAAXRSTlMAQObYZgAADSpJREFU\n",
       "eNrtXG2MVNUZfvfO186dmd39URBF7IgJ0qSwQ9aCCoahTcTUtMzSVPlhZMMCWUktY2iobkWG2sIq\n",
       "mJ22iaKt7qCNAqY4LSFKgnEUmrZUZSLU0spXS/tDksrKwgLLx/Z8n3PPPXfmjvHHzi6HMHP2Pe99\n",
       "du55zjnvOe99ZgH8l4bh4RKMsLIPxnixO+j7geHPa7msYffzhRF2J/HSWOcSvkvftj3/+5q4zIy4\n",
       "G5ky5qmExAlWaa9vLmMtovriGKAtljdZN40OLrekRdjIkbfQidoAHjSM85WDbV0/06PS1M6Ho/7X\n",
       "c2/3xMoLy3sequETfjy8vms95/ChSp1Q51w+KWpN9Hab+pXWvMdViv20rEbFbaJhMTfj9Ly5DLEZ\n",
       "5WrIUQ93takZjbbjRfANBVfRALjE6jsqLU71zWVsSFQP0rdjQ0rzSY/LpD1xWm7mmlKsshiRsCDl\n",
       "8NzajV7m5qshcwjd3YGeBAi0gF8oCJ1BLzP4Vi9p8n18NHAZSYnqY3Rt23lRtoY2mHfdiv11pcMX\n",
       "dbNKK7IdTzo8/4Xf51VF5hCauxMddWLwim8osM6hlwVsjtstJt938qOAy+OCiWiWzjPrrGwNf9M4\n",
       "ilV7uVUEXFg6mVXWoT67rqB6Bsga972qyAxCd3eg9+JPe9kvFEAjjhp9PPb+p8KQrm8uHxU1i97O\n",
       "t2NyxKPgkjVeJe3BwjsiqNknIqw2CHD/CodnH3nbVg2ZQ+juDvQL+PcO+oVC8RVv6hawhADsNe6n\n",
       "huqfy5CchI2EEztNossiavsr+mcq0v5bHL3slTQUFeN0RxIaPDr1J07PA2zuhHIVkTnEgaRnEw1/\n",
       "1mW/UDS+Qiufl8dI42ekiABjn6l/LpUtRITceRCiA2hxm0VtWXjJeJm0p6EPdch8igBRep6xUMjd\n",
       "0uHwXEtvPNSWrYjMIdZmPJto+Auf9QtF4yus5KHgTeMdfVb/XDZ0yCq52fvaZuIljJKTSELY9IGl\n",
       "PdTZtjLH162PAJbRKY5GiHXJ4flVEj0LEMxWROYQ3N3QRMNfc4tfKBpfQaRaFxs7ojVf91wuLmtc\n",
       "opebBJeRAoQ6TENe2IPoOjT6nyE/oH3jfTRAoUbrjMNzLTkAZTgBXsgcgrsbmmj4O172C0Xja+JK\n",
       "ZS77ynXPZWveucbG0P9HBJc70f9PDVdJO7omgiYhOcbEUjzfgEdI+KzDk5xc4sAJ8EAWEMw9cdfC\n",
       "W6wpGQ0dhT97gm8oGl+35ODg3yan+K2xeNmhLVB1zeU6cO59fs0SOZTLT1lX6UXYo0WSJwq18LxR\n",
       "LMVHyOKcw7MP7z/2CwI8kAUEc0/MKzessDo0dNSHO074hiLx1Ubx8NAkuJ7vfVylMVv3XE5Q9n0p\n",
       "dsbszTMuyUYxgoPWG6jr7Kusotifw71wESzC2yK2sqGDPuroCQWHJz7p7CxwAoRdgpIXAcHcX7gV\n",
       "mtOBkhMdjbXgKnBBaR9S+uOk5PwURF/OAj55zDF2RLyfckm2S0f9ctlEAnZ5RFBpD8g66hq792oB\n",
       "3hpexbgM4whq4RkSwVNjNa8I+9bhUxDrPZ9qJCeIpfgFn89/ONw5s6foRIBX1nemBQHSLkDJi4Dg\n",
       "7ktQ99INtoq+/Mm8Acr5IYV/+PTgzK47cCUZxOvHf409kThHuSTHm1N+uSSnnqbCyDhenlF+eEyp\n",
       "z2cbG1TcK4nL3vB9tm1CiJU9GQFeyC6IcTAV+kJm9BqhUN8HShmwsxV6oh0248iR88sl8dw8MpbY\n",
       "2CXlh4NK/c2aYJot/78xWwtwtB/NzMPxLwMKxWCI3JvxyK2zFaqdTLJ40Xe8PEVyFSOi0JWFh3+5\n",
       "p/3V2iU1ZRx8S4aiswaTNQAHO9DW5tn9XwYUwN1gfeDxzIumHTGXif3btz/nf+9zZPv2bdmRwaV1\n",
       "UR2aORgD5SkP+wW2j73Q0/O4fy6be3o2lEbGjcXVZ5VjQiOS8Hq6fhPjchmmmyWYq3MZzrDlrDFf\n",
       "eeTcM7C3i7ok1s+x3M6a9Z5B7u4oHma6OA7BtULLdYzLb4F9gp+vDVukVfvg5g7JZTDFFu3jaePI\n",
       "EY8uEi0QJ6fw6L/BXucOGJoVuYeuN+Bp5mPTZ83m9XD/NRJZeYRxGQGr7PFg7PW9d8Fb8UKgoOQK\n",
       "sjCNxKe5xkPmKyJzGOhgEo4+RPph975MsyJ3WG6Ye4rZ3tNWtuLRTzLXuPTiMl7Gjz2fMU2yjS8U\n",
       "4O1kKq7mfT6gD0/jr6VMoPtX8VokCQGSh8DBeKHLUbcid7jVjaeaD+/eDpYF+8vX1li9/JhxGT2B\n",
       "M/J4TyiTwbiGV19Udu36pYPLl2hef2GjaeMYSvbw6hsZmI7ns4V7fLtrD6pbkTu86wZUzEE8eCwr\n",
       "eITHz/jFayRqex94ainQBLNMBuNanqb3dsV/94DKZeOzJFB2BND0XKFjhmEWRNeQ6oJpUwnpEcp5\n",
       "2JkriugjYQFOcLkRmRkXkj60AjNEGss6547C5TFA3G63aTzncidihSSYZTIY1wo2WUV3QWmvymWM\n",
       "PLVPFK1+eOAGHfMTaAX4Oal+yBbHZnKCCb3r5LJZP9cgd7jRjUjNNBQT/iy4I+PaZ4mylb49WFvn\n",
       "GAXSL6+fWf6Nfwxv949xgjet2xQBs5/DiKqQDrsvHOBcNqOYRBPMMhm8BOZB6NGenp8iLl+MqFwC\n",
       "yf3tmPPnIZbJVw/sJ9/vLQBVbmxC+xsMFUGs2WX6MECZl9Qqyyaq2dURN0kp7/09PT1JxGWJJ0xi\n",
       "bi7Zo8DT6lT1SuLIqiqQ5v1kTUKDfFJVFA93tQk/zgmc02yqgNkHvEMhbbuGnn2Zc5ko8ASzTAaP\n",
       "gzkh6KDzMrjQweU/8cudED3n7nm04e3LsOQu+qQL8EcJ5MhjXI1Lak3MPvqNPRnujrX0OiI1H3z7\n",
       "CF6/6bwsCRXwFdfwpU2qglmKhrWi2FWBNJMe21i2GrhYFcXDXWkiHzM4oNlUAXN1eE0h/Z5rYTnD\n",
       "uSS8W7C5wJPBpPajXfBH3HII4IiDS7IPQVPqCul55Ps0f4HvIKByogTop+gQRG/EzbAG7L8QLqUj\n",
       "t8amw8QYcQ8hd6z97Fa8pPkPObQ0xPFvt+LwfsmxsjhmOx3HqoJZioa1Iu2qQJpLj5vwYh9sqYbi\n",
       "5a40kVRj4oxmUwXM1eE1hfQW3Y8+ZeBcBvZBe5Eng0nt62VoRJM6+ESazggHl7052Hy+jLlsL6Kz\n",
       "fHsevxQbL0C0d00gDaGJ8KeBtq40boZ453sFKmyZyBzzwrrMzgr3zgLhUnpJcziDH85uRP///uHt\n",
       "/xO38IR+TyyvrCqYpWhYK9KuCqS59HguXs9CqWooXu5KE9GCbenWbA4Bc1V4TSHdpKdp6I5e1RUU\n",
       "XbWpKF5qOTxH6TZdFYlR5Y0TCq+xbms2lnK6d6s/iFoEpqGPb6F46fj1c/V7v4UuGoqCWRENayFG\n",
       "2lWBNJMeR88Tn3w1FA93pYlowUKrC5oNxyEhYK4GD5pCOq6vyOF+jUv55b5Y3jsfq5aFA0XDVfGv\n",
       "Kdtmbgy1zjZY7Q4rHVbdMeJu9+b7VdhjOmwcL2gGmvAgCmYuJpaiYW0oCzsVSL9K9z9Mehznj7kX\n",
       "QUUU3d3dhELdwx9tKOo2PChbSz7hpUKaLST65qchp3GZMNQqc+l9VdkIVfb6BWXzD9UOi4v1DqBy\n",
       "c6Jg5mJiKRrWQquwU4E001Ix6XGE7Tu5bNoLRXM3NBEtmD1et1EBs094oZDmU0F/6EjEYqNG60zL\n",
       "V8gYpgpmRo4UDTuLtFOBNF23uPS4gexsbfHIwQPF5e5uomrB1qLTxgXM/uClQprNUj0RPQq0zoF+\n",
       "E5dMwcy4lKJhV6hn9jRJgdEvpHDpcaSfHsd4Z3uguNzdTfSZf2vSaeMCZn/wUiHtweUGqHsug2dN\n",
       "ayxTMFMupWhY28ULOxNIN5MfuPSYHhVLvLO9UHR3LEievMzRRE/B9Psg0sYEzD7hhUKapsn5MJVl\n",
       "FHw3CFYZ9j5MwcxuWIqGtUyBsDOBdLvIG+EejOLeiRd4Z3uh6O6HJsH4whRHEzlehi5oNiZg9gkv\n",
       "FNI0Te7a+1ij4Dt7ro3sXhAKZsalEA0LHTGpSDsXSE8l8yXHTk+ATjWxO0VnC28BQF50dyxIPkvl\n",
       "yLKpCa0R857WbFTA7IJ3fkjpzxXSJE2OloGScd9Q31w2aDc1XyqYGZdSfyx0xKtVuxBIk4O0lB7b\n",
       "ty+/DURnCxQJsNrkHk6GWuhCL5rCpwfbujaCbqMCZh3e+SElvFBILyHfnG/SeBgV33GPDRlzeDSY\n",
       "ZtnGRpcwg9E+LgMm6fF8qIDilk1nrFy034xktNUGz9Lk8Jo5a1vnfxPmpDG3bj6EVS79SaO5Ntl0\n",
       "H5qZiVzJ/wW1wQNNk+u59dgNo4LLX2ifSOpHaxUTz0mbrDXKpu9G25joDwq+/WuEB5om1595jZK/\n",
       "1aRPvq0wBoquZu2EUcElzNQWobGgEfmHFlhyX4jLkfc3R8NJGOvlC/7N0RH4t4BvG+tU2kzudmD4\n",
       "8/8DNoZoJA7ooA4AAAAASUVORK5CYII=\n",
       "\" style=\"display:inline;vertical-align:middle;\" /></a><br>(see <a class=\"ProveItLink\" href=\"../../../__pv_it/theorems/75d1dd94fecf0e0694d8a373ac1716825d4e29e40/dependencies.ipynb\">dependencies</a>)<br>"
      ],
      "text/plain": [
       "rightward_commutation: forall_{l, m, n in Natural} [forall_{A_{1}, ..A_{_a}.., A_{l}, B, C_{1}, ..C_{_a}.., C_{m}, D_{1}, ..D_{_a}.., D_{n} in BOOLEAN} ((A_{1} and ..A_{_a}.. and A_{l} and B and C_{1} and ..C_{_a}.. and C_{m} and D_{1} and ..D_{_a}.. and D_{n}) =  \\\\ (A_{1} and ..A_{_a}.. and A_{l} and C_{1} and ..C_{_a}.. and C_{m} and B and D_{1} and ..D_{_a}.. and D_{n}))]"
      ]
     },
     "execution_count": 2,
     "metadata": {},
     "output_type": "execute_result"
    }
   ],
   "source": [
    "%proving rightward_commutation"
   ]
  },
  {
   "cell_type": "code",
   "execution_count": null,
   "metadata": {},
   "outputs": [],
   "source": []
  }
 ],
 "metadata": {
  "kernelspec": {
   "display_name": "Python 3",
   "language": "python",
   "name": "python3"
  }
 },
 "nbformat": 4,
 "nbformat_minor": 0
}