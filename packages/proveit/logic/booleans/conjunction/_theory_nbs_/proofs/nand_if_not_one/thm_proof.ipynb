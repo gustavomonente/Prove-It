{
 "cells": [
  {
   "cell_type": "markdown",
   "metadata": {},
   "source": [
    "Proof of <a class=\"ProveItLink\" href=\"../../../../../../_theory_nbs_/theory.ipynb\">proveit</a>.<a class=\"ProveItLink\" href=\"../../../../../_theory_nbs_/theory.ipynb\">logic</a>.<a class=\"ProveItLink\" href=\"../../../../_theory_nbs_/theory.ipynb\">booleans</a>.<a class=\"ProveItLink\" href=\"../../theory.ipynb\">conjunction</a>.<a class=\"ProveItLink\" href=\"../../theorems.ipynb#nand_if_not_one\">nand_if_not_one</a> theorem\n",
    "========"
   ]
  },
  {
   "cell_type": "code",
   "execution_count": 1,
   "metadata": {},
   "outputs": [],
   "source": [
    "import proveit\n",
    "theory = proveit.Theory() # the theorem's theory"
   ]
  },
  {
   "cell_type": "code",
   "execution_count": 2,
   "metadata": {},
   "outputs": [
    {
     "data": {
      "text/html": [
       "Under these <a href=\"presumptions.txt\">presumptions</a>, we begin our proof of<br><strong id=\"nand_if_not_one\">nand_if_not_one:</strong> <a class=\"ProveItLink\" href=\"../../../__pv_it/theorems/4c90c880f1123e173cc4251dfcadda1f5c36dc4f0/expr.ipynb\"><img src=\"data:image/png;base64,iVBORw0KGgoAAAANSUhEUgAAAqAAAAAZBAMAAAAcSIFiAAAAMFBMVEX///8QEBCIiIhmZma6urrM\n",
       "zMxUVFQiIiJERETc3Nzu7u6qqqp2dnaYmJgyMjIAAAAcRTyBAAAAAXRSTlMAQObYZgAABwpJREFU\n",
       "aN7tWV1sVEUUPr27t7v3r+VFoyBaNIFihK6pFoLFLvqAMTG0NSE8ENm0oISEsIqh2ICtxrQLmHTV\n",
       "pDYodBEToIhu0jRiomEFf7CIrkgM/qCrPMELTUuhgAXn786du3e23X1wA4RJ5t45Z898e+ebM2fO\n",
       "3AuQX3mhJQ63y2TF37IpX9PobbbyKt03NKE7cgo3WvmMVURoBt9O50FoGb5Z6SI+pd7uFdRMYRjP\n",
       "5dD/cr25JhbOUn7QUZN+v4Dnq2xeq6VIszROKyL0GJbP5UGomUS3skQRCS2Le4WyIUGXI6xrQvt8\n",
       "1m+8y10AvlG3TpkO0D9dCiOFmJEG42HqYXqGVkRoD+7angehxKinmOvoZ4nw5xVBdybHRIR40zqf\n",
       "5QF2F3UcbSEjLp3eiWx9l2UwUoi9rehSx+g9zGo38TnifJPGUOzGx4pJ6CteQe93Bgxqp3y9LGvl\n",
       "zf11bi/mXRSEYw27dGVT8T49RQYjhfgb3xcx7S5Wu8Ea7Ot7N69N6Y++vn3F3Ju0qFewlAuOrvSJ\n",
       "CmnHlffzZrrKHSd5lyAiblerS1eH3UoNyWBkEL6r+Pqs7c5hWtEuPxaLbcqL0PJYrDNVREKVkFd4\n",
       "2hh3dB/Lcw89E+B5YeKQexflXcojoG5IiDrtEukcl8BIIXrJbR/TmiFaEaGrALbkRWhpPQSLmd0H\n",
       "0x5BD6vDju6YPAKZSR7CPoQVbifmXVasPdGZdOnM4ZwwUogfXchWhlZE6JN0e5qcUH8IzQ4ZnJxW\n",
       "17Q8NXJkNTU71Zya7TW2OmoVDuMXDxtdtTUUKYDGM68FlU1MwIYa3kiW2c+0U/YcAdDsAYWhN5Q1\n",
       "DNalKg76nS5dYNSOnR4YKURbvag1orR2446KPLlU138FMyJCYh+FOaT9V1hmbl1wSVPAJPF9ZwXs\n",
       "neKNj/+A/prjfuJPPwF8SRolYeH0QYWl1TVjKG7No39RgReNt5wgq46MoLl6nSuBcbrgP69KiroS\n",
       "kj/oNroAA1KI+0jAsLdFdYhW9KxmWhYr9h9ZCAfNhC8hEHqcRg+9TjoBu8dFyRcBAz+hhmi2vFlZ\n",
       "L+LnlJzQGoBDiRyEosu96LaYulAC1IjkQdBWs5R7fonLy5wuFzGhFaIuQDLcARtdgAEpRBtxzHov\n",
       "oVpG0s/atj0BX1SETPHouZMimXukCdrgetf/VoAPjyWAtjHVuxnjVdwoJ/QlgMf5kueEEsFA9UVO\n",
       "aD+qZ73PYYT4KQD1CbhWB++C01BYFxZ1NANN2egCDEghSELG+fFHacXPumUlInBh4wPKTEw3buHA\n",
       "imdr4G0XocFu8gSNQdk5QK2IieIn9TAX+1kVuuiedFHBztsnJVQfBeWce1PqtoX32NGHDvksG57k\n",
       "fGWQKdeS5GTljM3pgtNQdcwFo+FNyUzY6A6Mu3CIXuwmg4wvcVOCfkSWtShdskbBDohbcXrCHzAP\n",
       "LBcJNWh0ifiQsMaTnsE8UVwyp5K480YqZpkH3FMiEuofPtHhZCJ0rphActGuOBuy2k4XIJo8fO67\n",
       "xhp0TyEZJk6vg5eFsTldypDjLtrqhkEZlrGATxeH4ejk4pjjBK4/wfgCX4pWTGg5onr7LCgPYwVp\n",
       "JfQQjSepI663TSSxsJLKECyfmk3o71Alij8AzML3f4mUbV6ekhB6NBaLZcDMgBLlqwiEJaV3XUvA\n",
       "wevr2ZBL8XJRsJsEMFkb7MZK/CPOyfdePwdG16WQMzbepfT8xerV28ANo89//hHghHIYjk4ujjns\n",
       "7mgOM77QDNXTigm1MN9N0MCCVhM6TqkbY7HXEaE7Ai5CfyOJbe3RK8wFxJV65vsucWW/idZEkgXL\n",
       "Ax5zHFn1tMRDIxBMgXY159GTlsVOruXd5sO2U/PCxybr4tUtzgGTw7yJHD/3sMrfh94BldCr0lat\n",
       "ChHqof5G7/vQBaCNeglF6UBvvfXY6Uc/p3+GOFmCo/Z8GuizzH3tOJ4j85SH0PIk+C/nfjkiDDnv\n",
       "4owtr1IwOuJLeDnC8sIhxPQpE3oSqPXyAHyNlSfR+d1DqB851jhhCNlutS/wDFrHaWMuTDOQh20F\n",
       "7Qpo9+BGIA0fxb3mm0H/DoxKBisS2puAt1hAcB0gROHTwt4JsLHlWwpGR3wJr+8YTRG0fXUPQkMS\n",
       "tR5KQxCtEP+rYbTVZBPa1Q49l9KYoYakejc0xPElGRwDrWszrNKjvjCo0+DbkerVpAHf1D5Io7to\n",
       "DmbzYRQgVqntWYTGzbbqmjcmeMGMyzttTYUM2R5bnqVwdMxXnE255xOInftVohg60SeQVsHWaUWN\n",
       "UMCg+SJN5iYxV05689Cb8hPIr6x6CDXiuc/yYmkcSQq2dkuPKOHS2ezriv2pZSJz4/iEhN6EJZtQ\n",
       "C/Ij1G2b3SvtaUxofisTmrO0/J/f5X23Cp3+lg3/AWMvHAWiJ+X1AAAAAElFTkSuQmCC\n",
       "\" style=\"display:inline;vertical-align:middle;\" /></a><br>(see <a class=\"ProveItLink\" href=\"../../../__pv_it/theorems/ef4823649ae9dfaa2b68a72ce61dd51358dc04de0/dependencies.ipynb\">dependencies</a>)<br>"
      ],
      "text/plain": [
       "nand_if_not_one: forall_{m, n in Natural} [forall_{A_{1}, ..A_{_a}.., A_{m}, B, C_{1}, ..C_{_a}.., C_{n} | [not](B)} [not](A_{1} and ..A_{_a}.. and A_{m} and B and C_{1} and ..C_{_a}.. and C_{n})]"
      ]
     },
     "execution_count": 2,
     "metadata": {},
     "output_type": "execute_result"
    }
   ],
   "source": [
    "%proving nand_if_not_one"
   ]
  },
  {
   "cell_type": "code",
   "execution_count": null,
   "metadata": {},
   "outputs": [],
   "source": []
  }
 ],
 "metadata": {
  "kernelspec": {
   "display_name": "Python 3",
   "language": "python",
   "name": "python3"
  }
 },
 "nbformat": 4,
 "nbformat_minor": 0
}