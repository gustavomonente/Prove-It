{
 "cells": [
  {
   "cell_type": "markdown",
   "metadata": {},
   "source": [
    "Proof of <a class=\"ProveItLink\" href=\"../../../../../../_theory_nbs_/theory.ipynb\">proveit</a>.<a class=\"ProveItLink\" href=\"../../../../../_theory_nbs_/theory.ipynb\">logic</a>.<a class=\"ProveItLink\" href=\"../../../../_theory_nbs_/theory.ipynb\">booleans</a>.<a class=\"ProveItLink\" href=\"../../theory.ipynb\">conjunction</a>.<a class=\"ProveItLink\" href=\"../../theorems.ipynb#closure\">closure</a> theorem\n",
    "========"
   ]
  },
  {
   "cell_type": "code",
   "execution_count": 1,
   "metadata": {},
   "outputs": [],
   "source": [
    "import proveit\n",
    "theory = proveit.Theory() # the theorem's theory"
   ]
  },
  {
   "cell_type": "code",
   "execution_count": 2,
   "metadata": {},
   "outputs": [
    {
     "data": {
      "text/html": [
       "Under these <a href=\"presumptions.txt\">presumptions</a>, we begin our proof of<br><strong id=\"closure\">closure:</strong> <a class=\"ProveItLink\" href=\"../../../__pv_it/theorems/e05d687c541154b20d69e190112606e0e4828cfb0/expr.ipynb\"><img src=\"data:image/png;base64,iVBORw0KGgoAAAANSUhEUgAAAX4AAAAVBAMAAACzsJjiAAAAMFBMVEX///8QEBCIiIhmZma6urrM\n",
       "zMxUVFQiIiJERETc3Nzu7u6qqqp2dnaYmJgyMjIAAAAcRTyBAAAAAXRSTlMAQObYZgAABQVJREFU\n",
       "SMfFl11sU1UcwP+77W17v7o9KPEjkpsRAU2EJo2Q4BaKREmMS7o9wIwEGh0PEhNrhswoamNMdoFo\n",
       "+yI0GFkVI1jibLIQJZLYsJloN5IGJZkKszp8YA8wZcogAfyfj3vvaXs7pcR4knPvv+eec8+v/89z\n",
       "ARZs0sU4NN+UMuu31457D2sZgKkdUCHyuUZr9ViY3IzmII7wjm3Lra2UK64cyFQ/W3ZX+pedMYDn\n",
       "UB6DcTI005hfL+AtnGuK/wLv2C6J45kG5nLF8Kwrq5WaeZUedU8nwDDlz5KFqcb89Fm2KXwjwjoR\n",
       "L4kamPaeH4444tQ1YfxkzbxUF9wfQjaT8BPVUh034Ke2GW+KP5hhHdvRtYLO5UFvc/a+4qh85Kow\n",
       "/gG/Tw4MVDj/l8ivthF+o5TP74cF+M/m858km+Lfzzu28sqY4NCPmp7z+9ody0lzol3Y2t4HXf2P\n",
       "kbA6T/hh3rJ2LcTfalmDxab4l/AO4M99JWSAYfDUh1oJ2uIT2nURgvqVOuP6j/+lbXgfpfwo7V6I\n",
       "PxCHEDV+yDvsGi9+m3eAj2ArqlzmYTbu7Y96wfZjNSb/IcZRpToNpda98TsxyRTlX18X4Js6YtIi\n",
       "h98foZEO8HPMM0jnqn/+Ot1vR9OrvAPEYCgCcpSrPQkHPcMFFA7iB+WymOnpupAYv6fO4v1zyh8E\n",
       "SbCteiJa1lIlWOPw43YP0SdrPYvAIcHSR0c7wSy+f4z/vIN3kJ+NvoC69zN+wyQ2rW+nqS+QtjG6\n",
       "al4sBjSZdl/EZsdvyI8wWym/Xg4KcyeP50E77YOiy3+Kuat+OOLFX+p3db/3QA5MU/+0lt8P0FJx\n",
       "+IM5kBMeb8LssxG4uWBxHX9W1H8IEja/UsFVRmfPEmlpnDgL2uvpp0yB/yDbrSfkVSVk03Lk9eRi\n",
       "ml3f1voPOlSwzeEfcata1XkAtw5TH9ewvwjw3Zn2SDuxCFvXIvIHyLlhA+WH3X3Iv67csl1KAD0t\n",
       "aPHSGYE/tI86fsKHr9leu2sAVrt1kfJHF8dr4lcpsILK+S/w/1BbvTLsPwC8x+r19/fBotxSJ359\n",
       "pqh/o2jHL4zgaw8sg9aYrwiHGL+uR1x+jRIaBWkWNt9Tu+tPsNIJnQjTv+9dPjDKO6kBoas2P81C\n",
       "6EOg3kDhs4p96eU+BAqZls4oHyZhDjoIedExJ9PTZphYhfcOxt9K/tgz0A3BAmyyLMvU4ko56fID\n",
       "zWXDHd9cY++vytnTE2m7mMovW9abxP8lPrCB9SM3Z0BLX4lw/gB5pUT23En+SMK+9JGHWMHU9I0c\n",
       "fHGzHwKm3Eahw8ygH7+Vqzq/wW+M3yDDd8JyGJLRHaj+4TFT4P+RSGtA+bOe35eDobjxyLmHT+Ae\n",
       "CaZ/3Vd/fmBpMcmDGVt9AqJOKgsDLXEppczixMN84MnBATHTq0nGT49+s2iBSR108l4jBobg/2xv\n",
       "zFfXKX82p+yxL9CF5itrK+BeDRd8TfmL+kT9+U3I4/+6DaEFjFSx/vxm1zvT5fcnMKz2lQD2Epuf\n",
       "57oU+NMpyF4pE/7ugnw3dGfIpRCaByX9GmxTkz4S6Binxq7pd8piaXbLs7L6L/NW+B/HkFaez9Wf\n",
       "n51jiMvvfnCh/1efH2pzNLiHVVtKapEgSXrL0f8bfL/cRmtwbqGaGfuHtdLrVY7ac7lAv9vcLzjq\n",
       "iAkpFnjgP/t+/KHB1wXuvmJHE18lHtL/1/4GYexcmcZHeGIAAAAASUVORK5CYII=\n",
       "\" style=\"display:inline;vertical-align:middle;\" /></a><br>(see <a class=\"ProveItLink\" href=\"../../../__pv_it/theorems/5875d45203a3add01fa0082f355f31842e5a3ae20/dependencies.ipynb\">dependencies</a>)<br>"
      ],
      "text/plain": [
       "closure: forall_{m in Natural} [forall_{A_{1}, ..A_{_a}.., A_{m} in BOOLEAN} ((A_{1} and ..A_{_a}.. and A_{m}) in BOOLEAN)]"
      ]
     },
     "execution_count": 2,
     "metadata": {},
     "output_type": "execute_result"
    }
   ],
   "source": [
    "%proving closure"
   ]
  },
  {
   "cell_type": "code",
   "execution_count": null,
   "metadata": {},
   "outputs": [],
   "source": []
  }
 ],
 "metadata": {
  "kernelspec": {
   "display_name": "Python 3",
   "language": "python",
   "name": "python3"
  }
 },
 "nbformat": 4,
 "nbformat_minor": 0
}