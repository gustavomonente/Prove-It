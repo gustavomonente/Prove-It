{
 "cells": [
  {
   "cell_type": "markdown",
   "metadata": {},
   "source": [
    "Proof of <a class=\"ProveItLink\" href=\"../../../../../../_theory_nbs_/theory.ipynb\">proveit</a>.<a class=\"ProveItLink\" href=\"../../../../../_theory_nbs_/theory.ipynb\">logic</a>.<a class=\"ProveItLink\" href=\"../../../../_theory_nbs_/theory.ipynb\">booleans</a>.<a class=\"ProveItLink\" href=\"../../theory.ipynb\">conjunction</a>.<a class=\"ProveItLink\" href=\"../../theorems.ipynb#true_and_false_negated\">true_and_false_negated</a> theorem\n",
    "========"
   ]
  },
  {
   "cell_type": "code",
   "execution_count": 1,
   "metadata": {},
   "outputs": [],
   "source": [
    "import proveit\n",
    "from proveit.logic.booleans.conjunction  import and_t_f\n",
    "theory = proveit.Theory() # the theorem's theory"
   ]
  },
  {
   "cell_type": "code",
   "execution_count": 2,
   "metadata": {},
   "outputs": [
    {
     "name": "stdout",
     "output_type": "stream",
     "text": [
      "true_and_false_negated has been proven.  Now simply execute \"%qed\".\n"
     ]
    },
    {
     "data": {
      "text/html": [
       "Under these <a href=\"presumptions.txt\">presumptions</a>, we begin our proof of<br><strong id=\"true_and_false_negated\">true_and_false_negated:</strong> <a class=\"ProveItLink\" href=\"../../../__pv_it/theorems/26498b0c236507046b6b25e7ca069c074dc7f5710/expr.ipynb\"><img src=\"data:image/png;base64,iVBORw0KGgoAAAANSUhEUgAAAFYAAAAUBAMAAADl6NejAAAAMFBMVEX///+6uroQEBCqqqqIiIgy\n",
       "MjJERETu7u6YmJjMzMxUVFTc3Nx2dnYiIiJmZmYAAAAutVgsAAAAAXRSTlMAQObYZgAAAPdJREFU\n",
       "KM9jYECAHQx4APMGZB57AsPbuyBwC00ZpwGIXI0sxArWaQLjciOMdACRpchq+xhQ1LI+QFXL44Ck\n",
       "9jaq2mnXUdWyKyCUcl9AVbvQBVUtQyBCLcsDFLXsAbxoas8h1LI1oKjlMeAxQFXbCgmmO0AmrwGK\n",
       "Wl4G7gBUtbYQ3i4gZhJAUdvCwLASVe18nGqBoTALp1pUNzA/gEUOXK0sQi2q30DqmB+g+Q0S4yCP\n",
       "o4TZNKg7kNS+QYQZIyQuJKAxASJAscF39+4l3bt3FzAwRGLEMRQIwKxDJMMLGGkHJ0BJO2wb8Kot\n",
       "RUvr+EA2Cg9vHuLYwAAAxXE7tI62KFkAAAAASUVORK5CYII=\n",
       "\" style=\"display:inline;vertical-align:middle;\" /></a><br>(see <a class=\"ProveItLink\" href=\"../../../__pv_it/theorems/da381b524bbcea672364e3e67d87a961648d02ef0/dependencies.ipynb\">dependencies</a>)<br>"
      ],
      "text/plain": [
       "true_and_false_negated: not(TRUE and FALSE)"
      ]
     },
     "execution_count": 2,
     "metadata": {},
     "output_type": "execute_result"
    }
   ],
   "source": [
    "%proving true_and_false_negated"
   ]
  },
  {
   "cell_type": "code",
   "execution_count": 3,
   "metadata": {},
   "outputs": [
    {
     "data": {
      "text/html": [
       "<table><tr><th>&nbsp;</th><th>step type</th><th>requirements</th><th>statement</th></tr>\n",
       "<tr><td><a name=\"0x23d4e9cb236a3b13_step0\">0</a></td><td>instantiation</td><td><a href=\"#0x23d4e9cb236a3b13_step1\">1</a>, <a href=\"#0x23d4e9cb236a3b13_step2\">2</a></td><td><span style=\"font-size:20px;\"> <a class=\"ProveItLink\" href=\"../../../__pv_it/_proof_true_and_false_negated/663c9fc9ccbb0eab980a23b149666b2b209fadc40/proof.ipynb\" style=\"text-decoration: none\">&nbsp;&#x22A2;&nbsp;&nbsp;</a><a class=\"ProveItLink\" href=\"../../../__pv_it/theorems/26498b0c236507046b6b25e7ca069c074dc7f5710/expr.ipynb\"><img src=\"data:image/png;base64,iVBORw0KGgoAAAANSUhEUgAAAFYAAAAUBAMAAADl6NejAAAAMFBMVEX///+6uroQEBCqqqqIiIgy\n",
       "MjJERETu7u6YmJjMzMxUVFTc3Nx2dnYiIiJmZmYAAAAutVgsAAAAAXRSTlMAQObYZgAAAPdJREFU\n",
       "KM9jYECAHQx4APMGZB57AsPbuyBwC00ZpwGIXI0sxArWaQLjciOMdACRpchq+xhQ1LI+QFXL44Ck\n",
       "9jaq2mnXUdWyKyCUcl9AVbvQBVUtQyBCLcsDFLXsAbxoas8h1LI1oKjlMeAxQFXbCgmmO0AmrwGK\n",
       "Wl4G7gBUtbYQ3i4gZhJAUdvCwLASVe18nGqBoTALp1pUNzA/gEUOXK0sQi2q30DqmB+g+Q0S4yCP\n",
       "o4TZNKg7kNS+QYQZIyQuJKAxASJAscF39+4l3bt3FzAwRGLEMRQIwKxDJMMLGGkHJ0BJO2wb8Kot\n",
       "RUvr+EA2Cg9vHuLYwAAAxXE7tI62KFkAAAAASUVORK5CYII=\n",
       "\" style=\"display:inline;vertical-align:middle;\" /></a></span></td></tr>\n",
       "<tr><td>&nbsp;</td><td colspan=4 style=\"text-align:left\"><span style=\"font-size:20px;\"><a class=\"ProveItLink\" href=\"../../../../../../__pv_it/common/e4aad701f7f5516d8e7f0d805d518bf02c13322a0/expr.ipynb\"><img src=\"data:image/png;base64,iVBORw0KGgoAAAANSUhEUgAAAA8AAAAOBAMAAAACpFvcAAAALVBMVEX///8iIiIQEBBERERUVFS6\n",
       "urqIiIjc3NxmZmaqqqru7u6YmJgyMjLMzMwAAACK9jtgAAAAAXRSTlMAQObYZgAAAFtJREFUCNdj\n",
       "YACBOwxQcA5Kc59bAGGs7CuAMDbkBYBp1gXzNoAZSxnuJYAZAQx1DSCa16PDzwCshIGB6QCIMYGB\n",
       "gVEBSLMDGTwPgIxCIGZ+zsCw+N0pBk67hw0AfpEVEQi8t+wAAAAASUVORK5CYII=\n",
       "\" style=\"display:inline;vertical-align:middle;\" /></a> : <a class=\"ProveItLink\" href=\"../../../__pv_it/axioms/f67a93e42ec9a83f700a5aeba8862f998eb0d47f0/expr.ipynb\"><img src=\"data:image/png;base64,iVBORw0KGgoAAAANSUhEUgAAADUAAAAPBAMAAAC2KZqIAAAAMFBMVEX///8QEBB2dnbu7u5ERETM\n",
       "zMwyMjLc3NyYmJi6urqIiIiqqqpUVFQiIiJmZmYAAAB/Rz/cAAAAAXRSTlMAQObYZgAAAHRJREFU\n",
       "GNNjeHsXBO4woALWDVDGLrhQAYzBvQBDLg+3HKuvAU45nlkLcMqZMVzAKacNhLjkLjCU4ZLjWMDA\n",
       "E4BDjteAgfUADrl9QJyOQy4dKo9FjtUBYi6K3AyozycACS6gIN/duxdl7949gBT2nGAyACEAAOdJ\n",
       "KQ0q7GpoAAAAAElFTkSuQmCC\n",
       "\" style=\"display:inline;vertical-align:middle;\" /></a></span></td></tr><tr><td><a name=\"0x23d4e9cb236a3b13_step1\">1</a></td><td>theorem</td><td></td><td><span style=\"font-size:20px;\"> <a class=\"ProveItLink\" href=\"../../../../negation/_theory_nbs_/proofs/negation_intro/thm_proof.ipynb\" style=\"text-decoration: none\">&nbsp;&#x22A2;&nbsp;&nbsp;</a><a class=\"ProveItLink\" href=\"../../../../negation/__pv_it/theorems/d964347b76a39b507e2d3a50dc4a021ab379e3fb0/expr.ipynb\"><img src=\"data:image/png;base64,iVBORw0KGgoAAAANSUhEUgAAAIUAAAAWBAMAAAAcBkLiAAAAMFBMVEX///8QEBCIiIhmZma6urrM\n",
       "zMxUVFQiIiJERETc3Nzu7u6qqqp2dnaYmJgyMjIAAAAcRTyBAAAAAXRSTlMAQObYZgAAAchJREFU\n",
       "OMtjYCANzEUX2AnED0CMu8QawdWAzGMFamabwMBwGsR5RawZfBNQeB+ApgLNmQFkczYQa8ZlFN69\n",
       "X0DiENCsBQwMPBuINaMSxWObfwLJhQwMvKdWrZpOrBGcBcg8XqYvIA85MDD86OioIdYMJgNknhf3\n",
       "XyDJAxRLZWDoBAtBSBaYCo4JmGZwXED2igPrJ5BrgIHqDA5aIPsLRBlMyX0HhPIEKM0ODDjzciCo\n",
       "AdvG+RlIcQP9x87ABDZ98V8UM7jskeyExRsjzNxpQBxmbPYDlEiAEcxzgR0sfKoYxQye5QYEzACy\n",
       "5aBmcD4IA6c5hQ4UM4I4GjDNYN+AMIMbSBWCvASKq84UkCgbgzmKGQnMBQwZHUBwAckMeJgCzZgN\n",
       "pN5Dw5RhMzjSbzPoI5vBu4HpA6Y7eGD+Y4UklX5g3DEfADL4FUBB+PhM/wIkM9bZnPiFaQYLPI1x\n",
       "9f9bwLDjPzAM+QJAVoL0Mi9gmB+AZIYVA+dXhrx3QIDsF9S0DgHL4SxfoHsuIMxgAbL/YroDLc+B\n",
       "wSF4AvzBwNlfizCjv4FhxndoAPJ0dEh09OBKvJAEipacSSiDcGYJEsvCmwwkm0EUYCZdCwB363LP\n",
       "gacX1AAAAABJRU5ErkJggg==\n",
       "\" style=\"display:inline;vertical-align:middle;\" /></a></span></td></tr>\n",
       "<tr><td>&nbsp;</td><td colspan=4 style-\"text-align:left\"><a class=\"ProveItLink\" href=\"../../../../negation/_theory_nbs_/proofs/negation_intro/thm_proof.ipynb\">proveit.logic.booleans.negation.negation_intro</a></td></tr><tr><td><a name=\"0x23d4e9cb236a3b13_step2\">2</a></td><td>axiom</td><td></td><td><span style=\"font-size:20px;\"> <a class=\"ProveItLink\" href=\"../../axioms.ipynb#and_t_f\" style=\"text-decoration: none\">&nbsp;&#x22A2;&nbsp;&nbsp;</a><a class=\"ProveItLink\" href=\"../../../__pv_it/axioms/8c9c98798203d32da2638117b24b1adf07a857270/expr.ipynb\"><img src=\"data:image/png;base64,iVBORw0KGgoAAAANSUhEUgAAAHAAAAAUBAMAAACnq6Q0AAAAMFBMVEX////MzMxUVFR2dna6uroQ\n",
       "EBCqqqqIiIgiIiJmZmYyMjJERETu7u6YmJjc3NwAAACgK8IjAAAAAXRSTlMAQObYZgAAAQhJREFU\n",
       "OMtjYOC7wIAH5OGWOs3A2QEGCmgSYiCC6QEWLWAZhnUggq0AJsgHl04HETwLsGgEy/BOQNXINQFF\n",
       "msEcl0aOB6gapXtQNR7FpfEFA6pGlXJUjVwOODRWomrkWcCBqpF5Ag6Ne1E1MicwJ6Bo5AWHjtUq\n",
       "EFiJLNOGqpGDgW8Bika2Bhw2hqBqvM7AoIiikfEDcRqBYSpEnEZUp7IBg4LrAbJGlgaEHxfhDhyQ\n",
       "JrYJmIGDxUZLFI3SUOciNHIa4NDoAXEQNIuogAhQEpjR0RHa0dEEdIMAmi6YDAdK8gcnE0ZkkRO4\n",
       "chXvBAa8wBynzD68+rBmK1hGxge4H+CUwl903MMlAQBm6kX4QLZagwAAAABJRU5ErkJggg==\n",
       "\" style=\"display:inline;vertical-align:middle;\" /></a></span></td></tr>\n",
       "<tr><td>&nbsp;</td><td colspan=4 style-\"text-align:left\"><a class=\"ProveItLink\" href=\"../../axioms.ipynb#and_t_f\">proveit.logic.booleans.conjunction.and_t_f</a></td></tr></table>"
      ],
      "text/plain": [
       "\tstep type\trequirements\tstatement\n",
       "0\tinstantiation\t1, 2\t|- not(TRUE and FALSE)\n",
       "\tA : TRUE and FALSE\n",
       "1\ttheorem\t\t|- forall_{A | A = FALSE} not(A)\n",
       "\tproveit.logic.booleans.negation.negation_intro\n",
       "2\taxiom\t\t|- (TRUE and FALSE) = FALSE\n",
       "\tproveit.logic.booleans.conjunction.and_t_f"
      ]
     },
     "execution_count": 3,
     "metadata": {},
     "output_type": "execute_result"
    }
   ],
   "source": [
    "%qed"
   ]
  },
  {
   "cell_type": "code",
   "execution_count": null,
   "metadata": {},
   "outputs": [],
   "source": []
  }
 ],
 "metadata": {
  "kernelspec": {
   "display_name": "Python 3",
   "language": "python",
   "name": "python3"
  }
 },
 "nbformat": 4,
 "nbformat_minor": 0
}