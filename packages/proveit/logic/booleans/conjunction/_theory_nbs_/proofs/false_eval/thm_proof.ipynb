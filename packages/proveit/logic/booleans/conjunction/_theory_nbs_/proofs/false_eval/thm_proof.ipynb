{
 "cells": [
  {
   "cell_type": "markdown",
   "metadata": {},
   "source": [
    "Proof of <a class=\"ProveItLink\" href=\"../../../../../../_theory_nbs_/theory.ipynb\">proveit</a>.<a class=\"ProveItLink\" href=\"../../../../../_theory_nbs_/theory.ipynb\">logic</a>.<a class=\"ProveItLink\" href=\"../../../../_theory_nbs_/theory.ipynb\">booleans</a>.<a class=\"ProveItLink\" href=\"../../theory.ipynb\">conjunction</a>.<a class=\"ProveItLink\" href=\"../../theorems.ipynb#false_eval\">false_eval</a> theorem\n",
    "========"
   ]
  },
  {
   "cell_type": "code",
   "execution_count": 1,
   "metadata": {},
   "outputs": [],
   "source": [
    "import proveit\n",
    "theory = proveit.Theory() # the theorem's theory"
   ]
  },
  {
   "cell_type": "code",
   "execution_count": 2,
   "metadata": {},
   "outputs": [
    {
     "data": {
      "text/html": [
       "Under these <a href=\"presumptions.txt\">presumptions</a>, we begin our proof of<br><strong id=\"false_eval\">false_eval:</strong> <a class=\"ProveItLink\" href=\"../../../__pv_it/theorems/ae78990349903fca4298a0d338cac85b46ad2fa70/expr.ipynb\"><img src=\"data:image/png;base64,iVBORw0KGgoAAAANSUhEUgAAApEAAAAWBAMAAABqL9qxAAAAMFBMVEX///8QEBCIiIhmZma6urrM\n",
       "zMxUVFQiIiJERETc3Nzu7u6qqqp2dnaYmJgyMjIAAAAcRTyBAAAAAXRSTlMAQObYZgAABllJREFU\n",
       "WMPdmX+IFFUcwL/O7ezu7MycBhWUVKuCaaSuHHWWJ44FBUGwd4EJSR2e/iNFG0YnVnr0R65J3NIf\n",
       "ehh5a0bqmbbccaCgtGRFnGZDGlmediElCemRlj/yR9/3Y2bezLy5m4sWrAdv5u33+53vzHzee9/3\n",
       "fbMAsYpyNg+1LZrN6k1b9o6kMU9bMETaJ0ZzY1j15GTW7lW384rl2bFdqQ5FaZ4JizLT2l7QqrF9\n",
       "C+bJUtQdiMaw4CBpnxmdpFHBU325ZiR/5RXLOXGoRg1hr1k/HKXqdVsuhUk26LPt2N4F84ysw3od\n",
       "DZLsIhd2jE6S2nTVDKSZY5U0zwn9VZ+T2wvyk1eiVB7JU87IX4WH+aW43n3mn0aRJBokSYYZHW+j\n",
       "kKTj9mDNSKZKrGLZOV+YR4tWye09eabvcpTKJamu5Z3zEzkviO3dZ74lkuQWCsgc6OnZCDFIDvb0\n",
       "7CjUjORGXrHYsyxPvnSy3N6Tm8qFKJVLMvlIlp7r/iLHp+J695vXW1EkUYOA4FKx+FockuOLxbXV\n",
       "mpGcwitAovyJt65lhlLylcCTP6Ffi1K5JHcDGwPd9LQjrne/uZGLIokaQnIZwLo4JJN5SJdqRvJt\n",
       "XgE+gOey3n0r8sjjyTOW+nuEyiN5kMelr7NRplK539ykS87hs6Sc8t0BNYTko/JVKUQykcOuJSWC\n",
       "p787jrVVp4dt5FJSXuUVwIJu7HyVLYIp0KQP58kToJ2PUHkkC7CZntfwrDim9zW+JFovRI1J1BCS\n",
       "KVDkWaK64jOY1OqSxMeZQds/WtLF1xetNmdh+4SQTUB6cmbjXKd9K6+gtjW82AFqA3vsb+icCRdP\n",
       "vrDhwUsRKpekmSUzCss9dOEpx/XOzR0ew1EkUUMAGbYsWOw8MA/2GOW6skfyKxZsMvOl4LeK0UpD\n",
       "rGYotRKlmX0NtmJox/NBkgmAcTggEuxdcQ1dKLubJ8cHuztC5ZJMlUGlQ2INHUH5uN4d85gktSGJ\n",
       "N3P9pjLsz+YMb3bDZvY0xjZpEjawQpweuDSp2dCkEaTH9vaAosCAHZzdGKBSExySOt6qXhJMPLmO\n",
       "9SW5yiPZ52T9NL8yYnt3zHkcKXhx8hcfyQSb3bBuKZKb1zJFmUrokxYJnlj6+98RSaY30Gndkpbl\n",
       "8Wq2KPyahUM5E9oPCdIE6Q1FSQyWAiuOVmGbFvbY5H10Scd58nfZnujIt5Nzk5cFL+kV9k99dDEm\n",
       "/TgQ2zs3Z0j4iiMbk3zFgT50ay6wxy1XyJgjrRLbjfcbuxYLJPVG2mytQ/vlQZdJaBR+rWSngNVK\n",
       "4WHpZ5G62T87ggO8kpwyfdl510V8rkHmOh4+HuINT64Rs84SHL0Lbi9P9ak8knR9SZEuJAlTXzm2\n",
       "d27OkEBdNYokaijJ8Uh+070w3qKmpFXO0J7qh+oBgSTQbMOsKMOw+M6gy+MwS/h1lR6DVleFqEpJ\n",
       "KvCQE4QeZ3X7jTOgd17M8XddSg40S36FwGjlDVee6bxehj03VmjvF+ACNPkuaWxvv6W9nZgnycMr\n",
       "NKxsfbPNcifqaN4dc4oEez/4Ocy9A2ooIJP01hJohhRNopbg9khdWSy+gSTfS4kkf6BJbtOXV9xO\n",
       "93LZU4c6hdlMUv1dISsuJeXpYrGYRZLVbHi3KAQlGk7U8FAIyZNZdQKLs5JLEvQochij9yV0x7gt\n",
       "MkfcxgHRchtMg26VtZpUaGVjMtEikqTlYdD+CJPENb47b8498cA++sBzsFZDVkx6ZP8gCQZsTFZz\n",
       "4S8YwrvGLuPySoc2HPsb6hi9UyTSLxggfMHgCcowgj9mQFcZWy/3w+dEeBRgMEgygYvtNcoITd9y\n",
       "DvAkBglbnwkT9SqgJGXDRyW/lSvt7cCBbpCXVgw4VBUT+3Ujp8EjlG4clWZH7M3s2LwzJNH7F/5V\n",
       "jQNqxQVuwwA0V7B1vw1pnOiJ1RYbOyLJzg7oumgTRs0V9Q5oLpFDJX0JtM7XYVmmUGeBOhHgi6b7\n",
       "WNR2rVxpMk8i+nqs3x2e85vsSy95+MY/s2N52cdwwdWej/v1dIzeOZLIrXK6JE5apzj70GkYJ8V/\n",
       "H1bng7krVEIXFfRcSmc5XthKd7diM/CuCsbJ/9a/D9+PpFFOB0nq8b5RtJyvCKZOK9OqWMnp3j8e\n",
       "fitH+iHsu5mB/Wufrv+JafAiW2r1f8f3Nzz6+WNy3Pq7AAAAAElFTkSuQmCC\n",
       "\" style=\"display:inline;vertical-align:middle;\" /></a><br>(see <a class=\"ProveItLink\" href=\"../../../__pv_it/theorems/c0b1a852611415f7fff24001aedf2eb78f1c83d60/dependencies.ipynb\">dependencies</a>)<br>"
      ],
      "text/plain": [
       "false_eval: forall_{m, n in Natural} [forall_{A_{1}, ..A_{_a}.., A_{m}, C_{1}, ..C_{_a}.., C_{n} in BOOLEAN} ((A_{1} and ..A_{_a}.. and A_{m} and FALSE and C_{1} and ..C_{_a}.. and C_{n}) = FALSE)]"
      ]
     },
     "execution_count": 2,
     "metadata": {},
     "output_type": "execute_result"
    }
   ],
   "source": [
    "%proving false_eval"
   ]
  },
  {
   "cell_type": "code",
   "execution_count": null,
   "metadata": {},
   "outputs": [],
   "source": []
  }
 ],
 "metadata": {
  "kernelspec": {
   "display_name": "Python 3",
   "language": "python",
   "name": "python3"
  }
 },
 "nbformat": 4,
 "nbformat_minor": 0
}