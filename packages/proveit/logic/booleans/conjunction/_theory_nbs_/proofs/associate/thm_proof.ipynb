{
 "cells": [
  {
   "cell_type": "markdown",
   "metadata": {},
   "source": [
    "Proof of <a class=\"ProveItLink\" href=\"../../../../../../_theory_nbs_/theory.ipynb\">proveit</a>.<a class=\"ProveItLink\" href=\"../../../../../_theory_nbs_/theory.ipynb\">logic</a>.<a class=\"ProveItLink\" href=\"../../../../_theory_nbs_/theory.ipynb\">booleans</a>.<a class=\"ProveItLink\" href=\"../../theory.ipynb\">conjunction</a>.<a class=\"ProveItLink\" href=\"../../theorems.ipynb#associate\">associate</a> theorem\n",
    "========"
   ]
  },
  {
   "cell_type": "code",
   "execution_count": 1,
   "metadata": {},
   "outputs": [],
   "source": [
    "import proveit\n",
    "theory = proveit.Theory() # the theorem's theory"
   ]
  },
  {
   "cell_type": "code",
   "execution_count": 2,
   "metadata": {},
   "outputs": [
    {
     "data": {
      "text/html": [
       "Under these <a href=\"presumptions.txt\">presumptions</a>, we begin our proof of<br><strong id=\"associate\">associate:</strong> <a class=\"ProveItLink\" href=\"../../../__pv_it/theorems/81440fef11c04b5278642788ada9149626895c530/expr.ipynb\"><img src=\"data:image/png;base64,iVBORw0KGgoAAAANSUhEUgAAA+wAAAAZBAMAAABZQLmMAAAAMFBMVEX///8QEBCIiIhmZma6urrM\n",
       "zMxUVFQiIiJERETc3Nzu7u6qqqp2dnaYmJgyMjIAAAAcRTyBAAAAAXRSTlMAQObYZgAACMRJREFU\n",
       "aN7tWmtsVNUWXj0zp/M60/LDNyaOV6PFiB1TBaNVBu8P758bpjUqicZOqEQkUSZqQFFsNQoVr+no\n",
       "TbjERDpEI7W+JpJGTTCO1if4GMEYVNDx9UP/QEAqBVH36+zX2afnTCTR67CTnrPO3t9Za3V9+7H2\n",
       "PgMQvty4ogTHyv9/ia64uxF48VjE/iZl3THafUqidtRUPf5HFaSO4iz7CqW9jm+7Q9Lehm/pWjPQ\n",
       "Pkpv1zf4mgGfHEQxWzbZteT+8Go+/a1/zlCOP97k0dnRf3OiGlqdBG8tEdq3YfnHkLQ7FXRrKzcD\n",
       "7T/Q2x65zmfQJSR5jxfdhoUWxP28fJAmUX8SQOQAr35ebz69Bqnza6Edk+DJOqF9PW4eDEk7Aa5v\n",
       "BtbTWXrbI/fxb83Ytqx4TcK76B340oeCviAbpInX20dQ5rWfVzsZtXl0JbrMK4V1TIG/QWjHY5cM\n",
       "4lBrO54WtjUD7TEapGek2IK9xjzPLVzJRQnP0XfiSyeq/yoTpInXW1OoC+0Tk/QMtflrfJ8f2jEF\n",
       "vpHQnt46Nva/0CndrrGxp5sis2MhqXWKBRZaL88YsTf8g4sS3kUnSLzuRdydWA7SxOvjiOeNojfB\n",
       "d0pz5DC+XhnWMRXeliOZ/MGhobtD094+NLSm2gy0n0F3uOXXpPz1efNeJlmP8R2xhHfRFplpJwGu\n",
       "WRqkSdS3F8BeLg3hCaV5hNyeDuuYCneyhPbFAA+Gpr01D/GmOLN5mFyfhD5pHG0zr29OhS+SMt5F\n",
       "x3FHsCd3d9wVqEnU9928fY288n6pNH+U8XnN7JgKT9cJ7f/EyV1yWTjao1mWVfqQzzvQv/ZPLPFC\n",
       "osPdc5Q+ll7dbXlhSm3UFYJMepSbPTGbhJ391VnSI+UoByNobNiD7v+/wZgGQKLORIJnsXTRsQpb\n",
       "qzcW0Go7rSZRj1KB5AlSw0tK8wDbEoR0bCCvHAIUCe0xsFB/vMKHavu2N+H0gjiuKcJsIn+VM+a/\n",
       "P3FpBjgzvICPAV6XdxjfQPJe775DqY27QpBJXbnZE7NJ2JCBUdnf48g/39+1bBDsLjqFpjN4svOW\n",
       "7WTGFHgaS45uybG12joMV86dVpOoxx52SsO9T2k+jUz/5bCOMbjL6F5Cu1OL8cVDK89MXAovO+VI\n",
       "WdD+AV1GkvOMZzZPHHGlSAFSh7yAOQCvSUvWCArJTg9IrXVpDzSpKzd7YjaZQJ0nPajTjiaaFjRe\n",
       "ojS6sTLYBYMHKPO6mk9MGD+hoAntaK0Ga587uvw0ifpJTHtGo503D5BRmw/rmAtXaE/Ur+Zrmdb5\n",
       "HnqsDK9mso6Y5GEDNeBsypo42Hob/w8yEKl7AbcCXCY94lyy1wNSa13aA03qys2emE3GUJ5qZ/RJ\n",
       "Hg232AxO+2ZxiKNMmll2IsPxDytoMsnjbXvrTy7tPppEPd62wzJpdrtCaSa7RCe0Yy6c9U06ycOD\n",
       "N6DLFKb50t4zrLPyTMKrPirj44/KtMfXEWd646YTHjsz5Iov5OE878hLHgBLOhG08Cgc00FarUt7\n",
       "oElNudkTs0noRIhkWUvpEoiwtr08uj+wCOtnIiUaYYGfUtAkpcPb9j53/vfTJOpxKmAflAj5Umke\n",
       "wR10a2jHGJyS6qZ0sBm9bON1LT2/1rLUKjCpRI/rx53nrpNoT9HVqRBBD0s9206YC4lVRFwwuwMp\n",
       "atWYj+7bvloeY5RIDRVT6XVpDzTJlOsQ6sn0JuEOXe8E27vHp9zokvwphrvHr8AuL+AILWTzKceT\n",
       "WHI02TDB10jLSWVGu2jDCoQmUd+GVMxfKxHSrTSn0GSwuWx2jKsUjjE4JRUiVUp7O+oMFn71sbOh\n",
       "PYdriVROki48DtUJiXYgR0fpirUXrjtFj9UX0AnwABE/BDgb7Ne16Dp1sKQtZjs5AtBR7VUT7cEm\n",
       "qXIPhHgSYBJ+0fUifkZ/+xFSwz9nWXRb8TRn4YGzHNglhhnBcyXgcxEXT2Ip0PjtW/CXlYo7WYs2\n",
       "ooBr4vWteya7ljwkE/K98ho8sbo/B2B0jKsUjjE4IRV1qTylPY3kONG2CHroUoSk+WDfMTR0H6L9\n",
       "8ZhM++fkfKD73UOsi8tT+LfvD5eB5sP/QXNLhfZNmcIqJA6rK2qypqNYrUZ7sEmmXIdQT6Y3SVb8\n",
       "5wyHs3w1dDeS3oyZLHq2/E9mVPSdoK3Rfpq89S4hyaKxuUHHFpED2k0gvre3XIWvx0MHjNhU6rah\n",
       "QEd7tFemnZSLIXHAG2CU8Y/k2WcdFP8FJU902ysQnYIdr+649i3ywiBJNTQUrU1fsrsq0x5skir3\n",
       "QIgnSNuFW/K+JuEi9FdFju3SPsVI0Q1daCxF2aHTHr64hDjmw9cGHSOksk8xjA8L1pcTe1GH2OlQ\n",
       "6fZxINR8ArBLpz2KxuIREmAEXete4N9ITy2NxtxaSByCxKkkuqIdIUbK8EgVXqy3VLbgd2EVJN/z\n",
       "okhtqoPZi2smFahrErhyBBEI7knqPJiZqvqYRJdYDZ4twYuDMe8pED3gaKCgWKpTXEk/dglbXEL4\n",
       "h1c9Vy82qA2Ryj68slHzJvRUogWUFK7bSqVzaxBH00v0nhxKmzTahwdh/c81zEFPxT4Zekr4Uokf\n",
       "hMTwqkgO7Jnwzv6uJTm6o5zJ2ks9FWega879+IR3E1yA3wWn/42yB8VqF7MzqLhmUoZyk8CVI4hA\n",
       "CE8WJ4sIZjaJJHi7+xzs2EIepFERrrmTmUbCi2KpLkQiRf3vwKJGNLmE+JyeN+gYI7UE6o+qKh6p\n",
       "A63t6uGsfhzgfSmWQr1QOn8QDxwbQ9uNYkV6NqKK1ifqKR1PTE0mhSMrZQSXiqkshplNprhjs/le\n",
       "+a/0o6r0UfwM8hmotIsfbPn9dEujvXd/xfCSM4v9XgvnE52XiAeBfQrOhEUl/mxGJQupDzy0Y5Ne\n",
       "KDbJlWMIR3ApWbByrbN8THLpKdjSFD8Yk2lPG6Rpafd/SYldzU9tOhRKHe2+ULMyqIUxCc3BtZn2\n",
       "4LLiT/mdfASOlaNboiuW/w5v9BsufmcZngAAAABJRU5ErkJggg==\n",
       "\" style=\"display:inline;vertical-align:middle;\" /></a><br>(see <a class=\"ProveItLink\" href=\"../../../__pv_it/theorems/a6e0473c4e4245776111a655c2d3333d071173eb0/dependencies.ipynb\">dependencies</a>)<br>"
      ],
      "text/plain": [
       "associate: forall_{l, m, n in Natural} [forall_{A_{1}, ..A_{_a}.., A_{l}, B_{1}, ..B_{_a}.., B_{m}, C_{1}, ..C_{_a}.., C_{n} | A_{1}, ..A_{_a}.., A_{l}, B_{1}, ..B_{_a}.., B_{m}, C_{1}, ..C_{_a}.., C_{n}} (A_{1} and ..A_{_a}.. and A_{l} and (B_{1} and ..B_{_a}.. and B_{m}) and C_{1} and ..C_{_a}.. and C_{n})]"
      ]
     },
     "execution_count": 2,
     "metadata": {},
     "output_type": "execute_result"
    }
   ],
   "source": [
    "%proving associate"
   ]
  },
  {
   "cell_type": "code",
   "execution_count": null,
   "metadata": {},
   "outputs": [],
   "source": []
  }
 ],
 "metadata": {
  "kernelspec": {
   "display_name": "Python 3",
   "language": "python",
   "name": "python3"
  }
 },
 "nbformat": 4,
 "nbformat_minor": 0
}