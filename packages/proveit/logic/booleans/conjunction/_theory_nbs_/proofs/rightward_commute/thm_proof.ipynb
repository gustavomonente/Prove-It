{
 "cells": [
  {
   "cell_type": "markdown",
   "metadata": {},
   "source": [
    "Proof of <a class=\"ProveItLink\" href=\"../../../../../../_theory_nbs_/theory.ipynb\">proveit</a>.<a class=\"ProveItLink\" href=\"../../../../../_theory_nbs_/theory.ipynb\">logic</a>.<a class=\"ProveItLink\" href=\"../../../../_theory_nbs_/theory.ipynb\">booleans</a>.<a class=\"ProveItLink\" href=\"../../theory.ipynb\">conjunction</a>.<a class=\"ProveItLink\" href=\"../../theorems.ipynb#rightward_commute\">rightward_commute</a> theorem\n",
    "========"
   ]
  },
  {
   "cell_type": "code",
   "execution_count": 1,
   "metadata": {},
   "outputs": [],
   "source": [
    "import proveit\n",
    "theory = proveit.Theory() # the theorem's theory"
   ]
  },
  {
   "cell_type": "code",
   "execution_count": 2,
   "metadata": {},
   "outputs": [
    {
     "data": {
      "text/html": [
       "Under these <a href=\"presumptions.txt\">presumptions</a>, we begin our proof of<br><strong id=\"rightward_commute\">rightward_commute:</strong> <a class=\"ProveItLink\" href=\"../../../__pv_it/theorems/d001fc9f963289e1835430a8a9b456425a9789880/expr.ipynb\"><img src=\"data:image/png;base64,iVBORw0KGgoAAAANSUhEUgAABDAAAAAZBAMAAAA1VsPIAAAAMFBMVEX///8QEBCIiIhmZma6urrM\n",
       "zMxUVFQiIiJERETc3Nzu7u6qqqp2dnaYmJgyMjIAAAAcRTyBAAAAAXRSTlMAQObYZgAACd9JREFU\n",
       "aN7tW22MG0cZfr32eu1d++5+8NGvgBtQe0Wk5+rCpbRX4oBEKhA6XypKJSpi5ZqQRqUxBDWhbYgL\n",
       "5XIpoDMgpVGhuU2L2vRKWtNT1FZK1GtTvhICphdQBElzpeVH84OEfFy+E9752J3Z3Vl7/Qd+OCPd\n",
       "7viZd593duaZmXdmE4Do6eurq3A5tUNKrH64FfPy5RZrm7TxsjBaSU+2wTtaVSaMaXI7GFEYHeSW\n",
       "rberLswKvenTrT32NRVV99A30pPROZ4a7qv/QlWQXTnTu/xRP3Z62ci9LdTwb5eGlw87ccK9TBh7\n",
       "yO1wRGFkanjrsNtVGB2s7TqOSlhY2CXhR0Q27WSurYN1U70Zi2uuzQKYmKUsiqFa5xe9WCdK91Ct\n",
       "hUpeRDWd4/kXmDA2EcJKRGFQw01tu5JMsdvbZyXs3RBbgWePiJHUkWf3rQ/iZX61GYtjbq5HivgZ\n",
       "VREsRnkN5H1YDs27oldSP4aXm/iPTI4Kg4z/TC1qjEGmlj1tK4zvsF6akHpIX6+ePyX8eUkAdz3I\n",
       "7u+Q0gVNWRzzjqvIVqFLVQQ9yH4o58NwBklciF5J7SReBvgEZnZRYWR3j48/Hjn4PDA+/lzbxqBp\n",
       "9uZZ7YTAkp/NKW0lvN5TcOF7ZtNbnE7bdzRl4eYwn4xcPa8qgkewKz9se7FRUtvz0SuZIovjmBPy\n",
       "vMd2JadHRh6OLIzOkZH1k+0qDI31zBcsMRZxQVaPE4En7NfcWMKcNuh9jBY+14zFMU+for+qiiKA\n",
       "GYCvrPBhp4nfmeiV7CQhwkCJw7uYMJYCbIgsjGQRUm17ypWiHWwW6IrM056QlVXgv6QrPl++a2zV\n",
       "/nMuzNqTHPPMsdAi0GcOdj/kx4i9dj56JWkNe5wR/zYTxudQaWCujCaMRJ4FrWHycCV2+/Fdy5nJ\n",
       "/qHJGxS7rOF+TaK4fcYx9yQvnHB7SO3chROj/X0bVG6c5K1TiPPE6H19niFj1Fgt0sfJeu60yeaQ\n",
       "tnLwAozlnfY1IE23uuuKfJGvNGRxzI2ToUWgYcCzpeTDiH3yRDN6gZOYBFY6K97LTBgGaDgSFoaI\n",
       "QV/1JlxbEgdcZZhD84cKyk21u/pmuyBDg6XNOdjaFVyu/wnmI/KDXaBfqeDzwCkno3YuwX8BeF3l\n",
       "hidfnUKcE5ZBWTAxyn9nbx/O1HfMY4/myCSqqLiL60O9KytO+75FJ2iAj9KYwNZ7yw1ZHPMY3QaZ\n",
       "qiJI4Yto53wYCRk6u5rRC5zEJPAfB1/MhJGpG3xdCaTnd90Gr2TsuC2EsZctS+Z85SnX0+7qGy+B\n",
       "RV4njVLJBnfDY9jG+6XfaA7Lgnxe2BFGiHMJ7gN4zVa44ar01SnEOWFJlgLCwMtHwOlpwwa9pBrr\n",
       "Lo7TXGzaaV/cNdxJZwx6xFiERLkhi2Nu0IOT7aoi6MQHtWM+jLzcoXozeoGTmCR7wSeM9DRh+7FK\n",
       "UT98woaduXxGLCWwmVFlns2r+mb3KtdpDuJkXjNw4dKDMTEJdxfJdUST6xVV98COMEKcS/C3AD6j\n",
       "csNZfXUKcU5YtLJ/KbHw75uuMCbw733FowLHZ4wu3r5Wnh+S0Q0sNivvuRAW15ydYEyqiugxRvKE\n",
       "D8MXMq9oRi9wGpNscYfKQiYM2HAPXojr7G2LPqZdV+Q5En0QnW7/qSyM1EY6bBalVGdiem7Eyb5Y\n",
       "hBvJmO3BixnYRWtkMhmXADRnk783eWFHGGrnEmyeBO2wyg1fUX11CnGOLHw5lIPPn/OjTCaM93n7\n",
       "+pOLp2vspPSMc3JKug/GiCx3uz0XwuKap0nHZWyY+uvs/OylniJ6jLG44sPwhV6YbkYvcBKTmP8G\n",
       "yi+CT5jAx3XSANkF9dgKrcRzVfYZZXtm292SMCy2tpbi+GNFYF8M8yC9lmYH5nTTqWUNK/GZGv6e\n",
       "HcC/+4OMHPYJQ+2cwo/T1SRx7K1hyU3SJ8w10ZwnsD+T0/KUlOdnGaNVLgwa3RmE/kU0NC/yjIST\n",
       "I6LUGda+LGAlh1BkwzthOz3nWlMCweKaA254rVsA9s2CD9nXeZjgHWS5wvZiKNwEmbt99KGVJMpd\n",
       "mKf8JNbq58LoRPlqxOiJ66GzEJ/kOdvMs5VtcpckDKDLWbamHYW7r/J3zT+gB+AHNPsnPjuzPZPf\n",
       "tNN/FoLmcE2QkcE+YYQ4p3CKBlOZabYGMDf66z5hnI/mHFkgJlcU29kcvWjDK5dWcWEkyfSpkeFv\n",
       "kGHwgJNx8a2XDoM1eipP2xfI1Az0EOrp4aGC23OChRAIFmFu3rxsLoryqTKcoN0miu6/NNQ3wjap\n",
       "Mrbs+1UFfUglk0dm+pZ/mvGTOfZfXBhZbLcUXXKXwCDfky2BBaCvGRn5HgrjSUMWxt/pyUj/789y\n",
       "dcpz77t/HLWBTb4/wvmyxlf5bQFTssqbcgSJ5lZXkJHDXmGonTM4xgwnIX1OuDHsYICzrblzZIFf\n",
       "K47ExULMN9DBiD+As/alq7DulVoDloB5Moczz0PKIiXWmD6IJ3Pk2N0sg/j3GLEvk+sHoRvGdJbr\n",
       "16HEZozEIlkYNN0C6ZPBlsTdy1iRf5DDfhkgor2ZRU0+03iFxF7ZWw9+akfRMd9SCDIyeGrnAVkY\n",
       "aucMZh/4OmuQOOO6CQiD1Wlq59RXf9PIObKYHyCVdGeNKb8wIifWvsG+ae3zQqyoVdJHi5HtW6RH\n",
       "/vhk0fmIxhtBg012+ijOFPszLPft7UCbbR/AAb8wEjjYL9CWRNPHnAt8CXnqWRytj0H6LKSvIRmj\n",
       "Dr+qBk3XgvkHsG6Eqy1qrqP5e3SFFDYCfqliSMIQzj22DD5A/MCYDT+ZdN0QYXhMWZ1emo7Vdnid\n",
       "e+u42IbNBbC6xXvLB2svt9Tk2L6qZLXWc2M4prOV6J8kWqRHfuOLReezOx/Cb8JgLVHCQHXjbpb7\n",
       "ZB1SuBYkvlvAmNInjNEKbDpVJy05WNOvhMEqudRSpyE9ujZeAP1q+N3x3uU0A7/t/wRrdNkUMkNv\n",
       "4DBeapZd8yGbmuEPZlMVcLJ4lyQM4dxjy+C5xE9mXW/foyDckP26bMrqlCw+C3O9zj11JCwY8MFS\n",
       "3Y2UTREz/2zdklaaHNtX9VVu3kyuFZbP484jfZ8d+aNfi/TIr+3lp9fyP+2rBXLdGGN4j8T95y/B\n",
       "hwyL7fWZZBuaQtnKe8yJmfhhiePfOQXPyacb3AdsyzXJT00c5ChMDdyqobnV+HWQUtvngu3wT/uy\n",
       "VZ8wrGowF/hW4jk3OF5TPJS5AeBVB3y1oalZ0gpJ2ZyYuT9E7hnYUfcLg5gqbN+oCj9ORu+5VWX6\n",
       "DHwcllS9zhVtYJasvW34wVASRlaRayiM8IfqgUxD/rr6R+DcOwWhD9YVfrKRaOsArbRBGwqjeVr9\n",
       "f/5/JXG4nP43KbH6gf8CoQpFfORFBykAAAAASUVORK5CYII=\n",
       "\" style=\"display:inline;vertical-align:middle;\" /></a><br>(see <a class=\"ProveItLink\" href=\"../../../__pv_it/theorems/9d6f10378d2d2f01af5ce84d75b58aab52767abd0/dependencies.ipynb\">dependencies</a>)<br>"
      ],
      "text/plain": [
       "rightward_commute: forall_{l, m, n in Natural} [forall_{A_{1}, ..A_{_a}.., A_{l}, B, C_{1}, ..C_{_a}.., C_{m}, D_{1}, ..D_{_a}.., D_{n} | A_{1}, ..A_{_a}.., A_{l}, B, C_{1}, ..C_{_a}.., C_{m}, D_{1}, ..D_{_a}.., D_{n}} (A_{1} and ..A_{_a}.. and A_{l} and C_{1} and ..C_{_a}.. and C_{m} and B and D_{1} and ..D_{_a}.. and D_{n})]"
      ]
     },
     "execution_count": 2,
     "metadata": {},
     "output_type": "execute_result"
    }
   ],
   "source": [
    "%proving rightward_commute"
   ]
  },
  {
   "cell_type": "code",
   "execution_count": null,
   "metadata": {},
   "outputs": [],
   "source": []
  }
 ],
 "metadata": {
  "kernelspec": {
   "display_name": "Python 3",
   "language": "python",
   "name": "python3"
  }
 },
 "nbformat": 4,
 "nbformat_minor": 0
}