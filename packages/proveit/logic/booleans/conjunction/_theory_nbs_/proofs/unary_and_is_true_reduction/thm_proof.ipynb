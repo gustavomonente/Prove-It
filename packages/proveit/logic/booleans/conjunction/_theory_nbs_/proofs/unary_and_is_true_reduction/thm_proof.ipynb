{
 "cells": [
  {
   "cell_type": "markdown",
   "metadata": {},
   "source": [
    "Proof of <a class=\"ProveItLink\" href=\"../../../../../../_theory_nbs_/theory.ipynb\">proveit</a>.<a class=\"ProveItLink\" href=\"../../../../../_theory_nbs_/theory.ipynb\">logic</a>.<a class=\"ProveItLink\" href=\"../../../../_theory_nbs_/theory.ipynb\">booleans</a>.<a class=\"ProveItLink\" href=\"../../theory.ipynb\">conjunction</a>.<a class=\"ProveItLink\" href=\"../../theorems.ipynb#unary_and_is_true_reduction\">unary_and_is_true_reduction</a> theorem\n",
    "========"
   ]
  },
  {
   "cell_type": "code",
   "execution_count": 1,
   "metadata": {},
   "outputs": [],
   "source": [
    "import proveit\n",
    "theory = proveit.Theory() # the theorem's theory"
   ]
  },
  {
   "cell_type": "code",
   "execution_count": 2,
   "metadata": {},
   "outputs": [
    {
     "data": {
      "text/html": [
       "Under these <a href=\"presumptions.txt\">presumptions</a>, we begin our proof of<br><strong id=\"unary_and_is_true_reduction\">unary_and_is_true_reduction:</strong> <a class=\"ProveItLink\" href=\"../../../__pv_it/theorems/be109ac90e1bf531e34e803aa78906ca7fab3fdd0/expr.ipynb\"><img src=\"data:image/png;base64,iVBORw0KGgoAAAANSUhEUgAAAQIAAAAUBAMAAACUmS5RAAAAMFBMVEX///8QEBCIiIhmZma6urrM\n",
       "zMxUVFQiIiJERETc3Nzu7u6qqqp2dnaYmJgyMjIAAAAcRTyBAAAAAXRSTlMAQObYZgAAArVJREFU\n",
       "SMedVs1rE1EQH/PRdHezsQfPEuof0IWCXgQXPAiC0FPoyRasB09GPIgfhRyzB9ncFKQ0omCoUAI9\n",
       "VE9Ke6seFj2JGBbUgz3YogVToa0z896a7EveC3Tg9/bNzP7mzfvYeQswRJYk+lQhr0EjTmPQZkVg\n",
       "FOIQYlK+pFx2TaBPRcnjm2PqQNk7LPNwY3CElnhcBRMH8Y6M26lXSg0BsP6r9NjFZOIhUylTuzro\n",
       "+CEeO2DiIB7TSLWU/6MElLxERen8xWZDF61YVu2uJx47TRMHUcIXiu2U/64EzN5LVJz+2j62T3XR\n",
       "7AnVXhBL9/JCw8RBuFsrK4/SJ6gqALAwCUkX3MwerYqviQbfVLsMGk35YOIguvX6g5Q74wngrhek\n",
       "inLZOaCF83TRNlX7GW5zzTcRmDiI6wAB64F0j0cCuDm0PdwF28//opWgo1j8yeKlonVA8Txk83OY\n",
       "K4OJg7goT7i7l2xgWwAKYMWyCzmwfhO1qpvPumq/z60Pyx6YOOs0ToZn+exAuk/4AvCBF4i7UJk+\n",
       "26WisKuLNqfaT3ERuTZ9swYmDqIYFVjduq1mgF9CJckAm9PHyCCH/HhUBlZc4WzLdWUXHI+rEe+C\n",
       "g7hFEau9PZ1PRbsEiod3gUJNgIlDCBZIG4NzykmkWohZ8El8IoubG+vm01HtdBKttqilBg5hjU/X\n",
       "Z5iSbvriCLPAO0FdrgkhZpR9q4t2XrVvypowvg8mDuEkqfbX96Esn7TSBF6aSera4WETXh3hQSnN\n",
       "DETLie/9u2rH5W0dbYMT/vFMHIJLI2ebsDyTrsp8AvNJVRbyQnfV2lVNVTYIcXq8K7gWkXoz9dRE\n",
       "NnTRtDeTQeTNJE9fF6xwMVEaAn1qknWsizbkdg5GZbA6nKf9Q1GSGT1ca1QGgT5N7V/aJ10w9xh/\n",
       "acRB/ANuZN1OSRk+PwAAAABJRU5ErkJggg==\n",
       "\" style=\"display:inline;vertical-align:middle;\" /></a><br>(see <a class=\"ProveItLink\" href=\"../../../__pv_it/theorems/549d5cbde7e5887a6fe2ab67da79152129e62e3b0/dependencies.ipynb\">dependencies</a>)<br>"
      ],
      "text/plain": [
       "unary_and_is_true_reduction: forall_{A} ((and(A) = TRUE) = (A = TRUE))"
      ]
     },
     "execution_count": 2,
     "metadata": {},
     "output_type": "execute_result"
    }
   ],
   "source": [
    "%proving unary_and_is_true_reduction"
   ]
  },
  {
   "cell_type": "code",
   "execution_count": null,
   "metadata": {},
   "outputs": [],
   "source": []
  }
 ],
 "metadata": {
  "kernelspec": {
   "display_name": "Python 3",
   "language": "python",
   "name": "python3"
  }
 },
 "nbformat": 4,
 "nbformat_minor": 0
}