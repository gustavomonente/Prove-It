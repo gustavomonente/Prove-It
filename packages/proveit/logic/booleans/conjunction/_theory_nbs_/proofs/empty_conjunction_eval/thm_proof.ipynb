{
 "cells": [
  {
   "cell_type": "markdown",
   "metadata": {},
   "source": [
    "Proof of <a class=\"ProveItLink\" href=\"../../../../../../_theory_nbs_/theory.ipynb\">proveit</a>.<a class=\"ProveItLink\" href=\"../../../../../_theory_nbs_/theory.ipynb\">logic</a>.<a class=\"ProveItLink\" href=\"../../../../_theory_nbs_/theory.ipynb\">booleans</a>.<a class=\"ProveItLink\" href=\"../../theory.ipynb\">conjunction</a>.<a class=\"ProveItLink\" href=\"../../theorems.ipynb#empty_conjunction_eval\">empty_conjunction_eval</a> theorem\n",
    "========"
   ]
  },
  {
   "cell_type": "code",
   "execution_count": 1,
   "metadata": {},
   "outputs": [],
   "source": [
    "import proveit\n",
    "from proveit.logic.booleans.conjunction  import empty_conjunction\n",
    "theory = proveit.Theory() # the theorem's theory"
   ]
  },
  {
   "cell_type": "code",
   "execution_count": 2,
   "metadata": {},
   "outputs": [
    {
     "data": {
      "text/html": [
       "Under these <a href=\"presumptions.txt\">presumptions</a>, we begin our proof of<br><strong id=\"empty_conjunction_eval\">empty_conjunction_eval:</strong> <a class=\"ProveItLink\" href=\"../../../__pv_it/theorems/ecf59b3e230f7f385a9daa0666b12a532e1912510/expr.ipynb\"><img src=\"data:image/png;base64,iVBORw0KGgoAAAANSUhEUgAAAEcAAAAUBAMAAAAthD11AAAAMFBMVEX///8QEBCYmJiqqqp2dnaI\n",
       "iIi6urpUVFTu7u4iIiJERETMzMxmZmYyMjLc3NwAAACHEeD/AAAAAXRSTlMAQObYZgAAANdJREFU\n",
       "KM9jYICBRwx2DIQAxwIG9gdoYjwzwaAAyOQDC/A+YOC4gKmXOQBC8x4AkTpA7Ipb0a4ZIHIeEDfi\n",
       "VlQWCrJzAsjMBFyKOC5wAklWkJ0sB3ApYjFgMWBg4FIAMpnALve9CwJ3UBRxMvAB5TgNQCITcJmk\n",
       "ysBQzcDACHIO9wdcioB+205IEfMBcECCrWObgHDTdWRFQAUghUgOx2LSLoiVYN/zOOBQVAYiQiE2\n",
       "8W7AUMQGsoEBHMjckGjpJJRUcEQwKuDCnlQwEh3XA4JJ8xGDHi4pAEZmN01P7wBbAAAAAElFTkSu\n",
       "QmCC\n",
       "\" style=\"display:inline;vertical-align:middle;\" /></a><br>(see <a class=\"ProveItLink\" href=\"../../../__pv_it/theorems/78debfd1585061dcf6fa6f95a719f582efae5c440/dependencies.ipynb\">dependencies</a>)<br>"
      ],
      "text/plain": [
       "empty_conjunction_eval: and() = TRUE"
      ]
     },
     "execution_count": 2,
     "metadata": {},
     "output_type": "execute_result"
    }
   ],
   "source": [
    "%proving empty_conjunction_eval"
   ]
  },
  {
   "cell_type": "code",
   "execution_count": 3,
   "metadata": {},
   "outputs": [
    {
     "name": "stdout",
     "output_type": "stream",
     "text": [
      "empty_conjunction_eval has been proven.  Now simply execute \"%qed\".\n"
     ]
    },
    {
     "data": {
      "text/html": [
       "<span style=\"font-size:20px;\"> <a class=\"ProveItLink\" href=\"../../../__pv_it/_proof_empty_conjunction_eval/bab7d71a5152fb7087c59d098953028707375a050/proof.ipynb\" style=\"text-decoration: none\">&nbsp;&#x22A2;&nbsp;&nbsp;</a><a class=\"ProveItLink\" href=\"../../../__pv_it/theorems/ecf59b3e230f7f385a9daa0666b12a532e1912510/expr.ipynb\"><img src=\"data:image/png;base64,iVBORw0KGgoAAAANSUhEUgAAAEcAAAAUBAMAAAAthD11AAAAMFBMVEX///8QEBCYmJiqqqp2dnaI\n",
       "iIi6urpUVFTu7u4iIiJERETMzMxmZmYyMjLc3NwAAACHEeD/AAAAAXRSTlMAQObYZgAAANdJREFU\n",
       "KM9jYICBRwx2DIQAxwIG9gdoYjwzwaAAyOQDC/A+YOC4gKmXOQBC8x4AkTpA7Ipb0a4ZIHIeEDfi\n",
       "VlQWCrJzAsjMBFyKOC5wAklWkJ0sB3ApYjFgMWBg4FIAMpnALve9CwJ3UBRxMvAB5TgNQCITcJmk\n",
       "ysBQzcDACHIO9wdcioB+205IEfMBcECCrWObgHDTdWRFQAUghUgOx2LSLoiVYN/zOOBQVAYiQiE2\n",
       "8W7AUMQGsoEBHMjckGjpJJRUcEQwKuDCnlQwEh3XA4JJ8xGDHi4pAEZmN01P7wBbAAAAAElFTkSu\n",
       "QmCC\n",
       "\" style=\"display:inline;vertical-align:middle;\" /></a></span>"
      ],
      "text/plain": [
       "|- and() = TRUE"
      ]
     },
     "execution_count": 3,
     "metadata": {},
     "output_type": "execute_result"
    }
   ],
   "source": [
    "empty_conjunction.evaluation()"
   ]
  },
  {
   "cell_type": "code",
   "execution_count": 4,
   "metadata": {},
   "outputs": [
    {
     "data": {
      "text/html": [
       "<table><tr><th>&nbsp;</th><th>step type</th><th>requirements</th><th>statement</th></tr>\n",
       "<tr><td><a name=\"0x3ae335a8ad855052_step0\">0</a></td><td>instantiation</td><td><a href=\"#0x3ae335a8ad855052_step1\">1</a>, <a href=\"#0x3ae335a8ad855052_step2\">2</a></td><td><span style=\"font-size:20px;\"> <a class=\"ProveItLink\" href=\"../../../__pv_it/_proof_empty_conjunction_eval/bab7d71a5152fb7087c59d098953028707375a050/proof.ipynb\" style=\"text-decoration: none\">&nbsp;&#x22A2;&nbsp;&nbsp;</a><a class=\"ProveItLink\" href=\"../../../__pv_it/theorems/ecf59b3e230f7f385a9daa0666b12a532e1912510/expr.ipynb\"><img src=\"data:image/png;base64,iVBORw0KGgoAAAANSUhEUgAAAEcAAAAUBAMAAAAthD11AAAAMFBMVEX///8QEBCYmJiqqqp2dnaI\n",
       "iIi6urpUVFTu7u4iIiJERETMzMxmZmYyMjLc3NwAAACHEeD/AAAAAXRSTlMAQObYZgAAANdJREFU\n",
       "KM9jYICBRwx2DIQAxwIG9gdoYjwzwaAAyOQDC/A+YOC4gKmXOQBC8x4AkTpA7Ipb0a4ZIHIeEDfi\n",
       "VlQWCrJzAsjMBFyKOC5wAklWkJ0sB3ApYjFgMWBg4FIAMpnALve9CwJ3UBRxMvAB5TgNQCITcJmk\n",
       "ysBQzcDACHIO9wdcioB+205IEfMBcECCrWObgHDTdWRFQAUghUgOx2LSLoiVYN/zOOBQVAYiQiE2\n",
       "8W7AUMQGsoEBHMjckGjpJJRUcEQwKuDCnlQwEh3XA4JJ8xGDHi4pAEZmN01P7wBbAAAAAElFTkSu\n",
       "QmCC\n",
       "\" style=\"display:inline;vertical-align:middle;\" /></a></span></td></tr>\n",
       "<tr><td>&nbsp;</td><td colspan=4 style=\"text-align:left\"><span style=\"font-size:20px;\"><a class=\"ProveItLink\" href=\"../../../../../../__pv_it/common/e4aad701f7f5516d8e7f0d805d518bf02c13322a0/expr.ipynb\"><img src=\"data:image/png;base64,iVBORw0KGgoAAAANSUhEUgAAAA8AAAAOBAMAAAACpFvcAAAALVBMVEX///8iIiIQEBBERERUVFS6\n",
       "urqIiIjc3NxmZmaqqqru7u6YmJgyMjLMzMwAAACK9jtgAAAAAXRSTlMAQObYZgAAAFtJREFUCNdj\n",
       "YACBOwxQcA5Kc59bAGGs7CuAMDbkBYBp1gXzNoAZSxnuJYAZAQx1DSCa16PDzwCshIGB6QCIMYGB\n",
       "gVEBSLMDGTwPgIxCIGZ+zsCw+N0pBk67hw0AfpEVEQi8t+wAAAAASUVORK5CYII=\n",
       "\" style=\"display:inline;vertical-align:middle;\" /></a> : <a class=\"ProveItLink\" href=\"../../../__pv_it/axioms/acfe7d9a31cbad9715b87f3953c8851ca05c35340/expr.ipynb\"><img src=\"data:image/png;base64,iVBORw0KGgoAAAANSUhEUgAAABsAAAAUBAMAAACOrFuzAAAAMFBMVEX///8QEBCYmJiqqqp2dnaI\n",
       "iIi6urpUVFTu7u4iIiJERETMzMxmZmYyMjLc3NwAAACHEeD/AAAAAXRSTlMAQObYZgAAAK9JREFU\n",
       "GNNNUDEOgkAQHOVUOJQ32NgZwwuMjU+g9xU0VpZ2lFTEJ9iZUPEEnnDhBT7BmSMHbrKbmcvO7O4B\n",
       "IQacMUf8wsYJZJ7uHOLeg071yLwKtLVqw3wIlIUUlfpu9OgTopUUhsXkJgfsnnRJrwSZKp8QUXEA\n",
       "7sCCMqRfgL6fmUadX8E3rytBPQWrVqNrPwPbC0rRQn0UvSELpOOSz/nA6YQxbDhwOt+6v+8YcAJ+\n",
       "X3okQidb6vkAAAAASUVORK5CYII=\n",
       "\" style=\"display:inline;vertical-align:middle;\" /></a></span></td></tr><tr><td><a name=\"0x3ae335a8ad855052_step1\">1</a></td><td>axiom</td><td></td><td><span style=\"font-size:20px;\"> <a class=\"ProveItLink\" href=\"../../../../_theory_nbs_/axioms.ipynb#eq_true_intro\" style=\"text-decoration: none\">&nbsp;&#x22A2;&nbsp;&nbsp;</a><a class=\"ProveItLink\" href=\"../../../../__pv_it/axioms/3a99d3cb7c410f4636cdc59f7b36cdf6997b37680/expr.ipynb\"><img src=\"data:image/png;base64,iVBORw0KGgoAAAANSUhEUgAAAIwAAAAWBAMAAADgE2koAAAAMFBMVEX///8QEBCIiIhmZma6urrM\n",
       "zMxUVFQiIiJERETc3Nzu7u6qqqp2dnaYmJgyMjIAAAAcRTyBAAAAAXRSTlMAQObYZgAAAaJJREFU\n",
       "OMtjYCAMOC/gl+eewMDwAMS4i1fZCggVhy7OXA4GCQyZDAynQQKv8BrzEkK9x+YQBRC5joFhBsjV\n",
       "DfhM4TWAUO8X4DKGR4GBDyjJswGfMewTwNRq+wm4jOESYOA9tWrVdLx+gspe0HfAZQzDEwaGHx0d\n",
       "NXiNUQaTLAv2X8BpzGEGhlQGhk4wG0KywFR0whi9YHIJQzwkHN6BgQGKMfcYGJwZuMCRzvsFLMIB\n",
       "C9gvMGOqwaQDw3wDnK7ZDgxBBiawaxf/RTEGygUCERDBmmyc34DTmHigKy+wg5mnilGMgXJhxgD9\n",
       "yvgAnzGcD8LA1il0IBsD48I8BUwS7AJIYZOAYow7KCxTQCw2BnNkY2BcaBBzAo3h+4DTNcAgZthc\n",
       "AGLdZtBHNgbGhcQmOO1w/MRpjA0Q84OYXI/P9C9AGAPnQly84v8rBu7+75hRxQJJS09BUQtSz7yA\n",
       "YX4Awhg4F5EZ8ACuAhjLF+iqCwhj4FxE1sQDeBSgDI4fDJz9tXBjEFyU9IwLrMMU4sBZbOEGnUQZ\n",
       "Q6gQ5Z1AlDHkAGaydAEA+qlrXgbLZpIAAAAASUVORK5CYII=\n",
       "\" style=\"display:inline;vertical-align:middle;\" /></a></span></td></tr>\n",
       "<tr><td>&nbsp;</td><td colspan=4 style-\"text-align:left\"><a class=\"ProveItLink\" href=\"../../../../_theory_nbs_/axioms.ipynb#eq_true_intro\">proveit.logic.booleans.eq_true_intro</a></td></tr><tr><td><a name=\"0x3ae335a8ad855052_step2\">2</a></td><td>axiom</td><td></td><td><span style=\"font-size:20px;\"> <a class=\"ProveItLink\" href=\"../../axioms.ipynb#empty_conjunction\" style=\"text-decoration: none\">&nbsp;&#x22A2;&nbsp;&nbsp;</a><a class=\"ProveItLink\" href=\"../../../__pv_it/axioms/acfe7d9a31cbad9715b87f3953c8851ca05c35340/expr.ipynb\"><img src=\"data:image/png;base64,iVBORw0KGgoAAAANSUhEUgAAABsAAAAUBAMAAACOrFuzAAAAMFBMVEX///8QEBCYmJiqqqp2dnaI\n",
       "iIi6urpUVFTu7u4iIiJERETMzMxmZmYyMjLc3NwAAACHEeD/AAAAAXRSTlMAQObYZgAAAK9JREFU\n",
       "GNNNUDEOgkAQHOVUOJQ32NgZwwuMjU+g9xU0VpZ2lFTEJ9iZUPEEnnDhBT7BmSMHbrKbmcvO7O4B\n",
       "IQacMUf8wsYJZJ7uHOLeg071yLwKtLVqw3wIlIUUlfpu9OgTopUUhsXkJgfsnnRJrwSZKp8QUXEA\n",
       "7sCCMqRfgL6fmUadX8E3rytBPQWrVqNrPwPbC0rRQn0UvSELpOOSz/nA6YQxbDhwOt+6v+8YcAJ+\n",
       "X3okQidb6vkAAAAASUVORK5CYII=\n",
       "\" style=\"display:inline;vertical-align:middle;\" /></a></span></td></tr>\n",
       "<tr><td>&nbsp;</td><td colspan=4 style-\"text-align:left\"><a class=\"ProveItLink\" href=\"../../axioms.ipynb#empty_conjunction\">proveit.logic.booleans.conjunction.empty_conjunction</a></td></tr></table>"
      ],
      "text/plain": [
       "\tstep type\trequirements\tstatement\n",
       "0\tinstantiation\t1, 2\t|- and() = TRUE\n",
       "\tA : and()\n",
       "1\taxiom\t\t|- forall_{A | A} (A = TRUE)\n",
       "\tproveit.logic.booleans.eq_true_intro\n",
       "2\taxiom\t\t|- and()\n",
       "\tproveit.logic.booleans.conjunction.empty_conjunction"
      ]
     },
     "execution_count": 4,
     "metadata": {},
     "output_type": "execute_result"
    }
   ],
   "source": [
    "%qed"
   ]
  },
  {
   "cell_type": "code",
   "execution_count": null,
   "metadata": {},
   "outputs": [],
   "source": []
  }
 ],
 "metadata": {
  "kernelspec": {
   "display_name": "Python 3",
   "language": "python",
   "name": "python3"
  }
 },
 "nbformat": 4,
 "nbformat_minor": 0
}