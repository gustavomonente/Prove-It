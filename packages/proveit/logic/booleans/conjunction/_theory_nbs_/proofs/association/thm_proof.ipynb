{
 "cells": [
  {
   "cell_type": "markdown",
   "metadata": {},
   "source": [
    "Proof of <a class=\"ProveItLink\" href=\"../../../../../../_theory_nbs_/theory.ipynb\">proveit</a>.<a class=\"ProveItLink\" href=\"../../../../../_theory_nbs_/theory.ipynb\">logic</a>.<a class=\"ProveItLink\" href=\"../../../../_theory_nbs_/theory.ipynb\">booleans</a>.<a class=\"ProveItLink\" href=\"../../theory.ipynb\">conjunction</a>.<a class=\"ProveItLink\" href=\"../../theorems.ipynb#association\">association</a> theorem\n",
    "========"
   ]
  },
  {
   "cell_type": "code",
   "execution_count": 1,
   "metadata": {},
   "outputs": [],
   "source": [
    "import proveit\n",
    "theory = proveit.Theory() # the theorem's theory"
   ]
  },
  {
   "cell_type": "code",
   "execution_count": 2,
   "metadata": {},
   "outputs": [
    {
     "data": {
      "text/html": [
       "Under these <a href=\"presumptions.txt\">presumptions</a>, we begin our proof of<br><strong id=\"association\">association:</strong> <a class=\"ProveItLink\" href=\"../../../__pv_it/theorems/3097e412b29d193165095808a715652303fc6a970/expr.ipynb\"><img src=\"data:image/png;base64,iVBORw0KGgoAAAANSUhEUgAAA1cAAAAyBAMAAABCPTy3AAAAMFBMVEX///8QEBCIiIhmZma6urrM\n",
       "zMxUVFQiIiJERETc3Nzu7u6qqqp2dnaYmJgyMjIAAAAcRTyBAAAAAXRSTlMAQObYZgAADGVJREFU\n",
       "eNrtXG2MVNUZfvfOzszO1y4/kGIp7YgJLo2wY9YClTUMNZHGpnEWU/WH6U5YaCipZRoMUSiy2BYW\n",
       "LdlpmyhqZS/aIK4Vx5KNkmCYAv2iChOxLVaQtdQmkrRsABcWitvz/XHvucwdJFku20OYOXPOc985\n",
       "9zz3nPOe9zw7AP5T3chIGa6KtA/GTtpK35IjI+Nquaxu59P2VdH+ZHkMkVU/QN7iTz9bG1m5q6T9\n",
       "U2EspQ/YeziQZCVkq5+7tnjZaSpsKAeZrC1Znot30dsYqM3At91FqWVDrUt+7N/EX0c6Z3ZnzXXx\n",
       "5s4HY/5nagUeKZrqxweZrB+JXCO9ucZBpbZoviim5E8a0HWI97m5alZk+USA0CfmqhsqkLil4rtB\n",
       "CjxufOpeCzBZifMie4jN6ueV6uPmqxozchSdtN3oDtRdd2eqWRHl4Yto6T9trNq2Er3MLfptkAbf\n",
       "Y0JGy8ElKyq79BH6PO4YlrXh9WaP9f6VIvuy7EmJbkFlx9LVrIhyC31l6pSx6kP8Ps93gzT4FuPT\n",
       "ORxcso6Jro4V6EixzsjayNfSxqsWTRHZSkvWjV6LSP+cXc2KKG9APbdlpakqdAG/3uO3QTq80bgM\n",
       "Lg8uWQ+LnEXH2F2Ji7J2OxSMq/hAVGxc7N0VN3oI4L6l1azI8qY8hFfYpqpe8vaS3wbp8GTG+Hja\n",
       "QSUrLIdRA+n0eDaM56P7admf0T/TPrqULLHsr6AjDfFlOjo8dLR5VVUrsrzjwXfWl4xVB9lACnf5\n",
       "atBBbdyliIdx4D84ybXu1XRQyQrJNkfJ7dZDDK3098yiZQXYbFzoIMY9rSz0oud3vo7Ga9CWfDUr\n",
       "shwtcfEJxqo1tJfCrQVfDVqjdWrCOAobB4JKVl1eZskMf2/rzHPAez+Vhoipme8ALGZPfGfrMvTQ\n",
       "79XReA2yLlSzIsvXYsJKpqovkTnLhvqCrwZxOGvcoOmWreGgktVRcZCFXr4oyIraEM4brkK+wL1s\n",
       "yULXoSd1o45GaxBYp6pZkeVDmKy0qWoNGSE5Tla1BnH4pciKXQwqWS1FfRpMoP8/EGTtQP8/Nni/\n",
       "GbGDRtdE0W0P62j8CETOVLEiy/E2C5ZlU7cvuNGamtOqyL4gCZysag1icGwJ+EV0zfqXRE8IKllr\n",
       "QXcwnmUhCdrNH7P+cc76Rdo/6CktkYgHvXOJxo9AR1cVK7IcT0zhc5CaV6lbauW1ql483vYLsqo1\n",
       "iMGxpSJ3MFxpfVDJmqh4VBm21+opsm4mLlgUrwCvotuOf8oy1Mkj26KnMMnDYHVpaPgQ9e5Eu4oV\n",
       "Wd6IOm7e4/DMTdCUDZW1KryP2GFzskS5sEIyskEMji0hVMgcUjzIyCJUHvVLViNZMyujyFVcifGg\n",
       "/oj3fGrDGyPLWTdH8Cpm4Yc1ip/3FTyzCFfiXei2kROQ6DmbaUhr6O/juGwJqlgR5ZGTQ61LnkAf\n",
       "FkI7nYzlJfDCus6smNFk+QrVnGwQhy8kUYxG83g4lqNkkU3ACb9kkb1Boz2a2yw1xvOIkp/PvAeU\n",
       "3HdMPJGwei/fMqMvacVdfh00Q2/YWEXJ8t2g66ANfXzRw6lKU7I24Xm8yy9ZBLlpVMO4F5QPh5T8\n",
       "6zWZabLM5bVZiQ2iEXE4aW5ooUZLD/V7BHLR9JmhZOFhkiz5XrNOkD35KKaUei7RID3DX6xZWNPW\n",
       "2izjqNFKfR45EE/uN/b+rKF0bZZurngckdCNBSYrtb+v7yn/DsaRvr6XCqNJljWsLmBdcE2lBo+z\n",
       "r6Yu5g2e6+7+oX+ymrq715dH836S6tnVtXas/55Xzw8wshYDbOBxzepkRXKMfo+HYAPPfP303iUG\n",
       "iLM4ta7NMsAOd5anecxf52HspboCI+sOMlPO93K+lu+DG/KSrPoMbKfeZNa4ooiQeGocJA27OEdx\n",
       "7B8QX+tGbU7DNgX1wYxZc3g+MjgGycIhF0JWFKwKi2s608t7b4c3knbIVjbFBZhOVou5xs3WC+Jk\n",
       "KZRXz9/Bo7gXUX7YvTgjylNsOYrvaq1Yydj7uf+ThV6SFXwKttE0TJ54xoY305mkGsF4m56lJV80\n",
       "HpPtXy7spyFk8G0cxXi1XOAGoVUxzHypwzv7wLJgf2UsT4NRPg3GBnD0F/tYMixJw4p3YFx//881\n",
       "sjbTGPKCBpMjFk53i61BDmYYNs96sYV7vs8FasHhGYqqx8+EZdUf4QtbcngsrlncwYANi1hGhiVp\n",
       "WJGMgP7kKw+oZDU8SRarfAiRvdRpNAKzILaaZO+e3owsRZx80WLxxFDGnSh5cE/jW1bolo8Ev7r+\n",
       "68q5g7HPHETbeQW3/rrTVZfnZO1A3U7imjIsScKKcTLR9UN5r0pWgpylpkrWIDzweed3vA8tAD8h\n",
       "2QMAN0H4t06ySLHcP5BdgAv1X2URJARZ8NWcy4VRNlq1qjxN+G1waemmaZ3QlaFuiebz62ZWfum/\n",
       "WQr8u/o+K8PJakKrA4lryrAkCSuGH+7ufgyR9VxUJQtIbG572x/PszC22nXH3+qxgbpxP0XeQ4mF\n",
       "tJVEi9XFKV5xofBK9grN3tfd3Z1GZJV5OCChkWVSecY8ukLpSgUv0OTQSZduelkS5boylMcfRLU1\n",
       "GQ2Fyb4bpsK364tHmZOVsllcU4YlaVgxT0dW/QKNrL/jl9sg9ombLOQ29uZYoPECmvKKbrJIcWrO\n",
       "0a/swsZCXeSczomajf6X4dCbR/DESkdWmfsz4YvgDg5qKs/GjLlPFLGlgufoVAZc0k0vS6LcoQzd\n",
       "o1fHsWIwNOy3YRo8qcWqeCCXjTMLNtk8LElyD/XD73DNuwBHNLLIso8aeZGQhbCP8xf4JjJUSZUB\n",
       "fYqdh9gXCA2yXhQnZsCkRBlfsRrif3KjohX4dRF+04WGdBJ/p5WEt0TYRJPBGlSeqpxTm/qk2FLF\n",
       "c3S0CC7ppoclWa4rQ7lEk1c34mWifpzfhmnwuLZH3V1SyQrtg/YSD0uS3M0VaECQ+kez9OnWyOrp\n",
       "gk1nK5is9lL4emgv4pdSwzmI9awOZSE8Cf5wunVJlioQJrH6oixeHC8gWHsJkp17bDcKft/2ZRws\n",
       "wSd0+NTobwdm/1s0/FF1PjKoPFU5p+b8SLGliudoEh91SDc9LMlyXRnKJZq8ei7p4ozfhunwf6qQ\n",
       "g0VwnBSXXLlmtGY5wk1aWmm6Kpqgugj6wVY+yFwhkcGw0iVRUZiObt5Ca5b2pXPVqK5B5anIObWk\n",
       "iC0VvEDfSCYYTbrpZUmW68pQJtHk1bGz5FPRZ8MccC1KQYKBKlnSW0wUvWODalpwumS4KjlNOrHh\n",
       "ljmqR8tz8byVjUwTV3igtsIukzd9TFngTCpPRc6pJSm2pPitgxqaRAWYdJPpM70siXKuDBUjdkCt\n",
       "TvL51F/DkppyXvwJHTC/RycrZchdmizvq7ROrpiLHd/jiXKmDuWOTSpPRc6pJSm2pHh6kivQq9ga\n",
       "FJ8g9JlelkQ5U4bK510zGWVupc+GRfUNpHoKGjvlJMtf1P0q2M0rvWNQeSpyTv3JkGJLiqdzlkCP\n",
       "Z2sQlm4yYZKHJVnOlaHCVRhUq+uIyxn32zABZ8+kOtsHVuQZGnSSlVVVnoqcUx8OUmxJ8XQKFejx\n",
       "bA3C0k1GloclWc6VoTpZvDo6SLc+Phsm4G6yGgpBJav+jGMa1FWeipxTS1JsyfBNRQ29CoR0k5Hl\n",
       "ZUmWM2Xoob9MyUzBg4ZcJ6rplqnst2Ecjq2BfmbVlA4qWbDc4WDoKk8p59STFFsyfLuO3ghCusnI\n",
       "8rIky5ky9N3JMMGeyh0MUU1WmqTtt2Ecjqxd73AwWuzAkqW4g26Vp1RPElmmUFVKESbHN2to4ioz\n",
       "6SYjS9R56TOZMjT2fAHOQBswiaas3l2BxG1gbJhJOErh2BpevdqUO6Z/rhJIsurKckp0qTylepII\n",
       "KoWqUogtBf4xDY2vFtJNSpas89BncmVoJI36EU+jRKIpL4vP/s6tAOaGuYWjHB5JkyjGR8q8G+A/\n",
       "U1VPml0qT7d6krvrOGn6zJyGjirLCSXLw5JBMJqzumKDOSbRdF9WW8PqcqFyDuIFVygymD+tcNwV\n",
       "yHXtTHykQT0wkso490u+Uy8aDamusqdE8/UarUW/kdMCua/ZASbrZ7Idl6/yhLas/nmD3IPWps+E\n",
       "O5HzEPue7SXRrLFhd4L1tnZEEuwfLVEe/Cuo8tz2mS14STQvJ21QAr2ZIJMFM2X2ajrWf+/K3WFK\n",
       "4Z2rv8LB/Am7SBrGTrrcn7C7an4c8tYxRNZWOkDwj0P+DzmwEhGq+UPoAAAAAElFTkSuQmCC\n",
       "\" style=\"display:inline;vertical-align:middle;\" /></a><br>(see <a class=\"ProveItLink\" href=\"../../../__pv_it/theorems/89d21f6fce4127a94fe2fce547b8012a69ad54960/dependencies.ipynb\">dependencies</a>)<br>"
      ],
      "text/plain": [
       "association: forall_{l, m, n in Natural} [forall_{A_{1}, ..A_{_a}.., A_{l}, B_{1}, ..B_{_a}.., B_{m}, C_{1}, ..C_{_a}.., C_{n} in BOOLEAN} ((A_{1} and ..A_{_a}.. and A_{l} and B_{1} and ..B_{_a}.. and B_{m} and C_{1} and ..C_{_a}.. and C_{n}) =  \\\\ (A_{1} and ..A_{_a}.. and A_{l} and (B_{1} and ..B_{_a}.. and B_{m}) and C_{1} and ..C_{_a}.. and C_{n}))]"
      ]
     },
     "execution_count": 2,
     "metadata": {},
     "output_type": "execute_result"
    }
   ],
   "source": [
    "%proving association"
   ]
  },
  {
   "cell_type": "code",
   "execution_count": null,
   "metadata": {},
   "outputs": [],
   "source": []
  }
 ],
 "metadata": {
  "kernelspec": {
   "display_name": "Python 3",
   "language": "python",
   "name": "python3"
  }
 },
 "nbformat": 4,
 "nbformat_minor": 0
}