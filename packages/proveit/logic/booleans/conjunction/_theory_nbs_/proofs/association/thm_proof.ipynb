{
 "cells": [
  {
   "cell_type": "markdown",
   "metadata": {},
   "source": [
    "Proof of <a class=\"ProveItLink\" href=\"../../../../../../_theory_nbs_/theory.ipynb\">proveit</a>.<a class=\"ProveItLink\" href=\"../../../../../_theory_nbs_/theory.ipynb\">logic</a>.<a class=\"ProveItLink\" href=\"../../../../_theory_nbs_/theory.ipynb\">booleans</a>.<a class=\"ProveItLink\" href=\"../../theory.ipynb\">conjunction</a>.<a class=\"ProveItLink\" href=\"../../theorems.ipynb#association\">association</a> theorem\n",
    "========"
   ]
  },
  {
   "cell_type": "code",
   "execution_count": 1,
   "metadata": {},
   "outputs": [],
   "source": [
    "import proveit\n",
    "theory = proveit.Theory() # the theorem's theory"
   ]
  },
  {
   "cell_type": "code",
   "execution_count": 2,
   "metadata": {},
   "outputs": [
    {
     "data": {
      "text/html": [
       "Under these <a href=\"presumptions.txt\">presumptions</a>, we begin our proof of<br><strong id=\"association\">association:</strong> <a class=\"ProveItLink\" href=\"../../../__pv_it/theorems/78ef8c01d8d274dc34968466b3d486d51785777f0/expr.ipynb\"><img src=\"data:image/png;base64,iVBORw0KGgoAAAANSUhEUgAAA2wAAAAyBAMAAADSLkV4AAAAMFBMVEX///8QEBCIiIhmZma6urrM\n",
       "zMxUVFQiIiJERETc3Nzu7u6qqqp2dnaYmJgyMjIAAAAcRTyBAAAAAXRSTlMAQObYZgAACsVJREFU\n",
       "eNrtXHtsU9cZ/3L9yr22E/5ZHzA6l0k0TIO4SgespIrZpDGtWutkWts/qsUiMDG0DVdMW0tLMXuA\n",
       "WVvF26SWditxH9ogXam3KGqRqOot3StrizU6Da0QstH+AdLaNA8goTQ7z/s491zHxhcll3CiOOd+\n",
       "/r7P557feXznu78YoPJSNz1dhDlRXof5WLQU/Xtk+sNqzOoOPZmfE+2PFOclbHAH/XPgyd9VBVty\n",
       "jjR/6fxEDaLDrNLuRdjCC6zXT19Z4IRzjm896mXYnklYl/wM+RMYrs7LNySjecvZlk0/rmL0l9HX\n",
       "mrq+o1axmD+7a2XpV7T6rRnv3JOw/ch62UBHZ8OISeY0YE3yD4yqqt8hGgFtSbvcyYugbza5sQTh\n",
       "m0szNUhXVxYD9C2m9YMzrjNehC08Zb0+Sv8MmcWnHGwNefQDI7xqiLNKJ+rnO+N2uZMXQd9ksn8b\n",
       "emnLzdQgrq7tRq3xTbKIK+Z47w95F7aQ0JkP0BvvmzREgd3ykNckf8HUp/dsY5VmJDsZs8udvAj6\n",
       "JpP/YJW1MzaIqzcsRC9+Npe0BY73/lrOs7CdtC44aprOHmXckAW/IB+wJnmp2dghNyxhlZ2oz67N\n",
       "2+VOXgR9w8R3Ab9+bcYG8U9oK2Bs+Xh8d6Yh60XY7rdeKvROvhK+aMgOQlpqasj9+df0jUcbDrHa\n",
       "WYC7N4Nd7uTFqm8y6SEaB2ZqEFdXz5ErPh4HnIOgKa/CFhi3XteT7tcSgVG86FDZ39GPrBjy56Ez\n",
       "BtoWupcUIgXq+uyJpgcNL7rcyQvXNyUCmMkRNrkCmbIN4uqRUYt4iMjeJ8W6I2ijXoXNJ6z8IXLj\n",
       "flDH0Kq0isrSsE9qa8gT0IM6ZB31ACo9PChoe3wmpXvR5U5emL65McxkB+2qQEu6bIO4emjCIn7Z\n",
       "+e7f9ypsdSnhmuxRd7WsPA8ch2gMgrK2GvJAV8uWDF+N/gGwkU5cNCKUC9yLIXfywvWNwk0+RTa8\n",
       "PPjTZRvE1evI2qfpAarz3TfnPApbZ0kGG3q5QYctlIdASja4dbkf2aFx/hi5QNHcXaTSiN5URnXY\n",
       "dLmTF65vFG6yg5xUkhw2pwZx9RA5c/ZXAFtPyaOwNecki2QY/d6nw9aHfk9LTA05sgmhqULODOE4\n",
       "P7LjEREc514MuZMXpn/0n0viSzZaTMjpIgIcNocG6er0xFYknvhdsL0tJVtrPAjbTpCEJL9kaQ/a\n",
       "4adZT4lFl6sFklUJLOBZlnCcj4jODPdiyB28cP23F8M1+aUWkx4ckgzqsDk0SFdX8ZSN5LGn63lI\n",
       "Ii/1aY/Cdp0YjcXZ2a07xzqchG8hvLu8hBZC7WNWMcmfwB0wCQqJ8+5hyxU6I6N+vi7PYdPlxFh3\n",
       "ZXhh+uqzaRiHVosJPo305TlsuglxYDTI+GR0GgnfCtgT3uVane8+MkJhI5HMiUphayAbbGkWUdPG\n",
       "BAHqGa374zy8Mr2VdXgQ73YKHu8hvKR8n1d0+f7pMxDuPhevJ2H6BvyCj73fne5amS3oc1aXE2Pd\n",
       "leGd6wdjaNo+aDGB53Z1JYDDZphgB0aDDHVt9TdvwYoxkil5z/n2oxMUNnKeOFMpbOSY0ZCfzWPb\n",
       "qCh5wFRfx+INVOxLg01e93UWzSC3IHqRyOVeUL8oGXUkKTOhsDk1yKZel/QVk6ClZ7r9dtiLl9ZM\n",
       "pbARzb2zmki+IEqOVnbikZRGRS6vzgv0oFkSzRSlrU1X6Sl0e7JcKpktNu1k6siTAdK97Qw58s9i\n",
       "iU7Ydmkj2vvFjvVVndzlnJQqvcCXUGyhflu2BKmrzsaq86S8We7BDc2nYdiig729T1Qekhzv7T2Q\n",
       "nk3YlEnbAMzAlVX2lHvzPIskz2ezD1UOW2M2u7s4m/cUmbKJrjBSQjRX7t0bGGwbMbwsqTozbMEk\n",
       "W5Tqc+VHypfHBjZJVERxdFerIlE71lVc5rCwTcG8Ltcy2L4I2rCez7FHLltfhxtTBmz+OFt6Tyak\n",
       "I0VPz0cXQETyuE8Qq/8Fbadda18M9pu0hlasWsPrwZH5Ddt9DLYQKCWHRzwvDNwGr0TyvrzpuJ2G\n",
       "5WRDaZMe3p7TH3r5Ujb2gETcg8A/Zt/JEfhRtmNph1tKSkR9J3kVNgtskRJ+VPeYbOo88lQeXo3F\n",
       "I+YsyZv0gV/kN1KexeBWPVUYA9+wXUEQ4121w66Eds8AC8GOHeoFRYHB0tVFkpQfMNjUYZyExvFZ\n",
       "9LaOTytLk6yGl09U+vt/boFtH01ld9TL4rdALMurLyVhhSQmtooVjEGvTakZ54Golh+PDkXxH+cb\n",
       "YGRyfsPGQxLYswFoUjW6tlS3WUmxWo7mvfojL95rhq3+cbKppXxo0m0WfQZhFajbSfXO5U3IU1BE\n",
       "jor1aUWxF7VMtAOSTVN8N+v5HmXiMkaSNXsK51xMLEh9XcNh60MAkKTqUzdBY8JXZLW8RpbBfigO\n",
       "mGELk0e/0YIyAvcuFH2+A80APyHVtwBugsAfRNiI2EhTkLOETesj02ZJoFLg80lb0COc21ygt2JP\n",
       "NVJcbdRUt2muYxy2RrSL0KTqenRNn/Gvh7UQuD+b/SGC7emQGTYgSbGDrX+dYslrcxNPvdGdBxoC\n",
       "PorijQLLlJsKFZs3Ma1k08I73ou0enc2m40h2Io82xC2weYevZV4qo3ielA0c5nmqn3EYYvmeVL1\n",
       "E9AEPQFaaw1Ais42f4cFtn/jl1tBnbDDhkLOniRLcF5AC2LODhsRR9ec+Nxh7MyXIQ8TRa3VQJ4Z\n",
       "vnocL7t0thV5BBS4KN6Je/RW4qk2iivPJ14umitPJbPVSoG9eXUEzbJjEVr7Xj/8Cb/zNsBxC2wk\n",
       "UEBNvUhgQ7o/5S/wVeSoFC0CulKnQP0kAcR4XxeHV8CicBFbbAftb3atUAl+m4PfZ9A0j+DPVCLw\n",
       "RtGySpiLe/RW4qk2iiunpl4umivNpLcbSdX2gj8Fp+HxQVr7bAnq0WrmfzhBR7wFtu4M7D1XwrC1\n",
       "FwLXQ3sOvxTqz4Pavd2XgMAi+MtYy6YEJVEsYu/nDPFGLY3U2gsQ6fpj3q4Ff279DE7I4MeIj6Df\n",
       "f721+n96wx8W1xfX6K3UU40U13ctZq7TXGkgbX66XbDVmtDeJiS3LGWbzCoUptQOepE3XRi1dDiO\n",
       "1QpltUKwHPWsgvY2y4e2ibll1+it1FONFNcBi5nrNNfgiACbEW86RbEibB1jBYlVZBnAIb4mNK8x\n",
       "LoyallISwWW6hYPWr+GwLBNzUlhm3KO3Ek+1UlyHLGYu0FwFDDICbFFJrTxszlaW7i7JxcLnOGqJ\n",
       "pVPoRvforcRTrRTXly1mrtNcCbfoKr0VF51kij3VSnHttJi5TnP1LL3VNyKDLeECvZV4qpXi2mkx\n",
       "c53muhs8Cpt/XLJIukJvJZ5qpbius5i5QHO1Fs/+6wZslYQkrtBbiadaKa5DFjO3aa6KZ/9RSgwl\n",
       "3aO3Yk81U1wrorkKDauc5so2di/CVmdNzLpHb8V9WzPF9T2LmRPN1dqwymmuHv4nYPGhuXv0Vpun\n",
       "6imulJpqM3OL5spSmp78gotT0lSy00mnTBHprZfuSae4OlBTXaK5hhd6GLafWdvhHr310j3pFFc5\n",
       "NdUtmqunv05GGLru0Vtd8LTHxfu0++oCD8MGK62Xc4iUEHWRlGD3xdlsVcI2V76YMBiDeVku8YsJ\n",
       "58zXgN4yL1HT2POhI9Mf/h8tQRwlVS2SYwAAAABJRU5ErkJggg==\n",
       "\" style=\"display:inline;vertical-align:middle;\" /></a><br>(see <a class=\"ProveItLink\" href=\"../../../__pv_it/theorems/5d92ad6336cf04011652bc6b741b54d9457c164e0/dependencies.ipynb\">dependencies</a>)<br>"
      ],
      "text/plain": [
       "association: forall_{l, m, n in Natural} [forall_{A_{1}, ..A_{_a}.., A_{l}, B_{1}, ..B_{_a}.., B_{m}, C_{1}, ..C_{_a}.., C_{n} in BOOLEAN} ((A_{1} and ..A_{_a}.. and A_{l} and B_{1} and ..B_{_a}.. and B_{m} and C_{1} and ..C_{_a}.. and C_{n}) =  \\\\ (A_{1} and ..A_{_a}.. and A_{l} and (B_{1} and ..B_{_a}.. and B_{m}) and C_{1} and ..C_{_a}.. and C_{n}))]"
      ]
     },
     "execution_count": 2,
     "metadata": {},
     "output_type": "execute_result"
    }
   ],
   "source": [
    "%proving association"
   ]
  },
  {
   "cell_type": "code",
   "execution_count": null,
   "metadata": {},
   "outputs": [],
   "source": []
  }
 ],
 "metadata": {
  "kernelspec": {
   "display_name": "Python 3",
   "language": "python",
   "name": "python3"
  }
 },
 "nbformat": 4,
 "nbformat_minor": 0
}