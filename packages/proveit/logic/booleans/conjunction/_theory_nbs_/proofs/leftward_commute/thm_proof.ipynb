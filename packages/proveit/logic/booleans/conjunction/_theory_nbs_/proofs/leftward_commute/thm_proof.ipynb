{
 "cells": [
  {
   "cell_type": "markdown",
   "metadata": {},
   "source": [
    "Proof of <a class=\"ProveItLink\" href=\"../../../../../../_theory_nbs_/theory.ipynb\">proveit</a>.<a class=\"ProveItLink\" href=\"../../../../../_theory_nbs_/theory.ipynb\">logic</a>.<a class=\"ProveItLink\" href=\"../../../../_theory_nbs_/theory.ipynb\">booleans</a>.<a class=\"ProveItLink\" href=\"../../theory.ipynb\">conjunction</a>.<a class=\"ProveItLink\" href=\"../../theorems.ipynb#leftward_commute\">leftward_commute</a> theorem\n",
    "========"
   ]
  },
  {
   "cell_type": "code",
   "execution_count": 1,
   "metadata": {},
   "outputs": [],
   "source": [
    "import proveit\n",
    "theory = proveit.Theory() # the theorem's theory"
   ]
  },
  {
   "cell_type": "code",
   "execution_count": 2,
   "metadata": {},
   "outputs": [
    {
     "data": {
      "text/html": [
       "Under these <a href=\"presumptions.txt\">presumptions</a>, we begin our proof of<br><strong id=\"leftward_commute\">leftward_commute:</strong> <a class=\"ProveItLink\" href=\"../../../__pv_it/theorems/26cf4684a4c1b0bac93e60676bbff0007e16e9330/expr.ipynb\"><img src=\"data:image/png;base64,iVBORw0KGgoAAAANSUhEUgAABDEAAAAZBAMAAADalKj2AAAAMFBMVEX///8QEBCIiIhmZma6urrM\n",
       "zMxUVFQiIiJERETc3Nzu7u6qqqp2dnaYmJgyMjIAAAAcRTyBAAAAAXRSTlMAQObYZgAACZJJREFU\n",
       "aN7tW1tsHFcZ/j3e2cvMTuwHLimtYAuIuojURgYHtS7ZwIMrJGQ7FSUSFV7ZTUgjWi8ENSUQ4kJJ\n",
       "3BTkBaTWKmo8UVGbujQdGlltpUR1m3JLKCxxhSJImi0tD+1LoqRxnVvDuc25zPxj777Aw+ZIO3vm\n",
       "n2++/99zvjmXf2yA+su3NlfgSmmK0rd5thF4+UqLNU3Jla4oo5HyaDP8SLfClVGjJ8frVMYy+uVV\n",
       "m1UYzhj7smuN3fZNjKpj5K6cOWJ7o/PdG+6vn/Yfl0d6xovoJW90Yf34nfVTmfg7uTIO0/o7dSoj\n",
       "H5CvZX6zKmMZX2ctO6UPuwlYbUl2EkFfWwX3s1UT2UKEt2oAY8CZlwO0nsUvtRHxnghgKa4cit/L\n",
       "lTFJv8bqVAYDTjbtZDLHv14/r6ulC8e+qR7Ik34MvWcLOayqmMghopT+LoQBZ7YvAaTO4E6HCkQ1\n",
       "7bAUlwzewOcLTBl0BMgH9a4z6OByuGmV8X0+Eew7p9nWbkGh9g4ph6dWVWLoN+jV1RFkJ8GdKCAM\n",
       "OLNFwvBO4047ydCTugRLccngDbzTzpThHZqefrjuFeix6eknm3YhmuO/3LPe1Yx3fBzFpr8ku7ja\n",
       "WYyiWy/Q460R5H2kUz7sIww4c5Z04O4tuNMJGu5FWIpLBm/i3+J7k4Xx8R/WrYy28fEds82qDIuP\n",
       "vV9xL2kryVoGxe6VO7mU/2I1ip5iF5+MIOcBvr4RYUhgbiuBfY+PO12gjueX4lLBm/iDXBnrAB6o\n",
       "WxnpAcg2bbory3rYKdraEJ4P8Kn4sJx0f8MmcRP9twKCtOePd/wAY0hgHrrryI4Av8QitC4uxSWD\n",
       "j+Bf58r4MpEOOKP1KSPVxVaukKQPqbFbzhzcEIekJnp7DBl623stCrtlHoNHzCnZRbhzaY65SYjp\n",
       "6Mjs9Qz+bQweM2cCHkWOLvvWChvkanhb7RK1Ikx1he0borcNIEi6bthdksyKIYGZLEucD+GXLLpl\n",
       "Sb8L9tiiXDL4EC/Kc1wZGbDIs9CXoAZ70ytwbUllusqwgtVPoBtpT5J77ZBvjwP+DvCSPnP/G5z7\n",
       "BNy+CuEzzNmwgjvXzBE3CTHtKsCedgEfrKDBGuYWxn9bdw8Ze29dyW1H2KAbd1WgwytrwJHu0bGw\n",
       "fUP0x9gk4JtIum6wLoTMyp7ETBuuM0AvZem+uq3d7i4vyiWDF3i5s+HKyFczfGqJl6cO3gzP5/1W\n",
       "XynjVT5jOavQdNdjcgZuLYF7Pg7oAXhRmxqnSFsfFXBYH4eb5lAZCc41c8QNHlOOyNgbE/B0CQ3W\n",
       "MHNlkMNHQT5KZAV4G/Y0+mCXwoGupRa2b4jexnKNAyaSrBvAOh0yK3sSM10WdBbQS230Z52oQqq8\n",
       "KJcMPsSbysjV6NWfY/J88BEfDhS68mo2gV3cRf4JdBt/aJOMsgCtyDD7XYAvaqd06btGwOE6pBkM\n",
       "c6iMBOeaOeIGjylDltJ2QcCtMhqsYWaziUs+35HKcLtk/sso+8jnbVYj92TaRftKNNvH5iNIms6g\n",
       "I3pfxJ7ATNMZMFpEndKVjbMcQmUkcKngQ7wofeK9yQN3kAPdons3r/mE9akBUaMrEFJmZn6pKyP7\n",
       "EItlTRZLjtmF8bD6zADcEH9qnbNgaflWiz7B0wKOjf+mOVQG7lwzR9wkxNRJ6o7P4djUFzOzFeiv\n",
       "RVKzT2ZFXUSnb4v+gFzAc6bnDPQUFeQhE8nSGUNy4lH2BGa6LLEXtE7Tqcj53ppURgKXCl7gebfL\n",
       "FSjsI7fbtAW81dWWjVZJ1Cr8lcpM/unbNWW4fBYstZKTjbGtNqyE3FZW7V/RQYjSEXGkTh/Zrj+E\n",
       "sof7yefuOKMwR5SBO2fmh6uamxgbi0mWe2VUpOfStXiw3KwNSl0ipzFRCftvrRiU4RkCdN4XFb7y\n",
       "y1A+mirKnuPtq9B037uPuVNIeIO4XO4LZmVPYl5GKFfv1DpNoyLSTdHhmytDXlA07CDDCfG82wF6\n",
       "hTLaiIAtevMj10FbsXVW1HyHyWkGZg9qygC2Y/MC6xTc/pFo3/wLOgF+yqp/pdOA/VKksfM1Y3xu\n",
       "k6kRAodr4ozcHFFGgnNmzg4oNxibPmNd1KKCllksWGLWpVIGZ+J9H56/vClUBh1ugaaLMrQl7wkr\n",
       "aTqwWqRd91x+B9yJ97pY+yo0PLZ9hM8DEgl30xdkQTgaKXsCc/rkfPeGB/VOM6jW/6QilaEuSBp2\n",
       "kOGEeNbt5Pw/QhkeOcmy+XYYBsXWbBhWg33v+PiPiTIezejK+CfLnPT+6byQmz78vvmXCR/4+Psz\n",
       "MmQGQsHaeDwLuQvmTO9UBdxtjzMKs6kM3Dk3t+huELapwFzkPC3g8DvAgqXmWHZczsV8OUqeyfiG\n",
       "lx217QBvXwQdQwpmxJ6Al52G3MKVkcQVD2eYZeydsvb3GS1fo8cPQgdM2bzWa0OJjxmpNboyWLkR\n",
       "cmfjLU/2MFMD4u0c6Zj+Sqyx2wJInYO5A3Pf+D27YSxchxH47mKckZvnDhzTlYE75+ZJzQ3G1l/x\n",
       "bjr++f2slb5APrMC7nwAsGCJmeDluDEXU0a9hbdvfaUxZq3TkJRMuVEu0u3hGzXRChZM+rlTRDRH\n",
       "87z2vRlgvfcawLGoMlLkOb/EWp5Ad4YH+CrhqXrked0JufOQu4Y1trpOEFM+/GIWnq21BPvpvbAV\n",
       "nD9ThE3gb7FJT8GV+dmxjKYM5dzAcvMxRsvdGPHJmNwb4GqXxZipwm8rFD7kw64iC9b4Odzsdqjf\n",
       "rWfYnmuoyUn71l0aYw47DS1uuVEu0u3hW3jxuL8Cg0GqRFaxDx3itc9UIUvGqNSPimRhGVHGxBhM\n",
       "vlelLT8Y2FfBYIUeguwC5Ca2thbBvhr+eKZ7A29scsKvVwaD/Lbunvtpiv0J+By9F/IjL/sCPuIz\n",
       "ZSi4MqcH1mrKUM4NLDczWuHGiE/FtM4p8xjhD72fDuE38jWa/nNC8zpbrpMdtSf61bbhRtqctG+9\n",
       "pUHmsNPQnl45X2iQi3Q7S2Qbf+0XxGodZJ1hZsejiZL4TRmX7/nDFIs6kdgM2UKVA3Xu6ozqRLHA\n",
       "iqKRA5VL/BhWpzXjk9iy22XEGOjBxtsAytZr0tgUf+3nVSLKcCvxWuy9iZE/OBMgN+WvB3ghzG90\n",
       "3qROFPZx+CQMV9T5CzqjPFG1x2F/NaoMCkWwL2u0ZnwhwilZxbQWo0TQYJE2cEruq0349lBXhofU\n",
       "FlVG8k1G8rqaROstDodYCjwbNaBYD4+vmnCvt/TPgSZXxtJl8//5/01a4Ur5H5W+zaX/AgOcT25J\n",
       "crJTAAAAAElFTkSuQmCC\n",
       "\" style=\"display:inline;vertical-align:middle;\" /></a><br>(see <a class=\"ProveItLink\" href=\"../../../__pv_it/theorems/6578768f81aa259a83006c36dbf572f1314c1dc70/dependencies.ipynb\">dependencies</a>)<br>"
      ],
      "text/plain": [
       "leftward_commute: forall_{l, m, n in Natural} [forall_{A_{1}, ..A_{_a}.., A_{l}, B_{1}, ..B_{_a}.., B_{m}, C, D_{1}, ..D_{_a}.., D_{n} | A_{1}, ..A_{_a}.., A_{l}, B_{1}, ..B_{_a}.., B_{m}, C, D_{1}, ..D_{_a}.., D_{n}} (A_{1} and ..A_{_a}.. and A_{l} and C and B_{1} and ..B_{_a}.. and B_{m} and D_{1} and ..D_{_a}.. and D_{n})]"
      ]
     },
     "execution_count": 2,
     "metadata": {},
     "output_type": "execute_result"
    }
   ],
   "source": [
    "%proving leftward_commute"
   ]
  },
  {
   "cell_type": "code",
   "execution_count": null,
   "metadata": {},
   "outputs": [],
   "source": []
  }
 ],
 "metadata": {
  "kernelspec": {
   "display_name": "Python 3",
   "language": "python",
   "name": "python3"
  }
 },
 "nbformat": 4,
 "nbformat_minor": 0
}