{
 "cells": [
  {
   "cell_type": "markdown",
   "metadata": {},
   "source": [
    "Expression of type <a class=\"ProveItLink\" href=\"../../../../../../../../doc/html/api/proveit.ExprTuple.html\">ExprTuple</a>\n",
    "=======================\n",
    "# from the theory of <a class=\"ProveItLink\" href=\"../../../_theory_nbs_/theory.ipynb\">proveit.logic.booleans.conjunction</a>"
   ]
  },
  {
   "cell_type": "code",
   "execution_count": 1,
   "metadata": {},
   "outputs": [],
   "source": [
    "import proveit\n",
    "# Automation is not needed when building an expression:\n",
    "proveit.defaults.automation = False # This will speed things up.\n",
    "proveit.defaults.inline_pngs = False # Makes files smaller.\n",
    "%load_expr # Load the stored expression as 'stored_expr'\n",
    "# import Expression classes needed to build the expression\n",
    "from proveit import A, B, ExprTuple\n",
    "from proveit.logic import And, Boolean, Equals, Forall"
   ]
  },
  {
   "cell_type": "code",
   "execution_count": 2,
   "metadata": {},
   "outputs": [
    {
     "data": {
      "text/html": [
       "<strong id=\"expr\">expr:</strong> <a class=\"ProveItLink\" href=\"expr.ipynb\"><img src=\"expr.png\" style=\"display:inline;vertical-align:middle;\" /></a><br>"
      ],
      "text/plain": [
       "expr: (forall_{A in BOOLEAN} [forall_{B in BOOLEAN} ((A and B) = (B and A))], forall_{A, B in BOOLEAN} ((A and B) = (B and A)))"
      ]
     },
     "execution_count": 2,
     "metadata": {},
     "output_type": "execute_result"
    }
   ],
   "source": [
    "# build up the expression from sub-expressions\n",
    "sub_expr1 = [Boolean]\n",
    "sub_expr2 = Equals(And(A, B), And(B, A))\n",
    "expr = ExprTuple(Forall([A], Forall([B], sub_expr2, domains = sub_expr1), domains = sub_expr1), Forall([A, B], sub_expr2, domains = [Boolean, Boolean]))"
   ]
  },
  {
   "cell_type": "code",
   "execution_count": 3,
   "metadata": {},
   "outputs": [
    {
     "name": "stdout",
     "output_type": "stream",
     "text": [
      "Passed sanity check: expr matches stored_expr\n"
     ]
    }
   ],
   "source": [
    "# check that the built expression is the same as the stored expression\n",
    "assert expr == stored_expr\n",
    "assert expr._style_id == stored_expr._style_id\n",
    "print(\"Passed sanity check: expr matches stored_expr\")"
   ]
  },
  {
   "cell_type": "code",
   "execution_count": 4,
   "metadata": {},
   "outputs": [
    {
     "name": "stdout",
     "output_type": "stream",
     "text": [
      "\\left(\\forall_{A \\in \\mathbb{B}}~\\left[\\forall_{B \\in \\mathbb{B}}~\\left(\\left(A \\land B\\right) = \\left(B \\land A\\right)\\right)\\right], \\forall_{A, B \\in \\mathbb{B}}~\\left(\\left(A \\land B\\right) = \\left(B \\land A\\right)\\right)\\right)\n"
     ]
    }
   ],
   "source": [
    "# Show the LaTeX representation of the expression for convenience if you need it.\n",
    "print(expr.latex())"
   ]
  },
  {
   "cell_type": "code",
   "execution_count": 5,
   "metadata": {},
   "outputs": [
    {
     "data": {
      "text/html": [
       "<table><tr><th>&nbsp;</th><th>core type</th><th>sub-expressions</th><th>expression</th></tr>\n",
       "<tr><td>0</td><td>ExprTuple</td><td>1, 2</td><td><a class=\"ProveItLink\" href=\"expr.ipynb\"><img src=\"expr.png\" style=\"display:inline;vertical-align:middle;\" /></a></td></tr>\n",
       "<tr><td>1</td><td>Operation</td><td>operator:&nbsp;9<br>operand:&nbsp;3<br></td><td><a class=\"ProveItLink\" href=\"../80afee663b85939055ddb7b213b939428c45e4cc0/expr.ipynb\"><img src=\"../80afee663b85939055ddb7b213b939428c45e4cc0/expr.png\" style=\"display:inline;vertical-align:middle;\" /></a></td></tr>\n",
       "<tr><td>2</td><td>Operation</td><td>operator:&nbsp;9<br>operand:&nbsp;4<br></td><td><a class=\"ProveItLink\" href=\"../../theorems/7af5d7dd0355a7142b6ea7ddcfb741f56f945f6a0/expr.ipynb\"><img src=\"../../theorems/7af5d7dd0355a7142b6ea7ddcfb741f56f945f6a0/expr.png\" style=\"display:inline;vertical-align:middle;\" /></a></td></tr>\n",
       "<tr><td>3</td><td>Lambda</td><td>parameter:&nbsp;28<br>body:&nbsp;5<br></td><td><a class=\"ProveItLink\" href=\"../d4efa52afafdc6090faefef8048a38dd0d35cc320/expr.ipynb\"><img src=\"../d4efa52afafdc6090faefef8048a38dd0d35cc320/expr.png\" style=\"display:inline;vertical-align:middle;\" /></a></td></tr>\n",
       "<tr><td>4</td><td>Lambda</td><td>parameters:&nbsp;24<br>body:&nbsp;6<br></td><td><a class=\"ProveItLink\" href=\"../../theorems/2a80e8d3ce0d18db73c6ba46f223df6bc3ded3b40/expr.ipynb\"><img src=\"../../theorems/2a80e8d3ce0d18db73c6ba46f223df6bc3ded3b40/expr.png\" style=\"display:inline;vertical-align:middle;\" /></a></td></tr>\n",
       "<tr><td>5</td><td>Conditional</td><td>value:&nbsp;7<br>condition:&nbsp;13<br></td><td><a class=\"ProveItLink\" href=\"../e6fae313c343dead3d0aee52959e438faf1ce9a50/expr.ipynb\"><img src=\"../e6fae313c343dead3d0aee52959e438faf1ce9a50/expr.png\" style=\"display:inline;vertical-align:middle;\" /></a></td></tr>\n",
       "<tr><td>6</td><td>Conditional</td><td>value:&nbsp;14<br>condition:&nbsp;8<br></td><td><a class=\"ProveItLink\" href=\"../../theorems/425c92f716f2176554b9c33a61629d19e704cdfc0/expr.ipynb\"><img src=\"../../theorems/425c92f716f2176554b9c33a61629d19e704cdfc0/expr.png\" style=\"display:inline;vertical-align:middle;\" /></a></td></tr>\n",
       "<tr><td>7</td><td>Operation</td><td>operator:&nbsp;9<br>operand:&nbsp;10<br></td><td><a class=\"ProveItLink\" href=\"../5d70b1232f43c60bbf66ba5fbe6f1ba4f7ddeb140/expr.ipynb\"><img src=\"../5d70b1232f43c60bbf66ba5fbe6f1ba4f7ddeb140/expr.png\" style=\"display:inline;vertical-align:middle;\" /></a></td></tr>\n",
       "<tr><td>8</td><td>Operation</td><td>operator:&nbsp;25<br>operands:&nbsp;11<br></td><td><a class=\"ProveItLink\" href=\"../../theorems/5b9bb6f3057b067968dd6fd367a7b75c33dd029f0/expr.ipynb\"><img src=\"../../theorems/5b9bb6f3057b067968dd6fd367a7b75c33dd029f0/expr.png\" style=\"display:inline;vertical-align:middle;\" /></a></td></tr>\n",
       "<tr><td>9</td><td>Literal</td><td></td><td><a class=\"ProveItLink\" href=\"../../../../quantification/universality/__pv_it/common/083d2baa0b8ecab1d230f9ec29a15aa1355809fb0/expr.ipynb\"><img src=\"../../../../quantification/universality/__pv_it/common/083d2baa0b8ecab1d230f9ec29a15aa1355809fb0/expr.png\" style=\"display:inline;vertical-align:middle;\" /></a></td></tr>\n",
       "<tr><td>10</td><td>Lambda</td><td>parameter:&nbsp;27<br>body:&nbsp;12<br></td><td><a class=\"ProveItLink\" href=\"../a1212abf02717a4b3c8eb76b19446f1e81855f510/expr.ipynb\"><img src=\"../a1212abf02717a4b3c8eb76b19446f1e81855f510/expr.png\" style=\"display:inline;vertical-align:middle;\" /></a></td></tr>\n",
       "<tr><td>11</td><td>ExprTuple</td><td>13, 15</td><td><a class=\"ProveItLink\" href=\"../../theorems/f9ae64c8de761e3aea9d166ad66f2e07120a9fde0/expr.ipynb\"><img src=\"../../theorems/f9ae64c8de761e3aea9d166ad66f2e07120a9fde0/expr.png\" style=\"display:inline;vertical-align:middle;\" /></a></td></tr>\n",
       "<tr><td>12</td><td>Conditional</td><td>value:&nbsp;14<br>condition:&nbsp;15<br></td><td><a class=\"ProveItLink\" href=\"../f0d0759736fa2104886001ca9dc9a21e5c6fa4f00/expr.ipynb\"><img src=\"../f0d0759736fa2104886001ca9dc9a21e5c6fa4f00/expr.png\" style=\"display:inline;vertical-align:middle;\" /></a></td></tr>\n",
       "<tr><td>13</td><td>Operation</td><td>operator:&nbsp;19<br>operands:&nbsp;16<br></td><td><a class=\"ProveItLink\" href=\"../../theorems/414e2da7a309b8ea0e77405db0c64f7feb9fa17e0/expr.ipynb\"><img src=\"../../theorems/414e2da7a309b8ea0e77405db0c64f7feb9fa17e0/expr.png\" style=\"display:inline;vertical-align:middle;\" /></a></td></tr>\n",
       "<tr><td>14</td><td>Operation</td><td>operator:&nbsp;17<br>operands:&nbsp;18<br></td><td><a class=\"ProveItLink\" href=\"../../theorems/27b7e73cb55d71f3b83fe0f042a64527bbbf8a370/expr.ipynb\"><img src=\"../../theorems/27b7e73cb55d71f3b83fe0f042a64527bbbf8a370/expr.png\" style=\"display:inline;vertical-align:middle;\" /></a></td></tr>\n",
       "<tr><td>15</td><td>Operation</td><td>operator:&nbsp;19<br>operands:&nbsp;20<br></td><td><a class=\"ProveItLink\" href=\"../../theorems/6b89b43e4cbb2b2a7f36bef7320ec444c4840e0e0/expr.ipynb\"><img src=\"../../theorems/6b89b43e4cbb2b2a7f36bef7320ec444c4840e0e0/expr.png\" style=\"display:inline;vertical-align:middle;\" /></a></td></tr>\n",
       "<tr><td>16</td><td>ExprTuple</td><td>28, 23</td><td><a class=\"ProveItLink\" href=\"../../theorems/71e21f013283363ece441aa9c43e819052d454d00/expr.ipynb\"><img src=\"../../theorems/71e21f013283363ece441aa9c43e819052d454d00/expr.png\" style=\"display:inline;vertical-align:middle;\" /></a></td></tr>\n",
       "<tr><td>17</td><td>Literal</td><td></td><td><a class=\"ProveItLink\" href=\"../../../../../equality/__pv_it/common/fb96dc12b2aa8801dda64d0132b396c63d1502bb0/expr.ipynb\"><img src=\"../../../../../equality/__pv_it/common/fb96dc12b2aa8801dda64d0132b396c63d1502bb0/expr.png\" style=\"display:inline;vertical-align:middle;\" /></a></td></tr>\n",
       "<tr><td>18</td><td>ExprTuple</td><td>21, 22</td><td><a class=\"ProveItLink\" href=\"../../theorems/8af7c8fafdd2d540d1b24625cbdfe722aa6493070/expr.ipynb\"><img src=\"../../theorems/8af7c8fafdd2d540d1b24625cbdfe722aa6493070/expr.png\" style=\"display:inline;vertical-align:middle;\" /></a></td></tr>\n",
       "<tr><td>19</td><td>Literal</td><td></td><td><a class=\"ProveItLink\" href=\"../../../../../sets/membership/__pv_it/common/477487d8796864d23d5810f83761435f25167f690/expr.ipynb\"><img src=\"../../../../../sets/membership/__pv_it/common/477487d8796864d23d5810f83761435f25167f690/expr.png\" style=\"display:inline;vertical-align:middle;\" /></a></td></tr>\n",
       "<tr><td>20</td><td>ExprTuple</td><td>27, 23</td><td><a class=\"ProveItLink\" href=\"../../theorems/b193ebcd6b21c9b60c917b2f2b0404fb0b4261ba0/expr.ipynb\"><img src=\"../../theorems/b193ebcd6b21c9b60c917b2f2b0404fb0b4261ba0/expr.png\" style=\"display:inline;vertical-align:middle;\" /></a></td></tr>\n",
       "<tr><td>21</td><td>Operation</td><td>operator:&nbsp;25<br>operands:&nbsp;24<br></td><td><a class=\"ProveItLink\" href=\"../../theorems/ffd8639669fdd5e29284503ab0e5d77da777efc70/expr.ipynb\"><img src=\"../../theorems/ffd8639669fdd5e29284503ab0e5d77da777efc70/expr.png\" style=\"display:inline;vertical-align:middle;\" /></a></td></tr>\n",
       "<tr><td>22</td><td>Operation</td><td>operator:&nbsp;25<br>operands:&nbsp;26<br></td><td><a class=\"ProveItLink\" href=\"../../theorems/c5ab27e5b1cc2526c3676f172e8972ebc82477160/expr.ipynb\"><img src=\"../../theorems/c5ab27e5b1cc2526c3676f172e8972ebc82477160/expr.png\" style=\"display:inline;vertical-align:middle;\" /></a></td></tr>\n",
       "<tr><td>23</td><td>Literal</td><td></td><td><a class=\"ProveItLink\" href=\"../../../../__pv_it/common/97424376de9815ad99f7180e3191b1cf4ab2a5710/expr.ipynb\"><img src=\"../../../../__pv_it/common/97424376de9815ad99f7180e3191b1cf4ab2a5710/expr.png\" style=\"display:inline;vertical-align:middle;\" /></a></td></tr>\n",
       "<tr><td>24</td><td>ExprTuple</td><td>28, 27</td><td><a class=\"ProveItLink\" href=\"../../theorems/8168c562b942d2349bc15878d637d47dc90786870/expr.ipynb\"><img src=\"../../theorems/8168c562b942d2349bc15878d637d47dc90786870/expr.png\" style=\"display:inline;vertical-align:middle;\" /></a></td></tr>\n",
       "<tr><td>25</td><td>Literal</td><td></td><td><a class=\"ProveItLink\" href=\"../../common/42118ff318bd65d98b1393f64ce7c2269feef76e0/expr.ipynb\"><img src=\"../../common/42118ff318bd65d98b1393f64ce7c2269feef76e0/expr.png\" style=\"display:inline;vertical-align:middle;\" /></a></td></tr>\n",
       "<tr><td>26</td><td>ExprTuple</td><td>27, 28</td><td><a class=\"ProveItLink\" href=\"../../theorems/f1a11a4fdc9d61982644166215b3707f047bf7140/expr.ipynb\"><img src=\"../../theorems/f1a11a4fdc9d61982644166215b3707f047bf7140/expr.png\" style=\"display:inline;vertical-align:middle;\" /></a></td></tr>\n",
       "<tr><td>27</td><td>Variable</td><td></td><td><a class=\"ProveItLink\" href=\"../../../../../../__pv_it/common/a9162d1c3cc0470c02e5daf414500903a7a419230/expr.ipynb\"><img src=\"../../../../../../__pv_it/common/a9162d1c3cc0470c02e5daf414500903a7a419230/expr.png\" style=\"display:inline;vertical-align:middle;\" /></a></td></tr>\n",
       "<tr><td>28</td><td>Variable</td><td></td><td><a class=\"ProveItLink\" href=\"../../../../../../__pv_it/common/09585084922504426caf1db2ff588a23a0932a960/expr.ipynb\"><img src=\"../../../../../../__pv_it/common/09585084922504426caf1db2ff588a23a0932a960/expr.png\" style=\"display:inline;vertical-align:middle;\" /></a></td></tr>\n",
       "</table>\n"
      ],
      "text/plain": [
       "0. (forall_{A in BOOLEAN} [forall_{B in BOOLEAN} ((A and B) = (B and A))], forall_{A, B in BOOLEAN} ((A and B) = (B and A)))\n",
       "   core type: ExprTuple\n",
       "   sub-expressions: 1, 2\n",
       "1. forall_{A in BOOLEAN} [forall_{B in BOOLEAN} ((A and B) = (B and A))]\n",
       "   core type: Operation\n",
       "   operator: 9\n",
       "   operand: 3\n",
       "2. forall_{A, B in BOOLEAN} ((A and B) = (B and A))\n",
       "   core type: Operation\n",
       "   operator: 9\n",
       "   operand: 4\n",
       "3. A -> {forall_{B in BOOLEAN} ((A and B) = (B and A)) if A in BOOLEAN.\n",
       "   core type: Lambda\n",
       "   parameter: 28\n",
       "   body: 5\n",
       "4. (A, B) -> {(A and B) = (B and A) if A in BOOLEAN ,  B in BOOLEAN.\n",
       "   core type: Lambda\n",
       "   parameters: 24\\n   body: 6\n",
       "5. {forall_{B in BOOLEAN} ((A and B) = (B and A)) if A in BOOLEAN.\n",
       "   core type: Conditional\n",
       "   value: 7\n",
       "   condition: 13\n",
       "6. {(A and B) = (B and A) if A in BOOLEAN ,  B in BOOLEAN.\n",
       "   core type: Conditional\n",
       "   value: 14\n",
       "   condition: 8\n",
       "7. forall_{B in BOOLEAN} ((A and B) = (B and A))\n",
       "   core type: Operation\n",
       "   operator: 9\n",
       "   operand: 10\n",
       "8. (A in BOOLEAN) and (B in BOOLEAN)\n",
       "   core type: Operation\n",
       "   operator: 25\n",
       "   operands: 11\n",
       "9. forall\n",
       "   core type: Literal\n",
       "   sub-expressions: \n",
       "10. B -> {(A and B) = (B and A) if B in BOOLEAN.\n",
       "    core type: Lambda\n",
       "    parameter: 27\n",
       "    body: 12\n",
       "11. (A in BOOLEAN, B in BOOLEAN)\n",
       "    core type: ExprTuple\n",
       "    sub-expressions: 13, 15\n",
       "12. {(A and B) = (B and A) if B in BOOLEAN.\n",
       "    core type: Conditional\n",
       "    value: 14\n",
       "    condition: 15\n",
       "13. A in BOOLEAN\n",
       "    core type: Operation\n",
       "    operator: 19\n",
       "    operands: 16\n",
       "14. (A and B) = (B and A)\n",
       "    core type: Operation\n",
       "    operator: 17\n",
       "    operands: 18\n",
       "15. B in BOOLEAN\n",
       "    core type: Operation\n",
       "    operator: 19\n",
       "    operands: 20\n",
       "16. (A, BOOLEAN)\n",
       "    core type: ExprTuple\n",
       "    sub-expressions: 28, 23\n",
       "17. =\n",
       "    core type: Literal\n",
       "    sub-expressions: \n",
       "18. (A and B, B and A)\n",
       "    core type: ExprTuple\n",
       "    sub-expressions: 21, 22\n",
       "19. in\n",
       "    core type: Literal\n",
       "    sub-expressions: \n",
       "20. (B, BOOLEAN)\n",
       "    core type: ExprTuple\n",
       "    sub-expressions: 27, 23\n",
       "21. A and B\n",
       "    core type: Operation\n",
       "    operator: 25\n",
       "    operands: 24\n",
       "22. B and A\n",
       "    core type: Operation\n",
       "    operator: 25\n",
       "    operands: 26\n",
       "23. BOOLEAN\n",
       "    core type: Literal\n",
       "    sub-expressions: \n",
       "24. (A, B)\n",
       "    core type: ExprTuple\n",
       "    sub-expressions: 28, 27\n",
       "25. and\n",
       "    core type: Literal\n",
       "    sub-expressions: \n",
       "26. (B, A)\n",
       "    core type: ExprTuple\n",
       "    sub-expressions: 27, 28\n",
       "27. B\n",
       "    core type: Variable\n",
       "    sub-expressions: \n",
       "28. A\n",
       "    core type: Variable\n",
       "    sub-expressions: "
      ]
     },
     "execution_count": 5,
     "metadata": {},
     "output_type": "execute_result"
    }
   ],
   "source": [
    "# display the expression information\n",
    "expr.expr_info()"
   ]
  },
  {
   "cell_type": "code",
   "execution_count": null,
   "metadata": {},
   "outputs": [],
   "source": []
  }
 ],
 "metadata": {
  "kernelspec": {
   "display_name": "Python 3",
   "language": "python",
   "name": "python3"
  }
 },
 "nbformat": 4,
 "nbformat_minor": 0
}