{
 "cells": [
  {
   "cell_type": "markdown",
   "metadata": {},
   "source": [
    "Show the Proof\n",
    "========"
   ]
  },
  {
   "cell_type": "code",
   "execution_count": 1,
   "metadata": {},
   "outputs": [
    {
     "data": {
      "text/html": [
       "<table><tr><th>&nbsp;</th><th>step type</th><th>requirements</th><th>statement</th></tr>\n",
       "<tr><td><a name=\"proveit.logic.booleans.conjunction._proof_nand_if_not_right.1d451fbee94dd0698e79edbe6107f2f79da366da0_step0\">0</a></td><td>instantiation</td><td><a href=\"#proveit.logic.booleans.conjunction._proof_nand_if_not_right.1d451fbee94dd0698e79edbe6107f2f79da366da0_step1\">1</a>, <a href=\"#proveit.logic.booleans.conjunction._proof_nand_if_not_right.1d451fbee94dd0698e79edbe6107f2f79da366da0_step2\">2</a>, <a href=\"#proveit.logic.booleans.conjunction._proof_nand_if_not_right.1d451fbee94dd0698e79edbe6107f2f79da366da0_step3\">3</a></td><td><span style=\"font-size:20px;\"><a class=\"ProveItLink\" href=\"../../theorems/303f482d5bc18658cf260ef56d927698c7912bf90/expr.ipynb\"><img src=\"../../theorems/303f482d5bc18658cf260ef56d927698c7912bf90/expr.png\" style=\"display:inline;vertical-align:middle;\" /></a> <a class=\"ProveItLink\" href=\"proof.ipynb\" style=\"text-decoration: none\">&nbsp;&#x22A2;&nbsp;&nbsp;</a><a class=\"ProveItLink\" href=\"../4a034c826bb3ef3e425155fd0d62499f2672d8790/expr.ipynb\"><img src=\"../4a034c826bb3ef3e425155fd0d62499f2672d8790/expr.png\" style=\"display:inline;vertical-align:middle;\" /></a></span></td></tr>\n",
       "<tr><td>&nbsp;</td><td colspan=4 style=\"text-align:left\"><span style=\"font-size:20px;\"><a class=\"ProveItLink\" href=\"../../../../../../__pv_it/common/09585084922504426caf1db2ff588a23a0932a960/expr.ipynb\"><img src=\"../../../../../../__pv_it/common/09585084922504426caf1db2ff588a23a0932a960/expr.png\" style=\"display:inline;vertical-align:middle;\" /></a> : <a class=\"ProveItLink\" href=\"../../../../__pv_it/common/e0f123f2e4f322e1eba7f861749cda9fd9d99a120/expr.ipynb\"><img src=\"../../../../__pv_it/common/e0f123f2e4f322e1eba7f861749cda9fd9d99a120/expr.png\" style=\"display:inline;vertical-align:middle;\" /></a>, <a class=\"ProveItLink\" href=\"../../../../../../__pv_it/common/a9162d1c3cc0470c02e5daf414500903a7a419230/expr.ipynb\"><img src=\"../../../../../../__pv_it/common/a9162d1c3cc0470c02e5daf414500903a7a419230/expr.png\" style=\"display:inline;vertical-align:middle;\" /></a> : <a class=\"ProveItLink\" href=\"../../../../../../__pv_it/common/a9162d1c3cc0470c02e5daf414500903a7a419230/expr.ipynb\"><img src=\"../../../../../../__pv_it/common/a9162d1c3cc0470c02e5daf414500903a7a419230/expr.png\" style=\"display:inline;vertical-align:middle;\" /></a></span></td></tr><tr><td><a name=\"proveit.logic.booleans.conjunction._proof_nand_if_not_right.1d451fbee94dd0698e79edbe6107f2f79da366da0_step1\">1</a></td><td>theorem</td><td></td><td><span style=\"font-size:20px;\"> <a class=\"ProveItLink\" href=\"../../../_theory_nbs_/proofs/nand_if_neither/thm_proof.ipynb\" style=\"text-decoration: none\">&nbsp;&#x22A2;&nbsp;&nbsp;</a><a class=\"ProveItLink\" href=\"../../theorems/9e93b4fbf6c213f7832750a1aa672c684e842b550/expr.ipynb\"><img src=\"../../theorems/9e93b4fbf6c213f7832750a1aa672c684e842b550/expr.png\" style=\"display:inline;vertical-align:middle;\" /></a></span></td></tr>\n",
       "<tr><td>&nbsp;</td><td colspan=4 style-\"text-align:left\"><a class=\"ProveItLink\" href=\"../../../_theory_nbs_/proofs/nand_if_neither/thm_proof.ipynb\">proveit.logic.booleans.conjunction.nand_if_neither</a></td></tr><tr><td><a name=\"proveit.logic.booleans.conjunction._proof_nand_if_not_right.1d451fbee94dd0698e79edbe6107f2f79da366da0_step2\">2</a></td><td>theorem</td><td></td><td><span style=\"font-size:20px;\"> <a class=\"ProveItLink\" href=\"../../../../negation/_theory_nbs_/proofs/not_false/thm_proof.ipynb\" style=\"text-decoration: none\">&nbsp;&#x22A2;&nbsp;&nbsp;</a><a class=\"ProveItLink\" href=\"../../../../negation/__pv_it/theorems/e1feaabc93f743fa3f5d29b2d0ee6b68d4ad3bc90/expr.ipynb\"><img src=\"../../../../negation/__pv_it/theorems/e1feaabc93f743fa3f5d29b2d0ee6b68d4ad3bc90/expr.png\" style=\"display:inline;vertical-align:middle;\" /></a></span></td></tr>\n",
       "<tr><td>&nbsp;</td><td colspan=4 style-\"text-align:left\"><a class=\"ProveItLink\" href=\"../../../../negation/_theory_nbs_/proofs/not_false/thm_proof.ipynb\">proveit.logic.booleans.negation.not_false</a></td></tr><tr><td><a name=\"proveit.logic.booleans.conjunction._proof_nand_if_not_right.1d451fbee94dd0698e79edbe6107f2f79da366da0_step3\">3</a></td><td>assumption</td><td></td><td><span style=\"font-size:20px;\"><a class=\"ProveItLink\" href=\"../../theorems/303f482d5bc18658cf260ef56d927698c7912bf90/expr.ipynb\"><img src=\"../../theorems/303f482d5bc18658cf260ef56d927698c7912bf90/expr.png\" style=\"display:inline;vertical-align:middle;\" /></a> <a class=\"ProveItLink\" href=\"../24532d4ddd07ff2906b369b597795c0d7f2d7de10/proof.ipynb\" style=\"text-decoration: none\">&nbsp;&#x22A2;&nbsp;&nbsp;</a><a class=\"ProveItLink\" href=\"../../theorems/303f482d5bc18658cf260ef56d927698c7912bf90/expr.ipynb\"><img src=\"../../theorems/303f482d5bc18658cf260ef56d927698c7912bf90/expr.png\" style=\"display:inline;vertical-align:middle;\" /></a></span></td></tr>\n",
       "</table>"
      ],
      "text/plain": [
       "<proveit._core_.proof._ShowProof at 0x7f9fc2c67978>"
      ]
     },
     "execution_count": 1,
     "metadata": {},
     "output_type": "execute_result"
    }
   ],
   "source": [
    "import proveit\n",
    "# Automation is not needed when only showing a stored proof:\n",
    "proveit.defaults.automation = False # This will speed things up.\n",
    "proveit.defaults.inline_pngs = False # Makes files smaller.\n",
    "%show_proof"
   ]
  },
  {
   "cell_type": "code",
   "execution_count": null,
   "metadata": {},
   "outputs": [],
   "source": []
  }
 ],
 "metadata": {
  "kernelspec": {
   "display_name": "Python 3",
   "language": "python",
   "name": "python3"
  }
 },
 "nbformat": 4,
 "nbformat_minor": 0
}