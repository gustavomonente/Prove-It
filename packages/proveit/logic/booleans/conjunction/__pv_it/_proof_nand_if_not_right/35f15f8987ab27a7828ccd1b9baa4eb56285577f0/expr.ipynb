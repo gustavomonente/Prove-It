{
 "cells": [
  {
   "cell_type": "markdown",
   "metadata": {},
   "source": [
    "Expression of type <a class=\"ProveItLink\" href=\"../../../../../../../../doc/html/api/proveit.ExprTuple.html\">ExprTuple</a>\n",
    "=======================\n",
    "# from the theory of <a class=\"ProveItLink\" href=\"../../../_theory_nbs_/theory.ipynb\">proveit.logic.booleans.conjunction</a>"
   ]
  },
  {
   "cell_type": "code",
   "execution_count": 1,
   "metadata": {},
   "outputs": [],
   "source": [
    "import proveit\n",
    "# Automation is not needed when building an expression:\n",
    "proveit.defaults.automation = False # This will speed things up.\n",
    "proveit.defaults.inline_pngs = False # Makes files smaller.\n",
    "%load_expr # Load the stored expression as 'stored_expr'\n",
    "# import Expression classes needed to build the expression\n",
    "from proveit import A, B, ExprTuple\n",
    "from proveit.logic import And, Boolean, Forall, Not"
   ]
  },
  {
   "cell_type": "code",
   "execution_count": 2,
   "metadata": {},
   "outputs": [
    {
     "data": {
      "text/html": [
       "<strong id=\"expr\">expr:</strong> <a class=\"ProveItLink\" href=\"expr.ipynb\"><img src=\"expr.png\" style=\"display:inline;vertical-align:middle;\" /></a><br>"
      ],
      "text/plain": [
       "expr: (forall_{A in BOOLEAN} [forall_{B in BOOLEAN | not(B)} not(A and B)], forall_{A, B in BOOLEAN | not(B)} not(A and B))"
      ]
     },
     "execution_count": 2,
     "metadata": {},
     "output_type": "execute_result"
    }
   ],
   "source": [
    "# build up the expression from sub-expressions\n",
    "sub_expr1 = [Boolean]\n",
    "sub_expr2 = Not(B)\n",
    "sub_expr3 = Not(And(A, B))\n",
    "expr = ExprTuple(Forall([A], Forall([B], sub_expr3, domains = sub_expr1, condition = sub_expr2), domains = sub_expr1), Forall([A, B], sub_expr3, domains = [Boolean, Boolean], condition = sub_expr2))"
   ]
  },
  {
   "cell_type": "code",
   "execution_count": 3,
   "metadata": {},
   "outputs": [
    {
     "name": "stdout",
     "output_type": "stream",
     "text": [
      "Passed sanity check: expr matches stored_expr\n"
     ]
    }
   ],
   "source": [
    "# check that the built expression is the same as the stored expression\n",
    "assert expr == stored_expr\n",
    "assert expr._style_id == stored_expr._style_id\n",
    "print(\"Passed sanity check: expr matches stored_expr\")"
   ]
  },
  {
   "cell_type": "code",
   "execution_count": 4,
   "metadata": {},
   "outputs": [
    {
     "name": "stdout",
     "output_type": "stream",
     "text": [
      "\\left(\\forall_{A \\in \\mathbb{B}}~\\left[\\forall_{B \\in \\mathbb{B}~|~\\lnot B}~(\\lnot \\left(A \\land B\\right))\\right], \\forall_{A, B \\in \\mathbb{B}~|~\\lnot B}~(\\lnot \\left(A \\land B\\right))\\right)\n"
     ]
    }
   ],
   "source": [
    "# Show the LaTeX representation of the expression for convenience if you need it.\n",
    "print(expr.latex())"
   ]
  },
  {
   "cell_type": "code",
   "execution_count": 5,
   "metadata": {},
   "outputs": [
    {
     "data": {
      "text/html": [
       "<table>\n",
       "<tr><th>name</th><th>description</th><th>default</th><th>current value</th><th>related methods</th></tr><tr><td>wrap_positions</td><td>position(s) at which wrapping is to occur; 'n' is after the nth comma.</td><td>()</td><td>()</td><td>('with_wrapping_at',)</td></tr>\n",
       "<tr><td>justification</td><td>if any wrap positions are set, justify to the 'left', 'center', or 'right'</td><td>left</td><td>left</td><td>('with_justification',)</td></tr>\n",
       "</table>\n"
      ],
      "text/plain": [
       "style name: wrap_positions\n",
       "description: position(s) at which wrapping is to occur; 'n' is after the nth comma.\n",
       "default: ()\n",
       "current value: ()\n",
       "related methods: ('with_wrapping_at',)\n",
       "style name: justification\n",
       "description: if any wrap positions are set, justify to the 'left', 'center', or 'right'\n",
       "default: left\n",
       "current value: left\n",
       "related methods: ('with_justification',)"
      ]
     },
     "execution_count": 5,
     "metadata": {},
     "output_type": "execute_result"
    }
   ],
   "source": [
    "expr.style_options()"
   ]
  },
  {
   "cell_type": "code",
   "execution_count": 6,
   "metadata": {},
   "outputs": [
    {
     "data": {
      "text/html": [
       "<table><tr><th>&nbsp;</th><th>core type</th><th>sub-expressions</th><th>expression</th></tr>\n",
       "<tr><td>0</td><td>ExprTuple</td><td>1, 2</td><td><a class=\"ProveItLink\" href=\"expr.ipynb\"><img src=\"expr.png\" style=\"display:inline;vertical-align:middle;\" /></a></td></tr>\n",
       "<tr><td>1</td><td>Operation</td><td>operator:&nbsp;11<br>operand:&nbsp;5<br></td><td><a class=\"ProveItLink\" href=\"../cbe52f9a16f6eefeef1658dc52851b405d809af00/expr.ipynb\"><img src=\"../cbe52f9a16f6eefeef1658dc52851b405d809af00/expr.png\" style=\"display:inline;vertical-align:middle;\" /></a></td></tr>\n",
       "<tr><td>2</td><td>Operation</td><td>operator:&nbsp;11<br>operand:&nbsp;6<br></td><td><a class=\"ProveItLink\" href=\"../../theorems/c9caac436242bb07f5e8915c2b30b84041df73250/expr.ipynb\"><img src=\"../../theorems/c9caac436242bb07f5e8915c2b30b84041df73250/expr.png\" style=\"display:inline;vertical-align:middle;\" /></a></td></tr>\n",
       "<tr><td>3</td><td>ExprTuple</td><td>5</td><td><a class=\"ProveItLink\" href=\"../d0c0a24d5c31b4edde4c7a61624057937055c1ae0/expr.ipynb\"><img src=\"../d0c0a24d5c31b4edde4c7a61624057937055c1ae0/expr.png\" style=\"display:inline;vertical-align:middle;\" /></a></td></tr>\n",
       "<tr><td>4</td><td>ExprTuple</td><td>6</td><td><a class=\"ProveItLink\" href=\"../../theorems/cd95c96120aa995f6ebaa3adcf1b2bbb9a05ff220/expr.ipynb\"><img src=\"../../theorems/cd95c96120aa995f6ebaa3adcf1b2bbb9a05ff220/expr.png\" style=\"display:inline;vertical-align:middle;\" /></a></td></tr>\n",
       "<tr><td>5</td><td>Lambda</td><td>parameter:&nbsp;31<br>body:&nbsp;7<br></td><td><a class=\"ProveItLink\" href=\"../640147197626a3a3fe5d4b3cf0d97f717ac0af840/expr.ipynb\"><img src=\"../640147197626a3a3fe5d4b3cf0d97f717ac0af840/expr.png\" style=\"display:inline;vertical-align:middle;\" /></a></td></tr>\n",
       "<tr><td>6</td><td>Lambda</td><td>parameters:&nbsp;26<br>body:&nbsp;8<br></td><td><a class=\"ProveItLink\" href=\"../../theorems/788bdecdfd66a3988b40e61ebda023647cfddea50/expr.ipynb\"><img src=\"../../theorems/788bdecdfd66a3988b40e61ebda023647cfddea50/expr.png\" style=\"display:inline;vertical-align:middle;\" /></a></td></tr>\n",
       "<tr><td>7</td><td>Conditional</td><td>value:&nbsp;9<br>condition:&nbsp;15<br></td><td><a class=\"ProveItLink\" href=\"../66df09da02e98c9eba305c1eb308ec9f1f76db0e0/expr.ipynb\"><img src=\"../66df09da02e98c9eba305c1eb308ec9f1f76db0e0/expr.png\" style=\"display:inline;vertical-align:middle;\" /></a></td></tr>\n",
       "<tr><td>8</td><td>Conditional</td><td>value:&nbsp;18<br>condition:&nbsp;10<br></td><td><a class=\"ProveItLink\" href=\"../../theorems/a12bf40977d64cedbfb721754252dbd1cd868a220/expr.ipynb\"><img src=\"../../theorems/a12bf40977d64cedbfb721754252dbd1cd868a220/expr.png\" style=\"display:inline;vertical-align:middle;\" /></a></td></tr>\n",
       "<tr><td>9</td><td>Operation</td><td>operator:&nbsp;11<br>operand:&nbsp;14<br></td><td><a class=\"ProveItLink\" href=\"../576d53930e45815d519e37a6cbd59d0ffdf3c3390/expr.ipynb\"><img src=\"../576d53930e45815d519e37a6cbd59d0ffdf3c3390/expr.png\" style=\"display:inline;vertical-align:middle;\" /></a></td></tr>\n",
       "<tr><td>10</td><td>Operation</td><td>operator:&nbsp;25<br>operands:&nbsp;13<br></td><td><a class=\"ProveItLink\" href=\"../../theorems/e40927811c2e0e0f8a62960071410a4e709c9d030/expr.ipynb\"><img src=\"../../theorems/e40927811c2e0e0f8a62960071410a4e709c9d030/expr.png\" style=\"display:inline;vertical-align:middle;\" /></a></td></tr>\n",
       "<tr><td>11</td><td>Literal</td><td></td><td><a class=\"ProveItLink\" href=\"../../../../quantification/universality/__pv_it/common/684d35ba98fcbf8ca5011f865e530a51e77730630/expr.ipynb\"><img src=\"../../../../quantification/universality/__pv_it/common/684d35ba98fcbf8ca5011f865e530a51e77730630/expr.png\" style=\"display:inline;vertical-align:middle;\" /></a></td></tr>\n",
       "<tr><td>12</td><td>ExprTuple</td><td>14</td><td><a class=\"ProveItLink\" href=\"../52109fb8f6c9e0f41f41782528e19ff30219a0580/expr.ipynb\"><img src=\"../52109fb8f6c9e0f41f41782528e19ff30219a0580/expr.png\" style=\"display:inline;vertical-align:middle;\" /></a></td></tr>\n",
       "<tr><td>13</td><td>ExprTuple</td><td>15, 23, 24</td><td><a class=\"ProveItLink\" href=\"../../theorems/18e7f107a125622d2e3b48fc4ce434f0e4e7f06c0/expr.ipynb\"><img src=\"../../theorems/18e7f107a125622d2e3b48fc4ce434f0e4e7f06c0/expr.png\" style=\"display:inline;vertical-align:middle;\" /></a></td></tr>\n",
       "<tr><td>14</td><td>Lambda</td><td>parameter:&nbsp;33<br>body:&nbsp;16<br></td><td><a class=\"ProveItLink\" href=\"../5dfd2a2b03bf2ff67e729c618d90fe51542bb4a50/expr.ipynb\"><img src=\"../5dfd2a2b03bf2ff67e729c618d90fe51542bb4a50/expr.png\" style=\"display:inline;vertical-align:middle;\" /></a></td></tr>\n",
       "<tr><td>15</td><td>Operation</td><td>operator:&nbsp;27<br>operands:&nbsp;17<br></td><td><a class=\"ProveItLink\" href=\"../../theorems/7cfa8b9c477c340a2bec05787809c87a088f07ac0/expr.ipynb\"><img src=\"../../theorems/7cfa8b9c477c340a2bec05787809c87a088f07ac0/expr.png\" style=\"display:inline;vertical-align:middle;\" /></a></td></tr>\n",
       "<tr><td>16</td><td>Conditional</td><td>value:&nbsp;18<br>condition:&nbsp;19<br></td><td><a class=\"ProveItLink\" href=\"../a99070f82ddd84e7e21794c2cc62b4fe446b09b70/expr.ipynb\"><img src=\"../a99070f82ddd84e7e21794c2cc62b4fe446b09b70/expr.png\" style=\"display:inline;vertical-align:middle;\" /></a></td></tr>\n",
       "<tr><td>17</td><td>ExprTuple</td><td>31, 32</td><td><a class=\"ProveItLink\" href=\"../../theorems/5b8642875a5af086e135f91f5fe6a0b1d15f8cb50/expr.ipynb\"><img src=\"../../theorems/5b8642875a5af086e135f91f5fe6a0b1d15f8cb50/expr.png\" style=\"display:inline;vertical-align:middle;\" /></a></td></tr>\n",
       "<tr><td>18</td><td>Operation</td><td>operator:&nbsp;29<br>operand:&nbsp;22<br></td><td><a class=\"ProveItLink\" href=\"../../theorems/f5a8a022a8afdd196c0e0c6074a50223d3d1c9e20/expr.ipynb\"><img src=\"../../theorems/f5a8a022a8afdd196c0e0c6074a50223d3d1c9e20/expr.png\" style=\"display:inline;vertical-align:middle;\" /></a></td></tr>\n",
       "<tr><td>19</td><td>Operation</td><td>operator:&nbsp;25<br>operands:&nbsp;21<br></td><td><a class=\"ProveItLink\" href=\"../2ed7c26d62a836d62b0d482c06d78428338eb67c0/expr.ipynb\"><img src=\"../2ed7c26d62a836d62b0d482c06d78428338eb67c0/expr.png\" style=\"display:inline;vertical-align:middle;\" /></a></td></tr>\n",
       "<tr><td>20</td><td>ExprTuple</td><td>22</td><td><a class=\"ProveItLink\" href=\"../../theorems/96f996b842014bd83c413e8962fe532da497c5d70/expr.ipynb\"><img src=\"../../theorems/96f996b842014bd83c413e8962fe532da497c5d70/expr.png\" style=\"display:inline;vertical-align:middle;\" /></a></td></tr>\n",
       "<tr><td>21</td><td>ExprTuple</td><td>23, 24</td><td><a class=\"ProveItLink\" href=\"../5ad318f49fff867813ee00d4e98754d6679e37fd0/expr.ipynb\"><img src=\"../5ad318f49fff867813ee00d4e98754d6679e37fd0/expr.png\" style=\"display:inline;vertical-align:middle;\" /></a></td></tr>\n",
       "<tr><td>22</td><td>Operation</td><td>operator:&nbsp;25<br>operands:&nbsp;26<br></td><td><a class=\"ProveItLink\" href=\"../../theorems/31290316bd0f2f2d1b0b60fcef076f96c80b2e2e0/expr.ipynb\"><img src=\"../../theorems/31290316bd0f2f2d1b0b60fcef076f96c80b2e2e0/expr.png\" style=\"display:inline;vertical-align:middle;\" /></a></td></tr>\n",
       "<tr><td>23</td><td>Operation</td><td>operator:&nbsp;27<br>operands:&nbsp;28<br></td><td><a class=\"ProveItLink\" href=\"../../theorems/67501eb487d67b93f0ec3f6965561f782e470d670/expr.ipynb\"><img src=\"../../theorems/67501eb487d67b93f0ec3f6965561f782e470d670/expr.png\" style=\"display:inline;vertical-align:middle;\" /></a></td></tr>\n",
       "<tr><td>24</td><td>Operation</td><td>operator:&nbsp;29<br>operand:&nbsp;33<br></td><td><a class=\"ProveItLink\" href=\"../../theorems/7e62a2cc7488cf98fcf25c6e4b2091ce54d5d3b80/expr.ipynb\"><img src=\"../../theorems/7e62a2cc7488cf98fcf25c6e4b2091ce54d5d3b80/expr.png\" style=\"display:inline;vertical-align:middle;\" /></a></td></tr>\n",
       "<tr><td>25</td><td>Literal</td><td></td><td><a class=\"ProveItLink\" href=\"../../common/26b94b53e70b1d77b70f0d9d4236347db37731060/expr.ipynb\"><img src=\"../../common/26b94b53e70b1d77b70f0d9d4236347db37731060/expr.png\" style=\"display:inline;vertical-align:middle;\" /></a></td></tr>\n",
       "<tr><td>26</td><td>ExprTuple</td><td>31, 33</td><td><a class=\"ProveItLink\" href=\"../../theorems/7aa24190517d6a40e915c207672cefb0d36c3b690/expr.ipynb\"><img src=\"../../theorems/7aa24190517d6a40e915c207672cefb0d36c3b690/expr.png\" style=\"display:inline;vertical-align:middle;\" /></a></td></tr>\n",
       "<tr><td>27</td><td>Literal</td><td></td><td><a class=\"ProveItLink\" href=\"../../../../../sets/membership/__pv_it/common/7171deca84f71f47a6ec7696972d1632274a12880/expr.ipynb\"><img src=\"../../../../../sets/membership/__pv_it/common/7171deca84f71f47a6ec7696972d1632274a12880/expr.png\" style=\"display:inline;vertical-align:middle;\" /></a></td></tr>\n",
       "<tr><td>28</td><td>ExprTuple</td><td>33, 32</td><td><a class=\"ProveItLink\" href=\"../../theorems/b464bb5e9f3209bc967a4021ab40c71e0755ea4e0/expr.ipynb\"><img src=\"../../theorems/b464bb5e9f3209bc967a4021ab40c71e0755ea4e0/expr.png\" style=\"display:inline;vertical-align:middle;\" /></a></td></tr>\n",
       "<tr><td>29</td><td>Literal</td><td></td><td><a class=\"ProveItLink\" href=\"../../../../negation/__pv_it/common/44cff78c6737753417865a5233f827322c0f04ad0/expr.ipynb\"><img src=\"../../../../negation/__pv_it/common/44cff78c6737753417865a5233f827322c0f04ad0/expr.png\" style=\"display:inline;vertical-align:middle;\" /></a></td></tr>\n",
       "<tr><td>30</td><td>ExprTuple</td><td>33</td><td><a class=\"ProveItLink\" href=\"../../theorems/012b0094f536af98194e412c455f1250186fffc30/expr.ipynb\"><img src=\"../../theorems/012b0094f536af98194e412c455f1250186fffc30/expr.png\" style=\"display:inline;vertical-align:middle;\" /></a></td></tr>\n",
       "<tr><td>31</td><td>Variable</td><td></td><td><a class=\"ProveItLink\" href=\"../../../../../../__pv_it/common/e4aad701f7f5516d8e7f0d805d518bf02c13322a0/expr.ipynb\"><img src=\"../../../../../../__pv_it/common/e4aad701f7f5516d8e7f0d805d518bf02c13322a0/expr.png\" style=\"display:inline;vertical-align:middle;\" /></a></td></tr>\n",
       "<tr><td>32</td><td>Literal</td><td></td><td><a class=\"ProveItLink\" href=\"../../../../__pv_it/common/8fc291135425020cce4ba1ad615843f54f1fc6600/expr.ipynb\"><img src=\"../../../../__pv_it/common/8fc291135425020cce4ba1ad615843f54f1fc6600/expr.png\" style=\"display:inline;vertical-align:middle;\" /></a></td></tr>\n",
       "<tr><td>33</td><td>Variable</td><td></td><td><a class=\"ProveItLink\" href=\"../../../../../../__pv_it/common/4eca3b30dcf58a58494e201d1b7886d8643a617b0/expr.ipynb\"><img src=\"../../../../../../__pv_it/common/4eca3b30dcf58a58494e201d1b7886d8643a617b0/expr.png\" style=\"display:inline;vertical-align:middle;\" /></a></td></tr>\n",
       "</table>\n"
      ],
      "text/plain": [
       "0. (forall_{A in BOOLEAN} [forall_{B in BOOLEAN | not(B)} not(A and B)], forall_{A, B in BOOLEAN | not(B)} not(A and B))\n",
       "   core type: ExprTuple\n",
       "   sub-expressions: 1, 2\n",
       "1. forall_{A in BOOLEAN} [forall_{B in BOOLEAN | not(B)} not(A and B)]\n",
       "   core type: Operation\n",
       "   operator: 11\n",
       "   operand: 5\n",
       "2. forall_{A, B in BOOLEAN | not(B)} not(A and B)\n",
       "   core type: Operation\n",
       "   operator: 11\n",
       "   operand: 6\n",
       "3. (A -> {forall_{B in BOOLEAN | not(B)} not(A and B) if A in BOOLEAN.)\n",
       "   core type: ExprTuple\n",
       "   sub-expressions: 5\n",
       "4. ((A, B) -> {not(A and B) if A in BOOLEAN ,  B in BOOLEAN ,  not(B).)\n",
       "   core type: ExprTuple\n",
       "   sub-expressions: 6\n",
       "5. A -> {forall_{B in BOOLEAN | not(B)} not(A and B) if A in BOOLEAN.\n",
       "   core type: Lambda\n",
       "   parameter: 31\n",
       "   body: 7\n",
       "6. (A, B) -> {not(A and B) if A in BOOLEAN ,  B in BOOLEAN ,  not(B).\n",
       "   core type: Lambda\n",
       "   parameters: 26\\n   body: 8\n",
       "7. {forall_{B in BOOLEAN | not(B)} not(A and B) if A in BOOLEAN.\n",
       "   core type: Conditional\n",
       "   value: 9\n",
       "   condition: 15\n",
       "8. {not(A and B) if A in BOOLEAN ,  B in BOOLEAN ,  not(B).\n",
       "   core type: Conditional\n",
       "   value: 18\n",
       "   condition: 10\n",
       "9. forall_{B in BOOLEAN | not(B)} not(A and B)\n",
       "   core type: Operation\n",
       "   operator: 11\n",
       "   operand: 14\n",
       "10. (A in BOOLEAN) and (B in BOOLEAN) and not(B)\n",
       "    core type: Operation\n",
       "    operator: 25\n",
       "    operands: 13\n",
       "11. forall\n",
       "    core type: Literal\n",
       "    sub-expressions: \n",
       "12. (B -> {not(A and B) if B in BOOLEAN ,  not(B).)\n",
       "    core type: ExprTuple\n",
       "    sub-expressions: 14\n",
       "13. (A in BOOLEAN, B in BOOLEAN, not(B))\n",
       "    core type: ExprTuple\n",
       "    sub-expressions: 15, 23, 24\n",
       "14. B -> {not(A and B) if B in BOOLEAN ,  not(B).\n",
       "    core type: Lambda\n",
       "    parameter: 33\n",
       "    body: 16\n",
       "15. A in BOOLEAN\n",
       "    core type: Operation\n",
       "    operator: 27\n",
       "    operands: 17\n",
       "16. {not(A and B) if B in BOOLEAN ,  not(B).\n",
       "    core type: Conditional\n",
       "    value: 18\n",
       "    condition: 19\n",
       "17. (A, BOOLEAN)\n",
       "    core type: ExprTuple\n",
       "    sub-expressions: 31, 32\n",
       "18. not(A and B)\n",
       "    core type: Operation\n",
       "    operator: 29\n",
       "    operand: 22\n",
       "19. (B in BOOLEAN) and not(B)\n",
       "    core type: Operation\n",
       "    operator: 25\n",
       "    operands: 21\n",
       "20. (A and B)\n",
       "    core type: ExprTuple\n",
       "    sub-expressions: 22\n",
       "21. (B in BOOLEAN, not(B))\n",
       "    core type: ExprTuple\n",
       "    sub-expressions: 23, 24\n",
       "22. A and B\n",
       "    core type: Operation\n",
       "    operator: 25\n",
       "    operands: 26\n",
       "23. B in BOOLEAN\n",
       "    core type: Operation\n",
       "    operator: 27\n",
       "    operands: 28\n",
       "24. not(B)\n",
       "    core type: Operation\n",
       "    operator: 29\n",
       "    operand: 33\n",
       "25. and\n",
       "    core type: Literal\n",
       "    sub-expressions: \n",
       "26. (A, B)\n",
       "    core type: ExprTuple\n",
       "    sub-expressions: 31, 33\n",
       "27. in\n",
       "    core type: Literal\n",
       "    sub-expressions: \n",
       "28. (B, BOOLEAN)\n",
       "    core type: ExprTuple\n",
       "    sub-expressions: 33, 32\n",
       "29. not\n",
       "    core type: Literal\n",
       "    sub-expressions: \n",
       "30. (B)\n",
       "    core type: ExprTuple\n",
       "    sub-expressions: 33\n",
       "31. A\n",
       "    core type: Variable\n",
       "    sub-expressions: \n",
       "32. BOOLEAN\n",
       "    core type: Literal\n",
       "    sub-expressions: \n",
       "33. B\n",
       "    core type: Variable\n",
       "    sub-expressions: "
      ]
     },
     "execution_count": 6,
     "metadata": {},
     "output_type": "execute_result"
    }
   ],
   "source": [
    "# display the expression information\n",
    "expr.expr_info()"
   ]
  },
  {
   "cell_type": "code",
   "execution_count": null,
   "metadata": {},
   "outputs": [],
   "source": []
  }
 ],
 "metadata": {
  "kernelspec": {
   "display_name": "Python 3",
   "language": "python",
   "name": "python3"
  }
 },
 "nbformat": 4,
 "nbformat_minor": 0
}