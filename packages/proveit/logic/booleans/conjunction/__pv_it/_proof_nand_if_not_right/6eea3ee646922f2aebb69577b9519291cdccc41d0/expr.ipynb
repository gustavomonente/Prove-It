{
 "cells": [
  {
   "cell_type": "markdown",
   "metadata": {},
   "source": [
    "Expression of type <a class=\"ProveItLink\" href=\"../../../../../../../../doc/html/api/proveit.ExprTuple.html\">ExprTuple</a>\n",
    "=======================\n",
    "# from the theory of <a class=\"ProveItLink\" href=\"../../../_theory_nbs_/theory.ipynb\">proveit.logic.booleans.conjunction</a>"
   ]
  },
  {
   "cell_type": "code",
   "execution_count": 1,
   "metadata": {},
   "outputs": [],
   "source": [
    "import proveit\n",
    "# Automation is not needed when building an expression:\n",
    "proveit.defaults.automation = False # This will speed things up.\n",
    "proveit.defaults.inline_pngs = False # Makes files smaller.\n",
    "%load_expr # Load the stored expression as 'stored_expr'\n",
    "# import Expression classes needed to build the expression\n",
    "from proveit import A, B, Conditional, ExprTuple\n",
    "from proveit.logic import And, Boolean, InSet, Not"
   ]
  },
  {
   "cell_type": "code",
   "execution_count": 2,
   "metadata": {},
   "outputs": [
    {
     "data": {
      "text/html": [
       "<strong id=\"expr\">expr:</strong> <a class=\"ProveItLink\" href=\"expr.ipynb\"><img src=\"expr.png\" style=\"display:inline;vertical-align:middle;\" /></a><br>"
      ],
      "text/plain": [
       "expr: ([not](A and B) if A in BOOLEAN ,  (B in BOOLEAN) and [not](B), [not](A and B) if A in BOOLEAN ,  B in BOOLEAN ,  [not](B))"
      ]
     },
     "execution_count": 2,
     "metadata": {},
     "output_type": "execute_result"
    }
   ],
   "source": [
    "# build up the expression from sub-expressions\n",
    "sub_expr1 = Not(B)\n",
    "sub_expr2 = InSet(A, Boolean)\n",
    "sub_expr3 = InSet(B, Boolean)\n",
    "sub_expr4 = Not(And(A, B))\n",
    "expr = ExprTuple(Conditional(sub_expr4, And(sub_expr2, And(sub_expr3, sub_expr1))), Conditional(sub_expr4, And(sub_expr2, sub_expr3, sub_expr1)))"
   ]
  },
  {
   "cell_type": "code",
   "execution_count": 3,
   "metadata": {},
   "outputs": [
    {
     "name": "stdout",
     "output_type": "stream",
     "text": [
      "Passed sanity check: expr matches stored_expr\n"
     ]
    }
   ],
   "source": [
    "# check that the built expression is the same as the stored expression\n",
    "assert expr == stored_expr\n",
    "assert expr._style_id == stored_expr._style_id\n",
    "print(\"Passed sanity check: expr matches stored_expr\")"
   ]
  },
  {
   "cell_type": "code",
   "execution_count": 4,
   "metadata": {},
   "outputs": [
    {
     "name": "stdout",
     "output_type": "stream",
     "text": [
      "\\left(\\lnot \\left(A \\land B\\right) \\textrm{ if } A \\in \\mathbb{B} ,  \\left(B \\in \\mathbb{B}\\right) \\land (\\lnot B), \\lnot \\left(A \\land B\\right) \\textrm{ if } A \\in \\mathbb{B} ,  B \\in \\mathbb{B} ,  \\lnot B\\right)\n"
     ]
    }
   ],
   "source": [
    "# Show the LaTeX representation of the expression for convenience if you need it.\n",
    "print(expr.latex())"
   ]
  },
  {
   "cell_type": "code",
   "execution_count": 5,
   "metadata": {},
   "outputs": [
    {
     "data": {
      "text/html": [
       "<table><tr><th>&nbsp;</th><th>core type</th><th>sub-expressions</th><th>expression</th></tr>\n",
       "<tr><td>0</td><td>ExprTuple</td><td>1, 2</td><td><a class=\"ProveItLink\" href=\"expr.ipynb\"><img src=\"expr.png\" style=\"display:inline;vertical-align:middle;\" /></a></td></tr>\n",
       "<tr><td>1</td><td>Conditional</td><td>value:&nbsp;4<br>condition:&nbsp;3<br></td><td><a class=\"ProveItLink\" href=\"../6ce34db6dc464b4e4a9d179eaef240692d00278d0/expr.ipynb\"><img src=\"../6ce34db6dc464b4e4a9d179eaef240692d00278d0/expr.png\" style=\"display:inline;vertical-align:middle;\" /></a></td></tr>\n",
       "<tr><td>2</td><td>Conditional</td><td>value:&nbsp;4<br>condition:&nbsp;5<br></td><td><a class=\"ProveItLink\" href=\"../../theorems/9048b7e5db533f95e974f8c90cc55dbed8df490d0/expr.ipynb\"><img src=\"../../theorems/9048b7e5db533f95e974f8c90cc55dbed8df490d0/expr.png\" style=\"display:inline;vertical-align:middle;\" /></a></td></tr>\n",
       "<tr><td>3</td><td>Operation</td><td>operator:&nbsp;12<br>operands:&nbsp;6<br></td><td><a class=\"ProveItLink\" href=\"../ec45f3cf4fc0506d0e8379db7cb7e7b3c63d4c410/expr.ipynb\"><img src=\"../ec45f3cf4fc0506d0e8379db7cb7e7b3c63d4c410/expr.png\" style=\"display:inline;vertical-align:middle;\" /></a></td></tr>\n",
       "<tr><td>4</td><td>Operation</td><td>operator:&nbsp;20<br>operand:&nbsp;7<br></td><td><a class=\"ProveItLink\" href=\"../../theorems/2e0fdca22b7fa6cecbeccfc7e4e7dc56cc202b370/expr.ipynb\"><img src=\"../../theorems/2e0fdca22b7fa6cecbeccfc7e4e7dc56cc202b370/expr.png\" style=\"display:inline;vertical-align:middle;\" /></a></td></tr>\n",
       "<tr><td>5</td><td>Operation</td><td>operator:&nbsp;12<br>operands:&nbsp;8<br></td><td><a class=\"ProveItLink\" href=\"../../theorems/096c1360dc85e9da63417caceb70ef9fff49e6ad0/expr.ipynb\"><img src=\"../../theorems/096c1360dc85e9da63417caceb70ef9fff49e6ad0/expr.png\" style=\"display:inline;vertical-align:middle;\" /></a></td></tr>\n",
       "<tr><td>6</td><td>ExprTuple</td><td>11, 9</td><td><a class=\"ProveItLink\" href=\"../792017ff6acef6d91a15bb8b0df64b6f843d22980/expr.ipynb\"><img src=\"../792017ff6acef6d91a15bb8b0df64b6f843d22980/expr.png\" style=\"display:inline;vertical-align:middle;\" /></a></td></tr>\n",
       "<tr><td>7</td><td>Operation</td><td>operator:&nbsp;12<br>operands:&nbsp;10<br></td><td><a class=\"ProveItLink\" href=\"../../theorems/ffd8639669fdd5e29284503ab0e5d77da777efc70/expr.ipynb\"><img src=\"../../theorems/ffd8639669fdd5e29284503ab0e5d77da777efc70/expr.png\" style=\"display:inline;vertical-align:middle;\" /></a></td></tr>\n",
       "<tr><td>8</td><td>ExprTuple</td><td>11, 15, 16</td><td><a class=\"ProveItLink\" href=\"../../theorems/9216b44ee90a7f9c7929a3bbf79f5c04a7b716b90/expr.ipynb\"><img src=\"../../theorems/9216b44ee90a7f9c7929a3bbf79f5c04a7b716b90/expr.png\" style=\"display:inline;vertical-align:middle;\" /></a></td></tr>\n",
       "<tr><td>9</td><td>Operation</td><td>operator:&nbsp;12<br>operands:&nbsp;13<br></td><td><a class=\"ProveItLink\" href=\"../7e69fdd8b8cca3954c42ed5f8fa2280cb70d3e7d0/expr.ipynb\"><img src=\"../7e69fdd8b8cca3954c42ed5f8fa2280cb70d3e7d0/expr.png\" style=\"display:inline;vertical-align:middle;\" /></a></td></tr>\n",
       "<tr><td>10</td><td>ExprTuple</td><td>17, 21</td><td><a class=\"ProveItLink\" href=\"../../theorems/8168c562b942d2349bc15878d637d47dc90786870/expr.ipynb\"><img src=\"../../theorems/8168c562b942d2349bc15878d637d47dc90786870/expr.png\" style=\"display:inline;vertical-align:middle;\" /></a></td></tr>\n",
       "<tr><td>11</td><td>Operation</td><td>operator:&nbsp;18<br>operands:&nbsp;14<br></td><td><a class=\"ProveItLink\" href=\"../../theorems/414e2da7a309b8ea0e77405db0c64f7feb9fa17e0/expr.ipynb\"><img src=\"../../theorems/414e2da7a309b8ea0e77405db0c64f7feb9fa17e0/expr.png\" style=\"display:inline;vertical-align:middle;\" /></a></td></tr>\n",
       "<tr><td>12</td><td>Literal</td><td></td><td><a class=\"ProveItLink\" href=\"../../common/42118ff318bd65d98b1393f64ce7c2269feef76e0/expr.ipynb\"><img src=\"../../common/42118ff318bd65d98b1393f64ce7c2269feef76e0/expr.png\" style=\"display:inline;vertical-align:middle;\" /></a></td></tr>\n",
       "<tr><td>13</td><td>ExprTuple</td><td>15, 16</td><td><a class=\"ProveItLink\" href=\"../265f5b76536308be4ee140fc10ad04fc1670d6e40/expr.ipynb\"><img src=\"../265f5b76536308be4ee140fc10ad04fc1670d6e40/expr.png\" style=\"display:inline;vertical-align:middle;\" /></a></td></tr>\n",
       "<tr><td>14</td><td>ExprTuple</td><td>17, 22</td><td><a class=\"ProveItLink\" href=\"../../theorems/71e21f013283363ece441aa9c43e819052d454d00/expr.ipynb\"><img src=\"../../theorems/71e21f013283363ece441aa9c43e819052d454d00/expr.png\" style=\"display:inline;vertical-align:middle;\" /></a></td></tr>\n",
       "<tr><td>15</td><td>Operation</td><td>operator:&nbsp;18<br>operands:&nbsp;19<br></td><td><a class=\"ProveItLink\" href=\"../../theorems/6b89b43e4cbb2b2a7f36bef7320ec444c4840e0e0/expr.ipynb\"><img src=\"../../theorems/6b89b43e4cbb2b2a7f36bef7320ec444c4840e0e0/expr.png\" style=\"display:inline;vertical-align:middle;\" /></a></td></tr>\n",
       "<tr><td>16</td><td>Operation</td><td>operator:&nbsp;20<br>operand:&nbsp;21<br></td><td><a class=\"ProveItLink\" href=\"../../theorems/303f482d5bc18658cf260ef56d927698c7912bf90/expr.ipynb\"><img src=\"../../theorems/303f482d5bc18658cf260ef56d927698c7912bf90/expr.png\" style=\"display:inline;vertical-align:middle;\" /></a></td></tr>\n",
       "<tr><td>17</td><td>Variable</td><td></td><td><a class=\"ProveItLink\" href=\"../../../../../../__pv_it/common/09585084922504426caf1db2ff588a23a0932a960/expr.ipynb\"><img src=\"../../../../../../__pv_it/common/09585084922504426caf1db2ff588a23a0932a960/expr.png\" style=\"display:inline;vertical-align:middle;\" /></a></td></tr>\n",
       "<tr><td>18</td><td>Literal</td><td></td><td><a class=\"ProveItLink\" href=\"../../../../../sets/membership/__pv_it/common/477487d8796864d23d5810f83761435f25167f690/expr.ipynb\"><img src=\"../../../../../sets/membership/__pv_it/common/477487d8796864d23d5810f83761435f25167f690/expr.png\" style=\"display:inline;vertical-align:middle;\" /></a></td></tr>\n",
       "<tr><td>19</td><td>ExprTuple</td><td>21, 22</td><td><a class=\"ProveItLink\" href=\"../../theorems/b193ebcd6b21c9b60c917b2f2b0404fb0b4261ba0/expr.ipynb\"><img src=\"../../theorems/b193ebcd6b21c9b60c917b2f2b0404fb0b4261ba0/expr.png\" style=\"display:inline;vertical-align:middle;\" /></a></td></tr>\n",
       "<tr><td>20</td><td>Literal</td><td></td><td><a class=\"ProveItLink\" href=\"../../../../negation/__pv_it/common/1a811a997e5d75fdb50cdaf74f302daccad39af40/expr.ipynb\"><img src=\"../../../../negation/__pv_it/common/1a811a997e5d75fdb50cdaf74f302daccad39af40/expr.png\" style=\"display:inline;vertical-align:middle;\" /></a></td></tr>\n",
       "<tr><td>21</td><td>Variable</td><td></td><td><a class=\"ProveItLink\" href=\"../../../../../../__pv_it/common/a9162d1c3cc0470c02e5daf414500903a7a419230/expr.ipynb\"><img src=\"../../../../../../__pv_it/common/a9162d1c3cc0470c02e5daf414500903a7a419230/expr.png\" style=\"display:inline;vertical-align:middle;\" /></a></td></tr>\n",
       "<tr><td>22</td><td>Literal</td><td></td><td><a class=\"ProveItLink\" href=\"../../../../__pv_it/common/97424376de9815ad99f7180e3191b1cf4ab2a5710/expr.ipynb\"><img src=\"../../../../__pv_it/common/97424376de9815ad99f7180e3191b1cf4ab2a5710/expr.png\" style=\"display:inline;vertical-align:middle;\" /></a></td></tr>\n",
       "</table>\n"
      ],
      "text/plain": [
       "0. ([not](A and B) if A in BOOLEAN ,  (B in BOOLEAN) and [not](B), [not](A and B) if A in BOOLEAN ,  B in BOOLEAN ,  [not](B))\n",
       "   core type: ExprTuple\n",
       "   sub-expressions: 1, 2\n",
       "1. {[not](A and B) if A in BOOLEAN ,  (B in BOOLEAN) and [not](B).\n",
       "   core type: Conditional\n",
       "   value: 4\n",
       "   condition: 3\n",
       "2. {[not](A and B) if A in BOOLEAN ,  B in BOOLEAN ,  [not](B).\n",
       "   core type: Conditional\n",
       "   value: 4\n",
       "   condition: 5\n",
       "3. (A in BOOLEAN) and ((B in BOOLEAN) and [not](B))\n",
       "   core type: Operation\n",
       "   operator: 12\n",
       "   operands: 6\n",
       "4. [not](A and B)\n",
       "   core type: Operation\n",
       "   operator: 20\n",
       "   operand: 7\n",
       "5. (A in BOOLEAN) and (B in BOOLEAN) and [not](B)\n",
       "   core type: Operation\n",
       "   operator: 12\n",
       "   operands: 8\n",
       "6. (A in BOOLEAN, (B in BOOLEAN) and [not](B))\n",
       "   core type: ExprTuple\n",
       "   sub-expressions: 11, 9\n",
       "7. A and B\n",
       "   core type: Operation\n",
       "   operator: 12\n",
       "   operands: 10\n",
       "8. (A in BOOLEAN, B in BOOLEAN, [not](B))\n",
       "   core type: ExprTuple\n",
       "   sub-expressions: 11, 15, 16\n",
       "9. (B in BOOLEAN) and [not](B)\n",
       "   core type: Operation\n",
       "   operator: 12\n",
       "   operands: 13\n",
       "10. (A, B)\n",
       "    core type: ExprTuple\n",
       "    sub-expressions: 17, 21\n",
       "11. A in BOOLEAN\n",
       "    core type: Operation\n",
       "    operator: 18\n",
       "    operands: 14\n",
       "12. and\n",
       "    core type: Literal\n",
       "    sub-expressions: \n",
       "13. (B in BOOLEAN, [not](B))\n",
       "    core type: ExprTuple\n",
       "    sub-expressions: 15, 16\n",
       "14. (A, BOOLEAN)\n",
       "    core type: ExprTuple\n",
       "    sub-expressions: 17, 22\n",
       "15. B in BOOLEAN\n",
       "    core type: Operation\n",
       "    operator: 18\n",
       "    operands: 19\n",
       "16. [not](B)\n",
       "    core type: Operation\n",
       "    operator: 20\n",
       "    operand: 21\n",
       "17. A\n",
       "    core type: Variable\n",
       "    sub-expressions: \n",
       "18. in\n",
       "    core type: Literal\n",
       "    sub-expressions: \n",
       "19. (B, BOOLEAN)\n",
       "    core type: ExprTuple\n",
       "    sub-expressions: 21, 22\n",
       "20. not\n",
       "    core type: Literal\n",
       "    sub-expressions: \n",
       "21. B\n",
       "    core type: Variable\n",
       "    sub-expressions: \n",
       "22. BOOLEAN\n",
       "    core type: Literal\n",
       "    sub-expressions: "
      ]
     },
     "execution_count": 5,
     "metadata": {},
     "output_type": "execute_result"
    }
   ],
   "source": [
    "# display the expression information\n",
    "expr.expr_info()"
   ]
  },
  {
   "cell_type": "code",
   "execution_count": null,
   "metadata": {},
   "outputs": [],
   "source": []
  }
 ],
 "metadata": {
  "kernelspec": {
   "display_name": "Python 3",
   "language": "python",
   "name": "python3"
  }
 },
 "nbformat": 4,
 "nbformat_minor": 0
}