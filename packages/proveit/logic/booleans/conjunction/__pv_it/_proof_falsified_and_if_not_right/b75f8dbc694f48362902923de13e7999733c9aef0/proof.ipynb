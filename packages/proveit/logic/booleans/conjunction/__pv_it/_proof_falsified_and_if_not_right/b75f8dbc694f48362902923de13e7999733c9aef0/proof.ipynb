{
 "cells": [
  {
   "cell_type": "markdown",
   "metadata": {},
   "source": [
    "Show the Proof\n",
    "========"
   ]
  },
  {
   "cell_type": "code",
   "execution_count": 1,
   "metadata": {},
   "outputs": [
    {
     "data": {
      "text/html": [
       "<table><tr><th>&nbsp;</th><th>step type</th><th>requirements</th><th>statement</th></tr>\n",
       "<tr><td><a name=\"proveit.logic.booleans.conjunction._proof_falsified_and_if_not_right.b75f8dbc694f48362902923de13e7999733c9aef0_step0\">0</a></td><td>instantiation</td><td><a href=\"#proveit.logic.booleans.conjunction._proof_falsified_and_if_not_right.b75f8dbc694f48362902923de13e7999733c9aef0_step1\">1</a>, <a href=\"#proveit.logic.booleans.conjunction._proof_falsified_and_if_not_right.b75f8dbc694f48362902923de13e7999733c9aef0_step2\">2</a></td><td><span style=\"font-size:20px;\"><a class=\"ProveItLink\" href=\"../../theorems/303f482d5bc18658cf260ef56d927698c7912bf90/expr.ipynb\"><img src=\"../../theorems/303f482d5bc18658cf260ef56d927698c7912bf90/expr.png\" style=\"display:inline;vertical-align:middle;\" /></a> <a class=\"ProveItLink\" href=\"proof.ipynb\" style=\"text-decoration: none\">&nbsp;&#x22A2;&nbsp;&nbsp;</a><a class=\"ProveItLink\" href=\"../../theorems/6b89b43e4cbb2b2a7f36bef7320ec444c4840e0e0/expr.ipynb\"><img src=\"../../theorems/6b89b43e4cbb2b2a7f36bef7320ec444c4840e0e0/expr.png\" style=\"display:inline;vertical-align:middle;\" /></a></span></td></tr>\n",
       "<tr><td>&nbsp;</td><td colspan=4 style=\"text-align:left\"><span style=\"font-size:20px;\"><a class=\"ProveItLink\" href=\"../../../../../../__pv_it/common/09585084922504426caf1db2ff588a23a0932a960/expr.ipynb\"><img src=\"../../../../../../__pv_it/common/09585084922504426caf1db2ff588a23a0932a960/expr.png\" style=\"display:inline;vertical-align:middle;\" /></a> : <a class=\"ProveItLink\" href=\"../../../../../../__pv_it/common/a9162d1c3cc0470c02e5daf414500903a7a419230/expr.ipynb\"><img src=\"../../../../../../__pv_it/common/a9162d1c3cc0470c02e5daf414500903a7a419230/expr.png\" style=\"display:inline;vertical-align:middle;\" /></a></span></td></tr><tr><td><a name=\"proveit.logic.booleans.conjunction._proof_falsified_and_if_not_right.b75f8dbc694f48362902923de13e7999733c9aef0_step1\">1</a></td><td>axiom</td><td></td><td><span style=\"font-size:20px;\"> <a class=\"ProveItLink\" href=\"../../../../negation/_theory_nbs_/axioms.ipynb#operand_is_bool\" style=\"text-decoration: none\">&nbsp;&#x22A2;&nbsp;&nbsp;</a><a class=\"ProveItLink\" href=\"../../../../negation/__pv_it/axioms/776af1183cee695121a2b1df6e92f5b962793d0b0/expr.ipynb\"><img src=\"../../../../negation/__pv_it/axioms/776af1183cee695121a2b1df6e92f5b962793d0b0/expr.png\" style=\"display:inline;vertical-align:middle;\" /></a></span></td></tr>\n",
       "<tr><td>&nbsp;</td><td colspan=4 style-\"text-align:left\"><a class=\"ProveItLink\" href=\"../../../../negation/_theory_nbs_/axioms.ipynb#operand_is_bool\">proveit.logic.booleans.negation.operand_is_bool</a></td></tr><tr><td><a name=\"proveit.logic.booleans.conjunction._proof_falsified_and_if_not_right.b75f8dbc694f48362902923de13e7999733c9aef0_step2\">2</a></td><td>instantiation</td><td><a href=\"#proveit.logic.booleans.conjunction._proof_falsified_and_if_not_right.b75f8dbc694f48362902923de13e7999733c9aef0_step3\">3</a>, <a href=\"#proveit.logic.booleans.conjunction._proof_falsified_and_if_not_right.b75f8dbc694f48362902923de13e7999733c9aef0_step4\">4</a>, <a href=\"#proveit.logic.booleans.conjunction._proof_falsified_and_if_not_right.b75f8dbc694f48362902923de13e7999733c9aef0_step5\">5</a></td><td><span style=\"font-size:20px;\"><a class=\"ProveItLink\" href=\"../../theorems/303f482d5bc18658cf260ef56d927698c7912bf90/expr.ipynb\"><img src=\"../../theorems/303f482d5bc18658cf260ef56d927698c7912bf90/expr.png\" style=\"display:inline;vertical-align:middle;\" /></a> <a class=\"ProveItLink\" href=\"../c2cda6375fc282295394c7909a789801d2ea8bfe0/proof.ipynb\" style=\"text-decoration: none\">&nbsp;&#x22A2;&nbsp;&nbsp;</a><a class=\"ProveItLink\" href=\"../26d5a85308e7370596b331d92b8702d5eddd31890/expr.ipynb\"><img src=\"../26d5a85308e7370596b331d92b8702d5eddd31890/expr.png\" style=\"display:inline;vertical-align:middle;\" /></a></span></td></tr>\n",
       "<tr><td>&nbsp;</td><td colspan=4 style=\"text-align:left\"><span style=\"font-size:20px;\"><a class=\"ProveItLink\" href=\"../84fb6bfbf82ffd89b2e4fb128d4f37cc62a695fa0/expr.ipynb\"><img src=\"../84fb6bfbf82ffd89b2e4fb128d4f37cc62a695fa0/expr.png\" style=\"display:inline;vertical-align:middle;\" /></a> : <a class=\"ProveItLink\" href=\"../842af9b2e97a7ad635169633e8b6c9e63935c41e0/expr.ipynb\"><img src=\"../842af9b2e97a7ad635169633e8b6c9e63935c41e0/expr.png\" style=\"display:inline;vertical-align:middle;\" /></a>, <a class=\"ProveItLink\" href=\"../../../../../../__pv_it/common/a0d9d672aa5e272d907247690c152cc2c6daafb70/expr.ipynb\"><img src=\"../../../../../../__pv_it/common/a0d9d672aa5e272d907247690c152cc2c6daafb70/expr.png\" style=\"display:inline;vertical-align:middle;\" /></a> : <a class=\"ProveItLink\" href=\"../../theorems/303f482d5bc18658cf260ef56d927698c7912bf90/expr.ipynb\"><img src=\"../../theorems/303f482d5bc18658cf260ef56d927698c7912bf90/expr.png\" style=\"display:inline;vertical-align:middle;\" /></a></span></td></tr><tr><td><a name=\"proveit.logic.booleans.conjunction._proof_falsified_and_if_not_right.b75f8dbc694f48362902923de13e7999733c9aef0_step3\">3</a></td><td>theorem</td><td></td><td><span style=\"font-size:20px;\"> <a class=\"ProveItLink\" href=\"../../../../../equality/_theory_nbs_/proofs/substitute_truth/thm_proof.ipynb\" style=\"text-decoration: none\">&nbsp;&#x22A2;&nbsp;&nbsp;</a><a class=\"ProveItLink\" href=\"../../../../../equality/__pv_it/theorems/a2fcccb6b9a54f83342381fbffc0c31590728d2e0/expr.ipynb\"><img src=\"../../../../../equality/__pv_it/theorems/a2fcccb6b9a54f83342381fbffc0c31590728d2e0/expr.png\" style=\"display:inline;vertical-align:middle;\" /></a></span></td></tr>\n",
       "<tr><td>&nbsp;</td><td colspan=4 style-\"text-align:left\"><a class=\"ProveItLink\" href=\"../../../../../equality/_theory_nbs_/proofs/substitute_truth/thm_proof.ipynb\">proveit.logic.equality.substitute_truth</a></td></tr><tr><td><a name=\"proveit.logic.booleans.conjunction._proof_falsified_and_if_not_right.b75f8dbc694f48362902923de13e7999733c9aef0_step4\">4</a></td><td>theorem</td><td></td><td><span style=\"font-size:20px;\"> <a class=\"ProveItLink\" href=\"../../../../_theory_nbs_/proofs/true_is_bool/thm_proof.ipynb\" style=\"text-decoration: none\">&nbsp;&#x22A2;&nbsp;&nbsp;</a><a class=\"ProveItLink\" href=\"../../../../__pv_it/theorems/1cf4efe0f7621ced45753252cd465ed0c227f19b0/expr.ipynb\"><img src=\"../../../../__pv_it/theorems/1cf4efe0f7621ced45753252cd465ed0c227f19b0/expr.png\" style=\"display:inline;vertical-align:middle;\" /></a></span></td></tr>\n",
       "<tr><td>&nbsp;</td><td colspan=4 style-\"text-align:left\"><a class=\"ProveItLink\" href=\"../../../../_theory_nbs_/proofs/true_is_bool/thm_proof.ipynb\">proveit.logic.booleans.true_is_bool</a></td></tr><tr><td><a name=\"proveit.logic.booleans.conjunction._proof_falsified_and_if_not_right.b75f8dbc694f48362902923de13e7999733c9aef0_step5\">5</a></td><td>assumption</td><td></td><td><span style=\"font-size:20px;\"><a class=\"ProveItLink\" href=\"../../theorems/303f482d5bc18658cf260ef56d927698c7912bf90/expr.ipynb\"><img src=\"../../theorems/303f482d5bc18658cf260ef56d927698c7912bf90/expr.png\" style=\"display:inline;vertical-align:middle;\" /></a> <a class=\"ProveItLink\" href=\"../24532d4ddd07ff2906b369b597795c0d7f2d7de10/proof.ipynb\" style=\"text-decoration: none\">&nbsp;&#x22A2;&nbsp;&nbsp;</a><a class=\"ProveItLink\" href=\"../../theorems/303f482d5bc18658cf260ef56d927698c7912bf90/expr.ipynb\"><img src=\"../../theorems/303f482d5bc18658cf260ef56d927698c7912bf90/expr.png\" style=\"display:inline;vertical-align:middle;\" /></a></span></td></tr>\n",
       "</table>"
      ],
      "text/plain": [
       "<proveit._core_.proof._ShowProof at 0x7f9e38297e10>"
      ]
     },
     "execution_count": 1,
     "metadata": {},
     "output_type": "execute_result"
    }
   ],
   "source": [
    "import proveit\n",
    "# Automation is not needed when only showing a stored proof:\n",
    "proveit.defaults.automation = False # This will speed things up.\n",
    "proveit.defaults.inline_pngs = False # Makes files smaller.\n",
    "%show_proof"
   ]
  },
  {
   "cell_type": "code",
   "execution_count": null,
   "metadata": {},
   "outputs": [],
   "source": []
  }
 ],
 "metadata": {
  "kernelspec": {
   "display_name": "Python 3",
   "language": "python",
   "name": "python3"
  }
 },
 "nbformat": 4,
 "nbformat_minor": 0
}