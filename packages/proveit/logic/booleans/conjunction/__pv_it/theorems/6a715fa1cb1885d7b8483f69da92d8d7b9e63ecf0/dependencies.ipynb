{
 "cells": [
  {
   "cell_type": "markdown",
   "metadata": {},
   "source": [
    "Theorem Dependencies\n",
    "=======================\n",
    "\n",
    "## <a class=\"ProveItLink\" href=\"../../../_theory_nbs_/theory.ipynb\">proveit.logic.booleans.conjunction</a>.<a class=\"ProveItLink\" href=\"../../../_theorems_.ipynb#left_from_and\">left_from_and</a> \n",
    "***see <a class=\"ProveItLink\" href=\"../../../_theory_nbs_/proofs/left_from_and/thm_proof.ipynb\">proof</a>***"
   ]
  },
  {
   "cell_type": "code",
   "execution_count": 1,
   "metadata": {},
   "outputs": [],
   "source": [
    "import proveit\n",
    "# Automation is not needed when querying dependencies:\n",
    "proveit.defaults.automation = False # This will speed things up.\n",
    "proveit.defaults.inline_pngs = False # Makes files smaller.\n",
    "from proveit.logic.booleans.conjunction import left_from_and"
   ]
  },
  {
   "cell_type": "code",
   "execution_count": 2,
   "metadata": {},
   "outputs": [
    {
     "data": {
      "text/html": [
       "<h3>Theorems/conjectures that depend directly on left_from_and</h3>"
      ],
      "text/plain": [
       "<IPython.core.display.HTML object>"
      ]
     },
     "metadata": {},
     "output_type": "display_data"
    },
    {
     "data": {
      "text/html": [
       "<dl>"
      ],
      "text/plain": [
       "<IPython.core.display.HTML object>"
      ]
     },
     "metadata": {},
     "output_type": "display_data"
    },
    {
     "data": {
      "text/html": [
       "<dt><a class=\"ProveItLink\" href=\"../../../../implication/_theory_nbs_/proofs/iff_implies_right/thm_proof.ipynb\">proveit.logic.booleans.implication.iff_implies_right</a></dt><dd><a class=\"ProveItLink\" href=\"../../../../implication/__pv_it/theorems/731ad1db3bfde4b0e9a3f9063d4e62eb294723580/expr.ipynb\"><img src=\"../../../../implication/__pv_it/theorems/731ad1db3bfde4b0e9a3f9063d4e62eb294723580/expr.png\" style=\"display:inline;vertical-align:middle;\" /></a></dd>"
      ],
      "text/plain": [
       "<IPython.core.display.HTML object>"
      ]
     },
     "metadata": {},
     "output_type": "display_data"
    },
    {
     "data": {
      "text/html": [
       "<dt><a class=\"ProveItLink\" href=\"../../../../quantification/existence/_theory_nbs_/proofs/skolem_elim/thm_proof.ipynb\">proveit.logic.booleans.quantification.existence.skolem_elim</a></dt><dd><a class=\"ProveItLink\" href=\"../../../../quantification/existence/__pv_it/theorems/72ab57b0236c6441521ef1ae08d13b715e79796f0/expr.ipynb\"><img src=\"../../../../quantification/existence/__pv_it/theorems/72ab57b0236c6441521ef1ae08d13b715e79796f0/expr.png\" style=\"display:inline;vertical-align:middle;\" /></a></dd>"
      ],
      "text/plain": [
       "<IPython.core.display.HTML object>"
      ]
     },
     "metadata": {},
     "output_type": "display_data"
    },
    {
     "data": {
      "text/html": [
       "<dt><a class=\"ProveItLink\" href=\"../../../../quantification/existence/_theory_nbs_/proofs/skolem_elim_lemma/thm_proof.ipynb\">proveit.logic.booleans.quantification.existence.skolem_elim_lemma</a></dt><dd><a class=\"ProveItLink\" href=\"../../../../quantification/existence/__pv_it/theorems/351e3b3885d1de219e0eb51d65959515c4f9fad30/expr.ipynb\"><img src=\"../../../../quantification/existence/__pv_it/theorems/351e3b3885d1de219e0eb51d65959515c4f9fad30/expr.png\" style=\"display:inline;vertical-align:middle;\" /></a></dd>"
      ],
      "text/plain": [
       "<IPython.core.display.HTML object>"
      ]
     },
     "metadata": {},
     "output_type": "display_data"
    },
    {
     "data": {
      "text/html": [
       "<dt><a class=\"ProveItLink\" href=\"../../../../../sets/inclusion/_theory_nbs_/proofs/relax_proper_subset/thm_proof.ipynb\">proveit.logic.sets.inclusion.relax_proper_subset</a></dt><dd><a class=\"ProveItLink\" href=\"../../../../../sets/inclusion/__pv_it/theorems/e2806dea65f2131438692eca4e7c580b453b6a000/expr.ipynb\"><img src=\"../../../../../sets/inclusion/__pv_it/theorems/e2806dea65f2131438692eca4e7c580b453b6a000/expr.png\" style=\"display:inline;vertical-align:middle;\" /></a></dd>"
      ],
      "text/plain": [
       "<IPython.core.display.HTML object>"
      ]
     },
     "metadata": {},
     "output_type": "display_data"
    },
    {
     "data": {
      "text/html": [
       "<dt><a class=\"ProveItLink\" href=\"../../../../../sets/inclusion/_theory_nbs_/proofs/superset_membership_from_proper_subset/thm_proof.ipynb\">proveit.logic.sets.inclusion.superset_membership_from_proper_subset</a></dt><dd><a class=\"ProveItLink\" href=\"../../../../../sets/inclusion/__pv_it/theorems/2bd5812116805831135f1a949ae0e425f21169040/expr.ipynb\"><img src=\"../../../../../sets/inclusion/__pv_it/theorems/2bd5812116805831135f1a949ae0e425f21169040/expr.png\" style=\"display:inline;vertical-align:middle;\" /></a></dd>"
      ],
      "text/plain": [
       "<IPython.core.display.HTML object>"
      ]
     },
     "metadata": {},
     "output_type": "display_data"
    },
    {
     "data": {
      "text/html": [
       "<dt><a class=\"ProveItLink\" href=\"../../../../../sets/_theory_nbs_/proofs/intersection_is_subset_eq/thm_proof.ipynb\">proveit.logic.sets.intersection_is_subset_eq</a></dt><dd><a class=\"ProveItLink\" href=\"../../../../../sets/__pv_it/theorems/dfaab45b692b8e88040213f5ba384e11c91134cc0/expr.ipynb\"><img src=\"../../../../../sets/__pv_it/theorems/dfaab45b692b8e88040213f5ba384e11c91134cc0/expr.png\" style=\"display:inline;vertical-align:middle;\" /></a></dd>"
      ],
      "text/plain": [
       "<IPython.core.display.HTML object>"
      ]
     },
     "metadata": {},
     "output_type": "display_data"
    },
    {
     "data": {
      "text/html": [
       "<dt><a class=\"ProveItLink\" href=\"../../../../../../numbers/exponentiation/_theory_nbs_/proofs/sqrt2_is_not_rational/thm_proof.ipynb\">proveit.numbers.exponentiation.sqrt2_is_not_rational</a></dt><dd><a class=\"ProveItLink\" href=\"../../../../../../numbers/exponentiation/__pv_it/theorems/9372fddc16eaf34233f04d96d6016085e1bb227a0/expr.ipynb\"><img src=\"../../../../../../numbers/exponentiation/__pv_it/theorems/9372fddc16eaf34233f04d96d6016085e1bb227a0/expr.png\" style=\"display:inline;vertical-align:middle;\" /></a></dd>"
      ],
      "text/plain": [
       "<IPython.core.display.HTML object>"
      ]
     },
     "metadata": {},
     "output_type": "display_data"
    },
    {
     "data": {
      "text/html": [
       "</dl>"
      ],
      "text/plain": [
       "<IPython.core.display.HTML object>"
      ]
     },
     "metadata": {},
     "output_type": "display_data"
    }
   ],
   "source": [
    "%dependencies left_from_and"
   ]
  }
 ],
 "metadata": {
  "kernelspec": {
   "display_name": "Python 3",
   "language": "python",
   "name": "python3"
  }
 },
 "nbformat": 4,
 "nbformat_minor": 0
}