{
 "cells": [
  {
   "cell_type": "markdown",
   "metadata": {},
   "source": [
    "Theorem <a class=\"ProveItLink\" href=\"../../../_theorems_.ipynb#nand_if_right_but_not_left\">nand_if_right_but_not_left</a> of type <a class=\"ProveItLink\" href=\"../../../../../../../../doc/html/api/proveit.logic.Forall.html\">Forall</a>\n",
    "=======================\n",
    "# from the theory of <a class=\"ProveItLink\" href=\"../../../_theory_nbs_/theory.ipynb\">proveit.logic.booleans.conjunction</a>\n",
    "*** see <a class=\"ProveItLink\" href=\"dependencies.ipynb\">dependencies</a> ***"
   ]
  },
  {
   "cell_type": "code",
   "execution_count": 1,
   "metadata": {},
   "outputs": [],
   "source": [
    "import proveit\n",
    "# Automation is not needed when only building an expression:\n",
    "proveit.defaults.automation = False # This will speed things up.\n",
    "proveit.defaults.inline_pngs = False # Makes files smaller.\n",
    "%load_theorem_expr # Load the stored theorem expression as 'stored_expr'\n",
    "# import the special expression\n",
    "from proveit.logic.booleans.conjunction import nand_if_right_but_not_left"
   ]
  },
  {
   "cell_type": "code",
   "execution_count": 2,
   "metadata": {},
   "outputs": [
    {
     "name": "stdout",
     "output_type": "stream",
     "text": [
      "Passed sanity check: nand_if_right_but_not_left matches stored_expr\n"
     ]
    }
   ],
   "source": [
    "# check that the built expression is the same as the stored expression\n",
    "assert nand_if_right_but_not_left.expr == stored_expr\n",
    "assert nand_if_right_but_not_left.expr._style_id == stored_expr._style_id\n",
    "print(\"Passed sanity check: nand_if_right_but_not_left matches stored_expr\")"
   ]
  },
  {
   "cell_type": "code",
   "execution_count": 3,
   "metadata": {},
   "outputs": [
    {
     "name": "stdout",
     "output_type": "stream",
     "text": [
      "\\vdash \\forall_{A, B~|~\\lnot A, B}~(\\lnot \\left(A \\land B\\right))\n"
     ]
    }
   ],
   "source": [
    "# Show the LaTeX representation of the expression for convenience if you need it.\n",
    "print(nand_if_right_but_not_left.latex())"
   ]
  },
  {
   "cell_type": "code",
   "execution_count": 4,
   "metadata": {},
   "outputs": [
    {
     "data": {
      "text/html": [
       "<table>\n",
       "<tr><th>name</th><th>description</th><th>default</th><th>current value</th><th>related methods</th></tr><tr><td>with_wrapping</td><td>If 'True', wrap the Expression after the parameters</td><td>None</td><td>None/False</td><td>('with_wrapping',)</td></tr>\n",
       "<tr><td>wrap_params</td><td>If 'True', wraps every two parameters AND wraps the Expression after the parameters</td><td>None</td><td>None/False</td><td>('with_params',)</td></tr>\n",
       "<tr><td>justification</td><td>justify to the 'left', 'center', or 'right' in the array cells</td><td>center</td><td>center</td><td>('with_justification',)</td></tr>\n",
       "</table>\n"
      ],
      "text/plain": [
       "style name: with_wrapping\n",
       "description: If 'True', wrap the Expression after the parameters\n",
       "default: None\n",
       "current value: None/False\n",
       "related methods: ('with_wrapping',)\n",
       "style name: wrap_params\n",
       "description: If 'True', wraps every two parameters AND wraps the Expression after the parameters\n",
       "default: None\n",
       "current value: None/False\n",
       "related methods: ('with_params',)\n",
       "style name: justification\n",
       "description: justify to the 'left', 'center', or 'right' in the array cells\n",
       "default: center\n",
       "current value: center\n",
       "related methods: ('with_justification',)"
      ]
     },
     "execution_count": 4,
     "metadata": {},
     "output_type": "execute_result"
    }
   ],
   "source": [
    "nand_if_right_but_not_left.style_options()"
   ]
  },
  {
   "cell_type": "code",
   "execution_count": 5,
   "metadata": {},
   "outputs": [
    {
     "data": {
      "text/html": [
       "<table><tr><th>&nbsp;</th><th>core type</th><th>sub-expressions</th><th>expression</th></tr>\n",
       "<tr><td>0</td><td>Operation</td><td>operator:&nbsp;1<br>operand:&nbsp;3<br></td><td><a class=\"ProveItLink\" href=\"../1b5bcf5df8d76bedf01e8ba160eb40a0b9c5f0530/expr.ipynb\"><img src=\"../1b5bcf5df8d76bedf01e8ba160eb40a0b9c5f0530/expr.png\" style=\"display:inline;vertical-align:middle;\" /></a></td></tr>\n",
       "<tr><td>1</td><td>Literal</td><td></td><td><a class=\"ProveItLink\" href=\"../../../../quantification/universality/__pv_it/common/684d35ba98fcbf8ca5011f865e530a51e77730630/expr.ipynb\"><img src=\"../../../../quantification/universality/__pv_it/common/684d35ba98fcbf8ca5011f865e530a51e77730630/expr.png\" style=\"display:inline;vertical-align:middle;\" /></a></td></tr>\n",
       "<tr><td>2</td><td>ExprTuple</td><td>3</td><td><a class=\"ProveItLink\" href=\"../9cc76b657a84090a35e3850c7a8bfe89c890998d0/expr.ipynb\"><img src=\"../9cc76b657a84090a35e3850c7a8bfe89c890998d0/expr.png\" style=\"display:inline;vertical-align:middle;\" /></a></td></tr>\n",
       "<tr><td>3</td><td>Lambda</td><td>parameters:&nbsp;12<br>body:&nbsp;4<br></td><td><a class=\"ProveItLink\" href=\"../9f3dca7caf65cad0ca9eb6c355c16db96b51b1240/expr.ipynb\"><img src=\"../9f3dca7caf65cad0ca9eb6c355c16db96b51b1240/expr.png\" style=\"display:inline;vertical-align:middle;\" /></a></td></tr>\n",
       "<tr><td>4</td><td>Conditional</td><td>value:&nbsp;5<br>condition:&nbsp;6<br></td><td><a class=\"ProveItLink\" href=\"../d13eb240139f5fc9b3b335ec7375e35a5f5771b00/expr.ipynb\"><img src=\"../d13eb240139f5fc9b3b335ec7375e35a5f5771b00/expr.png\" style=\"display:inline;vertical-align:middle;\" /></a></td></tr>\n",
       "<tr><td>5</td><td>Operation</td><td>operator:&nbsp;13<br>operand:&nbsp;9<br></td><td><a class=\"ProveItLink\" href=\"../f5a8a022a8afdd196c0e0c6074a50223d3d1c9e20/expr.ipynb\"><img src=\"../f5a8a022a8afdd196c0e0c6074a50223d3d1c9e20/expr.png\" style=\"display:inline;vertical-align:middle;\" /></a></td></tr>\n",
       "<tr><td>6</td><td>Operation</td><td>operator:&nbsp;11<br>operands:&nbsp;8<br></td><td><a class=\"ProveItLink\" href=\"../17a8c9f629beb9192d8c188e88981bd660194ae30/expr.ipynb\"><img src=\"../17a8c9f629beb9192d8c188e88981bd660194ae30/expr.png\" style=\"display:inline;vertical-align:middle;\" /></a></td></tr>\n",
       "<tr><td>7</td><td>ExprTuple</td><td>9</td><td><a class=\"ProveItLink\" href=\"../96f996b842014bd83c413e8962fe532da497c5d70/expr.ipynb\"><img src=\"../96f996b842014bd83c413e8962fe532da497c5d70/expr.png\" style=\"display:inline;vertical-align:middle;\" /></a></td></tr>\n",
       "<tr><td>8</td><td>ExprTuple</td><td>10, 15</td><td><a class=\"ProveItLink\" href=\"../d2672b81b735b84790d08e89c3f96be11588b3c30/expr.ipynb\"><img src=\"../d2672b81b735b84790d08e89c3f96be11588b3c30/expr.png\" style=\"display:inline;vertical-align:middle;\" /></a></td></tr>\n",
       "<tr><td>9</td><td>Operation</td><td>operator:&nbsp;11<br>operands:&nbsp;12<br></td><td><a class=\"ProveItLink\" href=\"../31290316bd0f2f2d1b0b60fcef076f96c80b2e2e0/expr.ipynb\"><img src=\"../31290316bd0f2f2d1b0b60fcef076f96c80b2e2e0/expr.png\" style=\"display:inline;vertical-align:middle;\" /></a></td></tr>\n",
       "<tr><td>10</td><td>Operation</td><td>operator:&nbsp;13<br>operand:&nbsp;16<br></td><td><a class=\"ProveItLink\" href=\"../531b4d361e22bb9dc371e326667e78900b871afb0/expr.ipynb\"><img src=\"../531b4d361e22bb9dc371e326667e78900b871afb0/expr.png\" style=\"display:inline;vertical-align:middle;\" /></a></td></tr>\n",
       "<tr><td>11</td><td>Literal</td><td></td><td><a class=\"ProveItLink\" href=\"../../common/26b94b53e70b1d77b70f0d9d4236347db37731060/expr.ipynb\"><img src=\"../../common/26b94b53e70b1d77b70f0d9d4236347db37731060/expr.png\" style=\"display:inline;vertical-align:middle;\" /></a></td></tr>\n",
       "<tr><td>12</td><td>ExprTuple</td><td>16, 15</td><td><a class=\"ProveItLink\" href=\"../7aa24190517d6a40e915c207672cefb0d36c3b690/expr.ipynb\"><img src=\"../7aa24190517d6a40e915c207672cefb0d36c3b690/expr.png\" style=\"display:inline;vertical-align:middle;\" /></a></td></tr>\n",
       "<tr><td>13</td><td>Literal</td><td></td><td><a class=\"ProveItLink\" href=\"../../../../negation/__pv_it/common/44cff78c6737753417865a5233f827322c0f04ad0/expr.ipynb\"><img src=\"../../../../negation/__pv_it/common/44cff78c6737753417865a5233f827322c0f04ad0/expr.png\" style=\"display:inline;vertical-align:middle;\" /></a></td></tr>\n",
       "<tr><td>14</td><td>ExprTuple</td><td>16</td><td><a class=\"ProveItLink\" href=\"../0593fb3fd45e428ede78a1c9e57ad43924c1ecdd0/expr.ipynb\"><img src=\"../0593fb3fd45e428ede78a1c9e57ad43924c1ecdd0/expr.png\" style=\"display:inline;vertical-align:middle;\" /></a></td></tr>\n",
       "<tr><td>15</td><td>Variable</td><td></td><td><a class=\"ProveItLink\" href=\"../../../../../../__pv_it/common/4eca3b30dcf58a58494e201d1b7886d8643a617b0/expr.ipynb\"><img src=\"../../../../../../__pv_it/common/4eca3b30dcf58a58494e201d1b7886d8643a617b0/expr.png\" style=\"display:inline;vertical-align:middle;\" /></a></td></tr>\n",
       "<tr><td>16</td><td>Variable</td><td></td><td><a class=\"ProveItLink\" href=\"../../../../../../__pv_it/common/e4aad701f7f5516d8e7f0d805d518bf02c13322a0/expr.ipynb\"><img src=\"../../../../../../__pv_it/common/e4aad701f7f5516d8e7f0d805d518bf02c13322a0/expr.png\" style=\"display:inline;vertical-align:middle;\" /></a></td></tr>\n",
       "</table>\n"
      ],
      "text/plain": [
       "0. forall_{A, B | not(A), B} not(A and B)\n",
       "   core type: Operation\n",
       "   operator: 1\n",
       "   operand: 3\n",
       "1. forall\n",
       "   core type: Literal\n",
       "   sub-expressions: \n",
       "2. ((A, B) -> {not(A and B) if not(A) ,  B.)\n",
       "   core type: ExprTuple\n",
       "   sub-expressions: 3\n",
       "3. (A, B) -> {not(A and B) if not(A) ,  B.\n",
       "   core type: Lambda\n",
       "   parameters: 12\\n   body: 4\n",
       "4. {not(A and B) if not(A) ,  B.\n",
       "   core type: Conditional\n",
       "   value: 5\n",
       "   condition: 6\n",
       "5. not(A and B)\n",
       "   core type: Operation\n",
       "   operator: 13\n",
       "   operand: 9\n",
       "6. not(A) and B\n",
       "   core type: Operation\n",
       "   operator: 11\n",
       "   operands: 8\n",
       "7. (A and B)\n",
       "   core type: ExprTuple\n",
       "   sub-expressions: 9\n",
       "8. (not(A), B)\n",
       "   core type: ExprTuple\n",
       "   sub-expressions: 10, 15\n",
       "9. A and B\n",
       "   core type: Operation\n",
       "   operator: 11\n",
       "   operands: 12\n",
       "10. not(A)\n",
       "    core type: Operation\n",
       "    operator: 13\n",
       "    operand: 16\n",
       "11. and\n",
       "    core type: Literal\n",
       "    sub-expressions: \n",
       "12. (A, B)\n",
       "    core type: ExprTuple\n",
       "    sub-expressions: 16, 15\n",
       "13. not\n",
       "    core type: Literal\n",
       "    sub-expressions: \n",
       "14. (A)\n",
       "    core type: ExprTuple\n",
       "    sub-expressions: 16\n",
       "15. B\n",
       "    core type: Variable\n",
       "    sub-expressions: \n",
       "16. A\n",
       "    core type: Variable\n",
       "    sub-expressions: "
      ]
     },
     "execution_count": 5,
     "metadata": {},
     "output_type": "execute_result"
    }
   ],
   "source": [
    "# display the expression information\n",
    "nand_if_right_but_not_left.expr_info()"
   ]
  },
  {
   "cell_type": "code",
   "execution_count": null,
   "metadata": {},
   "outputs": [],
   "source": []
  }
 ],
 "metadata": {
  "kernelspec": {
   "display_name": "Python 3",
   "language": "python",
   "name": "python3"
  }
 },
 "nbformat": 4,
 "nbformat_minor": 0
}