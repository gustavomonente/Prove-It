{
 "cells": [
  {
   "cell_type": "markdown",
   "metadata": {},
   "source": [
    "Expression of type <a class=\"ProveItLink\" href=\"../../../../../../../../doc/html/api/proveit.ExprTuple.html\">ExprTuple</a>\n",
    "=======================\n",
    "# from the theory of <a class=\"ProveItLink\" href=\"../../../_theory_nbs_/theory.ipynb\">proveit.logic.booleans.conjunction</a>"
   ]
  },
  {
   "cell_type": "code",
   "execution_count": 1,
   "metadata": {},
   "outputs": [],
   "source": [
    "import proveit\n",
    "# Automation is not needed when building an expression:\n",
    "proveit.defaults.automation = False # This will speed things up.\n",
    "proveit.defaults.inline_pngs = False # Makes files smaller.\n",
    "%load_expr # Load the stored expression as 'stored_expr'\n",
    "# import Expression classes needed to build the expression\n",
    "from proveit import ExprTuple\n",
    "from proveit.core_expr_types import A_1_to_l, B_1_to_m, C_1_to_n"
   ]
  },
  {
   "cell_type": "code",
   "execution_count": 2,
   "metadata": {},
   "outputs": [
    {
     "data": {
      "text/html": [
       "<strong id=\"expr\">expr:</strong> <a class=\"ProveItLink\" href=\"expr.ipynb\"><img src=\"expr.png\" style=\"display:inline;vertical-align:middle;\" /></a><br>"
      ],
      "text/plain": [
       "expr: (A_{1}, ..A_{_a}.., A_{l}, B_{1}, ..B_{_a}.., B_{m}, C_{1}, ..C_{_a}.., C_{n})"
      ]
     },
     "execution_count": 2,
     "metadata": {},
     "output_type": "execute_result"
    }
   ],
   "source": [
    "# build up the expression from sub-expressions\n",
    "expr = ExprTuple(A_1_to_l, B_1_to_m, C_1_to_n)"
   ]
  },
  {
   "cell_type": "code",
   "execution_count": 3,
   "metadata": {},
   "outputs": [
    {
     "name": "stdout",
     "output_type": "stream",
     "text": [
      "Passed sanity check: expr matches stored_expr\n"
     ]
    }
   ],
   "source": [
    "# check that the built expression is the same as the stored expression\n",
    "assert expr == stored_expr\n",
    "assert expr._style_id == stored_expr._style_id\n",
    "print(\"Passed sanity check: expr matches stored_expr\")"
   ]
  },
  {
   "cell_type": "code",
   "execution_count": 4,
   "metadata": {},
   "outputs": [
    {
     "name": "stdout",
     "output_type": "stream",
     "text": [
      "\\left(A_{1}, \\ldots, A_{l}, B_{1}, \\ldots, B_{m}, C_{1}, \\ldots, C_{n}\\right)\n"
     ]
    }
   ],
   "source": [
    "# Show the LaTeX representation of the expression for convenience if you need it.\n",
    "print(expr.latex())"
   ]
  },
  {
   "cell_type": "code",
   "execution_count": 5,
   "metadata": {},
   "outputs": [
    {
     "data": {
      "text/html": [
       "<table><tr><th>&nbsp;</th><th>core type</th><th>sub-expressions</th><th>expression</th></tr>\n",
       "<tr><td>0</td><td>ExprTuple</td><td>1, 2, 3</td><td><a class=\"ProveItLink\" href=\"expr.ipynb\"><img src=\"expr.png\" style=\"display:inline;vertical-align:middle;\" /></a></td></tr>\n",
       "<tr><td>1</td><td>ExprRange</td><td>lambda_map:&nbsp;4<br>start_index:&nbsp;9<br>end_index:&nbsp;5<br></td><td><a class=\"ProveItLink\" href=\"../../../../../../core_expr_types/__pv_it/common/88690fe244074d101627de9d933bdb8ba2a87d430/expr.ipynb\"><img src=\"../../../../../../core_expr_types/__pv_it/common/88690fe244074d101627de9d933bdb8ba2a87d430/expr.png\" style=\"display:inline;vertical-align:middle;\" /></a></td></tr>\n",
       "<tr><td>2</td><td>ExprRange</td><td>lambda_map:&nbsp;6<br>start_index:&nbsp;9<br>end_index:&nbsp;7<br></td><td><a class=\"ProveItLink\" href=\"../../../../../../core_expr_types/__pv_it/common/3e4d82792343c1b5f3c6c6e0400b2769320ff5030/expr.ipynb\"><img src=\"../../../../../../core_expr_types/__pv_it/common/3e4d82792343c1b5f3c6c6e0400b2769320ff5030/expr.png\" style=\"display:inline;vertical-align:middle;\" /></a></td></tr>\n",
       "<tr><td>3</td><td>ExprRange</td><td>lambda_map:&nbsp;8<br>start_index:&nbsp;9<br>end_index:&nbsp;10<br></td><td><a class=\"ProveItLink\" href=\"../../../../../../core_expr_types/__pv_it/common/e65c5945bd28d04ab16a8cf959c7330e438d17bc0/expr.ipynb\"><img src=\"../../../../../../core_expr_types/__pv_it/common/e65c5945bd28d04ab16a8cf959c7330e438d17bc0/expr.png\" style=\"display:inline;vertical-align:middle;\" /></a></td></tr>\n",
       "<tr><td>4</td><td>Lambda</td><td>parameter:&nbsp;17<br>body:&nbsp;11<br></td><td><a class=\"ProveItLink\" href=\"../../../../../../core_expr_types/__pv_it/common/db87d41146842355e9d6585688749d13269ab0980/expr.ipynb\"><img src=\"../../../../../../core_expr_types/__pv_it/common/db87d41146842355e9d6585688749d13269ab0980/expr.png\" style=\"display:inline;vertical-align:middle;\" /></a></td></tr>\n",
       "<tr><td>5</td><td>Variable</td><td></td><td><a class=\"ProveItLink\" href=\"../../../../../../__pv_it/common/27cc275d44b4f4499fb9ccfb3fab1a98165d2fa60/expr.ipynb\"><img src=\"../../../../../../__pv_it/common/27cc275d44b4f4499fb9ccfb3fab1a98165d2fa60/expr.png\" style=\"display:inline;vertical-align:middle;\" /></a></td></tr>\n",
       "<tr><td>6</td><td>Lambda</td><td>parameter:&nbsp;17<br>body:&nbsp;12<br></td><td><a class=\"ProveItLink\" href=\"../../../../../../core_expr_types/__pv_it/common/14e537a69156ff3b4cc3e2b46c0bc1595be1915c0/expr.ipynb\"><img src=\"../../../../../../core_expr_types/__pv_it/common/14e537a69156ff3b4cc3e2b46c0bc1595be1915c0/expr.png\" style=\"display:inline;vertical-align:middle;\" /></a></td></tr>\n",
       "<tr><td>7</td><td>Variable</td><td></td><td><a class=\"ProveItLink\" href=\"../../../../../../__pv_it/common/674a03b9c3ca221b3aabd5636837b31528ff33830/expr.ipynb\"><img src=\"../../../../../../__pv_it/common/674a03b9c3ca221b3aabd5636837b31528ff33830/expr.png\" style=\"display:inline;vertical-align:middle;\" /></a></td></tr>\n",
       "<tr><td>8</td><td>Lambda</td><td>parameter:&nbsp;17<br>body:&nbsp;13<br></td><td><a class=\"ProveItLink\" href=\"../../../../../../core_expr_types/__pv_it/common/735fd06c5ab0aaa2fbd887b513f592492fdcee940/expr.ipynb\"><img src=\"../../../../../../core_expr_types/__pv_it/common/735fd06c5ab0aaa2fbd887b513f592492fdcee940/expr.png\" style=\"display:inline;vertical-align:middle;\" /></a></td></tr>\n",
       "<tr><td>9</td><td>Literal</td><td></td><td><a class=\"ProveItLink\" href=\"../../../../../../numbers/numerals/__pv_it/common/2778428c7f555b2bdc06aa0530bc142c6e6335100/expr.ipynb\"><img src=\"../../../../../../numbers/numerals/__pv_it/common/2778428c7f555b2bdc06aa0530bc142c6e6335100/expr.png\" style=\"display:inline;vertical-align:middle;\" /></a></td></tr>\n",
       "<tr><td>10</td><td>Variable</td><td></td><td><a class=\"ProveItLink\" href=\"../../../../../../__pv_it/common/8968bb04eb3f7dfa02353397ce929b025bbd79c20/expr.ipynb\"><img src=\"../../../../../../__pv_it/common/8968bb04eb3f7dfa02353397ce929b025bbd79c20/expr.png\" style=\"display:inline;vertical-align:middle;\" /></a></td></tr>\n",
       "<tr><td>11</td><td>IndexedVar</td><td>variable:&nbsp;14<br>index:&nbsp;17<br></td><td><a class=\"ProveItLink\" href=\"../../../../../../core_expr_types/__pv_it/common/65f6ea908cba61c02c46e59c65a80b52e171496d0/expr.ipynb\"><img src=\"../../../../../../core_expr_types/__pv_it/common/65f6ea908cba61c02c46e59c65a80b52e171496d0/expr.png\" style=\"display:inline;vertical-align:middle;\" /></a></td></tr>\n",
       "<tr><td>12</td><td>IndexedVar</td><td>variable:&nbsp;15<br>index:&nbsp;17<br></td><td><a class=\"ProveItLink\" href=\"../../../../../../core_expr_types/__pv_it/common/6be519f77f8e35455c857bbd73a9aacbdbee96610/expr.ipynb\"><img src=\"../../../../../../core_expr_types/__pv_it/common/6be519f77f8e35455c857bbd73a9aacbdbee96610/expr.png\" style=\"display:inline;vertical-align:middle;\" /></a></td></tr>\n",
       "<tr><td>13</td><td>IndexedVar</td><td>variable:&nbsp;16<br>index:&nbsp;17<br></td><td><a class=\"ProveItLink\" href=\"../../../../../../core_expr_types/__pv_it/common/129e0fbda88d5300ebce8374b884a28c2f22b2730/expr.ipynb\"><img src=\"../../../../../../core_expr_types/__pv_it/common/129e0fbda88d5300ebce8374b884a28c2f22b2730/expr.png\" style=\"display:inline;vertical-align:middle;\" /></a></td></tr>\n",
       "<tr><td>14</td><td>Variable</td><td></td><td><a class=\"ProveItLink\" href=\"../../../../../../__pv_it/common/09585084922504426caf1db2ff588a23a0932a960/expr.ipynb\"><img src=\"../../../../../../__pv_it/common/09585084922504426caf1db2ff588a23a0932a960/expr.png\" style=\"display:inline;vertical-align:middle;\" /></a></td></tr>\n",
       "<tr><td>15</td><td>Variable</td><td></td><td><a class=\"ProveItLink\" href=\"../../../../../../__pv_it/common/a9162d1c3cc0470c02e5daf414500903a7a419230/expr.ipynb\"><img src=\"../../../../../../__pv_it/common/a9162d1c3cc0470c02e5daf414500903a7a419230/expr.png\" style=\"display:inline;vertical-align:middle;\" /></a></td></tr>\n",
       "<tr><td>16</td><td>Variable</td><td></td><td><a class=\"ProveItLink\" href=\"../../../../../../__pv_it/common/9fba9f29e823606ff4fdf2f1c6d5d08d906e850a0/expr.ipynb\"><img src=\"../../../../../../__pv_it/common/9fba9f29e823606ff4fdf2f1c6d5d08d906e850a0/expr.png\" style=\"display:inline;vertical-align:middle;\" /></a></td></tr>\n",
       "<tr><td>17</td><td>Variable</td><td></td><td><a class=\"ProveItLink\" href=\"../../../../../../core_expr_types/__pv_it/common/006c465e50948aa2b52285e2de47974f741255cc0/expr.ipynb\"><img src=\"../../../../../../core_expr_types/__pv_it/common/006c465e50948aa2b52285e2de47974f741255cc0/expr.png\" style=\"display:inline;vertical-align:middle;\" /></a></td></tr>\n",
       "</table>\n"
      ],
      "text/plain": [
       "0. (A_{1}, ..A_{_a}.., A_{l}, B_{1}, ..B_{_a}.., B_{m}, C_{1}, ..C_{_a}.., C_{n})\n",
       "   core type: ExprTuple\n",
       "   sub-expressions: 1, 2, 3\n",
       "1. A_{1}, ..A_{_a}.., A_{l}\n",
       "   core type: ExprRange\n",
       "   lambda_map: 4\n",
       "   start_index: 9\n",
       "   end_index: 5\n",
       "2. B_{1}, ..B_{_a}.., B_{m}\n",
       "   core type: ExprRange\n",
       "   lambda_map: 6\n",
       "   start_index: 9\n",
       "   end_index: 7\n",
       "3. C_{1}, ..C_{_a}.., C_{n}\n",
       "   core type: ExprRange\n",
       "   lambda_map: 8\n",
       "   start_index: 9\n",
       "   end_index: 10\n",
       "4. _a -> A_{_a}\n",
       "   core type: Lambda\n",
       "   parameter: 17\n",
       "   body: 11\n",
       "5. l\n",
       "   core type: Variable\n",
       "   sub-expressions: \n",
       "6. _a -> B_{_a}\n",
       "   core type: Lambda\n",
       "   parameter: 17\n",
       "   body: 12\n",
       "7. m\n",
       "   core type: Variable\n",
       "   sub-expressions: \n",
       "8. _a -> C_{_a}\n",
       "   core type: Lambda\n",
       "   parameter: 17\n",
       "   body: 13\n",
       "9. 1\n",
       "   core type: Literal\n",
       "   sub-expressions: \n",
       "10. n\n",
       "    core type: Variable\n",
       "    sub-expressions: \n",
       "11. A_{_a}\n",
       "    core type: IndexedVar\n",
       "variable: 14\n",
       "index: 17\n",
       "12. B_{_a}\n",
       "    core type: IndexedVar\n",
       "variable: 15\n",
       "index: 17\n",
       "13. C_{_a}\n",
       "    core type: IndexedVar\n",
       "variable: 16\n",
       "index: 17\n",
       "14. A\n",
       "    core type: Variable\n",
       "    sub-expressions: \n",
       "15. B\n",
       "    core type: Variable\n",
       "    sub-expressions: \n",
       "16. C\n",
       "    core type: Variable\n",
       "    sub-expressions: \n",
       "17. _a\n",
       "    core type: Variable\n",
       "    sub-expressions: "
      ]
     },
     "execution_count": 5,
     "metadata": {},
     "output_type": "execute_result"
    }
   ],
   "source": [
    "# display the expression information\n",
    "expr.expr_info()"
   ]
  },
  {
   "cell_type": "code",
   "execution_count": null,
   "metadata": {},
   "outputs": [],
   "source": []
  }
 ],
 "metadata": {
  "kernelspec": {
   "display_name": "Python 3",
   "language": "python",
   "name": "python3"
  }
 },
 "nbformat": 4,
 "nbformat_minor": 0
}