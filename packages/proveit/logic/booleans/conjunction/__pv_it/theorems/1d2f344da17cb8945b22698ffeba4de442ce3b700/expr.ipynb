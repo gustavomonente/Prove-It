{
 "cells": [
  {
   "cell_type": "markdown",
   "metadata": {},
   "source": [
    "Expression of type <a class=\"ProveItLink\" href=\"../../../../../../../../doc/html/api/proveit.Conditional.html\">Conditional</a>\n",
    "=======================\n",
    "# from the theory of <a class=\"ProveItLink\" href=\"../../../_theory_nbs_/theory.ipynb\">proveit.logic.booleans.conjunction</a>"
   ]
  },
  {
   "cell_type": "code",
   "execution_count": 1,
   "metadata": {},
   "outputs": [],
   "source": [
    "import proveit\n",
    "# Automation is not needed when building an expression:\n",
    "proveit.defaults.automation = False # This will speed things up.\n",
    "proveit.defaults.inline_pngs = False # Makes files smaller.\n",
    "%load_expr # Load the stored expression as 'stored_expr'\n",
    "# import Expression classes needed to build the expression\n",
    "from proveit import A, B, C, Conditional, D, ExprRange, IndexedVar, Variable, l, m, n\n",
    "from proveit.core_expr_types import A_1_to_l, C_1_to_m, D_1_to_n\n",
    "from proveit.logic import And, Boolean, Equals, InSet\n",
    "from proveit.numbers import one"
   ]
  },
  {
   "cell_type": "code",
   "execution_count": 2,
   "metadata": {},
   "outputs": [
    {
     "data": {
      "text/html": [
       "<strong id=\"expr\">expr:</strong> <a class=\"ProveItLink\" href=\"expr.ipynb\"><img src=\"expr.png\" style=\"display:inline;vertical-align:middle;\" /></a><br>"
      ],
      "text/plain": [
       "expr: {(A_{1} and ..A_{_a}.. and A_{l} and B and C_{1} and ..C_{_a}.. and C_{m} and D_{1} and ..D_{_a}.. and D_{n}) =  \\\\ (A_{1} and ..A_{_a}.. and A_{l} and C_{1} and ..C_{_a}.. and C_{m} and B and D_{1} and ..D_{_a}.. and D_{n}) if A_{1} in BOOLEAN ,  ..A_{_a} in BOOLEAN.. ,  A_{l} in BOOLEAN ,  B in BOOLEAN ,  C_{1} in BOOLEAN ,  ..C_{_a} in BOOLEAN.. ,  C_{m} in BOOLEAN ,  D_{1} in BOOLEAN ,  ..D_{_a} in BOOLEAN.. ,  D_{n} in BOOLEAN."
      ]
     },
     "execution_count": 2,
     "metadata": {},
     "output_type": "execute_result"
    }
   ],
   "source": [
    "# build up the expression from sub-expressions\n",
    "sub_expr1 = Variable(\"_a\", latex_format = r\"{_{-}a}\")\n",
    "expr = Conditional(Equals(And(A_1_to_l, B, C_1_to_m, D_1_to_n), And(A_1_to_l, C_1_to_m, B, D_1_to_n)).with_wrapping_at(2), And(ExprRange(sub_expr1, InSet(IndexedVar(A, sub_expr1), Boolean), one, l), InSet(B, Boolean), ExprRange(sub_expr1, InSet(IndexedVar(C, sub_expr1), Boolean), one, m), ExprRange(sub_expr1, InSet(IndexedVar(D, sub_expr1), Boolean), one, n)))"
   ]
  },
  {
   "cell_type": "code",
   "execution_count": 3,
   "metadata": {},
   "outputs": [
    {
     "name": "stdout",
     "output_type": "stream",
     "text": [
      "Passed sanity check: expr matches stored_expr\n"
     ]
    }
   ],
   "source": [
    "# check that the built expression is the same as the stored expression\n",
    "assert expr == stored_expr\n",
    "assert expr._style_id == stored_expr._style_id\n",
    "print(\"Passed sanity check: expr matches stored_expr\")"
   ]
  },
  {
   "cell_type": "code",
   "execution_count": 4,
   "metadata": {},
   "outputs": [
    {
     "name": "stdout",
     "output_type": "stream",
     "text": [
      "\\left\\{\\begin{array}{c} \\begin{array}{l} \\left(A_{1} \\land \\ldots \\land A_{l} \\land B \\land C_{1} \\land \\ldots \\land C_{m} \\land D_{1} \\land \\ldots \\land D_{n}\\right) =  \\\\ \\left(A_{1} \\land \\ldots \\land A_{l} \\land C_{1} \\land \\ldots \\land C_{m} \\land B \\land D_{1} \\land \\ldots \\land D_{n}\\right) \\end{array} \\end{array} \\textrm{ if } A_{1} \\in \\mathbb{B} ,  \\ldots ,  A_{l} \\in \\mathbb{B} ,  B \\in \\mathbb{B} ,  C_{1} \\in \\mathbb{B} ,  \\ldots ,  C_{m} \\in \\mathbb{B} ,  D_{1} \\in \\mathbb{B} ,  \\ldots ,  D_{n} \\in \\mathbb{B}\\right..\n"
     ]
    }
   ],
   "source": [
    "# Show the LaTeX representation of the expression for convenience if you need it.\n",
    "print(expr.latex())"
   ]
  },
  {
   "cell_type": "code",
   "execution_count": 5,
   "metadata": {},
   "outputs": [
    {
     "data": {
      "text/html": [
       "<table>\n",
       "<tr><th>name</th><th>description</th><th>default</th><th>current value</th><th>related methods</th></tr><tr><td>condition_delimiter</td><td>'comma' or 'and'</td><td>comma</td><td>comma</td><td>('with_comma_delimiter', 'with_conjunction_delimiter')</td></tr>\n",
       "</table>\n"
      ],
      "text/plain": [
       "style name: condition_delimiter\n",
       "description: 'comma' or 'and'\n",
       "default: comma\n",
       "current value: comma\n",
       "related methods: ('with_comma_delimiter', 'with_conjunction_delimiter')"
      ]
     },
     "execution_count": 5,
     "metadata": {},
     "output_type": "execute_result"
    }
   ],
   "source": [
    "expr.style_options()"
   ]
  },
  {
   "cell_type": "code",
   "execution_count": 6,
   "metadata": {},
   "outputs": [
    {
     "data": {
      "text/html": [
       "<table><tr><th>&nbsp;</th><th>core type</th><th>sub-expressions</th><th>expression</th></tr>\n",
       "<tr><td>0</td><td>Conditional</td><td>value:&nbsp;1<br>condition:&nbsp;2<br></td><td><a class=\"ProveItLink\" href=\"expr.ipynb\"><img src=\"expr.png\" style=\"display:inline;vertical-align:middle;\" /></a></td></tr>\n",
       "<tr><td>1</td><td>Operation</td><td>operator:&nbsp;3<br>operands:&nbsp;4<br></td><td><a class=\"ProveItLink\" href=\"../890be34745bb281c51b05d6526e471b9fab1421f0/expr.ipynb\"><img src=\"../890be34745bb281c51b05d6526e471b9fab1421f0/expr.png\" style=\"display:inline;vertical-align:middle;\" /></a></td></tr>\n",
       "<tr><td>2</td><td>Operation</td><td>operator:&nbsp;13<br>operands:&nbsp;5<br></td><td><a class=\"ProveItLink\" href=\"../0b29cbc0fb14a8722c1370f1136d8b4067c890870/expr.ipynb\"><img src=\"../0b29cbc0fb14a8722c1370f1136d8b4067c890870/expr.png\" style=\"display:inline;vertical-align:middle;\" /></a></td></tr>\n",
       "<tr><td>3</td><td>Literal</td><td></td><td><a class=\"ProveItLink\" href=\"../../../../../equality/__pv_it/common/731dd3955b346c1320ed5c0ba7a618bcda61457d0/expr.ipynb\"><img src=\"../../../../../equality/__pv_it/common/731dd3955b346c1320ed5c0ba7a618bcda61457d0/expr.png\" style=\"display:inline;vertical-align:middle;\" /></a></td></tr>\n",
       "<tr><td>4</td><td>ExprTuple</td><td>6, 7</td><td><a class=\"ProveItLink\" href=\"../d1c3eeae692f18a34ef2c5fbee4a8826733401320/expr.ipynb\"><img src=\"../d1c3eeae692f18a34ef2c5fbee4a8826733401320/expr.png\" style=\"display:inline;vertical-align:middle;\" /></a></td></tr>\n",
       "<tr><td>5</td><td>ExprTuple</td><td>8, 9, 10, 11</td><td><a class=\"ProveItLink\" href=\"../5df418d1fffc3fa9c55c44899f14bb79a6ff317e0/expr.ipynb\"><img src=\"../5df418d1fffc3fa9c55c44899f14bb79a6ff317e0/expr.png\" style=\"display:inline;vertical-align:middle;\" /></a></td></tr>\n",
       "<tr><td>6</td><td>Operation</td><td>operator:&nbsp;13<br>operands:&nbsp;12<br></td><td><a class=\"ProveItLink\" href=\"../5c2b8dd9482a95f6e39ad84b9ab9eae1525ac8a80/expr.ipynb\"><img src=\"../5c2b8dd9482a95f6e39ad84b9ab9eae1525ac8a80/expr.png\" style=\"display:inline;vertical-align:middle;\" /></a></td></tr>\n",
       "<tr><td>7</td><td>Operation</td><td>operator:&nbsp;13<br>operands:&nbsp;14<br></td><td><a class=\"ProveItLink\" href=\"../ca2414dfcf13431a5c72cce2ed74dde8d4a882760/expr.ipynb\"><img src=\"../ca2414dfcf13431a5c72cce2ed74dde8d4a882760/expr.png\" style=\"display:inline;vertical-align:middle;\" /></a></td></tr>\n",
       "<tr><td>8</td><td>ExprRange</td><td>lambda_map:&nbsp;15<br>start_index:&nbsp;31<br>end_index:&nbsp;27<br></td><td><a class=\"ProveItLink\" href=\"../0cfb2f1a6e3e8d9859d7cfde14e770607df7cc8c0/expr.ipynb\"><img src=\"../0cfb2f1a6e3e8d9859d7cfde14e770607df7cc8c0/expr.png\" style=\"display:inline;vertical-align:middle;\" /></a></td></tr>\n",
       "<tr><td>9</td><td>Operation</td><td>operator:&nbsp;35<br>operands:&nbsp;16<br></td><td><a class=\"ProveItLink\" href=\"../67501eb487d67b93f0ec3f6965561f782e470d670/expr.ipynb\"><img src=\"../67501eb487d67b93f0ec3f6965561f782e470d670/expr.png\" style=\"display:inline;vertical-align:middle;\" /></a></td></tr>\n",
       "<tr><td>10</td><td>ExprRange</td><td>lambda_map:&nbsp;17<br>start_index:&nbsp;31<br>end_index:&nbsp;29<br></td><td><a class=\"ProveItLink\" href=\"../830f6f34c8684b741a3fcb4df801fe01db61cb5a0/expr.ipynb\"><img src=\"../830f6f34c8684b741a3fcb4df801fe01db61cb5a0/expr.png\" style=\"display:inline;vertical-align:middle;\" /></a></td></tr>\n",
       "<tr><td>11</td><td>ExprRange</td><td>lambda_map:&nbsp;18<br>start_index:&nbsp;31<br>end_index:&nbsp;32<br></td><td><a class=\"ProveItLink\" href=\"../5d174897231aba46c24b20cd8f6d78f3a7ef6d4d0/expr.ipynb\"><img src=\"../5d174897231aba46c24b20cd8f6d78f3a7ef6d4d0/expr.png\" style=\"display:inline;vertical-align:middle;\" /></a></td></tr>\n",
       "<tr><td>12</td><td>ExprTuple</td><td>19, 23, 20, 21</td><td><a class=\"ProveItLink\" href=\"../823f6176c5746e65a6a7617b9b73ed45a8a8a3610/expr.ipynb\"><img src=\"../823f6176c5746e65a6a7617b9b73ed45a8a8a3610/expr.png\" style=\"display:inline;vertical-align:middle;\" /></a></td></tr>\n",
       "<tr><td>13</td><td>Literal</td><td></td><td><a class=\"ProveItLink\" href=\"../../common/26b94b53e70b1d77b70f0d9d4236347db37731060/expr.ipynb\"><img src=\"../../common/26b94b53e70b1d77b70f0d9d4236347db37731060/expr.png\" style=\"display:inline;vertical-align:middle;\" /></a></td></tr>\n",
       "<tr><td>14</td><td>ExprTuple</td><td>19, 20, 23, 21</td><td><a class=\"ProveItLink\" href=\"../fae063ab62cc3b86c0620175dd9045a1e97574840/expr.ipynb\"><img src=\"../fae063ab62cc3b86c0620175dd9045a1e97574840/expr.png\" style=\"display:inline;vertical-align:middle;\" /></a></td></tr>\n",
       "<tr><td>15</td><td>Lambda</td><td>parameter:&nbsp;45<br>body:&nbsp;22<br></td><td><a class=\"ProveItLink\" href=\"../57ad99e7c548004330720c8120fe2f3f488dfd7b0/expr.ipynb\"><img src=\"../57ad99e7c548004330720c8120fe2f3f488dfd7b0/expr.png\" style=\"display:inline;vertical-align:middle;\" /></a></td></tr>\n",
       "<tr><td>16</td><td>ExprTuple</td><td>23, 40</td><td><a class=\"ProveItLink\" href=\"../b464bb5e9f3209bc967a4021ab40c71e0755ea4e0/expr.ipynb\"><img src=\"../b464bb5e9f3209bc967a4021ab40c71e0755ea4e0/expr.png\" style=\"display:inline;vertical-align:middle;\" /></a></td></tr>\n",
       "<tr><td>17</td><td>Lambda</td><td>parameter:&nbsp;45<br>body:&nbsp;24<br></td><td><a class=\"ProveItLink\" href=\"../44d02f55038efbfa51355c8af2a3161e3b4208f30/expr.ipynb\"><img src=\"../44d02f55038efbfa51355c8af2a3161e3b4208f30/expr.png\" style=\"display:inline;vertical-align:middle;\" /></a></td></tr>\n",
       "<tr><td>18</td><td>Lambda</td><td>parameter:&nbsp;45<br>body:&nbsp;25<br></td><td><a class=\"ProveItLink\" href=\"../53721c14ae9185312e0066cdf38882707fbc8e5c0/expr.ipynb\"><img src=\"../53721c14ae9185312e0066cdf38882707fbc8e5c0/expr.png\" style=\"display:inline;vertical-align:middle;\" /></a></td></tr>\n",
       "<tr><td>19</td><td>ExprRange</td><td>lambda_map:&nbsp;26<br>start_index:&nbsp;31<br>end_index:&nbsp;27<br></td><td><a class=\"ProveItLink\" href=\"../../../../../../core_expr_types/__pv_it/common/81aae054bf8437fbcb7d7ac65ef1a6845e9b5b150/expr.ipynb\"><img src=\"../../../../../../core_expr_types/__pv_it/common/81aae054bf8437fbcb7d7ac65ef1a6845e9b5b150/expr.png\" style=\"display:inline;vertical-align:middle;\" /></a></td></tr>\n",
       "<tr><td>20</td><td>ExprRange</td><td>lambda_map:&nbsp;28<br>start_index:&nbsp;31<br>end_index:&nbsp;29<br></td><td><a class=\"ProveItLink\" href=\"../../../../../../core_expr_types/__pv_it/common/bbba1d96d4dad34b84f391feb80c6b162edb823e0/expr.ipynb\"><img src=\"../../../../../../core_expr_types/__pv_it/common/bbba1d96d4dad34b84f391feb80c6b162edb823e0/expr.png\" style=\"display:inline;vertical-align:middle;\" /></a></td></tr>\n",
       "<tr><td>21</td><td>ExprRange</td><td>lambda_map:&nbsp;30<br>start_index:&nbsp;31<br>end_index:&nbsp;32<br></td><td><a class=\"ProveItLink\" href=\"../../../../../../core_expr_types/__pv_it/common/3ed78a0573846b3421ed45b0b24be09d4c7d3cee0/expr.ipynb\"><img src=\"../../../../../../core_expr_types/__pv_it/common/3ed78a0573846b3421ed45b0b24be09d4c7d3cee0/expr.png\" style=\"display:inline;vertical-align:middle;\" /></a></td></tr>\n",
       "<tr><td>22</td><td>Operation</td><td>operator:&nbsp;35<br>operands:&nbsp;33<br></td><td><a class=\"ProveItLink\" href=\"../55edfe981d91e57d14ee559c772a50bf666d0ed20/expr.ipynb\"><img src=\"../55edfe981d91e57d14ee559c772a50bf666d0ed20/expr.png\" style=\"display:inline;vertical-align:middle;\" /></a></td></tr>\n",
       "<tr><td>23</td><td>Variable</td><td></td><td><a class=\"ProveItLink\" href=\"../../../../../../__pv_it/common/4eca3b30dcf58a58494e201d1b7886d8643a617b0/expr.ipynb\"><img src=\"../../../../../../__pv_it/common/4eca3b30dcf58a58494e201d1b7886d8643a617b0/expr.png\" style=\"display:inline;vertical-align:middle;\" /></a></td></tr>\n",
       "<tr><td>24</td><td>Operation</td><td>operator:&nbsp;35<br>operands:&nbsp;34<br></td><td><a class=\"ProveItLink\" href=\"../f47f729186c285f89676a0e2723676389facb8bd0/expr.ipynb\"><img src=\"../f47f729186c285f89676a0e2723676389facb8bd0/expr.png\" style=\"display:inline;vertical-align:middle;\" /></a></td></tr>\n",
       "<tr><td>25</td><td>Operation</td><td>operator:&nbsp;35<br>operands:&nbsp;36<br></td><td><a class=\"ProveItLink\" href=\"../81265f313ee1eb037fd3d71e58a1fcd78c8e7d760/expr.ipynb\"><img src=\"../81265f313ee1eb037fd3d71e58a1fcd78c8e7d760/expr.png\" style=\"display:inline;vertical-align:middle;\" /></a></td></tr>\n",
       "<tr><td>26</td><td>Lambda</td><td>parameter:&nbsp;45<br>body:&nbsp;37<br></td><td><a class=\"ProveItLink\" href=\"../../../../../../core_expr_types/__pv_it/common/7cb3671e4363a47742a54e63b73ddf8e8fe2c9390/expr.ipynb\"><img src=\"../../../../../../core_expr_types/__pv_it/common/7cb3671e4363a47742a54e63b73ddf8e8fe2c9390/expr.png\" style=\"display:inline;vertical-align:middle;\" /></a></td></tr>\n",
       "<tr><td>27</td><td>Variable</td><td></td><td><a class=\"ProveItLink\" href=\"../../../../../../__pv_it/common/5f60d32873626c7ce57e35d1d9e427fb112cfe7a0/expr.ipynb\"><img src=\"../../../../../../__pv_it/common/5f60d32873626c7ce57e35d1d9e427fb112cfe7a0/expr.png\" style=\"display:inline;vertical-align:middle;\" /></a></td></tr>\n",
       "<tr><td>28</td><td>Lambda</td><td>parameter:&nbsp;45<br>body:&nbsp;38<br></td><td><a class=\"ProveItLink\" href=\"../../../../../../core_expr_types/__pv_it/common/4c1da7aa00988c869f86b048280afeb169884b440/expr.ipynb\"><img src=\"../../../../../../core_expr_types/__pv_it/common/4c1da7aa00988c869f86b048280afeb169884b440/expr.png\" style=\"display:inline;vertical-align:middle;\" /></a></td></tr>\n",
       "<tr><td>29</td><td>Variable</td><td></td><td><a class=\"ProveItLink\" href=\"../../../../../../__pv_it/common/2dc4f15b3407a25e8d70754a86bf74f1871f92650/expr.ipynb\"><img src=\"../../../../../../__pv_it/common/2dc4f15b3407a25e8d70754a86bf74f1871f92650/expr.png\" style=\"display:inline;vertical-align:middle;\" /></a></td></tr>\n",
       "<tr><td>30</td><td>Lambda</td><td>parameter:&nbsp;45<br>body:&nbsp;39<br></td><td><a class=\"ProveItLink\" href=\"../../../../../../core_expr_types/__pv_it/common/bf3815308de7cd6e79cf5a8b71344e821ff307b30/expr.ipynb\"><img src=\"../../../../../../core_expr_types/__pv_it/common/bf3815308de7cd6e79cf5a8b71344e821ff307b30/expr.png\" style=\"display:inline;vertical-align:middle;\" /></a></td></tr>\n",
       "<tr><td>31</td><td>Literal</td><td></td><td><a class=\"ProveItLink\" href=\"../../../../../../numbers/numerals/__pv_it/common/d278e359da0695d9652dd541d45264f93703e2e40/expr.ipynb\"><img src=\"../../../../../../numbers/numerals/__pv_it/common/d278e359da0695d9652dd541d45264f93703e2e40/expr.png\" style=\"display:inline;vertical-align:middle;\" /></a></td></tr>\n",
       "<tr><td>32</td><td>Variable</td><td></td><td><a class=\"ProveItLink\" href=\"../../../../../../__pv_it/common/6165c9bb82ce3c7097cdba4440a1aeeb6eaca8a40/expr.ipynb\"><img src=\"../../../../../../__pv_it/common/6165c9bb82ce3c7097cdba4440a1aeeb6eaca8a40/expr.png\" style=\"display:inline;vertical-align:middle;\" /></a></td></tr>\n",
       "<tr><td>33</td><td>ExprTuple</td><td>37, 40</td><td><a class=\"ProveItLink\" href=\"../0abcd98583fac5283d1d91942b1fa1206b700a840/expr.ipynb\"><img src=\"../0abcd98583fac5283d1d91942b1fa1206b700a840/expr.png\" style=\"display:inline;vertical-align:middle;\" /></a></td></tr>\n",
       "<tr><td>34</td><td>ExprTuple</td><td>38, 40</td><td><a class=\"ProveItLink\" href=\"../23a98ff6fff23d7a267b6bb0bcb4ac37395f23af0/expr.ipynb\"><img src=\"../23a98ff6fff23d7a267b6bb0bcb4ac37395f23af0/expr.png\" style=\"display:inline;vertical-align:middle;\" /></a></td></tr>\n",
       "<tr><td>35</td><td>Literal</td><td></td><td><a class=\"ProveItLink\" href=\"../../../../../sets/membership/__pv_it/common/7171deca84f71f47a6ec7696972d1632274a12880/expr.ipynb\"><img src=\"../../../../../sets/membership/__pv_it/common/7171deca84f71f47a6ec7696972d1632274a12880/expr.png\" style=\"display:inline;vertical-align:middle;\" /></a></td></tr>\n",
       "<tr><td>36</td><td>ExprTuple</td><td>39, 40</td><td><a class=\"ProveItLink\" href=\"../d7231f1b371fa72caa392340d7fbfa908eb1be230/expr.ipynb\"><img src=\"../d7231f1b371fa72caa392340d7fbfa908eb1be230/expr.png\" style=\"display:inline;vertical-align:middle;\" /></a></td></tr>\n",
       "<tr><td>37</td><td>IndexedVar</td><td>variable:&nbsp;41<br>index:&nbsp;45<br></td><td><a class=\"ProveItLink\" href=\"../../../../../../core_expr_types/__pv_it/common/44c047560b26e24c2a9af7e0d00ef8bc5e74e7580/expr.ipynb\"><img src=\"../../../../../../core_expr_types/__pv_it/common/44c047560b26e24c2a9af7e0d00ef8bc5e74e7580/expr.png\" style=\"display:inline;vertical-align:middle;\" /></a></td></tr>\n",
       "<tr><td>38</td><td>IndexedVar</td><td>variable:&nbsp;42<br>index:&nbsp;45<br></td><td><a class=\"ProveItLink\" href=\"../../../../../../core_expr_types/__pv_it/common/0ee3702df5b7424b59efa90500e629500c821e270/expr.ipynb\"><img src=\"../../../../../../core_expr_types/__pv_it/common/0ee3702df5b7424b59efa90500e629500c821e270/expr.png\" style=\"display:inline;vertical-align:middle;\" /></a></td></tr>\n",
       "<tr><td>39</td><td>IndexedVar</td><td>variable:&nbsp;43<br>index:&nbsp;45<br></td><td><a class=\"ProveItLink\" href=\"../../../../../../core_expr_types/__pv_it/common/1ada030c912c610d50fdaae446346fff369f9e480/expr.ipynb\"><img src=\"../../../../../../core_expr_types/__pv_it/common/1ada030c912c610d50fdaae446346fff369f9e480/expr.png\" style=\"display:inline;vertical-align:middle;\" /></a></td></tr>\n",
       "<tr><td>40</td><td>Literal</td><td></td><td><a class=\"ProveItLink\" href=\"../../../../__pv_it/common/8fc291135425020cce4ba1ad615843f54f1fc6600/expr.ipynb\"><img src=\"../../../../__pv_it/common/8fc291135425020cce4ba1ad615843f54f1fc6600/expr.png\" style=\"display:inline;vertical-align:middle;\" /></a></td></tr>\n",
       "<tr><td>41</td><td>Variable</td><td></td><td><a class=\"ProveItLink\" href=\"../../../../../../__pv_it/common/e4aad701f7f5516d8e7f0d805d518bf02c13322a0/expr.ipynb\"><img src=\"../../../../../../__pv_it/common/e4aad701f7f5516d8e7f0d805d518bf02c13322a0/expr.png\" style=\"display:inline;vertical-align:middle;\" /></a></td></tr>\n",
       "<tr><td>42</td><td>Variable</td><td></td><td><a class=\"ProveItLink\" href=\"../../../../../../__pv_it/common/c4a83a53f0ed6678b0c7a2d6d691a4b400f735c90/expr.ipynb\"><img src=\"../../../../../../__pv_it/common/c4a83a53f0ed6678b0c7a2d6d691a4b400f735c90/expr.png\" style=\"display:inline;vertical-align:middle;\" /></a></td></tr>\n",
       "<tr><td>43</td><td>Variable</td><td></td><td><a class=\"ProveItLink\" href=\"../../../../../../__pv_it/common/e5e296931d7f88d2c0ed4dd1b8498a680788952f0/expr.ipynb\"><img src=\"../../../../../../__pv_it/common/e5e296931d7f88d2c0ed4dd1b8498a680788952f0/expr.png\" style=\"display:inline;vertical-align:middle;\" /></a></td></tr>\n",
       "<tr><td>44</td><td>ExprTuple</td><td>45</td><td><a class=\"ProveItLink\" href=\"../../../../../../core_expr_types/__pv_it/common/ecf50ade416ab41c42c9f4e777b4c862cd9469670/expr.ipynb\"><img src=\"../../../../../../core_expr_types/__pv_it/common/ecf50ade416ab41c42c9f4e777b4c862cd9469670/expr.png\" style=\"display:inline;vertical-align:middle;\" /></a></td></tr>\n",
       "<tr><td>45</td><td>Variable</td><td></td><td><a class=\"ProveItLink\" href=\"../../../../../../core_expr_types/__pv_it/common/9e6d9d5d7eeb0342cf5bca68def0eb165a1a9bb10/expr.ipynb\"><img src=\"../../../../../../core_expr_types/__pv_it/common/9e6d9d5d7eeb0342cf5bca68def0eb165a1a9bb10/expr.png\" style=\"display:inline;vertical-align:middle;\" /></a></td></tr>\n",
       "</table>\n"
      ],
      "text/plain": [
       "0. {(A_{1} and ..A_{_a}.. and A_{l} and B and C_{1} and ..C_{_a}.. and C_{m} and D_{1} and ..D_{_a}.. and D_{n}) =  \\\\ (A_{1} and ..A_{_a}.. and A_{l} and C_{1} and ..C_{_a}.. and C_{m} and B and D_{1} and ..D_{_a}.. and D_{n}) if A_{1} in BOOLEAN ,  ..A_{_a} in BOOLEAN.. ,  A_{l} in BOOLEAN ,  B in BOOLEAN ,  C_{1} in BOOLEAN ,  ..C_{_a} in BOOLEAN.. ,  C_{m} in BOOLEAN ,  D_{1} in BOOLEAN ,  ..D_{_a} in BOOLEAN.. ,  D_{n} in BOOLEAN.\n",
       "   core type: Conditional\n",
       "   value: 1\n",
       "   condition: 2\n",
       "1. (A_{1} and ..A_{_a}.. and A_{l} and B and C_{1} and ..C_{_a}.. and C_{m} and D_{1} and ..D_{_a}.. and D_{n}) =  \\\\ (A_{1} and ..A_{_a}.. and A_{l} and C_{1} and ..C_{_a}.. and C_{m} and B and D_{1} and ..D_{_a}.. and D_{n})\n",
       "   core type: Operation\n",
       "   operator: 3\n",
       "   operands: 4\n",
       "2. (A_{1} in BOOLEAN) and ..(A_{_a} in BOOLEAN).. and (A_{l} in BOOLEAN) and (B in BOOLEAN) and (C_{1} in BOOLEAN) and ..(C_{_a} in BOOLEAN).. and (C_{m} in BOOLEAN) and (D_{1} in BOOLEAN) and ..(D_{_a} in BOOLEAN).. and (D_{n} in BOOLEAN)\n",
       "   core type: Operation\n",
       "   operator: 13\n",
       "   operands: 5\n",
       "3. =\n",
       "   core type: Literal\n",
       "   sub-expressions: \n",
       "4. (A_{1} and ..A_{_a}.. and A_{l} and B and C_{1} and ..C_{_a}.. and C_{m} and D_{1} and ..D_{_a}.. and D_{n}, A_{1} and ..A_{_a}.. and A_{l} and C_{1} and ..C_{_a}.. and C_{m} and B and D_{1} and ..D_{_a}.. and D_{n})\n",
       "   core type: ExprTuple\n",
       "   sub-expressions: 6, 7\n",
       "5. (A_{1} in BOOLEAN, ..A_{_a} in BOOLEAN.., A_{l} in BOOLEAN, B in BOOLEAN, C_{1} in BOOLEAN, ..C_{_a} in BOOLEAN.., C_{m} in BOOLEAN, D_{1} in BOOLEAN, ..D_{_a} in BOOLEAN.., D_{n} in BOOLEAN)\n",
       "   core type: ExprTuple\n",
       "   sub-expressions: 8, 9, 10, 11\n",
       "6. A_{1} and ..A_{_a}.. and A_{l} and B and C_{1} and ..C_{_a}.. and C_{m} and D_{1} and ..D_{_a}.. and D_{n}\n",
       "   core type: Operation\n",
       "   operator: 13\n",
       "   operands: 12\n",
       "7. A_{1} and ..A_{_a}.. and A_{l} and C_{1} and ..C_{_a}.. and C_{m} and B and D_{1} and ..D_{_a}.. and D_{n}\n",
       "   core type: Operation\n",
       "   operator: 13\n",
       "   operands: 14\n",
       "8. (A_{1} in BOOLEAN), ..(A_{_a} in BOOLEAN).., (A_{l} in BOOLEAN)\n",
       "   core type: ExprRange\n",
       "   lambda_map: 15\n",
       "   start_index: 31\n",
       "   end_index: 27\n",
       "9. B in BOOLEAN\n",
       "   core type: Operation\n",
       "   operator: 35\n",
       "   operands: 16\n",
       "10. (C_{1} in BOOLEAN), ..(C_{_a} in BOOLEAN).., (C_{m} in BOOLEAN)\n",
       "    core type: ExprRange\n",
       "    lambda_map: 17\n",
       "    start_index: 31\n",
       "    end_index: 29\n",
       "11. (D_{1} in BOOLEAN), ..(D_{_a} in BOOLEAN).., (D_{n} in BOOLEAN)\n",
       "    core type: ExprRange\n",
       "    lambda_map: 18\n",
       "    start_index: 31\n",
       "    end_index: 32\n",
       "12. (A_{1}, ..A_{_a}.., A_{l}, B, C_{1}, ..C_{_a}.., C_{m}, D_{1}, ..D_{_a}.., D_{n})\n",
       "    core type: ExprTuple\n",
       "    sub-expressions: 19, 23, 20, 21\n",
       "13. and\n",
       "    core type: Literal\n",
       "    sub-expressions: \n",
       "14. (A_{1}, ..A_{_a}.., A_{l}, C_{1}, ..C_{_a}.., C_{m}, B, D_{1}, ..D_{_a}.., D_{n})\n",
       "    core type: ExprTuple\n",
       "    sub-expressions: 19, 20, 23, 21\n",
       "15. _a -> (A_{_a} in BOOLEAN)\n",
       "    core type: Lambda\n",
       "    parameter: 45\n",
       "    body: 22\n",
       "16. (B, BOOLEAN)\n",
       "    core type: ExprTuple\n",
       "    sub-expressions: 23, 40\n",
       "17. _a -> (C_{_a} in BOOLEAN)\n",
       "    core type: Lambda\n",
       "    parameter: 45\n",
       "    body: 24\n",
       "18. _a -> (D_{_a} in BOOLEAN)\n",
       "    core type: Lambda\n",
       "    parameter: 45\n",
       "    body: 25\n",
       "19. A_{1}, ..A_{_a}.., A_{l}\n",
       "    core type: ExprRange\n",
       "    lambda_map: 26\n",
       "    start_index: 31\n",
       "    end_index: 27\n",
       "20. C_{1}, ..C_{_a}.., C_{m}\n",
       "    core type: ExprRange\n",
       "    lambda_map: 28\n",
       "    start_index: 31\n",
       "    end_index: 29\n",
       "21. D_{1}, ..D_{_a}.., D_{n}\n",
       "    core type: ExprRange\n",
       "    lambda_map: 30\n",
       "    start_index: 31\n",
       "    end_index: 32\n",
       "22. A_{_a} in BOOLEAN\n",
       "    core type: Operation\n",
       "    operator: 35\n",
       "    operands: 33\n",
       "23. B\n",
       "    core type: Variable\n",
       "    sub-expressions: \n",
       "24. C_{_a} in BOOLEAN\n",
       "    core type: Operation\n",
       "    operator: 35\n",
       "    operands: 34\n",
       "25. D_{_a} in BOOLEAN\n",
       "    core type: Operation\n",
       "    operator: 35\n",
       "    operands: 36\n",
       "26. _a -> A_{_a}\n",
       "    core type: Lambda\n",
       "    parameter: 45\n",
       "    body: 37\n",
       "27. l\n",
       "    core type: Variable\n",
       "    sub-expressions: \n",
       "28. _a -> C_{_a}\n",
       "    core type: Lambda\n",
       "    parameter: 45\n",
       "    body: 38\n",
       "29. m\n",
       "    core type: Variable\n",
       "    sub-expressions: \n",
       "30. _a -> D_{_a}\n",
       "    core type: Lambda\n",
       "    parameter: 45\n",
       "    body: 39\n",
       "31. 1\n",
       "    core type: Literal\n",
       "    sub-expressions: \n",
       "32. n\n",
       "    core type: Variable\n",
       "    sub-expressions: \n",
       "33. (A_{_a}, BOOLEAN)\n",
       "    core type: ExprTuple\n",
       "    sub-expressions: 37, 40\n",
       "34. (C_{_a}, BOOLEAN)\n",
       "    core type: ExprTuple\n",
       "    sub-expressions: 38, 40\n",
       "35. in\n",
       "    core type: Literal\n",
       "    sub-expressions: \n",
       "36. (D_{_a}, BOOLEAN)\n",
       "    core type: ExprTuple\n",
       "    sub-expressions: 39, 40\n",
       "37. A_{_a}\n",
       "    core type: IndexedVar\n",
       "variable: 41\n",
       "index: 45\n",
       "38. C_{_a}\n",
       "    core type: IndexedVar\n",
       "variable: 42\n",
       "index: 45\n",
       "39. D_{_a}\n",
       "    core type: IndexedVar\n",
       "variable: 43\n",
       "index: 45\n",
       "40. BOOLEAN\n",
       "    core type: Literal\n",
       "    sub-expressions: \n",
       "41. A\n",
       "    core type: Variable\n",
       "    sub-expressions: \n",
       "42. C\n",
       "    core type: Variable\n",
       "    sub-expressions: \n",
       "43. D\n",
       "    core type: Variable\n",
       "    sub-expressions: \n",
       "44. (_a)\n",
       "    core type: ExprTuple\n",
       "    sub-expressions: 45\n",
       "45. _a\n",
       "    core type: Variable\n",
       "    sub-expressions: "
      ]
     },
     "execution_count": 6,
     "metadata": {},
     "output_type": "execute_result"
    }
   ],
   "source": [
    "# display the expression information\n",
    "expr.expr_info()"
   ]
  },
  {
   "cell_type": "code",
   "execution_count": null,
   "metadata": {},
   "outputs": [],
   "source": []
  }
 ],
 "metadata": {
  "kernelspec": {
   "display_name": "Python 3",
   "language": "python",
   "name": "python3"
  }
 },
 "nbformat": 4,
 "nbformat_minor": 0
}