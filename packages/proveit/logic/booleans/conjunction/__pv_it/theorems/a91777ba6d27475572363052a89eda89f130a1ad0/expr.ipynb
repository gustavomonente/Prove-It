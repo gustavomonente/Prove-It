{
 "cells": [
  {
   "cell_type": "markdown",
   "metadata": {},
   "source": [
    "Expression of type <a class=\"ProveItLink\" href=\"../../../../../../../../doc/html/api/proveit.ExprTuple.html\">ExprTuple</a>\n",
    "=======================\n",
    "# from the theory of <a class=\"ProveItLink\" href=\"../../../_theory_nbs_/theory.ipynb\">proveit.logic.booleans.conjunction</a>"
   ]
  },
  {
   "cell_type": "code",
   "execution_count": 1,
   "metadata": {},
   "outputs": [],
   "source": [
    "import proveit\n",
    "# Automation is not needed when building an expression:\n",
    "proveit.defaults.automation = False # This will speed things up.\n",
    "proveit.defaults.inline_pngs = False # Makes files smaller.\n",
    "%load_expr # Load the stored expression as 'stored_expr'\n",
    "# import Expression classes needed to build the expression\n",
    "from proveit import B, Conditional, ExprTuple, Lambda, m, n\n",
    "from proveit.core_expr_types import A_1_to_m, C_1_to_n\n",
    "from proveit.logic import And, Forall, InSet\n",
    "from proveit.numbers import Natural"
   ]
  },
  {
   "cell_type": "code",
   "execution_count": 2,
   "metadata": {},
   "outputs": [
    {
     "data": {
      "text/html": [
       "<strong id=\"expr\">expr:</strong> <a class=\"ProveItLink\" href=\"expr.ipynb\"><img src=\"expr.png\" style=\"display:inline;vertical-align:middle;\" /></a><br>"
      ],
      "text/plain": [
       "expr: ((m, n) -> {forall_{A_{1}, ..A_{_a}.., A_{m}, B, C_{1}, ..C_{_a}.., C_{n} | A_{1}, ..A_{_a}.., A_{m}, B, C_{1}, ..C_{_a}.., C_{n}} B if m in Natural ,  n in Natural.)"
      ]
     },
     "execution_count": 2,
     "metadata": {},
     "output_type": "execute_result"
    }
   ],
   "source": [
    "# build up the expression from sub-expressions\n",
    "sub_expr1 = [A_1_to_m, B, C_1_to_n]\n",
    "expr = ExprTuple(Lambda([m, n], Conditional(Forall(sub_expr1, B, conditions = sub_expr1), And(InSet(m, Natural), InSet(n, Natural)))))"
   ]
  },
  {
   "cell_type": "code",
   "execution_count": 3,
   "metadata": {},
   "outputs": [
    {
     "name": "stdout",
     "output_type": "stream",
     "text": [
      "Passed sanity check: expr matches stored_expr\n"
     ]
    }
   ],
   "source": [
    "# check that the built expression is the same as the stored expression\n",
    "assert expr == stored_expr\n",
    "assert expr._style_id == stored_expr._style_id\n",
    "print(\"Passed sanity check: expr matches stored_expr\")"
   ]
  },
  {
   "cell_type": "code",
   "execution_count": 4,
   "metadata": {},
   "outputs": [
    {
     "name": "stdout",
     "output_type": "stream",
     "text": [
      "\\left(\\left(m, n\\right) \\mapsto \\left\\{\\forall_{A_{1}, \\ldots, A_{m}, B, C_{1}, \\ldots, C_{n}~|~A_{1}, \\ldots, A_{m}, B, C_{1}, \\ldots, C_{n}}~B \\textrm{ if } m \\in \\mathbb{N} ,  n \\in \\mathbb{N}\\right..\\right)\n"
     ]
    }
   ],
   "source": [
    "# Show the LaTeX representation of the expression for convenience if you need it.\n",
    "print(expr.latex())"
   ]
  },
  {
   "cell_type": "code",
   "execution_count": 5,
   "metadata": {},
   "outputs": [
    {
     "data": {
      "text/html": [
       "no style options"
      ],
      "text/plain": [
       "no style options"
      ]
     },
     "execution_count": 5,
     "metadata": {},
     "output_type": "execute_result"
    }
   ],
   "source": [
    "expr.style_options()"
   ]
  },
  {
   "cell_type": "code",
   "execution_count": 6,
   "metadata": {},
   "outputs": [
    {
     "data": {
      "text/html": [
       "<table><tr><th>&nbsp;</th><th>core type</th><th>sub-expressions</th><th>expression</th></tr>\n",
       "<tr><td>0</td><td>ExprTuple</td><td>1</td><td><a class=\"ProveItLink\" href=\"expr.ipynb\"><img src=\"expr.png\" style=\"display:inline;vertical-align:middle;\" /></a></td></tr>\n",
       "<tr><td>1</td><td>Lambda</td><td>parameters:&nbsp;2<br>body:&nbsp;3<br></td><td><a class=\"ProveItLink\" href=\"../70c4f48d60b540a281738de8e864bcc6318a85a10/expr.ipynb\"><img src=\"../70c4f48d60b540a281738de8e864bcc6318a85a10/expr.png\" style=\"display:inline;vertical-align:middle;\" /></a></td></tr>\n",
       "<tr><td>2</td><td>ExprTuple</td><td>24, 27</td><td><a class=\"ProveItLink\" href=\"../42fe241b1162918a11a68cd18ac6dbf80c2188710/expr.ipynb\"><img src=\"../42fe241b1162918a11a68cd18ac6dbf80c2188710/expr.png\" style=\"display:inline;vertical-align:middle;\" /></a></td></tr>\n",
       "<tr><td>3</td><td>Conditional</td><td>value:&nbsp;4<br>condition:&nbsp;5<br></td><td><a class=\"ProveItLink\" href=\"../9fb79df41211da6ba3ee4ff9b9521914409c31ca0/expr.ipynb\"><img src=\"../9fb79df41211da6ba3ee4ff9b9521914409c31ca0/expr.png\" style=\"display:inline;vertical-align:middle;\" /></a></td></tr>\n",
       "<tr><td>4</td><td>Operation</td><td>operator:&nbsp;6<br>operand:&nbsp;9<br></td><td><a class=\"ProveItLink\" href=\"../8a75d81af0e6bff3e5967055747f20aeac0c47600/expr.ipynb\"><img src=\"../8a75d81af0e6bff3e5967055747f20aeac0c47600/expr.png\" style=\"display:inline;vertical-align:middle;\" /></a></td></tr>\n",
       "<tr><td>5</td><td>Operation</td><td>operator:&nbsp;18<br>operands:&nbsp;8<br></td><td><a class=\"ProveItLink\" href=\"../8f3e762e18c2abf1a69d0afd1426a3ffb7fbb82e0/expr.ipynb\"><img src=\"../8f3e762e18c2abf1a69d0afd1426a3ffb7fbb82e0/expr.png\" style=\"display:inline;vertical-align:middle;\" /></a></td></tr>\n",
       "<tr><td>6</td><td>Literal</td><td></td><td><a class=\"ProveItLink\" href=\"../../../../quantification/universality/__pv_it/common/684d35ba98fcbf8ca5011f865e530a51e77730630/expr.ipynb\"><img src=\"../../../../quantification/universality/__pv_it/common/684d35ba98fcbf8ca5011f865e530a51e77730630/expr.png\" style=\"display:inline;vertical-align:middle;\" /></a></td></tr>\n",
       "<tr><td>7</td><td>ExprTuple</td><td>9</td><td><a class=\"ProveItLink\" href=\"../e45db58107ac30a506da80bb8a4cb6c8106d11680/expr.ipynb\"><img src=\"../e45db58107ac30a506da80bb8a4cb6c8106d11680/expr.png\" style=\"display:inline;vertical-align:middle;\" /></a></td></tr>\n",
       "<tr><td>8</td><td>ExprTuple</td><td>10, 11</td><td><a class=\"ProveItLink\" href=\"../ae82fc10b58fdae7e5ab20abece426c1e60558ad0/expr.ipynb\"><img src=\"../ae82fc10b58fdae7e5ab20abece426c1e60558ad0/expr.png\" style=\"display:inline;vertical-align:middle;\" /></a></td></tr>\n",
       "<tr><td>9</td><td>Lambda</td><td>parameters:&nbsp;19<br>body:&nbsp;12<br></td><td><a class=\"ProveItLink\" href=\"../06bf9b5bcc36d197c8bb64858b948e52befff15d0/expr.ipynb\"><img src=\"../06bf9b5bcc36d197c8bb64858b948e52befff15d0/expr.png\" style=\"display:inline;vertical-align:middle;\" /></a></td></tr>\n",
       "<tr><td>10</td><td>Operation</td><td>operator:&nbsp;14<br>operands:&nbsp;13<br></td><td><a class=\"ProveItLink\" href=\"../3287be28b2126783aeddb65edbf04637df184bd00/expr.ipynb\"><img src=\"../3287be28b2126783aeddb65edbf04637df184bd00/expr.png\" style=\"display:inline;vertical-align:middle;\" /></a></td></tr>\n",
       "<tr><td>11</td><td>Operation</td><td>operator:&nbsp;14<br>operands:&nbsp;15<br></td><td><a class=\"ProveItLink\" href=\"../e3c5b209faa86f1e812d35da64c9d9b711de675d0/expr.ipynb\"><img src=\"../e3c5b209faa86f1e812d35da64c9d9b711de675d0/expr.png\" style=\"display:inline;vertical-align:middle;\" /></a></td></tr>\n",
       "<tr><td>12</td><td>Conditional</td><td>value:&nbsp;21<br>condition:&nbsp;16<br></td><td><a class=\"ProveItLink\" href=\"../f0d88cf89503898b6b4927b112e52afede6ee05d0/expr.ipynb\"><img src=\"../f0d88cf89503898b6b4927b112e52afede6ee05d0/expr.png\" style=\"display:inline;vertical-align:middle;\" /></a></td></tr>\n",
       "<tr><td>13</td><td>ExprTuple</td><td>24, 17</td><td><a class=\"ProveItLink\" href=\"../04159094d330187d96682e7798bfbb21b0aae5810/expr.ipynb\"><img src=\"../04159094d330187d96682e7798bfbb21b0aae5810/expr.png\" style=\"display:inline;vertical-align:middle;\" /></a></td></tr>\n",
       "<tr><td>14</td><td>Literal</td><td></td><td><a class=\"ProveItLink\" href=\"../../../../../sets/membership/__pv_it/common/7171deca84f71f47a6ec7696972d1632274a12880/expr.ipynb\"><img src=\"../../../../../sets/membership/__pv_it/common/7171deca84f71f47a6ec7696972d1632274a12880/expr.png\" style=\"display:inline;vertical-align:middle;\" /></a></td></tr>\n",
       "<tr><td>15</td><td>ExprTuple</td><td>27, 17</td><td><a class=\"ProveItLink\" href=\"../248776733c2a8aa9cdfdf4f76f63a3d26b6d139d0/expr.ipynb\"><img src=\"../248776733c2a8aa9cdfdf4f76f63a3d26b6d139d0/expr.png\" style=\"display:inline;vertical-align:middle;\" /></a></td></tr>\n",
       "<tr><td>16</td><td>Operation</td><td>operator:&nbsp;18<br>operands:&nbsp;19<br></td><td><a class=\"ProveItLink\" href=\"../b18bedd024468c8fb99621f11e5719d61e6961690/expr.ipynb\"><img src=\"../b18bedd024468c8fb99621f11e5719d61e6961690/expr.png\" style=\"display:inline;vertical-align:middle;\" /></a></td></tr>\n",
       "<tr><td>17</td><td>Literal</td><td></td><td><a class=\"ProveItLink\" href=\"../../../../../../numbers/number_sets/natural_numbers/__pv_it/common/85c8b43c90a7392ebb5459360d343dfa7c7408b50/expr.ipynb\"><img src=\"../../../../../../numbers/number_sets/natural_numbers/__pv_it/common/85c8b43c90a7392ebb5459360d343dfa7c7408b50/expr.png\" style=\"display:inline;vertical-align:middle;\" /></a></td></tr>\n",
       "<tr><td>18</td><td>Literal</td><td></td><td><a class=\"ProveItLink\" href=\"../../common/26b94b53e70b1d77b70f0d9d4236347db37731060/expr.ipynb\"><img src=\"../../common/26b94b53e70b1d77b70f0d9d4236347db37731060/expr.png\" style=\"display:inline;vertical-align:middle;\" /></a></td></tr>\n",
       "<tr><td>19</td><td>ExprTuple</td><td>20, 21, 22</td><td><a class=\"ProveItLink\" href=\"../075f527bea399d29e943b209d9498a6139539a2f0/expr.ipynb\"><img src=\"../075f527bea399d29e943b209d9498a6139539a2f0/expr.png\" style=\"display:inline;vertical-align:middle;\" /></a></td></tr>\n",
       "<tr><td>20</td><td>ExprRange</td><td>lambda_map:&nbsp;23<br>start_index:&nbsp;26<br>end_index:&nbsp;24<br></td><td><a class=\"ProveItLink\" href=\"../../../../../../core_expr_types/__pv_it/common/30c3e05d1ed167fcc220828c60f35ec81c3feb3f0/expr.ipynb\"><img src=\"../../../../../../core_expr_types/__pv_it/common/30c3e05d1ed167fcc220828c60f35ec81c3feb3f0/expr.png\" style=\"display:inline;vertical-align:middle;\" /></a></td></tr>\n",
       "<tr><td>21</td><td>Variable</td><td></td><td><a class=\"ProveItLink\" href=\"../../../../../../__pv_it/common/4eca3b30dcf58a58494e201d1b7886d8643a617b0/expr.ipynb\"><img src=\"../../../../../../__pv_it/common/4eca3b30dcf58a58494e201d1b7886d8643a617b0/expr.png\" style=\"display:inline;vertical-align:middle;\" /></a></td></tr>\n",
       "<tr><td>22</td><td>ExprRange</td><td>lambda_map:&nbsp;25<br>start_index:&nbsp;26<br>end_index:&nbsp;27<br></td><td><a class=\"ProveItLink\" href=\"../../../../../../core_expr_types/__pv_it/common/9fce168a8a08a6e6879192331c0272f507a25c230/expr.ipynb\"><img src=\"../../../../../../core_expr_types/__pv_it/common/9fce168a8a08a6e6879192331c0272f507a25c230/expr.png\" style=\"display:inline;vertical-align:middle;\" /></a></td></tr>\n",
       "<tr><td>23</td><td>Lambda</td><td>parameter:&nbsp;33<br>body:&nbsp;28<br></td><td><a class=\"ProveItLink\" href=\"../../../../../../core_expr_types/__pv_it/common/7cb3671e4363a47742a54e63b73ddf8e8fe2c9390/expr.ipynb\"><img src=\"../../../../../../core_expr_types/__pv_it/common/7cb3671e4363a47742a54e63b73ddf8e8fe2c9390/expr.png\" style=\"display:inline;vertical-align:middle;\" /></a></td></tr>\n",
       "<tr><td>24</td><td>Variable</td><td></td><td><a class=\"ProveItLink\" href=\"../../../../../../__pv_it/common/2dc4f15b3407a25e8d70754a86bf74f1871f92650/expr.ipynb\"><img src=\"../../../../../../__pv_it/common/2dc4f15b3407a25e8d70754a86bf74f1871f92650/expr.png\" style=\"display:inline;vertical-align:middle;\" /></a></td></tr>\n",
       "<tr><td>25</td><td>Lambda</td><td>parameter:&nbsp;33<br>body:&nbsp;29<br></td><td><a class=\"ProveItLink\" href=\"../../../../../../core_expr_types/__pv_it/common/4c1da7aa00988c869f86b048280afeb169884b440/expr.ipynb\"><img src=\"../../../../../../core_expr_types/__pv_it/common/4c1da7aa00988c869f86b048280afeb169884b440/expr.png\" style=\"display:inline;vertical-align:middle;\" /></a></td></tr>\n",
       "<tr><td>26</td><td>Literal</td><td></td><td><a class=\"ProveItLink\" href=\"../../../../../../numbers/numerals/__pv_it/common/d278e359da0695d9652dd541d45264f93703e2e40/expr.ipynb\"><img src=\"../../../../../../numbers/numerals/__pv_it/common/d278e359da0695d9652dd541d45264f93703e2e40/expr.png\" style=\"display:inline;vertical-align:middle;\" /></a></td></tr>\n",
       "<tr><td>27</td><td>Variable</td><td></td><td><a class=\"ProveItLink\" href=\"../../../../../../__pv_it/common/6165c9bb82ce3c7097cdba4440a1aeeb6eaca8a40/expr.ipynb\"><img src=\"../../../../../../__pv_it/common/6165c9bb82ce3c7097cdba4440a1aeeb6eaca8a40/expr.png\" style=\"display:inline;vertical-align:middle;\" /></a></td></tr>\n",
       "<tr><td>28</td><td>IndexedVar</td><td>variable:&nbsp;30<br>index:&nbsp;33<br></td><td><a class=\"ProveItLink\" href=\"../../../../../../core_expr_types/__pv_it/common/44c047560b26e24c2a9af7e0d00ef8bc5e74e7580/expr.ipynb\"><img src=\"../../../../../../core_expr_types/__pv_it/common/44c047560b26e24c2a9af7e0d00ef8bc5e74e7580/expr.png\" style=\"display:inline;vertical-align:middle;\" /></a></td></tr>\n",
       "<tr><td>29</td><td>IndexedVar</td><td>variable:&nbsp;31<br>index:&nbsp;33<br></td><td><a class=\"ProveItLink\" href=\"../../../../../../core_expr_types/__pv_it/common/0ee3702df5b7424b59efa90500e629500c821e270/expr.ipynb\"><img src=\"../../../../../../core_expr_types/__pv_it/common/0ee3702df5b7424b59efa90500e629500c821e270/expr.png\" style=\"display:inline;vertical-align:middle;\" /></a></td></tr>\n",
       "<tr><td>30</td><td>Variable</td><td></td><td><a class=\"ProveItLink\" href=\"../../../../../../__pv_it/common/e4aad701f7f5516d8e7f0d805d518bf02c13322a0/expr.ipynb\"><img src=\"../../../../../../__pv_it/common/e4aad701f7f5516d8e7f0d805d518bf02c13322a0/expr.png\" style=\"display:inline;vertical-align:middle;\" /></a></td></tr>\n",
       "<tr><td>31</td><td>Variable</td><td></td><td><a class=\"ProveItLink\" href=\"../../../../../../__pv_it/common/c4a83a53f0ed6678b0c7a2d6d691a4b400f735c90/expr.ipynb\"><img src=\"../../../../../../__pv_it/common/c4a83a53f0ed6678b0c7a2d6d691a4b400f735c90/expr.png\" style=\"display:inline;vertical-align:middle;\" /></a></td></tr>\n",
       "<tr><td>32</td><td>ExprTuple</td><td>33</td><td><a class=\"ProveItLink\" href=\"../../../../../../core_expr_types/__pv_it/common/ecf50ade416ab41c42c9f4e777b4c862cd9469670/expr.ipynb\"><img src=\"../../../../../../core_expr_types/__pv_it/common/ecf50ade416ab41c42c9f4e777b4c862cd9469670/expr.png\" style=\"display:inline;vertical-align:middle;\" /></a></td></tr>\n",
       "<tr><td>33</td><td>Variable</td><td></td><td><a class=\"ProveItLink\" href=\"../../../../../../core_expr_types/__pv_it/common/9e6d9d5d7eeb0342cf5bca68def0eb165a1a9bb10/expr.ipynb\"><img src=\"../../../../../../core_expr_types/__pv_it/common/9e6d9d5d7eeb0342cf5bca68def0eb165a1a9bb10/expr.png\" style=\"display:inline;vertical-align:middle;\" /></a></td></tr>\n",
       "</table>\n"
      ],
      "text/plain": [
       "0. ((m, n) -> {forall_{A_{1}, ..A_{_a}.., A_{m}, B, C_{1}, ..C_{_a}.., C_{n} | A_{1}, ..A_{_a}.., A_{m}, B, C_{1}, ..C_{_a}.., C_{n}} B if m in Natural ,  n in Natural.)\n",
       "   core type: ExprTuple\n",
       "   sub-expressions: 1\n",
       "1. (m, n) -> {forall_{A_{1}, ..A_{_a}.., A_{m}, B, C_{1}, ..C_{_a}.., C_{n} | A_{1}, ..A_{_a}.., A_{m}, B, C_{1}, ..C_{_a}.., C_{n}} B if m in Natural ,  n in Natural.\n",
       "   core type: Lambda\n",
       "   parameters: 2\\n   body: 3\n",
       "2. (m, n)\n",
       "   core type: ExprTuple\n",
       "   sub-expressions: 24, 27\n",
       "3. {forall_{A_{1}, ..A_{_a}.., A_{m}, B, C_{1}, ..C_{_a}.., C_{n} | A_{1}, ..A_{_a}.., A_{m}, B, C_{1}, ..C_{_a}.., C_{n}} B if m in Natural ,  n in Natural.\n",
       "   core type: Conditional\n",
       "   value: 4\n",
       "   condition: 5\n",
       "4. forall_{A_{1}, ..A_{_a}.., A_{m}, B, C_{1}, ..C_{_a}.., C_{n} | A_{1}, ..A_{_a}.., A_{m}, B, C_{1}, ..C_{_a}.., C_{n}} B\n",
       "   core type: Operation\n",
       "   operator: 6\n",
       "   operand: 9\n",
       "5. (m in Natural) and (n in Natural)\n",
       "   core type: Operation\n",
       "   operator: 18\n",
       "   operands: 8\n",
       "6. forall\n",
       "   core type: Literal\n",
       "   sub-expressions: \n",
       "7. ((A_{1}, ..A_{_a}.., A_{m}, B, C_{1}, ..C_{_a}.., C_{n}) -> {B if A_{1} ,  ..A_{_a}.. ,  A_{m} ,  B ,  C_{1} ,  ..C_{_a}.. ,  C_{n}.)\n",
       "   core type: ExprTuple\n",
       "   sub-expressions: 9\n",
       "8. (m in Natural, n in Natural)\n",
       "   core type: ExprTuple\n",
       "   sub-expressions: 10, 11\n",
       "9. (A_{1}, ..A_{_a}.., A_{m}, B, C_{1}, ..C_{_a}.., C_{n}) -> {B if A_{1} ,  ..A_{_a}.. ,  A_{m} ,  B ,  C_{1} ,  ..C_{_a}.. ,  C_{n}.\n",
       "   core type: Lambda\n",
       "   parameters: 19\\n   body: 12\n",
       "10. m in Natural\n",
       "    core type: Operation\n",
       "    operator: 14\n",
       "    operands: 13\n",
       "11. n in Natural\n",
       "    core type: Operation\n",
       "    operator: 14\n",
       "    operands: 15\n",
       "12. {B if A_{1} ,  ..A_{_a}.. ,  A_{m} ,  B ,  C_{1} ,  ..C_{_a}.. ,  C_{n}.\n",
       "    core type: Conditional\n",
       "    value: 21\n",
       "    condition: 16\n",
       "13. (m, Natural)\n",
       "    core type: ExprTuple\n",
       "    sub-expressions: 24, 17\n",
       "14. in\n",
       "    core type: Literal\n",
       "    sub-expressions: \n",
       "15. (n, Natural)\n",
       "    core type: ExprTuple\n",
       "    sub-expressions: 27, 17\n",
       "16. A_{1} and ..A_{_a}.. and A_{m} and B and C_{1} and ..C_{_a}.. and C_{n}\n",
       "    core type: Operation\n",
       "    operator: 18\n",
       "    operands: 19\n",
       "17. Natural\n",
       "    core type: Literal\n",
       "    sub-expressions: \n",
       "18. and\n",
       "    core type: Literal\n",
       "    sub-expressions: \n",
       "19. (A_{1}, ..A_{_a}.., A_{m}, B, C_{1}, ..C_{_a}.., C_{n})\n",
       "    core type: ExprTuple\n",
       "    sub-expressions: 20, 21, 22\n",
       "20. A_{1}, ..A_{_a}.., A_{m}\n",
       "    core type: ExprRange\n",
       "    lambda_map: 23\n",
       "    start_index: 26\n",
       "    end_index: 24\n",
       "21. B\n",
       "    core type: Variable\n",
       "    sub-expressions: \n",
       "22. C_{1}, ..C_{_a}.., C_{n}\n",
       "    core type: ExprRange\n",
       "    lambda_map: 25\n",
       "    start_index: 26\n",
       "    end_index: 27\n",
       "23. _a -> A_{_a}\n",
       "    core type: Lambda\n",
       "    parameter: 33\n",
       "    body: 28\n",
       "24. m\n",
       "    core type: Variable\n",
       "    sub-expressions: \n",
       "25. _a -> C_{_a}\n",
       "    core type: Lambda\n",
       "    parameter: 33\n",
       "    body: 29\n",
       "26. 1\n",
       "    core type: Literal\n",
       "    sub-expressions: \n",
       "27. n\n",
       "    core type: Variable\n",
       "    sub-expressions: \n",
       "28. A_{_a}\n",
       "    core type: IndexedVar\n",
       "variable: 30\n",
       "index: 33\n",
       "29. C_{_a}\n",
       "    core type: IndexedVar\n",
       "variable: 31\n",
       "index: 33\n",
       "30. A\n",
       "    core type: Variable\n",
       "    sub-expressions: \n",
       "31. C\n",
       "    core type: Variable\n",
       "    sub-expressions: \n",
       "32. (_a)\n",
       "    core type: ExprTuple\n",
       "    sub-expressions: 33\n",
       "33. _a\n",
       "    core type: Variable\n",
       "    sub-expressions: "
      ]
     },
     "execution_count": 6,
     "metadata": {},
     "output_type": "execute_result"
    }
   ],
   "source": [
    "# display the expression information\n",
    "expr.expr_info()"
   ]
  },
  {
   "cell_type": "code",
   "execution_count": null,
   "metadata": {},
   "outputs": [],
   "source": []
  }
 ],
 "metadata": {
  "kernelspec": {
   "display_name": "Python 3",
   "language": "python",
   "name": "python3"
  }
 },
 "nbformat": 4,
 "nbformat_minor": 0
}