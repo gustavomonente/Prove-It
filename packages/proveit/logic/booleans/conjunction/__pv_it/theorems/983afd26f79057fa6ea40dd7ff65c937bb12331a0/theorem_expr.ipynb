{
 "cells": [
  {
   "cell_type": "markdown",
   "metadata": {},
   "source": [
    "Theorem <a class=\"ProveItLink\" href=\"../../../_theorems_.ipynb#any_from_and\">any_from_and</a> of type <a class=\"ProveItLink\" href=\"../../../../../../../../doc/html/api/proveit.logic.Forall.html\">Forall</a>\n",
    "=======================\n",
    "# from the theory of <a class=\"ProveItLink\" href=\"../../../_theory_nbs_/theory.ipynb\">proveit.logic.booleans.conjunction</a>\n",
    "*** see <a class=\"ProveItLink\" href=\"dependencies.ipynb\">dependencies</a> ***"
   ]
  },
  {
   "cell_type": "code",
   "execution_count": 1,
   "metadata": {},
   "outputs": [],
   "source": [
    "import proveit\n",
    "# Automation is not needed when only building an expression:\n",
    "proveit.defaults.automation = False # This will speed things up.\n",
    "proveit.defaults.inline_pngs = False # Makes files smaller.\n",
    "%load_theorem_expr # Load the stored theorem expression as 'stored_expr'\n",
    "# import the special expression\n",
    "from proveit.logic.booleans.conjunction import any_from_and"
   ]
  },
  {
   "cell_type": "code",
   "execution_count": 2,
   "metadata": {},
   "outputs": [
    {
     "name": "stdout",
     "output_type": "stream",
     "text": [
      "Passed sanity check: any_from_and matches stored_expr\n"
     ]
    }
   ],
   "source": [
    "# check that the built expression is the same as the stored expression\n",
    "assert any_from_and.expr == stored_expr\n",
    "assert any_from_and.expr._style_id == stored_expr._style_id\n",
    "print(\"Passed sanity check: any_from_and matches stored_expr\")"
   ]
  },
  {
   "cell_type": "code",
   "execution_count": 3,
   "metadata": {},
   "outputs": [
    {
     "name": "stdout",
     "output_type": "stream",
     "text": [
      "\\vdash \\forall_{m, n \\in \\mathbb{N}}~\\left[\\forall_{A_{1}, \\ldots, A_{m}, B, C_{1}, \\ldots, C_{n}~|~A_{1}, \\ldots, A_{m}, B, C_{1}, \\ldots, C_{n}}~B\\right]\n"
     ]
    }
   ],
   "source": [
    "# Show the LaTeX representation of the expression for convenience if you need it.\n",
    "print(any_from_and.latex())"
   ]
  },
  {
   "cell_type": "code",
   "execution_count": 4,
   "metadata": {},
   "outputs": [
    {
     "data": {
      "text/html": [
       "<table><tr><th>&nbsp;</th><th>core type</th><th>sub-expressions</th><th>expression</th></tr>\n",
       "<tr><td>0</td><td>Operation</td><td>operator:&nbsp;6<br>operand:&nbsp;1<br></td><td><a class=\"ProveItLink\" href=\"../697957ccff67fd76cba9c24a6ad74baf20e074260/expr.ipynb\"><img src=\"../697957ccff67fd76cba9c24a6ad74baf20e074260/expr.png\" style=\"display:inline;vertical-align:middle;\" /></a></td></tr>\n",
       "<tr><td>1</td><td>Lambda</td><td>parameters:&nbsp;2<br>body:&nbsp;3<br></td><td><a class=\"ProveItLink\" href=\"../f611aaef95d52d407046de4e896d71d62301aa0c0/expr.ipynb\"><img src=\"../f611aaef95d52d407046de4e896d71d62301aa0c0/expr.png\" style=\"display:inline;vertical-align:middle;\" /></a></td></tr>\n",
       "<tr><td>2</td><td>ExprTuple</td><td>23, 26</td><td><a class=\"ProveItLink\" href=\"../092ed828b5223350e0e312743205cd26029752560/expr.ipynb\"><img src=\"../092ed828b5223350e0e312743205cd26029752560/expr.png\" style=\"display:inline;vertical-align:middle;\" /></a></td></tr>\n",
       "<tr><td>3</td><td>Conditional</td><td>value:&nbsp;4<br>condition:&nbsp;5<br></td><td><a class=\"ProveItLink\" href=\"../1836641750d6a84d603ea78459295d685c4e3c880/expr.ipynb\"><img src=\"../1836641750d6a84d603ea78459295d685c4e3c880/expr.png\" style=\"display:inline;vertical-align:middle;\" /></a></td></tr>\n",
       "<tr><td>4</td><td>Operation</td><td>operator:&nbsp;6<br>operand:&nbsp;7<br></td><td><a class=\"ProveItLink\" href=\"../d85d514ea4caea77e9e7b9a8bae56d6ee27792970/expr.ipynb\"><img src=\"../d85d514ea4caea77e9e7b9a8bae56d6ee27792970/expr.png\" style=\"display:inline;vertical-align:middle;\" /></a></td></tr>\n",
       "<tr><td>5</td><td>Operation</td><td>operator:&nbsp;16<br>operands:&nbsp;8<br></td><td><a class=\"ProveItLink\" href=\"../4975509e7ab0af0eb1da901367ac9f556a0af3850/expr.ipynb\"><img src=\"../4975509e7ab0af0eb1da901367ac9f556a0af3850/expr.png\" style=\"display:inline;vertical-align:middle;\" /></a></td></tr>\n",
       "<tr><td>6</td><td>Literal</td><td></td><td><a class=\"ProveItLink\" href=\"../../../../quantification/universality/__pv_it/common/083d2baa0b8ecab1d230f9ec29a15aa1355809fb0/expr.ipynb\"><img src=\"../../../../quantification/universality/__pv_it/common/083d2baa0b8ecab1d230f9ec29a15aa1355809fb0/expr.png\" style=\"display:inline;vertical-align:middle;\" /></a></td></tr>\n",
       "<tr><td>7</td><td>Lambda</td><td>parameters:&nbsp;17<br>body:&nbsp;9<br></td><td><a class=\"ProveItLink\" href=\"../b10c330910c6b6264a333b810776c90787ec8e9f0/expr.ipynb\"><img src=\"../b10c330910c6b6264a333b810776c90787ec8e9f0/expr.png\" style=\"display:inline;vertical-align:middle;\" /></a></td></tr>\n",
       "<tr><td>8</td><td>ExprTuple</td><td>10, 11</td><td><a class=\"ProveItLink\" href=\"../ff4d951b270e42aaac62fb9dad2701f8da77c8160/expr.ipynb\"><img src=\"../ff4d951b270e42aaac62fb9dad2701f8da77c8160/expr.png\" style=\"display:inline;vertical-align:middle;\" /></a></td></tr>\n",
       "<tr><td>9</td><td>Conditional</td><td>value:&nbsp;20<br>condition:&nbsp;12<br></td><td><a class=\"ProveItLink\" href=\"../c00e8f9436f5a881282a52487899a2c59ee81a900/expr.ipynb\"><img src=\"../c00e8f9436f5a881282a52487899a2c59ee81a900/expr.png\" style=\"display:inline;vertical-align:middle;\" /></a></td></tr>\n",
       "<tr><td>10</td><td>Operation</td><td>operator:&nbsp;14<br>operands:&nbsp;13<br></td><td><a class=\"ProveItLink\" href=\"../98023afa4ea0d397f8a177bad4a359b36939fb170/expr.ipynb\"><img src=\"../98023afa4ea0d397f8a177bad4a359b36939fb170/expr.png\" style=\"display:inline;vertical-align:middle;\" /></a></td></tr>\n",
       "<tr><td>11</td><td>Operation</td><td>operator:&nbsp;14<br>operands:&nbsp;15<br></td><td><a class=\"ProveItLink\" href=\"../7351e7b0b5ab4699fe31eac3b02ba02b17a05bf60/expr.ipynb\"><img src=\"../7351e7b0b5ab4699fe31eac3b02ba02b17a05bf60/expr.png\" style=\"display:inline;vertical-align:middle;\" /></a></td></tr>\n",
       "<tr><td>12</td><td>Operation</td><td>operator:&nbsp;16<br>operands:&nbsp;17<br></td><td><a class=\"ProveItLink\" href=\"../a466f217a46ff451f6b97c8b3899ac0738d92d180/expr.ipynb\"><img src=\"../a466f217a46ff451f6b97c8b3899ac0738d92d180/expr.png\" style=\"display:inline;vertical-align:middle;\" /></a></td></tr>\n",
       "<tr><td>13</td><td>ExprTuple</td><td>23, 18</td><td><a class=\"ProveItLink\" href=\"../cd7d4f1c848a714c5e3ee950f74fc6919eb17af50/expr.ipynb\"><img src=\"../cd7d4f1c848a714c5e3ee950f74fc6919eb17af50/expr.png\" style=\"display:inline;vertical-align:middle;\" /></a></td></tr>\n",
       "<tr><td>14</td><td>Literal</td><td></td><td><a class=\"ProveItLink\" href=\"../../../../../sets/membership/__pv_it/common/477487d8796864d23d5810f83761435f25167f690/expr.ipynb\"><img src=\"../../../../../sets/membership/__pv_it/common/477487d8796864d23d5810f83761435f25167f690/expr.png\" style=\"display:inline;vertical-align:middle;\" /></a></td></tr>\n",
       "<tr><td>15</td><td>ExprTuple</td><td>26, 18</td><td><a class=\"ProveItLink\" href=\"../361f8713efdd17d455c1f3e958d6205fdaeaf3c70/expr.ipynb\"><img src=\"../361f8713efdd17d455c1f3e958d6205fdaeaf3c70/expr.png\" style=\"display:inline;vertical-align:middle;\" /></a></td></tr>\n",
       "<tr><td>16</td><td>Literal</td><td></td><td><a class=\"ProveItLink\" href=\"../../common/42118ff318bd65d98b1393f64ce7c2269feef76e0/expr.ipynb\"><img src=\"../../common/42118ff318bd65d98b1393f64ce7c2269feef76e0/expr.png\" style=\"display:inline;vertical-align:middle;\" /></a></td></tr>\n",
       "<tr><td>17</td><td>ExprTuple</td><td>19, 20, 21</td><td><a class=\"ProveItLink\" href=\"../6a395f0cc65f3883ec6cb4c867afa5b4342c7e720/expr.ipynb\"><img src=\"../6a395f0cc65f3883ec6cb4c867afa5b4342c7e720/expr.png\" style=\"display:inline;vertical-align:middle;\" /></a></td></tr>\n",
       "<tr><td>18</td><td>Literal</td><td></td><td><a class=\"ProveItLink\" href=\"../../../../../../numbers/number_sets/natural_numbers/__pv_it/common/8b7c321957f52ed3b05b36af612eeae4fa4783bc0/expr.ipynb\"><img src=\"../../../../../../numbers/number_sets/natural_numbers/__pv_it/common/8b7c321957f52ed3b05b36af612eeae4fa4783bc0/expr.png\" style=\"display:inline;vertical-align:middle;\" /></a></td></tr>\n",
       "<tr><td>19</td><td>ExprRange</td><td>lambda_map:&nbsp;22<br>start_index:&nbsp;25<br>end_index:&nbsp;23<br></td><td><a class=\"ProveItLink\" href=\"../../../../../../core_expr_types/__pv_it/common/91d05fae55026f965c0cd103d1c27b85b1e1aa760/expr.ipynb\"><img src=\"../../../../../../core_expr_types/__pv_it/common/91d05fae55026f965c0cd103d1c27b85b1e1aa760/expr.png\" style=\"display:inline;vertical-align:middle;\" /></a></td></tr>\n",
       "<tr><td>20</td><td>Variable</td><td></td><td><a class=\"ProveItLink\" href=\"../../../../../../__pv_it/common/a9162d1c3cc0470c02e5daf414500903a7a419230/expr.ipynb\"><img src=\"../../../../../../__pv_it/common/a9162d1c3cc0470c02e5daf414500903a7a419230/expr.png\" style=\"display:inline;vertical-align:middle;\" /></a></td></tr>\n",
       "<tr><td>21</td><td>ExprRange</td><td>lambda_map:&nbsp;24<br>start_index:&nbsp;25<br>end_index:&nbsp;26<br></td><td><a class=\"ProveItLink\" href=\"../../../../../../core_expr_types/__pv_it/common/e65c5945bd28d04ab16a8cf959c7330e438d17bc0/expr.ipynb\"><img src=\"../../../../../../core_expr_types/__pv_it/common/e65c5945bd28d04ab16a8cf959c7330e438d17bc0/expr.png\" style=\"display:inline;vertical-align:middle;\" /></a></td></tr>\n",
       "<tr><td>22</td><td>Lambda</td><td>parameter:&nbsp;31<br>body:&nbsp;27<br></td><td><a class=\"ProveItLink\" href=\"../../../../../../core_expr_types/__pv_it/common/db87d41146842355e9d6585688749d13269ab0980/expr.ipynb\"><img src=\"../../../../../../core_expr_types/__pv_it/common/db87d41146842355e9d6585688749d13269ab0980/expr.png\" style=\"display:inline;vertical-align:middle;\" /></a></td></tr>\n",
       "<tr><td>23</td><td>Variable</td><td></td><td><a class=\"ProveItLink\" href=\"../../../../../../__pv_it/common/674a03b9c3ca221b3aabd5636837b31528ff33830/expr.ipynb\"><img src=\"../../../../../../__pv_it/common/674a03b9c3ca221b3aabd5636837b31528ff33830/expr.png\" style=\"display:inline;vertical-align:middle;\" /></a></td></tr>\n",
       "<tr><td>24</td><td>Lambda</td><td>parameter:&nbsp;31<br>body:&nbsp;28<br></td><td><a class=\"ProveItLink\" href=\"../../../../../../core_expr_types/__pv_it/common/735fd06c5ab0aaa2fbd887b513f592492fdcee940/expr.ipynb\"><img src=\"../../../../../../core_expr_types/__pv_it/common/735fd06c5ab0aaa2fbd887b513f592492fdcee940/expr.png\" style=\"display:inline;vertical-align:middle;\" /></a></td></tr>\n",
       "<tr><td>25</td><td>Literal</td><td></td><td><a class=\"ProveItLink\" href=\"../../../../../../numbers/numerals/__pv_it/common/2778428c7f555b2bdc06aa0530bc142c6e6335100/expr.ipynb\"><img src=\"../../../../../../numbers/numerals/__pv_it/common/2778428c7f555b2bdc06aa0530bc142c6e6335100/expr.png\" style=\"display:inline;vertical-align:middle;\" /></a></td></tr>\n",
       "<tr><td>26</td><td>Variable</td><td></td><td><a class=\"ProveItLink\" href=\"../../../../../../__pv_it/common/8968bb04eb3f7dfa02353397ce929b025bbd79c20/expr.ipynb\"><img src=\"../../../../../../__pv_it/common/8968bb04eb3f7dfa02353397ce929b025bbd79c20/expr.png\" style=\"display:inline;vertical-align:middle;\" /></a></td></tr>\n",
       "<tr><td>27</td><td>IndexedVar</td><td>variable:&nbsp;29<br>index:&nbsp;31<br></td><td><a class=\"ProveItLink\" href=\"../../../../../../core_expr_types/__pv_it/common/65f6ea908cba61c02c46e59c65a80b52e171496d0/expr.ipynb\"><img src=\"../../../../../../core_expr_types/__pv_it/common/65f6ea908cba61c02c46e59c65a80b52e171496d0/expr.png\" style=\"display:inline;vertical-align:middle;\" /></a></td></tr>\n",
       "<tr><td>28</td><td>IndexedVar</td><td>variable:&nbsp;30<br>index:&nbsp;31<br></td><td><a class=\"ProveItLink\" href=\"../../../../../../core_expr_types/__pv_it/common/129e0fbda88d5300ebce8374b884a28c2f22b2730/expr.ipynb\"><img src=\"../../../../../../core_expr_types/__pv_it/common/129e0fbda88d5300ebce8374b884a28c2f22b2730/expr.png\" style=\"display:inline;vertical-align:middle;\" /></a></td></tr>\n",
       "<tr><td>29</td><td>Variable</td><td></td><td><a class=\"ProveItLink\" href=\"../../../../../../__pv_it/common/09585084922504426caf1db2ff588a23a0932a960/expr.ipynb\"><img src=\"../../../../../../__pv_it/common/09585084922504426caf1db2ff588a23a0932a960/expr.png\" style=\"display:inline;vertical-align:middle;\" /></a></td></tr>\n",
       "<tr><td>30</td><td>Variable</td><td></td><td><a class=\"ProveItLink\" href=\"../../../../../../__pv_it/common/9fba9f29e823606ff4fdf2f1c6d5d08d906e850a0/expr.ipynb\"><img src=\"../../../../../../__pv_it/common/9fba9f29e823606ff4fdf2f1c6d5d08d906e850a0/expr.png\" style=\"display:inline;vertical-align:middle;\" /></a></td></tr>\n",
       "<tr><td>31</td><td>Variable</td><td></td><td><a class=\"ProveItLink\" href=\"../../../../../../core_expr_types/__pv_it/common/006c465e50948aa2b52285e2de47974f741255cc0/expr.ipynb\"><img src=\"../../../../../../core_expr_types/__pv_it/common/006c465e50948aa2b52285e2de47974f741255cc0/expr.png\" style=\"display:inline;vertical-align:middle;\" /></a></td></tr>\n",
       "</table>\n"
      ],
      "text/plain": [
       "0. forall_{m, n in Natural} [forall_{A_{1}, ..A_{_a}.., A_{m}, B, C_{1}, ..C_{_a}.., C_{n} | A_{1}, ..A_{_a}.., A_{m}, B, C_{1}, ..C_{_a}.., C_{n}} B]\n",
       "   core type: Operation\n",
       "   operator: 6\n",
       "   operand: 1\n",
       "1. (m, n) -> {forall_{A_{1}, ..A_{_a}.., A_{m}, B, C_{1}, ..C_{_a}.., C_{n} | A_{1}, ..A_{_a}.., A_{m}, B, C_{1}, ..C_{_a}.., C_{n}} B if m in Natural ,  n in Natural.\n",
       "   core type: Lambda\n",
       "   parameters: 2\\n   body: 3\n",
       "2. (m, n)\n",
       "   core type: ExprTuple\n",
       "   sub-expressions: 23, 26\n",
       "3. {forall_{A_{1}, ..A_{_a}.., A_{m}, B, C_{1}, ..C_{_a}.., C_{n} | A_{1}, ..A_{_a}.., A_{m}, B, C_{1}, ..C_{_a}.., C_{n}} B if m in Natural ,  n in Natural.\n",
       "   core type: Conditional\n",
       "   value: 4\n",
       "   condition: 5\n",
       "4. forall_{A_{1}, ..A_{_a}.., A_{m}, B, C_{1}, ..C_{_a}.., C_{n} | A_{1}, ..A_{_a}.., A_{m}, B, C_{1}, ..C_{_a}.., C_{n}} B\n",
       "   core type: Operation\n",
       "   operator: 6\n",
       "   operand: 7\n",
       "5. (m in Natural) and (n in Natural)\n",
       "   core type: Operation\n",
       "   operator: 16\n",
       "   operands: 8\n",
       "6. forall\n",
       "   core type: Literal\n",
       "   sub-expressions: \n",
       "7. (A_{1}, ..A_{_a}.., A_{m}, B, C_{1}, ..C_{_a}.., C_{n}) -> {B if A_{1} ,  ..A_{_a}.. ,  A_{m} ,  B ,  C_{1} ,  ..C_{_a}.. ,  C_{n}.\n",
       "   core type: Lambda\n",
       "   parameters: 17\\n   body: 9\n",
       "8. (m in Natural, n in Natural)\n",
       "   core type: ExprTuple\n",
       "   sub-expressions: 10, 11\n",
       "9. {B if A_{1} ,  ..A_{_a}.. ,  A_{m} ,  B ,  C_{1} ,  ..C_{_a}.. ,  C_{n}.\n",
       "   core type: Conditional\n",
       "   value: 20\n",
       "   condition: 12\n",
       "10. m in Natural\n",
       "    core type: Operation\n",
       "    operator: 14\n",
       "    operands: 13\n",
       "11. n in Natural\n",
       "    core type: Operation\n",
       "    operator: 14\n",
       "    operands: 15\n",
       "12. A_{1} and ..A_{_a}.. and A_{m} and B and C_{1} and ..C_{_a}.. and C_{n}\n",
       "    core type: Operation\n",
       "    operator: 16\n",
       "    operands: 17\n",
       "13. (m, Natural)\n",
       "    core type: ExprTuple\n",
       "    sub-expressions: 23, 18\n",
       "14. in\n",
       "    core type: Literal\n",
       "    sub-expressions: \n",
       "15. (n, Natural)\n",
       "    core type: ExprTuple\n",
       "    sub-expressions: 26, 18\n",
       "16. and\n",
       "    core type: Literal\n",
       "    sub-expressions: \n",
       "17. (A_{1}, ..A_{_a}.., A_{m}, B, C_{1}, ..C_{_a}.., C_{n})\n",
       "    core type: ExprTuple\n",
       "    sub-expressions: 19, 20, 21\n",
       "18. Natural\n",
       "    core type: Literal\n",
       "    sub-expressions: \n",
       "19. A_{1}, ..A_{_a}.., A_{m}\n",
       "    core type: ExprRange\n",
       "    lambda_map: 22\n",
       "    start_index: 25\n",
       "    end_index: 23\n",
       "20. B\n",
       "    core type: Variable\n",
       "    sub-expressions: \n",
       "21. C_{1}, ..C_{_a}.., C_{n}\n",
       "    core type: ExprRange\n",
       "    lambda_map: 24\n",
       "    start_index: 25\n",
       "    end_index: 26\n",
       "22. _a -> A_{_a}\n",
       "    core type: Lambda\n",
       "    parameter: 31\n",
       "    body: 27\n",
       "23. m\n",
       "    core type: Variable\n",
       "    sub-expressions: \n",
       "24. _a -> C_{_a}\n",
       "    core type: Lambda\n",
       "    parameter: 31\n",
       "    body: 28\n",
       "25. 1\n",
       "    core type: Literal\n",
       "    sub-expressions: \n",
       "26. n\n",
       "    core type: Variable\n",
       "    sub-expressions: \n",
       "27. A_{_a}\n",
       "    core type: IndexedVar\n",
       "variable: 29\n",
       "index: 31\n",
       "28. C_{_a}\n",
       "    core type: IndexedVar\n",
       "variable: 30\n",
       "index: 31\n",
       "29. A\n",
       "    core type: Variable\n",
       "    sub-expressions: \n",
       "30. C\n",
       "    core type: Variable\n",
       "    sub-expressions: \n",
       "31. _a\n",
       "    core type: Variable\n",
       "    sub-expressions: "
      ]
     },
     "execution_count": 4,
     "metadata": {},
     "output_type": "execute_result"
    }
   ],
   "source": [
    "# display the expression information\n",
    "any_from_and.expr_info()"
   ]
  },
  {
   "cell_type": "code",
   "execution_count": null,
   "metadata": {},
   "outputs": [],
   "source": []
  }
 ],
 "metadata": {
  "kernelspec": {
   "display_name": "Python 3",
   "language": "python",
   "name": "python3"
  }
 },
 "nbformat": 4,
 "nbformat_minor": 0
}