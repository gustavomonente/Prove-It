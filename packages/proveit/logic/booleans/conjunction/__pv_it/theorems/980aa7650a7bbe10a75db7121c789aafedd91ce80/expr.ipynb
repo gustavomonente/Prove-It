{
 "cells": [
  {
   "cell_type": "markdown",
   "metadata": {},
   "source": [
    "Expression of type <a class=\"ProveItLink\" href=\"../../../../../../../../doc/html/api/proveit.Conditional.html\">Conditional</a>\n",
    "=======================\n",
    "# from the theory of <a class=\"ProveItLink\" href=\"../../../_theory_nbs_/theory.ipynb\">proveit.logic.booleans.conjunction</a>"
   ]
  },
  {
   "cell_type": "code",
   "execution_count": 1,
   "metadata": {},
   "outputs": [],
   "source": [
    "import proveit\n",
    "# Automation is not needed when building an expression:\n",
    "proveit.defaults.automation = False # This will speed things up.\n",
    "proveit.defaults.inline_pngs = False # Makes files smaller.\n",
    "%load_expr # Load the stored expression as 'stored_expr'\n",
    "# import Expression classes needed to build the expression\n",
    "from proveit import B, Conditional\n",
    "from proveit.core_expr_types import A_1_to_l, C_1_to_m, D_1_to_n\n",
    "from proveit.logic import And"
   ]
  },
  {
   "cell_type": "code",
   "execution_count": 2,
   "metadata": {},
   "outputs": [
    {
     "data": {
      "text/html": [
       "<strong id=\"expr\">expr:</strong> <a class=\"ProveItLink\" href=\"expr.ipynb\"><img src=\"expr.png\" style=\"display:inline;vertical-align:middle;\" /></a><br>"
      ],
      "text/plain": [
       "expr: {A_{1} and ..A_{_a}.. and A_{l} and C_{1} and ..C_{_a}.. and C_{m} and B and D_{1} and ..D_{_a}.. and D_{n} if A_{1} ,  ..A_{_a}.. ,  A_{l} ,  B ,  C_{1} ,  ..C_{_a}.. ,  C_{m} ,  D_{1} ,  ..D_{_a}.. ,  D_{n}."
      ]
     },
     "execution_count": 2,
     "metadata": {},
     "output_type": "execute_result"
    }
   ],
   "source": [
    "# build up the expression from sub-expressions\n",
    "expr = Conditional(And(A_1_to_l, C_1_to_m, B, D_1_to_n), And(A_1_to_l, B, C_1_to_m, D_1_to_n))"
   ]
  },
  {
   "cell_type": "code",
   "execution_count": 3,
   "metadata": {},
   "outputs": [
    {
     "name": "stdout",
     "output_type": "stream",
     "text": [
      "Passed sanity check: expr matches stored_expr\n"
     ]
    }
   ],
   "source": [
    "# check that the built expression is the same as the stored expression\n",
    "assert expr == stored_expr\n",
    "assert expr._style_id == stored_expr._style_id\n",
    "print(\"Passed sanity check: expr matches stored_expr\")"
   ]
  },
  {
   "cell_type": "code",
   "execution_count": 4,
   "metadata": {},
   "outputs": [
    {
     "name": "stdout",
     "output_type": "stream",
     "text": [
      "\\left\\{A_{1} \\land \\ldots \\land A_{l} \\land C_{1} \\land \\ldots \\land C_{m} \\land B \\land D_{1} \\land \\ldots \\land D_{n} \\textrm{ if } A_{1} ,  \\ldots ,  A_{l} ,  B ,  C_{1} ,  \\ldots ,  C_{m} ,  D_{1} ,  \\ldots ,  D_{n}\\right..\n"
     ]
    }
   ],
   "source": [
    "# Show the LaTeX representation of the expression for convenience if you need it.\n",
    "print(expr.latex())"
   ]
  },
  {
   "cell_type": "code",
   "execution_count": 5,
   "metadata": {},
   "outputs": [
    {
     "data": {
      "text/html": [
       "<table>\n",
       "<tr><th>name</th><th>description</th><th>default</th><th>current value</th><th>related methods</th></tr><tr><td>condition_delimiter</td><td>'comma' or 'and'</td><td>comma</td><td>comma</td><td>('with_comma_delimiter', 'with_conjunction_delimiter')</td></tr>\n",
       "</table>\n"
      ],
      "text/plain": [
       "style name: condition_delimiter\n",
       "description: 'comma' or 'and'\n",
       "default: comma\n",
       "current value: comma\n",
       "related methods: ('with_comma_delimiter', 'with_conjunction_delimiter')"
      ]
     },
     "execution_count": 5,
     "metadata": {},
     "output_type": "execute_result"
    }
   ],
   "source": [
    "expr.style_options()"
   ]
  },
  {
   "cell_type": "code",
   "execution_count": 6,
   "metadata": {},
   "outputs": [
    {
     "data": {
      "text/html": [
       "<table><tr><th>&nbsp;</th><th>core type</th><th>sub-expressions</th><th>expression</th></tr>\n",
       "<tr><td>0</td><td>Conditional</td><td>value:&nbsp;1<br>condition:&nbsp;2<br></td><td><a class=\"ProveItLink\" href=\"expr.ipynb\"><img src=\"expr.png\" style=\"display:inline;vertical-align:middle;\" /></a></td></tr>\n",
       "<tr><td>1</td><td>Operation</td><td>operator:&nbsp;4<br>operands:&nbsp;3<br></td><td><a class=\"ProveItLink\" href=\"../ca2414dfcf13431a5c72cce2ed74dde8d4a882760/expr.ipynb\"><img src=\"../ca2414dfcf13431a5c72cce2ed74dde8d4a882760/expr.png\" style=\"display:inline;vertical-align:middle;\" /></a></td></tr>\n",
       "<tr><td>2</td><td>Operation</td><td>operator:&nbsp;4<br>operands:&nbsp;5<br></td><td><a class=\"ProveItLink\" href=\"../5c2b8dd9482a95f6e39ad84b9ab9eae1525ac8a80/expr.ipynb\"><img src=\"../5c2b8dd9482a95f6e39ad84b9ab9eae1525ac8a80/expr.png\" style=\"display:inline;vertical-align:middle;\" /></a></td></tr>\n",
       "<tr><td>3</td><td>ExprTuple</td><td>6, 8, 7, 9</td><td><a class=\"ProveItLink\" href=\"../fae063ab62cc3b86c0620175dd9045a1e97574840/expr.ipynb\"><img src=\"../fae063ab62cc3b86c0620175dd9045a1e97574840/expr.png\" style=\"display:inline;vertical-align:middle;\" /></a></td></tr>\n",
       "<tr><td>4</td><td>Literal</td><td></td><td><a class=\"ProveItLink\" href=\"../../common/26b94b53e70b1d77b70f0d9d4236347db37731060/expr.ipynb\"><img src=\"../../common/26b94b53e70b1d77b70f0d9d4236347db37731060/expr.png\" style=\"display:inline;vertical-align:middle;\" /></a></td></tr>\n",
       "<tr><td>5</td><td>ExprTuple</td><td>6, 7, 8, 9</td><td><a class=\"ProveItLink\" href=\"../823f6176c5746e65a6a7617b9b73ed45a8a8a3610/expr.ipynb\"><img src=\"../823f6176c5746e65a6a7617b9b73ed45a8a8a3610/expr.png\" style=\"display:inline;vertical-align:middle;\" /></a></td></tr>\n",
       "<tr><td>6</td><td>ExprRange</td><td>lambda_map:&nbsp;10<br>start_index:&nbsp;15<br>end_index:&nbsp;11<br></td><td><a class=\"ProveItLink\" href=\"../../../../../../core_expr_types/__pv_it/common/81aae054bf8437fbcb7d7ac65ef1a6845e9b5b150/expr.ipynb\"><img src=\"../../../../../../core_expr_types/__pv_it/common/81aae054bf8437fbcb7d7ac65ef1a6845e9b5b150/expr.png\" style=\"display:inline;vertical-align:middle;\" /></a></td></tr>\n",
       "<tr><td>7</td><td>Variable</td><td></td><td><a class=\"ProveItLink\" href=\"../../../../../../__pv_it/common/4eca3b30dcf58a58494e201d1b7886d8643a617b0/expr.ipynb\"><img src=\"../../../../../../__pv_it/common/4eca3b30dcf58a58494e201d1b7886d8643a617b0/expr.png\" style=\"display:inline;vertical-align:middle;\" /></a></td></tr>\n",
       "<tr><td>8</td><td>ExprRange</td><td>lambda_map:&nbsp;12<br>start_index:&nbsp;15<br>end_index:&nbsp;13<br></td><td><a class=\"ProveItLink\" href=\"../../../../../../core_expr_types/__pv_it/common/bbba1d96d4dad34b84f391feb80c6b162edb823e0/expr.ipynb\"><img src=\"../../../../../../core_expr_types/__pv_it/common/bbba1d96d4dad34b84f391feb80c6b162edb823e0/expr.png\" style=\"display:inline;vertical-align:middle;\" /></a></td></tr>\n",
       "<tr><td>9</td><td>ExprRange</td><td>lambda_map:&nbsp;14<br>start_index:&nbsp;15<br>end_index:&nbsp;16<br></td><td><a class=\"ProveItLink\" href=\"../../../../../../core_expr_types/__pv_it/common/3ed78a0573846b3421ed45b0b24be09d4c7d3cee0/expr.ipynb\"><img src=\"../../../../../../core_expr_types/__pv_it/common/3ed78a0573846b3421ed45b0b24be09d4c7d3cee0/expr.png\" style=\"display:inline;vertical-align:middle;\" /></a></td></tr>\n",
       "<tr><td>10</td><td>Lambda</td><td>parameter:&nbsp;24<br>body:&nbsp;17<br></td><td><a class=\"ProveItLink\" href=\"../../../../../../core_expr_types/__pv_it/common/7cb3671e4363a47742a54e63b73ddf8e8fe2c9390/expr.ipynb\"><img src=\"../../../../../../core_expr_types/__pv_it/common/7cb3671e4363a47742a54e63b73ddf8e8fe2c9390/expr.png\" style=\"display:inline;vertical-align:middle;\" /></a></td></tr>\n",
       "<tr><td>11</td><td>Variable</td><td></td><td><a class=\"ProveItLink\" href=\"../../../../../../__pv_it/common/5f60d32873626c7ce57e35d1d9e427fb112cfe7a0/expr.ipynb\"><img src=\"../../../../../../__pv_it/common/5f60d32873626c7ce57e35d1d9e427fb112cfe7a0/expr.png\" style=\"display:inline;vertical-align:middle;\" /></a></td></tr>\n",
       "<tr><td>12</td><td>Lambda</td><td>parameter:&nbsp;24<br>body:&nbsp;18<br></td><td><a class=\"ProveItLink\" href=\"../../../../../../core_expr_types/__pv_it/common/4c1da7aa00988c869f86b048280afeb169884b440/expr.ipynb\"><img src=\"../../../../../../core_expr_types/__pv_it/common/4c1da7aa00988c869f86b048280afeb169884b440/expr.png\" style=\"display:inline;vertical-align:middle;\" /></a></td></tr>\n",
       "<tr><td>13</td><td>Variable</td><td></td><td><a class=\"ProveItLink\" href=\"../../../../../../__pv_it/common/2dc4f15b3407a25e8d70754a86bf74f1871f92650/expr.ipynb\"><img src=\"../../../../../../__pv_it/common/2dc4f15b3407a25e8d70754a86bf74f1871f92650/expr.png\" style=\"display:inline;vertical-align:middle;\" /></a></td></tr>\n",
       "<tr><td>14</td><td>Lambda</td><td>parameter:&nbsp;24<br>body:&nbsp;19<br></td><td><a class=\"ProveItLink\" href=\"../../../../../../core_expr_types/__pv_it/common/bf3815308de7cd6e79cf5a8b71344e821ff307b30/expr.ipynb\"><img src=\"../../../../../../core_expr_types/__pv_it/common/bf3815308de7cd6e79cf5a8b71344e821ff307b30/expr.png\" style=\"display:inline;vertical-align:middle;\" /></a></td></tr>\n",
       "<tr><td>15</td><td>Literal</td><td></td><td><a class=\"ProveItLink\" href=\"../../../../../../numbers/numerals/__pv_it/common/d278e359da0695d9652dd541d45264f93703e2e40/expr.ipynb\"><img src=\"../../../../../../numbers/numerals/__pv_it/common/d278e359da0695d9652dd541d45264f93703e2e40/expr.png\" style=\"display:inline;vertical-align:middle;\" /></a></td></tr>\n",
       "<tr><td>16</td><td>Variable</td><td></td><td><a class=\"ProveItLink\" href=\"../../../../../../__pv_it/common/6165c9bb82ce3c7097cdba4440a1aeeb6eaca8a40/expr.ipynb\"><img src=\"../../../../../../__pv_it/common/6165c9bb82ce3c7097cdba4440a1aeeb6eaca8a40/expr.png\" style=\"display:inline;vertical-align:middle;\" /></a></td></tr>\n",
       "<tr><td>17</td><td>IndexedVar</td><td>variable:&nbsp;20<br>index:&nbsp;24<br></td><td><a class=\"ProveItLink\" href=\"../../../../../../core_expr_types/__pv_it/common/44c047560b26e24c2a9af7e0d00ef8bc5e74e7580/expr.ipynb\"><img src=\"../../../../../../core_expr_types/__pv_it/common/44c047560b26e24c2a9af7e0d00ef8bc5e74e7580/expr.png\" style=\"display:inline;vertical-align:middle;\" /></a></td></tr>\n",
       "<tr><td>18</td><td>IndexedVar</td><td>variable:&nbsp;21<br>index:&nbsp;24<br></td><td><a class=\"ProveItLink\" href=\"../../../../../../core_expr_types/__pv_it/common/0ee3702df5b7424b59efa90500e629500c821e270/expr.ipynb\"><img src=\"../../../../../../core_expr_types/__pv_it/common/0ee3702df5b7424b59efa90500e629500c821e270/expr.png\" style=\"display:inline;vertical-align:middle;\" /></a></td></tr>\n",
       "<tr><td>19</td><td>IndexedVar</td><td>variable:&nbsp;22<br>index:&nbsp;24<br></td><td><a class=\"ProveItLink\" href=\"../../../../../../core_expr_types/__pv_it/common/1ada030c912c610d50fdaae446346fff369f9e480/expr.ipynb\"><img src=\"../../../../../../core_expr_types/__pv_it/common/1ada030c912c610d50fdaae446346fff369f9e480/expr.png\" style=\"display:inline;vertical-align:middle;\" /></a></td></tr>\n",
       "<tr><td>20</td><td>Variable</td><td></td><td><a class=\"ProveItLink\" href=\"../../../../../../__pv_it/common/e4aad701f7f5516d8e7f0d805d518bf02c13322a0/expr.ipynb\"><img src=\"../../../../../../__pv_it/common/e4aad701f7f5516d8e7f0d805d518bf02c13322a0/expr.png\" style=\"display:inline;vertical-align:middle;\" /></a></td></tr>\n",
       "<tr><td>21</td><td>Variable</td><td></td><td><a class=\"ProveItLink\" href=\"../../../../../../__pv_it/common/c4a83a53f0ed6678b0c7a2d6d691a4b400f735c90/expr.ipynb\"><img src=\"../../../../../../__pv_it/common/c4a83a53f0ed6678b0c7a2d6d691a4b400f735c90/expr.png\" style=\"display:inline;vertical-align:middle;\" /></a></td></tr>\n",
       "<tr><td>22</td><td>Variable</td><td></td><td><a class=\"ProveItLink\" href=\"../../../../../../__pv_it/common/e5e296931d7f88d2c0ed4dd1b8498a680788952f0/expr.ipynb\"><img src=\"../../../../../../__pv_it/common/e5e296931d7f88d2c0ed4dd1b8498a680788952f0/expr.png\" style=\"display:inline;vertical-align:middle;\" /></a></td></tr>\n",
       "<tr><td>23</td><td>ExprTuple</td><td>24</td><td><a class=\"ProveItLink\" href=\"../../../../../../core_expr_types/__pv_it/common/ecf50ade416ab41c42c9f4e777b4c862cd9469670/expr.ipynb\"><img src=\"../../../../../../core_expr_types/__pv_it/common/ecf50ade416ab41c42c9f4e777b4c862cd9469670/expr.png\" style=\"display:inline;vertical-align:middle;\" /></a></td></tr>\n",
       "<tr><td>24</td><td>Variable</td><td></td><td><a class=\"ProveItLink\" href=\"../../../../../../core_expr_types/__pv_it/common/9e6d9d5d7eeb0342cf5bca68def0eb165a1a9bb10/expr.ipynb\"><img src=\"../../../../../../core_expr_types/__pv_it/common/9e6d9d5d7eeb0342cf5bca68def0eb165a1a9bb10/expr.png\" style=\"display:inline;vertical-align:middle;\" /></a></td></tr>\n",
       "</table>\n"
      ],
      "text/plain": [
       "0. {A_{1} and ..A_{_a}.. and A_{l} and C_{1} and ..C_{_a}.. and C_{m} and B and D_{1} and ..D_{_a}.. and D_{n} if A_{1} ,  ..A_{_a}.. ,  A_{l} ,  B ,  C_{1} ,  ..C_{_a}.. ,  C_{m} ,  D_{1} ,  ..D_{_a}.. ,  D_{n}.\n",
       "   core type: Conditional\n",
       "   value: 1\n",
       "   condition: 2\n",
       "1. A_{1} and ..A_{_a}.. and A_{l} and C_{1} and ..C_{_a}.. and C_{m} and B and D_{1} and ..D_{_a}.. and D_{n}\n",
       "   core type: Operation\n",
       "   operator: 4\n",
       "   operands: 3\n",
       "2. A_{1} and ..A_{_a}.. and A_{l} and B and C_{1} and ..C_{_a}.. and C_{m} and D_{1} and ..D_{_a}.. and D_{n}\n",
       "   core type: Operation\n",
       "   operator: 4\n",
       "   operands: 5\n",
       "3. (A_{1}, ..A_{_a}.., A_{l}, C_{1}, ..C_{_a}.., C_{m}, B, D_{1}, ..D_{_a}.., D_{n})\n",
       "   core type: ExprTuple\n",
       "   sub-expressions: 6, 8, 7, 9\n",
       "4. and\n",
       "   core type: Literal\n",
       "   sub-expressions: \n",
       "5. (A_{1}, ..A_{_a}.., A_{l}, B, C_{1}, ..C_{_a}.., C_{m}, D_{1}, ..D_{_a}.., D_{n})\n",
       "   core type: ExprTuple\n",
       "   sub-expressions: 6, 7, 8, 9\n",
       "6. A_{1}, ..A_{_a}.., A_{l}\n",
       "   core type: ExprRange\n",
       "   lambda_map: 10\n",
       "   start_index: 15\n",
       "   end_index: 11\n",
       "7. B\n",
       "   core type: Variable\n",
       "   sub-expressions: \n",
       "8. C_{1}, ..C_{_a}.., C_{m}\n",
       "   core type: ExprRange\n",
       "   lambda_map: 12\n",
       "   start_index: 15\n",
       "   end_index: 13\n",
       "9. D_{1}, ..D_{_a}.., D_{n}\n",
       "   core type: ExprRange\n",
       "   lambda_map: 14\n",
       "   start_index: 15\n",
       "   end_index: 16\n",
       "10. _a -> A_{_a}\n",
       "    core type: Lambda\n",
       "    parameter: 24\n",
       "    body: 17\n",
       "11. l\n",
       "    core type: Variable\n",
       "    sub-expressions: \n",
       "12. _a -> C_{_a}\n",
       "    core type: Lambda\n",
       "    parameter: 24\n",
       "    body: 18\n",
       "13. m\n",
       "    core type: Variable\n",
       "    sub-expressions: \n",
       "14. _a -> D_{_a}\n",
       "    core type: Lambda\n",
       "    parameter: 24\n",
       "    body: 19\n",
       "15. 1\n",
       "    core type: Literal\n",
       "    sub-expressions: \n",
       "16. n\n",
       "    core type: Variable\n",
       "    sub-expressions: \n",
       "17. A_{_a}\n",
       "    core type: IndexedVar\n",
       "variable: 20\n",
       "index: 24\n",
       "18. C_{_a}\n",
       "    core type: IndexedVar\n",
       "variable: 21\n",
       "index: 24\n",
       "19. D_{_a}\n",
       "    core type: IndexedVar\n",
       "variable: 22\n",
       "index: 24\n",
       "20. A\n",
       "    core type: Variable\n",
       "    sub-expressions: \n",
       "21. C\n",
       "    core type: Variable\n",
       "    sub-expressions: \n",
       "22. D\n",
       "    core type: Variable\n",
       "    sub-expressions: \n",
       "23. (_a)\n",
       "    core type: ExprTuple\n",
       "    sub-expressions: 24\n",
       "24. _a\n",
       "    core type: Variable\n",
       "    sub-expressions: "
      ]
     },
     "execution_count": 6,
     "metadata": {},
     "output_type": "execute_result"
    }
   ],
   "source": [
    "# display the expression information\n",
    "expr.expr_info()"
   ]
  },
  {
   "cell_type": "code",
   "execution_count": null,
   "metadata": {},
   "outputs": [],
   "source": []
  }
 ],
 "metadata": {
  "kernelspec": {
   "display_name": "Python 3",
   "language": "python",
   "name": "python3"
  }
 },
 "nbformat": 4,
 "nbformat_minor": 0
}