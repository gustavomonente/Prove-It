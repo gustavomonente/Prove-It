{
 "cells": [
  {
   "cell_type": "markdown",
   "metadata": {},
   "source": [
    "Axiom Dependencies\n",
    "=======================\n",
    "\n",
    "## <a class=\"ProveItLink\" href=\"../../../_theory_nbs_/theory.ipynb\">proveit.logic.booleans.conjunction</a>.<a class=\"ProveItLink\" href=\"../../../_axioms_.ipynb#and_t_f\">and_t_f</a> \n"
   ]
  },
  {
   "cell_type": "code",
   "execution_count": 1,
   "metadata": {},
   "outputs": [],
   "source": [
    "import proveit\n",
    "# Automation is not needed when querying dependencies:\n",
    "proveit.defaults.automation = False # This will speed things up.\n",
    "proveit.defaults.inline_pngs = False # Makes files smaller.\n",
    "from proveit.logic.booleans.conjunction import and_t_f"
   ]
  },
  {
   "cell_type": "code",
   "execution_count": 2,
   "metadata": {},
   "outputs": [
    {
     "data": {
      "text/html": [
       "<h3>Theorems/conjectures that depend directly on and_t_f</h3>"
      ],
      "text/plain": [
       "<IPython.core.display.HTML object>"
      ]
     },
     "metadata": {},
     "output_type": "display_data"
    },
    {
     "data": {
      "text/html": [
       "<dl>"
      ],
      "text/plain": [
       "<IPython.core.display.HTML object>"
      ]
     },
     "metadata": {},
     "output_type": "display_data"
    },
    {
     "data": {
      "text/html": [
       "<dt><a class=\"ProveItLink\" href=\"../../../_theory_nbs_/proofs/commutation/thm_proof.ipynb\">proveit.logic.booleans.conjunction.commutation</a></dt><dd><a class=\"ProveItLink\" href=\"../../theorems/866a95048ab04e6d5fba4d41824e0ff95b44d4680/expr.ipynb\"><img src=\"../../theorems/866a95048ab04e6d5fba4d41824e0ff95b44d4680/expr.png\" style=\"display:inline;vertical-align:middle;\" /></a></dd>"
      ],
      "text/plain": [
       "<IPython.core.display.HTML object>"
      ]
     },
     "metadata": {},
     "output_type": "display_data"
    },
    {
     "data": {
      "text/html": [
       "<dt><a class=\"ProveItLink\" href=\"../../../_theory_nbs_/proofs/true_and_false_negated/thm_proof.ipynb\">proveit.logic.booleans.conjunction.true_and_false_negated</a></dt><dd><a class=\"ProveItLink\" href=\"../../theorems/26498b0c236507046b6b25e7ca069c074dc7f5710/expr.ipynb\"><img src=\"../../theorems/26498b0c236507046b6b25e7ca069c074dc7f5710/expr.png\" style=\"display:inline;vertical-align:middle;\" /></a></dd>"
      ],
      "text/plain": [
       "<IPython.core.display.HTML object>"
      ]
     },
     "metadata": {},
     "output_type": "display_data"
    },
    {
     "data": {
      "text/html": [
       "<dt><a class=\"ProveItLink\" href=\"../../../_theory_nbs_/proofs/unary_and_reduction/thm_proof.ipynb\">proveit.logic.booleans.conjunction.unary_and_reduction</a></dt><dd><a class=\"ProveItLink\" href=\"../../theorems/abed72f39aa443501ccaf5b97246efe9e72643db0/expr.ipynb\"><img src=\"../../theorems/abed72f39aa443501ccaf5b97246efe9e72643db0/expr.png\" style=\"display:inline;vertical-align:middle;\" /></a></dd>"
      ],
      "text/plain": [
       "<IPython.core.display.HTML object>"
      ]
     },
     "metadata": {},
     "output_type": "display_data"
    },
    {
     "data": {
      "text/html": [
       "</dl>"
      ],
      "text/plain": [
       "<IPython.core.display.HTML object>"
      ]
     },
     "metadata": {},
     "output_type": "display_data"
    }
   ],
   "source": [
    "%dependencies and_t_f"
   ]
  }
 ],
 "metadata": {
  "kernelspec": {
   "display_name": "Python 3",
   "language": "python",
   "name": "python3"
  }
 },
 "nbformat": 4,
 "nbformat_minor": 0
}