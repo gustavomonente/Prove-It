{
 "cells": [
  {
   "cell_type": "markdown",
   "metadata": {},
   "source": [
    "Show the Proof\n",
    "========"
   ]
  },
  {
   "cell_type": "code",
   "execution_count": 1,
   "metadata": {},
   "outputs": [
    {
     "data": {
      "text/html": [
       "<table><tr><th>&nbsp;</th><th>step type</th><th>requirements</th><th>statement</th></tr>\n",
       "<tr><td><a name=\"proveit.logic.booleans.conjunction._proof_nand_if_not_left.1d7fc75a5771fc4ea544e3de6e5cd44b44fbec5e0_step0\">0</a></td><td>instantiation</td><td><a href=\"#proveit.logic.booleans.conjunction._proof_nand_if_not_left.1d7fc75a5771fc4ea544e3de6e5cd44b44fbec5e0_step1\">1</a>, <a href=\"#proveit.logic.booleans.conjunction._proof_nand_if_not_left.1d7fc75a5771fc4ea544e3de6e5cd44b44fbec5e0_step2\">2</a></td><td><span style=\"font-size:20px;\"> <a class=\"ProveItLink\" href=\"proof.ipynb\" style=\"text-decoration: none\">&nbsp;&#x22A2;&nbsp;&nbsp;</a><a class=\"ProveItLink\" href=\"../175a2a2fc151eb7e0bb6df6142a42d8551031ec20/expr.ipynb\"><img src=\"../175a2a2fc151eb7e0bb6df6142a42d8551031ec20/expr.png\" style=\"display:inline;vertical-align:middle;\" /></a></span></td></tr>\n",
       "<tr><td>&nbsp;</td><td colspan=4 style=\"text-align:left\"><span style=\"font-size:20px;\"><a class=\"ProveItLink\" href=\"../../../../../../__pv_it/common/09585084922504426caf1db2ff588a23a0932a960/expr.ipynb\"><img src=\"../../../../../../__pv_it/common/09585084922504426caf1db2ff588a23a0932a960/expr.png\" style=\"display:inline;vertical-align:middle;\" /></a> : <a class=\"ProveItLink\" href=\"../../../../negation/__pv_it/axioms/0a9a1f7252b166ef88edb55a3c6cb8cb01d337920/expr.ipynb\"><img src=\"../../../../negation/__pv_it/axioms/0a9a1f7252b166ef88edb55a3c6cb8cb01d337920/expr.png\" style=\"display:inline;vertical-align:middle;\" /></a></span></td></tr><tr><td><a name=\"proveit.logic.booleans.conjunction._proof_nand_if_not_left.1d7fc75a5771fc4ea544e3de6e5cd44b44fbec5e0_step1\">1</a></td><td>theorem</td><td></td><td><span style=\"font-size:20px;\"> <a class=\"ProveItLink\" href=\"../../../../negation/_theory_nbs_/proofs/negation_intro/thm_proof.ipynb\" style=\"text-decoration: none\">&nbsp;&#x22A2;&nbsp;&nbsp;</a><a class=\"ProveItLink\" href=\"../../../../negation/__pv_it/theorems/bd44e5e9811a0473cdf6881df0fcd94e9f27db200/expr.ipynb\"><img src=\"../../../../negation/__pv_it/theorems/bd44e5e9811a0473cdf6881df0fcd94e9f27db200/expr.png\" style=\"display:inline;vertical-align:middle;\" /></a></span></td></tr>\n",
       "<tr><td>&nbsp;</td><td colspan=4 style-\"text-align:left\"><a class=\"ProveItLink\" href=\"../../../../negation/_theory_nbs_/proofs/negation_intro/thm_proof.ipynb\">proveit.logic.booleans.negation.negation_intro</a></td></tr><tr><td><a name=\"proveit.logic.booleans.conjunction._proof_nand_if_not_left.1d7fc75a5771fc4ea544e3de6e5cd44b44fbec5e0_step2\">2</a></td><td>axiom</td><td></td><td><span style=\"font-size:20px;\"> <a class=\"ProveItLink\" href=\"../../../../negation/_theory_nbs_/axioms.ipynb#not_t\" style=\"text-decoration: none\">&nbsp;&#x22A2;&nbsp;&nbsp;</a><a class=\"ProveItLink\" href=\"../../../../negation/__pv_it/axioms/892b96a66b0dd237317023264009b8bd35f245000/expr.ipynb\"><img src=\"../../../../negation/__pv_it/axioms/892b96a66b0dd237317023264009b8bd35f245000/expr.png\" style=\"display:inline;vertical-align:middle;\" /></a></span></td></tr>\n",
       "<tr><td>&nbsp;</td><td colspan=4 style-\"text-align:left\"><a class=\"ProveItLink\" href=\"../../../../negation/_theory_nbs_/axioms.ipynb#not_t\">proveit.logic.booleans.negation.not_t</a></td></tr></table>"
      ],
      "text/plain": [
       "<proveit._core_.proof._ShowProof at 0x7f6693ebc748>"
      ]
     },
     "execution_count": 1,
     "metadata": {},
     "output_type": "execute_result"
    }
   ],
   "source": [
    "import proveit\n",
    "# Automation is not needed when only showing a stored proof:\n",
    "proveit.defaults.automation = False # This will speed things up.\n",
    "proveit.defaults.inline_pngs = False # Makes files smaller.\n",
    "%show_proof"
   ]
  },
  {
   "cell_type": "code",
   "execution_count": null,
   "metadata": {},
   "outputs": [],
   "source": []
  }
 ],
 "metadata": {
  "kernelspec": {
   "display_name": "Python 3",
   "language": "python",
   "name": "python3"
  }
 },
 "nbformat": 4,
 "nbformat_minor": 0
}