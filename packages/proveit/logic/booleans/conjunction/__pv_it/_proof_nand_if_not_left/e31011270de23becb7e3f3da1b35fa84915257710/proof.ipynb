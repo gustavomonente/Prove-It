{
 "cells": [
  {
   "cell_type": "markdown",
   "metadata": {},
   "source": [
    "Show the Proof\n",
    "========"
   ]
  },
  {
   "cell_type": "code",
   "execution_count": 1,
   "metadata": {},
   "outputs": [
    {
     "data": {
      "text/html": [
       "<table><tr><th>&nbsp;</th><th>step type</th><th>requirements</th><th>statement</th></tr>\n",
       "<tr><td><a name=\"proveit.logic.booleans.conjunction._proof_nand_if_not_left.e31011270de23becb7e3f3da1b35fa84915257710_step0\">0</a></td><td>instantiation</td><td><a href=\"#proveit.logic.booleans.conjunction._proof_nand_if_not_left.e31011270de23becb7e3f3da1b35fa84915257710_step1\">1</a>, <a href=\"#proveit.logic.booleans.conjunction._proof_nand_if_not_left.e31011270de23becb7e3f3da1b35fa84915257710_step2\">2</a>, <a href=\"#proveit.logic.booleans.conjunction._proof_nand_if_not_left.e31011270de23becb7e3f3da1b35fa84915257710_step3\">3</a></td><td><span style=\"font-size:20px;\"> <a class=\"ProveItLink\" href=\"proof.ipynb\" style=\"text-decoration: none\">&nbsp;&#x22A2;&nbsp;&nbsp;</a><a class=\"ProveItLink\" href=\"../bbb121a7f67b83747647c95b094105742b22a2b10/expr.ipynb\"><img src=\"../bbb121a7f67b83747647c95b094105742b22a2b10/expr.png\" style=\"display:inline;vertical-align:middle;\" /></a></span></td></tr>\n",
       "<tr><td>&nbsp;</td><td colspan=4 style=\"text-align:left\"><span style=\"font-size:20px;\"><a class=\"ProveItLink\" href=\"../362568ae3daac1a3eb01067049905e9e3ee60fa40/expr.ipynb\"><img src=\"../362568ae3daac1a3eb01067049905e9e3ee60fa40/expr.png\" style=\"display:inline;vertical-align:middle;\" /></a> : <a class=\"ProveItLink\" href=\"../2d09d995a4990bedd16addf7299df554577d0d550/expr.ipynb\"><img src=\"../2d09d995a4990bedd16addf7299df554577d0d550/expr.png\" style=\"display:inline;vertical-align:middle;\" /></a>, <a class=\"ProveItLink\" href=\"../1895643d58e7bc85397ab245668be91eb41a0f960/expr.ipynb\"><img src=\"../1895643d58e7bc85397ab245668be91eb41a0f960/expr.png\" style=\"display:inline;vertical-align:middle;\" /></a> : <a class=\"ProveItLink\" href=\"../../../../negation/__pv_it/axioms/0a9a1f7252b166ef88edb55a3c6cb8cb01d337920/expr.ipynb\"><img src=\"../../../../negation/__pv_it/axioms/0a9a1f7252b166ef88edb55a3c6cb8cb01d337920/expr.png\" style=\"display:inline;vertical-align:middle;\" /></a>, <a class=\"ProveItLink\" href=\"../../../../../../__pv_it/common/09585084922504426caf1db2ff588a23a0932a960/expr.ipynb\"><img src=\"../../../../../../__pv_it/common/09585084922504426caf1db2ff588a23a0932a960/expr.png\" style=\"display:inline;vertical-align:middle;\" /></a> : <a class=\"ProveItLink\" href=\"../../../../../../__pv_it/common/a9162d1c3cc0470c02e5daf414500903a7a419230/expr.ipynb\"><img src=\"../../../../../../__pv_it/common/a9162d1c3cc0470c02e5daf414500903a7a419230/expr.png\" style=\"display:inline;vertical-align:middle;\" /></a></span></td></tr><tr><td><a name=\"proveit.logic.booleans.conjunction._proof_nand_if_not_left.e31011270de23becb7e3f3da1b35fa84915257710_step1\">1</a></td><td>theorem</td><td></td><td><span style=\"font-size:20px;\"> <a class=\"ProveItLink\" href=\"../../../../_theory_nbs_/proofs/fold_conditioned_forall_over_bool/thm_proof.ipynb\" style=\"text-decoration: none\">&nbsp;&#x22A2;&nbsp;&nbsp;</a><a class=\"ProveItLink\" href=\"../../../../__pv_it/theorems/ca694377e23283ecf30b03af84f815d8a5a1f4220/expr.ipynb\"><img src=\"../../../../__pv_it/theorems/ca694377e23283ecf30b03af84f815d8a5a1f4220/expr.png\" style=\"display:inline;vertical-align:middle;\" /></a></span></td></tr>\n",
       "<tr><td>&nbsp;</td><td colspan=4 style-\"text-align:left\"><a class=\"ProveItLink\" href=\"../../../../_theory_nbs_/proofs/fold_conditioned_forall_over_bool/thm_proof.ipynb\">proveit.logic.booleans.fold_conditioned_forall_over_bool</a></td></tr><tr><td><a name=\"proveit.logic.booleans.conjunction._proof_nand_if_not_left.e31011270de23becb7e3f3da1b35fa84915257710_step2\">2</a></td><td>instantiation</td><td><a href=\"#proveit.logic.booleans.conjunction._proof_nand_if_not_left.e31011270de23becb7e3f3da1b35fa84915257710_step4\">4</a>, <a href=\"#proveit.logic.booleans.conjunction._proof_nand_if_not_left.e31011270de23becb7e3f3da1b35fa84915257710_step5\">5</a></td><td><span style=\"font-size:20px;\"> <a class=\"ProveItLink\" href=\"../ba98dd77cbffb629ae38ff7e6a7d874d16ea8ebb0/proof.ipynb\" style=\"text-decoration: none\">&nbsp;&#x22A2;&nbsp;&nbsp;</a><a class=\"ProveItLink\" href=\"../374901dcce8e1a0eb7c2867379cc6cae29812f3a0/expr.ipynb\"><img src=\"../374901dcce8e1a0eb7c2867379cc6cae29812f3a0/expr.png\" style=\"display:inline;vertical-align:middle;\" /></a></span></td></tr>\n",
       "<tr><td>&nbsp;</td><td colspan=4 style=\"text-align:left\"><span style=\"font-size:20px;\"><a class=\"ProveItLink\" href=\"../../../../../../__pv_it/common/09585084922504426caf1db2ff588a23a0932a960/expr.ipynb\"><img src=\"../../../../../../__pv_it/common/09585084922504426caf1db2ff588a23a0932a960/expr.png\" style=\"display:inline;vertical-align:middle;\" /></a> : <a class=\"ProveItLink\" href=\"../../../../negation/__pv_it/axioms/0a9a1f7252b166ef88edb55a3c6cb8cb01d337920/expr.ipynb\"><img src=\"../../../../negation/__pv_it/axioms/0a9a1f7252b166ef88edb55a3c6cb8cb01d337920/expr.png\" style=\"display:inline;vertical-align:middle;\" /></a>, <a class=\"ProveItLink\" href=\"../../../../../../__pv_it/common/a9162d1c3cc0470c02e5daf414500903a7a419230/expr.ipynb\"><img src=\"../../../../../../__pv_it/common/a9162d1c3cc0470c02e5daf414500903a7a419230/expr.png\" style=\"display:inline;vertical-align:middle;\" /></a> : <a class=\"ProveItLink\" href=\"../87f4a4ac25bb327e28b34529455977ae3520c95e0/expr.ipynb\"><img src=\"../87f4a4ac25bb327e28b34529455977ae3520c95e0/expr.png\" style=\"display:inline;vertical-align:middle;\" /></a></span></td></tr><tr><td><a name=\"proveit.logic.booleans.conjunction._proof_nand_if_not_left.e31011270de23becb7e3f3da1b35fa84915257710_step3\">3</a></td><td>instantiation</td><td><a href=\"#proveit.logic.booleans.conjunction._proof_nand_if_not_left.e31011270de23becb7e3f3da1b35fa84915257710_step4\">4</a>, <a href=\"#proveit.logic.booleans.conjunction._proof_nand_if_not_left.e31011270de23becb7e3f3da1b35fa84915257710_step5\">5</a></td><td><span style=\"font-size:20px;\"> <a class=\"ProveItLink\" href=\"../2c5530fc0f154c74c77bd1ddd41ae353d612c85f0/proof.ipynb\" style=\"text-decoration: none\">&nbsp;&#x22A2;&nbsp;&nbsp;</a><a class=\"ProveItLink\" href=\"../2f106f34263a5c2b8c615071a3ddd703c0ccb6f80/expr.ipynb\"><img src=\"../2f106f34263a5c2b8c615071a3ddd703c0ccb6f80/expr.png\" style=\"display:inline;vertical-align:middle;\" /></a></span></td></tr>\n",
       "<tr><td>&nbsp;</td><td colspan=4 style=\"text-align:left\"><span style=\"font-size:20px;\"><a class=\"ProveItLink\" href=\"../../../../../../__pv_it/common/09585084922504426caf1db2ff588a23a0932a960/expr.ipynb\"><img src=\"../../../../../../__pv_it/common/09585084922504426caf1db2ff588a23a0932a960/expr.png\" style=\"display:inline;vertical-align:middle;\" /></a> : <a class=\"ProveItLink\" href=\"../../../../negation/__pv_it/axioms/0a9a1f7252b166ef88edb55a3c6cb8cb01d337920/expr.ipynb\"><img src=\"../../../../negation/__pv_it/axioms/0a9a1f7252b166ef88edb55a3c6cb8cb01d337920/expr.png\" style=\"display:inline;vertical-align:middle;\" /></a>, <a class=\"ProveItLink\" href=\"../../../../../../__pv_it/common/a9162d1c3cc0470c02e5daf414500903a7a419230/expr.ipynb\"><img src=\"../../../../../../__pv_it/common/a9162d1c3cc0470c02e5daf414500903a7a419230/expr.png\" style=\"display:inline;vertical-align:middle;\" /></a> : <a class=\"ProveItLink\" href=\"../062f2bffdde76d8af057f563a881ac1bb47131220/expr.ipynb\"><img src=\"../062f2bffdde76d8af057f563a881ac1bb47131220/expr.png\" style=\"display:inline;vertical-align:middle;\" /></a></span></td></tr><tr><td><a name=\"proveit.logic.booleans.conjunction._proof_nand_if_not_left.e31011270de23becb7e3f3da1b35fa84915257710_step4\">4</a></td><td>theorem</td><td></td><td><span style=\"font-size:20px;\"> <a class=\"ProveItLink\" href=\"../../../../implication/_theory_nbs_/proofs/falsified_antecedent_implication/thm_proof.ipynb\" style=\"text-decoration: none\">&nbsp;&#x22A2;&nbsp;&nbsp;</a><a class=\"ProveItLink\" href=\"../../../../implication/__pv_it/theorems/fda635824073e75fea82115b8c28d2fb1875c7230/expr.ipynb\"><img src=\"../../../../implication/__pv_it/theorems/fda635824073e75fea82115b8c28d2fb1875c7230/expr.png\" style=\"display:inline;vertical-align:middle;\" /></a></span></td></tr>\n",
       "<tr><td>&nbsp;</td><td colspan=4 style-\"text-align:left\"><a class=\"ProveItLink\" href=\"../../../../implication/_theory_nbs_/proofs/falsified_antecedent_implication/thm_proof.ipynb\">proveit.logic.booleans.implication.falsified_antecedent_implication</a></td></tr><tr><td><a name=\"proveit.logic.booleans.conjunction._proof_nand_if_not_left.e31011270de23becb7e3f3da1b35fa84915257710_step5\">5</a></td><td>instantiation</td><td><a href=\"#proveit.logic.booleans.conjunction._proof_nand_if_not_left.e31011270de23becb7e3f3da1b35fa84915257710_step6\">6</a>, <a href=\"#proveit.logic.booleans.conjunction._proof_nand_if_not_left.e31011270de23becb7e3f3da1b35fa84915257710_step7\">7</a></td><td><span style=\"font-size:20px;\"> <a class=\"ProveItLink\" href=\"../1d7fc75a5771fc4ea544e3de6e5cd44b44fbec5e0/proof.ipynb\" style=\"text-decoration: none\">&nbsp;&#x22A2;&nbsp;&nbsp;</a><a class=\"ProveItLink\" href=\"../175a2a2fc151eb7e0bb6df6142a42d8551031ec20/expr.ipynb\"><img src=\"../175a2a2fc151eb7e0bb6df6142a42d8551031ec20/expr.png\" style=\"display:inline;vertical-align:middle;\" /></a></span></td></tr>\n",
       "<tr><td>&nbsp;</td><td colspan=4 style=\"text-align:left\"><span style=\"font-size:20px;\"><a class=\"ProveItLink\" href=\"../../../../../../__pv_it/common/09585084922504426caf1db2ff588a23a0932a960/expr.ipynb\"><img src=\"../../../../../../__pv_it/common/09585084922504426caf1db2ff588a23a0932a960/expr.png\" style=\"display:inline;vertical-align:middle;\" /></a> : <a class=\"ProveItLink\" href=\"../../../../negation/__pv_it/axioms/0a9a1f7252b166ef88edb55a3c6cb8cb01d337920/expr.ipynb\"><img src=\"../../../../negation/__pv_it/axioms/0a9a1f7252b166ef88edb55a3c6cb8cb01d337920/expr.png\" style=\"display:inline;vertical-align:middle;\" /></a></span></td></tr><tr><td><a name=\"proveit.logic.booleans.conjunction._proof_nand_if_not_left.e31011270de23becb7e3f3da1b35fa84915257710_step6\">6</a></td><td>theorem</td><td></td><td><span style=\"font-size:20px;\"> <a class=\"ProveItLink\" href=\"../../../../negation/_theory_nbs_/proofs/negation_intro/thm_proof.ipynb\" style=\"text-decoration: none\">&nbsp;&#x22A2;&nbsp;&nbsp;</a><a class=\"ProveItLink\" href=\"../../../../negation/__pv_it/theorems/bd44e5e9811a0473cdf6881df0fcd94e9f27db200/expr.ipynb\"><img src=\"../../../../negation/__pv_it/theorems/bd44e5e9811a0473cdf6881df0fcd94e9f27db200/expr.png\" style=\"display:inline;vertical-align:middle;\" /></a></span></td></tr>\n",
       "<tr><td>&nbsp;</td><td colspan=4 style-\"text-align:left\"><a class=\"ProveItLink\" href=\"../../../../negation/_theory_nbs_/proofs/negation_intro/thm_proof.ipynb\">proveit.logic.booleans.negation.negation_intro</a></td></tr><tr><td><a name=\"proveit.logic.booleans.conjunction._proof_nand_if_not_left.e31011270de23becb7e3f3da1b35fa84915257710_step7\">7</a></td><td>axiom</td><td></td><td><span style=\"font-size:20px;\"> <a class=\"ProveItLink\" href=\"../../../../negation/_theory_nbs_/axioms.ipynb#not_t\" style=\"text-decoration: none\">&nbsp;&#x22A2;&nbsp;&nbsp;</a><a class=\"ProveItLink\" href=\"../../../../negation/__pv_it/axioms/892b96a66b0dd237317023264009b8bd35f245000/expr.ipynb\"><img src=\"../../../../negation/__pv_it/axioms/892b96a66b0dd237317023264009b8bd35f245000/expr.png\" style=\"display:inline;vertical-align:middle;\" /></a></span></td></tr>\n",
       "<tr><td>&nbsp;</td><td colspan=4 style-\"text-align:left\"><a class=\"ProveItLink\" href=\"../../../../negation/_theory_nbs_/axioms.ipynb#not_t\">proveit.logic.booleans.negation.not_t</a></td></tr></table>"
      ],
      "text/plain": [
       "<proveit._core_.proof._ShowProof at 0x7f023078b400>"
      ]
     },
     "execution_count": 1,
     "metadata": {},
     "output_type": "execute_result"
    }
   ],
   "source": [
    "import proveit\n",
    "# Automation is not needed when only showing a stored proof:\n",
    "proveit.defaults.automation = False # This will speed things up.\n",
    "proveit.defaults.inline_pngs = False # Makes files smaller.\n",
    "%show_proof"
   ]
  },
  {
   "cell_type": "code",
   "execution_count": null,
   "metadata": {},
   "outputs": [],
   "source": []
  }
 ],
 "metadata": {
  "kernelspec": {
   "display_name": "Python 3",
   "language": "python",
   "name": "python3"
  },
  "language_info": {
   "codemirror_mode": {
    "name": "ipython",
    "version": 3
   },
   "file_extension": ".py",
   "mimetype": "text/x-python",
   "name": "python",
   "nbconvert_exporter": "python",
   "pygments_lexer": "ipython3",
   "version": "3.7.3"
  }
 },
 "nbformat": 4,
 "nbformat_minor": 1
}