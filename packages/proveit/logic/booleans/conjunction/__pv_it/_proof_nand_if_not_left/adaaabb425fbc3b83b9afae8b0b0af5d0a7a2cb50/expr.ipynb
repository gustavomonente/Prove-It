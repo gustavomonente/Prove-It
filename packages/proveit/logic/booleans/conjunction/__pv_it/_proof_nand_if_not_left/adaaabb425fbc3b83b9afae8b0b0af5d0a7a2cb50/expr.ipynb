{
 "cells": [
  {
   "cell_type": "markdown",
   "metadata": {},
   "source": [
    "Expression of type <a class=\"ProveItLink\" href=\"../../../../../../../../doc/html/api/proveit.logic.Forall.html\">Forall</a>\n",
    "=======================\n",
    "# from the theory of <a class=\"ProveItLink\" href=\"../../../_theory_nbs_/theory.ipynb\">proveit.logic.booleans.conjunction</a>"
   ]
  },
  {
   "cell_type": "code",
   "execution_count": 1,
   "metadata": {},
   "outputs": [],
   "source": [
    "import proveit\n",
    "# Automation is not needed when building an expression:\n",
    "proveit.defaults.automation = False # This will speed things up.\n",
    "proveit.defaults.inline_pngs = False # Makes files smaller.\n",
    "%load_expr # Load the stored expression as 'stored_expr'\n",
    "# import Expression classes needed to build the expression\n",
    "from proveit import A, B\n",
    "from proveit.logic import And, Boolean, Forall, Not"
   ]
  },
  {
   "cell_type": "code",
   "execution_count": 2,
   "metadata": {},
   "outputs": [
    {
     "data": {
      "text/html": [
       "<strong id=\"expr\">expr:</strong> <a class=\"ProveItLink\" href=\"expr.ipynb\"><img src=\"expr.png\" style=\"display:inline;vertical-align:middle;\" /></a><br>"
      ],
      "text/plain": [
       "expr: forall_{A in BOOLEAN} [forall_{B in BOOLEAN | [not](A)} [not](A and B)]"
      ]
     },
     "execution_count": 2,
     "metadata": {},
     "output_type": "execute_result"
    }
   ],
   "source": [
    "# build up the expression from sub-expressions\n",
    "sub_expr1 = [Boolean]\n",
    "expr = Forall([A], Forall([B], Not(And(A, B)), domains = sub_expr1, condition = Not(A)), domains = sub_expr1)"
   ]
  },
  {
   "cell_type": "code",
   "execution_count": 3,
   "metadata": {},
   "outputs": [
    {
     "name": "stdout",
     "output_type": "stream",
     "text": [
      "Passed sanity check: expr matches stored_expr\n"
     ]
    }
   ],
   "source": [
    "# check that the built expression is the same as the stored expression\n",
    "assert expr == stored_expr\n",
    "assert expr._style_id == stored_expr._style_id\n",
    "print(\"Passed sanity check: expr matches stored_expr\")"
   ]
  },
  {
   "cell_type": "code",
   "execution_count": 4,
   "metadata": {},
   "outputs": [
    {
     "name": "stdout",
     "output_type": "stream",
     "text": [
      "\\forall_{A \\in \\mathbb{B}}~\\left[\\forall_{B \\in \\mathbb{B}~|~\\lnot A}~(\\lnot \\left(A \\land B\\right))\\right]\n"
     ]
    }
   ],
   "source": [
    "# Show the LaTeX representation of the expression for convenience if you need it.\n",
    "print(expr.latex())"
   ]
  },
  {
   "cell_type": "code",
   "execution_count": 5,
   "metadata": {},
   "outputs": [
    {
     "data": {
      "text/html": [
       "<table><tr><th>&nbsp;</th><th>core type</th><th>sub-expressions</th><th>expression</th></tr>\n",
       "<tr><td>0</td><td>Operation</td><td>operator:&nbsp;5<br>operand:&nbsp;1<br></td><td><a class=\"ProveItLink\" href=\"expr.ipynb\"><img src=\"expr.png\" style=\"display:inline;vertical-align:middle;\" /></a></td></tr>\n",
       "<tr><td>1</td><td>Lambda</td><td>parameter:&nbsp;20<br>body:&nbsp;2<br></td><td><a class=\"ProveItLink\" href=\"../979870fd22ff34843896eacf5e577264776f20b50/expr.ipynb\"><img src=\"../979870fd22ff34843896eacf5e577264776f20b50/expr.png\" style=\"display:inline;vertical-align:middle;\" /></a></td></tr>\n",
       "<tr><td>2</td><td>Conditional</td><td>value:&nbsp;3<br>condition:&nbsp;4<br></td><td><a class=\"ProveItLink\" href=\"../8e79a9a1ccbd348c67a28a191fb6ae67a23a2b6b0/expr.ipynb\"><img src=\"../8e79a9a1ccbd348c67a28a191fb6ae67a23a2b6b0/expr.png\" style=\"display:inline;vertical-align:middle;\" /></a></td></tr>\n",
       "<tr><td>3</td><td>Operation</td><td>operator:&nbsp;5<br>operand:&nbsp;6<br></td><td><a class=\"ProveItLink\" href=\"../53315caabb4f3911c17d75cc5cb449cadb99fe3c0/expr.ipynb\"><img src=\"../53315caabb4f3911c17d75cc5cb449cadb99fe3c0/expr.png\" style=\"display:inline;vertical-align:middle;\" /></a></td></tr>\n",
       "<tr><td>4</td><td>Operation</td><td>operator:&nbsp;17<br>operands:&nbsp;7<br></td><td><a class=\"ProveItLink\" href=\"../../../../__pv_it/theorems/bc796b8e7562f2d661739850b78776738bfc78d80/expr.ipynb\"><img src=\"../../../../__pv_it/theorems/bc796b8e7562f2d661739850b78776738bfc78d80/expr.png\" style=\"display:inline;vertical-align:middle;\" /></a></td></tr>\n",
       "<tr><td>5</td><td>Literal</td><td></td><td><a class=\"ProveItLink\" href=\"../../../../quantification/universality/__pv_it/common/083d2baa0b8ecab1d230f9ec29a15aa1355809fb0/expr.ipynb\"><img src=\"../../../../quantification/universality/__pv_it/common/083d2baa0b8ecab1d230f9ec29a15aa1355809fb0/expr.png\" style=\"display:inline;vertical-align:middle;\" /></a></td></tr>\n",
       "<tr><td>6</td><td>Lambda</td><td>parameter:&nbsp;21<br>body:&nbsp;8<br></td><td><a class=\"ProveItLink\" href=\"../d3030be54dc3f46b9a2e3b14226bb05765ccf7b70/expr.ipynb\"><img src=\"../d3030be54dc3f46b9a2e3b14226bb05765ccf7b70/expr.png\" style=\"display:inline;vertical-align:middle;\" /></a></td></tr>\n",
       "<tr><td>7</td><td>ExprTuple</td><td>20, 22</td><td><a class=\"ProveItLink\" href=\"../../../../__pv_it/theorems/fd383f8575975e415dd7ccbc9e442b0a58d01dd60/expr.ipynb\"><img src=\"../../../../__pv_it/theorems/fd383f8575975e415dd7ccbc9e442b0a58d01dd60/expr.png\" style=\"display:inline;vertical-align:middle;\" /></a></td></tr>\n",
       "<tr><td>8</td><td>Conditional</td><td>value:&nbsp;9<br>condition:&nbsp;10<br></td><td><a class=\"ProveItLink\" href=\"../d5a5e5ed8617e2c9b8276980b7f35adbb454b05d0/expr.ipynb\"><img src=\"../d5a5e5ed8617e2c9b8276980b7f35adbb454b05d0/expr.png\" style=\"display:inline;vertical-align:middle;\" /></a></td></tr>\n",
       "<tr><td>9</td><td>Operation</td><td>operator:&nbsp;19<br>operand:&nbsp;11<br></td><td><a class=\"ProveItLink\" href=\"../../theorems/2e0fdca22b7fa6cecbeccfc7e4e7dc56cc202b370/expr.ipynb\"><img src=\"../../theorems/2e0fdca22b7fa6cecbeccfc7e4e7dc56cc202b370/expr.png\" style=\"display:inline;vertical-align:middle;\" /></a></td></tr>\n",
       "<tr><td>10</td><td>Operation</td><td>operator:&nbsp;13<br>operands:&nbsp;12<br></td><td><a class=\"ProveItLink\" href=\"../d3e4ca1676a5311e9f6f86a495378ede4a437f640/expr.ipynb\"><img src=\"../d3e4ca1676a5311e9f6f86a495378ede4a437f640/expr.png\" style=\"display:inline;vertical-align:middle;\" /></a></td></tr>\n",
       "<tr><td>11</td><td>Operation</td><td>operator:&nbsp;13<br>operands:&nbsp;14<br></td><td><a class=\"ProveItLink\" href=\"../../theorems/ffd8639669fdd5e29284503ab0e5d77da777efc70/expr.ipynb\"><img src=\"../../theorems/ffd8639669fdd5e29284503ab0e5d77da777efc70/expr.png\" style=\"display:inline;vertical-align:middle;\" /></a></td></tr>\n",
       "<tr><td>12</td><td>ExprTuple</td><td>15, 16</td><td><a class=\"ProveItLink\" href=\"../e1e0379e4423a7ecd9afa6edc435bbdd15ad672d0/expr.ipynb\"><img src=\"../e1e0379e4423a7ecd9afa6edc435bbdd15ad672d0/expr.png\" style=\"display:inline;vertical-align:middle;\" /></a></td></tr>\n",
       "<tr><td>13</td><td>Literal</td><td></td><td><a class=\"ProveItLink\" href=\"../../common/42118ff318bd65d98b1393f64ce7c2269feef76e0/expr.ipynb\"><img src=\"../../common/42118ff318bd65d98b1393f64ce7c2269feef76e0/expr.png\" style=\"display:inline;vertical-align:middle;\" /></a></td></tr>\n",
       "<tr><td>14</td><td>ExprTuple</td><td>20, 21</td><td><a class=\"ProveItLink\" href=\"../../theorems/8168c562b942d2349bc15878d637d47dc90786870/expr.ipynb\"><img src=\"../../theorems/8168c562b942d2349bc15878d637d47dc90786870/expr.png\" style=\"display:inline;vertical-align:middle;\" /></a></td></tr>\n",
       "<tr><td>15</td><td>Operation</td><td>operator:&nbsp;17<br>operands:&nbsp;18<br></td><td><a class=\"ProveItLink\" href=\"../../theorems/6b89b43e4cbb2b2a7f36bef7320ec444c4840e0e0/expr.ipynb\"><img src=\"../../theorems/6b89b43e4cbb2b2a7f36bef7320ec444c4840e0e0/expr.png\" style=\"display:inline;vertical-align:middle;\" /></a></td></tr>\n",
       "<tr><td>16</td><td>Operation</td><td>operator:&nbsp;19<br>operand:&nbsp;20<br></td><td><a class=\"ProveItLink\" href=\"../../../../negation/__pv_it/theorems/01f448c1859c833a809fa283ac70522a4677a9270/expr.ipynb\"><img src=\"../../../../negation/__pv_it/theorems/01f448c1859c833a809fa283ac70522a4677a9270/expr.png\" style=\"display:inline;vertical-align:middle;\" /></a></td></tr>\n",
       "<tr><td>17</td><td>Literal</td><td></td><td><a class=\"ProveItLink\" href=\"../../../../../sets/membership/__pv_it/common/477487d8796864d23d5810f83761435f25167f690/expr.ipynb\"><img src=\"../../../../../sets/membership/__pv_it/common/477487d8796864d23d5810f83761435f25167f690/expr.png\" style=\"display:inline;vertical-align:middle;\" /></a></td></tr>\n",
       "<tr><td>18</td><td>ExprTuple</td><td>21, 22</td><td><a class=\"ProveItLink\" href=\"../../theorems/b193ebcd6b21c9b60c917b2f2b0404fb0b4261ba0/expr.ipynb\"><img src=\"../../theorems/b193ebcd6b21c9b60c917b2f2b0404fb0b4261ba0/expr.png\" style=\"display:inline;vertical-align:middle;\" /></a></td></tr>\n",
       "<tr><td>19</td><td>Literal</td><td></td><td><a class=\"ProveItLink\" href=\"../../../../negation/__pv_it/common/1a811a997e5d75fdb50cdaf74f302daccad39af40/expr.ipynb\"><img src=\"../../../../negation/__pv_it/common/1a811a997e5d75fdb50cdaf74f302daccad39af40/expr.png\" style=\"display:inline;vertical-align:middle;\" /></a></td></tr>\n",
       "<tr><td>20</td><td>Variable</td><td></td><td><a class=\"ProveItLink\" href=\"../../../../../../__pv_it/common/09585084922504426caf1db2ff588a23a0932a960/expr.ipynb\"><img src=\"../../../../../../__pv_it/common/09585084922504426caf1db2ff588a23a0932a960/expr.png\" style=\"display:inline;vertical-align:middle;\" /></a></td></tr>\n",
       "<tr><td>21</td><td>Variable</td><td></td><td><a class=\"ProveItLink\" href=\"../../../../../../__pv_it/common/a9162d1c3cc0470c02e5daf414500903a7a419230/expr.ipynb\"><img src=\"../../../../../../__pv_it/common/a9162d1c3cc0470c02e5daf414500903a7a419230/expr.png\" style=\"display:inline;vertical-align:middle;\" /></a></td></tr>\n",
       "<tr><td>22</td><td>Literal</td><td></td><td><a class=\"ProveItLink\" href=\"../../../../__pv_it/common/97424376de9815ad99f7180e3191b1cf4ab2a5710/expr.ipynb\"><img src=\"../../../../__pv_it/common/97424376de9815ad99f7180e3191b1cf4ab2a5710/expr.png\" style=\"display:inline;vertical-align:middle;\" /></a></td></tr>\n",
       "</table>\n"
      ],
      "text/plain": [
       "0. forall_{A in BOOLEAN} [forall_{B in BOOLEAN | [not](A)} [not](A and B)]\n",
       "   core type: Operation\n",
       "   operator: 5\n",
       "   operand: 1\n",
       "1. A -> {forall_{B in BOOLEAN | [not](A)} [not](A and B) if A in BOOLEAN.\n",
       "   core type: Lambda\n",
       "   parameter: 20\n",
       "   body: 2\n",
       "2. {forall_{B in BOOLEAN | [not](A)} [not](A and B) if A in BOOLEAN.\n",
       "   core type: Conditional\n",
       "   value: 3\n",
       "   condition: 4\n",
       "3. forall_{B in BOOLEAN | [not](A)} [not](A and B)\n",
       "   core type: Operation\n",
       "   operator: 5\n",
       "   operand: 6\n",
       "4. A in BOOLEAN\n",
       "   core type: Operation\n",
       "   operator: 17\n",
       "   operands: 7\n",
       "5. forall\n",
       "   core type: Literal\n",
       "   sub-expressions: \n",
       "6. B -> {[not](A and B) if B in BOOLEAN ,  [not](A).\n",
       "   core type: Lambda\n",
       "   parameter: 21\n",
       "   body: 8\n",
       "7. (A, BOOLEAN)\n",
       "   core type: ExprTuple\n",
       "   sub-expressions: 20, 22\n",
       "8. {[not](A and B) if B in BOOLEAN ,  [not](A).\n",
       "   core type: Conditional\n",
       "   value: 9\n",
       "   condition: 10\n",
       "9. [not](A and B)\n",
       "   core type: Operation\n",
       "   operator: 19\n",
       "   operand: 11\n",
       "10. (B in BOOLEAN) and [not](A)\n",
       "    core type: Operation\n",
       "    operator: 13\n",
       "    operands: 12\n",
       "11. A and B\n",
       "    core type: Operation\n",
       "    operator: 13\n",
       "    operands: 14\n",
       "12. (B in BOOLEAN, [not](A))\n",
       "    core type: ExprTuple\n",
       "    sub-expressions: 15, 16\n",
       "13. and\n",
       "    core type: Literal\n",
       "    sub-expressions: \n",
       "14. (A, B)\n",
       "    core type: ExprTuple\n",
       "    sub-expressions: 20, 21\n",
       "15. B in BOOLEAN\n",
       "    core type: Operation\n",
       "    operator: 17\n",
       "    operands: 18\n",
       "16. [not](A)\n",
       "    core type: Operation\n",
       "    operator: 19\n",
       "    operand: 20\n",
       "17. in\n",
       "    core type: Literal\n",
       "    sub-expressions: \n",
       "18. (B, BOOLEAN)\n",
       "    core type: ExprTuple\n",
       "    sub-expressions: 21, 22\n",
       "19. not\n",
       "    core type: Literal\n",
       "    sub-expressions: \n",
       "20. A\n",
       "    core type: Variable\n",
       "    sub-expressions: \n",
       "21. B\n",
       "    core type: Variable\n",
       "    sub-expressions: \n",
       "22. BOOLEAN\n",
       "    core type: Literal\n",
       "    sub-expressions: "
      ]
     },
     "execution_count": 5,
     "metadata": {},
     "output_type": "execute_result"
    }
   ],
   "source": [
    "# display the expression information\n",
    "expr.expr_info()"
   ]
  },
  {
   "cell_type": "code",
   "execution_count": null,
   "metadata": {},
   "outputs": [],
   "source": []
  }
 ],
 "metadata": {
  "kernelspec": {
   "display_name": "Python 3",
   "language": "python",
   "name": "python3"
  }
 },
 "nbformat": 4,
 "nbformat_minor": 0
}