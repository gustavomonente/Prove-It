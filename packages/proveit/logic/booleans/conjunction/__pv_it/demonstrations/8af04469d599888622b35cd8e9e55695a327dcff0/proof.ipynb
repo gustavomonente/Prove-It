{
 "cells": [
  {
   "cell_type": "markdown",
   "metadata": {},
   "source": [
    "Show the Proof\n",
    "========"
   ]
  },
  {
   "cell_type": "code",
   "execution_count": 1,
   "metadata": {},
   "outputs": [
    {
     "data": {
      "text/html": [
       "<table><tr><th>&nbsp;</th><th>step type</th><th>requirements</th><th>statement</th></tr>\n",
       "<tr><td><a name=\"proveit.logic.booleans.conjunction.demonstrations.8af04469d599888622b35cd8e9e55695a327dcff0_step0\">0</a></td><td>instantiation</td><td><a href=\"#proveit.logic.booleans.conjunction.demonstrations.8af04469d599888622b35cd8e9e55695a327dcff0_step1\">1</a>, <a href=\"#proveit.logic.booleans.conjunction.demonstrations.8af04469d599888622b35cd8e9e55695a327dcff0_step2\">2</a>, <a href=\"#proveit.logic.booleans.conjunction.demonstrations.8af04469d599888622b35cd8e9e55695a327dcff0_step3\">3</a></td><td><span style=\"font-size:20px;\"><a class=\"ProveItLink\" href=\"../f7aa198e014911ac6f13ab1b58223dc921e7aed70/expr.ipynb\"><img src=\"../f7aa198e014911ac6f13ab1b58223dc921e7aed70/expr.png\" style=\"display:inline;vertical-align:middle;\" /></a> <a class=\"ProveItLink\" href=\"proof.ipynb\" style=\"text-decoration: none\">&nbsp;&#x22A2;&nbsp;&nbsp;</a><a class=\"ProveItLink\" href=\"../f5df5a448f4acdac41874fdf1446b0907f86262a0/expr.ipynb\"><img src=\"../f5df5a448f4acdac41874fdf1446b0907f86262a0/expr.png\" style=\"display:inline;vertical-align:middle;\" /></a></span></td></tr>\n",
       "<tr><td>&nbsp;</td><td colspan=4 style=\"text-align:left\"><span style=\"font-size:20px;\"><a class=\"ProveItLink\" href=\"../84fb6bfbf82ffd89b2e4fb128d4f37cc62a695fa0/expr.ipynb\"><img src=\"../84fb6bfbf82ffd89b2e4fb128d4f37cc62a695fa0/expr.png\" style=\"display:inline;vertical-align:middle;\" /></a> : <a class=\"ProveItLink\" href=\"../842af9b2e97a7ad635169633e8b6c9e63935c41e0/expr.ipynb\"><img src=\"../842af9b2e97a7ad635169633e8b6c9e63935c41e0/expr.png\" style=\"display:inline;vertical-align:middle;\" /></a>, <a class=\"ProveItLink\" href=\"../../../../../../__pv_it/common/a0d9d672aa5e272d907247690c152cc2c6daafb70/expr.ipynb\"><img src=\"../../../../../../__pv_it/common/a0d9d672aa5e272d907247690c152cc2c6daafb70/expr.png\" style=\"display:inline;vertical-align:middle;\" /></a> : <a class=\"ProveItLink\" href=\"../f7aa198e014911ac6f13ab1b58223dc921e7aed70/expr.ipynb\"><img src=\"../f7aa198e014911ac6f13ab1b58223dc921e7aed70/expr.png\" style=\"display:inline;vertical-align:middle;\" /></a></span></td></tr><tr><td><a name=\"proveit.logic.booleans.conjunction.demonstrations.8af04469d599888622b35cd8e9e55695a327dcff0_step1\">1</a></td><td>theorem</td><td></td><td><span style=\"font-size:20px;\"> <a class=\"ProveItLink\" href=\"../../../../../equality/_theory_nbs_/proofs/substitute_truth/thm_proof.ipynb\" style=\"text-decoration: none\">&nbsp;&#x22A2;&nbsp;&nbsp;</a><a class=\"ProveItLink\" href=\"../../../../../equality/__pv_it/theorems/a2fcccb6b9a54f83342381fbffc0c31590728d2e0/expr.ipynb\"><img src=\"../../../../../equality/__pv_it/theorems/a2fcccb6b9a54f83342381fbffc0c31590728d2e0/expr.png\" style=\"display:inline;vertical-align:middle;\" /></a></span></td></tr>\n",
       "<tr><td>&nbsp;</td><td colspan=4 style-\"text-align:left\"><a class=\"ProveItLink\" href=\"../../../../../equality/_theory_nbs_/proofs/substitute_truth/thm_proof.ipynb\">proveit.logic.equality.substitute_truth</a></td></tr><tr><td><a name=\"proveit.logic.booleans.conjunction.demonstrations.8af04469d599888622b35cd8e9e55695a327dcff0_step2\">2</a></td><td>theorem</td><td></td><td><span style=\"font-size:20px;\"> <a class=\"ProveItLink\" href=\"../../../../_theory_nbs_/proofs/true_is_bool/thm_proof.ipynb\" style=\"text-decoration: none\">&nbsp;&#x22A2;&nbsp;&nbsp;</a><a class=\"ProveItLink\" href=\"../../../../__pv_it/theorems/1cf4efe0f7621ced45753252cd465ed0c227f19b0/expr.ipynb\"><img src=\"../../../../__pv_it/theorems/1cf4efe0f7621ced45753252cd465ed0c227f19b0/expr.png\" style=\"display:inline;vertical-align:middle;\" /></a></span></td></tr>\n",
       "<tr><td>&nbsp;</td><td colspan=4 style-\"text-align:left\"><a class=\"ProveItLink\" href=\"../../../../_theory_nbs_/proofs/true_is_bool/thm_proof.ipynb\">proveit.logic.booleans.true_is_bool</a></td></tr><tr><td><a name=\"proveit.logic.booleans.conjunction.demonstrations.8af04469d599888622b35cd8e9e55695a327dcff0_step3\">3</a></td><td>assumption</td><td></td><td><span style=\"font-size:20px;\"><a class=\"ProveItLink\" href=\"../f7aa198e014911ac6f13ab1b58223dc921e7aed70/expr.ipynb\"><img src=\"../f7aa198e014911ac6f13ab1b58223dc921e7aed70/expr.png\" style=\"display:inline;vertical-align:middle;\" /></a> <a class=\"ProveItLink\" href=\"../4a14c49d9fb18c4ba5c0df6ef440839cbb73b31e0/proof.ipynb\" style=\"text-decoration: none\">&nbsp;&#x22A2;&nbsp;&nbsp;</a><a class=\"ProveItLink\" href=\"../f7aa198e014911ac6f13ab1b58223dc921e7aed70/expr.ipynb\"><img src=\"../f7aa198e014911ac6f13ab1b58223dc921e7aed70/expr.png\" style=\"display:inline;vertical-align:middle;\" /></a></span></td></tr>\n",
       "</table>"
      ],
      "text/plain": [
       "<proveit._core_.proof._ShowProof at 0x7f1cf5cce080>"
      ]
     },
     "execution_count": 1,
     "metadata": {},
     "output_type": "execute_result"
    }
   ],
   "source": [
    "import proveit\n",
    "# Automation is not needed when only showing a stored proof:\n",
    "proveit.defaults.automation = False # This will speed things up.\n",
    "proveit.defaults.inline_pngs = False # Makes files smaller.\n",
    "%show_proof"
   ]
  },
  {
   "cell_type": "code",
   "execution_count": null,
   "metadata": {},
   "outputs": [],
   "source": []
  }
 ],
 "metadata": {
  "kernelspec": {
   "display_name": "Python 3",
   "language": "python",
   "name": "python3"
  }
 },
 "nbformat": 4,
 "nbformat_minor": 0
}