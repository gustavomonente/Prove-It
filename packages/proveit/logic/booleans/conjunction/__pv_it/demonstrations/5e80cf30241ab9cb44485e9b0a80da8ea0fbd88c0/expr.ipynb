{
 "cells": [
  {
   "cell_type": "markdown",
   "metadata": {},
   "source": [
    "Expression of type <a class=\"ProveItLink\" href=\"../../../../../../../../doc/html/api/proveit.logic.Equals.html\">Equals</a>\n",
    "=======================\n",
    "# from the theory of <a class=\"ProveItLink\" href=\"../../../_theory_nbs_/theory.ipynb\">proveit.logic.booleans.conjunction</a>"
   ]
  },
  {
   "cell_type": "code",
   "execution_count": 1,
   "metadata": {},
   "outputs": [],
   "source": [
    "import proveit\n",
    "# Automation is not needed when building an expression:\n",
    "proveit.defaults.automation = False # This will speed things up.\n",
    "proveit.defaults.inline_pngs = False # Makes files smaller.\n",
    "%load_expr # Load the stored expression as 'stored_expr'\n",
    "# import Expression classes needed to build the expression\n",
    "from proveit import B, C, ExprRange, IndexedVar, n, x\n",
    "from proveit.core_expr_types import Len\n",
    "from proveit.logic import Equals\n",
    "from proveit.numbers import Add, Neg, one"
   ]
  },
  {
   "cell_type": "code",
   "execution_count": 2,
   "metadata": {},
   "outputs": [
    {
     "data": {
      "text/html": [
       "<strong id=\"expr\">expr:</strong> <a class=\"ProveItLink\" href=\"expr.ipynb\"><img src=\"expr.png\" style=\"display:inline;vertical-align:middle;\" /></a><br>"
      ],
      "text/plain": [
       "expr: |(B, C_{1}, ..C_{x}.., C_{n})| \\\\  = ((1 - 1 + 1) + (n - 1 + 1))"
      ]
     },
     "execution_count": 2,
     "metadata": {},
     "output_type": "execute_result"
    }
   ],
   "source": [
    "# build up the expression from sub-expressions\n",
    "sub_expr1 = Neg(one)\n",
    "expr = Equals(Len([B, ExprRange(x, IndexedVar(C, x), one, n)]), Add(Add(one, sub_expr1, one), Add(n, sub_expr1, one))).with_wrapping_at(1)"
   ]
  },
  {
   "cell_type": "code",
   "execution_count": 3,
   "metadata": {},
   "outputs": [
    {
     "name": "stdout",
     "output_type": "stream",
     "text": [
      "Passed sanity check: expr matches stored_expr\n"
     ]
    }
   ],
   "source": [
    "# check that the built expression is the same as the stored expression\n",
    "assert expr == stored_expr\n",
    "assert expr._style_id == stored_expr._style_id\n",
    "print(\"Passed sanity check: expr matches stored_expr\")"
   ]
  },
  {
   "cell_type": "code",
   "execution_count": 4,
   "metadata": {},
   "outputs": [
    {
     "name": "stdout",
     "output_type": "stream",
     "text": [
      "\\begin{array}{c} |\\left(B, C_{1}, \\ldots, C_{n}\\right)| \\\\  = \\left(\\left(1 - 1 + 1\\right) + \\left(n - 1 + 1\\right)\\right) \\end{array}\n"
     ]
    }
   ],
   "source": [
    "# Show the LaTeX representation of the expression for convenience if you need it.\n",
    "print(expr.latex())"
   ]
  },
  {
   "cell_type": "code",
   "execution_count": 5,
   "metadata": {},
   "outputs": [
    {
     "data": {
      "text/html": [
       "<table><tr><th>&nbsp;</th><th>core type</th><th>sub-expressions</th><th>expression</th></tr>\n",
       "<tr><td>0</td><td>Operation</td><td>operator:&nbsp;1<br>operands:&nbsp;2<br></td><td><a class=\"ProveItLink\" href=\"expr.ipynb\"><img src=\"expr.png\" style=\"display:inline;vertical-align:middle;\" /></a></td></tr>\n",
       "<tr><td>1</td><td>Literal</td><td></td><td><a class=\"ProveItLink\" href=\"../../../../../equality/__pv_it/common/fb96dc12b2aa8801dda64d0132b396c63d1502bb0/expr.ipynb\"><img src=\"../../../../../equality/__pv_it/common/fb96dc12b2aa8801dda64d0132b396c63d1502bb0/expr.png\" style=\"display:inline;vertical-align:middle;\" /></a></td></tr>\n",
       "<tr><td>2</td><td>ExprTuple</td><td>3, 4</td><td><a class=\"ProveItLink\" href=\"../904349e175103d05ae2def0d1c6c6287db63f9700/expr.ipynb\"><img src=\"../904349e175103d05ae2def0d1c6c6287db63f9700/expr.png\" style=\"display:inline;vertical-align:middle;\" /></a></td></tr>\n",
       "<tr><td>3</td><td>Operation</td><td>operator:&nbsp;5<br>operand:&nbsp;8<br></td><td><a class=\"ProveItLink\" href=\"../4bebf310d09c78f71fd3a81525dfed8c2788eb500/expr.ipynb\"><img src=\"../4bebf310d09c78f71fd3a81525dfed8c2788eb500/expr.png\" style=\"display:inline;vertical-align:middle;\" /></a></td></tr>\n",
       "<tr><td>4</td><td>Operation</td><td>operator:&nbsp;14<br>operands:&nbsp;7<br></td><td><a class=\"ProveItLink\" href=\"../59ef8b0b9c2d8d986d06314fafe521736566dfb10/expr.ipynb\"><img src=\"../59ef8b0b9c2d8d986d06314fafe521736566dfb10/expr.png\" style=\"display:inline;vertical-align:middle;\" /></a></td></tr>\n",
       "<tr><td>5</td><td>Literal</td><td></td><td><a class=\"ProveItLink\" href=\"../../../../../../core_expr_types/tuples/__pv_it/common/43df765abf1294d8f1fd177863f57f08bf5ad0080/expr.ipynb\"><img src=\"../../../../../../core_expr_types/tuples/__pv_it/common/43df765abf1294d8f1fd177863f57f08bf5ad0080/expr.png\" style=\"display:inline;vertical-align:middle;\" /></a></td></tr>\n",
       "<tr><td>6</td><td>ExprTuple</td><td>8</td><td><a class=\"ProveItLink\" href=\"../2b75e3246d21010a059e317415b3764657c541030/expr.ipynb\"><img src=\"../2b75e3246d21010a059e317415b3764657c541030/expr.png\" style=\"display:inline;vertical-align:middle;\" /></a></td></tr>\n",
       "<tr><td>7</td><td>ExprTuple</td><td>9, 10</td><td><a class=\"ProveItLink\" href=\"../80b3fc7c30dc33ab11c7c213ac4c07389e1cc3fd0/expr.ipynb\"><img src=\"../80b3fc7c30dc33ab11c7c213ac4c07389e1cc3fd0/expr.png\" style=\"display:inline;vertical-align:middle;\" /></a></td></tr>\n",
       "<tr><td>8</td><td>ExprTuple</td><td>11, 12</td><td><a class=\"ProveItLink\" href=\"../0b1553fbd701776ab2354b6dd37277914da496770/expr.ipynb\"><img src=\"../0b1553fbd701776ab2354b6dd37277914da496770/expr.png\" style=\"display:inline;vertical-align:middle;\" /></a></td></tr>\n",
       "<tr><td>9</td><td>Operation</td><td>operator:&nbsp;14<br>operands:&nbsp;13<br></td><td><a class=\"ProveItLink\" href=\"../ff64286fc5f6a81647f8f7b46bba3d14da0dc1040/expr.ipynb\"><img src=\"../ff64286fc5f6a81647f8f7b46bba3d14da0dc1040/expr.png\" style=\"display:inline;vertical-align:middle;\" /></a></td></tr>\n",
       "<tr><td>10</td><td>Operation</td><td>operator:&nbsp;14<br>operands:&nbsp;15<br></td><td><a class=\"ProveItLink\" href=\"../238808c42441ab60d574b203ac9f11b2a71417370/expr.ipynb\"><img src=\"../238808c42441ab60d574b203ac9f11b2a71417370/expr.png\" style=\"display:inline;vertical-align:middle;\" /></a></td></tr>\n",
       "<tr><td>11</td><td>Variable</td><td></td><td><a class=\"ProveItLink\" href=\"../../../../../../__pv_it/common/a9162d1c3cc0470c02e5daf414500903a7a419230/expr.ipynb\"><img src=\"../../../../../../__pv_it/common/a9162d1c3cc0470c02e5daf414500903a7a419230/expr.png\" style=\"display:inline;vertical-align:middle;\" /></a></td></tr>\n",
       "<tr><td>12</td><td>ExprRange</td><td>lambda_map:&nbsp;16<br>start_index:&nbsp;21<br>end_index:&nbsp;17<br></td><td><a class=\"ProveItLink\" href=\"../c00f976385522972afa9111dcd5c09448628e9680/expr.ipynb\"><img src=\"../c00f976385522972afa9111dcd5c09448628e9680/expr.png\" style=\"display:inline;vertical-align:middle;\" /></a></td></tr>\n",
       "<tr><td>13</td><td>ExprTuple</td><td>21, 18, 21</td><td><a class=\"ProveItLink\" href=\"../ca47058983238ff0eb448d1cb424c0b39ddf4ed10/expr.ipynb\"><img src=\"../ca47058983238ff0eb448d1cb424c0b39ddf4ed10/expr.png\" style=\"display:inline;vertical-align:middle;\" /></a></td></tr>\n",
       "<tr><td>14</td><td>Literal</td><td></td><td><a class=\"ProveItLink\" href=\"../../../../../../numbers/addition/__pv_it/common/4b7effaab3619a1c2c38fe2dee8601df8ec714590/expr.ipynb\"><img src=\"../../../../../../numbers/addition/__pv_it/common/4b7effaab3619a1c2c38fe2dee8601df8ec714590/expr.png\" style=\"display:inline;vertical-align:middle;\" /></a></td></tr>\n",
       "<tr><td>15</td><td>ExprTuple</td><td>17, 18, 21</td><td><a class=\"ProveItLink\" href=\"../4ca14cb7e9571e41acb8bce1338e6a533ee193e60/expr.ipynb\"><img src=\"../4ca14cb7e9571e41acb8bce1338e6a533ee193e60/expr.png\" style=\"display:inline;vertical-align:middle;\" /></a></td></tr>\n",
       "<tr><td>16</td><td>Lambda</td><td>parameter:&nbsp;23<br>body:&nbsp;19<br></td><td><a class=\"ProveItLink\" href=\"../df5654e19b0dde5416f2bce486ef0de386dc73030/expr.ipynb\"><img src=\"../df5654e19b0dde5416f2bce486ef0de386dc73030/expr.png\" style=\"display:inline;vertical-align:middle;\" /></a></td></tr>\n",
       "<tr><td>17</td><td>Variable</td><td></td><td><a class=\"ProveItLink\" href=\"../../../../../../__pv_it/common/8968bb04eb3f7dfa02353397ce929b025bbd79c20/expr.ipynb\"><img src=\"../../../../../../__pv_it/common/8968bb04eb3f7dfa02353397ce929b025bbd79c20/expr.png\" style=\"display:inline;vertical-align:middle;\" /></a></td></tr>\n",
       "<tr><td>18</td><td>Operation</td><td>operator:&nbsp;20<br>operand:&nbsp;21<br></td><td><a class=\"ProveItLink\" href=\"../44da79c41f096863320e2aca2d20b6c16cdd623b0/expr.ipynb\"><img src=\"../44da79c41f096863320e2aca2d20b6c16cdd623b0/expr.png\" style=\"display:inline;vertical-align:middle;\" /></a></td></tr>\n",
       "<tr><td>19</td><td>IndexedVar</td><td>variable:&nbsp;22<br>index:&nbsp;23<br></td><td><a class=\"ProveItLink\" href=\"../f6a4a86dad62cb263b985dda1faf67dd89bd81b40/expr.ipynb\"><img src=\"../f6a4a86dad62cb263b985dda1faf67dd89bd81b40/expr.png\" style=\"display:inline;vertical-align:middle;\" /></a></td></tr>\n",
       "<tr><td>20</td><td>Literal</td><td></td><td><a class=\"ProveItLink\" href=\"../../../../../../numbers/negation/__pv_it/common/221b3c4d1770ee9051b7c044c3f9ec61196fc34b0/expr.ipynb\"><img src=\"../../../../../../numbers/negation/__pv_it/common/221b3c4d1770ee9051b7c044c3f9ec61196fc34b0/expr.png\" style=\"display:inline;vertical-align:middle;\" /></a></td></tr>\n",
       "<tr><td>21</td><td>Literal</td><td></td><td><a class=\"ProveItLink\" href=\"../../../../../../numbers/numerals/__pv_it/common/2778428c7f555b2bdc06aa0530bc142c6e6335100/expr.ipynb\"><img src=\"../../../../../../numbers/numerals/__pv_it/common/2778428c7f555b2bdc06aa0530bc142c6e6335100/expr.png\" style=\"display:inline;vertical-align:middle;\" /></a></td></tr>\n",
       "<tr><td>22</td><td>Variable</td><td></td><td><a class=\"ProveItLink\" href=\"../../../../../../__pv_it/common/9fba9f29e823606ff4fdf2f1c6d5d08d906e850a0/expr.ipynb\"><img src=\"../../../../../../__pv_it/common/9fba9f29e823606ff4fdf2f1c6d5d08d906e850a0/expr.png\" style=\"display:inline;vertical-align:middle;\" /></a></td></tr>\n",
       "<tr><td>23</td><td>Variable</td><td></td><td><a class=\"ProveItLink\" href=\"../../../../../../__pv_it/common/a0d9d672aa5e272d907247690c152cc2c6daafb70/expr.ipynb\"><img src=\"../../../../../../__pv_it/common/a0d9d672aa5e272d907247690c152cc2c6daafb70/expr.png\" style=\"display:inline;vertical-align:middle;\" /></a></td></tr>\n",
       "</table>\n"
      ],
      "text/plain": [
       "0. |(B, C_{1}, ..C_{x}.., C_{n})| \\\\  = ((1 - 1 + 1) + (n - 1 + 1))\n",
       "   core type: Operation\n",
       "   operator: 1\n",
       "   operands: 2\n",
       "1. =\n",
       "   core type: Literal\n",
       "   sub-expressions: \n",
       "2. (|(B, C_{1}, ..C_{x}.., C_{n})|, (1 - 1 + 1) + (n - 1 + 1))\n",
       "   core type: ExprTuple\n",
       "   sub-expressions: 3, 4\n",
       "3. |(B, C_{1}, ..C_{x}.., C_{n})|\n",
       "   core type: Operation\n",
       "   operator: 5\n",
       "   operand: 8\n",
       "4. (1 - 1 + 1) + (n - 1 + 1)\n",
       "   core type: Operation\n",
       "   operator: 14\n",
       "   operands: 7\n",
       "5. length\n",
       "   core type: Literal\n",
       "   sub-expressions: \n",
       "6. ((B, C_{1}, ..C_{x}.., C_{n}))\n",
       "   core type: ExprTuple\n",
       "   sub-expressions: 8\n",
       "7. (1 - 1 + 1, n - 1 + 1)\n",
       "   core type: ExprTuple\n",
       "   sub-expressions: 9, 10\n",
       "8. (B, C_{1}, ..C_{x}.., C_{n})\n",
       "   core type: ExprTuple\n",
       "   sub-expressions: 11, 12\n",
       "9. 1 - 1 + 1\n",
       "   core type: Operation\n",
       "   operator: 14\n",
       "   operands: 13\n",
       "10. n - 1 + 1\n",
       "    core type: Operation\n",
       "    operator: 14\n",
       "    operands: 15\n",
       "11. B\n",
       "    core type: Variable\n",
       "    sub-expressions: \n",
       "12. C_{1}, ..C_{x}.., C_{n}\n",
       "    core type: ExprRange\n",
       "    lambda_map: 16\n",
       "    start_index: 21\n",
       "    end_index: 17\n",
       "13. (1, -1, 1)\n",
       "    core type: ExprTuple\n",
       "    sub-expressions: 21, 18, 21\n",
       "14. +\n",
       "    core type: Literal\n",
       "    sub-expressions: \n",
       "15. (n, -1, 1)\n",
       "    core type: ExprTuple\n",
       "    sub-expressions: 17, 18, 21\n",
       "16. x -> C_{x}\n",
       "    core type: Lambda\n",
       "    parameter: 23\n",
       "    body: 19\n",
       "17. n\n",
       "    core type: Variable\n",
       "    sub-expressions: \n",
       "18. -1\n",
       "    core type: Operation\n",
       "    operator: 20\n",
       "    operand: 21\n",
       "19. C_{x}\n",
       "    core type: IndexedVar\n",
       "variable: 22\n",
       "index: 23\n",
       "20. -\n",
       "    core type: Literal\n",
       "    sub-expressions: \n",
       "21. 1\n",
       "    core type: Literal\n",
       "    sub-expressions: \n",
       "22. C\n",
       "    core type: Variable\n",
       "    sub-expressions: \n",
       "23. x\n",
       "    core type: Variable\n",
       "    sub-expressions: "
      ]
     },
     "execution_count": 5,
     "metadata": {},
     "output_type": "execute_result"
    }
   ],
   "source": [
    "# display the expression information\n",
    "expr.expr_info()"
   ]
  },
  {
   "cell_type": "code",
   "execution_count": null,
   "metadata": {},
   "outputs": [],
   "source": []
  }
 ],
 "metadata": {
  "kernelspec": {
   "display_name": "Python 3",
   "language": "python",
   "name": "python3"
  }
 },
 "nbformat": 4,
 "nbformat_minor": 0
}