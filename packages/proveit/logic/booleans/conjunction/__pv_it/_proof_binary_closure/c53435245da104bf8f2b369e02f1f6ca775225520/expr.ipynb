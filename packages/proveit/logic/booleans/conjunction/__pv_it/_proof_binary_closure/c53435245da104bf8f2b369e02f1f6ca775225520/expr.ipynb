{
 "cells": [
  {
   "cell_type": "markdown",
   "metadata": {},
   "source": [
    "Expression of type <a class=\"ProveItLink\" href=\"../../../../../../../../doc/html/api/proveit.ExprTuple.html\">ExprTuple</a>\n",
    "=======================\n",
    "# from the theory of <a class=\"ProveItLink\" href=\"../../../_theory_nbs_/theory.ipynb\">proveit.logic.booleans.conjunction</a>"
   ]
  },
  {
   "cell_type": "code",
   "execution_count": 1,
   "metadata": {},
   "outputs": [],
   "source": [
    "import proveit\n",
    "# Automation is not needed when building an expression:\n",
    "proveit.defaults.automation = False # This will speed things up.\n",
    "proveit.defaults.inline_pngs = False # Makes files smaller.\n",
    "%load_expr # Load the stored expression as 'stored_expr'\n",
    "# import Expression classes needed to build the expression\n",
    "from proveit import A, B, ExprTuple\n",
    "from proveit.logic import And, Boolean, Forall, InSet"
   ]
  },
  {
   "cell_type": "code",
   "execution_count": 2,
   "metadata": {},
   "outputs": [
    {
     "data": {
      "text/html": [
       "<strong id=\"expr\">expr:</strong> <a class=\"ProveItLink\" href=\"expr.ipynb\"><img src=\"expr.png\" style=\"display:inline;vertical-align:middle;\" /></a><br>"
      ],
      "text/plain": [
       "expr: (forall_{A in BOOLEAN} [forall_{B in BOOLEAN} ((A and B) in BOOLEAN)], forall_{A, B in BOOLEAN} ((A and B) in BOOLEAN))"
      ]
     },
     "execution_count": 2,
     "metadata": {},
     "output_type": "execute_result"
    }
   ],
   "source": [
    "# build up the expression from sub-expressions\n",
    "sub_expr1 = [Boolean]\n",
    "sub_expr2 = InSet(And(A, B), Boolean)\n",
    "expr = ExprTuple(Forall([A], Forall([B], sub_expr2, domains = sub_expr1), domains = sub_expr1), Forall([A, B], sub_expr2, domains = [Boolean, Boolean]))"
   ]
  },
  {
   "cell_type": "code",
   "execution_count": 3,
   "metadata": {},
   "outputs": [
    {
     "name": "stdout",
     "output_type": "stream",
     "text": [
      "Passed sanity check: expr matches stored_expr\n"
     ]
    }
   ],
   "source": [
    "# check that the built expression is the same as the stored expression\n",
    "assert expr == stored_expr\n",
    "assert expr._style_id == stored_expr._style_id\n",
    "print(\"Passed sanity check: expr matches stored_expr\")"
   ]
  },
  {
   "cell_type": "code",
   "execution_count": 4,
   "metadata": {},
   "outputs": [
    {
     "name": "stdout",
     "output_type": "stream",
     "text": [
      "\\left(\\forall_{A \\in \\mathbb{B}}~\\left[\\forall_{B \\in \\mathbb{B}}~\\left(\\left(A \\land B\\right) \\in \\mathbb{B}\\right)\\right], \\forall_{A, B \\in \\mathbb{B}}~\\left(\\left(A \\land B\\right) \\in \\mathbb{B}\\right)\\right)\n"
     ]
    }
   ],
   "source": [
    "# Show the LaTeX representation of the expression for convenience if you need it.\n",
    "print(expr.latex())"
   ]
  },
  {
   "cell_type": "code",
   "execution_count": 5,
   "metadata": {},
   "outputs": [
    {
     "data": {
      "text/html": [
       "<table>\n",
       "<tr><th>name</th><th>description</th><th>default</th><th>current value</th><th>related methods</th></tr><tr><td>wrap_positions</td><td>position(s) at which wrapping is to occur; 'n' is after the nth comma.</td><td>()</td><td>()</td><td>('with_wrapping_at',)</td></tr>\n",
       "<tr><td>justification</td><td>if any wrap positions are set, justify to the 'left', 'center', or 'right'</td><td>left</td><td>left</td><td>('with_justification',)</td></tr>\n",
       "</table>\n"
      ],
      "text/plain": [
       "style name: wrap_positions\n",
       "description: position(s) at which wrapping is to occur; 'n' is after the nth comma.\n",
       "default: ()\n",
       "current value: ()\n",
       "related methods: ('with_wrapping_at',)\n",
       "style name: justification\n",
       "description: if any wrap positions are set, justify to the 'left', 'center', or 'right'\n",
       "default: left\n",
       "current value: left\n",
       "related methods: ('with_justification',)"
      ]
     },
     "execution_count": 5,
     "metadata": {},
     "output_type": "execute_result"
    }
   ],
   "source": [
    "expr.style_options()"
   ]
  },
  {
   "cell_type": "code",
   "execution_count": 6,
   "metadata": {},
   "outputs": [
    {
     "data": {
      "text/html": [
       "<table><tr><th>&nbsp;</th><th>core type</th><th>sub-expressions</th><th>expression</th></tr>\n",
       "<tr><td>0</td><td>ExprTuple</td><td>1, 2</td><td><a class=\"ProveItLink\" href=\"expr.ipynb\"><img src=\"expr.png\" style=\"display:inline;vertical-align:middle;\" /></a></td></tr>\n",
       "<tr><td>1</td><td>Operation</td><td>operator:&nbsp;11<br>operand:&nbsp;5<br></td><td><a class=\"ProveItLink\" href=\"../bf59e4480f3521fcbd4db16dae4436830f7f4afc0/expr.ipynb\"><img src=\"../bf59e4480f3521fcbd4db16dae4436830f7f4afc0/expr.png\" style=\"display:inline;vertical-align:middle;\" /></a></td></tr>\n",
       "<tr><td>2</td><td>Operation</td><td>operator:&nbsp;11<br>operand:&nbsp;6<br></td><td><a class=\"ProveItLink\" href=\"../../theorems/7bb5bce0f6053a510a90f0f0024015dce498dbad0/expr.ipynb\"><img src=\"../../theorems/7bb5bce0f6053a510a90f0f0024015dce498dbad0/expr.png\" style=\"display:inline;vertical-align:middle;\" /></a></td></tr>\n",
       "<tr><td>3</td><td>ExprTuple</td><td>5</td><td><a class=\"ProveItLink\" href=\"../c4472bd70dc1ddd47b9a701cf9945f1ea0486ae10/expr.ipynb\"><img src=\"../c4472bd70dc1ddd47b9a701cf9945f1ea0486ae10/expr.png\" style=\"display:inline;vertical-align:middle;\" /></a></td></tr>\n",
       "<tr><td>4</td><td>ExprTuple</td><td>6</td><td><a class=\"ProveItLink\" href=\"../../theorems/cdaa176a134eb85920690fdf906a725a73f71eb10/expr.ipynb\"><img src=\"../../theorems/cdaa176a134eb85920690fdf906a725a73f71eb10/expr.png\" style=\"display:inline;vertical-align:middle;\" /></a></td></tr>\n",
       "<tr><td>5</td><td>Lambda</td><td>parameter:&nbsp;27<br>body:&nbsp;7<br></td><td><a class=\"ProveItLink\" href=\"../4c597ae5ae101ba8010fcf5f6acec8da44795d370/expr.ipynb\"><img src=\"../4c597ae5ae101ba8010fcf5f6acec8da44795d370/expr.png\" style=\"display:inline;vertical-align:middle;\" /></a></td></tr>\n",
       "<tr><td>6</td><td>Lambda</td><td>parameters:&nbsp;26<br>body:&nbsp;8<br></td><td><a class=\"ProveItLink\" href=\"../../theorems/d48667a9b4a5929c7ced48c1b74e2b3044fe4a700/expr.ipynb\"><img src=\"../../theorems/d48667a9b4a5929c7ced48c1b74e2b3044fe4a700/expr.png\" style=\"display:inline;vertical-align:middle;\" /></a></td></tr>\n",
       "<tr><td>7</td><td>Conditional</td><td>value:&nbsp;9<br>condition:&nbsp;15<br></td><td><a class=\"ProveItLink\" href=\"../289488bf9e6f74d0b0fc12e54b38d04770a2501f0/expr.ipynb\"><img src=\"../289488bf9e6f74d0b0fc12e54b38d04770a2501f0/expr.png\" style=\"display:inline;vertical-align:middle;\" /></a></td></tr>\n",
       "<tr><td>8</td><td>Conditional</td><td>value:&nbsp;18<br>condition:&nbsp;10<br></td><td><a class=\"ProveItLink\" href=\"../../theorems/aeadc472834142052642a341caf2976c53f6ec260/expr.ipynb\"><img src=\"../../theorems/aeadc472834142052642a341caf2976c53f6ec260/expr.png\" style=\"display:inline;vertical-align:middle;\" /></a></td></tr>\n",
       "<tr><td>9</td><td>Operation</td><td>operator:&nbsp;11<br>operand:&nbsp;14<br></td><td><a class=\"ProveItLink\" href=\"../bcc1727682781b952f023df8b528906f311d820d0/expr.ipynb\"><img src=\"../bcc1727682781b952f023df8b528906f311d820d0/expr.png\" style=\"display:inline;vertical-align:middle;\" /></a></td></tr>\n",
       "<tr><td>10</td><td>Operation</td><td>operator:&nbsp;25<br>operands:&nbsp;13<br></td><td><a class=\"ProveItLink\" href=\"../../theorems/da409d15c4ed30eed9d9e134108cfdbe6e38731d0/expr.ipynb\"><img src=\"../../theorems/da409d15c4ed30eed9d9e134108cfdbe6e38731d0/expr.png\" style=\"display:inline;vertical-align:middle;\" /></a></td></tr>\n",
       "<tr><td>11</td><td>Literal</td><td></td><td><a class=\"ProveItLink\" href=\"../../../../quantification/universality/__pv_it/common/684d35ba98fcbf8ca5011f865e530a51e77730630/expr.ipynb\"><img src=\"../../../../quantification/universality/__pv_it/common/684d35ba98fcbf8ca5011f865e530a51e77730630/expr.png\" style=\"display:inline;vertical-align:middle;\" /></a></td></tr>\n",
       "<tr><td>12</td><td>ExprTuple</td><td>14</td><td><a class=\"ProveItLink\" href=\"../63fac6f9ade854f24459587a1903e73c61a04a870/expr.ipynb\"><img src=\"../63fac6f9ade854f24459587a1903e73c61a04a870/expr.png\" style=\"display:inline;vertical-align:middle;\" /></a></td></tr>\n",
       "<tr><td>13</td><td>ExprTuple</td><td>15, 19</td><td><a class=\"ProveItLink\" href=\"../../theorems/64e79d43f06fe362f0338f610982818ca2bbf85f0/expr.ipynb\"><img src=\"../../theorems/64e79d43f06fe362f0338f610982818ca2bbf85f0/expr.png\" style=\"display:inline;vertical-align:middle;\" /></a></td></tr>\n",
       "<tr><td>14</td><td>Lambda</td><td>parameter:&nbsp;28<br>body:&nbsp;16<br></td><td><a class=\"ProveItLink\" href=\"../7b73e00f016c559bd65531ebf9f9068b39e528820/expr.ipynb\"><img src=\"../7b73e00f016c559bd65531ebf9f9068b39e528820/expr.png\" style=\"display:inline;vertical-align:middle;\" /></a></td></tr>\n",
       "<tr><td>15</td><td>Operation</td><td>operator:&nbsp;21<br>operands:&nbsp;17<br></td><td><a class=\"ProveItLink\" href=\"../../theorems/7cfa8b9c477c340a2bec05787809c87a088f07ac0/expr.ipynb\"><img src=\"../../theorems/7cfa8b9c477c340a2bec05787809c87a088f07ac0/expr.png\" style=\"display:inline;vertical-align:middle;\" /></a></td></tr>\n",
       "<tr><td>16</td><td>Conditional</td><td>value:&nbsp;18<br>condition:&nbsp;19<br></td><td><a class=\"ProveItLink\" href=\"../e6aad5d70bed740195a295b995bd333f8e8bba250/expr.ipynb\"><img src=\"../e6aad5d70bed740195a295b995bd333f8e8bba250/expr.png\" style=\"display:inline;vertical-align:middle;\" /></a></td></tr>\n",
       "<tr><td>17</td><td>ExprTuple</td><td>27, 24</td><td><a class=\"ProveItLink\" href=\"../../theorems/5b8642875a5af086e135f91f5fe6a0b1d15f8cb50/expr.ipynb\"><img src=\"../../theorems/5b8642875a5af086e135f91f5fe6a0b1d15f8cb50/expr.png\" style=\"display:inline;vertical-align:middle;\" /></a></td></tr>\n",
       "<tr><td>18</td><td>Operation</td><td>operator:&nbsp;21<br>operands:&nbsp;20<br></td><td><a class=\"ProveItLink\" href=\"../../axioms/1ddf0c1174d9871e5397af8580e01dea32c643490/expr.ipynb\"><img src=\"../../axioms/1ddf0c1174d9871e5397af8580e01dea32c643490/expr.png\" style=\"display:inline;vertical-align:middle;\" /></a></td></tr>\n",
       "<tr><td>19</td><td>Operation</td><td>operator:&nbsp;21<br>operands:&nbsp;22<br></td><td><a class=\"ProveItLink\" href=\"../../theorems/67501eb487d67b93f0ec3f6965561f782e470d670/expr.ipynb\"><img src=\"../../theorems/67501eb487d67b93f0ec3f6965561f782e470d670/expr.png\" style=\"display:inline;vertical-align:middle;\" /></a></td></tr>\n",
       "<tr><td>20</td><td>ExprTuple</td><td>23, 24</td><td><a class=\"ProveItLink\" href=\"../../axioms/c7db60b44f2a00fb1bb77c90d5c139b1c74101bd0/expr.ipynb\"><img src=\"../../axioms/c7db60b44f2a00fb1bb77c90d5c139b1c74101bd0/expr.png\" style=\"display:inline;vertical-align:middle;\" /></a></td></tr>\n",
       "<tr><td>21</td><td>Literal</td><td></td><td><a class=\"ProveItLink\" href=\"../../../../../sets/membership/__pv_it/common/7171deca84f71f47a6ec7696972d1632274a12880/expr.ipynb\"><img src=\"../../../../../sets/membership/__pv_it/common/7171deca84f71f47a6ec7696972d1632274a12880/expr.png\" style=\"display:inline;vertical-align:middle;\" /></a></td></tr>\n",
       "<tr><td>22</td><td>ExprTuple</td><td>28, 24</td><td><a class=\"ProveItLink\" href=\"../../theorems/b464bb5e9f3209bc967a4021ab40c71e0755ea4e0/expr.ipynb\"><img src=\"../../theorems/b464bb5e9f3209bc967a4021ab40c71e0755ea4e0/expr.png\" style=\"display:inline;vertical-align:middle;\" /></a></td></tr>\n",
       "<tr><td>23</td><td>Operation</td><td>operator:&nbsp;25<br>operands:&nbsp;26<br></td><td><a class=\"ProveItLink\" href=\"../../axioms/31290316bd0f2f2d1b0b60fcef076f96c80b2e2e0/expr.ipynb\"><img src=\"../../axioms/31290316bd0f2f2d1b0b60fcef076f96c80b2e2e0/expr.png\" style=\"display:inline;vertical-align:middle;\" /></a></td></tr>\n",
       "<tr><td>24</td><td>Literal</td><td></td><td><a class=\"ProveItLink\" href=\"../../../../__pv_it/common/8fc291135425020cce4ba1ad615843f54f1fc6600/expr.ipynb\"><img src=\"../../../../__pv_it/common/8fc291135425020cce4ba1ad615843f54f1fc6600/expr.png\" style=\"display:inline;vertical-align:middle;\" /></a></td></tr>\n",
       "<tr><td>25</td><td>Literal</td><td></td><td><a class=\"ProveItLink\" href=\"../../common/26b94b53e70b1d77b70f0d9d4236347db37731060/expr.ipynb\"><img src=\"../../common/26b94b53e70b1d77b70f0d9d4236347db37731060/expr.png\" style=\"display:inline;vertical-align:middle;\" /></a></td></tr>\n",
       "<tr><td>26</td><td>ExprTuple</td><td>27, 28</td><td><a class=\"ProveItLink\" href=\"../../axioms/7aa24190517d6a40e915c207672cefb0d36c3b690/expr.ipynb\"><img src=\"../../axioms/7aa24190517d6a40e915c207672cefb0d36c3b690/expr.png\" style=\"display:inline;vertical-align:middle;\" /></a></td></tr>\n",
       "<tr><td>27</td><td>Variable</td><td></td><td><a class=\"ProveItLink\" href=\"../../../../../../__pv_it/common/e4aad701f7f5516d8e7f0d805d518bf02c13322a0/expr.ipynb\"><img src=\"../../../../../../__pv_it/common/e4aad701f7f5516d8e7f0d805d518bf02c13322a0/expr.png\" style=\"display:inline;vertical-align:middle;\" /></a></td></tr>\n",
       "<tr><td>28</td><td>Variable</td><td></td><td><a class=\"ProveItLink\" href=\"../../../../../../__pv_it/common/4eca3b30dcf58a58494e201d1b7886d8643a617b0/expr.ipynb\"><img src=\"../../../../../../__pv_it/common/4eca3b30dcf58a58494e201d1b7886d8643a617b0/expr.png\" style=\"display:inline;vertical-align:middle;\" /></a></td></tr>\n",
       "</table>\n"
      ],
      "text/plain": [
       "0. (forall_{A in BOOLEAN} [forall_{B in BOOLEAN} ((A and B) in BOOLEAN)], forall_{A, B in BOOLEAN} ((A and B) in BOOLEAN))\n",
       "   core type: ExprTuple\n",
       "   sub-expressions: 1, 2\n",
       "1. forall_{A in BOOLEAN} [forall_{B in BOOLEAN} ((A and B) in BOOLEAN)]\n",
       "   core type: Operation\n",
       "   operator: 11\n",
       "   operand: 5\n",
       "2. forall_{A, B in BOOLEAN} ((A and B) in BOOLEAN)\n",
       "   core type: Operation\n",
       "   operator: 11\n",
       "   operand: 6\n",
       "3. (A -> {forall_{B in BOOLEAN} ((A and B) in BOOLEAN) if A in BOOLEAN.)\n",
       "   core type: ExprTuple\n",
       "   sub-expressions: 5\n",
       "4. ((A, B) -> {(A and B) in BOOLEAN if A in BOOLEAN ,  B in BOOLEAN.)\n",
       "   core type: ExprTuple\n",
       "   sub-expressions: 6\n",
       "5. A -> {forall_{B in BOOLEAN} ((A and B) in BOOLEAN) if A in BOOLEAN.\n",
       "   core type: Lambda\n",
       "   parameter: 27\n",
       "   body: 7\n",
       "6. (A, B) -> {(A and B) in BOOLEAN if A in BOOLEAN ,  B in BOOLEAN.\n",
       "   core type: Lambda\n",
       "   parameters: 26\\n   body: 8\n",
       "7. {forall_{B in BOOLEAN} ((A and B) in BOOLEAN) if A in BOOLEAN.\n",
       "   core type: Conditional\n",
       "   value: 9\n",
       "   condition: 15\n",
       "8. {(A and B) in BOOLEAN if A in BOOLEAN ,  B in BOOLEAN.\n",
       "   core type: Conditional\n",
       "   value: 18\n",
       "   condition: 10\n",
       "9. forall_{B in BOOLEAN} ((A and B) in BOOLEAN)\n",
       "   core type: Operation\n",
       "   operator: 11\n",
       "   operand: 14\n",
       "10. (A in BOOLEAN) and (B in BOOLEAN)\n",
       "    core type: Operation\n",
       "    operator: 25\n",
       "    operands: 13\n",
       "11. forall\n",
       "    core type: Literal\n",
       "    sub-expressions: \n",
       "12. (B -> {(A and B) in BOOLEAN if B in BOOLEAN.)\n",
       "    core type: ExprTuple\n",
       "    sub-expressions: 14\n",
       "13. (A in BOOLEAN, B in BOOLEAN)\n",
       "    core type: ExprTuple\n",
       "    sub-expressions: 15, 19\n",
       "14. B -> {(A and B) in BOOLEAN if B in BOOLEAN.\n",
       "    core type: Lambda\n",
       "    parameter: 28\n",
       "    body: 16\n",
       "15. A in BOOLEAN\n",
       "    core type: Operation\n",
       "    operator: 21\n",
       "    operands: 17\n",
       "16. {(A and B) in BOOLEAN if B in BOOLEAN.\n",
       "    core type: Conditional\n",
       "    value: 18\n",
       "    condition: 19\n",
       "17. (A, BOOLEAN)\n",
       "    core type: ExprTuple\n",
       "    sub-expressions: 27, 24\n",
       "18. (A and B) in BOOLEAN\n",
       "    core type: Operation\n",
       "    operator: 21\n",
       "    operands: 20\n",
       "19. B in BOOLEAN\n",
       "    core type: Operation\n",
       "    operator: 21\n",
       "    operands: 22\n",
       "20. (A and B, BOOLEAN)\n",
       "    core type: ExprTuple\n",
       "    sub-expressions: 23, 24\n",
       "21. in\n",
       "    core type: Literal\n",
       "    sub-expressions: \n",
       "22. (B, BOOLEAN)\n",
       "    core type: ExprTuple\n",
       "    sub-expressions: 28, 24\n",
       "23. A and B\n",
       "    core type: Operation\n",
       "    operator: 25\n",
       "    operands: 26\n",
       "24. BOOLEAN\n",
       "    core type: Literal\n",
       "    sub-expressions: \n",
       "25. and\n",
       "    core type: Literal\n",
       "    sub-expressions: \n",
       "26. (A, B)\n",
       "    core type: ExprTuple\n",
       "    sub-expressions: 27, 28\n",
       "27. A\n",
       "    core type: Variable\n",
       "    sub-expressions: \n",
       "28. B\n",
       "    core type: Variable\n",
       "    sub-expressions: "
      ]
     },
     "execution_count": 6,
     "metadata": {},
     "output_type": "execute_result"
    }
   ],
   "source": [
    "# display the expression information\n",
    "expr.expr_info()"
   ]
  },
  {
   "cell_type": "code",
   "execution_count": null,
   "metadata": {},
   "outputs": [],
   "source": []
  }
 ],
 "metadata": {
  "kernelspec": {
   "display_name": "Python 3",
   "language": "python",
   "name": "python3"
  }
 },
 "nbformat": 4,
 "nbformat_minor": 0
}