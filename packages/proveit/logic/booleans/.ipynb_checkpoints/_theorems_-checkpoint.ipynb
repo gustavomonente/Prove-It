{
 "cells": [
  {
   "cell_type": "markdown",
   "metadata": {},
   "source": [
    "Theorems (or conjectures) for the theory of <a class=\"ProveItLink\" href=\"_theory_.ipynb\">proveit.logic.booleans</a>\n",
    "========"
   ]
  },
  {
   "cell_type": "code",
   "execution_count": 1,
   "metadata": {},
   "outputs": [],
   "source": [
    "import proveit\n",
    "# Prepare this notebook for defining the theorems of a theory:\n",
    "%theorems_notebook # Keep this at the top following 'import proveit'.\n",
    "from proveit.logic import Boolean, TRUE, FALSE, in_bool, Implies, Not, And, Or, Forall\n",
    "from proveit.logic import Equals, NotEquals, InSet\n",
    "from proveit import A, C, P, Q, PofA, QofA\n",
    "from proveit.logic import PofTrue, PofFalse, QimplPofTrue, QimplPofFalse"
   ]
  },
  {
   "cell_type": "code",
   "execution_count": 2,
   "metadata": {},
   "outputs": [
    {
     "name": "stdout",
     "output_type": "stream",
     "text": [
      "Defining theorems for theory 'proveit.logic.booleans'\n",
      "Subsequent end-of-cell assignments will define theorems\n",
      "'%end theorems' will finalize the definitions\n"
     ]
    }
   ],
   "source": [
    "%begin theorems"
   ]
  },
  {
   "cell_type": "markdown",
   "metadata": {},
   "source": [
    "### Comparisons between Boolean values"
   ]
  },
  {
   "cell_type": "code",
   "execution_count": 3,
   "metadata": {},
   "outputs": [
    {
     "name": "stdout",
     "output_type": "stream",
     "text": [
      "Renaming true_eq_true to true_eq_true\n",
      "[Errno 2] No such file or directory: '/home/wwitzel/Prove-It/packages/proveit/logic/booleans/_proofs_/true_eq_true' -> '/home/wwitzel/Prove-It/packages/proveit/logic/booleans/_proofs_/true_eq_true'\n"
     ]
    },
    {
     "data": {
      "text/plain": [
       "true_eq_true: TRUE = TRUE"
      ]
     },
     "execution_count": 3,
     "metadata": {},
     "output_type": "execute_result"
    }
   ],
   "source": [
    "true_eq_true = Equals(TRUE, TRUE)"
   ]
  },
  {
   "cell_type": "code",
   "execution_count": 4,
   "metadata": {},
   "outputs": [
    {
     "name": "stdout",
     "output_type": "stream",
     "text": [
      "Renaming false_eq_false to false_eq_false\n",
      "[Errno 2] No such file or directory: '/home/wwitzel/Prove-It/packages/proveit/logic/booleans/_proofs_/false_eq_false' -> '/home/wwitzel/Prove-It/packages/proveit/logic/booleans/_proofs_/false_eq_false'\n"
     ]
    },
    {
     "data": {
      "text/plain": [
       "false_eq_false: FALSE = FALSE"
      ]
     },
     "execution_count": 4,
     "metadata": {},
     "output_type": "execute_result"
    }
   ],
   "source": [
    "false_eq_false = Equals(FALSE, FALSE)"
   ]
  },
  {
   "cell_type": "code",
   "execution_count": 5,
   "metadata": {},
   "outputs": [
    {
     "name": "stdout",
     "output_type": "stream",
     "text": [
      "Renaming true_not_false to true_not_false\n",
      "[Errno 2] No such file or directory: '/home/wwitzel/Prove-It/packages/proveit/logic/booleans/_proofs_/true_not_false' -> '/home/wwitzel/Prove-It/packages/proveit/logic/booleans/_proofs_/true_not_false'\n"
     ]
    },
    {
     "data": {
      "text/plain": [
       "true_not_false: TRUE != FALSE"
      ]
     },
     "execution_count": 5,
     "metadata": {},
     "output_type": "execute_result"
    }
   ],
   "source": [
    "true_not_false = NotEquals(TRUE, FALSE)"
   ]
  },
  {
   "cell_type": "markdown",
   "metadata": {},
   "source": [
    "### `TRUE` and `FALSE` are in the Boolean set:"
   ]
  },
  {
   "cell_type": "code",
   "execution_count": 6,
   "metadata": {},
   "outputs": [
    {
     "name": "stdout",
     "output_type": "stream",
     "text": [
      "Renaming fold_is_bool to fold_is_bool\n",
      "[Errno 2] No such file or directory: '/home/wwitzel/Prove-It/packages/proveit/logic/booleans/_proofs_/fold_is_bool' -> '/home/wwitzel/Prove-It/packages/proveit/logic/booleans/_proofs_/fold_is_bool'\n"
     ]
    },
    {
     "data": {
      "text/plain": [
       "fold_is_bool: forall_{A | (A = TRUE) or (A = FALSE)} (A in BOOLEAN)"
      ]
     },
     "execution_count": 6,
     "metadata": {},
     "output_type": "execute_result"
    }
   ],
   "source": [
    "fold_is_bool = Forall(A, in_bool(A), \n",
    "                    conditions=[Or(Equals(A, TRUE), Equals(A, FALSE))])"
   ]
  },
  {
   "cell_type": "code",
   "execution_count": 7,
   "metadata": {},
   "outputs": [
    {
     "name": "stdout",
     "output_type": "stream",
     "text": [
      "Renaming true_is_bool to true_is_bool\n",
      "[Errno 2] No such file or directory: '/home/wwitzel/Prove-It/packages/proveit/logic/booleans/_proofs_/true_is_bool' -> '/home/wwitzel/Prove-It/packages/proveit/logic/booleans/_proofs_/true_is_bool'\n"
     ]
    },
    {
     "data": {
      "text/plain": [
       "true_is_bool: TRUE in BOOLEAN"
      ]
     },
     "execution_count": 7,
     "metadata": {},
     "output_type": "execute_result"
    }
   ],
   "source": [
    "true_is_bool = InSet(TRUE, Boolean)"
   ]
  },
  {
   "cell_type": "code",
   "execution_count": 8,
   "metadata": {},
   "outputs": [
    {
     "name": "stdout",
     "output_type": "stream",
     "text": [
      "Renaming false_is_bool to false_is_bool\n",
      "[Errno 2] No such file or directory: '/home/wwitzel/Prove-It/packages/proveit/logic/booleans/_proofs_/false_is_bool' -> '/home/wwitzel/Prove-It/packages/proveit/logic/booleans/_proofs_/false_is_bool'\n"
     ]
    },
    {
     "data": {
      "text/plain": [
       "false_is_bool: FALSE in BOOLEAN"
      ]
     },
     "execution_count": 8,
     "metadata": {},
     "output_type": "execute_result"
    }
   ],
   "source": [
    "false_is_bool = InSet(FALSE, Boolean)"
   ]
  },
  {
   "cell_type": "code",
   "execution_count": 9,
   "metadata": {},
   "outputs": [
    {
     "name": "stdout",
     "output_type": "stream",
     "text": [
      "Renaming in_boolIfTrue to in_bool_if_true\n",
      "[Errno 2] No such file or directory: '/home/wwitzel/Prove-It/packages/proveit/logic/booleans/_proofs_/in_boolIfTrue' -> '/home/wwitzel/Prove-It/packages/proveit/logic/booleans/_proofs_/in_bool_if_true'\n"
     ]
    },
    {
     "data": {
      "text/plain": [
       "in_bool_if_true: forall_{A | A} (A in BOOLEAN)"
      ]
     },
     "execution_count": 9,
     "metadata": {},
     "output_type": "execute_result"
    }
   ],
   "source": [
    "in_bool_if_true = Forall(A, in_bool(A), conditions=[A])"
   ]
  },
  {
   "cell_type": "code",
   "execution_count": 10,
   "metadata": {},
   "outputs": [
    {
     "name": "stdout",
     "output_type": "stream",
     "text": [
      "Renaming in_boolIfFalse to in_bool_if_false\n",
      "[Errno 2] No such file or directory: '/home/wwitzel/Prove-It/packages/proveit/logic/booleans/_proofs_/in_boolIfFalse' -> '/home/wwitzel/Prove-It/packages/proveit/logic/booleans/_proofs_/in_bool_if_false'\n"
     ]
    },
    {
     "data": {
      "text/plain": [
       "in_bool_if_false: forall_{A | [not](A)} (A in BOOLEAN)"
      ]
     },
     "execution_count": 10,
     "metadata": {},
     "output_type": "execute_result"
    }
   ],
   "source": [
    "in_bool_if_false = Forall(A, in_bool(A), conditions=[Not(A)])"
   ]
  },
  {
   "cell_type": "code",
   "execution_count": 11,
   "metadata": {},
   "outputs": [
    {
     "name": "stdout",
     "output_type": "stream",
     "text": [
      "Renaming not_equalsFalse to not_equals_false\n",
      "[Errno 2] No such file or directory: '/home/wwitzel/Prove-It/packages/proveit/logic/booleans/_proofs_/not_equalsFalse' -> '/home/wwitzel/Prove-It/packages/proveit/logic/booleans/_proofs_/not_equals_false'\n"
     ]
    },
    {
     "data": {
      "text/plain": [
       "not_equals_false: forall_{A | A} (A != FALSE)"
      ]
     },
     "execution_count": 11,
     "metadata": {},
     "output_type": "execute_result"
    }
   ],
   "source": [
    "not_equals_false = Forall(A, NotEquals(A, FALSE), conditions=[A])"
   ]
  },
  {
   "cell_type": "markdown",
   "metadata": {},
   "source": [
    "### Must equal `TRUE` or `FALSE` if in the Boolean set:"
   ]
  },
  {
   "cell_type": "markdown",
   "metadata": {},
   "source": [
    "***The first form of 'unfold' is a more direct consequence of the Boolean definition.  See also 'unfold_is_bool'.***"
   ]
  },
  {
   "cell_type": "code",
   "execution_count": 12,
   "metadata": {},
   "outputs": [
    {
     "name": "stdout",
     "output_type": "stream",
     "text": [
      "Renaming unfold_is_bool_explicit to unfold_is_bool_explicit\n",
      "[Errno 2] No such file or directory: '/home/wwitzel/Prove-It/packages/proveit/logic/booleans/_proofs_/unfold_is_bool_explicit' -> '/home/wwitzel/Prove-It/packages/proveit/logic/booleans/_proofs_/unfold_is_bool_explicit'\n"
     ]
    },
    {
     "data": {
      "text/plain": [
       "unfold_is_bool_explicit: forall_{A in BOOLEAN} ((A = TRUE) or (A = FALSE))"
      ]
     },
     "execution_count": 12,
     "metadata": {},
     "output_type": "execute_result"
    }
   ],
   "source": [
    "unfold_is_bool_explicit = Forall(A, Or(Equals(A, TRUE), Equals(A, FALSE)), domain=Boolean)"
   ]
  },
  {
   "cell_type": "markdown",
   "metadata": {},
   "source": [
    "### Folding $\\forall$ over the Boolean domain"
   ]
  },
  {
   "cell_type": "code",
   "execution_count": 13,
   "metadata": {},
   "outputs": [
    {
     "name": "stdout",
     "output_type": "stream",
     "text": [
      "Renaming fold_forallOverBool to fold_forall_over_bool\n",
      "[Errno 2] No such file or directory: '/home/wwitzel/Prove-It/packages/proveit/logic/booleans/_proofs_/fold_forallOverBool' -> '/home/wwitzel/Prove-It/packages/proveit/logic/booleans/_proofs_/fold_forall_over_bool'\n"
     ]
    },
    {
     "data": {
      "text/plain": [
       "fold_forall_over_bool: forall_{P | P(TRUE), P(FALSE)} [forall_{A in BOOLEAN} P(A)]"
      ]
     },
     "execution_count": 13,
     "metadata": {},
     "output_type": "execute_result"
    }
   ],
   "source": [
    "fold_forall_over_bool = Forall(P, Forall(A, PofA, domain=Boolean), conditions=[PofTrue, PofFalse])"
   ]
  },
  {
   "cell_type": "code",
   "execution_count": 14,
   "metadata": {},
   "outputs": [
    {
     "name": "stdout",
     "output_type": "stream",
     "text": [
      "Renaming fold_conditioned_forall_over_bool to fold_conditioned_forall_over_bool\n",
      "[Errno 2] No such file or directory: '/home/wwitzel/Prove-It/packages/proveit/logic/booleans/_proofs_/fold_conditioned_forall_over_bool' -> '/home/wwitzel/Prove-It/packages/proveit/logic/booleans/_proofs_/fold_conditioned_forall_over_bool'\n"
     ]
    },
    {
     "data": {
      "text/plain": [
       "fold_conditioned_forall_over_bool: forall_{P, Q | Q(TRUE) => P(TRUE), Q(FALSE) => P(FALSE)} [forall_{A in BOOLEAN | Q(A)} P(A)]"
      ]
     },
     "execution_count": 14,
     "metadata": {},
     "output_type": "execute_result"
    }
   ],
   "source": [
    "fold_conditioned_forall_over_bool = Forall((P, Q), Forall(A, PofA, domain=Boolean, \n",
    "                                                      conditions=[QofA]), \n",
    "                                       conditions=[QimplPofTrue, QimplPofFalse])"
   ]
  },
  {
   "cell_type": "code",
   "execution_count": null,
   "metadata": {},
   "outputs": [],
   "source": []
  },
  {
   "cell_type": "code",
   "execution_count": null,
   "metadata": {},
   "outputs": [],
   "source": []
  },
  {
   "cell_type": "code",
   "execution_count": 15,
   "metadata": {},
   "outputs": [
    {
     "name": "stdout",
     "output_type": "stream",
     "text": [
      "Renaming from_not_false to from_not_false\n",
      "[Errno 2] No such file or directory: '/home/wwitzel/Prove-It/packages/proveit/logic/booleans/_proofs_/from_not_false' -> '/home/wwitzel/Prove-It/packages/proveit/logic/booleans/_proofs_/from_not_false'\n"
     ]
    },
    {
     "data": {
      "text/plain": [
       "from_not_false: forall_{A in BOOLEAN | A != FALSE} A"
      ]
     },
     "execution_count": 15,
     "metadata": {},
     "output_type": "execute_result"
    }
   ],
   "source": [
    "from_not_false = Forall(A, A, conditions=[NotEquals(A, FALSE)], domain=Boolean)"
   ]
  },
  {
   "cell_type": "code",
   "execution_count": null,
   "metadata": {},
   "outputs": [],
   "source": []
  },
  {
   "cell_type": "code",
   "execution_count": null,
   "metadata": {},
   "outputs": [],
   "source": []
  },
  {
   "cell_type": "markdown",
   "metadata": {},
   "source": [
    "### Evaluation of $\\forall$ over the Boolean domain"
   ]
  },
  {
   "cell_type": "code",
   "execution_count": 16,
   "metadata": {},
   "outputs": [
    {
     "name": "stdout",
     "output_type": "stream",
     "text": [
      "Renaming forall_bool_eval_true to forall_bool_eval_true\n",
      "[Errno 2] No such file or directory: '/home/wwitzel/Prove-It/packages/proveit/logic/booleans/_proofs_/forall_bool_eval_true' -> '/home/wwitzel/Prove-It/packages/proveit/logic/booleans/_proofs_/forall_bool_eval_true'\n"
     ]
    },
    {
     "data": {
      "text/plain": [
       "forall_bool_eval_true: forall_{P | P(TRUE) = TRUE, P(FALSE) = TRUE} ([forall_{A in BOOLEAN} P(A)] = TRUE)"
      ]
     },
     "execution_count": 16,
     "metadata": {},
     "output_type": "execute_result"
    }
   ],
   "source": [
    "forall_bool_eval_true = Forall(P, Equals(Forall(A, PofA, domain=Boolean), TRUE),\n",
    "                           conditions=[Equals(PofTrue, TRUE), Equals(PofFalse, TRUE)])"
   ]
  },
  {
   "cell_type": "code",
   "execution_count": 17,
   "metadata": {},
   "outputs": [
    {
     "name": "stdout",
     "output_type": "stream",
     "text": [
      "Renaming unfold_forallOverBool to unfold_forall_over_bool\n",
      "[Errno 2] No such file or directory: '/home/wwitzel/Prove-It/packages/proveit/logic/booleans/_proofs_/unfold_forallOverBool' -> '/home/wwitzel/Prove-It/packages/proveit/logic/booleans/_proofs_/unfold_forall_over_bool'\n"
     ]
    },
    {
     "data": {
      "text/plain": [
       "unfold_forall_over_bool: forall_{P} ([forall_{A in BOOLEAN} P(A)] => (P(TRUE) and P(FALSE)))"
      ]
     },
     "execution_count": 17,
     "metadata": {},
     "output_type": "execute_result"
    }
   ],
   "source": [
    "unfold_forall_over_bool = Forall(P, Implies(Forall(A, PofA, domain=Boolean), \n",
    "                                         And(PofTrue, PofFalse)))"
   ]
  },
  {
   "cell_type": "markdown",
   "metadata": {},
   "source": [
    "**Various ways for a $\\forall$ expression over the Boolean set to evaluate to `FALSE`:**"
   ]
  },
  {
   "cell_type": "code",
   "execution_count": 18,
   "metadata": {},
   "outputs": [],
   "source": [
    "def _forallBoolEvalFalse(PofTrueVal, PofFalseVal):\n",
    "    return Forall(P, Implies(And(Equals(PofTrue, PofTrueVal), Equals(PofFalse, PofFalseVal)), \n",
    "                             Equals(Forall(A, PofA, domain=Boolean), FALSE)))"
   ]
  },
  {
   "cell_type": "code",
   "execution_count": 19,
   "metadata": {},
   "outputs": [
    {
     "name": "stdout",
     "output_type": "stream",
     "text": [
      "Renaming forall_bool_eval_false_via_f_f to forall_bool_eval_false_via_f_f\n",
      "[Errno 2] No such file or directory: '/home/wwitzel/Prove-It/packages/proveit/logic/booleans/_proofs_/forall_bool_eval_false_via_f_f' -> '/home/wwitzel/Prove-It/packages/proveit/logic/booleans/_proofs_/forall_bool_eval_false_via_f_f'\n"
     ]
    },
    {
     "data": {
      "text/plain": [
       "forall_bool_eval_false_via_f_f: forall_{P} (((P(TRUE) = FALSE) and (P(FALSE) = FALSE)) => ([forall_{A in BOOLEAN} P(A)] = FALSE))"
      ]
     },
     "execution_count": 19,
     "metadata": {},
     "output_type": "execute_result"
    }
   ],
   "source": [
    "forall_bool_eval_false_via_f_f = _forallBoolEvalFalse(FALSE, FALSE)"
   ]
  },
  {
   "cell_type": "code",
   "execution_count": 20,
   "metadata": {},
   "outputs": [
    {
     "name": "stdout",
     "output_type": "stream",
     "text": [
      "Renaming forall_bool_eval_false_via_f_t to forall_bool_eval_false_via_f_t\n",
      "[Errno 2] No such file or directory: '/home/wwitzel/Prove-It/packages/proveit/logic/booleans/_proofs_/forall_bool_eval_false_via_f_t' -> '/home/wwitzel/Prove-It/packages/proveit/logic/booleans/_proofs_/forall_bool_eval_false_via_f_t'\n"
     ]
    },
    {
     "data": {
      "text/plain": [
       "forall_bool_eval_false_via_f_t: forall_{P} (((P(TRUE) = FALSE) and (P(FALSE) = TRUE)) => ([forall_{A in BOOLEAN} P(A)] = FALSE))"
      ]
     },
     "execution_count": 20,
     "metadata": {},
     "output_type": "execute_result"
    }
   ],
   "source": [
    "forall_bool_eval_false_via_f_t = _forallBoolEvalFalse(FALSE, TRUE)"
   ]
  },
  {
   "cell_type": "code",
   "execution_count": 21,
   "metadata": {},
   "outputs": [
    {
     "name": "stdout",
     "output_type": "stream",
     "text": [
      "Renaming forall_bool_eval_false_via_t_f to forall_bool_eval_false_via_t_f\n",
      "[Errno 2] No such file or directory: '/home/wwitzel/Prove-It/packages/proveit/logic/booleans/_proofs_/forall_bool_eval_false_via_t_f' -> '/home/wwitzel/Prove-It/packages/proveit/logic/booleans/_proofs_/forall_bool_eval_false_via_t_f'\n"
     ]
    },
    {
     "data": {
      "text/plain": [
       "forall_bool_eval_false_via_t_f: forall_{P} (((P(TRUE) = TRUE) and (P(FALSE) = FALSE)) => ([forall_{A in BOOLEAN} P(A)] = FALSE))"
      ]
     },
     "execution_count": 21,
     "metadata": {},
     "output_type": "execute_result"
    }
   ],
   "source": [
    "forall_bool_eval_false_via_t_f = _forallBoolEvalFalse(TRUE, FALSE)"
   ]
  },
  {
   "cell_type": "markdown",
   "metadata": {},
   "source": [
    "### Must be a true statement or a false statement if in the Boolean set:"
   ]
  },
  {
   "cell_type": "markdown",
   "metadata": {},
   "source": [
    "*** The second form, known as the 'law of excluded middle' can be more useful for unfolding the meaning of being in the Boolean set ***"
   ]
  },
  {
   "cell_type": "code",
   "execution_count": 22,
   "metadata": {},
   "outputs": [
    {
     "name": "stdout",
     "output_type": "stream",
     "text": [
      "Renaming in_boolDef to in_bool_def\n",
      "[Errno 2] No such file or directory: '/home/wwitzel/Prove-It/packages/proveit/logic/booleans/_proofs_/in_boolDef' -> '/home/wwitzel/Prove-It/packages/proveit/logic/booleans/_proofs_/in_bool_def'\n"
     ]
    },
    {
     "data": {
      "text/plain": [
       "in_bool_def: forall_{A} ((A in BOOLEAN) = ((A = TRUE) or (A = FALSE)))"
      ]
     },
     "execution_count": 22,
     "metadata": {},
     "output_type": "execute_result"
    }
   ],
   "source": [
    "in_bool_def = Forall(A, Equals(in_bool(A), Or(Equals(A, TRUE), Equals(A, FALSE))))"
   ]
  },
  {
   "cell_type": "code",
   "execution_count": 23,
   "metadata": {},
   "outputs": [
    {
     "name": "stdout",
     "output_type": "stream",
     "text": [
      "Renaming unfold_is_bool to unfold_is_bool\n",
      "[Errno 2] No such file or directory: '/home/wwitzel/Prove-It/packages/proveit/logic/booleans/_proofs_/unfold_is_bool' -> '/home/wwitzel/Prove-It/packages/proveit/logic/booleans/_proofs_/unfold_is_bool'\n"
     ]
    },
    {
     "data": {
      "text/plain": [
       "unfold_is_bool: forall_{A in BOOLEAN} (A or [not](A))"
      ]
     },
     "execution_count": 23,
     "metadata": {},
     "output_type": "execute_result"
    }
   ],
   "source": [
    "unfold_is_bool = Forall(A, Or(A, Not(A)), domain=Boolean)"
   ]
  },
  {
   "cell_type": "code",
   "execution_count": 24,
   "metadata": {},
   "outputs": [
    {
     "name": "stdout",
     "output_type": "stream",
     "text": [
      "Renaming from_excluded_middle to from_excluded_middle\n",
      "[Errno 2] No such file or directory: '/home/wwitzel/Prove-It/packages/proveit/logic/booleans/_proofs_/from_excluded_middle' -> '/home/wwitzel/Prove-It/packages/proveit/logic/booleans/_proofs_/from_excluded_middle'\n"
     ]
    },
    {
     "data": {
      "text/plain": [
       "from_excluded_middle: forall_{C} [forall_{A in BOOLEAN | A => C, [not](A) => C} C]"
      ]
     },
     "execution_count": 24,
     "metadata": {},
     "output_type": "execute_result"
    }
   ],
   "source": [
    "from_excluded_middle = Forall(C, Forall(A, C, domain=Boolean,\n",
    "                                            conditions=[Implies(A, C),\n",
    "                                                        Implies(Not(A), C)]))"
   ]
  },
  {
   "cell_type": "markdown",
   "metadata": {},
   "source": [
    "*** New facts may be derived via the 'law of excluded middle' through dual implications ***"
   ]
  },
  {
   "cell_type": "markdown",
   "metadata": {},
   "source": [
    "### The claim that $x\\in \\mathbb{B}$ should itself be in $\\mathbb{B}$"
   ]
  },
  {
   "cell_type": "code",
   "execution_count": 25,
   "metadata": {},
   "outputs": [
    {
     "name": "stdout",
     "output_type": "stream",
     "text": [
      "Renaming in_boolInBool to in_bool_is_bool\n",
      "[Errno 2] No such file or directory: '/home/wwitzel/Prove-It/packages/proveit/logic/booleans/_proofs_/in_boolInBool' -> '/home/wwitzel/Prove-It/packages/proveit/logic/booleans/_proofs_/in_bool_is_bool'\n"
     ]
    },
    {
     "data": {
      "text/plain": [
       "in_bool_is_bool: forall_{A} ((A in BOOLEAN) in BOOLEAN)"
      ]
     },
     "execution_count": 25,
     "metadata": {},
     "output_type": "execute_result"
    }
   ],
   "source": [
    "in_bool_is_bool = Forall(A, in_bool(in_bool(A)))"
   ]
  },
  {
   "cell_type": "code",
   "execution_count": 26,
   "metadata": {},
   "outputs": [
    {
     "name": "stdout",
     "output_type": "stream",
     "text": [
      "Adding theorem true_eq_true to proveit.logic.booleans theory\n",
      "Adding theorem false_eq_false to proveit.logic.booleans theory\n",
      "Adding theorem true_not_false to proveit.logic.booleans theory\n",
      "Adding theorem fold_is_bool to proveit.logic.booleans theory\n",
      "Adding theorem true_is_bool to proveit.logic.booleans theory\n",
      "Adding theorem false_is_bool to proveit.logic.booleans theory\n",
      "Adding theorem in_bool_if_true to proveit.logic.booleans theory\n",
      "Adding theorem in_bool_if_false to proveit.logic.booleans theory\n",
      "Adding theorem not_equals_false to proveit.logic.booleans theory\n",
      "Adding theorem unfold_is_bool_explicit to proveit.logic.booleans theory\n",
      "Adding theorem fold_forall_over_bool to proveit.logic.booleans theory\n",
      "Adding theorem fold_conditioned_forall_over_bool to proveit.logic.booleans theory\n",
      "Adding theorem from_not_false to proveit.logic.booleans theory\n",
      "Adding theorem forall_bool_eval_true to proveit.logic.booleans theory\n",
      "Adding theorem unfold_forall_over_bool to proveit.logic.booleans theory\n",
      "Adding theorem forall_bool_eval_false_via_f_f to proveit.logic.booleans theory\n",
      "Adding theorem forall_bool_eval_false_via_f_t to proveit.logic.booleans theory\n",
      "Adding theorem forall_bool_eval_false_via_t_f to proveit.logic.booleans theory\n",
      "Adding theorem in_bool_def to proveit.logic.booleans theory\n",
      "Adding theorem unfold_is_bool to proveit.logic.booleans theory\n",
      "Adding theorem from_excluded_middle to proveit.logic.booleans theory\n",
      "Adding theorem in_bool_is_bool to proveit.logic.booleans theory\n",
      "Removing theorem true_eq_true from proveit.logic.booleans theory\n",
      "Removing theorem false_eq_false from proveit.logic.booleans theory\n",
      "Removing theorem true_not_false from proveit.logic.booleans theory\n",
      "Removing theorem fold_is_bool from proveit.logic.booleans theory\n",
      "Removing theorem true_is_bool from proveit.logic.booleans theory\n",
      "Removing theorem false_is_bool from proveit.logic.booleans theory\n",
      "Removing theorem in_boolIfTrue from proveit.logic.booleans theory\n",
      "Removing theorem in_boolIfFalse from proveit.logic.booleans theory\n",
      "Removing theorem not_equalsFalse from proveit.logic.booleans theory\n",
      "Removing theorem unfold_is_bool_explicit from proveit.logic.booleans theory\n",
      "Removing theorem fold_forallOverBool from proveit.logic.booleans theory\n",
      "Removing theorem fold_conditioned_forall_over_bool from proveit.logic.booleans theory\n",
      "Removing theorem from_not_false from proveit.logic.booleans theory\n",
      "Removing theorem forall_bool_eval_true from proveit.logic.booleans theory\n",
      "Removing theorem unfold_forallOverBool from proveit.logic.booleans theory\n",
      "Removing theorem forall_bool_eval_false_via_f_f from proveit.logic.booleans theory\n",
      "Removing theorem forall_bool_eval_false_via_f_t from proveit.logic.booleans theory\n",
      "Removing theorem forall_bool_eval_false_via_t_f from proveit.logic.booleans theory\n",
      "Removing theorem in_boolDef from proveit.logic.booleans theory\n",
      "Removing theorem unfold_is_bool from proveit.logic.booleans theory\n",
      "Removing theorem from_excluded_middle from proveit.logic.booleans theory\n",
      "Removing theorem in_boolInBool from proveit.logic.booleans theory\n",
      "true_eq_true expression notebook is being updated\n",
      "false_eq_false expression notebook is being updated\n",
      "true_not_false expression notebook is being updated\n",
      "fold_is_bool expression notebook is being updated\n",
      "true_is_bool expression notebook is being updated\n",
      "false_is_bool expression notebook is being updated\n",
      "in_bool_if_true expression notebook is being updated\n",
      "in_bool_if_false expression notebook is being updated\n",
      "not_equals_false expression notebook is being updated\n",
      "unfold_is_bool_explicit expression notebook is being updated\n",
      "fold_forall_over_bool expression notebook is being updated\n",
      "fold_conditioned_forall_over_bool expression notebook is being updated\n",
      "from_not_false expression notebook is being updated\n",
      "forall_bool_eval_true expression notebook is being updated\n",
      "unfold_forall_over_bool expression notebook is being updated\n",
      "forall_bool_eval_false_via_f_f expression notebook is being updated\n",
      "forall_bool_eval_false_via_f_t expression notebook is being updated\n",
      "forall_bool_eval_false_via_t_f expression notebook is being updated\n",
      "in_bool_def expression notebook is being updated\n",
      "unfold_is_bool expression notebook is being updated\n",
      "from_excluded_middle expression notebook is being updated\n",
      "in_bool_is_bool expression notebook is being updated\n",
      "Theorems may be imported from autogenerated _theorems_.py\n",
      "Stashing _proofs_/unfold_is_bool_explicit to _proofs_/unfold_is_bool_explicit~stashed~2 in case it is needed.\n"
     ]
    }
   ],
   "source": [
    "%end theorems"
   ]
  },
  {
   "cell_type": "code",
   "execution_count": null,
   "metadata": {},
   "outputs": [],
   "source": []
  }
 ],
 "metadata": {
  "kernelspec": {
   "display_name": "Python 3",
   "language": "python",
   "name": "python3"
  },
  "language_info": {
   "codemirror_mode": {
    "name": "ipython",
    "version": 3
   },
   "file_extension": ".py",
   "mimetype": "text/x-python",
   "name": "python",
   "nbconvert_exporter": "python",
   "pygments_lexer": "ipython3",
   "version": "3.7.3"
  }
 },
 "nbformat": 4,
 "nbformat_minor": 1
}
