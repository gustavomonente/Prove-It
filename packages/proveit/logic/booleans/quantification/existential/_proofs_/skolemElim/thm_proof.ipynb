{
 "cells": [
  {
   "cell_type": "markdown",
   "metadata": {},
   "source": [
    "Proof of <a class=\"ProveItLink\" href=\"../../../../../../_theory_.ipynb\">proveit</a>.<a class=\"ProveItLink\" href=\"../../../../../_theory_.ipynb\">logic</a>.<a class=\"ProveItLink\" href=\"../../../../_theory_.ipynb\">booleans</a>.<a class=\"ProveItLink\" href=\"../../../_theory_.ipynb\">quantification</a>.<a class=\"ProveItLink\" href=\"../../_theory_.ipynb\">existential</a>.<a class=\"ProveItLink\" href=\"../../_theorems_.ipynb#skolemElim\">skolemElim</a> theorem\n",
    "========"
   ]
  },
  {
   "cell_type": "code",
   "execution_count": null,
   "metadata": {},
   "outputs": [],
   "source": [
    "import proveit\n",
    "from proveit._common_ import P, Q, alpha\n",
    "from proveit.core_expr_types._common_ import x_1_to_n, Q__x_1_to_n, P__x_1_to_n\n",
    "from proveit.logic import Not, Equals, TRUE, NotEquals\n",
    "from proveit.logic.booleans.quantification.existential._theorems_ import skolemElimLemma\n",
    "from proveit import defaults\n",
    "theory = proveit.Theory() # the theorem's theory"
   ]
  },
  {
   "cell_type": "code",
   "execution_count": null,
   "metadata": {},
   "outputs": [],
   "source": [
    "%proving skolemElim"
   ]
  },
  {
   "cell_type": "code",
   "execution_count": null,
   "metadata": {},
   "outputs": [],
   "source": [
    "skolemElimLemma"
   ]
  },
  {
   "cell_type": "code",
   "execution_count": null,
   "metadata": {},
   "outputs": [],
   "source": [
    "skolemElimLemma_inst = skolemElimLemma.instantiate({alpha:Equals(alpha, TRUE), P:P, Q:Q}, \n",
    "                                                   assumptions=[skolemElim.condition])"
   ]
  },
  {
   "cell_type": "code",
   "execution_count": null,
   "metadata": {},
   "outputs": [],
   "source": [
    "antecedent = skolemElim.instanceExpr.instanceExpr.antecedent"
   ]
  },
  {
   "cell_type": "code",
   "execution_count": null,
   "metadata": {},
   "outputs": [],
   "source": [
    "defaults.assumptions = (skolemElimLemma.condition, antecedent)"
   ]
  },
  {
   "cell_type": "code",
   "execution_count": null,
   "metadata": {},
   "outputs": [],
   "source": [
    "P_impl_alpha = antecedent.deriveRight().instantiate(assumptions=[Q__x_1_to_n])"
   ]
  },
  {
   "cell_type": "code",
   "execution_count": null,
   "metadata": {},
   "outputs": [],
   "source": [
    "P_impl_alpha.deriveConsequent([P__x_1_to_n])"
   ]
  },
  {
   "cell_type": "code",
   "execution_count": null,
   "metadata": {},
   "outputs": [],
   "source": [
    "alpha_eq_true__under__assumptions = Equals(alpha, TRUE).prove([*defaults.assumptions, Q__x_1_to_n, P__x_1_to_n])"
   ]
  },
  {
   "cell_type": "code",
   "execution_count": null,
   "metadata": {},
   "outputs": [],
   "source": [
    "P__impl__alpha_eq_T = alpha_eq_true__under__assumptions.asImplication(P__x_1_to_n)"
   ]
  },
  {
   "cell_type": "code",
   "execution_count": null,
   "metadata": {},
   "outputs": [],
   "source": [
    "P__impl__alpha_eq_T.generalize(x_1_to_n, conditions=[Q__x_1_to_n])"
   ]
  },
  {
   "cell_type": "code",
   "execution_count": null,
   "metadata": {},
   "outputs": [],
   "source": [
    "skolemElimLemma_inst.deriveConsequent()"
   ]
  },
  {
   "cell_type": "code",
   "execution_count": null,
   "metadata": {},
   "outputs": [],
   "source": [
    "%qed"
   ]
  },
  {
   "cell_type": "code",
   "execution_count": null,
   "metadata": {},
   "outputs": [],
   "source": []
  }
 ],
 "metadata": {
  "kernelspec": {
   "display_name": "Python 3",
   "language": "python",
   "name": "python3"
  }
 },
 "nbformat": 4,
 "nbformat_minor": 0
}
