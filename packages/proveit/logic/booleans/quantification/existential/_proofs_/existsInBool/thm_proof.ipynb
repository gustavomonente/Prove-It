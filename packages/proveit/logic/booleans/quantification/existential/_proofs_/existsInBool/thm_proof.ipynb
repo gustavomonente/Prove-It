{
 "cells": [
  {
   "cell_type": "markdown",
   "metadata": {},
   "source": [
    "Proof of <a class=\"ProveItLink\" href=\"../../../../../../_theory_.ipynb\">proveit</a>.<a class=\"ProveItLink\" href=\"../../../../../_theory_.ipynb\">logic</a>.<a class=\"ProveItLink\" href=\"../../../../_theory_.ipynb\">booleans</a>.<a class=\"ProveItLink\" href=\"../../../_theory_.ipynb\">quantification</a>.<a class=\"ProveItLink\" href=\"../../_theory_.ipynb\">existential</a>.<a class=\"ProveItLink\" href=\"../../_theorems_.ipynb#existsInBool\">existsInBool</a> theorem\n",
    "========\n",
    "*** see <a href=\"../__pv_it/84700d9fefa54ea1d425e5f5147806a4ff4396650/dependencies.ipynb\" class=\"ProveItLink\">dependencies</a> ***"
   ]
  },
  {
   "cell_type": "code",
   "execution_count": null,
   "metadata": {},
   "outputs": [],
   "source": [
    "import proveit\n",
    "%proving existsInBool"
   ]
  },
  {
   "cell_type": "code",
   "execution_count": null,
   "metadata": {},
   "outputs": [],
   "source": []
  }
 ],
 "metadata": {
  "kernelspec": {
   "display_name": "Python 3",
   "language": "python",
   "name": "python3"
  }
 },
 "nbformat": 4,
 "nbformat_minor": 0
}
