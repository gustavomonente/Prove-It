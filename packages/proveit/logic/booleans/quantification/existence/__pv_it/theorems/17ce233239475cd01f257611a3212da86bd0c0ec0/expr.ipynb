{
 "cells": [
  {
   "cell_type": "markdown",
   "metadata": {},
   "source": [
    "Expression of type <a class=\"ProveItLink\" href=\"../../../../../../../../../doc/html/api/proveit.ExprTuple.html\">ExprTuple</a>\n",
    "=======================\n",
    "# from the theory of <a class=\"ProveItLink\" href=\"../../../_theory_nbs_/theory.ipynb\">proveit.logic.booleans.quantification.existence</a>"
   ]
  },
  {
   "cell_type": "code",
   "execution_count": 1,
   "metadata": {},
   "outputs": [],
   "source": [
    "import proveit\n",
    "# Automation is not needed when building an expression:\n",
    "proveit.defaults.automation = False # This will speed things up.\n",
    "proveit.defaults.inline_pngs = False # Makes files smaller.\n",
    "%load_expr # Load the stored expression as 'stored_expr'\n",
    "# import Expression classes needed to build the expression\n",
    "from proveit import ExprTuple\n",
    "from proveit.logic.booleans.quantification import general_exists_Py_st_Qy, general_exists_Rz_st_Qz"
   ]
  },
  {
   "cell_type": "code",
   "execution_count": 2,
   "metadata": {},
   "outputs": [
    {
     "data": {
      "text/html": [
       "<strong id=\"expr\">expr:</strong> <a class=\"ProveItLink\" href=\"expr.ipynb\"><img src=\"expr.png\" style=\"display:inline;vertical-align:middle;\" /></a><br>"
      ],
      "text/plain": [
       "expr: (exists_{y_{1}, ..y_{_a}.., y_{n} | Q(y_{1}, ..y_{_a}.., y_{n})} P(y_{1}, ..y_{_a}.., y_{n}), exists_{z_{1}, ..z_{_a}.., z_{n} | Q(z_{1}, ..z_{_a}.., z_{n})} R(z_{1}, ..z_{_a}.., z_{n}))"
      ]
     },
     "execution_count": 2,
     "metadata": {},
     "output_type": "execute_result"
    }
   ],
   "source": [
    "# build up the expression from sub-expressions\n",
    "expr = ExprTuple(general_exists_Py_st_Qy, general_exists_Rz_st_Qz)"
   ]
  },
  {
   "cell_type": "code",
   "execution_count": 3,
   "metadata": {},
   "outputs": [
    {
     "name": "stdout",
     "output_type": "stream",
     "text": [
      "Passed sanity check: expr matches stored_expr\n"
     ]
    }
   ],
   "source": [
    "# check that the built expression is the same as the stored expression\n",
    "assert expr == stored_expr\n",
    "assert expr._style_id == stored_expr._style_id\n",
    "print(\"Passed sanity check: expr matches stored_expr\")"
   ]
  },
  {
   "cell_type": "code",
   "execution_count": 4,
   "metadata": {},
   "outputs": [
    {
     "name": "stdout",
     "output_type": "stream",
     "text": [
      "\\left(\\exists_{y_{1}, \\ldots, y_{n}~|~Q(y_{1}, \\ldots, y_{n})}~P(y_{1}, \\ldots, y_{n}), \\exists_{z_{1}, \\ldots, z_{n}~|~Q(z_{1}, \\ldots, z_{n})}~R(z_{1}, \\ldots, z_{n})\\right)\n"
     ]
    }
   ],
   "source": [
    "# Show the LaTeX representation of the expression for convenience if you need it.\n",
    "print(expr.latex())"
   ]
  },
  {
   "cell_type": "code",
   "execution_count": 5,
   "metadata": {},
   "outputs": [
    {
     "data": {
      "text/html": [
       "<table><tr><th>&nbsp;</th><th>core type</th><th>sub-expressions</th><th>expression</th></tr>\n",
       "<tr><td>0</td><td>ExprTuple</td><td>1, 2</td><td><a class=\"ProveItLink\" href=\"expr.ipynb\"><img src=\"expr.png\" style=\"display:inline;vertical-align:middle;\" /></a></td></tr>\n",
       "<tr><td>1</td><td>Operation</td><td>operator:&nbsp;4<br>operand:&nbsp;3<br></td><td><a class=\"ProveItLink\" href=\"../../../../__pv_it/common/860f60a08016621346288fe840511c3a1b68051c0/expr.ipynb\"><img src=\"../../../../__pv_it/common/860f60a08016621346288fe840511c3a1b68051c0/expr.png\" style=\"display:inline;vertical-align:middle;\" /></a></td></tr>\n",
       "<tr><td>2</td><td>Operation</td><td>operator:&nbsp;4<br>operand:&nbsp;5<br></td><td><a class=\"ProveItLink\" href=\"../../../../__pv_it/common/c60dfd852c14f91bb859c194d45671c72acd3e040/expr.ipynb\"><img src=\"../../../../__pv_it/common/c60dfd852c14f91bb859c194d45671c72acd3e040/expr.png\" style=\"display:inline;vertical-align:middle;\" /></a></td></tr>\n",
       "<tr><td>3</td><td>Lambda</td><td>parameters:&nbsp;13<br>body:&nbsp;6<br></td><td><a class=\"ProveItLink\" href=\"../../../../__pv_it/common/6097dac6612f670c52f58871ce2f4aeeb0c710f00/expr.ipynb\"><img src=\"../../../../__pv_it/common/6097dac6612f670c52f58871ce2f4aeeb0c710f00/expr.png\" style=\"display:inline;vertical-align:middle;\" /></a></td></tr>\n",
       "<tr><td>4</td><td>Literal</td><td></td><td><a class=\"ProveItLink\" href=\"../../common/fedc3809ed9823aab11264c156786a59540352e70/expr.ipynb\"><img src=\"../../common/fedc3809ed9823aab11264c156786a59540352e70/expr.png\" style=\"display:inline;vertical-align:middle;\" /></a></td></tr>\n",
       "<tr><td>5</td><td>Lambda</td><td>parameters:&nbsp;16<br>body:&nbsp;7<br></td><td><a class=\"ProveItLink\" href=\"../../../../__pv_it/common/90549255521f210b7e7bec8273908a3f1caea89d0/expr.ipynb\"><img src=\"../../../../__pv_it/common/90549255521f210b7e7bec8273908a3f1caea89d0/expr.png\" style=\"display:inline;vertical-align:middle;\" /></a></td></tr>\n",
       "<tr><td>6</td><td>Conditional</td><td>value:&nbsp;8<br>condition:&nbsp;9<br></td><td><a class=\"ProveItLink\" href=\"../../../../__pv_it/common/f04abe3d5c40f013e2d69207052ed41d8868a2590/expr.ipynb\"><img src=\"../../../../__pv_it/common/f04abe3d5c40f013e2d69207052ed41d8868a2590/expr.png\" style=\"display:inline;vertical-align:middle;\" /></a></td></tr>\n",
       "<tr><td>7</td><td>Conditional</td><td>value:&nbsp;10<br>condition:&nbsp;11<br></td><td><a class=\"ProveItLink\" href=\"../../../../__pv_it/common/185f9aef05e7b1315f192ef5d0fd114a51613fd20/expr.ipynb\"><img src=\"../../../../__pv_it/common/185f9aef05e7b1315f192ef5d0fd114a51613fd20/expr.png\" style=\"display:inline;vertical-align:middle;\" /></a></td></tr>\n",
       "<tr><td>8</td><td>Operation</td><td>operator:&nbsp;12<br>operands:&nbsp;13<br></td><td><a class=\"ProveItLink\" href=\"../../../../../../../core_expr_types/__pv_it/common/bfbf03bdc458628005bdae805200d6ed0937b9a20/expr.ipynb\"><img src=\"../../../../../../../core_expr_types/__pv_it/common/bfbf03bdc458628005bdae805200d6ed0937b9a20/expr.png\" style=\"display:inline;vertical-align:middle;\" /></a></td></tr>\n",
       "<tr><td>9</td><td>Operation</td><td>operator:&nbsp;15<br>operands:&nbsp;13<br></td><td><a class=\"ProveItLink\" href=\"../../../../../../../core_expr_types/__pv_it/common/31d40cd78720d264f2e2fce8e578387d1c4c5da10/expr.ipynb\"><img src=\"../../../../../../../core_expr_types/__pv_it/common/31d40cd78720d264f2e2fce8e578387d1c4c5da10/expr.png\" style=\"display:inline;vertical-align:middle;\" /></a></td></tr>\n",
       "<tr><td>10</td><td>Operation</td><td>operator:&nbsp;14<br>operands:&nbsp;16<br></td><td><a class=\"ProveItLink\" href=\"../../../../../../../core_expr_types/__pv_it/common/0efec46add2cb425c260a4c2bf12bfdee6cf46a20/expr.ipynb\"><img src=\"../../../../../../../core_expr_types/__pv_it/common/0efec46add2cb425c260a4c2bf12bfdee6cf46a20/expr.png\" style=\"display:inline;vertical-align:middle;\" /></a></td></tr>\n",
       "<tr><td>11</td><td>Operation</td><td>operator:&nbsp;15<br>operands:&nbsp;16<br></td><td><a class=\"ProveItLink\" href=\"../../../../../../../core_expr_types/__pv_it/common/71d219a2b765bf52d80da69ad4f1b4f9afe44f3d0/expr.ipynb\"><img src=\"../../../../../../../core_expr_types/__pv_it/common/71d219a2b765bf52d80da69ad4f1b4f9afe44f3d0/expr.png\" style=\"display:inline;vertical-align:middle;\" /></a></td></tr>\n",
       "<tr><td>12</td><td>Variable</td><td></td><td><a class=\"ProveItLink\" href=\"../../../../../../../__pv_it/common/de55da274ba0f49c86925fbf3828021c04d27faf0/expr.ipynb\"><img src=\"../../../../../../../__pv_it/common/de55da274ba0f49c86925fbf3828021c04d27faf0/expr.png\" style=\"display:inline;vertical-align:middle;\" /></a></td></tr>\n",
       "<tr><td>13</td><td>ExprTuple</td><td>17</td><td><a class=\"ProveItLink\" href=\"../../../../../../../core_expr_types/__pv_it/common/7825d99ba871f39ec9e174832f4965ad6a4a6c920/expr.ipynb\"><img src=\"../../../../../../../core_expr_types/__pv_it/common/7825d99ba871f39ec9e174832f4965ad6a4a6c920/expr.png\" style=\"display:inline;vertical-align:middle;\" /></a></td></tr>\n",
       "<tr><td>14</td><td>Variable</td><td></td><td><a class=\"ProveItLink\" href=\"../../../../../../../__pv_it/common/647ca33d6b96e29d5aa85a15d2241c7ebd0c6e4b0/expr.ipynb\"><img src=\"../../../../../../../__pv_it/common/647ca33d6b96e29d5aa85a15d2241c7ebd0c6e4b0/expr.png\" style=\"display:inline;vertical-align:middle;\" /></a></td></tr>\n",
       "<tr><td>15</td><td>Variable</td><td></td><td><a class=\"ProveItLink\" href=\"../../../../../../../__pv_it/common/d72bb8b07403efe79afab564c36a28e21330e5f90/expr.ipynb\"><img src=\"../../../../../../../__pv_it/common/d72bb8b07403efe79afab564c36a28e21330e5f90/expr.png\" style=\"display:inline;vertical-align:middle;\" /></a></td></tr>\n",
       "<tr><td>16</td><td>ExprTuple</td><td>18</td><td><a class=\"ProveItLink\" href=\"../../../../../../../core_expr_types/__pv_it/common/5b642dab4c0f27912344dd0e5767476982ab54c30/expr.ipynb\"><img src=\"../../../../../../../core_expr_types/__pv_it/common/5b642dab4c0f27912344dd0e5767476982ab54c30/expr.png\" style=\"display:inline;vertical-align:middle;\" /></a></td></tr>\n",
       "<tr><td>17</td><td>ExprRange</td><td>lambda_map:&nbsp;19<br>start_index:&nbsp;21<br>end_index:&nbsp;22<br></td><td><a class=\"ProveItLink\" href=\"../../../../../../../core_expr_types/__pv_it/common/83815096a81411f4169bd53199aa8541663848780/expr.ipynb\"><img src=\"../../../../../../../core_expr_types/__pv_it/common/83815096a81411f4169bd53199aa8541663848780/expr.png\" style=\"display:inline;vertical-align:middle;\" /></a></td></tr>\n",
       "<tr><td>18</td><td>ExprRange</td><td>lambda_map:&nbsp;20<br>start_index:&nbsp;21<br>end_index:&nbsp;22<br></td><td><a class=\"ProveItLink\" href=\"../../../../../../../core_expr_types/__pv_it/common/a09bfe9a4c7e632b29d654d1bc593f4bceacae290/expr.ipynb\"><img src=\"../../../../../../../core_expr_types/__pv_it/common/a09bfe9a4c7e632b29d654d1bc593f4bceacae290/expr.png\" style=\"display:inline;vertical-align:middle;\" /></a></td></tr>\n",
       "<tr><td>19</td><td>Lambda</td><td>parameter:&nbsp;27<br>body:&nbsp;23<br></td><td><a class=\"ProveItLink\" href=\"../../../../../../../core_expr_types/__pv_it/common/e78a05a30384462aa15ec8190735b4d58ac945690/expr.ipynb\"><img src=\"../../../../../../../core_expr_types/__pv_it/common/e78a05a30384462aa15ec8190735b4d58ac945690/expr.png\" style=\"display:inline;vertical-align:middle;\" /></a></td></tr>\n",
       "<tr><td>20</td><td>Lambda</td><td>parameter:&nbsp;27<br>body:&nbsp;24<br></td><td><a class=\"ProveItLink\" href=\"../../../../../../../core_expr_types/__pv_it/common/4de744b0383da06b1a49c1542823e99213f8549b0/expr.ipynb\"><img src=\"../../../../../../../core_expr_types/__pv_it/common/4de744b0383da06b1a49c1542823e99213f8549b0/expr.png\" style=\"display:inline;vertical-align:middle;\" /></a></td></tr>\n",
       "<tr><td>21</td><td>Literal</td><td></td><td><a class=\"ProveItLink\" href=\"../../../../../../../numbers/numerals/__pv_it/common/2778428c7f555b2bdc06aa0530bc142c6e6335100/expr.ipynb\"><img src=\"../../../../../../../numbers/numerals/__pv_it/common/2778428c7f555b2bdc06aa0530bc142c6e6335100/expr.png\" style=\"display:inline;vertical-align:middle;\" /></a></td></tr>\n",
       "<tr><td>22</td><td>Variable</td><td></td><td><a class=\"ProveItLink\" href=\"../../../../../../../__pv_it/common/8968bb04eb3f7dfa02353397ce929b025bbd79c20/expr.ipynb\"><img src=\"../../../../../../../__pv_it/common/8968bb04eb3f7dfa02353397ce929b025bbd79c20/expr.png\" style=\"display:inline;vertical-align:middle;\" /></a></td></tr>\n",
       "<tr><td>23</td><td>IndexedVar</td><td>variable:&nbsp;25<br>index:&nbsp;27<br></td><td><a class=\"ProveItLink\" href=\"../../../../../../../core_expr_types/__pv_it/common/bae00704f4077d282c1ca22cbc3aecae7393f3dc0/expr.ipynb\"><img src=\"../../../../../../../core_expr_types/__pv_it/common/bae00704f4077d282c1ca22cbc3aecae7393f3dc0/expr.png\" style=\"display:inline;vertical-align:middle;\" /></a></td></tr>\n",
       "<tr><td>24</td><td>IndexedVar</td><td>variable:&nbsp;26<br>index:&nbsp;27<br></td><td><a class=\"ProveItLink\" href=\"../../../../../../../core_expr_types/__pv_it/common/c48649b1327a22a9f8f2ac5ca31cfddf1ecea6b00/expr.ipynb\"><img src=\"../../../../../../../core_expr_types/__pv_it/common/c48649b1327a22a9f8f2ac5ca31cfddf1ecea6b00/expr.png\" style=\"display:inline;vertical-align:middle;\" /></a></td></tr>\n",
       "<tr><td>25</td><td>Variable</td><td></td><td><a class=\"ProveItLink\" href=\"../../../../../../../__pv_it/common/ff7dba4ef0bbe791ab573bf2d9c220a304399ac80/expr.ipynb\"><img src=\"../../../../../../../__pv_it/common/ff7dba4ef0bbe791ab573bf2d9c220a304399ac80/expr.png\" style=\"display:inline;vertical-align:middle;\" /></a></td></tr>\n",
       "<tr><td>26</td><td>Variable</td><td></td><td><a class=\"ProveItLink\" href=\"../../../../../../../__pv_it/common/95a8f6b9b9f29b83f192ad7fd05708d6be097a3f0/expr.ipynb\"><img src=\"../../../../../../../__pv_it/common/95a8f6b9b9f29b83f192ad7fd05708d6be097a3f0/expr.png\" style=\"display:inline;vertical-align:middle;\" /></a></td></tr>\n",
       "<tr><td>27</td><td>Variable</td><td></td><td><a class=\"ProveItLink\" href=\"../../../../../../../core_expr_types/__pv_it/common/006c465e50948aa2b52285e2de47974f741255cc0/expr.ipynb\"><img src=\"../../../../../../../core_expr_types/__pv_it/common/006c465e50948aa2b52285e2de47974f741255cc0/expr.png\" style=\"display:inline;vertical-align:middle;\" /></a></td></tr>\n",
       "</table>\n"
      ],
      "text/plain": [
       "0. (exists_{y_{1}, ..y_{_a}.., y_{n} | Q(y_{1}, ..y_{_a}.., y_{n})} P(y_{1}, ..y_{_a}.., y_{n}), exists_{z_{1}, ..z_{_a}.., z_{n} | Q(z_{1}, ..z_{_a}.., z_{n})} R(z_{1}, ..z_{_a}.., z_{n}))\n",
       "   core type: ExprTuple\n",
       "   sub-expressions: 1, 2\n",
       "1. exists_{y_{1}, ..y_{_a}.., y_{n} | Q(y_{1}, ..y_{_a}.., y_{n})} P(y_{1}, ..y_{_a}.., y_{n})\n",
       "   core type: Operation\n",
       "   operator: 4\n",
       "   operand: 3\n",
       "2. exists_{z_{1}, ..z_{_a}.., z_{n} | Q(z_{1}, ..z_{_a}.., z_{n})} R(z_{1}, ..z_{_a}.., z_{n})\n",
       "   core type: Operation\n",
       "   operator: 4\n",
       "   operand: 5\n",
       "3. (y_{1}, ..y_{_a}.., y_{n}) -> {P(y_{1}, ..y_{_a}.., y_{n}) if Q(y_{1}, ..y_{_a}.., y_{n}).\n",
       "   core type: Lambda\n",
       "   parameters: 13\\n   body: 6\n",
       "4. exists\n",
       "   core type: Literal\n",
       "   sub-expressions: \n",
       "5. (z_{1}, ..z_{_a}.., z_{n}) -> {R(z_{1}, ..z_{_a}.., z_{n}) if Q(z_{1}, ..z_{_a}.., z_{n}).\n",
       "   core type: Lambda\n",
       "   parameters: 16\\n   body: 7\n",
       "6. {P(y_{1}, ..y_{_a}.., y_{n}) if Q(y_{1}, ..y_{_a}.., y_{n}).\n",
       "   core type: Conditional\n",
       "   value: 8\n",
       "   condition: 9\n",
       "7. {R(z_{1}, ..z_{_a}.., z_{n}) if Q(z_{1}, ..z_{_a}.., z_{n}).\n",
       "   core type: Conditional\n",
       "   value: 10\n",
       "   condition: 11\n",
       "8. P(y_{1}, ..y_{_a}.., y_{n})\n",
       "   core type: Operation\n",
       "   operator: 12\n",
       "   operands: 13\n",
       "9. Q(y_{1}, ..y_{_a}.., y_{n})\n",
       "   core type: Operation\n",
       "   operator: 15\n",
       "   operands: 13\n",
       "10. R(z_{1}, ..z_{_a}.., z_{n})\n",
       "    core type: Operation\n",
       "    operator: 14\n",
       "    operands: 16\n",
       "11. Q(z_{1}, ..z_{_a}.., z_{n})\n",
       "    core type: Operation\n",
       "    operator: 15\n",
       "    operands: 16\n",
       "12. P\n",
       "    core type: Variable\n",
       "    sub-expressions: \n",
       "13. (y_{1}, ..y_{_a}.., y_{n})\n",
       "    core type: ExprTuple\n",
       "    sub-expressions: 17\n",
       "14. R\n",
       "    core type: Variable\n",
       "    sub-expressions: \n",
       "15. Q\n",
       "    core type: Variable\n",
       "    sub-expressions: \n",
       "16. (z_{1}, ..z_{_a}.., z_{n})\n",
       "    core type: ExprTuple\n",
       "    sub-expressions: 18\n",
       "17. y_{1}, ..y_{_a}.., y_{n}\n",
       "    core type: ExprRange\n",
       "    lambda_map: 19\n",
       "    start_index: 21\n",
       "    end_index: 22\n",
       "18. z_{1}, ..z_{_a}.., z_{n}\n",
       "    core type: ExprRange\n",
       "    lambda_map: 20\n",
       "    start_index: 21\n",
       "    end_index: 22\n",
       "19. _a -> y_{_a}\n",
       "    core type: Lambda\n",
       "    parameter: 27\n",
       "    body: 23\n",
       "20. _a -> z_{_a}\n",
       "    core type: Lambda\n",
       "    parameter: 27\n",
       "    body: 24\n",
       "21. 1\n",
       "    core type: Literal\n",
       "    sub-expressions: \n",
       "22. n\n",
       "    core type: Variable\n",
       "    sub-expressions: \n",
       "23. y_{_a}\n",
       "    core type: IndexedVar\n",
       "variable: 25\n",
       "index: 27\n",
       "24. z_{_a}\n",
       "    core type: IndexedVar\n",
       "variable: 26\n",
       "index: 27\n",
       "25. y\n",
       "    core type: Variable\n",
       "    sub-expressions: \n",
       "26. z\n",
       "    core type: Variable\n",
       "    sub-expressions: \n",
       "27. _a\n",
       "    core type: Variable\n",
       "    sub-expressions: "
      ]
     },
     "execution_count": 5,
     "metadata": {},
     "output_type": "execute_result"
    }
   ],
   "source": [
    "# display the expression information\n",
    "expr.expr_info()"
   ]
  },
  {
   "cell_type": "code",
   "execution_count": null,
   "metadata": {},
   "outputs": [],
   "source": []
  }
 ],
 "metadata": {
  "kernelspec": {
   "display_name": "Python 3",
   "language": "python",
   "name": "python3"
  }
 },
 "nbformat": 4,
 "nbformat_minor": 0
}