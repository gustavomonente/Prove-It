{
 "cells": [
  {
   "cell_type": "markdown",
   "metadata": {},
   "source": [
    "Expression of type <a class=\"ProveItLink\" href=\"../../../../../../../../../doc/html/api/proveit.Lambda.html\">Lambda</a>\n",
    "=======================\n",
    "# from the theory of <a class=\"ProveItLink\" href=\"../../../_theory_nbs_/theory.ipynb\">proveit.logic.booleans.quantification.existence</a>"
   ]
  },
  {
   "cell_type": "code",
   "execution_count": 1,
   "metadata": {},
   "outputs": [],
   "source": [
    "import proveit\n",
    "# Automation is not needed when building an expression:\n",
    "proveit.defaults.automation = False # This will speed things up.\n",
    "proveit.defaults.inline_pngs = False # Makes files smaller.\n",
    "%load_expr # Load the stored expression as 'stored_expr'\n",
    "# import Expression classes needed to build the expression\n",
    "from proveit import Conditional, Lambda, P, Q, n\n",
    "from proveit.logic import Boolean, Forall, InSet\n",
    "from proveit.logic.booleans.quantification import general_exists_Py_st_Qy\n",
    "from proveit.numbers import NaturalPos"
   ]
  },
  {
   "cell_type": "code",
   "execution_count": 2,
   "metadata": {},
   "outputs": [
    {
     "data": {
      "text/html": [
       "<strong id=\"expr\">expr:</strong> <a class=\"ProveItLink\" href=\"expr.ipynb\"><img src=\"expr.png\" style=\"display:inline;vertical-align:middle;\" /></a><br>"
      ],
      "text/plain": [
       "expr: n -> {forall_{P, Q} ([exists_{y_{1}, ..y_{_a}.., y_{n} | Q(y_{1}, ..y_{_a}.., y_{n})} P(y_{1}, ..y_{_a}.., y_{n})] in BOOLEAN) if n in NaturalPos."
      ]
     },
     "execution_count": 2,
     "metadata": {},
     "output_type": "execute_result"
    }
   ],
   "source": [
    "# build up the expression from sub-expressions\n",
    "expr = Lambda(n, Conditional(Forall([P, Q], InSet(general_exists_Py_st_Qy, Boolean)), InSet(n, NaturalPos)))"
   ]
  },
  {
   "cell_type": "code",
   "execution_count": 3,
   "metadata": {},
   "outputs": [
    {
     "name": "stdout",
     "output_type": "stream",
     "text": [
      "Passed sanity check: expr matches stored_expr\n"
     ]
    }
   ],
   "source": [
    "# check that the built expression is the same as the stored expression\n",
    "assert expr == stored_expr\n",
    "assert expr._style_id == stored_expr._style_id\n",
    "print(\"Passed sanity check: expr matches stored_expr\")"
   ]
  },
  {
   "cell_type": "code",
   "execution_count": 4,
   "metadata": {},
   "outputs": [
    {
     "name": "stdout",
     "output_type": "stream",
     "text": [
      "n \\mapsto \\left\\{\\forall_{P, Q}~\\left(\\left[\\exists_{y_{1}, \\ldots, y_{n}~|~Q(y_{1}, \\ldots, y_{n})}~P(y_{1}, \\ldots, y_{n})\\right] \\in \\mathbb{B}\\right) \\textrm{ if } n \\in \\mathbb{N}^+\\right..\n"
     ]
    }
   ],
   "source": [
    "# Show the LaTeX representation of the expression for convenience if you need it.\n",
    "print(expr.latex())"
   ]
  },
  {
   "cell_type": "code",
   "execution_count": 5,
   "metadata": {},
   "outputs": [
    {
     "data": {
      "text/html": [
       "<table><tr><th>&nbsp;</th><th>core type</th><th>sub-expressions</th><th>expression</th></tr>\n",
       "<tr><td>0</td><td>Lambda</td><td>parameter:&nbsp;25<br>body:&nbsp;1<br></td><td><a class=\"ProveItLink\" href=\"expr.ipynb\"><img src=\"expr.png\" style=\"display:inline;vertical-align:middle;\" /></a></td></tr>\n",
       "<tr><td>1</td><td>Conditional</td><td>value:&nbsp;2<br>condition:&nbsp;3<br></td><td><a class=\"ProveItLink\" href=\"../2366fd7de626e62cb26991d7bf27d8074900d55c0/expr.ipynb\"><img src=\"../2366fd7de626e62cb26991d7bf27d8074900d55c0/expr.png\" style=\"display:inline;vertical-align:middle;\" /></a></td></tr>\n",
       "<tr><td>2</td><td>Operation</td><td>operator:&nbsp;4<br>operand:&nbsp;5<br></td><td><a class=\"ProveItLink\" href=\"../029468c31281fbe3665940bf7558e4820d0b7dec0/expr.ipynb\"><img src=\"../029468c31281fbe3665940bf7558e4820d0b7dec0/expr.png\" style=\"display:inline;vertical-align:middle;\" /></a></td></tr>\n",
       "<tr><td>3</td><td>Operation</td><td>operator:&nbsp;10<br>operands:&nbsp;6<br></td><td><a class=\"ProveItLink\" href=\"../a9c01f72a8710eb6455c4786cc4a8aa9a8d1beb60/expr.ipynb\"><img src=\"../a9c01f72a8710eb6455c4786cc4a8aa9a8d1beb60/expr.png\" style=\"display:inline;vertical-align:middle;\" /></a></td></tr>\n",
       "<tr><td>4</td><td>Literal</td><td></td><td><a class=\"ProveItLink\" href=\"../../../../universality/__pv_it/common/083d2baa0b8ecab1d230f9ec29a15aa1355809fb0/expr.ipynb\"><img src=\"../../../../universality/__pv_it/common/083d2baa0b8ecab1d230f9ec29a15aa1355809fb0/expr.png\" style=\"display:inline;vertical-align:middle;\" /></a></td></tr>\n",
       "<tr><td>5</td><td>Lambda</td><td>parameters:&nbsp;7<br>body:&nbsp;8<br></td><td><a class=\"ProveItLink\" href=\"../feacd64fcfc69db8241cc996e67785f58fb468ff0/expr.ipynb\"><img src=\"../feacd64fcfc69db8241cc996e67785f58fb468ff0/expr.png\" style=\"display:inline;vertical-align:middle;\" /></a></td></tr>\n",
       "<tr><td>6</td><td>ExprTuple</td><td>25, 9</td><td><a class=\"ProveItLink\" href=\"../09d617a164cf3f820cb8170f3e1680673d4b7bf10/expr.ipynb\"><img src=\"../09d617a164cf3f820cb8170f3e1680673d4b7bf10/expr.png\" style=\"display:inline;vertical-align:middle;\" /></a></td></tr>\n",
       "<tr><td>7</td><td>ExprTuple</td><td>19, 20</td><td><a class=\"ProveItLink\" href=\"../00f77196d611264a98752a66a912b8c36b7e38b70/expr.ipynb\"><img src=\"../00f77196d611264a98752a66a912b8c36b7e38b70/expr.png\" style=\"display:inline;vertical-align:middle;\" /></a></td></tr>\n",
       "<tr><td>8</td><td>Operation</td><td>operator:&nbsp;10<br>operands:&nbsp;11<br></td><td><a class=\"ProveItLink\" href=\"../66f30a3da86ce05ee69570a80186182693d405890/expr.ipynb\"><img src=\"../66f30a3da86ce05ee69570a80186182693d405890/expr.png\" style=\"display:inline;vertical-align:middle;\" /></a></td></tr>\n",
       "<tr><td>9</td><td>Literal</td><td></td><td><a class=\"ProveItLink\" href=\"../../../../../../../numbers/number_sets/natural_numbers/__pv_it/common/6111329435c43892c831c4793de96afbf80bdb3e0/expr.ipynb\"><img src=\"../../../../../../../numbers/number_sets/natural_numbers/__pv_it/common/6111329435c43892c831c4793de96afbf80bdb3e0/expr.png\" style=\"display:inline;vertical-align:middle;\" /></a></td></tr>\n",
       "<tr><td>10</td><td>Literal</td><td></td><td><a class=\"ProveItLink\" href=\"../../../../../../sets/membership/__pv_it/common/477487d8796864d23d5810f83761435f25167f690/expr.ipynb\"><img src=\"../../../../../../sets/membership/__pv_it/common/477487d8796864d23d5810f83761435f25167f690/expr.png\" style=\"display:inline;vertical-align:middle;\" /></a></td></tr>\n",
       "<tr><td>11</td><td>ExprTuple</td><td>12, 13</td><td><a class=\"ProveItLink\" href=\"../43af09fdb2d16528f70fb61803ac6e86e4e9f9220/expr.ipynb\"><img src=\"../43af09fdb2d16528f70fb61803ac6e86e4e9f9220/expr.png\" style=\"display:inline;vertical-align:middle;\" /></a></td></tr>\n",
       "<tr><td>12</td><td>Operation</td><td>operator:&nbsp;14<br>operand:&nbsp;15<br></td><td><a class=\"ProveItLink\" href=\"../../../../__pv_it/common/860f60a08016621346288fe840511c3a1b68051c0/expr.ipynb\"><img src=\"../../../../__pv_it/common/860f60a08016621346288fe840511c3a1b68051c0/expr.png\" style=\"display:inline;vertical-align:middle;\" /></a></td></tr>\n",
       "<tr><td>13</td><td>Literal</td><td></td><td><a class=\"ProveItLink\" href=\"../../../../../__pv_it/common/97424376de9815ad99f7180e3191b1cf4ab2a5710/expr.ipynb\"><img src=\"../../../../../__pv_it/common/97424376de9815ad99f7180e3191b1cf4ab2a5710/expr.png\" style=\"display:inline;vertical-align:middle;\" /></a></td></tr>\n",
       "<tr><td>14</td><td>Literal</td><td></td><td><a class=\"ProveItLink\" href=\"../../common/fedc3809ed9823aab11264c156786a59540352e70/expr.ipynb\"><img src=\"../../common/fedc3809ed9823aab11264c156786a59540352e70/expr.png\" style=\"display:inline;vertical-align:middle;\" /></a></td></tr>\n",
       "<tr><td>15</td><td>Lambda</td><td>parameters:&nbsp;21<br>body:&nbsp;16<br></td><td><a class=\"ProveItLink\" href=\"../../../../__pv_it/common/6097dac6612f670c52f58871ce2f4aeeb0c710f00/expr.ipynb\"><img src=\"../../../../__pv_it/common/6097dac6612f670c52f58871ce2f4aeeb0c710f00/expr.png\" style=\"display:inline;vertical-align:middle;\" /></a></td></tr>\n",
       "<tr><td>16</td><td>Conditional</td><td>value:&nbsp;17<br>condition:&nbsp;18<br></td><td><a class=\"ProveItLink\" href=\"../../../../__pv_it/common/f04abe3d5c40f013e2d69207052ed41d8868a2590/expr.ipynb\"><img src=\"../../../../__pv_it/common/f04abe3d5c40f013e2d69207052ed41d8868a2590/expr.png\" style=\"display:inline;vertical-align:middle;\" /></a></td></tr>\n",
       "<tr><td>17</td><td>Operation</td><td>operator:&nbsp;19<br>operands:&nbsp;21<br></td><td><a class=\"ProveItLink\" href=\"../../../../../../../core_expr_types/__pv_it/common/bfbf03bdc458628005bdae805200d6ed0937b9a20/expr.ipynb\"><img src=\"../../../../../../../core_expr_types/__pv_it/common/bfbf03bdc458628005bdae805200d6ed0937b9a20/expr.png\" style=\"display:inline;vertical-align:middle;\" /></a></td></tr>\n",
       "<tr><td>18</td><td>Operation</td><td>operator:&nbsp;20<br>operands:&nbsp;21<br></td><td><a class=\"ProveItLink\" href=\"../../../../../../../core_expr_types/__pv_it/common/31d40cd78720d264f2e2fce8e578387d1c4c5da10/expr.ipynb\"><img src=\"../../../../../../../core_expr_types/__pv_it/common/31d40cd78720d264f2e2fce8e578387d1c4c5da10/expr.png\" style=\"display:inline;vertical-align:middle;\" /></a></td></tr>\n",
       "<tr><td>19</td><td>Variable</td><td></td><td><a class=\"ProveItLink\" href=\"../../../../../../../__pv_it/common/de55da274ba0f49c86925fbf3828021c04d27faf0/expr.ipynb\"><img src=\"../../../../../../../__pv_it/common/de55da274ba0f49c86925fbf3828021c04d27faf0/expr.png\" style=\"display:inline;vertical-align:middle;\" /></a></td></tr>\n",
       "<tr><td>20</td><td>Variable</td><td></td><td><a class=\"ProveItLink\" href=\"../../../../../../../__pv_it/common/d72bb8b07403efe79afab564c36a28e21330e5f90/expr.ipynb\"><img src=\"../../../../../../../__pv_it/common/d72bb8b07403efe79afab564c36a28e21330e5f90/expr.png\" style=\"display:inline;vertical-align:middle;\" /></a></td></tr>\n",
       "<tr><td>21</td><td>ExprTuple</td><td>22</td><td><a class=\"ProveItLink\" href=\"../../../../../../../core_expr_types/__pv_it/common/7825d99ba871f39ec9e174832f4965ad6a4a6c920/expr.ipynb\"><img src=\"../../../../../../../core_expr_types/__pv_it/common/7825d99ba871f39ec9e174832f4965ad6a4a6c920/expr.png\" style=\"display:inline;vertical-align:middle;\" /></a></td></tr>\n",
       "<tr><td>22</td><td>ExprRange</td><td>lambda_map:&nbsp;23<br>start_index:&nbsp;24<br>end_index:&nbsp;25<br></td><td><a class=\"ProveItLink\" href=\"../../../../../../../core_expr_types/__pv_it/common/83815096a81411f4169bd53199aa8541663848780/expr.ipynb\"><img src=\"../../../../../../../core_expr_types/__pv_it/common/83815096a81411f4169bd53199aa8541663848780/expr.png\" style=\"display:inline;vertical-align:middle;\" /></a></td></tr>\n",
       "<tr><td>23</td><td>Lambda</td><td>parameter:&nbsp;28<br>body:&nbsp;26<br></td><td><a class=\"ProveItLink\" href=\"../../../../../../../core_expr_types/__pv_it/common/e78a05a30384462aa15ec8190735b4d58ac945690/expr.ipynb\"><img src=\"../../../../../../../core_expr_types/__pv_it/common/e78a05a30384462aa15ec8190735b4d58ac945690/expr.png\" style=\"display:inline;vertical-align:middle;\" /></a></td></tr>\n",
       "<tr><td>24</td><td>Literal</td><td></td><td><a class=\"ProveItLink\" href=\"../../../../../../../numbers/numerals/__pv_it/common/2778428c7f555b2bdc06aa0530bc142c6e6335100/expr.ipynb\"><img src=\"../../../../../../../numbers/numerals/__pv_it/common/2778428c7f555b2bdc06aa0530bc142c6e6335100/expr.png\" style=\"display:inline;vertical-align:middle;\" /></a></td></tr>\n",
       "<tr><td>25</td><td>Variable</td><td></td><td><a class=\"ProveItLink\" href=\"../../../../../../../__pv_it/common/8968bb04eb3f7dfa02353397ce929b025bbd79c20/expr.ipynb\"><img src=\"../../../../../../../__pv_it/common/8968bb04eb3f7dfa02353397ce929b025bbd79c20/expr.png\" style=\"display:inline;vertical-align:middle;\" /></a></td></tr>\n",
       "<tr><td>26</td><td>IndexedVar</td><td>variable:&nbsp;27<br>index:&nbsp;28<br></td><td><a class=\"ProveItLink\" href=\"../../../../../../../core_expr_types/__pv_it/common/bae00704f4077d282c1ca22cbc3aecae7393f3dc0/expr.ipynb\"><img src=\"../../../../../../../core_expr_types/__pv_it/common/bae00704f4077d282c1ca22cbc3aecae7393f3dc0/expr.png\" style=\"display:inline;vertical-align:middle;\" /></a></td></tr>\n",
       "<tr><td>27</td><td>Variable</td><td></td><td><a class=\"ProveItLink\" href=\"../../../../../../../__pv_it/common/ff7dba4ef0bbe791ab573bf2d9c220a304399ac80/expr.ipynb\"><img src=\"../../../../../../../__pv_it/common/ff7dba4ef0bbe791ab573bf2d9c220a304399ac80/expr.png\" style=\"display:inline;vertical-align:middle;\" /></a></td></tr>\n",
       "<tr><td>28</td><td>Variable</td><td></td><td><a class=\"ProveItLink\" href=\"../../../../../../../core_expr_types/__pv_it/common/006c465e50948aa2b52285e2de47974f741255cc0/expr.ipynb\"><img src=\"../../../../../../../core_expr_types/__pv_it/common/006c465e50948aa2b52285e2de47974f741255cc0/expr.png\" style=\"display:inline;vertical-align:middle;\" /></a></td></tr>\n",
       "</table>\n"
      ],
      "text/plain": [
       "0. n -> {forall_{P, Q} ([exists_{y_{1}, ..y_{_a}.., y_{n} | Q(y_{1}, ..y_{_a}.., y_{n})} P(y_{1}, ..y_{_a}.., y_{n})] in BOOLEAN) if n in NaturalPos.\n",
       "   core type: Lambda\n",
       "   parameter: 25\n",
       "   body: 1\n",
       "1. {forall_{P, Q} ([exists_{y_{1}, ..y_{_a}.., y_{n} | Q(y_{1}, ..y_{_a}.., y_{n})} P(y_{1}, ..y_{_a}.., y_{n})] in BOOLEAN) if n in NaturalPos.\n",
       "   core type: Conditional\n",
       "   value: 2\n",
       "   condition: 3\n",
       "2. forall_{P, Q} ([exists_{y_{1}, ..y_{_a}.., y_{n} | Q(y_{1}, ..y_{_a}.., y_{n})} P(y_{1}, ..y_{_a}.., y_{n})] in BOOLEAN)\n",
       "   core type: Operation\n",
       "   operator: 4\n",
       "   operand: 5\n",
       "3. n in NaturalPos\n",
       "   core type: Operation\n",
       "   operator: 10\n",
       "   operands: 6\n",
       "4. forall\n",
       "   core type: Literal\n",
       "   sub-expressions: \n",
       "5. (P, Q) -> ([exists_{y_{1}, ..y_{_a}.., y_{n} | Q(y_{1}, ..y_{_a}.., y_{n})} P(y_{1}, ..y_{_a}.., y_{n})] in BOOLEAN)\n",
       "   core type: Lambda\n",
       "   parameters: 7\\n   body: 8\n",
       "6. (n, NaturalPos)\n",
       "   core type: ExprTuple\n",
       "   sub-expressions: 25, 9\n",
       "7. (P, Q)\n",
       "   core type: ExprTuple\n",
       "   sub-expressions: 19, 20\n",
       "8. [exists_{y_{1}, ..y_{_a}.., y_{n} | Q(y_{1}, ..y_{_a}.., y_{n})} P(y_{1}, ..y_{_a}.., y_{n})] in BOOLEAN\n",
       "   core type: Operation\n",
       "   operator: 10\n",
       "   operands: 11\n",
       "9. NaturalPos\n",
       "   core type: Literal\n",
       "   sub-expressions: \n",
       "10. in\n",
       "    core type: Literal\n",
       "    sub-expressions: \n",
       "11. (exists_{y_{1}, ..y_{_a}.., y_{n} | Q(y_{1}, ..y_{_a}.., y_{n})} P(y_{1}, ..y_{_a}.., y_{n}), BOOLEAN)\n",
       "    core type: ExprTuple\n",
       "    sub-expressions: 12, 13\n",
       "12. exists_{y_{1}, ..y_{_a}.., y_{n} | Q(y_{1}, ..y_{_a}.., y_{n})} P(y_{1}, ..y_{_a}.., y_{n})\n",
       "    core type: Operation\n",
       "    operator: 14\n",
       "    operand: 15\n",
       "13. BOOLEAN\n",
       "    core type: Literal\n",
       "    sub-expressions: \n",
       "14. exists\n",
       "    core type: Literal\n",
       "    sub-expressions: \n",
       "15. (y_{1}, ..y_{_a}.., y_{n}) -> {P(y_{1}, ..y_{_a}.., y_{n}) if Q(y_{1}, ..y_{_a}.., y_{n}).\n",
       "    core type: Lambda\n",
       "    parameters: 21\\n    body: 16\n",
       "16. {P(y_{1}, ..y_{_a}.., y_{n}) if Q(y_{1}, ..y_{_a}.., y_{n}).\n",
       "    core type: Conditional\n",
       "    value: 17\n",
       "    condition: 18\n",
       "17. P(y_{1}, ..y_{_a}.., y_{n})\n",
       "    core type: Operation\n",
       "    operator: 19\n",
       "    operands: 21\n",
       "18. Q(y_{1}, ..y_{_a}.., y_{n})\n",
       "    core type: Operation\n",
       "    operator: 20\n",
       "    operands: 21\n",
       "19. P\n",
       "    core type: Variable\n",
       "    sub-expressions: \n",
       "20. Q\n",
       "    core type: Variable\n",
       "    sub-expressions: \n",
       "21. (y_{1}, ..y_{_a}.., y_{n})\n",
       "    core type: ExprTuple\n",
       "    sub-expressions: 22\n",
       "22. y_{1}, ..y_{_a}.., y_{n}\n",
       "    core type: ExprRange\n",
       "    lambda_map: 23\n",
       "    start_index: 24\n",
       "    end_index: 25\n",
       "23. _a -> y_{_a}\n",
       "    core type: Lambda\n",
       "    parameter: 28\n",
       "    body: 26\n",
       "24. 1\n",
       "    core type: Literal\n",
       "    sub-expressions: \n",
       "25. n\n",
       "    core type: Variable\n",
       "    sub-expressions: \n",
       "26. y_{_a}\n",
       "    core type: IndexedVar\n",
       "variable: 27\n",
       "index: 28\n",
       "27. y\n",
       "    core type: Variable\n",
       "    sub-expressions: \n",
       "28. _a\n",
       "    core type: Variable\n",
       "    sub-expressions: "
      ]
     },
     "execution_count": 5,
     "metadata": {},
     "output_type": "execute_result"
    }
   ],
   "source": [
    "# display the expression information\n",
    "expr.expr_info()"
   ]
  },
  {
   "cell_type": "code",
   "execution_count": null,
   "metadata": {},
   "outputs": [],
   "source": []
  }
 ],
 "metadata": {
  "kernelspec": {
   "display_name": "Python 3",
   "language": "python",
   "name": "python3"
  }
 },
 "nbformat": 4,
 "nbformat_minor": 0
}