{
 "cells": [
  {
   "cell_type": "markdown",
   "metadata": {},
   "source": [
    "Expression of type <a class=\"ProveItLink\" href=\"../../../../../../../../../doc/html/api/proveit.Conditional.html\">Conditional</a>\n",
    "=======================\n",
    "# from the theory of <a class=\"ProveItLink\" href=\"../../../_theory_nbs_/theory.ipynb\">proveit.logic.booleans.quantification.existence</a>"
   ]
  },
  {
   "cell_type": "code",
   "execution_count": 1,
   "metadata": {},
   "outputs": [],
   "source": [
    "import proveit\n",
    "# Automation is not needed when building an expression:\n",
    "proveit.defaults.automation = False # This will speed things up.\n",
    "proveit.defaults.inline_pngs = False # Makes files smaller.\n",
    "%load_expr # Load the stored expression as 'stored_expr'\n",
    "# import Expression classes needed to build the expression\n",
    "from proveit import Conditional, P, Q, alpha, n\n",
    "from proveit.core_expr_types import P__x_1_to_n, Q__x_1_to_n, x_1_to_n\n",
    "from proveit.logic import And, Forall, Implies, InSet\n",
    "from proveit.logic.booleans.quantification import general_exists_Py_st_Qy\n",
    "from proveit.numbers import NaturalPos"
   ]
  },
  {
   "cell_type": "code",
   "execution_count": 2,
   "metadata": {},
   "outputs": [
    {
     "data": {
      "text/html": [
       "<strong id=\"expr\">expr:</strong> <a class=\"ProveItLink\" href=\"expr.ipynb\"><img src=\"expr.png\" style=\"display:inline;vertical-align:middle;\" /></a><br>"
      ],
      "text/plain": [
       "expr: {forall_{P, Q, alpha} (([exists_{y_{1}, ..y_{_a}.., y_{n} | Q(y_{1}, ..y_{_a}.., y_{n})} P(y_{1}, ..y_{_a}.., y_{n})] and [forall_{x_{1}, ..x_{_a}.., x_{n} | Q(x_{1}, ..x_{_a}.., x_{n})} (P(x_{1}, ..x_{_a}.., x_{n}) => alpha)]) => alpha) if n in NaturalPos."
      ]
     },
     "execution_count": 2,
     "metadata": {},
     "output_type": "execute_result"
    }
   ],
   "source": [
    "# build up the expression from sub-expressions\n",
    "expr = Conditional(Forall([P, Q, alpha], Implies(And(general_exists_Py_st_Qy, Forall([x_1_to_n], Implies(P__x_1_to_n, alpha), condition = Q__x_1_to_n)), alpha)), InSet(n, NaturalPos))"
   ]
  },
  {
   "cell_type": "code",
   "execution_count": 3,
   "metadata": {},
   "outputs": [
    {
     "name": "stdout",
     "output_type": "stream",
     "text": [
      "Passed sanity check: expr matches stored_expr\n"
     ]
    }
   ],
   "source": [
    "# check that the built expression is the same as the stored expression\n",
    "assert expr == stored_expr\n",
    "assert expr._style_id == stored_expr._style_id\n",
    "print(\"Passed sanity check: expr matches stored_expr\")"
   ]
  },
  {
   "cell_type": "code",
   "execution_count": 4,
   "metadata": {},
   "outputs": [
    {
     "name": "stdout",
     "output_type": "stream",
     "text": [
      "\\left\\{\\forall_{P, Q, \\alpha}~\\left(\\left(\\left[\\exists_{y_{1}, \\ldots, y_{n}~|~Q(y_{1}, \\ldots, y_{n})}~P(y_{1}, \\ldots, y_{n})\\right] \\land \\left[\\forall_{x_{1}, \\ldots, x_{n}~|~Q(x_{1}, \\ldots, x_{n})}~\\left(P(x_{1}, \\ldots, x_{n}) \\Rightarrow \\alpha\\right)\\right]\\right) \\Rightarrow \\alpha\\right) \\textrm{ if } n \\in \\mathbb{N}^+\\right..\n"
     ]
    }
   ],
   "source": [
    "# Show the LaTeX representation of the expression for convenience if you need it.\n",
    "print(expr.latex())"
   ]
  },
  {
   "cell_type": "code",
   "execution_count": 5,
   "metadata": {},
   "outputs": [
    {
     "data": {
      "text/html": [
       "<table>\n",
       "<tr><th>name</th><th>description</th><th>default</th><th>current value</th><th>related methods</th></tr><tr><td>condition_delimiter</td><td>'comma' or 'and'</td><td>comma</td><td>comma</td><td>('with_comma_delimiter', 'with_conjunction_delimiter')</td></tr>\n",
       "</table>\n"
      ],
      "text/plain": [
       "style name: condition_delimiter\n",
       "description: 'comma' or 'and'\n",
       "default: comma\n",
       "current value: comma\n",
       "related methods: ('with_comma_delimiter', 'with_conjunction_delimiter')"
      ]
     },
     "execution_count": 5,
     "metadata": {},
     "output_type": "execute_result"
    }
   ],
   "source": [
    "expr.style_options()"
   ]
  },
  {
   "cell_type": "code",
   "execution_count": 6,
   "metadata": {},
   "outputs": [
    {
     "data": {
      "text/html": [
       "<table><tr><th>&nbsp;</th><th>core type</th><th>sub-expressions</th><th>expression</th></tr>\n",
       "<tr><td>0</td><td>Conditional</td><td>value:&nbsp;1<br>condition:&nbsp;2<br></td><td><a class=\"ProveItLink\" href=\"expr.ipynb\"><img src=\"expr.png\" style=\"display:inline;vertical-align:middle;\" /></a></td></tr>\n",
       "<tr><td>1</td><td>Operation</td><td>operator:&nbsp;18<br>operand:&nbsp;6<br></td><td><a class=\"ProveItLink\" href=\"../54c2d376d10221bef1ec6619c60d1befbbb3b8c10/expr.ipynb\"><img src=\"../54c2d376d10221bef1ec6619c60d1befbbb3b8c10/expr.png\" style=\"display:inline;vertical-align:middle;\" /></a></td></tr>\n",
       "<tr><td>2</td><td>Operation</td><td>operator:&nbsp;4<br>operands:&nbsp;5<br></td><td><a class=\"ProveItLink\" href=\"../ae59bd0f03e1fa8f7acebab16a13247bdc6eea470/expr.ipynb\"><img src=\"../ae59bd0f03e1fa8f7acebab16a13247bdc6eea470/expr.png\" style=\"display:inline;vertical-align:middle;\" /></a></td></tr>\n",
       "<tr><td>3</td><td>ExprTuple</td><td>6</td><td><a class=\"ProveItLink\" href=\"../7ab90593edb6720baccaca83397967d96aeea8030/expr.ipynb\"><img src=\"../7ab90593edb6720baccaca83397967d96aeea8030/expr.png\" style=\"display:inline;vertical-align:middle;\" /></a></td></tr>\n",
       "<tr><td>4</td><td>Literal</td><td></td><td><a class=\"ProveItLink\" href=\"../../../../../../sets/membership/__pv_it/common/7171deca84f71f47a6ec7696972d1632274a12880/expr.ipynb\"><img src=\"../../../../../../sets/membership/__pv_it/common/7171deca84f71f47a6ec7696972d1632274a12880/expr.png\" style=\"display:inline;vertical-align:middle;\" /></a></td></tr>\n",
       "<tr><td>5</td><td>ExprTuple</td><td>43, 7</td><td><a class=\"ProveItLink\" href=\"../080dd91cc3570be1095df8a1115684c8dda0284e0/expr.ipynb\"><img src=\"../080dd91cc3570be1095df8a1115684c8dda0284e0/expr.png\" style=\"display:inline;vertical-align:middle;\" /></a></td></tr>\n",
       "<tr><td>6</td><td>Lambda</td><td>parameters:&nbsp;8<br>body:&nbsp;9<br></td><td><a class=\"ProveItLink\" href=\"../c41f7a45a6a8bb441c423f8fd4eed42fd3e967ec0/expr.ipynb\"><img src=\"../c41f7a45a6a8bb441c423f8fd4eed42fd3e967ec0/expr.png\" style=\"display:inline;vertical-align:middle;\" /></a></td></tr>\n",
       "<tr><td>7</td><td>Literal</td><td></td><td><a class=\"ProveItLink\" href=\"../../../../../../../numbers/number_sets/natural_numbers/__pv_it/common/a2a7252783c385c028dad802e97575c19e456b990/expr.ipynb\"><img src=\"../../../../../../../numbers/number_sets/natural_numbers/__pv_it/common/a2a7252783c385c028dad802e97575c19e456b990/expr.png\" style=\"display:inline;vertical-align:middle;\" /></a></td></tr>\n",
       "<tr><td>8</td><td>ExprTuple</td><td>36, 31, 34</td><td><a class=\"ProveItLink\" href=\"../0d69455c7357b62d2e9844e29e01bc96d6ee0ebb0/expr.ipynb\"><img src=\"../0d69455c7357b62d2e9844e29e01bc96d6ee0ebb0/expr.png\" style=\"display:inline;vertical-align:middle;\" /></a></td></tr>\n",
       "<tr><td>9</td><td>Operation</td><td>operator:&nbsp;29<br>operands:&nbsp;10<br></td><td><a class=\"ProveItLink\" href=\"../dead88d60e604862160c71733153f511d8cdd52c0/expr.ipynb\"><img src=\"../dead88d60e604862160c71733153f511d8cdd52c0/expr.png\" style=\"display:inline;vertical-align:middle;\" /></a></td></tr>\n",
       "<tr><td>10</td><td>ExprTuple</td><td>11, 34</td><td><a class=\"ProveItLink\" href=\"../6f4fb147ba3553bc9cd63f6789b4780ac9caac760/expr.ipynb\"><img src=\"../6f4fb147ba3553bc9cd63f6789b4780ac9caac760/expr.png\" style=\"display:inline;vertical-align:middle;\" /></a></td></tr>\n",
       "<tr><td>11</td><td>Operation</td><td>operator:&nbsp;12<br>operands:&nbsp;13<br></td><td><a class=\"ProveItLink\" href=\"../159266aaca741da2774ad3ad2450fc36a8e417410/expr.ipynb\"><img src=\"../159266aaca741da2774ad3ad2450fc36a8e417410/expr.png\" style=\"display:inline;vertical-align:middle;\" /></a></td></tr>\n",
       "<tr><td>12</td><td>Literal</td><td></td><td><a class=\"ProveItLink\" href=\"../../../../../conjunction/__pv_it/common/26b94b53e70b1d77b70f0d9d4236347db37731060/expr.ipynb\"><img src=\"../../../../../conjunction/__pv_it/common/26b94b53e70b1d77b70f0d9d4236347db37731060/expr.png\" style=\"display:inline;vertical-align:middle;\" /></a></td></tr>\n",
       "<tr><td>13</td><td>ExprTuple</td><td>14, 15</td><td><a class=\"ProveItLink\" href=\"../b11fd93192069a36bd5b1dbc59d0b004e46f49b80/expr.ipynb\"><img src=\"../b11fd93192069a36bd5b1dbc59d0b004e46f49b80/expr.png\" style=\"display:inline;vertical-align:middle;\" /></a></td></tr>\n",
       "<tr><td>14</td><td>Operation</td><td>operator:&nbsp;16<br>operand:&nbsp;20<br></td><td><a class=\"ProveItLink\" href=\"../../../../__pv_it/common/3422adb503d7cb507d3461b1e50425ad8c92abcd0/expr.ipynb\"><img src=\"../../../../__pv_it/common/3422adb503d7cb507d3461b1e50425ad8c92abcd0/expr.png\" style=\"display:inline;vertical-align:middle;\" /></a></td></tr>\n",
       "<tr><td>15</td><td>Operation</td><td>operator:&nbsp;18<br>operand:&nbsp;21<br></td><td><a class=\"ProveItLink\" href=\"../656731e134e6d89ef3c8feb3f79dd09a45548faa0/expr.ipynb\"><img src=\"../656731e134e6d89ef3c8feb3f79dd09a45548faa0/expr.png\" style=\"display:inline;vertical-align:middle;\" /></a></td></tr>\n",
       "<tr><td>16</td><td>Literal</td><td></td><td><a class=\"ProveItLink\" href=\"../../common/9b6e04766908a750ceb2bcebb9ad722de073d35c0/expr.ipynb\"><img src=\"../../common/9b6e04766908a750ceb2bcebb9ad722de073d35c0/expr.png\" style=\"display:inline;vertical-align:middle;\" /></a></td></tr>\n",
       "<tr><td>17</td><td>ExprTuple</td><td>20</td><td><a class=\"ProveItLink\" href=\"../../../../__pv_it/common/dfa3ae2543ac9f41cb41aeb6784f70c49226b1de0/expr.ipynb\"><img src=\"../../../../__pv_it/common/dfa3ae2543ac9f41cb41aeb6784f70c49226b1de0/expr.png\" style=\"display:inline;vertical-align:middle;\" /></a></td></tr>\n",
       "<tr><td>18</td><td>Literal</td><td></td><td><a class=\"ProveItLink\" href=\"../../../../universality/__pv_it/common/684d35ba98fcbf8ca5011f865e530a51e77730630/expr.ipynb\"><img src=\"../../../../universality/__pv_it/common/684d35ba98fcbf8ca5011f865e530a51e77730630/expr.png\" style=\"display:inline;vertical-align:middle;\" /></a></td></tr>\n",
       "<tr><td>19</td><td>ExprTuple</td><td>21</td><td><a class=\"ProveItLink\" href=\"../c8bbf4d5dd01c24dd56cf4e6b8982caa8740c7120/expr.ipynb\"><img src=\"../c8bbf4d5dd01c24dd56cf4e6b8982caa8740c7120/expr.png\" style=\"display:inline;vertical-align:middle;\" /></a></td></tr>\n",
       "<tr><td>20</td><td>Lambda</td><td>parameters:&nbsp;28<br>body:&nbsp;22<br></td><td><a class=\"ProveItLink\" href=\"../../../../__pv_it/common/11934eae4812fdd32a9092691386a10306f60c640/expr.ipynb\"><img src=\"../../../../__pv_it/common/11934eae4812fdd32a9092691386a10306f60c640/expr.png\" style=\"display:inline;vertical-align:middle;\" /></a></td></tr>\n",
       "<tr><td>21</td><td>Lambda</td><td>parameters:&nbsp;37<br>body:&nbsp;23<br></td><td><a class=\"ProveItLink\" href=\"../07eeb53642b9666c47687d7cee82d7f7014626060/expr.ipynb\"><img src=\"../07eeb53642b9666c47687d7cee82d7f7014626060/expr.png\" style=\"display:inline;vertical-align:middle;\" /></a></td></tr>\n",
       "<tr><td>22</td><td>Conditional</td><td>value:&nbsp;24<br>condition:&nbsp;25<br></td><td><a class=\"ProveItLink\" href=\"../../../../__pv_it/common/7f28207e435c9c6b7b4176365192a5f8386c9dc70/expr.ipynb\"><img src=\"../../../../__pv_it/common/7f28207e435c9c6b7b4176365192a5f8386c9dc70/expr.png\" style=\"display:inline;vertical-align:middle;\" /></a></td></tr>\n",
       "<tr><td>23</td><td>Conditional</td><td>value:&nbsp;26<br>condition:&nbsp;27<br></td><td><a class=\"ProveItLink\" href=\"../1617f5e7922cc770b8f7e8e1eeaada822d45a0010/expr.ipynb\"><img src=\"../1617f5e7922cc770b8f7e8e1eeaada822d45a0010/expr.png\" style=\"display:inline;vertical-align:middle;\" /></a></td></tr>\n",
       "<tr><td>24</td><td>Operation</td><td>operator:&nbsp;36<br>operands:&nbsp;28<br></td><td><a class=\"ProveItLink\" href=\"../../../../../../../core_expr_types/__pv_it/common/af270ca64e497eb0c8f455a2f361b435f6c5a88f0/expr.ipynb\"><img src=\"../../../../../../../core_expr_types/__pv_it/common/af270ca64e497eb0c8f455a2f361b435f6c5a88f0/expr.png\" style=\"display:inline;vertical-align:middle;\" /></a></td></tr>\n",
       "<tr><td>25</td><td>Operation</td><td>operator:&nbsp;31<br>operands:&nbsp;28<br></td><td><a class=\"ProveItLink\" href=\"../../../../../../../core_expr_types/__pv_it/common/90c2130c86e621c95872d7ba9e877513c9092aaa0/expr.ipynb\"><img src=\"../../../../../../../core_expr_types/__pv_it/common/90c2130c86e621c95872d7ba9e877513c9092aaa0/expr.png\" style=\"display:inline;vertical-align:middle;\" /></a></td></tr>\n",
       "<tr><td>26</td><td>Operation</td><td>operator:&nbsp;29<br>operands:&nbsp;30<br></td><td><a class=\"ProveItLink\" href=\"../9939e0d8bddd9c43cedfd0ff989ed1c297af09210/expr.ipynb\"><img src=\"../9939e0d8bddd9c43cedfd0ff989ed1c297af09210/expr.png\" style=\"display:inline;vertical-align:middle;\" /></a></td></tr>\n",
       "<tr><td>27</td><td>Operation</td><td>operator:&nbsp;31<br>operands:&nbsp;37<br></td><td><a class=\"ProveItLink\" href=\"../../../../../../../core_expr_types/__pv_it/common/49d921bba98b190448c46496212c6067e8f6a3e40/expr.ipynb\"><img src=\"../../../../../../../core_expr_types/__pv_it/common/49d921bba98b190448c46496212c6067e8f6a3e40/expr.png\" style=\"display:inline;vertical-align:middle;\" /></a></td></tr>\n",
       "<tr><td>28</td><td>ExprTuple</td><td>32</td><td><a class=\"ProveItLink\" href=\"../../../../../../../core_expr_types/__pv_it/common/34a946761b1de134871ee6cbf0f53773974067990/expr.ipynb\"><img src=\"../../../../../../../core_expr_types/__pv_it/common/34a946761b1de134871ee6cbf0f53773974067990/expr.png\" style=\"display:inline;vertical-align:middle;\" /></a></td></tr>\n",
       "<tr><td>29</td><td>Literal</td><td></td><td><a class=\"ProveItLink\" href=\"../../../../../implication/__pv_it/common/95a8cc69d34af52c7732e4a6fefbd5b63e8d31ba0/expr.ipynb\"><img src=\"../../../../../implication/__pv_it/common/95a8cc69d34af52c7732e4a6fefbd5b63e8d31ba0/expr.png\" style=\"display:inline;vertical-align:middle;\" /></a></td></tr>\n",
       "<tr><td>30</td><td>ExprTuple</td><td>33, 34</td><td><a class=\"ProveItLink\" href=\"../9645136d653c6d47cc665c280eaab8561fc3e3020/expr.ipynb\"><img src=\"../9645136d653c6d47cc665c280eaab8561fc3e3020/expr.png\" style=\"display:inline;vertical-align:middle;\" /></a></td></tr>\n",
       "<tr><td>31</td><td>Variable</td><td></td><td><a class=\"ProveItLink\" href=\"../../../../../../../__pv_it/common/50527aea954422d65ebe44b8de200683294751540/expr.ipynb\"><img src=\"../../../../../../../__pv_it/common/50527aea954422d65ebe44b8de200683294751540/expr.png\" style=\"display:inline;vertical-align:middle;\" /></a></td></tr>\n",
       "<tr><td>32</td><td>ExprRange</td><td>lambda_map:&nbsp;35<br>start_index:&nbsp;42<br>end_index:&nbsp;43<br></td><td><a class=\"ProveItLink\" href=\"../../../../../../../core_expr_types/__pv_it/common/d4ccfa4c92b5be548893c8e9f8a96b24fc2db46d0/expr.ipynb\"><img src=\"../../../../../../../core_expr_types/__pv_it/common/d4ccfa4c92b5be548893c8e9f8a96b24fc2db46d0/expr.png\" style=\"display:inline;vertical-align:middle;\" /></a></td></tr>\n",
       "<tr><td>33</td><td>Operation</td><td>operator:&nbsp;36<br>operands:&nbsp;37<br></td><td><a class=\"ProveItLink\" href=\"../../../../../../../core_expr_types/__pv_it/common/78c706747c3274baffd484b0054c01f4d0dbbb710/expr.ipynb\"><img src=\"../../../../../../../core_expr_types/__pv_it/common/78c706747c3274baffd484b0054c01f4d0dbbb710/expr.png\" style=\"display:inline;vertical-align:middle;\" /></a></td></tr>\n",
       "<tr><td>34</td><td>Variable</td><td></td><td><a class=\"ProveItLink\" href=\"../../../../../../../__pv_it/common/c8547a5614922d83165874ce64514ce6b5c27ebf0/expr.ipynb\"><img src=\"../../../../../../../__pv_it/common/c8547a5614922d83165874ce64514ce6b5c27ebf0/expr.png\" style=\"display:inline;vertical-align:middle;\" /></a></td></tr>\n",
       "<tr><td>35</td><td>Lambda</td><td>parameter:&nbsp;47<br>body:&nbsp;38<br></td><td><a class=\"ProveItLink\" href=\"../../../../../../../core_expr_types/__pv_it/common/e85c6dca3c2891a25500913ce6fa75404b16995d0/expr.ipynb\"><img src=\"../../../../../../../core_expr_types/__pv_it/common/e85c6dca3c2891a25500913ce6fa75404b16995d0/expr.png\" style=\"display:inline;vertical-align:middle;\" /></a></td></tr>\n",
       "<tr><td>36</td><td>Variable</td><td></td><td><a class=\"ProveItLink\" href=\"../../../../../../../__pv_it/common/d5fc3066299847984076662ce51556220bdb6cfb0/expr.ipynb\"><img src=\"../../../../../../../__pv_it/common/d5fc3066299847984076662ce51556220bdb6cfb0/expr.png\" style=\"display:inline;vertical-align:middle;\" /></a></td></tr>\n",
       "<tr><td>37</td><td>ExprTuple</td><td>39</td><td><a class=\"ProveItLink\" href=\"../../../../../../../core_expr_types/__pv_it/common/b4e28f93c14fb65f5b1261855b2d1dea9481c6120/expr.ipynb\"><img src=\"../../../../../../../core_expr_types/__pv_it/common/b4e28f93c14fb65f5b1261855b2d1dea9481c6120/expr.png\" style=\"display:inline;vertical-align:middle;\" /></a></td></tr>\n",
       "<tr><td>38</td><td>IndexedVar</td><td>variable:&nbsp;40<br>index:&nbsp;47<br></td><td><a class=\"ProveItLink\" href=\"../../../../../../../core_expr_types/__pv_it/common/cfe245429f738680263dd9e15adfb363654edf9a0/expr.ipynb\"><img src=\"../../../../../../../core_expr_types/__pv_it/common/cfe245429f738680263dd9e15adfb363654edf9a0/expr.png\" style=\"display:inline;vertical-align:middle;\" /></a></td></tr>\n",
       "<tr><td>39</td><td>ExprRange</td><td>lambda_map:&nbsp;41<br>start_index:&nbsp;42<br>end_index:&nbsp;43<br></td><td><a class=\"ProveItLink\" href=\"../../../../../../../core_expr_types/__pv_it/common/787727f81f9180661d3864875ecab8ab340921c50/expr.ipynb\"><img src=\"../../../../../../../core_expr_types/__pv_it/common/787727f81f9180661d3864875ecab8ab340921c50/expr.png\" style=\"display:inline;vertical-align:middle;\" /></a></td></tr>\n",
       "<tr><td>40</td><td>Variable</td><td></td><td><a class=\"ProveItLink\" href=\"../../../../../../../__pv_it/common/0f21cbfd5644a1cae6781c1d58354abc2ffbc9000/expr.ipynb\"><img src=\"../../../../../../../__pv_it/common/0f21cbfd5644a1cae6781c1d58354abc2ffbc9000/expr.png\" style=\"display:inline;vertical-align:middle;\" /></a></td></tr>\n",
       "<tr><td>41</td><td>Lambda</td><td>parameter:&nbsp;47<br>body:&nbsp;44<br></td><td><a class=\"ProveItLink\" href=\"../../../../../../../core_expr_types/__pv_it/common/9f9da64a6f3f7f4d7d39593366f06c70046127720/expr.ipynb\"><img src=\"../../../../../../../core_expr_types/__pv_it/common/9f9da64a6f3f7f4d7d39593366f06c70046127720/expr.png\" style=\"display:inline;vertical-align:middle;\" /></a></td></tr>\n",
       "<tr><td>42</td><td>Literal</td><td></td><td><a class=\"ProveItLink\" href=\"../../../../../../../numbers/numerals/__pv_it/common/d278e359da0695d9652dd541d45264f93703e2e40/expr.ipynb\"><img src=\"../../../../../../../numbers/numerals/__pv_it/common/d278e359da0695d9652dd541d45264f93703e2e40/expr.png\" style=\"display:inline;vertical-align:middle;\" /></a></td></tr>\n",
       "<tr><td>43</td><td>Variable</td><td></td><td><a class=\"ProveItLink\" href=\"../../../../../../../__pv_it/common/6165c9bb82ce3c7097cdba4440a1aeeb6eaca8a40/expr.ipynb\"><img src=\"../../../../../../../__pv_it/common/6165c9bb82ce3c7097cdba4440a1aeeb6eaca8a40/expr.png\" style=\"display:inline;vertical-align:middle;\" /></a></td></tr>\n",
       "<tr><td>44</td><td>IndexedVar</td><td>variable:&nbsp;45<br>index:&nbsp;47<br></td><td><a class=\"ProveItLink\" href=\"../../../../../../../core_expr_types/__pv_it/common/2b235eefbcbf7d9287528d44110903b9cfed0a2a0/expr.ipynb\"><img src=\"../../../../../../../core_expr_types/__pv_it/common/2b235eefbcbf7d9287528d44110903b9cfed0a2a0/expr.png\" style=\"display:inline;vertical-align:middle;\" /></a></td></tr>\n",
       "<tr><td>45</td><td>Variable</td><td></td><td><a class=\"ProveItLink\" href=\"../../../../../../../__pv_it/common/a2581dc5df71d9a30bad37de14965fa5fec97a240/expr.ipynb\"><img src=\"../../../../../../../__pv_it/common/a2581dc5df71d9a30bad37de14965fa5fec97a240/expr.png\" style=\"display:inline;vertical-align:middle;\" /></a></td></tr>\n",
       "<tr><td>46</td><td>ExprTuple</td><td>47</td><td><a class=\"ProveItLink\" href=\"../../../../../../../core_expr_types/__pv_it/common/ecf50ade416ab41c42c9f4e777b4c862cd9469670/expr.ipynb\"><img src=\"../../../../../../../core_expr_types/__pv_it/common/ecf50ade416ab41c42c9f4e777b4c862cd9469670/expr.png\" style=\"display:inline;vertical-align:middle;\" /></a></td></tr>\n",
       "<tr><td>47</td><td>Variable</td><td></td><td><a class=\"ProveItLink\" href=\"../../../../../../../core_expr_types/__pv_it/common/9e6d9d5d7eeb0342cf5bca68def0eb165a1a9bb10/expr.ipynb\"><img src=\"../../../../../../../core_expr_types/__pv_it/common/9e6d9d5d7eeb0342cf5bca68def0eb165a1a9bb10/expr.png\" style=\"display:inline;vertical-align:middle;\" /></a></td></tr>\n",
       "</table>\n"
      ],
      "text/plain": [
       "0. {forall_{P, Q, alpha} (([exists_{y_{1}, ..y_{_a}.., y_{n} | Q(y_{1}, ..y_{_a}.., y_{n})} P(y_{1}, ..y_{_a}.., y_{n})] and [forall_{x_{1}, ..x_{_a}.., x_{n} | Q(x_{1}, ..x_{_a}.., x_{n})} (P(x_{1}, ..x_{_a}.., x_{n}) => alpha)]) => alpha) if n in NaturalPos.\n",
       "   core type: Conditional\n",
       "   value: 1\n",
       "   condition: 2\n",
       "1. forall_{P, Q, alpha} (([exists_{y_{1}, ..y_{_a}.., y_{n} | Q(y_{1}, ..y_{_a}.., y_{n})} P(y_{1}, ..y_{_a}.., y_{n})] and [forall_{x_{1}, ..x_{_a}.., x_{n} | Q(x_{1}, ..x_{_a}.., x_{n})} (P(x_{1}, ..x_{_a}.., x_{n}) => alpha)]) => alpha)\n",
       "   core type: Operation\n",
       "   operator: 18\n",
       "   operand: 6\n",
       "2. n in NaturalPos\n",
       "   core type: Operation\n",
       "   operator: 4\n",
       "   operands: 5\n",
       "3. ((P, Q, alpha) -> (([exists_{y_{1}, ..y_{_a}.., y_{n} | Q(y_{1}, ..y_{_a}.., y_{n})} P(y_{1}, ..y_{_a}.., y_{n})] and [forall_{x_{1}, ..x_{_a}.., x_{n} | Q(x_{1}, ..x_{_a}.., x_{n})} (P(x_{1}, ..x_{_a}.., x_{n}) => alpha)]) => alpha))\n",
       "   core type: ExprTuple\n",
       "   sub-expressions: 6\n",
       "4. in\n",
       "   core type: Literal\n",
       "   sub-expressions: \n",
       "5. (n, NaturalPos)\n",
       "   core type: ExprTuple\n",
       "   sub-expressions: 43, 7\n",
       "6. (P, Q, alpha) -> (([exists_{y_{1}, ..y_{_a}.., y_{n} | Q(y_{1}, ..y_{_a}.., y_{n})} P(y_{1}, ..y_{_a}.., y_{n})] and [forall_{x_{1}, ..x_{_a}.., x_{n} | Q(x_{1}, ..x_{_a}.., x_{n})} (P(x_{1}, ..x_{_a}.., x_{n}) => alpha)]) => alpha)\n",
       "   core type: Lambda\n",
       "   parameters: 8\\n   body: 9\n",
       "7. NaturalPos\n",
       "   core type: Literal\n",
       "   sub-expressions: \n",
       "8. (P, Q, alpha)\n",
       "   core type: ExprTuple\n",
       "   sub-expressions: 36, 31, 34\n",
       "9. ([exists_{y_{1}, ..y_{_a}.., y_{n} | Q(y_{1}, ..y_{_a}.., y_{n})} P(y_{1}, ..y_{_a}.., y_{n})] and [forall_{x_{1}, ..x_{_a}.., x_{n} | Q(x_{1}, ..x_{_a}.., x_{n})} (P(x_{1}, ..x_{_a}.., x_{n}) => alpha)]) => alpha\n",
       "   core type: Operation\n",
       "   operator: 29\n",
       "   operands: 10\n",
       "10. ([exists_{y_{1}, ..y_{_a}.., y_{n} | Q(y_{1}, ..y_{_a}.., y_{n})} P(y_{1}, ..y_{_a}.., y_{n})] and [forall_{x_{1}, ..x_{_a}.., x_{n} | Q(x_{1}, ..x_{_a}.., x_{n})} (P(x_{1}, ..x_{_a}.., x_{n}) => alpha)], alpha)\n",
       "    core type: ExprTuple\n",
       "    sub-expressions: 11, 34\n",
       "11. [exists_{y_{1}, ..y_{_a}.., y_{n} | Q(y_{1}, ..y_{_a}.., y_{n})} P(y_{1}, ..y_{_a}.., y_{n})] and [forall_{x_{1}, ..x_{_a}.., x_{n} | Q(x_{1}, ..x_{_a}.., x_{n})} (P(x_{1}, ..x_{_a}.., x_{n}) => alpha)]\n",
       "    core type: Operation\n",
       "    operator: 12\n",
       "    operands: 13\n",
       "12. and\n",
       "    core type: Literal\n",
       "    sub-expressions: \n",
       "13. (exists_{y_{1}, ..y_{_a}.., y_{n} | Q(y_{1}, ..y_{_a}.., y_{n})} P(y_{1}, ..y_{_a}.., y_{n}), forall_{x_{1}, ..x_{_a}.., x_{n} | Q(x_{1}, ..x_{_a}.., x_{n})} (P(x_{1}, ..x_{_a}.., x_{n}) => alpha))\n",
       "    core type: ExprTuple\n",
       "    sub-expressions: 14, 15\n",
       "14. exists_{y_{1}, ..y_{_a}.., y_{n} | Q(y_{1}, ..y_{_a}.., y_{n})} P(y_{1}, ..y_{_a}.., y_{n})\n",
       "    core type: Operation\n",
       "    operator: 16\n",
       "    operand: 20\n",
       "15. forall_{x_{1}, ..x_{_a}.., x_{n} | Q(x_{1}, ..x_{_a}.., x_{n})} (P(x_{1}, ..x_{_a}.., x_{n}) => alpha)\n",
       "    core type: Operation\n",
       "    operator: 18\n",
       "    operand: 21\n",
       "16. exists\n",
       "    core type: Literal\n",
       "    sub-expressions: \n",
       "17. ((y_{1}, ..y_{_a}.., y_{n}) -> {P(y_{1}, ..y_{_a}.., y_{n}) if Q(y_{1}, ..y_{_a}.., y_{n}).)\n",
       "    core type: ExprTuple\n",
       "    sub-expressions: 20\n",
       "18. forall\n",
       "    core type: Literal\n",
       "    sub-expressions: \n",
       "19. ((x_{1}, ..x_{_a}.., x_{n}) -> {P(x_{1}, ..x_{_a}.., x_{n}) => alpha if Q(x_{1}, ..x_{_a}.., x_{n}).)\n",
       "    core type: ExprTuple\n",
       "    sub-expressions: 21\n",
       "20. (y_{1}, ..y_{_a}.., y_{n}) -> {P(y_{1}, ..y_{_a}.., y_{n}) if Q(y_{1}, ..y_{_a}.., y_{n}).\n",
       "    core type: Lambda\n",
       "    parameters: 28\\n    body: 22\n",
       "21. (x_{1}, ..x_{_a}.., x_{n}) -> {P(x_{1}, ..x_{_a}.., x_{n}) => alpha if Q(x_{1}, ..x_{_a}.., x_{n}).\n",
       "    core type: Lambda\n",
       "    parameters: 37\\n    body: 23\n",
       "22. {P(y_{1}, ..y_{_a}.., y_{n}) if Q(y_{1}, ..y_{_a}.., y_{n}).\n",
       "    core type: Conditional\n",
       "    value: 24\n",
       "    condition: 25\n",
       "23. {P(x_{1}, ..x_{_a}.., x_{n}) => alpha if Q(x_{1}, ..x_{_a}.., x_{n}).\n",
       "    core type: Conditional\n",
       "    value: 26\n",
       "    condition: 27\n",
       "24. P(y_{1}, ..y_{_a}.., y_{n})\n",
       "    core type: Operation\n",
       "    operator: 36\n",
       "    operands: 28\n",
       "25. Q(y_{1}, ..y_{_a}.., y_{n})\n",
       "    core type: Operation\n",
       "    operator: 31\n",
       "    operands: 28\n",
       "26. P(x_{1}, ..x_{_a}.., x_{n}) => alpha\n",
       "    core type: Operation\n",
       "    operator: 29\n",
       "    operands: 30\n",
       "27. Q(x_{1}, ..x_{_a}.., x_{n})\n",
       "    core type: Operation\n",
       "    operator: 31\n",
       "    operands: 37\n",
       "28. (y_{1}, ..y_{_a}.., y_{n})\n",
       "    core type: ExprTuple\n",
       "    sub-expressions: 32\n",
       "29. =>\n",
       "    core type: Literal\n",
       "    sub-expressions: \n",
       "30. (P(x_{1}, ..x_{_a}.., x_{n}), alpha)\n",
       "    core type: ExprTuple\n",
       "    sub-expressions: 33, 34\n",
       "31. Q\n",
       "    core type: Variable\n",
       "    sub-expressions: \n",
       "32. y_{1}, ..y_{_a}.., y_{n}\n",
       "    core type: ExprRange\n",
       "    lambda_map: 35\n",
       "    start_index: 42\n",
       "    end_index: 43\n",
       "33. P(x_{1}, ..x_{_a}.., x_{n})\n",
       "    core type: Operation\n",
       "    operator: 36\n",
       "    operands: 37\n",
       "34. alpha\n",
       "    core type: Variable\n",
       "    sub-expressions: \n",
       "35. _a -> y_{_a}\n",
       "    core type: Lambda\n",
       "    parameter: 47\n",
       "    body: 38\n",
       "36. P\n",
       "    core type: Variable\n",
       "    sub-expressions: \n",
       "37. (x_{1}, ..x_{_a}.., x_{n})\n",
       "    core type: ExprTuple\n",
       "    sub-expressions: 39\n",
       "38. y_{_a}\n",
       "    core type: IndexedVar\n",
       "variable: 40\n",
       "index: 47\n",
       "39. x_{1}, ..x_{_a}.., x_{n}\n",
       "    core type: ExprRange\n",
       "    lambda_map: 41\n",
       "    start_index: 42\n",
       "    end_index: 43\n",
       "40. y\n",
       "    core type: Variable\n",
       "    sub-expressions: \n",
       "41. _a -> x_{_a}\n",
       "    core type: Lambda\n",
       "    parameter: 47\n",
       "    body: 44\n",
       "42. 1\n",
       "    core type: Literal\n",
       "    sub-expressions: \n",
       "43. n\n",
       "    core type: Variable\n",
       "    sub-expressions: \n",
       "44. x_{_a}\n",
       "    core type: IndexedVar\n",
       "variable: 45\n",
       "index: 47\n",
       "45. x\n",
       "    core type: Variable\n",
       "    sub-expressions: \n",
       "46. (_a)\n",
       "    core type: ExprTuple\n",
       "    sub-expressions: 47\n",
       "47. _a\n",
       "    core type: Variable\n",
       "    sub-expressions: "
      ]
     },
     "execution_count": 6,
     "metadata": {},
     "output_type": "execute_result"
    }
   ],
   "source": [
    "# display the expression information\n",
    "expr.expr_info()"
   ]
  },
  {
   "cell_type": "code",
   "execution_count": null,
   "metadata": {},
   "outputs": [],
   "source": []
  }
 ],
 "metadata": {
  "kernelspec": {
   "display_name": "Python 3",
   "language": "python",
   "name": "python3"
  }
 },
 "nbformat": 4,
 "nbformat_minor": 0
}