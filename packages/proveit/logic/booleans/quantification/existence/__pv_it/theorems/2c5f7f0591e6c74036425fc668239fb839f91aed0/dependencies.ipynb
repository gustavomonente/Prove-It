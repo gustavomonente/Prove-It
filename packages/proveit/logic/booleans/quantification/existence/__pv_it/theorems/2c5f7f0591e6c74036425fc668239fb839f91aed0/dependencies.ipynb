{
 "cells": [
  {
   "cell_type": "markdown",
   "metadata": {},
   "source": [
    "Theorem Dependencies\n",
    "=======================\n",
    "\n",
    "## <a class=\"ProveItLink\" href=\"../../../_theory_nbs_/theory.ipynb\">proveit.logic.booleans.quantification.existence</a>.<a class=\"ProveItLink\" href=\"../../../_theorems_.ipynb#skolem_elim_lemma\">skolem_elim_lemma</a> \n",
    "***see <a class=\"ProveItLink\" href=\"../../../_theory_nbs_/proofs/skolem_elim_lemma/thm_proof.ipynb\">proof</a>***"
   ]
  },
  {
   "cell_type": "code",
   "execution_count": 1,
   "metadata": {},
   "outputs": [],
   "source": [
    "import proveit\n",
    "# Automation is not needed when querying dependencies:\n",
    "proveit.defaults.automation = False # This will speed things up.\n",
    "proveit.defaults.inline_pngs = False # Makes files smaller.\n",
    "from proveit.logic.booleans.quantification.existence import skolem_elim_lemma"
   ]
  },
  {
   "cell_type": "code",
   "execution_count": 2,
   "metadata": {},
   "outputs": [
    {
     "data": {
      "text/html": [
       "<h3>Unproven conjectures required (directly or indirectly) to prove skolem_elim_lemma</h3>"
      ],
      "text/plain": [
       "<IPython.core.display.HTML object>"
      ]
     },
     "metadata": {},
     "output_type": "display_data"
    },
    {
     "data": {
      "text/html": [
       "<dl>"
      ],
      "text/plain": [
       "<IPython.core.display.HTML object>"
      ]
     },
     "metadata": {},
     "output_type": "display_data"
    },
    {
     "data": {
      "text/html": [
       "<dt><a class=\"ProveItLink\" href=\"../../../../../../../core_expr_types/tuples/_theory_nbs_/proofs/range_from1_len_typical_eq/thm_proof.ipynb\">proveit.core_expr_types.tuples.range_from1_len_typical_eq</a></dt><dd><a class=\"ProveItLink\" href=\"../../../../../../../core_expr_types/tuples/__pv_it/theorems/8b8385a179fbeda4e2c47fac5642a3b4f469d94c0/expr.ipynb\"><img src=\"../../../../../../../core_expr_types/tuples/__pv_it/theorems/8b8385a179fbeda4e2c47fac5642a3b4f469d94c0/expr.png\" style=\"display:inline;vertical-align:middle;\" /></a></dd>"
      ],
      "text/plain": [
       "<IPython.core.display.HTML object>"
      ]
     },
     "metadata": {},
     "output_type": "display_data"
    },
    {
     "data": {
      "text/html": [
       "<dt><a class=\"ProveItLink\" href=\"../../../../../../../numbers/number_sets/natural_numbers/_theory_nbs_/proofs/nat_pos_within_nat/thm_proof.ipynb\">proveit.numbers.number_sets.natural_numbers.nat_pos_within_nat</a></dt><dd><a class=\"ProveItLink\" href=\"../../../../../../../numbers/number_sets/natural_numbers/__pv_it/theorems/fdbeacd6e3559bfdc8c640c55cdefc0b472546c00/expr.ipynb\"><img src=\"../../../../../../../numbers/number_sets/natural_numbers/__pv_it/theorems/fdbeacd6e3559bfdc8c640c55cdefc0b472546c00/expr.png\" style=\"display:inline;vertical-align:middle;\" /></a></dd>"
      ],
      "text/plain": [
       "<IPython.core.display.HTML object>"
      ]
     },
     "metadata": {},
     "output_type": "display_data"
    },
    {
     "data": {
      "text/html": [
       "</dl>"
      ],
      "text/plain": [
       "<IPython.core.display.HTML object>"
      ]
     },
     "metadata": {},
     "output_type": "display_data"
    },
    {
     "data": {
      "text/html": [
       "<h3>Axioms required (directly or indirectly) to prove skolem_elim_lemma</h3>"
      ],
      "text/plain": [
       "<IPython.core.display.HTML object>"
      ]
     },
     "metadata": {},
     "output_type": "display_data"
    },
    {
     "data": {
      "text/html": [
       "<dl>"
      ],
      "text/plain": [
       "<IPython.core.display.HTML object>"
      ]
     },
     "metadata": {},
     "output_type": "display_data"
    },
    {
     "data": {
      "text/html": [
       "<dt><a class=\"ProveItLink\" href=\"../../../../../_theory_nbs_/axioms.ipynb#eq_true_elim\">proveit.logic.booleans.eq_true_elim</a></dt><dd><a class=\"ProveItLink\" href=\"../../../../../__pv_it/axioms/ed8b0a27c515b8c85261606f0835dadd8c8b34f70/expr.ipynb\"><img src=\"../../../../../__pv_it/axioms/ed8b0a27c515b8c85261606f0835dadd8c8b34f70/expr.png\" style=\"display:inline;vertical-align:middle;\" /></a></dd>"
      ],
      "text/plain": [
       "<IPython.core.display.HTML object>"
      ]
     },
     "metadata": {},
     "output_type": "display_data"
    },
    {
     "data": {
      "text/html": [
       "<dt><a class=\"ProveItLink\" href=\"../../../../../_theory_nbs_/axioms.ipynb#eq_true_intro\">proveit.logic.booleans.eq_true_intro</a></dt><dd><a class=\"ProveItLink\" href=\"../../../../../__pv_it/axioms/3a99d3cb7c410f4636cdc59f7b36cdf6997b37680/expr.ipynb\"><img src=\"../../../../../__pv_it/axioms/3a99d3cb7c410f4636cdc59f7b36cdf6997b37680/expr.png\" style=\"display:inline;vertical-align:middle;\" /></a></dd>"
      ],
      "text/plain": [
       "<IPython.core.display.HTML object>"
      ]
     },
     "metadata": {},
     "output_type": "display_data"
    },
    {
     "data": {
      "text/html": [
       "<dt><a class=\"ProveItLink\" href=\"../../../../../implication/_theory_nbs_/axioms.ipynb#affirmation_via_contradiction\">proveit.logic.booleans.implication.affirmation_via_contradiction</a></dt><dd><a class=\"ProveItLink\" href=\"../../../../../implication/__pv_it/axioms/9e7a6331c6ade13bf7d90f7a7ea3d6b56d49f7550/expr.ipynb\"><img src=\"../../../../../implication/__pv_it/axioms/9e7a6331c6ade13bf7d90f7a7ea3d6b56d49f7550/expr.png\" style=\"display:inline;vertical-align:middle;\" /></a></dd>"
      ],
      "text/plain": [
       "<IPython.core.display.HTML object>"
      ]
     },
     "metadata": {},
     "output_type": "display_data"
    },
    {
     "data": {
      "text/html": [
       "<dt><a class=\"ProveItLink\" href=\"../../../../../implication/_theory_nbs_/axioms.ipynb#denial_via_contradiction\">proveit.logic.booleans.implication.denial_via_contradiction</a></dt><dd><a class=\"ProveItLink\" href=\"../../../../../implication/__pv_it/axioms/f2e3fe806d62adaa18049be164546361400331db0/expr.ipynb\"><img src=\"../../../../../implication/__pv_it/axioms/f2e3fe806d62adaa18049be164546361400331db0/expr.png\" style=\"display:inline;vertical-align:middle;\" /></a></dd>"
      ],
      "text/plain": [
       "<IPython.core.display.HTML object>"
      ]
     },
     "metadata": {},
     "output_type": "display_data"
    },
    {
     "data": {
      "text/html": [
       "<dt><a class=\"ProveItLink\" href=\"../../../../../negation/_theory_nbs_/axioms.ipynb#not_f\">proveit.logic.booleans.negation.not_f</a></dt><dd><a class=\"ProveItLink\" href=\"../../../../../negation/__pv_it/axioms/d87ab8cd9ba5383125dc9d2926712d95b71ba6dc0/expr.ipynb\"><img src=\"../../../../../negation/__pv_it/axioms/d87ab8cd9ba5383125dc9d2926712d95b71ba6dc0/expr.png\" style=\"display:inline;vertical-align:middle;\" /></a></dd>"
      ],
      "text/plain": [
       "<IPython.core.display.HTML object>"
      ]
     },
     "metadata": {},
     "output_type": "display_data"
    },
    {
     "data": {
      "text/html": [
       "<dt><a class=\"ProveItLink\" href=\"../../../../../negation/_theory_nbs_/axioms.ipynb#not_t\">proveit.logic.booleans.negation.not_t</a></dt><dd><a class=\"ProveItLink\" href=\"../../../../../negation/__pv_it/axioms/3de2ecc6594828497e3adec427d1533c50a4dfe90/expr.ipynb\"><img src=\"../../../../../negation/__pv_it/axioms/3de2ecc6594828497e3adec427d1533c50a4dfe90/expr.png\" style=\"display:inline;vertical-align:middle;\" /></a></dd>"
      ],
      "text/plain": [
       "<IPython.core.display.HTML object>"
      ]
     },
     "metadata": {},
     "output_type": "display_data"
    },
    {
     "data": {
      "text/html": [
       "<dt><a class=\"ProveItLink\" href=\"../../../_theory_nbs_/axioms.ipynb#exists_def\">proveit.logic.booleans.quantification.existence.exists_def</a></dt><dd><a class=\"ProveItLink\" href=\"../../axioms/c040f82b785919a0152a1b8df22e36701c3c056e0/expr.ipynb\"><img src=\"../../axioms/c040f82b785919a0152a1b8df22e36701c3c056e0/expr.png\" style=\"display:inline;vertical-align:middle;\" /></a></dd>"
      ],
      "text/plain": [
       "<IPython.core.display.HTML object>"
      ]
     },
     "metadata": {},
     "output_type": "display_data"
    },
    {
     "data": {
      "text/html": [
       "<dt><a class=\"ProveItLink\" href=\"../../../../../../equality/_theory_nbs_/axioms.ipynb#equality_in_bool\">proveit.logic.equality.equality_in_bool</a></dt><dd><a class=\"ProveItLink\" href=\"../../../../../../equality/__pv_it/axioms/0032644a84796ee50f77c857714a616922f0e4bf0/expr.ipynb\"><img src=\"../../../../../../equality/__pv_it/axioms/0032644a84796ee50f77c857714a616922f0e4bf0/expr.png\" style=\"display:inline;vertical-align:middle;\" /></a></dd>"
      ],
      "text/plain": [
       "<IPython.core.display.HTML object>"
      ]
     },
     "metadata": {},
     "output_type": "display_data"
    },
    {
     "data": {
      "text/html": [
       "<dt><a class=\"ProveItLink\" href=\"../../../../../../equality/_theory_nbs_/axioms.ipynb#equals_symmetry\">proveit.logic.equality.equals_symmetry</a></dt><dd><a class=\"ProveItLink\" href=\"../../../../../../equality/__pv_it/axioms/34996bbbceac0f69a08b78cc992f42a548486c1c0/expr.ipynb\"><img src=\"../../../../../../equality/__pv_it/axioms/34996bbbceac0f69a08b78cc992f42a548486c1c0/expr.png\" style=\"display:inline;vertical-align:middle;\" /></a></dd>"
      ],
      "text/plain": [
       "<IPython.core.display.HTML object>"
      ]
     },
     "metadata": {},
     "output_type": "display_data"
    },
    {
     "data": {
      "text/html": [
       "<dt><a class=\"ProveItLink\" href=\"../../../../../../equality/_theory_nbs_/axioms.ipynb#equals_transitivity\">proveit.logic.equality.equals_transitivity</a></dt><dd><a class=\"ProveItLink\" href=\"../../../../../../equality/__pv_it/axioms/fe5ecb4839370106d7aa598ff8e51b95c71757a70/expr.ipynb\"><img src=\"../../../../../../equality/__pv_it/axioms/fe5ecb4839370106d7aa598ff8e51b95c71757a70/expr.png\" style=\"display:inline;vertical-align:middle;\" /></a></dd>"
      ],
      "text/plain": [
       "<IPython.core.display.HTML object>"
      ]
     },
     "metadata": {},
     "output_type": "display_data"
    },
    {
     "data": {
      "text/html": [
       "<dt><a class=\"ProveItLink\" href=\"../../../../../../equality/_theory_nbs_/axioms.ipynb#not_equals_def\">proveit.logic.equality.not_equals_def</a></dt><dd><a class=\"ProveItLink\" href=\"../../../../../../equality/__pv_it/axioms/15f4bc0dbe6f9cb8363f313a4b59eb995eddacaf0/expr.ipynb\"><img src=\"../../../../../../equality/__pv_it/axioms/15f4bc0dbe6f9cb8363f313a4b59eb995eddacaf0/expr.png\" style=\"display:inline;vertical-align:middle;\" /></a></dd>"
      ],
      "text/plain": [
       "<IPython.core.display.HTML object>"
      ]
     },
     "metadata": {},
     "output_type": "display_data"
    },
    {
     "data": {
      "text/html": [
       "<dt><a class=\"ProveItLink\" href=\"../../../../../../equality/_theory_nbs_/axioms.ipynb#substitution\">proveit.logic.equality.substitution</a></dt><dd><a class=\"ProveItLink\" href=\"../../../../../../equality/__pv_it/axioms/fb5aa0007e656f471030da411c3555b23b265d8f0/expr.ipynb\"><img src=\"../../../../../../equality/__pv_it/axioms/fb5aa0007e656f471030da411c3555b23b265d8f0/expr.png\" style=\"display:inline;vertical-align:middle;\" /></a></dd>"
      ],
      "text/plain": [
       "<IPython.core.display.HTML object>"
      ]
     },
     "metadata": {},
     "output_type": "display_data"
    },
    {
     "data": {
      "text/html": [
       "<dt><a class=\"ProveItLink\" href=\"../../../../../../sets/inclusion/_theory_nbs_/axioms.ipynb#proper_subset_def\">proveit.logic.sets.inclusion.proper_subset_def</a></dt><dd><a class=\"ProveItLink\" href=\"../../../../../../sets/inclusion/__pv_it/axioms/e95bfa29563f2d409f4f144fe6c68968590429550/expr.ipynb\"><img src=\"../../../../../../sets/inclusion/__pv_it/axioms/e95bfa29563f2d409f4f144fe6c68968590429550/expr.png\" style=\"display:inline;vertical-align:middle;\" /></a></dd>"
      ],
      "text/plain": [
       "<IPython.core.display.HTML object>"
      ]
     },
     "metadata": {},
     "output_type": "display_data"
    },
    {
     "data": {
      "text/html": [
       "<dt><a class=\"ProveItLink\" href=\"../../../../../../sets/inclusion/_theory_nbs_/axioms.ipynb#subset_eq_def\">proveit.logic.sets.inclusion.subset_eq_def</a></dt><dd><a class=\"ProveItLink\" href=\"../../../../../../sets/inclusion/__pv_it/axioms/d7449297494a795000bc445b03cbe0385e2bd3490/expr.ipynb\"><img src=\"../../../../../../sets/inclusion/__pv_it/axioms/d7449297494a795000bc445b03cbe0385e2bd3490/expr.png\" style=\"display:inline;vertical-align:middle;\" /></a></dd>"
      ],
      "text/plain": [
       "<IPython.core.display.HTML object>"
      ]
     },
     "metadata": {},
     "output_type": "display_data"
    },
    {
     "data": {
      "text/html": [
       "</dl>"
      ],
      "text/plain": [
       "<IPython.core.display.HTML object>"
      ]
     },
     "metadata": {},
     "output_type": "display_data"
    },
    {
     "data": {
      "text/html": [
       "<h3>Theorems/conjectures that depend directly on skolem_elim_lemma</h3>"
      ],
      "text/plain": [
       "<IPython.core.display.HTML object>"
      ]
     },
     "metadata": {},
     "output_type": "display_data"
    },
    {
     "data": {
      "text/html": [
       "<dl>"
      ],
      "text/plain": [
       "<IPython.core.display.HTML object>"
      ]
     },
     "metadata": {},
     "output_type": "display_data"
    },
    {
     "data": {
      "text/html": [
       "<dt><a class=\"ProveItLink\" href=\"../../../_theory_nbs_/proofs/skolem_elim/thm_proof.ipynb\">proveit.logic.booleans.quantification.existence.skolem_elim</a></dt><dd><a class=\"ProveItLink\" href=\"../72ab57b0236c6441521ef1ae08d13b715e79796f0/expr.ipynb\"><img src=\"../72ab57b0236c6441521ef1ae08d13b715e79796f0/expr.png\" style=\"display:inline;vertical-align:middle;\" /></a></dd>"
      ],
      "text/plain": [
       "<IPython.core.display.HTML object>"
      ]
     },
     "metadata": {},
     "output_type": "display_data"
    },
    {
     "data": {
      "text/html": [
       "</dl>"
      ],
      "text/plain": [
       "<IPython.core.display.HTML object>"
      ]
     },
     "metadata": {},
     "output_type": "display_data"
    }
   ],
   "source": [
    "%dependencies skolem_elim_lemma"
   ]
  }
 ],
 "metadata": {
  "kernelspec": {
   "display_name": "Python 3",
   "language": "python",
   "name": "python3"
  }
 },
 "nbformat": 4,
 "nbformat_minor": 0
}