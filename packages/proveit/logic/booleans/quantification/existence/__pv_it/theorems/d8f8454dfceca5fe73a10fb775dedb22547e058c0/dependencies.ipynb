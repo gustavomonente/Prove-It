{
 "cells": [
  {
   "cell_type": "markdown",
   "metadata": {},
   "source": [
    "Theorem Dependencies\n",
    "=======================\n",
    "\n",
    "## <a class=\"ProveItLink\" href=\"../../../_theory_nbs_/theory.ipynb\">proveit.logic.booleans.quantification.existence</a>.<a class=\"ProveItLink\" href=\"../../../_theorems_.ipynb#skolem_elim\">skolem_elim</a> \n",
    "***see <a class=\"ProveItLink\" href=\"../../../_theory_nbs_/proofs/skolem_elim/thm_proof.ipynb\">proof</a>***"
   ]
  },
  {
   "cell_type": "code",
   "execution_count": 1,
   "metadata": {},
   "outputs": [],
   "source": [
    "import proveit\n",
    "# Automation is not needed when querying dependencies:\n",
    "proveit.defaults.automation = False # This will speed things up.\n",
    "proveit.defaults.inline_pngs = False # Makes files smaller.\n",
    "from proveit.logic.booleans.quantification.existence import skolem_elim"
   ]
  },
  {
   "cell_type": "code",
   "execution_count": 2,
   "metadata": {},
   "outputs": [
    {
     "data": {
      "text/html": [
       "<h3>Unproven conjectures required (directly or indirectly) to prove skolem_elim</h3>"
      ],
      "text/plain": [
       "<IPython.core.display.HTML object>"
      ]
     },
     "metadata": {},
     "output_type": "display_data"
    },
    {
     "data": {
      "text/html": [
       "<dl>"
      ],
      "text/plain": [
       "<IPython.core.display.HTML object>"
      ]
     },
     "metadata": {},
     "output_type": "display_data"
    },
    {
     "data": {
      "text/html": [
       "<dt><a class=\"ProveItLink\" href=\"../../../../../../../core_expr_types/tuples/_theory_nbs_/proofs/range_from1_len_typical_eq/thm_proof.ipynb\">proveit.core_expr_types.tuples.range_from1_len_typical_eq</a></dt><dd><a class=\"ProveItLink\" href=\"../../../../../../../core_expr_types/tuples/__pv_it/theorems/750bab8a8cef357ce4b5658ab228891a4fc8cc0a0/expr.ipynb\"><img src=\"../../../../../../../core_expr_types/tuples/__pv_it/theorems/750bab8a8cef357ce4b5658ab228891a4fc8cc0a0/expr.png\" style=\"display:inline;vertical-align:middle;\" /></a></dd>"
      ],
      "text/plain": [
       "<IPython.core.display.HTML object>"
      ]
     },
     "metadata": {},
     "output_type": "display_data"
    },
    {
     "data": {
      "text/html": [
       "<dt><a class=\"ProveItLink\" href=\"../../../../../../../numbers/number_sets/natural_numbers/_theory_nbs_/proofs/nat_pos_within_nat/thm_proof.ipynb\">proveit.numbers.number_sets.natural_numbers.nat_pos_within_nat</a></dt><dd><a class=\"ProveItLink\" href=\"../../../../../../../numbers/number_sets/natural_numbers/__pv_it/theorems/9f9d3482e0a0bd2266ab91f773870128780d9ae70/expr.ipynb\"><img src=\"../../../../../../../numbers/number_sets/natural_numbers/__pv_it/theorems/9f9d3482e0a0bd2266ab91f773870128780d9ae70/expr.png\" style=\"display:inline;vertical-align:middle;\" /></a></dd>"
      ],
      "text/plain": [
       "<IPython.core.display.HTML object>"
      ]
     },
     "metadata": {},
     "output_type": "display_data"
    },
    {
     "data": {
      "text/html": [
       "</dl>"
      ],
      "text/plain": [
       "<IPython.core.display.HTML object>"
      ]
     },
     "metadata": {},
     "output_type": "display_data"
    },
    {
     "data": {
      "text/html": [
       "<h3>Axioms required (directly or indirectly) to prove skolem_elim</h3>"
      ],
      "text/plain": [
       "<IPython.core.display.HTML object>"
      ]
     },
     "metadata": {},
     "output_type": "display_data"
    },
    {
     "data": {
      "text/html": [
       "<dl>"
      ],
      "text/plain": [
       "<IPython.core.display.HTML object>"
      ]
     },
     "metadata": {},
     "output_type": "display_data"
    },
    {
     "data": {
      "text/html": [
       "<dt><a class=\"ProveItLink\" href=\"../../../../../conjunction/_theory_nbs_/axioms.ipynb#and_t_t\">proveit.logic.booleans.conjunction.and_t_t</a></dt><dd><a class=\"ProveItLink\" href=\"../../../../../conjunction/__pv_it/axioms/7b5a0e7b79eeb92155c7892ccd1bb94a860f999c0/expr.ipynb\"><img src=\"../../../../../conjunction/__pv_it/axioms/7b5a0e7b79eeb92155c7892ccd1bb94a860f999c0/expr.png\" style=\"display:inline;vertical-align:middle;\" /></a></dd>"
      ],
      "text/plain": [
       "<IPython.core.display.HTML object>"
      ]
     },
     "metadata": {},
     "output_type": "display_data"
    },
    {
     "data": {
      "text/html": [
       "<dt><a class=\"ProveItLink\" href=\"../../../../../_theory_nbs_/axioms.ipynb#eq_true_elim\">proveit.logic.booleans.eq_true_elim</a></dt><dd><a class=\"ProveItLink\" href=\"../../../../../__pv_it/axioms/05a6b4904cc64664b923b0e52c73af64907ac3af0/expr.ipynb\"><img src=\"../../../../../__pv_it/axioms/05a6b4904cc64664b923b0e52c73af64907ac3af0/expr.png\" style=\"display:inline;vertical-align:middle;\" /></a></dd>"
      ],
      "text/plain": [
       "<IPython.core.display.HTML object>"
      ]
     },
     "metadata": {},
     "output_type": "display_data"
    },
    {
     "data": {
      "text/html": [
       "<dt><a class=\"ProveItLink\" href=\"../../../../../_theory_nbs_/axioms.ipynb#eq_true_intro\">proveit.logic.booleans.eq_true_intro</a></dt><dd><a class=\"ProveItLink\" href=\"../../../../../__pv_it/axioms/654339f5fb5a65119fa860e26cec5f77107afe860/expr.ipynb\"><img src=\"../../../../../__pv_it/axioms/654339f5fb5a65119fa860e26cec5f77107afe860/expr.png\" style=\"display:inline;vertical-align:middle;\" /></a></dd>"
      ],
      "text/plain": [
       "<IPython.core.display.HTML object>"
      ]
     },
     "metadata": {},
     "output_type": "display_data"
    },
    {
     "data": {
      "text/html": [
       "<dt><a class=\"ProveItLink\" href=\"../../../../../implication/_theory_nbs_/axioms.ipynb#affirmation_via_contradiction\">proveit.logic.booleans.implication.affirmation_via_contradiction</a></dt><dd><a class=\"ProveItLink\" href=\"../../../../../implication/__pv_it/axioms/5941627c1e75bc665dce1f7b3265ea647617da820/expr.ipynb\"><img src=\"../../../../../implication/__pv_it/axioms/5941627c1e75bc665dce1f7b3265ea647617da820/expr.png\" style=\"display:inline;vertical-align:middle;\" /></a></dd>"
      ],
      "text/plain": [
       "<IPython.core.display.HTML object>"
      ]
     },
     "metadata": {},
     "output_type": "display_data"
    },
    {
     "data": {
      "text/html": [
       "<dt><a class=\"ProveItLink\" href=\"../../../../../implication/_theory_nbs_/axioms.ipynb#denial_via_contradiction\">proveit.logic.booleans.implication.denial_via_contradiction</a></dt><dd><a class=\"ProveItLink\" href=\"../../../../../implication/__pv_it/axioms/3ba42e63897df1b59e5482fb39e92b105a4e201b0/expr.ipynb\"><img src=\"../../../../../implication/__pv_it/axioms/3ba42e63897df1b59e5482fb39e92b105a4e201b0/expr.png\" style=\"display:inline;vertical-align:middle;\" /></a></dd>"
      ],
      "text/plain": [
       "<IPython.core.display.HTML object>"
      ]
     },
     "metadata": {},
     "output_type": "display_data"
    },
    {
     "data": {
      "text/html": [
       "<dt><a class=\"ProveItLink\" href=\"../../../../../negation/_theory_nbs_/axioms.ipynb#not_f\">proveit.logic.booleans.negation.not_f</a></dt><dd><a class=\"ProveItLink\" href=\"../../../../../negation/__pv_it/axioms/783be9b954a93c2196c06fe5d90d2b2e27bd82330/expr.ipynb\"><img src=\"../../../../../negation/__pv_it/axioms/783be9b954a93c2196c06fe5d90d2b2e27bd82330/expr.png\" style=\"display:inline;vertical-align:middle;\" /></a></dd>"
      ],
      "text/plain": [
       "<IPython.core.display.HTML object>"
      ]
     },
     "metadata": {},
     "output_type": "display_data"
    },
    {
     "data": {
      "text/html": [
       "<dt><a class=\"ProveItLink\" href=\"../../../../../negation/_theory_nbs_/axioms.ipynb#not_t\">proveit.logic.booleans.negation.not_t</a></dt><dd><a class=\"ProveItLink\" href=\"../../../../../negation/__pv_it/axioms/892b96a66b0dd237317023264009b8bd35f245000/expr.ipynb\"><img src=\"../../../../../negation/__pv_it/axioms/892b96a66b0dd237317023264009b8bd35f245000/expr.png\" style=\"display:inline;vertical-align:middle;\" /></a></dd>"
      ],
      "text/plain": [
       "<IPython.core.display.HTML object>"
      ]
     },
     "metadata": {},
     "output_type": "display_data"
    },
    {
     "data": {
      "text/html": [
       "<dt><a class=\"ProveItLink\" href=\"../../../_theory_nbs_/axioms.ipynb#exists_def\">proveit.logic.booleans.quantification.existence.exists_def</a></dt><dd><a class=\"ProveItLink\" href=\"../../axioms/5288edf6e10ecc9dbd8298a251852c6115a04ca30/expr.ipynb\"><img src=\"../../axioms/5288edf6e10ecc9dbd8298a251852c6115a04ca30/expr.png\" style=\"display:inline;vertical-align:middle;\" /></a></dd>"
      ],
      "text/plain": [
       "<IPython.core.display.HTML object>"
      ]
     },
     "metadata": {},
     "output_type": "display_data"
    },
    {
     "data": {
      "text/html": [
       "<dt><a class=\"ProveItLink\" href=\"../../../../../../equality/_theory_nbs_/axioms.ipynb#equality_in_bool\">proveit.logic.equality.equality_in_bool</a></dt><dd><a class=\"ProveItLink\" href=\"../../../../../../equality/__pv_it/axioms/c57195bf3ea9834448b62b7f5f6df39e8cb92f580/expr.ipynb\"><img src=\"../../../../../../equality/__pv_it/axioms/c57195bf3ea9834448b62b7f5f6df39e8cb92f580/expr.png\" style=\"display:inline;vertical-align:middle;\" /></a></dd>"
      ],
      "text/plain": [
       "<IPython.core.display.HTML object>"
      ]
     },
     "metadata": {},
     "output_type": "display_data"
    },
    {
     "data": {
      "text/html": [
       "<dt><a class=\"ProveItLink\" href=\"../../../../../../equality/_theory_nbs_/axioms.ipynb#equals_symmetry\">proveit.logic.equality.equals_symmetry</a></dt><dd><a class=\"ProveItLink\" href=\"../../../../../../equality/__pv_it/axioms/e6f7b31ca70e222042a7b5b219b78712171810de0/expr.ipynb\"><img src=\"../../../../../../equality/__pv_it/axioms/e6f7b31ca70e222042a7b5b219b78712171810de0/expr.png\" style=\"display:inline;vertical-align:middle;\" /></a></dd>"
      ],
      "text/plain": [
       "<IPython.core.display.HTML object>"
      ]
     },
     "metadata": {},
     "output_type": "display_data"
    },
    {
     "data": {
      "text/html": [
       "<dt><a class=\"ProveItLink\" href=\"../../../../../../equality/_theory_nbs_/axioms.ipynb#equals_transitivity\">proveit.logic.equality.equals_transitivity</a></dt><dd><a class=\"ProveItLink\" href=\"../../../../../../equality/__pv_it/axioms/f827123c5f21af6ab6d517e6d3247a9ee44c13460/expr.ipynb\"><img src=\"../../../../../../equality/__pv_it/axioms/f827123c5f21af6ab6d517e6d3247a9ee44c13460/expr.png\" style=\"display:inline;vertical-align:middle;\" /></a></dd>"
      ],
      "text/plain": [
       "<IPython.core.display.HTML object>"
      ]
     },
     "metadata": {},
     "output_type": "display_data"
    },
    {
     "data": {
      "text/html": [
       "<dt><a class=\"ProveItLink\" href=\"../../../../../../equality/_theory_nbs_/axioms.ipynb#not_equals_def\">proveit.logic.equality.not_equals_def</a></dt><dd><a class=\"ProveItLink\" href=\"../../../../../../equality/__pv_it/axioms/612e6fef5ce01aa9bc54740faae71fac6c98e14f0/expr.ipynb\"><img src=\"../../../../../../equality/__pv_it/axioms/612e6fef5ce01aa9bc54740faae71fac6c98e14f0/expr.png\" style=\"display:inline;vertical-align:middle;\" /></a></dd>"
      ],
      "text/plain": [
       "<IPython.core.display.HTML object>"
      ]
     },
     "metadata": {},
     "output_type": "display_data"
    },
    {
     "data": {
      "text/html": [
       "<dt><a class=\"ProveItLink\" href=\"../../../../../../equality/_theory_nbs_/axioms.ipynb#substitution\">proveit.logic.equality.substitution</a></dt><dd><a class=\"ProveItLink\" href=\"../../../../../../equality/__pv_it/axioms/326b89aaf9a595f74daee801075977039365c5540/expr.ipynb\"><img src=\"../../../../../../equality/__pv_it/axioms/326b89aaf9a595f74daee801075977039365c5540/expr.png\" style=\"display:inline;vertical-align:middle;\" /></a></dd>"
      ],
      "text/plain": [
       "<IPython.core.display.HTML object>"
      ]
     },
     "metadata": {},
     "output_type": "display_data"
    },
    {
     "data": {
      "text/html": [
       "<dt><a class=\"ProveItLink\" href=\"../../../../../../sets/inclusion/_theory_nbs_/axioms.ipynb#proper_subset_def\">proveit.logic.sets.inclusion.proper_subset_def</a></dt><dd><a class=\"ProveItLink\" href=\"../../../../../../sets/inclusion/__pv_it/axioms/dc19bd769da96446823e6eb8658ec92e1c8f526e0/expr.ipynb\"><img src=\"../../../../../../sets/inclusion/__pv_it/axioms/dc19bd769da96446823e6eb8658ec92e1c8f526e0/expr.png\" style=\"display:inline;vertical-align:middle;\" /></a></dd>"
      ],
      "text/plain": [
       "<IPython.core.display.HTML object>"
      ]
     },
     "metadata": {},
     "output_type": "display_data"
    },
    {
     "data": {
      "text/html": [
       "<dt><a class=\"ProveItLink\" href=\"../../../../../../sets/inclusion/_theory_nbs_/axioms.ipynb#subset_eq_def\">proveit.logic.sets.inclusion.subset_eq_def</a></dt><dd><a class=\"ProveItLink\" href=\"../../../../../../sets/inclusion/__pv_it/axioms/7a59274882f4df50c95c1e6d7694eb9e867fca2c0/expr.ipynb\"><img src=\"../../../../../../sets/inclusion/__pv_it/axioms/7a59274882f4df50c95c1e6d7694eb9e867fca2c0/expr.png\" style=\"display:inline;vertical-align:middle;\" /></a></dd>"
      ],
      "text/plain": [
       "<IPython.core.display.HTML object>"
      ]
     },
     "metadata": {},
     "output_type": "display_data"
    },
    {
     "data": {
      "text/html": [
       "</dl>"
      ],
      "text/plain": [
       "<IPython.core.display.HTML object>"
      ]
     },
     "metadata": {},
     "output_type": "display_data"
    },
    {
     "data": {
      "text/html": [
       "<h3>Theorems/conjectures that depend directly on skolem_elim</h3>"
      ],
      "text/plain": [
       "<IPython.core.display.HTML object>"
      ]
     },
     "metadata": {},
     "output_type": "display_data"
    },
    {
     "data": {
      "text/html": [
       "<dl>"
      ],
      "text/plain": [
       "<IPython.core.display.HTML object>"
      ]
     },
     "metadata": {},
     "output_type": "display_data"
    },
    {
     "data": {
      "text/html": [
       "<dt><a class=\"ProveItLink\" href=\"../../../../../../../numbers/exponentiation/_theory_nbs_/proofs/sqrt2_is_not_rational/thm_proof.ipynb\">proveit.numbers.exponentiation.sqrt2_is_not_rational</a></dt><dd><a class=\"ProveItLink\" href=\"../../../../../../../numbers/exponentiation/__pv_it/theorems/7fae0196da015b8256d13b37a10b8319c493434a0/expr.ipynb\"><img src=\"../../../../../../../numbers/exponentiation/__pv_it/theorems/7fae0196da015b8256d13b37a10b8319c493434a0/expr.png\" style=\"display:inline;vertical-align:middle;\" /></a></dd>"
      ],
      "text/plain": [
       "<IPython.core.display.HTML object>"
      ]
     },
     "metadata": {},
     "output_type": "display_data"
    },
    {
     "data": {
      "text/html": [
       "</dl>"
      ],
      "text/plain": [
       "<IPython.core.display.HTML object>"
      ]
     },
     "metadata": {},
     "output_type": "display_data"
    }
   ],
   "source": [
    "%dependencies skolem_elim"
   ]
  }
 ],
 "metadata": {
  "kernelspec": {
   "display_name": "Python 3",
   "language": "python",
   "name": "python3"
  }
 },
 "nbformat": 4,
 "nbformat_minor": 0
}