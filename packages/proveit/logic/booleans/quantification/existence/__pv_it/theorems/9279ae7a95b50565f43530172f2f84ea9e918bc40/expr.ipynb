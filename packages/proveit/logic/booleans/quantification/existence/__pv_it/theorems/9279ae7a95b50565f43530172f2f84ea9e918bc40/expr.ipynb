{
 "cells": [
  {
   "cell_type": "markdown",
   "metadata": {},
   "source": [
    "Expression of type <a class=\"ProveItLink\" href=\"../../../../../../../../../doc/html/api/proveit.logic.Forall.html\">Forall</a>\n",
    "=======================\n",
    "# from the theory of <a class=\"ProveItLink\" href=\"../../../_theory_nbs_/theory.ipynb\">proveit.logic.booleans.quantification.existence</a>"
   ]
  },
  {
   "cell_type": "code",
   "execution_count": 1,
   "metadata": {},
   "outputs": [],
   "source": [
    "import proveit\n",
    "# Automation is not needed when building an expression:\n",
    "proveit.defaults.automation = False # This will speed things up.\n",
    "proveit.defaults.inline_pngs = False # Makes files smaller.\n",
    "%load_expr # Load the stored expression as 'stored_expr'\n",
    "# import Expression classes needed to build the expression\n",
    "from proveit.core_expr_types import P__y_1_to_n, y_1_to_n\n",
    "from proveit.logic import Forall, Implies\n",
    "from proveit.logic.booleans.quantification import general_exists_Px"
   ]
  },
  {
   "cell_type": "code",
   "execution_count": 2,
   "metadata": {},
   "outputs": [
    {
     "data": {
      "text/html": [
       "<strong id=\"expr\">expr:</strong> <a class=\"ProveItLink\" href=\"expr.ipynb\"><img src=\"expr.png\" style=\"display:inline;vertical-align:middle;\" /></a><br>"
      ],
      "text/plain": [
       "expr: forall_{y_{1}, ..y_{_a}.., y_{n}} (P(y_{1}, ..y_{_a}.., y_{n}) =>  \\\\ [exists_{x_{1}, ..x_{_a}.., x_{n}} P(x_{1}, ..x_{_a}.., x_{n})])"
      ]
     },
     "execution_count": 2,
     "metadata": {},
     "output_type": "execute_result"
    }
   ],
   "source": [
    "# build up the expression from sub-expressions\n",
    "expr = Forall([y_1_to_n], Implies(P__y_1_to_n, general_exists_Px).with_wrapping_at(2))"
   ]
  },
  {
   "cell_type": "code",
   "execution_count": 3,
   "metadata": {},
   "outputs": [
    {
     "name": "stdout",
     "output_type": "stream",
     "text": [
      "Passed sanity check: expr matches stored_expr\n"
     ]
    }
   ],
   "source": [
    "# check that the built expression is the same as the stored expression\n",
    "assert expr == stored_expr\n",
    "assert expr._style_id == stored_expr._style_id\n",
    "print(\"Passed sanity check: expr matches stored_expr\")"
   ]
  },
  {
   "cell_type": "code",
   "execution_count": 4,
   "metadata": {},
   "outputs": [
    {
     "name": "stdout",
     "output_type": "stream",
     "text": [
      "\\forall_{y_{1}, \\ldots, y_{n}}~\\left(\\begin{array}{c} P(y_{1}, \\ldots, y_{n}) \\Rightarrow  \\\\ \\left[\\exists_{x_{1}, \\ldots, x_{n}}~P(x_{1}, \\ldots, x_{n})\\right] \\end{array}\\right)\n"
     ]
    }
   ],
   "source": [
    "# Show the LaTeX representation of the expression for convenience if you need it.\n",
    "print(expr.latex())"
   ]
  },
  {
   "cell_type": "code",
   "execution_count": 5,
   "metadata": {},
   "outputs": [
    {
     "data": {
      "text/html": [
       "<table><tr><th>&nbsp;</th><th>core type</th><th>sub-expressions</th><th>expression</th></tr>\n",
       "<tr><td>0</td><td>Operation</td><td>operator:&nbsp;1<br>operand:&nbsp;2<br></td><td><a class=\"ProveItLink\" href=\"expr.ipynb\"><img src=\"expr.png\" style=\"display:inline;vertical-align:middle;\" /></a></td></tr>\n",
       "<tr><td>1</td><td>Literal</td><td></td><td><a class=\"ProveItLink\" href=\"../../../../universality/__pv_it/common/083d2baa0b8ecab1d230f9ec29a15aa1355809fb0/expr.ipynb\"><img src=\"../../../../universality/__pv_it/common/083d2baa0b8ecab1d230f9ec29a15aa1355809fb0/expr.png\" style=\"display:inline;vertical-align:middle;\" /></a></td></tr>\n",
       "<tr><td>2</td><td>Lambda</td><td>parameters:&nbsp;8<br>body:&nbsp;3<br></td><td><a class=\"ProveItLink\" href=\"../dcf3fa839853b1e67b829170a6ba0dd1dc9dd4f20/expr.ipynb\"><img src=\"../dcf3fa839853b1e67b829170a6ba0dd1dc9dd4f20/expr.png\" style=\"display:inline;vertical-align:middle;\" /></a></td></tr>\n",
       "<tr><td>3</td><td>Operation</td><td>operator:&nbsp;4<br>operands:&nbsp;5<br></td><td><a class=\"ProveItLink\" href=\"../41005ba675cd220421a49daf21736db840bcd6fd0/expr.ipynb\"><img src=\"../41005ba675cd220421a49daf21736db840bcd6fd0/expr.png\" style=\"display:inline;vertical-align:middle;\" /></a></td></tr>\n",
       "<tr><td>4</td><td>Literal</td><td></td><td><a class=\"ProveItLink\" href=\"../../../../../implication/__pv_it/common/02bdb382575728da8cdbaed545b9096ea7a1bd5b0/expr.ipynb\"><img src=\"../../../../../implication/__pv_it/common/02bdb382575728da8cdbaed545b9096ea7a1bd5b0/expr.png\" style=\"display:inline;vertical-align:middle;\" /></a></td></tr>\n",
       "<tr><td>5</td><td>ExprTuple</td><td>6, 7</td><td><a class=\"ProveItLink\" href=\"../69735bf4a7718973c465b1ecd92f80c57df7ac3b0/expr.ipynb\"><img src=\"../69735bf4a7718973c465b1ecd92f80c57df7ac3b0/expr.png\" style=\"display:inline;vertical-align:middle;\" /></a></td></tr>\n",
       "<tr><td>6</td><td>Operation</td><td>operator:&nbsp;14<br>operands:&nbsp;8<br></td><td><a class=\"ProveItLink\" href=\"../../../../../../../core_expr_types/__pv_it/common/bfbf03bdc458628005bdae805200d6ed0937b9a20/expr.ipynb\"><img src=\"../../../../../../../core_expr_types/__pv_it/common/bfbf03bdc458628005bdae805200d6ed0937b9a20/expr.png\" style=\"display:inline;vertical-align:middle;\" /></a></td></tr>\n",
       "<tr><td>7</td><td>Operation</td><td>operator:&nbsp;9<br>operand:&nbsp;10<br></td><td><a class=\"ProveItLink\" href=\"../../../../__pv_it/common/d7e65d40f8a8bba66eedb8266b29241dadc19ca00/expr.ipynb\"><img src=\"../../../../__pv_it/common/d7e65d40f8a8bba66eedb8266b29241dadc19ca00/expr.png\" style=\"display:inline;vertical-align:middle;\" /></a></td></tr>\n",
       "<tr><td>8</td><td>ExprTuple</td><td>11</td><td><a class=\"ProveItLink\" href=\"../../../../../../../core_expr_types/__pv_it/common/7825d99ba871f39ec9e174832f4965ad6a4a6c920/expr.ipynb\"><img src=\"../../../../../../../core_expr_types/__pv_it/common/7825d99ba871f39ec9e174832f4965ad6a4a6c920/expr.png\" style=\"display:inline;vertical-align:middle;\" /></a></td></tr>\n",
       "<tr><td>9</td><td>Literal</td><td></td><td><a class=\"ProveItLink\" href=\"../../common/fedc3809ed9823aab11264c156786a59540352e70/expr.ipynb\"><img src=\"../../common/fedc3809ed9823aab11264c156786a59540352e70/expr.png\" style=\"display:inline;vertical-align:middle;\" /></a></td></tr>\n",
       "<tr><td>10</td><td>Lambda</td><td>parameters:&nbsp;15<br>body:&nbsp;12<br></td><td><a class=\"ProveItLink\" href=\"../../../../__pv_it/common/12d3b62373d4ad3b9151ee6348d2ea255046c6e40/expr.ipynb\"><img src=\"../../../../__pv_it/common/12d3b62373d4ad3b9151ee6348d2ea255046c6e40/expr.png\" style=\"display:inline;vertical-align:middle;\" /></a></td></tr>\n",
       "<tr><td>11</td><td>ExprRange</td><td>lambda_map:&nbsp;13<br>start_index:&nbsp;20<br>end_index:&nbsp;21<br></td><td><a class=\"ProveItLink\" href=\"../../../../../../../core_expr_types/__pv_it/common/83815096a81411f4169bd53199aa8541663848780/expr.ipynb\"><img src=\"../../../../../../../core_expr_types/__pv_it/common/83815096a81411f4169bd53199aa8541663848780/expr.png\" style=\"display:inline;vertical-align:middle;\" /></a></td></tr>\n",
       "<tr><td>12</td><td>Operation</td><td>operator:&nbsp;14<br>operands:&nbsp;15<br></td><td><a class=\"ProveItLink\" href=\"../../../../../../../core_expr_types/__pv_it/common/7fe1cafd85086b369e0eb3fc99bdc80bc0cc23a20/expr.ipynb\"><img src=\"../../../../../../../core_expr_types/__pv_it/common/7fe1cafd85086b369e0eb3fc99bdc80bc0cc23a20/expr.png\" style=\"display:inline;vertical-align:middle;\" /></a></td></tr>\n",
       "<tr><td>13</td><td>Lambda</td><td>parameter:&nbsp;24<br>body:&nbsp;16<br></td><td><a class=\"ProveItLink\" href=\"../../../../../../../core_expr_types/__pv_it/common/e78a05a30384462aa15ec8190735b4d58ac945690/expr.ipynb\"><img src=\"../../../../../../../core_expr_types/__pv_it/common/e78a05a30384462aa15ec8190735b4d58ac945690/expr.png\" style=\"display:inline;vertical-align:middle;\" /></a></td></tr>\n",
       "<tr><td>14</td><td>Variable</td><td></td><td><a class=\"ProveItLink\" href=\"../../../../../../../__pv_it/common/de55da274ba0f49c86925fbf3828021c04d27faf0/expr.ipynb\"><img src=\"../../../../../../../__pv_it/common/de55da274ba0f49c86925fbf3828021c04d27faf0/expr.png\" style=\"display:inline;vertical-align:middle;\" /></a></td></tr>\n",
       "<tr><td>15</td><td>ExprTuple</td><td>17</td><td><a class=\"ProveItLink\" href=\"../../../../../../../core_expr_types/__pv_it/common/bc5a51653f81549e556d6290bca69fc284f6a01a0/expr.ipynb\"><img src=\"../../../../../../../core_expr_types/__pv_it/common/bc5a51653f81549e556d6290bca69fc284f6a01a0/expr.png\" style=\"display:inline;vertical-align:middle;\" /></a></td></tr>\n",
       "<tr><td>16</td><td>IndexedVar</td><td>variable:&nbsp;18<br>index:&nbsp;24<br></td><td><a class=\"ProveItLink\" href=\"../../../../../../../core_expr_types/__pv_it/common/bae00704f4077d282c1ca22cbc3aecae7393f3dc0/expr.ipynb\"><img src=\"../../../../../../../core_expr_types/__pv_it/common/bae00704f4077d282c1ca22cbc3aecae7393f3dc0/expr.png\" style=\"display:inline;vertical-align:middle;\" /></a></td></tr>\n",
       "<tr><td>17</td><td>ExprRange</td><td>lambda_map:&nbsp;19<br>start_index:&nbsp;20<br>end_index:&nbsp;21<br></td><td><a class=\"ProveItLink\" href=\"../../../../../../../core_expr_types/__pv_it/common/450167a24f71fe5474c458dd6e7d0df5b127faa80/expr.ipynb\"><img src=\"../../../../../../../core_expr_types/__pv_it/common/450167a24f71fe5474c458dd6e7d0df5b127faa80/expr.png\" style=\"display:inline;vertical-align:middle;\" /></a></td></tr>\n",
       "<tr><td>18</td><td>Variable</td><td></td><td><a class=\"ProveItLink\" href=\"../../../../../../../__pv_it/common/ff7dba4ef0bbe791ab573bf2d9c220a304399ac80/expr.ipynb\"><img src=\"../../../../../../../__pv_it/common/ff7dba4ef0bbe791ab573bf2d9c220a304399ac80/expr.png\" style=\"display:inline;vertical-align:middle;\" /></a></td></tr>\n",
       "<tr><td>19</td><td>Lambda</td><td>parameter:&nbsp;24<br>body:&nbsp;22<br></td><td><a class=\"ProveItLink\" href=\"../../../../../../../core_expr_types/__pv_it/common/3d60e3d4d9f83b7d879c0d18fec5b16b4aa6e4690/expr.ipynb\"><img src=\"../../../../../../../core_expr_types/__pv_it/common/3d60e3d4d9f83b7d879c0d18fec5b16b4aa6e4690/expr.png\" style=\"display:inline;vertical-align:middle;\" /></a></td></tr>\n",
       "<tr><td>20</td><td>Literal</td><td></td><td><a class=\"ProveItLink\" href=\"../../../../../../../numbers/numerals/__pv_it/common/2778428c7f555b2bdc06aa0530bc142c6e6335100/expr.ipynb\"><img src=\"../../../../../../../numbers/numerals/__pv_it/common/2778428c7f555b2bdc06aa0530bc142c6e6335100/expr.png\" style=\"display:inline;vertical-align:middle;\" /></a></td></tr>\n",
       "<tr><td>21</td><td>Variable</td><td></td><td><a class=\"ProveItLink\" href=\"../../../../../../../__pv_it/common/8968bb04eb3f7dfa02353397ce929b025bbd79c20/expr.ipynb\"><img src=\"../../../../../../../__pv_it/common/8968bb04eb3f7dfa02353397ce929b025bbd79c20/expr.png\" style=\"display:inline;vertical-align:middle;\" /></a></td></tr>\n",
       "<tr><td>22</td><td>IndexedVar</td><td>variable:&nbsp;23<br>index:&nbsp;24<br></td><td><a class=\"ProveItLink\" href=\"../../../../../../../core_expr_types/__pv_it/common/257cd3299a4ed17f19c9fc89f960a93cbda02b550/expr.ipynb\"><img src=\"../../../../../../../core_expr_types/__pv_it/common/257cd3299a4ed17f19c9fc89f960a93cbda02b550/expr.png\" style=\"display:inline;vertical-align:middle;\" /></a></td></tr>\n",
       "<tr><td>23</td><td>Variable</td><td></td><td><a class=\"ProveItLink\" href=\"../../../../../../../__pv_it/common/a0d9d672aa5e272d907247690c152cc2c6daafb70/expr.ipynb\"><img src=\"../../../../../../../__pv_it/common/a0d9d672aa5e272d907247690c152cc2c6daafb70/expr.png\" style=\"display:inline;vertical-align:middle;\" /></a></td></tr>\n",
       "<tr><td>24</td><td>Variable</td><td></td><td><a class=\"ProveItLink\" href=\"../../../../../../../core_expr_types/__pv_it/common/006c465e50948aa2b52285e2de47974f741255cc0/expr.ipynb\"><img src=\"../../../../../../../core_expr_types/__pv_it/common/006c465e50948aa2b52285e2de47974f741255cc0/expr.png\" style=\"display:inline;vertical-align:middle;\" /></a></td></tr>\n",
       "</table>\n"
      ],
      "text/plain": [
       "0. forall_{y_{1}, ..y_{_a}.., y_{n}} (P(y_{1}, ..y_{_a}.., y_{n}) =>  \\\\ [exists_{x_{1}, ..x_{_a}.., x_{n}} P(x_{1}, ..x_{_a}.., x_{n})])\n",
       "   core type: Operation\n",
       "   operator: 1\n",
       "   operand: 2\n",
       "1. forall\n",
       "   core type: Literal\n",
       "   sub-expressions: \n",
       "2. (y_{1}, ..y_{_a}.., y_{n}) -> (P(y_{1}, ..y_{_a}.., y_{n}) =>  \\\\ [exists_{x_{1}, ..x_{_a}.., x_{n}} P(x_{1}, ..x_{_a}.., x_{n})])\n",
       "   core type: Lambda\n",
       "   parameters: 8\\n   body: 3\n",
       "3. P(y_{1}, ..y_{_a}.., y_{n}) =>  \\\\ [exists_{x_{1}, ..x_{_a}.., x_{n}} P(x_{1}, ..x_{_a}.., x_{n})]\n",
       "   core type: Operation\n",
       "   operator: 4\n",
       "   operands: 5\n",
       "4. =>\n",
       "   core type: Literal\n",
       "   sub-expressions: \n",
       "5. (P(y_{1}, ..y_{_a}.., y_{n}), exists_{x_{1}, ..x_{_a}.., x_{n}} P(x_{1}, ..x_{_a}.., x_{n}))\n",
       "   core type: ExprTuple\n",
       "   sub-expressions: 6, 7\n",
       "6. P(y_{1}, ..y_{_a}.., y_{n})\n",
       "   core type: Operation\n",
       "   operator: 14\n",
       "   operands: 8\n",
       "7. exists_{x_{1}, ..x_{_a}.., x_{n}} P(x_{1}, ..x_{_a}.., x_{n})\n",
       "   core type: Operation\n",
       "   operator: 9\n",
       "   operand: 10\n",
       "8. (y_{1}, ..y_{_a}.., y_{n})\n",
       "   core type: ExprTuple\n",
       "   sub-expressions: 11\n",
       "9. exists\n",
       "   core type: Literal\n",
       "   sub-expressions: \n",
       "10. (x_{1}, ..x_{_a}.., x_{n}) -> P(x_{1}, ..x_{_a}.., x_{n})\n",
       "    core type: Lambda\n",
       "    parameters: 15\\n    body: 12\n",
       "11. y_{1}, ..y_{_a}.., y_{n}\n",
       "    core type: ExprRange\n",
       "    lambda_map: 13\n",
       "    start_index: 20\n",
       "    end_index: 21\n",
       "12. P(x_{1}, ..x_{_a}.., x_{n})\n",
       "    core type: Operation\n",
       "    operator: 14\n",
       "    operands: 15\n",
       "13. _a -> y_{_a}\n",
       "    core type: Lambda\n",
       "    parameter: 24\n",
       "    body: 16\n",
       "14. P\n",
       "    core type: Variable\n",
       "    sub-expressions: \n",
       "15. (x_{1}, ..x_{_a}.., x_{n})\n",
       "    core type: ExprTuple\n",
       "    sub-expressions: 17\n",
       "16. y_{_a}\n",
       "    core type: IndexedVar\n",
       "variable: 18\n",
       "index: 24\n",
       "17. x_{1}, ..x_{_a}.., x_{n}\n",
       "    core type: ExprRange\n",
       "    lambda_map: 19\n",
       "    start_index: 20\n",
       "    end_index: 21\n",
       "18. y\n",
       "    core type: Variable\n",
       "    sub-expressions: \n",
       "19. _a -> x_{_a}\n",
       "    core type: Lambda\n",
       "    parameter: 24\n",
       "    body: 22\n",
       "20. 1\n",
       "    core type: Literal\n",
       "    sub-expressions: \n",
       "21. n\n",
       "    core type: Variable\n",
       "    sub-expressions: \n",
       "22. x_{_a}\n",
       "    core type: IndexedVar\n",
       "variable: 23\n",
       "index: 24\n",
       "23. x\n",
       "    core type: Variable\n",
       "    sub-expressions: \n",
       "24. _a\n",
       "    core type: Variable\n",
       "    sub-expressions: "
      ]
     },
     "execution_count": 5,
     "metadata": {},
     "output_type": "execute_result"
    }
   ],
   "source": [
    "# display the expression information\n",
    "expr.expr_info()"
   ]
  },
  {
   "cell_type": "code",
   "execution_count": null,
   "metadata": {},
   "outputs": [],
   "source": []
  }
 ],
 "metadata": {
  "kernelspec": {
   "display_name": "Python 3",
   "language": "python",
   "name": "python3"
  }
 },
 "nbformat": 4,
 "nbformat_minor": 0
}