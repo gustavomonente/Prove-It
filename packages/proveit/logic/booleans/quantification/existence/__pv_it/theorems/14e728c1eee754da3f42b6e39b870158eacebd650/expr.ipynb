{
 "cells": [
  {
   "cell_type": "markdown",
   "metadata": {},
   "source": [
    "Expression of type <a class=\"ProveItLink\" href=\"../../../../../../../../../doc/html/api/proveit.ExprTuple.html\">ExprTuple</a>\n",
    "=======================\n",
    "# from the theory of <a class=\"ProveItLink\" href=\"../../../_theory_nbs_/theory.ipynb\">proveit.logic.booleans.quantification.existence</a>"
   ]
  },
  {
   "cell_type": "code",
   "execution_count": 1,
   "metadata": {},
   "outputs": [],
   "source": [
    "import proveit\n",
    "# Automation is not needed when building an expression:\n",
    "proveit.defaults.automation = False # This will speed things up.\n",
    "proveit.defaults.inline_pngs = False # Makes files smaller.\n",
    "%load_expr # Load the stored expression as 'stored_expr'\n",
    "# import Expression classes needed to build the expression\n",
    "from proveit import ExprTuple\n",
    "from proveit.logic.booleans.quantification import general_exists_in_A_Px, general_exists_in_B_Py"
   ]
  },
  {
   "cell_type": "code",
   "execution_count": 2,
   "metadata": {},
   "outputs": [
    {
     "data": {
      "text/html": [
       "<strong id=\"expr\">expr:</strong> <a class=\"ProveItLink\" href=\"expr.ipynb\"><img src=\"expr.png\" style=\"display:inline;vertical-align:middle;\" /></a><br>"
      ],
      "text/plain": [
       "expr: (exists_{x_{1}, ..x_{_a}.., x_{n} in A} P(x_{1}, ..x_{_a}.., x_{n}), exists_{y_{1}, ..y_{_a}.., y_{n} in B} P(y_{1}, ..y_{_a}.., y_{n}))"
      ]
     },
     "execution_count": 2,
     "metadata": {},
     "output_type": "execute_result"
    }
   ],
   "source": [
    "# build up the expression from sub-expressions\n",
    "expr = ExprTuple(general_exists_in_A_Px, general_exists_in_B_Py)"
   ]
  },
  {
   "cell_type": "code",
   "execution_count": 3,
   "metadata": {},
   "outputs": [
    {
     "name": "stdout",
     "output_type": "stream",
     "text": [
      "Passed sanity check: expr matches stored_expr\n"
     ]
    }
   ],
   "source": [
    "# check that the built expression is the same as the stored expression\n",
    "assert expr == stored_expr\n",
    "assert expr._style_id == stored_expr._style_id\n",
    "print(\"Passed sanity check: expr matches stored_expr\")"
   ]
  },
  {
   "cell_type": "code",
   "execution_count": 4,
   "metadata": {},
   "outputs": [
    {
     "name": "stdout",
     "output_type": "stream",
     "text": [
      "\\left(\\exists_{x_{1}, \\ldots, x_{n} \\in A}~P(x_{1}, \\ldots, x_{n}), \\exists_{y_{1}, \\ldots, y_{n} \\in B}~P(y_{1}, \\ldots, y_{n})\\right)\n"
     ]
    }
   ],
   "source": [
    "# Show the LaTeX representation of the expression for convenience if you need it.\n",
    "print(expr.latex())"
   ]
  },
  {
   "cell_type": "code",
   "execution_count": 5,
   "metadata": {},
   "outputs": [
    {
     "data": {
      "text/html": [
       "<table><tr><th>&nbsp;</th><th>core type</th><th>sub-expressions</th><th>expression</th></tr>\n",
       "<tr><td>0</td><td>ExprTuple</td><td>1, 2</td><td><a class=\"ProveItLink\" href=\"expr.ipynb\"><img src=\"expr.png\" style=\"display:inline;vertical-align:middle;\" /></a></td></tr>\n",
       "<tr><td>1</td><td>Operation</td><td>operator:&nbsp;4<br>operand:&nbsp;3<br></td><td><a class=\"ProveItLink\" href=\"../../../../__pv_it/common/81f156a9ab12f0ad5553b4557d3d5e07eb62ea570/expr.ipynb\"><img src=\"../../../../__pv_it/common/81f156a9ab12f0ad5553b4557d3d5e07eb62ea570/expr.png\" style=\"display:inline;vertical-align:middle;\" /></a></td></tr>\n",
       "<tr><td>2</td><td>Operation</td><td>operator:&nbsp;4<br>operand:&nbsp;5<br></td><td><a class=\"ProveItLink\" href=\"../../../../__pv_it/common/fbcabf8e847b374e5eed7cc8fdd07dc7f03dbb750/expr.ipynb\"><img src=\"../../../../__pv_it/common/fbcabf8e847b374e5eed7cc8fdd07dc7f03dbb750/expr.png\" style=\"display:inline;vertical-align:middle;\" /></a></td></tr>\n",
       "<tr><td>3</td><td>Lambda</td><td>parameters:&nbsp;12<br>body:&nbsp;6<br></td><td><a class=\"ProveItLink\" href=\"../../../../__pv_it/common/b48a595d6bc0d2efd487a5b9186fe296176233b00/expr.ipynb\"><img src=\"../../../../__pv_it/common/b48a595d6bc0d2efd487a5b9186fe296176233b00/expr.png\" style=\"display:inline;vertical-align:middle;\" /></a></td></tr>\n",
       "<tr><td>4</td><td>Literal</td><td></td><td><a class=\"ProveItLink\" href=\"../../common/fedc3809ed9823aab11264c156786a59540352e70/expr.ipynb\"><img src=\"../../common/fedc3809ed9823aab11264c156786a59540352e70/expr.png\" style=\"display:inline;vertical-align:middle;\" /></a></td></tr>\n",
       "<tr><td>5</td><td>Lambda</td><td>parameters:&nbsp;15<br>body:&nbsp;7<br></td><td><a class=\"ProveItLink\" href=\"../../../../__pv_it/common/67e91c99b91dbc877b6f00e1596498cf43266eb30/expr.ipynb\"><img src=\"../../../../__pv_it/common/67e91c99b91dbc877b6f00e1596498cf43266eb30/expr.png\" style=\"display:inline;vertical-align:middle;\" /></a></td></tr>\n",
       "<tr><td>6</td><td>Conditional</td><td>value:&nbsp;8<br>condition:&nbsp;9<br></td><td><a class=\"ProveItLink\" href=\"../../../../__pv_it/common/b0c1fb8a15ceb3995f0d1c568be42a126120a7040/expr.ipynb\"><img src=\"../../../../__pv_it/common/b0c1fb8a15ceb3995f0d1c568be42a126120a7040/expr.png\" style=\"display:inline;vertical-align:middle;\" /></a></td></tr>\n",
       "<tr><td>7</td><td>Conditional</td><td>value:&nbsp;10<br>condition:&nbsp;11<br></td><td><a class=\"ProveItLink\" href=\"../../../../__pv_it/common/d2070e4cb3f3a564deb0eb4ecb0c660816b366820/expr.ipynb\"><img src=\"../../../../__pv_it/common/d2070e4cb3f3a564deb0eb4ecb0c660816b366820/expr.png\" style=\"display:inline;vertical-align:middle;\" /></a></td></tr>\n",
       "<tr><td>8</td><td>Operation</td><td>operator:&nbsp;14<br>operands:&nbsp;12<br></td><td><a class=\"ProveItLink\" href=\"../../../../../../../core_expr_types/__pv_it/common/7fe1cafd85086b369e0eb3fc99bdc80bc0cc23a20/expr.ipynb\"><img src=\"../../../../../../../core_expr_types/__pv_it/common/7fe1cafd85086b369e0eb3fc99bdc80bc0cc23a20/expr.png\" style=\"display:inline;vertical-align:middle;\" /></a></td></tr>\n",
       "<tr><td>9</td><td>Operation</td><td>operator:&nbsp;16<br>operands:&nbsp;13<br></td><td><a class=\"ProveItLink\" href=\"../../../../__pv_it/common/9d507297d0cb869d86ec34b0abd1be82504cf4bf0/expr.ipynb\"><img src=\"../../../../__pv_it/common/9d507297d0cb869d86ec34b0abd1be82504cf4bf0/expr.png\" style=\"display:inline;vertical-align:middle;\" /></a></td></tr>\n",
       "<tr><td>10</td><td>Operation</td><td>operator:&nbsp;14<br>operands:&nbsp;15<br></td><td><a class=\"ProveItLink\" href=\"../../../../../../../core_expr_types/__pv_it/common/bfbf03bdc458628005bdae805200d6ed0937b9a20/expr.ipynb\"><img src=\"../../../../../../../core_expr_types/__pv_it/common/bfbf03bdc458628005bdae805200d6ed0937b9a20/expr.png\" style=\"display:inline;vertical-align:middle;\" /></a></td></tr>\n",
       "<tr><td>11</td><td>Operation</td><td>operator:&nbsp;16<br>operands:&nbsp;17<br></td><td><a class=\"ProveItLink\" href=\"../../../../__pv_it/common/2bc2cb44aba7e41022cb55dc783231ad133bd9a00/expr.ipynb\"><img src=\"../../../../__pv_it/common/2bc2cb44aba7e41022cb55dc783231ad133bd9a00/expr.png\" style=\"display:inline;vertical-align:middle;\" /></a></td></tr>\n",
       "<tr><td>12</td><td>ExprTuple</td><td>18</td><td><a class=\"ProveItLink\" href=\"../../../../../../../core_expr_types/__pv_it/common/bc5a51653f81549e556d6290bca69fc284f6a01a0/expr.ipynb\"><img src=\"../../../../../../../core_expr_types/__pv_it/common/bc5a51653f81549e556d6290bca69fc284f6a01a0/expr.png\" style=\"display:inline;vertical-align:middle;\" /></a></td></tr>\n",
       "<tr><td>13</td><td>ExprTuple</td><td>19</td><td><a class=\"ProveItLink\" href=\"../../../../__pv_it/common/47f58aa86cfbfebf20d73e57db30b0400a861fbe0/expr.ipynb\"><img src=\"../../../../__pv_it/common/47f58aa86cfbfebf20d73e57db30b0400a861fbe0/expr.png\" style=\"display:inline;vertical-align:middle;\" /></a></td></tr>\n",
       "<tr><td>14</td><td>Variable</td><td></td><td><a class=\"ProveItLink\" href=\"../../../../../../../__pv_it/common/de55da274ba0f49c86925fbf3828021c04d27faf0/expr.ipynb\"><img src=\"../../../../../../../__pv_it/common/de55da274ba0f49c86925fbf3828021c04d27faf0/expr.png\" style=\"display:inline;vertical-align:middle;\" /></a></td></tr>\n",
       "<tr><td>15</td><td>ExprTuple</td><td>20</td><td><a class=\"ProveItLink\" href=\"../../../../../../../core_expr_types/__pv_it/common/7825d99ba871f39ec9e174832f4965ad6a4a6c920/expr.ipynb\"><img src=\"../../../../../../../core_expr_types/__pv_it/common/7825d99ba871f39ec9e174832f4965ad6a4a6c920/expr.png\" style=\"display:inline;vertical-align:middle;\" /></a></td></tr>\n",
       "<tr><td>16</td><td>Literal</td><td></td><td><a class=\"ProveItLink\" href=\"../../../../../conjunction/__pv_it/common/42118ff318bd65d98b1393f64ce7c2269feef76e0/expr.ipynb\"><img src=\"../../../../../conjunction/__pv_it/common/42118ff318bd65d98b1393f64ce7c2269feef76e0/expr.png\" style=\"display:inline;vertical-align:middle;\" /></a></td></tr>\n",
       "<tr><td>17</td><td>ExprTuple</td><td>21</td><td><a class=\"ProveItLink\" href=\"../../../../__pv_it/common/cf96c3ade25cef0f80da24bafc83e73f4401b89f0/expr.ipynb\"><img src=\"../../../../__pv_it/common/cf96c3ade25cef0f80da24bafc83e73f4401b89f0/expr.png\" style=\"display:inline;vertical-align:middle;\" /></a></td></tr>\n",
       "<tr><td>18</td><td>ExprRange</td><td>lambda_map:&nbsp;22<br>start_index:&nbsp;26<br>end_index:&nbsp;27<br></td><td><a class=\"ProveItLink\" href=\"../../../../../../../core_expr_types/__pv_it/common/450167a24f71fe5474c458dd6e7d0df5b127faa80/expr.ipynb\"><img src=\"../../../../../../../core_expr_types/__pv_it/common/450167a24f71fe5474c458dd6e7d0df5b127faa80/expr.png\" style=\"display:inline;vertical-align:middle;\" /></a></td></tr>\n",
       "<tr><td>19</td><td>ExprRange</td><td>lambda_map:&nbsp;23<br>start_index:&nbsp;26<br>end_index:&nbsp;27<br></td><td><a class=\"ProveItLink\" href=\"../../../../__pv_it/common/6bee7b9bdd2db5e210f29537b1f2099156efb90c0/expr.ipynb\"><img src=\"../../../../__pv_it/common/6bee7b9bdd2db5e210f29537b1f2099156efb90c0/expr.png\" style=\"display:inline;vertical-align:middle;\" /></a></td></tr>\n",
       "<tr><td>20</td><td>ExprRange</td><td>lambda_map:&nbsp;24<br>start_index:&nbsp;26<br>end_index:&nbsp;27<br></td><td><a class=\"ProveItLink\" href=\"../../../../../../../core_expr_types/__pv_it/common/83815096a81411f4169bd53199aa8541663848780/expr.ipynb\"><img src=\"../../../../../../../core_expr_types/__pv_it/common/83815096a81411f4169bd53199aa8541663848780/expr.png\" style=\"display:inline;vertical-align:middle;\" /></a></td></tr>\n",
       "<tr><td>21</td><td>ExprRange</td><td>lambda_map:&nbsp;25<br>start_index:&nbsp;26<br>end_index:&nbsp;27<br></td><td><a class=\"ProveItLink\" href=\"../../../../__pv_it/common/2e894b1fd42abfcd43e7c7686b0a879dd3728c150/expr.ipynb\"><img src=\"../../../../__pv_it/common/2e894b1fd42abfcd43e7c7686b0a879dd3728c150/expr.png\" style=\"display:inline;vertical-align:middle;\" /></a></td></tr>\n",
       "<tr><td>22</td><td>Lambda</td><td>parameter:&nbsp;39<br>body:&nbsp;33<br></td><td><a class=\"ProveItLink\" href=\"../../../../../../../core_expr_types/__pv_it/common/3d60e3d4d9f83b7d879c0d18fec5b16b4aa6e4690/expr.ipynb\"><img src=\"../../../../../../../core_expr_types/__pv_it/common/3d60e3d4d9f83b7d879c0d18fec5b16b4aa6e4690/expr.png\" style=\"display:inline;vertical-align:middle;\" /></a></td></tr>\n",
       "<tr><td>23</td><td>Lambda</td><td>parameter:&nbsp;39<br>body:&nbsp;28<br></td><td><a class=\"ProveItLink\" href=\"../../../../__pv_it/common/52ff4f475cf518461d9ce18fbb729001c9d76d710/expr.ipynb\"><img src=\"../../../../__pv_it/common/52ff4f475cf518461d9ce18fbb729001c9d76d710/expr.png\" style=\"display:inline;vertical-align:middle;\" /></a></td></tr>\n",
       "<tr><td>24</td><td>Lambda</td><td>parameter:&nbsp;39<br>body:&nbsp;35<br></td><td><a class=\"ProveItLink\" href=\"../../../../../../../core_expr_types/__pv_it/common/e78a05a30384462aa15ec8190735b4d58ac945690/expr.ipynb\"><img src=\"../../../../../../../core_expr_types/__pv_it/common/e78a05a30384462aa15ec8190735b4d58ac945690/expr.png\" style=\"display:inline;vertical-align:middle;\" /></a></td></tr>\n",
       "<tr><td>25</td><td>Lambda</td><td>parameter:&nbsp;39<br>body:&nbsp;29<br></td><td><a class=\"ProveItLink\" href=\"../../../../__pv_it/common/8631030a0ac450ff07f8961e3166041310d539950/expr.ipynb\"><img src=\"../../../../__pv_it/common/8631030a0ac450ff07f8961e3166041310d539950/expr.png\" style=\"display:inline;vertical-align:middle;\" /></a></td></tr>\n",
       "<tr><td>26</td><td>Literal</td><td></td><td><a class=\"ProveItLink\" href=\"../../../../../../../numbers/numerals/__pv_it/common/2778428c7f555b2bdc06aa0530bc142c6e6335100/expr.ipynb\"><img src=\"../../../../../../../numbers/numerals/__pv_it/common/2778428c7f555b2bdc06aa0530bc142c6e6335100/expr.png\" style=\"display:inline;vertical-align:middle;\" /></a></td></tr>\n",
       "<tr><td>27</td><td>Variable</td><td></td><td><a class=\"ProveItLink\" href=\"../../../../../../../__pv_it/common/8968bb04eb3f7dfa02353397ce929b025bbd79c20/expr.ipynb\"><img src=\"../../../../../../../__pv_it/common/8968bb04eb3f7dfa02353397ce929b025bbd79c20/expr.png\" style=\"display:inline;vertical-align:middle;\" /></a></td></tr>\n",
       "<tr><td>28</td><td>Operation</td><td>operator:&nbsp;31<br>operands:&nbsp;30<br></td><td><a class=\"ProveItLink\" href=\"../../../../__pv_it/common/e939c4229292324b6e09bac0227942c9115f33520/expr.ipynb\"><img src=\"../../../../__pv_it/common/e939c4229292324b6e09bac0227942c9115f33520/expr.png\" style=\"display:inline;vertical-align:middle;\" /></a></td></tr>\n",
       "<tr><td>29</td><td>Operation</td><td>operator:&nbsp;31<br>operands:&nbsp;32<br></td><td><a class=\"ProveItLink\" href=\"../../../../__pv_it/common/8460161aeee7c0d53a20e04619c37f12b867991b0/expr.ipynb\"><img src=\"../../../../__pv_it/common/8460161aeee7c0d53a20e04619c37f12b867991b0/expr.png\" style=\"display:inline;vertical-align:middle;\" /></a></td></tr>\n",
       "<tr><td>30</td><td>ExprTuple</td><td>33, 34</td><td><a class=\"ProveItLink\" href=\"../../../../__pv_it/common/f799df77ac57fa3d9817fdab277d8fc4f83b9ec40/expr.ipynb\"><img src=\"../../../../__pv_it/common/f799df77ac57fa3d9817fdab277d8fc4f83b9ec40/expr.png\" style=\"display:inline;vertical-align:middle;\" /></a></td></tr>\n",
       "<tr><td>31</td><td>Literal</td><td></td><td><a class=\"ProveItLink\" href=\"../../../../../../sets/membership/__pv_it/common/477487d8796864d23d5810f83761435f25167f690/expr.ipynb\"><img src=\"../../../../../../sets/membership/__pv_it/common/477487d8796864d23d5810f83761435f25167f690/expr.png\" style=\"display:inline;vertical-align:middle;\" /></a></td></tr>\n",
       "<tr><td>32</td><td>ExprTuple</td><td>35, 36</td><td><a class=\"ProveItLink\" href=\"../../../../__pv_it/common/2e2a1f76da3681d2ff684dd4be36e23a75d2e83e0/expr.ipynb\"><img src=\"../../../../__pv_it/common/2e2a1f76da3681d2ff684dd4be36e23a75d2e83e0/expr.png\" style=\"display:inline;vertical-align:middle;\" /></a></td></tr>\n",
       "<tr><td>33</td><td>IndexedVar</td><td>variable:&nbsp;37<br>index:&nbsp;39<br></td><td><a class=\"ProveItLink\" href=\"../../../../../../../core_expr_types/__pv_it/common/257cd3299a4ed17f19c9fc89f960a93cbda02b550/expr.ipynb\"><img src=\"../../../../../../../core_expr_types/__pv_it/common/257cd3299a4ed17f19c9fc89f960a93cbda02b550/expr.png\" style=\"display:inline;vertical-align:middle;\" /></a></td></tr>\n",
       "<tr><td>34</td><td>Variable</td><td></td><td><a class=\"ProveItLink\" href=\"../../../../../../../__pv_it/common/09585084922504426caf1db2ff588a23a0932a960/expr.ipynb\"><img src=\"../../../../../../../__pv_it/common/09585084922504426caf1db2ff588a23a0932a960/expr.png\" style=\"display:inline;vertical-align:middle;\" /></a></td></tr>\n",
       "<tr><td>35</td><td>IndexedVar</td><td>variable:&nbsp;38<br>index:&nbsp;39<br></td><td><a class=\"ProveItLink\" href=\"../../../../../../../core_expr_types/__pv_it/common/bae00704f4077d282c1ca22cbc3aecae7393f3dc0/expr.ipynb\"><img src=\"../../../../../../../core_expr_types/__pv_it/common/bae00704f4077d282c1ca22cbc3aecae7393f3dc0/expr.png\" style=\"display:inline;vertical-align:middle;\" /></a></td></tr>\n",
       "<tr><td>36</td><td>Variable</td><td></td><td><a class=\"ProveItLink\" href=\"../../../../../../../__pv_it/common/a9162d1c3cc0470c02e5daf414500903a7a419230/expr.ipynb\"><img src=\"../../../../../../../__pv_it/common/a9162d1c3cc0470c02e5daf414500903a7a419230/expr.png\" style=\"display:inline;vertical-align:middle;\" /></a></td></tr>\n",
       "<tr><td>37</td><td>Variable</td><td></td><td><a class=\"ProveItLink\" href=\"../../../../../../../__pv_it/common/a0d9d672aa5e272d907247690c152cc2c6daafb70/expr.ipynb\"><img src=\"../../../../../../../__pv_it/common/a0d9d672aa5e272d907247690c152cc2c6daafb70/expr.png\" style=\"display:inline;vertical-align:middle;\" /></a></td></tr>\n",
       "<tr><td>38</td><td>Variable</td><td></td><td><a class=\"ProveItLink\" href=\"../../../../../../../__pv_it/common/ff7dba4ef0bbe791ab573bf2d9c220a304399ac80/expr.ipynb\"><img src=\"../../../../../../../__pv_it/common/ff7dba4ef0bbe791ab573bf2d9c220a304399ac80/expr.png\" style=\"display:inline;vertical-align:middle;\" /></a></td></tr>\n",
       "<tr><td>39</td><td>Variable</td><td></td><td><a class=\"ProveItLink\" href=\"../../../../../../../core_expr_types/__pv_it/common/006c465e50948aa2b52285e2de47974f741255cc0/expr.ipynb\"><img src=\"../../../../../../../core_expr_types/__pv_it/common/006c465e50948aa2b52285e2de47974f741255cc0/expr.png\" style=\"display:inline;vertical-align:middle;\" /></a></td></tr>\n",
       "</table>\n"
      ],
      "text/plain": [
       "0. (exists_{x_{1}, ..x_{_a}.., x_{n} in A} P(x_{1}, ..x_{_a}.., x_{n}), exists_{y_{1}, ..y_{_a}.., y_{n} in B} P(y_{1}, ..y_{_a}.., y_{n}))\n",
       "   core type: ExprTuple\n",
       "   sub-expressions: 1, 2\n",
       "1. exists_{x_{1}, ..x_{_a}.., x_{n} in A} P(x_{1}, ..x_{_a}.., x_{n})\n",
       "   core type: Operation\n",
       "   operator: 4\n",
       "   operand: 3\n",
       "2. exists_{y_{1}, ..y_{_a}.., y_{n} in B} P(y_{1}, ..y_{_a}.., y_{n})\n",
       "   core type: Operation\n",
       "   operator: 4\n",
       "   operand: 5\n",
       "3. (x_{1}, ..x_{_a}.., x_{n}) -> {P(x_{1}, ..x_{_a}.., x_{n}) if (x_{1} in A) and ..(x_{_a} in A).. and (x_{n} in A).\n",
       "   core type: Lambda\n",
       "   parameters: 12\\n   body: 6\n",
       "4. exists\n",
       "   core type: Literal\n",
       "   sub-expressions: \n",
       "5. (y_{1}, ..y_{_a}.., y_{n}) -> {P(y_{1}, ..y_{_a}.., y_{n}) if (y_{1} in B) and ..(y_{_a} in B).. and (y_{n} in B).\n",
       "   core type: Lambda\n",
       "   parameters: 15\\n   body: 7\n",
       "6. {P(x_{1}, ..x_{_a}.., x_{n}) if (x_{1} in A) and ..(x_{_a} in A).. and (x_{n} in A).\n",
       "   core type: Conditional\n",
       "   value: 8\n",
       "   condition: 9\n",
       "7. {P(y_{1}, ..y_{_a}.., y_{n}) if (y_{1} in B) and ..(y_{_a} in B).. and (y_{n} in B).\n",
       "   core type: Conditional\n",
       "   value: 10\n",
       "   condition: 11\n",
       "8. P(x_{1}, ..x_{_a}.., x_{n})\n",
       "   core type: Operation\n",
       "   operator: 14\n",
       "   operands: 12\n",
       "9. (x_{1} in A) and ..(x_{_a} in A).. and (x_{n} in A)\n",
       "   core type: Operation\n",
       "   operator: 16\n",
       "   operands: 13\n",
       "10. P(y_{1}, ..y_{_a}.., y_{n})\n",
       "    core type: Operation\n",
       "    operator: 14\n",
       "    operands: 15\n",
       "11. (y_{1} in B) and ..(y_{_a} in B).. and (y_{n} in B)\n",
       "    core type: Operation\n",
       "    operator: 16\n",
       "    operands: 17\n",
       "12. (x_{1}, ..x_{_a}.., x_{n})\n",
       "    core type: ExprTuple\n",
       "    sub-expressions: 18\n",
       "13. (x_{1} in A, ..x_{_a} in A.., x_{n} in A)\n",
       "    core type: ExprTuple\n",
       "    sub-expressions: 19\n",
       "14. P\n",
       "    core type: Variable\n",
       "    sub-expressions: \n",
       "15. (y_{1}, ..y_{_a}.., y_{n})\n",
       "    core type: ExprTuple\n",
       "    sub-expressions: 20\n",
       "16. and\n",
       "    core type: Literal\n",
       "    sub-expressions: \n",
       "17. (y_{1} in B, ..y_{_a} in B.., y_{n} in B)\n",
       "    core type: ExprTuple\n",
       "    sub-expressions: 21\n",
       "18. x_{1}, ..x_{_a}.., x_{n}\n",
       "    core type: ExprRange\n",
       "    lambda_map: 22\n",
       "    start_index: 26\n",
       "    end_index: 27\n",
       "19. (x_{1} in A), ..(x_{_a} in A).., (x_{n} in A)\n",
       "    core type: ExprRange\n",
       "    lambda_map: 23\n",
       "    start_index: 26\n",
       "    end_index: 27\n",
       "20. y_{1}, ..y_{_a}.., y_{n}\n",
       "    core type: ExprRange\n",
       "    lambda_map: 24\n",
       "    start_index: 26\n",
       "    end_index: 27\n",
       "21. (y_{1} in B), ..(y_{_a} in B).., (y_{n} in B)\n",
       "    core type: ExprRange\n",
       "    lambda_map: 25\n",
       "    start_index: 26\n",
       "    end_index: 27\n",
       "22. _a -> x_{_a}\n",
       "    core type: Lambda\n",
       "    parameter: 39\n",
       "    body: 33\n",
       "23. _a -> (x_{_a} in A)\n",
       "    core type: Lambda\n",
       "    parameter: 39\n",
       "    body: 28\n",
       "24. _a -> y_{_a}\n",
       "    core type: Lambda\n",
       "    parameter: 39\n",
       "    body: 35\n",
       "25. _a -> (y_{_a} in B)\n",
       "    core type: Lambda\n",
       "    parameter: 39\n",
       "    body: 29\n",
       "26. 1\n",
       "    core type: Literal\n",
       "    sub-expressions: \n",
       "27. n\n",
       "    core type: Variable\n",
       "    sub-expressions: \n",
       "28. x_{_a} in A\n",
       "    core type: Operation\n",
       "    operator: 31\n",
       "    operands: 30\n",
       "29. y_{_a} in B\n",
       "    core type: Operation\n",
       "    operator: 31\n",
       "    operands: 32\n",
       "30. (x_{_a}, A)\n",
       "    core type: ExprTuple\n",
       "    sub-expressions: 33, 34\n",
       "31. in\n",
       "    core type: Literal\n",
       "    sub-expressions: \n",
       "32. (y_{_a}, B)\n",
       "    core type: ExprTuple\n",
       "    sub-expressions: 35, 36\n",
       "33. x_{_a}\n",
       "    core type: IndexedVar\n",
       "variable: 37\n",
       "index: 39\n",
       "34. A\n",
       "    core type: Variable\n",
       "    sub-expressions: \n",
       "35. y_{_a}\n",
       "    core type: IndexedVar\n",
       "variable: 38\n",
       "index: 39\n",
       "36. B\n",
       "    core type: Variable\n",
       "    sub-expressions: \n",
       "37. x\n",
       "    core type: Variable\n",
       "    sub-expressions: \n",
       "38. y\n",
       "    core type: Variable\n",
       "    sub-expressions: \n",
       "39. _a\n",
       "    core type: Variable\n",
       "    sub-expressions: "
      ]
     },
     "execution_count": 5,
     "metadata": {},
     "output_type": "execute_result"
    }
   ],
   "source": [
    "# display the expression information\n",
    "expr.expr_info()"
   ]
  },
  {
   "cell_type": "code",
   "execution_count": null,
   "metadata": {},
   "outputs": [],
   "source": []
  }
 ],
 "metadata": {
  "kernelspec": {
   "display_name": "Python 3",
   "language": "python",
   "name": "python3"
  }
 },
 "nbformat": 4,
 "nbformat_minor": 0
}