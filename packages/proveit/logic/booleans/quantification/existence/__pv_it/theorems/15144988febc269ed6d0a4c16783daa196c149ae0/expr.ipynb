{
 "cells": [
  {
   "cell_type": "markdown",
   "metadata": {},
   "source": [
    "Expression of type <a class=\"ProveItLink\" href=\"../../../../../../../../../doc/html/api/proveit.logic.Forall.html\">Forall</a>\n",
    "=======================\n",
    "# from the theory of <a class=\"ProveItLink\" href=\"../../../_theory_nbs_/theory.ipynb\">proveit.logic.booleans.quantification.existence</a>"
   ]
  },
  {
   "cell_type": "code",
   "execution_count": 1,
   "metadata": {},
   "outputs": [],
   "source": [
    "import proveit\n",
    "# Automation is not needed when building an expression:\n",
    "proveit.defaults.automation = False # This will speed things up.\n",
    "proveit.defaults.inline_pngs = False # Makes files smaller.\n",
    "%load_expr # Load the stored expression as 'stored_expr'\n",
    "# import Expression classes needed to build the expression\n",
    "from proveit import P, Q, alpha\n",
    "from proveit.core_expr_types import P__x_1_to_n, Q__x_1_to_n, x_1_to_n\n",
    "from proveit.logic import And, Forall, Implies\n",
    "from proveit.logic.booleans.quantification import general_exists_Py_st_Qy"
   ]
  },
  {
   "cell_type": "code",
   "execution_count": 2,
   "metadata": {},
   "outputs": [
    {
     "data": {
      "text/html": [
       "<strong id=\"expr\">expr:</strong> <a class=\"ProveItLink\" href=\"expr.ipynb\"><img src=\"expr.png\" style=\"display:inline;vertical-align:middle;\" /></a><br>"
      ],
      "text/plain": [
       "expr: forall_{P, Q} (([exists_{y_{1}, ..y_{_a}.., y_{n} | Q(y_{1}, ..y_{_a}.., y_{n})} P(y_{1}, ..y_{_a}.., y_{n})] and [forall_{x_{1}, ..x_{_a}.., x_{n} | Q(x_{1}, ..x_{_a}.., x_{n})} (P(x_{1}, ..x_{_a}.., x_{n}) => alpha)]) => alpha)"
      ]
     },
     "execution_count": 2,
     "metadata": {},
     "output_type": "execute_result"
    }
   ],
   "source": [
    "# build up the expression from sub-expressions\n",
    "expr = Forall([P, Q], Implies(And(general_exists_Py_st_Qy, Forall([x_1_to_n], Implies(P__x_1_to_n, alpha), condition = Q__x_1_to_n)), alpha))"
   ]
  },
  {
   "cell_type": "code",
   "execution_count": 3,
   "metadata": {},
   "outputs": [
    {
     "name": "stdout",
     "output_type": "stream",
     "text": [
      "Passed sanity check: expr matches stored_expr\n"
     ]
    }
   ],
   "source": [
    "# check that the built expression is the same as the stored expression\n",
    "assert expr == stored_expr\n",
    "assert expr._style_id == stored_expr._style_id\n",
    "print(\"Passed sanity check: expr matches stored_expr\")"
   ]
  },
  {
   "cell_type": "code",
   "execution_count": 4,
   "metadata": {},
   "outputs": [
    {
     "name": "stdout",
     "output_type": "stream",
     "text": [
      "\\forall_{P, Q}~\\left(\\left(\\left[\\exists_{y_{1}, \\ldots, y_{n}~|~Q(y_{1}, \\ldots, y_{n})}~P(y_{1}, \\ldots, y_{n})\\right] \\land \\left[\\forall_{x_{1}, \\ldots, x_{n}~|~Q(x_{1}, \\ldots, x_{n})}~\\left(P(x_{1}, \\ldots, x_{n}) \\Rightarrow \\alpha\\right)\\right]\\right) \\Rightarrow \\alpha\\right)\n"
     ]
    }
   ],
   "source": [
    "# Show the LaTeX representation of the expression for convenience if you need it.\n",
    "print(expr.latex())"
   ]
  },
  {
   "cell_type": "code",
   "execution_count": 5,
   "metadata": {},
   "outputs": [
    {
     "data": {
      "text/html": [
       "<table><tr><th>&nbsp;</th><th>core type</th><th>sub-expressions</th><th>expression</th></tr>\n",
       "<tr><td>0</td><td>Operation</td><td>operator:&nbsp;12<br>operand:&nbsp;1<br></td><td><a class=\"ProveItLink\" href=\"expr.ipynb\"><img src=\"expr.png\" style=\"display:inline;vertical-align:middle;\" /></a></td></tr>\n",
       "<tr><td>1</td><td>Lambda</td><td>parameters:&nbsp;2<br>body:&nbsp;3<br></td><td><a class=\"ProveItLink\" href=\"../ac582ce11420873b2dc06bd90811c45a881ce06a0/expr.ipynb\"><img src=\"../ac582ce11420873b2dc06bd90811c45a881ce06a0/expr.png\" style=\"display:inline;vertical-align:middle;\" /></a></td></tr>\n",
       "<tr><td>2</td><td>ExprTuple</td><td>28, 23</td><td><a class=\"ProveItLink\" href=\"../00f77196d611264a98752a66a912b8c36b7e38b70/expr.ipynb\"><img src=\"../00f77196d611264a98752a66a912b8c36b7e38b70/expr.png\" style=\"display:inline;vertical-align:middle;\" /></a></td></tr>\n",
       "<tr><td>3</td><td>Operation</td><td>operator:&nbsp;21<br>operands:&nbsp;4<br></td><td><a class=\"ProveItLink\" href=\"../1d2dc228e5561c392bb952035d2775fbaa5da6440/expr.ipynb\"><img src=\"../1d2dc228e5561c392bb952035d2775fbaa5da6440/expr.png\" style=\"display:inline;vertical-align:middle;\" /></a></td></tr>\n",
       "<tr><td>4</td><td>ExprTuple</td><td>5, 26</td><td><a class=\"ProveItLink\" href=\"../78fa19a25ce8f0903871ce7e21455f0ba44c76d80/expr.ipynb\"><img src=\"../78fa19a25ce8f0903871ce7e21455f0ba44c76d80/expr.png\" style=\"display:inline;vertical-align:middle;\" /></a></td></tr>\n",
       "<tr><td>5</td><td>Operation</td><td>operator:&nbsp;6<br>operands:&nbsp;7<br></td><td><a class=\"ProveItLink\" href=\"../6b17c937853a096b46961242ff5e48aead63e82f0/expr.ipynb\"><img src=\"../6b17c937853a096b46961242ff5e48aead63e82f0/expr.png\" style=\"display:inline;vertical-align:middle;\" /></a></td></tr>\n",
       "<tr><td>6</td><td>Literal</td><td></td><td><a class=\"ProveItLink\" href=\"../../../../../conjunction/__pv_it/common/42118ff318bd65d98b1393f64ce7c2269feef76e0/expr.ipynb\"><img src=\"../../../../../conjunction/__pv_it/common/42118ff318bd65d98b1393f64ce7c2269feef76e0/expr.png\" style=\"display:inline;vertical-align:middle;\" /></a></td></tr>\n",
       "<tr><td>7</td><td>ExprTuple</td><td>8, 9</td><td><a class=\"ProveItLink\" href=\"../a5f19e92085dbebfcf50edd7b82bcdc1cd6667e60/expr.ipynb\"><img src=\"../a5f19e92085dbebfcf50edd7b82bcdc1cd6667e60/expr.png\" style=\"display:inline;vertical-align:middle;\" /></a></td></tr>\n",
       "<tr><td>8</td><td>Operation</td><td>operator:&nbsp;10<br>operand:&nbsp;11<br></td><td><a class=\"ProveItLink\" href=\"../../../../__pv_it/common/860f60a08016621346288fe840511c3a1b68051c0/expr.ipynb\"><img src=\"../../../../__pv_it/common/860f60a08016621346288fe840511c3a1b68051c0/expr.png\" style=\"display:inline;vertical-align:middle;\" /></a></td></tr>\n",
       "<tr><td>9</td><td>Operation</td><td>operator:&nbsp;12<br>operand:&nbsp;13<br></td><td><a class=\"ProveItLink\" href=\"../0383fb1ddafbbb80c11c60c060689213387143560/expr.ipynb\"><img src=\"../0383fb1ddafbbb80c11c60c060689213387143560/expr.png\" style=\"display:inline;vertical-align:middle;\" /></a></td></tr>\n",
       "<tr><td>10</td><td>Literal</td><td></td><td><a class=\"ProveItLink\" href=\"../../common/fedc3809ed9823aab11264c156786a59540352e70/expr.ipynb\"><img src=\"../../common/fedc3809ed9823aab11264c156786a59540352e70/expr.png\" style=\"display:inline;vertical-align:middle;\" /></a></td></tr>\n",
       "<tr><td>11</td><td>Lambda</td><td>parameters:&nbsp;20<br>body:&nbsp;14<br></td><td><a class=\"ProveItLink\" href=\"../../../../__pv_it/common/6097dac6612f670c52f58871ce2f4aeeb0c710f00/expr.ipynb\"><img src=\"../../../../__pv_it/common/6097dac6612f670c52f58871ce2f4aeeb0c710f00/expr.png\" style=\"display:inline;vertical-align:middle;\" /></a></td></tr>\n",
       "<tr><td>12</td><td>Literal</td><td></td><td><a class=\"ProveItLink\" href=\"../../../../universality/__pv_it/common/083d2baa0b8ecab1d230f9ec29a15aa1355809fb0/expr.ipynb\"><img src=\"../../../../universality/__pv_it/common/083d2baa0b8ecab1d230f9ec29a15aa1355809fb0/expr.png\" style=\"display:inline;vertical-align:middle;\" /></a></td></tr>\n",
       "<tr><td>13</td><td>Lambda</td><td>parameters:&nbsp;29<br>body:&nbsp;15<br></td><td><a class=\"ProveItLink\" href=\"../005408a4c7b1ad70a39f155249d6823af72155670/expr.ipynb\"><img src=\"../005408a4c7b1ad70a39f155249d6823af72155670/expr.png\" style=\"display:inline;vertical-align:middle;\" /></a></td></tr>\n",
       "<tr><td>14</td><td>Conditional</td><td>value:&nbsp;16<br>condition:&nbsp;17<br></td><td><a class=\"ProveItLink\" href=\"../../../../__pv_it/common/f04abe3d5c40f013e2d69207052ed41d8868a2590/expr.ipynb\"><img src=\"../../../../__pv_it/common/f04abe3d5c40f013e2d69207052ed41d8868a2590/expr.png\" style=\"display:inline;vertical-align:middle;\" /></a></td></tr>\n",
       "<tr><td>15</td><td>Conditional</td><td>value:&nbsp;18<br>condition:&nbsp;19<br></td><td><a class=\"ProveItLink\" href=\"../16af4144cd9490e2fed3d6cc7baa28ca0b983a420/expr.ipynb\"><img src=\"../16af4144cd9490e2fed3d6cc7baa28ca0b983a420/expr.png\" style=\"display:inline;vertical-align:middle;\" /></a></td></tr>\n",
       "<tr><td>16</td><td>Operation</td><td>operator:&nbsp;28<br>operands:&nbsp;20<br></td><td><a class=\"ProveItLink\" href=\"../../../../../../../core_expr_types/__pv_it/common/bfbf03bdc458628005bdae805200d6ed0937b9a20/expr.ipynb\"><img src=\"../../../../../../../core_expr_types/__pv_it/common/bfbf03bdc458628005bdae805200d6ed0937b9a20/expr.png\" style=\"display:inline;vertical-align:middle;\" /></a></td></tr>\n",
       "<tr><td>17</td><td>Operation</td><td>operator:&nbsp;23<br>operands:&nbsp;20<br></td><td><a class=\"ProveItLink\" href=\"../../../../../../../core_expr_types/__pv_it/common/31d40cd78720d264f2e2fce8e578387d1c4c5da10/expr.ipynb\"><img src=\"../../../../../../../core_expr_types/__pv_it/common/31d40cd78720d264f2e2fce8e578387d1c4c5da10/expr.png\" style=\"display:inline;vertical-align:middle;\" /></a></td></tr>\n",
       "<tr><td>18</td><td>Operation</td><td>operator:&nbsp;21<br>operands:&nbsp;22<br></td><td><a class=\"ProveItLink\" href=\"../a2a280a923fb2fcec3db2e3bbf16c439b0426a9d0/expr.ipynb\"><img src=\"../a2a280a923fb2fcec3db2e3bbf16c439b0426a9d0/expr.png\" style=\"display:inline;vertical-align:middle;\" /></a></td></tr>\n",
       "<tr><td>19</td><td>Operation</td><td>operator:&nbsp;23<br>operands:&nbsp;29<br></td><td><a class=\"ProveItLink\" href=\"../../../../../../../core_expr_types/__pv_it/common/243dc17d65d7910e0017f3be11a50095b70808a40/expr.ipynb\"><img src=\"../../../../../../../core_expr_types/__pv_it/common/243dc17d65d7910e0017f3be11a50095b70808a40/expr.png\" style=\"display:inline;vertical-align:middle;\" /></a></td></tr>\n",
       "<tr><td>20</td><td>ExprTuple</td><td>24</td><td><a class=\"ProveItLink\" href=\"../../../../../../../core_expr_types/__pv_it/common/7825d99ba871f39ec9e174832f4965ad6a4a6c920/expr.ipynb\"><img src=\"../../../../../../../core_expr_types/__pv_it/common/7825d99ba871f39ec9e174832f4965ad6a4a6c920/expr.png\" style=\"display:inline;vertical-align:middle;\" /></a></td></tr>\n",
       "<tr><td>21</td><td>Literal</td><td></td><td><a class=\"ProveItLink\" href=\"../../../../../implication/__pv_it/common/02bdb382575728da8cdbaed545b9096ea7a1bd5b0/expr.ipynb\"><img src=\"../../../../../implication/__pv_it/common/02bdb382575728da8cdbaed545b9096ea7a1bd5b0/expr.png\" style=\"display:inline;vertical-align:middle;\" /></a></td></tr>\n",
       "<tr><td>22</td><td>ExprTuple</td><td>25, 26</td><td><a class=\"ProveItLink\" href=\"../0cf346afa2014ed576104cb3c68f9c4668f2487d0/expr.ipynb\"><img src=\"../0cf346afa2014ed576104cb3c68f9c4668f2487d0/expr.png\" style=\"display:inline;vertical-align:middle;\" /></a></td></tr>\n",
       "<tr><td>23</td><td>Variable</td><td></td><td><a class=\"ProveItLink\" href=\"../../../../../../../__pv_it/common/d72bb8b07403efe79afab564c36a28e21330e5f90/expr.ipynb\"><img src=\"../../../../../../../__pv_it/common/d72bb8b07403efe79afab564c36a28e21330e5f90/expr.png\" style=\"display:inline;vertical-align:middle;\" /></a></td></tr>\n",
       "<tr><td>24</td><td>ExprRange</td><td>lambda_map:&nbsp;27<br>start_index:&nbsp;34<br>end_index:&nbsp;35<br></td><td><a class=\"ProveItLink\" href=\"../../../../../../../core_expr_types/__pv_it/common/83815096a81411f4169bd53199aa8541663848780/expr.ipynb\"><img src=\"../../../../../../../core_expr_types/__pv_it/common/83815096a81411f4169bd53199aa8541663848780/expr.png\" style=\"display:inline;vertical-align:middle;\" /></a></td></tr>\n",
       "<tr><td>25</td><td>Operation</td><td>operator:&nbsp;28<br>operands:&nbsp;29<br></td><td><a class=\"ProveItLink\" href=\"../../../../../../../core_expr_types/__pv_it/common/7fe1cafd85086b369e0eb3fc99bdc80bc0cc23a20/expr.ipynb\"><img src=\"../../../../../../../core_expr_types/__pv_it/common/7fe1cafd85086b369e0eb3fc99bdc80bc0cc23a20/expr.png\" style=\"display:inline;vertical-align:middle;\" /></a></td></tr>\n",
       "<tr><td>26</td><td>Variable</td><td></td><td><a class=\"ProveItLink\" href=\"../../../../../../../__pv_it/common/9705ebf23debd1198c43ec3d0c30ebe152d069440/expr.ipynb\"><img src=\"../../../../../../../__pv_it/common/9705ebf23debd1198c43ec3d0c30ebe152d069440/expr.png\" style=\"display:inline;vertical-align:middle;\" /></a></td></tr>\n",
       "<tr><td>27</td><td>Lambda</td><td>parameter:&nbsp;38<br>body:&nbsp;30<br></td><td><a class=\"ProveItLink\" href=\"../../../../../../../core_expr_types/__pv_it/common/e78a05a30384462aa15ec8190735b4d58ac945690/expr.ipynb\"><img src=\"../../../../../../../core_expr_types/__pv_it/common/e78a05a30384462aa15ec8190735b4d58ac945690/expr.png\" style=\"display:inline;vertical-align:middle;\" /></a></td></tr>\n",
       "<tr><td>28</td><td>Variable</td><td></td><td><a class=\"ProveItLink\" href=\"../../../../../../../__pv_it/common/de55da274ba0f49c86925fbf3828021c04d27faf0/expr.ipynb\"><img src=\"../../../../../../../__pv_it/common/de55da274ba0f49c86925fbf3828021c04d27faf0/expr.png\" style=\"display:inline;vertical-align:middle;\" /></a></td></tr>\n",
       "<tr><td>29</td><td>ExprTuple</td><td>31</td><td><a class=\"ProveItLink\" href=\"../../../../../../../core_expr_types/__pv_it/common/bc5a51653f81549e556d6290bca69fc284f6a01a0/expr.ipynb\"><img src=\"../../../../../../../core_expr_types/__pv_it/common/bc5a51653f81549e556d6290bca69fc284f6a01a0/expr.png\" style=\"display:inline;vertical-align:middle;\" /></a></td></tr>\n",
       "<tr><td>30</td><td>IndexedVar</td><td>variable:&nbsp;32<br>index:&nbsp;38<br></td><td><a class=\"ProveItLink\" href=\"../../../../../../../core_expr_types/__pv_it/common/bae00704f4077d282c1ca22cbc3aecae7393f3dc0/expr.ipynb\"><img src=\"../../../../../../../core_expr_types/__pv_it/common/bae00704f4077d282c1ca22cbc3aecae7393f3dc0/expr.png\" style=\"display:inline;vertical-align:middle;\" /></a></td></tr>\n",
       "<tr><td>31</td><td>ExprRange</td><td>lambda_map:&nbsp;33<br>start_index:&nbsp;34<br>end_index:&nbsp;35<br></td><td><a class=\"ProveItLink\" href=\"../../../../../../../core_expr_types/__pv_it/common/450167a24f71fe5474c458dd6e7d0df5b127faa80/expr.ipynb\"><img src=\"../../../../../../../core_expr_types/__pv_it/common/450167a24f71fe5474c458dd6e7d0df5b127faa80/expr.png\" style=\"display:inline;vertical-align:middle;\" /></a></td></tr>\n",
       "<tr><td>32</td><td>Variable</td><td></td><td><a class=\"ProveItLink\" href=\"../../../../../../../__pv_it/common/ff7dba4ef0bbe791ab573bf2d9c220a304399ac80/expr.ipynb\"><img src=\"../../../../../../../__pv_it/common/ff7dba4ef0bbe791ab573bf2d9c220a304399ac80/expr.png\" style=\"display:inline;vertical-align:middle;\" /></a></td></tr>\n",
       "<tr><td>33</td><td>Lambda</td><td>parameter:&nbsp;38<br>body:&nbsp;36<br></td><td><a class=\"ProveItLink\" href=\"../../../../../../../core_expr_types/__pv_it/common/3d60e3d4d9f83b7d879c0d18fec5b16b4aa6e4690/expr.ipynb\"><img src=\"../../../../../../../core_expr_types/__pv_it/common/3d60e3d4d9f83b7d879c0d18fec5b16b4aa6e4690/expr.png\" style=\"display:inline;vertical-align:middle;\" /></a></td></tr>\n",
       "<tr><td>34</td><td>Literal</td><td></td><td><a class=\"ProveItLink\" href=\"../../../../../../../numbers/numerals/__pv_it/common/2778428c7f555b2bdc06aa0530bc142c6e6335100/expr.ipynb\"><img src=\"../../../../../../../numbers/numerals/__pv_it/common/2778428c7f555b2bdc06aa0530bc142c6e6335100/expr.png\" style=\"display:inline;vertical-align:middle;\" /></a></td></tr>\n",
       "<tr><td>35</td><td>Variable</td><td></td><td><a class=\"ProveItLink\" href=\"../../../../../../../__pv_it/common/8968bb04eb3f7dfa02353397ce929b025bbd79c20/expr.ipynb\"><img src=\"../../../../../../../__pv_it/common/8968bb04eb3f7dfa02353397ce929b025bbd79c20/expr.png\" style=\"display:inline;vertical-align:middle;\" /></a></td></tr>\n",
       "<tr><td>36</td><td>IndexedVar</td><td>variable:&nbsp;37<br>index:&nbsp;38<br></td><td><a class=\"ProveItLink\" href=\"../../../../../../../core_expr_types/__pv_it/common/257cd3299a4ed17f19c9fc89f960a93cbda02b550/expr.ipynb\"><img src=\"../../../../../../../core_expr_types/__pv_it/common/257cd3299a4ed17f19c9fc89f960a93cbda02b550/expr.png\" style=\"display:inline;vertical-align:middle;\" /></a></td></tr>\n",
       "<tr><td>37</td><td>Variable</td><td></td><td><a class=\"ProveItLink\" href=\"../../../../../../../__pv_it/common/a0d9d672aa5e272d907247690c152cc2c6daafb70/expr.ipynb\"><img src=\"../../../../../../../__pv_it/common/a0d9d672aa5e272d907247690c152cc2c6daafb70/expr.png\" style=\"display:inline;vertical-align:middle;\" /></a></td></tr>\n",
       "<tr><td>38</td><td>Variable</td><td></td><td><a class=\"ProveItLink\" href=\"../../../../../../../core_expr_types/__pv_it/common/006c465e50948aa2b52285e2de47974f741255cc0/expr.ipynb\"><img src=\"../../../../../../../core_expr_types/__pv_it/common/006c465e50948aa2b52285e2de47974f741255cc0/expr.png\" style=\"display:inline;vertical-align:middle;\" /></a></td></tr>\n",
       "</table>\n"
      ],
      "text/plain": [
       "0. forall_{P, Q} (([exists_{y_{1}, ..y_{_a}.., y_{n} | Q(y_{1}, ..y_{_a}.., y_{n})} P(y_{1}, ..y_{_a}.., y_{n})] and [forall_{x_{1}, ..x_{_a}.., x_{n} | Q(x_{1}, ..x_{_a}.., x_{n})} (P(x_{1}, ..x_{_a}.., x_{n}) => alpha)]) => alpha)\n",
       "   core type: Operation\n",
       "   operator: 12\n",
       "   operand: 1\n",
       "1. (P, Q) -> (([exists_{y_{1}, ..y_{_a}.., y_{n} | Q(y_{1}, ..y_{_a}.., y_{n})} P(y_{1}, ..y_{_a}.., y_{n})] and [forall_{x_{1}, ..x_{_a}.., x_{n} | Q(x_{1}, ..x_{_a}.., x_{n})} (P(x_{1}, ..x_{_a}.., x_{n}) => alpha)]) => alpha)\n",
       "   core type: Lambda\n",
       "   parameters: 2\\n   body: 3\n",
       "2. (P, Q)\n",
       "   core type: ExprTuple\n",
       "   sub-expressions: 28, 23\n",
       "3. ([exists_{y_{1}, ..y_{_a}.., y_{n} | Q(y_{1}, ..y_{_a}.., y_{n})} P(y_{1}, ..y_{_a}.., y_{n})] and [forall_{x_{1}, ..x_{_a}.., x_{n} | Q(x_{1}, ..x_{_a}.., x_{n})} (P(x_{1}, ..x_{_a}.., x_{n}) => alpha)]) => alpha\n",
       "   core type: Operation\n",
       "   operator: 21\n",
       "   operands: 4\n",
       "4. ([exists_{y_{1}, ..y_{_a}.., y_{n} | Q(y_{1}, ..y_{_a}.., y_{n})} P(y_{1}, ..y_{_a}.., y_{n})] and [forall_{x_{1}, ..x_{_a}.., x_{n} | Q(x_{1}, ..x_{_a}.., x_{n})} (P(x_{1}, ..x_{_a}.., x_{n}) => alpha)], alpha)\n",
       "   core type: ExprTuple\n",
       "   sub-expressions: 5, 26\n",
       "5. [exists_{y_{1}, ..y_{_a}.., y_{n} | Q(y_{1}, ..y_{_a}.., y_{n})} P(y_{1}, ..y_{_a}.., y_{n})] and [forall_{x_{1}, ..x_{_a}.., x_{n} | Q(x_{1}, ..x_{_a}.., x_{n})} (P(x_{1}, ..x_{_a}.., x_{n}) => alpha)]\n",
       "   core type: Operation\n",
       "   operator: 6\n",
       "   operands: 7\n",
       "6. and\n",
       "   core type: Literal\n",
       "   sub-expressions: \n",
       "7. (exists_{y_{1}, ..y_{_a}.., y_{n} | Q(y_{1}, ..y_{_a}.., y_{n})} P(y_{1}, ..y_{_a}.., y_{n}), forall_{x_{1}, ..x_{_a}.., x_{n} | Q(x_{1}, ..x_{_a}.., x_{n})} (P(x_{1}, ..x_{_a}.., x_{n}) => alpha))\n",
       "   core type: ExprTuple\n",
       "   sub-expressions: 8, 9\n",
       "8. exists_{y_{1}, ..y_{_a}.., y_{n} | Q(y_{1}, ..y_{_a}.., y_{n})} P(y_{1}, ..y_{_a}.., y_{n})\n",
       "   core type: Operation\n",
       "   operator: 10\n",
       "   operand: 11\n",
       "9. forall_{x_{1}, ..x_{_a}.., x_{n} | Q(x_{1}, ..x_{_a}.., x_{n})} (P(x_{1}, ..x_{_a}.., x_{n}) => alpha)\n",
       "   core type: Operation\n",
       "   operator: 12\n",
       "   operand: 13\n",
       "10. exists\n",
       "    core type: Literal\n",
       "    sub-expressions: \n",
       "11. (y_{1}, ..y_{_a}.., y_{n}) -> {P(y_{1}, ..y_{_a}.., y_{n}) if Q(y_{1}, ..y_{_a}.., y_{n}).\n",
       "    core type: Lambda\n",
       "    parameters: 20\\n    body: 14\n",
       "12. forall\n",
       "    core type: Literal\n",
       "    sub-expressions: \n",
       "13. (x_{1}, ..x_{_a}.., x_{n}) -> {P(x_{1}, ..x_{_a}.., x_{n}) => alpha if Q(x_{1}, ..x_{_a}.., x_{n}).\n",
       "    core type: Lambda\n",
       "    parameters: 29\\n    body: 15\n",
       "14. {P(y_{1}, ..y_{_a}.., y_{n}) if Q(y_{1}, ..y_{_a}.., y_{n}).\n",
       "    core type: Conditional\n",
       "    value: 16\n",
       "    condition: 17\n",
       "15. {P(x_{1}, ..x_{_a}.., x_{n}) => alpha if Q(x_{1}, ..x_{_a}.., x_{n}).\n",
       "    core type: Conditional\n",
       "    value: 18\n",
       "    condition: 19\n",
       "16. P(y_{1}, ..y_{_a}.., y_{n})\n",
       "    core type: Operation\n",
       "    operator: 28\n",
       "    operands: 20\n",
       "17. Q(y_{1}, ..y_{_a}.., y_{n})\n",
       "    core type: Operation\n",
       "    operator: 23\n",
       "    operands: 20\n",
       "18. P(x_{1}, ..x_{_a}.., x_{n}) => alpha\n",
       "    core type: Operation\n",
       "    operator: 21\n",
       "    operands: 22\n",
       "19. Q(x_{1}, ..x_{_a}.., x_{n})\n",
       "    core type: Operation\n",
       "    operator: 23\n",
       "    operands: 29\n",
       "20. (y_{1}, ..y_{_a}.., y_{n})\n",
       "    core type: ExprTuple\n",
       "    sub-expressions: 24\n",
       "21. =>\n",
       "    core type: Literal\n",
       "    sub-expressions: \n",
       "22. (P(x_{1}, ..x_{_a}.., x_{n}), alpha)\n",
       "    core type: ExprTuple\n",
       "    sub-expressions: 25, 26\n",
       "23. Q\n",
       "    core type: Variable\n",
       "    sub-expressions: \n",
       "24. y_{1}, ..y_{_a}.., y_{n}\n",
       "    core type: ExprRange\n",
       "    lambda_map: 27\n",
       "    start_index: 34\n",
       "    end_index: 35\n",
       "25. P(x_{1}, ..x_{_a}.., x_{n})\n",
       "    core type: Operation\n",
       "    operator: 28\n",
       "    operands: 29\n",
       "26. alpha\n",
       "    core type: Variable\n",
       "    sub-expressions: \n",
       "27. _a -> y_{_a}\n",
       "    core type: Lambda\n",
       "    parameter: 38\n",
       "    body: 30\n",
       "28. P\n",
       "    core type: Variable\n",
       "    sub-expressions: \n",
       "29. (x_{1}, ..x_{_a}.., x_{n})\n",
       "    core type: ExprTuple\n",
       "    sub-expressions: 31\n",
       "30. y_{_a}\n",
       "    core type: IndexedVar\n",
       "variable: 32\n",
       "index: 38\n",
       "31. x_{1}, ..x_{_a}.., x_{n}\n",
       "    core type: ExprRange\n",
       "    lambda_map: 33\n",
       "    start_index: 34\n",
       "    end_index: 35\n",
       "32. y\n",
       "    core type: Variable\n",
       "    sub-expressions: \n",
       "33. _a -> x_{_a}\n",
       "    core type: Lambda\n",
       "    parameter: 38\n",
       "    body: 36\n",
       "34. 1\n",
       "    core type: Literal\n",
       "    sub-expressions: \n",
       "35. n\n",
       "    core type: Variable\n",
       "    sub-expressions: \n",
       "36. x_{_a}\n",
       "    core type: IndexedVar\n",
       "variable: 37\n",
       "index: 38\n",
       "37. x\n",
       "    core type: Variable\n",
       "    sub-expressions: \n",
       "38. _a\n",
       "    core type: Variable\n",
       "    sub-expressions: "
      ]
     },
     "execution_count": 5,
     "metadata": {},
     "output_type": "execute_result"
    }
   ],
   "source": [
    "# display the expression information\n",
    "expr.expr_info()"
   ]
  },
  {
   "cell_type": "code",
   "execution_count": null,
   "metadata": {},
   "outputs": [],
   "source": []
  }
 ],
 "metadata": {
  "kernelspec": {
   "display_name": "Python 3",
   "language": "python",
   "name": "python3"
  }
 },
 "nbformat": 4,
 "nbformat_minor": 0
}