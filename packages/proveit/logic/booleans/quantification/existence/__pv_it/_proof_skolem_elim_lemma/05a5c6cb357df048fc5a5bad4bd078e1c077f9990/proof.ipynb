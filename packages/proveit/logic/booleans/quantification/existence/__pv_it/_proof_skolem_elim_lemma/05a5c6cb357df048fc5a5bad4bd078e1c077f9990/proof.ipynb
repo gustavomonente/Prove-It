{
 "cells": [
  {
   "cell_type": "markdown",
   "metadata": {},
   "source": [
    "Show the Proof\n",
    "========"
   ]
  },
  {
   "cell_type": "code",
   "execution_count": 1,
   "metadata": {},
   "outputs": [
    {
     "data": {
      "text/html": [
       "<table><tr><th>&nbsp;</th><th>step type</th><th>requirements</th><th>statement</th></tr>\n",
       "<tr><td><a name=\"proveit.logic.booleans.quantification.existence._proof_skolem_elim_lemma.05a5c6cb357df048fc5a5bad4bd078e1c077f9990_step0\">0</a></td><td>instantiation</td><td><a href=\"#proveit.logic.booleans.quantification.existence._proof_skolem_elim_lemma.05a5c6cb357df048fc5a5bad4bd078e1c077f9990_step1\">1</a>, <a href=\"#proveit.logic.booleans.quantification.existence._proof_skolem_elim_lemma.05a5c6cb357df048fc5a5bad4bd078e1c077f9990_step2\">2</a></td><td><span style=\"font-size:20px;\"><a class=\"ProveItLink\" href=\"../../theorems/159266aaca741da2774ad3ad2450fc36a8e417410/expr.ipynb\"><img src=\"../../theorems/159266aaca741da2774ad3ad2450fc36a8e417410/expr.png\" style=\"display:inline;vertical-align:middle;\" /></a> <a class=\"ProveItLink\" href=\"proof.ipynb\" style=\"text-decoration: none\">&nbsp;&#x22A2;&nbsp;&nbsp;</a><a class=\"ProveItLink\" href=\"../../../../__pv_it/common/3422adb503d7cb507d3461b1e50425ad8c92abcd0/expr.ipynb\"><img src=\"../../../../__pv_it/common/3422adb503d7cb507d3461b1e50425ad8c92abcd0/expr.png\" style=\"display:inline;vertical-align:middle;\" /></a></span></td></tr>\n",
       "<tr><td>&nbsp;</td><td colspan=4 style=\"text-align:left\"><span style=\"font-size:20px;\"><a class=\"ProveItLink\" href=\"../../../../../../../__pv_it/common/e4aad701f7f5516d8e7f0d805d518bf02c13322a0/expr.ipynb\"><img src=\"../../../../../../../__pv_it/common/e4aad701f7f5516d8e7f0d805d518bf02c13322a0/expr.png\" style=\"display:inline;vertical-align:middle;\" /></a> : <a class=\"ProveItLink\" href=\"../../../../__pv_it/common/3422adb503d7cb507d3461b1e50425ad8c92abcd0/expr.ipynb\"><img src=\"../../../../__pv_it/common/3422adb503d7cb507d3461b1e50425ad8c92abcd0/expr.png\" style=\"display:inline;vertical-align:middle;\" /></a>, <a class=\"ProveItLink\" href=\"../../../../../../../__pv_it/common/4eca3b30dcf58a58494e201d1b7886d8643a617b0/expr.ipynb\"><img src=\"../../../../../../../__pv_it/common/4eca3b30dcf58a58494e201d1b7886d8643a617b0/expr.png\" style=\"display:inline;vertical-align:middle;\" /></a> : <a class=\"ProveItLink\" href=\"../../theorems/656731e134e6d89ef3c8feb3f79dd09a45548faa0/expr.ipynb\"><img src=\"../../theorems/656731e134e6d89ef3c8feb3f79dd09a45548faa0/expr.png\" style=\"display:inline;vertical-align:middle;\" /></a></span></td></tr><tr><td><a name=\"proveit.logic.booleans.quantification.existence._proof_skolem_elim_lemma.05a5c6cb357df048fc5a5bad4bd078e1c077f9990_step1\">1</a></td><td>theorem</td><td></td><td><span style=\"font-size:20px;\"> <a class=\"ProveItLink\" href=\"../../../../../conjunction/_theory_nbs_/proofs/left_from_and/thm_proof.ipynb\" style=\"text-decoration: none\">&nbsp;&#x22A2;&nbsp;&nbsp;</a><a class=\"ProveItLink\" href=\"../../../../../conjunction/__pv_it/theorems/1e44c5c80040c76413fdfe295b4c6dfd83f450d20/expr.ipynb\"><img src=\"../../../../../conjunction/__pv_it/theorems/1e44c5c80040c76413fdfe295b4c6dfd83f450d20/expr.png\" style=\"display:inline;vertical-align:middle;\" /></a></span></td></tr>\n",
       "<tr><td>&nbsp;</td><td colspan=4 style-\"text-align:left\"><a class=\"ProveItLink\" href=\"../../../../../conjunction/_theory_nbs_/proofs/left_from_and/thm_proof.ipynb\">proveit.logic.booleans.conjunction.left_from_and</a></td></tr><tr><td><a name=\"proveit.logic.booleans.quantification.existence._proof_skolem_elim_lemma.05a5c6cb357df048fc5a5bad4bd078e1c077f9990_step2\">2</a></td><td>assumption</td><td></td><td><span style=\"font-size:20px;\"><a class=\"ProveItLink\" href=\"../../theorems/159266aaca741da2774ad3ad2450fc36a8e417410/expr.ipynb\"><img src=\"../../theorems/159266aaca741da2774ad3ad2450fc36a8e417410/expr.png\" style=\"display:inline;vertical-align:middle;\" /></a> <a class=\"ProveItLink\" href=\"../c35c790890a7d36ec869a2ae8fb57b5838dfd0af0/proof.ipynb\" style=\"text-decoration: none\">&nbsp;&#x22A2;&nbsp;&nbsp;</a><a class=\"ProveItLink\" href=\"../../theorems/159266aaca741da2774ad3ad2450fc36a8e417410/expr.ipynb\"><img src=\"../../theorems/159266aaca741da2774ad3ad2450fc36a8e417410/expr.png\" style=\"display:inline;vertical-align:middle;\" /></a></span></td></tr>\n",
       "</table>"
      ],
      "text/plain": [
       "<proveit._core_.proof._ShowProof at 0x7f86948b2390>"
      ]
     },
     "execution_count": 1,
     "metadata": {},
     "output_type": "execute_result"
    }
   ],
   "source": [
    "import proveit\n",
    "# Automation is not needed when only showing a stored proof:\n",
    "proveit.defaults.automation = False # This will speed things up.\n",
    "proveit.defaults.inline_pngs = False # Makes files smaller.\n",
    "%show_proof"
   ]
  },
  {
   "cell_type": "code",
   "execution_count": null,
   "metadata": {},
   "outputs": [],
   "source": []
  }
 ],
 "metadata": {
  "kernelspec": {
   "display_name": "Python 3",
   "language": "python",
   "name": "python3"
  },
  "language_info": {
   "codemirror_mode": {
    "name": "ipython",
    "version": 3
   },
   "file_extension": ".py",
   "mimetype": "text/x-python",
   "name": "python",
   "nbconvert_exporter": "python",
   "pygments_lexer": "ipython3",
   "version": "3.7.3"
  }
 },
 "nbformat": 4,
 "nbformat_minor": 1
}