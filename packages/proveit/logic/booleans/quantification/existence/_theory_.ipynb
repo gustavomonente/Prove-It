{
 "cells": [
  {
   "cell_type": "markdown",
   "metadata": {},
   "source": [
    "Theory of <a class=\"ProveItLink\" href=\"../../../../_theory_.ipynb\">proveit</a>.<a class=\"ProveItLink\" href=\"../../../_theory_.ipynb\">logic</a>.<a class=\"ProveItLink\" href=\"../../_theory_.ipynb\">booleans</a>.<a class=\"ProveItLink\" href=\"../_theory_.ipynb\">quantification</a>.existence\n",
    "========\n",
    "\n",
    "Existential quantification is a general expression about *something* (`Exists`: $\\exists$).  \n",
    "The `Exists` **Expression** derives from `OperationOverInstances`.  As such, it has instance variables (`instanceVars`) with an instance expression (`instanceExpr`) and may be restricted to a `domain` and have zero or more `conditions`.  For example $\\exists_{x, y \\in S~|~Q(x, y),~R(y)} P(x, y)$ means that $P(x, y)$ is `TRUE` for some occurrence of $x$ and $y$ in domain $S$ for which the conditions $Q(x, y)$ and $R(y)$ are satisfied.  The `conditions` may be any **Expression**s involving the instance variables.\n",
    "\n",
    "The negation of the existential quantification is compactly expressed as $\\nexists$, represented by the `NotExists` **Expression** type."
   ]
  },
  {
   "cell_type": "code",
   "execution_count": null,
   "metadata": {},
   "outputs": [],
   "source": [
    "import proveit\n",
    "%theory"
   ]
  },
  {
   "cell_type": "code",
   "execution_count": null,
   "metadata": {},
   "outputs": [],
   "source": []
  }
 ],
 "metadata": {
  "kernelspec": {
   "display_name": "Python 3",
   "language": "python",
   "name": "python3"
  }
 },
 "nbformat": 4,
 "nbformat_minor": 0
}
