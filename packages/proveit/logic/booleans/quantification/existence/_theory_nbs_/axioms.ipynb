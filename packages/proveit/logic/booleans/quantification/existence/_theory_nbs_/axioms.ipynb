{
 "cells": [
  {
   "cell_type": "markdown",
   "metadata": {},
   "source": [
    "Axioms for the theory of <a class=\"ProveItLink\" href=\"theory.ipynb\">proveit.logic.booleans.quantification.existence</a>\n",
    "========\n",
    "\n",
    "Unlike `Forall`, `Exists` is not fundamentally defined in the core of **Prove-It**.  It must be defined via its relationship with `Forall`."
   ]
  },
  {
   "cell_type": "code",
   "execution_count": 1,
   "metadata": {},
   "outputs": [
    {
     "name": "stdout",
     "output_type": "stream",
     "text": [
      "Defining axioms for theory 'proveit.logic.booleans.quantification.existence'\n",
      "Subsequent end-of-cell assignments will define axioms\n",
      "%end_axioms will finalize the definitions\n"
     ]
    }
   ],
   "source": [
    "import proveit\n",
    "# Prepare this notebook for defining the axioms of a theory:\n",
    "%axioms_notebook # Keep this at the top following 'import proveit'.\n",
    "from proveit.logic import TRUE, in_bool, Forall, Exists, NotExists, Not, Equals, NotEquals\n",
    "from proveit.numbers import Natural, NaturalPos\n",
    "from proveit import n, P, Q\n",
    "from proveit.logic.booleans.quantification import (\n",
    "    general_exists_Px_st_Qx, general_exists_Py_st_Qy, general_forall__Py_not_T__st_Qy, general_notexists_Px_st_Qx)\n",
    "%begin axioms"
   ]
  },
  {
   "cell_type": "markdown",
   "metadata": {},
   "source": [
    "**Defines the $\\exists$ operation generically for any number of instance variables or conditions by equating it to an equivalent expression in terms of $\\forall$**:"
   ]
  },
  {
   "cell_type": "code",
   "execution_count": 2,
   "metadata": {},
   "outputs": [
    {
     "data": {
      "text/html": [
       "<strong id=\"exists_def\">exists_def:</strong> <a class=\"ProveItLink\" href=\"../__pv_it/axioms/88194d7ade5c438664a2266805cdf0220e1472850/axiom_expr.ipynb\"><img src=\"data:image/png;base64,iVBORw0KGgoAAAANSUhEUgAAAnEAAAAzCAMAAADPXK5EAAAAOVBMVEX///8kJCQNDQ0oKCgQEBCI\n",
       "iIhmZma6urrMzMxUVFQiIiJERETc3Nzu7u6qqqp2dnaYmJgyMjIAAAD9T1yxAAAAAXRSTlMAQObY\n",
       "ZgAACntJREFUeNrtnYmWpKgShp25ssmq7/+wVwSVHVwytWqKc7q6OtuMEP2EIII/s+t+SiPDMLDu\n",
       "r51oaL508rd1qp/mdr1XEmX/a/gj50Jj5Ps+eeBTakb624gTjDF+GbgCs3/E/TTiOjT6BM6IiPuI\n",
       "wzcYAaXLYohja/stJKhPWhfsUeI6NYav4FcRV+bfEAeJaT3/kYApMk10Pv0RmvPn9MPBL3uUuI7K\n",
       "NxPHe1QnLrqUP61N5rGn5pEZP9wNPj5LXHRPX0Uchd3vJw7b5ZWYgB7y4Kf9SfAocdG89SbixMT/\n",
       "A8SBCdm/NXmfT/fw/lniuiAt8ybihsrz/juIo5M9f00e+8L6e0TPEicm9lLi1MT+C8TZMI5N+vkC\n",
       "9iHjABCGwDoDnhrLciYkfJa4YCR5EXFDbdVmiJODadM3iLvqA+fCOGHmGmpSI3z+hxpANyw04jPL\n",
       "V99EIkHhESdHp306lFRetPQe4vCEmoi7fYwL3AIopc1cdJdLKALFYRyRswNgPAzC+OE6H887NPcJ\n",
       "Q3hmqnVNBOcwPDzG8Qm8kjhYPZMPEeeNKGyJerDJXNzgArIojHMfeJs60C/R7TzQGeJ8E/6j/DBx\n",
       "3Ti+krievIA41hurUJ8MvqH2HVYWu8nrhZOs2gcCdHY5MYF3EgfcCOg1xOFJvYC4wZ6E0peF3FG3\n",
       "CzK8ePKiJjurLv+BrxK3mVBQYbAuSlZz+Tju4ygy996+hjhQXwkkiJMAYtBERv5IhzjQb2ezr1Sa\n",
       "XSQPBSrophfZ2ZWD4Majie5OEeeaUKif7drhOrly+HJz56/XEEfrJxITN19eMnaDvomknD12jiwQ\n",
       "tz3ucFxzZe0u0j6Ef6NHP8ttMhdoEkuazhb1LXHc5lH2XxIvrb+4JhgH2sLqCcrHiaODR9we1il1\n",
       "mbjTxnraSNxosyM6uJ9djosbLCuF/e3IInHb/r5+/gVR741VF2kfyO0XHKeJuMGWgYsTADiA6xVb\n",
       "x7hhsA6HDZbtt/0Xc5BvQvtA6yM84seJk5NHnNxiiZFfJu6sMT7Bg2PcComdO4aqu9y07SDRAyeM\n",
       "Q+Swi4QPPJb7lDipbVYVLZcwdZC+F/PQttwRbq09SZzag1RNHFsvObu0ccYQd9YYnsAp4vRCDDfh\n",
       "YI9UUCglM8QR0nEl5hXrkiKhR12kfKDyjU5V8sXa0aa1skxF6vpskTBjAHieOPfu6jhuHY328elC\n",
       "HHfSmJjEceLmKytHe80NDozy5I/9SAFoYMkhjvcYdEqYSuQyOMQuDvpQFWxoOMgxONiZl7fUvFIH\n",
       "LZQDucywT+9WimYwTZySXLeLVWVL3Elj7rjbTBwnCkkg+Y4D7oX+wfwfwj1yXkv6ZST3HxxSOQ90\n",
       "prqlTcYuDvqAlUpKYUdmUyBcO4iyFxDXTcRfq05Ut4tin3Wtes5YQ3KkrHNYp7zUUCkCK0ChDHHL\n",
       "JSF20QhE2sUhH2M1WfXRXefq4V3nK3HUJ86kkGhjSlWWifOMIToRCamTV3DLlt5qhl8hDoMJLvdc\n",
       "JDrhvaaLAEKqAnFsGu2qlCZdHPIhVPeS9ihx/egTh6A74dcaLBPnG1tWfZ1cYfHKlp7RFuIa9Krq\n",
       "+MRD4+yRHQKRuuqDw3fgpvWqjxI3+MQtowfI3hg8QK0iBTZzXCHON0aImTMtcG7Z0mtkeuxqFKAQ\n",
       "Vytp4GfKf25vQx8Qp2eAxJzFhYRw/i9Bl80wdjKsEecZM4XKdVODV7a8kbg/tf4jo6Y8Txwbdbwc\n",
       "zRRUMM6XYARozqSuykA4zH9EgTjXGF8WBMDG3H7Z8vCsenJN8deejwyHcFadA31iYhdn2wHaBjOB\n",
       "BWZgXTLUxrjdmC73SSC31JxXtgxXDg1jVHZZ9yuIy/Xug4vZbNQgecN7LHEtoUe4cpjfte47dbYd\n",
       "7AcJPJ+Cwq3EiX0Tq/TQ8sqWYXakno/Lp66GrrurPPxYW3v3VQl1ZssXc24bHJxGuoTmumHfWE9C\n",
       "4tbNfM62A2eZpcslclVo1Ilzdgb6ClSvbBnM4NU95yUxsT7nm8rDj7W9d1+UUGcSFCS6GQLE71mJ\n",
       "a8hyBDWH5Y6vd2nbdoCHJZVLgSFuHtuHVuI2Y51fu/LKlkGP6sQVxMRLPeqe8vBTbe/dVyXUSfVY\n",
       "4go6xMWV2qoEjTsfuhXtj9u3HRBvjOsQtnZxlbjd+hadLdVHr2wZHlnfAszKK4d7ysOP5Q/YHmB8\n",
       "UULNU9sSE/tPXeIizTWv7W0MK/ke3vu2A7n5NQWbSk06QRwYp1VZshQj/bJldtzNBNBDZa16T3n4\n",
       "qWXDftbflVAnHv/UJOESF2uux8oE5e7TCIlztx1QsaZejEVylDjf6+qRJFdfQy0YALCWHbmlPPxQ\n",
       "c3qXklBzAPUtZ+c/UCpnQcaXleIKcZHmWlaGCzcTUdx1Dmwc19QqxG1r6L1s6TVYSwFTVSPuWHn4\n",
       "0oh07e241LukhFqa2HrJY54SUHsWvPhxf9Kt3OZ//yZk0x5xkXJCVYYL4u8BvqlViNt5oUm1gaql\n",
       "gK3syVmsy4C4Y+XhakPBIHSfcDrWTTuirpSEmgmTwqT0rIDasRCcy9AyxPnERZprUTklV1LwIvVg\n",
       "JeCPFrhOynvY/wK3JeM8Heu9wulIN+30LiWh5jaztATgZwXUuwX/uocvJIMnj7hIAYvLExRzvf4c\n",
       "hXQDcZny8HXi7hZOR7ppp3dpCTXSHBpB6kk5q2OhSFw6KrlE3DsV0tVAbhBV4tLl4RuIu104HaV1\n",
       "t95lJNTLlGjq0ieJ2ywk9dNbHPdPn5RNi1iB5tyAyim54sEXEYcqOeBo5RATt1d00fIR1g3iq8KB\n",
       "O3EJ4XSzg/SR0dy/9S4toe4oWX+cJW6zkNRP55+FG1YOL/2km9oHFsYrcBwRt1V0pS7Umf3NvLKE\n",
       "Ww8sEJcQTjc7SHsQJNe7pITazOfIZMlDAXVBN+0ctFlI66e35yNzEzziIs01lOVJ9Z2f5lVbraJa\n",
       "Bth5mhjXRwNalTVvBxaJi4XTzQ4yHhBN9y4joTYKaGjCoUhAndJNBwJqz0JKP709XJneeNuhI831\n",
       "iNsj9Dd9KmtfDslrVa6FWu48dcutq01824EF4lLC6WYHSQ+xbjrXO+d1u8frgoDaWEjpp7dJomXd\n",
       "E2queXGef++nstY+ebpSyQ9eQfaMakDYA2PhtENcSjjd7CDpIdZN53pnXiejniGRn/w6JKDeLST1\n",
       "05Uhzjd5rJIfJJNf9en6lc8HpewAcXgOWrquppzeDoyF0w5xsXA6cnDQQ6JGnevd8rpeLJvqz1kB\n",
       "9W4hqZ+2z3wLxAd3K4kg7HgVcaxso7wjM4g7CKDjDkRO1bwfGAmnPa1+KJyOHBz0kNBN53q3vI7m\n",
       "GCy8NscE1CkLEeZNQ1ykuS7WFd/9DSK1akn7rnPO1sRCRTm9HRgJp0NVoS+cjh0c8jAe6N0Hd52r\n",
       "gBV06D2WOFUswZBw3noXcQlZYVtiJeqnNF97V1VOrwfGwumQOF84HTk45EH8yH3xXT4hmuczGrnx\n",
       "y77tkoBbiEMq+NrMnKo5OjBLnC+cjt93wMNbdNOfJ+6z33Z5zzf6QnSGuE/oVfNYXBVO/wbddJPK\n",
       "nwfpcfONvv8Hji+HMRQvr70AAAAASUVORK5CYII=\n",
       "\" style=\"display:inline;vertical-align:middle;\" /></a><br>"
      ],
      "text/plain": [
       "exists_def: forall_{n in NaturalPos} [forall_{P, Q} ([exists_{x_{1}, ..x_{_a}.., x_{n} | Q(x_{1}, ..x_{_a}.., x_{n})} P(x_{1}, ..x_{_a}.., x_{n})] =  \\\\ not(forall_{y_{1}, ..y_{_a}.., y_{n} | Q(y_{1}, ..y_{_a}.., y_{n})} (P(y_{1}, ..y_{_a}.., y_{n}) != TRUE)))]"
      ]
     },
     "execution_count": 2,
     "metadata": {},
     "output_type": "execute_result"
    }
   ],
   "source": [
    "exists_def = Forall(n, Forall((P, Q), \n",
    "                             Equals(general_exists_Px_st_Qx, \n",
    "                                    Not(general_forall__Py_not_T__st_Qy)).with_wrap_after_operator()),\n",
    "                  domain=NaturalPos)"
   ]
  },
  {
   "cell_type": "markdown",
   "metadata": {},
   "source": [
    "The equivalent expression to saying \"there exists an instance of $x_1, \\ldots, x_l$ variables for which the set of $Q_{1}, \\ldots, Q_{k}$ conditions are satisfied such that $P(x_1, \\ldots, x_l)$ is true\" is to say that the following is *not* true: \"for all occurrences of $x_1, \\ldots, x_l$ for which the set of $Q_{1}, \\ldots, Q_{k}$ conditions are satisfied,$P(x_1, \\ldots, x_l)$ is not equal to `TRUE`\".  That is, \"there exists appropriately constrained operands of $P$ for which the $P$ operation is true\" means that \"it is *not* the case that all appropriately constrained operands of $P$ cause the $P$ operation to *not* evaluate to true\".  This is expressed in a way that does not assume that the $P$ operation returns a Boolean, exploiting the fact that `Equals` ($=$) is defined to always evaluate to a Boolean and therefore `NotEquals` ($\\neq$) as well.  Existence in this theory means that the $P$ operation evaluates to true for some instance of appropriately constrained operands but it does not mean that the $P$ operation always evaluates to a Boolean under this constraint."
   ]
  },
  {
   "cell_type": "markdown",
   "metadata": {},
   "source": [
    "**Defines the $\\nexists$ operation generically for any number of instance variables or conditions by equating it to the negation of the corresponding $\\exists$ operation**:"
   ]
  },
  {
   "cell_type": "code",
   "execution_count": 3,
   "metadata": {},
   "outputs": [
    {
     "data": {
      "text/html": [
       "<strong id=\"not_exists_def\">not_exists_def:</strong> <a class=\"ProveItLink\" href=\"../__pv_it/axioms/bb3d6efedd9802334385cf51dd7c1c8337fff1e80/axiom_expr.ipynb\"><img src=\"data:image/png;base64,iVBORw0KGgoAAAANSUhEUgAAAjIAAAAzBAMAAAB/If/mAAAAMFBMVEX///8QEBCIiIhmZma6urrM\n",
       "zMxUVFQiIiJERETc3Nzu7u6qqqp2dnaYmJgyMjIAAAAcRTyBAAAAAXRSTlMAQObYZgAACgJJREFU\n",
       "aN7dm32MHGUZwJ/bndnZnZ3dOwloOIwuvaQ0teRWKwW1HwskLRrh9s6E9I/GW049UlL1sJUVLLDx\n",
       "D7gi2q0aeldSbwqmFhBZxZOPULv2/EhqYwdLNIaia6gkmAhLr6XctVLfr5mdeefj3aGzl4Y3ufl6\n",
       "n2dn5zfv+7zPxx5A59rn4H3fPnrurEhEK9jPbi1X0fY/F+bTSOWtvn1qie6PnHurrc+6bHKXSOSw\n",
       "42zMtr0A20P+XTfR3WOTv2jrky4RSsRKPJnJyYe3VRfgKXeHE39OQCbTYAeDEZHhCCMyK0Zvfa23\n",
       "c0D+eu6+0Vd1NPwr4fQS1WAy8GC0ZNSLwT2bEtUHOjhW3gVIIvLZkONSbQjI7ClESiaZ9yCjQAfJ\n",
       "yGhNSJ8AOBpW8aCATLonUjIHdA8yE50kEzuJ/hCdO8Mq7hGQga2RktkMHmT+0kkyySaarichFXr9\n",
       "yxYEZA5UIySTmfMi85VOkulG9mIqDzE0jdVFG687GCj8yOIfLcuZjldeQEbJR0hGqbjJ/LF8ujwf\n",
       "+oFTIvNiHgzXIY3GfdIA+Bn8LXdPoNWtZ76hNGzLMiWjvUFann/N8xGSGS54jBm0CrQzZiS27zv8\n",
       "abStC6TT5p36Nx3+BDJuSg3gEBzRPwuw3t8/17V5yVzD0mOCMaOeiJDMx8GDTLreFpkk3f24AIM6\n",
       "9TYC26fYfju1+V2IlA7j6OgLV/s/KyRbg1puCsjAGxGS+aAXGa0WgkzqUoB4CTYIxfey/WmwyACQ\n",
       "t7wuyCrlQpDpr0ZGRv6fF5msHoKMguxFpgcZbeHSQkeVPMssXA2fnBKRGS62Zu8YZ2dKvPCUERmZ\n",
       "2JwXGQUQGa1vyP20B69aXOTIXI4/pon1HJ1ujZhhuTNEG50+jxSXBpFJ6/0Q0zOrhvocFtivdZUi\n",
       "I5Ps8SLzECazNNHYAgmnHxjTv6YUODKvob94A3kntPM28NNI01ecnbfWYOlMspkyCBkVhQzwVIMd\n",
       "WGcDte0o8Mxca3ShARevi8gkxygZspq9IiQTJNZV8SBz/wfK5V4oZg2Qf6tzK+9/XbMJ53+66lKF\n",
       "dm7oBT8Nidwr/ubbOXNuqCNL+15hs6mMlyvM7g5gG+UuZJsWPbLKgF1XQDfqzhZFZLQmJfMnEOeY\n",
       "EJkgsafyXmOGzqJu9JoULnaAOReZi9DfiyCVWOdd4KchN5wdrehgHZk3ri/3vHU0Atei7U9F0QFk\n",
       "TlEyE3hlqAjJBIkN57zIUL99GIouMnJThqP7j9nJjKovpy4GuUI7XWRaGhJnMI86yGjuL1e3PcVK\n",
       "WRxRopudoGTQEoIXWBGZILEDNQ8yJNxPNf+Mvhoik3oAJnSymdCntIYGv6wodjJ7hjK/KYA6BqQT\n",
       "k/HRyHC+YNLygJ7BYYDbl7HeWqoJW6bFWQikMkvJZA49/vhOsQUOEvtn0WvM4IvqVz+/TMdk5Mtg\n",
       "sCpfijaDtb0vHTwEieJ6Oxn1mj+UUpgI6cRkfDTinLttZa5+eO8IgOGeGq3lugTLDEoymAy8zdam\n",
       "d8bHt7axNgWI9Ve9yNjCKjTe0tYZHWAKXFmw+8Agl3YDfIyd4NnkrZE9z2zn30FM5h1GBlnKbRA0\n",
       "PykZKiZt33QNWVJjK2cs63FEDyQj93+G5V/JsltlvuwLhoNM6t1e62RotuansT+KQF1A5iOMzPV0\n",
       "7vEtz5FhYi+iKBo/x3GQraV1TTAZ0gz38HbETWiZRyNCMgQaan4ByHyIkVFMv5K94c2/g8tLbjJM\n",
       "bBRNHrTbgd7jCrP7667PLpfbTs/GHWfPiVJ5+vlzkcp3BAvczshohmJde2JmFTyr6XHdTYaJ3Q0k\n",
       "sr2bDh8/MvaWKN8JF2bzK8mZZFKNm61x+91dOuzP5TWYWb55ec1BhoqpcxBD5jGG44F+/9nksL9w\n",
       "4TbvaVU246ZtX0ZMSLh1Pb40Pf0DzcPOEDGQzi7D3nAW+1urLQtcfX+RMS0wPI3sJQ23iCWe1p7c\n",
       "4EXmaZJ0oca6G69cH7ZWbZc/kzIcZFKTqHX8MVNGGGmzWJmueqebBllah4Rb1PBPQ33GiwzJ/rDC\n",
       "UleOpFNMT49PdsI+55iJj46O3qJ3iohZrtwXSssqVm50dc2aZDI6C7fkb42PfweR2a14kSFi3dT4\n",
       "JEpP1nZYPA64yLzunk2JzhW5Wbny9VBKVpjwc1fPWUd+hoRbJTpmpCHm3LvzM8P4+SZ09ZLcy8db\n",
       "F/lhnMkvJBlWrsyEdHXM0FLL+USU9nDr9/jwJYBjfpmr2Js4Qz1Yg0cfHAXrUbv576RUF5IMK1cq\n",
       "IW9gFitVPu+WPmMnw8ItNFekewqQEOT08JS6uWXwFN6H3gkLSYaVK3eGVLOKlcf5zNWcR7ZzCbIz\n",
       "4mwnMedT/7JMarzJyfdFQkagYE13Vq5EN1X7crAjyNLbBaxi5Qxvm5vvOQ9MApnkltY5X4v8HkdG\n",
       "K5fL97ZBhllyGq1qAuFfWWaOlivRTTWpB/mfsn8ejgqwb91gZP7hmbyNpqpyhrvwbTSOyrjVw40Z\n",
       "+kgsWt0oCrjMD2TlSnTTh+MNGJeX+/8KgAiYI98srzzDCU3lIiPjqsSZvzNKld4LGRqtynXRsmvm\n",
       "PVm5Et1UR37WCVJR8mlUwMygMjLDnummaMisiZQMjVYTRZG06b+cbt10QJdPBZGhAgIy90N0ZAYK\n",
       "rtnkQUZa7K4iwHUlWzqckGHRqsL1uRWuZE8427rpaqwdRAYLsJKcVazkS3hRVvyVvLcFdpLRuvVB\n",
       "vioH9Xm5x0mGRas7Wd9t4Kfw65Y7Y970PkiWAslgAVaS87PAsSh/JcIvTjP2ldUis2sdLOGrcqmf\n",
       "jMUqTjIsWr2B9vFFOZvCDcwvmW/ddAUMGISMs1ppHRABVpKzipUruaWpFCGZVthN2zpu1c6iZep2\n",
       "HX2FEdd8itcTOScZFq2uZX38fGopfJGem+VKfNO9i9ZU6ZhxVCvJAb5CBWhJzipW/tt5g0h/jcb/\n",
       "gtErOkBtC/ognoxS6CpaVbmKLVpdT/tcZFoKa71CktXUgHhUK9mV1WZJzixWqtzkexWiJJPNCyNK\n",
       "1L4pNZ1VObRRigOtqhwhw6JV9MVxn7Mo51A45gpjEw31JHVUPPxEfIUI0BjRL6JM90ZKJsVJbPMk\n",
       "s3ZJw1mVQ0fSyPdbVTlqQGi0igRxn7Mo51D4JPA3VYxkDlJX4+nlrlbiK0SAxoh+WYiIfynN+5H7\n",
       "vMio1aTBVeXS8BhaU6yqnGmLcbQaq5E+rihnV2i40mXSoqvME3d+D1+xCVjFSq7Y9iWIlky8FJTt\n",
       "ZKtT/SauKoeONkmNVlXOJEOi1Qrpcxbl7App47yynWaxMuP0QDOVUGTa+C+eEXGGXDpW59+nATce\n",
       "dvnALFq9sdXnqfBoRzLkIf+Lp43//IoXfMm0X2/Ku3IdAW3peXPxKMmpzLE8cu6t/wMvrB4FX5Dw\n",
       "+QAAAABJRU5ErkJggg==\n",
       "\" style=\"display:inline;vertical-align:middle;\" /></a><br>"
      ],
      "text/plain": [
       "not_exists_def: forall_{n in NaturalPos} [forall_{P, Q} ([notexists_{x_{1}, ..x_{_a}.., x_{n} | Q(x_{1}, ..x_{_a}.., x_{n})} P(x_{1}, ..x_{_a}.., x_{n})] =  \\\\ not(exists_{y_{1}, ..y_{_a}.., y_{n} | Q(y_{1}, ..y_{_a}.., y_{n})} P(y_{1}, ..y_{_a}.., y_{n})))]"
      ]
     },
     "execution_count": 3,
     "metadata": {},
     "output_type": "execute_result"
    }
   ],
   "source": [
    "not_exists_def = Forall(n, Forall((P, Q), \n",
    "                                Equals(general_notexists_Px_st_Qx, \n",
    "                                       Not(general_exists_Py_st_Qy)).with_wrap_after_operator()),\n",
    "                      domain=NaturalPos)"
   ]
  },
  {
   "cell_type": "code",
   "execution_count": 4,
   "metadata": {},
   "outputs": [
    {
     "name": "stdout",
     "output_type": "stream",
     "text": [
      "These axioms may now be imported from the theory package: proveit.logic.booleans.quantification.existence\n"
     ]
    }
   ],
   "source": [
    "%end axioms"
   ]
  },
  {
   "cell_type": "code",
   "execution_count": null,
   "metadata": {},
   "outputs": [],
   "source": []
  }
 ],
 "metadata": {
  "kernelspec": {
   "display_name": "Python 3",
   "language": "python",
   "name": "python3"
  }
 },
 "nbformat": 4,
 "nbformat_minor": 0
}