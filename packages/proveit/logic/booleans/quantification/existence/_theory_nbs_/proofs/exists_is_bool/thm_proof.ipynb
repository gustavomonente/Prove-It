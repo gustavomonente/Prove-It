{
 "cells": [
  {
   "cell_type": "markdown",
   "metadata": {},
   "source": [
    "Proof of <a class=\"ProveItLink\" href=\"../../../../../../../_theory_nbs_/theory.ipynb\">proveit</a>.<a class=\"ProveItLink\" href=\"../../../../../../_theory_nbs_/theory.ipynb\">logic</a>.<a class=\"ProveItLink\" href=\"../../../../../_theory_nbs_/theory.ipynb\">booleans</a>.<a class=\"ProveItLink\" href=\"../../../../_theory_nbs_/theory.ipynb\">quantification</a>.<a class=\"ProveItLink\" href=\"../../theory.ipynb\">existence</a>.<a class=\"ProveItLink\" href=\"../../theorems.ipynb#exists_is_bool\">exists_is_bool</a> theorem\n",
    "========\n",
    "*** see <a href=\"../__pv_it/84700d9fefa54ea1d425e5f5147806a4ff4396650/dependencies.ipynb\" class=\"ProveItLink\">dependencies</a> ***"
   ]
  },
  {
   "cell_type": "code",
   "execution_count": 1,
   "metadata": {},
   "outputs": [
    {
     "data": {
      "text/html": [
       "Under these <a href=\"presumptions.txt\">presumptions</a>, we begin our proof of<br><strong id=\"exists_is_bool\">exists_is_bool:</strong> <a class=\"ProveItLink\" href=\"../../../__pv_it/theorems/6d30a87eeb64dde5b321c51cc1684df35578c3b50/expr.ipynb\"><img src=\"data:image/png;base64,iVBORw0KGgoAAAANSUhEUgAAAX8AAAAVBAMAAABccvPcAAAAMFBMVEX///8QEBCIiIhmZma6urrM\n",
       "zMxUVFQiIiJERETc3Nzu7u6qqqp2dnaYmJgyMjIAAAAcRTyBAAAAAXRSTlMAQObYZgAABLlJREFU\n",
       "SMe1l39oG2UYx79Lc7nkcpf0j8mYoMQWVilbFywykFUyBasT2a1/DP8YNJatWP/YMjeMqMQ4waXK\n",
       "WBCxdTB3Vpiz6haUMB0Oj2SCdJserCJKN/KHZSg4g8WybtL5vu/lfuWuac8fD+Ty3nv3vM/zeZ/n\n",
       "fe95gWUlcF326I1o6JmNvEMEvoTo+ZFoEbh6wPPRF4B0LYUabV9pNYaYitE/yWn5JHAebcPDw08p\n",
       "K3FE2ntjeM8Dup4vGQE15JjQfYXFNbuAUJH6hgu079fWAGKJ/MWcjv5ijEvHWYHEyUy9ojA9X3LK\n",
       "BYAYlzj5vgahxgDGaVjzrQHY83HnjCZ9AgyqwFcJpudLxIQLIBzUAjJxqcIA6MSyGW4BwCJ0wdHJ\n",
       "F30CbEyRn8r0fInQbgJIh7K5BkC0RADeY75JU5OTY1gGYGZy8sOMo3MMPgGOkN/eFMbgV342DHEH\n",
       "FTMC4lYCEEtR33CjUHjJQ0+1A8QLhUOq43GnX4BFkqlzut7EurfWJ1rOesfIQxXjpmoYOqVYKdS/\n",
       "g+yMYpIB7AZGPQZJ2gFCMsLEz0fnq681RjnMAMRsNvvyigC4v4AzKtMTVOlZvgZu6YX3MX5I5Iyb\n",
       "qwbAiLUG1txeTVOqxgAeZsu5NUAwyXYDqR1iI5Ne9BmBwPzFareuJyrizWCR680s+fIUvlMeM27O\n",
       "GIbytkUsXiGTEc0wAB4B+w7P7T+Pe9JNAMhgA/U1jUBd71ztEyB809QTEKa+BJcGUFCwbV8NQ9zd\n",
       "14k0AJB/gvTUmW+ixpsvf1Ttw+ei0qZUe/f3lmwAl0DN8Zpu+x8AxDOWHuKJ1gDAH26AiD0CyIdM\n",
       "gEhth7m5v3FUwblEUmxOIbzLkaDgdBFdikcKVe5f5642nJ2DSUsPg/IyANyf5HL5+w6q1G8YarcD\n",
       "pGNsBOobRslnWeob6KTLgUi5/KYbIPw2fXNb5aIRlsM2gICyh0/hmaakZ52Oz0BDL6psJE9bAZwl\n",
       "idqN6buw1r6I73NEYMZcxPiMjCRt0VYV9bqoLH6y0wUQ3URb31o2qjYADr8BO+9smkTaacnviqm3\n",
       "rXQEx/QInCYWhUXoDfMueCtcj2iRiQzowtlsGOJLZimhilWSEW2qDkAz8mgX4orAnC5DrboA9KR8\n",
       "1XKonwHEyDa6j7i2QO5eaJ7HBVv7wdtDpt6Jjok+TQfgqdJz1Lm0cckqEIa6O0l5GUoEadbMGgDC\n",
       "01sdxRxisu6bRCdnCFvAPV8oHCQAx+iqlp0AP9HWLa9Sgs52nXMD0M7L52aaeq1SgqXQWXf9bNaM\n",
       "q+Q2VYaQMQ0Fv8nm7K9+0PCNyR3YzCGtRyA40FxKNFxa8CrmgONiTWQA40rkdePCOj/N881ltRnZ\n",
       "aMbxvTetma3j4B+XvYo5c5uw+Rap40AZX9PmNDDjDdAzZ9sxR61xT0xXphjA9hK3FtuL9FJinSH5\n",
       "yWarxlc/smk+AcFdUUyYrUcQuORZThsFR83mWzCN9WSTJ8skmCOVgzeA+0BjF5pCVlWrt3hsSLn1\n",
       "bPFwj6t5AHsDhItu3+4la8BdBeSWOFJ2zdruB+ZK7PxnnQRpbPCl9u+OlBIZqMf7SPkjce1aCv+l\n",
       "SK2m9n+SvwHd02q+NVknsgAAAABJRU5ErkJggg==\n",
       "\" style=\"display:inline;vertical-align:middle;\" /></a><br>(see <a class=\"ProveItLink\" href=\"../../../__pv_it/theorems/4902f22cd1ba5fc4517da70d234f43c91db58f430/dependencies.ipynb\">dependencies</a>)<br>"
      ],
      "text/plain": [
       "exists_is_bool: forall_{n in NaturalPos} [forall_{P} ([exists_{x_{1}, ..x_{_a}.., x_{n}} P(x_{1}, ..x_{_a}.., x_{n})] in BOOLEAN)]"
      ]
     },
     "execution_count": 1,
     "metadata": {},
     "output_type": "execute_result"
    }
   ],
   "source": [
    "import proveit\n",
    "%proving exists_is_bool"
   ]
  },
  {
   "cell_type": "code",
   "execution_count": null,
   "metadata": {},
   "outputs": [],
   "source": []
  }
 ],
 "metadata": {
  "kernelspec": {
   "display_name": "Python 3",
   "language": "python",
   "name": "python3"
  }
 },
 "nbformat": 4,
 "nbformat_minor": 0
}