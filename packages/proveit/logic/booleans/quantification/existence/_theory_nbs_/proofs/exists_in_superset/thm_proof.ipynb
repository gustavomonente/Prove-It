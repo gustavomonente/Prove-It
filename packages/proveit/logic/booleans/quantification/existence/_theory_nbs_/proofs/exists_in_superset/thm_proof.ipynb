{
 "cells": [
  {
   "cell_type": "markdown",
   "metadata": {},
   "source": [
    "Proof of <a class=\"ProveItLink\" href=\"../../../../../../../_theory_nbs_/theory.ipynb\">proveit</a>.<a class=\"ProveItLink\" href=\"../../../../../../_theory_nbs_/theory.ipynb\">logic</a>.<a class=\"ProveItLink\" href=\"../../../../../_theory_nbs_/theory.ipynb\">booleans</a>.<a class=\"ProveItLink\" href=\"../../../../_theory_nbs_/theory.ipynb\">quantification</a>.<a class=\"ProveItLink\" href=\"../../theory.ipynb\">existence</a>.<a class=\"ProveItLink\" href=\"../../theorems.ipynb#exists_in_superset\">exists_in_superset</a> theorem\n",
    "========"
   ]
  },
  {
   "cell_type": "code",
   "execution_count": 1,
   "metadata": {},
   "outputs": [],
   "source": [
    "import proveit\n",
    "theory = proveit.Theory() # the theorem's theory"
   ]
  },
  {
   "cell_type": "code",
   "execution_count": 2,
   "metadata": {},
   "outputs": [
    {
     "data": {
      "text/html": [
       "Under these <a href=\"presumptions.txt\">presumptions</a>, we begin our proof of<br><strong id=\"exists_in_superset\">exists_in_superset:</strong> <a class=\"ProveItLink\" href=\"../../../__pv_it/theorems/69064de215313c80a541048bcdb0daa4388fae310/expr.ipynb\"><img src=\"data:image/png;base64,iVBORw0KGgoAAAANSUhEUgAAAhAAAAAyBAMAAAD/1f+uAAAAMFBMVEX///8QEBCIiIhmZma6urrM\n",
       "zMxUVFQiIiJERETc3Nzu7u6qqqp2dnaYmJgyMjIAAAAcRTyBAAAAAXRSTlMAQObYZgAACSNJREFU\n",
       "aN7Vm3lsFFUYwL/Ozuw52/YPT7zWkgAhSBureBVYMRGN0W75wyMx6YraqCFaBa1RxHrh4tXFmFgw\n",
       "pCMaUFRcNY3iEVaKURFlVbwiyiZIjBph7YG0ovVds3O9md1p12l9SWfezHxz/ea979wClNFOGT0C\n",
       "FWnbYXK1cJKud43+UZb8CWvWVuS+cnaSgYDL6OrFNa+VJX50hW47ja2FA1etQW3sFwrlXIlH0gA/\n",
       "LuMdieZZp8VLEJFadWTEfW1tbdcobi8QveVw283nos4LLk+80XZaPjYRIJ6NF0HgpT/t+go16APe\n",
       "h/j94vK8zbYg1GfyFMQDMF4QrUjJbI1BtMGtcorZgVBHqZcgIiPjBlGPTqzPQsDtmeFaA4hVukPL\n",
       "vQcRaBg3iC70d0scnnZ94k8GEFfqjmxNew5ib3rcIP5BBmMAYCrqrp/21KyY4yiou3HBNnWjzwBC\n",
       "P7XY5/ESxJ3alI3LHR0d95YNIsgkJeTXvYnUxOPoNbPR2wJ5kDptT3oZvomtUDd+ZCB8HaQN6KCM\n",
       "eA1CGoSxjoi9TLULh3b2zUTru9ElFHlETEuN7bYn7YBdysXqxptGZRn5TRs4/V6D8NW6B/FS31z8\n",
       "rPOZ/xRk6vYotA+CeDCI9iAUSOnMjclqbD6q2D3gNYiqpGsQ0UfXYqdL3sjmdE17EQTaiDmDAOi3\n",
       "BRFaot27Pu0xiNacFcS2M6clLILazgvoalGQaYJWBuRuspEoAUIaQosvv6rDJy1UdcQB2nTfoCfn\n",
       "MYj6tAWEoNwciMNNRjm6kzQWCCR97ZobgRtSlhGlHkk6gXhbKMBM2H0SHK9TlrSJectI9RDEfWAB\n",
       "IcHvAFdPMX1IvJPqMToAohn0SqQdVIrGsDnTBevoiHgVvVYYGVatgxfiX8FCKBda3w5YsTQZQGzW\n",
       "RznBdgqCwPmhJIhyxJzbcXoQ1ciG3YoeZxht3WWWHFaR3JlK3Y8eu+kjqiTnjS6mB9BA31C3fm6O\n",
       "ggjgC9yBXYIk60CHAuHFM6ei5/XHRKyk9xtAXG9wvwsUxCd49WtJEOWIOXu5A+YRgV+1IFlB4J1f\n",
       "vrcHzwmyfS6Ehkw+anGWkanxttWbL37yqoQvm4BwuwGEQUtHhyiIbqxEO0uCKEfM2Y3ot4LokfMy\n",
       "AdGthB5RF2Tn650BdPwD8q7ow/9tsiZFzzCCQVjTPbKmCiFwScIh6FIfrAWqETw5UxJEOWLOIddf\n",
       "VhAbdm/bQUC0ZKTjoSWNFxmy05/A8UAQ37CrE7r/NCVi1KgpdNahGIStnvb6Yu9CED51CsPVodoC\n",
       "0R2bNj1dWlmWI+bsEwxxpgZpeGpoiGkvAKdhmRlYR3CaITETtR43J7BWOYCAQ8xqHE6llpdhNcoQ\n",
       "c2zCsK6/Quc9LBrIkFyallXDYwXezVUuVRdFF529zO7oYQbiemN8rrasCYSNWPm5kRGnJ3X6vP91\n",
       "O5mBuADCec7hBhMIKiZ2LTn7Jv08vWig7wbyEUVzqIiFm+YU4flGYJK2YxmIAAj6gSYt3Q6nJq0g\n",
       "mNjnAB/ST0eDyWgtyCSaCupDxZdTqZVU+H11t78wWUHcykDIuYAh2ntLVnyKFQQTa0OOLtn3HDVp\n",
       "viRLwakgcKgoPUT7cwC2Kv8bEKH85YZo771Ygwx9jUsbMwYQTOweYNHtjqVUvcfAl9eDwKGi2r8N\n",
       "eYOTf2p0qLHGqusQgrmLprJor7f3SZmjI4gYhIdBIJ6gFKM8Xk3AbEUPAoeK77DBMQRC0RmVh62P\n",
       "MHt/aFyFHnfGYwt6zZ/j9soS3kDeWfT8XFWaBhS98itX80BgMRCPzPqEjnQ4i6ybT5tBHWEVBA4V\n",
       "z2HKsv+LlZrJHLI+wnYYW6Hn69GVbfsUt3UenP+QOSCOUUHgDMfa6VCj0GivF7J9PBAkESKrBuZ7\n",
       "pio+A5iuB0FCxY/ZIMiDUAyTo4M8EGNP4ganuK3zYKvHAzGggojiL7IYzmfRXi+sC/BAELEg2x3e\n",
       "t7OLfMjHkDuf0YEgoeICZkizECo61pEKgsBJ3Ei/6zrPNi6I8BFDPuJoaJJotNcL4iK0SnDzETVM\n",
       "gyK70kMk0Is2p3UgSKjIXAkkLBY1g/R35UAICKpwxHWd51kuCDXoYmqnAMt6abS3G2CPbWKmFd+7\n",
       "W4FL0WvmULAYGoHQibqpQUPF8OPkEXsUWJ01jsDKgAgiU+wfdF3nqY7zQNBoUAUhJmFWjkR74oo4\n",
       "0oQ2IISDWA+2ZIKHIdR1j3QCfDjQeENcB4KFipGPkEMl39s450HtIisqBwLXgnsacJ0nPDUGq52U\n",
       "rV5AbuCBoObMlKqzifbMqTrVw4jov1Kpp5/PA1F+oUfvr7dmIbKcpC5lsRZpbYcyDxVg+jrPA+Ev\n",
       "jDlnWYwVt7gBsVcZ34jQ+ev1S3aerpBk9jPIm0s5lXmIgJbF4YCo6hwziCgv7NeD6E6hZr5Ia2as\n",
       "IMLvNuYM/jo1WLi8oVTFoN+xzEME1BwgD0RPrLJZbF8pAV2BxyWIb7dsMvrrf4IKApoVacixukEE\n",
       "nEB4XuDxFWxBiNMgYJk4C5IsrSs2mPx1iRkgXOeZB0KtIwgsQAMILMYB8TB4DEIctAUh1ygt4Deh\n",
       "yI5ItFpabfbXBXYlpCxhJQSTjiCwAA0gbJSl50VgWGoLYu1CmCG9bwQRer5doMbgObO/Xs0C2T4S\n",
       "6TfnimUeTq2HCJAAAo3JLAeE4PnPAjhmYzuwQk8TcvHNk8OX9RM1BlcgzRvT+eu+g4fogYU4uVk3\n",
       "P62VeYolHtLpUFQBHEAggAkOCKa6vARRleWPCNSWoVuYQQTiVQlS5/Fb/XUmkaZKoESZZx4LIGAj\n",
       "z8WegJ8ORUZsQdwuFjAIrcqDFoFEM63zyAmrv07NeAP48+FBxzIPEaABBD/o2geeg1DvyQFx4Yw8\n",
       "BoF8dlrlSaOeuPgJVud5FL+U0V9X88eBXDDmWOYhAjSA4IbhkSkTAGJ1wgZEOB3Mkamh+ewReBFZ\n",
       "BVrnEbCO4LUXQKw70+zlaQ37e5oAiYktICbkB6cRs5Wbvp+5+9nLQKo/T++zb4ElYr6ydZ7vEFJL\n",
       "qu5amAAQ2Evmuxh7smafPQeX7vQgcRvtdAWiUv+m4I/BJGsu/02hYv+4csYk4xBmVbtdo3/8CyBB\n",
       "1IA1sr75AAAAAElFTkSuQmCC\n",
       "\" style=\"display:inline;vertical-align:middle;\" /></a><br>(see <a class=\"ProveItLink\" href=\"../../../__pv_it/theorems/d86f708fd416de6ec01eff4fa97b67fc3e34adb60/dependencies.ipynb\">dependencies</a>)<br>"
      ],
      "text/plain": [
       "exists_in_superset: forall_{n in NaturalPos} [forall_{P, A, B | A subseteq B} ([exists_{x_{1}, ..x_{_a}.., x_{n} in A} P(x_{1}, ..x_{_a}.., x_{n})] =>  \\\\ [exists_{y_{1}, ..y_{_a}.., y_{n} in B} P(y_{1}, ..y_{_a}.., y_{n})])]"
      ]
     },
     "execution_count": 2,
     "metadata": {},
     "output_type": "execute_result"
    }
   ],
   "source": [
    "%proving exists_in_superset"
   ]
  },
  {
   "cell_type": "code",
   "execution_count": null,
   "metadata": {},
   "outputs": [],
   "source": []
  }
 ],
 "metadata": {
  "kernelspec": {
   "display_name": "Python 3",
   "language": "python",
   "name": "python3"
  }
 },
 "nbformat": 4,
 "nbformat_minor": 0
}