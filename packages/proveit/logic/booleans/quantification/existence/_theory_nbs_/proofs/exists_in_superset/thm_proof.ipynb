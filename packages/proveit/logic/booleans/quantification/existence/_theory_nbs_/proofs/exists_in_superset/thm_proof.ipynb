{
 "cells": [
  {
   "cell_type": "markdown",
   "metadata": {},
   "source": [
    "Proof of <a class=\"ProveItLink\" href=\"../../../../../../../_theory_nbs_/theory.ipynb\">proveit</a>.<a class=\"ProveItLink\" href=\"../../../../../../_theory_nbs_/theory.ipynb\">logic</a>.<a class=\"ProveItLink\" href=\"../../../../../_theory_nbs_/theory.ipynb\">booleans</a>.<a class=\"ProveItLink\" href=\"../../../../_theory_nbs_/theory.ipynb\">quantification</a>.<a class=\"ProveItLink\" href=\"../../theory.ipynb\">existence</a>.<a class=\"ProveItLink\" href=\"../../theorems.ipynb#exists_in_superset\">exists_in_superset</a> theorem\n",
    "========"
   ]
  },
  {
   "cell_type": "code",
   "execution_count": 1,
   "metadata": {},
   "outputs": [],
   "source": [
    "import proveit\n",
    "theory = proveit.Theory() # the theorem's theory"
   ]
  },
  {
   "cell_type": "code",
   "execution_count": 2,
   "metadata": {},
   "outputs": [
    {
     "data": {
      "text/html": [
       "Under these <a href=\"presumptions.txt\">presumptions</a>, we begin our proof of<br><strong id=\"exists_in_superset\">exists_in_superset:</strong> <a class=\"ProveItLink\" href=\"../../../__pv_it/theorems/567c218eeaa616acd4dddbfdad754ad376a9edcb0/expr.ipynb\"><img src=\"data:image/png;base64,iVBORw0KGgoAAAANSUhEUgAAAiQAAAAyBAMAAACezd3sAAAAMFBMVEX///8QEBCIiIhmZma6urrM\n",
       "zMxUVFQiIiJERETc3Nzu7u6qqqp2dnaYmJgyMjIAAAAcRTyBAAAAAXRSTlMAQObYZgAACSlJREFU\n",
       "aN7Vm2tsHNUVx49nZ/Y5G/tDQkt4dHGkEEUBW3UJLThkIRIBIfA6HyoqIXkJYAGKwJBQo5AG81DY\n",
       "8Kg3VSWSIOQhrUigbdi2soAIlCUGgULabEvaqmpKVkqrqqAmix2H2Ak15z5m985j57FZjc2VvPM6\n",
       "Mzvzm3vPPf9z1gAe2ndmzkFT2vswV1s8y5aHZ77wZH/Rjp1N+V61OGeRwG1s8dqO33oyX9Ckr10s\n",
       "bkgnfrQDW+NXi5V8mSfyAJ9uqHs4WeYrvUEiSbQZukw61N/ff6fm9yrJB8/0P3ANruzxeeJ9ziP3\n",
       "+dlA8kraiIR8hvO+L9OK7/MJJPlfn+ftdUai312gSJ6CpiDpQ4+0PwXJTr+eLOWIRO/DQSJJTDcH\n",
       "SQee2FGEiN8z420GJFvNxzcFjyTS2Rwkw/j3YBpe9H3ivwxIbjcf3p8PHMmxfHOQ/B8nmwmARbi6\n",
       "a/HPl6Uce0b7fTcc0DfGDEgsA4+/siCRPGoa2ml1cHDwcc9IotxSwbDxTXQnL+ADF5MPR8qgDNU9\n",
       "6dfwt9RmfeNTjiQ0SNuEeSqbDhqJcgrOq5cc4zOCdPrQ2FJcPoaX0NRpOa90DdQ96SAc1m7WN940\n",
       "utfE56YeNR40klBbg0h+NbaC3PBKHplFuZeej/sgSjqIXB+JBjlhqjLNOHvnG41PBI2kJdsYkuRz\n",
       "O0k4p+7mY791oIoEN1LOSADG6yKJrTN9d0c+YCR9pTpIDly1OGOxru1cxRZrotxj9HE0j9GNjAsS\n",
       "ZRI/PvlLOzlpte5LTrBmfhsjpYCRdOTtkUjaA5E03G88yHbSxrVHNjRQC0tIQ/ea0DrQ0gnJPqkC\n",
       "S+HIJXCh4F5Zk8v2/ThAJE+APRIF/gdwx0LTyyU7mdNjnSJZwIej7aRWnVJ7CsPwMuslb+ADxnF6\n",
       "rq2QD/lstBIrxXYNAHFA3QYkey3qKjrAkFBW/3RF4sXMuX3bgmQezoQP4Y1N4dZGs/mUDufRXO5J\n",
       "fIDuj5hbvW5mLTuAw+DV9l0rSgxJhFzgxyS6yPIVGNQgvnbpIrzpcEomvv3fBiT3WCP+CkPyMVl8\n",
       "5orEi5lzOD1h20vIQ1cUKxKy85N3j5IRQ7evgdikKbKqDkQ6cPZZBUS1G7RkQsUMxAcMSKx+PTnJ\n",
       "kGwnvnfIFYkXM+ewZLwOkhG1rFIk27XYs/oH3fm7oQge/4A+NXaGr0wPUI0+EwSJNTul1vwmRG7J\n",
       "uMk+/RZ7YR6yVAuuSLyYOYu+s3WQvHrkwEGKpLegXAi9efJRoDvDGaJDouRbh4dg+5emKUvXbbGr\n",
       "T6cgbo3rd1XXbgTpD67JAb0j90Ly4Ouvv+juXr2YOYcXk/UGDm1k4NSIs7UIXEFslhBfYtMMKaSk\n",
       "9bg56bbVDQmc5jPOmVxuk4cZx4OZY5OmzDs2C9HImokCzQTWcoKk/8A7peYlGpN40Ss3OJqc4Uju\n",
       "sUkdmMbmAqhr5j2BM+16z06vPJB2KUeyCuJlm8OdJiTMTB5e9/37BWEqD3cvZ6Rka2rmpomxe6tv\n",
       "PjQNc759iyOJgCT2QGX9+3BZ1oqEm/0J4ENRmOL2ewyR/oZR8MY/yuXwEsk2UKtaL1yZ+0ge4kjU\n",
       "UsQgOt9StZBmRcLN+jGiBkGYLgfYr4lIfoFz5e3MS4SyQnLxm4QkVv6hQXS+m+pUYaxrfVfBgISb\n",
       "/QSY3NaF6cMYTxp6ycH1ADx+iaQgVP4mDZxBXeNsvRthrFiziIvO0dGfqTa+hJpBfAqkjYIwjU+C\n",
       "9JmIREnlIMFhvpGBK6sRpGqZcc6ztOVvwnkbn/E/aY/uFX6PwV/y+lJLngmZUfU3d9ghIWYgn1v2\n",
       "sShM5fE/bwERSRiuhhD3qT1XLKnlSCRrXNJYaeuvM1v6j2t+K1skL6O6IblAR0LSMDsvh1aNic5R\n",
       "KI7ZIaHZGpUPBF2Y4rY0ICL5B7oalSP5I8DltYn1FJxforHaUOFGF/qtbJHp0hXJhI4kSV7UWrie\n",
       "i85ReDlih4SaRfluXZhGixA7KyCJHz80rMk8uH4e1UXVISWahYSkoxPjvitbB9yRxM8Z8iULoFth\n",
       "onMU5DW4yNjmS1r5I+rCFLflKQEJzlUjGT00QVY91SdWvmoSEgnZSud8V7ZecUeiyz7uqyqwYZSJ\n",
       "ziMAR+umkPrwRlCqMmG6HZ9fg21FAcmtSKkEe/5OrzkNsYtNvbIJSKI4YsOnfFe25qVdkTBlqiOR\n",
       "s7CsREWnvDmNPrIOEunkDxDmRVyY9hbUx7uWPy241+gZiA3jPP0OCdU+nOi6V7iJzU1CQqrkI52k\n",
       "shVflIJtTu5ZNFA7XZGwSdGUaKwjOk2JxoRRsBpmnPptpQWJj9KWoA36ipDYRFOvqtyGztyhsMUM\n",
       "uHsvuyIJVxrOvb5tFKwekRzTzqOXCNqgY92h72o0Qf8SBoI5p8IWNajlmdyQtAw1jKRkJ1gFJLEc\n",
       "Nsu76ys0hoRWtgRtMMzQzgfQWlIw7ljYogZ65tIVyUiqYSS2LeRm0GBpi1W2BG3wJehIoEdTJh2r\n",
       "ONTAM5LAS1uhij0SeTFELD7yhqyeoF5l0gYKn7lIZes6kNockRADplWImRuSZyBgJHKdMrnaqvVC\n",
       "2ASlOK1w11E2aQOJXwbdK2yBaNYRCTFgWsWLew28TA7r7ZHsXA1LlPeMSGK/HJCYM+KVrZo2mMdd\n",
       "yhjNTPSUKBJrUYtuUQOqVbCTFt2QSIH/mMI85VRLW92oJsxDJ1QMM1XAK1tVbRA6eZodWE2Ss+0r\n",
       "86yXDGpiUYuWuDbqBkSrIMqMGxLu7IJE0lK06SXYNuD1zUgi6ZaMWNkyaANmkWfOgiFJWCO2fdyb\n",
       "MK0Cu10D+ln4YZbtz/ewPSJXCJJaXQs/IpkesbJl0gZ0JuqEcDl+ihe2VOvX4QugBkyreJB9xyFw\n",
       "JPp3mpHcuKRMkKBOYHWtPK7Ja38qVrZM2oC2rRApRVOssCWUsarBPO6lBkyruCcHEgtnAcm2jB2S\n",
       "eD5aogMnISiG13BGca1sye1XmaNHoReRSa5mEHVNIc3KT4EThulSL22Fi7eB0nFtTSeQtXVyubmV\n",
       "LdTmknOi8S6YBSQknW8Trxwtmt90CW49FHQqOjnkC0mz/vmET6xzsvn855Om/YvS9+YskTj/Zdjh\n",
       "mS++BrkRy+MOWBiAAAAAAElFTkSuQmCC\n",
       "\" style=\"display:inline;vertical-align:middle;\" /></a><br>(see <a class=\"ProveItLink\" href=\"../../../__pv_it/theorems/3c592bbd974cd12548279e2f9e78c176e2718f920/dependencies.ipynb\">dependencies</a>)<br>"
      ],
      "text/plain": [
       "exists_in_superset: forall_{n in NaturalPos} [forall_{P, A, B | A subset_eq B} ([exists_{x_{1}, ..x_{_a}.., x_{n} in A} P(x_{1}, ..x_{_a}.., x_{n})] =>  \\\\ [exists_{y_{1}, ..y_{_a}.., y_{n} in B} P(y_{1}, ..y_{_a}.., y_{n})])]"
      ]
     },
     "execution_count": 2,
     "metadata": {},
     "output_type": "execute_result"
    }
   ],
   "source": [
    "%proving exists_in_superset"
   ]
  },
  {
   "cell_type": "code",
   "execution_count": null,
   "metadata": {},
   "outputs": [],
   "source": []
  }
 ],
 "metadata": {
  "kernelspec": {
   "display_name": "Python 3",
   "language": "python",
   "name": "python3"
  }
 },
 "nbformat": 4,
 "nbformat_minor": 0
}