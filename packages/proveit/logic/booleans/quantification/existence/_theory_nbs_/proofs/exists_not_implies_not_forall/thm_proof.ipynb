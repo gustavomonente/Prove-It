{
 "cells": [
  {
   "cell_type": "markdown",
   "metadata": {},
   "source": [
    "Proof of <a class=\"ProveItLink\" href=\"../../../../../../../_theory_nbs_/theory.ipynb\">proveit</a>.<a class=\"ProveItLink\" href=\"../../../../../../_theory_nbs_/theory.ipynb\">logic</a>.<a class=\"ProveItLink\" href=\"../../../../../_theory_nbs_/theory.ipynb\">booleans</a>.<a class=\"ProveItLink\" href=\"../../../../_theory_nbs_/theory.ipynb\">quantification</a>.<a class=\"ProveItLink\" href=\"../../theory.ipynb\">existence</a>.<a class=\"ProveItLink\" href=\"../../theorems.ipynb#exists_not_implies_not_forall\">exists_not_implies_not_forall</a> theorem\n",
    "========\n",
    "*** see <a href=\"../__pv_it/d4bc3a79fce958a589b27184855c0498ae128f210/dependencies.ipynb\" class=\"ProveItLink\">dependencies</a> ***"
   ]
  },
  {
   "cell_type": "code",
   "execution_count": 1,
   "metadata": {},
   "outputs": [
    {
     "data": {
      "text/html": [
       "Under these <a href=\"presumptions.txt\">presumptions</a>, we begin our proof of<br><strong id=\"exists_not_implies_not_forall\">exists_not_implies_not_forall:</strong> <a class=\"ProveItLink\" href=\"../../../__pv_it/theorems/5039cd226e0b8a9d3ff96f81f1e071d349ae16820/expr.ipynb\"><img src=\"data:image/png;base64,iVBORw0KGgoAAAANSUhEUgAAAc8AAAAyBAMAAADILU1rAAAAMFBMVEX///8QEBCIiIhmZma6urrM\n",
       "zMxUVFQiIiJERETc3Nzu7u6qqqp2dnaYmJgyMjIAAAAcRTyBAAAAAXRSTlMAQObYZgAACGZJREFU\n",
       "aN7Vmn1oE2ccx39J7nJNcmnLcKKOQbSgUtQG3RS26qIDu7EXTwfDPwaGMguC07B2q3PO6QZaN5zZ\n",
       "C1odnbcy3HRbWzeKUybeWsdAqwZ0r7gaUJFtTIOtztaX7nm5S567y12uzSH1B8/lueee53Kfe57n\n",
       "9/yebwJQ2DxDQ4rVtaMwmm0P/RCHhsqdVPcc3ClbXBKVUQ3KpclHcOfHzkAly0uT2RPvZWknsqSj\n",
       "ZwiknBTZWShJU2+DdZ1e9ZMvEjSkay/GYHZdXd0ER4/5RS77y9CmuvOyrsiRrVCTzfQpUdwB/TRm\n",
       "ANW+v7D9xeTvoCeaoC9yYm1qsgENjnEH9G0YKWg4msvzt9DYuKorcmRihCY7h7jfFdDQ4IhBBWYm\n",
       "e/tRuqUrcmTBcpoY0C2m71HcABWiIwbdwU6kDIC/X1fkzC7QxIAuNfXFgBug55IjBq1g8mVoEdgd\n",
       "JUWtkz+aFrHtxUkrFnRpJ900Hc0/I6jVuwG6BoygPzU2Ng44uedWJr9MgdA6UhRUwi8LaeA3WLb7\n",
       "Cn6NrGcXj14V1NdIrM/UGXLxoHw/jLhHX9ceDc2hqpU9M2VSJMriIJfkZyUs2x2DU/KT2skBmlhn\n",
       "FPrH0KA9Ujyor3zkoGO0ICEOsE3WioJQgjuTswaVoYkZCjTpvG7bGH2D0nTxoJ64O6D/MUVlEXtQ\n",
       "gKu2oIGVBt/tHSgedFnKAlSsWLLcVLvr4cmSbuhqoHwfU7RMKgDKX0OH0z9Pwl6nhiY6Ry9TM65R\n",
       "gdvFg1YlLUAr/ekG8Os3Al55lRAzOyME6u3PFoXkKlTRDvSQNwOVcOZBGG9wRroonrWxxYNuBAtQ\n",
       "qTQF/A96UB7+ZU+7tYwEpYPZokUd26CF9mg7euTgHVAP2hl3syQTSAVaE4AbVdPEgLaZt1mbVVDy\n",
       "Cv4sBFpKFinDUB1nBr2E/CiKWstQXwvG79QtOzU5l3blekQr2jOpdW6KggprUdGroB4E7A4aZQjW\n",
       "Vlagh/VHONxFF2liQM0zBk6poMfx59+FQMUO7MD0jx7sy9+jxENIJlA+w8Ppw2fzhICmIjJ0D5kj\n",
       "Tjn3RD5FgiCqhhMDmieKPCdR0GY8UTYUAiU1mg1PftUCNJA5CQoGDbwDzTI5NMu7xbQI32wQLEMY\n",
       "piiEQc1bejGb2w3CU5KjoB699AgFxd1E+st+juI+P254wTctQIMvPT1NxqD8A7A4yY9Hh8Ude850\n",
       "HQO/tNQy/M4VBeagwRw0R4Kt2dxC8J5wtE3D0ztKQcPH9u3bUdgZnd23b6/BF4avWQ5dMhLRGwxl\n",
       "z+irFGB6zLzxhnxFYfP1VJ4Xs6UgaFlc9bo3mprWFQYta2rarORbitmC9Yx75qseBTjIyh5ErPo+\n",
       "5ZqUEk7SNKPBHnSDCro87zBipwgG9UtQgm76xPXuTZpLEAcLPkvKpn/ulnnSKujjEEznuR7Vg3JR\n",
       "Mh3C5SBqI9g3CPeCeRIqqABedsjw9UdhYtwECgmYjo5+FMhk1GJ/5p4AFcpVUDElZAu/7J4L34my\n",
       "TzaDngD8ZoQU3V/ci6CB9PPZmfTuLhkOR6IidM+qn9WhA/2Ex96rPQlT5Htr6Ara0IUtLyLEuUsq\n",
       "8HRF1tn5gWieo1CyHS8Mi7p6svyiWUpoyWVnXBz+M7UMqzZy6eFLsVDSqTOCbxFyeH7Kk6Rxb6f4\n",
       "9Qt5QENzcPYku5pcMwk6TIR11EkUrQ6k1TfqVj2ib+7A/EmydBfa/nq0dZTsdXdNgTI5SOA6QenO\n",
       "A0o3vKyQG+433rM0yYI6iKIZdWyjrGvuRO1ME9C2QjePaqBhPOlqYT7wa5qa3kKgLUI+0D/wgY36\n",
       "QibQ08CCOoiic+oYHInomjuxLgIqRuxrtSu6/ej9UM1DnPYot4TsE/PsR3l2WvK3jfd8TQfqIIrW\n",
       "dvBo+lcpuuZO7FMCGiywp9aCem3DAQ2d8CPOnkGBrdXGe0YfO7qM27RAQgfqIIpWbRtKq2OBxDBB\n",
       "S2MkvL5gX+tIBwvKxWEaWiJRGbc+Bn5nCsN6Y6wb1YE6iKJVu4NeUh9p3joTAra/xrEVxCgB7ba/\n",
       "+alkHillKpqjzqWUxwznJSk9qEUUbda7bgEcUEhzZT6OvJZa16UVVG+YJqC99ndfXbxmdM6gIQho\n",
       "QMzBovQ6CmoRRZvMe72nu5I0D3TMQ5HXc3Msq9IKuf05Bj1gf/dxLsidBk/j0faa2ymoIYq2tJJB\n",
       "rXkQ7sOrXY31kkIraOIMAV1me/PAVfcFbCMoG0XbrnSJbHNuECu71qBqhWGAuiFg+zLmocuCkiia\n",
       "m2zWA2FBHNYyIyOabe5Lw0SwAyUVVP2ao0O3xn64JIoH5fotnJEKSqJosUxebBSzQRlkv7kqlm1e\n",
       "EodNto9OKqj6tSNnRAd6kT8b1hs0o2hWrKagOIreVQNTjWJ24LOElwmZrsjZ5r44d5uCZgVsnMmd\n",
       "4Qqafu1TCGi1fTAiuwBqcLucPmBQ32Y1Ci+Ng9en+HOB27yh2mzzYG3FAAXNCthEu9YEbFpB1a9L\n",
       "JQJqv00aCy6AehS7EFCNohtQeGkEFWIeKSdm65qjSUiHrpWAjSpQ/Ro+pyGgbUDlzk/7hj9rGIJ6\n",
       "1V7hMnoxGx0EaREjZjPNV0G7tjIqpq/D22RSgerXjoL60qgboHDe4CmSeUAXTk3rxWyU42rfY8Xs\n",
       "XPM3AIVmH76JxrKFgE0qUP3a0TZtv+wK6PuSzcZbLUsib6oXs0OwF7ayYnau+YIKyVogxU49V4G8\n",
       "VgRqG2W69YeqUMJSC5mi+gi/8qxBzEa5lVyaFbNHJqX8jqKBS7Gw7W7dH3UHFGYXbMydVXL9oeWe\n",
       "6blLythvMCxQ67+x+iOjWgEc7t9Ybf6Y/NCoBt2jhiJDQ+X/A9rRhN5UW6nYAAAAAElFTkSuQmCC\n",
       "\" style=\"display:inline;vertical-align:middle;\" /></a><br>(see <a class=\"ProveItLink\" href=\"../../../__pv_it/theorems/4f3131bb01e4c8e16f2b34aac277b29a3c50d94d0/dependencies.ipynb\">dependencies</a>)<br>"
      ],
      "text/plain": [
       "exists_not_implies_not_forall: forall_{n in NaturalPos} [forall_{P} ([exists_{x_{1}, ..x_{_a}.., x_{n}} not(P(x_{1}, ..x_{_a}.., x_{n}))] =>  \\\\ not(forall_{y_{1}, ..y_{_a}.., y_{n}} P(y_{1}, ..y_{_a}.., y_{n})))]"
      ]
     },
     "execution_count": 1,
     "metadata": {},
     "output_type": "execute_result"
    }
   ],
   "source": [
    "import proveit\n",
    "%proving exists_not_implies_not_forall"
   ]
  },
  {
   "cell_type": "code",
   "execution_count": null,
   "metadata": {},
   "outputs": [],
   "source": []
  }
 ],
 "metadata": {
  "kernelspec": {
   "display_name": "Python 3",
   "language": "python",
   "name": "python3"
  }
 },
 "nbformat": 4,
 "nbformat_minor": 0
}