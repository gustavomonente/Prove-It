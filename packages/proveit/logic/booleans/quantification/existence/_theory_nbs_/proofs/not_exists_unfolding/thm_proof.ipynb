{
 "cells": [
  {
   "cell_type": "markdown",
   "metadata": {},
   "source": [
    "Proof of <a class=\"ProveItLink\" href=\"../../../../../../../_theory_nbs_/theory.ipynb\">proveit</a>.<a class=\"ProveItLink\" href=\"../../../../../../_theory_nbs_/theory.ipynb\">logic</a>.<a class=\"ProveItLink\" href=\"../../../../../_theory_nbs_/theory.ipynb\">booleans</a>.<a class=\"ProveItLink\" href=\"../../../../_theory_nbs_/theory.ipynb\">quantification</a>.<a class=\"ProveItLink\" href=\"../../theory.ipynb\">existence</a>.<a class=\"ProveItLink\" href=\"../../theorems.ipynb#not_exists_unfolding\">not_exists_unfolding</a> theorem\n",
    "========"
   ]
  },
  {
   "cell_type": "code",
   "execution_count": 1,
   "metadata": {},
   "outputs": [],
   "source": [
    "import proveit\n",
    "theory = proveit.Theory() # the theorem's theory"
   ]
  },
  {
   "cell_type": "code",
   "execution_count": 2,
   "metadata": {},
   "outputs": [
    {
     "data": {
      "text/html": [
       "Under these <a href=\"presumptions.txt\">presumptions</a>, we begin our proof of<br><strong id=\"not_exists_unfolding\">not_exists_unfolding:</strong> <a class=\"ProveItLink\" href=\"../../../__pv_it/theorems/269ed0eddadea43b2ebd0718ea7e45926c10408e0/expr.ipynb\"><img src=\"data:image/png;base64,iVBORw0KGgoAAAANSUhEUgAAAbMAAAAzBAMAAADvBPvYAAAAMFBMVEX///8QEBCIiIhmZma6urrM\n",
       "zMxUVFQiIiJERETc3Nzu7u6qqqp2dnaYmJgyMjIAAAAcRTyBAAAAAXRSTlMAQObYZgAACB5JREFU\n",
       "aN7Vmn2IFGUcx3+7O7OzL7N3V9iLSrF6oCLqLloK+bYqaPTirf4R/RG4WXdBmJ5pranZWaCnvbhG\n",
       "qKfYjUdoGqkURxmJk2cE+cKSFhiKC2JSgS56vl3a9Twzz+zMPM/M7OztiNcDdzf3zLM783levvN9\n",
       "vrsAXpen4H9UfL29st25I0zNX/fyViMZ9a/Y21vnCu1Am2RzSmSZm+/pMMwmiG3b3KGlbU8NM/7j\n",
       "v5Rua9u2LlfRvYTzld37AYDYxZTt6ViBHPBVokVNrxdTML7plT8GubrF33rXNJ1Hk+HzCoclmFMu\n",
       "ZFs+8AhtR4pCw5de7+4e/wUIoV74s9LVVHBG026pWrT3gEETwB0afxsN+hWIJStdTYed0bSJVCVa\n",
       "tIdF2+ISzd+Nfm6DkKsUbYcJbR1zfqUnaEKSRfvFJVqoiCZvN2yuWANrUka055nzh3JeoJ3LsWiN\n",
       "LtFq0ZppT0I9OuwY9smouGNjYwsxaURjJzTp7yrRlgGN9lP2RrbHFdo8GaJo7nyIhEGOvS4UgG+x\n",
       "lw61RUneFbRAVilXGfnv8QCN72bQsIC5G7XEgmNjkfavQC+TxB4ux4+zf9arLbQF3mySkejfdD9c\n",
       "8QAtUMeiRWWXaBtUgzMA3QuE8IBx9mikBenQolkh9w6gWl/yAM2XYdHE/S7RboCGhtZd3BmNtLBE\n",
       "Cy+gNTaRqx5tXp5Fq5EQmlg/t5GdVaZKnqyRFcobpcuh4RaxyXPr1XbqWrukFubp0Z6vHi2RY9EE\n",
       "QGgjg4WlEKQstVJpeqzhgmQkKiXALzmhqS1i0/K+nC4jauEKNpOpOrTVwKJtwmjpmjzwP1BouNLw\n",
       "dCI62gXQsH8DbFdHLYLcF+wr0Adqi63DoRa9Z0A2ou1l9yShZoKmUJ8th1ajyCo1AR9m0dbel80i\n",
       "Y1iLelegL1prGOTA5evq6pkFsHNox+Q8mZBZ9CIB9/qbQA5wDWkxH6bhTkkb0Rot9LRI0I6W3z4i\n",
       "NKQOyjoy6dZVi1FTLzUP0iwaqoxNPEtt8HSjpaBFJXYylg4fgEk8wC6T0bLwabFrBG0LVpmWcmhK\n",
       "iy3UY+2KBRq+v3DxBMgYLbwetkjkl1IZHUHvVHU3EcVnRHYMdC0swtLOsvZYuy+EhodCGRPntYbH\n",
       "9SjVn/+waHjLAZHXnhklYTR+MMzJ8QPxr8FqZSPjOTR/G56Ap2gH67F0xcjAqHzZTY02mxBa7Oc9\n",
       "ezaXl5Eze/bsbrYaeGrUdMXBEzKq9wNJF/ynqBeZt6LslpuuCeXKocF1TSFvtrauLI9W29q6llom\n",
       "/lv0PmWVQUr5xERlt6/v+5VUJnq8ygDhNLrORWe0mxpao9WmB0A2owXTSn89eb1rjbauxfI+OO8w\n",
       "HHevPKqhzVAXCF2SZjQuCXvxJKwDUZuXgR7on+UhDU0Av7FL+SVHYEiGQUPKNhonHxnwF7UApthP\n",
       "0RZraGJeKFV+0TUZvhWlgMSiHVdkW8jrJrz/o4ULz5U07/2tEhyMJ0XoGrdk3H4T2qc89gb7cjBc\n",
       "6u8TMlvykOte1lz1DFzX2fmxyK41CG3CstRw+FiJWLzFvOl2/XDMhXAbKncxbiVh6wF7GYGv0UxT\n",
       "XbUiJ53ily9YoEUn4MMTRq2/xjwsDc/jIxBoamp6UXJxj7FFN5sWPgGVxq0kbA0yXuvBEhre5imu\n",
       "OqLgdILcZYEGV+jgMdbNhE05I5p2eXcR0Gqp0riV+BJW36+W0GK4Z7Gr5pe1tr6L0LYLVmi/419G\n",
       "bxVl0E5C39DmoYfooXjFcStxk4dp5Nvm/ZriqjPqqHFzweiYDPs13ri8+Dv0td7qI1oC3WBCrjhu\n",
       "JWHrDjt7bHTVP+JDZPLO2G1Fx1zN0QNvVIHmPqJtQD+LUhXHrSRsrUlZ2fYSmuqqQ0j9uFVoZbrb\n",
       "Za+iPWSyj2hoJx1G/YQ0OlIfh41O0tMxFsKDzGGrSM1jVbnpAGEEWmvuA4SptCnPm9DEbDb7jhs0\n",
       "/MnGN7KSk4hcHSSc0lZ5mm6HSEoSo3QkWKw+GzlHda+ABn0CTnRXVjZq/uvHukaq6da2QAFaHdLW\n",
       "8P4puh0iYWuUau1r8SCso3awPm3Sb6oMLdRTyiQlXxw9ZezDrQjcr2eSJJHkKcPXHvc+Yu0rWm2z\n",
       "Hrc2SPw1p9yO61FTSwc0LyLWQJGdkAwaN4wNgGB6BpYbRj+px61TwF/nhIYm7BA4+evQpB620q3X\n",
       "ehCMc902MmJEE2ulOUzcKvcYr5xIleJWWAOhjBMaOrsGTj0CA+1lxIuPM2AJpbqaCvMGtK2zYAQd\n",
       "t4Y/a/YbRPCyVIpbYTw05BW0Ur5qTlsDGe5OuKMZ8PIkYWvAHGz4vfgQipZIzvzIrkFauViCScjE\n",
       "0VMyIAfjpX+m9M4HLW6FnUOn5pQ3EpaToNWctkbm19+CYJyr08PWmrSVAlSJ5pPLGS1UliITR6MJ\n",
       "KV/65EHK9BCjNYX00Xdgnbai1eZLB+R0KWzdZW7lzQe+1Mf0FvYYlTe4Ih23gpBugK9aBGDi1mAh\n",
       "0k2eVLJl2roQ9qWgHYSn03b2+Dx4gaa9jTEjZNBmjijQcStw8z+CYJr5iH0dCPlQXE1bI3HLtPVt\n",
       "QH5pJviP221qooO8QduYdtiKkrocEk46bt2N1FCA0SkmbuWGPq4NoXX0N70+TYWtIfOj06uvxNAe\n",
       "xxAgDL9AHJ08m41bF3AF2Anf56sKEEjYetpc+xJ4g4a0ulzhzshs3PrssbsV+cRaKkOz/9JgMN7P\n",
       "0qxKvzTo8FXPx/oXWeRVIqa9vXX/ASVoa7SO6W5PAAAAAElFTkSuQmCC\n",
       "\" style=\"display:inline;vertical-align:middle;\" /></a><br>(see <a class=\"ProveItLink\" href=\"../../../__pv_it/theorems/a9e9ce3b7f6eabcf1f48b1be39662e05fb68cdc90/dependencies.ipynb\">dependencies</a>)<br>"
      ],
      "text/plain": [
       "not_exists_unfolding: forall_{n in NaturalPos} [forall_{P} ([notexists_{x_{1}, ..x_{_a}.., x_{n}} P(x_{1}, ..x_{_a}.., x_{n})] =>  \\\\ not(exists_{y_{1}, ..y_{_a}.., y_{n}} P(y_{1}, ..y_{_a}.., y_{n})))]"
      ]
     },
     "execution_count": 2,
     "metadata": {},
     "output_type": "execute_result"
    }
   ],
   "source": [
    "%proving not_exists_unfolding"
   ]
  },
  {
   "cell_type": "code",
   "execution_count": null,
   "metadata": {},
   "outputs": [],
   "source": []
  }
 ],
 "metadata": {
  "kernelspec": {
   "display_name": "Python 3",
   "language": "python",
   "name": "python3"
  }
 },
 "nbformat": 4,
 "nbformat_minor": 0
}