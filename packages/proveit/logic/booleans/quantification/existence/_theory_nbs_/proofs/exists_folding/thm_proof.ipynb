{
 "cells": [
  {
   "cell_type": "markdown",
   "metadata": {},
   "source": [
    "Proof of <a class=\"ProveItLink\" href=\"../../../../../../../_theory_nbs_/theory.ipynb\">proveit</a>.<a class=\"ProveItLink\" href=\"../../../../../../_theory_nbs_/theory.ipynb\">logic</a>.<a class=\"ProveItLink\" href=\"../../../../../_theory_nbs_/theory.ipynb\">booleans</a>.<a class=\"ProveItLink\" href=\"../../../../_theory_nbs_/theory.ipynb\">quantification</a>.<a class=\"ProveItLink\" href=\"../../theory.ipynb\">existence</a>.<a class=\"ProveItLink\" href=\"../../theorems.ipynb#exists_folding\">exists_folding</a> theorem\n",
    "========"
   ]
  },
  {
   "cell_type": "code",
   "execution_count": 1,
   "metadata": {},
   "outputs": [],
   "source": [
    "import proveit\n",
    "theory = proveit.Theory() # the theorem's theory"
   ]
  },
  {
   "cell_type": "code",
   "execution_count": 2,
   "metadata": {},
   "outputs": [
    {
     "data": {
      "text/html": [
       "Under these <a href=\"presumptions.txt\">presumptions</a>, we begin our proof of<br><strong id=\"exists_folding\">exists_folding:</strong> <a class=\"ProveItLink\" href=\"../../../__pv_it/theorems/03ec8e9f9aea43662d1ea648369d60a7596ec4990/expr.ipynb\"><img src=\"data:image/png;base64,iVBORw0KGgoAAAANSUhEUgAAAx4AAAAmCAMAAAB9Jb1RAAAAOVBMVEX///8oKCgUFBQNDQ0QEBCI\n",
       "iIhmZma6urrMzMxUVFQiIiJERETc3Nzu7u6qqqp2dnaYmJgyMjIAAAArQGDrAAAAAXRSTlMAQObY\n",
       "ZgAACANJREFUeNrtXAmWpCgQdWZkk937H3bYBUXF1MyurCbeq+wsoYMtPvEjwBqGB4SPRuTQpcuv\n",
       "EWhtmg/PwKNPZ5ffJ0/BY+pT2aXDo8OjS4dHh0eXLh0eXbp0eHTp0uHRJQiZpon1aXhFkJk62eHx\n",
       "q6Uvxx1hpMPjL4AHi/JbzFa9U7tgVXjoVEGpe/B4QlOX5+ABiZeH9sBPiyLzTE33NfT95/TNjJTV\n",
       "4CFF/EXze/B4QlOX58kV+Vb3MfsNl3p86zcPg+saPFgEJXsdnR4eT2jq0uERBc8+RhYzsM4Evrs9\n",
       "CWqxR9zql83/1djjAU1dOjyigBmFfy1M3p+KizcHS3goya2wG+F1gMcDmrp0eEShc+i/hcknjEqj\n",
       "CjyGmVqZ5G14PKCpS4fHKvRgs6VVIHArDgBhCEQi9JK17qmQsAYPgh1WGydRHsDjmqYu74WHnLzM\n",
       "n1iPu23gvdBD+N2W+mQoN7+oCQyTfh0duyqUrsEDwTxuPxN4AI9rmrp8mfdAq9gASgn5/qZ5SQTa\n",
       "hh5EmgaAb2Hy8aw0v8mZD8iNCb+SAypVFH2YavBwswl2jyrwBKXpOxjJKTxONLWGZFrjbuKNovSE\n",
       "PgWPwhiZY+rYW9ADTUC2CT3y44HRj9I+oqEfGMJXApJcxdpfVeEhVfUeAhcSQlMkqENc2CgO4bGj\n",
       "6SK80TfaKXuacODGcvlH4MFGrxVaW8IPRJucrEOPYhTjMso5BQ3oVVubwQV4MD1gst2XqGDclgsF\n",
       "LCikjV0MYM2P2INHrglR4x0hJbzmjGvO+qvhIbdDvmkzK7rB98r/DDymwBHUmGLOu3kjtrLVYiOe\n",
       "xFKA78IjU1GQxzq5MsE08XOsoMLAJwlQ6p3AAjMQV/vQeyya4syZALHijCvOuoRHhBH5EnQEE8yH\n",
       "fNsqC7oB7YJKmxgc7YdcytvgIQHEoMmM92tm6wXGFCEsqYDmJqpVV6Q8nnrEtn2p4L5FH5G8BI9c\n",
       "RWbvu6G5+R+RxCk0mm44v7kE2AIbcqVwEzxERgcJSfO3csbn8AitsS+BR5ycbMj3CUdON7KJoKvy\n",
       "JngYWyB6cGEKOb7xk9U8gIeO/YE6nkm0N1FvQ5RrrYvQIyRd0SzccUi4nRjgwUMKePlSeRS/FCoy\n",
       "e7djkXV4RC7GOLAN2o5xmMPDuI6QFD6BR87qvP8NUVDhjM/hEcrgl8TocSPMhvwA4cjoBuWVWfPl\n",
       "u/DQIbFrF9l0RisP5JMbiqnmITzmCH7795sQLf7jaRP1NlBuDlDPMwEb4sMJABzAeOU1eo9pCg1O\n",
       "ybLTt+WLr5SryOzdTRjegYeK47FdQqPLV7kjPgo8PAzWpiZ4JE0Grnb1gO9U6Ywb4KG0a/5LuNW0\n",
       "HbJ7hICd6qnhhmat5kI3kKzNmi8/9R7RogPYznuzd1CSrcYIst0OkctNVNrAxwcCtUsliVyJljuw\n",
       "tUrJ3jMrPnjfY8TOx+Cc9Vt4DAiD/YRK9X0PNEsg4/Wrwhm3wMMVqi+5vBVvPGRD9o+k3Znw2MA3\n",
       "lpol3SBul/jP/KjNrHk60ggPm5bBTbYbaioolJI78DAskpvVYS6hFI8f2puotYGOiXTtSmKCRxOR\n",
       "rVVa7H3vSmKxzi7QQo5OJRwoN//qoAtVeMh8NyiccWW6pfdVVKf1tu0/4zxwuSOrsCmjO+wH8Bov\n",
       "yIbsHjFuFxDQc76RalbpBhBVI/XlLfAw62r7JhfbZZauVT6WmsL2ZtqBBx/NdqmEv6Xkln/bxMU2\n",
       "1ImNVy5jiOi1W66Y1Cpl9r5zob1cEFsCpGfQIkLUTwK5CA+aw71wxgfeg6T1NoEneubyVtYPRlnc\n",
       "Jhh4Sumy8WVDDo9stOc49OmGmmpu6Ub5IhBdlbfAgxOFjGPji+3iUdgPVn6IvKaJnjDdS+xySKVN\n",
       "RLCoctvExTbgST5/8zoUg1OIT5oOomuVCntnp/Aod8gQezQAswaPOd/yCmfcBA9DRwh/Gh6ewLLx\n",
       "fspY5KOLK5wNOTyy2RnrwM/hEWqu6QbRWv/7j/nQW3KFrpCrpTD0pEZcxUoLUEfrhUlIIQFRb+JS\n",
       "G6d3kd77Mq2qv0z7hNTggWPw5Xxq4Yzb4IF8llQAEGoeo2Wptw+PkOG2LtVn5m4oJ9vx4yzeDI8m\n",
       "bAKSBr6Ralboxiq7vXTDl1+DBwazP9UVlVC3eGbzxkKqg/Vis44HZ9UmLrUhfswL2J+AB9BzOLZy\n",
       "LrZ0xvvwYNl6Ty44EAi6k/gz+h7rHcEjhLeK2kzRTeV0s10uQ17wgAhw8dQZ31hqbukG5Tu49OVX\n",
       "vccB1zix0M160Xh0gdTdNjgc/iZ41NxpcsYtmavFCETIYJ7wk1Bvm3BZJp6ohLuQFHtdecEFwJZF\n",
       "uEecRUye8Y1Uc0M3xG4Epoc9eLzn71wdWLC42xz4IX+ewP6dq8/CI03d4oyvwEPzcP4VN+DtB87q\n",
       "bRMuME/1GB/uPL/3HjeU0+GEJ7qzQTkg3cQ3Ys0t3djl5KH8O29wfoV8BB5q64yvwEOBcKYYMpK2\n",
       "z+5UIX24R6neJuGSbXoCSkkZH9KNjNeVl1Srwi7sI6SkbOMb25qBbuye/UQ60uHx3fC46qzL9TZ0\n",
       "LNCLsMGLOntL9TYJl1Uzk4DJvF9XLsQpu7hJOABvK+/w+KXwGJrgIQEYWiw41NsmXFbwID7kd+ce\n",
       "ryv/OZFkh8ePh8fcekLy+nov9P2yvp0gDN1QDniHx+8We+o3P7TK2MhjqRIw9Zdp2ydLTx0e7xBm\n",
       "bXr4H4zdZ19KYJSaAAAAAElFTkSuQmCC\n",
       "\" style=\"display:inline;vertical-align:middle;\" /></a><br>(see <a class=\"ProveItLink\" href=\"../../../__pv_it/theorems/c5d65c2aa8c21ced7c95eb5d91caac229c02a4c80/dependencies.ipynb\">dependencies</a>)<br>"
      ],
      "text/plain": [
       "exists_folding: forall_{n in NaturalPos} [forall_{P, Q | not(forall_{y_{1}, ..y_{_a}.., y_{n} | Q(y_{1}, ..y_{_a}.., y_{n})} (P(y_{1}, ..y_{_a}.., y_{n}) != TRUE))} [exists_{x_{1}, ..x_{_a}.., x_{n} | Q(x_{1}, ..x_{_a}.., x_{n})} P(x_{1}, ..x_{_a}.., x_{n})]]"
      ]
     },
     "execution_count": 2,
     "metadata": {},
     "output_type": "execute_result"
    }
   ],
   "source": [
    "%proving exists_folding"
   ]
  },
  {
   "cell_type": "code",
   "execution_count": null,
   "metadata": {},
   "outputs": [],
   "source": []
  }
 ],
 "metadata": {
  "kernelspec": {
   "display_name": "Python 3",
   "language": "python",
   "name": "python3"
  }
 },
 "nbformat": 4,
 "nbformat_minor": 0
}