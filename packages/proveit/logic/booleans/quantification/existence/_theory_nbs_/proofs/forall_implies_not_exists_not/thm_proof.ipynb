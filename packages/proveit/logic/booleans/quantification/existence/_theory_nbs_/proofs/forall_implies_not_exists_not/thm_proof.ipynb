{
 "cells": [
  {
   "cell_type": "markdown",
   "metadata": {},
   "source": [
    "Proof of <a class=\"ProveItLink\" href=\"../../../../../../../_theory_nbs_/theory.ipynb\">proveit</a>.<a class=\"ProveItLink\" href=\"../../../../../../_theory_nbs_/theory.ipynb\">logic</a>.<a class=\"ProveItLink\" href=\"../../../../../_theory_nbs_/theory.ipynb\">booleans</a>.<a class=\"ProveItLink\" href=\"../../../../_theory_nbs_/theory.ipynb\">quantification</a>.<a class=\"ProveItLink\" href=\"../../theory.ipynb\">existence</a>.<a class=\"ProveItLink\" href=\"../../theorems.ipynb#forall_implies_not_exists_not\">forall_implies_not_exists_not</a> theorem\n",
    "========"
   ]
  },
  {
   "cell_type": "code",
   "execution_count": 1,
   "metadata": {},
   "outputs": [],
   "source": [
    "import proveit\n",
    "theory = proveit.Theory() # the theorem's theory"
   ]
  },
  {
   "cell_type": "code",
   "execution_count": 2,
   "metadata": {},
   "outputs": [
    {
     "data": {
      "text/html": [
       "Under these <a href=\"presumptions.txt\">presumptions</a>, we begin our proof of<br><strong id=\"forall_implies_not_exists_not\">forall_implies_not_exists_not:</strong> <a class=\"ProveItLink\" href=\"../../../__pv_it/theorems/8be65138db85ddaaa33dc64639fd42e7e5cb74c90/expr.ipynb\"><img src=\"data:image/png;base64,iVBORw0KGgoAAAANSUhEUgAAAbEAAAAyBAMAAAAgrfhAAAAAMFBMVEX///8QEBCIiIhmZma6urrM\n",
       "zMxUVFQiIiJERETc3Nzu7u6qqqp2dnaYmJgyMjIAAAAcRTyBAAAAAXRSTlMAQObYZgAAB/JJREFU\n",
       "aN7Nmn1sE2Ucx3/ter2+XLeZoBGISd0SMARcIwJ/KFAwEV+zsj+Mf5DQEMFoUBtHHGFkmZpAh0GK\n",
       "MbBBkGMxiFPZ0CwRIrFuGBPkpRF8waA0IZGAEZttgBsv83m5ts/d89z1ypWwJ1nv9tzT3vO55/k9\n",
       "z/f3bQFKF9f4eNrs2hGYUGUvPSjj47V2mrsOdqkml5T0xCLzZMkh0LXTHlnM9NI09h/35Vj5ffFn\n",
       "ymt/ECB0IWp6+U/tKDkkC+rer0Sr8SFkq6+/jG9YdR5NhX1lPglvCt/I9LIvXRmyPVE9mdKHDtWq\n",
       "rS7eQt2YAnCxTLJA1pIsMKkyZO/qgy7qb0eHTls9lG6gIR+CUKTc6TtgSQYHKkIWHDOQwSV0+NFW\n",
       "B90j6O8GyKlyyfboyDqMl+V0JcjkiJHsbE/PpwlbHfTlUMyMwPayl5zqKEv2Ive0RytBdi5lJKtJ\n",
       "Jjfa2whqULzsjkA9Ou2e9uHMsGVs1b2yeKBwlwhLxs/m5kqQrQUjmTcGPnvza3kagusBNqN+p0Nv\n",
       "ylmQ2k3bfg6/htsKLFlKVtVCyjD3uFXnZNIIR+aJwH57k6ph9bFHUB9a0dtUZcyTkmabz+KjcFJ9\n",
       "ujDdEroVJPi3oXFv2DlZVS1HBgmYZY9sC90b0CIdAB8eLo85mQpJ5nnm9Gvj/kmGOMw6J3PFebLj\n",
       "YG8BgWuQJ0MxF7YmAxgyJfOvNsx+96hzsuUZnuwjCeEq9U0r+X1ozjTmcyQtPlrJB8VKkElX0Mup\n",
       "n+sitB2Ns8u0GMPaf9M5WUOKJ/NtQy8zvNk14NVLEbf6uhzVb2e4oBUkqDagq1Zkh9w5mAGnH4DJ\n",
       "zAqik8Bsuc852dvAkwXnoZNYdQak7/RkEvyjiwZtkx8EaOzbArvomPXifuKXwC3mxHPdl/Nn/N0J\n",
       "wG+qSrNk+3kpt1EjI8x/lCITSt37BWQ0ImrQaMrGe46yi8+/V+kOtgTlVHXd8zOUTF6H938cvm/l\n",
       "T1pUCKyYUY966A178EBUx1gyftbDSY2MaKFLpchEUjcwLCL7nQQOxDgyKSfBqcNnjTKmMKPJbDzE\n",
       "Kzi12I2qNJo9n+jUlWDzPBejZFi/+ttLkYmkrjQkIsMflzsBaUzm3wSdKnnpVHcrWQW+bJcN7ylq\n",
       "iCAm4/WLUjjbDfKzsZKKGD3WMCXDA0FGxDrOBFI3eN2ELPDaczNVTCZNhaUpaTJ6Wdq39/TAUSRR\n",
       "OJ2Xl7T+eWh+BniR1V04exLcx0tmMTg8I5QsdLSnZ3vpFUQgdUNXTMi0eYYeWbDwH312MswydkqX\n",
       "eYb4mxvTWF+qFFlNXFsb/0sm15cmE0hd96gxMWljN6yGx0hqr41vSjNgvsk4dAvOoPtcsCZr18hW\n",
       "CpIc/YzHZJrUferq4IZ8SCtjJbuRsRiMO1ZcWY3sCTJ1uRLRk2lSN1QLSn5SVo3BhCyuhEYmg5ud\n",
       "EFLzEXgwzpFpUtcbB6QHNK8lJ/zgZ+42mVyrkSmZ4kr82eB8+FpRq1SejEpdOUOFuQXZpQlD5s++\n",
       "UIiG93aocDgcUWBwdvPsPh0ZkbrQm4LpqvVsTNx1svxshI6XENP8pnoccqj093+g8HFGpS40Dhwr\n",
       "ACvc2ng51tW1s8NWTi1YEstbJQ+auqqFFQS+QoyhRRlXimrIfuWLZQIyInXhBAsi2M/mrnr5ryl2\n",
       "OrbPqaeKHVWxq+rK72ck79sxHWrUAKHph/SggIxKXdZgDI2IdmpvapOdjl106qniBV2sR2oiebIQ\n",
       "DpwVsAiktcnkO4hslywiI1KXFVRBIZkMdshYy+k2PdUBM1e1N63Lz+6FxyWI0zHzNOEcS5SfSWxo\n",
       "STdFZJ22yFgD9TY91T2cq2pQxHl5Dmv64Xt8ehqJRLPM8+Fh9vbCLOYnW2TbnXuq1VGjq6qVb/tY\n",
       "Mk8cZqKtCtV52qLgtZdTt4nIVtoiqxd6qoH6MGxVrYKLaaBEjK5qPvNMCdyCh1Cc2XcLFvJkP7Rc\n",
       "a7EjujYLPVUFJc0NVpYqbVBwVA2eiFbecO6DnFP5MUPLlZ0xa817vGnWU91ZlYWklaVKGjCZqsFV\n",
       "ZUwMh65cn8DhSdsiy7uf/jjrqaquMNpcrCxV0qDgO3KuKvnIoTvjpKL0vFwyxlNtVKUrlsYjaWBN\n",
       "VgkntSrHk1WriGxxHNYZG+vrWotkrKe6ANy1lmS4AVWCpJlHMBt9CedkHv4bC7RRI7L0GPrgVw2Z\n",
       "7Bh7s81FMsZThQ3gi1uS4QZUCZquIMRKd/otUzNPtg2R+T9OuNuX6eUjqSv+O5g/ibGeKsyFxgwh\n",
       "0zmpxRPSgChB4qgaXFXNuVYrQGZYHNFNNt7T0jIF3dAbNs5HUlcoS4SeKuytW5iiY9aiCixVrQFW\n",
       "gsRRNbiqjPntlMyV5saMeLZyFL3FQIbrikaqQErRqgWapRpUTSzVBZoSxI6qwVWlzSrybS7/DTzN\n",
       "O+VYI2AyzUb1b0IHXFc0UgXyF1V5s4ERzVJVhJYqaUCVoJkiro5UggzOG8moWeRZ8T4hW9pHbFRp\n",
       "sjSV1DFGqsAu6wA54wtTS5UxUFlLlTSgStAsizmgVoRsa8w4ZqTiU7zQrSv4p3h0SR1jpO4TJaOe\n",
       "ujlmBiqtYRpgj1Dgqlbqly7BhNBJXe3JQtNwX94/JXk9rmOMVMduwRmxq+qNVIYMrcKi8vwxo3+a\n",
       "KdTd4fIblEVm/itAdiWfCKXcXwFa/HLz0YlFtpcOAf7l5v8O5GxbuncDrgAAAABJRU5ErkJggg==\n",
       "\" style=\"display:inline;vertical-align:middle;\" /></a><br>(see <a class=\"ProveItLink\" href=\"../../../__pv_it/theorems/6ca0f5a24411d5c470fbd9b9d938d033bac7b0760/dependencies.ipynb\">dependencies</a>)<br>"
      ],
      "text/plain": [
       "forall_implies_not_exists_not: forall_{n in NaturalPos} [forall_{P} ([forall_{x_{1}, ..x_{_a}.., x_{n}} P(x_{1}, ..x_{_a}.., x_{n})] =>  \\\\ [notexists_{y_{1}, ..y_{_a}.., y_{n}} not(P(y_{1}, ..y_{_a}.., y_{n}))])]"
      ]
     },
     "execution_count": 2,
     "metadata": {},
     "output_type": "execute_result"
    }
   ],
   "source": [
    "%proving forall_implies_not_exists_not"
   ]
  },
  {
   "cell_type": "code",
   "execution_count": null,
   "metadata": {},
   "outputs": [],
   "source": []
  }
 ],
 "metadata": {
  "kernelspec": {
   "display_name": "Python 3",
   "language": "python",
   "name": "python3"
  }
 },
 "nbformat": 4,
 "nbformat_minor": 0
}