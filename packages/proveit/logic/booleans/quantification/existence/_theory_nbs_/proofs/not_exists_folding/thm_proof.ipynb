{
 "cells": [
  {
   "cell_type": "markdown",
   "metadata": {},
   "source": [
    "Proof of <a class=\"ProveItLink\" href=\"../../../../../../../_theory_nbs_/theory.ipynb\">proveit</a>.<a class=\"ProveItLink\" href=\"../../../../../../_theory_nbs_/theory.ipynb\">logic</a>.<a class=\"ProveItLink\" href=\"../../../../../_theory_nbs_/theory.ipynb\">booleans</a>.<a class=\"ProveItLink\" href=\"../../../../_theory_nbs_/theory.ipynb\">quantification</a>.<a class=\"ProveItLink\" href=\"../../theory.ipynb\">existence</a>.<a class=\"ProveItLink\" href=\"../../theorems.ipynb#not_exists_folding\">not_exists_folding</a> theorem\n",
    "========"
   ]
  },
  {
   "cell_type": "code",
   "execution_count": 1,
   "metadata": {},
   "outputs": [],
   "source": [
    "import proveit\n",
    "theory = proveit.Theory() # the theorem's theory"
   ]
  },
  {
   "cell_type": "code",
   "execution_count": 2,
   "metadata": {},
   "outputs": [
    {
     "data": {
      "text/html": [
       "Under these <a href=\"presumptions.txt\">presumptions</a>, we begin our proof of<br><strong id=\"not_exists_folding\">not_exists_folding:</strong> <a class=\"ProveItLink\" href=\"../../../__pv_it/theorems/0d20072f10155e9179840d7586673060352b221a0/expr.ipynb\"><img src=\"data:image/png;base64,iVBORw0KGgoAAAANSUhEUgAAAb4AAAAyBAMAAADRpqPNAAAAMFBMVEX///8QEBCIiIhmZma6urrM\n",
       "zMxUVFQiIiJERETc3Nzu7u6qqqp2dnaYmJgyMjIAAAAcRTyBAAAAAXRSTlMAQObYZgAAB+BJREFU\n",
       "aN7NmmtsU2UYx5+1Pb2cnm7EgAhErSwZC0G2iIrKwIEJizHBDhPDB5LVKUswBIpMynUrmujwEuol\n",
       "ckkIx30gijqqZgEJhMpmTEBCDTN+4dJE+CBGKAwIK+B8L+d+b08Je5LtvOc9T8/7/t7Lc57zbwEc\n",
       "2KOjd8wuDcIYNDZOj6dGrzryn7Jzl8kVLjsW+WARPXy983tH7hNMr9RJpd1y5cyLoZ3ISutSKFeS\n",
       "ezgNcK6THAwskhcKre74wuOkJZFSrllvR0fHa7yTW0dW3epY+RwqfFXiFC2nm2O58dWPKsP3ZbNY\n",
       "qk5r96Q/7ejeNWiot6Ch+LtEvj7aUJ91x1zyvSuVTkOZfG1oBx+NQqSxRD4uShrCB4uF5Y4vXJSK\n",
       "68vla0Aj3ZCFQLpEPnYcaYgdJ1dtVVzeVAm+gDTooUS5fNvQ36pm2F5yjLxAG7og1yxRXD2argDf\n",
       "eQnB01gu339ocIYBalGxt+7zGVHLOZu6fMEx8WSANjSgiFWNuqF3x7dOKgVzKj4umUx2O+JjUOZw\n",
       "AG3Bj1Hvs5G3AnlgUqbO38Kf0S7x5BzlO4fL3iSxYQVr0T0fc10ergzAbNzEphLnz3Pzt4Hp6LgR\n",
       "hQqeK/rSzKyEqfNxOMW/KJ4coA0dUMaDf+Spvuaezyvv7SrxQfFFiXxBIUSNR12CIJ46nzkfDz2K\n",
       "wEsbalM9NMZLxcvu+ari7vlqEhIfOola8wFcs+QLrZDbbEi75mvLqdannu/YU3Ux3afUlW1CTNhI\n",
       "TmI2fMwN/Kj9Yyr+UAttqIWspMvUFEO6J+earyGtjy9KPg+/MtAMb2o2HKlUPf6wofgS5hvQVSu+\n",
       "Q54CTIehh2GSJr5Q8+V1i8sV3xZFNiGGZkbBx8C/AEsna6YAV8p2hZei/cuZbThLx3z7UU9Z9OQg\n",
       "BenMdztYCOVCvQnAm7aJNtSk2H3KjDeYoHyE+awtn5HbQ4qhUz/fq1EkXY1aG0FnG7R3G1GU5422\n",
       "0wJaZnun9s7N0VsF8IfW4nUfF/8leWDbp9eiLvijPhzYLlK+i/LNlqnytwLlO4EPl2z5DNxYxePG\n",
       "ID/Dc1Vg9Hy48vSRM9pUKK0aqkP6XFCanKqYNxsDNkHzM8XAqgJa5Abl24HjTsqWz8CNUQQzg/wa\n",
       "bXEuzxG+HXzoA/EfqfwhFdC+J0m5Rxj3WP/azMmRAwIvxWzya7F3rVCNxoXL2PIZuIVvK5d7Ws+3\n",
       "d+jYccLXmmEmQWsa/8uQSn9sibYNMTkOzb4ZBVbf616ptBA8J+3ej8TV1QqR4/v2bbePLwZudAUY\n",
       "vt8qDa9PeWBoKQCPN2vaUL3fRvR9yBmMx6D6nUFtN4X4eaunZ5OD+Kl38ygDhVKfmKbY87B4OKNQ\n",
       "EYTSXjicc6dPRNCNZnaSg4ndEviWGQ9CVsNH3XzbVjwjPtC4ouPOWE3MvbJHBL4XgM0bXG7U8Alu\n",
       "vwP8KqafRRjLNlHgC4BHuTSYNYPwWFzPJ7h1oJRDqPUX7Jrw8feRb7XAx+XkWP3NwFw4yPFeXs8n\n",
       "uG0GKYe356seC3yh/KvS7vhwFw9Hoo0cDMxaMyuj4qNu7Ah4Njhen4H7uT6TYv659Q1ENndxLd5j\n",
       "yPr7P+UM9h9xA9+dGSekJ+6Ixd2JxnuwNI13dxkCr318gR9RwhCZn6tK0ySzn/tuqREfdgNOEYo8\n",
       "NyzuTjTeLkcaryjxsqlyBF5Te1Dkw2+Vu6ZBDc8Spn7IDhjxkZfPoKI6ct2SD3ch6GgDChJvdWkS\n",
       "YZ8N37DIF8GdaIf5wKzr6XkH8e0OGPERtxpFiha25Us44xMk3tNlCbym+dkd1fvfBGhiIE7nz7cY\n",
       "HWKG739tijFm7trwhVLO+ASJd31ZAi/Y5NdCdlSAzn74BReHAM6Yvd96rjyrXQEWfJGoMz4q8YYS\n",
       "5Qm8ZvHntpLPF4cZOQii1efraga/s/f3Lhs+f8wZH5V4sUTc+wSEJlu5Kh0GLPlodNfoE/Vo/znX\n",
       "J5635OOS3cluJ3yCxIslnOx88BRgibkvdVAJvCbmL7jWX87z1vPXB47mT5B4AxkIZeZBMPXKbFNX\n",
       "6qAWeE2sKuVeH8xY8x12xidIvFXNwMID+DHUYh5TqINKADWxPdFK6ruGfCec8QkSL5aIfUWsgbZY\n",
       "ZOxFKpLa81VA3/UWrPkuIT5fHQS0kJo6QeLFErE3D4+BFR9xUAu8JvY+uObzXbfmSyA+roZvBb+a\n",
       "kNTpJF4cX4JxeM+SjzioBV4Tq8D3K7DGki8UR3y7WqCe+VnNh+v0Ei+WiL1x313Kp1J4ZakXO2gE\n",
       "XpOgVYHvx6wC6CAEV0/EGm8TSv20KxTX6SRerHuy7bUjlE+t8K4Va4iDWuC1jA3u+KqyVvPnJ4Gg\n",
       "E31ay4fqInPOaj+8XthgdH3qFd5D4g5UCbwmVpHvp8NFKz76dvu2r4D5ZIF3B4/rwvWgzcdQfr0S\n",
       "9jcLX1lmDRUv4qASeE3sL6gAn3gXYz4qvS6sz2M+Zoog8KZbM6Rume576GAaNgPKnz7rRgtWr/CS\n",
       "GuKgEnhNRn5yRfg+iVnwMaRXaRQX8foMyxIvqUt4hrQAKVhQGzMVEkmN7CAKvMZWod/3hE1zflHj\n",
       "9WcXAdMwB+AnWVjAdWw8fNKVPiEIvCb2OlSED562lQjPCBspJ8+DVHfPLJIqic/895H+KIxFK/H3\n",
       "kRa/b31yLOKxwlcIp0av/g8mfHrS2P12pgAAAABJRU5ErkJggg==\n",
       "\" style=\"display:inline;vertical-align:middle;\" /></a><br>(see <a class=\"ProveItLink\" href=\"../../../__pv_it/theorems/0c1e8092fbf344ded09a66f3067b0804c3354a2e0/dependencies.ipynb\">dependencies</a>)<br>"
      ],
      "text/plain": [
       "not_exists_folding: forall_{n in NaturalPos} [forall_{P} ([not](exists_{x_{1}, ..x_{_a}.., x_{n}} P(x_{1}, ..x_{_a}.., x_{n})) =>  \\\\ [notexists_{y_{1}, ..y_{_a}.., y_{n}} P(y_{1}, ..y_{_a}.., y_{n})])]"
      ]
     },
     "execution_count": 2,
     "metadata": {},
     "output_type": "execute_result"
    }
   ],
   "source": [
    "%proving not_exists_folding"
   ]
  },
  {
   "cell_type": "code",
   "execution_count": null,
   "metadata": {},
   "outputs": [],
   "source": []
  }
 ],
 "metadata": {
  "kernelspec": {
   "display_name": "Python 3",
   "language": "python",
   "name": "python3"
  }
 },
 "nbformat": 4,
 "nbformat_minor": 0
}