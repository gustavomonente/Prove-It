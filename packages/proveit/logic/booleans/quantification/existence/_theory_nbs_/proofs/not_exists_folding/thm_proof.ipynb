{
 "cells": [
  {
   "cell_type": "markdown",
   "metadata": {},
   "source": [
    "Proof of <a class=\"ProveItLink\" href=\"../../../../../../../_theory_nbs_/theory.ipynb\">proveit</a>.<a class=\"ProveItLink\" href=\"../../../../../../_theory_nbs_/theory.ipynb\">logic</a>.<a class=\"ProveItLink\" href=\"../../../../../_theory_nbs_/theory.ipynb\">booleans</a>.<a class=\"ProveItLink\" href=\"../../../../_theory_nbs_/theory.ipynb\">quantification</a>.<a class=\"ProveItLink\" href=\"../../theory.ipynb\">existence</a>.<a class=\"ProveItLink\" href=\"../../theorems.ipynb#not_exists_folding\">not_exists_folding</a> theorem\n",
    "========"
   ]
  },
  {
   "cell_type": "code",
   "execution_count": 1,
   "metadata": {},
   "outputs": [],
   "source": [
    "import proveit\n",
    "theory = proveit.Theory() # the theorem's theory"
   ]
  },
  {
   "cell_type": "code",
   "execution_count": 2,
   "metadata": {},
   "outputs": [
    {
     "data": {
      "text/html": [
       "Under these <a href=\"presumptions.txt\">presumptions</a>, we begin our proof of<br><strong id=\"not_exists_folding\">not_exists_folding:</strong> <a class=\"ProveItLink\" href=\"../../../__pv_it/theorems/e99e4f059c89cae2ce02f3cab6a0e4c91d534fc30/expr.ipynb\"><img src=\"data:image/png;base64,iVBORw0KGgoAAAANSUhEUgAAAdMAAAAyBAMAAAD1vywNAAAAMFBMVEX///8QEBCIiIhmZma6urrM\n",
       "zMxUVFQiIiJERETc3Nzu7u6qqqp2dnaYmJgyMjIAAAAcRTyBAAAAAXRSTlMAQObYZgAACExJREFU\n",
       "aN7VmntsFEUcx3+97t5jb6+tCag00ZwlKQ0B2ohAojwOTMBHpAd/GP8g6VmlBkPgEPQQmlo0gRYf\n",
       "HMZAC0GWxlRAhYumQYiES4sx4aEXQY2GxyWARoxwaUuBgtaZnd273Zm9vd27M9ZJ2p3Z++3OfObx\n",
       "m9987wByp5KRkXi2z47DqE5CiFzFkZEKK/YlhzulLB+J8dGNCgsV5M6d1lCDWT+q1hd3ZbJTrng6\n",
       "UbLXME/Clrk3CnBhjXzJlnxJJcMXiOrVPy+0amd2aVNT0/OSlQp8K281rXgUZfbaHLNlZAktMzF5\n",
       "p0ioewK6YlmUXsTOqKUml6O+34B65XebqAdIRQdMTNQmFor6lr54BvJEbUBL/pgffHU2UUW/XBG+\n",
       "5Jp4BaJ6h/Xl1/NFrUVdXxsHV9QmqlAhVyRoMNppm+aioLr0o+AJ54u6Bf2tDMB22w72MqnocubO\n",
       "c7TJsWgxUC/qQRx1+aL+jfppAGA8ynZVfzDJbzqSVcvm9aqFPlJRn8bF1RmPR4Goa/VFd0KHKkYi\n",
       "kTcsofJ3AQ6h5fouAon7XnElgW/Navwp/ORvUQsXCOoFnC+NyGmAdu/DRUDlB6n+iwHMwLU12xxV\n",
       "x9Cpvonouh55GEkc5qL81HBW4xPwnfSkWjhEKjqkdSB/ULOgvwiopdTTJerWs80mqltxb2NQw8CN\n",
       "B5TLjipBm8Z1k4oadDvQGP0D14qAWhIqEmp5OI2KCn5zVIB+U1TPcqrO2mjhqA0JdgKzqL3Tqtnn\n",
       "9TcbFFeyXi4Ec6DyN/AW/kMVfmgBqWiBPMmukUT37u5E4ai10SxuSYvqkFa4AvAytTjlm7ptFSfk\n",
       "lrxSLfrUDPWIIwUT4ewDMI5ySyRxSePJVxjqBjp2Uf08r0Hl4U+AJZXUwOCbmXRdSm8d9bEt+NCA\n",
       "UQ+iRgtoG5Iz6RJ3x53yJDxdYcALfCapaKZmpTJRtzusoMqdcD4XapnstqkJez9lx+lDiDLki1eh\n",
       "im+j0jr6nbc1+dkjjSSD5mF3VdesBHmVCz/0Gl4YIfVfRAKhceJ41Fynn8PDdIWgXsm8bCkbPaYU\n",
       "1JP4ejUXqoiXYZm+wwR6BzMIDHEdKZ5FxTfPHD1H7/ZRXa8dYSNRKdOm0ngQhDAJDDV9zPpB3w0F\n",
       "tQM7rdZcqLJFB9XcftrwjAHqbjEpyqgdkmez+k+++Xmri25UOtLx4sazx34x42vA9XTQSrivthOh\n",
       "4qESYznXKh73k1QX32FWRZRF7T7be0JGXRTjx8GiKP4Xk286g0y8qsbqnhlDfhBYgK50bj44Tls6\n",
       "xKmzD6H6Tuzfvz23Wzq3f/++sNHEyH401yY8gTP9SXIumBygXqA7mvvYliQMuua4wWlGn4ZUD3yr\n",
       "ra05N2p5W9smakI5bjOWGsFlgsZVwOKBmEYWUXLd8FWiMMHFh140ZY18MUu3VNSlxr0S16M6g/L0\n",
       "fGKob6PqGsRhe+0yG65/NT2ooj4OQtLg8zo9KlcnrwhfBYjqPC4dhv9Huk9FdYFDO2341cfhoRCD\n",
       "CmGYjEOCEDhSym1nyvDFT4061FUqqpjI+PxP+mbBl6JUKrGopwGPpitBTh4mqFdHL6on+Wx6Eb29\n",
       "Q4Kj/joR+qaunhrToX7I43DlYBQmSOYTODzqUCPpGLj9RQQ5a/F4vGxR6ul5X2TXKri34Z2hvvdU\n",
       "ugdE2gM7rgU7O3e229LC7Pncw6ilvwXydkvwBRoH39xESZTEwz3iZ0sMUL0zcPZbLRm9r4oBmN70\n",
       "0q+VVqr/cWRj0yXJrsiNj7+ibdR706j4LLxjApRLgozXA/E+A1RyINYKv75BFhW3ZrNV5cxdaVfk\n",
       "xnuFfdSBNKoPL75GmAv82ra2NxHqLpcR6i/4nzYW9BqiusASKlbOvP22Re7ePFCFu/rz6liYyUOI\n",
       "jCq3GF2CRudVXrs8+b+MUDusoTpQPznu2ha59+SBmg73Fe+QgjU98DXOnkUBb7aj+ZSBKD0xaNTv\n",
       "raG60U7lHLQtcpcF7KOSY0kalQvBJLRlIu/KtQTAaU2FaDFCXWoNFX8htbsOi9zCeD9slcwmoMZA\n",
       "rLOPSnYKWnCpQWvVuuAyh0X9JnIzYilebIiDt1lWk0SuAmrNNG5ioLjCpH1UZ6pwbemixI4q8pGW\n",
       "RrV2+amHJVkj3FmahDYzjVs2yBzZbaOWtBZBHI2xqN64NdQtkqr8SiV+tJGZadyygSrU2Efd7S8c\n",
       "lZa8cSPEmDXUm6CiQr3E3zAVfmWD/FGLIXmXpljUMgmhzguxEiFXDa7MhOcV741F7tngqDBFxQYk\n",
       "csVmtlE3QeGo3CCLiqKPzRAfRi+mVG6xXFqk31ZxQm4JNoI7ZIqKDUjkmpdbKsbXU7CaRd2GUD0f\n",
       "hR2ttMq9YwHUaPZHxU3jEHQ61Cdk1LS+LWcyajc2kCNXNJHitlEdxfjSkXbBqBGb7olEKlGDnH5m\n",
       "Cs+ExszUvz5E5ED8ZUt31ZwoGdWIpEjbWOgmavc61QBHrqiLgrZRFY9SIGpJnBlVWVx3BdAjNOoa\n",
       "GOt77DwlxZHAcLaicXvZSOKIslpJ5Aof2w8Mi/MDAepnH7gR8pJzBesZlRte5VLeGvrgjsJ9Z1IY\n",
       "VDRu0VDNkw1I5JpPuH8JioGqviaDShQ5rvE9RuWG+TVJWMoERe3gSrj9ROPWKNrpoNAPxIBErnkc\n",
       "4ryVxUHdGqRHVb6xD3tWSuUWou4EhB1nqTfsBa5qmlpIGCqqGgO3/aN5sX6i5dXNR0eLYricSzIq\n",
       "tzO+EISQ93RBgsvPqBKbgssLUBxUtA8YpWdOZcZEzXHn4v+FhOZrtYea/UeyTj+M7mT3R7ImP31+\n",
       "ZHSTCkrMhn/6/A9+BXK8sGwfcAAAAABJRU5ErkJggg==\n",
       "\" style=\"display:inline;vertical-align:middle;\" /></a><br>(see <a class=\"ProveItLink\" href=\"../../../__pv_it/theorems/cf9ebb0c3dbdfa4bd92defa8e9f0d4e4664a2a450/dependencies.ipynb\">dependencies</a>)<br>"
      ],
      "text/plain": [
       "not_exists_folding: forall_{n in NaturalPos} [forall_{P} (not(exists_{x_{1}, ..x_{_a}.., x_{n}} P(x_{1}, ..x_{_a}.., x_{n})) =>  \\\\ [notexists_{y_{1}, ..y_{_a}.., y_{n}} P(y_{1}, ..y_{_a}.., y_{n})])]"
      ]
     },
     "execution_count": 2,
     "metadata": {},
     "output_type": "execute_result"
    }
   ],
   "source": [
    "%proving not_exists_folding"
   ]
  },
  {
   "cell_type": "code",
   "execution_count": null,
   "metadata": {},
   "outputs": [],
   "source": []
  }
 ],
 "metadata": {
  "kernelspec": {
   "display_name": "Python 3",
   "language": "python",
   "name": "python3"
  }
 },
 "nbformat": 4,
 "nbformat_minor": 0
}