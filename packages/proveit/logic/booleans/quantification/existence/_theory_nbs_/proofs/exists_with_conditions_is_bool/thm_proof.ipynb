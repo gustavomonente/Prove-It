{
 "cells": [
  {
   "cell_type": "markdown",
   "metadata": {},
   "source": [
    "Proof of <a class=\"ProveItLink\" href=\"../../../../../../../_theory_nbs_/theory.ipynb\">proveit</a>.<a class=\"ProveItLink\" href=\"../../../../../../_theory_nbs_/theory.ipynb\">logic</a>.<a class=\"ProveItLink\" href=\"../../../../../_theory_nbs_/theory.ipynb\">booleans</a>.<a class=\"ProveItLink\" href=\"../../../../_theory_nbs_/theory.ipynb\">quantification</a>.<a class=\"ProveItLink\" href=\"../../theory.ipynb\">existence</a>.<a class=\"ProveItLink\" href=\"../../theorems.ipynb#exists_with_conditions_is_bool\">exists_with_conditions_is_bool</a> theorem\n",
    "========"
   ]
  },
  {
   "cell_type": "code",
   "execution_count": 1,
   "metadata": {},
   "outputs": [],
   "source": [
    "import proveit\n",
    "theory = proveit.Theory() # the theorem's theory"
   ]
  },
  {
   "cell_type": "code",
   "execution_count": 2,
   "metadata": {},
   "outputs": [
    {
     "data": {
      "text/html": [
       "Under these <a href=\"presumptions.txt\">presumptions</a>, we begin our proof of<br><strong id=\"exists_with_conditions_is_bool\">exists_with_conditions_is_bool:</strong> <a class=\"ProveItLink\" href=\"../../../__pv_it/theorems/26bd4354c035fd6aa9903e65eb89ff4a50ecd8730/expr.ipynb\"><img src=\"data:image/png;base64,iVBORw0KGgoAAAANSUhEUgAAAf8AAAAaBAMAAABLIUgIAAAAMFBMVEX///8QEBCIiIhmZma6urrM\n",
       "zMxUVFQiIiJERETc3Nzu7u6qqqp2dnaYmJgyMjIAAAAcRTyBAAAAAXRSTlMAQObYZgAABktJREFU\n",
       "WMPlmWtsFFUUgE93Z3Z2Zh9tCIRQNBloooRA2IAiYqkLJi1RkW1/NPwgMja6iYSYEh6rIrohBhZf\n",
       "FH9IxWCHRypiCBuxRo2Y0fpIFJM1oNFQkjUSE/khDeCDphbPvXeeO7MzLFCI8SY7OzvnnDv3fnPO\n",
       "uWfuAgS3SO4pXzmfDlS5eY3LPeMtkPHTltOupA8hQN4ZrHIz22vel1vJQVSuB4Cz/0kA8dL1AhCW\n",
       "qYr4OrZxn41YqkX7Qx8A8DQDUCbnp4MA+Gn1qVQlnM1mH1HHa+I/XN6a/QV7P1iTVaTHDSC0tjA2\n",
       "+VE8aWIAvtGd2B+An9ag5ST0huPTxgCijQC/1WQklT08IMnLB/ejI/UxAL3kKx8EwE9r6o0AwI8C\n",
       "xM5DIlWb2WceAKJcKZTBuQhFCiCJfhUvBgHw0RJHbgSA0EX8jIJQ4w322gD8mMuVdQCxIgII5ymA\n",
       "xNeHDu0KTII+WomGGwEgOoy9X4RdNZol0yaAFTMtD4jfj5MPNbBV4O9CwatU0JyrQBUtsgiUrwVA\n",
       "gEHGOKnHu/SlSOKSmmTY6Zds980FsdFY61IGAOmsLQTaOrFjboQBeAxgu0c3KScApsXtWLNgNbnU\n",
       "dHyh2V+eqcRzudxzVwAgrft08yAJqwDl94yTVRrE8Am8jCZcA8wBvnra0hZDaNhwz7IBwHo2UW7y\n",
       "5YkkrfzBANzHcmUAAF3rO4Cv8OvNNLQbDyGp1OYBbOTiGeDxMT0eoBw2Opyz5vhcvOMmgDfQ5Qr8\n",
       "vO6qlUKxhT0U0mLdBoCoPQnGT6ODixcZAAFC9uKCX/c5TFNcAHStLA4Fzabg0IwaSkhdDYCdqDkf\n",
       "+KBSXDLusoPxxien1slwHriqACSYAPWyMZthA0D779iMJAj5ZaioA4iXrErvncFF8EFcDauD89bN\n",
       "K9oB6FqbAQp4oaTnPuoBVwVgM3WnSCZI21j3/wIDACxX0XmrAyCxvSrjAtBr9wDIRywPEMudZkJ/\n",
       "cbcKx+RU3B0CTEu6BCGsIKeRGDbCLOoIAe42EFwZaolC604bAJKB0ZeECpnbYLY+kQvsG0MAWoi1\n",
       "DwAMkWlw4vvpZAacGQJ1DgBKEvu8pL8LbMe6MLGoo4kEOraBgVc9AFAt4EZnkZrwVyP500nn7QDi\n",
       "9Wo7RCoQaCN8gxMATRwtZFWjstVQzeB9qwwgDZMgbCXMfQCgdCucvBWmOJJgWHZ4wJC1CsBR7Cux\n",
       "uFTXwyr+gfjhlR4AiBbE2axHCVEjfEOOOmB3G8zgP3UCEA90h/JOAPXE+hZYymQrG6GawVI9zkas\n",
       "sns+LC9RAEfIaMhBGrOfhBXuH3FfNxCTsGbWAZusUliLDyosiCkAkjF23w71qkQnPQDaoAcAmlei\n",
       "7OoEth6YIceKRVwG16rQDF2uIAhrEdkJABMZGUCrLqsMAsvgYfb73J/sdxt++qff20MBCMRMIFPY\n",
       "aJzk8M5SV9MliMgceTDJjAmg/3nV+TKkV4I4ECLogsXAP1kobEEAewR7CaIDoFr1LDFmpVPiRFM8\n",
       "0fHGvB4muQAI6brMiWNDNgAR5XBxZxpWMJkLgGXQWiGgWbaFBTd85HL/mKpngbpMWMMpvGUrhR/c\n",
       "lnOs90nZvh8wCZp5UJgHcB3V9gNW4f3FF2BvR+KTtHmx2aGygRsmAFCrVzUOQmY5vJsXbACkSfKp\n",
       "M3R8REYAVDEYqqi7UxApk/WLLPDgXkRJ9noCjqTxVU94IOP9MmS0I6oNgDgM6wfgC3J60nVXc3ah\n",
       "c3dj8pwK0oIvFdEUtzsAtM4oEwCo1d7DTyGHqcB1vYIr3gr7Mrj/pSyWwahIZARAFYM7Kka9Hdfg\n",
       "qAziXRgTkuwug+kKu4V4TujbKq/D5haDfUeIU2BWCaLo4dyzaYj47gjFyLKk7LF2HYo2FaknWqIh\n",
       "ELPpv43ZW4DZaRsAgE6xBKEildEQ8DaoLFIPAjf9TsMd3JMixdqSJjN8oz0+ADZ4bInNwBwQuCVG\n",
       "9pnEsUbHroOpEtEeAn7OPfpulK6/hitDP3xccgDo+1klP4is40KxikGsdE1bYj/5bIkltKvdE6RD\n",
       "2GblADhqU+GGNJuWfrbsuKsSxKezHg/LLJmnwf7x2xTtrWFXOGDTP5YOVPF+y0LTgNp55nX4X2Cj\n",
       "t2Ah/V9Agf97+xfTC894FRbRmAAAAABJRU5ErkJggg==\n",
       "\" style=\"display:inline;vertical-align:middle;\" /></a><br>(see <a class=\"ProveItLink\" href=\"../../../__pv_it/theorems/f982e6d7d1f8b3d02aad4a210b1116381b1e554c0/dependencies.ipynb\">dependencies</a>)<br>"
      ],
      "text/plain": [
       "exists_with_conditions_is_bool: forall_{n in NaturalPos} [forall_{P, Q} ([exists_{y_{1}, ..y_{_a}.., y_{n} | Q(y_{1}, ..y_{_a}.., y_{n})} P(y_{1}, ..y_{_a}.., y_{n})] in BOOLEAN)]"
      ]
     },
     "execution_count": 2,
     "metadata": {},
     "output_type": "execute_result"
    }
   ],
   "source": [
    "%proving exists_with_conditions_is_bool"
   ]
  },
  {
   "cell_type": "code",
   "execution_count": null,
   "metadata": {},
   "outputs": [],
   "source": []
  }
 ],
 "metadata": {
  "kernelspec": {
   "display_name": "Python 3",
   "language": "python",
   "name": "python3"
  }
 },
 "nbformat": 4,
 "nbformat_minor": 0
}