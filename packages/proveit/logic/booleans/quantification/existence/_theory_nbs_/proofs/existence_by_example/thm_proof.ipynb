{
 "cells": [
  {
   "cell_type": "markdown",
   "metadata": {},
   "source": [
    "Proof of <a class=\"ProveItLink\" href=\"../../../../../../../_theory_nbs_/theory.ipynb\">proveit</a>.<a class=\"ProveItLink\" href=\"../../../../../../_theory_nbs_/theory.ipynb\">logic</a>.<a class=\"ProveItLink\" href=\"../../../../../_theory_nbs_/theory.ipynb\">booleans</a>.<a class=\"ProveItLink\" href=\"../../../../_theory_nbs_/theory.ipynb\">quantification</a>.<a class=\"ProveItLink\" href=\"../../theory.ipynb\">existence</a>.<a class=\"ProveItLink\" href=\"../../theorems.ipynb#existence_by_example\">existence_by_example</a> theorem\n",
    "========\n",
    "*** see <a href=\"../__pv_it/bc2bd06df4a38a6f1f0897e25770909436175d1b0/dependencies.ipynb\" class=\"ProveItLink\">dependencies</a> ***"
   ]
  },
  {
   "cell_type": "code",
   "execution_count": 1,
   "metadata": {},
   "outputs": [
    {
     "data": {
      "text/html": [
       "Under these <a href=\"presumptions.txt\">presumptions</a>, we begin our proof of<br><strong id=\"existence_by_example\">existence_by_example:</strong> <a class=\"ProveItLink\" href=\"../../../__pv_it/theorems/9ab4414a9609de7a3e97d0f26033c740979911600/expr.ipynb\"><img src=\"data:image/png;base64,iVBORw0KGgoAAAANSUhEUgAAAgAAAAAyBAMAAADYe35GAAAAMFBMVEX///8QEBCIiIhmZma6urrM\n",
       "zMxUVFQiIiJERETc3Nzu7u6qqqp2dnaYmJgyMjIAAAAcRTyBAAAAAXRSTlMAQObYZgAACCRJREFU\n",
       "aN7Vm31sE2UYwJ9e73r9uLaLEcJHjIUlSAhkDShTkVEwcTF+rGBi+INkzSJLIAiNIw6nwMAEhkY3\n",
       "1ACDIMdiEOYHRbMgRKQyDJEPVwN+YEBq+IPAHzC3gWx8zOe9a3t37127Xrt4803au3vuvbve797n\n",
       "870C5NEeHrxrJLYNDsbBXDsOVrc98kIYHCwB6Br8O6+DxrduNwRwqFU0d3UhbjkANikt3K07EMC+\n",
       "1gN5HTTKWGwLm736JGOxK2HmJIeKI/BnasmVkO/5/ykAT4lm07vidu3yJ3Flr6mzOFqKAuCMWwdg\n",
       "d0i77cfhuA616Kqps7iTRQFwP2gdgLep7Wp8GEcD4A2aO82x4nTggGUAPAOUoAxHRFkceJNjerdq\n",
       "PBegDnzcKgA8/aSb8bMiBFtN3oFP0SSu0TwAT79VAC7Rj+s+OoBegFJUzNIAbM7lU9umg2tc2pmq\n",
       "QJ4tQAfqrAKwitrmMLw6iOPxPbwntgTKcj3P+FxgutPeQ7KC5fWkrQ2aB3BJtAYA10cJmFunO6fg\n",
       "8k2AHfYkNHEzotmOdcUqwJnG41F3+y5mGsD+gDUA7CW0R04ZRfRLoi0APcBmBeCGB8AfSJPsVu/5\n",
       "K2QWgC9pDQBbhBL4oxkAUCVyN3MAAHYAqsNGALb8aHoEMP3WAKimA97qlP6iCkAFMCW5AKCKTICz\n",
       "v0wkh8jdKq5L7ap5G+C6Zw2AshaDMIA0NIKwAZyRXABw7wY49xCMzRhBub1YSCg02hoA62jBjZTf\n",
       "68TPTKhKSAD2492570PqK7Nlj7D3XG1RIGbDruSU7muFANioBiDRvDgkAKNuCMAnuaX8krkx1HbF\n",
       "YI28UknS9IlzWiQAfANuvQ6pL57YjXoE5a4p7QdHgCW/2qeAd4QLAdClBnCKLK4NCcCoGwIQiBPy\n",
       "5VUVcPdmjRAl3ahIKfdhfegmpqyALWyP4x1/qlLngrKBS2EVgG3kNI1DAjDqhgAk0bb8woCebHsw\n",
       "GXIk3X0pB6+vmQj4WQ77Q7AL+OfCRSdDaH0DKgDk8QmxIQEYdSM2gAyKU/mF4Hey7toEfMIZAFf5\n",
       "rQC4A/owGD+rYT3AM8CcKTodJpYlqALgPdnevnVoI2jUjQC40N6+L5rXVb03s+7aC+zEx9Ld9LuJ\n",
       "iZlXGi4mA6QCkIjaC9xuanorDy9g0I0A8Dc1bcyv0CeHH8NQEjtfdF3Q36gGsJgMQYPsgwIgd2Ob\n",
       "lz2+VA0AzXCeT0QYgJHSbEk1gKeNlSpIAUh1+xnghBoAG4Qv80wFRhCAqBoAD4x6BHJ1x2FCRA8g\n",
       "1a0WAzhNIBSFafld1dE9YgDwJWoAQoLP7PmsczZ8I4h2UQ8g1W01QJMGwBmI/s8BuJIvZwz1u9tF\n",
       "OBIICtA5o25GTANA7ubuB6ZBA+BjDofLvAg00FehZSNIBXiNCsCmV/DWZy8oJXqOraPjA8HABkjd\n",
       "gL079ZQ2F3BuwZQmPoCnW0pZ0QFOUwAQaC/AXA+3YjPp1Haa634I7+1KKKcRhK+Rh3duwtYiB/wd\n",
       "wheLjACQbiAk6WTIU46j45Mo07honNa1EZnmfuk4QAjBzNra2nF53civgxtqL5OcwGQVlMyiCCGj\n",
       "yoQCgFRatj8CftEt3XQHxDuNAEgFGWdQlw32SPmZI0ArgSRTB0J9egCkLcnvTjAldCIrn8kBQ1yX\n",
       "DoA/qAHgJblGDcwFblVT03oEsJM3AiB188d0AP4gShXCdQoAkZ09ckEJhYsCQAqonp4CqsDHDADs\n",
       "j+vrAaPgKQ4i8ghgF+AibFgPqG4xrAfw4SogALaJrnekL1wQ2VeNiofh7hUDgEF8DEJ4wyyA3QYA\n",
       "NMlQSmO7YWUH/EBWz2GAn60gwtx4whAAW/O+BGB+jBsL81u4sdx4SeYIL1S69xYDwIlO1NEHrqhZ\n",
       "AL6QHsDRmA4AG4GpCXDiDnZNCBxmK0L7SFmLqEBGQzySjIdpysXXFAOAzKPuCgKDmumeuGRe7oy4\n",
       "bdJHU9P2RwjqAXS1ZCuJTUYbUEhJbBmbhAW9MfC0KO6HyPbAt0qUOUcP4ER9fX1/fil8HDyYjDnx\n",
       "dJ/DbwGEuTC74Yt7X+PT7sqb1ANYMew1wRdO07lsIiNT6jBiESOgbNnp6Xg8j0PsJHSJz8JL5dnT\n",
       "LlEYYNOPwhPVAxhjTVG0OlYEgGaZng2PEeVgvDL7CFAmkaRJBBqAq8caAPTEiCkA/0AGgBx65AAA\n",
       "yiSSIQCrJkbs3VkACKULFuvHsUbIpVwIL9nvm0MBIJNIcnRPCq00AGfUGgBsXxYAUxzJleCgLIQk\n",
       "1IQB0m9HI3iY6YYpuQB4xDJgRDm6NzKC8viwYHq8LguAsC8B3PcUACJUefOBjFNj7zi7SQ2tkp47\n",
       "yWxVxZoxZ5Kie2kWhQZQJloEgHID+LuuoBvEAN+PT4oXaT1WBZ32G7dkrcYB7a6ZUnoxpQJkykSa\n",
       "O1FmUhrIJEvb7IQc3UuzKDSA0WARAFvcaAQQlcXAWwcAhd5ZF+mCqxIKV0J6ykTTDoMmuiezKBQA\n",
       "616RoV6SSv8uV/dPECcAUnmEnEwQoWeyrtykJEMHQZ4yyVbMlaN7g2TIF7QKAFw2BOB+9fmpIgGA\n",
       "CQTJI8jXeFm4WPfSTKYE/eHaGnnKhIoBMg5Qju4N0uEDomUANoeNVUBycCJJIJRUQmpR5hx9gxoi\n",
       "+vkErwEw7YWsfFFS83IPMGtUx3Nls9RvActr7ojnTJElsfN4HW1JzBG0DgDMzL07kePRDlv7HcwD\n",
       "GLbX5bVFMktaQa/LD98fJh61HMAe+Zll/jDxLwrqTQTxpuJhAAAAAElFTkSuQmCC\n",
       "\" style=\"display:inline;vertical-align:middle;\" /></a><br>(see <a class=\"ProveItLink\" href=\"../../../__pv_it/theorems/eef06a6a5957d50e6fb651d4dd1e13baa20ef3ce0/dependencies.ipynb\">dependencies</a>)<br>"
      ],
      "text/plain": [
       "existence_by_example: forall_{n in NaturalPos} [forall_{P} [forall_{y_{1}, ..y_{_a}.., y_{n}} (P(y_{1}, ..y_{_a}.., y_{n}) =>  \\\\ [exists_{x_{1}, ..x_{_a}.., x_{n}} P(x_{1}, ..x_{_a}.., x_{n})])]]"
      ]
     },
     "execution_count": 1,
     "metadata": {},
     "output_type": "execute_result"
    }
   ],
   "source": [
    "import proveit\n",
    "%proving existence_by_example"
   ]
  },
  {
   "cell_type": "code",
   "execution_count": null,
   "metadata": {},
   "outputs": [],
   "source": []
  }
 ],
 "metadata": {
  "kernelspec": {
   "display_name": "Python 3",
   "language": "python",
   "name": "python3"
  }
 },
 "nbformat": 4,
 "nbformat_minor": 0
}