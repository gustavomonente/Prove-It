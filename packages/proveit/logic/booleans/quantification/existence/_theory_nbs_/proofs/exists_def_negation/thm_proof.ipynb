{
 "cells": [
  {
   "cell_type": "markdown",
   "metadata": {},
   "source": [
    "Proof of <a class=\"ProveItLink\" href=\"../../../../../../../_theory_nbs_/theory.ipynb\">proveit</a>.<a class=\"ProveItLink\" href=\"../../../../../../_theory_nbs_/theory.ipynb\">logic</a>.<a class=\"ProveItLink\" href=\"../../../../../_theory_nbs_/theory.ipynb\">booleans</a>.<a class=\"ProveItLink\" href=\"../../../../_theory_nbs_/theory.ipynb\">quantification</a>.<a class=\"ProveItLink\" href=\"../../theory.ipynb\">existence</a>.<a class=\"ProveItLink\" href=\"../../theorems.ipynb#exists_def_negation\">exists_def_negation</a> theorem\n",
    "========"
   ]
  },
  {
   "cell_type": "code",
   "execution_count": 1,
   "metadata": {},
   "outputs": [],
   "source": [
    "import proveit\n",
    "theory = proveit.Theory() # the theorem's theory"
   ]
  },
  {
   "cell_type": "code",
   "execution_count": 2,
   "metadata": {},
   "outputs": [
    {
     "data": {
      "text/html": [
       "Under these <a href=\"presumptions.txt\">presumptions</a>, we begin our proof of<br><strong id=\"exists_def_negation\">exists_def_negation:</strong> <a class=\"ProveItLink\" href=\"../../../__pv_it/theorems/2f8bf1275ca10d46bea550123239bdc5e4b4e1240/expr.ipynb\"><img src=\"data:image/png;base64,iVBORw0KGgoAAAANSUhEUgAAAbwAAAAzCAMAAADb/01UAAAAOVBMVEX///8kJCQNDQ0oKCgQEBCI\n",
       "iIhmZma6urrMzMxUVFQiIiJERETc3Nzu7u6qqqp2dnaYmJgyMjIAAAD9T1yxAAAAAXRSTlMAQObY\n",
       "ZgAACF5JREFUeNrtnImWpSYQhk0i+yrv/7AREAQFweW2d5LmnOmZsbFUPiiK4tdh+GMKEsNv+UwZ\n",
       "zVzU2bMU6q87/Z/hCZK3m23t8Tl4knN+tnnVGdr0fz040JSxnBtbPggPnz8HkHaVacIDt0Uyzj/Z\n",
       "Olx/tPGlv3k9UXTNgJ42B/Cr8Hq6jvOrkMyFTmR80HFqYgybzU7QGxXsw0OH8PMzRVaY+iJ4YkSd\n",
       "8MLDs0dnPeO7MvNdYuIfhiemm/C27fUqPAZPRTTzlPcoPLyEV9IAOxDh8OmiwD14W0/1JjxpxBl4\n",
       "nD0MDxi0/G0hUv5xeGK8CW+g6lvg0a6+Hh9Vg4fhMbO4YwuR/0QoO6Gb8KTh3wFPG34KHsEPw1um\n",
       "PG5sJwJLTxIAEI7A4uEujrCaDQVvwss7/IvwaF905x5VUUqN/fMgvGXKk94VMb9OEPN/NAUDdWDx\n",
       "pQA0t7EP9ld4akoK7Ovx4hvgYYOGMyPPxWpPjjxgiFIKAm+SSn81YZMXYkCzV8AQXvKlqY2N16N3\n",
       "R54w4Bvgwc4rh0eV6mF4LBvGSxRuD7E43tAleLmNvMPehTdM0zfAG8k5eEo+DM9kZJIl1Nq50eUo\n",
       "xoAPwQNJpPAaPGz0OXguK+3gKQAxID1XO6qJTTbJLG7T/QLfhhdtaKgxCMHQYq8y5/V1Zp6022vw\n",
       "gOHn4LnntvDmSYpMg0sQkuOBmNSsr/KCE/VtIsX8C3/qZXipDY3G2fDIywHLpWYm78NjvRdeHpWT\n",
       "AG++zORaGqtGqjPWLE4eeeTqo3hkpFv+LTnqAE8sq4quf6Q2uADWRLgUVPfhMZrCW2dAre/D67U2\n",
       "sjPwGB3HeaVAF1ph1NLmFFgb33AyhqTzkuckCAACwHDrceTRcCUa+n3hH0ud3Ia9CAoddcL34SmT\n",
       "wlPR29/b7PTwOq0JA8+NvHTmsvM+7oK31NRQat3YOSylx1a3KUWXuyy3yjzg3O0KOtyHp9cpeYbH\n",
       "wxjg7AG32WkNG3AOHl1n7Hmenw+v8Lh1poUfa00JWHMrt5SYlvGcnj1jVYwv7G0i6Ts2eABe0nJ2\n",
       "zgtDZB00d+a8PmvSyFPwRHTHgmikgBIrPDxK+4PnP2Racx63zWwJ2w49DmlwraKjqxXrIOtUgdLp\n",
       "M9yDl/gsC08rYcvd1OwCr89aMvj7Rl6xenCbpY6QHZtvBuhGmx1txvYEA806jD8BbzAkizYNs4Wq\n",
       "R+D1WeteKQyAThXOGBjoEMmCreyYFe9I1WrdD8sgtL8jcFkGEeCxDJ4PBljvwqsBL7OGmCEKst2C\n",
       "TD2ZYtYXx8qfWcYpg4dgNqu0kpINeLk17cJktXWi0PxqMK/Co/ki3f4XVPsqptC6abCs7VvwcmuE\n",
       "eC+5qUzML4WLhY45PDsdFAIMIRWE868kc9sci8qqCS+zRh3FXZL9F95j8Pg04H1eVDPJhQUmNbDI\n",
       "lE0iQUjnP/IIXmpNuMAE7FbTv27zOryN25zDC4KWpWrMgqM4xCSWmIMQqTRH3mrNJvrmlVZhyacq\n",
       "0aaT2H6o1KLJD0aZshYEKtE6pyrO3QQs8wlhzzjJgq8BjMTzxTTuhifXHWg11ZYKuLqqeyrZWlnH\n",
       "/ajYlpTp8aRZIE0KGZri3JFs4IXNwyQLLmAKbx52CvbCS7Yia9JMXRFB2Bt+Ktm6Kauo9gfFtpUY\n",
       "nuyeXoLdORV4eYbFNWZoppgFx9Qtthnw8GbfQrvhRWtDLQsmD+A9lWzddJf1mX9SbFuUoRUeLIF3\n",
       "nAMV65tYu/28NQtOspE3ILyYx2146yqjlkipbaS7G34o2bqZ5/nqsn9QbCtK+5aFzf0U3qE4d5OY\n",
       "zvrEmgVX8Qo+K9jaUynAA5OBlbapbAm5G34o2Zo/2GrsZ8W2E+oZeBm8Q3FuktLfwkuz4Gyphag3\n",
       "Rk7DOxoIUx3eQ8nWvB+tnaUkthUA2tbjl19DqhpQ+17KcAPekTg3idMPZRBgmfM60zan4EFzAO9c\n",
       "srWrML2Z8nKxrfITvcsEXZLapgbyuXbtpYve6J+/CxrbDN6R1oVkO+mP5dxOwdPlVbq/4XPJ1r6R\n",
       "Ltcpby+25XKAk88EXZPaJga2Q4r2DLwc3pE4N9GPvCj9k3V4jWTrpbtD65S3F9vOR0YQ1jhXNGOZ\n",
       "gc2Dbg8Up58M3oG+kydX+DbR7XLDlWTrI/DKYltkkXq55TXBX2LgGF55NuiF9xWi28qkF4R+MT2K\n",
       "3GvrbZlYq2J0mxWxrXN6YBwuw4sGcp1tas3NeX+NRY2t3EvZivAS5d+L8FBxmR5uOKZHlU33+C1j\n",
       "0YgYQsXjgKUsth0YCT8uwosGcp3t7jMAlYROb8DyHS+alN+tjK+VLFEDF7YpAWsqbGPFGttwtaLY\n",
       "1n6ywPYnncCLKtouqW00sNHZLkLbtc9WEjoZvLo4F3zHK17leDPecOxh9kGchqvlOmPF8kCni3Mr\n",
       "im29VBb6+SQcikrbHqltYiDT2Q6bXZJauhal4VldnJtFCm++1jyqA3gxPWo3RpzpFrylYk1gW0uD\n",
       "JcfhlM9SPUrbrJI3kOpsg9A21u7JpNbFuV/zWnPxgwL7G6Z49kbD0FLYxoo1gW0tAe2Pk8m6QJSv\n",
       "zLoyPEul1UCms90mprv2SeqJ6Xxp/+qnPApv8u5vGBHAphVeTWG7VqwJbGsJG3fcqjV8MmmV2vYo\n",
       "bWOl1UCaYdxmGmRPf6hvCcl83n8VHt+fsrthwUNE2FDYxoo1gW1t09UdR/OEtb2ZriSBjiuVvYF9\n",
       "j+kaeFVx7ld9RKeQOtpJbInyX0xrKmxDxbrA9gUZhN7cLOo/pyDOJRtP9S48F183loN682HAmsJ2\n",
       "V/E/V/TWdeCXP9lIwPBbOrMaH/1k46WPpUL0i6WriDzD5D+W+i8m6WeD2UErlQAAAABJRU5ErkJg\n",
       "gg==\n",
       "\" style=\"display:inline;vertical-align:middle;\" /></a><br>(see <a class=\"ProveItLink\" href=\"../../../__pv_it/theorems/f33fdf62e05f73a82ea1312fce526063991eddf40/dependencies.ipynb\">dependencies</a>)<br>"
      ],
      "text/plain": [
       "exists_def_negation: forall_{n in NaturalPos} [forall_{P} ([notexists_{x_{1}, ..x_{_a}.., x_{n}} P(x_{1}, ..x_{_a}.., x_{n})] =  \\\\ [forall_{y_{1}, ..y_{_a}.., y_{n}} (P(y_{1}, ..y_{_a}.., y_{n}) != TRUE)])]"
      ]
     },
     "execution_count": 2,
     "metadata": {},
     "output_type": "execute_result"
    }
   ],
   "source": [
    "%proving exists_def_negation"
   ]
  },
  {
   "cell_type": "code",
   "execution_count": null,
   "metadata": {},
   "outputs": [],
   "source": []
  }
 ],
 "metadata": {
  "kernelspec": {
   "display_name": "Python 3",
   "language": "python",
   "name": "python3"
  }
 },
 "nbformat": 4,
 "nbformat_minor": 0
}