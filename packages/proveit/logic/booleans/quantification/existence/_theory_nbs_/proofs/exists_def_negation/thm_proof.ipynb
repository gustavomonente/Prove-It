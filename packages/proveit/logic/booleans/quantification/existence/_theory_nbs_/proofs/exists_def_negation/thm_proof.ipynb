{
 "cells": [
  {
   "cell_type": "markdown",
   "metadata": {},
   "source": [
    "Proof of <a class=\"ProveItLink\" href=\"../../../../../../../_theory_nbs_/theory.ipynb\">proveit</a>.<a class=\"ProveItLink\" href=\"../../../../../../_theory_nbs_/theory.ipynb\">logic</a>.<a class=\"ProveItLink\" href=\"../../../../../_theory_nbs_/theory.ipynb\">booleans</a>.<a class=\"ProveItLink\" href=\"../../../../_theory_nbs_/theory.ipynb\">quantification</a>.<a class=\"ProveItLink\" href=\"../../theory.ipynb\">existence</a>.<a class=\"ProveItLink\" href=\"../../theorems.ipynb#exists_def_negation\">exists_def_negation</a> theorem\n",
    "========"
   ]
  },
  {
   "cell_type": "code",
   "execution_count": 1,
   "metadata": {},
   "outputs": [],
   "source": [
    "import proveit\n",
    "theory = proveit.Theory() # the theorem's theory"
   ]
  },
  {
   "cell_type": "code",
   "execution_count": 2,
   "metadata": {},
   "outputs": [
    {
     "data": {
      "text/html": [
       "Under these <a href=\"presumptions.txt\">presumptions</a>, we begin our proof of<br><strong id=\"exists_def_negation\">exists_def_negation:</strong> <a class=\"ProveItLink\" href=\"../../../__pv_it/theorems/2404195bf622a773c8bf001270292b0454282eae0/expr.ipynb\"><img src=\"data:image/png;base64,iVBORw0KGgoAAAANSUhEUgAAAdEAAAAzCAMAAAD/5sKUAAAAOVBMVEX///8kJCQNDQ0oKCgQEBCI\n",
       "iIhmZma6urrMzMxUVFQiIiJERETc3Nzu7u6qqqp2dnaYmJgyMjIAAAD9T1yxAAAAAXRSTlMAQObY\n",
       "ZgAACFlJREFUeNrtnIuSpKgSht09cr/z/g97RLwAQpFlaVuxUURMz4yNqfJBkiS/DsPXF6KGX/n7\n",
       "MvqpmLdPM6Rfx/2I1otiRWMGBuNlRLWU8u2mN5A+wH/sWt7L5YQnBPo6ovTESYi1f+UcHWQoWkh5\n",
       "Z7NIe2ur63jz1nFyvXHryiP0UaKv+tPsjjGbCndsvNDvWua9mMw6HI0qcfNAYhI+wbxdhPkmomok\n",
       "kAl2ahFx6UzqY8cWsZ84eTNR5W4kemjDR4kKDAqZpmn0UqJ0CeC0R2HI4ttnO4PuI3rwc08S1V5B\n",
       "iEpxMVHkyfJ3IMvl7UTVeCPRgZuvIcoxaFlj0cVEhV+8eSAr/yKQduRGotrLLyFqvQQRZfRioss0\n",
       "Kn3oUWjpVgohJglaHOTJsdiyYfCNRIuR8SBRLvqpB8M59+HPhUSXaVRHbyXi0kVN/7EcDXymTU+F\n",
       "v7mN4xpjJ2pcUj6ex23WOs8RpZ4MkDE6R4pXjlHkmTEGo2iS63g1FTIuaiCT36AYn3LFqY3CMfI7\n",
       "x6jy6CuI4s6V1+fX5mKiIuvSS/AfDoltZJJTRHMbee+9k+jg3FcQHRmMqNEXE/UZrmQ5t3d1cjpc\n",
       "8ugBoiiNSB4jSr2FEZ3T9DNRgzBFDHKZVzWpzyauxevOv6AfE91sWGwpWqOuxV5jHmUfN71M2/Ix\n",
       "oshLGNG5MQLRaeJjbpiTo+z1kE1qtlejqw+OjaHV9It46mmiqQ1LxsnwKOuR0dUl9XePERW9Cy/P\n",
       "L9lKdLLv5uanppPm3WpWJ508bo4LC+L1vExdkvYrUbUsdED/SG1IhYKJ9VLY3EtU8IzoPq1a+zFR\n",
       "sLFRQIgKPo7T4oUvCNdxzbvTassDYOc9S+e6CE8xhBTC6z1vY5SvV+LrKKj8Y6mT2wgXIWuvdfRe\n",
       "osZnRM02k3y0sxyJQo0pj2FjNJ0NQ4BBQUSXmhZrazs7sLUs4O51tQJ523pzTENzvl3Fh3uJ2j0E\n",
       "CETlOlrkR9tKkSjUGPUIRpTv0/8UUEyHd6Iy+OLKj72mRqK7X17L1OvtHMiGvKkGK+E2iY7dHN1M\n",
       "NG3NMI+uo2kfXx/Mo0Bj2msQUbW5ccUsMcionSgddfgh8x86rTmN8G7+R5SDVGK+emYFSApW65Dg\n",
       "k5Gx6TPcRzT1eIGoNSqUD3PWC1GgsdRPvByj1Wqr1631iuzYdBfIdhry1Y43JLDo1hHybqKDZ3ms\n",
       "60Uo3FxBFGisu3gZEHcN6BR5PHPTFRvZsaCs0qbX5DerUmy8I3SLKmUlKnKiMfoQwI1C85poZowI\n",
       "zwwWx/WjuSL3bk+Oqv9eGV1OlOBsxuoU/JpobszOAbw5+GDsf4rNK4nyIsMQ/o+avZtyHKYAtGQm\n",
       "OkRzY4xFH1vWZv6H4cLCx4JomGoqoYzSBuPpV1rMO0WLdq5HNDPGZ7THHYkf0XuJSjfQY8LYCi1V\n",
       "oKgtChxNyJlhzKc/+gXR1JiaAyB0zAj8vO61REuvOwUyjCzr7W3PgGyDUVNNJVpDot4Y3Y2FXOe0\n",
       "MKwtTU0/1nWO3tUArej2xqhXt57XqN45AO12GRlN56679smewV5J0+m6lkKJ6l0CYFxz9QJZj16U\n",
       "cm6tQP9Ui83qSGXSQpgnhQ1vaLdHVhJdd2qTPQOFU6LTADUYSDTZ9m0qcq0nAKIXpZzLsmuu/1CL\n",
       "3VhLsEM7aHQ4p0u0yBnNLby22LZnQPmcKhAoEp0cEocS3YwNzVyfBhG9KOVc9qbtCf5Ui12VGVYe\n",
       "LCEKzQir5KXAw/7ovmfAsjE6ELpciXaJ7tabs2VXwhCf4pqUcxlGyN33/6EWW9V2hCtCi5QoULtd\n",
       "ZuqzPrPvGZjtYjEz2tmWqhBFzmPZ9xMviF6Tci4ecTf2t1psRyBDNCMK1G6n+x4l0XTPQCzVCI92\n",
       "2btEXw4UByF6Tcq56Gd7X6ppsRXCoUnl6dfhmgbMsRML2iEK026nK4eXqhS0zKOwRNR7RLEHEX0v\n",
       "5QwqwhbTaK7FNjGMmNNcp5TYqYF8/t478SId+9+/FQl2RhSmUGK5huGi8iZR20sxxKd4L+UM8w56\n",
       "n0aPWmypB+ximuucEjsxUA4+DhmiOVGYdjuV+Dyo7tQQop2U86kbJfs0etRiT0dGtK7AzmgCMwPF\n",
       "I5cHqvNYRhSk9JXptb5egd1IOV9CtK7FJoFzFN6eU3kmBl4TrU8m7xP9DgV2dyJd1Z1blpjMH23o\n",
       "ywB7FTev29Bizz4TjcNpopuBXIadWpvn0X/GqgRbH6WKHaKpuPNBogT4JtOWJTYhlRV36FUnNFkr\n",
       "vo6M6lrsQbD1x0mim4Fchn34CkYjRfV+ZPQlbzJ1Xgje32RawhOpQvsi0RVgbxVbhtfrVrXY4Wse\n",
       "obvZhOgmsgYpsTcDhQx70WHvXbrx/BlRiHYbfcnbhr1od3uKrQeGp5s1ej3Pu1WsOwe++MaqFjsq\n",
       "qXGcmdZDmxAbosRODGQy7KHYS2qlqkkaB0K023lE8uRb+6MBEd2yxGFPab5Kj+hSsaW/bmX7kuPY\n",
       "5TMfRIidVYoGUhn2qsPeakOyyBDt9ve8tQ/9ssbe4nRyZsPQE2BvFVv661ZGPh5nLnhQkq8gQTmr\n",
       "pdJuIJNhl5l60G4SJFNfZCge/fqNw28RJQwJtxNtCbD3ii39dSsFNR8POpqYKNuV2BAh9lZpN5Cm\n",
       "VMs0iYZ0Eshumi6iikeJylfnHJ5CyTUe7Qiwt4ot/XVrZ3s+TqZJsLwtUIbDbouno4FjNwINUYB2\n",
       "+7u+UFXJiyURXKnAZiZ+2LArwF4rtvXXD6hSbHGzBH7OS+02K/3cs0TnQB+8gLXFhz5bAuxDxf9w\n",
       "sQd3Qx/+GitDw6+cL/d+jfXcF5Mx+XE5XVSRPYtfTP4/lppngzUzu74AAAAASUVORK5CYII=\n",
       "\" style=\"display:inline;vertical-align:middle;\" /></a><br>(see <a class=\"ProveItLink\" href=\"../../../__pv_it/theorems/4d11655d49996626a015a5d48644328ed1f45a900/dependencies.ipynb\">dependencies</a>)<br>"
      ],
      "text/plain": [
       "exists_def_negation: forall_{n in NaturalPos} [forall_{P} ([notexists_{x_{1}, ..x_{_a}.., x_{n}} P(x_{1}, ..x_{_a}.., x_{n})] =  \\\\ [forall_{y_{1}, ..y_{_a}.., y_{n}} (P(y_{1}, ..y_{_a}.., y_{n}) != TRUE)])]"
      ]
     },
     "execution_count": 2,
     "metadata": {},
     "output_type": "execute_result"
    }
   ],
   "source": [
    "%proving exists_def_negation"
   ]
  },
  {
   "cell_type": "code",
   "execution_count": null,
   "metadata": {},
   "outputs": [],
   "source": []
  }
 ],
 "metadata": {
  "kernelspec": {
   "display_name": "Python 3",
   "language": "python",
   "name": "python3"
  }
 },
 "nbformat": 4,
 "nbformat_minor": 0
}