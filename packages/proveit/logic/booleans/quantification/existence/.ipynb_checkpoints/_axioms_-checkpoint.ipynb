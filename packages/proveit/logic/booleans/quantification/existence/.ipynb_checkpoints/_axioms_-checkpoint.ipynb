{
 "cells": [
  {
   "cell_type": "markdown",
   "metadata": {},
   "source": [
    "Axioms for the theory of <a class=\"ProveItLink\" href=\"_theory_.ipynb\">proveit.logic.booleanss.quantification.existence</a>\n",
    "========\n",
    "\n",
    "Unlike `Forall`, `Exists` is not fundamentally defined in the core of **Prove-It**.  It must be defined via its relationship with `Forall`."
   ]
  },
  {
   "cell_type": "code",
   "execution_count": 1,
   "metadata": {},
   "outputs": [
    {
     "name": "stdout",
     "output_type": "stream",
     "text": [
      "Defining axioms for theory 'proveit.logic.booleanss.quantification.existence'\n",
      "Subsequent end-of-cell assignments will define axioms\n",
      "%end_axioms will finalize the definitions\n"
     ]
    }
   ],
   "source": [
    "import proveit\n",
    "# Prepare this notebook for defining the axioms of a theory:\n",
    "%axioms_notebook # Keep this at the top following 'import proveit'.\n",
    "from proveit.logic import TRUE, in_bool, Forall, Exists, NotExists, Not, Equals, NotEquals\n",
    "from proveit.numbers import Natural, NaturalPos\n",
    "from proveit import n, P, Q\n",
    "from proveit.logic.booleanss.quantification import (\n",
    "    general_exists_Px_st_Qx, general_exists_Py_st_Qy, general_forall__Py_not_T__st_Qy, general_notexists_Px_st_Qx)\n",
    "%begin axioms"
   ]
  },
  {
   "cell_type": "markdown",
   "metadata": {},
   "source": [
    "**Defines the $\\exists$ operation generically for any number of instance variables or conditions by equating it to an equivalent expression in terms of $\\forall$**:"
   ]
  },
  {
   "cell_type": "code",
   "execution_count": 2,
   "metadata": {},
   "outputs": [
    {
     "data": {
      "text/html": [
       "<strong id=\"exists_def\">exists_def:</strong> <a class=\"ProveItLink\" href=\"__pv_it/axioms/54b1fe8b8f8b40fb8e8db4cab65e1757d20525400/axiom_expr.ipynb\"><img src=\"data:image/png;base64,iVBORw0KGgoAAAANSUhEUgAAAlwAAAAzCAMAAAB1/yYkAAAAOVBMVEX///8kJCQNDQ0oKCgQEBCI\n",
       "iIhmZma6urrMzMxUVFQiIiJERETc3Nzu7u6qqqp2dnaYmJgyMjIAAAD9T1yxAAAAAXRSTlMAQObY\n",
       "ZgAACnVJREFUeNrtXYmWpSgMdWZkk039/48dEVSW4IL4ntVdnFOvq2xMQC4hJFxf0/z0wrquE81v\n",
       "KShkenT6JzS0Hadyv6WaXL2j+wXJjSJYHTkylKMNGtp64FJCCHkbW9fh+QuuN4CrIUOAtQkMqiK4\n",
       "aAUhqKCrFlxiKX/KoPdPSleiOriafogu0HeBqwjrFlyY2dLKH4mlno0jn5o/YNt+yR92VEV1cDVc\n",
       "vxlcsiXF4Eqe2k8ro5343M6O4eFuyKE+uOLhexe4OG7+WnBRtxlSIzKGDD+tT6Pq4IoXnleBS43y\n",
       "7wUXGon714Ds+diKbOuDqwnjGq8CV1c2Xf8McPHRtd+ATHxgBzyQ+uBSo3gpuPpR/MXgci6XGM0M\n",
       "Q26aSYSYIGhZwoosVE6ExvXBFdqHN4GrK9wgWXDpzpbxE+C6q4PmXC5lFxZu4xBy+qPvUNPNwKMl\n",
       "zycUAUQOAnDpwSu4yEDIV4KLjuQOuKpbrqg1CGvtwgTN7TyEIqnLxfSkAFkNnbJ6pAl1y4ZMfaIY\n",
       "l6yVvoioDd0DlkuO6JXgwqVNeQhcgZ0Qs4dCbZigggosEpfL38y4Pb25xNd2kBJwhSLCyfwAuJph\n",
       "eCW4WvZecInWSsWmjbRCqlfGnR2DXngBo80UkFIvf0SfAxfy3JL3gIuO/XvB1bm29eZxsRp5rihI\n",
       "SsfAw3HL4vwf9C64VhE97ila9gqLuLzPVYQ64Q3je8CFij1xAFwaYYrOgGCnogcu1K6N3DYQZ1XA\n",
       "VVEf9T7wwpxDr6TVaD2xInD5InrSTnKdEQYd+howYC8EFy9uSQqu6UmyoenMeLHduKxXcQ9c6yTG\n",
       "wxKDOq0io0SFYzqE8WMbJiCjmsNfLoftwCVd0AL4Jb3kixASGQmLJqwfARfvfHBtHljf3wdXsbSW\n",
       "3wPX4EIRxueeWjLM2qnez2OvFffBtR5Ta6dfCA/uPFKRUUL87uJhHJnvGFkcSYaQRHh5kIvl6jqn\n",
       "sFtwsf7iXbKVQhFGB1km8UAfAZcefXDpdX0f5H1wlUqTI65juRY8OOPfHbUiuxp7o98iz+Ui7KoK\n",
       "SAkd9vsEtGpdFtWZJwtVMkM0Gax5oKSTVhtc/eYkTuASy1MU9055WHCVSqMjqgkusxWiZ0beVeyx\n",
       "6nudAxdjjezVtGec4xH8ogpQCdkfUyhxrZaOntqtasjZNq0lyloB9Ay4vIE0PtdiYjajc8fnKpSm\n",
       "RlUNXNND1IN7vHbkBZfxx/yzVlSIx4I8cMmWoqZXNhs3T/lUBaRjR0l/gBAemy6BO7d0yjPTEKo0\n",
       "AxrpeYl84shNvAQZcPVamnI3WerAVSjNs6a3wSVZTzTScht52irzIbwPc8mrOG3movSK/5fEXE/m\n",
       "y6Z9jMhUBaRjRwk+SEfsHBY85cseVeLiIXA1Iwt2iyM35S4NZNktlkkrj0Tsn6Ff1izALqpICOpJ\n",
       "Dlzzo2Ju24YUrALSkVUyHAaMHj3m3D9wzHkBFw/AZUMw/OTo6gNwBdIIH5nGfNut+ym6cJMhHwAX\n",
       "RSOeh1elnQsumYi50v0euMQ4uH0hB1VAOrJK1KPQuRT1rA2udgjARbC/CB8VfACuUNq8wWr0sjXx\n",
       "U3Sh1BvgOsFb7AsWjjSC4ywb6U+vRBklEr8DWYa3WB1cXQCuee6j7MOmHTZkQuRir0fgCqUxZhc9\n",
       "iy0/RRcWNjYvKzvjr+6mmNDPZJGcm+ttCC5jqoHFRSqN8fRfis8nN9xqdgiuQJrNyrm8fJCiuw2u\n",
       "X6b1VyydvgguMRh3NTHpXAkpZwcBGUhpk5bAuJt+1B64fGly9tOR9XnDFN3tZfGXDPtKH62LlsXJ\n",
       "/WbEBe/WxDlZTZSiigq0ePKHlmuTZnJb0y58CXkFKbrEoRdXt01/BLhyvXtws5hd1LU8cY8DV94z\n",
       "iBz6qepyytFLnG8AUHTS29PT4FLbmUntwyhI0SWhCHo14NM1TbXE6LfK0ruPcmIzp5KEN1a48wpr\n",
       "ABJt9mhTyyJwLefJvMS5t6Ex+QK9HOg/AS7vdFrARAxSdPEanDvknGeHmpbWSox+q2y9+yAnNhMY\n",
       "YMkIKJTes4ArG10II/Tz2C5DsybOaTcHQzmy4JrMdHcaXKu0JkjqBCm6uB8ZcO2wQ+c0TKXE6JfK\n",
       "1ruPcmJBNhHwBD1wpbnIDCVJbm86Ss5zbYlzFliuhlAnjB6Da4tiLJ7UnGkLUnRJTXhZ29kPdr7B\n",
       "upkY/da2XWxuwQc5sRI6OwccfPTBlZBoJXwAL0pcB/DdEud6VWYzFkepVgBcaBgdE2FOvIUpuqw1\n",
       "DdrTHewWKyVGv+TNb63+LCcWmN+Q6ffBlZJoQSPhn0CIweUnzrlaghtWDLsMrkDpopHBO6EOXMMR\n",
       "PgpF1EmMfqd4vYM4sRJhM7qi/MU9OQk6faycHoArIdFqcGy8bf/uMWfkfK5zZR9c69Z1S9HFgS7o\n",
       "Nt4fgetaYvSWnbl3O93rHciJ1db7naOCRYzYQELg620z2XEy/vsX4MEG4ErO3PegOWDBSdRaZR9c\n",
       "G0g4fGS9B6Oojgbj7Yx1BK5ridHDQiLTUo8JmxJhPZIPxIkVygYEOS9lxHoSorZ0ZwxXCK6ERKvA\n",
       "JnnH1d9ELQPD/vGIeAHibvsHVQtyBWzFukzYhAjr9Q7ixEoXvJk95FJG7CYhfNjxBdDnCcCV8Bwp\n",
       "tNYIT9fbSbEnwJVJjN4HV20mbEKE9XoHc2KJgZylHRaSFj0Ju+CC3YoCcL2TFAs7XZ06BBecGK0A\n",
       "rupM2CQyuvYuw4md1zSbkS0E1yoBJMSuPtc/LciDVSkjyRsAsEkes+xN4CJQGDVx6FNwbalMMr+u\n",
       "9wQZZ6fiBi6ACXtaAVwzWbzX3sGc2Iaz5aMUXKsEkBCbh32xQ//SF5GA735Lt7s0AdeaytQmb2XP\n",
       "1sqDTdRScQdcABP2tAJYg2K53oGcWLsgExtdjhmxe9zYrdIqASbErlMhE/AJwJWQaLGGVsV3vkIJ\n",
       "3C+SoyCqN1uENLURP+SprhV3wZUyYU8ryGggHO5dhhNrKa3YOjEJIxagxMaM2EACRIhd51GmN8GR\n",
       "24REO9ADx/lVr60EDkscpn9mVEpvLs2jdLRyrRV3wAUxYU8rADWkRNhc77zr7njSDUaslQARYlfT\n",
       "f2Y7EpNoJTDv3/vaSvCFuweJ6+gKcc04GntXcZcKCzFhTysANaRE2Fzv7HU2mCWOhEGlS4zYTQJI\n",
       "iD0wXKHIM4nrMAr7rleFQ29K5OICuOjkYDTNDhXWfiwVd6mwKRM2UXBRA5CdzfVuvm62qzZDUsqI\n",
       "3SSAhFg3p8/g9dSRGxV6C+8ClwBk7B8WjHwEhviwjX2OprpV3KXCJkzYRMFFDQARNte7+TqZ/KX4\n",
       "gVxjxEISEkSfMlwJiRaYFu/+kgMwo3D+mLMUyy5+hwprrq0VD6mwIRM2VXBJA7R1/8Ix5z6CBbl0\n",
       "jwNXD5hcFi08LwMXRDo773Mxbb86a48KO19bKh5TYUMmbKLgkgb1Iw9iN/lAYwzAhKP+tq/EY6gc\n",
       "XKSPvlAvR1NNKmbBFTJh0/suaHgLEfYpcD37lXh1vswTn35hePcEbzGPgLtM2D+BCLvD0JZhXNl+\n",
       "mef/YRmHMU9p4loAAAAASUVORK5CYII=\n",
       "\" style=\"display:inline;vertical-align:middle;\" /></a><br>"
      ],
      "text/plain": [
       "exists_def: forall_{n in NaturalPos} [forall_{P, Q} ([exists_{x_{1}, ..x_{_a}.., x_{n} | Q(x_{1}, ..x_{_a}.., x_{n})} P(x_{1}, ..x_{_a}.., x_{n})] =  \\\\ [not](forall_{y_{1}, ..y_{_a}.., y_{n} | Q(y_{1}, ..y_{_a}.., y_{n})} (P(y_{1}, ..y_{_a}.., y_{n}) != TRUE)))]"
      ]
     },
     "execution_count": 2,
     "metadata": {},
     "output_type": "execute_result"
    }
   ],
   "source": [
    "exists_def = Forall(n, Forall((P, Q), \n",
    "                             Equals(general_exists_Px_st_Qx, \n",
    "                                    Not(general_forall__Py_not_T__st_Qy)).with_wrap_after_operator()),\n",
    "                  domain=NaturalPos)"
   ]
  },
  {
   "cell_type": "markdown",
   "metadata": {},
   "source": [
    "The equivalent expression to saying \"there exists an instance of $x_1, \\ldots, x_l$ variables for which the set of $Q_{1}, \\ldots, Q_{k}$ conditions are satisfied such that $P(x_1, \\ldots, x_l)$ is true\" is to say that the following is *not* true: \"for all occurrences of $x_1, \\ldots, x_l$ for which the set of $Q_{1}, \\ldots, Q_{k}$ conditions are satisfied,$P(x_1, \\ldots, x_l)$ is not equal to `TRUE`\".  That is, \"there exists appropriately constrained operands of $P$ for which the $P$ operation is true\" means that \"it is *not* the case that all appropriately constrained operands of $P$ cause the $P$ operation to *not* evaluate to true\".  This is expressed in a way that does not assume that the $P$ operation returns a Boolean, exploiting the fact that `Equals` ($=$) is defined to always evaluate to a Boolean and therefore `NotEquals` ($\\neq$) as well.  Existence in this theory means that the $P$ operation evaluates to true for some instance of appropriately constrained operands but it does not mean that the $P$ operation always evaluates to a Boolean under this constraint."
   ]
  },
  {
   "cell_type": "markdown",
   "metadata": {},
   "source": [
    "**Defines the $\\nexists$ operation generically for any number of instance variables or conditions by equating it to the negation of the corresponding $\\exists$ operation**:"
   ]
  },
  {
   "cell_type": "code",
   "execution_count": 3,
   "metadata": {},
   "outputs": [
    {
     "data": {
      "text/html": [
       "<strong id=\"not_exists_def\">not_exists_def:</strong> <a class=\"ProveItLink\" href=\"__pv_it/axioms/39840dbaa0b6d970ec76d71719ade1a39f63d0220/axiom_expr.ipynb\"><img src=\"data:image/png;base64,iVBORw0KGgoAAAANSUhEUgAAAh0AAAAzBAMAAADBd6e7AAAAMFBMVEX///8QEBCIiIhmZma6urrM\n",
       "zMxUVFQiIiJERETc3Nzu7u6qqqp2dnaYmJgyMjIAAAAcRTyBAAAAAXRSTlMAQObYZgAACnRJREFU\n",
       "aN7dm3+MFFcdwL+3O7M/ZmfvLqZYuapZuISSE7xLqaAt4IIJh9GW40ya/kG89ZQzmEoXwW6vpXDV\n",
       "BK5aZdGm5TCU4WqoRQsX9Wwhxa53VRN61DWgRgv2DFVjE9sNR5G7Us7ve2/em5k3Ozu3ZZaQvsvt\n",
       "zs77NfOZ7/u+749dgJoUxYD3b6mbni74tXmJH0Ryvfhaf53yaM+VuRMtw9716enGGfE4OuB3e7qY\n",
       "Jmp7vQ5LPFPm5J0ml4EfzYxHh2+TeWDjER8YeH7gWtxbsarmibwXj+S4eaAGxCPRaOcR7unZ9qUa\n",
       "Lpg/T+/oOYfj/6TKfhu8eMCjAfM4kAbnetkQq6UCuQIQawL4T5XdDnvy4NcfFI9vg8QjW0se6mWU\n",
       "yPOQbKuyn57y4sHlOyAeiSmJR7yvljxCF/D/MkTzVfbTGr14wNZAeUTbJB7JVC15xEq4rV+AJ6ru\n",
       "+LonjxfzQfJ4LS/xiHTUkkcDbgf726AZDwfnPbYgVVEm5m5YOcI/jHryMJ9oQDzuBwcPPbc9t716\n",
       "Hn7iL66iqwAJFPDv4d0Wkt+Ijlfq9DP4S2ob//B3weOVN0k5Z+24UwHyUC+AJB+HYUbyYWr10NJR\n",
       "bK37tf4lP2i9Z+wW7PAg9jH0KSUPap9npxPwB+Oz/MNznvKhnQ+QR7hR5vHCzHiw24i/DmoTsw4q\n",
       "T8MFaBcb+wa8DYjhGOqirGcnA/qtD12ePODNAHnUZWQeL1fDYzfe52JQfV0k7mbA/4DzQF1CtIeS\n",
       "rdDt/Ix4tOaD49FVlHm8UQ2Ph/D/j6iCfZub9pc6wd4fpHN3+PBQ37Z5c5L++JdVtb8YHI/WvMwj\n",
       "S3iMfGKeq6Pe3Lle4hEi19BK9bCjkhdrmIWW+UEK6tOE0QohoxKPY6EStMCpP81tc+hTDxkPhsfD\n",
       "IPHASWNGyNgYTcPXnE1bIuNbJB715EqWE2uCVkYkwWLD0PIr9lY/JXbPNUO7YB+TjyO4zWhoyNMD\n",
       "8Ul5J1ZCt+/0R2A2nl3qzSOWNXnQ3eqsH496uil5+JMfknjENt2Y22So8F+AdU3SnllflNdLA1Ec\n",
       "H4bVrFL9jcSDDsPKaqZW37qY4tJ/cO7gsiLjEX0AT91HLiDDX3IGaN0tzWchPpgFAvGf3jz0ksnj\n",
       "ZbbefXjoQ95BHm1Clg9TF0zi/wOyLZWXedTh3SUbYZVZGXVNMskPvijZUGIoul6Oud0IMVQkpeBK\n",
       "0LLePJJvmzz2UHfDjwdtscdDY52XeTCfTi2pbh5d0JG8/WzBxiOSeXZodxruZpVuHmSYU8fP4NEq\n",
       "6RbaHDzc+5Nuu4NwoaOCP8dvAnmQh06ffmX98QbdRct7c+/IPA5Tja2P65THHiP+HfqCf6VXoJCY\n",
       "D1kbD21W6lV0LJ4GWkl5iB74Qof5eR8Z9ow08SPiCnA8zW22D1q7B0Q/11HB3+dCjjySJw4desJf\n",
       "n545dOiZbCVRs/NQycHB0yMnKI+1Q+psWJtXZ6s3aV///AID1nN7kr099WgP2upRg1USHqIHHtFh\n",
       "Ih1EfG6VJubxoPgS1ChJ94VZqmoVhE4yfl484CLfXy7192/159HQ37/Tw2IKTco8bIWsFyF9CfaW\n",
       "DZ228wC4C7eAkNmKrhdLXofMQRfiHjN+dfHCZL4Sj0ucx3qb4NlKwckDVWQMx1t9cXQHXeDNY7eJ\n",
       "ZTrlzaNzYojFLWk5atqZiZNOHvv/YfAPauvtYOthHh2EF4qQqO72PWKuXjw+ynl8BrRyHmKbk4fS\n",
       "RpcfbgQ6WTZPpmEtV3zhCjzocykjwE4eMWKT3FGuh30VPAW15HEj5xGFkP061c0vwZyMiweqwIV0\n",
       "MwA0+CCO1k2YjxwpOXjQ/MvMiiPgl/Dz91sCwNGe8+KxifPQi9Yj/enoMnheN8KGm8dJuilEi9Sj\n",
       "xDciKuV42MtXc3m4Pos7LyV4xMfvEtL53b0GHE+16TC6aPOiIQePJ1VC9kgebkZYc4gaLZVdL/aS\n",
       "heu2uNZNTvgvj3wFSSzrbCaqBMvw8A90t/6A2OPEi1gzMkYwEccwzLWOPvl+4CH0KfwCLzu5oliX\n",
       "ZxvasP7sujI8Ekuon8zOXCZnucSFHPbHPiePASy1XzT7qmks8nRH7Wc/KHiQkMrem6HB0CiDYSiM\n",
       "luHB4ipmouUDNGTBV5k9XKj1OXks7unpaaoVhuS9l3o23iZN6l94ni5if1ATgkeSbJzdsALU+/v7\n",
       "v4U89kXL8fgbeTFN8x7t1fgNgredR33evV421EwuSKT9YcM5qX/hdrvdztAuO+Mfs2CpChkmH0qn\n",
       "PZptj3+oRFWgW3GgM/nrtDj5rm2uU3AteXThmn0x5ZzUvwi/bqSMP2eqlxJsGYbfksPTLsfJ4vHx\n",
       "CXwS6k2gffJ3mbhT1MzSe015tOJDaS1Ab3W9RJ7ugOyUCh5KBhagaYF7h7ItDZHK8THihqgZS4dt\n",
       "s6nt7DXlsQv/703Hq93HeJ6uPm3JzGS5eOF81B/+8UKil+NXLC35aZtv1xYEj3jlalUcXcG2E3TS\n",
       "wVsgXlFv2xvwPJ1uXW2k9N7jp9S832mxfc0K4cSKEo/f53K5Sf8pFPOduYkFnw2TT00S/c8V6KSF\n",
       "FcRAvNu7E2vACo8rJy2FWtcXXDy5y3LPo3i4BBHktlYnHzH2xtzEiN928SkujRfHRlvopPGh5ehI\n",
       "fGGJt8jRBuYHnqdLWAttfyo4HrZ8VB1/dI+/Fx6mm7jOr/VB3muKT6qhSYR2VLu3DmUNeNCS8VAt\n",
       "zyvIfFS4FBAP001c79ea2xsNWTGpMkVSU+0VVuQUy1158NgJwfFQLjjWSxkeKzOuwDIo82yxY8bD\n",
       "dBOzzjp3Bx6g6GoTk6I3NQcq8aANzLwUz9PZ8lhB5rNhs1ufOnkUpnAmKTWlNxhrJflgbiJun7RO\n",
       "zkxZHRIZy/wwJ41lYEdFHrSBmZdy69NQkN93sG0wYgdT7TziP86G+uTU1N52mC/xYG6i0kfrXJkp\n",
       "q4NiKsa3DDFpOKO8y3g4EnVWxo404HkpnqcLFyQVGBAP4epKmVT88G/ca5pw4kjKtWKWotPk5MHc\n",
       "RLQNaZ1rxYgOKnuuy6e7xaRad/Mk4+FM1N3Hz9AGLC8l8nT14saC/b6U7ft0vWXjH9E0jiHz2AKz\n",
       "RGoqZnMTSTYC69w8RAdFCl70mgqCrRd3ou4Y1yAsLyXydE+LFuY3hYL6vuW5iv4c8uhY40xN4Qt8\n",
       "UymJ1BTjwdxEcrlY58pMWR2SksGGk26EI2lqWJSz5sgZ2oDlpdz+XKIpWB67RYtYvhwPpfv7ztQU\n",
       "HsGq+eMiNcV4mG4iNiR1cmbK6hBOS7oyDw8Beho/3N5dLlFHz9AGLC/l9veD/j6uZejJ8SBWniFf\n",
       "1nCkpmBIy+O+wFNTMa6GiZv4MaB1cmbK6lAv33AfrGzmF+lO1NEzVgORp7Oe3ZchWB6w2CteyMo9\n",
       "yriUmkrkI4U7rdQU50HdxBiQOldmyupw/KrihSJP91dxpq86Hv6/94ikKsaT7xiTn10SlDMFl//C\n",
       "3ESlKOrKdtCq/aK2Xzy52t97zOD3QLeWO5mbcf4l7AooVCgh46pxOPJSmmkpkt8D/R+TwxRp4GTU\n",
       "hgAAAABJRU5ErkJggg==\n",
       "\" style=\"display:inline;vertical-align:middle;\" /></a><br>"
      ],
      "text/plain": [
       "not_exists_def: forall_{n in NaturalPos} [forall_{P, Q} ([notexists_{x_{1}, ..x_{_a}.., x_{n} | Q(x_{1}, ..x_{_a}.., x_{n})} P(x_{1}, ..x_{_a}.., x_{n})] =  \\\\ [not](exists_{y_{1}, ..y_{_a}.., y_{n} | Q(y_{1}, ..y_{_a}.., y_{n})} P(y_{1}, ..y_{_a}.., y_{n})))]"
      ]
     },
     "execution_count": 3,
     "metadata": {},
     "output_type": "execute_result"
    }
   ],
   "source": [
    "not_exists_def = Forall(n, Forall((P, Q), \n",
    "                                Equals(general_notexists_Px_st_Qx, \n",
    "                                       Not(general_exists_Py_st_Qy)).with_wrap_after_operator()),\n",
    "                      domain=NaturalPos)"
   ]
  },
  {
   "cell_type": "code",
   "execution_count": 4,
   "metadata": {},
   "outputs": [
    {
     "name": "stdout",
     "output_type": "stream",
     "text": [
      "Axioms may be imported from autogenerated _axioms_.py\n"
     ]
    }
   ],
   "source": [
    "%end axioms"
   ]
  },
  {
   "cell_type": "code",
   "execution_count": null,
   "metadata": {},
   "outputs": [],
   "source": []
  }
 ],
 "metadata": {
  "kernelspec": {
   "display_name": "Python 3",
   "language": "python",
   "name": "python3"
  },
  "language_info": {
   "codemirror_mode": {
    "name": "ipython",
    "version": 3
   },
   "file_extension": ".py",
   "mimetype": "text/x-python",
   "name": "python",
   "nbconvert_exporter": "python",
   "pygments_lexer": "ipython3",
   "version": "3.7.3"
  }
 },
 "nbformat": 4,
 "nbformat_minor": 1
}
