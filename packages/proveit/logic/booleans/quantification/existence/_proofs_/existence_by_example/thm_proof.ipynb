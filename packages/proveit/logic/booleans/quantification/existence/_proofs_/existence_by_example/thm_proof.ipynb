{
 "cells": [
  {
   "cell_type": "markdown",
   "metadata": {},
   "source": [
    "Proof of <a class=\"ProveItLink\" href=\"../../../../../../_theory_.ipynb\">proveit</a>.<a class=\"ProveItLink\" href=\"../../../../../_theory_.ipynb\">logic</a>.<a class=\"ProveItLink\" href=\"../../../../_theory_.ipynb\">booleans</a>.<a class=\"ProveItLink\" href=\"../../../_theory_.ipynb\">quantification</a>.<a class=\"ProveItLink\" href=\"../../_theory_.ipynb\">existence</a>.<a class=\"ProveItLink\" href=\"../../_theorems_.ipynb#existence_by_example\">existence_by_example</a> theorem\n",
    "========\n",
    "*** see <a href=\"../__pv_it/bc2bd06df4a38a6f1f0897e25770909436175d1b0/dependencies.ipynb\" class=\"ProveItLink\">dependencies</a> ***"
   ]
  },
  {
   "cell_type": "code",
   "execution_count": null,
   "metadata": {},
   "outputs": [],
   "source": [
    "import proveit\n",
    "%proving existence_by_example"
   ]
  },
  {
   "cell_type": "code",
   "execution_count": null,
   "metadata": {},
   "outputs": [],
   "source": []
  }
 ],
 "metadata": {
  "kernelspec": {
   "display_name": "Python 3",
   "language": "python",
   "name": "python3"
  }
 },
 "nbformat": 4,
 "nbformat_minor": 0
}
