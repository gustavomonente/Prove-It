{
 "cells": [
  {
   "cell_type": "markdown",
   "metadata": {},
   "source": [
    "Expression of type <a class=\"ProveItLink\" href=\"../../../../../../../../doc/html/api/proveit.ExprTuple.html\">ExprTuple</a>\n",
    "=======================\n",
    "# from the theory of <a class=\"ProveItLink\" href=\"../../../_theory_nbs_/theory.ipynb\">proveit.logic.booleans.quantification</a>"
   ]
  },
  {
   "cell_type": "code",
   "execution_count": 1,
   "metadata": {},
   "outputs": [],
   "source": [
    "import proveit\n",
    "# Automation is not needed when building an expression:\n",
    "proveit.defaults.automation = False # This will speed things up.\n",
    "proveit.defaults.inline_pngs = False # Makes files smaller.\n",
    "%load_expr # Load the stored expression as 'stored_expr'\n",
    "# import Expression classes needed to build the expression\n",
    "from proveit import Conditional, ExprTuple, Lambda\n",
    "from proveit.core_expr_types import Q__z_1_to_n, R__z_1_to_n, z_1_to_n"
   ]
  },
  {
   "cell_type": "code",
   "execution_count": 2,
   "metadata": {},
   "outputs": [
    {
     "data": {
      "text/html": [
       "<strong id=\"expr\">expr:</strong> <a class=\"ProveItLink\" href=\"expr.ipynb\"><img src=\"expr.png\" style=\"display:inline;vertical-align:middle;\" /></a><br>"
      ],
      "text/plain": [
       "expr: ((z_{1}, ..z_{_a}.., z_{n}) -> {R(z_{1}, ..z_{_a}.., z_{n}) if Q(z_{1}, ..z_{_a}.., z_{n}).)"
      ]
     },
     "execution_count": 2,
     "metadata": {},
     "output_type": "execute_result"
    }
   ],
   "source": [
    "# build up the expression from sub-expressions\n",
    "expr = ExprTuple(Lambda([z_1_to_n], Conditional(R__z_1_to_n, Q__z_1_to_n)))"
   ]
  },
  {
   "cell_type": "code",
   "execution_count": 3,
   "metadata": {},
   "outputs": [
    {
     "name": "stdout",
     "output_type": "stream",
     "text": [
      "Passed sanity check: expr matches stored_expr\n"
     ]
    }
   ],
   "source": [
    "# check that the built expression is the same as the stored expression\n",
    "assert expr == stored_expr\n",
    "assert expr._style_id == stored_expr._style_id\n",
    "print(\"Passed sanity check: expr matches stored_expr\")"
   ]
  },
  {
   "cell_type": "code",
   "execution_count": 4,
   "metadata": {},
   "outputs": [
    {
     "name": "stdout",
     "output_type": "stream",
     "text": [
      "\\left(\\left(z_{1}, \\ldots, z_{n}\\right) \\mapsto \\left\\{R(z_{1}, \\ldots, z_{n}) \\textrm{ if } Q(z_{1}, \\ldots, z_{n})\\right..\\right)\n"
     ]
    }
   ],
   "source": [
    "# Show the LaTeX representation of the expression for convenience if you need it.\n",
    "print(expr.latex())"
   ]
  },
  {
   "cell_type": "code",
   "execution_count": 5,
   "metadata": {},
   "outputs": [
    {
     "data": {
      "text/html": [
       "no style options"
      ],
      "text/plain": [
       "no style options"
      ]
     },
     "execution_count": 5,
     "metadata": {},
     "output_type": "execute_result"
    }
   ],
   "source": [
    "expr.style_options()"
   ]
  },
  {
   "cell_type": "code",
   "execution_count": 6,
   "metadata": {},
   "outputs": [
    {
     "data": {
      "text/html": [
       "<table><tr><th>&nbsp;</th><th>core type</th><th>sub-expressions</th><th>expression</th></tr>\n",
       "<tr><td>0</td><td>ExprTuple</td><td>1</td><td><a class=\"ProveItLink\" href=\"expr.ipynb\"><img src=\"expr.png\" style=\"display:inline;vertical-align:middle;\" /></a></td></tr>\n",
       "<tr><td>1</td><td>Lambda</td><td>parameters:&nbsp;7<br>body:&nbsp;2<br></td><td><a class=\"ProveItLink\" href=\"../9451b1290d9c039cf5e96df7b62d4a8bcf8830d50/expr.ipynb\"><img src=\"../9451b1290d9c039cf5e96df7b62d4a8bcf8830d50/expr.png\" style=\"display:inline;vertical-align:middle;\" /></a></td></tr>\n",
       "<tr><td>2</td><td>Conditional</td><td>value:&nbsp;3<br>condition:&nbsp;4<br></td><td><a class=\"ProveItLink\" href=\"../44e086ff875e35b8548a25a3b9636703a8eb84040/expr.ipynb\"><img src=\"../44e086ff875e35b8548a25a3b9636703a8eb84040/expr.png\" style=\"display:inline;vertical-align:middle;\" /></a></td></tr>\n",
       "<tr><td>3</td><td>Operation</td><td>operator:&nbsp;5<br>operands:&nbsp;7<br></td><td><a class=\"ProveItLink\" href=\"../../../../../../core_expr_types/__pv_it/common/80024e7af5bd4857c2f1411c9a075673a7f9a1bc0/expr.ipynb\"><img src=\"../../../../../../core_expr_types/__pv_it/common/80024e7af5bd4857c2f1411c9a075673a7f9a1bc0/expr.png\" style=\"display:inline;vertical-align:middle;\" /></a></td></tr>\n",
       "<tr><td>4</td><td>Operation</td><td>operator:&nbsp;6<br>operands:&nbsp;7<br></td><td><a class=\"ProveItLink\" href=\"../../../../../../core_expr_types/__pv_it/common/243a7629be4ed0e791932b0f8bb51de2632aa6c80/expr.ipynb\"><img src=\"../../../../../../core_expr_types/__pv_it/common/243a7629be4ed0e791932b0f8bb51de2632aa6c80/expr.png\" style=\"display:inline;vertical-align:middle;\" /></a></td></tr>\n",
       "<tr><td>5</td><td>Variable</td><td></td><td><a class=\"ProveItLink\" href=\"../../../../../../__pv_it/common/75b77068be7a61a1f04d03fa34a8f6252f6605dd0/expr.ipynb\"><img src=\"../../../../../../__pv_it/common/75b77068be7a61a1f04d03fa34a8f6252f6605dd0/expr.png\" style=\"display:inline;vertical-align:middle;\" /></a></td></tr>\n",
       "<tr><td>6</td><td>Variable</td><td></td><td><a class=\"ProveItLink\" href=\"../../../../../../__pv_it/common/50527aea954422d65ebe44b8de200683294751540/expr.ipynb\"><img src=\"../../../../../../__pv_it/common/50527aea954422d65ebe44b8de200683294751540/expr.png\" style=\"display:inline;vertical-align:middle;\" /></a></td></tr>\n",
       "<tr><td>7</td><td>ExprTuple</td><td>8</td><td><a class=\"ProveItLink\" href=\"../../../../../../core_expr_types/__pv_it/common/495ace175fd549ee295852dfac50fc8300706c740/expr.ipynb\"><img src=\"../../../../../../core_expr_types/__pv_it/common/495ace175fd549ee295852dfac50fc8300706c740/expr.png\" style=\"display:inline;vertical-align:middle;\" /></a></td></tr>\n",
       "<tr><td>8</td><td>ExprRange</td><td>lambda_map:&nbsp;9<br>start_index:&nbsp;10<br>end_index:&nbsp;11<br></td><td><a class=\"ProveItLink\" href=\"../../../../../../core_expr_types/__pv_it/common/a793aff15eae4f80a755db9cb37102de2dac61a50/expr.ipynb\"><img src=\"../../../../../../core_expr_types/__pv_it/common/a793aff15eae4f80a755db9cb37102de2dac61a50/expr.png\" style=\"display:inline;vertical-align:middle;\" /></a></td></tr>\n",
       "<tr><td>9</td><td>Lambda</td><td>parameter:&nbsp;15<br>body:&nbsp;12<br></td><td><a class=\"ProveItLink\" href=\"../../../../../../core_expr_types/__pv_it/common/e08e262466b41e7598f97cdb55a26332c5faba8e0/expr.ipynb\"><img src=\"../../../../../../core_expr_types/__pv_it/common/e08e262466b41e7598f97cdb55a26332c5faba8e0/expr.png\" style=\"display:inline;vertical-align:middle;\" /></a></td></tr>\n",
       "<tr><td>10</td><td>Literal</td><td></td><td><a class=\"ProveItLink\" href=\"../../../../../../numbers/numerals/__pv_it/common/d278e359da0695d9652dd541d45264f93703e2e40/expr.ipynb\"><img src=\"../../../../../../numbers/numerals/__pv_it/common/d278e359da0695d9652dd541d45264f93703e2e40/expr.png\" style=\"display:inline;vertical-align:middle;\" /></a></td></tr>\n",
       "<tr><td>11</td><td>Variable</td><td></td><td><a class=\"ProveItLink\" href=\"../../../../../../__pv_it/common/6165c9bb82ce3c7097cdba4440a1aeeb6eaca8a40/expr.ipynb\"><img src=\"../../../../../../__pv_it/common/6165c9bb82ce3c7097cdba4440a1aeeb6eaca8a40/expr.png\" style=\"display:inline;vertical-align:middle;\" /></a></td></tr>\n",
       "<tr><td>12</td><td>IndexedVar</td><td>variable:&nbsp;13<br>index:&nbsp;15<br></td><td><a class=\"ProveItLink\" href=\"../../../../../../core_expr_types/__pv_it/common/a42df9171a9855754d7a81fdb4ff859657be7a380/expr.ipynb\"><img src=\"../../../../../../core_expr_types/__pv_it/common/a42df9171a9855754d7a81fdb4ff859657be7a380/expr.png\" style=\"display:inline;vertical-align:middle;\" /></a></td></tr>\n",
       "<tr><td>13</td><td>Variable</td><td></td><td><a class=\"ProveItLink\" href=\"../../../../../../__pv_it/common/fab62f2bacea351a074e2d41fad4d8b09cef5e740/expr.ipynb\"><img src=\"../../../../../../__pv_it/common/fab62f2bacea351a074e2d41fad4d8b09cef5e740/expr.png\" style=\"display:inline;vertical-align:middle;\" /></a></td></tr>\n",
       "<tr><td>14</td><td>ExprTuple</td><td>15</td><td><a class=\"ProveItLink\" href=\"../../../../../../core_expr_types/__pv_it/common/ecf50ade416ab41c42c9f4e777b4c862cd9469670/expr.ipynb\"><img src=\"../../../../../../core_expr_types/__pv_it/common/ecf50ade416ab41c42c9f4e777b4c862cd9469670/expr.png\" style=\"display:inline;vertical-align:middle;\" /></a></td></tr>\n",
       "<tr><td>15</td><td>Variable</td><td></td><td><a class=\"ProveItLink\" href=\"../../../../../../core_expr_types/__pv_it/common/9e6d9d5d7eeb0342cf5bca68def0eb165a1a9bb10/expr.ipynb\"><img src=\"../../../../../../core_expr_types/__pv_it/common/9e6d9d5d7eeb0342cf5bca68def0eb165a1a9bb10/expr.png\" style=\"display:inline;vertical-align:middle;\" /></a></td></tr>\n",
       "</table>\n"
      ],
      "text/plain": [
       "0. ((z_{1}, ..z_{_a}.., z_{n}) -> {R(z_{1}, ..z_{_a}.., z_{n}) if Q(z_{1}, ..z_{_a}.., z_{n}).)\n",
       "   core type: ExprTuple\n",
       "   sub-expressions: 1\n",
       "1. (z_{1}, ..z_{_a}.., z_{n}) -> {R(z_{1}, ..z_{_a}.., z_{n}) if Q(z_{1}, ..z_{_a}.., z_{n}).\n",
       "   core type: Lambda\n",
       "   parameters: 7\\n   body: 2\n",
       "2. {R(z_{1}, ..z_{_a}.., z_{n}) if Q(z_{1}, ..z_{_a}.., z_{n}).\n",
       "   core type: Conditional\n",
       "   value: 3\n",
       "   condition: 4\n",
       "3. R(z_{1}, ..z_{_a}.., z_{n})\n",
       "   core type: Operation\n",
       "   operator: 5\n",
       "   operands: 7\n",
       "4. Q(z_{1}, ..z_{_a}.., z_{n})\n",
       "   core type: Operation\n",
       "   operator: 6\n",
       "   operands: 7\n",
       "5. R\n",
       "   core type: Variable\n",
       "   sub-expressions: \n",
       "6. Q\n",
       "   core type: Variable\n",
       "   sub-expressions: \n",
       "7. (z_{1}, ..z_{_a}.., z_{n})\n",
       "   core type: ExprTuple\n",
       "   sub-expressions: 8\n",
       "8. z_{1}, ..z_{_a}.., z_{n}\n",
       "   core type: ExprRange\n",
       "   lambda_map: 9\n",
       "   start_index: 10\n",
       "   end_index: 11\n",
       "9. _a -> z_{_a}\n",
       "   core type: Lambda\n",
       "   parameter: 15\n",
       "   body: 12\n",
       "10. 1\n",
       "    core type: Literal\n",
       "    sub-expressions: \n",
       "11. n\n",
       "    core type: Variable\n",
       "    sub-expressions: \n",
       "12. z_{_a}\n",
       "    core type: IndexedVar\n",
       "variable: 13\n",
       "index: 15\n",
       "13. z\n",
       "    core type: Variable\n",
       "    sub-expressions: \n",
       "14. (_a)\n",
       "    core type: ExprTuple\n",
       "    sub-expressions: 15\n",
       "15. _a\n",
       "    core type: Variable\n",
       "    sub-expressions: "
      ]
     },
     "execution_count": 6,
     "metadata": {},
     "output_type": "execute_result"
    }
   ],
   "source": [
    "# display the expression information\n",
    "expr.expr_info()"
   ]
  },
  {
   "cell_type": "code",
   "execution_count": null,
   "metadata": {},
   "outputs": [],
   "source": []
  }
 ],
 "metadata": {
  "kernelspec": {
   "display_name": "Python 3",
   "language": "python",
   "name": "python3"
  }
 },
 "nbformat": 4,
 "nbformat_minor": 0
}