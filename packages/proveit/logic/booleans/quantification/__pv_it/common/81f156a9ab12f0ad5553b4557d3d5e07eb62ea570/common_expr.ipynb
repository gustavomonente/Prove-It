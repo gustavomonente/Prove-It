{
 "cells": [
  {
   "cell_type": "markdown",
   "metadata": {},
   "source": [
    "Common <a class=\"ProveItLink\" href=\"../../../_common_.ipynb#general_exists_in_A_Px\">general_exists_in_A_Px</a> of type <a class=\"ProveItLink\" href=\"../../../../../../../../doc/html/api/proveit.logic.Exists.html\">Exists</a>\n",
    "=======================\n",
    "# from the theory of <a class=\"ProveItLink\" href=\"../../../_theory_nbs_/theory.ipynb\">proveit.logic.booleans.quantification</a>"
   ]
  },
  {
   "cell_type": "code",
   "execution_count": 1,
   "metadata": {},
   "outputs": [],
   "source": [
    "import proveit\n",
    "# Automation is not needed when only building an expression:\n",
    "proveit.defaults.automation = False # This will speed things up.\n",
    "proveit.defaults.inline_pngs = False # Makes files smaller.\n",
    "%load_expr # Load the stored expression as 'stored_expr'\n",
    "# import the special expression\n",
    "from proveit.logic.booleans.quantification import general_exists_in_A_Px"
   ]
  },
  {
   "cell_type": "code",
   "execution_count": 2,
   "metadata": {},
   "outputs": [
    {
     "name": "stdout",
     "output_type": "stream",
     "text": [
      "Passed sanity check: general_exists_in_A_Px matches stored_expr\n"
     ]
    }
   ],
   "source": [
    "# check that the built expression is the same as the stored expression\n",
    "assert general_exists_in_A_Px == stored_expr\n",
    "assert general_exists_in_A_Px._style_id == stored_expr._style_id\n",
    "print(\"Passed sanity check: general_exists_in_A_Px matches stored_expr\")"
   ]
  },
  {
   "cell_type": "code",
   "execution_count": 3,
   "metadata": {},
   "outputs": [
    {
     "name": "stdout",
     "output_type": "stream",
     "text": [
      "\\exists_{x_{1}, \\ldots, x_{n} \\in A}~P(x_{1}, \\ldots, x_{n})\n"
     ]
    }
   ],
   "source": [
    "# Show the LaTeX representation of the expression for convenience if you need it.\n",
    "print(general_exists_in_A_Px.latex())"
   ]
  },
  {
   "cell_type": "code",
   "execution_count": 4,
   "metadata": {},
   "outputs": [
    {
     "data": {
      "text/html": [
       "<table><tr><th>&nbsp;</th><th>core type</th><th>sub-expressions</th><th>expression</th></tr>\n",
       "<tr><td>0</td><td>Operation</td><td>operator:&nbsp;1<br>operand:&nbsp;2<br></td><td><a class=\"ProveItLink\" href=\"expr.ipynb\"><img src=\"expr.png\" style=\"display:inline;vertical-align:middle;\" /></a></td></tr>\n",
       "<tr><td>1</td><td>Literal</td><td></td><td><a class=\"ProveItLink\" href=\"../../../existence/__pv_it/common/fedc3809ed9823aab11264c156786a59540352e70/expr.ipynb\"><img src=\"../../../existence/__pv_it/common/fedc3809ed9823aab11264c156786a59540352e70/expr.png\" style=\"display:inline;vertical-align:middle;\" /></a></td></tr>\n",
       "<tr><td>2</td><td>Lambda</td><td>parameters:&nbsp;7<br>body:&nbsp;3<br></td><td><a class=\"ProveItLink\" href=\"../b48a595d6bc0d2efd487a5b9186fe296176233b00/expr.ipynb\"><img src=\"../b48a595d6bc0d2efd487a5b9186fe296176233b00/expr.png\" style=\"display:inline;vertical-align:middle;\" /></a></td></tr>\n",
       "<tr><td>3</td><td>Conditional</td><td>value:&nbsp;4<br>condition:&nbsp;5<br></td><td><a class=\"ProveItLink\" href=\"../b0c1fb8a15ceb3995f0d1c568be42a126120a7040/expr.ipynb\"><img src=\"../b0c1fb8a15ceb3995f0d1c568be42a126120a7040/expr.png\" style=\"display:inline;vertical-align:middle;\" /></a></td></tr>\n",
       "<tr><td>4</td><td>Operation</td><td>operator:&nbsp;6<br>operands:&nbsp;7<br></td><td><a class=\"ProveItLink\" href=\"../../../../../../core_expr_types/__pv_it/common/7fe1cafd85086b369e0eb3fc99bdc80bc0cc23a20/expr.ipynb\"><img src=\"../../../../../../core_expr_types/__pv_it/common/7fe1cafd85086b369e0eb3fc99bdc80bc0cc23a20/expr.png\" style=\"display:inline;vertical-align:middle;\" /></a></td></tr>\n",
       "<tr><td>5</td><td>Operation</td><td>operator:&nbsp;8<br>operands:&nbsp;9<br></td><td><a class=\"ProveItLink\" href=\"../9d507297d0cb869d86ec34b0abd1be82504cf4bf0/expr.ipynb\"><img src=\"../9d507297d0cb869d86ec34b0abd1be82504cf4bf0/expr.png\" style=\"display:inline;vertical-align:middle;\" /></a></td></tr>\n",
       "<tr><td>6</td><td>Variable</td><td></td><td><a class=\"ProveItLink\" href=\"../../../../../../__pv_it/common/de55da274ba0f49c86925fbf3828021c04d27faf0/expr.ipynb\"><img src=\"../../../../../../__pv_it/common/de55da274ba0f49c86925fbf3828021c04d27faf0/expr.png\" style=\"display:inline;vertical-align:middle;\" /></a></td></tr>\n",
       "<tr><td>7</td><td>ExprTuple</td><td>10</td><td><a class=\"ProveItLink\" href=\"../../../../../../core_expr_types/__pv_it/common/bc5a51653f81549e556d6290bca69fc284f6a01a0/expr.ipynb\"><img src=\"../../../../../../core_expr_types/__pv_it/common/bc5a51653f81549e556d6290bca69fc284f6a01a0/expr.png\" style=\"display:inline;vertical-align:middle;\" /></a></td></tr>\n",
       "<tr><td>8</td><td>Literal</td><td></td><td><a class=\"ProveItLink\" href=\"../../../../conjunction/__pv_it/common/42118ff318bd65d98b1393f64ce7c2269feef76e0/expr.ipynb\"><img src=\"../../../../conjunction/__pv_it/common/42118ff318bd65d98b1393f64ce7c2269feef76e0/expr.png\" style=\"display:inline;vertical-align:middle;\" /></a></td></tr>\n",
       "<tr><td>9</td><td>ExprTuple</td><td>11</td><td><a class=\"ProveItLink\" href=\"../47f58aa86cfbfebf20d73e57db30b0400a861fbe0/expr.ipynb\"><img src=\"../47f58aa86cfbfebf20d73e57db30b0400a861fbe0/expr.png\" style=\"display:inline;vertical-align:middle;\" /></a></td></tr>\n",
       "<tr><td>10</td><td>ExprRange</td><td>lambda_map:&nbsp;12<br>start_index:&nbsp;14<br>end_index:&nbsp;15<br></td><td><a class=\"ProveItLink\" href=\"../../../../../../core_expr_types/__pv_it/common/450167a24f71fe5474c458dd6e7d0df5b127faa80/expr.ipynb\"><img src=\"../../../../../../core_expr_types/__pv_it/common/450167a24f71fe5474c458dd6e7d0df5b127faa80/expr.png\" style=\"display:inline;vertical-align:middle;\" /></a></td></tr>\n",
       "<tr><td>11</td><td>ExprRange</td><td>lambda_map:&nbsp;13<br>start_index:&nbsp;14<br>end_index:&nbsp;15<br></td><td><a class=\"ProveItLink\" href=\"../6bee7b9bdd2db5e210f29537b1f2099156efb90c0/expr.ipynb\"><img src=\"../6bee7b9bdd2db5e210f29537b1f2099156efb90c0/expr.png\" style=\"display:inline;vertical-align:middle;\" /></a></td></tr>\n",
       "<tr><td>12</td><td>Lambda</td><td>parameter:&nbsp;22<br>body:&nbsp;19<br></td><td><a class=\"ProveItLink\" href=\"../../../../../../core_expr_types/__pv_it/common/3d60e3d4d9f83b7d879c0d18fec5b16b4aa6e4690/expr.ipynb\"><img src=\"../../../../../../core_expr_types/__pv_it/common/3d60e3d4d9f83b7d879c0d18fec5b16b4aa6e4690/expr.png\" style=\"display:inline;vertical-align:middle;\" /></a></td></tr>\n",
       "<tr><td>13</td><td>Lambda</td><td>parameter:&nbsp;22<br>body:&nbsp;16<br></td><td><a class=\"ProveItLink\" href=\"../52ff4f475cf518461d9ce18fbb729001c9d76d710/expr.ipynb\"><img src=\"../52ff4f475cf518461d9ce18fbb729001c9d76d710/expr.png\" style=\"display:inline;vertical-align:middle;\" /></a></td></tr>\n",
       "<tr><td>14</td><td>Literal</td><td></td><td><a class=\"ProveItLink\" href=\"../../../../../../numbers/numerals/__pv_it/common/2778428c7f555b2bdc06aa0530bc142c6e6335100/expr.ipynb\"><img src=\"../../../../../../numbers/numerals/__pv_it/common/2778428c7f555b2bdc06aa0530bc142c6e6335100/expr.png\" style=\"display:inline;vertical-align:middle;\" /></a></td></tr>\n",
       "<tr><td>15</td><td>Variable</td><td></td><td><a class=\"ProveItLink\" href=\"../../../../../../__pv_it/common/8968bb04eb3f7dfa02353397ce929b025bbd79c20/expr.ipynb\"><img src=\"../../../../../../__pv_it/common/8968bb04eb3f7dfa02353397ce929b025bbd79c20/expr.png\" style=\"display:inline;vertical-align:middle;\" /></a></td></tr>\n",
       "<tr><td>16</td><td>Operation</td><td>operator:&nbsp;17<br>operands:&nbsp;18<br></td><td><a class=\"ProveItLink\" href=\"../e939c4229292324b6e09bac0227942c9115f33520/expr.ipynb\"><img src=\"../e939c4229292324b6e09bac0227942c9115f33520/expr.png\" style=\"display:inline;vertical-align:middle;\" /></a></td></tr>\n",
       "<tr><td>17</td><td>Literal</td><td></td><td><a class=\"ProveItLink\" href=\"../../../../../sets/membership/__pv_it/common/477487d8796864d23d5810f83761435f25167f690/expr.ipynb\"><img src=\"../../../../../sets/membership/__pv_it/common/477487d8796864d23d5810f83761435f25167f690/expr.png\" style=\"display:inline;vertical-align:middle;\" /></a></td></tr>\n",
       "<tr><td>18</td><td>ExprTuple</td><td>19, 20</td><td><a class=\"ProveItLink\" href=\"../f799df77ac57fa3d9817fdab277d8fc4f83b9ec40/expr.ipynb\"><img src=\"../f799df77ac57fa3d9817fdab277d8fc4f83b9ec40/expr.png\" style=\"display:inline;vertical-align:middle;\" /></a></td></tr>\n",
       "<tr><td>19</td><td>IndexedVar</td><td>variable:&nbsp;21<br>index:&nbsp;22<br></td><td><a class=\"ProveItLink\" href=\"../../../../../../core_expr_types/__pv_it/common/257cd3299a4ed17f19c9fc89f960a93cbda02b550/expr.ipynb\"><img src=\"../../../../../../core_expr_types/__pv_it/common/257cd3299a4ed17f19c9fc89f960a93cbda02b550/expr.png\" style=\"display:inline;vertical-align:middle;\" /></a></td></tr>\n",
       "<tr><td>20</td><td>Variable</td><td></td><td><a class=\"ProveItLink\" href=\"../../../../../../__pv_it/common/09585084922504426caf1db2ff588a23a0932a960/expr.ipynb\"><img src=\"../../../../../../__pv_it/common/09585084922504426caf1db2ff588a23a0932a960/expr.png\" style=\"display:inline;vertical-align:middle;\" /></a></td></tr>\n",
       "<tr><td>21</td><td>Variable</td><td></td><td><a class=\"ProveItLink\" href=\"../../../../../../__pv_it/common/a0d9d672aa5e272d907247690c152cc2c6daafb70/expr.ipynb\"><img src=\"../../../../../../__pv_it/common/a0d9d672aa5e272d907247690c152cc2c6daafb70/expr.png\" style=\"display:inline;vertical-align:middle;\" /></a></td></tr>\n",
       "<tr><td>22</td><td>Variable</td><td></td><td><a class=\"ProveItLink\" href=\"../../../../../../core_expr_types/__pv_it/common/006c465e50948aa2b52285e2de47974f741255cc0/expr.ipynb\"><img src=\"../../../../../../core_expr_types/__pv_it/common/006c465e50948aa2b52285e2de47974f741255cc0/expr.png\" style=\"display:inline;vertical-align:middle;\" /></a></td></tr>\n",
       "</table>\n"
      ],
      "text/plain": [
       "0. exists_{x_{1}, ..x_{_a}.., x_{n} in A} P(x_{1}, ..x_{_a}.., x_{n})\n",
       "   core type: Operation\n",
       "   operator: 1\n",
       "   operand: 2\n",
       "1. exists\n",
       "   core type: Literal\n",
       "   sub-expressions: \n",
       "2. (x_{1}, ..x_{_a}.., x_{n}) -> {P(x_{1}, ..x_{_a}.., x_{n}) if (x_{1} in A) and ..(x_{_a} in A).. and (x_{n} in A).\n",
       "   core type: Lambda\n",
       "   parameters: 7\\n   body: 3\n",
       "3. {P(x_{1}, ..x_{_a}.., x_{n}) if (x_{1} in A) and ..(x_{_a} in A).. and (x_{n} in A).\n",
       "   core type: Conditional\n",
       "   value: 4\n",
       "   condition: 5\n",
       "4. P(x_{1}, ..x_{_a}.., x_{n})\n",
       "   core type: Operation\n",
       "   operator: 6\n",
       "   operands: 7\n",
       "5. (x_{1} in A) and ..(x_{_a} in A).. and (x_{n} in A)\n",
       "   core type: Operation\n",
       "   operator: 8\n",
       "   operands: 9\n",
       "6. P\n",
       "   core type: Variable\n",
       "   sub-expressions: \n",
       "7. (x_{1}, ..x_{_a}.., x_{n})\n",
       "   core type: ExprTuple\n",
       "   sub-expressions: 10\n",
       "8. and\n",
       "   core type: Literal\n",
       "   sub-expressions: \n",
       "9. (x_{1} in A, ..x_{_a} in A.., x_{n} in A)\n",
       "   core type: ExprTuple\n",
       "   sub-expressions: 11\n",
       "10. x_{1}, ..x_{_a}.., x_{n}\n",
       "    core type: ExprRange\n",
       "    lambda_map: 12\n",
       "    start_index: 14\n",
       "    end_index: 15\n",
       "11. (x_{1} in A), ..(x_{_a} in A).., (x_{n} in A)\n",
       "    core type: ExprRange\n",
       "    lambda_map: 13\n",
       "    start_index: 14\n",
       "    end_index: 15\n",
       "12. _a -> x_{_a}\n",
       "    core type: Lambda\n",
       "    parameter: 22\n",
       "    body: 19\n",
       "13. _a -> (x_{_a} in A)\n",
       "    core type: Lambda\n",
       "    parameter: 22\n",
       "    body: 16\n",
       "14. 1\n",
       "    core type: Literal\n",
       "    sub-expressions: \n",
       "15. n\n",
       "    core type: Variable\n",
       "    sub-expressions: \n",
       "16. x_{_a} in A\n",
       "    core type: Operation\n",
       "    operator: 17\n",
       "    operands: 18\n",
       "17. in\n",
       "    core type: Literal\n",
       "    sub-expressions: \n",
       "18. (x_{_a}, A)\n",
       "    core type: ExprTuple\n",
       "    sub-expressions: 19, 20\n",
       "19. x_{_a}\n",
       "    core type: IndexedVar\n",
       "variable: 21\n",
       "index: 22\n",
       "20. A\n",
       "    core type: Variable\n",
       "    sub-expressions: \n",
       "21. x\n",
       "    core type: Variable\n",
       "    sub-expressions: \n",
       "22. _a\n",
       "    core type: Variable\n",
       "    sub-expressions: "
      ]
     },
     "execution_count": 4,
     "metadata": {},
     "output_type": "execute_result"
    }
   ],
   "source": [
    "# display the expression information\n",
    "general_exists_in_A_Px.expr_info()"
   ]
  },
  {
   "cell_type": "code",
   "execution_count": null,
   "metadata": {},
   "outputs": [],
   "source": []
  }
 ],
 "metadata": {
  "kernelspec": {
   "display_name": "Python 3",
   "language": "python",
   "name": "python3"
  }
 },
 "nbformat": 4,
 "nbformat_minor": 0
}