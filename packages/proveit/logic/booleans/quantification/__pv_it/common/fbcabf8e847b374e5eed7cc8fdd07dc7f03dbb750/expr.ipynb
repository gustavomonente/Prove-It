{
 "cells": [
  {
   "cell_type": "markdown",
   "metadata": {},
   "source": [
    "Expression of type <a class=\"ProveItLink\" href=\"../../../../../../../../doc/html/api/proveit.logic.Exists.html\">Exists</a>\n",
    "=======================\n",
    "# from the theory of <a class=\"ProveItLink\" href=\"../../../_theory_nbs_/theory.ipynb\">proveit.logic.booleans.quantification</a>"
   ]
  },
  {
   "cell_type": "code",
   "execution_count": 1,
   "metadata": {},
   "outputs": [],
   "source": [
    "import proveit\n",
    "# Automation is not needed when building an expression:\n",
    "proveit.defaults.automation = False # This will speed things up.\n",
    "proveit.defaults.inline_pngs = False # Makes files smaller.\n",
    "%load_expr # Load the stored expression as 'stored_expr'\n",
    "# import Expression classes needed to build the expression\n",
    "from proveit import B\n",
    "from proveit.core_expr_types import P__y_1_to_n, y_1_to_n\n",
    "from proveit.logic import Exists"
   ]
  },
  {
   "cell_type": "code",
   "execution_count": 2,
   "metadata": {},
   "outputs": [
    {
     "data": {
      "text/html": [
       "<strong id=\"expr\">expr:</strong> <a class=\"ProveItLink\" href=\"expr.ipynb\"><img src=\"expr.png\" style=\"display:inline;vertical-align:middle;\" /></a><br>"
      ],
      "text/plain": [
       "expr: exists_{y_{1}, ..y_{_a}.., y_{n} in B} P(y_{1}, ..y_{_a}.., y_{n})"
      ]
     },
     "execution_count": 2,
     "metadata": {},
     "output_type": "execute_result"
    }
   ],
   "source": [
    "# build up the expression from sub-expressions\n",
    "expr = Exists([y_1_to_n], P__y_1_to_n, domains = [B])"
   ]
  },
  {
   "cell_type": "code",
   "execution_count": 3,
   "metadata": {},
   "outputs": [
    {
     "name": "stdout",
     "output_type": "stream",
     "text": [
      "Passed sanity check: expr matches stored_expr\n"
     ]
    }
   ],
   "source": [
    "# check that the built expression is the same as the stored expression\n",
    "assert expr == stored_expr\n",
    "assert expr._style_id == stored_expr._style_id\n",
    "print(\"Passed sanity check: expr matches stored_expr\")"
   ]
  },
  {
   "cell_type": "code",
   "execution_count": 4,
   "metadata": {},
   "outputs": [
    {
     "name": "stdout",
     "output_type": "stream",
     "text": [
      "\\exists_{y_{1}, \\ldots, y_{n} \\in B}~P(y_{1}, \\ldots, y_{n})\n"
     ]
    }
   ],
   "source": [
    "# Show the LaTeX representation of the expression for convenience if you need it.\n",
    "print(expr.latex())"
   ]
  },
  {
   "cell_type": "code",
   "execution_count": 5,
   "metadata": {},
   "outputs": [
    {
     "data": {
      "text/html": [
       "<table><tr><th>&nbsp;</th><th>core type</th><th>sub-expressions</th><th>expression</th></tr>\n",
       "<tr><td>0</td><td>Operation</td><td>operator:&nbsp;1<br>operand:&nbsp;2<br></td><td><a class=\"ProveItLink\" href=\"expr.ipynb\"><img src=\"expr.png\" style=\"display:inline;vertical-align:middle;\" /></a></td></tr>\n",
       "<tr><td>1</td><td>Literal</td><td></td><td><a class=\"ProveItLink\" href=\"../../../existence/__pv_it/common/fedc3809ed9823aab11264c156786a59540352e70/expr.ipynb\"><img src=\"../../../existence/__pv_it/common/fedc3809ed9823aab11264c156786a59540352e70/expr.png\" style=\"display:inline;vertical-align:middle;\" /></a></td></tr>\n",
       "<tr><td>2</td><td>Lambda</td><td>parameters:&nbsp;7<br>body:&nbsp;3<br></td><td><a class=\"ProveItLink\" href=\"../67e91c99b91dbc877b6f00e1596498cf43266eb30/expr.ipynb\"><img src=\"../67e91c99b91dbc877b6f00e1596498cf43266eb30/expr.png\" style=\"display:inline;vertical-align:middle;\" /></a></td></tr>\n",
       "<tr><td>3</td><td>Conditional</td><td>value:&nbsp;4<br>condition:&nbsp;5<br></td><td><a class=\"ProveItLink\" href=\"../d2070e4cb3f3a564deb0eb4ecb0c660816b366820/expr.ipynb\"><img src=\"../d2070e4cb3f3a564deb0eb4ecb0c660816b366820/expr.png\" style=\"display:inline;vertical-align:middle;\" /></a></td></tr>\n",
       "<tr><td>4</td><td>Operation</td><td>operator:&nbsp;6<br>operands:&nbsp;7<br></td><td><a class=\"ProveItLink\" href=\"../../../../../../core_expr_types/__pv_it/common/bfbf03bdc458628005bdae805200d6ed0937b9a20/expr.ipynb\"><img src=\"../../../../../../core_expr_types/__pv_it/common/bfbf03bdc458628005bdae805200d6ed0937b9a20/expr.png\" style=\"display:inline;vertical-align:middle;\" /></a></td></tr>\n",
       "<tr><td>5</td><td>Operation</td><td>operator:&nbsp;8<br>operands:&nbsp;9<br></td><td><a class=\"ProveItLink\" href=\"../2bc2cb44aba7e41022cb55dc783231ad133bd9a00/expr.ipynb\"><img src=\"../2bc2cb44aba7e41022cb55dc783231ad133bd9a00/expr.png\" style=\"display:inline;vertical-align:middle;\" /></a></td></tr>\n",
       "<tr><td>6</td><td>Variable</td><td></td><td><a class=\"ProveItLink\" href=\"../../../../../../__pv_it/common/de55da274ba0f49c86925fbf3828021c04d27faf0/expr.ipynb\"><img src=\"../../../../../../__pv_it/common/de55da274ba0f49c86925fbf3828021c04d27faf0/expr.png\" style=\"display:inline;vertical-align:middle;\" /></a></td></tr>\n",
       "<tr><td>7</td><td>ExprTuple</td><td>10</td><td><a class=\"ProveItLink\" href=\"../../../../../../core_expr_types/__pv_it/common/7825d99ba871f39ec9e174832f4965ad6a4a6c920/expr.ipynb\"><img src=\"../../../../../../core_expr_types/__pv_it/common/7825d99ba871f39ec9e174832f4965ad6a4a6c920/expr.png\" style=\"display:inline;vertical-align:middle;\" /></a></td></tr>\n",
       "<tr><td>8</td><td>Literal</td><td></td><td><a class=\"ProveItLink\" href=\"../../../../conjunction/__pv_it/common/42118ff318bd65d98b1393f64ce7c2269feef76e0/expr.ipynb\"><img src=\"../../../../conjunction/__pv_it/common/42118ff318bd65d98b1393f64ce7c2269feef76e0/expr.png\" style=\"display:inline;vertical-align:middle;\" /></a></td></tr>\n",
       "<tr><td>9</td><td>ExprTuple</td><td>11</td><td><a class=\"ProveItLink\" href=\"../cf96c3ade25cef0f80da24bafc83e73f4401b89f0/expr.ipynb\"><img src=\"../cf96c3ade25cef0f80da24bafc83e73f4401b89f0/expr.png\" style=\"display:inline;vertical-align:middle;\" /></a></td></tr>\n",
       "<tr><td>10</td><td>ExprRange</td><td>lambda_map:&nbsp;12<br>start_index:&nbsp;14<br>end_index:&nbsp;15<br></td><td><a class=\"ProveItLink\" href=\"../../../../../../core_expr_types/__pv_it/common/83815096a81411f4169bd53199aa8541663848780/expr.ipynb\"><img src=\"../../../../../../core_expr_types/__pv_it/common/83815096a81411f4169bd53199aa8541663848780/expr.png\" style=\"display:inline;vertical-align:middle;\" /></a></td></tr>\n",
       "<tr><td>11</td><td>ExprRange</td><td>lambda_map:&nbsp;13<br>start_index:&nbsp;14<br>end_index:&nbsp;15<br></td><td><a class=\"ProveItLink\" href=\"../2e894b1fd42abfcd43e7c7686b0a879dd3728c150/expr.ipynb\"><img src=\"../2e894b1fd42abfcd43e7c7686b0a879dd3728c150/expr.png\" style=\"display:inline;vertical-align:middle;\" /></a></td></tr>\n",
       "<tr><td>12</td><td>Lambda</td><td>parameter:&nbsp;22<br>body:&nbsp;19<br></td><td><a class=\"ProveItLink\" href=\"../../../../../../core_expr_types/__pv_it/common/e78a05a30384462aa15ec8190735b4d58ac945690/expr.ipynb\"><img src=\"../../../../../../core_expr_types/__pv_it/common/e78a05a30384462aa15ec8190735b4d58ac945690/expr.png\" style=\"display:inline;vertical-align:middle;\" /></a></td></tr>\n",
       "<tr><td>13</td><td>Lambda</td><td>parameter:&nbsp;22<br>body:&nbsp;16<br></td><td><a class=\"ProveItLink\" href=\"../8631030a0ac450ff07f8961e3166041310d539950/expr.ipynb\"><img src=\"../8631030a0ac450ff07f8961e3166041310d539950/expr.png\" style=\"display:inline;vertical-align:middle;\" /></a></td></tr>\n",
       "<tr><td>14</td><td>Literal</td><td></td><td><a class=\"ProveItLink\" href=\"../../../../../../numbers/numerals/__pv_it/common/2778428c7f555b2bdc06aa0530bc142c6e6335100/expr.ipynb\"><img src=\"../../../../../../numbers/numerals/__pv_it/common/2778428c7f555b2bdc06aa0530bc142c6e6335100/expr.png\" style=\"display:inline;vertical-align:middle;\" /></a></td></tr>\n",
       "<tr><td>15</td><td>Variable</td><td></td><td><a class=\"ProveItLink\" href=\"../../../../../../__pv_it/common/8968bb04eb3f7dfa02353397ce929b025bbd79c20/expr.ipynb\"><img src=\"../../../../../../__pv_it/common/8968bb04eb3f7dfa02353397ce929b025bbd79c20/expr.png\" style=\"display:inline;vertical-align:middle;\" /></a></td></tr>\n",
       "<tr><td>16</td><td>Operation</td><td>operator:&nbsp;17<br>operands:&nbsp;18<br></td><td><a class=\"ProveItLink\" href=\"../8460161aeee7c0d53a20e04619c37f12b867991b0/expr.ipynb\"><img src=\"../8460161aeee7c0d53a20e04619c37f12b867991b0/expr.png\" style=\"display:inline;vertical-align:middle;\" /></a></td></tr>\n",
       "<tr><td>17</td><td>Literal</td><td></td><td><a class=\"ProveItLink\" href=\"../../../../../sets/membership/__pv_it/common/477487d8796864d23d5810f83761435f25167f690/expr.ipynb\"><img src=\"../../../../../sets/membership/__pv_it/common/477487d8796864d23d5810f83761435f25167f690/expr.png\" style=\"display:inline;vertical-align:middle;\" /></a></td></tr>\n",
       "<tr><td>18</td><td>ExprTuple</td><td>19, 20</td><td><a class=\"ProveItLink\" href=\"../2e2a1f76da3681d2ff684dd4be36e23a75d2e83e0/expr.ipynb\"><img src=\"../2e2a1f76da3681d2ff684dd4be36e23a75d2e83e0/expr.png\" style=\"display:inline;vertical-align:middle;\" /></a></td></tr>\n",
       "<tr><td>19</td><td>IndexedVar</td><td>variable:&nbsp;21<br>index:&nbsp;22<br></td><td><a class=\"ProveItLink\" href=\"../../../../../../core_expr_types/__pv_it/common/bae00704f4077d282c1ca22cbc3aecae7393f3dc0/expr.ipynb\"><img src=\"../../../../../../core_expr_types/__pv_it/common/bae00704f4077d282c1ca22cbc3aecae7393f3dc0/expr.png\" style=\"display:inline;vertical-align:middle;\" /></a></td></tr>\n",
       "<tr><td>20</td><td>Variable</td><td></td><td><a class=\"ProveItLink\" href=\"../../../../../../__pv_it/common/a9162d1c3cc0470c02e5daf414500903a7a419230/expr.ipynb\"><img src=\"../../../../../../__pv_it/common/a9162d1c3cc0470c02e5daf414500903a7a419230/expr.png\" style=\"display:inline;vertical-align:middle;\" /></a></td></tr>\n",
       "<tr><td>21</td><td>Variable</td><td></td><td><a class=\"ProveItLink\" href=\"../../../../../../__pv_it/common/ff7dba4ef0bbe791ab573bf2d9c220a304399ac80/expr.ipynb\"><img src=\"../../../../../../__pv_it/common/ff7dba4ef0bbe791ab573bf2d9c220a304399ac80/expr.png\" style=\"display:inline;vertical-align:middle;\" /></a></td></tr>\n",
       "<tr><td>22</td><td>Variable</td><td></td><td><a class=\"ProveItLink\" href=\"../../../../../../core_expr_types/__pv_it/common/006c465e50948aa2b52285e2de47974f741255cc0/expr.ipynb\"><img src=\"../../../../../../core_expr_types/__pv_it/common/006c465e50948aa2b52285e2de47974f741255cc0/expr.png\" style=\"display:inline;vertical-align:middle;\" /></a></td></tr>\n",
       "</table>\n"
      ],
      "text/plain": [
       "0. exists_{y_{1}, ..y_{_a}.., y_{n} in B} P(y_{1}, ..y_{_a}.., y_{n})\n",
       "   core type: Operation\n",
       "   operator: 1\n",
       "   operand: 2\n",
       "1. exists\n",
       "   core type: Literal\n",
       "   sub-expressions: \n",
       "2. (y_{1}, ..y_{_a}.., y_{n}) -> {P(y_{1}, ..y_{_a}.., y_{n}) if (y_{1} in B) and ..(y_{_a} in B).. and (y_{n} in B).\n",
       "   core type: Lambda\n",
       "   parameters: 7\\n   body: 3\n",
       "3. {P(y_{1}, ..y_{_a}.., y_{n}) if (y_{1} in B) and ..(y_{_a} in B).. and (y_{n} in B).\n",
       "   core type: Conditional\n",
       "   value: 4\n",
       "   condition: 5\n",
       "4. P(y_{1}, ..y_{_a}.., y_{n})\n",
       "   core type: Operation\n",
       "   operator: 6\n",
       "   operands: 7\n",
       "5. (y_{1} in B) and ..(y_{_a} in B).. and (y_{n} in B)\n",
       "   core type: Operation\n",
       "   operator: 8\n",
       "   operands: 9\n",
       "6. P\n",
       "   core type: Variable\n",
       "   sub-expressions: \n",
       "7. (y_{1}, ..y_{_a}.., y_{n})\n",
       "   core type: ExprTuple\n",
       "   sub-expressions: 10\n",
       "8. and\n",
       "   core type: Literal\n",
       "   sub-expressions: \n",
       "9. (y_{1} in B, ..y_{_a} in B.., y_{n} in B)\n",
       "   core type: ExprTuple\n",
       "   sub-expressions: 11\n",
       "10. y_{1}, ..y_{_a}.., y_{n}\n",
       "    core type: ExprRange\n",
       "    lambda_map: 12\n",
       "    start_index: 14\n",
       "    end_index: 15\n",
       "11. (y_{1} in B), ..(y_{_a} in B).., (y_{n} in B)\n",
       "    core type: ExprRange\n",
       "    lambda_map: 13\n",
       "    start_index: 14\n",
       "    end_index: 15\n",
       "12. _a -> y_{_a}\n",
       "    core type: Lambda\n",
       "    parameter: 22\n",
       "    body: 19\n",
       "13. _a -> (y_{_a} in B)\n",
       "    core type: Lambda\n",
       "    parameter: 22\n",
       "    body: 16\n",
       "14. 1\n",
       "    core type: Literal\n",
       "    sub-expressions: \n",
       "15. n\n",
       "    core type: Variable\n",
       "    sub-expressions: \n",
       "16. y_{_a} in B\n",
       "    core type: Operation\n",
       "    operator: 17\n",
       "    operands: 18\n",
       "17. in\n",
       "    core type: Literal\n",
       "    sub-expressions: \n",
       "18. (y_{_a}, B)\n",
       "    core type: ExprTuple\n",
       "    sub-expressions: 19, 20\n",
       "19. y_{_a}\n",
       "    core type: IndexedVar\n",
       "variable: 21\n",
       "index: 22\n",
       "20. B\n",
       "    core type: Variable\n",
       "    sub-expressions: \n",
       "21. y\n",
       "    core type: Variable\n",
       "    sub-expressions: \n",
       "22. _a\n",
       "    core type: Variable\n",
       "    sub-expressions: "
      ]
     },
     "execution_count": 5,
     "metadata": {},
     "output_type": "execute_result"
    }
   ],
   "source": [
    "# display the expression information\n",
    "expr.expr_info()"
   ]
  },
  {
   "cell_type": "code",
   "execution_count": null,
   "metadata": {},
   "outputs": [],
   "source": []
  }
 ],
 "metadata": {
  "kernelspec": {
   "display_name": "Python 3",
   "language": "python",
   "name": "python3"
  }
 },
 "nbformat": 4,
 "nbformat_minor": 0
}