{
 "cells": [
  {
   "cell_type": "markdown",
   "metadata": {},
   "source": [
    "Expression of type <a class=\"ProveItLink\" href=\"../../../../../../../../doc/html/api/proveit.Lambda.html\">Lambda</a>\n",
    "=======================\n",
    "# from the theory of <a class=\"ProveItLink\" href=\"../../../_theory_nbs_/theory.ipynb\">proveit.logic.booleans.quantification</a>"
   ]
  },
  {
   "cell_type": "code",
   "execution_count": 1,
   "metadata": {},
   "outputs": [],
   "source": [
    "import proveit\n",
    "# Automation is not needed when building an expression:\n",
    "proveit.defaults.automation = False # This will speed things up.\n",
    "proveit.defaults.inline_pngs = False # Makes files smaller.\n",
    "%load_expr # Load the stored expression as 'stored_expr'\n",
    "# import Expression classes needed to build the expression\n",
    "from proveit import Conditional, Lambda\n",
    "from proveit.core_expr_types import P__y_1_to_n, Q__y_1_to_n, y_1_to_n\n",
    "from proveit.logic import NotEquals, TRUE"
   ]
  },
  {
   "cell_type": "code",
   "execution_count": 2,
   "metadata": {},
   "outputs": [
    {
     "data": {
      "text/html": [
       "<strong id=\"expr\">expr:</strong> <a class=\"ProveItLink\" href=\"expr.ipynb\"><img src=\"expr.png\" style=\"display:inline;vertical-align:middle;\" /></a><br>"
      ],
      "text/plain": [
       "expr: (y_{1}, ..y_{_a}.., y_{n}) -> {P(y_{1}, ..y_{_a}.., y_{n}) != TRUE if Q(y_{1}, ..y_{_a}.., y_{n})."
      ]
     },
     "execution_count": 2,
     "metadata": {},
     "output_type": "execute_result"
    }
   ],
   "source": [
    "# build up the expression from sub-expressions\n",
    "expr = Lambda([y_1_to_n], Conditional(NotEquals(P__y_1_to_n, TRUE), Q__y_1_to_n))"
   ]
  },
  {
   "cell_type": "code",
   "execution_count": 3,
   "metadata": {},
   "outputs": [
    {
     "name": "stdout",
     "output_type": "stream",
     "text": [
      "Passed sanity check: expr matches stored_expr\n"
     ]
    }
   ],
   "source": [
    "# check that the built expression is the same as the stored expression\n",
    "assert expr == stored_expr\n",
    "assert expr._style_id == stored_expr._style_id\n",
    "print(\"Passed sanity check: expr matches stored_expr\")"
   ]
  },
  {
   "cell_type": "code",
   "execution_count": 4,
   "metadata": {},
   "outputs": [
    {
     "name": "stdout",
     "output_type": "stream",
     "text": [
      "\\left(y_{1}, \\ldots, y_{n}\\right) \\mapsto \\left\\{P(y_{1}, \\ldots, y_{n}) \\neq \\top \\textrm{ if } Q(y_{1}, \\ldots, y_{n})\\right..\n"
     ]
    }
   ],
   "source": [
    "# Show the LaTeX representation of the expression for convenience if you need it.\n",
    "print(expr.latex())"
   ]
  },
  {
   "cell_type": "code",
   "execution_count": 5,
   "metadata": {},
   "outputs": [
    {
     "data": {
      "text/html": [
       "no style options"
      ],
      "text/plain": [
       "no style options"
      ]
     },
     "execution_count": 5,
     "metadata": {},
     "output_type": "execute_result"
    }
   ],
   "source": [
    "expr.style_options()"
   ]
  },
  {
   "cell_type": "code",
   "execution_count": 6,
   "metadata": {},
   "outputs": [
    {
     "data": {
      "text/html": [
       "<table><tr><th>&nbsp;</th><th>core type</th><th>sub-expressions</th><th>expression</th></tr>\n",
       "<tr><td>0</td><td>Lambda</td><td>parameters:&nbsp;10<br>body:&nbsp;1<br></td><td><a class=\"ProveItLink\" href=\"expr.ipynb\"><img src=\"expr.png\" style=\"display:inline;vertical-align:middle;\" /></a></td></tr>\n",
       "<tr><td>1</td><td>Conditional</td><td>value:&nbsp;2<br>condition:&nbsp;3<br></td><td><a class=\"ProveItLink\" href=\"../958d9499f4cc84a81dd319e58ff503a0d24b8a200/expr.ipynb\"><img src=\"../958d9499f4cc84a81dd319e58ff503a0d24b8a200/expr.png\" style=\"display:inline;vertical-align:middle;\" /></a></td></tr>\n",
       "<tr><td>2</td><td>Operation</td><td>operator:&nbsp;4<br>operands:&nbsp;5<br></td><td><a class=\"ProveItLink\" href=\"../4865d72f9663bdb3a2492cb19980b230258058da0/expr.ipynb\"><img src=\"../4865d72f9663bdb3a2492cb19980b230258058da0/expr.png\" style=\"display:inline;vertical-align:middle;\" /></a></td></tr>\n",
       "<tr><td>3</td><td>Operation</td><td>operator:&nbsp;6<br>operands:&nbsp;10<br></td><td><a class=\"ProveItLink\" href=\"../../../../../../core_expr_types/__pv_it/common/90c2130c86e621c95872d7ba9e877513c9092aaa0/expr.ipynb\"><img src=\"../../../../../../core_expr_types/__pv_it/common/90c2130c86e621c95872d7ba9e877513c9092aaa0/expr.png\" style=\"display:inline;vertical-align:middle;\" /></a></td></tr>\n",
       "<tr><td>4</td><td>Literal</td><td></td><td><a class=\"ProveItLink\" href=\"../../../../../equality/__pv_it/common/8dab0e450b6dad95cf65833220bcc832732dfd3c0/expr.ipynb\"><img src=\"../../../../../equality/__pv_it/common/8dab0e450b6dad95cf65833220bcc832732dfd3c0/expr.png\" style=\"display:inline;vertical-align:middle;\" /></a></td></tr>\n",
       "<tr><td>5</td><td>ExprTuple</td><td>7, 8</td><td><a class=\"ProveItLink\" href=\"../6e25297221c1fd2396b81b9f12a95a520d8c259e0/expr.ipynb\"><img src=\"../6e25297221c1fd2396b81b9f12a95a520d8c259e0/expr.png\" style=\"display:inline;vertical-align:middle;\" /></a></td></tr>\n",
       "<tr><td>6</td><td>Variable</td><td></td><td><a class=\"ProveItLink\" href=\"../../../../../../__pv_it/common/50527aea954422d65ebe44b8de200683294751540/expr.ipynb\"><img src=\"../../../../../../__pv_it/common/50527aea954422d65ebe44b8de200683294751540/expr.png\" style=\"display:inline;vertical-align:middle;\" /></a></td></tr>\n",
       "<tr><td>7</td><td>Operation</td><td>operator:&nbsp;9<br>operands:&nbsp;10<br></td><td><a class=\"ProveItLink\" href=\"../../../../../../core_expr_types/__pv_it/common/af270ca64e497eb0c8f455a2f361b435f6c5a88f0/expr.ipynb\"><img src=\"../../../../../../core_expr_types/__pv_it/common/af270ca64e497eb0c8f455a2f361b435f6c5a88f0/expr.png\" style=\"display:inline;vertical-align:middle;\" /></a></td></tr>\n",
       "<tr><td>8</td><td>Literal</td><td></td><td><a class=\"ProveItLink\" href=\"../../../../__pv_it/common/373f61d65f7ccc0f6ebbafaccf02f2693d0e3bad0/expr.ipynb\"><img src=\"../../../../__pv_it/common/373f61d65f7ccc0f6ebbafaccf02f2693d0e3bad0/expr.png\" style=\"display:inline;vertical-align:middle;\" /></a></td></tr>\n",
       "<tr><td>9</td><td>Variable</td><td></td><td><a class=\"ProveItLink\" href=\"../../../../../../__pv_it/common/d5fc3066299847984076662ce51556220bdb6cfb0/expr.ipynb\"><img src=\"../../../../../../__pv_it/common/d5fc3066299847984076662ce51556220bdb6cfb0/expr.png\" style=\"display:inline;vertical-align:middle;\" /></a></td></tr>\n",
       "<tr><td>10</td><td>ExprTuple</td><td>11</td><td><a class=\"ProveItLink\" href=\"../../../../../../core_expr_types/__pv_it/common/34a946761b1de134871ee6cbf0f53773974067990/expr.ipynb\"><img src=\"../../../../../../core_expr_types/__pv_it/common/34a946761b1de134871ee6cbf0f53773974067990/expr.png\" style=\"display:inline;vertical-align:middle;\" /></a></td></tr>\n",
       "<tr><td>11</td><td>ExprRange</td><td>lambda_map:&nbsp;12<br>start_index:&nbsp;13<br>end_index:&nbsp;14<br></td><td><a class=\"ProveItLink\" href=\"../../../../../../core_expr_types/__pv_it/common/d4ccfa4c92b5be548893c8e9f8a96b24fc2db46d0/expr.ipynb\"><img src=\"../../../../../../core_expr_types/__pv_it/common/d4ccfa4c92b5be548893c8e9f8a96b24fc2db46d0/expr.png\" style=\"display:inline;vertical-align:middle;\" /></a></td></tr>\n",
       "<tr><td>12</td><td>Lambda</td><td>parameter:&nbsp;18<br>body:&nbsp;15<br></td><td><a class=\"ProveItLink\" href=\"../../../../../../core_expr_types/__pv_it/common/e85c6dca3c2891a25500913ce6fa75404b16995d0/expr.ipynb\"><img src=\"../../../../../../core_expr_types/__pv_it/common/e85c6dca3c2891a25500913ce6fa75404b16995d0/expr.png\" style=\"display:inline;vertical-align:middle;\" /></a></td></tr>\n",
       "<tr><td>13</td><td>Literal</td><td></td><td><a class=\"ProveItLink\" href=\"../../../../../../numbers/numerals/__pv_it/common/d278e359da0695d9652dd541d45264f93703e2e40/expr.ipynb\"><img src=\"../../../../../../numbers/numerals/__pv_it/common/d278e359da0695d9652dd541d45264f93703e2e40/expr.png\" style=\"display:inline;vertical-align:middle;\" /></a></td></tr>\n",
       "<tr><td>14</td><td>Variable</td><td></td><td><a class=\"ProveItLink\" href=\"../../../../../../__pv_it/common/6165c9bb82ce3c7097cdba4440a1aeeb6eaca8a40/expr.ipynb\"><img src=\"../../../../../../__pv_it/common/6165c9bb82ce3c7097cdba4440a1aeeb6eaca8a40/expr.png\" style=\"display:inline;vertical-align:middle;\" /></a></td></tr>\n",
       "<tr><td>15</td><td>IndexedVar</td><td>variable:&nbsp;16<br>index:&nbsp;18<br></td><td><a class=\"ProveItLink\" href=\"../../../../../../core_expr_types/__pv_it/common/cfe245429f738680263dd9e15adfb363654edf9a0/expr.ipynb\"><img src=\"../../../../../../core_expr_types/__pv_it/common/cfe245429f738680263dd9e15adfb363654edf9a0/expr.png\" style=\"display:inline;vertical-align:middle;\" /></a></td></tr>\n",
       "<tr><td>16</td><td>Variable</td><td></td><td><a class=\"ProveItLink\" href=\"../../../../../../__pv_it/common/0f21cbfd5644a1cae6781c1d58354abc2ffbc9000/expr.ipynb\"><img src=\"../../../../../../__pv_it/common/0f21cbfd5644a1cae6781c1d58354abc2ffbc9000/expr.png\" style=\"display:inline;vertical-align:middle;\" /></a></td></tr>\n",
       "<tr><td>17</td><td>ExprTuple</td><td>18</td><td><a class=\"ProveItLink\" href=\"../../../../../../core_expr_types/__pv_it/common/ecf50ade416ab41c42c9f4e777b4c862cd9469670/expr.ipynb\"><img src=\"../../../../../../core_expr_types/__pv_it/common/ecf50ade416ab41c42c9f4e777b4c862cd9469670/expr.png\" style=\"display:inline;vertical-align:middle;\" /></a></td></tr>\n",
       "<tr><td>18</td><td>Variable</td><td></td><td><a class=\"ProveItLink\" href=\"../../../../../../core_expr_types/__pv_it/common/9e6d9d5d7eeb0342cf5bca68def0eb165a1a9bb10/expr.ipynb\"><img src=\"../../../../../../core_expr_types/__pv_it/common/9e6d9d5d7eeb0342cf5bca68def0eb165a1a9bb10/expr.png\" style=\"display:inline;vertical-align:middle;\" /></a></td></tr>\n",
       "</table>\n"
      ],
      "text/plain": [
       "0. (y_{1}, ..y_{_a}.., y_{n}) -> {P(y_{1}, ..y_{_a}.., y_{n}) != TRUE if Q(y_{1}, ..y_{_a}.., y_{n}).\n",
       "   core type: Lambda\n",
       "   parameters: 10\\n   body: 1\n",
       "1. {P(y_{1}, ..y_{_a}.., y_{n}) != TRUE if Q(y_{1}, ..y_{_a}.., y_{n}).\n",
       "   core type: Conditional\n",
       "   value: 2\n",
       "   condition: 3\n",
       "2. P(y_{1}, ..y_{_a}.., y_{n}) != TRUE\n",
       "   core type: Operation\n",
       "   operator: 4\n",
       "   operands: 5\n",
       "3. Q(y_{1}, ..y_{_a}.., y_{n})\n",
       "   core type: Operation\n",
       "   operator: 6\n",
       "   operands: 10\n",
       "4. !=\n",
       "   core type: Literal\n",
       "   sub-expressions: \n",
       "5. (P(y_{1}, ..y_{_a}.., y_{n}), TRUE)\n",
       "   core type: ExprTuple\n",
       "   sub-expressions: 7, 8\n",
       "6. Q\n",
       "   core type: Variable\n",
       "   sub-expressions: \n",
       "7. P(y_{1}, ..y_{_a}.., y_{n})\n",
       "   core type: Operation\n",
       "   operator: 9\n",
       "   operands: 10\n",
       "8. TRUE\n",
       "   core type: Literal\n",
       "   sub-expressions: \n",
       "9. P\n",
       "   core type: Variable\n",
       "   sub-expressions: \n",
       "10. (y_{1}, ..y_{_a}.., y_{n})\n",
       "    core type: ExprTuple\n",
       "    sub-expressions: 11\n",
       "11. y_{1}, ..y_{_a}.., y_{n}\n",
       "    core type: ExprRange\n",
       "    lambda_map: 12\n",
       "    start_index: 13\n",
       "    end_index: 14\n",
       "12. _a -> y_{_a}\n",
       "    core type: Lambda\n",
       "    parameter: 18\n",
       "    body: 15\n",
       "13. 1\n",
       "    core type: Literal\n",
       "    sub-expressions: \n",
       "14. n\n",
       "    core type: Variable\n",
       "    sub-expressions: \n",
       "15. y_{_a}\n",
       "    core type: IndexedVar\n",
       "variable: 16\n",
       "index: 18\n",
       "16. y\n",
       "    core type: Variable\n",
       "    sub-expressions: \n",
       "17. (_a)\n",
       "    core type: ExprTuple\n",
       "    sub-expressions: 18\n",
       "18. _a\n",
       "    core type: Variable\n",
       "    sub-expressions: "
      ]
     },
     "execution_count": 6,
     "metadata": {},
     "output_type": "execute_result"
    }
   ],
   "source": [
    "# display the expression information\n",
    "expr.expr_info()"
   ]
  },
  {
   "cell_type": "code",
   "execution_count": null,
   "metadata": {},
   "outputs": [],
   "source": []
  }
 ],
 "metadata": {
  "kernelspec": {
   "display_name": "Python 3",
   "language": "python",
   "name": "python3"
  }
 },
 "nbformat": 4,
 "nbformat_minor": 0
}