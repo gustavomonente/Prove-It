{
 "cells": [
  {
   "cell_type": "markdown",
   "metadata": {},
   "source": [
    "Theorems (or conjectures) for the theory of <a class=\"ProveItLink\" href=\"theory.ipynb\">proveit.logic.booleans.quantification.universality</a>\n",
    "========"
   ]
  },
  {
   "cell_type": "code",
   "execution_count": 1,
   "metadata": {},
   "outputs": [
    {
     "name": "stdout",
     "output_type": "stream",
     "text": [
      "Defining theorems for theory 'proveit.logic.booleans.quantification.universality'\n",
      "Subsequent end-of-cell assignments will define theorems\n",
      "'%end theorems' will finalize the definitions\n"
     ]
    }
   ],
   "source": [
    "import proveit\n",
    "# Prepare this notebook for defining the theorems of a theory:\n",
    "%theorems_notebook # Keep this at the top following 'import proveit'.\n",
    "from proveit import Function\n",
    "from proveit.logic import Equals, Implies, And, Forall, in_bool\n",
    "from proveit.numbers import Add, num\n",
    "from proveit import n, m, P, Q, R\n",
    "from proveit.core_expr_types import (\n",
    "    x_1_to_n, x_1_to_np1, y_1_to_m, P__x_1_to_n, P__x_1_to_np1    \n",
    ")\n",
    "from proveit.logic.booleans.quantification import (\n",
    "    general_forall_Px_if_Qx, general_nested_forall_Pxy_if_Qx, \n",
    "    general_bundled_forall_Pxy_if_Qx)\n",
    "from proveit.numbers import Natural, NaturalPos\n",
    "%begin theorems"
   ]
  },
  {
   "cell_type": "code",
   "execution_count": 2,
   "metadata": {},
   "outputs": [
    {
     "data": {
      "text/html": [
       "<strong id=\"forall_with_conditions__is_bool\"><a class=\"ProveItLink\" href=\"proofs/forall_with_conditions__is_bool/thm_proof.ipynb\">forall_with_conditions__is_bool</a> (conjecture with conjecture-based proof):<br></strong> <a class=\"ProveItLink\" href=\"../__pv_it/theorems/e30ae9f86a24eac300a41828b83e3b875a61311e0/theorem_expr.ipynb\"><img src=\"data:image/png;base64,iVBORw0KGgoAAAANSUhEUgAAAgYAAAAaBAMAAAA+molaAAAAMFBMVEX///8QEBCIiIhmZma6urrM\n",
       "zMxUVFQiIiJERETc3Nzu7u6qqqp2dnaYmJgyMjIAAAAcRTyBAAAAAXRSTlMAQObYZgAABgFJREFU\n",
       "WMPtmX9MHEUUx1+53fuxdwvEaGLbxBwllgZRLm3U2pbmsH+gRgNFY/yDhAuRWjS2xFZO0bRYk3LU\n",
       "P7ioQdKk7cofRKkWEiVoTfWEagyFekYSEwVz/vzDREWJTaUN+mZmZ2/3bncH9LQxcZLb3Zv9vsft\n",
       "Z9+8eTMAiNtD8aTr/fvEkivb6uIp2/4i/Ejxp5fjot39thwTSq50C8RsuyXa3VcABsXaf5UBTBeK\n",
       "wUb4VxkcW5k8mHRh4NMogwy5nhMwKCYnNW3PeFEoKURT917ctWcLgNK1QsM2GwYV1/Z+1RHFhBCh\n",
       "DM6Rvh8EDEIjeszbtFBEKClIK8G39YwGxStNvqfs4iDTqBypwf55yqCfSLoEDKig3/7uqhGhpCCt\n",
       "GXP7e2H4dKV2obANg6574Ho/np+iDMiro+/QNR+QQDlnf/eEJpQUpFVj7Fan4MmV2imlWQZqd/wA\n",
       "Z/AOYbCZMlAnh4ZeEubE2aGhVx3y3idiSUFaL372RgMr/xPfGgzkQ1o2Ds6+gucyNi9cTCTsqoSU\n",
       "hUFJItFtX2fAdrHEbdYS3JeNqyUUL9Aspqxru33c1Wpg/YtVYf5lwmBwSsuOBenxVjzXa5QBXvbY\n",
       "uIlYGHgbwI/J6I4LE4epn/KpLfxuwioRNkk/MxciasEoh3EZYCwFfpx5XoPPwhjSDziHf0p9zJfh\n",
       "3740GLRl80HtwV+I5+YGymAHKBkhAylC86taCiESjMejsJMz/d4qETY/OzEXXiG123hde2FqohJn\n",
       "dExdk/Cxdifce6tzGtRCi5Lhecxg0GXOidOzJJlFKQMfFJlndXnfWSiL5TLAz4149MagCKeTwGoA\n",
       "D0+1+6ySZTLQXTQJ5YPcbJHNQvijNRZ7dc5xAH7TTNfMGcjX/YSNM/BL+NjDjEEo7TPkJydq4K2Q\n",
       "5tEmNu3bNGJmME2PvjT1jicSEqx9Y5Usk4HuolUo5/VASbvBAOBXdwaoDtswCFjiwA8xIw4CmfuN\n",
       "Wuy5oxqcCUdCeWMBjpOVEQwnoUJj2ZTEA22HLZJQeWP+c1k6GQPdBdqN37y+wcWCB2kz+0FkLID8\n",
       "m4gBGedqTWO5rtPHQqmZgZeUyM1Jtl7oeZDrd5Dbo6PP2zDw95EXUD8+NaKnAA9PIrstkkpvZj94\n",
       "c8pF2mllwFzgTFek7fFF4WFwsgjGsuUBsUYkpxFepRuDoFaNftXa9KqkJSdutMSBmjLmBXgDH4Dp\n",
       "6WONhl5vymcQpBnoPOu4TIKSZ/Qyi6ShOA3y+zkMSGcOA+ZC6sLJ70eApjXgZCHpAfyzxitz6ZJ/\n",
       "PpCmDJQl0A/DGdNF/UgvLq2OVkAJMdpmMPAZwzvTBFO36MVNnz52qF6hzz0KqYl8BmwIPss6ruKl\n",
       "EehTrElSktSXY5bhmcxlwFzQBfzv+OkEJwuZxdv2P1oYknZQWirL5/SxECd/qYM8XoxfoKvBdQM1\n",
       "CKkFaonJdwYDZfdd1jWTXidiDBA/RC8/kUgcQgbHSJJsyGHwOTlcYh27lC8CVxvrhahF0oyWeQyw\n",
       "U906lzIxYC5kfMnyvGzDwLCQckr9bK1cR6M+byCcNq6ugW3oWmnP1srSR3qtzNvX5v0Dqo+xOJAa\n",
       "HfYPZPLKAkfg5Ub1XV67gCdlkgTmz2PZgwxQ1a/pB9oZ3KCLGAPmAn/fiVAmRBk4WKg5VVR2zTRG\n",
       "hoZLgYuLwv2jDmsmPokumhgw/QfkcgZLfwcGNy1ghMprQdn8YcwocuVSk0R59O4qjTBA1c6kvJoc\n",
       "1rLOVrnLxEB30QmDM+OTlIGDhSeaM7XyQfLCQRwdA/mPFTbtlFWlHdbOfCKMmRgwvR9zhnQgitOG\n",
       "2z5SkO4hZrdzHsmTkLEQtOiJpGjGXCcyFzfoXzrByaI49xkt6/z8PRs1t6PHbR+pIX8vbQPmA+Fe\n",
       "2tvE6dIayyaFRSJXb2WqrB5/eyw4bWFAXehfGhdGnCzO/M29NNVtL232r+4nUvbd2RANRuz2E9NO\n",
       "74ozoC6ktMBCifyDe6qscFwWg7jgnwdviiWm5skLKrdWVIjdubq4PQOPRv6/0AH/N/gTxlzQTomq\n",
       "TqoAAAAASUVORK5CYII=\n",
       "\" style=\"display:inline;vertical-align:middle;\" /></a><br>"
      ],
      "text/plain": [
       "forall_with_conditions__is_bool: forall_{n in NaturalPos} [forall_{P, Q} ([forall_{x_{1}, ..x_{_a}.., x_{n} | Q(x_{1}, ..x_{_a}.., x_{n})} P(x_{1}, ..x_{_a}.., x_{n})] in BOOLEAN)]"
      ]
     },
     "execution_count": 2,
     "metadata": {},
     "output_type": "execute_result"
    }
   ],
   "source": [
    "forall_with_conditions__is_bool = Forall(n, Forall((P, Q), in_bool(general_forall_Px_if_Qx)),\n",
    "                                         domain=NaturalPos)"
   ]
  },
  {
   "cell_type": "code",
   "execution_count": 3,
   "metadata": {},
   "outputs": [
    {
     "data": {
      "text/html": [
       "<strong id=\"bundling\"><a class=\"ProveItLink\" href=\"proofs/bundling/thm_proof.ipynb\">bundling</a> (conjecture without proof):<br></strong> <a class=\"ProveItLink\" href=\"../__pv_it/theorems/2b2a6825a1f459cf194dedbad20339cf7491bdd80/theorem_expr.ipynb\"><img src=\"data:image/png;base64,iVBORw0KGgoAAAANSUhEUgAAA7gAAAAzBAMAAABPiLnuAAAAMFBMVEX///8QEBCIiIhmZma6urrM\n",
       "zMxUVFQiIiJERETc3Nzu7u6qqqp2dnaYmJgyMjIAAAAcRTyBAAAAAXRSTlMAQObYZgAADfJJREFU\n",
       "eNrtnA+MHFUdx3+3O7N/ZnfvLoZiWtAsd6bUSrnlXyvSPwsmvRqF7tWE1Nh4m8OCJQgrYE9LgbMm\n",
       "7VVRtmigYEqHYoqtQlewIoTateefpBS6pDX+ocga0QQTcWmhoS1Q39/ZN2/+vNmys0csL7ndud33\n",
       "m/dmPvP+fec7C9CRdN1ouRPFxEa/CadV0kZXAwyOVtuwq66TJwPvJp0X/yt15ljjcNqle9Ffsih8\n",
       "YLB/9p98vTW4T91vBs27Dz6AOylw4Sr6tu3+n7cGtxA4a6R4usNN1sIu4Sl3uJk62xgKC6501ZSg\n",
       "m5RbCx0uObKXJo9p5qa3rr3xU2jjJ+HPMMqucOGukOEaZ8hw0xX01m2GDvdZ/P7vSWyxPejy+hY6\n",
       "zldDL8mou8N9KB8u3EROhpscQ28bw++WcRGkrMlKw2jOuTsLmVz4Re1xh5vqDRfublOGS1rTs+HD\n",
       "xZ0D6SUmKw2gdjNQhXgH1n4PucOF1eHCvQUccA9t376tFD7czN7t2++bzInU3ejvpjx0og7deXe4\n",
       "u8thws0cc8LtGR9fVw0fLrw1Pr56MuG+i072EYB+tLll+g/Py/qOmn0rrthj/6Q/Cxv8ZiZbLoTk\n",
       "NK4l5NzhxnNhwo2POeHGCpA4la5KHVOwwV0OsL7lZct7Z8orob8N8CS6iL+HQFUzN8froHvPAH4G\n",
       "f8reYfskrfXCgF9I9XKINIRFjxvczPEw4Q7nnXC1HDwWLFpjS+W5E3j8VOf/hQ3up+ksUpVoDbW7\n",
       "r/kKaltt6FF4JSJH903MRO+3oaqb6eNaWb/IezDaC/vNz9g++VG0DuM+IcnKfEhw9KmSO1zjcJhw\n",
       "LwAnXPQ3K+BUmx7GK6Cj/meFOn+0LMKNQyTIapqdoBfw9CPWhskPr0SCthpAa0GDYtC84ZowLn/S\n",
       "lYXDPiEGfAh6eFevN9zhwmthwj3TDe5zQXUqCncDOluzQQ/QqIyiCDddC6RTMbizAa6DZe1YdLJK\n",
       "9JQsuEAxaH6HfVj+YLGpv+kXoh2H4YIK7kA5PLj6O25wH9SLrcC9nbSrWJAiXxXhJutXtwD3ZkBN\n",
       "YXk7JlKsEsNsfXsb+aeggItAAhz4Y1+uj9dhPkR6/UJQt30OiWB7doW7uRYe3MgxN7iJe9E4l+5f\n",
       "4jyVey6ZXpDhRvBKfADjcg2xxcwS4cL6L6PDng5xx5zziiKskuAab8LDWVw7qQpsdmMr2RbO21Gz\n",
       "nFnNZS5OaEKVMgcgYvqRehrNjWbCwY/AmeZ09tFaSBT9QtC3a3HEVJ8JFXQVw4Ob6HWDm5qDXmbG\n",
       "6rdCzH7eI+aN8bwMt7tILuP73EPsMb+0wX0CFZbuMYccMdXjeq8EVzvcPxWSJba766Vak5Lt4VIW\n",
       "Uo6tEv9lhU6gHrZyN2yi7WsHwmCgRRLZsP7TTiQayVpySwnegLnsu9mwuGaF2OPIRrSovYMj8NAe\n",
       "rXrATZQoXDKzfCkw3ED6f9eYG1wyvhS6a6D/xn7WdfiPs1vuwYPt2bDIPcQes8gGFw90DwzCDDkm\n",
       "+eNSZEyCm67DHNDG6O6WTZOXN901KVzOgsuxVWL+yRH67yDA1r4t82oUbhy3+ZW4hkX+MmqCMTKz\n",
       "H536WBZdNbexTFv7FpSbISTnSiEExfQfQxEavky7Cx5w0w0KtxWhHcENpP/vyLnC/Ss59Wisd/SY\n",
       "x5xw0awRMr2w0CtEjPmSDW4GZ50LI46YaDWWleAmqvAyaEW2O0ev21OWw+UsuBypEqwqVijpY592\n",
       "nKSU2TytkbFko8AzzVeEoFG3qxCtovyPeMiPkHmTwm1FaEdwA+n/w1lXuPQ7tNyXz7re0OHArgNf\n",
       "/J0AN1Z8tLIhD0s9QmwxC21wSboVpjhi4vmuwoFdh0S4PRW0bMOSAd6dEy4qOXPZS5c8U+Dhjiyo\n",
       "HJSjKlaCnV/rAserUZeVdHMBvxm1xMxYlWSK1Y03fENuhB15FBH/bMHzxgE6msMUbitCOx5zg+j/\n",
       "uytecJON51Gl0VlPfgc2muRlo7k5XU/D4/WuyjMCXGNK9sVX8MVphfAA8mKLOeSE+3WtYS8GvcQL\n",
       "i+HxsbgId9iE6/QHSkB2h8mJAaTk1PlwVqoKLNyeZaOJy0nNIId3SDpkLpMl5xzNguFUIbdYWwuh\n",
       "u5y8wSSZ4rVE1jfkdliDIyLPed/yQ98coXBbEdox3CD6/8sFL7jGVz93nonPun4WDJX1qehlqLL1\n",
       "4J69aM3zCFwsLoUevutaKKOsVggMVUgAfrHHXOyEu3BG3V4M2tJGvo9Clgpw03eugKV9iBjZHSYn\n",
       "BtCSlxulaB5YuD3LUIWUs5yohRdLh2y7WZ9xniTnvAVn0vou8Q+5ot86uYmyF1w4ymbLLQjtGG4Q\n",
       "/X+g7N0tEwaIVMr6r8K4PAGligAX4OpkDSKVZghUPGLqDrhGOVGTiknBNrQ+icOsvLjOJekT7H0V\n",
       "2ANo1VO5eIqHS1kqpJxS5CAIleAtNnSbzV/AE+5bDK5SaK/a4DL9f9HRibWmJQBbIi1N+01fuPrA\n",
       "ZcwARM4hvRK2wsdgpGyDu/nvJodAQlJl95hUzQE3Vr1KKgZt3aDVUcgzNQdcVuCSIxV7AFWeIvnY\n",
       "x3m4PUuqjMsxiinUR6ZCZ+me3OF+lMFVCu05G1ym/6OJbLpkCcBcpGVpgQPuqMO3XPPusTjcBF5k\n",
       "XunWt9ljHm52Cdy3rB2qyp1fDa7c51SoaO6aW29Zk+prhQtVt8oRKtHJpI2uxL5lB9wPM7ieQrt+\n",
       "y2/hnKIMl+n/sSK580QFYEukZemm96jB26b/alF/5qkUYlutPfXeT/NMeD+lrzG47kL7Tyfmwa/S\n",
       "ZtR0wKX6f7xGbnlQAdgSaYPA7dDDB//XSfmMAYfrKrRnvvuACbuyuTRMXHTLRRURLtX/d5ThXJML\n",
       "wJZI69kte86tPkinlJyjrDQMcm0ZC+2ZeUv6I0Q6x1t4IEZp58570o4xl+r/sHjPvoolAHOR1ppQ\n",
       "lU9fuJvCLoCMUyq4fEJFhPbM5bWu68lTAnirTOf1O9OPLnPCJfo/PA+CAMxFWmspVPCF2xF/eocT\n",
       "96IbY6EXtSIA3DM5XCK0nws9eXyTgWyZBgG6E6oTTrj0/vK3QRCAuUhriRh5X7gd8ad3OjEvenf4\n",
       "E4rHAsA9wuESoX0EbcbJ2DoCl4P+jfHxNQjuprgLXKL/nwBBAOYirSU/+sPtiD+904l50Q+EX1I6\n",
       "q4RrvM3hkjQFZsBmnW7N1aFIW662BERzYfN+ro5vomw0mQC80aQiLb9qh2v+Y24n/OmdTsyL3oHn\n",
       "g41eJVx+44DNvhqoxf45jRXxBty6E8j9mYOyGt6Ee/6RMtZ6mQA8VGEiLe+icv5wO+FP73SiXvRk\n",
       "Jw7rFSXc1AkRrlaEV+HevQgT2joPrWFRD63dkYeYB1yacDeOBWCQ7gLF6/5wO+FP73SiXvRIzs1p\n",
       "LienWV20mruHCBkmlHDTx2zdssgLpxlozHUkCS6ZlGMBWFaRog2prNdIynG4p+pPV67+lDn0FvMH\n",
       "3h/zoidqltN8qXe/Ss3qYqJWc+8Qmxf9b0q4sYYbXH+xT4JLFF4sAMvyMHO8e7bc4P50VWL+dejf\n",
       "hx+JVfcGKTrVW3R09hpohxc9xaeOzIuO56TUaf75Od7tipjVbVcZsZr7hNi86E8q4VKfkww3Ay3A\n",
       "9b6eTyhEjMD+dFVi9xgezMOQGchbfik9zF6IV9viRb+UV4Rez115y2k+6N1ym5ysT4jV3C9E8KIP\n",
       "K+Fuzrp2y22B6zSlS3Cfa5dOxR5OmIpdgYG85VvpuFGEWKktXvStfA5ZsuAyJWDQb1GclXsgYjX3\n",
       "CRG96Gq4YZrSYYHrmFu04Ab2pweDG6+RxhjEW05FhngW6y/t8KJz0YJ50YlUQJzmvnAxp6biC8xq\n",
       "7hcietEHlXDXQYhwF+f9W25Qf7rCB87hnoMHvUYgbzm9vbmjYFwIbfGi89ulzIuOJ1TUae5DiprV\n",
       "m4ovMKu5H1zRi66eUIX6IFg85w83qD9d4QPncP9FLu1A3vIUOSuL+y4ot8eLnmJnmXnR0znmNCek\n",
       "iIvc7inHG9SszhVfy2pO4Tpt6A4v+lwV3Eioj3D6TZdb8KerfOAcLhbbuqpaEG+5RqYyz0O0BFo7\n",
       "vOh0f5YXXStxpzkhhV3kTU852VhlmdW54mtZzUmI3b6ONxxe9H+q4NKnSUL72YSzFXAD+tMVPnAO\n",
       "F7sEXgjmLdfJ+vIuyDTa40XXJb2mKT8Ogmg8t1LTas4VX8tqTrtlpRfdKKnghvuzCY4fPJHhslmf\n",
       "yp+u8IFzuNcaLybPCOYtJ0ThBER72+NF16Sz3Lxx8CS4Pjlura254tu0mpMQtRddfePgHxAq3O6c\n",
       "Eq7Sny74wEU7uuAD53AfWpL5dR5f0UpvOWSq6FP9OFoJfcFozYvuXoeMxMJS3n5w54hoPLcWrNYi\n",
       "iCu+Tas5CVF70ZW3/FLTwoWbnKKEq/SnCz5w0Y4u+MA5XOOTvy8mIYi3HKJ59NUfjpb1NdkWveju\n",
       "dYhK6wL7zXp347mU7FZztRd9vQpu2D8yRnsYRbdMOj3T258u+MAFO7rgA2+6YPXipmDe8m7hqxa9\n",
       "6K516JYPL3SbTUZps7kGQoYbLQaC6+tPb/rARTt60wcuwE2+Oy2Yt3yX8FVrXnT3OuyCSUl+cDNj\n",
       "pwa3hZ/kHQnWcm2dV0b+nPvARTt60wcuwIV1+UDecuwfsj5ozYvuWgcj9/6De6o/ydvCj2lHvUSq\n",
       "0Xb6lm3+9QDe8ojZWv7W9tex5PKMQfP6ZYLL/pOv/w8JBCJWxaPYiQAAAABJRU5ErkJggg==\n",
       "\" style=\"display:inline;vertical-align:middle;\" /></a><br>"
      ],
      "text/plain": [
       "bundling: forall_{m, n in NaturalPos} [forall_{P, Q, R} ([forall_{x_{1}, ..x_{_a}.., x_{m} | Q(x_{1}, ..x_{_a}.., x_{m})} [forall_{y_{1}, ..y_{_a}.., y_{n} | R(x_{1}, ..x_{_a}.., x_{m}, y_{1}, ..y_{_a}.., y_{n})} P(x_{1}, ..x_{_a}.., x_{m}, y_{1}, ..y_{_a}.., y_{n})]] \\\\  = [forall_{x_{1}, ..x_{_a}.., x_{m}, y_{1}, ..y_{_a}.., y_{n} | Q(x_{1}, ..x_{_a}.., x_{m}), R(x_{1}, ..x_{_a}.., x_{m}, y_{1}, ..y_{_a}.., y_{n})} P(x_{1}, ..x_{_a}.., x_{m}, y_{1}, ..y_{_a}.., y_{n})])]"
      ]
     },
     "execution_count": 3,
     "metadata": {},
     "output_type": "execute_result"
    }
   ],
   "source": [
    "bundling = \\\n",
    "    Forall((m, n), Forall((P, Q, R), \n",
    "                          Equals(general_nested_forall_Pxy_if_Qx,\n",
    "                                 general_bundled_forall_Pxy_if_Qx) \\\n",
    "                          .with_wrapping_at(1)),\n",
    "           domain=NaturalPos)"
   ]
  },
  {
   "cell_type": "code",
   "execution_count": 4,
   "metadata": {},
   "outputs": [
    {
     "data": {
      "text/html": [
       "<strong id=\"bundle\"><a class=\"ProveItLink\" href=\"proofs/bundle/thm_proof.ipynb\">bundle</a> (conjecture without proof):<br></strong> <a class=\"ProveItLink\" href=\"../__pv_it/theorems/f16e371286959ef0a621a775d8edf20d97aba42f0/theorem_expr.ipynb\"><img src=\"data:image/png;base64,iVBORw0KGgoAAAANSUhEUgAAA7gAAAAzBAMAAABPiLnuAAAAMFBMVEX///8QEBCIiIhmZma6urrM\n",
       "zMxUVFQiIiJERETc3Nzu7u6qqqp2dnaYmJgyMjIAAAAcRTyBAAAAAXRSTlMAQObYZgAADEhJREFU\n",
       "eNrtnH2MFGcdx3+3O7Oz73cxBQNVs71rKJ7Q25a3aHlZMAGMtrfHHw1G4m2uUqRBWAtyWmg9MaGH\n",
       "ogyNoVdMe1MwVNDC2oqVBsLKaUwoL2vA+AbpGvtPNdYtVy68tOLzMjM7z8zz7M7Cza4b+ktud3bu\n",
       "+T3PM89nnrfv/HYB6mKr+tV6FBPo/xbcVib1bwZY0p8fh6xabtxwnU00Zf2Urc+1KnDb2S70F8pY\n",
       "ToT1D2dvvFsb3CPPaW7TnoIP4TYELjxE3/Y/94va4KZdJ/Vlbne4oYLXJRzhw40V9YMer+Da7pos\n",
       "xEm5Bc/hkiu72DimsXVXHl37GXTwU+9XGCoXLmz3GG74DjvcaA69xTXP4b6B3//ZwB7bim6v76Dr\n",
       "fNvzksJFPtwXU97CDSbtcEMD6G3I+2EZF0HKapT1ojXn8QTEkt4XdYIPN9LmLdzjmh0u6U1veA8X\n",
       "Dw5klGiUdaF+05UHpQ57vxf5cGGzt3DXgwPuhQMH9me9hxs7eeDAs41cSO1Af+tSUI86xFN8uMdV\n",
       "L+HGrjrhtg4OPp33Hi5cGRzc3Ei4/0WNPQrQgQ73TPnRtETFWbN99aIT7JmOBOystDLZcz+EJhta\n",
       "QpIPV0l6CVcZcMINpCF4M0NVdZ80A3clwLaaty23ztSohPw+wGvoJv4BApWPPa4UQRavAH4Of0o8\n",
       "xZyJSm3QVcklvxB8Jcumhwc3ds1LuL0pJ1wpCQfdeUv6VnnuCJ4/q6f/JQP3s3QVWc1oDaUdj3wV\n",
       "9a1xGFGMSvjGTo10ovdNqOpa9JqkyjPEk9FJOKt9jjnzY38RBiu4hHLzIWigj2T5cMOXvIR7Hzjh\n",
       "or/pLpfa9DLeAhmNP6urp/erVrgK+NzspvUG+gNefgTGYfFjVCJIew2gvWCYYpDEcDUYtJ9pScCl\n",
       "Ci5h+Ai0GkO9XOLDhXe8hDuRB/e0W52Kwt2JWms2yC46VThjhRstuNKpdLizAVbBivHYdOqVaM2a\n",
       "cIFikCpd9iX7iW5NvlzJRboGvelqcLtU7+DKH/DgviBnaoH7JOlXATdFvm2FGyo+XAPcxwF1hZXj\n",
       "sZDSK9Gr7283kQ/pKnARSIBzf2xPtht1mA++tkouaNi+i3joOXPhDhe8g+u7yoMb3IXmuWjHMmdT\n",
       "npg1JW2H68M78S6Mi+vC+Ey3woVtX0GXPQUUx5pzUQaesMENX4a9CVw7WxX01Q1TMuNu9KNyOdPL\n",
       "21xsaEEV0brAp1Ui9TpaG3XC+Y/DRG2KfmorBDOVXNB/t2KPSRUWVNCS8Q5usI0HNzIHvXQGihsg\n",
       "wLa7T1urpOxw4xlyGz/Ld2F9fsXAfRUVFm3Vehw++Wtymw2udKljEoSyenaP2WpNSmbdbUlIOUwl\n",
       "/qMXOoJG2NwOeJ72r0MIQxhtksiB+Um6HiyFCqE9WXgP5ur/mw3dBdOF9SMH/oz0AfbAU7s/L4Ab\n",
       "zFK4ZGV50TVcV/p/ywAPLplf0vECyL9hW12GfzuH5VY82X4MlvJdWJ+lDFw80e1eAlPtPqGfZH0D\n",
       "NrjRIswBaYBmt2KyfXsTL9jc7UlwOUwl5t/oox+XAOxr3zOvQOEquM9vxDXMGC/9GoT7OjtQ0wcS\n",
       "6K7ZpCfa175ALbuQlBstLsin4yrykPBtGk8L4EZLFG4tQjuC60r/P5Tkwv0raXo01ztGzKtOuGjV\n",
       "CLE2WCxysfp8mYEbw0nnQp/Dx58PJGxwg3l4E6SMnp1j1G1V7e72JLgcWyX0qpiuZIx93dFIEa3c\n",
       "rL6BUCltJJpfxQXNui1pfx6lf0kgP0LsMoVbi9CO4LrS/3sTXLj0f2i7b291uSTDuWPnvvQ7C9xA\n",
       "5uXczhQsF7gwPosZuMQ2wASHj5JqSZ87dsEKtzWHtm1YMsDZOeGikmMPXJx1NG24O5KgclCKvLUS\n",
       "evuaNzjejXJ20uUN/DDqibGBPEkUKIbfq+iyFg6lkIfy+bTwwQG6mksUbi1CO55z3ej/x3MiuKHS\n",
       "GVRp1Oqh78GQRl6GtOFoMQqvFFtyRy1wwxMSf3sL35ymi+FAXhifC06435BKbDHoRUl3wysDihVu\n",
       "rwar5N1ZINlhclYHUnLkXrgzkgfdnU0ypOFyIlPJ5V2wXbIhk4XmjCUg7FQh95hHiyGuhtZoJJFS\n",
       "CCYqujwJW7CH77T4kR/6zyiFW4vQjuG60f/fTIvghr/2hWkabnX5TuhR5UnopSe37/yJk2jP8xLM\n",
       "tG6F9m5/FFSU1HSBnhxxwC+sz0wn3MVTi2wx6Ejq+yFyWW6BG/32aljejoiR7DA5qwMteWU460+B\n",
       "7s4m6cmRclYStXCm7ZKZh/UxZyM51y04kdQ+q7LLog6zcYOqCC6M6avlGoR2DNeN/t+liodlwgCR\n",
       "ipifcjqXVyGbs8AFeDhUAF+u7AI5gU/RATesBgu2YiKwH+1PFJiesu5ziX1Kf38CWAda9UhSiRju\n",
       "tiQ5Uk7Wdx4slTB6rOdhNn8BIdwrOtyqQnuegavr/0vHRrZqpgBsirTUzmoV4cpdD+gBQKQN6Z2w\n",
       "D+6GPpWBO/x3zYBAXCIq3ydScMAN5B+yFYOO1khF5HK04ICrF7hsNMc6UOXJlwp80nBnk0RUXE44\n",
       "E0FjZMRzlnzjw/2EDreq0J5k4Or6P1rIRrOmAGyItLotcMDtd8QtF8QjlgE3iDeZD/LGNtZnb3lI\n",
       "MOKWpQt5++BXgAdPORUqmrrAGy0Ltvqa7paqm+VYKlFPk/o34rhlB9yP6nCFQru8/rdwV8YOV9f/\n",
       "Axny5IkKwKZIq9u6W9TgmeV/dVG/82YKYXZrR269mTvh/8m+rsPlC+0/G5kHv45qfs0Bl+r/SoE8\n",
       "8qACsCnSuoN7230vwJMuu9kNXK7QHvv+bg2OJZJRGJmxfkbOCpfq/4dUuEczBGBTpBUOy+x66kM2\n",
       "4zTZCq3f0Jax0B6bt6zDR6RzfIQnYmSHDz8Tdcy5VP+H7hOncqYAbIi05oJKvZ3h1jEaXWjGgooI\n",
       "7bGFhZbHyLcE8JFK1/WHoy+vcMIl+j+cAYsAbIi05lYoXQVuXSLU62yNiEYX2kQDLhHa74HWFH7I\n",
       "QI60MAF6GPIjTrj0+fJ3wSIAGyKtKWKkqsCtS4R6va0B0ehCGzXgEqG9Dx0qZG7tg4Ugf3NwcAuC\n",
       "+7zCgUv0/+tgEYANkdaUH6vBrUuEer2tAdHoQvrvG3CJTYCpMCzTo7kyZGjPlZaBNbiw/DxXxg9R\n",
       "hjRdAB7SqEhrTLW93AF3m2XOrUeEer2tAdHoIjMeHOiLgBLqsX+OYkW8BBsOA3k+c96uhpfh3juq\n",
       "Yq1XF4B7crpIawxQ3Jt3uQVuPSLU620NiEYXWeS6Fa6UQVPFrpMIEzqahvawaISWnkpBQACXGh7G\n",
       "sQAMtqdAClfyMscrpT4R6vW2BkSjiyx6lRmWrbywTUVzrsNscIl4hAVgu4rkL9k+9xMbLcO92Qj1\n",
       "qlY1U5ndttx6iY2MRhcup0s8uJXFPhtcovBiAdguD+sR747B4l8mXPcR6lVNX7y5DWGP0PRLx2bj\n",
       "u3ccRo9GRqMLQQ3w4MagBrji3nGdf/7gHaaI4TpCvarRC3Yfwv5peqFtoOSbPhpdZMMJ7rA8LnCd\n",
       "QekUwBrVhHt63H5JgcJ1H8K+jyLJQCDb9NHowoW7h0HpsMB2c79DTTWHZfcR6i7hug9hj5NaKAms\n",
       "wDR7NLrIngYP4XbzVAypWF5QVYhQrykS3IBbJYTdepI+4DyUDt8PTR+NXnlY8OornLyN7kHNAlcY\n",
       "oV5bJLgBt0oIuzXPCBkyutvvU5s/Gl1gPk+/wsldLq+0iBjiCPXaIsENuFVC2K15SsThDPiz+LC5\n",
       "o9FFnDJewqVPikRbUAJXHKFeSyS4ARfNnxVD2C15ymR22A6xUvNHowvM259NcPzgCXv55hE33LyW\n",
       "SHADbrUQdkuehChcB39b80ejC+wf4CnceNIFXE6Eeq2R4AbcSiHsbJ4Qy6Pz8jW0E/piuNmj0QU6\n",
       "zWRv4YYmuIDLiVCvNRLc3ApVCGFn8wR/CuX1+zFV3pJo+mh0vnn9I2PwmqthmXzSbiESHMoxquIQ\n",
       "djbPuCWvZo9G59sj4DFcf8YlXEfoOFV93EWCW+GKQ9jZPI9Z8mr2aHT+VmXg5uDW8JO8fW57LjtS\n",
       "1RYJboUrDmFn8sQRROaJ5o1GrwD3Zn+St4Yf0/anxHDHNW6ZWbpVD2H3Mbdn00ajk68a8LVuXW45\n",
       "e+Pd/wGKkyZfhxuXoAAAAABJRU5ErkJggg==\n",
       "\" style=\"display:inline;vertical-align:middle;\" /></a><br>"
      ],
      "text/plain": [
       "bundle: forall_{m, n in NaturalPos} [forall_{P, Q, R} ([forall_{x_{1}, ..x_{_a}.., x_{m} | Q(x_{1}, ..x_{_a}.., x_{m})} [forall_{y_{1}, ..y_{_a}.., y_{n} | R(x_{1}, ..x_{_a}.., x_{m}, y_{1}, ..y_{_a}.., y_{n})} P(x_{1}, ..x_{_a}.., x_{m}, y_{1}, ..y_{_a}.., y_{n})]] \\\\  => [forall_{x_{1}, ..x_{_a}.., x_{m}, y_{1}, ..y_{_a}.., y_{n} | Q(x_{1}, ..x_{_a}.., x_{m}), R(x_{1}, ..x_{_a}.., x_{m}, y_{1}, ..y_{_a}.., y_{n})} P(x_{1}, ..x_{_a}.., x_{m}, y_{1}, ..y_{_a}.., y_{n})])]"
      ]
     },
     "execution_count": 4,
     "metadata": {},
     "output_type": "execute_result"
    }
   ],
   "source": [
    "bundle = Forall((m, n), Forall((P, Q, R), \n",
    "                               Implies(general_nested_forall_Pxy_if_Qx,\n",
    "                                       general_bundled_forall_Pxy_if_Qx) \\\n",
    "                               .with_wrapping_at(1)),\n",
    "                  domain=NaturalPos)"
   ]
  },
  {
   "cell_type": "code",
   "execution_count": 5,
   "metadata": {},
   "outputs": [
    {
     "data": {
      "text/html": [
       "<strong id=\"unbundle\"><a class=\"ProveItLink\" href=\"proofs/unbundle/thm_proof.ipynb\">unbundle</a> (conjecture without proof):<br></strong> <a class=\"ProveItLink\" href=\"../__pv_it/theorems/4e852e30872106be75b7beb421fc16067ce3bb340/theorem_expr.ipynb\"><img src=\"data:image/png;base64,iVBORw0KGgoAAAANSUhEUgAAA9MAAAAzBAMAAABmj0ZpAAAAMFBMVEX///8QEBCIiIhmZma6urrM\n",
       "zMxUVFQiIiJERETc3Nzu7u6qqqp2dnaYmJgyMjIAAAAcRTyBAAAAAXRSTlMAQObYZgAADi1JREFU\n",
       "eNrtnA+MFNUdx3+3O7Ozf+8uBkxRm6x3DVKq3gpFqyKuNgGa1rLQxNDU5DbXAsVQ2Ch6tf7b0gRP\n",
       "q2VtG0SMMmIDSiu3aoiFSNly/ZPQA9ZAW6tQtqltUpvWDSAVVOj7N//ezJuZnbtZDPKSu53d/b0/\n",
       "M595v3nv975vAdqSlgxW4HwaW5ozWGtfZR1nzviuLZ03vyudJzX2lCi2nmcTo3HmTHdrqLc/qfq1\n",
       "HYXzqD8GqKUGeUk++VSLqAu+TSPFTxLqp8OuIFUJiBr+yl7l0FC/BBzqTvySqZ9ThDMr3l+8/DrU\n",
       "Z8qhV7U0KOp4LWTUyQk86nQVvXSq51Zv7kLu8fsqdIY/5twaFLVGIjTU8RyPOoHv/HXnmOPuR11m\n",
       "VxYOhF9TOhsQteZfQ0O9S+VRwzvo5Q/nGOo+NM3oq8E94deU7A6KWqmFi/pOsKE+tGXLC+fa6GwN\n",
       "+luRT7TjtN4Oijp1MlTUmZN21F1DQw/VzjHUp9H1PwYR9LRK9iy9ebd7v7RZbJwGiYvcspgNRoKi\n",
       "Zt0uLNRK2Y46VoB4GMOXhKeF3KK97/LkDwFerUEczSt+AX/OPgCwUJyLWZhS7SaINN2yUAN90hQQ\n",
       "9RE1TNT9eTtqKUeGkeOQJPbaO3odvh7eLoy2Zu6Jq1f5svdZHkDkxOjIVHRjo8nFHtivfgm+do04\n",
       "F7Uw33PVWRAvu2ShBuzNq4FRD2fDRH0V2FGjvyvGB3WcvjyTh/kqxHx4imvpU6UbD1Fi4+BZrtUa\n",
       "copeFoRehSF8OEeciVmYPDpcAF1ZlyzMgPWewKg7G2GivtAJ9d7xiplR1IlJANEi3OYjAw0EI+NY\n",
       "yZe9v/LQ8KOkowY46oGaWZi90ynoL7hloQZjRR05GSJq+SMn1M/IxfFErdRJR13k574mPVnJQkfW\n",
       "l72/8tDlp9ED7MBBfs8LNbE48MeeXA9rQ7QBl7pmIQY4By05IOrERyGijpx0Qh1fi+7+dO8C+8Xe\n",
       "PWOyqeSbi/A92/09GRTVivpSXFETl2zNrsUcTBVFSDx2uJCcBr7svdoQqRvTatwe9HYHaspUV27U\n",
       "4uCn4UJ1MjuPIqx2zUIMUI5JYxqWUR8bEup4txPqFB6ATI01VkLMGmCJqMsV0ziudgo163YORJc6\n",
       "n+vV/yS3PZrT0uxcBlqRNo4i12hez1UV8GXv1YYUu+bv0vNI50D6IN5M1Am35Glg/4YbpgNqkdhY\n",
       "guMwk34cLUofUdQWS+MdNsA58JBgZnDUDzHU5Jl92DdqX6sWHWUn1ORZVeisg/xrlZu8/Mfsb35W\n",
       "ipRv4+ab6+fAFA71h7iimlSm2fkMpCK9P5L27INoCXzZe7WBlgezzgzQtyVIDkztPcwc+CA+u7ux\n",
       "Yy9qB8hDMItYFl3ze6lRcqD3JM2CDYws5J9uEMtKuOf8Izjq/Qw1iVW+4xu1r1WL4Zwj6jfJUAY9\n",
       "5xQ+v8XhR2uxrM19zoQBDvUF6O91kIosu83fdhlDbZncz49CpunP3qsNtDwjGYFRzC1lvzo7TJcw\n",
       "Uk40C8wIPYypA99hn9FpBh2FaK0AyVJw1EcKFDVegUiUfaP2tWrRn3VEzUaSBRtquSnDgZ0HvvFb\n",
       "OsrJo3r4y7wSJmauP1wzoV6cfCsxAeQyzW5HhypCOWa8hs6T8IUPINrtz96rDRJ3zY3ljlexP3eI\n",
       "hehHG1AvzZRrxGg5DOdpFofJvm6wAZQvF8aw3MFwINS4h5Ku6vNZ7WfVYldVhDrR3IdOC6FOPALr\n",
       "VPJvnboh3UjDy42O6muAP1cK8wgJ9j35B3dJzdQUVgxF/eyCzK/y+G4n2XEGwzzxCKkodSVcnEJX\n",
       "MVNDn8qn0Fzr637sPduQ4cjoUcCfPIj6/Ub7BNm49Wej4XtimUqM7odVLEsyaw+KagazIbJ3DIuY\n",
       "mpNFqDN7tmx5ooVhmZ9ViyMFEerkd75yuYpRyxfD/Io8Cf2bX910cPceiBU2w+cBfy4N/Ihc5vlV\n",
       "8j3+V4XZUxqwSC6bUCe/8LtiAhuS7DiDUaZ8Ma1oUbIURR0nmkdf/f5ERV6V9WPv2YYoFwy0ShPs\n",
       "A5mM/RJho5t7C34N4OExoO4qshH4+0ND97WA2s+qRV9F7MCJe0SeJKW/oy5AgVegVMWfvwCPUf9q\n",
       "+IZqsoJmNKXIQXO0DOTi0wCfY29wBqNMdlRK5RR02Gn6yo+9Vxs6+dMLXXCUqYwFdZmhXkRvGZeg\n",
       "uwU1W7WYe2JkNX7iRmaOkAevtOab39a90H7VFbXcdz3Adv0qV1gE6jMwUMGfL5MasOBYVfuCmMRq\n",
       "X4VkMbXXgjpx+iL9Dc5glMmOksVIPvZZgJ2mr/zYe7VhJ5yVFBR1R4Oh/iIkG66WOQtqtmqR6YY0\n",
       "HhS+DTKdk7wOoDuHG22oB2068LrAu9XhllH+iwxIh2q2GDiaMCJHKtWdXKfFiSZzpg982Hu1IZk7\n",
       "K6TnDAZFXWKoFT34wwfy7vwNXFrkUbNVi1iRrK89jgheTb5D/5dodivCPeeo5d127+Cd2pp9a+V9\n",
       "/JPSzVCn64rD1z8fuQF+mVajqg01XbVQ6mR97X7an1G6g850/aCODd7TllP8pG0pkQbvc9wDoqNO\n",
       "NG51GAb8cL0KO7O5NIxMv3N61YyarloMV+AyFSK4kD7i1N6D57JiB26tuk2n/snbZ7DW8YmuaA4c\n",
       "Hv4WQnvDgt4IWQTAR/gBjtK2bT9O257VdNUC5u0eRTdAJy52FrmjjvZOMiJxlfOouRFV6AL47WLU\n",
       "+rAMXsFBgZvqHbeTHRn4qEIj49vSL95mR01WLWAfHcZjZ3EJCe40wJBT9BU8ULdH/19qKcAfSvrT\n",
       "mdWL/4583POh10QkFwLU2ryaCB3WXwZd+SgGh49UOsbcBrURO2q6wv4D+kGWjMWBbCI4YoRQ8h6o\n",
       "26P/L7UU4A8nnUaXBk1R/hV6RWQa5Yy6K6ehzuBLPgDz6RI7OroJ5O8ODa1CqJ9WHFC/SQPK5FYq\n",
       "vlh9nHDtqppURru8ULdH/19qKcAfSsJCw9RRyLRherZbiHq4Bub16okwBTbI9GimDEXaq6UF6KXA\n",
       "oSangBeH1qnJidm33sYH0K/CEll7RPc7uuaHTc/qtuj/Sy0F+ENJkePo70NQ2jAVeFaIWlvuYMOG\n",
       "JurNb6RxZL8JK7cBWWM6CHDI6vR11Fceq+AAMTz36GKooIP0g0thYY/FY9jSQhPqtuj/Sy0F+ENJ\n",
       "8SZyfcehHW3ozItQk9UnHbVURI+TtXsQNHR0OZozo2+lB/IQE6CmCRdxKx5cch1HcQy/6V5MaZP+\n",
       "v9RSgD+UhPfvbcgBmtPAxsk/vTzramyzSPZm4XG3EY3ZIJ0ToSYTIrvgSIM2ZWiVQ4TNipoEiDf8\n",
       "TTVFilk4q8m9HyTpmIE6qP6/JX1/yUeA3ymN3dvqjeivQQrda48hKrXMHagLyOKRA7MwpbTUDX1u\n",
       "WagB60kNEWoS0bKhTrmeJoeaBIjjK+1rcJlTjtlT/9ZR+9f/B9T3M9SeAX5zJWzJJj32zqw3om/Z\n",
       "6DTU6+5FparpU1JFni5+bFEL8ydPRRsw5JaFGGh1lkSoP+WIOgMtoBbf1B84f751gh5C8a3/D6jv\n",
       "Z6iFAX7HSuiSzdJxcNxaI9ZQ7zoB6/fJRg1JzC1pbOVgSUWT2aNuWagBu+hNAerEUUfUMC6o7ZJ/\n",
       "Wueyio7at/4/oL6foXYO8ItQkyUbeTzGEFoj/gcaahq/cOMGxlYOLc1T5fdcsxADD9ShSv7hRu5Z\n",
       "/V+aKroD96//D6jvZ6gdA/xC1GTJJlYYB9SsETIbntxLntsFL9TYwghRA445R7pds2ADGsomZo6o\n",
       "46UwUc9ziqFIDWNY5qL/5z4MqO9nqEmA37JfQEsWUT+TMJElG0XQLmvNHmWyRuBpNU6PYQVoH179\n",
       "dOFGLYwQNUqrserfDTU2oKFs8bCM+orQNt06Tay3qibUQv0/p70Pqu/XUOMAP9Hq89UQUb+1Erpk\n",
       "84SgXdaNCR5lskZ0svHpCLr7q2uwLglzs+r69QNqoYWoidHVMK9Oslgtjd0B2ICEsrGeWYC6Tw0T\n",
       "teMQfJEphCLW/1u194H1/RpqEuCfA1P4aoion6uELtnMFbTLujHBo0zaiOi7J+jTdw56evdsvKFO\n",
       "UROBv7EfAB9ggT+zYCFqYrSp58YK7dXYQM+i7yOgBjiUjW6rggA1HTiF9gMZl7hNVwlqsf7for0P\n",
       "qu/XUJMAP9bq89UQUb+1ErpkM1vULuvGBPcyuU0BRmCUcBMJ/EnSQtQ72MOYZhHuI5jFQtmwWRAY\n",
       "DfkHMmw/e2M9cWMc4qD/t2rvg+r7NdQkrURXg68Gi/oP7DxkRk2XbBaK2mXdmOBeJrcpwFjuwLNf\n",
       "gcDfGqLGRrFG8jjL4ryPgBjQULZwuaMzFy7qzpwP1A76f06rD4H0/TbUd0lNvhoi6n+5rJhR0yWb\n",
       "zUa7LIp/88YEqv93KZPfFKCF7BLXIJcuEPhbQ9TYSKnHszSLYB8BMaChbOEi5ktquKgTE32gdtD/\n",
       "c1p9CKTvt6HGWn2uGiLqjxUWmlCzJRtF1dtlUfybNyYw/b+4TH5TwPMecSrnbQJSzwzfBnGBNCH0\n",
       "n6ijO5E8HTh5p4q19xBM38+hJlp9vhos6lfgirylEjLSrhrtMiv+WdPpxoSqR5n8poDwBUd/AWfU\n",
       "sVzYqKNFn6it+n9Oew/B9P0caqzVt1WDRf2b4LW6DTWUjXaZFf8sCkY2JlD9v0uZZ2lTgAPqNyAY\n",
       "6hZ+JHrAb6+2uqe6IJDVkr6fQ61r9c1Zbhl1qgSnW5xcbYZznu5lnqVNAQ6oA/9IdAs//R7Ni1G3\n",
       "ogMfg75/0LcO3FJJauyLmGdnU4A0eLdtD8gm2hL80+//Bw9vDf+PBG1CAAAAAElFTkSuQmCC\n",
       "\" style=\"display:inline;vertical-align:middle;\" /></a><br>"
      ],
      "text/plain": [
       "unbundle: forall_{m, n in NaturalPos} [forall_{P, Q, R} ([forall_{x_{1}, ..x_{_a}.., x_{m}, y_{1}, ..y_{_a}.., y_{n} | Q(x_{1}, ..x_{_a}.., x_{m}), R(x_{1}, ..x_{_a}.., x_{m}, y_{1}, ..y_{_a}.., y_{n})} P(x_{1}, ..x_{_a}.., x_{m}, y_{1}, ..y_{_a}.., y_{n})] \\\\  => [forall_{x_{1}, ..x_{_a}.., x_{m} | Q(x_{1}, ..x_{_a}.., x_{m})} [forall_{y_{1}, ..y_{_a}.., y_{n} | R(x_{1}, ..x_{_a}.., x_{m}, y_{1}, ..y_{_a}.., y_{n})} P(x_{1}, ..x_{_a}.., x_{m}, y_{1}, ..y_{_a}.., y_{n})]])]"
      ]
     },
     "execution_count": 5,
     "metadata": {},
     "output_type": "execute_result"
    }
   ],
   "source": [
    "unbundle = Forall((m, n), Forall((P, Q, R), \n",
    "                                 Implies(general_bundled_forall_Pxy_if_Qx,\n",
    "                                         general_nested_forall_Pxy_if_Qx) \\\n",
    "                                 .with_wrapping_at(1)),\n",
    "                    domain=NaturalPos)"
   ]
  },
  {
   "cell_type": "markdown",
   "metadata": {},
   "source": [
    "**Induction to any number of $\\forall$ instance variables:**"
   ]
  },
  {
   "cell_type": "code",
   "execution_count": 6,
   "metadata": {},
   "outputs": [
    {
     "data": {
      "text/html": [
       "<strong id=\"forall_induction\"><a class=\"ProveItLink\" href=\"proofs/forall_induction/thm_proof.ipynb\">forall_induction</a> (conjecture without proof):<br></strong> <a class=\"ProveItLink\" href=\"../__pv_it/theorems/6713ae1db17bb7721808692f045c08ed2806e3d70/theorem_expr.ipynb\"><img src=\"data:image/png;base64,iVBORw0KGgoAAAANSUhEUgAAAlwAAABLCAMAAACSjqmIAAAAM1BMVEX///+wsLAQEBCIiIhmZma6\n",
       "urrMzMxUVFQiIiJERETc3Nzu7u6qqqp2dnaYmJgyMjIAAAAld9JPAAAAAXRSTlMAQObYZgAADNFJ\n",
       "REFUeNrtXYmWrCgMdQQFWZT//9rRcgNkCYtV9ezinOnp125IrknIJaRpMhru4+fIrilprZqbbCq0\n",
       "wo78ucaJOXyLIFrXEWdjpPDxaAKItBAYrWCM8RrYkj+8pLXOEC+f5SBa1xF3I2Xj3SsWx18pgNu+\n",
       "zkgFOoKmqX+PuNh4593FKo5xopV09GhjqG99RxyKry3qBY1jc4f6x8EV6shsL8+xGivKfyRKDYSQ\n",
       "Ca+qlw/3Ypewyg7AID3guhxxvX1bYHAkvRu99cAV7MgsCyn2f0y8prjVitphHeeJ3QsuPlUGlz1s\n",
       "J7ggkp3yrRZT8W98wM13gCvYkVkWbNcprKpy6bepiFBo+ZRxc3OTqPLUxVL4J7ggNqlT2bIb4ncX\n",
       "in8HuMIdWWSxK6xThVVx9FS3/X8BGWV3g4u3AXANOY83XR8NXBCnaJqyP8q44qIVPtUq4Ap3ZJHF\n",
       "KPnSGK0q7EFtztACssr3douz84OrH7I+S+YBl4hP5zqV+akCFNeo2HeAK9KRlyzUsDRaN16xuVxM\n",
       "LeBGG8I5QoR1aDNheRrKdwuJA2Yxyywb36UOLojqmPK+JwYIbNIa/ksNcEU68pIF6bNNR8zlEitk\n",
       "h1XV8/kfI0UNnbLViXmLa/BAAxemWlM458PkHnCNcadnVFneH45rpV513wGuWEdesuiwNt2q5nIR\n",
       "KSVGqxDoaiMkX6LdvOnmAewxzvm29VtYVowGHXoxJdsprpAHXMYR38VZ+kXFxYDb5jvAFevIKotF\n",
       "LKhukHMwvu1t8r78aTjGvMsBl3kL8zsKzxb5lBwc0r1yA1wQf33I8YxEHLVNS74EXLGOrLKQ4wqw\n",
       "mi6XcT9NrOfodbmPdAsgAi5GZLKwkYYPE1wojhwITi6NQKzi+B3ginZklQWbmp7s4SLcIwJ5cPDM\n",
       "3vRxqDgP9KXgOm4x4rFH+1xhu53uc01Gy9AjejzTBBck0qky3k+1SYj/KLiiHdlkMTCyRaV4Q6bm\n",
       "RdCRsM+qnRmIcu0mYhWF4POB9dpccOm3GLt2vm/LPA69ERnI8yg1xW+CC2KbpnQUCMC8IxarWEhc\n",
       "wd4ArmjQZJOF2J3r+YnTCwi9jNBjx5megeXXMMES+1nCXxuHvYGL7z7s8YvjT/sv+i0YR8sd9idh\n",
       "6QcXz2S2BuoD10ABX3ayXcSA6FhreJw2h7uRuITBwFVCLLcDDFy6G7N/bzQqD++XiSeliD6yK444\n",
       "QYgjvL/Grrno/iR6aIPjt/OX9STzFsszul3o6/ION7hI5mcqlQ9c2hG/+U5WlzQe4uC2cjM53I3E\n",
       "tef+zAOuAmKZR7XsLouR635xDwLXduaIxTjGIn8u+ucwiwLyXq6TlgGaFdaru5w2fnDleinj6SFa\n",
       "4BoB5KFSyfJqAZBF1r91DveIFltB5gm7wVVALPdRxWzJgqlGzpiXJ7jYwJ0/zjMFGuJzTVeEXOwX\n",
       "gagB6fK3l252otdGs+6aW20ALXD1AJs3pbLXHSA2JizLaXK4x1fMje72w0VVbD5XPrEsoibckgUn\n",
       "YyeR5Ce4+lYsP5j5Q+hnzjYnHmy/xP8Zppvp5BDXxHVSt9hMJEfdDtQFl6b6LXBxgOuNU4MGEsD9\n",
       "2CrT4HA1EnfSB4J0CLnBlU8sx3V3QBY71l34NP5GlwhsTKaBxYIgCYxA8FbOFlDEAy7tSMCjTwx3\n",
       "DgB/3g4AGBzuQeLuc6h9PnO1LftsMZtYjodEEPUsc+6Rwq83dc1qjb8tKQtCRhFy7zLnce0RqrbM\n",
       "eRfd4AVX3IJ1qZGuFmBHpenzmxzuHvNpzNXYi82z7d4OrmxiWVZYVDbm6ppHtHbygasFLKVP9egV\n",
       "QF7YPMfkcLVotaCGbVkC5U5wRYjlnuLFGKBrXA8r3vxaEbioF1y0DliMCQoAjERZltR4xMmz9ed5\n",
       "I3KEY44gqodY5kJivMRjh9diAcwjHXF3ltL7l4l+X+vm1wb4GbT1gYsC1ia0aYtjOkAkwpapZXmd\n",
       "4NqmZsQNLjexPA6C8eU6MUMTuybrEHDRP6uVILmrZeCa0qaLIyTqaloji8PVzOJJrontFJNdPcB1\n",
       "EssaV9sdtxW96BlygAtiFn/gCo6O1yxSCtEySZMwCVkCJo1JmsXhOh36HVQCO8F1EssaV3uiXPSz\n",
       "WRx7GenIF4KLvX9qcM50IeAqcujnj5uk0HcYErpAxozS4nC1AATe4XDGII1A6gmunVjWuFqOdXDN\n",
       "akviSEf84LonL/aq9t0k65vbwemCwOWNc0GW7L1UEZy+GyDg0pdPXzhczRgeISZynG8EUrVVEQfZ\n",
       "cHC1PX1Fvwa0gmvWATTYkRC47sqLvU6fXCTrm9sx7YaAyxuhbyCL8uXyvnD6boLcU4RletA/Bxq0\n",
       "03s3uA5i+eRqiaG5mq5HqR05YyD35MVegyZukvXNbed0AeDip9N0oX8A7hR6zeXA9N0EuWdk/aeH\n",
       "uHbo5N4RCml2rlYeR1fuxbEyAZRg2TR35cU6BttJsr5bdbVgcJUR17PloE0CfUdB/n9EvQ3OJTcg\n",
       "cOlc7SB2O7uSlCS5Iwe47smLdTgV+yzKJFnf3DZOFwAujfm3wCUgSa/jGriC0ncUtLqQhnGz+rED\n",
       "ywCXqQg2nyu7I+ds8Za8WJ/LZZGsd2bKuu0ihoJLm25fFgsC1K5YQ+4GfdfNbrvEg2sReQsKi2EV\n",
       "n4GP71jmjBUQXHfkxfpcLotkvTVTVn/6YIWAAOAi3pWokPj0Di6TvhtfN3LtkwQD11iH0ysHF6Aj\n",
       "60vekRfrcLlcJOutmbInNrQ7b5wuAFzaMnE7QQPyEXQbWWjQd4SsY+FQ7KD9JXolvgNcgI7Q5vr+\n",
       "t7lcLpL11kxZzRE977zRbnFwMc0JslPLEAxcrzc26Du6OsyDC1wgs/7PJMUeL31DXux18Hwk632Z\n",
       "ss1QAq6ipNi5/beBS8sLbfjrSuTKUFAwKhKrLwFXvCPbkNfPi3WoUR/Jel+mrBNcHdQs6vljJrgG\n",
       "CuvUpqsP+m7RZhJJd8gH5nPNd/iSjUjiHaFHfKRSXuwx47Sv9pCst2bKOsEFdui9G5E0MAO2+1xn\n",
       "XmjzSmspCkXU2futzhZKGAiuanmx2wOvV7tJVmimbCB3NpAp6wTXxulGwYW8Wygh2IztAJcGxsAu\n",
       "olBwVZkv1tn8jcPAVS0v9hg882ofyQrOlL3+EsmUJcsOEe3yYzTBtXG6UXAZDqsBLqBPfYLrzAsN\n",
       "TLEm6AqdVn4HuKIdOY1FpbxYD7hcj749U9apuXZONwauom0rN3C11xFjgdk00N79IxvuXqeIRXmx\n",
       "EmNM5/8ECFz3Z8rq4DrvDCSuzSxlHVwTEATjBVxoUpgVgwvcgbvBFeuIDa7ivFi45ro9U1YDl3Zn\n",
       "4JIbYfqMxlbhQMWB0nLLCDjPkZVDow64Ih0JvX5WXmwCuO7OlDU01wXRYXCVFTnYdGTaViQYvtOl\n",
       "oN8BrkhH/Acz82KxdXUQ+Lcvc76IawQucyaWwj/BRfANaFkVHfx0/C2FpYIdoXkKwo+Kz6wA9MI3\n",
       "cCg0LKMt57OwFBwBJG0PaZGi6AgqBFetknihjtDaeYt98y+0JW8xAK6ykninh54UM+hVyj7N+FuK\n",
       "eeJfMc+kxk12wSjmmfC1T2kLGJLT/3/tD7c2cYMupdhv0H4NqonSnBpaQkmX1GV9X03XdxZ1HWvv\n",
       "efRNrU81c6Rki/mSuqyv4nW5Fwfngu9OVTWLuj64tvuYuuMuUrgIXNn5p4sQbkpefXOqqrnD5IPB\n",
       "JVOxkrH/swGQ7PzTRQj3JK++PVXV2Bv3weAakle7J9jRC3VWUpf1JYRbklffnqpqFHV9MLho8uKF\n",
       "hKIblzSpkrqsLyHckrz6/lRVvajrc8HFVXLtOpng0dsWpqQu6yqEO5JX35+qqhd1fS64hErm/7rI\n",
       "JaH6pCV1WVch3JC8+oFUVb0G1HPBRTISDNuU4IVZnxRSl9W3fe4qhBuSVz+QqqoXdX0uuNoMMgcn\n",
       "xfSN+qTBuqyR7XM3IdRPXv1Aqqped/Ox4GIqY1VMl8Ilm/VJQ3VZY9vnbkKon7z6gVTVPwEulJV2\n",
       "3wYnAaH6pHZd1pTtczchVE9e/USqavcXzOLU5kESOh722h+7LmvK9rm7EGoXdf1EqupfcOhZ5mIp\n",
       "qDG91Ce16rImbZ+7C6F2UddPpKrqRV2fCq7c6iXQkjoXQ3Spy5qwfe4hhKpFXd+fqvoCdP94cHFF\n",
       "ci+EaTzWeACSs33uIYSHFXV9KLhQ9ro/lKvyOtsuN+Dtcx3XPqKo60PB1ebT/5nJ+vZApmyfa1/7\n",
       "lKKuzwRXyV4hmcn6wYGMbJ8buvZfLur6SHBxVZL4RbIWVHnrshZd+y8XdUXPXOZMygg6Kr7vlf52\n",
       "Udcval1hFk/f/oqw/ppP85Rq4+6XYvZrHo9Lt2r/AwGLlzmw2+PDAAAAAElFTkSuQmCC\n",
       "\" style=\"display:inline;vertical-align:middle;\" /></a><br>"
      ],
      "text/plain": [
       "forall_induction: forall_{P} ((P() and [forall_{n in Natural} ([forall_{x_{1}, ..x_{_a}.., x_{n}} P(x_{1}, ..x_{_a}.., x_{n})] =>  \\\\ [forall_{x_{1}, ..x_{_a}.., x_{n + 1}} P(x_{1}, ..x_{_a}.., x_{n + 1})])]) \\\\  => [forall_{n in Natural} [forall_{x_{1}, ..x_{_a}.., x_{n}} P(x_{1}, ..x_{_a}.., x_{n})]])"
      ]
     },
     "execution_count": 6,
     "metadata": {},
     "output_type": "execute_result"
    }
   ],
   "source": [
    "forall_induction = \\\n",
    "    Forall(P, Implies(And(Function(P, []),\n",
    "                          Forall(n, Implies(Forall(x_1_to_n, P__x_1_to_n),\n",
    "                                            Forall(x_1_to_np1, P__x_1_to_np1)) \\\n",
    "                                    .with_wrap_after_operator(),\n",
    "                                 domain=Natural)),\n",
    "                      Forall(n, Forall(x_1_to_n, P__x_1_to_n),\n",
    "                             domain=Natural)).with_wrap_before_operator())"
   ]
  },
  {
   "cell_type": "code",
   "execution_count": 7,
   "metadata": {},
   "outputs": [
    {
     "name": "stdout",
     "output_type": "stream",
     "text": [
      "These theorems may now be imported from the theory package: proveit.logic.booleans.quantification.universality\n"
     ]
    }
   ],
   "source": [
    "%end theorems"
   ]
  },
  {
   "cell_type": "code",
   "execution_count": null,
   "metadata": {},
   "outputs": [],
   "source": []
  }
 ],
 "metadata": {
  "kernelspec": {
   "display_name": "Python 3",
   "language": "python",
   "name": "python3"
  }
 },
 "nbformat": 4,
 "nbformat_minor": 0
}