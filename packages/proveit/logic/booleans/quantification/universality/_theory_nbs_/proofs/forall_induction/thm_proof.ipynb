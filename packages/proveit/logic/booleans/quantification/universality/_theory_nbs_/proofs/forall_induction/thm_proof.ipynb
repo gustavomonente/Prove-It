{
 "cells": [
  {
   "cell_type": "markdown",
   "metadata": {},
   "source": [
    "Proof of <a class=\"ProveItLink\" href=\"../../../../../../../_theory_nbs_/theory.ipynb\">proveit</a>.<a class=\"ProveItLink\" href=\"../../../../../../_theory_nbs_/theory.ipynb\">logic</a>.<a class=\"ProveItLink\" href=\"../../../../../_theory_nbs_/theory.ipynb\">booleans</a>.<a class=\"ProveItLink\" href=\"../../../../_theory_nbs_/theory.ipynb\">quantification</a>.<a class=\"ProveItLink\" href=\"../../theory.ipynb\">universality</a>.<a class=\"ProveItLink\" href=\"../../theorems.ipynb#forall_induction\">forall_induction</a> theorem\n",
    "========"
   ]
  },
  {
   "cell_type": "code",
   "execution_count": 1,
   "metadata": {},
   "outputs": [],
   "source": [
    "import proveit\n",
    "theory = proveit.Theory() # the theorem's theory"
   ]
  },
  {
   "cell_type": "code",
   "execution_count": 2,
   "metadata": {},
   "outputs": [
    {
     "data": {
      "text/html": [
       "Under these <a href=\"presumptions.txt\">presumptions</a>, we begin our proof of<br><strong id=\"forall_induction\">forall_induction:</strong> <a class=\"ProveItLink\" href=\"../../../__pv_it/theorems/02bd8ec7352b3215664078f13a142f3b79fdd9ec0/expr.ipynb\"><img src=\"data:image/png;base64,iVBORw0KGgoAAAANSUhEUgAAAlwAAABLCAMAAACSjqmIAAAAM1BMVEX///+wsLAQEBCIiIhmZma6\n",
       "urrMzMxUVFQiIiJERETc3Nzu7u6qqqp2dnaYmJgyMjIAAAAld9JPAAAAAXRSTlMAQObYZgAADNFJ\n",
       "REFUeNrtXYmWrCgMdQQFWZT//9rRcgNkCYtV9ezinOnp125IrknIJaRpMhru4+fIrilprZqbbCq0\n",
       "wo78ucaJOXyLIFrXEWdjpPDxaAKItBAYrWCM8RrYkj+8pLXOEC+f5SBa1xF3I2Xj3SsWx18pgNu+\n",
       "zkgFOoKmqX+PuNh4593FKo5xopV09GhjqG99RxyKry3qBY1jc4f6x8EV6shsL8+xGivKfyRKDYSQ\n",
       "Ca+qlw/3Ypewyg7AID3guhxxvX1bYHAkvRu99cAV7MgsCyn2f0y8prjVitphHeeJ3QsuPlUGlz1s\n",
       "J7ggkp3yrRZT8W98wM13gCvYkVkWbNcprKpy6bepiFBo+ZRxc3OTqPLUxVL4J7ggNqlT2bIb4ncX\n",
       "in8HuMIdWWSxK6xThVVx9FS3/X8BGWV3g4u3AXANOY83XR8NXBCnaJqyP8q44qIVPtUq4Ap3ZJHF\n",
       "KPnSGK0q7EFtztACssr3douz84OrH7I+S+YBl4hP5zqV+akCFNeo2HeAK9KRlyzUsDRaN16xuVxM\n",
       "LeBGG8I5QoR1aDNheRrKdwuJA2Yxyywb36UOLojqmPK+JwYIbNIa/ksNcEU68pIF6bNNR8zlEitk\n",
       "h1XV8/kfI0UNnbLViXmLa/BAAxemWlM458PkHnCNcadnVFneH45rpV513wGuWEdesuiwNt2q5nIR\n",
       "KSVGqxDoaiMkX6LdvOnmAewxzvm29VtYVowGHXoxJdsprpAHXMYR38VZ+kXFxYDb5jvAFevIKotF\n",
       "LKhukHMwvu1t8r78aTjGvMsBl3kL8zsKzxb5lBwc0r1yA1wQf33I8YxEHLVNS74EXLGOrLKQ4wqw\n",
       "mi6XcT9NrOfodbmPdAsgAi5GZLKwkYYPE1wojhwITi6NQKzi+B3ginZklQWbmp7s4SLcIwJ5cPDM\n",
       "3vRxqDgP9KXgOm4x4rFH+1xhu53uc01Gy9AjejzTBBck0qky3k+1SYj/KLiiHdlkMTCyRaV4Q6bm\n",
       "RdCRsM+qnRmIcu0mYhWF4POB9dpccOm3GLt2vm/LPA69ERnI8yg1xW+CC2KbpnQUCMC8IxarWEhc\n",
       "wd4ArmjQZJOF2J3r+YnTCwi9jNBjx5megeXXMMES+1nCXxuHvYGL7z7s8YvjT/sv+i0YR8sd9idh\n",
       "6QcXz2S2BuoD10ABX3ayXcSA6FhreJw2h7uRuITBwFVCLLcDDFy6G7N/bzQqD++XiSeliD6yK444\n",
       "QYgjvL/Grrno/iR6aIPjt/OX9STzFsszul3o6/ION7hI5mcqlQ9c2hG/+U5WlzQe4uC2cjM53I3E\n",
       "tef+zAOuAmKZR7XsLouR635xDwLXduaIxTjGIn8u+ucwiwLyXq6TlgGaFdaru5w2fnDleinj6SFa\n",
       "4BoB5KFSyfJqAZBF1r91DveIFltB5gm7wVVALPdRxWzJgqlGzpiXJ7jYwJ0/zjMFGuJzTVeEXOwX\n",
       "gagB6fK3l252otdGs+6aW20ALXD1AJs3pbLXHSA2JizLaXK4x1fMje72w0VVbD5XPrEsoibckgUn\n",
       "YyeR5Ce4+lYsP5j5Q+hnzjYnHmy/xP8Zppvp5BDXxHVSt9hMJEfdDtQFl6b6LXBxgOuNU4MGEsD9\n",
       "2CrT4HA1EnfSB4J0CLnBlU8sx3V3QBY71l34NP5GlwhsTKaBxYIgCYxA8FbOFlDEAy7tSMCjTwx3\n",
       "DgB/3g4AGBzuQeLuc6h9PnO1LftsMZtYjodEEPUsc+6Rwq83dc1qjb8tKQtCRhFy7zLnce0RqrbM\n",
       "eRfd4AVX3IJ1qZGuFmBHpenzmxzuHvNpzNXYi82z7d4OrmxiWVZYVDbm6ppHtHbygasFLKVP9egV\n",
       "QF7YPMfkcLVotaCGbVkC5U5wRYjlnuLFGKBrXA8r3vxaEbioF1y0DliMCQoAjERZltR4xMmz9ed5\n",
       "I3KEY44gqodY5kJivMRjh9diAcwjHXF3ltL7l4l+X+vm1wb4GbT1gYsC1ia0aYtjOkAkwpapZXmd\n",
       "4NqmZsQNLjexPA6C8eU6MUMTuybrEHDRP6uVILmrZeCa0qaLIyTqaloji8PVzOJJrontFJNdPcB1\n",
       "EssaV9sdtxW96BlygAtiFn/gCo6O1yxSCtEySZMwCVkCJo1JmsXhOh36HVQCO8F1EssaV3uiXPSz\n",
       "WRx7GenIF4KLvX9qcM50IeAqcujnj5uk0HcYErpAxozS4nC1AATe4XDGII1A6gmunVjWuFqOdXDN\n",
       "akviSEf84LonL/aq9t0k65vbwemCwOWNc0GW7L1UEZy+GyDg0pdPXzhczRgeISZynG8EUrVVEQfZ\n",
       "cHC1PX1Fvwa0gmvWATTYkRC47sqLvU6fXCTrm9sx7YaAyxuhbyCL8uXyvnD6boLcU4RletA/Bxq0\n",
       "03s3uA5i+eRqiaG5mq5HqR05YyD35MVegyZukvXNbed0AeDip9N0oX8A7hR6zeXA9N0EuWdk/aeH\n",
       "uHbo5N4RCml2rlYeR1fuxbEyAZRg2TR35cU6BttJsr5bdbVgcJUR17PloE0CfUdB/n9EvQ3OJTcg\n",
       "cOlc7SB2O7uSlCS5Iwe47smLdTgV+yzKJFnf3DZOFwAujfm3wCUgSa/jGriC0ncUtLqQhnGz+rED\n",
       "ywCXqQg2nyu7I+ds8Za8WJ/LZZGsd2bKuu0ihoJLm25fFgsC1K5YQ+4GfdfNbrvEg2sReQsKi2EV\n",
       "n4GP71jmjBUQXHfkxfpcLotkvTVTVn/6YIWAAOAi3pWokPj0Di6TvhtfN3LtkwQD11iH0ysHF6Aj\n",
       "60vekRfrcLlcJOutmbInNrQ7b5wuAFzaMnE7QQPyEXQbWWjQd4SsY+FQ7KD9JXolvgNcgI7Q5vr+\n",
       "t7lcLpL11kxZzRE977zRbnFwMc0JslPLEAxcrzc26Du6OsyDC1wgs/7PJMUeL31DXux18Hwk632Z\n",
       "ss1QAq6ipNi5/beBS8sLbfjrSuTKUFAwKhKrLwFXvCPbkNfPi3WoUR/Jel+mrBNcHdQs6vljJrgG\n",
       "CuvUpqsP+m7RZhJJd8gH5nPNd/iSjUjiHaFHfKRSXuwx47Sv9pCst2bKOsEFdui9G5E0MAO2+1xn\n",
       "XmjzSmspCkXU2futzhZKGAiuanmx2wOvV7tJVmimbCB3NpAp6wTXxulGwYW8Wygh2IztAJcGxsAu\n",
       "olBwVZkv1tn8jcPAVS0v9hg882ofyQrOlL3+EsmUJcsOEe3yYzTBtXG6UXAZDqsBLqBPfYLrzAsN\n",
       "TLEm6AqdVn4HuKIdOY1FpbxYD7hcj749U9apuXZONwauom0rN3C11xFjgdk00N79IxvuXqeIRXmx\n",
       "EmNM5/8ECFz3Z8rq4DrvDCSuzSxlHVwTEATjBVxoUpgVgwvcgbvBFeuIDa7ivFi45ro9U1YDl3Zn\n",
       "4JIbYfqMxlbhQMWB0nLLCDjPkZVDow64Ih0JvX5WXmwCuO7OlDU01wXRYXCVFTnYdGTaViQYvtOl\n",
       "oN8BrkhH/Acz82KxdXUQ+Lcvc76IawQucyaWwj/BRfANaFkVHfx0/C2FpYIdoXkKwo+Kz6wA9MI3\n",
       "cCg0LKMt57OwFBwBJG0PaZGi6AgqBFetknihjtDaeYt98y+0JW8xAK6ykninh54UM+hVyj7N+FuK\n",
       "eeJfMc+kxk12wSjmmfC1T2kLGJLT/3/tD7c2cYMupdhv0H4NqonSnBpaQkmX1GV9X03XdxZ1HWvv\n",
       "efRNrU81c6Rki/mSuqyv4nW5Fwfngu9OVTWLuj64tvuYuuMuUrgIXNn5p4sQbkpefXOqqrnD5IPB\n",
       "JVOxkrH/swGQ7PzTRQj3JK++PVXV2Bv3weAakle7J9jRC3VWUpf1JYRbklffnqpqFHV9MLho8uKF\n",
       "hKIblzSpkrqsLyHckrz6/lRVvajrc8HFVXLtOpng0dsWpqQu6yqEO5JX35+qqhd1fS64hErm/7rI\n",
       "JaH6pCV1WVch3JC8+oFUVb0G1HPBRTISDNuU4IVZnxRSl9W3fe4qhBuSVz+QqqoXdX0uuNoMMgcn\n",
       "xfSN+qTBuqyR7XM3IdRPXv1Aqqped/Ox4GIqY1VMl8Ilm/VJQ3VZY9vnbkKon7z6gVTVPwEulJV2\n",
       "3wYnAaH6pHZd1pTtczchVE9e/USqavcXzOLU5kESOh722h+7LmvK9rm7EGoXdf1EqupfcOhZ5mIp\n",
       "qDG91Ce16rImbZ+7C6F2UddPpKrqRV2fCq7c6iXQkjoXQ3Spy5qwfe4hhKpFXd+fqvoCdP94cHFF\n",
       "ci+EaTzWeACSs33uIYSHFXV9KLhQ9ro/lKvyOtsuN+Dtcx3XPqKo60PB1ebT/5nJ+vZApmyfa1/7\n",
       "lKKuzwRXyV4hmcn6wYGMbJ8buvZfLur6SHBxVZL4RbIWVHnrshZd+y8XdUXPXOZMygg6Kr7vlf52\n",
       "Udcval1hFk/f/oqw/ppP85Rq4+6XYvZrHo9Lt2r/AwGLlzmw2+PDAAAAAElFTkSuQmCC\n",
       "\" style=\"display:inline;vertical-align:middle;\" /></a><br>(see <a class=\"ProveItLink\" href=\"../../../__pv_it/theorems/6713ae1db17bb7721808692f045c08ed2806e3d70/dependencies.ipynb\">dependencies</a>)<br>"
      ],
      "text/plain": [
       "forall_induction: forall_{P} ((P() and [forall_{n in Natural} ([forall_{x_{1}, ..x_{_a}.., x_{n}} P(x_{1}, ..x_{_a}.., x_{n})] =>  \\\\ [forall_{x_{1}, ..x_{_a}.., x_{n + 1}} P(x_{1}, ..x_{_a}.., x_{n + 1})])]) \\\\  => [forall_{n in Natural} [forall_{x_{1}, ..x_{_a}.., x_{n}} P(x_{1}, ..x_{_a}.., x_{n})]])"
      ]
     },
     "execution_count": 2,
     "metadata": {},
     "output_type": "execute_result"
    }
   ],
   "source": [
    "%proving forall_induction"
   ]
  },
  {
   "cell_type": "code",
   "execution_count": null,
   "metadata": {},
   "outputs": [],
   "source": []
  }
 ],
 "metadata": {
  "kernelspec": {
   "display_name": "Python 3",
   "language": "python",
   "name": "python3"
  }
 },
 "nbformat": 4,
 "nbformat_minor": 0
}