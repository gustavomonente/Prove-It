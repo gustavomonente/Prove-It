{
 "cells": [
  {
   "cell_type": "markdown",
   "metadata": {},
   "source": [
    "Proof of <a class=\"ProveItLink\" href=\"../../../../../../../_theory_nbs_/theory.ipynb\">proveit</a>.<a class=\"ProveItLink\" href=\"../../../../../../_theory_nbs_/theory.ipynb\">logic</a>.<a class=\"ProveItLink\" href=\"../../../../../_theory_nbs_/theory.ipynb\">booleans</a>.<a class=\"ProveItLink\" href=\"../../../../_theory_nbs_/theory.ipynb\">quantification</a>.<a class=\"ProveItLink\" href=\"../../theory.ipynb\">universality</a>.<a class=\"ProveItLink\" href=\"../../theorems.ipynb#bundling\">bundling</a> theorem\n",
    "========"
   ]
  },
  {
   "cell_type": "code",
   "execution_count": 1,
   "metadata": {},
   "outputs": [],
   "source": [
    "import proveit\n",
    "theory = proveit.Theory() # the theorem's theory"
   ]
  },
  {
   "cell_type": "code",
   "execution_count": 2,
   "metadata": {},
   "outputs": [
    {
     "data": {
      "text/html": [
       "Under these <a href=\"presumptions.txt\">presumptions</a>, we begin our proof of<br><strong id=\"bundling\">bundling:</strong> <a class=\"ProveItLink\" href=\"../../../__pv_it/theorems/6b7fce66fd571c9238b71a239a34cda27ecd1ca90/expr.ipynb\"><img src=\"data:image/png;base64,iVBORw0KGgoAAAANSUhEUgAAA6QAAAAzBAMAAAByGtiIAAAAMFBMVEX///8QEBCIiIhmZma6urrM\n",
       "zMxUVFQiIiJERETc3Nzu7u6qqqp2dnaYmJgyMjIAAAAcRTyBAAAAAXRSTlMAQObYZgAADYJJREFU\n",
       "eNrtnH2MHGUdx3+3O7Pvu3cxlMiLydIzpZ6UW3mNUspSk7ZG6+3VhDSx4TanBUsQNlA5FYQVk3Kg\n",
       "tYsaLDV449UcUoVbwIolNKw9/accdE2rorZ0DWiiiXK0BWl5qc/bzDwzz8w+z/Ru9jDlSe52bu73\n",
       "7PPc85nn7ft89wDCTteP1KADKTbyNTitkjZyB/maXeo6ebKhGpspsotKZ/7COJx26QH2hdMEe913\n",
       "8rVgSHc9aKjGTsP7SDuIVGvR10cefDwY0pJyaKR8GiN9KPQSdrmRwkvmxWBYSO1npQLkAToUOtIc\n",
       "fsk2549k9uY3r7vpEwCpavgrh5obaaIRMtLUGRzS5/DLv0JHmqmjl5wxj72zGz283zQgF/56MNVy\n",
       "I7VaPCykiQKHdCv6nqyGjpQUsXU+B9wh1FOezcP+DhS1x43UGhfDQvqswSHFPYd0oZDnUjwQPDef\n",
       "SPvRKr+/AZ3YTf1EQBpvhIv0VuCQZvfu2PHDDiyPDu7Y8UhlPpFuQV83F5OdqEOu6EaaPh4q0uxx\n",
       "Him8OTp6RweQdo+O3tOYT6TvognmKETQpJNauGH5nvazoRAxfhEkz26XhQ/IFNxIzW4UEtJ41YF0\n",
       "PcC9p9JE8mVGiUcaK0Ei8MokOXuSZiX0twGeakACLbp/AX/K3wmw1j8Ti+BS42qIzLTLQgNYp2kJ\n",
       "SA8bYSIdKjqQfpKu0BQSyxdZOoXnX3n8L3mkWgEeUy9E2/KFL+VRO80eqVmJyBvTU32oJmjZsBf2\n",
       "GZ+Cz13un4lG8M9WfRkkqm2y0ABzmK0ISCfzYSL9GDiQxiGiuF2kNU6+AjoaYTbI46M1XmqowBL1\n",
       "QuD3AHfQDd4sk1mJxAnaSuiRMWAUX670z8QiuJEYPgDd+TZZWAAbEWYEpLlWmEjPdCLNNFW1Hdra\n",
       "96M2ugx0hQ6UKvNIn1eTqhjSywCuh3VzsUlkleiuWEgBjkiQsgguaSdgqNQuCw3wRRo5HiJS/R0n\n",
       "0mTrmkBIv0H6UEyltH/ySH+slwMgvQXQY79+LpZFrBJDdDOOB17QX5chJRH7/7CwsJDVIdqC89pm\n",
       "IQE4B8YrDrzJd0JEGjnuRAr3fhHvji9dJOZ33SStHenBezwMKdO7xqPN+TxLeKSJB1AHWV6GrwvP\n",
       "9yKIGy6kqddhex7XzrNezpIl77nE3pbiWqBJ5mm0julry4dGHPgQnGksYuN2GTa1zUICUI6zvJdH\n",
       "bGwMB2mix4X0SfQtYtwUL8INLvjkpgtpDve1ZYC2sn2x1kaIGW3y/IpHmsZri8YJvcddTKbbGHT3\n",
       "Uu1I71mA9pCe9aIl22vN9u/JKvGqYe4vtLcSM8km5TOJGj/1rvuCRiTHK3AMltLb0bL2jkcW+ycc\n",
       "gHPgKTvaEJHew5CSOfWQMlIlbbyr6kKKZ3Ud/g2wzrXxIjfdSLvxJHourELbg1wT9N8YbfKs4pHi\n",
       "6Sn500qk6i5m20pY7EaaacHloFW960VKtoc0yXvSSiw7OUyflQqkhvt6D7GBN4779234omxeoDss\n",
       "IpZHz8rtACMGvtV73CsL+WYFxPIa7jC5koh0H0MaRFNHSJW08cmCC2mWZMDDsTB+HReRdqEHINsD\n",
       "KzBdtFCKG23yXOtA+hfy/MbyQjFLYdiNNNGAw6CV/erVzS+FJe95rfMXtiBIRtGnxUGXa9FINTlT\n",
       "grTBJku/LFZAVynaQDgfBhHp4RJFGkRTR0iVtPGhvAspW6TpYtPhm/t37//877jWjpUfrd9fJJvu\n",
       "IbSPF5DyeVY4kJKLIqqmu5iNsCB7xaEGj7S7jvZaetWnXrhklOPSZ0oK77nC+Qtbtn+KjNqiZmBd\n",
       "jaFel602yBb8Jpgs+maxAsYg/umSl2xvNvtgIE0dz6Uq2vizdQ+kY5lWhjTdViN5n/mN3Hyi1VV/\n",
       "hmvt1IL8X1/BD2Jy5gX012GkvnkOikhLA0Ix8BVtJr3YrApFOmTA9fq2il0vOzx5Hyk5fSGck27g\n",
       "+5L3POhaSpgd/Pt3oX6cygubHvvOCsjVkjcaME7W+Xf7ZrEDVkDkea/DNWtwHAykqWOkKtr44ZIH\n",
       "0okDe/aSdhms62fBYA1/q5ObsdLDcAnf2tu/cx3UEMrUlz9zgUGQ+ua5RECqDX9XKAZWLG7Ber3K\n",
       "FZK5awOsXYgCrXrp57Dwmn4OLXl9qhIt4vuS97zEhcwx6GVFBVxsMTxxL+8tqQbQp8aNtLvMVrwB\n",
       "NHWMVEUb7695Dbwk4dHL7sN1RuNJqNT5LSNcg9aLERZHBl6/PC0B6SOwWSgmVUM7i0rkgGNfStJH\n",
       "uXql7ZmLVT1diKfxT5L3dKud4RtV/gxeSKsMqVRTbziQMm181RtTmwxLjbUUU7b0MvyQrjlah7QF\n",
       "nF1NwIdhuOZo7bG/GeYPev8V4Jsn3RSQ3qi1hGJijc9Cqpx+XkSasOtFDT0k7WKqUKQY+wj+qf17\n",
       "pufJHONG2tViSKWaesGBlGnjaEWaqVhqrKmYsnQVj3TE7ePNthmBzNZO4E3hanme7bZsb/p4V0+L\n",
       "WbSDDY9CyKPYdA5u7iv6U/v33D4vQLWR28gXh7TCkPpq6vqtv4Xzym6kTBuPlclBD1VjLcWUpZtP\n",
       "uZ4Fx8JdLqn3zbqQXbNv3D54b6R4D0Pqran/fOpK+HXGiBoCUqqNx5vkoIeqsZZiqoT0tPPFh5FW\n",
       "jjT8kXpq6tlvbzNgd76QgamLb724ziOl2vhkDc43TDXWUky9Bl6x5PeBzEFKiicUcXPgJZp69so1\n",
       "vRGiXuMrPMGitHPn9zLCXEq1cRjYM1231FhTMbWWR7XTGGky9MUSmZA8kFrLI6KpZ69udt1AHPL4\n",
       "qkaX5Tszj64TkRJtHF4ATo01FVNrE1OSIA0iLP+/pD+e3HTdy2h4+ln4RW3wQWruS4mmvu186C5i\n",
       "dZ9cGSmCcSc0pkSk9Oj2W8CpsaZiakkNRQnSjpi1O53eRa1wNneCG156zBtpd8FESjT1YXRJzm7R\n",
       "1dWgf3V09G6E9KG4B1KsjcNbwKmxpmJqCYIypB0xa3c4YTNZ+ghkC+EXlcl7Ip1smEhJWgCLYUyn\n",
       "V0t1KNNeqq0B3oVnn5fq+PRiq8HU2K0GVUzNKXSoKUHaEbN2h1PkGPp6G+Id+DRtqscTqSnbszl9\n",
       "BvXOFzNYkp6BjTuBHIwccAvSNtILj9aw4snU2ME6U0wdI0AbpB0xa3c4JdA2PXYMOvJnveKJlJ6W\n",
       "mEi1MpoDHtiL4KCrC9CeE/1Wu7MIMR+kNOG3wGosuDpcvCVb8XbCrN3hhD/jNFYAtF2A8UU/uCDf\n",
       "NliMkBmzU715uN/cHE55IqUbDcGoYsJZjOZScUlVEhfTWI11yzzRGXfOF/6D08sW0lM1a8tSEDO3\n",
       "Wrx0CrWGvQak0WO6GbV+I3sLeqp1/8UCi+CTzJid0XqoAoDTS55IqcIz6LXl8U0upETxxGqsW6vN\n",
       "npD1UnWztiyxlVhAMzc7ZcjMvvy0uRTsv3H6IlSF29G7GpkTWk2/2P8MkkY4drMyY/aPoi3b+fuU\n",
       "J9IPeiLNQgCk/k/uWzKk6mZtWaJdIbCZm54ybJiDCnycvW6ho+IZ2ENNTPGaP9KUbZu37kiM2Qba\n",
       "MFrO3yEvpMkjnkhhTpA6rNmeSNXN2mpIA5u5ySmDSrw0mf/44r9gIqVb/XZIwbbNm0lqzB4wqDfY\n",
       "F2mo1my4ynsu/YeFVN2srYY0sJmbnDLESnNQAfaZb/0o/fF20uQlGVIcYauwoGDMXgaRHqrWkjAR\n",
       "aaISJtKBoqSXqpq1nZ5qlhxGaYI0sJmbnjIoxcvqwGYQvC3FaTN28/VDxGiHlEbYKiwoGLM3oRCq\n",
       "1vosj1jHD+vDiAUZUkWzNvE/u73ZxCjtQBrYzE1PGZTiZXVI07bNnbD2FwP1LdirgpGKnmxyQSNM\n",
       "FZYYsC1jtjPSdmhfBgNNotYC9pt6IO03wkTadskbNx8pBbM29j+7vdnEKO1EGtjMTU8ZlOJlddDI\n",
       "a/TVN2gnQVAmFo5f2WQDL7ZU257sMrvDIpgKS5zYtjHbkcXycqM8V9WIWovS372QsgVMWB/sP1eG\n",
       "VNWsjf3P7mGPGKUdSNFqMJiZm54yKMXL6qA7d2O2IEiQpg1x0AW3Cvu0OZsSpGIWFrCMqbWQqngg\n",
       "DfmD/fy/3/BGSltDbtbeiP4Kd3Nio/T+3Qc5pIHN3PSUQSleVgfN2ba2bI8/1eux87XvmCosMezZ\n",
       "xmyPzTIKiLVSx4Cqtd6yfa4QLtJcQQGp1KxN/c+4OXnbNDFKP1GNc0iDmbmtUwaVeGkdsq6dkKmK\n",
       "JS/HQ/G4qAXa6y6mwhIntm3MFrPggHgzkQeq1nofrj1uhIs0uUABqdSszfzPqDl52zQxSsdKa/lN\n",
       "TCAzt3XKoBIvrUPUtbp3HoGLgop4h+g7tu/aO0BbeKnjqXEjDf1fWdGPdsgGXpLambWp/xm3OG+b\n",
       "xkbpOCwpckiDmbnNXynFy+qQcz/NoRtVsl5GlVghbKTRsiLSdmZt6n8m3mzeNo2N0hPwTNOBNICZ\n",
       "2/6VSrysDrthXpIb6YtwakgD/PPWYdVeCv7Ga87/zNumV08L6lEgM7d9Y/Xs65AqvCeQnvI/bw3w\n",
       "L5ajvgJSfE59vLMyc6dnf7gWMeaF6MoRJ9IJVo19J1/7H8zQPOGJo5vNAAAAAElFTkSuQmCC\n",
       "\" style=\"display:inline;vertical-align:middle;\" /></a><br>(see <a class=\"ProveItLink\" href=\"../../../__pv_it/theorems/43a3a84abe0ff08261d603fb1ba619a13f2ea2560/dependencies.ipynb\">dependencies</a>)<br>"
      ],
      "text/plain": [
       "bundling: forall_{m, n in NaturalPos} [forall_{P, Q, R} ([forall_{x_{1}, ..x_{_a}.., x_{m} | Q(x_{1}, ..x_{_a}.., x_{m})} [forall_{y_{1}, ..y_{_a}.., y_{n} | R(x_{1}, ..x_{_a}.., x_{m}, y_{1}, ..y_{_a}.., y_{n})} P(x_{1}, ..x_{_a}.., x_{m}, y_{1}, ..y_{_a}.., y_{n})]] \\\\  = [forall_{x_{1}, ..x_{_a}.., x_{m}, y_{1}, ..y_{_a}.., y_{n} | Q(x_{1}, ..x_{_a}.., x_{m}), R(x_{1}, ..x_{_a}.., x_{m}, y_{1}, ..y_{_a}.., y_{n})} P(x_{1}, ..x_{_a}.., x_{m}, y_{1}, ..y_{_a}.., y_{n})])]"
      ]
     },
     "execution_count": 2,
     "metadata": {},
     "output_type": "execute_result"
    }
   ],
   "source": [
    "%proving bundling"
   ]
  },
  {
   "cell_type": "code",
   "execution_count": null,
   "metadata": {},
   "outputs": [],
   "source": []
  }
 ],
 "metadata": {
  "kernelspec": {
   "display_name": "Python 3",
   "language": "python",
   "name": "python3"
  }
 },
 "nbformat": 4,
 "nbformat_minor": 0
}