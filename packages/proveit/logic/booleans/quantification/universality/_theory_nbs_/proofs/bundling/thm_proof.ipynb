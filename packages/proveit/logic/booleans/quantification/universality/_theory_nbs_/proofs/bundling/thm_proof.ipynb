{
 "cells": [
  {
   "cell_type": "markdown",
   "metadata": {},
   "source": [
    "Proof of <a class=\"ProveItLink\" href=\"../../../../../../../_theory_nbs_/theory.ipynb\">proveit</a>.<a class=\"ProveItLink\" href=\"../../../../../../_theory_nbs_/theory.ipynb\">logic</a>.<a class=\"ProveItLink\" href=\"../../../../../_theory_nbs_/theory.ipynb\">booleans</a>.<a class=\"ProveItLink\" href=\"../../../../_theory_nbs_/theory.ipynb\">quantification</a>.<a class=\"ProveItLink\" href=\"../../theory.ipynb\">universality</a>.<a class=\"ProveItLink\" href=\"../../theorems.ipynb#bundling\">bundling</a> theorem\n",
    "========"
   ]
  },
  {
   "cell_type": "code",
   "execution_count": 1,
   "metadata": {},
   "outputs": [],
   "source": [
    "import proveit\n",
    "theory = proveit.Theory() # the theorem's theory"
   ]
  },
  {
   "cell_type": "code",
   "execution_count": 2,
   "metadata": {},
   "outputs": [
    {
     "data": {
      "text/html": [
       "Under these <a href=\"presumptions.txt\">presumptions</a>, we begin our proof of<br><strong id=\"bundling\">bundling:</strong> <a class=\"ProveItLink\" href=\"../../../__pv_it/theorems/949c816bc2432f2b61590b2527a1f8325776039c0/expr.ipynb\"><img src=\"data:image/png;base64,iVBORw0KGgoAAAANSUhEUgAAA7gAAAAzBAMAAABPiLnuAAAAMFBMVEX///8QEBCIiIhmZma6urrM\n",
       "zMxUVFQiIiJERETc3Nzu7u6qqqp2dnaYmJgyMjIAAAAcRTyBAAAAAXRSTlMAQObYZgAADfJJREFU\n",
       "eNrtnA+MHFUdx3+3O7N/ZnfvLoZiWtAsd6bUSrnlXyvSPwsmvRqF7tWE1Nh4m8OCJQgrYE9LgbMm\n",
       "7VVRtmigYEqHYoqtQlewIoTateefpBS6pDX+ocga0QQTcWmhoS1Q39/ZN2/+vNmys0csL7ndud33\n",
       "m/dmPvP+fec7C9CRdN1ouRPFxEa/CadV0kZXAwyOVtuwq66TJwPvJp0X/yt15ljjcNqle9Ffsih8\n",
       "YLB/9p98vTW4T91vBs27Dz6AOylw4Sr6tu3+n7cGtxA4a6R4usNN1sIu4Sl3uJk62xgKC6501ZSg\n",
       "m5RbCx0uObKXJo9p5qa3rr3xU2jjJ+HPMMqucOGukOEaZ8hw0xX01m2GDvdZ/P7vSWyxPejy+hY6\n",
       "zldDL8mou8N9KB8u3EROhpscQ28bw++WcRGkrMlKw2jOuTsLmVz4Re1xh5vqDRfublOGS1rTs+HD\n",
       "xZ0D6SUmKw2gdjNQhXgH1n4PucOF1eHCvQUccA9t376tFD7czN7t2++bzInU3ejvpjx0og7deXe4\n",
       "u8thws0cc8LtGR9fVw0fLrw1Pr56MuG+i072EYB+tLll+g/Py/qOmn0rrthj/6Q/Cxv8ZiZbLoTk\n",
       "NK4l5NzhxnNhwo2POeHGCpA4la5KHVOwwV0OsL7lZct7Z8orob8N8CS6iL+HQFUzN8froHvPAH4G\n",
       "f8reYfskrfXCgF9I9XKINIRFjxvczPEw4Q7nnXC1HDwWLFpjS+W5E3j8VOf/hQ3up+ksUpVoDbW7\n",
       "r/kKaltt6FF4JSJH903MRO+3oaqb6eNaWb/IezDaC/vNz9g++VG0DuM+IcnKfEhw9KmSO1zjcJhw\n",
       "LwAnXPQ3K+BUmx7GK6Cj/meFOn+0LMKNQyTIapqdoBfw9CPWhskPr0SCthpAa0GDYtC84ZowLn/S\n",
       "lYXDPiEGfAh6eFevN9zhwmthwj3TDe5zQXUqCncDOluzQQ/QqIyiCDddC6RTMbizAa6DZe1YdLJK\n",
       "9JQsuEAxaH6HfVj+YLGpv+kXoh2H4YIK7kA5PLj6O25wH9SLrcC9nbSrWJAiXxXhJutXtwD3ZkBN\n",
       "YXk7JlKsEsNsfXsb+aeggItAAhz4Y1+uj9dhPkR6/UJQt30OiWB7doW7uRYe3MgxN7iJe9E4l+5f\n",
       "4jyVey6ZXpDhRvBKfADjcg2xxcwS4cL6L6PDng5xx5zziiKskuAab8LDWVw7qQpsdmMr2RbO21Gz\n",
       "nFnNZS5OaEKVMgcgYvqRehrNjWbCwY/AmeZ09tFaSBT9QtC3a3HEVJ8JFXQVw4Ob6HWDm5qDXmbG\n",
       "6rdCzH7eI+aN8bwMt7tILuP73EPsMb+0wX0CFZbuMYccMdXjeq8EVzvcPxWSJba766Vak5Lt4VIW\n",
       "Uo6tEv9lhU6gHrZyN2yi7WsHwmCgRRLZsP7TTiQayVpySwnegLnsu9mwuGaF2OPIRrSovYMj8NAe\n",
       "rXrATZQoXDKzfCkw3ED6f9eYG1wyvhS6a6D/xn7WdfiPs1vuwYPt2bDIPcQes8gGFw90DwzCDDkm\n",
       "+eNSZEyCm67DHNDG6O6WTZOXN901KVzOgsuxVWL+yRH67yDA1r4t82oUbhy3+ZW4hkX+MmqCMTKz\n",
       "H536WBZdNbexTFv7FpSbISTnSiEExfQfQxEavky7Cx5w0w0KtxWhHcENpP/vyLnC/Ss59Wisd/SY\n",
       "x5xw0awRMr2w0CtEjPmSDW4GZ50LI46YaDWWleAmqvAyaEW2O0ev21OWw+UsuBypEqwqVijpY592\n",
       "nKSU2TytkbFko8AzzVeEoFG3qxCtovyPeMiPkHmTwm1FaEdwA+n/w1lXuPQ7tNyXz7re0OHArgNf\n",
       "/J0AN1Z8tLIhD0s9QmwxC21wSboVpjhi4vmuwoFdh0S4PRW0bMOSAd6dEy4qOXPZS5c8U+Dhjiyo\n",
       "HJSjKlaCnV/rAserUZeVdHMBvxm1xMxYlWSK1Y03fENuhB15FBH/bMHzxgE6msMUbitCOx5zg+j/\n",
       "uytecJON51Gl0VlPfgc2muRlo7k5XU/D4/WuyjMCXGNK9sVX8MVphfAA8mKLOeSE+3WtYS8GvcQL\n",
       "i+HxsbgId9iE6/QHSkB2h8mJAaTk1PlwVqoKLNyeZaOJy0nNIId3SDpkLpMl5xzNguFUIbdYWwuh\n",
       "u5y8wSSZ4rVE1jfkdliDIyLPed/yQ98coXBbEdox3CD6/8sFL7jGVz93nonPun4WDJX1qehlqLL1\n",
       "4J69aM3zCFwsLoUevutaKKOsVggMVUgAfrHHXOyEu3BG3V4M2tJGvo9Clgpw03eugKV9iBjZHSYn\n",
       "BtCSlxulaB5YuD3LUIWUs5yohRdLh2y7WZ9xniTnvAVn0vou8Q+5ot86uYmyF1w4ymbLLQjtGG4Q\n",
       "/X+g7N0tEwaIVMr6r8K4PAGligAX4OpkDSKVZghUPGLqDrhGOVGTiknBNrQ+icOsvLjOJekT7H0V\n",
       "2ANo1VO5eIqHS1kqpJxS5CAIleAtNnSbzV/AE+5bDK5SaK/a4DL9f9HRibWmJQBbIi1N+01fuPrA\n",
       "ZcwARM4hvRK2wsdgpGyDu/nvJodAQlJl95hUzQE3Vr1KKgZt3aDVUcgzNQdcVuCSIxV7AFWeIvnY\n",
       "x3m4PUuqjMsxiinUR6ZCZ+me3OF+lMFVCu05G1ym/6OJbLpkCcBcpGVpgQPuqMO3XPPusTjcBF5k\n",
       "XunWt9ljHm52Cdy3rB2qyp1fDa7c51SoaO6aW29Zk+prhQtVt8oRKtHJpI2uxL5lB9wPM7ieQrt+\n",
       "y2/hnKIMl+n/sSK580QFYEukZemm96jB26b/alF/5qkUYlutPfXeT/NMeD+lrzG47kL7Tyfmwa/S\n",
       "ZtR0wKX6f7xGbnlQAdgSaYPA7dDDB//XSfmMAYfrKrRnvvuACbuyuTRMXHTLRRURLtX/d5ThXJML\n",
       "wJZI69kte86tPkinlJyjrDQMcm0ZC+2ZeUv6I0Q6x1t4IEZp58570o4xl+r/sHjPvoolAHOR1ppQ\n",
       "lU9fuJvCLoCMUyq4fEJFhPbM5bWu68lTAnirTOf1O9OPLnPCJfo/PA+CAMxFWmspVPCF2xF/eocT\n",
       "96IbY6EXtSIA3DM5XCK0nws9eXyTgWyZBgG6E6oTTrj0/vK3QRCAuUhriRh5X7gd8ad3OjEvenf4\n",
       "E4rHAsA9wuESoX0EbcbJ2DoCl4P+jfHxNQjuprgLXKL/nwBBAOYirSU/+sPtiD+904l50Q+EX1I6\n",
       "q4RrvM3hkjQFZsBmnW7N1aFIW662BERzYfN+ro5vomw0mQC80aQiLb9qh2v+Y24n/OmdTsyL3oHn\n",
       "g41eJVx+44DNvhqoxf45jRXxBty6E8j9mYOyGt6Ee/6RMtZ6mQA8VGEiLe+icv5wO+FP73SiXvRk\n",
       "Jw7rFSXc1AkRrlaEV+HevQgT2joPrWFRD63dkYeYB1yacDeOBWCQ7gLF6/5wO+FP73SiXvRIzs1p\n",
       "LienWV20mruHCBkmlHDTx2zdssgLpxlozHUkCS6ZlGMBWFaRog2prNdIynG4p+pPV67+lDn0FvMH\n",
       "3h/zoidqltN8qXe/Ss3qYqJWc+8Qmxf9b0q4sYYbXH+xT4JLFF4sAMvyMHO8e7bc4P50VWL+dejf\n",
       "hx+JVfcGKTrVW3R09hpohxc9xaeOzIuO56TUaf75Od7tipjVbVcZsZr7hNi86E8q4VKfkww3Ay3A\n",
       "9b6eTyhEjMD+dFVi9xgezMOQGchbfik9zF6IV9viRb+UV4Rez115y2k+6N1ym5ysT4jV3C9E8KIP\n",
       "K+Fuzrp2y22B6zSlS3Cfa5dOxR5OmIpdgYG85VvpuFGEWKktXvStfA5ZsuAyJWDQb1GclXsgYjX3\n",
       "CRG96Gq4YZrSYYHrmFu04Ab2pweDG6+RxhjEW05FhngW6y/t8KJz0YJ50YlUQJzmvnAxp6biC8xq\n",
       "7hcietEHlXDXQYhwF+f9W25Qf7rCB87hnoMHvUYgbzm9vbmjYFwIbfGi89ulzIuOJ1TUae5DiprV\n",
       "m4ovMKu5H1zRi66eUIX6IFg85w83qD9d4QPncP9FLu1A3vIUOSuL+y4ot8eLnmJnmXnR0znmNCek\n",
       "iIvc7inHG9SszhVfy2pO4Tpt6A4v+lwV3Eioj3D6TZdb8KerfOAcLhbbuqpaEG+5RqYyz0O0BFo7\n",
       "vOh0f5YXXStxpzkhhV3kTU852VhlmdW54mtZzUmI3b6ONxxe9H+q4NKnSUL72YSzFXAD+tMVPnAO\n",
       "F7sEXgjmLdfJ+vIuyDTa40XXJb2mKT8Ogmg8t1LTas4VX8tqTrtlpRfdKKnghvuzCY4fPJHhslmf\n",
       "yp+u8IFzuNcaLybPCOYtJ0ThBER72+NF16Sz3Lxx8CS4Pjlura254tu0mpMQtRddfePgHxAq3O6c\n",
       "Eq7Sny74wEU7uuAD53AfWpL5dR5f0UpvOWSq6FP9OFoJfcFozYvuXoeMxMJS3n5w54hoPLcWrNYi\n",
       "iCu+Tas5CVF70ZW3/FLTwoWbnKKEq/SnCz5w0Y4u+MA5XOOTvy8mIYi3HKJ59NUfjpb1NdkWveju\n",
       "dYhK6wL7zXp347mU7FZztRd9vQpu2D8yRnsYRbdMOj3T258u+MAFO7rgA2+6YPXipmDe8m7hqxa9\n",
       "6K516JYPL3SbTUZps7kGQoYbLQaC6+tPb/rARTt60wcuwE2+Oy2Yt3yX8FVrXnT3OuyCSUl+cDNj\n",
       "pwa3hZ/kHQnWcm2dV0b+nPvARTt60wcuwIV1+UDecuwfsj5ozYvuWgcj9/6De6o/ydvCj2lHvUSq\n",
       "0Xb6lm3+9QDe8ojZWv7W9tex5PKMQfP6ZYLL/pOv/w8JBCJWxaPYiQAAAABJRU5ErkJggg==\n",
       "\" style=\"display:inline;vertical-align:middle;\" /></a><br>(see <a class=\"ProveItLink\" href=\"../../../__pv_it/theorems/2b2a6825a1f459cf194dedbad20339cf7491bdd80/dependencies.ipynb\">dependencies</a>)<br>"
      ],
      "text/plain": [
       "bundling: forall_{m, n in NaturalPos} [forall_{P, Q, R} ([forall_{x_{1}, ..x_{_a}.., x_{m} | Q(x_{1}, ..x_{_a}.., x_{m})} [forall_{y_{1}, ..y_{_a}.., y_{n} | R(x_{1}, ..x_{_a}.., x_{m}, y_{1}, ..y_{_a}.., y_{n})} P(x_{1}, ..x_{_a}.., x_{m}, y_{1}, ..y_{_a}.., y_{n})]] \\\\  = [forall_{x_{1}, ..x_{_a}.., x_{m}, y_{1}, ..y_{_a}.., y_{n} | Q(x_{1}, ..x_{_a}.., x_{m}), R(x_{1}, ..x_{_a}.., x_{m}, y_{1}, ..y_{_a}.., y_{n})} P(x_{1}, ..x_{_a}.., x_{m}, y_{1}, ..y_{_a}.., y_{n})])]"
      ]
     },
     "execution_count": 2,
     "metadata": {},
     "output_type": "execute_result"
    }
   ],
   "source": [
    "%proving bundling"
   ]
  },
  {
   "cell_type": "code",
   "execution_count": null,
   "metadata": {},
   "outputs": [],
   "source": []
  }
 ],
 "metadata": {
  "kernelspec": {
   "display_name": "Python 3",
   "language": "python",
   "name": "python3"
  }
 },
 "nbformat": 4,
 "nbformat_minor": 0
}