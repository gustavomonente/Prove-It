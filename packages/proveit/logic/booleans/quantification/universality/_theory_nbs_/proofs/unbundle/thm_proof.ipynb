{
 "cells": [
  {
   "cell_type": "markdown",
   "metadata": {},
   "source": [
    "Proof of <a class=\"ProveItLink\" href=\"../../../../../../../_theory_nbs_/theory.ipynb\">proveit</a>.<a class=\"ProveItLink\" href=\"../../../../../../_theory_nbs_/theory.ipynb\">logic</a>.<a class=\"ProveItLink\" href=\"../../../../../_theory_nbs_/theory.ipynb\">booleans</a>.<a class=\"ProveItLink\" href=\"../../../../_theory_nbs_/theory.ipynb\">quantification</a>.<a class=\"ProveItLink\" href=\"../../theory.ipynb\">universality</a>.<a class=\"ProveItLink\" href=\"../../theorems.ipynb#unbundle\">unbundle</a> theorem\n",
    "========"
   ]
  },
  {
   "cell_type": "code",
   "execution_count": 1,
   "metadata": {},
   "outputs": [],
   "source": [
    "import proveit\n",
    "theory = proveit.Theory() # the theorem's theory"
   ]
  },
  {
   "cell_type": "code",
   "execution_count": 2,
   "metadata": {},
   "outputs": [
    {
     "data": {
      "text/html": [
       "Under these <a href=\"presumptions.txt\">presumptions</a>, we begin our proof of<br><strong id=\"unbundle\">unbundle:</strong> <a class=\"ProveItLink\" href=\"../../../__pv_it/theorems/65e1f79af4671ded9cc924defbc39575ef3794510/expr.ipynb\"><img src=\"data:image/png;base64,iVBORw0KGgoAAAANSUhEUgAAA9MAAAAzBAMAAABmj0ZpAAAAMFBMVEX///8QEBCIiIhmZma6urrM\n",
       "zMxUVFQiIiJERETc3Nzu7u6qqqp2dnaYmJgyMjIAAAAcRTyBAAAAAXRSTlMAQObYZgAADi1JREFU\n",
       "eNrtnA+MFNUdx3+3O7Ozf+8uBkxRm6x3DVKq3gpFqyKuNgGa1rLQxNDU5DbXAsVQ2Ch6tf7b0gRP\n",
       "q2VtG0SMMmIDSiu3aoiFSNly/ZPQA9ZAW6tQtqltUpvWDSAVVOj7N//ezJuZnbtZDPKSu53d/b0/\n",
       "M595v3nv975vAdqSlgxW4HwaW5ozWGtfZR1nzviuLZ03vyudJzX2lCi2nmcTo3HmTHdrqLc/qfq1\n",
       "HYXzqD8GqKUGeUk++VSLqAu+TSPFTxLqp8OuIFUJiBr+yl7l0FC/BBzqTvySqZ9ThDMr3l+8/DrU\n",
       "Z8qhV7U0KOp4LWTUyQk86nQVvXSq51Zv7kLu8fsqdIY/5twaFLVGIjTU8RyPOoHv/HXnmOPuR11m\n",
       "VxYOhF9TOhsQteZfQ0O9S+VRwzvo5Q/nGOo+NM3oq8E94deU7A6KWqmFi/pOsKE+tGXLC+fa6GwN\n",
       "+luRT7TjtN4Oijp1MlTUmZN21F1DQw/VzjHUp9H1PwYR9LRK9iy9ebd7v7RZbJwGiYvcspgNRoKi\n",
       "Zt0uLNRK2Y46VoB4GMOXhKeF3KK97/LkDwFerUEczSt+AX/OPgCwUJyLWZhS7SaINN2yUAN90hQQ\n",
       "9RE1TNT9eTtqKUeGkeOQJPbaO3odvh7eLoy2Zu6Jq1f5svdZHkDkxOjIVHRjo8nFHtivfgm+do04\n",
       "F7Uw33PVWRAvu2ShBuzNq4FRD2fDRH0V2FGjvyvGB3WcvjyTh/kqxHx4imvpU6UbD1Fi4+BZrtUa\n",
       "copeFoRehSF8OEeciVmYPDpcAF1ZlyzMgPWewKg7G2GivtAJ9d7xiplR1IlJANEi3OYjAw0EI+NY\n",
       "yZe9v/LQ8KOkowY46oGaWZi90ynoL7hloQZjRR05GSJq+SMn1M/IxfFErdRJR13k574mPVnJQkfW\n",
       "l72/8tDlp9ED7MBBfs8LNbE48MeeXA9rQ7QBl7pmIQY4By05IOrERyGijpx0Qh1fi+7+dO8C+8Xe\n",
       "PWOyqeSbi/A92/09GRTVivpSXFETl2zNrsUcTBVFSDx2uJCcBr7svdoQqRvTatwe9HYHaspUV27U\n",
       "4uCn4UJ1MjuPIqx2zUIMUI5JYxqWUR8bEup4txPqFB6ATI01VkLMGmCJqMsV0ziudgo163YORJc6\n",
       "n+vV/yS3PZrT0uxcBlqRNo4i12hez1UV8GXv1YYUu+bv0vNI50D6IN5M1Am35Glg/4YbpgNqkdhY\n",
       "guMwk34cLUofUdQWS+MdNsA58JBgZnDUDzHU5Jl92DdqX6sWHWUn1ORZVeisg/xrlZu8/Mfsb35W\n",
       "ipRv4+ab6+fAFA71h7iimlSm2fkMpCK9P5L27INoCXzZe7WBlgezzgzQtyVIDkztPcwc+CA+u7ux\n",
       "Yy9qB8hDMItYFl3ze6lRcqD3JM2CDYws5J9uEMtKuOf8Izjq/Qw1iVW+4xu1r1WL4Zwj6jfJUAY9\n",
       "5xQ+v8XhR2uxrM19zoQBDvUF6O91kIosu83fdhlDbZncz49CpunP3qsNtDwjGYFRzC1lvzo7TJcw\n",
       "Uk40C8wIPYypA99hn9FpBh2FaK0AyVJw1EcKFDVegUiUfaP2tWrRn3VEzUaSBRtquSnDgZ0HvvFb\n",
       "OsrJo3r4y7wSJmauP1wzoV6cfCsxAeQyzW5HhypCOWa8hs6T8IUPINrtz96rDRJ3zY3ljlexP3eI\n",
       "hehHG1AvzZRrxGg5DOdpFofJvm6wAZQvF8aw3MFwINS4h5Ku6vNZ7WfVYldVhDrR3IdOC6FOPALr\n",
       "VPJvnboh3UjDy42O6muAP1cK8wgJ9j35B3dJzdQUVgxF/eyCzK/y+G4n2XEGwzzxCKkodSVcnEJX\n",
       "MVNDn8qn0Fzr637sPduQ4cjoUcCfPIj6/Ub7BNm49Wej4XtimUqM7odVLEsyaw+KagazIbJ3DIuY\n",
       "mpNFqDN7tmx5ooVhmZ9ViyMFEerkd75yuYpRyxfD/Io8Cf2bX910cPceiBU2w+cBfy4N/Ihc5vlV\n",
       "8j3+V4XZUxqwSC6bUCe/8LtiAhuS7DiDUaZ8Ma1oUbIURR0nmkdf/f5ERV6V9WPv2YYoFwy0ShPs\n",
       "A5mM/RJho5t7C34N4OExoO4qshH4+0ND97WA2s+qRV9F7MCJe0SeJKW/oy5AgVegVMWfvwCPUf9q\n",
       "+IZqsoJmNKXIQXO0DOTi0wCfY29wBqNMdlRK5RR02Gn6yo+9Vxs6+dMLXXCUqYwFdZmhXkRvGZeg\n",
       "uwU1W7WYe2JkNX7iRmaOkAevtOab39a90H7VFbXcdz3Adv0qV1gE6jMwUMGfL5MasOBYVfuCmMRq\n",
       "X4VkMbXXgjpx+iL9Dc5glMmOksVIPvZZgJ2mr/zYe7VhJ5yVFBR1R4Oh/iIkG66WOQtqtmqR6YY0\n",
       "HhS+DTKdk7wOoDuHG22oB2068LrAu9XhllH+iwxIh2q2GDiaMCJHKtWdXKfFiSZzpg982Hu1IZk7\n",
       "K6TnDAZFXWKoFT34wwfy7vwNXFrkUbNVi1iRrK89jgheTb5D/5dodivCPeeo5d127+Cd2pp9a+V9\n",
       "/JPSzVCn64rD1z8fuQF+mVajqg01XbVQ6mR97X7an1G6g850/aCODd7TllP8pG0pkQbvc9wDoqNO\n",
       "NG51GAb8cL0KO7O5NIxMv3N61YyarloMV+AyFSK4kD7i1N6D57JiB26tuk2n/snbZ7DW8YmuaA4c\n",
       "Hv4WQnvDgt4IWQTAR/gBjtK2bT9O257VdNUC5u0eRTdAJy52FrmjjvZOMiJxlfOouRFV6AL47WLU\n",
       "+rAMXsFBgZvqHbeTHRn4qEIj49vSL95mR01WLWAfHcZjZ3EJCe40wJBT9BU8ULdH/19qKcAfSvrT\n",
       "mdWL/4583POh10QkFwLU2ryaCB3WXwZd+SgGh49UOsbcBrURO2q6wv4D+kGWjMWBbCI4YoRQ8h6o\n",
       "26P/L7UU4A8nnUaXBk1R/hV6RWQa5Yy6K6ehzuBLPgDz6RI7OroJ5O8ODa1CqJ9WHFC/SQPK5FYq\n",
       "vlh9nHDtqppURru8ULdH/19qKcAfSsJCw9RRyLRherZbiHq4Bub16okwBTbI9GimDEXaq6UF6KXA\n",
       "oSangBeH1qnJidm33sYH0K/CEll7RPc7uuaHTc/qtuj/Sy0F+ENJkePo70NQ2jAVeFaIWlvuYMOG\n",
       "JurNb6RxZL8JK7cBWWM6CHDI6vR11Fceq+AAMTz36GKooIP0g0thYY/FY9jSQhPqtuj/Sy0F+ENJ\n",
       "8SZyfcehHW3ozItQk9UnHbVURI+TtXsQNHR0OZozo2+lB/IQE6CmCRdxKx5cch1HcQy/6V5MaZP+\n",
       "v9RSgD+UhPfvbcgBmtPAxsk/vTzramyzSPZm4XG3EY3ZIJ0ToSYTIrvgSIM2ZWiVQ4TNipoEiDf8\n",
       "TTVFilk4q8m9HyTpmIE6qP6/JX1/yUeA3ymN3dvqjeivQQrda48hKrXMHagLyOKRA7MwpbTUDX1u\n",
       "WagB60kNEWoS0bKhTrmeJoeaBIjjK+1rcJlTjtlT/9ZR+9f/B9T3M9SeAX5zJWzJJj32zqw3om/Z\n",
       "6DTU6+5FparpU1JFni5+bFEL8ydPRRsw5JaFGGh1lkSoP+WIOgMtoBbf1B84f751gh5C8a3/D6jv\n",
       "Z6iFAX7HSuiSzdJxcNxaI9ZQ7zoB6/fJRg1JzC1pbOVgSUWT2aNuWagBu+hNAerEUUfUMC6o7ZJ/\n",
       "Wueyio7at/4/oL6foXYO8ItQkyUbeTzGEFoj/gcaahq/cOMGxlYOLc1T5fdcsxADD9ShSv7hRu5Z\n",
       "/V+aKroD96//D6jvZ6gdA/xC1GTJJlYYB9SsETIbntxLntsFL9TYwghRA445R7pds2ADGsomZo6o\n",
       "46UwUc9ziqFIDWNY5qL/5z4MqO9nqEmA37JfQEsWUT+TMJElG0XQLmvNHmWyRuBpNU6PYQVoH179\n",
       "dOFGLYwQNUqrserfDTU2oKFs8bCM+orQNt06Tay3qibUQv0/p70Pqu/XUOMAP9Hq89UQUb+1Erpk\n",
       "84SgXdaNCR5lskZ0svHpCLr7q2uwLglzs+r69QNqoYWoidHVMK9Oslgtjd0B2ICEsrGeWYC6Tw0T\n",
       "teMQfJEphCLW/1u194H1/RpqEuCfA1P4aoion6uELtnMFbTLujHBo0zaiOi7J+jTdw56evdsvKFO\n",
       "UROBv7EfAB9ggT+zYCFqYrSp58YK7dXYQM+i7yOgBjiUjW6rggA1HTiF9gMZl7hNVwlqsf7for0P\n",
       "qu/XUJMAP9bq89UQUb+1ErpkM1vULuvGBPcyuU0BRmCUcBMJ/EnSQtQ72MOYZhHuI5jFQtmwWRAY\n",
       "DfkHMmw/e2M9cWMc4qD/t2rvg+r7NdQkrURXg68Gi/oP7DxkRk2XbBaK2mXdmOBeJrcpwFjuwLNf\n",
       "gcDfGqLGRrFG8jjL4ryPgBjQULZwuaMzFy7qzpwP1A76f06rD4H0/TbUd0lNvhoi6n+5rJhR0yWb\n",
       "zUa7LIp/88YEqv93KZPfFKCF7BLXIJcuEPhbQ9TYSKnHszSLYB8BMaChbOEi5ktquKgTE32gdtD/\n",
       "c1p9CKTvt6HGWn2uGiLqjxUWmlCzJRtF1dtlUfybNyYw/b+4TH5TwPMecSrnbQJSzwzfBnGBNCH0\n",
       "n6ijO5E8HTh5p4q19xBM38+hJlp9vhos6lfgirylEjLSrhrtMiv+WdPpxoSqR5n8poDwBUd/AWfU\n",
       "sVzYqKNFn6it+n9Oew/B9P0caqzVt1WDRf2b4LW6DTWUjXaZFf8sCkY2JlD9v0uZZ2lTgAPqNyAY\n",
       "6hZ+JHrAb6+2uqe6IJDVkr6fQ61r9c1Zbhl1qgSnW5xcbYZznu5lnqVNAQ6oA/9IdAs//R7Ni1G3\n",
       "ogMfg75/0LcO3FJJauyLmGdnU4A0eLdtD8gm2hL80+//Bw9vDf+PBG1CAAAAAElFTkSuQmCC\n",
       "\" style=\"display:inline;vertical-align:middle;\" /></a><br>(see <a class=\"ProveItLink\" href=\"../../../__pv_it/theorems/4e852e30872106be75b7beb421fc16067ce3bb340/dependencies.ipynb\">dependencies</a>)<br>"
      ],
      "text/plain": [
       "unbundle: forall_{m, n in NaturalPos} [forall_{P, Q, R} ([forall_{x_{1}, ..x_{_a}.., x_{m}, y_{1}, ..y_{_a}.., y_{n} | Q(x_{1}, ..x_{_a}.., x_{m}), R(x_{1}, ..x_{_a}.., x_{m}, y_{1}, ..y_{_a}.., y_{n})} P(x_{1}, ..x_{_a}.., x_{m}, y_{1}, ..y_{_a}.., y_{n})] \\\\  => [forall_{x_{1}, ..x_{_a}.., x_{m} | Q(x_{1}, ..x_{_a}.., x_{m})} [forall_{y_{1}, ..y_{_a}.., y_{n} | R(x_{1}, ..x_{_a}.., x_{m}, y_{1}, ..y_{_a}.., y_{n})} P(x_{1}, ..x_{_a}.., x_{m}, y_{1}, ..y_{_a}.., y_{n})]])]"
      ]
     },
     "execution_count": 2,
     "metadata": {},
     "output_type": "execute_result"
    }
   ],
   "source": [
    "%proving unbundle"
   ]
  },
  {
   "cell_type": "code",
   "execution_count": null,
   "metadata": {},
   "outputs": [],
   "source": []
  }
 ],
 "metadata": {
  "kernelspec": {
   "display_name": "Python 3",
   "language": "python",
   "name": "python3"
  }
 },
 "nbformat": 4,
 "nbformat_minor": 0
}