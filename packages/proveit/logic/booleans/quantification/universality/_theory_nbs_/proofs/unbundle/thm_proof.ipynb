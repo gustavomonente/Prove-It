{
 "cells": [
  {
   "cell_type": "markdown",
   "metadata": {},
   "source": [
    "Proof of <a class=\"ProveItLink\" href=\"../../../../../../../_theory_nbs_/theory.ipynb\">proveit</a>.<a class=\"ProveItLink\" href=\"../../../../../../_theory_nbs_/theory.ipynb\">logic</a>.<a class=\"ProveItLink\" href=\"../../../../../_theory_nbs_/theory.ipynb\">booleans</a>.<a class=\"ProveItLink\" href=\"../../../../_theory_nbs_/theory.ipynb\">quantification</a>.<a class=\"ProveItLink\" href=\"../../theory.ipynb\">universality</a>.<a class=\"ProveItLink\" href=\"../../theorems.ipynb#unbundle\">unbundle</a> theorem\n",
    "========"
   ]
  },
  {
   "cell_type": "code",
   "execution_count": 1,
   "metadata": {},
   "outputs": [],
   "source": [
    "import proveit\n",
    "theory = proveit.Theory() # the theorem's theory"
   ]
  },
  {
   "cell_type": "code",
   "execution_count": 2,
   "metadata": {},
   "outputs": [
    {
     "data": {
      "text/html": [
       "Under these <a href=\"presumptions.txt\">presumptions</a>, we begin our proof of<br><strong id=\"unbundle\">unbundle:</strong> <a class=\"ProveItLink\" href=\"../../../__pv_it/theorems/c588df08f0c539431635524dc9aad210c187dbee0/expr.ipynb\"><img src=\"data:image/png;base64,iVBORw0KGgoAAAANSUhEUgAAA74AAAAzBAMAAABClsmpAAAAMFBMVEX///8QEBCIiIhmZma6urrM\n",
       "zMxUVFQiIiJERETc3Nzu7u6qqqp2dnaYmJgyMjIAAAAcRTyBAAAAAXRSTlMAQObYZgAADa9JREFU\n",
       "eNrtnH2MFOUdx3+3N7Pve3cxYCPYZuEapFS9rWhpK+CiCWeTKns0MSQ1sjmrFkPtValXBXVjEzis\n",
       "1qVtLNrgjdD4QqtstdRipGy5tn8gyjbQV6FuI21CG+15vFRelD5vM/M8z8zOM3O3c2eAJ7nd2Wef\n",
       "3zPPzGfmmef5Pt89gAlIt/WX4VwaW+rurza9zpbTp31Xms43/q7vHJ6xp0Sx4VdJ9tWe0+8F47vt\n",
       "ccNv2d1wju9E8YXr6dtzj/88GN+C76KR4tnLd0PYO0iVFXwzdbbRExZfzwunD8j+D5xZWP90evWt\n",
       "b6P+LVkKfVfLFHzh4ZD5Jid5830Nv/37DLtvPwSITwFoC3/w+IKK71P5cPnGc9581+MGls4svPop\n",
       "1HOOAOwNf1fprIJvqiNcvjsMb75t6Pt05cziGzmC/hDje8LfVbJDwRdWhcv3LvDmm9m1efOPzrDu\n",
       "OT4MED0CifEYPR5U8d1RDpNv5riCL7w/MLDqDOPbjgaNgzmIoEdTcvqyq3d6Ft4444cXZ8WcyyAx\n",
       "xeue7czCOrNbHFLxjeXC5BsrqfjeArA2lFmhsoR4DGMfC+nmxtIqpNA1G68B/Az+nL0fYEljWNXM\n",
       "nbG6kFVdAJFhj5C01gFd5oe/q/hmToTJd2lexfcaSNabQ1Rj7527v4DPkrL8L2jUozd/Dd0/6SZM\n",
       "Rs1j7Vq++zJ0f8XQsGIX7DG+CF+e0xiWkT6hCddWojIf4iWPkB+31mHA/PCyim9yJEy+nwEV3xhE\n",
       "ak167NG3J/PQY0BUfT+20iJ/IGOQZU1owOfZ+6O082xBvA1Korvx6Ucs5ZzzoD3rEWK0ZGHEuoFU\n",
       "fOHdMPmer+SbrsWgmXwTFyByRbjRx9iTnpfPAtwGerUJDXiavf8PLL5ASXR7Pa2zcj90ApYWvEIW\n",
       "GfpR/3y7yuHx1T9Q8k3Ub2gq3xjqDTId+LGuTIfI652AbphooQkNYHqGfpiNPfC0j5Lw4otYQmbe\n",
       "4s7IDNYG1P1O8wyZD5EOHMFqVvAdrIXHN3JcyRfWfhW97LxihrNKIVObATHHXPrqItwr8Z2GdzuM\n",
       "a1bWeQm5i4/Cpix6SkC6c7HLRRGkDexBg6e/pD3o4yuoKbO8YKWMLogYmQW1lttNpT5ehNWefFej\n",
       "Ijii7Gd8BS3F8PjGO9R8X0IvEeOOWB5uly4OkmkNRNqNHohKZ7d6Qu+Q+P6L3AFo7qmu85eE2Ugn\n",
       "6tHRFHxWtL7CsYNAbUjRE912gpXOgXYyPpyoEVjJD1HWljrbsD4tqjwKG+CJi6A931ql2a1F7QM7\n",
       "RIzDG+iJsqiGI3BD5ir5xvsoXzKKPeCbbxsZfCuGRi0lNV/8/NHhHYAbp8jzjXe4T090w0z9N+K5\n",
       "TfykL1KS+J7Cu61qJR91Xkso1GEO2Sy01UDeQbA2aOS99b/H6BNV64Nk76zOA6x/7sdDaozibmAv\n",
       "MXTfPz194zx0EnsRANyf40LJ3s7jdggtWeRCUMxVZRSxANfzTyXf9DDlG0TpR3yJqNhmeJfbklPz\n",
       "zZA6cEd+r/y10LvPRYck946t1WhW4nseGRJrRR913kSiqvAWwEJ8oaH+ztn9BmiDLk30bH2ym/TE\n",
       "jsN/xdqaDDNhUDcLoSewd8h8HDEXlU/2KflmjlK+QZR+xJcUXa+a/mbVfOmpGdadLHDm3u17v/I7\n",
       "8mkFOiT53MbyLYW92/fzfG9NvpmYBHrJR50LyfC1gidxS8hQtODkG6QNmnSi7fWFl8F1hm0N2hPD\n",
       "6ML5S5oWugO25L1CovXkERyxYquP9QV0BCOUbxClHz9/8a3+mqLcjoo/voPpepqwWG8kHjJfSOaL\n",
       "9ZbKqzgfvqUNk3NrFUFvscIieLEU4/k+tTjz6zy+rq067RrFOmE/rnapAbfp5WfQCXsDnTxhB0Hb\n",
       "kJEmWXFzDv6DB3oBNjonaNbVj66MQ/DYLlroPnjQMyRWi2dxxMU1H+uDKOQw5RtE6cd892/e/JxK\n",
       "QX+r4I/v0/t27iIseir6BdBTxi8VkhktPAOX43xYOLNOzq1VRJ8KWu/3UIklPN/k535fTOC6rDpR\n",
       "OVpjWawT/fVU0g8sgyXTUcXJr3/pYkPcQdA2tEpinbi+7xyqZJwnBBe6urPgGaJNv8L6vFbNF46x\n",
       "8XMApR/zbR8YWKNSBbrKPvtnknBfat/wdCsGL0Ef2qwky2i+QfpGq0gKnoNHUIlL8rx+BXpxA8Cn\n",
       "uTpTDeqs23VF2Ia4g4BtaJMPL3R/Tqbsg+/7jK9S6a8KfKMF0gFde2xoNT7iyNwhg9NzadpjBOC7\n",
       "+HCFGoroiSszTeiT0FtGn6LV60HvuhK4IttguVZHJV6tCXwTH06xPuA6UTn3OmtcXfRWk3YQsA3b\n",
       "YUKSiu8nGF+l0p8T+Go50vtnOiCNB3EHQZ/C6bk0XaXg2y/7nzMNOq8MaPur8hc1uG63U38GWIPu\n",
       "Ja3m0jOKdW7iM64bexuSuQnB292v4Psxxreh0q/f9VuYVpT5opsPC0DRIpaLYF2ZKLmmnsvSN8bz\n",
       "QFuFT9uU5WcJOtLY1wcjBnwk0zcZX3el/6dD8+BXaaPVcPB9nXSvsRpZAbmP3rmmnqvkO06/XIj2\n",
       "3wNnVdL6V8k/aTD5uir9me8+YcD2bC4NQ7Pvml3h+T6p445hSxkuMiCCJbouW89V9s/j5HyOwVmX\n",
       "HpMfyf2m/oyVfnslg65QXIO/3Lr1+2nH8xfij+Fx66KduxH1tiJVVUw91xxflc/xtcdBtbD3sM2V\n",
       "rzm+Ikq/vZJBVyjIiGtr+vkbnXxTxGLwBsloxx3Chbaea86PCo35+hKwm8A3iK4eSjLt7s+G/zQq\n",
       "u/E93+SLlX5zJYNuGXRMuBWqQ06+dOn6OzQjS0bSlp5r6hv5xnx9CdhN4DvxDnpmdz8U+o7I/MfB\n",
       "97DJlyj95koGkBUK/dsDAw8ivhtiLnz/hl9O0iun+HxlXd7Wc0190oOvLwG7CXwn3EHP7O6ZcZg+\n",
       "7XThmzxl8iXJXMlgKxRFev9qi4E3HNrrvzpeX1lvJCdn3zwItp7Lvl0qd79rueevHwG7CXwn3EHP\n",
       "7O6xcZgwPOXC11xfYIMAtpKx3qArFGTdZB/W4mV9kqZLD5eJMrvp4VuhbOu5LLXL1+wSjq8fAbsJ\n",
       "fCfcQc/s7uPRhra8k2/qJM/XXMnoqdAViji68rX78xBtwJcmfHvcgMeH0n0SkwUxq5Pq8ydgN2P8\n",
       "PNEOemZ3x3Ypp5ldfoI6/PCCm901hCuQzjn5po8L/TOPDKeZ6PnrSBJfIv4M/sNwqECtw/ZmP0mH\n",
       "bb5MwA4+z1CWKAh8R+WgH3tnajWC2d0fsczseuPRAPPDc4m62T1CeLs7/rmvzDc67MbXW6+T+BI5\n",
       "Nr7CueLFzPN8vf+x+DIB248ow96DOddNvj4d9HQo2Dy7u9UIZndfaZrZ9dmNn0rUD88n4mb3CuHt\n",
       "7qk+J1/qkZL5ZiAA38ZDx5OOrBcmWfoGFbD9PMHoW1DnOuPr00HP7pCm2d2tRjC7+yTLzK41hmXY\n",
       "v0wwc1qwm90rpMW2u+vDTr6DWdf+uSl8nf72xPKyxfd1vyrWKJ3rjK9PBz3j2zS7u9UIZncn1zUx\n",
       "s2tehz0iZxA3u1cIZ3d34xumvx2usi/nd2kqW/0zE7B98w3sXGd8fTroGd/m2d1ZI0y7+0ryLC4o\n",
       "+BJUe/84PTfdPE7sZvcM4ezumkv/vAZC5LtIEji0uj2+ogK2q61cyhydc93kS3R1tT2e8vW2u4uZ\n",
       "Qrgz8xJ7+ovTI6aZ3QsW9cPv+zicb8xgWdjN7smXs7u7ja9C/X1ZTJoAv2BwfImA7WorJ5ky36DO\n",
       "dYsv1tXV9njK19vuLraLhEvN4OpkjTDt7kOmmZ3AEh3r5ifqh09s7IMj2LluudmtEDGObPB2dyws\n",
       "S3wjof4+VB5A38LpG/TScrWV40wH36DOdYsv0dWV9ni65W13F9pFwuVmcHXSRlh2927LzI5hEaO6\n",
       "ZV0nL/2G6YePZtE1spJ3s1shttOdhQh297aCgy/9eUpo/5/hwgbTSsKXCNiutvL2spNvUOe6xZfo\n",
       "6kp7PKWisLsL7SLhcjPsOm+SujIrlHS2rzhOle1mbylESonhAudm9w6x7O7POPXJcP8/Q8P/r2I/\n",
       "T1xt5Sgzc+WBK14tcHyDOtctviQp7fGUr8LuLrQLhzuaYde5sIF0R2apLrN4e849iO7gTKlqu9m9\n",
       "Qni7u8v6wtsQKt+2nDdfy1Zue8oTD5HM1KUwNVXl+AZyrjv4Mms6vxvRHk/5etjdxXaxcLEZQp37\n",
       "pUM2RbTEHNRjJ50ype1mXwht5cRyw3aze4VwdneX9cHUlHD5JiZ787Vs5bYLXZ9KM29J9jHH+Cic\n",
       "6w6+zJrO70a0xxO+XnZ3sV0sXGyGUOfl0iE/q9CPVG72BiGc3T3uXN8P+/+bkd/RePbPBIPBu9DZ\n",
       "Vl8qF0vx+lUg57rE17Km87sR7PG8wutudxfbRcOlZvB1yqJo+P6cv4KD780QMt/Wopov8YzbhtZt\n",
       "TP+J5KOfEvgGcK7LfC1rOr8bwR5fcoodDi873y4aLjaDrzMVOk73JPDNlEbHN8D/B+71cf+K3VOt\n",
       "gf4cxLku87Ws6fxuBHu8wNfV7l6T2muFu9a5CT4CfEf7/4ED/H9v+VdXNPUH8T+P3rke8+9/FgaC\n",
       "TbC7z5oQulr/3dxPGpJMfdlz+r3/A+nZNtaDClWqAAAAAElFTkSuQmCC\n",
       "\" style=\"display:inline;vertical-align:middle;\" /></a><br>(see <a class=\"ProveItLink\" href=\"../../../__pv_it/theorems/21e268899e2dd719e923d63c94d66251a6bdbbc50/dependencies.ipynb\">dependencies</a>)<br>"
      ],
      "text/plain": [
       "unbundle: forall_{m, n in NaturalPos} [forall_{P, Q, R} ([forall_{x_{1}, ..x_{_a}.., x_{m}, y_{1}, ..y_{_a}.., y_{n} | Q(x_{1}, ..x_{_a}.., x_{m}), R(x_{1}, ..x_{_a}.., x_{m}, y_{1}, ..y_{_a}.., y_{n})} P(x_{1}, ..x_{_a}.., x_{m}, y_{1}, ..y_{_a}.., y_{n})] \\\\  => [forall_{x_{1}, ..x_{_a}.., x_{m} | Q(x_{1}, ..x_{_a}.., x_{m})} [forall_{y_{1}, ..y_{_a}.., y_{n} | R(x_{1}, ..x_{_a}.., x_{m}, y_{1}, ..y_{_a}.., y_{n})} P(x_{1}, ..x_{_a}.., x_{m}, y_{1}, ..y_{_a}.., y_{n})]])]"
      ]
     },
     "execution_count": 2,
     "metadata": {},
     "output_type": "execute_result"
    }
   ],
   "source": [
    "%proving unbundle"
   ]
  },
  {
   "cell_type": "code",
   "execution_count": null,
   "metadata": {},
   "outputs": [],
   "source": []
  }
 ],
 "metadata": {
  "kernelspec": {
   "display_name": "Python 3",
   "language": "python",
   "name": "python3"
  }
 },
 "nbformat": 4,
 "nbformat_minor": 0
}