{
 "cells": [
  {
   "cell_type": "markdown",
   "metadata": {},
   "source": [
    "Expression of type <a class=\"ProveItLink\" href=\"../../../../../../../../../doc/html/api/proveit.logic.And.html\">And</a>\n",
    "=======================\n",
    "# from the theory of <a class=\"ProveItLink\" href=\"../../../_theory_nbs_/theory.ipynb\">proveit.logic.booleans.quantification.universality</a>"
   ]
  },
  {
   "cell_type": "code",
   "execution_count": 1,
   "metadata": {},
   "outputs": [],
   "source": [
    "import proveit\n",
    "# Automation is not needed when building an expression:\n",
    "proveit.defaults.automation = False # This will speed things up.\n",
    "proveit.defaults.inline_pngs = False # Makes files smaller.\n",
    "%load_expr # Load the stored expression as 'stored_expr'\n",
    "# import Expression classes needed to build the expression\n",
    "from proveit import Function, P, n\n",
    "from proveit.core_expr_types import P__x_1_to_n, P__x_1_to_np1, x_1_to_n, x_1_to_np1\n",
    "from proveit.logic import And, Forall, Implies\n",
    "from proveit.numbers import Natural"
   ]
  },
  {
   "cell_type": "code",
   "execution_count": 2,
   "metadata": {},
   "outputs": [
    {
     "data": {
      "text/html": [
       "<strong id=\"expr\">expr:</strong> <a class=\"ProveItLink\" href=\"expr.ipynb\"><img src=\"expr.png\" style=\"display:inline;vertical-align:middle;\" /></a><br>"
      ],
      "text/plain": [
       "expr: P() and [forall_{n in Natural} ([forall_{x_{1}, ..x_{_a}.., x_{n}} P(x_{1}, ..x_{_a}.., x_{n})] =>  \\\\ [forall_{x_{1}, ..x_{_a}.., x_{n + 1}} P(x_{1}, ..x_{_a}.., x_{n + 1})])]"
      ]
     },
     "execution_count": 2,
     "metadata": {},
     "output_type": "execute_result"
    }
   ],
   "source": [
    "# build up the expression from sub-expressions\n",
    "expr = And(Function(P, []), Forall([n], Implies(Forall([x_1_to_n], P__x_1_to_n), Forall([x_1_to_np1], P__x_1_to_np1)).with_wrapping_at(2), domains = [Natural]))"
   ]
  },
  {
   "cell_type": "code",
   "execution_count": 3,
   "metadata": {},
   "outputs": [
    {
     "name": "stdout",
     "output_type": "stream",
     "text": [
      "Passed sanity check: expr matches stored_expr\n"
     ]
    }
   ],
   "source": [
    "# check that the built expression is the same as the stored expression\n",
    "assert expr == stored_expr\n",
    "assert expr._style_id == stored_expr._style_id\n",
    "print(\"Passed sanity check: expr matches stored_expr\")"
   ]
  },
  {
   "cell_type": "code",
   "execution_count": 4,
   "metadata": {},
   "outputs": [
    {
     "name": "stdout",
     "output_type": "stream",
     "text": [
      "P() \\land \\left[\\forall_{n \\in \\mathbb{N}}~\\left(\\begin{array}{c} \\left[\\forall_{x_{1}, \\ldots, x_{n}}~P(x_{1}, \\ldots, x_{n})\\right] \\Rightarrow  \\\\ \\left[\\forall_{x_{1}, \\ldots, x_{n + 1}}~P(x_{1}, \\ldots, x_{n + 1})\\right] \\end{array}\\right)\\right]\n"
     ]
    }
   ],
   "source": [
    "# Show the LaTeX representation of the expression for convenience if you need it.\n",
    "print(expr.latex())"
   ]
  },
  {
   "cell_type": "code",
   "execution_count": 5,
   "metadata": {},
   "outputs": [
    {
     "data": {
      "text/html": [
       "<table><tr><th>&nbsp;</th><th>core type</th><th>sub-expressions</th><th>expression</th></tr>\n",
       "<tr><td>0</td><td>Operation</td><td>operator:&nbsp;1<br>operands:&nbsp;2<br></td><td><a class=\"ProveItLink\" href=\"expr.ipynb\"><img src=\"expr.png\" style=\"display:inline;vertical-align:middle;\" /></a></td></tr>\n",
       "<tr><td>1</td><td>Literal</td><td></td><td><a class=\"ProveItLink\" href=\"../../../../../conjunction/__pv_it/common/42118ff318bd65d98b1393f64ce7c2269feef76e0/expr.ipynb\"><img src=\"../../../../../conjunction/__pv_it/common/42118ff318bd65d98b1393f64ce7c2269feef76e0/expr.png\" style=\"display:inline;vertical-align:middle;\" /></a></td></tr>\n",
       "<tr><td>2</td><td>ExprTuple</td><td>3, 4</td><td><a class=\"ProveItLink\" href=\"../d110053b2f7315b1a65d9be84c38a6f86fc756a40/expr.ipynb\"><img src=\"../d110053b2f7315b1a65d9be84c38a6f86fc756a40/expr.png\" style=\"display:inline;vertical-align:middle;\" /></a></td></tr>\n",
       "<tr><td>3</td><td>Operation</td><td>operator:&nbsp;23<br>operands:&nbsp;5<br></td><td><a class=\"ProveItLink\" href=\"../c173f2b3236db2bc4896319b922a5a3ccfc920c80/expr.ipynb\"><img src=\"../c173f2b3236db2bc4896319b922a5a3ccfc920c80/expr.png\" style=\"display:inline;vertical-align:middle;\" /></a></td></tr>\n",
       "<tr><td>4</td><td>Operation</td><td>operator:&nbsp;18<br>operand:&nbsp;6<br></td><td><a class=\"ProveItLink\" href=\"../7a2d856abb611144094591c85ea547a2ed18cffa0/expr.ipynb\"><img src=\"../7a2d856abb611144094591c85ea547a2ed18cffa0/expr.png\" style=\"display:inline;vertical-align:middle;\" /></a></td></tr>\n",
       "<tr><td>5</td><td>ExprTuple</td><td></td><td><a class=\"ProveItLink\" href=\"../4bb7d36ca64d107000d79d4921539d4617258ebf0/expr.ipynb\"><img src=\"../4bb7d36ca64d107000d79d4921539d4617258ebf0/expr.png\" style=\"display:inline;vertical-align:middle;\" /></a></td></tr>\n",
       "<tr><td>6</td><td>Lambda</td><td>parameter:&nbsp;34<br>body:&nbsp;7<br></td><td><a class=\"ProveItLink\" href=\"../0220ca6c018c9881f50d8ab8a87053cf8223cb870/expr.ipynb\"><img src=\"../0220ca6c018c9881f50d8ab8a87053cf8223cb870/expr.png\" style=\"display:inline;vertical-align:middle;\" /></a></td></tr>\n",
       "<tr><td>7</td><td>Conditional</td><td>value:&nbsp;8<br>condition:&nbsp;9<br></td><td><a class=\"ProveItLink\" href=\"../2dbda5259309295a51f40dc74a8395d89db6e6220/expr.ipynb\"><img src=\"../2dbda5259309295a51f40dc74a8395d89db6e6220/expr.png\" style=\"display:inline;vertical-align:middle;\" /></a></td></tr>\n",
       "<tr><td>8</td><td>Operation</td><td>operator:&nbsp;10<br>operands:&nbsp;11<br></td><td><a class=\"ProveItLink\" href=\"../e3d698bc6aef8ffa1d44b7f6af1e0f979e57623e0/expr.ipynb\"><img src=\"../e3d698bc6aef8ffa1d44b7f6af1e0f979e57623e0/expr.png\" style=\"display:inline;vertical-align:middle;\" /></a></td></tr>\n",
       "<tr><td>9</td><td>Operation</td><td>operator:&nbsp;12<br>operands:&nbsp;13<br></td><td><a class=\"ProveItLink\" href=\"../7351e7b0b5ab4699fe31eac3b02ba02b17a05bf60/expr.ipynb\"><img src=\"../7351e7b0b5ab4699fe31eac3b02ba02b17a05bf60/expr.png\" style=\"display:inline;vertical-align:middle;\" /></a></td></tr>\n",
       "<tr><td>10</td><td>Literal</td><td></td><td><a class=\"ProveItLink\" href=\"../../../../../implication/__pv_it/common/02bdb382575728da8cdbaed545b9096ea7a1bd5b0/expr.ipynb\"><img src=\"../../../../../implication/__pv_it/common/02bdb382575728da8cdbaed545b9096ea7a1bd5b0/expr.png\" style=\"display:inline;vertical-align:middle;\" /></a></td></tr>\n",
       "<tr><td>11</td><td>ExprTuple</td><td>14, 15</td><td><a class=\"ProveItLink\" href=\"../b793df085d4115143165c24aa8392dd18becb6710/expr.ipynb\"><img src=\"../b793df085d4115143165c24aa8392dd18becb6710/expr.png\" style=\"display:inline;vertical-align:middle;\" /></a></td></tr>\n",
       "<tr><td>12</td><td>Literal</td><td></td><td><a class=\"ProveItLink\" href=\"../../../../../../sets/membership/__pv_it/common/477487d8796864d23d5810f83761435f25167f690/expr.ipynb\"><img src=\"../../../../../../sets/membership/__pv_it/common/477487d8796864d23d5810f83761435f25167f690/expr.png\" style=\"display:inline;vertical-align:middle;\" /></a></td></tr>\n",
       "<tr><td>13</td><td>ExprTuple</td><td>34, 16</td><td><a class=\"ProveItLink\" href=\"../361f8713efdd17d455c1f3e958d6205fdaeaf3c70/expr.ipynb\"><img src=\"../361f8713efdd17d455c1f3e958d6205fdaeaf3c70/expr.png\" style=\"display:inline;vertical-align:middle;\" /></a></td></tr>\n",
       "<tr><td>14</td><td>Operation</td><td>operator:&nbsp;18<br>operand:&nbsp;17<br></td><td><a class=\"ProveItLink\" href=\"../3a530d5d7a99c4f4dcb3450a23b96d09d003dff60/expr.ipynb\"><img src=\"../3a530d5d7a99c4f4dcb3450a23b96d09d003dff60/expr.png\" style=\"display:inline;vertical-align:middle;\" /></a></td></tr>\n",
       "<tr><td>15</td><td>Operation</td><td>operator:&nbsp;18<br>operand:&nbsp;19<br></td><td><a class=\"ProveItLink\" href=\"../e643071d3e9c2bd43edb7bf81cdadb002bb27cd50/expr.ipynb\"><img src=\"../e643071d3e9c2bd43edb7bf81cdadb002bb27cd50/expr.png\" style=\"display:inline;vertical-align:middle;\" /></a></td></tr>\n",
       "<tr><td>16</td><td>Literal</td><td></td><td><a class=\"ProveItLink\" href=\"../../../../../../../numbers/number_sets/natural_numbers/__pv_it/common/8b7c321957f52ed3b05b36af612eeae4fa4783bc0/expr.ipynb\"><img src=\"../../../../../../../numbers/number_sets/natural_numbers/__pv_it/common/8b7c321957f52ed3b05b36af612eeae4fa4783bc0/expr.png\" style=\"display:inline;vertical-align:middle;\" /></a></td></tr>\n",
       "<tr><td>17</td><td>Lambda</td><td>parameters:&nbsp;22<br>body:&nbsp;20<br></td><td><a class=\"ProveItLink\" href=\"../12d3b62373d4ad3b9151ee6348d2ea255046c6e40/expr.ipynb\"><img src=\"../12d3b62373d4ad3b9151ee6348d2ea255046c6e40/expr.png\" style=\"display:inline;vertical-align:middle;\" /></a></td></tr>\n",
       "<tr><td>18</td><td>Literal</td><td></td><td><a class=\"ProveItLink\" href=\"../../common/083d2baa0b8ecab1d230f9ec29a15aa1355809fb0/expr.ipynb\"><img src=\"../../common/083d2baa0b8ecab1d230f9ec29a15aa1355809fb0/expr.png\" style=\"display:inline;vertical-align:middle;\" /></a></td></tr>\n",
       "<tr><td>19</td><td>Lambda</td><td>parameters:&nbsp;24<br>body:&nbsp;21<br></td><td><a class=\"ProveItLink\" href=\"../06008dafebac1c837ec948836909ae9749eac44a0/expr.ipynb\"><img src=\"../06008dafebac1c837ec948836909ae9749eac44a0/expr.png\" style=\"display:inline;vertical-align:middle;\" /></a></td></tr>\n",
       "<tr><td>20</td><td>Operation</td><td>operator:&nbsp;23<br>operands:&nbsp;22<br></td><td><a class=\"ProveItLink\" href=\"../../../../../../../core_expr_types/__pv_it/common/7fe1cafd85086b369e0eb3fc99bdc80bc0cc23a20/expr.ipynb\"><img src=\"../../../../../../../core_expr_types/__pv_it/common/7fe1cafd85086b369e0eb3fc99bdc80bc0cc23a20/expr.png\" style=\"display:inline;vertical-align:middle;\" /></a></td></tr>\n",
       "<tr><td>21</td><td>Operation</td><td>operator:&nbsp;23<br>operands:&nbsp;24<br></td><td><a class=\"ProveItLink\" href=\"../../../../../../../core_expr_types/__pv_it/common/185bea0b9290b36eb93cb8f2c490a75776b5b9450/expr.ipynb\"><img src=\"../../../../../../../core_expr_types/__pv_it/common/185bea0b9290b36eb93cb8f2c490a75776b5b9450/expr.png\" style=\"display:inline;vertical-align:middle;\" /></a></td></tr>\n",
       "<tr><td>22</td><td>ExprTuple</td><td>25</td><td><a class=\"ProveItLink\" href=\"../../../../../../../core_expr_types/__pv_it/common/bc5a51653f81549e556d6290bca69fc284f6a01a0/expr.ipynb\"><img src=\"../../../../../../../core_expr_types/__pv_it/common/bc5a51653f81549e556d6290bca69fc284f6a01a0/expr.png\" style=\"display:inline;vertical-align:middle;\" /></a></td></tr>\n",
       "<tr><td>23</td><td>Variable</td><td></td><td><a class=\"ProveItLink\" href=\"../../../../../../../__pv_it/common/de55da274ba0f49c86925fbf3828021c04d27faf0/expr.ipynb\"><img src=\"../../../../../../../__pv_it/common/de55da274ba0f49c86925fbf3828021c04d27faf0/expr.png\" style=\"display:inline;vertical-align:middle;\" /></a></td></tr>\n",
       "<tr><td>24</td><td>ExprTuple</td><td>26</td><td><a class=\"ProveItLink\" href=\"../../../../../../../core_expr_types/__pv_it/common/9c66220ba60ab7d55ee4aafabb6d625b232c79570/expr.ipynb\"><img src=\"../../../../../../../core_expr_types/__pv_it/common/9c66220ba60ab7d55ee4aafabb6d625b232c79570/expr.png\" style=\"display:inline;vertical-align:middle;\" /></a></td></tr>\n",
       "<tr><td>25</td><td>ExprRange</td><td>lambda_map:&nbsp;27<br>start_index:&nbsp;35<br>end_index:&nbsp;34<br></td><td><a class=\"ProveItLink\" href=\"../../../../../../../core_expr_types/__pv_it/common/450167a24f71fe5474c458dd6e7d0df5b127faa80/expr.ipynb\"><img src=\"../../../../../../../core_expr_types/__pv_it/common/450167a24f71fe5474c458dd6e7d0df5b127faa80/expr.png\" style=\"display:inline;vertical-align:middle;\" /></a></td></tr>\n",
       "<tr><td>26</td><td>ExprRange</td><td>lambda_map:&nbsp;27<br>start_index:&nbsp;35<br>end_index:&nbsp;28<br></td><td><a class=\"ProveItLink\" href=\"../../../../../../../core_expr_types/__pv_it/common/afb7fac5f96a35620bd281527fd426dea103b8ff0/expr.ipynb\"><img src=\"../../../../../../../core_expr_types/__pv_it/common/afb7fac5f96a35620bd281527fd426dea103b8ff0/expr.png\" style=\"display:inline;vertical-align:middle;\" /></a></td></tr>\n",
       "<tr><td>27</td><td>Lambda</td><td>parameter:&nbsp;33<br>body:&nbsp;29<br></td><td><a class=\"ProveItLink\" href=\"../../../../../../../core_expr_types/__pv_it/common/3d60e3d4d9f83b7d879c0d18fec5b16b4aa6e4690/expr.ipynb\"><img src=\"../../../../../../../core_expr_types/__pv_it/common/3d60e3d4d9f83b7d879c0d18fec5b16b4aa6e4690/expr.png\" style=\"display:inline;vertical-align:middle;\" /></a></td></tr>\n",
       "<tr><td>28</td><td>Operation</td><td>operator:&nbsp;30<br>operands:&nbsp;31<br></td><td><a class=\"ProveItLink\" href=\"../../../../../../../core_expr_types/__pv_it/common/b2c8bb3f7e888de43490a5d2c485bc5fd8be70ac0/expr.ipynb\"><img src=\"../../../../../../../core_expr_types/__pv_it/common/b2c8bb3f7e888de43490a5d2c485bc5fd8be70ac0/expr.png\" style=\"display:inline;vertical-align:middle;\" /></a></td></tr>\n",
       "<tr><td>29</td><td>IndexedVar</td><td>variable:&nbsp;32<br>index:&nbsp;33<br></td><td><a class=\"ProveItLink\" href=\"../../../../../../../core_expr_types/__pv_it/common/257cd3299a4ed17f19c9fc89f960a93cbda02b550/expr.ipynb\"><img src=\"../../../../../../../core_expr_types/__pv_it/common/257cd3299a4ed17f19c9fc89f960a93cbda02b550/expr.png\" style=\"display:inline;vertical-align:middle;\" /></a></td></tr>\n",
       "<tr><td>30</td><td>Literal</td><td></td><td><a class=\"ProveItLink\" href=\"../../../../../../../numbers/addition/__pv_it/common/4b7effaab3619a1c2c38fe2dee8601df8ec714590/expr.ipynb\"><img src=\"../../../../../../../numbers/addition/__pv_it/common/4b7effaab3619a1c2c38fe2dee8601df8ec714590/expr.png\" style=\"display:inline;vertical-align:middle;\" /></a></td></tr>\n",
       "<tr><td>31</td><td>ExprTuple</td><td>34, 35</td><td><a class=\"ProveItLink\" href=\"../../../../../../../core_expr_types/__pv_it/common/75c507f5e87d8a62f5631ecdd8d409d16c2df7980/expr.ipynb\"><img src=\"../../../../../../../core_expr_types/__pv_it/common/75c507f5e87d8a62f5631ecdd8d409d16c2df7980/expr.png\" style=\"display:inline;vertical-align:middle;\" /></a></td></tr>\n",
       "<tr><td>32</td><td>Variable</td><td></td><td><a class=\"ProveItLink\" href=\"../../../../../../../__pv_it/common/a0d9d672aa5e272d907247690c152cc2c6daafb70/expr.ipynb\"><img src=\"../../../../../../../__pv_it/common/a0d9d672aa5e272d907247690c152cc2c6daafb70/expr.png\" style=\"display:inline;vertical-align:middle;\" /></a></td></tr>\n",
       "<tr><td>33</td><td>Variable</td><td></td><td><a class=\"ProveItLink\" href=\"../../../../../../../core_expr_types/__pv_it/common/006c465e50948aa2b52285e2de47974f741255cc0/expr.ipynb\"><img src=\"../../../../../../../core_expr_types/__pv_it/common/006c465e50948aa2b52285e2de47974f741255cc0/expr.png\" style=\"display:inline;vertical-align:middle;\" /></a></td></tr>\n",
       "<tr><td>34</td><td>Variable</td><td></td><td><a class=\"ProveItLink\" href=\"../../../../../../../__pv_it/common/8968bb04eb3f7dfa02353397ce929b025bbd79c20/expr.ipynb\"><img src=\"../../../../../../../__pv_it/common/8968bb04eb3f7dfa02353397ce929b025bbd79c20/expr.png\" style=\"display:inline;vertical-align:middle;\" /></a></td></tr>\n",
       "<tr><td>35</td><td>Literal</td><td></td><td><a class=\"ProveItLink\" href=\"../../../../../../../numbers/numerals/__pv_it/common/2778428c7f555b2bdc06aa0530bc142c6e6335100/expr.ipynb\"><img src=\"../../../../../../../numbers/numerals/__pv_it/common/2778428c7f555b2bdc06aa0530bc142c6e6335100/expr.png\" style=\"display:inline;vertical-align:middle;\" /></a></td></tr>\n",
       "</table>\n"
      ],
      "text/plain": [
       "0. P() and [forall_{n in Natural} ([forall_{x_{1}, ..x_{_a}.., x_{n}} P(x_{1}, ..x_{_a}.., x_{n})] =>  \\\\ [forall_{x_{1}, ..x_{_a}.., x_{n + 1}} P(x_{1}, ..x_{_a}.., x_{n + 1})])]\n",
       "   core type: Operation\n",
       "   operator: 1\n",
       "   operands: 2\n",
       "1. and\n",
       "   core type: Literal\n",
       "   sub-expressions: \n",
       "2. (P(), forall_{n in Natural} ([forall_{x_{1}, ..x_{_a}.., x_{n}} P(x_{1}, ..x_{_a}.., x_{n})] =>  \\\\ [forall_{x_{1}, ..x_{_a}.., x_{n + 1}} P(x_{1}, ..x_{_a}.., x_{n + 1})]))\n",
       "   core type: ExprTuple\n",
       "   sub-expressions: 3, 4\n",
       "3. P()\n",
       "   core type: Operation\n",
       "   operator: 23\n",
       "   operands: 5\n",
       "4. forall_{n in Natural} ([forall_{x_{1}, ..x_{_a}.., x_{n}} P(x_{1}, ..x_{_a}.., x_{n})] =>  \\\\ [forall_{x_{1}, ..x_{_a}.., x_{n + 1}} P(x_{1}, ..x_{_a}.., x_{n + 1})])\n",
       "   core type: Operation\n",
       "   operator: 18\n",
       "   operand: 6\n",
       "5. ()\n",
       "   core type: ExprTuple\n",
       "   sub-expressions: \n",
       "6. n -> {[forall_{x_{1}, ..x_{_a}.., x_{n}} P(x_{1}, ..x_{_a}.., x_{n})] =>  \\\\ [forall_{x_{1}, ..x_{_a}.., x_{n + 1}} P(x_{1}, ..x_{_a}.., x_{n + 1})] if n in Natural.\n",
       "   core type: Lambda\n",
       "   parameter: 34\n",
       "   body: 7\n",
       "7. {[forall_{x_{1}, ..x_{_a}.., x_{n}} P(x_{1}, ..x_{_a}.., x_{n})] =>  \\\\ [forall_{x_{1}, ..x_{_a}.., x_{n + 1}} P(x_{1}, ..x_{_a}.., x_{n + 1})] if n in Natural.\n",
       "   core type: Conditional\n",
       "   value: 8\n",
       "   condition: 9\n",
       "8. [forall_{x_{1}, ..x_{_a}.., x_{n}} P(x_{1}, ..x_{_a}.., x_{n})] =>  \\\\ [forall_{x_{1}, ..x_{_a}.., x_{n + 1}} P(x_{1}, ..x_{_a}.., x_{n + 1})]\n",
       "   core type: Operation\n",
       "   operator: 10\n",
       "   operands: 11\n",
       "9. n in Natural\n",
       "   core type: Operation\n",
       "   operator: 12\n",
       "   operands: 13\n",
       "10. =>\n",
       "    core type: Literal\n",
       "    sub-expressions: \n",
       "11. (forall_{x_{1}, ..x_{_a}.., x_{n}} P(x_{1}, ..x_{_a}.., x_{n}), forall_{x_{1}, ..x_{_a}.., x_{n + 1}} P(x_{1}, ..x_{_a}.., x_{n + 1}))\n",
       "    core type: ExprTuple\n",
       "    sub-expressions: 14, 15\n",
       "12. in\n",
       "    core type: Literal\n",
       "    sub-expressions: \n",
       "13. (n, Natural)\n",
       "    core type: ExprTuple\n",
       "    sub-expressions: 34, 16\n",
       "14. forall_{x_{1}, ..x_{_a}.., x_{n}} P(x_{1}, ..x_{_a}.., x_{n})\n",
       "    core type: Operation\n",
       "    operator: 18\n",
       "    operand: 17\n",
       "15. forall_{x_{1}, ..x_{_a}.., x_{n + 1}} P(x_{1}, ..x_{_a}.., x_{n + 1})\n",
       "    core type: Operation\n",
       "    operator: 18\n",
       "    operand: 19\n",
       "16. Natural\n",
       "    core type: Literal\n",
       "    sub-expressions: \n",
       "17. (x_{1}, ..x_{_a}.., x_{n}) -> P(x_{1}, ..x_{_a}.., x_{n})\n",
       "    core type: Lambda\n",
       "    parameters: 22\\n    body: 20\n",
       "18. forall\n",
       "    core type: Literal\n",
       "    sub-expressions: \n",
       "19. (x_{1}, ..x_{_a}.., x_{n + 1}) -> P(x_{1}, ..x_{_a}.., x_{n + 1})\n",
       "    core type: Lambda\n",
       "    parameters: 24\\n    body: 21\n",
       "20. P(x_{1}, ..x_{_a}.., x_{n})\n",
       "    core type: Operation\n",
       "    operator: 23\n",
       "    operands: 22\n",
       "21. P(x_{1}, ..x_{_a}.., x_{n + 1})\n",
       "    core type: Operation\n",
       "    operator: 23\n",
       "    operands: 24\n",
       "22. (x_{1}, ..x_{_a}.., x_{n})\n",
       "    core type: ExprTuple\n",
       "    sub-expressions: 25\n",
       "23. P\n",
       "    core type: Variable\n",
       "    sub-expressions: \n",
       "24. (x_{1}, ..x_{_a}.., x_{n + 1})\n",
       "    core type: ExprTuple\n",
       "    sub-expressions: 26\n",
       "25. x_{1}, ..x_{_a}.., x_{n}\n",
       "    core type: ExprRange\n",
       "    lambda_map: 27\n",
       "    start_index: 35\n",
       "    end_index: 34\n",
       "26. x_{1}, ..x_{_a}.., x_{n + 1}\n",
       "    core type: ExprRange\n",
       "    lambda_map: 27\n",
       "    start_index: 35\n",
       "    end_index: 28\n",
       "27. _a -> x_{_a}\n",
       "    core type: Lambda\n",
       "    parameter: 33\n",
       "    body: 29\n",
       "28. n + 1\n",
       "    core type: Operation\n",
       "    operator: 30\n",
       "    operands: 31\n",
       "29. x_{_a}\n",
       "    core type: IndexedVar\n",
       "variable: 32\n",
       "index: 33\n",
       "30. +\n",
       "    core type: Literal\n",
       "    sub-expressions: \n",
       "31. (n, 1)\n",
       "    core type: ExprTuple\n",
       "    sub-expressions: 34, 35\n",
       "32. x\n",
       "    core type: Variable\n",
       "    sub-expressions: \n",
       "33. _a\n",
       "    core type: Variable\n",
       "    sub-expressions: \n",
       "34. n\n",
       "    core type: Variable\n",
       "    sub-expressions: \n",
       "35. 1\n",
       "    core type: Literal\n",
       "    sub-expressions: "
      ]
     },
     "execution_count": 5,
     "metadata": {},
     "output_type": "execute_result"
    }
   ],
   "source": [
    "# display the expression information\n",
    "expr.expr_info()"
   ]
  },
  {
   "cell_type": "code",
   "execution_count": null,
   "metadata": {},
   "outputs": [],
   "source": []
  }
 ],
 "metadata": {
  "kernelspec": {
   "display_name": "Python 3",
   "language": "python",
   "name": "python3"
  }
 },
 "nbformat": 4,
 "nbformat_minor": 0
}