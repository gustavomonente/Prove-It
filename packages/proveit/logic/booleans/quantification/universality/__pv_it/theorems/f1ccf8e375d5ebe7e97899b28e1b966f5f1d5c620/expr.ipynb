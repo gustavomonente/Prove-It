{
 "cells": [
  {
   "cell_type": "markdown",
   "metadata": {},
   "source": [
    "Expression of type <a class=\"ProveItLink\" href=\"../../../../../../../../../doc/html/api/proveit.logic.Implies.html\">Implies</a>\n",
    "=======================\n",
    "# from the theory of <a class=\"ProveItLink\" href=\"../../../_theory_nbs_/theory.ipynb\">proveit.logic.booleans.quantification.universality</a>"
   ]
  },
  {
   "cell_type": "code",
   "execution_count": 1,
   "metadata": {},
   "outputs": [],
   "source": [
    "import proveit\n",
    "# Automation is not needed when building an expression:\n",
    "proveit.defaults.automation = False # This will speed things up.\n",
    "proveit.defaults.inline_pngs = False # Makes files smaller.\n",
    "%load_expr # Load the stored expression as 'stored_expr'\n",
    "# import Expression classes needed to build the expression\n",
    "from proveit import Function, P, n\n",
    "from proveit.core_expr_types import P__x_1_to_n, P__x_1_to_np1, x_1_to_n, x_1_to_np1\n",
    "from proveit.logic import And, Forall, Implies\n",
    "from proveit.numbers import Natural"
   ]
  },
  {
   "cell_type": "code",
   "execution_count": 2,
   "metadata": {},
   "outputs": [
    {
     "data": {
      "text/html": [
       "<strong id=\"expr\">expr:</strong> <a class=\"ProveItLink\" href=\"expr.ipynb\"><img src=\"expr.png\" style=\"display:inline;vertical-align:middle;\" /></a><br>"
      ],
      "text/plain": [
       "expr: (P() and [forall_{n in Natural} ([forall_{x_{1}, ..x_{_a}.., x_{n}} P(x_{1}, ..x_{_a}.., x_{n})] =>  \\\\ [forall_{x_{1}, ..x_{_a}.., x_{n + 1}} P(x_{1}, ..x_{_a}.., x_{n + 1})])]) \\\\  => [forall_{n in Natural} [forall_{x_{1}, ..x_{_a}.., x_{n}} P(x_{1}, ..x_{_a}.., x_{n})]]"
      ]
     },
     "execution_count": 2,
     "metadata": {},
     "output_type": "execute_result"
    }
   ],
   "source": [
    "# build up the expression from sub-expressions\n",
    "sub_expr1 = [n]\n",
    "sub_expr2 = [Natural]\n",
    "sub_expr3 = Forall([x_1_to_n], P__x_1_to_n)\n",
    "expr = Implies(And(Function(P, []), Forall(sub_expr1, Implies(sub_expr3, Forall([x_1_to_np1], P__x_1_to_np1)).with_wrapping_at(2), domains = sub_expr2)), Forall(sub_expr1, sub_expr3, domains = sub_expr2)).with_wrapping_at(1)"
   ]
  },
  {
   "cell_type": "code",
   "execution_count": 3,
   "metadata": {},
   "outputs": [
    {
     "name": "stdout",
     "output_type": "stream",
     "text": [
      "Passed sanity check: expr matches stored_expr\n"
     ]
    }
   ],
   "source": [
    "# check that the built expression is the same as the stored expression\n",
    "assert expr == stored_expr\n",
    "assert expr._style_id == stored_expr._style_id\n",
    "print(\"Passed sanity check: expr matches stored_expr\")"
   ]
  },
  {
   "cell_type": "code",
   "execution_count": 4,
   "metadata": {},
   "outputs": [
    {
     "name": "stdout",
     "output_type": "stream",
     "text": [
      "\\begin{array}{c} \\begin{array}{l} \\left(P() \\land \\left[\\forall_{n \\in \\mathbb{N}}~\\left(\\begin{array}{c} \\begin{array}{l} \\left[\\forall_{x_{1}, \\ldots, x_{n}}~P(x_{1}, \\ldots, x_{n})\\right] \\Rightarrow  \\\\ \\left[\\forall_{x_{1}, \\ldots, x_{n + 1}}~P(x_{1}, \\ldots, x_{n + 1})\\right] \\end{array} \\end{array}\\right)\\right]\\right) \\\\  \\Rightarrow \\left[\\forall_{n \\in \\mathbb{N}}~\\left[\\forall_{x_{1}, \\ldots, x_{n}}~P(x_{1}, \\ldots, x_{n})\\right]\\right] \\end{array} \\end{array}\n"
     ]
    }
   ],
   "source": [
    "# Show the LaTeX representation of the expression for convenience if you need it.\n",
    "print(expr.latex())"
   ]
  },
  {
   "cell_type": "code",
   "execution_count": 5,
   "metadata": {},
   "outputs": [
    {
     "data": {
      "text/html": [
       "<table>\n",
       "<tr><th>name</th><th>description</th><th>default</th><th>current value</th><th>related methods</th></tr><tr><td>operation</td><td>'infix' or 'function' style formatting</td><td>infix</td><td>infix</td><td></td></tr>\n",
       "<tr><td>wrap_positions</td><td>position(s) at which wrapping is to occur; '2 n - 1' is after the nth operand, '2 n' is after the nth operation.</td><td>()</td><td>(1)</td><td>('with_wrapping_at', 'with_wrap_before_operator', 'with_wrap_after_operator', 'wrap_positions')</td></tr>\n",
       "<tr><td>justification</td><td>if any wrap positions are set, justify to the 'left', 'center', or 'right'</td><td>center</td><td>center</td><td>('with_justification',)</td></tr>\n",
       "<tr><td>direction</td><td>Direction of the relation (normal or reversed)</td><td>normal</td><td>normal</td><td>('with_direction_reversed', 'is_reversed')</td></tr>\n",
       "</table>\n"
      ],
      "text/plain": [
       "style name: operation\n",
       "description: 'infix' or 'function' style formatting\n",
       "default: infix\n",
       "current value: infix\n",
       "related methods: ()\n",
       "style name: wrap_positions\n",
       "description: position(s) at which wrapping is to occur; '2 n - 1' is after the nth operand, '2 n' is after the nth operation.\n",
       "default: ()\n",
       "current value: (1)\n",
       "related methods: ('with_wrapping_at', 'with_wrap_before_operator', 'with_wrap_after_operator', 'wrap_positions')\n",
       "style name: justification\n",
       "description: if any wrap positions are set, justify to the 'left', 'center', or 'right'\n",
       "default: center\n",
       "current value: center\n",
       "related methods: ('with_justification',)\n",
       "style name: direction\n",
       "description: Direction of the relation (normal or reversed)\n",
       "default: normal\n",
       "current value: normal\n",
       "related methods: ('with_direction_reversed', 'is_reversed')"
      ]
     },
     "execution_count": 5,
     "metadata": {},
     "output_type": "execute_result"
    }
   ],
   "source": [
    "expr.style_options()"
   ]
  },
  {
   "cell_type": "code",
   "execution_count": 6,
   "metadata": {},
   "outputs": [
    {
     "data": {
      "text/html": [
       "<table><tr><th>&nbsp;</th><th>core type</th><th>sub-expressions</th><th>expression</th></tr>\n",
       "<tr><td>0</td><td>Operation</td><td>operator:&nbsp;17<br>operands:&nbsp;1<br></td><td><a class=\"ProveItLink\" href=\"expr.ipynb\"><img src=\"expr.png\" style=\"display:inline;vertical-align:middle;\" /></a></td></tr>\n",
       "<tr><td>1</td><td>ExprTuple</td><td>2, 3</td><td><a class=\"ProveItLink\" href=\"../53c755c49e5d5b5d665c746d4fdc404c52f3f0170/expr.ipynb\"><img src=\"../53c755c49e5d5b5d665c746d4fdc404c52f3f0170/expr.png\" style=\"display:inline;vertical-align:middle;\" /></a></td></tr>\n",
       "<tr><td>2</td><td>Operation</td><td>operator:&nbsp;4<br>operands:&nbsp;5<br></td><td><a class=\"ProveItLink\" href=\"../0291c825f0401652eaf798e7193bfa57654ea3f30/expr.ipynb\"><img src=\"../0291c825f0401652eaf798e7193bfa57654ea3f30/expr.png\" style=\"display:inline;vertical-align:middle;\" /></a></td></tr>\n",
       "<tr><td>3</td><td>Operation</td><td>operator:&nbsp;25<br>operand:&nbsp;9<br></td><td><a class=\"ProveItLink\" href=\"../371845166c43eb040853079280a479a684dc80470/expr.ipynb\"><img src=\"../371845166c43eb040853079280a479a684dc80470/expr.png\" style=\"display:inline;vertical-align:middle;\" /></a></td></tr>\n",
       "<tr><td>4</td><td>Literal</td><td></td><td><a class=\"ProveItLink\" href=\"../../../../../conjunction/__pv_it/common/26b94b53e70b1d77b70f0d9d4236347db37731060/expr.ipynb\"><img src=\"../../../../../conjunction/__pv_it/common/26b94b53e70b1d77b70f0d9d4236347db37731060/expr.png\" style=\"display:inline;vertical-align:middle;\" /></a></td></tr>\n",
       "<tr><td>5</td><td>ExprTuple</td><td>7, 8</td><td><a class=\"ProveItLink\" href=\"../6d737c05b41b6f96ae6e417376b901fbe8a841320/expr.ipynb\"><img src=\"../6d737c05b41b6f96ae6e417376b901fbe8a841320/expr.png\" style=\"display:inline;vertical-align:middle;\" /></a></td></tr>\n",
       "<tr><td>6</td><td>ExprTuple</td><td>9</td><td><a class=\"ProveItLink\" href=\"../ace0ee32a79188107d33827e8c46b716a1c3a5f20/expr.ipynb\"><img src=\"../ace0ee32a79188107d33827e8c46b716a1c3a5f20/expr.png\" style=\"display:inline;vertical-align:middle;\" /></a></td></tr>\n",
       "<tr><td>7</td><td>Operation</td><td>operator:&nbsp;32<br>operands:&nbsp;10<br></td><td><a class=\"ProveItLink\" href=\"../98f635d6cbef37de115f0c1cdce8c6a0143d35aa0/expr.ipynb\"><img src=\"../98f635d6cbef37de115f0c1cdce8c6a0143d35aa0/expr.png\" style=\"display:inline;vertical-align:middle;\" /></a></td></tr>\n",
       "<tr><td>8</td><td>Operation</td><td>operator:&nbsp;25<br>operand:&nbsp;13<br></td><td><a class=\"ProveItLink\" href=\"../5f2caa5c5903305e31116b75566443da3d6eb73a0/expr.ipynb\"><img src=\"../5f2caa5c5903305e31116b75566443da3d6eb73a0/expr.png\" style=\"display:inline;vertical-align:middle;\" /></a></td></tr>\n",
       "<tr><td>9</td><td>Lambda</td><td>parameter:&nbsp;43<br>body:&nbsp;12<br></td><td><a class=\"ProveItLink\" href=\"../529cd34edd16cade042cd8dbdfd443a9ddbb13530/expr.ipynb\"><img src=\"../529cd34edd16cade042cd8dbdfd443a9ddbb13530/expr.png\" style=\"display:inline;vertical-align:middle;\" /></a></td></tr>\n",
       "<tr><td>10</td><td>ExprTuple</td><td></td><td><a class=\"ProveItLink\" href=\"../1a4193f1deeaf7a4a6b6289328d46189ae6a257f0/expr.ipynb\"><img src=\"../1a4193f1deeaf7a4a6b6289328d46189ae6a257f0/expr.png\" style=\"display:inline;vertical-align:middle;\" /></a></td></tr>\n",
       "<tr><td>11</td><td>ExprTuple</td><td>13</td><td><a class=\"ProveItLink\" href=\"../ae21ae085a7389f2b2c3c1596ccc49363dcd3d860/expr.ipynb\"><img src=\"../ae21ae085a7389f2b2c3c1596ccc49363dcd3d860/expr.png\" style=\"display:inline;vertical-align:middle;\" /></a></td></tr>\n",
       "<tr><td>12</td><td>Conditional</td><td>value:&nbsp;21<br>condition:&nbsp;16<br></td><td><a class=\"ProveItLink\" href=\"../beaf5de03f4ea6bd17897941686dd3b647b9a5320/expr.ipynb\"><img src=\"../beaf5de03f4ea6bd17897941686dd3b647b9a5320/expr.png\" style=\"display:inline;vertical-align:middle;\" /></a></td></tr>\n",
       "<tr><td>13</td><td>Lambda</td><td>parameter:&nbsp;43<br>body:&nbsp;14<br></td><td><a class=\"ProveItLink\" href=\"../ee77b3b35a61e188c75a6b1588cb82c2175870900/expr.ipynb\"><img src=\"../ee77b3b35a61e188c75a6b1588cb82c2175870900/expr.png\" style=\"display:inline;vertical-align:middle;\" /></a></td></tr>\n",
       "<tr><td>14</td><td>Conditional</td><td>value:&nbsp;15<br>condition:&nbsp;16<br></td><td><a class=\"ProveItLink\" href=\"../ea75500831cf268e34d27b1a54176b82446c0d760/expr.ipynb\"><img src=\"../ea75500831cf268e34d27b1a54176b82446c0d760/expr.png\" style=\"display:inline;vertical-align:middle;\" /></a></td></tr>\n",
       "<tr><td>15</td><td>Operation</td><td>operator:&nbsp;17<br>operands:&nbsp;18<br></td><td><a class=\"ProveItLink\" href=\"../639547f279c29d3a96459889d30a1adc67c151a00/expr.ipynb\"><img src=\"../639547f279c29d3a96459889d30a1adc67c151a00/expr.png\" style=\"display:inline;vertical-align:middle;\" /></a></td></tr>\n",
       "<tr><td>16</td><td>Operation</td><td>operator:&nbsp;19<br>operands:&nbsp;20<br></td><td><a class=\"ProveItLink\" href=\"../e3c5b209faa86f1e812d35da64c9d9b711de675d0/expr.ipynb\"><img src=\"../e3c5b209faa86f1e812d35da64c9d9b711de675d0/expr.png\" style=\"display:inline;vertical-align:middle;\" /></a></td></tr>\n",
       "<tr><td>17</td><td>Literal</td><td></td><td><a class=\"ProveItLink\" href=\"../../../../../implication/__pv_it/common/95a8cc69d34af52c7732e4a6fefbd5b63e8d31ba0/expr.ipynb\"><img src=\"../../../../../implication/__pv_it/common/95a8cc69d34af52c7732e4a6fefbd5b63e8d31ba0/expr.png\" style=\"display:inline;vertical-align:middle;\" /></a></td></tr>\n",
       "<tr><td>18</td><td>ExprTuple</td><td>21, 22</td><td><a class=\"ProveItLink\" href=\"../71f9025627ffcd703382ed01c660cd2c2cffe7ba0/expr.ipynb\"><img src=\"../71f9025627ffcd703382ed01c660cd2c2cffe7ba0/expr.png\" style=\"display:inline;vertical-align:middle;\" /></a></td></tr>\n",
       "<tr><td>19</td><td>Literal</td><td></td><td><a class=\"ProveItLink\" href=\"../../../../../../sets/membership/__pv_it/common/7171deca84f71f47a6ec7696972d1632274a12880/expr.ipynb\"><img src=\"../../../../../../sets/membership/__pv_it/common/7171deca84f71f47a6ec7696972d1632274a12880/expr.png\" style=\"display:inline;vertical-align:middle;\" /></a></td></tr>\n",
       "<tr><td>20</td><td>ExprTuple</td><td>43, 23</td><td><a class=\"ProveItLink\" href=\"../248776733c2a8aa9cdfdf4f76f63a3d26b6d139d0/expr.ipynb\"><img src=\"../248776733c2a8aa9cdfdf4f76f63a3d26b6d139d0/expr.png\" style=\"display:inline;vertical-align:middle;\" /></a></td></tr>\n",
       "<tr><td>21</td><td>Operation</td><td>operator:&nbsp;25<br>operand:&nbsp;27<br></td><td><a class=\"ProveItLink\" href=\"../7cbf4e974f48da89bdec791cc2a55dd8cd0402f10/expr.ipynb\"><img src=\"../7cbf4e974f48da89bdec791cc2a55dd8cd0402f10/expr.png\" style=\"display:inline;vertical-align:middle;\" /></a></td></tr>\n",
       "<tr><td>22</td><td>Operation</td><td>operator:&nbsp;25<br>operand:&nbsp;28<br></td><td><a class=\"ProveItLink\" href=\"../7b6bd6d491e10d52023c09fe7d7620ca311c74af0/expr.ipynb\"><img src=\"../7b6bd6d491e10d52023c09fe7d7620ca311c74af0/expr.png\" style=\"display:inline;vertical-align:middle;\" /></a></td></tr>\n",
       "<tr><td>23</td><td>Literal</td><td></td><td><a class=\"ProveItLink\" href=\"../../../../../../../numbers/number_sets/natural_numbers/__pv_it/common/85c8b43c90a7392ebb5459360d343dfa7c7408b50/expr.ipynb\"><img src=\"../../../../../../../numbers/number_sets/natural_numbers/__pv_it/common/85c8b43c90a7392ebb5459360d343dfa7c7408b50/expr.png\" style=\"display:inline;vertical-align:middle;\" /></a></td></tr>\n",
       "<tr><td>24</td><td>ExprTuple</td><td>27</td><td><a class=\"ProveItLink\" href=\"../fbf38240003f24b2cdfaa84fedad912ca2a83e7f0/expr.ipynb\"><img src=\"../fbf38240003f24b2cdfaa84fedad912ca2a83e7f0/expr.png\" style=\"display:inline;vertical-align:middle;\" /></a></td></tr>\n",
       "<tr><td>25</td><td>Literal</td><td></td><td><a class=\"ProveItLink\" href=\"../../common/684d35ba98fcbf8ca5011f865e530a51e77730630/expr.ipynb\"><img src=\"../../common/684d35ba98fcbf8ca5011f865e530a51e77730630/expr.png\" style=\"display:inline;vertical-align:middle;\" /></a></td></tr>\n",
       "<tr><td>26</td><td>ExprTuple</td><td>28</td><td><a class=\"ProveItLink\" href=\"../f80679a31403e88a9b5894420b8169a8c9211d310/expr.ipynb\"><img src=\"../f80679a31403e88a9b5894420b8169a8c9211d310/expr.png\" style=\"display:inline;vertical-align:middle;\" /></a></td></tr>\n",
       "<tr><td>27</td><td>Lambda</td><td>parameters:&nbsp;31<br>body:&nbsp;29<br></td><td><a class=\"ProveItLink\" href=\"../e93709308f461d9f39f1d7749e106bf4742f227a0/expr.ipynb\"><img src=\"../e93709308f461d9f39f1d7749e106bf4742f227a0/expr.png\" style=\"display:inline;vertical-align:middle;\" /></a></td></tr>\n",
       "<tr><td>28</td><td>Lambda</td><td>parameters:&nbsp;33<br>body:&nbsp;30<br></td><td><a class=\"ProveItLink\" href=\"../e3875710aa106352dc58053a7421b5f32829e2990/expr.ipynb\"><img src=\"../e3875710aa106352dc58053a7421b5f32829e2990/expr.png\" style=\"display:inline;vertical-align:middle;\" /></a></td></tr>\n",
       "<tr><td>29</td><td>Operation</td><td>operator:&nbsp;32<br>operands:&nbsp;31<br></td><td><a class=\"ProveItLink\" href=\"../../../../../../../core_expr_types/__pv_it/common/78c706747c3274baffd484b0054c01f4d0dbbb710/expr.ipynb\"><img src=\"../../../../../../../core_expr_types/__pv_it/common/78c706747c3274baffd484b0054c01f4d0dbbb710/expr.png\" style=\"display:inline;vertical-align:middle;\" /></a></td></tr>\n",
       "<tr><td>30</td><td>Operation</td><td>operator:&nbsp;32<br>operands:&nbsp;33<br></td><td><a class=\"ProveItLink\" href=\"../../../../../../../core_expr_types/__pv_it/common/1016f1dc4e24ab1f376cf06ad4e17a6f0dfdabb90/expr.ipynb\"><img src=\"../../../../../../../core_expr_types/__pv_it/common/1016f1dc4e24ab1f376cf06ad4e17a6f0dfdabb90/expr.png\" style=\"display:inline;vertical-align:middle;\" /></a></td></tr>\n",
       "<tr><td>31</td><td>ExprTuple</td><td>34</td><td><a class=\"ProveItLink\" href=\"../../../../../../../core_expr_types/__pv_it/common/b4e28f93c14fb65f5b1261855b2d1dea9481c6120/expr.ipynb\"><img src=\"../../../../../../../core_expr_types/__pv_it/common/b4e28f93c14fb65f5b1261855b2d1dea9481c6120/expr.png\" style=\"display:inline;vertical-align:middle;\" /></a></td></tr>\n",
       "<tr><td>32</td><td>Variable</td><td></td><td><a class=\"ProveItLink\" href=\"../../../../../../../__pv_it/common/d5fc3066299847984076662ce51556220bdb6cfb0/expr.ipynb\"><img src=\"../../../../../../../__pv_it/common/d5fc3066299847984076662ce51556220bdb6cfb0/expr.png\" style=\"display:inline;vertical-align:middle;\" /></a></td></tr>\n",
       "<tr><td>33</td><td>ExprTuple</td><td>35</td><td><a class=\"ProveItLink\" href=\"../../../../../../../core_expr_types/__pv_it/common/3c03784ac59ab6c7b4711555cb77125652813bdd0/expr.ipynb\"><img src=\"../../../../../../../core_expr_types/__pv_it/common/3c03784ac59ab6c7b4711555cb77125652813bdd0/expr.png\" style=\"display:inline;vertical-align:middle;\" /></a></td></tr>\n",
       "<tr><td>34</td><td>ExprRange</td><td>lambda_map:&nbsp;36<br>start_index:&nbsp;44<br>end_index:&nbsp;43<br></td><td><a class=\"ProveItLink\" href=\"../../../../../../../core_expr_types/__pv_it/common/787727f81f9180661d3864875ecab8ab340921c50/expr.ipynb\"><img src=\"../../../../../../../core_expr_types/__pv_it/common/787727f81f9180661d3864875ecab8ab340921c50/expr.png\" style=\"display:inline;vertical-align:middle;\" /></a></td></tr>\n",
       "<tr><td>35</td><td>ExprRange</td><td>lambda_map:&nbsp;36<br>start_index:&nbsp;44<br>end_index:&nbsp;37<br></td><td><a class=\"ProveItLink\" href=\"../../../../../../../core_expr_types/__pv_it/common/cf679bd526442db3adcd7973a79b3de7b0c493120/expr.ipynb\"><img src=\"../../../../../../../core_expr_types/__pv_it/common/cf679bd526442db3adcd7973a79b3de7b0c493120/expr.png\" style=\"display:inline;vertical-align:middle;\" /></a></td></tr>\n",
       "<tr><td>36</td><td>Lambda</td><td>parameter:&nbsp;45<br>body:&nbsp;38<br></td><td><a class=\"ProveItLink\" href=\"../../../../../../../core_expr_types/__pv_it/common/9f9da64a6f3f7f4d7d39593366f06c70046127720/expr.ipynb\"><img src=\"../../../../../../../core_expr_types/__pv_it/common/9f9da64a6f3f7f4d7d39593366f06c70046127720/expr.png\" style=\"display:inline;vertical-align:middle;\" /></a></td></tr>\n",
       "<tr><td>37</td><td>Operation</td><td>operator:&nbsp;39<br>operands:&nbsp;40<br></td><td><a class=\"ProveItLink\" href=\"../../../../../../../core_expr_types/__pv_it/common/7cdcafe98ce391abaebe76dd85e27b57e107f85f0/expr.ipynb\"><img src=\"../../../../../../../core_expr_types/__pv_it/common/7cdcafe98ce391abaebe76dd85e27b57e107f85f0/expr.png\" style=\"display:inline;vertical-align:middle;\" /></a></td></tr>\n",
       "<tr><td>38</td><td>IndexedVar</td><td>variable:&nbsp;41<br>index:&nbsp;45<br></td><td><a class=\"ProveItLink\" href=\"../../../../../../../core_expr_types/__pv_it/common/2b235eefbcbf7d9287528d44110903b9cfed0a2a0/expr.ipynb\"><img src=\"../../../../../../../core_expr_types/__pv_it/common/2b235eefbcbf7d9287528d44110903b9cfed0a2a0/expr.png\" style=\"display:inline;vertical-align:middle;\" /></a></td></tr>\n",
       "<tr><td>39</td><td>Literal</td><td></td><td><a class=\"ProveItLink\" href=\"../../../../../../../numbers/addition/__pv_it/common/1f38fe5cce441387feef296e2c0a2eac260bb4f30/expr.ipynb\"><img src=\"../../../../../../../numbers/addition/__pv_it/common/1f38fe5cce441387feef296e2c0a2eac260bb4f30/expr.png\" style=\"display:inline;vertical-align:middle;\" /></a></td></tr>\n",
       "<tr><td>40</td><td>ExprTuple</td><td>43, 44</td><td><a class=\"ProveItLink\" href=\"../../../../../../../core_expr_types/__pv_it/common/790f95d5aec463330ca0870954efe234cde60a330/expr.ipynb\"><img src=\"../../../../../../../core_expr_types/__pv_it/common/790f95d5aec463330ca0870954efe234cde60a330/expr.png\" style=\"display:inline;vertical-align:middle;\" /></a></td></tr>\n",
       "<tr><td>41</td><td>Variable</td><td></td><td><a class=\"ProveItLink\" href=\"../../../../../../../__pv_it/common/a2581dc5df71d9a30bad37de14965fa5fec97a240/expr.ipynb\"><img src=\"../../../../../../../__pv_it/common/a2581dc5df71d9a30bad37de14965fa5fec97a240/expr.png\" style=\"display:inline;vertical-align:middle;\" /></a></td></tr>\n",
       "<tr><td>42</td><td>ExprTuple</td><td>45</td><td><a class=\"ProveItLink\" href=\"../../../../../../../core_expr_types/__pv_it/common/ecf50ade416ab41c42c9f4e777b4c862cd9469670/expr.ipynb\"><img src=\"../../../../../../../core_expr_types/__pv_it/common/ecf50ade416ab41c42c9f4e777b4c862cd9469670/expr.png\" style=\"display:inline;vertical-align:middle;\" /></a></td></tr>\n",
       "<tr><td>43</td><td>Variable</td><td></td><td><a class=\"ProveItLink\" href=\"../../../../../../../__pv_it/common/6165c9bb82ce3c7097cdba4440a1aeeb6eaca8a40/expr.ipynb\"><img src=\"../../../../../../../__pv_it/common/6165c9bb82ce3c7097cdba4440a1aeeb6eaca8a40/expr.png\" style=\"display:inline;vertical-align:middle;\" /></a></td></tr>\n",
       "<tr><td>44</td><td>Literal</td><td></td><td><a class=\"ProveItLink\" href=\"../../../../../../../numbers/numerals/__pv_it/common/d278e359da0695d9652dd541d45264f93703e2e40/expr.ipynb\"><img src=\"../../../../../../../numbers/numerals/__pv_it/common/d278e359da0695d9652dd541d45264f93703e2e40/expr.png\" style=\"display:inline;vertical-align:middle;\" /></a></td></tr>\n",
       "<tr><td>45</td><td>Variable</td><td></td><td><a class=\"ProveItLink\" href=\"../../../../../../../core_expr_types/__pv_it/common/9e6d9d5d7eeb0342cf5bca68def0eb165a1a9bb10/expr.ipynb\"><img src=\"../../../../../../../core_expr_types/__pv_it/common/9e6d9d5d7eeb0342cf5bca68def0eb165a1a9bb10/expr.png\" style=\"display:inline;vertical-align:middle;\" /></a></td></tr>\n",
       "</table>\n"
      ],
      "text/plain": [
       "0. (P() and [forall_{n in Natural} ([forall_{x_{1}, ..x_{_a}.., x_{n}} P(x_{1}, ..x_{_a}.., x_{n})] =>  \\\\ [forall_{x_{1}, ..x_{_a}.., x_{n + 1}} P(x_{1}, ..x_{_a}.., x_{n + 1})])]) \\\\  => [forall_{n in Natural} [forall_{x_{1}, ..x_{_a}.., x_{n}} P(x_{1}, ..x_{_a}.., x_{n})]]\n",
       "   core type: Operation\n",
       "   operator: 17\n",
       "   operands: 1\n",
       "1. (P() and [forall_{n in Natural} ([forall_{x_{1}, ..x_{_a}.., x_{n}} P(x_{1}, ..x_{_a}.., x_{n})] =>  \\\\ [forall_{x_{1}, ..x_{_a}.., x_{n + 1}} P(x_{1}, ..x_{_a}.., x_{n + 1})])], forall_{n in Natural} [forall_{x_{1}, ..x_{_a}.., x_{n}} P(x_{1}, ..x_{_a}.., x_{n})])\n",
       "   core type: ExprTuple\n",
       "   sub-expressions: 2, 3\n",
       "2. P() and [forall_{n in Natural} ([forall_{x_{1}, ..x_{_a}.., x_{n}} P(x_{1}, ..x_{_a}.., x_{n})] =>  \\\\ [forall_{x_{1}, ..x_{_a}.., x_{n + 1}} P(x_{1}, ..x_{_a}.., x_{n + 1})])]\n",
       "   core type: Operation\n",
       "   operator: 4\n",
       "   operands: 5\n",
       "3. forall_{n in Natural} [forall_{x_{1}, ..x_{_a}.., x_{n}} P(x_{1}, ..x_{_a}.., x_{n})]\n",
       "   core type: Operation\n",
       "   operator: 25\n",
       "   operand: 9\n",
       "4. and\n",
       "   core type: Literal\n",
       "   sub-expressions: \n",
       "5. (P(), forall_{n in Natural} ([forall_{x_{1}, ..x_{_a}.., x_{n}} P(x_{1}, ..x_{_a}.., x_{n})] =>  \\\\ [forall_{x_{1}, ..x_{_a}.., x_{n + 1}} P(x_{1}, ..x_{_a}.., x_{n + 1})]))\n",
       "   core type: ExprTuple\n",
       "   sub-expressions: 7, 8\n",
       "6. (n -> {forall_{x_{1}, ..x_{_a}.., x_{n}} P(x_{1}, ..x_{_a}.., x_{n}) if n in Natural.)\n",
       "   core type: ExprTuple\n",
       "   sub-expressions: 9\n",
       "7. P()\n",
       "   core type: Operation\n",
       "   operator: 32\n",
       "   operands: 10\n",
       "8. forall_{n in Natural} ([forall_{x_{1}, ..x_{_a}.., x_{n}} P(x_{1}, ..x_{_a}.., x_{n})] =>  \\\\ [forall_{x_{1}, ..x_{_a}.., x_{n + 1}} P(x_{1}, ..x_{_a}.., x_{n + 1})])\n",
       "   core type: Operation\n",
       "   operator: 25\n",
       "   operand: 13\n",
       "9. n -> {forall_{x_{1}, ..x_{_a}.., x_{n}} P(x_{1}, ..x_{_a}.., x_{n}) if n in Natural.\n",
       "   core type: Lambda\n",
       "   parameter: 43\n",
       "   body: 12\n",
       "10. ()\n",
       "    core type: ExprTuple\n",
       "    sub-expressions: \n",
       "11. (n -> {[forall_{x_{1}, ..x_{_a}.., x_{n}} P(x_{1}, ..x_{_a}.., x_{n})] =>  \\\\ [forall_{x_{1}, ..x_{_a}.., x_{n + 1}} P(x_{1}, ..x_{_a}.., x_{n + 1})] if n in Natural.)\n",
       "    core type: ExprTuple\n",
       "    sub-expressions: 13\n",
       "12. {forall_{x_{1}, ..x_{_a}.., x_{n}} P(x_{1}, ..x_{_a}.., x_{n}) if n in Natural.\n",
       "    core type: Conditional\n",
       "    value: 21\n",
       "    condition: 16\n",
       "13. n -> {[forall_{x_{1}, ..x_{_a}.., x_{n}} P(x_{1}, ..x_{_a}.., x_{n})] =>  \\\\ [forall_{x_{1}, ..x_{_a}.., x_{n + 1}} P(x_{1}, ..x_{_a}.., x_{n + 1})] if n in Natural.\n",
       "    core type: Lambda\n",
       "    parameter: 43\n",
       "    body: 14\n",
       "14. {[forall_{x_{1}, ..x_{_a}.., x_{n}} P(x_{1}, ..x_{_a}.., x_{n})] =>  \\\\ [forall_{x_{1}, ..x_{_a}.., x_{n + 1}} P(x_{1}, ..x_{_a}.., x_{n + 1})] if n in Natural.\n",
       "    core type: Conditional\n",
       "    value: 15\n",
       "    condition: 16\n",
       "15. [forall_{x_{1}, ..x_{_a}.., x_{n}} P(x_{1}, ..x_{_a}.., x_{n})] =>  \\\\ [forall_{x_{1}, ..x_{_a}.., x_{n + 1}} P(x_{1}, ..x_{_a}.., x_{n + 1})]\n",
       "    core type: Operation\n",
       "    operator: 17\n",
       "    operands: 18\n",
       "16. n in Natural\n",
       "    core type: Operation\n",
       "    operator: 19\n",
       "    operands: 20\n",
       "17. =>\n",
       "    core type: Literal\n",
       "    sub-expressions: \n",
       "18. (forall_{x_{1}, ..x_{_a}.., x_{n}} P(x_{1}, ..x_{_a}.., x_{n}), forall_{x_{1}, ..x_{_a}.., x_{n + 1}} P(x_{1}, ..x_{_a}.., x_{n + 1}))\n",
       "    core type: ExprTuple\n",
       "    sub-expressions: 21, 22\n",
       "19. in\n",
       "    core type: Literal\n",
       "    sub-expressions: \n",
       "20. (n, Natural)\n",
       "    core type: ExprTuple\n",
       "    sub-expressions: 43, 23\n",
       "21. forall_{x_{1}, ..x_{_a}.., x_{n}} P(x_{1}, ..x_{_a}.., x_{n})\n",
       "    core type: Operation\n",
       "    operator: 25\n",
       "    operand: 27\n",
       "22. forall_{x_{1}, ..x_{_a}.., x_{n + 1}} P(x_{1}, ..x_{_a}.., x_{n + 1})\n",
       "    core type: Operation\n",
       "    operator: 25\n",
       "    operand: 28\n",
       "23. Natural\n",
       "    core type: Literal\n",
       "    sub-expressions: \n",
       "24. ((x_{1}, ..x_{_a}.., x_{n}) -> P(x_{1}, ..x_{_a}.., x_{n}))\n",
       "    core type: ExprTuple\n",
       "    sub-expressions: 27\n",
       "25. forall\n",
       "    core type: Literal\n",
       "    sub-expressions: \n",
       "26. ((x_{1}, ..x_{_a}.., x_{n + 1}) -> P(x_{1}, ..x_{_a}.., x_{n + 1}))\n",
       "    core type: ExprTuple\n",
       "    sub-expressions: 28\n",
       "27. (x_{1}, ..x_{_a}.., x_{n}) -> P(x_{1}, ..x_{_a}.., x_{n})\n",
       "    core type: Lambda\n",
       "    parameters: 31\\n    body: 29\n",
       "28. (x_{1}, ..x_{_a}.., x_{n + 1}) -> P(x_{1}, ..x_{_a}.., x_{n + 1})\n",
       "    core type: Lambda\n",
       "    parameters: 33\\n    body: 30\n",
       "29. P(x_{1}, ..x_{_a}.., x_{n})\n",
       "    core type: Operation\n",
       "    operator: 32\n",
       "    operands: 31\n",
       "30. P(x_{1}, ..x_{_a}.., x_{n + 1})\n",
       "    core type: Operation\n",
       "    operator: 32\n",
       "    operands: 33\n",
       "31. (x_{1}, ..x_{_a}.., x_{n})\n",
       "    core type: ExprTuple\n",
       "    sub-expressions: 34\n",
       "32. P\n",
       "    core type: Variable\n",
       "    sub-expressions: \n",
       "33. (x_{1}, ..x_{_a}.., x_{n + 1})\n",
       "    core type: ExprTuple\n",
       "    sub-expressions: 35\n",
       "34. x_{1}, ..x_{_a}.., x_{n}\n",
       "    core type: ExprRange\n",
       "    lambda_map: 36\n",
       "    start_index: 44\n",
       "    end_index: 43\n",
       "35. x_{1}, ..x_{_a}.., x_{n + 1}\n",
       "    core type: ExprRange\n",
       "    lambda_map: 36\n",
       "    start_index: 44\n",
       "    end_index: 37\n",
       "36. _a -> x_{_a}\n",
       "    core type: Lambda\n",
       "    parameter: 45\n",
       "    body: 38\n",
       "37. n + 1\n",
       "    core type: Operation\n",
       "    operator: 39\n",
       "    operands: 40\n",
       "38. x_{_a}\n",
       "    core type: IndexedVar\n",
       "variable: 41\n",
       "index: 45\n",
       "39. +\n",
       "    core type: Literal\n",
       "    sub-expressions: \n",
       "40. (n, 1)\n",
       "    core type: ExprTuple\n",
       "    sub-expressions: 43, 44\n",
       "41. x\n",
       "    core type: Variable\n",
       "    sub-expressions: \n",
       "42. (_a)\n",
       "    core type: ExprTuple\n",
       "    sub-expressions: 45\n",
       "43. n\n",
       "    core type: Variable\n",
       "    sub-expressions: \n",
       "44. 1\n",
       "    core type: Literal\n",
       "    sub-expressions: \n",
       "45. _a\n",
       "    core type: Variable\n",
       "    sub-expressions: "
      ]
     },
     "execution_count": 6,
     "metadata": {},
     "output_type": "execute_result"
    }
   ],
   "source": [
    "# display the expression information\n",
    "expr.expr_info()"
   ]
  },
  {
   "cell_type": "code",
   "execution_count": null,
   "metadata": {},
   "outputs": [],
   "source": []
  }
 ],
 "metadata": {
  "kernelspec": {
   "display_name": "Python 3",
   "language": "python",
   "name": "python3"
  }
 },
 "nbformat": 4,
 "nbformat_minor": 0
}