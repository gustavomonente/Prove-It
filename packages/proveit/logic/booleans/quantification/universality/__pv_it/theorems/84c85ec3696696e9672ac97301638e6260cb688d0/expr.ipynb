{
 "cells": [
  {
   "cell_type": "markdown",
   "metadata": {},
   "source": [
    "Expression of type <a class=\"ProveItLink\" href=\"../../../../../../../../../doc/html/api/proveit.ExprTuple.html\">ExprTuple</a>\n",
    "=======================\n",
    "# from the theory of <a class=\"ProveItLink\" href=\"../../../_theory_nbs_/theory.ipynb\">proveit.logic.booleans.quantification.universality</a>"
   ]
  },
  {
   "cell_type": "code",
   "execution_count": 1,
   "metadata": {},
   "outputs": [],
   "source": [
    "import proveit\n",
    "# Automation is not needed when building an expression:\n",
    "proveit.defaults.automation = False # This will speed things up.\n",
    "proveit.defaults.inline_pngs = False # Makes files smaller.\n",
    "%load_expr # Load the stored expression as 'stored_expr'\n",
    "# import Expression classes needed to build the expression\n",
    "from proveit import ExprTuple\n",
    "from proveit.logic.booleans.quantification import general_bundled_forall_Pxy_if_Qx, general_nested_forall_Pxy_if_Qx"
   ]
  },
  {
   "cell_type": "code",
   "execution_count": 2,
   "metadata": {},
   "outputs": [
    {
     "data": {
      "text/html": [
       "<strong id=\"expr\">expr:</strong> <a class=\"ProveItLink\" href=\"expr.ipynb\"><img src=\"expr.png\" style=\"display:inline;vertical-align:middle;\" /></a><br>"
      ],
      "text/plain": [
       "expr: (forall_{x_{1}, ..x_{_a}.., x_{m} | Q(x_{1}, ..x_{_a}.., x_{m})} [forall_{y_{1}, ..y_{_a}.., y_{n} | R(x_{1}, ..x_{_a}.., x_{m}, y_{1}, ..y_{_a}.., y_{n})} P(x_{1}, ..x_{_a}.., x_{m}, y_{1}, ..y_{_a}.., y_{n})], forall_{x_{1}, ..x_{_a}.., x_{m}, y_{1}, ..y_{_a}.., y_{n} | Q(x_{1}, ..x_{_a}.., x_{m}), R(x_{1}, ..x_{_a}.., x_{m}, y_{1}, ..y_{_a}.., y_{n})} P(x_{1}, ..x_{_a}.., x_{m}, y_{1}, ..y_{_a}.., y_{n}))"
      ]
     },
     "execution_count": 2,
     "metadata": {},
     "output_type": "execute_result"
    }
   ],
   "source": [
    "# build up the expression from sub-expressions\n",
    "expr = ExprTuple(general_nested_forall_Pxy_if_Qx, general_bundled_forall_Pxy_if_Qx)"
   ]
  },
  {
   "cell_type": "code",
   "execution_count": 3,
   "metadata": {},
   "outputs": [
    {
     "name": "stdout",
     "output_type": "stream",
     "text": [
      "Passed sanity check: expr matches stored_expr\n"
     ]
    }
   ],
   "source": [
    "# check that the built expression is the same as the stored expression\n",
    "assert expr == stored_expr\n",
    "assert expr._style_id == stored_expr._style_id\n",
    "print(\"Passed sanity check: expr matches stored_expr\")"
   ]
  },
  {
   "cell_type": "code",
   "execution_count": 4,
   "metadata": {},
   "outputs": [
    {
     "name": "stdout",
     "output_type": "stream",
     "text": [
      "\\left(\\forall_{x_{1}, \\ldots, x_{m}~|~Q(x_{1}, \\ldots, x_{m})}~\\left[\\forall_{y_{1}, \\ldots, y_{n}~|~R(x_{1}, \\ldots, x_{m}, y_{1}, \\ldots, y_{n})}~P(x_{1}, \\ldots, x_{m}, y_{1}, \\ldots, y_{n})\\right], \\forall_{x_{1}, \\ldots, x_{m}, y_{1}, \\ldots, y_{n}~|~Q(x_{1}, \\ldots, x_{m}), R(x_{1}, \\ldots, x_{m}, y_{1}, \\ldots, y_{n})}~P(x_{1}, \\ldots, x_{m}, y_{1}, \\ldots, y_{n})\\right)\n"
     ]
    }
   ],
   "source": [
    "# Show the LaTeX representation of the expression for convenience if you need it.\n",
    "print(expr.latex())"
   ]
  },
  {
   "cell_type": "code",
   "execution_count": 5,
   "metadata": {},
   "outputs": [
    {
     "data": {
      "text/html": [
       "<table><tr><th>&nbsp;</th><th>core type</th><th>sub-expressions</th><th>expression</th></tr>\n",
       "<tr><td>0</td><td>ExprTuple</td><td>1, 2</td><td><a class=\"ProveItLink\" href=\"expr.ipynb\"><img src=\"expr.png\" style=\"display:inline;vertical-align:middle;\" /></a></td></tr>\n",
       "<tr><td>1</td><td>Operation</td><td>operator:&nbsp;9<br>operand:&nbsp;3<br></td><td><a class=\"ProveItLink\" href=\"../../../../__pv_it/common/8018e778b547050f8e5e14cc955db5099db924660/expr.ipynb\"><img src=\"../../../../__pv_it/common/8018e778b547050f8e5e14cc955db5099db924660/expr.png\" style=\"display:inline;vertical-align:middle;\" /></a></td></tr>\n",
       "<tr><td>2</td><td>Operation</td><td>operator:&nbsp;9<br>operand:&nbsp;4<br></td><td><a class=\"ProveItLink\" href=\"../../../../__pv_it/common/19ff1e8e7dc4f6ba1a838c14235be6f71b99c41a0/expr.ipynb\"><img src=\"../../../../__pv_it/common/19ff1e8e7dc4f6ba1a838c14235be6f71b99c41a0/expr.png\" style=\"display:inline;vertical-align:middle;\" /></a></td></tr>\n",
       "<tr><td>3</td><td>Lambda</td><td>parameters:&nbsp;19<br>body:&nbsp;5<br></td><td><a class=\"ProveItLink\" href=\"../../../../__pv_it/common/4fb4bf79f51799134bbc2797f5332a571abbaec50/expr.ipynb\"><img src=\"../../../../__pv_it/common/4fb4bf79f51799134bbc2797f5332a571abbaec50/expr.png\" style=\"display:inline;vertical-align:middle;\" /></a></td></tr>\n",
       "<tr><td>4</td><td>Lambda</td><td>parameters:&nbsp;22<br>body:&nbsp;6<br></td><td><a class=\"ProveItLink\" href=\"../../../../__pv_it/common/fd1fcf7112bd39ab1e337eb26f0017ca0cd17cfa0/expr.ipynb\"><img src=\"../../../../__pv_it/common/fd1fcf7112bd39ab1e337eb26f0017ca0cd17cfa0/expr.png\" style=\"display:inline;vertical-align:middle;\" /></a></td></tr>\n",
       "<tr><td>5</td><td>Conditional</td><td>value:&nbsp;7<br>condition:&nbsp;15<br></td><td><a class=\"ProveItLink\" href=\"../../../../__pv_it/common/e6747b60115365f7f4b1ffd71350bbe87ed40bb00/expr.ipynb\"><img src=\"../../../../__pv_it/common/e6747b60115365f7f4b1ffd71350bbe87ed40bb00/expr.png\" style=\"display:inline;vertical-align:middle;\" /></a></td></tr>\n",
       "<tr><td>6</td><td>Conditional</td><td>value:&nbsp;16<br>condition:&nbsp;8<br></td><td><a class=\"ProveItLink\" href=\"../../../../__pv_it/common/4f69e9240e96e076a834f7452e1c0a7d4d5bbd000/expr.ipynb\"><img src=\"../../../../__pv_it/common/4f69e9240e96e076a834f7452e1c0a7d4d5bbd000/expr.png\" style=\"display:inline;vertical-align:middle;\" /></a></td></tr>\n",
       "<tr><td>7</td><td>Operation</td><td>operator:&nbsp;9<br>operand:&nbsp;10<br></td><td><a class=\"ProveItLink\" href=\"../../../../__pv_it/common/d5031bb5b6004c6f665861960d7ebbbfa43a89ad0/expr.ipynb\"><img src=\"../../../../__pv_it/common/d5031bb5b6004c6f665861960d7ebbbfa43a89ad0/expr.png\" style=\"display:inline;vertical-align:middle;\" /></a></td></tr>\n",
       "<tr><td>8</td><td>Operation</td><td>operator:&nbsp;11<br>operands:&nbsp;12<br></td><td><a class=\"ProveItLink\" href=\"../../../../__pv_it/common/fbf2a9fd607df2333b12a02a4fb51ce54cb4155d0/expr.ipynb\"><img src=\"../../../../__pv_it/common/fbf2a9fd607df2333b12a02a4fb51ce54cb4155d0/expr.png\" style=\"display:inline;vertical-align:middle;\" /></a></td></tr>\n",
       "<tr><td>9</td><td>Literal</td><td></td><td><a class=\"ProveItLink\" href=\"../../common/083d2baa0b8ecab1d230f9ec29a15aa1355809fb0/expr.ipynb\"><img src=\"../../common/083d2baa0b8ecab1d230f9ec29a15aa1355809fb0/expr.png\" style=\"display:inline;vertical-align:middle;\" /></a></td></tr>\n",
       "<tr><td>10</td><td>Lambda</td><td>parameters:&nbsp;13<br>body:&nbsp;14<br></td><td><a class=\"ProveItLink\" href=\"../../../../__pv_it/common/6dc8b56d7fe3fbdc056d1982e9a1c5d8df3140640/expr.ipynb\"><img src=\"../../../../__pv_it/common/6dc8b56d7fe3fbdc056d1982e9a1c5d8df3140640/expr.png\" style=\"display:inline;vertical-align:middle;\" /></a></td></tr>\n",
       "<tr><td>11</td><td>Literal</td><td></td><td><a class=\"ProveItLink\" href=\"../../../../../conjunction/__pv_it/common/42118ff318bd65d98b1393f64ce7c2269feef76e0/expr.ipynb\"><img src=\"../../../../../conjunction/__pv_it/common/42118ff318bd65d98b1393f64ce7c2269feef76e0/expr.png\" style=\"display:inline;vertical-align:middle;\" /></a></td></tr>\n",
       "<tr><td>12</td><td>ExprTuple</td><td>15, 17</td><td><a class=\"ProveItLink\" href=\"../../../../__pv_it/common/35ff6d10f48743584ce6400c0937bda79dfcb2d20/expr.ipynb\"><img src=\"../../../../__pv_it/common/35ff6d10f48743584ce6400c0937bda79dfcb2d20/expr.png\" style=\"display:inline;vertical-align:middle;\" /></a></td></tr>\n",
       "<tr><td>13</td><td>ExprTuple</td><td>24</td><td><a class=\"ProveItLink\" href=\"../../../../../../../core_expr_types/__pv_it/common/7825d99ba871f39ec9e174832f4965ad6a4a6c920/expr.ipynb\"><img src=\"../../../../../../../core_expr_types/__pv_it/common/7825d99ba871f39ec9e174832f4965ad6a4a6c920/expr.png\" style=\"display:inline;vertical-align:middle;\" /></a></td></tr>\n",
       "<tr><td>14</td><td>Conditional</td><td>value:&nbsp;16<br>condition:&nbsp;17<br></td><td><a class=\"ProveItLink\" href=\"../../../../__pv_it/common/48bfc34a6f67a8f366bdb6dd91367bc4eaa27a3b0/expr.ipynb\"><img src=\"../../../../__pv_it/common/48bfc34a6f67a8f366bdb6dd91367bc4eaa27a3b0/expr.png\" style=\"display:inline;vertical-align:middle;\" /></a></td></tr>\n",
       "<tr><td>15</td><td>Operation</td><td>operator:&nbsp;18<br>operands:&nbsp;19<br></td><td><a class=\"ProveItLink\" href=\"../../../../../../../core_expr_types/__pv_it/common/961e9f77a09a49d1385946f75f2b9f7eb0c974ae0/expr.ipynb\"><img src=\"../../../../../../../core_expr_types/__pv_it/common/961e9f77a09a49d1385946f75f2b9f7eb0c974ae0/expr.png\" style=\"display:inline;vertical-align:middle;\" /></a></td></tr>\n",
       "<tr><td>16</td><td>Operation</td><td>operator:&nbsp;20<br>operands:&nbsp;22<br></td><td><a class=\"ProveItLink\" href=\"../../../../../../../core_expr_types/__pv_it/common/e79148ed857ab760cff5d5f3987b3d8d0ac60c3b0/expr.ipynb\"><img src=\"../../../../../../../core_expr_types/__pv_it/common/e79148ed857ab760cff5d5f3987b3d8d0ac60c3b0/expr.png\" style=\"display:inline;vertical-align:middle;\" /></a></td></tr>\n",
       "<tr><td>17</td><td>Operation</td><td>operator:&nbsp;21<br>operands:&nbsp;22<br></td><td><a class=\"ProveItLink\" href=\"../../../../../../../core_expr_types/__pv_it/common/82233c628f2491ad9b8b3d00713a11797587aec40/expr.ipynb\"><img src=\"../../../../../../../core_expr_types/__pv_it/common/82233c628f2491ad9b8b3d00713a11797587aec40/expr.png\" style=\"display:inline;vertical-align:middle;\" /></a></td></tr>\n",
       "<tr><td>18</td><td>Variable</td><td></td><td><a class=\"ProveItLink\" href=\"../../../../../../../__pv_it/common/d72bb8b07403efe79afab564c36a28e21330e5f90/expr.ipynb\"><img src=\"../../../../../../../__pv_it/common/d72bb8b07403efe79afab564c36a28e21330e5f90/expr.png\" style=\"display:inline;vertical-align:middle;\" /></a></td></tr>\n",
       "<tr><td>19</td><td>ExprTuple</td><td>23</td><td><a class=\"ProveItLink\" href=\"../../../../../../../core_expr_types/__pv_it/common/8bef3f45fc575f1a5420f04b4dae16487278a1ef0/expr.ipynb\"><img src=\"../../../../../../../core_expr_types/__pv_it/common/8bef3f45fc575f1a5420f04b4dae16487278a1ef0/expr.png\" style=\"display:inline;vertical-align:middle;\" /></a></td></tr>\n",
       "<tr><td>20</td><td>Variable</td><td></td><td><a class=\"ProveItLink\" href=\"../../../../../../../__pv_it/common/de55da274ba0f49c86925fbf3828021c04d27faf0/expr.ipynb\"><img src=\"../../../../../../../__pv_it/common/de55da274ba0f49c86925fbf3828021c04d27faf0/expr.png\" style=\"display:inline;vertical-align:middle;\" /></a></td></tr>\n",
       "<tr><td>21</td><td>Variable</td><td></td><td><a class=\"ProveItLink\" href=\"../../../../../../../__pv_it/common/647ca33d6b96e29d5aa85a15d2241c7ebd0c6e4b0/expr.ipynb\"><img src=\"../../../../../../../__pv_it/common/647ca33d6b96e29d5aa85a15d2241c7ebd0c6e4b0/expr.png\" style=\"display:inline;vertical-align:middle;\" /></a></td></tr>\n",
       "<tr><td>22</td><td>ExprTuple</td><td>23, 24</td><td><a class=\"ProveItLink\" href=\"../../../../../../../core_expr_types/__pv_it/common/817e442e36cee83d199e82588f9e32192bf71a5d0/expr.ipynb\"><img src=\"../../../../../../../core_expr_types/__pv_it/common/817e442e36cee83d199e82588f9e32192bf71a5d0/expr.png\" style=\"display:inline;vertical-align:middle;\" /></a></td></tr>\n",
       "<tr><td>23</td><td>ExprRange</td><td>lambda_map:&nbsp;25<br>start_index:&nbsp;28<br>end_index:&nbsp;26<br></td><td><a class=\"ProveItLink\" href=\"../../../../../../../core_expr_types/__pv_it/common/6bcde4e41c8fdd6debc41f42bf3e4d8829005b3c0/expr.ipynb\"><img src=\"../../../../../../../core_expr_types/__pv_it/common/6bcde4e41c8fdd6debc41f42bf3e4d8829005b3c0/expr.png\" style=\"display:inline;vertical-align:middle;\" /></a></td></tr>\n",
       "<tr><td>24</td><td>ExprRange</td><td>lambda_map:&nbsp;27<br>start_index:&nbsp;28<br>end_index:&nbsp;29<br></td><td><a class=\"ProveItLink\" href=\"../../../../../../../core_expr_types/__pv_it/common/83815096a81411f4169bd53199aa8541663848780/expr.ipynb\"><img src=\"../../../../../../../core_expr_types/__pv_it/common/83815096a81411f4169bd53199aa8541663848780/expr.png\" style=\"display:inline;vertical-align:middle;\" /></a></td></tr>\n",
       "<tr><td>25</td><td>Lambda</td><td>parameter:&nbsp;34<br>body:&nbsp;30<br></td><td><a class=\"ProveItLink\" href=\"../../../../../../../core_expr_types/__pv_it/common/3d60e3d4d9f83b7d879c0d18fec5b16b4aa6e4690/expr.ipynb\"><img src=\"../../../../../../../core_expr_types/__pv_it/common/3d60e3d4d9f83b7d879c0d18fec5b16b4aa6e4690/expr.png\" style=\"display:inline;vertical-align:middle;\" /></a></td></tr>\n",
       "<tr><td>26</td><td>Variable</td><td></td><td><a class=\"ProveItLink\" href=\"../../../../../../../__pv_it/common/674a03b9c3ca221b3aabd5636837b31528ff33830/expr.ipynb\"><img src=\"../../../../../../../__pv_it/common/674a03b9c3ca221b3aabd5636837b31528ff33830/expr.png\" style=\"display:inline;vertical-align:middle;\" /></a></td></tr>\n",
       "<tr><td>27</td><td>Lambda</td><td>parameter:&nbsp;34<br>body:&nbsp;31<br></td><td><a class=\"ProveItLink\" href=\"../../../../../../../core_expr_types/__pv_it/common/e78a05a30384462aa15ec8190735b4d58ac945690/expr.ipynb\"><img src=\"../../../../../../../core_expr_types/__pv_it/common/e78a05a30384462aa15ec8190735b4d58ac945690/expr.png\" style=\"display:inline;vertical-align:middle;\" /></a></td></tr>\n",
       "<tr><td>28</td><td>Literal</td><td></td><td><a class=\"ProveItLink\" href=\"../../../../../../../numbers/numerals/__pv_it/common/2778428c7f555b2bdc06aa0530bc142c6e6335100/expr.ipynb\"><img src=\"../../../../../../../numbers/numerals/__pv_it/common/2778428c7f555b2bdc06aa0530bc142c6e6335100/expr.png\" style=\"display:inline;vertical-align:middle;\" /></a></td></tr>\n",
       "<tr><td>29</td><td>Variable</td><td></td><td><a class=\"ProveItLink\" href=\"../../../../../../../__pv_it/common/8968bb04eb3f7dfa02353397ce929b025bbd79c20/expr.ipynb\"><img src=\"../../../../../../../__pv_it/common/8968bb04eb3f7dfa02353397ce929b025bbd79c20/expr.png\" style=\"display:inline;vertical-align:middle;\" /></a></td></tr>\n",
       "<tr><td>30</td><td>IndexedVar</td><td>variable:&nbsp;32<br>index:&nbsp;34<br></td><td><a class=\"ProveItLink\" href=\"../../../../../../../core_expr_types/__pv_it/common/257cd3299a4ed17f19c9fc89f960a93cbda02b550/expr.ipynb\"><img src=\"../../../../../../../core_expr_types/__pv_it/common/257cd3299a4ed17f19c9fc89f960a93cbda02b550/expr.png\" style=\"display:inline;vertical-align:middle;\" /></a></td></tr>\n",
       "<tr><td>31</td><td>IndexedVar</td><td>variable:&nbsp;33<br>index:&nbsp;34<br></td><td><a class=\"ProveItLink\" href=\"../../../../../../../core_expr_types/__pv_it/common/bae00704f4077d282c1ca22cbc3aecae7393f3dc0/expr.ipynb\"><img src=\"../../../../../../../core_expr_types/__pv_it/common/bae00704f4077d282c1ca22cbc3aecae7393f3dc0/expr.png\" style=\"display:inline;vertical-align:middle;\" /></a></td></tr>\n",
       "<tr><td>32</td><td>Variable</td><td></td><td><a class=\"ProveItLink\" href=\"../../../../../../../__pv_it/common/a0d9d672aa5e272d907247690c152cc2c6daafb70/expr.ipynb\"><img src=\"../../../../../../../__pv_it/common/a0d9d672aa5e272d907247690c152cc2c6daafb70/expr.png\" style=\"display:inline;vertical-align:middle;\" /></a></td></tr>\n",
       "<tr><td>33</td><td>Variable</td><td></td><td><a class=\"ProveItLink\" href=\"../../../../../../../__pv_it/common/ff7dba4ef0bbe791ab573bf2d9c220a304399ac80/expr.ipynb\"><img src=\"../../../../../../../__pv_it/common/ff7dba4ef0bbe791ab573bf2d9c220a304399ac80/expr.png\" style=\"display:inline;vertical-align:middle;\" /></a></td></tr>\n",
       "<tr><td>34</td><td>Variable</td><td></td><td><a class=\"ProveItLink\" href=\"../../../../../../../core_expr_types/__pv_it/common/006c465e50948aa2b52285e2de47974f741255cc0/expr.ipynb\"><img src=\"../../../../../../../core_expr_types/__pv_it/common/006c465e50948aa2b52285e2de47974f741255cc0/expr.png\" style=\"display:inline;vertical-align:middle;\" /></a></td></tr>\n",
       "</table>\n"
      ],
      "text/plain": [
       "0. (forall_{x_{1}, ..x_{_a}.., x_{m} | Q(x_{1}, ..x_{_a}.., x_{m})} [forall_{y_{1}, ..y_{_a}.., y_{n} | R(x_{1}, ..x_{_a}.., x_{m}, y_{1}, ..y_{_a}.., y_{n})} P(x_{1}, ..x_{_a}.., x_{m}, y_{1}, ..y_{_a}.., y_{n})], forall_{x_{1}, ..x_{_a}.., x_{m}, y_{1}, ..y_{_a}.., y_{n} | Q(x_{1}, ..x_{_a}.., x_{m}), R(x_{1}, ..x_{_a}.., x_{m}, y_{1}, ..y_{_a}.., y_{n})} P(x_{1}, ..x_{_a}.., x_{m}, y_{1}, ..y_{_a}.., y_{n}))\n",
       "   core type: ExprTuple\n",
       "   sub-expressions: 1, 2\n",
       "1. forall_{x_{1}, ..x_{_a}.., x_{m} | Q(x_{1}, ..x_{_a}.., x_{m})} [forall_{y_{1}, ..y_{_a}.., y_{n} | R(x_{1}, ..x_{_a}.., x_{m}, y_{1}, ..y_{_a}.., y_{n})} P(x_{1}, ..x_{_a}.., x_{m}, y_{1}, ..y_{_a}.., y_{n})]\n",
       "   core type: Operation\n",
       "   operator: 9\n",
       "   operand: 3\n",
       "2. forall_{x_{1}, ..x_{_a}.., x_{m}, y_{1}, ..y_{_a}.., y_{n} | Q(x_{1}, ..x_{_a}.., x_{m}), R(x_{1}, ..x_{_a}.., x_{m}, y_{1}, ..y_{_a}.., y_{n})} P(x_{1}, ..x_{_a}.., x_{m}, y_{1}, ..y_{_a}.., y_{n})\n",
       "   core type: Operation\n",
       "   operator: 9\n",
       "   operand: 4\n",
       "3. (x_{1}, ..x_{_a}.., x_{m}) -> {forall_{y_{1}, ..y_{_a}.., y_{n} | R(x_{1}, ..x_{_a}.., x_{m}, y_{1}, ..y_{_a}.., y_{n})} P(x_{1}, ..x_{_a}.., x_{m}, y_{1}, ..y_{_a}.., y_{n}) if Q(x_{1}, ..x_{_a}.., x_{m}).\n",
       "   core type: Lambda\n",
       "   parameters: 19\\n   body: 5\n",
       "4. (x_{1}, ..x_{_a}.., x_{m}, y_{1}, ..y_{_a}.., y_{n}) -> {P(x_{1}, ..x_{_a}.., x_{m}, y_{1}, ..y_{_a}.., y_{n}) if Q(x_{1}, ..x_{_a}.., x_{m}) ,  R(x_{1}, ..x_{_a}.., x_{m}, y_{1}, ..y_{_a}.., y_{n}).\n",
       "   core type: Lambda\n",
       "   parameters: 22\\n   body: 6\n",
       "5. {forall_{y_{1}, ..y_{_a}.., y_{n} | R(x_{1}, ..x_{_a}.., x_{m}, y_{1}, ..y_{_a}.., y_{n})} P(x_{1}, ..x_{_a}.., x_{m}, y_{1}, ..y_{_a}.., y_{n}) if Q(x_{1}, ..x_{_a}.., x_{m}).\n",
       "   core type: Conditional\n",
       "   value: 7\n",
       "   condition: 15\n",
       "6. {P(x_{1}, ..x_{_a}.., x_{m}, y_{1}, ..y_{_a}.., y_{n}) if Q(x_{1}, ..x_{_a}.., x_{m}) ,  R(x_{1}, ..x_{_a}.., x_{m}, y_{1}, ..y_{_a}.., y_{n}).\n",
       "   core type: Conditional\n",
       "   value: 16\n",
       "   condition: 8\n",
       "7. forall_{y_{1}, ..y_{_a}.., y_{n} | R(x_{1}, ..x_{_a}.., x_{m}, y_{1}, ..y_{_a}.., y_{n})} P(x_{1}, ..x_{_a}.., x_{m}, y_{1}, ..y_{_a}.., y_{n})\n",
       "   core type: Operation\n",
       "   operator: 9\n",
       "   operand: 10\n",
       "8. Q(x_{1}, ..x_{_a}.., x_{m}) and R(x_{1}, ..x_{_a}.., x_{m}, y_{1}, ..y_{_a}.., y_{n})\n",
       "   core type: Operation\n",
       "   operator: 11\n",
       "   operands: 12\n",
       "9. forall\n",
       "   core type: Literal\n",
       "   sub-expressions: \n",
       "10. (y_{1}, ..y_{_a}.., y_{n}) -> {P(x_{1}, ..x_{_a}.., x_{m}, y_{1}, ..y_{_a}.., y_{n}) if R(x_{1}, ..x_{_a}.., x_{m}, y_{1}, ..y_{_a}.., y_{n}).\n",
       "    core type: Lambda\n",
       "    parameters: 13\\n    body: 14\n",
       "11. and\n",
       "    core type: Literal\n",
       "    sub-expressions: \n",
       "12. (Q(x_{1}, ..x_{_a}.., x_{m}), R(x_{1}, ..x_{_a}.., x_{m}, y_{1}, ..y_{_a}.., y_{n}))\n",
       "    core type: ExprTuple\n",
       "    sub-expressions: 15, 17\n",
       "13. (y_{1}, ..y_{_a}.., y_{n})\n",
       "    core type: ExprTuple\n",
       "    sub-expressions: 24\n",
       "14. {P(x_{1}, ..x_{_a}.., x_{m}, y_{1}, ..y_{_a}.., y_{n}) if R(x_{1}, ..x_{_a}.., x_{m}, y_{1}, ..y_{_a}.., y_{n}).\n",
       "    core type: Conditional\n",
       "    value: 16\n",
       "    condition: 17\n",
       "15. Q(x_{1}, ..x_{_a}.., x_{m})\n",
       "    core type: Operation\n",
       "    operator: 18\n",
       "    operands: 19\n",
       "16. P(x_{1}, ..x_{_a}.., x_{m}, y_{1}, ..y_{_a}.., y_{n})\n",
       "    core type: Operation\n",
       "    operator: 20\n",
       "    operands: 22\n",
       "17. R(x_{1}, ..x_{_a}.., x_{m}, y_{1}, ..y_{_a}.., y_{n})\n",
       "    core type: Operation\n",
       "    operator: 21\n",
       "    operands: 22\n",
       "18. Q\n",
       "    core type: Variable\n",
       "    sub-expressions: \n",
       "19. (x_{1}, ..x_{_a}.., x_{m})\n",
       "    core type: ExprTuple\n",
       "    sub-expressions: 23\n",
       "20. P\n",
       "    core type: Variable\n",
       "    sub-expressions: \n",
       "21. R\n",
       "    core type: Variable\n",
       "    sub-expressions: \n",
       "22. (x_{1}, ..x_{_a}.., x_{m}, y_{1}, ..y_{_a}.., y_{n})\n",
       "    core type: ExprTuple\n",
       "    sub-expressions: 23, 24\n",
       "23. x_{1}, ..x_{_a}.., x_{m}\n",
       "    core type: ExprRange\n",
       "    lambda_map: 25\n",
       "    start_index: 28\n",
       "    end_index: 26\n",
       "24. y_{1}, ..y_{_a}.., y_{n}\n",
       "    core type: ExprRange\n",
       "    lambda_map: 27\n",
       "    start_index: 28\n",
       "    end_index: 29\n",
       "25. _a -> x_{_a}\n",
       "    core type: Lambda\n",
       "    parameter: 34\n",
       "    body: 30\n",
       "26. m\n",
       "    core type: Variable\n",
       "    sub-expressions: \n",
       "27. _a -> y_{_a}\n",
       "    core type: Lambda\n",
       "    parameter: 34\n",
       "    body: 31\n",
       "28. 1\n",
       "    core type: Literal\n",
       "    sub-expressions: \n",
       "29. n\n",
       "    core type: Variable\n",
       "    sub-expressions: \n",
       "30. x_{_a}\n",
       "    core type: IndexedVar\n",
       "variable: 32\n",
       "index: 34\n",
       "31. y_{_a}\n",
       "    core type: IndexedVar\n",
       "variable: 33\n",
       "index: 34\n",
       "32. x\n",
       "    core type: Variable\n",
       "    sub-expressions: \n",
       "33. y\n",
       "    core type: Variable\n",
       "    sub-expressions: \n",
       "34. _a\n",
       "    core type: Variable\n",
       "    sub-expressions: "
      ]
     },
     "execution_count": 5,
     "metadata": {},
     "output_type": "execute_result"
    }
   ],
   "source": [
    "# display the expression information\n",
    "expr.expr_info()"
   ]
  },
  {
   "cell_type": "code",
   "execution_count": null,
   "metadata": {},
   "outputs": [],
   "source": []
  }
 ],
 "metadata": {
  "kernelspec": {
   "display_name": "Python 3",
   "language": "python",
   "name": "python3"
  }
 },
 "nbformat": 4,
 "nbformat_minor": 0
}