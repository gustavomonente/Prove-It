{
 "cells": [
  {
   "cell_type": "markdown",
   "metadata": {},
   "source": [
    "Expression of type <a class=\"ProveItLink\" href=\"../../../../../../../../../doc/html/api/proveit.Conditional.html\">Conditional</a>\n",
    "=======================\n",
    "# from the theory of <a class=\"ProveItLink\" href=\"../../../_theory_nbs_/theory.ipynb\">proveit.logic.booleans.quantification.universality</a>"
   ]
  },
  {
   "cell_type": "code",
   "execution_count": 1,
   "metadata": {},
   "outputs": [],
   "source": [
    "import proveit\n",
    "# Automation is not needed when building an expression:\n",
    "proveit.defaults.automation = False # This will speed things up.\n",
    "proveit.defaults.inline_pngs = False # Makes files smaller.\n",
    "%load_expr # Load the stored expression as 'stored_expr'\n",
    "# import Expression classes needed to build the expression\n",
    "from proveit import Conditional, P, Q, n\n",
    "from proveit.logic import Boolean, Forall, InSet\n",
    "from proveit.logic.booleans.quantification import general_forall_Px_if_Qx\n",
    "from proveit.numbers import NaturalPos"
   ]
  },
  {
   "cell_type": "code",
   "execution_count": 2,
   "metadata": {},
   "outputs": [
    {
     "data": {
      "text/html": [
       "<strong id=\"expr\">expr:</strong> <a class=\"ProveItLink\" href=\"expr.ipynb\"><img src=\"expr.png\" style=\"display:inline;vertical-align:middle;\" /></a><br>"
      ],
      "text/plain": [
       "expr: {forall_{P, Q} ([forall_{x_{1}, ..x_{_a}.., x_{n} | Q(x_{1}, ..x_{_a}.., x_{n})} P(x_{1}, ..x_{_a}.., x_{n})] in BOOLEAN) if n in NaturalPos."
      ]
     },
     "execution_count": 2,
     "metadata": {},
     "output_type": "execute_result"
    }
   ],
   "source": [
    "# build up the expression from sub-expressions\n",
    "expr = Conditional(Forall([P, Q], InSet(general_forall_Px_if_Qx, Boolean)), InSet(n, NaturalPos))"
   ]
  },
  {
   "cell_type": "code",
   "execution_count": 3,
   "metadata": {},
   "outputs": [
    {
     "name": "stdout",
     "output_type": "stream",
     "text": [
      "Passed sanity check: expr matches stored_expr\n"
     ]
    }
   ],
   "source": [
    "# check that the built expression is the same as the stored expression\n",
    "assert expr == stored_expr\n",
    "assert expr._style_id == stored_expr._style_id\n",
    "print(\"Passed sanity check: expr matches stored_expr\")"
   ]
  },
  {
   "cell_type": "code",
   "execution_count": 4,
   "metadata": {},
   "outputs": [
    {
     "name": "stdout",
     "output_type": "stream",
     "text": [
      "\\left\\{\\forall_{P, Q}~\\left(\\left[\\forall_{x_{1}, \\ldots, x_{n}~|~Q(x_{1}, \\ldots, x_{n})}~P(x_{1}, \\ldots, x_{n})\\right] \\in \\mathbb{B}\\right) \\textrm{ if } n \\in \\mathbb{N}^+\\right..\n"
     ]
    }
   ],
   "source": [
    "# Show the LaTeX representation of the expression for convenience if you need it.\n",
    "print(expr.latex())"
   ]
  },
  {
   "cell_type": "code",
   "execution_count": 5,
   "metadata": {},
   "outputs": [
    {
     "data": {
      "text/html": [
       "<table><tr><th>&nbsp;</th><th>core type</th><th>sub-expressions</th><th>expression</th></tr>\n",
       "<tr><td>0</td><td>Conditional</td><td>value:&nbsp;1<br>condition:&nbsp;2<br></td><td><a class=\"ProveItLink\" href=\"expr.ipynb\"><img src=\"expr.png\" style=\"display:inline;vertical-align:middle;\" /></a></td></tr>\n",
       "<tr><td>1</td><td>Operation</td><td>operator:&nbsp;12<br>operand:&nbsp;3<br></td><td><a class=\"ProveItLink\" href=\"../ddf872200ca12e732b9fff153cddea50aa7d419f0/expr.ipynb\"><img src=\"../ddf872200ca12e732b9fff153cddea50aa7d419f0/expr.png\" style=\"display:inline;vertical-align:middle;\" /></a></td></tr>\n",
       "<tr><td>2</td><td>Operation</td><td>operator:&nbsp;8<br>operands:&nbsp;4<br></td><td><a class=\"ProveItLink\" href=\"../a9c01f72a8710eb6455c4786cc4a8aa9a8d1beb60/expr.ipynb\"><img src=\"../a9c01f72a8710eb6455c4786cc4a8aa9a8d1beb60/expr.png\" style=\"display:inline;vertical-align:middle;\" /></a></td></tr>\n",
       "<tr><td>3</td><td>Lambda</td><td>parameters:&nbsp;5<br>body:&nbsp;6<br></td><td><a class=\"ProveItLink\" href=\"../ce771b71193a1a5cbed24122f82414b3a60ee4220/expr.ipynb\"><img src=\"../ce771b71193a1a5cbed24122f82414b3a60ee4220/expr.png\" style=\"display:inline;vertical-align:middle;\" /></a></td></tr>\n",
       "<tr><td>4</td><td>ExprTuple</td><td>23, 7</td><td><a class=\"ProveItLink\" href=\"../09d617a164cf3f820cb8170f3e1680673d4b7bf10/expr.ipynb\"><img src=\"../09d617a164cf3f820cb8170f3e1680673d4b7bf10/expr.png\" style=\"display:inline;vertical-align:middle;\" /></a></td></tr>\n",
       "<tr><td>5</td><td>ExprTuple</td><td>17, 18</td><td><a class=\"ProveItLink\" href=\"../00f77196d611264a98752a66a912b8c36b7e38b70/expr.ipynb\"><img src=\"../00f77196d611264a98752a66a912b8c36b7e38b70/expr.png\" style=\"display:inline;vertical-align:middle;\" /></a></td></tr>\n",
       "<tr><td>6</td><td>Operation</td><td>operator:&nbsp;8<br>operands:&nbsp;9<br></td><td><a class=\"ProveItLink\" href=\"../ea5bf62175afaa4932f12e086a52d10a1db7a12b0/expr.ipynb\"><img src=\"../ea5bf62175afaa4932f12e086a52d10a1db7a12b0/expr.png\" style=\"display:inline;vertical-align:middle;\" /></a></td></tr>\n",
       "<tr><td>7</td><td>Literal</td><td></td><td><a class=\"ProveItLink\" href=\"../../../../../../../numbers/number_sets/natural_numbers/__pv_it/common/6111329435c43892c831c4793de96afbf80bdb3e0/expr.ipynb\"><img src=\"../../../../../../../numbers/number_sets/natural_numbers/__pv_it/common/6111329435c43892c831c4793de96afbf80bdb3e0/expr.png\" style=\"display:inline;vertical-align:middle;\" /></a></td></tr>\n",
       "<tr><td>8</td><td>Literal</td><td></td><td><a class=\"ProveItLink\" href=\"../../../../../../sets/membership/__pv_it/common/477487d8796864d23d5810f83761435f25167f690/expr.ipynb\"><img src=\"../../../../../../sets/membership/__pv_it/common/477487d8796864d23d5810f83761435f25167f690/expr.png\" style=\"display:inline;vertical-align:middle;\" /></a></td></tr>\n",
       "<tr><td>9</td><td>ExprTuple</td><td>10, 11</td><td><a class=\"ProveItLink\" href=\"../2ccf21c0db3339ac68e46bfba5d63a406f0696ca0/expr.ipynb\"><img src=\"../2ccf21c0db3339ac68e46bfba5d63a406f0696ca0/expr.png\" style=\"display:inline;vertical-align:middle;\" /></a></td></tr>\n",
       "<tr><td>10</td><td>Operation</td><td>operator:&nbsp;12<br>operand:&nbsp;13<br></td><td><a class=\"ProveItLink\" href=\"../../../../__pv_it/common/2611fe215067f76cefed9a4efd4b11ab1dc3b48e0/expr.ipynb\"><img src=\"../../../../__pv_it/common/2611fe215067f76cefed9a4efd4b11ab1dc3b48e0/expr.png\" style=\"display:inline;vertical-align:middle;\" /></a></td></tr>\n",
       "<tr><td>11</td><td>Literal</td><td></td><td><a class=\"ProveItLink\" href=\"../../../../../__pv_it/common/97424376de9815ad99f7180e3191b1cf4ab2a5710/expr.ipynb\"><img src=\"../../../../../__pv_it/common/97424376de9815ad99f7180e3191b1cf4ab2a5710/expr.png\" style=\"display:inline;vertical-align:middle;\" /></a></td></tr>\n",
       "<tr><td>12</td><td>Literal</td><td></td><td><a class=\"ProveItLink\" href=\"../../common/083d2baa0b8ecab1d230f9ec29a15aa1355809fb0/expr.ipynb\"><img src=\"../../common/083d2baa0b8ecab1d230f9ec29a15aa1355809fb0/expr.png\" style=\"display:inline;vertical-align:middle;\" /></a></td></tr>\n",
       "<tr><td>13</td><td>Lambda</td><td>parameters:&nbsp;19<br>body:&nbsp;14<br></td><td><a class=\"ProveItLink\" href=\"../../../../__pv_it/common/352256eb57589c3f4852da5401350dc94640f31e0/expr.ipynb\"><img src=\"../../../../__pv_it/common/352256eb57589c3f4852da5401350dc94640f31e0/expr.png\" style=\"display:inline;vertical-align:middle;\" /></a></td></tr>\n",
       "<tr><td>14</td><td>Conditional</td><td>value:&nbsp;15<br>condition:&nbsp;16<br></td><td><a class=\"ProveItLink\" href=\"../../../../__pv_it/common/23b944afe886fa773a89916d005e35ec4a57005c0/expr.ipynb\"><img src=\"../../../../__pv_it/common/23b944afe886fa773a89916d005e35ec4a57005c0/expr.png\" style=\"display:inline;vertical-align:middle;\" /></a></td></tr>\n",
       "<tr><td>15</td><td>Operation</td><td>operator:&nbsp;17<br>operands:&nbsp;19<br></td><td><a class=\"ProveItLink\" href=\"../../../../../../../core_expr_types/__pv_it/common/7fe1cafd85086b369e0eb3fc99bdc80bc0cc23a20/expr.ipynb\"><img src=\"../../../../../../../core_expr_types/__pv_it/common/7fe1cafd85086b369e0eb3fc99bdc80bc0cc23a20/expr.png\" style=\"display:inline;vertical-align:middle;\" /></a></td></tr>\n",
       "<tr><td>16</td><td>Operation</td><td>operator:&nbsp;18<br>operands:&nbsp;19<br></td><td><a class=\"ProveItLink\" href=\"../../../../../../../core_expr_types/__pv_it/common/243dc17d65d7910e0017f3be11a50095b70808a40/expr.ipynb\"><img src=\"../../../../../../../core_expr_types/__pv_it/common/243dc17d65d7910e0017f3be11a50095b70808a40/expr.png\" style=\"display:inline;vertical-align:middle;\" /></a></td></tr>\n",
       "<tr><td>17</td><td>Variable</td><td></td><td><a class=\"ProveItLink\" href=\"../../../../../../../__pv_it/common/de55da274ba0f49c86925fbf3828021c04d27faf0/expr.ipynb\"><img src=\"../../../../../../../__pv_it/common/de55da274ba0f49c86925fbf3828021c04d27faf0/expr.png\" style=\"display:inline;vertical-align:middle;\" /></a></td></tr>\n",
       "<tr><td>18</td><td>Variable</td><td></td><td><a class=\"ProveItLink\" href=\"../../../../../../../__pv_it/common/d72bb8b07403efe79afab564c36a28e21330e5f90/expr.ipynb\"><img src=\"../../../../../../../__pv_it/common/d72bb8b07403efe79afab564c36a28e21330e5f90/expr.png\" style=\"display:inline;vertical-align:middle;\" /></a></td></tr>\n",
       "<tr><td>19</td><td>ExprTuple</td><td>20</td><td><a class=\"ProveItLink\" href=\"../../../../../../../core_expr_types/__pv_it/common/bc5a51653f81549e556d6290bca69fc284f6a01a0/expr.ipynb\"><img src=\"../../../../../../../core_expr_types/__pv_it/common/bc5a51653f81549e556d6290bca69fc284f6a01a0/expr.png\" style=\"display:inline;vertical-align:middle;\" /></a></td></tr>\n",
       "<tr><td>20</td><td>ExprRange</td><td>lambda_map:&nbsp;21<br>start_index:&nbsp;22<br>end_index:&nbsp;23<br></td><td><a class=\"ProveItLink\" href=\"../../../../../../../core_expr_types/__pv_it/common/450167a24f71fe5474c458dd6e7d0df5b127faa80/expr.ipynb\"><img src=\"../../../../../../../core_expr_types/__pv_it/common/450167a24f71fe5474c458dd6e7d0df5b127faa80/expr.png\" style=\"display:inline;vertical-align:middle;\" /></a></td></tr>\n",
       "<tr><td>21</td><td>Lambda</td><td>parameter:&nbsp;26<br>body:&nbsp;24<br></td><td><a class=\"ProveItLink\" href=\"../../../../../../../core_expr_types/__pv_it/common/3d60e3d4d9f83b7d879c0d18fec5b16b4aa6e4690/expr.ipynb\"><img src=\"../../../../../../../core_expr_types/__pv_it/common/3d60e3d4d9f83b7d879c0d18fec5b16b4aa6e4690/expr.png\" style=\"display:inline;vertical-align:middle;\" /></a></td></tr>\n",
       "<tr><td>22</td><td>Literal</td><td></td><td><a class=\"ProveItLink\" href=\"../../../../../../../numbers/numerals/__pv_it/common/2778428c7f555b2bdc06aa0530bc142c6e6335100/expr.ipynb\"><img src=\"../../../../../../../numbers/numerals/__pv_it/common/2778428c7f555b2bdc06aa0530bc142c6e6335100/expr.png\" style=\"display:inline;vertical-align:middle;\" /></a></td></tr>\n",
       "<tr><td>23</td><td>Variable</td><td></td><td><a class=\"ProveItLink\" href=\"../../../../../../../__pv_it/common/8968bb04eb3f7dfa02353397ce929b025bbd79c20/expr.ipynb\"><img src=\"../../../../../../../__pv_it/common/8968bb04eb3f7dfa02353397ce929b025bbd79c20/expr.png\" style=\"display:inline;vertical-align:middle;\" /></a></td></tr>\n",
       "<tr><td>24</td><td>IndexedVar</td><td>variable:&nbsp;25<br>index:&nbsp;26<br></td><td><a class=\"ProveItLink\" href=\"../../../../../../../core_expr_types/__pv_it/common/257cd3299a4ed17f19c9fc89f960a93cbda02b550/expr.ipynb\"><img src=\"../../../../../../../core_expr_types/__pv_it/common/257cd3299a4ed17f19c9fc89f960a93cbda02b550/expr.png\" style=\"display:inline;vertical-align:middle;\" /></a></td></tr>\n",
       "<tr><td>25</td><td>Variable</td><td></td><td><a class=\"ProveItLink\" href=\"../../../../../../../__pv_it/common/a0d9d672aa5e272d907247690c152cc2c6daafb70/expr.ipynb\"><img src=\"../../../../../../../__pv_it/common/a0d9d672aa5e272d907247690c152cc2c6daafb70/expr.png\" style=\"display:inline;vertical-align:middle;\" /></a></td></tr>\n",
       "<tr><td>26</td><td>Variable</td><td></td><td><a class=\"ProveItLink\" href=\"../../../../../../../core_expr_types/__pv_it/common/006c465e50948aa2b52285e2de47974f741255cc0/expr.ipynb\"><img src=\"../../../../../../../core_expr_types/__pv_it/common/006c465e50948aa2b52285e2de47974f741255cc0/expr.png\" style=\"display:inline;vertical-align:middle;\" /></a></td></tr>\n",
       "</table>\n"
      ],
      "text/plain": [
       "0. {forall_{P, Q} ([forall_{x_{1}, ..x_{_a}.., x_{n} | Q(x_{1}, ..x_{_a}.., x_{n})} P(x_{1}, ..x_{_a}.., x_{n})] in BOOLEAN) if n in NaturalPos.\n",
       "   core type: Conditional\n",
       "   value: 1\n",
       "   condition: 2\n",
       "1. forall_{P, Q} ([forall_{x_{1}, ..x_{_a}.., x_{n} | Q(x_{1}, ..x_{_a}.., x_{n})} P(x_{1}, ..x_{_a}.., x_{n})] in BOOLEAN)\n",
       "   core type: Operation\n",
       "   operator: 12\n",
       "   operand: 3\n",
       "2. n in NaturalPos\n",
       "   core type: Operation\n",
       "   operator: 8\n",
       "   operands: 4\n",
       "3. (P, Q) -> ([forall_{x_{1}, ..x_{_a}.., x_{n} | Q(x_{1}, ..x_{_a}.., x_{n})} P(x_{1}, ..x_{_a}.., x_{n})] in BOOLEAN)\n",
       "   core type: Lambda\n",
       "   parameters: 5\\n   body: 6\n",
       "4. (n, NaturalPos)\n",
       "   core type: ExprTuple\n",
       "   sub-expressions: 23, 7\n",
       "5. (P, Q)\n",
       "   core type: ExprTuple\n",
       "   sub-expressions: 17, 18\n",
       "6. [forall_{x_{1}, ..x_{_a}.., x_{n} | Q(x_{1}, ..x_{_a}.., x_{n})} P(x_{1}, ..x_{_a}.., x_{n})] in BOOLEAN\n",
       "   core type: Operation\n",
       "   operator: 8\n",
       "   operands: 9\n",
       "7. NaturalPos\n",
       "   core type: Literal\n",
       "   sub-expressions: \n",
       "8. in\n",
       "   core type: Literal\n",
       "   sub-expressions: \n",
       "9. (forall_{x_{1}, ..x_{_a}.., x_{n} | Q(x_{1}, ..x_{_a}.., x_{n})} P(x_{1}, ..x_{_a}.., x_{n}), BOOLEAN)\n",
       "   core type: ExprTuple\n",
       "   sub-expressions: 10, 11\n",
       "10. forall_{x_{1}, ..x_{_a}.., x_{n} | Q(x_{1}, ..x_{_a}.., x_{n})} P(x_{1}, ..x_{_a}.., x_{n})\n",
       "    core type: Operation\n",
       "    operator: 12\n",
       "    operand: 13\n",
       "11. BOOLEAN\n",
       "    core type: Literal\n",
       "    sub-expressions: \n",
       "12. forall\n",
       "    core type: Literal\n",
       "    sub-expressions: \n",
       "13. (x_{1}, ..x_{_a}.., x_{n}) -> {P(x_{1}, ..x_{_a}.., x_{n}) if Q(x_{1}, ..x_{_a}.., x_{n}).\n",
       "    core type: Lambda\n",
       "    parameters: 19\\n    body: 14\n",
       "14. {P(x_{1}, ..x_{_a}.., x_{n}) if Q(x_{1}, ..x_{_a}.., x_{n}).\n",
       "    core type: Conditional\n",
       "    value: 15\n",
       "    condition: 16\n",
       "15. P(x_{1}, ..x_{_a}.., x_{n})\n",
       "    core type: Operation\n",
       "    operator: 17\n",
       "    operands: 19\n",
       "16. Q(x_{1}, ..x_{_a}.., x_{n})\n",
       "    core type: Operation\n",
       "    operator: 18\n",
       "    operands: 19\n",
       "17. P\n",
       "    core type: Variable\n",
       "    sub-expressions: \n",
       "18. Q\n",
       "    core type: Variable\n",
       "    sub-expressions: \n",
       "19. (x_{1}, ..x_{_a}.., x_{n})\n",
       "    core type: ExprTuple\n",
       "    sub-expressions: 20\n",
       "20. x_{1}, ..x_{_a}.., x_{n}\n",
       "    core type: ExprRange\n",
       "    lambda_map: 21\n",
       "    start_index: 22\n",
       "    end_index: 23\n",
       "21. _a -> x_{_a}\n",
       "    core type: Lambda\n",
       "    parameter: 26\n",
       "    body: 24\n",
       "22. 1\n",
       "    core type: Literal\n",
       "    sub-expressions: \n",
       "23. n\n",
       "    core type: Variable\n",
       "    sub-expressions: \n",
       "24. x_{_a}\n",
       "    core type: IndexedVar\n",
       "variable: 25\n",
       "index: 26\n",
       "25. x\n",
       "    core type: Variable\n",
       "    sub-expressions: \n",
       "26. _a\n",
       "    core type: Variable\n",
       "    sub-expressions: "
      ]
     },
     "execution_count": 5,
     "metadata": {},
     "output_type": "execute_result"
    }
   ],
   "source": [
    "# display the expression information\n",
    "expr.expr_info()"
   ]
  },
  {
   "cell_type": "code",
   "execution_count": null,
   "metadata": {},
   "outputs": [],
   "source": []
  }
 ],
 "metadata": {
  "kernelspec": {
   "display_name": "Python 3",
   "language": "python",
   "name": "python3"
  }
 },
 "nbformat": 4,
 "nbformat_minor": 0
}