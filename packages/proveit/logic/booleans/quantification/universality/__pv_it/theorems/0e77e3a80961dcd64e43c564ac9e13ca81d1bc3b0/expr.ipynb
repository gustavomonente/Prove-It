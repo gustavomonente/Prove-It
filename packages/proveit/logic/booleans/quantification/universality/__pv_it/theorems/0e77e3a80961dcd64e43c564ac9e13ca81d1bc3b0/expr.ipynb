{
 "cells": [
  {
   "cell_type": "markdown",
   "metadata": {},
   "source": [
    "Expression of type <a class=\"ProveItLink\" href=\"../../../../../../../../../doc/html/api/proveit.ExprTuple.html\">ExprTuple</a>\n",
    "=======================\n",
    "# from the theory of <a class=\"ProveItLink\" href=\"../../../_theory_nbs_/theory.ipynb\">proveit.logic.booleans.quantification.universality</a>"
   ]
  },
  {
   "cell_type": "code",
   "execution_count": 1,
   "metadata": {},
   "outputs": [],
   "source": [
    "import proveit\n",
    "# Automation is not needed when building an expression:\n",
    "proveit.defaults.automation = False # This will speed things up.\n",
    "proveit.defaults.inline_pngs = False # Makes files smaller.\n",
    "%load_expr # Load the stored expression as 'stored_expr'\n",
    "# import Expression classes needed to build the expression\n",
    "from proveit import Conditional, ExprTuple, Lambda, P, Q, R, m, n\n",
    "from proveit.logic import And, Forall, Implies, InSet\n",
    "from proveit.logic.booleans.quantification import general_bundled_forall_Pxy_if_Qx, general_nested_forall_Pxy_if_Qx\n",
    "from proveit.numbers import NaturalPos"
   ]
  },
  {
   "cell_type": "code",
   "execution_count": 2,
   "metadata": {},
   "outputs": [
    {
     "data": {
      "text/html": [
       "<strong id=\"expr\">expr:</strong> <a class=\"ProveItLink\" href=\"expr.ipynb\"><img src=\"expr.png\" style=\"display:inline;vertical-align:middle;\" /></a><br>"
      ],
      "text/plain": [
       "expr: ((m, n) -> {forall_{P, Q, R} ([forall_{x_{1}, ..x_{_a}.., x_{m} | Q(x_{1}, ..x_{_a}.., x_{m})} [forall_{y_{1}, ..y_{_a}.., y_{n} | R(x_{1}, ..x_{_a}.., x_{m}, y_{1}, ..y_{_a}.., y_{n})} P(x_{1}, ..x_{_a}.., x_{m}, y_{1}, ..y_{_a}.., y_{n})]] \\\\  => [forall_{x_{1}, ..x_{_a}.., x_{m}, y_{1}, ..y_{_a}.., y_{n} | Q(x_{1}, ..x_{_a}.., x_{m}), R(x_{1}, ..x_{_a}.., x_{m}, y_{1}, ..y_{_a}.., y_{n})} P(x_{1}, ..x_{_a}.., x_{m}, y_{1}, ..y_{_a}.., y_{n})]) if m in NaturalPos ,  n in NaturalPos.)"
      ]
     },
     "execution_count": 2,
     "metadata": {},
     "output_type": "execute_result"
    }
   ],
   "source": [
    "# build up the expression from sub-expressions\n",
    "expr = ExprTuple(Lambda([m, n], Conditional(Forall([P, Q, R], Implies(general_nested_forall_Pxy_if_Qx, general_bundled_forall_Pxy_if_Qx).with_wrapping_at(1)), And(InSet(m, NaturalPos), InSet(n, NaturalPos)))))"
   ]
  },
  {
   "cell_type": "code",
   "execution_count": 3,
   "metadata": {},
   "outputs": [
    {
     "name": "stdout",
     "output_type": "stream",
     "text": [
      "Passed sanity check: expr matches stored_expr\n"
     ]
    }
   ],
   "source": [
    "# check that the built expression is the same as the stored expression\n",
    "assert expr == stored_expr\n",
    "assert expr._style_id == stored_expr._style_id\n",
    "print(\"Passed sanity check: expr matches stored_expr\")"
   ]
  },
  {
   "cell_type": "code",
   "execution_count": 4,
   "metadata": {},
   "outputs": [
    {
     "name": "stdout",
     "output_type": "stream",
     "text": [
      "\\left(\\left(m, n\\right) \\mapsto \\left\\{\\forall_{P, Q, R}~\\left(\\begin{array}{c} \\begin{array}{l} \\left[\\forall_{x_{1}, \\ldots, x_{m}~|~Q(x_{1}, \\ldots, x_{m})}~\\left[\\forall_{y_{1}, \\ldots, y_{n}~|~R(x_{1}, \\ldots, x_{m}, y_{1}, \\ldots, y_{n})}~P(x_{1}, \\ldots, x_{m}, y_{1}, \\ldots, y_{n})\\right]\\right] \\\\  \\Rightarrow \\left[\\forall_{x_{1}, \\ldots, x_{m}, y_{1}, \\ldots, y_{n}~|~Q(x_{1}, \\ldots, x_{m}), R(x_{1}, \\ldots, x_{m}, y_{1}, \\ldots, y_{n})}~P(x_{1}, \\ldots, x_{m}, y_{1}, \\ldots, y_{n})\\right] \\end{array} \\end{array}\\right) \\textrm{ if } m \\in \\mathbb{N}^+ ,  n \\in \\mathbb{N}^+\\right..\\right)\n"
     ]
    }
   ],
   "source": [
    "# Show the LaTeX representation of the expression for convenience if you need it.\n",
    "print(expr.latex())"
   ]
  },
  {
   "cell_type": "code",
   "execution_count": 5,
   "metadata": {},
   "outputs": [
    {
     "data": {
      "text/html": [
       "no style options"
      ],
      "text/plain": [
       "no style options"
      ]
     },
     "execution_count": 5,
     "metadata": {},
     "output_type": "execute_result"
    }
   ],
   "source": [
    "expr.style_options()"
   ]
  },
  {
   "cell_type": "code",
   "execution_count": 6,
   "metadata": {},
   "outputs": [
    {
     "data": {
      "text/html": [
       "<table><tr><th>&nbsp;</th><th>core type</th><th>sub-expressions</th><th>expression</th></tr>\n",
       "<tr><td>0</td><td>ExprTuple</td><td>1</td><td><a class=\"ProveItLink\" href=\"expr.ipynb\"><img src=\"expr.png\" style=\"display:inline;vertical-align:middle;\" /></a></td></tr>\n",
       "<tr><td>1</td><td>Lambda</td><td>parameters:&nbsp;2<br>body:&nbsp;3<br></td><td><a class=\"ProveItLink\" href=\"../7ff55f48e5bc38a1d82bebb0c93f37417980d02c0/expr.ipynb\"><img src=\"../7ff55f48e5bc38a1d82bebb0c93f37417980d02c0/expr.png\" style=\"display:inline;vertical-align:middle;\" /></a></td></tr>\n",
       "<tr><td>2</td><td>ExprTuple</td><td>47, 50</td><td><a class=\"ProveItLink\" href=\"../42fe241b1162918a11a68cd18ac6dbf80c2188710/expr.ipynb\"><img src=\"../42fe241b1162918a11a68cd18ac6dbf80c2188710/expr.png\" style=\"display:inline;vertical-align:middle;\" /></a></td></tr>\n",
       "<tr><td>3</td><td>Conditional</td><td>value:&nbsp;4<br>condition:&nbsp;5<br></td><td><a class=\"ProveItLink\" href=\"../71ed8f05e971c8038860ff4bcc6dbd193cf29d730/expr.ipynb\"><img src=\"../71ed8f05e971c8038860ff4bcc6dbd193cf29d730/expr.png\" style=\"display:inline;vertical-align:middle;\" /></a></td></tr>\n",
       "<tr><td>4</td><td>Operation</td><td>operator:&nbsp;29<br>operand:&nbsp;8<br></td><td><a class=\"ProveItLink\" href=\"../2d6c0d150d25a6de861fcdd08d9e9992635434860/expr.ipynb\"><img src=\"../2d6c0d150d25a6de861fcdd08d9e9992635434860/expr.png\" style=\"display:inline;vertical-align:middle;\" /></a></td></tr>\n",
       "<tr><td>5</td><td>Operation</td><td>operator:&nbsp;31<br>operands:&nbsp;7<br></td><td><a class=\"ProveItLink\" href=\"../5277fbd1b285cf6ef9009df12aedc8dc21321d3f0/expr.ipynb\"><img src=\"../5277fbd1b285cf6ef9009df12aedc8dc21321d3f0/expr.png\" style=\"display:inline;vertical-align:middle;\" /></a></td></tr>\n",
       "<tr><td>6</td><td>ExprTuple</td><td>8</td><td><a class=\"ProveItLink\" href=\"../79e84610eb5725dde3658d37ed832611ac86470e0/expr.ipynb\"><img src=\"../79e84610eb5725dde3658d37ed832611ac86470e0/expr.png\" style=\"display:inline;vertical-align:middle;\" /></a></td></tr>\n",
       "<tr><td>7</td><td>ExprTuple</td><td>9, 10</td><td><a class=\"ProveItLink\" href=\"../36821d89d7d99ba4a8add303f6b2af22c81485220/expr.ipynb\"><img src=\"../36821d89d7d99ba4a8add303f6b2af22c81485220/expr.png\" style=\"display:inline;vertical-align:middle;\" /></a></td></tr>\n",
       "<tr><td>8</td><td>Lambda</td><td>parameters:&nbsp;11<br>body:&nbsp;12<br></td><td><a class=\"ProveItLink\" href=\"../99b156d49000bb54b85b6ab7e257982e2911f3f50/expr.ipynb\"><img src=\"../99b156d49000bb54b85b6ab7e257982e2911f3f50/expr.png\" style=\"display:inline;vertical-align:middle;\" /></a></td></tr>\n",
       "<tr><td>9</td><td>Operation</td><td>operator:&nbsp;14<br>operands:&nbsp;13<br></td><td><a class=\"ProveItLink\" href=\"../6b3ff92246828fbfb97988abc8ee79a02ac1c4480/expr.ipynb\"><img src=\"../6b3ff92246828fbfb97988abc8ee79a02ac1c4480/expr.png\" style=\"display:inline;vertical-align:middle;\" /></a></td></tr>\n",
       "<tr><td>10</td><td>Operation</td><td>operator:&nbsp;14<br>operands:&nbsp;15<br></td><td><a class=\"ProveItLink\" href=\"../ae59bd0f03e1fa8f7acebab16a13247bdc6eea470/expr.ipynb\"><img src=\"../ae59bd0f03e1fa8f7acebab16a13247bdc6eea470/expr.png\" style=\"display:inline;vertical-align:middle;\" /></a></td></tr>\n",
       "<tr><td>11</td><td>ExprTuple</td><td>41, 37, 42</td><td><a class=\"ProveItLink\" href=\"../681c578ead34f44992fbebb7b93b8a3fe4280bf00/expr.ipynb\"><img src=\"../681c578ead34f44992fbebb7b93b8a3fe4280bf00/expr.png\" style=\"display:inline;vertical-align:middle;\" /></a></td></tr>\n",
       "<tr><td>12</td><td>Operation</td><td>operator:&nbsp;16<br>operands:&nbsp;17<br></td><td><a class=\"ProveItLink\" href=\"../914c6e5dda5057f04c7dc5045d2a1a81d479b2d30/expr.ipynb\"><img src=\"../914c6e5dda5057f04c7dc5045d2a1a81d479b2d30/expr.png\" style=\"display:inline;vertical-align:middle;\" /></a></td></tr>\n",
       "<tr><td>13</td><td>ExprTuple</td><td>47, 18</td><td><a class=\"ProveItLink\" href=\"../dc63af1f664b017213ea5b3c44c17f5f20a0cd780/expr.ipynb\"><img src=\"../dc63af1f664b017213ea5b3c44c17f5f20a0cd780/expr.png\" style=\"display:inline;vertical-align:middle;\" /></a></td></tr>\n",
       "<tr><td>14</td><td>Literal</td><td></td><td><a class=\"ProveItLink\" href=\"../../../../../../sets/membership/__pv_it/common/7171deca84f71f47a6ec7696972d1632274a12880/expr.ipynb\"><img src=\"../../../../../../sets/membership/__pv_it/common/7171deca84f71f47a6ec7696972d1632274a12880/expr.png\" style=\"display:inline;vertical-align:middle;\" /></a></td></tr>\n",
       "<tr><td>15</td><td>ExprTuple</td><td>50, 18</td><td><a class=\"ProveItLink\" href=\"../080dd91cc3570be1095df8a1115684c8dda0284e0/expr.ipynb\"><img src=\"../080dd91cc3570be1095df8a1115684c8dda0284e0/expr.png\" style=\"display:inline;vertical-align:middle;\" /></a></td></tr>\n",
       "<tr><td>16</td><td>Literal</td><td></td><td><a class=\"ProveItLink\" href=\"../../../../../implication/__pv_it/common/95a8cc69d34af52c7732e4a6fefbd5b63e8d31ba0/expr.ipynb\"><img src=\"../../../../../implication/__pv_it/common/95a8cc69d34af52c7732e4a6fefbd5b63e8d31ba0/expr.png\" style=\"display:inline;vertical-align:middle;\" /></a></td></tr>\n",
       "<tr><td>17</td><td>ExprTuple</td><td>19, 20</td><td><a class=\"ProveItLink\" href=\"../e0ab518030fea65dd807e023b734cfc43c019ad40/expr.ipynb\"><img src=\"../e0ab518030fea65dd807e023b734cfc43c019ad40/expr.png\" style=\"display:inline;vertical-align:middle;\" /></a></td></tr>\n",
       "<tr><td>18</td><td>Literal</td><td></td><td><a class=\"ProveItLink\" href=\"../../../../../../../numbers/number_sets/natural_numbers/__pv_it/common/a2a7252783c385c028dad802e97575c19e456b990/expr.ipynb\"><img src=\"../../../../../../../numbers/number_sets/natural_numbers/__pv_it/common/a2a7252783c385c028dad802e97575c19e456b990/expr.png\" style=\"display:inline;vertical-align:middle;\" /></a></td></tr>\n",
       "<tr><td>19</td><td>Operation</td><td>operator:&nbsp;29<br>operand:&nbsp;23<br></td><td><a class=\"ProveItLink\" href=\"../../../../__pv_it/common/3e49f245562d63fe9f34a215c36d51435309812d0/expr.ipynb\"><img src=\"../../../../__pv_it/common/3e49f245562d63fe9f34a215c36d51435309812d0/expr.png\" style=\"display:inline;vertical-align:middle;\" /></a></td></tr>\n",
       "<tr><td>20</td><td>Operation</td><td>operator:&nbsp;29<br>operand:&nbsp;24<br></td><td><a class=\"ProveItLink\" href=\"../../../../__pv_it/common/4a85c73f5d309542f0ccc4f36ee70d058c6b1ae10/expr.ipynb\"><img src=\"../../../../__pv_it/common/4a85c73f5d309542f0ccc4f36ee70d058c6b1ae10/expr.png\" style=\"display:inline;vertical-align:middle;\" /></a></td></tr>\n",
       "<tr><td>21</td><td>ExprTuple</td><td>23</td><td><a class=\"ProveItLink\" href=\"../../../../__pv_it/common/2abcc05264f2837c5fd26decda05c9ad02a9a2010/expr.ipynb\"><img src=\"../../../../__pv_it/common/2abcc05264f2837c5fd26decda05c9ad02a9a2010/expr.png\" style=\"display:inline;vertical-align:middle;\" /></a></td></tr>\n",
       "<tr><td>22</td><td>ExprTuple</td><td>24</td><td><a class=\"ProveItLink\" href=\"../../../../__pv_it/common/db4be7f4d6fefaf607ac4c0ec6539a4f5f28c2250/expr.ipynb\"><img src=\"../../../../__pv_it/common/db4be7f4d6fefaf607ac4c0ec6539a4f5f28c2250/expr.png\" style=\"display:inline;vertical-align:middle;\" /></a></td></tr>\n",
       "<tr><td>23</td><td>Lambda</td><td>parameters:&nbsp;38<br>body:&nbsp;25<br></td><td><a class=\"ProveItLink\" href=\"../../../../__pv_it/common/7723fe57251d67819f4006f3a21d39a477f6f34b0/expr.ipynb\"><img src=\"../../../../__pv_it/common/7723fe57251d67819f4006f3a21d39a477f6f34b0/expr.png\" style=\"display:inline;vertical-align:middle;\" /></a></td></tr>\n",
       "<tr><td>24</td><td>Lambda</td><td>parameters:&nbsp;43<br>body:&nbsp;26<br></td><td><a class=\"ProveItLink\" href=\"../../../../__pv_it/common/0e2b8f2615b54901e7e60d4eb8f8d668db91fabb0/expr.ipynb\"><img src=\"../../../../__pv_it/common/0e2b8f2615b54901e7e60d4eb8f8d668db91fabb0/expr.png\" style=\"display:inline;vertical-align:middle;\" /></a></td></tr>\n",
       "<tr><td>25</td><td>Conditional</td><td>value:&nbsp;27<br>condition:&nbsp;34<br></td><td><a class=\"ProveItLink\" href=\"../../../../__pv_it/common/2bf19134aeb9052952f8797c574e764e4f55a20a0/expr.ipynb\"><img src=\"../../../../__pv_it/common/2bf19134aeb9052952f8797c574e764e4f55a20a0/expr.png\" style=\"display:inline;vertical-align:middle;\" /></a></td></tr>\n",
       "<tr><td>26</td><td>Conditional</td><td>value:&nbsp;39<br>condition:&nbsp;28<br></td><td><a class=\"ProveItLink\" href=\"../../../../__pv_it/common/8a4cb6d399f34f5027abe5e097c120ac6acab3fe0/expr.ipynb\"><img src=\"../../../../__pv_it/common/8a4cb6d399f34f5027abe5e097c120ac6acab3fe0/expr.png\" style=\"display:inline;vertical-align:middle;\" /></a></td></tr>\n",
       "<tr><td>27</td><td>Operation</td><td>operator:&nbsp;29<br>operand:&nbsp;33<br></td><td><a class=\"ProveItLink\" href=\"../../../../__pv_it/common/e9f115e02e9beef7a3d2b98923d59159d5a49bad0/expr.ipynb\"><img src=\"../../../../__pv_it/common/e9f115e02e9beef7a3d2b98923d59159d5a49bad0/expr.png\" style=\"display:inline;vertical-align:middle;\" /></a></td></tr>\n",
       "<tr><td>28</td><td>Operation</td><td>operator:&nbsp;31<br>operands:&nbsp;32<br></td><td><a class=\"ProveItLink\" href=\"../../../../__pv_it/common/d295797756b9f59010704b7aafc66fe89458511b0/expr.ipynb\"><img src=\"../../../../__pv_it/common/d295797756b9f59010704b7aafc66fe89458511b0/expr.png\" style=\"display:inline;vertical-align:middle;\" /></a></td></tr>\n",
       "<tr><td>29</td><td>Literal</td><td></td><td><a class=\"ProveItLink\" href=\"../../common/684d35ba98fcbf8ca5011f865e530a51e77730630/expr.ipynb\"><img src=\"../../common/684d35ba98fcbf8ca5011f865e530a51e77730630/expr.png\" style=\"display:inline;vertical-align:middle;\" /></a></td></tr>\n",
       "<tr><td>30</td><td>ExprTuple</td><td>33</td><td><a class=\"ProveItLink\" href=\"../../../../__pv_it/common/5317234f3a6d59a0ba1736a26da786444a5de25f0/expr.ipynb\"><img src=\"../../../../__pv_it/common/5317234f3a6d59a0ba1736a26da786444a5de25f0/expr.png\" style=\"display:inline;vertical-align:middle;\" /></a></td></tr>\n",
       "<tr><td>31</td><td>Literal</td><td></td><td><a class=\"ProveItLink\" href=\"../../../../../conjunction/__pv_it/common/26b94b53e70b1d77b70f0d9d4236347db37731060/expr.ipynb\"><img src=\"../../../../../conjunction/__pv_it/common/26b94b53e70b1d77b70f0d9d4236347db37731060/expr.png\" style=\"display:inline;vertical-align:middle;\" /></a></td></tr>\n",
       "<tr><td>32</td><td>ExprTuple</td><td>34, 40</td><td><a class=\"ProveItLink\" href=\"../../../../__pv_it/common/42f20ceef8d6b634445c8ce655adcaf254a522b50/expr.ipynb\"><img src=\"../../../../__pv_it/common/42f20ceef8d6b634445c8ce655adcaf254a522b50/expr.png\" style=\"display:inline;vertical-align:middle;\" /></a></td></tr>\n",
       "<tr><td>33</td><td>Lambda</td><td>parameters:&nbsp;35<br>body:&nbsp;36<br></td><td><a class=\"ProveItLink\" href=\"../../../../__pv_it/common/560dba793479ea7398d66d8fba3e0d9ed7d757410/expr.ipynb\"><img src=\"../../../../__pv_it/common/560dba793479ea7398d66d8fba3e0d9ed7d757410/expr.png\" style=\"display:inline;vertical-align:middle;\" /></a></td></tr>\n",
       "<tr><td>34</td><td>Operation</td><td>operator:&nbsp;37<br>operands:&nbsp;38<br></td><td><a class=\"ProveItLink\" href=\"../../../../../../../core_expr_types/__pv_it/common/e60d0bf6df2cd100a292be50c8c55fdd45399c020/expr.ipynb\"><img src=\"../../../../../../../core_expr_types/__pv_it/common/e60d0bf6df2cd100a292be50c8c55fdd45399c020/expr.png\" style=\"display:inline;vertical-align:middle;\" /></a></td></tr>\n",
       "<tr><td>35</td><td>ExprTuple</td><td>45</td><td><a class=\"ProveItLink\" href=\"../../../../../../../core_expr_types/__pv_it/common/34a946761b1de134871ee6cbf0f53773974067990/expr.ipynb\"><img src=\"../../../../../../../core_expr_types/__pv_it/common/34a946761b1de134871ee6cbf0f53773974067990/expr.png\" style=\"display:inline;vertical-align:middle;\" /></a></td></tr>\n",
       "<tr><td>36</td><td>Conditional</td><td>value:&nbsp;39<br>condition:&nbsp;40<br></td><td><a class=\"ProveItLink\" href=\"../../../../__pv_it/common/7b3c48d8cee1564316355410ea8086cb0648dbe40/expr.ipynb\"><img src=\"../../../../__pv_it/common/7b3c48d8cee1564316355410ea8086cb0648dbe40/expr.png\" style=\"display:inline;vertical-align:middle;\" /></a></td></tr>\n",
       "<tr><td>37</td><td>Variable</td><td></td><td><a class=\"ProveItLink\" href=\"../../../../../../../__pv_it/common/50527aea954422d65ebe44b8de200683294751540/expr.ipynb\"><img src=\"../../../../../../../__pv_it/common/50527aea954422d65ebe44b8de200683294751540/expr.png\" style=\"display:inline;vertical-align:middle;\" /></a></td></tr>\n",
       "<tr><td>38</td><td>ExprTuple</td><td>44</td><td><a class=\"ProveItLink\" href=\"../../../../../../../core_expr_types/__pv_it/common/e8d27296bef5da9eb0fac408a8c0b0e3efbbc5070/expr.ipynb\"><img src=\"../../../../../../../core_expr_types/__pv_it/common/e8d27296bef5da9eb0fac408a8c0b0e3efbbc5070/expr.png\" style=\"display:inline;vertical-align:middle;\" /></a></td></tr>\n",
       "<tr><td>39</td><td>Operation</td><td>operator:&nbsp;41<br>operands:&nbsp;43<br></td><td><a class=\"ProveItLink\" href=\"../../../../../../../core_expr_types/__pv_it/common/6638e483d02ff4ebad33ba2967a8f9af1c4a0fac0/expr.ipynb\"><img src=\"../../../../../../../core_expr_types/__pv_it/common/6638e483d02ff4ebad33ba2967a8f9af1c4a0fac0/expr.png\" style=\"display:inline;vertical-align:middle;\" /></a></td></tr>\n",
       "<tr><td>40</td><td>Operation</td><td>operator:&nbsp;42<br>operands:&nbsp;43<br></td><td><a class=\"ProveItLink\" href=\"../../../../../../../core_expr_types/__pv_it/common/671e38e0a68579cbd8b2c2c1e4c3f286fe6e522e0/expr.ipynb\"><img src=\"../../../../../../../core_expr_types/__pv_it/common/671e38e0a68579cbd8b2c2c1e4c3f286fe6e522e0/expr.png\" style=\"display:inline;vertical-align:middle;\" /></a></td></tr>\n",
       "<tr><td>41</td><td>Variable</td><td></td><td><a class=\"ProveItLink\" href=\"../../../../../../../__pv_it/common/d5fc3066299847984076662ce51556220bdb6cfb0/expr.ipynb\"><img src=\"../../../../../../../__pv_it/common/d5fc3066299847984076662ce51556220bdb6cfb0/expr.png\" style=\"display:inline;vertical-align:middle;\" /></a></td></tr>\n",
       "<tr><td>42</td><td>Variable</td><td></td><td><a class=\"ProveItLink\" href=\"../../../../../../../__pv_it/common/75b77068be7a61a1f04d03fa34a8f6252f6605dd0/expr.ipynb\"><img src=\"../../../../../../../__pv_it/common/75b77068be7a61a1f04d03fa34a8f6252f6605dd0/expr.png\" style=\"display:inline;vertical-align:middle;\" /></a></td></tr>\n",
       "<tr><td>43</td><td>ExprTuple</td><td>44, 45</td><td><a class=\"ProveItLink\" href=\"../../../../../../../core_expr_types/__pv_it/common/9555f5b6314cb9020b50461a10085fed2d8a97f00/expr.ipynb\"><img src=\"../../../../../../../core_expr_types/__pv_it/common/9555f5b6314cb9020b50461a10085fed2d8a97f00/expr.png\" style=\"display:inline;vertical-align:middle;\" /></a></td></tr>\n",
       "<tr><td>44</td><td>ExprRange</td><td>lambda_map:&nbsp;46<br>start_index:&nbsp;49<br>end_index:&nbsp;47<br></td><td><a class=\"ProveItLink\" href=\"../../../../../../../core_expr_types/__pv_it/common/a5276176df891980a29e7b7a2d2e5ad7d00585410/expr.ipynb\"><img src=\"../../../../../../../core_expr_types/__pv_it/common/a5276176df891980a29e7b7a2d2e5ad7d00585410/expr.png\" style=\"display:inline;vertical-align:middle;\" /></a></td></tr>\n",
       "<tr><td>45</td><td>ExprRange</td><td>lambda_map:&nbsp;48<br>start_index:&nbsp;49<br>end_index:&nbsp;50<br></td><td><a class=\"ProveItLink\" href=\"../../../../../../../core_expr_types/__pv_it/common/d4ccfa4c92b5be548893c8e9f8a96b24fc2db46d0/expr.ipynb\"><img src=\"../../../../../../../core_expr_types/__pv_it/common/d4ccfa4c92b5be548893c8e9f8a96b24fc2db46d0/expr.png\" style=\"display:inline;vertical-align:middle;\" /></a></td></tr>\n",
       "<tr><td>46</td><td>Lambda</td><td>parameter:&nbsp;56<br>body:&nbsp;51<br></td><td><a class=\"ProveItLink\" href=\"../../../../../../../core_expr_types/__pv_it/common/9f9da64a6f3f7f4d7d39593366f06c70046127720/expr.ipynb\"><img src=\"../../../../../../../core_expr_types/__pv_it/common/9f9da64a6f3f7f4d7d39593366f06c70046127720/expr.png\" style=\"display:inline;vertical-align:middle;\" /></a></td></tr>\n",
       "<tr><td>47</td><td>Variable</td><td></td><td><a class=\"ProveItLink\" href=\"../../../../../../../__pv_it/common/2dc4f15b3407a25e8d70754a86bf74f1871f92650/expr.ipynb\"><img src=\"../../../../../../../__pv_it/common/2dc4f15b3407a25e8d70754a86bf74f1871f92650/expr.png\" style=\"display:inline;vertical-align:middle;\" /></a></td></tr>\n",
       "<tr><td>48</td><td>Lambda</td><td>parameter:&nbsp;56<br>body:&nbsp;52<br></td><td><a class=\"ProveItLink\" href=\"../../../../../../../core_expr_types/__pv_it/common/e85c6dca3c2891a25500913ce6fa75404b16995d0/expr.ipynb\"><img src=\"../../../../../../../core_expr_types/__pv_it/common/e85c6dca3c2891a25500913ce6fa75404b16995d0/expr.png\" style=\"display:inline;vertical-align:middle;\" /></a></td></tr>\n",
       "<tr><td>49</td><td>Literal</td><td></td><td><a class=\"ProveItLink\" href=\"../../../../../../../numbers/numerals/__pv_it/common/d278e359da0695d9652dd541d45264f93703e2e40/expr.ipynb\"><img src=\"../../../../../../../numbers/numerals/__pv_it/common/d278e359da0695d9652dd541d45264f93703e2e40/expr.png\" style=\"display:inline;vertical-align:middle;\" /></a></td></tr>\n",
       "<tr><td>50</td><td>Variable</td><td></td><td><a class=\"ProveItLink\" href=\"../../../../../../../__pv_it/common/6165c9bb82ce3c7097cdba4440a1aeeb6eaca8a40/expr.ipynb\"><img src=\"../../../../../../../__pv_it/common/6165c9bb82ce3c7097cdba4440a1aeeb6eaca8a40/expr.png\" style=\"display:inline;vertical-align:middle;\" /></a></td></tr>\n",
       "<tr><td>51</td><td>IndexedVar</td><td>variable:&nbsp;53<br>index:&nbsp;56<br></td><td><a class=\"ProveItLink\" href=\"../../../../../../../core_expr_types/__pv_it/common/2b235eefbcbf7d9287528d44110903b9cfed0a2a0/expr.ipynb\"><img src=\"../../../../../../../core_expr_types/__pv_it/common/2b235eefbcbf7d9287528d44110903b9cfed0a2a0/expr.png\" style=\"display:inline;vertical-align:middle;\" /></a></td></tr>\n",
       "<tr><td>52</td><td>IndexedVar</td><td>variable:&nbsp;54<br>index:&nbsp;56<br></td><td><a class=\"ProveItLink\" href=\"../../../../../../../core_expr_types/__pv_it/common/cfe245429f738680263dd9e15adfb363654edf9a0/expr.ipynb\"><img src=\"../../../../../../../core_expr_types/__pv_it/common/cfe245429f738680263dd9e15adfb363654edf9a0/expr.png\" style=\"display:inline;vertical-align:middle;\" /></a></td></tr>\n",
       "<tr><td>53</td><td>Variable</td><td></td><td><a class=\"ProveItLink\" href=\"../../../../../../../__pv_it/common/a2581dc5df71d9a30bad37de14965fa5fec97a240/expr.ipynb\"><img src=\"../../../../../../../__pv_it/common/a2581dc5df71d9a30bad37de14965fa5fec97a240/expr.png\" style=\"display:inline;vertical-align:middle;\" /></a></td></tr>\n",
       "<tr><td>54</td><td>Variable</td><td></td><td><a class=\"ProveItLink\" href=\"../../../../../../../__pv_it/common/0f21cbfd5644a1cae6781c1d58354abc2ffbc9000/expr.ipynb\"><img src=\"../../../../../../../__pv_it/common/0f21cbfd5644a1cae6781c1d58354abc2ffbc9000/expr.png\" style=\"display:inline;vertical-align:middle;\" /></a></td></tr>\n",
       "<tr><td>55</td><td>ExprTuple</td><td>56</td><td><a class=\"ProveItLink\" href=\"../../../../../../../core_expr_types/__pv_it/common/ecf50ade416ab41c42c9f4e777b4c862cd9469670/expr.ipynb\"><img src=\"../../../../../../../core_expr_types/__pv_it/common/ecf50ade416ab41c42c9f4e777b4c862cd9469670/expr.png\" style=\"display:inline;vertical-align:middle;\" /></a></td></tr>\n",
       "<tr><td>56</td><td>Variable</td><td></td><td><a class=\"ProveItLink\" href=\"../../../../../../../core_expr_types/__pv_it/common/9e6d9d5d7eeb0342cf5bca68def0eb165a1a9bb10/expr.ipynb\"><img src=\"../../../../../../../core_expr_types/__pv_it/common/9e6d9d5d7eeb0342cf5bca68def0eb165a1a9bb10/expr.png\" style=\"display:inline;vertical-align:middle;\" /></a></td></tr>\n",
       "</table>\n"
      ],
      "text/plain": [
       "0. ((m, n) -> {forall_{P, Q, R} ([forall_{x_{1}, ..x_{_a}.., x_{m} | Q(x_{1}, ..x_{_a}.., x_{m})} [forall_{y_{1}, ..y_{_a}.., y_{n} | R(x_{1}, ..x_{_a}.., x_{m}, y_{1}, ..y_{_a}.., y_{n})} P(x_{1}, ..x_{_a}.., x_{m}, y_{1}, ..y_{_a}.., y_{n})]] \\\\  => [forall_{x_{1}, ..x_{_a}.., x_{m}, y_{1}, ..y_{_a}.., y_{n} | Q(x_{1}, ..x_{_a}.., x_{m}), R(x_{1}, ..x_{_a}.., x_{m}, y_{1}, ..y_{_a}.., y_{n})} P(x_{1}, ..x_{_a}.., x_{m}, y_{1}, ..y_{_a}.., y_{n})]) if m in NaturalPos ,  n in NaturalPos.)\n",
       "   core type: ExprTuple\n",
       "   sub-expressions: 1\n",
       "1. (m, n) -> {forall_{P, Q, R} ([forall_{x_{1}, ..x_{_a}.., x_{m} | Q(x_{1}, ..x_{_a}.., x_{m})} [forall_{y_{1}, ..y_{_a}.., y_{n} | R(x_{1}, ..x_{_a}.., x_{m}, y_{1}, ..y_{_a}.., y_{n})} P(x_{1}, ..x_{_a}.., x_{m}, y_{1}, ..y_{_a}.., y_{n})]] \\\\  => [forall_{x_{1}, ..x_{_a}.., x_{m}, y_{1}, ..y_{_a}.., y_{n} | Q(x_{1}, ..x_{_a}.., x_{m}), R(x_{1}, ..x_{_a}.., x_{m}, y_{1}, ..y_{_a}.., y_{n})} P(x_{1}, ..x_{_a}.., x_{m}, y_{1}, ..y_{_a}.., y_{n})]) if m in NaturalPos ,  n in NaturalPos.\n",
       "   core type: Lambda\n",
       "   parameters: 2\\n   body: 3\n",
       "2. (m, n)\n",
       "   core type: ExprTuple\n",
       "   sub-expressions: 47, 50\n",
       "3. {forall_{P, Q, R} ([forall_{x_{1}, ..x_{_a}.., x_{m} | Q(x_{1}, ..x_{_a}.., x_{m})} [forall_{y_{1}, ..y_{_a}.., y_{n} | R(x_{1}, ..x_{_a}.., x_{m}, y_{1}, ..y_{_a}.., y_{n})} P(x_{1}, ..x_{_a}.., x_{m}, y_{1}, ..y_{_a}.., y_{n})]] \\\\  => [forall_{x_{1}, ..x_{_a}.., x_{m}, y_{1}, ..y_{_a}.., y_{n} | Q(x_{1}, ..x_{_a}.., x_{m}), R(x_{1}, ..x_{_a}.., x_{m}, y_{1}, ..y_{_a}.., y_{n})} P(x_{1}, ..x_{_a}.., x_{m}, y_{1}, ..y_{_a}.., y_{n})]) if m in NaturalPos ,  n in NaturalPos.\n",
       "   core type: Conditional\n",
       "   value: 4\n",
       "   condition: 5\n",
       "4. forall_{P, Q, R} ([forall_{x_{1}, ..x_{_a}.., x_{m} | Q(x_{1}, ..x_{_a}.., x_{m})} [forall_{y_{1}, ..y_{_a}.., y_{n} | R(x_{1}, ..x_{_a}.., x_{m}, y_{1}, ..y_{_a}.., y_{n})} P(x_{1}, ..x_{_a}.., x_{m}, y_{1}, ..y_{_a}.., y_{n})]] \\\\  => [forall_{x_{1}, ..x_{_a}.., x_{m}, y_{1}, ..y_{_a}.., y_{n} | Q(x_{1}, ..x_{_a}.., x_{m}), R(x_{1}, ..x_{_a}.., x_{m}, y_{1}, ..y_{_a}.., y_{n})} P(x_{1}, ..x_{_a}.., x_{m}, y_{1}, ..y_{_a}.., y_{n})])\n",
       "   core type: Operation\n",
       "   operator: 29\n",
       "   operand: 8\n",
       "5. (m in NaturalPos) and (n in NaturalPos)\n",
       "   core type: Operation\n",
       "   operator: 31\n",
       "   operands: 7\n",
       "6. ((P, Q, R) -> ([forall_{x_{1}, ..x_{_a}.., x_{m} | Q(x_{1}, ..x_{_a}.., x_{m})} [forall_{y_{1}, ..y_{_a}.., y_{n} | R(x_{1}, ..x_{_a}.., x_{m}, y_{1}, ..y_{_a}.., y_{n})} P(x_{1}, ..x_{_a}.., x_{m}, y_{1}, ..y_{_a}.., y_{n})]] \\\\  => [forall_{x_{1}, ..x_{_a}.., x_{m}, y_{1}, ..y_{_a}.., y_{n} | Q(x_{1}, ..x_{_a}.., x_{m}), R(x_{1}, ..x_{_a}.., x_{m}, y_{1}, ..y_{_a}.., y_{n})} P(x_{1}, ..x_{_a}.., x_{m}, y_{1}, ..y_{_a}.., y_{n})]))\n",
       "   core type: ExprTuple\n",
       "   sub-expressions: 8\n",
       "7. (m in NaturalPos, n in NaturalPos)\n",
       "   core type: ExprTuple\n",
       "   sub-expressions: 9, 10\n",
       "8. (P, Q, R) -> ([forall_{x_{1}, ..x_{_a}.., x_{m} | Q(x_{1}, ..x_{_a}.., x_{m})} [forall_{y_{1}, ..y_{_a}.., y_{n} | R(x_{1}, ..x_{_a}.., x_{m}, y_{1}, ..y_{_a}.., y_{n})} P(x_{1}, ..x_{_a}.., x_{m}, y_{1}, ..y_{_a}.., y_{n})]] \\\\  => [forall_{x_{1}, ..x_{_a}.., x_{m}, y_{1}, ..y_{_a}.., y_{n} | Q(x_{1}, ..x_{_a}.., x_{m}), R(x_{1}, ..x_{_a}.., x_{m}, y_{1}, ..y_{_a}.., y_{n})} P(x_{1}, ..x_{_a}.., x_{m}, y_{1}, ..y_{_a}.., y_{n})])\n",
       "   core type: Lambda\n",
       "   parameters: 11\\n   body: 12\n",
       "9. m in NaturalPos\n",
       "   core type: Operation\n",
       "   operator: 14\n",
       "   operands: 13\n",
       "10. n in NaturalPos\n",
       "    core type: Operation\n",
       "    operator: 14\n",
       "    operands: 15\n",
       "11. (P, Q, R)\n",
       "    core type: ExprTuple\n",
       "    sub-expressions: 41, 37, 42\n",
       "12. [forall_{x_{1}, ..x_{_a}.., x_{m} | Q(x_{1}, ..x_{_a}.., x_{m})} [forall_{y_{1}, ..y_{_a}.., y_{n} | R(x_{1}, ..x_{_a}.., x_{m}, y_{1}, ..y_{_a}.., y_{n})} P(x_{1}, ..x_{_a}.., x_{m}, y_{1}, ..y_{_a}.., y_{n})]] \\\\  => [forall_{x_{1}, ..x_{_a}.., x_{m}, y_{1}, ..y_{_a}.., y_{n} | Q(x_{1}, ..x_{_a}.., x_{m}), R(x_{1}, ..x_{_a}.., x_{m}, y_{1}, ..y_{_a}.., y_{n})} P(x_{1}, ..x_{_a}.., x_{m}, y_{1}, ..y_{_a}.., y_{n})]\n",
       "    core type: Operation\n",
       "    operator: 16\n",
       "    operands: 17\n",
       "13. (m, NaturalPos)\n",
       "    core type: ExprTuple\n",
       "    sub-expressions: 47, 18\n",
       "14. in\n",
       "    core type: Literal\n",
       "    sub-expressions: \n",
       "15. (n, NaturalPos)\n",
       "    core type: ExprTuple\n",
       "    sub-expressions: 50, 18\n",
       "16. =>\n",
       "    core type: Literal\n",
       "    sub-expressions: \n",
       "17. (forall_{x_{1}, ..x_{_a}.., x_{m} | Q(x_{1}, ..x_{_a}.., x_{m})} [forall_{y_{1}, ..y_{_a}.., y_{n} | R(x_{1}, ..x_{_a}.., x_{m}, y_{1}, ..y_{_a}.., y_{n})} P(x_{1}, ..x_{_a}.., x_{m}, y_{1}, ..y_{_a}.., y_{n})], forall_{x_{1}, ..x_{_a}.., x_{m}, y_{1}, ..y_{_a}.., y_{n} | Q(x_{1}, ..x_{_a}.., x_{m}), R(x_{1}, ..x_{_a}.., x_{m}, y_{1}, ..y_{_a}.., y_{n})} P(x_{1}, ..x_{_a}.., x_{m}, y_{1}, ..y_{_a}.., y_{n}))\n",
       "    core type: ExprTuple\n",
       "    sub-expressions: 19, 20\n",
       "18. NaturalPos\n",
       "    core type: Literal\n",
       "    sub-expressions: \n",
       "19. forall_{x_{1}, ..x_{_a}.., x_{m} | Q(x_{1}, ..x_{_a}.., x_{m})} [forall_{y_{1}, ..y_{_a}.., y_{n} | R(x_{1}, ..x_{_a}.., x_{m}, y_{1}, ..y_{_a}.., y_{n})} P(x_{1}, ..x_{_a}.., x_{m}, y_{1}, ..y_{_a}.., y_{n})]\n",
       "    core type: Operation\n",
       "    operator: 29\n",
       "    operand: 23\n",
       "20. forall_{x_{1}, ..x_{_a}.., x_{m}, y_{1}, ..y_{_a}.., y_{n} | Q(x_{1}, ..x_{_a}.., x_{m}), R(x_{1}, ..x_{_a}.., x_{m}, y_{1}, ..y_{_a}.., y_{n})} P(x_{1}, ..x_{_a}.., x_{m}, y_{1}, ..y_{_a}.., y_{n})\n",
       "    core type: Operation\n",
       "    operator: 29\n",
       "    operand: 24\n",
       "21. ((x_{1}, ..x_{_a}.., x_{m}) -> {forall_{y_{1}, ..y_{_a}.., y_{n} | R(x_{1}, ..x_{_a}.., x_{m}, y_{1}, ..y_{_a}.., y_{n})} P(x_{1}, ..x_{_a}.., x_{m}, y_{1}, ..y_{_a}.., y_{n}) if Q(x_{1}, ..x_{_a}.., x_{m}).)\n",
       "    core type: ExprTuple\n",
       "    sub-expressions: 23\n",
       "22. ((x_{1}, ..x_{_a}.., x_{m}, y_{1}, ..y_{_a}.., y_{n}) -> {P(x_{1}, ..x_{_a}.., x_{m}, y_{1}, ..y_{_a}.., y_{n}) if Q(x_{1}, ..x_{_a}.., x_{m}) ,  R(x_{1}, ..x_{_a}.., x_{m}, y_{1}, ..y_{_a}.., y_{n}).)\n",
       "    core type: ExprTuple\n",
       "    sub-expressions: 24\n",
       "23. (x_{1}, ..x_{_a}.., x_{m}) -> {forall_{y_{1}, ..y_{_a}.., y_{n} | R(x_{1}, ..x_{_a}.., x_{m}, y_{1}, ..y_{_a}.., y_{n})} P(x_{1}, ..x_{_a}.., x_{m}, y_{1}, ..y_{_a}.., y_{n}) if Q(x_{1}, ..x_{_a}.., x_{m}).\n",
       "    core type: Lambda\n",
       "    parameters: 38\\n    body: 25\n",
       "24. (x_{1}, ..x_{_a}.., x_{m}, y_{1}, ..y_{_a}.., y_{n}) -> {P(x_{1}, ..x_{_a}.., x_{m}, y_{1}, ..y_{_a}.., y_{n}) if Q(x_{1}, ..x_{_a}.., x_{m}) ,  R(x_{1}, ..x_{_a}.., x_{m}, y_{1}, ..y_{_a}.., y_{n}).\n",
       "    core type: Lambda\n",
       "    parameters: 43\\n    body: 26\n",
       "25. {forall_{y_{1}, ..y_{_a}.., y_{n} | R(x_{1}, ..x_{_a}.., x_{m}, y_{1}, ..y_{_a}.., y_{n})} P(x_{1}, ..x_{_a}.., x_{m}, y_{1}, ..y_{_a}.., y_{n}) if Q(x_{1}, ..x_{_a}.., x_{m}).\n",
       "    core type: Conditional\n",
       "    value: 27\n",
       "    condition: 34\n",
       "26. {P(x_{1}, ..x_{_a}.., x_{m}, y_{1}, ..y_{_a}.., y_{n}) if Q(x_{1}, ..x_{_a}.., x_{m}) ,  R(x_{1}, ..x_{_a}.., x_{m}, y_{1}, ..y_{_a}.., y_{n}).\n",
       "    core type: Conditional\n",
       "    value: 39\n",
       "    condition: 28\n",
       "27. forall_{y_{1}, ..y_{_a}.., y_{n} | R(x_{1}, ..x_{_a}.., x_{m}, y_{1}, ..y_{_a}.., y_{n})} P(x_{1}, ..x_{_a}.., x_{m}, y_{1}, ..y_{_a}.., y_{n})\n",
       "    core type: Operation\n",
       "    operator: 29\n",
       "    operand: 33\n",
       "28. Q(x_{1}, ..x_{_a}.., x_{m}) and R(x_{1}, ..x_{_a}.., x_{m}, y_{1}, ..y_{_a}.., y_{n})\n",
       "    core type: Operation\n",
       "    operator: 31\n",
       "    operands: 32\n",
       "29. forall\n",
       "    core type: Literal\n",
       "    sub-expressions: \n",
       "30. ((y_{1}, ..y_{_a}.., y_{n}) -> {P(x_{1}, ..x_{_a}.., x_{m}, y_{1}, ..y_{_a}.., y_{n}) if R(x_{1}, ..x_{_a}.., x_{m}, y_{1}, ..y_{_a}.., y_{n}).)\n",
       "    core type: ExprTuple\n",
       "    sub-expressions: 33\n",
       "31. and\n",
       "    core type: Literal\n",
       "    sub-expressions: \n",
       "32. (Q(x_{1}, ..x_{_a}.., x_{m}), R(x_{1}, ..x_{_a}.., x_{m}, y_{1}, ..y_{_a}.., y_{n}))\n",
       "    core type: ExprTuple\n",
       "    sub-expressions: 34, 40\n",
       "33. (y_{1}, ..y_{_a}.., y_{n}) -> {P(x_{1}, ..x_{_a}.., x_{m}, y_{1}, ..y_{_a}.., y_{n}) if R(x_{1}, ..x_{_a}.., x_{m}, y_{1}, ..y_{_a}.., y_{n}).\n",
       "    core type: Lambda\n",
       "    parameters: 35\\n    body: 36\n",
       "34. Q(x_{1}, ..x_{_a}.., x_{m})\n",
       "    core type: Operation\n",
       "    operator: 37\n",
       "    operands: 38\n",
       "35. (y_{1}, ..y_{_a}.., y_{n})\n",
       "    core type: ExprTuple\n",
       "    sub-expressions: 45\n",
       "36. {P(x_{1}, ..x_{_a}.., x_{m}, y_{1}, ..y_{_a}.., y_{n}) if R(x_{1}, ..x_{_a}.., x_{m}, y_{1}, ..y_{_a}.., y_{n}).\n",
       "    core type: Conditional\n",
       "    value: 39\n",
       "    condition: 40\n",
       "37. Q\n",
       "    core type: Variable\n",
       "    sub-expressions: \n",
       "38. (x_{1}, ..x_{_a}.., x_{m})\n",
       "    core type: ExprTuple\n",
       "    sub-expressions: 44\n",
       "39. P(x_{1}, ..x_{_a}.., x_{m}, y_{1}, ..y_{_a}.., y_{n})\n",
       "    core type: Operation\n",
       "    operator: 41\n",
       "    operands: 43\n",
       "40. R(x_{1}, ..x_{_a}.., x_{m}, y_{1}, ..y_{_a}.., y_{n})\n",
       "    core type: Operation\n",
       "    operator: 42\n",
       "    operands: 43\n",
       "41. P\n",
       "    core type: Variable\n",
       "    sub-expressions: \n",
       "42. R\n",
       "    core type: Variable\n",
       "    sub-expressions: \n",
       "43. (x_{1}, ..x_{_a}.., x_{m}, y_{1}, ..y_{_a}.., y_{n})\n",
       "    core type: ExprTuple\n",
       "    sub-expressions: 44, 45\n",
       "44. x_{1}, ..x_{_a}.., x_{m}\n",
       "    core type: ExprRange\n",
       "    lambda_map: 46\n",
       "    start_index: 49\n",
       "    end_index: 47\n",
       "45. y_{1}, ..y_{_a}.., y_{n}\n",
       "    core type: ExprRange\n",
       "    lambda_map: 48\n",
       "    start_index: 49\n",
       "    end_index: 50\n",
       "46. _a -> x_{_a}\n",
       "    core type: Lambda\n",
       "    parameter: 56\n",
       "    body: 51\n",
       "47. m\n",
       "    core type: Variable\n",
       "    sub-expressions: \n",
       "48. _a -> y_{_a}\n",
       "    core type: Lambda\n",
       "    parameter: 56\n",
       "    body: 52\n",
       "49. 1\n",
       "    core type: Literal\n",
       "    sub-expressions: \n",
       "50. n\n",
       "    core type: Variable\n",
       "    sub-expressions: \n",
       "51. x_{_a}\n",
       "    core type: IndexedVar\n",
       "variable: 53\n",
       "index: 56\n",
       "52. y_{_a}\n",
       "    core type: IndexedVar\n",
       "variable: 54\n",
       "index: 56\n",
       "53. x\n",
       "    core type: Variable\n",
       "    sub-expressions: \n",
       "54. y\n",
       "    core type: Variable\n",
       "    sub-expressions: \n",
       "55. (_a)\n",
       "    core type: ExprTuple\n",
       "    sub-expressions: 56\n",
       "56. _a\n",
       "    core type: Variable\n",
       "    sub-expressions: "
      ]
     },
     "execution_count": 6,
     "metadata": {},
     "output_type": "execute_result"
    }
   ],
   "source": [
    "# display the expression information\n",
    "expr.expr_info()"
   ]
  },
  {
   "cell_type": "code",
   "execution_count": null,
   "metadata": {},
   "outputs": [],
   "source": []
  }
 ],
 "metadata": {
  "kernelspec": {
   "display_name": "Python 3",
   "language": "python",
   "name": "python3"
  }
 },
 "nbformat": 4,
 "nbformat_minor": 0
}