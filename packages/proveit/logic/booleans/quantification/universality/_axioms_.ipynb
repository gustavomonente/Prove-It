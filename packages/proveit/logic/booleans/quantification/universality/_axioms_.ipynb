{
 "cells": [
  {
   "cell_type": "markdown",
   "metadata": {},
   "source": [
    "Axioms for the theory of <a class=\"ProveItLink\" href=\"_theory_.ipynb\">proveit.logic.booleans.quantification.universality</a>\n",
    "========\n",
    "\n",
    "Note that $\\forall$ is a core concept of **Prove-It** pertaining to the *instantiation* and *generalization* derivation steps.  As such, axioms are not needed to define the fundamentals of $\\forall$.  These axioms just add some extra properties that are not intrinsic to those core fundamentals."
   ]
  },
  {
   "cell_type": "code",
   "execution_count": null,
   "metadata": {},
   "outputs": [],
   "source": [
    "import proveit\n",
    "# Prepare this notebook for defining the axioms of a theory:\n",
    "%axioms_notebook # Keep this at the top following 'import proveit'.\n",
    "from proveit.logic import Forall, in_bool\n",
    "from proveit.numbers import NaturalPos\n",
    "from proveit import n, P\n",
    "from proveit.logic.booleans.quantification import general_forall_Px\n",
    "%begin axioms"
   ]
  },
  {
   "cell_type": "markdown",
   "metadata": {},
   "source": [
    "**If a $\\forall$ statement is not true (the instance expression is not true for all valid instances) then it is defined to be false:**"
   ]
  },
  {
   "cell_type": "code",
   "execution_count": null,
   "metadata": {},
   "outputs": [],
   "source": [
    "forall_in_bool = Forall(n, Forall(P, in_bool(general_forall_Px)),\n",
    "                      domain=NaturalPos)"
   ]
  },
  {
   "cell_type": "markdown",
   "metadata": {},
   "source": [
    "This is applicable to any universal quantification.  Note that there is no guarantee that it can be proven to be true or false, but it must be one of these according to this axiom."
   ]
  },
  {
   "cell_type": "code",
   "execution_count": null,
   "metadata": {},
   "outputs": [],
   "source": [
    "%end axioms"
   ]
  },
  {
   "cell_type": "code",
   "execution_count": null,
   "metadata": {},
   "outputs": [],
   "source": []
  }
 ],
 "metadata": {
  "kernelspec": {
   "display_name": "Python 3",
   "language": "python",
   "name": "python3"
  }
 },
 "nbformat": 4,
 "nbformat_minor": 0
}
