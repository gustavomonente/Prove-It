{
 "cells": [
  {
   "cell_type": "markdown",
   "metadata": {},
   "source": [
    "Common expressions for the theory of <a class=\"ProveItLink\" href=\"theory.ipynb\">proveit.logic.booleans.quantification</a>\n",
    "========"
   ]
  },
  {
   "cell_type": "code",
   "execution_count": 1,
   "metadata": {},
   "outputs": [
    {
     "name": "stdout",
     "output_type": "stream",
     "text": [
      "Defining common sub-expressions for theory 'proveit.logic.booleans.quantification'\n",
      "Subsequent end-of-cell assignments will define common sub-expressions\n",
      "%end_common will finalize the definitions\n"
     ]
    }
   ],
   "source": [
    "import proveit\n",
    "# Prepare this notebook for defining the common expressions of a theory:\n",
    "%common_expressions_notebook # Keep this at the top following 'import proveit'.\n",
    "from proveit import k, A, B\n",
    "from proveit.core_expr_types import (\n",
    "    x_1_to_n, x_1_to_m, y_1_to_n, y_1_to_m, z_1_to_n, \n",
    "    P__x_1_to_n, P__y_1_to_n, P__x_1_to_m_y_1_to_n, \n",
    "    Q__x_1_to_n, Q__x_1_to_m, Q__y_1_to_n, Q__z_1_to_n, R__x_1_to_n, \n",
    "    R__y_1_to_m, R__z_1_to_n, R__x_1_to_m_y_1_to_n)\n",
    "from proveit.logic import TRUE, Implies, Not, Forall, Exists, NotExists, NotEquals\n",
    "from proveit.numbers import Natural, NaturalPos\n",
    "%begin common"
   ]
  },
  {
   "cell_type": "code",
   "execution_count": 2,
   "metadata": {},
   "outputs": [
    {
     "data": {
      "text/html": [
       "<strong id=\"general_forall_Px\">general_forall_Px:</strong> <a class=\"ProveItLink\" href=\"../__pv_it/common/5ee0602c4fce4edffb5de0a5148e20bed5a174260/common_expr.ipynb\"><img src=\"data:image/png;base64,iVBORw0KGgoAAAANSUhEUgAAAMoAAAAVBAMAAAD1I2xhAAAAMFBMVEX///8QEBCIiIhmZma6urrM\n",
       "zMxUVFQiIiJERETc3Nzu7u6qqqp2dnaYmJgyMjIAAAAcRTyBAAAAAXRSTlMAQObYZgAAAoJJREFU\n",
       "SMetVU9o02AU/600tkmb1ouH6aWsMKUU1osIukmnhyEIdhXEg9BSrDDBrchwTMQ/t87LCgoOQQw9\n",
       "7DBECyLFXQzdrf4LOPBUyUEvglgcyjZl+r5kyZqE1gT9QvJewvve732/932/AN7HA2/hoQqgMqfl\n",
       "JlqcWr8weRgQbnqsagJ4yexnV9FRquiWhEjFI8pjYIEM7666nAy8iOGdV4bDMUQkMjVX0UNpumXM\n",
       "ekURdkNsLi3dcxc9T/dUmi953i4fgfVy+Zq74C3idg2+FFU3MHGs0TO2Ong3GTNeVoAiMOcKhPsF\n",
       "1GUEFeAR3seuA2e7kySLlwOq8fYBOA5BdYXi+/FqJQEEqIlNvJVO4PSh7g2Xwpt+cy/WaRZ8iiuU\n",
       "4KZm+mgPSCgzd6z7WhDs2Lc5glUC7toSLZkowLfeKBQds6Dw6hlyGgcHM45lx7PFzuOS0gxjDNz3\n",
       "v6HkKJ04ko0bcXPniXNpMpDGRWtgYpc6bTsujDjid9nXRqIXSkgaopziqNJX0buPp8QEhy/Aub3W\n",
       "0EzE0rCvkr7CFPw/g21e0VCELWw/nqgdzqnaPInq/f2IsknDJoMbdF+1c9upWEd/FzTrL0EoJOKt\n",
       "bSZmWJorjMm84VCaxYHqCJVRwCib8olpLYvj2pwTJYeMeKQl277uKMyYxo2DrmXT24NhSisYavEw\n",
       "rIY1lAWJv6096Gq/gRw6ALui7KhlnRHobIpZFt/G9DNNLfWxuNpoaijjNa4f4xWun9snXDqZlFDk\n",
       "7IIdNHi8c4M4rDrPirmH/XkkFU35OwdjzJTnkG5KvlV7Fgus80SL9g9WAcuu1bTfpz6e6ynzodf/\n",
       "+EcWKz0KUfD/xh+faJ5b7CxiTwAAAABJRU5ErkJggg==\n",
       "\" style=\"display:inline;vertical-align:middle;\" /></a><br>"
      ],
      "text/plain": [
       "general_forall_Px: forall_{x_{1}, ..x_{_a}.., x_{n}} P(x_{1}, ..x_{_a}.., x_{n})"
      ]
     },
     "execution_count": 2,
     "metadata": {},
     "output_type": "execute_result"
    }
   ],
   "source": [
    "general_forall_Px = Forall(x_1_to_n, P__x_1_to_n)"
   ]
  },
  {
   "cell_type": "code",
   "execution_count": 3,
   "metadata": {},
   "outputs": [
    {
     "data": {
      "text/html": [
       "<strong id=\"general_forall_Py\">general_forall_Py:</strong> <a class=\"ProveItLink\" href=\"../__pv_it/common/3ed58fe7725b406229be44f3dddd2e5dc8355a7d0/common_expr.ipynb\"><img src=\"data:image/png;base64,iVBORw0KGgoAAAANSUhEUgAAAMUAAAAVBAMAAAAEKDfsAAAAMFBMVEX///8QEBCIiIhmZma6urrM\n",
       "zMxUVFQiIiJERETc3Nzu7u6qqqp2dnaYmJgyMjIAAAAcRTyBAAAAAXRSTlMAQObYZgAAAqdJREFU\n",
       "SMetVUtoE2EQ/pLsO09ED20R1gSkF0mpqAclxgr2IJrtRbw1FPVUJAcf4AOKh5AIajy16KFrkVp7\n",
       "adGTorDqTSsEqoJQIeBJL4YaX6FW589mkzRLwi76w/w7uzs738w3M/8CrpdcdGP9iKTElA9OrN/9\n",
       "yZ76qANzriISCsArpnx2ZL4OSL3AJ1cYCiUxxbKfcGLNrwH+VQQH3FH7HAhR9oFFJ8beCskaxII7\n",
       "jDtA8OX8/KQjY6lM7FYw6bJFQkngZy53yZFxmJidHkCMOI6puKl3MZ0ZhNxb1wPE7Ukg7whj1ICf\n",
       "orlGn3ERxMF3rqJxAN5yXQ9SaAdrpXew4uNLgxT8ReC2r4QcvzPTcYIWE5CsCPxkJsLrbKhumOxs\n",
       "BnSPilVwHTEUbEJYtdqREgoURWfF+wELAymd/9YFA1wVo1oLhlw6Rg+3Q7QVcSiNCy3j8dW8EldI\n",
       "wBvphkFcbsPy2ygbpZpZ/gQlE9ZHILShGFU+snE82KKaIwsp3Q2D3mbxZit66jXHQ7K9NYx+/tlG\n",
       "DPluxtvSOqGqeX1BshupYg1jgTlgm7LeqvjS3G95JgP2ic9gfc+qsw9jNrZ8hqA2b758N2+GSWaj\n",
       "+ws1DJGRKaZpO2cp58mLMhb7BUHlGA0hVpggc30GW2wYYtKjLT9daePBPEsSdaIf23jy6/WKeDSf\n",
       "Qf7vNd6c5coMQ76KKd3aRC2FBxPtXUdnolBSKmbjw7BhBEhOYyGJaYiHtdqZWF+H+ksMg+/DSIHv\n",
       "YVsfuLHrELTj7U7yEIuSCnkPkaeo9nOE5DKukEt4X6NlwJWCVKxx5W/mjPvUQyJ2JNuczIGL7rKS\n",
       "svcUG+ihmNZoscYxLRhHwcf3mr9G6yc5zpUwiyfFf/rXvm8O5orRjMLSjizhv6y/XueqbfT5kG8A\n",
       "AAAASUVORK5CYII=\n",
       "\" style=\"display:inline;vertical-align:middle;\" /></a><br>"
      ],
      "text/plain": [
       "general_forall_Py: forall_{y_{1}, ..y_{_a}.., y_{n}} P(y_{1}, ..y_{_a}.., y_{n})"
      ]
     },
     "execution_count": 3,
     "metadata": {},
     "output_type": "execute_result"
    }
   ],
   "source": [
    "general_forall_Py= Forall(y_1_to_n, P__y_1_to_n)"
   ]
  },
  {
   "cell_type": "code",
   "execution_count": 4,
   "metadata": {},
   "outputs": [
    {
     "data": {
      "text/html": [
       "<strong id=\"general_forall_Px_if_Qx\">general_forall_Px_if_Qx:</strong> <a class=\"ProveItLink\" href=\"../__pv_it/common/6dd43caee6368fc50049c351b46542474f8c3c9b0/common_expr.ipynb\"><img src=\"data:image/png;base64,iVBORw0KGgoAAAANSUhEUgAAATUAAAAWBAMAAABTfhYbAAAAMFBMVEX///8QEBCIiIhmZma6urrM\n",
       "zMxUVFQiIiJERETc3Nzu7u6qqqp2dnaYmJgyMjIAAAAcRTyBAAAAAXRSTlMAQObYZgAAA1tJREFU\n",
       "SMe9Vl1IFFEU/tzd2XF3dlYf8iHrQRIMwlCKikhjJageilYfxIegJVIoKiSkQAt8Co3CFYIkCCcD\n",
       "CyFaih6KhE3fLGKiCKKCjXwpkJaUSpHq3Dt3Z3d29m+QbWDuPXP3+/Z+95xzz73Af3p8ujP8E3oT\n",
       "zPhUPk3v/l7u+aIB9xzyvFHgBTO+ldFhf4DKWuCrQ5qfnDbG/D1YPmnSKqD8gNrslDgDBMnfgVj5\n",
       "tLmW6F2FHHVKvA2oc1NTN8oY0sok5c4SnE8RDAG/h4YuOp+ymBuklFFFeTPejHoyJxquN9YVZGUi\n",
       "ApQF3cBwKWo8IkYtsywLiqGVkDCOxaHQ2q9RdsfVc3ICUv7kFgjjUcnYx7dECcExytQ8JNp1J4vC\n",
       "d4u+6fTLbbSYAVqPFljxRKXtvXk5BiK1OsLJcOmlaxsl6k5I8aLwSdGPaLxbR15BJXOZJ782gRBZ\n",
       "QYka0GWUru0Sva/hDRdPZbH+X0hpo9yrK6xNINLafIlOVk12NNjnswxyba5qFibyNQL1Hd0owBDB\n",
       "kBaNzwGee+Fi2hhCbe2oT+GGT9A/aWflEE5llSY+aNEWjFCzl1WELd5EH7xaXoYSMcsbe2gvKFoT\n",
       "AQppMxBqm14RNfYCHvWyLb8AHK3NrgML2TGtYom2EQeBcFCH9FzLy/AYmRNcMT5ngSOxEdwy/OGn\n",
       "gwwPEhkGbwzEzc2oov91x80YL9Pbn72Q5WxtFYRVq7Gf0WhtspaXIfHN7/7+08igA7Q7Nk206iJW\n",
       "F4goM8+ehzDkfhNxHG1sVSwBVI1nnmTXxgbfTH/M0OaN3I+NhtDFUgNhu7Y0wxOx/JA+s7g2xbYo\n",
       "PDWtGrSQmLupz/FAIsC1jWm+K6mGDz4clDO0+WvqPswzni/5CnGuLY23MFRrmUmf9axu5ardJt6X\n",
       "RN9jftaLavR2Zo5ra49J69EeZU2MD3rDXZk15M7VHjqvZM1/5lCjxrVJGwQ+amG4Q9apU2ePbxeL\n",
       "8oS9tpnVgzzeqNsOBBbT9JXEsGRsDWVoAzrpBusSKB5TJScjmDW39W5pr/Zqdjm1ntgdizEo5pCw\n",
       "JvFMt2gb/0yCjE0oNe0Rt2c7Y3qNd/L3KCBfzXkuUN9HzeFcPshk+B3fJdfyuC1VstgdyaWtfcZ/\n",
       "yw/xcyvyn6cAAAAASUVORK5CYII=\n",
       "\" style=\"display:inline;vertical-align:middle;\" /></a><br>"
      ],
      "text/plain": [
       "general_forall_Px_if_Qx: forall_{x_{1}, ..x_{_a}.., x_{n} | Q(x_{1}, ..x_{_a}.., x_{n})} P(x_{1}, ..x_{_a}.., x_{n})"
      ]
     },
     "execution_count": 4,
     "metadata": {},
     "output_type": "execute_result"
    }
   ],
   "source": [
    "general_forall_Px_if_Qx = Forall(x_1_to_n, P__x_1_to_n, conditions=[Q__x_1_to_n])"
   ]
  },
  {
   "cell_type": "code",
   "execution_count": 5,
   "metadata": {},
   "outputs": [
    {
     "data": {
      "text/html": [
       "<strong id=\"general_nested_forall_Pxy_if_Qx\">general_nested_forall_Pxy_if_Qx:</strong> <a class=\"ProveItLink\" href=\"../__pv_it/common/3e49f245562d63fe9f34a215c36d51435309812d0/common_expr.ipynb\"><img src=\"data:image/png;base64,iVBORw0KGgoAAAANSUhEUgAAArEAAAAZBAMAAADUJGu0AAAAMFBMVEX///8QEBCIiIhmZma6urrM\n",
       "zMxUVFQiIiJERETc3Nzu7u6qqqp2dnaYmJgyMjIAAAAcRTyBAAAAAXRSTlMAQObYZgAABjlJREFU\n",
       "aN7lWn+IFFUc/+7szuzO7O7tERioBdtdyHV1uYkapBybwWqUORpIkXjLkYJhOn9YRz+s7f6oU6xW\n",
       "gpKgbtBQPKxbMjruMJo8Ijg9uzgjqDM2sD8KokXr0LOs92Nm58283Zm1c28DH+zMm3ef7/t+32fe\n",
       "+36/780BzEWRep6DG6qs7jHmRlEYbrQiZ288Zt+rt4JonjJbxA/n6s5sE77FJxpHaHznpa077gNQ\n",
       "cnVXtY0yewrXf607s7ECujXpDZyrCTSHXtGhKV93TR9RZg/gW67uzBIVBxrpBbpQTPk8CZP11xRL\n",
       "EmbxPCITqs5+Fi+LU41kdnEa/QyYgyRFaSbMxscGBt6Zgwg2NTBwVGsks2+i3860PBc2nKe5waW+\n",
       "vhfngNlEX99rRiOZvYqGexGEFJpTLdtWnfSedRzi4BKQF3iJsIBRyuwWgD3/xVL/SKCyzEoqRK45\n",
       "eMizJ9QyQvwLYMiACEpPjsF3yZc8hXiEcT8IJS8RFvAjZfYBUIq1GZmmN2HlKPbN/vhPWGZDKRIz\n",
       "a1SyZnp5LzZ39sxaRgjTp0fbkSUopIzB1/qDAI9VFzIRzCsudEIk5yFiAmgZosyGQagxzaSC8nkQ\n",
       "F9CkzacE8+xOQYOO2pXEmyFsgHQdMiTLiMgMuQXQm9OhD9Uevbe6EEWw7gFugkTSQ4QCrDSEMhub\n",
       "qHWHRAe9H5m6HMQappOSZZkdB612JcEsSBpsuh6B2jQioZWZBbhA9vZeYhdcz6EZ6FK9RCjAwaxc\n",
       "3HhNzO5Gv2+w2/Qvv7DMvi9ma1cSTkIgiUPA7ItpRFeKdowTTPFPP2Ypgp36RbjNU4QCzPMY89xg\n",
       "z5PocnLZIp4rVyMZtNCMc0PMVax1Q4WhszIdLLORt9F0WZWF57m3vQjCuovZQVVZgh1IZbucmn36\n",
       "7LDTWWwF8nwjKNS0e9JEEZPftqRaTEWRLLzqKUIAWMKOYHAcDUDQd4TT8JQTTBtdzDZhkU5AKXC7\n",
       "VNwFku4h8ynLbBQ7KWNGbHariSX09e45u67lnjyg3LOiXVSzHZW9+zSN+J0aGktB6EqkJE8QmpSr\n",
       "YF4Gi0zFRJy9FW7WF9HmYDb0N2XWgbSfCABJzEf1lSaz2PGK8BvAJlfCRhrdzCawg70F1qB8pmkC\n",
       "xC90D5k1jrMu5LrkDzQh51bz7mpoczN7BoIahHKV7SKa7ajs0yc1ovOfbjqZNVC621vPmd6gB5v/\n",
       "LLYwa1XQ/KcI+aAGf2CWMEjpbr1MRTDAFiEXC4AlcKD82WQ2TshBcvyiuswzi9wfjtwZTDKKZWHd\n",
       "Q2azg9nv8Zs1pCSnZiV0u5ndB/EShLLV7EqwSYNPn5udf7B3t5imKH9GNFKuSUm0GF6wQMiRUm8w\n",
       "wp8bWgApGULOUtHY81mxJPIjwI2Tn00+8SUzaCn7YWF/mmR2XSgN55hlZTIOZkklHVA5NbtgXnzF\n",
       "OYNl9goEm0HMVbELa0YSy06oNfSZcf5h0sFshazcTnoCqpCTSyoB7YDBtMksnxWVAQE1aKjWiQwt\n",
       "/bFijIzggC7vtS6k8eNioHCCGbQyL/kD2hcfAbl0BinBzFaVmeKZVddxauCZUCnaZuVkRIk4g5Ku\n",
       "x9G7L9tlw+W9RHP0blgYNXC7T59TrkhTnu5DeE/KZ2nJcrUfzcF4ziCg3dBrijCA8s7WAvRD+CHV\n",
       "OkWk5fDZk2PEvPUFcT6sz+NLgTRK6hFYyk6nQ/u2op1tWFeefvgunTBbVWYpx2yo+w1ODWTairBF\n",
       "zDFKvprOi714iZftEhea8Ly4kGreomjBNG736XOpizlro/TWy8hf8HukuF3NQFNe3q4T0KpW1RSJ\n",
       "89O8DMiAME4PC1xfa/CSsg8UCyYpx0ErMMwCbERxUzBxxBtUkylyzB6F1zk1Sh6lQppwFhxKcLmT\n",
       "sStqezV606KpcBQ/+fTp3rrX/WtNPM8xu+FigX7EoQOgtcNwO3TnHYPu/0m3HsTFK6CqTHSCY3Z7\n",
       "qMipkYxH0E4pOs4zG7HtguFy67C5txLS0h34ybvPaGO+EPFfGOOVlgU4Bx3ByeRaf5lDwDG79jQv\n",
       "EpoyKighvmPCueLcNfrk3ech+J8w61VSjkzD/7Sk3Wa29v83cCgZnv0Q2xtC7Oqe7L8IzAuDUgbD\n",
       "igAAAABJRU5ErkJggg==\n",
       "\" style=\"display:inline;vertical-align:middle;\" /></a><br>"
      ],
      "text/plain": [
       "general_nested_forall_Pxy_if_Qx: forall_{x_{1}, ..x_{_a}.., x_{m} | Q(x_{1}, ..x_{_a}.., x_{m})} [forall_{y_{1}, ..y_{_a}.., y_{n} | R(x_{1}, ..x_{_a}.., x_{m}, y_{1}, ..y_{_a}.., y_{n})} P(x_{1}, ..x_{_a}.., x_{m}, y_{1}, ..y_{_a}.., y_{n})]"
      ]
     },
     "execution_count": 5,
     "metadata": {},
     "output_type": "execute_result"
    }
   ],
   "source": [
    "general_nested_forall_Pxy_if_Qx = Forall(x_1_to_m, \n",
    "                                         Forall(y_1_to_n, P__x_1_to_m_y_1_to_n,\n",
    "                                                conditions=R__x_1_to_m_y_1_to_n),\n",
    "                                         conditions=Q__x_1_to_m)"
   ]
  },
  {
   "cell_type": "code",
   "execution_count": 6,
   "metadata": {},
   "outputs": [
    {
     "data": {
      "text/html": [
       "<strong id=\"general_bundled_forall_Pxy_if_Qx\">general_bundled_forall_Pxy_if_Qx:</strong> <a class=\"ProveItLink\" href=\"../__pv_it/common/4a85c73f5d309542f0ccc4f36ee70d058c6b1ae10/common_expr.ipynb\"><img src=\"data:image/png;base64,iVBORw0KGgoAAAANSUhEUgAAAoIAAAAXBAMAAABt6jP/AAAAMFBMVEX///8QEBCIiIhmZma6urrM\n",
       "zMxUVFQiIiJERETc3Nzu7u6qqqp2dnaYmJgyMjIAAAAcRTyBAAAAAXRSTlMAQObYZgAABU9JREFU\n",
       "WMPdWG1oHEUYfnK3e3tfewlifjT640gkhpJy8aMpYlqvCml/GHPJjxJQzBFta0uVUKJCWzG/Sipq\n",
       "LiBaKpIlkVQL6tJWpdLA2eKfWGQlIoJRV6w/KhRDmqoNpToz+3G7t7mdLeb8uIGdnZl93pl3nn3n\n",
       "nXcGqOEU06o9QqIA6LTwXW0x9/Wfh3f9pADvVH+oPcDn9P1LjRnfDSDaBFyq/kjvA0eptY/WFoHi\n",
       "dbK+liB3VH+oZBopYu1JtbYYDC2T5zqkQvWHijdAnjtx4o0aW8TRRSCyjH9kWheBP8bGDtUYg/Vk\n",
       "e5zsQAspTrW+1p72BXsQ8ZY0JhQ/u3MCzgM7gSPVmAZ/CeVuEs91f1ZhsIgEsYpXyGSL8n5J912G\n",
       "HkRSaEDG1/c5Ad8DDyGurw1nWdMLdZ2nvpWPP81yYfyJp9KB8NzgzFQAmX0X7iYqHCS9KskVoQCx\n",
       "8lZpIhzpzbCOMT8RA2CmjwEJoTUKPI0xYxchNrFAiZfChuJfAocC4bnpPvM9biyxW4mFIUq0Eu8Z\n",
       "rmyDDOFMSl0aS34iDGDbO/kJmoS1ZHCC8NIJsRhgH8uzVyewOxCem2bM9++wGCQ+kfo4YdjPa5b7\n",
       "yV5FvOorwgAlBmP6jjVl8AVmVpFcAAEj4t0P3BIMz0spw6jFK0b1IJthjsfgYPnQWxBq8BVhADNt\n",
       "I8+RJ0l2bmOrdw6uRqEVkmeHejCPA24GWd8Z4huQbOnfCd8+NzBLvIrpdDA8TwfTHdFwkCaykySU\n",
       "DEKKHx0GQt7c3xKyBjqMaN6XQQqgEuZOglMEG1KekbLYWxaYskbb5dYrfYiU6V9cERvcDKby7CeR\n",
       "WGx9RB/xCLj6/IixstSyDsHwPB0ShltIrdiBRq86jrcMG/yA7pc0i99wFgyEvFWr2xvKG6BO9GpM\n",
       "xI20awxAJajJd5l+QMRl4LGm8ujgsqN2bBvaxE/d2sfeHg6Nuhmspw7tdmwnwUpKQ7mAu8/tjBUd\n",
       "mxAMz9NBYO/wr7+lrQU20zy1WTMYlKihSpTj56zC84qFOHYn6rPhogGaaX6gYNggBdgihpwFoBJU\n",
       "kZ/JIzONrpHnQLm5XnNWujDkWUPhYiTtZpDsU5Ab0E3JJP/Iu+gcfT7ODhBF/IBgeJ4OojssK53q\n",
       "GB2frLKC7eIQ+iCpFmiLKZLwBtY2YAhbqWHai11cFL0M0sb52flHP2O1ETR6tJeydbn52QUHg5H8\n",
       "e+pEFgNsm8p5GXH22c2MVsVdCIbn6SDkXR9KNwuMDu9u74hBG9GGSZGBInp82RRZJUi1AY3oEtnN\n",
       "gpEmk3qSMXhUib1kZazxpF6nnqXteFZYpNqXvpNMyvXi5KjkYDDemP6WnBWPI7b4BRmOTrdSn1ig\n",
       "3Q4q2C0WguC5OshlJNlnrQR1at7D3VTJFSwSm/omyUCSFk0bIg6AHYFZACIx8iG73TIjqa/OzTEG\n",
       "+1RxHfoKNFNZYyR3HPfSdnS36VR78Tbze4GUhKFXCWLAGc1Mv7yLnNAkJf70w+0KY6RSn+TpU5Mv\n",
       "7sFAcyA8V4dw1j1d64Y1tol4RtlrT6WTBLHeS3h9joGE5o2mCLxHDRtAJNo1z4GYruLSRZdRknAK\n",
       "w6SoxgtRjU0wUfIjeJeEDBI2ZB0MAjtiGkJmP2zJVepTL30KhOfpkCqbbvVv+WX3ab7/isou/k3V\n",
       "CmacfweGCqQWKT4CMXM/cMYWOIN9gk4QZzUXg5M/KlaFCVTsU3N8CoLn6TD7X7gYklcpGTVhoVhu\n",
       "+xp6LnjOJGR3HSFZD7/PaWdDz9/XId6B/3lyTSDBv61af5N47tW08m/M+i/Tje5afKwE/AAAAABJ\n",
       "RU5ErkJggg==\n",
       "\" style=\"display:inline;vertical-align:middle;\" /></a><br>"
      ],
      "text/plain": [
       "general_bundled_forall_Pxy_if_Qx: forall_{x_{1}, ..x_{_a}.., x_{m}, y_{1}, ..y_{_a}.., y_{n} | Q(x_{1}, ..x_{_a}.., x_{m}), R(x_{1}, ..x_{_a}.., x_{m}, y_{1}, ..y_{_a}.., y_{n})} P(x_{1}, ..x_{_a}.., x_{m}, y_{1}, ..y_{_a}.., y_{n})"
      ]
     },
     "execution_count": 6,
     "metadata": {},
     "output_type": "execute_result"
    }
   ],
   "source": [
    "general_bundled_forall_Pxy_if_Qx = Forall((x_1_to_m, y_1_to_n), \n",
    "                                          P__x_1_to_m_y_1_to_n,\n",
    "                                          conditions=[Q__x_1_to_m, R__x_1_to_m_y_1_to_n])"
   ]
  },
  {
   "cell_type": "code",
   "execution_count": 7,
   "metadata": {},
   "outputs": [
    {
     "data": {
      "text/html": [
       "<strong id=\"general_forall__Py_not_T\">general_forall__Py_not_T:</strong> <a class=\"ProveItLink\" href=\"../__pv_it/common/4e6af2995016ed57538747dc730aa6734b93b21e0/common_expr.ipynb\"><img src=\"data:image/png;base64,iVBORw0KGgoAAAANSUhEUgAAAQQAAAAVCAMAAACXK2CyAAAAOVBMVEX///8kJCQNDQ0oKCgQEBCI\n",
       "iIhmZma6urrMzMxUVFQiIiJERETc3Nzu7u6qqqp2dnaYmJgyMjIAAAD9T1yxAAAAAXRSTlMAQObY\n",
       "ZgAAAv1JREFUWMPVWNcWnSAQNIn0zv9/bFikCpYYPSfhgetlCzjsDovL8k2T9k8Ff9+0PBAYdWHj\n",
       "yn/74vKUSD6Z94Ix5rDqBZ80NkdB1ndcMG8ayzZGZ7lT7y3HleX4bQViVTvBB025OTZk2H/U28i8\n",
       "NfLFPbI4P1Fvtmk96gWfNINmgTC+WAPCZpMDoIbE3zde9ht5kn5NL/gmFNZZINBTEKKNNQqa5C+y\n",
       "YvUlfFpJBOPNSeZpSO4EQgfCZuMFNG7eWwqqQZ8oQXrcCBTCsAq5PmWhQwdmTDdBL0CINlu4iBcD\n",
       "VdgdJegEcRKYhawxRUDjCRW1DnoyqtRoXGy/fkKPT0CINgQfE+tDStCVEpgxBiPVCqReMEwnxEIx\n",
       "fpAhjYP9FvM7gdCDsNlAh96sYVZSKUGNgjC0wirigUEegNA56BrdxwZlyxUIm42xGxAfgOD5VEAA\n",
       "G+rpQxA6B+cgzLN8AkKoqBJgBMEvv+SrC72SDtTjqSAGM4rn2TMQigOLLUWViBtvkRN+rBszsBMQ\n",
       "ko2QqagyS0CYwuKYOiemrHdOjLlK2AsEy91DEIoDS9bgc5UjMZ4VqCMxhrHETlLBklDgK3N6ehW9\n",
       "I4zyzrieEooAM4ho24Cg0llaHyZDVZYdSIXAvkyD+4OeHBSoHQjZpjAMDDB0nRJFb54tPMWs971S\n",
       "3nbFQgh72Q7xPCMvoVue6kNWqg5gAlJi0vUscXQdIu0xkG1sVuYhfFd6DULSs1hba87K5mMBdn0W\n",
       "6zuVU6u0OYDVhi3ZXkT1uaXv3FTUkI+chihbCghSqH0XH7KehpTgZxeoqYA5CG3Sn+y3KtakVB1I\n",
       "H7dE09kF6ta9eLx0EYaEqyDQVUMnmy4OFb1QbU5LvsP6Mwp4iEYR55aYp4xR6Fa5nPaqOCCQKcjY\n",
       "2VVa38F1rBKVzAye02FytdSNHvCjJccfVeYCEhJ6f8TfKtZsOaJHByP0twJh3C4WinJAhiKP9cEX\n",
       "KxjKeooB3vYf+bxmd4slD2wiaxpztT92pvd/t98J5iMjABES0wAAAABJRU5ErkJggg==\n",
       "\" style=\"display:inline;vertical-align:middle;\" /></a><br>"
      ],
      "text/plain": [
       "general_forall__Py_not_T: forall_{y_{1}, ..y_{_a}.., y_{n}} (P(y_{1}, ..y_{_a}.., y_{n}) != TRUE)"
      ]
     },
     "execution_count": 7,
     "metadata": {},
     "output_type": "execute_result"
    }
   ],
   "source": [
    "general_forall__Py_not_T = Forall(y_1_to_n, NotEquals(P__y_1_to_n, TRUE))"
   ]
  },
  {
   "cell_type": "code",
   "execution_count": 8,
   "metadata": {},
   "outputs": [
    {
     "data": {
      "text/html": [
       "<strong id=\"general_forall__Py_not_T__st_Qy\">general_forall__Py_not_T__st_Qy:</strong> <a class=\"ProveItLink\" href=\"../__pv_it/common/aa5e12936c0a816ab2c9640f9bdf55dcc1efaa020/common_expr.ipynb\"><img src=\"data:image/png;base64,iVBORw0KGgoAAAANSUhEUgAAAW0AAAAWCAMAAAA8TT2mAAAAOVBMVEX///8kJCQNDQ0oKCgQEBCI\n",
       "iIhmZma6urrMzMxUVFQiIiJERETc3Nzu7u6qqqp2dnaYmJgyMjIAAAD9T1yxAAAAAXRSTlMAQObY\n",
       "ZgAAA+ZJREFUWMPVWdea6ygM9u5STTXv/7BLxxjhMM7knC9ceByNCvwIFbxt3z6k/Rn9F4aWk38Y\n",
       "9ULmqL+t/Uawlciz584JzvlBVEf/yOAw3LKBuZH9NHiRMbr8/1DfiPZRF+7SWgVSPf0TW3zAm0AH\n",
       "j8a9jCw+IMU3gm1JeWPOpAU63NE/MgyGXHtE8IR2kiku3Zz8m8ZeXRg7mv+ajv4Z50aQa7NbtKOM\n",
       "NSoMuX9limyzFi6vOaD+8dUcdMW1O7STjBNh7OYPYPOe+Og6G24BI4dt6UijK0zCciV6nJJmGswY\n",
       "qQR7gXaUSQdA/NbRoxc4jCElVr1beI3+JOwlbOvkNZluNopicAkMj/LSWUOXL1qeNEcc//0bnuQG\n",
       "7ShDyTzLPhiiK4kCQCw5Bn97P8mgYdctbHPjNxarE13qjYR1CbExQp4El5OGC4z7imv3aCeZ8MD2\n",
       "A2hLlOAhod5k74cqxa8URFvYVgPdU1BYbqxS6BO0Ow1dVLs6O+PbK7STjLEJ8V9He89baBGcsd8o\n",
       "rge03Q7RadgD5thTtDsNt2jDkRhA27dAeWcoDn/31znlhrGhjVE95fkErRuAOYcTWCMJcwSixzCQ\n",
       "5vEQ7arBEstwzconbTFu/4NS9OY3aGcZIXMXZDa/kyx6onqRPArjDdrVdJhxqsmWDcAWNJ9lyVJt\n",
       "X+iCl8dTtKsGS5FXmmPjOUtuN63rmCU9LWcQqcKUsM8p5r5mqoy3aLsSqZF/oeInBiYW6NViLcSO\n",
       "LmxXesgY1NkT2soVnOrbzUvTIBUOCooZ0mchOmldO7SLTE0CgcDxwmGvjDdoI3wK25T/zABogV0r\n",
       "pwwhOZzjwKH1edUffifPpL1a3vn8pTI1DcEALYft6AP57I6JnkNfkbF1Av48IrYARma0RFtrJmhz\n",
       "vimrfWVCW7m7bAC0QPm8c5/SydFHWr3S6nRMSUOYtneBCJnqw5JeuZVRQyjbmT82WwVDCgU/CqMO\n",
       "Z32foK0Qw5vVqcnNti4GQO1zC9bMb6UgOj9CVKB9hbxUiRampkHGVE81A26llq5Px5ssyrE4GhgM\n",
       "6fCQ/UOfGH1dd2nSTr8UEcY7eOrYk8aLAdDE3AIBusmJc0d6KEFFXKQke441Ci817KciNmmI5wob\n",
       "C9y46pUNHPtHJUs6L2BAF4P6xBhSmaWzXjJV/ekrCtagAdDEzALQ8M6+GkQ69TH3WikvtXG2FaKj\n",
       "hmGLl1x7dAtuNhpWxLAjEQTom1CgFcbQ3Wljb9CW7sjlh4AMgCZmFjSE1F/4Umbl3dXQmkxMoca8\n",
       "dAQLMU7R3sROW34G5OyyBfXZLwRfOeaQ6DevpbD6dmz+BzdmMFhOylADAAAAAElFTkSuQmCC\n",
       "\" style=\"display:inline;vertical-align:middle;\" /></a><br>"
      ],
      "text/plain": [
       "general_forall__Py_not_T__st_Qy: forall_{y_{1}, ..y_{_a}.., y_{n} | Q(y_{1}, ..y_{_a}.., y_{n})} (P(y_{1}, ..y_{_a}.., y_{n}) != TRUE)"
      ]
     },
     "execution_count": 8,
     "metadata": {},
     "output_type": "execute_result"
    }
   ],
   "source": [
    "general_forall__Py_not_T__st_Qy = Forall(y_1_to_n, NotEquals(P__y_1_to_n, TRUE),\n",
    "                                        conditions = [Q__y_1_to_n])"
   ]
  },
  {
   "cell_type": "code",
   "execution_count": 9,
   "metadata": {},
   "outputs": [
    {
     "data": {
      "text/html": [
       "<strong id=\"general_forall_st_Qx__Px_implies_Rx\">general_forall_st_Qx__Px_implies_Rx:</strong> <a class=\"ProveItLink\" href=\"../__pv_it/common/6d2417de6dc776ccb89b36196706a192c659152f0/common_expr.ipynb\"><img src=\"data:image/png;base64,iVBORw0KGgoAAAANSUhEUgAAAeMAAAAWBAMAAAABcekVAAAAMFBMVEX///8QEBCIiIhmZma6urrM\n",
       "zMxUVFQiIiJERETc3Nzu7u6qqqp2dnaYmJgyMjIAAAAcRTyBAAAAAXRSTlMAQObYZgAABQRJREFU\n",
       "WMPNWH1oW1UUP03y8vLSvHR/bMKKQmhhQqkkKHOI3cgUNkXFtwqjfwgNxQ0nmw1SHG7q4j/SirIM\n",
       "BYcgfVaoMvyIigyHg6z7R+rX001F/CBi/cPJXGi3uNXiPOd+vI8kL+mDBXbg3Hfv5Z5z3+/cc+65\n",
       "9wJ0nF531TUrkGh3cdWaV0GfCK5Q45cOIo4XsPj+6vO7fzcB3g4ovKdZpz5ee3TSEpoDULTI+XNq\n",
       "nOsg5CRbqf8AYr0AfwYUfq9pb08BtBuk5gDGr3A+Su5W6CDkM1QoK+ili6BnAgonUs16R7F33OCa\n",
       "g9Ac5yS6W6LUQchPURG6iLwCajFoVKxx6lN2LY1qDhW55iD0Bmd9/tixVzuIWMtTGatiGF2E4BMt\n",
       "ONURu/YcusxloTlQjGU5X56cfDo4knbLpchKiPlyD4bQdAb6sTqz4ZXBVMuV7dtz15xsnHbtWnZU\n",
       "1AA+yDHNnrFNyT1dIsN5l9tlWlBWQBg6TaHQNr2I4RBjaWm0DN1o2JfwJ8v6E2oFFP/t4x34IfWs\n",
       "bPxKRXg/oyVpztq34xu5ZjF2xN9+fDphtArnu9ku1p74P2oLoPT6JA8P3SG+Ktsn0nu/uBUtdRCN\n",
       "ZSaWI0XlNn+vnIevzXtl47jbjH8Jqy+Dfo5r5mMf2uS//7HppII8ZxVC1uohH0Hx20Eptx0+K75d\n",
       "bLkPm6yxFs0OMdIU8YdswqRrc/akrLXccXBPW+Gaxdjt/qvMpxPuUeWcsFRYPeRnkL+BqLHKdCwh\n",
       "/wMSMsZ1qjVkgMXmkLW9XGdPDrSa1LzYGrKYzgtZq+ykdLVxQyMMTyeDHKKkkUbPgET/8C5oISFd\n",
       "hzm2IsLwIENhtIGsXKJ0/l1fRoIJ/81JWHHUgu4lqflSO8g0nb55uF9MyiaeegR/0HxczcJj3sG8\n",
       "0wM5mcNiCyWbgWhlAqKmr0R3zrV9UVomwu2r20zjsFaQT4SqMABnb4L1cvviFJFbTtqAxCKYpJmP\n",
       "bQGZT6dvtbqKzvYFH+Upp5wHeLi3PtGcr3fsHgriG+EeACNpgXLK9JWIFJzEAMllO+U8WDpM1wGC\n",
       "/D4dAPEkyip2K/JvrKpZ2kweSGjIFclysgt0ktNKqJmPZZBtRV6NfLrXboYelA6XOQtnv4J8oN5G\n",
       "V+ohd+FYfQ1sIzE0m2r6SihiTQhb+EKNBxT+2mzfzGaLd6s035Pk/DlZ7DchPjbQj9ecaCpCQfSH\n",
       "o1rG0Zar+wA+6yMVYixbZRTlOhyNB+zpxmArWd7gDLrJIltphEydZ07+7IIczb1bOpJleXAUjEbI\n",
       "jkQk5z5wyoxln2CYY59o4oey1mWEywbE8y1OP47m7R5RJ0Ts2joYQnxvAWdG04lKgkE+amovyIJ1\n",
       "flhQXZDj61I/LZCcVv0Kygyyj4Redl8rGg5QlB6hMdU5R5xpUO8zfK4VDZqPQ9PTka1fq8LEx/a1\n",
       "QmTRs3PzDPKOkrIedhSpKLHOqDHiTlJvvrgbza2a8X33D5oMso9E2D5+uVdHnvO0Tejq8UY8M3Zt\n",
       "G4S+9Ls81mt++dCYW9TOybZ+dLlBy748uokc27lU8ZoKt2RdkAF24n4REqOYYzeXSHqeCCR5ngj0\n",
       "RhT1h6Kpto8PvqKN+slEMW94DC+VXE8vojYLn1oeyNO/mbKhpO8EP4mT1+IhSL+mD0E/Cva1jN70\n",
       "9IV2msDigXYS8aCPAdcjZQK8w9Gh5LoF8j/23I3Q4vl7XAAAAABJRU5ErkJggg==\n",
       "\" style=\"display:inline;vertical-align:middle;\" /></a><br>"
      ],
      "text/plain": [
       "general_forall_st_Qx__Px_implies_Rx: forall_{x_{1}, ..x_{_a}.., x_{n} | Q(x_{1}, ..x_{_a}.., x_{n})} (P(x_{1}, ..x_{_a}.., x_{n}) => R(x_{1}, ..x_{_a}.., x_{n}))"
      ]
     },
     "execution_count": 9,
     "metadata": {},
     "output_type": "execute_result"
    }
   ],
   "source": [
    "general_forall_st_Qx__Px_implies_Rx = Forall(x_1_to_n, Implies(P__x_1_to_n, R__x_1_to_n),\n",
    "                                             conditions=[Q__x_1_to_n])"
   ]
  },
  {
   "cell_type": "code",
   "execution_count": 10,
   "metadata": {},
   "outputs": [
    {
     "data": {
      "text/html": [
       "<strong id=\"general_exists_Px\">general_exists_Px:</strong> <a class=\"ProveItLink\" href=\"../__pv_it/common/018d7ef797fc4b0de89953b4d7f84f7652fddff50/common_expr.ipynb\"><img src=\"data:image/png;base64,iVBORw0KGgoAAAANSUhEUgAAAMoAAAAVBAMAAAD1I2xhAAAAMFBMVEX///9ERESqqqqYmJi6urrM\n",
       "zMyIiIgyMjIiIiJ2dnbu7u4QEBBUVFRmZmbc3NwAAADOLQm2AAAAAXRSTlMAQObYZgAAAmFJREFU\n",
       "SMetlU9o01Acx79pmrTJaqpXBZeLMHbQwAZ6GfQkk4HWS0GGNF6GLSsLqGd7GFp0uIBQcTDMqSII\n",
       "iuDFwyjIOtCyFYfoPEX0JKhR0OFwzpdkSdPE1j70heT94Zff573ve7/fg/SJFFCVd3TmMRPY02w2\n",
       "nxv9WLNrX5orbwBxLx0Fq26VMvuyTmvAAQMJk5Jyl4qS14EjKsYoIRBUGspMhrw6btBSxIc0lEHy\n",
       "rmWkMi0FF2kom4C0Db5FZje1erza07Y2/b6gep1FCJVKZb4vCvcDGNLBKMA9HFOvAqe7i6SzV5Ka\n",
       "1ztKsRb+5+3FIpCUgQXcMU7i7OvuG24IW3Hf6xAFhdlyqgFyBgzss5vj3dcCJhBVeQpKuuxTgO+9\n",
       "KcRa/QOl+nI6G1l2KbccDJeWU9mKgfv2N0qeuGPXc6W2XcrkjZVkBs86DYspbTYULrZwZPeHeQvF\n",
       "XpSYMQPeYCeUATOw+xwuAGeedJpmE0qwe9nNdkIL8a+MJSkORdzE7ueBFmickgdJUv1wHmn7pw0k\n",
       "yEm+Tpq/SO9aWNvgfr3aaTh1vAyxUSyN7CpRsd3M2UrWvQZxc3+qtk6m0cCE/cslPxgsLkrJI8u+\n",
       "GNFDo+0MM+5oE5Fr2G89xgZxK3rZ4rOgCQ7lrSHtdz7ksW5Bj51DOKO0s6UdB0J0U/xpSRZmD/nZ\n",
       "kqxwtLrgUCZlbgmTJrfEPRKfnigYWObC1wnj6fhxnmhYi8aKf4bjdRQUP/N7xVZM9o+JW5X50bCX\n",
       "DqwSve3CAwc7erlt2bk+3XLYdVmP3fzHG5k1e0xEwf8rvwFyo6IVT2w5tQAAAABJRU5ErkJggg==\n",
       "\" style=\"display:inline;vertical-align:middle;\" /></a><br>"
      ],
      "text/plain": [
       "general_exists_Px: exists_{x_{1}, ..x_{_a}.., x_{n}} P(x_{1}, ..x_{_a}.., x_{n})"
      ]
     },
     "execution_count": 10,
     "metadata": {},
     "output_type": "execute_result"
    }
   ],
   "source": [
    "general_exists_Px = Exists(x_1_to_n, P__x_1_to_n)"
   ]
  },
  {
   "cell_type": "code",
   "execution_count": 11,
   "metadata": {},
   "outputs": [
    {
     "data": {
      "text/html": [
       "<strong id=\"general_exists_Px_st_Qx\">general_exists_Px_st_Qx:</strong> <a class=\"ProveItLink\" href=\"../__pv_it/common/8707f28e1d8bbf082a926ea8b882f2b0493c1beb0/common_expr.ipynb\"><img src=\"data:image/png;base64,iVBORw0KGgoAAAANSUhEUgAAATUAAAAWBAMAAABTfhYbAAAAMFBMVEX///9ERESqqqqYmJi6urrM\n",
       "zMyIiIgyMjIiIiJ2dnbu7u4QEBBUVFRmZmbc3NwAAADOLQm2AAAAAXRSTlMAQObYZgAAAztJREFU\n",
       "SMe1V01oE0EUftnNJJt0kxY8KWIDRUEPEsSL+EPEi1LB9FKQChYEsdLSQHsTtdQgsQrmVFEprAhB\n",
       "sGIRe7AHCYiKGiRY/CmoRPQgFmwORW2x1Tc/u9mfJNu1ZmBn3k6+b+ebN2/eTCD6HQs0vkTj3vBb\n",
       "8YkUCoUXWuM07fqzvnAav3/DI08tWduGlJ8AvimAMx5p4VTjtZEFAOkHyEWvxNHGawvM47MAiuch\n",
       "bjdem6+M35+Hr56JwcS/anNjEN1oxriZK0IfmrneLz3ddVlmRKgIoUwmc3kl2vxijWbGcNeF3NBS\n",
       "QhhHsyBdAFiD0Z2VzyspIC21458jeJFTK/ebj6epQSC46166wj+Ktv/Z1Tc4mWGcjxZa9JfIh6Ga\n",
       "HI7QZzfkVdssQt8DybrCx0XbynPnffQK+KjL/LW1CYSIirJXbefw2Qlq0j2UxTd/ga4NY6+7vjaB\n",
       "sGsbfd3rHM/SybQFJugygYL+7+t8DHUYAX5GkSX+OsxiL+mmjSLk6c6+Ck4tBbSnSgKe21IT67Ro\n",
       "C+axekszwkk1lQZVq8mQ8kZ6owX3gqT1I6CeNo6Q2+NNJdNeIDAAcHjKngcG7GvaTAPtAewFSAbj\n",
       "QK5rNRl+HjnBRf46BnAo1gqfuT/CeJDB3ZTJYBVHfDsBzfjdSBaCmEMuormMv4/YJ7Js19aE8SBP\n",
       "wEEqE+emaDUZhE07cvY3j6D9uDuO56bjYq0ySFSoZy+BMJQRA/EE2umskpXII05ttHN32w6TNjV/\n",
       "MzabgA4aGpB0aqsw/HnLD5Uzi2mTnDefLYY1CTMo5pb+OhdKhZi2T1p0nV6xzk0tiklbeLJ72yDl\n",
       "RctXIMu0VfAWhmxNM5WznuWtKrnbwEfLkN5onPXoze2j15i2rhh5CF0lWsVYp5rsMOeQO2sLeF4p\n",
       "WvjRgR6NaSP3BL5kYUQS1qE36CO/o6ucc+Y2I3ugx3vixh1JL3RNY8YbtxQ4ljBpAziCN9iAQLE1\n",
       "laoygraxrXdL5yVYtqdTa87tXIqBZHQJaxw2xy3a5k6hIL4JSf8rcXt2MtpWeSffA3Xky1XPBWzT\n",
       "WO2r5gMzI+z5LrmaErFkSbdTLvAf/oL8BXuk9GwtymlNAAAAAElFTkSuQmCC\n",
       "\" style=\"display:inline;vertical-align:middle;\" /></a><br>"
      ],
      "text/plain": [
       "general_exists_Px_st_Qx: exists_{x_{1}, ..x_{_a}.., x_{n} | Q(x_{1}, ..x_{_a}.., x_{n})} P(x_{1}, ..x_{_a}.., x_{n})"
      ]
     },
     "execution_count": 11,
     "metadata": {},
     "output_type": "execute_result"
    }
   ],
   "source": [
    "general_exists_Px_st_Qx = Exists(x_1_to_n, P__x_1_to_n,\n",
    "                                 conditions=[Q__x_1_to_n])"
   ]
  },
  {
   "cell_type": "code",
   "execution_count": 12,
   "metadata": {},
   "outputs": [
    {
     "data": {
      "text/html": [
       "<strong id=\"general_exists_in_A_Px\">general_exists_in_A_Px:</strong> <a class=\"ProveItLink\" href=\"../__pv_it/common/68f2b0245b7bbabdfbe7d59a83ea3332c7476d2a0/common_expr.ipynb\"><img src=\"data:image/png;base64,iVBORw0KGgoAAAANSUhEUgAAAOEAAAAVBAMAAABCnpRGAAAAMFBMVEX///9ERESqqqqYmJi6urrM\n",
       "zMyIiIgyMjIiIiJ2dnbu7u4QEBBUVFRmZmbc3NwAAADOLQm2AAAAAXRSTlMAQObYZgAAAqVJREFU\n",
       "SMe1Vk1oE0EU/pLNJtlts208KpgFUdoe6vpz0EMlIEihoPFSlCJdEIoNLVnwLAYUDf41p0AD4p6C\n",
       "Py2evHiQnlLQYANFrIIQ0ZOgTf3FYqtv9i/dponZoA9m3pu38+ab/ea92YX0iQRtyztv0/upRUql\n",
       "0jPdKxC3sFKafw2I3d7iOitu7UG6NGCHjpDHSFFrG3E0C+xVMeA1Ltc2YipOLYtbXuMetI0Yo7YQ\n",
       "l9Je40LxdhF/ANIagmU6mrHnx3JN5xYm3o+rli2UIWQymamWEXdamv8J9GThU4B7OKReBU42zpYs\n",
       "dyWs2UmueXtH7qtlBH9N304CYRnI445+HGeWGgYJurAasBH86RYRxd439DqY/WKNfauG6qBT0RFl\n",
       "5mDjWPhqVctXW0Tc13+fqfxNuxzTDiLwvTkizVa3QMy9mEjUF4/tDJTN6WrULkfTwVgF/+1viKO0\n",
       "Crc4PMlWslkN6vPhOJ66J5pOI6etKsLShnJk5BLVfcEqks0Q/XqKluKGlI7KhszhcR44/dg91XAa\n",
       "Mmuq/UhZjou6neuBz76qpBiIIpUMHmpW54xOyDG68D+cQxcFRbIIUXVcJ3Odnl/bvL11S5+KRqMq\n",
       "xAvTMRPp5e+iyXYaYjE5ecBiNUNPw3OwuhvMoCVnxgqLtKUihhhbidqJ8vWIzDmw6zCjk0lEx/Km\n",
       "w67dcoMGf3WU9jnWI7wiiLv2cFnQBAPxrS5ttzvDuac7TOwZQEcp6xT3grWbvIeRXH+IWduQqri8\n",
       "27nJ6c0P5vIG4ojMP8FIhXWy4exMsNtkG0uTFUixS+4FfXZdfZwingv1tejURWAO44rztbKFsSo7\n",
       "I9MK4yzlZZCd41bV7foiK/WXFBrs0JThNRl+x2VZM+hV/t1fxxE02RSH/yN/AJ78tWc4OW0GAAAA\n",
       "AElFTkSuQmCC\n",
       "\" style=\"display:inline;vertical-align:middle;\" /></a><br>"
      ],
      "text/plain": [
       "general_exists_in_A_Px: exists_{x_{1}, ..x_{_a}.., x_{n} in A} P(x_{1}, ..x_{_a}.., x_{n})"
      ]
     },
     "execution_count": 12,
     "metadata": {},
     "output_type": "execute_result"
    }
   ],
   "source": [
    "general_exists_in_A_Px = Exists(x_1_to_n, P__x_1_to_n, domain=A)"
   ]
  },
  {
   "cell_type": "code",
   "execution_count": 13,
   "metadata": {},
   "outputs": [
    {
     "data": {
      "text/html": [
       "<strong id=\"general_exists_Py\">general_exists_Py:</strong> <a class=\"ProveItLink\" href=\"../__pv_it/common/8505cde7214eabff851f984916d2ac081ad208df0/common_expr.ipynb\"><img src=\"data:image/png;base64,iVBORw0KGgoAAAANSUhEUgAAAMUAAAAVBAMAAAAEKDfsAAAAMFBMVEX///+qqqqYmJhERETMzMyI\n",
       "iIi6uroyMjIiIiJ2dnbu7u4QEBBUVFRmZmbc3NwAAADMEMKVAAAAAXRSTlMAQObYZgAAAoRJREFU\n",
       "SMetld9r01AUx79d0jRNk1QEH/RB+iDCwMlQRJCiAR/3sODok5ZWYThQaP4BtYpI/QEGwYchQmBM\n",
       "BIfrRH3Yw+hLkWEfKjiqoFjxRRRcEde54q+TpumPhNZd9MC594TcnM/N9557L9QvZGAxNcYyeie5\n",
       "UiqVnlubGb3nd7x0jkbOMM1Irvb2f7F1gFsEzjMxJIOFwW8AgTUMlZkYuM3CCNbJNyBW2RgPWBhc\n",
       "jUbW8ZENgVCagRElZVfLSJLGSR2fB9XJ7ArUxVYcLiOcy+VubooxbiJwFdhHnwl5pMCP9h1qnkGw\n",
       "1oqHDIb/SC1Pr9DkLwLvFQP7+bfZvjtoSwWcO4NAloFxxFHnKWBFdKxB6MuQ8ARR3S3HGgPjO1wG\n",
       "Mhb/bQADQgPjmpchnIDoW8TJAq51bY+fTk9aoYJgfhCDtDyOkV0JeysJrlbhqDUG2UMxG3y+d3vY\n",
       "RmuOOLjCIAa9jWP3Iyx1r/mnKUzwd3oZ6r1ssKt0Qg2nv0v+BplYkzFvJ7Abab07UArCV3U2C/sT\n",
       "xUSIave6hdco+tRSTFnvPFz44TxMkc8l3lWbDNEWUyxQc8MNcpRFKiZ/QdYFW4aQuzC4gsc+hpiO\n",
       "aCNbhz06OGdJpSX0Dp9OAau1IhFNMSn//faby0LNZqiH8MFyG1HLYNuo6MlBZ6JsSPVW4Zs+Rpj8\n",
       "GebTWIV4UmufiWRnJwybwS9grMov2c0ChOJByNpRb5LDEGOcDvUViSfp/nOE/BIOUEoEb3XOdoqq\n",
       "XKypVaDzz3hINSTiWNqTZAZC4qX7U/6asm/JyWR7Ebj23pPN0+BTL5yr0b0klwUDc9ge+6e7dm9n\n",
       "Yw6bnVm40alp/Bf7A34ms50YT/ebAAAAAElFTkSuQmCC\n",
       "\" style=\"display:inline;vertical-align:middle;\" /></a><br>"
      ],
      "text/plain": [
       "general_exists_Py: exists_{y_{1}, ..y_{_a}.., y_{n}} P(y_{1}, ..y_{_a}.., y_{n})"
      ]
     },
     "execution_count": 13,
     "metadata": {},
     "output_type": "execute_result"
    }
   ],
   "source": [
    "general_exists_Py = Exists(y_1_to_n, P__y_1_to_n)"
   ]
  },
  {
   "cell_type": "code",
   "execution_count": 14,
   "metadata": {},
   "outputs": [
    {
     "data": {
      "text/html": [
       "<strong id=\"general_exists_Py_st_Qy\">general_exists_Py_st_Qy:</strong> <a class=\"ProveItLink\" href=\"../__pv_it/common/3422adb503d7cb507d3461b1e50425ad8c92abcd0/common_expr.ipynb\"><img src=\"data:image/png;base64,iVBORw0KGgoAAAANSUhEUgAAAS0AAAAWBAMAAABnB9cHAAAAMFBMVEX///+qqqqYmJhERETMzMyI\n",
       "iIi6uroyMjIiIiJ2dnbu7u4QEBBUVFRmZmbc3NwAAADMEMKVAAAAAXRSTlMAQObYZgAAA0BJREFU\n",
       "SMe9Vk1oE0EU/jbZbDfpJimigiKyHos/FD2IUjRQikgFQ0tBxdJQEQstNKdeRK0iJVbBXDwUKQSL\n",
       "IthqCkWwB8mlh2qQKv4VFCNeSgs2B1ttseibnd0ku9tNGkscmN2Zfd83882+N28Gge9UUOkSUMtB\n",
       "76TqT6fTLxOV0rPnT336Eo0+XBZLyZjfFSg/AfcEcLkski9aaV3iMiAswjVdHu1OpXV5lqguQy5z\n",
       "gkeV1uXO0uhLmC2TVhX5R10lCCGjEaRIWZhGG8VMWxjzxfZXIcA7DW8sFru9Dl0R3TEzQ8T1lgBv\n",
       "NRon4xBuAPuJIiXRDrHOkcMBvLii6/5ffMBAL0TaXq9KgP3GgO1Tg+9oHVeBr/4oDoif+xw5GkBv\n",
       "C31l6pon5CeI8VIbPaU3jnLHPAUS1WEsQnLWxQH6Ns6Wqesa1d1QQqXQRr76BUMXehLij2K6OMCi\n",
       "SzoL2RaU51MYMOvyJJlvIFtsdkKzPv4qf5Mf8YGxi+liANebRtojBkzJeIOJJigWZfEVMWnWVZXS\n",
       "+LO67QWcCDvy6YsVinvUw50qqosBXF1qdaYg7uc60SLeNesKPOjz1Jl1BVlgPcM5bjs+ASfCOT0P\n",
       "rfD3EFhY9qiaLh+dTXgSLWjwBwPMnUKQVPjjqKI8cTOBGUzaPOmPK2GzLgpNuJLo1m1WT+YJx3j/\n",
       "ym/e76Q60volw/9XjOaR2Z+/Bb0hDxiASXSx9eQCuB/jNl1ypDq0d1NtgS4lda9mPoIGbrPpyhO6\n",
       "LYYMDyCuS7Cn1+16hJGKGRF4mDNcl7JMV+AwviWMhxzqwZY6uUCXbzy8q1ejMRvT5UCoNU9L57YS\n",
       "9S3piWmNrEzxoQECWfRvzp3bbIEtUaZLHENTRnzOHmOQJg9SSmgozBOjh9J0BhGQ2ZguB8J7y7xH\n",
       "IKvuMAIfmWPv2/MdfdUAUgqn1dw9hwwZt6r5UchhBTymfSSjOVKgCzhBV09PjWbT/Lg2IWqZeBhS\n",
       "61ujY7+7ulhuyAPcuXyqxC9AbH/Nr7DGZXZKimIE21STroWLCdZhtsbVGgeCoG7oHr0v15Jq49a1\n",
       "qOgYtOV7Wks/PTrytjUJo/hvxXTjFEocXGc2PN1fL8gGn8yCgQoAAAAASUVORK5CYII=\n",
       "\" style=\"display:inline;vertical-align:middle;\" /></a><br>"
      ],
      "text/plain": [
       "general_exists_Py_st_Qy: exists_{y_{1}, ..y_{_a}.., y_{n} | Q(y_{1}, ..y_{_a}.., y_{n})} P(y_{1}, ..y_{_a}.., y_{n})"
      ]
     },
     "execution_count": 14,
     "metadata": {},
     "output_type": "execute_result"
    }
   ],
   "source": [
    "general_exists_Py_st_Qy = Exists(y_1_to_n, P__y_1_to_n, conditions=[Q__y_1_to_n])"
   ]
  },
  {
   "cell_type": "code",
   "execution_count": 15,
   "metadata": {},
   "outputs": [
    {
     "data": {
      "text/html": [
       "<strong id=\"general_exists_Rz_st_Qz\">general_exists_Rz_st_Qz:</strong> <a class=\"ProveItLink\" href=\"../__pv_it/common/7709d0e9bfeeecb7fa0b91ed1b0165890495a8450/common_expr.ipynb\"><img src=\"data:image/png;base64,iVBORw0KGgoAAAANSUhEUgAAASoAAAAWBAMAAACF28x+AAAAMFBMVEX///9ERES6urqIiIiYmJiq\n",
       "qqrMzMwyMjIiIiJ2dnbu7u4QEBBUVFRmZmbc3NwAAAAi6NUVAAAAAXRSTlMAQObYZgAAA0ZJREFU\n",
       "SMe9Vl1IFFEU/lxnxnXcnTbyIQxiewh88GEiI6jETStZTFhK6IeylYJ+9kHxoYeImoci0aCF7CEq\n",
       "mgrpoT+zIoiQeQghWmINhAqEFcqEIo1CKcw687uzu+NuU2wDM/fMme/c88055557IXymC0W+hJAL\n",
       "MJsC/IlE4oVcJDZbfyUWV9J4zZXVS33wpYoVpC/ARwU44croZpFZcV9p8hkwSVdW5WJxWZXOA955\n",
       "eN3Nzw8Ul1UJzb8vgEmXZl1/x0rI/zlqCosUsE+BOhI9vcEDeY2qBzlzpV5BeXd397nCrDzGWHfx\n",
       "LT3j+cHbTKHj2YafRFFbho1jAXCBhdNWWTdiyk1/GqsSffgQREwuiPeb3+tlNFHXOU2ijHFwY9LC\n",
       "rCBYlHe6YyUMkUsFhwuVq2IIyyiJFNdBbT1WUcSlPFbtVtfscMfKS5lnBjBcCG32pzlgSjFY1SA/\n",
       "K4+CHFaTxyZycHadzmq9utqnIcERL5y5a9R5rdGuvtESTOoZZJUCrPbQ3bJltdraqk1Wo2ERvqyN\n",
       "R9VlsjquFk2nIMER7289b/Og/sAMcFXktWrfCyj5WLFJ+NDwEEMZ1d4P7lL2dtifncHvdFfEPQE4\n",
       "4/mIIazQh7JpipX4nlY6uFN9a4Maq3udBJxFloBD4cYu4YaEHyS/QRl1hl4ZfJCqJsuLqstk9YDu\n",
       "Zq0CnPC4bgoH9didnAuhfImoZsSP5i49g94e+nRWLVLFFFRNknkchE/0qH39qDnPBI7keCEdM7op\n",
       "bmOV4DcLg1rXccILUU5uaQ0blW27rB1Hy+DunOxZmoqoPx4Fb+ZZeN4aUL2My0KV9SAduwqSjdWt\n",
       "/cyOoGpl4m3oKny6sBHbA17ChTO9WrszKzm2YEszBe/KqLk7kx13X1a9xCLcEGIp9RHRdMNGO9ZZ\n",
       "8SOXFdpteiw898hAp0gKxargi7YT7lWW2+XGv7+eE8GLOe3N0tSgtM86yZiBpoxErDddkkob7L0d\n",
       "nPIOWJPGs+lFpOtQSxXXmeXXfupjckLFOP+D4bB+VDudps+papdm+zJYCbNPzBcVjzbLXJduY1cI\n",
       "bOhfTshMamHajOM+CCylUHjSTpwk3MF/uvwZb235wev+1dtv7bTiqROnQR0AAAAASUVORK5CYII=\n",
       "\" style=\"display:inline;vertical-align:middle;\" /></a><br>"
      ],
      "text/plain": [
       "general_exists_Rz_st_Qz: exists_{z_{1}, ..z_{_a}.., z_{n} | Q(z_{1}, ..z_{_a}.., z_{n})} R(z_{1}, ..z_{_a}.., z_{n})"
      ]
     },
     "execution_count": 15,
     "metadata": {},
     "output_type": "execute_result"
    }
   ],
   "source": [
    "general_exists_Rz_st_Qz = Exists(z_1_to_n, R__z_1_to_n, conditions=[Q__z_1_to_n])"
   ]
  },
  {
   "cell_type": "code",
   "execution_count": 16,
   "metadata": {},
   "outputs": [
    {
     "data": {
      "text/html": [
       "<strong id=\"general_exists_in_B_Py\">general_exists_in_B_Py:</strong> <a class=\"ProveItLink\" href=\"../__pv_it/common/616f30ad18c01c012ac1e764bc62782ce7d809c30/common_expr.ipynb\"><img src=\"data:image/png;base64,iVBORw0KGgoAAAANSUhEUgAAAN0AAAAVBAMAAAAwUfbwAAAAMFBMVEX///+qqqqYmJhERETMzMyI\n",
       "iIi6uroyMjIiIiJ2dnbu7u4QEBBUVFRmZmbc3NwAAADMEMKVAAAAAXRSTlMAQObYZgAAAsJJREFU\n",
       "SMetVk1oE0EU/pLdbDZpshXRQy91QTwUf6gGFCS0ARGEHgyWgoKhRRALFbJnQa2gJf5A9+KhFGGh\n",
       "KKJVWygePEguORRziKJoIMGIF2nBptBEW/x7s7NJk6wN2dAHu/My8733zb6fmUD5ToJ2RVGdoLvp\n",
       "CabT6TeGU54Df8Ppq2Q148gqUKgfHcgPQHgFXHNk5Nfa5RPXAVcJ7owzs/vt8nnK9KxDdmj4tF0+\n",
       "oUhWZXxzaOYdaZOvkzKxkkGMchKLYrlZvdUCfBn4EonEZEt8Un8212fpp3W4bgNHyIU0h2GIvVua\n",
       "cQAXt+bk+/YD05Y6vDj1gfZ8A/gS1BAS8+NbWpkAS3eNt8bn78pTY+eAPVZg+vn4EjA6oihB2pqP\n",
       "A6yyLrbGt7f7Cb1vAR+tiZ+o8CFuiGvN+DiggU86D9mW9ItJ3OGZM9vMvwbPFcvuNx8pnrQFz1xT\n",
       "PgZwvzsZY44q8fR1GgMINDDqG+IcL2POWtoXrmk/JlQvCENINuVjAPeY2lGoqZelUQyK0/V8yqNx\n",
       "Dy+7Z7zQNHgst94NPj4Ay2pcNfn8dMbhhdaomICls+gk70EdXuqHuwaySNkiGtQDUVM5FQqFohB0\n",
       "KKt84fovvjBKz+zQ5wL/vgTZy0lS7sFS2AwHpDDG9hmp+J7Ago1PHumIHNzZQ9/Pe3wHpD8NiAJP\n",
       "EOdz2SrAmiHAArIi8Li6clMqMj7lOL4alZcciWN3r0yRNLe1YmBZr/dH53VA85etxvLZe50liwGU\n",
       "IiZ2Vc9rksuDGuMT5zFQEF+z1zyk1DEEIido9TCzncznjjY67IOsClEon1iAH9r42IwJkJI4p1bv\n",
       "I8psQVDNeLo2Y4HnVH8yztAZ62H5+5/MQBp6X/lhv+vZTA1AqPZ5QL8Ecfgtv/Irl/+ipGEWXeq2\n",
       "/Z84tHkW9+iNe1RxYQrbLv8A0bjOwuzwjAgAAAAASUVORK5CYII=\n",
       "\" style=\"display:inline;vertical-align:middle;\" /></a><br>"
      ],
      "text/plain": [
       "general_exists_in_B_Py: exists_{y_{1}, ..y_{_a}.., y_{n} in B} P(y_{1}, ..y_{_a}.., y_{n})"
      ]
     },
     "execution_count": 16,
     "metadata": {},
     "output_type": "execute_result"
    }
   ],
   "source": [
    "general_exists_in_B_Py = Exists(y_1_to_n, P__y_1_to_n, domain=B)"
   ]
  },
  {
   "cell_type": "code",
   "execution_count": 17,
   "metadata": {},
   "outputs": [
    {
     "data": {
      "text/html": [
       "<strong id=\"general_exists_notPx\">general_exists_notPx:</strong> <a class=\"ProveItLink\" href=\"../__pv_it/common/ea4c1f326f897c3d338e21b36c10b10acdee41c90/common_expr.ipynb\"><img src=\"data:image/png;base64,iVBORw0KGgoAAAANSUhEUgAAAOgAAAAVBAMAAAC+i7+MAAAAMFBMVEX///9ERESqqqqYmJi6urrM\n",
       "zMyIiIgyMjIiIiJ2dnbu7u4QEBBUVFRmZmbc3NwAAADOLQm2AAAAAXRSTlMAQObYZgAAApRJREFU\n",
       "SMdj4HsHBAxEgcdECeEDTA8gmPfMmTOnFxCjg0sAzmQ+//HM8VsoQsSBc1AMBDwPiNHAjqSKv4CB\n",
       "QXoBihBRYDkUE22pLRI7fgIDg34CihBRgDMBgom2tA+Jne8AxBNQhIgCXBsgmFhL+RqQOPJAfN4B\n",
       "RYg4UALFRFrKdgGJ8x3oiL9gIa60c27T8GpclvMkMwHGmQvGnB0dHf3EWMpogGCz/mRg0JgAFlrJ\n",
       "YJHQzsAQiDtEJzC3cRTAeOZQTKRPORQYGG4AXdjRCfT1n5lzsyBCsxjmL/BjiL2BO+0s4PzFArdA\n",
       "A4qJtJTbAcp4A/T1L7jQAgZBENMDt08ZGJFyczwUk2EpfwOS0Df8lgJVJ+CwdNrVnACMgMkNO4oa\n",
       "vDBL4y8ghFi/ErI0Hmgy8+WwXJg6D6ilbAuOczgwnEJVnMVT0IIlIb2BZFOokBbbB4YsfJYyLchn\n",
       "YFvA7G3A/QAtIbEyFDMwRO5CVR7AboDsb1iWYWVgqF8AE2L5xPiBzwBsKdd3BiixvgCJ4a8gD6wX\n",
       "XmUw8IM03QRjdmB67AZy/wF5XeiRgRzXLIiS4Pr/YzAhrmNZucbQIOsAmdoDCvYDMAbQxDVpyy4D\n",
       "XXWMwRukpRSKIc7/wIppaTxDAPMl4wlYikEMIQ9wQGIo0IKztjLcBNrA1QDBYPCes4ATbOnDBXxS\n",
       "YAIIP0xnmMCUyNCApcDHEALlPU5MBRPghegHhhZVlAIfGAYm02aBLY1WYN3HEP2AdR/rJq7DnpkL\n",
       "GI6ywnIZI2bGggu97QcG+DLMPArPLCwHGDINUKo2GAAFrwI81UGoBjYTzEqcAauQAYY8M7qAHBQj\n",
       "QNhfBXBjAgL0IMYeYJpMveYK8wMIxuk2AwaaAQBE1Ly8d/QeHgAAAABJRU5ErkJggg==\n",
       "\" style=\"display:inline;vertical-align:middle;\" /></a><br>"
      ],
      "text/plain": [
       "general_exists_notPx: exists_{x_{1}, ..x_{_a}.., x_{n}} not(P(x_{1}, ..x_{_a}.., x_{n}))"
      ]
     },
     "execution_count": 17,
     "metadata": {},
     "output_type": "execute_result"
    }
   ],
   "source": [
    "general_exists_notPx = Exists(x_1_to_n, Not(P__x_1_to_n))"
   ]
  },
  {
   "cell_type": "code",
   "execution_count": 18,
   "metadata": {},
   "outputs": [
    {
     "data": {
      "text/html": [
       "<strong id=\"general_notexists_Px\">general_notexists_Px:</strong> <a class=\"ProveItLink\" href=\"../__pv_it/common/1f881549ad81adcb35ed2a5aec0f94204a82b5710/common_expr.ipynb\"><img src=\"data:image/png;base64,iVBORw0KGgoAAAANSUhEUgAAAMoAAAAYBAMAAABJvX+/AAAAMFBMVEX///92dnbMzMyIiIiYmJgQ\n",
       "EBBUVFRmZmZERESqqqrc3NwiIiIyMjLu7u66uroAAAC4HMG3AAAAAXRSTlMAQObYZgAAApRJREFU\n",
       "SMe9lk9o01Acx7/5s5mmTRupMASHlTL01pTBKkhZDgMPyhBvToSy6g5jsk52ERV2EUSQRU/iGPYg\n",
       "KAU1IPNg51rEqxop7CRYkV3cwargpmzoe0mbtgmtCepS3r/kvfd57/t7v98rAIQN7MAT2hFK8P8j\n",
       "xELhdsHfkHv+ugfywK6JieVzniTjpzcnpq4A0pzPjUxaueDNMJEycNVAKO+T8s7MdY+UhAzcVXDU\n",
       "r1EYhVpmziNluEqSjGd+KdIJqrfikTJP0nRV1H2fsNck9cY8UrbIvjfA5cjqBic/Rrv2rQw9SiqN\n",
       "Rh+YYqlY8kRhvwALMgQVeItjyjJwqLNIMv8kWG60jptHwNteuO+7+9LEhzWgH/uNTzh4qbPBDWY7\n",
       "bJ/FBZJueqQI22bRQ86AgWu0ut55LxBavCpB0l6PlIhuU4Bv3Smkt9JOeUUp0QtDMde2U/HxVnfJ\n",
       "WVFPozb6+idKgkzHz8ZTjX46oXDGVLCK8+0d073lFYe7UOGI9Re5GtLdKAFjGJzBr6k9ecv6YoZQ\n",
       "WLwEDpxp7xoLqa3NN5auTA7hH0JNVE2KtIV69r7cUvmszZOg+vAIInTQDISl08UlUv1JWs+d2rZG\n",
       "rMu/smYZ1iFl06mRuhJFOs1TqmSmUSHTrA5WZskyslijQ15QpzSdoca6KQnE+IsjsuNtM8Ksm9q4\n",
       "5Fq0aycxQ6aV9Pod9pgpMyblgSHeMDPyq+2DHDgMZ0RpRkvqB4zbKPayxBpWblnR0ozLq6PRfpMy\n",
       "oLFjGMizY+wp6eyHpIFx1nmdCA0d75eIhhW3r9hnOJxBUrUIbPM7VUyzj4lV6Nyoc5Y2rOq+7Zwv\n",
       "rre14huaeX1azx1rykxgz1/eyHy+y0LUf/jn4jeO2qnTI0cFWgAAAABJRU5ErkJggg==\n",
       "\" style=\"display:inline;vertical-align:middle;\" /></a><br>"
      ],
      "text/plain": [
       "general_notexists_Px: notexists_{x_{1}, ..x_{_a}.., x_{n}} P(x_{1}, ..x_{_a}.., x_{n})"
      ]
     },
     "execution_count": 18,
     "metadata": {},
     "output_type": "execute_result"
    }
   ],
   "source": [
    "general_notexists_Px = NotExists(x_1_to_n, P__x_1_to_n)"
   ]
  },
  {
   "cell_type": "code",
   "execution_count": 19,
   "metadata": {},
   "outputs": [
    {
     "data": {
      "text/html": [
       "<strong id=\"general_notexists_Px_st_Qx\">general_notexists_Px_st_Qx:</strong> <a class=\"ProveItLink\" href=\"../__pv_it/common/47d355514ad7446d1e498b7675ebbb71e5ac8f280/common_expr.ipynb\"><img src=\"data:image/png;base64,iVBORw0KGgoAAAANSUhEUgAAATUAAAAZBAMAAACiKKTOAAAAMFBMVEX///92dnbMzMyIiIiYmJgQ\n",
       "EBBUVFRmZmZERESqqqrc3NwiIiIyMjLu7u66uroAAAC4HMG3AAAAAXRSTlMAQObYZgAAA29JREFU\n",
       "SMfNVktoE0EY/jPZJtlskkaKFEEhUiq9maK0B5HGg4oepPamUomvHIpCq0XxcaggHgRpqj2IIORg\n",
       "QSrailYosW0OFUGwLlRrwYIRrAgeTBEsVFv957Gb3c2ra410YWdmZ79v95uZb/75AQACKqzay7eK\n",
       "tSmrVZi3v/9W///4T8Qe/jbe7ljs2YkyLuqu31djL/D70zZ5rgSr2jzlNNwvAE8rwEubNH+KVYPl\n",
       "1EbmAOTvILXbJVYxJ3SVU5tzCe85UBJ2iW9pIYXLqc2TQe8swX37kS1NXRf6C22lpoFojUr0zUA7\n",
       "NGJzsuFhfbgoy4hwtIMjOZYcW462gFijjmpEO0qh5bRobA6C/AjgCro7KD1WUkC6CvufI/gl0cYM\n",
       "LGvePDxMTQDBXddWEn5B1E1H1pzBzw/jeFTHYiBBzg0W5HCENjqK67GjrQ+pZ4EES8KnRN3Nv30Y\n",
       "ZwU8dMoChbUJhHAFGhXW2dH2BO+daNHSVhbj/wmaNvReuLg2gTBoe0W1VZ1uyP2fqZNpczbTZaIn\n",
       "sKOx5igUYTj5GUXm+eMw816olDaKkDprGjXcIGpzqieVNJyyhCbWadLmi2JxiUaE7a7UKLjUggw5\n",
       "qoc3euFekNUmBBTTxhHSbKQiwfeCN4raCIwDbGy1xoFx65pWUqPthy8AIV8EyFq1ICPAneNb5I/V\n",
       "AN/i3XCXz4cfDzL4kDI0WMERD7ZBJX7XHQTP0KHkEDYX8P2IdSALVm0V6AepGT5TmTg2RS3IICwW\n",
       "uF//4A76irtjy2RnRKxVEokKndmnIBrKiI44BrN0VCEQviYZkquNdu7u3WHQ5oq+ifeloY5aA0K5\n",
       "2rKMQNScI+rBmmmTc3ffHb3VAh0o5r2WWQ44Ug6m7Z7qva4VrPNml2LQ5m8J75mgPG9mPQSZtize\n",
       "xJDMYSZ71rO4lSd263hvBkZv8LN+hkWjfVUbmLbaODkItQlaxFmnK1RnjCHvLsfwvFJU//GP9SrT\n",
       "Rg4IfMLEcKfNv76m/fkiXeXJ3NimRw+c8foIz5FI9j1d07j+FBcJ+9a0QRvAJsxgnQLF1lTOy/BZ\n",
       "/m3OLXOTYMkaTs0nds18HGS9S7SmoCdi0jbwHAXxTUiazovsOZfRu8KcfC8UkS/lPRewHsXiU745\n",
       "MDL8tnPJlVxuU5QslSM5/0FK+AdCEPuMt/Kd1AAAAABJRU5ErkJggg==\n",
       "\" style=\"display:inline;vertical-align:middle;\" /></a><br>"
      ],
      "text/plain": [
       "general_notexists_Px_st_Qx: notexists_{x_{1}, ..x_{_a}.., x_{n} | Q(x_{1}, ..x_{_a}.., x_{n})} P(x_{1}, ..x_{_a}.., x_{n})"
      ]
     },
     "execution_count": 19,
     "metadata": {},
     "output_type": "execute_result"
    }
   ],
   "source": [
    "general_notexists_Px_st_Qx = NotExists(x_1_to_n, P__x_1_to_n, conditions=[Q__x_1_to_n])"
   ]
  },
  {
   "cell_type": "code",
   "execution_count": 20,
   "metadata": {},
   "outputs": [
    {
     "data": {
      "text/html": [
       "<strong id=\"general_notexists_Py\">general_notexists_Py:</strong> <a class=\"ProveItLink\" href=\"../__pv_it/common/a8100104aa691fb52614bb3290634f5d59ece7510/common_expr.ipynb\"><img src=\"data:image/png;base64,iVBORw0KGgoAAAANSUhEUgAAAMUAAAAYBAMAAAC4tiQyAAAAMFBMVEX///92dnbMzMyIiIiYmJgQ\n",
       "EBBUVFRmZmZERESqqqrc3NwiIiIyMjLu7u66uroAAAC4HMG3AAAAAXRSTlMAQObYZgAAArVJREFU\n",
       "SMe9lktoE1EUhv9MXpOZzGSKiribTcFdB6Kmu6YuLLiQom5aqaQUsxAX1YIiBiwoRUTRogsRhGwE\n",
       "rUijWEGiNjtBEAeKpWixgaogFZJaUdCmeu48kjRDwgxaB+5jyLn3m/ufc+4JAMg6NvyJ/geGuNEA\n",
       "YWLixoS3FUkv1jephdPpp0dcibXn91j6BVnOefqiUNYYjvLuHLIK8APAS08MqWAMOXcMbhmIrCAw\n",
       "7M0Zmwx9R90x/GvUliFmvTHesC6guWPwZVJ3Dfe8ZkaReUV1x4iRspPDSJDGCQ23W62ZGYEwYM19\n",
       "w/Dlp/PTrhgdCiIPgPO0TO5FF7jRpqbKR/jL1jzAnD4Pd+foGmwbIcMnwN1wARe4U7mmGXQ1A97+\n",
       "gggzG3fJuGJaHQb0oIYVyE0ZEg4gptnhyA60zSXjF2wGSjr3tQUDcgUdaj3jFTHkXRAdoMUUntWl\n",
       "xw9zJK2Qgb+3FYO03Ime3XGWSoZZjhi+mN6OUANFqXC969ODPeRzjIFPtWLQr2PYdxD9ls+FFDHu\n",
       "L6GT27KeIbzP+etCJ1oxx63UTqKUNBgLLGhYJ63WT8Ip+ZswkwNbElbATx3KT+k4jiGHWmElpNVe\n",
       "Xn83X5aozcbPZg2GyMQUU9Q9tid52kUaSvxESJOZDFGVpSBb+Rz7HQyxGFR7rnc3VhvjLslYQt9y\n",
       "6BTRLY8E1bBCe7+rVqiHcpkxhMu4o9udqJZwbbSxgtGdGCpIa1bgKw6Gj9oxLBQxCfGzat6J88Yv\n",
       "nzoLjMH1oT3L9bOuD/LQJTrl9sZNLkJM8hqEMySepDnvEWqPcI62hH+zdbdzRtZk+aShVaR2Zryl\n",
       "GBKxo9iwyRzk+An7UM6YYlVyMaFWQ6x6TYeUL+C6Tpul0S6Sg3IBsxhP/lWt3VtLzG6l9hX27EPb\n",
       "v/nL8Ac97bywy/gu1QAAAABJRU5ErkJggg==\n",
       "\" style=\"display:inline;vertical-align:middle;\" /></a><br>"
      ],
      "text/plain": [
       "general_notexists_Py: notexists_{y_{1}, ..y_{_a}.., y_{n}} P(y_{1}, ..y_{_a}.., y_{n})"
      ]
     },
     "execution_count": 20,
     "metadata": {},
     "output_type": "execute_result"
    }
   ],
   "source": [
    "general_notexists_Py = NotExists(y_1_to_n, P__y_1_to_n)"
   ]
  },
  {
   "cell_type": "code",
   "execution_count": 21,
   "metadata": {},
   "outputs": [
    {
     "data": {
      "text/html": [
       "<strong id=\"general_notexists_notPy\">general_notexists_notPy:</strong> <a class=\"ProveItLink\" href=\"../__pv_it/common/3b0d6c74e6aba34e2ffa469b931d96348d04c9e70/common_expr.ipynb\"><img src=\"data:image/png;base64,iVBORw0KGgoAAAANSUhEUgAAAOMAAAAYBAMAAAD69VelAAAAMFBMVEX///92dnbMzMyIiIiYmJgQ\n",
       "EBBUVFRmZmZERESqqqrc3NwiIiIyMjLu7u66uroAAAC4HMG3AAAAAXRSTlMAQObYZgAAAuJJREFU\n",
       "SMe9Vk9IFFEc/nZWZ2dnnHGkIrrNRejmgNV6c+2Q0CGkumgYK5KH6GAJSSQkFBJSlNQhgmAvQRnh\n",
       "FhnEVu4tCKIBSaIkF6wgDHbNKCi13puZ55txdHtB+YNv+M33Zt438/vz3gMAw8FGW83GS2obrKeO\n",
       "jl4bFXsyLUJVsOs+Ej09j48IRfY1d/f8Gup55oQoAZOzHogdVYQknwf8RUDpDFN/Nr3ggVhOSLKq\n",
       "l/vSPJBcCFEitskH1EEhSS3L/fgywXyIErFXPlBlC0neCfhKmWRlOUQJdWPRA2RLSDIV8GtJRsZ6\n",
       "KaWnbNys9PpkH9RO34/1uojlJ/ITIpLnAn6DieQ9l4oZbWiGNLjua+YHxMusHAoeMA2hv3xEGipP\n",
       "zQSau+r6HJe6nSjgvNSfW7eZLw9AYR+UzHnAiJjkYTZJBrjkMMqptrEAY11JHQdQa7NCL3vAtr+X\n",
       "/MmpkiN9qSAJYwkN1mrJF0TS2AUtojubwZNQYJmk9J1TA4i3VZIkgd+J1t2NtIXpY+6jOSIZq3Xq\n",
       "Ia8SNZektmj5EEnalowagpKpJElGh7DvIDoC5UOmUJy7c2iStoQl1Xe5eKAStzLHQs0Sp06ilHYl\n",
       "Z2gp0ou+GHQSGeOrOpkDfSVhulDGD+XHHRxHdyS0CVO2+d0c519+s1eoqcYzWVdSo0nQSKLxkDl5\n",
       "MqHenfoB2TZovGosD7Kb3KfYH5HUitVW69WWNRa8EDXgJ+hGZDzp+NmsthImkXkLD94Gfd8oU0n1\n",
       "Im457KJZJVwZ1NZY1jklF/Rlv9nMyHiM4BhmihiD9sniy/q0O/qxqUAlpXbUZ6UOemmH0X2BxGA7\n",
       "m2A4WhvD0NKKDfU0ibRuRxc7ggc4S2ZHfHNg85Lcjs0qaTewSR4VvCElqWFHMbpF813baDzBfjk6\n",
       "TM8MsylrpXizHvwN2/wMqfmUd1Bgx4Yuo4ApjKT/1UFkrw9/jWgx+Ycx733dfzlt/QbYHtlL2ZrW\n",
       "swAAAABJRU5ErkJggg==\n",
       "\" style=\"display:inline;vertical-align:middle;\" /></a><br>"
      ],
      "text/plain": [
       "general_notexists_notPy: notexists_{y_{1}, ..y_{_a}.., y_{n}} not(P(y_{1}, ..y_{_a}.., y_{n}))"
      ]
     },
     "execution_count": 21,
     "metadata": {},
     "output_type": "execute_result"
    }
   ],
   "source": [
    "general_notexists_notPy = NotExists(y_1_to_n, Not(P__y_1_to_n))"
   ]
  },
  {
   "cell_type": "code",
   "execution_count": 22,
   "metadata": {},
   "outputs": [
    {
     "name": "stdout",
     "output_type": "stream",
     "text": [
      "These common expressions may now be imported from the theory package: proveit.logic.booleans.quantification\n"
     ]
    }
   ],
   "source": [
    "%end common"
   ]
  },
  {
   "cell_type": "code",
   "execution_count": null,
   "metadata": {},
   "outputs": [],
   "source": []
  }
 ],
 "metadata": {
  "kernelspec": {
   "display_name": "Python 3",
   "language": "python",
   "name": "python3"
  }
 },
 "nbformat": 4,
 "nbformat_minor": 0
}