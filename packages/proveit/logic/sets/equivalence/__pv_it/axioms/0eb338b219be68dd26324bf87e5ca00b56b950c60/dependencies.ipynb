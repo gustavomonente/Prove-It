{
 "cells": [
  {
   "cell_type": "markdown",
   "metadata": {},
   "source": [
    "Axiom Dependencies\n",
    "=======================\n",
    "\n",
    "## <a class=\"ProveItLink\" href=\"../../../_theory_nbs_/theory.ipynb\">proveit.logic.sets.equivalence</a>.<a class=\"ProveItLink\" href=\"../../../_axioms_.ipynb#set_equiv_def\">set_equiv_def</a> \n"
   ]
  },
  {
   "cell_type": "code",
   "execution_count": 1,
   "metadata": {},
   "outputs": [],
   "source": [
    "import proveit\n",
    "# Automation is not needed when querying dependencies:\n",
    "proveit.defaults.automation = False # This will speed things up.\n",
    "proveit.defaults.inline_pngs = False # Makes files smaller.\n",
    "from proveit.logic.sets.equivalence import set_equiv_def"
   ]
  },
  {
   "cell_type": "code",
   "execution_count": 2,
   "metadata": {},
   "outputs": [
    {
     "data": {
      "text/html": [
       "<h3>Theorems/conjectures that depend directly on set_equiv_def</h3>"
      ],
      "text/plain": [
       "<IPython.core.display.HTML object>"
      ]
     },
     "metadata": {},
     "output_type": "display_data"
    },
    {
     "data": {
      "text/html": [
       "<dl>"
      ],
      "text/plain": [
       "<IPython.core.display.HTML object>"
      ]
     },
     "metadata": {},
     "output_type": "display_data"
    },
    {
     "data": {
      "text/html": [
       "<dt><a class=\"ProveItLink\" href=\"../../../_theory_nbs_/proofs/set_equiv_fold/thm_proof.ipynb\">proveit.logic.sets.equivalence.set_equiv_fold</a></dt><dd><a class=\"ProveItLink\" href=\"../../theorems/03a99f67936f74839877367df9fe0513558edfba0/expr.ipynb\"><img src=\"../../theorems/03a99f67936f74839877367df9fe0513558edfba0/expr.png\" style=\"display:inline;vertical-align:middle;\" /></a></dd>"
      ],
      "text/plain": [
       "<IPython.core.display.HTML object>"
      ]
     },
     "metadata": {},
     "output_type": "display_data"
    },
    {
     "data": {
      "text/html": [
       "<dt><a class=\"ProveItLink\" href=\"../../../_theory_nbs_/proofs/set_equiv_is_bool/thm_proof.ipynb\">proveit.logic.sets.equivalence.set_equiv_is_bool</a></dt><dd><a class=\"ProveItLink\" href=\"../../theorems/2fc008e454d70d594a2ac0a673629ccf6efe4a940/expr.ipynb\"><img src=\"../../theorems/2fc008e454d70d594a2ac0a673629ccf6efe4a940/expr.png\" style=\"display:inline;vertical-align:middle;\" /></a></dd>"
      ],
      "text/plain": [
       "<IPython.core.display.HTML object>"
      ]
     },
     "metadata": {},
     "output_type": "display_data"
    },
    {
     "data": {
      "text/html": [
       "<dt><a class=\"ProveItLink\" href=\"../../../_theory_nbs_/proofs/set_equiv_unfold/thm_proof.ipynb\">proveit.logic.sets.equivalence.set_equiv_unfold</a></dt><dd><a class=\"ProveItLink\" href=\"../../theorems/3a484cdf0e40e7752d28c7101862178d5ee4a5e60/expr.ipynb\"><img src=\"../../theorems/3a484cdf0e40e7752d28c7101862178d5ee4a5e60/expr.png\" style=\"display:inline;vertical-align:middle;\" /></a></dd>"
      ],
      "text/plain": [
       "<IPython.core.display.HTML object>"
      ]
     },
     "metadata": {},
     "output_type": "display_data"
    },
    {
     "data": {
      "text/html": [
       "</dl>"
      ],
      "text/plain": [
       "<IPython.core.display.HTML object>"
      ]
     },
     "metadata": {},
     "output_type": "display_data"
    }
   ],
   "source": [
    "%dependencies set_equiv_def"
   ]
  }
 ],
 "metadata": {
  "kernelspec": {
   "display_name": "Python 3",
   "language": "python",
   "name": "python3"
  }
 },
 "nbformat": 4,
 "nbformat_minor": 0
}