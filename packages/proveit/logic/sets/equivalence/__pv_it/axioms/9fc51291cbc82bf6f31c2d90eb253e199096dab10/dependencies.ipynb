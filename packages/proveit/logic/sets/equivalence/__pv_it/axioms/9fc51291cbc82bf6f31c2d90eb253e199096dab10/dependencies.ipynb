{
 "cells": [
  {
   "cell_type": "markdown",
   "metadata": {},
   "source": [
    "Axiom Dependencies\n",
    "=======================\n",
    "\n",
    "## <a class=\"ProveItLink\" href=\"../../../_theory_nbs_/theory.ipynb\">proveit.logic.sets.equivalence</a>.<a class=\"ProveItLink\" href=\"../../../_axioms_.ipynb#set_not_equiv_def\">set_not_equiv_def</a> \n"
   ]
  },
  {
   "cell_type": "code",
   "execution_count": 1,
   "metadata": {},
   "outputs": [],
   "source": [
    "import proveit\n",
    "# Automation is not needed when querying dependencies:\n",
    "proveit.defaults.automation = False # This will speed things up.\n",
    "proveit.defaults.inline_pngs = False # Makes files smaller.\n",
    "from proveit.logic.sets.equivalence import set_not_equiv_def"
   ]
  },
  {
   "cell_type": "code",
   "execution_count": 2,
   "metadata": {},
   "outputs": [
    {
     "data": {
      "text/html": [
       "<h3>Theorems/conjectures that depend directly on set_not_equiv_def</h3>"
      ],
      "text/plain": [
       "<IPython.core.display.HTML object>"
      ]
     },
     "metadata": {},
     "output_type": "display_data"
    },
    {
     "data": {
      "text/html": [
       "<dl>"
      ],
      "text/plain": [
       "<IPython.core.display.HTML object>"
      ]
     },
     "metadata": {},
     "output_type": "display_data"
    },
    {
     "data": {
      "text/html": [
       "<dt><a class=\"ProveItLink\" href=\"../../../_theory_nbs_/proofs/fold_set_not_equiv/thm_proof.ipynb\">proveit.logic.sets.equivalence.fold_set_not_equiv</a></dt><dd><a class=\"ProveItLink\" href=\"../../theorems/05fd4670964aff5abb8be57c73d5cac16bf4600c0/expr.ipynb\"><img src=\"../../theorems/05fd4670964aff5abb8be57c73d5cac16bf4600c0/expr.png\" style=\"display:inline;vertical-align:middle;\" /></a></dd>"
      ],
      "text/plain": [
       "<IPython.core.display.HTML object>"
      ]
     },
     "metadata": {},
     "output_type": "display_data"
    },
    {
     "data": {
      "text/html": [
       "<dt><a class=\"ProveItLink\" href=\"../../../_theory_nbs_/proofs/set_not_equiv_is_bool/thm_proof.ipynb\">proveit.logic.sets.equivalence.set_not_equiv_is_bool</a></dt><dd><a class=\"ProveItLink\" href=\"../../theorems/8da08bf38e28934ee16ac37d67bbdb1079c22a730/expr.ipynb\"><img src=\"../../theorems/8da08bf38e28934ee16ac37d67bbdb1079c22a730/expr.png\" style=\"display:inline;vertical-align:middle;\" /></a></dd>"
      ],
      "text/plain": [
       "<IPython.core.display.HTML object>"
      ]
     },
     "metadata": {},
     "output_type": "display_data"
    },
    {
     "data": {
      "text/html": [
       "<dt><a class=\"ProveItLink\" href=\"../../../_theory_nbs_/proofs/set_not_equiv_reversal/thm_proof.ipynb\">proveit.logic.sets.equivalence.set_not_equiv_reversal</a></dt><dd><a class=\"ProveItLink\" href=\"../../theorems/a389ba9aa36770c764310372d6e505ff845b519a0/expr.ipynb\"><img src=\"../../theorems/a389ba9aa36770c764310372d6e505ff845b519a0/expr.png\" style=\"display:inline;vertical-align:middle;\" /></a></dd>"
      ],
      "text/plain": [
       "<IPython.core.display.HTML object>"
      ]
     },
     "metadata": {},
     "output_type": "display_data"
    },
    {
     "data": {
      "text/html": [
       "<dt><a class=\"ProveItLink\" href=\"../../../_theory_nbs_/proofs/unfold_set_not_equiv/thm_proof.ipynb\">proveit.logic.sets.equivalence.unfold_set_not_equiv</a></dt><dd><a class=\"ProveItLink\" href=\"../../theorems/125c822a9eac453b59db23532df0e293968ef0fe0/expr.ipynb\"><img src=\"../../theorems/125c822a9eac453b59db23532df0e293968ef0fe0/expr.png\" style=\"display:inline;vertical-align:middle;\" /></a></dd>"
      ],
      "text/plain": [
       "<IPython.core.display.HTML object>"
      ]
     },
     "metadata": {},
     "output_type": "display_data"
    },
    {
     "data": {
      "text/html": [
       "</dl>"
      ],
      "text/plain": [
       "<IPython.core.display.HTML object>"
      ]
     },
     "metadata": {},
     "output_type": "display_data"
    }
   ],
   "source": [
    "%dependencies set_not_equiv_def"
   ]
  }
 ],
 "metadata": {
  "kernelspec": {
   "display_name": "Python 3",
   "language": "python",
   "name": "python3"
  }
 },
 "nbformat": 4,
 "nbformat_minor": 0
}