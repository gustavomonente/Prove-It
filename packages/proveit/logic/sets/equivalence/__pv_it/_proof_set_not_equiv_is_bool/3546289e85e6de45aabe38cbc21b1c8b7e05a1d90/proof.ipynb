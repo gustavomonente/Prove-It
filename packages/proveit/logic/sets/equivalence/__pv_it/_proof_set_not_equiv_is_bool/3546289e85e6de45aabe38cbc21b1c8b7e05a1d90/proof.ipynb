{
 "cells": [
  {
   "cell_type": "markdown",
   "metadata": {},
   "source": [
    "Show the Proof\n",
    "========"
   ]
  },
  {
   "cell_type": "code",
   "execution_count": 1,
   "metadata": {},
   "outputs": [
    {
     "data": {
      "text/html": [
       "<table><tr><th>&nbsp;</th><th>step type</th><th>requirements</th><th>statement</th></tr>\n",
       "<tr><td><a name=\"proveit.logic.sets.equivalence._proof_set_not_equiv_is_bool.3546289e85e6de45aabe38cbc21b1c8b7e05a1d90_step0\">0</a></td><td>instantiation</td><td><a href=\"#proveit.logic.sets.equivalence._proof_set_not_equiv_is_bool.3546289e85e6de45aabe38cbc21b1c8b7e05a1d90_step1\">1</a>, <a href=\"#proveit.logic.sets.equivalence._proof_set_not_equiv_is_bool.3546289e85e6de45aabe38cbc21b1c8b7e05a1d90_step2\">2</a></td><td><span style=\"font-size:20px;\"> <a class=\"ProveItLink\" href=\"proof.ipynb\" style=\"text-decoration: none\">&nbsp;&#x22A2;&nbsp;&nbsp;</a><a class=\"ProveItLink\" href=\"../6be2fb9da0876c3dd99f4d705696034ba92580720/expr.ipynb\"><img src=\"../6be2fb9da0876c3dd99f4d705696034ba92580720/expr.png\" style=\"display:inline;vertical-align:middle;\" /></a></span></td></tr>\n",
       "<tr><td>&nbsp;</td><td colspan=4 style=\"text-align:left\"><span style=\"font-size:20px;\"><a class=\"ProveItLink\" href=\"../../../../../../__pv_it/common/09585084922504426caf1db2ff588a23a0932a960/expr.ipynb\"><img src=\"../../../../../../__pv_it/common/09585084922504426caf1db2ff588a23a0932a960/expr.png\" style=\"display:inline;vertical-align:middle;\" /></a> : <a class=\"ProveItLink\" href=\"../../theorems/8a813364298b90e0ab506025bdfe092744d338d00/expr.ipynb\"><img src=\"../../theorems/8a813364298b90e0ab506025bdfe092744d338d00/expr.png\" style=\"display:inline;vertical-align:middle;\" /></a></span></td></tr><tr><td><a name=\"proveit.logic.sets.equivalence._proof_set_not_equiv_is_bool.3546289e85e6de45aabe38cbc21b1c8b7e05a1d90_step1\">1</a></td><td>theorem</td><td></td><td><span style=\"font-size:20px;\"> <a class=\"ProveItLink\" href=\"../../../../../booleans/negation/_theory_nbs_/proofs/closure/thm_proof.ipynb\" style=\"text-decoration: none\">&nbsp;&#x22A2;&nbsp;&nbsp;</a><a class=\"ProveItLink\" href=\"../../../../../booleans/negation/__pv_it/theorems/3ce0df3c5132a3653fd6f1749f1a509d249414970/expr.ipynb\"><img src=\"../../../../../booleans/negation/__pv_it/theorems/3ce0df3c5132a3653fd6f1749f1a509d249414970/expr.png\" style=\"display:inline;vertical-align:middle;\" /></a></span></td></tr>\n",
       "<tr><td>&nbsp;</td><td colspan=4 style-\"text-align:left\"><a class=\"ProveItLink\" href=\"../../../../../booleans/negation/_theory_nbs_/proofs/closure/thm_proof.ipynb\">proveit.logic.booleans.negation.closure</a></td></tr><tr><td><a name=\"proveit.logic.sets.equivalence._proof_set_not_equiv_is_bool.3546289e85e6de45aabe38cbc21b1c8b7e05a1d90_step2\">2</a></td><td>instantiation</td><td><a href=\"#proveit.logic.sets.equivalence._proof_set_not_equiv_is_bool.3546289e85e6de45aabe38cbc21b1c8b7e05a1d90_step3\">3</a></td><td><span style=\"font-size:20px;\"> <a class=\"ProveItLink\" href=\"../ae7dc6ab1602efc5e5347f3868e7937f02a384720/proof.ipynb\" style=\"text-decoration: none\">&nbsp;&#x22A2;&nbsp;&nbsp;</a><a class=\"ProveItLink\" href=\"../../theorems/54acb45b774c025f06aacedf92363f772a6951000/expr.ipynb\"><img src=\"../../theorems/54acb45b774c025f06aacedf92363f772a6951000/expr.png\" style=\"display:inline;vertical-align:middle;\" /></a></span></td></tr>\n",
       "<tr><td>&nbsp;</td><td colspan=4 style=\"text-align:left\"><span style=\"font-size:20px;\"><a class=\"ProveItLink\" href=\"../../../../../../__pv_it/common/09585084922504426caf1db2ff588a23a0932a960/expr.ipynb\"><img src=\"../../../../../../__pv_it/common/09585084922504426caf1db2ff588a23a0932a960/expr.png\" style=\"display:inline;vertical-align:middle;\" /></a> : <a class=\"ProveItLink\" href=\"../../../../../../__pv_it/common/09585084922504426caf1db2ff588a23a0932a960/expr.ipynb\"><img src=\"../../../../../../__pv_it/common/09585084922504426caf1db2ff588a23a0932a960/expr.png\" style=\"display:inline;vertical-align:middle;\" /></a>, <a class=\"ProveItLink\" href=\"../../../../../../__pv_it/common/a9162d1c3cc0470c02e5daf414500903a7a419230/expr.ipynb\"><img src=\"../../../../../../__pv_it/common/a9162d1c3cc0470c02e5daf414500903a7a419230/expr.png\" style=\"display:inline;vertical-align:middle;\" /></a> : <a class=\"ProveItLink\" href=\"../../../../../../__pv_it/common/a9162d1c3cc0470c02e5daf414500903a7a419230/expr.ipynb\"><img src=\"../../../../../../__pv_it/common/a9162d1c3cc0470c02e5daf414500903a7a419230/expr.png\" style=\"display:inline;vertical-align:middle;\" /></a></span></td></tr><tr><td><a name=\"proveit.logic.sets.equivalence._proof_set_not_equiv_is_bool.3546289e85e6de45aabe38cbc21b1c8b7e05a1d90_step3\">3</a></td><td>theorem</td><td></td><td><span style=\"font-size:20px;\"> <a class=\"ProveItLink\" href=\"../../../_theory_nbs_/proofs/set_equiv_is_bool/thm_proof.ipynb\" style=\"text-decoration: none\">&nbsp;&#x22A2;&nbsp;&nbsp;</a><a class=\"ProveItLink\" href=\"../../theorems/7ad729e926493c66c5164ae3c1736367a81bd1b40/expr.ipynb\"><img src=\"../../theorems/7ad729e926493c66c5164ae3c1736367a81bd1b40/expr.png\" style=\"display:inline;vertical-align:middle;\" /></a></span></td></tr>\n",
       "<tr><td>&nbsp;</td><td colspan=4 style-\"text-align:left\"><a class=\"ProveItLink\" href=\"../../../_theory_nbs_/proofs/set_equiv_is_bool/thm_proof.ipynb\">proveit.logic.sets.equivalence.set_equiv_is_bool</a></td></tr></table>"
      ],
      "text/plain": [
       "<proveit._core_.proof._ShowProof at 0x7fe90e513400>"
      ]
     },
     "execution_count": 1,
     "metadata": {},
     "output_type": "execute_result"
    }
   ],
   "source": [
    "import proveit\n",
    "# Automation is not needed when only showing a stored proof:\n",
    "proveit.defaults.automation = False # This will speed things up.\n",
    "proveit.defaults.inline_pngs = False # Makes files smaller.\n",
    "%show_proof"
   ]
  },
  {
   "cell_type": "code",
   "execution_count": null,
   "metadata": {},
   "outputs": [],
   "source": []
  }
 ],
 "metadata": {
  "kernelspec": {
   "display_name": "Python 3",
   "language": "python",
   "name": "python3"
  }
 },
 "nbformat": 4,
 "nbformat_minor": 0
}