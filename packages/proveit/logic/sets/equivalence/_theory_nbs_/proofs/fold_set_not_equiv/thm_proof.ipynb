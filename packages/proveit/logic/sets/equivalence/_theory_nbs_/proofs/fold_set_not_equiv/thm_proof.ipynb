{
 "cells": [
  {
   "cell_type": "markdown",
   "metadata": {},
   "source": [
    "Proof of <a class=\"ProveItLink\" href=\"../../../../../../_theory_nbs_/theory.ipynb\">proveit</a>.<a class=\"ProveItLink\" href=\"../../../../../_theory_nbs_/theory.ipynb\">logic</a>.<a class=\"ProveItLink\" href=\"../../../../_theory_nbs_/theory.ipynb\">sets</a>.<a class=\"ProveItLink\" href=\"../../theory.ipynb\">equivalence</a>.<a class=\"ProveItLink\" href=\"../../theorems.ipynb#fold_set_not_equiv\">fold_set_not_equiv</a> theorem\n",
    "========"
   ]
  },
  {
   "cell_type": "code",
   "execution_count": 1,
   "metadata": {},
   "outputs": [],
   "source": [
    "import proveit\n",
    "from proveit.logic.sets.equivalence  import set_not_equiv_def\n",
    "theory = proveit.Theory() # the theorem's theory"
   ]
  },
  {
   "cell_type": "code",
   "execution_count": 2,
   "metadata": {},
   "outputs": [
    {
     "data": {
      "text/html": [
       "Under these <a href=\"presumptions.txt\">presumptions</a>, we begin our proof of<br><strong id=\"fold_set_not_equiv\">fold_set_not_equiv:</strong> <a class=\"ProveItLink\" href=\"../../../__pv_it/theorems/ceed43db02cbdb5aae0795d1144876c41d70ee0c0/expr.ipynb\"><img src=\"data:image/png;base64,iVBORw0KGgoAAAANSUhEUgAAANEAAAAWCAMAAABpCYnRAAAAM1BMVEX///8/Pz8QEBCIiIhmZma6\n",
       "urrMzMxUVFQiIiJERETc3Nzu7u6qqqp2dnaYmJgyMjIAAAAtmB3VAAAAAXRSTlMAQObYZgAAAuZJ\n",
       "REFUWMPNWNmypCAMZViEsOb/v3bYbINIa9fMrb48WKLxkJONIGO/aNj4b997W67pNY/xy4Qc0NmW\n",
       "rqVGLaNG1FJqAJVnulAKfn+Z3JcZJTvM8FJog9MD3h5I3LJNihXsLmHhy4SiHGYJqYWVQRM67TAw\n",
       "xOY0heXzIIhrDmd9aRjqIuclkvlmvFWa+0J7DE7RxSIWMo6X2+DKsObbZcGM2SJQHVPtGq/EVTSK\n",
       "CgJvFuCmiqTyEqEME/6HVk8Ft/mRoEGnHPNIaoDY9Tc8DYQY6sa1cWahoOgKD0Qbeq8AZci1hD5a\n",
       "6RmuIS6g/IwBhIBTJUHEbLGp/m2oYxRg/Cv9ykKFliOykfqbxerWwMnaC0LaLiAuoOTE2PjRZhbl\n",
       "vMKE2tPIcd23pBq75SIOCzlJ/c1klfWk8iwYbWGCUNA1V2cop8+f80PbLe8wUiPcVu5XGmVmvvus\n",
       "Gi02VnvsOEOtY6rzZbr1kd7OEApyHvsjHilUsmtG7Y6TJYMpA+vV6CmNCiNBGOXo3A6pTTAgOruy\n",
       "czFBt98FIzNB1HCG4HoEDFAiLqOu3xh+Dtq5eO27EdM9zJXpaUwCNHOTxGMKRc68IUbgrvruEM1s\n",
       "gXM5Q3m9qgzWL5oGMzc1+2607SEam2M9oRB9kSP+riLCXDMK0EYqITZB6P72T9N2gFJnuwR5sgzg\n",
       "GJjhou9MzY+KQ2crux+PQumSDAFoGagiFv1bH2WDK72CuISaGtEWLw4Qa1j6fHPkc84j3rOI5JFO\n",
       "e5t6NKc9meNreenqokeSt/UVtdc1o1chmiAuoZR+2wWxB5X7qn2fOh/VPFvyzULTrF55YHeMdjAC\n",
       "odM+4gQ1p3mU73RVjxrpcN6VoSaYBTSRbbkvzN7GsjWAuqkM9pW4FGJcbISSF12DfXzUWLko3RwJ\n",
       "F88X1hIfNe/p7sR3fvkEFOyDM+5zRuyTA5aPP3Aqjzd+XMKvNFfPFXLyN/3fYPJjr84R+nN/AP4C\n",
       "RK0cI6XpUPcAAAAASUVORK5CYII=\n",
       "\" style=\"display:inline;vertical-align:middle;\" /></a><br>(see <a class=\"ProveItLink\" href=\"../../../__pv_it/theorems/905ff501ed9e2f785615f55579d211ee57d13f3f0/dependencies.ipynb\">dependencies</a>)<br>"
      ],
      "text/plain": [
       "fold_set_not_equiv: forall_{A, B | not(A equiv B)} (A not_equiv B)"
      ]
     },
     "execution_count": 2,
     "metadata": {},
     "output_type": "execute_result"
    }
   ],
   "source": [
    "%proving fold_set_not_equiv"
   ]
  },
  {
   "cell_type": "code",
   "execution_count": 3,
   "metadata": {},
   "outputs": [
    {
     "data": {
      "text/html": [
       "<span style=\"font-size:20px;\"> <a class=\"ProveItLink\" href=\"../../axioms.ipynb#set_not_equiv_def\" style=\"text-decoration: none\">&nbsp;&#x22A2;&nbsp;&nbsp;</a><a class=\"ProveItLink\" href=\"../../../__pv_it/axioms/9fbba3aef70e62e8b026689ec2d661fa9b201a500/expr.ipynb\"><img src=\"data:image/png;base64,iVBORw0KGgoAAAANSUhEUgAAARkAAAAVBAMAAACAi4frAAAAMFBMVEX///8QEBCIiIhmZma6urrM\n",
       "zMxUVFQiIiJERETc3Nzu7u6qqqp2dnaYmJgyMjIAAAAcRTyBAAAAAXRSTlMAQObYZgAAA8ZJREFU\n",
       "SMfFVk1IVFEUPs74Znwz89SFlGDFQIvalAOCbQIngpRAnJW1agYqsKBUDIfSSCFwtGRmZxDlSEVi\n",
       "UEGLapXkQuiPoSCIskYqIRcpav6FTeeee+97zzdvJqNFH3zvPu7vd88599wLkA9qijMfvAn7cTqu\n",
       "5R8Pj01Ms4qJHB2HBRFHjFpNFM2LVU0XAU7Yj5PwdFGh0ELgmwrhN0j/bzNHq2NBcOF2JJ+z+ukc\n",
       "ar4JImaM2sOiLMB1akJw136cRDG3XfEsFVMftuI3wpvKAZw/wIM6Ja8ww3bZi9ECnOx3JsmKwgud\n",
       "uJaPN4fRHw0B8Pntxul4w4uPq9Tih7ujoHI1yhpOOA/wFHQW4yq++/Zq3AlOxJ0aKg89PlChBYQj\n",
       "KrHqkx88pXbjdJzl/nqwwgoXMpa4HqI6B1ZpcwBDoFN7NjIykMNRA4KIVCX5+iQKmqw/w+u6cZHN\n",
       "uJkvduP0gG7h5nIssMLJQifzkzcV4TaGzqFBggaXY7HOHGq2C6JBk0/omDCn9GzjQQiLKA3lwZjd\n",
       "OAkH99pB75pedUuUJRFQ2plrAgaPA/RSI//WzY81SUP3CwLchLCMDjUtfpTFiZ0dFBJ0WL4TAqCP\n",
       "EQagXXiCylzWZsOnXvewGNHSBvdTMOP/AjdpKfhkIHQIsiM5KCPTFZS7RrcPsXh8aF0GxzijDKMY\n",
       "QxSThaDOWzWzuPNsYhmrxaAbHCT/BjelMwLeVTFrmSAoR6uauyznm9zuYCEQtqopk2ZErQUkvrGq\n",
       "ejnLNt1MEYpVZg36Um5qe9bGz4MfnGmrmkKclSrHo9GlaLRduh0ccxtTg59tWWoWmRr/ejVqupG2\n",
       "749Rl3sh2J20ego34Bbu00Z1t6NJXcy9tSYfRED3LldDnvIiW61iWLqBZtRZ2GIQeo/xTLCH+jTs\n",
       "2hkBSxSr9/VcCm4pldJNuEtGsRn9JjUUxVdlMjdrZnGnLFuiGB5QRngPlTTDK4AdctYxQZY/ilZ4\n",
       "3Ut9zUncTTnTtteqRj/yIX5sKefErbdrMVp7Xx8L1VGDUMLOrufzizjt+jLAoEzNtZzDmWnwxpfY\n",
       "QRhvxbDhcXOa3XnU86tVTa3pH83vif9KwqNM2/pOrhm8dC+RrJBB0JgKZxIGKV/jIWlIZN8MYD3f\n",
       "pku6ZQM3Qz7cNpGjHm2UUvtAXQV1i82tKVGXPdnGbs08MN2aIncsgxo/r1TA+HxVk7H9Xj1F270V\n",
       "BGxeFOYxRYk/iDG/KNa/43K/tgSS+ZfO/drKDSZXMutR+LcvUe1fX6LvTFyHFPxf/AayoiqRoMJc\n",
       "BAAAAABJRU5ErkJggg==\n",
       "\" style=\"display:inline;vertical-align:middle;\" /></a></span>"
      ],
      "text/plain": [
       "|- forall_{A, B} ((A not_equiv B) = not(A equiv B))"
      ]
     },
     "execution_count": 3,
     "metadata": {},
     "output_type": "execute_result"
    }
   ],
   "source": [
    "set_not_equiv_def"
   ]
  },
  {
   "cell_type": "code",
   "execution_count": 4,
   "metadata": {},
   "outputs": [
    {
     "data": {
      "text/html": [
       "<strong id=\"set_not_equiv_def_inst\">set_not_equiv_def_inst:</strong> <span style=\"font-size:20px;\"> <a class=\"ProveItLink\" href=\"../../../__pv_it/_proof_fold_set_not_equiv/29d238ccbcb08e564035373d793d4dcd95e0b7050/proof.ipynb\" style=\"text-decoration: none\">&nbsp;&#x22A2;&nbsp;&nbsp;</a><a class=\"ProveItLink\" href=\"../../../__pv_it/axioms/e9c043611753e20b036bed6fd8c53c7772aa40db0/expr.ipynb\"><img src=\"data:image/png;base64,iVBORw0KGgoAAAANSUhEUgAAANEAAAAUBAMAAADhMcXbAAAAMFBMVEX///9UVFTMzMx2dna6uroQ\n",
       "EBCqqqqIiIgiIiJmZmYyMjJERETu7u6YmJjc3NwAAAC+aOQFAAAAAXRSTlMAQObYZgAAAsZJREFU\n",
       "SMelVU1oE0EUfkk2mzTZjcVb/Wu8iR6Si7QVxHgrqOghiNRLj4pQey0emqKV7UVTPOXUWu1BkTYH\n",
       "BUHS5GBFzKU3UVDrRXoRGxBbf+Ob92Y2s7smDTjw9k0mM9/35r1vZgBSa9CxmevBMc+az53Xw5g0\n",
       "qPPvw62/bOn6G6W9jwEOBBfXtb5VJhee55/HduPH0AFCGKowWOIZy621R6SPIsZcGl4FmZa0foL3\n",
       "nNhkt/8o7jekA1gYgzC7yPzLNeGM29cRJ8ITM7jmbBEi434iuYbbG3Zvf5F7DdY9gI8egAHsosU5\n",
       "pBdz5A+NnTxvF2VyJnHowzhY5/xMcb10tziHl/+Q7wVIrqQWPACr2EXb4MG1yZxw+5Bs8cwNHnuC\n",
       "ABdwq/f9TBu6OAq8zdhX8mK3J5qjHoAEQqNN0JhRu0pyEol6OpLjiQ2kRWoY8jNNaP0YZ/K0+bul\n",
       "kTR4ACJFsgqNPYeMqkZKigjCjXfXblIJxCfykBrhVjSmJEVo5cJbAd0oAHuejLAgB19UlUM5FS1m\n",
       "fhXzDpf8ELimxxEtizWjTBmQ+s4ip3geeADMAlme2PtK/WWfxiGJSoh9ExLyM+XV9hEmSoEdLM3+\n",
       "DOxJAYQ3yfIcEkQpaYOOs+04UzRxF+LEtrpjws9IgEkBSCbKHmYgLrVsZ9VEcRpCQlHDWp16ZfZc\n",
       "JsqeiTYdYFIARoFMVDc16p5xiNfURHEaMmWlCL1VNCZSxCf3kuE63fUASEUMyfOR5JMHx128RYzk\n",
       "ouC942dyZZ9mCdOZqgZuYgXQkyXD1NSbj8CsbgvxDU5jmbhOe5p9s89IWAt+iGGtj2mxqj9qcKU5\n",
       "45vlAiTSZHFvKK7Gtcu60MVt1Km9ZPPclgCnghO7u2E7NHnDwkrb90C2f7wa+prk+g5E6tXwvGoA\n",
       "tc6w7V/C9k2EQuHs9Lrb//u6v2f7C13O3I8tn9vnAAAAAElFTkSuQmCC\n",
       "\" style=\"display:inline;vertical-align:middle;\" /></a></span><br>"
      ],
      "text/plain": [
       "set_not_equiv_def_inst: |- (A not_equiv B) = not(A equiv B)"
      ]
     },
     "execution_count": 4,
     "metadata": {},
     "output_type": "execute_result"
    }
   ],
   "source": [
    "set_not_equiv_def_inst = set_not_equiv_def.instantiate()"
   ]
  },
  {
   "cell_type": "code",
   "execution_count": 5,
   "metadata": {},
   "outputs": [
    {
     "data": {
      "text/html": [
       "<span style=\"font-size:20px;\"><a class=\"ProveItLink\" href=\"../../../__pv_it/axioms/89494bd05e0b50b4325c540094323951495b84890/expr.ipynb\"><img src=\"data:image/png;base64,iVBORw0KGgoAAAANSUhEUgAAAFoAAAAUBAMAAAD/1DctAAAAMFBMVEX///+6uroQEBCqqqqIiIgy\n",
       "MjJERETu7u6YmJjMzMxUVFTc3Nx2dnYiIiJmZmYAAAAutVgsAAAAAXRSTlMAQObYZgAAAWZJREFU\n",
       "KM9jYIAD7gYGvIB5AzKvDEJNhVA8UROApACY3fV/3as0AYbVyKqjIVQ8hIrq0QCSCyAcNQYGvp8M\n",
       "pUiKOR5AqPgCMOXAUHqAgRuimvMHAwPjPwYeB4RqXoizit+DaS4gTtuwdQJYjOU3UPsXBnYFhOq9\n",
       "EKrBH+xWPpDT/3+GiLEBlRVdZ2AIRKj2A5OMBfaIoKmE0vwLGDhvAR14DqE6A0wWMsx3wAi7+Sta\n",
       "cg2AdCvD27tAcAfIvAyWEGDYD/YtTygYQHzuv4GBXQtI20I07wJiRbDv171bn4BhdhJIB9Dw+Wiq\n",
       "GRkYmAIwVP8CqXZAUQ12CdAAXgV0xaDgZlgPDCpZhGqQL7mBqlk/ILl7ASy4Ob+BfQnRzQAJHlCY\n",
       "s/1GN5sVaJtQOpDxBiEGtKbsfzgDc/7fB6iKueJ/vVuWDGJFYsQ8HsB+ASNV4QHIqYohm5DqUiy5\n",
       "ATdAMY5QTuPYwAAAQHFZkH2tWnoAAAAASUVORK5CYII=\n",
       "\" style=\"display:inline;vertical-align:middle;\" /></a> <a class=\"ProveItLink\" href=\"../../../__pv_it/_proof_fold_set_not_equiv/4633abeaefb58896ce996c6364f5172efd8876cc0/proof.ipynb\" style=\"text-decoration: none\">&nbsp;&#x22A2;&nbsp;&nbsp;</a><a class=\"ProveItLink\" href=\"../../../__pv_it/axioms/c67609c12b883c5443ea2b6d17cde5bee135b3050/expr.ipynb\"><img src=\"data:image/png;base64,iVBORw0KGgoAAAANSUhEUgAAADsAAAASBAMAAAAXqLt+AAAAMFBMVEX///92dnYiIiIQEBBERERU\n",
       "VFS6urqIiIjc3NxmZmaqqqru7u6YmJgyMjLMzMwAAADiRdoGAAAAAXRSTlMAQObYZgAAARVJREFU\n",
       "KM9jYACBtwxwwAOl4r/ODHGDit1HSD+B0swODAzzH0CU3t8Aotj0FRkYbjBCpN8fYGDInwBm7prf\n",
       "AKIerUi14pmwBSJdDxQ6XwBmHqhPAFHRQBWXc9Qg0s4MDNxGEEM3rD8AokFqnWwTINJfgWqjwaxt\n",
       "DO8LoA7iuABl8H09U6IFYSYw9E+AirJC9TKw/2Bg2BwAVhg5M94BzVsMLAZAJb/AVgM9CTZTSEnp\n",
       "k5KSKliaH6iT/TuItYCBgckAGlYCMN0gb7N+A7kGKM37ASLItAEmDfL2e5CVTSCbfkAEZeBhexlo\n",
       "qQlQ8Zb/txm4/D+BnC6kDLQaYnfs/8ipLgsYUAHcW9hBCl5Zhhv4pTdgiAAAgqJHHhYXdPwAAAAA\n",
       "SUVORK5CYII=\n",
       "\" style=\"display:inline;vertical-align:middle;\" /></a></span>"
      ],
      "text/plain": [
       "{not(A equiv B)} |- A not_equiv B"
      ]
     },
     "execution_count": 5,
     "metadata": {},
     "output_type": "execute_result"
    }
   ],
   "source": [
    "set_not_equiv_def_inst.derive_left_via_equality(assumptions=[set_not_equiv_def_inst.rhs])"
   ]
  },
  {
   "cell_type": "code",
   "execution_count": 6,
   "metadata": {},
   "outputs": [
    {
     "data": {
      "text/html": [
       "<table><tr><th>&nbsp;</th><th>step type</th><th>requirements</th><th>statement</th></tr>\n",
       "<tr><td><a name=\"0x66ca5459b4b9138a_step0\">0</a></td><td>generalizaton</td><td><a href=\"#0x66ca5459b4b9138a_step1\">1</a></td><td><span style=\"font-size:20px;\"> <a class=\"ProveItLink\" href=\"../../../__pv_it/_proof_fold_set_not_equiv/d033864e974222d1d6867e1434cfda0ee44e9bf30/proof.ipynb\" style=\"text-decoration: none\">&nbsp;&#x22A2;&nbsp;&nbsp;</a><a class=\"ProveItLink\" href=\"../../../__pv_it/theorems/ceed43db02cbdb5aae0795d1144876c41d70ee0c0/expr.ipynb\"><img src=\"data:image/png;base64,iVBORw0KGgoAAAANSUhEUgAAANEAAAAWCAMAAABpCYnRAAAAM1BMVEX///8/Pz8QEBCIiIhmZma6\n",
       "urrMzMxUVFQiIiJERETc3Nzu7u6qqqp2dnaYmJgyMjIAAAAtmB3VAAAAAXRSTlMAQObYZgAAAuZJ\n",
       "REFUWMPNWNmypCAMZViEsOb/v3bYbINIa9fMrb48WKLxkJONIGO/aNj4b997W67pNY/xy4Qc0NmW\n",
       "rqVGLaNG1FJqAJVnulAKfn+Z3JcZJTvM8FJog9MD3h5I3LJNihXsLmHhy4SiHGYJqYWVQRM67TAw\n",
       "xOY0heXzIIhrDmd9aRjqIuclkvlmvFWa+0J7DE7RxSIWMo6X2+DKsObbZcGM2SJQHVPtGq/EVTSK\n",
       "CgJvFuCmiqTyEqEME/6HVk8Ft/mRoEGnHPNIaoDY9Tc8DYQY6sa1cWahoOgKD0Qbeq8AZci1hD5a\n",
       "6RmuIS6g/IwBhIBTJUHEbLGp/m2oYxRg/Cv9ykKFliOykfqbxerWwMnaC0LaLiAuoOTE2PjRZhbl\n",
       "vMKE2tPIcd23pBq75SIOCzlJ/c1klfWk8iwYbWGCUNA1V2cop8+f80PbLe8wUiPcVu5XGmVmvvus\n",
       "Gi02VnvsOEOtY6rzZbr1kd7OEApyHvsjHilUsmtG7Y6TJYMpA+vV6CmNCiNBGOXo3A6pTTAgOruy\n",
       "czFBt98FIzNB1HCG4HoEDFAiLqOu3xh+Dtq5eO27EdM9zJXpaUwCNHOTxGMKRc68IUbgrvruEM1s\n",
       "gXM5Q3m9qgzWL5oGMzc1+2607SEam2M9oRB9kSP+riLCXDMK0EYqITZB6P72T9N2gFJnuwR5sgzg\n",
       "GJjhou9MzY+KQ2crux+PQumSDAFoGagiFv1bH2WDK72CuISaGtEWLw4Qa1j6fHPkc84j3rOI5JFO\n",
       "e5t6NKc9meNreenqokeSt/UVtdc1o1chmiAuoZR+2wWxB5X7qn2fOh/VPFvyzULTrF55YHeMdjAC\n",
       "odM+4gQ1p3mU73RVjxrpcN6VoSaYBTSRbbkvzN7GsjWAuqkM9pW4FGJcbISSF12DfXzUWLko3RwJ\n",
       "F88X1hIfNe/p7sR3fvkEFOyDM+5zRuyTA5aPP3Aqjzd+XMKvNFfPFXLyN/3fYPJjr84R+nN/AP4C\n",
       "RK0cI6XpUPcAAAAASUVORK5CYII=\n",
       "\" style=\"display:inline;vertical-align:middle;\" /></a></span></td></tr>\n",
       "<tr><td><a name=\"0x66ca5459b4b9138a_step1\">1</a></td><td>instantiation</td><td><a href=\"#0x66ca5459b4b9138a_step2\">2</a>, <a href=\"#0x66ca5459b4b9138a_step3\">3</a>, <a href=\"#0x66ca5459b4b9138a_step4\">4</a></td><td><span style=\"font-size:20px;\"><a class=\"ProveItLink\" href=\"../../../__pv_it/axioms/89494bd05e0b50b4325c540094323951495b84890/expr.ipynb\"><img src=\"data:image/png;base64,iVBORw0KGgoAAAANSUhEUgAAAFoAAAAUBAMAAAD/1DctAAAAMFBMVEX///+6uroQEBCqqqqIiIgy\n",
       "MjJERETu7u6YmJjMzMxUVFTc3Nx2dnYiIiJmZmYAAAAutVgsAAAAAXRSTlMAQObYZgAAAWZJREFU\n",
       "KM9jYIAD7gYGvIB5AzKvDEJNhVA8UROApACY3fV/3as0AYbVyKqjIVQ8hIrq0QCSCyAcNQYGvp8M\n",
       "pUiKOR5AqPgCMOXAUHqAgRuimvMHAwPjPwYeB4RqXoizit+DaS4gTtuwdQJYjOU3UPsXBnYFhOq9\n",
       "EKrBH+xWPpDT/3+GiLEBlRVdZ2AIRKj2A5OMBfaIoKmE0vwLGDhvAR14DqE6A0wWMsx3wAi7+Sta\n",
       "cg2AdCvD27tAcAfIvAyWEGDYD/YtTygYQHzuv4GBXQtI20I07wJiRbDv171bn4BhdhJIB9Dw+Wiq\n",
       "GRkYmAIwVP8CqXZAUQ12CdAAXgV0xaDgZlgPDCpZhGqQL7mBqlk/ILl7ASy4Ob+BfQnRzQAJHlCY\n",
       "s/1GN5sVaJtQOpDxBiEGtKbsfzgDc/7fB6iKueJ/vVuWDGJFYsQ8HsB+ASNV4QHIqYohm5DqUiy5\n",
       "ATdAMY5QTuPYwAAAQHFZkH2tWnoAAAAASUVORK5CYII=\n",
       "\" style=\"display:inline;vertical-align:middle;\" /></a> <a class=\"ProveItLink\" href=\"../../../__pv_it/_proof_fold_set_not_equiv/4633abeaefb58896ce996c6364f5172efd8876cc0/proof.ipynb\" style=\"text-decoration: none\">&nbsp;&#x22A2;&nbsp;&nbsp;</a><a class=\"ProveItLink\" href=\"../../../__pv_it/axioms/c67609c12b883c5443ea2b6d17cde5bee135b3050/expr.ipynb\"><img src=\"data:image/png;base64,iVBORw0KGgoAAAANSUhEUgAAADsAAAASBAMAAAAXqLt+AAAAMFBMVEX///92dnYiIiIQEBBERERU\n",
       "VFS6urqIiIjc3NxmZmaqqqru7u6YmJgyMjLMzMwAAADiRdoGAAAAAXRSTlMAQObYZgAAARVJREFU\n",
       "KM9jYACBtwxwwAOl4r/ODHGDit1HSD+B0swODAzzH0CU3t8Aotj0FRkYbjBCpN8fYGDInwBm7prf\n",
       "AKIerUi14pmwBSJdDxQ6XwBmHqhPAFHRQBWXc9Qg0s4MDNxGEEM3rD8AokFqnWwTINJfgWqjwaxt\n",
       "DO8LoA7iuABl8H09U6IFYSYw9E+AirJC9TKw/2Bg2BwAVhg5M94BzVsMLAZAJb/AVgM9CTZTSEnp\n",
       "k5KSKliaH6iT/TuItYCBgckAGlYCMN0gb7N+A7kGKM37ASLItAEmDfL2e5CVTSCbfkAEZeBhexlo\n",
       "qQlQ8Zb/txm4/D+BnC6kDLQaYnfs/8ipLgsYUAHcW9hBCl5Zhhv4pTdgiAAAgqJHHhYXdPwAAAAA\n",
       "SUVORK5CYII=\n",
       "\" style=\"display:inline;vertical-align:middle;\" /></a></span></td></tr>\n",
       "<tr><td>&nbsp;</td><td colspan=4 style=\"text-align:left\"><span style=\"font-size:20px;\"><a class=\"ProveItLink\" href=\"../../../../../../__pv_it/common/d5fc3066299847984076662ce51556220bdb6cfb0/expr.ipynb\"><img src=\"data:image/png;base64,iVBORw0KGgoAAAANSUhEUgAAABAAAAAOBAMAAADUAYG5AAAAMFBMVEX///8iIiLc3Ny6urqIiIiq\n",
       "qqp2dnbMzMwQEBDu7u5mZmYyMjJERERUVFSYmJgAAAA4CJ/KAAAAAXRSTlMAQObYZgAAAF5JREFU\n",
       "CNdjYGB4+//s3V0TGIDgNwMDTyeQZv/GwMD6Bchg+QzEQA4DzwcGBl4gh4F/AwOD/gIgoz6BgVUM\n",
       "pMn/WtoSsO7zYBIIPkJp9l9QBsgYMOD+CaG59v91ANEANtEY7WfmSIAAAAAASUVORK5CYII=\n",
       "\" style=\"display:inline;vertical-align:middle;\" /></a> : <a class=\"ProveItLink\" href=\"../../../__pv_it/axioms/c67609c12b883c5443ea2b6d17cde5bee135b3050/expr.ipynb\"><img src=\"data:image/png;base64,iVBORw0KGgoAAAANSUhEUgAAADsAAAASBAMAAAAXqLt+AAAAMFBMVEX///92dnYiIiIQEBBERERU\n",
       "VFS6urqIiIjc3NxmZmaqqqru7u6YmJgyMjLMzMwAAADiRdoGAAAAAXRSTlMAQObYZgAAARVJREFU\n",
       "KM9jYACBtwxwwAOl4r/ODHGDit1HSD+B0swODAzzH0CU3t8Aotj0FRkYbjBCpN8fYGDInwBm7prf\n",
       "AKIerUi14pmwBSJdDxQ6XwBmHqhPAFHRQBWXc9Qg0s4MDNxGEEM3rD8AokFqnWwTINJfgWqjwaxt\n",
       "DO8LoA7iuABl8H09U6IFYSYw9E+AirJC9TKw/2Bg2BwAVhg5M94BzVsMLAZAJb/AVgM9CTZTSEnp\n",
       "k5KSKliaH6iT/TuItYCBgckAGlYCMN0gb7N+A7kGKM37ASLItAEmDfL2e5CVTSCbfkAEZeBhexlo\n",
       "qQlQ8Zb/txm4/D+BnC6kDLQaYnfs/8ipLgsYUAHcW9hBCl5Zhhv4pTdgiAAAgqJHHhYXdPwAAAAA\n",
       "SUVORK5CYII=\n",
       "\" style=\"display:inline;vertical-align:middle;\" /></a>, <a class=\"ProveItLink\" href=\"../../../../../../__pv_it/common/50527aea954422d65ebe44b8de200683294751540/expr.ipynb\"><img src=\"data:image/png;base64,iVBORw0KGgoAAAANSUhEUgAAAA8AAAASBAMAAAB2sJk8AAAAMFBMVEX///+qqqq6urrc3NwQEBAy\n",
       "MjJERERUVFTMzMwiIiKYmJh2dnZmZmaIiIju7u4AAABsX1SbAAAAAXRSTlMAQObYZgAAAINJREFU\n",
       "CNdjYGDgu7P7FAMI7GxgYE8A0k8DgILeQEbIAyBRz8DA/Qskvd+AwX4CiHFegWH/BRAjv4FhfgOI\n",
       "8R+IQGoZvzMwTAEJcP5jYCgBMe4DFfY/eHuD4w+Qw3thAff6DSDhvuqbyQxgrQzsDVwGYAbbATUw\n",
       "zcDz/weEwTFFgIEBAOxlJHQBUmidAAAAAElFTkSuQmCC\n",
       "\" style=\"display:inline;vertical-align:middle;\" /></a> : <a class=\"ProveItLink\" href=\"../../../__pv_it/axioms/89494bd05e0b50b4325c540094323951495b84890/expr.ipynb\"><img src=\"data:image/png;base64,iVBORw0KGgoAAAANSUhEUgAAAFoAAAAUBAMAAAD/1DctAAAAMFBMVEX///+6uroQEBCqqqqIiIgy\n",
       "MjJERETu7u6YmJjMzMxUVFTc3Nx2dnYiIiJmZmYAAAAutVgsAAAAAXRSTlMAQObYZgAAAWZJREFU\n",
       "KM9jYIAD7gYGvIB5AzKvDEJNhVA8UROApACY3fV/3as0AYbVyKqjIVQ8hIrq0QCSCyAcNQYGvp8M\n",
       "pUiKOR5AqPgCMOXAUHqAgRuimvMHAwPjPwYeB4RqXoizit+DaS4gTtuwdQJYjOU3UPsXBnYFhOq9\n",
       "EKrBH+xWPpDT/3+GiLEBlRVdZ2AIRKj2A5OMBfaIoKmE0vwLGDhvAR14DqE6A0wWMsx3wAi7+Sta\n",
       "cg2AdCvD27tAcAfIvAyWEGDYD/YtTygYQHzuv4GBXQtI20I07wJiRbDv171bn4BhdhJIB9Dw+Wiq\n",
       "GRkYmAIwVP8CqXZAUQ12CdAAXgV0xaDgZlgPDCpZhGqQL7mBqlk/ILl7ASy4Ob+BfQnRzQAJHlCY\n",
       "s/1GN5sVaJtQOpDxBiEGtKbsfzgDc/7fB6iKueJ/vVuWDGJFYsQ8HsB+ASNV4QHIqYohm5DqUiy5\n",
       "ATdAMY5QTuPYwAAAQHFZkH2tWnoAAAAASUVORK5CYII=\n",
       "\" style=\"display:inline;vertical-align:middle;\" /></a></span></td></tr><tr><td><a name=\"0x66ca5459b4b9138a_step2\">2</a></td><td>theorem</td><td></td><td><span style=\"font-size:20px;\"> <a class=\"ProveItLink\" href=\"../../../../../equality/_theory_nbs_/proofs/lhs_via_equality/thm_proof.ipynb\" style=\"text-decoration: none\">&nbsp;&#x22A2;&nbsp;&nbsp;</a><a class=\"ProveItLink\" href=\"../../../../../equality/__pv_it/theorems/fd1735c228dc89ed3ff97dbaf65fa21ba6757a2d0/expr.ipynb\"><img src=\"data:image/png;base64,iVBORw0KGgoAAAANSUhEUgAAAIwAAAAWBAMAAADgE2koAAAAMFBMVEX///8QEBCIiIhmZma6urrM\n",
       "zMxUVFQiIiJERETc3Nzu7u6qqqp2dnaYmJgyMjIAAAAcRTyBAAAAAXRSTlMAQObYZgAAAeBJREFU\n",
       "OMutVD0sQ1EYPfr/qyIWLMRgEcRUpiYWmzBYvYEO0sEsJBIJJRHdWFBrF01MXURISGjkWSwiaSIx\n",
       "SGiD+G3w3ff3XdWB1pe8d79z7rnnvXu/ey/wP5ETr8vKx59/zkevkjgR+U0V//EBeJqwRpl3tnIX\n",
       "ZxHw36M2CQTSldvYHukpInicSq1WMSdPAXCR1Us8Pl2FTYhqtNkNjAOLgGMlFp4QdFu2T+t2GDIT\n",
       "DzwdzCetwSYLjO7BL36jHz5R9DPgiJqNCIY0tUdXWThYh8Ck6WKxQFcs2yNSN2wqNVFiqGaNgF1h\n",
       "G8YuBbaC4cIssGLYBVS3aGaAOHmq2nctG8aUecx9wSzwbFrnRujte4VtCmgVJSywDePtBNrNtWEW\n",
       "zgdzootjYkWLHWI/X9Njz7EN48H9bBquOMWyxGrbRo8dsXIBnaUtiZo9tmF8KhWZWdS+WZVvEaO6\n",
       "tbxer5llw3hOsmHWnn9qMcigmHJIPw9R34W3QbJh/K6V647iVmJLYzRBi72EreHgbkSy0TF1OF8l\n",
       "MatKD1i+l1a9Gb7woeKVbHRMHZ0PCVazqmz4RQWVdcnGwP4f14OhKhsZsY0+mr7ZaDhTqjRVZUMc\n",
       "CixEvtloWP0hXYj87gKw/+m6+AIRhIj+rToaNQAAAABJRU5ErkJggg==\n",
       "\" style=\"display:inline;vertical-align:middle;\" /></a></span></td></tr>\n",
       "<tr><td>&nbsp;</td><td colspan=4 style-\"text-align:left\"><a class=\"ProveItLink\" href=\"../../../../../equality/_theory_nbs_/proofs/lhs_via_equality/thm_proof.ipynb\">proveit.logic.equality.lhs_via_equality</a></td></tr><tr><td><a name=\"0x66ca5459b4b9138a_step3\">3</a></td><td>assumption</td><td></td><td><span style=\"font-size:20px;\"><a class=\"ProveItLink\" href=\"../../../__pv_it/axioms/89494bd05e0b50b4325c540094323951495b84890/expr.ipynb\"><img src=\"data:image/png;base64,iVBORw0KGgoAAAANSUhEUgAAAFoAAAAUBAMAAAD/1DctAAAAMFBMVEX///+6uroQEBCqqqqIiIgy\n",
       "MjJERETu7u6YmJjMzMxUVFTc3Nx2dnYiIiJmZmYAAAAutVgsAAAAAXRSTlMAQObYZgAAAWZJREFU\n",
       "KM9jYIAD7gYGvIB5AzKvDEJNhVA8UROApACY3fV/3as0AYbVyKqjIVQ8hIrq0QCSCyAcNQYGvp8M\n",
       "pUiKOR5AqPgCMOXAUHqAgRuimvMHAwPjPwYeB4RqXoizit+DaS4gTtuwdQJYjOU3UPsXBnYFhOq9\n",
       "EKrBH+xWPpDT/3+GiLEBlRVdZ2AIRKj2A5OMBfaIoKmE0vwLGDhvAR14DqE6A0wWMsx3wAi7+Sta\n",
       "cg2AdCvD27tAcAfIvAyWEGDYD/YtTygYQHzuv4GBXQtI20I07wJiRbDv171bn4BhdhJIB9Dw+Wiq\n",
       "GRkYmAIwVP8CqXZAUQ12CdAAXgV0xaDgZlgPDCpZhGqQL7mBqlk/ILl7ASy4Ob+BfQnRzQAJHlCY\n",
       "s/1GN5sVaJtQOpDxBiEGtKbsfzgDc/7fB6iKueJ/vVuWDGJFYsQ8HsB+ASNV4QHIqYohm5DqUiy5\n",
       "ATdAMY5QTuPYwAAAQHFZkH2tWnoAAAAASUVORK5CYII=\n",
       "\" style=\"display:inline;vertical-align:middle;\" /></a> <a class=\"ProveItLink\" href=\"../../../__pv_it/_proof_fold_set_not_equiv/1b2146a63d03517b426fff2cbb4f52bc2a2881740/proof.ipynb\" style=\"text-decoration: none\">&nbsp;&#x22A2;&nbsp;&nbsp;</a><a class=\"ProveItLink\" href=\"../../../__pv_it/axioms/89494bd05e0b50b4325c540094323951495b84890/expr.ipynb\"><img src=\"data:image/png;base64,iVBORw0KGgoAAAANSUhEUgAAAFoAAAAUBAMAAAD/1DctAAAAMFBMVEX///+6uroQEBCqqqqIiIgy\n",
       "MjJERETu7u6YmJjMzMxUVFTc3Nx2dnYiIiJmZmYAAAAutVgsAAAAAXRSTlMAQObYZgAAAWZJREFU\n",
       "KM9jYIAD7gYGvIB5AzKvDEJNhVA8UROApACY3fV/3as0AYbVyKqjIVQ8hIrq0QCSCyAcNQYGvp8M\n",
       "pUiKOR5AqPgCMOXAUHqAgRuimvMHAwPjPwYeB4RqXoizit+DaS4gTtuwdQJYjOU3UPsXBnYFhOq9\n",
       "EKrBH+xWPpDT/3+GiLEBlRVdZ2AIRKj2A5OMBfaIoKmE0vwLGDhvAR14DqE6A0wWMsx3wAi7+Sta\n",
       "cg2AdCvD27tAcAfIvAyWEGDYD/YtTygYQHzuv4GBXQtI20I07wJiRbDv171bn4BhdhJIB9Dw+Wiq\n",
       "GRkYmAIwVP8CqXZAUQ12CdAAXgV0xaDgZlgPDCpZhGqQL7mBqlk/ILl7ASy4Ob+BfQnRzQAJHlCY\n",
       "s/1GN5sVaJtQOpDxBiEGtKbsfzgDc/7fB6iKueJ/vVuWDGJFYsQ8HsB+ASNV4QHIqYohm5DqUiy5\n",
       "ATdAMY5QTuPYwAAAQHFZkH2tWnoAAAAASUVORK5CYII=\n",
       "\" style=\"display:inline;vertical-align:middle;\" /></a></span></td></tr>\n",
       "<tr><td><a name=\"0x66ca5459b4b9138a_step4\">4</a></td><td>instantiation</td><td><a href=\"#0x66ca5459b4b9138a_step5\">5</a></td><td><span style=\"font-size:20px;\"> <a class=\"ProveItLink\" href=\"../../../__pv_it/_proof_fold_set_not_equiv/29d238ccbcb08e564035373d793d4dcd95e0b7050/proof.ipynb\" style=\"text-decoration: none\">&nbsp;&#x22A2;&nbsp;&nbsp;</a><a class=\"ProveItLink\" href=\"../../../__pv_it/axioms/e9c043611753e20b036bed6fd8c53c7772aa40db0/expr.ipynb\"><img src=\"data:image/png;base64,iVBORw0KGgoAAAANSUhEUgAAANEAAAAUBAMAAADhMcXbAAAAMFBMVEX///9UVFTMzMx2dna6uroQ\n",
       "EBCqqqqIiIgiIiJmZmYyMjJERETu7u6YmJjc3NwAAAC+aOQFAAAAAXRSTlMAQObYZgAAAsZJREFU\n",
       "SMelVU1oE0EUfkk2mzTZjcVb/Wu8iR6Si7QVxHgrqOghiNRLj4pQey0emqKV7UVTPOXUWu1BkTYH\n",
       "BUHS5GBFzKU3UVDrRXoRGxBbf+Ob92Y2s7smDTjw9k0mM9/35r1vZgBSa9CxmevBMc+az53Xw5g0\n",
       "qPPvw62/bOn6G6W9jwEOBBfXtb5VJhee55/HduPH0AFCGKowWOIZy621R6SPIsZcGl4FmZa0foL3\n",
       "nNhkt/8o7jekA1gYgzC7yPzLNeGM29cRJ8ITM7jmbBEi434iuYbbG3Zvf5F7DdY9gI8egAHsosU5\n",
       "pBdz5A+NnTxvF2VyJnHowzhY5/xMcb10tziHl/+Q7wVIrqQWPACr2EXb4MG1yZxw+5Bs8cwNHnuC\n",
       "ABdwq/f9TBu6OAq8zdhX8mK3J5qjHoAEQqNN0JhRu0pyEol6OpLjiQ2kRWoY8jNNaP0YZ/K0+bul\n",
       "kTR4ACJFsgqNPYeMqkZKigjCjXfXblIJxCfykBrhVjSmJEVo5cJbAd0oAHuejLAgB19UlUM5FS1m\n",
       "fhXzDpf8ELimxxEtizWjTBmQ+s4ip3geeADMAlme2PtK/WWfxiGJSoh9ExLyM+XV9hEmSoEdLM3+\n",
       "DOxJAYQ3yfIcEkQpaYOOs+04UzRxF+LEtrpjws9IgEkBSCbKHmYgLrVsZ9VEcRpCQlHDWp16ZfZc\n",
       "JsqeiTYdYFIARoFMVDc16p5xiNfURHEaMmWlCL1VNCZSxCf3kuE63fUASEUMyfOR5JMHx128RYzk\n",
       "ouC942dyZZ9mCdOZqgZuYgXQkyXD1NSbj8CsbgvxDU5jmbhOe5p9s89IWAt+iGGtj2mxqj9qcKU5\n",
       "45vlAiTSZHFvKK7Gtcu60MVt1Km9ZPPclgCnghO7u2E7NHnDwkrb90C2f7wa+prk+g5E6tXwvGoA\n",
       "tc6w7V/C9k2EQuHs9Lrb//u6v2f7C13O3I8tn9vnAAAAAElFTkSuQmCC\n",
       "\" style=\"display:inline;vertical-align:middle;\" /></a></span></td></tr>\n",
       "<tr><td>&nbsp;</td><td colspan=4 style=\"text-align:left\"><span style=\"font-size:20px;\"><a class=\"ProveItLink\" href=\"../../../../../../__pv_it/common/e4aad701f7f5516d8e7f0d805d518bf02c13322a0/expr.ipynb\"><img src=\"data:image/png;base64,iVBORw0KGgoAAAANSUhEUgAAAA8AAAAOBAMAAAACpFvcAAAALVBMVEX///8iIiIQEBBERERUVFS6\n",
       "urqIiIjc3NxmZmaqqqru7u6YmJgyMjLMzMwAAACK9jtgAAAAAXRSTlMAQObYZgAAAFtJREFUCNdj\n",
       "YACBOwxQcA5Kc59bAGGs7CuAMDbkBYBp1gXzNoAZSxnuJYAZAQx1DSCa16PDzwCshIGB6QCIMYGB\n",
       "gVEBSLMDGTwPgIxCIGZ+zsCw+N0pBk67hw0AfpEVEQi8t+wAAAAASUVORK5CYII=\n",
       "\" style=\"display:inline;vertical-align:middle;\" /></a> : <a class=\"ProveItLink\" href=\"../../../../../../__pv_it/common/e4aad701f7f5516d8e7f0d805d518bf02c13322a0/expr.ipynb\"><img src=\"data:image/png;base64,iVBORw0KGgoAAAANSUhEUgAAAA8AAAAOBAMAAAACpFvcAAAALVBMVEX///8iIiIQEBBERERUVFS6\n",
       "urqIiIjc3NxmZmaqqqru7u6YmJgyMjLMzMwAAACK9jtgAAAAAXRSTlMAQObYZgAAAFtJREFUCNdj\n",
       "YACBOwxQcA5Kc59bAGGs7CuAMDbkBYBp1gXzNoAZSxnuJYAZAQx1DSCa16PDzwCshIGB6QCIMYGB\n",
       "gVEBSLMDGTwPgIxCIGZ+zsCw+N0pBk67hw0AfpEVEQi8t+wAAAAASUVORK5CYII=\n",
       "\" style=\"display:inline;vertical-align:middle;\" /></a>, <a class=\"ProveItLink\" href=\"../../../../../../__pv_it/common/4eca3b30dcf58a58494e201d1b7886d8643a617b0/expr.ipynb\"><img src=\"data:image/png;base64,iVBORw0KGgoAAAANSUhEUgAAABAAAAAOBAMAAADUAYG5AAAALVBMVEX///8yMjKqqqoiIiLu7u7c\n",
       "3NyIiIjMzMwQEBC6urpERERmZmZUVFSYmJgAAACsPVCVAAAAAXRSTlMAQObYZgAAAGxJREFUCNdj\n",
       "YGC48+70nlUTGICgi4GB+zmQZn/LwMD5Gshge8rAwPsMyOBqYGDwMAEy+A4wsNs4ABl1Z68tVgBp\n",
       "ygtgYOkBMVaAOCChNyBGAsQYhnMTIMawvwJyGIHGzFjCwMAj92b3qUUMDAAXABxvZ4rl5AAAAABJ\n",
       "RU5ErkJggg==\n",
       "\" style=\"display:inline;vertical-align:middle;\" /></a> : <a class=\"ProveItLink\" href=\"../../../../../../__pv_it/common/4eca3b30dcf58a58494e201d1b7886d8643a617b0/expr.ipynb\"><img src=\"data:image/png;base64,iVBORw0KGgoAAAANSUhEUgAAABAAAAAOBAMAAADUAYG5AAAALVBMVEX///8yMjKqqqoiIiLu7u7c\n",
       "3NyIiIjMzMwQEBC6urpERERmZmZUVFSYmJgAAACsPVCVAAAAAXRSTlMAQObYZgAAAGxJREFUCNdj\n",
       "YGC48+70nlUTGICgi4GB+zmQZn/LwMD5Gshge8rAwPsMyOBqYGDwMAEy+A4wsNs4ABl1Z68tVgBp\n",
       "ygtgYOkBMVaAOCChNyBGAsQYhnMTIMawvwJyGIHGzFjCwMAj92b3qUUMDAAXABxvZ4rl5AAAAABJ\n",
       "RU5ErkJggg==\n",
       "\" style=\"display:inline;vertical-align:middle;\" /></a></span></td></tr><tr><td><a name=\"0x66ca5459b4b9138a_step5\">5</a></td><td>axiom</td><td></td><td><span style=\"font-size:20px;\"> <a class=\"ProveItLink\" href=\"../../axioms.ipynb#set_not_equiv_def\" style=\"text-decoration: none\">&nbsp;&#x22A2;&nbsp;&nbsp;</a><a class=\"ProveItLink\" href=\"../../../__pv_it/axioms/9fbba3aef70e62e8b026689ec2d661fa9b201a500/expr.ipynb\"><img src=\"data:image/png;base64,iVBORw0KGgoAAAANSUhEUgAAARkAAAAVBAMAAACAi4frAAAAMFBMVEX///8QEBCIiIhmZma6urrM\n",
       "zMxUVFQiIiJERETc3Nzu7u6qqqp2dnaYmJgyMjIAAAAcRTyBAAAAAXRSTlMAQObYZgAAA8ZJREFU\n",
       "SMfFVk1IVFEUPs74Znwz89SFlGDFQIvalAOCbQIngpRAnJW1agYqsKBUDIfSSCFwtGRmZxDlSEVi\n",
       "UEGLapXkQuiPoSCIskYqIRcpav6FTeeee+97zzdvJqNFH3zvPu7vd88599wLkA9qijMfvAn7cTqu\n",
       "5R8Pj01Ms4qJHB2HBRFHjFpNFM2LVU0XAU7Yj5PwdFGh0ELgmwrhN0j/bzNHq2NBcOF2JJ+z+ukc\n",
       "ar4JImaM2sOiLMB1akJw136cRDG3XfEsFVMftuI3wpvKAZw/wIM6Ja8ww3bZi9ECnOx3JsmKwgud\n",
       "uJaPN4fRHw0B8Pntxul4w4uPq9Tih7ujoHI1yhpOOA/wFHQW4yq++/Zq3AlOxJ0aKg89PlChBYQj\n",
       "KrHqkx88pXbjdJzl/nqwwgoXMpa4HqI6B1ZpcwBDoFN7NjIykMNRA4KIVCX5+iQKmqw/w+u6cZHN\n",
       "uJkvduP0gG7h5nIssMLJQifzkzcV4TaGzqFBggaXY7HOHGq2C6JBk0/omDCn9GzjQQiLKA3lwZjd\n",
       "OAkH99pB75pedUuUJRFQ2plrAgaPA/RSI//WzY81SUP3CwLchLCMDjUtfpTFiZ0dFBJ0WL4TAqCP\n",
       "EQagXXiCylzWZsOnXvewGNHSBvdTMOP/AjdpKfhkIHQIsiM5KCPTFZS7RrcPsXh8aF0GxzijDKMY\n",
       "QxSThaDOWzWzuPNsYhmrxaAbHCT/BjelMwLeVTFrmSAoR6uauyznm9zuYCEQtqopk2ZErQUkvrGq\n",
       "ejnLNt1MEYpVZg36Um5qe9bGz4MfnGmrmkKclSrHo9GlaLRduh0ccxtTg59tWWoWmRr/ejVqupG2\n",
       "749Rl3sh2J20ego34Bbu00Z1t6NJXcy9tSYfRED3LldDnvIiW61iWLqBZtRZ2GIQeo/xTLCH+jTs\n",
       "2hkBSxSr9/VcCm4pldJNuEtGsRn9JjUUxVdlMjdrZnGnLFuiGB5QRngPlTTDK4AdctYxQZY/ilZ4\n",
       "3Ut9zUncTTnTtteqRj/yIX5sKefErbdrMVp7Xx8L1VGDUMLOrufzizjt+jLAoEzNtZzDmWnwxpfY\n",
       "QRhvxbDhcXOa3XnU86tVTa3pH83vif9KwqNM2/pOrhm8dC+RrJBB0JgKZxIGKV/jIWlIZN8MYD3f\n",
       "pku6ZQM3Qz7cNpGjHm2UUvtAXQV1i82tKVGXPdnGbs08MN2aIncsgxo/r1TA+HxVk7H9Xj1F270V\n",
       "BGxeFOYxRYk/iDG/KNa/43K/tgSS+ZfO/drKDSZXMutR+LcvUe1fX6LvTFyHFPxf/AayoiqRoMJc\n",
       "BAAAAABJRU5ErkJggg==\n",
       "\" style=\"display:inline;vertical-align:middle;\" /></a></span></td></tr>\n",
       "<tr><td>&nbsp;</td><td colspan=4 style-\"text-align:left\"><a class=\"ProveItLink\" href=\"../../axioms.ipynb#set_not_equiv_def\">proveit.logic.sets.equivalence.set_not_equiv_def</a></td></tr></table>"
      ],
      "text/plain": [
       "\tstep type\trequirements\tstatement\n",
       "0\tgeneralizaton\t1\t|- forall_{A, B | not(A equiv B)} (A not_equiv B)\n",
       "1\tinstantiation\t2, 3, 4\t{not(A equiv B)} |- A not_equiv B\n",
       "\tP : A not_equiv B, Q : not(A equiv B)\n",
       "2\ttheorem\t\t|- forall_{P, Q | Q, P = Q} P\n",
       "\tproveit.logic.equality.lhs_via_equality\n",
       "3\tassumption\t\t{not(A equiv B)} |- not(A equiv B)\n",
       "4\tinstantiation\t5\t|- (A not_equiv B) = not(A equiv B)\n",
       "\tA : A, B : B\n",
       "5\taxiom\t\t|- forall_{A, B} ((A not_equiv B) = not(A equiv B))\n",
       "\tproveit.logic.sets.equivalence.set_not_equiv_def"
      ]
     },
     "execution_count": 6,
     "metadata": {},
     "output_type": "execute_result"
    }
   ],
   "source": [
    "%qed"
   ]
  },
  {
   "cell_type": "code",
   "execution_count": null,
   "metadata": {},
   "outputs": [],
   "source": []
  }
 ],
 "metadata": {
  "kernelspec": {
   "display_name": "Python 3",
   "language": "python",
   "name": "python3"
  }
 },
 "nbformat": 4,
 "nbformat_minor": 0
}