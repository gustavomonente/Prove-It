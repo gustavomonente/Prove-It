{
 "cells": [
  {
   "cell_type": "markdown",
   "metadata": {},
   "source": [
    "Proof of <a class=\"ProveItLink\" href=\"../../../../../../_theory_nbs_/theory.ipynb\">proveit</a>.<a class=\"ProveItLink\" href=\"../../../../../_theory_nbs_/theory.ipynb\">logic</a>.<a class=\"ProveItLink\" href=\"../../../../_theory_nbs_/theory.ipynb\">sets</a>.<a class=\"ProveItLink\" href=\"../../theory.ipynb\">equivalence</a>.<a class=\"ProveItLink\" href=\"../../theorems.ipynb#union_with_elem_redundancy\">union_with_elem_redundancy</a> theorem\n",
    "========"
   ]
  },
  {
   "cell_type": "code",
   "execution_count": 1,
   "metadata": {},
   "outputs": [],
   "source": [
    "import proveit\n",
    "theory = proveit.Theory() # the theorem's theory"
   ]
  },
  {
   "cell_type": "code",
   "execution_count": 2,
   "metadata": {},
   "outputs": [
    {
     "data": {
      "text/html": [
       "Under these <a href=\"presumptions.txt\">presumptions</a>, we begin our proof of<br><strong id=\"union_with_elem_redundancy\">union_with_elem_redundancy:</strong> <a class=\"ProveItLink\" href=\"../../../__pv_it/theorems/7f18ebf7f0763aa3b6d72f7a3e303b7ed932c8010/expr.ipynb\"><img src=\"data:image/png;base64,iVBORw0KGgoAAAANSUhEUgAAAPAAAAAXBAMAAADHOt+bAAAAMFBMVEX///8QEBCIiIhmZma6urrM\n",
       "zMxUVFQiIiJERETc3Nzu7u6qqqp2dnaYmJgyMjIAAAAcRTyBAAAAAXRSTlMAQObYZgAAA1JJREFU\n",
       "SMe1Vk1IVFEUPvjmzTh33owubBOFkiARgpMVVGgYLtwETS0kKFAosxaFVIv+FtJqLKKBIiWoHkYi\n",
       "BtOEhIuIJqcf0CFmYa3KJigpqZgWRSph5/69/5Em9MJ577x77ne/987fuwDLOsLNQlEbdVj2Ecxx\n",
       "cQ/y1VB9qwBCiSI7UEOeKu9KIh4WAqPZ9JT9gwumvgPlKFe1mRheW/gDA6Fhkj7MlkT8RUh5DoYp\n",
       "E3MqYQw95qqXKEmuzrxdi9dOpnMQGgao73pLimOUC2zCO3UYc1rEi1irYYAaSKYhyIk5CA0RfF8t\n",
       "VQpxIMGF/MRI0p0ZW8CLmFRSzY8ST9yKMcdwEBrCEyMj/SV5ul+I7w8mb2xJYvhILwq1LC7wnBMg\n",
       "NPyOx8+XRFwrhCw+5xMO4sG6a/XoiKd0ImOg7oq8FyA0dAH0mbseyD6mH+FzsqnZyddCvSwEGhZ/\n",
       "JezEfgw3SYdPBPD+nk5Mu15bgNDQCiRvVl8UnrDcc65vhZAslXNCgLypXm0nfoAvrenavA/3jtD8\n",
       "G2N++M5GFCygMYooM5tBQOecVuJ7GWxHZwFk6lcJodFbsBHvO8Pqqpyv7EZ/d3iEioHQoOUC5mRF\n",
       "AkIO4vClG5j4cwApB3EaSezEsJNlbgUrokgneBBLEBqC+XZUxrfUUVBkDe8vnFir3duFTqbjwzMD\n",
       "K1xNcGN1HmQds17hZ9/awehZjNucPVWCqKHvEECZfjxAKcnGHy0m8QZ//hTfFu5UV4E9uUJYo0qa\n",
       "TmxmnVBmdUhvwO1EVk9bYkw9YICoYRRXq/BNbHu9xySORXJAouLP0C2JM1yUkwAv2EQSv9A3K4l3\n",
       "p67ATVnHTc74SlCTEZI55okYkIIlxhhy9XQ8foFW4X0JbuOi+A4e5mEPfn64/4guiYfWDTbnJPEn\n",
       "J7EEUUOYYtSCSj2RArXTQtwBMd7bHwG0O1umpchrG/mzq2X2FGlChuG2ltdgQFd6YVg3iIOFV5iF\n",
       "rNNsBXLR9ZNwD63S6yfhtVAahqbGJ2BPSrma3W5mNTm2qx7rmrpmW1PGPFH0ga3ZLfE/ThZruw6D\n",
       "+ZOyNpD1GGPvg4B7WE4gVUVfz2WwnFTK/+/oAyHbmStc7OjjMITh34hXcigrzvAXsvTxbygvGwsA\n",
       "AAAASUVORK5CYII=\n",
       "\" style=\"display:inline;vertical-align:middle;\" /></a><br>(see <a class=\"ProveItLink\" href=\"../../../__pv_it/theorems/cf9f5f1250be6b557a3d06b971149388bbd4dc680/dependencies.ipynb\">dependencies</a>)<br>"
      ],
      "text/plain": [
       "union_with_elem_redundancy: forall_{x, S | x in S} ((S union {x}) equiv S)"
      ]
     },
     "execution_count": 2,
     "metadata": {},
     "output_type": "execute_result"
    }
   ],
   "source": [
    "%proving union_with_elem_redundancy"
   ]
  },
  {
   "cell_type": "code",
   "execution_count": null,
   "metadata": {},
   "outputs": [],
   "source": []
  }
 ],
 "metadata": {
  "kernelspec": {
   "display_name": "Python 3",
   "language": "python",
   "name": "python3"
  }
 },
 "nbformat": 4,
 "nbformat_minor": 0
}