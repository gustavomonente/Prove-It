{
 "cells": [
  {
   "cell_type": "markdown",
   "metadata": {},
   "source": [
    "Proof of <a class=\"ProveItLink\" href=\"../../../../../../_theory_nbs_/theory.ipynb\">proveit</a>.<a class=\"ProveItLink\" href=\"../../../../../_theory_nbs_/theory.ipynb\">logic</a>.<a class=\"ProveItLink\" href=\"../../../../_theory_nbs_/theory.ipynb\">sets</a>.<a class=\"ProveItLink\" href=\"../../theory.ipynb\">equivalence</a>.<a class=\"ProveItLink\" href=\"../../theorems.ipynb#union_with_subset_redundancy\">union_with_subset_redundancy</a> theorem\n",
    "========"
   ]
  },
  {
   "cell_type": "code",
   "execution_count": 1,
   "metadata": {},
   "outputs": [],
   "source": [
    "import proveit\n",
    "theory = proveit.Theory() # the theorem's theory"
   ]
  },
  {
   "cell_type": "code",
   "execution_count": 2,
   "metadata": {},
   "outputs": [
    {
     "data": {
      "text/html": [
       "Under these <a href=\"presumptions.txt\">presumptions</a>, we begin our proof of<br><strong id=\"union_with_subset_redundancy\">union_with_subset_redundancy:</strong> <a class=\"ProveItLink\" href=\"../../../__pv_it/theorems/ba45cdc92efa67450967c9277791cb08587fbd630/expr.ipynb\"><img src=\"data:image/png;base64,iVBORw0KGgoAAAANSUhEUgAAAOYAAAAWBAMAAAAm1v2RAAAAMFBMVEX///8QEBCIiIhmZma6urrM\n",
       "zMxUVFQiIiJERETc3Nzu7u6qqqp2dnaYmJgyMjIAAAAcRTyBAAAAAXRSTlMAQObYZgAAAy1JREFU\n",
       "SMe9Vk1oE1EQHrOJzf61nqVirp66UrBYCg0KelJjoZ7EVqpC8WDAk6CQi5IoJQtCzcV2wb9SNY0U\n",
       "9CDSgCi15rCgeFFrQNtDD7YFa2triTPvvU1216Ykig7M7uz7ZvPNe/OzAfgzuSm0mqjmJkCRjI/1\n",
       "UioJrqB2FPSoHz2B2s9NbTaGV+ExXsi/JeA1PczVy9locoUBUNIUA1u1BDqPmuXm7IcdeO1ldtiG\n",
       "kQUCMvggJ+rlfCNUMgCmKQa2WuSgPo/kWoSZEcjmQeacrfhcJKCR8Fy9nBeEjuHJ7cN7A1uNc/B+\n",
       "J56Aso3MrahJcyjG8rEEEIwQoE+Njt6ol1KOc4UjNkC3n9Nuofx9IVOilJbW2HJwHSAUY8BKMnmx\n",
       "Xs6AwRXGfrIteDiD1gRGAs/L3ndE3ZVesDsCpwFSaB0vPOOvp7iHU4zhStGXXagamEKgVOr3c96G\n",
       "Hsrl9G+RtpS+mxzYDwrmPmjABC+Ab9zBKatPSP4gmbzickGKHFeAhycXLR9nFIbpCJ6wVvnKxOAb\n",
       "fbdzOwcaIIARN1gQZsCtdQ+n0mlD6DInclwAtkS5knTmvJyhvtZz9HLPBjmR1jig2fRCkwkqW546\n",
       "7+HU7hkOU9mlwqlRSn2cQYSKG3HmcQeCUy4eowZr5mGHIkkPZ1c4AU/FHGguDxznbO/ST1hOfyqs\n",
       "PwmiPjnoH13YpKFVAaRO0cruxShvqDYPZ68Uh73iJeHiqqFHaHewQyNEpbTJyNm44NSQyCfNBBUD\n",
       "kfICGOepH2S399Di5tRzgQV45YQ6KBoQNINrmwEamzHKDF4O046p18M/nFjcucSkvQQBNGFlKzFQ\n",
       "KDjlcyFtuTizHZOrbNBUXFjO4lyNA3vO8pWha92Pr+J9pDQHanoZ45nxcwb7zrBSJ0BHEjUHIQpY\n",
       "smA45uJsB3lJtKjj4pl9Felq3eVNX7zaJ8kBpASMWBkLDuG27QpnEO11UAZMx8U/46sLn/GbAdL1\n",
       "QjsczYVXQE5fqnCmE5BZtkGdxJnAXMA1ncLmZpzZGgH35yVR2ze7qqRqAzz/JxJ/999EN2sDdNiY\n",
       "M5NEgf8gxr/76V+Ufe6jeYtCXQAAAABJRU5ErkJggg==\n",
       "\" style=\"display:inline;vertical-align:middle;\" /></a><br>(see <a class=\"ProveItLink\" href=\"../../../__pv_it/theorems/2a3e69f5dda49b186c530fae32169bcf63abbb780/dependencies.ipynb\">dependencies</a>)<br>"
      ],
      "text/plain": [
       "union_with_subset_redundancy: forall_{S, A | A subseteq S} ((S union A) equiv S)"
      ]
     },
     "execution_count": 2,
     "metadata": {},
     "output_type": "execute_result"
    }
   ],
   "source": [
    "%proving union_with_subset_redundancy"
   ]
  },
  {
   "cell_type": "code",
   "execution_count": null,
   "metadata": {},
   "outputs": [],
   "source": []
  }
 ],
 "metadata": {
  "kernelspec": {
   "display_name": "Python 3",
   "language": "python",
   "name": "python3"
  }
 },
 "nbformat": 4,
 "nbformat_minor": 0
}