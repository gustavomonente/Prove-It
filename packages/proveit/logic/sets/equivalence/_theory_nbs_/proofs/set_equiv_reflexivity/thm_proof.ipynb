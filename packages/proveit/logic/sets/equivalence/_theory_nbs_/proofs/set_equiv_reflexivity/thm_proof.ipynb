{
 "cells": [
  {
   "cell_type": "markdown",
   "metadata": {},
   "source": [
    "Proof of <a class=\"ProveItLink\" href=\"../../../../../../_theory_nbs_/theory.ipynb\">proveit</a>.<a class=\"ProveItLink\" href=\"../../../../../_theory_nbs_/theory.ipynb\">logic</a>.<a class=\"ProveItLink\" href=\"../../../../_theory_nbs_/theory.ipynb\">sets</a>.<a class=\"ProveItLink\" href=\"../../theory.ipynb\">equivalence</a>.<a class=\"ProveItLink\" href=\"../../theorems.ipynb#set_equiv_reflexivity\">set_equiv_reflexivity</a> theorem\n",
    "========"
   ]
  },
  {
   "cell_type": "code",
   "execution_count": 1,
   "metadata": {},
   "outputs": [],
   "source": [
    "import proveit\n",
    "from proveit import A, B\n",
    "from proveit.logic import Equals, SubsetEq\n",
    "from proveit.logic.sets.equivalence  import set_equiv_def\n",
    "theory = proveit.Theory() # the theorem's theory"
   ]
  },
  {
   "cell_type": "code",
   "execution_count": 2,
   "metadata": {},
   "outputs": [
    {
     "data": {
      "text/html": [
       "Under these <a href=\"presumptions.txt\">presumptions</a>, we begin our proof of<br><strong id=\"set_equiv_reflexivity\">set_equiv_reflexivity:</strong> <a class=\"ProveItLink\" href=\"../../../__pv_it/theorems/b3aebcfe469506e10b960f2fa7640c920413b07c0/expr.ipynb\"><img src=\"data:image/png;base64,iVBORw0KGgoAAAANSUhEUgAAAGwAAAAUBAMAAACaOcVSAAAAMFBMVEX///8QEBCIiIhmZma6urrM\n",
       "zMxUVFQiIiJERETc3Nzu7u6qqqp2dnaYmJgyMjIAAAAcRTyBAAAAAXRSTlMAQObYZgAAAcRJREFU\n",
       "OMuFVDtLA0EQ/oyJyV1ymj+g3D8wENBGULAQBCGVpRHUwsqIlaCQMqnuOgVRD1SQCEGw0E7BLloc\n",
       "WPog4KOwUFHBqGic2bsV10QzMPtNdu6bnRcB6sgy/pWoDZTZOFeu9ayAkHAhdpOis086R0gngSO2\n",
       "bxVaq+3Bg4Cbs3Y6R6XznrQILBJoWYV24sHFG5+GieIBNEkz7h1KwEQrw7ZCm/VS3XllaCHN2Ssp\n",
       "37fVS6nocRilQmFBYWkZL27gmaGZy6u+S6fbyVVeAZVcbk6hBRICBqMf31cb0gg6+y7BITAB5MVV\n",
       "3ndFXJFjX+ixtvfrSJtcNtAPXXTaePZdYVFpENqT6P+dEC8DmsMqW7v0FQIi/JrMqUnMaDjZVal5\n",
       "LDSWnOKupymcGxZXpRmFRkdHDS1I3rJH08rDIpCZ+5lklHS6hkaecJxwgFsx7s2n+2dLlvyFkLWJ\n",
       "cWvb/u5QS7Aj5nSKTp8WS/izs+xfj/F8I7wEPaRt3FL98thy/AIy0K1PB3vVGZW1Wb1F1HqhqNfc\n",
       "ef682cFqSlmuf0TPSGuIXnXVVf5bYqZsQwWaNS9/2A1oxfo5ZBvQ8vWvG/wpGDa+AFcIdm0gvh3x\n",
       "AAAAAElFTkSuQmCC\n",
       "\" style=\"display:inline;vertical-align:middle;\" /></a><br>(see <a class=\"ProveItLink\" href=\"../../../__pv_it/theorems/5608237d3e5a0550a42edd85a31f2d24861bcda60/dependencies.ipynb\">dependencies</a>)<br>"
      ],
      "text/plain": [
       "set_equiv_reflexivity: forall_{A} (A equiv A)"
      ]
     },
     "execution_count": 2,
     "metadata": {},
     "output_type": "execute_result"
    }
   ],
   "source": [
    "%proving set_equiv_reflexivity"
   ]
  },
  {
   "cell_type": "code",
   "execution_count": 3,
   "metadata": {},
   "outputs": [
    {
     "data": {
      "text/html": [
       "<table><tr><th>&nbsp;</th><th>step type</th><th>requirements</th><th>statement</th></tr>\n",
       "<tr><td><a name=\"-0x11fff799c9006d26_step0\">0</a></td><td>generalizaton</td><td><a href=\"#-0x11fff799c9006d26_step1\">1</a></td><td><span style=\"font-size:20px;\"> <a class=\"ProveItLink\" href=\"../../../__pv_it/_proof_set_equiv_reflexivity/ed832623379f9428a6221530a80ac8a6fd749e3f0/proof.ipynb\" style=\"text-decoration: none\">&nbsp;&#x22A2;&nbsp;&nbsp;</a><a class=\"ProveItLink\" href=\"../../../__pv_it/theorems/b3aebcfe469506e10b960f2fa7640c920413b07c0/expr.ipynb\"><img src=\"data:image/png;base64,iVBORw0KGgoAAAANSUhEUgAAAGwAAAAUBAMAAACaOcVSAAAAMFBMVEX///8QEBCIiIhmZma6urrM\n",
       "zMxUVFQiIiJERETc3Nzu7u6qqqp2dnaYmJgyMjIAAAAcRTyBAAAAAXRSTlMAQObYZgAAAcRJREFU\n",
       "OMuFVDtLA0EQ/oyJyV1ymj+g3D8wENBGULAQBCGVpRHUwsqIlaCQMqnuOgVRD1SQCEGw0E7BLloc\n",
       "WPog4KOwUFHBqGic2bsV10QzMPtNdu6bnRcB6sgy/pWoDZTZOFeu9ayAkHAhdpOis086R0gngSO2\n",
       "bxVaq+3Bg4Cbs3Y6R6XznrQILBJoWYV24sHFG5+GieIBNEkz7h1KwEQrw7ZCm/VS3XllaCHN2Ssp\n",
       "37fVS6nocRilQmFBYWkZL27gmaGZy6u+S6fbyVVeAZVcbk6hBRICBqMf31cb0gg6+y7BITAB5MVV\n",
       "3ndFXJFjX+ixtvfrSJtcNtAPXXTaePZdYVFpENqT6P+dEC8DmsMqW7v0FQIi/JrMqUnMaDjZVal5\n",
       "LDSWnOKupymcGxZXpRmFRkdHDS1I3rJH08rDIpCZ+5lklHS6hkaecJxwgFsx7s2n+2dLlvyFkLWJ\n",
       "cWvb/u5QS7Aj5nSKTp8WS/izs+xfj/F8I7wEPaRt3FL98thy/AIy0K1PB3vVGZW1Wb1F1HqhqNfc\n",
       "ef682cFqSlmuf0TPSGuIXnXVVf5bYqZsQwWaNS9/2A1oxfo5ZBvQ8vWvG/wpGDa+AFcIdm0gvh3x\n",
       "AAAAAElFTkSuQmCC\n",
       "\" style=\"display:inline;vertical-align:middle;\" /></a></span></td></tr>\n",
       "<tr><td><a name=\"-0x11fff799c9006d26_step1\">1</a></td><td>instantiation</td><td><a href=\"#-0x11fff799c9006d26_step2\">2</a>, <a href=\"#-0x11fff799c9006d26_step3\">3</a></td><td><span style=\"font-size:20px;\"> <a class=\"ProveItLink\" href=\"../../../__pv_it/_proof_set_equiv_reflexivity/202f4ae7cced41bf33b75f1315ac9d17de6bebb20/proof.ipynb\" style=\"text-decoration: none\">&nbsp;&#x22A2;&nbsp;&nbsp;</a><a class=\"ProveItLink\" href=\"../../../__pv_it/theorems/aa30c996e77e7b7b9d4d4fe2e4ab61eaecc158490/expr.ipynb\"><img src=\"data:image/png;base64,iVBORw0KGgoAAAANSUhEUgAAADsAAAAOBAMAAABjvHmeAAAAMFBMVEX///92dnYiIiIQEBBERERU\n",
       "VFS6urqIiIjc3NxmZmaqqqru7u6YmJgyMjLMzMwAAADiRdoGAAAAAXRSTlMAQObYZgAAALJJREFU\n",
       "GNNjYACBt2CSgfHqAyCZwAAFb2GM+xDq6kEbIBmAJsrAc38DmCpg2CvAwBGAKsrAsGt+A4hiBWKX\n",
       "ht4HDCiiDAwH6sH2cYKs//8LZjZUlIFtw/oDMDGGfTAGXHQbw/sCBgwAF01g6J8A9tddMJjAgCLK\n",
       "Fzkz3gFDM1yUjYGB+QKGNFx0AQMDkwGGNEyUA8jg/YBkNzhY4KJNQMzyA10zTHTL/9sMXP6fJqDK\n",
       "wkQBwilE6wggmQgAAAAASUVORK5CYII=\n",
       "\" style=\"display:inline;vertical-align:middle;\" /></a></span></td></tr>\n",
       "<tr><td>&nbsp;</td><td colspan=4 style=\"text-align:left\"><span style=\"font-size:20px;\"><a class=\"ProveItLink\" href=\"../../../../../../__pv_it/common/e4aad701f7f5516d8e7f0d805d518bf02c13322a0/expr.ipynb\"><img src=\"data:image/png;base64,iVBORw0KGgoAAAANSUhEUgAAAA8AAAAOBAMAAAACpFvcAAAALVBMVEX///8iIiIQEBBERERUVFS6\n",
       "urqIiIjc3NxmZmaqqqru7u6YmJgyMjLMzMwAAACK9jtgAAAAAXRSTlMAQObYZgAAAFtJREFUCNdj\n",
       "YACBOwxQcA5Kc59bAGGs7CuAMDbkBYBp1gXzNoAZSxnuJYAZAQx1DSCa16PDzwCshIGB6QCIMYGB\n",
       "gVEBSLMDGTwPgIxCIGZ+zsCw+N0pBk67hw0AfpEVEQi8t+wAAAAASUVORK5CYII=\n",
       "\" style=\"display:inline;vertical-align:middle;\" /></a> : <a class=\"ProveItLink\" href=\"../../../../../../__pv_it/common/e4aad701f7f5516d8e7f0d805d518bf02c13322a0/expr.ipynb\"><img src=\"data:image/png;base64,iVBORw0KGgoAAAANSUhEUgAAAA8AAAAOBAMAAAACpFvcAAAALVBMVEX///8iIiIQEBBERERUVFS6\n",
       "urqIiIjc3NxmZmaqqqru7u6YmJgyMjLMzMwAAACK9jtgAAAAAXRSTlMAQObYZgAAAFtJREFUCNdj\n",
       "YACBOwxQcA5Kc59bAGGs7CuAMDbkBYBp1gXzNoAZSxnuJYAZAQx1DSCa16PDzwCshIGB6QCIMYGB\n",
       "gVEBSLMDGTwPgIxCIGZ+zsCw+N0pBk67hw0AfpEVEQi8t+wAAAAASUVORK5CYII=\n",
       "\" style=\"display:inline;vertical-align:middle;\" /></a>, <a class=\"ProveItLink\" href=\"../../../../../../__pv_it/common/4eca3b30dcf58a58494e201d1b7886d8643a617b0/expr.ipynb\"><img src=\"data:image/png;base64,iVBORw0KGgoAAAANSUhEUgAAABAAAAAOBAMAAADUAYG5AAAALVBMVEX///8yMjKqqqoiIiLu7u7c\n",
       "3NyIiIjMzMwQEBC6urpERERmZmZUVFSYmJgAAACsPVCVAAAAAXRSTlMAQObYZgAAAGxJREFUCNdj\n",
       "YGC48+70nlUTGICgi4GB+zmQZn/LwMD5Gshge8rAwPsMyOBqYGDwMAEy+A4wsNs4ABl1Z68tVgBp\n",
       "ygtgYOkBMVaAOCChNyBGAsQYhnMTIMawvwJyGIHGzFjCwMAj92b3qUUMDAAXABxvZ4rl5AAAAABJ\n",
       "RU5ErkJggg==\n",
       "\" style=\"display:inline;vertical-align:middle;\" /></a> : <a class=\"ProveItLink\" href=\"../../../../../../__pv_it/common/e4aad701f7f5516d8e7f0d805d518bf02c13322a0/expr.ipynb\"><img src=\"data:image/png;base64,iVBORw0KGgoAAAANSUhEUgAAAA8AAAAOBAMAAAACpFvcAAAALVBMVEX///8iIiIQEBBERERUVFS6\n",
       "urqIiIjc3NxmZmaqqqru7u6YmJgyMjLMzMwAAACK9jtgAAAAAXRSTlMAQObYZgAAAFtJREFUCNdj\n",
       "YACBOwxQcA5Kc59bAGGs7CuAMDbkBYBp1gXzNoAZSxnuJYAZAQx1DSCa16PDzwCshIGB6QCIMYGB\n",
       "gVEBSLMDGTwPgIxCIGZ+zsCw+N0pBk67hw0AfpEVEQi8t+wAAAAASUVORK5CYII=\n",
       "\" style=\"display:inline;vertical-align:middle;\" /></a></span></td></tr><tr><td><a name=\"-0x11fff799c9006d26_step2\">2</a></td><td>theorem</td><td></td><td><span style=\"font-size:20px;\"> <a class=\"ProveItLink\" href=\"../set_equiv_fold/thm_proof.ipynb\" style=\"text-decoration: none\">&nbsp;&#x22A2;&nbsp;&nbsp;</a><a class=\"ProveItLink\" href=\"../../../__pv_it/theorems/03a99f67936f74839877367df9fe0513558edfba0/expr.ipynb\"><img src=\"data:image/png;base64,iVBORw0KGgoAAAANSUhEUgAAASMAAAAWBAMAAAB5zue0AAAAMFBMVEX///8QEBCIiIhmZma6urrM\n",
       "zMxUVFQiIiJERETc3Nzu7u6qqqp2dnaYmJgyMjIAAAAcRTyBAAAAAXRSTlMAQObYZgAAA/xJREFU\n",
       "SMe9VmtoE0EQHpNckstd0v4SwQcBQUVbLdQH/hAiQhFRPPxR/SEa0EItqBVFVBSqf7y2Qu+XiqI9\n",
       "ERUqaEERCwolIkKVclQRxQcBoaCgLValVrTOzO498vAFkmFud29nZ/bbmdm5A6gsnfuDvA+fPA1e\n",
       "VQpRoo07hXcFfdjANsPjp5PblpoZiFoAD+n9XaUgpSzRjXI3/HImtlkhmgYQ/gwJBHsa39S2SkF6\n",
       "LLrXE9Qm03CtH1QBSfkOEBkDyCFgGx3YWylIB0X4bnylLoqPaZ03eC6EU8mPABewG+jpOVUpRGor\n",
       "d8nQJ+rClE6T34QoXo1wDqGLMLXGTfPwX9u0mAtJCe4J5aSG+xKq426N9t2TX5J9VRaU/RQxXNIE\n",
       "0M6Tol09dq+Zd42UQaQzF1A7aBn/rT8oYlMkvenOxB2OW0b5WGJ6686h45Q/SczvVZzlOP4knFoN\n",
       "ejWrs29tEXJJO5iDRFrLvbdogQuFKZSG3elYrzisOsYH/MAkPLfIgsRU7DWMbQxCjP2icGY4C9qE\n",
       "B0nBY5/0g9DPEyJF79Q7Uuuyt2CzO7h6b4VrCqUJec9hCju0sX7peImXjhIsRKxgfdCdGM8N7BUH\n",
       "SUM470ECLA9LfCcYxIKe9fW4WinPN02ufzrP2K4pkr4tgITNrBJIXwhSWkBS843sgbTJousGLLR9\n",
       "SK9N0y9aMWbILZljRIS7WUt4mQidrs/e0ITJ4JsiaW0wcBo+e0puAcVoN4KN0KVs3y6KxDKWra+d\n",
       "J9wcl23SL1qnmEP2rlgmJf1GWloWmk0kh+74/Gh+n/hKSVMohVvB9D6Lz0ggl7JuWVLGZXrDDS4W\n",
       "L2ARaw0CzA1A0o144AoxK/Aec0jMsFbE9SMNjJQDibqAKZpc7d7YOlmbuopLSQqv1MoOymVK1qo0\n",
       "ZeubR10crxMA3b0+pER2ra/XwAyAJ9qIXklLLfkRxd3pwFUWKAdM85hriqRb3AWtkOj6YcPtyb2F\n",
       "iKIjX+qbOxkbJWvSFre9mzMXi+l6y4cELS2g1tSKWG5ixgxUZGUQWohkF0XAUchdW7EyiuXCFOFs\n",
       "KPyg/I6ueKN1eDxH7QB1AtQZgcBBA97kSFu/uxy5W8/rGFBPC5JeYWgFdXQQ6+V9ruTCFElfFn12\n",
       "f0M5r6yOg9p1RJkOD8bqmzNBSDHcO5SWY5v48pPcAECnpwVhr3wfgsTOtTU2xCn00hRJF3v7WH/6\n",
       "ocoXTWiBsZ/WetwQ1zzUSyw/V5RLMjW9lQvcwTzKJV+aL/qF+zWVYO4rCyk8lJMFso25mO6W0SmQ\n",
       "as5f/+g+L55wykKCYMatK/V1nTeMOGWlF//Tv024zJxmERdRyC7vZl86/582/gl2QxmNFBXm2AAA\n",
       "AABJRU5ErkJggg==\n",
       "\" style=\"display:inline;vertical-align:middle;\" /></a></span></td></tr>\n",
       "<tr><td>&nbsp;</td><td colspan=4 style-\"text-align:left\"><a class=\"ProveItLink\" href=\"../set_equiv_fold/thm_proof.ipynb\">proveit.logic.sets.equivalence.set_equiv_fold</a></td></tr><tr><td><a name=\"-0x11fff799c9006d26_step3\">3</a></td><td>generalizaton</td><td><a href=\"#-0x11fff799c9006d26_step4\">4</a></td><td><span style=\"font-size:20px;\"> <a class=\"ProveItLink\" href=\"../../../__pv_it/_proof_set_equiv_reflexivity/2a3264b42d10dcc2cf3d489da9ceb219ec6c6f380/proof.ipynb\" style=\"text-decoration: none\">&nbsp;&#x22A2;&nbsp;&nbsp;</a><a class=\"ProveItLink\" href=\"../../../__pv_it/_proof_set_equiv_reflexivity/458ccfcecb6de9ce82d2e7b4fe6fe113f5249a500/expr.ipynb\"><img src=\"data:image/png;base64,iVBORw0KGgoAAAANSUhEUgAAANQAAAAUBAMAAAAHGA6fAAAAMFBMVEX///8QEBCIiIhmZma6urrM\n",
       "zMxUVFQiIiJERETc3Nzu7u6qqqp2dnaYmJgyMjIAAAAcRTyBAAAAAXRSTlMAQObYZgAAAqlJREFU\n",
       "SMeVVU1oE1EQHuOum2x2aw+eS2ihhyJULHpSDHoQe7GnHi34A+aiUQ8iSileTA6SPQgVRLoWqaVK\n",
       "CfTgz8VSLxJBAwrioSXgD1jQhqrYVrTO7LztvryXjXbg22Rnvpn3dmbePABNUlVGrDxuorvdgp/2\n",
       "GDV6mZctkwJNxUT+Nk9T2yNxDscQOcYLel+UjZ8FmkpbHePWdLUX57CEmGbcpJTJe3J3MZrLwho+\n",
       "5jT16zi+u+QDOJkAbfS3LBktjyHRr10cDhM1s4rPO1rESzF8uH8AQ9ntAdzK1NSoTBwViMpz1Y+i\n",
       "JL5TurJqJ+Vj+FDtJe4HxkqhcEV26xIY776xM0OKacmzP/0bn46a3wQq7M7cwTmVb/hPqZefMU4B\n",
       "FGW36wx71j1vBfXPSY2WNZfp2wL9y68k7+lvEuM9gLeZYYUPd2GItrvAOKR01GWG4ztrRlAyqWcM\n",
       "SH2jg5JXvsrCYlfglX9E4UMWxigDDxkWJBrO6w6GDUn2MTto82wb7Nu7Qqq6stQWLIgPBY1vnug7\n",
       "S1GGGE7VgiZLAWzPcMlH5E1CR9xSAMsa30BTLVoqVRuko7Kne6AhgWgTivZowiDOUYR8VKtPYQLB\n",
       "/KHyAdUWvR4WKJ7EFvLPWNmGtkj7vaglxe4Nz1vi9LvquKC2eJKoQ08jP1Xm8RK2BczgHk34EtpF\n",
       "Yx4tl8QMtcry6Slhq2ydVZbC7jd+Jes8pDf4wfFM0pnfJ8A1WQ3t4mMnOsf3c7vYp/v5t/THh0fr\n",
       "F3CnA8pSmFH7eE/XfAMfJtcXIV36iS34ERiuH1TajB1MxvNo0ARyr/Vg0vh2nhHImFNz/mvcBrKJ\n",
       "ccv55XHLMvFmrhIaiqDMD+1y0i+RpNfKQVwiurS8GmPixl+NLTf/zwv/3SYvfNcL8Bd+7MxZFUL6\n",
       "7wAAAABJRU5ErkJggg==\n",
       "\" style=\"display:inline;vertical-align:middle;\" /></a></span></td></tr>\n",
       "<tr><td><a name=\"-0x11fff799c9006d26_step4\">4</a></td><td>instantiation</td><td><a href=\"#-0x11fff799c9006d26_step5\">5</a></td><td><span style=\"font-size:20px;\"> <a class=\"ProveItLink\" href=\"../../../__pv_it/_proof_set_equiv_reflexivity/619f673f6ff86cb55c62fe7c1d16bc66aeb154b60/proof.ipynb\" style=\"text-decoration: none\">&nbsp;&#x22A2;&nbsp;&nbsp;</a><a class=\"ProveItLink\" href=\"../../../__pv_it/_proof_set_equiv_reflexivity/44757722e4b970748958d20c9c36d8e504ce1c060/expr.ipynb\"><img src=\"data:image/png;base64,iVBORw0KGgoAAAANSUhEUgAAAKIAAAAUBAMAAAD8T/tAAAAAMFBMVEX////MzMxUVFR2dna6uroQ\n",
       "EBCqqqqIiIgiIiJmZmYyMjJERETu7u6YmJjc3NwAAACgK8IjAAAAAXRSTlMAQObYZgAAAilJREFU\n",
       "OMuVlT1IHEEUx/+bW+8u2d2LpLS5Mohw2okx4HVaSLSwsroyopgjKUQQvEajFhJiESzES0iTENRO\n",
       "QcwtiV+cjaUKCVtISBNygmji93szeh+zzoIDM3f75jdv37yvBWLb0I/+W2R/AviwR8uWbtfIAvc8\n",
       "n9he0B2ooZmgOacDHhToeNYv9nQH5mnmAeeNDtg7o6XRJ97V8c68C4TSiFa80lkam7i5Xc8FrWu+\n",
       "g5MaHuuzpMruxO8K1y26JThyyHdMKgpjGQ2P7WFmP2KQ1o2X+6/SLMyXAe3hc1pDqlMiJLAHEq2N\n",
       "Km+6LzhrmrBCQIPzOipCkCgLadI4ZkuF/MlnHp/4r0XHvmMnPaHwWEWcrdrDKNnhhs5M4c6yxDAR\n",
       "+88JllFsjKaAp2hxnyk8kvjL93mOLjIHltwyutkUCTyafnvKooKisYqc5WLZxxu10/WsJc4agYdp\n",
       "6fWF8leiW6cROPbxJm1lhcZRfoxXS3FnqZxojjCYKfnxw82tYRyoPEgc5cc2jkzYHUZERO1dEfh1\n",
       "XQOOWjQcmb5IAUOVfCwli4wi0wR0pHLX5S8MKGZdjqJ1v0HRSOlkHlkF2V+KvEhri0tiiqzEt4GN\n",
       "GdmA7Lp2+Zs7cdF7OU7vrVY0khvsx0ODPyp4bF1+QTj3j4L9XqlCs7lUVWJsBlehj7czAZ1CjDt0\n",
       "CukUypqvQcAt3czygg7kgzqu5ri+4/Jg+wK/Cj/v+FVwPFwBe8ydpv+EOSIAAAAASUVORK5CYII=\n",
       "\" style=\"display:inline;vertical-align:middle;\" /></a></span></td></tr>\n",
       "<tr><td>&nbsp;</td><td colspan=4 style=\"text-align:left\"><span style=\"font-size:20px;\"><a class=\"ProveItLink\" href=\"../../../../../../__pv_it/common/a2581dc5df71d9a30bad37de14965fa5fec97a240/expr.ipynb\"><img src=\"data:image/png;base64,iVBORw0KGgoAAAANSUhEUgAAAAsAAAAJBAMAAAAWSsseAAAALVBMVEX///9mZmaqqqrMzMxEREQy\n",
       "MjIiIiKYmJh2dna6urrc3NxUVFSIiIju7u4AAACJHQtQAAAAAXRSTlMAQObYZgAAAEJJREFUCNdj\n",
       "YLhzeuWJAwy8Dew5bAEMHBc43nIuYOBlYHFgAAG+A2DKzgBIMF04x8BzgWGegh/DcgaG22fuiBcw\n",
       "AAATyhBrnyPYZQAAAABJRU5ErkJggg==\n",
       "\" style=\"display:inline;vertical-align:middle;\" /></a> : <a class=\"ProveItLink\" href=\"../../../__pv_it/axioms/5f054c7bcf30cd149db2c9cc7f9d8bc46ddfda8a0/expr.ipynb\"><img src=\"data:image/png;base64,iVBORw0KGgoAAAANSUhEUgAAADUAAAAPBAMAAAC2KZqIAAAAMFBMVEX///8QEBBmZmaqqqrMzMxE\n",
       "REQyMjIiIiKYmJh2dna6urrc3NxUVFSIiIju7u4AAAA6P00QAAAAAXRSTlMAQObYZgAAAMZJREFU\n",
       "GNNjYMAB3Bhwg3zcUhz5D1D54eVlMPZj/Q3IUiyxSEob7i8Akm/v7Lp5AcR9hiTF9cC+gYGBbwJH\n",
       "LXsCiH8ayYxXDP5A9ZwPOP9xgc0OQJJbwLBfAaiPgRUiyCKWBgRQqw8pnQeL8oNtY+BG0sfFwMAI\n",
       "tsffASIggJAzYGBgB3KZH9xn4AW7UBcuxQ2UY/vAwLDeIJ5hB1iE3QAmtx2IWX8zMLy5+1ajASzC\n",
       "d3QdROrp/zwG5vjvCsgBwzUVEWYgAACVrTGb/6vh/gAAAABJRU5ErkJggg==\n",
       "\" style=\"display:inline;vertical-align:middle;\" /></a></span></td></tr><tr><td><a name=\"-0x11fff799c9006d26_step5\">5</a></td><td>axiom</td><td></td><td><span style=\"font-size:20px;\"> <a class=\"ProveItLink\" href=\"../../../../../equality/_theory_nbs_/axioms.ipynb#equals_reflexivity\" style=\"text-decoration: none\">&nbsp;&#x22A2;&nbsp;&nbsp;</a><a class=\"ProveItLink\" href=\"../../../../../equality/__pv_it/axioms/1323d646948b67e1f22d6b53e3da8bd16e1229770/expr.ipynb\"><img src=\"data:image/png;base64,iVBORw0KGgoAAAANSUhEUgAAAGIAAAAUBAMAAACE8PXhAAAAMFBMVEX///8QEBCIiIhmZma6urrM\n",
       "zMxUVFQiIiJERETc3Nzu7u6qqqp2dnaYmJgyMjIAAAAcRTyBAAAAAXRSTlMAQObYZgAAAUFJREFU\n",
       "KM9jYMAAnBcYcALuCQwMD0CMu8iiKxjwgEwGhtMg+hWy4Et8OtYxMMwAuaMBSYzXAJ8OHgUGvgVA\n",
       "agOSGPsEfDq4BBh4T61aNR1ZbDoDXvCEgeFHR0cNspAyEC9Sm6KjgKYUKnaYgSGVgaETWaYXaPUB\n",
       "3iJ2UCDyvAMDkM9gYvcYGJwZuB4g66gGKlzA84sFzTswse1AnzIwoUSZCNA8Bo4GDC9DxeKBmi+w\n",
       "M6DpYGDgV8D0M0QMqIPzQRiQcchULQDuKqA4hAP1RwIDQswdiDtTGBiYFuSxO8B9zr1AHyiClqKg\n",
       "YkCfM2wuYGBgZXgLkwIGn/+Gfoa5aG6CidnA3fcTJgW0dpnSIlv0BAwTewpKSCD7WT+wEpdKCqCM\n",
       "+TwPeIhNiVA7rxw6BRPsJJDaMQHeHIXVOHy5lncCAwDGgVl+SYhJvAAAAABJRU5ErkJggg==\n",
       "\" style=\"display:inline;vertical-align:middle;\" /></a></span></td></tr>\n",
       "<tr><td>&nbsp;</td><td colspan=4 style-\"text-align:left\"><a class=\"ProveItLink\" href=\"../../../../../equality/_theory_nbs_/axioms.ipynb#equals_reflexivity\">proveit.logic.equality.equals_reflexivity</a></td></tr></table>"
      ],
      "text/plain": [
       "\tstep type\trequirements\tstatement\n",
       "0\tgeneralizaton\t1\t|- forall_{A} (A equiv A)\n",
       "1\tinstantiation\t2, 3\t|- A equiv A\n",
       "\tA : A, B : A\n",
       "2\ttheorem\t\t|- forall_{A, B | forall_{x} ((x in A) = (x in B))} (A equiv B)\n",
       "\tproveit.logic.sets.equivalence.set_equiv_fold\n",
       "3\tgeneralizaton\t4\t|- forall_{x} ((x in A) = (x in A))\n",
       "4\tinstantiation\t5\t|- (x in A) = (x in A)\n",
       "\tx : x in A\n",
       "5\taxiom\t\t|- forall_{x} (x = x)\n",
       "\tproveit.logic.equality.equals_reflexivity"
      ]
     },
     "execution_count": 3,
     "metadata": {},
     "output_type": "execute_result"
    }
   ],
   "source": [
    "%qed"
   ]
  },
  {
   "cell_type": "code",
   "execution_count": null,
   "metadata": {},
   "outputs": [],
   "source": []
  }
 ],
 "metadata": {
  "kernelspec": {
   "display_name": "Python 3",
   "language": "python",
   "name": "python3"
  }
 },
 "nbformat": 4,
 "nbformat_minor": 0
}