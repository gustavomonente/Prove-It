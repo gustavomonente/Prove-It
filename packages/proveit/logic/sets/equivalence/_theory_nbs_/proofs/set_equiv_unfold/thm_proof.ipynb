{
 "cells": [
  {
   "cell_type": "markdown",
   "metadata": {},
   "source": [
    "Proof of <a class=\"ProveItLink\" href=\"../../../../../../_theory_nbs_/theory.ipynb\">proveit</a>.<a class=\"ProveItLink\" href=\"../../../../../_theory_nbs_/theory.ipynb\">logic</a>.<a class=\"ProveItLink\" href=\"../../../../_theory_nbs_/theory.ipynb\">sets</a>.<a class=\"ProveItLink\" href=\"../../theory.ipynb\">equivalence</a>.<a class=\"ProveItLink\" href=\"../../theorems.ipynb#set_equiv_unfold\">set_equiv_unfold</a> theorem\n",
    "========"
   ]
  },
  {
   "cell_type": "code",
   "execution_count": 1,
   "metadata": {},
   "outputs": [],
   "source": [
    "import proveit\n",
    "from proveit import defaults\n",
    "from proveit.logic.sets.equivalence  import set_equiv_def\n",
    "theory = proveit.Theory() # the theorem's theory"
   ]
  },
  {
   "cell_type": "code",
   "execution_count": 2,
   "metadata": {},
   "outputs": [
    {
     "data": {
      "text/html": [
       "Under these <a href=\"presumptions.txt\">presumptions</a>, we begin our proof of<br><strong id=\"set_equiv_unfold\">set_equiv_unfold:</strong> <a class=\"ProveItLink\" href=\"../../../__pv_it/theorems/3a484cdf0e40e7752d28c7101862178d5ee4a5e60/expr.ipynb\"><img src=\"data:image/png;base64,iVBORw0KGgoAAAANSUhEUgAAAVAAAAAWCAMAAAChQDQuAAAAM1BMVEX///8/Pz8QEBCIiIhmZma6\n",
       "urrMzMxUVFQiIiJERETc3Nzu7u6qqqp2dnaYmJgyMjIAAAAtmB3VAAAAAXRSTlMAQObYZgAAA9pJ\n",
       "REFUWMPtWdmWrSgMtQVkhvz/115k0ETBoW61L908VM6qQ7LNJpOcafp6sRiXRxtNoPL1cmZ6BfRz\n",
       "hCpDVGKK27chfEKoF9MjUKupfLGWal8+YvQVQJAAknOptcAITSbnvGt7o/2M0Ceg0VD5YkWoVMVH\n",
       "u98BzIV/DgtCaDI5Z9r5GD19RugD0MCpfBNFEeoxefZg9zuABUpOCeAYocqcfg3cfUfoA1BlqOxy\n",
       "oVVaxzC0jkNVsvP981wA9OyzajsAwwhVrs4Fb9dl1PQhobeg7ZuLx1o069aLkJwWLZ3FbUdS7+zr\n",
       "uRKoLEEoMjsHel3Kf0noLSjjVFrGpBEM5bAdlF9hJwet1fnbfB4CDOyDzGQraSlCkdk5macYjSIf\n",
       "fxYauE9dDf/rfGydtOkoIkLPoAeLgUibmA+KTSj/Bi3cirXOsa2c7rgRLX4EOgP07S8gQ2BauemA\n",
       "UGR2TvBDQwyAKQs5xj2qRqdGQhXGiojQE+ixsjkifYoHn1qNMOOn2E/bQCPM3RayIUDffi2hdpYH\n",
       "hCKLc+tHts+DlgMeDnlWdWCHrjQFoblBIXxWRIQeQU/DiSBytaEJ7jJv4Ub+nYZELkFvAXU7BQ0A\n",
       "BvZrCU3EOopQZHHOh+Jf89gqXHlUTh8exxFaFYQWoZy3HyhiQg+gN4Tm6kVmoMHAVbbP8S2hJ4CB\n",
       "fZCNUDYm1MR0sPvRMHJUNg+wDFfoA1RTyEmsU+6UwOsoYkIRqGd8YXK5Svn8xHRHdyJqWu1Lofo1\n",
       "VJ6ATgDz1RQ6yVblGoJAKZ96g9zPKWFxFDoCWCrCkoQ9BWkKdbSdZz5SxITuoGk4kXFS4qopuXRM\n",
       "UPZupagztBtHX5VwU7rufmeAnv1tCl22otJpSskaYjC4qZjeDjYbUkNCNwWpy/qnPGNHkRC6gaa4\n",
       "iKdiSqcRkSqWhsM1hnLDmVK3yZ7fDoNjANV56YglbsWsG/ENocjmHKDpi3uvcQfKGw24AaEnhQtF\n",
       "QiguWXAaUWgmWcmYZZzepFiphSWXHAC5wLj0obaB+4utMcDRfgqZ2G5GdqcaQpHNubAHus0s7M9R\n",
       "CBHYZULoSeFCkRK6g64FffnBq6fwuvPqiTl58Pp3AXBrf0eo0h/nR1GOaC29Rheq8t/ZD1IeKcit\n",
       "5IeBYhfTQK4O/vcuRxDW71+ODBDQ5QhJ01xrjQYV0iCWQswrWOc6LQZNCStQoJ5iF9PKIDzzdvT2\n",
       "pc2PvX12ffcXAL3ru6v76NET/MK7/PN7X/tzOP37F8w3p37p3PAXhL8jlKmvfgIJ//pPIA2hShbV\n",
       "FaFDmI9uov87i/9PwXj9AVbtLHt/hX5YAAAAAElFTkSuQmCC\n",
       "\" style=\"display:inline;vertical-align:middle;\" /></a><br>(see <a class=\"ProveItLink\" href=\"../../../__pv_it/theorems/8ef8bde86cc9ef5d6f9c2dda6ff6fdbd9ae0aeaf0/dependencies.ipynb\">dependencies</a>)<br>"
      ],
      "text/plain": [
       "set_equiv_unfold: forall_{A, B | A equiv B} [forall_{x} ((x in A) = (x in B))]"
      ]
     },
     "execution_count": 2,
     "metadata": {},
     "output_type": "execute_result"
    }
   ],
   "source": [
    "%proving set_equiv_unfold"
   ]
  },
  {
   "cell_type": "code",
   "execution_count": 3,
   "metadata": {},
   "outputs": [
    {
     "data": {
      "text/html": [
       "<strong id=\"defaults.assumptions\">defaults.assumptions:</strong> <a class=\"ProveItLink\" href=\"../../../__pv_it/_proof_set_equiv_unfold/9ce3f9e8da0f3b161066d27410f2c30a1f33f62e0/expr.ipynb\"><img src=\"data:image/png;base64,iVBORw0KGgoAAAANSUhEUgAAAEgAAAAUBAMAAADcj2b4AAAAMFBMVEX///9UVFTMzMx2dna6uroQ\n",
       "EBCqqqqIiIgiIiJmZmYyMjJERETu7u6YmJjc3NwAAAC+aOQFAAAAAXRSTlMAQObYZgAAAVZJREFU\n",
       "KM9jYOC7wIAXsD0AEqchbC0IZSUEJFjATF75jzOltzAwyAHZ6yCy68Ekl6wp0GBGiBDrBgaG+QoM\n",
       "p4DqJ0C0rT8Aoq4z8CxmYHgIUaQPVO8/gYG5gIHjAVjg2HwwLcDAwL2PbxFEUT1Q6H4BA08AwwuI\n",
       "wIV6BxAFMtb+fwJEbCsDA08E0IIlDJVgPsuBfLgneRSgjI8MDBoyQNqSYS+Yf4RBvwDd70wf71a3\n",
       "gRi3GMAUgwPDe7AHrFaBwEqwGPs/BoajQEcyZDCEgDVJzpTfgG4SdwBQ4TeQLyGKgKHHugBdET/Q\n",
       "FPbvYEVg64De4QhAVwQKJsYvQIYH2OF8QEVcHxBuWggPJv0NYIdbAklQWHH/QzdpKdAZ0aB4mAw0\n",
       "i+H0/zUMbPt/TEBVI/VfcuJucLAugkULHsDTAItgPAAYwQz7CCk6hUh0uAHIFELJl/cBAwAYcVm8\n",
       "GsE/gQAAAABJRU5ErkJggg==\n",
       "\" style=\"display:inline;vertical-align:middle;\" /></a><br>"
      ],
      "text/plain": [
       "defaults.assumptions: (A equiv B)"
      ]
     },
     "execution_count": 3,
     "metadata": {},
     "output_type": "execute_result"
    }
   ],
   "source": [
    "defaults.assumptions = set_equiv_unfold.conditions"
   ]
  },
  {
   "cell_type": "code",
   "execution_count": 4,
   "metadata": {},
   "outputs": [
    {
     "data": {
      "text/html": [
       "<span style=\"font-size:20px;\"> <a class=\"ProveItLink\" href=\"../../axioms.ipynb#set_equiv_def\" style=\"text-decoration: none\">&nbsp;&#x22A2;&nbsp;&nbsp;</a><a class=\"ProveItLink\" href=\"../../../__pv_it/axioms/51cbac677b181b50a1c78ce62baa887012870ac30/expr.ipynb\"><img src=\"data:image/png;base64,iVBORw0KGgoAAAANSUhEUgAAAY4AAAAVBAMAAACj/BR7AAAAMFBMVEX///8QEBCIiIhmZma6urrM\n",
       "zMxUVFQiIiJERETc3Nzu7u6qqqp2dnaYmJgyMjIAAAAcRTyBAAAAAXRSTlMAQObYZgAABNlJREFU\n",
       "WMPVV11oHFUUPu7vzOxOkgfRglKGBrSEtlkM1BfFVR/UUsnqQ/Wti7WQCLGrDQatllYK2a3K7oPU\n",
       "gmgnFaoGiYE++PMU2wEl1XSpoFZtXakVFEmXxIaYUuO559zZ3dl7d7vtmwfOnNmZu9/c7/zNGYB2\n",
       "8o7UdvKZciU0n7kBKBUHzHKb9YkS6/lRMhVx7Zx+qbWPFSVa4UtzO/EQodPvVndszqchVmr+WzLd\n",
       "JYxd1kNpRKCrOPCBdrG9a2lg6ADAMLB6ZE6JW3/q4btKrOK0ymbkC9xdjG+vAQhfBqui8khOi7Wu\n",
       "Hkr3IERXceAP/eqb0B/3ZWAKT6eYB5rDIn4tHPWtVJTzK2TOgPUXwCF24lWMzCLACZUHAR5uAaUR\n",
       "Qldw7JR+9XZ05WAKkg6QemSE18h9GnlRKjrr+D9kswBGwbzIZYCX7AWACZUHBfiUHsqXH8bG/Agw\n",
       "uoITD8TPHh/by2f9eP0XB6weIPXI2LOTk2/paZg5VgES+pus8NDpVaZtIMbES5gUaZXHz5OTH+b0\n",
       "UFKe7GvYIqErOIFtRV+tpel+3Pit+Os3IPXYLOfzL+t5hFKsKFsSV+slK7tRdxaiL4hoplQe3fn8\n",
       "+IwGylo3/ADlj9VYkoyu4PSiHr3jzQ2O+DFVr7YlgCeeQXuS1WODDahAt/n48OLJIRlPo8yKT01H\n",
       "F9Q0HTkzLiJjU3rMzQu5IHnEMmA0ZoUP9RF871B2NHYniU44SYKZJ0pv4K0Z+/k44Q/XI7N0bv0e\n",
       "qipWj82DslPYnDl2DyR7ZH5Os4pGay5C025Fmlq3iEaeU+MRSVErqae6hJqF0+4jRKzhpkRXcHCz\n",
       "STe5EiHK9VYk6nICCxU+YfXYxCFEPn+PMyechcSK7G9pVoBtA5uXlXjsF1xwb9GqygNysDHQKiWU\n",
       "C3m+8Jjwh6xzia7g3IzxAEO+v9aKP9TqMnRFJASrxyZZjtPt2d3sOQfClWYeeFir8FgSPJwWPL6B\n",
       "nI4HgMzPxqYs0XU8sAodbhT1eGBdQmhB4WFWthFhhz31cQY2uU15lUB9TnkHi/jtwj1EcvWM+93n\n",
       "8W4Un5bsfXxnE1T0siTWMGBIdMKR9ZGVeYU7lF2lJ/D6iIkieIjVk6eFp6nw4G5aNbhxfbapOOFt\n",
       "1EvQtFuRptHlWp03xcM4hIe+WGU0CPV5qArUcMNObbmPruBgnSfcfgiRW++qXRavj+37lDqH4+TP\n",
       "n6Cfdwpwp7+fFCs1/mLzUNGFHrr/oNjSjIZHQngl01UOQkWuGFU5/O1pfLUQuoKDzXRwuiiny3jt\n",
       "Xf0rhm6N4HYPqydPKQOtC18XiffrAEfkX0SgUa3ivy58uro7+JDYJZzWXiNCGQ0ProNun7wP9VRf\n",
       "r5xJjx3g7K2jKziYLMfWHb2XeVtDW/jqs2I8pR1eZPXkqS0Awy4cIRxsBIOllsOETt4HHY8fKZUh\n",
       "0xJq6/hYpT1OcC6JfOXPJf5rJ8fqsWF5FJ1XNg+CuQLm7Z0Nd76c0PIQGVOdg5nOoTqeE/3HBOZE\n",
       "WYfLYBZfid4GXy4ODNXmHPFKNkrXoKGb2+Wdka0b3I6hNHN7oe2Dg3N78Bur5XdUazFKrXhcH5TR\n",
       "6XdUI8sC8yhc49uyk+/as+p8ufdGvmvPXud3rV1i3TRKJiBl+L/KfzsFnGr1z7ZrAAAAAElFTkSu\n",
       "QmCC\n",
       "\" style=\"display:inline;vertical-align:middle;\" /></a></span>"
      ],
      "text/plain": [
       "|- forall_{A, B} ((A equiv B) = [forall_{x} ((x in A) = (x in B))])"
      ]
     },
     "execution_count": 4,
     "metadata": {},
     "output_type": "execute_result"
    }
   ],
   "source": [
    "set_equiv_def"
   ]
  },
  {
   "cell_type": "code",
   "execution_count": 5,
   "metadata": {},
   "outputs": [
    {
     "data": {
      "text/html": [
       "<span style=\"font-size:20px;\"><a class=\"ProveItLink\" href=\"../../../__pv_it/theorems/4c7b25a3b66576c9a827a2728e2c8be0e4a0f2280/expr.ipynb\"><img src=\"data:image/png;base64,iVBORw0KGgoAAAANSUhEUgAAADsAAAAOBAMAAABjvHmeAAAAMFBMVEX///92dnYiIiIQEBBERERU\n",
       "VFS6urqIiIjc3NxmZmaqqqru7u6YmJgyMjLMzMwAAADiRdoGAAAAAXRSTlMAQObYZgAAAPVJREFU\n",
       "GNNjYACBt2CSQTYOSLCBmTzxX2eGuEGEGe6DSd4Y4QMMDKwQIWYHBob5DyBK728AUccZuC8yMLRC\n",
       "pN8DVeZPADN3zW8AUQEMDCweHPcg0vVAofMFYOaB+gQQBVIr/38BRNqZgYHbCGwo24b1B6COYOB+\n",
       "AGV8ZWB4FA1mbWN4X8CABvi+ninRgjATGPrBbpC9CwI3wWLsPxgYNgeAFUbOjHdA181iAFTyiwES\n",
       "DswX0KX5gTrZv4NYQKcyGaBLg7zN+g3I4ABK835A2H0V7u33ICubQDb9QNd9GWipCdDbW/7fZuDy\n",
       "/zQBVTb2f+RUF6CxANDgSAVVKmfiAAAAAElFTkSuQmCC\n",
       "\" style=\"display:inline;vertical-align:middle;\" /></a> <a class=\"ProveItLink\" href=\"../../../__pv_it/_proof_set_equiv_unfold/22d628ea89b150b7e80ba4e57cb12dc287dba0130/proof.ipynb\" style=\"text-decoration: none\">&nbsp;&#x22A2;&nbsp;&nbsp;</a><a class=\"ProveItLink\" href=\"../../../__pv_it/axioms/fed46afb5297061258a1c88f858d9c54708bb74a0/expr.ipynb\"><img src=\"data:image/png;base64,iVBORw0KGgoAAAANSUhEUgAAANUAAAAUBAMAAADo2mWhAAAAMFBMVEX///8QEBCIiIhmZma6urrM\n",
       "zMxUVFQiIiJERETc3Nzu7u6qqqp2dnaYmJgyMjIAAAAcRTyBAAAAAXRSTlMAQObYZgAAAsdJREFU\n",
       "SMeVVk1oE0EU/pru5mebbT2IeJJgwUMvLRY9CUY9iOKhXsSTEavQHrQ5GbQiKkJSRcxNL9ItiEqV\n",
       "IngQvSj1IhE0qPhzUAL+gAVNqLS2iNT3Zna7M7vdGB98y+6bb/a9efPN2wVClqrS5RqiraMc9jXj\n",
       "44GLGj98UEduEawzUfMOEIZD3gj+m6XBzaUs4pQc4xn7ZlTCN0JnOSpWnTAV8kbx1wLtc7BoQYyr\n",
       "XDU1K7uPLq+iQtl1B0hngu4IvvkHMH4C0xDo5Ll3lfEEp3hCe3+xcNq7v72Vhq1VwZdqfLwrFMTW\n",
       "ILZIs2eBCQjYlcnJKyqRH1J5Nblzjv9Q7c3S9XNQTiof+3u8uyQlNXGSFpSVWCiVTqnMbs6H6mit\n",
       "H97Oa8eUEspwHrFKnwRiaXzL3/2ugzCPc+H6JI4AY+q8S5wPvfAO3mZE6VTVXUeO9+oj3z//wfYJ\n",
       "QX7c10nu6Msi749dk9ghJOLbKO8ZESp44exihyqcLMZZOvcD69L4Sd/fW4a1hk9kXiKBWFWdt5rQ\n",
       "RrV1UJLbtY7Td7dusH+EQ+cCsVQ+9jJfpn+W41EeZkMiXU1gpVjArNx3ZV0GDdUiYnl8cYpcm+dY\n",
       "GT9WqraP1b9pw4BeQ5hz0qEInNwJftzp79dXBPlt2vHCCOVh5CUwdpiE5BxLZHVtPIw1IMS70Zc2\n",
       "vbKz4WlDMY3fvnzS+XiZC4o2cI8CmvjuEVjPpE/jd7IhurBMevnoJWk+tgRiaXxRGdm5qAbbLnD4\n",
       "xxLoEnksegSuD63XOtTTLVuyNbTbbcpLM+i4/IuE+CUQS+Pjxnl5IuP1+f6hiyLogARsHjEbZmSP\n",
       "Mp76PUpGzzfvUXuKBe0Y4aYLYePpWrql3itL1mrv9cztve6yX09XvHvuIslys6nhb0pzvvdNCVvz\n",
       "b6WXTUvfSiWTlbP55z+A/b//AO8l/gJ+ZtkoV3BKAAAAAABJRU5ErkJggg==\n",
       "\" style=\"display:inline;vertical-align:middle;\" /></a></span>"
      ],
      "text/plain": [
       "{A equiv B} |- forall_{x} ((x in A) = (x in B))"
      ]
     },
     "execution_count": 5,
     "metadata": {},
     "output_type": "execute_result"
    }
   ],
   "source": [
    "set_equiv_def.instantiate().derive_right_via_equality()"
   ]
  },
  {
   "cell_type": "code",
   "execution_count": 6,
   "metadata": {},
   "outputs": [
    {
     "data": {
      "text/html": [
       "<table><tr><th>&nbsp;</th><th>step type</th><th>requirements</th><th>statement</th></tr>\n",
       "<tr><td><a name=\"0xa14c93bed1c5af2_step0\">0</a></td><td>generalizaton</td><td><a href=\"#0xa14c93bed1c5af2_step1\">1</a></td><td><span style=\"font-size:20px;\"> <a class=\"ProveItLink\" href=\"../../../__pv_it/_proof_set_equiv_unfold/4b71e4ef55bf906bbd810960f22856514e955e030/proof.ipynb\" style=\"text-decoration: none\">&nbsp;&#x22A2;&nbsp;&nbsp;</a><a class=\"ProveItLink\" href=\"../../../__pv_it/theorems/3a484cdf0e40e7752d28c7101862178d5ee4a5e60/expr.ipynb\"><img src=\"data:image/png;base64,iVBORw0KGgoAAAANSUhEUgAAAVAAAAAWCAMAAAChQDQuAAAAM1BMVEX///8/Pz8QEBCIiIhmZma6\n",
       "urrMzMxUVFQiIiJERETc3Nzu7u6qqqp2dnaYmJgyMjIAAAAtmB3VAAAAAXRSTlMAQObYZgAAA9pJ\n",
       "REFUWMPtWdmWrSgMtQVkhvz/115k0ETBoW61L908VM6qQ7LNJpOcafp6sRiXRxtNoPL1cmZ6BfRz\n",
       "hCpDVGKK27chfEKoF9MjUKupfLGWal8+YvQVQJAAknOptcAITSbnvGt7o/2M0Ceg0VD5YkWoVMVH\n",
       "u98BzIV/DgtCaDI5Z9r5GD19RugD0MCpfBNFEeoxefZg9zuABUpOCeAYocqcfg3cfUfoA1BlqOxy\n",
       "oVVaxzC0jkNVsvP981wA9OyzajsAwwhVrs4Fb9dl1PQhobeg7ZuLx1o069aLkJwWLZ3FbUdS7+zr\n",
       "uRKoLEEoMjsHel3Kf0noLSjjVFrGpBEM5bAdlF9hJwet1fnbfB4CDOyDzGQraSlCkdk5macYjSIf\n",
       "fxYauE9dDf/rfGydtOkoIkLPoAeLgUibmA+KTSj/Bi3cirXOsa2c7rgRLX4EOgP07S8gQ2BauemA\n",
       "UGR2TvBDQwyAKQs5xj2qRqdGQhXGiojQE+ixsjkifYoHn1qNMOOn2E/bQCPM3RayIUDffi2hdpYH\n",
       "hCKLc+tHts+DlgMeDnlWdWCHrjQFoblBIXxWRIQeQU/DiSBytaEJ7jJv4Ub+nYZELkFvAXU7BQ0A\n",
       "BvZrCU3EOopQZHHOh+Jf89gqXHlUTh8exxFaFYQWoZy3HyhiQg+gN4Tm6kVmoMHAVbbP8S2hJ4CB\n",
       "fZCNUDYm1MR0sPvRMHJUNg+wDFfoA1RTyEmsU+6UwOsoYkIRqGd8YXK5Svn8xHRHdyJqWu1Lofo1\n",
       "VJ6ATgDz1RQ6yVblGoJAKZ96g9zPKWFxFDoCWCrCkoQ9BWkKdbSdZz5SxITuoGk4kXFS4qopuXRM\n",
       "UPZupagztBtHX5VwU7rufmeAnv1tCl22otJpSskaYjC4qZjeDjYbUkNCNwWpy/qnPGNHkRC6gaa4\n",
       "iKdiSqcRkSqWhsM1hnLDmVK3yZ7fDoNjANV56YglbsWsG/ENocjmHKDpi3uvcQfKGw24AaEnhQtF\n",
       "QiguWXAaUWgmWcmYZZzepFiphSWXHAC5wLj0obaB+4utMcDRfgqZ2G5GdqcaQpHNubAHus0s7M9R\n",
       "CBHYZULoSeFCkRK6g64FffnBq6fwuvPqiTl58Pp3AXBrf0eo0h/nR1GOaC29Rheq8t/ZD1IeKcit\n",
       "5IeBYhfTQK4O/vcuRxDW71+ODBDQ5QhJ01xrjQYV0iCWQswrWOc6LQZNCStQoJ5iF9PKIDzzdvT2\n",
       "pc2PvX12ffcXAL3ru6v76NET/MK7/PN7X/tzOP37F8w3p37p3PAXhL8jlKmvfgIJ//pPIA2hShbV\n",
       "FaFDmI9uov87i/9PwXj9AVbtLHt/hX5YAAAAAElFTkSuQmCC\n",
       "\" style=\"display:inline;vertical-align:middle;\" /></a></span></td></tr>\n",
       "<tr><td><a name=\"0xa14c93bed1c5af2_step1\">1</a></td><td>instantiation</td><td><a href=\"#0xa14c93bed1c5af2_step2\">2</a>, <a href=\"#0xa14c93bed1c5af2_step3\">3</a>, <a href=\"#0xa14c93bed1c5af2_step4\">4</a></td><td><span style=\"font-size:20px;\"><a class=\"ProveItLink\" href=\"../../../__pv_it/theorems/4c7b25a3b66576c9a827a2728e2c8be0e4a0f2280/expr.ipynb\"><img src=\"data:image/png;base64,iVBORw0KGgoAAAANSUhEUgAAADsAAAAOBAMAAABjvHmeAAAAMFBMVEX///92dnYiIiIQEBBERERU\n",
       "VFS6urqIiIjc3NxmZmaqqqru7u6YmJgyMjLMzMwAAADiRdoGAAAAAXRSTlMAQObYZgAAAPVJREFU\n",
       "GNNjYACBt2CSQTYOSLCBmTzxX2eGuEGEGe6DSd4Y4QMMDKwQIWYHBob5DyBK728AUccZuC8yMLRC\n",
       "pN8DVeZPADN3zW8AUQEMDCweHPcg0vVAofMFYOaB+gQQBVIr/38BRNqZgYHbCGwo24b1B6COYOB+\n",
       "AGV8ZWB4FA1mbWN4X8CABvi+ninRgjATGPrBbpC9CwI3wWLsPxgYNgeAFUbOjHdA181iAFTyiwES\n",
       "DswX0KX5gTrZv4NYQKcyGaBLg7zN+g3I4ABK835A2H0V7u33ICubQDb9QNd9GWipCdDbW/7fZuDy\n",
       "/zQBVTb2f+RUF6CxANDgSAVVKmfiAAAAAElFTkSuQmCC\n",
       "\" style=\"display:inline;vertical-align:middle;\" /></a> <a class=\"ProveItLink\" href=\"../../../__pv_it/_proof_set_equiv_unfold/22d628ea89b150b7e80ba4e57cb12dc287dba0130/proof.ipynb\" style=\"text-decoration: none\">&nbsp;&#x22A2;&nbsp;&nbsp;</a><a class=\"ProveItLink\" href=\"../../../__pv_it/axioms/fed46afb5297061258a1c88f858d9c54708bb74a0/expr.ipynb\"><img src=\"data:image/png;base64,iVBORw0KGgoAAAANSUhEUgAAANUAAAAUBAMAAADo2mWhAAAAMFBMVEX///8QEBCIiIhmZma6urrM\n",
       "zMxUVFQiIiJERETc3Nzu7u6qqqp2dnaYmJgyMjIAAAAcRTyBAAAAAXRSTlMAQObYZgAAAsdJREFU\n",
       "SMeVVk1oE0EU/pru5mebbT2IeJJgwUMvLRY9CUY9iOKhXsSTEavQHrQ5GbQiKkJSRcxNL9ItiEqV\n",
       "IngQvSj1IhE0qPhzUAL+gAVNqLS2iNT3Zna7M7vdGB98y+6bb/a9efPN2wVClqrS5RqiraMc9jXj\n",
       "44GLGj98UEduEawzUfMOEIZD3gj+m6XBzaUs4pQc4xn7ZlTCN0JnOSpWnTAV8kbx1wLtc7BoQYyr\n",
       "XDU1K7uPLq+iQtl1B0hngu4IvvkHMH4C0xDo5Ll3lfEEp3hCe3+xcNq7v72Vhq1VwZdqfLwrFMTW\n",
       "ILZIs2eBCQjYlcnJKyqRH1J5Nblzjv9Q7c3S9XNQTiof+3u8uyQlNXGSFpSVWCiVTqnMbs6H6mit\n",
       "H97Oa8eUEspwHrFKnwRiaXzL3/2ugzCPc+H6JI4AY+q8S5wPvfAO3mZE6VTVXUeO9+oj3z//wfYJ\n",
       "QX7c10nu6Msi749dk9ghJOLbKO8ZESp44exihyqcLMZZOvcD69L4Sd/fW4a1hk9kXiKBWFWdt5rQ\n",
       "RrV1UJLbtY7Td7dusH+EQ+cCsVQ+9jJfpn+W41EeZkMiXU1gpVjArNx3ZV0GDdUiYnl8cYpcm+dY\n",
       "GT9WqraP1b9pw4BeQ5hz0qEInNwJftzp79dXBPlt2vHCCOVh5CUwdpiE5BxLZHVtPIw1IMS70Zc2\n",
       "vbKz4WlDMY3fvnzS+XiZC4o2cI8CmvjuEVjPpE/jd7IhurBMevnoJWk+tgRiaXxRGdm5qAbbLnD4\n",
       "xxLoEnksegSuD63XOtTTLVuyNbTbbcpLM+i4/IuE+CUQS+Pjxnl5IuP1+f6hiyLogARsHjEbZmSP\n",
       "Mp76PUpGzzfvUXuKBe0Y4aYLYePpWrql3itL1mrv9cztve6yX09XvHvuIslys6nhb0pzvvdNCVvz\n",
       "b6WXTUvfSiWTlbP55z+A/b//AO8l/gJ+ZtkoV3BKAAAAAABJRU5ErkJggg==\n",
       "\" style=\"display:inline;vertical-align:middle;\" /></a></span></td></tr>\n",
       "<tr><td>&nbsp;</td><td colspan=4 style=\"text-align:left\"><span style=\"font-size:20px;\"><a class=\"ProveItLink\" href=\"../../../../../../__pv_it/common/d5fc3066299847984076662ce51556220bdb6cfb0/expr.ipynb\"><img src=\"data:image/png;base64,iVBORw0KGgoAAAANSUhEUgAAABAAAAAOBAMAAADUAYG5AAAAMFBMVEX///8iIiLc3Ny6urqIiIiq\n",
       "qqp2dnbMzMwQEBDu7u5mZmYyMjJERERUVFSYmJgAAAA4CJ/KAAAAAXRSTlMAQObYZgAAAF5JREFU\n",
       "CNdjYGB4+//s3V0TGIDgNwMDTyeQZv/GwMD6Bchg+QzEQA4DzwcGBl4gh4F/AwOD/gIgoz6BgVUM\n",
       "pMn/WtoSsO7zYBIIPkJp9l9QBsgYMOD+CaG59v91ANEANtEY7WfmSIAAAAAASUVORK5CYII=\n",
       "\" style=\"display:inline;vertical-align:middle;\" /></a> : <a class=\"ProveItLink\" href=\"../../../__pv_it/theorems/4c7b25a3b66576c9a827a2728e2c8be0e4a0f2280/expr.ipynb\"><img src=\"data:image/png;base64,iVBORw0KGgoAAAANSUhEUgAAADsAAAAOBAMAAABjvHmeAAAAMFBMVEX///92dnYiIiIQEBBERERU\n",
       "VFS6urqIiIjc3NxmZmaqqqru7u6YmJgyMjLMzMwAAADiRdoGAAAAAXRSTlMAQObYZgAAAPVJREFU\n",
       "GNNjYACBt2CSQTYOSLCBmTzxX2eGuEGEGe6DSd4Y4QMMDKwQIWYHBob5DyBK728AUccZuC8yMLRC\n",
       "pN8DVeZPADN3zW8AUQEMDCweHPcg0vVAofMFYOaB+gQQBVIr/38BRNqZgYHbCGwo24b1B6COYOB+\n",
       "AGV8ZWB4FA1mbWN4X8CABvi+ninRgjATGPrBbpC9CwI3wWLsPxgYNgeAFUbOjHdA181iAFTyiwES\n",
       "DswX0KX5gTrZv4NYQKcyGaBLg7zN+g3I4ABK835A2H0V7u33ICubQDb9QNd9GWipCdDbW/7fZuDy\n",
       "/zQBVTb2f+RUF6CxANDgSAVVKmfiAAAAAElFTkSuQmCC\n",
       "\" style=\"display:inline;vertical-align:middle;\" /></a>, <a class=\"ProveItLink\" href=\"../../../../../../__pv_it/common/50527aea954422d65ebe44b8de200683294751540/expr.ipynb\"><img src=\"data:image/png;base64,iVBORw0KGgoAAAANSUhEUgAAAA8AAAASBAMAAAB2sJk8AAAAMFBMVEX///+qqqq6urrc3NwQEBAy\n",
       "MjJERERUVFTMzMwiIiKYmJh2dnZmZmaIiIju7u4AAABsX1SbAAAAAXRSTlMAQObYZgAAAINJREFU\n",
       "CNdjYGDgu7P7FAMI7GxgYE8A0k8DgILeQEbIAyBRz8DA/Qskvd+AwX4CiHFegWH/BRAjv4FhfgOI\n",
       "8R+IQGoZvzMwTAEJcP5jYCgBMe4DFfY/eHuD4w+Qw3thAff6DSDhvuqbyQxgrQzsDVwGYAbbATUw\n",
       "zcDz/weEwTFFgIEBAOxlJHQBUmidAAAAAElFTkSuQmCC\n",
       "\" style=\"display:inline;vertical-align:middle;\" /></a> : <a class=\"ProveItLink\" href=\"../../../__pv_it/axioms/fed46afb5297061258a1c88f858d9c54708bb74a0/expr.ipynb\"><img src=\"data:image/png;base64,iVBORw0KGgoAAAANSUhEUgAAANUAAAAUBAMAAADo2mWhAAAAMFBMVEX///8QEBCIiIhmZma6urrM\n",
       "zMxUVFQiIiJERETc3Nzu7u6qqqp2dnaYmJgyMjIAAAAcRTyBAAAAAXRSTlMAQObYZgAAAsdJREFU\n",
       "SMeVVk1oE0EU/pru5mebbT2IeJJgwUMvLRY9CUY9iOKhXsSTEavQHrQ5GbQiKkJSRcxNL9ItiEqV\n",
       "IngQvSj1IhE0qPhzUAL+gAVNqLS2iNT3Zna7M7vdGB98y+6bb/a9efPN2wVClqrS5RqiraMc9jXj\n",
       "44GLGj98UEduEawzUfMOEIZD3gj+m6XBzaUs4pQc4xn7ZlTCN0JnOSpWnTAV8kbx1wLtc7BoQYyr\n",
       "XDU1K7uPLq+iQtl1B0hngu4IvvkHMH4C0xDo5Ll3lfEEp3hCe3+xcNq7v72Vhq1VwZdqfLwrFMTW\n",
       "ILZIs2eBCQjYlcnJKyqRH1J5Nblzjv9Q7c3S9XNQTiof+3u8uyQlNXGSFpSVWCiVTqnMbs6H6mit\n",
       "H97Oa8eUEspwHrFKnwRiaXzL3/2ugzCPc+H6JI4AY+q8S5wPvfAO3mZE6VTVXUeO9+oj3z//wfYJ\n",
       "QX7c10nu6Msi749dk9ghJOLbKO8ZESp44exihyqcLMZZOvcD69L4Sd/fW4a1hk9kXiKBWFWdt5rQ\n",
       "RrV1UJLbtY7Td7dusH+EQ+cCsVQ+9jJfpn+W41EeZkMiXU1gpVjArNx3ZV0GDdUiYnl8cYpcm+dY\n",
       "GT9WqraP1b9pw4BeQ5hz0qEInNwJftzp79dXBPlt2vHCCOVh5CUwdpiE5BxLZHVtPIw1IMS70Zc2\n",
       "vbKz4WlDMY3fvnzS+XiZC4o2cI8CmvjuEVjPpE/jd7IhurBMevnoJWk+tgRiaXxRGdm5qAbbLnD4\n",
       "xxLoEnksegSuD63XOtTTLVuyNbTbbcpLM+i4/IuE+CUQS+Pjxnl5IuP1+f6hiyLogARsHjEbZmSP\n",
       "Mp76PUpGzzfvUXuKBe0Y4aYLYePpWrql3itL1mrv9cztve6yX09XvHvuIslys6nhb0pzvvdNCVvz\n",
       "b6WXTUvfSiWTlbP55z+A/b//AO8l/gJ+ZtkoV3BKAAAAAABJRU5ErkJggg==\n",
       "\" style=\"display:inline;vertical-align:middle;\" /></a></span></td></tr><tr><td><a name=\"0xa14c93bed1c5af2_step2\">2</a></td><td>theorem</td><td></td><td><span style=\"font-size:20px;\"> <a class=\"ProveItLink\" href=\"../../../../../equality/_theory_nbs_/proofs/rhs_via_equality/thm_proof.ipynb\" style=\"text-decoration: none\">&nbsp;&#x22A2;&nbsp;&nbsp;</a><a class=\"ProveItLink\" href=\"../../../../../equality/__pv_it/theorems/05e66cbd347a7127d5119c3c454fa90d2e3f9bae0/expr.ipynb\"><img src=\"data:image/png;base64,iVBORw0KGgoAAAANSUhEUgAAAIkAAAAWBAMAAAAGOqJsAAAAMFBMVEX///8QEBCIiIhmZma6urrM\n",
       "zMxUVFQiIiJERETc3Nzu7u6qqqp2dnaYmJgyMjIAAAAcRTyBAAAAAXRSTlMAQObYZgAAAgFJREFU\n",
       "OMutVD9IG1EY/3nR/DnvqkiXVgdFxEUaxyiIBy7ZmnZwcDFCdSiCuhaLgYImhZJsuqjRMUMrdMoi\n",
       "0kIFDXrOIqaLg9BWEKVpbdPve5fcvUsc9OgP3vf78uX3fnfve/ce8F9Q5HDiebraXRgi2uf83LPL\n",
       "bgz+BLBCaSjh1eQ9LUXtAB5kAW3Lq8tXmo0ZQN/L5Za9mmh/OB5mgJ/J5LxXl/VZjsMGMAmkgMb0\n",
       "dOQll7oLg0LQaOmi158XsxJbqIoOOzmmY8AIVN7tI+o30ZqBZ0IdtPR6K7RZiQVs0UKMY5lGAIpJ\n",
       "NAWEabceAb645OKPQ7mQmOGIyuzVfM0dMgNceA0kydIUj3VcqBBMSFypVURz4ucvdi6O8jdYgvIK\n",
       "6KLUembF5UMGvVmJGY5ogkNYNCf1gpt508df8RkNX1FyefqpsGWzP0l4J4nGs5s9TZdC+JG7pokq\n",
       "bmg07EguB3CzW6R0mtqpyNDCbxTsF3mbtVuOyxu42S3C2HRvCmKjdF5vi3UIptTj0EPZ5Tck9n8n\n",
       "fJNEXIvpGdt/nNLQW2w817cNyaWpBFEXXIUjEouI2n8oPwZoSjvUyJd4SHJ5cpkRdcH2nWKLuM3l\n",
       "q5pj0cxPj6/KK7LrLlRFnM7VXgh5fv2/j+tc8rUuVdGt4JOAJaPOxaxTLhl3O/S++9wQ/wC6SI3I\n",
       "rLOAiQAAAABJRU5ErkJggg==\n",
       "\" style=\"display:inline;vertical-align:middle;\" /></a></span></td></tr>\n",
       "<tr><td>&nbsp;</td><td colspan=4 style-\"text-align:left\"><a class=\"ProveItLink\" href=\"../../../../../equality/_theory_nbs_/proofs/rhs_via_equality/thm_proof.ipynb\">proveit.logic.equality.rhs_via_equality</a></td></tr><tr><td><a name=\"0xa14c93bed1c5af2_step3\">3</a></td><td>assumption</td><td></td><td><span style=\"font-size:20px;\"><a class=\"ProveItLink\" href=\"../../../__pv_it/theorems/4c7b25a3b66576c9a827a2728e2c8be0e4a0f2280/expr.ipynb\"><img src=\"data:image/png;base64,iVBORw0KGgoAAAANSUhEUgAAADsAAAAOBAMAAABjvHmeAAAAMFBMVEX///92dnYiIiIQEBBERERU\n",
       "VFS6urqIiIjc3NxmZmaqqqru7u6YmJgyMjLMzMwAAADiRdoGAAAAAXRSTlMAQObYZgAAAPVJREFU\n",
       "GNNjYACBt2CSQTYOSLCBmTzxX2eGuEGEGe6DSd4Y4QMMDKwQIWYHBob5DyBK728AUccZuC8yMLRC\n",
       "pN8DVeZPADN3zW8AUQEMDCweHPcg0vVAofMFYOaB+gQQBVIr/38BRNqZgYHbCGwo24b1B6COYOB+\n",
       "AGV8ZWB4FA1mbWN4X8CABvi+ninRgjATGPrBbpC9CwI3wWLsPxgYNgeAFUbOjHdA181iAFTyiwES\n",
       "DswX0KX5gTrZv4NYQKcyGaBLg7zN+g3I4ABK835A2H0V7u33ICubQDb9QNd9GWipCdDbW/7fZuDy\n",
       "/zQBVTb2f+RUF6CxANDgSAVVKmfiAAAAAElFTkSuQmCC\n",
       "\" style=\"display:inline;vertical-align:middle;\" /></a> <a class=\"ProveItLink\" href=\"../../../__pv_it/_proof_set_equiv_unfold/de266b539531f8aa950880f33d5dfa054d09a3490/proof.ipynb\" style=\"text-decoration: none\">&nbsp;&#x22A2;&nbsp;&nbsp;</a><a class=\"ProveItLink\" href=\"../../../__pv_it/theorems/4c7b25a3b66576c9a827a2728e2c8be0e4a0f2280/expr.ipynb\"><img src=\"data:image/png;base64,iVBORw0KGgoAAAANSUhEUgAAADsAAAAOBAMAAABjvHmeAAAAMFBMVEX///92dnYiIiIQEBBERERU\n",
       "VFS6urqIiIjc3NxmZmaqqqru7u6YmJgyMjLMzMwAAADiRdoGAAAAAXRSTlMAQObYZgAAAPVJREFU\n",
       "GNNjYACBt2CSQTYOSLCBmTzxX2eGuEGEGe6DSd4Y4QMMDKwQIWYHBob5DyBK728AUccZuC8yMLRC\n",
       "pN8DVeZPADN3zW8AUQEMDCweHPcg0vVAofMFYOaB+gQQBVIr/38BRNqZgYHbCGwo24b1B6COYOB+\n",
       "AGV8ZWB4FA1mbWN4X8CABvi+ninRgjATGPrBbpC9CwI3wWLsPxgYNgeAFUbOjHdA181iAFTyiwES\n",
       "DswX0KX5gTrZv4NYQKcyGaBLg7zN+g3I4ABK835A2H0V7u33ICubQDb9QNd9GWipCdDbW/7fZuDy\n",
       "/zQBVTb2f+RUF6CxANDgSAVVKmfiAAAAAElFTkSuQmCC\n",
       "\" style=\"display:inline;vertical-align:middle;\" /></a></span></td></tr>\n",
       "<tr><td><a name=\"0xa14c93bed1c5af2_step4\">4</a></td><td>instantiation</td><td><a href=\"#0xa14c93bed1c5af2_step5\">5</a></td><td><span style=\"font-size:20px;\"> <a class=\"ProveItLink\" href=\"../../../__pv_it/_proof_set_equiv_unfold/ff712cf254588f25e86d2758719313ca065c22ac0/proof.ipynb\" style=\"text-decoration: none\">&nbsp;&#x22A2;&nbsp;&nbsp;</a><a class=\"ProveItLink\" href=\"../../../__pv_it/axioms/1b39d456d769a621ad9c51eaf5b5622a89a7ca5d0/expr.ipynb\"><img src=\"data:image/png;base64,iVBORw0KGgoAAAANSUhEUgAAAUcAAAAUBAMAAADsCuK1AAAAMFBMVEX///9UVFTMzMx2dna6uroQ\n",
       "EBCqqqqIiIgiIiJmZmYyMjJERETu7u6YmJjc3NwAAAC+aOQFAAAAAXRSTlMAQObYZgAAA9dJREFU\n",
       "SMedV01oE0EUft2NzSbZjUUEqUWtBy96aA9iqRYMiFhB/AFPitCjgmjEQ60IjQg1iEjVg/QgpsVD\n",
       "lWo9+FOI1vVf2h4qCv6h5OChWMS0h6pUrW/ezGZnd6apOvAyOy+z3/tm3nszbwGSo1C2VRYU1dEe\n",
       "dRqDKQulwYEv5Qwf4OL0pgCGuWol78zuWvxN0fOLmeqz+RQsVV5fDTnWfZB1w1CC0jSGruLYN7ST\n",
       "hd0KXBUTE9lc5//086775R78reKD3QCxSRjSkFzDuj5Zdx1KUJrG0FWceEE/m9u1cSeYIEmnk/RO\n",
       "v0tdGobqIclJGr8AIj/ATKskx5mD5X1gMAJK0whdxXmrny3sQgOQIEmLr+bpJeorUPKFz7Wki/5G\n",
       "+G9gb1dJxpnRFknFYKzAxjgD2VPeM6GrOGcCo/fZbE62C0+ABEmO8Rmj7RSHMRaWM1Ncl0DUJ6cB\n",
       "LqsknaaRkTFZNSbE3447rj/g6GGcZEYerTrmPXl24ykSJNlG+oh70M/Mh6KfXwXGcTTVqJKE6Xz+\n",
       "hKxqE/Ls0KfD5NYhiaNAD+NEMTzs1qWbGiiJ/Aj37JqdJEjyHukfQ50SMVC35PUAc+k7Svur1DoF\n",
       "yQUAg/Lce1zseuekRU6Tc1mgE85agrlCO4bMH8GbNEVFRUGx6+RIkGQH6VPwtTNMBdoLYO/Afq9m\n",
       "JzdT4vmtg4vpmj8jZE7OKoEexrGQSROsd7cSY1/v2a3MkCDJnRRA1V3L1DPrFnsBgeo0JC2IBk7u\n",
       "nVxsSHAcYxdbrAhPgR7GmYcx50KeD1aw+bmAXaNI4pGM4Bs5heQEm5zWkzRHLdCQxIDiYSOfTx66\n",
       "jiTANz4YV+36JMndSNvarjuuYBkCNUuBUCVIJnPL2Sl27lBtwN3IRCgkOA+92Y/Jbs/dYEwKxqrd\n",
       "SIZEJE4SZ8eLYSrsuDKmvYAP7SQMLsQZ7mIrFUicSrcdtUxxwT9pPPQwDkuc/dEi0NkTKyVuya6f\n",
       "OI3igEv8Vi4tXP3Gu/hwXkdyHy7TgGueqpHLtpb7omqwWuQjlNDDOHi8RKYSRVGWdCh2Y/UkSBJ9\n",
       "MDzTB5X3v4cutYr+ia6a2+ypR0eSx15pZc1cHrQ+u8ht2jVbROVRQg/joCvtRcfaRJ3y4KYbshuv\n",
       "JfGvxTLNzuhIOgzSKBqzXouRdf61OAtO8FrcMJANJu9zLn6BUabpCgzevpo5868KjFlw3pY37BcY\n",
       "wYtD13SlmvDQq4YmTzcIc0GpOImyXpRKtTKVqmReT/Lvi149zixFr7SEhCh65/p8cNTlHvmfzwfn\n",
       "Xz8fPnKJ9qb+AARVShpdoRUfAAAAAElFTkSuQmCC\n",
       "\" style=\"display:inline;vertical-align:middle;\" /></a></span></td></tr>\n",
       "<tr><td>&nbsp;</td><td colspan=4 style=\"text-align:left\"><span style=\"font-size:20px;\"><a class=\"ProveItLink\" href=\"../../../../../../__pv_it/common/e4aad701f7f5516d8e7f0d805d518bf02c13322a0/expr.ipynb\"><img src=\"data:image/png;base64,iVBORw0KGgoAAAANSUhEUgAAAA8AAAAOBAMAAAACpFvcAAAALVBMVEX///8iIiIQEBBERERUVFS6\n",
       "urqIiIjc3NxmZmaqqqru7u6YmJgyMjLMzMwAAACK9jtgAAAAAXRSTlMAQObYZgAAAFtJREFUCNdj\n",
       "YACBOwxQcA5Kc59bAGGs7CuAMDbkBYBp1gXzNoAZSxnuJYAZAQx1DSCa16PDzwCshIGB6QCIMYGB\n",
       "gVEBSLMDGTwPgIxCIGZ+zsCw+N0pBk67hw0AfpEVEQi8t+wAAAAASUVORK5CYII=\n",
       "\" style=\"display:inline;vertical-align:middle;\" /></a> : <a class=\"ProveItLink\" href=\"../../../../../../__pv_it/common/e4aad701f7f5516d8e7f0d805d518bf02c13322a0/expr.ipynb\"><img src=\"data:image/png;base64,iVBORw0KGgoAAAANSUhEUgAAAA8AAAAOBAMAAAACpFvcAAAALVBMVEX///8iIiIQEBBERERUVFS6\n",
       "urqIiIjc3NxmZmaqqqru7u6YmJgyMjLMzMwAAACK9jtgAAAAAXRSTlMAQObYZgAAAFtJREFUCNdj\n",
       "YACBOwxQcA5Kc59bAGGs7CuAMDbkBYBp1gXzNoAZSxnuJYAZAQx1DSCa16PDzwCshIGB6QCIMYGB\n",
       "gVEBSLMDGTwPgIxCIGZ+zsCw+N0pBk67hw0AfpEVEQi8t+wAAAAASUVORK5CYII=\n",
       "\" style=\"display:inline;vertical-align:middle;\" /></a>, <a class=\"ProveItLink\" href=\"../../../../../../__pv_it/common/4eca3b30dcf58a58494e201d1b7886d8643a617b0/expr.ipynb\"><img src=\"data:image/png;base64,iVBORw0KGgoAAAANSUhEUgAAABAAAAAOBAMAAADUAYG5AAAALVBMVEX///8yMjKqqqoiIiLu7u7c\n",
       "3NyIiIjMzMwQEBC6urpERERmZmZUVFSYmJgAAACsPVCVAAAAAXRSTlMAQObYZgAAAGxJREFUCNdj\n",
       "YGC48+70nlUTGICgi4GB+zmQZn/LwMD5Gshge8rAwPsMyOBqYGDwMAEy+A4wsNs4ABl1Z68tVgBp\n",
       "ygtgYOkBMVaAOCChNyBGAsQYhnMTIMawvwJyGIHGzFjCwMAj92b3qUUMDAAXABxvZ4rl5AAAAABJ\n",
       "RU5ErkJggg==\n",
       "\" style=\"display:inline;vertical-align:middle;\" /></a> : <a class=\"ProveItLink\" href=\"../../../../../../__pv_it/common/4eca3b30dcf58a58494e201d1b7886d8643a617b0/expr.ipynb\"><img src=\"data:image/png;base64,iVBORw0KGgoAAAANSUhEUgAAABAAAAAOBAMAAADUAYG5AAAALVBMVEX///8yMjKqqqoiIiLu7u7c\n",
       "3NyIiIjMzMwQEBC6urpERERmZmZUVFSYmJgAAACsPVCVAAAAAXRSTlMAQObYZgAAAGxJREFUCNdj\n",
       "YGC48+70nlUTGICgi4GB+zmQZn/LwMD5Gshge8rAwPsMyOBqYGDwMAEy+A4wsNs4ABl1Z68tVgBp\n",
       "ygtgYOkBMVaAOCChNyBGAsQYhnMTIMawvwJyGIHGzFjCwMAj92b3qUUMDAAXABxvZ4rl5AAAAABJ\n",
       "RU5ErkJggg==\n",
       "\" style=\"display:inline;vertical-align:middle;\" /></a></span></td></tr><tr><td><a name=\"0xa14c93bed1c5af2_step5\">5</a></td><td>axiom</td><td></td><td><span style=\"font-size:20px;\"> <a class=\"ProveItLink\" href=\"../../axioms.ipynb#set_equiv_def\" style=\"text-decoration: none\">&nbsp;&#x22A2;&nbsp;&nbsp;</a><a class=\"ProveItLink\" href=\"../../../__pv_it/axioms/51cbac677b181b50a1c78ce62baa887012870ac30/expr.ipynb\"><img src=\"data:image/png;base64,iVBORw0KGgoAAAANSUhEUgAAAY4AAAAVBAMAAACj/BR7AAAAMFBMVEX///8QEBCIiIhmZma6urrM\n",
       "zMxUVFQiIiJERETc3Nzu7u6qqqp2dnaYmJgyMjIAAAAcRTyBAAAAAXRSTlMAQObYZgAABNlJREFU\n",
       "WMPVV11oHFUUPu7vzOxOkgfRglKGBrSEtlkM1BfFVR/UUsnqQ/Wti7WQCLGrDQatllYK2a3K7oPU\n",
       "gmgnFaoGiYE++PMU2wEl1XSpoFZtXakVFEmXxIaYUuO559zZ3dl7d7vtmwfOnNmZu9/c7/zNGYB2\n",
       "8o7UdvKZciU0n7kBKBUHzHKb9YkS6/lRMhVx7Zx+qbWPFSVa4UtzO/EQodPvVndszqchVmr+WzLd\n",
       "JYxd1kNpRKCrOPCBdrG9a2lg6ADAMLB6ZE6JW3/q4btKrOK0ymbkC9xdjG+vAQhfBqui8khOi7Wu\n",
       "Hkr3IERXceAP/eqb0B/3ZWAKT6eYB5rDIn4tHPWtVJTzK2TOgPUXwCF24lWMzCLACZUHAR5uAaUR\n",
       "Qldw7JR+9XZ05WAKkg6QemSE18h9GnlRKjrr+D9kswBGwbzIZYCX7AWACZUHBfiUHsqXH8bG/Agw\n",
       "uoITD8TPHh/by2f9eP0XB6weIPXI2LOTk2/paZg5VgES+pus8NDpVaZtIMbES5gUaZXHz5OTH+b0\n",
       "UFKe7GvYIqErOIFtRV+tpel+3Pit+Os3IPXYLOfzL+t5hFKsKFsSV+slK7tRdxaiL4hoplQe3fn8\n",
       "+IwGylo3/ADlj9VYkoyu4PSiHr3jzQ2O+DFVr7YlgCeeQXuS1WODDahAt/n48OLJIRlPo8yKT01H\n",
       "F9Q0HTkzLiJjU3rMzQu5IHnEMmA0ZoUP9RF871B2NHYniU44SYKZJ0pv4K0Z+/k44Q/XI7N0bv0e\n",
       "qipWj82DslPYnDl2DyR7ZH5Os4pGay5C025Fmlq3iEaeU+MRSVErqae6hJqF0+4jRKzhpkRXcHCz\n",
       "STe5EiHK9VYk6nICCxU+YfXYxCFEPn+PMyechcSK7G9pVoBtA5uXlXjsF1xwb9GqygNysDHQKiWU\n",
       "C3m+8Jjwh6xzia7g3IzxAEO+v9aKP9TqMnRFJASrxyZZjtPt2d3sOQfClWYeeFir8FgSPJwWPL6B\n",
       "nI4HgMzPxqYs0XU8sAodbhT1eGBdQmhB4WFWthFhhz31cQY2uU15lUB9TnkHi/jtwj1EcvWM+93n\n",
       "8W4Un5bsfXxnE1T0siTWMGBIdMKR9ZGVeYU7lF2lJ/D6iIkieIjVk6eFp6nw4G5aNbhxfbapOOFt\n",
       "1EvQtFuRptHlWp03xcM4hIe+WGU0CPV5qArUcMNObbmPruBgnSfcfgiRW++qXRavj+37lDqH4+TP\n",
       "n6Cfdwpwp7+fFCs1/mLzUNGFHrr/oNjSjIZHQngl01UOQkWuGFU5/O1pfLUQuoKDzXRwuiiny3jt\n",
       "Xf0rhm6N4HYPqydPKQOtC18XiffrAEfkX0SgUa3ivy58uro7+JDYJZzWXiNCGQ0ProNun7wP9VRf\n",
       "r5xJjx3g7K2jKziYLMfWHb2XeVtDW/jqs2I8pR1eZPXkqS0Awy4cIRxsBIOllsOETt4HHY8fKZUh\n",
       "0xJq6/hYpT1OcC6JfOXPJf5rJ8fqsWF5FJ1XNg+CuQLm7Z0Nd76c0PIQGVOdg5nOoTqeE/3HBOZE\n",
       "WYfLYBZfid4GXy4ODNXmHPFKNkrXoKGb2+Wdka0b3I6hNHN7oe2Dg3N78Bur5XdUazFKrXhcH5TR\n",
       "6XdUI8sC8yhc49uyk+/as+p8ufdGvmvPXud3rV1i3TRKJiBl+L/KfzsFnGr1z7ZrAAAAAElFTkSu\n",
       "QmCC\n",
       "\" style=\"display:inline;vertical-align:middle;\" /></a></span></td></tr>\n",
       "<tr><td>&nbsp;</td><td colspan=4 style-\"text-align:left\"><a class=\"ProveItLink\" href=\"../../axioms.ipynb#set_equiv_def\">proveit.logic.sets.equivalence.set_equiv_def</a></td></tr></table>"
      ],
      "text/plain": [
       "\tstep type\trequirements\tstatement\n",
       "0\tgeneralizaton\t1\t|- forall_{A, B | A equiv B} [forall_{x} ((x in A) = (x in B))]\n",
       "1\tinstantiation\t2, 3, 4\t{A equiv B} |- forall_{x} ((x in A) = (x in B))\n",
       "\tP : A equiv B, Q : forall_{x} ((x in A) = (x in B))\n",
       "2\ttheorem\t\t|- forall_{P, Q | P, P = Q} Q\n",
       "\tproveit.logic.equality.rhs_via_equality\n",
       "3\tassumption\t\t{A equiv B} |- A equiv B\n",
       "4\tinstantiation\t5\t|- (A equiv B) = [forall_{x} ((x in A) = (x in B))]\n",
       "\tA : A, B : B\n",
       "5\taxiom\t\t|- forall_{A, B} ((A equiv B) = [forall_{x} ((x in A) = (x in B))])\n",
       "\tproveit.logic.sets.equivalence.set_equiv_def"
      ]
     },
     "execution_count": 6,
     "metadata": {},
     "output_type": "execute_result"
    }
   ],
   "source": [
    "%qed"
   ]
  },
  {
   "cell_type": "code",
   "execution_count": null,
   "metadata": {},
   "outputs": [],
   "source": []
  }
 ],
 "metadata": {
  "kernelspec": {
   "display_name": "Python 3",
   "language": "python",
   "name": "python3"
  }
 },
 "nbformat": 4,
 "nbformat_minor": 0
}