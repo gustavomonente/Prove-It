{
 "cells": [
  {
   "cell_type": "markdown",
   "metadata": {},
   "source": [
    "Proof of <a class=\"ProveItLink\" href=\"../../../../../../_theory_nbs_/theory.ipynb\">proveit</a>.<a class=\"ProveItLink\" href=\"../../../../../_theory_nbs_/theory.ipynb\">logic</a>.<a class=\"ProveItLink\" href=\"../../../../_theory_nbs_/theory.ipynb\">sets</a>.<a class=\"ProveItLink\" href=\"../../theory.ipynb\">equivalence</a>.<a class=\"ProveItLink\" href=\"../../theorems.ipynb#sub_left_side_into\">sub_left_side_into</a> theorem\n",
    "========"
   ]
  },
  {
   "cell_type": "code",
   "execution_count": 1,
   "metadata": {},
   "outputs": [],
   "source": [
    "import proveit\n",
    "theory = proveit.Theory() # the theorem's theory"
   ]
  },
  {
   "cell_type": "code",
   "execution_count": 2,
   "metadata": {},
   "outputs": [
    {
     "data": {
      "text/html": [
       "Under these <a href=\"presumptions.txt\">presumptions</a>, we begin our proof of<br><strong id=\"sub_left_side_into\">sub_left_side_into:</strong> <a class=\"ProveItLink\" href=\"../../../__pv_it/theorems/2f06bd0ee0dc42734bb821fb6c586c17b3b629cb0/expr.ipynb\"><img src=\"data:image/png;base64,iVBORw0KGgoAAAANSUhEUgAAANYAAAAWCAMAAACL1ZKoAAAAM1BMVEX///8/Pz8QEBCIiIhmZma6\n",
       "urrMzMxUVFQiIiJERETc3Nzu7u6qqqp2dnaYmJgyMjIAAAAtmB3VAAAAAXRSTlMAQObYZgAAAuVJ\n",
       "REFUWMPVWNuS2yAMdQ0YBAj0/19bc3MkB7zbmW0n5WHXAetIR1eSbfufl0/ve9GXv/n6nNKHk0iW\n",
       "CKy1WYe2EYAfH52KLbwwju0cPj461CyHvZmaPT/M1MmWl/xg7OHjWR2ELc9I1ehpEctMPS6oWJBe\n",
       "YfvYpcj0/5We48EKUVP/HPbCEkNZ3n1+h4CeZrbSkxani/QZqfJAUJbDv9Orbmn0E6XlqWaf4jlo\n",
       "wpmao+dhObFVFzQDDJBFDVa0D2DGnS9o1FZs8XclAN5EonmLgJ/YP1HyKq3YIwCscwdTjtVVZgVD\n",
       "j/ZRt/ZqDg9wIm5Mf2Fnlsk2zACsv4voGwuJ/aCklpRFRK26y12Unu1BrMTreREZ1K1tCMwTmvhE\n",
       "07Y1o7CgxQAOfBMJVrw8sA10vmalpJaW+Li/HHJYrbUluMJanZIateaDqgaYqRgcz2JXQ63zKloM\n",
       "wB7vInLWdGwDJjXn40pJKS3Z1Rit9rRnQcvnk+5wX+2Syr38cihBMlCxVfHZLWhxADcRUTzyA7uW\n",
       "AWAYpxMlxVgt/XclYX9wI2eN62VrB3NDqFCMsJOwZm4ypJICkUqCFgMYHViIRDvBbrWO+66XSjbW\n",
       "wDfZMnyU14zWMk5VL7sx34s3ykprLyi3osUADExEDMywbR0y8AuarRMlxWp5u8Pug2t+wZjHuqfy\n",
       "1Ro3kIE+O6RG5LUK2EZHXNBiAMZORI68xn5SojORVSIvXLvuEtVkjedDbwK513S6oOl2haqXZU+v\n",
       "MdpeMOQXtBjAARMRY9fYT0omyy2Og3u/TPrr5luUmpa/pQu3DV+d63dcJOHBTOnwUiThBHuzeay0\n",
       "UDIbbnq+j+p+l8w05uWxx5KtUBnS2bXrBjoqEwLMomUwgOLOsL2JaDPBvpk1UzK9I07DFfKjUPxy\n",
       "Yzq3uJcmEvkR6s9WgO+TlV+enza+pDU5iekR6ge+9Kdn7PTlxte0zF0m6GeoT1r6+yFX/+iHhd9E\n",
       "Rx8cyyJy0QAAAABJRU5ErkJggg==\n",
       "\" style=\"display:inline;vertical-align:middle;\" /></a><br>(see <a class=\"ProveItLink\" href=\"../../../__pv_it/theorems/35dcb550a03cd6f76e986ea1f50b6727cfab87630/dependencies.ipynb\">dependencies</a>)<br>"
      ],
      "text/plain": [
       "sub_left_side_into: forall_{P, A, B | P(B), A equiv B} P(A)"
      ]
     },
     "execution_count": 2,
     "metadata": {},
     "output_type": "execute_result"
    }
   ],
   "source": [
    "%proving sub_left_side_into"
   ]
  },
  {
   "cell_type": "code",
   "execution_count": null,
   "metadata": {},
   "outputs": [],
   "source": []
  }
 ],
 "metadata": {
  "kernelspec": {
   "display_name": "Python 3",
   "language": "python",
   "name": "python3"
  }
 },
 "nbformat": 4,
 "nbformat_minor": 0
}