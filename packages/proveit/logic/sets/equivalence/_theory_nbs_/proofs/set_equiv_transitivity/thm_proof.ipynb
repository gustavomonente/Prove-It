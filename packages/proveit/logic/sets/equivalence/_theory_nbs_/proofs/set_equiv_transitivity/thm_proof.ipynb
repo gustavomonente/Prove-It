{
 "cells": [
  {
   "cell_type": "markdown",
   "metadata": {},
   "source": [
    "Proof of <a class=\"ProveItLink\" href=\"../../../../../../_theory_nbs_/theory.ipynb\">proveit</a>.<a class=\"ProveItLink\" href=\"../../../../../_theory_nbs_/theory.ipynb\">logic</a>.<a class=\"ProveItLink\" href=\"../../../../_theory_nbs_/theory.ipynb\">sets</a>.<a class=\"ProveItLink\" href=\"../../theory.ipynb\">equivalence</a>.<a class=\"ProveItLink\" href=\"../../theorems.ipynb#set_equiv_transitivity\">set_equiv_transitivity</a> theorem\n",
    "========"
   ]
  },
  {
   "cell_type": "code",
   "execution_count": 1,
   "metadata": {},
   "outputs": [],
   "source": [
    "import proveit\n",
    "theory = proveit.Theory() # the theorem's theory"
   ]
  },
  {
   "cell_type": "code",
   "execution_count": 2,
   "metadata": {},
   "outputs": [
    {
     "data": {
      "text/html": [
       "Under these <a href=\"presumptions.txt\">presumptions</a>, we begin our proof of<br><strong id=\"set_equiv_transitivity\">set_equiv_transitivity:</strong> <a class=\"ProveItLink\" href=\"../../../__pv_it/theorems/6abcb5ba0fc78f94c9b1078b404430c24f1d983b0/expr.ipynb\"><img src=\"data:image/png;base64,iVBORw0KGgoAAAANSUhEUgAAAPcAAAAWCAMAAAArSvpGAAAAM1BMVEX///8/Pz8QEBCIiIhmZma6\n",
       "urrMzMxUVFQiIiJERETc3Nzu7u6qqqp2dnaYmJgyMjIAAAAtmB3VAAAAAXRSTlMAQObYZgAAAv5J\n",
       "REFUWMPVWNminCAMpbKG/f+/trJJELhOp32oPDiYiSdkjxLyuqX93z1vdbqG6977V6htAN+JMPzp\n",
       "ghR1y8enKEgmPdGOEJkUd7b9Fcwr9A56uIvDnfTuqO6T+A9aqJalX5NspZv5NLxCbc+GuxCRtzxN\n",
       "ng0uqyNxiKjKxWL2NUVu7o7/r5fC7ja2KEIGFwNoooNAYXA04/AjP5au3pm0tHpHURuO6QmNKI9b\n",
       "KLgYI/Ii6zeisIT0UIS0lHuF3hSHOTfExlU1NgKbKnZbmRIdLqGUCggoXvCeQ2SOSRiqiT+LoyP0\n",
       "ovFJ8si/xVqib4QUXKSmOcWKSJ9M5WYWnyobZ6TWuEbFsUN8Tgl3IAOGXD+gk6aSOEL8gDVTtkJK\n",
       "eqP45dmZDHcxtC66imJq4TkC0oV2Oxo2xA7L1cL2uqmrTh62ejcIDkzjgJiwMGVgXgjJ6+j2FJIx\n",
       "JuNjGzqQuLoTufs5X3RvVjMKJ5HKUcJ6PLRKIOhW7wrBgfviILfBQpSReSHkrnfZHeGxA/QWbwXW\n",
       "W4fTdt2M9GwEyHU5SmgfamgznzE7vRtETiBwpkXThIUpA/NKyC3O60YdT3qjVtdqN1e1CEmOmyBD\n",
       "3ueR+nPGQ5IXgXUjNYjiK3ccbIOFKQOz2kXvVde0nQe2Ib9lz0t6hSGua2l864p6m6yNsfKhOkN0\n",
       "T3p3CJlbJPyCctwJC1Mq78ns10J6B8J9HKJ+fBGJdUi9YodV+F7pTWDOAaoEUKa+3vpb5hm/0XuC\n",
       "2GMtKHshKEINxJizxZ6boRqtX2UYSMlQh2nDnO+WMPkcvfKXI/FuVQZjrkx6TxB7rAVlL2Qxp377\n",
       "SjfNprzYNwWGhnL+fD2KXzJJJR7j9EZvBEHklW3+hjWjj7wLIav3ku+Wuw8ykLuhhniKFcfpC6di\n",
       "apJQYiSTTuI5R1GzyW8McZOGsRboN+5JyE+T4J+5+6H12Y9Iy3ntk88e/+S7wzfrwXJWf0L6Vm/7\n",
       "tdv+9juTf5DsPyJ9q/c7Pmo9jUSvO/Fv/PghaSjPWp0AAAAASUVORK5CYII=\n",
       "\" style=\"display:inline;vertical-align:middle;\" /></a><br>(see <a class=\"ProveItLink\" href=\"../../../__pv_it/theorems/fa592398dcbe1e8277833b4d157f4bb9a13098ca0/dependencies.ipynb\">dependencies</a>)<br>"
      ],
      "text/plain": [
       "set_equiv_transitivity: forall_{A, B, C | A equiv B, B equiv C} (A equiv C)"
      ]
     },
     "execution_count": 2,
     "metadata": {},
     "output_type": "execute_result"
    }
   ],
   "source": [
    "%proving set_equiv_transitivity"
   ]
  },
  {
   "cell_type": "code",
   "execution_count": null,
   "metadata": {},
   "outputs": [],
   "source": []
  }
 ],
 "metadata": {
  "kernelspec": {
   "display_name": "Python 3",
   "language": "python",
   "name": "python3"
  }
 },
 "nbformat": 4,
 "nbformat_minor": 0
}