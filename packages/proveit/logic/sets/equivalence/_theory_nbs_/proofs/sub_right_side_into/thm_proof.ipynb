{
 "cells": [
  {
   "cell_type": "markdown",
   "metadata": {},
   "source": [
    "Proof of <a class=\"ProveItLink\" href=\"../../../../../../_theory_nbs_/theory.ipynb\">proveit</a>.<a class=\"ProveItLink\" href=\"../../../../../_theory_nbs_/theory.ipynb\">logic</a>.<a class=\"ProveItLink\" href=\"../../../../_theory_nbs_/theory.ipynb\">sets</a>.<a class=\"ProveItLink\" href=\"../../theory.ipynb\">equivalence</a>.<a class=\"ProveItLink\" href=\"../../theorems.ipynb#sub_right_side_into\">sub_right_side_into</a> theorem\n",
    "========"
   ]
  },
  {
   "cell_type": "code",
   "execution_count": 1,
   "metadata": {},
   "outputs": [],
   "source": [
    "import proveit\n",
    "theory = proveit.Theory() # the theorem's theory"
   ]
  },
  {
   "cell_type": "code",
   "execution_count": 2,
   "metadata": {},
   "outputs": [
    {
     "data": {
      "text/html": [
       "Under these <a href=\"presumptions.txt\">presumptions</a>, we begin our proof of<br><strong id=\"sub_right_side_into\">sub_right_side_into:</strong> <a class=\"ProveItLink\" href=\"../../../__pv_it/theorems/2bd88a2caf0d8705e099146a3ab55a547b3cd1ba0/expr.ipynb\"><img src=\"data:image/png;base64,iVBORw0KGgoAAAANSUhEUgAAANYAAAAWCAMAAACL1ZKoAAAAM1BMVEX///8/Pz8QEBCIiIhmZma6\n",
       "urrMzMxUVFQiIiJERETc3Nzu7u6qqqp2dnaYmJgyMjIAAAAtmB3VAAAAAXRSTlMAQObYZgAAAvRJ\n",
       "REFUWMPVWFmS4yAMTbNYCCzg/qcdFhOBDfZ0Vc9Umo/EFvaTnlaS1+sXL+snwt3mz/C+9/7DWXiI\n",
       "EQEgKFfuHbIclAJEnW8h86K9vRXcx4cn1iCgKKYG2+SiElRxy2zzQxZbRPHjWW2Rap5FmYOkWF4T\n",
       "TcciItkFicP2sUtGfXxnesayvF76QvflRL4ml5c1n98iMNZvyPQ6g1HUWhOmhihk9hHzMvRPetWY\n",
       "RD9TWrbkmlQsh4JuoCVe3oKiDasFGiOQQujbB3bGpX1Fqen09upe9QBAI8aurwGwE/NnSri09hoB\n",
       "9CwH7yWadxX5TF+r1j6KqASUupT0sbfm2Be9aWMbZgCwJwx1JjFi3ykpJQREpGR1ObM4SssJaKOr\n",
       "WJ8/ZOMOUJ98gzkV+4GmoPYit6LFABudMRyMhja5xoOwXioppdXfC30qraRzb+ErXvGVWnVC0YNs\n",
       "KjmjOjRTmo0Ky2gxAGwXjDCG65Br1L46n5ZKcgkNXY1pRWi0ZE/LhtfW3OhKQKV5+2WTPce0n22V\n",
       "w+geaHUA5oohh5NMk5cqQHJte6YkG6sG9+2nqVUbZIm5OeoWGnUdSVI/whJf1XlJR5mqc8ylgRYD\n",
       "cAdmjH14s8mrk0kItVbCU6tp9aeptUXsW0ZSxobTKfB+Hwrt2JdmSYsBNF4xNE6xocwY/MJq60xJ\n",
       "SuCx1KjFLtTS0gLbvjpyuSVlMlGNNR0UUV+qSHVy7CtaDKDhirGFG+xbJSqk86zs06KyhtDOufx0\n",
       "OIrav7HjeIQqZ2UbeY7WfR3tihYDbHjF0HCDfavkusxq25nrYdK2g29Wqmv+5pqsAlucawWtknBj\n",
       "Ww70DiOf1GbYyeVt+ZWSyXBTiw2S56oM8Rggm9jzoMBiRUxNuwjIRJUDrlctgwGyO91rxEgR0jPs\n",
       "k1VTJbMj4jxcLty9tD8K5nOr43h9IzxAfWs5/A7b/rfzneCR1nVj9w9QP/Cj39+C+0fBMy3tz2el\n",
       "J6hPWupvQy7/298KfwAVLx9sw1qsFgAAAABJRU5ErkJggg==\n",
       "\" style=\"display:inline;vertical-align:middle;\" /></a><br>(see <a class=\"ProveItLink\" href=\"../../../__pv_it/theorems/7a65dea4ac4659c46fe1dddd65b2804232e02f070/dependencies.ipynb\">dependencies</a>)<br>"
      ],
      "text/plain": [
       "sub_right_side_into: forall_{P, A, B | P(A), A equiv B} P(B)"
      ]
     },
     "execution_count": 2,
     "metadata": {},
     "output_type": "execute_result"
    }
   ],
   "source": [
    "%proving sub_right_side_into"
   ]
  },
  {
   "cell_type": "code",
   "execution_count": null,
   "metadata": {},
   "outputs": [],
   "source": []
  }
 ],
 "metadata": {
  "kernelspec": {
   "display_name": "Python 3",
   "language": "python",
   "name": "python3"
  }
 },
 "nbformat": 4,
 "nbformat_minor": 0
}