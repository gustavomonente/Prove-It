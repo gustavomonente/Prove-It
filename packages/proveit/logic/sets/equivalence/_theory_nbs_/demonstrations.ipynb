{
 "cells": [
  {
   "cell_type": "markdown",
   "metadata": {},
   "source": [
    "Demonstrations for the theory of <a class=\"ProveItLink\" href=\"theory.ipynb\">proveit.logic.sets.equivalence</a>\n",
    "========"
   ]
  },
  {
   "cell_type": "code",
   "execution_count": 1,
   "metadata": {},
   "outputs": [],
   "source": [
    "import proveit\n",
    "from proveit import a, b, c, d, e, A, B\n",
    "from proveit.logic import Set, SetEquiv\n",
    "from proveit.numbers import one, two, three, four, five\n",
    "from proveit.logic.sets.equivalence  import set_equiv_def, set_not_equiv_def\n",
    "from proveit.logic.sets.equivalence import (\n",
    "        set_equiv_reflexivity, set_equiv_reversal, set_equiv_transitivity)\n",
    "%begin demonstrations"
   ]
  },
  {
   "cell_type": "code",
   "execution_count": null,
   "metadata": {},
   "outputs": [],
   "source": []
  },
  {
   "cell_type": "markdown",
   "metadata": {},
   "source": [
    "# Set Equivalence $A \\cong B$ [Under Construction]"
   ]
  },
  {
   "cell_type": "markdown",
   "metadata": {},
   "source": [
    "<div style=\"line-height:1.4; font-size:14pt\">\n",
    "<a href='#introduction'>Introduction</a><br>\n",
    "<a href='#simple_expressions'>Simple Expressions involving set equivalence</a><br>\n",
    "<a href='#common_attributes'>Common Attributes of a set equivalence</a><br>\n",
    "<a href='#axioms'>Axioms</a><br>\n",
    "<a href='#theorems_and_conjectures'>Theorems & Conjectures</a><br>\n",
    "<a href='#further_demonstrations'>Further Demonstrations</a><br>\n",
    "    <ol>\n",
    "        <li><a href='#demo01'>TBA</a></li>\n",
    "        <li><a href='#demo02'>TBA</a></li>\n",
    "        <li><a href='#demo03'>TBA</a></li>\n",
    "    </ol>\n",
    "<a href='#misc_testing'>Miscellaneous Testing</a><br>\n",
    "</div>"
   ]
  },
  {
   "cell_type": "markdown",
   "metadata": {},
   "source": [
    "## Introduction <a id='introduction'></a>"
   ]
  },
  {
   "cell_type": "markdown",
   "metadata": {},
   "source": [
    "<font size=3>The Set Equivalence class, <font style=\"font-family:courier\">SetEquiv</font>, is intended to capture the membership equivalence of 2 structures A and B. $A \\cong B$, coded in Prove-It by <font style=\"font-family:courier\">SetEquiv(A, B)</font> is a claim that all elements of A are also elements of B and vice-versa, and uses the congruence symbol $\\cong$ to distinguish the <font style=\"font-family:courier\">SetEquiv</font> claim from the stronger claim that $A = B$.</font>"
   ]
  },
  {
   "cell_type": "markdown",
   "metadata": {},
   "source": [
    "## Simple Expressions Set Equivalence<a id='simple_expressions'></a>"
   ]
  },
  {
   "cell_type": "markdown",
   "metadata": {},
   "source": [
    "<font size=3>Set Equivalence expressions are easy to construct …</font>"
   ]
  },
  {
   "cell_type": "markdown",
   "metadata": {},
   "source": [
    "## Common Attributes of Set Equivalence Expressions<a id='common_attributes'></a>"
   ]
  },
  {
   "cell_type": "markdown",
   "metadata": {},
   "source": [
    "<font size=3>Let's look at some simple examples of set equivalence expressions and their common attributes.</font>"
   ]
  },
  {
   "cell_type": "code",
   "execution_count": 2,
   "metadata": {},
   "outputs": [
    {
     "data": {
      "text/html": [
       "<a class=\"ProveItLink\" href=\"../__pv_it/theorems/4c7b25a3b66576c9a827a2728e2c8be0e4a0f2280/expr.ipynb\"><img src=\"data:image/png;base64,iVBORw0KGgoAAAANSUhEUgAAADsAAAAOBAMAAABjvHmeAAAAMFBMVEX///92dnYiIiIQEBBERERU\n",
       "VFS6urqIiIjc3NxmZmaqqqru7u6YmJgyMjLMzMwAAADiRdoGAAAAAXRSTlMAQObYZgAAAPVJREFU\n",
       "GNNjYACBt2CSQTYOSLCBmTzxX2eGuEGEGe6DSd4Y4QMMDKwQIWYHBob5DyBK728AUccZuC8yMLRC\n",
       "pN8DVeZPADN3zW8AUQEMDCweHPcg0vVAofMFYOaB+gQQBVIr/38BRNqZgYHbCGwo24b1B6COYOB+\n",
       "AGV8ZWB4FA1mbWN4X8CABvi+ninRgjATGPrBbpC9CwI3wWLsPxgYNgeAFUbOjHdA181iAFTyiwES\n",
       "DswX0KX5gTrZv4NYQKcyGaBLg7zN+g3I4ABK835A2H0V7u33ICubQDb9QNd9GWipCdDbW/7fZuDy\n",
       "/zQBVTb2f+RUF6CxANDgSAVVKmfiAAAAAElFTkSuQmCC\n",
       "\" style=\"display:inline;vertical-align:middle;\" /></a>"
      ],
      "text/plain": [
       "A equiv B"
      ]
     },
     "execution_count": 2,
     "metadata": {},
     "output_type": "execute_result"
    }
   ],
   "source": [
    "SetEquiv(A, B)"
   ]
  },
  {
   "cell_type": "markdown",
   "metadata": {},
   "source": [
    "## Axioms <a id='axioms'></a>"
   ]
  },
  {
   "cell_type": "markdown",
   "metadata": {},
   "source": [
    "<font size=3>Right now we have a single axiom in the logic.sets/enumeration theory, defining what it means to be a member of an enumerated set. If $x\\in\\{y_1,y_2, \\ldots,y_n\\}$, then $x=y_1 \\lor x=y_2 \\lor \\ldots \\lor x=y_n$:</font>"
   ]
  },
  {
   "cell_type": "code",
   "execution_count": 3,
   "metadata": {},
   "outputs": [
    {
     "data": {
      "text/html": [
       "<span style=\"font-size:20px;\"> <a class=\"ProveItLink\" href=\"axioms.ipynb#set_equiv_def\" style=\"text-decoration: none\">&nbsp;&#x22A2;&nbsp;&nbsp;</a><a class=\"ProveItLink\" href=\"../__pv_it/axioms/51cbac677b181b50a1c78ce62baa887012870ac30/expr.ipynb\"><img src=\"data:image/png;base64,iVBORw0KGgoAAAANSUhEUgAAAY4AAAAVBAMAAACj/BR7AAAAMFBMVEX///8QEBCIiIhmZma6urrM\n",
       "zMxUVFQiIiJERETc3Nzu7u6qqqp2dnaYmJgyMjIAAAAcRTyBAAAAAXRSTlMAQObYZgAABNlJREFU\n",
       "WMPVV11oHFUUPu7vzOxOkgfRglKGBrSEtlkM1BfFVR/UUsnqQ/Wti7WQCLGrDQatllYK2a3K7oPU\n",
       "gmgnFaoGiYE++PMU2wEl1XSpoFZtXakVFEmXxIaYUuO559zZ3dl7d7vtmwfOnNmZu9/c7/zNGYB2\n",
       "8o7UdvKZciU0n7kBKBUHzHKb9YkS6/lRMhVx7Zx+qbWPFSVa4UtzO/EQodPvVndszqchVmr+WzLd\n",
       "JYxd1kNpRKCrOPCBdrG9a2lg6ADAMLB6ZE6JW3/q4btKrOK0ymbkC9xdjG+vAQhfBqui8khOi7Wu\n",
       "Hkr3IERXceAP/eqb0B/3ZWAKT6eYB5rDIn4tHPWtVJTzK2TOgPUXwCF24lWMzCLACZUHAR5uAaUR\n",
       "Qldw7JR+9XZ05WAKkg6QemSE18h9GnlRKjrr+D9kswBGwbzIZYCX7AWACZUHBfiUHsqXH8bG/Agw\n",
       "uoITD8TPHh/by2f9eP0XB6weIPXI2LOTk2/paZg5VgES+pus8NDpVaZtIMbES5gUaZXHz5OTH+b0\n",
       "UFKe7GvYIqErOIFtRV+tpel+3Pit+Os3IPXYLOfzL+t5hFKsKFsSV+slK7tRdxaiL4hoplQe3fn8\n",
       "+IwGylo3/ADlj9VYkoyu4PSiHr3jzQ2O+DFVr7YlgCeeQXuS1WODDahAt/n48OLJIRlPo8yKT01H\n",
       "F9Q0HTkzLiJjU3rMzQu5IHnEMmA0ZoUP9RF871B2NHYniU44SYKZJ0pv4K0Z+/k44Q/XI7N0bv0e\n",
       "qipWj82DslPYnDl2DyR7ZH5Os4pGay5C025Fmlq3iEaeU+MRSVErqae6hJqF0+4jRKzhpkRXcHCz\n",
       "STe5EiHK9VYk6nICCxU+YfXYxCFEPn+PMyechcSK7G9pVoBtA5uXlXjsF1xwb9GqygNysDHQKiWU\n",
       "C3m+8Jjwh6xzia7g3IzxAEO+v9aKP9TqMnRFJASrxyZZjtPt2d3sOQfClWYeeFir8FgSPJwWPL6B\n",
       "nI4HgMzPxqYs0XU8sAodbhT1eGBdQmhB4WFWthFhhz31cQY2uU15lUB9TnkHi/jtwj1EcvWM+93n\n",
       "8W4Un5bsfXxnE1T0siTWMGBIdMKR9ZGVeYU7lF2lJ/D6iIkieIjVk6eFp6nw4G5aNbhxfbapOOFt\n",
       "1EvQtFuRptHlWp03xcM4hIe+WGU0CPV5qArUcMNObbmPruBgnSfcfgiRW++qXRavj+37lDqH4+TP\n",
       "n6Cfdwpwp7+fFCs1/mLzUNGFHrr/oNjSjIZHQngl01UOQkWuGFU5/O1pfLUQuoKDzXRwuiiny3jt\n",
       "Xf0rhm6N4HYPqydPKQOtC18XiffrAEfkX0SgUa3ivy58uro7+JDYJZzWXiNCGQ0ProNun7wP9VRf\n",
       "r5xJjx3g7K2jKziYLMfWHb2XeVtDW/jqs2I8pR1eZPXkqS0Awy4cIRxsBIOllsOETt4HHY8fKZUh\n",
       "0xJq6/hYpT1OcC6JfOXPJf5rJ8fqsWF5FJ1XNg+CuQLm7Z0Nd76c0PIQGVOdg5nOoTqeE/3HBOZE\n",
       "WYfLYBZfid4GXy4ODNXmHPFKNkrXoKGb2+Wdka0b3I6hNHN7oe2Dg3N78Bur5XdUazFKrXhcH5TR\n",
       "6XdUI8sC8yhc49uyk+/as+p8ufdGvmvPXud3rV1i3TRKJiBl+L/KfzsFnGr1z7ZrAAAAAElFTkSu\n",
       "QmCC\n",
       "\" style=\"display:inline;vertical-align:middle;\" /></a></span>"
      ],
      "text/plain": [
       "|- forall_{A, B} ((A equiv B) = [forall_{x} ((x in A) = (x in B))])"
      ]
     },
     "execution_count": 3,
     "metadata": {},
     "output_type": "execute_result"
    }
   ],
   "source": [
    "set_equiv_def"
   ]
  },
  {
   "cell_type": "code",
   "execution_count": 4,
   "metadata": {},
   "outputs": [
    {
     "data": {
      "text/html": [
       "<span style=\"font-size:20px;\"> <a class=\"ProveItLink\" href=\"axioms.ipynb#set_not_equiv_def\" style=\"text-decoration: none\">&nbsp;&#x22A2;&nbsp;&nbsp;</a><a class=\"ProveItLink\" href=\"../__pv_it/axioms/9fbba3aef70e62e8b026689ec2d661fa9b201a500/expr.ipynb\"><img src=\"data:image/png;base64,iVBORw0KGgoAAAANSUhEUgAAARkAAAAVBAMAAACAi4frAAAAMFBMVEX///8QEBCIiIhmZma6urrM\n",
       "zMxUVFQiIiJERETc3Nzu7u6qqqp2dnaYmJgyMjIAAAAcRTyBAAAAAXRSTlMAQObYZgAAA8ZJREFU\n",
       "SMfFVk1IVFEUPs74Znwz89SFlGDFQIvalAOCbQIngpRAnJW1agYqsKBUDIfSSCFwtGRmZxDlSEVi\n",
       "UEGLapXkQuiPoSCIskYqIRcpav6FTeeee+97zzdvJqNFH3zvPu7vd88599wLkA9qijMfvAn7cTqu\n",
       "5R8Pj01Ms4qJHB2HBRFHjFpNFM2LVU0XAU7Yj5PwdFGh0ELgmwrhN0j/bzNHq2NBcOF2JJ+z+ukc\n",
       "ar4JImaM2sOiLMB1akJw136cRDG3XfEsFVMftuI3wpvKAZw/wIM6Ja8ww3bZi9ECnOx3JsmKwgud\n",
       "uJaPN4fRHw0B8Pntxul4w4uPq9Tih7ujoHI1yhpOOA/wFHQW4yq++/Zq3AlOxJ0aKg89PlChBYQj\n",
       "KrHqkx88pXbjdJzl/nqwwgoXMpa4HqI6B1ZpcwBDoFN7NjIykMNRA4KIVCX5+iQKmqw/w+u6cZHN\n",
       "uJkvduP0gG7h5nIssMLJQifzkzcV4TaGzqFBggaXY7HOHGq2C6JBk0/omDCn9GzjQQiLKA3lwZjd\n",
       "OAkH99pB75pedUuUJRFQ2plrAgaPA/RSI//WzY81SUP3CwLchLCMDjUtfpTFiZ0dFBJ0WL4TAqCP\n",
       "EQagXXiCylzWZsOnXvewGNHSBvdTMOP/AjdpKfhkIHQIsiM5KCPTFZS7RrcPsXh8aF0GxzijDKMY\n",
       "QxSThaDOWzWzuPNsYhmrxaAbHCT/BjelMwLeVTFrmSAoR6uauyznm9zuYCEQtqopk2ZErQUkvrGq\n",
       "ejnLNt1MEYpVZg36Um5qe9bGz4MfnGmrmkKclSrHo9GlaLRduh0ccxtTg59tWWoWmRr/ejVqupG2\n",
       "749Rl3sh2J20ego34Bbu00Z1t6NJXcy9tSYfRED3LldDnvIiW61iWLqBZtRZ2GIQeo/xTLCH+jTs\n",
       "2hkBSxSr9/VcCm4pldJNuEtGsRn9JjUUxVdlMjdrZnGnLFuiGB5QRngPlTTDK4AdctYxQZY/ilZ4\n",
       "3Ut9zUncTTnTtteqRj/yIX5sKefErbdrMVp7Xx8L1VGDUMLOrufzizjt+jLAoEzNtZzDmWnwxpfY\n",
       "QRhvxbDhcXOa3XnU86tVTa3pH83vif9KwqNM2/pOrhm8dC+RrJBB0JgKZxIGKV/jIWlIZN8MYD3f\n",
       "pku6ZQM3Qz7cNpGjHm2UUvtAXQV1i82tKVGXPdnGbs08MN2aIncsgxo/r1TA+HxVk7H9Xj1F270V\n",
       "BGxeFOYxRYk/iDG/KNa/43K/tgSS+ZfO/drKDSZXMutR+LcvUe1fX6LvTFyHFPxf/AayoiqRoMJc\n",
       "BAAAAABJRU5ErkJggg==\n",
       "\" style=\"display:inline;vertical-align:middle;\" /></a></span>"
      ],
      "text/plain": [
       "|- forall_{A, B} ((A not_equiv B) = not(A equiv B))"
      ]
     },
     "execution_count": 4,
     "metadata": {},
     "output_type": "execute_result"
    }
   ],
   "source": [
    "set_not_equiv_def"
   ]
  },
  {
   "cell_type": "markdown",
   "metadata": {},
   "source": [
    "## Theorems & Conjectures<a id='theorems_and_conjectures'></a>"
   ]
  },
  {
   "cell_type": "markdown",
   "metadata": {},
   "source": [
    "<font size=3>The `logic.sets/equivalence` theory already has a number of related theorems and conjectures established, many of which are related to set equivalence being an equivalence relation. Some illustrative examples of the theorems are shown below, and the remainder can be found in the [set equivalence theorems Jupyter Python notebook](./\\_theorems\\_.ipynb).</font>"
   ]
  },
  {
   "cell_type": "code",
   "execution_count": 5,
   "metadata": {},
   "outputs": [
    {
     "data": {
      "text/html": [
       "<span style=\"font-size:20px;\"> <a class=\"ProveItLink\" href=\"proofs/set_equiv_reflexivity/thm_proof.ipynb\" style=\"text-decoration: none\">&nbsp;&#x22A2;&nbsp;&nbsp;</a><a class=\"ProveItLink\" href=\"../__pv_it/theorems/b3aebcfe469506e10b960f2fa7640c920413b07c0/expr.ipynb\"><img src=\"data:image/png;base64,iVBORw0KGgoAAAANSUhEUgAAAGwAAAAUBAMAAACaOcVSAAAAMFBMVEX///8QEBCIiIhmZma6urrM\n",
       "zMxUVFQiIiJERETc3Nzu7u6qqqp2dnaYmJgyMjIAAAAcRTyBAAAAAXRSTlMAQObYZgAAAcRJREFU\n",
       "OMuFVDtLA0EQ/oyJyV1ymj+g3D8wENBGULAQBCGVpRHUwsqIlaCQMqnuOgVRD1SQCEGw0E7BLloc\n",
       "WPog4KOwUFHBqGic2bsV10QzMPtNdu6bnRcB6sgy/pWoDZTZOFeu9ayAkHAhdpOis086R0gngSO2\n",
       "bxVaq+3Bg4Cbs3Y6R6XznrQILBJoWYV24sHFG5+GieIBNEkz7h1KwEQrw7ZCm/VS3XllaCHN2Ssp\n",
       "37fVS6nocRilQmFBYWkZL27gmaGZy6u+S6fbyVVeAZVcbk6hBRICBqMf31cb0gg6+y7BITAB5MVV\n",
       "3ndFXJFjX+ixtvfrSJtcNtAPXXTaePZdYVFpENqT6P+dEC8DmsMqW7v0FQIi/JrMqUnMaDjZVal5\n",
       "LDSWnOKupymcGxZXpRmFRkdHDS1I3rJH08rDIpCZ+5lklHS6hkaecJxwgFsx7s2n+2dLlvyFkLWJ\n",
       "cWvb/u5QS7Aj5nSKTp8WS/izs+xfj/F8I7wEPaRt3FL98thy/AIy0K1PB3vVGZW1Wb1F1HqhqNfc\n",
       "ef682cFqSlmuf0TPSGuIXnXVVf5bYqZsQwWaNS9/2A1oxfo5ZBvQ8vWvG/wpGDa+AFcIdm0gvh3x\n",
       "AAAAAElFTkSuQmCC\n",
       "\" style=\"display:inline;vertical-align:middle;\" /></a></span>"
      ],
      "text/plain": [
       "|- forall_{A} (A equiv A)"
      ]
     },
     "execution_count": 5,
     "metadata": {},
     "output_type": "execute_result"
    }
   ],
   "source": [
    "set_equiv_reflexivity"
   ]
  },
  {
   "cell_type": "code",
   "execution_count": 6,
   "metadata": {},
   "outputs": [
    {
     "data": {
      "text/html": [
       "<span style=\"font-size:20px;\"> <a class=\"ProveItLink\" href=\"proofs/set_equiv_reversal/thm_proof.ipynb\" style=\"text-decoration: none\">&nbsp;&#x22A2;&nbsp;&nbsp;</a><a class=\"ProveItLink\" href=\"../__pv_it/theorems/8fe4d9a627f3c6a30cbc432c5bebedc01c98e92b0/expr.ipynb\"><img src=\"data:image/png;base64,iVBORw0KGgoAAAANSUhEUgAAALoAAAAWCAMAAABADnZWAAAAM1BMVEX///8/Pz8QEBCIiIhmZma6\n",
       "urrMzMxUVFQiIiJERETc3Nzu7u6qqqp2dnaYmJgyMjIAAAAtmB3VAAAAAXRSTlMAQObYZgAAAoNJ\n",
       "REFUWMPNV9m2pCAM9LIIYc3/f+2wShTtdk5PO5cHD41dUEkqCS7LfxgmfLiBM/kZt98hPMTcQjtQ\n",
       "ISohFIAkb31Ua5vKCbo2uipz964vR/sQ9Wj6jFUjBK7jpQqeNSeqGYrN+myCgR5FeIh5EJsPsXKU\n",
       "uC0FXoj5wmiiHiI2/3pOnD3c/+WhN6dzrNOAvC81tgBmMXE9Ks2Jhlgsyzhv8zD6qRwdBwFrNPSm\n",
       "1e5+j4iTL0Mytus/5glCHto/RJ1v4liw+HjV6iTL7DotSbs47LXE521qQoMZ/6FzCSh8qgJ0adqU\n",
       "vn0BrP8NQ+oqBA76plKtzBC+yT6fIXrK9lWk5EKJqmfk8CmQKM/ScQJWqbuD1C1TtDSSIfa+yGrb\n",
       "EtoV3eUHH0XdCqQVXpSNHdpL6h0gQRgSlhlYC6I8SD2ZcMfva2oBQiFsISuWhkq/G241NVeXEIl4\n",
       "7fUGkCBDdam/AB6oo+rU+Q3qFcbijrqJyaRhHU+libi0tAtO+9WBegcU3YG3LYInwL1gelVf1Kne\n",
       "jr2/obv+pG5ZpgY4GSFIDCTylEq75nCg3gHVdZ4xcQXcp2mv6ivChdYJ2Lh9O61pmiwiXIPLm9K9\n",
       "yjH6kvoAqFJl4QcKuxPgqGqFRXWgZGDvNwPoPUm0Yj7EZqPwHmhO1p5MM2lHfQK8ANJIq9jvXu9z\n",
       "1AJiEZ5Lk5aIvdWG0c1sOW/0g3q0RHNBfQK8AB4vAp/cPqdoyirEnEAGKqnyZP5CMASQHNlHOAce\n",
       "r18fDH8sSlAyxgDqsKwsuc1rzNV0d6Gm1Clgv/UZ8EXv/Vunx1v1aD76H31qfDDeWO/Ml6h//oEX\n",
       "3sTtcv+nvkm+MMTvoPEH82YZleTWRgoAAAAASUVORK5CYII=\n",
       "\" style=\"display:inline;vertical-align:middle;\" /></a></span>"
      ],
      "text/plain": [
       "|- forall_{A, B | A equiv B} (B equiv A)"
      ]
     },
     "execution_count": 6,
     "metadata": {},
     "output_type": "execute_result"
    }
   ],
   "source": [
    "set_equiv_reversal"
   ]
  },
  {
   "cell_type": "code",
   "execution_count": 7,
   "metadata": {},
   "outputs": [
    {
     "data": {
      "text/html": [
       "<span style=\"font-size:20px;\"> <a class=\"ProveItLink\" href=\"proofs/set_equiv_transitivity/thm_proof.ipynb\" style=\"text-decoration: none\">&nbsp;&#x22A2;&nbsp;&nbsp;</a><a class=\"ProveItLink\" href=\"../__pv_it/theorems/6abcb5ba0fc78f94c9b1078b404430c24f1d983b0/expr.ipynb\"><img src=\"data:image/png;base64,iVBORw0KGgoAAAANSUhEUgAAAPcAAAAWCAMAAAArSvpGAAAAM1BMVEX///8/Pz8QEBCIiIhmZma6\n",
       "urrMzMxUVFQiIiJERETc3Nzu7u6qqqp2dnaYmJgyMjIAAAAtmB3VAAAAAXRSTlMAQObYZgAAAv5J\n",
       "REFUWMPVWNminCAMpbKG/f+/trJJELhOp32oPDiYiSdkjxLyuqX93z1vdbqG6977V6htAN+JMPzp\n",
       "ghR1y8enKEgmPdGOEJkUd7b9Fcwr9A56uIvDnfTuqO6T+A9aqJalX5NspZv5NLxCbc+GuxCRtzxN\n",
       "ng0uqyNxiKjKxWL2NUVu7o7/r5fC7ja2KEIGFwNoooNAYXA04/AjP5au3pm0tHpHURuO6QmNKI9b\n",
       "KLgYI/Ii6zeisIT0UIS0lHuF3hSHOTfExlU1NgKbKnZbmRIdLqGUCggoXvCeQ2SOSRiqiT+LoyP0\n",
       "ovFJ8si/xVqib4QUXKSmOcWKSJ9M5WYWnyobZ6TWuEbFsUN8Tgl3IAOGXD+gk6aSOEL8gDVTtkJK\n",
       "eqP45dmZDHcxtC66imJq4TkC0oV2Oxo2xA7L1cL2uqmrTh62ejcIDkzjgJiwMGVgXgjJ6+j2FJIx\n",
       "JuNjGzqQuLoTufs5X3RvVjMKJ5HKUcJ6PLRKIOhW7wrBgfviILfBQpSReSHkrnfZHeGxA/QWbwXW\n",
       "W4fTdt2M9GwEyHU5SmgfamgznzE7vRtETiBwpkXThIUpA/NKyC3O60YdT3qjVtdqN1e1CEmOmyBD\n",
       "3ueR+nPGQ5IXgXUjNYjiK3ccbIOFKQOz2kXvVde0nQe2Ib9lz0t6hSGua2l864p6m6yNsfKhOkN0\n",
       "T3p3CJlbJPyCctwJC1Mq78ns10J6B8J9HKJ+fBGJdUi9YodV+F7pTWDOAaoEUKa+3vpb5hm/0XuC\n",
       "2GMtKHshKEINxJizxZ6boRqtX2UYSMlQh2nDnO+WMPkcvfKXI/FuVQZjrkx6TxB7rAVlL2Qxp377\n",
       "SjfNprzYNwWGhnL+fD2KXzJJJR7j9EZvBEHklW3+hjWjj7wLIav3ku+Wuw8ykLuhhniKFcfpC6di\n",
       "apJQYiSTTuI5R1GzyW8McZOGsRboN+5JyE+T4J+5+6H12Y9Iy3ntk88e/+S7wzfrwXJWf0L6Vm/7\n",
       "tdv+9juTf5DsPyJ9q/c7Pmo9jUSvO/Fv/PghaSjPWp0AAAAASUVORK5CYII=\n",
       "\" style=\"display:inline;vertical-align:middle;\" /></a></span>"
      ],
      "text/plain": [
       "|- forall_{A, B, C | A equiv B, B equiv C} (A equiv C)"
      ]
     },
     "execution_count": 7,
     "metadata": {},
     "output_type": "execute_result"
    }
   ],
   "source": [
    "set_equiv_transitivity"
   ]
  },
  {
   "cell_type": "markdown",
   "metadata": {},
   "source": [
    "## Demonstrations <a id='further_demonstrations'></a>"
   ]
  },
  {
   "cell_type": "markdown",
   "metadata": {},
   "source": [
    "<div style=\"width: 90%; border: 3px solid green; padding: 10px; margin: 0px;\"><a id='demo01'></a><font size=4><b>1.</b> TBA.</font></div><br>\n",
    "<font size=3>Under Construction</font>"
   ]
  },
  {
   "cell_type": "markdown",
   "metadata": {},
   "source": [
    "<div style=\"width: 90%; border: 3px solid green; padding: 10px; margin: 0px;\"><a id='demo02'></a><font size=4><b>2.</b> TBA.</font></div><br>\n",
    "<font size=3>Under Construction</font>"
   ]
  },
  {
   "cell_type": "markdown",
   "metadata": {},
   "source": [
    "<div style=\"width: 90%; border: 3px solid green; padding: 10px; margin: 0px;\"><a id='demo03'></a><font size=4><b>3.</b> TBA.</font></div><br>\n",
    "<font size=3>Under construction</font>"
   ]
  },
  {
   "cell_type": "markdown",
   "metadata": {},
   "source": [
    "## Miscellaneous Testing\n",
    "<font size=3>The material below was developed to test various SetEquiv-related methods. Some of this material could be integrated into the `_demonstrations_` page eventually and/or deleted as development continues.</font>"
   ]
  },
  {
   "cell_type": "markdown",
   "metadata": {},
   "source": [
    "### Some Example `Sets` For Testing"
   ]
  },
  {
   "cell_type": "code",
   "execution_count": 8,
   "metadata": {},
   "outputs": [
    {
     "data": {
      "text/html": [
       "<strong id=\"set_12345\">set_12345:</strong> <a class=\"ProveItLink\" href=\"../__pv_it/demonstrations/8ae1d5f3afb86ce49d72c28858430a9d312b387a0/expr.ipynb\"><img src=\"data:image/png;base64,iVBORw0KGgoAAAANSUhEUgAAAGsAAAAVBAMAAACzuQ2OAAAAMFBMVEX///+IiIi6urrc3NxERETM\n",
       "zMwQEBCqqqpUVFQiIiJ2dnYyMjLu7u5mZmaYmJgAAABN0h6tAAAAAXRSTlMAQObYZgAAAa9JREFU\n",
       "OMudlL9Lw0AUx79p1dg2Cf0P7OQccFLwx+Ao2MG1IKKiINhJHBR0EVyq4KKgmEFEBaGjdNB0Uxcr\n",
       "6KQpujiqKAhWMd7l3uUHlEq94d0nL3xy7+4lAWBU0cxovbb5pJXQ3IhN8Gi8hnOaM5gVFD/ay8ts\n",
       "juZTO8dydxyT6yyoM3TjHMk3Qb1Qf6S2SfOsW2PxUGrnB9904x6YFNSRxycllSmC0rIZ1mBIbRpY\n",
       "Mz3qzOCLkn0nBEterKOd2VijzQVFWn9qbOzaBBeWmA1TaoXHWxb3ObYXo1qsRtCzQ34ZUhtCfwZ4\n",
       "4TiXjWqJJUnKGNXoa0ALqy1VAUY2ENWcoNxJbzk1G9L0dxZW0+zEoqspFYIuYNjr9yWkxvbDu5ri\n",
       "9bQPRLRFxEUDXJu0ecf5uPZSbUXo37S36Em2WlCENh46U2q3znZepJP0NIVpV/xIu4+OVwU98755\n",
       "xB+h8dbHK3gyQ33TV76qSGzzdrvup6CYc5MRhD23gC2+cu/BfaTd3lhAA1JtPye0UXlpoQElEdX8\n",
       "701LowGVA+1OfA10Zfj5evQQvH3i5VH/8S/5BR+sidboQXJrAAAAAElFTkSuQmCC\n",
       "\" style=\"display:inline;vertical-align:middle;\" /></a><br>\n",
       "<strong id=\"set_abcde\">set_abcde:</strong> <a class=\"ProveItLink\" href=\"../__pv_it/demonstrations/8317c9aef8df5e851c453ed6c9e8d9b0a469faeb0/expr.ipynb\"><img src=\"data:image/png;base64,iVBORw0KGgoAAAANSUhEUgAAAGkAAAAVBAMAAAC3TN2zAAAAMFBMVEX///+IiIi6urrc3NxERETM\n",
       "zMwQEBCqqqpUVFQiIiJ2dnYyMjLu7u5mZmaYmJgAAABN0h6tAAAAAXRSTlMAQObYZgAAAY1JREFU\n",
       "OMuVVDFPwkAYfdIKBY5STBhJmEic6KgbEzODP8CYGBdDmJxMxNG4mLgY4wCLCQ6G0ZiY8AdIYTLB\n",
       "RPkBBtwcZPDu+1q4Jq2GG+7efe973/Xe3RWA/Y412uZ4oAbxjLVa4lD19pceE/WriPr1kTZ7U10m\n",
       "nJYdRdTPt7RJL0IVSghadfCPKpQQSvxL1Yty4CVaZUzGxxx7Krz6bLfQoNGYFL99q7olF7hX0OrL\n",
       "ruJm2UrxM/BcQrsts0+g4poLVm27RgeYK3giK4omcjUiUgvkHUK3sMgYxbFcHGHYYJf3ruU8t0Ca\n",
       "c2WC1wGHuCmOIrCahU81XsjUipQna/AawXFVaYlkzVcprsyH0uYUNViSluXP/OOa4oO85xUR4jg0\n",
       "Dzz0WrhMkQn5styHLwctuuLUhzq+h0plOvZNBp7ctDU1RwRybbl1BVbcRh9DVzsvcV7c2UL6TqLx\n",
       "IwjgYeZwZMmhNJtG3I3TeKAhVu0v5514oKFe+H0JJxZoiN8Xlm/ZjgcaShzwJVr/v/ELQQhyN2KQ\n",
       "K64AAAAASUVORK5CYII=\n",
       "\" style=\"display:inline;vertical-align:middle;\" /></a><br>\n",
       "<strong id=\"set_1a2b3c\">set_1a2b3c:</strong> <a class=\"ProveItLink\" href=\"../__pv_it/demonstrations/00a063f986d5d40918059f45530816477164e7c80/expr.ipynb\"><img src=\"data:image/png;base64,iVBORw0KGgoAAAANSUhEUgAAAH0AAAAVBAMAAACZCfwhAAAAMFBMVEX///+IiIi6urrc3NxERETM\n",
       "zMwQEBCqqqpUVFQiIiJ2dnYyMjLu7u5mZmaYmJgAAABN0h6tAAAAAXRSTlMAQObYZgAAAdxJREFU\n",
       "OMtjYGDgu8dAFmC9eABE8exiIBMwpYJIvg/YZXnuugRAWEcyoULMq5YUICu5DSK4JoDIsgPo+k8w\n",
       "cH2CMvdCaVsG9n/ISlbC9PN09WPov8PAkAZlfofS8gUMP7HqZ2B4j6Ef6Oh+A4g//0CF1BQYfhOt\n",
       "f/8Bhn5IAEBUgAEO9yPpt10rBjdqPoTF3SgLC7aTC6AMLkFRBoZlIBbHBmT9TMkM++Hx8wtCn9/D\n",
       "8xnCspoLVcY8ncEbqAkc8gHI+o89YLgC08/ZAKHrDzB8hAoxJkGlFjC0Ax12gYEhZDIDsv77Bxgm\n",
       "wvTfhUczzy+YWNoBmDIQ6BQABiqK/SkMPF9hdl2ARz8TJAaNGRj8C6DKwAEDciCHA5J+oEXssPRY\n",
       "y8AMib9/DLyQGPx/AKof6p73GOHP8x0YnsWQ7LGAgRGi/xMoVKC2QqMEGI3s0PCH6Jc/wMADShuO\n",
       "DC8bFoBZlqvWdjKcB0VOH4MvRPIdKP7BQjcYeK4ix/+N/L0PGGYCzT4hGNyoAGbt////JwPnHKDk\n",
       "WSmg9SAhprtXFCBCXOseoqYfcOI6gMmqwSME1Z8A43IxYLIW4BGC6Efk/4MMGCweATxCkPzPAC9/\n",
       "HjBgsPjwCTFBEiM7JeUfAMKSofO0V7FjAAAAAElFTkSuQmCC\n",
       "\" style=\"display:inline;vertical-align:middle;\" /></a><br>\n",
       "<strong id=\"power_set_of_ab\">power_set_of_ab:</strong> <a class=\"ProveItLink\" href=\"../__pv_it/demonstrations/9a9da6ade13965e0e87923da127983bb8f7ae8880/expr.ipynb\"><img src=\"data:image/png;base64,iVBORw0KGgoAAAANSUhEUgAAAL0AAAAVBAMAAADhtvKAAAAAMFBMVEX///+IiIi6urrc3NxERETM\n",
       "zMwQEBCqqqpUVFQiIiJ2dnYyMjLu7u5mZmaYmJgAAABN0h6tAAAAAXRSTlMAQObYZgAAAjpJREFU\n",
       "OMudlTFIXEEQhgejvvPeevcMmMriKluvtAlcmkA6QVshJNqFIAipPFRIE2wiNgoprhKuSLCUgPhs\n",
       "JJDieSAICvraFOI1IqhFdmbfezuzrlfcFu92v39m2Nud2QGAyiXocZ0OdWKww1AASbUZ/cxPeKAd\n",
       "JGee6jd+/7YABhathaE4OCUzGpMzHmgHycaz0sXvDX4u2Pa7xZRRNFNvv+vJ6J6AbGNMJs8yrqFd\n",
       "fMwwFBxK8/BE6sJAyO2+4leXesZncn/xp+Ke8ZncX/w29IzvBmXTXSf+65+vYkHJbH/sTOvvJXxx\n",
       "3vlkVkwmzxJd9YaTCEgHPsKhkx7aTD3ESZ3nF/lO1kNDuEyeXzBVg8Xi6s1AepzCqaRoFjxCNQI4\n",
       "EFB9htGGWTEZPee2sNTe1Un8FmU+RK9i2BSUzHRqJ7qgSpsCPsKIsRIyerJSC9dEAS6AupUUzfSm\n",
       "pnQK7gs43IBkJk//QibPEv2vr+75N0DdQ9B1zl+bVVP8Y/z8NdRbXs3Sn8k3PfNH3elbXn6SP9Wa\n",
       "Pmw3f5Il2AjojLm868t/9ZDTN/BvrSUozkvp4EnulexlcDCqbJdpyWV/fe3kBfhnbHa9JijOVedX\n",
       "4TXyI4fr49Mvacllf/wg9tVvEItSzfQVWb8rUjbx7VEZw7Kl4FB7F1n8lry2lif+k/f/yPv+H8mn\n",
       "3jzwKhJQRVI2ntSpQuxfH2idWkrpzWlY9K8a7ULCii2fmvUMqNM2nf4b+Ptv09d/m8/33/+ipevT\n",
       "8xNZuwAAAABJRU5ErkJggg==\n",
       "\" style=\"display:inline;vertical-align:middle;\" /></a><br>\n",
       "<strong id=\"empty_set\">empty_set:</strong> <a class=\"ProveItLink\" href=\"../__pv_it/demonstrations/25abc8f66aa160c6177ef369ec9a64e5542df2cf0/expr.ipynb\"><img src=\"data:image/png;base64,iVBORw0KGgoAAAANSUhEUgAAABMAAAAVBAMAAABWJ8jiAAAAMFBMVEX///+IiIi6urrc3NxERETM\n",
       "zMwQEBCqqqpUVFQiIiJ2dnYyMjLu7u5mZmaYmJgAAABN0h6tAAAAAXRSTlMAQObYZgAAAF5JREFU\n",
       "CNdjYGDgu8fAevEAAxDw7AISTKkgJt8HEHkbRHBNAJErSWAuAxEcG0DkexBRFgAiuS8wMIRMZgCD\n",
       "TgEGBjWIaANIrQNcLZIJhG1LgDOR3MsA9kUSmMkO9RsA2nceY29T18EAAAAASUVORK5CYII=\n",
       "\" style=\"display:inline;vertical-align:middle;\" /></a><br>"
      ],
      "text/plain": [
       "set_12345: {1, 2, 3, 4, 5}\n",
       "set_abcde: {a, b, c, d, e}\n",
       "set_1a2b3c: {1, a, 2, b, 3, c}\n",
       "power_set_of_ab: {{}, {a}, {b}, {a, b}}\n",
       "empty_set: {}"
      ]
     },
     "execution_count": 8,
     "metadata": {},
     "output_type": "execute_result"
    }
   ],
   "source": [
    "# some standard enumerated sets\n",
    "from proveit import e\n",
    "set_12345, set_abcde, set_1a2b3c, power_set_of_ab, empty_set = (\n",
    "    Set(one, two, three, four, five),\n",
    "    Set(a, b, c, d, e),\n",
    "    Set(one, a, two, b, three, c),\n",
    "    Set(Set(), Set(a), Set(b), Set(a,b)),\n",
    "    Set())"
   ]
  },
  {
   "cell_type": "code",
   "execution_count": 9,
   "metadata": {},
   "outputs": [
    {
     "data": {
      "text/html": [
       "<strong id=\"set_12131\">set_12131:</strong> <a class=\"ProveItLink\" href=\"../__pv_it/demonstrations/674c46aa244880d8a9054b385e43d4464d889b990/expr.ipynb\"><img src=\"data:image/png;base64,iVBORw0KGgoAAAANSUhEUgAAAGsAAAAVBAMAAACzuQ2OAAAAMFBMVEX///+IiIi6urrc3NxERETM\n",
       "zMwQEBCqqqpUVFQiIiJ2dnYyMjLu7u5mZmaYmJgAAABN0h6tAAAAAXRSTlMAQObYZgAAAW1JREFU\n",
       "OMtjYGDgu8dACmC9eABE8exiIA0wpYJIvg/IYjx3XQLQ1Vmtckfh3wYRXBOABHsOVOgEA9cnKBMm\n",
       "xnyBof4BVKwM5MCVMG0nVvyBit9hYEiDGgATY/zOwD8B4pSufhRtDHwwbZkMDP0GECZMjCmJgX8D\n",
       "VPo9Dm37DzD0B6BqAwK4I3FpA4L5B9C18cxiQNa2DMTi2ICqjekXA5o25pV3ULS9BwdOAKo2zgYG\n",
       "DEeKKSBr477AwBAyGU3JXQZMbWw5yNoYOgUYGNRQbWO8gK6N2YCB5TuKbSD3cDigaKsFKUPRxv8H\n",
       "Tdt7zJBkXcDAiKaNzYGB8w9GSIK1MQLFz4OC1HLV2k4ICy7G9wAYbzy/wdrkUeKNt+33PQbOOaDo\n",
       "/v//J4SFENO968TAMBOk4Ub+3gfI0Q0GNQx4WOwH4GIQbQkw7gIGPCwuBlRt8PzGI8CAh3UQLb8x\n",
       "wHI3H1wcG+sBIvUlQVxNRlkCABmCiRBKMfwWAAAAAElFTkSuQmCC\n",
       "\" style=\"display:inline;vertical-align:middle;\" /></a><br>\n",
       "<strong id=\"set_1a1b2a\">set_1a1b2a:</strong> <a class=\"ProveItLink\" href=\"../__pv_it/demonstrations/6c9e1eac56f7fa6ddae00d07cadbdddedaddb76d0/expr.ipynb\"><img src=\"data:image/png;base64,iVBORw0KGgoAAAANSUhEUgAAAH8AAAAVBAMAAACd/CwcAAAAMFBMVEX///+IiIi6urrc3NxERETM\n",
       "zMwQEBCqqqpUVFQiIiJ2dnYyMjLu7u5mZmaYmJgAAABN0h6tAAAAAXRSTlMAQObYZgAAAaRJREFU\n",
       "OMullL1LAzEYxp+eSL/Soy4Ogujk3NVBUHAVCvoHiF8gCAqCk2K7CHWwipMg2KmoUHAWSyOIdJFW\n",
       "cBBqa1en1ooUrViTu8Tm7qSFmiF57s2TX95cPgDoJXRXeu8pb8glui3aIq/1aiffzbIQpDgZtvQU\n",
       "eOXb5/UGdYxzr0iVFm0WvprFciYBZDfuAGRPv6Ssi/YJWPobAFScGegSoEnBlhIPdQEwHaxkKOLh\n",
       "ToCxVD+1AfzRwTU55ISqtiSXngsVoM0jY88gd0Xe5Go+LbaK8f/DKuC2jAc7YJviVUhvxGLz54GZ\n",
       "Q6iAZ4oDO6AAIiZGEVZbLAiMWDJYAHm3A9LQxEa68rDY/Dwhz7gCYFO5q3bANwJCbqEnpNoqjl0g\n",
       "dfZT122AGl+ycXsScIVUW7IFGKIgDdZO4CWSMBRcDJDjW7SHKbNz9DwVM0OGTT0Hj6vpMo5YFtm+\n",
       "6eiwoQI7jRK8x6zzboAlwEOZZvPDDJk29SAZt4c61WabkATMyk8fnCrRJiQArffgGg5Fgm1C4j3A\n",
       "74tUhkPp7ULQ5szV/etN/AGTuKTS3QUgKgAAAABJRU5ErkJggg==\n",
       "\" style=\"display:inline;vertical-align:middle;\" /></a><br>"
      ],
      "text/plain": [
       "set_12131: {1, 2, 1, 3, 1}\n",
       "set_1a1b2a: {1, a, 1, b, 2, a}"
      ]
     },
     "execution_count": 9,
     "metadata": {},
     "output_type": "execute_result"
    }
   ],
   "source": [
    "# some non-standard enumerated sets pretending to be multi-sets (but not!)\n",
    "set_12131, set_1a1b2a = (\n",
    "    Set(one, two, one, three, one),\n",
    "    Set(one, a, one, b, two, a))"
   ]
  },
  {
   "cell_type": "markdown",
   "metadata": {},
   "source": [
    "### Testing the `TBA()` method\n",
    "<br/>\n",
    "<font size =3>The <span style=\"font-family=courier\">TBA()</span> method has the following format:<br/>\n",
    "    <div style=\"width: 50%; border: 1px solid green; padding: 5px; margin: 20px; background-color: gainsboro; font-family:courier\">TBA(self, assumptions=USE_DEFAULTS):</div>\n",
    "    and does something interesting.\n",
    "</font>"
   ]
  },
  {
   "cell_type": "code",
   "execution_count": 10,
   "metadata": {},
   "outputs": [],
   "source": [
    "%end demonstrations"
   ]
  }
 ],
 "metadata": {
  "kernelspec": {
   "display_name": "Python 3",
   "language": "python",
   "name": "python3"
  }
 },
 "nbformat": 4,
 "nbformat_minor": 0
}