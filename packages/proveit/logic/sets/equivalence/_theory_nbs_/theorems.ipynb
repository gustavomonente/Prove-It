{
 "cells": [
  {
   "cell_type": "markdown",
   "metadata": {},
   "source": [
    "Theorems (or conjectures) for the theory of <a class=\"ProveItLink\" href=\"theory.ipynb\">proveit.logic.sets.equivalence</a>\n",
    "========"
   ]
  },
  {
   "cell_type": "code",
   "execution_count": 1,
   "metadata": {},
   "outputs": [],
   "source": [
    "import proveit\n",
    "# Prepare this notebook for defining the theorems of a theory:\n",
    "%theorems_notebook # Keep this at the top following 'import proveit'.\n",
    "from proveit import x, A, B, C, P, S, PofA, PofB\n",
    "from proveit.logic import FALSE, Forall, Equals, in_bool, InSet, Not\n",
    "from proveit.logic.sets import SubsetEq\n",
    "from proveit.logic.sets import Set, SetEquiv, SetNotEquiv, Union"
   ]
  },
  {
   "cell_type": "code",
   "execution_count": 2,
   "metadata": {},
   "outputs": [
    {
     "name": "stdout",
     "output_type": "stream",
     "text": [
      "Defining theorems for theory 'proveit.logic.sets.equivalence'\n",
      "Subsequent end-of-cell assignments will define theorems\n",
      "'%end theorems' will finalize the definitions\n"
     ]
    }
   ],
   "source": [
    "%begin theorems"
   ]
  },
  {
   "cell_type": "code",
   "execution_count": 3,
   "metadata": {},
   "outputs": [
    {
     "data": {
      "text/html": [
       "<strong id=\"set_equiv_unfold\"><a class=\"ProveItLink\" href=\"proofs/set_equiv_unfold/thm_proof.ipynb\">set_equiv_unfold</a> (established theorem):<br></strong> <a class=\"ProveItLink\" href=\"../__pv_it/theorems/9e992f2333e2f235468af344bab8c8ad1139ff060/theorem_expr.ipynb\"><img src=\"data:image/png;base64,iVBORw0KGgoAAAANSUhEUgAAAVAAAAAWCAMAAAChQDQuAAAAM1BMVEX///8/Pz8QEBCIiIhmZma6\n",
       "urrMzMxUVFQiIiJERETc3Nzu7u6qqqp2dnaYmJgyMjIAAAAtmB3VAAAAAXRSTlMAQObYZgAAA9pJ\n",
       "REFUWMPtWdmWrSgMtQVkhvz/115k0ETBoW61L908VM6qQ7LNJpOcafp6sRiXRxtNoPL1cmZ6BfRz\n",
       "hCpDVGKK27chfEKoF9MjUKupfLGWal8+YvQVQJAAknOptcAITSbnvGt7o/2M0Ceg0VD5YkWoVMVH\n",
       "u98BzIV/DgtCaDI5Z9r5GD19RugD0MCpfBNFEeoxefZg9zuABUpOCeAYocqcfg3cfUfoA1BlqOxy\n",
       "oVVaxzC0jkNVsvP981wA9OyzajsAwwhVrs4Fb9dl1PQhobeg7ZuLx1o069aLkJwWLZ3FbUdS7+zr\n",
       "uRKoLEEoMjsHel3Kf0noLSjjVFrGpBEM5bAdlF9hJwet1fnbfB4CDOyDzGQraSlCkdk5macYjSIf\n",
       "fxYauE9dDf/rfGydtOkoIkLPoAeLgUibmA+KTSj/Bi3cirXOsa2c7rgRLX4EOgP07S8gQ2BauemA\n",
       "UGR2TvBDQwyAKQs5xj2qRqdGQhXGiojQE+ixsjkifYoHn1qNMOOn2E/bQCPM3RayIUDffi2hdpYH\n",
       "hCKLc+tHts+DlgMeDnlWdWCHrjQFoblBIXxWRIQeQU/DiSBytaEJ7jJv4Ub+nYZELkFvAXU7BQ0A\n",
       "BvZrCU3EOopQZHHOh+Jf89gqXHlUTh8exxFaFYQWoZy3HyhiQg+gN4Tm6kVmoMHAVbbP8S2hJ4CB\n",
       "fZCNUDYm1MR0sPvRMHJUNg+wDFfoA1RTyEmsU+6UwOsoYkIRqGd8YXK5Svn8xHRHdyJqWu1Lofo1\n",
       "VJ6ATgDz1RQ6yVblGoJAKZ96g9zPKWFxFDoCWCrCkoQ9BWkKdbSdZz5SxITuoGk4kXFS4qopuXRM\n",
       "UPZupagztBtHX5VwU7rufmeAnv1tCl22otJpSskaYjC4qZjeDjYbUkNCNwWpy/qnPGNHkRC6gaa4\n",
       "iKdiSqcRkSqWhsM1hnLDmVK3yZ7fDoNjANV56YglbsWsG/ENocjmHKDpi3uvcQfKGw24AaEnhQtF\n",
       "QiguWXAaUWgmWcmYZZzepFiphSWXHAC5wLj0obaB+4utMcDRfgqZ2G5GdqcaQpHNubAHus0s7M9R\n",
       "CBHYZULoSeFCkRK6g64FffnBq6fwuvPqiTl58Pp3AXBrf0eo0h/nR1GOaC29Rheq8t/ZD1IeKcit\n",
       "5IeBYhfTQK4O/vcuRxDW71+ODBDQ5QhJ01xrjQYV0iCWQswrWOc6LQZNCStQoJ5iF9PKIDzzdvT2\n",
       "pc2PvX12ffcXAL3ru6v76NET/MK7/PN7X/tzOP37F8w3p37p3PAXhL8jlKmvfgIJ//pPIA2hShbV\n",
       "FaFDmI9uov87i/9PwXj9AVbtLHt/hX5YAAAAAElFTkSuQmCC\n",
       "\" style=\"display:inline;vertical-align:middle;\" /></a><br>"
      ],
      "text/plain": [
       "set_equiv_unfold: forall_{A, B | A equiv B} [forall_{x} ((x in A) = (x in B))]"
      ]
     },
     "execution_count": 3,
     "metadata": {},
     "output_type": "execute_result"
    }
   ],
   "source": [
    "set_equiv_unfold = Forall(\n",
    "    (A, B), Forall(x, Equals(InSet(x, A), InSet(x, B))),\n",
    "    condition=SetEquiv(A, B))"
   ]
  },
  {
   "cell_type": "code",
   "execution_count": 4,
   "metadata": {},
   "outputs": [
    {
     "data": {
      "text/html": [
       "<strong id=\"set_equiv_fold\"><a class=\"ProveItLink\" href=\"proofs/set_equiv_fold/thm_proof.ipynb\">set_equiv_fold</a> (established theorem):<br></strong> <a class=\"ProveItLink\" href=\"../__pv_it/theorems/416b831a9d0367b0ae60599dc53fa04631feda9d0/theorem_expr.ipynb\"><img src=\"data:image/png;base64,iVBORw0KGgoAAAANSUhEUgAAASMAAAAWBAMAAAB5zue0AAAAMFBMVEX///8QEBCIiIhmZma6urrM\n",
       "zMxUVFQiIiJERETc3Nzu7u6qqqp2dnaYmJgyMjIAAAAcRTyBAAAAAXRSTlMAQObYZgAAA/xJREFU\n",
       "SMe9VmtoE0EQHpNckstd0v4SwQcBQUVbLdQH/hAiQhFRPPxR/SEa0EItqBVFVBSqf7y2Qu+XiqI9\n",
       "ERUqaEERCwolIkKVclQRxQcBoaCgLValVrTOzO498vAFkmFud29nZ/bbmdm5A6gsnfuDvA+fPA1e\n",
       "VQpRoo07hXcFfdjANsPjp5PblpoZiFoAD+n9XaUgpSzRjXI3/HImtlkhmgYQ/gwJBHsa39S2SkF6\n",
       "LLrXE9Qm03CtH1QBSfkOEBkDyCFgGx3YWylIB0X4bnylLoqPaZ03eC6EU8mPABewG+jpOVUpRGor\n",
       "d8nQJ+rClE6T34QoXo1wDqGLMLXGTfPwX9u0mAtJCe4J5aSG+xKq426N9t2TX5J9VRaU/RQxXNIE\n",
       "0M6Tol09dq+Zd42UQaQzF1A7aBn/rT8oYlMkvenOxB2OW0b5WGJ6686h45Q/SczvVZzlOP4knFoN\n",
       "ejWrs29tEXJJO5iDRFrLvbdogQuFKZSG3elYrzisOsYH/MAkPLfIgsRU7DWMbQxCjP2icGY4C9qE\n",
       "B0nBY5/0g9DPEyJF79Q7Uuuyt2CzO7h6b4VrCqUJec9hCju0sX7peImXjhIsRKxgfdCdGM8N7BUH\n",
       "SUM470ECLA9LfCcYxIKe9fW4WinPN02ufzrP2K4pkr4tgITNrBJIXwhSWkBS843sgbTJousGLLR9\n",
       "SK9N0y9aMWbILZljRIS7WUt4mQidrs/e0ITJ4JsiaW0wcBo+e0puAcVoN4KN0KVs3y6KxDKWra+d\n",
       "J9wcl23SL1qnmEP2rlgmJf1GWloWmk0kh+74/Gh+n/hKSVMohVvB9D6Lz0ggl7JuWVLGZXrDDS4W\n",
       "L2ARaw0CzA1A0o144AoxK/Aec0jMsFbE9SMNjJQDibqAKZpc7d7YOlmbuopLSQqv1MoOymVK1qo0\n",
       "ZeubR10crxMA3b0+pER2ra/XwAyAJ9qIXklLLfkRxd3pwFUWKAdM85hriqRb3AWtkOj6YcPtyb2F\n",
       "iKIjX+qbOxkbJWvSFre9mzMXi+l6y4cELS2g1tSKWG5ixgxUZGUQWohkF0XAUchdW7EyiuXCFOFs\n",
       "KPyg/I6ueKN1eDxH7QB1AtQZgcBBA97kSFu/uxy5W8/rGFBPC5JeYWgFdXQQ6+V9ruTCFElfFn12\n",
       "f0M5r6yOg9p1RJkOD8bqmzNBSDHcO5SWY5v48pPcAECnpwVhr3wfgsTOtTU2xCn00hRJF3v7WH/6\n",
       "ocoXTWiBsZ/WetwQ1zzUSyw/V5RLMjW9lQvcwTzKJV+aL/qF+zWVYO4rCyk8lJMFso25mO6W0SmQ\n",
       "as5f/+g+L55wykKCYMatK/V1nTeMOGWlF//Tv024zJxmERdRyC7vZl86/582/gl2QxmNFBXm2AAA\n",
       "AABJRU5ErkJggg==\n",
       "\" style=\"display:inline;vertical-align:middle;\" /></a><br>"
      ],
      "text/plain": [
       "set_equiv_fold: forall_{A, B | forall_{x} ((x in A) = (x in B))} (A equiv B)"
      ]
     },
     "execution_count": 4,
     "metadata": {},
     "output_type": "execute_result"
    }
   ],
   "source": [
    "set_equiv_fold = Forall(\n",
    "    (A, B), SetEquiv(A, B),\n",
    "    condition=Forall(x, Equals(InSet(x, A), InSet(x, B))))"
   ]
  },
  {
   "cell_type": "code",
   "execution_count": 5,
   "metadata": {},
   "outputs": [
    {
     "data": {
      "text/html": [
       "<strong id=\"set_equiv_reflexivity\"><a class=\"ProveItLink\" href=\"proofs/set_equiv_reflexivity/thm_proof.ipynb\">set_equiv_reflexivity</a> (established theorem):<br></strong> <a class=\"ProveItLink\" href=\"../__pv_it/theorems/342dc3918fce6a92215ff9de8c818d7aae3bac4e0/theorem_expr.ipynb\"><img src=\"data:image/png;base64,iVBORw0KGgoAAAANSUhEUgAAAGwAAAAUBAMAAACaOcVSAAAAMFBMVEX///8QEBCIiIhmZma6urrM\n",
       "zMxUVFQiIiJERETc3Nzu7u6qqqp2dnaYmJgyMjIAAAAcRTyBAAAAAXRSTlMAQObYZgAAAcRJREFU\n",
       "OMuFVDtLA0EQ/oyJyV1ymj+g3D8wENBGULAQBCGVpRHUwsqIlaCQMqnuOgVRD1SQCEGw0E7BLloc\n",
       "WPog4KOwUFHBqGic2bsV10QzMPtNdu6bnRcB6sgy/pWoDZTZOFeu9ayAkHAhdpOis086R0gngSO2\n",
       "bxVaq+3Bg4Cbs3Y6R6XznrQILBJoWYV24sHFG5+GieIBNEkz7h1KwEQrw7ZCm/VS3XllaCHN2Ssp\n",
       "37fVS6nocRilQmFBYWkZL27gmaGZy6u+S6fbyVVeAZVcbk6hBRICBqMf31cb0gg6+y7BITAB5MVV\n",
       "3ndFXJFjX+ixtvfrSJtcNtAPXXTaePZdYVFpENqT6P+dEC8DmsMqW7v0FQIi/JrMqUnMaDjZVal5\n",
       "LDSWnOKupymcGxZXpRmFRkdHDS1I3rJH08rDIpCZ+5lklHS6hkaecJxwgFsx7s2n+2dLlvyFkLWJ\n",
       "cWvb/u5QS7Aj5nSKTp8WS/izs+xfj/F8I7wEPaRt3FL98thy/AIy0K1PB3vVGZW1Wb1F1HqhqNfc\n",
       "ef682cFqSlmuf0TPSGuIXnXVVf5bYqZsQwWaNS9/2A1oxfo5ZBvQ8vWvG/wpGDa+AFcIdm0gvh3x\n",
       "AAAAAElFTkSuQmCC\n",
       "\" style=\"display:inline;vertical-align:middle;\" /></a><br>"
      ],
      "text/plain": [
       "set_equiv_reflexivity: forall_{A} (A equiv A)"
      ]
     },
     "execution_count": 5,
     "metadata": {},
     "output_type": "execute_result"
    }
   ],
   "source": [
    "# Broken\n",
    "set_equiv_reflexivity = Forall(A, SetEquiv(A, A))"
   ]
  },
  {
   "cell_type": "code",
   "execution_count": 6,
   "metadata": {},
   "outputs": [
    {
     "data": {
      "text/html": [
       "<strong id=\"set_equiv_reversal\"><a class=\"ProveItLink\" href=\"proofs/set_equiv_reversal/thm_proof.ipynb\">set_equiv_reversal</a> (established theorem):<br></strong> <a class=\"ProveItLink\" href=\"../__pv_it/theorems/d38be00e5cf5873305aaca707afa60442fd8cac70/theorem_expr.ipynb\"><img src=\"data:image/png;base64,iVBORw0KGgoAAAANSUhEUgAAALoAAAAWCAMAAABADnZWAAAAM1BMVEX///8/Pz8QEBCIiIhmZma6\n",
       "urrMzMxUVFQiIiJERETc3Nzu7u6qqqp2dnaYmJgyMjIAAAAtmB3VAAAAAXRSTlMAQObYZgAAAoNJ\n",
       "REFUWMPNV9m2pCAM9LIIYc3/f+2wShTtdk5PO5cHD41dUEkqCS7LfxgmfLiBM/kZt98hPMTcQjtQ\n",
       "ISohFIAkb31Ua5vKCbo2uipz964vR/sQ9Wj6jFUjBK7jpQqeNSeqGYrN+myCgR5FeIh5EJsPsXKU\n",
       "uC0FXoj5wmiiHiI2/3pOnD3c/+WhN6dzrNOAvC81tgBmMXE9Ks2Jhlgsyzhv8zD6qRwdBwFrNPSm\n",
       "1e5+j4iTL0Mytus/5glCHto/RJ1v4liw+HjV6iTL7DotSbs47LXE521qQoMZ/6FzCSh8qgJ0adqU\n",
       "vn0BrP8NQ+oqBA76plKtzBC+yT6fIXrK9lWk5EKJqmfk8CmQKM/ScQJWqbuD1C1TtDSSIfa+yGrb\n",
       "EtoV3eUHH0XdCqQVXpSNHdpL6h0gQRgSlhlYC6I8SD2ZcMfva2oBQiFsISuWhkq/G241NVeXEIl4\n",
       "7fUGkCBDdam/AB6oo+rU+Q3qFcbijrqJyaRhHU+libi0tAtO+9WBegcU3YG3LYInwL1gelVf1Kne\n",
       "jr2/obv+pG5ZpgY4GSFIDCTylEq75nCg3gHVdZ4xcQXcp2mv6ivChdYJ2Lh9O61pmiwiXIPLm9K9\n",
       "yjH6kvoAqFJl4QcKuxPgqGqFRXWgZGDvNwPoPUm0Yj7EZqPwHmhO1p5MM2lHfQK8ANJIq9jvXu9z\n",
       "1AJiEZ5Lk5aIvdWG0c1sOW/0g3q0RHNBfQK8AB4vAp/cPqdoyirEnEAGKqnyZP5CMASQHNlHOAce\n",
       "r18fDH8sSlAyxgDqsKwsuc1rzNV0d6Gm1Clgv/UZ8EXv/Vunx1v1aD76H31qfDDeWO/Ml6h//oEX\n",
       "3sTtcv+nvkm+MMTvoPEH82YZleTWRgoAAAAASUVORK5CYII=\n",
       "\" style=\"display:inline;vertical-align:middle;\" /></a><br>"
      ],
      "text/plain": [
       "set_equiv_reversal: forall_{A, B | A equiv B} (B equiv A)"
      ]
     },
     "execution_count": 6,
     "metadata": {},
     "output_type": "execute_result"
    }
   ],
   "source": [
    "# Proven\n",
    "set_equiv_reversal = Forall((A, B), SetEquiv(B, A), conditions=[SetEquiv(A, B)])"
   ]
  },
  {
   "cell_type": "code",
   "execution_count": 7,
   "metadata": {},
   "outputs": [
    {
     "data": {
      "text/html": [
       "<strong id=\"set_equiv_transitivity\"><a class=\"ProveItLink\" href=\"proofs/set_equiv_transitivity/thm_proof.ipynb\">set_equiv_transitivity</a> (conjecture without proof):<br></strong> <a class=\"ProveItLink\" href=\"../__pv_it/theorems/0a41faa2840e67e0373a6cfcf1f300e94fe21d9b0/theorem_expr.ipynb\"><img src=\"data:image/png;base64,iVBORw0KGgoAAAANSUhEUgAAAPcAAAAWCAMAAAArSvpGAAAAM1BMVEX///8/Pz8QEBCIiIhmZma6\n",
       "urrMzMxUVFQiIiJERETc3Nzu7u6qqqp2dnaYmJgyMjIAAAAtmB3VAAAAAXRSTlMAQObYZgAAAv5J\n",
       "REFUWMPVWNminCAMpbKG/f+/trJJELhOp32oPDiYiSdkjxLyuqX93z1vdbqG6977V6htAN+JMPzp\n",
       "ghR1y8enKEgmPdGOEJkUd7b9Fcwr9A56uIvDnfTuqO6T+A9aqJalX5NspZv5NLxCbc+GuxCRtzxN\n",
       "ng0uqyNxiKjKxWL2NUVu7o7/r5fC7ja2KEIGFwNoooNAYXA04/AjP5au3pm0tHpHURuO6QmNKI9b\n",
       "KLgYI/Ii6zeisIT0UIS0lHuF3hSHOTfExlU1NgKbKnZbmRIdLqGUCggoXvCeQ2SOSRiqiT+LoyP0\n",
       "ovFJ8si/xVqib4QUXKSmOcWKSJ9M5WYWnyobZ6TWuEbFsUN8Tgl3IAOGXD+gk6aSOEL8gDVTtkJK\n",
       "eqP45dmZDHcxtC66imJq4TkC0oV2Oxo2xA7L1cL2uqmrTh62ejcIDkzjgJiwMGVgXgjJ6+j2FJIx\n",
       "JuNjGzqQuLoTufs5X3RvVjMKJ5HKUcJ6PLRKIOhW7wrBgfviILfBQpSReSHkrnfZHeGxA/QWbwXW\n",
       "W4fTdt2M9GwEyHU5SmgfamgznzE7vRtETiBwpkXThIUpA/NKyC3O60YdT3qjVtdqN1e1CEmOmyBD\n",
       "3ueR+nPGQ5IXgXUjNYjiK3ccbIOFKQOz2kXvVde0nQe2Ib9lz0t6hSGua2l864p6m6yNsfKhOkN0\n",
       "T3p3CJlbJPyCctwJC1Mq78ns10J6B8J9HKJ+fBGJdUi9YodV+F7pTWDOAaoEUKa+3vpb5hm/0XuC\n",
       "2GMtKHshKEINxJizxZ6boRqtX2UYSMlQh2nDnO+WMPkcvfKXI/FuVQZjrkx6TxB7rAVlL2Qxp377\n",
       "SjfNprzYNwWGhnL+fD2KXzJJJR7j9EZvBEHklW3+hjWjj7wLIav3ku+Wuw8ykLuhhniKFcfpC6di\n",
       "apJQYiSTTuI5R1GzyW8McZOGsRboN+5JyE+T4J+5+6H12Y9Iy3ntk88e/+S7wzfrwXJWf0L6Vm/7\n",
       "tdv+9juTf5DsPyJ9q/c7Pmo9jUSvO/Fv/PghaSjPWp0AAAAASUVORK5CYII=\n",
       "\" style=\"display:inline;vertical-align:middle;\" /></a><br>"
      ],
      "text/plain": [
       "set_equiv_transitivity: forall_{A, B, C | A equiv B, B equiv C} (A equiv C)"
      ]
     },
     "execution_count": 7,
     "metadata": {},
     "output_type": "execute_result"
    }
   ],
   "source": [
    "set_equiv_transitivity = Forall((A, B, C), SetEquiv(A, C), conditions=[SetEquiv(A, B), SetEquiv(B, C)])"
   ]
  },
  {
   "cell_type": "code",
   "execution_count": 8,
   "metadata": {},
   "outputs": [
    {
     "data": {
      "text/html": [
       "<strong id=\"set_equiv_is_bool\"><a class=\"ProveItLink\" href=\"proofs/set_equiv_is_bool/thm_proof.ipynb\">set_equiv_is_bool</a> (conjecture with conjecture-based proof):<br></strong> <a class=\"ProveItLink\" href=\"../__pv_it/theorems/62764442fa45dd3109d11e7ecaeaeccf4c929bf20/theorem_expr.ipynb\"><img src=\"data:image/png;base64,iVBORw0KGgoAAAANSUhEUgAAALcAAAAVBAMAAAD2lGJJAAAAMFBMVEX///8QEBCIiIhmZma6urrM\n",
       "zMxUVFQiIiJERETc3Nzu7u6qqqp2dnaYmJgyMjIAAAAcRTyBAAAAAXRSTlMAQObYZgAAAuVJREFU\n",
       "OMutVU1oE0EU/pq/ZjebNIdCBEUWPNiLpljQi9CCh0hBklO9mUArpIK24sFDq0QRTEVpTtZbIhUM\n",
       "FWLAg3iyNgelSl28iUYjVcEitlipbUXjm59smm02IPjg7cy8efO9N+9nFmhFiiG4FfkyzeWPiCts\n",
       "UrY5mJdMdEIMCyfp4+JT/8haT/IKMNx4xnE2/Sc0BHjI6HMmWLIB/yKZaJl/A6ef0EU8QtSWAnpj\n",
       "KFgOBdx6ftqASm7fYrdPNcf2dwtm0+UcG15B/QrcFNtxshPthqY3nvK6DEeMEOfIDh3Sis3B2zOC\n",
       "ie718jFBZyeUT2I7TKL3OtSgdOXq+YsS3Fck8Nskmp+ZmbKJypRkIiPcxwZ2jZdV6cslQA2Rbx/5\n",
       "yn05Z3qu9RN4gE6sp9PjNuB7JFMKc4/NolFjcrIGHD9FY4mvCrl6WCIDpKORJ5T+CS4U36OrpWSt\n",
       "uG5IBu4grltNu9fKXWNs8o4vh+sxD1U7WZgoo0d4Xmn+Q0QuCE0GEWOSgT5keWIXvjFaFDW3QXGl\n",
       "JOAhX6a2JFQrz1IDjFLG4OA3nv7Nt5wJ+DalWqdkuAd7RrZVlJd8cPxiVcNVdjOzEhypYyRZodAY\n",
       "7Vx3/pyoEB3OihWcuqatYgXvIK8d32vgylbPkfIIcKUywC3rab51P4b9OWtYqDzag1ZwVuYeFssI\n",
       "Xwa3gicC5NEoS+QQE3lwiG9F93UlYEmoQuCBlXrMP5tlHk+ZCT3Q4PlbkVA8YBbwBmHxeAB7a2ol\n",
       "yazWvRtWzz+QczvYJQ+LeBbN9p/VSuSgc5bFjhWZuvhikkfjOpCtqUUE56tL8E3+7G7EPlMdPJjm\n",
       "mqJh1WR/w8OFAOsHPwN15pDlzUHpj2a2t38LUkfF6Hom2r9Gd80ZlU6HoVyDsgllV5OHqwVpenP5\n",
       "nJmEdSiTF9w78XS1J9ln7k+YjduCCjYXstauz/5nYU821r2ZJr+mf/3N+W2S8toqMPBf6S/v2M5R\n",
       "X29IkQAAAABJRU5ErkJggg==\n",
       "\" style=\"display:inline;vertical-align:middle;\" /></a><br>"
      ],
      "text/plain": [
       "set_equiv_is_bool: forall_{A, B} ((A equiv B) in BOOLEAN)"
      ]
     },
     "execution_count": 8,
     "metadata": {},
     "output_type": "execute_result"
    }
   ],
   "source": [
    "# Proven\n",
    "set_equiv_is_bool = Forall((A, B), in_bool(SetEquiv(A, B)))"
   ]
  },
  {
   "cell_type": "code",
   "execution_count": 9,
   "metadata": {},
   "outputs": [
    {
     "data": {
      "text/html": [
       "<strong id=\"set_not_equiv_reversal\"><a class=\"ProveItLink\" href=\"proofs/set_not_equiv_reversal/thm_proof.ipynb\">set_not_equiv_reversal</a> (conjecture with conjecture-based proof):<br></strong> <a class=\"ProveItLink\" href=\"../__pv_it/theorems/df31ec55b25190b557152617ea0a9bdc90fadb170/theorem_expr.ipynb\"><img src=\"data:image/png;base64,iVBORw0KGgoAAAANSUhEUgAAALoAAAAYBAMAAAC/9PonAAAAMFBMVEX///8QEBCIiIhmZma6urrM\n",
       "zMxUVFQiIiJERETc3Nzu7u6qqqp2dnaYmJgyMjIAAAAcRTyBAAAAAXRSTlMAQObYZgAAAw1JREFU\n",
       "SMetVU1oE0EU/pps2uxm0+YgKCgY9WAv2kIkhVLagId6kRYPejOVVqgebNVD0KqNUCSKkAqCvWgi\n",
       "CpaINeBBPDXSg6WKRHvwoLUR66WXan/SP6S+N5vdThqKsnZgdt7Mm/nmve+9eQvYbvf/ovf0AzkW\n",
       "JmyAa1HA25UPdPatr2Ut6ST1M8BblqdtoFeSaSijK5pazSVX1NLOUB8CBmhQozbQx/kTJmtballq\n",
       "XszQhZmC0juTBHQ/KnlI20C/xJ8acmDSz2b33D2VHtdMM582kULzwTuWSt2zAa528/c6YWwn+1Ce\n",
       "hOvatk8hMwA1LE0BS7HYFRvoDsFHHjhxVkypu89PFZRKcpgDPAKcBm7aQHfzcVd+orrHWnpgSY8R\n",
       "Zrq+Aoeh5WygV3CsHMvAwzZzqcNShpBg117SNjiMNDU8ODI30tkvvLOsFFOkaCneEDT9LGNi3T66\n",
       "YbUkH13tgS6ehClhshVGEs0bgw+6T4CaeyeNUNHbwAfgtYxeRXY7ZnmqRyK9kUjE8IMMK8sZ6Gru\n",
       "uFh69FsMzjZ4VmR0rSmLwV/1Si0xGQSGkxIznO7l84WNXyxiSFXBFjYzIwZfYxeNU344czK6/qQW\n",
       "h7Cn8Rm9lAtAoxxVTvewSchlK1kJvfKnEVW8EJnr8seE6nkrDiZl9GPuKPzQ4pR82gIcZtHQOWzf\n",
       "iIUdBWd0q8jw83FTvNHA5HHyoBx1QtVyoNogz0Rvc4rb2UJl9uMNE0Kh1XNr7cGY8c71yO5IgffB\n",
       "tWl44ot0+w+Oo7j8M2rEtvfAfhndm3awkzoHUc/B0V1UCaTWUVpFrb3a93dxccttIJGW0IcaRlcw\n",
       "GovHYn64M1BXi6rYelNKK6HuNyVnEglRSel0S7+EXg91oZCPqEpDWd7wDIoKcnEbsqSjdDar3oK6\n",
       "AnWXxIxCsaJUdYmqkkjiTkb+e8g0lD5nq8C4l6DGr7p24s1coDMkocejGFjM7qtrDwSyem8g2Pfv\n",
       "fz7vRm88cpmSDdubSqXwv+3VJuiIYgtadhN0JYQtbs4twPgDKF/DdbnbR9wAAAAASUVORK5CYII=\n",
       "\" style=\"display:inline;vertical-align:middle;\" /></a><br>"
      ],
      "text/plain": [
       "set_not_equiv_reversal: forall_{A, B | A not_equiv B} (B not_equiv A)"
      ]
     },
     "execution_count": 9,
     "metadata": {},
     "output_type": "execute_result"
    }
   ],
   "source": [
    "# Proven\n",
    "set_not_equiv_reversal = Forall((A, B), SetNotEquiv(B, A), conditions=[SetNotEquiv(A, B)])"
   ]
  },
  {
   "cell_type": "code",
   "execution_count": 10,
   "metadata": {},
   "outputs": [
    {
     "data": {
      "text/html": [
       "<strong id=\"set_not_equiv_is_bool\"><a class=\"ProveItLink\" href=\"proofs/set_not_equiv_is_bool/thm_proof.ipynb\">set_not_equiv_is_bool</a> (conjecture with conjecture-based proof):<br></strong> <a class=\"ProveItLink\" href=\"../__pv_it/theorems/15dd353899168ee085fd4683733853da8389f48b0/theorem_expr.ipynb\"><img src=\"data:image/png;base64,iVBORw0KGgoAAAANSUhEUgAAALcAAAAVBAMAAAD2lGJJAAAAMFBMVEX///8QEBCIiIhmZma6urrM\n",
       "zMxUVFQiIiJERETc3Nzu7u6qqqp2dnaYmJgyMjIAAAAcRTyBAAAAAXRSTlMAQObYZgAAAwFJREFU\n",
       "OMuVVU1IVFEU/pr/9+bN6EKYwJCBFrkph4TaBA4EKYI4K2uVAxqMLVIpmoVWrwgco3B2tvOFQWJg\n",
       "QotwlTgLw36YbZQ1Ui1ykZIx/kTZuT/vzczzjeGBM/fec+/9zpnvfvddYD9T8sL3s2DWOT5HXmCd\n",
       "5Sobp6STXSxFQ7LpLzan7gJ9lXtcg5m/kV7AR0lfs8BqFfDv0snWStELsj2kAy0JzNg2hb3Rqck8\n",
       "VCr7Ifv3ujN2KCacddcM1nhuDVM6TUx3E2GdMWjRyl0BT96VIMQFykObtFlncH9WONnTFt6enztX\n",
       "H4pJppoo9DkKtVaWMpK+KcGDswT+iEJL09PjVVgZl06Wb4qz5jLhr3RcE7HbgBqh2r7ykfeOYVWu\n",
       "tRN4mHZsZTLDVcCPSic6jJdcNIyBkYa4mC5SJsqGHB/NGCVaWrsSxAcRegkY5UHx27aRS5nieiAd\n",
       "eIxuk1mlIDve4nLjEOt84sO+EueR3TpGEy08y8+V+r8Ec7XQJIkYkg7EMRGTQV/c1Nw28Zqkzgs+\n",
       "1MsOVFuepwswQCcGF//Hk3/4lDuJ4I5cVicd3p7mft0mRASoBtdvphq+pOEHmQSH3kGRdaIm7+dr\n",
       "l64KhUThLtjBPSRqHlxMpzfT6et8toaqdv00wZXyyqH7BLhS6OKZoxk+9SyBE4adFpKq3xTcvAnC\n",
       "ZO5jXLbyYW05eDJMFQ2wg+zlVOI0n+o83piE7UAVAg+vS+2bmbnMu3XrQE9WVP5RHCieswz4gCY+\n",
       "9Q44Zi7LSWdaD2yL2FtLqCtU3GGW6ozIOmtd/3ktRwW62X+sYSJTv7wZ4zXdBybMZa3Cp3ZXERzb\n",
       "ZHJZHCTKBedXdntOZfjKb3yxmmqv+HAhnGAsMlC3gQk2AB1/Z3bv9YddiCVTB0TreSWuv2lPrB5J\n",
       "pyav3IOyA+WIw4fLtLa999j+4TJtwTqELShjN7z1WNxoTpWKG7UubvlH2GYzzthqwf6qVH8spBl7\n",
       "UUadwQNZh6fpoM9cqMoz994e+A/OQe0fm0PNIoBCcGcAAAAASUVORK5CYII=\n",
       "\" style=\"display:inline;vertical-align:middle;\" /></a><br>"
      ],
      "text/plain": [
       "set_not_equiv_is_bool: forall_{A, B} ((A not_equiv B) in BOOLEAN)"
      ]
     },
     "execution_count": 10,
     "metadata": {},
     "output_type": "execute_result"
    }
   ],
   "source": [
    "# Proven\n",
    "set_not_equiv_is_bool = Forall((A, B), in_bool(SetNotEquiv(A, B)))"
   ]
  },
  {
   "cell_type": "markdown",
   "metadata": {},
   "source": [
    "### Folding and unfolding the definition of $\\ncong$"
   ]
  },
  {
   "cell_type": "code",
   "execution_count": 11,
   "metadata": {},
   "outputs": [
    {
     "data": {
      "text/html": [
       "<strong id=\"unfold_set_not_equiv\"><a class=\"ProveItLink\" href=\"proofs/unfold_set_not_equiv/thm_proof.ipynb\">unfold_set_not_equiv</a> (established theorem):<br></strong> <a class=\"ProveItLink\" href=\"../__pv_it/theorems/7b131b55dac3970e3f83081e869a314edd3d3d900/theorem_expr.ipynb\"><img src=\"data:image/png;base64,iVBORw0KGgoAAAANSUhEUgAAANcAAAAYBAMAAACb7XXnAAAAMFBMVEX///8QEBCIiIhmZma6urrM\n",
       "zMxUVFQiIiJERETc3Nzu7u6qqqp2dnaYmJgyMjIAAAAcRTyBAAAAAXRSTlMAQObYZgAAAzBJREFU\n",
       "SMe1Vl9IU1EY/7Xdq7t3m/oQEfSHlQ/1Ug4WE0Rs0UMRhKMHXxtYYA/RSij6RwuiphW7PSVEuYhQ\n",
       "BtnAl3xq5UNiEcsgiP4NAqEe0pzanJid85179ahMuWIf/O537jn3nN93vn8bsErRstLL/RU+7jOR\n",
       "4y9f7JN1S2M9Rkqls+AZDrNniMYfZpuD8RDKDBBe87mf9sl+SOMKQ6hRUsOft7BnRCxtBJwT0JkZ\n",
       "HB3cJTHbXF6/9PJeqK9FWvGhJwNNkKkzgJIHXoJQkWQXT9smKzekl/PCmb1TXJUxxI0HYZpzsCnv\n",
       "GPAQBO9gKnXXvhflLVpUXNYxzpWTh212Wiy5qhjJBXalkEAhHr9kn6xaGjuESw+5Z+amHpu6MgL1\n",
       "LPedX+A40Gaf7LY0dlEV6CF1bMlnR08O3eAx8uYE9lOe2JWLzF/nuGRY/CjkCrQ8Zf4vEnHbGgP6\n",
       "BqbdUYFyOER9ivsdzPe3GGKzZbjIhRSbStQHTS+st+LFsm4d1VRTIFhYYtNVTshsUUcFPNlyEd9x\n",
       "oargqSIOa8M3UZ8nGN4BL0qRscfWJWSTnMw3T6blmmj+kQivMwJ3USbT92bR/btO8bM9QeB50nLj\n",
       "HBm50c1wejEXLzOcYmYoUQG0HaOFwVZRQD44czKZp8uPPdjW8IRF5wzQsDBBOBklyD2GESlmEavM\n",
       "1IKUIOilMlF9cdr9NIzdSZnsiCsGH/QE84g+AYfZ2fot48Mip6nWEsaim1WwgOxr5/7KCKDSJwq/\n",
       "ltYbd+0UncYiizjJGN7RlLGh6+bsAelI5h898TeJZ7OtC7nKRiYDLTeJNSwAL13kE2rog7fADpnM\n",
       "m3bw/urhSeDJwREt2a6Wky4TZhp8f5Mg0ltAZ1oi66kfKGIgnojHfXCxBjtduhEvI2YjNsWZRCf1\n",
       "TnZYoyGR1UGbMBMflWkoU+YGueu4jBW4rJ8YUw6zo7JaO7QitM2SGxWWaSx/VbpIZxJ3MqV/PEsL\n",
       "t2beIlcBWuKyugmv8oGWkESWiKHjT7a6tjkQyHquBILXVvW34KOJBeKWrZFN355KpbDG0leCDDGs\n",
       "vWRLkCkh/F9xrv2R/wDQq+D9Agrw0AAAAABJRU5ErkJggg==\n",
       "\" style=\"display:inline;vertical-align:middle;\" /></a><br>"
      ],
      "text/plain": [
       "unfold_set_not_equiv: forall_{A, B | A not_equiv B} [not](A equiv B)"
      ]
     },
     "execution_count": 11,
     "metadata": {},
     "output_type": "execute_result"
    }
   ],
   "source": [
    "# Proven\n",
    "unfold_set_not_equiv = Forall((A, B), Not(SetEquiv(A, B)), conditions=[SetNotEquiv(A, B)])"
   ]
  },
  {
   "cell_type": "code",
   "execution_count": 12,
   "metadata": {},
   "outputs": [
    {
     "data": {
      "text/html": [
       "<strong id=\"fold_set_not_equiv\"><a class=\"ProveItLink\" href=\"proofs/fold_set_not_equiv/thm_proof.ipynb\">fold_set_not_equiv</a> (established theorem):<br></strong> <a class=\"ProveItLink\" href=\"../__pv_it/theorems/84830025cfd25abca0dfc66e6a192d5edc4f95ef0/theorem_expr.ipynb\"><img src=\"data:image/png;base64,iVBORw0KGgoAAAANSUhEUgAAANEAAAAWCAMAAABpCYnRAAAAM1BMVEX///8/Pz8QEBCIiIhmZma6\n",
       "urrMzMxUVFQiIiJERETc3Nzu7u6qqqp2dnaYmJgyMjIAAAAtmB3VAAAAAXRSTlMAQObYZgAAAuZJ\n",
       "REFUWMPNWNmypCAMZViEsOb/v3bYbINIa9fMrb48WKLxkJONIGO/aNj4b997W67pNY/xy4Qc0NmW\n",
       "rqVGLaNG1FJqAJVnulAKfn+Z3JcZJTvM8FJog9MD3h5I3LJNihXsLmHhy4SiHGYJqYWVQRM67TAw\n",
       "xOY0heXzIIhrDmd9aRjqIuclkvlmvFWa+0J7DE7RxSIWMo6X2+DKsObbZcGM2SJQHVPtGq/EVTSK\n",
       "CgJvFuCmiqTyEqEME/6HVk8Ft/mRoEGnHPNIaoDY9Tc8DYQY6sa1cWahoOgKD0Qbeq8AZci1hD5a\n",
       "6RmuIS6g/IwBhIBTJUHEbLGp/m2oYxRg/Cv9ykKFliOykfqbxerWwMnaC0LaLiAuoOTE2PjRZhbl\n",
       "vMKE2tPIcd23pBq75SIOCzlJ/c1klfWk8iwYbWGCUNA1V2cop8+f80PbLe8wUiPcVu5XGmVmvvus\n",
       "Gi02VnvsOEOtY6rzZbr1kd7OEApyHvsjHilUsmtG7Y6TJYMpA+vV6CmNCiNBGOXo3A6pTTAgOruy\n",
       "czFBt98FIzNB1HCG4HoEDFAiLqOu3xh+Dtq5eO27EdM9zJXpaUwCNHOTxGMKRc68IUbgrvruEM1s\n",
       "gXM5Q3m9qgzWL5oGMzc1+2607SEam2M9oRB9kSP+riLCXDMK0EYqITZB6P72T9N2gFJnuwR5sgzg\n",
       "GJjhou9MzY+KQ2crux+PQumSDAFoGagiFv1bH2WDK72CuISaGtEWLw4Qa1j6fHPkc84j3rOI5JFO\n",
       "e5t6NKc9meNreenqokeSt/UVtdc1o1chmiAuoZR+2wWxB5X7qn2fOh/VPFvyzULTrF55YHeMdjAC\n",
       "odM+4gQ1p3mU73RVjxrpcN6VoSaYBTSRbbkvzN7GsjWAuqkM9pW4FGJcbISSF12DfXzUWLko3RwJ\n",
       "F88X1hIfNe/p7sR3fvkEFOyDM+5zRuyTA5aPP3Aqjzd+XMKvNFfPFXLyN/3fYPJjr84R+nN/AP4C\n",
       "RK0cI6XpUPcAAAAASUVORK5CYII=\n",
       "\" style=\"display:inline;vertical-align:middle;\" /></a><br>"
      ],
      "text/plain": [
       "fold_set_not_equiv: forall_{A, B | [not](A equiv B)} (A not_equiv B)"
      ]
     },
     "execution_count": 12,
     "metadata": {},
     "output_type": "execute_result"
    }
   ],
   "source": [
    "# Proven\n",
    "fold_set_not_equiv = Forall((A, B), SetNotEquiv(A, B), conditions=[Not(SetEquiv(A, B))])"
   ]
  },
  {
   "cell_type": "markdown",
   "metadata": {},
   "source": [
    "### Substitution With An Equivalent Set"
   ]
  },
  {
   "cell_type": "code",
   "execution_count": 13,
   "metadata": {},
   "outputs": [],
   "source": [
    "# Not clear what to do here — ambiguous what the resulting forms of\n",
    "# fof_a and fof_b are — could be sets, could be something else …\n",
    "# substitution = Forall((f, A, B), SetEquiv(fof_a, fof_b), conditions=SetEquiv(x, y))"
   ]
  },
  {
   "cell_type": "code",
   "execution_count": 14,
   "metadata": {},
   "outputs": [
    {
     "data": {
      "text/html": [
       "<strong id=\"sub_left_side_into\"><a class=\"ProveItLink\" href=\"proofs/sub_left_side_into/thm_proof.ipynb\">sub_left_side_into</a> (conjecture without proof):<br></strong> <a class=\"ProveItLink\" href=\"../__pv_it/theorems/35dcb550a03cd6f76e986ea1f50b6727cfab87630/theorem_expr.ipynb\"><img src=\"data:image/png;base64,iVBORw0KGgoAAAANSUhEUgAAANYAAAAWCAMAAACL1ZKoAAAAM1BMVEX///8/Pz8QEBCIiIhmZma6\n",
       "urrMzMxUVFQiIiJERETc3Nzu7u6qqqp2dnaYmJgyMjIAAAAtmB3VAAAAAXRSTlMAQObYZgAAAuVJ\n",
       "REFUWMPVWNuS2yAMdQ0YBAj0/19bc3MkB7zbmW0n5WHXAetIR1eSbfufl0/ve9GXv/n6nNKHk0iW\n",
       "CKy1WYe2EYAfH52KLbwwju0cPj461CyHvZmaPT/M1MmWl/xg7OHjWR2ELc9I1ehpEctMPS6oWJBe\n",
       "YfvYpcj0/5We48EKUVP/HPbCEkNZ3n1+h4CeZrbSkxani/QZqfJAUJbDv9Orbmn0E6XlqWaf4jlo\n",
       "wpmao+dhObFVFzQDDJBFDVa0D2DGnS9o1FZs8XclAN5EonmLgJ/YP1HyKq3YIwCscwdTjtVVZgVD\n",
       "j/ZRt/ZqDg9wIm5Mf2Fnlsk2zACsv4voGwuJ/aCklpRFRK26y12Unu1BrMTreREZ1K1tCMwTmvhE\n",
       "07Y1o7CgxQAOfBMJVrw8sA10vmalpJaW+Li/HHJYrbUluMJanZIateaDqgaYqRgcz2JXQ63zKloM\n",
       "wB7vInLWdGwDJjXn40pJKS3Z1Rit9rRnQcvnk+5wX+2Syr38cihBMlCxVfHZLWhxADcRUTzyA7uW\n",
       "AWAYpxMlxVgt/XclYX9wI2eN62VrB3NDqFCMsJOwZm4ypJICkUqCFgMYHViIRDvBbrWO+66XSjbW\n",
       "wDfZMnyU14zWMk5VL7sx34s3ykprLyi3osUADExEDMywbR0y8AuarRMlxWp5u8Pug2t+wZjHuqfy\n",
       "1Ro3kIE+O6RG5LUK2EZHXNBiAMZORI68xn5SojORVSIvXLvuEtVkjedDbwK513S6oOl2haqXZU+v\n",
       "MdpeMOQXtBjAARMRY9fYT0omyy2Og3u/TPrr5luUmpa/pQu3DV+d63dcJOHBTOnwUiThBHuzeay0\n",
       "UDIbbnq+j+p+l8w05uWxx5KtUBnS2bXrBjoqEwLMomUwgOLOsL2JaDPBvpk1UzK9I07DFfKjUPxy\n",
       "Yzq3uJcmEvkR6s9WgO+TlV+enza+pDU5iekR6ge+9Kdn7PTlxte0zF0m6GeoT1r6+yFX/+iHhd9E\n",
       "Rx8cyyJy0QAAAABJRU5ErkJggg==\n",
       "\" style=\"display:inline;vertical-align:middle;\" /></a><br>"
      ],
      "text/plain": [
       "sub_left_side_into: forall_{P, A, B | P(B), A equiv B} P(A)"
      ]
     },
     "execution_count": 14,
     "metadata": {},
     "output_type": "execute_result"
    }
   ],
   "source": [
    "sub_left_side_into = Forall((P, A, B), PofA, conditions=[PofB, SetEquiv(A, B)])"
   ]
  },
  {
   "cell_type": "code",
   "execution_count": 15,
   "metadata": {},
   "outputs": [
    {
     "data": {
      "text/html": [
       "<strong id=\"sub_right_side_into\"><a class=\"ProveItLink\" href=\"proofs/sub_right_side_into/thm_proof.ipynb\">sub_right_side_into</a> (conjecture without proof):<br></strong> <a class=\"ProveItLink\" href=\"../__pv_it/theorems/986f6ff3f625ceb83ee539f979c5d748d7bbed010/theorem_expr.ipynb\"><img src=\"data:image/png;base64,iVBORw0KGgoAAAANSUhEUgAAANYAAAAWCAMAAACL1ZKoAAAAM1BMVEX///8/Pz8QEBCIiIhmZma6\n",
       "urrMzMxUVFQiIiJERETc3Nzu7u6qqqp2dnaYmJgyMjIAAAAtmB3VAAAAAXRSTlMAQObYZgAAAvRJ\n",
       "REFUWMPVWFmS4yAMTbNYCCzg/qcdFhOBDfZ0Vc9Umo/EFvaTnlaS1+sXL+snwt3mz/C+9/7DWXiI\n",
       "EQEgKFfuHbIclAJEnW8h86K9vRXcx4cn1iCgKKYG2+SiElRxy2zzQxZbRPHjWW2Rap5FmYOkWF4T\n",
       "TcciItkFicP2sUtGfXxnesayvF76QvflRL4ml5c1n98iMNZvyPQ6g1HUWhOmhihk9hHzMvRPetWY\n",
       "RD9TWrbkmlQsh4JuoCVe3oKiDasFGiOQQujbB3bGpX1Fqen09upe9QBAI8aurwGwE/NnSri09hoB\n",
       "9CwH7yWadxX5TF+r1j6KqASUupT0sbfm2Be9aWMbZgCwJwx1JjFi3ykpJQREpGR1ObM4SssJaKOr\n",
       "WJ8/ZOMOUJ98gzkV+4GmoPYit6LFABudMRyMhja5xoOwXioppdXfC30qraRzb+ErXvGVWnVC0YNs\n",
       "KjmjOjRTmo0Ky2gxAGwXjDCG65Br1L46n5ZKcgkNXY1pRWi0ZE/LhtfW3OhKQKV5+2WTPce0n22V\n",
       "w+geaHUA5oohh5NMk5cqQHJte6YkG6sG9+2nqVUbZIm5OeoWGnUdSVI/whJf1XlJR5mqc8ylgRYD\n",
       "cAdmjH14s8mrk0kItVbCU6tp9aeptUXsW0ZSxobTKfB+Hwrt2JdmSYsBNF4xNE6xocwY/MJq60xJ\n",
       "SuCx1KjFLtTS0gLbvjpyuSVlMlGNNR0UUV+qSHVy7CtaDKDhirGFG+xbJSqk86zs06KyhtDOufx0\n",
       "OIrav7HjeIQqZ2UbeY7WfR3tihYDbHjF0HCDfavkusxq25nrYdK2g29Wqmv+5pqsAlucawWtknBj\n",
       "Ww70DiOf1GbYyeVt+ZWSyXBTiw2S56oM8Rggm9jzoMBiRUxNuwjIRJUDrlctgwGyO91rxEgR0jPs\n",
       "k1VTJbMj4jxcLty9tD8K5nOr43h9IzxAfWs5/A7b/rfzneCR1nVj9w9QP/Cj39+C+0fBMy3tz2el\n",
       "J6hPWupvQy7/298KfwAVLx9sw1qsFgAAAABJRU5ErkJggg==\n",
       "\" style=\"display:inline;vertical-align:middle;\" /></a><br>"
      ],
      "text/plain": [
       "sub_right_side_into: forall_{P, A, B | P(A), A equiv B} P(B)"
      ]
     },
     "execution_count": 15,
     "metadata": {},
     "output_type": "execute_result"
    }
   ],
   "source": [
    "sub_right_side_into = Forall((P, A, B), PofB, conditions=[PofA, SetEquiv(A, B)])"
   ]
  },
  {
   "cell_type": "markdown",
   "metadata": {},
   "source": [
    "### Contradictions\n",
    "**If two sets are both equivalent and not equivalent, there is a contradiction:**"
   ]
  },
  {
   "cell_type": "code",
   "execution_count": 16,
   "metadata": {},
   "outputs": [
    {
     "data": {
      "text/html": [
       "<strong id=\"set_not_equiv_contradiction\"><a class=\"ProveItLink\" href=\"proofs/set_not_equiv_contradiction/thm_proof.ipynb\">set_not_equiv_contradiction</a> (established theorem):<br></strong> <a class=\"ProveItLink\" href=\"../__pv_it/theorems/5c4146269356553537a99e2dbedd15785b64c1560/theorem_expr.ipynb\"><img src=\"data:image/png;base64,iVBORw0KGgoAAAANSUhEUgAAAKYAAAAYCAMAAABHlnZAAAAAM1BMVEX///8/Pz8QEBCIiIhmZma6\n",
       "urrMzMxUVFQiIiJERETc3Nzu7u6qqqp2dnaYmJgyMjIAAAAtmB3VAAAAAXRSTlMAQObYZgAAAddJ\n",
       "REFUSMfVV9uSrCAMZCEI4Sb//7ULqENAoWrreLbYPDg4didNAkEZ+xu2f0YhrKduc+fAu49gu55M\n",
       "J86BwX6wpMxPEmtal5QZvM1mNFtaJouYTfvFZaotX9EsLlNCutidLS6T5VUpaNOkmZUYwYNq/rp5\n",
       "eyrFA/GOtXaKbWT6cEj9bKpIhQReMJwE6p21hDHxjlVmhm1lmp1tiswQIk0tlEcu2qHMiyARDEn3\n",
       "nVixFiMHm9ebGGM7makOikzRWw3koS5I2MfZPAkSZdCl+foBsWIhxRMcdhsm2F6mA1LzTTAkQmzM\n",
       "jUDQk7STeRHKTkRvz3X+QKzYEj2lNCo2xN5kskjuEpGqllEEgarZBK2ri3D48JzDiNg7x0kQ0Nk4\n",
       "Lz/nk1CnEVLZRCRVKoUQeiizElQ5J/ALMTwTO+deToLMze7gPdL9UhaPiW4g80aYECvW5/mU408M\n",
       "sHMDW/BbXQ/uqIoZyLwRJsQWq8wMOzV5tKLcNAweTsuV+0HRCYGp/bLQEQ9fFJt2U20nT0FmlupQ\n",
       "nEYd2MbTFL2OAOl4kIMtRAlt42mIxRfFCgCtIFsYBPnBgTqazAu+rBDl/fHfvxiceU/m3ddr3wrD\n",
       "Lzh8wZeU7H8b/P4L3TcttxWq+FjljAAAAABJRU5ErkJggg==\n",
       "\" style=\"display:inline;vertical-align:middle;\" /></a><br>"
      ],
      "text/plain": [
       "set_not_equiv_contradiction: forall_{A, B | A equiv B, A not_equiv B} FALSE"
      ]
     },
     "execution_count": 16,
     "metadata": {},
     "output_type": "execute_result"
    }
   ],
   "source": [
    "# Proven\n",
    "set_not_equiv_contradiction = Forall((A, B), FALSE, conditions=[SetEquiv(A, B), SetNotEquiv(A, B)]) "
   ]
  },
  {
   "cell_type": "markdown",
   "metadata": {},
   "source": [
    "### Misc Related Theorems"
   ]
  },
  {
   "cell_type": "code",
   "execution_count": 17,
   "metadata": {},
   "outputs": [
    {
     "data": {
      "text/html": [
       "<strong id=\"union_with_elem_redundancy\"><a class=\"ProveItLink\" href=\"proofs/union_with_elem_redundancy/thm_proof.ipynb\">union_with_elem_redundancy</a> (conjecture without proof):<br></strong> <a class=\"ProveItLink\" href=\"../__pv_it/theorems/e5889deab613829566020337ef121745317a79cc0/theorem_expr.ipynb\"><img src=\"data:image/png;base64,iVBORw0KGgoAAAANSUhEUgAAAPAAAAAXBAMAAADHOt+bAAAAMFBMVEX///8QEBCIiIhmZma6urrM\n",
       "zMxUVFQiIiJERETc3Nzu7u6qqqp2dnaYmJgyMjIAAAAcRTyBAAAAAXRSTlMAQObYZgAAA1JJREFU\n",
       "SMe1Vk1IVFEUPvjmzTh33owubBOFkiARgpMVVGgYLtwETS0kKFAosxaFVIv+FtJqLKKBIiWoHkYi\n",
       "BtOEhIuIJqcf0CFmYa3KJigpqZgWRSph5/69/5Em9MJ577x77ne/987fuwDLOsLNQlEbdVj2Ecxx\n",
       "cQ/y1VB9qwBCiSI7UEOeKu9KIh4WAqPZ9JT9gwumvgPlKFe1mRheW/gDA6Fhkj7MlkT8RUh5DoYp\n",
       "E3MqYQw95qqXKEmuzrxdi9dOpnMQGgao73pLimOUC2zCO3UYc1rEi1irYYAaSKYhyIk5CA0RfF8t\n",
       "VQpxIMGF/MRI0p0ZW8CLmFRSzY8ST9yKMcdwEBrCEyMj/SV5ul+I7w8mb2xJYvhILwq1LC7wnBMg\n",
       "NPyOx8+XRFwrhCw+5xMO4sG6a/XoiKd0ImOg7oq8FyA0dAH0mbseyD6mH+FzsqnZyddCvSwEGhZ/\n",
       "JezEfgw3SYdPBPD+nk5Mu15bgNDQCiRvVl8UnrDcc65vhZAslXNCgLypXm0nfoAvrenavA/3jtD8\n",
       "G2N++M5GFCygMYooM5tBQOecVuJ7GWxHZwFk6lcJodFbsBHvO8Pqqpyv7EZ/d3iEioHQoOUC5mRF\n",
       "AkIO4vClG5j4cwApB3EaSezEsJNlbgUrokgneBBLEBqC+XZUxrfUUVBkDe8vnFir3duFTqbjwzMD\n",
       "K1xNcGN1HmQds17hZ9/awehZjNucPVWCqKHvEECZfjxAKcnGHy0m8QZ//hTfFu5UV4E9uUJYo0qa\n",
       "TmxmnVBmdUhvwO1EVk9bYkw9YICoYRRXq/BNbHu9xySORXJAouLP0C2JM1yUkwAv2EQSv9A3K4l3\n",
       "p67ATVnHTc74SlCTEZI55okYkIIlxhhy9XQ8foFW4X0JbuOi+A4e5mEPfn64/4guiYfWDTbnJPEn\n",
       "J7EEUUOYYtSCSj2RArXTQtwBMd7bHwG0O1umpchrG/mzq2X2FGlChuG2ltdgQFd6YVg3iIOFV5iF\n",
       "rNNsBXLR9ZNwD63S6yfhtVAahqbGJ2BPSrma3W5mNTm2qx7rmrpmW1PGPFH0ga3ZLfE/ThZruw6D\n",
       "+ZOyNpD1GGPvg4B7WE4gVUVfz2WwnFTK/+/oAyHbmStc7OjjMITh34hXcigrzvAXsvTxbygvGwsA\n",
       "AAAASUVORK5CYII=\n",
       "\" style=\"display:inline;vertical-align:middle;\" /></a><br>"
      ],
      "text/plain": [
       "union_with_elem_redundancy: forall_{x, S | x in S} ((S union {x}) equiv S)"
      ]
     },
     "execution_count": 17,
     "metadata": {},
     "output_type": "execute_result"
    }
   ],
   "source": [
    "union_with_elem_redundancy = Forall((x, S), SetEquiv(Union(S, Set(x)), S), conditions=[InSet(x, S)])"
   ]
  },
  {
   "cell_type": "code",
   "execution_count": 18,
   "metadata": {},
   "outputs": [
    {
     "data": {
      "text/html": [
       "<strong id=\"union_with_subset_redundancy\"><a class=\"ProveItLink\" href=\"proofs/union_with_subset_redundancy/thm_proof.ipynb\">union_with_subset_redundancy</a> (conjecture without proof):<br></strong> <a class=\"ProveItLink\" href=\"../__pv_it/theorems/2a3e69f5dda49b186c530fae32169bcf63abbb780/theorem_expr.ipynb\"><img src=\"data:image/png;base64,iVBORw0KGgoAAAANSUhEUgAAAOYAAAAWBAMAAAAm1v2RAAAAMFBMVEX///8QEBCIiIhmZma6urrM\n",
       "zMxUVFQiIiJERETc3Nzu7u6qqqp2dnaYmJgyMjIAAAAcRTyBAAAAAXRSTlMAQObYZgAAAy1JREFU\n",
       "SMe9Vk1oE1EQHrOJzf61nqVirp66UrBYCg0KelJjoZ7EVqpC8WDAk6CQi5IoJQtCzcV2wb9SNY0U\n",
       "9CDSgCi15rCgeFFrQNtDD7YFa2triTPvvU1216Ykig7M7uz7ZvPNe/OzAfgzuSm0mqjmJkCRjI/1\n",
       "UioJrqB2FPSoHz2B2s9NbTaGV+ExXsi/JeA1PczVy9locoUBUNIUA1u1BDqPmuXm7IcdeO1ldtiG\n",
       "kQUCMvggJ+rlfCNUMgCmKQa2WuSgPo/kWoSZEcjmQeacrfhcJKCR8Fy9nBeEjuHJ7cN7A1uNc/B+\n",
       "J56Aso3MrahJcyjG8rEEEIwQoE+Njt6ol1KOc4UjNkC3n9Nuofx9IVOilJbW2HJwHSAUY8BKMnmx\n",
       "Xs6AwRXGfrIteDiD1gRGAs/L3ndE3ZVesDsCpwFSaB0vPOOvp7iHU4zhStGXXagamEKgVOr3c96G\n",
       "Hsrl9G+RtpS+mxzYDwrmPmjABC+Ab9zBKatPSP4gmbzickGKHFeAhycXLR9nFIbpCJ6wVvnKxOAb\n",
       "fbdzOwcaIIARN1gQZsCtdQ+n0mlD6DInclwAtkS5knTmvJyhvtZz9HLPBjmR1jig2fRCkwkqW546\n",
       "7+HU7hkOU9mlwqlRSn2cQYSKG3HmcQeCUy4eowZr5mGHIkkPZ1c4AU/FHGguDxznbO/ST1hOfyqs\n",
       "PwmiPjnoH13YpKFVAaRO0cruxShvqDYPZ68Uh73iJeHiqqFHaHewQyNEpbTJyNm44NSQyCfNBBUD\n",
       "kfICGOepH2S399Di5tRzgQV45YQ6KBoQNINrmwEamzHKDF4O046p18M/nFjcucSkvQQBNGFlKzFQ\n",
       "KDjlcyFtuTizHZOrbNBUXFjO4lyNA3vO8pWha92Pr+J9pDQHanoZ45nxcwb7zrBSJ0BHEjUHIQpY\n",
       "smA45uJsB3lJtKjj4pl9Felq3eVNX7zaJ8kBpASMWBkLDuG27QpnEO11UAZMx8U/46sLn/GbAdL1\n",
       "QjsczYVXQE5fqnCmE5BZtkGdxJnAXMA1ncLmZpzZGgH35yVR2ze7qqRqAzz/JxJ/999EN2sDdNiY\n",
       "M5NEgf8gxr/76V+Ufe6jeYtCXQAAAABJRU5ErkJggg==\n",
       "\" style=\"display:inline;vertical-align:middle;\" /></a><br>"
      ],
      "text/plain": [
       "union_with_subset_redundancy: forall_{S, A | A subseteq S} ((S union A) equiv S)"
      ]
     },
     "execution_count": 18,
     "metadata": {},
     "output_type": "execute_result"
    }
   ],
   "source": [
    "union_with_subset_redundancy = Forall((S, A),\n",
    "                          SetEquiv(Union(S, A), S),\n",
    "                          conditions=[SubsetEq(A, S)])"
   ]
  },
  {
   "cell_type": "code",
   "execution_count": 19,
   "metadata": {},
   "outputs": [
    {
     "name": "stdout",
     "output_type": "stream",
     "text": [
      "These theorems may now be imported from the theory package: proveit.logic.sets.equivalence\n"
     ]
    }
   ],
   "source": [
    "%end theorems"
   ]
  }
 ],
 "metadata": {
  "kernelspec": {
   "display_name": "Python 3",
   "language": "python",
   "name": "python3"
  }
 },
 "nbformat": 4,
 "nbformat_minor": 0
}