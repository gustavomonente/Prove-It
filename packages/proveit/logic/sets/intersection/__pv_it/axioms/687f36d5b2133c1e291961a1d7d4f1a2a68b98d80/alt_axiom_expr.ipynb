{
 "cells": [
  {
   "cell_type": "markdown",
   "metadata": {},
   "source": [
    "Temporary notebook for <a class=\"ProveItLink\" href=\"../../../_axioms_.ipynb#intersect_all_def\">intersect_all_def</a> of type <a href=\"../../../../../../../../doc/html/api/proveit.logic.Forall.html\">Forall</a>\n",
    "=======================\n",
    "# a not-yet-official axiom from the theory of <a class=\"ProveItLink\" href=\"../../../_theory_nbs_/theory.ipynb\">proveit.logic.sets.intersection</a>"
   ]
  },
  {
   "cell_type": "code",
   "execution_count": null,
   "metadata": {},
   "outputs": [],
   "source": [
    "import proveit\n",
    "# Automation is not needed when building an expression:\n",
    "proveit.defaults.automation = False # This will speed things up\n",
    "proveit.defaults.inline_pngs = False # Makes files smaller.\n",
    "%load_axiom_expr # Load the stored axiom expression as 'stored_expr'\n",
    "# import Expression classes needed to build the expression\n",
    "from proveit import Q, R, n, x\n",
    "from proveit.core_expr_types import Q__y_1_to_n, R__y_1_to_n, S_1_to_n, y_1_to_n\n",
    "from proveit.logic import Equals, Exists, Forall, InSet\n",
    "from proveit.logic.sets import general_intersectall_Ryn\n",
    "from proveit.numbers import NaturalPos"
   ]
  },
  {
   "cell_type": "code",
   "execution_count": null,
   "metadata": {},
   "outputs": [],
   "source": [
    "# build up the expression from sub-expressions\n",
    "sub_expr1 = [y_1_to_n]\n",
    "sub_expr2 = [S_1_to_n]\n",
    "expr = Forall([n], Forall([S_1_to_n, Q, R, x], Equals(InSet(x, general_intersectall_Ryn), Forall(sub_expr1, InSet(x, R__y_1_to_n), domains = sub_expr2, condition = Q__y_1_to_n)).with_wrapping_at(1), condition = Exists(sub_expr1, Q__y_1_to_n, domains = sub_expr2)), domains = [NaturalPos])"
   ]
  },
  {
   "cell_type": "code",
   "execution_count": null,
   "metadata": {},
   "outputs": [],
   "source": [
    "# check that the built expression is the same as the stored expression\n",
    "assert expr == stored_expr\n",
    "assert expr._style_id == stored_expr._style_id\n",
    "print(\"Passed sanity check: intersect_all_def matches stored_expr\")"
   ]
  },
  {
   "cell_type": "code",
   "execution_count": null,
   "metadata": {},
   "outputs": [],
   "source": [
    "# Show the LaTeX representation of the expression for convenience if you need it.\n",
    "print(expr.latex())"
   ]
  },
  {
   "cell_type": "code",
   "execution_count": null,
   "metadata": {},
   "outputs": [],
   "source": [
    "expr.style_options()"
   ]
  },
  {
   "cell_type": "code",
   "execution_count": null,
   "metadata": {},
   "outputs": [],
   "source": [
    "# display the expression information\n",
    "expr.expr_info()"
   ]
  },
  {
   "cell_type": "code",
   "execution_count": null,
   "metadata": {},
   "outputs": [],
   "source": []
  }
 ],
 "metadata": {
  "kernelspec": {
   "display_name": "Python 3",
   "language": "python",
   "name": "python3"
  }
 },
 "nbformat": 4,
 "nbformat_minor": 0
}