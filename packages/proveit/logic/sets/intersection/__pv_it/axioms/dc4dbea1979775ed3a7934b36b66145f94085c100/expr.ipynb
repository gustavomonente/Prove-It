{
 "cells": [
  {
   "cell_type": "markdown",
   "metadata": {},
   "source": [
    "Expression of type <a class=\"ProveItLink\" href=\"../../../../../../../../doc/html/api/proveit.Lambda.html\">Lambda</a>\n",
    "=======================\n",
    "# from the theory of <a class=\"ProveItLink\" href=\"../../../_theory_nbs_/theory.ipynb\">proveit.logic.sets.intersection</a>"
   ]
  },
  {
   "cell_type": "code",
   "execution_count": 1,
   "metadata": {},
   "outputs": [],
   "source": [
    "import proveit\n",
    "# Automation is not needed when building an expression:\n",
    "proveit.defaults.automation = False # This will speed things up.\n",
    "proveit.defaults.inline_pngs = False # Makes files smaller.\n",
    "%load_expr # Load the stored expression as 'stored_expr'\n",
    "# import Expression classes needed to build the expression\n",
    "from proveit import Lambda, x\n",
    "from proveit.core_expr_types import A_1_to_m\n",
    "from proveit.logic import Equals, InSet, Intersect\n",
    "from proveit.logic.sets import x_in_every_A"
   ]
  },
  {
   "cell_type": "code",
   "execution_count": 2,
   "metadata": {},
   "outputs": [
    {
     "data": {
      "text/html": [
       "<strong id=\"expr\">expr:</strong> <a class=\"ProveItLink\" href=\"expr.ipynb\"><img src=\"expr.png\" style=\"display:inline;vertical-align:middle;\" /></a><br>"
      ],
      "text/plain": [
       "expr: (x, A_{1}, ..A_{_a}.., A_{m}) -> ((x in (A_{1} intersect ..A_{_a}.. intersect A_{m})) =  \\\\ ((x in A_{1}) and ..(x in A_{i}).. and (x in A_{m})))"
      ]
     },
     "execution_count": 2,
     "metadata": {},
     "output_type": "execute_result"
    }
   ],
   "source": [
    "# build up the expression from sub-expressions\n",
    "expr = Lambda([x, A_1_to_m], Equals(InSet(x, Intersect(A_1_to_m)), x_in_every_A).with_wrapping_at(2))"
   ]
  },
  {
   "cell_type": "code",
   "execution_count": 3,
   "metadata": {},
   "outputs": [
    {
     "name": "stdout",
     "output_type": "stream",
     "text": [
      "Passed sanity check: expr matches stored_expr\n"
     ]
    }
   ],
   "source": [
    "# check that the built expression is the same as the stored expression\n",
    "assert expr == stored_expr\n",
    "assert expr._style_id == stored_expr._style_id\n",
    "print(\"Passed sanity check: expr matches stored_expr\")"
   ]
  },
  {
   "cell_type": "code",
   "execution_count": 4,
   "metadata": {},
   "outputs": [
    {
     "name": "stdout",
     "output_type": "stream",
     "text": [
      "\\left(x, A_{1}, \\ldots, A_{m}\\right) \\mapsto \\left(\\begin{array}{c} \\begin{array}{l} \\left(x \\in \\left(A_{1} \\cap \\ldots \\cap A_{m}\\right)\\right) =  \\\\ \\left(\\left(x \\in A_{1}\\right) \\land \\ldots \\land \\left(x \\in A_{m}\\right)\\right) \\end{array} \\end{array}\\right)\n"
     ]
    }
   ],
   "source": [
    "# Show the LaTeX representation of the expression for convenience if you need it.\n",
    "print(expr.latex())"
   ]
  },
  {
   "cell_type": "code",
   "execution_count": 5,
   "metadata": {},
   "outputs": [
    {
     "data": {
      "text/html": [
       "no style options"
      ],
      "text/plain": [
       "no style options"
      ]
     },
     "execution_count": 5,
     "metadata": {},
     "output_type": "execute_result"
    }
   ],
   "source": [
    "expr.style_options()"
   ]
  },
  {
   "cell_type": "code",
   "execution_count": 6,
   "metadata": {},
   "outputs": [
    {
     "data": {
      "text/html": [
       "<table><tr><th>&nbsp;</th><th>core type</th><th>sub-expressions</th><th>expression</th></tr>\n",
       "<tr><td>0</td><td>Lambda</td><td>parameters:&nbsp;1<br>body:&nbsp;2<br></td><td><a class=\"ProveItLink\" href=\"expr.ipynb\"><img src=\"expr.png\" style=\"display:inline;vertical-align:middle;\" /></a></td></tr>\n",
       "<tr><td>1</td><td>ExprTuple</td><td>23, 15</td><td><a class=\"ProveItLink\" href=\"../b29c8f6a5b9c2ce2f8cbcf985de35c1293443e6b0/expr.ipynb\"><img src=\"../b29c8f6a5b9c2ce2f8cbcf985de35c1293443e6b0/expr.png\" style=\"display:inline;vertical-align:middle;\" /></a></td></tr>\n",
       "<tr><td>2</td><td>Operation</td><td>operator:&nbsp;3<br>operands:&nbsp;4<br></td><td><a class=\"ProveItLink\" href=\"../cdf5ac889dca823793d25e2e1de5927afcd3ba6a0/expr.ipynb\"><img src=\"../cdf5ac889dca823793d25e2e1de5927afcd3ba6a0/expr.png\" style=\"display:inline;vertical-align:middle;\" /></a></td></tr>\n",
       "<tr><td>3</td><td>Literal</td><td></td><td><a class=\"ProveItLink\" href=\"../../../../../equality/__pv_it/common/731dd3955b346c1320ed5c0ba7a618bcda61457d0/expr.ipynb\"><img src=\"../../../../../equality/__pv_it/common/731dd3955b346c1320ed5c0ba7a618bcda61457d0/expr.png\" style=\"display:inline;vertical-align:middle;\" /></a></td></tr>\n",
       "<tr><td>4</td><td>ExprTuple</td><td>5, 6</td><td><a class=\"ProveItLink\" href=\"../099ba0f5dc98186b41ca7dd5e300b47d363d0fce0/expr.ipynb\"><img src=\"../099ba0f5dc98186b41ca7dd5e300b47d363d0fce0/expr.png\" style=\"display:inline;vertical-align:middle;\" /></a></td></tr>\n",
       "<tr><td>5</td><td>Operation</td><td>operator:&nbsp;20<br>operands:&nbsp;7<br></td><td><a class=\"ProveItLink\" href=\"../11713a065f045f2d0a928c94d7d79ee45b49b94d0/expr.ipynb\"><img src=\"../11713a065f045f2d0a928c94d7d79ee45b49b94d0/expr.png\" style=\"display:inline;vertical-align:middle;\" /></a></td></tr>\n",
       "<tr><td>6</td><td>Operation</td><td>operator:&nbsp;8<br>operands:&nbsp;9<br></td><td><a class=\"ProveItLink\" href=\"../../../../__pv_it/common/ad0f0ae27193f1025138bced6bf670cefdded2170/expr.ipynb\"><img src=\"../../../../__pv_it/common/ad0f0ae27193f1025138bced6bf670cefdded2170/expr.png\" style=\"display:inline;vertical-align:middle;\" /></a></td></tr>\n",
       "<tr><td>7</td><td>ExprTuple</td><td>23, 10</td><td><a class=\"ProveItLink\" href=\"../c8891e00234f7baa64e3e66d7a27ea23a5be3dcf0/expr.ipynb\"><img src=\"../c8891e00234f7baa64e3e66d7a27ea23a5be3dcf0/expr.png\" style=\"display:inline;vertical-align:middle;\" /></a></td></tr>\n",
       "<tr><td>8</td><td>Literal</td><td></td><td><a class=\"ProveItLink\" href=\"../../../../../booleans/conjunction/__pv_it/common/26b94b53e70b1d77b70f0d9d4236347db37731060/expr.ipynb\"><img src=\"../../../../../booleans/conjunction/__pv_it/common/26b94b53e70b1d77b70f0d9d4236347db37731060/expr.png\" style=\"display:inline;vertical-align:middle;\" /></a></td></tr>\n",
       "<tr><td>9</td><td>ExprTuple</td><td>11</td><td><a class=\"ProveItLink\" href=\"../../../../__pv_it/common/87b737b7e675fa0a092e63da7edcd893790803870/expr.ipynb\"><img src=\"../../../../__pv_it/common/87b737b7e675fa0a092e63da7edcd893790803870/expr.png\" style=\"display:inline;vertical-align:middle;\" /></a></td></tr>\n",
       "<tr><td>10</td><td>Operation</td><td>operator:&nbsp;12<br>operands:&nbsp;13<br></td><td><a class=\"ProveItLink\" href=\"../a0ca925e887d30e151d70f02ff57d5587357bd4a0/expr.ipynb\"><img src=\"../a0ca925e887d30e151d70f02ff57d5587357bd4a0/expr.png\" style=\"display:inline;vertical-align:middle;\" /></a></td></tr>\n",
       "<tr><td>11</td><td>ExprRange</td><td>lambda_map:&nbsp;14<br>start_index:&nbsp;18<br>end_index:&nbsp;19<br></td><td><a class=\"ProveItLink\" href=\"../../../../__pv_it/common/3cf09bf80a12aa635906197cfaa652c1d09c34d80/expr.ipynb\"><img src=\"../../../../__pv_it/common/3cf09bf80a12aa635906197cfaa652c1d09c34d80/expr.png\" style=\"display:inline;vertical-align:middle;\" /></a></td></tr>\n",
       "<tr><td>12</td><td>Literal</td><td></td><td><a class=\"ProveItLink\" href=\"../../common/1288ec1d19a7f50f58932a7d6562c2dda369a2680/expr.ipynb\"><img src=\"../../common/1288ec1d19a7f50f58932a7d6562c2dda369a2680/expr.png\" style=\"display:inline;vertical-align:middle;\" /></a></td></tr>\n",
       "<tr><td>13</td><td>ExprTuple</td><td>15</td><td><a class=\"ProveItLink\" href=\"../0a65ec265686482133d742d4363a8cf4d6c35e350/expr.ipynb\"><img src=\"../0a65ec265686482133d742d4363a8cf4d6c35e350/expr.png\" style=\"display:inline;vertical-align:middle;\" /></a></td></tr>\n",
       "<tr><td>14</td><td>Lambda</td><td>parameter:&nbsp;29<br>body:&nbsp;16<br></td><td><a class=\"ProveItLink\" href=\"../../../../__pv_it/common/1c391f32f8eb92f727eafc56c978883a67aee9770/expr.ipynb\"><img src=\"../../../../__pv_it/common/1c391f32f8eb92f727eafc56c978883a67aee9770/expr.png\" style=\"display:inline;vertical-align:middle;\" /></a></td></tr>\n",
       "<tr><td>15</td><td>ExprRange</td><td>lambda_map:&nbsp;17<br>start_index:&nbsp;18<br>end_index:&nbsp;19<br></td><td><a class=\"ProveItLink\" href=\"../../../../../../core_expr_types/__pv_it/common/30c3e05d1ed167fcc220828c60f35ec81c3feb3f0/expr.ipynb\"><img src=\"../../../../../../core_expr_types/__pv_it/common/30c3e05d1ed167fcc220828c60f35ec81c3feb3f0/expr.png\" style=\"display:inline;vertical-align:middle;\" /></a></td></tr>\n",
       "<tr><td>16</td><td>Operation</td><td>operator:&nbsp;20<br>operands:&nbsp;21<br></td><td><a class=\"ProveItLink\" href=\"../../../../__pv_it/common/8ae1120dc5832558419e8abca6eb26a0d552542b0/expr.ipynb\"><img src=\"../../../../__pv_it/common/8ae1120dc5832558419e8abca6eb26a0d552542b0/expr.png\" style=\"display:inline;vertical-align:middle;\" /></a></td></tr>\n",
       "<tr><td>17</td><td>Lambda</td><td>parameter:&nbsp;28<br>body:&nbsp;22<br></td><td><a class=\"ProveItLink\" href=\"../../../../../../core_expr_types/__pv_it/common/7cb3671e4363a47742a54e63b73ddf8e8fe2c9390/expr.ipynb\"><img src=\"../../../../../../core_expr_types/__pv_it/common/7cb3671e4363a47742a54e63b73ddf8e8fe2c9390/expr.png\" style=\"display:inline;vertical-align:middle;\" /></a></td></tr>\n",
       "<tr><td>18</td><td>Literal</td><td></td><td><a class=\"ProveItLink\" href=\"../../../../../../numbers/numerals/__pv_it/common/d278e359da0695d9652dd541d45264f93703e2e40/expr.ipynb\"><img src=\"../../../../../../numbers/numerals/__pv_it/common/d278e359da0695d9652dd541d45264f93703e2e40/expr.png\" style=\"display:inline;vertical-align:middle;\" /></a></td></tr>\n",
       "<tr><td>19</td><td>Variable</td><td></td><td><a class=\"ProveItLink\" href=\"../../../../../../__pv_it/common/2dc4f15b3407a25e8d70754a86bf74f1871f92650/expr.ipynb\"><img src=\"../../../../../../__pv_it/common/2dc4f15b3407a25e8d70754a86bf74f1871f92650/expr.png\" style=\"display:inline;vertical-align:middle;\" /></a></td></tr>\n",
       "<tr><td>20</td><td>Literal</td><td></td><td><a class=\"ProveItLink\" href=\"../../../../membership/__pv_it/common/7171deca84f71f47a6ec7696972d1632274a12880/expr.ipynb\"><img src=\"../../../../membership/__pv_it/common/7171deca84f71f47a6ec7696972d1632274a12880/expr.png\" style=\"display:inline;vertical-align:middle;\" /></a></td></tr>\n",
       "<tr><td>21</td><td>ExprTuple</td><td>23, 24</td><td><a class=\"ProveItLink\" href=\"../../../../__pv_it/common/4f76d40269d5405fe57983cba8892e891ddf8e9a0/expr.ipynb\"><img src=\"../../../../__pv_it/common/4f76d40269d5405fe57983cba8892e891ddf8e9a0/expr.png\" style=\"display:inline;vertical-align:middle;\" /></a></td></tr>\n",
       "<tr><td>22</td><td>IndexedVar</td><td>variable:&nbsp;26<br>index:&nbsp;28<br></td><td><a class=\"ProveItLink\" href=\"../../../../../../core_expr_types/__pv_it/common/44c047560b26e24c2a9af7e0d00ef8bc5e74e7580/expr.ipynb\"><img src=\"../../../../../../core_expr_types/__pv_it/common/44c047560b26e24c2a9af7e0d00ef8bc5e74e7580/expr.png\" style=\"display:inline;vertical-align:middle;\" /></a></td></tr>\n",
       "<tr><td>23</td><td>Variable</td><td></td><td><a class=\"ProveItLink\" href=\"../../../../../../__pv_it/common/a2581dc5df71d9a30bad37de14965fa5fec97a240/expr.ipynb\"><img src=\"../../../../../../__pv_it/common/a2581dc5df71d9a30bad37de14965fa5fec97a240/expr.png\" style=\"display:inline;vertical-align:middle;\" /></a></td></tr>\n",
       "<tr><td>24</td><td>IndexedVar</td><td>variable:&nbsp;26<br>index:&nbsp;29<br></td><td><a class=\"ProveItLink\" href=\"../../../../__pv_it/common/8944fa99962c4fa65f005c3e1a1975d4210055e80/expr.ipynb\"><img src=\"../../../../__pv_it/common/8944fa99962c4fa65f005c3e1a1975d4210055e80/expr.png\" style=\"display:inline;vertical-align:middle;\" /></a></td></tr>\n",
       "<tr><td>25</td><td>ExprTuple</td><td>28</td><td><a class=\"ProveItLink\" href=\"../../../../../../core_expr_types/__pv_it/common/ecf50ade416ab41c42c9f4e777b4c862cd9469670/expr.ipynb\"><img src=\"../../../../../../core_expr_types/__pv_it/common/ecf50ade416ab41c42c9f4e777b4c862cd9469670/expr.png\" style=\"display:inline;vertical-align:middle;\" /></a></td></tr>\n",
       "<tr><td>26</td><td>Variable</td><td></td><td><a class=\"ProveItLink\" href=\"../../../../../../__pv_it/common/e4aad701f7f5516d8e7f0d805d518bf02c13322a0/expr.ipynb\"><img src=\"../../../../../../__pv_it/common/e4aad701f7f5516d8e7f0d805d518bf02c13322a0/expr.png\" style=\"display:inline;vertical-align:middle;\" /></a></td></tr>\n",
       "<tr><td>27</td><td>ExprTuple</td><td>29</td><td><a class=\"ProveItLink\" href=\"../../../../__pv_it/common/6420c4d2520c27c1137ad22005291620057456040/expr.ipynb\"><img src=\"../../../../__pv_it/common/6420c4d2520c27c1137ad22005291620057456040/expr.png\" style=\"display:inline;vertical-align:middle;\" /></a></td></tr>\n",
       "<tr><td>28</td><td>Variable</td><td></td><td><a class=\"ProveItLink\" href=\"../../../../../../core_expr_types/__pv_it/common/9e6d9d5d7eeb0342cf5bca68def0eb165a1a9bb10/expr.ipynb\"><img src=\"../../../../../../core_expr_types/__pv_it/common/9e6d9d5d7eeb0342cf5bca68def0eb165a1a9bb10/expr.png\" style=\"display:inline;vertical-align:middle;\" /></a></td></tr>\n",
       "<tr><td>29</td><td>Variable</td><td></td><td><a class=\"ProveItLink\" href=\"../../../../../../__pv_it/common/575a6156bb1c87c5beeaf38c302b5905ad57f5780/expr.ipynb\"><img src=\"../../../../../../__pv_it/common/575a6156bb1c87c5beeaf38c302b5905ad57f5780/expr.png\" style=\"display:inline;vertical-align:middle;\" /></a></td></tr>\n",
       "</table>\n"
      ],
      "text/plain": [
       "0. (x, A_{1}, ..A_{_a}.., A_{m}) -> ((x in (A_{1} intersect ..A_{_a}.. intersect A_{m})) =  \\\\ ((x in A_{1}) and ..(x in A_{i}).. and (x in A_{m})))\n",
       "   core type: Lambda\n",
       "   parameters: 1\\n   body: 2\n",
       "1. (x, A_{1}, ..A_{_a}.., A_{m})\n",
       "   core type: ExprTuple\n",
       "   sub-expressions: 23, 15\n",
       "2. (x in (A_{1} intersect ..A_{_a}.. intersect A_{m})) =  \\\\ ((x in A_{1}) and ..(x in A_{i}).. and (x in A_{m}))\n",
       "   core type: Operation\n",
       "   operator: 3\n",
       "   operands: 4\n",
       "3. =\n",
       "   core type: Literal\n",
       "   sub-expressions: \n",
       "4. (x in (A_{1} intersect ..A_{_a}.. intersect A_{m}), (x in A_{1}) and ..(x in A_{i}).. and (x in A_{m}))\n",
       "   core type: ExprTuple\n",
       "   sub-expressions: 5, 6\n",
       "5. x in (A_{1} intersect ..A_{_a}.. intersect A_{m})\n",
       "   core type: Operation\n",
       "   operator: 20\n",
       "   operands: 7\n",
       "6. (x in A_{1}) and ..(x in A_{i}).. and (x in A_{m})\n",
       "   core type: Operation\n",
       "   operator: 8\n",
       "   operands: 9\n",
       "7. (x, A_{1} intersect ..A_{_a}.. intersect A_{m})\n",
       "   core type: ExprTuple\n",
       "   sub-expressions: 23, 10\n",
       "8. and\n",
       "   core type: Literal\n",
       "   sub-expressions: \n",
       "9. (x in A_{1}, ..x in A_{i}.., x in A_{m})\n",
       "   core type: ExprTuple\n",
       "   sub-expressions: 11\n",
       "10. A_{1} intersect ..A_{_a}.. intersect A_{m}\n",
       "    core type: Operation\n",
       "    operator: 12\n",
       "    operands: 13\n",
       "11. (x in A_{1}), ..(x in A_{i}).., (x in A_{m})\n",
       "    core type: ExprRange\n",
       "    lambda_map: 14\n",
       "    start_index: 18\n",
       "    end_index: 19\n",
       "12. intersect\n",
       "    core type: Literal\n",
       "    sub-expressions: \n",
       "13. (A_{1}, ..A_{_a}.., A_{m})\n",
       "    core type: ExprTuple\n",
       "    sub-expressions: 15\n",
       "14. i -> (x in A_{i})\n",
       "    core type: Lambda\n",
       "    parameter: 29\n",
       "    body: 16\n",
       "15. A_{1}, ..A_{_a}.., A_{m}\n",
       "    core type: ExprRange\n",
       "    lambda_map: 17\n",
       "    start_index: 18\n",
       "    end_index: 19\n",
       "16. x in A_{i}\n",
       "    core type: Operation\n",
       "    operator: 20\n",
       "    operands: 21\n",
       "17. _a -> A_{_a}\n",
       "    core type: Lambda\n",
       "    parameter: 28\n",
       "    body: 22\n",
       "18. 1\n",
       "    core type: Literal\n",
       "    sub-expressions: \n",
       "19. m\n",
       "    core type: Variable\n",
       "    sub-expressions: \n",
       "20. in\n",
       "    core type: Literal\n",
       "    sub-expressions: \n",
       "21. (x, A_{i})\n",
       "    core type: ExprTuple\n",
       "    sub-expressions: 23, 24\n",
       "22. A_{_a}\n",
       "    core type: IndexedVar\n",
       "variable: 26\n",
       "index: 28\n",
       "23. x\n",
       "    core type: Variable\n",
       "    sub-expressions: \n",
       "24. A_{i}\n",
       "    core type: IndexedVar\n",
       "variable: 26\n",
       "index: 29\n",
       "25. (_a)\n",
       "    core type: ExprTuple\n",
       "    sub-expressions: 28\n",
       "26. A\n",
       "    core type: Variable\n",
       "    sub-expressions: \n",
       "27. (i)\n",
       "    core type: ExprTuple\n",
       "    sub-expressions: 29\n",
       "28. _a\n",
       "    core type: Variable\n",
       "    sub-expressions: \n",
       "29. i\n",
       "    core type: Variable\n",
       "    sub-expressions: "
      ]
     },
     "execution_count": 6,
     "metadata": {},
     "output_type": "execute_result"
    }
   ],
   "source": [
    "# display the expression information\n",
    "expr.expr_info()"
   ]
  },
  {
   "cell_type": "code",
   "execution_count": null,
   "metadata": {},
   "outputs": [],
   "source": []
  }
 ],
 "metadata": {
  "kernelspec": {
   "display_name": "Python 3",
   "language": "python",
   "name": "python3"
  }
 },
 "nbformat": 4,
 "nbformat_minor": 0
}