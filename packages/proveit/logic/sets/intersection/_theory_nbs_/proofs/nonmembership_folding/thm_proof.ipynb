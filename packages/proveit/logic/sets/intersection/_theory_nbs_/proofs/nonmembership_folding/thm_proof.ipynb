{
 "cells": [
  {
   "cell_type": "markdown",
   "metadata": {},
   "source": [
    "Proof of <a class=\"ProveItLink\" href=\"../../../../../../_theory_nbs_/theory.ipynb\">proveit</a>.<a class=\"ProveItLink\" href=\"../../../../../_theory_nbs_/theory.ipynb\">logic</a>.<a class=\"ProveItLink\" href=\"../../../../_theory_nbs_/theory.ipynb\">sets</a>.<a class=\"ProveItLink\" href=\"../../theory.ipynb\">intersection</a>.<a class=\"ProveItLink\" href=\"../../theorems.ipynb#nonmembership_folding\">nonmembership_folding</a> theorem\n",
    "========\n",
    "*** see <a href=\"../__pv_it/285d62d054ff693628af052fb7e55b5cbf2c04f40/dependencies.ipynb\" class=\"ProveItLink\">dependencies</a> ***"
   ]
  },
  {
   "cell_type": "code",
   "execution_count": 1,
   "metadata": {},
   "outputs": [
    {
     "data": {
      "text/html": [
       "Under these <a href=\"presumptions.txt\">presumptions</a>, we begin our proof of<br><strong id=\"nonmembership_folding\">nonmembership_folding:</strong> <a class=\"ProveItLink\" href=\"../../../__pv_it/theorems/4ae1223288ad8cda2c36c843076eff656a8d41350/expr.ipynb\"><img src=\"data:image/png;base64,iVBORw0KGgoAAAANSUhEUgAAAjAAAAAZCAMAAAAYE+SKAAAAXVBMVEX///9vb28YGBgNDQ0rKysP\n",
       "Dw8WFhYkJCRlZWVRUVESEhIoKCgtLS0/Pz96enovLy8QEBCIiIhmZma6urrMzMxUVFQiIiJERETc\n",
       "3Nzu7u6qqqp2dnaYmJgyMjIAAAAYJSVhAAAAAXRSTlMAQObYZgAABf1JREFUaN7tW4eW3SgMZXvN\n",
       "xvRq/v8zl+ICWGA745ndvDOcZEKCuKJcJCEchJ4rXAih0Gd51ULD/tonAcXnmr56UfyTMP+fwj4J\n",
       "81nq5XY31u9E+AOKUW0lEmbe2p17gjAP4r1a0XJsYHhfmM3va9tgeK7aSiCMNWvzrJ8gzIN4r1bm\n",
       "8Y2A0L7w7HskvLnIsHwHXs9tJRBGrUxW8hGX9CDeixVHbnj0WtjNHtpoKoUMv+jla05HvgMfTj9u\n",
       "KjGGWQ3BbhreFsM8h/diZZBycFKIX3+Ze8LaEA90tlJlV0auDaAn34GPLVNTiYRxVsei3h6yZoTn\n",
       "8F4s4u0uCJM4HDKpusIOYU8HFotfOptdeRg+n35aV9ItyctYbqVk7MimfgPeIxsCLBF95gJ7B7qr\n",
       "AC/7pTHmiuLN2ocAQZdhQiWcPYlGxh9vEHJzI9e8f0++A583mtSVRBieZifv5GjJiDBneLc0DYTp\n",
       "KYdlD8dQ9MbjIcdDBBTIvCc6oDmBkZjruwjGgHDuEbCYx6s1gmKeS9a8I1/BH6ObupIIQ8mB4G8i\n",
       "zAme8zd2ayQswRtgaRhIF4fcIO1N6J4Ckf2ADefchhiTqnoe9Z1SmPpgKJ8UMkLE04Qp4AHii7qS\n",
       "E3exjsdJEyaIDch44ueEGeNp4q/nZ4bCJWFYawW0seTrP10czZPvXn34gafFnwfoiP31Dzceoj6k\n",
       "RKfMq8gLWQ19mkP5+afw4yC8xKiEcL90oU8TpoY/7LuvK5kw1vVVxoUnod3IdDaIDt4s0Dz8Nt0R\n",
       "jfACiiCXCTMULufIWXvtMEp/GeDENAcuArkm3qCtx26wv+izIR6SLgUHKgeQA4rmTlkI59o0vxNh\n",
       "avhrhFFzk2VsFj4ujnE42hV7wSWVeBYThsslZ7g+X2O7NhSWB9WbtuQVd9MA4CQLKLvuqWgR6Ig9\n",
       "hC4UwF6G+YqDE7Dlu/BSEdP7EKaCd8QxHOJtvG3Zpo6WLimEbZwiqAfdmGGYYQpfI8yOF66LfEai\n",
       "cPJB4eKG+XmOchc+IUy+he7a5poIgFITZ24p6ryn7S3LBbfGhqBb78/hoNfocInNgGu4g8uFboJe\n",
       "Zepc7MOEqeEdnYLeKSwS5oOgN0xinXPbYzdUhgXj69g1wmx4gXVzddJcGGBaL2anU8JswqeEobLS\n",
       "pknVDilNPdJ7DRj/7i0ZusGW50OkEryhUm+Q9PXTYjAnrd9br7NbPkYuqbUxYbSfexVQvoZXGse/\n",
       "xyCerBu9mtKlsp6uxam2PTQpCRPMyzqPE8KUTrrKIeqZWCtzHlqcEaYUPiMMr7QxIaX8+y+J+0rz\n",
       "c1swJBp2xlvLBl1gB+iMPRji4T0vb7XmGGtMqodZzeWPGhSW3qfbkwmVHCqdWBjBu5Wj/BGe4xiE\n",
       "Fy5xXom8VFbCuHW8dY+08DItTiRMOBVilPjaR7ThpWBplyY63eHYJcLswo4Y5wgzlnUIs2YnVm28\n",
       "9D6g0syDYEgIPJetZUt8FNgA9GGIlN94GvjhixRCzBeEC8I4BFUHBvtcfgqjxzJOKW+a3kzXUjn4\n",
       "76YHrywMogxfdJILvEd2TpGySmlGmgea76F571ID9KMUNjigTAYZ2yFMms+uDYVt2ywHoDQumV0u\n",
       "dBwBwyha8lJV2BD0YYjO9lPzF9KT7iwx8i7Jcr/YDCdztAo+Po567Ec6p8KdvUUYzR21OF7HWVjL\n",
       "4Chl2hsv3LZ3qYFNqv7RCgcXHzeu/gCguiXpUltoM86s3vmoFG1QermwNCMoWnKXCvt3CLodIqHX\n",
       "s9bQhzKgsCLCc/xuhElWMeYDFLfVc0X5ecOwR1j41RLm1yd+izDV0ThI604D8G8iBtLxD9MhDG57\n",
       "4D/lEmeASrdwvu8XdQ8a/SYB7HaI8zVewFdwdPq11YeUjbRSdQgDzEWCC3+bMEa1KRafU39GnQtH\n",
       "HxBzaRyr3tOA7OfuAaXI3Pga8BJ0O0RQQe+rS5Ab//0nmk61lQ/8ptfdaXD3N5I6IJEyeHK4Y6hv\n",
       "QX+Dgu+oPEyYj/1/SWRklcYTw7c+bLwF/S0KvpMS/18S/xfjA59GVoa47wAAAABJRU5ErkJggg==\n",
       "\" style=\"display:inline;vertical-align:middle;\" /></a><br>(see <a class=\"ProveItLink\" href=\"../../../__pv_it/theorems/9522036b1b2202b0afb4f7e290ef2748c34aac990/dependencies.ipynb\">dependencies</a>)<br>"
      ],
      "text/plain": [
       "nonmembership_folding: forall_{m in NaturalPos} [forall_{x, A_{1}, ..A_{_a}.., A_{m} | (x not-in A_{1}) or ..(x not-in A_{i}).. or (x not-in A_{m})} (x not-in (A_{1} intersect ..A_{_a}.. intersect A_{m}))]"
      ]
     },
     "execution_count": 1,
     "metadata": {},
     "output_type": "execute_result"
    }
   ],
   "source": [
    "import proveit\n",
    "%proving nonmembership_folding"
   ]
  },
  {
   "cell_type": "code",
   "execution_count": null,
   "metadata": {},
   "outputs": [],
   "source": []
  }
 ],
 "metadata": {
  "kernelspec": {
   "display_name": "Python 3",
   "language": "python",
   "name": "python3"
  }
 },
 "nbformat": 4,
 "nbformat_minor": 0
}