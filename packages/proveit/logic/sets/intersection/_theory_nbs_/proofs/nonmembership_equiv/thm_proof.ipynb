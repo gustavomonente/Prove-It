{
 "cells": [
  {
   "cell_type": "markdown",
   "metadata": {},
   "source": [
    "Proof of <a class=\"ProveItLink\" href=\"../../../../../../_theory_nbs_/theory.ipynb\">proveit</a>.<a class=\"ProveItLink\" href=\"../../../../../_theory_nbs_/theory.ipynb\">logic</a>.<a class=\"ProveItLink\" href=\"../../../../_theory_nbs_/theory.ipynb\">sets</a>.<a class=\"ProveItLink\" href=\"../../theory.ipynb\">intersection</a>.<a class=\"ProveItLink\" href=\"../../theorems.ipynb#nonmembership_equiv\">nonmembership_equiv</a> theorem\n",
    "========\n",
    "*** see <a href=\"../__pv_it/017557b03e19e86b76498fc09b1f9642a6828b810/dependencies.ipynb\" class=\"ProveItLink\">dependencies</a> ***"
   ]
  },
  {
   "cell_type": "code",
   "execution_count": 1,
   "metadata": {},
   "outputs": [
    {
     "data": {
      "text/html": [
       "Under these <a href=\"presumptions.txt\">presumptions</a>, we begin our proof of<br><strong id=\"nonmembership_equiv\">nonmembership_equiv:</strong> <a class=\"ProveItLink\" href=\"../../../__pv_it/theorems/99b408d9ba7b293fe0042466cf2107e63b29ed510/expr.ipynb\"><img src=\"data:image/png;base64,iVBORw0KGgoAAAANSUhEUgAAAqcAAAAXCAMAAAABbhZqAAAAQlBMVEX///9jY2MJCQkNDQ0rKysP\n",
       "Dw8WFhYQEBCIiIhmZma6urrMzMxUVFQiIiJERETc3Nzu7u6qqqp2dnaYmJgyMjIAAADRR/RZAAAA\n",
       "AXRSTlMAQObYZgAABjZJREFUaN7tW4eS5CgM9UUTTLb//1ePYLcR2d303lXdULsr71go+QFCMMvy\n",
       "v2h0+fHzxybf0L7/CxYJA2mlsWKnf7EpAelX/Gxqnv8N3repEpSTmp2RZX9xmc++nibLPGGjTXJI\n",
       "a0N6K3U63+1fnk7K8jcB6Rf8rOjfxHe+wQObRoNyUYstrS6mXX6M02nCRtsuIK00TEqdzv8d1Q/w\n",
       "zIcKe0W+3CH9gp8V/bFG+mx5LrK/YdNoUC5qsSWu0SD48jFOpwkbbAZDOrT0QGazH0V8Ec64/UMG\n",
       "Lamy1+QvGkE63c+q/kjj9oKbGTCjyP6GTeNBOalfq88e91z4Pk6nCRtsTEBa/Mac/f0X2/NOYcQq\n",
       "fJQ6ay7CooXHnK+x1+TbNyuk0/2s6o803osyG1k8SuzPbXoQlJM6bBktXRNsmYDTWcIGE3gGaSmy\n",
       "HMmFi0KnM5ILOkh9ArNTyMiIq7NX5Pu1j0A62c+G/kjjtWiTsfGYs79h05OgBOqxdXDXmJ6B01nC\n",
       "BksMGFKJ0CYIitY16SZ4mAKi+IsQuaijsOXjr+liKIOpstfk+4BhSCf72dAfaVTnIx/bXOXsr3Bm\n",
       "RtVsehSUQD22QtLBn+wCdRWnbwh7v3EDqLRmGYaWaKHxG0aESp18D2szPVAzqRpZGmrsVfkhSYPU\n",
       "xXCPGv7Mz4Z+s6f20tH9RMZ+2ZYbVbHpWVAC9djyc7h8VJ3BVZz2hD1CcI+ZKUC1Hb/aJujk7sbz\n",
       "2gOLVmZnsjjwkn2rSTgF8rO5iUE62c+Gf7HGAKRtdL+YsV+25UZVbHoWlEADttwjatc7KcOOF61b\n",
       "B6cdYeYg4zDtMq8EUBcSDmujq52X/vzDzU5Zp7DtwXg7fBeKMZuN01h+IaYHpJP9bPgXa5Ts0SyV\n",
       "sV+2ZUZVbHoYlEADtrSpfw2pNMb2veJ+xGDZw2lL2CLxMV7/7zMn38/nx2A98dliUnuImMPTesaR\n",
       "TMcplD8Np2N+NvwDGrF6VJ5J2SOboFEVmx4GJcap2MuHBr6woISvXyuDHDq1y2ztyLR/VRmnDWFu\n",
       "cWB4OCJ95mQ99G7BcvWaA+1mvnqvX8JpIj/7YCzTC/LT7TM/G/7FnroP9uBoM2OP0qjEqKJNT4NC\n",
       "onXf5oFnwmGwocju4OzWjcLyg6KKCnRtoBrz6S1s0QhTtMVnGChZr5qpRp852V8ouSA3/NCdE2GU\n",
       "VVxe+yhxhuw6G5mNUyg/DW1xHzXTz4Z/UCOnQzX+CvtlW25UyabHQYn2Ua7acLpgyGrVrpvV6Ufz\n",
       "7Y+idn4zdACnL2HW4m1fWLQuWJnny61fVb6Z6zMuKF6QQy38SK5FMLXRcqdX4Y+fNec2TuVxBeP1\n",
       "dP+o1DORn4bWeqchnexnwz+okW5xjb/g3f2Us1+2lYzKbXoelEAvbJ2JhZDIyXHbF/9e4hindjK9\n",
       "AtbC6StLsT12kGAaO5b8mKN67eL0xdxocHGQG0ISYXgDRm6/E1noJPlx+L2osg8hv+jMp+w+i9my\n",
       "hxzWifw0tG4SoJBO9bPpX6JxB58z9y56ytlPqSWjsti/EZRAL2yZS9yG3EbtSjso81V7jgJO7Vhh\n",
       "Azg1t23gdEzuWGseDna7p3Qxc2O97Z8nmt80Z6x6blpAg+9VfKwrGWCHoT13zhGd7mfVv1SjeHbf\n",
       "JmH/yKZeUE6q08LPauGIuKtv+QsxG5hPF0LvqbKOU7h5u1l9rUCEXLuL05vZYGUMpkoXlA7cz8hr\n",
       "sDVm8t3D3iS0s++h9AvTL/80munXRzb1ghLdQwFD5TgxbrjfMt3YMJ7TNFKpgiy9+wqB8MeKJMw0\n",
       "odZ04tS/gf9kzApZKatalG5EohqR0uXICrP6Kk7T0D671/eWnxX/5OQLtx/Y1AtKdK8PDjk3gbq7\n",
       "BmLTHklcXWMxXAjYxnEqN0M0cmKoRZlNnLkH5sHMjVP/hq4i+idntsm4m/6L9xi794dLRw5FZoHZ\n",
       "saHv4TQNbRd5n/tZ8Y//qnvSXZu6QeGiulanus78tN8Qq28Ismrva91XfWYWrj+wEm/39zGKMfwP\n",
       "/N6JEZB2Z553/GxqnrhUfGxTJSgnRTsjv+SjpL+SQ9FxHhMUflkn/ZG0Yw4RtzyI5af9tG9OHk/e\n",
       "mJ94/bSs/QMQ8XgzlW2HFQAAAABJRU5ErkJggg==\n",
       "\" style=\"display:inline;vertical-align:middle;\" /></a><br>(see <a class=\"ProveItLink\" href=\"../../../__pv_it/theorems/accc56ac389e3f88899fda21b9088d304a5fdf3c0/dependencies.ipynb\">dependencies</a>)<br>"
      ],
      "text/plain": [
       "nonmembership_equiv: forall_{m in NaturalPos} [forall_{x, A_{1}, ..A_{_a}.., A_{m}} ((x not-in (A_{1} intersect ..A_{_a}.. intersect A_{m})) = ((x not-in A_{1}) or ..(x not-in A_{i}).. or (x not-in A_{m})))]"
      ]
     },
     "execution_count": 1,
     "metadata": {},
     "output_type": "execute_result"
    }
   ],
   "source": [
    "import proveit\n",
    "%proving nonmembership_equiv"
   ]
  },
  {
   "cell_type": "code",
   "execution_count": null,
   "metadata": {},
   "outputs": [],
   "source": []
  }
 ],
 "metadata": {
  "kernelspec": {
   "display_name": "Python 3",
   "language": "python",
   "name": "python3"
  }
 },
 "nbformat": 4,
 "nbformat_minor": 0
}