{
 "cells": [
  {
   "cell_type": "markdown",
   "metadata": {},
   "source": [
    "Proof of <a class=\"ProveItLink\" href=\"../../../../../../_theory_nbs_/theory.ipynb\">proveit</a>.<a class=\"ProveItLink\" href=\"../../../../../_theory_nbs_/theory.ipynb\">logic</a>.<a class=\"ProveItLink\" href=\"../../../../_theory_nbs_/theory.ipynb\">sets</a>.<a class=\"ProveItLink\" href=\"../../theory.ipynb\">intersection</a>.<a class=\"ProveItLink\" href=\"../../theorems.ipynb#membership_folding\">membership_folding</a> theorem\n",
    "========\n",
    "*** see <a href=\"../__pv_it/cb139a3405b1d5851337d8322a9fde40e93b3eee0/dependencies.ipynb\" class=\"ProveItLink\">dependencies</a> ***"
   ]
  },
  {
   "cell_type": "code",
   "execution_count": 1,
   "metadata": {},
   "outputs": [
    {
     "data": {
      "text/html": [
       "Under these <a href=\"presumptions.txt\">presumptions</a>, we begin our proof of<br><strong id=\"membership_folding\">membership_folding:</strong> <a class=\"ProveItLink\" href=\"../../../__pv_it/theorems/70090bbfa8ba3de32828490b4e9ad61d5b6602900/expr.ipynb\"><img src=\"data:image/png;base64,iVBORw0KGgoAAAANSUhEUgAAAgkAAAAZBAMAAABJBaB5AAAAMFBMVEX///8QEBCIiIhmZma6urrM\n",
       "zMxUVFQiIiJERETc3Nzu7u6qqqp2dnaYmJgyMjIAAAAcRTyBAAAAAXRSTlMAQObYZgAABSBJREFU\n",
       "WMPtWW+IG0UUf7fJJtl/1/ughVIs4SqnQvGCsR70rjQielIQ9/rhihS80HrgP3S14FWqEkS4pCLJ\n",
       "B9GgSJartOWEGrwPWjgxVgpH9EPwWihIa0D9YEEb9LTXg2udP5tkdnd2s6kEbPHB28y++b3dmd++\n",
       "mXkzAQgikZlX4ZaV8ZlKMGAUbmWR0v+zcJOwINW6MQcXpUAVs1DHhgudWQiE64mc8DU/2d3DxHq7\n",
       "/IyliIVv8f2lziwEwvVEfvU1X2ZMssmHzreL/Y12+aSliIUi/sl0ZiEQrheiJfzM2uV2zx89NPsW\n",
       "BxmezR5KNW8urrUr1DhVxEI/eopa7sxCIFwvJFqwdX525g3W/MmuVrWaA5jkULZUAPFAM1oWrjKh\n",
       "M0AVsaBV5+ffDzA7BsL1QmwvFd807ebacOszL+PLc/ygiVjfTxNWmKqfqeI1YjWbfY37etW+Rnji\n",
       "eixbkc4NvbstToayyZpRtJtftZaKI/hSdPnHTGYs71bWmapvqGIWpgFy3NeH7Cw4cXynmC1+U25A\n",
       "rlOvnYB3UNhWtJej9ea03jIj+RimEDsi6aPBX9OpxaBjICX+wVRdpIpZeAjkehAWHDhthev0o63j\n",
       "7tnUw80HcBhFpamuhQv2Bx62aC4lQEwaAVkIg/QnU/U5VcxCFARH/rF3LCVsdLHgwB1d5/VB3lXz\n",
       "YEFeTNY83fwAt6EqiNEniVt+R9I0o/sDyRdRTTgoC5PJB1aZqimqmAW1FnW0RclUYYeaHEmOsk+y\n",
       "46B6kDuXHE94sHD+1Ly3mx+AdHdDnOaLGbs5DNBX74IFFKhb+CxI9UlHW5TvQ1BxxQLFnd4+pJOv\n",
       "EM/yurInlnGzgH3ClB2+my+AhP6UTm8G7GY080cHgrOgIH0JLSbnBhOD03g3SZXsI3JPodG4c89W\n",
       "AfWPtEXZ90TczQLBCeYLUTLyIzCCLq5cLR0yXCwQn35ri85zcwGcs6NiDiMQvrnPNjtKZZoMBmXh\n",
       "Q5prnr0DNppD9tkRFhBCe7DW96yAcihCmV49x2EB40T4jVp+gGEQv3ayoJWFhosF4nPUx80JsAta\n",
       "yh4v5+Ej2pAyu8rhnCF21cWCfA1dPq1bhTYLEr7kC9KcASswhsqWEhbwmPvgLtiQClVoWxRdVRNu\n",
       "FujYpLmX/NN3eROiThZOji2tceYF5LM3m83GvdycAPshCMCxwbmddNaVn97dNp+4fgmU/JWEKxZe\n",
       "wYV0s9BkQc5fM+GL6wchEhcHyIj6hSphQcOv3Q8TmGjSFkWXauS721kgOLFBzCETSrq7OztA+guW\n",
       "v1zed4ZlAftEwMfNAdBGL2xf1PkZdHjJnkFTIyGA8KS5l15oVVrSpwsZqaGDjKkx2POF2+FuKFlt\n",
       "UXR4OM4/XyipdRWKJjyGQqNGulM0pSPkgn7C6F3r8Fm9r7zIsEB8VNIrjhu6OAHKvbBZqQTbTdGT\n",
       "AqOrbLSEokHLVNjdlHVk0UDRcN5qi5YCrcJn4djZ01WYKMdWQcq/TrozURY3wURB3CRuhnwGildq\n",
       "Ef043M+wQHzgbTyGOW6o5AJMy0Yo1SnbbJulkb/j3bDwCPQXpOdNdmdtxVQa7dffs9oyjnYYab+z\n",
       "puYURUK7NV8pLfACGGVnviDgYc9za5YYgKEkokrAU5Z/ITlL3SduTFs8WVCsISkOj7ZvAE414wXu\n",
       "hP0Fjwza7aYUXFlkWkhF7un5iZtWoHqD544a/4bTKu9TGY3/tP/26esN/h+RuBmOoMdn0v8ANYab\n",
       "h3NcN5kAAAAASUVORK5CYII=\n",
       "\" style=\"display:inline;vertical-align:middle;\" /></a><br>(see <a class=\"ProveItLink\" href=\"../../../__pv_it/theorems/afa4832320f249ed1104e96bc60bcb865850360b0/dependencies.ipynb\">dependencies</a>)<br>"
      ],
      "text/plain": [
       "membership_folding: forall_{m in NaturalPos} [forall_{x, A_{1}, ..A_{_a}.., A_{m} | x in A_{1}, ..x in A_{i}.., x in A_{m}} (x in (A_{1} intersect ..A_{_a}.. intersect A_{m}))]"
      ]
     },
     "execution_count": 1,
     "metadata": {},
     "output_type": "execute_result"
    }
   ],
   "source": [
    "import proveit\n",
    "%proving membership_folding"
   ]
  },
  {
   "cell_type": "code",
   "execution_count": null,
   "metadata": {},
   "outputs": [],
   "source": []
  }
 ],
 "metadata": {
  "kernelspec": {
   "display_name": "Python 3",
   "language": "python",
   "name": "python3"
  }
 },
 "nbformat": 4,
 "nbformat_minor": 0
}