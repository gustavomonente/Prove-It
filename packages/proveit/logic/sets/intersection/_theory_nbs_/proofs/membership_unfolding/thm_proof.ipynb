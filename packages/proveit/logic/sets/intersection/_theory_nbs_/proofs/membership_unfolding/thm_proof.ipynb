{
 "cells": [
  {
   "cell_type": "markdown",
   "metadata": {},
   "source": [
    "Proof of <a class=\"ProveItLink\" href=\"../../../../../../_theory_nbs_/theory.ipynb\">proveit</a>.<a class=\"ProveItLink\" href=\"../../../../../_theory_nbs_/theory.ipynb\">logic</a>.<a class=\"ProveItLink\" href=\"../../../../_theory_nbs_/theory.ipynb\">sets</a>.<a class=\"ProveItLink\" href=\"../../theory.ipynb\">intersection</a>.<a class=\"ProveItLink\" href=\"../../theorems.ipynb#membership_unfolding\">membership_unfolding</a> theorem\n",
    "========\n",
    "*** see <a href=\"../__pv_it/da98d65b02a111e5db3da601a6a74d714cb6cd920/dependencies.ipynb\" class=\"ProveItLink\">dependencies</a> ***"
   ]
  },
  {
   "cell_type": "code",
   "execution_count": 1,
   "metadata": {},
   "outputs": [
    {
     "data": {
      "text/html": [
       "Under these <a href=\"presumptions.txt\">presumptions</a>, we begin our proof of<br><strong id=\"membership_unfolding\">membership_unfolding:</strong> <a class=\"ProveItLink\" href=\"../../../__pv_it/theorems/b6746710e2aeb4b12e3475ccf7ee064933ad1a510/expr.ipynb\"><img src=\"data:image/png;base64,iVBORw0KGgoAAAANSUhEUgAAAkQAAAAZBAMAAAAiQSxpAAAAMFBMVEX///8QEBCIiIhmZma6urrM\n",
       "zMxUVFQiIiJERETc3Nzu7u6qqqp2dnaYmJgyMjIAAAAcRTyBAAAAAXRSTlMAQObYZgAABjxJREFU\n",
       "WMPlWW+IFGUYf252Z29nZuf0QwklxXLGFVdxC2cK/sHN6C9Fe/fhNBRdTD8oUVuCh57FfghcC9n9\n",
       "EOdR1E0ap2jY0kVlGF0XQaxBg6dk9McF68MJ5ZKaenHa+/fmnZl3bueOFhQfeGbed+d5fzPzm+d5\n",
       "3ud9FyCMxHq3w60p0d6d4Qyb4daV/puDoneZTitHw6Jpdn0bo0QVU1TFp1/rUxTKrkGi56nKZR3P\n",
       "BqWQcAeDLqhVp72ZKaLoOD6dq09RKLsGSUuJqlzOcyL5CwZYarwxHnifmtM+whRRNIAH5+tTFMqu\n",
       "QTLGVCrmeYu1Rtn5bAABKTYgFQT124TTTiSpIopa0A0S5foUhbJrkGxn6sjp3l7uM4dXcK95n4XL\n",
       "LkuKsnoHe5lSAJI+fFUI7rlUEUVm5dChvSHSdSi7xoiWoyq8bbvTtjvS3E1oI7YyKYXZ2ErPe4OQ\n",
       "TOWicOV3pmhGu1Io7AxBUSi7xoiSoqq3bl5JgkkXcmLU+opPUIkUyyI5ac6vsnl5AdJ9bW89kPQg\n",
       "wVPGpND7himiaBPAbumTJdwUBdrNyCFmYJvhjbhN9UP4Mfmad+76ANZzpzFpxBynU4vvdcosT+xB\n",
       "zIyYrzRXPUh6Wv1bTExMEUWPOFOBWyJuirx2cr7irkBPey+P+G0CAT6ZunuZagV+sJ4kNq5bDCLn\n",
       "UfFEYlDvycF78kjQ6PP3IbqsxES05EGKgnZB6H7GtB8PVTyl1KplaWWejyKPnXlR+oZnXKx4Z0D6\n",
       "0c6kp6HIuRjhZDWlqVpQoD90/YWEvq/6fOdLeVA7MTsqmbPNJMQyEuATJBCQ3IYcBuJ5LxL0dC66\n",
       "ItivZ4ooSthi7awf67SNfAWW+Chy28H+SWnAr7ADKMLAsNZlYyxaLpSztCMA6FkPRQAsEAbETw9N\n",
       "6BWjDkXNFqhZyaOh+ayHUwQwJ+lFwi5/t5wirdojzoFHD4FxIgIjic7FnUtFitx2UNkqDfgDqQCK\n",
       "MDD9jNxG32MdnopW3hEBxj2BBuolxpkDiy/NZRSRAwzLi0MjxcvPPkJAxotkIH1ZGPA4U7xG270R\n",
       "eefy7gVKWwai+AGNNc8lR3xeROxg9KE2Aq4mCzKKuuN5P0V4DAGmUw23wYE0JEbVkAfgQU+6/kKp\n",
       "AZmjI1OzulamNTFhh6brcUaTpEI3UixdG1YHKJYLCd6hhfrYqdZU6yZ3uoZhBG8+bDdtUbLQQvjM\n",
       "VE5JKMJ2ivViM3H5GCxGB1+Nlo3kfBSRMS28wGE2W2iqnEqXvCMCfCpM5kij/8ZrbAXax01wjRO/\n",
       "yiiK4MmAJG4UbKBfA3b4CFO3mgUbmcmfLRfZsrhPLL6gWIKTd8E8qw21lzHtZ2H59r0wJ41usZ9S\n",
       "lMBP5aUI26nwJ/3lZ+gA9WsvRWZZqfkoImMIcDTPbdbeKafIBfAEzzc5ovqG9gVsHT30Or3zwevn\n",
       "wCheTlGKWrB/x/AXVLBzbAN2aMapCYcAtLIIGmrdt9x2IenFaxZ8fn2rti8HFwk1fzDFFJnYaAN0\n",
       "4XhfVSgUkkZGs3N+iogd0BpdP/t90SIfyyVHln03IclFaAwBjmanbHbIKXIBrAtegDy9q9dVgRCK\n",
       "DrD8LdZU7vpD9S9AvEixpDoX+5aeo+rsF90O98GgiuKHeBE8mmR43v0itUZ+jlgwmPFTtAS0SzD2\n",
       "5diab0WK8BgCTIKA2ARR5AJ4LNQy1qFoNFxJGryMJQk8o+S1WkZcxrJIrCE/Op2ABKbfTIM5It9S\n",
       "G0xUEzBgwTMo7mxMkfYG6vJDFDnvJHxcbSofEygiYwgw/irUxqGIjaYdN8AvYjk5bb1JqsaACtgv\n",
       "0y4SBpEfmfkRcTOEfYUsmgn6KwBv4mBFq7esnKKhk6MV6CrHr4BWfJWUIPOhq6TegQ/zoZiHgct2\n",
       "LHMAFgoUkTEEGBNDbRyK2GjacQMsDLelhr/w4n+SdUgMs6UGxHVbStoLFuFxt3RjVkEpo+7GLN8T\n",
       "wYFmuAoLajwMubK3LiLA94uFnA5UKQtChwNUZ7Yx+9P/uTFrlqjOcu/aYJ9L7Vgq7hjz1hDcAxtK\n",
       "0gXIVOrpvjDN1hMDMGy4EWRWFJlix5a0Atdo0Zm89X64qSia5f9oqVn/S4Gk/UYgKNq77T8ZvOPV\n",
       "sG+BUAAAAABJRU5ErkJggg==\n",
       "\" style=\"display:inline;vertical-align:middle;\" /></a><br>(see <a class=\"ProveItLink\" href=\"../../../__pv_it/theorems/e7dd783aea4f46f863bb611a2f824fec978250290/dependencies.ipynb\">dependencies</a>)<br>"
      ],
      "text/plain": [
       "membership_unfolding: forall_{m in NaturalPos} [forall_{x, A_{1}, ..A_{_a}.., A_{m} | x in (A_{1} intersect ..A_{_a}.. intersect A_{m})} ((x in A_{1}) and ..(x in A_{i}).. and (x in A_{m}))]"
      ]
     },
     "execution_count": 1,
     "metadata": {},
     "output_type": "execute_result"
    }
   ],
   "source": [
    "import proveit\n",
    "%proving membership_unfolding"
   ]
  },
  {
   "cell_type": "code",
   "execution_count": null,
   "metadata": {},
   "outputs": [],
   "source": []
  }
 ],
 "metadata": {
  "kernelspec": {
   "display_name": "Python 3",
   "language": "python",
   "name": "python3"
  }
 },
 "nbformat": 4,
 "nbformat_minor": 0
}