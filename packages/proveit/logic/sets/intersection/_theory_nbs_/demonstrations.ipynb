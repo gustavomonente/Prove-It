{
 "cells": [
  {
   "cell_type": "markdown",
   "metadata": {},
   "source": [
    "Demonstrations for the theory of <a class=\"ProveItLink\" href=\"theory.ipynb\">proveit.logic.sets.intersection</a>\n",
    "========"
   ]
  },
  {
   "cell_type": "code",
   "execution_count": 1,
   "metadata": {},
   "outputs": [],
   "source": [
    "import proveit\n",
    "from proveit.logic import Forall, And, Or, Equals, InSet, SubsetEq, NotInSet, Intersect\n",
    "from proveit import A, B,C, D, S, m, x\n",
    "from proveit.core_expr_types import A_1_to_m\n",
    "from proveit.logic.sets import x_in_every_A, x_notin_some_A\n",
    "from proveit.numbers import NaturalPos\n",
    "%begin demonstrations"
   ]
  },
  {
   "cell_type": "code",
   "execution_count": 2,
   "metadata": {},
   "outputs": [
    {
     "data": {
      "text/html": [
       "<span style=\"font-size:20px;\"> <a class=\"ProveItLink\" href=\"../__pv_it/demonstrations/38aed79182c3acb001993aadeca5c285d6cad1930/proof.ipynb\" style=\"text-decoration: none\">&nbsp;&#x22A2;&nbsp;&nbsp;</a><a class=\"ProveItLink\" href=\"../__pv_it/demonstrations/fb8833c5f0e8f896058e587f68df76250407d15d0/expr.ipynb\"><img src=\"data:image/png;base64,iVBORw0KGgoAAAANSUhEUgAAAGoAAAAUBAMAAACXJ7UVAAAAMFBMVEX///8iIiIQEBDc3NxUVFSI\n",
       "iIjMzMwyMjLu7u5ERES6urqYmJh2dnZmZmaqqqoAAABUl3CJAAAAAXRSTlMAQObYZgAAAaBJREFU\n",
       "OMt9VD1LA0EQffEjXu4j5AgIFoKlnVcIFjZBrYRI/oGprAQFwcJCUgRisNBgJRYqaG2KgCAEAoog\n",
       "RIhgGTHaCyIiguI5O3fubWIuW8zNzZs3M/tu94DuaxqhK+6wbdaNow5E2+0OvNRrF5gV3gG0Qy9W\n",
       "sW17mL0hpw3Y8kmxMoqvKJBnNYBzjk1dyppVFdBL+yNezwfAWIWZAXaywCnH1oJJklCAGwfRNM/9\n",
       "QSUy0MaAszKwJGJWS5L6EwgAg3piQID6FxClWhtU8jvrpUaCVoMi8Q+I5UQdIY/mXnPkljJcl0XB\n",
       "ZMCiXQeAV010x6L7LmQSu92eeRPVUAxYER7WBxSWVpkYp8cTRx5bHRP2+Z+JAYVFm/8hswJT7IBZ\n",
       "QlCFJYGAVaNuHisvLE+IzbYJJSBZWook/CT/GM9km15ufj6nqCEByYrTd7JqrMZdA2bKT14u+SfK\n",
       "JOUlIFnWKHAFLtY4uV/4d6x1ypFAwNLTc6zAeshtSCq+wbasXIhECKuKHksRm15sW96UmNODVQgD\n",
       "+FaGrb1QpMcfwHDwC1qibdhgjpxhAAAAAElFTkSuQmCC\n",
       "\" style=\"display:inline;vertical-align:middle;\" /></a></span>"
      ],
      "text/plain": [
       "|- S subseteq (S intersect S)"
      ]
     },
     "execution_count": 2,
     "metadata": {},
     "output_type": "execute_result"
    }
   ],
   "source": [
    "SubsetEq(S, Intersect(S, S)).prove()"
   ]
  },
  {
   "cell_type": "code",
   "execution_count": 3,
   "metadata": {},
   "outputs": [
    {
     "data": {
      "text/html": [
       "<strong id=\"self_intersection_containment\">self_intersection_containment:</strong> <span style=\"font-size:20px;\"> <a class=\"ProveItLink\" href=\"../__pv_it/demonstrations/7fb1631078403df1788d788e4b5befc3a45532ae0/proof.ipynb\" style=\"text-decoration: none\">&nbsp;&#x22A2;&nbsp;&nbsp;</a><a class=\"ProveItLink\" href=\"../__pv_it/demonstrations/695ee534580552f230d5bf3b1009f1411b4a7e260/expr.ipynb\"><img src=\"data:image/png;base64,iVBORw0KGgoAAAANSUhEUgAAAJ0AAAAUBAMAAABltyL1AAAAMFBMVEX///8QEBCIiIhmZma6urrM\n",
       "zMxUVFQiIiJERETc3Nzu7u6qqqp2dnaYmJgyMjIAAAAcRTyBAAAAAXRSTlMAQObYZgAAAj1JREFU\n",
       "OMutVL9rFEEU/sjtend7u5cUViIo+AdkRVDQQI4IKjZeYyrBiBoRmwOLFbRIIZgLhCwEYsqz0SUg\n",
       "nqSyEI+IPzBXHCiChZJWsbgUiviD872ZvbmZZDZVHnyzvPftfDPvvZkBtluxA7tlEmTPUmyw89mg\n",
       "Eh5W260PW+dkEKWxdlDZEwOMdY58M/ivhEIHSVd4wbUoiqoWwmuk/8/DW4BHG2Mscx4zulwQ0nCE\n",
       "vmLrxe+xnThz695dEc5R+AuwBoEyreI3db08CXg/AOcge+XYTvh1YJIXwBPa/ATwAALBu5WV+0a6\n",
       "7Dn/AFckeSKDeM+RGzycoy6dp4UrEr9mZ+8Yeoe4Nr1XqVfLIOZ4WBb7+ysW9kOJqwBtHRfaz6v9\n",
       "8pKN9n6KRItTAz2DEOvkeRjq9a5DVpVxUrTFCfEinXZbNO/jgX3iq7XKIAZ6eHxpk5pQqknkMUQF\n",
       "yDdQSKftlZ/cn635GoSmB4xTQ92uhN/h6HCMkjatRRuRemumniKUns8l1PSKG5N8LPZXtLQ8qpr7\n",
       "W3jlJqyE0ntIuEj5OjUJ1K9wWQ5vVgZlL41QWi15C6bPwkYovaeEMa0fWJUlWupX6iVNuQm8Tl33\n",
       "bf++GYTSOxbC50PAy4ilhum4e1V43VTgNMWdy9PNbU+IQSi98NRRcazLVQkE3Owm3CntWlnNIMTT\n",
       "FWiBRynkGZhB0tCvvc0yCXUQ1GHILbaPK6au//YmitR7Vd9Brv9eWSzJmpPsoFeIJXbrvf8k8R93\n",
       "h6pOntYCUwAAAABJRU5ErkJggg==\n",
       "\" style=\"display:inline;vertical-align:middle;\" /></a></span><br>"
      ],
      "text/plain": [
       "self_intersection_containment: |- forall_{S} (S subseteq (S intersect S))"
      ]
     },
     "execution_count": 3,
     "metadata": {},
     "output_type": "execute_result"
    }
   ],
   "source": [
    "self_intersection_containment = Forall(S, SubsetEq(S, Intersect(S, S))).prove()"
   ]
  },
  {
   "cell_type": "code",
   "execution_count": null,
   "metadata": {},
   "outputs": [],
   "source": []
  },
  {
   "cell_type": "code",
   "execution_count": 4,
   "metadata": {},
   "outputs": [
    {
     "data": {
      "text/html": [
       "<span style=\"font-size:20px;\"><a class=\"ProveItLink\" href=\"../__pv_it/demonstrations/c33f776d903e8169186df2361c317b19e99752750/expr.ipynb\"><img src=\"data:image/png;base64,iVBORw0KGgoAAAANSUhEUgAAAJIAAAAUBAMAAACUvHl4AAAAMFBMVEX///8QEBBmZmaqqqrMzMxE\n",
       "REQyMjIiIiKYmJh2dna6urrc3NxUVFSIiIju7u4AAAA6P00QAAAAAXRSTlMAQObYZgAAAhFJREFU\n",
       "OMtjYMAGdjCQCJg3YBfnCwBTLAlo4j3/D+mELkBTe/XQCe4JDKexm8QGsYHtA1TxA5iEKAMD0xdU\n",
       "sYsNDMyKDQzPsJvUBKHa/oGppaXhURABlh8MDFyfUMSe1gEJ/Q0MnBeQDWgtL4f4pxpirdFvEMUZ\n",
       "zcDgowAW4QUKcPxFEUsEuW0hULEAkkGu96AM7gIwxcH7C+7Aw2ARVqDyh3XIYkyfQSwnIM5iYHh7\n",
       "Z9dNkNP48mBG8kJcsI75B4iKAxFbwSL8BxhYah4gi+0HW/oaiCcx8E3gqGUHeYoHHpGsDWDPLWAB\n",
       "eYQBrJYdLOF/ojfcAEVsPjx42hg4H3D+4wIZwgr3JjtYNRcD9yc0k+5vYOCTQRGrd4BpMmfgY2CF\n",
       "pB7HNCAAhzgjOMn4KOl8RTMpEGSaAbKYPDgxgAh/kO8hLtwKdxPEJCAhhmbSH5BJF1DcBE7gDlCT\n",
       "/CEuZET1HTMQF6KaBEpODOcXIIvpg8KFE8RbzsD84D4DL8h5TBdQQnwzEOejmgRKTiyoPt4P0jQP\n",
       "EuLrDeKhGbYYZhKnAjRNxW9AMYkNmJwWxqGYBEooRuCw0mR4c/etBjjWGd5EQfMSVwEDX/y3Bwym\n",
       "/4uQdfHk/1E6GsyA6s5HMYcgWToFObesDEfJLVAAtoYDNWNiivEV4MvBpADUHAwHrBtINukZ3pKO\n",
       "FBCNQ5zk0pdjAwMA6HmPR41VZPUAAAAASUVORK5CYII=\n",
       "\" style=\"display:inline;vertical-align:middle;\" /></a> <a class=\"ProveItLink\" href=\"../__pv_it/demonstrations/3c4526ef950907cfc5e0041a00be5cdb67064f7f0/proof.ipynb\" style=\"text-decoration: none\">&nbsp;&#x22A2;&nbsp;&nbsp;</a><a class=\"ProveItLink\" href=\"../__pv_it/demonstrations/fa40968e427ee93e0e490f2d0d484f54244718700/expr.ipynb\"><img src=\"data:image/png;base64,iVBORw0KGgoAAAANSUhEUgAAAPsAAAAUBAMAAAC5TlbCAAAAMFBMVEX////MzMxUVFR2dna6uroQ\n",
       "EBCqqqqIiIgiIiJmZmYyMjJERETu7u6YmJjc3NwAAACgK8IjAAAAAXRSTlMAQObYZgAAAydJREFU\n",
       "SMeVlk1oE0EUgN8mabpNNjEIHrSHVvASSm1PiigYkKIHwSKe9OAe7UUXRYooNHiIRYoGRaQHMQU9\n",
       "KKUp4k/Any7FWk1BgpeiguTgQRRp7cEf/KnvvZnZbNKdQCZkfna/mffmvTdvFiBZAX2JVhsetEbD\n",
       "1yY0HKdqQft6E/63NjzT0G9W01ceZ9bQ1nQwbp1N9yb7Q6TtlFZ8Ef9l2Vf70tFHADq+eXRStrFq\n",
       "MH26AtFrFasAkMjrpCeKLkDYEYM78pmGNv4CRH55dExib4PphTGsblZhO4BZp2CiNHpR9V8gANag\n",
       "WL7kcquj2//h6IeioXNMtJfqpL4fHS1w5zYtNgAwB/CpbhOP3NqgMpLB+hb3Q3vFvnR0HOXOjSka\n",
       "tgwLH2T9eOc52en4TvVGNFIGzmBv/uTHU7x82Sc94p6gKN/BgzKIlXT0um4wzruKtgqmsEneh1uT\n",
       "Cl7itV6jZ/PwFF/0Jy6YbBZ/5D6HLpr1jgfb8EdFR3f1LpZsjw7bYZttUvHhIc9vux3lvALkkHbD\n",
       "fyL80n9OMrBEyh/jQRY+c6ujR6pgHfRoE5Ksn2n78LgHX06pPJGFQ6ggxMVKxuG7WKRj0+N99LSL\n",
       "1XQgxHN09ANSwZY0LAJsprYt48M3EM1aHWWnYWUs04LoOmGOpG8/EZxdUOJNF4xuKT6QXiHxjhKP\n",
       "MbheiffwL7Xd885TLD7HrpPmGKwtiFsxabiPBkMq4WhoOvbQl5F0NC8Tjmn78DaPpgMNYdpiloIp\n",
       "6o5AOxvkei2348zYsgqmKamCjqZjb/xWNIkmFTj0PLzD8SKfertE6OFROWDPyLtBqKsOeBwXhau0\n",
       "uWnhANDRMTTEwBNJQ6d0AB0sH57zbia01RBr1E/mmh2evyEuMqtnv0yLq5MQnfmJ0yfozJAP2x3h\n",
       "igA6VFwZ73lIvQlOOlQNC+P68Nn7Kk+8upfmqIilGtJoZGct6QoRWRGGWFJrkm4wDby0sTbp7inJ\n",
       "pKvKy2ZXjsggTv011BKtu3JUwSsHnjUlyg3j1uh4tRlNF26Tz40gca3Rus8Nn3JNP58SLX1sJVr7\n",
       "2PoA8B+CHwCZ6eve4wAAAABJRU5ErkJggg==\n",
       "\" style=\"display:inline;vertical-align:middle;\" /></a></span>"
      ],
      "text/plain": [
       "{x in (A intersect B intersect C)} |- (x in A) and (x in B) and (x in C)"
      ]
     },
     "execution_count": 4,
     "metadata": {},
     "output_type": "execute_result"
    }
   ],
   "source": [
    "And(InSet(x, A), InSet(x, B), InSet(x,C)).prove([InSet(x,Intersect(A,B,C))])"
   ]
  },
  {
   "cell_type": "code",
   "execution_count": 5,
   "metadata": {},
   "outputs": [
    {
     "data": {
      "text/html": [
       "<span style=\"font-size:20px;\"><a class=\"ProveItLink\" href=\"../__pv_it/demonstrations/fa40968e427ee93e0e490f2d0d484f54244718700/expr.ipynb\"><img src=\"data:image/png;base64,iVBORw0KGgoAAAANSUhEUgAAAPsAAAAUBAMAAAC5TlbCAAAAMFBMVEX////MzMxUVFR2dna6uroQ\n",
       "EBCqqqqIiIgiIiJmZmYyMjJERETu7u6YmJjc3NwAAACgK8IjAAAAAXRSTlMAQObYZgAAAydJREFU\n",
       "SMeVlk1oE0EUgN8mabpNNjEIHrSHVvASSm1PiigYkKIHwSKe9OAe7UUXRYooNHiIRYoGRaQHMQU9\n",
       "KKUp4k/Any7FWk1BgpeiguTgQRRp7cEf/KnvvZnZbNKdQCZkfna/mffmvTdvFiBZAX2JVhsetEbD\n",
       "1yY0HKdqQft6E/63NjzT0G9W01ceZ9bQ1nQwbp1N9yb7Q6TtlFZ8Ef9l2Vf70tFHADq+eXRStrFq\n",
       "MH26AtFrFasAkMjrpCeKLkDYEYM78pmGNv4CRH55dExib4PphTGsblZhO4BZp2CiNHpR9V8gANag\n",
       "WL7kcquj2//h6IeioXNMtJfqpL4fHS1w5zYtNgAwB/CpbhOP3NqgMpLB+hb3Q3vFvnR0HOXOjSka\n",
       "tgwLH2T9eOc52en4TvVGNFIGzmBv/uTHU7x82Sc94p6gKN/BgzKIlXT0um4wzruKtgqmsEneh1uT\n",
       "Cl7itV6jZ/PwFF/0Jy6YbBZ/5D6HLpr1jgfb8EdFR3f1LpZsjw7bYZttUvHhIc9vux3lvALkkHbD\n",
       "fyL80n9OMrBEyh/jQRY+c6ujR6pgHfRoE5Ksn2n78LgHX06pPJGFQ6ggxMVKxuG7WKRj0+N99LSL\n",
       "1XQgxHN09ANSwZY0LAJsprYt48M3EM1aHWWnYWUs04LoOmGOpG8/EZxdUOJNF4xuKT6QXiHxjhKP\n",
       "MbheiffwL7Xd885TLD7HrpPmGKwtiFsxabiPBkMq4WhoOvbQl5F0NC8Tjmn78DaPpgMNYdpiloIp\n",
       "6o5AOxvkei2348zYsgqmKamCjqZjb/xWNIkmFTj0PLzD8SKfertE6OFROWDPyLtBqKsOeBwXhau0\n",
       "uWnhANDRMTTEwBNJQ6d0AB0sH57zbia01RBr1E/mmh2evyEuMqtnv0yLq5MQnfmJ0yfozJAP2x3h\n",
       "igA6VFwZ73lIvQlOOlQNC+P68Nn7Kk+8upfmqIilGtJoZGct6QoRWRGGWFJrkm4wDby0sTbp7inJ\n",
       "pKvKy2ZXjsggTv011BKtu3JUwSsHnjUlyg3j1uh4tRlNF26Tz40gca3Rus8Nn3JNP58SLX1sJVr7\n",
       "2PoA8B+CHwCZ6eve4wAAAABJRU5ErkJggg==\n",
       "\" style=\"display:inline;vertical-align:middle;\" /></a> <a class=\"ProveItLink\" href=\"../__pv_it/demonstrations/ad84a7a072f1148cbedcb290047f18edfc3a894b0/proof.ipynb\" style=\"text-decoration: none\">&nbsp;&#x22A2;&nbsp;&nbsp;</a><a class=\"ProveItLink\" href=\"../__pv_it/demonstrations/c33f776d903e8169186df2361c317b19e99752750/expr.ipynb\"><img src=\"data:image/png;base64,iVBORw0KGgoAAAANSUhEUgAAAJIAAAAUBAMAAACUvHl4AAAAMFBMVEX///8QEBBmZmaqqqrMzMxE\n",
       "REQyMjIiIiKYmJh2dna6urrc3NxUVFSIiIju7u4AAAA6P00QAAAAAXRSTlMAQObYZgAAAhFJREFU\n",
       "OMtjYMAGdjCQCJg3YBfnCwBTLAlo4j3/D+mELkBTe/XQCe4JDKexm8QGsYHtA1TxA5iEKAMD0xdU\n",
       "sYsNDMyKDQzPsJvUBKHa/oGppaXhURABlh8MDFyfUMSe1gEJ/Q0MnBeQDWgtL4f4pxpirdFvEMUZ\n",
       "zcDgowAW4QUKcPxFEUsEuW0hULEAkkGu96AM7gIwxcH7C+7Aw2ARVqDyh3XIYkyfQSwnIM5iYHh7\n",
       "Z9dNkNP48mBG8kJcsI75B4iKAxFbwSL8BxhYah4gi+0HW/oaiCcx8E3gqGUHeYoHHpGsDWDPLWAB\n",
       "eYQBrJYdLOF/ojfcAEVsPjx42hg4H3D+4wIZwgr3JjtYNRcD9yc0k+5vYOCTQRGrd4BpMmfgY2CF\n",
       "pB7HNCAAhzgjOMn4KOl8RTMpEGSaAbKYPDgxgAh/kO8hLtwKdxPEJCAhhmbSH5BJF1DcBE7gDlCT\n",
       "/CEuZET1HTMQF6KaBEpODOcXIIvpg8KFE8RbzsD84D4DL8h5TBdQQnwzEOejmgRKTiyoPt4P0jQP\n",
       "EuLrDeKhGbYYZhKnAjRNxW9AMYkNmJwWxqGYBEooRuCw0mR4c/etBjjWGd5EQfMSVwEDX/y3Bwym\n",
       "/4uQdfHk/1E6GsyA6s5HMYcgWToFObesDEfJLVAAtoYDNWNiivEV4MvBpADUHAwHrBtINukZ3pKO\n",
       "FBCNQ5zk0pdjAwMA6HmPR41VZPUAAAAASUVORK5CYII=\n",
       "\" style=\"display:inline;vertical-align:middle;\" /></a></span>"
      ],
      "text/plain": [
       "{(x in A) and (x in B) and (x in C)} |- x in (A intersect B intersect C)"
      ]
     },
     "execution_count": 5,
     "metadata": {},
     "output_type": "execute_result"
    }
   ],
   "source": [
    "InSet(x,Intersect(A,B,C)).prove([And(InSet(x, A), InSet(x, B), InSet(x,C))])"
   ]
  },
  {
   "cell_type": "code",
   "execution_count": 6,
   "metadata": {},
   "outputs": [
    {
     "data": {
      "text/html": [
       "<span style=\"font-size:20px;\"> <a class=\"ProveItLink\" href=\"../__pv_it/demonstrations/d4ff9e8963db1e0637ee2c22b37098d0ee949cc20/proof.ipynb\" style=\"text-decoration: none\">&nbsp;&#x22A2;&nbsp;&nbsp;</a><a class=\"ProveItLink\" href=\"../__pv_it/demonstrations/8e167687db7c8d8b37ae2b82a73d5fa85d3a7c810/expr.ipynb\"><img src=\"data:image/png;base64,iVBORw0KGgoAAAANSUhEUgAAAlIAAAAVCAMAAAC6w/C8AAAARVBMVEX///8/Pz9vb28YGBgNDQ0r\n",
       "KysPDw8WFhbMzMxUVFR2dna6uroQEBCqqqqIiIgiIiJmZmYyMjJERETu7u6YmJjc3NwAAAAUTNBo\n",
       "AAAAAXRSTlMAQObYZgAABQhJREFUaN7lWoty5SYM9bbb1tjmYcD8/6fW9xow4iHgmmTSKbOzOIl8\n",
       "JB0JEOBpqrZ5+p+1+T+K/YPAD43+mfcIf2ujB+xb/exyOKdwFJnfBt7C0OeWJ4FQEs9OEv4Ehee9\n",
       "YqYmxhAhiJRrRVIxSQTR07FU4CQ50chlu+18j2uQ0wcOQ0erirqwI3bGgkNK6wx1W44EYse1CZAM\n",
       "UHg3kVkqeX27LBVmRuXY9h4jVGwahTNXbLWhbwEbabU3pJQ3vcth6GigaM6uCZ3YgJ3B4IDSkKEh\n",
       "lmOB0GJqn/CgsN5NEPRVcnn+g6pnc6XIagQipyS3QMIcOByzctu7W+yPrsdmOJH1oWmGvx29FREf\n",
       "Ds0K/FSxI3ZGgseUBgyNsRwJBC9np5ac//N3OAMAYUXvBDjB5HFNkMA2ZiW0MyErt28uNdetAmfp\n",
       "WK9gKCvueoyTI+dDzeHY0VvRvRJwleenjh2xMxI8pjRgaIzl5UAcxbJrluzUKENVUFifwGua5YQG\n",
       "MnKzmpz1OTlh/OMscDi30h7mqrl2a8Beq9W86V0Op47eitxKsYoCP3XsmJ1x4CmlAUMjLEcCwYSr\n",
       "5Rg5VnbPj2pXSZXCwiljVRM1vvKRPuGPsM4z7xExc6LKcoe5/VEHDud+WC/gabEWLZV5+za9y+HU\n",
       "0VsRtU8B273YMTvDwDOUBgyNsBwJhLy4Umeuac4m7t+9incGihQZ1s5rsKKCtZaHSy7RmklOJ0Ru\n",
       "MQxbunlmBT+njcVWORPoX3B70ERiepfDqaOBIm5HccJPK3bCzjDwDKUB9gjLkUBYfxb1skNNq0/c\n",
       "S98ONl1BakzrezAIPAdssaA2gshxMzemlF/BJ2JXImr/SnmtlKLwoc3h1NFA0cUzWRMlrdgJO8PA\n",
       "M5SGDA2wHAnEdv3m9YoMl5h5ew3yv36f/wV73jWo8YQQxM9/hRywxcJpAi3LbcG+UeFw/tDCbG64\n",
       "wL7YvOldDqeOBooUj5eETuyEnWHgGUpDhp5bjgUiyBIwWV4lzELzcbnG7vmLHU8pu9CepDFslrqH\n",
       "0ozDOW+1q20+Tqk2h1NHQ0WCRi90YifsDAPPUAoYemw5Foh7LZvhZLllTiNuYfvANzSl3LmLnx6z\n",
       "csFRxFKBY26r6qtDDvu4liKlha/N4dTRQNF07NELfdgpO8PAM5SG2M8txwJh6zKqzrHyGjB+whQM\n",
       "7DJhjXvQ+Pg8mwPu3GVGF8jjPrNSFbjZ7kL2uOjUtfPzuDxvczh1FCiSs85tXxqxU3aGgWcohQw9\n",
       "tRwLxLX5W8/V/LU+hleHZ+KSqMhzO0V/iiH9aMjmwL7ZwzaJ5ordolOh8PLcxnXlt4tigX2x+T10\n",
       "l8Opo0DRTLhKlTRiZ9gZB55SChl6aDkaiGvCUoQxxYQOL6MVkX9Ghb4Vlsa8twD0fHComRwgu7sV\n",
       "pZWtnBKSEHCLVIQjRIrg2G2fYV9sft7vcDjnKFS0ixw/TWTm2BkGnqE0Yuix5UggkJP4P35Jznnx\n",
       "QiY6Yc49fizXKKY47B9eyKQOlxS6WUwVlHyC/aXgMUNjLYeBQO4L07uJ2uXid7fB18byaFVYU/IJ\n",
       "9peC1xh6ZnkUiOIbuS9o5PGTMqrr4xZvepfDeYX99NexvxS8ztATy+NAFF9h+jP872uOBjnmEzym\n",
       "P+Z9eo79peDy80/wGixPAlH6QjSr4yd9KKwP2Fda9UNh2aqwRUkv9peC6wcfCsvOQPwLZreDx7NG\n",
       "MUMAAAAASUVORK5CYII=\n",
       "\" style=\"display:inline;vertical-align:middle;\" /></a></span>"
      ],
      "text/plain": [
       "|- (x not-in (A intersect B intersect C intersect D)) = ((x not-in A) or (x not-in B) or (x not-in C) or (x not-in D))"
      ]
     },
     "execution_count": 6,
     "metadata": {},
     "output_type": "execute_result"
    }
   ],
   "source": [
    "Intersect(A,B,C,D).nonmembership_object(x).equivalence()"
   ]
  },
  {
   "cell_type": "code",
   "execution_count": 7,
   "metadata": {},
   "outputs": [
    {
     "data": {
      "text/html": [
       "<span style=\"font-size:20px;\"><a class=\"ProveItLink\" href=\"../__pv_it/demonstrations/14f8e9f49db48630601e333f8cfcc3f631c9b6e60/expr.ipynb\"><img src=\"data:image/png;base64,iVBORw0KGgoAAAANSUhEUgAAAPsAAAAVCAMAAAC34mhmAAAAQlBMVEX///9jY2MJCQkNDQ0rKysP\n",
       "Dw8WFhbMzMxUVFR2dna6uroQEBCqqqqIiIgiIiJmZmYyMjJERETu7u6YmJjc3NwAAABtKQr7AAAA\n",
       "AXRSTlMAQObYZgAAAsxJREFUWMPFmOuanCAMhmm7LciZAPd/q4sjB5Goy67z1B8zPIgvMXxJQEJu\n",
       "L0red72T/SV48Je39fktGf4n+wE4uGvvMazTbv/sxsA5tmcxMmOYc/wL7GnDQTlmmCdhqXB7PYfh\n",
       "SKeNGWcxhbXmLFtsr2Mi7diPwJV4yUSa9X+De0OmleNthK21qNLHqlG+9s2yadxUzKPp2A/Awels\n",
       "somhwPWF97zT//5qO4hNbs+vTTFKrEwyz1YZ66Pq2A/ArSgPclEMD+cZgToFxCEz+GRkEZTlRwny\n",
       "uh7TbCeyQ7c3bOwfw02U9a4phitTEoFigaudzsBCH3Tl4kBkLCl2qcbI3GqTTrPja3mpZnBgX8BH\n",
       "OgIPsXkKQoG77SUg5T6vFdnp5JUKlRrTK18DU9XQPwQYbdl3lk0j8145LUf2KRyhI/AlqjFnkTzR\n",
       "AusAILwp5TWNhXHZX34sXpfNodt0rAl1lp3DHQQb2KdwhI7AdRw2OgkuNto60nX1kgpr7cef9GMP\n",
       "ZdOkEhxdXasmCN1XvWl2DvfkA3lkn8JHOgYXsbkCquGiebLXRVh5i0SXPcHs+O7EyP6JWXZk5d3V\n",
       "wL6C93QMrhtJ0mq4bvnvoAuBFvc8XJf6w3dDgu2fmGSX6k5YriJ79gX8SEfgtSYnrzTDc8qQkLy9\n",
       "urxpw6hdRakWyH5j1+Uj4qjfr8Aku1R3WgLK9xGBwhE6Ag9VGQs0w7c6wlOEuXg4HWjJjhmiFlVX\n",
       "HGmWLhfofYqZY6ftR957OEDYOBylI/BclKVpHlqyroApBcr47mAE7DeHfl8Y4yt/ytTQeYvQzWI7\n",
       "f8+wCbPlIFPF3LNROEof4anPOMb2W/wVfrE19L8Wp7W2V2epPrBCP+Wj7DfAL44E7v4Ivairu+9k\n",
       "PwI/HXhzPj6cYeeMeID9BPx0pPK3CPfdbxcPsB+Bn336ufee//Y3qyfYP4V/AjMANtHbK7wTAAAA\n",
       "AElFTkSuQmCC\n",
       "\" style=\"display:inline;vertical-align:middle;\" /></a> <a class=\"ProveItLink\" href=\"../__pv_it/demonstrations/c5a27843ae833babe05ef055f347aa5b0581f2b10/proof.ipynb\" style=\"text-decoration: none\">&nbsp;&#x22A2;&nbsp;&nbsp;</a><a class=\"ProveItLink\" href=\"../__pv_it/demonstrations/32051e6cef8fb0e45dabe9ca41d9e60a63b5452b0/expr.ipynb\"><img src=\"data:image/png;base64,iVBORw0KGgoAAAANSUhEUgAAAJIAAAAVCAMAAACaEEfcAAAARVBMVEX///8/Pz9vb28YGBgNDQ0r\n",
       "KysQEBAPDw8WFhZmZmaqqqrMzMxEREQyMjIiIiKYmJh2dna6urrc3NxUVFSIiIju7u4AAAAFgFu8\n",
       "AAAAAXRSTlMAQObYZgAAAitJREFUSMfNVgmS3CAMJBcbYXEj/v/UYBtjYRtmN5XdCjU1Y4Y2tFoX\n",
       "QkzGIv67YbpZsJ9+oAovAEvkM8JuTb942cacI0BE9HMgJYwQrQiuTOILTtBtpju0zpeN6fa63G2A\n",
       "vMxwSW7iK9h+SX/Abxa6mc5sb48Gy6eXY8m7o32GMY7Q1H0gbya7NJQdjfn9xikbLhKpusM2HIbd\n",
       "zx3rVBE2pzFOy8MyL/ed5SCIMBUkchKhl6wc6O/6RcUweJxx6PCAg9zeWOqq9lt8pRh8OiUjTTe3\n",
       "Jq6AJ6Fyyz9sLgw8A/KWHIuJNMSFfBpKVQBXDqIS6dYkYRqFPexT51VkFYD8GinpIeQMD6VobUKj\n",
       "xBjn8j1ybKHhaF0j4Zufdht0lxtsa+E3A2FOqYYSyTjGmXwvxqqsrScjV3yRuoxfP8sXy2jPyhWU\n",
       "epNxTqmGUqGmhjjJ0paautXvXMDd0071RcZ3IpU/9JxSjgelNFHpFGfpKS29gPLeTJjj6oORU0pH\n",
       "VRKxpeYdxyqJawaXNUXFktWcJiIUuzz0lFp4B3Ut34+Ujqq0zBwczpJFLLx98TXmvqkWSeIl8Bxc\n",
       "6hM2Cx8paVkL4Jn6D7haShScMQVOUEyJElje5inij0sv8mav/zlvmajKg4HhUVEfPVcJMVOTAGPs\n",
       "eqke3Yi+fysdxQwbSl9JHh//EkdmtII3Aha+5Io2bLv93WjE8hPG+HKS7Pto/vMxtvvx9C+46NqV\n",
       "0R/jDB+NtS0pJAAAAABJRU5ErkJggg==\n",
       "\" style=\"display:inline;vertical-align:middle;\" /></a></span>"
      ],
      "text/plain": [
       "{(x not-in A) or (x not-in B) or (x not-in C)} |- x not-in (A intersect B intersect C)"
      ]
     },
     "execution_count": 7,
     "metadata": {},
     "output_type": "execute_result"
    }
   ],
   "source": [
    "Intersect(A,B,C).nonmembership_object(x).conclude([Or(NotInSet(x,A), NotInSet(x,B),NotInSet(x,C))])"
   ]
  },
  {
   "cell_type": "code",
   "execution_count": 8,
   "metadata": {},
   "outputs": [],
   "source": [
    "%end demonstrations"
   ]
  },
  {
   "cell_type": "code",
   "execution_count": null,
   "metadata": {},
   "outputs": [],
   "source": []
  }
 ],
 "metadata": {
  "kernelspec": {
   "display_name": "Python 3",
   "language": "python",
   "name": "python3"
  }
 },
 "nbformat": 4,
 "nbformat_minor": 0
}