{
 "cells": [
  {
   "cell_type": "markdown",
   "metadata": {},
   "source": [
    "Theory of <a class=\"ProveItLink\" href=\"../../../../_theory_nbs_/theory.ipynb\">proveit</a>.<a class=\"ProveItLink\" href=\"../../../_theory_nbs_/theory.ipynb\">logic</a>.<a class=\"ProveItLink\" href=\"../../_theory_nbs_/theory.ipynb\">sets</a>.intersection\n",
    "========\n",
    "\n",
    "Intersection is an operation for building a set that includes elements if and only if they are contained in all of some number of sets.  For example, $A \\cap B \\cap C$ is the set that includes the elements that are members of $A$, $B$, and $C$ and no other elements."
   ]
  },
  {
   "cell_type": "code",
   "execution_count": 1,
   "metadata": {},
   "outputs": [
    {
     "data": {
      "text/html": [
       "<h3>Local content of this theory</h3>"
      ],
      "text/plain": [
       "<IPython.core.display.HTML object>"
      ]
     },
     "metadata": {},
     "output_type": "display_data"
    },
    {
     "data": {
      "text/html": [
       "<table><tr>\n",
       "<th><a class=\"ProveItLink\" href=\"common.ipynb\">common expressions</a></th>\n",
       "<th><a class=\"ProveItLink\" href=\"axioms.ipynb\">axioms</a></th>\n",
       "<th><a class=\"ProveItLink\" href=\"theorems.ipynb\">theorems</a></th>\n",
       "<th><a class=\"ProveItLink\" href=\"demonstrations.ipynb\">demonstrations</a></th>\n",
       "</tr></table>\n",
       "<h3>Sub-theories</h3>\n"
      ],
      "text/plain": [
       "<IPython.core.display.HTML object>"
      ]
     },
     "metadata": {},
     "output_type": "display_data"
    },
    {
     "data": {
      "text/html": [
       "<h3>All axioms contained within this theory</h3>"
      ],
      "text/plain": [
       "<IPython.core.display.HTML object>"
      ]
     },
     "metadata": {},
     "output_type": "display_data"
    },
    {
     "data": {
      "text/html": [
       "<dt><a class=\"ProveItLink\" href=\"axioms.ipynb#intersection_def\">proveit.logic.sets.intersection.intersection_def</a></dt><dd><a class=\"ProveItLink\" href=\"../__pv_it/axioms/bbac6a66e0cf05a4bfb9b31784209edb1c1eae0b0/expr.ipynb\"><img src=\"data:image/png;base64,iVBORw0KGgoAAAANSUhEUgAAAgYAAAAyBAMAAADVZQ4BAAAAMFBMVEX///8QEBCIiIhmZma6urrM\n",
       "zMxUVFQiIiJERETc3Nzu7u6qqqp2dnaYmJgyMjIAAAAcRTyBAAAAAXRSTlMAQObYZgAACD9JREFU\n",
       "aN7VW2tsU1Uc/6/r7btjHwBFIjbDTENM1mQICY9QMYoaHx0fBobENTw+gEaLJIKCpEaSdShZTYwM\n",
       "DO6KBnQarO6DYjBU0IQMIw2DiDFCE9QEEqHAgDEY89xzzm3vedxxSuPNOMn/Ps896/nd//m/fncA\n",
       "Su2+kRtQTfsJxloLJMj+yMgFxScmb9tezR8M5cYcBvAs2X2+7WvFByZU9/ca2dMd0k7+fLXT2ktF\n",
       "qYUL9KDFEQyC9awapqS9PiO7FyobWyuUjz0ZImrtXUcx+DjGnNbJf+YZsjtvvdZjs5j18mBFy+UC\n",
       "kcp+lTMYvM2e9st1M0p258vzc7en18UkXZ9Y177JPD45ZLlxgEpF2ukIBsEh9vx15uzE2rX41XmJ\n",
       "dnwxr6wlhzKgLZNY2A6A1ih99b3XrK+Wilrb4CAG3ihr+5LWs8XT6MFWsss3xRjN8GSF8bAevUj7\n",
       "uAasqyxGRK3tzziHwSl2/bvQ1AINK+djpQ2cNS9PJeqv7y+5B5+xKvyiAd1sbLrI8VPBYauGRIlU\n",
       "9G4cwWAde+pDk/wSfotsNE05aVvw9lNoiyBjjyfuxVeSwnjJ8s1ATLvI+Tvi8349Z7TTo3vHIccw\n",
       "0AY4+JF298ER/UkMSOnyeryNQXcUtOakIgZu8F+yWp4kEcVQ8aJjGNSy0QHUoAWrQ5oaJON14Tc3\n",
       "HuO1rPkVpANuVQxam2cMWuEuElFs5xzDoCYhYgBAVbirdHk8ea9QU6gAAzTUlNvHoCnjFAZteXEt\n",
       "gHaZAsKuBXTLW6+OQRDJauQojjdEG1YAeY48S+zBP6P/su68Uxg0ZUSb+L2rCNgp1kasNtGfJYGf\n",
       "KgYfkrjy2L0wUW9kbGIFGuoEBm/xIU4U3Nd9RZoirTcvH6Qxgu+agEHgJtp/VTA3pZs40ujM+Hcm\n",
       "YQDmGIjmiCg2X5JggFH7UwEDtY6Sdjd3jiYYWDptKh1q1yYaGy9AWdPIWQh2Xo0KevCacZYwN+bN\n",
       "QOdNHb4bWQOeiFaPwayLE1FN6YsEg8PG7qwCBmodJR7oEn+FjZWfbmdiZRMmQ7NJ4CiMmC/fpDod\n",
       "d6X8RTT33UBENX2+TDDoksdiIgZqHSXhwUVprGuXM5X8fAWtG2lCOJWrMGcyf1oL1CFVDGUVMFDr\n",
       "KMmYrgvLUJ47d5QziplXIpX8icdROu5/Sa8wdzZVtAXCfT09W1VsolpHO4VTr6FU0QxwfZkKHrhC\n",
       "/cJgOr1ByS8odRSb65pw6f+qpf1ORbkNUgxWWLWQsZocBnzHDtt3wQ4zBGO2TaEYPGq3hGo5DLiO\n",
       "4QF5osyn77VjGIO7KAZecHFKuGhOzDVRxIDr+Mmw1MzM4zXaUxy7GKymGITyXusc9jXng6k+mCVi\n",
       "wHaEvjXSBbQ7egdi4C+0Wqt7e3sgeLQWcqHmmc2zGQxIxwMPN+JATIukZaMu9KXuoLWw1swXOpaj\n",
       "xT134VQXmpzbeIvBJc9HcqIe4I4u/WUvXvEemIk2Oj9qopYPb0Jyv7DjVr9PmSxR8SfBDBEbmwi9\n",
       "6FeHH8nXrHIloA4/EO87LsPA6KjBv+TKH9AE2o88BuGsi1d9lzQ+CNhGnCbHokyW2MYVVvplJRW2\n",
       "TTQxGIdisu0PwLgYyrg+IRiEjMKkgME4HLyR1xo4/UunDl4egz1zDvGqL/oPg2Ops52hybGUnJBN\n",
       "T795cMZuJCv9socK2y6ZGISNiSxFh94sLEqn05Fg3J9PSjDAHbWihle5Dt1xEYNZ4L8M/T/0L/m5\n",
       "rIYDsnyh3zasLHEsZuBvUxiti4p5Btus9EsoQoRVyBtM/WACPAjdGlrlWA/gsYih9pL6QXeoEIIu\n",
       "HZ5BapHHGHTp/s14g3ZutDSH4ZtCTXZfWSOHZXmjnGcBK8dCyRKtXZfOcPEbtCyVsRmJoV8C9USk\n",
       "ORNVrCLShBMhCBk2PxyDcM6mhrLr2IE+aMn6BsHf+SbGoCWrTYKWjDZJmwydKei6mvfEd8N0TuGs\n",
       "Spy05VnAyrFQssQzX54/LW8g+612I7H0y19UxHTOxMCdQMvqgz6Ad4xqBuqbGLWOZKaPeC2Ucsmg\n",
       "eRV6IVnOMDfyRjJqy7MwHAslS/aANJEOFGi0YnAzOxvffyjCjcTRLwepiC5LqKW5kD24ZS3N9DJa\n",
       "02yryzG92S64H5aWNXQeiPVEG56F4VhoYfAwqd4IwViWJvJb0NRz4Ve9BW4kjn45SUUM326vnhiW\n",
       "n9j46VO6WFe24VkYjoUWUpLwkWxUL4rZzIJkSA8NuTPcSBz98i0Vpqaacqqm2sYVXgx+wYZnYTgW\n",
       "QhSEI+CRVQiP4kQWMC8RABqdWkbi6Zc2Kkz9KeIUBjKOxYZnYTgWggEyOVpCMiryCq0mBmboYh2J\n",
       "p19kGDjHsdQW5WtBwrMwHAsprPbKo6Bg1IyzcHG+Lc6PxNMvC6hYWzs4hYF7QG4TJTwLw7EQm3iG\n",
       "4iCJNYNRahODehNKZJiRBPpFZhOd41yBS7LpRwIynoXhWDBZgj2E4YIxz1ImWxbT9YAd3nPZTpqD\n",
       "rbcGIQz9YorVBzrHvfOOgZKCEp6F5VgwWeIxDIfLeL0Gz1ImW5YbZzhKQgq+q2Hn3Dwzkki//E1F\n",
       "NFSOYFCTu1WsbPIsVpgIWeLG56JjwDZVE2NlfiSTfgkYlB0XbDn5LQ7/TdaoORN5IgnKZEl41G9v\n",
       "TPpFljPRZMyZb/NOi6XnUWkAzLEokyUdo9006RdJ7hy8x0kM3otXUEOxIlVdDYUHigPL2W80efpQ\n",
       "qZamTJao1NLCGSLWZn756AwGMGMM1lPDqQoxqPLbfU9k7GFQ8bf71f4Px/QxB0FgFdkfGbnwH4MN\n",
       "h4a7q/OFAAAAAElFTkSuQmCC\n",
       "\" style=\"display:inline;vertical-align:middle;\" /></a></dd>"
      ],
      "text/plain": [
       "<IPython.core.display.HTML object>"
      ]
     },
     "metadata": {},
     "output_type": "display_data"
    },
    {
     "data": {
      "text/html": [
       "<dt><a class=\"ProveItLink\" href=\"axioms.ipynb#intersect_all_def\">proveit.logic.sets.intersection.intersect_all_def</a></dt><dd><a class=\"ProveItLink\" href=\"../__pv_it/axioms/143cb37173616ba75dccd025ff3608a2ba5b6a8e0/expr.ipynb\"><img src=\"data:image/png;base64,iVBORw0KGgoAAAANSUhEUgAAA9wAAABABAMAAAAaMmKLAAAAMFBMVEX///8QEBCIiIhmZma6urrM\n",
       "zMxUVFQiIiJERETc3Nzu7u6qqqp2dnaYmJgyMjIAAAAcRTyBAAAAAXRSTlMAQObYZgAADp9JREFU\n",
       "eNrtnQuMXFUZx795z9x57EIoEQoy7CZYK7gDqyICZQpJi4p0WgPWhLhjsRSIyCiFxRddGwMDaDvV\n",
       "CAXEvbTKYwU6Iqu2S7MDxcRAS8cUBLSlgyFGjNItfdgn63ndc+7jzH20287uXk8yszN3v/v83fud\n",
       "7/zP9+0C+LNtky595ITTJu4phU44QQWleLSbCY+OfjDR6aazxu/Bhhz3xD7LgApwpZVfjv6Mj44e\n",
       "dIP74NCzEx33703fZ6pSs8cmPu6g9fFeyjgODbnCPTLhXXdiivG7MgUmK274j9Vn5bVPU/2BO2by\n",
       "5dHi5MW9wuK4wqf4DPcrpu89lcmLW3Irz/AX7sRu04J/wOTFHTlgWb6m6ivc8T4T/v2TGDf83bI8\n",
       "1e4r3MMm3x1qTGbcf7YsV973Fe5/mi9L1g538qs7fzweeqC6F+u1And/3vLbzaqPcEcOmxb0F2xw\n",
       "J3bc1rnj1tYd7V9Gryvj2+1xT2tFKxx3oGb5bX/dR7ij5hPYDja4V6BrEl5SaN3h7kPHgKLrdz2t\n",
       "pDQ47qi1q8o0fIR7jXlocr4d7m/iaxZrb50vQh1tdA+kc95We4HjDlp5Bff7CPd2c2d2u/Fr+q7e\n",
       "Ozju5G7tmreoYTSx/RCreFvtEY47aR13KId8hHu5ecEu4+O0VNU93XHq95a1btSIHMtwH9zvcbVM\n",
       "XsMdkSjjb/sI9z7zAvLoKh03XIo9IDyt6p15jDrRzS072rYiJE8G6ERH2JmVSKK6tuo8SJyqja1z\n",
       "Gm7lsNVyc8E3uMOHzK6NXI8n4fUs8eE3GPpuFtdub9nh9tx01i4EBwXnqXA7dNmZ1maKjjrd0HCD\n",
       "pCOak/UN7pRZQk0Q3C+h0ehn8Ye+8YW7S4W3ELbvAjwUakAZIn1NR+bVGUIwTJY47kOSaLXPN7gz\n",
       "ZhGZdm4qupTk24ffQ2384P4B8ufoGE5CRxjIwvuR7lLTwRecCG1Z7aRGOO5dVlM20vAD7raSFLfm\n",
       "9BLH5el2iLMj4uNegP4iwQ1z1MgeCJeakzkAPQVXuKP7fYO7v0/qzAFdStLaXeG+ZuN6R+klsvHl\n",
       "18RlY+OqizYgCCmHNZN8rIglwOEcceYwA4LtdriRsz+T7447c0XizIOHfYN72CxY0BmDdSjKmY4/\n",
       "nOcGdzgHw457ugyS4lrF6a31DkRONYSD8nYBB4Nuws1ZBYdqcCfEi3a40W/vhC2vdeQMoVpCEpmn\n",
       "D/kGd1fWvASfe/hgfITOQsSq9riV57rrEFMZvybt1xsuBviOPu6j5iuQF/8URGpOB/kojzTQ1R7O\n",
       "PgQbAK84p05wr0EsFZwfSt74t1AxfBhePR1wtkqoZjfuDu9luImqsM0Jt7PV+G2XVM1LTsYXbsH0\n",
       "TnpCyvWfs8X9xtoBFABUIGmzj/S9D6JLjTrIqgn39wHPSEYd+4EM69xDO/bWIbU0C7PxPdBxSYXg\n",
       "jqEbCW4D9hZDXTv0qvgcOvcnVpUAx6KZgoY7vFsSxH/AcL+Mf/zLCbez1fhtN+fNS0ySWfhPOhGV\n",
       "4760iJ9WLW83c1pecmXOwk89deNEu3pR72mJa8aBQRfEgG/O0MTCoHm6k4qoM2inDOusvb3Keu9o\n",
       "NtxOD53hTh+QXISdDPdKU3Aqx+1sNX7bDktU/HwzUz3u2oFIO9yIQFMXcO7OPERNEleqTZ1LPxHv\n",
       "B6vPOMmEO1MkzO4HvjmjToIXUnpFs7/IQbSh7Ga4rZ0BDv6+AWvyECiEagX9FElKNr1zBsOdwXFj\n",
       "1Qm3s9X4bWeoluBNdcad+GUp2HcNirJWs9/dV4o8b1rvwdkwjd4MLBpMLDLhxiNoOA0uB745g4vF\n",
       "C9lFtjxLd0OsHs9S/USxhB+wivQUS9HAA2KfL+gnQDPFphdhKqRfGhi43zFUc7Yav23UqjHVXTzd\n",
       "oVo0i13tl8rlclZBF3RE89yiXQQL6Ojp9nJ5KfwKbdmEO4A4pdthFvDNGUdSeCHdQsN8LI9DuOOT\n",
       "6JY4f28W0tZDxadwaSd6rGdBcBPam0hvkJ7dkgqLzPeVy99zjswdrSYS7njRBe5YPlDAfKLE11Yh\n",
       "UrTiXgxT0hduQ2uQDQ4BXA1b1m/V4Y4Wn6quyMN84JszdtBoIV0hbDkkb8lLbwLHPVyxw70Q+w1r\n",
       "qxlxN7FqXXOQqQp2uNPtzXGn6JpfhFhhDhlakQWhPnhcJbhXqol7tDe4NTySnAbI2/4Rr/NpUO6B\n",
       "Z/piOtzKlOzf3qEzbWxzYgPoB15IV0jXxuCaUNwzpAFMgeG+jPp9c8sZcTMrqbZkEJOoioTWWn7t\n",
       "9YYeJz9GnN3JVM/a4VYONsctTnvBMsrnXoz7pxs/AwT33GrkFJhbwW9VmDWtAQvxHEYcxzUX4COL\n",
       "FubrB2Krf3QdujPRinxzfAORqWQhXSGUHzPcUi1luYY7ZhwERG55Ec4sWnBTK7m2pBeTmIpERptg\n",
       "cP8kFomWy3cd3Sm5lKlC/OlXdlp/+3EXuJ/AwhbmE0R9N/O9+HKKgLWqVOJ1KAVfRZ+nlVnhXQzO\n",
       "yetwI/+OvHKwKjYnNpAkC+kKGRgr3EGp61qeZ7hT9ZhBG/pDSg2pFtzUSq4t6cUkqiIBkYRgkQU3\n",
       "sL7wyJtLmUrUOctwBwrOuL8ebsC8XfrRSKTrQsSI30fJSrR2JdpRcpNRHnuubsDd/7aKT55vTmxg\n",
       "LVlIV1g/ZrgDdVvcicbVBm1ofTaXgg3dt3RX9biplVxb0otJVEXC7VsAJx4D3G5lKp7IqYxKRLCG\n",
       "M+4vbJTrZ7pP4a02d52GO74Yb0xsLq0LrvlCJTdmuOWei+OGu7+GjuHieZ1MGxoc/EnK2ncTK7m2\n",
       "pBeTmIqET2APrMY+MNU5b+EY4nYtU51j03fzkmc73EfbQgYNzCGyDKpjhTtxCtiGavBbFFmmZ9YD\n",
       "FaoNDaaeukaCG1vJtSW9mMRUJLzW+51kx9OjjcUCd7C7+1zT2vPO/pjDWegtXMtUv7PF/VjhmONu\n",
       "QcO4H6s64MYJEQ9+BNpU6lEGobZBgpulTUi0Jb2YxFQk/FQ3aDp3IVPXO/OBAVN1RKLmFHYZLFzL\n",
       "VJfb4k58W7qrNeWlExd2sLxcJTlusraE405jfAtgJtOGBuHhmAQ3tpJrS3oxialIuMuqsVmltkrT\n",
       "vntLdw6SWbshmsXCtUz1FRsRFbWfSXcXuerLExd34qqrEKImF5PLLLRNgYsiVBsahPA8g04h5rvl\n",
       "2pJeTGIqEqZcBeq2e9imBO5nsiiMuVFTNJZ9FMz9AzEgLoJbaM21TDVLnKldv7iotwKTrs3utYSQ\n",
       "2hQJuzNGYPEg1YbQKHKrVUSlz46mLQlhCb0JMWmlylSklSr0qLAo8sA9iZFXmEAncD+buxqwG15F\n",
       "d/1Wwdw/YAPSuIUYYFlkKsOxCJlqq0lhaNJKMBlboihXkjXc4SKcXSfaUPiOvCl41uHWtKXIVCYs\n",
       "VdAnISbNrTIVaW41teQGmN8RmarcdMXZqklmCVXPIaAu70au+gE8hjY5DGxAnlFuQZVpqUxlOBYh\n",
       "U32Cb+2S6v9xK/8FieA2TRaqmJOXMBsx+k7qxaQqU5H4ODxpHXfj2dR3Cagn8ZdtECyQOwj3H+St\n",
       "QAzIM8otqDItl6n0xyJkKjGy7qqPZ9wP23PzXOS9Voo7sg+a6qv2uIm2tNawC01MIqNLrCLxYeZa\n",
       "Ge50RzudfMCd/KaNL5I7aIWaKKHxVaKUOJUYkGdUWCwU2fVmmUp/LFymSorrNFyzxU3ky3S9RbSV\n",
       "PuniIy/yJoXeFtzJXUeKmwlC1k9MMMIqUlryW3FeDydr9LnEcbfmMMQzWiUG9BnlFlSZlspUdZlM\n",
       "tVrsuKdoi5tkbWTUFuHONIkUj7jIm8xkWXAf/8RjMbL7eQeAMaY24cYGXHumJ2JSph1lquniY1vD\n",
       "FjfJyVrZKl++Rb74KIq8X5DhDu053rhNSpl+8oH0D8esxUbs+26ccflyq3Ab5Z43envpvXkURd6P\n",
       "yHBnRlqL+zg2dmc3xb11YOCJVkVsCcOO53OfdBRF3vhlwc0Kp/yAO3nYHncbGhzWxnifbnNtgjld\n",
       "obkiMrs9FHnrDXCRN35ZcPfkfINb2Wv8nnqPtJyGO1qgiX2G5qYkzGDDxEuPuTbxuq7QPCqOwlzk\n",
       "3bzq11AFjid28cuCu6vqG9zQa/90h3PwtOWcXZSEGW0oD6+5NrhgiRea6zJHTEXeNlW/rAqcObIS\n",
       "fVlw3wz+wb25Yi+zlHST4+5KwiQ2FLfXXJtAXhSaw1zsdGioZirytqsLpAYs5h2hLwvuD/kId3/W\n",
       "Hvcmg7bmpiRMYkNxe821CZA+gNHSjQY9FHlTA3vc4cM+wp0pyfruIsf9i0gR3JSE8VQZmQ3B7TnX\n",
       "hlSfarQCYmTqocibGNBsJGIWljjz6AEf4U7vsX+64/flwU1JGE+V0dkYcXvOtcGhGi80D3Ev5KXI\n",
       "mxjQbKSmoVpbzke4ZX+bRo87eT6Ai5IwkSojbEy4PefaoFGTKDQnDzNXRSxF3sbabvyBvmEDko1E\n",
       "i7zxy4x7e8FPuJ9XbXGTvtNFSRhPldHZGHGjqMlbrg3CKArN4dEf0j3Ki7xJSTep7eZF3qTumxjg\n",
       "bCRa5I1fZtzsLw35BHegZo/7rwBuSsJ4qoywEfPwBLf3XBujiHrFXUxE1VYwFHknrXftOtZ702wk\n",
       "klpJ/mqzEXd4j69wSwvcdbjJlZWWhMlTZYSNmIcnuL3n2myxP3CtyBsPpmXiTQ2oAc1GajZFksn5\n",
       "Cjf82xm3vCSsSaqMsOHz8KxX95prE7eXW1mRN6n6ZalchvE7WkoMaDZSswnQ36j+wt1TccTdpCRM\n",
       "niojbPg8vKZyesy1UfpsD5wVedNmTcHAeQU6A3zvxCXpDaeDv3CnS464m5SESVNl9PKYNg+vYfOa\n",
       "azOWyUtvspcJt/hXUz7BDdc64m5SEiZNlZE1DbfXXJtj0oy4XwdPuCfBv3zNNMtG7R2rPHND3omH\n",
       "XJtj0Wb36nFrVWMu/+WrMjTx/+WrUgDftgS798JDQ+v+BypRc/mGE4s7AAAAAElFTkSuQmCC\n",
       "\" style=\"display:inline;vertical-align:middle;\" /></a></dd>"
      ],
      "text/plain": [
       "<IPython.core.display.HTML object>"
      ]
     },
     "metadata": {},
     "output_type": "display_data"
    }
   ],
   "source": [
    "import proveit\n",
    "%theory"
   ]
  },
  {
   "cell_type": "code",
   "execution_count": null,
   "metadata": {},
   "outputs": [],
   "source": []
  }
 ],
 "metadata": {
  "kernelspec": {
   "display_name": "Python 3",
   "language": "python",
   "name": "python3"
  }
 },
 "nbformat": 4,
 "nbformat_minor": 0
}