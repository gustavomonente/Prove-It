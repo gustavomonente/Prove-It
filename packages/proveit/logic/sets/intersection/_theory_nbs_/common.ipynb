{
 "cells": [
  {
   "cell_type": "markdown",
   "metadata": {},
   "source": [
    "Common expressions for the theory of <a class=\"ProveItLink\" href=\"theory.ipynb\">proveit.logic.sets.intersection</a>\n",
    "========"
   ]
  },
  {
   "cell_type": "code",
   "execution_count": 1,
   "metadata": {},
   "outputs": [
    {
     "name": "stdout",
     "output_type": "stream",
     "text": [
      "Defining common sub-expressions for theory 'proveit.logic.sets.intersection'\n",
      "Subsequent end-of-cell assignments will define common sub-expressions\n",
      "%end_common will finalize the definitions\n"
     ]
    }
   ],
   "source": [
    "import proveit\n",
    "# Prepare this notebook for defining the common expressions of a theory:\n",
    "%common_expressions_notebook # Keep this at the top following 'import proveit'.\n",
    "from proveit import Lambda, ExprRange, IndexedVar\n",
    "from proveit.logic import And, Or, InSet, NotInSet, Intersect\n",
    "from proveit import A, x, i, n\n",
    "from proveit.numbers import one\n",
    "%begin common"
   ]
  },
  {
   "cell_type": "code",
   "execution_count": 2,
   "metadata": {},
   "outputs": [
    {
     "data": {
      "text/html": [
       "<strong id=\"intersected_as\">intersected_as:</strong> <a class=\"ProveItLink\" href=\"../__pv_it/common/172d0d80e63b7acb23c9d3db72be6b5ae53cd7970/common_expr.ipynb\"><img src=\"data:image/png;base64,iVBORw0KGgoAAAANSUhEUgAAAHkAAAARBAMAAAALcx5NAAAAMFBMVEX///92dnYiIiIQEBBERERU\n",
       "VFS6urqIiIjc3NxmZmaqqqru7u6YmJgyMjLMzMwAAADiRdoGAAAAAXRSTlMAQObYZgAAAUtJREFU\n",
       "OMtjYACBtwwkAb4LKNz7SGzuDdi17EYweT8gS/DcR+hIUXFyw6KXzclFJQHGOfsbWWrX/AYYk9GD\n",
       "geHpBEzdIg0MfJEw1638gSx1oB5u7EkQEYWhmQdkIOsCKIf9G7KrNqw/AGN7g4gWDN0sIK9xOEA4\n",
       "2Vx/kKS2MbwvAAYkWE4BRDBh6IaIKEAcnsD3HUkqgaF/AgPfTAUidbMxcPxEir3ImfFAe9mI1f10\n",
       "5tQvSN5mYGC+QIJuYAjbImSAIclkQLxuLiBWBkbOuXJQPHAsgCQeYnV3QdLmMRsGCyCrCRQhPzB0\n",
       "c/8FEvsvQBkI3Rwgwr+BY7sCAzDFbfl/m4HL/9MEDLtVQYwAGAOmm9v/7waGJf81GVgL2AyQ0wxY\n",
       "IzjZ8GCmNQa4JBQwP+AUeIDgcimQlEv7GZiyELo5Jn0tIEV3KgO7DAMATjlNCMsQpEEAAAAASUVO\n",
       "RK5CYII=\n",
       "\" style=\"display:inline;vertical-align:middle;\" /></a><br>"
      ],
      "text/plain": [
       "intersected_as: A_{1} intersect ..A_{i}.. intersect A_{n}"
      ]
     },
     "execution_count": 2,
     "metadata": {},
     "output_type": "execute_result"
    }
   ],
   "source": [
    "intersected_as = Intersect(ExprRange(i, IndexedVar(A, i), one, n))"
   ]
  },
  {
   "cell_type": "code",
   "execution_count": 3,
   "metadata": {},
   "outputs": [
    {
     "data": {
      "text/html": [
       "<strong id=\"x_in_each_A\">x_in_each_A:</strong> <a class=\"ProveItLink\" href=\"../__pv_it/common/0e8f6b6484600df70595a3c5633812be2fa2af720/common_expr.ipynb\"><img src=\"data:image/png;base64,iVBORw0KGgoAAAANSUhEUgAAAMwAAAAUBAMAAAAzYc+DAAAAMFBMVEX////MzMxUVFR2dna6uroQ\n",
       "EBCqqqqIiIgiIiJmZmYyMjJERETu7u6YmJjc3NwAAACgK8IjAAAAAXRSTlMAQObYZgAAAfdJREFU\n",
       "SMdjYOC7wIAfsD3AK01QP8SA07hkGRdAGXp4DSGsH2zAOlzKuD5AGafwWkNYP8gA3gm4lN36A2Uw\n",
       "F+CxhQj9IAM4UEL+dkcHzKs8mf9grAA81hChH2TAC2RV0jVIzmT/AmMuwWMNMfqBBlQCyeNFT4pB\n",
       "AcOzBkmLD9tfGNMSjzXE6AcasBcoa8DbzgHyKxNSAPA4MH4HuQ8cynisIaAfGk0MbcAYOsD8hwWk\n",
       "ghtJOwsD308GBskZIHYGHmvw64eCDIYQoMUM3BvAPNFVQACNQqGZk34DKQ8QWx6PNQT0Q4A8SBkD\n",
       "Az8kyb5G0u7AwBBFpDX49MOsaQNTAmAeK1IBAcStMGs88AcaHv03L5ZPABsAjEK2A/UM7AeAPE5E\n",
       "PnwGxOthNhBIAnj0X4lliAMbAEys/gn7Gd4inAYuDxuAxP4HUGsmA/H5BVCC5xcyA79+vuMNDH/A\n",
       "BgDNOVR+fC6kmD205QAkNe7/dYAh+38n1JqFoNzeAyIUgEQTjNFxAOJdPPqZClgCwAagFhbOO+CF\n",
       "BQSArOEBOY0hB7OAP4BR2KDrZxXgNBAAGYC76GOAZRlI0WmAIceMv+gEgfcMHG4CYAP24VP2sl8d\n",
       "WhHwYBbTx8EkXv1ODOy2EANOE6r8IAbxYopfwF+toRpAsJLlpbSSBhoAAGYZsiCTxI50AAAAAElF\n",
       "TkSuQmCC\n",
       "\" style=\"display:inline;vertical-align:middle;\" /></a><br>"
      ],
      "text/plain": [
       "x_in_each_A: (x in A_{1}), ..(x in A_{i}).., (x in A_{n})"
      ]
     },
     "execution_count": 3,
     "metadata": {},
     "output_type": "execute_result"
    }
   ],
   "source": [
    "x_in_each_A = ExprRange(i, InSet(x, IndexedVar(A, i)), one, n)"
   ]
  },
  {
   "cell_type": "code",
   "execution_count": 4,
   "metadata": {},
   "outputs": [
    {
     "data": {
      "text/html": [
       "<strong id=\"x_in_each_A_conjunction\">x_in_each_A_conjunction:</strong> <a class=\"ProveItLink\" href=\"../__pv_it/common/20e8f84e4872f7100d73eeca3fc0641aabc852990/common_expr.ipynb\"><img src=\"data:image/png;base64,iVBORw0KGgoAAAANSUhEUgAAAOEAAAAUBAMAAACJwkfjAAAAMFBMVEX////MzMxUVFR2dna6uroQ\n",
       "EBCqqqqIiIgiIiJmZmYyMjJERETu7u6YmJjc3NwAAACgK8IjAAAAAXRSTlMAQObYZgAAAtZJREFU\n",
       "SMetVk1oE0EU/jbZJNtkdxsEEewhEYQiQu3JIgoGpNSDaARPnuJNQXSxh1goNIjEUEQCPWgPxRW8\n",
       "KKX1IBgQ26X+VNKDuWkrSg8exB+MHqyIqPO3m+xms1vQCcybvHn7fbNvvnmzgN5AcIuvY5Ptc2jE\n",
       "OdqtdJ3eLuzAJgnVe2FIiNDVz3VFmBe2LqzeJc7OQXI9DAmqCWjVbmHavMUHUUMgdgm9I+xqKBIw\n",
       "BCiuhWm1yqQ9fnZTTKl5bvuu+uJJNYF3zeV+XamYXiTgKfDe9fADq/WnMZETo9vc7Cz6MkZGeA70\n",
       "Uru3b9wPCckcxohZvvBulD1VbyOUrfO2iveJPVB8GevgVAmSdLU4MDLEgmd9kRCt4hGZHdSuKKZX\n",
       "lU+QIauQqP7WeHAhWvBj3Et+tKUI7GO8MiYdUbqQxLaZKBMoK/pLZhHt8s7hSxXSNF3/aeZQoJt+\n",
       "jCV84PNkPQdw0DrK6L1I9uEu4QR5R6Q4lXTyLmliS3dN7yFemTJmmOclsMNPiAYiaTqIkc2y8JB7\n",
       "t1Iksx1JwDYpI9Ar9r7tHWUCYboYiVK3+DAqFqSszQhscO/HDiSHsUxtJs3/51txJEVKXjAeZvmo\n",
       "+p/xM3YVoVmF9JV7Y14kbWYbFSnBI8qJWxNIMJVed8J0EpdsCsY1u6LEfWrAnGBlyjmbaIIdix7D\n",
       "g6QNN2LrTDlE+ccKi6IIK44Y6TFN/RaMU+yAicxC/Um6F6YYMDErFhe+/D3VFDdD2YP06SJ6SVTP\n",
       "IM3YUnF5hoepu4/wsJU/s4gv/qhyxlvs/NOO1YBLlCMrBhG6ewmDJ0ztHx97wxGW7ltupH4M00yl\n",
       "PVVO3t+qctxBGNUS1zh9o46kyqxPd1a5Q7WK6zAdxxR5+nlQJbfPj1PJw9pq0KTexOVTrJJjITDu\n",
       "xjfDua3CWiro6pazGG2w2yrgRrbbwj/fyO5FhX51aP/xq+Mt8BdF/sXlSx80pQAAAABJRU5ErkJg\n",
       "gg==\n",
       "\" style=\"display:inline;vertical-align:middle;\" /></a><br>"
      ],
      "text/plain": [
       "x_in_each_A_conjunction: (x in A_{1}) and ..(x in A_{i}).. and (x in A_{n})"
      ]
     },
     "execution_count": 4,
     "metadata": {},
     "output_type": "execute_result"
    }
   ],
   "source": [
    "x_in_each_A_conjunction = And(ExprRange(i, InSet(x, IndexedVar(A, i)), one, n))"
   ]
  },
  {
   "cell_type": "code",
   "execution_count": 5,
   "metadata": {},
   "outputs": [
    {
     "data": {
      "text/html": [
       "<strong id=\"x_not_in_any_A\">x_not_in_any_A:</strong> <a class=\"ProveItLink\" href=\"../__pv_it/common/721395fc6c1361287758ebe9e289274d3bace7d60/common_expr.ipynb\"><img src=\"data:image/png;base64,iVBORw0KGgoAAAANSUhEUgAAAOEAAAAVCAMAAACHbnlHAAAAQlBMVEX///9jY2MJCQkNDQ0rKysP\n",
       "Dw8WFhbMzMxUVFR2dna6uroQEBCqqqqIiIgiIiJmZmYyMjJERETu7u6YmJjc3NwAAABtKQr7AAAA\n",
       "AXRSTlMAQObYZgAAAnlJREFUWMPNmOuynCAMgDk9PQWRa4D3f9WCihoEF9ydTvmxg27ALyE3JeTl\n",
       "oOQ/HGNQ3t3+rV7vIPzHVXgf6sACe28tVrtp8DX7tIoPoEqmA8vc02leuWlCAWSqDkTH/O00fQBV\n",
       "Mu1YTpNhf3AmAL4zycNwO6iTHRpWxR9AXZkylrqxlrPqz4+6nD4IHYpVMFc8SEHPGdbEx6EqTBuW\n",
       "b8cstRKIrTzLERlKNzH84mFcd4VcRfwBVI1pxZLbviAl81yevA0M4ADLgwMRoUx108EntqntSz8V\n",
       "8XGoKtOKZdfbMEUzKElOp78kInkNJYimokFmk+5hUEYJtZ158yo+DIWYcHQSJVZdo2mmGKr8MOTy\n",
       "RHMNpeQLPixWplpnfxInx1oJGO/U8Co+DHViKhxEkXndOK2xyOh0Nsb8/o4/psgMWmsWNlmeFaOn\n",
       "XA2K1P27Ufsu4qNQmAn9E/JmaeBT9kl+EtUjjAzmRkOiRXVps7qV4qNQmKnQUInjAhfouVp3NnE1\n",
       "Fxrys6g3nX1VQ3wQCjE57ajMqSphbUEtIGbbFBOHi2tZyfde4AZiV8whA1raVe1b4mNQmMnxOa6e\n",
       "/Y61ZnkeBLGh6HeVYGXbtRcqu5XXXUM94cBA1R6CaU1q4mNQmMmDTNe5v4lYKyIwKUFqhyoKsF8c\n",
       "cDscwpLHRJwojTQ0+LkGG1qx5qQmPgB1ZWLRHfh8wrppkNzXZJVSd0kxawhFcHggI6MUfwdqpsvR\n",
       "0R3rpsntaEpyGZwk+eR4A8qnaFRc0AOruQReNiVeq5CcYqD49eaex1A8ub+c3OmlrrlGuveBPv4G\n",
       "PAB1YLU+GNh+p/p3XzHsiK8nrL8VkCmLyW6X6wAAAABJRU5ErkJggg==\n",
       "\" style=\"display:inline;vertical-align:middle;\" /></a><br>"
      ],
      "text/plain": [
       "x_not_in_any_A: (x not-in A_{1}) or ..(x not-in A_{i}).. or (x not-in A_{n})"
      ]
     },
     "execution_count": 5,
     "metadata": {},
     "output_type": "execute_result"
    }
   ],
   "source": [
    "x_not_in_any_A = Or(ExprRange(i, NotInSet(x, IndexedVar(A, i)), one, n))"
   ]
  },
  {
   "cell_type": "code",
   "execution_count": 6,
   "metadata": {},
   "outputs": [
    {
     "name": "stdout",
     "output_type": "stream",
     "text": [
      "These common expressions may now be imported from the theory package: proveit.logic.sets.intersection\n"
     ]
    }
   ],
   "source": [
    "%end common"
   ]
  },
  {
   "cell_type": "code",
   "execution_count": null,
   "metadata": {},
   "outputs": [],
   "source": []
  }
 ],
 "metadata": {
  "kernelspec": {
   "display_name": "Python 3",
   "language": "python",
   "name": "python3"
  }
 },
 "nbformat": 4,
 "nbformat_minor": 0
}