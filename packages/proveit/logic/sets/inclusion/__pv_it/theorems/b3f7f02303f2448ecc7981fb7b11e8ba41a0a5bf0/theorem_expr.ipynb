{
 "cells": [
  {
   "cell_type": "markdown",
   "metadata": {},
   "source": [
    "Theorem <a class=\"ProveItLink\" href=\"../../../_theorems_.ipynb#unfold_subset_eq_contrapositive\">unfold_subset_eq_contrapositive</a> of type <a class=\"ProveItLink\" href=\"../../../../../../../../doc/html/api/proveit.logic.Forall.html\">Forall</a>\n",
    "=======================\n",
    "# from the theory of <a class=\"ProveItLink\" href=\"../../../_theory_nbs_/theory.ipynb\">proveit.logic.sets.inclusion</a>\n",
    "*** see <a class=\"ProveItLink\" href=\"dependencies.ipynb\">dependencies</a> ***"
   ]
  },
  {
   "cell_type": "code",
   "execution_count": 1,
   "metadata": {},
   "outputs": [],
   "source": [
    "import proveit\n",
    "# Automation is not needed when only building an expression:\n",
    "proveit.defaults.automation = False # This will speed things up.\n",
    "proveit.defaults.inline_pngs = False # Makes files smaller.\n",
    "%load_theorem_expr # Load the stored theorem expression as 'stored_expr'\n",
    "# import the special expression\n",
    "from proveit.logic.sets.inclusion import unfold_subset_eq_contrapositive"
   ]
  },
  {
   "cell_type": "code",
   "execution_count": 2,
   "metadata": {},
   "outputs": [
    {
     "name": "stdout",
     "output_type": "stream",
     "text": [
      "Passed sanity check: unfold_subset_eq_contrapositive matches stored_expr\n"
     ]
    }
   ],
   "source": [
    "# check that the built expression is the same as the stored expression\n",
    "assert unfold_subset_eq_contrapositive.expr == stored_expr\n",
    "assert unfold_subset_eq_contrapositive.expr._style_id == stored_expr._style_id\n",
    "print(\"Passed sanity check: unfold_subset_eq_contrapositive matches stored_expr\")"
   ]
  },
  {
   "cell_type": "code",
   "execution_count": 3,
   "metadata": {},
   "outputs": [
    {
     "name": "stdout",
     "output_type": "stream",
     "text": [
      "\\vdash \\forall_{A, B~|~A \\subseteq B}~\\left[\\forall_{x~|~x \\notin B}~\\left(x \\notin A\\right)\\right]\n"
     ]
    }
   ],
   "source": [
    "# Show the LaTeX representation of the expression for convenience if you need it.\n",
    "print(unfold_subset_eq_contrapositive.latex())"
   ]
  },
  {
   "cell_type": "code",
   "execution_count": 4,
   "metadata": {},
   "outputs": [
    {
     "data": {
      "text/html": [
       "<table><tr><th>&nbsp;</th><th>core type</th><th>sub-expressions</th><th>expression</th></tr>\n",
       "<tr><td>0</td><td>Operation</td><td>operator:&nbsp;5<br>operand:&nbsp;1<br></td><td><a class=\"ProveItLink\" href=\"../ca24a0855b00bdf4015483f04b065963b32233360/expr.ipynb\"><img src=\"../ca24a0855b00bdf4015483f04b065963b32233360/expr.png\" style=\"display:inline;vertical-align:middle;\" /></a></td></tr>\n",
       "<tr><td>1</td><td>Lambda</td><td>parameters:&nbsp;8<br>body:&nbsp;2<br></td><td><a class=\"ProveItLink\" href=\"../5b86b2fad8bee6ef11231580524a40a913198d310/expr.ipynb\"><img src=\"../5b86b2fad8bee6ef11231580524a40a913198d310/expr.png\" style=\"display:inline;vertical-align:middle;\" /></a></td></tr>\n",
       "<tr><td>2</td><td>Conditional</td><td>value:&nbsp;3<br>condition:&nbsp;4<br></td><td><a class=\"ProveItLink\" href=\"../812370902f45aaa905f1b3eecd7a14e3f96de6920/expr.ipynb\"><img src=\"../812370902f45aaa905f1b3eecd7a14e3f96de6920/expr.png\" style=\"display:inline;vertical-align:middle;\" /></a></td></tr>\n",
       "<tr><td>3</td><td>Operation</td><td>operator:&nbsp;5<br>operand:&nbsp;6<br></td><td><a class=\"ProveItLink\" href=\"../bb4420fe263aa23dd60df03e7df6a5b69eb2753b0/expr.ipynb\"><img src=\"../bb4420fe263aa23dd60df03e7df6a5b69eb2753b0/expr.png\" style=\"display:inline;vertical-align:middle;\" /></a></td></tr>\n",
       "<tr><td>4</td><td>Operation</td><td>operator:&nbsp;7<br>operands:&nbsp;8<br></td><td><a class=\"ProveItLink\" href=\"../288bdfb6b256f35e627359603e28f6025e9822ce0/expr.ipynb\"><img src=\"../288bdfb6b256f35e627359603e28f6025e9822ce0/expr.png\" style=\"display:inline;vertical-align:middle;\" /></a></td></tr>\n",
       "<tr><td>5</td><td>Literal</td><td></td><td><a class=\"ProveItLink\" href=\"../../../../../booleans/quantification/universality/__pv_it/common/083d2baa0b8ecab1d230f9ec29a15aa1355809fb0/expr.ipynb\"><img src=\"../../../../../booleans/quantification/universality/__pv_it/common/083d2baa0b8ecab1d230f9ec29a15aa1355809fb0/expr.png\" style=\"display:inline;vertical-align:middle;\" /></a></td></tr>\n",
       "<tr><td>6</td><td>Lambda</td><td>parameter:&nbsp;16<br>body:&nbsp;9<br></td><td><a class=\"ProveItLink\" href=\"../4f7124465b21d873e25056e928f68abe6a917b310/expr.ipynb\"><img src=\"../4f7124465b21d873e25056e928f68abe6a917b310/expr.png\" style=\"display:inline;vertical-align:middle;\" /></a></td></tr>\n",
       "<tr><td>7</td><td>Literal</td><td></td><td><a class=\"ProveItLink\" href=\"../../common/eca8e8ce8b5c9b5f2fd72b64773d376f3904e9670/expr.ipynb\"><img src=\"../../common/eca8e8ce8b5c9b5f2fd72b64773d376f3904e9670/expr.png\" style=\"display:inline;vertical-align:middle;\" /></a></td></tr>\n",
       "<tr><td>8</td><td>ExprTuple</td><td>15, 17</td><td><a class=\"ProveItLink\" href=\"../8168c562b942d2349bc15878d637d47dc90786870/expr.ipynb\"><img src=\"../8168c562b942d2349bc15878d637d47dc90786870/expr.png\" style=\"display:inline;vertical-align:middle;\" /></a></td></tr>\n",
       "<tr><td>9</td><td>Conditional</td><td>value:&nbsp;10<br>condition:&nbsp;11<br></td><td><a class=\"ProveItLink\" href=\"../a13d550ae084d712b60b87eabff89516555080bd0/expr.ipynb\"><img src=\"../a13d550ae084d712b60b87eabff89516555080bd0/expr.png\" style=\"display:inline;vertical-align:middle;\" /></a></td></tr>\n",
       "<tr><td>10</td><td>Operation</td><td>operator:&nbsp;13<br>operands:&nbsp;12<br></td><td><a class=\"ProveItLink\" href=\"../14af0b795874283e9f258f4add89acb0314df8180/expr.ipynb\"><img src=\"../14af0b795874283e9f258f4add89acb0314df8180/expr.png\" style=\"display:inline;vertical-align:middle;\" /></a></td></tr>\n",
       "<tr><td>11</td><td>Operation</td><td>operator:&nbsp;13<br>operands:&nbsp;14<br></td><td><a class=\"ProveItLink\" href=\"../e7d07b10f59500b34e680ad0b4fb913400382b220/expr.ipynb\"><img src=\"../e7d07b10f59500b34e680ad0b4fb913400382b220/expr.png\" style=\"display:inline;vertical-align:middle;\" /></a></td></tr>\n",
       "<tr><td>12</td><td>ExprTuple</td><td>16, 15</td><td><a class=\"ProveItLink\" href=\"../a405a77dbeea8864e50edaaa88f32dfdf3d842450/expr.ipynb\"><img src=\"../a405a77dbeea8864e50edaaa88f32dfdf3d842450/expr.png\" style=\"display:inline;vertical-align:middle;\" /></a></td></tr>\n",
       "<tr><td>13</td><td>Literal</td><td></td><td><a class=\"ProveItLink\" href=\"../../../../membership/__pv_it/common/f4affea88ec78899b0259567586c16d1e6a484950/expr.ipynb\"><img src=\"../../../../membership/__pv_it/common/f4affea88ec78899b0259567586c16d1e6a484950/expr.png\" style=\"display:inline;vertical-align:middle;\" /></a></td></tr>\n",
       "<tr><td>14</td><td>ExprTuple</td><td>16, 17</td><td><a class=\"ProveItLink\" href=\"../a56eb9709f0ce57c88c03ee6fb7ab0db76caf6450/expr.ipynb\"><img src=\"../a56eb9709f0ce57c88c03ee6fb7ab0db76caf6450/expr.png\" style=\"display:inline;vertical-align:middle;\" /></a></td></tr>\n",
       "<tr><td>15</td><td>Variable</td><td></td><td><a class=\"ProveItLink\" href=\"../../../../../../__pv_it/common/09585084922504426caf1db2ff588a23a0932a960/expr.ipynb\"><img src=\"../../../../../../__pv_it/common/09585084922504426caf1db2ff588a23a0932a960/expr.png\" style=\"display:inline;vertical-align:middle;\" /></a></td></tr>\n",
       "<tr><td>16</td><td>Variable</td><td></td><td><a class=\"ProveItLink\" href=\"../../../../../../__pv_it/common/a0d9d672aa5e272d907247690c152cc2c6daafb70/expr.ipynb\"><img src=\"../../../../../../__pv_it/common/a0d9d672aa5e272d907247690c152cc2c6daafb70/expr.png\" style=\"display:inline;vertical-align:middle;\" /></a></td></tr>\n",
       "<tr><td>17</td><td>Variable</td><td></td><td><a class=\"ProveItLink\" href=\"../../../../../../__pv_it/common/a9162d1c3cc0470c02e5daf414500903a7a419230/expr.ipynb\"><img src=\"../../../../../../__pv_it/common/a9162d1c3cc0470c02e5daf414500903a7a419230/expr.png\" style=\"display:inline;vertical-align:middle;\" /></a></td></tr>\n",
       "</table>\n"
      ],
      "text/plain": [
       "0. forall_{A, B | A subseteq B} [forall_{x | x not-in B} (x not-in A)]\n",
       "   core type: Operation\n",
       "   operator: 5\n",
       "   operand: 1\n",
       "1. (A, B) -> {forall_{x | x not-in B} (x not-in A) if A subseteq B.\n",
       "   core type: Lambda\n",
       "   parameters: 8\\n   body: 2\n",
       "2. {forall_{x | x not-in B} (x not-in A) if A subseteq B.\n",
       "   core type: Conditional\n",
       "   value: 3\n",
       "   condition: 4\n",
       "3. forall_{x | x not-in B} (x not-in A)\n",
       "   core type: Operation\n",
       "   operator: 5\n",
       "   operand: 6\n",
       "4. A subseteq B\n",
       "   core type: Operation\n",
       "   operator: 7\n",
       "   operands: 8\n",
       "5. forall\n",
       "   core type: Literal\n",
       "   sub-expressions: \n",
       "6. x -> {x not-in A if x not-in B.\n",
       "   core type: Lambda\n",
       "   parameter: 16\n",
       "   body: 9\n",
       "7. subseteq\n",
       "   core type: Literal\n",
       "   sub-expressions: \n",
       "8. (A, B)\n",
       "   core type: ExprTuple\n",
       "   sub-expressions: 15, 17\n",
       "9. {x not-in A if x not-in B.\n",
       "   core type: Conditional\n",
       "   value: 10\n",
       "   condition: 11\n",
       "10. x not-in A\n",
       "    core type: Operation\n",
       "    operator: 13\n",
       "    operands: 12\n",
       "11. x not-in B\n",
       "    core type: Operation\n",
       "    operator: 13\n",
       "    operands: 14\n",
       "12. (x, A)\n",
       "    core type: ExprTuple\n",
       "    sub-expressions: 16, 15\n",
       "13. not-in\n",
       "    core type: Literal\n",
       "    sub-expressions: \n",
       "14. (x, B)\n",
       "    core type: ExprTuple\n",
       "    sub-expressions: 16, 17\n",
       "15. A\n",
       "    core type: Variable\n",
       "    sub-expressions: \n",
       "16. x\n",
       "    core type: Variable\n",
       "    sub-expressions: \n",
       "17. B\n",
       "    core type: Variable\n",
       "    sub-expressions: "
      ]
     },
     "execution_count": 4,
     "metadata": {},
     "output_type": "execute_result"
    }
   ],
   "source": [
    "# display the expression information\n",
    "unfold_subset_eq_contrapositive.expr_info()"
   ]
  },
  {
   "cell_type": "code",
   "execution_count": null,
   "metadata": {},
   "outputs": [],
   "source": []
  }
 ],
 "metadata": {
  "kernelspec": {
   "display_name": "Python 3",
   "language": "python",
   "name": "python3"
  }
 },
 "nbformat": 4,
 "nbformat_minor": 0
}