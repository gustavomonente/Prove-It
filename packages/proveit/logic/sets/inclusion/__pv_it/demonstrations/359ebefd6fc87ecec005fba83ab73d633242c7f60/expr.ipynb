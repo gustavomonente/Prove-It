{
 "cells": [
  {
   "cell_type": "markdown",
   "metadata": {},
   "source": [
    "Expression of type <a class=\"ProveItLink\" href=\"../../../../../../../../doc/html/api/proveit.logic.Or.html\">Or</a>\n",
    "=======================\n",
    "# from the theory of <a class=\"ProveItLink\" href=\"../../../_theory_nbs_/theory.ipynb\">proveit.logic.sets.inclusion</a>"
   ]
  },
  {
   "cell_type": "code",
   "execution_count": 1,
   "metadata": {},
   "outputs": [],
   "source": [
    "import proveit\n",
    "# Automation is not needed when building an expression:\n",
    "proveit.defaults.automation = False # This will speed things up.\n",
    "proveit.defaults.inline_pngs = False # Makes files smaller.\n",
    "%load_expr # Load the stored expression as 'stored_expr'\n",
    "# import Expression classes needed to build the expression\n",
    "from proveit import x\n",
    "from proveit.logic import Equals, Or\n",
    "from proveit.numbers import five, four, one, three, two"
   ]
  },
  {
   "cell_type": "code",
   "execution_count": 2,
   "metadata": {},
   "outputs": [
    {
     "data": {
      "text/html": [
       "<strong id=\"expr\">expr:</strong> <a class=\"ProveItLink\" href=\"expr.ipynb\"><img src=\"expr.png\" style=\"display:inline;vertical-align:middle;\" /></a><br>"
      ],
      "text/plain": [
       "expr: (x = 1) or (x = 2) or (x = 3) or (x = 5) or (x = 4)"
      ]
     },
     "execution_count": 2,
     "metadata": {},
     "output_type": "execute_result"
    }
   ],
   "source": [
    "# build up the expression from sub-expressions\n",
    "expr = Or(Equals(x, one), Equals(x, two), Equals(x, three), Equals(x, five), Equals(x, four))"
   ]
  },
  {
   "cell_type": "code",
   "execution_count": 3,
   "metadata": {},
   "outputs": [
    {
     "name": "stdout",
     "output_type": "stream",
     "text": [
      "Passed sanity check: expr matches stored_expr\n"
     ]
    }
   ],
   "source": [
    "# check that the built expression is the same as the stored expression\n",
    "assert expr == stored_expr\n",
    "assert expr._style_id == stored_expr._style_id\n",
    "print(\"Passed sanity check: expr matches stored_expr\")"
   ]
  },
  {
   "cell_type": "code",
   "execution_count": 4,
   "metadata": {},
   "outputs": [
    {
     "name": "stdout",
     "output_type": "stream",
     "text": [
      "\\left(x = 1\\right) \\lor \\left(x = 2\\right) \\lor \\left(x = 3\\right) \\lor \\left(x = 5\\right) \\lor \\left(x = 4\\right)\n"
     ]
    }
   ],
   "source": [
    "# Show the LaTeX representation of the expression for convenience if you need it.\n",
    "print(expr.latex())"
   ]
  },
  {
   "cell_type": "code",
   "execution_count": 5,
   "metadata": {},
   "outputs": [
    {
     "data": {
      "text/html": [
       "<table><tr><th>&nbsp;</th><th>core type</th><th>sub-expressions</th><th>expression</th></tr>\n",
       "<tr><td>0</td><td>Operation</td><td>operator:&nbsp;1<br>operands:&nbsp;2<br></td><td><a class=\"ProveItLink\" href=\"expr.ipynb\"><img src=\"expr.png\" style=\"display:inline;vertical-align:middle;\" /></a></td></tr>\n",
       "<tr><td>1</td><td>Literal</td><td></td><td><a class=\"ProveItLink\" href=\"../../../../../booleans/disjunction/__pv_it/common/ef8e59262ff8e0133aa1ca984dd6b3a41bf69d5b0/expr.ipynb\"><img src=\"../../../../../booleans/disjunction/__pv_it/common/ef8e59262ff8e0133aa1ca984dd6b3a41bf69d5b0/expr.png\" style=\"display:inline;vertical-align:middle;\" /></a></td></tr>\n",
       "<tr><td>2</td><td>ExprTuple</td><td>3, 4, 5, 6, 7</td><td><a class=\"ProveItLink\" href=\"../4f02be49e5b5a1d765a6a70443e1a6bd36bfee0c0/expr.ipynb\"><img src=\"../4f02be49e5b5a1d765a6a70443e1a6bd36bfee0c0/expr.png\" style=\"display:inline;vertical-align:middle;\" /></a></td></tr>\n",
       "<tr><td>3</td><td>Operation</td><td>operator:&nbsp;12<br>operands:&nbsp;8<br></td><td><a class=\"ProveItLink\" href=\"../0790789eea422b6d322687698aa96247ed48ed350/expr.ipynb\"><img src=\"../0790789eea422b6d322687698aa96247ed48ed350/expr.png\" style=\"display:inline;vertical-align:middle;\" /></a></td></tr>\n",
       "<tr><td>4</td><td>Operation</td><td>operator:&nbsp;12<br>operands:&nbsp;9<br></td><td><a class=\"ProveItLink\" href=\"../3b384c9588a5fce9c91015b21b9c8fb4ef0080bc0/expr.ipynb\"><img src=\"../3b384c9588a5fce9c91015b21b9c8fb4ef0080bc0/expr.png\" style=\"display:inline;vertical-align:middle;\" /></a></td></tr>\n",
       "<tr><td>5</td><td>Operation</td><td>operator:&nbsp;12<br>operands:&nbsp;10<br></td><td><a class=\"ProveItLink\" href=\"../471ccd2647bd223b4841f7f7fa57bf95c503dbee0/expr.ipynb\"><img src=\"../471ccd2647bd223b4841f7f7fa57bf95c503dbee0/expr.png\" style=\"display:inline;vertical-align:middle;\" /></a></td></tr>\n",
       "<tr><td>6</td><td>Operation</td><td>operator:&nbsp;12<br>operands:&nbsp;11<br></td><td><a class=\"ProveItLink\" href=\"../1d58b7abed05ee66c2bb7fcfa1ec6461c4fa5a3d0/expr.ipynb\"><img src=\"../1d58b7abed05ee66c2bb7fcfa1ec6461c4fa5a3d0/expr.png\" style=\"display:inline;vertical-align:middle;\" /></a></td></tr>\n",
       "<tr><td>7</td><td>Operation</td><td>operator:&nbsp;12<br>operands:&nbsp;13<br></td><td><a class=\"ProveItLink\" href=\"../49c20754b931cf7f63f4c4784c419a0ff109eb440/expr.ipynb\"><img src=\"../49c20754b931cf7f63f4c4784c419a0ff109eb440/expr.png\" style=\"display:inline;vertical-align:middle;\" /></a></td></tr>\n",
       "<tr><td>8</td><td>ExprTuple</td><td>18, 14</td><td><a class=\"ProveItLink\" href=\"../57512bb0dd1d4eaa5390b2ebf014fb8178e1e32a0/expr.ipynb\"><img src=\"../57512bb0dd1d4eaa5390b2ebf014fb8178e1e32a0/expr.png\" style=\"display:inline;vertical-align:middle;\" /></a></td></tr>\n",
       "<tr><td>9</td><td>ExprTuple</td><td>18, 15</td><td><a class=\"ProveItLink\" href=\"../e53a0d92728b1748ca7756e69d5f65bc69de8b490/expr.ipynb\"><img src=\"../e53a0d92728b1748ca7756e69d5f65bc69de8b490/expr.png\" style=\"display:inline;vertical-align:middle;\" /></a></td></tr>\n",
       "<tr><td>10</td><td>ExprTuple</td><td>18, 16</td><td><a class=\"ProveItLink\" href=\"../08084c1f45c40985b52bd8b5945f964d313b8ee40/expr.ipynb\"><img src=\"../08084c1f45c40985b52bd8b5945f964d313b8ee40/expr.png\" style=\"display:inline;vertical-align:middle;\" /></a></td></tr>\n",
       "<tr><td>11</td><td>ExprTuple</td><td>18, 17</td><td><a class=\"ProveItLink\" href=\"../74ffc6fb79ebac8fd0f8ae619588d911e39c61210/expr.ipynb\"><img src=\"../74ffc6fb79ebac8fd0f8ae619588d911e39c61210/expr.png\" style=\"display:inline;vertical-align:middle;\" /></a></td></tr>\n",
       "<tr><td>12</td><td>Literal</td><td></td><td><a class=\"ProveItLink\" href=\"../../../../../equality/__pv_it/common/fb96dc12b2aa8801dda64d0132b396c63d1502bb0/expr.ipynb\"><img src=\"../../../../../equality/__pv_it/common/fb96dc12b2aa8801dda64d0132b396c63d1502bb0/expr.png\" style=\"display:inline;vertical-align:middle;\" /></a></td></tr>\n",
       "<tr><td>13</td><td>ExprTuple</td><td>18, 19</td><td><a class=\"ProveItLink\" href=\"../c0e6f8a4a805134e864af6fa9bb86b28a466a8e80/expr.ipynb\"><img src=\"../c0e6f8a4a805134e864af6fa9bb86b28a466a8e80/expr.png\" style=\"display:inline;vertical-align:middle;\" /></a></td></tr>\n",
       "<tr><td>14</td><td>Literal</td><td></td><td><a class=\"ProveItLink\" href=\"../../../../../../numbers/numerals/__pv_it/common/2778428c7f555b2bdc06aa0530bc142c6e6335100/expr.ipynb\"><img src=\"../../../../../../numbers/numerals/__pv_it/common/2778428c7f555b2bdc06aa0530bc142c6e6335100/expr.png\" style=\"display:inline;vertical-align:middle;\" /></a></td></tr>\n",
       "<tr><td>15</td><td>Literal</td><td></td><td><a class=\"ProveItLink\" href=\"../../../../../../numbers/numerals/__pv_it/common/ba3b059982e8b49413dc653e957beb11e974e4bc0/expr.ipynb\"><img src=\"../../../../../../numbers/numerals/__pv_it/common/ba3b059982e8b49413dc653e957beb11e974e4bc0/expr.png\" style=\"display:inline;vertical-align:middle;\" /></a></td></tr>\n",
       "<tr><td>16</td><td>Literal</td><td></td><td><a class=\"ProveItLink\" href=\"../../../../../../numbers/numerals/__pv_it/common/0a19a501c0770212f27a044b71e9c626b8ca0bec0/expr.ipynb\"><img src=\"../../../../../../numbers/numerals/__pv_it/common/0a19a501c0770212f27a044b71e9c626b8ca0bec0/expr.png\" style=\"display:inline;vertical-align:middle;\" /></a></td></tr>\n",
       "<tr><td>17</td><td>Literal</td><td></td><td><a class=\"ProveItLink\" href=\"../../../../../../numbers/numerals/__pv_it/common/22be4c1fb377b3840c975e8e14bb0ce0d20bb1d90/expr.ipynb\"><img src=\"../../../../../../numbers/numerals/__pv_it/common/22be4c1fb377b3840c975e8e14bb0ce0d20bb1d90/expr.png\" style=\"display:inline;vertical-align:middle;\" /></a></td></tr>\n",
       "<tr><td>18</td><td>Variable</td><td></td><td><a class=\"ProveItLink\" href=\"../../../../../../__pv_it/common/a0d9d672aa5e272d907247690c152cc2c6daafb70/expr.ipynb\"><img src=\"../../../../../../__pv_it/common/a0d9d672aa5e272d907247690c152cc2c6daafb70/expr.png\" style=\"display:inline;vertical-align:middle;\" /></a></td></tr>\n",
       "<tr><td>19</td><td>Literal</td><td></td><td><a class=\"ProveItLink\" href=\"../../../../../../numbers/numerals/__pv_it/common/705198ce7fd3ec620275e02d9e1fa1bcf7f141270/expr.ipynb\"><img src=\"../../../../../../numbers/numerals/__pv_it/common/705198ce7fd3ec620275e02d9e1fa1bcf7f141270/expr.png\" style=\"display:inline;vertical-align:middle;\" /></a></td></tr>\n",
       "</table>\n"
      ],
      "text/plain": [
       "0. (x = 1) or (x = 2) or (x = 3) or (x = 5) or (x = 4)\n",
       "   core type: Operation\n",
       "   operator: 1\n",
       "   operands: 2\n",
       "1. or\n",
       "   core type: Literal\n",
       "   sub-expressions: \n",
       "2. (x = 1, x = 2, x = 3, x = 5, x = 4)\n",
       "   core type: ExprTuple\n",
       "   sub-expressions: 3, 4, 5, 6, 7\n",
       "3. x = 1\n",
       "   core type: Operation\n",
       "   operator: 12\n",
       "   operands: 8\n",
       "4. x = 2\n",
       "   core type: Operation\n",
       "   operator: 12\n",
       "   operands: 9\n",
       "5. x = 3\n",
       "   core type: Operation\n",
       "   operator: 12\n",
       "   operands: 10\n",
       "6. x = 5\n",
       "   core type: Operation\n",
       "   operator: 12\n",
       "   operands: 11\n",
       "7. x = 4\n",
       "   core type: Operation\n",
       "   operator: 12\n",
       "   operands: 13\n",
       "8. (x, 1)\n",
       "   core type: ExprTuple\n",
       "   sub-expressions: 18, 14\n",
       "9. (x, 2)\n",
       "   core type: ExprTuple\n",
       "   sub-expressions: 18, 15\n",
       "10. (x, 3)\n",
       "    core type: ExprTuple\n",
       "    sub-expressions: 18, 16\n",
       "11. (x, 5)\n",
       "    core type: ExprTuple\n",
       "    sub-expressions: 18, 17\n",
       "12. =\n",
       "    core type: Literal\n",
       "    sub-expressions: \n",
       "13. (x, 4)\n",
       "    core type: ExprTuple\n",
       "    sub-expressions: 18, 19\n",
       "14. 1\n",
       "    core type: Literal\n",
       "    sub-expressions: \n",
       "15. 2\n",
       "    core type: Literal\n",
       "    sub-expressions: \n",
       "16. 3\n",
       "    core type: Literal\n",
       "    sub-expressions: \n",
       "17. 5\n",
       "    core type: Literal\n",
       "    sub-expressions: \n",
       "18. x\n",
       "    core type: Variable\n",
       "    sub-expressions: \n",
       "19. 4\n",
       "    core type: Literal\n",
       "    sub-expressions: "
      ]
     },
     "execution_count": 5,
     "metadata": {},
     "output_type": "execute_result"
    }
   ],
   "source": [
    "# display the expression information\n",
    "expr.expr_info()"
   ]
  },
  {
   "cell_type": "code",
   "execution_count": null,
   "metadata": {},
   "outputs": [],
   "source": []
  }
 ],
 "metadata": {
  "kernelspec": {
   "display_name": "Python 3",
   "language": "python",
   "name": "python3"
  }
 },
 "nbformat": 4,
 "nbformat_minor": 0
}