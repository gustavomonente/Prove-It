{
 "cells": [
  {
   "cell_type": "markdown",
   "metadata": {},
   "source": [
    "Expression of type <a class=\"ProveItLink\" href=\"../../../../../../../../doc/html/api/proveit.logic.Forall.html\">Forall</a>\n",
    "=======================\n",
    "# from the theory of <a class=\"ProveItLink\" href=\"../../../_theory_nbs_/theory.ipynb\">proveit.logic.sets.inclusion</a>"
   ]
  },
  {
   "cell_type": "code",
   "execution_count": 1,
   "metadata": {},
   "outputs": [],
   "source": [
    "import proveit\n",
    "# Automation is not needed when building an expression:\n",
    "proveit.defaults.automation = False # This will speed things up.\n",
    "proveit.defaults.inline_pngs = False # Makes files smaller.\n",
    "%load_expr # Load the stored expression as 'stored_expr'\n",
    "# import Expression classes needed to build the expression\n",
    "from proveit import A, B, Variable\n",
    "from proveit.logic import Forall, InSet, Intersect"
   ]
  },
  {
   "cell_type": "code",
   "execution_count": 2,
   "metadata": {},
   "outputs": [
    {
     "data": {
      "text/html": [
       "<strong id=\"expr\">expr:</strong> <a class=\"ProveItLink\" href=\"expr.ipynb\"><img src=\"expr.png\" style=\"display:inline;vertical-align:middle;\" /></a><br>"
      ],
      "text/plain": [
       "expr: forall_{_a in A intersect B} (_a in B)"
      ]
     },
     "execution_count": 2,
     "metadata": {},
     "output_type": "execute_result"
    }
   ],
   "source": [
    "# build up the expression from sub-expressions\n",
    "sub_expr1 = Variable(\"_a\", latex_format = r\"{_{-}a}\")\n",
    "expr = Forall([sub_expr1], InSet(sub_expr1, B), domains = [Intersect(A, B)])"
   ]
  },
  {
   "cell_type": "code",
   "execution_count": 3,
   "metadata": {},
   "outputs": [
    {
     "name": "stdout",
     "output_type": "stream",
     "text": [
      "Passed sanity check: expr matches stored_expr\n"
     ]
    }
   ],
   "source": [
    "# check that the built expression is the same as the stored expression\n",
    "assert expr == stored_expr\n",
    "assert expr._style_id == stored_expr._style_id\n",
    "print(\"Passed sanity check: expr matches stored_expr\")"
   ]
  },
  {
   "cell_type": "code",
   "execution_count": 4,
   "metadata": {},
   "outputs": [
    {
     "name": "stdout",
     "output_type": "stream",
     "text": [
      "\\forall_{{_{-}a} \\in A \\cap B}~\\left({_{-}a} \\in B\\right)\n"
     ]
    }
   ],
   "source": [
    "# Show the LaTeX representation of the expression for convenience if you need it.\n",
    "print(expr.latex())"
   ]
  },
  {
   "cell_type": "code",
   "execution_count": 5,
   "metadata": {},
   "outputs": [
    {
     "data": {
      "text/html": [
       "<table><tr><th>&nbsp;</th><th>core type</th><th>sub-expressions</th><th>expression</th></tr>\n",
       "<tr><td>0</td><td>Operation</td><td>operator:&nbsp;1<br>operand:&nbsp;2<br></td><td><a class=\"ProveItLink\" href=\"expr.ipynb\"><img src=\"expr.png\" style=\"display:inline;vertical-align:middle;\" /></a></td></tr>\n",
       "<tr><td>1</td><td>Literal</td><td></td><td><a class=\"ProveItLink\" href=\"../../../../../booleans/quantification/universality/__pv_it/common/083d2baa0b8ecab1d230f9ec29a15aa1355809fb0/expr.ipynb\"><img src=\"../../../../../booleans/quantification/universality/__pv_it/common/083d2baa0b8ecab1d230f9ec29a15aa1355809fb0/expr.png\" style=\"display:inline;vertical-align:middle;\" /></a></td></tr>\n",
       "<tr><td>2</td><td>Lambda</td><td>parameter:&nbsp;9<br>body:&nbsp;3<br></td><td><a class=\"ProveItLink\" href=\"../09d0fba7278ecc15dcc61b70902ddd6fc37d0ac30/expr.ipynb\"><img src=\"../09d0fba7278ecc15dcc61b70902ddd6fc37d0ac30/expr.png\" style=\"display:inline;vertical-align:middle;\" /></a></td></tr>\n",
       "<tr><td>3</td><td>Conditional</td><td>value:&nbsp;4<br>condition:&nbsp;5<br></td><td><a class=\"ProveItLink\" href=\"../b7c8b0bf68817ca94e4c4ef2913edc623f5274ed0/expr.ipynb\"><img src=\"../b7c8b0bf68817ca94e4c4ef2913edc623f5274ed0/expr.png\" style=\"display:inline;vertical-align:middle;\" /></a></td></tr>\n",
       "<tr><td>4</td><td>Operation</td><td>operator:&nbsp;7<br>operands:&nbsp;6<br></td><td><a class=\"ProveItLink\" href=\"../9fdac702474219dd137e5ae05e3b282de15c893c0/expr.ipynb\"><img src=\"../9fdac702474219dd137e5ae05e3b282de15c893c0/expr.png\" style=\"display:inline;vertical-align:middle;\" /></a></td></tr>\n",
       "<tr><td>5</td><td>Operation</td><td>operator:&nbsp;7<br>operands:&nbsp;8<br></td><td><a class=\"ProveItLink\" href=\"../4d1da70de4e887f44adb57886eba1a2cb36192a50/expr.ipynb\"><img src=\"../4d1da70de4e887f44adb57886eba1a2cb36192a50/expr.png\" style=\"display:inline;vertical-align:middle;\" /></a></td></tr>\n",
       "<tr><td>6</td><td>ExprTuple</td><td>9, 14</td><td><a class=\"ProveItLink\" href=\"../3360cfe58bdb957ae886e6dbfe94b87fbb9d114b0/expr.ipynb\"><img src=\"../3360cfe58bdb957ae886e6dbfe94b87fbb9d114b0/expr.png\" style=\"display:inline;vertical-align:middle;\" /></a></td></tr>\n",
       "<tr><td>7</td><td>Literal</td><td></td><td><a class=\"ProveItLink\" href=\"../../../../membership/__pv_it/common/477487d8796864d23d5810f83761435f25167f690/expr.ipynb\"><img src=\"../../../../membership/__pv_it/common/477487d8796864d23d5810f83761435f25167f690/expr.png\" style=\"display:inline;vertical-align:middle;\" /></a></td></tr>\n",
       "<tr><td>8</td><td>ExprTuple</td><td>9, 10</td><td><a class=\"ProveItLink\" href=\"../68e94a57c0b707308d2d281cb86dcd2f931e15a70/expr.ipynb\"><img src=\"../68e94a57c0b707308d2d281cb86dcd2f931e15a70/expr.png\" style=\"display:inline;vertical-align:middle;\" /></a></td></tr>\n",
       "<tr><td>9</td><td>Variable</td><td></td><td><a class=\"ProveItLink\" href=\"../../../../../../core_expr_types/__pv_it/common/006c465e50948aa2b52285e2de47974f741255cc0/expr.ipynb\"><img src=\"../../../../../../core_expr_types/__pv_it/common/006c465e50948aa2b52285e2de47974f741255cc0/expr.png\" style=\"display:inline;vertical-align:middle;\" /></a></td></tr>\n",
       "<tr><td>10</td><td>Operation</td><td>operator:&nbsp;11<br>operands:&nbsp;12<br></td><td><a class=\"ProveItLink\" href=\"../fea04695d0f8e4820ac8880b66c4c2f37aa7fff50/expr.ipynb\"><img src=\"../fea04695d0f8e4820ac8880b66c4c2f37aa7fff50/expr.png\" style=\"display:inline;vertical-align:middle;\" /></a></td></tr>\n",
       "<tr><td>11</td><td>Literal</td><td></td><td><a class=\"ProveItLink\" href=\"../../../../intersection/__pv_it/common/718e30c398d699c56b1af99739a377f200f9d3cd0/expr.ipynb\"><img src=\"../../../../intersection/__pv_it/common/718e30c398d699c56b1af99739a377f200f9d3cd0/expr.png\" style=\"display:inline;vertical-align:middle;\" /></a></td></tr>\n",
       "<tr><td>12</td><td>ExprTuple</td><td>13, 14</td><td><a class=\"ProveItLink\" href=\"../../theorems/8168c562b942d2349bc15878d637d47dc90786870/expr.ipynb\"><img src=\"../../theorems/8168c562b942d2349bc15878d637d47dc90786870/expr.png\" style=\"display:inline;vertical-align:middle;\" /></a></td></tr>\n",
       "<tr><td>13</td><td>Variable</td><td></td><td><a class=\"ProveItLink\" href=\"../../../../../../__pv_it/common/09585084922504426caf1db2ff588a23a0932a960/expr.ipynb\"><img src=\"../../../../../../__pv_it/common/09585084922504426caf1db2ff588a23a0932a960/expr.png\" style=\"display:inline;vertical-align:middle;\" /></a></td></tr>\n",
       "<tr><td>14</td><td>Variable</td><td></td><td><a class=\"ProveItLink\" href=\"../../../../../../__pv_it/common/a9162d1c3cc0470c02e5daf414500903a7a419230/expr.ipynb\"><img src=\"../../../../../../__pv_it/common/a9162d1c3cc0470c02e5daf414500903a7a419230/expr.png\" style=\"display:inline;vertical-align:middle;\" /></a></td></tr>\n",
       "</table>\n"
      ],
      "text/plain": [
       "0. forall_{_a in A intersect B} (_a in B)\n",
       "   core type: Operation\n",
       "   operator: 1\n",
       "   operand: 2\n",
       "1. forall\n",
       "   core type: Literal\n",
       "   sub-expressions: \n",
       "2. _a -> {_a in B if _a in (A intersect B).\n",
       "   core type: Lambda\n",
       "   parameter: 9\n",
       "   body: 3\n",
       "3. {_a in B if _a in (A intersect B).\n",
       "   core type: Conditional\n",
       "   value: 4\n",
       "   condition: 5\n",
       "4. _a in B\n",
       "   core type: Operation\n",
       "   operator: 7\n",
       "   operands: 6\n",
       "5. _a in (A intersect B)\n",
       "   core type: Operation\n",
       "   operator: 7\n",
       "   operands: 8\n",
       "6. (_a, B)\n",
       "   core type: ExprTuple\n",
       "   sub-expressions: 9, 14\n",
       "7. in\n",
       "   core type: Literal\n",
       "   sub-expressions: \n",
       "8. (_a, A intersect B)\n",
       "   core type: ExprTuple\n",
       "   sub-expressions: 9, 10\n",
       "9. _a\n",
       "   core type: Variable\n",
       "   sub-expressions: \n",
       "10. A intersect B\n",
       "    core type: Operation\n",
       "    operator: 11\n",
       "    operands: 12\n",
       "11. intersect\n",
       "    core type: Literal\n",
       "    sub-expressions: \n",
       "12. (A, B)\n",
       "    core type: ExprTuple\n",
       "    sub-expressions: 13, 14\n",
       "13. A\n",
       "    core type: Variable\n",
       "    sub-expressions: \n",
       "14. B\n",
       "    core type: Variable\n",
       "    sub-expressions: "
      ]
     },
     "execution_count": 5,
     "metadata": {},
     "output_type": "execute_result"
    }
   ],
   "source": [
    "# display the expression information\n",
    "expr.expr_info()"
   ]
  },
  {
   "cell_type": "code",
   "execution_count": null,
   "metadata": {},
   "outputs": [],
   "source": []
  }
 ],
 "metadata": {
  "kernelspec": {
   "display_name": "Python 3",
   "language": "python",
   "name": "python3"
  }
 },
 "nbformat": 4,
 "nbformat_minor": 0
}