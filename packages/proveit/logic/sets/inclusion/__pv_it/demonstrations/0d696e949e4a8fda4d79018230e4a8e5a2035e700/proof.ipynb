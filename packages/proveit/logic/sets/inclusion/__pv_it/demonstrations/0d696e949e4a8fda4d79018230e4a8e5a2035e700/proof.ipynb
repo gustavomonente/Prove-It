{
 "cells": [
  {
   "cell_type": "markdown",
   "metadata": {},
   "source": [
    "Show the Proof\n",
    "========"
   ]
  },
  {
   "cell_type": "code",
   "execution_count": 1,
   "metadata": {},
   "outputs": [
    {
     "data": {
      "text/html": [
       "<table><tr><th>&nbsp;</th><th>step type</th><th>requirements</th><th>statement</th></tr>\n",
       "<tr><td><a name=\"proveit.logic.sets.inclusion.demonstrations.0d696e949e4a8fda4d79018230e4a8e5a2035e700_step0\">0</a></td><td>instantiation</td><td><a href=\"#proveit.logic.sets.inclusion.demonstrations.0d696e949e4a8fda4d79018230e4a8e5a2035e700_step1\">1</a>, <a href=\"#proveit.logic.sets.inclusion.demonstrations.0d696e949e4a8fda4d79018230e4a8e5a2035e700_step2\">2</a></td><td><span style=\"font-size:20px;\"><a class=\"ProveItLink\" href=\"../dba6a7aacd1f7519aa21db6101f7ce8e9363e05a0/expr.ipynb\"><img src=\"../dba6a7aacd1f7519aa21db6101f7ce8e9363e05a0/expr.png\" style=\"display:inline;vertical-align:middle;\" /></a> <a class=\"ProveItLink\" href=\"proof.ipynb\" style=\"text-decoration: none\">&nbsp;&#x22A2;&nbsp;&nbsp;</a><a class=\"ProveItLink\" href=\"../26e5c5e92a647e156785c5fa2a782d93912df9cb0/expr.ipynb\"><img src=\"../26e5c5e92a647e156785c5fa2a782d93912df9cb0/expr.png\" style=\"display:inline;vertical-align:middle;\" /></a></span></td></tr>\n",
       "<tr><td>&nbsp;</td><td colspan=4 style=\"text-align:left\"><span style=\"font-size:20px;\"><a class=\"ProveItLink\" href=\"../../../../../../__pv_it/common/09585084922504426caf1db2ff588a23a0932a960/expr.ipynb\"><img src=\"../../../../../../__pv_it/common/09585084922504426caf1db2ff588a23a0932a960/expr.png\" style=\"display:inline;vertical-align:middle;\" /></a> : <a class=\"ProveItLink\" href=\"../daae3a7f1a9f2bb62ebe002ffdd3d497036649dd0/expr.ipynb\"><img src=\"../daae3a7f1a9f2bb62ebe002ffdd3d497036649dd0/expr.png\" style=\"display:inline;vertical-align:middle;\" /></a>, <a class=\"ProveItLink\" href=\"../../../../../../__pv_it/common/a9162d1c3cc0470c02e5daf414500903a7a419230/expr.ipynb\"><img src=\"../../../../../../__pv_it/common/a9162d1c3cc0470c02e5daf414500903a7a419230/expr.png\" style=\"display:inline;vertical-align:middle;\" /></a> : <a class=\"ProveItLink\" href=\"../46222b01e31bd8038ead234954e45e7eb79c609a0/expr.ipynb\"><img src=\"../46222b01e31bd8038ead234954e45e7eb79c609a0/expr.png\" style=\"display:inline;vertical-align:middle;\" /></a></span></td></tr><tr><td><a name=\"proveit.logic.sets.inclusion.demonstrations.0d696e949e4a8fda4d79018230e4a8e5a2035e700_step1\">1</a></td><td>theorem</td><td></td><td><span style=\"font-size:20px;\"> <a class=\"ProveItLink\" href=\"../../../_theory_nbs_/proofs/reverse_proper_superset/thm_proof.ipynb\" style=\"text-decoration: none\">&nbsp;&#x22A2;&nbsp;&nbsp;</a><a class=\"ProveItLink\" href=\"../../theorems/dce26990d0a6961c1a1e1157423230545a729b850/expr.ipynb\"><img src=\"../../theorems/dce26990d0a6961c1a1e1157423230545a729b850/expr.png\" style=\"display:inline;vertical-align:middle;\" /></a></span></td></tr>\n",
       "<tr><td>&nbsp;</td><td colspan=4 style-\"text-align:left\"><a class=\"ProveItLink\" href=\"../../../_theory_nbs_/proofs/reverse_proper_superset/thm_proof.ipynb\">proveit.logic.sets.inclusion.reverse_proper_superset</a></td></tr><tr><td><a name=\"proveit.logic.sets.inclusion.demonstrations.0d696e949e4a8fda4d79018230e4a8e5a2035e700_step2\">2</a></td><td>assumption</td><td></td><td><span style=\"font-size:20px;\"><a class=\"ProveItLink\" href=\"../dba6a7aacd1f7519aa21db6101f7ce8e9363e05a0/expr.ipynb\"><img src=\"../dba6a7aacd1f7519aa21db6101f7ce8e9363e05a0/expr.png\" style=\"display:inline;vertical-align:middle;\" /></a> <a class=\"ProveItLink\" href=\"../fffc934cd05535a5c48348194dcb345078920c3c0/proof.ipynb\" style=\"text-decoration: none\">&nbsp;&#x22A2;&nbsp;&nbsp;</a><a class=\"ProveItLink\" href=\"../dba6a7aacd1f7519aa21db6101f7ce8e9363e05a0/expr.ipynb\"><img src=\"../dba6a7aacd1f7519aa21db6101f7ce8e9363e05a0/expr.png\" style=\"display:inline;vertical-align:middle;\" /></a></span></td></tr>\n",
       "</table>"
      ],
      "text/plain": [
       "<proveit._core_.proof._ShowProof at 0x7fe8f189bdd8>"
      ]
     },
     "execution_count": 1,
     "metadata": {},
     "output_type": "execute_result"
    }
   ],
   "source": [
    "import proveit\n",
    "# Automation is not needed when only showing a stored proof:\n",
    "proveit.defaults.automation = False # This will speed things up.\n",
    "proveit.defaults.inline_pngs = False # Makes files smaller.\n",
    "%show_proof"
   ]
  },
  {
   "cell_type": "code",
   "execution_count": null,
   "metadata": {},
   "outputs": [],
   "source": []
  }
 ],
 "metadata": {
  "kernelspec": {
   "display_name": "Python 3",
   "language": "python",
   "name": "python3"
  }
 },
 "nbformat": 4,
 "nbformat_minor": 0
}