{
 "cells": [
  {
   "cell_type": "markdown",
   "metadata": {},
   "source": [
    "Expression of type <a class=\"ProveItLink\" href=\"../../../../../../../../doc/html/api/proveit.logic.Implies.html\">Implies</a>\n",
    "=======================\n",
    "# from the theory of <a class=\"ProveItLink\" href=\"../../../_theory_nbs_/theory.ipynb\">proveit.logic.sets.inclusion</a>"
   ]
  },
  {
   "cell_type": "code",
   "execution_count": 1,
   "metadata": {},
   "outputs": [],
   "source": [
    "import proveit\n",
    "# Automation is not needed when building an expression:\n",
    "proveit.defaults.automation = False # This will speed things up.\n",
    "proveit.defaults.inline_pngs = False # Makes files smaller.\n",
    "%load_expr # Load the stored expression as 'stored_expr'\n",
    "# import Expression classes needed to build the expression\n",
    "from proveit import C, D, x\n",
    "from proveit.logic import Forall, Implies, InSet, SubsetEq"
   ]
  },
  {
   "cell_type": "code",
   "execution_count": 2,
   "metadata": {},
   "outputs": [
    {
     "data": {
      "text/html": [
       "<strong id=\"expr\">expr:</strong> <a class=\"ProveItLink\" href=\"expr.ipynb\"><img src=\"expr.png\" style=\"display:inline;vertical-align:middle;\" /></a><br>"
      ],
      "text/plain": [
       "expr: [forall_{x in C} (x in D)] => (C subseteq D)"
      ]
     },
     "execution_count": 2,
     "metadata": {},
     "output_type": "execute_result"
    }
   ],
   "source": [
    "# build up the expression from sub-expressions\n",
    "expr = Implies(Forall([x], InSet(x, D), domains = [C]), SubsetEq(C, D))"
   ]
  },
  {
   "cell_type": "code",
   "execution_count": 3,
   "metadata": {},
   "outputs": [
    {
     "name": "stdout",
     "output_type": "stream",
     "text": [
      "Passed sanity check: expr matches stored_expr\n"
     ]
    }
   ],
   "source": [
    "# check that the built expression is the same as the stored expression\n",
    "assert expr == stored_expr\n",
    "assert expr._style_id == stored_expr._style_id\n",
    "print(\"Passed sanity check: expr matches stored_expr\")"
   ]
  },
  {
   "cell_type": "code",
   "execution_count": 4,
   "metadata": {},
   "outputs": [
    {
     "name": "stdout",
     "output_type": "stream",
     "text": [
      "\\left[\\forall_{x \\in C}~\\left(x \\in D\\right)\\right] \\Rightarrow \\left(C \\subseteq D\\right)\n"
     ]
    }
   ],
   "source": [
    "# Show the LaTeX representation of the expression for convenience if you need it.\n",
    "print(expr.latex())"
   ]
  },
  {
   "cell_type": "code",
   "execution_count": 5,
   "metadata": {},
   "outputs": [
    {
     "data": {
      "text/html": [
       "<table><tr><th>&nbsp;</th><th>core type</th><th>sub-expressions</th><th>expression</th></tr>\n",
       "<tr><td>0</td><td>Operation</td><td>operator:&nbsp;1<br>operands:&nbsp;2<br></td><td><a class=\"ProveItLink\" href=\"expr.ipynb\"><img src=\"expr.png\" style=\"display:inline;vertical-align:middle;\" /></a></td></tr>\n",
       "<tr><td>1</td><td>Literal</td><td></td><td><a class=\"ProveItLink\" href=\"../../../../../booleans/implication/__pv_it/common/02bdb382575728da8cdbaed545b9096ea7a1bd5b0/expr.ipynb\"><img src=\"../../../../../booleans/implication/__pv_it/common/02bdb382575728da8cdbaed545b9096ea7a1bd5b0/expr.png\" style=\"display:inline;vertical-align:middle;\" /></a></td></tr>\n",
       "<tr><td>2</td><td>ExprTuple</td><td>3, 4</td><td><a class=\"ProveItLink\" href=\"../1e3d9f4364f7cef1b6c30eec90f05a1c8b4386ef0/expr.ipynb\"><img src=\"../1e3d9f4364f7cef1b6c30eec90f05a1c8b4386ef0/expr.png\" style=\"display:inline;vertical-align:middle;\" /></a></td></tr>\n",
       "<tr><td>3</td><td>Operation</td><td>operator:&nbsp;5<br>operand:&nbsp;6<br></td><td><a class=\"ProveItLink\" href=\"../253cb031a19a53eea76676a69248733b4ef554150/expr.ipynb\"><img src=\"../253cb031a19a53eea76676a69248733b4ef554150/expr.png\" style=\"display:inline;vertical-align:middle;\" /></a></td></tr>\n",
       "<tr><td>4</td><td>Operation</td><td>operator:&nbsp;7<br>operands:&nbsp;8<br></td><td><a class=\"ProveItLink\" href=\"../110386be544bd8f4a46ca6bd4f9526e1f06af8420/expr.ipynb\"><img src=\"../110386be544bd8f4a46ca6bd4f9526e1f06af8420/expr.png\" style=\"display:inline;vertical-align:middle;\" /></a></td></tr>\n",
       "<tr><td>5</td><td>Literal</td><td></td><td><a class=\"ProveItLink\" href=\"../../../../../booleans/quantification/universality/__pv_it/common/083d2baa0b8ecab1d230f9ec29a15aa1355809fb0/expr.ipynb\"><img src=\"../../../../../booleans/quantification/universality/__pv_it/common/083d2baa0b8ecab1d230f9ec29a15aa1355809fb0/expr.png\" style=\"display:inline;vertical-align:middle;\" /></a></td></tr>\n",
       "<tr><td>6</td><td>Lambda</td><td>parameter:&nbsp;16<br>body:&nbsp;9<br></td><td><a class=\"ProveItLink\" href=\"../294b8505d641d4819582b0412b7c76f4ab8b48410/expr.ipynb\"><img src=\"../294b8505d641d4819582b0412b7c76f4ab8b48410/expr.png\" style=\"display:inline;vertical-align:middle;\" /></a></td></tr>\n",
       "<tr><td>7</td><td>Literal</td><td></td><td><a class=\"ProveItLink\" href=\"../../common/eca8e8ce8b5c9b5f2fd72b64773d376f3904e9670/expr.ipynb\"><img src=\"../../common/eca8e8ce8b5c9b5f2fd72b64773d376f3904e9670/expr.png\" style=\"display:inline;vertical-align:middle;\" /></a></td></tr>\n",
       "<tr><td>8</td><td>ExprTuple</td><td>17, 15</td><td><a class=\"ProveItLink\" href=\"../080e00adb81b5d44f4f3ef2f29aa8b1e346320610/expr.ipynb\"><img src=\"../080e00adb81b5d44f4f3ef2f29aa8b1e346320610/expr.png\" style=\"display:inline;vertical-align:middle;\" /></a></td></tr>\n",
       "<tr><td>9</td><td>Conditional</td><td>value:&nbsp;10<br>condition:&nbsp;11<br></td><td><a class=\"ProveItLink\" href=\"../3c2ca4f42c138fa72baca5471ed1ff28eeb5c6010/expr.ipynb\"><img src=\"../3c2ca4f42c138fa72baca5471ed1ff28eeb5c6010/expr.png\" style=\"display:inline;vertical-align:middle;\" /></a></td></tr>\n",
       "<tr><td>10</td><td>Operation</td><td>operator:&nbsp;13<br>operands:&nbsp;12<br></td><td><a class=\"ProveItLink\" href=\"../792bd41a8139cde69ead81b60d42367abcad7aca0/expr.ipynb\"><img src=\"../792bd41a8139cde69ead81b60d42367abcad7aca0/expr.png\" style=\"display:inline;vertical-align:middle;\" /></a></td></tr>\n",
       "<tr><td>11</td><td>Operation</td><td>operator:&nbsp;13<br>operands:&nbsp;14<br></td><td><a class=\"ProveItLink\" href=\"../263e2debd398062127e1faffd35cdd8e3929dd5e0/expr.ipynb\"><img src=\"../263e2debd398062127e1faffd35cdd8e3929dd5e0/expr.png\" style=\"display:inline;vertical-align:middle;\" /></a></td></tr>\n",
       "<tr><td>12</td><td>ExprTuple</td><td>16, 15</td><td><a class=\"ProveItLink\" href=\"../37507ad1569172364fcfe89f6a6d95f0ac0a2c520/expr.ipynb\"><img src=\"../37507ad1569172364fcfe89f6a6d95f0ac0a2c520/expr.png\" style=\"display:inline;vertical-align:middle;\" /></a></td></tr>\n",
       "<tr><td>13</td><td>Literal</td><td></td><td><a class=\"ProveItLink\" href=\"../../../../membership/__pv_it/common/477487d8796864d23d5810f83761435f25167f690/expr.ipynb\"><img src=\"../../../../membership/__pv_it/common/477487d8796864d23d5810f83761435f25167f690/expr.png\" style=\"display:inline;vertical-align:middle;\" /></a></td></tr>\n",
       "<tr><td>14</td><td>ExprTuple</td><td>16, 17</td><td><a class=\"ProveItLink\" href=\"../b128b27365e5e722cec1ecedd3262a6b844d84f60/expr.ipynb\"><img src=\"../b128b27365e5e722cec1ecedd3262a6b844d84f60/expr.png\" style=\"display:inline;vertical-align:middle;\" /></a></td></tr>\n",
       "<tr><td>15</td><td>Variable</td><td></td><td><a class=\"ProveItLink\" href=\"../../../../../../__pv_it/common/8d36d28f3636cdaa66f8b7d56eb3bbf0b50f70200/expr.ipynb\"><img src=\"../../../../../../__pv_it/common/8d36d28f3636cdaa66f8b7d56eb3bbf0b50f70200/expr.png\" style=\"display:inline;vertical-align:middle;\" /></a></td></tr>\n",
       "<tr><td>16</td><td>Variable</td><td></td><td><a class=\"ProveItLink\" href=\"../../../../../../__pv_it/common/a0d9d672aa5e272d907247690c152cc2c6daafb70/expr.ipynb\"><img src=\"../../../../../../__pv_it/common/a0d9d672aa5e272d907247690c152cc2c6daafb70/expr.png\" style=\"display:inline;vertical-align:middle;\" /></a></td></tr>\n",
       "<tr><td>17</td><td>Variable</td><td></td><td><a class=\"ProveItLink\" href=\"../../../../../../__pv_it/common/9fba9f29e823606ff4fdf2f1c6d5d08d906e850a0/expr.ipynb\"><img src=\"../../../../../../__pv_it/common/9fba9f29e823606ff4fdf2f1c6d5d08d906e850a0/expr.png\" style=\"display:inline;vertical-align:middle;\" /></a></td></tr>\n",
       "</table>\n"
      ],
      "text/plain": [
       "0. [forall_{x in C} (x in D)] => (C subseteq D)\n",
       "   core type: Operation\n",
       "   operator: 1\n",
       "   operands: 2\n",
       "1. =>\n",
       "   core type: Literal\n",
       "   sub-expressions: \n",
       "2. (forall_{x in C} (x in D), C subseteq D)\n",
       "   core type: ExprTuple\n",
       "   sub-expressions: 3, 4\n",
       "3. forall_{x in C} (x in D)\n",
       "   core type: Operation\n",
       "   operator: 5\n",
       "   operand: 6\n",
       "4. C subseteq D\n",
       "   core type: Operation\n",
       "   operator: 7\n",
       "   operands: 8\n",
       "5. forall\n",
       "   core type: Literal\n",
       "   sub-expressions: \n",
       "6. x -> {x in D if x in C.\n",
       "   core type: Lambda\n",
       "   parameter: 16\n",
       "   body: 9\n",
       "7. subseteq\n",
       "   core type: Literal\n",
       "   sub-expressions: \n",
       "8. (C, D)\n",
       "   core type: ExprTuple\n",
       "   sub-expressions: 17, 15\n",
       "9. {x in D if x in C.\n",
       "   core type: Conditional\n",
       "   value: 10\n",
       "   condition: 11\n",
       "10. x in D\n",
       "    core type: Operation\n",
       "    operator: 13\n",
       "    operands: 12\n",
       "11. x in C\n",
       "    core type: Operation\n",
       "    operator: 13\n",
       "    operands: 14\n",
       "12. (x, D)\n",
       "    core type: ExprTuple\n",
       "    sub-expressions: 16, 15\n",
       "13. in\n",
       "    core type: Literal\n",
       "    sub-expressions: \n",
       "14. (x, C)\n",
       "    core type: ExprTuple\n",
       "    sub-expressions: 16, 17\n",
       "15. D\n",
       "    core type: Variable\n",
       "    sub-expressions: \n",
       "16. x\n",
       "    core type: Variable\n",
       "    sub-expressions: \n",
       "17. C\n",
       "    core type: Variable\n",
       "    sub-expressions: "
      ]
     },
     "execution_count": 5,
     "metadata": {},
     "output_type": "execute_result"
    }
   ],
   "source": [
    "# display the expression information\n",
    "expr.expr_info()"
   ]
  },
  {
   "cell_type": "code",
   "execution_count": null,
   "metadata": {},
   "outputs": [],
   "source": []
  }
 ],
 "metadata": {
  "kernelspec": {
   "display_name": "Python 3",
   "language": "python",
   "name": "python3"
  }
 },
 "nbformat": 4,
 "nbformat_minor": 0
}