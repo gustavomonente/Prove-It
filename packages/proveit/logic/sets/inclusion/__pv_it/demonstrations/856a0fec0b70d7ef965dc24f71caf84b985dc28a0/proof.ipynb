{
 "cells": [
  {
   "cell_type": "markdown",
   "metadata": {},
   "source": [
    "Show the Proof\n",
    "========"
   ]
  },
  {
   "cell_type": "code",
   "execution_count": 1,
   "metadata": {},
   "outputs": [
    {
     "data": {
      "text/html": [
       "<table><tr><th>&nbsp;</th><th>step type</th><th>requirements</th><th>statement</th></tr>\n",
       "<tr><td><a name=\"proveit.logic.sets.inclusion.demonstrations.856a0fec0b70d7ef965dc24f71caf84b985dc28a0_step0\">0</a></td><td>instantiation</td><td><a href=\"#proveit.logic.sets.inclusion.demonstrations.856a0fec0b70d7ef965dc24f71caf84b985dc28a0_step1\">1</a>, <a href=\"#proveit.logic.sets.inclusion.demonstrations.856a0fec0b70d7ef965dc24f71caf84b985dc28a0_step2\">2</a></td><td><span style=\"font-size:20px;\"> <a class=\"ProveItLink\" href=\"proof.ipynb\" style=\"text-decoration: none\">&nbsp;&#x22A2;&nbsp;&nbsp;</a><a class=\"ProveItLink\" href=\"../c387a7526e02e22a8842967d825649c826cbcc5d0/expr.ipynb\"><img src=\"../c387a7526e02e22a8842967d825649c826cbcc5d0/expr.png\" style=\"display:inline;vertical-align:middle;\" /></a></span></td></tr>\n",
       "<tr><td>&nbsp;</td><td colspan=4 style=\"text-align:left\"><span style=\"font-size:20px;\"><a class=\"ProveItLink\" href=\"../../../../../../__pv_it/common/e4aad701f7f5516d8e7f0d805d518bf02c13322a0/expr.ipynb\"><img src=\"../../../../../../__pv_it/common/e4aad701f7f5516d8e7f0d805d518bf02c13322a0/expr.png\" style=\"display:inline;vertical-align:middle;\" /></a> : <a class=\"ProveItLink\" href=\"../56313ce7bc9efa0c81ce3e4b99f33f77c00f84ce0/expr.ipynb\"><img src=\"../56313ce7bc9efa0c81ce3e4b99f33f77c00f84ce0/expr.png\" style=\"display:inline;vertical-align:middle;\" /></a>, <a class=\"ProveItLink\" href=\"../../../../../../__pv_it/common/4eca3b30dcf58a58494e201d1b7886d8643a617b0/expr.ipynb\"><img src=\"../../../../../../__pv_it/common/4eca3b30dcf58a58494e201d1b7886d8643a617b0/expr.png\" style=\"display:inline;vertical-align:middle;\" /></a> : <a class=\"ProveItLink\" href=\"../56313ce7bc9efa0c81ce3e4b99f33f77c00f84ce0/expr.ipynb\"><img src=\"../56313ce7bc9efa0c81ce3e4b99f33f77c00f84ce0/expr.png\" style=\"display:inline;vertical-align:middle;\" /></a></span></td></tr><tr><td><a name=\"proveit.logic.sets.inclusion.demonstrations.856a0fec0b70d7ef965dc24f71caf84b985dc28a0_step1\">1</a></td><td>theorem</td><td></td><td><span style=\"font-size:20px;\"> <a class=\"ProveItLink\" href=\"../../../_theory_nbs_/proofs/subset_eq_via_equivalence/thm_proof.ipynb\" style=\"text-decoration: none\">&nbsp;&#x22A2;&nbsp;&nbsp;</a><a class=\"ProveItLink\" href=\"../../theorems/616c1e3b5e5900446c62b0572c84d1717b01474b0/expr.ipynb\"><img src=\"../../theorems/616c1e3b5e5900446c62b0572c84d1717b01474b0/expr.png\" style=\"display:inline;vertical-align:middle;\" /></a></span></td></tr>\n",
       "<tr><td>&nbsp;</td><td colspan=4 style-\"text-align:left\"><a class=\"ProveItLink\" href=\"../../../_theory_nbs_/proofs/subset_eq_via_equivalence/thm_proof.ipynb\">proveit.logic.sets.inclusion.subset_eq_via_equivalence</a></td></tr><tr><td><a name=\"proveit.logic.sets.inclusion.demonstrations.856a0fec0b70d7ef965dc24f71caf84b985dc28a0_step2\">2</a></td><td>instantiation</td><td><a href=\"#proveit.logic.sets.inclusion.demonstrations.856a0fec0b70d7ef965dc24f71caf84b985dc28a0_step3\">3</a></td><td><span style=\"font-size:20px;\"> <a class=\"ProveItLink\" href=\"../9cf2d95cc49cb70c90e1db56975e3fec47535fed0/proof.ipynb\" style=\"text-decoration: none\">&nbsp;&#x22A2;&nbsp;&nbsp;</a><a class=\"ProveItLink\" href=\"../7634cd6efec0ee76d873505d2a695bcf6c4ee82f0/expr.ipynb\"><img src=\"../7634cd6efec0ee76d873505d2a695bcf6c4ee82f0/expr.png\" style=\"display:inline;vertical-align:middle;\" /></a></span></td></tr>\n",
       "<tr><td>&nbsp;</td><td colspan=4 style=\"text-align:left\"><span style=\"font-size:20px;\"><a class=\"ProveItLink\" href=\"../../../../../../__pv_it/common/e4aad701f7f5516d8e7f0d805d518bf02c13322a0/expr.ipynb\"><img src=\"../../../../../../__pv_it/common/e4aad701f7f5516d8e7f0d805d518bf02c13322a0/expr.png\" style=\"display:inline;vertical-align:middle;\" /></a> : <a class=\"ProveItLink\" href=\"../56313ce7bc9efa0c81ce3e4b99f33f77c00f84ce0/expr.ipynb\"><img src=\"../56313ce7bc9efa0c81ce3e4b99f33f77c00f84ce0/expr.png\" style=\"display:inline;vertical-align:middle;\" /></a></span></td></tr><tr><td><a name=\"proveit.logic.sets.inclusion.demonstrations.856a0fec0b70d7ef965dc24f71caf84b985dc28a0_step3\">3</a></td><td>theorem</td><td></td><td><span style=\"font-size:20px;\"> <a class=\"ProveItLink\" href=\"../../../../equivalence/_theory_nbs_/proofs/set_equiv_reflexivity/thm_proof.ipynb\" style=\"text-decoration: none\">&nbsp;&#x22A2;&nbsp;&nbsp;</a><a class=\"ProveItLink\" href=\"../../../../equivalence/__pv_it/theorems/b3aebcfe469506e10b960f2fa7640c920413b07c0/expr.ipynb\"><img src=\"../../../../equivalence/__pv_it/theorems/b3aebcfe469506e10b960f2fa7640c920413b07c0/expr.png\" style=\"display:inline;vertical-align:middle;\" /></a></span></td></tr>\n",
       "<tr><td>&nbsp;</td><td colspan=4 style-\"text-align:left\"><a class=\"ProveItLink\" href=\"../../../../equivalence/_theory_nbs_/proofs/set_equiv_reflexivity/thm_proof.ipynb\">proveit.logic.sets.equivalence.set_equiv_reflexivity</a></td></tr></table>"
      ],
      "text/plain": [
       "<proveit._core_.proof._ShowProof at 0x7f56091e9320>"
      ]
     },
     "execution_count": 1,
     "metadata": {},
     "output_type": "execute_result"
    }
   ],
   "source": [
    "import proveit\n",
    "# Automation is not needed when only showing a stored proof:\n",
    "proveit.defaults.automation = False # This will speed things up.\n",
    "proveit.defaults.inline_pngs = False # Makes files smaller.\n",
    "%show_proof"
   ]
  },
  {
   "cell_type": "code",
   "execution_count": null,
   "metadata": {},
   "outputs": [],
   "source": []
  }
 ],
 "metadata": {
  "kernelspec": {
   "display_name": "Python 3",
   "language": "python",
   "name": "python3"
  },
  "language_info": {
   "codemirror_mode": {
    "name": "ipython",
    "version": 3
   },
   "file_extension": ".py",
   "mimetype": "text/x-python",
   "name": "python",
   "nbconvert_exporter": "python",
   "pygments_lexer": "ipython3",
   "version": "3.7.3"
  }
 },
 "nbformat": 4,
 "nbformat_minor": 1
}