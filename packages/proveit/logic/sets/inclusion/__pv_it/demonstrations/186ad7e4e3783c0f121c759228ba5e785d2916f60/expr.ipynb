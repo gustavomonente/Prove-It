{
 "cells": [
  {
   "cell_type": "markdown",
   "metadata": {},
   "source": [
    "Expression of type <a class=\"ProveItLink\" href=\"../../../../../../../../doc/html/api/proveit.ExprTuple.html\">ExprTuple</a>\n",
    "=======================\n",
    "# from the theory of <a class=\"ProveItLink\" href=\"../../../_theory_nbs_/theory.ipynb\">proveit.logic.sets.inclusion</a>"
   ]
  },
  {
   "cell_type": "code",
   "execution_count": 1,
   "metadata": {},
   "outputs": [],
   "source": [
    "import proveit\n",
    "# Automation is not needed when building an expression:\n",
    "proveit.defaults.automation = False # This will speed things up.\n",
    "proveit.defaults.inline_pngs = False # Makes files smaller.\n",
    "%load_expr # Load the stored expression as 'stored_expr'\n",
    "# import Expression classes needed to build the expression\n",
    "from proveit import Conditional, ExprTuple, Lambda, x\n",
    "from proveit.logic import Implies, InSet, Set\n",
    "from proveit.numbers import five, four, one, three, two"
   ]
  },
  {
   "cell_type": "code",
   "execution_count": 2,
   "metadata": {},
   "outputs": [
    {
     "data": {
      "text/html": [
       "<strong id=\"expr\">expr:</strong> <a class=\"ProveItLink\" href=\"expr.ipynb\"><img src=\"expr.png\" style=\"display:inline;vertical-align:middle;\" /></a><br>"
      ],
      "text/plain": [
       "expr: (x -> {(x in {1, 3, 5}) => (x in {1, 2, 3, 4, 5}) if x in {1, 3, 5}.)"
      ]
     },
     "execution_count": 2,
     "metadata": {},
     "output_type": "execute_result"
    }
   ],
   "source": [
    "# build up the expression from sub-expressions\n",
    "sub_expr1 = InSet(x, Set(one, three, five))\n",
    "expr = ExprTuple(Lambda(x, Conditional(Implies(sub_expr1, InSet(x, Set(one, two, three, four, five))), sub_expr1)))"
   ]
  },
  {
   "cell_type": "code",
   "execution_count": 3,
   "metadata": {},
   "outputs": [
    {
     "name": "stdout",
     "output_type": "stream",
     "text": [
      "Passed sanity check: expr matches stored_expr\n"
     ]
    }
   ],
   "source": [
    "# check that the built expression is the same as the stored expression\n",
    "assert expr == stored_expr\n",
    "assert expr._style_id == stored_expr._style_id\n",
    "print(\"Passed sanity check: expr matches stored_expr\")"
   ]
  },
  {
   "cell_type": "code",
   "execution_count": 4,
   "metadata": {},
   "outputs": [
    {
     "name": "stdout",
     "output_type": "stream",
     "text": [
      "\\left(x \\mapsto \\left\\{\\left(x \\in \\left\\{1, 3, 5\\right\\}\\right) \\Rightarrow \\left(x \\in \\left\\{1, 2, 3, 4, 5\\right\\}\\right) \\textrm{ if } x \\in \\left\\{1, 3, 5\\right\\}\\right..\\right)\n"
     ]
    }
   ],
   "source": [
    "# Show the LaTeX representation of the expression for convenience if you need it.\n",
    "print(expr.latex())"
   ]
  },
  {
   "cell_type": "code",
   "execution_count": 5,
   "metadata": {},
   "outputs": [
    {
     "data": {
      "text/html": [
       "no style options"
      ],
      "text/plain": [
       "no style options"
      ]
     },
     "execution_count": 5,
     "metadata": {},
     "output_type": "execute_result"
    }
   ],
   "source": [
    "expr.style_options()"
   ]
  },
  {
   "cell_type": "code",
   "execution_count": 6,
   "metadata": {},
   "outputs": [
    {
     "data": {
      "text/html": [
       "<table><tr><th>&nbsp;</th><th>core type</th><th>sub-expressions</th><th>expression</th></tr>\n",
       "<tr><td>0</td><td>ExprTuple</td><td>1</td><td><a class=\"ProveItLink\" href=\"expr.ipynb\"><img src=\"expr.png\" style=\"display:inline;vertical-align:middle;\" /></a></td></tr>\n",
       "<tr><td>1</td><td>Lambda</td><td>parameter:&nbsp;12<br>body:&nbsp;2<br></td><td><a class=\"ProveItLink\" href=\"../59f56d60d93cd8a56ccb0e341659b2ae35fb9e120/expr.ipynb\"><img src=\"../59f56d60d93cd8a56ccb0e341659b2ae35fb9e120/expr.png\" style=\"display:inline;vertical-align:middle;\" /></a></td></tr>\n",
       "<tr><td>2</td><td>Conditional</td><td>value:&nbsp;3<br>condition:&nbsp;6<br></td><td><a class=\"ProveItLink\" href=\"../fc6addac699e92d247bcd4a03345a9b561c7a1860/expr.ipynb\"><img src=\"../fc6addac699e92d247bcd4a03345a9b561c7a1860/expr.png\" style=\"display:inline;vertical-align:middle;\" /></a></td></tr>\n",
       "<tr><td>3</td><td>Operation</td><td>operator:&nbsp;4<br>operands:&nbsp;5<br></td><td><a class=\"ProveItLink\" href=\"../307b4bb720cdbdb2163f57a4c8e4064dc9a384c50/expr.ipynb\"><img src=\"../307b4bb720cdbdb2163f57a4c8e4064dc9a384c50/expr.png\" style=\"display:inline;vertical-align:middle;\" /></a></td></tr>\n",
       "<tr><td>4</td><td>Literal</td><td></td><td><a class=\"ProveItLink\" href=\"../../../../../booleans/implication/__pv_it/common/95a8cc69d34af52c7732e4a6fefbd5b63e8d31ba0/expr.ipynb\"><img src=\"../../../../../booleans/implication/__pv_it/common/95a8cc69d34af52c7732e4a6fefbd5b63e8d31ba0/expr.png\" style=\"display:inline;vertical-align:middle;\" /></a></td></tr>\n",
       "<tr><td>5</td><td>ExprTuple</td><td>6, 7</td><td><a class=\"ProveItLink\" href=\"../b569693629cf63b1fb91eca20402f47cd9d80bee0/expr.ipynb\"><img src=\"../b569693629cf63b1fb91eca20402f47cd9d80bee0/expr.png\" style=\"display:inline;vertical-align:middle;\" /></a></td></tr>\n",
       "<tr><td>6</td><td>Operation</td><td>operator:&nbsp;9<br>operands:&nbsp;8<br></td><td><a class=\"ProveItLink\" href=\"../51a89a67bff89ccdf738a7b8869cc8d1af1824540/expr.ipynb\"><img src=\"../51a89a67bff89ccdf738a7b8869cc8d1af1824540/expr.png\" style=\"display:inline;vertical-align:middle;\" /></a></td></tr>\n",
       "<tr><td>7</td><td>Operation</td><td>operator:&nbsp;9<br>operands:&nbsp;10<br></td><td><a class=\"ProveItLink\" href=\"../f51442886e7c82cad7dd70508eefb60b406a5f4f0/expr.ipynb\"><img src=\"../f51442886e7c82cad7dd70508eefb60b406a5f4f0/expr.png\" style=\"display:inline;vertical-align:middle;\" /></a></td></tr>\n",
       "<tr><td>8</td><td>ExprTuple</td><td>12, 11</td><td><a class=\"ProveItLink\" href=\"../38c2fcd8a45c248b27f24cf997c7eb4f1a0f92490/expr.ipynb\"><img src=\"../38c2fcd8a45c248b27f24cf997c7eb4f1a0f92490/expr.png\" style=\"display:inline;vertical-align:middle;\" /></a></td></tr>\n",
       "<tr><td>9</td><td>Literal</td><td></td><td><a class=\"ProveItLink\" href=\"../../../../membership/__pv_it/common/7171deca84f71f47a6ec7696972d1632274a12880/expr.ipynb\"><img src=\"../../../../membership/__pv_it/common/7171deca84f71f47a6ec7696972d1632274a12880/expr.png\" style=\"display:inline;vertical-align:middle;\" /></a></td></tr>\n",
       "<tr><td>10</td><td>ExprTuple</td><td>12, 13</td><td><a class=\"ProveItLink\" href=\"../f138f384af5dbb61f36fc5542db3074a85ae44f70/expr.ipynb\"><img src=\"../f138f384af5dbb61f36fc5542db3074a85ae44f70/expr.png\" style=\"display:inline;vertical-align:middle;\" /></a></td></tr>\n",
       "<tr><td>11</td><td>Operation</td><td>operator:&nbsp;15<br>operands:&nbsp;14<br></td><td><a class=\"ProveItLink\" href=\"../0aa607cb32762aa6b097453a1e40a7756dad10e00/expr.ipynb\"><img src=\"../0aa607cb32762aa6b097453a1e40a7756dad10e00/expr.png\" style=\"display:inline;vertical-align:middle;\" /></a></td></tr>\n",
       "<tr><td>12</td><td>Variable</td><td></td><td><a class=\"ProveItLink\" href=\"../../../../../../__pv_it/common/a2581dc5df71d9a30bad37de14965fa5fec97a240/expr.ipynb\"><img src=\"../../../../../../__pv_it/common/a2581dc5df71d9a30bad37de14965fa5fec97a240/expr.png\" style=\"display:inline;vertical-align:middle;\" /></a></td></tr>\n",
       "<tr><td>13</td><td>Operation</td><td>operator:&nbsp;15<br>operands:&nbsp;16<br></td><td><a class=\"ProveItLink\" href=\"../8ae1d5f3afb86ce49d72c28858430a9d312b387a0/expr.ipynb\"><img src=\"../8ae1d5f3afb86ce49d72c28858430a9d312b387a0/expr.png\" style=\"display:inline;vertical-align:middle;\" /></a></td></tr>\n",
       "<tr><td>14</td><td>ExprTuple</td><td>17, 19, 21</td><td><a class=\"ProveItLink\" href=\"../ff35a66e111fa59b521b96bcce39db35d11d54050/expr.ipynb\"><img src=\"../ff35a66e111fa59b521b96bcce39db35d11d54050/expr.png\" style=\"display:inline;vertical-align:middle;\" /></a></td></tr>\n",
       "<tr><td>15</td><td>Literal</td><td></td><td><a class=\"ProveItLink\" href=\"../../../../enumeration/__pv_it/common/f7caf702081f903a6ea3d95d680568dd78698f5a0/expr.ipynb\"><img src=\"../../../../enumeration/__pv_it/common/f7caf702081f903a6ea3d95d680568dd78698f5a0/expr.png\" style=\"display:inline;vertical-align:middle;\" /></a></td></tr>\n",
       "<tr><td>16</td><td>ExprTuple</td><td>17, 18, 19, 20, 21</td><td><a class=\"ProveItLink\" href=\"../c93a51474e02b65371c32d4d5d0470a4f00ba3100/expr.ipynb\"><img src=\"../c93a51474e02b65371c32d4d5d0470a4f00ba3100/expr.png\" style=\"display:inline;vertical-align:middle;\" /></a></td></tr>\n",
       "<tr><td>17</td><td>Literal</td><td></td><td><a class=\"ProveItLink\" href=\"../../../../../../numbers/numerals/__pv_it/common/d278e359da0695d9652dd541d45264f93703e2e40/expr.ipynb\"><img src=\"../../../../../../numbers/numerals/__pv_it/common/d278e359da0695d9652dd541d45264f93703e2e40/expr.png\" style=\"display:inline;vertical-align:middle;\" /></a></td></tr>\n",
       "<tr><td>18</td><td>Literal</td><td></td><td><a class=\"ProveItLink\" href=\"../../../../../../numbers/numerals/__pv_it/common/3829356ce3fdf8f35810c63c00bc1a19e838663e0/expr.ipynb\"><img src=\"../../../../../../numbers/numerals/__pv_it/common/3829356ce3fdf8f35810c63c00bc1a19e838663e0/expr.png\" style=\"display:inline;vertical-align:middle;\" /></a></td></tr>\n",
       "<tr><td>19</td><td>Literal</td><td></td><td><a class=\"ProveItLink\" href=\"../../../../../../numbers/numerals/__pv_it/common/1477ef887611bedb97dfb89bcacde217bb43e8ed0/expr.ipynb\"><img src=\"../../../../../../numbers/numerals/__pv_it/common/1477ef887611bedb97dfb89bcacde217bb43e8ed0/expr.png\" style=\"display:inline;vertical-align:middle;\" /></a></td></tr>\n",
       "<tr><td>20</td><td>Literal</td><td></td><td><a class=\"ProveItLink\" href=\"../../../../../../numbers/numerals/__pv_it/common/de8f3e06d530f467e73bdbc965d9d86fa0f1b0db0/expr.ipynb\"><img src=\"../../../../../../numbers/numerals/__pv_it/common/de8f3e06d530f467e73bdbc965d9d86fa0f1b0db0/expr.png\" style=\"display:inline;vertical-align:middle;\" /></a></td></tr>\n",
       "<tr><td>21</td><td>Literal</td><td></td><td><a class=\"ProveItLink\" href=\"../../../../../../numbers/numerals/__pv_it/common/1468b81bd8f92360858c9ea17a01ea5385ede2690/expr.ipynb\"><img src=\"../../../../../../numbers/numerals/__pv_it/common/1468b81bd8f92360858c9ea17a01ea5385ede2690/expr.png\" style=\"display:inline;vertical-align:middle;\" /></a></td></tr>\n",
       "</table>\n"
      ],
      "text/plain": [
       "0. (x -> {(x in {1, 3, 5}) => (x in {1, 2, 3, 4, 5}) if x in {1, 3, 5}.)\n",
       "   core type: ExprTuple\n",
       "   sub-expressions: 1\n",
       "1. x -> {(x in {1, 3, 5}) => (x in {1, 2, 3, 4, 5}) if x in {1, 3, 5}.\n",
       "   core type: Lambda\n",
       "   parameter: 12\n",
       "   body: 2\n",
       "2. {(x in {1, 3, 5}) => (x in {1, 2, 3, 4, 5}) if x in {1, 3, 5}.\n",
       "   core type: Conditional\n",
       "   value: 3\n",
       "   condition: 6\n",
       "3. (x in {1, 3, 5}) => (x in {1, 2, 3, 4, 5})\n",
       "   core type: Operation\n",
       "   operator: 4\n",
       "   operands: 5\n",
       "4. =>\n",
       "   core type: Literal\n",
       "   sub-expressions: \n",
       "5. (x in {1, 3, 5}, x in {1, 2, 3, 4, 5})\n",
       "   core type: ExprTuple\n",
       "   sub-expressions: 6, 7\n",
       "6. x in {1, 3, 5}\n",
       "   core type: Operation\n",
       "   operator: 9\n",
       "   operands: 8\n",
       "7. x in {1, 2, 3, 4, 5}\n",
       "   core type: Operation\n",
       "   operator: 9\n",
       "   operands: 10\n",
       "8. (x, {1, 3, 5})\n",
       "   core type: ExprTuple\n",
       "   sub-expressions: 12, 11\n",
       "9. in\n",
       "   core type: Literal\n",
       "   sub-expressions: \n",
       "10. (x, {1, 2, 3, 4, 5})\n",
       "    core type: ExprTuple\n",
       "    sub-expressions: 12, 13\n",
       "11. {1, 3, 5}\n",
       "    core type: Operation\n",
       "    operator: 15\n",
       "    operands: 14\n",
       "12. x\n",
       "    core type: Variable\n",
       "    sub-expressions: \n",
       "13. {1, 2, 3, 4, 5}\n",
       "    core type: Operation\n",
       "    operator: 15\n",
       "    operands: 16\n",
       "14. (1, 3, 5)\n",
       "    core type: ExprTuple\n",
       "    sub-expressions: 17, 19, 21\n",
       "15. Set\n",
       "    core type: Literal\n",
       "    sub-expressions: \n",
       "16. (1, 2, 3, 4, 5)\n",
       "    core type: ExprTuple\n",
       "    sub-expressions: 17, 18, 19, 20, 21\n",
       "17. 1\n",
       "    core type: Literal\n",
       "    sub-expressions: \n",
       "18. 2\n",
       "    core type: Literal\n",
       "    sub-expressions: \n",
       "19. 3\n",
       "    core type: Literal\n",
       "    sub-expressions: \n",
       "20. 4\n",
       "    core type: Literal\n",
       "    sub-expressions: \n",
       "21. 5\n",
       "    core type: Literal\n",
       "    sub-expressions: "
      ]
     },
     "execution_count": 6,
     "metadata": {},
     "output_type": "execute_result"
    }
   ],
   "source": [
    "# display the expression information\n",
    "expr.expr_info()"
   ]
  },
  {
   "cell_type": "code",
   "execution_count": null,
   "metadata": {},
   "outputs": [],
   "source": []
  }
 ],
 "metadata": {
  "kernelspec": {
   "display_name": "Python 3",
   "language": "python",
   "name": "python3"
  }
 },
 "nbformat": 4,
 "nbformat_minor": 0
}