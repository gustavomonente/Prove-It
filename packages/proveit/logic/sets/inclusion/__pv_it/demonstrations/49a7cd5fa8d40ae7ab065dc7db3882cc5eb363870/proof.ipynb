{
 "cells": [
  {
   "cell_type": "markdown",
   "metadata": {},
   "source": [
    "Show the Proof\n",
    "========"
   ]
  },
  {
   "cell_type": "code",
   "execution_count": 1,
   "metadata": {},
   "outputs": [
    {
     "data": {
      "text/html": [
       "<table><tr><th>&nbsp;</th><th>step type</th><th>requirements</th><th>statement</th></tr>\n",
       "<tr><td><a name=\"proveit.logic.sets.inclusion.demonstrations.49a7cd5fa8d40ae7ab065dc7db3882cc5eb363870_step0\">0</a></td><td>instantiation</td><td><a href=\"#proveit.logic.sets.inclusion.demonstrations.49a7cd5fa8d40ae7ab065dc7db3882cc5eb363870_step1\">1</a>, <a href=\"#proveit.logic.sets.inclusion.demonstrations.49a7cd5fa8d40ae7ab065dc7db3882cc5eb363870_step2\">2</a></td><td><span style=\"font-size:20px;\"> <a class=\"ProveItLink\" href=\"proof.ipynb\" style=\"text-decoration: none\">&nbsp;&#x22A2;&nbsp;&nbsp;</a><a class=\"ProveItLink\" href=\"../58f22d77f5f534591b151838595732a01eedb0370/expr.ipynb\"><img src=\"../58f22d77f5f534591b151838595732a01eedb0370/expr.png\" style=\"display:inline;vertical-align:middle;\" /></a></span></td></tr>\n",
       "<tr><td>&nbsp;</td><td colspan=4 style=\"text-align:left\"><span style=\"font-size:20px;\"><a class=\"ProveItLink\" href=\"../../../../../../__pv_it/common/e4aad701f7f5516d8e7f0d805d518bf02c13322a0/expr.ipynb\"><img src=\"../../../../../../__pv_it/common/e4aad701f7f5516d8e7f0d805d518bf02c13322a0/expr.png\" style=\"display:inline;vertical-align:middle;\" /></a> : <a class=\"ProveItLink\" href=\"../5af734f2b92851c4c3e6502bb27fdec84aace15a0/expr.ipynb\"><img src=\"../5af734f2b92851c4c3e6502bb27fdec84aace15a0/expr.png\" style=\"display:inline;vertical-align:middle;\" /></a>, <a class=\"ProveItLink\" href=\"../../../../../../__pv_it/common/4eca3b30dcf58a58494e201d1b7886d8643a617b0/expr.ipynb\"><img src=\"../../../../../../__pv_it/common/4eca3b30dcf58a58494e201d1b7886d8643a617b0/expr.png\" style=\"display:inline;vertical-align:middle;\" /></a> : <a class=\"ProveItLink\" href=\"../5af734f2b92851c4c3e6502bb27fdec84aace15a0/expr.ipynb\"><img src=\"../5af734f2b92851c4c3e6502bb27fdec84aace15a0/expr.png\" style=\"display:inline;vertical-align:middle;\" /></a>, <a class=\"ProveItLink\" href=\"../../../../../../__pv_it/common/a2581dc5df71d9a30bad37de14965fa5fec97a240/expr.ipynb\"><img src=\"../../../../../../__pv_it/common/a2581dc5df71d9a30bad37de14965fa5fec97a240/expr.png\" style=\"display:inline;vertical-align:middle;\" /></a> : <a class=\"ProveItLink\" href=\"../../../../../../core_expr_types/__pv_it/common/9e6d9d5d7eeb0342cf5bca68def0eb165a1a9bb10/expr.ipynb\"><img src=\"../../../../../../core_expr_types/__pv_it/common/9e6d9d5d7eeb0342cf5bca68def0eb165a1a9bb10/expr.png\" style=\"display:inline;vertical-align:middle;\" /></a></span></td></tr><tr><td><a name=\"proveit.logic.sets.inclusion.demonstrations.49a7cd5fa8d40ae7ab065dc7db3882cc5eb363870_step1\">1</a></td><td>theorem</td><td></td><td><span style=\"font-size:20px;\"> <a class=\"ProveItLink\" href=\"../../../_theory_nbs_/proofs/fold_subset_eq/thm_proof.ipynb\" style=\"text-decoration: none\">&nbsp;&#x22A2;&nbsp;&nbsp;</a><a class=\"ProveItLink\" href=\"../../theorems/8bd4129ceadc8fdcc2276cb35423983c6739f2e70/expr.ipynb\"><img src=\"../../theorems/8bd4129ceadc8fdcc2276cb35423983c6739f2e70/expr.png\" style=\"display:inline;vertical-align:middle;\" /></a></span></td></tr>\n",
       "<tr><td>&nbsp;</td><td colspan=4 style-\"text-align:left\"><a class=\"ProveItLink\" href=\"../../../_theory_nbs_/proofs/fold_subset_eq/thm_proof.ipynb\">proveit.logic.sets.inclusion.fold_subset_eq</a></td></tr><tr><td><a name=\"proveit.logic.sets.inclusion.demonstrations.49a7cd5fa8d40ae7ab065dc7db3882cc5eb363870_step2\">2</a></td><td>generalizaton</td><td><a href=\"#proveit.logic.sets.inclusion.demonstrations.49a7cd5fa8d40ae7ab065dc7db3882cc5eb363870_step3\">3</a></td><td><span style=\"font-size:20px;\"> <a class=\"ProveItLink\" href=\"../722b2cd417cc16148e1c795bdac5e521dba7fb440/proof.ipynb\" style=\"text-decoration: none\">&nbsp;&#x22A2;&nbsp;&nbsp;</a><a class=\"ProveItLink\" href=\"../e60831e815504a75c753c0500ec15acac5eec0390/expr.ipynb\"><img src=\"../e60831e815504a75c753c0500ec15acac5eec0390/expr.png\" style=\"display:inline;vertical-align:middle;\" /></a></span></td></tr>\n",
       "<tr><td><a name=\"proveit.logic.sets.inclusion.demonstrations.49a7cd5fa8d40ae7ab065dc7db3882cc5eb363870_step3\">3</a></td><td>assumption</td><td></td><td><span style=\"font-size:20px;\"><a class=\"ProveItLink\" href=\"../007c4fe9ca77bc196f995b701e4f4f89585e3b8d0/expr.ipynb\"><img src=\"../007c4fe9ca77bc196f995b701e4f4f89585e3b8d0/expr.png\" style=\"display:inline;vertical-align:middle;\" /></a> <a class=\"ProveItLink\" href=\"../30d0cc99175f46bc0975c5fd5f0897e2735098110/proof.ipynb\" style=\"text-decoration: none\">&nbsp;&#x22A2;&nbsp;&nbsp;</a><a class=\"ProveItLink\" href=\"../007c4fe9ca77bc196f995b701e4f4f89585e3b8d0/expr.ipynb\"><img src=\"../007c4fe9ca77bc196f995b701e4f4f89585e3b8d0/expr.png\" style=\"display:inline;vertical-align:middle;\" /></a></span></td></tr>\n",
       "</table>"
      ],
      "text/plain": [
       "<proveit._core_.proof._ShowProof at 0x7f140e471f60>"
      ]
     },
     "execution_count": 1,
     "metadata": {},
     "output_type": "execute_result"
    }
   ],
   "source": [
    "import proveit\n",
    "# Automation is not needed when only showing a stored proof:\n",
    "proveit.defaults.automation = False # This will speed things up.\n",
    "proveit.defaults.inline_pngs = False # Makes files smaller.\n",
    "%show_proof"
   ]
  },
  {
   "cell_type": "code",
   "execution_count": null,
   "metadata": {},
   "outputs": [],
   "source": []
  }
 ],
 "metadata": {
  "kernelspec": {
   "display_name": "Python 3",
   "language": "python",
   "name": "python3"
  },
  "language_info": {
   "codemirror_mode": {
    "name": "ipython",
    "version": 3
   },
   "file_extension": ".py",
   "mimetype": "text/x-python",
   "name": "python",
   "nbconvert_exporter": "python",
   "pygments_lexer": "ipython3",
   "version": "3.7.3"
  }
 },
 "nbformat": 4,
 "nbformat_minor": 1
}