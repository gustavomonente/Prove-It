{
 "cells": [
  {
   "cell_type": "markdown",
   "metadata": {},
   "source": [
    "Expression of type <a class=\"ProveItLink\" href=\"../../../../../../../../doc/html/api/proveit.logic.Equals.html\">Equals</a>\n",
    "=======================\n",
    "# from the theory of <a class=\"ProveItLink\" href=\"../../../_theory_nbs_/theory.ipynb\">proveit.logic.sets.inclusion</a>"
   ]
  },
  {
   "cell_type": "code",
   "execution_count": 1,
   "metadata": {},
   "outputs": [],
   "source": [
    "import proveit\n",
    "# Automation is not needed when building an expression:\n",
    "proveit.defaults.automation = False # This will speed things up.\n",
    "proveit.defaults.inline_pngs = False # Makes files smaller.\n",
    "%load_expr # Load the stored expression as 'stored_expr'\n",
    "# import Expression classes needed to build the expression\n",
    "from proveit import ExprRange, k, x\n",
    "from proveit.core_expr_types import Len\n",
    "from proveit.logic import Equals\n",
    "from proveit.numbers import five, one, three"
   ]
  },
  {
   "cell_type": "code",
   "execution_count": 2,
   "metadata": {},
   "outputs": [
    {
     "data": {
      "text/html": [
       "<strong id=\"expr\">expr:</strong> <a class=\"ProveItLink\" href=\"expr.ipynb\"><img src=\"expr.png\" style=\"display:inline;vertical-align:middle;\" /></a><br>"
      ],
      "text/plain": [
       "expr: |(x = 1, x = 3, x = 5)| = |(1, ..k.., 3)|"
      ]
     },
     "execution_count": 2,
     "metadata": {},
     "output_type": "execute_result"
    }
   ],
   "source": [
    "# build up the expression from sub-expressions\n",
    "expr = Equals(Len([Equals(x, one), Equals(x, three), Equals(x, five)]), Len([ExprRange(k, k, one, three)]))"
   ]
  },
  {
   "cell_type": "code",
   "execution_count": 3,
   "metadata": {},
   "outputs": [
    {
     "name": "stdout",
     "output_type": "stream",
     "text": [
      "Passed sanity check: expr matches stored_expr\n"
     ]
    }
   ],
   "source": [
    "# check that the built expression is the same as the stored expression\n",
    "assert expr == stored_expr\n",
    "assert expr._style_id == stored_expr._style_id\n",
    "print(\"Passed sanity check: expr matches stored_expr\")"
   ]
  },
  {
   "cell_type": "code",
   "execution_count": 4,
   "metadata": {},
   "outputs": [
    {
     "name": "stdout",
     "output_type": "stream",
     "text": [
      "|\\left(x = 1, x = 3, x = 5\\right)| = |\\left(1, \\ldots, 3\\right)|\n"
     ]
    }
   ],
   "source": [
    "# Show the LaTeX representation of the expression for convenience if you need it.\n",
    "print(expr.latex())"
   ]
  },
  {
   "cell_type": "code",
   "execution_count": 5,
   "metadata": {},
   "outputs": [
    {
     "data": {
      "text/html": [
       "<table><tr><th>&nbsp;</th><th>core type</th><th>sub-expressions</th><th>expression</th></tr>\n",
       "<tr><td>0</td><td>Operation</td><td>operator:&nbsp;15<br>operands:&nbsp;1<br></td><td><a class=\"ProveItLink\" href=\"expr.ipynb\"><img src=\"expr.png\" style=\"display:inline;vertical-align:middle;\" /></a></td></tr>\n",
       "<tr><td>1</td><td>ExprTuple</td><td>2, 3</td><td><a class=\"ProveItLink\" href=\"../c54477eff0cca3c09e987168c31a98edf5359b120/expr.ipynb\"><img src=\"../c54477eff0cca3c09e987168c31a98edf5359b120/expr.png\" style=\"display:inline;vertical-align:middle;\" /></a></td></tr>\n",
       "<tr><td>2</td><td>Operation</td><td>operator:&nbsp;5<br>operand:&nbsp;7<br></td><td><a class=\"ProveItLink\" href=\"../153e86cd9f20aa2cb8f72345e506a6fc1f276d910/expr.ipynb\"><img src=\"../153e86cd9f20aa2cb8f72345e506a6fc1f276d910/expr.png\" style=\"display:inline;vertical-align:middle;\" /></a></td></tr>\n",
       "<tr><td>3</td><td>Operation</td><td>operator:&nbsp;5<br>operand:&nbsp;8<br></td><td><a class=\"ProveItLink\" href=\"../../../../../../numbers/numerals/decimals/__pv_it/theorems/142557f607a60409894f6174117f18dd7a1195be0/expr.ipynb\"><img src=\"../../../../../../numbers/numerals/decimals/__pv_it/theorems/142557f607a60409894f6174117f18dd7a1195be0/expr.png\" style=\"display:inline;vertical-align:middle;\" /></a></td></tr>\n",
       "<tr><td>4</td><td>ExprTuple</td><td>7</td><td><a class=\"ProveItLink\" href=\"../a76cec6c8f087a6ab9a4965f314bdae247ddc3a00/expr.ipynb\"><img src=\"../a76cec6c8f087a6ab9a4965f314bdae247ddc3a00/expr.png\" style=\"display:inline;vertical-align:middle;\" /></a></td></tr>\n",
       "<tr><td>5</td><td>Literal</td><td></td><td><a class=\"ProveItLink\" href=\"../../../../../../core_expr_types/tuples/__pv_it/common/43df765abf1294d8f1fd177863f57f08bf5ad0080/expr.ipynb\"><img src=\"../../../../../../core_expr_types/tuples/__pv_it/common/43df765abf1294d8f1fd177863f57f08bf5ad0080/expr.png\" style=\"display:inline;vertical-align:middle;\" /></a></td></tr>\n",
       "<tr><td>6</td><td>ExprTuple</td><td>8</td><td><a class=\"ProveItLink\" href=\"../../../../../../numbers/numerals/decimals/__pv_it/theorems/88126a52157e53fffa477f8719aec4485f024e440/expr.ipynb\"><img src=\"../../../../../../numbers/numerals/decimals/__pv_it/theorems/88126a52157e53fffa477f8719aec4485f024e440/expr.png\" style=\"display:inline;vertical-align:middle;\" /></a></td></tr>\n",
       "<tr><td>7</td><td>ExprTuple</td><td>9, 10, 11</td><td><a class=\"ProveItLink\" href=\"../26e5f165143ca10c29e0ef76cb10cd785a10f5a90/expr.ipynb\"><img src=\"../26e5f165143ca10c29e0ef76cb10cd785a10f5a90/expr.png\" style=\"display:inline;vertical-align:middle;\" /></a></td></tr>\n",
       "<tr><td>8</td><td>ExprTuple</td><td>12</td><td><a class=\"ProveItLink\" href=\"../../../../../../numbers/numerals/decimals/__pv_it/theorems/225a4bf1c34383e66a080d926b541ad796c29f550/expr.ipynb\"><img src=\"../../../../../../numbers/numerals/decimals/__pv_it/theorems/225a4bf1c34383e66a080d926b541ad796c29f550/expr.png\" style=\"display:inline;vertical-align:middle;\" /></a></td></tr>\n",
       "<tr><td>9</td><td>Operation</td><td>operator:&nbsp;15<br>operands:&nbsp;13<br></td><td><a class=\"ProveItLink\" href=\"../0790789eea422b6d322687698aa96247ed48ed350/expr.ipynb\"><img src=\"../0790789eea422b6d322687698aa96247ed48ed350/expr.png\" style=\"display:inline;vertical-align:middle;\" /></a></td></tr>\n",
       "<tr><td>10</td><td>Operation</td><td>operator:&nbsp;15<br>operands:&nbsp;14<br></td><td><a class=\"ProveItLink\" href=\"../471ccd2647bd223b4841f7f7fa57bf95c503dbee0/expr.ipynb\"><img src=\"../471ccd2647bd223b4841f7f7fa57bf95c503dbee0/expr.png\" style=\"display:inline;vertical-align:middle;\" /></a></td></tr>\n",
       "<tr><td>11</td><td>Operation</td><td>operator:&nbsp;15<br>operands:&nbsp;16<br></td><td><a class=\"ProveItLink\" href=\"../1d58b7abed05ee66c2bb7fcfa1ec6461c4fa5a3d0/expr.ipynb\"><img src=\"../1d58b7abed05ee66c2bb7fcfa1ec6461c4fa5a3d0/expr.png\" style=\"display:inline;vertical-align:middle;\" /></a></td></tr>\n",
       "<tr><td>12</td><td>ExprRange</td><td>lambda_map:&nbsp;17<br>start_index:&nbsp;18<br>end_index:&nbsp;19<br></td><td><a class=\"ProveItLink\" href=\"../../../../../../numbers/numerals/decimals/__pv_it/theorems/a55236f1fb415f412dd927c655faae461bad4c090/expr.ipynb\"><img src=\"../../../../../../numbers/numerals/decimals/__pv_it/theorems/a55236f1fb415f412dd927c655faae461bad4c090/expr.png\" style=\"display:inline;vertical-align:middle;\" /></a></td></tr>\n",
       "<tr><td>13</td><td>ExprTuple</td><td>20, 18</td><td><a class=\"ProveItLink\" href=\"../57512bb0dd1d4eaa5390b2ebf014fb8178e1e32a0/expr.ipynb\"><img src=\"../57512bb0dd1d4eaa5390b2ebf014fb8178e1e32a0/expr.png\" style=\"display:inline;vertical-align:middle;\" /></a></td></tr>\n",
       "<tr><td>14</td><td>ExprTuple</td><td>20, 19</td><td><a class=\"ProveItLink\" href=\"../08084c1f45c40985b52bd8b5945f964d313b8ee40/expr.ipynb\"><img src=\"../08084c1f45c40985b52bd8b5945f964d313b8ee40/expr.png\" style=\"display:inline;vertical-align:middle;\" /></a></td></tr>\n",
       "<tr><td>15</td><td>Literal</td><td></td><td><a class=\"ProveItLink\" href=\"../../../../../equality/__pv_it/common/fb96dc12b2aa8801dda64d0132b396c63d1502bb0/expr.ipynb\"><img src=\"../../../../../equality/__pv_it/common/fb96dc12b2aa8801dda64d0132b396c63d1502bb0/expr.png\" style=\"display:inline;vertical-align:middle;\" /></a></td></tr>\n",
       "<tr><td>16</td><td>ExprTuple</td><td>20, 21</td><td><a class=\"ProveItLink\" href=\"../74ffc6fb79ebac8fd0f8ae619588d911e39c61210/expr.ipynb\"><img src=\"../74ffc6fb79ebac8fd0f8ae619588d911e39c61210/expr.png\" style=\"display:inline;vertical-align:middle;\" /></a></td></tr>\n",
       "<tr><td>17</td><td>Lambda</td><td>parameter:&nbsp;22<br>body:&nbsp;22<br></td><td><a class=\"ProveItLink\" href=\"../../../../../../numbers/numerals/decimals/__pv_it/theorems/f3fe62f840bd4f6a2324bee5141c1f534c325cd30/expr.ipynb\"><img src=\"../../../../../../numbers/numerals/decimals/__pv_it/theorems/f3fe62f840bd4f6a2324bee5141c1f534c325cd30/expr.png\" style=\"display:inline;vertical-align:middle;\" /></a></td></tr>\n",
       "<tr><td>18</td><td>Literal</td><td></td><td><a class=\"ProveItLink\" href=\"../../../../../../numbers/numerals/__pv_it/common/2778428c7f555b2bdc06aa0530bc142c6e6335100/expr.ipynb\"><img src=\"../../../../../../numbers/numerals/__pv_it/common/2778428c7f555b2bdc06aa0530bc142c6e6335100/expr.png\" style=\"display:inline;vertical-align:middle;\" /></a></td></tr>\n",
       "<tr><td>19</td><td>Literal</td><td></td><td><a class=\"ProveItLink\" href=\"../../../../../../numbers/numerals/__pv_it/common/0a19a501c0770212f27a044b71e9c626b8ca0bec0/expr.ipynb\"><img src=\"../../../../../../numbers/numerals/__pv_it/common/0a19a501c0770212f27a044b71e9c626b8ca0bec0/expr.png\" style=\"display:inline;vertical-align:middle;\" /></a></td></tr>\n",
       "<tr><td>20</td><td>Variable</td><td></td><td><a class=\"ProveItLink\" href=\"../../../../../../__pv_it/common/a0d9d672aa5e272d907247690c152cc2c6daafb70/expr.ipynb\"><img src=\"../../../../../../__pv_it/common/a0d9d672aa5e272d907247690c152cc2c6daafb70/expr.png\" style=\"display:inline;vertical-align:middle;\" /></a></td></tr>\n",
       "<tr><td>21</td><td>Literal</td><td></td><td><a class=\"ProveItLink\" href=\"../../../../../../numbers/numerals/__pv_it/common/22be4c1fb377b3840c975e8e14bb0ce0d20bb1d90/expr.ipynb\"><img src=\"../../../../../../numbers/numerals/__pv_it/common/22be4c1fb377b3840c975e8e14bb0ce0d20bb1d90/expr.png\" style=\"display:inline;vertical-align:middle;\" /></a></td></tr>\n",
       "<tr><td>22</td><td>Variable</td><td></td><td><a class=\"ProveItLink\" href=\"../../../../../../__pv_it/common/63b7c64bf9ec7a04ecc396c7a1670f3f12fb59490/expr.ipynb\"><img src=\"../../../../../../__pv_it/common/63b7c64bf9ec7a04ecc396c7a1670f3f12fb59490/expr.png\" style=\"display:inline;vertical-align:middle;\" /></a></td></tr>\n",
       "</table>\n"
      ],
      "text/plain": [
       "0. |(x = 1, x = 3, x = 5)| = |(1, ..k.., 3)|\n",
       "   core type: Operation\n",
       "   operator: 15\n",
       "   operands: 1\n",
       "1. (|(x = 1, x = 3, x = 5)|, |(1, ..k.., 3)|)\n",
       "   core type: ExprTuple\n",
       "   sub-expressions: 2, 3\n",
       "2. |(x = 1, x = 3, x = 5)|\n",
       "   core type: Operation\n",
       "   operator: 5\n",
       "   operand: 7\n",
       "3. |(1, ..k.., 3)|\n",
       "   core type: Operation\n",
       "   operator: 5\n",
       "   operand: 8\n",
       "4. ((x = 1, x = 3, x = 5))\n",
       "   core type: ExprTuple\n",
       "   sub-expressions: 7\n",
       "5. length\n",
       "   core type: Literal\n",
       "   sub-expressions: \n",
       "6. ((1, ..k.., 3))\n",
       "   core type: ExprTuple\n",
       "   sub-expressions: 8\n",
       "7. (x = 1, x = 3, x = 5)\n",
       "   core type: ExprTuple\n",
       "   sub-expressions: 9, 10, 11\n",
       "8. (1, ..k.., 3)\n",
       "   core type: ExprTuple\n",
       "   sub-expressions: 12\n",
       "9. x = 1\n",
       "   core type: Operation\n",
       "   operator: 15\n",
       "   operands: 13\n",
       "10. x = 3\n",
       "    core type: Operation\n",
       "    operator: 15\n",
       "    operands: 14\n",
       "11. x = 5\n",
       "    core type: Operation\n",
       "    operator: 15\n",
       "    operands: 16\n",
       "12. 1, ..k.., 3\n",
       "    core type: ExprRange\n",
       "    lambda_map: 17\n",
       "    start_index: 18\n",
       "    end_index: 19\n",
       "13. (x, 1)\n",
       "    core type: ExprTuple\n",
       "    sub-expressions: 20, 18\n",
       "14. (x, 3)\n",
       "    core type: ExprTuple\n",
       "    sub-expressions: 20, 19\n",
       "15. =\n",
       "    core type: Literal\n",
       "    sub-expressions: \n",
       "16. (x, 5)\n",
       "    core type: ExprTuple\n",
       "    sub-expressions: 20, 21\n",
       "17. k -> k\n",
       "    core type: Lambda\n",
       "    parameter: 22\n",
       "    body: 22\n",
       "18. 1\n",
       "    core type: Literal\n",
       "    sub-expressions: \n",
       "19. 3\n",
       "    core type: Literal\n",
       "    sub-expressions: \n",
       "20. x\n",
       "    core type: Variable\n",
       "    sub-expressions: \n",
       "21. 5\n",
       "    core type: Literal\n",
       "    sub-expressions: \n",
       "22. k\n",
       "    core type: Variable\n",
       "    sub-expressions: "
      ]
     },
     "execution_count": 5,
     "metadata": {},
     "output_type": "execute_result"
    }
   ],
   "source": [
    "# display the expression information\n",
    "expr.expr_info()"
   ]
  },
  {
   "cell_type": "code",
   "execution_count": null,
   "metadata": {},
   "outputs": [],
   "source": []
  }
 ],
 "metadata": {
  "kernelspec": {
   "display_name": "Python 3",
   "language": "python",
   "name": "python3"
  }
 },
 "nbformat": 4,
 "nbformat_minor": 0
}