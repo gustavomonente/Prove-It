{
 "cells": [
  {
   "cell_type": "markdown",
   "metadata": {},
   "source": [
    "Show the Proof\n",
    "========"
   ]
  },
  {
   "cell_type": "code",
   "execution_count": 1,
   "metadata": {},
   "outputs": [
    {
     "data": {
      "text/html": [
       "<table><tr><th>&nbsp;</th><th>step type</th><th>requirements</th><th>statement</th></tr>\n",
       "<tr><td><a name=\"proveit.logic.sets.inclusion.demonstrations.7d436c273694fffd7c67b9c706fb8ec5927aabd60_step0\">0</a></td><td>instantiation</td><td><a href=\"#proveit.logic.sets.inclusion.demonstrations.7d436c273694fffd7c67b9c706fb8ec5927aabd60_step1\">1</a>, <a href=\"#proveit.logic.sets.inclusion.demonstrations.7d436c273694fffd7c67b9c706fb8ec5927aabd60_step2\">2</a></td><td><span style=\"font-size:20px;\"><a class=\"ProveItLink\" href=\"../434f35ac161eed6b65064c7893ef82dd8d957f2d0/expr.ipynb\"><img src=\"../434f35ac161eed6b65064c7893ef82dd8d957f2d0/expr.png\" style=\"display:inline;vertical-align:middle;\" /></a> <a class=\"ProveItLink\" href=\"proof.ipynb\" style=\"text-decoration: none\">&nbsp;&#x22A2;&nbsp;&nbsp;</a><a class=\"ProveItLink\" href=\"../8f892635517f67c0bdfe25e79dab25db1d7641f70/expr.ipynb\"><img src=\"../8f892635517f67c0bdfe25e79dab25db1d7641f70/expr.png\" style=\"display:inline;vertical-align:middle;\" /></a></span></td></tr>\n",
       "<tr><td>&nbsp;</td><td colspan=4 style=\"text-align:left\"><span style=\"font-size:20px;\"><a class=\"ProveItLink\" href=\"../../../../../../__pv_it/common/09585084922504426caf1db2ff588a23a0932a960/expr.ipynb\"><img src=\"../../../../../../__pv_it/common/09585084922504426caf1db2ff588a23a0932a960/expr.png\" style=\"display:inline;vertical-align:middle;\" /></a> : <a class=\"ProveItLink\" href=\"../72e6f574752c8ce4d808eda17b1ff00a718758750/expr.ipynb\"><img src=\"../72e6f574752c8ce4d808eda17b1ff00a718758750/expr.png\" style=\"display:inline;vertical-align:middle;\" /></a>, <a class=\"ProveItLink\" href=\"../../../../../../__pv_it/common/a9162d1c3cc0470c02e5daf414500903a7a419230/expr.ipynb\"><img src=\"../../../../../../__pv_it/common/a9162d1c3cc0470c02e5daf414500903a7a419230/expr.png\" style=\"display:inline;vertical-align:middle;\" /></a> : <a class=\"ProveItLink\" href=\"../46222b01e31bd8038ead234954e45e7eb79c609a0/expr.ipynb\"><img src=\"../46222b01e31bd8038ead234954e45e7eb79c609a0/expr.png\" style=\"display:inline;vertical-align:middle;\" /></a></span></td></tr><tr><td><a name=\"proveit.logic.sets.inclusion.demonstrations.7d436c273694fffd7c67b9c706fb8ec5927aabd60_step1\">1</a></td><td>theorem</td><td></td><td><span style=\"font-size:20px;\"> <a class=\"ProveItLink\" href=\"../../../_theory_nbs_/proofs/reverse_subset_eq/thm_proof.ipynb\" style=\"text-decoration: none\">&nbsp;&#x22A2;&nbsp;&nbsp;</a><a class=\"ProveItLink\" href=\"../../theorems/53f9254fde517b75144067e58385603c748ee09d0/expr.ipynb\"><img src=\"../../theorems/53f9254fde517b75144067e58385603c748ee09d0/expr.png\" style=\"display:inline;vertical-align:middle;\" /></a></span></td></tr>\n",
       "<tr><td>&nbsp;</td><td colspan=4 style-\"text-align:left\"><a class=\"ProveItLink\" href=\"../../../_theory_nbs_/proofs/reverse_subset_eq/thm_proof.ipynb\">proveit.logic.sets.inclusion.reverse_subset_eq</a></td></tr><tr><td><a name=\"proveit.logic.sets.inclusion.demonstrations.7d436c273694fffd7c67b9c706fb8ec5927aabd60_step2\">2</a></td><td>assumption</td><td></td><td><span style=\"font-size:20px;\"><a class=\"ProveItLink\" href=\"../434f35ac161eed6b65064c7893ef82dd8d957f2d0/expr.ipynb\"><img src=\"../434f35ac161eed6b65064c7893ef82dd8d957f2d0/expr.png\" style=\"display:inline;vertical-align:middle;\" /></a> <a class=\"ProveItLink\" href=\"../03c3bffaba7dd3e3cd5a47bc908d28b99adfa5de0/proof.ipynb\" style=\"text-decoration: none\">&nbsp;&#x22A2;&nbsp;&nbsp;</a><a class=\"ProveItLink\" href=\"../434f35ac161eed6b65064c7893ef82dd8d957f2d0/expr.ipynb\"><img src=\"../434f35ac161eed6b65064c7893ef82dd8d957f2d0/expr.png\" style=\"display:inline;vertical-align:middle;\" /></a></span></td></tr>\n",
       "</table>"
      ],
      "text/plain": [
       "<proveit._core_.proof._ShowProof at 0x7f3809c50e48>"
      ]
     },
     "execution_count": 1,
     "metadata": {},
     "output_type": "execute_result"
    }
   ],
   "source": [
    "import proveit\n",
    "# Automation is not needed when only showing a stored proof:\n",
    "proveit.defaults.automation = False # This will speed things up.\n",
    "proveit.defaults.inline_pngs = False # Makes files smaller.\n",
    "%show_proof"
   ]
  },
  {
   "cell_type": "code",
   "execution_count": null,
   "metadata": {},
   "outputs": [],
   "source": []
  }
 ],
 "metadata": {
  "kernelspec": {
   "display_name": "Python 3",
   "language": "python",
   "name": "python3"
  }
 },
 "nbformat": 4,
 "nbformat_minor": 0
}