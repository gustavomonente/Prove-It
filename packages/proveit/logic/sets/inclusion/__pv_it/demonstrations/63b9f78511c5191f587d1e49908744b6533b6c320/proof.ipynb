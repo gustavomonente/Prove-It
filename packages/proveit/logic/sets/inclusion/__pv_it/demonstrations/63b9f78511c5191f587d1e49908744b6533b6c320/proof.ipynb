{
 "cells": [
  {
   "cell_type": "markdown",
   "metadata": {},
   "source": [
    "Show the Proof\n",
    "========"
   ]
  },
  {
   "cell_type": "code",
   "execution_count": 1,
   "metadata": {},
   "outputs": [
    {
     "data": {
      "text/html": [
       "<table><tr><th>&nbsp;</th><th>step type</th><th>requirements</th><th>statement</th></tr>\n",
       "<tr><td><a name=\"proveit.logic.sets.inclusion.demonstrations.63b9f78511c5191f587d1e49908744b6533b6c320_step0\">0</a></td><td>instantiation</td><td><a href=\"#proveit.logic.sets.inclusion.demonstrations.63b9f78511c5191f587d1e49908744b6533b6c320_step1\">1</a>, <a href=\"#proveit.logic.sets.inclusion.demonstrations.63b9f78511c5191f587d1e49908744b6533b6c320_step2\">2</a>, <a href=\"#proveit.logic.sets.inclusion.demonstrations.63b9f78511c5191f587d1e49908744b6533b6c320_step3\">3</a></td><td><span style=\"font-size:20px;\"><a class=\"ProveItLink\" href=\"../../theorems/81f49a06ba9c23797bdfafb3065c419bc23ed9230/expr.ipynb\"><img src=\"../../theorems/81f49a06ba9c23797bdfafb3065c419bc23ed9230/expr.png\" style=\"display:inline;vertical-align:middle;\" /></a>, <a class=\"ProveItLink\" href=\"../aa07d04aa34af5def795608f4ebeb61718afb3d10/expr.ipynb\"><img src=\"../aa07d04aa34af5def795608f4ebeb61718afb3d10/expr.png\" style=\"display:inline;vertical-align:middle;\" /></a> <a class=\"ProveItLink\" href=\"proof.ipynb\" style=\"text-decoration: none\">&nbsp;&#x22A2;&nbsp;&nbsp;</a><a class=\"ProveItLink\" href=\"../1bcedf908b86005c9ec3bec6d7e05ec7720fbfc30/expr.ipynb\"><img src=\"../1bcedf908b86005c9ec3bec6d7e05ec7720fbfc30/expr.png\" style=\"display:inline;vertical-align:middle;\" /></a></span></td></tr>\n",
       "<tr><td>&nbsp;</td><td colspan=4 style=\"text-align:left\"><span style=\"font-size:20px;\"><a class=\"ProveItLink\" href=\"../84fb6bfbf82ffd89b2e4fb128d4f37cc62a695fa0/expr.ipynb\"><img src=\"../84fb6bfbf82ffd89b2e4fb128d4f37cc62a695fa0/expr.png\" style=\"display:inline;vertical-align:middle;\" /></a> : <a class=\"ProveItLink\" href=\"../c9907548a0b1274854d1d3690a2e7df96c76ece80/expr.ipynb\"><img src=\"../c9907548a0b1274854d1d3690a2e7df96c76ece80/expr.png\" style=\"display:inline;vertical-align:middle;\" /></a>, <a class=\"ProveItLink\" href=\"../../../../../../__pv_it/common/a0d9d672aa5e272d907247690c152cc2c6daafb70/expr.ipynb\"><img src=\"../../../../../../__pv_it/common/a0d9d672aa5e272d907247690c152cc2c6daafb70/expr.png\" style=\"display:inline;vertical-align:middle;\" /></a> : <a class=\"ProveItLink\" href=\"../../../../../../__pv_it/common/a9162d1c3cc0470c02e5daf414500903a7a419230/expr.ipynb\"><img src=\"../../../../../../__pv_it/common/a9162d1c3cc0470c02e5daf414500903a7a419230/expr.png\" style=\"display:inline;vertical-align:middle;\" /></a>, <a class=\"ProveItLink\" href=\"../../../../../../__pv_it/common/ff7dba4ef0bbe791ab573bf2d9c220a304399ac80/expr.ipynb\"><img src=\"../../../../../../__pv_it/common/ff7dba4ef0bbe791ab573bf2d9c220a304399ac80/expr.png\" style=\"display:inline;vertical-align:middle;\" /></a> : <a class=\"ProveItLink\" href=\"../../../../../../__pv_it/common/8d36d28f3636cdaa66f8b7d56eb3bbf0b50f70200/expr.ipynb\"><img src=\"../../../../../../__pv_it/common/8d36d28f3636cdaa66f8b7d56eb3bbf0b50f70200/expr.png\" style=\"display:inline;vertical-align:middle;\" /></a></span></td></tr><tr><td><a name=\"proveit.logic.sets.inclusion.demonstrations.63b9f78511c5191f587d1e49908744b6533b6c320_step1\">1</a></td><td>theorem</td><td></td><td><span style=\"font-size:20px;\"> <a class=\"ProveItLink\" href=\"../../../../../equality/_theory_nbs_/proofs/sub_right_side_into/thm_proof.ipynb\" style=\"text-decoration: none\">&nbsp;&#x22A2;&nbsp;&nbsp;</a><a class=\"ProveItLink\" href=\"../../../../../equality/__pv_it/theorems/7a9b2c4886327c7a880f6690c6b8bb5488c2412c0/expr.ipynb\"><img src=\"../../../../../equality/__pv_it/theorems/7a9b2c4886327c7a880f6690c6b8bb5488c2412c0/expr.png\" style=\"display:inline;vertical-align:middle;\" /></a></span></td></tr>\n",
       "<tr><td>&nbsp;</td><td colspan=4 style-\"text-align:left\"><a class=\"ProveItLink\" href=\"../../../../../equality/_theory_nbs_/proofs/sub_right_side_into/thm_proof.ipynb\">proveit.logic.equality.sub_right_side_into</a></td></tr><tr><td><a name=\"proveit.logic.sets.inclusion.demonstrations.63b9f78511c5191f587d1e49908744b6533b6c320_step2\">2</a></td><td>assumption</td><td></td><td><span style=\"font-size:20px;\"><a class=\"ProveItLink\" href=\"../../theorems/81f49a06ba9c23797bdfafb3065c419bc23ed9230/expr.ipynb\"><img src=\"../../theorems/81f49a06ba9c23797bdfafb3065c419bc23ed9230/expr.png\" style=\"display:inline;vertical-align:middle;\" /></a> <a class=\"ProveItLink\" href=\"../4b01a0767344c7ced5782ca7f3a2b4796e1e524f0/proof.ipynb\" style=\"text-decoration: none\">&nbsp;&#x22A2;&nbsp;&nbsp;</a><a class=\"ProveItLink\" href=\"../../theorems/81f49a06ba9c23797bdfafb3065c419bc23ed9230/expr.ipynb\"><img src=\"../../theorems/81f49a06ba9c23797bdfafb3065c419bc23ed9230/expr.png\" style=\"display:inline;vertical-align:middle;\" /></a></span></td></tr>\n",
       "<tr><td><a name=\"proveit.logic.sets.inclusion.demonstrations.63b9f78511c5191f587d1e49908744b6533b6c320_step3\">3</a></td><td>assumption</td><td></td><td><span style=\"font-size:20px;\"><a class=\"ProveItLink\" href=\"../aa07d04aa34af5def795608f4ebeb61718afb3d10/expr.ipynb\"><img src=\"../aa07d04aa34af5def795608f4ebeb61718afb3d10/expr.png\" style=\"display:inline;vertical-align:middle;\" /></a> <a class=\"ProveItLink\" href=\"../3342f38e97b0c1432f793c21476d742645b90ec00/proof.ipynb\" style=\"text-decoration: none\">&nbsp;&#x22A2;&nbsp;&nbsp;</a><a class=\"ProveItLink\" href=\"../aa07d04aa34af5def795608f4ebeb61718afb3d10/expr.ipynb\"><img src=\"../aa07d04aa34af5def795608f4ebeb61718afb3d10/expr.png\" style=\"display:inline;vertical-align:middle;\" /></a></span></td></tr>\n",
       "</table>"
      ],
      "text/plain": [
       "<proveit._core_.proof._ShowProof at 0x7f1cf5c55748>"
      ]
     },
     "execution_count": 1,
     "metadata": {},
     "output_type": "execute_result"
    }
   ],
   "source": [
    "import proveit\n",
    "# Automation is not needed when only showing a stored proof:\n",
    "proveit.defaults.automation = False # This will speed things up.\n",
    "proveit.defaults.inline_pngs = False # Makes files smaller.\n",
    "%show_proof"
   ]
  },
  {
   "cell_type": "code",
   "execution_count": null,
   "metadata": {},
   "outputs": [],
   "source": []
  }
 ],
 "metadata": {
  "kernelspec": {
   "display_name": "Python 3",
   "language": "python",
   "name": "python3"
  }
 },
 "nbformat": 4,
 "nbformat_minor": 0
}