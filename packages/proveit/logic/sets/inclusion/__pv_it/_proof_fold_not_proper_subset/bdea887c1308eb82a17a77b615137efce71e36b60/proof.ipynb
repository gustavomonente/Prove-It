{
 "cells": [
  {
   "cell_type": "markdown",
   "metadata": {},
   "source": [
    "Show the Proof\n",
    "========"
   ]
  },
  {
   "cell_type": "code",
   "execution_count": 1,
   "metadata": {},
   "outputs": [
    {
     "data": {
      "text/html": [
       "<table><tr><th>&nbsp;</th><th>step type</th><th>requirements</th><th>statement</th></tr>\n",
       "<tr><td><a name=\"proveit.logic.sets.inclusion._proof_fold_not_proper_subset.bdea887c1308eb82a17a77b615137efce71e36b60_step0\">0</a></td><td>generalizaton</td><td><a href=\"#proveit.logic.sets.inclusion._proof_fold_not_proper_subset.bdea887c1308eb82a17a77b615137efce71e36b60_step1\">1</a></td><td><span style=\"font-size:20px;\"> <a class=\"ProveItLink\" href=\"proof.ipynb\" style=\"text-decoration: none\">&nbsp;&#x22A2;&nbsp;&nbsp;</a><a class=\"ProveItLink\" href=\"../../theorems/9ab9abec72e591bf6a0760fa1eb384a4ee8b906c0/expr.ipynb\"><img src=\"../../theorems/9ab9abec72e591bf6a0760fa1eb384a4ee8b906c0/expr.png\" style=\"display:inline;vertical-align:middle;\" /></a></span></td></tr>\n",
       "<tr><td><a name=\"proveit.logic.sets.inclusion._proof_fold_not_proper_subset.bdea887c1308eb82a17a77b615137efce71e36b60_step1\">1</a></td><td>instantiation</td><td><a href=\"#proveit.logic.sets.inclusion._proof_fold_not_proper_subset.bdea887c1308eb82a17a77b615137efce71e36b60_step2\">2</a>, <a href=\"#proveit.logic.sets.inclusion._proof_fold_not_proper_subset.bdea887c1308eb82a17a77b615137efce71e36b60_step3\">3</a>, <a href=\"#proveit.logic.sets.inclusion._proof_fold_not_proper_subset.bdea887c1308eb82a17a77b615137efce71e36b60_step4\">4</a></td><td><span style=\"font-size:20px;\"><a class=\"ProveItLink\" href=\"../../theorems/bf101b61b8607a203631a70dc26f03bf7a6a740f0/expr.ipynb\"><img src=\"../../theorems/bf101b61b8607a203631a70dc26f03bf7a6a740f0/expr.png\" style=\"display:inline;vertical-align:middle;\" /></a> <a class=\"ProveItLink\" href=\"../4f3bd7b676449add3ad577a2730e773c3c81167d0/proof.ipynb\" style=\"text-decoration: none\">&nbsp;&#x22A2;&nbsp;&nbsp;</a><a class=\"ProveItLink\" href=\"../../theorems/d19cf2e42045d2f14790f400adbaef773c8314670/expr.ipynb\"><img src=\"../../theorems/d19cf2e42045d2f14790f400adbaef773c8314670/expr.png\" style=\"display:inline;vertical-align:middle;\" /></a></span></td></tr>\n",
       "<tr><td>&nbsp;</td><td colspan=4 style=\"text-align:left\"><span style=\"font-size:20px;\"><a class=\"ProveItLink\" href=\"../../../../../../__pv_it/common/d5fc3066299847984076662ce51556220bdb6cfb0/expr.ipynb\"><img src=\"../../../../../../__pv_it/common/d5fc3066299847984076662ce51556220bdb6cfb0/expr.png\" style=\"display:inline;vertical-align:middle;\" /></a> : <a class=\"ProveItLink\" href=\"../../theorems/d19cf2e42045d2f14790f400adbaef773c8314670/expr.ipynb\"><img src=\"../../theorems/d19cf2e42045d2f14790f400adbaef773c8314670/expr.png\" style=\"display:inline;vertical-align:middle;\" /></a>, <a class=\"ProveItLink\" href=\"../../../../../../__pv_it/common/50527aea954422d65ebe44b8de200683294751540/expr.ipynb\"><img src=\"../../../../../../__pv_it/common/50527aea954422d65ebe44b8de200683294751540/expr.png\" style=\"display:inline;vertical-align:middle;\" /></a> : <a class=\"ProveItLink\" href=\"../../theorems/bf101b61b8607a203631a70dc26f03bf7a6a740f0/expr.ipynb\"><img src=\"../../theorems/bf101b61b8607a203631a70dc26f03bf7a6a740f0/expr.png\" style=\"display:inline;vertical-align:middle;\" /></a></span></td></tr><tr><td><a name=\"proveit.logic.sets.inclusion._proof_fold_not_proper_subset.bdea887c1308eb82a17a77b615137efce71e36b60_step2\">2</a></td><td>theorem</td><td></td><td><span style=\"font-size:20px;\"> <a class=\"ProveItLink\" href=\"../../../../../equality/_theory_nbs_/proofs/lhs_via_equality/thm_proof.ipynb\" style=\"text-decoration: none\">&nbsp;&#x22A2;&nbsp;&nbsp;</a><a class=\"ProveItLink\" href=\"../../../../../equality/__pv_it/theorems/fd1735c228dc89ed3ff97dbaf65fa21ba6757a2d0/expr.ipynb\"><img src=\"../../../../../equality/__pv_it/theorems/fd1735c228dc89ed3ff97dbaf65fa21ba6757a2d0/expr.png\" style=\"display:inline;vertical-align:middle;\" /></a></span></td></tr>\n",
       "<tr><td>&nbsp;</td><td colspan=4 style-\"text-align:left\"><a class=\"ProveItLink\" href=\"../../../../../equality/_theory_nbs_/proofs/lhs_via_equality/thm_proof.ipynb\">proveit.logic.equality.lhs_via_equality</a></td></tr><tr><td><a name=\"proveit.logic.sets.inclusion._proof_fold_not_proper_subset.bdea887c1308eb82a17a77b615137efce71e36b60_step3\">3</a></td><td>assumption</td><td></td><td><span style=\"font-size:20px;\"><a class=\"ProveItLink\" href=\"../../theorems/bf101b61b8607a203631a70dc26f03bf7a6a740f0/expr.ipynb\"><img src=\"../../theorems/bf101b61b8607a203631a70dc26f03bf7a6a740f0/expr.png\" style=\"display:inline;vertical-align:middle;\" /></a> <a class=\"ProveItLink\" href=\"../c6da6da336a580fd1ba714067b32732bb279faff0/proof.ipynb\" style=\"text-decoration: none\">&nbsp;&#x22A2;&nbsp;&nbsp;</a><a class=\"ProveItLink\" href=\"../../theorems/bf101b61b8607a203631a70dc26f03bf7a6a740f0/expr.ipynb\"><img src=\"../../theorems/bf101b61b8607a203631a70dc26f03bf7a6a740f0/expr.png\" style=\"display:inline;vertical-align:middle;\" /></a></span></td></tr>\n",
       "<tr><td><a name=\"proveit.logic.sets.inclusion._proof_fold_not_proper_subset.bdea887c1308eb82a17a77b615137efce71e36b60_step4\">4</a></td><td>instantiation</td><td><a href=\"#proveit.logic.sets.inclusion._proof_fold_not_proper_subset.bdea887c1308eb82a17a77b615137efce71e36b60_step5\">5</a></td><td><span style=\"font-size:20px;\"> <a class=\"ProveItLink\" href=\"../c0140a8d9b752aed11ebeae2da55bfd477aab7790/proof.ipynb\" style=\"text-decoration: none\">&nbsp;&#x22A2;&nbsp;&nbsp;</a><a class=\"ProveItLink\" href=\"../../axioms/aec0aee2aeac9500493552bfa9f03f57f49160580/expr.ipynb\"><img src=\"../../axioms/aec0aee2aeac9500493552bfa9f03f57f49160580/expr.png\" style=\"display:inline;vertical-align:middle;\" /></a></span></td></tr>\n",
       "<tr><td>&nbsp;</td><td colspan=4 style=\"text-align:left\"><span style=\"font-size:20px;\"><a class=\"ProveItLink\" href=\"../../../../../../__pv_it/common/e4aad701f7f5516d8e7f0d805d518bf02c13322a0/expr.ipynb\"><img src=\"../../../../../../__pv_it/common/e4aad701f7f5516d8e7f0d805d518bf02c13322a0/expr.png\" style=\"display:inline;vertical-align:middle;\" /></a> : <a class=\"ProveItLink\" href=\"../../../../../../__pv_it/common/e4aad701f7f5516d8e7f0d805d518bf02c13322a0/expr.ipynb\"><img src=\"../../../../../../__pv_it/common/e4aad701f7f5516d8e7f0d805d518bf02c13322a0/expr.png\" style=\"display:inline;vertical-align:middle;\" /></a>, <a class=\"ProveItLink\" href=\"../../../../../../__pv_it/common/4eca3b30dcf58a58494e201d1b7886d8643a617b0/expr.ipynb\"><img src=\"../../../../../../__pv_it/common/4eca3b30dcf58a58494e201d1b7886d8643a617b0/expr.png\" style=\"display:inline;vertical-align:middle;\" /></a> : <a class=\"ProveItLink\" href=\"../../../../../../__pv_it/common/4eca3b30dcf58a58494e201d1b7886d8643a617b0/expr.ipynb\"><img src=\"../../../../../../__pv_it/common/4eca3b30dcf58a58494e201d1b7886d8643a617b0/expr.png\" style=\"display:inline;vertical-align:middle;\" /></a></span></td></tr><tr><td><a name=\"proveit.logic.sets.inclusion._proof_fold_not_proper_subset.bdea887c1308eb82a17a77b615137efce71e36b60_step5\">5</a></td><td>axiom</td><td></td><td><span style=\"font-size:20px;\"> <a class=\"ProveItLink\" href=\"../../../_theory_nbs_/axioms.ipynb#not_proper_subset_def\" style=\"text-decoration: none\">&nbsp;&#x22A2;&nbsp;&nbsp;</a><a class=\"ProveItLink\" href=\"../../axioms/bcdc43d7690485e4b19a3a7b99db8864dac8e5470/expr.ipynb\"><img src=\"../../axioms/bcdc43d7690485e4b19a3a7b99db8864dac8e5470/expr.png\" style=\"display:inline;vertical-align:middle;\" /></a></span></td></tr>\n",
       "<tr><td>&nbsp;</td><td colspan=4 style-\"text-align:left\"><a class=\"ProveItLink\" href=\"../../../_theory_nbs_/axioms.ipynb#not_proper_subset_def\">proveit.logic.sets.inclusion.not_proper_subset_def</a></td></tr></table>"
      ],
      "text/plain": [
       "<proveit._core_.proof._ShowProof at 0x7effac3e2080>"
      ]
     },
     "execution_count": 1,
     "metadata": {},
     "output_type": "execute_result"
    }
   ],
   "source": [
    "import proveit\n",
    "# Automation is not needed when only showing a stored proof:\n",
    "proveit.defaults.automation = False # This will speed things up.\n",
    "proveit.defaults.inline_pngs = False # Makes files smaller.\n",
    "%show_proof"
   ]
  },
  {
   "cell_type": "code",
   "execution_count": null,
   "metadata": {},
   "outputs": [],
   "source": []
  }
 ],
 "metadata": {
  "kernelspec": {
   "display_name": "Python 3",
   "language": "python",
   "name": "python3"
  },
  "language_info": {
   "codemirror_mode": {
    "name": "ipython",
    "version": 3
   },
   "file_extension": ".py",
   "mimetype": "text/x-python",
   "name": "python",
   "nbconvert_exporter": "python",
   "pygments_lexer": "ipython3",
   "version": "3.7.3"
  }
 },
 "nbformat": 4,
 "nbformat_minor": 1
}