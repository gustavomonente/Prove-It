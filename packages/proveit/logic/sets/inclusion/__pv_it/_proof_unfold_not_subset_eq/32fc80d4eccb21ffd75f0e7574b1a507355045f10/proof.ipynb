{
 "cells": [
  {
   "cell_type": "markdown",
   "metadata": {},
   "source": [
    "Show the Proof\n",
    "========"
   ]
  },
  {
   "cell_type": "code",
   "execution_count": 1,
   "metadata": {},
   "outputs": [
    {
     "data": {
      "text/html": [
       "<table><tr><th>&nbsp;</th><th>step type</th><th>requirements</th><th>statement</th></tr>\n",
       "<tr><td><a name=\"proveit.logic.sets.inclusion._proof_unfold_not_subset_eq.32fc80d4eccb21ffd75f0e7574b1a507355045f10_step0\">0</a></td><td>generalizaton</td><td><a href=\"#proveit.logic.sets.inclusion._proof_unfold_not_subset_eq.32fc80d4eccb21ffd75f0e7574b1a507355045f10_step1\">1</a></td><td><span style=\"font-size:20px;\"> <a class=\"ProveItLink\" href=\"proof.ipynb\" style=\"text-decoration: none\">&nbsp;&#x22A2;&nbsp;&nbsp;</a><a class=\"ProveItLink\" href=\"../../theorems/d5839cd4789a5b340b1a12224c2ca17130b297420/expr.ipynb\"><img src=\"../../theorems/d5839cd4789a5b340b1a12224c2ca17130b297420/expr.png\" style=\"display:inline;vertical-align:middle;\" /></a></span></td></tr>\n",
       "<tr><td><a name=\"proveit.logic.sets.inclusion._proof_unfold_not_subset_eq.32fc80d4eccb21ffd75f0e7574b1a507355045f10_step1\">1</a></td><td>instantiation</td><td><a href=\"#proveit.logic.sets.inclusion._proof_unfold_not_subset_eq.32fc80d4eccb21ffd75f0e7574b1a507355045f10_step2\">2</a>, <a href=\"#proveit.logic.sets.inclusion._proof_unfold_not_subset_eq.32fc80d4eccb21ffd75f0e7574b1a507355045f10_step3\">3</a>, <a href=\"#proveit.logic.sets.inclusion._proof_unfold_not_subset_eq.32fc80d4eccb21ffd75f0e7574b1a507355045f10_step4\">4</a></td><td><span style=\"font-size:20px;\"><a class=\"ProveItLink\" href=\"../../theorems/8d2cbbec40a4ad08a3aedb3b594f6316ead07bb90/expr.ipynb\"><img src=\"../../theorems/8d2cbbec40a4ad08a3aedb3b594f6316ead07bb90/expr.png\" style=\"display:inline;vertical-align:middle;\" /></a> <a class=\"ProveItLink\" href=\"../a022a4cf295846f7e052c64e710af23b604c28d60/proof.ipynb\" style=\"text-decoration: none\">&nbsp;&#x22A2;&nbsp;&nbsp;</a><a class=\"ProveItLink\" href=\"../../theorems/db382336d3c796a5a27c81684528f4ff7f12b6cb0/expr.ipynb\"><img src=\"../../theorems/db382336d3c796a5a27c81684528f4ff7f12b6cb0/expr.png\" style=\"display:inline;vertical-align:middle;\" /></a></span></td></tr>\n",
       "<tr><td>&nbsp;</td><td colspan=4 style=\"text-align:left\"><span style=\"font-size:20px;\"><a class=\"ProveItLink\" href=\"../../../../../../__pv_it/common/d5fc3066299847984076662ce51556220bdb6cfb0/expr.ipynb\"><img src=\"../../../../../../__pv_it/common/d5fc3066299847984076662ce51556220bdb6cfb0/expr.png\" style=\"display:inline;vertical-align:middle;\" /></a> : <a class=\"ProveItLink\" href=\"../../theorems/8d2cbbec40a4ad08a3aedb3b594f6316ead07bb90/expr.ipynb\"><img src=\"../../theorems/8d2cbbec40a4ad08a3aedb3b594f6316ead07bb90/expr.png\" style=\"display:inline;vertical-align:middle;\" /></a>, <a class=\"ProveItLink\" href=\"../../../../../../__pv_it/common/50527aea954422d65ebe44b8de200683294751540/expr.ipynb\"><img src=\"../../../../../../__pv_it/common/50527aea954422d65ebe44b8de200683294751540/expr.png\" style=\"display:inline;vertical-align:middle;\" /></a> : <a class=\"ProveItLink\" href=\"../../theorems/db382336d3c796a5a27c81684528f4ff7f12b6cb0/expr.ipynb\"><img src=\"../../theorems/db382336d3c796a5a27c81684528f4ff7f12b6cb0/expr.png\" style=\"display:inline;vertical-align:middle;\" /></a></span></td></tr><tr><td><a name=\"proveit.logic.sets.inclusion._proof_unfold_not_subset_eq.32fc80d4eccb21ffd75f0e7574b1a507355045f10_step2\">2</a></td><td>theorem</td><td></td><td><span style=\"font-size:20px;\"> <a class=\"ProveItLink\" href=\"../../../../../equality/_theory_nbs_/proofs/rhs_via_equality/thm_proof.ipynb\" style=\"text-decoration: none\">&nbsp;&#x22A2;&nbsp;&nbsp;</a><a class=\"ProveItLink\" href=\"../../../../../equality/__pv_it/theorems/05e66cbd347a7127d5119c3c454fa90d2e3f9bae0/expr.ipynb\"><img src=\"../../../../../equality/__pv_it/theorems/05e66cbd347a7127d5119c3c454fa90d2e3f9bae0/expr.png\" style=\"display:inline;vertical-align:middle;\" /></a></span></td></tr>\n",
       "<tr><td>&nbsp;</td><td colspan=4 style-\"text-align:left\"><a class=\"ProveItLink\" href=\"../../../../../equality/_theory_nbs_/proofs/rhs_via_equality/thm_proof.ipynb\">proveit.logic.equality.rhs_via_equality</a></td></tr><tr><td><a name=\"proveit.logic.sets.inclusion._proof_unfold_not_subset_eq.32fc80d4eccb21ffd75f0e7574b1a507355045f10_step3\">3</a></td><td>assumption</td><td></td><td><span style=\"font-size:20px;\"><a class=\"ProveItLink\" href=\"../../theorems/8d2cbbec40a4ad08a3aedb3b594f6316ead07bb90/expr.ipynb\"><img src=\"../../theorems/8d2cbbec40a4ad08a3aedb3b594f6316ead07bb90/expr.png\" style=\"display:inline;vertical-align:middle;\" /></a> <a class=\"ProveItLink\" href=\"../58fd0fa094e8df7885afb6492d2326085acd168b0/proof.ipynb\" style=\"text-decoration: none\">&nbsp;&#x22A2;&nbsp;&nbsp;</a><a class=\"ProveItLink\" href=\"../../theorems/8d2cbbec40a4ad08a3aedb3b594f6316ead07bb90/expr.ipynb\"><img src=\"../../theorems/8d2cbbec40a4ad08a3aedb3b594f6316ead07bb90/expr.png\" style=\"display:inline;vertical-align:middle;\" /></a></span></td></tr>\n",
       "<tr><td><a name=\"proveit.logic.sets.inclusion._proof_unfold_not_subset_eq.32fc80d4eccb21ffd75f0e7574b1a507355045f10_step4\">4</a></td><td>instantiation</td><td><a href=\"#proveit.logic.sets.inclusion._proof_unfold_not_subset_eq.32fc80d4eccb21ffd75f0e7574b1a507355045f10_step5\">5</a></td><td><span style=\"font-size:20px;\"> <a class=\"ProveItLink\" href=\"../8c66b79f317e050cef920f7bf46a7f64478db30f0/proof.ipynb\" style=\"text-decoration: none\">&nbsp;&#x22A2;&nbsp;&nbsp;</a><a class=\"ProveItLink\" href=\"../../axioms/116aca34a1f08027901161937fad79855317f71e0/expr.ipynb\"><img src=\"../../axioms/116aca34a1f08027901161937fad79855317f71e0/expr.png\" style=\"display:inline;vertical-align:middle;\" /></a></span></td></tr>\n",
       "<tr><td>&nbsp;</td><td colspan=4 style=\"text-align:left\"><span style=\"font-size:20px;\"><a class=\"ProveItLink\" href=\"../../../../../../__pv_it/common/e4aad701f7f5516d8e7f0d805d518bf02c13322a0/expr.ipynb\"><img src=\"../../../../../../__pv_it/common/e4aad701f7f5516d8e7f0d805d518bf02c13322a0/expr.png\" style=\"display:inline;vertical-align:middle;\" /></a> : <a class=\"ProveItLink\" href=\"../../../../../../__pv_it/common/e4aad701f7f5516d8e7f0d805d518bf02c13322a0/expr.ipynb\"><img src=\"../../../../../../__pv_it/common/e4aad701f7f5516d8e7f0d805d518bf02c13322a0/expr.png\" style=\"display:inline;vertical-align:middle;\" /></a>, <a class=\"ProveItLink\" href=\"../../../../../../__pv_it/common/4eca3b30dcf58a58494e201d1b7886d8643a617b0/expr.ipynb\"><img src=\"../../../../../../__pv_it/common/4eca3b30dcf58a58494e201d1b7886d8643a617b0/expr.png\" style=\"display:inline;vertical-align:middle;\" /></a> : <a class=\"ProveItLink\" href=\"../../../../../../__pv_it/common/4eca3b30dcf58a58494e201d1b7886d8643a617b0/expr.ipynb\"><img src=\"../../../../../../__pv_it/common/4eca3b30dcf58a58494e201d1b7886d8643a617b0/expr.png\" style=\"display:inline;vertical-align:middle;\" /></a></span></td></tr><tr><td><a name=\"proveit.logic.sets.inclusion._proof_unfold_not_subset_eq.32fc80d4eccb21ffd75f0e7574b1a507355045f10_step5\">5</a></td><td>axiom</td><td></td><td><span style=\"font-size:20px;\"> <a class=\"ProveItLink\" href=\"../../../_theory_nbs_/axioms.ipynb#not_subset_eq_def\" style=\"text-decoration: none\">&nbsp;&#x22A2;&nbsp;&nbsp;</a><a class=\"ProveItLink\" href=\"../../axioms/265c02fa7dcd9c567ef4be3ae0723216331dc0330/expr.ipynb\"><img src=\"../../axioms/265c02fa7dcd9c567ef4be3ae0723216331dc0330/expr.png\" style=\"display:inline;vertical-align:middle;\" /></a></span></td></tr>\n",
       "<tr><td>&nbsp;</td><td colspan=4 style-\"text-align:left\"><a class=\"ProveItLink\" href=\"../../../_theory_nbs_/axioms.ipynb#not_subset_eq_def\">proveit.logic.sets.inclusion.not_subset_eq_def</a></td></tr></table>"
      ],
      "text/plain": [
       "<proveit._core_.proof._ShowProof at 0x7f14217e4908>"
      ]
     },
     "execution_count": 1,
     "metadata": {},
     "output_type": "execute_result"
    }
   ],
   "source": [
    "import proveit\n",
    "# Automation is not needed when only showing a stored proof:\n",
    "proveit.defaults.automation = False # This will speed things up.\n",
    "proveit.defaults.inline_pngs = False # Makes files smaller.\n",
    "%show_proof"
   ]
  },
  {
   "cell_type": "code",
   "execution_count": null,
   "metadata": {},
   "outputs": [],
   "source": []
  }
 ],
 "metadata": {
  "kernelspec": {
   "display_name": "Python 3",
   "language": "python",
   "name": "python3"
  },
  "language_info": {
   "codemirror_mode": {
    "name": "ipython",
    "version": 3
   },
   "file_extension": ".py",
   "mimetype": "text/x-python",
   "name": "python",
   "nbconvert_exporter": "python",
   "pygments_lexer": "ipython3",
   "version": "3.7.3"
  }
 },
 "nbformat": 4,
 "nbformat_minor": 1
}