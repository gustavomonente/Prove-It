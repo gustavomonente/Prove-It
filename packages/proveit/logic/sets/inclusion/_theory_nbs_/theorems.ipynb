{
 "cells": [
  {
   "cell_type": "markdown",
   "metadata": {},
   "source": [
    "Theorems (or conjectures) for the theory of <a class=\"ProveItLink\" href=\"theory.ipynb\">proveit.logic.sets.inclusion</a>\n",
    "========"
   ]
  },
  {
   "cell_type": "code",
   "execution_count": 1,
   "metadata": {},
   "outputs": [
    {
     "name": "stdout",
     "output_type": "stream",
     "text": [
      "Defining theorems for theory 'proveit.logic.sets.inclusion'\n",
      "Subsequent end-of-cell assignments will define theorems\n",
      "'%end theorems' will finalize the definitions\n"
     ]
    }
   ],
   "source": [
    "import proveit\n",
    "# Prepare this notebook for defining the theorems of a theory:\n",
    "%theorems_notebook # Keep this at the top following 'import proveit'.\n",
    "from proveit.logic import And, Forall, Exists, Implies, in_bool, InSet, Equals, Not, NotInSet\n",
    "from proveit.logic import SetEquiv, SetNotEquiv, SubsetEq, NotSubsetEq, superset_eq\n",
    "from proveit.logic import ProperSubset, NotProperSubset\n",
    "from proveit import A, B, C, x, y, P, Px, Py\n",
    "%begin theorems"
   ]
  },
  {
   "cell_type": "code",
   "execution_count": 2,
   "metadata": {},
   "outputs": [
    {
     "data": {
      "text/html": [
       "<strong id=\"unfold_subset_eq\"><a class=\"ProveItLink\" href=\"proofs/unfold_subset_eq/thm_proof.ipynb\">unfold_subset_eq</a> (established theorem):<br></strong> <a class=\"ProveItLink\" href=\"../__pv_it/theorems/c05a59e8b0f06689814985f3eeee4c7ce543e4490/theorem_expr.ipynb\"><img src=\"data:image/png;base64,iVBORw0KGgoAAAANSUhEUgAAAPcAAAAWBAMAAADuuhdHAAAAMFBMVEX///8QEBCIiIhmZma6urrM\n",
       "zMxUVFQiIiJERETc3Nzu7u6qqqp2dnaYmJgyMjIAAAAcRTyBAAAAAXRSTlMAQObYZgAAA4FJREFU\n",
       "SMe9lk1oE0EUx/8m2TS7SZqeRNBDsAdLsRooVJSqsV4UKo09iDeDWqgHMahYv42idtsqiRctgnZF\n",
       "sFhLDXhSD8YWsbZ+xAp+iwseCj3U0BqtlaLzsclOQ1JtRN9hd2bem/d7M/Pe7AIFimU0MLPBpZmU\n",
       "twH3sB86bX+YPdzlL6YvdyKPXgnnHH75c1uV6oc9Sj1gkA6NFAJ3xcirWMujL47mHp8HWFNQdAZv\n",
       "JwNyuBA4m9WeT/8i97A0BdjGgV4Gp6GzNcwazvZrMJ/+wLTe66YmnafKd3JUY8AV5sE90NV1AQXB\n",
       "33d1XQ/lUcvTFJvL0y1HCQEfJKfipx4woaqHC4N7VLU5nq8YfCTnFu6o6WXJZ+aUJwhpH91sH4M3\n",
       "AC1snD/Xjfc1slyxZYLNpI4tUl3VYsLtAUGXZesgVdCNV96jtGM3rbbsHGqmh+zWGXwtSz3S/cK0\n",
       "7hK4Stj0tP1HYtStqqdJ8zlw34TbfOjJWjC1ZVJECAN4pq2f5gpYGoUyl7ydIQYvgoXV6tUpprUG\n",
       "4ZwUZyirE5BO8XYVcE/LwBFCRdrpjb6Vhi2XOUStQeWdjaNEeMIdpwGQwKQk8+BKFLHhgT08ZC+s\n",
       "ugh3dfoy7d3AKnPleIJ0WrnbLmqGrQkHxnhHqMevFO7NwGV9EytALw/zZgBLNBFe7wjjrrEJKVhG\n",
       "BPhlKUgapfUN5Owytua2Q0oZkUwrc+wiU21829GynSUFljF1XUVZECI8aA1huZFwY0OnhWyH4zx5\n",
       "lNv1vfyS5rZmwt2xJMFqzOrNFAEpc2nCTDjcYhPeYSlTPwUWiXB3jLh4ZAB1WEIC3EnjDRQnoPhM\n",
       "W0Ptg+2HIynzHDiUuXRJLq9ppfHEOdxD41I+PY6w3T4DdMQEeE91/yRqjOXEIf8Q4PxMPVFI+1X1\n",
       "hGFrbFIIytbyUuOLde0kT1P756+VjW0sigD34KYKq4YO9o0kzuuiAnwF5FS6fD0x2L6L8LesdBFA\n",
       "0LTNeb3WNhvXa1o6DQ9MNhDXCbkV8iTkBcK228i+TUE5y+gdGs7FRTi9R5NPEccD03bmD0taegW4\n",
       "YwJy5Ig0Hw/HKxv9AjwSRvu3BJz95JJxHausOoksuLKzdrEGR8y0zb4Xc37tdXHlXJziTfnbu12U\n",
       "Mnrmf/AzIYSWDb/953DL0b/5jXpDHAxnwRN54O0qEfxHsf57xC8BVPer1lKnkwAAAABJRU5ErkJg\n",
       "gg==\n",
       "\" style=\"display:inline;vertical-align:middle;\" /></a><br>"
      ],
      "text/plain": [
       "unfold_subset_eq: forall_{A, B | A subset_eq B} [forall_{x in A} (x in B)]"
      ]
     },
     "execution_count": 2,
     "metadata": {},
     "output_type": "execute_result"
    }
   ],
   "source": [
    "# Proven\n",
    "unfold_subset_eq = Forall((A, B), Forall(x, InSet(x, B), domain=A), conditions=SubsetEq(A, B))"
   ]
  },
  {
   "cell_type": "code",
   "execution_count": 3,
   "metadata": {},
   "outputs": [
    {
     "data": {
      "text/html": [
       "<strong id=\"unfold_subset_eq_contrapositive\"><a class=\"ProveItLink\" href=\"proofs/unfold_subset_eq_contrapositive/thm_proof.ipynb\">unfold_subset_eq_contrapositive</a> (conjecture without proof):<br></strong> <a class=\"ProveItLink\" href=\"../__pv_it/theorems/25ec826c378e2cd523b7d737d5ed673dbffd1d960/theorem_expr.ipynb\"><img src=\"data:image/png;base64,iVBORw0KGgoAAAANSUhEUgAAARYAAAAZCAMAAADDsvEcAAAAV1BMVEX///9jY2MJCQkNDQ0rKysP\n",
       "Dw8WFhYkJCRlZWUoKCgtLS0/Pz9RUVEvLy8QEBCIiIhmZma6urrMzMxUVFQiIiJERETc3Nzu7u6q\n",
       "qqp2dnaYmJgyMjIAAACXTERdAAAAAXRSTlMAQObYZgAAA4ZJREFUWMPlWdeypCAQdXOWTJP+/zsX\n",
       "QZIC3rDj3qrLw5QldJ/2QCdmWe4fjHMul7c6iLdO/w9gvrzxIdm7o4W+U1qkeSm4koUWm98acyMt\n",
       "D4MFMT8svYNAd2uYzLRolSYt3EjLw2DtPJhj0pNxO6U20yITu1Lc6USPgjX4+Q5srNu3RqMcW9Ju\n",
       "lf27JbY8CHaW+Y3gX79we3I7hd0uBWumxWjYhrwvPwSkx8BO1FGBYBEd1syCXHItS3ImcmIbN5Yw\n",
       "0fQXwhoym0W7DwFCTBK0O0WMG1CCR1O+waJcCvsaZ1pYSOU1j/UzEQ5rzJpXJ9W9TegINrScYWcI\n",
       "BWqqXcTvA0+24WipPCZkGYTOmctjUYdymMm0ELy0PBpXm2WCv+n1ZNlZAHQ4AWwk2NBygl0mCMVL\n",
       "8DLTzmOk0v5kaB9HiWxVdrLeZrl0SavipZzbHlGpHgC7upTAYY1yMDQ6CVDRlJBnwTYbHGCfQAso\n",
       "/ee3mWlf9/3ZdDRK6Gqt/fzJ/9hDHYMxZi6tpa7Qok2TuDTwOsvxcMCwHRudBA7vz4ItLQfYa1qM\n",
       "UPIXTLWv5Zy7xmFCHdDJenH9aju0SFsXfxQ1RIPbjgCqj9/B6CSgWtCOYEtLBasRpojRLkKe27yO\n",
       "6rl2nm2gru1+1m7Rsi/na26fq55ISFZY9q9wJU8cMkiwyV4mAdyGv47goaTKsD5zMrtw0kMoc7bG\n",
       "GGjfQ64Cn3SjcHZpFKNZG6lUW+bWIddrqXgwfiVy1WaFhYgPackCuqWlI3igJcP6fbVmQHyeA1xP\n",
       "DLTHBEucWoQ7dI1cMTqqckSq57CuO+jih2Cx1qKOr3GhUwNaigBps19H8FiAV+7v5Pg8xjnKhfj5\n",
       "Qwg00x6dABhCgHDbhAL7SKBtKp0LTqj8wx5OLa1pMXk9hoBWeI3ApDa7MboSaIuIjuCRlgK7hTo6\n",
       "QEhz3lYGV9onxb/5oAXn3M7ab96/byGR4C3hShE/OPyuerCXlYCn3xSjeoKDdk264BO6h1DNaQrs\n",
       "UvukVRTXF6VVq9hIhgQuhePGZ3q/IZq7La8LMjjitcB2HHUq57qCA1qAGaKR7ua6ek58Ty4z0T78\n",
       "eLhu1auLhclQy3Oqin95OzdA+LaRjl54DYWur7uEfAItSr4xWiR+zaXltdVGPuUu1zxzL6VI40G0\n",
       "aHJTi/+yK2782tNy+T9RH+Ge+/jtfyL2FwdSUf0AMS7lAAAAAElFTkSuQmCC\n",
       "\" style=\"display:inline;vertical-align:middle;\" /></a><br>"
      ],
      "text/plain": [
       "unfold_subset_eq_contrapositive: forall_{A, B | A subset_eq B} [forall_{x | x not-in B} (x not-in A)]"
      ]
     },
     "execution_count": 3,
     "metadata": {},
     "output_type": "execute_result"
    }
   ],
   "source": [
    "unfold_subset_eq_contrapositive = Forall((A, B), Forall(x, NotInSet(x, A), conditions=NotInSet(x, B)), conditions=SubsetEq(A, B))"
   ]
  },
  {
   "cell_type": "code",
   "execution_count": 4,
   "metadata": {},
   "outputs": [
    {
     "data": {
      "text/html": [
       "<strong id=\"fold_subset_eq\"><a class=\"ProveItLink\" href=\"proofs/fold_subset_eq/thm_proof.ipynb\">fold_subset_eq</a> (established theorem):<br></strong> <a class=\"ProveItLink\" href=\"../__pv_it/theorems/7b766ca6a08c0522d18f80476619dd85bd44d4fd0/theorem_expr.ipynb\"><img src=\"data:image/png;base64,iVBORw0KGgoAAAANSUhEUgAAAO8AAAAWBAMAAADaw9ZbAAAAMFBMVEX///8QEBCIiIhmZma6urrM\n",
       "zMxUVFQiIiJERETc3Nzu7u6qqqp2dnaYmJgyMjIAAAAcRTyBAAAAAXRSTlMAQObYZgAAA4VJREFU\n",
       "SMe1VltIFFEY/prd1Z3Z2dW3AiP2qSKyhM3tRWohEOmC+5Q9VC5kYD6YJbFFRUZSYwW7vVQQ5YhQ\n",
       "4YtGEQlCthWSRWwXoqhso6eKSLREjbL/nDOzM3vJLmwH5vzzn9v3z3e+/5wB/kc5/5v+fnpS7OV1\n",
       "YXGVNm5cqZwe786JQGM7iuLAfeZ/KCywLy7MqOE/i0aje8TrHIppdVihkM6SJ7cVFviJMCPTwl64\n",
       "Z3XVJ4HaCiQoLB1Q+woLvE8QfnVKuO9tXcuJjDd+dBHrwz09ZwqLK7eI/ZS+cOuwf9ZhCmiuDl8I\n",
       "mNS0A/+wejynJWy+SBXcrPV857bYPmgCqGsijmnIdqCDt4m6Zvx2I1/UOSuuanecsapgB66ZrjvJ\n",
       "mQ65xrh72jbSNfF68X7GBqlrDRQue68gxlsKtZRP5zSRAoryAe/I8B4Bt+AwSSjuE4HL49y9bBso\n",
       "0bZ3RQBPC2NC4hF2C2IcEXim08CuwcyI05EPmik7EKDZQeCmrkSMtjkhVm8MBCdzqHbTN0nfaD5l\n",
       "mpoUPcOtYpgfjlQaGJRolXmAi8wNfd7fQ/VuYJWlXgFM1QKxK35rXgkFJ40JYDm1kX+DX+NdvWEs\n",
       "0y3gEU3Ll+Qs1kTlwrCT60j5ConOoHI71R56dgn/Y2YaF9GeOpnwOxr4N2Al76otXywocxu1NyPJ\n",
       "B4ShBJT05uKQT4hr7PFRMtft4jpHz2fhX2zQ7Wlc3ybEhas87V5iOe96CCyyAathd8YpvFfYGqII\n",
       "n0gYYlAKUgtvFG6FkcsxQ26bj5lH5luKch6F4WAaKWF7oLx7EONxnQQ6+yxgJbLeON4DAbbmFeFV\n",
       "s4oUWqdpmh/uQcikmK1mdrVAif3QcWOmNWuHmme2BTW2uo9pxKuLvOnkgqEFauMWMJqaIC8tj+Au\n",
       "99b1CtY2MVWMuoxUK+mDc8qIxjoyZyuX0m8baHpSPg55GvJ8G9WopvRytg0qQpoVQrFsYqeaUmkn\n",
       "mNep4xRx9yrrkpilJNL5NQk5dtBVhqHxQGPIDlxMS0t+OI8wqtWqoaRo1XHxaWIYOMH4PxQItpNd\n",
       "kV4t4zxVo1HrWjSkkn1Te+y5bs10h5MKPzG2cOGwE8iUusT22CiprB+BXxd3PM8vSS6w43EijDsM\n",
       "pQwXymAeLNnFk/zjX58X2Q3JvMA2Vds1kV26C3SrOmbt9eRei0v+avmf/xbZW+4CTAIAAAAASUVO\n",
       "RK5CYII=\n",
       "\" style=\"display:inline;vertical-align:middle;\" /></a><br>"
      ],
      "text/plain": [
       "fold_subset_eq: forall_{A, B | forall_{x in A} (x in B)} (A subset_eq B)"
      ]
     },
     "execution_count": 4,
     "metadata": {},
     "output_type": "execute_result"
    }
   ],
   "source": [
    "# Proven\n",
    "fold_subset_eq = Forall((A, B), SubsetEq(A, B), condition=Forall(x, InSet(x, B), domain=A))"
   ]
  },
  {
   "cell_type": "code",
   "execution_count": 5,
   "metadata": {},
   "outputs": [
    {
     "data": {
      "text/html": [
       "<strong id=\"unfold_not_subset_eq\"><a class=\"ProveItLink\" href=\"proofs/unfold_not_subset_eq/thm_proof.ipynb\">unfold_not_subset_eq</a> (established theorem):<br></strong> <a class=\"ProveItLink\" href=\"../__pv_it/theorems/b92ff544f2af2a8f574f3f4dd073a48ac88704a10/theorem_expr.ipynb\"><img src=\"data:image/png;base64,iVBORw0KGgoAAAANSUhEUgAAANcAAAAaBAMAAADWJdTsAAAAMFBMVEX///8QEBCIiIhmZma6urrM\n",
       "zMxUVFQiIiJERETc3Nzu7u6qqqp2dnaYmJgyMjIAAAAcRTyBAAAAAXRSTlMAQObYZgAAAzVJREFU\n",
       "SMe9Vl9IU1EY/3W3q7t3u9OHiKCIQQ/1UgqDRSW16KEQwtGDT0GD/vkSrYRG/2hC2bRk66WECBc+\n",
       "GD7UyJd8ammhWcQqCEKqQS8VgaJpc2F2zvnu1TPkahPtg9/O+c6/33e+P+cOWKJoWUm5u8jiXhM5\n",
       "rnwsney+1NdjolFz81a9nzkSiAdRloTASz72vXSyb1Lfm6RmlFTjRDQaDVF/LeCYgM7M4GjnLomV\n",
       "zGVUS8o7aj4VyME/krMz6jTgHAf6IOBNAZ50yWTlSUk5R87smZLvKURhQ8YYcA8CxlB39+3SvShv\n",
       "0SJ0WeWnaHdKU65KRnKeGRAk5OPxi6WTbZT6Crm01j0t2og0VRGGepb7rppwDGj5l+ODRVqbbL6o\n",
       "Aj2ojol7hqWpwyffXuMxMnKEvSJPFpfiJLrAsizKJcPiJ0LuhDYu1QFJVRL6Gta6I4RyKFSfdL/9\n",
       "4/0NSdpsGU6qjyFREzC9sNqKF7vHKnHpen8gP8+NTZyQ2aKOEjzZcoovhdeohKdScFgbPrOzOuNN\n",
       "zaz7BnhqR8Z+NoihPolskpP55si0XL0Y76TwOsJwF2QyfXcW6lXc4v0A8CRluXGWTLjRzXCaUj9d\n",
       "VGY4xcxwRghoOSomhhqpgHxw5GQyT1c1vMAz3j8D7CpOEE4mEuQOwwhZd7xWLjM1LyUIeoSTVV9c\n",
       "zD8MYWtKJjvoimGY3lB9Aor5svVb54Uop0WtJaic1UHrufKygOxp5f7KEFDh4+Nl2CZW1m3ZTLlr\n",
       "kYUdEWyHmy9yjr1tNkf3SYFh/tETf1J4PNNYnMBlI5P+huuCNUSAIS4yjCqx4DWwSSYz0sooXsDF\n",
       "F3lyUCK2z9VC0mXCTIMvrxKC9AbQkZbIHtQMFvCI8sOVgfbb/iFeQPqKstSRQodwMzusLimR7YA2\n",
       "wUrtuXh80nBOmRvkV8clXxMDothD8pD1iTHlADsqq7VCK0BbL7nRyTJtGnqbWNmRws2M/cfTXrg1\n",
       "cxa58tASl9R1GBj3NwQlskQM7b+ycHyNN8Nz2R+4sqS/BR9MFIlbtgZ2yjJJr935h1aALGtD1s4+\n",
       "enGsoDhKyYDlFCX4H8m05TnmL1zU2/n7Oqc7AAAAAElFTkSuQmCC\n",
       "\" style=\"display:inline;vertical-align:middle;\" /></a><br>"
      ],
      "text/plain": [
       "unfold_not_subset_eq: forall_{A, B | A not_subset_eq B} not(A subset_eq B)"
      ]
     },
     "execution_count": 5,
     "metadata": {},
     "output_type": "execute_result"
    }
   ],
   "source": [
    "# Proven\n",
    "unfold_not_subset_eq = Forall((A, B), Not(SubsetEq(A, B)), conditions=[NotSubsetEq(A, B)])"
   ]
  },
  {
   "cell_type": "code",
   "execution_count": 6,
   "metadata": {},
   "outputs": [
    {
     "data": {
      "text/html": [
       "<strong id=\"fold_not_subset_eq\"><a class=\"ProveItLink\" href=\"proofs/fold_not_subset_eq/thm_proof.ipynb\">fold_not_subset_eq</a> (established theorem):<br></strong> <a class=\"ProveItLink\" href=\"../__pv_it/theorems/c99e060312f60a3895e59c90690a240b99bc95e00/theorem_expr.ipynb\"><img src=\"data:image/png;base64,iVBORw0KGgoAAAANSUhEUgAAANEAAAAYBAMAAACW8wWgAAAAMFBMVEX///8QEBCIiIhmZma6urrM\n",
       "zMxUVFQiIiJERETc3Nzu7u6qqqp2dnaYmJgyMjIAAAAcRTyBAAAAAXRSTlMAQObYZgAAA1tJREFU\n",
       "SMe9VUtIVFEY/pyXc+eh7gyKmF1SmIIxUUgOBSFBKC1sEzlggrSosYihF06gcZVipk0NRDniwpCw\n",
       "ASOKgswWqUXcclOUOdEitEWiaTZh9p9z7r0zc2eGqMEO3PP4/3vO9z++/xxgjZoF/6sVr9G5N7Ik\n",
       "7zNWD+hLsMlUgUCOEB+siZRoVgzu40s1bZ2wRYDnaeJ/biURMcyp6zfB9vJTYlpERtQ1OsiGKK2k\n",
       "UIFIk2L4kBTjzXHYGlVVswI0VGOU7IgBrniBSKdFDId/iHEGGNJUVeTutAd9FMiJwcFrBQJJAZET\n",
       "0zc+2sjwSk13gZDLYyjxAcuyfO7PZ+USagGCqZoP+5wrOsEDmm4JOHiUwka/tALdXCb6+oWnbZGs\n",
       "0hthnT2il2W41tuNu9rSrvCg+azzfHkVcI6oKuvSVMVZ5i9RYg8cnJxu4bq7DK4yvj0NyMYxpikC\n",
       "t2X5Ik1fAU9g1pCL48I0aYEvozoZyV1KXZ+foAPMVxM3qV+4bvbDmTQiHeI21ymwdgmBF3gcc/hV\n",
       "dZGP9U013mUtelHdXbLa9JN8owJwKeLimDgpfvPAnDAitbLONVCtC08Au4CZDCTqNvKlS8E2bWcp\n",
       "WWOaF0hSookH1CNz1Z1GbI0ZkXh+D9hDeKjeCYswzaYIxqPnpK9drL84dEKwcrJRXixM0n2EpwLb\n",
       "uaqhskIExW5ksd8cwA6VEfOvWbbupTPiOn1fxfpWiye9nJpDghEY5ue8QxVXvQQ2pSGNybKcsLA7\n",
       "xB03zWFc7HclYKJd9epxjMLcmrBKhObPwaC4jT6SWesoRmZGxlJmgOPTizAP2iWgN57pk9/CvByq\n",
       "HUtit+rECCRK82GN9AE4wr9iuL8qck18Vtux1RavzI4rYcXnZgjmGHp5JdIBDREDkpX5tBPSolZS\n",
       "pXFYiL57M2+jVOvKqvIBfbaftitSD6QkpA2GPPlZgi2UixU4LnOo3hiujKS9QZOGGyWRhTSq034Z\n",
       "Uvi8dT2eLdS0+QxIEZyhFIQQ/a7AOUaV6+qo8XaSQudy6vbgaesIBrU8aQ+YEduZNk9n+Zbct2HC\n",
       "8BLmf9kzTVEf4VxI9pxATiXP6/4o69e3RoGS53SLpogS6WVN2p/v5u/5u0fHnM9ZvW3OtzWSS/gb\n",
       "uO3WhJob99sAAAAASUVORK5CYII=\n",
       "\" style=\"display:inline;vertical-align:middle;\" /></a><br>"
      ],
      "text/plain": [
       "fold_not_subset_eq: forall_{A, B | not(A subset_eq B)} (A not_subset_eq B)"
      ]
     },
     "execution_count": 6,
     "metadata": {},
     "output_type": "execute_result"
    }
   ],
   "source": [
    "# Proven\n",
    "fold_not_subset_eq = Forall((A, B), NotSubsetEq(A, B), conditions=[Not(SubsetEq(A, B))])"
   ]
  },
  {
   "cell_type": "code",
   "execution_count": 7,
   "metadata": {},
   "outputs": [
    {
     "data": {
      "text/html": [
       "<strong id=\"refined_nonmembership\"><a class=\"ProveItLink\" href=\"proofs/refined_nonmembership/thm_proof.ipynb\">refined_nonmembership</a> (conjecture without proof):<br></strong> <a class=\"ProveItLink\" href=\"../__pv_it/theorems/f7e0862ded9af59125dafb6781f5eb0015fea6700/theorem_expr.ipynb\"><img src=\"data:image/png;base64,iVBORw0KGgoAAAANSUhEUgAAAOgAAAAXCAMAAAA2s/OGAAAAV1BMVEX///9jY2MJCQkNDQ0rKysP\n",
       "Dw8WFhYkJCRlZWUoKCgtLS0/Pz9RUVEvLy8QEBCIiIhmZma6urrMzMxUVFQiIiJERETc3Nzu7u6q\n",
       "qqp2dnaYmJgyMjIAAACXTERdAAAAAXRSTlMAQObYZgAAAxFJREFUWMPdWNmy5CAIzex7cENE/f/v\n",
       "HDWxo9nn3qqZnutDqtvAEfAImGF4I0O9FUcG609fm+NXzuZnePz3/pn9JDzfUL03OTuns6fs6nSg\n",
       "Z3Y02NPXQu7pxDlI2WFbI2Xxmf30Yvhj5voQ571jaDZy2dpnHOZkQz2az59M2JDdiThr0ZjFmPKw\n",
       "5qkz0bF1CoEG3ImDHyBWQof8I2Iehv8xN+XZW5iZSwDaSihUrOeP5kO4GpIGF2t+5ayvSwlqY9L+\n",
       "lhgFC43H1NlYuCd7CYOncjhZTGk3vIGh4WnJqADbLJ3MUhEexzVji6GPiY+t7X4sIRmHCxM36sSF\n",
       "KvoWjBWny5kpgXDaPU4ZRtp+9Z2CkW2wsaI6UzMWLEWURGwrqiiWukg3Ha3qCrtm5QyGHP/66c/k\n",
       "xjl2ebluPTWGED5+SI+wqqtCCB2rrCqFhn2XnplMm8tN2X4R7u5oVV9Nn8B4dPYHncqNC8diR9NS\n",
       "FHcKxiQ/hs5RG9rGQkEXNIp5Y2AhB4NQoNWRo1Xd9YtvYBacfHQUH8q11C0m913tuFtEZ3FTT4A0\n",
       "c/bQS8SSy6LRlBE84BKHlMt1GIw8crSqiz6drGEanNBKb+S6ZOQolYxJ+XEkYEoy/Yl3fWs0JaOk\n",
       "33jmkwzEholFBExzSwj+mLoPde4dXcMsOCRajI1cUx5SFNyAcdXfG6fVUdXF2jEIXvOegmDGJhVg\n",
       "EbGxYWK0h44u6rLP+DswM44yiN+/IcKh3IN6pAEIRH/7IP1eUt/+x1io79KPOd2EORb+ISmorLPE\n",
       "aFpSNs7lg60OHG3U+1K4hXngJJ5qOpG7agH9O0ZjTDi7+mxOsZyClQuExcno8hx5mGZsLOzifUcb\n",
       "9RRYvxjXwqxxWJHelbvZ1KO9bLt43VBgKTwWo/GpQqXgsom5HqGcapZLRPGSgWnX0VY9U4drw9DB\n",
       "bHDwayVqL3fPHbq+dVE4f+9uzOx0RjfGCudLDgi88OIN198LLvbc2euZlzm6wrHiNZ9Srpf3F9z2\n",
       "N2aOV7JYxyUyy//jq5V4LYD+G1b+BjXXRiLOG9UlAAAAAElFTkSuQmCC\n",
       "\" style=\"display:inline;vertical-align:middle;\" /></a><br>"
      ],
      "text/plain": [
       "refined_nonmembership: forall_{A, B, x | A subset_eq B, x not-in B} (x not-in A)"
      ]
     },
     "execution_count": 7,
     "metadata": {},
     "output_type": "execute_result"
    }
   ],
   "source": [
    "refined_nonmembership = Forall((A, B, x), NotInSet(x, A), \n",
    "                              conditions=[SubsetEq(A, B),\n",
    "                                         NotInSet(x, B)])"
   ]
  },
  {
   "cell_type": "code",
   "execution_count": 8,
   "metadata": {},
   "outputs": [
    {
     "data": {
      "text/html": [
       "<strong id=\"unfold_proper_subset\"><a class=\"ProveItLink\" href=\"proofs/unfold_proper_subset/thm_proof.ipynb\">unfold_proper_subset</a> (established theorem):<br></strong> <a class=\"ProveItLink\" href=\"../__pv_it/theorems/515a34ce7bbf7fd639c66789e29ce61983586db50/theorem_expr.ipynb\"><img src=\"data:image/png;base64,iVBORw0KGgoAAAANSUhEUgAAAS0AAAAWBAMAAABnB9cHAAAAMFBMVEX///8QEBCIiIhmZma6urrM\n",
       "zMxUVFQiIiJERETc3Nzu7u6qqqp2dnaYmJgyMjIAAAAcRTyBAAAAAXRSTlMAQObYZgAABEJJREFU\n",
       "SMfFVl9ok1cUP35JmnxpUn0YOHBIwIf1RRsIZGyUNWywiSgNe3A+jLWgQpUx4/59DB1GkDUZG4kv\n",
       "KozZTzZs6aAG+qA+WSej2m6STRDGcEbcHto9WFrtP6n13HPuvd9NEwPmxQPnfufe8517f/ecc8+9\n",
       "AE3TD8h2ufE/rcV6Vo3osuSK6NxpAlY4i80Qyx/WaKOH5hN9JwAO1LFSOvWrlgIIpqXIPCkGppvA\n",
       "1SZcMcXyAzl223Gcz1lchwC60jAiNUXTSuok7fGmnEHgFeYzIhrZJnDdEluN844fuPQ9e8NT92CE\n",
       "u+MQiXH3vmGldAD+Y0dxbxFl888yNr8wt+GUkVITuL5EDrIbfu7i75Sh7sChuzEIb+AI9bueldIB\n",
       "vH/5nU3R+JCK8egStueYoxPDw6ebgGVnsJGG5Y6U+PjM7R3HdTYimH+p1/JWzLPSOjiI0O7t+kwl\n",
       "mvVQBDPFvJjLHW0ClyXisIVEv3uFjmXQ1M/jkrgsXKPeCGQ8K60DAbZ/c0qa7GhdwTYSZ94PkKdh\n",
       "brfPXevjqKjfQ/qs+wudybwaFVC+I/En6CFvnDJgBebvtB+hnKHuJJ8vttI68mBFH9VUYFZ4rcL8\n",
       "NqU/yg/ZmRsgwjmhDsPdlF7tD4CrUgyKoB2RGxggNwyZ7sRUOdeLwkXqZuCsZ6V1FGE9ux/sOVHy\n",
       "MsxBsCgKP66Q1tcLrcsmrnAXqgNbEgmUkwBXZAKvE/O9RK7ZmziUXRvHEO7NeizOHm02Bi1pbaV1\n",
       "1VVidyK5KKabYY6Ueb6JT3lHMfBVTFyRwTiEP9oxPIzyJwBvwlpcfuyQhaoJgtajP6xZhSvoQqBX\n",
       "W2kdjDvOguN8ASpvNhu47Mpu2nUsR9oLadjmmrjeC2XlZiH8CKzpmjiiEOTI/19dvlpEZrwreqOq\n",
       "iJCV1glPjukrC/mw2GaGGfL7KM7wGqm7t7bL0Etcvb4M7JQZMPvn17A27+0SF2qk8/tcs3z1ZFXe\n",
       "T0lsbKV17ElJ38t7Q+U9jNIR/hs6SH0T4FUTV7RkzcCvMqQVsDJyGnGUqQiIGhZa4sEP+tU9dA93\n",
       "8bJYs1PEIqsQkJXWIf1eVQ8LiNg3xgzrRVqE7/9WoF+/BRgoGbhGOq8vw+vSR2Ngq3wlV2OQhlan\n",
       "obWwEK+ubh+v7k3maJr/1JmzYtLK08H4YUwvyq9w4YkLl1Yxx9vSzBAVeHwuDFAS4brdRQPXG2A/\n",
       "QmdyMpfAv1TnHmr06sjwyUBK63vII69KaBqUzLQLVy3b34C9DPYrRhz9mBArqjINuHByrM693YDM\n",
       "M6rvbY+211rIe1tGaBHswleBTTA+l+hLGbgKWTizUPZTlY8cSyS9ZxNdA/kqDI7jvXMkjaxZNVTt\n",
       "4alaB8t3TvXz0uyYj5/zuVyuwbvw2ZSvZ+WRW2MggIeKdR6xdXE1+46OPvc7+i/JVVR+HlwviuIv\n",
       "cvGnFLU7xp1WN8kAAAAASUVORK5CYII=\n",
       "\" style=\"display:inline;vertical-align:middle;\" /></a><br>"
      ],
      "text/plain": [
       "unfold_proper_subset: forall_{A, B | A proper_subset B} ((A subset_eq B) and (B not_equiv A))"
      ]
     },
     "execution_count": 8,
     "metadata": {},
     "output_type": "execute_result"
    }
   ],
   "source": [
    "# Proven\n",
    "unfold_proper_subset = Forall((A, B), And(SubsetEq(A, B), SetNotEquiv(B, A)), conditions=[ProperSubset(A, B)])"
   ]
  },
  {
   "cell_type": "code",
   "execution_count": 9,
   "metadata": {},
   "outputs": [
    {
     "data": {
      "text/html": [
       "<strong id=\"fold_proper_subset\"><a class=\"ProveItLink\" href=\"proofs/fold_proper_subset/thm_proof.ipynb\">fold_proper_subset</a> (established theorem):<br></strong> <a class=\"ProveItLink\" href=\"../__pv_it/theorems/600d348360f65b25892abbc46433c13b617d7f010/theorem_expr.ipynb\"><img src=\"data:image/png;base64,iVBORw0KGgoAAAANSUhEUgAAAQgAAAAcBAMAAABv6Dz1AAAAMFBMVEX///8QEBCIiIhmZma6urrM\n",
       "zMxUVFQiIiJERETc3Nzu7u6qqqp2dnaYmJgyMjIAAAAcRTyBAAAAAXRSTlMAQObYZgAABAZJREFU\n",
       "SMe9Vk1oVFcU/px5LzPvzZtkFoKCXTx1UTdtBqZEKiEZLFQ3klChdlGcgSgkWWioSJBWHCG2L0GZ\n",
       "6abNps0rFg2jtQNdSBExkkVTFXnqRpCYEXWhLrT+xBgJ8dx7389NZhKbyHhg5ty/c873zt+9QK1J\n",
       "cxbfjxWAMhuM1xDEsGA7KzbieydTnX1AF3CZzR/WEMQDwR5X7qzIAa3tOAMMMo/laochnhTssV2x\n",
       "laFAtSVhmKinTaNUOxCRAmenWgXHzd7e3v1i2EhLEyb0BOKXisWfaxgNV7fTmOb813+DrcOAvop8\n",
       "cA+YsqzvaghiPf9X7AuiSA5IW5PAjm7io8BuoL+GII7x/9+RMRkPS4FXJ8c3fMsGt4HPoJffwcgv\n",
       "C9W+S9wM0hjiCRqRDoVeAb9laXCWrYec5WPQqxdWlz9ayT+6I7WXH/xJOhNNEJDXrEqoNJzIomYK\n",
       "VdZUf1RfqCp0Zi4IhZpCWepcnBrIC6GnAoRW/lIsiszY+my0s+AKMjI4aN+Ukm9u6kcs7c1vyCIo\n",
       "eooMc044KBMiifnhYG2i7jkNtjCZXaKdPBcsAYOfj0qOnSCjpy3rexpeAy4Cn3qaDsgi4jBTpCfk\n",
       "xNQIRP0T/klmAIK1iUxOJCb+6uFrx2c4C2cRmw5AqCMs8K0O1CNCtAm4YOMESyymvscXGf5vk5I0\n",
       "PUX3PFOjbq+IvuLTRwGIO+TX1ayPNrPYCHSX9okOZyJcDkDUtTP8J5OeY/AN0CJSYQe5M5T0RT7B\n",
       "2pY/RjxFo54p8vXw7EPE8i95eZzY5bXvPbMdTRav2PvMfXxZNS2+92c7PrYDEDyIX0RzOOdWwwuE\n",
       "6LpjBTVAWKOOL0L9Nz/pK7o9r2379PUPftv2CqzHH9ZhI+dtH23IIgDBu2423ONlgfL0OsuMWJYC\n",
       "RQ+ASEkWyQWKzs67wBYhKU9uoZHzq8CHEoitTE8p9ARuzzfKCBFyJYeoTSdWpCURIx0oyviK39qO\n",
       "g3LW717J8ygcBYZKAYjP2anmsWlsdjvMCDRqMGoZ2wmcACFExqy8ZZmeosz8R83CFKAM2xhiOQiy\n",
       "0FYIQHxFv03QXnitoqEEhfJcyaKbuZ+HwxPpkhRt+d/Pu3iQNNtIv6MNQJuG9oEUjpNkkLTMQD/G\n",
       "Dw/Z+JFKID6iJpnnWWJ6ImrSVyQl5hIoOgUtf1Bdg3+epTrTEoiIjXwOgy8dxMaoWRmHUk197HvT\n",
       "dTY7YpBhV2T9xo5UyhGKRO0vk2IyLnHVVX901UNniQQlKC99XbFY9Gf3lw/i7woQqH5LnpfbNipP\n",
       "SrW/ZHIqQWxzp4MWkW8jKV9gbgdJV6/9d6JwxftEeo/4T+fo267y90ELPGr63yuI6s+7eGFJOt4A\n",
       "snQOAPjWMEIAAAAASUVORK5CYII=\n",
       "\" style=\"display:inline;vertical-align:middle;\" /></a><br>"
      ],
      "text/plain": [
       "fold_proper_subset: forall_{A, B | (A subset_eq B) and (B not_equiv A)} (A proper_subset B)"
      ]
     },
     "execution_count": 9,
     "metadata": {},
     "output_type": "execute_result"
    }
   ],
   "source": [
    "# Proven\n",
    "fold_proper_subset = Forall((A, B), ProperSubset(A, B), conditions=[And(SubsetEq(A, B), SetNotEquiv(B, A))])"
   ]
  },
  {
   "cell_type": "code",
   "execution_count": 10,
   "metadata": {},
   "outputs": [
    {
     "data": {
      "text/html": [
       "<strong id=\"unfold_not_proper_subset\"><a class=\"ProveItLink\" href=\"proofs/unfold_not_proper_subset/thm_proof.ipynb\">unfold_not_proper_subset</a> (established theorem):<br></strong> <a class=\"ProveItLink\" href=\"../__pv_it/theorems/87d2246f7ebb7bbf0247c48e8f8c8748399d485e0/theorem_expr.ipynb\"><img src=\"data:image/png;base64,iVBORw0KGgoAAAANSUhEUgAAANcAAAAWCAMAAABkF/mWAAAARVBMVEX///8nJyefn586Ojrf398/\n",
       "Pz8hISFYWFgQEBCIiIhmZma6urrMzMxUVFQiIiJERETc3Nzu7u6qqqp2dnaYmJgyMjIAAACaUWiE\n",
       "AAAAAXRSTlMAQObYZgAAAr5JREFUWMPVWNmypCAMdXYJQtj//1OHRSS00k3fmrZq8tDxGo5yshHv\n",
       "stwtyr1rmBSjqPbHfefuoKVxyrD5iWc5EYIAEIg8/Sl2YllbU1d5fQcvr6YMPkw9bS3OgLAlz+y+\n",
       "yFpVNym8g5aDKYPzYcbLWyg5xkNGW1ZuZ13D1AL3SZFqxqANhH6hQ1lko3fZvsqFzEivOzxpZ3US\n",
       "JW9pGnLK4OKOObV6e+kPXHcesgTH76CsAyaR9g5eDGYMXC8muIkoB5GzUYqac0C0yKFFAqXXHAPY\n",
       "2HLorbPfuvfqETAuHPVcatA8VQ5rN8CMyks4x1CaVpZEcyC9pGQr3bnLsbYr2cOp5jsAbCNgdHzZ\n",
       "AshDbGc4/KYCCeAoeffy0quoR5ikOv2w5i8NXQ5ABhnSnx55NcDGAP78hhEw9uXHWCtxMmzxSAIR\n",
       "8LRmVF6Rn6kBpNq6ziVWS5rsMicE+HG8KkALy7X+9VOPgHO8ytXqXx/lQVRe7IqX8tFHzV1sQfIg\n",
       "nY88Rg/th9ccgFyo3I6Bfbp1vJphv5Dryzysp9ciah1w2WlUorlLpPQnyR5YLM0uEx54VUBh5J8A\n",
       "L/pG5XUYlDkPHJY9K6/ID6/6RnQRIeJMApBn5iVMDnkdAJvjY54AWyMmTu8NxzmG9GD2lw3Rl5Dy\n",
       "FWtOgO11a6rag7VIm0ReooIZ8GoAUF0pXABbopykGDSGkBPXxAtS5VoI/jhXCV+H3vYGv/XaHSDQ\n",
       "eTNtWin74tR7Ha8GSIGDp8DpOeqilixezFGPjVn2mritpHkqSIVlx/l3tYM8JIAYK9KRr4Dzc+/X\n",
       "pJt7u7LOFagwSLdsa3S4lSEdJsgHfYMC4oTx44j7JfA8mswY5j/tfK+HH6CjHYwA37/lURP/wXfl\n",
       "V6R65oWHjHqX18w37uf+D+BUr4frljd5uVu+4D4n8B/s8S+iay1rfd6TagAAAABJRU5ErkJggg==\n",
       "\" style=\"display:inline;vertical-align:middle;\" /></a><br>"
      ],
      "text/plain": [
       "unfold_not_proper_subset: forall_{A, B | A not_proper_subset B} not(A proper_subset B)"
      ]
     },
     "execution_count": 10,
     "metadata": {},
     "output_type": "execute_result"
    }
   ],
   "source": [
    "# Proven\n",
    "unfold_not_proper_subset = Forall((A, B), Not(ProperSubset(A, B)), condition=NotProperSubset(A, B))"
   ]
  },
  {
   "cell_type": "code",
   "execution_count": 11,
   "metadata": {},
   "outputs": [
    {
     "data": {
      "text/html": [
       "<strong id=\"fold_not_proper_subset\"><a class=\"ProveItLink\" href=\"proofs/fold_not_proper_subset/thm_proof.ipynb\">fold_not_proper_subset</a> (established theorem):<br></strong> <a class=\"ProveItLink\" href=\"../__pv_it/theorems/56adc9bf4291ae2604a9b312096aeab2f0c684450/theorem_expr.ipynb\"><img src=\"data:image/png;base64,iVBORw0KGgoAAAANSUhEUgAAANEAAAAWCAMAAABpCYnRAAAAPFBMVEX///9RUVGurq4bGxsLCwsQ\n",
       "EBCIiIhmZma6urrMzMxUVFQiIiJERETc3Nzu7u6qqqp2dnaYmJgyMjIAAADYQjYbAAAAAXRSTlMA\n",
       "QObYZgAAAuxJREFUWMPNWNeSozAQ5ILSKEv//6+nAGaUAF/tlpcHF2Fo1NOT5G37QYf2D4ycWT6y\n",
       "Ov+G17X3HyZkFL4SYc66ve0hRmAMlOLpCjIlZ4+HwXyYUdDNVZwaAe9ukOoHFkXySaarD8do9WFC\n",
       "njVXIc48PKxSxBpaPObXHUXSnGJ96JBYImNZ1B1jJaX8+0dKge/S3czHTMaQfOpMPrT8dFloFuDT\n",
       "UnmbP07PAkmR6gEiizIhvxRVPqT7ilU9NRTjLYqDjpvNRj8qqIYXIxQ8CTXUXEaBYqXQavA5V5G5\n",
       "VEvwrWVhnUNMoOyIoRABw3OCUPSUlZwQg0QigvdUSftKv/yhTMugougbvX2R1RH07QUh0AuICRQb\n",
       "GEvb+kxHLFoNyVGiPY0Mgb0lycOanh4yrNGbFVuLKs+CkXATCEFZPgYoA/3r5PSBSB2GQUTf0TW2\n",
       "YFukUWJmd82K0/zhg70py8Y7RXwWbjUCMUAYcLzUnREq6DWjekZC33wnoRzhYEQRo9SGEXtBN4XW\n",
       "bHLn2ihuvwtGcoSAJkoaKOqXUbefSNKB81GioxttsIc538NTo06cXmNIMR5pyrwGS91V3wOCt/Wz\n",
       "gbKwqgzaToaG3DrDKNHRjcQRor4KaxEFb7MdgiomVM4ZOVWPkCvZAOHaRG6geO8XxzrPqKbFBsvZ\n",
       "ZHCqOnKi9hhiuxPPQmkCc07hMlBMdLSXGgGKiROiK2gN1DCI1ngxKsYSljad4Hw2QH73YxGEY0w9\n",
       "h9Pdif5ly0z56Onc+n2O/TVn9OoVJ4RvB6sGakwKed2f7S+XxyDZTUHd+D5MPrwGc843rerKyi9x\n",
       "2x2jAwxBtNuDFsq760l1DLAnWwNH++wsCaZVlH4TJLnUyZhbg+I3lSG7tw5WGCIly+n3DopNpoYr\n",
       "keyTKc2E6+erYXxRvenE3kCtHBOX3+34/kcidRO4+j1G2zsbLOvf3JXzJzusm0l5Cb9aOX++rTfs\n",
       "J/2/sbG3VR0j9Pv+AfgHgJkj9/vRE4EAAAAASUVORK5CYII=\n",
       "\" style=\"display:inline;vertical-align:middle;\" /></a><br>"
      ],
      "text/plain": [
       "fold_not_proper_subset: forall_{A, B | not(A proper_subset B)} (A not_proper_subset B)"
      ]
     },
     "execution_count": 11,
     "metadata": {},
     "output_type": "execute_result"
    }
   ],
   "source": [
    "# Proven\n",
    "fold_not_proper_subset = Forall((A, B), NotProperSubset(A, B), condition=Not(ProperSubset(A, B)))"
   ]
  },
  {
   "cell_type": "code",
   "execution_count": 12,
   "metadata": {},
   "outputs": [
    {
     "data": {
      "text/html": [
       "<strong id=\"superset_membership_from_proper_subset\"><a class=\"ProveItLink\" href=\"proofs/superset_membership_from_proper_subset/thm_proof.ipynb\">superset_membership_from_proper_subset</a> (established theorem):<br></strong> <a class=\"ProveItLink\" href=\"../__pv_it/theorems/ffefb1615ecd7a2812a2005ae1c85ab4bfbf25930/theorem_expr.ipynb\"><img src=\"data:image/png;base64,iVBORw0KGgoAAAANSUhEUgAAAPcAAAAWBAMAAADuuhdHAAAAMFBMVEX///8QEBCIiIhmZma6urrM\n",
       "zMxUVFQiIiJERETc3Nzu7u6qqqp2dnaYmJgyMjIAAAAcRTyBAAAAAXRSTlMAQObYZgAAA4ZJREFU\n",
       "SMe1lktoE1EUhn+TmTQzTdquRNBFsAul+AgEKoqPqBuVitGFuDP4gAqKQcX3o0qx0yo0brQI2hHB\n",
       "RxQNuNKNsSJK6yMq+BYHXBS60NJarZWi9547mblNk2Ij3kXm3nvOPd+Zc885E6DE4fkSG1vh3FjC\n",
       "20CwOwqLzz+OHx6IVvBHMFtErjcU3H71e2OtEYUvyS2gi2/1lAIPpNmjwiwir0gW3p8EeAegWwRv\n",
       "YxtaQylwOtVWTP6y8LY6DCj9QAfBuev0DuOGU7y6isn3jVi92bPHEqnyk11VH3CBLAQ7U6kzKAn+\n",
       "IZW6migi1kYI1tXkZv4qBt7PbiXKLWDQMA6WBq80jKZMsWIIs5ybumVJByWfm1OVcai7ebDDBN8M\n",
       "NNO++F3Wf7+eckVxnHVSR2mdX9vswn0xSZan62dVcB2vQ4f5wudqrd/2oolfctAi+FJKPbb8RtJg\n",
       "FQJVdDyn/ynqHH0O3HPhShg38l7Y0S1jhE48M5ePMAXMTkKfyJ7lCYKXwUO1enGYpN44yofkE/oi\n",
       "JlarIxE2rwXumg4cCczMGb12f0FOl8YEJjZhiMXqL2yIhDvKHWCOqb1kIZAto+3OncLlELyWDA9c\n",
       "DkPfuiKVYvMdwEL3zfEEubQKnjhr2rouHOgTC6kev3N4yIFr1loqwJBw82YMs0wZvsbfwG+XgjAA\n",
       "T48EP6/G2aR6zWZ2d46uG3aoA7YnI8oc29lRRYQdzZsoKTCHxKtmTo9Dhse9CdTZCdf34riU7fCf\n",
       "Zj81PmuXaNJC1024O55eUI15Q04RsDJXB92Ewy068B6zSfwUmCbDg2lm4oENtOBJSPBy7m+sIgs9\n",
       "7Ora4jCUX/5eTeTAAafpslxe3ML9yQh4JfdL//y4laJ9EmhPS/Ab8x8NYa79OhlovyS4uNPKJNS9\n",
       "hnHM1rWDlIC+oaba/mJdahRp6vv6PVJ/gryICQtBLvCaaKeLZcZXJSX4PGgDLCyiQ6Sh/JTh76h0\n",
       "EUPc1S3YXuua7PaaG5dtCzRWMtNZrQXaELQpUtgVFrdhXBFK7SZOZWQ476O9T5ER9yJ0x/6w5EaH\n",
       "BPcPQms9pE7Gw/5IfVSCtzag7UdWob4WOBKpbUQeXN9WN8OEP+3ojuqLBb/2lvzmYpTLnVIWXDIM\n",
       "Y1Rvl8d0fud/8WdCci0ffrsYvMCX4/C//I16ywx058Gzfw//v8P7/xF/AAdz9RArGsNxAAAAAElF\n",
       "TkSuQmCC\n",
       "\" style=\"display:inline;vertical-align:middle;\" /></a><br>"
      ],
      "text/plain": [
       "superset_membership_from_proper_subset: forall_{A, B | A proper_subset B} [forall_{x in A} (x in B)]"
      ]
     },
     "execution_count": 12,
     "metadata": {},
     "output_type": "execute_result"
    }
   ],
   "source": [
    "superset_membership_from_proper_subset = Forall((A, B), Forall(x, InSet(x, B), domain=A),\n",
    "                                      condition=ProperSubset(A, B))"
   ]
  },
  {
   "cell_type": "code",
   "execution_count": 13,
   "metadata": {},
   "outputs": [
    {
     "data": {
      "text/html": [
       "<strong id=\"subset_eq_reflexive\"><a class=\"ProveItLink\" href=\"proofs/subset_eq_reflexive/thm_proof.ipynb\">subset_eq_reflexive</a> (established theorem):<br></strong> <a class=\"ProveItLink\" href=\"../__pv_it/theorems/02be088339dd6ec2c1b5c12aca01996852fde41e0/theorem_expr.ipynb\"><img src=\"data:image/png;base64,iVBORw0KGgoAAAANSUhEUgAAAGwAAAAUBAMAAACaOcVSAAAAMFBMVEX///8QEBCIiIhmZma6urrM\n",
       "zMxUVFQiIiJERETc3Nzu7u6qqqp2dnaYmJgyMjIAAAAcRTyBAAAAAXRSTlMAQObYZgAAAcRJREFU\n",
       "OMuFVDtLA0EQ/oyJyV1yml8g+QcJBLRQMGAhCEKqlEbwhZURi0NQSJlUl05BxAMtJIIIFtoJWijR\n",
       "4sBSlIDaBEHRgFHwMfuI7GLUgb1vd76b2XndAS1kDX9KuARU2eZKU5t5DoFqK5tRWjPAGdvXNKaz\n",
       "JOBRHK1p27bTTfKB1g6wQmDkNbMLAddvHIz7ksJZDy4QiaGTwa5mtiBC3XtV75ayPUBHMwqrUi4v\n",
       "a1ZGTvj11Tn2aaQXT9HzFmgUCosa40twGA6/c8ypnN899AiOgUmgyFVFSYU8HmMq8MTvHlPNNpGN\n",
       "sbSBQZi80lZdUkGeqR/Gs9INKSmss1j26S34uPuNd0m1seiRSfY0fgQZGE/OMjdZKqMX5KrKvGZG\n",
       "j25+PFJTI7YqzIxqhjuKFdQgw7TmRAOU7tA2GCUcYqWYYJoO9KolWZUDQclNDX+3ZlfODpUEezz6\n",
       "S8QlGUnI3jmi0YHT5nCx/obYEPTT6mIlNW/OHVcmkIPpfLg4+JzXp3jrs4aw80Je71jl2evtLtbT\n",
       "2nD9IeZ3dUfoVk8f5d8lEmuWoQHDWWoetOE9sW31w4H4cFrFkP/ntmJr9T8/BauEL2dybp5wiLXZ\n",
       "AAAAAElFTkSuQmCC\n",
       "\" style=\"display:inline;vertical-align:middle;\" /></a><br>"
      ],
      "text/plain": [
       "subset_eq_reflexive: forall_{A} (A subset_eq A)"
      ]
     },
     "execution_count": 13,
     "metadata": {},
     "output_type": "execute_result"
    }
   ],
   "source": [
    "# Proven\n",
    "subset_eq_reflexive = Forall(A, SubsetEq(A, A))"
   ]
  },
  {
   "cell_type": "code",
   "execution_count": 14,
   "metadata": {},
   "outputs": [
    {
     "data": {
      "text/html": [
       "<strong id=\"relax_proper_subset\"><a class=\"ProveItLink\" href=\"proofs/relax_proper_subset/thm_proof.ipynb\">relax_proper_subset</a> (established theorem):<br></strong> <a class=\"ProveItLink\" href=\"../__pv_it/theorems/7c178732e084cea8fce13afca63448839b452cd20/theorem_expr.ipynb\"><img src=\"data:image/png;base64,iVBORw0KGgoAAAANSUhEUgAAALkAAAAWBAMAAABuySBUAAAAMFBMVEX///8QEBCIiIhmZma6urrM\n",
       "zMxUVFQiIiJERETc3Nzu7u6qqqp2dnaYmJgyMjIAAAAcRTyBAAAAAXRSTlMAQObYZgAAAs1JREFU\n",
       "SMetVU1oE0EU/tyfNLtJak8iKBLwoBdtIBBRika8SFFaPPQkGLBCD4rRokFRjCB2W4XEixZEuyK0\n",
       "koMGetGTtSJqFYkVBBE14Ml6aGlsTSO1vpnZTSdtrbg6sPvemzfzvd+ZATyPG3/QP6CvyJgPHsDN\n",
       "NCd6cZHm7dzBmBWHLwu8YPKYB/T6rCATLmYqlToh2NWAOgWT7PaSZKQ9oL8R5GNF0JvPqxp9FtBK\n",
       "wDDZtoFg3gP6KZGfwRkhfpnXKDQVmgRuERnJ5a55ADeSnISUb5yqkoP+BkI+TY7HgbJlnfGArkQ4\n",
       "aQ7MclonqVYmoJ9kKaElh4BuPin+u0uPO3i9tKorWZfTMk2xbne2wBMT1ye5eFVCP3BktIuFEqKy\n",
       "7uLFJV6EGGpAsIFvdxd/ilf3vQYeOWxdXrhglLh4R0JvzMJcRTSQZDEp3I3bIkQ1gUBFRjd3kFpf\n",
       "H40SHwMe2mJ6BbfZFo2VF2XmPLNAxnVq1mBBaEY6xbIw1KKMHhyIwDzcnMsRfxzYDhmdfuvEqvA8\n",
       "+jRDDwt0o9jGmzRscdW9Vmy2ZfR9/jR8rSKMKShjcmYC9B0T8teadsdRsquxtupuZ3M+bOG6lk0b\n",
       "E5DRE2oSe5yqTo5ehFzV6/SNC7m/3ZbaXS87VcUg79z3aOS6V8AGGT2UVybwxElSEUrSTVjE6fmM\n",
       "01L7u5yboJ6aYmcPK+EQa0+WMvPzyww3fhnoy0vod5ueVbDV8XcIxg+3O5MwMz9t3J/rrD0IvvHp\n",
       "aMclboblM8RQVRt9PLm0uyUroW+DMUWBiWOShzZTexMsNwaq3F7aWzB6YFRgrJUyo1F6Z91u7rNx\n",
       "ZWjBLbbMGK7WqAwjc1Zfg6elaEdcQs+k0fu9oPETGjwXjV3A4iPMdanU/A3sHJSFN39A4v2yot+y\n",
       "rKVfj9+PWvPOY7UkupeX793CicLfoP/TUP8Dxi9bSbT1CXT83gAAAABJRU5ErkJggg==\n",
       "\" style=\"display:inline;vertical-align:middle;\" /></a><br>"
      ],
      "text/plain": [
       "relax_proper_subset: forall_{A, B | A proper_subset B} (A subset_eq B)"
      ]
     },
     "execution_count": 14,
     "metadata": {},
     "output_type": "execute_result"
    }
   ],
   "source": [
    "# Proven\n",
    "relax_proper_subset = Forall((A, B), SubsetEq(A, B), conditions=[ProperSubset(A, B)])"
   ]
  },
  {
   "cell_type": "code",
   "execution_count": 15,
   "metadata": {},
   "outputs": [
    {
     "data": {
      "text/html": [
       "<strong id=\"subset_eq_via_equivalence\"><a class=\"ProveItLink\" href=\"proofs/subset_eq_via_equivalence/thm_proof.ipynb\">subset_eq_via_equivalence</a> (conjecture without proof):<br></strong> <a class=\"ProveItLink\" href=\"../__pv_it/theorems/ce3b4055c5f3b6ed0f2dca8b14c12ffcd3c88ba20/theorem_expr.ipynb\"><img src=\"data:image/png;base64,iVBORw0KGgoAAAANSUhEUgAAALkAAAAWCAMAAACrOc1VAAAAM1BMVEX///8/Pz8QEBCIiIhmZma6\n",
       "urrMzMxUVFQiIiJERETc3Nzu7u6qqqp2dnaYmJgyMjIAAAAtmB3VAAAAAXRSTlMAQObYZgAAAnhJ\n",
       "REFUSMfNV1mW4yAM9LAYxKr7n7YNmCAMOP06057RR55xKCiVFvC2/QMz4TO8M+k3vsYhPETcAh3t\n",
       "8RuQoBCVEApApqFK1L2r/0b7EPNouhEOLHWxnb5lxV2B6a1N3poqgIGHiAfRjSJ2ipnozQS0Y8kI\n",
       "iRntOZG6if/Lpikz6wSadUBexs9ZAXmGsfTsbTKjnyrPbqNwcJJkLBb6ASuOMl2EjgmEkEz7h5hz\n",
       "mizSbg5pZ1jphyrnjFY1Q9IqKlcCkCjRZwko/FHU9NWoyCTEE2CZS4hamTKYk4CoOfEdVQgctGvl\n",
       "kbYQtVrr2y5+IcfJM7L3UHMoZ5U4AIuqrtfAoFg1zCHNLaueOV0jxJsSVnTxE3myIx3gunoFSBCG\n",
       "BGUElvbWvNyPFi0UwvtsOdP88MDVIGRZQofwVtNU1DmYIq41PwESZCiC+gXwyrw8MTrD85s0T8w5\n",
       "ZW7i4X0Tgm9AuNnc+jk9pi7MKyAnHXh7xm8CvGTL+aC7fIrupptvqual1GeBqSbE4YMgEZDIj9Lo\n",
       "CufCvAKKGp4xsQL2FWrc7BC1Skm76ub7K7NCCZQjVINLE0n48hSul8wbQOX2Cn8gk5sAWz+jfR36\n",
       "o2jbPVxP/1jCIhlUp8TZxFtjslF4D7Qc8xSDbsF8ANwASZwtIOZEcsdDV1ejqVivW22teLoVXhsL\n",
       "m7dr7padJdWlYz4AboCT0/+n180hlLIkYSoIA4VT/mV+kS0EcGhTLcyBsxvXz2xoQZArwADqsO3s\n",
       "EM1rTC0X5KJCKaBfega8OXEbrtm+lvzNnX51efz0Omw/vk+D+cY30y8w//hrLryplOXyT32C/H0T\n",
       "/wWLL9OTGJuySRYvAAAAAElFTkSuQmCC\n",
       "\" style=\"display:inline;vertical-align:middle;\" /></a><br>"
      ],
      "text/plain": [
       "subset_eq_via_equivalence: forall_{A, B | A equiv B} (A subset_eq B)"
      ]
     },
     "execution_count": 15,
     "metadata": {},
     "output_type": "execute_result"
    }
   ],
   "source": [
    "subset_eq_via_equivalence = Forall((A, B), SubsetEq(A, B), conditions=[SetEquiv(A, B)])"
   ]
  },
  {
   "cell_type": "code",
   "execution_count": 16,
   "metadata": {},
   "outputs": [
    {
     "data": {
      "text/html": [
       "<strong id=\"subset_eq_via_equality\"><a class=\"ProveItLink\" href=\"proofs/subset_eq_via_equality/thm_proof.ipynb\">subset_eq_via_equality</a> (established theorem):<br></strong> <a class=\"ProveItLink\" href=\"../__pv_it/theorems/4f3bd8855be33d85aafc78320524d8bd5f573ef70/theorem_expr.ipynb\"><img src=\"data:image/png;base64,iVBORw0KGgoAAAANSUhEUgAAALkAAAAWBAMAAABuySBUAAAAMFBMVEX///8QEBCIiIhmZma6urrM\n",
       "zMxUVFQiIiJERETc3Nzu7u6qqqp2dnaYmJgyMjIAAAAcRTyBAAAAAXRSTlMAQObYZgAAArxJREFU\n",
       "SMetVU1oE0EU/tzstt38tD2JoEhuetEWAhG0aMSLFKTFQ68G/MtFjRYMimIE0bQKiScLIol4KPSg\n",
       "C73oyVgPLVVkrSCIqAFvRWxpbE0jtb55k10nDbZ19cHum5k3833z3nw7C3i2e2vEn9BTEo0PHsD9\n",
       "aXZGqSHydvloNBNDUw54IfrTHtBbc9LNym7oZCqV6pXtTYBvHn7iHaKemfaA/ka6j1V25pecGzGW\n",
       "AL0MjBF3AQhaHtAvyPqMLqqZsGk0FJoD7pObHBm54wHcTMqCaN/Y71FCLe2EfJEYY0Alk7nkAV3r\n",
       "ZNcdWGKfVEJtcRjnRUloynFggAfl+2D5eYKz1N2tuEnr2a7ogDNqc2FixhxnElfQj5yauiFqHaJj\n",
       "PcCHS22ZYqgdwXZe7kz+FHPXvQae1ZrNltyCWVbkKa0jB/9G8gFKqBkab+OBTNEXR6Cqovv32e66\n",
       "KPC0IJsbmLMvEq00VOaqYCByg8QatJt5bLJf7ikMX0lFDw53uuvOAXuhotNrK3fHFPQFgR6W6Gap\n",
       "j0UaznDoUS92FlT0wy1u1v55aNNqZQL0nJWKtOrkjjPEq4uEBo6JsSbs4ljPju3yhBz0uC+JRIbM\n",
       "hj43dR3qqd6lZ0YSn+hW5W5UaqeKUa7Ze3Rw7BWwTUUPWdqssy5YguYUWMiNNZ+VkjImnJuglUSx\n",
       "f1AcYVHIMyy4P7/MckFuAXlLQX/YNVF191uE+cNRZxL+7M8CHi/3138ITTMLkcRNphFkIYHqKyDP\n",
       "zLS6J6eg74Y5j9NfyWy0WdAX62+C1WzYbR2iHGxzEGYV5halMjqVd8mZlC/gdnHFLbaKuTpqqcDM\n",
       "XjY2Y7wcScQU9GwaQ99rgg9eiUSvofETFjaeSv2+gWsKW3nzB9S7aH1/jz9bPX3tZ7Ve9DX/fO9W\n",
       "Dth/g/5P5vsPGL8ARgi0WRAlBzIAAAAASUVORK5CYII=\n",
       "\" style=\"display:inline;vertical-align:middle;\" /></a><br>"
      ],
      "text/plain": [
       "subset_eq_via_equality: forall_{A, B | A = B} (A subset_eq B)"
      ]
     },
     "execution_count": 16,
     "metadata": {},
     "output_type": "execute_result"
    }
   ],
   "source": [
    "subset_eq_via_equality = Forall((A, B), SubsetEq(A, B), conditions=[Equals(A, B)])"
   ]
  },
  {
   "cell_type": "markdown",
   "metadata": {},
   "source": [
    "### Transitivity Theorems"
   ]
  },
  {
   "cell_type": "code",
   "execution_count": 17,
   "metadata": {},
   "outputs": [
    {
     "data": {
      "text/html": [
       "<strong id=\"transitivity_subset_subset\"><a class=\"ProveItLink\" href=\"proofs/transitivity_subset_subset/thm_proof.ipynb\">transitivity_subset_subset</a> (conjecture without proof):<br></strong> <a class=\"ProveItLink\" href=\"../__pv_it/theorems/717e5b7823692ba6647d0db5907654b1921bb2510/theorem_expr.ipynb\"><img src=\"data:image/png;base64,iVBORw0KGgoAAAANSUhEUgAAAPcAAAAWBAMAAADuuhdHAAAAMFBMVEX///8QEBCIiIhmZma6urrM\n",
       "zMxUVFQiIiJERETc3Nzu7u6qqqp2dnaYmJgyMjIAAAAcRTyBAAAAAXRSTlMAQObYZgAAA29JREFU\n",
       "SMe1Vl1IVEEU/tof9d7dq74XtdFDFpTGwvbDkkYvIoVm4FMPwir4ULAVYUXiBmFrBLu9lBC1NwS1\n",
       "pZ8FX/KpzX61qFu9GFFt9WYPiSaZZTVz5t67465WxDpwZ87c+e58Z745Z+YCS1Uu/WV8iD0Zbrwp\n",
       "PLcaocadWWCoInRASRfFgce8O1548tK4aCbyh1Yb8GwyVOZWD+spkcKTvxTN29m8kYHjrKqOY5i5\n",
       "pgPeVOHJjwmFB7+Z/bH29vYjZL1njNgBXAG00WTyQuG5lTA1muOL6F8esUac33m9ly27BpiJRk8U\n",
       "ntxRRU2dZ04WgpcEuXWV6c0grUA3vRV17dTdNhErWlfQwS2X9VlJ3LJcsWAgF07ahtLrTKxBqte4\n",
       "J8Vysxv7zGcaGou4nVApHTQhkFYObzkJ9wHqSZrH+uxdjT3Dc+DOfDhp68OA2SkmNheUKdHNatLZ\n",
       "YBqeMH/vIC97hUDOZngoQhOMakwmV6sZzr3G72d2ALitS/BGv78KCnNfMxNnGTna5A/MUPd8lnwV\n",
       "fccqN8tCryHcGj0sfPTBSUrwQGiUyb39VVD31yWTzD4EbJfgffeSSR3FaTajTyZn1UqRXtLKadUN\n",
       "glzJNNFR5IvS2M0GbOS+OfjykzJ5Y0kERUIzdRqOcQneSnYl+07VJdk97DmYK3s1DxEv3xMeed0t\n",
       "/F0RNtNY/YaKZoLbB49F3uwMY5cZcJMvupCFu9JkH5WinQLuIns+C9V82Wjn5qgZcBik2H+NShp7\n",
       "CqzlbVk6h1xLOSZw39yBDBzhLNwr9PghkfM8olyPiVz4ZI/w5Bvk+jg5Qxl3Rf34JEaKnWW+ccn4\n",
       "BqqGRH4j+GgWW01/0lDorBBwpyDgUXLdSsYw1NhPHbd+iVDqa9Et9t6uEAVEKXdZIzd0JMh/Nmc9\n",
       "n8sZETtjk2+DMs30oVKWgkucmwTXRBZvYU96/vGaLftOW8erVfptazeb0VDOQJmFsoJdNzo6oI5I\n",
       "5C6mwpwVtQkd59jiLbh5fRYbuBbPuVj+UIbtfZ2BEutwL8fDKX8bE2VPCt7QsC6RxyLo+Wq46Fzz\n",
       "dvoDp1iC2PBawfkguB75x+FiF37uTe+xLemeK5ERfdFoNB+utkWjkQV/JhYved4N2dPGFyFfGP4/\n",
       "v1Gvcl8YlqHhX8gNLHlxLtnMvwEhx+r9fYV6YQAAAABJRU5ErkJggg==\n",
       "\" style=\"display:inline;vertical-align:middle;\" /></a><br>"
      ],
      "text/plain": [
       "transitivity_subset_subset: forall_{A, B, C | A proper_subset B, B proper_subset C} (A proper_subset C)"
      ]
     },
     "execution_count": 17,
     "metadata": {},
     "output_type": "execute_result"
    }
   ],
   "source": [
    "# working\n",
    "transitivity_subset_subset = Forall((A, B, C), ProperSubset(A, C), conditions=[ProperSubset(A, B), ProperSubset(B, C)])"
   ]
  },
  {
   "cell_type": "code",
   "execution_count": 18,
   "metadata": {},
   "outputs": [
    {
     "data": {
      "text/html": [
       "<strong id=\"transitivity_subset_eq_subset\"><a class=\"ProveItLink\" href=\"proofs/transitivity_subset_eq_subset/thm_proof.ipynb\">transitivity_subset_eq_subset</a> (conjecture without proof):<br></strong> <a class=\"ProveItLink\" href=\"../__pv_it/theorems/cb4accd453334eae129281e1711865a33cf966be0/theorem_expr.ipynb\"><img src=\"data:image/png;base64,iVBORw0KGgoAAAANSUhEUgAAAPcAAAAWBAMAAADuuhdHAAAAMFBMVEX///8QEBCIiIhmZma6urrM\n",
       "zMxUVFQiIiJERETc3Nzu7u6qqqp2dnaYmJgyMjIAAAAcRTyBAAAAAXRSTlMAQObYZgAAA2xJREFU\n",
       "SMe1Vl1IVEEU/tof9d69N30vanvKgtJYsB8krV4kCM3Apx4EFXwJtiKsSNygbI1it5cSorwhqC1W\n",
       "gi9JD20WpRZ1qxcjKqs3e0g0ySyrM2fuvXvd1QpaB2bmzD1n5jvzzTkzF1iqcuUv+gGqY0J4k31s\n",
       "NcKdf2wBVWHdASWZEwcei+F49sGXx2U3kalaYyKwyVTJrXYaKZHsg7+U3dvZDE3PcWrK4hgk1wxA\n",
       "68s++DHJcP83azza1NR0hKX3hIgdwDVAH0kkLmUfWwlzp3u+yPHVYVvj/S7afbTtcmAmGj2RfXBP\n",
       "MXe7A3NuIkTpYLeuE99k0gC08VfZVkzdb5SxoreWeoTks6flxW3JFystSTdnbuuS6yxbk1kv90/K\n",
       "7aYO9lnQEnSKuF1QOR10SZBeAK2AifsA9SSvY097Rzz1RqOtJD4H7s03Z26D6LEGuYzmgzIlhylO\n",
       "WqosIRAW3z3sZackyFuLAEdoB0GNusHVMhP+01IuAe4aLvPqUKgYCrmvW4mzrFy0NaGSGR5eTIGv\n",
       "5nnU+CkLNVO6NXJY+hiEl5kQgVDtBte6ix35ELDdZd71IJEwkJukFYNucGpWyfRy7Zx3XSXBlbEa\n",
       "voqCUdbdqsJG4ZtHbD/hBq/Oi+CORcI0POMu8waWi2iearhoD1A9mE57mQgRTZyJiLy2evEtB5tZ\n",
       "V7mhsJbNnYvHBq/1hrHVCrjJF61ImfuSLB91RTsH3GWqnyVrwVS0C3HECjj0c+y/RhHrngJrRZ+f\n",
       "TAPX+zwTsLJVG4MnnDLXZAz9cIGLPOJcj8lc+ORoRPL1C368AiFfuKJ+fBJjxs6Rb4IycYCq6QK/\n",
       "WTo0i52WP0kofFdIc68EEFFyw07GMNTYTwO3f8lQ6qo3bPTO1joOiOXCZZ3dMNDB/tOalWItb0Se\n",
       "jAO+Dcq0ner5ffDJe5PNdZnFW6gm51+vqbL/jH292qXbkfbQiqZyFsoslJX03BhohjrsAvcRC3NQ\n",
       "zzN6h4ELtHnb3Ho+c030xtMelj+UQedcZ6DEmv0r8Ggq1Eik7O2DVjdouMBjEbR/pbdwiC4ZrSVU\n",
       "cooSxDGvkJgPS9cj8zpc7MFPf+kDjuR65/IWne+Yq43RaGTBn4nFS4Z3A86y8X8BH/if36hX6R9M\n",
       "W9CxMHh7lEqm+dIV75Kt/BsENe2Y0EsQnwAAAABJRU5ErkJggg==\n",
       "\" style=\"display:inline;vertical-align:middle;\" /></a><br>"
      ],
      "text/plain": [
       "transitivity_subset_eq_subset: forall_{A, B, C | A subset_eq B, B proper_subset C} (A proper_subset C)"
      ]
     },
     "execution_count": 18,
     "metadata": {},
     "output_type": "execute_result"
    }
   ],
   "source": [
    "transitivity_subset_eq_subset = Forall((A, B, C), ProperSubset(A, C), conditions=[SubsetEq(A, B), ProperSubset(B, C)])"
   ]
  },
  {
   "cell_type": "code",
   "execution_count": 19,
   "metadata": {},
   "outputs": [
    {
     "data": {
      "text/html": [
       "<strong id=\"transitivity_subset_subset_eq\"><a class=\"ProveItLink\" href=\"proofs/transitivity_subset_subset_eq/thm_proof.ipynb\">transitivity_subset_subset_eq</a> (conjecture without proof):<br></strong> <a class=\"ProveItLink\" href=\"../__pv_it/theorems/6001c6bdba1fe5285d7a1694d40ae7de4b023dbc0/theorem_expr.ipynb\"><img src=\"data:image/png;base64,iVBORw0KGgoAAAANSUhEUgAAAPcAAAAWBAMAAADuuhdHAAAAMFBMVEX///8QEBCIiIhmZma6urrM\n",
       "zMxUVFQiIiJERETc3Nzu7u6qqqp2dnaYmJgyMjIAAAAcRTyBAAAAAXRSTlMAQObYZgAAA3RJREFU\n",
       "SMe1Vk1oE0EUfm6StrvJtr0rGvFgFbSVQPwh2IoXKUprheLBQyAVelCIilTF0ghStyIkXrQgmpVC\n",
       "W4M/gV4sCMaK2lbRVS8toka91YOltVirVd+82Z8xaVQkHdiZN/u+ne/NN29mFmCxyuW/+AfxyTLj\n",
       "dfG5lRg1nuwCrqrIQTlTkgB4zLoTxScvT/BmMt+10gDvBkPBsLqxJ8eKT/6SN2/m8jz9J7CqTcAQ\n",
       "hqYD+NLFJz/OFR74avbH2trajpL1DhlhG8BVAHU0lbpYfG45So0qfeb9KyOWx/WN1Xtw2nUAs5p2\n",
       "svjkUg019d55UQhWkhTWNdQbIfsBuugtr3dM32/luaJ2hiRmua3PyhKW5Y6Hgrlw0jaSWWNiDVK9\n",
       "zjPFp+ss7DO/aaiYcdtBoe2gcoHUSvBVknDvQTlF41ifva2zR3gOcE+AK8OaFkZt/dBfyQGlxOYG\n",
       "eZp3HU06Gk3DG2XvJYqyhwvkCoOXMjSJVGMiuVKLOM+qQADtIMBd3YHvpQFlDF81N84SCrQ5EJyl\n",
       "7gWHfAV9h5UHd6HP4GGNHuEx+sFFSrBEaBLJfX01oByoT6XQPgywVYBzxtIMjugXybFazreXMHOa\n",
       "dSMnl7PNdBT5NfLdaoT1LDaJTT8lkjeVxaCEa6bMgDThwL18RavxO0UXZPficyhX9lqWIj62Jizz\n",
       "ulrYuxLYSL6GdVVhgtsHj0UedkVhp5lwUy86wYG7eModE7KdEu4SPp+4an4n25k5aiYcDFDuv4Jq\n",
       "8j0FWM3aikwOuZqWJuGBuQJZkKIO3MfJvwvkbB/RXo9z30fbwzbfANPHxRgqWCjKhydxUuwcxpY2\n",
       "F1AxBPKboeE52GzGkwGZzgoOd/N5sSy5YW3GKCjxHzrc/slTqbdFt9h7OiOUEOVsCVUKQ4ckrSeO\n",
       "2cCCdcX4ytjkW0CeQX2oVKTBzc9NDud7fhM+md+PV6fsO2Mdr1bps61dOKIhnwV5DuRleN3o0A7K\n",
       "iEDuRhXmraxN6nAeJ2/D+8cpTQy4nsi5WP5Qhux1nQU53u5ZCo+mA60oyu40+CJDukAej0H3F8NN\n",
       "c/R1BIKncYPYcLhDh8zD0FrIPw4LXfi5N73XtoR7rkxE9GqatgC84M9E4ZIX3aA9bKIA+cLw//mN\n",
       "Gs99YViGCv9CbsFllENbhB8SlveL9o/5C/5e7NX/o4ROAAAAAElFTkSuQmCC\n",
       "\" style=\"display:inline;vertical-align:middle;\" /></a><br>"
      ],
      "text/plain": [
       "transitivity_subset_subset_eq: forall_{A, B, C | A proper_subset B, B subset_eq C} (A proper_subset C)"
      ]
     },
     "execution_count": 19,
     "metadata": {},
     "output_type": "execute_result"
    }
   ],
   "source": [
    "transitivity_subset_subset_eq = Forall((A, B, C), ProperSubset(A, C), conditions=[ProperSubset(A, B), SubsetEq(B, C)])"
   ]
  },
  {
   "cell_type": "code",
   "execution_count": 20,
   "metadata": {},
   "outputs": [
    {
     "data": {
      "text/html": [
       "<strong id=\"transitivity_subset_eq_subset_eq\"><a class=\"ProveItLink\" href=\"proofs/transitivity_subset_eq_subset_eq/thm_proof.ipynb\">transitivity_subset_eq_subset_eq</a> (established theorem):<br></strong> <a class=\"ProveItLink\" href=\"../__pv_it/theorems/bb95bbd86620c65ef483238e194210dd2447dd840/theorem_expr.ipynb\"><img src=\"data:image/png;base64,iVBORw0KGgoAAAANSUhEUgAAAPcAAAAWBAMAAADuuhdHAAAAMFBMVEX///8QEBCIiIhmZma6urrM\n",
       "zMxUVFQiIiJERETc3Nzu7u6qqqp2dnaYmJgyMjIAAAAcRTyBAAAAAXRSTlMAQObYZgAAA3hJREFU\n",
       "SMe1Vl1IVEEUPt27q96/9L2o7SkLSkPYfljS6iWC0Aykhx4W1sCXYEtiKxI3qG2NYreXEqL2hpAm\n",
       "Vgu+JAVtBqUWdSsIJaqtnrKHRJPMsjpz5v65/gWtA3fmzJ0z8505850zA7BY5coC4z34ZZnwNv/Y\n",
       "cpQab3aWodLQQSlTkAR4wrrD+QdfmuTNiNl/HYlEjnBxlQHKBkNGs1qxJ0XzD/6KN+8meXu13x7p\n",
       "OI5VZRJ60TQdQE3nH/wY93D3D9797Ix8QETYBnANQBvo7LyUf2wpTI0mfKNWdLYn/mT1Xtx2FcBE\n",
       "PH4i/+BCOTW7lClqC52RFJl1A/2NKgcAWugvr3eOPWzgXNFiAYFJHmtaUdKSPImAP1edlcFQZo2p\n",
       "a5DXq7yj1L3ogD/3mYKGjNsBMoWDxh2klYBaQo77CPJJWsea9h791BWPx1B8AfDApS73xeNBZJUP\n",
       "Okq4biH52QPSGCeZA95cYwpKmHlEICvbuIPEICjE0BRCDbrB5UoDvKe57Ae4rzvq+2hBCc3XzMBZ\n",
       "UsXqugr/RK7bV9I8rLwYharBRwYauZoPRPIEI0KtG1xtL7flwwBbXeocsTCDK/rc4Fit4HN9zs5p\n",
       "1zUcXMrWUSryxWnsdg2sZ7YJbPudbvDaoijcNZ0wDsKwo65wLpfhPFl3uV3B7xDvf7HBKxlFVHYm\n",
       "jHkt9exfAWyksep1pUGabSceCzwohmGzSbjRlzFw1EVOuaMuthPhLuP3lfev1+sW25kTBkzCQTdx\n",
       "/w2U0dgzgNWsLc7kgGtpYQTMPKVmQQg76ioH/+UCZ3FEsZ4wY2H/GTO9suDrZpaIDKGYmSJ/epog\n",
       "286hbWnzAGXDBX4r0DcJ2017MiBRruDqHn6ijCU3rWAMg5z4rcOdP425KaAtFiJCLGUs1cgMHVJE\n",
       "WVyzmhkrRvnJ2OBbQBq3Qr04DR6eN7k6j/lN+GWmp9f5Srst7cYVDeksSJMgLcfrRocmkPtd4B70\n",
       "whTI5wk9pcMF3Lyt3jFENDGgK5lzscxTeu1znQAp0eRdBo/HKhrQKXvSoIZ6dRd4Igqt3/Eu7MMk\n",
       "ozZX+E9hgNjqcI+SzKPAWpiZDokCkYhzpZoRk3vTK7bkuueK5rRdWfgxMXeZbp35tOHLJv8FvOd/\n",
       "nlFDuT8MS9BgdvDWOJYZ6hL7uwgPEsb7RXtj/gWHMvKyA0iD+AAAAABJRU5ErkJggg==\n",
       "\" style=\"display:inline;vertical-align:middle;\" /></a><br>"
      ],
      "text/plain": [
       "transitivity_subset_eq_subset_eq: forall_{A, B, C | A subset_eq B, B subset_eq C} (A subset_eq C)"
      ]
     },
     "execution_count": 20,
     "metadata": {},
     "output_type": "execute_result"
    }
   ],
   "source": [
    "# Proven\n",
    "transitivity_subset_eq_subset_eq = Forall((A, B, C), SubsetEq(A, C), conditions=[SubsetEq(A, B), SubsetEq(B, C)])"
   ]
  },
  {
   "cell_type": "markdown",
   "metadata": {},
   "source": [
    "### Misc Identities."
   ]
  },
  {
   "cell_type": "code",
   "execution_count": 21,
   "metadata": {},
   "outputs": [
    {
     "data": {
      "text/html": [
       "<strong id=\"inclusive_universal_quantification\"><a class=\"ProveItLink\" href=\"proofs/inclusive_universal_quantification/thm_proof.ipynb\">inclusive_universal_quantification</a> (conjecture without proof):<br></strong> <a class=\"ProveItLink\" href=\"../__pv_it/theorems/ea336cf8ea2bbc9d85ac69d7bce251f22c233cd10/theorem_expr.ipynb\"><img src=\"data:image/png;base64,iVBORw0KGgoAAAANSUhEUgAAAYcAAAAWBAMAAADZfU0fAAAAMFBMVEX///8QEBCIiIhmZma6urrM\n",
       "zMxUVFQiIiJERETc3Nzu7u6qqqp2dnaYmJgyMjIAAAAcRTyBAAAAAXRSTlMAQObYZgAABUtJREFU\n",
       "WMPNV1tsVEUY/rr3y9ltH3xSHzY0sYRAu5FYElLKRh/kQewGE8JbN0QIJigbJPECSr1kPVWxS2Kw\n",
       "0WiPaCzUBDb6QHzRldaoUMkqiQlecA0SQx+g6Y2yovjPP+ecPbM3iquJk5yd/8z8+83/zX85M0Dz\n",
       "7W24LieXohgsyD6cBc7vqZ7vvHgrKJ8Akd8TokNRvP/cDIfQALREVEiRQk2FyK7F7Y+tJeGINfII\n",
       "PRPVihONUPD9jcz2C0YZxUdboSW4Oy3ep5ohEc0SlpYTklFbo5V26jmau2QNHKtDoiEK/gICt5dR\n",
       "QkUmIbph4aCBZkicFVgMMVxHoz8PfBZDJG4NaLHaJBqieK9TIM44UE4yCdEJ3rwB/7g9xVjCmafr\n",
       "aHTRUl15+LN2BLY5SQSs8YmGKK45eq47UN6VJKiLnBobe6MZDsE0Y/00NnY0XUdliJ5dCTiW+c1J\n",
       "wjtgk2iEEpimPJhzoEQTTII6LOr6vmZIuOJMolXXX8rXD+bgLNBO4uG7Xl9JsTSuhNNZm0QjFJFZ\n",
       "I3GBEmqP4aABLc4kqMM2YJCV5O+G2fEd7LANC+MZTjFPldvhGerpHrRGC7JIJB3zqr4I5hNk2gFa\n",
       "Ph/Z7Sdjzpsk1jwh2v64RaIKxTaHMyu8j1E0Txu6KIiKTII63Mf5TfKcrIdt0NosgT0bsAB/SWCL\n",
       "rh8Q4rfA5+aoP8ckPHGuOc5G+tJXC5PjK6jfS4qGVvKQUSfUxP40Z5KoQrHNoazaOXm3wShvuYvQ\n",
       "KcvTTII6+OHiwvzen6zqTiFc4jKcgmvaSSK0nvXCIoK7qdyYlbAlIfMrjVXWyh+OryvrE0BJ9rfR\n",
       "GAKcAP0qidCvCUmiCsU2hzLLsFCMlhhmyMPTvDB10Ap+njz1uNzYGNzsGX/BXNAioY1Kr2+mZzfQ\n",
       "C5XEN7AyMvLKm4ZDH61pmwS9xGqQOPS16YkqFNsc4GoZpc/wziskgsXNHLgxnXWOJ9HJlI9n0WE4\n",
       "SWySnOAzEJqHa0oNJ7zjTZHQvmkbBaiij36TzF5+4QPK/SaJ3svcLlk5IVHuTeFpE8U2B97ZMkov\n",
       "XBRjHhlOHkF78GE2DWtYp2/V8pQUTk7KSLVIpNxykyKUADPfZaAmNgKH6GeFr7gHRVWfPxOiUTaF\n",
       "jS64jHJiy/agXZ0kSr7kbTNRbHP4M2GiIINASklsfMxr/SjyndoZoMMS4CQRyckUgSsJrQiX5XZN\n",
       "lliExSYkowWE4qo+rpjZQ3W1LzdE50Wgx0kiNFUmIVCC76ddAyaKbQ6iJRuFUrKPts6d54XdeStK\n",
       "QxcmZeK8SsWYPfBCBYljPV+VrPdAHsE/rHIrP3YQqUZgWXif1PXnHfq9N7ZKTYqhD5YdXifS/aKT\n",
       "hC9ZJsEo7rwvZqLY5rivLMQsFIJZTyUumpQfO/H3iDDebWCEsci2vqwpKCTWIjjPwkdkag6ea+qx\n",
       "A/hBZmwSKVXfbo5jR9pJIggHCYHiT7RYKLY5FSiirIzKhUftqY1kWSH4MoIlBO8ECd5rKgkPbSAX\n",
       "4YfIzyMGDuaVA6BpzvQZ5PGFou+o+Tc9AFp2JvsgUaQ5lSi+YmhOOQCahi4iOPSM9w58Obt6RwIk\n",
       "dM5mFRJDAxi+WtiiZwhc27+6+0Xnh9kiEXr0gZUGAjlbX11/8GZHcStCt74GiSLNqUTxFwIx5Siu\n",
       "tHCV4PxiN7oUKSPLRTTXaEecbBqQOMolqD6KZ9k95qmGFq487PBVTxWWQEJcT5+9petphNbtrHE9\n",
       "7TCvpzs9xSWgnKNCSdfTc5XzhSqhggSdnfQM/uu2cfJfh3Tj/97+BktyspYFM7ljAAAAAElFTkSu\n",
       "QmCC\n",
       "\" style=\"display:inline;vertical-align:middle;\" /></a><br>"
      ],
      "text/plain": [
       "inclusive_universal_quantification: forall_{A, B, P | A superset_eq B} ([forall_{x in A} P(x)] => [forall_{y in B} P(y)])"
      ]
     },
     "execution_count": 21,
     "metadata": {},
     "output_type": "execute_result"
    }
   ],
   "source": [
    "inclusive_universal_quantification = Forall(\n",
    "    (A, B, P), Implies(Forall(x, Px, domain=A),\n",
    "                       Forall(y, Py, domain=B)),\n",
    "    condition = superset_eq(A, B))"
   ]
  },
  {
   "cell_type": "code",
   "execution_count": 22,
   "metadata": {},
   "outputs": [
    {
     "data": {
      "text/html": [
       "<strong id=\"inclusive_existential_quantification\"><a class=\"ProveItLink\" href=\"proofs/inclusive_existential_quantification/thm_proof.ipynb\">inclusive_existential_quantification</a> (conjecture without proof):<br></strong> <a class=\"ProveItLink\" href=\"../__pv_it/theorems/3c0fafd219fee1ee3e6cc95815933872fb3a22060/theorem_expr.ipynb\"><img src=\"data:image/png;base64,iVBORw0KGgoAAAANSUhEUgAAAYcAAAAWBAMAAADZfU0fAAAAMFBMVEX///8QEBCIiIhmZma6urrM\n",
       "zMxUVFQiIiJERETc3Nzu7u6qqqp2dnaYmJgyMjIAAAAcRTyBAAAAAXRSTlMAQObYZgAABR9JREFU\n",
       "WMPNV11sU2UYftaftef0tOuFV+hFwxJHCG6NxBHJGA1eyIXYhgtvaYg0mKA0SDIVlPm3dCquJEan\n",
       "xuyIxiEaaOIFISZaGYYfG1IlMSFGqMGFsAtY9sdWQXy/n/PX023VauKbnL7vOeft877P973v930H\n",
       "aF4+gudG6n2S/DKOSlnoEDle3ut+3zn+d1BOAuFrCaZQYfe/NsNB7YeWQHcmk1lR3yG8ez7zzHoy\n",
       "jhhPnqLrtNvx9FIo+PnuQOaqbqG0ElsKzNQP7H6iGRKRPMMycqsnbTRSL1P468aDY4uRWAoFfwLB\n",
       "FRaKWuEkmBpmE9TfDImLWI7EtiLwbQzhuPFAi/0DEv7bVIhTNpRTIjCpCI2QVmiGxPPLkuii111F\n",
       "BMxqV6N2EsF8QyQ8M3TdtqF8LAKTCp8/evS9Zjgo2WVJDNG1OwFbmN/tJPz9DZEITlIfzNhQIgke\n",
       "mBTmc7n9zZDwxJclQcWsTAPtZB6+/501VEtjjnK62BAJ1lkjcYaitsdwSIcW54FJYQcwyJ3E7+bp\n",
       "sZ18wjbPjQ3ozPC5ph2+oZ7uQeNpmZM409fXt1AzdHmrmE9QWxyk8MXwngAlc1lmvK6PyYG4QcKF\n",
       "YqbDOyu0n6Novii6qIgqnAQpPML7m+wZsR5GoUUNI8tzMQCv0D++zOUGyPwR+E4+DRQWm4krCTlX\n",
       "c6Wx1aT3kaOuVX2U1AlnY39TWGwmzHSoq3aVHtQ5yofeCnLU5VkemBQC8PDd45M73NWbRqjKl+E0\n",
       "PJN2EurGMvyvC7ublhtdmC0JF4kvxjZIfzEjVaHvoWcI8gbY5iSh/pZwk+AoZjrUWbqBorfEMEUz\n",
       "PMkDk4JWDvCX558VAxuDl89MoCwDGiS00bhp7wF6sRiJ8Jsf6NJfFHPWJEE3sTok3j3nngmBYqYD\n",
       "3LJQkrp/1kFCqTzBCzeW4z7HU+jklI/n0aHbSWwlTl/LkZuFZ6JeOWntW3dQgZr+opglmX38JsV+\n",
       "H5UZ997gct3Z2JvSeEGimOnAP22h9MJDNeYT5eRjYzT4JK8erOM+yQdWpYVxqiQq1SCR9mbxsGzs\n",
       "qZ8G4GxsEX51a2UvKpa/uU0woZYM6V3w6FZjC3m8ZnUqVv1RiWKmw7cJiYIBBNOOxsZXPNYvrN9J\n",
       "LgAdhgE7iXCBWuScrKwKPFmjyuxLbCpShhq3/LnclN1D62qyMETnRaDHTkKdcJJQPs16+iWKmQ4i\n",
       "VROFWjJJQ+ct8sCkZJWqV0uicd6ixZjPwKs1JI71nK1ik3xUhPKHsdyKze4aLY50sGnLw/9cLveK\n",
       "9Oclc3e78KQa+mzl4Q2s3cftJFpTJgmB4i22xiSKmY735lzMQCGYjbTERVJis2N/D7PkvTpGOBbl\n",
       "lsxLw0FiPZRZY+lvK8C34D528I5NIW35O8R27MjaSSjOsxM5JloMFDOdGhS2rIyKwKPmqy2UWVl5\n",
       "A0oVyn0gw7/gJOGjAbwD9SCHGNFxqOg+AEKZvIAivrf8nUfyxg6AlGcqCYEi0qlFaa2oM44DoEx0\n",
       "HsrQi/57cWZ67c4EyOiczjtIDPVj+FYZobO02WkH1na/Zt+YDRLq04+t0REsWP4OGWzoKE4DsP1t\n",
       "CBSRTi1KoByMOY7iDgm5DPuOveRHkV1WsWquI0fsbJYg8TlfghZH8a18SJ5qKHCw9kvwpMtogAT7\n",
       "PH0p1dCBV85MmOJ21vk87RgXepev0gDKJVp26fP0Uu37ssuoITGcI8F/LVtK/zqkF/93+Qt0tKvq\n",
       "rBGZOgAAAABJRU5ErkJggg==\n",
       "\" style=\"display:inline;vertical-align:middle;\" /></a><br>"
      ],
      "text/plain": [
       "inclusive_existential_quantification: forall_{A, B, P | A subset_eq B} ([exists_{x in A} P(x)] => [exists_{y in B} P(y)])"
      ]
     },
     "execution_count": 22,
     "metadata": {},
     "output_type": "execute_result"
    }
   ],
   "source": [
    "inclusive_existential_quantification = Forall(\n",
    "    (A, B, P), Implies(Exists(x, Px, domain=A), \n",
    "                       Exists(y, Py, domain=B)),\n",
    "    condition = SubsetEq(A, B))"
   ]
  },
  {
   "cell_type": "markdown",
   "metadata": {},
   "source": [
    "### Theorems establishing containment claims as being Boolean (i.e. T or F)."
   ]
  },
  {
   "cell_type": "code",
   "execution_count": 23,
   "metadata": {},
   "outputs": [
    {
     "data": {
      "text/html": [
       "<strong id=\"subset_eq_is_bool\"><a class=\"ProveItLink\" href=\"proofs/subset_eq_is_bool/thm_proof.ipynb\">subset_eq_is_bool</a> (conjecture without proof):<br></strong> <a class=\"ProveItLink\" href=\"../__pv_it/theorems/78c26f6c64ff857a3f0149c38b067e9b779726710/theorem_expr.ipynb\"><img src=\"data:image/png;base64,iVBORw0KGgoAAAANSUhEUgAAALcAAAAVBAMAAAD2lGJJAAAAMFBMVEX///8QEBCIiIhmZma6urrM\n",
       "zMxUVFQiIiJERETc3Nzu7u6qqqp2dnaYmJgyMjIAAAAcRTyBAAAAAXRSTlMAQObYZgAAAuRJREFU\n",
       "OMutVU1oE0EU/sz/JmnaQ6GCIgEP9qIJFvQiNOChUpDmVC9iAq2QerARkRyqsorQRJTmZD3ZlYqW\n",
       "CrXgQTwZmoNaRfYkiFYj6sEKbbES24rWNz+72WyzAcEHb2fmvZlv3nzvzSzQTBRdaDMJFRvbH5NW\n",
       "WGfBYeGUVJITW5wtw9WuzBVgqN7sOpP/0zEI+GjTF8yw6AD+VSrJsjS9zuVy50R3mwp0JzFjWxTx\n",
       "RqcmdQQp7Jvs9Gpj7Ja4UNZd1nh763nNnSLC+uIIR+tXBTy6K0mIc7QPLQrPNgb3F4WS3O8ummcx\n",
       "JEamD1EE22Qoo7mLEjw0S+C3yTQ/PT3uwMq4VBI9lmCN2xrGJSDYQbF95iPvZc2MPNxL4BFasZbP\n",
       "n3cA3y0V8GhPeNH4re4qcOwUtWU+mtFqtPT0J4kPIvQkUOBG8T2yWs4YxXVdKnAHKc7sDQu2t7rQ\n",
       "OcI67/lwqMZ5x2Y7o4kyepjnlfo/BHNtCEsSMSIVSGAijlpdippbJ17T1HnEh6oloeGFEl2ALDup\n",
       "i5948jd3udMIbchp7VLhHegaVu20BCgG1y9WNXzKriUSCQ71KFlWiBpdrJg/KyokCnfFDu6houZG\n",
       "a9m1UtSu7wa4Yo0cqk+AK5V+vnM0z10Pktin2WmhGvELrr7Vl7mPcdnDh21W8HSEIsqyRA4ykw8H\n",
       "uatvb2catoQqBB5Z4aa7g5q1zFOqmdD9dZG/EwnFQ7YD3iLGXa+APca0slRW64F1YTs+alz/jxTc\n",
       "drbVIcHnrHn9S+EyBeguMe4Yj8FPL8d4TNeACWNaj9CpzUWExn7G6y/B6c2BA3k+8wsfBzO9dQ8X\n",
       "IklWfAzUrWGCDUDp7ytuvf5NJJgVreeZuP6G3DN7VDqtunIVygaUnQ0eriZif7gMmTOTsAZl7IJ3\n",
       "B56udmUSpr9gXlwDKJerPblSZhwOVLH/VZx/Fs5SaGwOFBv8mv71N9fikJQ3doOO/yp/ATApxewe\n",
       "JdHZAAAAAElFTkSuQmCC\n",
       "\" style=\"display:inline;vertical-align:middle;\" /></a><br>"
      ],
      "text/plain": [
       "subset_eq_is_bool: forall_{A, B} ((A subset_eq B) in BOOLEAN)"
      ]
     },
     "execution_count": 23,
     "metadata": {},
     "output_type": "execute_result"
    }
   ],
   "source": [
    "subset_eq_is_bool = Forall((A, B), in_bool(SubsetEq(A, B)))"
   ]
  },
  {
   "cell_type": "code",
   "execution_count": 24,
   "metadata": {},
   "outputs": [
    {
     "data": {
      "text/html": [
       "<strong id=\"not_subset_eq_is_bool\"><a class=\"ProveItLink\" href=\"proofs/not_subset_eq_is_bool/thm_proof.ipynb\">not_subset_eq_is_bool</a> (conjecture without proof):<br></strong> <a class=\"ProveItLink\" href=\"../__pv_it/theorems/8203749b2e58381bc8e81293782dbbc98fd4676d0/theorem_expr.ipynb\"><img src=\"data:image/png;base64,iVBORw0KGgoAAAANSUhEUgAAALcAAAAYBAMAAABKCnGXAAAAMFBMVEX///8QEBCIiIhmZma6urrM\n",
       "zMxUVFQiIiJERETc3Nzu7u6qqqp2dnaYmJgyMjIAAAAcRTyBAAAAAXRSTlMAQObYZgAAAxpJREFU\n",
       "SMe1VU1oE0EUfk2atLvZpD0UIigS8GAvtcWKXoQWeogUpDnVmwmkQurBtojkUH9WUUyK0pxsTzZS\n",
       "wVIhBjyIIFiag1pF9qjYaERFWsEWK7WtaHzzZmabbLJKwT54Oz9v5pu333vzBmDrUgvbKHX/B0Yx\n",
       "uJbLfNnIk6q+9yFqgXXyNuBTQlGOb84u8sY7sNoeuwzQX77HMZT47e8DcOOhz0uWV8iCUJQlMfUq\n",
       "PuQ/w7s1OkBHCDKWTT5XYGrSABXdHmd/r1fH9rZxZd2lNLU3n4E7JMxhJKynDbRA+a76WsMRQsRZ\n",
       "PAc3aVmbyKW4otztoFbF/zA9bcWpdwFQG4UrV+PnBbgni+C3cGpuenrMhpUxoShGaydr3OhGizRf\n",
       "xMP86NtHGrkupU3PtW4E9+GOtUTirA34HqGY2unHhszCQWleBTh2EtscjTLpTVqCvUidhoSeAEjS\n",
       "JP8eWcnFZHJdFwpwG8LE7A1MvRlhda3mm4dZ5y0N+zc59xebGE0Y0S6KK/a/c+YaQRMkwrBQgE6Y\n",
       "oMBi+H3yaMc68hrBzgMa6iUB1fLogWeQ/amD/njyF5mcEfBsiGVNQsEVbR/QBS3jJgj64PjJsoaW\n",
       "7P6KIsBBP4ozy0iNwa/z3GmeIQFwFqzgWE1qaFIz4IAEb0CvHd8kuFLqOehuDq4UeunkQIJM90Kw\n",
       "L22lBXOkjnP1RTXjydLczbgM0rCxFDziQ4/YymQfJRkcIlNPS3MELAFVENy3zAtCNFCa5mHdDOj+\n",
       "Ms/neUDhPvnyBlrJ9BJgr1yWE8pyvX5d+Ps5HufX/z06t4P95GHOZ9a8/jNaDh10srRqYL6oH16M\n",
       "EhvXACbksiDXqeIieEZ/8DrQJU8+VYweTNDKTzRWY91lhQt8rEx4GagzDRNUMzD8PanK62/KlYqr\n",
       "JqNQ+5Rffyl3zB6mToOhjICyAcquKoXLrPCFCnBr4ZIyawZhDZTRc66d8GSlPdZp2pPmxZVAF+Jx\n",
       "ybmUTHVs1eqGx/6xsH/iktXB61NVnqa/P3OPKou+zTP32jph/PNVHdnOlz+1lcV/AAf8z9ALe8kD\n",
       "AAAAAElFTkSuQmCC\n",
       "\" style=\"display:inline;vertical-align:middle;\" /></a><br>"
      ],
      "text/plain": [
       "not_subset_eq_is_bool: forall_{A, B} ((A not_subset_eq B) in BOOLEAN)"
      ]
     },
     "execution_count": 24,
     "metadata": {},
     "output_type": "execute_result"
    }
   ],
   "source": [
    "not_subset_eq_is_bool = Forall((A, B), in_bool(NotSubsetEq(A, B)))"
   ]
  },
  {
   "cell_type": "code",
   "execution_count": 25,
   "metadata": {},
   "outputs": [
    {
     "data": {
      "text/html": [
       "<strong id=\"proper_subset_is_bool\"><a class=\"ProveItLink\" href=\"proofs/proper_subset_is_bool/thm_proof.ipynb\">proper_subset_is_bool</a> (conjecture without proof):<br></strong> <a class=\"ProveItLink\" href=\"../__pv_it/theorems/51cd189f72d9eb913d54b16415b2f8e6bfe86b410/theorem_expr.ipynb\"><img src=\"data:image/png;base64,iVBORw0KGgoAAAANSUhEUgAAALcAAAAVBAMAAAD2lGJJAAAAMFBMVEX///8QEBCIiIhmZma6urrM\n",
       "zMxUVFQiIiJERETc3Nzu7u6qqqp2dnaYmJgyMjIAAAAcRTyBAAAAAXRSTlMAQObYZgAAAuBJREFU\n",
       "OMutVU1oE1EQ/sxfs5s0zaEQQZGAB3vRFgt6ERrwUClIcqoXsYFWSD3YikiQqkQRmorSnKwnE6lo\n",
       "qBALHsSTpTmoVWSPikYj6sEKtliJbUXjvJ/dbDbZgOAHs/vezHvzZr+Z2Qe0gqIJaQVfprn+EUmZ\n",
       "DUo2G/NSCMcajO1jld7EZWC0Xu04lf4TGgE8dOhzpli2cf5FCmGl0bolBfTFULCoA+5wflaDSmHf\n",
       "YF+fau67vUcIG67kGsxDRFi0B/5wvdrr0hwx8rhI59Am/3xz520ZIYR7fZLaV8lk8owYdpPqfRhq\n",
       "UIYymbwgnfvmyfktUi3Nzc3YsDIjhaB1R/j75rOa+SKghii2T3zmvpQzIvcPkPMA7VhPp8/ZON8p\n",
       "BXDlHouiOWsyV4AjJ+hd5LNCrkZL/2CM+CBCjwNTXCmeh9aKCb24rkkBbmOIM+s0EeiulLom2OAd\n",
       "n47WOA9VOxlNlNGDPK80/iGYC8IvScSEFCCCLE9sm7nmNojXOA0e8mnKlFB/aYEaYJytd/Avnv3N\n",
       "Tc44fJtyWacUuId7x/jm6+aqoBgcv1jV8CU7vhGkc6QOk2aVqNFEOEunRYWE4SxbnbuoqMuodRRH\n",
       "B0Xt+K47V8yRI+URzpXyID85nOam+zHsyVlpIabbglZaWJl7GJf9fBo0O48HKKJxlsgRpvJgPzdF\n",
       "d3fFYUmoQs4Dq0xjbhhW5kMpI6F76yJ/KxKKB+wEvEE3N70EdunLilJYrXs3uOprzfkHCm4r+8gD\n",
       "gs95o/0X/EUK0LnAuGPRqB9fTHM2rgJZfVm/kHx1Gb7pn7xc7ozonJ2sDu9L85Wf+VxNDNT9uBCI\n",
       "seJjy505ZNkElP5oprH9DRydNNpfQh0Xb9dT0f467hojKp0OTbkCZRPK9iY/rhaw/rh0LBpJWIcy\n",
       "fd69DU/WehMRwz5lNG4LFJqr1bL1VrG/LOxhc7o30+Rq+tdrrt3mmnttVWj4r/gLpCfCqvXZkQMA\n",
       "AAAASUVORK5CYII=\n",
       "\" style=\"display:inline;vertical-align:middle;\" /></a><br>"
      ],
      "text/plain": [
       "proper_subset_is_bool: forall_{A, B} ((A proper_subset B) in BOOLEAN)"
      ]
     },
     "execution_count": 25,
     "metadata": {},
     "output_type": "execute_result"
    }
   ],
   "source": [
    "proper_subset_is_bool = Forall((A, B), in_bool(ProperSubset(A, B)))"
   ]
  },
  {
   "cell_type": "code",
   "execution_count": 26,
   "metadata": {},
   "outputs": [
    {
     "data": {
      "text/html": [
       "<strong id=\"not_proper_subset_is_bool\"><a class=\"ProveItLink\" href=\"proofs/not_proper_subset_is_bool/thm_proof.ipynb\">not_proper_subset_is_bool</a> (conjecture without proof):<br></strong> <a class=\"ProveItLink\" href=\"../__pv_it/theorems/2acf9ce5a62fc7db8b477901e9e8b073e7cf76d20/theorem_expr.ipynb\"><img src=\"data:image/png;base64,iVBORw0KGgoAAAANSUhEUgAAALcAAAAVCAMAAAAzZI9IAAAAPFBMVEX///9RUVGurq4bGxsLCwsQ\n",
       "EBCIiIhmZma6urrMzMxUVFQiIiJERETc3Nzu7u6qqqp2dnaYmJgyMjIAAADYQjYbAAAAAXRSTlMA\n",
       "QObYZgAAAtJJREFUSMe9V9eipCAMdQvSQs3//+tSxwA66n1YHiY6HuCQzrb9fJgwym/D2+tvzrza\n",
       "tsLj5z2Ed7QtjLIOGU+POP4bFKLiXAGI/Kq+E981A8DItCroCveuf472He9oRtne8AzbdjwGq4fl\n",
       "KPPJ491Wm9yTfiwvqi1w07Vl4B3twEfZ3iKeHH9ZW2I1rsAy2+/f94JNJPwut7pOgXc1H4p/NrQZ\n",
       "ZfUZx3E0egCt9d8/WsvB9A0VsDC2bFsn6Tjxdq7xLvDgbR5GvwxKPcq2YWIkBr/25syUwBoBXbUW\n",
       "6SQJuz3Ttxc9lAocIQ/t3/He+Sir2e3mMCxGATnPRlUIatWNTVaxa6AV3kJLJQm8vgAxL30WgNyn\n",
       "yJ9DHsIoy44iey7xVe6q/rbFvVUIO2h3hAWJYXPm30wjMkHhgk8hHQZTh2JSz2b3dqMsZ8yegUR1\n",
       "1YdWdTf3tkz1nKwpyYu49CF4Cs8/+6E2ywdT87K2m9NEPzs7zihTSuYKj31N9Qa1Xbh34u+6AY5V\n",
       "WOxj4t1Fh/vQNdNKm6Y+q4vd+ZxiT3jXJxanygSr3VF13vvC21zqO1tCEXgqZkQnKcMDmWpLZdiX\n",
       "WFn9pP/BRj8Rq7p79t5U90hB9MYueate3hscDKln6SMnqwjcUwSdmHqOS+PWgpkLRFzV3bO3/PgU\n",
       "jUu+X+u7OXiDO0I0uLwu2TrWFmFplPgoP3kcaOGJTvCTsl1VKhh0K3J/YsqhzieA91yN8CN32ci9\n",
       "BxKEUCAG57W6Zau0gFhcyaUHEh5Wsd+zh6nYm6pjzUhTjlUg7Je+6oCHD4zbwvJYphIWaB7V+bXp\n",
       "/OVLzZ7q/NxaTuYUZVJ8Ct96nslxY6Aeofwy/7CvWiz8qMm866vu4FACxQDqkPJo0rTXmHMyiLMm\n",
       "zazVdVH3o+7hto99B3c/uTf8RN3w7sJzA7+9Pj24p4lHnfw72nfwl9e2/zv+AbGvI6N61LC3AAAA\n",
       "AElFTkSuQmCC\n",
       "\" style=\"display:inline;vertical-align:middle;\" /></a><br>"
      ],
      "text/plain": [
       "not_proper_subset_is_bool: forall_{A, B} ((A not_proper_subset B) in BOOLEAN)"
      ]
     },
     "execution_count": 26,
     "metadata": {},
     "output_type": "execute_result"
    }
   ],
   "source": [
    "not_proper_subset_is_bool = Forall((A, B), in_bool(NotProperSubset(A, B)))"
   ]
  },
  {
   "cell_type": "code",
   "execution_count": 27,
   "metadata": {},
   "outputs": [
    {
     "name": "stdout",
     "output_type": "stream",
     "text": [
      "These theorems may now be imported from the theory package: proveit.logic.sets.inclusion\n"
     ]
    }
   ],
   "source": [
    "%end theorems"
   ]
  },
  {
   "cell_type": "code",
   "execution_count": null,
   "metadata": {},
   "outputs": [],
   "source": []
  }
 ],
 "metadata": {
  "kernelspec": {
   "display_name": "Python 3",
   "language": "python",
   "name": "python3"
  }
 },
 "nbformat": 4,
 "nbformat_minor": 0
}