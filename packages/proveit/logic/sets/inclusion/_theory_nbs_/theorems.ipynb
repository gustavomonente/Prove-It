{
 "cells": [
  {
   "cell_type": "markdown",
   "metadata": {},
   "source": [
    "Theorems (or conjectures) for the theory of <a class=\"ProveItLink\" href=\"theory.ipynb\">proveit.logic.sets.inclusion</a>\n",
    "========"
   ]
  },
  {
   "cell_type": "code",
   "execution_count": 1,
   "metadata": {},
   "outputs": [
    {
     "name": "stdout",
     "output_type": "stream",
     "text": [
      "Defining theorems for theory 'proveit.logic.sets.inclusion'\n",
      "Subsequent end-of-cell assignments will define theorems\n",
      "'%end theorems' will finalize the definitions\n"
     ]
    }
   ],
   "source": [
    "import proveit\n",
    "# Prepare this notebook for defining the theorems of a theory:\n",
    "%theorems_notebook # Keep this at the top following 'import proveit'.\n",
    "from proveit.logic import And, Forall, Implies, in_bool, InSet, Equals, Not, NotInSet\n",
    "from proveit.logic import SetNotEquiv, SubsetEq, SupersetEq, NotSubsetEq, NotSupersetEq\n",
    "from proveit.logic import ProperSubset, ProperSuperset, NotProperSubset, NotProperSuperset\n",
    "from proveit import A, B, C, x\n",
    "%begin theorems"
   ]
  },
  {
   "cell_type": "code",
   "execution_count": 2,
   "metadata": {},
   "outputs": [
    {
     "data": {
      "text/html": [
       "<strong id=\"unfold_subset_eq\"><a class=\"ProveItLink\" href=\"proofs/unfold_subset_eq/thm_proof.ipynb\">unfold_subset_eq</a> (established theorem):<br></strong> <a class=\"ProveItLink\" href=\"../__pv_it/theorems/e1a442e356d3f53a4fbf54c4f6312a71fa6043ee0/theorem_expr.ipynb\"><img src=\"data:image/png;base64,iVBORw0KGgoAAAANSUhEUgAAAPcAAAAWBAMAAADuuhdHAAAAMFBMVEX///8QEBCIiIhmZma6urrM\n",
       "zMxUVFQiIiJERETc3Nzu7u6qqqp2dnaYmJgyMjIAAAAcRTyBAAAAAXRSTlMAQObYZgAAA4FJREFU\n",
       "SMe9lk1oE0EUx/8m2TS7SZqeRNBDsAdLsRooVJSqsV4UKo09iDeDWqgHMahYv42idtsqiRctgnZF\n",
       "sFhLDXhSD8YWsbZ+xAp+iwseCj3U0BqtlaLzsclOQ1JtRN9hd2bem/d7M/Pe7AIFimU0MLPBpZmU\n",
       "twH3sB86bX+YPdzlL6YvdyKPXgnnHH75c1uV6oc9Sj1gkA6NFAJ3xcirWMujL47mHp8HWFNQdAZv\n",
       "JwNyuBA4m9WeT/8i97A0BdjGgV4Gp6GzNcwazvZrMJ/+wLTe66YmnafKd3JUY8AV5sE90NV1AQXB\n",
       "33d1XQ/lUcvTFJvL0y1HCQEfJKfipx4woaqHC4N7VLU5nq8YfCTnFu6o6WXJZ+aUJwhpH91sH4M3\n",
       "AC1snD/Xjfc1slyxZYLNpI4tUl3VYsLtAUGXZesgVdCNV96jtGM3rbbsHGqmh+zWGXwtSz3S/cK0\n",
       "7hK4Stj0tP1HYtStqqdJ8zlw34TbfOjJWjC1ZVJECAN4pq2f5gpYGoUyl7ydIQYvgoXV6tUpprUG\n",
       "4ZwUZyirE5BO8XYVcE/LwBFCRdrpjb6Vhi2XOUStQeWdjaNEeMIdpwGQwKQk8+BKFLHhgT08ZC+s\n",
       "ugh3dfoy7d3AKnPleIJ0WrnbLmqGrQkHxnhHqMevFO7NwGV9EytALw/zZgBLNBFe7wjjrrEJKVhG\n",
       "BPhlKUgapfUN5Owytua2Q0oZkUwrc+wiU21829GynSUFljF1XUVZECI8aA1huZFwY0OnhWyH4zx5\n",
       "lNv1vfyS5rZmwt2xJMFqzOrNFAEpc2nCTDjcYhPeYSlTPwUWiXB3jLh4ZAB1WEIC3EnjDRQnoPhM\n",
       "W0Ptg+2HIynzHDiUuXRJLq9ppfHEOdxD41I+PY6w3T4DdMQEeE91/yRqjOXEIf8Q4PxMPVFI+1X1\n",
       "hGFrbFIIytbyUuOLde0kT1P756+VjW0sigD34KYKq4YO9o0kzuuiAnwF5FS6fD0x2L6L8LesdBFA\n",
       "0LTNeb3WNhvXa1o6DQ9MNhDXCbkV8iTkBcK228i+TUE5y+gdGs7FRTi9R5NPEccD03bmD0taegW4\n",
       "YwJy5Ig0Hw/HKxv9AjwSRvu3BJz95JJxHausOoksuLKzdrEGR8y0zb4Xc37tdXHlXJziTfnbu12U\n",
       "Mnrmf/AzIYSWDb/953DL0b/5jXpDHAxnwRN54O0qEfxHsf57xC8BVPer1lKnkwAAAABJRU5ErkJg\n",
       "gg==\n",
       "\" style=\"display:inline;vertical-align:middle;\" /></a><br>"
      ],
      "text/plain": [
       "unfold_subset_eq: forall_{A, B | A subseteq B} [forall_{x in A} (x in B)]"
      ]
     },
     "execution_count": 2,
     "metadata": {},
     "output_type": "execute_result"
    }
   ],
   "source": [
    "# Proven\n",
    "unfold_subset_eq = Forall((A, B), Forall(x, InSet(x, B), domain=A), conditions=SubsetEq(A, B))"
   ]
  },
  {
   "cell_type": "code",
   "execution_count": 3,
   "metadata": {},
   "outputs": [
    {
     "data": {
      "text/html": [
       "<strong id=\"unfold_subset_eq_contrapositive\"><a class=\"ProveItLink\" href=\"proofs/unfold_subset_eq_contrapositive/thm_proof.ipynb\">unfold_subset_eq_contrapositive</a> (conjecture without proof):<br></strong> <a class=\"ProveItLink\" href=\"../__pv_it/theorems/b3f7f02303f2448ecc7981fb7b11e8ba41a0a5bf0/theorem_expr.ipynb\"><img src=\"data:image/png;base64,iVBORw0KGgoAAAANSUhEUgAAARYAAAAZCAMAAADDsvEcAAAAV1BMVEX///9jY2MJCQkNDQ0rKysP\n",
       "Dw8WFhYkJCRlZWUoKCgtLS0/Pz9RUVEvLy8QEBCIiIhmZma6urrMzMxUVFQiIiJERETc3Nzu7u6q\n",
       "qqp2dnaYmJgyMjIAAACXTERdAAAAAXRSTlMAQObYZgAAA4ZJREFUWMPlWdeypCAQdXOWTJP+/zsX\n",
       "QZIC3rDj3qrLw5QldJ/2QCdmWe4fjHMul7c6iLdO/w9gvrzxIdm7o4W+U1qkeSm4koUWm98acyMt\n",
       "D4MFMT8svYNAd2uYzLRolSYt3EjLw2DtPJhj0pNxO6U20yITu1Lc6USPgjX4+Q5srNu3RqMcW9Ju\n",
       "lf27JbY8CHaW+Y3gX79we3I7hd0uBWumxWjYhrwvPwSkx8BO1FGBYBEd1syCXHItS3ImcmIbN5Yw\n",
       "0fQXwhoym0W7DwFCTBK0O0WMG1CCR1O+waJcCvsaZ1pYSOU1j/UzEQ5rzJpXJ9W9TegINrScYWcI\n",
       "BWqqXcTvA0+24WipPCZkGYTOmctjUYdymMm0ELy0PBpXm2WCv+n1ZNlZAHQ4AWwk2NBygl0mCMVL\n",
       "8DLTzmOk0v5kaB9HiWxVdrLeZrl0SavipZzbHlGpHgC7upTAYY1yMDQ6CVDRlJBnwTYbHGCfQAso\n",
       "/ee3mWlf9/3ZdDRK6Gqt/fzJ/9hDHYMxZi6tpa7Qok2TuDTwOsvxcMCwHRudBA7vz4ItLQfYa1qM\n",
       "UPIXTLWv5Zy7xmFCHdDJenH9aju0SFsXfxQ1RIPbjgCqj9/B6CSgWtCOYEtLBasRpojRLkKe27yO\n",
       "6rl2nm2gru1+1m7Rsi/na26fq55ISFZY9q9wJU8cMkiwyV4mAdyGv47goaTKsD5zMrtw0kMoc7bG\n",
       "GGjfQ64Cn3SjcHZpFKNZG6lUW+bWIddrqXgwfiVy1WaFhYgPackCuqWlI3igJcP6fbVmQHyeA1xP\n",
       "DLTHBEucWoQ7dI1cMTqqckSq57CuO+jih2Cx1qKOr3GhUwNaigBps19H8FiAV+7v5Pg8xjnKhfj5\n",
       "Qwg00x6dABhCgHDbhAL7SKBtKp0LTqj8wx5OLa1pMXk9hoBWeI3ApDa7MboSaIuIjuCRlgK7hTo6\n",
       "QEhz3lYGV9onxb/5oAXn3M7ab96/byGR4C3hShE/OPyuerCXlYCn3xSjeoKDdk264BO6h1DNaQrs\n",
       "UvukVRTXF6VVq9hIhgQuhePGZ3q/IZq7La8LMjjitcB2HHUq57qCA1qAGaKR7ua6ek58Ty4z0T78\n",
       "eLhu1auLhclQy3Oqin95OzdA+LaRjl54DYWur7uEfAItSr4xWiR+zaXltdVGPuUu1zxzL6VI40G0\n",
       "aHJTi/+yK2782tNy+T9RH+Ge+/jtfyL2FwdSUf0AMS7lAAAAAElFTkSuQmCC\n",
       "\" style=\"display:inline;vertical-align:middle;\" /></a><br>"
      ],
      "text/plain": [
       "unfold_subset_eq_contrapositive: forall_{A, B | A subseteq B} [forall_{x | x not-in B} (x not-in A)]"
      ]
     },
     "execution_count": 3,
     "metadata": {},
     "output_type": "execute_result"
    }
   ],
   "source": [
    "unfold_subset_eq_contrapositive = Forall((A, B), Forall(x, NotInSet(x, A), conditions=NotInSet(x, B)), conditions=SubsetEq(A, B))"
   ]
  },
  {
   "cell_type": "code",
   "execution_count": 4,
   "metadata": {},
   "outputs": [
    {
     "data": {
      "text/html": [
       "<strong id=\"fold_subset_eq\"><a class=\"ProveItLink\" href=\"proofs/fold_subset_eq/thm_proof.ipynb\">fold_subset_eq</a> (established theorem):<br></strong> <a class=\"ProveItLink\" href=\"../__pv_it/theorems/d899a5317ba1d6a9677d062c9584f56f64baebea0/theorem_expr.ipynb\"><img src=\"data:image/png;base64,iVBORw0KGgoAAAANSUhEUgAAAO8AAAAWBAMAAADaw9ZbAAAAMFBMVEX///8QEBCIiIhmZma6urrM\n",
       "zMxUVFQiIiJERETc3Nzu7u6qqqp2dnaYmJgyMjIAAAAcRTyBAAAAAXRSTlMAQObYZgAAA4VJREFU\n",
       "SMe1VltIFFEY/prd1Z3Z2dW3AiP2qSKyhM3tRWohEOmC+5Q9VC5kYD6YJbFFRUZSYwW7vVQQ5YhQ\n",
       "4YtGEQlCthWSRWwXoqhso6eKSLREjbL/nDOzM3vJLmwH5vzzn9v3z3e+/5wB/kc5/5v+fnpS7OV1\n",
       "YXGVNm5cqZwe786JQGM7iuLAfeZ/KCywLy7MqOE/i0aje8TrHIppdVihkM6SJ7cVFviJMCPTwl64\n",
       "Z3XVJ4HaCiQoLB1Q+woLvE8QfnVKuO9tXcuJjDd+dBHrwz09ZwqLK7eI/ZS+cOuwf9ZhCmiuDl8I\n",
       "mNS0A/+wejynJWy+SBXcrPV857bYPmgCqGsijmnIdqCDt4m6Zvx2I1/UOSuuanecsapgB66ZrjvJ\n",
       "mQ65xrh72jbSNfF68X7GBqlrDRQue68gxlsKtZRP5zSRAoryAe/I8B4Bt+AwSSjuE4HL49y9bBso\n",
       "0bZ3RQBPC2NC4hF2C2IcEXim08CuwcyI05EPmik7EKDZQeCmrkSMtjkhVm8MBCdzqHbTN0nfaD5l\n",
       "mpoUPcOtYpgfjlQaGJRolXmAi8wNfd7fQ/VuYJWlXgFM1QKxK35rXgkFJ40JYDm1kX+DX+NdvWEs\n",
       "0y3gEU3Ll+Qs1kTlwrCT60j5ConOoHI71R56dgn/Y2YaF9GeOpnwOxr4N2Al76otXywocxu1NyPJ\n",
       "B4ShBJT05uKQT4hr7PFRMtft4jpHz2fhX2zQ7Wlc3ybEhas87V5iOe96CCyyAathd8YpvFfYGqII\n",
       "n0gYYlAKUgtvFG6FkcsxQ26bj5lH5luKch6F4WAaKWF7oLx7EONxnQQ6+yxgJbLeON4DAbbmFeFV\n",
       "s4oUWqdpmh/uQcikmK1mdrVAif3QcWOmNWuHmme2BTW2uo9pxKuLvOnkgqEFauMWMJqaIC8tj+Au\n",
       "99b1CtY2MVWMuoxUK+mDc8qIxjoyZyuX0m8baHpSPg55GvJ8G9WopvRytg0qQpoVQrFsYqeaUmkn\n",
       "mNep4xRx9yrrkpilJNL5NQk5dtBVhqHxQGPIDlxMS0t+OI8wqtWqoaRo1XHxaWIYOMH4PxQItpNd\n",
       "kV4t4zxVo1HrWjSkkn1Te+y5bs10h5MKPzG2cOGwE8iUusT22CiprB+BXxd3PM8vSS6w43EijDsM\n",
       "pQwXymAeLNnFk/zjX58X2Q3JvMA2Vds1kV26C3SrOmbt9eRei0v+avmf/xbZW+4CTAIAAAAASUVO\n",
       "RK5CYII=\n",
       "\" style=\"display:inline;vertical-align:middle;\" /></a><br>"
      ],
      "text/plain": [
       "fold_subset_eq: forall_{A, B | forall_{x in A} (x in B)} (A subseteq B)"
      ]
     },
     "execution_count": 4,
     "metadata": {},
     "output_type": "execute_result"
    }
   ],
   "source": [
    "# Proven\n",
    "fold_subset_eq = Forall((A, B), SubsetEq(A, B), condition=Forall(x, InSet(x, B), domain=A))"
   ]
  },
  {
   "cell_type": "code",
   "execution_count": 5,
   "metadata": {},
   "outputs": [
    {
     "data": {
      "text/html": [
       "<strong id=\"unfold_supset_eq\"><a class=\"ProveItLink\" href=\"proofs/unfold_supset_eq/thm_proof.ipynb\">unfold_supset_eq</a> (established theorem):<br></strong> <a class=\"ProveItLink\" href=\"../__pv_it/theorems/9070d8657504fe62bd1cf62080c7b5559afbcd850/theorem_expr.ipynb\"><img src=\"data:image/png;base64,iVBORw0KGgoAAAANSUhEUgAAAPYAAAAWBAMAAAABeHx5AAAAMFBMVEX///8QEBCIiIhmZma6urrM\n",
       "zMxUVFQiIiJERETc3Nzu7u6qqqp2dnaYmJgyMjIAAAAcRTyBAAAAAXRSTlMAQObYZgAAAzRJREFU\n",
       "SMe9lktoE0EYx/9usiabR9u7HhbFBwXbQrBeigY9qKC0XtSTDWqhFdGihSJq7aHoVoXEk71IFpQi\n",
       "VbTgQStCaysIUTRqQUEsAfVSsA19YB+IfjOzj4m02xrRgd3MfP/85zc7883sAkUWZazO+w83PLRw\n",
       "ChhpQY7VP/05OxL3dobaF1MO0dVE1zO8YM3RYtjezpLUYso4Xfc4u4vuWnsxbG/nu8WE6LhJbp2x\n",
       "S1ittxi2t/NMQetDa2vOqt7ZRjMSKmPsaKan5zqKYXs6tWa5dbDcrWcr43T/wtiYMYxzRbE9nUoV\n",
       "Pdyapu2DPO+krPCb/Vn6GeLsBqCTR8V91+RQI08Tv/3vTsfnaILdIGvMkayptgNBAtzFe72NNVZK\n",
       "eXcL9bTWGOHsHQjxpYhOiVQoQ6SMu+3cmIJqGEZW1gTbdjrlDfDUqgYoETJ4be6Wu2IljjRNCR5y\n",
       "dgAK6xc3f3DNl0B4TjZY8UeyJti2k83qkxhVq4F+UwRW0KKaMERj3xgVMUz1SOwk2xv1nB3JBng0\n",
       "c1oMWIcvJ7OtuJqQNMG2nSyP+3rofgrYCpcNTIhGl7QuJOUctpbbz/vWxSDv16HClNh2HMckTbCF\n",
       "c3Dz+jp/FX/4aSij0pxDnbYG4rIpHGDLtpOz0XmU5wO2cLF208YEJLYdx7CkCTZ3KuaJQLxEPNPE\n",
       "24uQcu2xkgffXD7d2XrELsk7uYYHfCt+RCVXXwEbZLYdxzpJs9jMqeIb5YQI5aDY2zpSBf98MK+J\n",
       "hDhru9h5EJylW41gl7JRhT6/TPLpvAqke122E0e7pFls7gR1dYA2go7gALR5e12bETpcvtZ61XR3\n",
       "iD5u/xxFOPmdVuirYEdZ3GcizV+KZK5NuWwnHtYlzWJzp5pXaWFYKe2Ff3bhM3XPpdaC7RhqFmxe\n",
       "9pI1q12GNgdttTTnPM4IMUiaxWYlHclFEOHDS5u4NrDku0S4dZcdnIGWPK+uwvPJWGPcZVtxwzhO\n",
       "vbuaxO4eHswAV1jkQqy6w+k9mPJii3do4feEVA8ueZ7Lxzdb72V+O9jn9G/svuWzlba/+GaK0qRU\n",
       "tBTGsguz2XluJPD/iu+fE34B7C73U/q3q50AAAAASUVORK5CYII=\n",
       "\" style=\"display:inline;vertical-align:middle;\" /></a><br>"
      ],
      "text/plain": [
       "unfold_supset_eq: forall_{A, B | A supseteq B} [forall_{x in B} (x in A)]"
      ]
     },
     "execution_count": 5,
     "metadata": {},
     "output_type": "execute_result"
    }
   ],
   "source": [
    "# Proven\n",
    "unfold_supset_eq = Forall((A, B), Forall(x, InSet(x, A), domain=B), conditions=SupersetEq(A, B))"
   ]
  },
  {
   "cell_type": "code",
   "execution_count": 6,
   "metadata": {},
   "outputs": [
    {
     "data": {
      "text/html": [
       "<strong id=\"fold_supset_eq\"><a class=\"ProveItLink\" href=\"proofs/fold_supset_eq/thm_proof.ipynb\">fold_supset_eq</a> (established theorem):<br></strong> <a class=\"ProveItLink\" href=\"../__pv_it/theorems/db2c58750441c3aa76faf29c61faec756e9e706b0/theorem_expr.ipynb\"><img src=\"data:image/png;base64,iVBORw0KGgoAAAANSUhEUgAAAO8AAAAWBAMAAADaw9ZbAAAAMFBMVEX///8QEBCIiIhmZma6urrM\n",
       "zMxUVFQiIiJERETc3Nzu7u6qqqp2dnaYmJgyMjIAAAAcRTyBAAAAAXRSTlMAQObYZgAAA2hJREFU\n",
       "SMe1Vl1IVEEUPu3e6+7dvas+RVHEPlVQprRp9LYhVETRPulL0EIJYlSG0JYUbPXQXS32PlUQ4Y3A\n",
       "QMgEIRIKZCsClVgswpBkoV4KynBLNsvszJm5f+umFdvAnTNzZs79znxzzswA/I9yc5nxIfxyrPGm\n",
       "vLiBJAk5t2jk1cLhBi0KFTrAKOt/KC9wpc7FZxL9iUTigjm0CsD7FQLo0nXsKcnyAr/gYmrO0tx9\n",
       "x6U8DyDlATLolgGgDpQX+AwnfPCbrernJHhQFZoBuIVipK/vWnlxlXYSIc8XWyf221+NoJ243ChA\n",
       "QdPO/svfixWy1fLUkdgbnHcMv6e6Kg7yKcYxTmkBSJGS13vyj1uJFmlp4GF3NwXBqNn2Z4npqDzj\n",
       "mEBBDIeOjV9i+xpCAhopxrDNiQlVg1pN5qzyoncVpXArdFeXGe8wO74B7riSd8zYRnWtDoGVKIO4\n",
       "Gz7wkIe3OTHeOATnLGAZF3a1FPBBM2UfRrLCuNccW0Frb4o0FBwGfI/PM3D0S8ZMU7M+0o10cHfD\n",
       "4M1ZwICJVl8KuEXIiaE+07hSdwFjtc6eH4yTmGXAYQ6s5JpobWGNhu7FYIthA09pWskkR6oy9etj\n",
       "Eo8jMubEmVQH8Ttpz282zDSGE+iSxAI/dYQ2DbbTjAM1G7lzflGHHEmu/hg7amaMxzjui1aKHWfG\n",
       "YlEiuG7gN22doY0pK43lggguGKS0m4RaGnsOsMEBrMb84MrG3dSQkpg+H3FvuZ6MJZMaliuUy2ld\n",
       "HJmnR8VZimG7s4tFEkuKqjDz6e1Ymti4DNAzYAMH4vtE3EYiWA3DVg7MVofuN2uaFhbG1p2APAbS\n",
       "Pw14sNBRlArTs5HWbvIgxn5p8LzpYR34jmzrNjC0tYGyuSYOT8lydIJnq5xkASKLVOPGUtx9ZC5V\n",
       "7lit/bjyrNIFyhwoax1Uwy5MLyk5HAhTvBqwmhPRDj1qTsWdsIwZHe5LYomSsQ6bAijpc/IaeJaP\n",
       "tEadwD78tScM0kVGNTp6has7ofdlZgSg2zIGr310uU4Xdi0mEnHXhV18UwcdbTuoVH8sG6Dl3Ae5\n",
       "k+s2mecy22MROcUPgd8Xt2fiSbIY2DueicET5tensQa9eNQqj/786fO6WJEtCWxHtV2k7KL3Tl2Z\n",
       "blXv8u81V/EYf/X7X6JR2veyksOEAAAAAElFTkSuQmCC\n",
       "\" style=\"display:inline;vertical-align:middle;\" /></a><br>"
      ],
      "text/plain": [
       "fold_supset_eq: forall_{A, B | forall_{x in B} (x in A)} (A supseteq B)"
      ]
     },
     "execution_count": 6,
     "metadata": {},
     "output_type": "execute_result"
    }
   ],
   "source": [
    "# Proven\n",
    "fold_supset_eq = Forall((A, B), SupersetEq(A, B), condition=Forall(x, InSet(x, A), domain=B))"
   ]
  },
  {
   "cell_type": "code",
   "execution_count": 7,
   "metadata": {},
   "outputs": [
    {
     "data": {
      "text/html": [
       "<strong id=\"unfold_not_subset_eq\"><a class=\"ProveItLink\" href=\"proofs/unfold_not_subset_eq/thm_proof.ipynb\">unfold_not_subset_eq</a> (established theorem):<br></strong> <a class=\"ProveItLink\" href=\"../__pv_it/theorems/6d4dd4ab340b83f9a3011714cce2af312434cdcc0/theorem_expr.ipynb\"><img src=\"data:image/png;base64,iVBORw0KGgoAAAANSUhEUgAAANcAAAAaBAMAAADWJdTsAAAAMFBMVEX///8QEBCIiIhmZma6urrM\n",
       "zMxUVFQiIiJERETc3Nzu7u6qqqp2dnaYmJgyMjIAAAAcRTyBAAAAAXRSTlMAQObYZgAAAzVJREFU\n",
       "SMe9Vl9IU1EY/3W3q7t3u9OHiKCIQQ/1UgqDRSW16KEQwtGDT0GD/vkSrYRG/2hC2bRk66WECBc+\n",
       "GD7UyJd8ammhWcQqCEKqQS8VgaJpc2F2zvnu1TPkahPtg9/O+c6/33e+P+cOWKJoWUm5u8jiXhM5\n",
       "rnwsney+1NdjolFz81a9nzkSiAdRloTASz72vXSyb1Lfm6RmlFTjRDQaDVF/LeCYgM7M4GjnLomV\n",
       "zGVUS8o7aj4VyME/krMz6jTgHAf6IOBNAZ50yWTlSUk5R87smZLvKURhQ8YYcA8CxlB39+3SvShv\n",
       "0SJ0WeWnaHdKU65KRnKeGRAk5OPxi6WTbZT6Crm01j0t2og0VRGGepb7rppwDGj5l+ODRVqbbL6o\n",
       "Aj2ojol7hqWpwyffXuMxMnKEvSJPFpfiJLrAsizKJcPiJ0LuhDYu1QFJVRL6Gta6I4RyKFSfdL/9\n",
       "4/0NSdpsGU6qjyFREzC9sNqKF7vHKnHpen8gP8+NTZyQ2aKOEjzZcoovhdeohKdScFgbPrOzOuNN\n",
       "zaz7BnhqR8Z+NoihPolskpP55si0XL0Y76TwOsJwF2QyfXcW6lXc4v0A8CRluXGWTLjRzXCaUj9d\n",
       "VGY4xcxwRghoOSomhhqpgHxw5GQyT1c1vMAz3j8D7CpOEE4mEuQOwwhZd7xWLjM1LyUIeoSTVV9c\n",
       "zD8MYWtKJjvoimGY3lB9Aor5svVb54Uop0WtJaic1UHrufKygOxp5f7KEFDh4+Nl2CZW1m3ZTLlr\n",
       "kYUdEWyHmy9yjr1tNkf3SYFh/tETf1J4PNNYnMBlI5P+huuCNUSAIS4yjCqx4DWwSSYz0sooXsDF\n",
       "F3lyUCK2z9VC0mXCTIMvrxKC9AbQkZbIHtQMFvCI8sOVgfbb/iFeQPqKstSRQodwMzusLimR7YA2\n",
       "wUrtuXh80nBOmRvkV8clXxMDothD8pD1iTHlADsqq7VCK0BbL7nRyTJtGnqbWNmRws2M/cfTXrg1\n",
       "cxa58tASl9R1GBj3NwQlskQM7b+ycHyNN8Nz2R+4sqS/BR9MFIlbtgZ2yjJJr935h1aALGtD1s4+\n",
       "enGsoDhKyYDlFCX4H8m05TnmL1zU2/n7Oqc7AAAAAElFTkSuQmCC\n",
       "\" style=\"display:inline;vertical-align:middle;\" /></a><br>"
      ],
      "text/plain": [
       "unfold_not_subset_eq: forall_{A, B | A nsubseteq B} [not](A subseteq B)"
      ]
     },
     "execution_count": 7,
     "metadata": {},
     "output_type": "execute_result"
    }
   ],
   "source": [
    "# Proven\n",
    "unfold_not_subset_eq = Forall((A, B), Not(SubsetEq(A, B)), conditions=[NotSubsetEq(A, B)])"
   ]
  },
  {
   "cell_type": "code",
   "execution_count": 8,
   "metadata": {},
   "outputs": [
    {
     "data": {
      "text/html": [
       "<strong id=\"fold_not_subset_eq\"><a class=\"ProveItLink\" href=\"proofs/fold_not_subset_eq/thm_proof.ipynb\">fold_not_subset_eq</a> (established theorem):<br></strong> <a class=\"ProveItLink\" href=\"../__pv_it/theorems/bbc5721813918c04bb0a9952ee28e482d9473b920/theorem_expr.ipynb\"><img src=\"data:image/png;base64,iVBORw0KGgoAAAANSUhEUgAAANEAAAAYBAMAAACW8wWgAAAAMFBMVEX///8QEBCIiIhmZma6urrM\n",
       "zMxUVFQiIiJERETc3Nzu7u6qqqp2dnaYmJgyMjIAAAAcRTyBAAAAAXRSTlMAQObYZgAAA1tJREFU\n",
       "SMe9VUtIVFEY/pyXc+eh7gyKmF1SmIIxUUgOBSFBKC1sEzlggrSosYihF06gcZVipk0NRDniwpCw\n",
       "ASOKgswWqUXcclOUOdEitEWiaTZh9p9z7r0zc2eGqMEO3PP4/3vO9z++/xxgjZoF/6sVr9G5N7Ik\n",
       "7zNWD+hLsMlUgUCOEB+siZRoVgzu40s1bZ2wRYDnaeJ/biURMcyp6zfB9vJTYlpERtQ1OsiGKK2k\n",
       "UIFIk2L4kBTjzXHYGlVVswI0VGOU7IgBrniBSKdFDId/iHEGGNJUVeTutAd9FMiJwcFrBQJJAZET\n",
       "0zc+2sjwSk13gZDLYyjxAcuyfO7PZ+USagGCqZoP+5wrOsEDmm4JOHiUwka/tALdXCb6+oWnbZGs\n",
       "0hthnT2il2W41tuNu9rSrvCg+azzfHkVcI6oKuvSVMVZ5i9RYg8cnJxu4bq7DK4yvj0NyMYxpikC\n",
       "t2X5Ik1fAU9g1pCL48I0aYEvozoZyV1KXZ+foAPMVxM3qV+4bvbDmTQiHeI21ymwdgmBF3gcc/hV\n",
       "dZGP9U013mUtelHdXbLa9JN8owJwKeLimDgpfvPAnDAitbLONVCtC08Au4CZDCTqNvKlS8E2bWcp\n",
       "WWOaF0hSookH1CNz1Z1GbI0ZkXh+D9hDeKjeCYswzaYIxqPnpK9drL84dEKwcrJRXixM0n2EpwLb\n",
       "uaqhskIExW5ksd8cwA6VEfOvWbbupTPiOn1fxfpWiye9nJpDghEY5ue8QxVXvQQ2pSGNybKcsLA7\n",
       "xB03zWFc7HclYKJd9epxjMLcmrBKhObPwaC4jT6SWesoRmZGxlJmgOPTizAP2iWgN57pk9/CvByq\n",
       "HUtit+rECCRK82GN9AE4wr9iuL8qck18Vtux1RavzI4rYcXnZgjmGHp5JdIBDREDkpX5tBPSolZS\n",
       "pXFYiL57M2+jVOvKqvIBfbaftitSD6QkpA2GPPlZgi2UixU4LnOo3hiujKS9QZOGGyWRhTSq034Z\n",
       "Uvi8dT2eLdS0+QxIEZyhFIQQ/a7AOUaV6+qo8XaSQudy6vbgaesIBrU8aQ+YEduZNk9n+Zbct2HC\n",
       "8BLmf9kzTVEf4VxI9pxATiXP6/4o69e3RoGS53SLpogS6WVN2p/v5u/5u0fHnM9ZvW3OtzWSS/gb\n",
       "uO3WhJob99sAAAAASUVORK5CYII=\n",
       "\" style=\"display:inline;vertical-align:middle;\" /></a><br>"
      ],
      "text/plain": [
       "fold_not_subset_eq: forall_{A, B | [not](A subseteq B)} (A nsubseteq B)"
      ]
     },
     "execution_count": 8,
     "metadata": {},
     "output_type": "execute_result"
    }
   ],
   "source": [
    "# Proven\n",
    "fold_not_subset_eq = Forall((A, B), NotSubsetEq(A, B), conditions=[Not(SubsetEq(A, B))])"
   ]
  },
  {
   "cell_type": "code",
   "execution_count": 9,
   "metadata": {},
   "outputs": [
    {
     "data": {
      "text/html": [
       "<strong id=\"refined_nonmembership\"><a class=\"ProveItLink\" href=\"proofs/refined_nonmembership/thm_proof.ipynb\">refined_nonmembership</a> (conjecture without proof):<br></strong> <a class=\"ProveItLink\" href=\"../__pv_it/theorems/acb40cdcf651d78022cb8b3ec54f42db839815ef0/theorem_expr.ipynb\"><img src=\"data:image/png;base64,iVBORw0KGgoAAAANSUhEUgAAAOcAAAAXCAMAAADHuKgLAAAAV1BMVEX///9jY2MJCQkNDQ0rKysP\n",
       "Dw8WFhYkJCRlZWUoKCgtLS0/Pz9RUVEvLy8QEBCIiIhmZma6urrMzMxUVFQiIiJERETc3Nzu7u6q\n",
       "qqp2dnaYmJgyMjIAAACXTERdAAAAAXRSTlMAQObYZgAAAyNJREFUWMPdWNeypCAQZXO2SU2T/v87\n",
       "l6Ajoqh7b9Xu7PVhagTOgc6NjL2NR74ROZjxp9N6PGVN/g2Pd++fWEzCc3OqzatXMSrOFaJIbyoL\n",
       "6uwyGeiJ5QzmdJqLbmCqeuExOTRlW5pFUQafWEzP2R+5rYzVOUXMQAeNGVfDPuGjT8zpUX/+pMNm\n",
       "DGIF+JhFpCn/dZQfo585CY0PJxGIYa8GnGpUT7pYMWS3jpgf7f6xZ4qTSZjdlgCUEVD8cB7J7kih\n",
       "B8SSl6RW1VldxqtSe1qVtP8FRu5S5ho6zv58R2svafAMjzXaKNnCa2CNk5ZcCrALT+U9oF5C0WeA\n",
       "4GyrEh/bs/viAm66ccAWLouXoL9JY/hg+xqe9cAuWcdFYsJsd99Vijk8aZrLjdVLsoK1eBKPbSXl\n",
       "Za2NdFPOLdziDRqy7tdPf7x9rRJV8ozFzX5yCiF8/JB+wkF4JnntbN+iJr9JzI50m8V1cQoe7tqz\n",
       "gy8V/ITGozU/aIBv5SyRt/HRUgz3lSKqRU5o5DSh7SckbHRGudIyWF3DAZeg5EjODp4iiA5pVp4c\n",
       "N9IN8Y3flhNvO9npqOdbqidTcwgIPQe+WhWWJOYNUkRIEb2qIWVxFZgWIzk7+JJIe5qGJ5uYmyG+\n",
       "yUOWkoUq9hFVUPPLYfWUEZs8lPANs7eski1qL0tANxeD4Md+28PTmzyiWXmItyR7/KMuJF1ZhrFr\n",
       "6bVVu7tKqOEpJpwVwl3v9BS4c9hkCyxLTGxiIJqhnDv4Mn9AM/NIjfj9GyIM8KvfkQIg4Nv7Bqn3\n",
       "YrtchaWJX1v3WRX+sZJTOc6qonoy0ciWg1oO5NzBmYUBzYNHLTF8iL/s+/w7h1rrcHbZ2QWCqLrK\n",
       "cWyw7ll+J8fqiInFBd2xnA18loXX4Glpeh4nSY3wN/p4NJe9luv7CCyBazBqn0pTMoHTkWcXELVY\n",
       "2eQmXjhwdNzItPDcJShXLbOh2fHgV7vH35WGrq9ZFM7n7Y2Rg37oxtPxfMk6gZfds+H668CFxa25\n",
       "HnmZnB2P4a/4bnK9vb9wbH9jZLzR3N8iqktmJ/6HD1T81QzqL5zyN/VFRs4uf2qUAAAAAElFTkSu\n",
       "QmCC\n",
       "\" style=\"display:inline;vertical-align:middle;\" /></a><br>"
      ],
      "text/plain": [
       "refined_nonmembership: forall_{A, B, x | A supseteq B, x not-in A} (x not-in B)"
      ]
     },
     "execution_count": 9,
     "metadata": {},
     "output_type": "execute_result"
    }
   ],
   "source": [
    "refined_nonmembership = Forall((A, B, x), NotInSet(x, B), \n",
    "                              conditions=[SupersetEq(A, B),\n",
    "                                         NotInSet(x, A)])"
   ]
  },
  {
   "cell_type": "code",
   "execution_count": 10,
   "metadata": {},
   "outputs": [
    {
     "data": {
      "text/html": [
       "<strong id=\"unfold_not_supset_eq\"><a class=\"ProveItLink\" href=\"proofs/unfold_not_supset_eq/thm_proof.ipynb\">unfold_not_supset_eq</a> (established theorem):<br></strong> <a class=\"ProveItLink\" href=\"../__pv_it/theorems/4eed7adbc37d948c1b330e561b40f5039fabd5cc0/theorem_expr.ipynb\"><img src=\"data:image/png;base64,iVBORw0KGgoAAAANSUhEUgAAANcAAAAaBAMAAADWJdTsAAAAMFBMVEX///8QEBCIiIhmZma6urrM\n",
       "zMxUVFQiIiJERETc3Nzu7u6qqqp2dnaYmJgyMjIAAAAcRTyBAAAAAXRSTlMAQObYZgAAAz9JREFU\n",
       "SMe9Vl9IU1Ec/rzb1d27XfUhIihkEFEvpTBYEVKLHoogHD2ITzWoYD1EK8GVFRmE3Zm121NGhTcK\n",
       "FB9qJIRC0MqHwiKWQRCRDXqIelFc2lqYnT/3bmfItIn5G9/O+Z1z7/nO7+8GLFGUlKDcWeThYQtp\n",
       "qnwqn6xfmKsdbJDT8556P3fYrwdQaYDhFV37Xj7ZN2FebfBhkjF/jUZPe+2tNYBjGiq5BkUPdUlH\n",
       "2Vxag6C848N4Lm/qeIBP5FnAmQGeg6HaBDyJssmqDEE5wxkGfxUcaxkukSVtCrgLBm10YOBG+V4U\n",
       "X1Ei3FjpR2HtIB9ctYSknZgU4Mjq+rnyydYLc4m7dJ97dl4Ya0KQ26jvGjiOArF/Of5mkXZVmLtY\n",
       "FagBeaqwZkXm0PGxy3SmpTl2szxZXI4VaWdJlkWpJEn82MFOKJnCvoNnSL0BdTUZ3RGOKki8Prl9\n",
       "ezMjYYO/bF+cqWqILMUb/ZYXVtnxIssV7OBmnz8ruJEPFykhuYs8yeFJVfH48vBqtfDUMg77vc8B\n",
       "tOh6mJ74FnhWiox81RXIHvNhhpJ5C2RKupmt3+PhdYTgzolk6k5meAUtfD/w1LTdmCdjbnQTnMxz\n",
       "ye35MsMJcg1nhAOxI2xjtJUXkBeOtEjm6WPJ9mSIfJ0CdhQnCCVjCXKLYMLmur/NyJeZnBUSBIOs\n",
       "TGSvzvYfBrHFFMkOuFh/iZHepk5DsjrbiH1ukOc0q7W4YbWrbqtLVJOA7Oqi/kpyoIY1skpsZftN\n",
       "mzeFIJKFHBHW0bQEnFNjndbqHiEziX/U+B8TQ3OtxQlcOTHjC19hrEEOaMyQj6hnD7wBNopkWkKi\n",
       "/dUTkILwpCFFSrarhaTPgpUGX17HGWk30JsQyB40vsyxVCa6Kwnld+lGvIBYjdguQhO91EyQw5oM\n",
       "gWw7lGkyPCIf1BBP2s1W7Dou0Uwas2i0rYjL/omxZD85KqV0QclBWSe40UkyjeZv7DYJb6+J68nS\n",
       "P56lhd6mcCNXFkr8vLwWLzK+cEAgi3eg52eq5VrbBhK3Cz7/pSX9LfhgoUjc4m3EDUcQyy7Dpcj6\n",
       "l58LqRJkLXW63on/KA5RSWPlxJlcQTLVXJZj/gKgUN0YFGFHLwAAAABJRU5ErkJggg==\n",
       "\" style=\"display:inline;vertical-align:middle;\" /></a><br>"
      ],
      "text/plain": [
       "unfold_not_supset_eq: forall_{A, B | A nsupseteq B} [not](A supseteq B)"
      ]
     },
     "execution_count": 10,
     "metadata": {},
     "output_type": "execute_result"
    }
   ],
   "source": [
    "# Proven\n",
    "unfold_not_supset_eq = Forall((A, B), Not(SupersetEq(A, B)), conditions=[NotSupersetEq(A, B)])"
   ]
  },
  {
   "cell_type": "code",
   "execution_count": 11,
   "metadata": {},
   "outputs": [
    {
     "data": {
      "text/html": [
       "<strong id=\"fold_not_supset_eq\"><a class=\"ProveItLink\" href=\"proofs/fold_not_supset_eq/thm_proof.ipynb\">fold_not_supset_eq</a> (established theorem):<br></strong> <a class=\"ProveItLink\" href=\"../__pv_it/theorems/ad7d8c4bc2f16081c303d02c576bd0abf6c106080/theorem_expr.ipynb\"><img src=\"data:image/png;base64,iVBORw0KGgoAAAANSUhEUgAAANEAAAAYBAMAAACW8wWgAAAAMFBMVEX///8QEBCIiIhmZma6urrM\n",
       "zMxUVFQiIiJERETc3Nzu7u6qqqp2dnaYmJgyMjIAAAAcRTyBAAAAAXRSTlMAQObYZgAAA1hJREFU\n",
       "SMe9VUtoE0EY/txsmt1sUr0pKJKbomgLkQgqGhBEBGlQqB7EBrRQPWjVQ3zSClI2omS9qCDSlR4K\n",
       "HjSoiIJgfWFpRaKefNSu6EUvSqu1Vnz8M7OzSTYJIkEHdnbmn/n/738P8I+Ggv81Lv0juecrKIvK\n",
       "djfpc9hipE6gcDf/BZ0iyV1Gd0/EO46hwQKG2f5DnUiNlvh9Eo7LZDJvm92jaaTEqlSYgM/STu+u\n",
       "E+mZ+L2eKobpnbtoKwAtzbhLethAJF8n0gHhw6vfPMppLSUWTWTuaAwXyJFDFy+eqRNI7xQxUT57\n",
       "pPtu6HCUNJhpozEJTJrm4T/LqkZMebUjgrLO+FGSEDvEYgLYtJPcRlfagSyniXnt+L0OHl+1VOgA\n",
       "mzRLbtXcikQW1+RWK3DnJYNjkhKNYaFIx4mR+YcYgVJiNcI8I6PC9OgMRGZw9hKgBo4xmsRm0zzJ\n",
       "lk+AOwhI5FBeqKaPe8loY7kwl0J3IQ0Y5OAQFK5SnzA9kIYx5UfawnVexe8ZLAAJ4LYdTstMTrK5\n",
       "NZ6YlAytMks00lr5TrZRAUQKIU4b2if0iyHg+JHa2RTpb5ZSsBdYCbwvQ6JpbpHBEBkxnbRRxgSS\n",
       "7rRyh8ZMfnQ5hcW2H4nn1gZNMDfYCH+B8qHYcbj3DPr2yJ7hYJPtlVMDxUVlIrLbOT+W8qOWRfOF\n",
       "UzR/FqcDbjInoY497aHV9dKMOEffR5cQebExWyyntm6REbjKBbxEEz96DMwrQRo0TdNRmTHRvCKa\n",
       "jZJCxIFCXGul4GZXm5wlulHX/mH36A2ZM4vMC7DsnR5j9r59lOP2ngB68+U2pVVm5aUVg1NSBW0A\n",
       "OoV5q0z6ToRzP23c+CVijVuSddevbQmTiWtkxRdlCAEbvbwSSUCL5UMKMpuWQf/Ct1dIuTxUSt81\n",
       "5d2oON5XVHm/t1pP7AX9OPQp6HN8cUqHyTMqxYLXwUZyVa+NU+SOV74OK0ewsmPf9ap8EnruSHA2\n",
       "Ho7HO5I+JAsHKQTdOPu1sNnseUBx6YonjtHBEo/dKntuu+jZyKTLHjDHh2yUrEuzfGH1buj4XkI5\n",
       "QhU3y1VxH+FqSFpVIKNQ43V/WnH1uZ9QqCFdlQfU98weSe2r1fn/8gkP1DLWGwtqsVrViL8BzRTX\n",
       "/h+zAf8AAAAASUVORK5CYII=\n",
       "\" style=\"display:inline;vertical-align:middle;\" /></a><br>"
      ],
      "text/plain": [
       "fold_not_supset_eq: forall_{A, B | [not](A supseteq B)} (A nsupseteq B)"
      ]
     },
     "execution_count": 11,
     "metadata": {},
     "output_type": "execute_result"
    }
   ],
   "source": [
    "# Proven\n",
    "fold_not_supset_eq = Forall((A, B), NotSupersetEq(A, B), conditions=[Not(SupersetEq(A, B))])"
   ]
  },
  {
   "cell_type": "code",
   "execution_count": 12,
   "metadata": {},
   "outputs": [
    {
     "data": {
      "text/html": [
       "<strong id=\"unfold_proper_subset\"><a class=\"ProveItLink\" href=\"proofs/unfold_proper_subset/thm_proof.ipynb\">unfold_proper_subset</a> (established theorem):<br></strong> <a class=\"ProveItLink\" href=\"../__pv_it/theorems/a05481ca83825b1bdd8949220e3cbe19ac4194ea0/theorem_expr.ipynb\"><img src=\"data:image/png;base64,iVBORw0KGgoAAAANSUhEUgAAAS0AAAAWBAMAAABnB9cHAAAAMFBMVEX///8QEBCIiIhmZma6urrM\n",
       "zMxUVFQiIiJERETc3Nzu7u6qqqp2dnaYmJgyMjIAAAAcRTyBAAAAAXRSTlMAQObYZgAABEJJREFU\n",
       "SMfFVl9ok1cUP35JmnxpUn0YOHBIwIf1RRsIZGyUNWywiSgNe3A+jLWgQpUx4/59DB1GkDUZG4kv\n",
       "KozZTzZs6aAG+qA+WSej2m6STRDGcEbcHto9WFrtP6n13HPuvd9NEwPmxQPnfufe8517f/ecc8+9\n",
       "AE3TD8h2ufE/rcV6Vo3osuSK6NxpAlY4i80Qyx/WaKOH5hN9JwAO1LFSOvWrlgIIpqXIPCkGppvA\n",
       "1SZcMcXyAzl223Gcz1lchwC60jAiNUXTSuok7fGmnEHgFeYzIhrZJnDdEluN844fuPQ9e8NT92CE\n",
       "u+MQiXH3vmGldAD+Y0dxbxFl888yNr8wt+GUkVITuL5EDrIbfu7i75Sh7sChuzEIb+AI9bueldIB\n",
       "vH/5nU3R+JCK8egStueYoxPDw6ebgGVnsJGG5Y6U+PjM7R3HdTYimH+p1/JWzLPSOjiI0O7t+kwl\n",
       "mvVQBDPFvJjLHW0ClyXisIVEv3uFjmXQ1M/jkrgsXKPeCGQ8K60DAbZ/c0qa7GhdwTYSZ94PkKdh\n",
       "brfPXevjqKjfQ/qs+wudybwaFVC+I/En6CFvnDJgBebvtB+hnKHuJJ8vttI68mBFH9VUYFZ4rcL8\n",
       "NqU/yg/ZmRsgwjmhDsPdlF7tD4CrUgyKoB2RGxggNwyZ7sRUOdeLwkXqZuCsZ6V1FGE9ux/sOVHy\n",
       "MsxBsCgKP66Q1tcLrcsmrnAXqgNbEgmUkwBXZAKvE/O9RK7ZmziUXRvHEO7NeizOHm02Bi1pbaV1\n",
       "1VVidyK5KKabYY6Ueb6JT3lHMfBVTFyRwTiEP9oxPIzyJwBvwlpcfuyQhaoJgtajP6xZhSvoQqBX\n",
       "W2kdjDvOguN8ASpvNhu47Mpu2nUsR9oLadjmmrjeC2XlZiH8CKzpmjiiEOTI/19dvlpEZrwreqOq\n",
       "iJCV1glPjukrC/mw2GaGGfL7KM7wGqm7t7bL0Etcvb4M7JQZMPvn17A27+0SF2qk8/tcs3z1ZFXe\n",
       "T0lsbKV17ElJ38t7Q+U9jNIR/hs6SH0T4FUTV7RkzcCvMqQVsDJyGnGUqQiIGhZa4sEP+tU9dA93\n",
       "8bJYs1PEIqsQkJXWIf1eVQ8LiNg3xgzrRVqE7/9WoF+/BRgoGbhGOq8vw+vSR2Ngq3wlV2OQhlan\n",
       "obWwEK+ubh+v7k3maJr/1JmzYtLK08H4YUwvyq9w4YkLl1Yxx9vSzBAVeHwuDFAS4brdRQPXG2A/\n",
       "QmdyMpfAv1TnHmr06sjwyUBK63vII69KaBqUzLQLVy3b34C9DPYrRhz9mBArqjINuHByrM693YDM\n",
       "M6rvbY+211rIe1tGaBHswleBTTA+l+hLGbgKWTizUPZTlY8cSyS9ZxNdA/kqDI7jvXMkjaxZNVTt\n",
       "4alaB8t3TvXz0uyYj5/zuVyuwbvw2ZSvZ+WRW2MggIeKdR6xdXE1+46OPvc7+i/JVVR+HlwviuIv\n",
       "cvGnFLU7xp1WN8kAAAAASUVORK5CYII=\n",
       "\" style=\"display:inline;vertical-align:middle;\" /></a><br>"
      ],
      "text/plain": [
       "unfold_proper_subset: forall_{A, B | A proper_subset B} ((A subseteq B) and (B not_equiv A))"
      ]
     },
     "execution_count": 12,
     "metadata": {},
     "output_type": "execute_result"
    }
   ],
   "source": [
    "# Proven\n",
    "unfold_proper_subset = Forall((A, B), And(SubsetEq(A, B), SetNotEquiv(B, A)), conditions=[ProperSubset(A, B)])"
   ]
  },
  {
   "cell_type": "code",
   "execution_count": 13,
   "metadata": {},
   "outputs": [
    {
     "data": {
      "text/html": [
       "<strong id=\"fold_proper_subset\"><a class=\"ProveItLink\" href=\"proofs/fold_proper_subset/thm_proof.ipynb\">fold_proper_subset</a> (established theorem):<br></strong> <a class=\"ProveItLink\" href=\"../__pv_it/theorems/5af32f9855bf4c93cfc58927531ad157733f29130/theorem_expr.ipynb\"><img src=\"data:image/png;base64,iVBORw0KGgoAAAANSUhEUgAAAQgAAAAcBAMAAABv6Dz1AAAAMFBMVEX///8QEBCIiIhmZma6urrM\n",
       "zMxUVFQiIiJERETc3Nzu7u6qqqp2dnaYmJgyMjIAAAAcRTyBAAAAAXRSTlMAQObYZgAABAZJREFU\n",
       "SMe9Vk1oVFcU/px5LzPvzZtkFoKCXTx1UTdtBqZEKiEZLFQ3klChdlGcgSgkWWioSJBWHCG2L0GZ\n",
       "6abNps0rFg2jtQNdSBExkkVTFXnqRpCYEXWhLrT+xBgJ8dx7389NZhKbyHhg5ty/c873zt+9QK1J\n",
       "cxbfjxWAMhuM1xDEsGA7KzbieydTnX1AF3CZzR/WEMQDwR5X7qzIAa3tOAMMMo/laochnhTssV2x\n",
       "laFAtSVhmKinTaNUOxCRAmenWgXHzd7e3v1i2EhLEyb0BOKXisWfaxgNV7fTmOb813+DrcOAvop8\n",
       "cA+YsqzvaghiPf9X7AuiSA5IW5PAjm7io8BuoL+GII7x/9+RMRkPS4FXJ8c3fMsGt4HPoJffwcgv\n",
       "C9W+S9wM0hjiCRqRDoVeAb9laXCWrYec5WPQqxdWlz9ayT+6I7WXH/xJOhNNEJDXrEqoNJzIomYK\n",
       "VdZUf1RfqCp0Zi4IhZpCWepcnBrIC6GnAoRW/lIsiszY+my0s+AKMjI4aN+Ukm9u6kcs7c1vyCIo\n",
       "eooMc044KBMiifnhYG2i7jkNtjCZXaKdPBcsAYOfj0qOnSCjpy3rexpeAy4Cn3qaDsgi4jBTpCfk\n",
       "xNQIRP0T/klmAIK1iUxOJCb+6uFrx2c4C2cRmw5AqCMs8K0O1CNCtAm4YOMESyymvscXGf5vk5I0\n",
       "PUX3PFOjbq+IvuLTRwGIO+TX1ayPNrPYCHSX9okOZyJcDkDUtTP8J5OeY/AN0CJSYQe5M5T0RT7B\n",
       "2pY/RjxFo54p8vXw7EPE8i95eZzY5bXvPbMdTRav2PvMfXxZNS2+92c7PrYDEDyIX0RzOOdWwwuE\n",
       "6LpjBTVAWKOOL0L9Nz/pK7o9r2379PUPftv2CqzHH9ZhI+dtH23IIgDBu2423ONlgfL0OsuMWJYC\n",
       "RQ+ASEkWyQWKzs67wBYhKU9uoZHzq8CHEoitTE8p9ARuzzfKCBFyJYeoTSdWpCURIx0oyviK39qO\n",
       "g3LW717J8ygcBYZKAYjP2anmsWlsdjvMCDRqMGoZ2wmcACFExqy8ZZmeosz8R83CFKAM2xhiOQiy\n",
       "0FYIQHxFv03QXnitoqEEhfJcyaKbuZ+HwxPpkhRt+d/Pu3iQNNtIv6MNQJuG9oEUjpNkkLTMQD/G\n",
       "Dw/Z+JFKID6iJpnnWWJ6ImrSVyQl5hIoOgUtf1Bdg3+epTrTEoiIjXwOgy8dxMaoWRmHUk197HvT\n",
       "dTY7YpBhV2T9xo5UyhGKRO0vk2IyLnHVVX901UNniQQlKC99XbFY9Gf3lw/i7woQqH5LnpfbNipP\n",
       "SrW/ZHIqQWxzp4MWkW8jKV9gbgdJV6/9d6JwxftEeo/4T+fo267y90ELPGr63yuI6s+7eGFJOt4A\n",
       "snQOAPjWMEIAAAAASUVORK5CYII=\n",
       "\" style=\"display:inline;vertical-align:middle;\" /></a><br>"
      ],
      "text/plain": [
       "fold_proper_subset: forall_{A, B | (A subseteq B) and (B not_equiv A)} (A proper_subset B)"
      ]
     },
     "execution_count": 13,
     "metadata": {},
     "output_type": "execute_result"
    }
   ],
   "source": [
    "# Proven\n",
    "fold_proper_subset = Forall((A, B), ProperSubset(A, B), conditions=[And(SubsetEq(A, B), SetNotEquiv(B, A))])"
   ]
  },
  {
   "cell_type": "code",
   "execution_count": 14,
   "metadata": {},
   "outputs": [
    {
     "data": {
      "text/html": [
       "<strong id=\"unfold_not_proper_subset\"><a class=\"ProveItLink\" href=\"proofs/unfold_not_proper_subset/thm_proof.ipynb\">unfold_not_proper_subset</a> (established theorem):<br></strong> <a class=\"ProveItLink\" href=\"../__pv_it/theorems/91b78b28b7b9f1f9a2712d3be6eb9dcf3b6055820/theorem_expr.ipynb\"><img src=\"data:image/png;base64,iVBORw0KGgoAAAANSUhEUgAAANcAAAAWCAMAAABkF/mWAAAARVBMVEX///8nJyefn586Ojrf398/\n",
       "Pz8hISFYWFgQEBCIiIhmZma6urrMzMxUVFQiIiJERETc3Nzu7u6qqqp2dnaYmJgyMjIAAACaUWiE\n",
       "AAAAAXRSTlMAQObYZgAAAr5JREFUWMPVWNmypCAMdXYJQtj//1OHRSS00k3fmrZq8tDxGo5yshHv\n",
       "stwtyr1rmBSjqPbHfefuoKVxyrD5iWc5EYIAEIg8/Sl2YllbU1d5fQcvr6YMPkw9bS3OgLAlz+y+\n",
       "yFpVNym8g5aDKYPzYcbLWyg5xkNGW1ZuZ13D1AL3SZFqxqANhH6hQ1lko3fZvsqFzEivOzxpZ3US\n",
       "JW9pGnLK4OKOObV6e+kPXHcesgTH76CsAyaR9g5eDGYMXC8muIkoB5GzUYqac0C0yKFFAqXXHAPY\n",
       "2HLorbPfuvfqETAuHPVcatA8VQ5rN8CMyks4x1CaVpZEcyC9pGQr3bnLsbYr2cOp5jsAbCNgdHzZ\n",
       "AshDbGc4/KYCCeAoeffy0quoR5ikOv2w5i8NXQ5ABhnSnx55NcDGAP78hhEw9uXHWCtxMmzxSAIR\n",
       "8LRmVF6Rn6kBpNq6ziVWS5rsMicE+HG8KkALy7X+9VOPgHO8ytXqXx/lQVRe7IqX8tFHzV1sQfIg\n",
       "nY88Rg/th9ccgFyo3I6Bfbp1vJphv5Dryzysp9ciah1w2WlUorlLpPQnyR5YLM0uEx54VUBh5J8A\n",
       "L/pG5XUYlDkPHJY9K6/ID6/6RnQRIeJMApBn5iVMDnkdAJvjY54AWyMmTu8NxzmG9GD2lw3Rl5Dy\n",
       "FWtOgO11a6rag7VIm0ReooIZ8GoAUF0pXABbopykGDSGkBPXxAtS5VoI/jhXCV+H3vYGv/XaHSDQ\n",
       "eTNtWin74tR7Ha8GSIGDp8DpOeqilixezFGPjVn2mritpHkqSIVlx/l3tYM8JIAYK9KRr4Dzc+/X\n",
       "pJt7u7LOFagwSLdsa3S4lSEdJsgHfYMC4oTx44j7JfA8mswY5j/tfK+HH6CjHYwA37/lURP/wXfl\n",
       "V6R65oWHjHqX18w37uf+D+BUr4frljd5uVu+4D4n8B/s8S+iay1rfd6TagAAAABJRU5ErkJggg==\n",
       "\" style=\"display:inline;vertical-align:middle;\" /></a><br>"
      ],
      "text/plain": [
       "unfold_not_proper_subset: forall_{A, B | A not_proper_subset B} [not](A proper_subset B)"
      ]
     },
     "execution_count": 14,
     "metadata": {},
     "output_type": "execute_result"
    }
   ],
   "source": [
    "# Proven\n",
    "unfold_not_proper_subset = Forall((A, B), Not(ProperSubset(A, B)), condition=NotProperSubset(A, B))"
   ]
  },
  {
   "cell_type": "code",
   "execution_count": 15,
   "metadata": {},
   "outputs": [
    {
     "data": {
      "text/html": [
       "<strong id=\"fold_not_proper_subset\"><a class=\"ProveItLink\" href=\"proofs/fold_not_proper_subset/thm_proof.ipynb\">fold_not_proper_subset</a> (established theorem):<br></strong> <a class=\"ProveItLink\" href=\"../__pv_it/theorems/02b8015fb74f434139cd90e7027a4b6d4bf9159f0/theorem_expr.ipynb\"><img src=\"data:image/png;base64,iVBORw0KGgoAAAANSUhEUgAAANEAAAAWCAMAAABpCYnRAAAAPFBMVEX///9RUVGurq4bGxsLCwsQ\n",
       "EBCIiIhmZma6urrMzMxUVFQiIiJERETc3Nzu7u6qqqp2dnaYmJgyMjIAAADYQjYbAAAAAXRSTlMA\n",
       "QObYZgAAAuxJREFUWMPNWNeSozAQ5ILSKEv//6+nAGaUAF/tlpcHF2Fo1NOT5G37QYf2D4ycWT6y\n",
       "Ov+G17X3HyZkFL4SYc66ve0hRmAMlOLpCjIlZ4+HwXyYUdDNVZwaAe9ukOoHFkXySaarD8do9WFC\n",
       "njVXIc48PKxSxBpaPObXHUXSnGJ96JBYImNZ1B1jJaX8+0dKge/S3czHTMaQfOpMPrT8dFloFuDT\n",
       "UnmbP07PAkmR6gEiizIhvxRVPqT7ilU9NRTjLYqDjpvNRj8qqIYXIxQ8CTXUXEaBYqXQavA5V5G5\n",
       "VEvwrWVhnUNMoOyIoRABw3OCUPSUlZwQg0QigvdUSftKv/yhTMugougbvX2R1RH07QUh0AuICRQb\n",
       "GEvb+kxHLFoNyVGiPY0Mgb0lycOanh4yrNGbFVuLKs+CkXATCEFZPgYoA/3r5PSBSB2GQUTf0TW2\n",
       "YFukUWJmd82K0/zhg70py8Y7RXwWbjUCMUAYcLzUnREq6DWjekZC33wnoRzhYEQRo9SGEXtBN4XW\n",
       "bHLn2ihuvwtGcoSAJkoaKOqXUbefSNKB81GioxttsIc538NTo06cXmNIMR5pyrwGS91V3wOCt/Wz\n",
       "gbKwqgzaToaG3DrDKNHRjcQRor4KaxEFb7MdgiomVM4ZOVWPkCvZAOHaRG6geO8XxzrPqKbFBsvZ\n",
       "ZHCqOnKi9hhiuxPPQmkCc07hMlBMdLSXGgGKiROiK2gN1DCI1ngxKsYSljad4Hw2QH73YxGEY0w9\n",
       "h9Pdif5ly0z56Onc+n2O/TVn9OoVJ4RvB6sGakwKed2f7S+XxyDZTUHd+D5MPrwGc843rerKyi9x\n",
       "2x2jAwxBtNuDFsq760l1DLAnWwNH++wsCaZVlH4TJLnUyZhbg+I3lSG7tw5WGCIly+n3DopNpoYr\n",
       "keyTKc2E6+erYXxRvenE3kCtHBOX3+34/kcidRO4+j1G2zsbLOvf3JXzJzusm0l5Cb9aOX++rTfs\n",
       "J/2/sbG3VR0j9Pv+AfgHgJkj9/vRE4EAAAAASUVORK5CYII=\n",
       "\" style=\"display:inline;vertical-align:middle;\" /></a><br>"
      ],
      "text/plain": [
       "fold_not_proper_subset: forall_{A, B | [not](A proper_subset B)} (A not_proper_subset B)"
      ]
     },
     "execution_count": 15,
     "metadata": {},
     "output_type": "execute_result"
    }
   ],
   "source": [
    "# Proven\n",
    "fold_not_proper_subset = Forall((A, B), NotProperSubset(A, B), condition=Not(ProperSubset(A, B)))"
   ]
  },
  {
   "cell_type": "code",
   "execution_count": 16,
   "metadata": {},
   "outputs": [
    {
     "data": {
      "text/html": [
       "<strong id=\"unfold_proper_supset\"><a class=\"ProveItLink\" href=\"proofs/unfold_proper_supset/thm_proof.ipynb\">unfold_proper_supset</a> (conjecture without proof):<br></strong> <a class=\"ProveItLink\" href=\"../__pv_it/theorems/45b21ba8dc94dcbf2a9270c032e2596a53dcfb990/theorem_expr.ipynb\"><img src=\"data:image/png;base64,iVBORw0KGgoAAAANSUhEUgAAAS0AAAAWBAMAAABnB9cHAAAAMFBMVEX///8QEBCIiIhmZma6urrM\n",
       "zMxUVFQiIiJERETc3Nzu7u6qqqp2dnaYmJgyMjIAAAAcRTyBAAAAAXRSTlMAQObYZgAABD9JREFU\n",
       "SMfFVk2IW1UU/pq8meRlXmZmIShUygMXdqMTiESQwRkc0CKUCS5aV06gCqMLm6r4lFaa+tdElMSV\n",
       "BdF5pUKHEWNgFtpVo12MdFSi4kKkNqW6mNm0zLTzJ+147j333vcyiYFm0wPn5tx3cu797vm7F+iZ\n",
       "PiO2G93/M1DpZNWNziluismlHmAlCjTMsvxcmzZ5eC09/S7wYgcrrdN/NVIfgemvMC+KD8s94BoU\n",
       "rlhi+Zocq57nva3VuwjAWBZVNa2ErZRO0bPBktcJeJP5lIhGoQdcv4mjpvjE13z99au/lTBFEZ5M\n",
       "wXF5ejVkpXWAdfwYnc3Rxn9t0fA98yAt6dR6wPUmcYzd8OVYkEZVJY7Q72UXiWGO0Ek/sNI64OC5\n",
       "J3cnU7M6xvObNJ5mTl6cm/ukB1h2ngZl2BgZb8kRQSdon3sJDPuv/wk3sDI6vETQrux/TSda5IYI\n",
       "5jjzRrF4rAdcERGHB6Ro+edDZalSbo22pG1xgb2IfGBldBBgT+7Rh3p64BaNTor5BaAkP/O4b/XC\n",
       "NIdC/z1ugmSVRzMl/VVA+UiKX2DKDXAtstvWLu09KnNGfVwMrIxOerBpSnW8b0V4rck8IdOf5Bvs\n",
       "zGE4nBO6GC4HQfoF+E6JMZGTR9UBZlIBrkfYMZQqp3MkfCOneXweWBmdjLBZ3YK9KlpenjmGiIzC\n",
       "mVtSG81hYCuMKzHWwJl0+nchZ4DzKoF3ifXuka45lD4cKmg+f5zOFvlX1J48rIv+rLEyutYucSCd\n",
       "2RDLXWd2GjH5+eKrfCIX0WYYl3M2hcTc3IRwySvA49iJy6JJM+jw7Igh+omsaFwxH305Y2V0WPC8\n",
       "dc97HTpv9oRw2c0D8tRuUWq/zuJhP4zrmTgLE+S6m4gst8WRhNiwwXXQN+2rX2TGU2I2r+tBWhmd\n",
       "8GTdHIj4iDhmnhml52Wc8ahUTz60V4Ve4cpFuZScLKyVX9/Hzry3a9yoOegTpaB9TRV03i8pbGxl\n",
       "dOxJRZ+qe0PnPeblvn9iRKp/Bh4M40rWIryp5cJpIpJXy4hSlk1A9LD4prqH3lhU6itkcJ/Yc1TE\n",
       "oqARSCujI/qppR+WCXG0zowhUeSJqz+W5V8/BGZqIVzV0R+4DOw64nXYOl+lqylIs9vLGCivp1q7\n",
       "28vbhzJFucw/uuYirrIKdFg4Qukl8ytRvu3j223K8cEsM5ICT9THjKwY2neyEsL1GOybynEYqsHa\n",
       "7HAPdXt15LkyiLLmHgoo6BKGzipm2k9+a9gfwN6CfX8ojhYlBDeQODnSx8f1Dvd2F3Lc9ts+RPva\n",
       "LdS9rbJ4A3b5rb7dWFhNT4+HcJULOLUuktV+D87xdCZ4NslroBReUbxzPC/Xskt1x67xVg8vtTtY\n",
       "vXNan5fhSahXzhaL7/hd3oX/T6VOVgH5bQYCeLzS4RHbCVfP7+jkHb+j/1DcQo07wXW3KHU3N/8P\n",
       "UAg/TlEDGrYAAAAASUVORK5CYII=\n",
       "\" style=\"display:inline;vertical-align:middle;\" /></a><br>"
      ],
      "text/plain": [
       "unfold_proper_supset: forall_{A, B | A proper_superset B} ((A supseteq B) and (B not_equiv A))"
      ]
     },
     "execution_count": 16,
     "metadata": {},
     "output_type": "execute_result"
    }
   ],
   "source": [
    "# Proven\n",
    "unfold_proper_supset = Forall((A, B), And(SupersetEq(A, B), SetNotEquiv(B, A)), condition=ProperSuperset(A, B))"
   ]
  },
  {
   "cell_type": "code",
   "execution_count": 17,
   "metadata": {},
   "outputs": [
    {
     "data": {
      "text/html": [
       "<strong id=\"fold_proper_supset\"><a class=\"ProveItLink\" href=\"proofs/fold_proper_supset/thm_proof.ipynb\">fold_proper_supset</a> (conjecture without proof):<br></strong> <a class=\"ProveItLink\" href=\"../__pv_it/theorems/be7c1df14de5067c1b5611c5ed42d1ac0f7ea14b0/theorem_expr.ipynb\"><img src=\"data:image/png;base64,iVBORw0KGgoAAAANSUhEUgAAAQgAAAAcBAMAAABv6Dz1AAAAMFBMVEX///8QEBCIiIhmZma6urrM\n",
       "zMxUVFQiIiJERETc3Nzu7u6qqqp2dnaYmJgyMjIAAAAcRTyBAAAAAXRSTlMAQObYZgAABAJJREFU\n",
       "SMe9Vk9oFFcY/2V2NjszOxv3ILTQHrb1oJeahZWIEpKBgnqRhAo1J3chFpIcatBDlFbcgoRJaNnt\n",
       "yRwsGVE0bKld6kE8qJEgii0y6lGiW9SDXvyXxBgR+733Zt6Mu5vYJKwf7Hxv5r3ve7/9vt/3vQc0\n",
       "WnR36fl4EaiwwXQDQUwItadmIrFvLtN3FOgH/mbvTxoI4rFQT2tnmvJAZzfOAmMsYvnGYUikhXrq\n",
       "1ExlKVFdaZgptNCkWW4ciFiRq987ud49NDT0iz/VSp/up2AkkbhRKh1rYDY8326r5X857iUIPwHG\n",
       "JxSDh8C8bf/YQBDr+FN1LrvVuDBHkRkgPQV8B4w0EIQI/ilkU0FRCppE56Y3/MAG94CvYVRWsclv\n",
       "i9W+J3wbWBhPB9OD/Km8Bk7kaHCemAPFXTkGo35h9cvRWv6nezP78tWzWpKAvGFVQqXhxpbcpljn\n",
       "W1SOWop1jc6+D0KlphAK9yh/rqEoKC8ECL3yrZgSzNjxcqqv6BkyMTlouZVaaG8bQVxS/U7YBCXf\n",
       "kZl6Lx3UAmLJ6nSwNtE8Q4PtzGavaCczQiVh8vVaKHT3LfTYNufYLeAKsMX3dyhsIhYzR0YyTEyd\n",
       "QLQ8kxiUSdkmsnlBTJwTwE6+5SqSQ3whABFlBkYnZ02cWbQBlx2cZr6Y+0FpMvF8q5pO+Y4e+jtO\n",
       "eTWpvZYgLgn1L8X1U9ZH21luROhuHBAdLoVIJQDR3M1SckZQm+VtP9AhqLCbkClpabIJX3T8Mek7\n",
       "mvJ3pFhPvHuCeOGVVx7GtgGuv3/X22bzVv2IhY939WjK5nN/dmOjE4DgpP1GE9RudmDMQqHjjhXU\n",
       "KGHVXGlC/bcwJx3dq2rbnlDbPni1usAG5bAZm7nu+mpDDgEI3t1yEbEuYUF9cXuYZSZHiaILQKwc\n",
       "NskHjs5XHWBLSEBi3EUr1zeB9SEQO5ifsiJYpXTDrEAhRGoemkMrmqyQiWkFjrLS8QfbcVDOxoN/\n",
       "CjwLPwPj5QDENraq/fqCj0ubhE4NJlrBLgInQAiT63bBtlO+o2z1pWZxCVBGHIwzDoJ26CoGIHro\n",
       "txX6LH/5i1hchko8V3MYYOHn6fBN+kOOtv/v610iIM1O8u/qo9AXoH8eSscZ2pC88PLdRekdd/Ar\n",
       "lUBiMppmkWfE9E2iaekoRMxliDYPvXA4+hmuvcz0WSEQMQeFPMZeuT32MNHaPJJpO8r+r0WVQktM\n",
       "2tgzWbe5N5NxhSNR+yuUeBiX4GL9S1cLDEYkqEF5GV+WSiX59mjlIC7UgED9U/JiuG2jdmWo9pct\n",
       "bi2Ind4rnR32sNwjHT7AvKPNql/7q5JIzf0kEEVenbUPHeUfQxa51Ix8VBD1r3eJ4rJ8/Af3gAxl\n",
       "tnQ79QAAAABJRU5ErkJggg==\n",
       "\" style=\"display:inline;vertical-align:middle;\" /></a><br>"
      ],
      "text/plain": [
       "fold_proper_supset: forall_{A, B | (A supseteq B) and (B not_equiv A)} (A proper_superset B)"
      ]
     },
     "execution_count": 17,
     "metadata": {},
     "output_type": "execute_result"
    }
   ],
   "source": [
    "# Proven\n",
    "fold_proper_supset = Forall((A, B), ProperSuperset(A, B), conditions=[And(SupersetEq(A, B), SetNotEquiv(B, A))])"
   ]
  },
  {
   "cell_type": "code",
   "execution_count": 18,
   "metadata": {},
   "outputs": [
    {
     "data": {
      "text/html": [
       "<strong id=\"unfold_not_proper_supset\"><a class=\"ProveItLink\" href=\"proofs/unfold_not_proper_supset/thm_proof.ipynb\">unfold_not_proper_supset</a> (conjecture without proof):<br></strong> <a class=\"ProveItLink\" href=\"../__pv_it/theorems/b22924972b814f2ffc5930b1297489a14767df410/theorem_expr.ipynb\"><img src=\"data:image/png;base64,iVBORw0KGgoAAAANSUhEUgAAANcAAAAWCAMAAABkF/mWAAAAP1BMVEX///8fHx8tLS1fX18bGxuw\n",
       "sLAQEBCIiIhmZma6urrMzMxUVFQiIiJERETc3Nzu7u6qqqp2dnaYmJgyMjIAAAChI0xtAAAAAXRS\n",
       "TlMAQObYZgAAAsBJREFUWMPVWFmW4yAM9GxG7Ov9zzostpFsMyH9ut1v9BE5EZVQhSQgy/K0mfBu\n",
       "YNKcwT4en4fwBC2rpwIiTnxXkClJAKk1L2/lRqx67/ZR0T7BK5qpQExT37Y2MSCJosymRfVml8no\n",
       "J2gFmAqEmGZUFqnlGE8V7Vn7uPp9mfrCfaUpMxOwDlJ/L1QzfSkUto0KqTKy6wYvPnhbzKhHmoaa\n",
       "CoQ8Y34d489JrNeNh2qLEzdQ9UkXU/4JXgxmAtwuLoUJWZJs6yn3nAPkpajUkRT4mesEPrcc/NHl\n",
       "9zTR0Y6AeeCo5+KA5aVy2G0vB1peMgSmletliTwH1EtatuKZh7rWfkVzuNQ8AYAYAXMVtSmAOsyT\n",
       "wKGbSfcrq27Ky65yp62wLy+s62WB5ABUkEP96cxrA1goFv7IITD35fNaG3kJiLwlgUz37Vmaa3ll\n",
       "fm5fQOx9IDp4q7BWqiYExPF67YDaf/jvX0PgHK/2tN5vzNpeyqvwYne8TMwadbnYotHMbd3yGN60\n",
       "T7wogHsOIyBNN8KrB7YHtb7Mw333WuReB1wRr43scsmS/ijZE8ulKYlmp9QggCyzFwPgTd/YeR0B\n",
       "4/514GD+ZvcSR86SvlG6TJ9XcAWAkqwOYWrIiwJYfsfZANgbMRKdBo5OrtPNDu5Icsa2pHw9khM8\n",
       "9b2p2gjea9wk6hCT3IAXBdTDq/EDYE+Ui7WA1SnVxHX5QZ00sFxKlNQy7ofe/gtRUB+O8WDrZESv\n",
       "TdeSygx4UUDt8cENgNPnqNOSbscoL17dFRT1SLaW5qUgjW4zrq+rH+QhAhzVopcBcP7c+zEj515S\n",
       "1rUCjU4qLGLNgnuVymai+aBvYMDWhY0ust4Cr0eTmcD81S5SP7yAjmYwuhj+/JEPmmA/4175EduV\n",
       "eaGQM+/xwnfv7/gfIBjqh+OWN3mFR25wX2fwH8zxL7CqJ7wF9GkQAAAAAElFTkSuQmCC\n",
       "\" style=\"display:inline;vertical-align:middle;\" /></a><br>"
      ],
      "text/plain": [
       "unfold_not_proper_supset: forall_{A, B | A nsupset B} [not](A proper_superset B)"
      ]
     },
     "execution_count": 18,
     "metadata": {},
     "output_type": "execute_result"
    }
   ],
   "source": [
    "unfold_not_proper_supset = Forall((A, B), Not(ProperSuperset(A, B)), condition=NotProperSuperset(A, B))"
   ]
  },
  {
   "cell_type": "code",
   "execution_count": 19,
   "metadata": {},
   "outputs": [
    {
     "data": {
      "text/html": [
       "<strong id=\"fold_not_proper_supset\"><a class=\"ProveItLink\" href=\"proofs/fold_not_proper_supset/thm_proof.ipynb\">fold_not_proper_supset</a> (conjecture without proof):<br></strong> <a class=\"ProveItLink\" href=\"../__pv_it/theorems/e20e990df51cd0a6bae221228afa0c1e6a8423ef0/theorem_expr.ipynb\"><img src=\"data:image/png;base64,iVBORw0KGgoAAAANSUhEUgAAANEAAAAWCAMAAABpCYnRAAAAPFBMVEX///8NDQ0WFhYfHx++vr4Q\n",
       "EBCIiIhmZma6urrMzMxUVFQiIiJERETc3Nzu7u6qqqp2dnaYmJgyMjIAAAAvkUTxAAAAAXRSTlMA\n",
       "QObYZgAAAupJREFUWMPNWFeS4yAQ1QbR5Hj/uy4NstUkyd6aKQ8fLiE1D15nvG0/aJjwgpC3y0/O\n",
       "4G98zkP4MCGr6UzEOev2dZApSQCpNc8ziZS8e3yM9sOMomlmaSokefdir3qAJLJOkK55KMboDxMK\n",
       "0Mximml4OKVI1bV4wuWeEdOcxvrQUNRE1kEic6Hq0FF0q9ghFhKSsTs+eovDqE+nheYAIR+Vj0J/\n",
       "/7SuuW16rxrYVbFMxEVJ41D+K071qqAYXzHqdNxuLk0ylRa95pOsNpTV1TyiyAKvyWnoM9cJfM4l\n",
       "9NUysc4hJlBuxNCEgOUYIGxURI4iB20YyRCYVu4ZfrgRiliSFENj71DM6ney94KQNAuICRQMjJVr\n",
       "dWYSTEyEgpMwsrs8SlL5ij/s1JCFxt5QZB3JPAtGwvcQFnAEMYGysl++nzoQucKATMM+QnaKe4ZR\n",
       "ZuYOmxWlhYa4t4pqRxXjQ7y1kRQDRMk5HGAC1Uc4ZVSf9qHEVlfWdggjZMQIo1yGxakywTZNzmyx\n",
       "cm2Mlt8FI7WCqH7dQbGw9LrjQe19HMpun7MabfJwc64O7qQS52VAFvHEcuQ1PqLvsm8HkW0mBign\n",
       "V5nBuEXTUM3K/KQaiYeLhmpYR/YPDuXIYYoIU3NGXtcRMZOtIPI3NkDxXi8eOs3o1DpmtbRrfDFW\n",
       "O/L94Ypw8D0TpY3gvaZpoIiY5C5tJJ8+MYHIy/0ANTSi1V+sTqm4pcsPTTxjc2O5lARXxkebejan\n",
       "RzCHpxjYsukZ5HV/TvU1ZyT0CqJarYPi8rIL6rOcUr9/5SbIi5v2feh8eHVmjDej68nK7+63O0YP\n",
       "MALRrmihgr/uVMfO/JWrge+rsi4BZnRSYRN7VqlXCUuD5jeZAdVbGysK8eyXUbMdFEy6hqsmyr3S\n",
       "pdl4/X3VjC+yN3PjFa4MmGk33t34/sdE+rqxdOY9Rts7FywX3ryV81duWDed8hJ+dXL++rXewk/6\n",
       "f2ODt606euj3/QPwD5+oI+ogPvljAAAAAElFTkSuQmCC\n",
       "\" style=\"display:inline;vertical-align:middle;\" /></a><br>"
      ],
      "text/plain": [
       "fold_not_proper_supset: forall_{A, B | [not](A proper_superset B)} (A nsupset B)"
      ]
     },
     "execution_count": 19,
     "metadata": {},
     "output_type": "execute_result"
    }
   ],
   "source": [
    "fold_not_proper_supset = Forall((A, B), NotProperSuperset(A, B), condition=Not(ProperSuperset(A, B)))"
   ]
  },
  {
   "cell_type": "code",
   "execution_count": 20,
   "metadata": {},
   "outputs": [
    {
     "data": {
      "text/html": [
       "<strong id=\"superset_membership_from_proper_subset\"><a class=\"ProveItLink\" href=\"proofs/superset_membership_from_proper_subset/thm_proof.ipynb\">superset_membership_from_proper_subset</a> (established theorem):<br></strong> <a class=\"ProveItLink\" href=\"../__pv_it/theorems/7dbbf05604aaa194504270f39b522d6ec30224fe0/theorem_expr.ipynb\"><img src=\"data:image/png;base64,iVBORw0KGgoAAAANSUhEUgAAAPcAAAAWBAMAAADuuhdHAAAAMFBMVEX///8QEBCIiIhmZma6urrM\n",
       "zMxUVFQiIiJERETc3Nzu7u6qqqp2dnaYmJgyMjIAAAAcRTyBAAAAAXRSTlMAQObYZgAAA4ZJREFU\n",
       "SMe1lktoE1EUhn+TmTQzTdquRNBFsAul+AgEKoqPqBuVitGFuDP4gAqKQcX3o0qx0yo0brQI2hHB\n",
       "RxQNuNKNsSJK6yMq+BYHXBS60NJarZWi9547mblNk2Ij3kXm3nvOPd+Zc885E6DE4fkSG1vh3FjC\n",
       "20CwOwqLzz+OHx6IVvBHMFtErjcU3H71e2OtEYUvyS2gi2/1lAIPpNmjwiwir0gW3p8EeAegWwRv\n",
       "YxtaQylwOtVWTP6y8LY6DCj9QAfBuev0DuOGU7y6isn3jVi92bPHEqnyk11VH3CBLAQ7U6kzKAn+\n",
       "IZW6migi1kYI1tXkZv4qBt7PbiXKLWDQMA6WBq80jKZMsWIIs5ybumVJByWfm1OVcai7ebDDBN8M\n",
       "NNO++F3Wf7+eckVxnHVSR2mdX9vswn0xSZan62dVcB2vQ4f5wudqrd/2oolfctAi+FJKPbb8RtJg\n",
       "FQJVdDyn/ynqHH0O3HPhShg38l7Y0S1jhE48M5ePMAXMTkKfyJ7lCYKXwUO1enGYpN44yofkE/oi\n",
       "JlarIxE2rwXumg4cCczMGb12f0FOl8YEJjZhiMXqL2yIhDvKHWCOqb1kIZAto+3OncLlELyWDA9c\n",
       "DkPfuiKVYvMdwEL3zfEEubQKnjhr2rouHOgTC6kev3N4yIFr1loqwJBw82YMs0wZvsbfwG+XgjAA\n",
       "T48EP6/G2aR6zWZ2d46uG3aoA7YnI8oc29lRRYQdzZsoKTCHxKtmTo9Dhse9CdTZCdf34riU7fCf\n",
       "Zj81PmuXaNJC1024O55eUI15Q04RsDJXB92Ewy068B6zSfwUmCbDg2lm4oENtOBJSPBy7m+sIgs9\n",
       "7Ora4jCUX/5eTeTAAafpslxe3ML9yQh4JfdL//y4laJ9EmhPS/Ab8x8NYa79OhlovyS4uNPKJNS9\n",
       "hnHM1rWDlIC+oaba/mJdahRp6vv6PVJ/gryICQtBLvCaaKeLZcZXJSX4PGgDLCyiQ6Sh/JTh76h0\n",
       "EUPc1S3YXuua7PaaG5dtCzRWMtNZrQXaELQpUtgVFrdhXBFK7SZOZWQ476O9T5ER9yJ0x/6w5EaH\n",
       "BPcPQms9pE7Gw/5IfVSCtzag7UdWob4WOBKpbUQeXN9WN8OEP+3ojuqLBb/2lvzmYpTLnVIWXDIM\n",
       "Y1Rvl8d0fud/8WdCci0ffrsYvMCX4/C//I16ywx058Gzfw//v8P7/xF/AAdz9RArGsNxAAAAAElF\n",
       "TkSuQmCC\n",
       "\" style=\"display:inline;vertical-align:middle;\" /></a><br>"
      ],
      "text/plain": [
       "superset_membership_from_proper_subset: forall_{A, B | A proper_subset B} [forall_{x in A} (x in B)]"
      ]
     },
     "execution_count": 20,
     "metadata": {},
     "output_type": "execute_result"
    }
   ],
   "source": [
    "superset_membership_from_proper_subset = Forall((A, B), Forall(x, InSet(x, B), domain=A),\n",
    "                                      condition=ProperSubset(A, B))"
   ]
  },
  {
   "cell_type": "code",
   "execution_count": 21,
   "metadata": {},
   "outputs": [
    {
     "data": {
      "text/html": [
       "<strong id=\"superset_membership_from_proper_superset\"><a class=\"ProveItLink\" href=\"proofs/superset_membership_from_proper_superset/thm_proof.ipynb\">superset_membership_from_proper_superset</a> (conjecture without proof):<br></strong> <a class=\"ProveItLink\" href=\"../__pv_it/theorems/d30b0618331e47172cd5b5bdf534ccbb887fe4390/theorem_expr.ipynb\"><img src=\"data:image/png;base64,iVBORw0KGgoAAAANSUhEUgAAAPYAAAAWBAMAAAABeHx5AAAAMFBMVEX///8QEBCIiIhmZma6urrM\n",
       "zMxUVFQiIiJERETc3Nzu7u6qqqp2dnaYmJgyMjIAAAAcRTyBAAAAAXRSTlMAQObYZgAAAzlJREFU\n",
       "SMe1lktoE0EYx//mYbLbTdq7HoKCSsG2sFhBqoZ6UEFpvKgnW9RCe9GihSJq7aFoqkLiyR6ULFiK\n",
       "RNGCB6kIra0iRNH4AAtiCaiXgm3oA/tA9JuZfUy0XWukA7uZ+f77399k5puZBYosnvGY+wM3XbSS\n",
       "JDDaihyrf/p3thZ1d6odSylH6Gqm6ylesOZYMWx3Zzi5lDJB1z3O7qa70lEM2935bikhNGGQO8LY\n",
       "YVbrK4bt7jxT0Bppa8uZ1Ts7aUTUMsYOZdLp6yiG7epUWuTW4XKnnq2M0v0LY2M2Hj9XFNvV6ami\n",
       "P7euuXaI552UFT5jIEs/w5zdCHTxqLjvmRpu4mnis57usn22JtiNssYciZpqKxAkwF18iLSzxmop\n",
       "73pQT3ONUc7eBZVPRWhapEIZtDLutnJj2kkTSxNsy2mXN8ATsxqgRMjgtbFXfhUrUaRoSPCQswPw\n",
       "sEHArR9c8zagZF42UFzV9e0xWRNsy8lG9bFO1WpgwBCBVTSpBuKicWCciuim/5h+kq2Nes7WsgEe\n",
       "zZwWHY7Am5PZLJ5O9+iyJtiWk+Vxf5rup4AdcNjApGh0S/NCUs5mK7mDvEMR0cn7MVQYEtuK+6ok\n",
       "TbCFc2jLhhgT6c/PwDMmjTn8M2ZHHDaFA2zadnM2uo7zfMBWLtZt3tQAiW3F8UzSBJs7PcaJQDQs\n",
       "ujf59iKkXHvkyYMvLm/EXnrEDuftXMMDvhQ/opKrr4CNMtuKo1bSTDZz+vGNckKEcvBYy1qrgm8h\n",
       "mFdEQpy1XGw/CM7RrUawS1mv1M8vE3w4rwKpPodtx3FD0kw2d4JedSgej0cQHISyYM1rC9Sj5evN\n",
       "o6a3U7zj9s8xlCS+0wx9FewQi3sNpPihSOa6pMO24zQAjmayudOf99PEsFLaB9/c4nvqvkttBctR\n",
       "bRFsXvaTNatchjIPZa005jzOax2SZrJZSWk5DRrvXsrAtcG/niXCHXHYwVkoifP+NXg+pTdFHbaI\n",
       "83USkzSJ3ft+KANcYZELenWn/fZg0o0tztDC7wmpLm1GKk3ntj/3c3n7ZvO9zG8Ha5/+jd2/OHvR\n",
       "w6L9P76ZQjQoFa2Fsezy2StavCtO+AVAdvZL2kuGHwAAAABJRU5ErkJggg==\n",
       "\" style=\"display:inline;vertical-align:middle;\" /></a><br>"
      ],
      "text/plain": [
       "superset_membership_from_proper_superset: forall_{A, B | A proper_superset B} [forall_{x in B} (x in A)]"
      ]
     },
     "execution_count": 21,
     "metadata": {},
     "output_type": "execute_result"
    }
   ],
   "source": [
    "superset_membership_from_proper_superset = Forall((A, B), Forall(x, InSet(x, A), domain=B),\n",
    "                                              condition=ProperSuperset(A, B))"
   ]
  },
  {
   "cell_type": "code",
   "execution_count": 22,
   "metadata": {},
   "outputs": [
    {
     "data": {
      "text/html": [
       "<strong id=\"subset_eq_reflexive\"><a class=\"ProveItLink\" href=\"proofs/subset_eq_reflexive/thm_proof.ipynb\">subset_eq_reflexive</a> (established theorem):<br></strong> <a class=\"ProveItLink\" href=\"../__pv_it/theorems/81bb73785686f868280f5cf3bf26690a9dd5b0720/theorem_expr.ipynb\"><img src=\"data:image/png;base64,iVBORw0KGgoAAAANSUhEUgAAAGwAAAAUBAMAAACaOcVSAAAAMFBMVEX///8QEBCIiIhmZma6urrM\n",
       "zMxUVFQiIiJERETc3Nzu7u6qqqp2dnaYmJgyMjIAAAAcRTyBAAAAAXRSTlMAQObYZgAAAcRJREFU\n",
       "OMuFVDtLA0EQ/oyJyV1yml8g+QcJBLRQMGAhCEKqlEbwhZURi0NQSJlUl05BxAMtJIIIFtoJWijR\n",
       "4sBSlIDaBEHRgFHwMfuI7GLUgb1vd76b2XndAS1kDX9KuARU2eZKU5t5DoFqK5tRWjPAGdvXNKaz\n",
       "JOBRHK1p27bTTfKB1g6wQmDkNbMLAddvHIz7ksJZDy4QiaGTwa5mtiBC3XtV75ayPUBHMwqrUi4v\n",
       "a1ZGTvj11Tn2aaQXT9HzFmgUCosa40twGA6/c8ypnN899AiOgUmgyFVFSYU8HmMq8MTvHlPNNpGN\n",
       "sbSBQZi80lZdUkGeqR/Gs9INKSmss1j26S34uPuNd0m1seiRSfY0fgQZGE/OMjdZKqMX5KrKvGZG\n",
       "j25+PFJTI7YqzIxqhjuKFdQgw7TmRAOU7tA2GCUcYqWYYJoO9KolWZUDQclNDX+3ZlfODpUEezz6\n",
       "S8QlGUnI3jmi0YHT5nCx/obYEPTT6mIlNW/OHVcmkIPpfLg4+JzXp3jrs4aw80Je71jl2evtLtbT\n",
       "2nD9IeZ3dUfoVk8f5d8lEmuWoQHDWWoetOE9sW31w4H4cFrFkP/ntmJr9T8/BauEL2dybp5wiLXZ\n",
       "AAAAAElFTkSuQmCC\n",
       "\" style=\"display:inline;vertical-align:middle;\" /></a><br>"
      ],
      "text/plain": [
       "subset_eq_reflexive: forall_{A} (A subseteq A)"
      ]
     },
     "execution_count": 22,
     "metadata": {},
     "output_type": "execute_result"
    }
   ],
   "source": [
    "# Proven\n",
    "subset_eq_reflexive = Forall(A, SubsetEq(A, A))"
   ]
  },
  {
   "cell_type": "code",
   "execution_count": 23,
   "metadata": {},
   "outputs": [
    {
     "data": {
      "text/html": [
       "<strong id=\"supset_eq_reflexive\"><a class=\"ProveItLink\" href=\"proofs/supset_eq_reflexive/thm_proof.ipynb\">supset_eq_reflexive</a> (established theorem):<br></strong> <a class=\"ProveItLink\" href=\"../__pv_it/theorems/e2e826a30c818fdcdf6083400f19456e91ac6fea0/theorem_expr.ipynb\"><img src=\"data:image/png;base64,iVBORw0KGgoAAAANSUhEUgAAAGwAAAAUBAMAAACaOcVSAAAAMFBMVEX///8QEBCIiIhmZma6urrM\n",
       "zMxUVFQiIiJERETc3Nzu7u6qqqp2dnaYmJgyMjIAAAAcRTyBAAAAAXRSTlMAQObYZgAAAcNJREFU\n",
       "OMuFVN0rg2EU/9mH7X1n+Au0/2ArhQtl5UIp5WqXXODClWlliNrlVup97yjJW1xoSkrhzoU7XLzl\n",
       "UtYKiZsJZRRznq+9ezKcenbOznN+5+P3nA1oIhv4UyI2UGbGteY2c1wFy80wY3SmgXNmP2o37bZQ\n",
       "TzzHfTY7H/MuK3T2gDVSRk6DXQpV+qiXLyWVGa04QFsM7Uzta7AFEXvw7rX9oKzdAWrF7ET0rFhc\n",
       "1VBGWuT1veoTcXHjrPAtUM3nlzSYL8HVcOTzx7gIOCcuqVNgCihwV0GGhF3eVzL47MHUGNsYZ/SU\n",
       "gEGYnOmo6inEQwIwXjyYX3KSxCbr5Yii4OPpt1RPLTwk1d1TbWhSqOBE9wxjfZzquyHuOstoMPro\n",
       "8mCHcjS6LQuYUU7xRLF8Y5MROrN1VHBRaLoJdZIeYlRMMk8rehspWZcLIYjoE0Qa+3J3iBIc8He6\n",
       "QlyxlpBvZ9lyuVYkj+x9w2wJ+ul0MErNmwvLkQOkYVpfDo5rGX2Ld2qPiFhvlPWOMc/C/Q42R7Xl\n",
       "+kPMtLJGqKqrr/Lv0qZ+EeEqDGtZfbEbM9Ns2eycBttr3kPun2qF5u5//hSiNr4B3YRvuEfIG2kA\n",
       "AAAASUVORK5CYII=\n",
       "\" style=\"display:inline;vertical-align:middle;\" /></a><br>"
      ],
      "text/plain": [
       "supset_eq_reflexive: forall_{A} (A supseteq A)"
      ]
     },
     "execution_count": 23,
     "metadata": {},
     "output_type": "execute_result"
    }
   ],
   "source": [
    "# Proven\n",
    "supset_eq_reflexive = Forall(A, SupersetEq(A, A))"
   ]
  },
  {
   "cell_type": "code",
   "execution_count": 24,
   "metadata": {},
   "outputs": [
    {
     "data": {
      "text/html": [
       "<strong id=\"reverse_subset_eq\"><a class=\"ProveItLink\" href=\"proofs/reverse_subset_eq/thm_proof.ipynb\">reverse_subset_eq</a> (established theorem):<br></strong> <a class=\"ProveItLink\" href=\"../__pv_it/theorems/4d656de597e2e767c0b1a18784812ecc2242f10f0/theorem_expr.ipynb\"><img src=\"data:image/png;base64,iVBORw0KGgoAAAANSUhEUgAAALoAAAAWBAMAAACF/ptXAAAAMFBMVEX///8QEBCIiIhmZma6urrM\n",
       "zMxUVFQiIiJERETc3Nzu7u6qqqp2dnaYmJgyMjIAAAAcRTyBAAAAAXRSTlMAQObYZgAAAtZJREFU\n",
       "SMetVU1oU0EQ/vqS2LyXpO1NQQ+52Yu2EIg/FFv0oBdp8aA3U6hC9WCLgvEXI2h5lUriyV4kEQtK\n",
       "lRoQFPHQSg/WKvLUo7SNqIi9tPS/lVJn9r1NNlFbfXQhu5Od3W9mvpmdB7ged9bQB1JAjoURF+BG\n",
       "Agi1zUVar/1Je5R+J4A3LI+7QK8g11BGJuqb2Nb3ePxcuKCdoF8f0E2LnnCB/pGnmAU01spoRhuk\n",
       "MjSRAYJhVPCSdYF+nqcaCmAs77LxQ0oP60lhVCE03Nt72wW43s7zVcLYmCliWwyrhsP4CiyY5iUX\n",
       "6JrgYw44crIkFzS8mX6iDIPAcaBTbNnzgenBVnHGK6/4U1LyJuuinXKXr/vmRqovKiYlxT2IMV2j\n",
       "wD4YoipDM3Y+qhCsEtfllTEK8pFpdpD4Hnjp7JYzkLYI3G0uoHuctDYgzaE9o2PQ2A3cW7YPNCOw\n",
       "pKIb9RZ81205CvQ7LJcxkJ/80H4qzNiLryXSxmUYo2iscrE1fMb2KQxPTkUP3q/Ny6eBPVDQK8lv\n",
       "baqA/tRhkNQ5G13PHRb2wqbQPG7C9oyKfsifwAsnjFlo4yozXO4bZvLgvgv2SqpyZnc/Z/MY72zA\n",
       "DqFp3FZtEynRmz3t2OX4NPWhA2pWudxj+afYs9POv07oFZN2VvFEVO4n1AjVO2Crih7KapN47ZCU\n",
       "g9YuCeO0fSaLm0Sk3Am6nIrh5+OnfKOOyePiMb68TYpjXUA6q6D31Q0tYa/j7wB0mUMvmTm10hI1\n",
       "f3vnD1bGEUjOk/Vv7B2jejJIczcC3W5MKei7oc/Kkq/MwrtY1AlW76IyThyku5Z+A/oS9C0KM16i\n",
       "dxnGTQGfzuDWQFEXW3UEZQPyL0BPXvZtxqvpSGuDgp5MoHveQmCIXlPwSiRaaOaFJyx5j8fPFqH3\n",
       "lX5OFNn/D1+P1Udnyf/n/4G+5pcvlCrZsP6C3m3SwHoOzzpg/AKxgLaswiY9TAAAAABJRU5ErkJg\n",
       "gg==\n",
       "\" style=\"display:inline;vertical-align:middle;\" /></a><br>"
      ],
      "text/plain": [
       "reverse_subset_eq: forall_{A, B | A subseteq B} (B supseteq A)"
      ]
     },
     "execution_count": 24,
     "metadata": {},
     "output_type": "execute_result"
    }
   ],
   "source": [
    "# Proven\n",
    "reverse_subset_eq = Forall((A, B), SupersetEq(B, A), condition=SubsetEq(A, B))"
   ]
  },
  {
   "cell_type": "code",
   "execution_count": 25,
   "metadata": {},
   "outputs": [
    {
     "data": {
      "text/html": [
       "<strong id=\"reverse_supset_eq\"><a class=\"ProveItLink\" href=\"proofs/reverse_supset_eq/thm_proof.ipynb\">reverse_supset_eq</a> (established theorem):<br></strong> <a class=\"ProveItLink\" href=\"../__pv_it/theorems/854bbee157245b2831aedec123b3084d4405b6950/theorem_expr.ipynb\"><img src=\"data:image/png;base64,iVBORw0KGgoAAAANSUhEUgAAALoAAAAWBAMAAACF/ptXAAAAMFBMVEX///8QEBCIiIhmZma6urrM\n",
       "zMxUVFQiIiJERETc3Nzu7u6qqqp2dnaYmJgyMjIAAAAcRTyBAAAAAXRSTlMAQObYZgAAAtZJREFU\n",
       "SMetVU1oE1EQ/rpJ2t1NNvamoIfc7EUrBCJosQEPiiANCrUnE6g/1YMtegiiYgUpW1EST/YiWVFQ\n",
       "KtSgB/HUapGWKhL1KLUR9VKEltb+I3XmvW760mqrSx/s23lv3nwz75vZWcDzuLuOPpgFiiwMewA3\n",
       "2wGrdTracv1P2uP0nAHesDzqAT1MoaGCXNQnxNo6nU6nE652jJ4eoIteRrsH9I88JQtAwy6WjB9Z\n",
       "RWmNOUAogjC/8h7QL/JUS5AjkdJVSuNxPS3NalhD3d13PIAbbTxfI4zNDkt7y7SF2jjN34BZ277s\n",
       "AV0TfEwDx86KdZuq9Du9RBn6gZNAp9iS88HJ/hZxSb97VC/d2Z+pi3W6u2wemB6uuSSvklLRHyDJ\n",
       "dH0G9sMUVWn9lPmoRqhamLtHR+Josu1bLL4HXi7tVnGutDngXsqtz+URR46v9pyOQeMwcP+XUPhS\n",
       "CM6r6Ga9UAfZPAb0OnK7gonVKQ5tYRUzgeZoKx9PUsEUqsTW0AUZUwS+oooeeigYRiM954F9UNA3\n",
       "UdzahFi/UmkndVGiG8VG4S9iC82TBHY6KvoRXV660oE5BW1UZYbLvVIyGlaqmsQqZvcAZ/OEMMZu\n",
       "oWnYUSMT5KKnfPLSVhz+iQ8dULPK5Z6Uzs1Th0rFSujhcZlVPBPWn1ArVO+A7Sq6ldfGZQkmECpC\n",
       "c/kNMV9fiIUtS4kIDLqdgD8fnfKNOiaPi8f8+jYjjt0EcnkFvaducN71pvfBWHC5JTfnFptj9qrv\n",
       "/NHiKIKZGfL+naNjVJ+DnHBM1g1ZBX0PjCkhPKU48vDPlXWCtbtoqY4Ok23BuAFjHsY2hRk/0StK\n",
       "9SjFknNwu6+si605QhE3R7MwMlcCWzEwGW2JK+iZdnTNFJrsjtd0+mo0ttzM9bK2hYF0Wu3AkB24\n",
       "/HeiyPo//D3WHp0r1i/+A33dP5+VXbFR+As69Rm7Axs5fBuA8RuYnbRgQbcVWQAAAABJRU5ErkJg\n",
       "gg==\n",
       "\" style=\"display:inline;vertical-align:middle;\" /></a><br>"
      ],
      "text/plain": [
       "reverse_supset_eq: forall_{A, B | A supseteq B} (B subseteq A)"
      ]
     },
     "execution_count": 25,
     "metadata": {},
     "output_type": "execute_result"
    }
   ],
   "source": [
    "# Proven\n",
    "reverse_supset_eq = Forall((A, B), SubsetEq(B, A), condition=SupersetEq(A, B))"
   ]
  },
  {
   "cell_type": "code",
   "execution_count": 26,
   "metadata": {},
   "outputs": [
    {
     "data": {
      "text/html": [
       "<strong id=\"reverse_proper_subset\"><a class=\"ProveItLink\" href=\"proofs/reverse_proper_subset/thm_proof.ipynb\">reverse_proper_subset</a> (conjecture without proof):<br></strong> <a class=\"ProveItLink\" href=\"../__pv_it/theorems/9e0ae8c169a6e3f9e36a725bafd3cdf1e5cba1fe0/theorem_expr.ipynb\"><img src=\"data:image/png;base64,iVBORw0KGgoAAAANSUhEUgAAALoAAAAWBAMAAACF/ptXAAAAMFBMVEX///8QEBCIiIhmZma6urrM\n",
       "zMxUVFQiIiJERETc3Nzu7u6qqqp2dnaYmJgyMjIAAAAcRTyBAAAAAXRSTlMAQObYZgAAAtJJREFU\n",
       "SMetVU9IFGEU/zk7qzvjrnorqMNChzxUCgsbheRChyIKpUPdWsEKi0ipg0VFG0SMIayd8hI7kZRs\n",
       "YAseopOGRGEhUx3D3KguXhT/a4i9983Mzue6Gk09mO978715v/e933vfN4BvefQHe2UPkGdl3Ae4\n",
       "ngIi7QuxtrulrGfouQC8Z33SB3oVbQ1lFKKxuYR1ip4BoJcmLeUD/TMPSQtoqt9ojEyZQDiKKp5y\n",
       "PtCv81BHCUxESQl2dnZeswrG541k0GsQGc1mH/oA1zp4vEMY20x3aazHtVp1CRp/AEuGcdMHuiL4\n",
       "WABOXyyKSKKaQ5zHCHAO6BJL9nh0dqRNbEF1fUKFHanphniXu8ruwYXx2htSyEFn7kOS6foKHIYu\n",
       "ujIyZ9ejBuEa4e66TCQK3h+B145awbVSloHHLR56hTMnkOHUXvKKIqrxZFUYAi2oXJHR9UYyB3fF\n",
       "YqTHgSGH5TKOGaJ9KL889HI7zWBrrJ3bMEkNY9kRR6/a4aMI5GX08LN66JeOZbOkXwEOQUKvpn0r\n",
       "Mx56yA5NpJblbXQtf0rEixrC8qIZ+0wZ/WQohXL7wOjzUCZlZrjdy+c2MEOmCmb3CFfzrEgK+4Wl\n",
       "aW+tTaSL3hLowHGnqjOf7kGuKrd7UjqKe+zWIfSqabuqGBR99AV1wjQG7JbRIzllGm8ckvJQ3KYL\n",
       "c9m+UcTtpndvCUrBxydE9UYDk8fNo3//kBafdQOZnIQ+0PBuBQec/Q5Dc2uoUpjLa61xwzvnfecF\n",
       "Qv/aJCrTixT9J++O1wImMoJc8m7qkdAPQpunxIRU56Aur7sJCsI3QXfRdaa7eeIE+VrafWgr0HZK\n",
       "zKhE7yr67Y8yJh4Mr7vFtpRw1K3RErT0reAOvJ2NtSUk9HQKvYuWKk5o+HYs7l3m3hHeTAaKfyeS\n",
       "HpINTw3DKPH32Fq6it5fbYbu588XKU7O+hv0f5LAf8D4DaB9sA+u/zZ0AAAAAElFTkSuQmCC\n",
       "\" style=\"display:inline;vertical-align:middle;\" /></a><br>"
      ],
      "text/plain": [
       "reverse_proper_subset: forall_{A, B | A proper_subset B} (B proper_superset A)"
      ]
     },
     "execution_count": 26,
     "metadata": {},
     "output_type": "execute_result"
    }
   ],
   "source": [
    "# NOT Proven\n",
    "reverse_proper_subset = Forall((A, B),ProperSuperset(B, A), condition=ProperSubset(A, B))"
   ]
  },
  {
   "cell_type": "code",
   "execution_count": 27,
   "metadata": {},
   "outputs": [
    {
     "data": {
      "text/html": [
       "<strong id=\"reverse_proper_superset\"><a class=\"ProveItLink\" href=\"proofs/reverse_proper_superset/thm_proof.ipynb\">reverse_proper_superset</a> (conjecture without proof):<br></strong> <a class=\"ProveItLink\" href=\"../__pv_it/theorems/3636ca520a97b0607eadbb12de1a5f30480990790/theorem_expr.ipynb\"><img src=\"data:image/png;base64,iVBORw0KGgoAAAANSUhEUgAAALoAAAAWBAMAAACF/ptXAAAAMFBMVEX///8QEBCIiIhmZma6urrM\n",
       "zMxUVFQiIiJERETc3Nzu7u6qqqp2dnaYmJgyMjIAAAAcRTyBAAAAAXRSTlMAQObYZgAAAs9JREFU\n",
       "SMetlU1oE0EUx//dpM3udpP2pqCH3OxFUwhE0GADOSiCtHjQmwlUJXqwRQ+lqFjxKxUh8WQvkpUK\n",
       "lgg14EE8tdqDpYpExZPURtRLEVr6/UGp781k2+mHLa4u7OzMvHm/9+a9N7OA6+fhNvLqLFDizrAL\n",
       "uNkB+Ftmwqmbm0lP0XsOeMv9URf0ALmGCjLR0LSJdIzeXqCLPkaHC/onbhJFoLF+o9A/ZgNWEAH+\n",
       "FFzQ27kJ0QZGghJ4p62tzdnG0wYSmLXwD+XzD1zAjVZurxNjhy3Gv7KKtBiKUfsDmEunr7igayIe\n",
       "M8DJ82LsU+Feu49ChgHgDNAppmR7ZHIgJRZ6naX6ip43E410OrOsXjkzXHdZjg+qph8jweH6CsRh\n",
       "iqr0T8nw1cKqFerO0pHYitYH4FW56+NcafPAo6QYt6r0GHK8tRe0DBq7ge4lIfAkUb2g0s2GIrrD\n",
       "4c/cjwB9tpyuYJs6+aEtirAnFXhlc7iFyzBBBVP0iamhS9KnIDwllW49qYeZz8fZmYvAISj0GmJq\n",
       "E87ZWg07iUuSbpROCHvBtJA8a8I+W6Uf16VinBDT0EbVyHC5V01tiAyJfBzdw5zN0zxThf1C0ri3\n",
       "Tm7SoSc9UtFqgnfi422oWeVyT0jjr5ViJXpgXGYVz4X2F4SE6D2wR6X7C9q43G4QVgma46PFkfpG\n",
       "0ztlIgKrJ5KPj075RpSDx8Vjfn+XEcvuAbmCQu+NDi5Ij/qh98NYdGJLZi4sN0fSZap59mhZ0rM8\n",
       "iurMLFn/yd4x1WMjJ44xaTdmFfoBGNPlTaCmAO/8mptALZRB5SaQBldycYz2UDTuwliAsVuJjJfC\n",
       "u+SMczbu96+5xbZ8rKCTozkYmauVu/BmMpyKKfRMB7pmOYHGLVjXwpHVy1zPbkfvXf87Ufq60u9J\n",
       "p2/Ym/w9tn46141f/oHu6s/nX7+54t/Q/+nx/AfGb3O/sH8i0PZmAAAAAElFTkSuQmCC\n",
       "\" style=\"display:inline;vertical-align:middle;\" /></a><br>"
      ],
      "text/plain": [
       "reverse_proper_superset: forall_{A, B | A proper_superset B} (B proper_subset A)"
      ]
     },
     "execution_count": 27,
     "metadata": {},
     "output_type": "execute_result"
    }
   ],
   "source": [
    "reverse_proper_superset = Forall((A, B), ProperSubset(B, A), conditions=[ProperSuperset(A, B)])"
   ]
  },
  {
   "cell_type": "code",
   "execution_count": 28,
   "metadata": {},
   "outputs": [
    {
     "data": {
      "text/html": [
       "<strong id=\"relax_proper_subset\"><a class=\"ProveItLink\" href=\"proofs/relax_proper_subset/thm_proof.ipynb\">relax_proper_subset</a> (established theorem):<br></strong> <a class=\"ProveItLink\" href=\"../__pv_it/theorems/86dd40d11f4c829577e788622a2f5c52ac557f4d0/theorem_expr.ipynb\"><img src=\"data:image/png;base64,iVBORw0KGgoAAAANSUhEUgAAALkAAAAWBAMAAABuySBUAAAAMFBMVEX///8QEBCIiIhmZma6urrM\n",
       "zMxUVFQiIiJERETc3Nzu7u6qqqp2dnaYmJgyMjIAAAAcRTyBAAAAAXRSTlMAQObYZgAAAs1JREFU\n",
       "SMetVU1oE0EU/tyfNLtJak8iKBLwoBdtIBBRika8SFFaPPQkGLBCD4rRokFRjCB2W4XEixZEuyK0\n",
       "koMGetGTtSJqFYkVBBE14Ml6aGlsTSO1vpnZTSdtrbg6sPvemzfzvd+ZATyPG3/QP6CvyJgPHsDN\n",
       "NCd6cZHm7dzBmBWHLwu8YPKYB/T6rCATLmYqlToh2NWAOgWT7PaSZKQ9oL8R5GNF0JvPqxp9FtBK\n",
       "wDDZtoFg3gP6KZGfwRkhfpnXKDQVmgRuERnJ5a55ADeSnISUb5yqkoP+BkI+TY7HgbJlnfGArkQ4\n",
       "aQ7MclonqVYmoJ9kKaElh4BuPin+u0uPO3i9tKorWZfTMk2xbne2wBMT1ye5eFVCP3BktIuFEqKy\n",
       "7uLFJV6EGGpAsIFvdxd/ilf3vQYeOWxdXrhglLh4R0JvzMJcRTSQZDEp3I3bIkQ1gUBFRjd3kFpf\n",
       "H40SHwMe2mJ6BbfZFo2VF2XmPLNAxnVq1mBBaEY6xbIw1KKMHhyIwDzcnMsRfxzYDhmdfuvEqvA8\n",
       "+jRDDwt0o9jGmzRscdW9Vmy2ZfR9/jR8rSKMKShjcmYC9B0T8teadsdRsquxtupuZ3M+bOG6lk0b\n",
       "E5DRE2oSe5yqTo5ehFzV6/SNC7m/3ZbaXS87VcUg79z3aOS6V8AGGT2UVybwxElSEUrSTVjE6fmM\n",
       "01L7u5yboJ6aYmcPK+EQa0+WMvPzyww3fhnoy0vod5ueVbDV8XcIxg+3O5MwMz9t3J/rrD0IvvHp\n",
       "aMclboblM8RQVRt9PLm0uyUroW+DMUWBiWOShzZTexMsNwaq3F7aWzB6YFRgrJUyo1F6Z91u7rNx\n",
       "ZWjBLbbMGK7WqAwjc1Zfg6elaEdcQs+k0fu9oPETGjwXjV3A4iPMdanU/A3sHJSFN39A4v2yot+y\n",
       "rKVfj9+PWvPOY7UkupeX793CicLfoP/TUP8Dxi9bSbT1CXT83gAAAABJRU5ErkJggg==\n",
       "\" style=\"display:inline;vertical-align:middle;\" /></a><br>"
      ],
      "text/plain": [
       "relax_proper_subset: forall_{A, B | A proper_subset B} (A subseteq B)"
      ]
     },
     "execution_count": 28,
     "metadata": {},
     "output_type": "execute_result"
    }
   ],
   "source": [
    "# Proven\n",
    "relax_proper_subset = Forall((A, B), SubsetEq(A, B), conditions=[ProperSubset(A, B)])"
   ]
  },
  {
   "cell_type": "code",
   "execution_count": 29,
   "metadata": {},
   "outputs": [
    {
     "data": {
      "text/html": [
       "<strong id=\"relax_proper_superset\"><a class=\"ProveItLink\" href=\"proofs/relax_proper_superset/thm_proof.ipynb\">relax_proper_superset</a> (established theorem):<br></strong> <a class=\"ProveItLink\" href=\"../__pv_it/theorems/cd5aaf711f7d025d3c801abcbbcd98c0716c7c380/theorem_expr.ipynb\"><img src=\"data:image/png;base64,iVBORw0KGgoAAAANSUhEUgAAALkAAAAWBAMAAABuySBUAAAAMFBMVEX///8QEBCIiIhmZma6urrM\n",
       "zMxUVFQiIiJERETc3Nzu7u6qqqp2dnaYmJgyMjIAAAAcRTyBAAAAAXRSTlMAQObYZgAAAtNJREFU\n",
       "SMetVU1oE0EU/tzsJtlkY3MSQZHc9KINRCJI0UguIkiDh3o0oEIuYrRgVBTjf1KFxJMFkaz0UAkY\n",
       "A73oyVgPSisSKwoiakAv9lJJTE0jsc7PbjJJa8XVgZ335s2+7837mTeA5XH7D/sPyVehzHsL4K4k\n",
       "I0plyc6bxYPBVAj2LDBN17MW0FdnOfnKSCGRSFwwt9YCtjpcxO4oWalJC+ivOPnQbEvufeZUaQFy\n",
       "DZgktnVAK1pAP8XjM7HQERW4OxIRearAHUKm8vmbFsDVOCMe6VtHZuTA6SXIp8nBQ0AjlTpjAV3y\n",
       "M7LH3RKEX9jcF4VygoaE/HIYSDMhn3fXnsSYg7Kp4syanJwZCKZNaZkFJqRUBXRWIjhwZOYqjbWH\n",
       "uBJmySU8d9HjheZl6qbKx1Bb+yXw2GAdRX4EtSagb2VzfxauNYS6SfAckNgxxriLtijcTRHdtbOM\n",
       "sUDgNeWDwCOdi1cxm0OBYENA53E/Ty0Q4wopVq3sYLKpYX4mH2wVEV0b98OVz4dpnI8DOyCik2lD\n",
       "B9wdZWSeovs4uloZYvn2pdjW/Qi26CL6Pie/DWHiRh3SrBgZN/mOddD362a54yixK9OySh+iMju2\n",
       "sT8GN2/iJzDRozZee1oEcnXmCsSs3iLfXLs1hNPtclcaRlYxwbTfoZ/tvQA2iuieosTvuuyDVoEU\n",
       "NwPmN2o+kzU6wclpo0WQotg1QlNYouXpo4Y/Pc8wv64DuaKAXhh4xu+6WoKzBPWHWZ1xuDI/dTxY\n",
       "HO6+CPa5+UDsGjMToaejqDYdOboA0R7MCujbodYNJ9BXhLzQ3QlWGuNtbi/xoayOQG1CXS9ERibh\n",
       "bZnrnI4bpZ4utsKYbOeoATVzVlmHp7VALCSgZ5IY/U4TqF6Gdi4QvISlV9jswIlEtOsB6O38boF3\n",
       "CvzdVOqivvzr8fvRbd54rJZDt/Tyve0VlP8G/Z+G7T9g/AI0iLh9jVPL6gAAAABJRU5ErkJggg==\n",
       "\" style=\"display:inline;vertical-align:middle;\" /></a><br>"
      ],
      "text/plain": [
       "relax_proper_superset: forall_{A, B | A proper_superset B} (A supseteq B)"
      ]
     },
     "execution_count": 29,
     "metadata": {},
     "output_type": "execute_result"
    }
   ],
   "source": [
    "# Proven\n",
    "relax_proper_superset = Forall((A, B), SupersetEq(A, B), conditions=[ProperSuperset(A, B)])"
   ]
  },
  {
   "cell_type": "code",
   "execution_count": 30,
   "metadata": {},
   "outputs": [
    {
     "data": {
      "text/html": [
       "<strong id=\"subset_eq_via_equality\"><a class=\"ProveItLink\" href=\"proofs/subset_eq_via_equality/thm_proof.ipynb\">subset_eq_via_equality</a> (established theorem):<br></strong> <a class=\"ProveItLink\" href=\"../__pv_it/theorems/e77e19284e3cc76d0a3c1fae614208d2e46576730/theorem_expr.ipynb\"><img src=\"data:image/png;base64,iVBORw0KGgoAAAANSUhEUgAAALkAAAAWBAMAAABuySBUAAAAMFBMVEX///8QEBCIiIhmZma6urrM\n",
       "zMxUVFQiIiJERETc3Nzu7u6qqqp2dnaYmJgyMjIAAAAcRTyBAAAAAXRSTlMAQObYZgAAArxJREFU\n",
       "SMetVU1oE0EU/tzstt38tD2JoEhuetEWAhG0aMSLFKTFQ68G/MtFjRYMimIE0bQKiScLIol4KPSg\n",
       "C73oyVgPLVVkrSCIqAFvRWxpbE0jtb55k10nDbZ19cHum5k3833z3nw7C3i2e2vEn9BTEo0PHsD9\n",
       "aXZGqSHydvloNBNDUw54IfrTHtBbc9LNym7oZCqV6pXtTYBvHn7iHaKemfaA/ka6j1V25pecGzGW\n",
       "AL0MjBF3AQhaHtAvyPqMLqqZsGk0FJoD7pObHBm54wHcTMqCaN/Y71FCLe2EfJEYY0Alk7nkAV3r\n",
       "ZNcdWGKfVEJtcRjnRUloynFggAfl+2D5eYKz1N2tuEnr2a7ogDNqc2FixhxnElfQj5yauiFqHaJj\n",
       "PcCHS22ZYqgdwXZe7kz+FHPXvQae1ZrNltyCWVbkKa0jB/9G8gFKqBkab+OBTNEXR6Cqovv32e66\n",
       "KPC0IJsbmLMvEq00VOaqYCByg8QatJt5bLJf7ikMX0lFDw53uuvOAXuhotNrK3fHFPQFgR6W6Gap\n",
       "j0UaznDoUS92FlT0wy1u1v55aNNqZQL0nJWKtOrkjjPEq4uEBo6JsSbs4ljPju3yhBz0uC+JRIbM\n",
       "hj43dR3qqd6lZ0YSn+hW5W5UaqeKUa7Ze3Rw7BWwTUUPWdqssy5YguYUWMiNNZ+VkjImnJuglUSx\n",
       "f1AcYVHIMyy4P7/MckFuAXlLQX/YNVF191uE+cNRZxL+7M8CHi/3138ITTMLkcRNphFkIYHqKyDP\n",
       "zLS6J6eg74Y5j9NfyWy0WdAX62+C1WzYbR2iHGxzEGYV5halMjqVd8mZlC/gdnHFLbaKuTpqqcDM\n",
       "XjY2Y7wcScQU9GwaQ99rgg9eiUSvofETFjaeSv2+gWsKW3nzB9S7aH1/jz9bPX3tZ7Ve9DX/fO9W\n",
       "Dth/g/5P5vsPGL8ARgi0WRAlBzIAAAAASUVORK5CYII=\n",
       "\" style=\"display:inline;vertical-align:middle;\" /></a><br>"
      ],
      "text/plain": [
       "subset_eq_via_equality: forall_{A, B | A = B} (A subseteq B)"
      ]
     },
     "execution_count": 30,
     "metadata": {},
     "output_type": "execute_result"
    }
   ],
   "source": [
    "# Proven (using sub_right_side_into thm)\n",
    "subset_eq_via_equality = Forall((A, B), SubsetEq(A, B), conditions=[Equals(A, B)])"
   ]
  },
  {
   "cell_type": "code",
   "execution_count": 31,
   "metadata": {},
   "outputs": [
    {
     "data": {
      "text/html": [
       "<strong id=\"superset_eq_via_equality\"><a class=\"ProveItLink\" href=\"proofs/superset_eq_via_equality/thm_proof.ipynb\">superset_eq_via_equality</a> (established theorem):<br></strong> <a class=\"ProveItLink\" href=\"../__pv_it/theorems/b4ead3ec314b48a5a19dd7fc24f550bca9c77f180/theorem_expr.ipynb\"><img src=\"data:image/png;base64,iVBORw0KGgoAAAANSUhEUgAAALkAAAAWBAMAAABuySBUAAAAMFBMVEX///8QEBCIiIhmZma6urrM\n",
       "zMxUVFQiIiJERETc3Nzu7u6qqqp2dnaYmJgyMjIAAAAcRTyBAAAAAXRSTlMAQObYZgAAAsBJREFU\n",
       "SMetlU1oE0EUx//uR5vdJG1PIiiSm160hUAUKRrxIoK0eOhRAyrkokYLTS2KFUSTWsh6siDSiEKh\n",
       "Bw0URE/WelCqyFpBELEGPIg92NKYmlZqfTOzu5m02NbVgd339s2+35t582YG8N1ur9H/mJ4iUz76\n",
       "gJu9XOjFFT3vlo7HMnHUWcBL9j3lg95gCTHDQ31Jp7sjbtcmQC3DpLgD9GX0+qC/FWJywZvMZFwo\n",
       "+iKglYAxip0HQgUf9PMCOTJfzdVXIRUyhWeBOyTGh4dv+oAbKS7Cyveq7agQgSYi99DAaS6VTOaC\n",
       "D7rSwsWh4OKKpWhMQO9iKaFfTgJZbhTvg6VnSf6T5voELFfTcq2xrGu1eTLi+myV7mT42KmJa0wL\n",
       "07Ie4ItLuphiuAmhJu7u+nyKe+5vgKeOWl8QQzBKVboq/my2YG4kGaTk1UPhw7grpqgmEFyQ6eY+\n",
       "23OPAU/yQt3ASR3RWEXKjBCXWQQKrlOxhux6bhvvFGOKQC3K9NBQi+d+DtgLmU6vrVX6QyHmGD0i\n",
       "6EaxgxdpJMO7HrRjZ16mHwl4u8EsQ5mSMxOk56wH13u8cscZiquxssqeYLY67OJ9bTu2JyDTE2oK\n",
       "yQw1G9rsxFXIq3qLnmnXcm+35ZW7XnFWFSO8cj+gmfe9BrbJ9HBBmfFqoggl5eotTs3nLOck6Hf2\n",
       "ZAMVxf4+toSjrDzZ+WB+fpXjCekHBgsS/X7rC2+vB0Zh/HSrMwUz9yuPR0udtRuhbnoumrzOw7Sz\n",
       "0TGqmscg+wB5t1kSfQ+MMk5/o2ajsQBtvvYkWK0NedphmoNt9MFYgLFFyoxG6fV242AeN0aXnWKr\n",
       "tDFvzhUYuYv6ZjwvRZNxiZ7rxcAPp+BDl6KxK1i5hZ28p9NdtRfA8pM/KOmB9d0ef2414d3Lar30\n",
       "NW++98sN9t/Q/6mp/4HxG0fLtXM9XkiMAAAAAElFTkSuQmCC\n",
       "\" style=\"display:inline;vertical-align:middle;\" /></a><br>"
      ],
      "text/plain": [
       "superset_eq_via_equality: forall_{A, B | A = B} (A supseteq B)"
      ]
     },
     "execution_count": 31,
     "metadata": {},
     "output_type": "execute_result"
    }
   ],
   "source": [
    "# Proven (using sub_right_side_into thm)\n",
    "superset_eq_via_equality = Forall((A, B), SupersetEq(A, B), conditions=[Equals(A, B)])"
   ]
  },
  {
   "cell_type": "markdown",
   "metadata": {},
   "source": [
    "### Transitivity Theorems"
   ]
  },
  {
   "cell_type": "code",
   "execution_count": 32,
   "metadata": {},
   "outputs": [
    {
     "data": {
      "text/html": [
       "<strong id=\"transitivity_subset_subset\"><a class=\"ProveItLink\" href=\"proofs/transitivity_subset_subset/thm_proof.ipynb\">transitivity_subset_subset</a> (conjecture without proof):<br></strong> <a class=\"ProveItLink\" href=\"../__pv_it/theorems/7c256cd9b48ac8fb06e79c8851b58728892befcc0/theorem_expr.ipynb\"><img src=\"data:image/png;base64,iVBORw0KGgoAAAANSUhEUgAAAPcAAAAWBAMAAADuuhdHAAAAMFBMVEX///8QEBCIiIhmZma6urrM\n",
       "zMxUVFQiIiJERETc3Nzu7u6qqqp2dnaYmJgyMjIAAAAcRTyBAAAAAXRSTlMAQObYZgAAA29JREFU\n",
       "SMe1Vl1IVEEU/tof9d7dq74XtdFDFpTGwvbDkkYvIoVm4FMPwir4ULAVYUXiBmFrBLu9lBC1NwS1\n",
       "pZ8FX/KpzX61qFu9GFFt9WYPiSaZZTVz5t67465WxDpwZ87c+e58Z745Z+YCS1Uu/WV8iD0Zbrwp\n",
       "PLcaocadWWCoInRASRfFgce8O1548tK4aCbyh1Yb8GwyVOZWD+spkcKTvxTN29m8kYHjrKqOY5i5\n",
       "pgPeVOHJjwmFB7+Z/bH29vYjZL1njNgBXAG00WTyQuG5lTA1muOL6F8esUac33m9ly27BpiJRk8U\n",
       "ntxRRU2dZ04WgpcEuXWV6c0grUA3vRV17dTdNhErWlfQwS2X9VlJ3LJcsWAgF07ahtLrTKxBqte4\n",
       "J8Vysxv7zGcaGou4nVApHTQhkFYObzkJ9wHqSZrH+uxdjT3Dc+DOfDhp68OA2SkmNheUKdHNatLZ\n",
       "YBqeMH/vIC97hUDOZngoQhOMakwmV6sZzr3G72d2ALitS/BGv78KCnNfMxNnGTna5A/MUPd8lnwV\n",
       "fccqN8tCryHcGj0sfPTBSUrwQGiUyb39VVD31yWTzD4EbJfgffeSSR3FaTajTyZn1UqRXtLKadUN\n",
       "glzJNNFR5IvS2M0GbOS+OfjykzJ5Y0kERUIzdRqOcQneSnYl+07VJdk97DmYK3s1DxEv3xMeed0t\n",
       "/F0RNtNY/YaKZoLbB49F3uwMY5cZcJMvupCFu9JkH5WinQLuIns+C9V82Wjn5qgZcBik2H+NShp7\n",
       "CqzlbVk6h1xLOSZw39yBDBzhLNwr9PghkfM8olyPiVz4ZI/w5Bvk+jg5Qxl3Rf34JEaKnWW+ccn4\n",
       "BqqGRH4j+GgWW01/0lDorBBwpyDgUXLdSsYw1NhPHbd+iVDqa9Et9t6uEAVEKXdZIzd0JMh/Nmc9\n",
       "n8sZETtjk2+DMs30oVKWgkucmwTXRBZvYU96/vGaLftOW8erVfptazeb0VDOQJmFsoJdNzo6oI5I\n",
       "5C6mwpwVtQkd59jiLbh5fRYbuBbPuVj+UIbtfZ2BEutwL8fDKX8bE2VPCt7QsC6RxyLo+Wq46Fzz\n",
       "dvoDp1iC2PBawfkguB75x+FiF37uTe+xLemeK5ERfdFoNB+utkWjkQV/JhYved4N2dPGFyFfGP4/\n",
       "v1Gvcl8YlqHhX8gNLHlxLtnMvwEhx+r9fYV6YQAAAABJRU5ErkJggg==\n",
       "\" style=\"display:inline;vertical-align:middle;\" /></a><br>"
      ],
      "text/plain": [
       "transitivity_subset_subset: forall_{A, B, C | A proper_subset B, B proper_subset C} (A proper_subset C)"
      ]
     },
     "execution_count": 32,
     "metadata": {},
     "output_type": "execute_result"
    }
   ],
   "source": [
    "# working\n",
    "transitivity_subset_subset = Forall((A, B, C), ProperSubset(A, C), conditions=[ProperSubset(A, B), ProperSubset(B, C)])"
   ]
  },
  {
   "cell_type": "code",
   "execution_count": 33,
   "metadata": {},
   "outputs": [
    {
     "data": {
      "text/html": [
       "<strong id=\"transitivity_subset_eq_subset\"><a class=\"ProveItLink\" href=\"proofs/transitivity_subset_eq_subset/thm_proof.ipynb\">transitivity_subset_eq_subset</a> (conjecture without proof):<br></strong> <a class=\"ProveItLink\" href=\"../__pv_it/theorems/1445054fb62df3eabe1a742623355ddb3ac138e10/theorem_expr.ipynb\"><img src=\"data:image/png;base64,iVBORw0KGgoAAAANSUhEUgAAAPcAAAAWBAMAAADuuhdHAAAAMFBMVEX///8QEBCIiIhmZma6urrM\n",
       "zMxUVFQiIiJERETc3Nzu7u6qqqp2dnaYmJgyMjIAAAAcRTyBAAAAAXRSTlMAQObYZgAAA2xJREFU\n",
       "SMe1Vl1IVEEU/tof9d69N30vanvKgtJYsB8krV4kCM3Apx4EFXwJtiKsSNygbI1it5cSorwhqC1W\n",
       "gi9JD20WpRZ1qxcjKqs3e0g0ySyrM2fuvXvd1QpaB2bmzD1n5jvzzTkzF1iqcuUv+gGqY0J4k31s\n",
       "NcKdf2wBVWHdASWZEwcei+F49sGXx2U3kalaYyKwyVTJrXYaKZHsg7+U3dvZDE3PcWrK4hgk1wxA\n",
       "68s++DHJcP83azza1NR0hKX3hIgdwDVAH0kkLmUfWwlzp3u+yPHVYVvj/S7afbTtcmAmGj2RfXBP\n",
       "MXe7A3NuIkTpYLeuE99k0gC08VfZVkzdb5SxoreWeoTks6flxW3JFystSTdnbuuS6yxbk1kv90/K\n",
       "7aYO9lnQEnSKuF1QOR10SZBeAK2AifsA9SSvY097Rzz1RqOtJD4H7s03Z26D6LEGuYzmgzIlhylO\n",
       "WqosIRAW3z3sZackyFuLAEdoB0GNusHVMhP+01IuAe4aLvPqUKgYCrmvW4mzrFy0NaGSGR5eTIGv\n",
       "5nnU+CkLNVO6NXJY+hiEl5kQgVDtBte6ix35ELDdZd71IJEwkJukFYNucGpWyfRy7Zx3XSXBlbEa\n",
       "voqCUdbdqsJG4ZtHbD/hBq/Oi+CORcI0POMu8waWi2iearhoD1A9mE57mQgRTZyJiLy2evEtB5tZ\n",
       "V7mhsJbNnYvHBq/1hrHVCrjJF61ImfuSLB91RTsH3GWqnyVrwVS0C3HECjj0c+y/RhHrngJrRZ+f\n",
       "TAPX+zwTsLJVG4MnnDLXZAz9cIGLPOJcj8lc+ORoRPL1C368AiFfuKJ+fBJjxs6Rb4IycYCq6QK/\n",
       "WTo0i52WP0kofFdIc68EEFFyw07GMNTYTwO3f8lQ6qo3bPTO1joOiOXCZZ3dMNDB/tOalWItb0Se\n",
       "jAO+Dcq0ner5ffDJe5PNdZnFW6gm51+vqbL/jH292qXbkfbQiqZyFsoslJX03BhohjrsAvcRC3NQ\n",
       "zzN6h4ELtHnb3Ho+c030xtMelj+UQedcZ6DEmv0r8Ggq1Eik7O2DVjdouMBjEbR/pbdwiC4ZrSVU\n",
       "cooSxDGvkJgPS9cj8zpc7MFPf+kDjuR65/IWne+Yq43RaGTBn4nFS4Z3A86y8X8BH/if36hX6R9M\n",
       "W9CxMHh7lEqm+dIV75Kt/BsENe2Y0EsQnwAAAABJRU5ErkJggg==\n",
       "\" style=\"display:inline;vertical-align:middle;\" /></a><br>"
      ],
      "text/plain": [
       "transitivity_subset_eq_subset: forall_{A, B, C | A subseteq B, B proper_subset C} (A proper_subset C)"
      ]
     },
     "execution_count": 33,
     "metadata": {},
     "output_type": "execute_result"
    }
   ],
   "source": [
    "transitivity_subset_eq_subset = Forall((A, B, C), ProperSubset(A, C), conditions=[SubsetEq(A, B), ProperSubset(B, C)])"
   ]
  },
  {
   "cell_type": "code",
   "execution_count": 34,
   "metadata": {},
   "outputs": [
    {
     "data": {
      "text/html": [
       "<strong id=\"transitivity_subset_subset_eq\"><a class=\"ProveItLink\" href=\"proofs/transitivity_subset_subset_eq/thm_proof.ipynb\">transitivity_subset_subset_eq</a> (conjecture without proof):<br></strong> <a class=\"ProveItLink\" href=\"../__pv_it/theorems/9e067db3e6319020d4b546f74ec7121ca3c844bd0/theorem_expr.ipynb\"><img src=\"data:image/png;base64,iVBORw0KGgoAAAANSUhEUgAAAPcAAAAWBAMAAADuuhdHAAAAMFBMVEX///8QEBCIiIhmZma6urrM\n",
       "zMxUVFQiIiJERETc3Nzu7u6qqqp2dnaYmJgyMjIAAAAcRTyBAAAAAXRSTlMAQObYZgAAA3RJREFU\n",
       "SMe1Vk1oE0EUfm6StrvJtr0rGvFgFbSVQPwh2IoXKUprheLBQyAVelCIilTF0ghStyIkXrQgmpVC\n",
       "W4M/gV4sCMaK2lbRVS8toka91YOltVirVd+82Z8xaVQkHdiZN/u+ne/NN29mFmCxyuW/+AfxyTLj\n",
       "dfG5lRg1nuwCrqrIQTlTkgB4zLoTxScvT/BmMt+10gDvBkPBsLqxJ8eKT/6SN2/m8jz9J7CqTcAQ\n",
       "hqYD+NLFJz/OFR74avbH2trajpL1DhlhG8BVAHU0lbpYfG45So0qfeb9KyOWx/WN1Xtw2nUAs5p2\n",
       "svjkUg019d55UQhWkhTWNdQbIfsBuugtr3dM32/luaJ2hiRmua3PyhKW5Y6Hgrlw0jaSWWNiDVK9\n",
       "zjPFp+ss7DO/aaiYcdtBoe2gcoHUSvBVknDvQTlF41ifva2zR3gOcE+AK8OaFkZt/dBfyQGlxOYG\n",
       "eZp3HU06Gk3DG2XvJYqyhwvkCoOXMjSJVGMiuVKLOM+qQADtIMBd3YHvpQFlDF81N84SCrQ5EJyl\n",
       "7gWHfAV9h5UHd6HP4GGNHuEx+sFFSrBEaBLJfX01oByoT6XQPgywVYBzxtIMjugXybFazreXMHOa\n",
       "dSMnl7PNdBT5NfLdaoT1LDaJTT8lkjeVxaCEa6bMgDThwL18RavxO0UXZPficyhX9lqWIj62Jizz\n",
       "ulrYuxLYSL6GdVVhgtsHj0UedkVhp5lwUy86wYG7eModE7KdEu4SPp+4an4n25k5aiYcDFDuv4Jq\n",
       "8j0FWM3aikwOuZqWJuGBuQJZkKIO3MfJvwvkbB/RXo9z30fbwzbfANPHxRgqWCjKhydxUuwcxpY2\n",
       "F1AxBPKboeE52GzGkwGZzgoOd/N5sSy5YW3GKCjxHzrc/slTqbdFt9h7OiOUEOVsCVUKQ4ckrSeO\n",
       "2cCCdcX4ytjkW0CeQX2oVKTBzc9NDud7fhM+md+PV6fsO2Mdr1bps61dOKIhnwV5DuRleN3o0A7K\n",
       "iEDuRhXmraxN6nAeJ2/D+8cpTQy4nsi5WP5Qhux1nQU53u5ZCo+mA60oyu40+CJDukAej0H3F8NN\n",
       "c/R1BIKncYPYcLhDh8zD0FrIPw4LXfi5N73XtoR7rkxE9GqatgC84M9E4ZIX3aA9bKIA+cLw//mN\n",
       "Gs99YViGCv9CbsFllENbhB8SlveL9o/5C/5e7NX/o4ROAAAAAElFTkSuQmCC\n",
       "\" style=\"display:inline;vertical-align:middle;\" /></a><br>"
      ],
      "text/plain": [
       "transitivity_subset_subset_eq: forall_{A, B, C | A proper_subset B, B subseteq C} (A proper_subset C)"
      ]
     },
     "execution_count": 34,
     "metadata": {},
     "output_type": "execute_result"
    }
   ],
   "source": [
    "transitivity_subset_subset_eq = Forall((A, B, C), ProperSubset(A, C), conditions=[ProperSubset(A, B), SubsetEq(B, C)])"
   ]
  },
  {
   "cell_type": "code",
   "execution_count": 35,
   "metadata": {},
   "outputs": [
    {
     "data": {
      "text/html": [
       "<strong id=\"transitivity_subset_eq_subset_eq\"><a class=\"ProveItLink\" href=\"proofs/transitivity_subset_eq_subset_eq/thm_proof.ipynb\">transitivity_subset_eq_subset_eq</a> (established theorem):<br></strong> <a class=\"ProveItLink\" href=\"../__pv_it/theorems/8c9a1e8642d99f8525d913597726c037e664032f0/theorem_expr.ipynb\"><img src=\"data:image/png;base64,iVBORw0KGgoAAAANSUhEUgAAAPcAAAAWBAMAAADuuhdHAAAAMFBMVEX///8QEBCIiIhmZma6urrM\n",
       "zMxUVFQiIiJERETc3Nzu7u6qqqp2dnaYmJgyMjIAAAAcRTyBAAAAAXRSTlMAQObYZgAAA3hJREFU\n",
       "SMe1Vl1IVEEUPt27q96/9L2o7SkLSkPYfljS6iWC0Aykhx4W1sCXYEtiKxI3qG2NYreXEqL2hpAm\n",
       "Vgu+JAVtBqUWdSsIJaqtnrKHRJPMsjpz5v65/gWtA3fmzJ0z8505850zA7BY5coC4z34ZZnwNv/Y\n",
       "cpQab3aWodLQQSlTkAR4wrrD+QdfmuTNiNl/HYlEjnBxlQHKBkNGs1qxJ0XzD/6KN+8meXu13x7p\n",
       "OI5VZRJ60TQdQE3nH/wY93D3D9797Ix8QETYBnANQBvo7LyUf2wpTI0mfKNWdLYn/mT1Xtx2FcBE\n",
       "PH4i/+BCOTW7lClqC52RFJl1A/2NKgcAWugvr3eOPWzgXNFiAYFJHmtaUdKSPImAP1edlcFQZo2p\n",
       "a5DXq7yj1L3ogD/3mYKGjNsBMoWDxh2klYBaQo77CPJJWsea9h791BWPx1B8AfDApS73xeNBZJUP\n",
       "Okq4biH52QPSGCeZA95cYwpKmHlEICvbuIPEICjE0BRCDbrB5UoDvKe57Ae4rzvq+2hBCc3XzMBZ\n",
       "UsXqugr/RK7bV9I8rLwYharBRwYauZoPRPIEI0KtG1xtL7flwwBbXeocsTCDK/rc4Fit4HN9zs5p\n",
       "1zUcXMrWUSryxWnsdg2sZ7YJbPudbvDaoijcNZ0wDsKwo65wLpfhPFl3uV3B7xDvf7HBKxlFVHYm\n",
       "jHkt9exfAWyksep1pUGabSceCzwohmGzSbjRlzFw1EVOuaMuthPhLuP3lfev1+sW25kTBkzCQTdx\n",
       "/w2U0dgzgNWsLc7kgGtpYQTMPKVmQQg76ioH/+UCZ3FEsZ4wY2H/GTO9suDrZpaIDKGYmSJ/epog\n",
       "286hbWnzAGXDBX4r0DcJ2017MiBRruDqHn6ijCU3rWAMg5z4rcOdP425KaAtFiJCLGUs1cgMHVJE\n",
       "WVyzmhkrRvnJ2OBbQBq3Qr04DR6eN7k6j/lN+GWmp9f5Srst7cYVDeksSJMgLcfrRocmkPtd4B70\n",
       "whTI5wk9pcMF3Lyt3jFENDGgK5lzscxTeu1znQAp0eRdBo/HKhrQKXvSoIZ6dRd4Igqt3/Eu7MMk\n",
       "ozZX+E9hgNjqcI+SzKPAWpiZDokCkYhzpZoRk3vTK7bkuueK5rRdWfgxMXeZbp35tOHLJv8FvOd/\n",
       "nlFDuT8MS9BgdvDWOJYZ6hL7uwgPEsb7RXtj/gWHMvKyA0iD+AAAAABJRU5ErkJggg==\n",
       "\" style=\"display:inline;vertical-align:middle;\" /></a><br>"
      ],
      "text/plain": [
       "transitivity_subset_eq_subset_eq: forall_{A, B, C | A subseteq B, B subseteq C} (A subseteq C)"
      ]
     },
     "execution_count": 35,
     "metadata": {},
     "output_type": "execute_result"
    }
   ],
   "source": [
    "# Proven\n",
    "transitivity_subset_eq_subset_eq = Forall((A, B, C), SubsetEq(A, C), conditions=[SubsetEq(A, B), SubsetEq(B, C)])"
   ]
  },
  {
   "cell_type": "code",
   "execution_count": 36,
   "metadata": {},
   "outputs": [
    {
     "data": {
      "text/html": [
       "<strong id=\"transitivity_subset_equal\"><a class=\"ProveItLink\" href=\"proofs/transitivity_subset_equal/thm_proof.ipynb\">transitivity_subset_equal</a> (established theorem):<br></strong> <a class=\"ProveItLink\" href=\"../__pv_it/theorems/a2dffddc83fe5ab973ec3bbbde1482ef63d84e9d0/theorem_expr.ipynb\"><img src=\"data:image/png;base64,iVBORw0KGgoAAAANSUhEUgAAAPcAAAAWBAMAAADuuhdHAAAAMFBMVEX///8QEBCIiIhmZma6urrM\n",
       "zMxUVFQiIiJERETc3Nzu7u6qqqp2dnaYmJgyMjIAAAAcRTyBAAAAAXRSTlMAQObYZgAAA15JREFU\n",
       "SMe1Vl1IFFEU/tq/nNmd9L2ojR6yoDQW7AdJo5eQQjPwqQdhDXwo2IqwInGDsDWK3V5KiHJDUFv6\n",
       "WfAln9qMfrSoqV6MqKzejEo0ySyrc8+dmZ3ddStiPTD3njv3zP3O/c459w4wX3LxL/MD9IwK5VXh\n",
       "sdUwd+7ROaZKg/uUlCcGPBTDscKDL4rJbjx3arkO7zpdJbc6aaSECw/+XHavZ3Jm+o5SUxXDILkW\n",
       "B3zJwoMfkQz3fzPGIy0tLYdYe0uI2AJcBrThROJ84bGVEHea44scXxoyZ5zfRbuLtl0NTEcixwoP\n",
       "7ijnrsY7aydCSBe7dYX4JpM9QAe/le22yTvNMle09kqH0FzmZ0UxU3NFKyuyzZnbYGqVYasz69Xu\n",
       "CbnddGCf+A1Fo4zbCpXLQZMEaSXwlTBx76Ae53XMz95UWys8BW5nmjO3fvQZg4WM5oIyKYdpTtrq\n",
       "DMUbEu8d7GW3JMjZCC9naBdBjdjB1Sqyc68IBEivAG7FM8yFu+S+ZhTOAna0IVAxzcNzafBl/B01\n",
       "bqpCny7dGj4offTDyUyIRKi3g/t6y6HurUkkSD8AbM40F3qKVvTbwalZKsvLtnPedZ0EV0Yb+Cjy\n",
       "R3juRh3WCt8cYj8JO3h9URgeyZk6BcdYhrmQMlLUuI12Lz37s2mvEiniEzERmdfRJN55sJ7nateU\n",
       "NrK5dfCY4I3OELYbCTfxrB1pc0+E5AwO27KdE+4CPZ8la/50tgt12Eg49HPuv0QZzz0GVoq+OJUF\n",
       "riUd47hrRGAUjlCGuZAfNnBRR1zrUVkLH6wZUXz9gh+nQCgWrqjvH0WZsdPkW9IIoKrbwK9XPpjB\n",
       "RsOfFBQ+KyxzM0uumcUYghr9GcfNXzKVeprM4KC7PcgJsUiEUGM34ujieNKatcJZZ1hGxgLfBGWK\n",
       "+GEpTsIlz00293wi+YgNNE5lHq9p2X3SPF5N6bW0HbSirpyCMgNlCV03cbRCHbKBu4iFWTNru+I4\n",
       "S5u3zI0k03E1lnWx/EEGrbhOQ4m2uhfj/mSgmUjZmYQvOBi3gUfD6Pyqu/hc87UFKk5QgVjmhtyr\n",
       "XI3c4zDfhZ9903stzXbPFdkteiiv5zDP+zORX3K8G7CWjeUBn9v8f36jXmS/0E1Fw7+A65h3cc7b\n",
       "yr8B3tfn3I59ypIAAAAASUVORK5CYII=\n",
       "\" style=\"display:inline;vertical-align:middle;\" /></a><br>"
      ],
      "text/plain": [
       "transitivity_subset_equal: forall_{A, B, C | A proper_subset B, B = C} (A proper_subset C)"
      ]
     },
     "execution_count": 36,
     "metadata": {},
     "output_type": "execute_result"
    }
   ],
   "source": [
    "# Proven\n",
    "transitivity_subset_equal = Forall(\n",
    "        (A, B, C),\n",
    "        ProperSubset(A, C),\n",
    "        conditions=[ProperSubset(A, B), Equals(B, C)])"
   ]
  },
  {
   "cell_type": "code",
   "execution_count": 37,
   "metadata": {},
   "outputs": [
    {
     "data": {
      "text/html": [
       "<strong id=\"transitivity_subset_eq_equal\"><a class=\"ProveItLink\" href=\"proofs/transitivity_subset_eq_equal/thm_proof.ipynb\">transitivity_subset_eq_equal</a> (established theorem):<br></strong> <a class=\"ProveItLink\" href=\"../__pv_it/theorems/ad29a16f62bc42c3ab7848cd47277f2f538dd6f70/theorem_expr.ipynb\"><img src=\"data:image/png;base64,iVBORw0KGgoAAAANSUhEUgAAAPcAAAAWBAMAAADuuhdHAAAAMFBMVEX///8QEBCIiIhmZma6urrM\n",
       "zMxUVFQiIiJERETc3Nzu7u6qqqp2dnaYmJgyMjIAAAAcRTyBAAAAAXRSTlMAQObYZgAAA2ZJREFU\n",
       "SMe1Vl1IVFEQ/tof897dq70XtT31A6Uh2A+SVi8RhGbgUw+CBr4EWxJbkbhB2RbFbi8lRO2GkCb9\n",
       "LPhS9NBmUGpRt4IwotrqKaMSTTLLas6cc+/eXTOD1oF7Zs6dOeebM3dmzgVmi87NoL9BT1oIL/OP\n",
       "rYeZedN/UC1t2KWlCmLAfTEdyj94UUyyYTV/FgqF9kpxsQnfKlMnt9pppoXzD/5UslcTkp/vtzVd\n",
       "B2iojKGXXEsA/mT+wffLCPd8k9P3Gc0bQsQG4AJgDHR3n8k/thZkZri+MHdnjuf+LsbtdOwqYDwS\n",
       "OZh/cFcpsy2+SeZzM5o4u3WJ4k0mO4Fj/FaOm0fvNMlcMdoqXELyWMsKY5bkiVaU55oLGmxILVO2\n",
       "Jke9yjvC09MZ8EcBJRiUcZugczkYMkDGPPjnceDeQj/E+1jLXlOcLkcibSQ+Bm5nm3NWBdClJnM5\n",
       "zh5oozLJMuCtNUrwBUVEXOxlhwyQux4+ztA4QQ06wfVKE94jUi4HbiWyzIW75L6hCmdOlRjrysrH\n",
       "c8O+iNfR4KUq9JtSM9AszQJwcyREItQ6wf2dpba8B1ifbS7kFO0YcILTsFCuDWROzqeukeBauo5b\n",
       "USDCums1WCl8c4nzdDvBawvDuKmCMAbXUJa5oBIS9IQj7D56dsv5Bxu8UqSIX3wTkXnHGsW7Aqxm\n",
       "XfWKpfW82m48Fni9O4i1KuFGnrQhY14QITqJfY5s54Q7S89nOb/YaLkYF0EYUAmHHs79Fyhh3UNg\n",
       "ieDFqRxwI+kahupT/jRcwSxzQT8c4KKOuNajqhZ2HFXtVRRfj/DELRCKhSv6uwdR9u0E+ZZUH1A3\n",
       "HeBXK/omsFH5k4LGvcI2t7LkilWMQejRnwlc/9Wc2wI62ho4IYpE2hvsRgJxrgHas1o46w7LL2OD\n",
       "r4M2ZpV6cRIe2TfZvOAT0UesoXkqu73+jTptaSvtaGrHoU1AW0DXTQIt0Psd4B6KwiT0k4weT+AU\n",
       "Hd42V0lm4nIs52L5C/Xa33UcWrTFOx/3RsuaKCjbkvA39CYc4NEw2r/SXdhHTcbfWlZ+mArENld0\n",
       "t2I5prZDToFQKHOlqorJvel9tuS45wqn9d0388/E9JTtnfq1kdvG/gX8xv/8Rj3PfWFagoE/g7eL\n",
       "ip5qPnvknrWdfwNnq+25cPMBDQAAAABJRU5ErkJggg==\n",
       "\" style=\"display:inline;vertical-align:middle;\" /></a><br>"
      ],
      "text/plain": [
       "transitivity_subset_eq_equal: forall_{A, B, C | A subseteq B, B = C} (A subseteq C)"
      ]
     },
     "execution_count": 37,
     "metadata": {},
     "output_type": "execute_result"
    }
   ],
   "source": [
    "# Proven\n",
    "transitivity_subset_eq_equal = Forall(\n",
    "        (A, B, C),\n",
    "        SubsetEq(A, C),\n",
    "        conditions=[SubsetEq(A, B), Equals(B, C)])"
   ]
  },
  {
   "cell_type": "code",
   "execution_count": 38,
   "metadata": {},
   "outputs": [
    {
     "name": "stdout",
     "output_type": "stream",
     "text": [
      "The history saving thread hit an unexpected error (OperationalError('database is locked')).History will not be written to the database.\n"
     ]
    },
    {
     "data": {
      "text/html": [
       "<strong id=\"transitivity_supset_supset\"><a class=\"ProveItLink\" href=\"proofs/transitivity_supset_supset/thm_proof.ipynb\">transitivity_supset_supset</a> (conjecture without proof):<br></strong> <a class=\"ProveItLink\" href=\"../__pv_it/theorems/ffc80255fd54b66000dd444a93beb252168012a50/theorem_expr.ipynb\"><img src=\"data:image/png;base64,iVBORw0KGgoAAAANSUhEUgAAAPcAAAAWBAMAAADuuhdHAAAAMFBMVEX///8QEBCIiIhmZma6urrM\n",
       "zMxUVFQiIiJERETc3Nzu7u6qqqp2dnaYmJgyMjIAAAAcRTyBAAAAAXRSTlMAQObYZgAAA3JJREFU\n",
       "SMe1Vk1oE0EU/kzSJrvZbb0rGk9WQa0Eoki01YKIIFYFvRaioIJQ7aEqihG1RFESTxb8yUoFa/An\n",
       "0Iu9aKzUnyq6KkJF1Kone1FaxfrvmzfZ7SRpVSQd2Jk3M2/me/PNe28WmKhy+i/z3fQNCOFF+bH1\n",
       "ODcVA2NM1cS2abnKFHBPdAfLD16Vks2H0qkZNoLzbZ3MaqeeFi8/+BPZvPxaMtO5m6q6FHrINAsw\n",
       "suUH3yUZ7vrC7YbW1tZj+ZnXhIilwFnA7MtkTpQfW2vmxvR8dIdOvePG+03U6+jY9cBIIrGn/OCe\n",
       "Wm5WBn+MjskzptmsC8Q3qWwCDvOorFcM39wsfcVsi3qE5HMWB1KO5EtGI8XqovTHcrPyujazXl8x\n",
       "NAoeZIMehvJdkzyuATqHgykJMifDmMzEvYG+n/dxFr+qd/d5BNwoVBflTAid+Y6f3cgHbVihg8+8\n",
       "r9Gxhbp+eNjKDkmQtwlB9tA0QfWr4HqdjY5w+KmQI8B1y1XXw+HFtKVG5pv5wJnEhq4PR0YU8C2i\n",
       "ms7rqKqgKDRsP8/0tUiTQ/AyE8IR1qrgxvla6JlMgyBvB7BEUc9kzoVJztGOIRWcqmkK+BE+OZ+6\n",
       "UYJrA+s5FYUSrHClEXOFbR5x/IwKvjYgT9VAJHyCZ7BAHb5azCNBtxTag/RtL6a9TriIIVaI7uGN\n",
       "YqwSC1hh9ZyaJl7tJh4HvMkrw8dohG/ocRsK1IFe7FRw2OFO0vdeiYAcX6fgpi/vcOjiPZ9jHms8\n",
       "AGaKtjpXBG5mPTJV+kIwBuBpLlAHluG7Ai7iiGM9ORoL16SfkW91CX68AqFamKK/vZ9kxo6SbYIy\n",
       "cYG6rYBfjt6RqVLLIZCDxrnCVaccwl5yyQnGZujJnxau/mpx/HX5Vil0tMXYIaqE25tshoU0xwDt\n",
       "uVoY643Lm3HBF0H7lKcA1Vn4ZN501AV1C6nOFaZXp1B63dlblIfOu9IqYsDWjkD7Cm0qPTcW9kK/\n",
       "q4D7iIUfTj9t4Tgd3lUXJQ6/jYupooflD6XHvdcRaMm9FVNwezi8mUhZk4UR67EU8GQc7Z/FNWiH\n",
       "YOwLRw5SgLjqVNqJt1vR2ShNh+M9+MUvfdCVlHcuoD6HicQBq0RdTyQSi8b+mRi/lFjX7W6bGht8\n",
       "HPX/+Y16VjxgO4KJfwG3MeHFO2E7/wYXKeoMwY2ocwAAAABJRU5ErkJggg==\n",
       "\" style=\"display:inline;vertical-align:middle;\" /></a><br>"
      ],
      "text/plain": [
       "transitivity_supset_supset: forall_{A, B, C | A proper_superset B, B proper_superset C} (A proper_superset C)"
      ]
     },
     "execution_count": 38,
     "metadata": {},
     "output_type": "execute_result"
    }
   ],
   "source": [
    "transitivity_supset_supset = Forall((A, B, C),ProperSuperset(A, C), conditions=[ProperSuperset(A, B),ProperSuperset(B, C)])"
   ]
  },
  {
   "cell_type": "code",
   "execution_count": 39,
   "metadata": {},
   "outputs": [
    {
     "data": {
      "text/html": [
       "<strong id=\"transitivity_supset_eq_supset\"><a class=\"ProveItLink\" href=\"proofs/transitivity_supset_eq_supset/thm_proof.ipynb\">transitivity_supset_eq_supset</a> (conjecture without proof):<br></strong> <a class=\"ProveItLink\" href=\"../__pv_it/theorems/3d6c86f2b117e8be5162a43190c3a38721ec5d8b0/theorem_expr.ipynb\"><img src=\"data:image/png;base64,iVBORw0KGgoAAAANSUhEUgAAAPcAAAAWBAMAAADuuhdHAAAAMFBMVEX///8QEBCIiIhmZma6urrM\n",
       "zMxUVFQiIiJERETc3Nzu7u6qqqp2dnaYmJgyMjIAAAAcRTyBAAAAAXRSTlMAQObYZgAAA3NJREFU\n",
       "SMe1Vl1IVEEU/rq7pvfuXvW9qO0pC0pjwUIst4KIIDQF81GwwILA8kGLxA1iuUqx21NCP94w0JZ+\n",
       "JF/ypTbDfizqVi9GVFZP+VJoktnvmTN7r3d3tYLWgZk5c+eb+c6cOefMBRaqnPvL/CDVMSG8yj63\n",
       "FuYuZ2yOqaKGA2picQx4KIbj2SfPj8nuU+bUCgu+dZZGanXRSA1nn/y57F7PZMz0HaGmIoYhUs0E\n",
       "/P3ZJz8sLTzwlfvdLS0tJ5Mzb4kRm4ELgD4Sj5/OPrfaxJ2ufHY+nf3AneebaGvo2CFg2jCOZp9c\n",
       "KeFuh+/H7Dd5xm5W6xLZmyB7gQ7+Ktvtk3capa/okXJFSF57cV7MlrzR8tJ0uCijDYlVSazFVg/l\n",
       "TMyS+1ihJ4HkUCeP2wqNw0GXBtIL4S9kw72Ddoz3sRe/CaHOMPjqngK3U+GinA+gLznIZTfyQp10\n",
       "mYPP3F5l60LDXCisZY80kKcePvbQbrqSUTe5VsE4nwiNUuCW6cC1YHAjbamS+noycBaFRFsbLJ12\n",
       "ke8TzXJeR00ORaHfyuWZkWapcgAetoRwhGo3ub9X3mMt1UPAJhc8Hr8YJDlBOwbc5NQsc5F38sn5\n",
       "BFWSXB2r5VQUMBhwrQprhW6KOH7cTV6dJ0+12IQ2BWU8BQ5vCYpJ0EyX2X1UD6abvUK4iF+sEMOO\n",
       "Pbwl1jOgck1RPa92Eo9NXu9Jhk8I3olnEaTAgWG0unjY4c5Q/eiKgARfp7DNSNLhMMB7vkQxIx4D\n",
       "K0VfkEgj1/sVmSqVKvjHoDSlwIEt+O4iF3HEsR6djYWb0s/ItwaEfTyCoUCoor1/FGWLnSDdhMnE\n",
       "BWqWi/xq+f0ZW5m8BFTOFQ6ccgh7yRU7GJugRX+auPGr2fbXbful0BNpYIfIF26vsxomujkGaM9K\n",
       "oawnLG/GIS+DOsXCddK3H16ZN224MN0GahOp6dUulF5bh9PyUK8j7aQdLbUT6gzUpfTcmGiD9sBF\n",
       "7iUrcDDWkEG7TZyiwztwUcLItXA5lvaw/KEMOfc6DTXalrME9yaDjWSUXf3wNwyZLvJoGF1frDoj\n",
       "QgfwtwdLj1OAOHAqXWS3u+WrkZkO53vw0196nyO53rm8edfbcM0wjLK5fybmLxnaDTrbxv6FfPB/\n",
       "fqNepH+wbEHH3OSU241IJnzhimfBdv4N8OHqnPSgEnMAAAAASUVORK5CYII=\n",
       "\" style=\"display:inline;vertical-align:middle;\" /></a><br>"
      ],
      "text/plain": [
       "transitivity_supset_eq_supset: forall_{A, B, C | A supseteq B, B proper_superset C} (A proper_superset C)"
      ]
     },
     "execution_count": 39,
     "metadata": {},
     "output_type": "execute_result"
    }
   ],
   "source": [
    "transitivity_supset_eq_supset = Forall((A, B, C),ProperSuperset(A, C), conditions=[SupersetEq(A, B),ProperSuperset(B, C)])"
   ]
  },
  {
   "cell_type": "code",
   "execution_count": 40,
   "metadata": {},
   "outputs": [
    {
     "data": {
      "text/html": [
       "<strong id=\"transitivity_supset_supset_eq\"><a class=\"ProveItLink\" href=\"proofs/transitivity_supset_supset_eq/thm_proof.ipynb\">transitivity_supset_supset_eq</a> (conjecture without proof):<br></strong> <a class=\"ProveItLink\" href=\"../__pv_it/theorems/e921264e5e7938eeed20f06c18536da1486a8b630/theorem_expr.ipynb\"><img src=\"data:image/png;base64,iVBORw0KGgoAAAANSUhEUgAAAPcAAAAWBAMAAADuuhdHAAAAMFBMVEX///8QEBCIiIhmZma6urrM\n",
       "zMxUVFQiIiJERETc3Nzu7u6qqqp2dnaYmJgyMjIAAAAcRTyBAAAAAXRSTlMAQObYZgAAA3VJREFU\n",
       "SMe1Vl1IFFEU/tofdWZn1PeitofIgtJYsAhJQ4gIQjOw1wULTAosH7RI3KhklGK3p4R+nPBBW/oR\n",
       "fNGX2oz+LGr6AyMqq6d8KTTJLKtzz90ZZ1etiPXC3HN/zr3fud8959wBFqqc/8v8AH0jovE689hq\n",
       "hIV/ZI6pgpr9SiIrBjwQ3dHMg+fGpPg8e2q5hcA6SyWzOqinRDIP/kyKN1OzZnoOU1UawyCZZgJa\n",
       "b+bBD0mG+76x3NXY2HgqOfOOELEZuAjoQ/H4mcxjK/UsdM8XZ+jcRxbe76LeSccuAyYN40jmwT1F\n",
       "LLYFpmfG5Bk72axLxDep7AHaeFTWW8dv1Upf0VtLPKLlsxfnxOyWL1pSnK4uynBNYlVS12LWy/xj\n",
       "M+ABNuhxMNnVyePKoXI46JIgPR9aPhP3HupR3sde/LbM2ecJcHNG3W8YhgC7EERPvlTIZjfyQRl3\n",
       "0cFnbqm0baFuNjxsZZckyBtGgD20k6CG3eBqqYWuUOiFaBcDN8wU9X4yl8zXk4GziA2tDhVPusD3\n",
       "imoZr6PKT1GoWdk8M9QgTQ7Cy0wIR6hyg2vdRVDj8XJB3kFgU6q6P4zsBImgG5yqpS7wdj45n7pS\n",
       "gisj1bw4aLDCtUqsFbZ5xHnibvCqHHmqciJhAp7RFHWgDoXUUE0X7QH6DqTTXipcRBN3Irptu8VY\n",
       "FtazQsWagjCvdhKPDR72yvDRKuEbe9qKFHXgOZpcOOxwZ+n75IqABF+n4GYo6XDo4z1foZA1HgEr\n",
       "hcxLpIHrvR6ZKn1BaCPw1KeoAyvwwwUu4ohjPToTC9eln5Fv9Ql+vAIhT5iifngYZcZOkm2CMnGB\n",
       "quUCv1pyT6ZKJYGcBBTOFY46EGEvuWIHYz3U6E8T/b8abH/dUicbXa017BC5wu11NsNEJ8cA7Vkh\n",
       "jPVG5M044BuhTCQpQF4vfDJv2uoIBLGBRCI1vdqF0mvT7bQ81O20thMDltIOZQrKEnpuTDRDve8C\n",
       "9xEL03a/08RpOryjTv4aIrIsXI6lPSx/KIPOvU5CiTb7F+PueKiWSNnRC61m0HSBRyPo+CquQTkB\n",
       "rSVUfJwAbXVKMvsEbXdKVmN2OpzvwU9/6QNOy/XO5bifQ8M4Zs6hPu/PxPxllnUDzraxucHnUf+f\n",
       "36iX6QOW3dDxL+C2usjtRnhB/gS9C/aP+RunuOsU8/H3vwAAAABJRU5ErkJggg==\n",
       "\" style=\"display:inline;vertical-align:middle;\" /></a><br>"
      ],
      "text/plain": [
       "transitivity_supset_supset_eq: forall_{A, B, C | A proper_superset B, B supseteq C} (A proper_superset C)"
      ]
     },
     "execution_count": 40,
     "metadata": {},
     "output_type": "execute_result"
    }
   ],
   "source": [
    "transitivity_supset_supset_eq = Forall((A, B, C),ProperSuperset(A, C), conditions=[ProperSuperset(A, B), SupersetEq(B, C)])"
   ]
  },
  {
   "cell_type": "code",
   "execution_count": 41,
   "metadata": {},
   "outputs": [
    {
     "data": {
      "text/html": [
       "<strong id=\"transitivity_supset_eq_supset_eq\"><a class=\"ProveItLink\" href=\"proofs/transitivity_supset_eq_supset_eq/thm_proof.ipynb\">transitivity_supset_eq_supset_eq</a> (established theorem):<br></strong> <a class=\"ProveItLink\" href=\"../__pv_it/theorems/a22082a003b6fb0eeafdbb41f13b4835d5fad3580/theorem_expr.ipynb\"><img src=\"data:image/png;base64,iVBORw0KGgoAAAANSUhEUgAAAPcAAAAWBAMAAADuuhdHAAAAMFBMVEX///8QEBCIiIhmZma6urrM\n",
       "zMxUVFQiIiJERETc3Nzu7u6qqqp2dnaYmJgyMjIAAAAcRTyBAAAAAXRSTlMAQObYZgAAA31JREFU\n",
       "SMe1Vk1oE0EU/twkTXc3a3tXNB7EH9AqlSpSbMSLCGJVqB4DVSiiUO0hVZRGkbAVJfGkIJoVD2rR\n",
       "WuylPRkr/rWi68+hImr9uehFaS3W+vvmze5mk1oVTAd23tuZN/O9+ebNmwGmqpz+S38vfUNCeV56\n",
       "bC3JIjT0m675jbvUXFkGGBC/70sPPj0jxUcWnYlE4pDbNceGvtTWyK2T9KcmSw/+WIoX417L5bdS\n",
       "XthHVV0GfeSaBUS6Sg++VzLc/SXf1CnJeEWIWA2cBYz+jo4TpcdWm1kYyqd8m9z/wFdRb6Zlx4Ax\n",
       "09xfenBlCYt1+ndf4ztRZdmti8Q3mWwH2rlL1mtHbjRJeoxUrSK0oDu2PONqwXRtTbG5KIONuQWO\n",
       "rc2sx0LDPnAO7gdR588gItZAYzoMSZBRiUglE/ca2kGexx37MoatpnlMqA+B63nzkGmaAuxMFBcq\n",
       "pW2YwygIdcQHvkxUbfXOn04UhKGwl+ckQYE4dI7QLG3JoB9cq2M7XRyNGuCaVWDeQ+6S+4ZzcKbF\n",
       "RN1QXTPmA+dFzuZxVIXoFEbsMPf0t0iXowiwkQiETX7wyHm5jw307QFWFZqH4gjnSET94FTNymPr\n",
       "cV45q/USXB1q4MFRky2u1GOx8E0R6+nwg28ql6sqs6CNQnlfYA7sQBUpmuWjXadvdx58C/fViRCJ\n",
       "iD0Rkde+jafEcrbYsGg+Oxj2Eo8LHg84xyeG4PCjFArMgSdo9THMAXeKvg9eUl0jQzQruOl3Ag7d\n",
       "POczVHHffWCekBW5InCjS5GpUqlHZAhKc4E5MBfffODiHPFZT2ec9No64JBPsdUtOAgIhArhivbm\n",
       "XppZOUq+CcrEBmq2D7yz9s6460x5DirnCs8cSHKUXHYPYzO09A8LPT9bilPAuVQjB8R0EfYGu2Eh\n",
       "y2eA5twgnA0k5c544CuhjrJylfztQlDmTdccehQrSOQK0+ufynlPW08z2uoRqONQZ9J1Y+EAtLs+\n",
       "8CCxwIdxMxGatXCcFu+ZU7xWE1k2LmWKLpY/lD5vX8egpg+EZuD2SHUTkbKxC5HGPssHnk7i5Gd7\n",
       "q5m6SYy0VdccJkDXnJLMTkHbrdqFmJgO3Ss1kYgX3OrFN73uab57rnxS3/W/PyYmL4XeOU8bOW3m\n",
       "X8B7/+cZ9bS4wXYVA78Hp9xupiaYi9xuxqfkJRiYsjfmL+6H8f6l7pr9AAAAAElFTkSuQmCC\n",
       "\" style=\"display:inline;vertical-align:middle;\" /></a><br>"
      ],
      "text/plain": [
       "transitivity_supset_eq_supset_eq: forall_{A, B, C | A supseteq B, B supseteq C} (A supseteq C)"
      ]
     },
     "execution_count": 41,
     "metadata": {},
     "output_type": "execute_result"
    }
   ],
   "source": [
    "# Proven\n",
    "transitivity_supset_eq_supset_eq = Forall((A, B, C), SupersetEq(A, C), conditions=[SupersetEq(A, B), SupersetEq(B, C)])"
   ]
  },
  {
   "cell_type": "markdown",
   "metadata": {},
   "source": [
    "### Misc Identities."
   ]
  },
  {
   "cell_type": "markdown",
   "metadata": {},
   "source": [
    "### Theorems establishing containment claims as being Boolean (i.e. T or F)."
   ]
  },
  {
   "cell_type": "code",
   "execution_count": 42,
   "metadata": {},
   "outputs": [
    {
     "data": {
      "text/html": [
       "<strong id=\"subset_eq_is_bool\"><a class=\"ProveItLink\" href=\"proofs/subset_eq_is_bool/thm_proof.ipynb\">subset_eq_is_bool</a> (conjecture without proof):<br></strong> <a class=\"ProveItLink\" href=\"../__pv_it/theorems/cd7e44dc86b73f7d5d49a3cca404ca1093c2d98e0/theorem_expr.ipynb\"><img src=\"data:image/png;base64,iVBORw0KGgoAAAANSUhEUgAAALcAAAAVBAMAAAD2lGJJAAAAMFBMVEX///8QEBCIiIhmZma6urrM\n",
       "zMxUVFQiIiJERETc3Nzu7u6qqqp2dnaYmJgyMjIAAAAcRTyBAAAAAXRSTlMAQObYZgAAAuRJREFU\n",
       "OMutVU1oE0EU/sz/JmnaQ6GCIgEP9qIJFvQiNOChUpDmVC9iAq2QerARkRyqsorQRJTmZD3ZlYqW\n",
       "CrXgQTwZmoNaRfYkiFYj6sEKbbES24rWNz+72WyzAcEHb2fmvZlv3nzvzSzQTBRdaDMJFRvbH5NW\n",
       "WGfBYeGUVJITW5wtw9WuzBVgqN7sOpP/0zEI+GjTF8yw6AD+VSrJsjS9zuVy50R3mwp0JzFjWxTx\n",
       "RqcmdQQp7Jvs9Gpj7Ja4UNZd1nh763nNnSLC+uIIR+tXBTy6K0mIc7QPLQrPNgb3F4WS3O8ummcx\n",
       "JEamD1EE22Qoo7mLEjw0S+C3yTQ/PT3uwMq4VBI9lmCN2xrGJSDYQbF95iPvZc2MPNxL4BFasZbP\n",
       "n3cA3y0V8GhPeNH4re4qcOwUtWU+mtFqtPT0J4kPIvQkUOBG8T2yWs4YxXVdKnAHKc7sDQu2t7rQ\n",
       "OcI67/lwqMZ5x2Y7o4kyepjnlfo/BHNtCEsSMSIVSGAijlpdippbJ17T1HnEh6oloeGFEl2ALDup\n",
       "i5948jd3udMIbchp7VLhHegaVu20BCgG1y9WNXzKriUSCQ71KFlWiBpdrJg/KyokCnfFDu6houZG\n",
       "a9m1UtSu7wa4Yo0cqk+AK5V+vnM0z10Pktin2WmhGvELrr7Vl7mPcdnDh21W8HSEIsqyRA4ykw8H\n",
       "uatvb2catoQqBB5Z4aa7g5q1zFOqmdD9dZG/EwnFQ7YD3iLGXa+APca0slRW64F1YTs+alz/jxTc\n",
       "drbVIcHnrHn9S+EyBeguMe4Yj8FPL8d4TNeACWNaj9CpzUWExn7G6y/B6c2BA3k+8wsfBzO9dQ8X\n",
       "IklWfAzUrWGCDUDp7ytuvf5NJJgVreeZuP6G3DN7VDqtunIVygaUnQ0eriZif7gMmTOTsAZl7IJ3\n",
       "B56udmUSpr9gXlwDKJerPblSZhwOVLH/VZx/Fs5SaGwOFBv8mv71N9fikJQ3doOO/yp/ATApxewe\n",
       "JdHZAAAAAElFTkSuQmCC\n",
       "\" style=\"display:inline;vertical-align:middle;\" /></a><br>"
      ],
      "text/plain": [
       "subset_eq_is_bool: forall_{A, B} ((A subseteq B) in BOOLEAN)"
      ]
     },
     "execution_count": 42,
     "metadata": {},
     "output_type": "execute_result"
    }
   ],
   "source": [
    "subset_eq_is_bool = Forall((A, B), in_bool(SubsetEq(A, B)))"
   ]
  },
  {
   "cell_type": "code",
   "execution_count": 43,
   "metadata": {},
   "outputs": [
    {
     "data": {
      "text/html": [
       "<strong id=\"supset_eq_is_bool\"><a class=\"ProveItLink\" href=\"proofs/supset_eq_is_bool/thm_proof.ipynb\">supset_eq_is_bool</a> (conjecture without proof):<br></strong> <a class=\"ProveItLink\" href=\"../__pv_it/theorems/edae5653e4ec11e0f4b0f018b94b7fa2093888c70/theorem_expr.ipynb\"><img src=\"data:image/png;base64,iVBORw0KGgoAAAANSUhEUgAAALcAAAAVBAMAAAD2lGJJAAAAMFBMVEX///8QEBCIiIhmZma6urrM\n",
       "zMxUVFQiIiJERETc3Nzu7u6qqqp2dnaYmJgyMjIAAAAcRTyBAAAAAXRSTlMAQObYZgAAAuRJREFU\n",
       "OMutVU1oE0EU/sxfs0ma5lCIoEjAg71oghW9CC30UClIcmpvNtAKqQdb8ZBCVWIRTERJbvXWlQqG\n",
       "irHgQTxZmoPSiuxVNBpRD/Zgi5XaVrS++dnd7DYbEHzwdmbfzHzz3vfezACtRNGEtpJgqbn9GWmd\n",
       "dWoOC8tSSc7tGWwf3+zO3ADGrGbXpfyf6Cjgo01XmGHVAfyrVJI1/q1ks9lpfXRfDuhJoWJbFPbG\n",
       "ynMaAuT2XRZ9rjl2e0Io666puvXRZ9kZJsKSCYRi1lV+j+ZKEeIS7UOLQgvNwdtKQkke9pjUVmQ3\n",
       "Tu2HGAIR6crN7DUJHlwg8HtkWp6fn3FgZUYqiRbvNczeumivA4Eo+SYi8U6rhuehAQIP04qtfP6K\n",
       "A/hhqYBHfa5ZU0GyCQxdoLYq4lFNWvoHU8QHEXoeKHCj+J7ZqGZ0Bu5IBe5juIHZFeHqZq1rinXe\n",
       "898xk/PobiejiQLs43ml/g/BXAQhSSKmpAK9mE2Y4CdEzW0Tr2nqPOW/uYaEhmqLdAAmKGNw8Yjn\n",
       "fvMhdxrBHTmtUyq8I93jDRUlOPeTD65frGr4lEPfSCQ4cmfJsk7UaG187vJlUSExuOt2cA8Vdd08\n",
       "k2nedFDj+q6DK42eI+cT4Ep9kO8cy/OhxykcU+20UKm2RQzwIdUocx/jsp//RhrB02HyaIIlcpSZ\n",
       "fDjFh5JHu9KwJVQh8PC6NAb6CmaZD+eMhB63eP5OJBRP2A54izgfeg0c0adVpbJa92/L4z+5Ikc/\n",
       "knP7WRCnBZ8LxvFfDFXJQfci444VWeDTqyKP9jYwq0/rF1reXUWw+DNhPQQXd0dO5vnMLyKizIDl\n",
       "4kI4xYqPgbpVzLIfUPqTpb3Hv4UEJkTreSmOvy4PjB6VToem3IKyA+Vgk4urhdgvLl2WjCRsQSle\n",
       "9R7Ai43ujHmLFIyDq99ZWSZpC0jFIaC6/VVxfiycpdDc7C81eZr+9Zlrd0jKG7tBw3+Vv4LXyJvb\n",
       "eKmAAAAAAElFTkSuQmCC\n",
       "\" style=\"display:inline;vertical-align:middle;\" /></a><br>"
      ],
      "text/plain": [
       "supset_eq_is_bool: forall_{A, B} ((A supseteq B) in BOOLEAN)"
      ]
     },
     "execution_count": 43,
     "metadata": {},
     "output_type": "execute_result"
    }
   ],
   "source": [
    "supset_eq_is_bool = Forall((A, B), in_bool(SupersetEq(A, B)))"
   ]
  },
  {
   "cell_type": "code",
   "execution_count": 44,
   "metadata": {},
   "outputs": [
    {
     "data": {
      "text/html": [
       "<strong id=\"not_subset_eq_is_bool\"><a class=\"ProveItLink\" href=\"proofs/not_subset_eq_is_bool/thm_proof.ipynb\">not_subset_eq_is_bool</a> (conjecture without proof):<br></strong> <a class=\"ProveItLink\" href=\"../__pv_it/theorems/71b4c7d95c4d61b41450663609149255c2fabe190/theorem_expr.ipynb\"><img src=\"data:image/png;base64,iVBORw0KGgoAAAANSUhEUgAAALcAAAAYBAMAAABKCnGXAAAAMFBMVEX///8QEBCIiIhmZma6urrM\n",
       "zMxUVFQiIiJERETc3Nzu7u6qqqp2dnaYmJgyMjIAAAAcRTyBAAAAAXRSTlMAQObYZgAAAxpJREFU\n",
       "SMe1VU1oE0EUfk2atLvZpD0UIigS8GAvtcWKXoQWeogUpDnVmwmkQurBtojkUH9WUUyK0pxsTzZS\n",
       "wVIhBjyIIFiag1pF9qjYaERFWsEWK7WtaHzzZmabbLJKwT54Oz9v5pu333vzBmDrUgvbKHX/B0Yx\n",
       "uJbLfNnIk6q+9yFqgXXyNuBTQlGOb84u8sY7sNoeuwzQX77HMZT47e8DcOOhz0uWV8iCUJQlMfUq\n",
       "PuQ/w7s1OkBHCDKWTT5XYGrSABXdHmd/r1fH9rZxZd2lNLU3n4E7JMxhJKynDbRA+a76WsMRQsRZ\n",
       "PAc3aVmbyKW4otztoFbF/zA9bcWpdwFQG4UrV+PnBbgni+C3cGpuenrMhpUxoShGaydr3OhGizRf\n",
       "xMP86NtHGrkupU3PtW4E9+GOtUTirA34HqGY2unHhszCQWleBTh2EtscjTLpTVqCvUidhoSeAEjS\n",
       "JP8eWcnFZHJdFwpwG8LE7A1MvRlhda3mm4dZ5y0N+zc59xebGE0Y0S6KK/a/c+YaQRMkwrBQgE6Y\n",
       "oMBi+H3yaMc68hrBzgMa6iUB1fLogWeQ/amD/njyF5mcEfBsiGVNQsEVbR/QBS3jJgj64PjJsoaW\n",
       "7P6KIsBBP4ozy0iNwa/z3GmeIQFwFqzgWE1qaFIz4IAEb0CvHd8kuFLqOehuDq4UeunkQIJM90Kw\n",
       "L22lBXOkjnP1RTXjydLczbgM0rCxFDziQ4/YymQfJRkcIlNPS3MELAFVENy3zAtCNFCa5mHdDOj+\n",
       "Ms/neUDhPvnyBlrJ9BJgr1yWE8pyvX5d+Ps5HufX/z06t4P95GHOZ9a8/jNaDh10srRqYL6oH16M\n",
       "EhvXACbksiDXqeIieEZ/8DrQJU8+VYweTNDKTzRWY91lhQt8rEx4GagzDRNUMzD8PanK62/KlYqr\n",
       "JqNQ+5Rffyl3zB6mToOhjICyAcquKoXLrPCFCnBr4ZIyawZhDZTRc66d8GSlPdZp2pPmxZVAF+Jx\n",
       "ybmUTHVs1eqGx/6xsH/iktXB61NVnqa/P3OPKou+zTP32jph/PNVHdnOlz+1lcV/AAf8z9ALe8kD\n",
       "AAAAAElFTkSuQmCC\n",
       "\" style=\"display:inline;vertical-align:middle;\" /></a><br>"
      ],
      "text/plain": [
       "not_subset_eq_is_bool: forall_{A, B} ((A nsubseteq B) in BOOLEAN)"
      ]
     },
     "execution_count": 44,
     "metadata": {},
     "output_type": "execute_result"
    }
   ],
   "source": [
    "not_subset_eq_is_bool = Forall((A, B), in_bool(NotSubsetEq(A, B)))"
   ]
  },
  {
   "cell_type": "code",
   "execution_count": 45,
   "metadata": {},
   "outputs": [
    {
     "data": {
      "text/html": [
       "<strong id=\"not_supset_eq_is_bool\"><a class=\"ProveItLink\" href=\"proofs/not_supset_eq_is_bool/thm_proof.ipynb\">not_supset_eq_is_bool</a> (conjecture without proof):<br></strong> <a class=\"ProveItLink\" href=\"../__pv_it/theorems/5c7f1159512a75dcffe4e5ac246e3b333a7350200/theorem_expr.ipynb\"><img src=\"data:image/png;base64,iVBORw0KGgoAAAANSUhEUgAAALcAAAAYBAMAAABKCnGXAAAAMFBMVEX///8QEBCIiIhmZma6urrM\n",
       "zMxUVFQiIiJERETc3Nzu7u6qqqp2dnaYmJgyMjIAAAAcRTyBAAAAAXRSTlMAQObYZgAAAxNJREFU\n",
       "SMe1VU1IVFEU/po/5715M7oQDIoYaJEQ5pBQiwKFFoYQDgS6ywEVxhZptJjCyimCZqJwVtnOFwaJ\n",
       "QQktIggSJyg04tGuH2vCWuQiJcPUKDv3741vfiohD5z37j333O+e+51z7wU2Li5sotz9PzCaJdQp\n",
       "dY5eIFN67kPSHGvMlAEflUpyLG/NiV+wd6khfgnoKSDtZOpXTRfgo0WnmWGuDPhnqSTzgpFEIjEb\n",
       "kaNbkkBjtIilkDc8OmJBpxhusN0nS2MHI0JZc960Kf8oGx1EWGsERtg5y++xXFFCnKR1aJIxXhq8\n",
       "IiOU5E6jTe11f1Q06sn0Pgy9SoZyOXFeggfGCfwmmabGxobKsDIklcSqb1LWJ7rc6AVAr6HYxE68\n",
       "F007cqOFXEI0YzmVOlsGfKdUwGM+tvL5lClcAtqP0z8r2DLztDS30eYMIrQbSHOj+B5ezMYVA9ek\n",
       "ArfQoZgNhrFbhLo0U9vPGu94tyfPec1aNXOkjB7ieaX2NzG3CoYkEf1SgSYMqxqhJB0QNbdCvMao\n",
       "8YB3k+sSasxM0AHoo4zBxXc88pMPuWMIrEq3aqnwdjb0qsltwBkBQjG4frCq4S47vpBIcCSPkGWB\n",
       "qLEquO/UKVEhYbhzheAeKmpl7EZArFNJUbu+KnBtfeRI+gS4lmvjK4dTfOheFHvMQlqoVCskV8Rh\n",
       "u2mXuY9x2cy7VevBYyGKqI8lsouZfNjPh1rramMoSKhG4KEFYTNeH03ny7wjaSd0ryPytyKhuM9W\n",
       "wBvU86EXwC7llpXKat2/Io7/wOlpOfqBgtvKNnFQ8DluH/8JI0sBuicYd6zI9Nnng3y3V4Fh5dYs\n",
       "dHRtDoHB76JcHqmVT6x17ktxz0+Cr3iL4+JCiB3kIAN1mxjmp5rS35opPv6Ou8wpep/4e56J46/k\n",
       "tt2i0qm0tCvQVqFtL3FxKfEW33GFF5eSSTsJy9AGz3m34eliQ9y+RfihTTseoQG6cxOxf3mY9FyB\n",
       "IVD+sVBMFaOkS4P7MyWepj8/cy+LL/0yz9yrQoP111d1bjNf/sxGnH8Dy43SfE5/nm8AAAAASUVO\n",
       "RK5CYII=\n",
       "\" style=\"display:inline;vertical-align:middle;\" /></a><br>"
      ],
      "text/plain": [
       "not_supset_eq_is_bool: forall_{A, B} ((A nsupseteq B) in BOOLEAN)"
      ]
     },
     "execution_count": 45,
     "metadata": {},
     "output_type": "execute_result"
    }
   ],
   "source": [
    "not_supset_eq_is_bool = Forall((A, B), in_bool(NotSupersetEq(A, B)))"
   ]
  },
  {
   "cell_type": "code",
   "execution_count": 46,
   "metadata": {},
   "outputs": [
    {
     "data": {
      "text/html": [
       "<strong id=\"proper_subset_is_bool\"><a class=\"ProveItLink\" href=\"proofs/proper_subset_is_bool/thm_proof.ipynb\">proper_subset_is_bool</a> (conjecture without proof):<br></strong> <a class=\"ProveItLink\" href=\"../__pv_it/theorems/407e441719df74282af0cf9f3d90e935eef0415b0/theorem_expr.ipynb\"><img src=\"data:image/png;base64,iVBORw0KGgoAAAANSUhEUgAAALcAAAAVBAMAAAD2lGJJAAAAMFBMVEX///8QEBCIiIhmZma6urrM\n",
       "zMxUVFQiIiJERETc3Nzu7u6qqqp2dnaYmJgyMjIAAAAcRTyBAAAAAXRSTlMAQObYZgAAAuBJREFU\n",
       "OMutVU1oE1EQ/sxfs5s0zaEQQZGAB3vRFgt6ERrwUClIcqoXsYFWSD3YikiQqkQRmorSnKwnE6lo\n",
       "qBALHsSTpTmoVWSPikYj6sEKtliJbUXjvJ/dbDbZgOAHs/vezHvzZr+Z2Qe0gqIJaQVfprn+EUmZ\n",
       "DUo2G/NSCMcajO1jld7EZWC0Xu04lf4TGgE8dOhzpli2cf5FCmGl0bolBfTFULCoA+5wflaDSmHf\n",
       "YF+fau67vUcIG67kGsxDRFi0B/5wvdrr0hwx8rhI59Am/3xz520ZIYR7fZLaV8lk8owYdpPqfRhq\n",
       "UIYymbwgnfvmyfktUi3Nzc3YsDIjhaB1R/j75rOa+SKghii2T3zmvpQzIvcPkPMA7VhPp8/ZON8p\n",
       "BXDlHouiOWsyV4AjJ+hd5LNCrkZL/2CM+CBCjwNTXCmeh9aKCb24rkkBbmOIM+s0EeiulLom2OAd\n",
       "n47WOA9VOxlNlNGDPK80/iGYC8IvScSEFCCCLE9sm7nmNojXOA0e8mnKlFB/aYEaYJytd/Avnv3N\n",
       "Tc44fJtyWacUuId7x/jm6+aqoBgcv1jV8CU7vhGkc6QOk2aVqNFEOEunRYWE4SxbnbuoqMuodRRH\n",
       "B0Xt+K47V8yRI+URzpXyID85nOam+zHsyVlpIabbglZaWJl7GJf9fBo0O48HKKJxlsgRpvJgPzdF\n",
       "d3fFYUmoQs4Dq0xjbhhW5kMpI6F76yJ/KxKKB+wEvEE3N70EdunLilJYrXs3uOprzfkHCm4r+8gD\n",
       "gs95o/0X/EUK0LnAuGPRqB9fTHM2rgJZfVm/kHx1Gb7pn7xc7ozonJ2sDu9L85Wf+VxNDNT9uBCI\n",
       "seJjy505ZNkElP5oprH9DRydNNpfQh0Xb9dT0f467hojKp0OTbkCZRPK9iY/rhaw/rh0LBpJWIcy\n",
       "fd69DU/WehMRwz5lNG4LFJqr1bL1VrG/LOxhc7o30+Rq+tdrrt3mmnttVWj4r/gLpCfCqvXZkQMA\n",
       "AAAASUVORK5CYII=\n",
       "\" style=\"display:inline;vertical-align:middle;\" /></a><br>"
      ],
      "text/plain": [
       "proper_subset_is_bool: forall_{A, B} ((A proper_subset B) in BOOLEAN)"
      ]
     },
     "execution_count": 46,
     "metadata": {},
     "output_type": "execute_result"
    }
   ],
   "source": [
    "proper_subset_is_bool = Forall((A, B), in_bool(ProperSubset(A, B)))"
   ]
  },
  {
   "cell_type": "code",
   "execution_count": 47,
   "metadata": {},
   "outputs": [
    {
     "data": {
      "text/html": [
       "<strong id=\"proper_supset_is_bool\"><a class=\"ProveItLink\" href=\"proofs/proper_supset_is_bool/thm_proof.ipynb\">proper_supset_is_bool</a> (conjecture without proof):<br></strong> <a class=\"ProveItLink\" href=\"../__pv_it/theorems/e52732bd464e291b418f31bb29dc159081e3af060/theorem_expr.ipynb\"><img src=\"data:image/png;base64,iVBORw0KGgoAAAANSUhEUgAAALcAAAAVBAMAAAD2lGJJAAAAMFBMVEX///8QEBCIiIhmZma6urrM\n",
       "zMxUVFQiIiJERETc3Nzu7u6qqqp2dnaYmJgyMjIAAAAcRTyBAAAAAXRSTlMAQObYZgAAAt5JREFU\n",
       "OMutVU1oE0EU/sz/bn4PhQiKBDzYi7ZY0IvQgmCkIMmp3mygFdIerOIhQlWiCCbFktzqQUikgqFC\n",
       "LXgQL1oaRKkiexWNRtSDPdhiJbYVrW9+dpNsshHBB29n5r3Zb958780M0EkUTWgn8ebb2x+RVlmn\n",
       "YvFjSSrJqRanf6LWl7wGjDWbbecyv8OjgIsWfcEMKxbgX6SSrLZ6d6SB/jjmTeaAM1Ka1aBS2DfZ\n",
       "7tPtsf29Qll3tdjiHibCYr3wRZrNHodmixPiEq1DP/kW2oO780JJ7vXz9mQqlZrW3T1keh+BGpKh\n",
       "XE9dluDeBQK/TablubkZC1ZmpJJoPQO69ZYkClcANUyxfeIj59WiEblvkMAD9MdGJnPRAnyvVMBR\n",
       "fKI1rcmkRjsZp7bMR/PFOi3RoTjxQYSeBrLcKL7H18tJvbimpQJ3MFxn1ivS4KxVuidZ5x0fjtU5\n",
       "D293MZooo0d5Xqn/XTAXgk+SiEmpwAAKvfUdnRU1t0m8JqjzkA/TDQn1VRYpBprmho3vePYXd9kT\n",
       "8G7JaV1S4Rzpm2ioKBGkh2Kw/WRVw6fs+UoiwZE+QZY1okZz87nL50WFRGCvmsEdVNTVOvgU/wYp\n",
       "ats3HVxpjBxplwBXqkN85UiGu+7HcaBopoVK1R0y08LK3MW4jPJhqBE8EaCI2LTsKDO5cJi7Yvu7\n",
       "EzAlVCHwwFr9gC8aZT6cNhJ6sCnytyKheMADeYMe7noF7NOnlaWy2vNsGuCPRfOBgtvJNnlE8Llg\n",
       "HP9FX5kCtLMYgqzI1I8vc5yNG0BBnxYVWtpegTf3Q5aLemyct2e2Rw5l+MzPwp4cbLq4EIiz4mOg\n",
       "9iIKbABKfyzfevyl0PG/8NR01FSRAjiei+Ovy12jR6UT1JQpKFtQdre5uDqI+eLSZclIwgaU3CXn\n",
       "Ljxb70satwg/tNm/gc+3N6tV86ti/VhYi8Xqnnybp+lfnzm/xTP32mzQ8F/lD8YWwkFufYhqAAAA\n",
       "AElFTkSuQmCC\n",
       "\" style=\"display:inline;vertical-align:middle;\" /></a><br>"
      ],
      "text/plain": [
       "proper_supset_is_bool: forall_{A, B} ((A proper_superset B) in BOOLEAN)"
      ]
     },
     "execution_count": 47,
     "metadata": {},
     "output_type": "execute_result"
    }
   ],
   "source": [
    "proper_supset_is_bool = Forall((A, B), in_bool(ProperSuperset(A, B)))"
   ]
  },
  {
   "cell_type": "code",
   "execution_count": 48,
   "metadata": {},
   "outputs": [
    {
     "data": {
      "text/html": [
       "<strong id=\"not_proper_subset_is_bool\"><a class=\"ProveItLink\" href=\"proofs/not_proper_subset_is_bool/thm_proof.ipynb\">not_proper_subset_is_bool</a> (conjecture without proof):<br></strong> <a class=\"ProveItLink\" href=\"../__pv_it/theorems/f7b60b6c8de1f80ede1bf4e821905d25ee7983d00/theorem_expr.ipynb\"><img src=\"data:image/png;base64,iVBORw0KGgoAAAANSUhEUgAAALcAAAAVCAMAAAAzZI9IAAAAPFBMVEX///9RUVGurq4bGxsLCwsQ\n",
       "EBCIiIhmZma6urrMzMxUVFQiIiJERETc3Nzu7u6qqqp2dnaYmJgyMjIAAADYQjYbAAAAAXRSTlMA\n",
       "QObYZgAAAtJJREFUSMe9V9eipCAMdQvSQs3//+tSxwA66n1YHiY6HuCQzrb9fJgwym/D2+tvzrza\n",
       "tsLj5z2Ed7QtjLIOGU+POP4bFKLiXAGI/Kq+E981A8DItCroCveuf472He9oRtne8AzbdjwGq4fl\n",
       "KPPJ491Wm9yTfiwvqi1w07Vl4B3twEfZ3iKeHH9ZW2I1rsAy2+/f94JNJPwut7pOgXc1H4p/NrQZ\n",
       "ZfUZx3E0egCt9d8/WsvB9A0VsDC2bFsn6Tjxdq7xLvDgbR5GvwxKPcq2YWIkBr/25syUwBoBXbUW\n",
       "6SQJuz3Ttxc9lAocIQ/t3/He+Sir2e3mMCxGATnPRlUIatWNTVaxa6AV3kJLJQm8vgAxL30WgNyn\n",
       "yJ9DHsIoy44iey7xVe6q/rbFvVUIO2h3hAWJYXPm30wjMkHhgk8hHQZTh2JSz2b3dqMsZ8yegUR1\n",
       "1YdWdTf3tkz1nKwpyYu49CF4Cs8/+6E2ywdT87K2m9NEPzs7zihTSuYKj31N9Qa1Xbh34u+6AY5V\n",
       "WOxj4t1Fh/vQNdNKm6Y+q4vd+ZxiT3jXJxanygSr3VF13vvC21zqO1tCEXgqZkQnKcMDmWpLZdiX\n",
       "WFn9pP/BRj8Rq7p79t5U90hB9MYueate3hscDKln6SMnqwjcUwSdmHqOS+PWgpkLRFzV3bO3/PgU\n",
       "jUu+X+u7OXiDO0I0uLwu2TrWFmFplPgoP3kcaOGJTvCTsl1VKhh0K3J/YsqhzieA91yN8CN32ci9\n",
       "BxKEUCAG57W6Zau0gFhcyaUHEh5Wsd+zh6nYm6pjzUhTjlUg7Je+6oCHD4zbwvJYphIWaB7V+bXp\n",
       "/OVLzZ7q/NxaTuYUZVJ8Ct96nslxY6Aeofwy/7CvWiz8qMm866vu4FACxQDqkPJo0rTXmHMyiLMm\n",
       "zazVdVH3o+7hto99B3c/uTf8RN3w7sJzA7+9Pj24p4lHnfw72nfwl9e2/zv+AbGvI6N61LC3AAAA\n",
       "AElFTkSuQmCC\n",
       "\" style=\"display:inline;vertical-align:middle;\" /></a><br>"
      ],
      "text/plain": [
       "not_proper_subset_is_bool: forall_{A, B} ((A not_proper_subset B) in BOOLEAN)"
      ]
     },
     "execution_count": 48,
     "metadata": {},
     "output_type": "execute_result"
    }
   ],
   "source": [
    "not_proper_subset_is_bool = Forall((A, B), in_bool(NotProperSubset(A, B)))"
   ]
  },
  {
   "cell_type": "code",
   "execution_count": 49,
   "metadata": {},
   "outputs": [
    {
     "data": {
      "text/html": [
       "<strong id=\"not_proper_supset_is_bool\"><a class=\"ProveItLink\" href=\"proofs/not_proper_supset_is_bool/thm_proof.ipynb\">not_proper_supset_is_bool</a> (conjecture without proof):<br></strong> <a class=\"ProveItLink\" href=\"../__pv_it/theorems/8d5aafd04acf10c8a360c1aa2f5fd9f014d7bce60/theorem_expr.ipynb\"><img src=\"data:image/png;base64,iVBORw0KGgoAAAANSUhEUgAAALcAAAAVCAMAAAAzZI9IAAAAPFBMVEX///8NDQ0WFhYfHx++vr4Q\n",
       "EBCIiIhmZma6urrMzMxUVFQiIiJERETc3Nzu7u6qqqp2dnaYmJgyMjIAAAAvkUTxAAAAAXRSTlMA\n",
       "QObYZgAAAtFJREFUSMe9V9eipCAMdXcvPdT8/79eigx1Rp2H5cGIHiEkJ8Xj+H5oP8pPw5n376x+\n",
       "tG2Bh9fc+2dqGxhlGSJsjzg+9RJRMiYBeJrKz4pTRQAwECUzusCdra+DeaZ30KM8Z7jDnju2Qcph\n",
       "GYp08nC11SFotI9h2bQZrqu1NDxT27NRnrOAm+MvawsszuWYv3b0815w8Iin4ijrZHg1czP8vaH0\n",
       "KAtnLMM2F6oMCGJ2/YnymDU2ZLIJpM/CpLe1p94Z7p1JQ6uHQalGeW4YNeIL9udfmBgM5FRAFauF\n",
       "/iMB1Ozs7XgNpQxHSEO5Z3pTNsridnNYXMMbxGwVlMUfsjq7W8WsgZb15kpI0cHLBDqL9PcckLkY\n",
       "+XPIgx9l3pEn5i5cFdFKlo30lt5TULaFRRfDesdvohAJ7+GcTSHtB1f77FJHZnrbUeYzJt4gW82d\n",
       "cBt6GyJrTla9km/i0nnveni60GY2wwZXs7y2ndNEPTtpZxQxJTOJS+6QixVPekf9bXVAg5NQx6R3\n",
       "FRXu/GAOZ1RvMpX9zuYUu9G73JEZWSgGZqF30psueuu39k6ekB08FjMh23npAd2nJlcGusTKypP6\n",
       "YGIUL0urTfY+ZGUk716Tt3rLWt5POOiunsWXrFuFI40RJNel5rjUdl8wSwqkbpO9xYtTfVwy+t7e\n",
       "J8FPuO0U9Tat27EmlBZhaZTYKF+ZDnDIBznqDzuQJxSTcvIiD3MbVw51PgKcY3KEt9xlAnMOuiCE\n",
       "DNE4r1U9W6QBxEwlG2+G8IhPDZeyo5kMtalqaw4F1Ujg5kNf1eD+BWMma9mWKQpz1Lfq/JRJlPr7\n",
       "J5Z5J65ay8md3MFQ5y/gR80zKW40lCPkK3E3+6rFw7eazKu+6goOOVA0oPIxj0ZLO4UpJwPfNWl6\n",
       "ra5Lj3+re7jsY5/B7Tf/Dd+YG5798FzAL3+fbvyn8Vud/DO1r+APf9v+7/gFKqgjnmEbiWYAAAAA\n",
       "SUVORK5CYII=\n",
       "\" style=\"display:inline;vertical-align:middle;\" /></a><br>"
      ],
      "text/plain": [
       "not_proper_supset_is_bool: forall_{A, B} ((A nsupset B) in BOOLEAN)"
      ]
     },
     "execution_count": 49,
     "metadata": {},
     "output_type": "execute_result"
    }
   ],
   "source": [
    "not_proper_supset_is_bool = Forall((A, B), in_bool(NotProperSuperset(A, B)))"
   ]
  },
  {
   "cell_type": "markdown",
   "metadata": {},
   "source": [
    "### Theorems establishing equality claims (requiring Boolean elements)."
   ]
  },
  {
   "cell_type": "code",
   "execution_count": 50,
   "metadata": {},
   "outputs": [
    {
     "data": {
      "text/html": [
       "<strong id=\"subset_eq_equals_superset_eq\"><a class=\"ProveItLink\" href=\"proofs/subset_eq_equals_superset_eq/thm_proof.ipynb\">subset_eq_equals_superset_eq</a> (conjecture with conjecture-based proof):<br></strong> <a class=\"ProveItLink\" href=\"../__pv_it/theorems/e240c0edd9796df290e30f5189751a913f17c00c0/theorem_expr.ipynb\"><img src=\"data:image/png;base64,iVBORw0KGgoAAAANSUhEUgAAAPgAAAAVBAMAAACZJT5kAAAAMFBMVEX///8QEBCIiIhmZma6urrM\n",
       "zMxUVFQiIiJERETc3Nzu7u6qqqp2dnaYmJgyMjIAAAAcRTyBAAAAAXRSTlMAQObYZgAAAx1JREFU\n",
       "SMe9Vk1IVFEUPs2oM2/GURdBQS0GWuSmHBioFoJCC9vEuKpNNIIG2iKFqNcvTBA0hqGralMzUYQY\n",
       "WBAkrVq4iCxkIGgTmqEWGmRkmBph9/y8+55v7syAiw6c9+673/3Oufecc+99AOXknlKrUHYIRIfM\n",
       "vEoc1Bn8mDKPiWTUY5jbJ4vQWO9Ksvs6QI+R56DFgpZ6WN/i96LZeR0uaoHbS9L3wbbtc9zcpny0\n",
       "tMOomSeomspX274Qd1G0NMp6FyObMTt/j+tL8DKX8vS+/8aF0yohqQTUxk08B5VYTLfqgKEl5Cit\n",
       "w+Yzs/OLSkOc0ict/F7wwE2q61McIg0mnoM63jWRLCFHaWxiZOSO2bfVpx6CFZpo6kHvNK8pAzvU\n",
       "3OdMPI2Cr2bY0hzrajZ7xew8gEHbQ82q/Csq+pAXXwE4flq9x008jXrrwLU0znoKoJ+6+Xlkebxb\n",
       "xoVx1C1qPoI0RfC2x0f1ylTjZWxM42PyO8qs5mlUxEmtWJpmPQwR2m6xX1wPDVArSQzheDbQCjla\n",
       "zrB3gWsADzpUY8y3cuJpVCQoFSeWxlhDEKCIPvzLgzogui5bCcdvp0V2Jnsz/rCH1RwDf7Cufc6J\n",
       "p1En7BIusZRmrS2wxYmzPO04BGf8zqvUB3V6t1W9WlfgZynnGhV5ISkXS+LcmjlGU4pnCX3aDvvz\n",
       "/rCrRohz8W3zNq/BXLW5Of+ieRqVFV/it2OpTbS/C3tr4CChqX2NTqZ0wVmKUveD+h535b3bPJ1x\n",
       "Cs6bj4IX5TI7xEWsLUnBwXPalh+hieBJgL1OgSZkT+BeD69x54kbzvH6WQVxJ06l2eeceBql43VA\n",
       "al1bahatxzxGZt8N0tABgJyMrOrj2AxvLEJ08Hdis4szG50HsjRy3ucceS7qFdfSvPBi6DSYhxze\n",
       "AqAKNDVUfLyWkUif8XityHF5R1UECtZNsNbB2m24WMpIiYulIkfzwqtgDV6t3gWvl5Pd+gIKD+mD\n",
       "zyHZtnulihRfqeFN0cKc2/b5Io6fFy39M1Fa+s0/IRU5ft7LLfxGxbbwG4WcIl4B/qv8A0mW/Ofy\n",
       "2vDQAAAAAElFTkSuQmCC\n",
       "\" style=\"display:inline;vertical-align:middle;\" /></a><br>"
      ],
      "text/plain": [
       "subset_eq_equals_superset_eq: forall_{A, B} ((A subseteq B) = (B supseteq A))"
      ]
     },
     "execution_count": 50,
     "metadata": {},
     "output_type": "execute_result"
    }
   ],
   "source": [
    "# Proven\n",
    "subset_eq_equals_superset_eq = Forall(\n",
    "    (A, B), Equals(SubsetEq(A, B), SupersetEq(B, A)))"
   ]
  },
  {
   "cell_type": "markdown",
   "metadata": {},
   "source": [
    "### Some Basic Reversal Theorems Utilizing the Equality Theorem(s)"
   ]
  },
  {
   "cell_type": "code",
   "execution_count": 51,
   "metadata": {},
   "outputs": [
    {
     "data": {
      "text/html": [
       "<strong id=\"reverse_not_subset_eq\"><a class=\"ProveItLink\" href=\"proofs/reverse_not_subset_eq/thm_proof.ipynb\">reverse_not_subset_eq</a> (conjecture with conjecture-based proof):<br></strong> <a class=\"ProveItLink\" href=\"../__pv_it/theorems/bb1ed7a5ca1100c497eef72cc5082b7f51e42ddc0/theorem_expr.ipynb\"><img src=\"data:image/png;base64,iVBORw0KGgoAAAANSUhEUgAAALoAAAAcBAMAAAAkZbgxAAAAMFBMVEX///8QEBCIiIhmZma6urrM\n",
       "zMxUVFQiIiJERETc3Nzu7u6qqqp2dnaYmJgyMjIAAAAcRTyBAAAAAXRSTlMAQObYZgAAAy9JREFU\n",
       "SMe1VktoE0EY/rp5brJJc1PQQ272oi0E4oNiAx70Ii0e1IOYQBWqBxsUDL5TaMsqldSL9iJZqWKp\n",
       "EIMe1FMrVdT6INZjqY2oVHqwpa/0QakzszvbSWJoCe1Adv75/5lv/vcE2MjhxyYOV3bjsO4XcaSM\n",
       "uHJ3Auy6kXIUjQOe5rlAU6vJ8q5KT5LfGeAjpcfLQPcS1VBBrqhroHeNxWLXA6vSCfJLAV1kkuNl\n",
       "oH+jnzDxRX0Nt+ZviAs9Exqg+OGlU7oM9Ev0U00MGOWZIkfauPBJHRG4fPAM9vbeKwNcjtJvC8HY\n",
       "ohksJdTDpZlqasYvYF5Vr5aBLjF/zAHHzq4G1d6pU1atj6bPAHAauLkeuFD+0kmP2+ZGqq6YrCFI\n",
       "hosfIkzd9R04sM4iKIi8gwJJC8CDCGeNw5LmmiSpaS/INl4EugWHpgeamH1WU0t9SZSxJmqD3M4K\n",
       "aovTR25YMji2CBy6Z2yNgWaqTJjEIuPQk2hGn3xQfAyUo48SnG61pZ2QX4HXInol0VuaMjj2Brw0\n",
       "3E7EWR1dzh5lrO5lNlkicC+K6K66DGxtuEvpINCnCZ6h6W6fMTamYLusU0TkoBoepB45xViDF/RT\n",
       "fliyIrryuIaW+BtKnwf2i1Gl6R7mAfn8aI/uGJmgeyf1qOI5y1ybX2Wipw3YpYnoR5xxDOv9yDUL\n",
       "iTcNhYbtB/HCVrabdIJchxFTWj5OEm/UUuexWrNjNxPV76zSk4CjRyxR7IWbbrJODbXzaFiJTudW\n",
       "GoMqr3N3v0H0rIzDnciR23/TOLLLh1HNZF+AHSK6Jy1N4gOcdJOShRTN6wSFXS2/i5p7XT8/Jdgt\n",
       "HUAyLaCnat8v4pkeVGc/5KW8LiaM40UVophPlUVDknZSkNP1nQL6PsizJOXfUroyDetCfhmY2o3l\n",
       "YrHYxTz0lEkdJmcz8i3Ii5C3C56xktRYhus2S6Okhjv94ushjmiR7maDcc5DTlyzbcO76UBTSEBP\n",
       "xNGVy8DyR22HciMQbC318nmKXmxPYSDcYptCqcX/nyptzS2vSgGeWLvfr90HMyXQu8gjoG7onxNL\n",
       "wfu/eUMKbSa6XOa5f9x8yjIfQcVJAAAAAElFTkSuQmCC\n",
       "\" style=\"display:inline;vertical-align:middle;\" /></a><br>"
      ],
      "text/plain": [
       "reverse_not_subset_eq: forall_{A, B | A nsubseteq B} (B nsupseteq A)"
      ]
     },
     "execution_count": 51,
     "metadata": {},
     "output_type": "execute_result"
    }
   ],
   "source": [
    "# Proven\n",
    "reverse_not_subset_eq = Forall((A, B), NotSupersetEq(B, A), conditions=[NotSubsetEq(A, B)])"
   ]
  },
  {
   "cell_type": "code",
   "execution_count": 52,
   "metadata": {},
   "outputs": [
    {
     "name": "stdout",
     "output_type": "stream",
     "text": [
      "These theorems may now be imported from the theory package: proveit.logic.sets.inclusion\n"
     ]
    }
   ],
   "source": [
    "%end theorems"
   ]
  },
  {
   "cell_type": "code",
   "execution_count": null,
   "metadata": {},
   "outputs": [],
   "source": []
  }
 ],
 "metadata": {
  "kernelspec": {
   "display_name": "Python 3",
   "language": "python",
   "name": "python3"
  }
 },
 "nbformat": 4,
 "nbformat_minor": 0
}