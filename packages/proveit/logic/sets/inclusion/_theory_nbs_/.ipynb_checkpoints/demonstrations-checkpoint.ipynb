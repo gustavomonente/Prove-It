{
 "cells": [
  {
   "cell_type": "markdown",
   "metadata": {},
   "source": [
    "Demonstrations for the theory of <a class=\"ProveItLink\" href=\"theory.ipynb\">proveit.logic.sets.inclusion</a>\n",
    "========"
   ]
  },
  {
   "cell_type": "code",
   "execution_count": 1,
   "metadata": {},
   "outputs": [],
   "source": [
    "import proveit\n",
    "from proveit import free_vars, ProofFailure, used_vars\n",
    "from proveit import x, y, A, B, C, D, E, F, X, Y\n",
    "from proveit.logic import Equals, Forall, Implies, InSet, Not, NotInSet, Set\n",
    "from proveit.logic import (Intersect, SetEquiv, NotProperSubset,\n",
    "                           SubsetEq, NotSubsetEq, not_superset_eq,\n",
    "                           ProperSubset, proper_superset, not_proper_superset,\n",
    "                           SubsetProper, StrictSubset, superset_eq)\n",
    "from proveit.numbers import zero, one, two, three, four, five\n",
    "from proveit.numbers import (Integer, Natural, NaturalPos, Real,\n",
    "                            RealNeg, RealPos)\n",
    "from proveit.numbers.number_sets.real_numbers import int_within_real\n",
    "from proveit.logic.sets.inclusion  import (\n",
    "        subset_eq_def, proper_subset_def, not_proper_subset_def)\n",
    "from proveit.logic.sets.inclusion import fold_not_subset_eq\n",
    "%begin demonstrations"
   ]
  },
  {
   "cell_type": "markdown",
   "metadata": {},
   "source": [
    "# Inclusion $\\in$, $\\subset$, $\\subseteq$, $\\supset$, $\\supseteq$"
   ]
  },
  {
   "cell_type": "markdown",
   "metadata": {},
   "source": [
    "<div style=\"line-height:1.4; font-size:14pt\">\n",
    "\n",
    "<a href='#introduction'>Introduction</a><br>\n",
    "<a href='#simple_expressions'>Simple Expressions involving Membership $(\\in)$, Subsets $(\\subset, \\subseteq)$, and Supersets $(\\supset, \\supseteq )$</a><br>\n",
    "<a href='#common_attributes'>Common Attributes of the Subset $(\\subseteq)$ Expression</a><br>\n",
    "<a href='#axioms'>Axioms</a><br>\n",
    "<a href='#theorems_and_conjectures'>Theorems & Conjectures</a><br>\n",
    "<a href='#further_demonstrations'>Further Demonstrations</a><br>\n",
    "    <ol>\n",
    "        <li><a href='#demo01'>$(x\\in A)\\wedge(A\\subset B)\\Rightarrow (x\\in B)$</a></li>\n",
    "        <li><a href='#demo02'>$\\forall_{x\\in A}(x\\in B) \\Rightarrow (A \\subseteq B)$</a></li>\n",
    "        <li><a href='#demo03'>$(x\\in B)\\wedge(A\\supset B)\\Rightarrow (x\\in A)$</a></li>\n",
    "        <li><a href='#demo04'>$\\forall_{x\\in Y}(x\\in X) \\Rightarrow (X \\supseteq Y)$</a></li>\n",
    "        <li><a href='#demo05'>Folding and Unfolding the Definitions of $\\not\\subseteq$ and $\\not\\supseteq$</a>\n",
    "        <li><a href='#demo06'>Containment Reversals (such as $A \\subset B \\Rightarrow B \\supset A$)</a></li>\n",
    "        <li><a href='#demo07'>Deducing $\\{1, 3\\} \\subset \\{1, 2, 3, 4, 5\\}$</a></li>\n",
    "        <li><a href='#demo08'>Manually Proving $\\{1, 3, 5\\} \\subseteq \\{1, 2, 3, 4, 5\\}$</a></li>\n",
    "    </ol>\n",
    "<a href='#miscellaneous_testing'>Miscellaneous Testing</a><br>\n",
    "</div>\n"
   ]
  },
  {
   "cell_type": "markdown",
   "metadata": {},
   "source": [
    "## Introduction <a id='introduction'></a>"
   ]
  },
  {
   "cell_type": "markdown",
   "metadata": {},
   "source": [
    "<font size=3>Set membership (*e.g.*, $x \\in S$), subset ($A \\subset B$), and superset ($B \\supset A$) concepts are often critical in proofs, either as goals in themselves or as conditions or assumptions appearing in a proof. This ``_demonstrations_`` notebook explores subset ($\\subset$, $\\subseteq$), and superset ($\\supset$, $\\supseteq$) expressions and related methods. (Set membership ($\\in$) itself is explored more thoroughly in its own ``_demonstrations_`` notebook in the ``proveit.logic.sets.membership`` theory.)</font>"
   ]
  },
  {
   "cell_type": "markdown",
   "metadata": {},
   "source": [
    "## Simple Expressions Involving Membership ($\\in$), Subsets ($\\subset$, $\\subseteq$), and Supersets ($\\supset$, $\\supseteq$) <a id='simple_expressions'></a>"
   ]
  },
  {
   "cell_type": "markdown",
   "metadata": {},
   "source": [
    "<font size=3>It is straightforward to construct membership, subset, and superset expressions. Here are some basic examples of such expressions:</font>"
   ]
  },
  {
   "cell_type": "code",
   "execution_count": 2,
   "metadata": {},
   "outputs": [
    {
     "data": {
      "text/html": [
       "<a class=\"ProveItLink\" href=\"../__pv_it/theorems/89c58886785a6f188ade8c2a1dcacf7288396a140/expr.ipynb\"><img src=\"data:image/png;base64,iVBORw0KGgoAAAANSUhEUgAAADUAAAAPBAMAAAC2KZqIAAAAMFBMVEX///8QEBBmZmaqqqrMzMxE\n",
       "REQyMjIiIiKYmJh2dna6urrc3NxUVFSIiIju7u4AAAA6P00QAAAAAXRSTlMAQObYZgAAAMZJREFU\n",
       "GNNjYMAB3Bhwg3zcUhz5D1D54eVlMPZj/Q3IUiyxSEob7i8Akm/v7Lp5AcR9hiTF9cC+gYGBbwJH\n",
       "LXsCiH8ayYxXDP5A9ZwPOP9xgc0OQJJbwLBfAaiPgRUiyCKWBgRQqw8pnQeL8oNtY+BG0sfFwMAI\n",
       "tsffASIggJAzYGBgB3KZH9xn4AW7UBcuxQ2UY/vAwLDeIJ5hB1iE3QAmtx2IWX8zMLy5+1ajASzC\n",
       "d3QdROrp/zwG5vjvCsgBwzUVEWYgAACVrTGb/6vh/gAAAABJRU5ErkJggg==\n",
       "\" style=\"display:inline;vertical-align:middle;\" /></a>"
      ],
      "text/plain": [
       "x in A"
      ]
     },
     "execution_count": 2,
     "metadata": {},
     "output_type": "execute_result"
    }
   ],
   "source": [
    "# a simple set membership claim\n",
    "InSet(x, A)"
   ]
  },
  {
   "cell_type": "code",
   "execution_count": 3,
   "metadata": {},
   "outputs": [
    {
     "data": {
      "text/html": [
       "<strong id=\"example_1\">example_1:</strong> <a class=\"ProveItLink\" href=\"../__pv_it/theorems/bde8b0f2ff39b8364dd29b2c5e888384fdb817720/expr.ipynb\"><img src=\"data:image/png;base64,iVBORw0KGgoAAAANSUhEUgAAADsAAAAPBAMAAACo4Ko7AAAAMFBMVEX///92dnYiIiIQEBBERERU\n",
       "VFS6urqIiIjc3NxmZmaqqqru7u6YmJgyMjLMzMwAAADiRdoGAAAAAXRSTlMAQObYZgAAAO1JREFU\n",
       "GNNjYACBtwzogCf+68wQNyjnPoY0A7MDA8P8BxCl9zdgSL8/wMCQPwHM3DW/ASJ2RElJSQ/CrAcK\n",
       "nS8AMw/UJ4DpXgmEbmcGBm4jsKFsG9YfAAtpIBn+lYHhUTSYtY3hPdgUzgUIWb6vZ0q0IMwEhn6w\n",
       "G5iQNLP/YGDYHABWGDkz3gHEaEWSZjEAKvkFthroyQsgxhYkaX6gTvbvIBbQRiYDdMNB3mb9BmRw\n",
       "AKV5P4CEGAsQ0iBvvwdZ2QSy6QdY7BZC+jLQUhOgt7f8v83A5f8J7PStYbDAjf0fOdVlAXpAP3SC\n",
       "ByoEAACTQj18dtZaDQAAAABJRU5ErkJggg==\n",
       "\" style=\"display:inline;vertical-align:middle;\" /></a><br>\n",
       "<strong id=\"example_2\">example_2:</strong> <a class=\"ProveItLink\" href=\"../__pv_it/theorems/bde8b0f2ff39b8364dd29b2c5e888384fdb817720/expr.ipynb\"><img src=\"data:image/png;base64,iVBORw0KGgoAAAANSUhEUgAAADsAAAAPBAMAAACo4Ko7AAAAMFBMVEX///92dnYiIiIQEBBERERU\n",
       "VFS6urqIiIjc3NxmZmaqqqru7u6YmJgyMjLMzMwAAADiRdoGAAAAAXRSTlMAQObYZgAAAO1JREFU\n",
       "GNNjYACBtwzogCf+68wQNyjnPoY0A7MDA8P8BxCl9zdgSL8/wMCQPwHM3DW/ASJ2RElJSQ/CrAcK\n",
       "nS8AMw/UJ4DpXgmEbmcGBm4jsKFsG9YfAAtpIBn+lYHhUTSYtY3hPdgUzgUIWb6vZ0q0IMwEhn6w\n",
       "G5iQNLP/YGDYHABWGDkz3gHEaEWSZjEAKvkFthroyQsgxhYkaX6gTvbvIBbQRiYDdMNB3mb9BmRw\n",
       "AKV5P4CEGAsQ0iBvvwdZ2QSy6QdY7BZC+jLQUhOgt7f8v83A5f8J7PStYbDAjf0fOdVlAXpAP3SC\n",
       "ByoEAACTQj18dtZaDQAAAABJRU5ErkJggg==\n",
       "\" style=\"display:inline;vertical-align:middle;\" /></a><br>\n",
       "<strong id=\"example_3\">example_3:</strong> <a class=\"ProveItLink\" href=\"../__pv_it/theorems/bde8b0f2ff39b8364dd29b2c5e888384fdb817720/expr.ipynb\"><img src=\"data:image/png;base64,iVBORw0KGgoAAAANSUhEUgAAADsAAAAPBAMAAACo4Ko7AAAAMFBMVEX///92dnYiIiIQEBBERERU\n",
       "VFS6urqIiIjc3NxmZmaqqqru7u6YmJgyMjLMzMwAAADiRdoGAAAAAXRSTlMAQObYZgAAAO1JREFU\n",
       "GNNjYACBtwzogCf+68wQNyjnPoY0A7MDA8P8BxCl9zdgSL8/wMCQPwHM3DW/ASJ2RElJSQ/CrAcK\n",
       "nS8AMw/UJ4DpXgmEbmcGBm4jsKFsG9YfAAtpIBn+lYHhUTSYtY3hPdgUzgUIWb6vZ0q0IMwEhn6w\n",
       "G5iQNLP/YGDYHABWGDkz3gHEaEWSZjEAKvkFthroyQsgxhYkaX6gTvbvIBbQRiYDdMNB3mb9BmRw\n",
       "AKV5P4CEGAsQ0iBvvwdZ2QSy6QdY7BZC+jLQUhOgt7f8v83A5f8J7PStYbDAjf0fOdVlAXpAP3SC\n",
       "ByoEAACTQj18dtZaDQAAAABJRU5ErkJggg==\n",
       "\" style=\"display:inline;vertical-align:middle;\" /></a><br>"
      ],
      "text/plain": [
       "example_1: A proper_subset B\n",
       "example_2: A proper_subset B\n",
       "example_3: A proper_subset B"
      ]
     },
     "execution_count": 3,
     "metadata": {},
     "output_type": "execute_result"
    }
   ],
   "source": [
    "# proper subset claims, 3 different options\n",
    "example_1, example_2, example_3 = ProperSubset(A, B), SubsetProper(A, B), StrictSubset(A, B)"
   ]
  },
  {
   "cell_type": "code",
   "execution_count": 4,
   "metadata": {},
   "outputs": [
    {
     "data": {
      "text/html": [
       "<a class=\"ProveItLink\" href=\"../__pv_it/demonstrations/53ccbea8125b23174a1adfa3d422d9bed03e94700/expr.ipynb\"><img src=\"data:image/png;base64,iVBORw0KGgoAAAANSUhEUgAAAD0AAAARBAMAAACcIrmXAAAAMFBMVEX///92dnYyMjKqqqoiIiLu\n",
       "7u7c3NyIiIjMzMwQEBC6urpERERmZmZUVFSYmJgAAADEjrHzAAAAAXRSTlMAQObYZgAAAPZJREFU\n",
       "KM9jYGB4+//O2d0LGNABa/Wde2wCINZsBgaeHxDBty4uLh4QZuUDBuaTD4AMjn8MDFx/wGJJYnDt\n",
       "0a5A4nwCkGD/xsDA9x0sqIYwXjMASKwEsbgnMDBEglQz8BjApXk+g8geEMF/gYHDF6SagQWhPd8B\n",
       "RIaBiP57z7dANOYi5OUL4Mz6BAbWuRA3IeT9G+DMnSA1BmjmzwdbCCb+guTBxjEiDPUHEcwNUO8z\n",
       "3IeEnzJcHuxzRgao9zl+Q0RjbwXA3A8yShTEYgJ6f+VWqHDjFmj4MgNNtQEp5tX/e+b2ZozYYYjZ\n",
       "ewczzigEjC4uiPiFAAClfT1j6lc/fwAAAABJRU5ErkJggg==\n",
       "\" style=\"display:inline;vertical-align:middle;\" /></a>"
      ],
      "text/plain": [
       "B subset_eq C"
      ]
     },
     "execution_count": 4,
     "metadata": {},
     "output_type": "execute_result"
    }
   ],
   "source": [
    "# improper subset\n",
    "SubsetEq(B, C)"
   ]
  },
  {
   "cell_type": "code",
   "execution_count": 5,
   "metadata": {},
   "outputs": [
    {
     "data": {
      "text/html": [
       "<a class=\"ProveItLink\" href=\"../__pv_it/demonstrations/346c2fc7f2d20ded3a2e546077dd58597c80a31a0/expr.ipynb\"><img src=\"data:image/png;base64,iVBORw0KGgoAAAANSUhEUgAAADsAAAAPBAMAAACo4Ko7AAAAMFBMVEX////MzMy6uroyMjIiIiKq\n",
       "qqoQEBB2dnbc3NyYmJhmZmZUVFRERESIiIju7u4AAACOKgoaAAAAAXRSTlMAQObYZgAAAPNJREFU\n",
       "GNNjYGDgu7NrJ0cBAyrg3P971Z5DINa1CQysyyagSTOwHWBgWC/AwPDGD8hZ34AuLQ/UoL+AgcHs\n",
       "AZCjBhIRcXFxOQmTvg/UMP8CA9dXEEcKJtpuAWUcAzoq5QFDvwOI8wJuaAuU/g00bR8DQ/0FVDtZ\n",
       "F4Apxt8z77gCaX8BNDeBTWPg/cHA8GwDA0M+yGUMDxDSO8AkTwJQCdBZ/mATkYw4Byb5gTp5/0J9\n",
       "zI5hOMjb3J8YGPpBTqtDyPIWwL0tDww41p8MDFFIVgdDKDMGBqYckPCr07sU4JJ82vvA9Ob/u1af\n",
       "CUD1EjBQfQpRhQBJ9ECIpOX3KwAAAABJRU5ErkJggg==\n",
       "\" style=\"display:inline;vertical-align:middle;\" /></a>"
      ],
      "text/plain": [
       "C proper_superset B"
      ]
     },
     "execution_count": 5,
     "metadata": {},
     "output_type": "execute_result"
    }
   ],
   "source": [
    "# proper superset (a style variant of a ProperSubset)\n",
    "proper_superset(C, B)"
   ]
  },
  {
   "cell_type": "code",
   "execution_count": 6,
   "metadata": {},
   "outputs": [
    {
     "data": {
      "text/html": [
       "<a class=\"ProveItLink\" href=\"../__pv_it/demonstrations/22103ea8b0800d87300d7bf8c17d5fed5c2d510a0/expr.ipynb\"><img src=\"data:image/png;base64,iVBORw0KGgoAAAANSUhEUgAAADsAAAARBAMAAACRPMnQAAAAMFBMVEX////MzMy6uroyMjIiIiKq\n",
       "qqoQEBB2dnbc3NyYmJhmZmZUVFRERESIiIju7u4AAACOKgoaAAAAAXRSTlMAQObYZgAAAPxJREFU\n",
       "KM9jYGDgu7NrJ0cBAyrg3P971Z5DINa1CQysyyYAGY9dXFzOwuTZDjAwrBdgYHjjB+Ssb4CKvjSC\n",
       "MuSBGvQXMDCYPQBy1OCmPoYqvA+k519g4PoK4kjBpRkNIPQxoKNSHjD0O4A4LxCOsoBQvxkYRPYx\n",
       "MNRfQHNzKcSQ3zPvuAJpfwE06UVgkvcHA8OzDQwM+SCXMTxASEPs5kkAKgE6yx/EYUUYwboBTPED\n",
       "Kd6/UB+zIzSLPIB7m/sTA0M/yGl1MEk+rRMIb8sDA471JwNDFEQHMFB9SqHqzBgYmHJAwq9O71Jg\n",
       "QAeb/+9afSaAgYoAFKEuLhuQhQCs00Y3UXordgAAAABJRU5ErkJggg==\n",
       "\" style=\"display:inline;vertical-align:middle;\" /></a>"
      ],
      "text/plain": [
       "C superset_eq B"
      ]
     },
     "execution_count": 6,
     "metadata": {},
     "output_type": "execute_result"
    }
   ],
   "source": [
    "# improper superset (a style variant of SubsetEq)\n",
    "superset_eq(C, B)"
   ]
  },
  {
   "cell_type": "code",
   "execution_count": 7,
   "metadata": {},
   "outputs": [
    {
     "data": {
      "text/html": [
       "<a class=\"ProveItLink\" href=\"../__pv_it/demonstrations/00cb861fe0f6935c1bd8620973c699372360b0070/expr.ipynb\"><img src=\"data:image/png;base64,iVBORw0KGgoAAAANSUhEUgAAAD0AAAAUCAMAAAAJH8UlAAAAPFBMVEX///9RUVGurq4bGxsLCwsi\n",
       "IiLu7u52dna6uroQEBBmZmaIiIjMzMyqqqoyMjLc3NxERERUVFSYmJgAAADZihnPAAAAAXRSTlMA\n",
       "QObYZgAAARBJREFUOMulU+l6hDAITA/IsTFCeP93reZATdxuvy5/VBgyzASNeR0Wfy1nFiFmIl5v\n",
       "qmu6fD5oA4fADNIL7SXLMnezGxK9K1N9RnnUl+BnahoSroMxtGkk9ko+KyIA+P4CiBcbOhjbKSSd\n",
       "SOxJr11vqE0q4B3XXBLSqVhRUIoUx+4CzseMKnuToNyhGBgnaicpsJfjdlS2YVGDwdxTV9mnW1TZ\n",
       "RtTztUiIbJ7LjoPsfFiOJUfz+lQwquUqG/1J5T65m6n1tvsCd9mYzjtpN1SaqfW2u6iqxDgIV4GL\n",
       "C/PeQvPI+XIKJxHelp7CQITsP3FMFXBgOn6RZ7F82H1VYdjUP0ZC8/9Y7BvN71Eb9xryA0irDG+7\n",
       "g96JAAAAAElFTkSuQmCC\n",
       "\" style=\"display:inline;vertical-align:middle;\" /></a>"
      ],
      "text/plain": [
       "D not_proper_subset E"
      ]
     },
     "execution_count": 7,
     "metadata": {},
     "output_type": "execute_result"
    }
   ],
   "source": [
    "# not a proper subset\n",
    "NotProperSubset(D, E)"
   ]
  },
  {
   "cell_type": "code",
   "execution_count": 8,
   "metadata": {},
   "outputs": [
    {
     "data": {
      "text/html": [
       "<a class=\"ProveItLink\" href=\"../__pv_it/demonstrations/3254600e9a8e9786c0f8fac0b28add73c4ce6e2a0/expr.ipynb\"><img src=\"data:image/png;base64,iVBORw0KGgoAAAANSUhEUgAAAD0AAAAYBAMAAAC7LehfAAAAMFBMVEX///8iIiLu7u52dna6uroQ\n",
       "EBBmZmaIiIjMzMyqqqoyMjLc3NxERERUVFSYmJgAAAAdjRNVAAAAAXRSTlMAQObYZgAAATZJREFU\n",
       "KM9jYEAHLAz4ASMB+cfoAm//n71zdgOcuwhCsZ//k3ZXfgGI+YuBge8nRPSNoGigBITJD5TjOwBk\n",
       "cHwHEqlgsV3WDLwNUHP8CxgYmBJAJv0A8R4ACabVDAxaMHvsgQqZgGoYeD4Aif0GQIJ3AgNDHUx+\n",
       "PQODAQPIWfwgS/wvQL0mAJP/w8D3AMzoBxlSD9K/l4GB0wAWTL9y4yGeqge56L4DkNjDwMAF8yjz\n",
       "DwYuCOs8iPgKDbo9MOO5PjAwM3BALAJ69B9YzwOGFJg80FVMDOow76seAAuuZII7D+R9BiOo95lW\n",
       "QQR1rhUge5/jAsQiBscEqGj/QkFBSPjKA7ErUA3v+r+5d7JhutygNNOt/9dyD/7CiNwT+OOeewFe\n",
       "aWZ5QUGY/WSlrckE5A8RkN+AIQIAoplKWbSLOsoAAAAASUVORK5CYII=\n",
       "\" style=\"display:inline;vertical-align:middle;\" /></a>"
      ],
      "text/plain": [
       "D not_subset_eq E"
      ]
     },
     "execution_count": 8,
     "metadata": {},
     "output_type": "execute_result"
    }
   ],
   "source": [
    "# not a subset\n",
    "NotSubsetEq(D, E)"
   ]
  },
  {
   "cell_type": "code",
   "execution_count": 9,
   "metadata": {},
   "outputs": [
    {
     "data": {
      "text/html": [
       "<a class=\"ProveItLink\" href=\"../__pv_it/demonstrations/3cca06984c7353bf32e8a57b558b438c439f6ae10/expr.ipynb\"><img src=\"data:image/png;base64,iVBORw0KGgoAAAANSUhEUgAAAD0AAAAUCAMAAAAJH8UlAAAAPFBMVEX///8NDQ0WFhYfHx++vr4i\n",
       "IiLu7u52dna6uroQEBBmZmaIiIjMzMyqqqoyMjLc3NxERERUVFSYmJgAAAAuWWslAAAAAXRSTlMA\n",
       "QObYZgAAAQ1JREFUOMulk9mSxCAIRZ1FNIYQkP//17Hd0iGp6apuHrLIRTyAzr22AP+6s6iyCLPs\n",
       "N96dTr8rF3FKIl6Ho39k3a7REs3CiMrc3qhr+0jLNTWbhTjEkPppFIcndw36ZkxoyzDE0HdhHYk0\n",
       "GO3vD5liUBU/dN2hPE8lJppx9wb7Ic55/k/sgmByY5Fu6YxNSRY9DjSxnWi0qcvDX7GfujixnZqa\n",
       "YwU5jcGBjQY7azapaxyDxXYwSz6xYTG9ja2G/q7bY4AHNhCZgrdmreGu2yjPJC76ZKeqLmynPX2v\n",
       "UVzqLkKqUoae0+WKEDiIIgc1NHESPq7IrZVJ/f4qgxrQvWcE7n3bwgfBn6V28bXkD+2aDGW+1wk/\n",
       "AAAAAElFTkSuQmCC\n",
       "\" style=\"display:inline;vertical-align:middle;\" /></a>"
      ],
      "text/plain": [
       "D not_proper_subset E"
      ]
     },
     "execution_count": 9,
     "metadata": {},
     "output_type": "execute_result"
    }
   ],
   "source": [
    "# not a proper superset (a style variant of NotProperSubset)\n",
    "not_proper_superset(D, E)"
   ]
  },
  {
   "cell_type": "code",
   "execution_count": 10,
   "metadata": {},
   "outputs": [
    {
     "data": {
      "text/html": [
       "<a class=\"ProveItLink\" href=\"../__pv_it/demonstrations/0ec5416b68f3ba86aeb2cc392b1be879940082020/expr.ipynb\"><img src=\"data:image/png;base64,iVBORw0KGgoAAAANSUhEUgAAAD0AAAAYBAMAAAC7LehfAAAAMFBMVEX///8iIiLu7u52dna6uroQ\n",
       "EBBmZmaIiIjMzMyqqqoyMjLc3NxERERUVFSYmJgAAAAdjRNVAAAAAXRSTlMAQObYZgAAATBJREFU\n",
       "KM9jYEAH7Az4gRYB+Tp0gbf/z945uwHOXQC15vyftLvyYM4vBga+n2CjBQUFlyVA1fED5fgOABkc\n",
       "34FEKtz6JVCGfwEDAxNIMfsPEO8BVHgvTwOEYQ+kmYBqGHg+AIn9BlB5E6YDEMZ6BgYDBpCz+EEC\n",
       "/hfgzrsNYfxh4IOY2Q8ypB6qn6+AoRLMYPmVGw/xVD3IwvsOEHkuBYZMMIP5BwMXROg8iPgKNb6X\n",
       "gUEaovADAzMDB8QioLH/oPI3GDgh7gO6iolBHeZ9VaijmRYwNCrAvc9gBPU+0yqoduZHbacR3ue4\n",
       "ALGIwRESqFqC8jKWUJXyQOwKVMO7/m/unWxY6E6G0ky3/l/LPfgLI3JX4497jgP4k448MIIFL+BW\n",
       "wEggbT0nIL+IgPwGDBEACjFMXaAIDsoAAAAASUVORK5CYII=\n",
       "\" style=\"display:inline;vertical-align:middle;\" /></a>"
      ],
      "text/plain": [
       "D not_superset_eq E"
      ]
     },
     "execution_count": 10,
     "metadata": {},
     "output_type": "execute_result"
    }
   ],
   "source": [
    "# not a superset (a style variant of NotSubsetEq)\n",
    "not_superset_eq(D, E)"
   ]
  },
  {
   "cell_type": "markdown",
   "metadata": {},
   "source": [
    "<font size=3>At the time of this writing, portions of Prove-It code might still have the more ambiguous `Subset` notation or terminology, but in general we will use `SubsetEq()` to form general or “improper” subset expressions (*e.g.*, $A \\subseteq$ B) and `ProperSubset()` or `SubsetProper()` to form “proper” or “strict” subset expressions (such as $A \\subset$ B), with similar notation used for the negations.</font>"
   ]
  },
  {
   "cell_type": "markdown",
   "metadata": {},
   "source": [
    "## Common Attributes of a Subset expression <a id='common_attributes'></a>"
   ]
  },
  {
   "cell_type": "markdown",
   "metadata": {},
   "source": [
    "<font size=3>Let's define a simple example subset expression, $(A \\cap B) \\subseteq B$, and look at some of its attributes. (The results should be similar for proper subset ($\\subset$) and the various supersets ($\\supset$, $\\supseteq$) and their negations.)</font>"
   ]
  },
  {
   "cell_type": "code",
   "execution_count": 11,
   "metadata": {},
   "outputs": [
    {
     "data": {
      "text/html": [
       "<strong id=\"A_intersect_B_subset_of_B\">A_intersect_B_subset_of_B:</strong> <a class=\"ProveItLink\" href=\"../__pv_it/demonstrations/41c613418a36a301198ea322d706c96a846900370/expr.ipynb\"><img src=\"data:image/png;base64,iVBORw0KGgoAAAANSUhEUgAAAGMAAAARBAMAAAA7/w9sAAAAMFBMVEX///92dnYiIiIQEBBERERU\n",
       "VFS6urqIiIjc3NxmZmaqqqru7u6YmJgyMjLMzMwAAADiRdoGAAAAAXRSTlMAQObYZgAAAXRJREFU\n",
       "KM9jYACBtwyo4Oj/yKkuCWiCDDzxX2eGuEE596H0bpisCQMD5z+odiUlJT0Ik9mBgWH+A4j2+xtA\n",
       "FJuTiwrEaL4/QN5PMLNXAmHN+wMMDPkTwMxd8xtAlEgDA18kWID9B9Cc72DmDSSX1QOVnS8AMw/U\n",
       "gwznAelnXQASYDFgYNisDWJxLkDS4szAwG0EcdCG9QdA6kAcDgeQCH8AA58qWI4J2f9fGRgeRYNZ\n",
       "2xjeF8BlFcCOjjnuBDG+FUkH39czJVoQZgJD/wRULUBHc5uCuVuQtIB8uDkArDlyZrwDqhZnkLYF\n",
       "6A4D+ZD9F9grwAC/gKrlK0gLOGgYCxBagD5kYAeHI9A0JgMULaBoYYiHRNEt1Ghh/QYKI6AW3g8o\n",
       "WkCO5vsCUbc1bANytLwHeaEJ5MofKFp4gZYme0MVPnSCJZjLQE+YAA3Y8v82A5f/pwlIWljvA5Of\n",
       "F3qiZIgFpdUFqAkVkhIYBgAwKikhEj8EAAAHBWATD/FFlQAAAABJRU5ErkJggg==\n",
       "\" style=\"display:inline;vertical-align:middle;\" /></a><br>"
      ],
      "text/plain": [
       "A_intersect_B_subset_of_B: A intersect B subset_eq B"
      ]
     },
     "execution_count": 11,
     "metadata": {},
     "output_type": "execute_result"
    }
   ],
   "source": [
    "# define a subset expression\n",
    "A_intersect_B_subset_of_B = SubsetEq(Intersect(A, B), B)"
   ]
  },
  {
   "cell_type": "markdown",
   "metadata": {},
   "source": [
    "<font size=3>We can look at the construction of such an expression by calling <font style=\"font-family:courier\">expr_info()</font> to see the tabular representation of the expression's underlying directed acyclic graph (DAG) representation:</font>"
   ]
  },
  {
   "cell_type": "code",
   "execution_count": 12,
   "metadata": {},
   "outputs": [
    {
     "data": {
      "text/html": [
       "<table><tr><th>&nbsp;</th><th>core type</th><th>sub-expressions</th><th>expression</th></tr>\n",
       "<tr><td>0</td><td>Operation</td><td>operator:&nbsp;1<br>operands:&nbsp;2<br></td><td><a class=\"ProveItLink\" href=\"../__pv_it/demonstrations/41c613418a36a301198ea322d706c96a846900370/expr.ipynb\"><img src=\"data:image/png;base64,iVBORw0KGgoAAAANSUhEUgAAAGMAAAARBAMAAAA7/w9sAAAAMFBMVEX///92dnYiIiIQEBBERERU\n",
       "VFS6urqIiIjc3NxmZmaqqqru7u6YmJgyMjLMzMwAAADiRdoGAAAAAXRSTlMAQObYZgAAAXRJREFU\n",
       "KM9jYACBtwyo4Oj/yKkuCWiCDDzxX2eGuEE596H0bpisCQMD5z+odiUlJT0Ik9mBgWH+A4j2+xtA\n",
       "FJuTiwrEaL4/QN5PMLNXAmHN+wMMDPkTwMxd8xtAlEgDA18kWID9B9Cc72DmDSSX1QOVnS8AMw/U\n",
       "gwznAelnXQASYDFgYNisDWJxLkDS4szAwG0EcdCG9QdA6kAcDgeQCH8AA58qWI4J2f9fGRgeRYNZ\n",
       "2xjeF8BlFcCOjjnuBDG+FUkH39czJVoQZgJD/wRULUBHc5uCuVuQtIB8uDkArDlyZrwDqhZnkLYF\n",
       "6A4D+ZD9F9grwAC/gKrlK0gLOGgYCxBagD5kYAeHI9A0JgMULaBoYYiHRNEt1Ghh/QYKI6AW3g8o\n",
       "WkCO5vsCUbc1bANytLwHeaEJ5MofKFp4gZYme0MVPnSCJZjLQE+YAA3Y8v82A5f/pwlIWljvA5Of\n",
       "F3qiZIgFpdUFqAkVkhIYBgAwKikhEj8EAAAHBWATD/FFlQAAAABJRU5ErkJggg==\n",
       "\" style=\"display:inline;vertical-align:middle;\" /></a></td></tr>\n",
       "<tr><td>1</td><td>Literal</td><td></td><td><a class=\"ProveItLink\" href=\"../__pv_it/common/af21bfd7d93759eac7fe399a50aaac31ae45d8cf0/expr.ipynb\"><img src=\"data:image/png;base64,iVBORw0KGgoAAAANSUhEUgAAAA4AAAAQBAMAAADUulMJAAAALVBMVEX///+6urqIiIhERETu7u6q\n",
       "qqpmZmZ2dnYyMjLc3NzMzMwiIiJUVFSYmJgAAAA3GxFCAAAAAXRSTlMAQObYZgAAAD5JREFUCNdj\n",
       "YGC4s3v37l0MDDMqGcCgE0KxBUBobgjFMAdKOzOgirMrQBmtUNrnoAOEsdwabC4OwL4bBHYBANdZ\n",
       "ECDi+TJmAAAAAElFTkSuQmCC\n",
       "\" style=\"display:inline;vertical-align:middle;\" /></a></td></tr>\n",
       "<tr><td>2</td><td>ExprTuple</td><td>3, 7</td><td><a class=\"ProveItLink\" href=\"../__pv_it/demonstrations/52aee1d535c669cc2c0878620293362fc54231a90/expr.ipynb\"><img src=\"data:image/png;base64,iVBORw0KGgoAAAANSUhEUgAAAF0AAAAUBAMAAAAdCCxUAAAAMFBMVEX///9UVFTMzMx2dna6uroQ\n",
       "EBCqqqqIiIgiIiJmZmYyMjJERETu7u6YmJjc3NwAAAC+aOQFAAAAAXRSTlMAQObYZgAAAX1JREFU\n",
       "KM+Vk78vQ1EUx7+tp62+tqxF0o5iaTcRS0ebDgaJxR8gdBVDO1kYntHUt9hE30AiafAGFQmJ/gPo\n",
       "aNMmgql1zv3BvZIKd7jvfc793F/nnQdk2vhr2+DuVr7P/hhL53oHUyc2RDr0fixDDTV0pyeMBkA9\n",
       "b0HKp6meXKER8sM5a+6WpFKgcy55sGAOSHRE4LoungsdRLNSqVLgqQILWsCzDLSrvKzYLLImIqdA\n",
       "aiVUvoJkCVuCnXCT0+TyeCYQoR4wM60vo2DEw7ngKxR464SAGnfR3sP2jtY1pH3IWAkvnu3H+0Br\n",
       "QvkaYjUsi/nZg1xg+26ZtDfla4h2pe9Qhn3bH6fl4u/K10C+OA9lJFG2fc545NVIP4NTE/fNkJ/s\n",
       "2j5nvBAY6Weg+85DfgO3b/uHtNpqiHvfAIwVsUgVNzhC7PLDM/3JQXa/ycfcMwDJvK4HVYfyW5t1\n",
       "um7CzVe9DW1FE6jecPGrnqqY4H//L0Na2gSXz/6P//ER+AQQvXU46iXh6QAAAABJRU5ErkJggg==\n",
       "\" style=\"display:inline;vertical-align:middle;\" /></a></td></tr>\n",
       "<tr><td>3</td><td>Operation</td><td>operator:&nbsp;4<br>operands:&nbsp;5<br></td><td><a class=\"ProveItLink\" href=\"../__pv_it/demonstrations/fea04695d0f8e4820ac8880b66c4c2f37aa7fff50/expr.ipynb\"><img src=\"data:image/png;base64,iVBORw0KGgoAAAANSUhEUgAAADcAAAAPBAMAAACy3Eq1AAAAMFBMVEX///92dnYiIiIQEBBERERU\n",
       "VFS6urqIiIjc3NxmZmaqqqru7u6YmJgyMjLMzMwAAADiRdoGAAAAAXRSTlMAQObYZgAAAOdJREFU\n",
       "GNNjYACBtwyogCf+68wQNyjnPpTeDZNldmBgmP8AovD+BhDF5uSikgCRfH+AgSF/Api5a34DiBJp\n",
       "YOCLhEjWAwXOF4CZB+pBGnhAKlkXgEWcGRi4jSDGbVgPNIWBBcThcABLfmVgeBQNZm1jeA8ygQnM\n",
       "UQARfF/PlGhBLEhg6J+AKsn+g4FhcwBYWeTMeAdUSRYDoIJfYCuB3rqAKskP1MX+HcQCuo/JAFUS\n",
       "5E3WbyD3ASV5P6BKgrz5HmRVE8iOH6iSl4GWmQB9tuX/bQYu/08TkCVj/0dOdVmAGhWQ0EISAQAy\n",
       "/Du16EDOeQAAAABJRU5ErkJggg==\n",
       "\" style=\"display:inline;vertical-align:middle;\" /></a></td></tr>\n",
       "<tr><td>4</td><td>Literal</td><td></td><td><a class=\"ProveItLink\" href=\"../../intersection/__pv_it/common/718e30c398d699c56b1af99739a377f200f9d3cd0/expr.ipynb\"><img src=\"data:image/png;base64,iVBORw0KGgoAAAANSUhEUgAAAAwAAAAOBAMAAADpk+DfAAAAJ1BMVEX///+qqqqYmJhmZmZUVFTM\n",
       "zMzc3Nx2dnYiIiJERES6urru7u4AAAAeXC/DAAAAAXRSTlMAQObYZgAAADBJREFUCNdjYGDg3sAA\n",
       "BCs7Z8xiYGCfxsAQYsCgDBJxZJgNojIZGkAUB+mUAohiAgBwowoLBPINVwAAAABJRU5ErkJggg==\n",
       "\" style=\"display:inline;vertical-align:middle;\" /></a></td></tr>\n",
       "<tr><td>5</td><td>ExprTuple</td><td>6, 7</td><td><a class=\"ProveItLink\" href=\"../__pv_it/theorems/8168c562b942d2349bc15878d637d47dc90786870/expr.ipynb\"><img src=\"data:image/png;base64,iVBORw0KGgoAAAANSUhEUgAAADUAAAAUBAMAAADfOGjQAAAAMFBMVEX///9UVFTMzMx2dna6uroQ\n",
       "EBCqqqqIiIgiIiJmZmYyMjJERETu7u6YmJjc3NwAAAC+aOQFAAAAAXRSTlMAQObYZgAAATdJREFU\n",
       "KM91kq9Pw0AUx79jo4O2DOyAZJMEUxzBVeKYQJBg+AvGLEFsakEecmo1OMIqQBGgYgMSzP4BoBLH\n",
       "mixAEBvv3vXKCTjRvPf9vHf3fhQoDfHXqcvPk7LXtbhQSTorl8jFZF8oqZdlzIZAt+oGFCZUdC/S\n",
       "zKNHdgQ2gbmYhfturFmTrNcGBsCbEoZNX7MrwN2LYPs4Yr8QHWblJsDaKpAXuGG/D6+Ropnk+bgt\n",
       "KwjQZsHHu0hZcQIMlgCrhV2OLXcqYcqcGvEP0kaKFairIGWLlFP8ZMZ3HlAvNaO93JjiW1xLiZg9\n",
       "MtrzQq5lC6pHZwL3W7IzStmnIc1vYJumPT2HdfclcELS8rR8ek33wK7qmfGxImNJj9ms+eTNBdKs\n",
       "cfvrPhhI7kjvlgduMEe+9c8/8QL8AG6DT0/USQHQAAAAAElFTkSuQmCC\n",
       "\" style=\"display:inline;vertical-align:middle;\" /></a></td></tr>\n",
       "<tr><td>6</td><td>Variable</td><td></td><td><a class=\"ProveItLink\" href=\"../../../../__pv_it/common/09585084922504426caf1db2ff588a23a0932a960/expr.ipynb\"><img src=\"data:image/png;base64,iVBORw0KGgoAAAANSUhEUgAAAA8AAAAOBAMAAAACpFvcAAAALVBMVEX///8iIiIQEBBERERUVFS6\n",
       "urqIiIjc3NxmZmaqqqru7u6YmJgyMjLMzMwAAACK9jtgAAAAAXRSTlMAQObYZgAAAFtJREFUCNdj\n",
       "YACBOwxQcA5Kc59bAGGs7CuAMDbkBYBp1gXzNoAZSxnuJYAZAQx1DSCa16PDzwCshIGB6QCIMYGB\n",
       "gVEBSLMDGTwPgIxCIGZ+zsCw+N0pBk67hw0AfpEVEQi8t+wAAAAASUVORK5CYII=\n",
       "\" style=\"display:inline;vertical-align:middle;\" /></a></td></tr>\n",
       "<tr><td>7</td><td>Variable</td><td></td><td><a class=\"ProveItLink\" href=\"../../../../__pv_it/common/a9162d1c3cc0470c02e5daf414500903a7a419230/expr.ipynb\"><img src=\"data:image/png;base64,iVBORw0KGgoAAAANSUhEUgAAABAAAAAOBAMAAADUAYG5AAAALVBMVEX///8yMjKqqqoiIiLu7u7c\n",
       "3NyIiIjMzMwQEBC6urpERERmZmZUVFSYmJgAAACsPVCVAAAAAXRSTlMAQObYZgAAAGxJREFUCNdj\n",
       "YGC48+70nlUTGICgi4GB+zmQZn/LwMD5Gshge8rAwPsMyOBqYGDwMAEy+A4wsNs4ABl1Z68tVgBp\n",
       "ygtgYOkBMVaAOCChNyBGAsQYhnMTIMawvwJyGIHGzFjCwMAj92b3qUUMDAAXABxvZ4rl5AAAAABJ\n",
       "RU5ErkJggg==\n",
       "\" style=\"display:inline;vertical-align:middle;\" /></a></td></tr>\n",
       "</table>\n"
      ],
      "text/plain": [
       "0. A intersect B subset_eq B\n",
       "   core type: Operation\n",
       "   operator: 1\n",
       "   operands: 2\n",
       "1. subset_eq\n",
       "   core type: Literal\n",
       "   sub-expressions: \n",
       "2. (A intersect B, B)\n",
       "   core type: ExprTuple\n",
       "   sub-expressions: 3, 7\n",
       "3. A intersect B\n",
       "   core type: Operation\n",
       "   operator: 4\n",
       "   operands: 5\n",
       "4. intersect\n",
       "   core type: Literal\n",
       "   sub-expressions: \n",
       "5. (A, B)\n",
       "   core type: ExprTuple\n",
       "   sub-expressions: 6, 7\n",
       "6. A\n",
       "   core type: Variable\n",
       "   sub-expressions: \n",
       "7. B\n",
       "   core type: Variable\n",
       "   sub-expressions: "
      ]
     },
     "execution_count": 12,
     "metadata": {},
     "output_type": "execute_result"
    }
   ],
   "source": [
    "A_intersect_B_subset_of_B.expr_info()"
   ]
  },
  {
   "cell_type": "markdown",
   "metadata": {},
   "source": [
    "<font size=3>We can access the left-hand and right-hand sides of such expressions, as well as the specific operator:</font>"
   ]
  },
  {
   "cell_type": "code",
   "execution_count": 13,
   "metadata": {},
   "outputs": [
    {
     "data": {
      "text/html": [
       "<a class=\"ProveItLink\" href=\"../__pv_it/demonstrations/fea04695d0f8e4820ac8880b66c4c2f37aa7fff50/expr.ipynb\"><img src=\"data:image/png;base64,iVBORw0KGgoAAAANSUhEUgAAADcAAAAPBAMAAACy3Eq1AAAAMFBMVEX///92dnYiIiIQEBBERERU\n",
       "VFS6urqIiIjc3NxmZmaqqqru7u6YmJgyMjLMzMwAAADiRdoGAAAAAXRSTlMAQObYZgAAAOdJREFU\n",
       "GNNjYACBtwyogCf+68wQNyjnPpTeDZNldmBgmP8AovD+BhDF5uSikgCRfH+AgSF/Api5a34DiBJp\n",
       "YOCLhEjWAwXOF4CZB+pBGnhAKlkXgEWcGRi4jSDGbVgPNIWBBcThcABLfmVgeBQNZm1jeA8ygQnM\n",
       "UQARfF/PlGhBLEhg6J+AKsn+g4FhcwBYWeTMeAdUSRYDoIJfYCuB3rqAKskP1MX+HcQCuo/JAFUS\n",
       "5E3WbyD3ASV5P6BKgrz5HmRVE8iOH6iSl4GWmQB9tuX/bQYu/08TkCVj/0dOdVmAGhWQ0EISAQAy\n",
       "/Du16EDOeQAAAABJRU5ErkJggg==\n",
       "\" style=\"display:inline;vertical-align:middle;\" /></a>"
      ],
      "text/plain": [
       "A intersect B"
      ]
     },
     "execution_count": 13,
     "metadata": {},
     "output_type": "execute_result"
    }
   ],
   "source": [
    "A_intersect_B_subset_of_B.lhs"
   ]
  },
  {
   "cell_type": "code",
   "execution_count": 14,
   "metadata": {},
   "outputs": [
    {
     "data": {
      "text/html": [
       "<a class=\"ProveItLink\" href=\"../../../../__pv_it/common/a9162d1c3cc0470c02e5daf414500903a7a419230/expr.ipynb\"><img src=\"data:image/png;base64,iVBORw0KGgoAAAANSUhEUgAAABAAAAAOBAMAAADUAYG5AAAALVBMVEX///8yMjKqqqoiIiLu7u7c\n",
       "3NyIiIjMzMwQEBC6urpERERmZmZUVFSYmJgAAACsPVCVAAAAAXRSTlMAQObYZgAAAGxJREFUCNdj\n",
       "YGC48+70nlUTGICgi4GB+zmQZn/LwMD5Gshge8rAwPsMyOBqYGDwMAEy+A4wsNs4ABl1Z68tVgBp\n",
       "ygtgYOkBMVaAOCChNyBGAsQYhnMTIMawvwJyGIHGzFjCwMAj92b3qUUMDAAXABxvZ4rl5AAAAABJ\n",
       "RU5ErkJggg==\n",
       "\" style=\"display:inline;vertical-align:middle;\" /></a>"
      ],
      "text/plain": [
       "B"
      ]
     },
     "execution_count": 14,
     "metadata": {},
     "output_type": "execute_result"
    }
   ],
   "source": [
    "A_intersect_B_subset_of_B.rhs"
   ]
  },
  {
   "cell_type": "code",
   "execution_count": 15,
   "metadata": {},
   "outputs": [
    {
     "data": {
      "text/html": [
       "<a class=\"ProveItLink\" href=\"../__pv_it/common/af21bfd7d93759eac7fe399a50aaac31ae45d8cf0/expr.ipynb\"><img src=\"data:image/png;base64,iVBORw0KGgoAAAANSUhEUgAAAA4AAAAQBAMAAADUulMJAAAALVBMVEX///+6urqIiIhERETu7u6q\n",
       "qqpmZmZ2dnYyMjLc3NzMzMwiIiJUVFSYmJgAAAA3GxFCAAAAAXRSTlMAQObYZgAAAD5JREFUCNdj\n",
       "YGC4s3v37l0MDDMqGcCgE0KxBUBobgjFMAdKOzOgirMrQBmtUNrnoAOEsdwabC4OwL4bBHYBANdZ\n",
       "ECDi+TJmAAAAAElFTkSuQmCC\n",
       "\" style=\"display:inline;vertical-align:middle;\" /></a>"
      ],
      "text/plain": [
       "subset_eq"
      ]
     },
     "execution_count": 15,
     "metadata": {},
     "output_type": "execute_result"
    }
   ],
   "source": [
    "A_intersect_B_subset_of_B.operator"
   ]
  },
  {
   "cell_type": "markdown",
   "metadata": {},
   "source": [
    "<font size=3>We can get both sides of the expression simultaneously (the operands of the $\\subseteq$ operator) as a tuple of expressions. We can also get a list of the variables and a separate list of the *free* variables in the expression (of course, in this expression, all the variables are also free variables):</font>"
   ]
  },
  {
   "cell_type": "code",
   "execution_count": 16,
   "metadata": {},
   "outputs": [
    {
     "data": {
      "text/html": [
       "<a class=\"ProveItLink\" href=\"../__pv_it/demonstrations/52aee1d535c669cc2c0878620293362fc54231a90/expr.ipynb\"><img src=\"data:image/png;base64,iVBORw0KGgoAAAANSUhEUgAAAF0AAAAUBAMAAAAdCCxUAAAAMFBMVEX///9UVFTMzMx2dna6uroQ\n",
       "EBCqqqqIiIgiIiJmZmYyMjJERETu7u6YmJjc3NwAAAC+aOQFAAAAAXRSTlMAQObYZgAAAX1JREFU\n",
       "KM+Vk78vQ1EUx7+tp62+tqxF0o5iaTcRS0ebDgaJxR8gdBVDO1kYntHUt9hE30AiafAGFQmJ/gPo\n",
       "aNMmgql1zv3BvZIKd7jvfc793F/nnQdk2vhr2+DuVr7P/hhL53oHUyc2RDr0fixDDTV0pyeMBkA9\n",
       "b0HKp6meXKER8sM5a+6WpFKgcy55sGAOSHRE4LoungsdRLNSqVLgqQILWsCzDLSrvKzYLLImIqdA\n",
       "aiVUvoJkCVuCnXCT0+TyeCYQoR4wM60vo2DEw7ngKxR464SAGnfR3sP2jtY1pH3IWAkvnu3H+0Br\n",
       "QvkaYjUsi/nZg1xg+26ZtDfla4h2pe9Qhn3bH6fl4u/K10C+OA9lJFG2fc545NVIP4NTE/fNkJ/s\n",
       "2j5nvBAY6Weg+85DfgO3b/uHtNpqiHvfAIwVsUgVNzhC7PLDM/3JQXa/ycfcMwDJvK4HVYfyW5t1\n",
       "um7CzVe9DW1FE6jecPGrnqqY4H//L0Na2gSXz/6P//ER+AQQvXU46iXh6QAAAABJRU5ErkJggg==\n",
       "\" style=\"display:inline;vertical-align:middle;\" /></a>"
      ],
      "text/plain": [
       "(A intersect B, B)"
      ]
     },
     "execution_count": 16,
     "metadata": {},
     "output_type": "execute_result"
    }
   ],
   "source": [
    "A_intersect_B_subset_of_B.operands"
   ]
  },
  {
   "cell_type": "code",
   "execution_count": 17,
   "metadata": {},
   "outputs": [
    {
     "data": {
      "text/plain": [
       "{A, B}"
      ]
     },
     "execution_count": 17,
     "metadata": {},
     "output_type": "execute_result"
    }
   ],
   "source": [
    "used_vars(A_intersect_B_subset_of_B)"
   ]
  },
  {
   "cell_type": "code",
   "execution_count": 18,
   "metadata": {},
   "outputs": [
    {
     "data": {
      "text/plain": [
       "{A, B}"
      ]
     },
     "execution_count": 18,
     "metadata": {},
     "output_type": "execute_result"
    }
   ],
   "source": [
    "free_vars(A_intersect_B_subset_of_B, err_inclusively=True)"
   ]
  },
  {
   "cell_type": "markdown",
   "metadata": {},
   "source": [
    "<font size=3>By the way, notice that our expression $(A \\cap B) \\subseteq B$ is always true, and Prove-It can automatically prove this:</font>"
   ]
  },
  {
   "cell_type": "code",
   "execution_count": 19,
   "metadata": {},
   "outputs": [
    {
     "data": {
      "text/html": [
       "<strong id=\"A_intersect_B_subset_of_B_judgment\">A_intersect_B_subset_of_B_judgment:</strong> <span style=\"font-size:20px;\"> <a class=\"ProveItLink\" href=\"../__pv_it/demonstrations/c39dbf87d032d37c235f1341e42a6d69acd2609e0/proof.ipynb\" style=\"text-decoration: none\">&nbsp;&#x22A2;&nbsp;&nbsp;</a><a class=\"ProveItLink\" href=\"../__pv_it/demonstrations/41c613418a36a301198ea322d706c96a846900370/expr.ipynb\"><img src=\"data:image/png;base64,iVBORw0KGgoAAAANSUhEUgAAAGMAAAARBAMAAAA7/w9sAAAAMFBMVEX///92dnYiIiIQEBBERERU\n",
       "VFS6urqIiIjc3NxmZmaqqqru7u6YmJgyMjLMzMwAAADiRdoGAAAAAXRSTlMAQObYZgAAAXRJREFU\n",
       "KM9jYACBtwyo4Oj/yKkuCWiCDDzxX2eGuEE596H0bpisCQMD5z+odiUlJT0Ik9mBgWH+A4j2+xtA\n",
       "FJuTiwrEaL4/QN5PMLNXAmHN+wMMDPkTwMxd8xtAlEgDA18kWID9B9Cc72DmDSSX1QOVnS8AMw/U\n",
       "gwznAelnXQASYDFgYNisDWJxLkDS4szAwG0EcdCG9QdA6kAcDgeQCH8AA58qWI4J2f9fGRgeRYNZ\n",
       "2xjeF8BlFcCOjjnuBDG+FUkH39czJVoQZgJD/wRULUBHc5uCuVuQtIB8uDkArDlyZrwDqhZnkLYF\n",
       "6A4D+ZD9F9grwAC/gKrlK0gLOGgYCxBagD5kYAeHI9A0JgMULaBoYYiHRNEt1Ghh/QYKI6AW3g8o\n",
       "WkCO5vsCUbc1bANytLwHeaEJ5MofKFp4gZYme0MVPnSCJZjLQE+YAA3Y8v82A5f/pwlIWljvA5Of\n",
       "F3qiZIgFpdUFqAkVkhIYBgAwKikhEj8EAAAHBWATD/FFlQAAAABJRU5ErkJggg==\n",
       "\" style=\"display:inline;vertical-align:middle;\" /></a></span><br>"
      ],
      "text/plain": [
       "A_intersect_B_subset_of_B_judgment: |- A intersect B subset_eq B"
      ]
     },
     "execution_count": 19,
     "metadata": {},
     "output_type": "execute_result"
    }
   ],
   "source": [
    "A_intersect_B_subset_of_B_judgment = A_intersect_B_subset_of_B.prove()"
   ]
  },
  {
   "cell_type": "markdown",
   "metadata": {},
   "source": [
    "<font size=3>A peek at the proof shows that Prove-It has applied the ``fold_subset_eq`` theorem:<br>\n",
    "> $\\forall_{A,B} \\left([\\forall_{x\\in A}(x\\in B)] \\implies (A \\subseteq B)\\right)$<br>\n",
    "    \n",
    "by using a suitable instantiation to get something like this:<br>\n",
    "> $[\\forall_{x\\in A\\cap B}(x\\in B)] \\implies ((A\\cap B) \\subseteq B)$<br>\n",
    "\n",
    "See Line 3 in the proof below for the ``fold_subset_eq`` theorem, then Line 1 for the instantiation step.</font>"
   ]
  },
  {
   "cell_type": "code",
   "execution_count": 20,
   "metadata": {},
   "outputs": [
    {
     "data": {
      "text/html": [
       "<table><tr><th>&nbsp;</th><th>step type</th><th>requirements</th><th>statement</th></tr>\n",
       "<tr><td><a name=\"0x391178e3742312e_step0\">0</a></td><td>instantiation</td><td><a href=\"#0x391178e3742312e_step1\">1</a>, <a href=\"#0x391178e3742312e_step2\">2</a></td><td><span style=\"font-size:20px;\"> <a class=\"ProveItLink\" href=\"../__pv_it/demonstrations/c39dbf87d032d37c235f1341e42a6d69acd2609e0/proof.ipynb\" style=\"text-decoration: none\">&nbsp;&#x22A2;&nbsp;&nbsp;</a><a class=\"ProveItLink\" href=\"../__pv_it/demonstrations/41c613418a36a301198ea322d706c96a846900370/expr.ipynb\"><img src=\"data:image/png;base64,iVBORw0KGgoAAAANSUhEUgAAAGMAAAARBAMAAAA7/w9sAAAAMFBMVEX///92dnYiIiIQEBBERERU\n",
       "VFS6urqIiIjc3NxmZmaqqqru7u6YmJgyMjLMzMwAAADiRdoGAAAAAXRSTlMAQObYZgAAAXRJREFU\n",
       "KM9jYACBtwyo4Oj/yKkuCWiCDDzxX2eGuEE596H0bpisCQMD5z+odiUlJT0Ik9mBgWH+A4j2+xtA\n",
       "FJuTiwrEaL4/QN5PMLNXAmHN+wMMDPkTwMxd8xtAlEgDA18kWID9B9Cc72DmDSSX1QOVnS8AMw/U\n",
       "gwznAelnXQASYDFgYNisDWJxLkDS4szAwG0EcdCG9QdA6kAcDgeQCH8AA58qWI4J2f9fGRgeRYNZ\n",
       "2xjeF8BlFcCOjjnuBDG+FUkH39czJVoQZgJD/wRULUBHc5uCuVuQtIB8uDkArDlyZrwDqhZnkLYF\n",
       "6A4D+ZD9F9grwAC/gKrlK0gLOGgYCxBagD5kYAeHI9A0JgMULaBoYYiHRNEt1Ghh/QYKI6AW3g8o\n",
       "WkCO5vsCUbc1bANytLwHeaEJ5MofKFp4gZYme0MVPnSCJZjLQE+YAA3Y8v82A5f/pwlIWljvA5Of\n",
       "F3qiZIgFpdUFqAkVkhIYBgAwKikhEj8EAAAHBWATD/FFlQAAAABJRU5ErkJggg==\n",
       "\" style=\"display:inline;vertical-align:middle;\" /></a></span></td></tr>\n",
       "<tr><td>&nbsp;</td><td colspan=4 style=\"text-align:left\"><span style=\"font-size:20px;\"><a class=\"ProveItLink\" href=\"../../../../__pv_it/common/09585084922504426caf1db2ff588a23a0932a960/expr.ipynb\"><img src=\"data:image/png;base64,iVBORw0KGgoAAAANSUhEUgAAAA8AAAAOBAMAAAACpFvcAAAALVBMVEX///8iIiIQEBBERERUVFS6\n",
       "urqIiIjc3NxmZmaqqqru7u6YmJgyMjLMzMwAAACK9jtgAAAAAXRSTlMAQObYZgAAAFtJREFUCNdj\n",
       "YACBOwxQcA5Kc59bAGGs7CuAMDbkBYBp1gXzNoAZSxnuJYAZAQx1DSCa16PDzwCshIGB6QCIMYGB\n",
       "gVEBSLMDGTwPgIxCIGZ+zsCw+N0pBk67hw0AfpEVEQi8t+wAAAAASUVORK5CYII=\n",
       "\" style=\"display:inline;vertical-align:middle;\" /></a> : <a class=\"ProveItLink\" href=\"../__pv_it/demonstrations/fea04695d0f8e4820ac8880b66c4c2f37aa7fff50/expr.ipynb\"><img src=\"data:image/png;base64,iVBORw0KGgoAAAANSUhEUgAAADcAAAAPBAMAAACy3Eq1AAAAMFBMVEX///92dnYiIiIQEBBERERU\n",
       "VFS6urqIiIjc3NxmZmaqqqru7u6YmJgyMjLMzMwAAADiRdoGAAAAAXRSTlMAQObYZgAAAOdJREFU\n",
       "GNNjYACBtwyogCf+68wQNyjnPpTeDZNldmBgmP8AovD+BhDF5uSikgCRfH+AgSF/Api5a34DiBJp\n",
       "YOCLhEjWAwXOF4CZB+pBGnhAKlkXgEWcGRi4jSDGbVgPNIWBBcThcABLfmVgeBQNZm1jeA8ygQnM\n",
       "UQARfF/PlGhBLEhg6J+AKsn+g4FhcwBYWeTMeAdUSRYDoIJfYCuB3rqAKskP1MX+HcQCuo/JAFUS\n",
       "5E3WbyD3ASV5P6BKgrz5HmRVE8iOH6iSl4GWmQB9tuX/bQYu/08TkCVj/0dOdVmAGhWQ0EISAQAy\n",
       "/Du16EDOeQAAAABJRU5ErkJggg==\n",
       "\" style=\"display:inline;vertical-align:middle;\" /></a>, <a class=\"ProveItLink\" href=\"../../../../__pv_it/common/a9162d1c3cc0470c02e5daf414500903a7a419230/expr.ipynb\"><img src=\"data:image/png;base64,iVBORw0KGgoAAAANSUhEUgAAABAAAAAOBAMAAADUAYG5AAAALVBMVEX///8yMjKqqqoiIiLu7u7c\n",
       "3NyIiIjMzMwQEBC6urpERERmZmZUVFSYmJgAAACsPVCVAAAAAXRSTlMAQObYZgAAAGxJREFUCNdj\n",
       "YGC48+70nlUTGICgi4GB+zmQZn/LwMD5Gshge8rAwPsMyOBqYGDwMAEy+A4wsNs4ABl1Z68tVgBp\n",
       "ygtgYOkBMVaAOCChNyBGAsQYhnMTIMawvwJyGIHGzFjCwMAj92b3qUUMDAAXABxvZ4rl5AAAAABJ\n",
       "RU5ErkJggg==\n",
       "\" style=\"display:inline;vertical-align:middle;\" /></a> : <a class=\"ProveItLink\" href=\"../../../../__pv_it/common/a9162d1c3cc0470c02e5daf414500903a7a419230/expr.ipynb\"><img src=\"data:image/png;base64,iVBORw0KGgoAAAANSUhEUgAAABAAAAAOBAMAAADUAYG5AAAALVBMVEX///8yMjKqqqoiIiLu7u7c\n",
       "3NyIiIjMzMwQEBC6urpERERmZmZUVFSYmJgAAACsPVCVAAAAAXRSTlMAQObYZgAAAGxJREFUCNdj\n",
       "YGC48+70nlUTGICgi4GB+zmQZn/LwMD5Gshge8rAwPsMyOBqYGDwMAEy+A4wsNs4ABl1Z68tVgBp\n",
       "ygtgYOkBMVaAOCChNyBGAsQYhnMTIMawvwJyGIHGzFjCwMAj92b3qUUMDAAXABxvZ4rl5AAAAABJ\n",
       "RU5ErkJggg==\n",
       "\" style=\"display:inline;vertical-align:middle;\" /></a>, <a class=\"ProveItLink\" href=\"../../../../__pv_it/common/a0d9d672aa5e272d907247690c152cc2c6daafb70/expr.ipynb\"><img src=\"data:image/png;base64,iVBORw0KGgoAAAANSUhEUgAAAAsAAAAJBAMAAAAWSsseAAAALVBMVEX///9mZmaqqqrMzMxEREQy\n",
       "MjIiIiKYmJh2dna6urrc3NxUVFSIiIju7u4AAACJHQtQAAAAAXRSTlMAQObYZgAAAEJJREFUCNdj\n",
       "YLhzeuWJAwy8Dew5bAEMHBc43nIuYOBlYHFgAAG+A2DKzgBIMF04x8BzgWGegh/DcgaG22fuiBcw\n",
       "AAATyhBrnyPYZQAAAABJRU5ErkJggg==\n",
       "\" style=\"display:inline;vertical-align:middle;\" /></a> : <a class=\"ProveItLink\" href=\"../../../../core_expr_types/__pv_it/common/006c465e50948aa2b52285e2de47974f741255cc0/expr.ipynb\"><img src=\"data:image/png;base64,iVBORw0KGgoAAAANSUhEUgAAABgAAAAJBAMAAADa0/H1AAAAMFBMVEX///9UVFSqqqrMzMwiIiKY\n",
       "mJgyMjIQEBCIiIh2dnZmZmbc3Nzu7u5ERES6uroAAACFTSmKAAAAAXRSTlMAQObYZgAAAElJREFU\n",
       "CNdjYICCXbPaD8DYfNUM+TA2w/EAhrVwzvoDDB5wTi0Dz2cYm+cnA9MHOOcTA2OCNox3gyFEYALD\n",
       "27tAcIDhYIe1xAMAoVgVdfU81nAAAAAASUVORK5CYII=\n",
       "\" style=\"display:inline;vertical-align:middle;\" /></a></span></td></tr><tr><td><a name=\"0x391178e3742312e_step1\">1</a></td><td>theorem</td><td></td><td><span style=\"font-size:20px;\"> <a class=\"ProveItLink\" href=\"proofs/fold_subset_eq/thm_proof.ipynb\" style=\"text-decoration: none\">&nbsp;&#x22A2;&nbsp;&nbsp;</a><a class=\"ProveItLink\" href=\"../__pv_it/theorems/c94e209c48dc8ea1a5a2ea86421bc73f149fb1200/expr.ipynb\"><img src=\"data:image/png;base64,iVBORw0KGgoAAAANSUhEUgAAAO8AAAAWBAMAAADaw9ZbAAAAMFBMVEX///8QEBCIiIhmZma6urrM\n",
       "zMxUVFQiIiJERETc3Nzu7u6qqqp2dnaYmJgyMjIAAAAcRTyBAAAAAXRSTlMAQObYZgAAA4VJREFU\n",
       "SMe1VltIFFEY/prd1Z3Z2dW3AiP2qSKyhM3tRWohEOmC+5Q9VC5kYD6YJbFFRUZSYwW7vVQQ5YhQ\n",
       "4YtGEQlCthWSRWwXoqhso6eKSLREjbL/nDOzM3vJLmwH5vzzn9v3z3e+/5wB/kc5/5v+fnpS7OV1\n",
       "YXGVNm5cqZwe786JQGM7iuLAfeZ/KCywLy7MqOE/i0aje8TrHIppdVihkM6SJ7cVFviJMCPTwl64\n",
       "Z3XVJ4HaCiQoLB1Q+woLvE8QfnVKuO9tXcuJjDd+dBHrwz09ZwqLK7eI/ZS+cOuwf9ZhCmiuDl8I\n",
       "mNS0A/+wejynJWy+SBXcrPV857bYPmgCqGsijmnIdqCDt4m6Zvx2I1/UOSuuanecsapgB66ZrjvJ\n",
       "mQ65xrh72jbSNfF68X7GBqlrDRQue68gxlsKtZRP5zSRAoryAe/I8B4Bt+AwSSjuE4HL49y9bBso\n",
       "0bZ3RQBPC2NC4hF2C2IcEXim08CuwcyI05EPmik7EKDZQeCmrkSMtjkhVm8MBCdzqHbTN0nfaD5l\n",
       "mpoUPcOtYpgfjlQaGJRolXmAi8wNfd7fQ/VuYJWlXgFM1QKxK35rXgkFJ40JYDm1kX+DX+NdvWEs\n",
       "0y3gEU3Ll+Qs1kTlwrCT60j5ConOoHI71R56dgn/Y2YaF9GeOpnwOxr4N2Al76otXywocxu1NyPJ\n",
       "B4ShBJT05uKQT4hr7PFRMtft4jpHz2fhX2zQ7Wlc3ybEhas87V5iOe96CCyyAathd8YpvFfYGqII\n",
       "n0gYYlAKUgtvFG6FkcsxQ26bj5lH5luKch6F4WAaKWF7oLx7EONxnQQ6+yxgJbLeON4DAbbmFeFV\n",
       "s4oUWqdpmh/uQcikmK1mdrVAif3QcWOmNWuHmme2BTW2uo9pxKuLvOnkgqEFauMWMJqaIC8tj+Au\n",
       "99b1CtY2MVWMuoxUK+mDc8qIxjoyZyuX0m8baHpSPg55GvJ8G9WopvRytg0qQpoVQrFsYqeaUmkn\n",
       "mNep4xRx9yrrkpilJNL5NQk5dtBVhqHxQGPIDlxMS0t+OI8wqtWqoaRo1XHxaWIYOMH4PxQItpNd\n",
       "kV4t4zxVo1HrWjSkkn1Te+y5bs10h5MKPzG2cOGwE8iUusT22CiprB+BXxd3PM8vSS6w43EijDsM\n",
       "pQwXymAeLNnFk/zjX58X2Q3JvMA2Vds1kV26C3SrOmbt9eRei0v+avmf/xbZW+4CTAIAAAAASUVO\n",
       "RK5CYII=\n",
       "\" style=\"display:inline;vertical-align:middle;\" /></a></span></td></tr>\n",
       "<tr><td>&nbsp;</td><td colspan=4 style-\"text-align:left\"><a class=\"ProveItLink\" href=\"proofs/fold_subset_eq/thm_proof.ipynb\">proveit.logic.sets.inclusion.fold_subset_eq</a></td></tr><tr><td><a name=\"0x391178e3742312e_step2\">2</a></td><td>generalizaton</td><td><a href=\"#0x391178e3742312e_step3\">3</a></td><td><span style=\"font-size:20px;\"> <a class=\"ProveItLink\" href=\"../__pv_it/demonstrations/c48e82fedf1d61a1fb45b50e31e687fe599bf2810/proof.ipynb\" style=\"text-decoration: none\">&nbsp;&#x22A2;&nbsp;&nbsp;</a><a class=\"ProveItLink\" href=\"../__pv_it/demonstrations/a833ac28647cf3d21768bb3d376a66cd77ce744c0/expr.ipynb\"><img src=\"data:image/png;base64,iVBORw0KGgoAAAANSUhEUgAAAK0AAAAUBAMAAAANRKDNAAAAMFBMVEX///8QEBCIiIhmZma6urrM\n",
       "zMxUVFQiIiJERETc3Nzu7u6qqqp2dnaYmJgyMjIAAAAcRTyBAAAAAXRSTlMAQObYZgAAAnZJREFU\n",
       "OMu1VU1oE0EU/rqb302y7UFQRGHBvyJogwv1oGLFgx4siRfrLaEqBA81UDSHKkQouP6U7kl765ZA\n",
       "lXhI0FNBsLQHoYrk6A/FiHjQg4iVUCOibzK7kyZZ4npwYNiXeW++ee/73kyAfxzhyt9jFmhWmbHq\n",
       "HfdBN2fsUk3PTCJgAs/Z78/ecT919fbkgaNJhZKdYbXlPcPG4l3dKWIpEccSoFpAtOwZN2i6LL7K\n",
       "5arcGiD3Ow1zlMBKsXjPOw1uoWf3CvM6oGy2oA4B64Zx1Tvujg2dcfjAVvZVNqhTA0YuEgHE1gXg\n",
       "piuEWD25tpxxyp9q+o+Z6lf2DTSp8ddW+yeYCkTLcShVV4W+C6sP0T7bnhB+ZTvkht6h5h7pBzCX\n",
       "BiJZUgJSa6srT3S2UPhF/sEjZMlpROq2c5MIk+sIasw4/YUGTy1Ex0s/KW8qJFoJtqm7UGSflXEo\n",
       "U9ZDYoO2y9UOXGrVUpIZM82tvZSr9I3jhqtnxHph90f4eIf6NQMyMTcPtn2/1cFDaRFP+QGt7Rsg\n",
       "/nxZps95wcBlfx0qtwM42GCOZmJffxodupXKGIswyWRNrLH2TeW5bnicFZTF/VkUuP0WAw7uS2CP\n",
       "E7IsMEJa7Eq0rYb3lOoWKk1eZKSI83rKUhojhmFoUD68mLZs3DvArHMjT9BOCjBuQRnddXdnY21+\n",
       "0mZp7Pe5QYNFqoz4mCVKM0NvrABP3cJs0sYlgRNmt3t86kautVXvt71GZmoY0YbIw1RHheOG6whv\n",
       "8/ju2GNJKKbr+iH4Rh9Rv95maOsIT1/juM/W9MxQ5y3sMtwvmsT45X57en7XHUlN4H/8D70G/gCz\n",
       "G5op24hJmgAAAABJRU5ErkJggg==\n",
       "\" style=\"display:inline;vertical-align:middle;\" /></a></span></td></tr>\n",
       "<tr><td><a name=\"0x391178e3742312e_step3\">3</a></td><td>instantiation</td><td><a href=\"#0x391178e3742312e_step4\">4</a>, <a href=\"#0x391178e3742312e_step5\">5</a></td><td><span style=\"font-size:20px;\"><a class=\"ProveItLink\" href=\"../__pv_it/demonstrations/4d1da70de4e887f44adb57886eba1a2cb36192a50/expr.ipynb\"><img src=\"data:image/png;base64,iVBORw0KGgoAAAANSUhEUgAAAHcAAAAUBAMAAABFd79NAAAAMFBMVEX///9UVFSqqqrMzMwiIiKY\n",
       "mJgyMjIQEBCIiIh2dnZmZmbc3Nzu7u5ERES6uroAAACFTSmKAAAAAXRSTlMAQObYZgAAAblJREFU\n",
       "OMtjYMANtjLgA9p4ZXkugCnmBDTxwP9SC+8+YGDcgE8zG0SW7QPUrAMwiVoGBq7PDDwJ+DRHQaiw\n",
       "P2Dqre+VexAB5q8MDHy/GBhmYNET6+ICMdMbYqHWbxDFeZuBwXABWIQDKMD6g4HhOKZe2x4og9sB\n",
       "TLFy/IM7QwgswlsA1OgD9M8DuKZds9pBnuLJgQlwQOx5w/QVRN0BEXvBIvwCDMyOQLWcC2BK+aoZ\n",
       "8kE0Igx5A8CufsD8A0SDncEClrAXjbiiAHITPMSOBzCsBWuBO4VFAWwoA/cvNM39Gxh4CoE0kwNM\n",
       "6foDDB4g2jwNCMBGsoO9ZLhq4V80zddBBgBNZv6AiDuezwhvITQDiTI0zR9BmhuQNPP8ZGACs9lR\n",
       "nc0ExO6omkHRzCAPNJQP5myeTwyMCaDUytWAEmCbgDgfVTMompn/ogTYDYYQgQkghhNMBBQT4Li+\n",
       "vwFFMxswmp+DYo5rAsPbu0BwgOFgh7UE2JMH70HTMNBVPPe/HWDQ/e+FrJkx/+Mq2UtgUwwwk9jL\n",
       "KyjJEwrAkc6KovAIERkDJ5iBT5J3A/7snkBEYUCm2fiLoWgGBgD2SXHQAhjvcgAAAABJRU5ErkJg\n",
       "gg==\n",
       "\" style=\"display:inline;vertical-align:middle;\" /></a> <a class=\"ProveItLink\" href=\"../__pv_it/demonstrations/3151d7c23d3516c4d66ce49ee8246828b109c2150/proof.ipynb\" style=\"text-decoration: none\">&nbsp;&#x22A2;&nbsp;&nbsp;</a><a class=\"ProveItLink\" href=\"../__pv_it/demonstrations/9fdac702474219dd137e5ae05e3b282de15c893c0/expr.ipynb\"><img src=\"data:image/png;base64,iVBORw0KGgoAAAANSUhEUgAAAEEAAAAPBAMAAABJi79qAAAAMFBMVEX///9UVFSqqqrMzMwiIiKY\n",
       "mJgyMjIQEBCIiIh2dnZmZmbc3Nzu7u5ERES6uroAAACFTSmKAAAAAXRSTlMAQObYZgAAAOBJREFU\n",
       "GNNjYMAJWOU/rpK9x4APsF9gYFhvgE+FfQADw/sFWAy/4uIGYfVvYGCIb8BQwHzjAIx5nYGBpwTO\n",
       "Y9g1qx3MOYYQ+sjAYCID5/FVM+SDGdII0z6G9johDD8ewLAWzLgAF+L4DRQWgHPXH2DwAGssSwMC\n",
       "sBBvAVDVJ7iKWgaezyCaG2EGP1A/xw8Yj+cnA9MHMKsAJTgY/8FVfGJgTNAGsVbAVYCCwx5h5A2G\n",
       "EIEJIAaLAkwoHejDWqDf394FggMMBzusJR6ATZN9A1Eg9l9q4V0FbLHBNxcW6hAAAIksPD1BUp5n\n",
       "AAAAAElFTkSuQmCC\n",
       "\" style=\"display:inline;vertical-align:middle;\" /></a></span></td></tr>\n",
       "<tr><td>&nbsp;</td><td colspan=4 style=\"text-align:left\"><span style=\"font-size:20px;\"><a class=\"ProveItLink\" href=\"../../../../__pv_it/common/09585084922504426caf1db2ff588a23a0932a960/expr.ipynb\"><img src=\"data:image/png;base64,iVBORw0KGgoAAAANSUhEUgAAAA8AAAAOBAMAAAACpFvcAAAALVBMVEX///8iIiIQEBBERERUVFS6\n",
       "urqIiIjc3NxmZmaqqqru7u6YmJgyMjLMzMwAAACK9jtgAAAAAXRSTlMAQObYZgAAAFtJREFUCNdj\n",
       "YACBOwxQcA5Kc59bAGGs7CuAMDbkBYBp1gXzNoAZSxnuJYAZAQx1DSCa16PDzwCshIGB6QCIMYGB\n",
       "gVEBSLMDGTwPgIxCIGZ+zsCw+N0pBk67hw0AfpEVEQi8t+wAAAAASUVORK5CYII=\n",
       "\" style=\"display:inline;vertical-align:middle;\" /></a> : <a class=\"ProveItLink\" href=\"../__pv_it/demonstrations/eafe3bd99992ce5e50a8f4fea6f74280efdcaadd0/expr.ipynb\"><img src=\"data:image/png;base64,iVBORw0KGgoAAAANSUhEUgAAAEAAAAAPBAMAAACmSdRUAAAAMFBMVEX///9UVFSqqqrMzMwiIiKY\n",
       "mJgyMjIQEBCIiIh2dnZmZmbc3Nzu7u5ERES6uroAAACFTSmKAAAAAXRSTlMAQObYZgAAAMtJREFU\n",
       "GNNjYMAHmBMY8AO2DwQUhP3BIhjr4gIzmEfrN6a8bQ+CzcrxD8HZNav9AEhTDpLiN0xf4Wy+aoZ8\n",
       "EM24ASHP84D5B5xzPIBhLYjmRTKAj4H7F5yz/gCDB4g2TwMCqCMNVy38C1dQy8DzGUTvRTLhAQND\n",
       "Gdy6nwxM4EBhR8gzAbE7XMEnBsYEbSCDqwGuYBMQ58N5NxhCBCaAGE4wEW4HIHF/A8Pbu0BwgOFg\n",
       "h7XEA5D4wXsHIGbe/3aAQfe/F2ZQvrzighyHALl0NiaDfO06AAAAAElFTkSuQmCC\n",
       "\" style=\"display:inline;vertical-align:middle;\" /></a>, <a class=\"ProveItLink\" href=\"../../../../__pv_it/common/a9162d1c3cc0470c02e5daf414500903a7a419230/expr.ipynb\"><img src=\"data:image/png;base64,iVBORw0KGgoAAAANSUhEUgAAABAAAAAOBAMAAADUAYG5AAAALVBMVEX///8yMjKqqqoiIiLu7u7c\n",
       "3NyIiIjMzMwQEBC6urpERERmZmZUVFSYmJgAAACsPVCVAAAAAXRSTlMAQObYZgAAAGxJREFUCNdj\n",
       "YGC48+70nlUTGICgi4GB+zmQZn/LwMD5Gshge8rAwPsMyOBqYGDwMAEy+A4wsNs4ABl1Z68tVgBp\n",
       "ygtgYOkBMVaAOCChNyBGAsQYhnMTIMawvwJyGIHGzFjCwMAj92b3qUUMDAAXABxvZ4rl5AAAAABJ\n",
       "RU5ErkJggg==\n",
       "\" style=\"display:inline;vertical-align:middle;\" /></a> : <a class=\"ProveItLink\" href=\"../__pv_it/demonstrations/9fdac702474219dd137e5ae05e3b282de15c893c0/expr.ipynb\"><img src=\"data:image/png;base64,iVBORw0KGgoAAAANSUhEUgAAAEEAAAAPBAMAAABJi79qAAAAMFBMVEX///9UVFSqqqrMzMwiIiKY\n",
       "mJgyMjIQEBCIiIh2dnZmZmbc3Nzu7u5ERES6uroAAACFTSmKAAAAAXRSTlMAQObYZgAAAOBJREFU\n",
       "GNNjYMAJWOU/rpK9x4APsF9gYFhvgE+FfQADw/sFWAy/4uIGYfVvYGCIb8BQwHzjAIx5nYGBpwTO\n",
       "Y9g1qx3MOYYQ+sjAYCID5/FVM+SDGdII0z6G9johDD8ewLAWzLgAF+L4DRQWgHPXH2DwAGssSwMC\n",
       "sBBvAVDVJ7iKWgaezyCaG2EGP1A/xw8Yj+cnA9MHMKsAJTgY/8FVfGJgTNAGsVbAVYCCwx5h5A2G\n",
       "EIEJIAaLAkwoHejDWqDf394FggMMBzusJR6ATZN9A1Eg9l9q4V0FbLHBNxcW6hAAAIksPD1BUp5n\n",
       "AAAAAElFTkSuQmCC\n",
       "\" style=\"display:inline;vertical-align:middle;\" /></a></span></td></tr><tr><td><a name=\"0x391178e3742312e_step4\">4</a></td><td>theorem</td><td></td><td><span style=\"font-size:20px;\"> <a class=\"ProveItLink\" href=\"../../../booleans/conjunction/_theory_nbs_/proofs/right_from_and/thm_proof.ipynb\" style=\"text-decoration: none\">&nbsp;&#x22A2;&nbsp;&nbsp;</a><a class=\"ProveItLink\" href=\"../../../booleans/conjunction/__pv_it/theorems/99b60132ced78c3acf3bbddedfbd9ec829eab93e0/expr.ipynb\"><img src=\"data:image/png;base64,iVBORw0KGgoAAAANSUhEUgAAAHMAAAAWBAMAAAABVL48AAAAMFBMVEX///8QEBCIiIhmZma6urrM\n",
       "zMxUVFQiIiJERETc3Nzu7u6qqqp2dnaYmJgyMjIAAAAcRTyBAAAAAXRSTlMAQObYZgAAAYZJREFU\n",
       "OMudkz9Iw0AUxj8T+ydtYrsp6JDNLlqhoKOCi4u0k44NqFAcVHBUoYJDKkK76daKWxcLTp0dhCqS\n",
       "XYoVN0crpVZE7y6UHjlDOd/w7t3v7rt3914C/N9a1DWlJMZuJ5U7Ae7p5E0u3UgeWMzggoRaXk6a\n",
       "dYD0HMYqgF6TkyZLwLMJo1GtnkvW5xiIjJOUXds+lJR2gPVtMm4BBQZcv9K+zZVoMNrf6OFAoNNM\n",
       "HNBgGRHWIOPDrXwcepwG4X4rPBxQPoFLiwQhKA4FV9+MqxaiPV7q5WSFHKF8kUB3Qgw09tkQMqG2\n",
       "eKmXAzGSUXmnTW2tsQeYNuPXGcxWOKnA3bYG2TMKm9QHscB4eiZhgZMK3G1rln1FN3vUPyHJ+CMw\n",
       "zUsFDryQ8k+wG8RM4iKvD0U2OwPKtYFU5Nj52Zi33dCgS2oF5QydkcqlSwOpyAVbJdkd7RRaD9oU\n",
       "d2GRey3chVY8Ckzirp3KLQ2kf3Afi/Kn+XAfq/tI68Oljo/Ukfuz1GEbfgEUVW+4LH+JngAAAABJ\n",
       "RU5ErkJggg==\n",
       "\" style=\"display:inline;vertical-align:middle;\" /></a></span></td></tr>\n",
       "<tr><td>&nbsp;</td><td colspan=4 style-\"text-align:left\"><a class=\"ProveItLink\" href=\"../../../booleans/conjunction/_theory_nbs_/proofs/right_from_and/thm_proof.ipynb\">proveit.logic.booleans.conjunction.right_from_and</a></td></tr><tr><td><a name=\"0x391178e3742312e_step5\">5</a></td><td>instantiation</td><td><a href=\"#0x391178e3742312e_step6\">6</a>, <a href=\"#0x391178e3742312e_step7\">7</a>, <a href=\"#0x391178e3742312e_step8\">8</a>, <a href=\"#0x391178e3742312e_step9\">9</a></td><td><span style=\"font-size:20px;\"><a class=\"ProveItLink\" href=\"../__pv_it/demonstrations/4d1da70de4e887f44adb57886eba1a2cb36192a50/expr.ipynb\"><img src=\"data:image/png;base64,iVBORw0KGgoAAAANSUhEUgAAAHcAAAAUBAMAAABFd79NAAAAMFBMVEX///9UVFSqqqrMzMwiIiKY\n",
       "mJgyMjIQEBCIiIh2dnZmZmbc3Nzu7u5ERES6uroAAACFTSmKAAAAAXRSTlMAQObYZgAAAblJREFU\n",
       "OMtjYMANtjLgA9p4ZXkugCnmBDTxwP9SC+8+YGDcgE8zG0SW7QPUrAMwiVoGBq7PDDwJ+DRHQaiw\n",
       "P2Dqre+VexAB5q8MDHy/GBhmYNET6+ICMdMbYqHWbxDFeZuBwXABWIQDKMD6g4HhOKZe2x4og9sB\n",
       "TLFy/IM7QwgswlsA1OgD9M8DuKZds9pBnuLJgQlwQOx5w/QVRN0BEXvBIvwCDMyOQLWcC2BK+aoZ\n",
       "8kE0Igx5A8CufsD8A0SDncEClrAXjbiiAHITPMSOBzCsBWuBO4VFAWwoA/cvNM39Gxh4CoE0kwNM\n",
       "6foDDB4g2jwNCMBGsoO9ZLhq4V80zddBBgBNZv6AiDuezwhvITQDiTI0zR9BmhuQNPP8ZGACs9lR\n",
       "nc0ExO6omkHRzCAPNJQP5myeTwyMCaDUytWAEmCbgDgfVTMompn/ogTYDYYQgQkghhNMBBQT4Li+\n",
       "vwFFMxswmp+DYo5rAsPbu0BwgOFgh7UE2JMH70HTMNBVPPe/HWDQ/e+FrJkx/+Mq2UtgUwwwk9jL\n",
       "KyjJEwrAkc6KovAIERkDJ5iBT5J3A/7snkBEYUCm2fiLoWgGBgD2SXHQAhjvcgAAAABJRU5ErkJg\n",
       "gg==\n",
       "\" style=\"display:inline;vertical-align:middle;\" /></a> <a class=\"ProveItLink\" href=\"../__pv_it/demonstrations/382d1d3cb4823fc7770402f66adbb8cb657f30b20/proof.ipynb\" style=\"text-decoration: none\">&nbsp;&#x22A2;&nbsp;&nbsp;</a><a class=\"ProveItLink\" href=\"../__pv_it/demonstrations/44a174036160d4125e63a1b70fb7566f6d05cab50/expr.ipynb\"><img src=\"data:image/png;base64,iVBORw0KGgoAAAANSUhEUgAAALgAAAAUBAMAAADMw+phAAAAMFBMVEX///9UVFTMzMx2dna6uroQ\n",
       "EBCqqqqIiIgiIiJmZmYyMjJERETu7u6YmJjc3NwAAAC+aOQFAAAAAXRSTlMAQObYZgAAAo5JREFU\n",
       "OMudlU1oE1EQgGc322Tb3Y25lbZicxFEwfQkBC8BEQUFe+hBrEqPerGLKCIWGi81eJBKD6V4SCh6\n",
       "UEqbQ6WBat2CekgOydEqYrz5g2hUqgexzszb7NukMVl9YfPezM43O29m3i5AtAKdRrjarPkEwaBS\n",
       "B6O9eO1q0pn5NoA1WJsbWBbQYgfnS3gV3XV9Bz3VdkQXPjobJ8iabu/bWnIAQrYQ7rvKjbZIAhN9\n",
       "YpogvUUQViFzs75+nkUDc5jXasERylstXL7KZHJiNYnEG5ugd9vN1BVHCpXJFP7f5bVyROwgmt4O\n",
       "7Zvwlg8xmpMOQVfl/ejM7Gmaiz7fmjNO3ZRkoQjCa8SXyvfJy2RuLkhVDWDPToYeS+Xhas8XaOqN\n",
       "p5CgaF+ycAB/NAzZvdpZrjgoMrtq7fW1KWBoSvbXGejmFvP3WQo+U5jnWEjDB571Me/+swrc4edJ\n",
       "JPIb1TGGRjxl9y/QKUr11AMcbhR9c4P0rATX2QYlzr2W8qCsAzdo3k2MKKiB1Y9sMjTib88ysVFf\n",
       "5Bqqc3XnugNqrMn5KJhfaf4omR1oE/nBkExLeQjGeTEsDXH/OolHSThfP3IyLeY3CHOduhrbXPnO\n",
       "kCxoeQz6+YUwK/sHvXCRuaCL7gN8BTU3QcldoJzaHkRtnsgzlPSUhm1dDzUGRofAwPrADOU/L1KD\n",
       "B1a24gq8iA3RQmbgHmZz1GEIN6yt4ngEZu/Ft5c4nIHjwqy0tQDhJz/R1Tx1G2U6QhFq2O7HCHJg\n",
       "/cr+Xq7A+rJ7Ovq3+m6vcnjzLY+/dlAef7H7tCgujvjfjv+hQv34S6jTi4tHyG6UNyAgtBbArtgk\n",
       "G9WAUCmA3dq/fCz8UIDPnPU/nzmE/gDcAbAsK6Pp5wAAAABJRU5ErkJggg==\n",
       "\" style=\"display:inline;vertical-align:middle;\" /></a></span></td></tr>\n",
       "<tr><td>&nbsp;</td><td colspan=4 style=\"text-align:left\"><span style=\"font-size:20px;\"><a class=\"ProveItLink\" href=\"../../../../__pv_it/common/674a03b9c3ca221b3aabd5636837b31528ff33830/expr.ipynb\"><img src=\"data:image/png;base64,iVBORw0KGgoAAAANSUhEUgAAABIAAAAJBAMAAADN8WE8AAAAMFBMVEX///9mZmaYmJgyMjIiIiIQ\n",
       "EBCqqqru7u5ERETMzMyIiIjc3NxUVFR2dna6uroAAAAPJcEmAAAAAXRSTlMAQObYZgAAAGNJREFU\n",
       "CNdj4Luze9UpzlvnGBh4OboY6tcxpDIwTGMxYNh/gUGfgaGg/gFDfgHDCQYGhnwGBhEGhiggS5iB\n",
       "wZeB7zc7A0MsA/s/BkaDbQzc/xjYPjAwX7jAwOfAwCXAwCa0AQBn+hZiKtaxkQAAAABJRU5ErkJg\n",
       "gg==\n",
       "\" style=\"display:inline;vertical-align:middle;\" /></a> : <a class=\"ProveItLink\" href=\"../../../../numbers/numerals/__pv_it/common/ba3b059982e8b49413dc653e957beb11e974e4bc0/expr.ipynb\"><img src=\"data:image/png;base64,iVBORw0KGgoAAAANSUhEUgAAAAkAAAAOBAMAAAAPuiubAAAALVBMVEX///+qqqqIiIgyMjLc3Nwi\n",
       "IiIQEBC6urp2dnZUVFTMzMxERERmZmbu7u4AAAAQI6y7AAAAAXRSTlMAQObYZgAAAFJJREFUCNdj\n",
       "4D2zewEDw00GjucMDGcZGNIYGFIZGOY5MNhdYJgHlGBgiLsAJNhfgJisE0DkGRDBdABEyjCwODBw\n",
       "NTAwOTC4dvRMZWCwe/fuKQMANh0TGKpG4roAAAAASUVORK5CYII=\n",
       "\" style=\"display:inline;vertical-align:middle;\" /></a>, <a class=\"ProveItLink\" href=\"../../../../__pv_it/common/a0d9d672aa5e272d907247690c152cc2c6daafb70/expr.ipynb\"><img src=\"data:image/png;base64,iVBORw0KGgoAAAANSUhEUgAAAAsAAAAJBAMAAAAWSsseAAAALVBMVEX///9mZmaqqqrMzMxEREQy\n",
       "MjIiIiKYmJh2dna6urrc3NxUVFSIiIju7u4AAACJHQtQAAAAAXRSTlMAQObYZgAAAEJJREFUCNdj\n",
       "YLhzeuWJAwy8Dew5bAEMHBc43nIuYOBlYHFgAAG+A2DKzgBIMF04x8BzgWGegh/DcgaG22fuiBcw\n",
       "AAATyhBrnyPYZQAAAABJRU5ErkJggg==\n",
       "\" style=\"display:inline;vertical-align:middle;\" /></a> : <a class=\"ProveItLink\" href=\"../../../../core_expr_types/__pv_it/common/006c465e50948aa2b52285e2de47974f741255cc0/expr.ipynb\"><img src=\"data:image/png;base64,iVBORw0KGgoAAAANSUhEUgAAABgAAAAJBAMAAADa0/H1AAAAMFBMVEX///9UVFSqqqrMzMwiIiKY\n",
       "mJgyMjIQEBCIiIh2dnZmZmbc3Nzu7u5ERES6uroAAACFTSmKAAAAAXRSTlMAQObYZgAAAElJREFU\n",
       "CNdjYICCXbPaD8DYfNUM+TA2w/EAhrVwzvoDDB5wTi0Dz2cYm+cnA9MHOOcTA2OCNox3gyFEYALD\n",
       "27tAcIDhYIe1xAMAoVgVdfU81nAAAAAASUVORK5CYII=\n",
       "\" style=\"display:inline;vertical-align:middle;\" /></a>, <a class=\"ProveItLink\" href=\"../../../../__pv_it/common/09585084922504426caf1db2ff588a23a0932a960/expr.ipynb\"><img src=\"data:image/png;base64,iVBORw0KGgoAAAANSUhEUgAAAA8AAAAOBAMAAAACpFvcAAAALVBMVEX///8iIiIQEBBERERUVFS6\n",
       "urqIiIjc3NxmZmaqqqru7u6YmJgyMjLMzMwAAACK9jtgAAAAAXRSTlMAQObYZgAAAFtJREFUCNdj\n",
       "YACBOwxQcA5Kc59bAGGs7CuAMDbkBYBp1gXzNoAZSxnuJYAZAQx1DSCa16PDzwCshIGB6QCIMYGB\n",
       "gVEBSLMDGTwPgIxCIGZ+zsCw+N0pBk67hw0AfpEVEQi8t+wAAAAASUVORK5CYII=\n",
       "\" style=\"display:inline;vertical-align:middle;\" /></a> : <a class=\"ProveItLink\" href=\"../__pv_it/theorems/8168c562b942d2349bc15878d637d47dc90786870/expr.ipynb\"><img src=\"data:image/png;base64,iVBORw0KGgoAAAANSUhEUgAAADUAAAAUBAMAAADfOGjQAAAAMFBMVEX///9UVFTMzMx2dna6uroQ\n",
       "EBCqqqqIiIgiIiJmZmYyMjJERETu7u6YmJjc3NwAAAC+aOQFAAAAAXRSTlMAQObYZgAAATdJREFU\n",
       "KM91kq9Pw0AUx79jo4O2DOyAZJMEUxzBVeKYQJBg+AvGLEFsakEecmo1OMIqQBGgYgMSzP4BoBLH\n",
       "mixAEBvv3vXKCTjRvPf9vHf3fhQoDfHXqcvPk7LXtbhQSTorl8jFZF8oqZdlzIZAt+oGFCZUdC/S\n",
       "zKNHdgQ2gbmYhfturFmTrNcGBsCbEoZNX7MrwN2LYPs4Yr8QHWblJsDaKpAXuGG/D6+Ropnk+bgt\n",
       "KwjQZsHHu0hZcQIMlgCrhV2OLXcqYcqcGvEP0kaKFairIGWLlFP8ZMZ3HlAvNaO93JjiW1xLiZg9\n",
       "MtrzQq5lC6pHZwL3W7IzStmnIc1vYJumPT2HdfclcELS8rR8ek33wK7qmfGxImNJj9ms+eTNBdKs\n",
       "cfvrPhhI7kjvlgduMEe+9c8/8QL8AG6DT0/USQHQAAAAAElFTkSuQmCC\n",
       "\" style=\"display:inline;vertical-align:middle;\" /></a></span></td></tr><tr><td><a name=\"0x391178e3742312e_step6\">6</a></td><td>conjecture</td><td></td><td><span style=\"font-size:20px;\"> <a class=\"ProveItLink\" href=\"../../intersection/_theory_nbs_/proofs/membership_unfolding/thm_proof.ipynb\" style=\"text-decoration: none\">&nbsp;&#x22A2;&nbsp;&nbsp;</a><a class=\"ProveItLink\" href=\"../../intersection/__pv_it/theorems/16fb4898c8c9dac45a43f94f8cc422c3b957f3760/expr.ipynb\"><img src=\"data:image/png;base64,iVBORw0KGgoAAAANSUhEUgAAAkQAAAAZBAMAAAAiQSxpAAAAMFBMVEX///8QEBCIiIhmZma6urrM\n",
       "zMxUVFQiIiJERETc3Nzu7u6qqqp2dnaYmJgyMjIAAAAcRTyBAAAAAXRSTlMAQObYZgAABjxJREFU\n",
       "WMPlWW+IFGUYf252Z29nZuf0QwklxXLGFVdxC2cK/sHN6C9Fe/fhNBRdTD8oUVuCh57FfghcC9n9\n",
       "EOdR1E0ap2jY0kVlGF0XQaxBg6dk9McF68MJ5ZKaenHa+/fmnZl3bueOFhQfeGbed+d5fzPzm+d5\n",
       "3ud9FyCMxHq3w60p0d6d4Qyb4daV/puDoneZTitHw6Jpdn0bo0QVU1TFp1/rUxTKrkGi56nKZR3P\n",
       "BqWQcAeDLqhVp72ZKaLoOD6dq09RKLsGSUuJqlzOcyL5CwZYarwxHnifmtM+whRRNIAH5+tTFMqu\n",
       "QTLGVCrmeYu1Rtn5bAABKTYgFQT124TTTiSpIopa0A0S5foUhbJrkGxn6sjp3l7uM4dXcK95n4XL\n",
       "LkuKsnoHe5lSAJI+fFUI7rlUEUVm5dChvSHSdSi7xoiWoyq8bbvTtjvS3E1oI7YyKYXZ2ErPe4OQ\n",
       "TOWicOV3pmhGu1Io7AxBUSi7xoiSoqq3bl5JgkkXcmLU+opPUIkUyyI5ac6vsnl5AdJ9bW89kPQg\n",
       "wVPGpND7himiaBPAbumTJdwUBdrNyCFmYJvhjbhN9UP4Mfmad+76ANZzpzFpxBynU4vvdcosT+xB\n",
       "zIyYrzRXPUh6Wv1bTExMEUWPOFOBWyJuirx2cr7irkBPey+P+G0CAT6ZunuZagV+sJ4kNq5bDCLn\n",
       "UfFEYlDvycF78kjQ6PP3IbqsxES05EGKgnZB6H7GtB8PVTyl1KplaWWejyKPnXlR+oZnXKx4Z0D6\n",
       "0c6kp6HIuRjhZDWlqVpQoD90/YWEvq/6fOdLeVA7MTsqmbPNJMQyEuATJBCQ3IYcBuJ5LxL0dC66\n",
       "ItivZ4ooSthi7awf67SNfAWW+Chy28H+SWnAr7ADKMLAsNZlYyxaLpSztCMA6FkPRQAsEAbETw9N\n",
       "6BWjDkXNFqhZyaOh+ayHUwQwJ+lFwi5/t5wirdojzoFHD4FxIgIjic7FnUtFitx2UNkqDfgDqQCK\n",
       "MDD9jNxG32MdnopW3hEBxj2BBuolxpkDiy/NZRSRAwzLi0MjxcvPPkJAxotkIH1ZGPA4U7xG270R\n",
       "eefy7gVKWwai+AGNNc8lR3xeROxg9KE2Aq4mCzKKuuN5P0V4DAGmUw23wYE0JEbVkAfgQU+6/kKp\n",
       "AZmjI1OzulamNTFhh6brcUaTpEI3UixdG1YHKJYLCd6hhfrYqdZU6yZ3uoZhBG8+bDdtUbLQQvjM\n",
       "VE5JKMJ2ivViM3H5GCxGB1+Nlo3kfBSRMS28wGE2W2iqnEqXvCMCfCpM5kij/8ZrbAXax01wjRO/\n",
       "yiiK4MmAJG4UbKBfA3b4CFO3mgUbmcmfLRfZsrhPLL6gWIKTd8E8qw21lzHtZ2H59r0wJ41usZ9S\n",
       "lMBP5aUI26nwJ/3lZ+gA9WsvRWZZqfkoImMIcDTPbdbeKafIBfAEzzc5ovqG9gVsHT30Or3zwevn\n",
       "wCheTlGKWrB/x/AXVLBzbAN2aMapCYcAtLIIGmrdt9x2IenFaxZ8fn2rti8HFwk1fzDFFJnYaAN0\n",
       "4XhfVSgUkkZGs3N+iogd0BpdP/t90SIfyyVHln03IclFaAwBjmanbHbIKXIBrAtegDy9q9dVgRCK\n",
       "DrD8LdZU7vpD9S9AvEixpDoX+5aeo+rsF90O98GgiuKHeBE8mmR43v0itUZ+jlgwmPFTtAS0SzD2\n",
       "5diab0WK8BgCTIKA2ARR5AJ4LNQy1qFoNFxJGryMJQk8o+S1WkZcxrJIrCE/Op2ABKbfTIM5It9S\n",
       "G0xUEzBgwTMo7mxMkfYG6vJDFDnvJHxcbSofEygiYwgw/irUxqGIjaYdN8AvYjk5bb1JqsaACtgv\n",
       "0y4SBpEfmfkRcTOEfYUsmgn6KwBv4mBFq7esnKKhk6MV6CrHr4BWfJWUIPOhq6TegQ/zoZiHgct2\n",
       "LHMAFgoUkTEEGBNDbRyK2GjacQMsDLelhr/w4n+SdUgMs6UGxHVbStoLFuFxt3RjVkEpo+7GLN8T\n",
       "wYFmuAoLajwMubK3LiLA94uFnA5UKQtChwNUZ7Yx+9P/uTFrlqjOcu/aYJ9L7Vgq7hjz1hDcAxtK\n",
       "0gXIVOrpvjDN1hMDMGy4EWRWFJlix5a0Atdo0Zm89X64qSia5f9oqVn/S4Gk/UYgKNq77T8ZvOPV\n",
       "sG+BUAAAAABJRU5ErkJggg==\n",
       "\" style=\"display:inline;vertical-align:middle;\" /></a></span></td></tr>\n",
       "<tr><td>&nbsp;</td><td colspan=4 style-\"text-align:left\"><a class=\"ProveItLink\" href=\"../../intersection/_theory_nbs_/proofs/membership_unfolding/thm_proof.ipynb\">proveit.logic.sets.intersection.membership_unfolding</a></td></tr><tr><td><a name=\"0x391178e3742312e_step7\">7</a></td><td>conjecture</td><td></td><td><span style=\"font-size:20px;\"> <a class=\"ProveItLink\" href=\"../../../../numbers/numerals/decimals/_theory_nbs_/proofs/posnat2/thm_proof.ipynb\" style=\"text-decoration: none\">&nbsp;&#x22A2;&nbsp;&nbsp;</a><a class=\"ProveItLink\" href=\"../../../../numbers/numerals/decimals/__pv_it/theorems/5db1fd392f01abb5a4164fcd36996a76cd3c48920/expr.ipynb\"><img src=\"data:image/png;base64,iVBORw0KGgoAAAANSUhEUgAAAD4AAAAUBAMAAAAn2JMnAAAAMFBMVEX///+YmJiqqqqIiIgyMjLc\n",
       "3NwiIiIQEBC6urp2dnZUVFTMzMxERERmZmbu7u4AAADrYmUNAAAAAXRSTlMAQObYZgAAAPRJREFU\n",
       "KM9jYKAALCAgf4AK8nx3z2xAEeTzP+PHwFlfAZV/xcD5A1UXj8AuBob3DFwuLiUujgz3GBjKUeW5\n",
       "spkNGNhh5pcxMKwPAIszHktLAcv3PFjNwAaT93/AsB7sAO7DD6D6oxc8ecCG5P58sMSTBzDzA5S5\n",
       "FyDJc/wEU0vh9gdwNggjybMtQA0MrgCGdVzbQCyIu+6CSe4SFyCAyr9icId7h/kCmGJF1s89YTtc\n",
       "XpeBFWxOAZI8gxAPjMc9gYEZLH8ZLg/0LmcMjBc2c+4yiDMVoCIsIMYVmLz////fIPGypg9iYH4N\n",
       "KDQwY5NjDiR8UQAAMMdAv/oJq5oAAAAASUVORK5CYII=\n",
       "\" style=\"display:inline;vertical-align:middle;\" /></a></span></td></tr>\n",
       "<tr><td>&nbsp;</td><td colspan=4 style-\"text-align:left\"><a class=\"ProveItLink\" href=\"../../../../numbers/numerals/decimals/_theory_nbs_/proofs/posnat2/thm_proof.ipynb\">proveit.numbers.numerals.decimals.posnat2</a></td></tr><tr><td><a name=\"0x391178e3742312e_step8\">8</a></td><td>instantiation</td><td><a href=\"#0x391178e3742312e_step10\">10</a></td><td><span style=\"font-size:20px;\"> <a class=\"ProveItLink\" href=\"../__pv_it/demonstrations/bd9aec0044e561b0ca0fdd621d5ffaa2a5b562ea0/proof.ipynb\" style=\"text-decoration: none\">&nbsp;&#x22A2;&nbsp;&nbsp;</a><a class=\"ProveItLink\" href=\"../__pv_it/demonstrations/4dd6e591bcc3049a847da19ef6eeeb02d28c3f030/expr.ipynb\"><img src=\"data:image/png;base64,iVBORw0KGgoAAAANSUhEUgAAAMoAAAAVBAMAAAD1I2xhAAAAMFBMVEX///9UVFQQEBCqqqoiIiJm\n",
       "ZmYyMjJERESYmJjc3NyIiIi6urp2dnbu7u7MzMwAAAADGpxCAAAAAXRSTlMAQObYZgAAAlpJREFU\n",
       "SMellT2IE0EUx//JJpvNx+4FQdTKs9FKsFDEQtgTLQSFpDi0sEhlI3iigljonYWCVy3YaJfGwiYG\n",
       "sRVjYeMJxkOvsFF7j7srLvchufXN20x2sslMAj6YyWTf+78f8/UGqxhrq2M/jE2wxL/PR7vPcL+U\n",
       "/GzUqGYFvXhWuLf4n1eT7kfh/uq9JlKBntLTaO37lYfAIZViR0x7vR9zDMjuwa3pKUJjHddC3DK+\n",
       "NLGiUh5HniddGeNtA8VN4JOeQpqvH7paSraN9DRKdYVyMcKf2pExBRo5u8CyniI0jp6S9pHagTsd\n",
       "U/I+O5zCXxmTI+/yZVqWpo7CGgPF7iK1B9yIKYUKO95Z2zJmqgxvpg2UKjoKawwUsgx5P8aU3AIv\n",
       "WNPblQFrBxfvnhBpapJSus5WkRTWmCnvW7TVMSUjEqKI/KYMeB3APSIOvK+bC2vMlBlqJ2NKWqw+\n",
       "fs9Wt2TAbUGiPN66jsIaIyUr5r2WpFB3VEZsCEr9/ygvMUjh2VvUzinXBYcpT9FP7Et54hWzKngB\n",
       "vE3s/jNqc8p18bYGdj85l7G7/wd4NbD74rzy+Z8P8FPktem6vHkg1ralo/AZLxCFBaJzO+ogf+lz\n",
       "lVJeiym0Lu58p43T4QVk6C6m5jZmD9zhu/VLRxFrmd3XucoCZMq9M8WD83TT7DAMKeTmUIWJ7Kya\n",
       "75u5wgwLoi1p92umP1wt2VpqvLlajhCwleKRWi1zQVyx62r5NlR+qRkQRPajP1oZ8YpxyVTDcxO8\n",
       "Ys7w8Vroj+734hum1/Up943k58akL7ITzbfxD8R5zd3ooCiSAAAAAElFTkSuQmCC\n",
       "\" style=\"display:inline;vertical-align:middle;\" /></a></span></td></tr>\n",
       "<tr><td>&nbsp;</td><td colspan=4 style=\"text-align:left\"><span style=\"font-size:20px;\"><a class=\"ProveItLink\" href=\"../../../../__pv_it/common/c06c606ec12678c58933ac85412ecadc2ae28be60/expr.ipynb\"><img src=\"data:image/png;base64,iVBORw0KGgoAAAANSUhEUgAAAAsAAAAJBAMAAAAWSsseAAAAMFBMVEX///9UVFSqqqrMzMwiIiJE\n",
       "RESYmJgyMjK6urru7u4QEBCIiIh2dnZmZmbc3NwAAABRgo0vAAAAAXRSTlMAQObYZgAAAEdJREFU\n",
       "CNdjYOC7c3slAwND1wP2DwwMnMsYeAMYGHh/MrBsYGDgCmCYb8DAMP8Agz5QxXwFBnGmBwysG9gc\n",
       "eYAqpTc/3MEAAP4BD32xAXDqAAAAAElFTkSuQmCC\n",
       "\" style=\"display:inline;vertical-align:middle;\" /></a> : <a class=\"ProveItLink\" href=\"../../../../__pv_it/common/09585084922504426caf1db2ff588a23a0932a960/expr.ipynb\"><img src=\"data:image/png;base64,iVBORw0KGgoAAAANSUhEUgAAAA8AAAAOBAMAAAACpFvcAAAALVBMVEX///8iIiIQEBBERERUVFS6\n",
       "urqIiIjc3NxmZmaqqqru7u6YmJgyMjLMzMwAAACK9jtgAAAAAXRSTlMAQObYZgAAAFtJREFUCNdj\n",
       "YACBOwxQcA5Kc59bAGGs7CuAMDbkBYBp1gXzNoAZSxnuJYAZAQx1DSCa16PDzwCshIGB6QCIMYGB\n",
       "gVEBSLMDGTwPgIxCIGZ+zsCw+N0pBk67hw0AfpEVEQi8t+wAAAAASUVORK5CYII=\n",
       "\" style=\"display:inline;vertical-align:middle;\" /></a>, <a class=\"ProveItLink\" href=\"../../../../__pv_it/common/195236b98c6c564a75b5dbada74b173bc52d5c3e0/expr.ipynb\"><img src=\"data:image/png;base64,iVBORw0KGgoAAAANSUhEUgAAAAkAAAAOBAMAAAAPuiubAAAALVBMVEX///+YmJjc3NyIiIhUVFR2\n",
       "dna6urqqqqpmZmYyMjIiIiIQEBBERETu7u4AAAALjtrwAAAAAXRSTlMAQObYZgAAAE9JREFUCNdj\n",
       "4D29gAEIOBtAJF8BiMy7ACKjQATDFON2BgbelxfuKTCwv2XgM2DgmMBwLwCkPK+AgU+Aoe8CA18C\n",
       "70YGBhYBHqARvM2BDAwAqXgQspq5HJAAAAAASUVORK5CYII=\n",
       "\" style=\"display:inline;vertical-align:middle;\" /></a> : <a class=\"ProveItLink\" href=\"../../../../__pv_it/common/a9162d1c3cc0470c02e5daf414500903a7a419230/expr.ipynb\"><img src=\"data:image/png;base64,iVBORw0KGgoAAAANSUhEUgAAABAAAAAOBAMAAADUAYG5AAAALVBMVEX///8yMjKqqqoiIiLu7u7c\n",
       "3NyIiIjMzMwQEBC6urpERERmZmZUVFSYmJgAAACsPVCVAAAAAXRSTlMAQObYZgAAAGxJREFUCNdj\n",
       "YGC48+70nlUTGICgi4GB+zmQZn/LwMD5Gshge8rAwPsMyOBqYGDwMAEy+A4wsNs4ABl1Z68tVgBp\n",
       "ygtgYOkBMVaAOCChNyBGAsQYhnMTIMawvwJyGIHGzFjCwMAj92b3qUUMDAAXABxvZ4rl5AAAAABJ\n",
       "RU5ErkJggg==\n",
       "\" style=\"display:inline;vertical-align:middle;\" /></a></span></td></tr><tr><td><a name=\"0x391178e3742312e_step9\">9</a></td><td>assumption</td><td></td><td><span style=\"font-size:20px;\"><a class=\"ProveItLink\" href=\"../__pv_it/demonstrations/4d1da70de4e887f44adb57886eba1a2cb36192a50/expr.ipynb\"><img src=\"data:image/png;base64,iVBORw0KGgoAAAANSUhEUgAAAHcAAAAUBAMAAABFd79NAAAAMFBMVEX///9UVFSqqqrMzMwiIiKY\n",
       "mJgyMjIQEBCIiIh2dnZmZmbc3Nzu7u5ERES6uroAAACFTSmKAAAAAXRSTlMAQObYZgAAAblJREFU\n",
       "OMtjYMANtjLgA9p4ZXkugCnmBDTxwP9SC+8+YGDcgE8zG0SW7QPUrAMwiVoGBq7PDDwJ+DRHQaiw\n",
       "P2Dqre+VexAB5q8MDHy/GBhmYNET6+ICMdMbYqHWbxDFeZuBwXABWIQDKMD6g4HhOKZe2x4og9sB\n",
       "TLFy/IM7QwgswlsA1OgD9M8DuKZds9pBnuLJgQlwQOx5w/QVRN0BEXvBIvwCDMyOQLWcC2BK+aoZ\n",
       "8kE0Igx5A8CufsD8A0SDncEClrAXjbiiAHITPMSOBzCsBWuBO4VFAWwoA/cvNM39Gxh4CoE0kwNM\n",
       "6foDDB4g2jwNCMBGsoO9ZLhq4V80zddBBgBNZv6AiDuezwhvITQDiTI0zR9BmhuQNPP8ZGACs9lR\n",
       "nc0ExO6omkHRzCAPNJQP5myeTwyMCaDUytWAEmCbgDgfVTMompn/ogTYDYYQgQkghhNMBBQT4Li+\n",
       "vwFFMxswmp+DYo5rAsPbu0BwgOFgh7UE2JMH70HTMNBVPPe/HWDQ/e+FrJkx/+Mq2UtgUwwwk9jL\n",
       "KyjJEwrAkc6KovAIERkDJ5iBT5J3A/7snkBEYUCm2fiLoWgGBgD2SXHQAhjvcgAAAABJRU5ErkJg\n",
       "gg==\n",
       "\" style=\"display:inline;vertical-align:middle;\" /></a> <a class=\"ProveItLink\" href=\"../__pv_it/demonstrations/2e2f48824e35358683d37ebe3505b4aae48bf6420/proof.ipynb\" style=\"text-decoration: none\">&nbsp;&#x22A2;&nbsp;&nbsp;</a><a class=\"ProveItLink\" href=\"../__pv_it/demonstrations/4d1da70de4e887f44adb57886eba1a2cb36192a50/expr.ipynb\"><img src=\"data:image/png;base64,iVBORw0KGgoAAAANSUhEUgAAAHcAAAAUBAMAAABFd79NAAAAMFBMVEX///9UVFSqqqrMzMwiIiKY\n",
       "mJgyMjIQEBCIiIh2dnZmZmbc3Nzu7u5ERES6uroAAACFTSmKAAAAAXRSTlMAQObYZgAAAblJREFU\n",
       "OMtjYMANtjLgA9p4ZXkugCnmBDTxwP9SC+8+YGDcgE8zG0SW7QPUrAMwiVoGBq7PDDwJ+DRHQaiw\n",
       "P2Dqre+VexAB5q8MDHy/GBhmYNET6+ICMdMbYqHWbxDFeZuBwXABWIQDKMD6g4HhOKZe2x4og9sB\n",
       "TLFy/IM7QwgswlsA1OgD9M8DuKZds9pBnuLJgQlwQOx5w/QVRN0BEXvBIvwCDMyOQLWcC2BK+aoZ\n",
       "8kE0Igx5A8CufsD8A0SDncEClrAXjbiiAHITPMSOBzCsBWuBO4VFAWwoA/cvNM39Gxh4CoE0kwNM\n",
       "6foDDB4g2jwNCMBGsoO9ZLhq4V80zddBBgBNZv6AiDuezwhvITQDiTI0zR9BmhuQNPP8ZGACs9lR\n",
       "nc0ExO6omkHRzCAPNJQP5myeTwyMCaDUytWAEmCbgDgfVTMompn/ogTYDYYQgQkghhNMBBQT4Li+\n",
       "vwFFMxswmp+DYo5rAsPbu0BwgOFgh7UE2JMH70HTMNBVPPe/HWDQ/e+FrJkx/+Mq2UtgUwwwk9jL\n",
       "KyjJEwrAkc6KovAIERkDJ5iBT5J3A/7snkBEYUCm2fiLoWgGBgD2SXHQAhjvcgAAAABJRU5ErkJg\n",
       "gg==\n",
       "\" style=\"display:inline;vertical-align:middle;\" /></a></span></td></tr>\n",
       "<tr><td><a name=\"0x391178e3742312e_step10\">10</a></td><td>conjecture</td><td></td><td><span style=\"font-size:20px;\"> <a class=\"ProveItLink\" href=\"../../../../numbers/numerals/decimals/_theory_nbs_/proofs/tuple_len_2_typical_eq/thm_proof.ipynb\" style=\"text-decoration: none\">&nbsp;&#x22A2;&nbsp;&nbsp;</a><a class=\"ProveItLink\" href=\"../../../../numbers/numerals/decimals/__pv_it/theorems/f5f8bc4dafc158b570235067a67a3c64c66602a20/expr.ipynb\"><img src=\"data:image/png;base64,iVBORw0KGgoAAAANSUhEUgAAAPsAAAAWBAMAAAD0hvfJAAAAMFBMVEX///8QEBCIiIhmZma6urrM\n",
       "zMxUVFQiIiJERETc3Nzu7u6qqqp2dnaYmJgyMjIAAAAcRTyBAAAAAXRSTlMAQObYZgAAAxVJREFU\n",
       "SMe9lk9o01Acx39N1iZNk3YHT4JQ1A68hR1EcMOKh52k9eJBhNWhB0EkFyfOHeZBWA9CTm4ehKjg\n",
       "xg426EH0YnFFwT9Y8KKC0oMTpjCGILgeWt/v5b0mbfrSiuCDpl/e++X7Sd775fcegLidgr8ZjIwO\n",
       "t7gTOZysQ42L7vaEXmu9N3gdtweDUzZe9Tw1aqD+HA5a5YargU7tmgWQsMV4bSEafe/QdYDzDI9G\n",
       "r1F/DwducsJmsDdtEkRDjE8Tx9RuIV0rwbs8PGB4NFrG+Q0/s2EyQxR+y7jk8lyMfw9w/0VTiJcd\n",
       "iI2CnvXwaJQmKaC7oUDFZoaKHewuYMLcEeOv4AOL8TELEjugjTI8MTJera0thQOXuGH32Es6w3kR\n",
       "PmlF49NNSPwC+MrwaPR7cXE+HLiPE1AkJ8bZen7be5jcaYrwkhmNx9kko+sMj0bnAMp8bGSLqxuc\n",
       "gOKond72UqflVGwwGnxQ36LN5Hi1PhBfqAJ8YXg0OsZSmbZ1Lq5yAhHaHpC95Ew1IZOFlCV6e8Ud\n",
       "iJ8lv8cMj0YKSH5h+cHFLk4gQm6CkvUytwGVKsS3RfhYfhBexpmaZng00uuKP7rTDx9bgEqRf/YF\n",
       "95/wmEpd+GTjJJajsQ0sxD/HnPDkkxd+xj77OhxxYMTqWfvS0JOfMuEWwBTDU6PyWbK8l+J4kzQn\n",
       "meHUq7hw0SvUmTzJg0Dq9b79wNQ7DXCgO/XgkYVLEscnUbNGw8/BGhOkd1aHChlJ1FXyeHJVhKef\n",
       "pETwGEwvWisokvNvDhLOBMNTI5LLEHOlEl07ueSZTXECEdpM7uZ+UOaIGn+LGVAU4XE25TOtSRoM\n",
       "SollOhWXybKm2+02CdngZQeNDNJfsdVP5C/jxFxh0X3KxUp00e0O9pe9s8FrFsOvdIqxPX0clh3F\n",
       "+SDecqpcRG85PcGdpvsqsOWwcjfzcBJOuPELndvKnMBLopblImLDVe2eYL/d7ajghhtsbtRxw+Aj\n",
       "6hDHDSOc9H5tKzO8avc5BfmHrVz/w9ZHes312ueGPWwZFCMVmZHfD/+9/QF9Af9Lm1VaRQAAAABJ\n",
       "RU5ErkJggg==\n",
       "\" style=\"display:inline;vertical-align:middle;\" /></a></span></td></tr>\n",
       "<tr><td>&nbsp;</td><td colspan=4 style-\"text-align:left\"><a class=\"ProveItLink\" href=\"../../../../numbers/numerals/decimals/_theory_nbs_/proofs/tuple_len_2_typical_eq/thm_proof.ipynb\">proveit.numbers.numerals.decimals.tuple_len_2_typical_eq</a></td></tr></table>"
      ],
      "text/plain": [
       "\tstep type\trequirements\tstatement\n",
       "0\tinstantiation\t1, 2\t|- A intersect B subset_eq B\n",
       "\tA : A intersect B, B : B, x : _a\n",
       "1\ttheorem\t\t|- forall_{A, B | forall_{x in A} (x in B)} (A subset_eq B)\n",
       "\tproveit.logic.sets.inclusion.fold_subset_eq\n",
       "2\tgeneralizaton\t3\t|- forall_{_a in A intersect B} (_a in B)\n",
       "3\tinstantiation\t4, 5\t{_a in (A intersect B)} |- _a in B\n",
       "\tA : _a in A, B : _a in B\n",
       "4\ttheorem\t\t|- forall_{A, B | A, B} B\n",
       "\tproveit.logic.booleans.conjunction.right_from_and\n",
       "5\tinstantiation\t6, 7, 8, 9\t{_a in (A intersect B)} |- (_a in A) and (_a in B)\n",
       "\tm : 2, x : _a, A : (A, B)\n",
       "6\tconjecture\t\t|- forall_{m in NaturalPos} [forall_{x, A_{1}, ..A_{_a}.., A_{m} | x in (A_{1} intersect ..A_{_a}.. intersect A_{m})} ((x in A_{1}) and ..(x in A_{i}).. and (x in A_{m}))]\n",
       "7\tconjecture\t\t|- 2 in NaturalPos\n",
       "8\tinstantiation\t10\t|- |(A, B)| = |(1, ..k.., 2)|\n",
       "\ta : A, b : B\n",
       "9\tassumption\t\t{_a in (A intersect B)} |- _a in (A intersect B)\n",
       "10\tconjecture\t\t|- forall_{a, b} (|(a, b)| = |(1, ..k.., 2)|)"
      ]
     },
     "execution_count": 20,
     "metadata": {},
     "output_type": "execute_result"
    }
   ],
   "source": [
    "A_intersect_B_subset_of_B_judgment.proof()"
   ]
  },
  {
   "cell_type": "markdown",
   "metadata": {},
   "source": [
    "<font size=3>And we can ``unfold()`` the subset expression to produce an equivalent judgment in terms of set memberships. Notice here that the ``unfold()`` process *automatically* produces a Known Truth instead of just another expression (and it would have done this even if we had not previously proven the expression to be true):</font>"
   ]
  },
  {
   "cell_type": "code",
   "execution_count": 21,
   "metadata": {},
   "outputs": [
    {
     "data": {
      "text/html": [
       "<a class=\"ProveItLink\" href=\"../__pv_it/demonstrations/41c613418a36a301198ea322d706c96a846900370/expr.ipynb\"><img src=\"data:image/png;base64,iVBORw0KGgoAAAANSUhEUgAAAGMAAAARBAMAAAA7/w9sAAAAMFBMVEX///92dnYiIiIQEBBERERU\n",
       "VFS6urqIiIjc3NxmZmaqqqru7u6YmJgyMjLMzMwAAADiRdoGAAAAAXRSTlMAQObYZgAAAXRJREFU\n",
       "KM9jYACBtwyo4Oj/yKkuCWiCDDzxX2eGuEE596H0bpisCQMD5z+odiUlJT0Ik9mBgWH+A4j2+xtA\n",
       "FJuTiwrEaL4/QN5PMLNXAmHN+wMMDPkTwMxd8xtAlEgDA18kWID9B9Cc72DmDSSX1QOVnS8AMw/U\n",
       "gwznAelnXQASYDFgYNisDWJxLkDS4szAwG0EcdCG9QdA6kAcDgeQCH8AA58qWI4J2f9fGRgeRYNZ\n",
       "2xjeF8BlFcCOjjnuBDG+FUkH39czJVoQZgJD/wRULUBHc5uCuVuQtIB8uDkArDlyZrwDqhZnkLYF\n",
       "6A4D+ZD9F9grwAC/gKrlK0gLOGgYCxBagD5kYAeHI9A0JgMULaBoYYiHRNEt1Ghh/QYKI6AW3g8o\n",
       "WkCO5vsCUbc1bANytLwHeaEJ5MofKFp4gZYme0MVPnSCJZjLQE+YAA3Y8v82A5f/pwlIWljvA5Of\n",
       "F3qiZIgFpdUFqAkVkhIYBgAwKikhEj8EAAAHBWATD/FFlQAAAABJRU5ErkJggg==\n",
       "\" style=\"display:inline;vertical-align:middle;\" /></a>"
      ],
      "text/plain": [
       "A intersect B subset_eq B"
      ]
     },
     "execution_count": 21,
     "metadata": {},
     "output_type": "execute_result"
    }
   ],
   "source": [
    "# the original expression\n",
    "A_intersect_B_subset_of_B"
   ]
  },
  {
   "cell_type": "code",
   "execution_count": 22,
   "metadata": {},
   "outputs": [
    {
     "data": {
      "text/html": [
       "<span style=\"font-size:20px;\"> <a class=\"ProveItLink\" href=\"../__pv_it/demonstrations/c48e82fedf1d61a1fb45b50e31e687fe599bf2810/proof.ipynb\" style=\"text-decoration: none\">&nbsp;&#x22A2;&nbsp;&nbsp;</a><a class=\"ProveItLink\" href=\"../__pv_it/demonstrations/b4832d7a1a5710711766d3a1b3affb2599a4dfa00/expr.ipynb\"><img src=\"data:image/png;base64,iVBORw0KGgoAAAANSUhEUgAAAJUAAAAUBAMAAAB2YGIBAAAAMFBMVEX///8QEBCIiIhmZma6urrM\n",
       "zMxUVFQiIiJERETc3Nzu7u6qqqp2dnaYmJgyMjIAAAAcRTyBAAAAAXRSTlMAQObYZgAAAmJJREFU\n",
       "OMuVlE1oE0EUx//uZrMf2dScxIOHRUGlYFsIrSch6kVBMV7Um8EPiIeqIDRYP6ggdOsH3Zu9SFaE\n",
       "CFFQ8FTxIOtBiKJBxQ9ECHgT1NDYEltE3+zsbDYl1HVg2fdmdn/z3v+9GSD+uLnS4iw9DWZ8joMy\n",
       "JnpOv/tzdMTOIekAz5n/NQ6rz+k9vxaQ52FQUDPk6RNxWG96Tyu/gUQL8Gg3FzAfxGGd7fI+lEq+\n",
       "PJB+Aek54Ba9atXqjTgo/XTUO9QvLC1DnHEKKge0bft8HJY0RPKvP7HD8+vQUXh1AcoYS47WjwNT\n",
       "y34L/V2tp0WhuFYH7uG9dZE5yU4dDo++nmQapSnlnX4JoiP9M7QyMDOBrdIPNbxyd/vgzteDDow1\n",
       "9E6RBiqkuuigx1lm3qbKpEa2kSUXkFoMFleRHi5s7uz/ToOHcInxaB+lSXnW1bA2s1X2qp2Bcd29\n",
       "S5mqFuRGhAXMcWemE9cCY1mcpTcOkOcNb8wnhnjDWDZk0qMC3M9jwI3kCGU+AHe1F07RPglW56lj\n",
       "VCT3pJrr46tJbPX1oGffls0FRLR/JDXhN4NsheWl9lLagfZ4SEAF30gnvvoJg4L1EtgkfqKaJ5a0\n",
       "ps7FPReeLKrN9isM/4Q1iL8H4Q/atm3B+PJi2g1Y14CyOBOUg3Gkf0NwDVQu89yTPxayxas+NM+C\n",
       "Y7NKU6Hk/PBdlPMBa4nSdHqfoT2Tpe5WuiOMstkwYTIy9lKkdc7SF6Gv+9fZFsMTRuWtVwNYrFob\n",
       "+vQFznrWyhZz4ceas+LttqzhJaYXXwmeGHdhrJ3+747+CPwF2r+aSUzTPAEAAAAASUVORK5CYII=\n",
       "\" style=\"display:inline;vertical-align:middle;\" /></a></span>"
      ],
      "text/plain": [
       "|- forall_{x in A intersect B} (x in B)"
      ]
     },
     "execution_count": 22,
     "metadata": {},
     "output_type": "execute_result"
    }
   ],
   "source": [
    "# unfold to express in terms of set memberships\n",
    "A_intersect_B_subset_of_B.unfold()"
   ]
  },
  {
   "cell_type": "code",
   "execution_count": 23,
   "metadata": {},
   "outputs": [
    {
     "data": {
      "text/html": [
       "<span style=\"font-size:20px;\"> <a class=\"ProveItLink\" href=\"../__pv_it/demonstrations/c48e82fedf1d61a1fb45b50e31e687fe599bf2810/proof.ipynb\" style=\"text-decoration: none\">&nbsp;&#x22A2;&nbsp;&nbsp;</a><a class=\"ProveItLink\" href=\"../__pv_it/demonstrations/c9a0e87daa3b9d3025f4c87ffc41b5cf6d479f1a0/expr.ipynb\"><img src=\"data:image/png;base64,iVBORw0KGgoAAAANSUhEUgAAAJMAAAAVBAMAAACwIsHjAAAAMFBMVEX///8QEBCIiIhmZma6urrM\n",
       "zMxUVFQiIiJERETc3Nzu7u6qqqp2dnaYmJgyMjIAAAAcRTyBAAAAAXRSTlMAQObYZgAAAndJREFU\n",
       "OMulVEtoE1EUPc18MpmkaRYqLlwMLWgQtEIwbrRGBOtCTbpRdwY/kI1Y0BrwAwpix09pXFl00ZFC\n",
       "lLhQcFVwEdqFUEWCC1FUCLjShZamLbEi9d75ZiSRgT54vPs+c9455907QOAWqf1nc5p6nYMvQaCe\n",
       "tF19v3oqrWcgl4DXPP8eBOpb++WNgLAElShNMPVrAZC6d7Rdlv4AYgOYAeIGEHseACpcap19KBZN\n",
       "axD6RbcsAI9omKtU7gfR5zt0fKsTKQmCuUSUMkBT168EgeoD1D4N90gFVM/cnjyki6yM9J8Bbv3z\n",
       "lTs/2JgtOLrG6LiYQD/Hsif2xNl3o+xPN+ndb7rvM3jRjRKIJez4MvBQqEM3VXmH+0tQN9AYHSY7\n",
       "EXJyT32Z4nCKHiWa3kORkEd0xd5cBxhdGhY4HvpBzSJwneGIljRPrGth91mmKzzMnYc6ZjwlmWEN\n",
       "Qt2DQtaQljie8FgtM5RmQUXqRykzNiNsiFbmSJoOgcwoA89y2G54AjGAkKm3y5dWOEevJw6zyaeJ\n",
       "Wo8xhLi1K2OXaQb17LZkHp7tuAnFnAuas8ppJTVt2/GC8B4MIokpa/cTvZIN9RbY4nw0Sz2NbM2l\n",
       "aLY4sdx3m9GrnBl8xW6cxDFd1zWoX9+MGzbUXWDSqYRB6uXevVYalG9YuuWfy6nCHRMzx9R49QLW\n",
       "kzKTvIHJnA31mzSWfIUzYM8OjRb9KfTYjUbEecQYGIeJZ82CiqwgsqmlnOW6utipGGbc6ECSLmGm\n",
       "ShOR8asW1KtGqpBpqYFwTdE6IHlprpYU8jPEXllzu/t/fWLvzk6kFLeU5OqRtf2QP7qR+LmKtba/\n",
       "GFSZd44Xr7AAAAAASUVORK5CYII=\n",
       "\" style=\"display:inline;vertical-align:middle;\" /></a></span>"
      ],
      "text/plain": [
       "|- forall_{y in A intersect B} (y in B)"
      ]
     },
     "execution_count": 23,
     "metadata": {},
     "output_type": "execute_result"
    }
   ],
   "source": [
    "# unfold to  express in terms of set memberships\n",
    "# and simultaneously change the instance variable\n",
    "A_intersect_B_subset_of_B.unfold(elem_instance_var=y)"
   ]
  },
  {
   "cell_type": "markdown",
   "metadata": {},
   "source": [
    "## Axioms <a id='axioms'></a>"
   ]
  },
  {
   "cell_type": "markdown",
   "metadata": {},
   "source": [
    "<font size=3>The ``axioms`` for containment establish the basic definitions of subset ($\\subseteq$), proper subset ($\\subset$), proper superset ($\\supset$), *etc.* A few of the axioms are shown below as illustrations (the rest can be accessed on the [containment axioms](./_axioms_.ipynb) page.)</font>"
   ]
  },
  {
   "cell_type": "code",
   "execution_count": 24,
   "metadata": {},
   "outputs": [
    {
     "data": {
      "text/html": [
       "<span style=\"font-size:20px;\"> <a class=\"ProveItLink\" href=\"axioms.ipynb#subset_eq_def\" style=\"text-decoration: none\">&nbsp;&#x22A2;&nbsp;&nbsp;</a><a class=\"ProveItLink\" href=\"../__pv_it/axioms/ed7814f7a77598e71c310f72f4f19c732914b3840/expr.ipynb\"><img src=\"data:image/png;base64,iVBORw0KGgoAAAANSUhEUgAAARkAAAAVBAMAAACAi4frAAAAMFBMVEX///8QEBCIiIhmZma6urrM\n",
       "zMxUVFQiIiJERETc3Nzu7u6qqqp2dnaYmJgyMjIAAAAcRTyBAAAAAXRSTlMAQObYZgAAA5hJREFU\n",
       "SMfFVktIVFEY/pv3nae7gloMuUgkc0AoiMKhNgWGk4tqESmpYEE5UDGJFVMIjhXMrGwIyhuF2hgm\n",
       "tLJNokSlZQNCb3FCCDLIId+K2DnnP9e5r5lmEfjDf8/zfvd/fOc/FyCX3IP/Jzmx+rmm6GBcf489\n",
       "jO0pzYqrcb6soUU552YLSciNpQ9kiQHTETo3pY/gjmE7zccfQqHQJexuIuDlAcVuZx99RYTcWGpB\n",
       "IDsJCtU4mRH07YYxbv80fuL+m8xSNYlBpU+xm6HEs+ViLMs8Bxok3UF0hnmlI03Y9JSjXz9lS6Vk\n",
       "asKr3E4jPJLNmibF6FMolFIAPSBdoq7hROKOPoAQxDZZ6qeNUW7zdRLZzaqsfEskHgchNxbKiWI1\n",
       "kJt8gupiJHJFH8GAmTCJLxg1rfK1eYDjZ1X7PZFI6wBkx7JvP3NgkDF6SgPk9KHWA7SxeXwemhlq\n",
       "4ISz4fl4BNUsJe0ycPP8eFEz643+pjJJu5YA2FRcXR9TrCfw0XuNbYxpgFwp1IOMzKQ/i5QtAGcB\n",
       "7rRiavzQwYLULXd1iaS5RuW/yQe9qqkJP2SwhuG9eJiZpgVyBFGtYGAxeLjKlo014Fjmh49BmWvL\n",
       "GsPqTNmIwYYVdTqCUCJ1e4b205SUS+WHYokQwcFRGs6UAsicRnUm8TPDF9AJLxhTcmtMpMMmnLIj\n",
       "5CHuGP6orXkHElddt+5Siju7fCDH4m/EtUCSNULqGAuBFw1/GoBdojxT5GHF1P1SVgnLbIY3P7Ag\n",
       "mQm2s7CqnqSfSZUtLMsUmOe4aVogUxAV2uoYs2APW64sKaqRMQ8EAuNOs3FnnSgvN9WammlrJxEo\n",
       "tqQuAo9ujTEow3puSAM72kYvqIEkFsMz9sZXKMUzArBDKvU0zLQW2ZZw4mSrdDN8J55s0VwCDupQ\n",
       "wJ0EOybI1WdIZ7BMK7a0gDxqXn9FAjIOoIKHWmqffBtl6LcBOniZo5HrXpsCR3RBeQfA+bXa3RGd\n",
       "As544YmB+XIkcgOgd9/rZVjHsp8uLuTXc2eLqAJyB1DBRVeMInSwS5DwuzKmW83zkC+MChAATPZe\n",
       "EOb0b4aKVulm4NLFFeUI8Skp3ARhGYRt/7rpcomQHoUBeMniQdKymicWvzU5yRZBiF41b4VXM2UN\n",
       "fk0lxdSHQpk/iqxiP1exUwQbjX40DPGFpC6W5i3+R6GkYV5/SPlIEeVN/ljUVo29/Rv1J/qZq0KS\n",
       "sLHyF6/bHb+VfJFoAAAAAElFTkSuQmCC\n",
       "\" style=\"display:inline;vertical-align:middle;\" /></a></span>"
      ],
      "text/plain": [
       "|- forall_{A, B} (A subset_eq B = forall_{x in A} (x in B))"
      ]
     },
     "execution_count": 24,
     "metadata": {},
     "output_type": "execute_result"
    }
   ],
   "source": [
    "# def of (non-proper) subset\n",
    "subset_eq_def"
   ]
  },
  {
   "cell_type": "code",
   "execution_count": 25,
   "metadata": {},
   "outputs": [
    {
     "data": {
      "text/html": [
       "<span style=\"font-size:20px;\"> <a class=\"ProveItLink\" href=\"axioms.ipynb#proper_subset_def\" style=\"text-decoration: none\">&nbsp;&#x22A2;&nbsp;&nbsp;</a><a class=\"ProveItLink\" href=\"../__pv_it/axioms/ca44a535bd761bcec2a63ff10a42ec85aa8586bd0/expr.ipynb\"><img src=\"data:image/png;base64,iVBORw0KGgoAAAANSUhEUgAAAUsAAAAVBAMAAAA9atGeAAAAMFBMVEX///8QEBCIiIhmZma6urrM\n",
       "zMxUVFQiIiJERETc3Nzu7u6qqqp2dnaYmJgyMjIAAAAcRTyBAAAAAXRSTlMAQObYZgAAA9tJREFU\n",
       "SMe9V01oE0EUfk2abDbZpDkUFBRd8GAv2kChXoQGPVQEaU/1IjbSCtWDTREJWn8iCE1FSQ6igmi3\n",
       "KBoq1EIP6sliD2IrEij4g7ZGWg+tYEtb+ie1zt9uMjPbtDnogze7M/Pty3vfm3kzASgkagaKko3w\n",
       "vpQ4cn8Diy+ZZnFndB1Qmj6OSxP+1oWqlmvF408J4964bMsK1YV8c6eoDuOBqXXcnKSPaXmmBNmv\n",
       "qd8A/yEWi53j8L1sxmQ1kJJsueLmW2AGxZGlehfnKm7vpT9EH9OGNNWIYq4LFcY/eCvhNZ12x9nw\n",
       "CG+rdnEAeT7AJsdWUPOaagCZ1Prs3VRo0E9rWPCfcuxUoqFvemH8ZN4Uw3uDlLEOFvh5zpar/daJ\n",
       "vhEvI83bv4zabqr+oZ6eO+vknI1nKsMSO1eRmS1GQbwzP3gTP0F67gM0QjXK2XIb4Lpc/jHMcuOY\n",
       "x5kPU11KJC6u4+Yu0pYarzK50JksABw9XRivgA1+kPR6gfgHjhBny4HU0zbBPjnsW0WtFqJ6EqCT\n",
       "DNP20Nxgi7nAb5L2ETTqIjuuhdGKdvKm/SISkvG3wQY/RrrDdOeCJ8PZIimzikDYNYs5zVI9SHYS\n",
       "ep+nVAdBCzIk/TgMXSGRHQdaNt0RkU0en7bDPyfdKPNG6ZNsNZsvpaDO4VIbpaqAg+To4SqZdUbA\n",
       "t8KQ5YSIpqrWuMiOB0Xi+C26yeMVO3wjoUIHNylAJWHRVq4cNVRVL+GBGapahtobOksD1MGZzf/Z\n",
       "UmQtK7JThqJ3zNq6aeE13QZP3FTQVolYbuZsabHYFVRMIiwpsCPPTTXbQMLQE2T2WT3sNfKTiPKi\n",
       "BEV2cKlzz+etzYiMh582+Frc6zerFUl6zhaSr9a5irQNRx2lCp1kObhhH5mu21NhrRO8JdQ+ehzw\n",
       "7OBS1ygdCjweHjcbEn7MLKj91hbibF0wv7jHTjNzC0E/KQ5foJJMvwfYbUIHWS30LIvsfEchbpXO\n",
       "JgEPxzrM48DC7zfXn2KwasPZ0swDnVTUJArAOUAVyjBL3vF3SQK9AdBlVh6UofTaFPiSiyGenTNr\n",
       "TdUJ+egS8DnJ4X/gxOEV6dBZRvNsabGdMbo2vck/BrxYQ9slUE8V/PjHnQZ0kc2Htlxdij/8LMmx\n",
       "U/BwLSDeKN1kSOrFE4MrR5Y8YUrlCGI1o14HdQXU7cJVYtOyMV4TrgEjfLdUvgOxqwera0ugJi+5\n",
       "tsGbuaqWsIXpLM5NHq/hBArs9wofeHj+A1I6zIscf7u2v+ZuWtJFxcGuxfld6QMchydlc6X/l38y\n",
       "/EX/yfjMlJMivfp/8hdktE+hr+lhIAAAAABJRU5ErkJggg==\n",
       "\" style=\"display:inline;vertical-align:middle;\" /></a></span>"
      ],
      "text/plain": [
       "|- forall_{A, B} (A proper_subset B = (A subset_eq B) and (B not_equiv A))"
      ]
     },
     "execution_count": 25,
     "metadata": {},
     "output_type": "execute_result"
    }
   ],
   "source": [
    "# def of (proper) subset\n",
    "proper_subset_def"
   ]
  },
  {
   "cell_type": "code",
   "execution_count": 26,
   "metadata": {},
   "outputs": [
    {
     "data": {
      "text/html": [
       "<span style=\"font-size:20px;\"> <a class=\"ProveItLink\" href=\"axioms.ipynb#not_proper_subset_def\" style=\"text-decoration: none\">&nbsp;&#x22A2;&nbsp;&nbsp;</a><a class=\"ProveItLink\" href=\"../__pv_it/axioms/db309df88abdda91fe89d18bcfcd211eced8d6530/expr.ipynb\"><img src=\"data:image/png;base64,iVBORw0KGgoAAAANSUhEUgAAAPkAAAAVCAMAAACzF7hbAAAAPFBMVEX///9RUVGurq4bGxsLCwsQ\n",
       "EBCIiIhmZma6urrMzMxUVFQiIiJERETc3Nzu7u6qqqp2dnaYmJgyMjIAAADYQjYbAAAAAXRSTlMA\n",
       "QObYZgAAAs9JREFUWMPdWNmWpCAMdRb2sP//v46AVQYQha7ul8lDResAlyw3BLft66L98xhntu+T\n",
       "GcA7sRrr8P7fL65rAL+JcLnX+l8vY5SMSQD+hY3PADbSAMrD9KydfY0Ki+EJunqLV2NkayEpu2dR\n",
       "rFs+A9hJBWgOb2WtX47UsLYPz6q3EC8c160pYkksHtmy4TOAnTSAjh4kpCjUZ/DnROEIGMuirvcJ\n",
       "Sqm/f5SqgkuPUT7SZctnAJPcARpyTE/aO5NEq8VqU433OwSv+O30VRoBOYDVcuWbAeylBQzHpKwj\n",
       "JFFubSMU5x43m42+iw90ZI4yp6CS6yV/BrCXFtAxpGXeH6Cp+JlDZG4vju3KgHANT4RC+csycwT0\n",
       "rJPeU1CYWC4guWH/BOAVzRtAH5DmDFW9wgmcRz7niyMt6xBWGq5xzSqJ2Yf8YJ0h8inCTL3FTQNe\n",
       "JEoLaBXW6YeeHjWsyiOWJ9m2kpLTO2I/MZmMZ4R1STE5Yt2+oflyquUs4JjmJ6CIWDtfOc0ZhZNO\n",
       "5aRibd+ANlKeSGhaDtAD1qWN0E8sHwAOaY4Aa8v3RgvFR9AN0EImtwC0a3PO5DseFKmTj8vh4bpJ\n",
       "xKeK53Js+SPgzWl+AnJVadCo15KJZIhSke4lQo4LjrZ9T5UahaBHrNs3tNA1vSx/BBzTHAFWFW53\n",
       "IjLV2zQBl968ROfU1/HwPmYBdxbB8osyHUqUOIGVQ03MAV72ux0gc7U+aWcCcw5QOYM8RHclqaSL\n",
       "gRgzEez+gMqDkeR3a50Mr9vDYrc4Byj5DGAQtfbvScxkO8/zqJjMo75tJvsL4S8HF83kJ3IPuIkZ\n",
       "QKNqjRxbyJQKg4bihPxL3MMFosuz77yXzwDOSXVjqcpWrgQaovKbIHu0nYrp6Ly8TsNNDKzbvl9A\n",
       "f7pCdUu9y9iVDwU/HvJ7wDXfPfjQPrn45uMQ335CPv0a5XWth+O2/1r+AZMYKUHFPHpZAAAAAElF\n",
       "TkSuQmCC\n",
       "\" style=\"display:inline;vertical-align:middle;\" /></a></span>"
      ],
      "text/plain": [
       "|- forall_{A, B} (A not_proper_subset B = [not](A proper_subset B))"
      ]
     },
     "execution_count": 26,
     "metadata": {},
     "output_type": "execute_result"
    }
   ],
   "source": [
    "# negation of (proper) subset\n",
    "not_proper_subset_def"
   ]
  },
  {
   "cell_type": "markdown",
   "metadata": {},
   "source": [
    "## Theorems & Conjectures<a id='theorems_and_conjectures'></a>"
   ]
  },
  {
   "cell_type": "markdown",
   "metadata": {},
   "source": [
    "<font size=3>The `logic.sets.inclusion` theory already has a substantial number of related theorems and conjectures established, covering a wide range of containment-related concepts, most of which would typically be used implicitly behind-the-scenes when utilizing the various related containment class methods instead of being used directly and explicitly in theorem form. The theorems and conjectures cover topics such as transitivity of containment relations, folding/unfolding of containment definitions, relaxation of strict containments, and containment claims being in the Boolean set. Some illustrative examples of the theorems are shown below, and the remainder can be found in the [containment theorems notebook](./\\_theorems\\_.ipynb).</font>"
   ]
  },
  {
   "cell_type": "code",
   "execution_count": 27,
   "metadata": {},
   "outputs": [],
   "source": [
    "from proveit.logic.sets.inclusion import (\n",
    "        unfold_subset_eq, fold_subset_eq, subset_eq_reflexive,\n",
    "        relax_proper_subset, transitivity_subset_eq_subset_eq, proper_subset_is_bool)"
   ]
  },
  {
   "cell_type": "code",
   "execution_count": 28,
   "metadata": {},
   "outputs": [
    {
     "data": {
      "text/html": [
       "<span style=\"font-size:20px;\"> <a class=\"ProveItLink\" href=\"proofs/unfold_subset_eq/thm_proof.ipynb\" style=\"text-decoration: none\">&nbsp;&#x22A2;&nbsp;&nbsp;</a><a class=\"ProveItLink\" href=\"../__pv_it/theorems/d9b546a738715058e159aa17be9b855bcfc97f240/expr.ipynb\"><img src=\"data:image/png;base64,iVBORw0KGgoAAAANSUhEUgAAAPcAAAAWBAMAAADuuhdHAAAAMFBMVEX///8QEBCIiIhmZma6urrM\n",
       "zMxUVFQiIiJERETc3Nzu7u6qqqp2dnaYmJgyMjIAAAAcRTyBAAAAAXRSTlMAQObYZgAAA4FJREFU\n",
       "SMe9lk1oE0EUx/8m2TS7SZqeRNBDsAdLsRooVJSqsV4UKo09iDeDWqgHMahYv42idtsqiRctgnZF\n",
       "sFhLDXhSD8YWsbZ+xAp+iwseCj3U0BqtlaLzsclOQ1JtRN9hd2bem/d7M/Pe7AIFimU0MLPBpZmU\n",
       "twH3sB86bX+YPdzlL6YvdyKPXgnnHH75c1uV6oc9Sj1gkA6NFAJ3xcirWMujL47mHp8HWFNQdAZv\n",
       "JwNyuBA4m9WeT/8i97A0BdjGgV4Gp6GzNcwazvZrMJ/+wLTe66YmnafKd3JUY8AV5sE90NV1AQXB\n",
       "33d1XQ/lUcvTFJvL0y1HCQEfJKfipx4woaqHC4N7VLU5nq8YfCTnFu6o6WXJZ+aUJwhpH91sH4M3\n",
       "AC1snD/Xjfc1slyxZYLNpI4tUl3VYsLtAUGXZesgVdCNV96jtGM3rbbsHGqmh+zWGXwtSz3S/cK0\n",
       "7hK4Stj0tP1HYtStqqdJ8zlw34TbfOjJWjC1ZVJECAN4pq2f5gpYGoUyl7ydIQYvgoXV6tUpprUG\n",
       "4ZwUZyirE5BO8XYVcE/LwBFCRdrpjb6Vhi2XOUStQeWdjaNEeMIdpwGQwKQk8+BKFLHhgT08ZC+s\n",
       "ugh3dfoy7d3AKnPleIJ0WrnbLmqGrQkHxnhHqMevFO7NwGV9EytALw/zZgBLNBFe7wjjrrEJKVhG\n",
       "BPhlKUgapfUN5Owytua2Q0oZkUwrc+wiU21829GynSUFljF1XUVZECI8aA1huZFwY0OnhWyH4zx5\n",
       "lNv1vfyS5rZmwt2xJMFqzOrNFAEpc2nCTDjcYhPeYSlTPwUWiXB3jLh4ZAB1WEIC3EnjDRQnoPhM\n",
       "W0Ptg+2HIynzHDiUuXRJLq9ppfHEOdxD41I+PY6w3T4DdMQEeE91/yRqjOXEIf8Q4PxMPVFI+1X1\n",
       "hGFrbFIIytbyUuOLde0kT1P756+VjW0sigD34KYKq4YO9o0kzuuiAnwF5FS6fD0x2L6L8LesdBFA\n",
       "0LTNeb3WNhvXa1o6DQ9MNhDXCbkV8iTkBcK228i+TUE5y+gdGs7FRTi9R5NPEccD03bmD0taegW4\n",
       "YwJy5Ig0Hw/HKxv9AjwSRvu3BJz95JJxHausOoksuLKzdrEGR8y0zb4Xc37tdXHlXJziTfnbu12U\n",
       "Mnrmf/AzIYSWDb/953DL0b/5jXpDHAxnwRN54O0qEfxHsf57xC8BVPer1lKnkwAAAABJRU5ErkJg\n",
       "gg==\n",
       "\" style=\"display:inline;vertical-align:middle;\" /></a></span>"
      ],
      "text/plain": [
       "|- forall_{A, B | A subset_eq B} [forall_{x in A} (x in B)]"
      ]
     },
     "execution_count": 28,
     "metadata": {},
     "output_type": "execute_result"
    }
   ],
   "source": [
    "# if A is a (non-strict) subset of B, then\n",
    "# every element of A is also an element of B\n",
    "unfold_subset_eq"
   ]
  },
  {
   "cell_type": "code",
   "execution_count": 29,
   "metadata": {},
   "outputs": [
    {
     "data": {
      "text/html": [
       "<span style=\"font-size:20px;\"> <a class=\"ProveItLink\" href=\"proofs/fold_subset_eq/thm_proof.ipynb\" style=\"text-decoration: none\">&nbsp;&#x22A2;&nbsp;&nbsp;</a><a class=\"ProveItLink\" href=\"../__pv_it/theorems/c94e209c48dc8ea1a5a2ea86421bc73f149fb1200/expr.ipynb\"><img src=\"data:image/png;base64,iVBORw0KGgoAAAANSUhEUgAAAO8AAAAWBAMAAADaw9ZbAAAAMFBMVEX///8QEBCIiIhmZma6urrM\n",
       "zMxUVFQiIiJERETc3Nzu7u6qqqp2dnaYmJgyMjIAAAAcRTyBAAAAAXRSTlMAQObYZgAAA4VJREFU\n",
       "SMe1VltIFFEY/prd1Z3Z2dW3AiP2qSKyhM3tRWohEOmC+5Q9VC5kYD6YJbFFRUZSYwW7vVQQ5YhQ\n",
       "4YtGEQlCthWSRWwXoqhso6eKSLREjbL/nDOzM3vJLmwH5vzzn9v3z3e+/5wB/kc5/5v+fnpS7OV1\n",
       "YXGVNm5cqZwe786JQGM7iuLAfeZ/KCywLy7MqOE/i0aje8TrHIppdVihkM6SJ7cVFviJMCPTwl64\n",
       "Z3XVJ4HaCiQoLB1Q+woLvE8QfnVKuO9tXcuJjDd+dBHrwz09ZwqLK7eI/ZS+cOuwf9ZhCmiuDl8I\n",
       "mNS0A/+wejynJWy+SBXcrPV857bYPmgCqGsijmnIdqCDt4m6Zvx2I1/UOSuuanecsapgB66ZrjvJ\n",
       "mQ65xrh72jbSNfF68X7GBqlrDRQue68gxlsKtZRP5zSRAoryAe/I8B4Bt+AwSSjuE4HL49y9bBso\n",
       "0bZ3RQBPC2NC4hF2C2IcEXim08CuwcyI05EPmik7EKDZQeCmrkSMtjkhVm8MBCdzqHbTN0nfaD5l\n",
       "mpoUPcOtYpgfjlQaGJRolXmAi8wNfd7fQ/VuYJWlXgFM1QKxK35rXgkFJ40JYDm1kX+DX+NdvWEs\n",
       "0y3gEU3Ll+Qs1kTlwrCT60j5ConOoHI71R56dgn/Y2YaF9GeOpnwOxr4N2Al76otXywocxu1NyPJ\n",
       "B4ShBJT05uKQT4hr7PFRMtft4jpHz2fhX2zQ7Wlc3ybEhas87V5iOe96CCyyAathd8YpvFfYGqII\n",
       "n0gYYlAKUgtvFG6FkcsxQ26bj5lH5luKch6F4WAaKWF7oLx7EONxnQQ6+yxgJbLeON4DAbbmFeFV\n",
       "s4oUWqdpmh/uQcikmK1mdrVAif3QcWOmNWuHmme2BTW2uo9pxKuLvOnkgqEFauMWMJqaIC8tj+Au\n",
       "99b1CtY2MVWMuoxUK+mDc8qIxjoyZyuX0m8baHpSPg55GvJ8G9WopvRytg0qQpoVQrFsYqeaUmkn\n",
       "mNep4xRx9yrrkpilJNL5NQk5dtBVhqHxQGPIDlxMS0t+OI8wqtWqoaRo1XHxaWIYOMH4PxQItpNd\n",
       "kV4t4zxVo1HrWjSkkn1Te+y5bs10h5MKPzG2cOGwE8iUusT22CiprB+BXxd3PM8vSS6w43EijDsM\n",
       "pQwXymAeLNnFk/zjX58X2Q3JvMA2Vds1kV26C3SrOmbt9eRei0v+avmf/xbZW+4CTAIAAAAASUVO\n",
       "RK5CYII=\n",
       "\" style=\"display:inline;vertical-align:middle;\" /></a></span>"
      ],
      "text/plain": [
       "|- forall_{A, B | forall_{x in A} (x in B)} (A subset_eq B)"
      ]
     },
     "execution_count": 29,
     "metadata": {},
     "output_type": "execute_result"
    }
   ],
   "source": [
    "# if every element of A is also an element of B,\n",
    "# then A is a (non-strict) subset of B\n",
    "fold_subset_eq"
   ]
  },
  {
   "cell_type": "code",
   "execution_count": 30,
   "metadata": {},
   "outputs": [
    {
     "data": {
      "text/html": [
       "<span style=\"font-size:20px;\"> <a class=\"ProveItLink\" href=\"proofs/subset_eq_reflexive/thm_proof.ipynb\" style=\"text-decoration: none\">&nbsp;&#x22A2;&nbsp;&nbsp;</a><a class=\"ProveItLink\" href=\"../__pv_it/theorems/c167398f7d2e6d35182b209584c98eb13640031e0/expr.ipynb\"><img src=\"data:image/png;base64,iVBORw0KGgoAAAANSUhEUgAAAGwAAAAUBAMAAACaOcVSAAAAMFBMVEX///8QEBCIiIhmZma6urrM\n",
       "zMxUVFQiIiJERETc3Nzu7u6qqqp2dnaYmJgyMjIAAAAcRTyBAAAAAXRSTlMAQObYZgAAAcRJREFU\n",
       "OMuFVDtLA0EQ/oyJyV1yml8g+QcJBLRQMGAhCEKqlEbwhZURi0NQSJlUl05BxAMtJIIIFtoJWijR\n",
       "4sBSlIDaBEHRgFHwMfuI7GLUgb1vd76b2XndAS1kDX9KuARU2eZKU5t5DoFqK5tRWjPAGdvXNKaz\n",
       "JOBRHK1p27bTTfKB1g6wQmDkNbMLAddvHIz7ksJZDy4QiaGTwa5mtiBC3XtV75ayPUBHMwqrUi4v\n",
       "a1ZGTvj11Tn2aaQXT9HzFmgUCosa40twGA6/c8ypnN899AiOgUmgyFVFSYU8HmMq8MTvHlPNNpGN\n",
       "sbSBQZi80lZdUkGeqR/Gs9INKSmss1j26S34uPuNd0m1seiRSfY0fgQZGE/OMjdZKqMX5KrKvGZG\n",
       "j25+PFJTI7YqzIxqhjuKFdQgw7TmRAOU7tA2GCUcYqWYYJoO9KolWZUDQclNDX+3ZlfODpUEezz6\n",
       "S8QlGUnI3jmi0YHT5nCx/obYEPTT6mIlNW/OHVcmkIPpfLg4+JzXp3jrs4aw80Je71jl2evtLtbT\n",
       "2nD9IeZ3dUfoVk8f5d8lEmuWoQHDWWoetOE9sW31w4H4cFrFkP/ntmJr9T8/BauEL2dybp5wiLXZ\n",
       "AAAAAElFTkSuQmCC\n",
       "\" style=\"display:inline;vertical-align:middle;\" /></a></span>"
      ],
      "text/plain": [
       "|- forall_{A} (A subset_eq A)"
      ]
     },
     "execution_count": 30,
     "metadata": {},
     "output_type": "execute_result"
    }
   ],
   "source": [
    "# a set is always a (non-strict) subset of itself\n",
    "subset_eq_reflexive"
   ]
  },
  {
   "cell_type": "code",
   "execution_count": 31,
   "metadata": {},
   "outputs": [
    {
     "data": {
      "text/html": [
       "<span style=\"font-size:20px;\"> <a class=\"ProveItLink\" href=\"proofs/relax_proper_subset/thm_proof.ipynb\" style=\"text-decoration: none\">&nbsp;&#x22A2;&nbsp;&nbsp;</a><a class=\"ProveItLink\" href=\"../__pv_it/theorems/2c430372c2a6c5c1fc591eea9ac0c696b14ae0950/expr.ipynb\"><img src=\"data:image/png;base64,iVBORw0KGgoAAAANSUhEUgAAALkAAAAWBAMAAABuySBUAAAAMFBMVEX///8QEBCIiIhmZma6urrM\n",
       "zMxUVFQiIiJERETc3Nzu7u6qqqp2dnaYmJgyMjIAAAAcRTyBAAAAAXRSTlMAQObYZgAAAs1JREFU\n",
       "SMetVU1oE0EU/tyfNLtJak8iKBLwoBdtIBBRika8SFFaPPQkGLBCD4rRokFRjCB2W4XEixZEuyK0\n",
       "koMGetGTtSJqFYkVBBE14Ml6aGlsTSO1vpnZTSdtrbg6sPvemzfzvd+ZATyPG3/QP6CvyJgPHsDN\n",
       "NCd6cZHm7dzBmBWHLwu8YPKYB/T6rCATLmYqlToh2NWAOgWT7PaSZKQ9oL8R5GNF0JvPqxp9FtBK\n",
       "wDDZtoFg3gP6KZGfwRkhfpnXKDQVmgRuERnJ5a55ADeSnISUb5yqkoP+BkI+TY7HgbJlnfGArkQ4\n",
       "aQ7MclonqVYmoJ9kKaElh4BuPin+u0uPO3i9tKorWZfTMk2xbne2wBMT1ye5eFVCP3BktIuFEqKy\n",
       "7uLFJV6EGGpAsIFvdxd/ilf3vQYeOWxdXrhglLh4R0JvzMJcRTSQZDEp3I3bIkQ1gUBFRjd3kFpf\n",
       "H40SHwMe2mJ6BbfZFo2VF2XmPLNAxnVq1mBBaEY6xbIw1KKMHhyIwDzcnMsRfxzYDhmdfuvEqvA8\n",
       "+jRDDwt0o9jGmzRscdW9Vmy2ZfR9/jR8rSKMKShjcmYC9B0T8teadsdRsquxtupuZ3M+bOG6lk0b\n",
       "E5DRE2oSe5yqTo5ehFzV6/SNC7m/3ZbaXS87VcUg79z3aOS6V8AGGT2UVybwxElSEUrSTVjE6fmM\n",
       "01L7u5yboJ6aYmcPK+EQa0+WMvPzyww3fhnoy0vod5ueVbDV8XcIxg+3O5MwMz9t3J/rrD0IvvHp\n",
       "aMclboblM8RQVRt9PLm0uyUroW+DMUWBiWOShzZTexMsNwaq3F7aWzB6YFRgrJUyo1F6Z91u7rNx\n",
       "ZWjBLbbMGK7WqAwjc1Zfg6elaEdcQs+k0fu9oPETGjwXjV3A4iPMdanU/A3sHJSFN39A4v2yot+y\n",
       "rKVfj9+PWvPOY7UkupeX793CicLfoP/TUP8Dxi9bSbT1CXT83gAAAABJRU5ErkJggg==\n",
       "\" style=\"display:inline;vertical-align:middle;\" /></a></span>"
      ],
      "text/plain": [
       "|- forall_{A, B | A proper_subset B} (A subset_eq B)"
      ]
     },
     "execution_count": 31,
     "metadata": {},
     "output_type": "execute_result"
    }
   ],
   "source": [
    "# we can \"relax\" a strict subset claim into an improper subset claim\n",
    "relax_proper_subset"
   ]
  },
  {
   "cell_type": "code",
   "execution_count": 32,
   "metadata": {},
   "outputs": [
    {
     "data": {
      "text/html": [
       "<span style=\"font-size:20px;\"> <a class=\"ProveItLink\" href=\"proofs/transitivity_subset_eq_subset_eq/thm_proof.ipynb\" style=\"text-decoration: none\">&nbsp;&#x22A2;&nbsp;&nbsp;</a><a class=\"ProveItLink\" href=\"../__pv_it/theorems/3bbcd61486393baf9bb794c3d3496a6f8be058ed0/expr.ipynb\"><img src=\"data:image/png;base64,iVBORw0KGgoAAAANSUhEUgAAAPcAAAAWBAMAAADuuhdHAAAAMFBMVEX///8QEBCIiIhmZma6urrM\n",
       "zMxUVFQiIiJERETc3Nzu7u6qqqp2dnaYmJgyMjIAAAAcRTyBAAAAAXRSTlMAQObYZgAAA3hJREFU\n",
       "SMe1Vl1IVEEUPt27q96/9L2o7SkLSkPYfljS6iWC0Aykhx4W1sCXYEtiKxI3qG2NYreXEqL2hpAm\n",
       "Vgu+JAVtBqUWdSsIJaqtnrKHRJPMsjpz5v65/gWtA3fmzJ0z8505850zA7BY5coC4z34ZZnwNv/Y\n",
       "cpQab3aWodLQQSlTkAR4wrrD+QdfmuTNiNl/HYlEjnBxlQHKBkNGs1qxJ0XzD/6KN+8meXu13x7p\n",
       "OI5VZRJ60TQdQE3nH/wY93D3D9797Ix8QETYBnANQBvo7LyUf2wpTI0mfKNWdLYn/mT1Xtx2FcBE\n",
       "PH4i/+BCOTW7lClqC52RFJl1A/2NKgcAWugvr3eOPWzgXNFiAYFJHmtaUdKSPImAP1edlcFQZo2p\n",
       "a5DXq7yj1L3ogD/3mYKGjNsBMoWDxh2klYBaQo77CPJJWsea9h791BWPx1B8AfDApS73xeNBZJUP\n",
       "Okq4biH52QPSGCeZA95cYwpKmHlEICvbuIPEICjE0BRCDbrB5UoDvKe57Ae4rzvq+2hBCc3XzMBZ\n",
       "UsXqugr/RK7bV9I8rLwYharBRwYauZoPRPIEI0KtG1xtL7flwwBbXeocsTCDK/rc4Fit4HN9zs5p\n",
       "1zUcXMrWUSryxWnsdg2sZ7YJbPudbvDaoijcNZ0wDsKwo65wLpfhPFl3uV3B7xDvf7HBKxlFVHYm\n",
       "jHkt9exfAWyksep1pUGabSceCzwohmGzSbjRlzFw1EVOuaMuthPhLuP3lfev1+sW25kTBkzCQTdx\n",
       "/w2U0dgzgNWsLc7kgGtpYQTMPKVmQQg76ioH/+UCZ3FEsZ4wY2H/GTO9suDrZpaIDKGYmSJ/epog\n",
       "286hbWnzAGXDBX4r0DcJ2017MiBRruDqHn6ijCU3rWAMg5z4rcOdP425KaAtFiJCLGUs1cgMHVJE\n",
       "WVyzmhkrRvnJ2OBbQBq3Qr04DR6eN7k6j/lN+GWmp9f5Srst7cYVDeksSJMgLcfrRocmkPtd4B70\n",
       "whTI5wk9pcMF3Lyt3jFENDGgK5lzscxTeu1znQAp0eRdBo/HKhrQKXvSoIZ6dRd4Igqt3/Eu7MMk\n",
       "ozZX+E9hgNjqcI+SzKPAWpiZDokCkYhzpZoRk3vTK7bkuueK5rRdWfgxMXeZbp35tOHLJv8FvOd/\n",
       "nlFDuT8MS9BgdvDWOJYZ6hL7uwgPEsb7RXtj/gWHMvKyA0iD+AAAAABJRU5ErkJggg==\n",
       "\" style=\"display:inline;vertical-align:middle;\" /></a></span>"
      ],
      "text/plain": [
       "|- forall_{A, B, C | A subset_eq B, B subset_eq C} (A subset_eq C)"
      ]
     },
     "execution_count": 32,
     "metadata": {},
     "output_type": "execute_result"
    }
   ],
   "source": [
    "# the subset relation is transitive\n",
    "transitivity_subset_eq_subset_eq"
   ]
  },
  {
   "cell_type": "code",
   "execution_count": 33,
   "metadata": {},
   "outputs": [
    {
     "data": {
      "text/html": [
       "<span style=\"font-size:20px;\"> <a class=\"ProveItLink\" href=\"proofs/proper_subset_is_bool/thm_proof.ipynb\" style=\"text-decoration: none\">&nbsp;&#x22A2;&nbsp;&nbsp;</a><a class=\"ProveItLink\" href=\"../__pv_it/theorems/e8854dff8e986d94ce222a93754399d0993c62a90/expr.ipynb\"><img src=\"data:image/png;base64,iVBORw0KGgoAAAANSUhEUgAAALcAAAAVBAMAAAD2lGJJAAAAMFBMVEX///8QEBCIiIhmZma6urrM\n",
       "zMxUVFQiIiJERETc3Nzu7u6qqqp2dnaYmJgyMjIAAAAcRTyBAAAAAXRSTlMAQObYZgAAAuBJREFU\n",
       "OMutVU1oE1EQ/sxfs5s0zaEQQZGAB3vRFgt6ERrwUClIcqoXsYFWSD3YikiQqkQRmorSnKwnE6lo\n",
       "qBALHsSTpTmoVWSPikYj6sEKtliJbUXjvJ/dbDbZgOAHs/vezHvzZr+Z2Qe0gqIJaQVfprn+EUmZ\n",
       "DUo2G/NSCMcajO1jld7EZWC0Xu04lf4TGgE8dOhzpli2cf5FCmGl0bolBfTFULCoA+5wflaDSmHf\n",
       "YF+fau67vUcIG67kGsxDRFi0B/5wvdrr0hwx8rhI59Am/3xz520ZIYR7fZLaV8lk8owYdpPqfRhq\n",
       "UIYymbwgnfvmyfktUi3Nzc3YsDIjhaB1R/j75rOa+SKghii2T3zmvpQzIvcPkPMA7VhPp8/ZON8p\n",
       "BXDlHouiOWsyV4AjJ+hd5LNCrkZL/2CM+CBCjwNTXCmeh9aKCb24rkkBbmOIM+s0EeiulLom2OAd\n",
       "n47WOA9VOxlNlNGDPK80/iGYC8IvScSEFCCCLE9sm7nmNojXOA0e8mnKlFB/aYEaYJytd/Avnv3N\n",
       "Tc44fJtyWacUuId7x/jm6+aqoBgcv1jV8CU7vhGkc6QOk2aVqNFEOEunRYWE4SxbnbuoqMuodRRH\n",
       "B0Xt+K47V8yRI+URzpXyID85nOam+zHsyVlpIabbglZaWJl7GJf9fBo0O48HKKJxlsgRpvJgPzdF\n",
       "d3fFYUmoQs4Dq0xjbhhW5kMpI6F76yJ/KxKKB+wEvEE3N70EdunLilJYrXs3uOprzfkHCm4r+8gD\n",
       "gs95o/0X/EUK0LnAuGPRqB9fTHM2rgJZfVm/kHx1Gb7pn7xc7ozonJ2sDu9L85Wf+VxNDNT9uBCI\n",
       "seJjy505ZNkElP5oprH9DRydNNpfQh0Xb9dT0f467hojKp0OTbkCZRPK9iY/rhaw/rh0LBpJWIcy\n",
       "fd69DU/WehMRwz5lNG4LFJqr1bL1VrG/LOxhc7o30+Rq+tdrrt3mmnttVWj4r/gLpCfCqvXZkQMA\n",
       "AAAASUVORK5CYII=\n",
       "\" style=\"display:inline;vertical-align:middle;\" /></a></span>"
      ],
      "text/plain": [
       "|- forall_{A, B} ((A proper_subset B) in BOOLEAN)"
      ]
     },
     "execution_count": 33,
     "metadata": {},
     "output_type": "execute_result"
    }
   ],
   "source": [
    "# a subset claim is a Boolean value\n",
    "proper_subset_is_bool"
   ]
  },
  {
   "cell_type": "markdown",
   "metadata": {},
   "source": [
    "## Demonstrations <a id='further_demonstrations'></a>"
   ]
  },
  {
   "cell_type": "markdown",
   "metadata": {},
   "source": [
    "<div style=\"width: 90%; border: 5px solid green; padding: 10px; margin: 0px;\"><a id='demo01'></a><font size=4><font size=4><b>1.</b> Some subset relationships among standard numerical sets, deducing some standard memberships, and deriving $\\{x\\in A, A \\subseteq B\\} \\vdash x\\in B$.</font></div><br>\n",
    "<font size=3>We begin with some simple expressions involving well-known numerical sets. Many standard subset and membership relationships involving common numerical sets are available as theorems, with many such theorems automatically imported and utilized. For example:</font>"
   ]
  },
  {
   "cell_type": "code",
   "execution_count": 34,
   "metadata": {},
   "outputs": [
    {
     "data": {
      "text/html": [
       "<span style=\"font-size:20px;\"> <a class=\"ProveItLink\" href=\"../../../../numbers/number_sets/natural_numbers/_theory_nbs_/proofs/nat_pos_within_nat/thm_proof.ipynb\" style=\"text-decoration: none\">&nbsp;&#x22A2;&nbsp;&nbsp;</a><a class=\"ProveItLink\" href=\"../../../../numbers/number_sets/natural_numbers/__pv_it/theorems/279abc41feb66167466b68f0a95cc16f0981efc00/expr.ipynb\"><img src=\"data:image/png;base64,iVBORw0KGgoAAAANSUhEUgAAAEcAAAAUBAMAAAAthD11AAAAMFBMVEX///9mZmaqqqrc3NyIiIgi\n",
       "IiJUVFTMzMyYmJi6uroQEBB2dnZEREQyMjLu7u4AAAA1o4RqAAAAAXRSTlMAQObYZgAAANRJREFU\n",
       "KM9jYCANsBGjiIceit7+OfuAYdevCdgUIeROsCcw8H1gyL176+7dBjRVUDkGhtQCFwaGBditg8tl\n",
       "nmMrYAhAUdQTGhoazoAsl1zGdw9Vke1mGAsul8zkUIaqKBhuJFwumWEnhwOyIkYFhCKYXDID24N0\n",
       "EIMZKsPKgKQIKpfMwJfAuwDJS2bIiqByyQwM1ezIit4gK4LKARkcCgeQFKFYB5VLB+LNyIq4HeBM\n",
       "uNwlkIcuIIfzJRQWSK70F1AlH4qiZ5kPIAwscghQfRQaLVAAAIRnSmUaYQ4LAAAAAElFTkSuQmCC\n",
       "\" style=\"display:inline;vertical-align:middle;\" /></a></span>"
      ],
      "text/plain": [
       "|- NaturalPos proper_subset Natural"
      ]
     },
     "execution_count": 34,
     "metadata": {},
     "output_type": "execute_result"
    }
   ],
   "source": [
    "ProperSubset(NaturalPos, Natural).prove()"
   ]
  },
  {
   "cell_type": "code",
   "execution_count": 35,
   "metadata": {},
   "outputs": [
    {
     "data": {
      "text/html": [
       "<span style=\"font-size:20px;\"> <a class=\"ProveItLink\" href=\"../../../../numbers/number_sets/integers/_theory_nbs_/proofs/nat_within_int/thm_proof.ipynb\" style=\"text-decoration: none\">&nbsp;&#x22A2;&nbsp;&nbsp;</a><a class=\"ProveItLink\" href=\"../../../../numbers/number_sets/integers/__pv_it/theorems/f686cf957bce85c4157553f8df57738db80465350/expr.ipynb\"><img src=\"data:image/png;base64,iVBORw0KGgoAAAANSUhEUgAAADkAAAAPBAMAAACsFXoGAAAAMFBMVEX///9mZmaqqqrc3NyIiIgi\n",
       "IiJUVFTMzMyYmJi6uroQEBB2dnZEREQyMjLu7u4AAAA1o4RqAAAAAXRSTlMAQObYZgAAAPZJREFU\n",
       "GNNjePvn7AOGXb8mMKCAqevX3opdAWScYE9g4PuAKsngI87Ay3AAyEgtcGFgWIAmK83AsIkbZF7m\n",
       "ObYChgCIYE9oaGg4iCHHwJxQCGIkl/Hdg8rabkbo5nlwDizL5FAGlQ1GMruFowEsy7CTwwEsy6iA\n",
       "kOQ78IYBIsv2IB0sy4qkla0gGSrLl8ALdrMZkuxEzg1QWYZqdrDsGyTZCzwMDNwPwLIcCgfQTOZW\n",
       "2MnAwAVkpAPxZrAstwNc1ow5gYFBCsi4BHLtBbDYJbjsOZ4HDM96GBhKfwH18UFkn2U+gEhyrrl1\n",
       "5tSvg2jBW30UGpJQAADwfUE6b5/KAQAAAABJRU5ErkJggg==\n",
       "\" style=\"display:inline;vertical-align:middle;\" /></a></span>"
      ],
      "text/plain": [
       "|- Natural proper_subset Integer"
      ]
     },
     "execution_count": 35,
     "metadata": {},
     "output_type": "execute_result"
    }
   ],
   "source": [
    "ProperSubset(Natural, Integer).prove()"
   ]
  },
  {
   "cell_type": "code",
   "execution_count": 36,
   "metadata": {},
   "outputs": [
    {
     "data": {
      "text/html": [
       "<span style=\"font-size:20px;\"> <a class=\"ProveItLink\" href=\"../../../../numbers/number_sets/integers/_theory_nbs_/proofs/nat_pos_within_int/thm_proof.ipynb\" style=\"text-decoration: none\">&nbsp;&#x22A2;&nbsp;&nbsp;</a><a class=\"ProveItLink\" href=\"../../../../numbers/number_sets/integers/__pv_it/theorems/c71b7375f6d5321d497c228767bd7b64908c6ca80/expr.ipynb\"><img src=\"data:image/png;base64,iVBORw0KGgoAAAANSUhEUgAAAEYAAAAUBAMAAADCRlZLAAAAMFBMVEX///9mZmaqqqrc3NyIiIgi\n",
       "IiJUVFTMzMyYmJi6uroQEBB2dnZEREQyMjLu7u4AAAA1o4RqAAAAAXRSTlMAQObYZgAAAQ1JREFU\n",
       "KM9jYCAJsBGhhofmat7+OfuAYdevCdjUcEb9urv0VgMDwwn2BAa+Dwy5d2/dvduAqoblYAHDBZDW\n",
       "1AIXBoYFWO1i3MDArbATyMg8x1bAEICshuNoaGhoAUjNAwYzdgEgI7mM7x6KGubbBgijzvE8AKlh\n",
       "cihDUcOKpITDoQNEJTPs5HBAViOE5KI3fAcgatgepIPUMEPFA5DUpLMZQNTwJfAuQAgzJyAFkMBs\n",
       "Bogahmp2JDUQ0yGAlwHI2QdWw6GAJI5s1ybuCeCwSweyNyOr2YJkrRkwkIBqLoEC6wKSGl4FeCw/\n",
       "OMfAl3GAofQX0Aw+ZDV8afOgrFln15xZv0YAW1Jg3wONCygAACzQRrKr0tMGAAAAAElFTkSuQmCC\n",
       "\" style=\"display:inline;vertical-align:middle;\" /></a></span>"
      ],
      "text/plain": [
       "|- NaturalPos proper_subset Integer"
      ]
     },
     "execution_count": 36,
     "metadata": {},
     "output_type": "execute_result"
    }
   ],
   "source": [
    "ProperSubset(NaturalPos, Integer).prove()"
   ]
  },
  {
   "cell_type": "code",
   "execution_count": 37,
   "metadata": {},
   "outputs": [
    {
     "data": {
      "text/html": [
       "<span style=\"font-size:20px;\"> <a class=\"ProveItLink\" href=\"../../../../numbers/numerals/decimals/_theory_nbs_/proofs/nat1/thm_proof.ipynb\" style=\"text-decoration: none\">&nbsp;&#x22A2;&nbsp;&nbsp;</a><a class=\"ProveItLink\" href=\"../../../../numbers/numerals/decimals/__pv_it/theorems/7fb9a05424b991456a1d535347793e2786ff41910/expr.ipynb\"><img src=\"data:image/png;base64,iVBORw0KGgoAAAANSUhEUgAAADIAAAAPBAMAAABU9YHxAAAAMFBMVEX///+6urrc3NzMzMwiIiJE\n",
       "REQyMjJmZmaIiIiYmJh2dnZUVFTu7u4QEBCqqqoAAABhZHJKAAAAAXRSTlMAQObYZgAAALJJREFU\n",
       "GNNjYEAHPPmhOQxc9y8yMPDdQZNinWDNwHCegeH06j9oMtzOHA0MvEAGJ0xmqotLAlhG9MBmBhYk\n",
       "GdMemB7lDccOIMnw5MBNU3jBvAFJhlsBIcMlMANJhhXhAgWGPdwmCBnbNCBIgMqcZshFyKgi62Fe\n",
       "YIuQ4UWWYZjHipBhb4DLGDAwcIGM4ID6xw8mw/YASJQB1e79VgkWOB14AEwz+18FkseQw0sqBBI6\n",
       "UAAAZMEtCDaxdO0AAAAASUVORK5CYII=\n",
       "\" style=\"display:inline;vertical-align:middle;\" /></a></span>"
      ],
      "text/plain": [
       "|- 1 in Natural"
      ]
     },
     "execution_count": 37,
     "metadata": {},
     "output_type": "execute_result"
    }
   ],
   "source": [
    "InSet(one, Natural).prove()"
   ]
  },
  {
   "cell_type": "markdown",
   "metadata": {},
   "source": [
    "<font size=3>Given that $1 \\in \\mathbb{N}$ and $\\mathbb{N} \\subset \\mathbb{Z}$, we should be able to show that $1 \\in \\mathbb{Z}$, and Prove-It can do this automatically:</font>"
   ]
  },
  {
   "cell_type": "code",
   "execution_count": 38,
   "metadata": {},
   "outputs": [
    {
     "data": {
      "text/html": [
       "<strong id=\"one_is_an_integer\">one_is_an_integer:</strong> <span style=\"font-size:20px;\"> <a class=\"ProveItLink\" href=\"../__pv_it/demonstrations/d03090637eb683a4241e1f382ff675744d9942810/proof.ipynb\" style=\"text-decoration: none\">&nbsp;&#x22A2;&nbsp;&nbsp;</a><a class=\"ProveItLink\" href=\"../__pv_it/demonstrations/01e2e8262b124835ebfc2d77a794e7dae8a261780/expr.ipynb\"><img src=\"data:image/png;base64,iVBORw0KGgoAAAANSUhEUgAAADEAAAAPBAMAAAC/wjryAAAAMFBMVEX///+6urrc3NzMzMwiIiJE\n",
       "REQyMjJmZmaIiIiYmJh2dnZUVFTu7u4QEBCqqqoAAABhZHJKAAAAAXRSTlMAQObYZgAAALZJREFU\n",
       "GNNjYMAAIvev5brdBDL47qDJtBYzsDEEMDCcXv0HTaaKgWEdlwCQwQmTmerikgCiaxiYNpgzIMmY\n",
       "9sB1sR6IQZLhyUGYN4NzApIMtwJcgifgKAOSDCtCC7fBJmQZ2zQgALuAQZxxAbKMKkJPAlA/1wG4\n",
       "DC9cguvBQggXKsPeAJPRZtrAwFALZHBA/eMHk4lhPcBweipQ7d5vlWCB04EHwDTj1dzQ2L/hyOEl\n",
       "FQIJHSgAAKR1Lx76K3s7AAAAAElFTkSuQmCC\n",
       "\" style=\"display:inline;vertical-align:middle;\" /></a></span><br>"
      ],
      "text/plain": [
       "one_is_an_integer: |- 1 in Integer"
      ]
     },
     "execution_count": 38,
     "metadata": {},
     "output_type": "execute_result"
    }
   ],
   "source": [
    "one_is_an_integer = InSet(one, Integer).prove()"
   ]
  },
  {
   "cell_type": "markdown",
   "metadata": {},
   "source": [
    "<font size=3>In the detailed proof of that conclusion, Prove-It instantiates the ``unfold_subset_eq`` theorem<br>\n",
    "> $\\forall_{A,B\\rvert A\\subseteq B} \\left[ \\forall_{x \\in A} (x \\in B) \\right]$\n",
    "    \n",
    "to eliminate both universal quantifiers by instantiating $A$ to $\\mathbb{N^{+}}$, $B$ to $\\mathbb{Z}$, and $x$ to $1$. The theorem appears in Line 1 in the proof below. The ''fold'' and ''unfold'' language often appears in theorems that ''fold'' or ''unfold'' axiomatic definitions, and here in the cases of subsets ($\\subseteq$) and supersets ($\\supseteq$) move between set-containment versus element-membership notation.<br/>\n",
    "Notice also the ``relax_subset`` theorem cited on line 4 and instantiated on line 2, illustrating the use of another containment-related theorem in the proof process.\n",
    "</font>"
   ]
  },
  {
   "cell_type": "code",
   "execution_count": 39,
   "metadata": {},
   "outputs": [
    {
     "data": {
      "text/html": [
       "<table><tr><th>&nbsp;</th><th>step type</th><th>requirements</th><th>statement</th></tr>\n",
       "<tr><td><a name=\"-0x6a4d5a28c8176ca7_step0\">0</a></td><td>instantiation</td><td><a href=\"#-0x6a4d5a28c8176ca7_step1\">1</a>, <a href=\"#-0x6a4d5a28c8176ca7_step2\">2</a>, <a href=\"#-0x6a4d5a28c8176ca7_step3\">3</a></td><td><span style=\"font-size:20px;\"> <a class=\"ProveItLink\" href=\"../__pv_it/demonstrations/d03090637eb683a4241e1f382ff675744d9942810/proof.ipynb\" style=\"text-decoration: none\">&nbsp;&#x22A2;&nbsp;&nbsp;</a><a class=\"ProveItLink\" href=\"../__pv_it/demonstrations/01e2e8262b124835ebfc2d77a794e7dae8a261780/expr.ipynb\"><img src=\"data:image/png;base64,iVBORw0KGgoAAAANSUhEUgAAADEAAAAPBAMAAAC/wjryAAAAMFBMVEX///+6urrc3NzMzMwiIiJE\n",
       "REQyMjJmZmaIiIiYmJh2dnZUVFTu7u4QEBCqqqoAAABhZHJKAAAAAXRSTlMAQObYZgAAALZJREFU\n",
       "GNNjYMAAIvev5brdBDL47qDJtBYzsDEEMDCcXv0HTaaKgWEdlwCQwQmTmerikgCiaxiYNpgzIMmY\n",
       "9sB1sR6IQZLhyUGYN4NzApIMtwJcgifgKAOSDCtCC7fBJmQZ2zQgALuAQZxxAbKMKkJPAlA/1wG4\n",
       "DC9cguvBQggXKsPeAJPRZtrAwFALZHBA/eMHk4lhPcBweipQ7d5vlWCB04EHwDTj1dzQ2L/hyOEl\n",
       "FQIJHSgAAKR1Lx76K3s7AAAAAElFTkSuQmCC\n",
       "\" style=\"display:inline;vertical-align:middle;\" /></a></span></td></tr>\n",
       "<tr><td>&nbsp;</td><td colspan=4 style=\"text-align:left\"><span style=\"font-size:20px;\"><a class=\"ProveItLink\" href=\"../../../../__pv_it/common/09585084922504426caf1db2ff588a23a0932a960/expr.ipynb\"><img src=\"data:image/png;base64,iVBORw0KGgoAAAANSUhEUgAAAA8AAAAOBAMAAAACpFvcAAAALVBMVEX///8iIiIQEBBERERUVFS6\n",
       "urqIiIjc3NxmZmaqqqru7u6YmJgyMjLMzMwAAACK9jtgAAAAAXRSTlMAQObYZgAAAFtJREFUCNdj\n",
       "YACBOwxQcA5Kc59bAGGs7CuAMDbkBYBp1gXzNoAZSxnuJYAZAQx1DSCa16PDzwCshIGB6QCIMYGB\n",
       "gVEBSLMDGTwPgIxCIGZ+zsCw+N0pBk67hw0AfpEVEQi8t+wAAAAASUVORK5CYII=\n",
       "\" style=\"display:inline;vertical-align:middle;\" /></a> : <a class=\"ProveItLink\" href=\"../../../../numbers/number_sets/natural_numbers/__pv_it/common/8b7c321957f52ed3b05b36af612eeae4fa4783bc0/expr.ipynb\"><img src=\"data:image/png;base64,iVBORw0KGgoAAAANSUhEUgAAAA8AAAAOBAMAAAACpFvcAAAAMFBMVEX///9mZmaqqqrc3NyIiIgi\n",
       "IiJUVFTMzMyYmJi6uroQEBB2dnZEREQyMjLu7u4AAAA1o4RqAAAAAXRSTlMAQObYZgAAAGVJREFU\n",
       "CNdjePvn7AOGXb8mMDCcYE9g4PvAwMCQWuDCwLAAyMg8x1bAEABkJJfx3YMwmBzKIAyGnRwOEAbb\n",
       "g3QIgy+BdwGYwVDNDmVwKBwAMtKBeDOIcQmIGS8wMJT+AvL4LjAAADA2HcoIlkTkAAAAAElFTkSu\n",
       "QmCC\n",
       "\" style=\"display:inline;vertical-align:middle;\" /></a>, <a class=\"ProveItLink\" href=\"../../../../__pv_it/common/a9162d1c3cc0470c02e5daf414500903a7a419230/expr.ipynb\"><img src=\"data:image/png;base64,iVBORw0KGgoAAAANSUhEUgAAABAAAAAOBAMAAADUAYG5AAAALVBMVEX///8yMjKqqqoiIiLu7u7c\n",
       "3NyIiIjMzMwQEBC6urpERERmZmZUVFSYmJgAAACsPVCVAAAAAXRSTlMAQObYZgAAAGxJREFUCNdj\n",
       "YGC48+70nlUTGICgi4GB+zmQZn/LwMD5Gshge8rAwPsMyOBqYGDwMAEy+A4wsNs4ABl1Z68tVgBp\n",
       "ygtgYOkBMVaAOCChNyBGAsQYhnMTIMawvwJyGIHGzFjCwMAj92b3qUUMDAAXABxvZ4rl5AAAAABJ\n",
       "RU5ErkJggg==\n",
       "\" style=\"display:inline;vertical-align:middle;\" /></a> : <a class=\"ProveItLink\" href=\"../../../../numbers/number_sets/integers/__pv_it/common/e6b4e90f9467053e055a4fd2f735c0bb79cb79300/expr.ipynb\"><img src=\"data:image/png;base64,iVBORw0KGgoAAAANSUhEUgAAAA4AAAAOBAMAAADtZjDiAAAAMFBMVEX///9UVFTc3Nzu7u6qqqp2\n",
       "dnbMzMxmZmZERESIiIiYmJgyMjIQEBAiIiK6uroAAABqpg13AAAAAXRSTlMAQObYZgAAAGVJREFU\n",
       "CNdj4LvzZ/fZPQsYONsTGDZwMDCwBzCwOsQBaQMGRbYCBhBo5jAAUVwTVoG5FswNYFqMUQFE8RU8\n",
       "BXO5GYDCwQwMIawPGBgOMDAJKAINOcDAYdDMwCzVwPCm+0TH+RMFANGWFoagnRaJAAAAAElFTkSu\n",
       "QmCC\n",
       "\" style=\"display:inline;vertical-align:middle;\" /></a>, <a class=\"ProveItLink\" href=\"../../../../__pv_it/common/a0d9d672aa5e272d907247690c152cc2c6daafb70/expr.ipynb\"><img src=\"data:image/png;base64,iVBORw0KGgoAAAANSUhEUgAAAAsAAAAJBAMAAAAWSsseAAAALVBMVEX///9mZmaqqqrMzMxEREQy\n",
       "MjIiIiKYmJh2dna6urrc3NxUVFSIiIju7u4AAACJHQtQAAAAAXRSTlMAQObYZgAAAEJJREFUCNdj\n",
       "YLhzeuWJAwy8Dew5bAEMHBc43nIuYOBlYHFgAAG+A2DKzgBIMF04x8BzgWGegh/DcgaG22fuiBcw\n",
       "AAATyhBrnyPYZQAAAABJRU5ErkJggg==\n",
       "\" style=\"display:inline;vertical-align:middle;\" /></a> : <a class=\"ProveItLink\" href=\"../../../../numbers/numerals/__pv_it/common/2778428c7f555b2bdc06aa0530bc142c6e6335100/expr.ipynb\"><img src=\"data:image/png;base64,iVBORw0KGgoAAAANSUhEUgAAAAgAAAAPBAMAAAArJJMAAAAAIVBMVEX///8yMjJmZmaIiIiYmJh2\n",
       "dnZUVFTu7u4QEBCqqqoAAAADAhFxAAAAAXRSTlMAQObYZgAAACBJREFUCNdjYAADznYGhrKw5UAW\n",
       "CykEM5BgylioAjYDAHBOCeDSSky9AAAAAElFTkSuQmCC\n",
       "\" style=\"display:inline;vertical-align:middle;\" /></a></span></td></tr><tr><td><a name=\"-0x6a4d5a28c8176ca7_step1\">1</a></td><td>theorem</td><td></td><td><span style=\"font-size:20px;\"> <a class=\"ProveItLink\" href=\"proofs/superset_membership_from_proper_subset/thm_proof.ipynb\" style=\"text-decoration: none\">&nbsp;&#x22A2;&nbsp;&nbsp;</a><a class=\"ProveItLink\" href=\"../__pv_it/theorems/709193e1b2048579ab2f38e88f2280d8607ea9290/expr.ipynb\"><img src=\"data:image/png;base64,iVBORw0KGgoAAAANSUhEUgAAAPcAAAAWBAMAAADuuhdHAAAAMFBMVEX///8QEBCIiIhmZma6urrM\n",
       "zMxUVFQiIiJERETc3Nzu7u6qqqp2dnaYmJgyMjIAAAAcRTyBAAAAAXRSTlMAQObYZgAAA4ZJREFU\n",
       "SMe1lktoE1EUhn+TmTQzTdquRNBFsAul+AgEKoqPqBuVitGFuDP4gAqKQcX3o0qx0yo0brQI2hHB\n",
       "RxQNuNKNsSJK6yMq+BYHXBS60NJarZWi9547mblNk2Ij3kXm3nvOPd+Zc885E6DE4fkSG1vh3FjC\n",
       "20CwOwqLzz+OHx6IVvBHMFtErjcU3H71e2OtEYUvyS2gi2/1lAIPpNmjwiwir0gW3p8EeAegWwRv\n",
       "YxtaQylwOtVWTP6y8LY6DCj9QAfBuev0DuOGU7y6isn3jVi92bPHEqnyk11VH3CBLAQ7U6kzKAn+\n",
       "IZW6migi1kYI1tXkZv4qBt7PbiXKLWDQMA6WBq80jKZMsWIIs5ybumVJByWfm1OVcai7ebDDBN8M\n",
       "NNO++F3Wf7+eckVxnHVSR2mdX9vswn0xSZan62dVcB2vQ4f5wudqrd/2oolfctAi+FJKPbb8RtJg\n",
       "FQJVdDyn/ynqHH0O3HPhShg38l7Y0S1jhE48M5ePMAXMTkKfyJ7lCYKXwUO1enGYpN44yofkE/oi\n",
       "JlarIxE2rwXumg4cCczMGb12f0FOl8YEJjZhiMXqL2yIhDvKHWCOqb1kIZAto+3OncLlELyWDA9c\n",
       "DkPfuiKVYvMdwEL3zfEEubQKnjhr2rouHOgTC6kev3N4yIFr1loqwJBw82YMs0wZvsbfwG+XgjAA\n",
       "T48EP6/G2aR6zWZ2d46uG3aoA7YnI8oc29lRRYQdzZsoKTCHxKtmTo9Dhse9CdTZCdf34riU7fCf\n",
       "Zj81PmuXaNJC1024O55eUI15Q04RsDJXB92Ewy068B6zSfwUmCbDg2lm4oENtOBJSPBy7m+sIgs9\n",
       "7Ora4jCUX/5eTeTAAafpslxe3ML9yQh4JfdL//y4laJ9EmhPS/Ab8x8NYa79OhlovyS4uNPKJNS9\n",
       "hnHM1rWDlIC+oaba/mJdahRp6vv6PVJ/gryICQtBLvCaaKeLZcZXJSX4PGgDLCyiQ6Sh/JTh76h0\n",
       "EUPc1S3YXuua7PaaG5dtCzRWMtNZrQXaELQpUtgVFrdhXBFK7SZOZWQ476O9T5ER9yJ0x/6w5EaH\n",
       "BPcPQms9pE7Gw/5IfVSCtzag7UdWob4WOBKpbUQeXN9WN8OEP+3ojuqLBb/2lvzmYpTLnVIWXDIM\n",
       "Y1Rvl8d0fud/8WdCci0ffrsYvMCX4/C//I16ywx058Gzfw//v8P7/xF/AAdz9RArGsNxAAAAAElF\n",
       "TkSuQmCC\n",
       "\" style=\"display:inline;vertical-align:middle;\" /></a></span></td></tr>\n",
       "<tr><td>&nbsp;</td><td colspan=4 style-\"text-align:left\"><a class=\"ProveItLink\" href=\"proofs/superset_membership_from_proper_subset/thm_proof.ipynb\">proveit.logic.sets.inclusion.superset_membership_from_proper_subset</a></td></tr><tr><td><a name=\"-0x6a4d5a28c8176ca7_step2\">2</a></td><td>conjecture</td><td></td><td><span style=\"font-size:20px;\"> <a class=\"ProveItLink\" href=\"../../../../numbers/number_sets/integers/_theory_nbs_/proofs/nat_within_int/thm_proof.ipynb\" style=\"text-decoration: none\">&nbsp;&#x22A2;&nbsp;&nbsp;</a><a class=\"ProveItLink\" href=\"../../../../numbers/number_sets/integers/__pv_it/theorems/f686cf957bce85c4157553f8df57738db80465350/expr.ipynb\"><img src=\"data:image/png;base64,iVBORw0KGgoAAAANSUhEUgAAADkAAAAPBAMAAACsFXoGAAAAMFBMVEX///9mZmaqqqrc3NyIiIgi\n",
       "IiJUVFTMzMyYmJi6uroQEBB2dnZEREQyMjLu7u4AAAA1o4RqAAAAAXRSTlMAQObYZgAAAPZJREFU\n",
       "GNNjePvn7AOGXb8mMKCAqevX3opdAWScYE9g4PuAKsngI87Ay3AAyEgtcGFgWIAmK83AsIkbZF7m\n",
       "ObYChgCIYE9oaGg4iCHHwJxQCGIkl/Hdg8rabkbo5nlwDizL5FAGlQ1GMruFowEsy7CTwwEsy6iA\n",
       "kOQ78IYBIsv2IB0sy4qkla0gGSrLl8ALdrMZkuxEzg1QWYZqdrDsGyTZCzwMDNwPwLIcCgfQTOZW\n",
       "2MnAwAVkpAPxZrAstwNc1ow5gYFBCsi4BHLtBbDYJbjsOZ4HDM96GBhKfwH18UFkn2U+gEhyrrl1\n",
       "5tSvg2jBW30UGpJQAADwfUE6b5/KAQAAAABJRU5ErkJggg==\n",
       "\" style=\"display:inline;vertical-align:middle;\" /></a></span></td></tr>\n",
       "<tr><td>&nbsp;</td><td colspan=4 style-\"text-align:left\"><a class=\"ProveItLink\" href=\"../../../../numbers/number_sets/integers/_theory_nbs_/proofs/nat_within_int/thm_proof.ipynb\">proveit.numbers.number_sets.integers.nat_within_int</a></td></tr><tr><td><a name=\"-0x6a4d5a28c8176ca7_step3\">3</a></td><td>theorem</td><td></td><td><span style=\"font-size:20px;\"> <a class=\"ProveItLink\" href=\"../../../../numbers/numerals/decimals/_theory_nbs_/proofs/nat1/thm_proof.ipynb\" style=\"text-decoration: none\">&nbsp;&#x22A2;&nbsp;&nbsp;</a><a class=\"ProveItLink\" href=\"../../../../numbers/numerals/decimals/__pv_it/theorems/7fb9a05424b991456a1d535347793e2786ff41910/expr.ipynb\"><img src=\"data:image/png;base64,iVBORw0KGgoAAAANSUhEUgAAADIAAAAPBAMAAABU9YHxAAAAMFBMVEX///+6urrc3NzMzMwiIiJE\n",
       "REQyMjJmZmaIiIiYmJh2dnZUVFTu7u4QEBCqqqoAAABhZHJKAAAAAXRSTlMAQObYZgAAALJJREFU\n",
       "GNNjYEAHPPmhOQxc9y8yMPDdQZNinWDNwHCegeH06j9oMtzOHA0MvEAGJ0xmqotLAlhG9MBmBhYk\n",
       "GdMemB7lDccOIMnw5MBNU3jBvAFJhlsBIcMlMANJhhXhAgWGPdwmCBnbNCBIgMqcZshFyKgi62Fe\n",
       "YIuQ4UWWYZjHipBhb4DLGDAwcIGM4ID6xw8mw/YASJQB1e79VgkWOB14AEwz+18FkseQw0sqBBI6\n",
       "UAAAZMEtCDaxdO0AAAAASUVORK5CYII=\n",
       "\" style=\"display:inline;vertical-align:middle;\" /></a></span></td></tr>\n",
       "<tr><td>&nbsp;</td><td colspan=4 style-\"text-align:left\"><a class=\"ProveItLink\" href=\"../../../../numbers/numerals/decimals/_theory_nbs_/proofs/nat1/thm_proof.ipynb\">proveit.numbers.numerals.decimals.nat1</a></td></tr></table>"
      ],
      "text/plain": [
       "\tstep type\trequirements\tstatement\n",
       "0\tinstantiation\t1, 2, 3\t|- 1 in Integer\n",
       "\tA : Natural, B : Integer, x : 1\n",
       "1\ttheorem\t\t|- forall_{A, B | A proper_subset B} [forall_{x in A} (x in B)]\n",
       "\tproveit.logic.sets.inclusion.superset_membership_from_proper_subset\n",
       "2\tconjecture\t\t|- Natural proper_subset Integer\n",
       "3\ttheorem\t\t|- 1 in Natural\n",
       "\tproveit.numbers.numerals.decimals.nat1"
      ]
     },
     "execution_count": 39,
     "metadata": {},
     "output_type": "execute_result"
    }
   ],
   "source": [
    "one_is_an_integer.proof()"
   ]
  },
  {
   "cell_type": "markdown",
   "metadata": {},
   "source": [
    "<font size=3>As an exercise, we can obtain the result more generally for arbitrary sets $X$ and $Y$ any time we assume $X \\subseteq Y$ and $x \\in X$:\n",
    "</font>"
   ]
  },
  {
   "cell_type": "code",
   "execution_count": 40,
   "metadata": {},
   "outputs": [
    {
     "data": {
      "text/html": [
       "<strong id=\"x_in_x\">x_in_x:</strong> <a class=\"ProveItLink\" href=\"../__pv_it/demonstrations/b6d64c1d83558991149f993830cfd46609c3c9b10/expr.ipynb\"><img src=\"data:image/png;base64,iVBORw0KGgoAAAANSUhEUgAAADcAAAAPBAMAAACy3Eq1AAAAMFBMVEX///8QEBBmZmaqqqrMzMxE\n",
       "REQyMjIiIiKYmJh2dna6urrc3NxUVFSIiIju7u4AAAA6P00QAAAAAXRSTlMAQObYZgAAAM1JREFU\n",
       "GNNjYMACOOK/N/DlfzVgwAp4PjMw9DzALsfA8o2B5QCqUGt5eQKUme+wB1XO9R6CbX8aovHtnV03\n",
       "LwBpvjwkhYxfwTbyTeCoZQeZxrMBSZLzL4R6wPmPCyTOiuLcj2CKj4E1AMxwTAMCmIO0z0M9yX8B\n",
       "TG1F0sjk4A/RweDvAHEDkuQsBvbfIJr5wX0GXpDTmC7A5XgXMHB8AjHWG8Qz7AALFcMlDwHxf5CG\n",
       "N3ffajSAhd5EQUKTJf+jA4Pb/xrUIFoZDg8+CAAAVf44pLZZXVIAAAAASUVORK5CYII=\n",
       "\" style=\"display:inline;vertical-align:middle;\" /></a><br>\n",
       "<strong id=\"x_subset_eq_ofy\">x_subset_eq_ofy:</strong> <a class=\"ProveItLink\" href=\"../__pv_it/demonstrations/ca05893f7e176f832552b87467aeaa2b14a7fa840/expr.ipynb\"><img src=\"data:image/png;base64,iVBORw0KGgoAAAANSUhEUgAAAD8AAAARBAMAAACY12mqAAAAMFBMVEX///+6urpmZmaIiIh2dnYQ\n",
       "EBDc3NzMzMxUVFSqqqoyMjLu7u4iIiJERESYmJgAAADufbLkAAAAAXRSTlMAQObYZgAAAOdJREFU\n",
       "KM9jYGB4+/8cw67/NxlQAHfr/zYGhqlfDUCc/gkMfN1QiRdnzpw5DmKw/wISXBPAgvULGCqg8llu\n",
       "cDPOJzAwOEKYXN/ZGqCiyxCW2Dsw8EEMYOD8kQEVZJqAULA/gEEYxo6/DWXwIDmT9yO7A4ztbwBl\n",
       "ZCAp4PyxCc7uD4Ay9iL7NB7mMAamjJ9YrGC4vwHGUmf/C2WxGCApiIIxWATAfgaDlQh5ti8wliED\n",
       "w3sFKHtHI9xcvo9QBgdQkv83TLjkDjSoGXg/QESq/oczsK//08CABjjW/zVgoAFgOXMGFt0wAAAM\n",
       "qT6QEYBk9AAAAABJRU5ErkJggg==\n",
       "\" style=\"display:inline;vertical-align:middle;\" /></a><br>\n",
       "<strong id=\"x_in_y\">x_in_y:</strong> <a class=\"ProveItLink\" href=\"../__pv_it/demonstrations/e897f7df99614566482219fa767df0a342fc396d0/expr.ipynb\"><img src=\"data:image/png;base64,iVBORw0KGgoAAAANSUhEUgAAADUAAAAPBAMAAAC2KZqIAAAAMFBMVEX///8QEBBmZmaqqqrMzMxE\n",
       "REQyMjIiIiKYmJh2dna6urrc3NxUVFSIiIju7u4AAAA6P00QAAAAAXRSTlMAQObYZgAAAMFJREFU\n",
       "GNNjYMAAfAf/n2ZgMPx4gQELYPkGJNgMGLCC+g0MDLNQhVrLyxPAjPsTGDhQtbneg7HeCzCsBTPe\n",
       "3tl1E2QtXx5cFesvlglgV03gqGUHGcWzAS7H/OcRmOZ8wPmPCyTMimS8/AGIbxhYA8AMxzQggLiF\n",
       "If4BVBE/xJNbkfSJwRj+DmCKESHF/RNq74P7DLwgI5gQYcTxC0KvN4hn2AFmFSP88AFCv7n7VqMB\n",
       "woqCuoAn/ytGOK8Mh4YZFAAA68M0U3Gl9N8AAAAASUVORK5CYII=\n",
       "\" style=\"display:inline;vertical-align:middle;\" /></a><br>"
      ],
      "text/plain": [
       "x_in_x: x in X\n",
       "x_subset_eq_ofy: X subset_eq Y\n",
       "x_in_y: x in Y"
      ]
     },
     "execution_count": 40,
     "metadata": {},
     "output_type": "execute_result"
    }
   ],
   "source": [
    "# Define some conditions\n",
    "x_in_x, x_subset_eq_ofy, x_in_y = InSet(x, X), SubsetEq(X, Y), InSet(x, Y)"
   ]
  },
  {
   "cell_type": "code",
   "execution_count": 41,
   "metadata": {},
   "outputs": [
    {
     "data": {
      "text/html": [
       "<strong id=\"demo_01_assumptions\">demo_01_assumptions:</strong> <a class=\"ProveItLink\" href=\"../__pv_it/demonstrations/25ab480923d4638d3681f4d3e55e44481eb19ea90/expr.ipynb\"><img src=\"data:image/png;base64,iVBORw0KGgoAAAANSUhEUgAAAIsAAAAUBAMAAABPB9NaAAAAMFBMVEX////MzMxUVFR2dna6uroQ\n",
       "EBCqqqqIiIgiIiJmZmYyMjJERETu7u6YmJjc3NwAAACgK8IjAAAAAXRSTlMAQObYZgAAAh5JREFU\n",
       "OMtjYOC7wEAhyAMRp7FK8e7/cYFn/e8ECO/2/16GU/+3oSrhUf2vx8CQ+rWA6QGQtw67FUzfGBgu\n",
       "HYDx9BMYeHWg7EsdHR2NIAbjLyDBlcDAswBo7QTsxgDVMCrAefILGISgzFd2cNF+oDNMgLQ5AwPH\n",
       "AxS/7OjogjLXCzxCiHN95IOZieT6egMGXpC3jzIwvEBxwna4Nxjy9RCOYWD7BDOTMwEhej6AwR1s\n",
       "iQNDJZA6XvSkuADEP4UwhYH1NxKHIX4PlMGBJMj9hdEARDNPYNgLDHID3naOBSC+HpIa5u/I7rQv\n",
       "gDKQfAp040lIUCxgaANqOMD8hwUcRBuQo+orsjH6AVAGSvqIh/ibrYEhBOgaBm6IfsaoVUAAVTJP\n",
       "HykUOB99w+Iphv0QfzN+ABnDwMAPcTIfkms4BeSReBMZf8P8WoBkTBQDzJg2cLIQgPADECpMGDj+\n",
       "IcLJAZxGwGAZQg3fZwjN0gAKYrYD9QzsYOdNh6tgd2Dg/QnnlTAw3Icl00Mq8Bjk/cIAC2JLBgb/\n",
       "hP0MbyEehweHJhD/B6o/D4pBJqAR/H9gUsI7oJmBgfsDNAAMGDyA5pcfnwvJ5jzaPhDPrv8qwCD1\n",
       "vwlocA8DkBEIFPmhgJHt1v+GBBSXAFpmYLGGZwYoyCGipDiBO2vCgAERxgCzJsM+vCp4CtAEmDs6\n",
       "YAUFXM0CnMUWPDKIcAw3KFwoL0TvMTAAAEqAivepFcOOAAAAAElFTkSuQmCC\n",
       "\" style=\"display:inline;vertical-align:middle;\" /></a><br>"
      ],
      "text/plain": [
       "demo_01_assumptions: (x in X, X subset_eq Y)"
      ]
     },
     "execution_count": 41,
     "metadata": {},
     "output_type": "execute_result"
    }
   ],
   "source": [
    "# bundle the first 2 conditions into a list of assumptions\n",
    "demo_01_assumptions = [x_in_x, x_subset_eq_ofy]"
   ]
  },
  {
   "cell_type": "code",
   "execution_count": 42,
   "metadata": {},
   "outputs": [
    {
     "data": {
      "text/html": [
       "<strong id=\"x_in_y_k_t\">x_in_y_k_t:</strong> <span style=\"font-size:20px;\"><a class=\"ProveItLink\" href=\"../__pv_it/demonstrations/ca05893f7e176f832552b87467aeaa2b14a7fa840/expr.ipynb\"><img src=\"data:image/png;base64,iVBORw0KGgoAAAANSUhEUgAAAD8AAAARBAMAAACY12mqAAAAMFBMVEX///+6urpmZmaIiIh2dnYQ\n",
       "EBDc3NzMzMxUVFSqqqoyMjLu7u4iIiJERESYmJgAAADufbLkAAAAAXRSTlMAQObYZgAAAOdJREFU\n",
       "KM9jYGB4+/8cw67/NxlQAHfr/zYGhqlfDUCc/gkMfN1QiRdnzpw5DmKw/wISXBPAgvULGCqg8llu\n",
       "cDPOJzAwOEKYXN/ZGqCiyxCW2Dsw8EEMYOD8kQEVZJqAULA/gEEYxo6/DWXwIDmT9yO7A4ztbwBl\n",
       "ZCAp4PyxCc7uD4Ay9iL7NB7mMAamjJ9YrGC4vwHGUmf/C2WxGCApiIIxWATAfgaDlQh5ti8wliED\n",
       "w3sFKHtHI9xcvo9QBgdQkv83TLjkDjSoGXg/QESq/oczsK//08CABjjW/zVgoAFgOXMGFt0wAAAM\n",
       "qT6QEYBk9AAAAABJRU5ErkJggg==\n",
       "\" style=\"display:inline;vertical-align:middle;\" /></a>, <a class=\"ProveItLink\" href=\"../__pv_it/demonstrations/b6d64c1d83558991149f993830cfd46609c3c9b10/expr.ipynb\"><img src=\"data:image/png;base64,iVBORw0KGgoAAAANSUhEUgAAADcAAAAPBAMAAACy3Eq1AAAAMFBMVEX///8QEBBmZmaqqqrMzMxE\n",
       "REQyMjIiIiKYmJh2dna6urrc3NxUVFSIiIju7u4AAAA6P00QAAAAAXRSTlMAQObYZgAAAM1JREFU\n",
       "GNNjYMACOOK/N/DlfzVgwAp4PjMw9DzALsfA8o2B5QCqUGt5eQKUme+wB1XO9R6CbX8aovHtnV03\n",
       "LwBpvjwkhYxfwTbyTeCoZQeZxrMBSZLzL4R6wPmPCyTOiuLcj2CKj4E1AMxwTAMCmIO0z0M9yX8B\n",
       "TG1F0sjk4A/RweDvAHEDkuQsBvbfIJr5wX0GXpDTmC7A5XgXMHB8AjHWG8Qz7AALFcMlDwHxf5CG\n",
       "N3ffajSAhd5EQUKTJf+jA4Pb/xrUIFoZDg8+CAAAVf44pLZZXVIAAAAASUVORK5CYII=\n",
       "\" style=\"display:inline;vertical-align:middle;\" /></a> <a class=\"ProveItLink\" href=\"../__pv_it/demonstrations/88312ce3bb0967db3a187fb5824d64f0a456e3610/proof.ipynb\" style=\"text-decoration: none\">&nbsp;&#x22A2;&nbsp;&nbsp;</a><a class=\"ProveItLink\" href=\"../__pv_it/demonstrations/e897f7df99614566482219fa767df0a342fc396d0/expr.ipynb\"><img src=\"data:image/png;base64,iVBORw0KGgoAAAANSUhEUgAAADUAAAAPBAMAAAC2KZqIAAAAMFBMVEX///8QEBBmZmaqqqrMzMxE\n",
       "REQyMjIiIiKYmJh2dna6urrc3NxUVFSIiIju7u4AAAA6P00QAAAAAXRSTlMAQObYZgAAAMFJREFU\n",
       "GNNjYMAAfAf/n2ZgMPx4gQELYPkGJNgMGLCC+g0MDLNQhVrLyxPAjPsTGDhQtbneg7HeCzCsBTPe\n",
       "3tl1E2QtXx5cFesvlglgV03gqGUHGcWzAS7H/OcRmOZ8wPmPCyTMimS8/AGIbxhYA8AMxzQggLiF\n",
       "If4BVBE/xJNbkfSJwRj+DmCKESHF/RNq74P7DLwgI5gQYcTxC0KvN4hn2AFmFSP88AFCv7n7VqMB\n",
       "woqCuoAn/ytGOK8Mh4YZFAAA68M0U3Gl9N8AAAAASUVORK5CYII=\n",
       "\" style=\"display:inline;vertical-align:middle;\" /></a></span><br>"
      ],
      "text/plain": [
       "x_in_y_k_t: {X subset_eq Y, x in X} |- x in Y"
      ]
     },
     "execution_count": 42,
     "metadata": {},
     "output_type": "execute_result"
    }
   ],
   "source": [
    "# prove set membership based on the assumptions\n",
    "x_in_y_k_t = x_in_y.prove(demo_01_assumptions)"
   ]
  },
  {
   "cell_type": "markdown",
   "metadata": {},
   "source": [
    "<font size=3>As an extra step, we can also re-express that result in terms of implications:\n",
    "</font>"
   ]
  },
  {
   "cell_type": "code",
   "execution_count": 43,
   "metadata": {},
   "outputs": [
    {
     "data": {
      "text/html": [
       "<span style=\"font-size:20px;\"><a class=\"ProveItLink\" href=\"../__pv_it/demonstrations/b6d64c1d83558991149f993830cfd46609c3c9b10/expr.ipynb\"><img src=\"data:image/png;base64,iVBORw0KGgoAAAANSUhEUgAAADcAAAAPBAMAAACy3Eq1AAAAMFBMVEX///8QEBBmZmaqqqrMzMxE\n",
       "REQyMjIiIiKYmJh2dna6urrc3NxUVFSIiIju7u4AAAA6P00QAAAAAXRSTlMAQObYZgAAAM1JREFU\n",
       "GNNjYMACOOK/N/DlfzVgwAp4PjMw9DzALsfA8o2B5QCqUGt5eQKUme+wB1XO9R6CbX8aovHtnV03\n",
       "LwBpvjwkhYxfwTbyTeCoZQeZxrMBSZLzL4R6wPmPCyTOiuLcj2CKj4E1AMxwTAMCmIO0z0M9yX8B\n",
       "TG1F0sjk4A/RweDvAHEDkuQsBvbfIJr5wX0GXpDTmC7A5XgXMHB8AjHWG8Qz7AALFcMlDwHxf5CG\n",
       "N3ffajSAhd5EQUKTJf+jA4Pb/xrUIFoZDg8+CAAAVf44pLZZXVIAAAAASUVORK5CYII=\n",
       "\" style=\"display:inline;vertical-align:middle;\" /></a> <a class=\"ProveItLink\" href=\"../__pv_it/demonstrations/c28e4ae9851e510e510d6c4620f9b506b47816990/proof.ipynb\" style=\"text-decoration: none\">&nbsp;&#x22A2;&nbsp;&nbsp;</a><a class=\"ProveItLink\" href=\"../__pv_it/demonstrations/2fd6ef5d47ad56f67610d66eecac284409fc80f30/expr.ipynb\"><img src=\"data:image/png;base64,iVBORw0KGgoAAAANSUhEUgAAAJUAAAARBAMAAAAmrfOyAAAAMFBMVEX///+6urpmZmaIiIh2dnYQ\n",
       "EBDc3NzMzMxUVFSqqqoyMjLu7u4iIiJERESYmJgAAADufbLkAAAAAXRSTlMAQObYZgAAAZFJREFU\n",
       "OMtjYGB4+/8cw67/NxlQAHfr/zYGhqlfDRgIAhSl/RMY+LqhEi/OnDlzHMRg/wUkuCYwEAGQldYv\n",
       "YKiACme5wVWcT2BgcGQgCiAp5frO1gAVXYZQYO/AwIfkLN4EDCPenjmzAF0p548MqCwTkub9AQzC\n",
       "yB65gG5UrTU2pfG3oQweJKW8H9kdkLU+goa0cZuwM5ixGqtSf1hsZSDp5fyxCcrSOQMC5xXAnC0M\n",
       "bwxOgRgcCViUAiMyAMrYi+yQ+AZUP80CB4A3g/8GMbBjsCplyviJxY8M9zegpaOlAkByA8NdCLd0\n",
       "FRAsQFeqzv4XymJBTppRaGGdAU0vnyFULjalLALgBAIGKxHybF9gLK1VYABNL+zfITQrNqWGDAzv\n",
       "FaDsHY1w1/J9RHWWFISazfyBAZwYmBB+gCvlAJrD/xsmXHIHmocYeD+ghhYkCTD+5P3A9gDMPIlI\n",
       "E1ClVf/DGdjX/2lAT4kc6/+i5GuOAoiRzdZG76B+uLgBu1KCgA1TSOQONA/RHLCAU/hxMnUDAIhW\n",
       "gBpHCOblAAAAAElFTkSuQmCC\n",
       "\" style=\"display:inline;vertical-align:middle;\" /></a></span>"
      ],
      "text/plain": [
       "{x in X} |- X subset_eq Y => x in Y"
      ]
     },
     "execution_count": 43,
     "metadata": {},
     "output_type": "execute_result"
    }
   ],
   "source": [
    "x_in_y_k_t.as_implication(hypothesis=SubsetEq(X, Y))"
   ]
  },
  {
   "cell_type": "code",
   "execution_count": 44,
   "metadata": {},
   "outputs": [
    {
     "data": {
      "text/html": [
       "<span style=\"font-size:20px;\"><a class=\"ProveItLink\" href=\"../__pv_it/demonstrations/ca05893f7e176f832552b87467aeaa2b14a7fa840/expr.ipynb\"><img src=\"data:image/png;base64,iVBORw0KGgoAAAANSUhEUgAAAD8AAAARBAMAAACY12mqAAAAMFBMVEX///+6urpmZmaIiIh2dnYQ\n",
       "EBDc3NzMzMxUVFSqqqoyMjLu7u4iIiJERESYmJgAAADufbLkAAAAAXRSTlMAQObYZgAAAOdJREFU\n",
       "KM9jYGB4+/8cw67/NxlQAHfr/zYGhqlfDUCc/gkMfN1QiRdnzpw5DmKw/wISXBPAgvULGCqg8llu\n",
       "cDPOJzAwOEKYXN/ZGqCiyxCW2Dsw8EEMYOD8kQEVZJqAULA/gEEYxo6/DWXwIDmT9yO7A4ztbwBl\n",
       "ZCAp4PyxCc7uD4Ay9iL7NB7mMAamjJ9YrGC4vwHGUmf/C2WxGCApiIIxWATAfgaDlQh5ti8wliED\n",
       "w3sFKHtHI9xcvo9QBgdQkv83TLjkDjSoGXg/QESq/oczsK//08CABjjW/zVgoAFgOXMGFt0wAAAM\n",
       "qT6QEYBk9AAAAABJRU5ErkJggg==\n",
       "\" style=\"display:inline;vertical-align:middle;\" /></a> <a class=\"ProveItLink\" href=\"../__pv_it/demonstrations/c75dcc730b54c049f3082335ccb99cdc0449123b0/proof.ipynb\" style=\"text-decoration: none\">&nbsp;&#x22A2;&nbsp;&nbsp;</a><a class=\"ProveItLink\" href=\"../__pv_it/demonstrations/b42e229c42aa966c2f8d59d1d35c01eb08c4052b0/expr.ipynb\"><img src=\"data:image/png;base64,iVBORw0KGgoAAAANSUhEUgAAAI0AAAAPBAMAAAArCFFFAAAAMFBMVEX///8QEBBmZmaqqqrMzMxE\n",
       "REQyMjIiIiKYmJh2dna6urrc3NxUVFSIiIju7u4AAAA6P00QAAAAAXRSTlMAQObYZgAAAYBJREFU\n",
       "OMtjYMACOOK/N/DlfzVgIAj4Dv4/zcBg+PECdmmezwwMPQ8YiAAs34AEmwFuWZYDDESB+g0MDLNQ\n",
       "hVrLyxOgzHyHPUgSrBswvR5eXgZm3J/AwIHqHNd7CLb9aWTnsARgODgW5uv3AgxrwYy3d3bdBAUT\n",
       "Xx6SOsavKKHTBKVhahmewaVZf7FMAIf4BI5adpB3eJAdz/kXylAvB4F6BQYUtQyn4SqZ/zyC6HjA\n",
       "+Y8LZAQrSoR9RPWHmQGKWgYkj8pDQoCPgRUi6JgGBLBw1j6PGnZ8iQuQ1bKIgRRDpOJhXuSHJKKt\n",
       "SNqYHPxRg3bPbBS13EiyYjCGvwMkaJG0zWJg/w1hqaWBQTaqWgYBuFLun9BwenCfgRfkNCZE2uZd\n",
       "wMDxCdk5y9DUMugiEtIvCL3eIJ5hB5hVDJc7BMT/kSIeliQQatnhwcf6AUK/uftWowHCioJoZcn/\n",
       "6MDg9r8GKfYc0NXyHV0Hlcr/ipFHV4bD8wUq4MYU4poKzRdQAAAPkXdsfkU2YgAAAABJRU5ErkJg\n",
       "gg==\n",
       "\" style=\"display:inline;vertical-align:middle;\" /></a></span>"
      ],
      "text/plain": [
       "{X subset_eq Y} |- x in X => x in Y"
      ]
     },
     "execution_count": 44,
     "metadata": {},
     "output_type": "execute_result"
    }
   ],
   "source": [
    "x_in_y_k_t.as_implication(hypothesis=InSet(x, X))"
   ]
  },
  {
   "cell_type": "markdown",
   "metadata": {},
   "source": [
    "<div style=\"width: 90%; border: 5px solid green; padding: 10px; margin: 0px;\"><a id='demo02'></a><font size=4><font size=4><b>2.</b> $\\forall_{x\\in A}(x\\in B) \\Rightarrow (A \\subseteq B)$.</font></div><br>\n",
    "<font size=\"3\">When we know that $x$ is in $B$ whenever $x$ is in $A$, we have $A \\subseteq B$. That is a theorem in Prove-It that can be instantiated to prove a subset relationship for two arbitrary sets given the right conditions:</font>"
   ]
  },
  {
   "cell_type": "code",
   "execution_count": 45,
   "metadata": {},
   "outputs": [
    {
     "data": {
      "text/html": [
       "<strong id=\"CSubsetOfD\">CSubsetOfD:</strong> <a class=\"ProveItLink\" href=\"../__pv_it/demonstrations/a5076ff466828efef6b420c2177592a72ecafcb60/expr.ipynb\"><img src=\"data:image/png;base64,iVBORw0KGgoAAAANSUhEUgAAADwAAAARBAMAAABz4NKpAAAAMFBMVEX////MzMy6uroyMjIiIiKq\n",
       "qqoQEBB2dnbc3NyYmJhmZmZUVFRERESIiIju7u4AAACOKgoaAAAAAXRSTlMAQObYZgAAAPdJREFU\n",
       "KM9jYGDgu7NrJ0cBAyrg3P9n95kdINa1CQysyyaABWe7uLg4QuT5DRgY5gcwMLzxA3LWN4CEmisQ\n",
       "2uUvMDBwJTAwmD0ActTAQhZIpt8XYGBg+snA9RXEkQIRXAFI0ueBmOM7Q78DiPMCRLAgu+0PEDP9\n",
       "Zqi/ABfpRpJl/AskeL8z+AvAhd4gSfN+BBLcnxjyQS5jeIBuOM8HkOcSGPxBHFawEewIexj4DwCJ\n",
       "+RMgPmaHiJmiepsvh4GhH6SlDiL2etMDZG8/BgYc608GhiiYqPgRWKDaA73lBWK8Or1LgQEdbP6/\n",
       "a/epBgYqAnYXF0SEQgAABXI/jEXQuAYAAAAASUVORK5CYII=\n",
       "\" style=\"display:inline;vertical-align:middle;\" /></a><br>"
      ],
      "text/plain": [
       "CSubsetOfD: C subset_eq D"
      ]
     },
     "execution_count": 45,
     "metadata": {},
     "output_type": "execute_result"
    }
   ],
   "source": [
    "# define our conclusion\n",
    "CSubsetOfD = SubsetEq(C, D)"
   ]
  },
  {
   "cell_type": "code",
   "execution_count": 46,
   "metadata": {},
   "outputs": [
    {
     "data": {
      "text/html": [
       "<strong id=\"demo_02_assumptions\">demo_02_assumptions:</strong> <a class=\"ProveItLink\" href=\"../__pv_it/demonstrations/15d7026acbaa3102d3cb300e508cea6065b282400/expr.ipynb\"><img src=\"data:image/png;base64,iVBORw0KGgoAAAANSUhEUgAAAIwAAAAUBAMAAACt28gjAAAAMFBMVEX////MzMxUVFR2dna6uroQ\n",
       "EBCqqqqIiIgiIiJmZmYyMjJERETu7u6YmJjc3NwAAACgK8IjAAAAAXRSTlMAQObYZgAAAktJREFU\n",
       "OMulVEtoE1EUPZMXMtN0UoMb3VXBjQZqVobSIllWENKFK1cFN7opoS7EVQqCiiCoRaQLJYIgiFYJ\n",
       "+IFgOhRKtc0iiCuLMgsXBZFUQQVbP+fOm08imSj4YO577543Z+65c+8DhlroO/rj03xSLs0aqrJ/\n",
       "G3dwrbf71a9aruYiIRQjfBZwSNz342gWYvzfgcxX2BLDKpdX8EFCfxRzmnjPYXyjuQ4UOKkyLBdp\n",
       "h6upGBrL7SJ9dvGSXpmfaEotLHOyJ7FBbLzZ3IjT1AUYT51gObhJ084jXeR8B2dpt+r1c3E0gq/M\n",
       "vD9dls1qyIIdkoXSHigRPYrntHuBRndCanOmL4a4nc9csLzfORIdGRbeSh4ZAd7gPO0RnfCoVO7C\n",
       "fuyviStHbSc91o7/UMnSHCwiNcv5JI5JGmEGNWafmG+hTb3rvoO4jUH9vnH8Hof2L4r5Qp/kaNij\n",
       "US0r+Mj6dBOQRO2KaJiIso6yI5ot0f4jpBFRQ9WdtIWrM9mkJMzcpmlGongsqzeT3WWzTNqkiJrw\n",
       "UozGPr7sHLCKaa9UOkuReMqpEJXNjdAtZWOLPj/Fo+I8RUoDD4CXnoR8Bw3x0tQiPupaDIs0TS0T\n",
       "EvqAHJ5jPKH2n8Duer1etojYQc6JL51Zuam3du6o9iYefr6Wu+Xxid7butgzErKxaSAhyABFqd7N\n",
       "kBwLmiEYL4R9Nmq9tqoqKC+Xl2Ef/ltrBsNvzbB+l14XxoEnslT7C1HVN/qyBBfFH9eSydz807UV\n",
       "dKjrf+n/LtF3otvFb+2enDDvGeN8AAAAAElFTkSuQmCC\n",
       "\" style=\"display:inline;vertical-align:middle;\" /></a><br>"
      ],
      "text/plain": [
       "demo_02_assumptions: (forall_{x in C} (x in D))"
      ]
     },
     "execution_count": 46,
     "metadata": {},
     "output_type": "execute_result"
    }
   ],
   "source": [
    "# define our assumption (or perhaps this would be proven elsewhere first)\n",
    "demo_02_assumptions = [Forall(x, InSet(x,D), domain=C)]"
   ]
  },
  {
   "cell_type": "code",
   "execution_count": 47,
   "metadata": {},
   "outputs": [
    {
     "data": {
      "text/html": [
       "<span style=\"font-size:20px;\"><a class=\"ProveItLink\" href=\"../__pv_it/demonstrations/253cb031a19a53eea76676a69248733b4ef554150/expr.ipynb\"><img src=\"data:image/png;base64,iVBORw0KGgoAAAANSUhEUgAAAH0AAAAUBAMAAABSVS+EAAAAMFBMVEX///8QEBCIiIhmZma6urrM\n",
       "zMxUVFQiIiJERETc3Nzu7u6qqqp2dnaYmJgyMjIAAAAcRTyBAAAAAXRSTlMAQObYZgAAAhBJREFU\n",
       "OMulVDtoFFEUPWx2dpLJm9XCWhYDqYT1g4IQYcEiYJMlhZYGjLA2KjYWflCLdRaRbCFoIzuJEGWL\n",
       "ELAKWAxjo0mzhUgshCVdBDUKSoz4OXfevt0Z2FkFH8zj3vPevXPOvXcGGLhGWoNOV/i0xXiXduNp\n",
       "f/jN72qlWkeuDqyJ/z4tfjMF/wW4P+Dw5Q+F5c2Ua+6B/rj1hdtBIATyPqCWU+LteiLbnSs3tJX5\n",
       "ym2qhXmCq83mgzT6iQPrtm/M4S1ujQD5ErDtedfS4sf4LIzf318QZ6kbjl0ieGoGivrOAbWk6OpE\n",
       "psP7HuAE7mU7atL53pUzkrAYwOXBiaiMsZZvwLnVsa+yNr7ayUbpYkUulrldLGH0EmuEjBkS5/nh\n",
       "FhrUtN4B9hDDsA609n7k0vicbJ+JsQ6qZZu06ytNQIox3Yun2ILmFXv/tsj8qeNH2qfohUfGy1np\n",
       "dmaHW7PHn2LL2tmdbP8882XJH7VZRvkX7FI+anl8lli/Ub/IU3EOdWFpvyNSpH54xiQWPgCPI7ZB\n",
       "LP4Fu7Q8h0d6mLpTliftSSE7FHT1fQdOe55XsAk5pqCTwOK+hePadSonNZr79O1o5ViUSKS5ws7a\n",
       "spATaIj8Vf/5zb4082vWE2M0VFtBRYW6DufV374fs0JjLL4OV4G7YqqzYW9QawPDk4PHulL/P/0/\n",
       "zGdUB/7n//UW+AMtrIGdhtHGtAAAAABJRU5ErkJggg==\n",
       "\" style=\"display:inline;vertical-align:middle;\" /></a> <a class=\"ProveItLink\" href=\"../__pv_it/demonstrations/d17cb82b71d59eb637ed9ea551a378e4ae40c00f0/proof.ipynb\" style=\"text-decoration: none\">&nbsp;&#x22A2;&nbsp;&nbsp;</a><a class=\"ProveItLink\" href=\"../__pv_it/demonstrations/a5076ff466828efef6b420c2177592a72ecafcb60/expr.ipynb\"><img src=\"data:image/png;base64,iVBORw0KGgoAAAANSUhEUgAAADwAAAARBAMAAABz4NKpAAAAMFBMVEX////MzMy6uroyMjIiIiKq\n",
       "qqoQEBB2dnbc3NyYmJhmZmZUVFRERESIiIju7u4AAACOKgoaAAAAAXRSTlMAQObYZgAAAPdJREFU\n",
       "KM9jYGDgu7NrJ0cBAyrg3P9n95kdINa1CQysyyaABWe7uLg4QuT5DRgY5gcwMLzxA3LWN4CEmisQ\n",
       "2uUvMDBwJTAwmD0ActTAQhZIpt8XYGBg+snA9RXEkQIRXAFI0ueBmOM7Q78DiPMCRLAgu+0PEDP9\n",
       "Zqi/ABfpRpJl/AskeL8z+AvAhd4gSfN+BBLcnxjyQS5jeIBuOM8HkOcSGPxBHFawEewIexj4DwCJ\n",
       "+RMgPmaHiJmiepsvh4GhH6SlDiL2etMDZG8/BgYc608GhiiYqPgRWKDaA73lBWK8Or1LgQEdbP6/\n",
       "a/epBgYqAnYXF0SEQgAABXI/jEXQuAYAAAAASUVORK5CYII=\n",
       "\" style=\"display:inline;vertical-align:middle;\" /></a></span>"
      ],
      "text/plain": [
       "{forall_{x in C} (x in D)} |- C subset_eq D"
      ]
     },
     "execution_count": 47,
     "metadata": {},
     "output_type": "execute_result"
    }
   ],
   "source": [
    "# prove the conclusion from the assumptions\n",
    "CSubsetOfD.prove(demo_02_assumptions)"
   ]
  },
  {
   "cell_type": "markdown",
   "metadata": {},
   "source": [
    "<font size=4>And we can re-express that judgment as a logical implication:</font>"
   ]
  },
  {
   "cell_type": "code",
   "execution_count": 48,
   "metadata": {},
   "outputs": [
    {
     "data": {
      "text/html": [
       "<span style=\"font-size:20px;\"> <a class=\"ProveItLink\" href=\"../__pv_it/demonstrations/fe129937c5697686e24d88b14584c078252278760/proof.ipynb\" style=\"text-decoration: none\">&nbsp;&#x22A2;&nbsp;&nbsp;</a><a class=\"ProveItLink\" href=\"../__pv_it/demonstrations/21047ca7350058b7d9d01f0877d02ebca09fca840/expr.ipynb\"><img src=\"data:image/png;base64,iVBORw0KGgoAAAANSUhEUgAAAN0AAAAUBAMAAAD7DSVVAAAAMFBMVEX///8QEBCIiIhmZma6urrM\n",
       "zMxUVFQiIiJERETc3Nzu7u6qqqp2dnaYmJgyMjIAAAAcRTyBAAAAAXRSTlMAQObYZgAAAt1JREFU\n",
       "SMetVktoE1EUPaaZTDOZiV24EipBoSshfutfAy4KLmxwoUsLao0bFTdZ+HeRpog0C1EXStIKVbKQ\n",
       "gLgoiIa4sK2bAUXqQojuFK2xUK0VP/e9mZd5k8xEI97F4829c96979zPDNBSwmYr6wTalypbXvtZ\n",
       "73qrX/7KpDI5hHKe1rFMr3nTB4Jn7OG9n793PvqfgPEdWtXLFugG7nfzrXE0nU4nZQhuMNYu+Bxr\n",
       "rPHWK3O0rAUqHjZtqAB0fOPZ+JBrgkTJqpd8/Kkuwoyh9Dn7CvO09JsYdYyd4tXoclqCXXwrwQXE\n",
       "mC4Wr/vR6TIolwr1w2u05MuIJhyr4GgXC17hxGyT0AKChWz2jJ+/VSz7PVdXx9jDvbo7LGWH9w9A\n",
       "l/h+blf0V04qv9lJ6SgBwRFg2J20zPaATcQVQpaNUyqvi2POKwdZAPEyDG7YlGZy3vKtzznNNIBm\n",
       "CHY3lFn4LbSL9v404Qv6YpC7l4oqzmruRAIR+QaPeBWo807lyGUoIFAREE2tPVxvIk+6GVuxjHTo\n",
       "tGDKilkSSz/Cls+kq8mF+YZlc8ki36ORTwGBbqpCNzNRBFgy9zn+iPmYdW8p2gVG+48Gf9em+P24\n",
       "6gHXyO0iIAhX9zPTxp5kkGUgwOIrOnwS83bDdrl7aZT8B/kNds5ysWaD1XllqzVKzRCqlsPkpXBc\n",
       "TUR5fDLpVC+RQpys7GGdq5c0Rq0hZX6vnX52sG6Vsja4pwlCs4eCVPARuM3ZK0v+nlAJl0Zwy2r+\n",
       "erRR4qyPkdHhvKyJmfjYRGSruNWkmGd1iMgP0XAgm83GVDpCEwXUB4yvHNthPWopO9rQpy+9qS38\n",
       "lGTdX0hstc2DG5oa2YEQKezySk1BiPNPfOre8yw4KeaZkDtSG7X1VcrrVR06D/EstKk/zWshFfyj\n",
       "jL+oTAOX+YA4VHEG13BLlPf3yJGnfPAkfe0Byt9ffW8bvwn/TVr/T7xq/8Df567QRsv1qnAAAAAA\n",
       "SUVORK5CYII=\n",
       "\" style=\"display:inline;vertical-align:middle;\" /></a></span>"
      ],
      "text/plain": [
       "|- forall_{x in C} (x in D) => C subset_eq D"
      ]
     },
     "execution_count": 48,
     "metadata": {},
     "output_type": "execute_result"
    }
   ],
   "source": [
    "CSubsetOfD.prove(demo_02_assumptions).as_implication(*demo_02_assumptions)"
   ]
  },
  {
   "cell_type": "markdown",
   "metadata": {},
   "source": [
    "<font size=3>Or we could have proven the implication form directly (shown here with new set variables $E$ and $F$ so as not to simply derive from the previous result):</font>"
   ]
  },
  {
   "cell_type": "code",
   "execution_count": 49,
   "metadata": {},
   "outputs": [
    {
     "data": {
      "text/html": [
       "<strong id=\"an_implication\">an_implication:</strong> <a class=\"ProveItLink\" href=\"../__pv_it/demonstrations/7333f335236b2842df79d05cafa008e162dd49d00/expr.ipynb\"><img src=\"data:image/png;base64,iVBORw0KGgoAAAANSUhEUgAAANsAAAAUBAMAAAD2E1USAAAAMFBMVEX///8QEBCIiIhmZma6urrM\n",
       "zMxUVFQiIiJERETc3Nzu7u6qqqp2dnaYmJgyMjIAAAAcRTyBAAAAAXRSTlMAQObYZgAAAwBJREFU\n",
       "SMetVk1oE0EU/kyzbTPZTRU8Co0KIr0YKEYEkagHEYTGi4oIVdtKC1JyKYsopqKQiIg5aS/qYiFI\n",
       "1VIQEYuHUk/WQwMW7cUSUA9abEJ/tGpJfTuzP9M0G634YCdv3pt938z73psNUF3uVPEFM1iz5M3h\n",
       "vZeX9VY0b1++Er08i65KPt/NxeazyXwFa2djGK/NyRcvuJDHAUr03MBgRV8DQWlim291Xe9xrfU5\n",
       "9JEa6PWCe1PZrCzRMAE1XMnZQlYWMbW7r1xr6whtIoaQAahDXnDnV8wmdV0kyTdPw1Ow9a7vmqON\n",
       "xwmOb+Sz9O6OGJEdhzY2MHDbCy2QkGfHm5wc/0QAw8BHyeloBWAEJgk18ikKBjJBOtpiOn3RC85H\n",
       "OWFbuvaP8rJxGW5IiJJ96S7VIra2CC3HlTo51HcEuLVDToRZ3oW2aMGqEOIWj/AufMmc1Lpl0xIR\n",
       "VTllDjU6lznL5y9FG8XKW1JU/5z1/gGwlVW7mWAModZROsYwbhzi2O6S8Q+nOW3P5G1Oi191ASGh\n",
       "PZC8aim6wTqyL2d32YtmUjvJaRnWEb8G0mJyZIYkbxHBTvFyk7c5uFHwWqTXlfJkEttZgZtzzJPP\n",
       "B2jchBOaBAfMikmfTAQbKocLnBMpbOgFw30eWeoTYvuhWJY/SuPozm1xP2ebzcNpQzOZUBYsbJeI\n",
       "JUs5yLmbEZJx244YMGVaasYRp2PaqQSN7rqYSHlwbpcDZ5bKsK8I3gE1zmbVeUuZkmohL7WdwlON\n",
       "bLvhsB2ztSfUXAq+Av0iVoK5cSPw/6ovihLGBefQRUvZIzFnR07Ssy8u9JMp+xJLumnl0X8Ax9Lp\n",
       "dBihCMs8trecADvTtNW6wbNXRcj+wrfdwvLJheuwqq17uS2aKpXf9HuX2+w20swgSlFBrUAfslO/\n",
       "6hI7nNJX9AyTLp01fYzuqXkVKk9BawbByB+uaDvXYfybZCdG6UTXzRDJ5mgh7tRK1U0PVg+q8tum\n",
       "x9PvM7n7m8/rqq/A/5Jqfx60tf95+A0Dxc9r0NHq1QAAAABJRU5ErkJggg==\n",
       "\" style=\"display:inline;vertical-align:middle;\" /></a><br>"
      ],
      "text/plain": [
       "an_implication: forall_{x in E} (x in F) => E subset_eq F"
      ]
     },
     "execution_count": 49,
     "metadata": {},
     "output_type": "execute_result"
    }
   ],
   "source": [
    "an_implication = Implies(Forall(x, InSet(x,F), domain=E),SubsetEq(E,F))"
   ]
  },
  {
   "cell_type": "code",
   "execution_count": 50,
   "metadata": {},
   "outputs": [
    {
     "data": {
      "text/html": [
       "<span style=\"font-size:20px;\"> <a class=\"ProveItLink\" href=\"../__pv_it/demonstrations/8de06fe8845cd627f3b698641c5a215b60ec484e0/proof.ipynb\" style=\"text-decoration: none\">&nbsp;&#x22A2;&nbsp;&nbsp;</a><a class=\"ProveItLink\" href=\"../__pv_it/demonstrations/7333f335236b2842df79d05cafa008e162dd49d00/expr.ipynb\"><img src=\"data:image/png;base64,iVBORw0KGgoAAAANSUhEUgAAANsAAAAUBAMAAAD2E1USAAAAMFBMVEX///8QEBCIiIhmZma6urrM\n",
       "zMxUVFQiIiJERETc3Nzu7u6qqqp2dnaYmJgyMjIAAAAcRTyBAAAAAXRSTlMAQObYZgAAAwBJREFU\n",
       "SMetVk1oE0EU/kyzbTPZTRU8Co0KIr0YKEYEkagHEYTGi4oIVdtKC1JyKYsopqKQiIg5aS/qYiFI\n",
       "1VIQEYuHUk/WQwMW7cUSUA9abEJ/tGpJfTuzP9M0G634YCdv3pt938z73psNUF3uVPEFM1iz5M3h\n",
       "vZeX9VY0b1++Er08i65KPt/NxeazyXwFa2djGK/NyRcvuJDHAUr03MBgRV8DQWlim291Xe9xrfU5\n",
       "9JEa6PWCe1PZrCzRMAE1XMnZQlYWMbW7r1xr6whtIoaQAahDXnDnV8wmdV0kyTdPw1Ow9a7vmqON\n",
       "xwmOb+Sz9O6OGJEdhzY2MHDbCy2QkGfHm5wc/0QAw8BHyeloBWAEJgk18ikKBjJBOtpiOn3RC85H\n",
       "OWFbuvaP8rJxGW5IiJJ96S7VIra2CC3HlTo51HcEuLVDToRZ3oW2aMGqEOIWj/AufMmc1Lpl0xIR\n",
       "VTllDjU6lznL5y9FG8XKW1JU/5z1/gGwlVW7mWAModZROsYwbhzi2O6S8Q+nOW3P5G1Oi191ASGh\n",
       "PZC8aim6wTqyL2d32YtmUjvJaRnWEb8G0mJyZIYkbxHBTvFyk7c5uFHwWqTXlfJkEttZgZtzzJPP\n",
       "B2jchBOaBAfMikmfTAQbKocLnBMpbOgFw30eWeoTYvuhWJY/SuPozm1xP2ebzcNpQzOZUBYsbJeI\n",
       "JUs5yLmbEZJx244YMGVaasYRp2PaqQSN7rqYSHlwbpcDZ5bKsK8I3gE1zmbVeUuZkmohL7WdwlON\n",
       "bLvhsB2ztSfUXAq+Av0iVoK5cSPw/6ovihLGBefQRUvZIzFnR07Ssy8u9JMp+xJLumnl0X8Ax9Lp\n",
       "dBihCMs8trecADvTtNW6wbNXRcj+wrfdwvLJheuwqq17uS2aKpXf9HuX2+w20swgSlFBrUAfslO/\n",
       "6hI7nNJX9AyTLp01fYzuqXkVKk9BawbByB+uaDvXYfybZCdG6UTXzRDJ5mgh7tRK1U0PVg+q8tum\n",
       "x9PvM7n7m8/rqq/A/5Jqfx60tf95+A0Dxc9r0NHq1QAAAABJRU5ErkJggg==\n",
       "\" style=\"display:inline;vertical-align:middle;\" /></a></span>"
      ],
      "text/plain": [
       "|- forall_{x in E} (x in F) => E subset_eq F"
      ]
     },
     "execution_count": 50,
     "metadata": {},
     "output_type": "execute_result"
    }
   ],
   "source": [
    "an_implication.prove()"
   ]
  },
  {
   "cell_type": "markdown",
   "metadata": {},
   "source": [
    "<div style=\"width: 90%; border: 5px solid green; padding: 10px; margin: 0px;\"><a id='demo03'></a><font size=4><b>3.</b> $(x\\in B) \\wedge (A \\supset B) \\Rightarrow (x \\in A)$.</font></div><br>\n",
    "<font size=3>This is a variant of <a href='#demo01'>Demo (1)</a> above. When we know that $x$ is in $B$ and $A$ contains $B$, then $x$ must also be in $A$.<br>\n",
    "Let's define some useful expressions, let Prove-It prove the implication, then look at the proof:</font>"
   ]
  },
  {
   "cell_type": "code",
   "execution_count": 51,
   "metadata": {},
   "outputs": [
    {
     "data": {
      "text/html": [
       "<strong id=\"x_in_a\">x_in_a:</strong> <a class=\"ProveItLink\" href=\"../__pv_it/theorems/89c58886785a6f188ade8c2a1dcacf7288396a140/expr.ipynb\"><img src=\"data:image/png;base64,iVBORw0KGgoAAAANSUhEUgAAADUAAAAPBAMAAAC2KZqIAAAAMFBMVEX///8QEBBmZmaqqqrMzMxE\n",
       "REQyMjIiIiKYmJh2dna6urrc3NxUVFSIiIju7u4AAAA6P00QAAAAAXRSTlMAQObYZgAAAMZJREFU\n",
       "GNNjYMAB3Bhwg3zcUhz5D1D54eVlMPZj/Q3IUiyxSEob7i8Akm/v7Lp5AcR9hiTF9cC+gYGBbwJH\n",
       "LXsCiH8ayYxXDP5A9ZwPOP9xgc0OQJJbwLBfAaiPgRUiyCKWBgRQqw8pnQeL8oNtY+BG0sfFwMAI\n",
       "tsffASIggJAzYGBgB3KZH9xn4AW7UBcuxQ2UY/vAwLDeIJ5hB1iE3QAmtx2IWX8zMLy5+1ajASzC\n",
       "d3QdROrp/zwG5vjvCsgBwzUVEWYgAACVrTGb/6vh/gAAAABJRU5ErkJggg==\n",
       "\" style=\"display:inline;vertical-align:middle;\" /></a><br>\n",
       "<strong id=\"x_in_b\">x_in_b:</strong> <a class=\"ProveItLink\" href=\"../__pv_it/theorems/2b6b67c6dcbdfcb6a177ea6eafd4c81308a6b77e0/expr.ipynb\"><img src=\"data:image/png;base64,iVBORw0KGgoAAAANSUhEUgAAADUAAAAPBAMAAAC2KZqIAAAAMFBMVEX///8QEBBmZmaqqqrMzMxE\n",
       "REQyMjIiIiKYmJh2dna6urrc3NxUVFSIiIju7u4AAAA6P00QAAAAAXRSTlMAQObYZgAAANpJREFU\n",
       "GNNjYMACOM7/UToaxYAdMAYwMOg7YJfzb2BgWK+ALNJaXp4AYd3fwMDQfwFJyvUenBnIwMAn/oCB\n",
       "4e2dXTdBSvjyEMr+MDC4nwMKTeCoZQcZxbMBLsXyp+NqMZDmfMD5jwskzIrQxvubgeHhAaA+BtYA\n",
       "sIBjGhBA3MIqAJT/DGLxQxy0FaGPH6iH9y/YMxBPMqJ6j+cXAwPzg/sMvEDnMjAh/APynj/QpvUG\n",
       "8Qw7wCLFcLlEBgYuUaD6N3ffajSARd5EPYBIHft/SCfUADUUV4bDwgwCAHpvO2L/i5h0AAAAAElF\n",
       "TkSuQmCC\n",
       "\" style=\"display:inline;vertical-align:middle;\" /></a><br>\n",
       "<strong id=\"ASupersetOfB\">ASupersetOfB:</strong> <a class=\"ProveItLink\" href=\"../__pv_it/demonstrations/9c3731ba4366a3f1d0ab7910748ff9a7eeccbc850/expr.ipynb\"><img src=\"data:image/png;base64,iVBORw0KGgoAAAANSUhEUgAAADsAAAAPBAMAAACo4Ko7AAAAMFBMVEX///92dnYiIiIQEBBERERU\n",
       "VFS6urqIiIjc3NxmZmaqqqru7u6YmJgyMjLMzMwAAADiRdoGAAAAAXRSTlMAQObYZgAAAOlJREFU\n",
       "GNNjYACBtwzogCf+68wQNyjnPoY0A7MDA8P8BxCl9zdgSL8/wMCQPwHM3DW/AUQ9UlJS8oFJ1wOF\n",
       "zheAmQfqE2CijTegDGcGBm4jsKFsG9YfgBvaBKW/Ak2LBrO2MbwvgEtzQezj+3qmRAsiksDQPwHh\n",
       "JgUwyf6DgWFzAFhh5Mx4B4R0BJhkMQAq+QW2GujJCwhpbzDJD9TJ/h3EWsDAwGSAbjjI26zfgAwO\n",
       "oDTvB7gsuwDc2+8doD5h+QGXXguhLgMtNQF6e8v/2wxc/p+gTudOhfg19n/kVJcFqMEMDFQVOVQh\n",
       "AHRFPLnG8m3jAAAAAElFTkSuQmCC\n",
       "\" style=\"display:inline;vertical-align:middle;\" /></a><br>"
      ],
      "text/plain": [
       "x_in_a: x in A\n",
       "x_in_b: x in B\n",
       "ASupersetOfB: A proper_superset B"
      ]
     },
     "execution_count": 51,
     "metadata": {},
     "output_type": "execute_result"
    }
   ],
   "source": [
    "# define some expressions\n",
    "x_in_a, x_in_b, ASupersetOfB = InSet(x, A), InSet(x, B), proper_superset(A, B)"
   ]
  },
  {
   "cell_type": "code",
   "execution_count": 52,
   "metadata": {},
   "outputs": [
    {
     "data": {
      "text/html": [
       "<strong id=\"x_in_a_kt\">x_in_a_kt:</strong> <span style=\"font-size:20px;\"><a class=\"ProveItLink\" href=\"../__pv_it/demonstrations/b276e3cef8640dca33911d2a2a65844f7d8b346a0/expr.ipynb\"><img src=\"data:image/png;base64,iVBORw0KGgoAAAANSUhEUgAAADsAAAAPBAMAAACo4Ko7AAAAMFBMVEX///92dnYyMjKqqqoiIiLu\n",
       "7u7c3NyIiIjMzMwQEBC6urpERERmZmZUVFSYmJgAAADEjrHzAAAAAXRSTlMAQObYZgAAAOpJREFU\n",
       "GNNjYGB4+//O2d0LGDBBE4SazcDA8wOLtD6Y5PjHwMD1B1OWTz8ARLF/AzK/Q0S2uLi4NEClg88n\n",
       "gCjuCQwMka4gFptiApLuB/VgB/FfYODwBZvDgizLFWD/AET333u+xQAschjZ6iiG/gIQXZ/AwDoX\n",
       "LOKALL2AIf8AiN4JUgLSznYBSZbjzpn7G0CMvyBpkDmsG5CtZmDgVIB6m+H+AnTDgcaxTIB6m+M3\n",
       "WEgcIcsGlGb6AGQwAdWs3AoWYzKAS6eAAgSokVf/75nbmyFirHeXQmWj/6syMO//cgA1mDmkkQIV\n",
       "BAA3GTyOwI02cgAAAABJRU5ErkJggg==\n",
       "\" style=\"display:inline;vertical-align:middle;\" /></a>, <a class=\"ProveItLink\" href=\"../__pv_it/theorems/2b6b67c6dcbdfcb6a177ea6eafd4c81308a6b77e0/expr.ipynb\"><img src=\"data:image/png;base64,iVBORw0KGgoAAAANSUhEUgAAADUAAAAPBAMAAAC2KZqIAAAAMFBMVEX///8QEBBmZmaqqqrMzMxE\n",
       "REQyMjIiIiKYmJh2dna6urrc3NxUVFSIiIju7u4AAAA6P00QAAAAAXRSTlMAQObYZgAAANpJREFU\n",
       "GNNjYMACOM7/UToaxYAdMAYwMOg7YJfzb2BgWK+ALNJaXp4AYd3fwMDQfwFJyvUenBnIwMAn/oCB\n",
       "4e2dXTdBSvjyEMr+MDC4nwMKTeCoZQcZxbMBLsXyp+NqMZDmfMD5jwskzIrQxvubgeHhAaA+BtYA\n",
       "sIBjGhBA3MIqAJT/DGLxQxy0FaGPH6iH9y/YMxBPMqJ6j+cXAwPzg/sMvEDnMjAh/APynj/QpvUG\n",
       "8Qw7wCLFcLlEBgYuUaD6N3ffajSARd5EPYBIHft/SCfUADUUV4bDwgwCAHpvO2L/i5h0AAAAAElF\n",
       "TkSuQmCC\n",
       "\" style=\"display:inline;vertical-align:middle;\" /></a> <a class=\"ProveItLink\" href=\"../__pv_it/demonstrations/5b93c671edf39e4dfe0b71765497e3fc8bfef6f80/proof.ipynb\" style=\"text-decoration: none\">&nbsp;&#x22A2;&nbsp;&nbsp;</a><a class=\"ProveItLink\" href=\"../__pv_it/theorems/89c58886785a6f188ade8c2a1dcacf7288396a140/expr.ipynb\"><img src=\"data:image/png;base64,iVBORw0KGgoAAAANSUhEUgAAADUAAAAPBAMAAAC2KZqIAAAAMFBMVEX///8QEBBmZmaqqqrMzMxE\n",
       "REQyMjIiIiKYmJh2dna6urrc3NxUVFSIiIju7u4AAAA6P00QAAAAAXRSTlMAQObYZgAAAMZJREFU\n",
       "GNNjYMAB3Bhwg3zcUhz5D1D54eVlMPZj/Q3IUiyxSEob7i8Akm/v7Lp5AcR9hiTF9cC+gYGBbwJH\n",
       "LXsCiH8ayYxXDP5A9ZwPOP9xgc0OQJJbwLBfAaiPgRUiyCKWBgRQqw8pnQeL8oNtY+BG0sfFwMAI\n",
       "tsffASIggJAzYGBgB3KZH9xn4AW7UBcuxQ2UY/vAwLDeIJ5hB1iE3QAmtx2IWX8zMLy5+1ajASzC\n",
       "d3QdROrp/zwG5vjvCsgBwzUVEWYgAACVrTGb/6vh/gAAAABJRU5ErkJggg==\n",
       "\" style=\"display:inline;vertical-align:middle;\" /></a></span><br>"
      ],
      "text/plain": [
       "x_in_a_kt: {B proper_subset A, x in B} |- x in A"
      ]
     },
     "execution_count": 52,
     "metadata": {},
     "output_type": "execute_result"
    }
   ],
   "source": [
    "# establish the Known Truth\n",
    "x_in_a_kt = x_in_a.prove([x_in_b, ASupersetOfB])"
   ]
  },
  {
   "cell_type": "markdown",
   "metadata": {},
   "source": [
    "<a id='demo03'></a><font size=3>In the proof, we see the relaxation theorem taking $A \\supset B$ to $A \\supseteq B$, and then the reversal theorem taking $A \\supseteq B$ to $B \\subseteq A$, then proceeding as it would for the example in <a href='#demo01'>Demo (1)</a> earlier:</font>"
   ]
  },
  {
   "cell_type": "code",
   "execution_count": 53,
   "metadata": {},
   "outputs": [
    {
     "data": {
      "text/html": [
       "<table><tr><th>&nbsp;</th><th>step type</th><th>requirements</th><th>statement</th></tr>\n",
       "<tr><td><a name=\"-0x156b896823b4267f_step0\">0</a></td><td>instantiation</td><td><a href=\"#-0x156b896823b4267f_step1\">1</a>, <a href=\"#-0x156b896823b4267f_step2\">2</a>, <a href=\"#-0x156b896823b4267f_step3\">3</a></td><td><span style=\"font-size:20px;\"><a class=\"ProveItLink\" href=\"../__pv_it/demonstrations/b276e3cef8640dca33911d2a2a65844f7d8b346a0/expr.ipynb\"><img src=\"data:image/png;base64,iVBORw0KGgoAAAANSUhEUgAAADsAAAAPBAMAAACo4Ko7AAAAMFBMVEX///92dnYyMjKqqqoiIiLu\n",
       "7u7c3NyIiIjMzMwQEBC6urpERERmZmZUVFSYmJgAAADEjrHzAAAAAXRSTlMAQObYZgAAAOpJREFU\n",
       "GNNjYGB4+//O2d0LGDBBE4SazcDA8wOLtD6Y5PjHwMD1B1OWTz8ARLF/AzK/Q0S2uLi4NEClg88n\n",
       "gCjuCQwMka4gFptiApLuB/VgB/FfYODwBZvDgizLFWD/AET333u+xQAschjZ6iiG/gIQXZ/AwDoX\n",
       "LOKALL2AIf8AiN4JUgLSznYBSZbjzpn7G0CMvyBpkDmsG5CtZmDgVIB6m+H+AnTDgcaxTIB6m+M3\n",
       "WEgcIcsGlGb6AGQwAdWs3AoWYzKAS6eAAgSokVf/75nbmyFirHeXQmWj/6syMO//cgA1mDmkkQIV\n",
       "BAA3GTyOwI02cgAAAABJRU5ErkJggg==\n",
       "\" style=\"display:inline;vertical-align:middle;\" /></a>, <a class=\"ProveItLink\" href=\"../__pv_it/theorems/2b6b67c6dcbdfcb6a177ea6eafd4c81308a6b77e0/expr.ipynb\"><img src=\"data:image/png;base64,iVBORw0KGgoAAAANSUhEUgAAADUAAAAPBAMAAAC2KZqIAAAAMFBMVEX///8QEBBmZmaqqqrMzMxE\n",
       "REQyMjIiIiKYmJh2dna6urrc3NxUVFSIiIju7u4AAAA6P00QAAAAAXRSTlMAQObYZgAAANpJREFU\n",
       "GNNjYMACOM7/UToaxYAdMAYwMOg7YJfzb2BgWK+ALNJaXp4AYd3fwMDQfwFJyvUenBnIwMAn/oCB\n",
       "4e2dXTdBSvjyEMr+MDC4nwMKTeCoZQcZxbMBLsXyp+NqMZDmfMD5jwskzIrQxvubgeHhAaA+BtYA\n",
       "sIBjGhBA3MIqAJT/DGLxQxy0FaGPH6iH9y/YMxBPMqJ6j+cXAwPzg/sMvEDnMjAh/APynj/QpvUG\n",
       "8Qw7wCLFcLlEBgYuUaD6N3ffajSARd5EPYBIHft/SCfUADUUV4bDwgwCAHpvO2L/i5h0AAAAAElF\n",
       "TkSuQmCC\n",
       "\" style=\"display:inline;vertical-align:middle;\" /></a> <a class=\"ProveItLink\" href=\"../__pv_it/demonstrations/5b93c671edf39e4dfe0b71765497e3fc8bfef6f80/proof.ipynb\" style=\"text-decoration: none\">&nbsp;&#x22A2;&nbsp;&nbsp;</a><a class=\"ProveItLink\" href=\"../__pv_it/theorems/89c58886785a6f188ade8c2a1dcacf7288396a140/expr.ipynb\"><img src=\"data:image/png;base64,iVBORw0KGgoAAAANSUhEUgAAADUAAAAPBAMAAAC2KZqIAAAAMFBMVEX///8QEBBmZmaqqqrMzMxE\n",
       "REQyMjIiIiKYmJh2dna6urrc3NxUVFSIiIju7u4AAAA6P00QAAAAAXRSTlMAQObYZgAAAMZJREFU\n",
       "GNNjYMAB3Bhwg3zcUhz5D1D54eVlMPZj/Q3IUiyxSEob7i8Akm/v7Lp5AcR9hiTF9cC+gYGBbwJH\n",
       "LXsCiH8ayYxXDP5A9ZwPOP9xgc0OQJJbwLBfAaiPgRUiyCKWBgRQqw8pnQeL8oNtY+BG0sfFwMAI\n",
       "tsffASIggJAzYGBgB3KZH9xn4AW7UBcuxQ2UY/vAwLDeIJ5hB1iE3QAmtx2IWX8zMLy5+1ajASzC\n",
       "d3QdROrp/zwG5vjvCsgBwzUVEWYgAACVrTGb/6vh/gAAAABJRU5ErkJggg==\n",
       "\" style=\"display:inline;vertical-align:middle;\" /></a></span></td></tr>\n",
       "<tr><td>&nbsp;</td><td colspan=4 style=\"text-align:left\"><span style=\"font-size:20px;\"><a class=\"ProveItLink\" href=\"../../../../__pv_it/common/09585084922504426caf1db2ff588a23a0932a960/expr.ipynb\"><img src=\"data:image/png;base64,iVBORw0KGgoAAAANSUhEUgAAAA8AAAAOBAMAAAACpFvcAAAALVBMVEX///8iIiIQEBBERERUVFS6\n",
       "urqIiIjc3NxmZmaqqqru7u6YmJgyMjLMzMwAAACK9jtgAAAAAXRSTlMAQObYZgAAAFtJREFUCNdj\n",
       "YACBOwxQcA5Kc59bAGGs7CuAMDbkBYBp1gXzNoAZSxnuJYAZAQx1DSCa16PDzwCshIGB6QCIMYGB\n",
       "gVEBSLMDGTwPgIxCIGZ+zsCw+N0pBk67hw0AfpEVEQi8t+wAAAAASUVORK5CYII=\n",
       "\" style=\"display:inline;vertical-align:middle;\" /></a> : <a class=\"ProveItLink\" href=\"../../../../__pv_it/common/a9162d1c3cc0470c02e5daf414500903a7a419230/expr.ipynb\"><img src=\"data:image/png;base64,iVBORw0KGgoAAAANSUhEUgAAABAAAAAOBAMAAADUAYG5AAAALVBMVEX///8yMjKqqqoiIiLu7u7c\n",
       "3NyIiIjMzMwQEBC6urpERERmZmZUVFSYmJgAAACsPVCVAAAAAXRSTlMAQObYZgAAAGxJREFUCNdj\n",
       "YGC48+70nlUTGICgi4GB+zmQZn/LwMD5Gshge8rAwPsMyOBqYGDwMAEy+A4wsNs4ABl1Z68tVgBp\n",
       "ygtgYOkBMVaAOCChNyBGAsQYhnMTIMawvwJyGIHGzFjCwMAj92b3qUUMDAAXABxvZ4rl5AAAAABJ\n",
       "RU5ErkJggg==\n",
       "\" style=\"display:inline;vertical-align:middle;\" /></a>, <a class=\"ProveItLink\" href=\"../../../../__pv_it/common/a9162d1c3cc0470c02e5daf414500903a7a419230/expr.ipynb\"><img src=\"data:image/png;base64,iVBORw0KGgoAAAANSUhEUgAAABAAAAAOBAMAAADUAYG5AAAALVBMVEX///8yMjKqqqoiIiLu7u7c\n",
       "3NyIiIjMzMwQEBC6urpERERmZmZUVFSYmJgAAACsPVCVAAAAAXRSTlMAQObYZgAAAGxJREFUCNdj\n",
       "YGC48+70nlUTGICgi4GB+zmQZn/LwMD5Gshge8rAwPsMyOBqYGDwMAEy+A4wsNs4ABl1Z68tVgBp\n",
       "ygtgYOkBMVaAOCChNyBGAsQYhnMTIMawvwJyGIHGzFjCwMAj92b3qUUMDAAXABxvZ4rl5AAAAABJ\n",
       "RU5ErkJggg==\n",
       "\" style=\"display:inline;vertical-align:middle;\" /></a> : <a class=\"ProveItLink\" href=\"../../../../__pv_it/common/09585084922504426caf1db2ff588a23a0932a960/expr.ipynb\"><img src=\"data:image/png;base64,iVBORw0KGgoAAAANSUhEUgAAAA8AAAAOBAMAAAACpFvcAAAALVBMVEX///8iIiIQEBBERERUVFS6\n",
       "urqIiIjc3NxmZmaqqqru7u6YmJgyMjLMzMwAAACK9jtgAAAAAXRSTlMAQObYZgAAAFtJREFUCNdj\n",
       "YACBOwxQcA5Kc59bAGGs7CuAMDbkBYBp1gXzNoAZSxnuJYAZAQx1DSCa16PDzwCshIGB6QCIMYGB\n",
       "gVEBSLMDGTwPgIxCIGZ+zsCw+N0pBk67hw0AfpEVEQi8t+wAAAAASUVORK5CYII=\n",
       "\" style=\"display:inline;vertical-align:middle;\" /></a>, <a class=\"ProveItLink\" href=\"../../../../__pv_it/common/a0d9d672aa5e272d907247690c152cc2c6daafb70/expr.ipynb\"><img src=\"data:image/png;base64,iVBORw0KGgoAAAANSUhEUgAAAAsAAAAJBAMAAAAWSsseAAAALVBMVEX///9mZmaqqqrMzMxEREQy\n",
       "MjIiIiKYmJh2dna6urrc3NxUVFSIiIju7u4AAACJHQtQAAAAAXRSTlMAQObYZgAAAEJJREFUCNdj\n",
       "YLhzeuWJAwy8Dew5bAEMHBc43nIuYOBlYHFgAAG+A2DKzgBIMF04x8BzgWGegh/DcgaG22fuiBcw\n",
       "AAATyhBrnyPYZQAAAABJRU5ErkJggg==\n",
       "\" style=\"display:inline;vertical-align:middle;\" /></a> : <a class=\"ProveItLink\" href=\"../../../../__pv_it/common/a0d9d672aa5e272d907247690c152cc2c6daafb70/expr.ipynb\"><img src=\"data:image/png;base64,iVBORw0KGgoAAAANSUhEUgAAAAsAAAAJBAMAAAAWSsseAAAALVBMVEX///9mZmaqqqrMzMxEREQy\n",
       "MjIiIiKYmJh2dna6urrc3NxUVFSIiIju7u4AAACJHQtQAAAAAXRSTlMAQObYZgAAAEJJREFUCNdj\n",
       "YLhzeuWJAwy8Dew5bAEMHBc43nIuYOBlYHFgAAG+A2DKzgBIMF04x8BzgWGegh/DcgaG22fuiBcw\n",
       "AAATyhBrnyPYZQAAAABJRU5ErkJggg==\n",
       "\" style=\"display:inline;vertical-align:middle;\" /></a></span></td></tr><tr><td><a name=\"-0x156b896823b4267f_step1\">1</a></td><td>theorem</td><td></td><td><span style=\"font-size:20px;\"> <a class=\"ProveItLink\" href=\"proofs/unfold_subset_eq/thm_proof.ipynb\" style=\"text-decoration: none\">&nbsp;&#x22A2;&nbsp;&nbsp;</a><a class=\"ProveItLink\" href=\"../__pv_it/theorems/d9b546a738715058e159aa17be9b855bcfc97f240/expr.ipynb\"><img src=\"data:image/png;base64,iVBORw0KGgoAAAANSUhEUgAAAPcAAAAWBAMAAADuuhdHAAAAMFBMVEX///8QEBCIiIhmZma6urrM\n",
       "zMxUVFQiIiJERETc3Nzu7u6qqqp2dnaYmJgyMjIAAAAcRTyBAAAAAXRSTlMAQObYZgAAA4FJREFU\n",
       "SMe9lk1oE0EUx/8m2TS7SZqeRNBDsAdLsRooVJSqsV4UKo09iDeDWqgHMahYv42idtsqiRctgnZF\n",
       "sFhLDXhSD8YWsbZ+xAp+iwseCj3U0BqtlaLzsclOQ1JtRN9hd2bem/d7M/Pe7AIFimU0MLPBpZmU\n",
       "twH3sB86bX+YPdzlL6YvdyKPXgnnHH75c1uV6oc9Sj1gkA6NFAJ3xcirWMujL47mHp8HWFNQdAZv\n",
       "JwNyuBA4m9WeT/8i97A0BdjGgV4Gp6GzNcwazvZrMJ/+wLTe66YmnafKd3JUY8AV5sE90NV1AQXB\n",
       "33d1XQ/lUcvTFJvL0y1HCQEfJKfipx4woaqHC4N7VLU5nq8YfCTnFu6o6WXJZ+aUJwhpH91sH4M3\n",
       "AC1snD/Xjfc1slyxZYLNpI4tUl3VYsLtAUGXZesgVdCNV96jtGM3rbbsHGqmh+zWGXwtSz3S/cK0\n",
       "7hK4Stj0tP1HYtStqqdJ8zlw34TbfOjJWjC1ZVJECAN4pq2f5gpYGoUyl7ydIQYvgoXV6tUpprUG\n",
       "4ZwUZyirE5BO8XYVcE/LwBFCRdrpjb6Vhi2XOUStQeWdjaNEeMIdpwGQwKQk8+BKFLHhgT08ZC+s\n",
       "ugh3dfoy7d3AKnPleIJ0WrnbLmqGrQkHxnhHqMevFO7NwGV9EytALw/zZgBLNBFe7wjjrrEJKVhG\n",
       "BPhlKUgapfUN5Owytua2Q0oZkUwrc+wiU21829GynSUFljF1XUVZECI8aA1huZFwY0OnhWyH4zx5\n",
       "lNv1vfyS5rZmwt2xJMFqzOrNFAEpc2nCTDjcYhPeYSlTPwUWiXB3jLh4ZAB1WEIC3EnjDRQnoPhM\n",
       "W0Ptg+2HIynzHDiUuXRJLq9ppfHEOdxD41I+PY6w3T4DdMQEeE91/yRqjOXEIf8Q4PxMPVFI+1X1\n",
       "hGFrbFIIytbyUuOLde0kT1P756+VjW0sigD34KYKq4YO9o0kzuuiAnwF5FS6fD0x2L6L8LesdBFA\n",
       "0LTNeb3WNhvXa1o6DQ9MNhDXCbkV8iTkBcK228i+TUE5y+gdGs7FRTi9R5NPEccD03bmD0taegW4\n",
       "YwJy5Ig0Hw/HKxv9AjwSRvu3BJz95JJxHausOoksuLKzdrEGR8y0zb4Xc37tdXHlXJziTfnbu12U\n",
       "Mnrmf/AzIYSWDb/953DL0b/5jXpDHAxnwRN54O0qEfxHsf57xC8BVPer1lKnkwAAAABJRU5ErkJg\n",
       "gg==\n",
       "\" style=\"display:inline;vertical-align:middle;\" /></a></span></td></tr>\n",
       "<tr><td>&nbsp;</td><td colspan=4 style-\"text-align:left\"><a class=\"ProveItLink\" href=\"proofs/unfold_subset_eq/thm_proof.ipynb\">proveit.logic.sets.inclusion.unfold_subset_eq</a></td></tr><tr><td><a name=\"-0x156b896823b4267f_step2\">2</a></td><td>instantiation</td><td><a href=\"#-0x156b896823b4267f_step4\">4</a>, <a href=\"#-0x156b896823b4267f_step5\">5</a></td><td><span style=\"font-size:20px;\"><a class=\"ProveItLink\" href=\"../__pv_it/demonstrations/b276e3cef8640dca33911d2a2a65844f7d8b346a0/expr.ipynb\"><img src=\"data:image/png;base64,iVBORw0KGgoAAAANSUhEUgAAADsAAAAPBAMAAACo4Ko7AAAAMFBMVEX///92dnYyMjKqqqoiIiLu\n",
       "7u7c3NyIiIjMzMwQEBC6urpERERmZmZUVFSYmJgAAADEjrHzAAAAAXRSTlMAQObYZgAAAOpJREFU\n",
       "GNNjYGB4+//O2d0LGDBBE4SazcDA8wOLtD6Y5PjHwMD1B1OWTz8ARLF/AzK/Q0S2uLi4NEClg88n\n",
       "gCjuCQwMka4gFptiApLuB/VgB/FfYODwBZvDgizLFWD/AET333u+xQAschjZ6iiG/gIQXZ/AwDoX\n",
       "LOKALL2AIf8AiN4JUgLSznYBSZbjzpn7G0CMvyBpkDmsG5CtZmDgVIB6m+H+AnTDgcaxTIB6m+M3\n",
       "WEgcIcsGlGb6AGQwAdWs3AoWYzKAS6eAAgSokVf/75nbmyFirHeXQmWj/6syMO//cgA1mDmkkQIV\n",
       "BAA3GTyOwI02cgAAAABJRU5ErkJggg==\n",
       "\" style=\"display:inline;vertical-align:middle;\" /></a> <a class=\"ProveItLink\" href=\"../__pv_it/demonstrations/8b025162b15beab9a5860ff968c2a5e5800e2a420/proof.ipynb\" style=\"text-decoration: none\">&nbsp;&#x22A2;&nbsp;&nbsp;</a><a class=\"ProveItLink\" href=\"../__pv_it/demonstrations/fbe59089d5baf6d22f4a84f108477540839ff8fe0/expr.ipynb\"><img src=\"data:image/png;base64,iVBORw0KGgoAAAANSUhEUgAAADsAAAARBAMAAACRPMnQAAAAMFBMVEX///92dnYyMjKqqqoiIiLu\n",
       "7u7c3NyIiIjMzMwQEBC6urpERERmZmZUVFSYmJgAAADEjrHzAAAAAXRSTlMAQObYZgAAAO5JREFU\n",
       "KM9jYGB4+//O2d0LGDBBE4SazcDA8wPM4rvi4uLSAJPWB5Mc/xgYuP6AWGyKCUia+fQDQBT7NyDz\n",
       "O4jFhCzLEHwezOWewMAQ6QpiHUax+kE92EH8Fxg4fMHmOCDLcgXYPwDR/feebzEAW30BWTqKob8A\n",
       "RNcnMLDOBTFYNyBLL2DIPwCid4KUGKAbznHnzH2w8r8gabA54shWMzBwKkC9zXAf7EgmA4Q0kMky\n",
       "Aeptjt9gIda7S2GybEBppg8gLUA1K7dCLZSGBWoKKECAGnn1/565vRk9NqL/qzIw7/9ygIF6QMTF\n",
       "BTlCgQAAZho+lB/Z+SsAAAAASUVORK5CYII=\n",
       "\" style=\"display:inline;vertical-align:middle;\" /></a></span></td></tr>\n",
       "<tr><td>&nbsp;</td><td colspan=4 style=\"text-align:left\"><span style=\"font-size:20px;\"><a class=\"ProveItLink\" href=\"../../../../__pv_it/common/09585084922504426caf1db2ff588a23a0932a960/expr.ipynb\"><img src=\"data:image/png;base64,iVBORw0KGgoAAAANSUhEUgAAAA8AAAAOBAMAAAACpFvcAAAALVBMVEX///8iIiIQEBBERERUVFS6\n",
       "urqIiIjc3NxmZmaqqqru7u6YmJgyMjLMzMwAAACK9jtgAAAAAXRSTlMAQObYZgAAAFtJREFUCNdj\n",
       "YACBOwxQcA5Kc59bAGGs7CuAMDbkBYBp1gXzNoAZSxnuJYAZAQx1DSCa16PDzwCshIGB6QCIMYGB\n",
       "gVEBSLMDGTwPgIxCIGZ+zsCw+N0pBk67hw0AfpEVEQi8t+wAAAAASUVORK5CYII=\n",
       "\" style=\"display:inline;vertical-align:middle;\" /></a> : <a class=\"ProveItLink\" href=\"../../../../__pv_it/common/a9162d1c3cc0470c02e5daf414500903a7a419230/expr.ipynb\"><img src=\"data:image/png;base64,iVBORw0KGgoAAAANSUhEUgAAABAAAAAOBAMAAADUAYG5AAAALVBMVEX///8yMjKqqqoiIiLu7u7c\n",
       "3NyIiIjMzMwQEBC6urpERERmZmZUVFSYmJgAAACsPVCVAAAAAXRSTlMAQObYZgAAAGxJREFUCNdj\n",
       "YGC48+70nlUTGICgi4GB+zmQZn/LwMD5Gshge8rAwPsMyOBqYGDwMAEy+A4wsNs4ABl1Z68tVgBp\n",
       "ygtgYOkBMVaAOCChNyBGAsQYhnMTIMawvwJyGIHGzFjCwMAj92b3qUUMDAAXABxvZ4rl5AAAAABJ\n",
       "RU5ErkJggg==\n",
       "\" style=\"display:inline;vertical-align:middle;\" /></a>, <a class=\"ProveItLink\" href=\"../../../../__pv_it/common/a9162d1c3cc0470c02e5daf414500903a7a419230/expr.ipynb\"><img src=\"data:image/png;base64,iVBORw0KGgoAAAANSUhEUgAAABAAAAAOBAMAAADUAYG5AAAALVBMVEX///8yMjKqqqoiIiLu7u7c\n",
       "3NyIiIjMzMwQEBC6urpERERmZmZUVFSYmJgAAACsPVCVAAAAAXRSTlMAQObYZgAAAGxJREFUCNdj\n",
       "YGC48+70nlUTGICgi4GB+zmQZn/LwMD5Gshge8rAwPsMyOBqYGDwMAEy+A4wsNs4ABl1Z68tVgBp\n",
       "ygtgYOkBMVaAOCChNyBGAsQYhnMTIMawvwJyGIHGzFjCwMAj92b3qUUMDAAXABxvZ4rl5AAAAABJ\n",
       "RU5ErkJggg==\n",
       "\" style=\"display:inline;vertical-align:middle;\" /></a> : <a class=\"ProveItLink\" href=\"../../../../__pv_it/common/09585084922504426caf1db2ff588a23a0932a960/expr.ipynb\"><img src=\"data:image/png;base64,iVBORw0KGgoAAAANSUhEUgAAAA8AAAAOBAMAAAACpFvcAAAALVBMVEX///8iIiIQEBBERERUVFS6\n",
       "urqIiIjc3NxmZmaqqqru7u6YmJgyMjLMzMwAAACK9jtgAAAAAXRSTlMAQObYZgAAAFtJREFUCNdj\n",
       "YACBOwxQcA5Kc59bAGGs7CuAMDbkBYBp1gXzNoAZSxnuJYAZAQx1DSCa16PDzwCshIGB6QCIMYGB\n",
       "gVEBSLMDGTwPgIxCIGZ+zsCw+N0pBk67hw0AfpEVEQi8t+wAAAAASUVORK5CYII=\n",
       "\" style=\"display:inline;vertical-align:middle;\" /></a></span></td></tr><tr><td><a name=\"-0x156b896823b4267f_step3\">3</a></td><td>assumption</td><td></td><td><span style=\"font-size:20px;\"><a class=\"ProveItLink\" href=\"../__pv_it/theorems/2b6b67c6dcbdfcb6a177ea6eafd4c81308a6b77e0/expr.ipynb\"><img src=\"data:image/png;base64,iVBORw0KGgoAAAANSUhEUgAAADUAAAAPBAMAAAC2KZqIAAAAMFBMVEX///8QEBBmZmaqqqrMzMxE\n",
       "REQyMjIiIiKYmJh2dna6urrc3NxUVFSIiIju7u4AAAA6P00QAAAAAXRSTlMAQObYZgAAANpJREFU\n",
       "GNNjYMACOM7/UToaxYAdMAYwMOg7YJfzb2BgWK+ALNJaXp4AYd3fwMDQfwFJyvUenBnIwMAn/oCB\n",
       "4e2dXTdBSvjyEMr+MDC4nwMKTeCoZQcZxbMBLsXyp+NqMZDmfMD5jwskzIrQxvubgeHhAaA+BtYA\n",
       "sIBjGhBA3MIqAJT/DGLxQxy0FaGPH6iH9y/YMxBPMqJ6j+cXAwPzg/sMvEDnMjAh/APynj/QpvUG\n",
       "8Qw7wCLFcLlEBgYuUaD6N3ffajSARd5EPYBIHft/SCfUADUUV4bDwgwCAHpvO2L/i5h0AAAAAElF\n",
       "TkSuQmCC\n",
       "\" style=\"display:inline;vertical-align:middle;\" /></a> <a class=\"ProveItLink\" href=\"../__pv_it/demonstrations/502a28191d16671958fdd48e9c9c1ab0b14244b70/proof.ipynb\" style=\"text-decoration: none\">&nbsp;&#x22A2;&nbsp;&nbsp;</a><a class=\"ProveItLink\" href=\"../__pv_it/theorems/2b6b67c6dcbdfcb6a177ea6eafd4c81308a6b77e0/expr.ipynb\"><img src=\"data:image/png;base64,iVBORw0KGgoAAAANSUhEUgAAADUAAAAPBAMAAAC2KZqIAAAAMFBMVEX///8QEBBmZmaqqqrMzMxE\n",
       "REQyMjIiIiKYmJh2dna6urrc3NxUVFSIiIju7u4AAAA6P00QAAAAAXRSTlMAQObYZgAAANpJREFU\n",
       "GNNjYMACOM7/UToaxYAdMAYwMOg7YJfzb2BgWK+ALNJaXp4AYd3fwMDQfwFJyvUenBnIwMAn/oCB\n",
       "4e2dXTdBSvjyEMr+MDC4nwMKTeCoZQcZxbMBLsXyp+NqMZDmfMD5jwskzIrQxvubgeHhAaA+BtYA\n",
       "sIBjGhBA3MIqAJT/DGLxQxy0FaGPH6iH9y/YMxBPMqJ6j+cXAwPzg/sMvEDnMjAh/APynj/QpvUG\n",
       "8Qw7wCLFcLlEBgYuUaD6N3ffajSARd5EPYBIHft/SCfUADUUV4bDwgwCAHpvO2L/i5h0AAAAAElF\n",
       "TkSuQmCC\n",
       "\" style=\"display:inline;vertical-align:middle;\" /></a></span></td></tr>\n",
       "<tr><td><a name=\"-0x156b896823b4267f_step4\">4</a></td><td>theorem</td><td></td><td><span style=\"font-size:20px;\"> <a class=\"ProveItLink\" href=\"proofs/relax_proper_subset/thm_proof.ipynb\" style=\"text-decoration: none\">&nbsp;&#x22A2;&nbsp;&nbsp;</a><a class=\"ProveItLink\" href=\"../__pv_it/theorems/2c430372c2a6c5c1fc591eea9ac0c696b14ae0950/expr.ipynb\"><img src=\"data:image/png;base64,iVBORw0KGgoAAAANSUhEUgAAALkAAAAWBAMAAABuySBUAAAAMFBMVEX///8QEBCIiIhmZma6urrM\n",
       "zMxUVFQiIiJERETc3Nzu7u6qqqp2dnaYmJgyMjIAAAAcRTyBAAAAAXRSTlMAQObYZgAAAs1JREFU\n",
       "SMetVU1oE0EU/tyfNLtJak8iKBLwoBdtIBBRika8SFFaPPQkGLBCD4rRokFRjCB2W4XEixZEuyK0\n",
       "koMGetGTtSJqFYkVBBE14Ml6aGlsTSO1vpnZTSdtrbg6sPvemzfzvd+ZATyPG3/QP6CvyJgPHsDN\n",
       "NCd6cZHm7dzBmBWHLwu8YPKYB/T6rCATLmYqlToh2NWAOgWT7PaSZKQ9oL8R5GNF0JvPqxp9FtBK\n",
       "wDDZtoFg3gP6KZGfwRkhfpnXKDQVmgRuERnJ5a55ADeSnISUb5yqkoP+BkI+TY7HgbJlnfGArkQ4\n",
       "aQ7MclonqVYmoJ9kKaElh4BuPin+u0uPO3i9tKorWZfTMk2xbne2wBMT1ye5eFVCP3BktIuFEqKy\n",
       "7uLFJV6EGGpAsIFvdxd/ilf3vQYeOWxdXrhglLh4R0JvzMJcRTSQZDEp3I3bIkQ1gUBFRjd3kFpf\n",
       "H40SHwMe2mJ6BbfZFo2VF2XmPLNAxnVq1mBBaEY6xbIw1KKMHhyIwDzcnMsRfxzYDhmdfuvEqvA8\n",
       "+jRDDwt0o9jGmzRscdW9Vmy2ZfR9/jR8rSKMKShjcmYC9B0T8teadsdRsquxtupuZ3M+bOG6lk0b\n",
       "E5DRE2oSe5yqTo5ehFzV6/SNC7m/3ZbaXS87VcUg79z3aOS6V8AGGT2UVybwxElSEUrSTVjE6fmM\n",
       "01L7u5yboJ6aYmcPK+EQa0+WMvPzyww3fhnoy0vod5ueVbDV8XcIxg+3O5MwMz9t3J/rrD0IvvHp\n",
       "aMclboblM8RQVRt9PLm0uyUroW+DMUWBiWOShzZTexMsNwaq3F7aWzB6YFRgrJUyo1F6Z91u7rNx\n",
       "ZWjBLbbMGK7WqAwjc1Zfg6elaEdcQs+k0fu9oPETGjwXjV3A4iPMdanU/A3sHJSFN39A4v2yot+y\n",
       "rKVfj9+PWvPOY7UkupeX793CicLfoP/TUP8Dxi9bSbT1CXT83gAAAABJRU5ErkJggg==\n",
       "\" style=\"display:inline;vertical-align:middle;\" /></a></span></td></tr>\n",
       "<tr><td>&nbsp;</td><td colspan=4 style-\"text-align:left\"><a class=\"ProveItLink\" href=\"proofs/relax_proper_subset/thm_proof.ipynb\">proveit.logic.sets.inclusion.relax_proper_subset</a></td></tr><tr><td><a name=\"-0x156b896823b4267f_step5\">5</a></td><td>assumption</td><td></td><td><span style=\"font-size:20px;\"><a class=\"ProveItLink\" href=\"../__pv_it/demonstrations/b276e3cef8640dca33911d2a2a65844f7d8b346a0/expr.ipynb\"><img src=\"data:image/png;base64,iVBORw0KGgoAAAANSUhEUgAAADsAAAAPBAMAAACo4Ko7AAAAMFBMVEX///92dnYyMjKqqqoiIiLu\n",
       "7u7c3NyIiIjMzMwQEBC6urpERERmZmZUVFSYmJgAAADEjrHzAAAAAXRSTlMAQObYZgAAAOpJREFU\n",
       "GNNjYGB4+//O2d0LGDBBE4SazcDA8wOLtD6Y5PjHwMD1B1OWTz8ARLF/AzK/Q0S2uLi4NEClg88n\n",
       "gCjuCQwMka4gFptiApLuB/VgB/FfYODwBZvDgizLFWD/AET333u+xQAschjZ6iiG/gIQXZ/AwDoX\n",
       "LOKALL2AIf8AiN4JUgLSznYBSZbjzpn7G0CMvyBpkDmsG5CtZmDgVIB6m+H+AnTDgcaxTIB6m+M3\n",
       "WEgcIcsGlGb6AGQwAdWs3AoWYzKAS6eAAgSokVf/75nbmyFirHeXQmWj/6syMO//cgA1mDmkkQIV\n",
       "BAA3GTyOwI02cgAAAABJRU5ErkJggg==\n",
       "\" style=\"display:inline;vertical-align:middle;\" /></a> <a class=\"ProveItLink\" href=\"../__pv_it/demonstrations/979dc7f8f49fb265057215d9c9baf7f12096219a0/proof.ipynb\" style=\"text-decoration: none\">&nbsp;&#x22A2;&nbsp;&nbsp;</a><a class=\"ProveItLink\" href=\"../__pv_it/demonstrations/b276e3cef8640dca33911d2a2a65844f7d8b346a0/expr.ipynb\"><img src=\"data:image/png;base64,iVBORw0KGgoAAAANSUhEUgAAADsAAAAPBAMAAACo4Ko7AAAAMFBMVEX///92dnYyMjKqqqoiIiLu\n",
       "7u7c3NyIiIjMzMwQEBC6urpERERmZmZUVFSYmJgAAADEjrHzAAAAAXRSTlMAQObYZgAAAOpJREFU\n",
       "GNNjYGB4+//O2d0LGDBBE4SazcDA8wOLtD6Y5PjHwMD1B1OWTz8ARLF/AzK/Q0S2uLi4NEClg88n\n",
       "gCjuCQwMka4gFptiApLuB/VgB/FfYODwBZvDgizLFWD/AET333u+xQAschjZ6iiG/gIQXZ/AwDoX\n",
       "LOKALL2AIf8AiN4JUgLSznYBSZbjzpn7G0CMvyBpkDmsG5CtZmDgVIB6m+H+AnTDgcaxTIB6m+M3\n",
       "WEgcIcsGlGb6AGQwAdWs3AoWYzKAS6eAAgSokVf/75nbmyFirHeXQmWj/6syMO//cgA1mDmkkQIV\n",
       "BAA3GTyOwI02cgAAAABJRU5ErkJggg==\n",
       "\" style=\"display:inline;vertical-align:middle;\" /></a></span></td></tr>\n",
       "</table>"
      ],
      "text/plain": [
       "\tstep type\trequirements\tstatement\n",
       "0\tinstantiation\t1, 2, 3\t{B proper_subset A, x in B} |- x in A\n",
       "\tA : B, B : A, x : x\n",
       "1\ttheorem\t\t|- forall_{A, B | A subset_eq B} [forall_{x in A} (x in B)]\n",
       "\tproveit.logic.sets.inclusion.unfold_subset_eq\n",
       "2\tinstantiation\t4, 5\t{B proper_subset A} |- B subset_eq A\n",
       "\tA : B, B : A\n",
       "3\tassumption\t\t{x in B} |- x in B\n",
       "4\ttheorem\t\t|- forall_{A, B | A proper_subset B} (A subset_eq B)\n",
       "\tproveit.logic.sets.inclusion.relax_proper_subset\n",
       "5\tassumption\t\t{B proper_subset A} |- B proper_subset A"
      ]
     },
     "execution_count": 53,
     "metadata": {},
     "output_type": "execute_result"
    }
   ],
   "source": [
    "# take a look at the proof:\n",
    "x_in_a_kt.proof()"
   ]
  },
  {
   "cell_type": "markdown",
   "metadata": {},
   "source": [
    "<font size=3>As in <a href=\"#demo01\">Demo 1</a>, we can re-express our judgment as a logical implication:</font>"
   ]
  },
  {
   "cell_type": "code",
   "execution_count": 54,
   "metadata": {},
   "outputs": [
    {
     "data": {
      "text/html": [
       "<span style=\"font-size:20px;\"><a class=\"ProveItLink\" href=\"../__pv_it/demonstrations/b276e3cef8640dca33911d2a2a65844f7d8b346a0/expr.ipynb\"><img src=\"data:image/png;base64,iVBORw0KGgoAAAANSUhEUgAAADsAAAAPBAMAAACo4Ko7AAAAMFBMVEX///92dnYyMjKqqqoiIiLu\n",
       "7u7c3NyIiIjMzMwQEBC6urpERERmZmZUVFSYmJgAAADEjrHzAAAAAXRSTlMAQObYZgAAAOpJREFU\n",
       "GNNjYGB4+//O2d0LGDBBE4SazcDA8wOLtD6Y5PjHwMD1B1OWTz8ARLF/AzK/Q0S2uLi4NEClg88n\n",
       "gCjuCQwMka4gFptiApLuB/VgB/FfYODwBZvDgizLFWD/AET333u+xQAschjZ6iiG/gIQXZ/AwDoX\n",
       "LOKALL2AIf8AiN4JUgLSznYBSZbjzpn7G0CMvyBpkDmsG5CtZmDgVIB6m+H+AnTDgcaxTIB6m+M3\n",
       "WEgcIcsGlGb6AGQwAdWs3AoWYzKAS6eAAgSokVf/75nbmyFirHeXQmWj/6syMO//cgA1mDmkkQIV\n",
       "BAA3GTyOwI02cgAAAABJRU5ErkJggg==\n",
       "\" style=\"display:inline;vertical-align:middle;\" /></a>, <a class=\"ProveItLink\" href=\"../__pv_it/theorems/2b6b67c6dcbdfcb6a177ea6eafd4c81308a6b77e0/expr.ipynb\"><img src=\"data:image/png;base64,iVBORw0KGgoAAAANSUhEUgAAADUAAAAPBAMAAAC2KZqIAAAAMFBMVEX///8QEBBmZmaqqqrMzMxE\n",
       "REQyMjIiIiKYmJh2dna6urrc3NxUVFSIiIju7u4AAAA6P00QAAAAAXRSTlMAQObYZgAAANpJREFU\n",
       "GNNjYMACOM7/UToaxYAdMAYwMOg7YJfzb2BgWK+ALNJaXp4AYd3fwMDQfwFJyvUenBnIwMAn/oCB\n",
       "4e2dXTdBSvjyEMr+MDC4nwMKTeCoZQcZxbMBLsXyp+NqMZDmfMD5jwskzIrQxvubgeHhAaA+BtYA\n",
       "sIBjGhBA3MIqAJT/DGLxQxy0FaGPH6iH9y/YMxBPMqJ6j+cXAwPzg/sMvEDnMjAh/APynj/QpvUG\n",
       "8Qw7wCLFcLlEBgYuUaD6N3ffajSARd5EPYBIHft/SCfUADUUV4bDwgwCAHpvO2L/i5h0AAAAAElF\n",
       "TkSuQmCC\n",
       "\" style=\"display:inline;vertical-align:middle;\" /></a> <a class=\"ProveItLink\" href=\"../__pv_it/demonstrations/5b93c671edf39e4dfe0b71765497e3fc8bfef6f80/proof.ipynb\" style=\"text-decoration: none\">&nbsp;&#x22A2;&nbsp;&nbsp;</a><a class=\"ProveItLink\" href=\"../__pv_it/theorems/89c58886785a6f188ade8c2a1dcacf7288396a140/expr.ipynb\"><img src=\"data:image/png;base64,iVBORw0KGgoAAAANSUhEUgAAADUAAAAPBAMAAAC2KZqIAAAAMFBMVEX///8QEBBmZmaqqqrMzMxE\n",
       "REQyMjIiIiKYmJh2dna6urrc3NxUVFSIiIju7u4AAAA6P00QAAAAAXRSTlMAQObYZgAAAMZJREFU\n",
       "GNNjYMAB3Bhwg3zcUhz5D1D54eVlMPZj/Q3IUiyxSEob7i8Akm/v7Lp5AcR9hiTF9cC+gYGBbwJH\n",
       "LXsCiH8ayYxXDP5A9ZwPOP9xgc0OQJJbwLBfAaiPgRUiyCKWBgRQqw8pnQeL8oNtY+BG0sfFwMAI\n",
       "tsffASIggJAzYGBgB3KZH9xn4AW7UBcuxQ2UY/vAwLDeIJ5hB1iE3QAmtx2IWX8zMLy5+1ajASzC\n",
       "d3QdROrp/zwG5vjvCsgBwzUVEWYgAACVrTGb/6vh/gAAAABJRU5ErkJggg==\n",
       "\" style=\"display:inline;vertical-align:middle;\" /></a></span>"
      ],
      "text/plain": [
       "{B proper_subset A, x in B} |- x in A"
      ]
     },
     "execution_count": 54,
     "metadata": {},
     "output_type": "execute_result"
    }
   ],
   "source": [
    "# our judgment\n",
    "x_in_a_kt"
   ]
  },
  {
   "cell_type": "code",
   "execution_count": 55,
   "metadata": {},
   "outputs": [
    {
     "data": {
      "text/html": [
       "<span style=\"font-size:20px;\"><a class=\"ProveItLink\" href=\"../__pv_it/demonstrations/b276e3cef8640dca33911d2a2a65844f7d8b346a0/expr.ipynb\"><img src=\"data:image/png;base64,iVBORw0KGgoAAAANSUhEUgAAADsAAAAPBAMAAACo4Ko7AAAAMFBMVEX///92dnYyMjKqqqoiIiLu\n",
       "7u7c3NyIiIjMzMwQEBC6urpERERmZmZUVFSYmJgAAADEjrHzAAAAAXRSTlMAQObYZgAAAOpJREFU\n",
       "GNNjYGB4+//O2d0LGDBBE4SazcDA8wOLtD6Y5PjHwMD1B1OWTz8ARLF/AzK/Q0S2uLi4NEClg88n\n",
       "gCjuCQwMka4gFptiApLuB/VgB/FfYODwBZvDgizLFWD/AET333u+xQAschjZ6iiG/gIQXZ/AwDoX\n",
       "LOKALL2AIf8AiN4JUgLSznYBSZbjzpn7G0CMvyBpkDmsG5CtZmDgVIB6m+H+AnTDgcaxTIB6m+M3\n",
       "WEgcIcsGlGb6AGQwAdWs3AoWYzKAS6eAAgSokVf/75nbmyFirHeXQmWj/6syMO//cgA1mDmkkQIV\n",
       "BAA3GTyOwI02cgAAAABJRU5ErkJggg==\n",
       "\" style=\"display:inline;vertical-align:middle;\" /></a> <a class=\"ProveItLink\" href=\"../__pv_it/demonstrations/c9b9adc31fe6b3220f87af74db5309d03b57bfc00/proof.ipynb\" style=\"text-decoration: none\">&nbsp;&#x22A2;&nbsp;&nbsp;</a><a class=\"ProveItLink\" href=\"../__pv_it/demonstrations/577ff6359aecee7823809df54877680f0d1a545a0/expr.ipynb\"><img src=\"data:image/png;base64,iVBORw0KGgoAAAANSUhEUgAAAIsAAAAPBAMAAAAmFiECAAAAMFBMVEX///8QEBBmZmaqqqrMzMxE\n",
       "REQyMjIiIiKYmJh2dna6urrc3NxUVFSIiIju7u4AAAA6P00QAAAAAXRSTlMAQObYZgAAAXtJREFU\n",
       "OMtjYMACOM7/UToaxUAscMMlwRjAwKDvQKwx+bgk/BsYGNYrEGkKR/4DVH54eRmEdX8DA0P/BbhE\n",
       "NKZWuFIGhsf6G5ClWGLhpgYyMPCJI+xwRTcFSSkDQ8P9BUDy7Z1dN8EWP0NI/WFgcD+HZDfUf9iU\n",
       "MnA9sAcGAd8Ejlr2BBD/NMKyPx1Xi8EspnIw+ATmYFPKwPCKwR9oNOcDzn9cYM8FwGV4fzMwPDyA\n",
       "pJQ5GURiU8rAsIBhP9CxfAysEEEWsTQgADNZBYBGfUYOjGdSDNiVMrAcUjoPFuWHRAk3wgp+oEt4\n",
       "/yKZwn0SEhmYShm4gKkM7FF/aDoTQEk2PL/AYZMGAdAoxVTKYMDAwA7kMj+4z8ALDnhduBQo2fgj\n",
       "25gACSEsSrmBxrB9ACZWg3iGHWARdgOYXCJQpyhSnELjF5vS7aCgBMbIm7tvNRog8Xl0HUTq2P9D\n",
       "OqEGSEFzBEJhUfr0fx4Dc/x3lHzDNRWRwlHABgwRdKUAvcp6JA4X/HAAAAAASUVORK5CYII=\n",
       "\" style=\"display:inline;vertical-align:middle;\" /></a></span>"
      ],
      "text/plain": [
       "{B proper_subset A} |- x in B => x in A"
      ]
     },
     "execution_count": 55,
     "metadata": {},
     "output_type": "execute_result"
    }
   ],
   "source": [
    "# one option for the implication\n",
    "x_in_a_kt.as_implication(hypothesis=x_in_b)"
   ]
  },
  {
   "cell_type": "code",
   "execution_count": 56,
   "metadata": {},
   "outputs": [
    {
     "data": {
      "text/html": [
       "<span style=\"font-size:20px;\"><a class=\"ProveItLink\" href=\"../__pv_it/theorems/2b6b67c6dcbdfcb6a177ea6eafd4c81308a6b77e0/expr.ipynb\"><img src=\"data:image/png;base64,iVBORw0KGgoAAAANSUhEUgAAADUAAAAPBAMAAAC2KZqIAAAAMFBMVEX///8QEBBmZmaqqqrMzMxE\n",
       "REQyMjIiIiKYmJh2dna6urrc3NxUVFSIiIju7u4AAAA6P00QAAAAAXRSTlMAQObYZgAAANpJREFU\n",
       "GNNjYMACOM7/UToaxYAdMAYwMOg7YJfzb2BgWK+ALNJaXp4AYd3fwMDQfwFJyvUenBnIwMAn/oCB\n",
       "4e2dXTdBSvjyEMr+MDC4nwMKTeCoZQcZxbMBLsXyp+NqMZDmfMD5jwskzIrQxvubgeHhAaA+BtYA\n",
       "sIBjGhBA3MIqAJT/DGLxQxy0FaGPH6iH9y/YMxBPMqJ6j+cXAwPzg/sMvEDnMjAh/APynj/QpvUG\n",
       "8Qw7wCLFcLlEBgYuUaD6N3ffajSARd5EPYBIHft/SCfUADUUV4bDwgwCAHpvO2L/i5h0AAAAAElF\n",
       "TkSuQmCC\n",
       "\" style=\"display:inline;vertical-align:middle;\" /></a> <a class=\"ProveItLink\" href=\"../__pv_it/demonstrations/34479dfda2b6e4ff2b2130cff7ea85959777463d0/proof.ipynb\" style=\"text-decoration: none\">&nbsp;&#x22A2;&nbsp;&nbsp;</a><a class=\"ProveItLink\" href=\"../__pv_it/demonstrations/6465d63e48b6ed5cbee840b6734bcaf2731a07be0/expr.ipynb\"><img src=\"data:image/png;base64,iVBORw0KGgoAAAANSUhEUgAAAJEAAAAPBAMAAAAWmjAjAAAAMFBMVEX///92dnYyMjKqqqoiIiLu\n",
       "7u7c3NyIiIjMzMwQEBC6urpERERmZmZUVFSYmJgAAADEjrHzAAAAAXRSTlMAQObYZgAAAcZJREFU\n",
       "OMtjYGB4+//O2d0LGDABhwIDsaAJQs1mYOD5gUWa6QPRJulDrP7HwMD1B4v0o6/EGsSnHwCi2L8B\n",
       "md8hQq9dXFw8oNKsNt8Qardh6t7i4gRjB59PAFHcExgYIl3BIkliyErZfyE43RiBuD0AwXlQDw5n\n",
       "/gsMHL4QYTdktUuZ/yEZewBCh9dmFRaAGEFIBnEF2D8A0f33nm8xAIvwGCAZxLqAA+xlHhcwgAQk\n",
       "qwCfOws4Sq8hKY1i6AebXp/AwDoXLMKC7CQuBjbkaGBWBpGMAYxfucBhsgFJbgFDPtjJO0GmgV2T\n",
       "i2xS75mzv5H5QbNAbmLghhjBMUkJCKBBdufMfbDoX5BJYNdFM6BYxDAJict2EewUBv4CCHcDsusZ\n",
       "OBWgyYnh/gJ03zEDsSc4nJQgAGIQQ38DhJ6AUAr0D8sEaHLigPiDsQAhnQxPuRB7ITmHOaCegR0c\n",
       "a8cRrjWAZgcmoHErt0IElRHSDkBifwIilCCRvt5gP0MeJHbg8ZwCSpNA5/Dq/z1zezNUMPYWNJWw\n",
       "7v8UwGD93wdu0g2ogvLwcw8gKm4vhQhF/1dlYN7/5QBaym3cgsgtKCABQ4RLGpFbQAAAitdwQuTq\n",
       "O1MAAAAASUVORK5CYII=\n",
       "\" style=\"display:inline;vertical-align:middle;\" /></a></span>"
      ],
      "text/plain": [
       "{x in B} |- B proper_subset A => x in A"
      ]
     },
     "execution_count": 56,
     "metadata": {},
     "output_type": "execute_result"
    }
   ],
   "source": [
    "# another option for the implication\n",
    "x_in_a_kt.as_implication(hypothesis=ASupersetOfB)"
   ]
  },
  {
   "cell_type": "markdown",
   "metadata": {},
   "source": [
    "<div style=\"width: 90%; border: 5px solid green; padding: 10px; margin: 0px;\"><a id='demo04'></a><font size=4><b>4.</b> $\\forall_{x\\in Y}(x\\in X) \\Rightarrow (X \\supseteq Y)$</font>.</div><br>\n",
    "<font size=3>When we know that $x$ is in $X$ whenever $x$ is in $Y$, we have $X \\supseteq Y$ (<i>i.e.</i>, $X$ contains $Y$ or $X$ is a superset of $Y$). That is a theorem in Prove-It that can be instantiated to prove a containment or superset relationship for two arbitrary sets given the right conditions:</font>\n",
    "\n",
    "The following has been commented out because theorems have changed (implications were change to using conditions) -- this must be updated."
   ]
  },
  {
   "cell_type": "code",
   "execution_count": 57,
   "metadata": {},
   "outputs": [],
   "source": [
    "# # our fold_supset_eq theorem\n",
    "# fold_supset_eq"
   ]
  },
  {
   "cell_type": "code",
   "execution_count": 58,
   "metadata": {},
   "outputs": [],
   "source": [
    "# instantiate the fold_supset_eq theorem\n",
    "# fold_supset_eq_spec = fold_supset_eq.instantiate({A:X, B:Y}, assumptions=fold_supset_eq.conditions)"
   ]
  },
  {
   "cell_type": "code",
   "execution_count": 59,
   "metadata": {},
   "outputs": [],
   "source": [
    "# then we can even generalize back into universal X and Y\n",
    "# fold_supset_eq_spec.generalize([X, Y])"
   ]
  },
  {
   "cell_type": "markdown",
   "metadata": {},
   "source": [
    "<font size=3>Alternatively we can prove the rhs of the implication given the antecedent as an assumption.</font>"
   ]
  },
  {
   "cell_type": "code",
   "execution_count": 60,
   "metadata": {},
   "outputs": [],
   "source": [
    "# peel off our desired conclusion:\n",
    "# XSupersetOfY = fold_supset_eq_spec.rhs"
   ]
  },
  {
   "cell_type": "code",
   "execution_count": 61,
   "metadata": {},
   "outputs": [],
   "source": [
    "# prove our conclusion based on the antecedent\n",
    "# XSupersetOfYKT = XSupersetOfY.prove([Forall(x, InSet(x, X), domain=Y)])"
   ]
  },
  {
   "cell_type": "markdown",
   "metadata": {},
   "source": [
    "<font size=3>And we can take a quick look at the simple proof, which also involves a instantiation of that ``fold_supset_eq`` theorem and an application of *modus ponens:*</font>"
   ]
  },
  {
   "cell_type": "code",
   "execution_count": 62,
   "metadata": {},
   "outputs": [],
   "source": [
    "# XSupersetOfYKT.proof()"
   ]
  },
  {
   "cell_type": "markdown",
   "metadata": {},
   "source": [
    "<div style=\"width: 90%; border: 5px solid green; padding: 10px; margin: 0px;\"><a id='demo05'></a><font size = 4><b>5.</b> Folding and Unfolding the Definitions of $\\not\\subseteq$ and $\\not\\supseteq$</font>.</font></div><br/>\n",
    "<font size=3>$\\not\\subseteq$ is axiomatically defined by $\\forall_{A, B} (A\\not\\subseteq B) = \\neg(A \\subseteq B)$, and we have theorems to automatically fold and unfold the definition, allowing us to express and use the definition in a variety of ways. For example, we can automatically derive the statements that $\\{C\\not\\subseteq D\\} \\vdash \\neg(C\\subseteq D)$, and $\\{\\neg(C\\subseteq D)\\} \\vdash C\\not\\subseteq D$</font>"
   ]
  },
  {
   "cell_type": "code",
   "execution_count": 63,
   "metadata": {},
   "outputs": [
    {
     "data": {
      "text/html": [
       "<span style=\"font-size:20px;\"><a class=\"ProveItLink\" href=\"../__pv_it/demonstrations/a5a9c7f20637329df50b55f28684025d452e87890/expr.ipynb\"><img src=\"data:image/png;base64,iVBORw0KGgoAAAANSUhEUgAAADwAAAAYBAMAAABU74NhAAAAMFBMVEX////MzMy6uroyMjIiIiKq\n",
       "qqoQEBB2dnbc3NyYmJhmZmZUVFRERESIiIju7u4AAACOKgoaAAAAAXRSTlMAQObYZgAAATFJREFU\n",
       "KM9jYEADTAx4AQt+6enoAnx3du3kKIDx7CAU5/4/u8/sALGuTWBgXTYBLDjHxS3FESLPb8DAMD+A\n",
       "geGNH5CzvgEk1FzBwC0ANUX+AgMDVwIDg9kDIEcNbIsFA8NjmCX3geqYfjJwfQVxpEAEN9CsmzDp\n",
       "80DM8Z2h3wHEeQHzkwNM+g8oDH4z1F+Ae6GbgYEV5gPGv0CC9zuDvwBcuoeBgbkByub9CLLtE0M+\n",
       "yGUMD6CG98CU8nwAeS6BwR/EYQUbwT6BYRFMmv8AkJg/AeJjdoiYKR/cZSBv8+UwMPSDnFYHEXuz\n",
       "6wKytx8DA471JwND1AOYHhMXF0ig2gO95QVivDq9SwGmRwvG2Px/1+5TDeiRdxBvXHMY4JNl93dx\n",
       "gdlNRkIKxy99Dr80hk8YACO/Rsz/sWlrAAAAAElFTkSuQmCC\n",
       "\" style=\"display:inline;vertical-align:middle;\" /></a> <a class=\"ProveItLink\" href=\"../__pv_it/demonstrations/82e2ec6d0740d3454627be5e7a9a0e111d81f8690/proof.ipynb\" style=\"text-decoration: none\">&nbsp;&#x22A2;&nbsp;&nbsp;</a><a class=\"ProveItLink\" href=\"../__pv_it/demonstrations/f3c0105eaa19fa68cca1d6818f947c5ebdbe77100/expr.ipynb\"><img src=\"data:image/png;base64,iVBORw0KGgoAAAANSUhEUgAAAFwAAAAUBAMAAADyykdqAAAAMFBMVEX///+6uroQEBCqqqqIiIgy\n",
       "MjJERETu7u6YmJjMzMxUVFTc3Nx2dnYiIiJmZmYAAAAutVgsAAAAAXRSTlMAQObYZgAAAW1JREFU\n",
       "KM9jYIAD7gYG/IB5AzKvDESUZL1q2IOurut/1rIsoNrVyILRQMyiwcBgpwFVdPfu3ZsQ5lcGBo7P\n",
       "DAylSKo5HjAwsOcWMDDw/Qbzt56GS3F+ARKPGBh4HBDKeYG2saoDGYwKcMuggOUnkJBvYGBXQIjt\n",
       "BeL3BiCzHoC4fAYIKbYPQGL/AQaGQISYHzBs/oIY7OAA4EVyJ38CyPQFDAznEGIZQLd9QXB3ISmf\n",
       "D3KzP9D0Voa3QP/fvQPkXgaa+BMtWKHAfwKQWC/AwGCLMEqRgYHpO9gxDOiOyQcRn0DWoCjnBXmJ\n",
       "wRIshBxo30Dh/ANV+WVYiB+AiAWjBnsRyLuyCOVAr3KDxHkKIGJVCwuQgp09FMRqhepngASSfQMD\n",
       "83OYoXNyoYmAFehGWXBkvEE4EGQR+7NVDzESIlf8r1fLXoOZkaiJgABgv4CaxAgA5NBiyEaVAkUf\n",
       "LAFDQSlG9sALUAwkmPk4NjAAAOGFYSMjByPaAAAAAElFTkSuQmCC\n",
       "\" style=\"display:inline;vertical-align:middle;\" /></a></span>"
      ],
      "text/plain": [
       "{C not_subset_eq D} |- [not](C subset_eq D)"
      ]
     },
     "execution_count": 63,
     "metadata": {},
     "output_type": "execute_result"
    }
   ],
   "source": [
    "# unfold the definition to produce a new judgment\n",
    "NotSubsetEq(C, D).unfold([NotSubsetEq(C, D)])"
   ]
  },
  {
   "cell_type": "code",
   "execution_count": 64,
   "metadata": {},
   "outputs": [
    {
     "data": {
      "text/html": [
       "<strong id=\"NotSubsetEqKT\">NotSubsetEqKT:</strong> <span style=\"font-size:20px;\"><a class=\"ProveItLink\" href=\"../__pv_it/demonstrations/f3c0105eaa19fa68cca1d6818f947c5ebdbe77100/expr.ipynb\"><img src=\"data:image/png;base64,iVBORw0KGgoAAAANSUhEUgAAAFwAAAAUBAMAAADyykdqAAAAMFBMVEX///+6uroQEBCqqqqIiIgy\n",
       "MjJERETu7u6YmJjMzMxUVFTc3Nx2dnYiIiJmZmYAAAAutVgsAAAAAXRSTlMAQObYZgAAAW1JREFU\n",
       "KM9jYIAD7gYG/IB5AzKvDESUZL1q2IOurut/1rIsoNrVyILRQMyiwcBgpwFVdPfu3ZsQ5lcGBo7P\n",
       "DAylSKo5HjAwsOcWMDDw/Qbzt56GS3F+ARKPGBh4HBDKeYG2saoDGYwKcMuggOUnkJBvYGBXQIjt\n",
       "BeL3BiCzHoC4fAYIKbYPQGL/AQaGQISYHzBs/oIY7OAA4EVyJ38CyPQFDAznEGIZQLd9QXB3ISmf\n",
       "D3KzP9D0Voa3QP/fvQPkXgaa+BMtWKHAfwKQWC/AwGCLMEqRgYHpO9gxDOiOyQcRn0DWoCjnBXmJ\n",
       "wRIshBxo30Dh/ANV+WVYiB+AiAWjBnsRyLuyCOVAr3KDxHkKIGJVCwuQgp09FMRqhepngASSfQMD\n",
       "83OYoXNyoYmAFehGWXBkvEE4EGQR+7NVDzESIlf8r1fLXoOZkaiJgABgv4CaxAgA5NBiyEaVAkUf\n",
       "LAFDQSlG9sALUAwkmPk4NjAAAOGFYSMjByPaAAAAAElFTkSuQmCC\n",
       "\" style=\"display:inline;vertical-align:middle;\" /></a> <a class=\"ProveItLink\" href=\"../__pv_it/demonstrations/e348d9d4abd819f06e3ef95cee4221191d6205680/proof.ipynb\" style=\"text-decoration: none\">&nbsp;&#x22A2;&nbsp;&nbsp;</a><a class=\"ProveItLink\" href=\"../__pv_it/demonstrations/a5a9c7f20637329df50b55f28684025d452e87890/expr.ipynb\"><img src=\"data:image/png;base64,iVBORw0KGgoAAAANSUhEUgAAADwAAAAYBAMAAABU74NhAAAAMFBMVEX////MzMy6uroyMjIiIiKq\n",
       "qqoQEBB2dnbc3NyYmJhmZmZUVFRERESIiIju7u4AAACOKgoaAAAAAXRSTlMAQObYZgAAATFJREFU\n",
       "KM9jYEADTAx4AQt+6enoAnx3du3kKIDx7CAU5/4/u8/sALGuTWBgXTYBLDjHxS3FESLPb8DAMD+A\n",
       "geGNH5CzvgEk1FzBwC0ANUX+AgMDVwIDg9kDIEcNbIsFA8NjmCX3geqYfjJwfQVxpEAEN9CsmzDp\n",
       "80DM8Z2h3wHEeQHzkwNM+g8oDH4z1F+Ae6GbgYEV5gPGv0CC9zuDvwBcuoeBgbkByub9CLLtE0M+\n",
       "yGUMD6CG98CU8nwAeS6BwR/EYQUbwT6BYRFMmv8AkJg/AeJjdoiYKR/cZSBv8+UwMPSDnFYHEXuz\n",
       "6wKytx8DA471JwND1AOYHhMXF0ig2gO95QVivDq9SwGmRwvG2Px/1+5TDeiRdxBvXHMY4JNl93dx\n",
       "gdlNRkIKxy99Dr80hk8YACO/Rsz/sWlrAAAAAElFTkSuQmCC\n",
       "\" style=\"display:inline;vertical-align:middle;\" /></a></span><br>"
      ],
      "text/plain": [
       "NotSubsetEqKT: {[not](C subset_eq D)} |- C not_subset_eq D"
      ]
     },
     "execution_count": 64,
     "metadata": {},
     "output_type": "execute_result"
    }
   ],
   "source": [
    "# or automatically fold the definition when deriving the alternative judgment\n",
    "NotSubsetEqKT = NotSubsetEq(C, D).prove([Not(SubsetEq(C, D))])"
   ]
  },
  {
   "cell_type": "markdown",
   "metadata": {},
   "source": [
    "<font size=3>In the proof for that second derivation, we see the use of the ``fold_not_subset_eq`` theorem, which we can manually invoke and instantiate to accomplish the same thing:</font>"
   ]
  },
  {
   "cell_type": "code",
   "execution_count": 65,
   "metadata": {},
   "outputs": [
    {
     "data": {
      "text/html": [
       "<span style=\"font-size:20px;\"> <a class=\"ProveItLink\" href=\"proofs/fold_not_subset_eq/thm_proof.ipynb\" style=\"text-decoration: none\">&nbsp;&#x22A2;&nbsp;&nbsp;</a><a class=\"ProveItLink\" href=\"../__pv_it/theorems/0495ab3a949448aee48d7f9226ee710adb8578620/expr.ipynb\"><img src=\"data:image/png;base64,iVBORw0KGgoAAAANSUhEUgAAANEAAAAYBAMAAACW8wWgAAAAMFBMVEX///8QEBCIiIhmZma6urrM\n",
       "zMxUVFQiIiJERETc3Nzu7u6qqqp2dnaYmJgyMjIAAAAcRTyBAAAAAXRSTlMAQObYZgAAA1tJREFU\n",
       "SMe9VUtIVFEY/pyXc+eh7gyKmF1SmIIxUUgOBSFBKC1sEzlggrSosYihF06gcZVipk0NRDniwpCw\n",
       "ASOKgswWqUXcclOUOdEitEWiaTZh9p9z7r0zc2eGqMEO3PP4/3vO9z++/xxgjZoF/6sVr9G5N7Ik\n",
       "7zNWD+hLsMlUgUCOEB+siZRoVgzu40s1bZ2wRYDnaeJ/biURMcyp6zfB9vJTYlpERtQ1OsiGKK2k\n",
       "UIFIk2L4kBTjzXHYGlVVswI0VGOU7IgBrniBSKdFDId/iHEGGNJUVeTutAd9FMiJwcFrBQJJAZET\n",
       "0zc+2sjwSk13gZDLYyjxAcuyfO7PZ+USagGCqZoP+5wrOsEDmm4JOHiUwka/tALdXCb6+oWnbZGs\n",
       "0hthnT2il2W41tuNu9rSrvCg+azzfHkVcI6oKuvSVMVZ5i9RYg8cnJxu4bq7DK4yvj0NyMYxpikC\n",
       "t2X5Ik1fAU9g1pCL48I0aYEvozoZyV1KXZ+foAPMVxM3qV+4bvbDmTQiHeI21ymwdgmBF3gcc/hV\n",
       "dZGP9U013mUtelHdXbLa9JN8owJwKeLimDgpfvPAnDAitbLONVCtC08Au4CZDCTqNvKlS8E2bWcp\n",
       "WWOaF0hSookH1CNz1Z1GbI0ZkXh+D9hDeKjeCYswzaYIxqPnpK9drL84dEKwcrJRXixM0n2EpwLb\n",
       "uaqhskIExW5ksd8cwA6VEfOvWbbupTPiOn1fxfpWiye9nJpDghEY5ue8QxVXvQQ2pSGNybKcsLA7\n",
       "xB03zWFc7HclYKJd9epxjMLcmrBKhObPwaC4jT6SWesoRmZGxlJmgOPTizAP2iWgN57pk9/CvByq\n",
       "HUtit+rECCRK82GN9AE4wr9iuL8qck18Vtux1RavzI4rYcXnZgjmGHp5JdIBDREDkpX5tBPSolZS\n",
       "pXFYiL57M2+jVOvKqvIBfbaftitSD6QkpA2GPPlZgi2UixU4LnOo3hiujKS9QZOGGyWRhTSq034Z\n",
       "Uvi8dT2eLdS0+QxIEZyhFIQQ/a7AOUaV6+qo8XaSQudy6vbgaesIBrU8aQ+YEduZNk9n+Zbct2HC\n",
       "8BLmf9kzTVEf4VxI9pxATiXP6/4o69e3RoGS53SLpogS6WVN2p/v5u/5u0fHnM9ZvW3OtzWSS/gb\n",
       "uO3WhJob99sAAAAASUVORK5CYII=\n",
       "\" style=\"display:inline;vertical-align:middle;\" /></a></span>"
      ],
      "text/plain": [
       "|- forall_{A, B | [not](A subset_eq B)} (A not_subset_eq B)"
      ]
     },
     "execution_count": 65,
     "metadata": {},
     "output_type": "execute_result"
    }
   ],
   "source": [
    "# the theorem\n",
    "fold_not_subset_eq"
   ]
  },
  {
   "cell_type": "code",
   "execution_count": 66,
   "metadata": {},
   "outputs": [
    {
     "data": {
      "text/html": [
       "<strong id=\"fold_not_subset_eq_spec\">fold_not_subset_eq_spec:</strong> <span style=\"font-size:20px;\"><a class=\"ProveItLink\" href=\"../__pv_it/demonstrations/f3c0105eaa19fa68cca1d6818f947c5ebdbe77100/expr.ipynb\"><img src=\"data:image/png;base64,iVBORw0KGgoAAAANSUhEUgAAAFwAAAAUBAMAAADyykdqAAAAMFBMVEX///+6uroQEBCqqqqIiIgy\n",
       "MjJERETu7u6YmJjMzMxUVFTc3Nx2dnYiIiJmZmYAAAAutVgsAAAAAXRSTlMAQObYZgAAAW1JREFU\n",
       "KM9jYIAD7gYG/IB5AzKvDESUZL1q2IOurut/1rIsoNrVyILRQMyiwcBgpwFVdPfu3ZsQ5lcGBo7P\n",
       "DAylSKo5HjAwsOcWMDDw/Qbzt56GS3F+ARKPGBh4HBDKeYG2saoDGYwKcMuggOUnkJBvYGBXQIjt\n",
       "BeL3BiCzHoC4fAYIKbYPQGL/AQaGQISYHzBs/oIY7OAA4EVyJ38CyPQFDAznEGIZQLd9QXB3ISmf\n",
       "D3KzP9D0Voa3QP/fvQPkXgaa+BMtWKHAfwKQWC/AwGCLMEqRgYHpO9gxDOiOyQcRn0DWoCjnBXmJ\n",
       "wRIshBxo30Dh/ANV+WVYiB+AiAWjBnsRyLuyCOVAr3KDxHkKIGJVCwuQgp09FMRqhepngASSfQMD\n",
       "83OYoXNyoYmAFehGWXBkvEE4EGQR+7NVDzESIlf8r1fLXoOZkaiJgABgv4CaxAgA5NBiyEaVAkUf\n",
       "LAFDQSlG9sALUAwkmPk4NjAAAOGFYSMjByPaAAAAAElFTkSuQmCC\n",
       "\" style=\"display:inline;vertical-align:middle;\" /></a> <a class=\"ProveItLink\" href=\"../__pv_it/demonstrations/e348d9d4abd819f06e3ef95cee4221191d6205680/proof.ipynb\" style=\"text-decoration: none\">&nbsp;&#x22A2;&nbsp;&nbsp;</a><a class=\"ProveItLink\" href=\"../__pv_it/demonstrations/a5a9c7f20637329df50b55f28684025d452e87890/expr.ipynb\"><img src=\"data:image/png;base64,iVBORw0KGgoAAAANSUhEUgAAADwAAAAYBAMAAABU74NhAAAAMFBMVEX////MzMy6uroyMjIiIiKq\n",
       "qqoQEBB2dnbc3NyYmJhmZmZUVFRERESIiIju7u4AAACOKgoaAAAAAXRSTlMAQObYZgAAATFJREFU\n",
       "KM9jYEADTAx4AQt+6enoAnx3du3kKIDx7CAU5/4/u8/sALGuTWBgXTYBLDjHxS3FESLPb8DAMD+A\n",
       "geGNH5CzvgEk1FzBwC0ANUX+AgMDVwIDg9kDIEcNbIsFA8NjmCX3geqYfjJwfQVxpEAEN9CsmzDp\n",
       "80DM8Z2h3wHEeQHzkwNM+g8oDH4z1F+Ae6GbgYEV5gPGv0CC9zuDvwBcuoeBgbkByub9CLLtE0M+\n",
       "yGUMD6CG98CU8nwAeS6BwR/EYQUbwT6BYRFMmv8AkJg/AeJjdoiYKR/cZSBv8+UwMPSDnFYHEXuz\n",
       "6wKytx8DA471JwND1AOYHhMXF0ig2gO95QVivDq9SwGmRwvG2Px/1+5TDeiRdxBvXHMY4JNl93dx\n",
       "gdlNRkIKxy99Dr80hk8YACO/Rsz/sWlrAAAAAElFTkSuQmCC\n",
       "\" style=\"display:inline;vertical-align:middle;\" /></a></span><br>"
      ],
      "text/plain": [
       "fold_not_subset_eq_spec: {[not](C subset_eq D)} |- C not_subset_eq D"
      ]
     },
     "execution_count": 66,
     "metadata": {},
     "output_type": "execute_result"
    }
   ],
   "source": [
    "# instantiation\n",
    "fold_not_subset_eq_spec = fold_not_subset_eq.instantiate({A:C, B:D}, assumptions=[Not(SubsetEq(C, D))])"
   ]
  },
  {
   "cell_type": "markdown",
   "metadata": {},
   "source": [
    "<font size=3>We can look at the proof resulting from the earlier automated ``prove()`` approach and see the same steps reflected in the automation:</font>"
   ]
  },
  {
   "cell_type": "code",
   "execution_count": 67,
   "metadata": {},
   "outputs": [
    {
     "data": {
      "text/html": [
       "<table><tr><th>&nbsp;</th><th>step type</th><th>requirements</th><th>statement</th></tr>\n",
       "<tr><td><a name=\"0x486a2c792054e566_step0\">0</a></td><td>instantiation</td><td><a href=\"#0x486a2c792054e566_step1\">1</a>, <a href=\"#0x486a2c792054e566_step2\">2</a></td><td><span style=\"font-size:20px;\"><a class=\"ProveItLink\" href=\"../__pv_it/demonstrations/f3c0105eaa19fa68cca1d6818f947c5ebdbe77100/expr.ipynb\"><img src=\"data:image/png;base64,iVBORw0KGgoAAAANSUhEUgAAAFwAAAAUBAMAAADyykdqAAAAMFBMVEX///+6uroQEBCqqqqIiIgy\n",
       "MjJERETu7u6YmJjMzMxUVFTc3Nx2dnYiIiJmZmYAAAAutVgsAAAAAXRSTlMAQObYZgAAAW1JREFU\n",
       "KM9jYIAD7gYG/IB5AzKvDESUZL1q2IOurut/1rIsoNrVyILRQMyiwcBgpwFVdPfu3ZsQ5lcGBo7P\n",
       "DAylSKo5HjAwsOcWMDDw/Qbzt56GS3F+ARKPGBh4HBDKeYG2saoDGYwKcMuggOUnkJBvYGBXQIjt\n",
       "BeL3BiCzHoC4fAYIKbYPQGL/AQaGQISYHzBs/oIY7OAA4EVyJ38CyPQFDAznEGIZQLd9QXB3ISmf\n",
       "D3KzP9D0Voa3QP/fvQPkXgaa+BMtWKHAfwKQWC/AwGCLMEqRgYHpO9gxDOiOyQcRn0DWoCjnBXmJ\n",
       "wRIshBxo30Dh/ANV+WVYiB+AiAWjBnsRyLuyCOVAr3KDxHkKIGJVCwuQgp09FMRqhepngASSfQMD\n",
       "83OYoXNyoYmAFehGWXBkvEE4EGQR+7NVDzESIlf8r1fLXoOZkaiJgABgv4CaxAgA5NBiyEaVAkUf\n",
       "LAFDQSlG9sALUAwkmPk4NjAAAOGFYSMjByPaAAAAAElFTkSuQmCC\n",
       "\" style=\"display:inline;vertical-align:middle;\" /></a> <a class=\"ProveItLink\" href=\"../__pv_it/demonstrations/e348d9d4abd819f06e3ef95cee4221191d6205680/proof.ipynb\" style=\"text-decoration: none\">&nbsp;&#x22A2;&nbsp;&nbsp;</a><a class=\"ProveItLink\" href=\"../__pv_it/demonstrations/a5a9c7f20637329df50b55f28684025d452e87890/expr.ipynb\"><img src=\"data:image/png;base64,iVBORw0KGgoAAAANSUhEUgAAADwAAAAYBAMAAABU74NhAAAAMFBMVEX////MzMy6uroyMjIiIiKq\n",
       "qqoQEBB2dnbc3NyYmJhmZmZUVFRERESIiIju7u4AAACOKgoaAAAAAXRSTlMAQObYZgAAATFJREFU\n",
       "KM9jYEADTAx4AQt+6enoAnx3du3kKIDx7CAU5/4/u8/sALGuTWBgXTYBLDjHxS3FESLPb8DAMD+A\n",
       "geGNH5CzvgEk1FzBwC0ANUX+AgMDVwIDg9kDIEcNbIsFA8NjmCX3geqYfjJwfQVxpEAEN9CsmzDp\n",
       "80DM8Z2h3wHEeQHzkwNM+g8oDH4z1F+Ae6GbgYEV5gPGv0CC9zuDvwBcuoeBgbkByub9CLLtE0M+\n",
       "yGUMD6CG98CU8nwAeS6BwR/EYQUbwT6BYRFMmv8AkJg/AeJjdoiYKR/cZSBv8+UwMPSDnFYHEXuz\n",
       "6wKytx8DA471JwND1AOYHhMXF0ig2gO95QVivDq9SwGmRwvG2Px/1+5TDeiRdxBvXHMY4JNl93dx\n",
       "gdlNRkIKxy99Dr80hk8YACO/Rsz/sWlrAAAAAElFTkSuQmCC\n",
       "\" style=\"display:inline;vertical-align:middle;\" /></a></span></td></tr>\n",
       "<tr><td>&nbsp;</td><td colspan=4 style=\"text-align:left\"><span style=\"font-size:20px;\"><a class=\"ProveItLink\" href=\"../../../../__pv_it/common/09585084922504426caf1db2ff588a23a0932a960/expr.ipynb\"><img src=\"data:image/png;base64,iVBORw0KGgoAAAANSUhEUgAAAA8AAAAOBAMAAAACpFvcAAAALVBMVEX///8iIiIQEBBERERUVFS6\n",
       "urqIiIjc3NxmZmaqqqru7u6YmJgyMjLMzMwAAACK9jtgAAAAAXRSTlMAQObYZgAAAFtJREFUCNdj\n",
       "YACBOwxQcA5Kc59bAGGs7CuAMDbkBYBp1gXzNoAZSxnuJYAZAQx1DSCa16PDzwCshIGB6QCIMYGB\n",
       "gVEBSLMDGTwPgIxCIGZ+zsCw+N0pBk67hw0AfpEVEQi8t+wAAAAASUVORK5CYII=\n",
       "\" style=\"display:inline;vertical-align:middle;\" /></a> : <a class=\"ProveItLink\" href=\"../../../../__pv_it/common/9fba9f29e823606ff4fdf2f1c6d5d08d906e850a0/expr.ipynb\"><img src=\"data:image/png;base64,iVBORw0KGgoAAAANSUhEUgAAAA8AAAAOBAMAAAACpFvcAAAAMFBMVEX////MzMy6uroyMjIiIiKq\n",
       "qqoQEBB2dnbc3NyYmJhmZmZUVFRERESIiIju7u4AAACOKgoaAAAAAXRSTlMAQObYZgAAAGRJREFU\n",
       "CNdjYGDgu7NrJ0cBAwPDtQkMrMsmMDC88QNy1jcwMJg9ADLUGBi4vgJpBikGhn4HEOMFA0P9BQYI\n",
       "8BeAMvJBahmAhD+IZhWAmMDADsT9IMV1INGfDAxRYHWvTu9SAFIARRcYB3lKsPwAAAAASUVORK5C\n",
       "YII=\n",
       "\" style=\"display:inline;vertical-align:middle;\" /></a>, <a class=\"ProveItLink\" href=\"../../../../__pv_it/common/a9162d1c3cc0470c02e5daf414500903a7a419230/expr.ipynb\"><img src=\"data:image/png;base64,iVBORw0KGgoAAAANSUhEUgAAABAAAAAOBAMAAADUAYG5AAAALVBMVEX///8yMjKqqqoiIiLu7u7c\n",
       "3NyIiIjMzMwQEBC6urpERERmZmZUVFSYmJgAAACsPVCVAAAAAXRSTlMAQObYZgAAAGxJREFUCNdj\n",
       "YGC48+70nlUTGICgi4GB+zmQZn/LwMD5Gshge8rAwPsMyOBqYGDwMAEy+A4wsNs4ABl1Z68tVgBp\n",
       "ygtgYOkBMVaAOCChNyBGAsQYhnMTIMawvwJyGIHGzFjCwMAj92b3qUUMDAAXABxvZ4rl5AAAAABJ\n",
       "RU5ErkJggg==\n",
       "\" style=\"display:inline;vertical-align:middle;\" /></a> : <a class=\"ProveItLink\" href=\"../../../../__pv_it/common/8d36d28f3636cdaa66f8b7d56eb3bbf0b50f70200/expr.ipynb\"><img src=\"data:image/png;base64,iVBORw0KGgoAAAANSUhEUgAAABEAAAAOBAMAAAA7w+qHAAAAMFBMVEX///8iIiLu7u52dna6uroQ\n",
       "EBBmZmaIiIjMzMyqqqoyMjLc3NxERERUVFSYmJgAAAAdjRNVAAAAAXRSTlMAQObYZgAAAGlJREFU\n",
       "CNdjYGB4+//snbMbGEDgFwMD308Qg+M7kEgFsdh/AAn/B0CC5wOQ2G8AJPgPgMQuAIn+AiBRDxKr\n",
       "bwAS9x2AxHmQtq8g4g8Q8/2DGad6AGoc0yqQJBfQOMcEIIN3/d/cO9lABgDT4B6ufsfOGgAAAABJ\n",
       "RU5ErkJggg==\n",
       "\" style=\"display:inline;vertical-align:middle;\" /></a></span></td></tr><tr><td><a name=\"0x486a2c792054e566_step1\">1</a></td><td>theorem</td><td></td><td><span style=\"font-size:20px;\"> <a class=\"ProveItLink\" href=\"proofs/fold_not_subset_eq/thm_proof.ipynb\" style=\"text-decoration: none\">&nbsp;&#x22A2;&nbsp;&nbsp;</a><a class=\"ProveItLink\" href=\"../__pv_it/theorems/0495ab3a949448aee48d7f9226ee710adb8578620/expr.ipynb\"><img src=\"data:image/png;base64,iVBORw0KGgoAAAANSUhEUgAAANEAAAAYBAMAAACW8wWgAAAAMFBMVEX///8QEBCIiIhmZma6urrM\n",
       "zMxUVFQiIiJERETc3Nzu7u6qqqp2dnaYmJgyMjIAAAAcRTyBAAAAAXRSTlMAQObYZgAAA1tJREFU\n",
       "SMe9VUtIVFEY/pyXc+eh7gyKmF1SmIIxUUgOBSFBKC1sEzlggrSosYihF06gcZVipk0NRDniwpCw\n",
       "ASOKgswWqUXcclOUOdEitEWiaTZh9p9z7r0zc2eGqMEO3PP4/3vO9z++/xxgjZoF/6sVr9G5N7Ik\n",
       "7zNWD+hLsMlUgUCOEB+siZRoVgzu40s1bZ2wRYDnaeJ/biURMcyp6zfB9vJTYlpERtQ1OsiGKK2k\n",
       "UIFIk2L4kBTjzXHYGlVVswI0VGOU7IgBrniBSKdFDId/iHEGGNJUVeTutAd9FMiJwcFrBQJJAZET\n",
       "0zc+2sjwSk13gZDLYyjxAcuyfO7PZ+USagGCqZoP+5wrOsEDmm4JOHiUwka/tALdXCb6+oWnbZGs\n",
       "0hthnT2il2W41tuNu9rSrvCg+azzfHkVcI6oKuvSVMVZ5i9RYg8cnJxu4bq7DK4yvj0NyMYxpikC\n",
       "t2X5Ik1fAU9g1pCL48I0aYEvozoZyV1KXZ+foAPMVxM3qV+4bvbDmTQiHeI21ymwdgmBF3gcc/hV\n",
       "dZGP9U013mUtelHdXbLa9JN8owJwKeLimDgpfvPAnDAitbLONVCtC08Au4CZDCTqNvKlS8E2bWcp\n",
       "WWOaF0hSookH1CNz1Z1GbI0ZkXh+D9hDeKjeCYswzaYIxqPnpK9drL84dEKwcrJRXixM0n2EpwLb\n",
       "uaqhskIExW5ksd8cwA6VEfOvWbbupTPiOn1fxfpWiye9nJpDghEY5ue8QxVXvQQ2pSGNybKcsLA7\n",
       "xB03zWFc7HclYKJd9epxjMLcmrBKhObPwaC4jT6SWesoRmZGxlJmgOPTizAP2iWgN57pk9/CvByq\n",
       "HUtit+rECCRK82GN9AE4wr9iuL8qck18Vtux1RavzI4rYcXnZgjmGHp5JdIBDREDkpX5tBPSolZS\n",
       "pXFYiL57M2+jVOvKqvIBfbaftitSD6QkpA2GPPlZgi2UixU4LnOo3hiujKS9QZOGGyWRhTSq034Z\n",
       "Uvi8dT2eLdS0+QxIEZyhFIQQ/a7AOUaV6+qo8XaSQudy6vbgaesIBrU8aQ+YEduZNk9n+Zbct2HC\n",
       "8BLmf9kzTVEf4VxI9pxATiXP6/4o69e3RoGS53SLpogS6WVN2p/v5u/5u0fHnM9ZvW3OtzWSS/gb\n",
       "uO3WhJob99sAAAAASUVORK5CYII=\n",
       "\" style=\"display:inline;vertical-align:middle;\" /></a></span></td></tr>\n",
       "<tr><td>&nbsp;</td><td colspan=4 style-\"text-align:left\"><a class=\"ProveItLink\" href=\"proofs/fold_not_subset_eq/thm_proof.ipynb\">proveit.logic.sets.inclusion.fold_not_subset_eq</a></td></tr><tr><td><a name=\"0x486a2c792054e566_step2\">2</a></td><td>assumption</td><td></td><td><span style=\"font-size:20px;\"><a class=\"ProveItLink\" href=\"../__pv_it/demonstrations/f3c0105eaa19fa68cca1d6818f947c5ebdbe77100/expr.ipynb\"><img src=\"data:image/png;base64,iVBORw0KGgoAAAANSUhEUgAAAFwAAAAUBAMAAADyykdqAAAAMFBMVEX///+6uroQEBCqqqqIiIgy\n",
       "MjJERETu7u6YmJjMzMxUVFTc3Nx2dnYiIiJmZmYAAAAutVgsAAAAAXRSTlMAQObYZgAAAW1JREFU\n",
       "KM9jYIAD7gYG/IB5AzKvDESUZL1q2IOurut/1rIsoNrVyILRQMyiwcBgpwFVdPfu3ZsQ5lcGBo7P\n",
       "DAylSKo5HjAwsOcWMDDw/Qbzt56GS3F+ARKPGBh4HBDKeYG2saoDGYwKcMuggOUnkJBvYGBXQIjt\n",
       "BeL3BiCzHoC4fAYIKbYPQGL/AQaGQISYHzBs/oIY7OAA4EVyJ38CyPQFDAznEGIZQLd9QXB3ISmf\n",
       "D3KzP9D0Voa3QP/fvQPkXgaa+BMtWKHAfwKQWC/AwGCLMEqRgYHpO9gxDOiOyQcRn0DWoCjnBXmJ\n",
       "wRIshBxo30Dh/ANV+WVYiB+AiAWjBnsRyLuyCOVAr3KDxHkKIGJVCwuQgp09FMRqhepngASSfQMD\n",
       "83OYoXNyoYmAFehGWXBkvEE4EGQR+7NVDzESIlf8r1fLXoOZkaiJgABgv4CaxAgA5NBiyEaVAkUf\n",
       "LAFDQSlG9sALUAwkmPk4NjAAAOGFYSMjByPaAAAAAElFTkSuQmCC\n",
       "\" style=\"display:inline;vertical-align:middle;\" /></a> <a class=\"ProveItLink\" href=\"../__pv_it/demonstrations/748e86c9f75e5dff8385cd8774c90b0656c2f5fa0/proof.ipynb\" style=\"text-decoration: none\">&nbsp;&#x22A2;&nbsp;&nbsp;</a><a class=\"ProveItLink\" href=\"../__pv_it/demonstrations/f3c0105eaa19fa68cca1d6818f947c5ebdbe77100/expr.ipynb\"><img src=\"data:image/png;base64,iVBORw0KGgoAAAANSUhEUgAAAFwAAAAUBAMAAADyykdqAAAAMFBMVEX///+6uroQEBCqqqqIiIgy\n",
       "MjJERETu7u6YmJjMzMxUVFTc3Nx2dnYiIiJmZmYAAAAutVgsAAAAAXRSTlMAQObYZgAAAW1JREFU\n",
       "KM9jYIAD7gYG/IB5AzKvDESUZL1q2IOurut/1rIsoNrVyILRQMyiwcBgpwFVdPfu3ZsQ5lcGBo7P\n",
       "DAylSKo5HjAwsOcWMDDw/Qbzt56GS3F+ARKPGBh4HBDKeYG2saoDGYwKcMuggOUnkJBvYGBXQIjt\n",
       "BeL3BiCzHoC4fAYIKbYPQGL/AQaGQISYHzBs/oIY7OAA4EVyJ38CyPQFDAznEGIZQLd9QXB3ISmf\n",
       "D3KzP9D0Voa3QP/fvQPkXgaa+BMtWKHAfwKQWC/AwGCLMEqRgYHpO9gxDOiOyQcRn0DWoCjnBXmJ\n",
       "wRIshBxo30Dh/ANV+WVYiB+AiAWjBnsRyLuyCOVAr3KDxHkKIGJVCwuQgp09FMRqhepngASSfQMD\n",
       "83OYoXNyoYmAFehGWXBkvEE4EGQR+7NVDzESIlf8r1fLXoOZkaiJgABgv4CaxAgA5NBiyEaVAkUf\n",
       "LAFDQSlG9sALUAwkmPk4NjAAAOGFYSMjByPaAAAAAElFTkSuQmCC\n",
       "\" style=\"display:inline;vertical-align:middle;\" /></a></span></td></tr>\n",
       "</table>"
      ],
      "text/plain": [
       "\tstep type\trequirements\tstatement\n",
       "0\tinstantiation\t1, 2\t{[not](C subset_eq D)} |- C not_subset_eq D\n",
       "\tA : C, B : D\n",
       "1\ttheorem\t\t|- forall_{A, B | [not](A subset_eq B)} (A not_subset_eq B)\n",
       "\tproveit.logic.sets.inclusion.fold_not_subset_eq\n",
       "2\tassumption\t\t{[not](C subset_eq D)} |- [not](C subset_eq D)"
      ]
     },
     "execution_count": 67,
     "metadata": {},
     "output_type": "execute_result"
    }
   ],
   "source": [
    "NotSubsetEqKT.proof()"
   ]
  },
  {
   "cell_type": "markdown",
   "metadata": {},
   "source": [
    "<font size=3>And of course we have similar fold and unfold theorems for the negated superset or negated containment relation $\\not\\supseteq$. For example:</font>"
   ]
  },
  {
   "cell_type": "code",
   "execution_count": 68,
   "metadata": {},
   "outputs": [
    {
     "data": {
      "text/html": [
       "<span style=\"font-size:20px;\"><a class=\"ProveItLink\" href=\"../__pv_it/demonstrations/bdeaa099ffe1a68c6532a2651a7b7adf854002330/expr.ipynb\"><img src=\"data:image/png;base64,iVBORw0KGgoAAAANSUhEUgAAADwAAAAYBAMAAABU74NhAAAAMFBMVEX////MzMy6uroyMjIiIiKq\n",
       "qqoQEBB2dnbc3NyYmJhmZmZUVFRERESIiIju7u4AAACOKgoaAAAAAXRSTlMAQObYZgAAAS9JREFU\n",
       "KM9jYEADvAx4wWP80jfRBfju7NrJUQDjGUAozv1/dp/ZAWJdm8DAumwCyFwXFxerBVBl/EB18wMY\n",
       "GN74ATnrG2BWG0EZ8hcYGLgSGBjMHgA5ajCzu3kEIIz7QJrpJwPXVxBHCiZdxHcAwjgPxBzfGfod\n",
       "QJwXCJftgDD+ADHTb4b6C8i+4LzAcBXMYPwLCqLvDP4CyNLMDxiWQgLvI5Dg/sSQD3IZwwOotDQD\n",
       "gweYwfMB5LkEBn8QhxVmxEYGVojT+EHU/AkQH7PDAtCAQeQB3Nt8OQwM/SCn1UGl2edJnUB4+zEw\n",
       "4Fh/MjBEQXQ8dvH3KYUqtAd6ywvEeHV6lwLM4eEwxub/u3afakCPPAu8cc14AG9C8QfGqMsGnPIs\n",
       "+BPSXPzSdvilMXzCAADOTEwVSzq29gAAAABJRU5ErkJggg==\n",
       "\" style=\"display:inline;vertical-align:middle;\" /></a> <a class=\"ProveItLink\" href=\"../__pv_it/demonstrations/a8e82f73ea1b732edba66eb4d64c208c5ab682280/proof.ipynb\" style=\"text-decoration: none\">&nbsp;&#x22A2;&nbsp;&nbsp;</a><a class=\"ProveItLink\" href=\"../__pv_it/demonstrations/3dc0dedadf45acb6981ddcf1dd35a0cf422c104f0/expr.ipynb\"><img src=\"data:image/png;base64,iVBORw0KGgoAAAANSUhEUgAAAFwAAAAUBAMAAADyykdqAAAAMFBMVEX///+6uroQEBCqqqqIiIgy\n",
       "MjJERETu7u6YmJjMzMxUVFTc3Nx2dnYiIiJmZmYAAAAutVgsAAAAAXRSTlMAQObYZgAAAXdJREFU\n",
       "KM9jYIAD7gYG/IB5AzKvDESUZL1q2IOurut/1rIsoNrVyILRQMyiwcBgpwHild69ezcFJvWVgYHj\n",
       "M1AMSTXHAwYG9twCBga+3zChikAIzfkFSDxiYOBxQCjnBdrGqg5kMCrAxUohrmX5CSTkGxjYETIM\n",
       "e4H4vQHIrAdwMc4AMMX2AUjsP8DAEIhQ7gcMm78gBvsGVP8wMPAngExfwMBwDiGTAXTbF/QwOQwm\n",
       "54Pc7A80vZXhLTAE7t4Bci8Dnf8TXflDMOk/AUisF2BgsIWI7gJiRQYGpu9gxyAph7g9H0R8AlmD\n",
       "opwX5CUGS6R4XACmvoHC+Qeq8suwED+AUD63AB7sRSDvyiKUA73KDRLnKYApZpfLhgc7eyiI1QoN\n",
       "XwZIINk3MDA/h8bQ3bvXIOHCwAp0oyw4Mt4gLAZZxP5s1UOMhMgV/+vVstdgZiRqIiAA2C+gJjEC\n",
       "ADmJMWSjSIES8N27C1DFMLIHXoBiIMHMx7GBAQBXy2I+sBI4ggAAAABJRU5ErkJggg==\n",
       "\" style=\"display:inline;vertical-align:middle;\" /></a></span>"
      ],
      "text/plain": [
       "{C not_superset_eq D} |- [not](C superset_eq D)"
      ]
     },
     "execution_count": 68,
     "metadata": {},
     "output_type": "execute_result"
    }
   ],
   "source": [
    "# unfold the definition to produce a new judgment\n",
    "not_superset_eq(C, D).unfold([not_superset_eq(C, D)])"
   ]
  },
  {
   "cell_type": "code",
   "execution_count": 69,
   "metadata": {},
   "outputs": [
    {
     "data": {
      "text/html": [
       "<strong id=\"NotSupersetEqKT\">NotSupersetEqKT:</strong> <span style=\"font-size:20px;\"><a class=\"ProveItLink\" href=\"../__pv_it/demonstrations/d70573279b6c999d87fa51e63a27c1143c41ad1f0/expr.ipynb\"><img src=\"data:image/png;base64,iVBORw0KGgoAAAANSUhEUgAAAFwAAAAUBAMAAADyykdqAAAAMFBMVEX///+6uroQEBCqqqqIiIgy\n",
       "MjJERETu7u6YmJjMzMxUVFTc3Nx2dnYiIiJmZmYAAAAutVgsAAAAAXRSTlMAQObYZgAAAXFJREFU\n",
       "KM9jYIAD7gYG/IB5AzKvDIi7/mcty9qAqbIk61XDHobVyELRIOIrAwPHZwifY+3du3cngJksGgwM\n",
       "dhoMpUiqOR4ACc4vQOIRxG0xcFvYcwsYGPh+M/A4IJTzgmRZfgIJebAnWBFuYlUHEowKDOwKCOV7\n",
       "QQTbByCx/wCI+Rgh9d4AZDHQ9kCEmB+I4E8Amb4AxLyACLK/YBcBbTuHUJ4BIuaDXOcPMp17AVyG\n",
       "5wuM1crwFuj9u3eAzMsgvj8oJNYLgAxLQPjqJ4xlC6F2AbEiiJEPIj4xoDqG6TvYMSDL0ZR/A4Xo\n",
       "D7DYEYTpIP8zWKIqvwwL9iKIM1gNYMqBIQ4EIA/JIpRnQIOdPRQaN6vEYSEDMoSnAOxVMOBkgAQS\n",
       "K9Ba2QdQVZzHYInAvoGB+TmI8QYRkECLuOJ/vVr2GjOBsT9b9RDMiERLBPgB+wW0JIYfICcxhmxU\n",
       "ubOg+IMmYCgoRc8e+AGKgQQzH8cGBgDH1WNsW6bUCQAAAABJRU5ErkJggg==\n",
       "\" style=\"display:inline;vertical-align:middle;\" /></a> <a class=\"ProveItLink\" href=\"../__pv_it/demonstrations/3df47b5c8622df1311a43007f2ec6f2bfa05a8ad0/proof.ipynb\" style=\"text-decoration: none\">&nbsp;&#x22A2;&nbsp;&nbsp;</a><a class=\"ProveItLink\" href=\"../__pv_it/demonstrations/bdeaa099ffe1a68c6532a2651a7b7adf854002330/expr.ipynb\"><img src=\"data:image/png;base64,iVBORw0KGgoAAAANSUhEUgAAADwAAAAYBAMAAABU74NhAAAAMFBMVEX////MzMy6uroyMjIiIiKq\n",
       "qqoQEBB2dnbc3NyYmJhmZmZUVFRERESIiIju7u4AAACOKgoaAAAAAXRSTlMAQObYZgAAAS9JREFU\n",
       "KM9jYEADvAx4wWP80jfRBfju7NrJUQDjGUAozv1/dp/ZAWJdm8DAumwCyFwXFxerBVBl/EB18wMY\n",
       "GN74ATnrG2BWG0EZ8hcYGLgSGBjMHgA5ajCzu3kEIIz7QJrpJwPXVxBHCiZdxHcAwjgPxBzfGfod\n",
       "QJwXCJftgDD+ADHTb4b6C8i+4LzAcBXMYPwLCqLvDP4CyNLMDxiWQgLvI5Dg/sSQD3IZwwOotDQD\n",
       "gweYwfMB5LkEBn8QhxVmxEYGVojT+EHU/AkQH7PDAtCAQeQB3Nt8OQwM/SCn1UGl2edJnUB4+zEw\n",
       "4Fh/MjBEQXQ8dvH3KYUqtAd6ywvEeHV6lwLM4eEwxub/u3afakCPPAu8cc14AG9C8QfGqMsGnPIs\n",
       "+BPSXPzSdvilMXzCAADOTEwVSzq29gAAAABJRU5ErkJggg==\n",
       "\" style=\"display:inline;vertical-align:middle;\" /></a></span><br>"
      ],
      "text/plain": [
       "NotSupersetEqKT: {[not](D subset_eq C)} |- C not_superset_eq D"
      ]
     },
     "execution_count": 69,
     "metadata": {},
     "output_type": "execute_result"
    }
   ],
   "source": [
    "# or automatically fold the definition when deriving the alternative judgment\n",
    "NotSupersetEqKT = not_superset_eq(C, D).prove([Not(superset_eq(C, D))])"
   ]
  },
  {
   "cell_type": "markdown",
   "metadata": {},
   "source": [
    "<div style=\"width: 90%; border: 5px solid green; padding: 10px; margin: 0px;\"><a id='demo06'></a><font size=4><b>6.</b> Containment Reversals (such as $A \\subset B \\Rightarrow B \\supset A$).</font></div><br/>\n",
    "<font size=3>Reversals are actually simply style variants so it is easy to go back and forth between these.\n",
    "</font>"
   ]
  },
  {
   "cell_type": "markdown",
   "metadata": {},
   "source": [
    "<font size=3>We have a theorem, ``int_within_real``, that the integer numbers are a proper subset of the real numbers: $\\mathbb{Z} \\subset \\mathbb{R}$:\n",
    "</font>"
   ]
  },
  {
   "cell_type": "code",
   "execution_count": 70,
   "metadata": {},
   "outputs": [
    {
     "data": {
      "text/html": [
       "<span style=\"font-size:20px;\"> <a class=\"ProveItLink\" href=\"../../../../numbers/number_sets/real_numbers/_theory_nbs_/proofs/int_within_real/thm_proof.ipynb\" style=\"text-decoration: none\">&nbsp;&#x22A2;&nbsp;&nbsp;</a><a class=\"ProveItLink\" href=\"../../../../numbers/number_sets/real_numbers/__pv_it/theorems/5f0a56cd0b5cd6f4c0c9f0735f113b65b5c6444a0/expr.ipynb\"><img src=\"data:image/png;base64,iVBORw0KGgoAAAANSUhEUgAAADkAAAAPBAMAAACsFXoGAAAAMFBMVEX///9UVFTc3Nzu7u6qqqp2\n",
       "dnbMzMxmZmZERESIiIiYmJgyMjIQEBAiIiK6uroAAABqpg13AAAAAXRSTlMAQObYZgAAAOlJREFU\n",
       "GNNj4LvzZ/fZPQsYUMDaE/27T4DEONsTGDZwMKCBDYYMGSsMGBjYAxhYHeLQZRtUGTiYBICyBgyK\n",
       "bAUQMa7eu3fvJkBl2RU2gAWbOQzANNNWBSS97AoNYB0TVkGEeBWQTWbkEwCxLJgbIEIlKPb6VoNN\n",
       "FGOE6rmAJKtz97YDiMFX8BQiwiSArPc5xDHcDECDg4EMmAUQWfZnYG4I6wMGhgPoJqsyNK8Em6cI\n",
       "9DRYNhJFNpEd6HMOg2YGZimwKdwOyCHJ6iDGwPCm+0TH+RPgwGIWfIyIhW0MHfsdUEKXLQIWklAA\n",
       "AIXKPhbaD7N+AAAAAElFTkSuQmCC\n",
       "\" style=\"display:inline;vertical-align:middle;\" /></a></span>"
      ],
      "text/plain": [
       "|- Integer proper_subset Real"
      ]
     },
     "execution_count": 70,
     "metadata": {},
     "output_type": "execute_result"
    }
   ],
   "source": [
    "int_within_real"
   ]
  },
  {
   "cell_type": "markdown",
   "metadata": {},
   "source": [
    "<font size=3>We can create the equivalent superset expression, $\\mathbb{R} \\supset \\mathbb{Z}$, and its proof is the same as that of $\\mathbb{Z} \\supset \\mathbb{R}$ because Prove-It regards these as the same expression but presented with a different <em>style</em>.\n",
    "</font>"
   ]
  },
  {
   "cell_type": "code",
   "execution_count": 71,
   "metadata": {},
   "outputs": [
    {
     "data": {
      "text/html": [
       "<strong id=\"reals_contain_integer_kt\">reals_contain_integer_kt:</strong> <span style=\"font-size:20px;\"> <a class=\"ProveItLink\" href=\"../../../../numbers/number_sets/real_numbers/_theory_nbs_/proofs/int_within_real/thm_proof.ipynb\" style=\"text-decoration: none\">&nbsp;&#x22A2;&nbsp;&nbsp;</a><a class=\"ProveItLink\" href=\"../__pv_it/demonstrations/3cd2c5ed14f4f4aa99f7ffd80c383369f0da7a590/expr.ipynb\"><img src=\"data:image/png;base64,iVBORw0KGgoAAAANSUhEUgAAADkAAAAPBAMAAACsFXoGAAAAMFBMVEX///+IiIiqqqq6urpmZmZ2\n",
       "dnbc3NzMzMxUVFTu7u4yMjJEREQQEBAiIiKYmJgAAACIyPRpAAAAAXRSTlMAQObYZgAAAOhJREFU\n",
       "GNNjeHt6/6rTDxjQgO35U2tunQMyFsxgqH49AU1W2p2Bi2EDkLEhlYGbrQFN1pWBIYjVACLLkrAA\n",
       "JFR79+7dfRBZTwa2hhIGmOwGmKbUZVAG94SdUFkOZoTJuVD6Id8DqKyuF8JVTA5ginPDbDC9Iefu\n",
       "LQUkB10AkxwFbRDZVBNuZA9BRE2YA6CyLOYbkGTBjmFYwM3AwDoBbO/Oh+gmsyoEMzDwQFxVwVIA\n",
       "l2QEm5gBCh8fSEiyKrTDZbUgxgOdMuM1AwMwFpYz7F4PdTWnRSeIYj69ZveeP1tQAhcYkrfDUUQA\n",
       "TdtIkvMa5fkAAAAASUVORK5CYII=\n",
       "\" style=\"display:inline;vertical-align:middle;\" /></a></span><br>"
      ],
      "text/plain": [
       "reals_contain_integer_kt: |- Real proper_superset Integer"
      ]
     },
     "execution_count": 71,
     "metadata": {},
     "output_type": "execute_result"
    }
   ],
   "source": [
    "reals_contain_integer_kt = proper_superset(Real, Integer).prove()"
   ]
  },
  {
   "cell_type": "code",
   "execution_count": 72,
   "metadata": {},
   "outputs": [
    {
     "data": {
      "text/html": [
       "<table><tr><th>&nbsp;</th><th>step type</th><th>requirements</th><th>statement</th></tr>\n",
       "<tr><td><a name=\"0x784db984cbc11351_step0\">0</a></td><td>conjecture</td><td></td><td><span style=\"font-size:20px;\"> <a class=\"ProveItLink\" href=\"../../../../numbers/number_sets/real_numbers/_theory_nbs_/proofs/int_within_real/thm_proof.ipynb\" style=\"text-decoration: none\">&nbsp;&#x22A2;&nbsp;&nbsp;</a><a class=\"ProveItLink\" href=\"../__pv_it/demonstrations/3cd2c5ed14f4f4aa99f7ffd80c383369f0da7a590/expr.ipynb\"><img src=\"data:image/png;base64,iVBORw0KGgoAAAANSUhEUgAAADkAAAAPBAMAAACsFXoGAAAAMFBMVEX///+IiIiqqqq6urpmZmZ2\n",
       "dnbc3NzMzMxUVFTu7u4yMjJEREQQEBAiIiKYmJgAAACIyPRpAAAAAXRSTlMAQObYZgAAAOhJREFU\n",
       "GNNjeHt6/6rTDxjQgO35U2tunQMyFsxgqH49AU1W2p2Bi2EDkLEhlYGbrQFN1pWBIYjVACLLkrAA\n",
       "JFR79+7dfRBZTwa2hhIGmOwGmKbUZVAG94SdUFkOZoTJuVD6Id8DqKyuF8JVTA5ginPDbDC9Iefu\n",
       "LQUkB10AkxwFbRDZVBNuZA9BRE2YA6CyLOYbkGTBjmFYwM3AwDoBbO/Oh+gmsyoEMzDwQFxVwVIA\n",
       "l2QEm5gBCh8fSEiyKrTDZbUgxgOdMuM1AwMwFpYz7F4PdTWnRSeIYj69ZveeP1tQAhcYkrfDUUQA\n",
       "TdtIkvMa5fkAAAAASUVORK5CYII=\n",
       "\" style=\"display:inline;vertical-align:middle;\" /></a></span></td></tr>\n",
       "<tr><td>&nbsp;</td><td colspan=4 style-\"text-align:left\"><a class=\"ProveItLink\" href=\"../../../../numbers/number_sets/real_numbers/_theory_nbs_/proofs/int_within_real/thm_proof.ipynb\">proveit.numbers.number_sets.real_numbers.int_within_real</a></td></tr></table>"
      ],
      "text/plain": [
       "proveit.numbers.number_sets.real_numbers.int_within_real"
      ]
     },
     "execution_count": 72,
     "metadata": {},
     "output_type": "execute_result"
    }
   ],
   "source": [
    "reals_contain_integer_kt.proof()"
   ]
  },
  {
   "cell_type": "markdown",
   "metadata": {},
   "source": [
    "<div style=\"width: 90%; border: 5px solid green; padding: 10px; margin: 0px;\"><a id='demo07'></a><font size=4><b>7.</b> Deducing $\\{1, 3\\} \\subset \\{1, 2, 3, 4, 5\\}$</font></div><br/>\n",
    "<font size=3>For a variety of finite enumerated sets, represented by the <span style=\"font-family:courier;\">Set</span> class in the <span style=\"font-family:courier;\">set_theory/enumeration</span> theory, membership and containment claims can be proven with just a little effort. For example, we can define two enumerated Sets as shown below:\n",
    "</font>"
   ]
  },
  {
   "cell_type": "code",
   "execution_count": 73,
   "metadata": {},
   "outputs": [
    {
     "data": {
      "text/html": [
       "<strong id=\"set_13\">set_13:</strong> <a class=\"ProveItLink\" href=\"../__pv_it/demonstrations/583bab243b91edf95291b6b1e221b502ce15d4230/expr.ipynb\"><img src=\"data:image/png;base64,iVBORw0KGgoAAAANSUhEUgAAADAAAAAVBAMAAADyTXAxAAAAMFBMVEX///+IiIi6urrc3NxERETM\n",
       "zMwQEBCqqqpUVFQiIiJ2dnYyMjLu7u5mZmaYmJgAAABN0h6tAAAAAXRSTlMAQObYZgAAANhJREFU\n",
       "KM9jYGDgu8eABmJlQCTPLgYMoBYAJPg+IAsxr1pSwMDAuwHI5JoAEig7AJGwZWD/BxUDETxd/VAJ\n",
       "+QKGn0gSDAzvoRJqCgy/sUowoBqFLHFyAVAsAcjg2IAiYTX3ANSlZQGoOhiTgMReBoaQyQyoEgxp\n",
       "QCbHRKgv4RLGDAz+QB/uANnhgCzx/wBIAmwHqqtSGBjmH4C4CiIhf4CBB+gzhndo/riRv/cBw0yg\n",
       "Lqa7VxRQPAj2M9xlEIkEOJcBRQIRHwfhEuD4YIDH4ANEDCqAjcYa5wB8I0pFFMHetQAAAABJRU5E\n",
       "rkJggg==\n",
       "\" style=\"display:inline;vertical-align:middle;\" /></a><br>\n",
       "<strong id=\"set_12345\">set_12345:</strong> <a class=\"ProveItLink\" href=\"../__pv_it/demonstrations/38a11ebeae978542ea46343294f4662de69f56ac0/expr.ipynb\"><img src=\"data:image/png;base64,iVBORw0KGgoAAAANSUhEUgAAAGsAAAAVBAMAAACzuQ2OAAAAMFBMVEX///+IiIi6urrc3NxERETM\n",
       "zMwQEBCqqqpUVFQiIiJ2dnYyMjLu7u5mZmaYmJgAAABN0h6tAAAAAXRSTlMAQObYZgAAAa9JREFU\n",
       "OMudlL9Lw0AUx79p1dg2Cf0P7OQccFLwx+Ao2MG1IKKiINhJHBR0EVyq4KKgmEFEBaGjdNB0Uxcr\n",
       "6KQpujiqKAhWMd7l3uUHlEq94d0nL3xy7+4lAWBU0cxovbb5pJXQ3IhN8Gi8hnOaM5gVFD/ay8ts\n",
       "juZTO8dydxyT6yyoM3TjHMk3Qb1Qf6S2SfOsW2PxUGrnB9904x6YFNSRxycllSmC0rIZ1mBIbRpY\n",
       "Mz3qzOCLkn0nBEterKOd2VijzQVFWn9qbOzaBBeWmA1TaoXHWxb3ObYXo1qsRtCzQ34ZUhtCfwZ4\n",
       "4TiXjWqJJUnKGNXoa0ALqy1VAUY2ENWcoNxJbzk1G9L0dxZW0+zEoqspFYIuYNjr9yWkxvbDu5ri\n",
       "9bQPRLRFxEUDXJu0ecf5uPZSbUXo37S36Em2WlCENh46U2q3znZepJP0NIVpV/xIu4+OVwU98755\n",
       "xB+h8dbHK3gyQ33TV76qSGzzdrvup6CYc5MRhD23gC2+cu/BfaTd3lhAA1JtPye0UXlpoQElEdX8\n",
       "701LowGVA+1OfA10Zfj5evQQvH3i5VH/8S/5BR+sidboQXJrAAAAAElFTkSuQmCC\n",
       "\" style=\"display:inline;vertical-align:middle;\" /></a><br>"
      ],
      "text/plain": [
       "set_13: {1, 3}\n",
       "set_12345: {1, 2, 3, 4, 5}"
      ]
     },
     "execution_count": 73,
     "metadata": {},
     "output_type": "execute_result"
    }
   ],
   "source": [
    "set_13, set_12345 = Set(one, three), Set(one, two, three, four, five)"
   ]
  },
  {
   "cell_type": "markdown",
   "metadata": {},
   "source": [
    "<font size=3>and define the proper subset relationship between them:\n",
    "</font>"
   ]
  },
  {
   "cell_type": "code",
   "execution_count": 74,
   "metadata": {},
   "outputs": [
    {
     "data": {
      "text/html": [
       "<strong id=\"set_13_properSubset_set_12345\">set_13_properSubset_set_12345:</strong> <a class=\"ProveItLink\" href=\"../__pv_it/demonstrations/714f162a591e5392682496b7523a42dfe073a7f90/expr.ipynb\"><img src=\"data:image/png;base64,iVBORw0KGgoAAAANSUhEUgAAALkAAAAVBAMAAADoXVL6AAAAMFBMVEX///+IiIi6urrc3NxERETM\n",
       "zMwQEBCqqqpUVFQiIiJ2dnYyMjLu7u5mZmaYmJgAAABN0h6tAAAAAXRSTlMAQObYZgAAAnZJREFU\n",
       "OMudlb9rFEEUx7+XM96P7Ib8AUKuSr1g4w+iFjaCkC2shEAQDQpCrhKLCNFCiEVOkYAHShYMEgPC\n",
       "dkogZg4sTptcQEFINpwglioKQn7gOr92981N7gi+Yvbdm/f93OzbNzMABrfRYePHYJud1tP6N5h4\n",
       "OCv21IhvhQ5K62l91+SaftJYfnmxCrihvXQjzYnO+1Sg31k/37JxHtsUbvkhHwo39cQoCn91zDQV\n",
       "usXUrybKv6hA2RP9nIp3+fgykTWX9vXEcBU7XenOg5qmbwGTVCAtd107K3c9SsdgQh+pYI/Qv9br\n",
       "9Xmy9h+afgOoeUQg7cwb7czI8QA6jMqcft5RmYS+xlDziUBacAj6+4DHJpT/GF3o3BYYEcjv7iX0\n",
       "uS+f+PhCuMXQoJ96xtIGcasZXaYRet8uFQhrIKFfxNkKz5Vt4Jtrz13hw6p0S+SryjRCL80YAlGY\n",
       "lA4c4W860AIuybcndExyQvGR8E5kQZVG6JEp4OX3Cd39zYfZIb0vU/pxYIzXQ+W9s7ZvSs+1TAHw\n",
       "IVGJIordMCDerniO0mMmknXdaWVkWka/g7xHBNxuR9GfDRk6GsLd13U3e+aqbAbdM+Whbj3THyDn\n",
       "EYEyvZtcvq5Q94yU5Th9XXTFd6PfX3fShxkcsXlOLr+aJYL1UP+TnMy38M0j/e7e39tG6alotOhj\n",
       "JaM37zGD/nlqtY06j63F8Q4RSA+L8ZycxOjSlrGbpE13LJTb5QvmSSCbg9mCaXtS0yeSn4FNJ5VJ\n",
       "08qwBYE9qejpwe1k37Dn+d6AJci8RqbYVOdloifNXbHvmvRuasMSZF47u5vUFi4c7l4t/Me9+g89\n",
       "Qt+fFEnMKgAAAABJRU5ErkJggg==\n",
       "\" style=\"display:inline;vertical-align:middle;\" /></a><br>"
      ],
      "text/plain": [
       "set_13_properSubset_set_12345: {1, 3} proper_subset {1, 2, 3, 4, 5}"
      ]
     },
     "execution_count": 74,
     "metadata": {},
     "output_type": "execute_result"
    }
   ],
   "source": [
    "set_13_properSubset_set_12345 = ProperSubset(set_13, set_12345)"
   ]
  },
  {
   "cell_type": "markdown",
   "metadata": {},
   "source": [
    "<font size=3>If we ask Prove-It to prove the proper subset relationship automatically, we run into some difficulty:\n",
    "</font>"
   ]
  },
  {
   "cell_type": "code",
   "execution_count": 75,
   "metadata": {},
   "outputs": [
    {
     "name": "stdout",
     "output_type": "stream",
     "text": [
      "Proof Failure: Unable to prove {1, 3} proper_subset {1, 2, 3, 4, 5}:\n",
      "'conclude' method not implemented for proof automation\n"
     ]
    }
   ],
   "source": [
    "try:\n",
    "    set_13_properSubset_set_12345.prove()\n",
    "    assert False, \"Expecting a Proof Failure; should not make it to this point.\"\n",
    "except ProofFailure as e:\n",
    "    print(\"Proof Failure: {}\".format(e))"
   ]
  },
  {
   "cell_type": "markdown",
   "metadata": {},
   "source": [
    "<font size=3>But the enumerated Set class has some special machinery to help us out:\n",
    "</font>"
   ]
  },
  {
   "cell_type": "code",
   "execution_count": 76,
   "metadata": {},
   "outputs": [
    {
     "data": {
      "text/html": [
       "<span style=\"font-size:20px;\"> <a class=\"ProveItLink\" href=\"../__pv_it/demonstrations/c61c7b158aaf09e7166e26ff81f09b65a6fcf0b80/proof.ipynb\" style=\"text-decoration: none\">&nbsp;&#x22A2;&nbsp;&nbsp;</a><a class=\"ProveItLink\" href=\"../__pv_it/demonstrations/e1f923ba72cc4db5e7d08c3f7748753b8a09ce4a0/expr.ipynb\"><img src=\"data:image/png;base64,iVBORw0KGgoAAAANSUhEUgAAAFQAAAAVCAMAAADvsTk6AAAAQlBMVEX///9jY2MJCQkNDQ0rKysP\n",
       "Dw8WFhaYmJiqqqqIiIgyMjLc3NwiIiIQEBC6urp2dnZUVFTMzMxERERmZmbu7u4AAAAmYK3VAAAA\n",
       "AXRSTlMAQObYZgAAAXVJREFUOMuVVemawyAIdE8V8UTf/1U3Htto1LTlh1+lMDI4Esa25sctJ86e\n",
       "mCcZn4Rgv4lg2QtmdC0lEoXgF8e6oc60R1LW2iDqb4KCmXNtMlMoDS571i30yFFRdibexVGJ0Pqe\n",
       "/QM0OuvSCCpTrjJhF6fL6pIayAb8/UFYV8ovoEZnTgm6OCghLnVd9eG4xKAYew209mSg37h2gRFi\n",
       "Xtg7oBGbOOzZR5M6wbhco5RjloMbUGWR4qQS7OUTSlfGRKH9PX2pm1iA/tVDvT41AHx/HQucTUbF\n",
       "7kEP/TSvw0JS0sAlV2rF+qWsQFU5MKSaApW0oMc/9cxJpPn8sAVNZd9AW099uSN5gpJkhq6gN7ev\n",
       "Q6efevsKj5dLri8NhfM3oLKmxyZ3xvmkU0jFetDoPk3cgZLTCcoURGxBho6ZZKbDL8Y/bEDcPdNT\n",
       "ZwsV7EEvT/TyUk4fewM0hkXx8zyNcpFLsAGVq+/GPPn5cvKbHfulV7z+jfoDzooUYqn+FWMAAAAA\n",
       "SUVORK5CYII=\n",
       "\" style=\"display:inline;vertical-align:middle;\" /></a></span>"
      ],
      "text/plain": [
       "|- 2 not-in {1, 3}"
      ]
     },
     "execution_count": 76,
     "metadata": {},
     "output_type": "execute_result"
    }
   ],
   "source": [
    "NotInSet(two, set_13).prove()"
   ]
  },
  {
   "cell_type": "code",
   "execution_count": 77,
   "metadata": {},
   "outputs": [
    {
     "data": {
      "text/html": [
       "<span style=\"font-size:20px;\"> <a class=\"ProveItLink\" href=\"../__pv_it/demonstrations/b12d5c12a1515ab9c9db15dfc25075e4b011769c0/proof.ipynb\" style=\"text-decoration: none\">&nbsp;&#x22A2;&nbsp;&nbsp;</a><a class=\"ProveItLink\" href=\"../__pv_it/demonstrations/714f162a591e5392682496b7523a42dfe073a7f90/expr.ipynb\"><img src=\"data:image/png;base64,iVBORw0KGgoAAAANSUhEUgAAALkAAAAVBAMAAADoXVL6AAAAMFBMVEX///+IiIi6urrc3NxERETM\n",
       "zMwQEBCqqqpUVFQiIiJ2dnYyMjLu7u5mZmaYmJgAAABN0h6tAAAAAXRSTlMAQObYZgAAAnZJREFU\n",
       "OMudlb9rFEEUx7+XM96P7Ib8AUKuSr1g4w+iFjaCkC2shEAQDQpCrhKLCNFCiEVOkYAHShYMEgPC\n",
       "dkogZg4sTptcQEFINpwglioKQn7gOr92981N7gi+Yvbdm/f93OzbNzMABrfRYePHYJud1tP6N5h4\n",
       "OCv21IhvhQ5K62l91+SaftJYfnmxCrihvXQjzYnO+1Sg31k/37JxHtsUbvkhHwo39cQoCn91zDQV\n",
       "usXUrybKv6hA2RP9nIp3+fgykTWX9vXEcBU7XenOg5qmbwGTVCAtd107K3c9SsdgQh+pYI/Qv9br\n",
       "9Xmy9h+afgOoeUQg7cwb7czI8QA6jMqcft5RmYS+xlDziUBacAj6+4DHJpT/GF3o3BYYEcjv7iX0\n",
       "uS+f+PhCuMXQoJ96xtIGcasZXaYRet8uFQhrIKFfxNkKz5Vt4Jtrz13hw6p0S+SryjRCL80YAlGY\n",
       "lA4c4W860AIuybcndExyQvGR8E5kQZVG6JEp4OX3Cd39zYfZIb0vU/pxYIzXQ+W9s7ZvSs+1TAHw\n",
       "IVGJIordMCDerniO0mMmknXdaWVkWka/g7xHBNxuR9GfDRk6GsLd13U3e+aqbAbdM+Whbj3THyDn\n",
       "EYEyvZtcvq5Q94yU5Th9XXTFd6PfX3fShxkcsXlOLr+aJYL1UP+TnMy38M0j/e7e39tG6alotOhj\n",
       "JaM37zGD/nlqtY06j63F8Q4RSA+L8ZycxOjSlrGbpE13LJTb5QvmSSCbg9mCaXtS0yeSn4FNJ5VJ\n",
       "08qwBYE9qejpwe1k37Dn+d6AJci8RqbYVOdloifNXbHvmvRuasMSZF47u5vUFi4c7l4t/Me9+g89\n",
       "Qt+fFEnMKgAAAABJRU5ErkJggg==\n",
       "\" style=\"display:inline;vertical-align:middle;\" /></a></span>"
      ],
      "text/plain": [
       "|- {1, 3} proper_subset {1, 2, 3, 4, 5}"
      ]
     },
     "execution_count": 77,
     "metadata": {},
     "output_type": "execute_result"
    }
   ],
   "source": [
    "set_12345.deduce_enum_proper_subset(subset=set_13)"
   ]
  },
  {
   "cell_type": "markdown",
   "metadata": {},
   "source": [
    "<font size=3>And a membership claim such as $2\\in\\{1, 2, 3, 4, 5\\}$ can be proven automatically:\n",
    "</font>"
   ]
  },
  {
   "cell_type": "code",
   "execution_count": 78,
   "metadata": {},
   "outputs": [
    {
     "data": {
      "text/html": [
       "<span style=\"font-size:20px;\"> <a class=\"ProveItLink\" href=\"../__pv_it/demonstrations/24a86f24aa5be98253677b316e53d00e3592039d0/proof.ipynb\" style=\"text-decoration: none\">&nbsp;&#x22A2;&nbsp;&nbsp;</a><a class=\"ProveItLink\" href=\"../__pv_it/demonstrations/556eb1c098b3e48db8ffaca7130e1c7ef85d918d0/expr.ipynb\"><img src=\"data:image/png;base64,iVBORw0KGgoAAAANSUhEUgAAAI8AAAAVBAMAAACNsKCFAAAAMFBMVEX///+YmJiqqqqIiIgyMjLc\n",
       "3NwiIiIQEBC6urp2dnZUVFTMzMxERERmZmbu7u4AAADrYmUNAAAAAXRSTlMAQObYZgAAAhVJREFU\n",
       "OMudlD9II0EUxr8kGk10k4CFjaCdIJzaXXesYKOFro0gKIYDA2dxXqXHKXd2YiGkyqGcoAhams5G\n",
       "QSzEQiQhdseGBauzUcQ/Z5P45u9ms2uhDzL5dvLNL2/emx0gIEJFvCVaSk7wD4khvC2aF9kq+zxf\n",
       "n9CtB6sNE+snevZIfg84R13AJalrxP7XgWJpGsI/5ZM2NBbQl1KeWfn9q/pMY44+ZWAhAHS9UZFP\n",
       "2hC5QzItJyM/pBjasSRoHti3+FxHJmO6GYUUSBuavyNpysmxYSm2+MhAow72eQ0OP3m2pkHaQKG3\n",
       "lvWDKOZY9xIjCAYpA/N8Ue2wFGi77S+Nv0XzWLkQt/S6uOkFCQNVO1eWM1dQoAtMLwOdXEd5eq1u\n",
       "At15L0gYWHxcljvTIFpI+TcUmLL588EgBa/l4Qy8IFurJnEmwvkakPFAw24/dZLTMOlmtOLNSBrQ\n",
       "aKH1jqt/UCCqAjtlDSznD8xBf+aC4scekDQgWVGgHtt+KokUTRgVUaOWLCLMZ/S/0jVlQNMxopou\n",
       "D6RBFTRF18bXN3f53GcvKEJrbkxlYCqUonOUuBeeJXBFr027JQ9ktfoo3qkzpwZk7N0XEf2qDFyt\n",
       "2WdAhrv+VLeFmtoouwdSxupp7SvCoxc+FXb8qg7kbu2bUln4VAx+9RpI30cJ3QBXXcGv+H0UFOqG\n",
       "DLlsrVIBiu6F4Ai/485+AaCGnXrUYaUgAAAAAElFTkSuQmCC\n",
       "\" style=\"display:inline;vertical-align:middle;\" /></a></span>"
      ],
      "text/plain": [
       "|- 2 in {1, 2, 3, 4, 5}"
      ]
     },
     "execution_count": 78,
     "metadata": {},
     "output_type": "execute_result"
    }
   ],
   "source": [
    "InSet(two, set_12345).prove()"
   ]
  },
  {
   "cell_type": "markdown",
   "metadata": {},
   "source": [
    "<font size=3>Enumerated Sets and related axioms, theorems, conjectures, and methods are discussed in much more detail in the set_theory/enumeration theory and the [enumeration demonstrations page](../enumeration/\\_demonstrations\\_.ipynb) page.\n",
    "</font>"
   ]
  },
  {
   "cell_type": "markdown",
   "metadata": {},
   "source": [
    "<div style=\"width: 90%; border: 5px solid green; padding: 10px; margin: 0px;\"><a id='demo08'></a><font size=4><b>8.</b> Manually Proving $\\{1, 3, 5\\} \\subseteq \\{1, 2, 3, 4, 5\\}$</font></div><br/>\n",
    "<font size=3><p>Although the enumerated <span style=\"font-family:courier;\">Set</span> class has machinery to make subset deductions fairly easy (as seen above in <a href=\"#demo07\">Demo 7</a>), it can be a useful exercise to consider a more manual approach. So let's consider a possible alternative effort to prove that $\\{1, 3, 5\\} \\subseteq \\{1, 2, 3, 4, 5\\}$.</p></font>"
   ]
  },
  {
   "cell_type": "markdown",
   "metadata": {},
   "source": [
    "<font size=3>We begin by defining our enumerated Sets and the subset relationship:</font>"
   ]
  },
  {
   "cell_type": "code",
   "execution_count": 79,
   "metadata": {},
   "outputs": [
    {
     "data": {
      "text/html": [
       "<strong id=\"set_135\">set_135:</strong> <a class=\"ProveItLink\" href=\"../__pv_it/demonstrations/e9271ab2e96854fc5a1ad4bee80c039ec8501aa30/expr.ipynb\"><img src=\"data:image/png;base64,iVBORw0KGgoAAAANSUhEUgAAAEMAAAAVBAMAAADvM06qAAAAMFBMVEX///+IiIi6urrc3NxERETM\n",
       "zMwQEBCqqqpUVFQiIiJ2dnYyMjLu7u5mZmaYmJgAAABN0h6tAAAAAXRSTlMAQObYZgAAAStJREFU\n",
       "KM9jYGDgu8eAC7BePACieHYx4AZMqSCS7wOyGPOqJQUQ1r4DsUDWbRCTawKQYM+BKrFlYP8HYeX/\n",
       "/wUkV8KUnFjxB6pEvoDhJ4S1q9EAWQkDH0yJmgLDbwirAUxiUcIAtwiPkpMLIHTfw6tAchmIybEB\n",
       "RYnV3AMQhg+DvQIDw3sQsywA1RTGJBiLBWg+9wUGhpDJDKhKGNKgxjDwfgYSnQJAP6CYYszA4F8A\n",
       "tZ/rE9AUkKs5HJCV/D8AVcK2gYH3D9QtqD5KYWCYD7aIl4GBcwPUR2AljEAl50FeewcKFxCL+QLD\n",
       "MwOkcOFt+32PgXMOKGrvXlGAsGxX3EEJOjCoYcBkQZQkwLgLGDBZK1HSC48AAwYLkl4YYKmODy6O\n",
       "YDFBgpqdQNoFAGwDXLAf1OGbAAAAAElFTkSuQmCC\n",
       "\" style=\"display:inline;vertical-align:middle;\" /></a><br>\n",
       "<strong id=\"set_12345\">set_12345:</strong> <a class=\"ProveItLink\" href=\"../__pv_it/demonstrations/38a11ebeae978542ea46343294f4662de69f56ac0/expr.ipynb\"><img src=\"data:image/png;base64,iVBORw0KGgoAAAANSUhEUgAAAGsAAAAVBAMAAACzuQ2OAAAAMFBMVEX///+IiIi6urrc3NxERETM\n",
       "zMwQEBCqqqpUVFQiIiJ2dnYyMjLu7u5mZmaYmJgAAABN0h6tAAAAAXRSTlMAQObYZgAAAa9JREFU\n",
       "OMudlL9Lw0AUx79p1dg2Cf0P7OQccFLwx+Ao2MG1IKKiINhJHBR0EVyq4KKgmEFEBaGjdNB0Uxcr\n",
       "6KQpujiqKAhWMd7l3uUHlEq94d0nL3xy7+4lAWBU0cxovbb5pJXQ3IhN8Gi8hnOaM5gVFD/ay8ts\n",
       "juZTO8dydxyT6yyoM3TjHMk3Qb1Qf6S2SfOsW2PxUGrnB9904x6YFNSRxycllSmC0rIZ1mBIbRpY\n",
       "Mz3qzOCLkn0nBEterKOd2VijzQVFWn9qbOzaBBeWmA1TaoXHWxb3ObYXo1qsRtCzQ34ZUhtCfwZ4\n",
       "4TiXjWqJJUnKGNXoa0ALqy1VAUY2ENWcoNxJbzk1G9L0dxZW0+zEoqspFYIuYNjr9yWkxvbDu5ri\n",
       "9bQPRLRFxEUDXJu0ecf5uPZSbUXo37S36Em2WlCENh46U2q3znZepJP0NIVpV/xIu4+OVwU98755\n",
       "xB+h8dbHK3gyQ33TV76qSGzzdrvup6CYc5MRhD23gC2+cu/BfaTd3lhAA1JtPye0UXlpoQElEdX8\n",
       "701LowGVA+1OfA10Zfj5evQQvH3i5VH/8S/5BR+sidboQXJrAAAAAElFTkSuQmCC\n",
       "\" style=\"display:inline;vertical-align:middle;\" /></a><br>"
      ],
      "text/plain": [
       "set_135: {1, 3, 5}\n",
       "set_12345: {1, 2, 3, 4, 5}"
      ]
     },
     "execution_count": 79,
     "metadata": {},
     "output_type": "execute_result"
    }
   ],
   "source": [
    "set_135, set_12345 = Set(one, three, five), Set(one, two, three, four, five)"
   ]
  },
  {
   "cell_type": "code",
   "execution_count": 80,
   "metadata": {},
   "outputs": [
    {
     "data": {
      "text/html": [
       "<strong id=\"demo_08_subset\">demo_08_subset:</strong> <a class=\"ProveItLink\" href=\"../__pv_it/demonstrations/f913d6593ccaa86a1f2a4b5b4827bd8c1f29873d0/expr.ipynb\"><img src=\"data:image/png;base64,iVBORw0KGgoAAAANSUhEUgAAAM0AAAAVBAMAAAAX/3cYAAAAMFBMVEX///+IiIi6urrc3NxERETM\n",
       "zMwQEBCqqqpUVFQiIiJ2dnYyMjLu7u5mZmaYmJgAAABN0h6tAAAAAXRSTlMAQObYZgAAApRJREFU\n",
       "SMedlk1oE0EYht80xk022VDwqphTzwte/CHqwUtBMAdPQqH4UxQFcxIPCtWDUMRWEcFFxQWLxIIY\n",
       "8KAUtFvwEL2YgiLYbtWLeJAqFYT+4HZmd3b+drOoA5l9s5sn73wz3zezAKqL6NmGtqbczAJSWmHO\n",
       "o5fKdNaPBhqJW9lASus7EY7up3wvPzXZjFT5e+EDYLWT4ShAxT/Q0FEyD+z60hsi9+apNK+TzjjD\n",
       "HtRh/InU5iBw2VPavjmOcwtJoANzWUeB2+x6Nlgl/aMY67TW2YPtTayweFpbIHz2POARqMACMKKj\n",
       "yJ1kYvqSLfugGmMDNaxFqigGT9pTKD4COAVM2BqKvc+ZGA37FB/w4BUfq9nLZ8bDREND4f6Fz2uX\n",
       "+SxtI7w5HH4poZcPafc9Da3asc/4l/ekfxj+X1vBdt9j1CYvv8yTa6fkowHoW9XRWcQ+B7GvBvyg\n",
       "8lxDxXJHuRwknxeheiX56EBpVEdd7kOGS6Ivd4HDN6FNw0g8DfhEFrh4Q5u3BODrqNGQfKxfpBvr\n",
       "ZxXPsR3AoWjNrwJPSMwRYfZrW4TwyXV19E1M0Smm1VWmERf3y1jgxT6nSTweL/5n0vooAC4ib6vo\n",
       "ed//PRfVehvWOlsfNX2O8/Qhw7zD8w2dy156vhVc5GwNBVidWmTG2yzfQixHsLc0j5ZoEYSqjuox\n",
       "ad85MqjsOxzYNfV4TEepZ4XWbL6Lr7ZUP9aVtUWU7tIk9d/VIpX/eM2TfNT6EcBMEKzoKCaDcTg0\n",
       "tnprQanTsF1AUvXw6Q1wZfCJZj7D8VcXSZXmkwlwZUL14cdJheeuUPH5YzoOPxcyAaFmhc98tHfH\n",
       "55c4yaRiqSXPxyxAqM9iY4q2CeNf3w+M/3g/2AC1B/BmYi1oJgAAAABJRU5ErkJggg==\n",
       "\" style=\"display:inline;vertical-align:middle;\" /></a><br>"
      ],
      "text/plain": [
       "demo_08_subset: {1, 3, 5} subset_eq {1, 2, 3, 4, 5}"
      ]
     },
     "execution_count": 80,
     "metadata": {},
     "output_type": "execute_result"
    }
   ],
   "source": [
    "demo_08_subset = SubsetEq(set_135, set_12345)"
   ]
  },
  {
   "cell_type": "markdown",
   "metadata": {},
   "source": [
    "<font size=3>It turns out that Prove-It can automatically prove that subset relationship for us. WE can just call the following, which we've temporarily left commented-out for pedagogical purposes so its proof doesn't interfere with our looking at an alternative manual approach further below:</font>"
   ]
  },
  {
   "cell_type": "code",
   "execution_count": 81,
   "metadata": {},
   "outputs": [],
   "source": [
    "# demo_08_subset.prove()"
   ]
  },
  {
   "cell_type": "markdown",
   "metadata": {},
   "source": [
    "<font size=3>Instead of allowing the automation to do it for us, and instead of utilizing the direct <span style=\"font-family:courier\">Set.deduce_enum_subset_eq()</span> method, consider the <span style=\"font-family:courier\">subset_eq_def</span> axiom, which provides a definition of what it means to say that one set is a (non-strict) subset of another:</font>"
   ]
  },
  {
   "cell_type": "code",
   "execution_count": 82,
   "metadata": {},
   "outputs": [
    {
     "data": {
      "text/html": [
       "<span style=\"font-size:20px;\"> <a class=\"ProveItLink\" href=\"axioms.ipynb#subset_eq_def\" style=\"text-decoration: none\">&nbsp;&#x22A2;&nbsp;&nbsp;</a><a class=\"ProveItLink\" href=\"../__pv_it/axioms/ed7814f7a77598e71c310f72f4f19c732914b3840/expr.ipynb\"><img src=\"data:image/png;base64,iVBORw0KGgoAAAANSUhEUgAAARkAAAAVBAMAAACAi4frAAAAMFBMVEX///8QEBCIiIhmZma6urrM\n",
       "zMxUVFQiIiJERETc3Nzu7u6qqqp2dnaYmJgyMjIAAAAcRTyBAAAAAXRSTlMAQObYZgAAA5hJREFU\n",
       "SMfFVktIVFEY/pv3nae7gloMuUgkc0AoiMKhNgWGk4tqESmpYEE5UDGJFVMIjhXMrGwIyhuF2hgm\n",
       "tLJNokSlZQNCb3FCCDLIId+K2DnnP9e5r5lmEfjDf8/zfvd/fOc/FyCX3IP/Jzmx+rmm6GBcf489\n",
       "jO0pzYqrcb6soUU552YLSciNpQ9kiQHTETo3pY/gjmE7zccfQqHQJexuIuDlAcVuZx99RYTcWGpB\n",
       "IDsJCtU4mRH07YYxbv80fuL+m8xSNYlBpU+xm6HEs+ViLMs8Bxok3UF0hnmlI03Y9JSjXz9lS6Vk\n",
       "asKr3E4jPJLNmibF6FMolFIAPSBdoq7hROKOPoAQxDZZ6qeNUW7zdRLZzaqsfEskHgchNxbKiWI1\n",
       "kJt8gupiJHJFH8GAmTCJLxg1rfK1eYDjZ1X7PZFI6wBkx7JvP3NgkDF6SgPk9KHWA7SxeXwemhlq\n",
       "4ISz4fl4BNUsJe0ycPP8eFEz643+pjJJu5YA2FRcXR9TrCfw0XuNbYxpgFwp1IOMzKQ/i5QtAGcB\n",
       "7rRiavzQwYLULXd1iaS5RuW/yQe9qqkJP2SwhuG9eJiZpgVyBFGtYGAxeLjKlo014Fjmh49BmWvL\n",
       "GsPqTNmIwYYVdTqCUCJ1e4b205SUS+WHYokQwcFRGs6UAsicRnUm8TPDF9AJLxhTcmtMpMMmnLIj\n",
       "5CHuGP6orXkHElddt+5Siju7fCDH4m/EtUCSNULqGAuBFw1/GoBdojxT5GHF1P1SVgnLbIY3P7Ag\n",
       "mQm2s7CqnqSfSZUtLMsUmOe4aVogUxAV2uoYs2APW64sKaqRMQ8EAuNOs3FnnSgvN9WammlrJxEo\n",
       "tqQuAo9ujTEow3puSAM72kYvqIEkFsMz9sZXKMUzArBDKvU0zLQW2ZZw4mSrdDN8J55s0VwCDupQ\n",
       "wJ0EOybI1WdIZ7BMK7a0gDxqXn9FAjIOoIKHWmqffBtl6LcBOniZo5HrXpsCR3RBeQfA+bXa3RGd\n",
       "As544YmB+XIkcgOgd9/rZVjHsp8uLuTXc2eLqAJyB1DBRVeMInSwS5DwuzKmW83zkC+MChAATPZe\n",
       "EOb0b4aKVulm4NLFFeUI8Skp3ARhGYRt/7rpcomQHoUBeMniQdKymicWvzU5yRZBiF41b4VXM2UN\n",
       "fk0lxdSHQpk/iqxiP1exUwQbjX40DPGFpC6W5i3+R6GkYV5/SPlIEeVN/ljUVo29/Rv1J/qZq0KS\n",
       "sLHyF6/bHb+VfJFoAAAAAElFTkSuQmCC\n",
       "\" style=\"display:inline;vertical-align:middle;\" /></a></span>"
      ],
      "text/plain": [
       "|- forall_{A, B} (A subset_eq B = forall_{x in A} (x in B))"
      ]
     },
     "execution_count": 82,
     "metadata": {},
     "output_type": "execute_result"
    }
   ],
   "source": [
    "from proveit.logic.sets.inclusion  import subset_eq_def\n",
    "subset_eq_def"
   ]
  },
  {
   "cell_type": "markdown",
   "metadata": {},
   "source": [
    "<font size=3>We can instantiate the <span style=\"font-family:courier\">subset_eq_def</span> axiom for our particular case:</font>"
   ]
  },
  {
   "cell_type": "code",
   "execution_count": 83,
   "metadata": {},
   "outputs": [
    {
     "data": {
      "text/html": [
       "<strong id=\"subset_eq_def_specialized\">subset_eq_def_specialized:</strong> <span style=\"font-size:20px;\"> <a class=\"ProveItLink\" href=\"../__pv_it/demonstrations/f2666aad28be120a134c7c12fd5ae3d44c515fd50/proof.ipynb\" style=\"text-decoration: none\">&nbsp;&#x22A2;&nbsp;&nbsp;</a><a class=\"ProveItLink\" href=\"../__pv_it/demonstrations/7a5b0942d1c67a618376c5dde2bda71a4b6aef0c0/expr.ipynb\"><img src=\"data:image/png;base64,iVBORw0KGgoAAAANSUhEUgAAAeoAAAAXBAMAAAA2OBF6AAAAMFBMVEX///+IiIi6urrc3NxERETM\n",
       "zMwQEBCqqqpUVFQiIiJ2dnYyMjLu7u5mZmaYmJgAAABN0h6tAAAAAXRSTlMAQObYZgAABVdJREFU\n",
       "WMPdWG1oHEUYfu72Lpvb27tcEaRIpffHSoXQtfrDVtKE9qAEKj0xlBoMDYlWxYIHBbFWMa0otMU2\n",
       "RUTPD3rBomlI8FSKUmu7AQnRRpqCRW1z8ZQgQjWWKoY2wXNmP2Z3Z7960YI4cHPvfjwzzzPvzDvv\n",
       "LID0NHxL1zKPm0EAjxI/p+JGlUVTkU8Evbci77oVDPAo0Uf+ubx1nncXRUVU6HBdtt8Who4WdCv5\n",
       "S/wbIFV2j68DIFdyeR5K5ojxf0rtIvcu8k1ojc7WwVZu83a1D5W1QxvhT+UF8pP6SSXuMJ61QPxL\n",
       "txpqtZLxlJafi8Xiq5rlBIxDusJDgdeN/ydr10h9jGf7Hq1O1qE6qXje9qEiTOL5qj+VMwZyfHDB\n",
       "eLa8gKtGR4M3wVJ97zuOrizAFLCdhyLymGGc2KN4qb6bUmurQ/Wv8FXtQSUyh6Z+fypSxtCVNpEr\n",
       "spjXrUZrNEn5iBtgBngcOKRwUKz7xDD6tNqlOkmCilSoQ/UrjquZYrEcRCXag6ayPxW5m0eCTVOH\n",
       "6lTBT/VpFYfyHBSlENXp4YmJNXWIFvrtVx3LwqmwGe5F5UO36i9KhurZW0kTUrd2kYCfalKOqBw0\n",
       "rZhdHfzhPKnfdcn4I5d7ow7VkUlSjS5dfUuGuupkOBXZbN2TyghRV3Yg175tAGOqcIVFyXtsFDgA\n",
       "otd46CjMrjahNQv8plP8VCtUAF4ENjh0dRLfdGjWwLe0la0PzOJ+NsFi5KlcSh9O0K4blVAqwrEp\n",
       "BFC5BDyVdyIjPcxsJ7/PNOtzG0EekOjjoSXWFSFM3JGc5J3XDNmxJQokDnd9p62laoqGuVU10up+\n",
       "1gXRL6nSQpQKjl0PlZuzAVR2oUMLFPZZsp2lUt+TThoPczPcBajwUDFv6yr1O6n2ZTjVCUTMhSc/\n",
       "U6lCpGOwUnu/pE2v2x8i1W7z9QaiQUZMj/pb6Iwph1Bp0LczbyrbjOyLIe8CNusT6wDwPulMB0kZ\n",
       "Ll2zuopM8tAvTRSdgXQLTfa5tpwqG8eZnROwqSbkqLjbwKsGmjJs2wumIiiIzcGfClHd2GZH1lRT\n",
       "9RPE1yrLfj62rWsHAM/RThzQpyuVP8/pbMtILXDrWhsBobyVLuHzS/NRjald9RiV0rxkyqY6obW7\n",
       "TQ/QDaFUmhZM1d5UVvJx8GEWBwmbN1kMx/he1TtwxkuIKBwUMFKDFCFc9orh2LCXuEY9kMgmwamO\n",
       "fEDr1ZixqabRTFSXEwRtNIMQKg1tSLCh8KByyUBGyEtny1pyTDZdzWpButeWkXa2OzJSBlgzNLKP\n",
       "h9IRkOf11PAnxWO/Jm4hjcRxCvhKd1qJm+HEswrGzGgtEResKmw2ziCvOVW7qaSrZL+W5+FH5YKO\n",
       "TL00P43EWzT2V77O6pZw4WXVptq5X1uA07XaVR6Ko7WDKFK/tAxOwVO1vkZJeHkwl8tl4vfBUi3M\n",
       "adnl2Szi5q4bpZnnktFpPQKOr1dDqDRX1kMn4EnluF3Xs3BbPqr9AcwSrVO1h+o0fRq/HDdSQMvX\n",
       "Y3mBZni9aFUtX3MZ6R3t9ow0nABHRe63Vi7d29yWl+pAALMkBKmmpVUqS5DybF3vIvFZTSjpHcIm\n",
       "DNMEanfo6aP7ughwVOiGxM6oMosSlmWer6VikZ00AwGWNWp1ddGb8/iPA8PARlN1y5E92FKIDwwq\n",
       "8UchjZTsqmNK8Pk6mABH5Yx2BDObsBqz7YhZd19BAMuqWnliT2COTda17mta9F1T1C92h31VCKRS\n",
       "9aOi5cJivd/NxH//u5mpWtR9upNX7fMFaVFU0gr+I0XudXjKcM5+/M/LnVX3vc7Cjertb2vWCrfT\n",
       "rbhDAAAAAElFTkSuQmCC\n",
       "\" style=\"display:inline;vertical-align:middle;\" /></a></span><br>"
      ],
      "text/plain": [
       "subset_eq_def_specialized: |- {1, 3, 5} subset_eq {1, 2, 3, 4, 5} = forall_{x in {1, 3, 5}} (x in {1, 2, 3, 4, 5})"
      ]
     },
     "execution_count": 83,
     "metadata": {},
     "output_type": "execute_result"
    }
   ],
   "source": [
    "subset_eq_def_specialized = subset_eq_def.instantiate(\n",
    "        {A:set_135, B:set_12345})"
   ]
  },
  {
   "cell_type": "markdown",
   "metadata": {},
   "source": [
    "<font size=3>If we can prove the rhs of that instantiated form, we can use the equality to conclude the lhs. To get there, we consider the <span style=\"font-family:courier;\">equivalence()</span> method for set membership, which unfolds a set membership claim into a disjunction of equalities, like this:</font>"
   ]
  },
  {
   "cell_type": "code",
   "execution_count": 84,
   "metadata": {},
   "outputs": [
    {
     "data": {
      "text/html": [
       "<strong id=\"InSmallerSetDef\">InSmallerSetDef:</strong> <span style=\"font-size:20px;\"> <a class=\"ProveItLink\" href=\"../__pv_it/demonstrations/c8b1776bb5cd857b261365a855a7673884a39c250/proof.ipynb\" style=\"text-decoration: none\">&nbsp;&#x22A2;&nbsp;&nbsp;</a><a class=\"ProveItLink\" href=\"../__pv_it/demonstrations/35cbc01e32688f52fa43b4ccccf8644ca34979ec0/expr.ipynb\"><img src=\"data:image/png;base64,iVBORw0KGgoAAAANSUhEUgAAAXkAAAAVBAMAAABRbIObAAAAMFBMVEX///8QEBBmZmaqqqrMzMxE\n",
       "REQyMjIiIiKYmJh2dna6urrc3NxUVFSIiIju7u4AAAA6P00QAAAAAXRSTlMAQObYZgAABAdJREFU\n",
       "SMfNV1tIVEEY/nMvZ89eztpDPhjUogQKXdZeeghMAqEHQaHCSMJFQqh8kAQlQhMfSghrKSwEzctL\n",
       "D1EtPVQWREUXSqLNtyj1+JARKAmGRZD2z+Vcd87g5ksDOztnZs73f/PPN//5B0BUQmXgWfZPw/9d\n",
       "tBOy0dGq3L6H3tP3ujsi3Z5zfZn1ABuuX3RYG+hPslbwkr8UoCCVu9w6byNRN6Mv4nnjAwcBJtYG\n",
       "TInkAPOitpK6QmdP98D3i7U2rK6mjVEnmgeQbwsSoIv102e6a6eEUyMJ2NcNc9Y0vwSYEtFS3uy1\n",
       "N+85+5kk/OQkBz+BkH2PGGd+cAXrIboDhFEoS6qEcG5sCeKtoJIZ8IJUfRJgRmTIKZj6jnab7y9z\n",
       "9qMjsMxFYBt1lLNeEiTsZ6knn2KlEERF7M5wMcRToBWSdg2puiTAjMisvct/THcox2APpnK82Eda\n",
       "ZeyDI4ZexkjjgecJQeXASUMv4YQEmBEhwAufH32k+zWngwf7r2n+Uu8kCkAtzNl1tKRNTdweErJX\n",
       "qVR246+BNCbBZtNxQs9gdYV6C98IZCTAnEgCtHSoU6H6t857NOVgP36atwJ65LcZka41k9JE+9Fp\n",
       "3+BCtt3Vz9iHKJqCm0sDyBGwbKp0bjNdXuT6TqzP0/fQe9UyYE4kBaquroSpFK3gVFHl9H2s2Byq\n",
       "x1+T22sKRtQbMKzfEvreR3cyloUolVAb2Gw6ygcc30NbUwBvpcCUCAJrEGC0/UVkaaRVzc6KxR42\n",
       "ms1daDTa6Q5gaFaHwx6699O90lp5OERPmDZdMBhfa5lUeTj0BKZEKHCcKTBS5/qaGuwfAzSyz9Ur\n",
       "gGHEawEBe4A/UvZQClcN9qZN+8nPQGDJYF+QVJMyYEaEAtfyL791GKN1dvarusG+CJesO3XfYmww\n",
       "+H+Au5+xD7PAcR/YfxtYNrnuSTSNr1D2N9lSUgrIgBkRBPbpMxCjPHeAOOZsAjjHmni62kUxhxyu\n",
       "ytgiTAt9z04tBA4wf+OptWza9q8OlBXj1MKhPikwI4LAd5ONPBVSkk72Mzpo5DPVS+L99xTNGUKb\n",
       "RfEeQ1d4KbCYm37FCPsCFm/9rxlfjImWTdtCu2m8L2dPNV1SYEYEgeenFsrYoPbyjp399q1N3dCB\n",
       "FsMl20ZAIXCR8ue6iD1uofZuerLX3V/wbBlT7SBXJg9VqA3Lpq2MlRzF+jhPBRJSYEYk6Eh2w/2O\n",
       "TIF+N8z9rXTpak2ZAg8grDzh4TUjy805dkTPA9itBFPZqtmXlrHvkRlxfSg9sjSOnf134Nz8fsF0\n",
       "igUryO8DEn/mJLINEkJz6wE2inm3MtUZst2tRvK6nQTWeDsRriwvYFPu+d5rJRe4i3ncDEOZ/ID/\n",
       "AvuxSv1PlOnnAAAAAElFTkSuQmCC\n",
       "\" style=\"display:inline;vertical-align:middle;\" /></a></span><br>"
      ],
      "text/plain": [
       "InSmallerSetDef: |- x in {1, 3, 5} = (x = 1) or (x = 3) or (x = 5)"
      ]
     },
     "execution_count": 84,
     "metadata": {},
     "output_type": "execute_result"
    }
   ],
   "source": [
    "InSmallerSetDef = InSet(x, set_135).equivalence()"
   ]
  },
  {
   "cell_type": "code",
   "execution_count": 85,
   "metadata": {},
   "outputs": [
    {
     "data": {
      "text/html": [
       "<strong id=\"InLargerSetDef\">InLargerSetDef:</strong> <span style=\"font-size:20px;\"> <a class=\"ProveItLink\" href=\"../__pv_it/demonstrations/88c2c256acd1203921596fb1a77333ca92e4bf830/proof.ipynb\" style=\"text-decoration: none\">&nbsp;&#x22A2;&nbsp;&nbsp;</a><a class=\"ProveItLink\" href=\"../__pv_it/demonstrations/fe3b01a784410bb174207eeb5da735e7d1a4135e0/expr.ipynb\"><img src=\"data:image/png;base64,iVBORw0KGgoAAAANSUhEUgAAAlMAAAAVBAMAAACQ8XaDAAAAMFBMVEX///8QEBBmZmaqqqrMzMxE\n",
       "REQyMjIiIiKYmJh2dna6urrc3NxUVFSIiIju7u4AAAA6P00QAAAAAXRSTlMAQObYZgAABXBJREFU\n",
       "WMPlmF2IVVUUx9fM/Tz346hRBiY4XEsUGr1K0EMhF0HoQXAeEoOh5jKEZA44FOiDZVMPNjBM3owp\n",
       "BM2xlx6iusxD0weUSDWayNzmLWqc44MTgoMTRaaVt73X2vt87LP37h7orQ2euzwuf/t//nvtj3MA\n",
       "dC2/EZK0dK8H/9Pm7k/4Hwr3am5+akxPNdU7xRFj8mMJwPFkCziuIglYFtVyxLjKnpro9+RE1a+k\n",
       "Hvp9ztvB7m3Q+N1n7viSeuOafsh4z6VmZ2AUF0u+ZpKwI67CAM6+kV4fB4vmDPPrVjGrboBzh6Ip\n",
       "SP0hc3Ln6Hdd+za7vqPpwQDn2EWMcADSGB7QpmLPbj1Iq1nAKC6WfMBk1UtxFQZwV7vdEGC9Ve7F\n",
       "WWHVZoBVFC1U4ZbM+V5Ytf9yU2/Va/pCQazT4vHX/DKOZdyjTaaeT/OwxJ8o3zKDhTgl2QAGKK+N\n",
       "qzCAs6d+BAEO5t3ew4dCVXVcWHU/wCz5fXYSfpflfkxYRT8aq44YRHKsu5JHu/jlKJaofjyp56s4\n",
       "7LyfnGcBkzgl2QBmy9JQXIUBXMLr1cg+9rQXmYDSqoMezNbkUignoJP9F6uKwxar4HlZ8AUc9ml9\n",
       "KvWcnZQz6T0rGMUpydOm3MZQTIUJTFZx8NJPn/+AlbjogdYq1l6R4c8NEYxJqy6MP8iub8YrnPXu\n",
       "zl/68LTWqhP4aCwlg8M+ByEdkcZ6dtDNbexPvxWM4pRkEzjfHIqpMIFLo3M1BLuN/Mu5enRbKtWj\n",
       "VhVui+CzF8Q9tyWtega+Yn4fp7+8vY+3QR5m2C59HV5v8Snt4O19PYFVxzBkI7ITg6cg0BFiUM95\n",
       "VJNjZd+ngiPJKE5JDoPDKpZgKKbCBM54xTsIdjznbgGHNtgqt9aiVsndjjm/RtQdZP17GdZXNrZ8\n",
       "5tgR4l04432grapHMZwH+A6DFyGkI0JhvaSwxsstKE1awShOSTaBG2hVVIUZDHsR7EKGPEqv5j7y\n",
       "aOcRiFpVCf7TKrr5SMiq7j/ZZUYt8S4m1YM9hrVqN80YuQezZ/R1RBrvOY2nPHdYbO5GMIpTkg3g\n",
       "VA2tiqqwgLc0CbyCnrIYAM9Gq6osS+YLgAE8g7oNaRWbq/zUFRgXtgrgb6tV3VWnKp/I16EueOLp\n",
       "YT28ZQWTOCXZAL4OIaukChP4W4AzkwTeLba3lcFa1RexahsUqYDbnrAqdb6y5R4U0FWH7rvKWjUk\n",
       "yxnSv9F0pVXiXGDV+zQ69RzICejrCDGo5wLtTJ/AMKjgcDKJU5LD4JCKxyuVX3pVFSbwalZVHgen\n",
       "vAUooym9oN8B0w0ok1X3hfbCLnrwbtZFXbcD8kVye3kZrmirihZUeHIc5LIe6AgdX7BnWqkh80TL\n",
       "CiZxSrIBzNramAoTmFX2IVzWP64OiNfEXDVq1YIHLj9xTp88MQM3uYRRfnS5SWK6+jAq9sCrTd25\n",
       "im2uhV8zy/HX1QUuexPFu47SL9u1Ax1Bw56hmw4o6RnPCkZxarIBTM4qKkzgKcg/gOAb80sb6R/d\n",
       "bz4KW/XwusEROMx6PNhu34IcxxUqD01SBM7AXyMYTZ3arD2CsoJ1L1+ZG1XvIxaeFe8MYhVkMyHQ\n",
       "ETqC8p4hKxaIQTsYxanJBjDARPuCqsIELm467wVg0dlE5MUGFyW/creDLUrwYiN2KFIh8Mb3D9qh\n",
       "qH3ZAVhNtoJVFR2B1cnjr/BO6CRiizp+XRZYZU8yvtVC7EXVDlaTrWBVRRJw/HvVkj8CLVuk+16V\n",
       "sQzoonqj3zL29QTgWLIFHFORCCyb/xXUn+R5sEWFNck+7fV39mlP/wA2cKbZOTimIhHYX6L+i2/r\n",
       "5s+v+SQfjMeSfDAeSwDON5OB/wHzlRLQvgV7kAAAAABJRU5ErkJggg==\n",
       "\" style=\"display:inline;vertical-align:middle;\" /></a></span><br>"
      ],
      "text/plain": [
       "InLargerSetDef: |- x in {1, 2, 3, 4, 5} = (x = 1) or (x = 2) or (x = 3) or (x = 4) or (x = 5)"
      ]
     },
     "execution_count": 85,
     "metadata": {},
     "output_type": "execute_result"
    }
   ],
   "source": [
    "InLargerSetDef = InSet(x, set_12345).equivalence()"
   ]
  },
  {
   "cell_type": "markdown",
   "metadata": {},
   "source": [
    "<font size=3>We can show that the smaller disjunction $((x=1)\\lor (x=3)\\lor (x=5))$ logically implies the larger disjunction $((x=1)\\lor (x=2)\\lor (x=3)\\lor (x=4)\\lor (x=5))$, and thus that membership in $\\{1, 3, 5\\}$ implies membership in $\\{1, 2, 3, 4, 5\\}$. To get there, we proceed as follows:</font>"
   ]
  },
  {
   "cell_type": "code",
   "execution_count": 86,
   "metadata": {},
   "outputs": [
    {
     "data": {
      "text/html": [
       "<a class=\"ProveItLink\" href=\"../__pv_it/demonstrations/af52fba9a8a17184d39a503be45558bc5f4aae900/expr.ipynb\"><img src=\"data:image/png;base64,iVBORw0KGgoAAAANSUhEUgAAAO8AAAAUBAMAAACXC3dQAAAAMFBMVEX////MzMxUVFR2dna6uroQ\n",
       "EBCqqqqIiIgiIiJmZmYyMjJERETu7u6YmJjc3NwAAACgK8IjAAAAAXRSTlMAQObYZgAAAtBJREFU\n",
       "SMeVlk1oE1EQx//5aLLJfqT0KlIFxY9DCRWsitDetBf1kJOI5KggGhQJgaIBoUIppVAoCBajeGkP\n",
       "EkFEEOtSkUq95FYrVhb0oKIQQSJIoM6bt2tg897GLmR29u2837yZnXl5gNOA7rrcNfJDa5vywiO9\n",
       "wG+1rxEPw6y60u7ToafAUHhUDc5+iM1L8CNNBOfIT01oMX7u51meytSZxZUG1jpmcoYa3Le1lWew\n",
       "Pat8vzLcJjnCcQuYXRLqhtI23UKuigRb7BZiXQgNODt8Q4INTx2xLRy/5vXvImG4Qp1RmiYLyNVg\n",
       "nRH6gBDTQmjAcZYE/oIIx9mxIGfjnNOqrhoo1XgYfIwkx6oBS8cErtBt9ernayWV4wQjLtJvmXNK\n",
       "j1Z56MRImGbdInGUS4NMTI5VA45vVvoZ/IKm5e3bhqijY0viWuw4trm6DEo3l7NJcb3Cu9KUWBPb\n",
       "LvHKnCN3Sb7neZSUHaxowKbr/GLwJDHcRDvpqSJOcW7TJcQ550YROI5R91RXAq/T+wuslYE9rOjA\n",
       "wDMGF2hhMOvqbxxrciKrfq/0Ed7Fc1WTUPMNsvbGb0ItGLjnCXBBqLlSlGPM4/A/x8Dvrj72YLYC\n",
       "x5liohg4VoEPAqNjAjwpnga57/1P8aDjOCnL+BvkXaQasZ+s+99YtFquzY5PylXUDASpVoHPUsSu\n",
       "AFMNpNybSLuqiGVxwdwpFy6K61K6iYlQnusw2kFx4fE6guJSgakapxhMTXC6+LJ7908Lx5k867H9\n",
       "cjY1QbJlNsO7v93gPp6TTwPT8q4Bf4V9nsGUoJXy6kL4nySz988C9bnMFBb9LaoKa99EZTO8yPE7\n",
       "T0je9/dEf6vUgJ25Ay6DdVumX6Ly+u7fZyJsLX9bc/zc9gJr9nJ5hbeojQjbRKiAe4KXI4KohQbM\n",
       "iCjWwgO9wBEHAfM/DwJqP73AESeUj9s4+tjbOfoQ+C9pLd1Wy47PsgAAAABJRU5ErkJggg==\n",
       "\" style=\"display:inline;vertical-align:middle;\" /></a>"
      ],
      "text/plain": [
       "(x = 1) or (x = 3) or (x = 5)"
      ]
     },
     "metadata": {},
     "output_type": "display_data"
    },
    {
     "data": {
      "text/html": [
       "<a class=\"ProveItLink\" href=\"../__pv_it/demonstrations/ca2a8fb05debb2d2dd19259959b70e948240cccc0/expr.ipynb\"><img src=\"data:image/png;base64,iVBORw0KGgoAAAANSUhEUgAAAaMAAAAUBAMAAADSA0++AAAAMFBMVEX////MzMxUVFR2dna6uroQ\n",
       "EBCqqqqIiIgiIiJmZmYyMjJERETu7u6YmJjc3NwAAACgK8IjAAAAAXRSTlMAQObYZgAAA45JREFU\n",
       "WMPFl09IFFEcx7/u7Lrb7uwfvEa0UZB20CUhMwL3Vl6qg0FF1HYICqKWQkSQXAgMRGxJEBYMLbrY\n",
       "IQ0iAkkHIxS77M2UtIE6WBRYiXUQtvd+b9aV2Tfj82AO7MxvZ77zee/3e7/3m/eASB5OR6Vpv+Mi\n",
       "vll258f/Bwvxe+fnqLXfkIv13FgMHns39VGp+HP9K2UwUJFVBgc/VvQL8XMH2FUDmCErRmwy5eJJ\n",
       "aCvQh0oyeiNoyrSRLG7lVcFAIK4Khq9QSJA4nJUHfn8dc0lLc3sfP83yk4N4ADgLNHDTwxsN02tz\n",
       "Uq1/FdGMKhhojauCETx8FyQOmA6wT8wl/Qy3qviph2ImF58D6ky8o2DGuczgZq9U621BdEgVjMg8\n",
       "46mB4aEzEy/BxSU8LQ60l8LoIB4xUBdDMFnMoGbqTcaJzBJPEQwtyDxRBAuXmLidZ1lb7YkGqUuN\n",
       "VJ9YqyEKIxdP3f5yJ13Ge2BAo85dZ79xyrCsA1i/pw5e5C4pgj0L7TESv2F/3uJDupvH5Bkd2ZJL\n",
       "82SysOwmg4n1RPh+gE/YY6QdttLpN0t0msYBliNUkUJ5OThydEAZrKe5Sy7gjeKQEVkhcRf7cxxN\n",
       "xinpKF0jsw04QAYTa4a25jUlhQmVlBD+NDyUKIGUAxitSVWwhuBWwHhN4hZmGRhzmEt7yZy2CikX\n",
       "6whJPgs5PoGXKbAZq0L7kg5g+C6qgq+QS8pgDJpc3EL2H1eXdqW0VLFlIFo+k3h6Wy2jH0fWW5aA\n",
       "IyZCq4pgPbHBpc3AOAQ0Jbm4iyrkTzHOIuXjJZdOim4MBVDMD9Yb+t5ZWfwEYuqynnpFJfoGceX5\n",
       "IQFH18glJXBlTW7wfNoNvLEXF9goGVzMy8MN/zI6pKMkZjFezKI4iyuNTvgN26olAb9pzWKE9ohg\n",
       "81ksAftGEVhTBTP5ennYDAyWKd0kZtXUuxpaLl82dnJ8n7CresSViU+nJsqWjUv1jdUsixLCv2rR\n",
       "L1ZNZeBwnr5LamCKgCIYXxG+RGKWAfrBjvYFO+vh5WH2zmNrrWGtV5h4sm3qkR02Uij8ZSKRNyjW\n",
       "9Ywc3Jx7CVUwtIlfeVVwpK/GoF44LoisKiPUVkK4iqet63fr2rsTYC52XDBSkGw1yFVs/5rP7QSY\n",
       "xOMuz2fsN1zE1hemdITMHQCT2G0LOK66U5M15LBT214wiV22yOGt7KcXt7Cf3jYwF/8DEex5gtQg\n",
       "FnkAAAAASUVORK5CYII=\n",
       "\" style=\"display:inline;vertical-align:middle;\" /></a>"
      ],
      "text/plain": [
       "(x = 1) or (x = 2) or (x = 3) or (x = 4) or (x = 5)"
      ]
     },
     "metadata": {},
     "output_type": "display_data"
    }
   ],
   "source": [
    "# notice we can grab the disjunction expressions from the equivalence expressions above:\n",
    "display(InSmallerSetDef.rhs)\n",
    "display(InLargerSetDef.rhs)"
   ]
  },
  {
   "cell_type": "markdown",
   "metadata": {},
   "source": [
    "<font size=3>We use the Or.conclude_via_some method to show that the smaller conjunction allows the derivation of the larger conjunction:</font>"
   ]
  },
  {
   "cell_type": "code",
   "execution_count": 87,
   "metadata": {},
   "outputs": [
    {
     "data": {
      "text/html": [
       "<strong id=\"small_disj_gives_larger_disj\">small_disj_gives_larger_disj:</strong> <span style=\"font-size:20px;\"><a class=\"ProveItLink\" href=\"../__pv_it/demonstrations/af52fba9a8a17184d39a503be45558bc5f4aae900/expr.ipynb\"><img src=\"data:image/png;base64,iVBORw0KGgoAAAANSUhEUgAAAO8AAAAUBAMAAACXC3dQAAAAMFBMVEX////MzMxUVFR2dna6uroQ\n",
       "EBCqqqqIiIgiIiJmZmYyMjJERETu7u6YmJjc3NwAAACgK8IjAAAAAXRSTlMAQObYZgAAAtBJREFU\n",
       "SMeVlk1oE1EQx//5aLLJfqT0KlIFxY9DCRWsitDetBf1kJOI5KggGhQJgaIBoUIppVAoCBajeGkP\n",
       "EkFEEOtSkUq95FYrVhb0oKIQQSJIoM6bt2tg897GLmR29u2837yZnXl5gNOA7rrcNfJDa5vywiO9\n",
       "wG+1rxEPw6y60u7ToafAUHhUDc5+iM1L8CNNBOfIT01oMX7u51meytSZxZUG1jpmcoYa3Le1lWew\n",
       "Pat8vzLcJjnCcQuYXRLqhtI23UKuigRb7BZiXQgNODt8Q4INTx2xLRy/5vXvImG4Qp1RmiYLyNVg\n",
       "nRH6gBDTQmjAcZYE/oIIx9mxIGfjnNOqrhoo1XgYfIwkx6oBS8cErtBt9ernayWV4wQjLtJvmXNK\n",
       "j1Z56MRImGbdInGUS4NMTI5VA45vVvoZ/IKm5e3bhqijY0viWuw4trm6DEo3l7NJcb3Cu9KUWBPb\n",
       "LvHKnCN3Sb7neZSUHaxowKbr/GLwJDHcRDvpqSJOcW7TJcQ550YROI5R91RXAq/T+wuslYE9rOjA\n",
       "wDMGF2hhMOvqbxxrciKrfq/0Ed7Fc1WTUPMNsvbGb0ItGLjnCXBBqLlSlGPM4/A/x8Dvrj72YLYC\n",
       "x5liohg4VoEPAqNjAjwpnga57/1P8aDjOCnL+BvkXaQasZ+s+99YtFquzY5PylXUDASpVoHPUsSu\n",
       "AFMNpNybSLuqiGVxwdwpFy6K61K6iYlQnusw2kFx4fE6guJSgakapxhMTXC6+LJ7908Lx5k867H9\n",
       "cjY1QbJlNsO7v93gPp6TTwPT8q4Bf4V9nsGUoJXy6kL4nySz988C9bnMFBb9LaoKa99EZTO8yPE7\n",
       "T0je9/dEf6vUgJ25Ay6DdVumX6Ly+u7fZyJsLX9bc/zc9gJr9nJ5hbeojQjbRKiAe4KXI4KohQbM\n",
       "iCjWwgO9wBEHAfM/DwJqP73AESeUj9s4+tjbOfoQ+C9pLd1Wy47PsgAAAABJRU5ErkJggg==\n",
       "\" style=\"display:inline;vertical-align:middle;\" /></a> <a class=\"ProveItLink\" href=\"../__pv_it/demonstrations/3f097b30a5a091526bb7ef39eb90191ec890173a0/proof.ipynb\" style=\"text-decoration: none\">&nbsp;&#x22A2;&nbsp;&nbsp;</a><a class=\"ProveItLink\" href=\"../__pv_it/demonstrations/ca2a8fb05debb2d2dd19259959b70e948240cccc0/expr.ipynb\"><img src=\"data:image/png;base64,iVBORw0KGgoAAAANSUhEUgAAAaMAAAAUBAMAAADSA0++AAAAMFBMVEX////MzMxUVFR2dna6uroQ\n",
       "EBCqqqqIiIgiIiJmZmYyMjJERETu7u6YmJjc3NwAAACgK8IjAAAAAXRSTlMAQObYZgAAA45JREFU\n",
       "WMPFl09IFFEcx7/u7Lrb7uwfvEa0UZB20CUhMwL3Vl6qg0FF1HYICqKWQkSQXAgMRGxJEBYMLbrY\n",
       "IQ0iAkkHIxS77M2UtIE6WBRYiXUQtvd+b9aV2Tfj82AO7MxvZ77zee/3e7/3m/eASB5OR6Vpv+Mi\n",
       "vll258f/Bwvxe+fnqLXfkIv13FgMHns39VGp+HP9K2UwUJFVBgc/VvQL8XMH2FUDmCErRmwy5eJJ\n",
       "aCvQh0oyeiNoyrSRLG7lVcFAIK4Khq9QSJA4nJUHfn8dc0lLc3sfP83yk4N4ADgLNHDTwxsN02tz\n",
       "Uq1/FdGMKhhojauCETx8FyQOmA6wT8wl/Qy3qviph2ImF58D6ky8o2DGuczgZq9U621BdEgVjMg8\n",
       "46mB4aEzEy/BxSU8LQ60l8LoIB4xUBdDMFnMoGbqTcaJzBJPEQwtyDxRBAuXmLidZ1lb7YkGqUuN\n",
       "VJ9YqyEKIxdP3f5yJ13Ge2BAo85dZ79xyrCsA1i/pw5e5C4pgj0L7TESv2F/3uJDupvH5Bkd2ZJL\n",
       "82SysOwmg4n1RPh+gE/YY6QdttLpN0t0msYBliNUkUJ5OThydEAZrKe5Sy7gjeKQEVkhcRf7cxxN\n",
       "xinpKF0jsw04QAYTa4a25jUlhQmVlBD+NDyUKIGUAxitSVWwhuBWwHhN4hZmGRhzmEt7yZy2CikX\n",
       "6whJPgs5PoGXKbAZq0L7kg5g+C6qgq+QS8pgDJpc3EL2H1eXdqW0VLFlIFo+k3h6Wy2jH0fWW5aA\n",
       "IyZCq4pgPbHBpc3AOAQ0Jbm4iyrkTzHOIuXjJZdOim4MBVDMD9Yb+t5ZWfwEYuqynnpFJfoGceX5\n",
       "IQFH18glJXBlTW7wfNoNvLEXF9goGVzMy8MN/zI6pKMkZjFezKI4iyuNTvgN26olAb9pzWKE9ohg\n",
       "81ksAftGEVhTBTP5ennYDAyWKd0kZtXUuxpaLl82dnJ8n7CresSViU+nJsqWjUv1jdUsixLCv2rR\n",
       "L1ZNZeBwnr5LamCKgCIYXxG+RGKWAfrBjvYFO+vh5WH2zmNrrWGtV5h4sm3qkR02Uij8ZSKRNyjW\n",
       "9Ywc3Jx7CVUwtIlfeVVwpK/GoF44LoisKiPUVkK4iqet63fr2rsTYC52XDBSkGw1yFVs/5rP7QSY\n",
       "xOMuz2fsN1zE1hemdITMHQCT2G0LOK66U5M15LBT214wiV22yOGt7KcXt7Cf3jYwF/8DEex5gtQg\n",
       "FnkAAAAASUVORK5CYII=\n",
       "\" style=\"display:inline;vertical-align:middle;\" /></a></span><br>"
      ],
      "text/plain": [
       "small_disj_gives_larger_disj: {(x = 1) or (x = 3) or (x = 5)} |- (x = 1) or (x = 2) or (x = 3) or (x = 4) or (x = 5)"
      ]
     },
     "execution_count": 87,
     "metadata": {},
     "output_type": "execute_result"
    }
   ],
   "source": [
    "small_disj_gives_larger_disj = InLargerSetDef.rhs.conclude_via_some(\n",
    "        InSmallerSetDef.rhs, assumptions=[InSmallerSetDef.rhs])"
   ]
  },
  {
   "cell_type": "markdown",
   "metadata": {},
   "source": [
    "<font size=3>Then re-express that judgment as an implication:</font>"
   ]
  },
  {
   "cell_type": "code",
   "execution_count": 88,
   "metadata": {},
   "outputs": [
    {
     "data": {
      "text/html": [
       "<strong id=\"small_disj_implies_larger_disj\">small_disj_implies_larger_disj:</strong> <span style=\"font-size:20px;\"> <a class=\"ProveItLink\" href=\"../__pv_it/demonstrations/c55d478df2f6bf868279d2b0848b2dd8c9335a7d0/proof.ipynb\" style=\"text-decoration: none\">&nbsp;&#x22A2;&nbsp;&nbsp;</a><a class=\"ProveItLink\" href=\"../__pv_it/demonstrations/09501c0f37798f2b7953133c1359065288d7063c0/expr.ipynb\"><img src=\"data:image/png;base64,iVBORw0KGgoAAAANSUhEUgAAArcAAAAUBAMAAABlpAgtAAAAMFBMVEX////MzMxUVFR2dna6uroQ\n",
       "EBCqqqqIiIgiIiJmZmYyMjJERETu7u6YmJjc3NwAAACgK8IjAAAAAXRSTlMAQObYZgAABLFJREFU\n",
       "WMO9mV+IG0Ucx7/5c5fkNomhb0WkJxVahfZCCx61Qu9F1BctpQVRsEEQLEgJ9uE4KF7woWop9bRQ\n",
       "CSrGU4QWtPVNqKZLi5zUF1/kbPHqgj70pKcnrVqlNc78ZiZXd+e3O4HtzcNmspn97Gd+O/92AlS/\n",
       "BZeGg/CZJbYs9odPDAROoEcviKHvx6ppJ4G/4X/H5tD38mlrserW7Q1kw3dmwJ/4axsRcBzdasLQ\n",
       "y+0ztahJGtrAWud4jPyQOa7AnzKs533gAuVq8pChq+wtbhHDt1Du9IupKxjw3t41Aw47Be4mDP0c\n",
       "cte1ScrawCvO8Rjq9eoErszYm8D6MVGlXFPm75WHeXm4aL/tdAM3gHGZzco7V+RlDBgfbggMOJQu\n",
       "DmDC0N8F9miTlLVR2OUcj5EtL4PARaa54EdRpfJOmVsjD0fk4ai96CMT+Af4ih7oqDgUffDgUYrY\n",
       "zpUTXZM5OoAJQ38KGAuUScraWJp1jkeWjgJ8BTFVwkem8eflA6222KH+lig2YXrV4zLDgSm4CqzS\n",
       "3WYIbLmbcPRTPsZq2iRdbdRnneOhgivAU+Jj7qWfDzStVdpGCgLkyQdaEJny5OZHxyO4r+uiz1Ct\n",
       "95m2yIE3zb9pwCqZjsjSLSa8Nt7wtUm62pVg1jke2YWpGoG/FL/XK68W5bieO0lpZqVKlyjb0s3L\n",
       "E6uU8/i+eVh+eYjKnqACP70uCldoaiiKPkZzKAf+Ar9NaHDpNUp/K6Xb6UkmvHb+mjFJV3sOs87x\n",
       "8PzqdQIfEgw/dzMfWNvLC5SdBO4jgwbwMHb4T0RH+93igVInKTSRpY7GguG1DFh3zo8RS7eY8PTi\n",
       "qDFJV7tOwXWNBz4nsMCX4Z1mRrp1qvfoBcuQuL2PM7ZhZo+PzDJNVS29YGHBKP1rwDpd2B1Lt5jw\n",
       "9LacnpZT1x6uUXCd4/F+IMFUr7uasVUqNXINAwP+ihT9FTjbMFU6jgeNpQ2c7cil6P+CW10fxNFt\n",
       "Jqy2HAaNSZra53FbcJPADwA7JiT4kPy2jtbFZowZXanSY6r2nWK/4yLzuyKoMUbeET1fWuZVZ/wF\n",
       "LdNxbeChDko3NbikTp8MIvQkE1Z7H6qBMUlT+7l2+4+3XePxtGi5vgSLAXzYn0bBt7YXNYDjs/n+\n",
       "lPNiYRkHQ0WfoTlaTyPePU0z5djAJeHU6YNpCuoglm4z4eiZOgqBMUlTW6RdzvEQvecwTWhicfFk\n",
       "46xlB2Ja4o+p/Joj6knOIP+ntxzZ2ligBWOpruq3UXkx4OoMvgv6YBpxdT04us2Eo1/Zum1j3yRN\n",
       "bfUsHOOxiMqzBBYN/dzk3HuRGr2194Q494F+n9PLnBbKGw5OLYTL5tvviNFnRPUlqGUOC17cIt5R\n",
       "Dbj/NhlDt5lw9FO93o0VkzS1sb23yTUe1WP3+wRmX/f0HKpK+/EvqHoOVemqXhO5gGUKkl5/bSax\n",
       "dGNyx7RdwexGBbX7psvWik6h95SBwIn08AWx9HGsknYiuBvze3hn0It5rHoBatmQcQAn0iMXdAcw\n",
       "uWPaieC4zfLuANvZnvOuM1eDOHoX7nQvWC3tRHDM3xqVQf7WuDzA/yUV+xNfGuCCGPplrJp2PPg/\n",
       "pxN52XLKp7QAAAAASUVORK5CYII=\n",
       "\" style=\"display:inline;vertical-align:middle;\" /></a></span><br>"
      ],
      "text/plain": [
       "small_disj_implies_larger_disj: |- (x = 1) or (x = 3) or (x = 5) => (x = 1) or (x = 2) or (x = 3) or (x = 4) or (x = 5)"
      ]
     },
     "execution_count": 88,
     "metadata": {},
     "output_type": "execute_result"
    }
   ],
   "source": [
    "small_disj_implies_larger_disj = small_disj_gives_larger_disj.as_implication(\n",
    "        hypothesis=InSmallerSetDef.rhs)"
   ]
  },
  {
   "cell_type": "markdown",
   "metadata": {},
   "source": [
    "<font size=3>Now we use our earlier equivalence definitions to back-substitute:</font>"
   ]
  },
  {
   "cell_type": "code",
   "execution_count": 89,
   "metadata": {},
   "outputs": [
    {
     "data": {
      "text/html": [
       "<strong id=\"small_membership_implies_larger_disj\">small_membership_implies_larger_disj:</strong> <span style=\"font-size:20px;\"> <a class=\"ProveItLink\" href=\"../__pv_it/demonstrations/d0ecb48d7ad57a84bc51fa899e9c27a0b197d3bf0/proof.ipynb\" style=\"text-decoration: none\">&nbsp;&#x22A2;&nbsp;&nbsp;</a><a class=\"ProveItLink\" href=\"../__pv_it/demonstrations/23708fbff64579952de3e338277dc1be6e31e3370/expr.ipynb\"><img src=\"data:image/png;base64,iVBORw0KGgoAAAANSUhEUgAAAi8AAAAVBAMAAAB8hBOVAAAAMFBMVEX///8QEBBmZmaqqqrMzMxE\n",
       "REQyMjIiIiKYmJh2dna6urrc3NxUVFSIiIju7u4AAAA6P00QAAAAAXRSTlMAQObYZgAABR5JREFU\n",
       "WMPlWFtoHFUY/vZ+n0ZQH2LRJbU1BaurD/pQKWshoFBoHyoVC3YVKVaLLBYapNqqoAZKNCpViomN\n",
       "Pigi0iWg1gsaRWyxFJa8SU06FVopJBix1Esx6/nPOTNzZuac6Yx59EBOzux++8033/z/fy6ArhUH\n",
       "YWrZdTb+t83aFfFl+Wrtx8fMv1gf/KDyrBGb6SQAr0+gYpnEMmAWfQSHDzXE6FF7Ixut0Xq5xWxM\n",
       "NajpnB738+qtwEnEAnNRIWKjio2xifMvZ1eFiWUrtcni6+XVFDJ/itENvb9Y/6aWz0BFLFaL5yC/\n",
       "blL3uD5Op3FkEuc9mPiFHsxFhYhNKvA04hKner0xSaw3Zn58SV6daeAPMdp1qmMy5nk9k2CZ4HFD\n",
       "mopd6upabNpGqg8lQuA76kZhBgtRAWKTCtRWIi5xfvy0o9htLwwPt7yIKTrGvDOJS2I0zXvVmJzz\n",
       "ivaZspJYzvLXRL8uUOUu6N9rqo3qZVh9NN5E3X6YwUJUgNio4thuxCWu8v6s+tHQnC+VXGPgplLY\n",
       "mKxM6ko7ypj8pBO679LgUz00v4TqReAxJyfK9QiwEBUgNqoYY8bEJBbGEPHCT5//SFFmPQGTMb+M\n",
       "if8nRm9k/auaFKqxe1mzJz+a0BpT4kpuZ3/baTADAxgFhn6NP3XdiUYCOxJ9jUQFiE0qih0yJh5x\n",
       "dWSmyYmtseIzhZZ/7qi2fMZ89qRcujyIr5mTr4iLm4apHRCZmmNT3wW81N1LF2/spPawZ0yRZ2jB\n",
       "CbD74YFLHLtT5vtR9rAv8hF7NUOQYFeiSsxFBYhVFSrxAsiYCGIFnLMrf3Pikl1aKpMnOc+125r+\n",
       "iKn1uzWF8eZ9VesOPpUXWP82jtgfaiMmw0O81kWVh/4eGMA0eeBOPpoFfoAEuxL9BbU/RGxSMcaN\n",
       "iUuMbZzYQk7UibvJM/4GhvbBbwyucla76cusO65Gn/UQaUqxzsZ9hhqT5esiqy2nTLJZC06T5ZtF\n",
       "ojhTJgO7Ev2NiQoQG1RkmtyY2MS3dgTxCvGcHysl3xcxXwA7GjLDSizM8tMqy5dvOZKAfyKNwSq8\n",
       "7hqjBVPaS/3pRqnhgVeEKowQFSA2qLgAxZgrEX8PWk1x4s1NwaoUoC2qMT1bGpNqIb3k1pg1Ii/F\n",
       "MomCGNmL4htRCnZ7xpTFbPEJ2k4Qu2CZ3dOyMLLnfV9Mc60CPLCUqBALUQFiVYVCfNfAwG/rIokV\n",
       "8LUsYmwizthnUKNMSXcNs9I1wAGeSml261ZgVnoPbvHdUFvEnDZiRI1E7p6uU/a04HuB006NxNZR\n",
       "OGBXotKEqACxUQVWIi4xy+a9XPHRxg659drjN6bGHulXuvEILRloVKnjuY5/HePM8Wx6K/+eWwzv\n",
       "y4gFaTHdZ48LEWze1IErTx2+md14rbjatB8O2JPoNS4qSGxUQT7GJJ5C8TpOPD+7MCiI5h+wFWPS\n",
       "31waRIFIygOrJ8VoavyWwAKv2pRbblbFT83NjITKKbEgL1FioqWY1oHzvV6P3fgReVV3wZ5EZY9P\n",
       "ooLEJhU41DsRl7iy9lvbIxbtg23qloC3DQiPVGMquMKWQM4Eon0ll3GdqCMPee+KHQMcII5U8Z+I\n",
       "g5vIPm8FEB4l2USKFliJGrZv8t7dBOCJBCqWRRw8j7FcMm+kP4/JRfgf2sRvj5B0HvHBIeIoFcsi\n",
       "dppzglf0vPKyuz/pQVUu5kGVXu65BMRRKpZF7K4Vk5/5RhxtHkxwqFhMcgJ5MIGKpMT/Ajqg5moJ\n",
       "295OAAAAAElFTkSuQmCC\n",
       "\" style=\"display:inline;vertical-align:middle;\" /></a></span><br>"
      ],
      "text/plain": [
       "small_membership_implies_larger_disj: |- x in {1, 3, 5} => (x = 1) or (x = 2) or (x = 3) or (x = 4) or (x = 5)"
      ]
     },
     "execution_count": 89,
     "metadata": {},
     "output_type": "execute_result"
    }
   ],
   "source": [
    "small_membership_implies_larger_disj = InSmallerSetDef.sub_left_side_into(small_disj_implies_larger_disj)"
   ]
  },
  {
   "cell_type": "code",
   "execution_count": 90,
   "metadata": {},
   "outputs": [
    {
     "data": {
      "text/html": [
       "<span style=\"font-size:20px;\"> <a class=\"ProveItLink\" href=\"../__pv_it/demonstrations/4380adccef6bc4d9a41069256712d3192020b7e40/proof.ipynb\" style=\"text-decoration: none\">&nbsp;&#x22A2;&nbsp;&nbsp;</a><a class=\"ProveItLink\" href=\"../__pv_it/demonstrations/4dddb825b6167f4d7084743ceef410b0398da0470/expr.ipynb\"><img src=\"data:image/png;base64,iVBORw0KGgoAAAANSUhEUgAAAR0AAAAVBAMAAACJYCeRAAAAMFBMVEX///8QEBBmZmaqqqrMzMxE\n",
       "REQyMjIiIiKYmJh2dna6urrc3NxUVFSIiIju7u4AAAA6P00QAAAAAXRSTlMAQObYZgAAA19JREFU\n",
       "SMetVttLFFEY//a+M7M7q2EGBinbBYPUVXouEXxuIUIoysVAEgKjByXC2noIIco1EBGE1v6AWnzp\n",
       "9pBIZhLh2lt0cZ7qRTESMi12O2e+c2bm7Mxsu9EHO/PbM+f8zu98l3MOgKPdTIObdX2GCi3cDNWY\n",
       "v0Vz+/QlU2bcTGdl/OoAVGdynduXMeHf06mTCIJ3/fsBvKkK3fNNUBc/xdahTE0kDJ804fuC1kXa\n",
       "DrlRTdJHO3Of0gTHMXyeYpE4TrpUmR7sx1nWQNpBNAu+n7xPaA7fjcVtPq2LHnVpmTFFNyGGEoLT\n",
       "H6A6PSZLK0AtotUEbPE+K0zPwNucXU+4Z3jI4p8xxiQ3QAxDFLGsm9kZe5g4C/bjLHsAlnOYf1n4\n",
       "wfoqt5ieOXNaM7/PakK8xsx0Z/Fy0NNtqxKDRdQzqMEyLwQjXlLQrmf947P3eb2oNHDRo17Bd2T0\n",
       "HaGUaqzeYAnpwCLqIXadw6+8fG9zPa/vHCDPcTpXJjwS0sPxxpzllcCkTLYiCGjKjlE33mHdvqNi\n",
       "B5ZIStQjb/N6vcza1DzXcw5eZLGsJU0qyHpgkwaTr65kZStZjnrIr88aH995cGFp7xRZeC2RCmlg\n",
       "HoSg0RYg3gwSZ6sQQAp/fT8xHfXkSvR49nHURj5FRoS9k5I7sHRfBZElbo6pxcajFj3eX+SxSEMe\n",
       "y2NUkiUbJWdSchDY5GG8Tzx10SpHWcKqsbPMiP6JskyD5wC9CQwy10NCS3cn/HeCpb0lTResTLEC\n",
       "11NP/KMZ+dOPhnIcWCJJQU8HXRi1osb0+Objbbv0ZXhS4C1g/vi0VYjqY1rAub48SQgVdERWOFRS\n",
       "XzLuTE4sYn35MxBFPbstleZB/3hJdqWwvh4leuEJ5ltC1LOqgUo3rnCa7D86moXw3pL9h5W3Ewv2\n",
       "4yyPp+4twgZVP0r3n40UXytF5Ei6kcNp1z6tN+Nupy48tOo50tiXhmE63YP4adCRcnheK9Hzkp1O\n",
       "Dix6P4NlsFjcgtA16tL4wSwikHp/p3U0O91qPy/kCeG8wDjYkaAnZ781TAjnhTj2GJRDrufpuDE3\n",
       "OKBKz9Ma+9hMWTT51/vPOthR9fcfY6yaL4fc7z9Brtm8tppoJlvhfW/ANjYM5ZDc4ErV8T/uz75/\n",
       "uD//AdzeIZoFBTsOAAAAAElFTkSuQmCC\n",
       "\" style=\"display:inline;vertical-align:middle;\" /></a></span>"
      ],
      "text/plain": [
       "|- x in {1, 3, 5} => x in {1, 2, 3, 4, 5}"
      ]
     },
     "execution_count": 90,
     "metadata": {},
     "output_type": "execute_result"
    }
   ],
   "source": [
    "InLargerSetDef.sub_left_side_into(small_membership_implies_larger_disj)"
   ]
  },
  {
   "cell_type": "markdown",
   "metadata": {},
   "source": [
    "<font size=3>This gives Prove-It all it needs to prove the rhs of our earlier instantiated axiom, $\\forall_{x\\in\\{1, 3, 5\\} } (x\\in\\{1, 2, 3, 4, 5\\})$:</font>"
   ]
  },
  {
   "cell_type": "code",
   "execution_count": 91,
   "metadata": {},
   "outputs": [
    {
     "data": {
      "text/html": [
       "<strong id=\"subset_eq_def_specialized_rhs_kt\">subset_eq_def_specialized_rhs_kt:</strong> <span style=\"font-size:20px;\"> <a class=\"ProveItLink\" href=\"../__pv_it/demonstrations/4f565f83be0a0053a6d4d360cd458fe4406cf1f10/proof.ipynb\" style=\"text-decoration: none\">&nbsp;&#x22A2;&nbsp;&nbsp;</a><a class=\"ProveItLink\" href=\"../__pv_it/demonstrations/11593fb717dbfd3127bae6e11315d921cec441280/expr.ipynb\"><img src=\"data:image/png;base64,iVBORw0KGgoAAAANSUhEUgAAAQAAAAAXBAMAAAAW+IzCAAAAMFBMVEX///8QEBCIiIhmZma6urrM\n",
       "zMxUVFQiIiJERETc3Nzu7u6qqqp2dnaYmJgyMjIAAAAcRTyBAAAAAXRSTlMAQObYZgAAA9dJREFU\n",
       "SMe1llloU1kYx/9ZbpK7JBVGH1SQaECwioQpLowVqz6IIFgR1IeCO1gfJPgwxQUp6NBUHybMPEwF\n",
       "pZcZ6EMRLYiIIlgrKNSCVxRcQA24PAgzlGGmaAvG76y5N0mF63Ihud8538n5fufbcoBv9Tz0Qi3f\n",
       "2vzFls43nL04HHKbte2AXQLKbPA8xA+t7obTLwOjv1b+IqVzY2fUpJEX78wzYxUQY5Y7gXts6l0I\n",
       "gEyp4fRd9mXPkZC7cL+NS2YeN1VskrvEO1KpkLucAvMb0MdWdYeJNaYFGLgzKQYxF5EZXIpOoakg\n",
       "l8yXAJk7iyABnCwyLr2GQgAcCYyedHWVqx5IS4BIAYkPXIrPRJNYAPOFBEjwbw5gzUB6dHDwjxD2\n",
       "zYJ/tKM5EAIFkJlE4n+lUSFwMvUAeA28LxaPhwCIUiZZCzrXjfBYv0NDABZwJVpq96ca4HmOKsDh\n",
       "MboN7Ad6AyY6PBg8KZzcQZa7+897xmKtTdF5LuBx9gTfqpqQh2oANsuyNO/+JEGyCiDlmv/R2nEm\n",
       "vwDWwyoHfDwHRgt3z2qsZFGsTJAlXeVJypdR3Hc38q30r+xZNQA/a2m+qAcHCoCeHvq8YsJV2hFR\n",
       "VSfWjRYPNuHEOUArL+74FUpTWzNGaDsXRTHY8g89TGX0lIIAsbw2FhG1ecUPsIaWJw6TsJPIvKRO\n",
       "6WuD8AFAeKAdtQDAv2LQp3eM13ggp/xZQmqKH25YA1C0WJd4CwFglreRMLJsYXucU/sALLZr/Mec\n",
       "6wNgIYAhUzxSjdyBAICdx1kuNE1KAHtvy5ofsnxuHnnAlTmwgT69+yi33UPJtgxqAJayH5ht6W4f\n",
       "AEvC69Fx8PqLZaepgg5gkUDsrtZDRHqAznlCVQElIS6TNQN/UwMXRTIcDAEpP8CarQw5ecSnUuOm\n",
       "yJtjQYAo2bpErObxseUF6yND8qgPcInDMCV+R3q26gOtzEv8GNS4theLxaxxElWA/iHWVi0qmu2q\n",
       "DEhl7WnOyb+vgVOuDyC2++NqJI9SI6pUKgV0Md36llMQkvPrhMeUMFv3ugrgDYNkWmPckB1Ke4Ay\n",
       "oJ/OGSmZkz4P1LTiTT3+Vsyf67o03XpJK2UrVn213yk7cNpVDtgFmKfJ1AO3z3Vc8no1B6b7M7ql\n",
       "Jd0yHNRLw0EARyXRwKORUeCMBDBXTGSNuehY0oktQxhr9ZchUqXP3wcsnZh/ok6qKsV94GJNn6cc\n",
       "0LZs8RrSpfH5C0lGnS2tp7x6Ke27EbGG0ttgJ2XrmhiVagGmuZLh8hfcCdONvKnyzfMjJ8Le+L7m\n",
       "+a3+KMa972btE5iLDY4+RCJTAAAAAElFTkSuQmCC\n",
       "\" style=\"display:inline;vertical-align:middle;\" /></a></span><br>"
      ],
      "text/plain": [
       "subset_eq_def_specialized_rhs_kt: |- forall_{x in {1, 3, 5}} (x in {1, 2, 3, 4, 5})"
      ]
     },
     "execution_count": 91,
     "metadata": {},
     "output_type": "execute_result"
    }
   ],
   "source": [
    "subset_eq_def_specialized_rhs_kt = subset_eq_def_specialized.rhs.prove()"
   ]
  },
  {
   "cell_type": "markdown",
   "metadata": {},
   "source": [
    "<font size=3>And finally we can substitute in for that universally quantified expression our desired subset expression:</font>"
   ]
  },
  {
   "cell_type": "code",
   "execution_count": 92,
   "metadata": {},
   "outputs": [
    {
     "data": {
      "text/html": [
       "<span style=\"font-size:20px;\"> <a class=\"ProveItLink\" href=\"../__pv_it/demonstrations/6577f865f817e65751f8b29d00097499a3e37c630/proof.ipynb\" style=\"text-decoration: none\">&nbsp;&#x22A2;&nbsp;&nbsp;</a><a class=\"ProveItLink\" href=\"../__pv_it/demonstrations/f913d6593ccaa86a1f2a4b5b4827bd8c1f29873d0/expr.ipynb\"><img src=\"data:image/png;base64,iVBORw0KGgoAAAANSUhEUgAAAM0AAAAVBAMAAAAX/3cYAAAAMFBMVEX///+IiIi6urrc3NxERETM\n",
       "zMwQEBCqqqpUVFQiIiJ2dnYyMjLu7u5mZmaYmJgAAABN0h6tAAAAAXRSTlMAQObYZgAAApRJREFU\n",
       "SMedlk1oE0EYht80xk022VDwqphTzwte/CHqwUtBMAdPQqH4UxQFcxIPCtWDUMRWEcFFxQWLxIIY\n",
       "8KAUtFvwEL2YgiLYbtWLeJAqFYT+4HZmd3b+drOoA5l9s5sn73wz3zezAKqL6NmGtqbczAJSWmHO\n",
       "o5fKdNaPBhqJW9lASus7EY7up3wvPzXZjFT5e+EDYLWT4ShAxT/Q0FEyD+z60hsi9+apNK+TzjjD\n",
       "HtRh/InU5iBw2VPavjmOcwtJoANzWUeB2+x6Nlgl/aMY67TW2YPtTayweFpbIHz2POARqMACMKKj\n",
       "yJ1kYvqSLfugGmMDNaxFqigGT9pTKD4COAVM2BqKvc+ZGA37FB/w4BUfq9nLZ8bDREND4f6Fz2uX\n",
       "+SxtI7w5HH4poZcPafc9Da3asc/4l/ekfxj+X1vBdt9j1CYvv8yTa6fkowHoW9XRWcQ+B7GvBvyg\n",
       "8lxDxXJHuRwknxeheiX56EBpVEdd7kOGS6Ivd4HDN6FNw0g8DfhEFrh4Q5u3BODrqNGQfKxfpBvr\n",
       "ZxXPsR3AoWjNrwJPSMwRYfZrW4TwyXV19E1M0Smm1VWmERf3y1jgxT6nSTweL/5n0vooAC4ib6vo\n",
       "ed//PRfVehvWOlsfNX2O8/Qhw7zD8w2dy156vhVc5GwNBVidWmTG2yzfQixHsLc0j5ZoEYSqjuox\n",
       "ad85MqjsOxzYNfV4TEepZ4XWbL6Lr7ZUP9aVtUWU7tIk9d/VIpX/eM2TfNT6EcBMEKzoKCaDcTg0\n",
       "tnprQanTsF1AUvXw6Q1wZfCJZj7D8VcXSZXmkwlwZUL14cdJheeuUPH5YzoOPxcyAaFmhc98tHfH\n",
       "55c4yaRiqSXPxyxAqM9iY4q2CeNf3w+M/3g/2AC1B/BmYi1oJgAAAABJRU5ErkJggg==\n",
       "\" style=\"display:inline;vertical-align:middle;\" /></a></span>"
      ],
      "text/plain": [
       "|- {1, 3, 5} subset_eq {1, 2, 3, 4, 5}"
      ]
     },
     "execution_count": 92,
     "metadata": {},
     "output_type": "execute_result"
    }
   ],
   "source": [
    "subset_eq_def_specialized.sub_left_side_into(subset_eq_def_specialized_rhs_kt)"
   ]
  },
  {
   "cell_type": "markdown",
   "metadata": {},
   "source": [
    "<font size=3><i>Et voila!</i> Although a bit effortful, and although Prove-It can accomplish the same deduction automatically in this case, the exercise is useful in illustrating a number of typically steps and strategies, including an interplay between manual steps and automation, the instantiation of axioms and theorems, and the use of substitutions (in this case via <span style=\"font-family:courier;\">sub_left_side_into()</span>) between established judgments.</font>"
   ]
  },
  {
   "cell_type": "markdown",
   "metadata": {},
   "source": [
    "## Miscellaneous Testing\n",
    "<font size=3>The material below was developed to test various containment-related methods. Some of this material could be integrated into the `_demonstrations_` page eventually and/or deleted as development continues.</font>"
   ]
  },
  {
   "cell_type": "markdown",
   "metadata": {},
   "source": [
    "### Some Example `Sets` For Testing"
   ]
  },
  {
   "cell_type": "code",
   "execution_count": 93,
   "metadata": {},
   "outputs": [
    {
     "data": {
      "text/html": [
       "<strong id=\"set_123\">set_123:</strong> <a class=\"ProveItLink\" href=\"../__pv_it/demonstrations/60b69ec521a6f7ababdf9ad4a4a17c44ffd7f86c0/expr.ipynb\"><img src=\"data:image/png;base64,iVBORw0KGgoAAAANSUhEUgAAAEMAAAAVBAMAAADvM06qAAAAMFBMVEX///+IiIi6urrc3NxERETM\n",
       "zMwQEBCqqqpUVFQiIiJ2dnYyMjLu7u5mZmaYmJgAAABN0h6tAAAAAXRSTlMAQObYZgAAATBJREFU\n",
       "KM9jYGDgu8eAC7BePACieHYx4AZMqSCS7wOyGM9dlwAIy2qVO5C8DWJyTQAS7DlQJScYuD6BGcwX\n",
       "GOofMDCshCk5seIPVMkdBoY0MIPxOwP/BCQlDHwwJZkMDP0GYFckMfBvwKpk/wGGfqhjUC1CKAGC\n",
       "+QegLp8FJJaBWBwbUJUw/YLQzCuB7mJ4D2KWBaAq4WyAscQUGBi4LzAwhExmQFVyF85iA4VEpwAD\n",
       "gxqqKYwXoPYYMLB8B5oCMpPDAUVJLUgSCPj/gJW8x/QR6wIGRrASNgcGzj9QH4GVMAJ550Fes1y1\n",
       "thPM4nuAGi68bb/vMXDOAQXd//8/ISzdu04MyEEHBjUMmCyIkgQYdwEDJmslSnrhEWDAYEHSCwMs\n",
       "1fHBxREsYHyDADuBtAsAUu9bLZmwvqYAAAAASUVORK5CYII=\n",
       "\" style=\"display:inline;vertical-align:middle;\" /></a><br>\n",
       "<strong id=\"set_12345\">set_12345:</strong> <a class=\"ProveItLink\" href=\"../__pv_it/demonstrations/38a11ebeae978542ea46343294f4662de69f56ac0/expr.ipynb\"><img src=\"data:image/png;base64,iVBORw0KGgoAAAANSUhEUgAAAGsAAAAVBAMAAACzuQ2OAAAAMFBMVEX///+IiIi6urrc3NxERETM\n",
       "zMwQEBCqqqpUVFQiIiJ2dnYyMjLu7u5mZmaYmJgAAABN0h6tAAAAAXRSTlMAQObYZgAAAa9JREFU\n",
       "OMudlL9Lw0AUx79p1dg2Cf0P7OQccFLwx+Ao2MG1IKKiINhJHBR0EVyq4KKgmEFEBaGjdNB0Uxcr\n",
       "6KQpujiqKAhWMd7l3uUHlEq94d0nL3xy7+4lAWBU0cxovbb5pJXQ3IhN8Gi8hnOaM5gVFD/ay8ts\n",
       "juZTO8dydxyT6yyoM3TjHMk3Qb1Qf6S2SfOsW2PxUGrnB9904x6YFNSRxycllSmC0rIZ1mBIbRpY\n",
       "Mz3qzOCLkn0nBEterKOd2VijzQVFWn9qbOzaBBeWmA1TaoXHWxb3ObYXo1qsRtCzQ34ZUhtCfwZ4\n",
       "4TiXjWqJJUnKGNXoa0ALqy1VAUY2ENWcoNxJbzk1G9L0dxZW0+zEoqspFYIuYNjr9yWkxvbDu5ri\n",
       "9bQPRLRFxEUDXJu0ecf5uPZSbUXo37S36Em2WlCENh46U2q3znZepJP0NIVpV/xIu4+OVwU98755\n",
       "xB+h8dbHK3gyQ33TV76qSGzzdrvup6CYc5MRhD23gC2+cu/BfaTd3lhAA1JtPye0UXlpoQElEdX8\n",
       "701LowGVA+1OfA10Zfj5evQQvH3i5VH/8S/5BR+sidboQXJrAAAAAElFTkSuQmCC\n",
       "\" style=\"display:inline;vertical-align:middle;\" /></a><br>\n",
       "<strong id=\"set_1234567\">set_1234567:</strong> <a class=\"ProveItLink\" href=\"../__pv_it/demonstrations/649098a63d8b13854d5bc85423158efe4242dfd90/expr.ipynb\"><img src=\"data:image/png;base64,iVBORw0KGgoAAAANSUhEUgAAAJIAAAAVBAMAAABf4KrdAAAAMFBMVEX///+IiIi6urrc3NxERETM\n",
       "zMwQEBCqqqpUVFQiIiJ2dnYyMjLu7u5mZmaYmJgAAABN0h6tAAAAAXRSTlMAQObYZgAAAj1JREFU\n",
       "OMutlEFoE0EUhv8kbZLd7m5y6kEKzSnngiAoFHPwqDQHLx6KpZSCYGku9qQYDx5aqIl4EhS3oCCB\n",
       "Si6CFNpuL6XiIUEriBiNCF4ELXqxtrjuzHuzsysxlzqH2Z+XN1/mvflnADjvcdQxOSJmaw1HH8Vy\n",
       "MDl70ZDVOVMmlWo8rKjoYJu+G96kiq0co7wLy42GC7sZSLMuAgseJezA/E5qHJnfimRU6Tvv/+LI\n",
       "i4JcDHzzfb9KEDFZSzUmvQNmSY1WsK9Iw0xauzHGkXMYKEnxCshCkwI0ky4BNcouFnDAy1JfmFRV\n",
       "6OQPpVzgUU/SpocaN0pXZw79TRqY0q1N5nuSgvFAyecui0+KdOvjaxK5pysvQ6qACHK2GSclVVNP\n",
       "3eeYlVekszhdkKK1AUOd4hNlgIVynGSEJSSmuTgM6bLqRNqDfZn/R7poHTh/B3FSR3dgloJXIiSb\n",
       "Wp2rw2G3JGRN2dtsT01KsAlxHJiQBViuIgWNYLcZTTh8HoZ0wzPxcylGuoYUucD3mJRZ7nyYywuV\n",
       "bsI+JOZUuKdcVfUpfnaDLhJEmomcYpr2ZMvNyLRD2GyEi211dkQa9WAJI55srC6iJdK/Cj+1aGG6\n",
       "JFWqjc9jMg1L2K6Quu4i6qc38+td3A22sOn7+zDuCTd0dgukYE787Eo1/ji4TSIN5tubrE5UYiTy\n",
       "dHh+V9FH6TStiBQa30TkMv1b6bSIqsfep63wkcr3U2FaRNETE76ZXSUc9FPdHqooL1Hm/7zjfwDA\n",
       "OLhVTonENwAAAABJRU5ErkJggg==\n",
       "\" style=\"display:inline;vertical-align:middle;\" /></a><br>"
      ],
      "text/plain": [
       "set_123: {1, 2, 3}\n",
       "set_12345: {1, 2, 3, 4, 5}\n",
       "set_1234567: {1, 2, 3, 4, 5, 6, 7}"
      ]
     },
     "execution_count": 93,
     "metadata": {},
     "output_type": "execute_result"
    }
   ],
   "source": [
    "from proveit.numbers import one, two, three, four, five, six, seven\n",
    "# define some enumerated Sets for use in testing, containing literals\n",
    "set_123, set_12345, set_1234567 = (\n",
    "        Set(one, two , three),\n",
    "        Set(one, two , three, four, five),\n",
    "        Set(one, two , three, four, five, six, seven))"
   ]
  },
  {
   "cell_type": "code",
   "execution_count": 94,
   "metadata": {},
   "outputs": [
    {
     "data": {
      "text/html": [
       "<strong id=\"set_abc\">set_abc:</strong> <a class=\"ProveItLink\" href=\"../__pv_it/demonstrations/63bb772823822bdc10f0c79ef985a85895a2b2880/expr.ipynb\"><img src=\"data:image/png;base64,iVBORw0KGgoAAAANSUhEUgAAAEEAAAAVBAMAAADrxp6XAAAAMFBMVEX///+IiIi6urrc3NxERETM\n",
       "zMwQEBCqqqpUVFQiIiJ2dnYyMjLu7u5mZmaYmJgAAABN0h6tAAAAAXRSTlMAQObYZgAAAR9JREFU\n",
       "KM9jYGDgu8eAA7BePACieHYx4ARMqSCS7wOy2JFMFCW3QQTXBBSxvSi8lVhUfCekgukPIRVoJiJU\n",
       "2K4VA3uMgbtRtgCqVlCUgWEZiMWxAWh2MsN+iPj5PTyfwQzm6QzeDAzvQcyyAAaGYw8YrkBU1B9g\n",
       "+AhmcC5gaAcaeYGBIWQykHv/AMNEWADw/AIz7kNs7RRgYFADmpHCwPMVFhxMEP+mQJzVAHKHA0gb\n",
       "OzRk/zHwgv0LNek91C8834HuLQYLfQK5CaKUgR3qF5BvHRleNizg+Q3k9TH4MoAZNxh4riKFxwnB\n",
       "4EYFhplAx52VAhoBYnCte4gZpuwH0BlQFQnwEMdgQFQg0sdBDAYkfTDA09gDDAZTEsRW/OkUAEa5\n",
       "WAU8AAzjAAAAAElFTkSuQmCC\n",
       "\" style=\"display:inline;vertical-align:middle;\" /></a><br>\n",
       "<strong id=\"set_abcde\">set_abcde:</strong> <a class=\"ProveItLink\" href=\"../__pv_it/demonstrations/0c4b4f43b83c7c9f87345202592cc87ab173b5600/expr.ipynb\"><img src=\"data:image/png;base64,iVBORw0KGgoAAAANSUhEUgAAAGkAAAAVBAMAAAC3TN2zAAAAMFBMVEX///+IiIi6urrc3NxERETM\n",
       "zMwQEBCqqqpUVFQiIiJ2dnYyMjLu7u5mZmaYmJgAAABN0h6tAAAAAXRSTlMAQObYZgAAAY1JREFU\n",
       "OMuVVDFPwkAYfdIKBY5STBhJmEic6KgbEzODP8CYGBdDmJxMxNG4mLgY4wCLCQ6G0ZiY8AdIYTLB\n",
       "RPkBBtwcZPDu+1q4Jq2GG+7efe973/Xe3RWA/Y412uZ4oAbxjLVa4lD19pceE/WriPr1kTZ7U10m\n",
       "nJYdRdTPt7RJL0IVSghadfCPKpQQSvxL1Yty4CVaZUzGxxx7Krz6bLfQoNGYFL99q7olF7hX0OrL\n",
       "ruJm2UrxM/BcQrsts0+g4poLVm27RgeYK3giK4omcjUiUgvkHUK3sMgYxbFcHGHYYJf3ruU8t0Ca\n",
       "c2WC1wGHuCmOIrCahU81XsjUipQna/AawXFVaYlkzVcprsyH0uYUNViSluXP/OOa4oO85xUR4jg0\n",
       "Dzz0WrhMkQn5styHLwctuuLUhzq+h0plOvZNBp7ctDU1RwRybbl1BVbcRh9DVzsvcV7c2UL6TqLx\n",
       "IwjgYeZwZMmhNJtG3I3TeKAhVu0v5514oKFe+H0JJxZoiN8Xlm/ZjgcaShzwJVr/v/ELQQhyN2KQ\n",
       "K64AAAAASUVORK5CYII=\n",
       "\" style=\"display:inline;vertical-align:middle;\" /></a><br>"
      ],
      "text/plain": [
       "set_abc: {a, b, c}\n",
       "set_abcde: {a, b, c, d, e}"
      ]
     },
     "execution_count": 94,
     "metadata": {},
     "output_type": "execute_result"
    }
   ],
   "source": [
    "from proveit import a, b, c, d, e\n",
    "# define some enumerated Sets for use in testing, containing variables\n",
    "set_abc, set_abcde = (\n",
    "        Set(a, b, c),\n",
    "        Set(a, b, c, d, e))"
   ]
  },
  {
   "cell_type": "code",
   "execution_count": 95,
   "metadata": {},
   "outputs": [
    {
     "data": {
      "text/plain": [
       "(Integer, Natural, NaturalPos, Real)"
      ]
     },
     "execution_count": 95,
     "metadata": {},
     "output_type": "execute_result"
    }
   ],
   "source": [
    "# recall some other basic sets already defined:\n",
    "Integer, Natural, NaturalPos, Real"
   ]
  },
  {
   "cell_type": "markdown",
   "metadata": {},
   "source": [
    "### Testing the `ProperSubset` class methods\n",
    "<br/>\n",
    "<font size =3>The <span style=\"font-family=courier\">ProperSubset</span> class has the following class methods:<br/>\n",
    "    <div style=\"width: 50%; border: 1px solid green; padding: 5px; margin: 20px; background-color: gainsboro; font-family:courier\">derive_reversed(self, assumptions=USE_DEFAULTS)<br/>\n",
    "    derive_relaxed(self, assumptions=USE_DEFAULTS)<br/>\n",
    "    apply_transitivity(self, other, assumptions=USE_DEFAULTS)<br/>\n",
    "    deduce_in_bool(self, assumptions=USE_DEFAULTS)</div>\n",
    "</font>"
   ]
  },
  {
   "cell_type": "code",
   "execution_count": 96,
   "metadata": {},
   "outputs": [
    {
     "data": {
      "text/html": [
       "<strong id=\"set_123_properSubset_set_12345\">set_123_properSubset_set_12345:</strong> <a class=\"ProveItLink\" href=\"../__pv_it/demonstrations/8f3c37f99fd3e69c8fa3fd70359bf5cc5ef19a3c0/expr.ipynb\"><img src=\"data:image/png;base64,iVBORw0KGgoAAAANSUhEUgAAAM0AAAAVBAMAAAAX/3cYAAAAMFBMVEX///+IiIi6urrc3NxERETM\n",
       "zMwQEBCqqqpUVFQiIiJ2dnYyMjLu7u5mZmaYmJgAAABN0h6tAAAAAXRSTlMAQObYZgAAAltJREFU\n",
       "SMedlr1rFEEYxp+9M+7lchvyBwheZX1g4wdRCxtB8AorIRBEg4LgVWKhEC2ENIkiQg4UDwwSA8J2\n",
       "SkDdgMVpkwtolWxQEEsVBSEfuM7Huzsztztz6FvMPjdzv3l2Z953dgGMbsIaE/sKOl1AQQytRfxS\n",
       "W3b96UAz1+UGCqJ0UdzdD2OS+CTNXF5aaAFBmH8cJ0DrQNfX0QTrW+eyepc1/hUa6KL6U6px+H9o\n",
       "1Aw3IGOerleTbdY+S7Hu4i4NbABTUu1vYcvqYwdEeJdILN9q6D4YTbHLwFxD7kwdO5rPl3a7/QCD\n",
       "ARHHXpKYFm2Bz5sIc+nW6+t29Im5blZARGegD4vHEYl3HTY6KfV9WHz6AZEpjdRn9vNH1j7lshKa\n",
       "WGmbxJFHUZZcQUtN6wZ4rCD1OY3jdeA7l9eaJjY8nSrvPGteyU4tDwYAfNkyH2APe/qRHnBWrIiG\n",
       "xWrGKXZ/lXtcHVKdgwC2TU3NJ/jFmpkxqniFeT0SB4EzbLUk8bb/iLADwPuU4kvMq2uEP3HlhIHd\n",
       "RFmmaRJxjPZHXzc3wOJ6HP9eE117QwS7tD9m+gx14EnsgkgkyrfqmC3f+gEZVKcBu8OQ8k1gHsNW\n",
       "eR4dXno+I9U3o35e9PnYgNWQPGu8Zss9fG1o9RPc2dnE8ENedkmyJVUp/lBXPt3bke5jBYTCQjKL\n",
       "NgfGFzeMOhVxA3mVjZ47ZZw7ViBTfnZj5DOZ/uwgr4rOUSeQqSpMn+x1Usv2Winn+6cIUGpFEevy\n",
       "7E55NZNWLPX8+9EFKPVJHUzymPD/9fvA/4/vg79pmO8uDvKXhgAAAABJRU5ErkJggg==\n",
       "\" style=\"display:inline;vertical-align:middle;\" /></a><br>\n",
       "<strong id=\"set_12345_properSubset_set_1234567\">set_12345_properSubset_set_1234567:</strong> <a class=\"ProveItLink\" href=\"../__pv_it/demonstrations/48ad52602f1cef148637bdc4638c6587db04d5150/expr.ipynb\"><img src=\"data:image/png;base64,iVBORw0KGgoAAAANSUhEUgAAARsAAAAVBAMAAACEflfWAAAAMFBMVEX///+IiIi6urrc3NxERETM\n",
       "zMwQEBCqqqpUVFQiIiJ2dnYyMjLu7u5mZmaYmJgAAABN0h6tAAAAAXRSTlMAQObYZgAAA6hJREFU\n",
       "SMetVl1IVEEUPuu6P+79cSHooZDspaeiCz0VWEsUIRTtQ0+BIJX9UOG+JD0kbVCRhrpQD64FrSCi\n",
       "C9G+BCFk60tIEq5RKObaRtBLP4pSmm7d5s6cmfu3iqLDcu+358755pszc84MAKjTsJ7mG8uWsP4o\n",
       "wAYb8soD6/Qra3DbRlKw4cZ41VmrTc4fiTJ0IH1MWOvwPZitiwF8dFPN2P69fX8UXCS+HHtL333j\n",
       "aOrexsbydU6m08gbSpBH4Ar2GIbQHAXeHNwUC9CJ70Z9iTz73XKoqQlXUY7Ds2oXSUWcvf26jqEc\n",
       "qVYyFKi6ri8iiSFnuK+ITlMA5ynwLEBlAo2eiwgGbmkrypFbO1COkgV/vYtkK8qR+rag5QSUR5gD\n",
       "YY1b5IDK5VwC6NDoSp6BygwaD75AEDdDYTjVJpPJqGmaQTn+BATnwUHi/YZygmKvzHMUIr9oSTmv\n",
       "stCBm8eMc6qkHO+AZl8sLkcqQvAXOEhCklNOeb0lvDuhpBzSnvAt0MWjoHE57Z8/kGcvbgYNSssx\n",
       "vnE+QfJFyPlZxeZb+bz7nXCIcN5gxi6nbAkn3z+FliHgco7DoWqRRuOWyd13yNmbcpDIYS6nPOtl\n",
       "yTI6CBUxvlwFnp5NUbscngFk81XjWgk5hIzEUmIpmzDVBBoccjrBQRICSfBCLZMzCwpP6FG6yIT3\n",
       "1AOwy8kL5GedA1GLHMXYfy1hY+Imva9Ws8tRck6Sa1Y5n2h3knPqHFq206fBu8seHQ8yeTUoX6Do\n",
       "DXA5ZF2NqsSI5YizoJpyqsBBIqeEHLKurCpVZED9hx0f0ugYPYIRm5xmg8PQXuRyrufzv8fYTDOg\n",
       "FMXesSwW3LbJCeRgH9hIAm35T1fD1HaZRId2DNab0VkUpd2eWb4UeKgcf8RMD8AyqNAp8czqhpUy\n",
       "6zQAK3VWEj9Gh0T/ERuqCArmuu8v8MyicjzEadRIsf3ppy0UqQVSMuRl1v0cUERq/ldN1B0p5pCz\n",
       "I4vdutITCYqsJEQaHaEG1LMMtcLrGPsYWAJr3VHuLk9DxWOjDOr6H4b25A8DJOmEe/R2hmr6pswy\n",
       "KN/bbZMz0fiyQLtJ5AhKMAeTJHRysUB5vZNtWTZCaPIOfvResMlh7Qa4UCDrRuKQ8PXYD4mVHEy0\n",
       "6ggoR9Rq886SspwmLlTqCO1dzSEEaxqB8Yr7jhwGFxoCN1r1vlPKYQjWNALy8tugKuwmKpRA5Jh2\n",
       "NSm1ikMB1jQC8gY2467cvDl35f/GP0zdLHLZFQAAAABJRU5ErkJggg==\n",
       "\" style=\"display:inline;vertical-align:middle;\" /></a><br>"
      ],
      "text/plain": [
       "set_123_properSubset_set_12345: {1, 2, 3} proper_subset {1, 2, 3, 4, 5}\n",
       "set_12345_properSubset_set_1234567: {1, 2, 3, 4, 5} proper_subset {1, 2, 3, 4, 5, 6, 7}"
      ]
     },
     "execution_count": 96,
     "metadata": {},
     "output_type": "execute_result"
    }
   ],
   "source": [
    "# define a few proper subset relations for testing\n",
    "set_123_properSubset_set_12345, set_12345_properSubset_set_1234567 = (\n",
    "        ProperSubset(set_123, set_12345),\n",
    "        ProperSubset(set_12345, set_1234567))"
   ]
  },
  {
   "cell_type": "code",
   "execution_count": 97,
   "metadata": {},
   "outputs": [
    {
     "data": {
      "text/html": [
       "<strong id=\"set_abc_properSubset_set_abcde\">set_abc_properSubset_set_abcde:</strong> <a class=\"ProveItLink\" href=\"../__pv_it/demonstrations/cef763cc37c277d7eedf07036a181917402e461e0/expr.ipynb\"><img src=\"data:image/png;base64,iVBORw0KGgoAAAANSUhEUgAAAMkAAAAVBAMAAAAeFNdiAAAAMFBMVEX///+IiIi6urrc3NxERETM\n",
       "zMwQEBCqqqpUVFQiIiJ2dnYyMjLu7u5mZmaYmJgAAABN0h6tAAAAAXRSTlMAQObYZgAAAmdJREFU\n",
       "SMeVVU1o1EAYfW7XZjed7GaFerKwpwVPzbEiQr0UvC3oSRCKP3iREhA8CW69iReLCF3xkCIIKyh7\n",
       "swhiBJFeynZBEBQ0By+CtL1Iwe7BzHyTZJLMZu0ckjcz7/uZb97MAKh9x7h25ZRmsICvaceHPv+x\n",
       "twWcVjs3VMjXtNINkdp+ysfSI7Vr9fNLKeLL/Jd2lN43/jHTtBmVkJ2cyJet7iqdnsYqRfiPKGm+\n",
       "bPP+hCgpQjL5s9vtPsFEvuq4KEpPm/jZ5+PW0tPt+Dt9lKmvw1s0ttn4Imc3Gm2Yy4QfZwKfe3XS\n",
       "1/EhfM0eSGlszDnACw4rXEYtZ4akww79gSPQGbfcjwRlKcXn/NI1vIeOL9TvlEc0edqZ8oA9Du+E\n",
       "GbAVWItiwhihbgv0FBU3WntVKQDnfwrwGVo++aJw7Ca226TCS7wY1ghVOzogAw80JDJf49+FJIjg\n",
       "//CxBi2ffHlku9L4zf8PbDre04sYtCP5z4uUpmltm+L7MXMdXAf7Ay2ffDVJ5B2i8F8lnA7TuSfl\n",
       "H/BEAZmh3Be1YiGf/YWxr+Uj5YuG9iLNDFw8NMQm1pthXaU53Ehjpp3SGDsINXAbGj5UX7xwttQY\n",
       "j1K2a+smBuGmVYLyjgBWh29ddDjepJV8Hr86HjtEls9B4utYH9uOcl7Y6uzCCVSfhWj4GgLg5a6d\n",
       "HMGt+74aZatxcbWJrp/lCw+xL8ztBpqzfzcH4snLF/I3jOGPN1QQRVmO+14O6G7LmG8WGCqol34v\n",
       "mJ0Fxe/LhwLDBNH7gvjtq+UAWs38VRjzgwLDBJWuUnmP+O4bR3/3/wFIr9CnZcSn1gAAAABJRU5E\n",
       "rkJggg==\n",
       "\" style=\"display:inline;vertical-align:middle;\" /></a><br>"
      ],
      "text/plain": [
       "set_abc_properSubset_set_abcde: {a, b, c} proper_subset {a, b, c, d, e}"
      ]
     },
     "execution_count": 97,
     "metadata": {},
     "output_type": "execute_result"
    }
   ],
   "source": [
    "# define a few proper subset relations for testing\n",
    "set_abc_properSubset_set_abcde = ProperSubset(set_abc, set_abcde)"
   ]
  },
  {
   "cell_type": "markdown",
   "metadata": {},
   "source": [
    "### `ProperSubset.reversed()`"
   ]
  },
  {
   "cell_type": "code",
   "execution_count": 98,
   "metadata": {},
   "outputs": [
    {
     "data": {
      "text/html": [
       "<a class=\"ProveItLink\" href=\"../__pv_it/demonstrations/fb1af4f659f96cd80bd632f7051ed8bbce438db50/expr.ipynb\"><img src=\"data:image/png;base64,iVBORw0KGgoAAAANSUhEUgAAAM0AAAAVBAMAAAAX/3cYAAAAMFBMVEX///+IiIi6urrc3NxERETM\n",
       "zMwQEBCqqqpUVFQiIiJ2dnYyMjLu7u5mZmaYmJgAAABN0h6tAAAAAXRSTlMAQObYZgAAArtJREFU\n",
       "SMetVk1oE0EUfpu/zc/upiB4EMQ99SYueFKoFlFEEczBk1AowRaFgj2JB4MRiliEdqEemqKYQwlt\n",
       "RMxRetCtp6qIKVQQzJZ48aYVRUub4Dq/OzvJmlBwDrvfvJ3vfW9m3ptZADA2YS8tvu6EWL82+xG0\n",
       "Fdhbi4x1296W+xKM70Gb5p7OURStLk5y6wh7v3BGkO1Tt6stqfdu4wxDx6tngRHSNnqoE+zDGqR/\n",
       "UDQE6h9OnGfv694uei536xATd6IV4ZlJY63D7Sb7inXWltqM0AAYp+jQJOwwo3KVgZU71r91fCe6\n",
       "A4lRStyGrB3QAYPrXAOYtQgaNKHFjCeeM1AUwUO8VCo9aAbnw50kbEj+pDuTh2wtVOelA7Nsg8S6\n",
       "lcN0yLo8sUJ0Mm1I/uJDpHUTOqg95nn7miWRYXGdmc8f0LMixkbtEB3UUhxqC5yQrMlDIrs8Vx4x\n",
       "wVXgOhfgpCknV4G+7nfoHGEhRpcbPBtv5DpCKXKk5Nmy+ToAMTSBTF3opOgKj3XozPtov0kJl+Y6\n",
       "hrjCyTiZkJoL6Oh4g6cH/H4Sb1D8nCU70UUkiQlGGJTno/AhRwEukkJ9A1wHLTGurkxRhBJzAhXv\n",
       "OznIt8+C2DYjJIelIQX8ETfPYTo3Xff3Oo2tBnpb3h+6bjAl6ah1HCVq2TbR2erOt3gZFKpzJZB5\n",
       "rE515Lcm5RscCMu3ywD7aGDDJPMqvo6Ceu9x4h2rPp2m6BuuH4Kwptaix8gXSzoP1FpAhzuJLlQ/\n",
       "2oRgNOX60e+2NiH1ENep5+1QFHE3TIpg0ZuBEp7b0FJDqtNX9xyh4zvJeJ5nU8Jh9xQE65S0W9AD\n",
       "qY58aJJz53xOMvUkpEd5V9whISjdcTjLrdKf4N8/ml8VYWhV0HrdPz0I/D41fHsYEvdyJN+tkyn3\n",
       "J6j/4/+g0Of/4C+Kg/L94tm2XAAAAABJRU5ErkJggg==\n",
       "\" style=\"display:inline;vertical-align:middle;\" /></a>"
      ],
      "text/plain": [
       "{1, 2, 3, 4, 5} proper_superset {1, 2, 3}"
      ]
     },
     "execution_count": 98,
     "metadata": {},
     "output_type": "execute_result"
    }
   ],
   "source": [
    "# if A is a proper subset of B, then B is a proper superset of A\n",
    "set_12345.deduce_enum_proper_subset(subset=set_123)\n",
    "set_123_properSubset_set_12345.reversed()"
   ]
  },
  {
   "cell_type": "code",
   "execution_count": 99,
   "metadata": {},
   "outputs": [
    {
     "data": {
      "text/html": [
       "<a class=\"ProveItLink\" href=\"../__pv_it/demonstrations/248e6ee6507f0e1ff6fbaaeb13a3791f8bd2126c0/expr.ipynb\"><img src=\"data:image/png;base64,iVBORw0KGgoAAAANSUhEUgAAAMkAAAAVBAMAAAAeFNdiAAAAMFBMVEX///+IiIi6urrc3NxERETM\n",
       "zMwQEBCqqqpUVFQiIiJ2dnYyMjLu7u5mZmaYmJgAAABN0h6tAAAAAXRSTlMAQObYZgAAAoJJREFU\n",
       "SMetVc9rE0EUfk023c1mkmyEXAqBngKeske99VRQKeTgHyDSIoKUnDxZmoJQpSAFBY142F4KaaHk\n",
       "WMTCKsWLhE0OolTQ7V1bfxwEDcXZmdmdmcykIeAedr9579vvvZl5bwYACp9hgifT9zXWb+EYPnoJ\n",
       "Ez2pJdX2zhvHL3wXbWh+U5PPfE8YfVIJp9Lo8LY0JHxbls31NPkUG8KgrfqHTAeqcyiKJBg/NX+i\n",
       "KL/HRqnpNretDjKtVutJqI2SGoyN0tbt4IGekd51dT/pFIktfdS/Q237pQ/Mu1WqU62jMlsCtFXB\n",
       "sttcIL3JhbhEbq3Clt0ulRnf6uBX1c3RUkN//YAmeLlhdAiougZbgotu2pMLaoV+NkQJCF6hXzSJ\n",
       "p3CN8e/ijNEy5OeIwxxA0SHoOVgko8hHw6Fb0K3LVZilPy2JErDqww/q9WCd8q8/xsP8ALJUGwsG\n",
       "pMXy8RZGPtp01nLpa/R96CRRrGjemSuuKIEbBP0h4AutpIhfxelNz0FQj9ulRqYwzRIjvlla5E1K\n",
       "afK5GH7c3lwC10qKbuQi51tYDqe/ytolZBkE8aEh+Dyl0emKwX2RBmdsIdiMTuMaCxqwYZJNL87i\n",
       "BWbhgEyK+6KFc6Qag5mkxjgNfsLbkIUDk/GjKIZTeGZDgDfZCo0eAfkm3uoIcN9UB7qu1BxmJ4nC\n",
       "afAIFnCtYvAR0HuhX9Ba+dIFyL7AqL8HBMDOiUMtiQ8qJ6HUgm8e+EkUgdadwbQWdtl7x5revzca\n",
       "CIifMFfrynGQ0Exf7v0bCcUbDQSkOYO2VZot8/n9gpyRQEDn3i+c9nqIn9yVhdFAQKmbapScp9DC\n",
       "Ib75H+79lfPv/X86JdFMcg0JrQAAAABJRU5ErkJggg==\n",
       "\" style=\"display:inline;vertical-align:middle;\" /></a>"
      ],
      "text/plain": [
       "{a, b, c, d, e} proper_superset {a, b, c}"
      ]
     },
     "execution_count": 99,
     "metadata": {},
     "output_type": "execute_result"
    }
   ],
   "source": [
    "set_abcde.deduce_enum_proper_subset(subset=set_abc, assumptions=[NotInSet(d, set_abc)])\n",
    "set_abc_properSubset_set_abcde.reversed()"
   ]
  },
  {
   "cell_type": "markdown",
   "metadata": {},
   "source": [
    "### `ProperSubset.derive_relaxed()`"
   ]
  },
  {
   "cell_type": "code",
   "execution_count": 100,
   "metadata": {},
   "outputs": [
    {
     "data": {
      "text/html": [
       "<span style=\"font-size:20px;\"> <a class=\"ProveItLink\" href=\"../__pv_it/demonstrations/72dc43934d44efd1f56473e7886d264772513c2d0/proof.ipynb\" style=\"text-decoration: none\">&nbsp;&#x22A2;&nbsp;&nbsp;</a><a class=\"ProveItLink\" href=\"../__pv_it/demonstrations/bec929f662671dffcea4bea2f693475a617a7a410/expr.ipynb\"><img src=\"data:image/png;base64,iVBORw0KGgoAAAANSUhEUgAAAM0AAAAVBAMAAAAX/3cYAAAAMFBMVEX///+IiIi6urrc3NxERETM\n",
       "zMwQEBCqqqpUVFQiIiJ2dnYyMjLu7u5mZmaYmJgAAABN0h6tAAAAAXRSTlMAQObYZgAAAsRJREFU\n",
       "SMetVk1oE0EUfkmabpr9SUHwJu6pN3HBk0K1iCKKYA6elEIJtigUzEl6sBhBhCK0AT0kRTGHEtqA\n",
       "GPCiPditp6qIKUQQmi3x4kW0omhpE1x3Z97szCZrloJz2Pn2zXzvezPz3s4CgLYJe2nxdTPA+rUZ\n",
       "RlCWYW8tOt5te1sKJWjfRZtinUpTFKssZJl1FPuX5qhj2+h2teV7e1c/jehY5QwgIZl3HtIkDqxB\n",
       "8gdFwyD9YcQC9tftXee5RCN6USw+GMQBYmJOlBw81WmsNbjVxFFXZ22xjYQGwARFB7Owg8bIVQTL\n",
       "tw1Ph3j8onMdz4lqQv8YJW5DKi/ogMZ0rgHMGQQN6dBC4/HnCHI8eBR6JqyHOenPQ+InPZkMpKqB\n",
       "OismzOEB8X0r/VMHLgfoyG1I/GITfPvGdZz2mOXta0wizWA6s58+OM+yoCMb3TpOG2BQmWeERNU/\n",
       "JbrLcuURCq4C0zkPJ3R/ciVpTt7r0DmMIcaWGiwbb6Q7QskxFMngtnk6AH3O6uUa11FJIkjjHToF\n",
       "D+3XKeHi/Y4pFncyQRYkpQUd1T3gmUG+b6Tizxp+JyqPpH8SCUP+9UTYlCMAF8imvAGm42yxW11y\n",
       "jocyJVa85+QA9jED+raRkBjxTZl2B91mm6gzZVm/12lsVVDbvvOJP6T9HZ+OVHOjdFqqTXS2uvMt\n",
       "XoII1bkiZB7WqeqcXlXMt1d1IyCv4RLAPhrYCMm8sqcTcd7eu4l3tPJkhqJvbv0Q5GoqLfoZ+WyI\n",
       "351zWfG7w5zE5isf84SgNf31o95tbcKAuwcrtr1DUdSq6xTBgj0LRXdtw4uNjjoVdDwnsm3beUo4\n",
       "ZJ0EsU5Juwk9kGT6nAbohBCSY+yV3yEBKAm9dMrhBO/+UbyqCEKrnLbhnU+xWOi4f3oQ2H2qefYg\n",
       "xO/laKZ7PXIpnCD9j/+D6ZD/g79liPaCQz2BCQAAAABJRU5ErkJggg==\n",
       "\" style=\"display:inline;vertical-align:middle;\" /></a></span>"
      ],
      "text/plain": [
       "|- {1, 2, 3, 4, 5} superset_eq {1, 2, 3}"
      ]
     },
     "execution_count": 100,
     "metadata": {},
     "output_type": "execute_result"
    }
   ],
   "source": [
    "set_123_properSubset_set_12345.derive_relaxed()"
   ]
  },
  {
   "cell_type": "code",
   "execution_count": 101,
   "metadata": {},
   "outputs": [
    {
     "data": {
      "text/html": [
       "<span style=\"font-size:20px;\"><a class=\"ProveItLink\" href=\"../__pv_it/demonstrations/18f081e58cd34774ad10c60f967884fc64e1380e0/expr.ipynb\"><img src=\"data:image/png;base64,iVBORw0KGgoAAAANSUhEUgAAAGYAAAAVCAMAAACDt2s/AAAAQlBMVEX///9jY2MJCQkNDQ0rKysP\n",
       "Dw8WFhZUVFSYmJiIiIjc3NwyMjIiIiJ2dnbu7u66urqqqqpmZmYQEBBERETMzMwAAADVO6QiAAAA\n",
       "AXRSTlMAQObYZgAAAZ5JREFUSMelVu2WhSAIdD+VVBSx93/VtW7dULPu7vqjc8RRBhg0pYYjN3ND\n",
       "Rv12ZAK8gbhqhtarv4yQJN3MiRoiuo5lHp6EnNzYD9lqOsdmOVRTf3GSsjReqzeGGa9ydu2mpTje\n",
       "WM0Mu+8vZ19101EcbxRxZy7y4On1aC4jfS5O5CEfcaPF5XOBJkgVfasBqMmbB4BVYz7tkivE+Yhb\n",
       "L3EANG60FWhbyQ7nQgxnGf7kile2QqKYTC07Xgk22Y6b/Dc0V2srxVkSc0uT6SjKQSvIPZsvJ2vt\n",
       "50f5WFEtt3Hd0NB1Bs6ifanShF7giVfQs0umZe7joJk3dO7UE6SoE1eVe7KIItmpb5qFEqtT9JIu\n",
       "0wRQRfaoDa4sSoHjXkICFWigyx69uAl7zSrHhY5QGpfEGafVQcBFnUfyF+gisC3QciiTEhZa80RZ\n",
       "bMQi+jxpOK4w1O8BB24k2rkHCgn8g/5uUd4bA3e9a948O3d/2US8t1y4aS8a2cyV7QXL2A3yWYT9\n",
       "e4Nwb+nem2PA6WPcv549zJy9nmGUs3Nz/Me/wA8byRZzI7+IVgAAAABJRU5ErkJggg==\n",
       "\" style=\"display:inline;vertical-align:middle;\" /></a> <a class=\"ProveItLink\" href=\"../__pv_it/demonstrations/8f99629ee7e349ce20928ad25ff8215598e36e940/proof.ipynb\" style=\"text-decoration: none\">&nbsp;&#x22A2;&nbsp;&nbsp;</a><a class=\"ProveItLink\" href=\"../__pv_it/demonstrations/8b4187e21b2891a9ddb2b9842adddc68097c77eb0/expr.ipynb\"><img src=\"data:image/png;base64,iVBORw0KGgoAAAANSUhEUgAAAMkAAAAVBAMAAAAeFNdiAAAAMFBMVEX///+IiIi6urrc3NxERETM\n",
       "zMwQEBCqqqpUVFQiIiJ2dnYyMjLu7u5mZmaYmJgAAABN0h6tAAAAAXRSTlMAQObYZgAAAoxJREFU\n",
       "SMetVU1oE0EUfiZpd7OZJJtCLkKgp4Cn7FFvPRVUhBy8eSnFIoKUnMSD0hQEkYIICnbFw/ZSWA8l\n",
       "4EXFwlbEi4RNQFEq6HpWW38OggZx/nZnJjvbUHAOu9+89+17b97PDgBUPsAh1tQw0Ei/RhP46Ckc\n",
       "auWW0rJX3iR+5ZssQ/O3NfHMD6Td+zRhX9m9uKhsKd9SzZYGmniqHWnjs3CeuO5dWxEla1vZ+Rov\n",
       "isF4tYKUF+rp86zWy6+JXlq64voZG/RI5yU3mujF11VwO4txTveRziKV5XeHl5jsce0t127U2vSd\n",
       "363zFKCNhgOwKVfRSQwJE6XVBk+7VatzvtnDj6ZTYq2G/gQh+/JEp9CjoOkUeAqOOXlPbSiLmVuT\n",
       "TUD4DP1k8d2D05x/GUeMlqE8RxXGCKqsc+6DSU0QHXOHLkC/rXZhmZbfWJJNwEoA3ykoenCD8c/e\n",
       "IeQRFJltbDCkI1aOS0h0bOjM5doX8r5pi4zRcTrpyCbwgKDfFHxknUT4TRze9ByE7XhcWvQI0zww\n",
       "qmMNW+0ySlec5Uoy3sIE7pUcK+R5wTexORz+Ch+XiEcQxj8NSeeND/rUA/a+LtPgL08EP9F+3GNh\n",
       "B9YMWvTqLE4wdwf0UEJHEmfLPfb8tZM0q6DBD3gZcXdgcD7xUrAr6xaEuMhmVBhQUO7iUhMgdEd6\n",
       "0HfkP8ypjhgJQYNbcAb3KgbvAL2R5gWt1o/PQBGfHw23gAJ4uGczSaKDxl6kn1tfofWPYpqL825t\n",
       "fdLM/tVsICH/oD9QQjMCdfYXEoqXDSSk8bKZplkqX9wvyM4EEuL3C6mL666P3S+CtjPGT+7KSjaQ\n",
       "UG4xfZaSl6JFY3zjP9z71w6+9/8B3xbU0aozqMgAAAAASUVORK5CYII=\n",
       "\" style=\"display:inline;vertical-align:middle;\" /></a></span>"
      ],
      "text/plain": [
       "{d not-in {a, b, c}} |- {a, b, c, d, e} superset_eq {a, b, c}"
      ]
     },
     "execution_count": 101,
     "metadata": {},
     "output_type": "execute_result"
    }
   ],
   "source": [
    "set_abc_properSubset_set_abcde.derive_relaxed(assumptions=[NotInSet(d, set_abc)])"
   ]
  },
  {
   "cell_type": "code",
   "execution_count": 102,
   "metadata": {},
   "outputs": [
    {
     "name": "stdout",
     "output_type": "stream",
     "text": [
      "Proof Failure: Proof step failed:\n",
      "Attempting to instantiate |- forall_{A, B | A proper_subset B} (A subset_eq B) with {A: {a, b}, B: {a, b, c}}:\n",
      "Unsatisfied condition: {a, b} proper_subset {a, b, c}\n"
     ]
    }
   ],
   "source": [
    "# derive_relaxed() method only works for actual proper subsets.\n",
    "# If the proper subset is not true or not provably true, derive_relaxed() will fail:\n",
    "try:\n",
    "    ProperSubset(Set(a, b), Set(a, b, c)).derive_relaxed()\n",
    "    assert False, \"Expecting a ProofFailure. Should not make it to this point.\"\n",
    "except ProofFailure as e:\n",
    "    print(\"Proof Failure: {}\".format(e))"
   ]
  },
  {
   "cell_type": "code",
   "execution_count": 103,
   "metadata": {},
   "outputs": [
    {
     "data": {
      "text/html": [
       "<span style=\"font-size:20px;\"><a class=\"ProveItLink\" href=\"../__pv_it/demonstrations/1052b8d759a357e6ce1fa7166764e68147410a720/expr.ipynb\"><img src=\"data:image/png;base64,iVBORw0KGgoAAAANSUhEUgAAAFMAAAAVCAMAAAANbSJDAAAARVBMVEX///8/Pz9vb28YGBgNDQ0r\n",
       "KysPDw8WFha6urqYmJgQEBDu7u5mZmZUVFQyMjJERESqqqoiIiLc3NzMzMyIiIh2dnYAAADeLP6z\n",
       "AAAAAXRSTlMAQObYZgAAAWxJREFUOMuNVdm2hSAI9c4qOCX6/596zawjJ614aEVsmdyQEDOJXFWo\n",
       "xI1EJLhGhF4Bm8QDkTpeBjUsyzxHgtNHfLRXPlH2WgpXWIvPcNx4jc3+FqdcCH+/9rFPmeEGF916\n",
       "e255nmdnfL0mIorHDUN9To4tmJA0p4w1RLiVn3SDhaK73YmpCRJxn8buZClmy0kAuaQBeen5EVbq\n",
       "mb3NbgvNM/GNd6BX4qPjxtrOTB0FMPfno7ZFfr7Lo+twaN3dsIEXUTkJuQ2FWa2aRV2qlvx4PioW\n",
       "cjyzUzY+WdMHaKLP5FyjO3Fg/dtMZfWqtvUzb7thzwxL6hLHdIGaTLkv3zMty73Rx71jzRaPegoL\n",
       "TJxQ0JWAKhiR6m3vNRR3DjnnUlKq6zoY9wUTn1CYGBdD6y4IoaEAKam72fj8KMMZbmfTw+VIcXmb\n",
       "y34+2Dfx3Ce4wVo570+g0Yac7E8a/STOe14N97yclD786p//j/4B7SYT3k+uSeAAAAAASUVORK5C\n",
       "YII=\n",
       "\" style=\"display:inline;vertical-align:middle;\" /></a> <a class=\"ProveItLink\" href=\"../__pv_it/demonstrations/cda38f6b4c5ff22a1db0694412f8f3a281cfcc210/proof.ipynb\" style=\"text-decoration: none\">&nbsp;&#x22A2;&nbsp;&nbsp;</a><a class=\"ProveItLink\" href=\"../__pv_it/demonstrations/9cda6d15095a0cc3bbdfa55e240344076b5b0c000/expr.ipynb\"><img src=\"data:image/png;base64,iVBORw0KGgoAAAANSUhEUgAAAI8AAAAVBAMAAACNsKCFAAAAMFBMVEX///+IiIi6urrc3NxERETM\n",
       "zMwQEBCqqqpUVFQiIiJ2dnYyMjLu7u5mZmaYmJgAAABN0h6tAAAAAXRSTlMAQObYZgAAAcxJREFU\n",
       "OMtjYGDgu8eAClgvHmDABG8fMOAAUPU8uzBkmFIxVZ9ewIATQNTzfUAWO5IJIm9jKn7PgKkMDsDq\n",
       "uSagiO0FESthvBczZ86cyoAihKQMDlZiMeg7si7rxahq0ZThM4jpD7KuzQw4DIIow2cQhAfVxVuA\n",
       "yyA0byAMsl0rBoly7kZZoO5lEHlOdLVoysDaBUWh6jk2AF2azLAfIn5+D89neBRZIBnUzYCpDAiY\n",
       "pzN4Q9WXBTAwHHvAcAWiov4Aw0eghRcgkYwwhx2UVNCVgRy9gKEdoj5kMpB7/wDDRFiK4PkFpDoF\n",
       "UL3G6mmATRlYiAGqXg3oohQGnq+w9MEEjFnuBoj/BVATL7oysBA4yEDqORxAprND0/c/Bt4/iGS8\n",
       "HeG3FgZMZQwwd72HxhrPd2CQF4OFPoECAhZrDCeaDiDFGoYysIkM7FD1oOh3ZHjZsIDnN5DXx+CL\n",
       "nGiiPJGzCKoyMOMGA89VpHR0QjC4UYFhJtD6s1IPMPMDzCA0ZSAG17qHmCmb/QCOjIUqBFeGpp4r\n",
       "AZ7uGfAYtIwBQxmaekR5dBC1fAGqnDkTXowgyqODuNTDS0h4WcqUhOki7gUYytDVsxNXZtfiL7MB\n",
       "IU2yqGEH1lkAAAAASUVORK5CYII=\n",
       "\" style=\"display:inline;vertical-align:middle;\" /></a></span>"
      ],
      "text/plain": [
       "{c not-in {a, b}} |- {a, b} subset_eq {a, b, c}"
      ]
     },
     "execution_count": 103,
     "metadata": {},
     "output_type": "execute_result"
    }
   ],
   "source": [
    "# But if we first establish the proper subset as a judgment\n",
    "# (with the appropriate assumptions), then we can relax as expected:\n",
    "Set(a, b, c).deduce_enum_proper_subset(subset=Set(a, b), assumptions=[NotInSet(c, Set(a, b))])\n",
    "ProperSubset(Set(a, b), Set(a, b, c)).derive_relaxed(assumptions=[NotInSet(c, Set(a, b))])"
   ]
  },
  {
   "cell_type": "markdown",
   "metadata": {},
   "source": [
    "### `ProperSubset.apply_transitivity()`"
   ]
  },
  {
   "cell_type": "code",
   "execution_count": 104,
   "metadata": {},
   "outputs": [
    {
     "data": {
      "text/html": [
       "<span style=\"font-size:20px;\"> <a class=\"ProveItLink\" href=\"../__pv_it/demonstrations/babccedf6a546fcf3f08d998b38ead3097daae1f0/proof.ipynb\" style=\"text-decoration: none\">&nbsp;&#x22A2;&nbsp;&nbsp;</a><a class=\"ProveItLink\" href=\"../__pv_it/demonstrations/8f3c37f99fd3e69c8fa3fd70359bf5cc5ef19a3c0/expr.ipynb\"><img src=\"data:image/png;base64,iVBORw0KGgoAAAANSUhEUgAAAM0AAAAVBAMAAAAX/3cYAAAAMFBMVEX///+IiIi6urrc3NxERETM\n",
       "zMwQEBCqqqpUVFQiIiJ2dnYyMjLu7u5mZmaYmJgAAABN0h6tAAAAAXRSTlMAQObYZgAAAltJREFU\n",
       "SMedlr1rFEEYxp+9M+7lchvyBwheZX1g4wdRCxtB8AorIRBEg4LgVWKhEC2ENIkiQg4UDwwSA8J2\n",
       "SkDdgMVpkwtolWxQEEsVBSEfuM7Huzsztztz6FvMPjdzv3l2Z953dgGMbsIaE/sKOl1AQQytRfxS\n",
       "W3b96UAz1+UGCqJ0UdzdD2OS+CTNXF5aaAFBmH8cJ0DrQNfX0QTrW+eyepc1/hUa6KL6U6px+H9o\n",
       "1Aw3IGOerleTbdY+S7Hu4i4NbABTUu1vYcvqYwdEeJdILN9q6D4YTbHLwFxD7kwdO5rPl3a7/QCD\n",
       "ARHHXpKYFm2Bz5sIc+nW6+t29Im5blZARGegD4vHEYl3HTY6KfV9WHz6AZEpjdRn9vNH1j7lshKa\n",
       "WGmbxJFHUZZcQUtN6wZ4rCD1OY3jdeA7l9eaJjY8nSrvPGteyU4tDwYAfNkyH2APe/qRHnBWrIiG\n",
       "xWrGKXZ/lXtcHVKdgwC2TU3NJ/jFmpkxqniFeT0SB4EzbLUk8bb/iLADwPuU4kvMq2uEP3HlhIHd\n",
       "RFmmaRJxjPZHXzc3wOJ6HP9eE117QwS7tD9m+gx14EnsgkgkyrfqmC3f+gEZVKcBu8OQ8k1gHsNW\n",
       "eR4dXno+I9U3o35e9PnYgNWQPGu8Zss9fG1o9RPc2dnE8ENedkmyJVUp/lBXPt3bke5jBYTCQjKL\n",
       "NgfGFzeMOhVxA3mVjZ47ZZw7ViBTfnZj5DOZ/uwgr4rOUSeQqSpMn+x1Usv2Winn+6cIUGpFEevy\n",
       "7E55NZNWLPX8+9EFKPVJHUzymPD/9fvA/4/vg79pmO8uDvKXhgAAAABJRU5ErkJggg==\n",
       "\" style=\"display:inline;vertical-align:middle;\" /></a></span>"
      ],
      "text/plain": [
       "|- {1, 2, 3} proper_subset {1, 2, 3, 4, 5}"
      ]
     },
     "execution_count": 104,
     "metadata": {},
     "output_type": "execute_result"
    }
   ],
   "source": [
    "# establish a proper subset judgement:\n",
    "set_12345.deduce_enum_proper_subset(subset=set_123)"
   ]
  },
  {
   "cell_type": "code",
   "execution_count": 105,
   "metadata": {},
   "outputs": [
    {
     "data": {
      "text/html": [
       "<span style=\"font-size:20px;\"> <a class=\"ProveItLink\" href=\"../__pv_it/demonstrations/edfec931f875075040c1b6c925af1229cca7ead00/proof.ipynb\" style=\"text-decoration: none\">&nbsp;&#x22A2;&nbsp;&nbsp;</a><a class=\"ProveItLink\" href=\"../__pv_it/demonstrations/48ad52602f1cef148637bdc4638c6587db04d5150/expr.ipynb\"><img src=\"data:image/png;base64,iVBORw0KGgoAAAANSUhEUgAAARsAAAAVBAMAAACEflfWAAAAMFBMVEX///+IiIi6urrc3NxERETM\n",
       "zMwQEBCqqqpUVFQiIiJ2dnYyMjLu7u5mZmaYmJgAAABN0h6tAAAAAXRSTlMAQObYZgAAA6hJREFU\n",
       "SMetVl1IVEEUPuu6P+79cSHooZDspaeiCz0VWEsUIRTtQ0+BIJX9UOG+JD0kbVCRhrpQD64FrSCi\n",
       "C9G+BCFk60tIEq5RKObaRtBLP4pSmm7d5s6cmfu3iqLDcu+358755pszc84MAKjTsJ7mG8uWsP4o\n",
       "wAYb8soD6/Qra3DbRlKw4cZ41VmrTc4fiTJ0IH1MWOvwPZitiwF8dFPN2P69fX8UXCS+HHtL333j\n",
       "aOrexsbydU6m08gbSpBH4Ar2GIbQHAXeHNwUC9CJ70Z9iTz73XKoqQlXUY7Ds2oXSUWcvf26jqEc\n",
       "qVYyFKi6ri8iiSFnuK+ITlMA5ynwLEBlAo2eiwgGbmkrypFbO1COkgV/vYtkK8qR+rag5QSUR5gD\n",
       "YY1b5IDK5VwC6NDoSp6BygwaD75AEDdDYTjVJpPJqGmaQTn+BATnwUHi/YZygmKvzHMUIr9oSTmv\n",
       "stCBm8eMc6qkHO+AZl8sLkcqQvAXOEhCklNOeb0lvDuhpBzSnvAt0MWjoHE57Z8/kGcvbgYNSssx\n",
       "vnE+QfJFyPlZxeZb+bz7nXCIcN5gxi6nbAkn3z+FliHgco7DoWqRRuOWyd13yNmbcpDIYS6nPOtl\n",
       "yTI6CBUxvlwFnp5NUbscngFk81XjWgk5hIzEUmIpmzDVBBoccjrBQRICSfBCLZMzCwpP6FG6yIT3\n",
       "1AOwy8kL5GedA1GLHMXYfy1hY+Imva9Ws8tRck6Sa1Y5n2h3knPqHFq206fBu8seHQ8yeTUoX6Do\n",
       "DXA5ZF2NqsSI5YizoJpyqsBBIqeEHLKurCpVZED9hx0f0ugYPYIRm5xmg8PQXuRyrufzv8fYTDOg\n",
       "FMXesSwW3LbJCeRgH9hIAm35T1fD1HaZRId2DNab0VkUpd2eWb4UeKgcf8RMD8AyqNAp8czqhpUy\n",
       "6zQAK3VWEj9Gh0T/ERuqCArmuu8v8MyicjzEadRIsf3ppy0UqQVSMuRl1v0cUERq/ldN1B0p5pCz\n",
       "I4vdutITCYqsJEQaHaEG1LMMtcLrGPsYWAJr3VHuLk9DxWOjDOr6H4b25A8DJOmEe/R2hmr6pswy\n",
       "KN/bbZMz0fiyQLtJ5AhKMAeTJHRysUB5vZNtWTZCaPIOfvResMlh7Qa4UCDrRuKQ8PXYD4mVHEy0\n",
       "6ggoR9Rq886SspwmLlTqCO1dzSEEaxqB8Yr7jhwGFxoCN1r1vlPKYQjWNALy8tugKuwmKpRA5Jh2\n",
       "NSm1ikMB1jQC8gY2467cvDl35f/GP0zdLHLZFQAAAABJRU5ErkJggg==\n",
       "\" style=\"display:inline;vertical-align:middle;\" /></a></span>"
      ],
      "text/plain": [
       "|- {1, 2, 3, 4, 5} proper_subset {1, 2, 3, 4, 5, 6, 7}"
      ]
     },
     "execution_count": 105,
     "metadata": {},
     "output_type": "execute_result"
    }
   ],
   "source": [
    "# establish a related proper subset judgement:\n",
    "set_1234567.deduce_enum_proper_subset(subset=set_12345)"
   ]
  },
  {
   "cell_type": "code",
   "execution_count": 106,
   "metadata": {},
   "outputs": [
    {
     "data": {
      "text/html": [
       "<span style=\"font-size:20px;\"> <a class=\"ProveItLink\" href=\"../__pv_it/demonstrations/a6e46441105f01076e172f951ec706a266684d510/proof.ipynb\" style=\"text-decoration: none\">&nbsp;&#x22A2;&nbsp;&nbsp;</a><a class=\"ProveItLink\" href=\"../__pv_it/demonstrations/c9ac3a8361c09507ea02371d6ba3e6eba103b3800/expr.ipynb\"><img src=\"data:image/png;base64,iVBORw0KGgoAAAANSUhEUgAAAPQAAAAVBAMAAACDGd7qAAAAMFBMVEX///+IiIi6urrc3NxERETM\n",
       "zMwQEBCqqqpUVFQiIiJ2dnYyMjLu7u5mZmaYmJgAAABN0h6tAAAAAXRSTlMAQObYZgAAAxpJREFU\n",
       "SMe1Vk1oE0EYfck2yW6STQOCh6I0p1wNCIJCsQc9KEp78KJQLKIFQWku9mQxgoJWaiN6MKK4BRWN\n",
       "qLkIUmi7ehBFJEErFDEaEbyIbbEIVovr7vzszmy3yaG4h+7L9Pvem2/mzbcDIPURa336NgSNfm+0\n",
       "SEhOYO1Ptnfl2CujVUJqQRxK1ncwFqV8K89HIzX6njL7+Nh4B43bP1ouG9ArK9nnpV+vZ3aKvCQh\n",
       "XnQGhkz6jxeI/6CoC7G/PE8r0Peg9ZuXlGFq85ZlFRiJ/NwTeZMFPMoIvCTB+ZMcGWMhH4ABijrz\n",
       "WOIs65n0xOkcG9mLtm4C3gIqVpP2eHUT0X6B15W2J89CjgJjlD6bwR9Gonxj0gVOG17kyN7Q2650\n",
       "pFQqXWmIVXPeaBHqosAbID1tYoxbxl3weMIv3dbvVRdOS1Ur93MB0ollqD8F3gBp+7nJ4Utu0S9c\n",
       "+uLndxS0Px5/407DIRGmohQDpB3DLAu8JEGtyCFh7qRtN7hF0lx6D7ZTr1SnoHGvP/Qfk2H6uuCT\n",
       "3mQIvCRhqFcO0dxVDR1i642Et9K0pOoC9GNsYkR1UpDW6LIe8UlflXjthH2XIYfUPY4BOnhCkNap\n",
       "V9qLSLFDGCKrpl7y0lRnsyO7cjKvXpN4nYSsXHWIR2wGesiaJg0ube8NO/VaBSlmQo0csidC1W2E\n",
       "K+yreqPM6ySo3VLIMBTqUMtk0rHR+qfjaXJCKtCpV9R+t+r2gn+v6YLjjMQbqzmiLi9JkB0eMRCi\n",
       "0ocFr0dp1Topl4QtQ2emPljzORwdQQ4/AKwTeEkCle40kXQ6yNbyg/OoOvxzzvmrUqVoN0FKDV9z\n",
       "JAwjeJ6n6JQBuZvFKoI051WulWeLBM35zvXs4GQDJXuG05a1BO26s1f1mQxFiPf8ahDUdddutE4Y\n",
       "4u/PMrQlL0s/O2d60i5vwm71RYIIr9hSyHRdS5xEE+SFeUhopLt7xUbaNMHbpjiExrw68sIEFPD5\n",
       "uNMywTPnU/ejnW6G3DABNf1er57g3lLc+0wKzVAjAGUzK6UTRsuE2P+6mw03v5v9Azh/J/2wdkO7\n",
       "AAAAAElFTkSuQmCC\n",
       "\" style=\"display:inline;vertical-align:middle;\" /></a></span>"
      ],
      "text/plain": [
       "|- {1, 2, 3, 4, 5, 6, 7} proper_superset {1, 2, 3}"
      ]
     },
     "execution_count": 106,
     "metadata": {},
     "output_type": "execute_result"
    }
   ],
   "source": [
    "# use transitivity to go from first set to 3rd set:\n",
    "set_123_properSubset_set_12345.apply_transitivity(set_12345_properSubset_set_1234567)"
   ]
  },
  {
   "cell_type": "code",
   "execution_count": 107,
   "metadata": {},
   "outputs": [
    {
     "data": {
      "text/html": [
       "<strong id=\"A_properSubset_B\">A_properSubset_B:</strong> <a class=\"ProveItLink\" href=\"../__pv_it/theorems/bde8b0f2ff39b8364dd29b2c5e888384fdb817720/expr.ipynb\"><img src=\"data:image/png;base64,iVBORw0KGgoAAAANSUhEUgAAADsAAAAPBAMAAACo4Ko7AAAAMFBMVEX///92dnYiIiIQEBBERERU\n",
       "VFS6urqIiIjc3NxmZmaqqqru7u6YmJgyMjLMzMwAAADiRdoGAAAAAXRSTlMAQObYZgAAAO1JREFU\n",
       "GNNjYACBtwzogCf+68wQNyjnPoY0A7MDA8P8BxCl9zdgSL8/wMCQPwHM3DW/ASJ2RElJSQ/CrAcK\n",
       "nS8AMw/UJ4DpXgmEbmcGBm4jsKFsG9YfAAtpIBn+lYHhUTSYtY3hPdgUzgUIWb6vZ0q0IMwEhn6w\n",
       "G5iQNLP/YGDYHABWGDkz3gHEaEWSZjEAKvkFthroyQsgxhYkaX6gTvbvIBbQRiYDdMNB3mb9BmRw\n",
       "AKV5P4CEGAsQ0iBvvwdZ2QSy6QdY7BZC+jLQUhOgt7f8v83A5f8J7PStYbDAjf0fOdVlAXpAP3SC\n",
       "ByoEAACTQj18dtZaDQAAAABJRU5ErkJggg==\n",
       "\" style=\"display:inline;vertical-align:middle;\" /></a><br>\n",
       "<strong id=\"B_subset_eq_C\">B_subset_eq_C:</strong> <a class=\"ProveItLink\" href=\"../__pv_it/demonstrations/53ccbea8125b23174a1adfa3d422d9bed03e94700/expr.ipynb\"><img src=\"data:image/png;base64,iVBORw0KGgoAAAANSUhEUgAAAD0AAAARBAMAAACcIrmXAAAAMFBMVEX///92dnYyMjKqqqoiIiLu\n",
       "7u7c3NyIiIjMzMwQEBC6urpERERmZmZUVFSYmJgAAADEjrHzAAAAAXRSTlMAQObYZgAAAPZJREFU\n",
       "KM9jYGB4+//O2d0LGNABa/Wde2wCINZsBgaeHxDBty4uLh4QZuUDBuaTD4AMjn8MDFx/wGJJYnDt\n",
       "0a5A4nwCkGD/xsDA9x0sqIYwXjMASKwEsbgnMDBEglQz8BjApXk+g8geEMF/gYHDF6SagQWhPd8B\n",
       "RIaBiP57z7dANOYi5OUL4Mz6BAbWuRA3IeT9G+DMnSA1BmjmzwdbCCb+guTBxjEiDPUHEcwNUO8z\n",
       "3IeEnzJcHuxzRgao9zl+Q0RjbwXA3A8yShTEYgJ6f+VWqHDjFmj4MgNNtQEp5tX/e+b2ZozYYYjZ\n",
       "ewczzigEjC4uiPiFAAClfT1j6lc/fwAAAABJRU5ErkJggg==\n",
       "\" style=\"display:inline;vertical-align:middle;\" /></a><br>\n",
       "<strong id=\"B_equiv_D\">B_equiv_D:</strong> <a class=\"ProveItLink\" href=\"../__pv_it/demonstrations/6b0b1d899ab3bde52239187998defbd7e9a5a2070/expr.ipynb\"><img src=\"data:image/png;base64,iVBORw0KGgoAAAANSUhEUgAAAD0AAAAOBAMAAABuognZAAAAMFBMVEX///92dnYyMjKqqqoiIiLu\n",
       "7u7c3NyIiIjMzMwQEBC6urpERERmZmZUVFSYmJgAAADEjrHzAAAAAXRSTlMAQObYZgAAAPxJREFU\n",
       "GNNjYGB4+//O2d0LGICAUbcBSIKZQNG9t/cmgJmzGRh4foAYug/nAckLYEGGTwwMfJ9BDI5/DAxc\n",
       "f4AMvgKGIAEGNog8x3cgcRLEYv8GlALxeIF4d0JSA1ieHWTi+gdAgnsCA0OkK5DBA3LC/88Q47k/\n",
       "AIl8ASDBf4GBwzeAAQoioDT/BpB+kF39955vMWBAB/0FQKIepL8+gYF1Lth7SmBwACxfD3LGfZBf\n",
       "d4J4GAbsBxE/QcRfkHwBuvxvkIf/Qb0PMQgZgL0fuQHqfY7fSPZfgHmfVQnEYgJ6f+VWdOOZgN5f\n",
       "AnIpr/7fM7c3o0sDRc/ePgZkAABUSUwTWfxpogAAAABJRU5ErkJggg==\n",
       "\" style=\"display:inline;vertical-align:middle;\" /></a><br>\n",
       "<strong id=\"C_superset_eq_B\">C_superset_eq_B:</strong> <a class=\"ProveItLink\" href=\"../__pv_it/demonstrations/22103ea8b0800d87300d7bf8c17d5fed5c2d510a0/expr.ipynb\"><img src=\"data:image/png;base64,iVBORw0KGgoAAAANSUhEUgAAADsAAAARBAMAAACRPMnQAAAAMFBMVEX////MzMy6uroyMjIiIiKq\n",
       "qqoQEBB2dnbc3NyYmJhmZmZUVFRERESIiIju7u4AAACOKgoaAAAAAXRSTlMAQObYZgAAAPxJREFU\n",
       "KM9jYGDgu7NrJ0cBAyrg3P971Z5DINa1CQysyyYAGY9dXFzOwuTZDjAwrBdgYHjjB+Ssb4CKvjSC\n",
       "MuSBGvQXMDCYPQBy1OCmPoYqvA+k519g4PoK4kjBpRkNIPQxoKNSHjD0O4A4LxCOsoBQvxkYRPYx\n",
       "MNRfQHNzKcSQ3zPvuAJpfwE06UVgkvcHA8OzDQwM+SCXMTxASEPs5kkAKgE6yx/EYUUYwboBTPED\n",
       "Kd6/UB+zIzSLPIB7m/sTA0M/yGl1MEk+rRMIb8sDA471JwNDFEQHMFB9SqHqzBgYmHJAwq9O71Jg\n",
       "QAeb/+9afSaAgYoAFKEuLhuQhQCs00Y3UXordgAAAABJRU5ErkJggg==\n",
       "\" style=\"display:inline;vertical-align:middle;\" /></a><br>\n",
       "<strong id=\"F_superset_B\">F_superset_B:</strong> <a class=\"ProveItLink\" href=\"../__pv_it/demonstrations/ea510d3fddc08b6e38622f8159460d34f6b5cc410/expr.ipynb\"><img src=\"data:image/png;base64,iVBORw0KGgoAAAANSUhEUgAAADwAAAAPBAMAAABKPLFCAAAAMFBMVEX///8iIiLc3Nzu7u6qqqq6\n",
       "urp2dnbMzMyYmJgyMjIQEBBUVFRmZmZERESIiIgAAABzTYE0AAAAAXRSTlMAQObYZgAAAPJJREFU\n",
       "GNNjYGB4+//O6Vv/GNBA9/89p+8GgFg/gfgGujTDWgYGnu9Amv0bkGhFl2X/wcDA+gfI4PsKJNxB\n",
       "IoKCgrINUGm+TwwMHCArOT8zMDE4Q0WZMhUgDN4FDAxWwkAGvwCDBsJQJgEIzb+BgV3aAMiIP8Cw\n",
       "CclSHwhVv6PvogOIkT9n1wIkaUYI9V6BgXk1iDHfgHkDkjQ3xPJbICUg7R8ZmB2QpHkNwNRvkPQD\n",
       "oOe+oXqYEe5thv3AUGP7iir9DO5t9r8g1R9QZFkmgClOoGujLjMw2Mz/fQhJ1nQ32Gru+b/P7L2C\n",
       "FszAQL1WgCIEAOrpPY/B6IuoAAAAAElFTkSuQmCC\n",
       "\" style=\"display:inline;vertical-align:middle;\" /></a><br>"
      ],
      "text/plain": [
       "A_properSubset_B: A proper_subset B\n",
       "B_subset_eq_C: B subset_eq C\n",
       "B_equiv_D: B equiv D\n",
       "C_superset_eq_B: C superset_eq B\n",
       "F_superset_B: F proper_superset B"
      ]
     },
     "execution_count": 107,
     "metadata": {},
     "output_type": "execute_result"
    }
   ],
   "source": [
    "# This process can work more generally.\n",
    "# First define some set relations for convenience:\n",
    "A_properSubset_B, B_subset_eq_C, B_equiv_D, C_superset_eq_B, F_superset_B = (\n",
    "    ProperSubset(A, B), SubsetEq(B, C), SetEquiv(B, D),\n",
    "    superset_eq(C, B), proper_superset(F, B))"
   ]
  },
  {
   "cell_type": "code",
   "execution_count": 108,
   "metadata": {},
   "outputs": [
    {
     "data": {
      "text/html": [
       "<span style=\"font-size:20px;\"><a class=\"ProveItLink\" href=\"../__pv_it/theorems/bde8b0f2ff39b8364dd29b2c5e888384fdb817720/expr.ipynb\"><img src=\"data:image/png;base64,iVBORw0KGgoAAAANSUhEUgAAADsAAAAPBAMAAACo4Ko7AAAAMFBMVEX///92dnYiIiIQEBBERERU\n",
       "VFS6urqIiIjc3NxmZmaqqqru7u6YmJgyMjLMzMwAAADiRdoGAAAAAXRSTlMAQObYZgAAAO1JREFU\n",
       "GNNjYACBtwzogCf+68wQNyjnPoY0A7MDA8P8BxCl9zdgSL8/wMCQPwHM3DW/ASJ2RElJSQ/CrAcK\n",
       "nS8AMw/UJ4DpXgmEbmcGBm4jsKFsG9YfAAtpIBn+lYHhUTSYtY3hPdgUzgUIWb6vZ0q0IMwEhn6w\n",
       "G5iQNLP/YGDYHABWGDkz3gHEaEWSZjEAKvkFthroyQsgxhYkaX6gTvbvIBbQRiYDdMNB3mb9BmRw\n",
       "AKV5P4CEGAsQ0iBvvwdZ2QSy6QdY7BZC+jLQUhOgt7f8v83A5f8J7PStYbDAjf0fOdVlAXpAP3SC\n",
       "ByoEAACTQj18dtZaDQAAAABJRU5ErkJggg==\n",
       "\" style=\"display:inline;vertical-align:middle;\" /></a>, <a class=\"ProveItLink\" href=\"../__pv_it/demonstrations/53ccbea8125b23174a1adfa3d422d9bed03e94700/expr.ipynb\"><img src=\"data:image/png;base64,iVBORw0KGgoAAAANSUhEUgAAAD0AAAARBAMAAACcIrmXAAAAMFBMVEX///92dnYyMjKqqqoiIiLu\n",
       "7u7c3NyIiIjMzMwQEBC6urpERERmZmZUVFSYmJgAAADEjrHzAAAAAXRSTlMAQObYZgAAAPZJREFU\n",
       "KM9jYGB4+//O2d0LGNABa/Wde2wCINZsBgaeHxDBty4uLh4QZuUDBuaTD4AMjn8MDFx/wGJJYnDt\n",
       "0a5A4nwCkGD/xsDA9x0sqIYwXjMASKwEsbgnMDBEglQz8BjApXk+g8geEMF/gYHDF6SagQWhPd8B\n",
       "RIaBiP57z7dANOYi5OUL4Mz6BAbWuRA3IeT9G+DMnSA1BmjmzwdbCCb+guTBxjEiDPUHEcwNUO8z\n",
       "3IeEnzJcHuxzRgao9zl+Q0RjbwXA3A8yShTEYgJ6f+VWqHDjFmj4MgNNtQEp5tX/e+b2ZozYYYjZ\n",
       "ewczzigEjC4uiPiFAAClfT1j6lc/fwAAAABJRU5ErkJggg==\n",
       "\" style=\"display:inline;vertical-align:middle;\" /></a> <a class=\"ProveItLink\" href=\"../__pv_it/demonstrations/3dcdc4a7c751ce9dd9c03e1040a0c5aa559397550/proof.ipynb\" style=\"text-decoration: none\">&nbsp;&#x22A2;&nbsp;&nbsp;</a><a class=\"ProveItLink\" href=\"../__pv_it/theorems/14cba9978e02eb8101ac5f4f49c14a8aade2d3990/expr.ipynb\"><img src=\"data:image/png;base64,iVBORw0KGgoAAAANSUhEUgAAADsAAAAPBAMAAACo4Ko7AAAAMFBMVEX///92dnYiIiIQEBBERERU\n",
       "VFS6urqIiIjc3NxmZmaqqqru7u6YmJgyMjLMzMwAAADiRdoGAAAAAXRSTlMAQObYZgAAANtJREFU\n",
       "GNNjYACBtwwYgLskMoZDAMK+jyldfICBa/IBMJPn/gZ02S3aQGJ+A5i9C0ozHFFSUtIDsy6DNCRD\n",
       "RA/UJ4DpXgmYZs5fIPIlmM22YT3EEg242f0KIHIHmL2N4X0BWMsCuLR8AcIZCQz9E0A0E0JI/wGc\n",
       "yRc5M94BxGhFSNuDvQIm2BgYmC+APYOkG0RwgY0A2shkgGY42KeMIBYHUJr3A4jFiHBPP4gpDWI1\n",
       "ATHLD7DgLbg01x8GhpUgq7f8v83A5f8J7PStYfDA3ekamYARDw+dYIEKBQCOpjXOgAe5jAAAAABJ\n",
       "RU5ErkJggg==\n",
       "\" style=\"display:inline;vertical-align:middle;\" /></a></span>"
      ],
      "text/plain": [
       "{A proper_subset B, B subset_eq C} |- A proper_subset C"
      ]
     },
     "execution_count": 108,
     "metadata": {},
     "output_type": "execute_result"
    }
   ],
   "source": [
    "A_properSubset_B.apply_transitivity(\n",
    "    B_subset_eq_C, assumptions=[ProperSubset(A, B), SubsetEq(B, C)])"
   ]
  },
  {
   "cell_type": "code",
   "execution_count": 109,
   "metadata": {},
   "outputs": [
    {
     "data": {
      "text/html": [
       "<span style=\"font-size:20px;\"><a class=\"ProveItLink\" href=\"../__pv_it/theorems/bde8b0f2ff39b8364dd29b2c5e888384fdb817720/expr.ipynb\"><img src=\"data:image/png;base64,iVBORw0KGgoAAAANSUhEUgAAADsAAAAPBAMAAACo4Ko7AAAAMFBMVEX///92dnYiIiIQEBBERERU\n",
       "VFS6urqIiIjc3NxmZmaqqqru7u6YmJgyMjLMzMwAAADiRdoGAAAAAXRSTlMAQObYZgAAAO1JREFU\n",
       "GNNjYACBtwzogCf+68wQNyjnPoY0A7MDA8P8BxCl9zdgSL8/wMCQPwHM3DW/ASJ2RElJSQ/CrAcK\n",
       "nS8AMw/UJ4DpXgmEbmcGBm4jsKFsG9YfAAtpIBn+lYHhUTSYtY3hPdgUzgUIWb6vZ0q0IMwEhn6w\n",
       "G5iQNLP/YGDYHABWGDkz3gHEaEWSZjEAKvkFthroyQsgxhYkaX6gTvbvIBbQRiYDdMNB3mb9BmRw\n",
       "AKV5P4CEGAsQ0iBvvwdZ2QSy6QdY7BZC+jLQUhOgt7f8v83A5f8J7PStYbDAjf0fOdVlAXpAP3SC\n",
       "ByoEAACTQj18dtZaDQAAAABJRU5ErkJggg==\n",
       "\" style=\"display:inline;vertical-align:middle;\" /></a>, <a class=\"ProveItLink\" href=\"../__pv_it/demonstrations/6b0b1d899ab3bde52239187998defbd7e9a5a2070/expr.ipynb\"><img src=\"data:image/png;base64,iVBORw0KGgoAAAANSUhEUgAAAD0AAAAOBAMAAABuognZAAAAMFBMVEX///92dnYyMjKqqqoiIiLu\n",
       "7u7c3NyIiIjMzMwQEBC6urpERERmZmZUVFSYmJgAAADEjrHzAAAAAXRSTlMAQObYZgAAAPxJREFU\n",
       "GNNjYGB4+//O2d0LGICAUbcBSIKZQNG9t/cmgJmzGRh4foAYug/nAckLYEGGTwwMfJ9BDI5/DAxc\n",
       "f4AMvgKGIAEGNog8x3cgcRLEYv8GlALxeIF4d0JSA1ieHWTi+gdAgnsCA0OkK5DBA3LC/88Q47k/\n",
       "AIl8ASDBf4GBwzeAAQoioDT/BpB+kF39955vMWBAB/0FQKIepL8+gYF1Lth7SmBwACxfD3LGfZBf\n",
       "d4J4GAbsBxE/QcRfkHwBuvxvkIf/Qb0PMQgZgL0fuQHqfY7fSPZfgHmfVQnEYgJ6f+VWdOOZgN5f\n",
       "AnIpr/7fM7c3o0sDRc/ePgZkAABUSUwTWfxpogAAAABJRU5ErkJggg==\n",
       "\" style=\"display:inline;vertical-align:middle;\" /></a> <a class=\"ProveItLink\" href=\"../__pv_it/demonstrations/6f53d7e47b172e952145882ff9105462408e6fee0/proof.ipynb\" style=\"text-decoration: none\">&nbsp;&#x22A2;&nbsp;&nbsp;</a><a class=\"ProveItLink\" href=\"../__pv_it/demonstrations/33ba2afc6c2dd65411a5360726d814410f43c0120/expr.ipynb\"><img src=\"data:image/png;base64,iVBORw0KGgoAAAANSUhEUgAAADwAAAAPBAMAAABKPLFCAAAAMFBMVEX///92dnYiIiIQEBBERERU\n",
       "VFS6urqIiIjc3NxmZmaqqqru7u6YmJgyMjLMzMwAAADiRdoGAAAAAXRSTlMAQObYZgAAAOpJREFU\n",
       "GNNjYACBtwzogCf+S6hLBJRzH0Oagf8CA8P5BRCl9zdgSL8vYGDgNAAzd81vgBrppKSk9ADMrAdS\n",
       "bH/AzAP1CWCa42IDXLc/iP8RxGLbsP4AWIgJIcvwBSTxFcTaBrYICGYhZPm+Awl2sO4Ehv4JYDEF\n",
       "hDT7PyDB+g2kMHJmvAPY6gCENMsHkOdALmdjYGC+ABLidkDyNoh9HuQkoN+ZDNANB7mG2wRkJFCa\n",
       "9wNYTBwhDfL2XpCZTSCbfoDFeBfApYHBzKYJpLf8v83A5f8J7HTu0GyobOz/yFDPBvSA5hOBByoE\n",
       "AACybDqZ9wimeQAAAABJRU5ErkJggg==\n",
       "\" style=\"display:inline;vertical-align:middle;\" /></a></span>"
      ],
      "text/plain": [
       "{A proper_subset B, B equiv D} |- A proper_subset D"
      ]
     },
     "execution_count": 109,
     "metadata": {},
     "output_type": "execute_result"
    }
   ],
   "source": [
    "# transitivity when other relation is an equality\n",
    "A_properSubset_B.apply_transitivity(\n",
    "        B_equiv_D, assumptions=[A_properSubset_B, B_equiv_D])"
   ]
  },
  {
   "cell_type": "code",
   "execution_count": 110,
   "metadata": {},
   "outputs": [
    {
     "data": {
      "text/html": [
       "<span style=\"font-size:20px;\"><a class=\"ProveItLink\" href=\"../__pv_it/theorems/bde8b0f2ff39b8364dd29b2c5e888384fdb817720/expr.ipynb\"><img src=\"data:image/png;base64,iVBORw0KGgoAAAANSUhEUgAAADsAAAAPBAMAAACo4Ko7AAAAMFBMVEX///92dnYiIiIQEBBERERU\n",
       "VFS6urqIiIjc3NxmZmaqqqru7u6YmJgyMjLMzMwAAADiRdoGAAAAAXRSTlMAQObYZgAAAO1JREFU\n",
       "GNNjYACBtwzogCf+68wQNyjnPoY0A7MDA8P8BxCl9zdgSL8/wMCQPwHM3DW/ASJ2RElJSQ/CrAcK\n",
       "nS8AMw/UJ4DpXgmEbmcGBm4jsKFsG9YfAAtpIBn+lYHhUTSYtY3hPdgUzgUIWb6vZ0q0IMwEhn6w\n",
       "G5iQNLP/YGDYHABWGDkz3gHEaEWSZjEAKvkFthroyQsgxhYkaX6gTvbvIBbQRiYDdMNB3mb9BmRw\n",
       "AKV5P4CEGAsQ0iBvvwdZ2QSy6QdY7BZC+jLQUhOgt7f8v83A5f8J7PStYbDAjf0fOdVlAXpAP3SC\n",
       "ByoEAACTQj18dtZaDQAAAABJRU5ErkJggg==\n",
       "\" style=\"display:inline;vertical-align:middle;\" /></a>, <a class=\"ProveItLink\" href=\"../__pv_it/demonstrations/22103ea8b0800d87300d7bf8c17d5fed5c2d510a0/expr.ipynb\"><img src=\"data:image/png;base64,iVBORw0KGgoAAAANSUhEUgAAADsAAAARBAMAAACRPMnQAAAAMFBMVEX////MzMy6uroyMjIiIiKq\n",
       "qqoQEBB2dnbc3NyYmJhmZmZUVFRERESIiIju7u4AAACOKgoaAAAAAXRSTlMAQObYZgAAAPxJREFU\n",
       "KM9jYGDgu7NrJ0cBAyrg3P971Z5DINa1CQysyyYAGY9dXFzOwuTZDjAwrBdgYHjjB+Ssb4CKvjSC\n",
       "MuSBGvQXMDCYPQBy1OCmPoYqvA+k519g4PoK4kjBpRkNIPQxoKNSHjD0O4A4LxCOsoBQvxkYRPYx\n",
       "MNRfQHNzKcSQ3zPvuAJpfwE06UVgkvcHA8OzDQwM+SCXMTxASEPs5kkAKgE6yx/EYUUYwboBTPED\n",
       "Kd6/UB+zIzSLPIB7m/sTA0M/yGl1MEk+rRMIb8sDA471JwNDFEQHMFB9SqHqzBgYmHJAwq9O71Jg\n",
       "QAeb/+9afSaAgYoAFKEuLhuQhQCs00Y3UXordgAAAABJRU5ErkJggg==\n",
       "\" style=\"display:inline;vertical-align:middle;\" /></a> <a class=\"ProveItLink\" href=\"../__pv_it/demonstrations/f1af15b1a124dea5c7025ce7a109e2a6e9f047420/proof.ipynb\" style=\"text-decoration: none\">&nbsp;&#x22A2;&nbsp;&nbsp;</a><a class=\"ProveItLink\" href=\"../__pv_it/theorems/14cba9978e02eb8101ac5f4f49c14a8aade2d3990/expr.ipynb\"><img src=\"data:image/png;base64,iVBORw0KGgoAAAANSUhEUgAAADsAAAAPBAMAAACo4Ko7AAAAMFBMVEX///92dnYiIiIQEBBERERU\n",
       "VFS6urqIiIjc3NxmZmaqqqru7u6YmJgyMjLMzMwAAADiRdoGAAAAAXRSTlMAQObYZgAAANtJREFU\n",
       "GNNjYACBtwwYgLskMoZDAMK+jyldfICBa/IBMJPn/gZ02S3aQGJ+A5i9C0ozHFFSUtIDsy6DNCRD\n",
       "RA/UJ4DpXgmYZs5fIPIlmM22YT3EEg242f0KIHIHmL2N4X0BWMsCuLR8AcIZCQz9E0A0E0JI/wGc\n",
       "yRc5M94BxGhFSNuDvQIm2BgYmC+APYOkG0RwgY0A2shkgGY42KeMIBYHUJr3A4jFiHBPP4gpDWI1\n",
       "ATHLD7DgLbg01x8GhpUgq7f8v83A5f8J7PStYfDA3ekamYARDw+dYIEKBQCOpjXOgAe5jAAAAABJ\n",
       "RU5ErkJggg==\n",
       "\" style=\"display:inline;vertical-align:middle;\" /></a></span>"
      ],
      "text/plain": [
       "{A proper_subset B, C superset_eq B} |- A proper_subset C"
      ]
     },
     "execution_count": 110,
     "metadata": {},
     "output_type": "execute_result"
    }
   ],
   "source": [
    "# transitivity when other relation is a SupersetEq\n",
    "# ProperSubset(A, B) and SupersetEq(C, B)?\n",
    "A_properSubset_B.apply_transitivity(\n",
    "        C_superset_eq_B, assumptions=[A_properSubset_B, C_superset_eq_B])"
   ]
  },
  {
   "cell_type": "code",
   "execution_count": 111,
   "metadata": {},
   "outputs": [
    {
     "data": {
      "text/html": [
       "<span style=\"font-size:20px;\"><a class=\"ProveItLink\" href=\"../__pv_it/theorems/bde8b0f2ff39b8364dd29b2c5e888384fdb817720/expr.ipynb\"><img src=\"data:image/png;base64,iVBORw0KGgoAAAANSUhEUgAAADsAAAAPBAMAAACo4Ko7AAAAMFBMVEX///92dnYiIiIQEBBERERU\n",
       "VFS6urqIiIjc3NxmZmaqqqru7u6YmJgyMjLMzMwAAADiRdoGAAAAAXRSTlMAQObYZgAAAO1JREFU\n",
       "GNNjYACBtwzogCf+68wQNyjnPoY0A7MDA8P8BxCl9zdgSL8/wMCQPwHM3DW/ASJ2RElJSQ/CrAcK\n",
       "nS8AMw/UJ4DpXgmEbmcGBm4jsKFsG9YfAAtpIBn+lYHhUTSYtY3hPdgUzgUIWb6vZ0q0IMwEhn6w\n",
       "G5iQNLP/YGDYHABWGDkz3gHEaEWSZjEAKvkFthroyQsgxhYkaX6gTvbvIBbQRiYDdMNB3mb9BmRw\n",
       "AKV5P4CEGAsQ0iBvvwdZ2QSy6QdY7BZC+jLQUhOgt7f8v83A5f8J7PStYbDAjf0fOdVlAXpAP3SC\n",
       "ByoEAACTQj18dtZaDQAAAABJRU5ErkJggg==\n",
       "\" style=\"display:inline;vertical-align:middle;\" /></a>, <a class=\"ProveItLink\" href=\"../__pv_it/demonstrations/43f1b47e08b7efa52b930a577894b7081d49f44a0/expr.ipynb\"><img src=\"data:image/png;base64,iVBORw0KGgoAAAANSUhEUgAAAD0AAAAPBAMAAACl/tp8AAAAMFBMVEX///92dnYyMjKqqqoiIiLu\n",
       "7u7c3NyIiIjMzMwQEBC6urpERERmZmZUVFSYmJgAAADEjrHzAAAAAXRSTlMAQObYZgAAAPNJREFU\n",
       "GNNjYGB4+//O2d0LGNAA+/7fZ27PLwAxZzMw8PxAl2fgV2Bg4H4AZHD8Y2Dg+oMh3y/AwMAHMpb9\n",
       "G5DxHSL42sXFxQPCrAfKMTcAGdwTGBgiXcFiSWII/foBDAnMASCLLjBw+AaAxdyQzP/CwPYAYtG9\n",
       "51sMwCweA4Q00EW8CRCLEhhY54JZLEjaGT+dnQlh7QSpAevMRZJn+soQC2H9BcmDAyIa2fsODMFg\n",
       "Bsj7DPcXoJu/XgAWkEDvc/yG2FmAkJeHhTgT0Psrt0LYygh5fyjNq//3zO3NUE7sLUg4MLAe+n8n\n",
       "gQETNG6Bhy8EAACA8z12gE/dhQAAAABJRU5ErkJggg==\n",
       "\" style=\"display:inline;vertical-align:middle;\" /></a> <a class=\"ProveItLink\" href=\"../__pv_it/demonstrations/0ece436014ec6c80057c33b823b8e6ff5fc10d630/proof.ipynb\" style=\"text-decoration: none\">&nbsp;&#x22A2;&nbsp;&nbsp;</a><a class=\"ProveItLink\" href=\"../__pv_it/demonstrations/74f7d09016f2978187b709a4a22dc52a8f4935bf0/expr.ipynb\"><img src=\"data:image/png;base64,iVBORw0KGgoAAAANSUhEUgAAADsAAAAPBAMAAACo4Ko7AAAAMFBMVEX///92dnYiIiIQEBBERERU\n",
       "VFS6urqIiIjc3NxmZmaqqqru7u6YmJgyMjLMzMwAAADiRdoGAAAAAXRSTlMAQObYZgAAAN1JREFU\n",
       "GNNjYACBtwzogN3/y8wQ+wII5z6GNAP/BQYGlgNgJs/9DRjS7wWA4glg5q75DRCxI0pKSnoQZj1Q\n",
       "iusBmHmgHqKsVwKhG2hgAxfYULYN6yGWaCAZ/omBAyLIsI3hPdiJnAsQsmw/GVihNiYw9E8A0UxI\n",
       "mhn/TjWGsPgiZ8Y7gBitSNK8vxm2Qs1hYGC+AGJsQfa2AsMuCAtoI5MBuuH5AlAGB1Ca9wPYvgKE\n",
       "tHwClNEExCw/wMxbCGl9KL3l/20GLv9PYKdvDYMGLvfc/5ENmPHw0AkeqBAAAL/NNfL4EznGAAAA\n",
       "AElFTkSuQmCC\n",
       "\" style=\"display:inline;vertical-align:middle;\" /></a></span>"
      ],
      "text/plain": [
       "{A proper_subset B, B proper_subset F} |- A proper_subset F"
      ]
     },
     "execution_count": 111,
     "metadata": {},
     "output_type": "execute_result"
    }
   ],
   "source": [
    "# transitivity when other relation is a Superse\n",
    "# SubsetEq(A, B) and ProperSuperset(F, B)?\n",
    "A_properSubset_B.apply_transitivity(\n",
    "        F_superset_B, assumptions=[A_properSubset_B, F_superset_B])"
   ]
  },
  {
   "cell_type": "markdown",
   "metadata": {},
   "source": [
    "### `ProperSubset.deduce_in_bool()`"
   ]
  },
  {
   "cell_type": "code",
   "execution_count": 112,
   "metadata": {},
   "outputs": [
    {
     "data": {
      "text/html": [
       "<span style=\"font-size:20px;\"> <a class=\"ProveItLink\" href=\"../__pv_it/demonstrations/0a2aa155080df1659df83f380a16991fa8114bbe0/proof.ipynb\" style=\"text-decoration: none\">&nbsp;&#x22A2;&nbsp;&nbsp;</a><a class=\"ProveItLink\" href=\"../__pv_it/theorems/7365a3fa23b24862c83a1824766d1b1a25b865960/expr.ipynb\"><img src=\"data:image/png;base64,iVBORw0KGgoAAAANSUhEUgAAAHEAAAAUBAMAAABIac8KAAAAMFBMVEX///9UVFTMzMx2dna6uroQ\n",
       "EBCqqqqIiIgiIiJmZmYyMjJERETu7u6YmJjc3NwAAAC+aOQFAAAAAXRSTlMAQObYZgAAAcxJREFU\n",
       "OMtjYOC7wIAXsD3AJXMaQmlhSPDKf5wpvYWBQQ5NvCJ6/9JGByBjHYS/HtNM1g0MDPMVGE6hiy9Q\n",
       "59kzF2jyBIgF6w9g6NQH+sN/AgNzAZr4Bl+GIm4GBg6IN47Nh3rndkdHRxOEWQ8Uul/AwBMAdf2O\n",
       "ji6YzjSgzhcQ4Qv1DmD6lR3C7K0MDDwRQKcsAfOYth9A2GkCDJ1KMIflQD4kiPuQXPWRgUFDBkhb\n",
       "gnmnDiBcy9IkxMCwF8w5wqAP9g1nAkIj08e71W0gxi0wFxHEG1z7vwJdCJZjcGB4Dw4pDiQr2f8x\n",
       "MBwVADIyIOqRQ8j2MgNDCNh4yZnyYJmHSDq5gSHD/g0UxmAlUauAAKaTm+UCRCcLMPIWICULMOAH\n",
       "2sf+HaaTD8VObgYBiGuBvuMIQHctKDoZvwAZHmBuALJORoYF4BDiA+rk+gASRI51UHTqb4CH0HQU\n",
       "O3kNwEEOilPuf2DRZQidS4G+iAZFxWQwlwMe7AuUGYwngp1y+v8aBrb9P8CBe1AEFm1S/yUn7gar\n",
       "XgTm80j7oKZ4DrRMpLwDnvqggKcBQrNYQ1MfLC9NYCAAMFI8DOwjpPMUgZyNG+A0mlBpwoujNAEA\n",
       "7Ap8tIEbFGYAAAAASUVORK5CYII=\n",
       "\" style=\"display:inline;vertical-align:middle;\" /></a></span>"
      ],
      "text/plain": [
       "|- (A proper_subset B) in BOOLEAN"
      ]
     },
     "execution_count": 112,
     "metadata": {},
     "output_type": "execute_result"
    }
   ],
   "source": [
    "# Proper subset claims are Boolean values\n",
    "A_properSubset_B.deduce_in_bool()"
   ]
  },
  {
   "cell_type": "code",
   "execution_count": 113,
   "metadata": {},
   "outputs": [
    {
     "data": {
      "text/html": [
       "<span style=\"font-size:20px;\"> <a class=\"ProveItLink\" href=\"../__pv_it/demonstrations/7721131d2bc7739b3af77d1e700e2cc38e53e83e0/proof.ipynb\" style=\"text-decoration: none\">&nbsp;&#x22A2;&nbsp;&nbsp;</a><a class=\"ProveItLink\" href=\"../__pv_it/demonstrations/c18d4ff16b84dae8baa196d8c40703c33198a0db0/expr.ipynb\"><img src=\"data:image/png;base64,iVBORw0KGgoAAAANSUhEUgAAAP8AAAAVBAMAAAB7+SUdAAAAMFBMVEX////MzMxUVFR2dna6uroQ\n",
       "EBCqqqqIiIgiIiJmZmYyMjJERETu7u6YmJjc3NwAAACgK8IjAAAAAXRSTlMAQObYZgAAA4VJREFU\n",
       "SMelVl1IVEEUPu69Xvfn7rrQQ0SQW1CGUiyYqIWwL0IPhQo+VFbsUyRErlhsRoEZ6FJRptCCoW1R\n",
       "D0XUQoQWlZd+EO1hF3qwAnGpF32zsg3Eopk5c//23rskDSz7zcw5535z/mYA2PiUhTWMDedsFp1N\n",
       "lCSVYtYCRHEmDGsaTUHLUjETYiuAlHPafU9+88YF+WmvjdjGg4aJJ2XZnzcbPWCajpDfzgKFM+2T\n",
       "9/oiBDwiv3rTlnfQjmjegAUrRbMJuG/ZnCnUSK2XX4wC+Act2uVROzeurolA3rIpxAo00vuhywfg\n",
       "zlm0m+1yxvRNnJQkEonLWVsCJrq4Kbcg9k8kLqkEjhECC1btersImOKiswnsztkpFbiIbd7FkhhX\n",
       "dA/sIgnYowoEhpOHcedO/AaXqYvzdF+sq+BxeRMfI/Zb9CLqNXxjseE0mvdW9nB5Id4FUEtRA1aL\n",
       "oodAvLAZ4CXFVbS0ct4lrIIVJYPHWoj6MN3FozCJiuJV+ErcuKSfrgP/qlDsMc4yD+U/yK8fnvMS\n",
       "+cwW9GJIN137Saqgn0CJ1Kl8BDxptiGtQjkmzEVw4TneZVklURSVr5uT3I1KrSh2Exc7FfiFu2HY\n",
       "xuN3HD9rTMLGDwBtJCwT5MCeVXDH1CLPsK7i0TLplkLIsLF19jx1hWtAs+Oi3mImqNiAWvjyD1WT\n",
       "ju3EdAVLgUMPyFAJ+MQsJcA6VWkaMkE13ZrZwUs1tu0gLyP6ztNE94BPUZsdFfumtgExzzWZyRBw\n",
       "AgGTB3wQYiGAaqCH7uRtIMt5Z9TuSk4j8ajjuYw5gCGgJgxiv7n7uB9YDuxlsMVIwAUpTEKSwpko\n",
       "VGG/Lo+QfOBMgLlCzoMrdZKnBZSZqgC6tSowiC3TfEAmIPEqwCRMmjzgD2NxEG1fzN8nQIZkvSvr\n",
       "G2TAE4LpIAUwDh9DYXmFoLMgj5nKXErpZaiL7YBnwMAQ0KRlNTqMDtPabGod1Axxx1D6lV1fToH7\n",
       "CkHJRmAAauZiCF7HN1VGIEECUzY6Z+ozb7coOgFdbLqbOIACoXFWbRK3MZzV+8yXUUErPuEMQFKs\n",
       "rfhJ0NI+NTFdnrViTlrcw1sxH+wyqtWmYWcAQrHLqNYqJhS/jNTxyniZyzFHADD1b++BKav8iN11\n",
       "bHyQeNVj+sERAOhvrqaI9bIKW8Q0ILbxgzo+yaDj/9+EHcXfhH6HJ9lf+voGuPIC7OwAAAAASUVO\n",
       "RK5CYII=\n",
       "\" style=\"display:inline;vertical-align:middle;\" /></a></span>"
      ],
      "text/plain": [
       "|- ({a, b, c, d, e} proper_superset {a, b, c}) in BOOLEAN"
      ]
     },
     "execution_count": 113,
     "metadata": {},
     "output_type": "execute_result"
    }
   ],
   "source": [
    "# Proper subset claims are Boolean values\n",
    "set_abc_properSubset_set_abcde.deduce_in_bool()"
   ]
  },
  {
   "cell_type": "markdown",
   "metadata": {},
   "source": [
    "### Testing the `SubsetEq` class methods\n",
    "<br/>\n",
    "<font size =3>The <span style=\"font-family=courier\">SubsetEq</span> class has the following class methods:<br/>\n",
    "    <div style=\"width: 50%; border: 1px solid green; padding: 5px; margin: 20px; background-color: gainsboro; font-family:courier;\">\n",
    "    <ul>\n",
    "    <li>reversed(self)</li>\n",
    "    <li>conclude(self, assumptions=USE_DEFAULTS)</li>\n",
    "    <li>conclude_via_equality(self, assumptions)</li>\n",
    "    <li>unfold(self, elem_instance_var=x, assumptions=USE_DEFAULTS)</li>\n",
    "    <li>derive_superset_membership(self, element, assumptions=USE_DEFAULTS)</li>\n",
    "    <li>conclude_as_folded(self, elem_instance_var=x, assumptions=USE_DEFAULTS)</li>\n",
    "    <li>apply_transitivity(self, other, assumptions=USE_DEFAULTS)</li>\n",
    "    <li>deduce_in_bool(self, assumptions=USE_DEFAULTS)</li>\n",
    "    </ul>\n",
    "    </div>\n",
    "</font>"
   ]
  },
  {
   "cell_type": "markdown",
   "metadata": {},
   "source": [
    "### `SubsetEq.reversed()`"
   ]
  },
  {
   "cell_type": "code",
   "execution_count": 114,
   "metadata": {},
   "outputs": [
    {
     "data": {
      "text/html": [
       "<strong id=\"set_13\">set_13:</strong> <a class=\"ProveItLink\" href=\"../__pv_it/demonstrations/583bab243b91edf95291b6b1e221b502ce15d4230/expr.ipynb\"><img src=\"data:image/png;base64,iVBORw0KGgoAAAANSUhEUgAAADAAAAAVBAMAAADyTXAxAAAAMFBMVEX///+IiIi6urrc3NxERETM\n",
       "zMwQEBCqqqpUVFQiIiJ2dnYyMjLu7u5mZmaYmJgAAABN0h6tAAAAAXRSTlMAQObYZgAAANhJREFU\n",
       "KM9jYGDgu8eABmJlQCTPLgYMoBYAJPg+IAsxr1pSwMDAuwHI5JoAEig7AJGwZWD/BxUDETxd/VAJ\n",
       "+QKGn0gSDAzvoRJqCgy/sUowoBqFLHFyAVAsAcjg2IAiYTX3ANSlZQGoOhiTgMReBoaQyQyoEgxp\n",
       "QCbHRKgv4RLGDAz+QB/uANnhgCzx/wBIAmwHqqtSGBjmH4C4CiIhf4CBB+gzhndo/riRv/cBw0yg\n",
       "Lqa7VxRQPAj2M9xlEIkEOJcBRQIRHwfhEuD4YIDH4ANEDCqAjcYa5wB8I0pFFMHetQAAAABJRU5E\n",
       "rkJggg==\n",
       "\" style=\"display:inline;vertical-align:middle;\" /></a><br>\n",
       "<strong id=\"set_1234\">set_1234:</strong> <a class=\"ProveItLink\" href=\"../__pv_it/demonstrations/fb85f5a90f0d7a54e867010d97cbd5fbcdf682870/expr.ipynb\"><img src=\"data:image/png;base64,iVBORw0KGgoAAAANSUhEUgAAAFcAAAAVBAMAAADBdm84AAAAMFBMVEX///+IiIi6urrc3NxERETM\n",
       "zMwQEBCqqqpUVFQiIiJ2dnYyMjLu7u5mZmaYmJgAAABN0h6tAAAAAXRSTlMAQObYZgAAAXFJREFU\n",
       "KM+Nk71Lw0AYxp+09tOYdHJ2chOy6iBFBNcMroIUlQrO4qDoJHSxBRcVwQ4itlDoKC6mW3GxnW1K\n",
       "/gPFwaIt1PtMckSxL9zdk4cflzdP7gAYffxfia5DF/0Rk1Rsm87Ge9jT3VWbq6X6mu9ukPFKRbZC\n",
       "ptSesNvIfjAR7+DYk/AFGTUJt+9Hwu4BO0xoA5gVYWrFMAxDwrtA2WI9FmA2hbn88Dv85KAsmg7a\n",
       "qP4Bk7pxxLdeCcOwKHxHZbqpwrFvvsZrPeG0QOE3KvdtFc6cSDU7J7pg8HQHWD+HCru+SvI8UzaD\n",
       "UcoB8+rOWkd0YWFqwNQz+M70jem8Ah9RjJQ5kvCB6352Rc9qGokqNAYn88j4OxRlGgzWiP9CY1ms\n",
       "N0pMGR7JWR9yeCuc88zpsI/MNf0p4/EXVwvuCnDJMr8dn4V/CqtDRFTK8T0Ob8rHKiIqCxX2z7Oe\n",
       "Q0S1ApidZ8ibYvh+oLzgFBR4XxPfwR9wqXD5z5LFIAAAAABJRU5ErkJggg==\n",
       "\" style=\"display:inline;vertical-align:middle;\" /></a><br>"
      ],
      "text/plain": [
       "set_13: {1, 3}\n",
       "set_1234: {1, 2, 3, 4}"
      ]
     },
     "execution_count": 114,
     "metadata": {},
     "output_type": "execute_result"
    }
   ],
   "source": [
    "set_13, set_1234 = Set(one, three), Set(one, two, three, four)"
   ]
  },
  {
   "cell_type": "code",
   "execution_count": 115,
   "metadata": {},
   "outputs": [
    {
     "data": {
      "text/html": [
       "<strong id=\"set_1234__superset__set_13\">set_1234__superset__set_13:</strong> <a class=\"ProveItLink\" href=\"../__pv_it/demonstrations/ad336cccb7b733562059d32924b55a577302c0930/expr.ipynb\"><img src=\"data:image/png;base64,iVBORw0KGgoAAAANSUhEUgAAAKUAAAAVBAMAAADVzzOcAAAAMFBMVEX///+IiIi6urrc3NxERETM\n",
       "zMwQEBCqqqpUVFQiIiJ2dnYyMjLu7u5mZmaYmJgAAABN0h6tAAAAAXRSTlMAQObYZgAAAi9JREFU\n",
       "OMudlT1IHEEUx99qzvXu1j2r1KnSBbZNiiAiiFZX2IVACDkxYHFVuCJHLIIggSjEwhXBLeTwhICQ\n",
       "xqTxTHWYIh7YnSv2IhcsFPXg3H3z5mt3oiEDu/vmzfv/dj7ezACAewz3l0yrYfCenZjDnB/wL6Wv\n",
       "lPb9Cv4S5v5RfU44VmTWs61x4X0ZPe00s6PVmADDckvRy56lhibkztHoP4APYmQr0VNn//zu+8vD\n",
       "5EYXl5KgzpnNzS6FHQFMo2FdQmGJnNaMYCL39JFkCikJBBNcznwLsOjhxLyGwjY5n+9oTHC+Kf3k\n",
       "UhIYmLsNWKQJlWMPEkx4YWCSwMCMyjpljbNKDteLmTWFmfdMTBRg2OC2zuy7pjmvH5FnD3YSi5wr\n",
       "4+eTxmQCDHtX1JnZOW49pKUIkJk/kMwhbLFLibHHgjhs6kuiIRTWAMsSu4hMWBiWY8c9M+ElpCiI\n",
       "wx7r/bSoO/0ePLhEax9YP+dkPyvqnulqAgwbHNGY1bgxKoUuZ1bC8KKlzWdmjX0/qkwSdNLrngnA\n",
       "QubACGTFj2a0df956BlyiQQ1wbSi2u84AZ5ufV1Ayz2J0s25YfFvtL05WVb3JpeiQMnPofmbY8jG\n",
       "I9rt9a6Y9SQcBfAxVzd6n/WcV5hSigIl57G8h5RlNzSAgZmUMuYrXpWnobBycBezlhbQHPPz0xH5\n",
       "J609CWiL+fT9lcT5KQUUxs95V/ilJe+G6NhJlXyQElCY/f/3UdV4H90C2IvFprwslrEAAAAASUVO\n",
       "RK5CYII=\n",
       "\" style=\"display:inline;vertical-align:middle;\" /></a><br>"
      ],
      "text/plain": [
       "set_1234__superset__set_13: {1, 2, 3, 4} superset_eq {1, 3}"
      ]
     },
     "execution_count": 115,
     "metadata": {},
     "output_type": "execute_result"
    }
   ],
   "source": [
    "set_1234__superset__set_13 = SubsetEq(set_13, set_1234).reversed()"
   ]
  },
  {
   "cell_type": "code",
   "execution_count": 116,
   "metadata": {},
   "outputs": [
    {
     "data": {
      "text/html": [
       "<span style=\"font-size:20px;\"> <a class=\"ProveItLink\" href=\"../__pv_it/demonstrations/e13fde9a4ad37dcfee40a994399004e96f12e50e0/proof.ipynb\" style=\"text-decoration: none\">&nbsp;&#x22A2;&nbsp;&nbsp;</a><a class=\"ProveItLink\" href=\"../__pv_it/demonstrations/ad336cccb7b733562059d32924b55a577302c0930/expr.ipynb\"><img src=\"data:image/png;base64,iVBORw0KGgoAAAANSUhEUgAAAKUAAAAVBAMAAADVzzOcAAAAMFBMVEX///+IiIi6urrc3NxERETM\n",
       "zMwQEBCqqqpUVFQiIiJ2dnYyMjLu7u5mZmaYmJgAAABN0h6tAAAAAXRSTlMAQObYZgAAAi9JREFU\n",
       "OMudlT1IHEEUx99qzvXu1j2r1KnSBbZNiiAiiFZX2IVACDkxYHFVuCJHLIIggSjEwhXBLeTwhICQ\n",
       "xqTxTHWYIh7YnSv2IhcsFPXg3H3z5mt3oiEDu/vmzfv/dj7ezACAewz3l0yrYfCenZjDnB/wL6Wv\n",
       "lPb9Cv4S5v5RfU44VmTWs61x4X0ZPe00s6PVmADDckvRy56lhibkztHoP4APYmQr0VNn//zu+8vD\n",
       "5EYXl5KgzpnNzS6FHQFMo2FdQmGJnNaMYCL39JFkCikJBBNcznwLsOjhxLyGwjY5n+9oTHC+Kf3k\n",
       "UhIYmLsNWKQJlWMPEkx4YWCSwMCMyjpljbNKDteLmTWFmfdMTBRg2OC2zuy7pjmvH5FnD3YSi5wr\n",
       "4+eTxmQCDHtX1JnZOW49pKUIkJk/kMwhbLFLibHHgjhs6kuiIRTWAMsSu4hMWBiWY8c9M+ElpCiI\n",
       "wx7r/bSoO/0ePLhEax9YP+dkPyvqnulqAgwbHNGY1bgxKoUuZ1bC8KKlzWdmjX0/qkwSdNLrngnA\n",
       "QubACGTFj2a0df956BlyiQQ1wbSi2u84AZ5ufV1Ayz2J0s25YfFvtL05WVb3JpeiQMnPofmbY8jG\n",
       "I9rt9a6Y9SQcBfAxVzd6n/WcV5hSigIl57G8h5RlNzSAgZmUMuYrXpWnobBycBezlhbQHPPz0xH5\n",
       "J609CWiL+fT9lcT5KQUUxs95V/ilJe+G6NhJlXyQElCY/f/3UdV4H90C2IvFprwslrEAAAAASUVO\n",
       "RK5CYII=\n",
       "\" style=\"display:inline;vertical-align:middle;\" /></a></span>"
      ],
      "text/plain": [
       "|- {1, 2, 3, 4} superset_eq {1, 3}"
      ]
     },
     "execution_count": 116,
     "metadata": {},
     "output_type": "execute_result"
    }
   ],
   "source": [
    "set_1234__superset__set_13.prove()"
   ]
  },
  {
   "cell_type": "markdown",
   "metadata": {},
   "source": [
    "### `SubsetEq.conclude()`"
   ]
  },
  {
   "cell_type": "code",
   "execution_count": 117,
   "metadata": {},
   "outputs": [
    {
     "data": {
      "text/html": [
       "<a class=\"ProveItLink\" href=\"../__pv_it/demonstrations/26f0ce5f12ba580a4da59951c7c23bb41b2b2d850/expr.ipynb\"><img src=\"data:image/png;base64,iVBORw0KGgoAAAANSUhEUgAAAM0AAAAVBAMAAAAX/3cYAAAAMFBMVEX///+IiIi6urrc3NxERETM\n",
       "zMwQEBCqqqpUVFQiIiJ2dnYyMjLu7u5mZmaYmJgAAABN0h6tAAAAAXRSTlMAQObYZgAAAopJREFU\n",
       "SMedlj1oFEEUx/9352Vzm9twlZXgVakPbPwgmsJGCOQKKyEQJAYFxWsUC4XTQkhhooiQBcUFg8SA\n",
       "cGChBNQNWJw2XkCrZGNEEEFQURDzgefM7puv7IfoK2bezu5v/ztv3ptZAP2rSLXRXQmDWUCCFZd8\n",
       "3pUXsh4aqMeGsoEEy58Iv+6b8ZLgsHxzsQM4rfh0UoDC/GxDxoH6Z/4oG1vmrn2dNdZputGG/V08\n",
       "XGrSXW6fXNe9hSxgENZvgc5Qf7a7wdoHAmvPbdGNFWBCPLxT0zlwT84gDdjdwDoN5k6Ss3C5puug\n",
       "X2CngOkaxeGzpvMIhk4SMFDFJg0efEJOM2wTdJ77mKZ4231Kx2mk6WiAipv3Vx1md/2o/xDqjEVL\n",
       "hTQdDcBLjzKlJnSm3r9l7X3u9rZMLL9BiVThOpRcezWdNAD775DgIoTOMA5Vga/cPV83sVKTPhtc\n",
       "B0/DixeaThrAlv84hU3qADvY7PtYgRy9CRMLqD8X6fTe2Ba3VIDZRDghq67pOD9YM1mhildYrkNh\n",
       "8yKdiLAr27aIOIA9wEiYLq8ExUPMqyv64CEDu4RCmKbWteDdmYos/sfa+iQD6PqkcyEIfi6FQz0t\n",
       "OFu0Pmb6FD3kqH7Qo/IN7St+cr4pYFzLPKpTh0W8RfkWYjmGveZ5tG/+4WTkMZ0hbd85dsTYdxKA\n",
       "L7x+CB1HmddsoYOPNa1+nKubqyjd5mXX7a5HHuyRX2tKx6yfJCAfvKkSOtudgsvnNji3YtRpaBcR\n",
       "91J00gHpWTLQpDMmLj3EvSSdTEB6NkwdeZyUZe4qT5w/tuvKcyETUN6i0lmO9m5xfqmTTCuWavx8\n",
       "zAKUt6Y2pmibsP71/8D6j/+DP2x+7T053pLPAAAAAElFTkSuQmCC\n",
       "\" style=\"display:inline;vertical-align:middle;\" /></a>"
      ],
      "text/plain": [
       "{1, 2, 4} subset_eq {1, 2, 3, 4, 5}"
      ]
     },
     "execution_count": 117,
     "metadata": {},
     "output_type": "execute_result"
    }
   ],
   "source": [
    "SubsetEq(Set(one, two, four), Set(one, two, three, four, five))"
   ]
  },
  {
   "cell_type": "code",
   "execution_count": 118,
   "metadata": {},
   "outputs": [
    {
     "data": {
      "text/html": [
       "<span style=\"font-size:20px;\"> <a class=\"ProveItLink\" href=\"../__pv_it/demonstrations/d9b1b3e254a327a89052df0c9af4faf5c06c57b40/proof.ipynb\" style=\"text-decoration: none\">&nbsp;&#x22A2;&nbsp;&nbsp;</a><a class=\"ProveItLink\" href=\"../__pv_it/demonstrations/dfa24f82d5db913801f6514450b6ee095bc4e0ab0/expr.ipynb\"><img src=\"data:image/png;base64,iVBORw0KGgoAAAANSUhEUgAAAKUAAAAVBAMAAADVzzOcAAAAMFBMVEX///+IiIi6urrc3NxERETM\n",
       "zMwQEBCqqqpUVFQiIiJ2dnYyMjLu7u5mZmaYmJgAAABN0h6tAAAAAXRSTlMAQObYZgAAAZ9JREFU\n",
       "OMtjYGDgu8eAC7BePIBFlLAGnl0MuAFTKqYYERr4PqBouOsSAGPHAvFtLM4krIFrApBgz4EKn2Dg\n",
       "+gRTMgOIV8I4L2bOnDmVgUgNICUnVvyBCt9hYEiDMhkzkMy0Xgx3GREawNbywZRkMjD0G0CYdjuQ\n",
       "zNzMgGImAQ2oSvYfYOiHhs8CJDN5C3CZiVUDqhIgmA9JP3wGICXLIGKcDLjMxKqBYwOqEqZfEPog\n",
       "A0jJewjHAslMIjSUBaAq4WyA+gSshPsCmHMEyUzCGkImM6AquQuh2APAShg6BdD8TowGNVRrGSEO\n",
       "YzjFALEW4gguAYShRGjgcEBRUsvADE4aFXfvfrsID0+G7UjhSVgDajSyLmBghCY3hgxEvDOcaDqA\n",
       "Pd6xagArYQQqOQ+KT8tVazshLAaGFOS8GeWJkjfxawAp4W37fY+Bcw4oCf///xPCYljyvw/JTNT0\n",
       "SUAD2FowqGHAZOEwk4AGrgQYdwEDJgubmYQ1wItDHnh6QbBg5SfXzJnwso4YDbBimw9R6iLyXRKW\n",
       "spwIDeyk1keENAAAP9vCypfPI4YAAAAASUVORK5CYII=\n",
       "\" style=\"display:inline;vertical-align:middle;\" /></a></span>"
      ],
      "text/plain": [
       "|- {1, 2, 4} subset_eq {1, 2, 4}"
      ]
     },
     "execution_count": 118,
     "metadata": {},
     "output_type": "execute_result"
    }
   ],
   "source": [
    "# very simple things working OK\n",
    "SubsetEq(Set(one, two, four), Set(one, two, four)).conclude()"
   ]
  },
  {
   "cell_type": "code",
   "execution_count": 119,
   "metadata": {},
   "outputs": [
    {
     "data": {
      "text/html": [
       "<span style=\"font-size:20px;\"> <a class=\"ProveItLink\" href=\"../__pv_it/demonstrations/fc118d28d8b9e34bad58e3f9fb7c99b61e0b25820/proof.ipynb\" style=\"text-decoration: none\">&nbsp;&#x22A2;&nbsp;&nbsp;</a><a class=\"ProveItLink\" href=\"../__pv_it/theorems/c63cc78a84ca614ed93976010ed648bd079150000/expr.ipynb\"><img src=\"data:image/png;base64,iVBORw0KGgoAAAANSUhEUgAAADsAAAARBAMAAACRPMnQAAAAMFBMVEX///92dnYiIiIQEBBERERU\n",
       "VFS6urqIiIjc3NxmZmaqqqru7u6YmJgyMjLMzMwAAADiRdoGAAAAAXRSTlMAQObYZgAAALBJREFU\n",
       "KM9jYACBtwzYAFz0PpTmCVJSUnqAIXp/A5jmuNiApBkmyrBrPkSYF1kWLspwoD4BTM9CsRomyrZh\n",
       "/QEwQwFZFi66jeF9AdjqAGRpmChDAkP/BBDN7YAsDRPli5wZ74BhOFyUjYGB+QJYSBzZapjoAgYG\n",
       "JgOIxxYgpGGiHEAG7wewEHdoNkwWLtoExCw/oBaKwAIVJrrl/20GLv9PE1BjA7soRUBISQk5QoEA\n",
       "ACxSOHcnMr6fAAAAAElFTkSuQmCC\n",
       "\" style=\"display:inline;vertical-align:middle;\" /></a></span>"
      ],
      "text/plain": [
       "|- A subset_eq A"
      ]
     },
     "execution_count": 119,
     "metadata": {},
     "output_type": "execute_result"
    }
   ],
   "source": [
    "# very simple things working OK\n",
    "SubsetEq(A, A).conclude()"
   ]
  },
  {
   "cell_type": "code",
   "execution_count": 120,
   "metadata": {},
   "outputs": [],
   "source": [
    "# but having trouble with other simple things, which seems related\n",
    "# to calling the conclude_as_folded() method:\n",
    "# try:\n",
    "#     SubsetEq(Set(one, two, four), Set(one, two, three, four, five)).conclude()\n",
    "#     assert False, \"Expecting a ProofFailure. Should not make it to this point.\"\n",
    "# except ProofFailure as e:\n",
    "#     print(\"Proof Failure: {}\".format(e))"
   ]
  },
  {
   "cell_type": "code",
   "execution_count": 121,
   "metadata": {},
   "outputs": [
    {
     "data": {
      "text/html": [
       "<strong id=\"example_forall\">example_forall:</strong> <a class=\"ProveItLink\" href=\"../__pv_it/demonstrations/74b5919cdc362f7e06d4c64cad40a0f8717a107e0/expr.ipynb\"><img src=\"data:image/png;base64,iVBORw0KGgoAAAANSUhEUgAAAYwAAAAXBAMAAADqwWVNAAAAMFBMVEX///8QEBCIiIhmZma6urrM\n",
       "zMxUVFQiIiJERETc3Nzu7u6qqqp2dnaYmJgyMjIAAAAcRTyBAAAAAXRSTlMAQObYZgAABQ5JREFU\n",
       "WMPNV11oXEUU/jZ7727u3bubgOlDI7RbA0Kj6JLQWmpqV/sgimBKwfYhYGwNNlLr4oNBLSVoJWv7\n",
       "4GIfjGDJRSEPQeJKKFIR3EZIJQ10q4I/0Hah6kO1JfgT7Ea6nrkzc39m74ZsCeiBvffMnZ1vzjfn\n",
       "Z2aAtZJvyg279B57DVDCZE/3bdt7KvTrdGmFIdq6VWKviBImD/cDiQJQYY1LTQw0R0M/Xwm03l84\n",
       "IbTr9p4i8NAqwYMoH257sw4Peoa/Uz/qDwJRZv8wcJ59utYEjVQh9PM59kh08oaRwRciOjbW/pG9\n",
       "qxDnf5+IEDQHcSGr4iE+yN+RWo1cZ+WYD4Fx9q/RZnKgsQGTc1XeaFlGW46rv+0vNEfDPPSioBG1\n",
       "EWlX8bBJ0EjNbYagYaWRojFWsQkarwRa34+MVLx1TAoaWgfa+GcMer1C3qqDTI6NHPV544qgEckh\n",
       "dlPFMy4LGjHn6dAw25Gcn5p6twkWRs7f2tcdCAdJg0QGQT2NfXWF7HU7gCJppKqI/aXiWal6GvgJ\n",
       "+DufP9IEjRbKMPOu4Udmnei9hgY0TIn5wtdb6HnWv/YiR12UaRuhNFgiVFW8H1wal7qoSllO1H0J\n",
       "DKluHihDd5LF6nqerdXQqbJ+j9vbSqvyEb5LO1EQ89L9cICGcW670I5jIisrUHTEkT94j4syjCCK\n",
       "j8aTJQXPTEsarbbxJ824yPTLwC6YlUDUdELvdVy1A9tYXNaWyF63nscpj+ZxwX7MgXJHJdYpQbUp\n",
       "6xInsFTGN0PiV+floowqKD4aL6t4FiQNkjH6XWXKp2QXWmQtMz/vLSNBpDSHRp+ziNppQk24TCME\n",
       "ZyPPG7tvkLAufayg0Ih0Si3K0vS5tH+T62BPiaJvYCjwUDwa0YyKd9pPYyf9PfYSKU8Tv3LcLTtn\n",
       "puCjAe6Nfqg0gN95Y1zZpyUNo4DWZR7BFVjke9/c1HtIxCJH8ZV7TfFGFxQ8s+RCUfyxXeUXcBpG\n",
       "5SlSZrfc3a853H00TIaq9XTZPhosqKCLAhLxbDvop9FWlTQiFUSrbm7c4CJYSJR2BcWlkcjgvSBe\n",
       "4kDvzju4YzeQN2yRG4+yOv4s1R/7cDybgkLjPjbAyCZHfTRYin/Wsgin0kbT4ZUqMiprTJSIV4KV\n",
       "ShNYLkoPGlSqAWCzgke68Aat+VFZqSjFMUM267hORxgeBqVgUFHnTZjr5URWBtpy66LB8+m1oAEt\n",
       "NNfHZGWyTHXevMWPERcLwX1D1FcPJV4Motxvg489srA152genkOJTYGTSK6X+0Yf85izpJSHe/P5\n",
       "fFp/Ax6NiSI7EpgU3HtlqaIuc393lzhMTh6zfQZEn7m1A/FXSdvVewwYYX0n57Yr29+QqCcuinnw\n",
       "cT+NrRuvlp2xqVqtluMoHp719lLZmcLoO2BLGj8zqqxXX9TFvuh6gzJjglYrUjCqPm8oh5EnxvyH\n",
       "ER4sbvlUtjUh9UdL7avAYSQ4NkxzpxCHEXmymLAqFqx+mRuJHIzjZPBFe9y2bIojLzcaHQ296He3\n",
       "GAuhNFaSs/Vjw7RSkIYlU3Ty29l54ISgYTywlNbvxMC9w9hdxEKfv+CitbDyTcF00/4Dr7fp+4Y3\n",
       "NkTzpuD3jWnlvES54Vqc4K+iW75Wvjal5Aol3U/efVTrWO1lplQ3NkRL+m5/2dAzs2fxGd4qqDQa\n",
       "XGIxsyZ38ZnbuIsnw+JDZnPZTzzW7B35v5d36hdEP/8/t/lf8SmbVKbXniQAAAAASUVORK5CYII=\n",
       "\" style=\"display:inline;vertical-align:middle;\" /></a><br>"
      ],
      "text/plain": [
       "example_forall: forall_{x in {1, 3, 5}} (x in {1, 3, 5} => x in {1, 2, 3, 4, 5})"
      ]
     },
     "execution_count": 121,
     "metadata": {},
     "output_type": "execute_result"
    }
   ],
   "source": [
    "set_135 = Set(one, three, five)\n",
    "set_12345 = Set(one, two, three, four, five)\n",
    "example_forall = Forall(\n",
    "        x,\n",
    "        Implies(InSet(x, set_135), InSet(x, set_12345)),\n",
    "        domain=set_135)"
   ]
  },
  {
   "cell_type": "code",
   "execution_count": 122,
   "metadata": {},
   "outputs": [
    {
     "name": "stdout",
     "output_type": "stream",
     "text": [
      "Attribute Error: 'Set' object has no attribute 'fold_as_forall'\n"
     ]
    }
   ],
   "source": [
    "# apparently, the only domain that has the necessary 'fold_as_forall'\n",
    "# is the Boolean set?\n",
    "try:\n",
    "    example_forall.conclude_as_folded()\n",
    "    assert False, \"Expecting AttributeError; should not make it to this point.\"\n",
    "except AttributeError as e:\n",
    "    print(\"Attribute Error: {}\".format(e))"
   ]
  },
  {
   "cell_type": "code",
   "execution_count": 123,
   "metadata": {},
   "outputs": [
    {
     "data": {
      "text/html": [
       "<strong id=\"non_zero_ints\">non_zero_ints:</strong> <a class=\"ProveItLink\" href=\"../__pv_it/demonstrations/b66022ed9d62cbcfb346bccf2881b10e8deccc970/expr.ipynb\"><img src=\"data:image/png;base64,iVBORw0KGgoAAAANSUhEUgAAAIMAAAAXCAMAAAAftAwBAAAAOVBMVEX///8kJCQNDQ0oKCiIiIi6\n",
       "urrc3NxERETMzMwQEBCqqqpUVFQiIiJ2dnYyMjLu7u5mZmaYmJgAAACs2H6dAAAAAXRSTlMAQObY\n",
       "ZgAAAetJREFUSMfFVtt2wyAMY5u5BDAG/v9jxyVpoSEJp9np/NCHmoAQkoCxXMEHNixF7P1SHqY/\n",
       "J4dHLeRzU+B4Mb6oSQwhspsYhOs+goDr2t5NYkB7F4NphzmdqLXiauo/xiBky+pSPnQfxmDaU5cm\n",
       "/+pIH8XQ0cBiwcCjfgsDARjBAeEAw6Bfd97SQNFXDGUULpMYTD07Sg4NFph1Ywy7PrpSP9/512+k\n",
       "xGJ0VTGcWK4rvZo4exzTMXIxxjDq72hIGHzFUDPnge00zORqI5ZFJOWxHkb9PIHpA687i0SyhQkU\n",
       "bZhFONdk3E8oX2iJqy905cFM6uGxORXVKYa+X/TwtVRVPNaqVIXqzTM9mEWil963vtDEIH/SXjQt\n",
       "hlE/bVS8Jn+XUQNfkEaf78isAaR1toohO1qmNUQY8zDsM77XnM1Zvel8nw9BakF54TRMhW22OpAM\n",
       "AIEP4eAshn3m9hcmYcoR9RJ/CF6VfzvQnuH9nNR+Lv4S4ymFbJqtvUiD0Ju+TsLsCoOjOQxpKVcI\n",
       "JN/m7oOGG+8HjReWa94PsYhXWVkqexxL7Im6jbffUVc08IU/bV3YYM+84FplalBsx3rwnoTztxif\n",
       "fE+KWMyat4rqKch8Lnz2Zr1bZAJHqI9OqVcFGGMQnTXsHwo2PWz1C9iRFg+Id8SyAAAAAElFTkSu\n",
       "QmCC\n",
       "\" style=\"display:inline;vertical-align:middle;\" /></a><br>"
      ],
      "text/plain": [
       "non_zero_ints: {x s.t. x != 0}_{x in Integer}"
      ]
     },
     "execution_count": 123,
     "metadata": {},
     "output_type": "execute_result"
    }
   ],
   "source": [
    "from proveit.logic import NotEquals, SetOfAll\n",
    "non_zero_ints = SetOfAll(x, x, conditions=[NotEquals(x, zero)], domain=Integer)"
   ]
  },
  {
   "cell_type": "code",
   "execution_count": 124,
   "metadata": {},
   "outputs": [],
   "source": [
    "# Some issue here involving SetOfAll sets not yet understood.\n",
    "# SubsetEq(non_zero_ints, Integer).conclude()"
   ]
  },
  {
   "cell_type": "markdown",
   "metadata": {},
   "source": [
    "### `SubsetEq.conclude_via_equivalence()`"
   ]
  },
  {
   "cell_type": "code",
   "execution_count": 125,
   "metadata": {},
   "outputs": [
    {
     "data": {
      "text/html": [
       "<span style=\"font-size:20px;\"><a class=\"ProveItLink\" href=\"../../equivalence/__pv_it/theorems/0e778b0b9ae145be5e7dfca1cc01b78aab45a97f0/expr.ipynb\"><img src=\"data:image/png;base64,iVBORw0KGgoAAAANSUhEUgAAADsAAAAOBAMAAABjvHmeAAAAMFBMVEX///92dnYiIiIQEBBERERU\n",
       "VFS6urqIiIjc3NxmZmaqqqru7u6YmJgyMjLMzMwAAADiRdoGAAAAAXRSTlMAQObYZgAAAPVJREFU\n",
       "GNNjYACBt2CSQTYOSLCBmTzxX2eGuEGEGe6DSd4Y4QMMDKwQIWYHBob5DyBK728AUccZuC8yMLRC\n",
       "pN8DVeZPADN3zW8AUQEMDCweHPcg0vVAofMFYOaB+gQQBVIr/38BRNqZgYHbCGwo24b1B6COYOB+\n",
       "AGV8ZWB4FA1mbWN4X8CABvi+ninRgjATGPrBbpC9CwI3wWLsPxgYNgeAFUbOjHdA181iAFTyiwES\n",
       "DswX0KX5gTrZv4NYQKcyGaBLg7zN+g3I4ABK835A2H0V7u33ICubQDb9QNd9GWipCdDbW/7fZuDy\n",
       "/zQBVTb2f+RUF6CxANDgSAVVKmfiAAAAAElFTkSuQmCC\n",
       "\" style=\"display:inline;vertical-align:middle;\" /></a> <a class=\"ProveItLink\" href=\"../__pv_it/demonstrations/01871ff0295387aebba2ad0c9e549a610149eaf10/proof.ipynb\" style=\"text-decoration: none\">&nbsp;&#x22A2;&nbsp;&nbsp;</a><a class=\"ProveItLink\" href=\"../__pv_it/theorems/00f3e0b81ca42c01121f6f10c7d2ef168cee867f0/expr.ipynb\"><img src=\"data:image/png;base64,iVBORw0KGgoAAAANSUhEUgAAADsAAAARBAMAAACRPMnQAAAAMFBMVEX///92dnYiIiIQEBBERERU\n",
       "VFS6urqIiIjc3NxmZmaqqqru7u6YmJgyMjLMzMwAAADiRdoGAAAAAXRSTlMAQObYZgAAAO9JREFU\n",
       "KM9jYACBtwzogCf+68wQNyjnPpQ+qqSkpAdhMjswMMx/AFF6fwOY7pVAaH9/gIEhfwKYuWt+A5i+\n",
       "gWR6PVDofAGYeaA+AURxLkCSdmZg4DYCG8q2Yf0BEM2E7LavDAyPosGsbQzvwaa0IsnyfT1TogVh\n",
       "JjD0g92wBUma/QcDw+YAsMLImfEO6IazGACV/AJbDfTkBRCDsQAhzQ/Uyf4dxAK6l8kALHYL1dus\n",
       "34AMDqA07wew2NawDcjefg+ysglk0w+I4EMnWKBeBlpqAlS85f9tBi7/TxNQYyT2f+RUlwUMVASM\n",
       "SkqICIUAAMDnPwbFfXt4AAAAAElFTkSuQmCC\n",
       "\" style=\"display:inline;vertical-align:middle;\" /></a></span>"
      ],
      "text/plain": [
       "{A equiv B} |- A subset_eq B"
      ]
     },
     "execution_count": 125,
     "metadata": {},
     "output_type": "execute_result"
    }
   ],
   "source": [
    "SubsetEq(A, B).conclude_via_equivalence([SetEquiv(A, B)])"
   ]
  },
  {
   "cell_type": "markdown",
   "metadata": {},
   "source": [
    "### `SubsetEq.unfold()`"
   ]
  },
  {
   "cell_type": "code",
   "execution_count": 126,
   "metadata": {},
   "outputs": [
    {
     "data": {
      "text/html": [
       "<span style=\"font-size:20px;\"> <a class=\"ProveItLink\" href=\"../__pv_it/demonstrations/796c4c501ab56950641b943332991db18304a2ba0/proof.ipynb\" style=\"text-decoration: none\">&nbsp;&#x22A2;&nbsp;&nbsp;</a><a class=\"ProveItLink\" href=\"../__pv_it/demonstrations/692906b0324d2e38648bd0e0a22edc3c0d2168cc0/expr.ipynb\"><img src=\"data:image/png;base64,iVBORw0KGgoAAAANSUhEUgAAAQAAAAAXBAMAAAAW+IzCAAAAMFBMVEX///8QEBCIiIhmZma6urrM\n",
       "zMxUVFQiIiJERETc3Nzu7u6qqqp2dnaYmJgyMjIAAAAcRTyBAAAAAXRSTlMAQObYZgAAA9tJREFU\n",
       "SMe1lltoFFcYx/97md2dy24C1gcjtBsDBdOXQKgVazHqQxEKXSmoD6GJ2kJ9kSUUQ1uRQJVsmgcX\n",
       "fTCCxamFPIRiA6FobMFtCgkmggMK1ULiYqsPQksQK21C3X7nujO7m8CkdWDnfOey5/ud7zYH+L+e\n",
       "216o5e+1r1nTlw1HL5dCbrMzB9hFoMw68yH+aA00HL4f6H299ZSULtwcVoNGh2gzvxhvAjGm+Qgw\n",
       "x4YehwDIFBsOz7CX3SIhe3Gri0tmB64r3yR7RRupVMhcTp7ZDRhhqwbC+BorAoxOL4lOzEWkmUvR\n",
       "ZTTl5ZJWCZCZ3gwJ4GSRcakZDwHwSaB3t7+/XLVAWgJE8kj8zaX4S2gSC2AuSIAEf3MAqxnp2bGx\n",
       "cyH0m3l/70B7wAUKILOExJ9qRrnAydQD4Dfgr0LheAiAKEWStenIrinu68doCMAcrkRL7X5PA8y3\n",
       "UQY43Ec/AR8CQwEV3R4MHhTO1m2smdriGq/p2RSd5xv8nD3Bt6oG5NEagHdlWpoz2yRIVgGkXPMp\n",
       "rV1k8gKwG1Y5YOMWGJ3cPDf4rjEvNoCEzvIkxcssbrl7+Fb6X/b6GoBjWmoV+eBAAdAzSL9fmXCF\n",
       "dkRU5Yn1Q6cHm3DieRFuPXTCWIlYbc0Yoe1cFERn7x/0sCljsBgEiHVoZRGRm9/5AXbQ8kQfCT1E\n",
       "5iV1SE+OwQfwMS5yeLJAEAB4Ijojesd4jQXalD2LSC3zw5U0ANmVVYlHEABmeR9z9Ouv5uKcugpA\n",
       "Aeyy91c5HwBzAQwZ4pGq5z4KANgdOM+FpiUJYB/u3LEuy8deJgu4Mgbept/QBxTb7tFkVwa1AH08\n",
       "7h/AB8CC8Fp0ETz/YtkVsqAb2CwQB6r5EJEWoHOeUFlAQYgJ0mbgdyrgIklKGsARjiQXWBuUIhqL\n",
       "L6cWTRE3nwUBoqTrW2I1j9/ckreeMySP6gCXOAybxFmkN6g6sJ1ZiR+DCtf+QqGQNT6HBpBV1yQb\n",
       "7ldpQFPWofY2+fkaPen6AGIHn7+F5KdUiCqVSh79bG5350kIyTn9zGOTMLcfdhXAQwbJZo1FQ1ao\n",
       "qgXipXiORYD5j88CNaX4nUF/KebPNZ2abr2kJ2UpVnX1olN24ORUDNh5mF/g/e+vuiNusphu8cXA\n",
       "Sh+jH7WkS4aDeqkUBHBUEI3emZoFhiWA+cazrLERr1Qq2DtuTE0X/QCp4ur3AUsH5iXUSdVJcR+4\n",
       "XFPnKQa0Lls04zo1Vr+QZNTZ0nrIq5fSvhsRKyhDDXZSuiZFr1gLsMKVDBNruBOmG1lTxZvnR06E\n",
       "vfH9l+dM/VGMuRem7V9yBhG2D+rigQAAAABJRU5ErkJggg==\n",
       "\" style=\"display:inline;vertical-align:middle;\" /></a></span>"
      ],
      "text/plain": [
       "|- forall_{x in {1, 2, 3}} (x in {1, 2, 3, 4, 5})"
      ]
     },
     "execution_count": 126,
     "metadata": {},
     "output_type": "execute_result"
    }
   ],
   "source": [
    "SubsetEq(set_123, set_12345).unfold()"
   ]
  },
  {
   "cell_type": "code",
   "execution_count": 127,
   "metadata": {},
   "outputs": [
    {
     "data": {
      "text/html": [
       "<span style=\"font-size:20px;\"> <a class=\"ProveItLink\" href=\"../__pv_it/demonstrations/4d0d4c2aca8702a38a2f9f977b303203bad972830/proof.ipynb\" style=\"text-decoration: none\">&nbsp;&#x22A2;&nbsp;&nbsp;</a><a class=\"ProveItLink\" href=\"../__pv_it/demonstrations/4b5422e641fa2f34a320c6106246559616ca3bb30/expr.ipynb\"><img src=\"data:image/png;base64,iVBORw0KGgoAAAANSUhEUgAAAOoAAAAXBAMAAAD3ts66AAAAMFBMVEX///8QEBCIiIhmZma6urrM\n",
       "zMxUVFQiIiJERETc3Nzu7u6qqqp2dnaYmJgyMjIAAAAcRTyBAAAAAXRSTlMAQObYZgAAA1hJREFU\n",
       "SMe1lk9IFFEcx7/7Z/bP/Fk91CGlGNYysMuiVIeUtA5RUG4Edgk0KdAOIkFFIrHZobUuQ4f0Eg0I\n",
       "HSTcJQ+hBG0GFWq0UFAE1kLlISiWoKgNpPfe/J/ZTTdsYHd+7zdv3uf9/r4B1ut6mV99zrGmf17+\n",
       "VlntVG4t73YkAUEBCnSwVAWUT5VVv68w+/KgfRiguH5ggQ4+V0GNKWXVT51Doc6YnrCrRbqHKWCc\n",
       "3KKpauKHNVDvPCnpUk3WQxVlxFRyy1ZBvWgfSFcvXCprq2RQO1UPla+FND85OVYFNGqPEzeiVvCw\n",
       "SXXqGRUfgZ/p9HAVVD+JEx/v3zfHEld1eDja2lznpi7H9+jSXDwJsZZKj4HTwKhj3RNm4XEs3kcK\n",
       "4HaYTyPk6V28lplj+623BmhdKLGii8qvqBkt/caykQIk9vwdsB98weHCOhPawvwhEutCZjWGSQ7M\n",
       "44V6kA6sLBQ2EsJmBFIuqlBCjcykYYTIqx+oeJ8sA79hHP+gJQ/B2kOQUWNksqX0tQMq0tq2tnwl\n",
       "F5OuEoMCJYRlF5UUaIbtOKApQmfJXzcxJR82VnwzMwkvtUZxU4FvmlssW4PEVl8KmaSLSsq1k1WI\n",
       "T5u7DI0aLXTRUO9sTAZZQVPAROMni9odP2OjUg+D+64Naq3A9IEa9dCdwzV57GUpp1msxfUA+Y2e\n",
       "IpmpDoTbY9Cp/DmuZFG3qw02Ks2mWX8RrI83O7pEJosBQXFR20m0dTyyeg6TbMI0WZvDF2Kh5vkc\n",
       "Aglu0KKOkFn8JrPiEgj+jhSjedNwkxqRpfMiMmyDfkKlUigfSTAh0IOJpF6vrXQXLAN+AcfT6bTM\n",
       "XSExyPp7LOoG7CLPclas+d6mBu284PsO2ah877abWxEeorlzcqWNSXzzc2iqxSXZ6BI0fBL1O1fk\n",
       "EDJszSiRt6pJLaHeZquzIwafeTvirFeadXZEo73dFgsixKQeV5/SfRjjKoRBRK9hSErZE7tC939k\n",
       "SjmvlHN3f/2MeDU3D1zXqcHee204mo3u/iFz9ehadJRTRPn7+crLHslSsfN1ytVjSVwtgJYpgpHY\n",
       "q5zqMcMeyToBPAI6aLWPlnndAOg1MOOmVviCwfRav5ukcs4yEkffYN5Isf983fBumltYX8QfCwjw\n",
       "Lu+ejGQAAAAASUVORK5CYII=\n",
       "\" style=\"display:inline;vertical-align:middle;\" /></a></span>"
      ],
      "text/plain": [
       "|- forall_{x in {a, 1, b}} (x in {a, 1, b, c})"
      ]
     },
     "execution_count": 127,
     "metadata": {},
     "output_type": "execute_result"
    }
   ],
   "source": [
    "# Works, but often have to explicitly pre-establish that\n",
    "# the subset_eq relationship is actually true\n",
    "Set(a, one, b, c).deduce_enum_subset_eq(subset=Set(a, one, b))\n",
    "SubsetEq(Set(a, one, b), Set(a, one, b, c)).unfold()"
   ]
  },
  {
   "cell_type": "markdown",
   "metadata": {},
   "source": [
    "### `SubsetEq.derive_superset_membership()`"
   ]
  },
  {
   "cell_type": "code",
   "execution_count": 128,
   "metadata": {},
   "outputs": [
    {
     "data": {
      "text/html": [
       "<span style=\"font-size:20px;\"> <a class=\"ProveItLink\" href=\"../__pv_it/demonstrations/24a86f24aa5be98253677b316e53d00e3592039d0/proof.ipynb\" style=\"text-decoration: none\">&nbsp;&#x22A2;&nbsp;&nbsp;</a><a class=\"ProveItLink\" href=\"../__pv_it/demonstrations/556eb1c098b3e48db8ffaca7130e1c7ef85d918d0/expr.ipynb\"><img src=\"data:image/png;base64,iVBORw0KGgoAAAANSUhEUgAAAI8AAAAVBAMAAACNsKCFAAAAMFBMVEX///+YmJiqqqqIiIgyMjLc\n",
       "3NwiIiIQEBC6urp2dnZUVFTMzMxERERmZmbu7u4AAADrYmUNAAAAAXRSTlMAQObYZgAAAhVJREFU\n",
       "OMudlD9II0EUxr8kGk10k4CFjaCdIJzaXXesYKOFro0gKIYDA2dxXqXHKXd2YiGkyqGcoAhams5G\n",
       "QSzEQiQhdseGBauzUcQ/Z5P45u9ms2uhDzL5dvLNL2/emx0gIEJFvCVaSk7wD4khvC2aF9kq+zxf\n",
       "n9CtB6sNE+snevZIfg84R13AJalrxP7XgWJpGsI/5ZM2NBbQl1KeWfn9q/pMY44+ZWAhAHS9UZFP\n",
       "2hC5QzItJyM/pBjasSRoHti3+FxHJmO6GYUUSBuavyNpysmxYSm2+MhAow72eQ0OP3m2pkHaQKG3\n",
       "lvWDKOZY9xIjCAYpA/N8Ue2wFGi77S+Nv0XzWLkQt/S6uOkFCQNVO1eWM1dQoAtMLwOdXEd5eq1u\n",
       "At15L0gYWHxcljvTIFpI+TcUmLL588EgBa/l4Qy8IFurJnEmwvkakPFAw24/dZLTMOlmtOLNSBrQ\n",
       "aKH1jqt/UCCqAjtlDSznD8xBf+aC4scekDQgWVGgHtt+KokUTRgVUaOWLCLMZ/S/0jVlQNMxopou\n",
       "D6RBFTRF18bXN3f53GcvKEJrbkxlYCqUonOUuBeeJXBFr027JQ9ktfoo3qkzpwZk7N0XEf2qDFyt\n",
       "2WdAhrv+VLeFmtoouwdSxupp7SvCoxc+FXb8qg7kbu2bUln4VAx+9RpI30cJ3QBXXcGv+H0UFOqG\n",
       "DLlsrVIBiu6F4Ai/485+AaCGnXrUYaUgAAAAAElFTkSuQmCC\n",
       "\" style=\"display:inline;vertical-align:middle;\" /></a></span>"
      ],
      "text/plain": [
       "|- 2 in {1, 2, 3, 4, 5}"
      ]
     },
     "execution_count": 128,
     "metadata": {},
     "output_type": "execute_result"
    }
   ],
   "source": [
    "# given a known subset_eq relationship, and an element in the\n",
    "# subset, derive the element as being in the superset\n",
    "SubsetEq(set_123, set_12345).derive_superset_membership(two)"
   ]
  },
  {
   "cell_type": "code",
   "execution_count": 129,
   "metadata": {},
   "outputs": [
    {
     "data": {
      "text/html": [
       "<span style=\"font-size:20px;\"> <a class=\"ProveItLink\" href=\"../__pv_it/demonstrations/2127feb76cdb201e5e162d9683b9b810b385b27a0/proof.ipynb\" style=\"text-decoration: none\">&nbsp;&#x22A2;&nbsp;&nbsp;</a><a class=\"ProveItLink\" href=\"../__pv_it/demonstrations/f74b9e6ca0da3c17e1d8da31606fbb44c20e7c4b0/expr.ipynb\"><img src=\"data:image/png;base64,iVBORw0KGgoAAAANSUhEUgAAAHoAAAAVBAMAAAB71edYAAAAMFBMVEX///9UVFSqqqrMzMwiIiJE\n",
       "RESYmJgyMjK6urru7u4QEBCIiIh2dnZmZmbc3NwAAABRgo0vAAAAAXRSTlMAQObYZgAAAZdJREFU\n",
       "OMtjYMAGchMYCALbnTgkph9gIAJ0GWAXz8cuzBnlgMzlLcCu7Agql2kllMF+AVmYx4EY3RMP/oSy\n",
       "+BVw62YLcXHHajcbTHf/BJy6maMn4HA5XDeqOFg3353bYH9Nn4Dicpgwsu7C3ZegrNO7DRh4FoAC\n",
       "/gH7B5CAHMJUcSRhJN2c3yfMfwBmPVFgLWBgA8pzLmPgDQCJBCDCeDGSMJJupp8M/BvALB8GRmAA\n",
       "1gJj7ScDC0iIeXk5EIADIOQBQhhZNzCC54PTES9EgNGbgSuAYT4o0fAh7OYA2g0TRtYNjO5+cJxx\n",
       "QdQWMoBM0wezFyD8LYokjKSbP4HhPjhoIS4A+Xu+AoM4EygsbqOkFrgwsu4GYGhAjWFQAIc56wY2\n",
       "Rx6QEIsCsm6I8HxwUuYG6gaxGBNYL4AZvAIMcw3A8c0pvfnhDnB8iHYi6YYIs3iCwkjq+zUwi/P2\n",
       "MQaI0Jm0DegpleMoZkrVxGRpEsolp+CsA5isA4R0w/M35wYMFkIIV/5mh5nPhsgpGAyGrgYchY4u\n",
       "keUaALwFeHoDRdoQAAAAAElFTkSuQmCC\n",
       "\" style=\"display:inline;vertical-align:middle;\" /></a></span>"
      ],
      "text/plain": [
       "|- a in {a, 1, b, c}"
      ]
     },
     "execution_count": 129,
     "metadata": {},
     "output_type": "execute_result"
    }
   ],
   "source": [
    "SubsetEq(Set(a, one, b), Set(a, one, b, c)).derive_superset_membership(a)"
   ]
  },
  {
   "cell_type": "code",
   "execution_count": 130,
   "metadata": {},
   "outputs": [
    {
     "data": {
      "text/html": [
       "<span style=\"font-size:20px;\"><a class=\"ProveItLink\" href=\"../__pv_it/demonstrations/43831c258d1382a55342f3025ea6f9eac4c5b6b20/expr.ipynb\"><img src=\"data:image/png;base64,iVBORw0KGgoAAAANSUhEUgAAAGcAAAAVBAMAAACphe0AAAAAMFBMVEX///8yMjJERETMzMwQEBCY\n",
       "mJgiIiK6urqqqqp2dnZUVFTc3NyIiIhmZmbu7u4AAADOOTK3AAAAAXRSTlMAQObYZgAAAZRJREFU\n",
       "OMtjYMAGWK8y4ADMdx7gkOGTZMAJ2J0h9NuzG9As+oDMe+SGInkRQq3sb0DVxJmAwpVF4U2DOOb7\n",
       "cwa8mn5g0cQBc0xQWpoAFk3s/7BogikxOofdJjR7wZpYr+ReALtSDlXZ3rlHIKHLuOYs1M+cZw4z\n",
       "MEwBM/kPgCkuRBByAV3J7s0gD+G9l+P7DWZwZzAoMjDEg9n7DcAUE8IFLUCRJwEMlyC8/gcMf8AM\n",
       "tgkMK4AWg93VD5EzEQQCcEAYZQOJ+w8YcmARw/cTzLgPce6yA/DgYNiEsKkEaJMTA99nWDSxQwLd\n",
       "CeLFBSBSCyLHgtDEpQAyHBYVXxl4wYEOtQ/iJx+IHO8B5NDj+wEMjm4w7zvIfxDdDBzQ0OP7DlWa\n",
       "gRLkOgxhCybwfQTyljLoMoAZtxj4LkN9ww5LEK/UHyBpenXGek0BQxpQ6O1JoEUgBufUGFgQcCrA\n",
       "LKhUw0hGHA/QGWBNXYwBGHmG0wHOwmCANSU9xJJx4fnpDQYDnJ9ibmPJnvCcG4DBYHfHlac58JcR\n",
       "AIEKbJN49n53AAAAAElFTkSuQmCC\n",
       "\" style=\"display:inline;vertical-align:middle;\" /></a> <a class=\"ProveItLink\" href=\"../__pv_it/demonstrations/cfefa39591a26ae96ac97338cbed78ce8c6c15c70/proof.ipynb\" style=\"text-decoration: none\">&nbsp;&#x22A2;&nbsp;&nbsp;</a><a class=\"ProveItLink\" href=\"../__pv_it/demonstrations/3f56f65121096bf98813dc294768d9ace130ca0a0/expr.ipynb\"><img src=\"data:image/png;base64,iVBORw0KGgoAAAANSUhEUgAAAHsAAAAVBAMAAACUF4xmAAAAMFBMVEX///8yMjJERETMzMwQEBCY\n",
       "mJgiIiK6urqqqqp2dnZUVFTc3NyIiIhmZmbu7u4AAADOOTK3AAAAAXRSTlMAQObYZgAAAc5JREFU\n",
       "OMtjYMAGWK8yEATMdx7gkOGTZCACsDtD6LdnN6BZ/gGZ98gNi14jXwaGixDmyv4GVDnOBBSuLDa7\n",
       "fzAwTIM49ftzBrzaf2Bz+T+Ydg6YU4PS0gSwaAepxAAgJdNQFBudw247mlsggPECVDvrldwLYD/I\n",
       "oWrYO/cIJGYY15yFhg3nmcMQxt459kChKWA2/wEwxYUIfi6gH9i9GeQhvPdyfL/BDO4MBkWId7wZ\n",
       "9IFGx4M5+w3AFBPCZS1AkScBDJcgvP4HDH/ADLYJDCvADKDcRagHgNIQVSaCQAAOOqNsIHH/AUMO\n",
       "ROIiA99PMOM+LJkBGZkgehnI3ZAAZNiEsL0EaLsTA99nWLSzQ6LOCSYPlPsOsn0BiKMFEWNBaOdS\n",
       "AFkIi9CvDLzgqIO6gQEuB/G7D0SQ9wByyPP9AAZgN5j3HeRXiDkMHGDtULkpkEQH1ZSBEnE6DGEL\n",
       "JvB9BPKWMugygBm3GPgugxlgOaiv2WGJ7pX6AyTtr85YrylgSAMKvT0JtBzE4JwaA2FA5CDaORVg\n",
       "llaqYSRajgc4GRDtXYwBmAnaAc7CzYBoT3qIpbCB5/c3uBmQ/B5zG0uGgJc2AbgZDOzuuMohDmLL\n",
       "OgCYO4YR/IJSygAAAABJRU5ErkJggg==\n",
       "\" style=\"display:inline;vertical-align:middle;\" /></a></span>"
      ],
      "text/plain": [
       "{f in {a, b, c}} |- f in {a, b, c, d}"
      ]
     },
     "execution_count": 130,
     "metadata": {},
     "output_type": "execute_result"
    }
   ],
   "source": [
    "# and this works more generally, where we can assume an elem in the subset\n",
    "from proveit import f\n",
    "Set(a, b, c, d).deduce_enum_subset_eq(subset=set_abc)\n",
    "SubsetEq(Set(a, b, c), Set(a, b, c, d)).derive_superset_membership(f, assumptions=[InSet(f, set_abc)])"
   ]
  },
  {
   "cell_type": "markdown",
   "metadata": {},
   "source": [
    "### `SubsetEq.conclude_as_folded()`"
   ]
  },
  {
   "cell_type": "code",
   "execution_count": 131,
   "metadata": {},
   "outputs": [
    {
     "data": {
      "text/html": [
       "<span style=\"font-size:20px;\"><a class=\"ProveItLink\" href=\"../__pv_it/demonstrations/0710c1d1b6b0f3b24a85a4cd0b7f77cfce4e971e0/expr.ipynb\"><img src=\"data:image/png;base64,iVBORw0KGgoAAAANSUhEUgAAAMoAAAAXBAMAAAC4681qAAAAMFBMVEX///8QEBCIiIhmZma6urrM\n",
       "zMxUVFQiIiJERETc3Nzu7u6qqqp2dnaYmJgyMjIAAAAcRTyBAAAAAXRSTlMAQObYZgAAA0ZJREFU\n",
       "SMetVU1oE0EU/vKz+dls0oIUrafQQoTqoVS8iNRUDyJ4SBW0QiEhKFiwJXgp/iDBCk3xYFDQXrSr\n",
       "hSJF2kAPUpE2xoNSRYMK7UUN+HOoWEKpYFMV38zuJrMhsRE7MDvvvdmZb+a9770B/ru9yVadOtLy\n",
       "79vdqmidSP9lSUcI8CSBHFPe1QIixyuaP1C/t7mkd20SJm1s+x7gOVMWa0HxJSuan7LPR8GwJshK\n",
       "jN0WGKbBHa/J/6iOIuxsL5SjKH74VBpStaCcNWkL/f25Ioq4M9/YpMj18M6Nj9+sBcQtrkZXi3gX\n",
       "cWdfazkKPgE/EokLtaBYabXc1LMvw5mwaPKYL9qsu+N6JqxLnrbtcSj1THwCnASGTNt1Z+1LReVw\n",
       "0ZkuSov7mPdfZIqjxIQ+6pOL8qoWlEZcVTX7M4y0wptn4ntgP+ScyTNbObjRThuCk/Dm8Eo9yCGL\n",
       "854G+syqWObanSzadXsBdSmdfA9oNaxG8sqPdmbhIcyvJZQZQ7AEARUJTelcosYOJw2yW7VD/snt\n",
       "e1Xo7rfEEaZbOc6QHKYAZZ1F3kyPg6OsVkGBfmTOf524DTxd7BqXt0Be0ezhLLbR8AUaijt3lITM\n",
       "rkDIztlBKNJygDnXmwkIKMxjkL7rkKVjnKL+CzbOZbqRJ6+XhCQGoMflAPWhE0Qgtc8Z9EFHsZ5j\n",
       "hEKA/TcjRv+hNQ9OYZvfxLEVFhCGsgZHbpqbZ3mqahyj6GOKOC3hGzDKpx1puPxecpt7FVcongab\n",
       "lFZyiyvv1oJ43oTSS+eRf5NwCfORNJcmk46CkS97qNfxc1EojiUSCb80wEJgi9BtY6D/JCOZ7DHI\n",
       "0ZZmvbCOXVYFlNEdhN1PlrGm49Egl+zRFzED5TNzP/tfyktwGHepUy0UBCUi1Qt3KaswhwaFCqO5\n",
       "WjVLrlajwhiVYUTJKVBCelyc6gKGVU/EERHiUq1aPi5WE4hSCJPBUrXUHfA2MwcWBo1jp9PoTKHt\n",
       "ZVZEcSWrvi+83YUgKQVGHe19mSgrVRQXni+skc8sIRGlyivmM97K0sNMkr2XV7YOlmRDFVbpKJ7k\n",
       "DY4ws96LjKl13n1vJR/IjXzw4vbr3WId2+B2TTxbd2ojtvwDjBjuBDjNqdAAAAAASUVORK5CYII=\n",
       "\" style=\"display:inline;vertical-align:middle;\" /></a> <a class=\"ProveItLink\" href=\"../__pv_it/demonstrations/a4cd720e3ea5ffdb4441309ec497bad5661740b00/proof.ipynb\" style=\"text-decoration: none\">&nbsp;&#x22A2;&nbsp;&nbsp;</a><a class=\"ProveItLink\" href=\"../__pv_it/demonstrations/e175d7c3588e38972750741049a2bfd929df7ed30/expr.ipynb\"><img src=\"data:image/png;base64,iVBORw0KGgoAAAANSUhEUgAAAJEAAAAVBAMAAAC01xHeAAAAMFBMVEX///+IiIi6urrc3NxERETM\n",
       "zMwQEBCqqqpUVFQiIiJ2dnYyMjLu7u5mZmaYmJgAAABN0h6tAAAAAXRSTlMAQObYZgAAAk1JREFU\n",
       "OMuNVD1oFEEUfq6ed24291OJAeEqSZcrAxI8m0CK4IGp0pz4U1goB4qVkpydTXIgFispEpTAWWjA\n",
       "IiEYGCFIGtm7yiKga6dVLrniwJzB997M7M1mR5KFO968+b5vZr73ZgAg+x3iX6otIPklYAmCt5mY\n",
       "ce4l0RbYcUK2g7DJRmxm17IlhG3fH4xnHiQILokMtWK0pg5++b7/CiLYloHpJQgMydWsSlffRCmG\n",
       "GWynb1caE1aljxBTMtluw67UBJvScC3ONNlxPwZKG4VvKves8BhgVcYXIK40VL+stCdWqipKty+W\n",
       "FSGzhrU7FEFJEspn/wLsSdS4oUSw4JPXlSbdgRvKj7dwraUITyoo3IdcnifmBNmqtr5tKBEMJ/d5\n",
       "8CXUjULMmiTMvCRD1iBY5pm7kCJbX+SPnY5hu+D94dEPAa9l/nwZqkIRrlRYcozPnTqCM2TIvDxq\n",
       "fiBFsC1wemo970CmqyFcAkXIoGG5kJahTu7CuVbkE6wbPiHsCIa5D3Bn6Y5M75VgGhSBipIreg/l\n",
       "sTt8bFU72HkuzNodkEGk1MMCPJK+ynZd1ZBMiDsJqIhdWBRGe81OmbdlAdf3DnFwHX7PL3MUlDJ9\n",
       "s5+89nv0dwlHoyPNZKNq2NcR3JKPK+0UbtaLHDn1d41YZ/L3lP+n/68kDYgOLCPyVSnd0jPYBylZ\n",
       "FJuShrmDFP4qEBQ1IdvRbxnW/IPgJVTbub4fvSoR7HOkhJHb5zMogn4Ms2TTT7p/zm3Lu6hhYZTB\n",
       "yFngm6gI6dO94+kT3vF/3AC9HvZwPaMAAAAASUVORK5CYII=\n",
       "\" style=\"display:inline;vertical-align:middle;\" /></a></span>"
      ],
      "text/plain": [
       "{forall_{x in {b, g}} (x in {b, d, g})} |- {b, g} subset_eq {b, d, g}"
      ]
     },
     "execution_count": 131,
     "metadata": {},
     "output_type": "execute_result"
    }
   ],
   "source": [
    "from proveit import g\n",
    "SubsetEq(Set(b, g), Set(b, d, g)).conclude_as_folded(\n",
    "        assumptions=[Forall(x, InSet(x, Set(b, d, g)), domain=Set(b, g))])"
   ]
  },
  {
   "cell_type": "markdown",
   "metadata": {},
   "source": [
    "### `SubsetEq.apply_transitivity()`"
   ]
  },
  {
   "cell_type": "code",
   "execution_count": 132,
   "metadata": {},
   "outputs": [
    {
     "data": {
      "text/html": [
       "<strong id=\"set_123_subset_eq_set_12345\">set_123_subset_eq_set_12345:</strong> <span style=\"font-size:20px;\"> <a class=\"ProveItLink\" href=\"../__pv_it/demonstrations/46022e57f34ecb961e1a2eae8527a430dadd9e340/proof.ipynb\" style=\"text-decoration: none\">&nbsp;&#x22A2;&nbsp;&nbsp;</a><a class=\"ProveItLink\" href=\"../__pv_it/demonstrations/8ba3279468c4ae83f7e4519b94b09e0c373c69f10/expr.ipynb\"><img src=\"data:image/png;base64,iVBORw0KGgoAAAANSUhEUgAAAM0AAAAVBAMAAAAX/3cYAAAAMFBMVEX///+IiIi6urrc3NxERETM\n",
       "zMwQEBCqqqpUVFQiIiJ2dnYyMjLu7u5mZmaYmJgAAABN0h6tAAAAAXRSTlMAQObYZgAAAmNJREFU\n",
       "SMedlr1rFEEYxp+9M+7d5jbkDxC8yvrAxg+iFjaCkCushEAQDQqCV4mFQrQQ0iSKCC4oOTBIDAgL\n",
       "FkpA3YDFaZMLaJVs0EasVBSEfOA637OzH3PoW8w+N3u/fXZm3ndmAYxsojQm9hV02oCCGFqL6KWx\n",
       "bPvTgXauyw4UROUCe7sfxkPik+LJ1aWFDuCH+eFYATEP4vo6miB961R6d0jjXhY3evB+cjUG94+4\n",
       "S+NrEAT3MRjg8UBcryTbpH0qsd7irrixAUxxtb+DLe1z9LEagR1g4VwUYvlmK+2DEYldAuZafGWa\n",
       "2NE+z2H4lAMsjr0UYpq1BT5vIszJpU/Nm98p88kCLLoDfUjMR0K865K7k0zWUeaTBVimtKTP7OeP\n",
       "pH1CZS00scq2EEceRSq5DqV87ACNFUif0zjeBL5TebVtYvVpqZxzpHnF5NuUzwCATpvyAfaQ0Q/3\n",
       "gTP3YGKxfuIUeb/a3cy8DQLIMrVTPv4v0syMiorXmNMX4iAwTlafE95oZosoB4D3kqJTTKtrmI64\n",
       "dsLAbqDK0zSJKCaL/0VqfawAiWtx/HuNde0N4e+K9THTZ6gLh2PnWSKJfEPvVlScb1mAh6hTn8x4\n",
       "KPKNYQ7BVmkeHV56NsPVN3PfOXvK2HfKgNVQeDZozVb7+NJK1Y9/e2cT9Ye07JJki6tK/KGZ8jHr\n",
       "pxRgCgvJLAI6trHFDaNOWVxHXpX4lANKuWqihc+k/NlFXhX5WAGlPJg+6jhpqNzVSp4/XhCoc8EK\n",
       "aLWifdb53i3PL32SpYqlmT8fbYBWn/TGxLcJ91+/D9z/+D74C3r98u7UHtjWAAAAAElFTkSuQmCC\n",
       "\" style=\"display:inline;vertical-align:middle;\" /></a></span><br>"
      ],
      "text/plain": [
       "set_123_subset_eq_set_12345: |- {1, 2, 3} subset_eq {1, 2, 3, 4, 5}"
      ]
     },
     "execution_count": 132,
     "metadata": {},
     "output_type": "execute_result"
    }
   ],
   "source": [
    "# establish a subset_eq judgement:\n",
    "set_123_subset_eq_set_12345 = set_12345.deduce_enum_subset_eq(subset=set_123)"
   ]
  },
  {
   "cell_type": "code",
   "execution_count": 133,
   "metadata": {},
   "outputs": [
    {
     "data": {
      "text/html": [
       "<strong id=\"set_12345_subset_eq_set_1234567\">set_12345_subset_eq_set_1234567:</strong> <span style=\"font-size:20px;\"> <a class=\"ProveItLink\" href=\"../__pv_it/demonstrations/edfec931f875075040c1b6c925af1229cca7ead00/proof.ipynb\" style=\"text-decoration: none\">&nbsp;&#x22A2;&nbsp;&nbsp;</a><a class=\"ProveItLink\" href=\"../__pv_it/demonstrations/48ad52602f1cef148637bdc4638c6587db04d5150/expr.ipynb\"><img src=\"data:image/png;base64,iVBORw0KGgoAAAANSUhEUgAAARsAAAAVBAMAAACEflfWAAAAMFBMVEX///+IiIi6urrc3NxERETM\n",
       "zMwQEBCqqqpUVFQiIiJ2dnYyMjLu7u5mZmaYmJgAAABN0h6tAAAAAXRSTlMAQObYZgAAA6hJREFU\n",
       "SMetVl1IVEEUPuu6P+79cSHooZDspaeiCz0VWEsUIRTtQ0+BIJX9UOG+JD0kbVCRhrpQD64FrSCi\n",
       "C9G+BCFk60tIEq5RKObaRtBLP4pSmm7d5s6cmfu3iqLDcu+358755pszc84MAKjTsJ7mG8uWsP4o\n",
       "wAYb8soD6/Qra3DbRlKw4cZ41VmrTc4fiTJ0IH1MWOvwPZitiwF8dFPN2P69fX8UXCS+HHtL333j\n",
       "aOrexsbydU6m08gbSpBH4Ar2GIbQHAXeHNwUC9CJ70Z9iTz73XKoqQlXUY7Ds2oXSUWcvf26jqEc\n",
       "qVYyFKi6ri8iiSFnuK+ITlMA5ynwLEBlAo2eiwgGbmkrypFbO1COkgV/vYtkK8qR+rag5QSUR5gD\n",
       "YY1b5IDK5VwC6NDoSp6BygwaD75AEDdDYTjVJpPJqGmaQTn+BATnwUHi/YZygmKvzHMUIr9oSTmv\n",
       "stCBm8eMc6qkHO+AZl8sLkcqQvAXOEhCklNOeb0lvDuhpBzSnvAt0MWjoHE57Z8/kGcvbgYNSssx\n",
       "vnE+QfJFyPlZxeZb+bz7nXCIcN5gxi6nbAkn3z+FliHgco7DoWqRRuOWyd13yNmbcpDIYS6nPOtl\n",
       "yTI6CBUxvlwFnp5NUbscngFk81XjWgk5hIzEUmIpmzDVBBoccjrBQRICSfBCLZMzCwpP6FG6yIT3\n",
       "1AOwy8kL5GedA1GLHMXYfy1hY+Imva9Ws8tRck6Sa1Y5n2h3knPqHFq206fBu8seHQ8yeTUoX6Do\n",
       "DXA5ZF2NqsSI5YizoJpyqsBBIqeEHLKurCpVZED9hx0f0ugYPYIRm5xmg8PQXuRyrufzv8fYTDOg\n",
       "FMXesSwW3LbJCeRgH9hIAm35T1fD1HaZRId2DNab0VkUpd2eWb4UeKgcf8RMD8AyqNAp8czqhpUy\n",
       "6zQAK3VWEj9Gh0T/ERuqCArmuu8v8MyicjzEadRIsf3ppy0UqQVSMuRl1v0cUERq/ldN1B0p5pCz\n",
       "I4vdutITCYqsJEQaHaEG1LMMtcLrGPsYWAJr3VHuLk9DxWOjDOr6H4b25A8DJOmEe/R2hmr6pswy\n",
       "KN/bbZMz0fiyQLtJ5AhKMAeTJHRysUB5vZNtWTZCaPIOfvResMlh7Qa4UCDrRuKQ8PXYD4mVHEy0\n",
       "6ggoR9Rq886SspwmLlTqCO1dzSEEaxqB8Yr7jhwGFxoCN1r1vlPKYQjWNALy8tugKuwmKpRA5Jh2\n",
       "NSm1ikMB1jQC8gY2467cvDl35f/GP0zdLHLZFQAAAABJRU5ErkJggg==\n",
       "\" style=\"display:inline;vertical-align:middle;\" /></a></span><br>"
      ],
      "text/plain": [
       "set_12345_subset_eq_set_1234567: |- {1, 2, 3, 4, 5} proper_subset {1, 2, 3, 4, 5, 6, 7}"
      ]
     },
     "execution_count": 133,
     "metadata": {},
     "output_type": "execute_result"
    }
   ],
   "source": [
    "# establish a related proper subset judgement:\n",
    "set_12345_subset_eq_set_1234567 = set_1234567.deduce_enum_proper_subset(subset=set_12345)"
   ]
  },
  {
   "cell_type": "code",
   "execution_count": 134,
   "metadata": {},
   "outputs": [
    {
     "data": {
      "text/html": [
       "<span style=\"font-size:20px;\"> <a class=\"ProveItLink\" href=\"../__pv_it/demonstrations/ab9afefccd0c8216b339e95994f7314936a3a36a0/proof.ipynb\" style=\"text-decoration: none\">&nbsp;&#x22A2;&nbsp;&nbsp;</a><a class=\"ProveItLink\" href=\"../__pv_it/demonstrations/6e14c8c83806049e1b4936dd384679dd42f7faba0/expr.ipynb\"><img src=\"data:image/png;base64,iVBORw0KGgoAAAANSUhEUgAAAPQAAAAVBAMAAACDGd7qAAAAMFBMVEX///+IiIi6urrc3NxERETM\n",
       "zMwQEBCqqqpUVFQiIiJ2dnYyMjLu7u5mZmaYmJgAAABN0h6tAAAAAXRSTlMAQObYZgAAAuFJREFU\n",
       "SMetVk1oE0EU/pK0SXabTXLyIEJzyrkgiD8Uc/AiKO3Bi0KxiBQEpbnYk2IUPFioqYiHgGKKChJQ\n",
       "AiJKoe0KIhUPCf6AiNGIIIKgRS9Wi+vsvJndnc3utoLvsHlM3vd982bfezsAsu8QamNbAhajABs0\n",
       "4s3MR8UUR3uWogEbNM6bXVF4O3uEWKJxswwYzd6kIwFk/W36XTTH5NrcZoo7ONNo1IlXn7UXpkwK\n",
       "WIb+nbxhpP7If5l9rtVqV7gXDSDTKvQ7af0SK88KIotvlmVViMR+ZKarguktMEHeYBmrrvSuG06e\n",
       "0QCyTUJ6/uyQWNmPvhJ3XgBpuNJsL4LpGFCl6GIBv13pe1CkwwF09l+EdEWC4j+kVwduBUovmajK\n",
       "yvIcuFEOk/YDKGTAL9037hLE84HSzK5L9ynboE4QDWHSfgC3j1L64odX5OTuzz13tgHBm26qTHFZ\n",
       "GDuvmU45b/dIRwN41eel9D7sLnCntQhNntxd2SZToyqT5hxS7Ah7LHD3sUd6HYCdEgbck6Y31lqB\n",
       "cVxsjGfDeA9chsrUcUUm2GL6ku/A1wMwO+mRNqi+crPIiiaM8VOzeYtqEjExDLAVGGFH9JDyyPsH\n",
       "XCiApVWX0uzdiK7XmsiKItR4k9m86ZLCdBoJ6hXLtJnk6HrgedeRALvQZzrvT/C9Jpsw1gg07mSd\n",
       "q8h3rRZsfx0xYjrKS1dUOJbPmcEV7geQJSlrg6fLw9ZgCKrDbVnhxDRoImMPhB2NOxfQssO/qoP0\n",
       "0F51kIYAWqSULHEv0canIR6GaTwpk3emDm9fv55c6KLG9rxkWavQrto903lZ8Ej7+joMwD3oIz+7\n",
       "3Bu+zQatHQb9zXnhbSsr0jSMnDM95ZsfvdKhgADPDUupb013RpwOz5yNkI4EBHhumK7yup/fR843\n",
       "2G0l8aXTazXnoxkJCPKcMI9HvM6lo+tcBjxNXOi9YUQBgrxugEe8qX+9m6X+z93sL3L9KUfSdB30\n",
       "AAAAAElFTkSuQmCC\n",
       "\" style=\"display:inline;vertical-align:middle;\" /></a></span>"
      ],
      "text/plain": [
       "|- {1, 2, 3} subset_eq {1, 2, 3, 4, 5, 6, 7}"
      ]
     },
     "execution_count": 134,
     "metadata": {},
     "output_type": "execute_result"
    }
   ],
   "source": [
    "# use transitivity to go from first set to 3rd set\n",
    "# (even though using expressions, the expressions have to be true or provable)\n",
    "SubsetEq(set_123, set_12345).apply_transitivity(SubsetEq(set_12345, set_1234567))"
   ]
  },
  {
   "cell_type": "code",
   "execution_count": 135,
   "metadata": {},
   "outputs": [
    {
     "data": {
      "text/html": [
       "<strong id=\"A_subset_eq_B\">A_subset_eq_B:</strong> <a class=\"ProveItLink\" href=\"../__pv_it/theorems/00f3e0b81ca42c01121f6f10c7d2ef168cee867f0/expr.ipynb\"><img src=\"data:image/png;base64,iVBORw0KGgoAAAANSUhEUgAAADsAAAARBAMAAACRPMnQAAAAMFBMVEX///92dnYiIiIQEBBERERU\n",
       "VFS6urqIiIjc3NxmZmaqqqru7u6YmJgyMjLMzMwAAADiRdoGAAAAAXRSTlMAQObYZgAAAO9JREFU\n",
       "KM9jYACBtwzogCf+68wQNyjnPpQ+qqSkpAdhMjswMMx/AFF6fwOY7pVAaH9/gIEhfwKYuWt+A5i+\n",
       "gWR6PVDofAGYeaA+AURxLkCSdmZg4DYCG8q2Yf0BEM2E7LavDAyPosGsbQzvwaa0IsnyfT1TogVh\n",
       "JjD0g92wBUma/QcDw+YAsMLImfEO6IazGACV/AJbDfTkBRCDsQAhzQ/Uyf4dxAK6l8kALHYL1dus\n",
       "34AMDqA07wew2NawDcjefg+ysglk0w+I4EMnWKBeBlpqAlS85f9tBi7/TxNQYyT2f+RUlwUMVASM\n",
       "SkqICIUAAMDnPwbFfXt4AAAAAElFTkSuQmCC\n",
       "\" style=\"display:inline;vertical-align:middle;\" /></a><br>\n",
       "<strong id=\"B_subset_eq_C\">B_subset_eq_C:</strong> <a class=\"ProveItLink\" href=\"../__pv_it/demonstrations/53ccbea8125b23174a1adfa3d422d9bed03e94700/expr.ipynb\"><img src=\"data:image/png;base64,iVBORw0KGgoAAAANSUhEUgAAAD0AAAARBAMAAACcIrmXAAAAMFBMVEX///92dnYyMjKqqqoiIiLu\n",
       "7u7c3NyIiIjMzMwQEBC6urpERERmZmZUVFSYmJgAAADEjrHzAAAAAXRSTlMAQObYZgAAAPZJREFU\n",
       "KM9jYGB4+//O2d0LGNABa/Wde2wCINZsBgaeHxDBty4uLh4QZuUDBuaTD4AMjn8MDFx/wGJJYnDt\n",
       "0a5A4nwCkGD/xsDA9x0sqIYwXjMASKwEsbgnMDBEglQz8BjApXk+g8geEMF/gYHDF6SagQWhPd8B\n",
       "RIaBiP57z7dANOYi5OUL4Mz6BAbWuRA3IeT9G+DMnSA1BmjmzwdbCCb+guTBxjEiDPUHEcwNUO8z\n",
       "3IeEnzJcHuxzRgao9zl+Q0RjbwXA3A8yShTEYgJ6f+VWqHDjFmj4MgNNtQEp5tX/e+b2ZozYYYjZ\n",
       "ewczzigEjC4uiPiFAAClfT1j6lc/fwAAAABJRU5ErkJggg==\n",
       "\" style=\"display:inline;vertical-align:middle;\" /></a><br>\n",
       "<strong id=\"B_equals_D\">B_equals_D:</strong> <a class=\"ProveItLink\" href=\"../__pv_it/demonstrations/351598f1c60bbaeb4b365634b3e71671ab7ec4500/expr.ipynb\"><img src=\"data:image/png;base64,iVBORw0KGgoAAAANSUhEUgAAAD0AAAAOBAMAAABuognZAAAAMFBMVEX///92dnYyMjKqqqoiIiLu\n",
       "7u7c3NyIiIjMzMwQEBC6urpERERmZmZUVFSYmJgAAADEjrHzAAAAAXRSTlMAQObYZgAAANVJREFU\n",
       "GNNjYGB4+//O2d0LGNDA2/97b+9NADNnMzDw/ECXZ/jEwMD3GcTg+MfAwPUHXZrjO5A4CWKxfwOq\n",
       "/I4uzw4ycf0DIME9gYEh0hVdnvsDkMgXABL8Fxg4fAPQ5fk3gPRfABL9955vMQAJMSqBwQGwfH8B\n",
       "kKgH6a9PYGCdi+H8+gYgcR/k7Z0gngG6/H4Q8RNE/AXJF6DL/wZivn9Q70MMgtp/Ae79yA1Q73P8\n",
       "xuZ9ViUQiwno/ZVb0eWZgN5fAvIJr/7fM7c3o0sDRc/ePgZkAADK8kIyXFvIfAAAAABJRU5ErkJg\n",
       "gg==\n",
       "\" style=\"display:inline;vertical-align:middle;\" /></a><br>\n",
       "<strong id=\"D_equals_B\">D_equals_B:</strong> <a class=\"ProveItLink\" href=\"../__pv_it/demonstrations/ca7a3608549ffe71d6843d2ee3b56168eecff3320/expr.ipynb\"><img src=\"data:image/png;base64,iVBORw0KGgoAAAANSUhEUgAAAD0AAAAOBAMAAABuognZAAAAMFBMVEX///8iIiLu7u52dna6uroQ\n",
       "EBBmZmaIiIjMzMyqqqoyMjLc3NxERERUVFSYmJgAAAAdjRNVAAAAAXRSTlMAQObYZgAAANhJREFU\n",
       "GNNjYGB4+//snbMbGNAA3/2/aXeOgJm/gLyf6PIMrAcYGPIbgAyO70AiFUO+/wEDg38CkMH+A0j4\n",
       "P0CXrwda+b4AyOD5ACT2G6DLH2VgYApUADL4D4D0X0CX/8vA0HgJbBHIkHqQfqtVILAMLM3x912N\n",
       "JMQikCPvO6BpZ//NwKAKNvQ8iPiKbjxPAFAN2Nd/QKHxD12eH6iX/TvM+6ogN0LtXwv3Pu8XqPeZ\n",
       "VjFg834/SBcX0PuOCRjySxkYWGKA3udd/zf3TjaG9K3/13LPTGBgAADjW0c0eJFbMgAAAABJRU5E\n",
       "rkJggg==\n",
       "\" style=\"display:inline;vertical-align:middle;\" /></a><br>\n",
       "<strong id=\"C_superset_eq_B\">C_superset_eq_B:</strong> <a class=\"ProveItLink\" href=\"../__pv_it/demonstrations/22103ea8b0800d87300d7bf8c17d5fed5c2d510a0/expr.ipynb\"><img src=\"data:image/png;base64,iVBORw0KGgoAAAANSUhEUgAAADsAAAARBAMAAACRPMnQAAAAMFBMVEX////MzMy6uroyMjIiIiKq\n",
       "qqoQEBB2dnbc3NyYmJhmZmZUVFRERESIiIju7u4AAACOKgoaAAAAAXRSTlMAQObYZgAAAPxJREFU\n",
       "KM9jYGDgu7NrJ0cBAyrg3P971Z5DINa1CQysyyYAGY9dXFzOwuTZDjAwrBdgYHjjB+Ssb4CKvjSC\n",
       "MuSBGvQXMDCYPQBy1OCmPoYqvA+k519g4PoK4kjBpRkNIPQxoKNSHjD0O4A4LxCOsoBQvxkYRPYx\n",
       "MNRfQHNzKcSQ3zPvuAJpfwE06UVgkvcHA8OzDQwM+SCXMTxASEPs5kkAKgE6yx/EYUUYwboBTPED\n",
       "Kd6/UB+zIzSLPIB7m/sTA0M/yGl1MEk+rRMIb8sDA471JwNDFEQHMFB9SqHqzBgYmHJAwq9O71Jg\n",
       "QAeb/+9afSaAgYoAFKEuLhuQhQCs00Y3UXordgAAAABJRU5ErkJggg==\n",
       "\" style=\"display:inline;vertical-align:middle;\" /></a><br>\n",
       "<strong id=\"F_superset_B\">F_superset_B:</strong> <a class=\"ProveItLink\" href=\"../__pv_it/demonstrations/ea510d3fddc08b6e38622f8159460d34f6b5cc410/expr.ipynb\"><img src=\"data:image/png;base64,iVBORw0KGgoAAAANSUhEUgAAADwAAAAPBAMAAABKPLFCAAAAMFBMVEX///8iIiLc3Nzu7u6qqqq6\n",
       "urp2dnbMzMyYmJgyMjIQEBBUVFRmZmZERESIiIgAAABzTYE0AAAAAXRSTlMAQObYZgAAAPJJREFU\n",
       "GNNjYGB4+//O6Vv/GNBA9/89p+8GgFg/gfgGujTDWgYGnu9Amv0bkGhFl2X/wcDA+gfI4PsKJNxB\n",
       "IoKCgrINUGm+TwwMHCArOT8zMDE4Q0WZMhUgDN4FDAxWwkAGvwCDBsJQJgEIzb+BgV3aAMiIP8Cw\n",
       "CclSHwhVv6PvogOIkT9n1wIkaUYI9V6BgXk1iDHfgHkDkjQ3xPJbICUg7R8ZmB2QpHkNwNRvkPQD\n",
       "oOe+oXqYEe5thv3AUGP7iir9DO5t9r8g1R9QZFkmgClOoGujLjMw2Mz/fQhJ1nQ32Gru+b/P7L2C\n",
       "FszAQL1WgCIEAOrpPY/B6IuoAAAAAElFTkSuQmCC\n",
       "\" style=\"display:inline;vertical-align:middle;\" /></a><br>"
      ],
      "text/plain": [
       "A_subset_eq_B: A subset_eq B\n",
       "B_subset_eq_C: B subset_eq C\n",
       "B_equals_D: B = D\n",
       "D_equals_B: D = B\n",
       "C_superset_eq_B: C superset_eq B\n",
       "F_superset_B: F proper_superset B"
      ]
     },
     "execution_count": 135,
     "metadata": {},
     "output_type": "execute_result"
    }
   ],
   "source": [
    "# this process can work more generally:\n",
    "A_subset_eq_B, B_subset_eq_C, B_equals_D, D_equals_B, C_superset_eq_B, F_superset_B = (\n",
    "    SubsetEq(A, B), SubsetEq(B, C), Equals(B, D), Equals(D, B),\n",
    "    superset_eq(C, B), proper_superset(F, B))"
   ]
  },
  {
   "cell_type": "code",
   "execution_count": 136,
   "metadata": {},
   "outputs": [
    {
     "data": {
      "text/html": [
       "<span style=\"font-size:20px;\"><a class=\"ProveItLink\" href=\"../__pv_it/theorems/00f3e0b81ca42c01121f6f10c7d2ef168cee867f0/expr.ipynb\"><img src=\"data:image/png;base64,iVBORw0KGgoAAAANSUhEUgAAADsAAAARBAMAAACRPMnQAAAAMFBMVEX///92dnYiIiIQEBBERERU\n",
       "VFS6urqIiIjc3NxmZmaqqqru7u6YmJgyMjLMzMwAAADiRdoGAAAAAXRSTlMAQObYZgAAAO9JREFU\n",
       "KM9jYACBtwzogCf+68wQNyjnPpQ+qqSkpAdhMjswMMx/AFF6fwOY7pVAaH9/gIEhfwKYuWt+A5i+\n",
       "gWR6PVDofAGYeaA+AURxLkCSdmZg4DYCG8q2Yf0BEM2E7LavDAyPosGsbQzvwaa0IsnyfT1TogVh\n",
       "JjD0g92wBUma/QcDw+YAsMLImfEO6IazGACV/AJbDfTkBRCDsQAhzQ/Uyf4dxAK6l8kALHYL1dus\n",
       "34AMDqA07wew2NawDcjefg+ysglk0w+I4EMnWKBeBlpqAlS85f9tBi7/TxNQYyT2f+RUlwUMVASM\n",
       "SkqICIUAAMDnPwbFfXt4AAAAAElFTkSuQmCC\n",
       "\" style=\"display:inline;vertical-align:middle;\" /></a>, <a class=\"ProveItLink\" href=\"../__pv_it/demonstrations/53ccbea8125b23174a1adfa3d422d9bed03e94700/expr.ipynb\"><img src=\"data:image/png;base64,iVBORw0KGgoAAAANSUhEUgAAAD0AAAARBAMAAACcIrmXAAAAMFBMVEX///92dnYyMjKqqqoiIiLu\n",
       "7u7c3NyIiIjMzMwQEBC6urpERERmZmZUVFSYmJgAAADEjrHzAAAAAXRSTlMAQObYZgAAAPZJREFU\n",
       "KM9jYGB4+//O2d0LGNABa/Wde2wCINZsBgaeHxDBty4uLh4QZuUDBuaTD4AMjn8MDFx/wGJJYnDt\n",
       "0a5A4nwCkGD/xsDA9x0sqIYwXjMASKwEsbgnMDBEglQz8BjApXk+g8geEMF/gYHDF6SagQWhPd8B\n",
       "RIaBiP57z7dANOYi5OUL4Mz6BAbWuRA3IeT9G+DMnSA1BmjmzwdbCCb+guTBxjEiDPUHEcwNUO8z\n",
       "3IeEnzJcHuxzRgao9zl+Q0RjbwXA3A8yShTEYgJ6f+VWqHDjFmj4MgNNtQEp5tX/e+b2ZozYYYjZ\n",
       "ewczzigEjC4uiPiFAAClfT1j6lc/fwAAAABJRU5ErkJggg==\n",
       "\" style=\"display:inline;vertical-align:middle;\" /></a> <a class=\"ProveItLink\" href=\"../__pv_it/demonstrations/00f819834fac60f3fb8966d3c6f67ca6a57317bd0/proof.ipynb\" style=\"text-decoration: none\">&nbsp;&#x22A2;&nbsp;&nbsp;</a><a class=\"ProveItLink\" href=\"../__pv_it/theorems/8d7071c6eb500f8e180e051920d8bdb9809a11e50/expr.ipynb\"><img src=\"data:image/png;base64,iVBORw0KGgoAAAANSUhEUgAAADsAAAARBAMAAACRPMnQAAAAMFBMVEX///92dnYiIiIQEBBERERU\n",
       "VFS6urqIiIjc3NxmZmaqqqru7u6YmJgyMjLMzMwAAADiRdoGAAAAAXRSTlMAQObYZgAAAONJREFU\n",
       "KM9jYACBtwwYgLskMoZDAMK+DxU7qqSkpAdhFh9g4Jp8AMzkub8BTPdKwDVv0QYS8xvA7F1Q+gbC\n",
       "7MsgDckQ9oH6BBDFuQAuy/kLRL4Es9k2rAdbwoTQ3K8AIneA2dsY3heA6FaEtHwBgp3A0D8B7ByE\n",
       "kP4DOJMvcma8A5rh9mCvgAk2BgbmCyAGI8JEfRDBBTYC6F4mA7DgLbg02KeMIBYHUJr3A1hwa9gG\n",
       "mMtBBkmDWE1AzPIDIvrQCRqoXH8YGFaC1G75f5uBy//TBLQY2ekamcBATcCopISIUAgAAOAJN1hw\n",
       "1nLzAAAAAElFTkSuQmCC\n",
       "\" style=\"display:inline;vertical-align:middle;\" /></a></span>"
      ],
      "text/plain": [
       "{A subset_eq B, B subset_eq C} |- A subset_eq C"
      ]
     },
     "execution_count": 136,
     "metadata": {},
     "output_type": "execute_result"
    }
   ],
   "source": [
    "A_subset_eq_B.apply_transitivity(\n",
    "        B_subset_eq_C, assumptions=[A_subset_eq_B, B_subset_eq_C])"
   ]
  },
  {
   "cell_type": "code",
   "execution_count": 137,
   "metadata": {},
   "outputs": [
    {
     "data": {
      "text/plain": [
       "True"
      ]
     },
     "execution_count": 137,
     "metadata": {},
     "output_type": "execute_result"
    }
   ],
   "source": [
    "B_equals_D.normal_lhs in (A_subset_eq_B.normal_lhs, A_subset_eq_B.normal_rhs)"
   ]
  },
  {
   "cell_type": "code",
   "execution_count": 138,
   "metadata": {},
   "outputs": [
    {
     "data": {
      "text/html": [
       "<span style=\"font-size:20px;\"><a class=\"ProveItLink\" href=\"../__pv_it/theorems/00f3e0b81ca42c01121f6f10c7d2ef168cee867f0/expr.ipynb\"><img src=\"data:image/png;base64,iVBORw0KGgoAAAANSUhEUgAAADsAAAARBAMAAACRPMnQAAAAMFBMVEX///92dnYiIiIQEBBERERU\n",
       "VFS6urqIiIjc3NxmZmaqqqru7u6YmJgyMjLMzMwAAADiRdoGAAAAAXRSTlMAQObYZgAAAO9JREFU\n",
       "KM9jYACBtwzogCf+68wQNyjnPpQ+qqSkpAdhMjswMMx/AFF6fwOY7pVAaH9/gIEhfwKYuWt+A5i+\n",
       "gWR6PVDofAGYeaA+AURxLkCSdmZg4DYCG8q2Yf0BEM2E7LavDAyPosGsbQzvwaa0IsnyfT1TogVh\n",
       "JjD0g92wBUma/QcDw+YAsMLImfEO6IazGACV/AJbDfTkBRCDsQAhzQ/Uyf4dxAK6l8kALHYL1dus\n",
       "34AMDqA07wew2NawDcjefg+ysglk0w+I4EMnWKBeBlpqAlS85f9tBi7/TxNQYyT2f+RUlwUMVASM\n",
       "SkqICIUAAMDnPwbFfXt4AAAAAElFTkSuQmCC\n",
       "\" style=\"display:inline;vertical-align:middle;\" /></a>, <a class=\"ProveItLink\" href=\"../__pv_it/demonstrations/351598f1c60bbaeb4b365634b3e71671ab7ec4500/expr.ipynb\"><img src=\"data:image/png;base64,iVBORw0KGgoAAAANSUhEUgAAAD0AAAAOBAMAAABuognZAAAAMFBMVEX///92dnYyMjKqqqoiIiLu\n",
       "7u7c3NyIiIjMzMwQEBC6urpERERmZmZUVFSYmJgAAADEjrHzAAAAAXRSTlMAQObYZgAAANVJREFU\n",
       "GNNjYGB4+//O2d0LGNDA2/97b+9NADNnMzDw/ECXZ/jEwMD3GcTg+MfAwPUHXZrjO5A4CWKxfwOq\n",
       "/I4uzw4ycf0DIME9gYEh0hVdnvsDkMgXABL8Fxg4fAPQ5fk3gPRfABL9955vMQAJMSqBwQGwfH8B\n",
       "kKgH6a9PYGCdi+H8+gYgcR/k7Z0gngG6/H4Q8RNE/AXJF6DL/wZivn9Q70MMgtp/Ae79yA1Q73P8\n",
       "xuZ9ViUQiwno/ZVb0eWZgN5fAvIJr/7fM7c3o0sDRc/ePgZkAADK8kIyXFvIfAAAAABJRU5ErkJg\n",
       "gg==\n",
       "\" style=\"display:inline;vertical-align:middle;\" /></a> <a class=\"ProveItLink\" href=\"../__pv_it/demonstrations/cd6e4e40bf7af375ffcc5b3a210dbab77ef996a40/proof.ipynb\" style=\"text-decoration: none\">&nbsp;&#x22A2;&nbsp;&nbsp;</a><a class=\"ProveItLink\" href=\"../__pv_it/demonstrations/0e4a0eb8b2fbf6e457c8785e90fd3fbbc32aa02b0/expr.ipynb\"><img src=\"data:image/png;base64,iVBORw0KGgoAAAANSUhEUgAAADwAAAARBAMAAABz4NKpAAAAMFBMVEX///92dnYiIiIQEBBERERU\n",
       "VFS6urqIiIjc3NxmZmaqqqru7u6YmJgyMjLMzMwAAADiRdoGAAAAAXRSTlMAQObYZgAAAOtJREFU\n",
       "KM9jYACBtwzogCf+S6hLBJRzHyYYpKSk9ADM5L/AwHB+AUT0/gYwzXGxAa79fQEDA6cBmLlrPkSY\n",
       "FyHLUA80hO0PmHmgPgFMz0Ky3B9k2kcQi23D+gNgIQUk6S8gia8g1jawRUDFAQhZvu9Agh2sO4Gh\n",
       "fwKI5nZASLP/AxKs30AKI2fGO6AbzvIB5DmQy9kYGJgvgMXEEdL8IA3nQU4C+p0J4kHeBSje5jYB\n",
       "OQgoxvsBLMYdmo3s7b0gM5tANv2AulcEFqjAYGbTBNJb/t9m4PL/NAE1RmL/R4Z6NjBQEwgpKcEj\n",
       "FAIAE1Q8UO24WhoAAAAASUVORK5CYII=\n",
       "\" style=\"display:inline;vertical-align:middle;\" /></a></span>"
      ],
      "text/plain": [
       "{A subset_eq B, B = D} |- A subset_eq D"
      ]
     },
     "execution_count": 138,
     "metadata": {},
     "output_type": "execute_result"
    }
   ],
   "source": [
    "A_subset_eq_B.apply_transitivity(\n",
    "        B_equals_D, assumptions=[A_subset_eq_B, B_equals_D])"
   ]
  },
  {
   "cell_type": "code",
   "execution_count": 139,
   "metadata": {},
   "outputs": [
    {
     "data": {
      "text/html": [
       "<span style=\"font-size:20px;\"><a class=\"ProveItLink\" href=\"../__pv_it/theorems/00f3e0b81ca42c01121f6f10c7d2ef168cee867f0/expr.ipynb\"><img src=\"data:image/png;base64,iVBORw0KGgoAAAANSUhEUgAAADsAAAARBAMAAACRPMnQAAAAMFBMVEX///92dnYiIiIQEBBERERU\n",
       "VFS6urqIiIjc3NxmZmaqqqru7u6YmJgyMjLMzMwAAADiRdoGAAAAAXRSTlMAQObYZgAAAO9JREFU\n",
       "KM9jYACBtwzogCf+68wQNyjnPpQ+qqSkpAdhMjswMMx/AFF6fwOY7pVAaH9/gIEhfwKYuWt+A5i+\n",
       "gWR6PVDofAGYeaA+AURxLkCSdmZg4DYCG8q2Yf0BEM2E7LavDAyPosGsbQzvwaa0IsnyfT1TogVh\n",
       "JjD0g92wBUma/QcDw+YAsMLImfEO6IazGACV/AJbDfTkBRCDsQAhzQ/Uyf4dxAK6l8kALHYL1dus\n",
       "34AMDqA07wew2NawDcjefg+ysglk0w+I4EMnWKBeBlpqAlS85f9tBi7/TxNQYyT2f+RUlwUMVASM\n",
       "SkqICIUAAMDnPwbFfXt4AAAAAElFTkSuQmCC\n",
       "\" style=\"display:inline;vertical-align:middle;\" /></a>, <a class=\"ProveItLink\" href=\"../__pv_it/demonstrations/6b0b1d899ab3bde52239187998defbd7e9a5a2070/expr.ipynb\"><img src=\"data:image/png;base64,iVBORw0KGgoAAAANSUhEUgAAAD0AAAAOBAMAAABuognZAAAAMFBMVEX///92dnYyMjKqqqoiIiLu\n",
       "7u7c3NyIiIjMzMwQEBC6urpERERmZmZUVFSYmJgAAADEjrHzAAAAAXRSTlMAQObYZgAAAPxJREFU\n",
       "GNNjYGB4+//O2d0LGICAUbcBSIKZQNG9t/cmgJmzGRh4foAYug/nAckLYEGGTwwMfJ9BDI5/DAxc\n",
       "f4AMvgKGIAEGNog8x3cgcRLEYv8GlALxeIF4d0JSA1ieHWTi+gdAgnsCA0OkK5DBA3LC/88Q47k/\n",
       "AIl8ASDBf4GBwzeAAQoioDT/BpB+kF39955vMWBAB/0FQKIepL8+gYF1Lth7SmBwACxfD3LGfZBf\n",
       "d4J4GAbsBxE/QcRfkHwBuvxvkIf/Qb0PMQgZgL0fuQHqfY7fSPZfgHmfVQnEYgJ6f+VWdOOZgN5f\n",
       "AnIpr/7fM7c3o0sDRc/ePgZkAABUSUwTWfxpogAAAABJRU5ErkJggg==\n",
       "\" style=\"display:inline;vertical-align:middle;\" /></a> <a class=\"ProveItLink\" href=\"../__pv_it/demonstrations/249b4dfc68eaee3a9825b4d468e2514d68b515a70/proof.ipynb\" style=\"text-decoration: none\">&nbsp;&#x22A2;&nbsp;&nbsp;</a><a class=\"ProveItLink\" href=\"../__pv_it/demonstrations/0e4a0eb8b2fbf6e457c8785e90fd3fbbc32aa02b0/expr.ipynb\"><img src=\"data:image/png;base64,iVBORw0KGgoAAAANSUhEUgAAADwAAAARBAMAAABz4NKpAAAAMFBMVEX///92dnYiIiIQEBBERERU\n",
       "VFS6urqIiIjc3NxmZmaqqqru7u6YmJgyMjLMzMwAAADiRdoGAAAAAXRSTlMAQObYZgAAAOtJREFU\n",
       "KM9jYACBtwzogCf+S6hLBJRzHyYYpKSk9ADM5L/AwHB+AUT0/gYwzXGxAa79fQEDA6cBmLlrPkSY\n",
       "FyHLUA80hO0PmHmgPgFMz0Ky3B9k2kcQi23D+gNgIQUk6S8gia8g1jawRUDFAQhZvu9Agh2sO4Gh\n",
       "fwKI5nZASLP/AxKs30AKI2fGO6AbzvIB5DmQy9kYGJgvgMXEEdL8IA3nQU4C+p0J4kHeBSje5jYB\n",
       "OQgoxvsBLMYdmo3s7b0gM5tANv2AulcEFqjAYGbTBNJb/t9m4PL/NAE1RmL/R4Z6NjBQEwgpKcEj\n",
       "FAIAE1Q8UO24WhoAAAAASUVORK5CYII=\n",
       "\" style=\"display:inline;vertical-align:middle;\" /></a></span>"
      ],
      "text/plain": [
       "{A subset_eq B, B equiv D} |- A subset_eq D"
      ]
     },
     "execution_count": 139,
     "metadata": {},
     "output_type": "execute_result"
    }
   ],
   "source": [
    "A_subset_eq_B.apply_transitivity(\n",
    "        B_equiv_D, assumptions=[A_subset_eq_B, B_equiv_D])"
   ]
  },
  {
   "cell_type": "code",
   "execution_count": 140,
   "metadata": {},
   "outputs": [
    {
     "data": {
      "text/html": [
       "<span style=\"font-size:20px;\"><a class=\"ProveItLink\" href=\"../__pv_it/theorems/00f3e0b81ca42c01121f6f10c7d2ef168cee867f0/expr.ipynb\"><img src=\"data:image/png;base64,iVBORw0KGgoAAAANSUhEUgAAADsAAAARBAMAAACRPMnQAAAAMFBMVEX///92dnYiIiIQEBBERERU\n",
       "VFS6urqIiIjc3NxmZmaqqqru7u6YmJgyMjLMzMwAAADiRdoGAAAAAXRSTlMAQObYZgAAAO9JREFU\n",
       "KM9jYACBtwzogCf+68wQNyjnPpQ+qqSkpAdhMjswMMx/AFF6fwOY7pVAaH9/gIEhfwKYuWt+A5i+\n",
       "gWR6PVDofAGYeaA+AURxLkCSdmZg4DYCG8q2Yf0BEM2E7LavDAyPosGsbQzvwaa0IsnyfT1TogVh\n",
       "JjD0g92wBUma/QcDw+YAsMLImfEO6IazGACV/AJbDfTkBRCDsQAhzQ/Uyf4dxAK6l8kALHYL1dus\n",
       "34AMDqA07wew2NawDcjefg+ysglk0w+I4EMnWKBeBlpqAlS85f9tBi7/TxNQYyT2f+RUlwUMVASM\n",
       "SkqICIUAAMDnPwbFfXt4AAAAAElFTkSuQmCC\n",
       "\" style=\"display:inline;vertical-align:middle;\" /></a>, <a class=\"ProveItLink\" href=\"../__pv_it/demonstrations/ca7a3608549ffe71d6843d2ee3b56168eecff3320/expr.ipynb\"><img src=\"data:image/png;base64,iVBORw0KGgoAAAANSUhEUgAAAD0AAAAOBAMAAABuognZAAAAMFBMVEX///8iIiLu7u52dna6uroQ\n",
       "EBBmZmaIiIjMzMyqqqoyMjLc3NxERERUVFSYmJgAAAAdjRNVAAAAAXRSTlMAQObYZgAAANhJREFU\n",
       "GNNjYGB4+//snbMbGNAA3/2/aXeOgJm/gLyf6PIMrAcYGPIbgAyO70AiFUO+/wEDg38CkMH+A0j4\n",
       "P0CXrwda+b4AyOD5ACT2G6DLH2VgYApUADL4D4D0X0CX/8vA0HgJbBHIkHqQfqtVILAMLM3x912N\n",
       "JMQikCPvO6BpZ//NwKAKNvQ8iPiKbjxPAFAN2Nd/QKHxD12eH6iX/TvM+6ogN0LtXwv3Pu8XqPeZ\n",
       "VjFg834/SBcX0PuOCRjySxkYWGKA3udd/zf3TjaG9K3/13LPTGBgAADjW0c0eJFbMgAAAABJRU5E\n",
       "rkJggg==\n",
       "\" style=\"display:inline;vertical-align:middle;\" /></a> <a class=\"ProveItLink\" href=\"../__pv_it/demonstrations/b4bd7931c8d8007003febb985065eee6378ca9110/proof.ipynb\" style=\"text-decoration: none\">&nbsp;&#x22A2;&nbsp;&nbsp;</a><a class=\"ProveItLink\" href=\"../__pv_it/demonstrations/0e4a0eb8b2fbf6e457c8785e90fd3fbbc32aa02b0/expr.ipynb\"><img src=\"data:image/png;base64,iVBORw0KGgoAAAANSUhEUgAAADwAAAARBAMAAABz4NKpAAAAMFBMVEX///92dnYiIiIQEBBERERU\n",
       "VFS6urqIiIjc3NxmZmaqqqru7u6YmJgyMjLMzMwAAADiRdoGAAAAAXRSTlMAQObYZgAAAOtJREFU\n",
       "KM9jYACBtwzogCf+S6hLBJRzHyYYpKSk9ADM5L/AwHB+AUT0/gYwzXGxAa79fQEDA6cBmLlrPkSY\n",
       "FyHLUA80hO0PmHmgPgFMz0Ky3B9k2kcQi23D+gNgIQUk6S8gia8g1jawRUDFAQhZvu9Agh2sO4Gh\n",
       "fwKI5nZASLP/AxKs30AKI2fGO6AbzvIB5DmQy9kYGJgvgMXEEdL8IA3nQU4C+p0J4kHeBSje5jYB\n",
       "OQgoxvsBLMYdmo3s7b0gM5tANv2AulcEFqjAYGbTBNJb/t9m4PL/NAE1RmL/R4Z6NjBQEwgpKcEj\n",
       "FAIAE1Q8UO24WhoAAAAASUVORK5CYII=\n",
       "\" style=\"display:inline;vertical-align:middle;\" /></a></span>"
      ],
      "text/plain": [
       "{A subset_eq B, D = B} |- A subset_eq D"
      ]
     },
     "execution_count": 140,
     "metadata": {},
     "output_type": "execute_result"
    }
   ],
   "source": [
    "A_subset_eq_B.apply_transitivity(\n",
    "        D_equals_B, assumptions=[A_subset_eq_B, D_equals_B])"
   ]
  },
  {
   "cell_type": "code",
   "execution_count": 141,
   "metadata": {},
   "outputs": [
    {
     "data": {
      "text/html": [
       "<span style=\"font-size:20px;\"><a class=\"ProveItLink\" href=\"../__pv_it/theorems/00f3e0b81ca42c01121f6f10c7d2ef168cee867f0/expr.ipynb\"><img src=\"data:image/png;base64,iVBORw0KGgoAAAANSUhEUgAAADsAAAARBAMAAACRPMnQAAAAMFBMVEX///92dnYiIiIQEBBERERU\n",
       "VFS6urqIiIjc3NxmZmaqqqru7u6YmJgyMjLMzMwAAADiRdoGAAAAAXRSTlMAQObYZgAAAO9JREFU\n",
       "KM9jYACBtwzogCf+68wQNyjnPpQ+qqSkpAdhMjswMMx/AFF6fwOY7pVAaH9/gIEhfwKYuWt+A5i+\n",
       "gWR6PVDofAGYeaA+AURxLkCSdmZg4DYCG8q2Yf0BEM2E7LavDAyPosGsbQzvwaa0IsnyfT1TogVh\n",
       "JjD0g92wBUma/QcDw+YAsMLImfEO6IazGACV/AJbDfTkBRCDsQAhzQ/Uyf4dxAK6l8kALHYL1dus\n",
       "34AMDqA07wew2NawDcjefg+ysglk0w+I4EMnWKBeBlpqAlS85f9tBi7/TxNQYyT2f+RUlwUMVASM\n",
       "SkqICIUAAMDnPwbFfXt4AAAAAElFTkSuQmCC\n",
       "\" style=\"display:inline;vertical-align:middle;\" /></a>, <a class=\"ProveItLink\" href=\"../__pv_it/demonstrations/22103ea8b0800d87300d7bf8c17d5fed5c2d510a0/expr.ipynb\"><img src=\"data:image/png;base64,iVBORw0KGgoAAAANSUhEUgAAADsAAAARBAMAAACRPMnQAAAAMFBMVEX////MzMy6uroyMjIiIiKq\n",
       "qqoQEBB2dnbc3NyYmJhmZmZUVFRERESIiIju7u4AAACOKgoaAAAAAXRSTlMAQObYZgAAAPxJREFU\n",
       "KM9jYGDgu7NrJ0cBAyrg3P971Z5DINa1CQysyyYAGY9dXFzOwuTZDjAwrBdgYHjjB+Ssb4CKvjSC\n",
       "MuSBGvQXMDCYPQBy1OCmPoYqvA+k519g4PoK4kjBpRkNIPQxoKNSHjD0O4A4LxCOsoBQvxkYRPYx\n",
       "MNRfQHNzKcSQ3zPvuAJpfwE06UVgkvcHA8OzDQwM+SCXMTxASEPs5kkAKgE6yx/EYUUYwboBTPED\n",
       "Kd6/UB+zIzSLPIB7m/sTA0M/yGl1MEk+rRMIb8sDA471JwNDFEQHMFB9SqHqzBgYmHJAwq9O71Jg\n",
       "QAeb/+9afSaAgYoAFKEuLhuQhQCs00Y3UXordgAAAABJRU5ErkJggg==\n",
       "\" style=\"display:inline;vertical-align:middle;\" /></a> <a class=\"ProveItLink\" href=\"../__pv_it/demonstrations/63d798c517faefb0a9913c6e7f3782e9c096879d0/proof.ipynb\" style=\"text-decoration: none\">&nbsp;&#x22A2;&nbsp;&nbsp;</a><a class=\"ProveItLink\" href=\"../__pv_it/theorems/8d7071c6eb500f8e180e051920d8bdb9809a11e50/expr.ipynb\"><img src=\"data:image/png;base64,iVBORw0KGgoAAAANSUhEUgAAADsAAAARBAMAAACRPMnQAAAAMFBMVEX///92dnYiIiIQEBBERERU\n",
       "VFS6urqIiIjc3NxmZmaqqqru7u6YmJgyMjLMzMwAAADiRdoGAAAAAXRSTlMAQObYZgAAAONJREFU\n",
       "KM9jYACBtwwYgLskMoZDAMK+DxU7qqSkpAdhFh9g4Jp8AMzkub8BTPdKwDVv0QYS8xvA7F1Q+gbC\n",
       "7MsgDckQ9oH6BBDFuQAuy/kLRL4Es9k2rAdbwoTQ3K8AIneA2dsY3heA6FaEtHwBgp3A0D8B7ByE\n",
       "kP4DOJMvcma8A5rh9mCvgAk2BgbmCyAGI8JEfRDBBTYC6F4mA7DgLbg02KeMIBYHUJr3A1hwa9gG\n",
       "mMtBBkmDWE1AzPIDIvrQCRqoXH8YGFaC1G75f5uBy//TBLQY2ekamcBATcCopISIUAgAAOAJN1hw\n",
       "1nLzAAAAAElFTkSuQmCC\n",
       "\" style=\"display:inline;vertical-align:middle;\" /></a></span>"
      ],
      "text/plain": [
       "{A subset_eq B, C superset_eq B} |- A subset_eq C"
      ]
     },
     "execution_count": 141,
     "metadata": {},
     "output_type": "execute_result"
    }
   ],
   "source": [
    "# SubsetEq(A, B) and SupersetEq(C, B)?\n",
    "A_subset_eq_B.apply_transitivity(\n",
    "        C_superset_eq_B, assumptions=[A_subset_eq_B, C_superset_eq_B])"
   ]
  },
  {
   "cell_type": "code",
   "execution_count": 142,
   "metadata": {},
   "outputs": [
    {
     "data": {
      "text/html": [
       "<span style=\"font-size:20px;\"><a class=\"ProveItLink\" href=\"../__pv_it/theorems/00f3e0b81ca42c01121f6f10c7d2ef168cee867f0/expr.ipynb\"><img src=\"data:image/png;base64,iVBORw0KGgoAAAANSUhEUgAAADsAAAARBAMAAACRPMnQAAAAMFBMVEX///92dnYiIiIQEBBERERU\n",
       "VFS6urqIiIjc3NxmZmaqqqru7u6YmJgyMjLMzMwAAADiRdoGAAAAAXRSTlMAQObYZgAAAO9JREFU\n",
       "KM9jYACBtwzogCf+68wQNyjnPpQ+qqSkpAdhMjswMMx/AFF6fwOY7pVAaH9/gIEhfwKYuWt+A5i+\n",
       "gWR6PVDofAGYeaA+AURxLkCSdmZg4DYCG8q2Yf0BEM2E7LavDAyPosGsbQzvwaa0IsnyfT1TogVh\n",
       "JjD0g92wBUma/QcDw+YAsMLImfEO6IazGACV/AJbDfTkBRCDsQAhzQ/Uyf4dxAK6l8kALHYL1dus\n",
       "34AMDqA07wew2NawDcjefg+ysglk0w+I4EMnWKBeBlpqAlS85f9tBi7/TxNQYyT2f+RUlwUMVASM\n",
       "SkqICIUAAMDnPwbFfXt4AAAAAElFTkSuQmCC\n",
       "\" style=\"display:inline;vertical-align:middle;\" /></a>, <a class=\"ProveItLink\" href=\"../__pv_it/demonstrations/ea510d3fddc08b6e38622f8159460d34f6b5cc410/expr.ipynb\"><img src=\"data:image/png;base64,iVBORw0KGgoAAAANSUhEUgAAADwAAAAPBAMAAABKPLFCAAAAMFBMVEX///8iIiLc3Nzu7u6qqqq6\n",
       "urp2dnbMzMyYmJgyMjIQEBBUVFRmZmZERESIiIgAAABzTYE0AAAAAXRSTlMAQObYZgAAAPJJREFU\n",
       "GNNjYGB4+//O6Vv/GNBA9/89p+8GgFg/gfgGujTDWgYGnu9Amv0bkGhFl2X/wcDA+gfI4PsKJNxB\n",
       "IoKCgrINUGm+TwwMHCArOT8zMDE4Q0WZMhUgDN4FDAxWwkAGvwCDBsJQJgEIzb+BgV3aAMiIP8Cw\n",
       "CclSHwhVv6PvogOIkT9n1wIkaUYI9V6BgXk1iDHfgHkDkjQ3xPJbICUg7R8ZmB2QpHkNwNRvkPQD\n",
       "oOe+oXqYEe5thv3AUGP7iir9DO5t9r8g1R9QZFkmgClOoGujLjMw2Mz/fQhJ1nQ32Gru+b/P7L2C\n",
       "FszAQL1WgCIEAOrpPY/B6IuoAAAAAElFTkSuQmCC\n",
       "\" style=\"display:inline;vertical-align:middle;\" /></a> <a class=\"ProveItLink\" href=\"../__pv_it/demonstrations/cd3e2e2e314b7eff494c7768cc86b881d0bcd77b0/proof.ipynb\" style=\"text-decoration: none\">&nbsp;&#x22A2;&nbsp;&nbsp;</a><a class=\"ProveItLink\" href=\"../__pv_it/demonstrations/74f7d09016f2978187b709a4a22dc52a8f4935bf0/expr.ipynb\"><img src=\"data:image/png;base64,iVBORw0KGgoAAAANSUhEUgAAADsAAAAPBAMAAACo4Ko7AAAAMFBMVEX///92dnYiIiIQEBBERERU\n",
       "VFS6urqIiIjc3NxmZmaqqqru7u6YmJgyMjLMzMwAAADiRdoGAAAAAXRSTlMAQObYZgAAAN1JREFU\n",
       "GNNjYACBtwzogN3/y8wQ+wII5z6GNAP/BQYGlgNgJs/9DRjS7wWA4glg5q75DRCxI0pKSnoQZj1Q\n",
       "iusBmHmgHqKsVwKhG2hgAxfYULYN6yGWaCAZ/omBAyLIsI3hPdiJnAsQsmw/GVihNiYw9E8A0UxI\n",
       "mhn/TjWGsPgiZ8Y7gBitSNK8vxm2Qs1hYGC+AGJsQfa2AsMuCAtoI5MBuuH5AlAGB1Ca9wPYvgKE\n",
       "tHwClNEExCw/wMxbCGl9KL3l/20GLv9PYKdvDYMGLvfc/5ENmPHw0AkeqBAAAL/NNfL4EznGAAAA\n",
       "AElFTkSuQmCC\n",
       "\" style=\"display:inline;vertical-align:middle;\" /></a></span>"
      ],
      "text/plain": [
       "{A subset_eq B, F proper_superset B} |- A proper_subset F"
      ]
     },
     "execution_count": 142,
     "metadata": {},
     "output_type": "execute_result"
    }
   ],
   "source": [
    "# SubsetEq(A, B) and_proper_superset(F, B)?\n",
    "A_subset_eq_B.apply_transitivity(\n",
    "        F_superset_B, assumptions=[A_subset_eq_B, F_superset_B])"
   ]
  },
  {
   "cell_type": "markdown",
   "metadata": {},
   "source": [
    "### `SubsetEq.deduce_in_bool()`"
   ]
  },
  {
   "cell_type": "code",
   "execution_count": 143,
   "metadata": {},
   "outputs": [
    {
     "data": {
      "text/html": [
       "<span style=\"font-size:20px;\"> <a class=\"ProveItLink\" href=\"../__pv_it/demonstrations/b517c25c1e9cc057d7337047f24960aa5f67c2460/proof.ipynb\" style=\"text-decoration: none\">&nbsp;&#x22A2;&nbsp;&nbsp;</a><a class=\"ProveItLink\" href=\"../__pv_it/theorems/1c0ce95bc1faa274a6f70743151946f5ea8a36a60/expr.ipynb\"><img src=\"data:image/png;base64,iVBORw0KGgoAAAANSUhEUgAAAHEAAAAUBAMAAABIac8KAAAAMFBMVEX///9UVFTMzMx2dna6uroQ\n",
       "EBCqqqqIiIgiIiJmZmYyMjJERETu7u6YmJjc3NwAAAC+aOQFAAAAAXRSTlMAQObYZgAAAdBJREFU\n",
       "OMtjYOC7wIAXsD3AJXMaQmlhSPDKf5wpvYWBQQ5NvCJ6/9JGByBjHYS/Hip+saOjownCZN3AwDBf\n",
       "geEUupEL1Hn2zAWaPAFiwfoDYPqVHUKFPtAf/hMYmAvQdG7wZSjiZmDggHjj2HwIvQ5JRT1Q6H4B\n",
       "A08A1PU7OrpgOtOAOl9AhC/Ug1zOwJmApHMrAwNPBNApS8A8pu0HEHaaAEOnEsxhOZAPDmIOZFd9\n",
       "ZGDQkAHSlmDeqQMI17I0CTEw7AVzjjDog33zEEkj08e71W0gxi0wFxHEG1z7vwJdCJZjcGB4PwEp\n",
       "isCA/R8Dw1EBICMDoh45hGwvMzCEgI2XnCm/Ad213MCQYf8GCmOwkqhVQADTyc1yAaKTBRh5C0AM\n",
       "5BjgB9rH/h2mkw/FTm4GAYhrgSHKAQn7ZajRyfgFyPAAcwOQdTIyLACHEB9QJ9cHsOhBkQPI0am/\n",
       "AR5C01Hs5DUABzkoTrn/QYSVd8BS31KgL6JB5kwGczngUb1AmcF4Itgpp/+vYWDb/2MCahqT+i85\n",
       "cTdY9SIwn0faBzXFczxgIAB4GiA0izU09cHy0gRCOjFSPAzsQ1HV0YHIZVBwikDOxg324ZIgVJrw\n",
       "4ggIAIrPf/dOa0YHAAAAAElFTkSuQmCC\n",
       "\" style=\"display:inline;vertical-align:middle;\" /></a></span>"
      ],
      "text/plain": [
       "|- (A subset_eq B) in BOOLEAN"
      ]
     },
     "execution_count": 143,
     "metadata": {},
     "output_type": "execute_result"
    }
   ],
   "source": [
    "# A subset_eq B should be a Boolean\n",
    "SubsetEq(A, B).deduce_in_bool()"
   ]
  },
  {
   "cell_type": "code",
   "execution_count": 144,
   "metadata": {},
   "outputs": [
    {
     "data": {
      "text/html": [
       "<span style=\"font-size:20px;\"> <a class=\"ProveItLink\" href=\"../__pv_it/demonstrations/ba19fb8f2ab2fd921cbbec0de8321d4a024c19600/proof.ipynb\" style=\"text-decoration: none\">&nbsp;&#x22A2;&nbsp;&nbsp;</a><a class=\"ProveItLink\" href=\"../__pv_it/demonstrations/982d9d8bc6601d736821180af06ed1ded71b1a260/expr.ipynb\"><img src=\"data:image/png;base64,iVBORw0KGgoAAAANSUhEUgAAAOwAAAAVBAMAAAC3YB/2AAAAMFBMVEX////MzMxUVFR2dna6uroQ\n",
       "EBCqqqqIiIgiIiJmZmYyMjJERETu7u6YmJjc3NwAAACgK8IjAAAAAXRSTlMAQObYZgAAAzVJREFU\n",
       "SMeVVk1IFVEUPs95jc9x3vPRNshHRIpSzEZURHATuDA0cGFZ8ZYJkU8qxN2jyIZoYQk9sIX2symi\n",
       "ZhNakQ1BhLp4Ay36gejRqnZFYiD2c+89987cOz9WFwa+Off7zpl77rnnDgAb7zxIGKmKG2NN5v9N\n",
       "KUaOeFi1kufTh6O27fiqUq8lTK6R56NqGVFe56IahW8+Kse43XUElQdUc/3Fp5sjewl4QJ4ude6u\n",
       "8iYms622becVEw5jJm45G0hbDZmNVGltxYPsTDTsRlzY3O1a5EtwNBXjMryFNK2k2hvTXn3egUwt\n",
       "4oYqomGNGiSEHYwrHa2MNHOI52rJvszD6kUHPkfdaOW4sNchKWxXXI5p5tnEHSzrRddfrTbgwJQv\n",
       "/NJ9DqeMlimeNm1yAqADcTkUKDdbOYZvtybFJzE+89XZXOTKbqx9N0hy/848PKO4jab2BDzEmep9\n",
       "8xdu5zQ8EWWbK0hhKf9gzfiKlbzpVmsSH309d7nyPbMcCPZ25PcwwDSBOj2aLz24gTPjLvxgIGPB\n",
       "PlGophNEpXzzODSgSd+CppLER19zosRPMosjlZT2wQISObVEP3behUvioJrfGZjHzLSW1CQzfsMW\n",
       "ZDBYwwJULZnPwAWhbGaSo/fI4GHBOUTDYiMaBfObOLZpPEKjuNWY3k61/exwoJoXxTNYlPjoa10o\n",
       "WdicvFpw6liSoR3oAnXcK/hJlwIg1sxbkiGdTsInCxznx9bjy+T8wBdT9jPTkBy2YGBJkco0N6Bu\n",
       "4TSbWad7g/FB9yvZ3DMgV3K1CG3YcJv6yD5L/MBXR1BSFWW1r7G+6YFYhLcFy9wkaD88BgaugXk1\n",
       "OJapHrk5Npay5zWoLgDUeY0zDDA+EzJfXDmL1Vb0m6OldRcwB3T+xeTulj6wSbpWzpDFUqD1vonv\n",
       "BjQ7LROfzkLmCkGVXmAA+VSIvlB5E3PVPqBcBaHmqLthkBCWj1MREAixOfITkO7B5ijuFXq2OoLG\n",
       "GAFxYQO+FQGa+nXhq0CMZeX+fBUB4r7tsm1/b32+WQoDSciUq9tc84b/rV4EpIdj+rzgZyEMAiEq\n",
       "l7f5qYGx//yXGvvXf6ls/E/NH2gD8/Z4jAZkAAAAAElFTkSuQmCC\n",
       "\" style=\"display:inline;vertical-align:middle;\" /></a></span>"
      ],
      "text/plain": [
       "|- ({a, b, c} subset_eq {a, b, c, d}) in BOOLEAN"
      ]
     },
     "execution_count": 144,
     "metadata": {},
     "output_type": "execute_result"
    }
   ],
   "source": [
    "SubsetEq(Set(a, b, c), Set(a, b, c, d)).deduce_in_bool()"
   ]
  },
  {
   "cell_type": "markdown",
   "metadata": {},
   "source": [
    "### Testing the `ProperSubset` class methods in the superset style\n",
    "<br/>\n",
    "<font size =3>Again, the <span style=\"font-family=courier\">ProperSubset</span> class has the following class methods:<br/>\n",
    "    <div style=\"width: 70%; border: 1px solid green; padding: 5px; margin: 20px; background-color: gainsboro; font-family:courier\">\n",
    "        <ul>\n",
    "            <li>reversed(self)</li>\n",
    "            <li>derive_relaxed(self, assumptions=USE_DEFAULTS)</li>\n",
    "            <li>apply_transitivity(self, other, assumptions=USE_DEFAULTS)</li>\n",
    "            <li>deduce_in_bool(self, assumptions=USE_DEFAULTS)</li>\n",
    "        </ul>\n",
    "    </div>\n",
    "</font>"
   ]
  },
  {
   "cell_type": "code",
   "execution_count": 145,
   "metadata": {},
   "outputs": [
    {
     "data": {
      "text/html": [
       "<strong id=\"set_134_properSuperset_set_13\">set_134_properSuperset_set_13:</strong> <a class=\"ProveItLink\" href=\"../__pv_it/demonstrations/7c7fc0fb1c87adeb9233d00f76a94040f753f5890/expr.ipynb\"><img src=\"data:image/png;base64,iVBORw0KGgoAAAANSUhEUgAAAJIAAAAVBAMAAABf4KrdAAAAMFBMVEX///+IiIi6urrc3NxERETM\n",
       "zMwQEBCqqqpUVFQiIiJ2dnYyMjLu7u5mZmaYmJgAAABN0h6tAAAAAXRSTlMAQObYZgAAAbhJREFU\n",
       "OMuVVL9Lw1AQvio2bYylk5PQTMXdyYLQP0BsBxcHQUTcxC520UFwE0VFl4BiBl2cCi4iFNLRyQ4O\n",
       "LtWCo6COiqD2/cjLXXIt+Ibkcfd937t7d+8AIPcEfdfiBGNMEhTMuYUBq1hNmDiChOU+sGn46qIW\n",
       "7kfaAGONZEgMQcLsQ2GoB8oxA9ZPCMpuh16yOIK0iY+ze6AdhRp8hZTx/kpxglECeNeOogvfYdyv\n",
       "kdKC53lzJCZKYJQgys4epTGVrjkloNlhx52vNy9SaSlKa5pXEgQJyzSIo3Smd05eKOFCWW354wgS\n",
       "Vq/SI1LL+mgQStBEd60yZQk92PwxUAesqu2GUsocRUo74sMTBKxIjpgCqMjWdHyldINimkVtHyMI\n",
       "WKaMHb+BVrL2O89redrQKjuOIGG0FCsA52Hc6VjtUj5TO0WQMOUoBOCIlnwT7XGvHlu6THt8E3cB\n",
       "IaB+elxvdsHrHTPUeXAheyoZlc8uUnIm95ASJeDOlFdjyrEVe67itZxcUhMhKCVzE7bh+3El8oIZ\n",
       "goRF1WmZRPIGMnA+tWIwMwK7BouGoZsckEmChln/neMWO8f/AKy5sZMhDsPCAAAAAElFTkSuQmCC\n",
       "\" style=\"display:inline;vertical-align:middle;\" /></a><br>\n",
       "<strong id=\"set_1346_properSuperset_set_134\">set_1346_properSuperset_set_134:</strong> <a class=\"ProveItLink\" href=\"../__pv_it/demonstrations/bbb3a5f4ce96edbb2d215b1a0621c06ff5b511e60/expr.ipynb\"><img src=\"data:image/png;base64,iVBORw0KGgoAAAANSUhEUgAAALkAAAAVBAMAAADoXVL6AAAAMFBMVEX///+IiIi6urrc3NxERETM\n",
       "zMwQEBCqqqpUVFQiIiJ2dnYyMjLu7u5mZmaYmJgAAABN0h6tAAAAAXRSTlMAQObYZgAAAmVJREFU\n",
       "OMudlctrE1EUxr+8OplkMnHVRTdm1Z0QcFdQghtRKM2iWyEEK124yEq6sOhCxQdIQBeNKKZQiqmb\n",
       "2QjiQqYuxMcirbjSpuQf0BYFiyRYZ+7cx7mZaUa8i9wzh/v7cubMd+8FYO8ifmS23Yjst34cYL3C\n",
       "v4zkQjj3sR0L2Ps0l9pYa4j4gghWp6rA17DAnvY0s3EWFGVArun9GJd5+hSMP2LJiiixVHCATlid\n",
       "pQSa2sK1PkU7Qv3dsyFPH2/gNw8TizyYRbpypLpEEwcoNikq1WEL9ekSBjw8/ZI38KcqFJlWq/Ww\n",
       "T2sXaLKOokPRCHWozrS5erpG1FkPnpcj1L0hO9M+Uv09N4Jd5urFF6ufvGmdfPpmpLr1CBRlQNbR\n",
       "lsw84cbeBFfvvobZ0A2yHEz3NPVUZwcUZcCVql57os7fTqrvo+D5Ir+l1M2ghwsjnZksUdQH5h+M\n",
       "LMElVrxRFeqeE+wf3nznmFyS9RufOVceQScCcwrUB6a12k8Cc2w7fYBQNx3Y3pfOX1cFpF2yGzma\n",
       "KiN9AIIyIFuh6ocuV1/q9X5tB4XWWO2070FncIOqF4dCnaN7Yc9cBJ6K84rvpswQhZrmGUxFeGai\n",
       "AlM2aVF4hqknvHzXN8933+9dh/+TxXbWXbxtaHvVcIi6QO2+53drIItUfi/cGuzCfOz3sve5FERY\n",
       "O7yPlv8euS83td305rar1BV6oncGAcBQspvYuIpQZLj6kcVOgvNVLTUWyNXEozqtZZQbORD1sR4P\n",
       "yPPdkn5W0aZaPO58HwOIu8mWeRWpmy1ZD6vn2/GA8f/36nLMvfoXb1DaYaRW0UsAAAAASUVORK5C\n",
       "YII=\n",
       "\" style=\"display:inline;vertical-align:middle;\" /></a><br>"
      ],
      "text/plain": [
       "set_134_properSuperset_set_13: {1, 3, 4} proper_superset {1, 3}\n",
       "set_1346_properSuperset_set_134: {1, 3, 4, 6} proper_superset {1, 3, 4}"
      ]
     },
     "execution_count": 145,
     "metadata": {},
     "output_type": "execute_result"
    }
   ],
   "source": [
    "# define a few proper supersetset relations for testing\n",
    "set_13, set_134, set_1346 = (\n",
    "    Set(one, three), Set(one, three, four), Set(one, three, four, six))\n",
    "set_134_properSuperset_set_13, set_1346_properSuperset_set_134 = (\n",
    "        proper_superset(set_134, set_13), proper_superset(set_1346, set_134))"
   ]
  },
  {
   "cell_type": "code",
   "execution_count": 146,
   "metadata": {},
   "outputs": [
    {
     "data": {
      "text/html": [
       "<strong id=\"set_bcf_properSuperset_set_bc\">set_bcf_properSuperset_set_bc:</strong> <a class=\"ProveItLink\" href=\"../__pv_it/demonstrations/0b222cb240b551f420011e44092dfda25c28812d0/expr.ipynb\"><img src=\"data:image/png;base64,iVBORw0KGgoAAAANSUhEUgAAAI8AAAAVBAMAAACNsKCFAAAAMFBMVEX///+IiIi6urrc3NxERETM\n",
       "zMwQEBCqqqpUVFQiIiJ2dnYyMjLu7u5mZmaYmJgAAABN0h6tAAAAAXRSTlMAQObYZgAAAiZJREFU\n",
       "OMuVVM9r1FAQ/tgfTTabze4evBQKe/IkbK/ePAn+gj34B4jooRfpyVNLVyhUEcqCgqx4WEEUWyg5\n",
       "iliJIl6kpIuIBVHXP0C7rUhBS+lk3kte3r7k4IMkky8z35vMfG8AeN+Qt8rDIAP9Ocr0cl8ifxWu\n",
       "m9iHQbaXNyaysz0zwB1+BL6Y+C5d7+Y0iL2ciKO6bQbYzw6A5ybO0KYJMVF93gwIT7XyiQ5yiNoZ\n",
       "RV1KXFDu9/v3R6mowmEOUcbGAlMfiuuzCnd6OUQvmp8l9rjZkU2e+0r3p8q72FNR1VszshhO84T0\n",
       "sn1q0L8gFPudni/5MnAvblG8FsXjblS/V+5vwf4AF6TXTcrAOkS9wR8ewpZbFf9gop0VvluRaJYC\n",
       "sQ8qA6wIr8v36LXmI2SZ1VQRrTE/7jSUHqKky+dmWTjuX8a+B4nXyQ4ztjmRqTNJmKhntasyKgWJ\n",
       "jDdREAK4hsTLptj6SFKHSv6l7mSNxK9hma4jmbvMazfeud5ybzBCjJA1muJ/SnUN06pr+3gvZHVE\n",
       "NZBeEZE9Km0jpHbVutjqhNy3sKXrCJaviFZxiVpNxg7cTykducMNyvwRva39aggDbehEb28Himhr\n",
       "mhLqE+Bs/NAEyWtBM55APyLnO2kZc4qBruwr8esgZVjd1xMZJSspm6MfEW8cz59Gyqhc9NWkMecR\n",
       "rzf6PEI8IT2kDG+Gj0zhqklUjTNPJq70sv53Zi9mzexjrXOjMb+s/4wAAAAASUVORK5CYII=\n",
       "\" style=\"display:inline;vertical-align:middle;\" /></a><br>\n",
       "<strong id=\"set_bcdfg_properSuperset_set_bcf\">set_bcdfg_properSuperset_set_bcf:</strong> <a class=\"ProveItLink\" href=\"../__pv_it/demonstrations/d3dde72c373cb31b083754c22f8896af249ba4210/expr.ipynb\"><img src=\"data:image/png;base64,iVBORw0KGgoAAAANSUhEUgAAAMsAAAAVBAMAAAAa4QdfAAAAMFBMVEX///+IiIi6urrc3NxERETM\n",
       "zMwQEBCqqqpUVFQiIiJ2dnYyMjLu7u5mZmaYmJgAAABN0h6tAAAAAXRSTlMAQObYZgAAAqVJREFU\n",
       "SMetVj1rU1EYfpvcmOTmGm+ELKWFTCWDYEZ16uTSVjq4OAgi7dBFMoiLSlIcRBQ/sFBTOqRQK9dB\n",
       "Cy4itlxBupXbIqIoavoDtNoiBT+C5z3fJ/ekWvAMNw8n53ne73MvAOQ/wl7W6T7L5i4aqfUQf7xn\n",
       "sLc1MBrb2lUjMU4d+QrwcsLmxvE1obL+StvfvxgPppsGZb5H5N4mjyWbGweqHGQe7GjblGCurhqU\n",
       "GcgjOzYzh0MOokOlfzBj06BMaSbxy2YmEKAW1wQ41Wg0TmhbVo2a1MEjFgf1LAQ2M7iOPVFbVo3A\n",
       "MJOb7Bd1mCuwRkq+K4osfJ74wNHlwnlCOKNkjiozSsMtFA3mAq0SaZzoubfNeVWHNdJAxZFZ+Cbi\n",
       "GEz+Zm0lVpo1o6GRnIYhg7mJjwvE+1oopGYgQ33yzqnGTX4XmQ5pnfWWYpkyNLJNuGowc8SXk3cB\n",
       "O9v7wWZCREAAOc5dFu6PQQr/z9xRZq7gw9T4FKpgGfOaz4Z6CRKsEPsG+QEColJHzVNt6EH4VItm\n",
       "WF4MUmOss1tydfSNKLdFGJGIgADZxk6dz/o2OGtmbXjSdA0ek8bcFBa3YKXFBp/80NpEVbiervDI\n",
       "fJkCvBj0TutpQkyjTU6CzlwQR27CCHg/sSR1WB2NSO0dP3/PhYh2AWYPEemkW6E5IBdVcqTGW/Be\n",
       "UwA873JuVnuJIw0s3cMvPmRnieRk8chBisilg+2DqNwbGOPplW8oM1LDfbTBxShTv9NoTmSHXAID\n",
       "zau9EeOymbrfeTFIDQbmNTMi1a4Ub+ooXV/mKAXeVperM6aBgDOZGdk4L2QufB1lhxc5ehxio3V7\n",
       "35gaCBiTv29AvPlakgQ6yvdXOCpvvKFDUopfkTGNlmRC4ixL43/4Fkj/5VvgD/r64Oc3lgIYAAAA\n",
       "AElFTkSuQmCC\n",
       "\" style=\"display:inline;vertical-align:middle;\" /></a><br>"
      ],
      "text/plain": [
       "set_bcf_properSuperset_set_bc: {b, c, f} proper_superset {b, c}\n",
       "set_bcdfg_properSuperset_set_bcf: {b, c, d, f, g} proper_superset {b, c, f}"
      ]
     },
     "execution_count": 146,
     "metadata": {},
     "output_type": "execute_result"
    }
   ],
   "source": [
    "# define a few proper supersetset relations for testing\n",
    "from proveit import g\n",
    "set_bc, set_bcf, set_bcdfg = Set(b, c), Set(b, c, f), Set(b, c, d, f, g)\n",
    "set_bcf_properSuperset_set_bc, set_bcdfg_properSuperset_set_bcf = (\n",
    "        proper_superset(set_bcf, set_bc), proper_superset(set_bcdfg, set_bcf))"
   ]
  },
  {
   "cell_type": "code",
   "execution_count": 147,
   "metadata": {},
   "outputs": [
    {
     "data": {
      "text/html": [
       "<strong id=\"set_bc_properSubset_set_bcf\">set_bc_properSubset_set_bcf:</strong> <a class=\"ProveItLink\" href=\"../__pv_it/demonstrations/1c2542062ac6df3f52406d0777a2aeccc68ad00b0/expr.ipynb\"><img src=\"data:image/png;base64,iVBORw0KGgoAAAANSUhEUgAAAI8AAAAVBAMAAACNsKCFAAAAMFBMVEX///+IiIi6urrc3NxERETM\n",
       "zMwQEBCqqqpUVFQiIiJ2dnYyMjLu7u5mZmaYmJgAAABN0h6tAAAAAXRSTlMAQObYZgAAAi5JREFU\n",
       "OMuNVD1IHEEU/riod9lbvb0iTVCwstVSsYhVMEjgilSBwBm0sJGtJIVwJo2YQgwqchLhQkAwhdhF\n",
       "Qg42QUJAjvMQf+DArGCtFy0CKpKZN7M3s86i94rZN2+++fbN+94MgLYjhO1VO0wzUMqaKx7/2N+M\n",
       "la6MEYpAKYuN0q9qDPZ0Tl9o3TATYqitsQiSUkcPUOWexTmSO/qiNWfgKVSMIHqfc4G1OiTlNkL0\n",
       "z+Sxz39CJ+r2IolO8vn8Yj0UuzaJ4jWEiNYQRdT/ORSKSFTGFNFm+kCufEpnYGWFPx/ekHzbIStg\n",
       "pR9JDfZXeHVXuZ9gEtlXXrmHVvrcpg2SiIunFY6jyt/tC5o8WMKQjKccPp7xYYI1TfxaRrCMhBvI\n",
       "81A7AkflPPwVCwVMy/gTajku+ot50TjlAiUh6pn4wMdexUOoKuxLmv1R0uTEZ8YRbcwYu+kcLQMU\n",
       "36Rx61azFxETDTCi4kKl5BT/O9ub8uVfRF6yRvrROOpGJizzIhtEvUZcj1SnPS5q5wNuoJrlhFU7\n",
       "xy+fJjesqjI+TONqAEn4TTsoM2Fap1DK1Bvma5hoFs+ZvmxyCHuPHNbYCPWRXVlnJ/nIZl9OHdV5\n",
       "v995OlHpMUsoz0LW+rFwEKuFiYRNGlfk5TP9iog74emONaARZYP9hbsubYCyoDlvkr4ikhKx8zn3\n",
       "vEdkP6A5C9vCp/cIwdvXppqm07ydAcqH5hzvihfytThsQ292/J43+z8SyqCd0WuW9gAAAABJRU5E\n",
       "rkJggg==\n",
       "\" style=\"display:inline;vertical-align:middle;\" /></a><br>\n",
       "<strong id=\"set_bcf_subset_eq_set_bcdfg\">set_bcf_subset_eq_set_bcdfg:</strong> <a class=\"ProveItLink\" href=\"../__pv_it/demonstrations/f2fa5ab8377290944d5b65942fdffe2090d4db240/expr.ipynb\"><img src=\"data:image/png;base64,iVBORw0KGgoAAAANSUhEUgAAAMsAAAAVBAMAAAAa4QdfAAAAMFBMVEX///+IiIi6urrc3NxERETM\n",
       "zMwQEBCqqqpUVFQiIiJ2dnYyMjLu7u5mZmaYmJgAAABN0h6tAAAAAXRSTlMAQObYZgAAAsdJREFU\n",
       "SMeVVk1oE0EUfmySbpJd0+QgolDIyVPBvXqQxpuiYsDe40899CAEBPGgJAFBW6EEFGSLQgKlkh4k\n",
       "56ISRUQoIQnFHxA1PXrQ1oosaCjOz5uZ3c2kkIFsvn0z3/dm3nszswCQ+gqjWqzX0lh/9GGMhhr2\n",
       "+j5jjKvDto0ajNW4RmoH4M28ptvubQJ8HrZvwwjC7DWB2lOOz840klXyeKFhxZ96AA18SS24rptn\n",
       "kJl0BPAEWCwVfeaGdONpSJ3prHQTWXeCLB3BGIg47L4GnRs5wN9KcgiA5QRZWgKbMG3mDmjdyAFD\n",
       "vejmY8iuJVjdsL+QG6syJYJZz+SxbOe/kOcqf6mGWIqQzBzk4ES9gKbUhyfo0OwdyqFGvEnS8Nz+\n",
       "zTuOF6NNlPslyoqkpuxzcx98hMgjOMMTcwXOi002mUawAjNd1LhBZl9qcVGAZYjjnCJ/VCDsnPJi\n",
       "0m0gCYka3GXgbV8V/wwGxBzAZJFrzD5glW3/ZR0HVGoxjwvpYNBipx0/4ZtYAQHLgeIhbSIHhRZq\n",
       "HM3TXWB4oiNYNxYPVz20qSVhTpjnSBkHck5aoQ+HhUacKO+JZXTUQRItq9yA5dtud0ARcE0MqDI+\n",
       "Jc4LB84JDTrrXRpaljzyh4oTLFpYafa96UClScIeiS4b4JFauo4jLqngeUKDulkiXu1/NDdlaOc7\n",
       "rNY6Wf/6YyuBw0YSPoH9noGT8L1cY4hFj6GOEx/49037CJmbS7O19jMNicfUfiwQ5tC+kYTksy0O\n",
       "3mUuVLJcw6DRo8iorFUDZxorLXm33OI1v4+bIEExGUrmpC3alW4uitKSQqQOzPLLUW5WIUxQTIpu\n",
       "Wn1EeR75hrhvWHslLxqS/MTZproryEjXlbnZhjBBAoYebiBKDlihoYa4PeXVm6I/fjEZlzUnZC1M\n",
       "UJc2RVubiIwldvChhjnut8Dt8b8F/gNWVPG4VTFm7wAAAABJRU5ErkJggg==\n",
       "\" style=\"display:inline;vertical-align:middle;\" /></a><br>"
      ],
      "text/plain": [
       "set_bc_properSubset_set_bcf: {b, c} proper_subset {b, c, f}\n",
       "set_bcf_subset_eq_set_bcdfg: {b, c, f} subset_eq {b, c, d, f, g}"
      ]
     },
     "execution_count": 147,
     "metadata": {},
     "output_type": "execute_result"
    }
   ],
   "source": [
    "# define a few subset relations for testing (when a reverse is desired)\n",
    "from proveit import g\n",
    "set_bc, set_bcf, set_bcdfg = Set(b, c), Set(b, c, f), Set(b, c, d, f, g)\n",
    "set_bc_properSubset_set_bcf, set_bcf_subset_eq_set_bcdfg = (\n",
    "        ProperSubset(set_bc, set_bcf), SubsetEq(set_bcf, set_bcdfg))"
   ]
  },
  {
   "cell_type": "markdown",
   "metadata": {},
   "source": [
    "### `ProperSubset.reversed()`"
   ]
  },
  {
   "cell_type": "code",
   "execution_count": 148,
   "metadata": {},
   "outputs": [
    {
     "data": {
      "text/html": [
       "<a class=\"ProveItLink\" href=\"../__pv_it/demonstrations/77f1cb5cb420bf4b2a97166edc3bb6270793415a0/expr.ipynb\"><img src=\"data:image/png;base64,iVBORw0KGgoAAAANSUhEUgAAALkAAAAVBAMAAADoXVL6AAAAMFBMVEX///+IiIi6urrc3NxERETM\n",
       "zMwQEBCqqqpUVFQiIiJ2dnYyMjLu7u5mZmaYmJgAAABN0h6tAAAAAXRSTlMAQObYZgAAAgdJREFU\n",
       "OMuVlT1Iw0AUx1+1Ehub6Oxip86CiyiKq4PYwUkQiqh0cMgkDg4iKOggBREsKFYUUacuojhICyJV\n",
       "Bz9wUioOzlYUBLG03l0uubskd+qDJC+X/+/x7vLuHQCYTyCzhtt8wKgC8KHRE4Wmbtw/pgS8qPnG\n",
       "j9Uf7FiOP4Kux4DUlQCxrdYERfU0ummTdLwHtKqjWUPXvj+6GsB2FTNyFMXi4l6Ffmiz4Iu6oZQ8\n",
       "uhzANgDhPi46mI44HoNv6vYe89FfMpnMKvwO4BX/II+A6MAmmuWjd2+LKyMFkIWT8ugXWfrz2rF4\n",
       "l46ugDS6CCBrPty6c9DGnCDu2qAlXgAsLtsvhsWiqwFk16cQsSg6lRBTCY3SeRJx0w15iXB/VQ3g\n",
       "6G9gTNroEJkzJ4YJkouWsMWLLfjeyT7/BqCVSYP5TtG4kEoHwCBZhUuwc58lw2dc7moATzQHZpWi\n",
       "jX28uJan4ulS6fPWXXd+ZdQAFiRJ7mV/CYwBbDqdK8VqRm+R1YwXwA2sAkaSokQcQuJrXAuvuHyJ\n",
       "R0C33o880SVAlOysJTi3uHo3Fr6fILKO91npPmZ7sFNbZtGLc3k+uhTIYJn+MC/sJmIz4PfcTjDc\n",
       "L3QCGaDlRVRPOq9Z8HtBXUwF6CCibruOun+Oecr+HgQUwIM6R43JeHbAjAacOirg2Ytq/z1XtT+f\n",
       "qz+Wq9kX56ldlQAAAABJRU5ErkJggg==\n",
       "\" style=\"display:inline;vertical-align:middle;\" /></a>"
      ],
      "text/plain": [
       "{1, 3, 4} proper_subset {1, 3, 4, 6}"
      ]
     },
     "execution_count": 148,
     "metadata": {},
     "output_type": "execute_result"
    }
   ],
   "source": [
    "# if A is a proper superset of B, then B is a proper superset of A\n",
    "set_1346_properSuperset_set_134.reversed()"
   ]
  },
  {
   "cell_type": "code",
   "execution_count": 149,
   "metadata": {},
   "outputs": [
    {
     "data": {
      "text/html": [
       "<a class=\"ProveItLink\" href=\"../__pv_it/demonstrations/1fa604b1c5281be098f8d55812fbf5f8ad90a9ab0/expr.ipynb\"><img src=\"data:image/png;base64,iVBORw0KGgoAAAANSUhEUgAAAMsAAAAVBAMAAAAa4QdfAAAAMFBMVEX///+IiIi6urrc3NxERETM\n",
       "zMwQEBCqqqpUVFQiIiJ2dnYyMjLu7u5mZmaYmJgAAABN0h6tAAAAAXRSTlMAQObYZgAAAsBJREFU\n",
       "SMeVVk1oE0EUfmzSbn7WtDmIKBRy8lRwrx6k8WZRMWDv8aceehACgniwJAFBrVAKCpKikECptAfJ\n",
       "uahEERFKSELxB0RNjx60tSILGoozb/43EyEPknx5M997s+99M7MAkPoCg2yk07B4v3dhCOMxvI3/\n",
       "zHGu9Ps2qzCUsRipXYDXc5Zhr7MF8KnfvwMDCDNXBWpO+JofYySWyNdzCyv2JABY6/ejy0aAQICF\n",
       "YiFMwDSBhdSazAxOYyM4PVGHvVdgSyMn6FaUU2hppyuVSk6yrARcMDV3F6xp5IS+UZ4msuEbfish\n",
       "2Q7nC6VJlidEMWvpHJft3Gfyvcr+xH2TpQiJ9EEGTtTy3JV6/5gndDuHsjxGrE7a8Mz7xQaOF6J1\n",
       "Hu6nkBWxD9ri7oFGiDyE06wxl+Gc2GRj4xyswFSbx7hOVl9ssKAAyxDja4r81gqhVcGl20AS4lW4\n",
       "jeBNV4l/ihfE7cFYgcWYuY/K9v7gwAHVWt7Hu3RlkZLa1NO+TvgqnoCAZUM8xEazkG/wGEdzdBc4\n",
       "gRgwdZPEBF42tKklYVa4Z4mMjZ4Ty3fhsIgRIyH2xWO01EESLWm90aVzCxSBPxMCJeNT4rzw4ayI\n",
       "QVe9R0uLzSM/vDej2EeutFpIn5KwT6qLaQKipWt8xkVVvEDEoGkWSVbvL+1NCZq5FmqtldGeP1kw\n",
       "00jCR/DeITgJ30pVRFg9RC0/1tP3TfMIWVuFdmv9xzjEH1H/Mb3M3p1JI40kJJ5uM/A2fb6cYTEc\n",
       "Wj2KnPL6knGmobTk3XKTaV7v5siKcdiYBMVElMhKX7Qt01wQ0pLrJTpwSy/MmMpWIUxQTIpuJLsc\n",
       "5Vjl18R9g/ZSXjSk+fEzdXVX9N83JkECRA82OUr0UGg8hrg95dWboh92MTmXLCdkNUxQlzZF21sc\n",
       "OYt48PEY7rDvAvPDvwv8A4ig7YDovTanAAAAAElFTkSuQmCC\n",
       "\" style=\"display:inline;vertical-align:middle;\" /></a>"
      ],
      "text/plain": [
       "{b, c, f} proper_subset {b, c, d, f, g}"
      ]
     },
     "execution_count": 149,
     "metadata": {},
     "output_type": "execute_result"
    }
   ],
   "source": [
    "set_bcdfg_properSuperset_set_bcf.reversed()"
   ]
  },
  {
   "cell_type": "markdown",
   "metadata": {},
   "source": [
    "### `ProperSubset.derive_relaxed()`"
   ]
  },
  {
   "cell_type": "code",
   "execution_count": 150,
   "metadata": {},
   "outputs": [
    {
     "data": {
      "text/html": [
       "<span style=\"font-size:20px;\"><a class=\"ProveItLink\" href=\"../__pv_it/demonstrations/77f1cb5cb420bf4b2a97166edc3bb6270793415a0/expr.ipynb\"><img src=\"data:image/png;base64,iVBORw0KGgoAAAANSUhEUgAAALkAAAAVBAMAAADoXVL6AAAAMFBMVEX///+IiIi6urrc3NxERETM\n",
       "zMwQEBCqqqpUVFQiIiJ2dnYyMjLu7u5mZmaYmJgAAABN0h6tAAAAAXRSTlMAQObYZgAAAgdJREFU\n",
       "OMuVlT1Iw0AUx1+1Ehub6Oxip86CiyiKq4PYwUkQiqh0cMgkDg4iKOggBREsKFYUUacuojhICyJV\n",
       "Bz9wUioOzlYUBLG03l0uubskd+qDJC+X/+/x7vLuHQCYTyCzhtt8wKgC8KHRE4Wmbtw/pgS8qPnG\n",
       "j9Uf7FiOP4Kux4DUlQCxrdYERfU0ummTdLwHtKqjWUPXvj+6GsB2FTNyFMXi4l6Ffmiz4Iu6oZQ8\n",
       "uhzANgDhPi46mI44HoNv6vYe89FfMpnMKvwO4BX/II+A6MAmmuWjd2+LKyMFkIWT8ugXWfrz2rF4\n",
       "l46ugDS6CCBrPty6c9DGnCDu2qAlXgAsLtsvhsWiqwFk16cQsSg6lRBTCY3SeRJx0w15iXB/VQ3g\n",
       "6G9gTNroEJkzJ4YJkouWsMWLLfjeyT7/BqCVSYP5TtG4kEoHwCBZhUuwc58lw2dc7moATzQHZpWi\n",
       "jX28uJan4ulS6fPWXXd+ZdQAFiRJ7mV/CYwBbDqdK8VqRm+R1YwXwA2sAkaSokQcQuJrXAuvuHyJ\n",
       "R0C33o880SVAlOysJTi3uHo3Fr6fILKO91npPmZ7sFNbZtGLc3k+uhTIYJn+MC/sJmIz4PfcTjDc\n",
       "L3QCGaDlRVRPOq9Z8HtBXUwF6CCibruOun+Oecr+HgQUwIM6R43JeHbAjAacOirg2Ytq/z1XtT+f\n",
       "qz+Wq9kX56ldlQAAAABJRU5ErkJggg==\n",
       "\" style=\"display:inline;vertical-align:middle;\" /></a> <a class=\"ProveItLink\" href=\"../__pv_it/demonstrations/7f2707d1741c239e0f011591e71ec970df617c8c0/proof.ipynb\" style=\"text-decoration: none\">&nbsp;&#x22A2;&nbsp;&nbsp;</a><a class=\"ProveItLink\" href=\"../__pv_it/demonstrations/fa621aa1c402974fae3a87893f2d60017cb040fc0/expr.ipynb\"><img src=\"data:image/png;base64,iVBORw0KGgoAAAANSUhEUgAAALkAAAAVBAMAAADoXVL6AAAAMFBMVEX///+IiIi6urrc3NxERETM\n",
       "zMwQEBCqqqpUVFQiIiJ2dnYyMjLu7u5mZmaYmJgAAABN0h6tAAAAAXRSTlMAQObYZgAAAhVJREFU\n",
       "OMtjYGDgu8eAC7BePIBFFI8GDK08u/CoYUrFFMOrAV0r3wdkMeZVSwpg7Fggvo3F6Xg1gMFCqQCo\n",
       "Vq4JQII9Bypuy8D+D6ZmBhCvhHFezJw5cyoDYQ0gcFqBdwNUK0jxiRV/oBLyBQw/oUzGDCTTrRfD\n",
       "XYtfAwj4MrA4IJnOwAdTrKbA8BvKtNuBZPpmBhTTcWsAhfhnMIXFdAaERxcgmc5bgMt0dA1AwJKA\n",
       "2/STC6CRZwBSvAzC4WTAbTqqBiDg37rwEkwrxwYUxVZzoUn8IANI8XsIxwLJdPwagOD8PgbOAqjW\n",
       "sgBUpzAmQf0JVsx9Acw5gmQ6fg0g0z8w8OZAtIZMZkBVzJAGdgt7AERxpwBayBDSAAyZCQx8n6Ba\n",
       "1VCcYszA4A+OwVMMELc3QMJaAGEYfg0gp2xg4PsH1crhgKz4/wGo4oq7d79dhIc7w3akcMerAaQg\n",
       "Aez295hJIIWBYT6s5MpApBmGE00HsKcZdA2gAuwPA28CVCtYMSNQ8XlQWngHSr5gFlgjoiSI8kQp\n",
       "CXBo4AHnrC6GYwVI6Z237fc9Bs45oHx294oChMWw5H8fkumo6R2nhpkgf3DdakXJTWBQw4DJwmE6\n",
       "Tg3sB1C1ciXAuAsYMFnYTMengYsBVSu8uOaBpzoEC1a+c82cCS+B8Wo4yICmFVbV8CHqB0QFk4Sl\n",
       "1sGn4QG6VnZS61V2outVAD6F3NfzM+ESAAAAAElFTkSuQmCC\n",
       "\" style=\"display:inline;vertical-align:middle;\" /></a></span>"
      ],
      "text/plain": [
       "{{1, 3, 4} proper_subset {1, 3, 4, 6}} |- {1, 3, 4} subset_eq {1, 3, 4, 6}"
      ]
     },
     "execution_count": 150,
     "metadata": {},
     "output_type": "execute_result"
    }
   ],
   "source": [
    "set_1346_properSuperset_set_134.derive_relaxed(\n",
    "    assumptions=[set_1346_properSuperset_set_134])"
   ]
  },
  {
   "cell_type": "code",
   "execution_count": 151,
   "metadata": {},
   "outputs": [
    {
     "data": {
      "text/html": [
       "<span style=\"font-size:20px;\"><a class=\"ProveItLink\" href=\"../__pv_it/demonstrations/1fa604b1c5281be098f8d55812fbf5f8ad90a9ab0/expr.ipynb\"><img src=\"data:image/png;base64,iVBORw0KGgoAAAANSUhEUgAAAMsAAAAVBAMAAAAa4QdfAAAAMFBMVEX///+IiIi6urrc3NxERETM\n",
       "zMwQEBCqqqpUVFQiIiJ2dnYyMjLu7u5mZmaYmJgAAABN0h6tAAAAAXRSTlMAQObYZgAAAsBJREFU\n",
       "SMeVVk1oE0EUfmzSbn7WtDmIKBRy8lRwrx6k8WZRMWDv8aceehACgniwJAFBrVAKCpKikECptAfJ\n",
       "uahEERFKSELxB0RNjx60tSILGoozb/43EyEPknx5M997s+99M7MAkPoCg2yk07B4v3dhCOMxvI3/\n",
       "zHGu9Ps2qzCUsRipXYDXc5Zhr7MF8KnfvwMDCDNXBWpO+JofYySWyNdzCyv2JABY6/ejy0aAQICF\n",
       "YiFMwDSBhdSazAxOYyM4PVGHvVdgSyMn6FaUU2hppyuVSk6yrARcMDV3F6xp5IS+UZ4msuEbfish\n",
       "2Q7nC6VJlidEMWvpHJft3Gfyvcr+xH2TpQiJ9EEGTtTy3JV6/5gndDuHsjxGrE7a8Mz7xQaOF6J1\n",
       "Hu6nkBWxD9ri7oFGiDyE06wxl+Gc2GRj4xyswFSbx7hOVl9ssKAAyxDja4r81gqhVcGl20AS4lW4\n",
       "jeBNV4l/ihfE7cFYgcWYuY/K9v7gwAHVWt7Hu3RlkZLa1NO+TvgqnoCAZUM8xEazkG/wGEdzdBc4\n",
       "gRgwdZPEBF42tKklYVa4Z4mMjZ4Ty3fhsIgRIyH2xWO01EESLWm90aVzCxSBPxMCJeNT4rzw4ayI\n",
       "QVe9R0uLzSM/vDej2EeutFpIn5KwT6qLaQKipWt8xkVVvEDEoGkWSVbvL+1NCZq5FmqtldGeP1kw\n",
       "00jCR/DeITgJ30pVRFg9RC0/1tP3TfMIWVuFdmv9xzjEH1H/Mb3M3p1JI40kJJ5uM/A2fb6cYTEc\n",
       "Wj2KnPL6knGmobTk3XKTaV7v5siKcdiYBMVElMhKX7Qt01wQ0pLrJTpwSy/MmMpWIUxQTIpuJLsc\n",
       "5Vjl18R9g/ZSXjSk+fEzdXVX9N83JkECRA82OUr0UGg8hrg95dWboh92MTmXLCdkNUxQlzZF21sc\n",
       "OYt48PEY7rDvAvPDvwv8A4ig7YDovTanAAAAAElFTkSuQmCC\n",
       "\" style=\"display:inline;vertical-align:middle;\" /></a> <a class=\"ProveItLink\" href=\"../__pv_it/demonstrations/2dcf2d3d0b864d88b7d8ad3cd0ae88f6230822c90/proof.ipynb\" style=\"text-decoration: none\">&nbsp;&#x22A2;&nbsp;&nbsp;</a><a class=\"ProveItLink\" href=\"../__pv_it/demonstrations/f2fa5ab8377290944d5b65942fdffe2090d4db240/expr.ipynb\"><img src=\"data:image/png;base64,iVBORw0KGgoAAAANSUhEUgAAAMsAAAAVBAMAAAAa4QdfAAAAMFBMVEX///+IiIi6urrc3NxERETM\n",
       "zMwQEBCqqqpUVFQiIiJ2dnYyMjLu7u5mZmaYmJgAAABN0h6tAAAAAXRSTlMAQObYZgAAAsdJREFU\n",
       "SMeVVk1oE0EUfmySbpJd0+QgolDIyVPBvXqQxpuiYsDe40899CAEBPGgJAFBW6EEFGSLQgKlkh4k\n",
       "56ISRUQoIQnFHxA1PXrQ1oosaCjOz5uZ3c2kkIFsvn0z3/dm3nszswCQ+gqjWqzX0lh/9GGMhhr2\n",
       "+j5jjKvDto0ajNW4RmoH4M28ptvubQJ8HrZvwwjC7DWB2lOOz840klXyeKFhxZ96AA18SS24rptn\n",
       "kJl0BPAEWCwVfeaGdONpSJ3prHQTWXeCLB3BGIg47L4GnRs5wN9KcgiA5QRZWgKbMG3mDmjdyAFD\n",
       "vejmY8iuJVjdsL+QG6syJYJZz+SxbOe/kOcqf6mGWIqQzBzk4ES9gKbUhyfo0OwdyqFGvEnS8Nz+\n",
       "zTuOF6NNlPslyoqkpuxzcx98hMgjOMMTcwXOi002mUawAjNd1LhBZl9qcVGAZYjjnCJ/VCDsnPJi\n",
       "0m0gCYka3GXgbV8V/wwGxBzAZJFrzD5glW3/ZR0HVGoxjwvpYNBipx0/4ZtYAQHLgeIhbSIHhRZq\n",
       "HM3TXWB4oiNYNxYPVz20qSVhTpjnSBkHck5aoQ+HhUacKO+JZXTUQRItq9yA5dtud0ARcE0MqDI+\n",
       "Jc4LB84JDTrrXRpaljzyh4oTLFpYafa96UClScIeiS4b4JFauo4jLqngeUKDulkiXu1/NDdlaOc7\n",
       "rNY6Wf/6YyuBw0YSPoH9noGT8L1cY4hFj6GOEx/49037CJmbS7O19jMNicfUfiwQ5tC+kYTksy0O\n",
       "3mUuVLJcw6DRo8iorFUDZxorLXm33OI1v4+bIEExGUrmpC3alW4uitKSQqQOzPLLUW5WIUxQTIpu\n",
       "Wn1EeR75hrhvWHslLxqS/MTZproryEjXlbnZhjBBAoYebiBKDlihoYa4PeXVm6I/fjEZlzUnZC1M\n",
       "UJc2RVubiIwldvChhjnut8Dt8b8F/gNWVPG4VTFm7wAAAABJRU5ErkJggg==\n",
       "\" style=\"display:inline;vertical-align:middle;\" /></a></span>"
      ],
      "text/plain": [
       "{{b, c, f} proper_subset {b, c, d, f, g}} |- {b, c, f} subset_eq {b, c, d, f, g}"
      ]
     },
     "execution_count": 151,
     "metadata": {},
     "output_type": "execute_result"
    }
   ],
   "source": [
    "set_bcdfg_properSuperset_set_bcf.derive_relaxed(\n",
    "    assumptions=[set_bcdfg_properSuperset_set_bcf])"
   ]
  },
  {
   "cell_type": "markdown",
   "metadata": {},
   "source": [
    "### `ProperSubset.apply_transitivity()`"
   ]
  },
  {
   "cell_type": "code",
   "execution_count": 152,
   "metadata": {},
   "outputs": [
    {
     "data": {
      "text/html": [
       "<strong id=\"set_13_properSubset_set_12345\">set_13_properSubset_set_12345:</strong> <span style=\"font-size:20px;\"> <a class=\"ProveItLink\" href=\"../__pv_it/demonstrations/b12d5c12a1515ab9c9db15dfc25075e4b011769c0/proof.ipynb\" style=\"text-decoration: none\">&nbsp;&#x22A2;&nbsp;&nbsp;</a><a class=\"ProveItLink\" href=\"../__pv_it/demonstrations/714f162a591e5392682496b7523a42dfe073a7f90/expr.ipynb\"><img src=\"data:image/png;base64,iVBORw0KGgoAAAANSUhEUgAAALkAAAAVBAMAAADoXVL6AAAAMFBMVEX///+IiIi6urrc3NxERETM\n",
       "zMwQEBCqqqpUVFQiIiJ2dnYyMjLu7u5mZmaYmJgAAABN0h6tAAAAAXRSTlMAQObYZgAAAnZJREFU\n",
       "OMudlb9rFEEUx7+XM96P7Ib8AUKuSr1g4w+iFjaCkC2shEAQDQpCrhKLCNFCiEVOkYAHShYMEgPC\n",
       "dkogZg4sTptcQEFINpwglioKQn7gOr92981N7gi+Yvbdm/f93OzbNzMABrfRYePHYJud1tP6N5h4\n",
       "OCv21IhvhQ5K62l91+SaftJYfnmxCrihvXQjzYnO+1Sg31k/37JxHtsUbvkhHwo39cQoCn91zDQV\n",
       "usXUrybKv6hA2RP9nIp3+fgykTWX9vXEcBU7XenOg5qmbwGTVCAtd107K3c9SsdgQh+pYI/Qv9br\n",
       "9Xmy9h+afgOoeUQg7cwb7czI8QA6jMqcft5RmYS+xlDziUBacAj6+4DHJpT/GF3o3BYYEcjv7iX0\n",
       "uS+f+PhCuMXQoJ96xtIGcasZXaYRet8uFQhrIKFfxNkKz5Vt4Jtrz13hw6p0S+SryjRCL80YAlGY\n",
       "lA4c4W860AIuybcndExyQvGR8E5kQZVG6JEp4OX3Cd39zYfZIb0vU/pxYIzXQ+W9s7ZvSs+1TAHw\n",
       "IVGJIordMCDerniO0mMmknXdaWVkWka/g7xHBNxuR9GfDRk6GsLd13U3e+aqbAbdM+Whbj3THyDn\n",
       "EYEyvZtcvq5Q94yU5Th9XXTFd6PfX3fShxkcsXlOLr+aJYL1UP+TnMy38M0j/e7e39tG6alotOhj\n",
       "JaM37zGD/nlqtY06j63F8Q4RSA+L8ZycxOjSlrGbpE13LJTb5QvmSSCbg9mCaXtS0yeSn4FNJ5VJ\n",
       "08qwBYE9qejpwe1k37Dn+d6AJci8RqbYVOdloifNXbHvmvRuasMSZF47u5vUFi4c7l4t/Me9+g89\n",
       "Qt+fFEnMKgAAAABJRU5ErkJggg==\n",
       "\" style=\"display:inline;vertical-align:middle;\" /></a></span><br>"
      ],
      "text/plain": [
       "set_13_properSubset_set_12345: |- {1, 3} proper_subset {1, 2, 3, 4, 5}"
      ]
     },
     "execution_count": 152,
     "metadata": {},
     "output_type": "execute_result"
    }
   ],
   "source": [
    "# establish a ProperSubset judgement: \n",
    "set_13_properSubset_set_12345 = set_12345.deduce_enum_proper_subset(subset=set_13)"
   ]
  },
  {
   "cell_type": "code",
   "execution_count": 153,
   "metadata": {},
   "outputs": [
    {
     "data": {
      "text/html": [
       "<strong id=\"set_12345_ProperSuperset_set_13\">set_12345_ProperSuperset_set_13:</strong> <span style=\"font-size:20px;\"> <a class=\"ProveItLink\" href=\"../__pv_it/demonstrations/61f47c9296774620f3e512228f4a8926b9ce56bf0/proof.ipynb\" style=\"text-decoration: none\">&nbsp;&#x22A2;&nbsp;&nbsp;</a><a class=\"ProveItLink\" href=\"../__pv_it/demonstrations/f9c4d90020f1e585101a178026f74052d6911de30/expr.ipynb\"><img src=\"data:image/png;base64,iVBORw0KGgoAAAANSUhEUgAAALkAAAAVBAMAAADoXVL6AAAAMFBMVEX///+IiIi6urrc3NxERETM\n",
       "zMwQEBCqqqpUVFQiIiJ2dnYyMjLu7u5mZmaYmJgAAABN0h6tAAAAAXRSTlMAQObYZgAAAmxJREFU\n",
       "OMutlU9oE0EUxt82STd/NhtPHrzYkzdhrwpqEUEUDzl4LYhYURDqqXgwGEHEKjQBPRgRzEFCUxH2\n",
       "KAV166nowfYgCCZlvXiTiILFNhBn37yZ2elMhIJzmP3m7fd+mTzezAKAvwl7GbmNyBL9Httt3grs\n",
       "bUzMmrEP7TE2/0c65vVPVbk6unxaRmfo+SaauQ7wxaQPtBVPRVuxySb3Gr1Yg+JPFJl1uCX/7WN6\n",
       "zo222dw16Riap5JRalfQ15aGZOsBXEbhbEGlSUHnComV28FYune/QXRKlXTwBf0qQCPAsl2ESkjB\n",
       "469I1NVGIddqtR7F6b0PiE6pFvrbCBpUeFWZto2ONXgRWOiUaqGz8YxM3hMK+IGgL379xOaO8maa\n",
       "Vjqmoi0f6vSJbUrs9iiyCoJ+Dk5M6Q1S448HGp2nom2+qtMLdaH2T1FhJB0gyzZbWlf0As7u7K7K\n",
       "JKmJ7fxD0Ol9qSZ5m7rVFL38i00L++Q6nxQ+dybYRcfUxHZI37tDG8sEkN1C9R4EnRUxOQ2lutp7\n",
       "NlLnUtApFW35aY1eS16yURkK+o1+//cG31EI5aFed14ZuJOmU+rA7JlcGxykT05DQf4knaYyo4Va\n",
       "z8ABS89QakfSHbb6mDTPkeWXC6j8mDWtt8P9lwAVO+LfAu2sumGKfjDiNkxN9Xv57s4mFJ4mp2k0\n",
       "+sPV4f5JgBZu5/lokatjSz3tNL27Fyn657nXMbdhauo04bgJhnIjU6VugrNVLWSxFS+IpbqjpSqC\n",
       "qWy3WGecTd7vnuxipVbBVP+83w2b+Db5Mq5UbFHsCjRGqT3O5v6P72rN+l39C+i24kKcE+zJAAAA\n",
       "AElFTkSuQmCC\n",
       "\" style=\"display:inline;vertical-align:middle;\" /></a></span><br>"
      ],
      "text/plain": [
       "set_12345_ProperSuperset_set_13: |- {1, 2, 3, 4, 5} proper_superset {1, 3}"
      ]
     },
     "execution_count": 153,
     "metadata": {},
     "output_type": "execute_result"
    }
   ],
   "source": [
    "# establish the ProperSuperset relation by reversing:\n",
    "set_12345_ProperSuperset_set_13 = set_13_properSubset_set_12345.reversed().prove()"
   ]
  },
  {
   "cell_type": "code",
   "execution_count": 154,
   "metadata": {},
   "outputs": [
    {
     "data": {
      "text/html": [
       "<strong id=\"set_12345_ProperSubset_set_1234567\">set_12345_ProperSubset_set_1234567:</strong> <span style=\"font-size:20px;\"> <a class=\"ProveItLink\" href=\"../__pv_it/demonstrations/edfec931f875075040c1b6c925af1229cca7ead00/proof.ipynb\" style=\"text-decoration: none\">&nbsp;&#x22A2;&nbsp;&nbsp;</a><a class=\"ProveItLink\" href=\"../__pv_it/demonstrations/48ad52602f1cef148637bdc4638c6587db04d5150/expr.ipynb\"><img src=\"data:image/png;base64,iVBORw0KGgoAAAANSUhEUgAAARsAAAAVBAMAAACEflfWAAAAMFBMVEX///+IiIi6urrc3NxERETM\n",
       "zMwQEBCqqqpUVFQiIiJ2dnYyMjLu7u5mZmaYmJgAAABN0h6tAAAAAXRSTlMAQObYZgAAA6hJREFU\n",
       "SMetVl1IVEEUPuu6P+79cSHooZDspaeiCz0VWEsUIRTtQ0+BIJX9UOG+JD0kbVCRhrpQD64FrSCi\n",
       "C9G+BCFk60tIEq5RKObaRtBLP4pSmm7d5s6cmfu3iqLDcu+358755pszc84MAKjTsJ7mG8uWsP4o\n",
       "wAYb8soD6/Qra3DbRlKw4cZ41VmrTc4fiTJ0IH1MWOvwPZitiwF8dFPN2P69fX8UXCS+HHtL333j\n",
       "aOrexsbydU6m08gbSpBH4Ar2GIbQHAXeHNwUC9CJ70Z9iTz73XKoqQlXUY7Ds2oXSUWcvf26jqEc\n",
       "qVYyFKi6ri8iiSFnuK+ITlMA5ynwLEBlAo2eiwgGbmkrypFbO1COkgV/vYtkK8qR+rag5QSUR5gD\n",
       "YY1b5IDK5VwC6NDoSp6BygwaD75AEDdDYTjVJpPJqGmaQTn+BATnwUHi/YZygmKvzHMUIr9oSTmv\n",
       "stCBm8eMc6qkHO+AZl8sLkcqQvAXOEhCklNOeb0lvDuhpBzSnvAt0MWjoHE57Z8/kGcvbgYNSssx\n",
       "vnE+QfJFyPlZxeZb+bz7nXCIcN5gxi6nbAkn3z+FliHgco7DoWqRRuOWyd13yNmbcpDIYS6nPOtl\n",
       "yTI6CBUxvlwFnp5NUbscngFk81XjWgk5hIzEUmIpmzDVBBoccjrBQRICSfBCLZMzCwpP6FG6yIT3\n",
       "1AOwy8kL5GedA1GLHMXYfy1hY+Imva9Ws8tRck6Sa1Y5n2h3knPqHFq206fBu8seHQ8yeTUoX6Do\n",
       "DXA5ZF2NqsSI5YizoJpyqsBBIqeEHLKurCpVZED9hx0f0ugYPYIRm5xmg8PQXuRyrufzv8fYTDOg\n",
       "FMXesSwW3LbJCeRgH9hIAm35T1fD1HaZRId2DNab0VkUpd2eWb4UeKgcf8RMD8AyqNAp8czqhpUy\n",
       "6zQAK3VWEj9Gh0T/ERuqCArmuu8v8MyicjzEadRIsf3ppy0UqQVSMuRl1v0cUERq/ldN1B0p5pCz\n",
       "I4vdutITCYqsJEQaHaEG1LMMtcLrGPsYWAJr3VHuLk9DxWOjDOr6H4b25A8DJOmEe/R2hmr6pswy\n",
       "KN/bbZMz0fiyQLtJ5AhKMAeTJHRysUB5vZNtWTZCaPIOfvResMlh7Qa4UCDrRuKQ8PXYD4mVHEy0\n",
       "6ggoR9Rq886SspwmLlTqCO1dzSEEaxqB8Yr7jhwGFxoCN1r1vlPKYQjWNALy8tugKuwmKpRA5Jh2\n",
       "NSm1ikMB1jQC8gY2467cvDl35f/GP0zdLHLZFQAAAABJRU5ErkJggg==\n",
       "\" style=\"display:inline;vertical-align:middle;\" /></a></span><br>"
      ],
      "text/plain": [
       "set_12345_ProperSubset_set_1234567: |- {1, 2, 3, 4, 5} proper_subset {1, 2, 3, 4, 5, 6, 7}"
      ]
     },
     "execution_count": 154,
     "metadata": {},
     "output_type": "execute_result"
    }
   ],
   "source": [
    "# establish a related proper subset judgement:\n",
    "set_12345_ProperSubset_set_1234567 = set_1234567.deduce_enum_proper_subset(subset=set_12345)"
   ]
  },
  {
   "cell_type": "code",
   "execution_count": 155,
   "metadata": {},
   "outputs": [
    {
     "data": {
      "text/html": [
       "<strong id=\"set_1234567_ProperSuperset_set_12345\">set_1234567_ProperSuperset_set_12345:</strong> <span style=\"font-size:20px;\"> <a class=\"ProveItLink\" href=\"../__pv_it/demonstrations/f62cc6f16cf99ce5d7e5d93538a808ebb86798a90/proof.ipynb\" style=\"text-decoration: none\">&nbsp;&#x22A2;&nbsp;&nbsp;</a><a class=\"ProveItLink\" href=\"../__pv_it/demonstrations/f4ac2dc27f18f8b331242e0ea06728284c10b0830/expr.ipynb\"><img src=\"data:image/png;base64,iVBORw0KGgoAAAANSUhEUgAAARsAAAAVBAMAAACEflfWAAAAMFBMVEX///+IiIi6urrc3NxERETM\n",
       "zMwQEBCqqqpUVFQiIiJ2dnYyMjLu7u5mZmaYmJgAAABN0h6tAAAAAXRSTlMAQObYZgAAA1FJREFU\n",
       "SMe1Vk9IFFEc/mb9s7s6u2uXToV7ki7RQhAkWBJSF6k9dDEQRcwKAvcUQYZGIBilRUFtf2gOKrpg\n",
       "SF1EsMabdWmlkiBXtkvHNgoSW2maef/mzcxzw6R3mPl4M9/3+97vvfd7D0B8DTttnXsUndvUrVk2\n",
       "nZc+j523pnSga9u6obNkEN88IoU2ptycO+GOnr1fmp0Ziup2TVDQcSuXMxCbDSZnC92q3HhGrfuJ\n",
       "CN+2H+GL7MMS6r5TVh6DRU57wN791i+m/pySgZJlWUNUxNto1yXTp4sWhH+rdac5bWlqk31YBfoI\n",
       "0NaR4DG08wzMX0tRUJ1HG0XvgAi2sqPfGDN9umjMYEOtK+wgzu1cAMZIyFAPEnwGjswxMMRjHUhx\n",
       "ZAATwk5HNps96clOyfTpoimJslpXYeeViTG+LMVkGQE7x+Ul2ODJTvMLlR1ZV0yW8Vc7dnvKFPSH\n",
       "fFGmOG308wcKymf2Jvn/1Y5It8s/rLIj6eK1odaddGBk1msnxFZr1fQq61kEp7XjKHGhl4u4zwnP\n",
       "fNsonIfQlexwXTQ/MdW6JbL20147UTEju5N8ecyJr9VkzLoFrPAkEicL0uzRiSO6kh1XV+tR69bb\n",
       "4zh9F147BYFq6e4PpyVa7Ad52XujxMxqJAuRO66d686D6kp2XF30mWrdkQZWUF07Wp7NVQrV6wS9\n",
       "AafZ+WfV45EdiC30aKvznJOy0y4VamGH6+IgcCqj1K138hdp9di56hixW2KT27lcKPxcpumaRYz+\n",
       "OOxmJzHkL8F0soiua4frwjKZnYBuKbizagxohFbbiqjwyMpVzM4FrUVdJlbYt668b2dphmJnCV30\n",
       "SnvMqzspaJod+a0T6XBuZoSgeNGuOzorWL0gyD44vqQIihj6OUrAoAFvVb4ib/RGk1KFLr46dYdS\n",
       "PbpS3YkNl9cQfeyUK8vaoGh/4RiQJeMYt0YpaplaZX0zU2n6Gw5lPHb0fTclOx/7F4qE4OqGCu+T\n",
       "jOrVlcogaQMIoLBZCQ34zkvnkLg34e3agqCIwOx0S8ePH9WhEjL8djxHaHclgiICtSM2hd6AAFpE\n",
       "BeT+Vvm+oyCoIrArC7+1xV0lgYqVUFy6DSaDt7v5CgRVhBAt1uH/dFcO/8Nd+Q86UVAW6AZ3agAA\n",
       "AABJRU5ErkJggg==\n",
       "\" style=\"display:inline;vertical-align:middle;\" /></a></span><br>"
      ],
      "text/plain": [
       "set_1234567_ProperSuperset_set_12345: |- {1, 2, 3, 4, 5, 6, 7} proper_superset {1, 2, 3, 4, 5}"
      ]
     },
     "execution_count": 155,
     "metadata": {},
     "output_type": "execute_result"
    }
   ],
   "source": [
    "# establish the ProperSuperset relation by reversing:\n",
    "set_1234567_ProperSuperset_set_12345 = set_12345_ProperSubset_set_1234567.reversed().prove()"
   ]
  },
  {
   "cell_type": "code",
   "execution_count": 156,
   "metadata": {},
   "outputs": [
    {
     "data": {
      "text/html": [
       "<span style=\"font-size:20px;\"> <a class=\"ProveItLink\" href=\"../__pv_it/demonstrations/097fe1366a81857eb9873be75c02e307460f8ec00/proof.ipynb\" style=\"text-decoration: none\">&nbsp;&#x22A2;&nbsp;&nbsp;</a><a class=\"ProveItLink\" href=\"../__pv_it/demonstrations/709c609e79d194a656a36e6f75e42cb077a4315a0/expr.ipynb\"><img src=\"data:image/png;base64,iVBORw0KGgoAAAANSUhEUgAAAOEAAAAVBAMAAABCnpRGAAAAMFBMVEX///+IiIi6urrc3NxERETM\n",
       "zMwQEBCqqqpUVFQiIiJ2dnYyMjLu7u5mZmaYmJgAAABN0h6tAAAAAXRSTlMAQObYZgAAAvBJREFU\n",
       "SMetVk1oE0EU/kya5ne3AcGDPzRechIMeBOKuXgoKM3Bk1AIYvWiNBd7UoigoBU1oodGFFMoRXMx\n",
       "F0EKLetFEJFEqViq1YjgRdRiEWqtxvndmdndiFAfYffLm++9b+fNm9kFYL+Fx4a3I8A+t7FBizx3\n",
       "6C014x/KFvy+pzVs2EIj9Gov675wfaoEWA0/+6vx79n8fj1AzKHF73POsPRNbuUPH5lYrNeB1xQn\n",
       "KvQ65nDGAKK/pc+0ezotVcb9jBbALV7m99HOmixMRjy83el0VkUSmj01flWk6i/hR1dFRbMc9Ba1\n",
       "AG5bhOLM2ZzwHERPngcQT1lTJDUTqbIZ/NQU7cFqtVpQc5S03gpiK1oAL/AnoVh2121FogT5FQIV\n",
       "YVQ1PJMzqyppyXXEvmsBPGvSq9hT1Iq0E10Un5CeTAhmPIdgRTq2rgUw+yAVr7x/yUHfg8kXbgAt\n",
       "7zQFsYaRau9tR/XvK+0RL3kUd9e0ANZNaal4APt4WzXnEJddm2jLhh8rmKk2HSGXWY61BoqOeBQn\n",
       "jAC2VElVTh7ZXIZ1QriabDXI/jl0HZ5UxwiMXWPLWFbHxWDOpFktI4DYKU3R4i3TV4H9Tbi2sevF\n",
       "tDxfZKo9wBCpw0Nep7z3uFCKO2AEEHJNKpJ1SnCdeAO27KsbbI6UEcvrqToOTSDXUd+W5wzFaItq\n",
       "uQHUc3np3ck02zoNWLytYkU1x1X34DJ79Shwx3F7dRLdevUwsFkLELuUz9Fik2NrsQ5LpIr8guxV\n",
       "rtjvIEV38hdjPyZLHkVJC9+sL1RUQJML9OYZCrfwMccGMY7HJY6iazD248LobBtV8qyhpfmMUkxd\n",
       "2GUourQkOSYrKiB+i2UaWm0zNHD3DdggEovnBQofNxX52rht4foiU+YpZ9IUOg0fCqIJxaJ29nkV\n",
       "NZsOoLmo5kdBNK6o3o+P3IG/vh8VzUWptB8F0MT7Ee43gPqqyGb8ismaj+YiG34UQEOIH0/Rf/zO\n",
       "OfN/vnP+AKpeEd76YdGoAAAAAElFTkSuQmCC\n",
       "\" style=\"display:inline;vertical-align:middle;\" /></a></span>"
      ],
      "text/plain": [
       "|- {1, 3} proper_subset {1, 2, 3, 4, 5, 6, 7}"
      ]
     },
     "execution_count": 156,
     "metadata": {},
     "output_type": "execute_result"
    }
   ],
   "source": [
    "# use transitivity to go from largest set to smallest set\n",
    "# (even though using expressions, the expressions have to be true or provable)\n",
    "set_1234567_ProperSuperset_set_12345.apply_transitivity(set_12345_ProperSuperset_set_13.expr)"
   ]
  },
  {
   "cell_type": "code",
   "execution_count": 157,
   "metadata": {},
   "outputs": [
    {
     "data": {
      "text/html": [
       "<strong id=\"A_properSuperset_B\">A_properSuperset_B:</strong> <a class=\"ProveItLink\" href=\"../__pv_it/demonstrations/9c3731ba4366a3f1d0ab7910748ff9a7eeccbc850/expr.ipynb\"><img src=\"data:image/png;base64,iVBORw0KGgoAAAANSUhEUgAAADsAAAAPBAMAAACo4Ko7AAAAMFBMVEX///92dnYiIiIQEBBERERU\n",
       "VFS6urqIiIjc3NxmZmaqqqru7u6YmJgyMjLMzMwAAADiRdoGAAAAAXRSTlMAQObYZgAAAOlJREFU\n",
       "GNNjYACBtwzogCf+68wQNyjnPoY0A7MDA8P8BxCl9zdgSL8/wMCQPwHM3DW/AUQ9UlJS8oFJ1wOF\n",
       "zheAmQfqE2CijTegDGcGBm4jsKFsG9YfgBvaBKW/Ak2LBrO2MbwvgEtzQezj+3qmRAsiksDQPwHh\n",
       "JgUwyf6DgWFzAFhh5Mx4B4R0BJhkMQAq+QW2GujJCwhpbzDJD9TJ/h3EWsDAwGSAbjjI26zfgAwO\n",
       "oDTvB7gsuwDc2+8doD5h+QGXXguhLgMtNQF6e8v/2wxc/p+gTudOhfg19n/kVJcFqMEMDFQVOVQh\n",
       "AHRFPLnG8m3jAAAAAElFTkSuQmCC\n",
       "\" style=\"display:inline;vertical-align:middle;\" /></a><br>\n",
       "<strong id=\"B_properSuperset_C\">B_properSuperset_C:</strong> <a class=\"ProveItLink\" href=\"../__pv_it/demonstrations/588716018005a44133647227f114d1a4cce55aa20/expr.ipynb\"><img src=\"data:image/png;base64,iVBORw0KGgoAAAANSUhEUgAAAD0AAAAPBAMAAACl/tp8AAAAMFBMVEX///92dnYyMjKqqqoiIiLu\n",
       "7u7c3NyIiIjMzMwQEBC6urpERERmZmZUVFSYmJgAAADEjrHzAAAAAXRSTlMAQObYZgAAAO5JREFU\n",
       "GNNjYGB4+//O2d0LGNABa/Wde2wCINZsBgaeHxjylQ8YmE8+ADI4/jEwcP1Bl452BRLnE4AE+zcG\n",
       "Br7vILEWFxeXfVB5zQAgsRLE4p7AwBDpCtOXqAameD6DyB4QwX+BgcM3AG5wCpjMdwCRYSCi/97z\n",
       "LQYIi5kPgEj5ArhAfQID61wkl4F1+jfA+TtBapAMuAYi5oMtBBN/QfII4xi2gvWDrWqAep/h/gI0\n",
       "88E+Z2SAep/jN0KaHRym+SADRUEsJqD3V25FyBtBfAE01QZkPa/+3zO3NyNiZe1VCCNm7x2MOAOG\n",
       "r7cEqhAAWfk9AS45K60AAAAASUVORK5CYII=\n",
       "\" style=\"display:inline;vertical-align:middle;\" /></a><br>\n",
       "<strong id=\"B_equals_D\">B_equals_D:</strong> <a class=\"ProveItLink\" href=\"../__pv_it/demonstrations/351598f1c60bbaeb4b365634b3e71671ab7ec4500/expr.ipynb\"><img src=\"data:image/png;base64,iVBORw0KGgoAAAANSUhEUgAAAD0AAAAOBAMAAABuognZAAAAMFBMVEX///92dnYyMjKqqqoiIiLu\n",
       "7u7c3NyIiIjMzMwQEBC6urpERERmZmZUVFSYmJgAAADEjrHzAAAAAXRSTlMAQObYZgAAANVJREFU\n",
       "GNNjYGB4+//O2d0LGNDA2/97b+9NADNnMzDw/ECXZ/jEwMD3GcTg+MfAwPUHXZrjO5A4CWKxfwOq\n",
       "/I4uzw4ycf0DIME9gYEh0hVdnvsDkMgXABL8Fxg4fAPQ5fk3gPRfABL9955vMQAJMSqBwQGwfH8B\n",
       "kKgH6a9PYGCdi+H8+gYgcR/k7Z0gngG6/H4Q8RNE/AXJF6DL/wZivn9Q70MMgtp/Ae79yA1Q73P8\n",
       "xuZ9ViUQiwno/ZVb0eWZgN5fAvIJr/7fM7c3o0sDRc/ePgZkAADK8kIyXFvIfAAAAABJRU5ErkJg\n",
       "gg==\n",
       "\" style=\"display:inline;vertical-align:middle;\" /></a><br>\n",
       "<strong id=\"C_properSubset_B\">C_properSubset_B:</strong> <a class=\"ProveItLink\" href=\"../__pv_it/demonstrations/f0a59a675e7d7d906cf32b4386d9b1f50a3c8f2b0/expr.ipynb\"><img src=\"data:image/png;base64,iVBORw0KGgoAAAANSUhEUgAAADsAAAAPBAMAAACo4Ko7AAAAMFBMVEX////MzMy6uroyMjIiIiKq\n",
       "qqoQEBB2dnbc3NyYmJhmZmZUVFRERESIiIju7u4AAACOKgoaAAAAAXRSTlMAQObYZgAAAPZJREFU\n",
       "GNNjYGDgu7NrJ0cBAyrg3P971Z5DINa1CQysyyagSTOwHWBgWC/AwPDGD8hZ34AuLQ/UoL+AgcHs\n",
       "AZCjBhGb4+Li4ghh3gdqmH+BgesriCMFFmquQOg+BnRUygOGfgcQ5wVYyAPJ8N8MDCL7GBjqL8BF\n",
       "uAIQsoy/Z95xBdL+AnAhFiTNvD8YGJ5tYGDIB7mMAUx0I0nzJACVAJ3lD+Kwgo14gyTND9TJ+xfq\n",
       "Y3YMw0He5v7EwNAPclodWIgd4Uqwt+WBAcf6k4Eh6gFEzBQhbcbAwJQDEn51epcCVOz1Jqg6hs3/\n",
       "d60+E4Ae0OJH4IEKAQAc1UHDebzd9gAAAABJRU5ErkJggg==\n",
       "\" style=\"display:inline;vertical-align:middle;\" /></a><br>\n",
       "<strong id=\"C_subset_eq_D\">C_subset_eq_D:</strong> <a class=\"ProveItLink\" href=\"../__pv_it/demonstrations/a5076ff466828efef6b420c2177592a72ecafcb60/expr.ipynb\"><img src=\"data:image/png;base64,iVBORw0KGgoAAAANSUhEUgAAADwAAAARBAMAAABz4NKpAAAAMFBMVEX////MzMy6uroyMjIiIiKq\n",
       "qqoQEBB2dnbc3NyYmJhmZmZUVFRERESIiIju7u4AAACOKgoaAAAAAXRSTlMAQObYZgAAAPdJREFU\n",
       "KM9jYGDgu7NrJ0cBAyrg3P9n95kdINa1CQysyyaABWe7uLg4QuT5DRgY5gcwMLzxA3LWN4CEmisQ\n",
       "2uUvMDBwJTAwmD0ActTAQhZIpt8XYGBg+snA9RXEkQIRXAFI0ueBmOM7Q78DiPMCRLAgu+0PEDP9\n",
       "Zqi/ABfpRpJl/AskeL8z+AvAhd4gSfN+BBLcnxjyQS5jeIBuOM8HkOcSGPxBHFawEewIexj4DwCJ\n",
       "+RMgPmaHiJmiepsvh4GhH6SlDiL2etMDZG8/BgYc608GhiiYqPgRWKDaA73lBWK8Or1LgQEdbP6/\n",
       "a/epBgYqAnYXF0SEQgAABXI/jEXQuAYAAAAASUVORK5CYII=\n",
       "\" style=\"display:inline;vertical-align:middle;\" /></a><br>"
      ],
      "text/plain": [
       "A_properSuperset_B: A proper_superset B\n",
       "B_properSuperset_C: B proper_superset C\n",
       "B_equals_D: B = D\n",
       "C_properSubset_B: C proper_subset B\n",
       "C_subset_eq_D: C subset_eq D"
      ]
     },
     "execution_count": 157,
     "metadata": {},
     "output_type": "execute_result"
    }
   ],
   "source": [
    "# this process can work more generally:\n",
    "A_properSuperset_B, B_properSuperset_C, B_equals_D, C_properSubset_B, C_subset_eq_D = (\n",
    "    proper_superset(A, B), proper_superset(B, C), Equals(B, D),\n",
    "    ProperSubset(C, B), SubsetEq(C, D))"
   ]
  },
  {
   "cell_type": "code",
   "execution_count": 158,
   "metadata": {},
   "outputs": [
    {
     "data": {
      "text/html": [
       "<span style=\"font-size:20px;\"><a class=\"ProveItLink\" href=\"../__pv_it/demonstrations/f0a59a675e7d7d906cf32b4386d9b1f50a3c8f2b0/expr.ipynb\"><img src=\"data:image/png;base64,iVBORw0KGgoAAAANSUhEUgAAADsAAAAPBAMAAACo4Ko7AAAAMFBMVEX////MzMy6uroyMjIiIiKq\n",
       "qqoQEBB2dnbc3NyYmJhmZmZUVFRERESIiIju7u4AAACOKgoaAAAAAXRSTlMAQObYZgAAAPZJREFU\n",
       "GNNjYGDgu7NrJ0cBAyrg3P971Z5DINa1CQysyyagSTOwHWBgWC/AwPDGD8hZ34AuLQ/UoL+AgcHs\n",
       "AZCjBhGb4+Li4ghh3gdqmH+BgesriCMFFmquQOg+BnRUygOGfgcQ5wVYyAPJ8N8MDCL7GBjqL8BF\n",
       "uAIQsoy/Z95xBdL+AnAhFiTNvD8YGJ5tYGDIB7mMAUx0I0nzJACVAJ3lD+Kwgo14gyTND9TJ+xfq\n",
       "Y3YMw0He5v7EwNAPclodWIgd4Uqwt+WBAcf6k4Eh6gFEzBQhbcbAwJQDEn51epcCVOz1Jqg6hs3/\n",
       "d60+E4Ae0OJH4IEKAQAc1UHDebzd9gAAAABJRU5ErkJggg==\n",
       "\" style=\"display:inline;vertical-align:middle;\" /></a>, <a class=\"ProveItLink\" href=\"../__pv_it/demonstrations/9c3731ba4366a3f1d0ab7910748ff9a7eeccbc850/expr.ipynb\"><img src=\"data:image/png;base64,iVBORw0KGgoAAAANSUhEUgAAADsAAAAPBAMAAACo4Ko7AAAAMFBMVEX///92dnYiIiIQEBBERERU\n",
       "VFS6urqIiIjc3NxmZmaqqqru7u6YmJgyMjLMzMwAAADiRdoGAAAAAXRSTlMAQObYZgAAAOlJREFU\n",
       "GNNjYACBtwzogCf+68wQNyjnPoY0A7MDA8P8BxCl9zdgSL8/wMCQPwHM3DW/AUQ9UlJS8oFJ1wOF\n",
       "zheAmQfqE2CijTegDGcGBm4jsKFsG9YfgBvaBKW/Ak2LBrO2MbwvgEtzQezj+3qmRAsiksDQPwHh\n",
       "JgUwyf6DgWFzAFhh5Mx4B4R0BJhkMQAq+QW2GujJCwhpbzDJD9TJ/h3EWsDAwGSAbjjI26zfgAwO\n",
       "oDTvB7gsuwDc2+8doD5h+QGXXguhLgMtNQF6e8v/2wxc/p+gTudOhfg19n/kVJcFqMEMDFQVOVQh\n",
       "AHRFPLnG8m3jAAAAAElFTkSuQmCC\n",
       "\" style=\"display:inline;vertical-align:middle;\" /></a> <a class=\"ProveItLink\" href=\"../__pv_it/demonstrations/a3527448b276ca084d2759b8a56e7a8c54c8b81d0/proof.ipynb\" style=\"text-decoration: none\">&nbsp;&#x22A2;&nbsp;&nbsp;</a><a class=\"ProveItLink\" href=\"../__pv_it/demonstrations/aad8d6f1632f85194a370708d7f1857c552793950/expr.ipynb\"><img src=\"data:image/png;base64,iVBORw0KGgoAAAANSUhEUgAAADsAAAAPBAMAAACo4Ko7AAAAMFBMVEX///92dnYiIiIQEBBERERU\n",
       "VFS6urqIiIjc3NxmZmaqqqru7u6YmJgyMjLMzMwAAADiRdoGAAAAAXRSTlMAQObYZgAAANpJREFU\n",
       "GNNjYACBtwwYgLskMoZDAMK+jyldfICBa/IBMJPn/gZ02S3aQGJ+A5i9C0I/UlJS8oFKXwZpSIaw\n",
       "D9QnwHQ13gBTnL9A5Eswm23D+gNwU5vAZL8CiNwBZm9jeF8Al+aaACLlEQIMCQz9ExA8sD79B3A+\n",
       "X+TMeAeEdASIsAd7BUywMTAwX0BIe4N1g+0BG7GAgYHJAM1wsE8ZQSwOoDTvB7gsOzgg+0FOk4b5\n",
       "hOUHXHotxP1/GBhWgqze8v82A5f/J6jTuVOjIYydrpEJaOEMDFQVOVQhAG+pNQv3LJVHAAAAAElF\n",
       "TkSuQmCC\n",
       "\" style=\"display:inline;vertical-align:middle;\" /></a></span>"
      ],
      "text/plain": [
       "{C proper_subset B, A proper_superset B} |- A proper_superset C"
      ]
     },
     "execution_count": 158,
     "metadata": {},
     "output_type": "execute_result"
    }
   ],
   "source": [
    "A_properSuperset_B.apply_transitivity(\n",
    "        B_properSuperset_C, assumptions=[A_properSuperset_B, B_properSuperset_C])"
   ]
  },
  {
   "cell_type": "code",
   "execution_count": 159,
   "metadata": {},
   "outputs": [
    {
     "data": {
      "text/html": [
       "<span style=\"font-size:20px;\"><a class=\"ProveItLink\" href=\"../__pv_it/demonstrations/9c3731ba4366a3f1d0ab7910748ff9a7eeccbc850/expr.ipynb\"><img src=\"data:image/png;base64,iVBORw0KGgoAAAANSUhEUgAAADsAAAAPBAMAAACo4Ko7AAAAMFBMVEX///92dnYiIiIQEBBERERU\n",
       "VFS6urqIiIjc3NxmZmaqqqru7u6YmJgyMjLMzMwAAADiRdoGAAAAAXRSTlMAQObYZgAAAOlJREFU\n",
       "GNNjYACBtwzogCf+68wQNyjnPoY0A7MDA8P8BxCl9zdgSL8/wMCQPwHM3DW/AUQ9UlJS8oFJ1wOF\n",
       "zheAmQfqE2CijTegDGcGBm4jsKFsG9YfgBvaBKW/Ak2LBrO2MbwvgEtzQezj+3qmRAsiksDQPwHh\n",
       "JgUwyf6DgWFzAFhh5Mx4B4R0BJhkMQAq+QW2GujJCwhpbzDJD9TJ/h3EWsDAwGSAbjjI26zfgAwO\n",
       "oDTvB7gsuwDc2+8doD5h+QGXXguhLgMtNQF6e8v/2wxc/p+gTudOhfg19n/kVJcFqMEMDFQVOVQh\n",
       "AHRFPLnG8m3jAAAAAElFTkSuQmCC\n",
       "\" style=\"display:inline;vertical-align:middle;\" /></a>, <a class=\"ProveItLink\" href=\"../__pv_it/demonstrations/351598f1c60bbaeb4b365634b3e71671ab7ec4500/expr.ipynb\"><img src=\"data:image/png;base64,iVBORw0KGgoAAAANSUhEUgAAAD0AAAAOBAMAAABuognZAAAAMFBMVEX///92dnYyMjKqqqoiIiLu\n",
       "7u7c3NyIiIjMzMwQEBC6urpERERmZmZUVFSYmJgAAADEjrHzAAAAAXRSTlMAQObYZgAAANVJREFU\n",
       "GNNjYGB4+//O2d0LGNDA2/97b+9NADNnMzDw/ECXZ/jEwMD3GcTg+MfAwPUHXZrjO5A4CWKxfwOq\n",
       "/I4uzw4ycf0DIME9gYEh0hVdnvsDkMgXABL8Fxg4fAPQ5fk3gPRfABL9955vMQAJMSqBwQGwfH8B\n",
       "kKgH6a9PYGCdi+H8+gYgcR/k7Z0gngG6/H4Q8RNE/AXJF6DL/wZivn9Q70MMgtp/Ae79yA1Q73P8\n",
       "xuZ9ViUQiwno/ZVb0eWZgN5fAvIJr/7fM7c3o0sDRc/ePgZkAADK8kIyXFvIfAAAAABJRU5ErkJg\n",
       "gg==\n",
       "\" style=\"display:inline;vertical-align:middle;\" /></a> <a class=\"ProveItLink\" href=\"../__pv_it/demonstrations/945f344556021ddd661b6a4506be14a275665ce70/proof.ipynb\" style=\"text-decoration: none\">&nbsp;&#x22A2;&nbsp;&nbsp;</a><a class=\"ProveItLink\" href=\"../__pv_it/demonstrations/7f274c42f764daf1b9db3c754c80310f481ba7cd0/expr.ipynb\"><img src=\"data:image/png;base64,iVBORw0KGgoAAAANSUhEUgAAAD0AAAAPBAMAAACl/tp8AAAAMFBMVEX///8iIiLu7u52dna6uroQ\n",
       "EBBmZmaIiIjMzMyqqqoyMjLc3NxERERUVFSYmJgAAAAdjRNVAAAAAXRSTlMAQObYZgAAAOVJREFU\n",
       "GNNjYGB4+//snbMbGLCALgj1i4GB7yc2+fVgkuM7kEjFIs23XgFEsf8AEv4PIEIHBQUFG6Dymvlg\n",
       "W3k+AIn9BiAm92JkdzyodwBR/AdA+i+AmIzI0iwK88GG9hcAiXqw/kxk61UgMgz1IPvug40SQJZ3\n",
       "YNifAKLPg4ivYOsvIElzXEu7D7KZ4Q/I3f9ALKYDyNYzMLAugHlfFSKDbP4EoHMDoN5nWgURM0dI\n",
       "cwPluUA+BxGOCRBBrglw+Y2gkPnNwMC7/m/unWyoINNdJyhL5/8iBs7zHxPQgpzDBil8QQAAvTE8\n",
       "IOfWx+0AAAAASUVORK5CYII=\n",
       "\" style=\"display:inline;vertical-align:middle;\" /></a></span>"
      ],
      "text/plain": [
       "{A proper_superset B, B = D} |- D proper_subset A"
      ]
     },
     "execution_count": 159,
     "metadata": {},
     "output_type": "execute_result"
    }
   ],
   "source": [
    "A_properSuperset_B.apply_transitivity(\n",
    "        B_equals_D, assumptions=[A_properSuperset_B, B_equals_D])"
   ]
  },
  {
   "cell_type": "code",
   "execution_count": 160,
   "metadata": {},
   "outputs": [
    {
     "data": {
      "text/html": [
       "<span style=\"font-size:20px;\"><a class=\"ProveItLink\" href=\"../__pv_it/demonstrations/9c3731ba4366a3f1d0ab7910748ff9a7eeccbc850/expr.ipynb\"><img src=\"data:image/png;base64,iVBORw0KGgoAAAANSUhEUgAAADsAAAAPBAMAAACo4Ko7AAAAMFBMVEX///92dnYiIiIQEBBERERU\n",
       "VFS6urqIiIjc3NxmZmaqqqru7u6YmJgyMjLMzMwAAADiRdoGAAAAAXRSTlMAQObYZgAAAOlJREFU\n",
       "GNNjYACBtwzogCf+68wQNyjnPoY0A7MDA8P8BxCl9zdgSL8/wMCQPwHM3DW/AUQ9UlJS8oFJ1wOF\n",
       "zheAmQfqE2CijTegDGcGBm4jsKFsG9YfgBvaBKW/Ak2LBrO2MbwvgEtzQezj+3qmRAsiksDQPwHh\n",
       "JgUwyf6DgWFzAFhh5Mx4B4R0BJhkMQAq+QW2GujJCwhpbzDJD9TJ/h3EWsDAwGSAbjjI26zfgAwO\n",
       "oDTvB7gsuwDc2+8doD5h+QGXXguhLgMtNQF6e8v/2wxc/p+gTudOhfg19n/kVJcFqMEMDFQVOVQh\n",
       "AHRFPLnG8m3jAAAAAElFTkSuQmCC\n",
       "\" style=\"display:inline;vertical-align:middle;\" /></a>, <a class=\"ProveItLink\" href=\"../__pv_it/demonstrations/ca7a3608549ffe71d6843d2ee3b56168eecff3320/expr.ipynb\"><img src=\"data:image/png;base64,iVBORw0KGgoAAAANSUhEUgAAAD0AAAAOBAMAAABuognZAAAAMFBMVEX///8iIiLu7u52dna6uroQ\n",
       "EBBmZmaIiIjMzMyqqqoyMjLc3NxERERUVFSYmJgAAAAdjRNVAAAAAXRSTlMAQObYZgAAANhJREFU\n",
       "GNNjYGB4+//snbMbGNAA3/2/aXeOgJm/gLyf6PIMrAcYGPIbgAyO70AiFUO+/wEDg38CkMH+A0j4\n",
       "P0CXrwda+b4AyOD5ACT2G6DLH2VgYApUADL4D4D0X0CX/8vA0HgJbBHIkHqQfqtVILAMLM3x912N\n",
       "JMQikCPvO6BpZ//NwKAKNvQ8iPiKbjxPAFAN2Nd/QKHxD12eH6iX/TvM+6ogN0LtXwv3Pu8XqPeZ\n",
       "VjFg834/SBcX0PuOCRjySxkYWGKA3udd/zf3TjaG9K3/13LPTGBgAADjW0c0eJFbMgAAAABJRU5E\n",
       "rkJggg==\n",
       "\" style=\"display:inline;vertical-align:middle;\" /></a> <a class=\"ProveItLink\" href=\"../__pv_it/demonstrations/7e374b081e9bddcbf4529e788b535310f5afc0df0/proof.ipynb\" style=\"text-decoration: none\">&nbsp;&#x22A2;&nbsp;&nbsp;</a><a class=\"ProveItLink\" href=\"../__pv_it/demonstrations/7f274c42f764daf1b9db3c754c80310f481ba7cd0/expr.ipynb\"><img src=\"data:image/png;base64,iVBORw0KGgoAAAANSUhEUgAAAD0AAAAPBAMAAACl/tp8AAAAMFBMVEX///8iIiLu7u52dna6uroQ\n",
       "EBBmZmaIiIjMzMyqqqoyMjLc3NxERERUVFSYmJgAAAAdjRNVAAAAAXRSTlMAQObYZgAAAOVJREFU\n",
       "GNNjYGB4+//snbMbGLCALgj1i4GB7yc2+fVgkuM7kEjFIs23XgFEsf8AEv4PIEIHBQUFG6Dymvlg\n",
       "W3k+AIn9BiAm92JkdzyodwBR/AdA+i+AmIzI0iwK88GG9hcAiXqw/kxk61UgMgz1IPvug40SQJZ3\n",
       "YNifAKLPg4ivYOsvIElzXEu7D7KZ4Q/I3f9ALKYDyNYzMLAugHlfFSKDbP4EoHMDoN5nWgURM0dI\n",
       "cwPluUA+BxGOCRBBrglw+Y2gkPnNwMC7/m/unWyoINNdJyhL5/8iBs7zHxPQgpzDBil8QQAAvTE8\n",
       "IOfWx+0AAAAASUVORK5CYII=\n",
       "\" style=\"display:inline;vertical-align:middle;\" /></a></span>"
      ],
      "text/plain": [
       "{A proper_superset B, D = B} |- D proper_subset A"
      ]
     },
     "execution_count": 160,
     "metadata": {},
     "output_type": "execute_result"
    }
   ],
   "source": [
    "A_properSuperset_B.apply_transitivity(\n",
    "        D_equals_B, assumptions=[A_properSuperset_B, D_equals_B])"
   ]
  },
  {
   "cell_type": "code",
   "execution_count": 161,
   "metadata": {},
   "outputs": [
    {
     "data": {
      "text/html": [
       "<span style=\"font-size:20px;\"><a class=\"ProveItLink\" href=\"../__pv_it/demonstrations/f0a59a675e7d7d906cf32b4386d9b1f50a3c8f2b0/expr.ipynb\"><img src=\"data:image/png;base64,iVBORw0KGgoAAAANSUhEUgAAADsAAAAPBAMAAACo4Ko7AAAAMFBMVEX////MzMy6uroyMjIiIiKq\n",
       "qqoQEBB2dnbc3NyYmJhmZmZUVFRERESIiIju7u4AAACOKgoaAAAAAXRSTlMAQObYZgAAAPZJREFU\n",
       "GNNjYGDgu7NrJ0cBAyrg3P971Z5DINa1CQysyyagSTOwHWBgWC/AwPDGD8hZ34AuLQ/UoL+AgcHs\n",
       "AZCjBhGb4+Li4ghh3gdqmH+BgesriCMFFmquQOg+BnRUygOGfgcQ5wVYyAPJ8N8MDCL7GBjqL8BF\n",
       "uAIQsoy/Z95xBdL+AnAhFiTNvD8YGJ5tYGDIB7mMAUx0I0nzJACVAJ3lD+Kwgo14gyTND9TJ+xfq\n",
       "Y3YMw0He5v7EwNAPclodWIgd4Uqwt+WBAcf6k4Eh6gFEzBQhbcbAwJQDEn51epcCVOz1Jqg6hs3/\n",
       "d60+E4Ae0OJH4IEKAQAc1UHDebzd9gAAAABJRU5ErkJggg==\n",
       "\" style=\"display:inline;vertical-align:middle;\" /></a>, <a class=\"ProveItLink\" href=\"../__pv_it/demonstrations/9c3731ba4366a3f1d0ab7910748ff9a7eeccbc850/expr.ipynb\"><img src=\"data:image/png;base64,iVBORw0KGgoAAAANSUhEUgAAADsAAAAPBAMAAACo4Ko7AAAAMFBMVEX///92dnYiIiIQEBBERERU\n",
       "VFS6urqIiIjc3NxmZmaqqqru7u6YmJgyMjLMzMwAAADiRdoGAAAAAXRSTlMAQObYZgAAAOlJREFU\n",
       "GNNjYACBtwzogCf+68wQNyjnPoY0A7MDA8P8BxCl9zdgSL8/wMCQPwHM3DW/AUQ9UlJS8oFJ1wOF\n",
       "zheAmQfqE2CijTegDGcGBm4jsKFsG9YfgBvaBKW/Ak2LBrO2MbwvgEtzQezj+3qmRAsiksDQPwHh\n",
       "JgUwyf6DgWFzAFhh5Mx4B4R0BJhkMQAq+QW2GujJCwhpbzDJD9TJ/h3EWsDAwGSAbjjI26zfgAwO\n",
       "oDTvB7gsuwDc2+8doD5h+QGXXguhLgMtNQF6e8v/2wxc/p+gTudOhfg19n/kVJcFqMEMDFQVOVQh\n",
       "AHRFPLnG8m3jAAAAAElFTkSuQmCC\n",
       "\" style=\"display:inline;vertical-align:middle;\" /></a> <a class=\"ProveItLink\" href=\"../__pv_it/demonstrations/a3527448b276ca084d2759b8a56e7a8c54c8b81d0/proof.ipynb\" style=\"text-decoration: none\">&nbsp;&#x22A2;&nbsp;&nbsp;</a><a class=\"ProveItLink\" href=\"../__pv_it/demonstrations/aad8d6f1632f85194a370708d7f1857c552793950/expr.ipynb\"><img src=\"data:image/png;base64,iVBORw0KGgoAAAANSUhEUgAAADsAAAAPBAMAAACo4Ko7AAAAMFBMVEX///92dnYiIiIQEBBERERU\n",
       "VFS6urqIiIjc3NxmZmaqqqru7u6YmJgyMjLMzMwAAADiRdoGAAAAAXRSTlMAQObYZgAAANpJREFU\n",
       "GNNjYACBtwwYgLskMoZDAMK+jyldfICBa/IBMJPn/gZ02S3aQGJ+A5i9C0I/UlJS8oFKXwZpSIaw\n",
       "D9QnwHQ13gBTnL9A5Eswm23D+gNwU5vAZL8CiNwBZm9jeF8Al+aaACLlEQIMCQz9ExA8sD79B3A+\n",
       "X+TMeAeEdASIsAd7BUywMTAwX0BIe4N1g+0BG7GAgYHJAM1wsE8ZQSwOoDTvB7gsOzgg+0FOk4b5\n",
       "hOUHXHotxP1/GBhWgqze8v82A5f/J6jTuVOjIYydrpEJaOEMDFQVOVQhAG+pNQv3LJVHAAAAAElF\n",
       "TkSuQmCC\n",
       "\" style=\"display:inline;vertical-align:middle;\" /></a></span>"
      ],
      "text/plain": [
       "{C proper_subset B, A proper_superset B} |- A proper_superset C"
      ]
     },
     "execution_count": 161,
     "metadata": {},
     "output_type": "execute_result"
    }
   ],
   "source": [
    "## Now need to try calling when the other needs reversed\n",
    "A_properSuperset_B.apply_transitivity(\n",
    "        C_properSubset_B, assumptions=[A_properSuperset_B, C_properSubset_B])"
   ]
  },
  {
   "cell_type": "markdown",
   "metadata": {},
   "source": [
    "### Testing the `SubsetEq` class methods in the superset style\n",
    "<br/>\n",
    "<font size =3>The <span style=\"font-family=courier\">SupersetEq</span> class has the following class methods:<br/>\n",
    "    <div style=\"width: 50%; border: 1px solid green; padding: 5px; margin: 20px; background-color: gainsboro; font-family:courier\">\n",
    "        <ul>\n",
    "            <li>reversed(self)</li>\n",
    "            <li>conclude(self, assumptions=USE_DEFAULTS)</li>\n",
    "            <li>conclude_via_equality(self, assumptions)</li>\n",
    "            <li>unfold(self, elem_instance_var=x, assumptions=USE_DEFAULTS)</li>\n",
    "            <li>derive_superset_membership(self, element, assumptions=USE_DEFAULTS)</li>\n",
    "            <li>conclude_as_folded(self, elem_instance_var=x, assumptions=USE_DEFAULTS)</li>\n",
    "            <li>apply_transitivity(self, other, assumptions=USE_DEFAULTS)</li>\n",
    "            <li>deduce_in_bool(self, assumptions=USE_DEFAULTS)</li>\n",
    "        </ul>\n",
    "    </div>\n",
    "</font>"
   ]
  },
  {
   "cell_type": "code",
   "execution_count": 162,
   "metadata": {},
   "outputs": [
    {
     "data": {
      "text/html": [
       "<strong id=\"set_134_superset_eq_set_13\">set_134_superset_eq_set_13:</strong> <a class=\"ProveItLink\" href=\"../__pv_it/demonstrations/2a19caedd7b7498fdd91ea0fcb0264740a568a780/expr.ipynb\"><img src=\"data:image/png;base64,iVBORw0KGgoAAAANSUhEUgAAAJIAAAAVBAMAAABf4KrdAAAAMFBMVEX///+IiIi6urrc3NxERETM\n",
       "zMwQEBCqqqpUVFQiIiJ2dnYyMjLu7u5mZmaYmJgAAABN0h6tAAAAAXRSTlMAQObYZgAAAcBJREFU\n",
       "OMuVlL1LA0EQxZ9Kckk8QyorIanSCYKdICj+AUlhYyGIiJ2YxlQWqQVR0eZAMYUQsAraiBBISgmo\n",
       "iIVNNGApqKUiqNnZvb2duzXgFcsy895vv+YGQPoRf36LY5Zg1CBl7iX6fPliJGQzkCz9boaGTk9K\n",
       "/jx2C4zUo1uyGEiW2hWBclMmpuF8+6Jkxc+i7XnerArbDBQTg7u1oxLZEj590mhAEt/1WUAKGzQJ\n",
       "eFOJfA5f/r5fOAntCWNP3GAhIThdajhEitUtJPDTmYmrqpo8E2nJuN1zK0kYSJaos8TUkZq5GUFi\n",
       "D1Wj0WYgWbnIlxhYVoeDIKFhkO5otBp6svl98ARW5XRDkhJ7AYk2YzcIWZ4tMQkUqDTdqiRdBCCn\n",
       "YpR9yCBkiRkz8dNUJGe787SWYfe0IDU2A8n4U6wAx/6+4+zt3PE5WN5OGkgmE9kmXFGSr6I8bmTh\n",
       "xGfMv+Wgxv4WZjDq6WG90YXXW2awc59D8pAchY8uq0yTxA1mZdLV6OfY5DYLKWSQJH0TKS2u9iVZ\n",
       "DCQLXqelLzejJao/ia7ieZVQf2qFZLoFdnUvM5phLtogowYlc/7bxx1rH/8FOIO5FILulWEAAAAA\n",
       "SUVORK5CYII=\n",
       "\" style=\"display:inline;vertical-align:middle;\" /></a><br>\n",
       "<strong id=\"set_1346_superset_eq_set_134\">set_1346_superset_eq_set_134:</strong> <a class=\"ProveItLink\" href=\"../__pv_it/demonstrations/1f425287fa5b45c5fd10bfce4ea26ee9d971ae590/expr.ipynb\"><img src=\"data:image/png;base64,iVBORw0KGgoAAAANSUhEUgAAALkAAAAVBAMAAADoXVL6AAAAMFBMVEX///+IiIi6urrc3NxERETM\n",
       "zMwQEBCqqqpUVFQiIiJ2dnYyMjLu7u5mZmaYmJgAAABN0h6tAAAAAXRSTlMAQObYZgAAAmtJREFU\n",
       "OMudlT1o1GAYx//31dzlklwnBxczdRMCbgXlcBEL4g1uIhyHlQ4ON0kHRQcVVJCCDo1YvEIpXqeA\n",
       "COogVwfxY7hWOlmv3C7aomCRO6zJm/fjSS5txAyXJ8+9v3+e98n/fV8A1hbSr8J6JyH7rZ8GGK/w\n",
       "L1d2ejT3sZUKWDs0l1tZaor4gggWD9eAzVGB7cjT5MopUJQB+pz/o13m6ePQ/ogh86JE2/SANouN\n",
       "l677cJz/wVICza3hep+ibaH+7umQp4808ZuHmRkenEG+KtTZG77aSl2imV1U5igq1WEJ9QkbAx6e\n",
       "eMEb+FMVyuWfkdoFmm2g4lE0QR2qMy2unq/H1XE+Qd2/ZGda+6q/50awHK5eeb74yb8tE/Wyk6Ru\n",
       "PAJFGVD0IkMmF7ixV8HVu69RakYNooe+uhdRz7W/gKIMuFKL1p5p8NlJ9R2Yvi/Ka0rdZJ9Vm451\n",
       "5pBN0QA49yA2BJdY8VpNqPtOsH749zvjqjNsNZ52YuhYaE6BBsBEpPZjwFk27Q8Q6iUPlv+lyzdU\n",
       "AbN0NXI05yC/C4IyoFil6nsdrj7b6/1aZ6lindVO+l54HN5vUvXKUKhzdHvUMxeBJ2K/4qupMIRZ\n",
       "p555s+EkOHKsipJs0ozwDFPP+PluYJ7vgd+7Hn+TwVbWXbxt0p1gqkl3AoFafd/vxkAWqfxu3h5s\n",
       "oRTMN9vbsMMIS3v34Qbz0D/fiq0moq7Qo72TCAGGktXErqsYibRORCpBPQXQ6+JR7dYy0nGQ+nI6\n",
       "IPd3Q/pZRatq8Kbsu+vOx/b3AwBxNlkyryJ1smUbo7WXW+mA9v/n6rWUc/UvTcbd5sc+mYMAAAAA\n",
       "SUVORK5CYII=\n",
       "\" style=\"display:inline;vertical-align:middle;\" /></a><br>"
      ],
      "text/plain": [
       "set_134_superset_eq_set_13: {1, 3, 4} superset_eq {1, 3}\n",
       "set_1346_superset_eq_set_134: {1, 3, 4, 6} superset_eq {1, 3, 4}"
      ]
     },
     "execution_count": 162,
     "metadata": {},
     "output_type": "execute_result"
    }
   ],
   "source": [
    "# define a few proper subset relations for testing\n",
    "set_13, set_134, set_1346 = Set(one, three), Set(one, three, four), Set(one, three, four, six)\n",
    "set_134_superset_eq_set_13, set_1346_superset_eq_set_134 = (\n",
    "        superset_eq(set_134, set_13), superset_eq(set_1346, set_134))"
   ]
  },
  {
   "cell_type": "code",
   "execution_count": 163,
   "metadata": {},
   "outputs": [
    {
     "data": {
      "text/html": [
       "<strong id=\"set_bcf_superset_eq_set_bc\">set_bcf_superset_eq_set_bc:</strong> <a class=\"ProveItLink\" href=\"../__pv_it/demonstrations/a860ceb353d82501493eb3ed2753caecd6e46ce60/expr.ipynb\"><img src=\"data:image/png;base64,iVBORw0KGgoAAAANSUhEUgAAAI8AAAAVBAMAAACNsKCFAAAAMFBMVEX///+IiIi6urrc3NxERETM\n",
       "zMwQEBCqqqpUVFQiIiJ2dnYyMjLu7u5mZmaYmJgAAABN0h6tAAAAAXRSTlMAQObYZgAAAi9JREFU\n",
       "OMtjYGDgu8eAC7BePIBF9O0DrKp4djHgBkypmGKnF2BXxfcBaJjbBEwNPBcvMzDcxhR/D8RHMlGE\n",
       "wKq4QGZwX8DUwLH8OwPDSoiZO2fOnCIAFQcL7UVRuhJuEH8BpkHndRRgBoENe62ApOs7DoP0sQRq\n",
       "PVwJ1KTNCF1Mf3AYtBJLQK9EM4ghGiHONQGHQTsEr0PFFgoGQCM58y6QXIaknNsArou7URYaGFyC\n",
       "olBVHBuArv594DxElWUBywaovo+wKIIBLojeblD47eH5DOYwT2fwhqoqA7qA/Q8DPyRSZjFwQK1i\n",
       "/sqAFp284NBmByWa+gMQexg4FzC0Q1SFTAYp2cBwHpzMeBGByP4BTHUKILwGTsaeBuCEw/MLLHb/\n",
       "AFyVWgDYRH2wQ9gcEB4Bhyd3A8JFFYhkvJeBCZIAUhjgqjiAevkfQI0+j0j+LA1oYcQ6B0K3APE/\n",
       "qNuh7noPs5lfgScPLAI0kQEaRmxgPyFi7dAVA0Rcf2I4Bsm5/4BhAFUFMojjAcsFhvPA6OJtYDgb\n",
       "cB4cb+cVEOkIlEW8CpASTR+DLzCqgYwbDDxXkdIRz8V1wAgAOX3VOwEIg0GfgQF7SgUJnZUCOmgm\n",
       "MDS41j1ESZBgUIPCWILPIEi8HkBN2Qkw7gIkBnvDPlwGwYONC9Vsvg+wTCmAxOD02YAoacBhNHPm\n",
       "DER5BAYHUcsjBlgJyceAxOCTBccRUxKmi7hhLoeXuFBV7KSW2bXYymwAUtSmtoT2IBgAAAAASUVO\n",
       "RK5CYII=\n",
       "\" style=\"display:inline;vertical-align:middle;\" /></a><br>\n",
       "<strong id=\"set_bcdfg_superset_eq_set_bcf\">set_bcdfg_superset_eq_set_bcf:</strong> <a class=\"ProveItLink\" href=\"../__pv_it/demonstrations/7ee0048bcb236f3d55694cdb39bc2f6304f3dfec0/expr.ipynb\"><img src=\"data:image/png;base64,iVBORw0KGgoAAAANSUhEUgAAAMsAAAAVBAMAAAAa4QdfAAAAMFBMVEX///+IiIi6urrc3NxERETM\n",
       "zMwQEBCqqqpUVFQiIiJ2dnYyMjLu7u5mZmaYmJgAAABN0h6tAAAAAXRSTlMAQObYZgAAAqpJREFU\n",
       "SMetVk1rE0EYfkx23WSzxkTIpVjIqfSgmKPeKoIXLfTgxYMgUg+9SA7iScn2JCL4gYKueKhQGuJB\n",
       "g15EjKwgXkrdVhFFUdMfoNUWKfgRnO+d7WwiBeew+zA7z/O+837MLIDiJ2xmHNuZMjlAw14K6ct7\n",
       "jM2NkQljaqBG5iRz5BvwfCrNjYOLUmXptTa/rW1upp8GY36gyL1CHp00N7bXBcg117VpRgDmgyDY\n",
       "r0+laTBmSy1ZTzOzJxQg2lU1zdDx8oE2labBmMpM5neamZYEjcS0ZgbzNQzUaCgdukRnxqNj2DPM\n",
       "2G0M1GglzBSmh2Ue7pR5IWXfV2QUvkx9FOhc+TQhHNd0HsLUcMuVBHOOZYk4FD3x1viHfXWLOzhS\n",
       "s1QUvst9jGX/8LJSowlDI3sDhxLMFfo4Q7xvhFLqFnLMJ+9UXLjZHzLSIcuzXlKvYGjkZ3A+wSyQ\n",
       "xjhyDbSyvZ+8J+QOCCDL+XCk+5Ow6ffc1dgMcyWp8TlUXwXzQok3dQcZnoitY2IBAVF1Q87tHrZQ\n",
       "+Ci24vjqYFAakxurpUAX5YhyT24jkjsgQJWx5YteX4O1mMzNUe65riH2pDFXpMVVvOjyxicvlpuo\n",
       "jotOTeyspEJAD4a40rzdB2KvlUaPrITOnJNLLmEc3i+aEh8LExEJuFUq3nQRsdDT6FFEKulyqB82\n",
       "15tacJTGO3hvGICIu+qbhSHiSEADcPdrCfnbRHK6sncHQ+TQoeVD0ehQC6l9mNBw7y0LMcbUzzQW\n",
       "E1UhZ5FAs/HceH8zSQ0OZjUzMtSuYs3oyPGfCmTDW+1jxtBwoZjcjCqcZyqzJR3lD7cFuh/SQpNt\n",
       "Sy+CIPCRrkEBZ4r7BvLm66pLCjoqDtcEGl1+y5qkah6RhkZXMZE5wcP4H/4FnH/8C/wF5hzoaFPK\n",
       "s2IAAAAASUVORK5CYII=\n",
       "\" style=\"display:inline;vertical-align:middle;\" /></a><br>"
      ],
      "text/plain": [
       "set_bcf_superset_eq_set_bc: {b, c, f} superset_eq {b, c}\n",
       "set_bcdfg_superset_eq_set_bcf: {b, c, d, f, g} superset_eq {b, c, f}"
      ]
     },
     "execution_count": 163,
     "metadata": {},
     "output_type": "execute_result"
    }
   ],
   "source": [
    "# define a few proper subset relations for testing\n",
    "from proveit import g\n",
    "set_bc, set_bcf, set_bcdfg = Set(b, c), Set(b, c, f), Set(b, c, d, f, g)\n",
    "set_bcf_superset_eq_set_bc, set_bcdfg_superset_eq_set_bcf = (\n",
    "        superset_eq(set_bcf, set_bc), superset_eq(set_bcdfg, set_bcf))"
   ]
  },
  {
   "cell_type": "markdown",
   "metadata": {},
   "source": [
    "### `SubsetEq.reversed()`"
   ]
  },
  {
   "cell_type": "code",
   "execution_count": 164,
   "metadata": {},
   "outputs": [
    {
     "data": {
      "text/html": [
       "<a class=\"ProveItLink\" href=\"../__pv_it/demonstrations/fa621aa1c402974fae3a87893f2d60017cb040fc0/expr.ipynb\"><img src=\"data:image/png;base64,iVBORw0KGgoAAAANSUhEUgAAALkAAAAVBAMAAADoXVL6AAAAMFBMVEX///+IiIi6urrc3NxERETM\n",
       "zMwQEBCqqqpUVFQiIiJ2dnYyMjLu7u5mZmaYmJgAAABN0h6tAAAAAXRSTlMAQObYZgAAAhVJREFU\n",
       "OMtjYGDgu8eAC7BePIBFFI8GDK08u/CoYUrFFMOrAV0r3wdkMeZVSwpg7Fggvo3F6Xg1gMFCqQCo\n",
       "Vq4JQII9Bypuy8D+D6ZmBhCvhHFezJw5cyoDYQ0gcFqBdwNUK0jxiRV/oBLyBQw/oUzGDCTTrRfD\n",
       "XYtfAwj4MrA4IJnOwAdTrKbA8BvKtNuBZPpmBhTTcWsAhfhnMIXFdAaERxcgmc5bgMt0dA1AwJKA\n",
       "2/STC6CRZwBSvAzC4WTAbTqqBiDg37rwEkwrxwYUxVZzoUn8IANI8XsIxwLJdPwagOD8PgbOAqjW\n",
       "sgBUpzAmQf0JVsx9Acw5gmQ6fg0g0z8w8OZAtIZMZkBVzJAGdgt7AERxpwBayBDSAAyZCQx8n6Ba\n",
       "1VCcYszA4A+OwVMMELc3QMJaAGEYfg0gp2xg4PsH1crhgKz4/wGo4oq7d79dhIc7w3akcMerAaQg\n",
       "Aez295hJIIWBYT6s5MpApBmGE00HsKcZdA2gAuwPA28CVCtYMSNQ8XlQWngHSr5gFlgjoiSI8kQp\n",
       "CXBo4AHnrC6GYwVI6Z237fc9Bs45oHx294oChMWw5H8fkumo6R2nhpkgf3DdakXJTWBQw4DJwmE6\n",
       "Tg3sB1C1ciXAuAsYMFnYTMengYsBVSu8uOaBpzoEC1a+c82cCS+B8Wo4yICmFVbV8CHqB0QFk4Sl\n",
       "1sGn4QG6VnZS61V2outVAD6F3NfzM+ESAAAAAElFTkSuQmCC\n",
       "\" style=\"display:inline;vertical-align:middle;\" /></a>"
      ],
      "text/plain": [
       "{1, 3, 4} subset_eq {1, 3, 4, 6}"
      ]
     },
     "execution_count": 164,
     "metadata": {},
     "output_type": "execute_result"
    }
   ],
   "source": [
    "# if A is a superset_eq of B, then B is a subset_eq of A\n",
    "set_1346.deduce_enum_subset_eq(subset=set_134)\n",
    "set_1346_superset_eq_set_134.reversed()"
   ]
  },
  {
   "cell_type": "code",
   "execution_count": 165,
   "metadata": {},
   "outputs": [
    {
     "data": {
      "text/html": [
       "<a class=\"ProveItLink\" href=\"../__pv_it/demonstrations/f2fa5ab8377290944d5b65942fdffe2090d4db240/expr.ipynb\"><img src=\"data:image/png;base64,iVBORw0KGgoAAAANSUhEUgAAAMsAAAAVBAMAAAAa4QdfAAAAMFBMVEX///+IiIi6urrc3NxERETM\n",
       "zMwQEBCqqqpUVFQiIiJ2dnYyMjLu7u5mZmaYmJgAAABN0h6tAAAAAXRSTlMAQObYZgAAAsdJREFU\n",
       "SMeVVk1oE0EUfmySbpJd0+QgolDIyVPBvXqQxpuiYsDe40899CAEBPGgJAFBW6EEFGSLQgKlkh4k\n",
       "56ISRUQoIQnFHxA1PXrQ1oosaCjOz5uZ3c2kkIFsvn0z3/dm3nszswCQ+gqjWqzX0lh/9GGMhhr2\n",
       "+j5jjKvDto0ajNW4RmoH4M28ptvubQJ8HrZvwwjC7DWB2lOOz840klXyeKFhxZ96AA18SS24rptn\n",
       "kJl0BPAEWCwVfeaGdONpSJ3prHQTWXeCLB3BGIg47L4GnRs5wN9KcgiA5QRZWgKbMG3mDmjdyAFD\n",
       "vejmY8iuJVjdsL+QG6syJYJZz+SxbOe/kOcqf6mGWIqQzBzk4ES9gKbUhyfo0OwdyqFGvEnS8Nz+\n",
       "zTuOF6NNlPslyoqkpuxzcx98hMgjOMMTcwXOi002mUawAjNd1LhBZl9qcVGAZYjjnCJ/VCDsnPJi\n",
       "0m0gCYka3GXgbV8V/wwGxBzAZJFrzD5glW3/ZR0HVGoxjwvpYNBipx0/4ZtYAQHLgeIhbSIHhRZq\n",
       "HM3TXWB4oiNYNxYPVz20qSVhTpjnSBkHck5aoQ+HhUacKO+JZXTUQRItq9yA5dtud0ARcE0MqDI+\n",
       "Jc4LB84JDTrrXRpaljzyh4oTLFpYafa96UClScIeiS4b4JFauo4jLqngeUKDulkiXu1/NDdlaOc7\n",
       "rNY6Wf/6YyuBw0YSPoH9noGT8L1cY4hFj6GOEx/49037CJmbS7O19jMNicfUfiwQ5tC+kYTksy0O\n",
       "3mUuVLJcw6DRo8iorFUDZxorLXm33OI1v4+bIEExGUrmpC3alW4uitKSQqQOzPLLUW5WIUxQTIpu\n",
       "Wn1EeR75hrhvWHslLxqS/MTZproryEjXlbnZhjBBAoYebiBKDlihoYa4PeXVm6I/fjEZlzUnZC1M\n",
       "UJc2RVubiIwldvChhjnut8Dt8b8F/gNWVPG4VTFm7wAAAABJRU5ErkJggg==\n",
       "\" style=\"display:inline;vertical-align:middle;\" /></a>"
      ],
      "text/plain": [
       "{b, c, f} subset_eq {b, c, d, f, g}"
      ]
     },
     "execution_count": 165,
     "metadata": {},
     "output_type": "execute_result"
    }
   ],
   "source": [
    "set_bcdfg_superset_eq_set_bcf.reversed()"
   ]
  },
  {
   "cell_type": "markdown",
   "metadata": {},
   "source": [
    "### `SubsetEq.conclude()`"
   ]
  },
  {
   "cell_type": "code",
   "execution_count": 166,
   "metadata": {},
   "outputs": [
    {
     "data": {
      "text/html": [
       "<span style=\"font-size:20px;\"> <a class=\"ProveItLink\" href=\"../__pv_it/demonstrations/7ff79bdb8180c78e965002c96b558024fd6cdea40/proof.ipynb\" style=\"text-decoration: none\">&nbsp;&#x22A2;&nbsp;&nbsp;</a><a class=\"ProveItLink\" href=\"../__pv_it/demonstrations/2a19caedd7b7498fdd91ea0fcb0264740a568a780/expr.ipynb\"><img src=\"data:image/png;base64,iVBORw0KGgoAAAANSUhEUgAAAJIAAAAVBAMAAABf4KrdAAAAMFBMVEX///+IiIi6urrc3NxERETM\n",
       "zMwQEBCqqqpUVFQiIiJ2dnYyMjLu7u5mZmaYmJgAAABN0h6tAAAAAXRSTlMAQObYZgAAAcBJREFU\n",
       "OMuVlL1LA0EQxZ9Kckk8QyorIanSCYKdICj+AUlhYyGIiJ2YxlQWqQVR0eZAMYUQsAraiBBISgmo\n",
       "iIVNNGApqKUiqNnZvb2duzXgFcsy895vv+YGQPoRf36LY5Zg1CBl7iX6fPliJGQzkCz9boaGTk9K\n",
       "/jx2C4zUo1uyGEiW2hWBclMmpuF8+6Jkxc+i7XnerArbDBQTg7u1oxLZEj590mhAEt/1WUAKGzQJ\n",
       "eFOJfA5f/r5fOAntCWNP3GAhIThdajhEitUtJPDTmYmrqpo8E2nJuN1zK0kYSJaos8TUkZq5GUFi\n",
       "D1Wj0WYgWbnIlxhYVoeDIKFhkO5otBp6svl98ARW5XRDkhJ7AYk2YzcIWZ4tMQkUqDTdqiRdBCCn\n",
       "YpR9yCBkiRkz8dNUJGe787SWYfe0IDU2A8n4U6wAx/6+4+zt3PE5WN5OGkgmE9kmXFGSr6I8bmTh\n",
       "xGfMv+Wgxv4WZjDq6WG90YXXW2awc59D8pAchY8uq0yTxA1mZdLV6OfY5DYLKWSQJH0TKS2u9iVZ\n",
       "DCQLXqelLzejJao/ia7ieZVQf2qFZLoFdnUvM5phLtogowYlc/7bxx1rH/8FOIO5FILulWEAAAAA\n",
       "SUVORK5CYII=\n",
       "\" style=\"display:inline;vertical-align:middle;\" /></a></span>"
      ],
      "text/plain": [
       "|- {1, 3, 4} superset_eq {1, 3}"
      ]
     },
     "execution_count": 166,
     "metadata": {},
     "output_type": "execute_result"
    }
   ],
   "source": [
    "set_134.deduce_enum_subset_eq(subset = set_13)\n",
    "set_134_superset_eq_set_13.conclude()"
   ]
  },
  {
   "cell_type": "code",
   "execution_count": 167,
   "metadata": {},
   "outputs": [
    {
     "data": {
      "text/html": [
       "<span style=\"font-size:20px;\"> <a class=\"ProveItLink\" href=\"../__pv_it/demonstrations/2b5c077b97ea8ac50b2392702bcb01bc654fceb90/proof.ipynb\" style=\"text-decoration: none\">&nbsp;&#x22A2;&nbsp;&nbsp;</a><a class=\"ProveItLink\" href=\"../__pv_it/demonstrations/a860ceb353d82501493eb3ed2753caecd6e46ce60/expr.ipynb\"><img src=\"data:image/png;base64,iVBORw0KGgoAAAANSUhEUgAAAI8AAAAVBAMAAACNsKCFAAAAMFBMVEX///+IiIi6urrc3NxERETM\n",
       "zMwQEBCqqqpUVFQiIiJ2dnYyMjLu7u5mZmaYmJgAAABN0h6tAAAAAXRSTlMAQObYZgAAAi9JREFU\n",
       "OMtjYGDgu8eAC7BePIBF9O0DrKp4djHgBkypmGKnF2BXxfcBaJjbBEwNPBcvMzDcxhR/D8RHMlGE\n",
       "wKq4QGZwX8DUwLH8OwPDSoiZO2fOnCIAFQcL7UVRuhJuEH8BpkHndRRgBoENe62ApOs7DoP0sQRq\n",
       "PVwJ1KTNCF1Mf3AYtBJLQK9EM4ghGiHONQGHQTsEr0PFFgoGQCM58y6QXIaknNsArou7URYaGFyC\n",
       "olBVHBuArv594DxElWUBywaovo+wKIIBLojeblD47eH5DOYwT2fwhqoqA7qA/Q8DPyRSZjFwQK1i\n",
       "/sqAFp284NBmByWa+gMQexg4FzC0Q1SFTAYp2cBwHpzMeBGByP4BTHUKILwGTsaeBuCEw/MLLHb/\n",
       "AFyVWgDYRH2wQ9gcEB4Bhyd3A8JFFYhkvJeBCZIAUhjgqjiAevkfQI0+j0j+LA1oYcQ6B0K3APE/\n",
       "qNuh7noPs5lfgScPLAI0kQEaRmxgPyFi7dAVA0Rcf2I4Bsm5/4BhAFUFMojjAcsFhvPA6OJtYDgb\n",
       "cB4cb+cVEOkIlEW8CpASTR+DLzCqgYwbDDxXkdIRz8V1wAgAOX3VOwEIg0GfgQF7SgUJnZUCOmgm\n",
       "MDS41j1ESZBgUIPCWILPIEi8HkBN2Qkw7gIkBnvDPlwGwYONC9Vsvg+wTCmAxOD02YAoacBhNHPm\n",
       "DER5BAYHUcsjBlgJyceAxOCTBccRUxKmi7hhLoeXuFBV7KSW2bXYymwAUtSmtoT2IBgAAAAASUVO\n",
       "RK5CYII=\n",
       "\" style=\"display:inline;vertical-align:middle;\" /></a></span>"
      ],
      "text/plain": [
       "|- {b, c, f} superset_eq {b, c}"
      ]
     },
     "execution_count": 167,
     "metadata": {},
     "output_type": "execute_result"
    }
   ],
   "source": [
    "set_bcf_superset_eq_set_bc.conclude(assumptions=[SubsetEq(set_bc, set_bcf)])"
   ]
  },
  {
   "cell_type": "markdown",
   "metadata": {},
   "source": [
    "### `SubsetEq.conclude_via_equivalence()`"
   ]
  },
  {
   "cell_type": "code",
   "execution_count": 168,
   "metadata": {},
   "outputs": [
    {
     "data": {
      "text/html": [
       "<span style=\"font-size:20px;\"> <a class=\"ProveItLink\" href=\"../__pv_it/demonstrations/a7c4bb011898da273ffc4b304d7ef04c83a6c00c0/proof.ipynb\" style=\"text-decoration: none\">&nbsp;&#x22A2;&nbsp;&nbsp;</a><a class=\"ProveItLink\" href=\"../__pv_it/demonstrations/878b0e00e82f8956630094fb8762a2bfb2a601040/expr.ipynb\"><img src=\"data:image/png;base64,iVBORw0KGgoAAAANSUhEUgAAAD0AAAARBAMAAACcIrmXAAAAMFBMVEX///92dnYyMjKqqqoiIiLu\n",
       "7u7c3NyIiIjMzMwQEBC6urpERERmZmZUVFSYmJgAAADEjrHzAAAAAXRSTlMAQObYZgAAAP5JREFU\n",
       "KM9jYGB4+//O2d0LGNAA3/2/Z27vAjNnMzDw/AAxglxcXLbDFHBuYGA43wBkcPxjYOD6AxOO04Iy\n",
       "+h8wMKw/AGSwfwOa9h1ucFAChK4H0u8LgAzuCQwMka5weQ4FCL2TgYF1SgCQwX+BgcM3AOEyNQj1\n",
       "l4Gh5SrYonvPtxgguVwYYszfd9XOMItY5yLJnwKTIFdFXoBaxFCPZADEfpCr2D9DLWKoL4BLM4M1\n",
       "gVzFwP4d6n2G+4jwawmAe5/3F9Qijt8wWdY12xDe7wcGIQMT0KKVWxmg4estDFWoCQzU2UCjePWB\n",
       "8bAZPXYYLoEizYCBugAUvy4uF5CFAGQxTE0qJmgSAAAAAElFTkSuQmCC\n",
       "\" style=\"display:inline;vertical-align:middle;\" /></a></span>"
      ],
      "text/plain": [
       "|- B superset_eq B"
      ]
     },
     "execution_count": 168,
     "metadata": {},
     "output_type": "execute_result"
    }
   ],
   "source": [
    "superset_eq(B, B).conclude_via_equivalence()"
   ]
  },
  {
   "cell_type": "code",
   "execution_count": 169,
   "metadata": {},
   "outputs": [
    {
     "data": {
      "text/html": [
       "<span style=\"font-size:20px;\"> <a class=\"ProveItLink\" href=\"../__pv_it/demonstrations/b783e439d32a81c6e32894dd6fd135eed164f8620/proof.ipynb\" style=\"text-decoration: none\">&nbsp;&#x22A2;&nbsp;&nbsp;</a><a class=\"ProveItLink\" href=\"../__pv_it/demonstrations/e51c3fad501c7bdf07f508b592ce52a3527890ce0/expr.ipynb\"><img src=\"data:image/png;base64,iVBORw0KGgoAAAANSUhEUgAAAKQAAAAVBAMAAAA6DViiAAAAMFBMVEX///+IiIi6urrc3NxERETM\n",
       "zMwQEBCqqqpUVFQiIiJ2dnYyMjLu7u5mZmaYmJgAAABN0h6tAAAAAXRSTlMAQObYZgAAAr1JREFU\n",
       "OMuVVUtoE1EUPU3SfGYmnyrdiIWssk3AjS6EClpQEAt2pYjiD1woAUFcWJqCm1KwEV0kRTBuCi34\n",
       "ATdVDJ2KSEFKUigoajVbEbFWpFiD8b7/JGkCvsW8mfvuPe/ec897AyD2CZ1G74q7jfVbrWPAqd3s\n",
       "6TxH5+G70G57U+oSkBqmR2wdeHVJWpy1g8N6eeQy8KE96ju5DeXlx/LqIVPTUBXRJ/RisdWytC7B\n",
       "2jDBm8Cs2OlZsXg3Ia3MZFdlCjk8Tmr/eFag8cemNH4ELpqq6wqSR39NGkgK5iPqInhGu6RdA8mC\n",
       "+SACpjLKg60YSDhPDWRati2YR/in9piFgbQUNQsupjSZrDoPJE4aSGW26wj/0g5lD6Q9PpBV9vsy\n",
       "gf0PTpNtxgNpZzTkfN9bZY3ICv3v+4k+i9EQph5VXjgqfd+WnM/hmMvbq4cltp0kDv64FcVPWmoq\n",
       "lQnUhX5wjQodc/FDbZoT8+saF5BqLe8F70+IpBqqI64EUJBMXxECouJH7oCpz5HJYU3On11Ms3ki\n",
       "YQrn4jtM6VFwRSYXlXtG64gwU/i20HsZPimjHpXVeThMoXbOZHldHyjKPS3JH5CLwUFUWBXzDHYQ\n",
       "+Ms24WMUfk4SZR1aRxOXvffEfJNkWWNVcBqq2MNfKOsxeRZ5xzcYdTyshB4BuUl9u+rt+MvVjBZR\n",
       "PEnU8XEC2Ckgs5gMZUTHGeQtHKUu0se+uYcTqDCaD+BLruQ9kEeyRtDhWqDK3fzTc+/yPDKQiBUs\n",
       "jy6Xd1GSRSplodH4jQircKnv+HiyWeoG0ll5BO5mNxqNPI90xvv37vBAClr03XijKX4byBY3Eykh\n",
       "1bG3tL3UFXKmzc1CMyTvERuL+n4wUpT3JeOyWCzo+7LFbdFzHFgfoG51ff3HPLf62fYs7VKrm+fH\n",
       "kRIn7H//PaPd/z3/AOR10SaYIfLYAAAAAElFTkSuQmCC\n",
       "\" style=\"display:inline;vertical-align:middle;\" /></a></span>"
      ],
      "text/plain": [
       "|- {b, 2, d} superset_eq {b, 2, d}"
      ]
     },
     "execution_count": 169,
     "metadata": {},
     "output_type": "execute_result"
    }
   ],
   "source": [
    "superset_eq(Set(b, two, d), Set(b, two, d)).conclude_via_equivalence()"
   ]
  },
  {
   "cell_type": "markdown",
   "metadata": {},
   "source": [
    "### `SubsetEq.unfold()`"
   ]
  },
  {
   "cell_type": "code",
   "execution_count": 170,
   "metadata": {},
   "outputs": [
    {
     "data": {
      "text/html": [
       "<span style=\"font-size:20px;\"> <a class=\"ProveItLink\" href=\"../__pv_it/demonstrations/aa0a49421241031271d15cbf4307ca8bc68708a40/proof.ipynb\" style=\"text-decoration: none\">&nbsp;&#x22A2;&nbsp;&nbsp;</a><a class=\"ProveItLink\" href=\"../__pv_it/demonstrations/b1b26004fb109f49b158cd2beae594215e682e1b0/expr.ipynb\"><img src=\"data:image/png;base64,iVBORw0KGgoAAAANSUhEUgAAAO0AAAAXBAMAAAAVatXDAAAAMFBMVEX///8QEBCIiIhmZma6urrM\n",
       "zMxUVFQiIiJERETc3Nzu7u6qqqp2dnaYmJgyMjIAAAAcRTyBAAAAAXRSTlMAQObYZgAAA4JJREFU\n",
       "SMe1lk1oE0EUx1+bbDbJbtKIClovUaGHUmixfh1aTfHgRTBV0B4KfhYvRYoeilZooIKpIg1WsILi\n",
       "pkIqReyKiFSkxBSqVA85eLAHNQgeLFYKStWI1Tdf+5FuaiN1YHfe7O7Mb968/5tZgOUqgcYlfCRt\n",
       "0v4Z4Ms6PfV/WlJn92q8jeKVI603pXDvOLs7a5vby+e64WMdNzI1UYAdaHgSAC/Ik+lSuB8dn6od\n",
       "eFMqeasflF/ijXyY1fciLnTyGVkbrAfI7GKlxLGuKDc1keetWh2+iTfrObcHvDHGhQxAEAOt6iVw\n",
       "5YS19bqzM2f6GxDcpgjMiyV/y7juH7Si3CR+Ojk8fK2UZbZ93FJtW2eDC+Y6q0HG9YZMbjAC8D0e\n",
       "P1cKdyNeg1VXa8IkUNNQjDuU5sYU51Z8yGzG6in9GGPVBtBrG7gV86SFCXAry7YY7DMjcRlx6cAp\n",
       "OceFyYsnZ+PeOM0T1R/m3JEZkHGUd1Qj+PEuKi9LCqAm928jlivrooJTMEXajfddOF1NzbsJ0mt2\n",
       "ux+1+1u+iq8DCO4suHDoIJGlgosjQ7nYCPxP6rOgkFnsptw0S8q7eB8zBsTx/FSZWJo/Y6GzbjkD\n",
       "di6sYA4/FNyKDgh8xfoEBkjCEdWsbIhzdBgsXCTT4asLuThImNoDJqbJ5u91gD4aGn9acDEwAdQa\n",
       "bRGuL3eAhHJLVdRNM9PKTZLBJN3G7SK3Q1Fql5lcT8zK/a1xrnKsfudKOklPiPpL4+smIuw9jtHQ\n",
       "TsqRIBRwy9+zCNm4qCtFq8UeZD3CRfS8BqBbnABlzF8pD64Q1zPRFTzAHhLMANxmE08XrPMU4SYN\n",
       "5Y4D7NX74KbpvMktR+5Ijm74mL8jTK9lMWa1Q1Ln+etKG7HC3eRgPB4PSz1gcn0/SSIQrmTkOL5K\n",
       "bRhsZFpMndcsXNeR+UaQz5KFrN8eYRaofXNZaqkNbca+QcWg0UhL4CnwNxn1oRCUhvEvWYu/9n1y\n",
       "zwXrPknLY1jMotwh0bql5lRQo0Z8H6FWNTkRqPRdRK/z1vgWOxdCwkrDYpY4F1hJvcpMAlwS3P7u\n",
       "o9CsS5mJhLQO02tOt3ALdrcF56/f0JqTRc9f+0aFssD4Mn9JYVujwhpjfzv3QfxvBMypOFhukv7e\n",
       "hEN/wVXYy9EFXOf/HFCW/n815fijtNY2Rw5ph/9erjj406ovM+QPDnUCTQaw9XcAAAAASUVORK5C\n",
       "YII=\n",
       "\" style=\"display:inline;vertical-align:middle;\" /></a></span>"
      ],
      "text/plain": [
       "|- forall_{x in {1, 3, 4}} (x in {1, 3, 4, 6})"
      ]
     },
     "execution_count": 170,
     "metadata": {},
     "output_type": "execute_result"
    }
   ],
   "source": [
    "superset_eq(set_1346, set_134).unfold()"
   ]
  },
  {
   "cell_type": "code",
   "execution_count": 171,
   "metadata": {},
   "outputs": [
    {
     "data": {
      "text/html": [
       "<span style=\"font-size:20px;\"> <a class=\"ProveItLink\" href=\"../__pv_it/demonstrations/4d0d4c2aca8702a38a2f9f977b303203bad972830/proof.ipynb\" style=\"text-decoration: none\">&nbsp;&#x22A2;&nbsp;&nbsp;</a><a class=\"ProveItLink\" href=\"../__pv_it/demonstrations/4b5422e641fa2f34a320c6106246559616ca3bb30/expr.ipynb\"><img src=\"data:image/png;base64,iVBORw0KGgoAAAANSUhEUgAAAOoAAAAXBAMAAAD3ts66AAAAMFBMVEX///8QEBCIiIhmZma6urrM\n",
       "zMxUVFQiIiJERETc3Nzu7u6qqqp2dnaYmJgyMjIAAAAcRTyBAAAAAXRSTlMAQObYZgAAA1hJREFU\n",
       "SMe1lk9IFFEcx7/7Z/bP/Fk91CGlGNYysMuiVIeUtA5RUG4Edgk0KdAOIkFFIrHZobUuQ4f0Eg0I\n",
       "HSTcJQ+hBG0GFWq0UFAE1kLlISiWoKgNpPfe/J/ZTTdsYHd+7zdv3uf9/r4B1ut6mV99zrGmf17+\n",
       "VlntVG4t73YkAUEBCnSwVAWUT5VVv68w+/KgfRiguH5ggQ4+V0GNKWXVT51Doc6YnrCrRbqHKWCc\n",
       "3KKpauKHNVDvPCnpUk3WQxVlxFRyy1ZBvWgfSFcvXCprq2RQO1UPla+FND85OVYFNGqPEzeiVvCw\n",
       "SXXqGRUfgZ/p9HAVVD+JEx/v3zfHEld1eDja2lznpi7H9+jSXDwJsZZKj4HTwKhj3RNm4XEs3kcK\n",
       "4HaYTyPk6V28lplj+623BmhdKLGii8qvqBkt/caykQIk9vwdsB98weHCOhPawvwhEutCZjWGSQ7M\n",
       "44V6kA6sLBQ2EsJmBFIuqlBCjcykYYTIqx+oeJ8sA79hHP+gJQ/B2kOQUWNksqX0tQMq0tq2tnwl\n",
       "F5OuEoMCJYRlF5UUaIbtOKApQmfJXzcxJR82VnwzMwkvtUZxU4FvmlssW4PEVl8KmaSLSsq1k1WI\n",
       "T5u7DI0aLXTRUO9sTAZZQVPAROMni9odP2OjUg+D+64Naq3A9IEa9dCdwzV57GUpp1msxfUA+Y2e\n",
       "IpmpDoTbY9Cp/DmuZFG3qw02Ks2mWX8RrI83O7pEJosBQXFR20m0dTyyeg6TbMI0WZvDF2Kh5vkc\n",
       "Aglu0KKOkFn8JrPiEgj+jhSjedNwkxqRpfMiMmyDfkKlUigfSTAh0IOJpF6vrXQXLAN+AcfT6bTM\n",
       "XSExyPp7LOoG7CLPclas+d6mBu284PsO2ah877abWxEeorlzcqWNSXzzc2iqxSXZ6BI0fBL1O1fk\n",
       "EDJszSiRt6pJLaHeZquzIwafeTvirFeadXZEo73dFgsixKQeV5/SfRjjKoRBRK9hSErZE7tC939k\n",
       "SjmvlHN3f/2MeDU3D1zXqcHee204mo3u/iFz9ehadJRTRPn7+crLHslSsfN1ytVjSVwtgJYpgpHY\n",
       "q5zqMcMeyToBPAI6aLWPlnndAOg1MOOmVviCwfRav5ukcs4yEkffYN5Isf983fBumltYX8QfCwjw\n",
       "Lu+ejGQAAAAASUVORK5CYII=\n",
       "\" style=\"display:inline;vertical-align:middle;\" /></a></span>"
      ],
      "text/plain": [
       "|- forall_{x in {a, 1, b}} (x in {a, 1, b, c})"
      ]
     },
     "execution_count": 171,
     "metadata": {},
     "output_type": "execute_result"
    }
   ],
   "source": [
    "# Works, but often have to explicitly pre-establish that\n",
    "# the superset_eq relationship is actually true\n",
    "a1b_subset_eq_a1bc = Set(a, one, b, c).deduce_enum_subset_eq(subset=Set(a, one, b))\n",
    "# a1b_subset_eq_a1bc.derive_reversed()\n",
    "superset_eq(Set(a, one, b, c), Set(a, one, b)).unfold()"
   ]
  },
  {
   "cell_type": "markdown",
   "metadata": {},
   "source": [
    "### `SubsetEq.derive_superset_membership()`"
   ]
  },
  {
   "cell_type": "code",
   "execution_count": 172,
   "metadata": {},
   "outputs": [
    {
     "data": {
      "text/html": [
       "<span style=\"font-size:20px;\"> <a class=\"ProveItLink\" href=\"../__pv_it/demonstrations/24a86f24aa5be98253677b316e53d00e3592039d0/proof.ipynb\" style=\"text-decoration: none\">&nbsp;&#x22A2;&nbsp;&nbsp;</a><a class=\"ProveItLink\" href=\"../__pv_it/demonstrations/556eb1c098b3e48db8ffaca7130e1c7ef85d918d0/expr.ipynb\"><img src=\"data:image/png;base64,iVBORw0KGgoAAAANSUhEUgAAAI8AAAAVBAMAAACNsKCFAAAAMFBMVEX///+YmJiqqqqIiIgyMjLc\n",
       "3NwiIiIQEBC6urp2dnZUVFTMzMxERERmZmbu7u4AAADrYmUNAAAAAXRSTlMAQObYZgAAAhVJREFU\n",
       "OMudlD9II0EUxr8kGk10k4CFjaCdIJzaXXesYKOFro0gKIYDA2dxXqXHKXd2YiGkyqGcoAhams5G\n",
       "QSzEQiQhdseGBauzUcQ/Z5P45u9ms2uhDzL5dvLNL2/emx0gIEJFvCVaSk7wD4khvC2aF9kq+zxf\n",
       "n9CtB6sNE+snevZIfg84R13AJalrxP7XgWJpGsI/5ZM2NBbQl1KeWfn9q/pMY44+ZWAhAHS9UZFP\n",
       "2hC5QzItJyM/pBjasSRoHti3+FxHJmO6GYUUSBuavyNpysmxYSm2+MhAow72eQ0OP3m2pkHaQKG3\n",
       "lvWDKOZY9xIjCAYpA/N8Ue2wFGi77S+Nv0XzWLkQt/S6uOkFCQNVO1eWM1dQoAtMLwOdXEd5eq1u\n",
       "At15L0gYWHxcljvTIFpI+TcUmLL588EgBa/l4Qy8IFurJnEmwvkakPFAw24/dZLTMOlmtOLNSBrQ\n",
       "aKH1jqt/UCCqAjtlDSznD8xBf+aC4scekDQgWVGgHtt+KokUTRgVUaOWLCLMZ/S/0jVlQNMxopou\n",
       "D6RBFTRF18bXN3f53GcvKEJrbkxlYCqUonOUuBeeJXBFr027JQ9ktfoo3qkzpwZk7N0XEf2qDFyt\n",
       "2WdAhrv+VLeFmtoouwdSxupp7SvCoxc+FXb8qg7kbu2bUln4VAx+9RpI30cJ3QBXXcGv+H0UFOqG\n",
       "DLlsrVIBiu6F4Ai/485+AaCGnXrUYaUgAAAAAElFTkSuQmCC\n",
       "\" style=\"display:inline;vertical-align:middle;\" /></a></span>"
      ],
      "text/plain": [
       "|- 2 in {1, 2, 3, 4, 5}"
      ]
     },
     "execution_count": 172,
     "metadata": {},
     "output_type": "execute_result"
    }
   ],
   "source": [
    "# given a known superset_eq relationship, and an element in the\n",
    "# subset, derive the element as being in the superset\n",
    "superset_eq(set_12345, set_123).derive_superset_membership(two)"
   ]
  },
  {
   "cell_type": "code",
   "execution_count": 173,
   "metadata": {},
   "outputs": [
    {
     "data": {
      "text/html": [
       "<span style=\"font-size:20px;\"> <a class=\"ProveItLink\" href=\"../__pv_it/demonstrations/2127feb76cdb201e5e162d9683b9b810b385b27a0/proof.ipynb\" style=\"text-decoration: none\">&nbsp;&#x22A2;&nbsp;&nbsp;</a><a class=\"ProveItLink\" href=\"../__pv_it/demonstrations/f74b9e6ca0da3c17e1d8da31606fbb44c20e7c4b0/expr.ipynb\"><img src=\"data:image/png;base64,iVBORw0KGgoAAAANSUhEUgAAAHoAAAAVBAMAAAB71edYAAAAMFBMVEX///9UVFSqqqrMzMwiIiJE\n",
       "RESYmJgyMjK6urru7u4QEBCIiIh2dnZmZmbc3NwAAABRgo0vAAAAAXRSTlMAQObYZgAAAZdJREFU\n",
       "OMtjYMAGchMYCALbnTgkph9gIAJ0GWAXz8cuzBnlgMzlLcCu7Agql2kllMF+AVmYx4EY3RMP/oSy\n",
       "+BVw62YLcXHHajcbTHf/BJy6maMn4HA5XDeqOFg3353bYH9Nn4Dicpgwsu7C3ZegrNO7DRh4FoAC\n",
       "/gH7B5CAHMJUcSRhJN2c3yfMfwBmPVFgLWBgA8pzLmPgDQCJBCDCeDGSMJJupp8M/BvALB8GRmAA\n",
       "1gJj7ScDC0iIeXk5EIADIOQBQhhZNzCC54PTES9EgNGbgSuAYT4o0fAh7OYA2g0TRtYNjO5+cJxx\n",
       "QdQWMoBM0wezFyD8LYokjKSbP4HhPjhoIS4A+Xu+AoM4EygsbqOkFrgwsu4GYGhAjWFQAIc56wY2\n",
       "Rx6QEIsCsm6I8HxwUuYG6gaxGBNYL4AZvAIMcw3A8c0pvfnhDnB8iHYi6YYIs3iCwkjq+zUwi/P2\n",
       "MQaI0Jm0DegpleMoZkrVxGRpEsolp+CsA5isA4R0w/M35wYMFkIIV/5mh5nPhsgpGAyGrgYchY4u\n",
       "keUaALwFeHoDRdoQAAAAAElFTkSuQmCC\n",
       "\" style=\"display:inline;vertical-align:middle;\" /></a></span>"
      ],
      "text/plain": [
       "|- a in {a, 1, b, c}"
      ]
     },
     "execution_count": 173,
     "metadata": {},
     "output_type": "execute_result"
    }
   ],
   "source": [
    "superset_eq(Set(a, one, b, c), Set(a, one, b)).derive_superset_membership(a)"
   ]
  },
  {
   "cell_type": "code",
   "execution_count": 174,
   "metadata": {},
   "outputs": [
    {
     "data": {
      "text/html": [
       "<span style=\"font-size:20px;\"><a class=\"ProveItLink\" href=\"../__pv_it/demonstrations/43831c258d1382a55342f3025ea6f9eac4c5b6b20/expr.ipynb\"><img src=\"data:image/png;base64,iVBORw0KGgoAAAANSUhEUgAAAGcAAAAVBAMAAACphe0AAAAAMFBMVEX///8yMjJERETMzMwQEBCY\n",
       "mJgiIiK6urqqqqp2dnZUVFTc3NyIiIhmZmbu7u4AAADOOTK3AAAAAXRSTlMAQObYZgAAAZRJREFU\n",
       "OMtjYMAGWK8y4ADMdx7gkOGTZMAJ2J0h9NuzG9As+oDMe+SGInkRQq3sb0DVxJmAwpVF4U2DOOb7\n",
       "cwa8mn5g0cQBc0xQWpoAFk3s/7BogikxOofdJjR7wZpYr+ReALtSDlXZ3rlHIKHLuOYs1M+cZw4z\n",
       "MEwBM/kPgCkuRBByAV3J7s0gD+G9l+P7DWZwZzAoMjDEg9n7DcAUE8IFLUCRJwEMlyC8/gcMf8AM\n",
       "tgkMK4AWg93VD5EzEQQCcEAYZQOJ+w8YcmARw/cTzLgPce6yA/DgYNiEsKkEaJMTA99nWDSxQwLd\n",
       "CeLFBSBSCyLHgtDEpQAyHBYVXxl4wYEOtQ/iJx+IHO8B5NDj+wEMjm4w7zvIfxDdDBzQ0OP7DlWa\n",
       "gRLkOgxhCybwfQTyljLoMoAZtxj4LkN9ww5LEK/UHyBpenXGek0BQxpQ6O1JoEUgBufUGFgQcCrA\n",
       "LKhUw0hGHA/QGWBNXYwBGHmG0wHOwmCANSU9xJJx4fnpDQYDnJ9ibmPJnvCcG4DBYHfHlac58JcR\n",
       "AIEKbJN49n53AAAAAElFTkSuQmCC\n",
       "\" style=\"display:inline;vertical-align:middle;\" /></a> <a class=\"ProveItLink\" href=\"../__pv_it/demonstrations/cfefa39591a26ae96ac97338cbed78ce8c6c15c70/proof.ipynb\" style=\"text-decoration: none\">&nbsp;&#x22A2;&nbsp;&nbsp;</a><a class=\"ProveItLink\" href=\"../__pv_it/demonstrations/3f56f65121096bf98813dc294768d9ace130ca0a0/expr.ipynb\"><img src=\"data:image/png;base64,iVBORw0KGgoAAAANSUhEUgAAAHsAAAAVBAMAAACUF4xmAAAAMFBMVEX///8yMjJERETMzMwQEBCY\n",
       "mJgiIiK6urqqqqp2dnZUVFTc3NyIiIhmZmbu7u4AAADOOTK3AAAAAXRSTlMAQObYZgAAAc5JREFU\n",
       "OMtjYMAGWK8yEATMdx7gkOGTZCACsDtD6LdnN6BZ/gGZ98gNi14jXwaGixDmyv4GVDnOBBSuLDa7\n",
       "fzAwTIM49ftzBrzaf2Bz+T+Ydg6YU4PS0gSwaAepxAAgJdNQFBudw247mlsggPECVDvrldwLYD/I\n",
       "oWrYO/cIJGYY15yFhg3nmcMQxt459kChKWA2/wEwxYUIfi6gH9i9GeQhvPdyfL/BDO4MBkWId7wZ\n",
       "9IFGx4M5+w3AFBPCZS1AkScBDJcgvP4HDH/ADLYJDCvADKDcRagHgNIQVSaCQAAOOqNsIHH/AUMO\n",
       "ROIiA99PMOM+LJkBGZkgehnI3ZAAZNiEsL0EaLsTA99nWLSzQ6LOCSYPlPsOsn0BiKMFEWNBaOdS\n",
       "AFkIi9CvDLzgqIO6gQEuB/G7D0SQ9wByyPP9AAZgN5j3HeRXiDkMHGDtULkpkEQH1ZSBEnE6DGEL\n",
       "JvB9BPKWMugygBm3GPgugxlgOaiv2WGJ7pX6AyTtr85YrylgSAMKvT0JtBzE4JwaA2FA5CDaORVg\n",
       "llaqYSRajgc4GRDtXYwBmAnaAc7CzYBoT3qIpbCB5/c3uBmQ/B5zG0uGgJc2AbgZDOzuuMohDmLL\n",
       "OgCYO4YR/IJSygAAAABJRU5ErkJggg==\n",
       "\" style=\"display:inline;vertical-align:middle;\" /></a></span>"
      ],
      "text/plain": [
       "{f in {a, b, c}} |- f in {a, b, c, d}"
      ]
     },
     "execution_count": 174,
     "metadata": {},
     "output_type": "execute_result"
    }
   ],
   "source": [
    "# and this works more generally, where we can assume an elem in the subset\n",
    "from proveit import f\n",
    "Set(a, b, c, d).deduce_enum_subset_eq(subset=set_abc)\n",
    "superset_eq(Set(a, b, c, d), Set(a, b, c)).derive_superset_membership(f, assumptions=[InSet(f, set_abc)])"
   ]
  },
  {
   "cell_type": "markdown",
   "metadata": {},
   "source": [
    "### `SubsetEq.derive_subset_nonmembership()`"
   ]
  },
  {
   "cell_type": "code",
   "execution_count": 175,
   "metadata": {},
   "outputs": [
    {
     "data": {
      "text/html": [
       "<span style=\"font-size:20px;\"> <a class=\"ProveItLink\" href=\"../__pv_it/demonstrations/5864577c44725e89c328e66f6b7c3750d21c63cd0/proof.ipynb\" style=\"text-decoration: none\">&nbsp;&#x22A2;&nbsp;&nbsp;</a><a class=\"ProveItLink\" href=\"../__pv_it/demonstrations/c979f7cf91ac0f593f41a8fc96386c60e74370360/expr.ipynb\"><img src=\"data:image/png;base64,iVBORw0KGgoAAAANSUhEUgAAAGgAAAAVCAMAAACdfluMAAAAQlBMVEX///9jY2MJCQkNDQ0rKysP\n",
       "Dw8WFhZUVFSqqqoiIiKYmJgQEBDc3NxERERmZma6uroyMjLu7u7MzMyIiIh2dnYAAABc0KJCAAAA\n",
       "AXRSTlMAQObYZgAAAcNJREFUSMelVuuahCAIda+GJkrC+7/qpjmlaW3frj9qJORwOeAodbmWdmvQ\n",
       "qD+sBSP9ogL1hgKrPy5vd5c5Rl46V3QTj1xbIkTnTudnZnbT9hvDy1l/bI6Fvt7xEd9k21xQ8oil\n",
       "UZ8xKYppzrokdO42c7syadbSAmHeWlvLoqRoBOqzXuYuGcbB9xeEcUTmBGTzJ92Y8TYFKKE+62xX\n",
       "HbcSxc1KPQMKea+lq/IpdRIWjnVBKFB6qKdAJdOdlKAQlXMoJCHhwrQr6BRLjO0pHe6BvPCZdoBU\n",
       "M5Ykv/CgUqZFaI1NRy+MgUD3smhLngKqnRpmp+diQwifH+sjHEWDWd0CIY4azL6817AmaCOXkdeA\n",
       "mVNEPF129wgonnHm7JiTzUzI4WrbRqRs10RJy90ATbjbLkuyTgEqU2XJMjxIjlH5LhN3rFsyD2IN\n",
       "ZF3FRC629apHtsoVTHq5AYrbcSrtqGZY5xpqqETKmMEIUozcWCb97ukKCLWVkG8MACoNmxdUorWo\n",
       "uE5a3zl5nkBv7ACuRtBRGnoiugNy/fRjOzDwSHQDRG4QZH8fUXwiUqMr6FXt0Z3d37ADLTO+Yf1V\n",
       "5obS6X//GX4AIQoY9pSpst8AAAAASUVORK5CYII=\n",
       "\" style=\"display:inline;vertical-align:middle;\" /></a></span>"
      ],
      "text/plain": [
       "|- 6 not-in {1, 2, 3}"
      ]
     },
     "execution_count": 175,
     "metadata": {},
     "output_type": "execute_result"
    }
   ],
   "source": [
    "# given a known superset_eq relationship, and an element NOT in the superset,\n",
    "# derive the element as NOT being in the subset\n",
    "superset_eq(set_12345, set_123).derive_subset_nonmembership(six)"
   ]
  },
  {
   "cell_type": "code",
   "execution_count": 176,
   "metadata": {},
   "outputs": [
    {
     "data": {
      "text/html": [
       "<span style=\"font-size:20px;\"><a class=\"ProveItLink\" href=\"../__pv_it/demonstrations/28d07de3e15163755f22862ababb64b5a1860ac70/expr.ipynb\"><img src=\"data:image/png;base64,iVBORw0KGgoAAAANSUhEUgAAADEAAAAUCAMAAAATIyWrAAAAOVBMVEX///8kJCQNDQ0oKChUVFSq\n",
       "qqrMzMwiIiJERESYmJgyMjK6urru7u4QEBCIiIh2dnZmZmbc3NwAAACwiO0fAAAAAXRSTlMAQObY\n",
       "ZgAAAM9JREFUKM+1k8sSwyAIRW3rKyqC/v/HVsiiGluTLMoiM+pcDlyIUqvApO5FCd0hEXlvTxQ6\n",
       "dgLNzBrXCN8dSAoEWCP6GsDJVS1XESrUJArJUggpw2TLtzad6CIUTvGxNEi8nvylQRArsgmwcWP+\n",
       "EkKLCQJy+fBo9SygnQicPdVjRj+bkndBktJMVWMfD9i76UiGBaU0hWHXgjJD0jAhLAqn3fvWwdZa\n",
       "wsEUmqbjEJG0k4XJ2Radh40J03RClXA/xm3o5pZ/QZyEwb8j1PK3eQOFDggVTu+ACgAAAABJRU5E\n",
       "rkJggg==\n",
       "\" style=\"display:inline;vertical-align:middle;\" /></a>, <a class=\"ProveItLink\" href=\"../__pv_it/demonstrations/3d449b4149b792f7c4e5434dde800b8f1f5a40c20/expr.ipynb\"><img src=\"data:image/png;base64,iVBORw0KGgoAAAANSUhEUgAAAC8AAAAUCAMAAAAqRJTwAAAAOVBMVEX///8kJCQNDQ0oKCjMzMyY\n",
       "mJjc3NyIiIhUVFR2dna6urqqqqpmZmYyMjIiIiIQEBBERETu7u4AAABpMeEWAAAAAXRSTlMAQObY\n",
       "ZgAAANRJREFUKM+1UskWAyEIs61VVHDh/z+2wnRxqt0O5cAbmRBixJjXEdqq2mrJS7ijEYVYq92+\n",
       "CZd4iAMcZB5vFU5L+jocUKWVIjnyUifY4bBJBnYyJn+kN6ScwMJB4D1OkqqdObJ0NabWk7uZSBqn\n",
       "o+S9EZFDz0lHsf+CHvTqYnPT1kdYmOGID/fjk6fVTXB/Fcdn6b17qvoPZbvFMCUJ3HUaebRWzjsu\n",
       "muit6vW9Dh1an4yYFsTlEAJC1k3yYc9uaHpwYo31YiY0PwW1n+Ap/JXexHc/L2UoCMA/J5W5AAAA\n",
       "AElFTkSuQmCC\n",
       "\" style=\"display:inline;vertical-align:middle;\" /></a>, <a class=\"ProveItLink\" href=\"../__pv_it/demonstrations/6d078cdd4489382d341e57316e5519e812adf1b40/expr.ipynb\"><img src=\"data:image/png;base64,iVBORw0KGgoAAAANSUhEUgAAAC8AAAAUCAMAAAAqRJTwAAAAOVBMVEX///8kJCQNDQ0oKCi6urqY\n",
       "mJgQEBDu7u5mZmZUVFQyMjJERESqqqoiIiLc3NzMzMyIiIh2dnYAAACLQYzIAAAAAXRSTlMAQObY\n",
       "ZgAAAMNJREFUKM+1U8sSwyAItK1R8A3//7GNOJ2aapzkUA7OgOvCAip1bmTVHUuucyyA93mJR93B\n",
       "seZjvaL3nQNSmjEr+j67iRLidI1eObaCbxxUSvnVMhMX5VWKYb/+NIOc2OtZTzjANZO8qieGC/Qo\n",
       "0nkyloxjDFo24ydq/diI0uC2FfVdglr3wzQVXZZQ4Wmn4a35h/YN9FlYyx4HlPXo9WkYphGJCFCm\n",
       "RrRt5XDrhg44FovT0Qa4tccT+qUF+iu9Wn0K9QYuKQcocUqbOwAAAABJRU5ErkJggg==\n",
       "\" style=\"display:inline;vertical-align:middle;\" /></a> <a class=\"ProveItLink\" href=\"../__pv_it/demonstrations/db91c86a08b873dbff1f1ad25b250dcc2e5a22350/proof.ipynb\" style=\"text-decoration: none\">&nbsp;&#x22A2;&nbsp;&nbsp;</a><a class=\"ProveItLink\" href=\"../__pv_it/demonstrations/50e4a1c73335af4b89e1859cef065e09b561d8f80/expr.ipynb\"><img src=\"data:image/png;base64,iVBORw0KGgoAAAANSUhEUgAAAGcAAAAVCAMAAABsdQABAAAARVBMVEX///8/Pz9vb28YGBgNDQ0r\n",
       "KysPDw8WFhaYmJiqqqqIiIgyMjLc3NwiIiIQEBC6urp2dnZUVFTMzMxERERmZmbu7u4AAABfBXdG\n",
       "AAAAAXRSTlMAQObYZgAAAahJREFUSMelVteWhCAMZbtUKQn//6mLwQKC4uzmwXPMJN6Um2QYuxRf\n",
       "v04wsdfFg8CBiS5fUFr2N5lNDhgBQvCdSFyVTXzp4xjMHiZI0iyfs3FuTKFSWX33WW6a4kioXYEs\n",
       "jLkv2x0OOutigxN57Zrzc1GVRQpa/3zL5/lMDc58aLKrJIWLR4d8WCgSFPsPTmFfuurDECXS88JP\n",
       "gQVxbkeLI50QkEtnTZHlwVpHiQhR+zm5sVQtNRjlgzFFi7kZBVV1weGQ48ETodYhMMuwQhjhcFJE\n",
       "UVMPoBgbI5N8faZH0TG9dgvIX4sRDs0MblVy2UEUMExRrJb3h9oE8vcjHEphXrktc7X4olM7vUw7\n",
       "PEtIge0R8jjkW5z25Lf+eEpO7DiQcpyBdXmKFGHiBFcDnHnr5cY3pa214EqOc+Z8H4eFFMSUWGOJ\n",
       "UvuvIuMcKpcgAtRzSqLLPRI+8AIH01h45cSy+7RercCZKOlq7CoEYafhiL+/pcWjh3uH4xPVDc5p\n",
       "55yG+tA9Ul3jYOhtsNZMPFFt96cjoneg23vasZq693S+Klv/lv3r/8EvVaYZqxX4LtoAAAAASUVO\n",
       "RK5CYII=\n",
       "\" style=\"display:inline;vertical-align:middle;\" /></a></span>"
      ],
      "text/plain": [
       "{a != 2, b != 2, c != 2} |- 2 not-in {a, 1, b}"
      ]
     },
     "execution_count": 176,
     "metadata": {},
     "output_type": "execute_result"
    }
   ],
   "source": [
    "superset_eq(Set(a, one, b, c), Set(a, one, b)).derive_subset_nonmembership(\n",
    "        two, assumptions=[NotEquals(a, two), NotEquals(b, two), NotEquals(c, two)])"
   ]
  },
  {
   "cell_type": "code",
   "execution_count": 177,
   "metadata": {},
   "outputs": [
    {
     "data": {
      "text/html": [
       "<span style=\"font-size:20px;\"><a class=\"ProveItLink\" href=\"../__pv_it/demonstrations/48daf3bce2eb15547131de4ef2697e97c206f46b0/expr.ipynb\"><img src=\"data:image/png;base64,iVBORw0KGgoAAAANSUhEUgAAAHsAAAAVCAMAAABR52FnAAAAQlBMVEX///9jY2MJCQkNDQ0rKysP\n",
       "Dw8WFhYyMjJERETMzMwQEBCYmJgiIiK6urqqqqp2dnZUVFTc3NyIiIhmZmbu7u4AAAADO/pvAAAA\n",
       "AXRSTlMAQObYZgAAAe9JREFUSMetVtmShCAMZE/uQxL+/1cXGNQAMmtNDQ9aRnJ00gkwtl5y+Nag\n",
       "2TuWhIj/7THdF3LP3rWsIrgQImxjeKFHnZamUChzE7JQUN7AT1nwLrlhH9ju0z8zz+Eu5IcbYgyT\n",
       "Rfs85c99T4Evs51wMObGfGphfn8Mv+u7WbyxmhVibLArRSai2O7j9uZuyltxDgUNygBQRmN5rOxv\n",
       "4CGqDigPMcKQdh9j7Lo060XZiuPVWa5IN4WCOMbBd+B7f+TfvCsSphwtJpqozWQngnd9lf+LVpyz\n",
       "abbUBSgqlKGCrrUkqjJgQHT/qsUOgCnDIJBUND0+NkZPNak4599f+cEJA0xDBdWP6bJSLWIiswcm\n",
       "8jW9Y09oJnqqbAWTd4tRpET1IycCWdpnSowka3r2YMie5H6Cqbm5S6CCHeiGnkx6gNrlgF3onfVW\n",
       "Pa8gMguLPsKKLvPOEWYVNI96dtFkX8R3p3fw/MzEThQX5KqHRY5Tm8B8pXdLSfYkgBEJhHpIyFNC\n",
       "9GiV7TjVMHxaXPjG3MpyC7GEawzuJ5F/AN0lzHutI5VQPeLbT8TQH14Y8/9MdfiK5DDmAuPTlWCc\n",
       "p8MoOmUvSQ7fRkzTM5/HF9svzm+Mr0jO81vPlwYWL+9G871l3nZHUoeFXR024lrs3nxf+wOnDxuR\n",
       "3iEovAAAAABJRU5ErkJggg==\n",
       "\" style=\"display:inline;vertical-align:middle;\" /></a> <a class=\"ProveItLink\" href=\"../__pv_it/demonstrations/f3024d7ddf197bd3ee44561f30a3fcea802797b20/proof.ipynb\" style=\"text-decoration: none\">&nbsp;&#x22A2;&nbsp;&nbsp;</a><a class=\"ProveItLink\" href=\"../__pv_it/demonstrations/779d6449249c02e92249c646dcc0ab833ff884e80/expr.ipynb\"><img src=\"data:image/png;base64,iVBORw0KGgoAAAANSUhEUgAAAGcAAAAVCAMAAABsdQABAAAAQlBMVEX///9jY2MJCQkNDQ0rKysP\n",
       "Dw8WFhYyMjJERETMzMwQEBCYmJgiIiK6urqqqqp2dnZUVFTc3NyIiIhmZmbu7u4AAAADO/pvAAAA\n",
       "AXRSTlMAQObYZgAAAbRJREFUSMelVtl2hSAMpCv7YhL+/1eLVCsBUdvy4LkESCbLJFeI+dLd3qIV\n",
       "v10age7uOLYjGcVfljcNXkLApYeSuDd5qoqUcXNDKI/fKYYc+nPPtvFClZA4P2seUvbkr8N2bWcA\n",
       "ef4w9DGxyn1+OPnUjs/0yE6nQ6tSJGp57s+lrz+HFo1DbCuL1s/s+oIRwTAHZALALnQRAGqlRXOE\n",
       "F9obafUEoLOT5F6n5ViyQFMuyCi3AVhcMaskL9QlM0qqCrGLeNhoQGYlKyp2VtPDwLqVbCnwYuRl\n",
       "oI2U8v2tfGSTMbehxarTwcAQyg2PkRVG2q7zNC4r1hgmtDaq6tQDe3xb20ax7O2B4sw3I3lWUEr8\n",
       "oO54kG3nAvPtyI/hOUcQHiflSRV1qYnQZD37PW/McsHD6o1y1wtcSHpGA1UwWZdErGW2uVq0KhSN\n",
       "BFNtmpplxffdgNKrp4kdKlTRS4IVmnO0d+H47cAuETFaCx3xoup12peonLvvO4HuJdvDkIQcxlff\n",
       "czpaH7IHks2OU0OHKfPkpE2dzB+Ce8k+f+w44ASczudxno7X7Nk89bMOq87F4R//D74AcaYWwvl0\n",
       "iUAAAAAASUVORK5CYII=\n",
       "\" style=\"display:inline;vertical-align:middle;\" /></a></span>"
      ],
      "text/plain": [
       "{f not-in {a, b, c, d}} |- f not-in {a, b, c}"
      ]
     },
     "execution_count": 177,
     "metadata": {},
     "output_type": "execute_result"
    }
   ],
   "source": [
    "# and this works more generally, where we can assume some elem not in the superset\n",
    "# which means it must not be in the subset\n",
    "from proveit import f\n",
    "Set(a, b, c, d).deduce_enum_subset_eq(subset=set_abc)\n",
    "superset_eq(Set(a, b, c, d), Set(a, b, c)).derive_subset_nonmembership(f, assumptions=[NotInSet(f, Set(a, b, c, d))])"
   ]
  },
  {
   "cell_type": "markdown",
   "metadata": {},
   "source": [
    "### `SubsetEq.conclude_as_folded()`"
   ]
  },
  {
   "cell_type": "code",
   "execution_count": 178,
   "metadata": {},
   "outputs": [
    {
     "data": {
      "text/html": [
       "<span style=\"font-size:20px;\"><a class=\"ProveItLink\" href=\"../__pv_it/demonstrations/0710c1d1b6b0f3b24a85a4cd0b7f77cfce4e971e0/expr.ipynb\"><img src=\"data:image/png;base64,iVBORw0KGgoAAAANSUhEUgAAAMoAAAAXBAMAAAC4681qAAAAMFBMVEX///8QEBCIiIhmZma6urrM\n",
       "zMxUVFQiIiJERETc3Nzu7u6qqqp2dnaYmJgyMjIAAAAcRTyBAAAAAXRSTlMAQObYZgAAA0ZJREFU\n",
       "SMetVU1oE0EU/vKz+dls0oIUrafQQoTqoVS8iNRUDyJ4SBW0QiEhKFiwJXgp/iDBCk3xYFDQXrSr\n",
       "hSJF2kAPUpE2xoNSRYMK7UUN+HOoWEKpYFMV38zuJrMhsRE7MDvvvdmZb+a9770B/ru9yVadOtLy\n",
       "79vdqmidSP9lSUcI8CSBHFPe1QIixyuaP1C/t7mkd20SJm1s+x7gOVMWa0HxJSuan7LPR8GwJshK\n",
       "jN0WGKbBHa/J/6iOIuxsL5SjKH74VBpStaCcNWkL/f25Ioq4M9/YpMj18M6Nj9+sBcQtrkZXi3gX\n",
       "cWdfazkKPgE/EokLtaBYabXc1LMvw5mwaPKYL9qsu+N6JqxLnrbtcSj1THwCnASGTNt1Z+1LReVw\n",
       "0ZkuSov7mPdfZIqjxIQ+6pOL8qoWlEZcVTX7M4y0wptn4ntgP+ScyTNbObjRThuCk/Dm8Eo9yCGL\n",
       "854G+syqWObanSzadXsBdSmdfA9oNaxG8sqPdmbhIcyvJZQZQ7AEARUJTelcosYOJw2yW7VD/snt\n",
       "e1Xo7rfEEaZbOc6QHKYAZZ1F3kyPg6OsVkGBfmTOf524DTxd7BqXt0Be0ezhLLbR8AUaijt3lITM\n",
       "rkDIztlBKNJygDnXmwkIKMxjkL7rkKVjnKL+CzbOZbqRJ6+XhCQGoMflAPWhE0Qgtc8Z9EFHsZ5j\n",
       "hEKA/TcjRv+hNQ9OYZvfxLEVFhCGsgZHbpqbZ3mqahyj6GOKOC3hGzDKpx1puPxecpt7FVcongab\n",
       "lFZyiyvv1oJ43oTSS+eRf5NwCfORNJcmk46CkS97qNfxc1EojiUSCb80wEJgi9BtY6D/JCOZ7DHI\n",
       "0ZZmvbCOXVYFlNEdhN1PlrGm49Egl+zRFzED5TNzP/tfyktwGHepUy0UBCUi1Qt3KaswhwaFCqO5\n",
       "WjVLrlajwhiVYUTJKVBCelyc6gKGVU/EERHiUq1aPi5WE4hSCJPBUrXUHfA2MwcWBo1jp9PoTKHt\n",
       "ZVZEcSWrvi+83YUgKQVGHe19mSgrVRQXni+skc8sIRGlyivmM97K0sNMkr2XV7YOlmRDFVbpKJ7k\n",
       "DY4ws96LjKl13n1vJR/IjXzw4vbr3WId2+B2TTxbd2ojtvwDjBjuBDjNqdAAAAAASUVORK5CYII=\n",
       "\" style=\"display:inline;vertical-align:middle;\" /></a> <a class=\"ProveItLink\" href=\"../__pv_it/demonstrations/a4cd720e3ea5ffdb4441309ec497bad5661740b00/proof.ipynb\" style=\"text-decoration: none\">&nbsp;&#x22A2;&nbsp;&nbsp;</a><a class=\"ProveItLink\" href=\"../__pv_it/demonstrations/f7cf84fd44881dda249b185e6bc4a23413f2c4980/expr.ipynb\"><img src=\"data:image/png;base64,iVBORw0KGgoAAAANSUhEUgAAAJEAAAAVBAMAAAC01xHeAAAAMFBMVEX///+IiIi6urrc3NxERETM\n",
       "zMwQEBCqqqpUVFQiIiJ2dnYyMjLu7u5mZmaYmJgAAABN0h6tAAAAAXRSTlMAQObYZgAAAlBJREFU\n",
       "OMuVVL9rE3EU/3hNvGt6JqlQxKKQKbhIM7oZEboVOrg4SEV0cJEM4qS0GUWoFR08cMggLXHQoouI\n",
       "gRPEpWgaF8GCxr+gtR0Eexbfj/vxPS4n+IUkj/e9z+e9fN7nHoDyN+SeSydGJDOA4sDnH/cN/nHq\n",
       "85nUCIB1TSrs0OXsSlJgdtN45sh6tiUCvL+ezm3xV4lJJgx0pWU8UtISG57nnTNTvTRTN74w0TN+\n",
       "lonPp5dG6lcek4nuYjQTNhpxygrymEx0L4+puB6nzHSa6fXkF02NfZ2KGr8zeZNuLxvPv4qZJton\n",
       "Qz3swbEmsMqhQ5Xcfb+vrdcbhbDxUnPsjw4qPmuIAP237p7mnuIsTWubw1vkGDtApSpeuRHPfdEX\n",
       "Wc3/+hkRgC5/akuBTItnf+GhuqbfEfsEGO8o7CqK3J3zIGGSGgLYgvtbUoebWOBp3a2qi4lyphVe\n",
       "9Gsq7wEOiYIJkb0U274HS+VcGOI4+5GvHBKsMsR38QF1thg6eQ+FzbROF9UqDDjg7vlsNzCHUCce\n",
       "RaVGAglTC/ds0d7eEQGS2bmnzyfG2MWHoaqpJl2NLpwh1e+TDIVq+XFJIprNfd98Wx6tGRZbpk7c\n",
       "fS7dcALTT+7gOTD+hIL21JmjEuHUdBdZC4apj9PUkkeVrPazlZQz5dxGOprLZ9IJiG6sZsgUK9GB\n",
       "ERXh7uYwRYASfeZ11t1o3aikVRjRC1+KhT7lreJ5S0gB3hFZIJ3rfkK0AsvJLmOZfsibWK9l92gE\n",
       "IKmsZXn/rCv6d/93j9sj9/hfiku26R8tdZkAAAAASUVORK5CYII=\n",
       "\" style=\"display:inline;vertical-align:middle;\" /></a></span>"
      ],
      "text/plain": [
       "{forall_{x in {b, g}} (x in {b, d, g})} |- {b, d, g} superset_eq {b, g}"
      ]
     },
     "execution_count": 178,
     "metadata": {},
     "output_type": "execute_result"
    }
   ],
   "source": [
    "superset_eq(Set(b, d, g), Set(b, g)).conclude_as_folded(\n",
    "        assumptions=[Forall(x, InSet(x, Set(b, d, g)), domain=Set(b, g))])"
   ]
  },
  {
   "cell_type": "markdown",
   "metadata": {},
   "source": [
    "### `SubsetEq.apply_transitivity()`"
   ]
  },
  {
   "cell_type": "code",
   "execution_count": 179,
   "metadata": {},
   "outputs": [
    {
     "data": {
      "text/html": [
       "<strong id=\"set_13_subset_eq_set_12345\">set_13_subset_eq_set_12345:</strong> <span style=\"font-size:20px;\"> <a class=\"ProveItLink\" href=\"../__pv_it/demonstrations/9130873045a468c75a08bc7d8be7baf0bb401f020/proof.ipynb\" style=\"text-decoration: none\">&nbsp;&#x22A2;&nbsp;&nbsp;</a><a class=\"ProveItLink\" href=\"../__pv_it/demonstrations/bd5f754644d42135fa4eeda72d66930fc457db180/expr.ipynb\"><img src=\"data:image/png;base64,iVBORw0KGgoAAAANSUhEUgAAALkAAAAVBAMAAADoXVL6AAAAMFBMVEX///+IiIi6urrc3NxERETM\n",
       "zMwQEBCqqqpUVFQiIiJ2dnYyMjLu7u5mZmaYmJgAAABN0h6tAAAAAXRSTlMAQObYZgAAAn9JREFU\n",
       "OMudlc9r1EAUx7/pWnc3TUr/AKF76jngxR9Ue/AiCObgSSgU0aIgdE/ioUL1INRDV5GCAcWARWpB\n",
       "CHhQCrVZ8LB66RYUhDZlvYgnFQWhPzDOTCbJm8x2Kb7D5O2b9/3sZPLeDIDBLRRs/Ah009N6Wv96\n",
       "yB/Wsj414mqhbmk9re+KWNNPGistLdQBO9CXrqRZ0RmXCuQ7y+fbcJzFNrhr3mdD+bqcGEX5r4xx\n",
       "++Z53jyyNNwIk3gL5i8qSOyRfE7FO2x8kcpai3tyYriO7Zx+8lm2Wh6y7jUkfROYpAJhxlXpLN92\n",
       "KB2DKX2kht2c/goKHfgh6deAhkMEwk69kc6MGLvQQXfGru9HXw3RcIlAmH8A+nufxSaEW8V+dGZP\n",
       "QyIQ391J6XNfPrHxOXcrgUI/8STMCuQYoYs0Qu/boQJuTaT0czhdY7miDFx17cYlNqwI9x2hizRC\n",
       "r84oAr4xGR04xN50oA1ceAiVjklGqDwo7EySRuiRKmDb7xK6/ZsNs0OyLzP6UeA8+5ZJnjlUbN+M\n",
       "brRVAfAhVfFN5N0wwN+uMkbpcciT08Z8TfZ9TKHfQskhAmY3o+jPuggdDmDvyX1Xa+ayKAZZM2jd\n",
       "CbvXTL8PwyGCxGQ32WxPA1kzQmYw+hqviu/qSXDxrHoSDIewePMcX3o5SwRrgfwnMVlq46tD6t2+\n",
       "u7uF6mNeaNHHGqEX6v3z1EoHHlvqahxvE4HwsBDPiUmMLm4q3SRsutA6Oj3pzVAXTOuTkj6R/vR7\n",
       "0rM0E7rA1ycTenZwW3n9yfPd9LzsBM7P9yY0Qe41c/pGcl6m9wMp7pp+12R3UweaIPc6+d2UtHD5\n",
       "YPdq+T/u1X8KnONfBIhgiAAAAABJRU5ErkJggg==\n",
       "\" style=\"display:inline;vertical-align:middle;\" /></a></span><br>"
      ],
      "text/plain": [
       "set_13_subset_eq_set_12345: |- {1, 3} subset_eq {1, 2, 3, 4, 5}"
      ]
     },
     "execution_count": 179,
     "metadata": {},
     "output_type": "execute_result"
    }
   ],
   "source": [
    "# establish a SubsetEq judgement: \n",
    "set_13_subset_eq_set_12345 = set_12345.deduce_enum_subset_eq(subset=set_13)"
   ]
  },
  {
   "cell_type": "code",
   "execution_count": 180,
   "metadata": {},
   "outputs": [
    {
     "data": {
      "text/html": [
       "<strong id=\"set_12345_superset_eq_set_13\">set_12345_superset_eq_set_13:</strong> <span style=\"font-size:20px;\"> <a class=\"ProveItLink\" href=\"../__pv_it/demonstrations/ef01f4707c571a2df87d2e155470811bbb356dfd0/proof.ipynb\" style=\"text-decoration: none\">&nbsp;&#x22A2;&nbsp;&nbsp;</a><a class=\"ProveItLink\" href=\"../__pv_it/demonstrations/3f5e8ae0228e7f0fda245906e16ea484e7fbd7630/expr.ipynb\"><img src=\"data:image/png;base64,iVBORw0KGgoAAAANSUhEUgAAALkAAAAVBAMAAADoXVL6AAAAMFBMVEX///+IiIi6urrc3NxERETM\n",
       "zMwQEBCqqqpUVFQiIiJ2dnYyMjLu7u5mZmaYmJgAAABN0h6tAAAAAXRSTlMAQObYZgAAAnhJREFU\n",
       "OMutlUFo1EAUhl/abtPNJtmevNqTNyFXBbWIIIqHPXiTgogVBaF7Kj1YXEGEKnQLemhEMAdZugVh\n",
       "wYsWtKmnogdbUBDclPXiRWRFwWK7sE7evJlMNpNDwTkkf17+92Xy8mYCAO4OHGQUtkNN9EdHb7PX\n",
       "4GBjaDobex/k2NyfasyOzlS4Or56Vkan6PwmnKoCfMnSu6krnoo2a4kdzJt0YxOsXyiGt+C2fNtl\n",
       "Os/099ixyefxyvcfjdMNDM1SySi1KeibKz2ytQGuoTB2obxEQeM6ibU7nqTjE75PSLp9v050SpV0\n",
       "cAX9BkDdw7JdgXKLgidfkqglEyX8C2XuXaJTqoa+HkKdCp9UJsilwyUNnVI1dDaeksl+TAHXE/TF\n",
       "r5/YsaHQS56OjqloG2ul6UN79G2abYpsgKBfgFMT6Qaxqnh6kKLzVLTNVtL0Yk2oQ/TJAkkHGGFv\n",
       "WtpK6A56zOmBysSpse3iQ0jTI6lGeZuaFYXu/GaHhfGkMrguz3kDdEyNbUfSczdoYsMejOyiegeC\n",
       "zooYr4ZSLZn7nLIuBZ1S0TY2maLPxzfZKPcEfS6K/mzzGbXA6aXqXnjCz3dVOqV2sz1TCMBA+ugk\n",
       "FOUjaTU57Ku01J55+9HTdCSlNiTdYFcf4uY5tvp8AZXbYU1r73P/VUDFlvg3T90JzlfVneBwyG2Y\n",
       "qvS7c29/B4rxW673+3+5OhqdBvBxOs/6i1ydWGkPrCaF/nnmdYfbMFVZTThuQUaZYVbl0bU267K4\n",
       "TPZoqSzIKh29kWeT+7stuzhRG5BVtL/Hdff95YH9PWMT/yZXxhPV0Si2BWZGKcizmf/jvzqv/a/+\n",
       "A6P65cdclTY/AAAAAElFTkSuQmCC\n",
       "\" style=\"display:inline;vertical-align:middle;\" /></a></span><br>"
      ],
      "text/plain": [
       "set_12345_superset_eq_set_13: |- {1, 2, 3, 4, 5} superset_eq {1, 3}"
      ]
     },
     "execution_count": 180,
     "metadata": {},
     "output_type": "execute_result"
    }
   ],
   "source": [
    "# establish the superset_eq relation by reversing:\n",
    "set_12345_superset_eq_set_13 = set_13_subset_eq_set_12345.reversed().prove()"
   ]
  },
  {
   "cell_type": "code",
   "execution_count": 181,
   "metadata": {},
   "outputs": [
    {
     "data": {
      "text/html": [
       "<a class=\"ProveItLink\" href=\"../__pv_it/demonstrations/3f5e8ae0228e7f0fda245906e16ea484e7fbd7630/expr.ipynb\"><img src=\"data:image/png;base64,iVBORw0KGgoAAAANSUhEUgAAALkAAAAVBAMAAADoXVL6AAAAMFBMVEX///+IiIi6urrc3NxERETM\n",
       "zMwQEBCqqqpUVFQiIiJ2dnYyMjLu7u5mZmaYmJgAAABN0h6tAAAAAXRSTlMAQObYZgAAAnhJREFU\n",
       "OMutlUFo1EAUhl/abtPNJtmevNqTNyFXBbWIIIqHPXiTgogVBaF7Kj1YXEGEKnQLemhEMAdZugVh\n",
       "wYsWtKmnogdbUBDclPXiRWRFwWK7sE7evJlMNpNDwTkkf17+92Xy8mYCAO4OHGQUtkNN9EdHb7PX\n",
       "4GBjaDobex/k2NyfasyOzlS4Or56Vkan6PwmnKoCfMnSu6krnoo2a4kdzJt0YxOsXyiGt+C2fNtl\n",
       "Os/099ixyefxyvcfjdMNDM1SySi1KeibKz2ytQGuoTB2obxEQeM6ibU7nqTjE75PSLp9v050SpV0\n",
       "cAX9BkDdw7JdgXKLgidfkqglEyX8C2XuXaJTqoa+HkKdCp9UJsilwyUNnVI1dDaeksl+TAHXE/TF\n",
       "r5/YsaHQS56OjqloG2ul6UN79G2abYpsgKBfgFMT6Qaxqnh6kKLzVLTNVtL0Yk2oQ/TJAkkHGGFv\n",
       "WtpK6A56zOmBysSpse3iQ0jTI6lGeZuaFYXu/GaHhfGkMrguz3kDdEyNbUfSczdoYsMejOyiegeC\n",
       "zooYr4ZSLZn7nLIuBZ1S0TY2maLPxzfZKPcEfS6K/mzzGbXA6aXqXnjCz3dVOqV2sz1TCMBA+ugk\n",
       "FOUjaTU57Ku01J55+9HTdCSlNiTdYFcf4uY5tvp8AZXbYU1r73P/VUDFlvg3T90JzlfVneBwyG2Y\n",
       "qvS7c29/B4rxW673+3+5OhqdBvBxOs/6i1ydWGkPrCaF/nnmdYfbMFVZTThuQUaZYVbl0bU267K4\n",
       "TPZoqSzIKh29kWeT+7stuzhRG5BVtL/Hdff95YH9PWMT/yZXxhPV0Si2BWZGKcizmf/jvzqv/a/+\n",
       "A6P65cdclTY/AAAAAElFTkSuQmCC\n",
       "\" style=\"display:inline;vertical-align:middle;\" /></a>"
      ],
      "text/plain": [
       "{1, 2, 3, 4, 5} superset_eq {1, 3}"
      ]
     },
     "execution_count": 181,
     "metadata": {},
     "output_type": "execute_result"
    }
   ],
   "source": [
    "set_12345_superset_eq_set_13.expr"
   ]
  },
  {
   "cell_type": "code",
   "execution_count": 182,
   "metadata": {},
   "outputs": [
    {
     "data": {
      "text/html": [
       "<strong id=\"set_12345_subset_eq_set_1234567\">set_12345_subset_eq_set_1234567:</strong> <span style=\"font-size:20px;\"> <a class=\"ProveItLink\" href=\"../__pv_it/demonstrations/ab055fd25ee32e692fd8d06341adab8824c661490/proof.ipynb\" style=\"text-decoration: none\">&nbsp;&#x22A2;&nbsp;&nbsp;</a><a class=\"ProveItLink\" href=\"../__pv_it/demonstrations/5cfd04593f360571eb78560d957e5ef0f5313e820/expr.ipynb\"><img src=\"data:image/png;base64,iVBORw0KGgoAAAANSUhEUgAAARsAAAAVBAMAAACEflfWAAAAMFBMVEX///+IiIi6urrc3NxERETM\n",
       "zMwQEBCqqqpUVFQiIiJ2dnYyMjLu7u5mZmaYmJgAAABN0h6tAAAAAXRSTlMAQObYZgAAA6tJREFU\n",
       "SMetll1IVEEUx8+633s/FAIfCml76alooacCa4kihKJ96CkQpLIPKvQl6SFpg4o01IV6cC1oBRFd\n",
       "iPYlCCFbX0KSUKNQzNWNoJc+FKU03brNnTkz92tXFB2We889O/Of3z0z58wFAHUGNtK849ki3h95\n",
       "2GRDXXlgg+PK6p2+kRRsujFddd7sk3NHY8w6mD4uvLV4H8zWNgJ8ckrNWZ7efTgGDhHvGLtL370T\n",
       "6Orezubydk6l06gbSpCL/yr2GIbQAjXcY3BLLEAn3hu0FXLtxye1JZlMMkHqasJVlOPwPOwQCcbZ\n",
       "3adpGMqRsJJhQpqmLaOIjjPcV8BB0wAXqOFagvIEOl2X0Bi4HTFw3AMREQ/ikls7EEfJgq/OIVKJ\n",
       "OFLfNvScBE+UDSBCcRMOqBznMkAHnaXsLJRn0HnoJRpxIxRE16BhrjnE8SUgsAg2Efc3xAmIvbLI\n",
       "rRD5xYrivM5CB24eI86pojgTUAJHKkDgF9hEQpIdx1NnEtgFRXFIe8q3QBffIxGO0/75I7n2sodE\n",
       "KRx9o3A9IfJF4PysYu9b/qL7vRgQ5bqBjBWnbAWj2z+NniHgOCfgcJinkTtuwnlgw9mXsonIFRzH\n",
       "k3WzZBkdhGAjX648T8+mmBUnKKapDONaCRwiRmIi0ZSVowaNv96G0wk2kRBIBn4Nw5kHhSf0KF1k\n",
       "onv6IVhxcsLysc7+mAlH0fdfS4V1sbw1ESuOMmYXuW7GmaXdSc6pC+jZQa+67m5rdFyo5I6AZ4la\n",
       "b4HjkHXVqxIKd9sLqoFTBTYROSVwyLqyqhTMgPoPOz6i0dF7BKIWnGZdQ2cvcJwbudzvcfamGVAK\n",
       "ogRLjQbPHQuOfwz2g0XE35abvUZjCldIdGjHQJ0RnWVR2q2Z5U2Bi+L4okZ6AJZBhb4Szyz5/p4S\n",
       "mXUGgJU6s4gPo0Oi/5hNVQAFc937F3hmURwXGTSqp9iB9LMWaql5UjLkVdb9PFCL1PyvEeOQ8PZY\n",
       "D4mdWezWlZ5MUMssQtDoDNWgnmNWK7xpZH/6V8Bcd5R7qzMQfKKXQU37w6y9uSMASfrCPVo7s6r7\n",
       "pk1nlq3uTDa8ytNuEjmCEmyAIRI6tZynuu6ptiybITR1F/90X7TgsHYTHJY/67RK4ZQcYFhrzoA4\n",
       "olYb3ywp02nisIrh9K41IATrmoHpiu8duQIc1hA4Lf69059Mir0zt9aAIVjXDKjLvwZV4TesfBGL\n",
       "HNOOJqXWGJCHdc2Auv6t+FZu3ppv5f9DnVEV8l0jzgAAAABJRU5ErkJggg==\n",
       "\" style=\"display:inline;vertical-align:middle;\" /></a></span><br>"
      ],
      "text/plain": [
       "set_12345_subset_eq_set_1234567: |- {1, 2, 3, 4, 5} subset_eq {1, 2, 3, 4, 5, 6, 7}"
      ]
     },
     "execution_count": 182,
     "metadata": {},
     "output_type": "execute_result"
    }
   ],
   "source": [
    "# establish a related proper subset judgement:\n",
    "set_12345_subset_eq_set_1234567 = set_1234567.deduce_enum_subset_eq(subset=set_12345)"
   ]
  },
  {
   "cell_type": "code",
   "execution_count": 183,
   "metadata": {},
   "outputs": [
    {
     "data": {
      "text/html": [
       "<strong id=\"set_1234567_superset_eq_set_12345\">set_1234567_superset_eq_set_12345:</strong> <span style=\"font-size:20px;\"> <a class=\"ProveItLink\" href=\"../__pv_it/demonstrations/d217754ceb38edfb71c9d7d9fd72dfcb8fc988080/proof.ipynb\" style=\"text-decoration: none\">&nbsp;&#x22A2;&nbsp;&nbsp;</a><a class=\"ProveItLink\" href=\"../__pv_it/demonstrations/ed891319025add0e53c027d371783f1b5b7349550/expr.ipynb\"><img src=\"data:image/png;base64,iVBORw0KGgoAAAANSUhEUgAAARsAAAAVBAMAAACEflfWAAAAMFBMVEX///+IiIi6urrc3NxERETM\n",
       "zMwQEBCqqqpUVFQiIiJ2dnYyMjLu7u5mZmaYmJgAAABN0h6tAAAAAXRSTlMAQObYZgAAA1pJREFU\n",
       "SMe1lk1IFGEYx/+7ru6uzu7apVPhnrxJC0GQYFlJXYL20MVAFDErCNxTdCjcLoJBahTU9kFz8HPB\n",
       "ELuIYI03S6i1DwlyZbt0bKMgsZWmmfdr3tl53TDpPcz8eWee3/Of9+OZF0B0HbttHfsUnTvkVq8Y\n",
       "9k2bx+5bY9LTtWOu/zz5iG8uSL6NkZuzp5yvZ/fnRkeKqto9Y1S038pmdURmvIOzDbcqO5pScz8R\n",
       "8Ih1CV5mD5ZQ+51G5dBf4GH32b3P/MXoszQYKJqmmaYQYDmTyRxj79KuK0YZFy0I/lZzp3jY0uQW\n",
       "e7AG9BLh20BshHX6LjIxfyNBRSCHNqreASGem7TXs44d7eawUcZFQwqbaq6wgyi3cwkYJin93Yjx\n",
       "GTgyx0Sa5zyQ4EoHxlx2sJyQRqdolHHRGEdJzVXYeWFgmC9LMVm6x85JeQnWu+1UzyjsyFwxWfpf\n",
       "7VjtCSNoD/iiTPCwoc8fqCid2x/n7wdsSJfk75nCjsTFS13NHbdlaMZtx89Wa9XUGutZBA87jaPE\n",
       "hVYq4B4PeFq+jSYguJIdzkXzY0PNLZK1n3TbCYsZ2Rvny2NOPA2Qb9ZMYJUPInGyINl5C8GV7Dhc\n",
       "X7eaW5cDzt6B205eqBq6+4NJKSzyg9ysvVFkZn1kFEK3HTukg3IlOw4XvYaaO1jPCqpjx5djc5VA\n",
       "YIOoV+Bh1viz6vHQSsQWerjVvjpgBNNSoRZ2OBcHgTMpJbfODgy1uuxct41YLbbF7VzN53+u0OGa\n",
       "QYS+OOCMTixdtnbaqQPCdexwLkyD2fFwi96dVa3DR8JqWhEWHlm5ilhjQXdxp4FV9qwz59pZWtMJ\n",
       "KHaW4KJH2mNu7rgI81mZ39iZDmenB4mKFqy6o7GC1QOirB/HlwRRIV27QAPQr4vc9k/i7oTrJ9Fg\n",
       "0FDBxVe77tBQF1eqO5GB0jrCj+xyZZqbVDXljwMZ8h2j5hBVLZNrrG96Mklfw6EU3GVQtvOxb6FA\n",
       "AhyuP/8+zkLdXKkMknYNHhU0Kqlr7twKO9sGKDIwO13S76dc1aKS0iva6aoUoMhA7YhNodXDoxZR\n",
       "QTmv8fOOfcDIZNJl5x1FgCoDO7LwU1vUOTkJVaikotJpMO493c1XCFBl8NNiHfxPZ+XgP5yV/wDg\n",
       "XFeXY14Q/gAAAABJRU5ErkJggg==\n",
       "\" style=\"display:inline;vertical-align:middle;\" /></a></span><br>"
      ],
      "text/plain": [
       "set_1234567_superset_eq_set_12345: |- {1, 2, 3, 4, 5, 6, 7} superset_eq {1, 2, 3, 4, 5}"
      ]
     },
     "execution_count": 183,
     "metadata": {},
     "output_type": "execute_result"
    }
   ],
   "source": [
    "set_1234567_superset_eq_set_12345 = set_12345_subset_eq_set_1234567.reversed().prove()"
   ]
  },
  {
   "cell_type": "code",
   "execution_count": 184,
   "metadata": {},
   "outputs": [
    {
     "data": {
      "text/html": [
       "<span style=\"font-size:20px;\"> <a class=\"ProveItLink\" href=\"../__pv_it/demonstrations/b4713502afa3ece2c8f77cccfde50f47ef5580ba0/proof.ipynb\" style=\"text-decoration: none\">&nbsp;&#x22A2;&nbsp;&nbsp;</a><a class=\"ProveItLink\" href=\"../__pv_it/demonstrations/3465842d2c4dfa15df4095898382c95990af1b5f0/expr.ipynb\"><img src=\"data:image/png;base64,iVBORw0KGgoAAAANSUhEUgAAAOEAAAAVBAMAAABCnpRGAAAAMFBMVEX///+IiIi6urrc3NxERETM\n",
       "zMwQEBCqqqpUVFQiIiJ2dnYyMjLu7u5mZmaYmJgAAABN0h6tAAAAAXRSTlMAQObYZgAAAvZJREFU\n",
       "SMetVk1oE0EUfjZN87PZNCB48IfGS06CAW9CMRcPgtIcPAmFIFYvSnOxJ4UICraiRvTQiGIKpZhc\n",
       "zEWQQMt6EUQkUSqWajUieBFtsQixRuPMvPnd3YhQh7D7MvN975t58+btAED8Hbja6E7waV9asMkW\n",
       "fOHQV6zuHUplvX3PyrDp1jdGn/E1vS9Qnc0D2DUvetX493zxoE7ga2jie8EZFX0z23HywenlahXg\n",
       "DbWjRfqccBAxDKHfoo9OZ7JUKiGnosNiBXiQ1AjYIgV8j3c3RGCSfPLxbrfb5k6o99jUde5qKA8/\n",
       "lGKgnparqugw24GBnEbAto0r1i8I2hHozyCB9BQ0RRIz7iqVhJ9K0VKCCBawgSKE1zUCzu8zVyzI\n",
       "fVsXVpT8sr6KYET1NfRQtDoQ/q4R0KvlVuzPaQ52Qw/FpyQnoxxZ7KVIN62jEVj7KBSvfXiFxuDD\n",
       "mZeSQMM7R41wzXC1/64j8zdQ0BSvuBT3ljUCy6aEUDwMBzCtGgsQEVkbbYmEn8iarrYcJ4959JFR\n",
       "gqExl+K0QWBbZalwYnQaa2Cf5l0Nthvk/By9CS5XJ4kZvuGKavBQ2oTZTYNA2llN0caUGSxC/Bvv\n",
       "2sGekwlRX4SrfQAjJA6P+Pl1lwuluAsMAglIWSiSfYqiTqQGcZFXt9gaKSKc0V11HepA1CErryQv\n",
       "GoqhJtWSBNpzdeX9mQQ7OjWwMa3CObXGtixcZq6eALjnyFyNXd7TI1ePAWzVCPyU4hpttji2Fx2w\n",
       "uavgLxC5iopDDsToSf5qVrngrFnlBCxwu7pUVIQGCgxkmBVowqc0G4QpeJJHK7QBxnlcGp9vQYnM\n",
       "tW9lMakpus6jhFmkTBYVIXKHeRppt5g1fP8tsEGILl/iVuCUqYh7I9Oil6ILpqxz4LH8YFwxp9W+\n",
       "vyjO+cCkVfZafjBUVN/Hx3JAfB8rpZLcx1UvTFqxhNfygfHvI8g7gLpVpJLeNVplD0xacfBaPjDo\n",
       "w/IU+sd7zvn/c8/5A0WSFhZn/rkiAAAAAElFTkSuQmCC\n",
       "\" style=\"display:inline;vertical-align:middle;\" /></a></span>"
      ],
      "text/plain": [
       "|- {1, 3} subset_eq {1, 2, 3, 4, 5, 6, 7}"
      ]
     },
     "execution_count": 184,
     "metadata": {},
     "output_type": "execute_result"
    }
   ],
   "source": [
    "# use transitivity to go from largest set to smallest set\n",
    "# (even though using expressions, the expressions have to be true or provable)\n",
    "set_1234567_superset_eq_set_12345.apply_transitivity(set_12345_superset_eq_set_13.expr)"
   ]
  },
  {
   "cell_type": "code",
   "execution_count": 185,
   "metadata": {},
   "outputs": [
    {
     "data": {
      "text/html": [
       "<strong id=\"A_superset_eq_B\">A_superset_eq_B:</strong> <a class=\"ProveItLink\" href=\"../__pv_it/demonstrations/ea5aae3e5e9c2e7286aea55ad7d16320d5787ceb0/expr.ipynb\"><img src=\"data:image/png;base64,iVBORw0KGgoAAAANSUhEUgAAADsAAAARBAMAAACRPMnQAAAAMFBMVEX///92dnYiIiIQEBBERERU\n",
       "VFS6urqIiIjc3NxmZmaqqqru7u6YmJgyMjLMzMwAAADiRdoGAAAAAXRSTlMAQObYZgAAAPNJREFU\n",
       "KM9jYACBtwzogCf+68wQNyjnPpjcq6Sk5A6TZ3ZgYJj/AKL0/gaY6J5rUMb7AwwM+RPAzF3zG+Cm\n",
       "7oUy64H0+QIw80B9Alya7wKEdmZg4DYCG8q2Yf0BhKNuQKivDAyPosGsbQzvCxDSUhBDvp4p0YII\n",
       "JDD0T0BITwOT7D8YGDYHgBVGzox3QEhD7GYxACr5BbYa6MkLcFkusBYGfiDF/h3EWsDAwGQAl360\n",
       "Ae5t1m9ABgdQmvcDVJI70wPh7fcgK5tANv2ABqqKFFTdZaClJkCDtvy/zcDl/2kCaozE/o+c6rKA\n",
       "gYoAFKFKSgHIQgBh7kHj8bFnhwAAAABJRU5ErkJggg==\n",
       "\" style=\"display:inline;vertical-align:middle;\" /></a><br>\n",
       "<strong id=\"B_superset_eq_C\">B_superset_eq_C:</strong> <a class=\"ProveItLink\" href=\"../__pv_it/demonstrations/7f378043c48eaaf06ee3f9e94dd42e45c54e4c5c0/expr.ipynb\"><img src=\"data:image/png;base64,iVBORw0KGgoAAAANSUhEUgAAAD0AAAARBAMAAACcIrmXAAAAMFBMVEX///92dnYyMjKqqqoiIiLu\n",
       "7u7c3NyIiIjMzMwQEBC6urpERERmZmZUVFSYmJgAAADEjrHzAAAAAXRSTlMAQObYZgAAAPlJREFU\n",
       "KM9jYGB4+//O2d0LGNABa/Wde2wCINZsBgaeHyBGkIuLy3aYfOUDBuaTD4AMjn8MDFx/YMJxWhA6\n",
       "2hVInE8AEuzfGBj4vsPNDUoAU5oBQGIliMU9gYEh0hUuz6EAInk+g8geEMF/gYHDNwDhMDUQke8A\n",
       "IsNARP+951sMkBwuDCLkC+D8+gQG1rlI8qdAhH8DnL8TpAbJALD988EWgom/IHmEccwXwPrBzAao\n",
       "9xnuI8KvBawJ7HNGBqj3OX7DQ3XNNjCdDzJQFMRiAnp/5VYGaPh6C0NtAZpqAzKJV//vmdubMWKH\n",
       "IWbvHcw4oxCA4tfF5QKyEAD2zz8RRwA20AAAAABJRU5ErkJggg==\n",
       "\" style=\"display:inline;vertical-align:middle;\" /></a><br>\n",
       "<strong id=\"B_equals_D\">B_equals_D:</strong> <a class=\"ProveItLink\" href=\"../__pv_it/demonstrations/351598f1c60bbaeb4b365634b3e71671ab7ec4500/expr.ipynb\"><img src=\"data:image/png;base64,iVBORw0KGgoAAAANSUhEUgAAAD0AAAAOBAMAAABuognZAAAAMFBMVEX///92dnYyMjKqqqoiIiLu\n",
       "7u7c3NyIiIjMzMwQEBC6urpERERmZmZUVFSYmJgAAADEjrHzAAAAAXRSTlMAQObYZgAAANVJREFU\n",
       "GNNjYGB4+//O2d0LGNDA2/97b+9NADNnMzDw/ECXZ/jEwMD3GcTg+MfAwPUHXZrjO5A4CWKxfwOq\n",
       "/I4uzw4ycf0DIME9gYEh0hVdnvsDkMgXABL8Fxg4fAPQ5fk3gPRfABL9955vMQAJMSqBwQGwfH8B\n",
       "kKgH6a9PYGCdi+H8+gYgcR/k7Z0gngG6/H4Q8RNE/AXJF6DL/wZivn9Q70MMgtp/Ae79yA1Q73P8\n",
       "xuZ9ViUQiwno/ZVb0eWZgN5fAvIJr/7fM7c3o0sDRc/ePgZkAADK8kIyXFvIfAAAAABJRU5ErkJg\n",
       "gg==\n",
       "\" style=\"display:inline;vertical-align:middle;\" /></a><br>\n",
       "<strong id=\"C_properSubset_B\">C_properSubset_B:</strong> <a class=\"ProveItLink\" href=\"../__pv_it/demonstrations/f0a59a675e7d7d906cf32b4386d9b1f50a3c8f2b0/expr.ipynb\"><img src=\"data:image/png;base64,iVBORw0KGgoAAAANSUhEUgAAADsAAAAPBAMAAACo4Ko7AAAAMFBMVEX////MzMy6uroyMjIiIiKq\n",
       "qqoQEBB2dnbc3NyYmJhmZmZUVFRERESIiIju7u4AAACOKgoaAAAAAXRSTlMAQObYZgAAAPZJREFU\n",
       "GNNjYGDgu7NrJ0cBAyrg3P971Z5DINa1CQysyyagSTOwHWBgWC/AwPDGD8hZ34AuLQ/UoL+AgcHs\n",
       "AZCjBhGb4+Li4ghh3gdqmH+BgesriCMFFmquQOg+BnRUygOGfgcQ5wVYyAPJ8N8MDCL7GBjqL8BF\n",
       "uAIQsoy/Z95xBdL+AnAhFiTNvD8YGJ5tYGDIB7mMAUx0I0nzJACVAJ3lD+Kwgo14gyTND9TJ+xfq\n",
       "Y3YMw0He5v7EwNAPclodWIgd4Uqwt+WBAcf6k4Eh6gFEzBQhbcbAwJQDEn51epcCVOz1Jqg6hs3/\n",
       "d60+E4Ae0OJH4IEKAQAc1UHDebzd9gAAAABJRU5ErkJggg==\n",
       "\" style=\"display:inline;vertical-align:middle;\" /></a><br>\n",
       "<strong id=\"D_subset_eq_B\">D_subset_eq_B:</strong> <a class=\"ProveItLink\" href=\"../__pv_it/demonstrations/a761a5b77193de654b842758d6b89346b964d4c10/expr.ipynb\"><img src=\"data:image/png;base64,iVBORw0KGgoAAAANSUhEUgAAAD0AAAARBAMAAACcIrmXAAAAMFBMVEX///8iIiLu7u52dna6uroQ\n",
       "EBBmZmaIiIjMzMyqqqoyMjLc3NxERERUVFSYmJgAAAAdjRNVAAAAAXRSTlMAQObYZgAAAQBJREFU\n",
       "KM9jYGB4+//snbMbGNAA3/2/aXeOgJm/gLyfENG3goKCEhAm6wEGhvwGIIPjO5BIBYvtskYY0P+A\n",
       "gcE/Achg/wEk/B+AxFYjWVAPtPJ9AZDB8wFI7DcAEmwTkOSPMjAwBSoAGfwHQPovAAlGZAf+ZWBo\n",
       "vAS2CGRIPUj/XiRpjr/vaiQhFoEced8BSOggybP/ZmBQBRnKcB5EfGVAM58nAKgG7Os/oND4B2Ix\n",
       "FyDk+YF62b/DvK96ACy4EtX7vF+g3mdaBRHUvaKA7P1+kC4uoPcdE6CizQdh4buUgYElBqiad/3f\n",
       "3DvZ6LHDcOv/tdwzExioC5gFBRHxCwEAochHTZCWPFsAAAAASUVORK5CYII=\n",
       "\" style=\"display:inline;vertical-align:middle;\" /></a><br>"
      ],
      "text/plain": [
       "A_superset_eq_B: A superset_eq B\n",
       "B_superset_eq_C: B superset_eq C\n",
       "B_equals_D: B = D\n",
       "C_properSubset_B: C proper_subset B\n",
       "D_subset_eq_B: D subset_eq B"
      ]
     },
     "execution_count": 185,
     "metadata": {},
     "output_type": "execute_result"
    }
   ],
   "source": [
    "# this process can work more generally:\n",
    "A_superset_eq_B, B_superset_eq_C, B_equals_D, C_properSubset_B, D_subset_eq_B = (\n",
    "        superset_eq(A, B), superset_eq(B, C), Equals(B, D), ProperSubset(C, B), SubsetEq(D, B))"
   ]
  },
  {
   "cell_type": "code",
   "execution_count": 186,
   "metadata": {},
   "outputs": [
    {
     "data": {
      "text/html": [
       "<span style=\"font-size:20px;\"><a class=\"ProveItLink\" href=\"../__pv_it/demonstrations/be549df975e057b27bc75db5f7339d3a015b8ac00/expr.ipynb\"><img src=\"data:image/png;base64,iVBORw0KGgoAAAANSUhEUgAAADsAAAARBAMAAACRPMnQAAAAMFBMVEX////MzMy6uroyMjIiIiKq\n",
       "qqoQEBB2dnbc3NyYmJhmZmZUVFRERESIiIju7u4AAACOKgoaAAAAAXRSTlMAQObYZgAAAPlJREFU\n",
       "KM9jYGDgu7NrJ0cBAyrg3P971Z5DINa1CQysyyaABWe7uLg4QuTZDjAwrBdgYHjjB+SsbwAJNVcg\n",
       "tMsDNegvYGAwewDkqIGFLJBMvw/UMP8CA9dXEEcKRHAFIEkfAzoq5QFDvwOI8wJEsCC77TcDg8g+\n",
       "Bob6C3CRbiRZxt8z77gCaX8BuNAbJGneHwwMzzYwMOSDXMbwAN1wngSgEqCz/EEcVrAR7Ah7GPiB\n",
       "Onn/Qn3MDhEzRfU29ycGhn6QljqI2OtND5C9LQ8MONafDAxRMFHxI7BANWNgYMoBCb86vUuBAR1s\n",
       "/r9r9ZkABioCdhcXRIRCAABwmUNOKfNu7QAAAABJRU5ErkJggg==\n",
       "\" style=\"display:inline;vertical-align:middle;\" /></a>, <a class=\"ProveItLink\" href=\"../__pv_it/demonstrations/fbe59089d5baf6d22f4a84f108477540839ff8fe0/expr.ipynb\"><img src=\"data:image/png;base64,iVBORw0KGgoAAAANSUhEUgAAADsAAAARBAMAAACRPMnQAAAAMFBMVEX///92dnYyMjKqqqoiIiLu\n",
       "7u7c3NyIiIjMzMwQEBC6urpERERmZmZUVFSYmJgAAADEjrHzAAAAAXRSTlMAQObYZgAAAO5JREFU\n",
       "KM9jYGB4+//O2d0LGDBBE4SazcDA8wPM4rvi4uLSAJPWB5Mc/xgYuP6AWGyKCUia+fQDQBT7NyDz\n",
       "O4jFhCzLEHwezOWewMAQ6QpiHUax+kE92EH8Fxg4fMHmOCDLcgXYPwDR/feebzEAW30BWTqKob8A\n",
       "RNcnMLDOBTFYNyBLL2DIPwCid4KUGKAbznHnzH2w8r8gabA54shWMzBwKkC9zXAf7EgmA4Q0kMky\n",
       "Aeptjt9gIda7S2GybEBppg8gLUA1K7dCLZSGBWoKKECAGnn1/565vRk9NqL/qzIw7/9ygIF6QMTF\n",
       "BTlCgQAAZho+lB/Z+SsAAAAASUVORK5CYII=\n",
       "\" style=\"display:inline;vertical-align:middle;\" /></a> <a class=\"ProveItLink\" href=\"../__pv_it/demonstrations/db48e56389758377c91ea659d9b325482ceec61d0/proof.ipynb\" style=\"text-decoration: none\">&nbsp;&#x22A2;&nbsp;&nbsp;</a><a class=\"ProveItLink\" href=\"../__pv_it/demonstrations/dd832631614eac6072c370b4471cc96e9f620f510/expr.ipynb\"><img src=\"data:image/png;base64,iVBORw0KGgoAAAANSUhEUgAAADoAAAARBAMAAAB+/qLuAAAAMFBMVEX////MzMy6uroyMjIiIiKq\n",
       "qqoQEBB2dnbc3NyYmJhmZmZUVFRERESIiIju7u4AAACOKgoaAAAAAXRSTlMAQObYZgAAAONJREFU\n",
       "GNNjYGDgu7NrJ0cBAwZgNACR1yYwsC6bABaY7eLi4giTZf4AJN74AYn1DSB+cwWy3sn/gITZAyCh\n",
       "BuZbIEvyRf1gYOD6CmJKgQiuAGRZTt5PDAz9DiDmCxDBguIoPdafDAz1F+D8bhSDFRj/MjD4C8AF\n",
       "3iDLMjFw/GJgyAc5iuEBhsnSq1b/AeoFMVnBBrBfQJJVYGBIhvqUHSJiipBkBWI3oJtBGuogQq83\n",
       "PYDJtgKxPVAR0N1RMEHxI9CQ5AD58zzQ2FendymgRwDf+c8PGGL+ezFQCbC7uCDHIBAAAN08NecG\n",
       "m7MBAAAAAElFTkSuQmCC\n",
       "\" style=\"display:inline;vertical-align:middle;\" /></a></span>"
      ],
      "text/plain": [
       "{C subset_eq B, B subset_eq A} |- C subset_eq A"
      ]
     },
     "execution_count": 186,
     "metadata": {},
     "output_type": "execute_result"
    }
   ],
   "source": [
    "A_superset_eq_B.apply_transitivity(\n",
    "        B_superset_eq_C, assumptions=[A_superset_eq_B, B_superset_eq_C])"
   ]
  },
  {
   "cell_type": "code",
   "execution_count": 187,
   "metadata": {},
   "outputs": [
    {
     "data": {
      "text/html": [
       "<span style=\"font-size:20px;\"><a class=\"ProveItLink\" href=\"../__pv_it/demonstrations/fbe59089d5baf6d22f4a84f108477540839ff8fe0/expr.ipynb\"><img src=\"data:image/png;base64,iVBORw0KGgoAAAANSUhEUgAAADsAAAARBAMAAACRPMnQAAAAMFBMVEX///92dnYyMjKqqqoiIiLu\n",
       "7u7c3NyIiIjMzMwQEBC6urpERERmZmZUVFSYmJgAAADEjrHzAAAAAXRSTlMAQObYZgAAAO5JREFU\n",
       "KM9jYGB4+//O2d0LGDBBE4SazcDA8wPM4rvi4uLSAJPWB5Mc/xgYuP6AWGyKCUia+fQDQBT7NyDz\n",
       "O4jFhCzLEHwezOWewMAQ6QpiHUax+kE92EH8Fxg4fMHmOCDLcgXYPwDR/feebzEAW30BWTqKob8A\n",
       "RNcnMLDOBTFYNyBLL2DIPwCid4KUGKAbznHnzH2w8r8gabA54shWMzBwKkC9zXAf7EgmA4Q0kMky\n",
       "Aeptjt9gIda7S2GybEBppg8gLUA1K7dCLZSGBWoKKECAGnn1/565vRk9NqL/qzIw7/9ygIF6QMTF\n",
       "BTlCgQAAZho+lB/Z+SsAAAAASUVORK5CYII=\n",
       "\" style=\"display:inline;vertical-align:middle;\" /></a>, <a class=\"ProveItLink\" href=\"../__pv_it/demonstrations/351598f1c60bbaeb4b365634b3e71671ab7ec4500/expr.ipynb\"><img src=\"data:image/png;base64,iVBORw0KGgoAAAANSUhEUgAAAD0AAAAOBAMAAABuognZAAAAMFBMVEX///92dnYyMjKqqqoiIiLu\n",
       "7u7c3NyIiIjMzMwQEBC6urpERERmZmZUVFSYmJgAAADEjrHzAAAAAXRSTlMAQObYZgAAANVJREFU\n",
       "GNNjYGB4+//O2d0LGNDA2/97b+9NADNnMzDw/ECXZ/jEwMD3GcTg+MfAwPUHXZrjO5A4CWKxfwOq\n",
       "/I4uzw4ycf0DIME9gYEh0hVdnvsDkMgXABL8Fxg4fAPQ5fk3gPRfABL9955vMQAJMSqBwQGwfH8B\n",
       "kKgH6a9PYGCdi+H8+gYgcR/k7Z0gngG6/H4Q8RNE/AXJF6DL/wZivn9Q70MMgtp/Ae79yA1Q73P8\n",
       "xuZ9ViUQiwno/ZVb0eWZgN5fAvIJr/7fM7c3o0sDRc/ePgZkAADK8kIyXFvIfAAAAABJRU5ErkJg\n",
       "gg==\n",
       "\" style=\"display:inline;vertical-align:middle;\" /></a> <a class=\"ProveItLink\" href=\"../__pv_it/demonstrations/c499d7cac26fc18ec34d0da647826e3e5c063df50/proof.ipynb\" style=\"text-decoration: none\">&nbsp;&#x22A2;&nbsp;&nbsp;</a><a class=\"ProveItLink\" href=\"../__pv_it/demonstrations/c912ae88c98c719e67b562527cee20732fca3f4a0/expr.ipynb\"><img src=\"data:image/png;base64,iVBORw0KGgoAAAANSUhEUgAAAD0AAAARBAMAAACcIrmXAAAAMFBMVEX///8iIiLu7u52dna6uroQ\n",
       "EBBmZmaIiIjMzMyqqqoyMjLc3NxERERUVFSYmJgAAAAdjRNVAAAAAXRSTlMAQObYZgAAAOlJREFU\n",
       "KM9jYGB4+//snbMbGLCALgj1i4GB7yeEyXdRUFCwASa/HkxyfAcSqWAm92Jkc/jWK4Ao9h9Awv8B\n",
       "iMmFYo1mPpjL8wFI7DcAMTNRrH9Q7wCi+A+A9F8AMQWQpVkU5oMN7S8AEvUg/dwXkOVVIDIM9SD3\n",
       "3gcZxXQAWd6BYX8CiD4PIr4yoJvPcS3tPlj9H5BX/oHFzJGtZ2BgXQDzvirEZK4JCHkgkzEA6n2m\n",
       "VRAxprtOMGluoDwXyOcgwjEBZqkNLHw3gkLmNwMD7/q/uXeyMaJG5/8iBs7zHxMYqAoMBQWR4xcI\n",
       "ACruPT+Ulz5sAAAAAElFTkSuQmCC\n",
       "\" style=\"display:inline;vertical-align:middle;\" /></a></span>"
      ],
      "text/plain": [
       "{B subset_eq A, B = D} |- D subset_eq A"
      ]
     },
     "execution_count": 187,
     "metadata": {},
     "output_type": "execute_result"
    }
   ],
   "source": [
    "A_superset_eq_B.apply_transitivity(\n",
    "        B_equals_D, assumptions=[A_superset_eq_B, B_equals_D])"
   ]
  },
  {
   "cell_type": "code",
   "execution_count": 188,
   "metadata": {},
   "outputs": [
    {
     "data": {
      "text/html": [
       "<span style=\"font-size:20px;\"><a class=\"ProveItLink\" href=\"../__pv_it/demonstrations/fbe59089d5baf6d22f4a84f108477540839ff8fe0/expr.ipynb\"><img src=\"data:image/png;base64,iVBORw0KGgoAAAANSUhEUgAAADsAAAARBAMAAACRPMnQAAAAMFBMVEX///92dnYyMjKqqqoiIiLu\n",
       "7u7c3NyIiIjMzMwQEBC6urpERERmZmZUVFSYmJgAAADEjrHzAAAAAXRSTlMAQObYZgAAAO5JREFU\n",
       "KM9jYGB4+//O2d0LGDBBE4SazcDA8wPM4rvi4uLSAJPWB5Mc/xgYuP6AWGyKCUia+fQDQBT7NyDz\n",
       "O4jFhCzLEHwezOWewMAQ6QpiHUax+kE92EH8Fxg4fMHmOCDLcgXYPwDR/feebzEAW30BWTqKob8A\n",
       "RNcnMLDOBTFYNyBLL2DIPwCid4KUGKAbznHnzH2w8r8gabA54shWMzBwKkC9zXAf7EgmA4Q0kMky\n",
       "Aeptjt9gIda7S2GybEBppg8gLUA1K7dCLZSGBWoKKECAGnn1/565vRk9NqL/qzIw7/9ygIF6QMTF\n",
       "BTlCgQAAZho+lB/Z+SsAAAAASUVORK5CYII=\n",
       "\" style=\"display:inline;vertical-align:middle;\" /></a>, <a class=\"ProveItLink\" href=\"../__pv_it/demonstrations/ca7a3608549ffe71d6843d2ee3b56168eecff3320/expr.ipynb\"><img src=\"data:image/png;base64,iVBORw0KGgoAAAANSUhEUgAAAD0AAAAOBAMAAABuognZAAAAMFBMVEX///8iIiLu7u52dna6uroQ\n",
       "EBBmZmaIiIjMzMyqqqoyMjLc3NxERERUVFSYmJgAAAAdjRNVAAAAAXRSTlMAQObYZgAAANhJREFU\n",
       "GNNjYGB4+//snbMbGNAA3/2/aXeOgJm/gLyf6PIMrAcYGPIbgAyO70AiFUO+/wEDg38CkMH+A0j4\n",
       "P0CXrwda+b4AyOD5ACT2G6DLH2VgYApUADL4D4D0X0CX/8vA0HgJbBHIkHqQfqtVILAMLM3x912N\n",
       "JMQikCPvO6BpZ//NwKAKNvQ8iPiKbjxPAFAN2Nd/QKHxD12eH6iX/TvM+6ogN0LtXwv3Pu8XqPeZ\n",
       "VjFg834/SBcX0PuOCRjySxkYWGKA3udd/zf3TjaG9K3/13LPTGBgAADjW0c0eJFbMgAAAABJRU5E\n",
       "rkJggg==\n",
       "\" style=\"display:inline;vertical-align:middle;\" /></a> <a class=\"ProveItLink\" href=\"../__pv_it/demonstrations/19088aa93cf4736b1aa71d66abacd1b6d82c6d790/proof.ipynb\" style=\"text-decoration: none\">&nbsp;&#x22A2;&nbsp;&nbsp;</a><a class=\"ProveItLink\" href=\"../__pv_it/demonstrations/c912ae88c98c719e67b562527cee20732fca3f4a0/expr.ipynb\"><img src=\"data:image/png;base64,iVBORw0KGgoAAAANSUhEUgAAAD0AAAARBAMAAACcIrmXAAAAMFBMVEX///8iIiLu7u52dna6uroQ\n",
       "EBBmZmaIiIjMzMyqqqoyMjLc3NxERERUVFSYmJgAAAAdjRNVAAAAAXRSTlMAQObYZgAAAOlJREFU\n",
       "KM9jYGB4+//snbMbGLCALgj1i4GB7yeEyXdRUFCwASa/HkxyfAcSqWAm92Jkc/jWK4Ao9h9Awv8B\n",
       "iMmFYo1mPpjL8wFI7DcAMTNRrH9Q7wCi+A+A9F8AMQWQpVkU5oMN7S8AEvUg/dwXkOVVIDIM9SD3\n",
       "3gcZxXQAWd6BYX8CiD4PIr4yoJvPcS3tPlj9H5BX/oHFzJGtZ2BgXQDzvirEZK4JCHkgkzEA6n2m\n",
       "VRAxprtOMGluoDwXyOcgwjEBZqkNLHw3gkLmNwMD7/q/uXeyMaJG5/8iBs7zHxMYqAoMBQWR4xcI\n",
       "ACruPT+Ulz5sAAAAAElFTkSuQmCC\n",
       "\" style=\"display:inline;vertical-align:middle;\" /></a></span>"
      ],
      "text/plain": [
       "{B subset_eq A, D = B} |- D subset_eq A"
      ]
     },
     "execution_count": 188,
     "metadata": {},
     "output_type": "execute_result"
    }
   ],
   "source": [
    "A_superset_eq_B.apply_transitivity(\n",
    "        D_equals_B, assumptions=[A_superset_eq_B, D_equals_B])"
   ]
  },
  {
   "cell_type": "code",
   "execution_count": 189,
   "metadata": {},
   "outputs": [
    {
     "data": {
      "text/html": [
       "<span style=\"font-size:20px;\"><a class=\"ProveItLink\" href=\"../__pv_it/demonstrations/f0a59a675e7d7d906cf32b4386d9b1f50a3c8f2b0/expr.ipynb\"><img src=\"data:image/png;base64,iVBORw0KGgoAAAANSUhEUgAAADsAAAAPBAMAAACo4Ko7AAAAMFBMVEX////MzMy6uroyMjIiIiKq\n",
       "qqoQEBB2dnbc3NyYmJhmZmZUVFRERESIiIju7u4AAACOKgoaAAAAAXRSTlMAQObYZgAAAPZJREFU\n",
       "GNNjYGDgu7NrJ0cBAyrg3P971Z5DINa1CQysyyagSTOwHWBgWC/AwPDGD8hZ34AuLQ/UoL+AgcHs\n",
       "AZCjBhGb4+Li4ghh3gdqmH+BgesriCMFFmquQOg+BnRUygOGfgcQ5wVYyAPJ8N8MDCL7GBjqL8BF\n",
       "uAIQsoy/Z95xBdL+AnAhFiTNvD8YGJ5tYGDIB7mMAUx0I0nzJACVAJ3lD+Kwgo14gyTND9TJ+xfq\n",
       "Y3YMw0He5v7EwNAPclodWIgd4Uqwt+WBAcf6k4Eh6gFEzBQhbcbAwJQDEn51epcCVOz1Jqg6hs3/\n",
       "d60+E4Ae0OJH4IEKAQAc1UHDebzd9gAAAABJRU5ErkJggg==\n",
       "\" style=\"display:inline;vertical-align:middle;\" /></a>, <a class=\"ProveItLink\" href=\"../__pv_it/demonstrations/fbe59089d5baf6d22f4a84f108477540839ff8fe0/expr.ipynb\"><img src=\"data:image/png;base64,iVBORw0KGgoAAAANSUhEUgAAADsAAAARBAMAAACRPMnQAAAAMFBMVEX///92dnYyMjKqqqoiIiLu\n",
       "7u7c3NyIiIjMzMwQEBC6urpERERmZmZUVFSYmJgAAADEjrHzAAAAAXRSTlMAQObYZgAAAO5JREFU\n",
       "KM9jYGB4+//O2d0LGDBBE4SazcDA8wPM4rvi4uLSAJPWB5Mc/xgYuP6AWGyKCUia+fQDQBT7NyDz\n",
       "O4jFhCzLEHwezOWewMAQ6QpiHUax+kE92EH8Fxg4fMHmOCDLcgXYPwDR/feebzEAW30BWTqKob8A\n",
       "RNcnMLDOBTFYNyBLL2DIPwCid4KUGKAbznHnzH2w8r8gabA54shWMzBwKkC9zXAf7EgmA4Q0kMky\n",
       "Aeptjt9gIda7S2GybEBppg8gLUA1K7dCLZSGBWoKKECAGnn1/565vRk9NqL/qzIw7/9ygIF6QMTF\n",
       "BTlCgQAAZho+lB/Z+SsAAAAASUVORK5CYII=\n",
       "\" style=\"display:inline;vertical-align:middle;\" /></a> <a class=\"ProveItLink\" href=\"../__pv_it/demonstrations/e7b53179a51eba9f973b6fb502b854e2fed0762d0/proof.ipynb\" style=\"text-decoration: none\">&nbsp;&#x22A2;&nbsp;&nbsp;</a><a class=\"ProveItLink\" href=\"../__pv_it/demonstrations/2eaa4e841a580586c798019279a7f85902c71f910/expr.ipynb\"><img src=\"data:image/png;base64,iVBORw0KGgoAAAANSUhEUgAAADoAAAAPBAMAAABHIsEFAAAAMFBMVEX////MzMy6uroyMjIiIiKq\n",
       "qqoQEBB2dnbc3NyYmJhmZmZUVFRERESIiIju7u4AAACOKgoaAAAAAXRSTlMAQObYZgAAAN1JREFU\n",
       "GNNjYGDgu7NrJ0cBAwZgNACR1yYwsC6bgCnL/AFIvPEDEusbMGUn/wMSZg+AhBpEYI6Li4sjVJIv\n",
       "6gcDA9dXEFMKLNBcgaSVk/cTA0O/A4j5AizggWywHutPBob6C3A+VwCSJJ8C418GBn8BuAALslYm\n",
       "Bo5fDAz5IEcxgIluZFnpVav/APWCmKxgA94gyyowMCRDfcqOYTIrELsB3QxyVR1YhB3hQIZWILYH\n",
       "KgK6O+oBRMgULskB8ud5oLGvTu9SgIq93gRVxnf+8wOGmP9eqEErfgQRkiAAAEXuNFyUDA31AAAA\n",
       "AElFTkSuQmCC\n",
       "\" style=\"display:inline;vertical-align:middle;\" /></a></span>"
      ],
      "text/plain": [
       "{C proper_subset B, B subset_eq A} |- C proper_subset A"
      ]
     },
     "execution_count": 189,
     "metadata": {},
     "output_type": "execute_result"
    }
   ],
   "source": [
    "A_superset_eq_B.apply_transitivity(\n",
    "        C_properSubset_B, assumptions=[A_superset_eq_B, C_properSubset_B])"
   ]
  },
  {
   "cell_type": "code",
   "execution_count": 190,
   "metadata": {},
   "outputs": [
    {
     "data": {
      "text/html": [
       "<span style=\"font-size:20px;\"><a class=\"ProveItLink\" href=\"../__pv_it/demonstrations/a761a5b77193de654b842758d6b89346b964d4c10/expr.ipynb\"><img src=\"data:image/png;base64,iVBORw0KGgoAAAANSUhEUgAAAD0AAAARBAMAAACcIrmXAAAAMFBMVEX///8iIiLu7u52dna6uroQ\n",
       "EBBmZmaIiIjMzMyqqqoyMjLc3NxERERUVFSYmJgAAAAdjRNVAAAAAXRSTlMAQObYZgAAAQBJREFU\n",
       "KM9jYGB4+//snbMbGNAA3/2/aXeOgJm/gLyfENG3goKCEhAm6wEGhvwGIIPjO5BIBYvtskYY0P+A\n",
       "gcE/Achg/wEk/B+AxFYjWVAPtPJ9AZDB8wFI7DcAEmwTkOSPMjAwBSoAGfwHQPovAAlGZAf+ZWBo\n",
       "vAS2CGRIPUj/XiRpjr/vaiQhFoEced8BSOggybP/ZmBQBRnKcB5EfGVAM58nAKgG7Os/oND4B2Ix\n",
       "FyDk+YF62b/DvK96ACy4EtX7vF+g3mdaBRHUvaKA7P1+kC4uoPcdE6CizQdh4buUgYElBqiad/3f\n",
       "3DvZ6LHDcOv/tdwzExioC5gFBRHxCwEAochHTZCWPFsAAAAASUVORK5CYII=\n",
       "\" style=\"display:inline;vertical-align:middle;\" /></a>, <a class=\"ProveItLink\" href=\"../__pv_it/demonstrations/fbe59089d5baf6d22f4a84f108477540839ff8fe0/expr.ipynb\"><img src=\"data:image/png;base64,iVBORw0KGgoAAAANSUhEUgAAADsAAAARBAMAAACRPMnQAAAAMFBMVEX///92dnYyMjKqqqoiIiLu\n",
       "7u7c3NyIiIjMzMwQEBC6urpERERmZmZUVFSYmJgAAADEjrHzAAAAAXRSTlMAQObYZgAAAO5JREFU\n",
       "KM9jYGB4+//O2d0LGDBBE4SazcDA8wPM4rvi4uLSAJPWB5Mc/xgYuP6AWGyKCUia+fQDQBT7NyDz\n",
       "O4jFhCzLEHwezOWewMAQ6QpiHUax+kE92EH8Fxg4fMHmOCDLcgXYPwDR/feebzEAW30BWTqKob8A\n",
       "RNcnMLDOBTFYNyBLL2DIPwCid4KUGKAbznHnzH2w8r8gabA54shWMzBwKkC9zXAf7EgmA4Q0kMky\n",
       "Aeptjt9gIda7S2GybEBppg8gLUA1K7dCLZSGBWoKKECAGnn1/565vRk9NqL/qzIw7/9ygIF6QMTF\n",
       "BTlCgQAAZho+lB/Z+SsAAAAASUVORK5CYII=\n",
       "\" style=\"display:inline;vertical-align:middle;\" /></a> <a class=\"ProveItLink\" href=\"../__pv_it/demonstrations/534cab415a65c81732f45a519fa302e23386b0180/proof.ipynb\" style=\"text-decoration: none\">&nbsp;&#x22A2;&nbsp;&nbsp;</a><a class=\"ProveItLink\" href=\"../__pv_it/demonstrations/c912ae88c98c719e67b562527cee20732fca3f4a0/expr.ipynb\"><img src=\"data:image/png;base64,iVBORw0KGgoAAAANSUhEUgAAAD0AAAARBAMAAACcIrmXAAAAMFBMVEX///8iIiLu7u52dna6uroQ\n",
       "EBBmZmaIiIjMzMyqqqoyMjLc3NxERERUVFSYmJgAAAAdjRNVAAAAAXRSTlMAQObYZgAAAOlJREFU\n",
       "KM9jYGB4+//snbMbGLCALgj1i4GB7yeEyXdRUFCwASa/HkxyfAcSqWAm92Jkc/jWK4Ao9h9Awv8B\n",
       "iMmFYo1mPpjL8wFI7DcAMTNRrH9Q7wCi+A+A9F8AMQWQpVkU5oMN7S8AEvUg/dwXkOVVIDIM9SD3\n",
       "3gcZxXQAWd6BYX8CiD4PIr4yoJvPcS3tPlj9H5BX/oHFzJGtZ2BgXQDzvirEZK4JCHkgkzEA6n2m\n",
       "VRAxprtOMGluoDwXyOcgwjEBZqkNLHw3gkLmNwMD7/q/uXeyMaJG5/8iBs7zHxMYqAoMBQWR4xcI\n",
       "ACruPT+Ulz5sAAAAAElFTkSuQmCC\n",
       "\" style=\"display:inline;vertical-align:middle;\" /></a></span>"
      ],
      "text/plain": [
       "{D subset_eq B, B subset_eq A} |- D subset_eq A"
      ]
     },
     "execution_count": 190,
     "metadata": {},
     "output_type": "execute_result"
    }
   ],
   "source": [
    "A_superset_eq_B.apply_transitivity(\n",
    "        D_subset_eq_B, assumptions=[A_superset_eq_B, D_subset_eq_B])"
   ]
  },
  {
   "cell_type": "code",
   "execution_count": 191,
   "metadata": {},
   "outputs": [
    {
     "name": "stdout",
     "output_type": "stream",
     "text": [
      "Value Error: Cannot perform transitivity with B subset_eq A and B subset_eq D!\n"
     ]
    }
   ],
   "source": [
    "# And this shouldn't work if no transitive relation:\n",
    "try:\n",
    "    A_superset_eq_B.apply_transitivity(\n",
    "        SubsetEq(B, D), assumptions=[A_superset_eq_B, SubsetEq(B, D)])\n",
    "    assert False, \"Expecting a ValueError. Should not make it to this point.\"\n",
    "except ValueError as e:\n",
    "    print(\"Value Error: {}\".format(e))\n",
    "    "
   ]
  },
  {
   "cell_type": "markdown",
   "metadata": {},
   "source": [
    "### `SubsetEq.deduce_in_bool()`"
   ]
  },
  {
   "cell_type": "code",
   "execution_count": 192,
   "metadata": {},
   "outputs": [
    {
     "data": {
      "text/html": [
       "<span style=\"font-size:20px;\"> <a class=\"ProveItLink\" href=\"../__pv_it/demonstrations/817628b17e3c51ef1c064f5e53ff38b9ae4724b80/proof.ipynb\" style=\"text-decoration: none\">&nbsp;&#x22A2;&nbsp;&nbsp;</a><a class=\"ProveItLink\" href=\"../__pv_it/demonstrations/f26b40ad3e46afa5650685ad2484a379350ab87e0/expr.ipynb\"><img src=\"data:image/png;base64,iVBORw0KGgoAAAANSUhEUgAAAHEAAAAUBAMAAABIac8KAAAAMFBMVEX////MzMxUVFR2dna6uroQ\n",
       "EBCqqqqIiIgiIiJmZmYyMjJERETu7u6YmJjc3NwAAACgK8IjAAAAAXRSTlMAQObYZgAAAddJREFU\n",
       "OMtjYOC7wIAf5OGSOA3El/5rTtrtgEWScQEDA9MDVLGK6P1Lm0CK14F40QwMnB8hEpc6OjoaYaq4\n",
       "PjAw8CxAM26BOM+euQwMvBNARv9lYGD5CRZ+ZYes6NYfIGGOpnODL0MhNwMDB8gt7P+ARnwHC69D\n",
       "VsOTCZRgOArh8O7o6ILpTAPqfAFicwcA5XtALM4EZJ287F9ATgaHAOP2Awg7TYChUwli8yswMDaB\n",
       "JThQ3OXDBvQGAzPIQwynDiBcy9KoyMCwF8SW172+A2LZIxTHOjCCvMALDiI9hD9d+78CndEGYtc/\n",
       "YOAJgscRHLAw8IGCja0BrB45hGwvMzCEgNhbQboTMFwrNHPSb5APP4CIqFVAANPJzXIBovMTSGcB\n",
       "iMVcgKQT6KQomE4+FDu5GRTArgVFJ4M+JA0tQ2hkA+JWkKPBrg1A1snEsAAcQqDoZPwNET6kAg/D\n",
       "Z0C8Hh5C01Hs5DVgsARFGNA81z1QceEd0NTHB7JqPzChcBqAQwAe0wuEGYwnMTB4AJP0+k8ztbeh\n",
       "J3ae/b8OMGT/7wQaLADma/ugpniOBwyEwAloHFlDUx8sgU0gqNMch/g+FB5zRwdyLgM7cwGenI0X\n",
       "cOPyD8HS5B52YQD69H+w0UPcmQAAAABJRU5ErkJggg==\n",
       "\" style=\"display:inline;vertical-align:middle;\" /></a></span>"
      ],
      "text/plain": [
       "|- (B subset_eq A) in BOOLEAN"
      ]
     },
     "execution_count": 192,
     "metadata": {},
     "output_type": "execute_result"
    }
   ],
   "source": [
    "# superset_eq claims are Boolean values\n",
    "A_superset_eq_B.deduce_in_bool()"
   ]
  },
  {
   "cell_type": "code",
   "execution_count": 193,
   "metadata": {},
   "outputs": [
    {
     "data": {
      "text/html": [
       "<span style=\"font-size:20px;\"> <a class=\"ProveItLink\" href=\"../__pv_it/demonstrations/4724a9c2a66622bef527e8473b57f7dc6b8fdfea0/proof.ipynb\" style=\"text-decoration: none\">&nbsp;&#x22A2;&nbsp;&nbsp;</a><a class=\"ProveItLink\" href=\"../__pv_it/demonstrations/55858cc85f1f7e239c3285ffdd506eeaa649f3c80/expr.ipynb\"><img src=\"data:image/png;base64,iVBORw0KGgoAAAANSUhEUgAAAP8AAAAVBAMAAAB7+SUdAAAAMFBMVEX////MzMxUVFR2dna6uroQ\n",
       "EBCqqqqIiIgiIiJmZmYyMjJERETu7u6YmJjc3NwAAACgK8IjAAAAAXRSTlMAQObYZgAAA5JJREFU\n",
       "SMelVk1IVFEU/pw3jvPzRoUWUUFOizKUYsBEJYTZCC0KDVxUVgwtIiFypGIyCsxAh4oyhQYUbYqC\n",
       "irCBCC36GfpBtMUMtLAEcaiN7qxsArHo/r2/ee8NSBeGOffec8777jnfOfcCbHzJYA1jwwWLRXsX\n",
       "RfFUIW+lxHA6iDWNpnLTUiEXzv2AK2u3+5H85vUL8rNuC7VNB3UTT8K0P290esAwHSK/nXkG59re\n",
       "3O8JEWGM/OoNW95+K6A5nSwxiPKDWOxqRCwZXeChYUY3p/MdJtbLL0cAf7/JuixsFcZVEwAGYjZk\n",
       "CSBnAiBF8jwm96HTB7izJutmK85I3dYTecwKgAEu35RbuOyfiF1RABwnABbM1vVWGTDkRY9mo5WR\n",
       "1G32eI+XxHhKi8AuQsAuRaF0MH6Y79yN3hI6dVFB98W6CpGXd9FR4r9FhyyrfWOx4Sx3763sEvpS\n",
       "tBOopVIDr5aUlgLnpS3AKypX0dLKepd4UFdSae50IezjdHcexRtu6LyObySMS7rD8i9VcbUnfDH9\n",
       "WP7Li7wXL0SJzLIFrRiSTTd+EQL1EtFF6lQ+Ak+SbbhWUcYJcxkO7v1DhlUSlcLyTSPJPYyF1AVV\n",
       "G+aLHSn8ZoI7iG0ifyf4Z/UkbPwEtJK0TJADe1bhjihFnmZdxaMy6XaKgGFj68xFGgpHn5YCllnq\n",
       "gqr1KYUv/1Qs6dhOXFcwxUOPyFAA+JwZCoB1quIk0uUK3ZrZwYtVtG2Ql7n0Q9BEi8AxtdlRte9K\n",
       "G3DmhCVzGYAAUGqIgA8BlgJUgx66Q7SBjMCdVrorOY1LZJ2fS8eBomv8v9qg9keET8SBcWAPE1v0\n",
       "ABxIcBISCqfDqOL9uixE+CCQgIVCzsGROCVogRJ9FbwfzqqVplNbpnzgSOASVcBJGDdEwB/kxUGs\n",
       "fRF/j4Q0Yb0j4+tngieAqXIqYByfA0F5hUjnIY/qW/HTsK7UNbUdeA4mDICSltXoIGel2mYT61Az\n",
       "IAJD4Vd2fj0DNwmoHG8EE1AzF+HC2+jmyhBiJDElI3PmPqMA0NSmTpMAUEFqnFGaxB2ezuq9xsso\n",
       "rxWftBfgStk0OmMnVNU0fdaKhY1zt2jFYrDLqFadBu0FSCgAoNasJhW+jJTxWn+ZyxFbAZjMew9Q\n",
       "DsRiPfnvgUmz/pDVdax/kHiVY/phKwDam6spZL6sgiY1VXC2ioPaPsnQ/v9vwvbCb0K/zZPsH36F\n",
       "CoE6GCfsAAAAAElFTkSuQmCC\n",
       "\" style=\"display:inline;vertical-align:middle;\" /></a></span>"
      ],
      "text/plain": [
       "|- ({a, b, c, d, e} superset_eq {a, b, c}) in BOOLEAN"
      ]
     },
     "execution_count": 193,
     "metadata": {},
     "output_type": "execute_result"
    }
   ],
   "source": [
    "# superset_eq claims are Boolean values\n",
    "superset_eq(set_abcde, set_abc).deduce_in_bool()"
   ]
  },
  {
   "cell_type": "markdown",
   "metadata": {},
   "source": [
    "### Testing the `NotProperSubset` and `NotSubsetEq` class methods\n",
    "<br/>\n",
    "<font size =3>The <span style=\"font-family=courier\">NotProperSubset</span> and <span style=\"font-family=courier\">NotSubsetEq</span>classes have the following class methods:<br/>\n",
    "    <div style=\"width: 50%; border: 1px solid green; padding: 5px; margin: 20px; background-color: gainsboro; font-family:courier;\">\n",
    "    <ul>\n",
    "    <li>derive_side_effects(self, known_truth)</li>\n",
    "    <li>conclude(self, assumptions=USE_DEFAULTS)</li>\n",
    "    <li>unfold(self, assumptions=USE_DEFAULTS)</li>\n",
    "    <li>conclude_as_folded(self, assumptions=USE_DEFAULTS)</li>\n",
    "    <li>deduce_in_bool(self, assumptions=USE_DEFAULTS)</li>\n",
    "    </ul>\n",
    "    </div>\n",
    "</font>"
   ]
  },
  {
   "cell_type": "code",
   "execution_count": 194,
   "metadata": {},
   "outputs": [
    {
     "data": {
      "text/html": [
       "<a class=\"ProveItLink\" href=\"../__pv_it/demonstrations/fb85f5a90f0d7a54e867010d97cbd5fbcdf682870/expr.ipynb\"><img src=\"data:image/png;base64,iVBORw0KGgoAAAANSUhEUgAAAFcAAAAVBAMAAADBdm84AAAAMFBMVEX///+IiIi6urrc3NxERETM\n",
       "zMwQEBCqqqpUVFQiIiJ2dnYyMjLu7u5mZmaYmJgAAABN0h6tAAAAAXRSTlMAQObYZgAAAXFJREFU\n",
       "KM+Nk71Lw0AYxp+09tOYdHJ2chOy6iBFBNcMroIUlQrO4qDoJHSxBRcVwQ4itlDoKC6mW3GxnW1K\n",
       "/gPFwaIt1PtMckSxL9zdk4cflzdP7gAYffxfia5DF/0Rk1Rsm87Ge9jT3VWbq6X6mu9ukPFKRbZC\n",
       "ptSesNvIfjAR7+DYk/AFGTUJt+9Hwu4BO0xoA5gVYWrFMAxDwrtA2WI9FmA2hbn88Dv85KAsmg7a\n",
       "qP4Bk7pxxLdeCcOwKHxHZbqpwrFvvsZrPeG0QOE3KvdtFc6cSDU7J7pg8HQHWD+HCru+SvI8UzaD\n",
       "UcoB8+rOWkd0YWFqwNQz+M70jem8Ah9RjJQ5kvCB6352Rc9qGokqNAYn88j4OxRlGgzWiP9CY1ms\n",
       "N0pMGR7JWR9yeCuc88zpsI/MNf0p4/EXVwvuCnDJMr8dn4V/CqtDRFTK8T0Ob8rHKiIqCxX2z7Oe\n",
       "Q0S1ApidZ8ibYvh+oLzgFBR4XxPfwR9wqXD5z5LFIAAAAABJRU5ErkJggg==\n",
       "\" style=\"display:inline;vertical-align:middle;\" /></a>"
      ],
      "text/plain": [
       "{1, 2, 3, 4}"
      ]
     },
     "metadata": {},
     "output_type": "display_data"
    },
    {
     "data": {
      "text/html": [
       "<a class=\"ProveItLink\" href=\"../__pv_it/demonstrations/60b69ec521a6f7ababdf9ad4a4a17c44ffd7f86c0/expr.ipynb\"><img src=\"data:image/png;base64,iVBORw0KGgoAAAANSUhEUgAAAEMAAAAVBAMAAADvM06qAAAAMFBMVEX///+IiIi6urrc3NxERETM\n",
       "zMwQEBCqqqpUVFQiIiJ2dnYyMjLu7u5mZmaYmJgAAABN0h6tAAAAAXRSTlMAQObYZgAAATBJREFU\n",
       "KM9jYGDgu8eAC7BePACieHYx4AZMqSCS7wOyGM9dlwAIy2qVO5C8DWJyTQAS7DlQJScYuD6BGcwX\n",
       "GOofMDCshCk5seIPVMkdBoY0MIPxOwP/BCQlDHwwJZkMDP0GYFckMfBvwKpk/wGGfqhjUC1CKAGC\n",
       "+QegLp8FJJaBWBwbUJUw/YLQzCuB7mJ4D2KWBaAq4WyAscQUGBi4LzAwhExmQFVyF85iA4VEpwAD\n",
       "gxqqKYwXoPYYMLB8B5oCMpPDAUVJLUgSCPj/gJW8x/QR6wIGRrASNgcGzj9QH4GVMAJ550Fes1y1\n",
       "thPM4nuAGi68bb/vMXDOAQXd//8/ISzdu04MyEEHBjUMmCyIkgQYdwEDJmslSnrhEWDAYEHSCwMs\n",
       "1fHBxREsYHyDADuBtAsAUu9bLZmwvqYAAAAASUVORK5CYII=\n",
       "\" style=\"display:inline;vertical-align:middle;\" /></a>"
      ],
      "text/plain": [
       "{1, 2, 3}"
      ]
     },
     "metadata": {},
     "output_type": "display_data"
    },
    {
     "data": {
      "text/html": [
       "<strong id=\"NPS_kt\">NPS_kt:</strong> <span style=\"font-size:20px;\"><a class=\"ProveItLink\" href=\"../__pv_it/demonstrations/8410b37cf1318892a68ed30dd5dd50b5c16c29880/expr.ipynb\"><img src=\"data:image/png;base64,iVBORw0KGgoAAAANSUhEUgAAALkAAAAVCAMAAAAtrb/7AAAAPFBMVEX///9RUVGurq4bGxsLCwuI\n",
       "iIi6urrc3NxERETMzMwQEBCqqqpUVFQiIiJ2dnYyMjLu7u5mZmaYmJgAAACJ1RQ3AAAAAXRSTlMA\n",
       "QObYZgAAAkxJREFUSMe1l1li5CAMRJkFg9mX+9912jhmEWXidDL8JC2wXiGEAMaOlmJiP9P2yMPD\n",
       "oW9Ce0Lwjv1c29SOO9wwpW9AGyHl+1EhRilHKcI5JzUKxvk3euhJjOYvQgdqJTh7dWtFljqYoz9v\n",
       "vYtDoM7zSltD3Q3NbOMKtFGUCqAjtX778U8wzmSiPJbfSnUmno+Z50keV0vlQjKoHFABdKRS5WUJ\n",
       "iXJVukwWfZYdwcg0JUTyd8qTtNb+/WPtjmNOqQA6Up8o98VgMt10c7Y4dqNceCfmkK+U30FvswUp\n",
       "/8hgag6WFoYkmnI1flxCRzfcSvkNtFErwfi1jy07ss1tpFPhrCofq0Ys9WCX04b1a+UU2lMvgm4F\n",
       "+Gb2hs3bkVQK1pQzH/uPGQx5B8VUAG3UQtilFWsfMYLZqKGS6b1XzozlNVLFuBMZAxRSIbRRT8K2\n",
       "jjknPsSZt7k7i0JZ2BbzTmcoaSLF6qQFVAol1Itg5MKHjvW7s+UyZlCuTXy1rCKf8/zIlg2sfIMC\n",
       "6gQdqZWwqi17CSfvnCiJdz5TsLa4Y+8KcItZ1JYZOlIroTnhZ0+o54ywr+tCNLazpXRV1jAeR0rC\n",
       "eu71hnK2G0WpANpRUT2PRmVfrp7WhutQKM32tu2VGbJs8mo6nMicTQLKg1G/w0L5TEXQjgpPopZo\n",
       "gAVsaNjkTv9yx/Fvb0//9wnk0Lvq8wMbvGJTTR6eywD6dcJ8VQ4cXJr5E9N8P9f4BQHu528QpucJ\n",
       "emalR6brVvdZyAH0LYL+j+/Q7W6o/t479B8tYyZVrzm4FwAAAABJRU5ErkJggg==\n",
       "\" style=\"display:inline;vertical-align:middle;\" /></a> <a class=\"ProveItLink\" href=\"../__pv_it/demonstrations/79e06eeb8adb6c4cdb53e786f76da3f29946bbc10/proof.ipynb\" style=\"text-decoration: none\">&nbsp;&#x22A2;&nbsp;&nbsp;</a><a class=\"ProveItLink\" href=\"../__pv_it/demonstrations/8410b37cf1318892a68ed30dd5dd50b5c16c29880/expr.ipynb\"><img src=\"data:image/png;base64,iVBORw0KGgoAAAANSUhEUgAAALkAAAAVCAMAAAAtrb/7AAAAPFBMVEX///9RUVGurq4bGxsLCwuI\n",
       "iIi6urrc3NxERETMzMwQEBCqqqpUVFQiIiJ2dnYyMjLu7u5mZmaYmJgAAACJ1RQ3AAAAAXRSTlMA\n",
       "QObYZgAAAkxJREFUSMe1l1li5CAMRJkFg9mX+9912jhmEWXidDL8JC2wXiGEAMaOlmJiP9P2yMPD\n",
       "oW9Ce0Lwjv1c29SOO9wwpW9AGyHl+1EhRilHKcI5JzUKxvk3euhJjOYvQgdqJTh7dWtFljqYoz9v\n",
       "vYtDoM7zSltD3Q3NbOMKtFGUCqAjtX778U8wzmSiPJbfSnUmno+Z50keV0vlQjKoHFABdKRS5WUJ\n",
       "iXJVukwWfZYdwcg0JUTyd8qTtNb+/WPtjmNOqQA6Up8o98VgMt10c7Y4dqNceCfmkK+U30FvswUp\n",
       "/8hgag6WFoYkmnI1flxCRzfcSvkNtFErwfi1jy07ss1tpFPhrCofq0Ys9WCX04b1a+UU2lMvgm4F\n",
       "+Gb2hs3bkVQK1pQzH/uPGQx5B8VUAG3UQtilFWsfMYLZqKGS6b1XzozlNVLFuBMZAxRSIbRRT8K2\n",
       "jjknPsSZt7k7i0JZ2BbzTmcoaSLF6qQFVAol1Itg5MKHjvW7s+UyZlCuTXy1rCKf8/zIlg2sfIMC\n",
       "6gQdqZWwqi17CSfvnCiJdz5TsLa4Y+8KcItZ1JYZOlIroTnhZ0+o54ywr+tCNLazpXRV1jAeR0rC\n",
       "eu71hnK2G0WpANpRUT2PRmVfrp7WhutQKM32tu2VGbJs8mo6nMicTQLKg1G/w0L5TEXQjgpPopZo\n",
       "gAVsaNjkTv9yx/Fvb0//9wnk0Lvq8wMbvGJTTR6eywD6dcJ8VQ4cXJr5E9N8P9f4BQHu528QpucJ\n",
       "emalR6brVvdZyAH0LYL+j+/Q7W6o/t479B8tYyZVrzm4FwAAAABJRU5ErkJggg==\n",
       "\" style=\"display:inline;vertical-align:middle;\" /></a></span><br>"
      ],
      "text/plain": [
       "NPS_kt: {{1, 2, 3, 4} not_proper_subset {1, 2, 3}} |- {1, 2, 3, 4} not_proper_subset {1, 2, 3}"
      ]
     },
     "execution_count": 194,
     "metadata": {},
     "output_type": "execute_result"
    }
   ],
   "source": [
    "display(set_1234)\n",
    "display(set_123)\n",
    "NPS_kt = NotProperSubset(set_1234, set_123).prove(assumptions=[NotProperSubset(set_1234, set_123)])"
   ]
  },
  {
   "cell_type": "markdown",
   "metadata": {},
   "source": [
    "### `NotProperSubset.derive_side_effects()`"
   ]
  },
  {
   "cell_type": "code",
   "execution_count": 195,
   "metadata": {},
   "outputs": [],
   "source": [
    "# Not quite clear how to test the derive_side_effects() method\n",
    "# NotProperSubset(set_1234, set_123).derive_side_effects(NPS_kt)"
   ]
  },
  {
   "cell_type": "markdown",
   "metadata": {},
   "source": [
    "### `NotProperSubset.conclude()`, `NotSubsetEq.conclude()`\n",
    "\n",
    "<font size=3>The <span style=\"font-family:courier;\">conclude()</span> method, called on a NotProperSubset expression such as $A\\not\\subset B$, derives the NotProperSubset as a judgment from the unfolded Not(ProperSubset()) relationship $\\neg(A\\subset B)$, if the unfolded version is known or assumed to be true. This works similarly for a NotSubsetEq expression.</font>"
   ]
  },
  {
   "cell_type": "code",
   "execution_count": 196,
   "metadata": {},
   "outputs": [
    {
     "data": {
      "text/html": [
       "<span style=\"font-size:20px;\"><a class=\"ProveItLink\" href=\"../__pv_it/demonstrations/cf0bf224467e7dbbd38250f6a03de812f1182ad00/expr.ipynb\"><img src=\"data:image/png;base64,iVBORw0KGgoAAAANSUhEUgAAANoAAAAVBAMAAADSje2JAAAAMFBMVEX///+6uroQEBCqqqqIiIgy\n",
       "MjJERETu7u6YmJjMzMxUVFTc3Nx2dnYiIiJmZmYAAAAutVgsAAAAAXRSTlMAQObYZgAAApJJREFU\n",
       "SMedlr9rFEEUx1/uh7vJJnfprKK5RkkaxUYQjGIrRC2NIhGbSAhskbMQ0WtsTf4A0SBExB+4pfgD\n",
       "wiEpJNEFCyFk4cD4g6BXGMIhFufMm98zu3viwB5v37zPfm/evnmzAOa404Deo38rTPHmoClAQKLr\n",
       "K/Avo2/M9eWiFChGuucauRaMmJtfr3Lr9doV6b1Hri/uA/NRCjzRAy6Qa50axYPM4S3Bh2G27Bac\n",
       "kHnaEHHmQNeRMAOls3Ut2m9x5Pq7DvNUQiiMolXagWrM40rjmWre0+dhBkqBwZMqeigST/G5WiGG\n",
       "gT8s7TWonuVxL6Y0NX8uSZJFtbaFMAOls96oUnsDtlq5AwO/xbTM5IqmFlyMzEwKNQfF2XNKbdJR\n",
       "owsWprcpVhNRtaaWjzQ1B0XgvYqeoT/Lltp+XtbB+jfumYcpVYCftfe2bKmZKAK34SdJfELVP9Jq\n",
       "HLPUNqR1apgnEtXKLbyJlRhDNTUTReA4u39JrhrZ8nORqVZpSaTAtkVxEdXgGa2vYEl1C4YqNRul\n",
       "wH1DjfcIpTYp2kwEe3bQugFsbajjTdvtRalZKAKaGs0kPDTUii14hUa1I9SOtdu/tuR70zLJUKlm\n",
       "owiMKLUZtybvApxmuZhWJQbjqibfQlZN2miTVQnLuihPREpk9hbZkcHm2nbs7VL9Btk0aJFxQO23\n",
       "8mFL7UwIGGahfPaHih4RSOXB7ncY+kSe1e12Y0jo393XvgzMgtXuI6nmPd5rqG0futTAMBtlwPm0\n",
       "zoXjqCzt0LVkXP+q2blyAS+2unJT3srTahBcK60rN3sCeleGWf2Q8uTMPLhW7vmWCdTt07QsluRL\n",
       "dyPF6qu5ahLNBGbtLwWY+P/vkoke3yV+BH8BIYb39F6VwQ0AAAAASUVORK5CYII=\n",
       "\" style=\"display:inline;vertical-align:middle;\" /></a> <a class=\"ProveItLink\" href=\"../__pv_it/demonstrations/dd9ecab98080e407aacc332d7fe58edd0a4d58750/proof.ipynb\" style=\"text-decoration: none\">&nbsp;&#x22A2;&nbsp;&nbsp;</a><a class=\"ProveItLink\" href=\"../__pv_it/demonstrations/8410b37cf1318892a68ed30dd5dd50b5c16c29880/expr.ipynb\"><img src=\"data:image/png;base64,iVBORw0KGgoAAAANSUhEUgAAALkAAAAVCAMAAAAtrb/7AAAAPFBMVEX///9RUVGurq4bGxsLCwuI\n",
       "iIi6urrc3NxERETMzMwQEBCqqqpUVFQiIiJ2dnYyMjLu7u5mZmaYmJgAAACJ1RQ3AAAAAXRSTlMA\n",
       "QObYZgAAAkxJREFUSMe1l1li5CAMRJkFg9mX+9912jhmEWXidDL8JC2wXiGEAMaOlmJiP9P2yMPD\n",
       "oW9Ce0Lwjv1c29SOO9wwpW9AGyHl+1EhRilHKcI5JzUKxvk3euhJjOYvQgdqJTh7dWtFljqYoz9v\n",
       "vYtDoM7zSltD3Q3NbOMKtFGUCqAjtX778U8wzmSiPJbfSnUmno+Z50keV0vlQjKoHFABdKRS5WUJ\n",
       "iXJVukwWfZYdwcg0JUTyd8qTtNb+/WPtjmNOqQA6Up8o98VgMt10c7Y4dqNceCfmkK+U30FvswUp\n",
       "/8hgag6WFoYkmnI1flxCRzfcSvkNtFErwfi1jy07ss1tpFPhrCofq0Ys9WCX04b1a+UU2lMvgm4F\n",
       "+Gb2hs3bkVQK1pQzH/uPGQx5B8VUAG3UQtilFWsfMYLZqKGS6b1XzozlNVLFuBMZAxRSIbRRT8K2\n",
       "jjknPsSZt7k7i0JZ2BbzTmcoaSLF6qQFVAol1Itg5MKHjvW7s+UyZlCuTXy1rCKf8/zIlg2sfIMC\n",
       "6gQdqZWwqi17CSfvnCiJdz5TsLa4Y+8KcItZ1JYZOlIroTnhZ0+o54ywr+tCNLazpXRV1jAeR0rC\n",
       "eu71hnK2G0WpANpRUT2PRmVfrp7WhutQKM32tu2VGbJs8mo6nMicTQLKg1G/w0L5TEXQjgpPopZo\n",
       "gAVsaNjkTv9yx/Fvb0//9wnk0Lvq8wMbvGJTTR6eywD6dcJ8VQ4cXJr5E9N8P9f4BQHu528QpucJ\n",
       "emalR6brVvdZyAH0LYL+j+/Q7W6o/t479B8tYyZVrzm4FwAAAABJRU5ErkJggg==\n",
       "\" style=\"display:inline;vertical-align:middle;\" /></a></span>"
      ],
      "text/plain": [
       "{[not]({1, 2, 3, 4} proper_subset {1, 2, 3})} |- {1, 2, 3, 4} not_proper_subset {1, 2, 3}"
      ]
     },
     "execution_count": 196,
     "metadata": {},
     "output_type": "execute_result"
    }
   ],
   "source": [
    "NotProperSubset(set_1234, set_123).conclude(assumptions=[Not(ProperSubset(set_1234, set_123))])"
   ]
  },
  {
   "cell_type": "code",
   "execution_count": 197,
   "metadata": {},
   "outputs": [
    {
     "data": {
      "text/html": [
       "<span style=\"font-size:20px;\"><a class=\"ProveItLink\" href=\"../__pv_it/demonstrations/48830638e1be04c16f16293c644c7384ff50377d0/expr.ipynb\"><img src=\"data:image/png;base64,iVBORw0KGgoAAAANSUhEUgAAANoAAAAVBAMAAADSje2JAAAAMFBMVEX///+6uroQEBCqqqqIiIgy\n",
       "MjJERETu7u6YmJjMzMxUVFTc3Nx2dnYiIiJmZmYAAAAutVgsAAAAAXRSTlMAQObYZgAAAplJREFU\n",
       "SMedlr9rFEEUx1/uh7vJJnfprKK5RkkaxUYQjMFWiFoaRSI2kSBskbMQ0WtsvfwBkgQhQdTgluIP\n",
       "CIekkJwuWAghCwvGHwS9whAOsThn3vye3b0TB/Z4++Z99rvz7s2bBTDHgxr0Hv07foq3C5oCeCS6\n",
       "ug7/MvrGkr6uKAXyge65Ra66EXP36w1uvd68Lr2L5PqSfGB3lAJP9YDL5GpSI3+UOZxl+DDMlh3D\n",
       "GZmnLRFHhrsWRdECmug64WegdLaqibkxR26/azNPyYfcKFqFPSiHPK4wrtS8Kyo7xOU8e+5noBQY\n",
       "nFRqQ4F4isvVciEM/GFpr0D5Ao97Ma3Uitpfga66n4HSWWdURb8BW63YhoHfYlpmcl1T+wwZagkU\n",
       "Zy+q6KmEGl2wMJ1tkfCAqjXYTZillkAReK+iZ+nPiqV2mJe11/zGPfMwLQvQW9bUViw1E0XgPvwk\n",
       "RRVR9Y+0GscstS1pnR3miUS1YoxvPaPEGKqpmSgCp9n9S3JVyJa/GZhqpVgiObYt8guoBmuTZiY5\n",
       "qtRslAJLhhrvEUptSrSZAA7soXUH2NpYDt/a7UWpWSgCmhrNJKwaavkYXqFRbgu1U63Wrx3ZOIrH\n",
       "ldyqoWajCIwotdlkTT4EOMdyMaNKDMZVTTpPDmbUpI02WJWwrIvyRKRAZu+RHeltb+6Gzj7Vr5FN\n",
       "gxYZR7TO1b9hdq7zPmCYhfLZHyoTIwIpPdr/DkOfSJ46nU4IEX3dQ61rwCzY6DxWatZ+2z12tYZh\n",
       "NsqAS2mdC8dJWdp+0spS6w44odWVG/JWnlaDkLTS1Bo9Ab0rw5x+SDlyZh6SljjfmrQ18P+t3hOo\n",
       "2qdpUSzJle5aitVXSa5NopnAnP2lABP//10y0eO7xA3gL1gH/dpXsrjuAAAAAElFTkSuQmCC\n",
       "\" style=\"display:inline;vertical-align:middle;\" /></a> <a class=\"ProveItLink\" href=\"../__pv_it/demonstrations/ce4c42276e0ded4a95978da595f4851d69c749680/proof.ipynb\" style=\"text-decoration: none\">&nbsp;&#x22A2;&nbsp;&nbsp;</a><a class=\"ProveItLink\" href=\"../__pv_it/demonstrations/6a077f7c738f5fcbfea5ff00f252a6ac1c342cf50/expr.ipynb\"><img src=\"data:image/png;base64,iVBORw0KGgoAAAANSUhEUgAAALkAAAAYBAMAAABUw0EkAAAAMFBMVEX///+IiIi6urrc3NxERETM\n",
       "zMwQEBCqqqpUVFQiIiJ2dnYyMjLu7u5mZmaYmJgAAABN0h6tAAAAAXRSTlMAQObYZgAAApJJREFU\n",
       "SMedlc9rE1EQx7/JJtkku0kKgjchJ2/igicVJIhSe8vBkyAUsaWCB08iYjEHf1CENuClW4TuQYIJ\n",
       "qAEvpRfTW7WICXgQ7Jb8AxJRtNQE1t2372cSzLYDy87Ozueb2cm894CjWDF6an4vQlKy05KeqvT+\n",
       "vTsJMDcj1RCfk+pxwvuOMxHI/5BjpnupHHrnGtM8et2/vokkg35HT5H79OUyZJQA2eAz9dv0xTay\n",
       "P4mjtfGQf/eqf9VZ4TP2vB1WQEIMNSt4W5TROlPffjWg7C4wT5zYPgqsvbEFoa5tWnhM40GIo7kW\n",
       "UrMyytWRZ+q3gBWLtO0GCk0avLAh1HcsmE1JnaOpKtK/IKFj1N+3sEIbLzrjSOpP/dq649SNAdK/\n",
       "IaFj1H1bp/+ZucY6bQXqNT6MGYxT9y3DXIISIN1UU+J/aYPruzSyhQ0+IFoFuM9Snw2pn3ZklAB3\n",
       "y0MFVJh3nC5Jh6gbbQKWgHf0vT43pL4KGQ2Aq8+HUlzupcJZ08tEHUtTYWeCHyCrccZS0VxbRQPg\n",
       "pFp7jKZoFhL7xPuIsPbwm94gV1RXI0dPQEEJkC4pKYvBS98KA6Z+z3X/dPjCNO584BU+UtT1Ns5A\n",
       "QnujM5N0ECPqqZIYASyImTGvdDB+Zq4BxyChNa4e858+B8NztvF6iXj5rj+0Zj8Eb0o7QbJv2/JO\n",
       "wFBtrfG1SgCCSvOee9LfQ+ZFsJo87yD0TrkXAZvM/ktvWajH20rtHDU8z6uGAEGl1UTsAUY8vaW2\n",
       "wbdEeST0HyA7yx7Fbs29LEakzotQbTLA93dzCiPelkim+3v9wOZ970UA2NmUF2cP98TJ5m986qkX\n",
       "TKczGdAPda7q8mm32I14EEe1xFGgyKYdJvkfVx3pB+fdelkAAAAASUVORK5CYII=\n",
       "\" style=\"display:inline;vertical-align:middle;\" /></a></span>"
      ],
      "text/plain": [
       "{[not]({1, 2, 3, 4} subset_eq {1, 2, 3})} |- {1, 2, 3, 4} not_subset_eq {1, 2, 3}"
      ]
     },
     "execution_count": 197,
     "metadata": {},
     "output_type": "execute_result"
    }
   ],
   "source": [
    "NotSubsetEq(set_1234, set_123).conclude(assumptions=[Not(SubsetEq(set_1234, set_123))])"
   ]
  },
  {
   "cell_type": "markdown",
   "metadata": {},
   "source": [
    "### `NotProperSubset.unfold()`, `NotSubsetEq.unfold()`\n",
    "\n",
    "<font size=3>The <span style=\"font-family:courier;\">unfold()</span> method, called on a NotProperSubset expression such as $A\\not\\subset B$, derives the “unfolded” version $\\neg(A\\subset B)$ as a judgment, if the original (self) folded version is known or assumed to be true. The method works similarly for NotSubsetEq expressions.</font>"
   ]
  },
  {
   "cell_type": "code",
   "execution_count": 198,
   "metadata": {},
   "outputs": [
    {
     "data": {
      "text/html": [
       "<span style=\"font-size:20px;\"><a class=\"ProveItLink\" href=\"../__pv_it/demonstrations/8410b37cf1318892a68ed30dd5dd50b5c16c29880/expr.ipynb\"><img src=\"data:image/png;base64,iVBORw0KGgoAAAANSUhEUgAAALkAAAAVCAMAAAAtrb/7AAAAPFBMVEX///9RUVGurq4bGxsLCwuI\n",
       "iIi6urrc3NxERETMzMwQEBCqqqpUVFQiIiJ2dnYyMjLu7u5mZmaYmJgAAACJ1RQ3AAAAAXRSTlMA\n",
       "QObYZgAAAkxJREFUSMe1l1li5CAMRJkFg9mX+9912jhmEWXidDL8JC2wXiGEAMaOlmJiP9P2yMPD\n",
       "oW9Ce0Lwjv1c29SOO9wwpW9AGyHl+1EhRilHKcI5JzUKxvk3euhJjOYvQgdqJTh7dWtFljqYoz9v\n",
       "vYtDoM7zSltD3Q3NbOMKtFGUCqAjtX778U8wzmSiPJbfSnUmno+Z50keV0vlQjKoHFABdKRS5WUJ\n",
       "iXJVukwWfZYdwcg0JUTyd8qTtNb+/WPtjmNOqQA6Up8o98VgMt10c7Y4dqNceCfmkK+U30FvswUp\n",
       "/8hgag6WFoYkmnI1flxCRzfcSvkNtFErwfi1jy07ss1tpFPhrCofq0Ys9WCX04b1a+UU2lMvgm4F\n",
       "+Gb2hs3bkVQK1pQzH/uPGQx5B8VUAG3UQtilFWsfMYLZqKGS6b1XzozlNVLFuBMZAxRSIbRRT8K2\n",
       "jjknPsSZt7k7i0JZ2BbzTmcoaSLF6qQFVAol1Itg5MKHjvW7s+UyZlCuTXy1rCKf8/zIlg2sfIMC\n",
       "6gQdqZWwqi17CSfvnCiJdz5TsLa4Y+8KcItZ1JYZOlIroTnhZ0+o54ywr+tCNLazpXRV1jAeR0rC\n",
       "eu71hnK2G0WpANpRUT2PRmVfrp7WhutQKM32tu2VGbJs8mo6nMicTQLKg1G/w0L5TEXQjgpPopZo\n",
       "gAVsaNjkTv9yx/Fvb0//9wnk0Lvq8wMbvGJTTR6eywD6dcJ8VQ4cXJr5E9N8P9f4BQHu528QpucJ\n",
       "emalR6brVvdZyAH0LYL+j+/Q7W6o/t479B8tYyZVrzm4FwAAAABJRU5ErkJggg==\n",
       "\" style=\"display:inline;vertical-align:middle;\" /></a> <a class=\"ProveItLink\" href=\"../__pv_it/demonstrations/b6511833f31d5cc092079431588fd1f1b51021480/proof.ipynb\" style=\"text-decoration: none\">&nbsp;&#x22A2;&nbsp;&nbsp;</a><a class=\"ProveItLink\" href=\"../__pv_it/demonstrations/cf0bf224467e7dbbd38250f6a03de812f1182ad00/expr.ipynb\"><img src=\"data:image/png;base64,iVBORw0KGgoAAAANSUhEUgAAANoAAAAVBAMAAADSje2JAAAAMFBMVEX///+6uroQEBCqqqqIiIgy\n",
       "MjJERETu7u6YmJjMzMxUVFTc3Nx2dnYiIiJmZmYAAAAutVgsAAAAAXRSTlMAQObYZgAAApJJREFU\n",
       "SMedlr9rFEEUx1/uh7vJJnfprKK5RkkaxUYQjGIrRC2NIhGbSAhskbMQ0WtsTf4A0SBExB+4pfgD\n",
       "wiEpJNEFCyFk4cD4g6BXGMIhFufMm98zu3viwB5v37zPfm/evnmzAOa404Deo38rTPHmoClAQKLr\n",
       "K/Avo2/M9eWiFChGuucauRaMmJtfr3Lr9doV6b1Hri/uA/NRCjzRAy6Qa50axYPM4S3Bh2G27Bac\n",
       "kHnaEHHmQNeRMAOls3Ut2m9x5Pq7DvNUQiiMolXagWrM40rjmWre0+dhBkqBwZMqeigST/G5WiGG\n",
       "gT8s7TWonuVxL6Y0NX8uSZJFtbaFMAOls96oUnsDtlq5AwO/xbTM5IqmFlyMzEwKNQfF2XNKbdJR\n",
       "owsWprcpVhNRtaaWjzQ1B0XgvYqeoT/Lltp+XtbB+jfumYcpVYCftfe2bKmZKAK34SdJfELVP9Jq\n",
       "HLPUNqR1apgnEtXKLbyJlRhDNTUTReA4u39JrhrZ8nORqVZpSaTAtkVxEdXgGa2vYEl1C4YqNRul\n",
       "wH1DjfcIpTYp2kwEe3bQugFsbajjTdvtRalZKAKaGs0kPDTUii14hUa1I9SOtdu/tuR70zLJUKlm\n",
       "owiMKLUZtybvApxmuZhWJQbjqibfQlZN2miTVQnLuihPREpk9hbZkcHm2nbs7VL9Btk0aJFxQO23\n",
       "8mFL7UwIGGahfPaHih4RSOXB7ncY+kSe1e12Y0jo393XvgzMgtXuI6nmPd5rqG0futTAMBtlwPm0\n",
       "zoXjqCzt0LVkXP+q2blyAS+2unJT3srTahBcK60rN3sCeleGWf2Q8uTMPLhW7vmWCdTt07QsluRL\n",
       "dyPF6qu5ahLNBGbtLwWY+P/vkoke3yV+BH8BIYb39F6VwQ0AAAAASUVORK5CYII=\n",
       "\" style=\"display:inline;vertical-align:middle;\" /></a></span>"
      ],
      "text/plain": [
       "{{1, 2, 3, 4} not_proper_subset {1, 2, 3}} |- [not]({1, 2, 3, 4} proper_subset {1, 2, 3})"
      ]
     },
     "execution_count": 198,
     "metadata": {},
     "output_type": "execute_result"
    }
   ],
   "source": [
    "NotProperSubset(set_1234, set_123).unfold(assumptions=[NotProperSubset(set_1234, set_123)])"
   ]
  },
  {
   "cell_type": "code",
   "execution_count": 199,
   "metadata": {},
   "outputs": [
    {
     "data": {
      "text/html": [
       "<span style=\"font-size:20px;\"><a class=\"ProveItLink\" href=\"../__pv_it/demonstrations/ae6887f1a89ef5b0118af793adbc351d86dd67360/expr.ipynb\"><img src=\"data:image/png;base64,iVBORw0KGgoAAAANSUhEUgAAADsAAAAUCAMAAAAEAbViAAAAPFBMVEX///9RUVGurq4bGxsLCwt2\n",
       "dnYyMjKqqqoiIiLu7u7c3NyIiIjMzMwQEBC6urpERERmZmZUVFSYmJgAAAAAibtpAAAAAXRSTlMA\n",
       "QObYZgAAAQpJREFUOMulU1sSwyAItA8RTRQJ979r1aRWq21mWn5MEFh2QaVOTdtvtxuLcIxMFMZL\n",
       "B5OMtXF6KkeUdQjjST0F8iojWzmDxAGWZo2CVCKLuN0nSxtBiHi/Ib43Y008EpKR330ebcNTu0+w\n",
       "CawyES6dIzeSYqlMowAqWGUOkpkub9tCaJqAWH7WCawNOWPp6VrPDaz6CJsJVVEPuqlGRXY7C56M\n",
       "Nm1CZKGObs6tMttyR24OmxYC+ukqfqlXeg4T2KMz9P10V2mU0akFGGGd6RcL9hrBU7v1YEIcU/Ep\n",
       "UcFjeD4E04+C/fXtBVkSgewz6QPjl9dlLjovJY47eW5g1a9m9M+p/8CqcBrxADNPC7f7HWyRAAAA\n",
       "AElFTkSuQmCC\n",
       "\" style=\"display:inline;vertical-align:middle;\" /></a> <a class=\"ProveItLink\" href=\"../__pv_it/demonstrations/8fc6303dd4806f1e729cbb3dc9e387f7bc0f1d9d0/proof.ipynb\" style=\"text-decoration: none\">&nbsp;&#x22A2;&nbsp;&nbsp;</a><a class=\"ProveItLink\" href=\"../__pv_it/demonstrations/7d2f8456d809aa0c6b25149292ece28b1627c11e0/expr.ipynb\"><img src=\"data:image/png;base64,iVBORw0KGgoAAAANSUhEUgAAAFsAAAAUBAMAAAAQFlwTAAAAMFBMVEX///+6uroQEBCqqqqIiIgy\n",
       "MjJERETu7u6YmJjMzMxUVFTc3Nx2dnYiIiJmZmYAAAAutVgsAAAAAXRSTlMAQObYZgAAAWdJREFU\n",
       "KM9jYIAD7gYG/MAahVcGxF3/171KE8CilDOAgYFrA7JINIhQY2Dg+4lFOesHBgb2ACQBjgcgQ34w\n",
       "MDD+w6K89TuQOIIkwAuyiuU3UN8XiEDb3bt3b0Il2e2AEgxFSMr3ggg2BaDgdTB/62lkq1k+glyE\n",
       "5Cs/EMG/gIHzVgGYfxvZLeLMQFcy8DxAiGSAiPkrWnINwFw+AyTV7AKcIBdyBDC8Bbrw7h0g+zJI\n",
       "3H8DA7sWxCvIhjMycIP8z3wBwt0FxIogRhJIiwFMCA5mvXv1DRRuH9CU/wIpd4BFGhwAvaiKpvwy\n",
       "NNgZ1gugO4YZiC+B3ITkmAxosHN+AwvxOCCUbwbieIhXISkCiM+BAhYY7ELpELFgRNoDGZoPjEW+\n",
       "AwgjZIFpKP7Xu2XJUH7VwgJoKOZ/LWAw+38PaNoEtESADObkIhIBBNSiJzH8ADmJMWQTUo2SgFFD\n",
       "GhtgQ3EuwczXzcAAAKIsWh5tk6PkAAAAAElFTkSuQmCC\n",
       "\" style=\"display:inline;vertical-align:middle;\" /></a></span>"
      ],
      "text/plain": [
       "{B not_proper_subset A} |- [not](B proper_subset A)"
      ]
     },
     "execution_count": 199,
     "metadata": {},
     "output_type": "execute_result"
    }
   ],
   "source": [
    "NotProperSubset(B, A).unfold(assumptions=[NotProperSubset(B, A)])"
   ]
  },
  {
   "cell_type": "code",
   "execution_count": 200,
   "metadata": {},
   "outputs": [
    {
     "data": {
      "text/html": [
       "<span style=\"font-size:20px;\"><a class=\"ProveItLink\" href=\"../__pv_it/demonstrations/6a077f7c738f5fcbfea5ff00f252a6ac1c342cf50/expr.ipynb\"><img src=\"data:image/png;base64,iVBORw0KGgoAAAANSUhEUgAAALkAAAAYBAMAAABUw0EkAAAAMFBMVEX///+IiIi6urrc3NxERETM\n",
       "zMwQEBCqqqpUVFQiIiJ2dnYyMjLu7u5mZmaYmJgAAABN0h6tAAAAAXRSTlMAQObYZgAAApJJREFU\n",
       "SMedlc9rE1EQx7/JJtkku0kKgjchJ2/igicVJIhSe8vBkyAUsaWCB08iYjEHf1CENuClW4TuQYIJ\n",
       "qAEvpRfTW7WICXgQ7Jb8AxJRtNQE1t2372cSzLYDy87Ozueb2cm894CjWDF6an4vQlKy05KeqvT+\n",
       "vTsJMDcj1RCfk+pxwvuOMxHI/5BjpnupHHrnGtM8et2/vokkg35HT5H79OUyZJQA2eAz9dv0xTay\n",
       "P4mjtfGQf/eqf9VZ4TP2vB1WQEIMNSt4W5TROlPffjWg7C4wT5zYPgqsvbEFoa5tWnhM40GIo7kW\n",
       "UrMyytWRZ+q3gBWLtO0GCk0avLAh1HcsmE1JnaOpKtK/IKFj1N+3sEIbLzrjSOpP/dq649SNAdK/\n",
       "IaFj1H1bp/+ZucY6bQXqNT6MGYxT9y3DXIISIN1UU+J/aYPruzSyhQ0+IFoFuM9Snw2pn3ZklAB3\n",
       "y0MFVJh3nC5Jh6gbbQKWgHf0vT43pL4KGQ2Aq8+HUlzupcJZ08tEHUtTYWeCHyCrccZS0VxbRQPg\n",
       "pFp7jKZoFhL7xPuIsPbwm94gV1RXI0dPQEEJkC4pKYvBS98KA6Z+z3X/dPjCNO584BU+UtT1Ns5A\n",
       "QnujM5N0ECPqqZIYASyImTGvdDB+Zq4BxyChNa4e858+B8NztvF6iXj5rj+0Zj8Eb0o7QbJv2/JO\n",
       "wFBtrfG1SgCCSvOee9LfQ+ZFsJo87yD0TrkXAZvM/ktvWajH20rtHDU8z6uGAEGl1UTsAUY8vaW2\n",
       "wbdEeST0HyA7yx7Fbs29LEakzotQbTLA93dzCiPelkim+3v9wOZ970UA2NmUF2cP98TJ5m986qkX\n",
       "TKczGdAPda7q8mm32I14EEe1xFGgyKYdJvkfVx3pB+fdelkAAAAASUVORK5CYII=\n",
       "\" style=\"display:inline;vertical-align:middle;\" /></a> <a class=\"ProveItLink\" href=\"../__pv_it/demonstrations/ceb1c9354df6e15be8574d51c0ef7383c17fd0d40/proof.ipynb\" style=\"text-decoration: none\">&nbsp;&#x22A2;&nbsp;&nbsp;</a><a class=\"ProveItLink\" href=\"../__pv_it/demonstrations/48830638e1be04c16f16293c644c7384ff50377d0/expr.ipynb\"><img src=\"data:image/png;base64,iVBORw0KGgoAAAANSUhEUgAAANoAAAAVBAMAAADSje2JAAAAMFBMVEX///+6uroQEBCqqqqIiIgy\n",
       "MjJERETu7u6YmJjMzMxUVFTc3Nx2dnYiIiJmZmYAAAAutVgsAAAAAXRSTlMAQObYZgAAAplJREFU\n",
       "SMedlr9rFEEUx1/uh7vJJnfprKK5RkkaxUYQjMFWiFoaRSI2kSBskbMQ0WtsvfwBkgQhQdTgluIP\n",
       "CIekkJwuWAghCwvGHwS9whAOsThn3vye3b0TB/Z4++Z99rvz7s2bBTDHgxr0Hv07foq3C5oCeCS6\n",
       "ug7/MvrGkr6uKAXyge65Ra66EXP36w1uvd68Lr2L5PqSfGB3lAJP9YDL5GpSI3+UOZxl+DDMlh3D\n",
       "GZmnLRFHhrsWRdECmug64WegdLaqibkxR26/azNPyYfcKFqFPSiHPK4wrtS8Kyo7xOU8e+5noBQY\n",
       "nFRqQ4F4isvVciEM/GFpr0D5Ao97Ma3Uitpfga66n4HSWWdURb8BW63YhoHfYlpmcl1T+wwZagkU\n",
       "Zy+q6KmEGl2wMJ1tkfCAqjXYTZillkAReK+iZ+nPiqV2mJe11/zGPfMwLQvQW9bUViw1E0XgPvwk\n",
       "RRVR9Y+0GscstS1pnR3miUS1YoxvPaPEGKqpmSgCp9n9S3JVyJa/GZhqpVgiObYt8guoBmuTZiY5\n",
       "qtRslAJLhhrvEUptSrSZAA7soXUH2NpYDt/a7UWpWSgCmhrNJKwaavkYXqFRbgu1U63Wrx3ZOIrH\n",
       "ldyqoWajCIwotdlkTT4EOMdyMaNKDMZVTTpPDmbUpI02WJWwrIvyRKRAZu+RHeltb+6Gzj7Vr5FN\n",
       "gxYZR7TO1b9hdq7zPmCYhfLZHyoTIwIpPdr/DkOfSJ46nU4IEX3dQ61rwCzY6DxWatZ+2z12tYZh\n",
       "NsqAS2mdC8dJWdp+0spS6w44odWVG/JWnlaDkLTS1Bo9Ab0rw5x+SDlyZh6SljjfmrQ18P+t3hOo\n",
       "2qdpUSzJle5aitVXSa5NopnAnP2lABP//10y0eO7xA3gL1gH/dpXsrjuAAAAAElFTkSuQmCC\n",
       "\" style=\"display:inline;vertical-align:middle;\" /></a></span>"
      ],
      "text/plain": [
       "{{1, 2, 3, 4} not_subset_eq {1, 2, 3}} |- [not]({1, 2, 3, 4} subset_eq {1, 2, 3})"
      ]
     },
     "execution_count": 200,
     "metadata": {},
     "output_type": "execute_result"
    }
   ],
   "source": [
    "NotSubsetEq(set_1234, set_123).unfold(assumptions=[NotSubsetEq(set_1234, set_123)])"
   ]
  },
  {
   "cell_type": "code",
   "execution_count": 201,
   "metadata": {},
   "outputs": [
    {
     "data": {
      "text/html": [
       "<span style=\"font-size:20px;\"><a class=\"ProveItLink\" href=\"../__pv_it/demonstrations/e2d2056ad2ec1579d083be643d764fde00660dd80/expr.ipynb\"><img src=\"data:image/png;base64,iVBORw0KGgoAAAANSUhEUgAAADsAAAAYBAMAAAC2M5gYAAAAMFBMVEX///92dnYyMjKqqqoiIiLu\n",
       "7u7c3NyIiIjMzMwQEBC6urpERERmZmZUVFSYmJgAAADEjrHzAAAAAXRSTlMAQObYZgAAASVJREFU\n",
       "KM9jYEAHCxjwAge8snwCaAJv/985uxtuJFMAXKIJQs1mYOD5AdG6xWWmSwNMWh9McvxjYOD6A2Kx\n",
       "KSYw3EBYow82iP0bkPkdxApKYGBVgEsHn08AUdwTGBgiXUGsy0C1D+DSD+rBDuK/wMDhGwD1Ewtc\n",
       "livAHqy0/97zLQZgqy8wMBjCpaMY+gtAdD3Qxrlg6Q0MDGpIoZd/AETvBCkxgBgOUgEBHHfO3Adz\n",
       "/oKkwebIMfDAg4eLgYFTAepthvtgYSaDELjZQONYJkC9zfEbLMS69zhMlg0ozfQBpAWoZuVWqIWf\n",
       "XFwggZoCChCgRl79v2dub4ZZeADKiP6vysC8/8sB1MjjbsAb2Ul4ZUW+uMDsJiMhMQvgleYOwCvN\n",
       "hiECAHiESGorWx5SAAAAAElFTkSuQmCC\n",
       "\" style=\"display:inline;vertical-align:middle;\" /></a> <a class=\"ProveItLink\" href=\"../__pv_it/demonstrations/34e60b11017391e8cf7fc9a261547784677337910/proof.ipynb\" style=\"text-decoration: none\">&nbsp;&#x22A2;&nbsp;&nbsp;</a><a class=\"ProveItLink\" href=\"../__pv_it/demonstrations/2d31d50f3df41aa3c12263f24d6844435fed607c0/expr.ipynb\"><img src=\"data:image/png;base64,iVBORw0KGgoAAAANSUhEUgAAAFsAAAAUBAMAAAAQFlwTAAAAMFBMVEX///+6uroQEBCqqqqIiIgy\n",
       "MjJERETu7u6YmJjMzMxUVFTc3Nx2dnYiIiJmZmYAAAAutVgsAAAAAXRSTlMAQObYZgAAAWtJREFU\n",
       "KM9jYIAD7gYG/MAahVcGxF3/171KE8CilDOAgYFrA7JINIhQY2Dg+wnhd929e/cmTJL1AwMDewCS\n",
       "ao4HIEN+MDAw/gPzt55GNqv1O5A4giTAC7KK5TdQ3xeEZTDAbgeUYChCEtkLItgUgILXQSw+A2Tl\n",
       "HCwfQS5C8pUfiOBfwMB5qwBsGYpPxZmBrmTgeYAQyQAR81e05EKM3YXiFgFOkAs5AhjeAv1/9w6Q\n",
       "fRkk7r+BgV0LHqxwwMjADfI/8wUGuFGKIEYSSIsBhmNmvXv1DRRuH9CU/wIpdwCxeByQlAO9qIqm\n",
       "/DI02BnWQ/wfjFDNDMSXQG5CckwGNNg5v0HEqhYWwJRvBuJ4iFchKQKIz4ECFhjsQulQRXNyoYmA\n",
       "G2RoPjAW+Q4gbJQFpqH4X++WJaOnLvb8rwUMZv/vAU2bgJYI8INa9CSGHyAnMYZsFCkeUPQhEjDY\n",
       "VQHo2QMvYENxLsHM183AAACPI17YLso1ogAAAABJRU5ErkJggg==\n",
       "\" style=\"display:inline;vertical-align:middle;\" /></a></span>"
      ],
      "text/plain": [
       "{B not_subset_eq A} |- [not](B subset_eq A)"
      ]
     },
     "execution_count": 201,
     "metadata": {},
     "output_type": "execute_result"
    }
   ],
   "source": [
    "NotSubsetEq(B, A).unfold(assumptions=[NotSubsetEq(B, A)])"
   ]
  },
  {
   "cell_type": "markdown",
   "metadata": {},
   "source": [
    "### `NotProperSubset.conclude_as_folded()`, `NotSubsetEq.conclude_as_folded()`\n",
    "\n",
    "<font size=3>The <span style=\"font-family:courier;\">conclude_as_folded()</span> method, called on a NotProperSubset expression such as $A\\not\\subset B$, derives the (self) “folded” version $A\\not\\subset B$, from the unfolded version $\\neg(A\\subset B)$ being known or assumed to be true. This method is also being called from the <span style=\"font-family:courier;\">conclude()</span> method. The method works similarly for the NotSubsetEq class.</font>"
   ]
  },
  {
   "cell_type": "code",
   "execution_count": 202,
   "metadata": {},
   "outputs": [
    {
     "data": {
      "text/html": [
       "<span style=\"font-size:20px;\"><a class=\"ProveItLink\" href=\"../__pv_it/demonstrations/cf0bf224467e7dbbd38250f6a03de812f1182ad00/expr.ipynb\"><img src=\"data:image/png;base64,iVBORw0KGgoAAAANSUhEUgAAANoAAAAVBAMAAADSje2JAAAAMFBMVEX///+6uroQEBCqqqqIiIgy\n",
       "MjJERETu7u6YmJjMzMxUVFTc3Nx2dnYiIiJmZmYAAAAutVgsAAAAAXRSTlMAQObYZgAAApJJREFU\n",
       "SMedlr9rFEEUx1/uh7vJJnfprKK5RkkaxUYQjGIrRC2NIhGbSAhskbMQ0WtsTf4A0SBExB+4pfgD\n",
       "wiEpJNEFCyFk4cD4g6BXGMIhFufMm98zu3viwB5v37zPfm/evnmzAOa404Deo38rTPHmoClAQKLr\n",
       "K/Avo2/M9eWiFChGuucauRaMmJtfr3Lr9doV6b1Hri/uA/NRCjzRAy6Qa50axYPM4S3Bh2G27Bac\n",
       "kHnaEHHmQNeRMAOls3Ut2m9x5Pq7DvNUQiiMolXagWrM40rjmWre0+dhBkqBwZMqeigST/G5WiGG\n",
       "gT8s7TWonuVxL6Y0NX8uSZJFtbaFMAOls96oUnsDtlq5AwO/xbTM5IqmFlyMzEwKNQfF2XNKbdJR\n",
       "owsWprcpVhNRtaaWjzQ1B0XgvYqeoT/Lltp+XtbB+jfumYcpVYCftfe2bKmZKAK34SdJfELVP9Jq\n",
       "HLPUNqR1apgnEtXKLbyJlRhDNTUTReA4u39JrhrZ8nORqVZpSaTAtkVxEdXgGa2vYEl1C4YqNRul\n",
       "wH1DjfcIpTYp2kwEe3bQugFsbajjTdvtRalZKAKaGs0kPDTUii14hUa1I9SOtdu/tuR70zLJUKlm\n",
       "owiMKLUZtybvApxmuZhWJQbjqibfQlZN2miTVQnLuihPREpk9hbZkcHm2nbs7VL9Btk0aJFxQO23\n",
       "8mFL7UwIGGahfPaHih4RSOXB7ncY+kSe1e12Y0jo393XvgzMgtXuI6nmPd5rqG0futTAMBtlwPm0\n",
       "zoXjqCzt0LVkXP+q2blyAS+2unJT3srTahBcK60rN3sCeleGWf2Q8uTMPLhW7vmWCdTt07QsluRL\n",
       "dyPF6qu5ahLNBGbtLwWY+P/vkoke3yV+BH8BIYb39F6VwQ0AAAAASUVORK5CYII=\n",
       "\" style=\"display:inline;vertical-align:middle;\" /></a> <a class=\"ProveItLink\" href=\"../__pv_it/demonstrations/dd9ecab98080e407aacc332d7fe58edd0a4d58750/proof.ipynb\" style=\"text-decoration: none\">&nbsp;&#x22A2;&nbsp;&nbsp;</a><a class=\"ProveItLink\" href=\"../__pv_it/demonstrations/8410b37cf1318892a68ed30dd5dd50b5c16c29880/expr.ipynb\"><img src=\"data:image/png;base64,iVBORw0KGgoAAAANSUhEUgAAALkAAAAVCAMAAAAtrb/7AAAAPFBMVEX///9RUVGurq4bGxsLCwuI\n",
       "iIi6urrc3NxERETMzMwQEBCqqqpUVFQiIiJ2dnYyMjLu7u5mZmaYmJgAAACJ1RQ3AAAAAXRSTlMA\n",
       "QObYZgAAAkxJREFUSMe1l1li5CAMRJkFg9mX+9912jhmEWXidDL8JC2wXiGEAMaOlmJiP9P2yMPD\n",
       "oW9Ce0Lwjv1c29SOO9wwpW9AGyHl+1EhRilHKcI5JzUKxvk3euhJjOYvQgdqJTh7dWtFljqYoz9v\n",
       "vYtDoM7zSltD3Q3NbOMKtFGUCqAjtX778U8wzmSiPJbfSnUmno+Z50keV0vlQjKoHFABdKRS5WUJ\n",
       "iXJVukwWfZYdwcg0JUTyd8qTtNb+/WPtjmNOqQA6Up8o98VgMt10c7Y4dqNceCfmkK+U30FvswUp\n",
       "/8hgag6WFoYkmnI1flxCRzfcSvkNtFErwfi1jy07ss1tpFPhrCofq0Ys9WCX04b1a+UU2lMvgm4F\n",
       "+Gb2hs3bkVQK1pQzH/uPGQx5B8VUAG3UQtilFWsfMYLZqKGS6b1XzozlNVLFuBMZAxRSIbRRT8K2\n",
       "jjknPsSZt7k7i0JZ2BbzTmcoaSLF6qQFVAol1Itg5MKHjvW7s+UyZlCuTXy1rCKf8/zIlg2sfIMC\n",
       "6gQdqZWwqi17CSfvnCiJdz5TsLa4Y+8KcItZ1JYZOlIroTnhZ0+o54ywr+tCNLazpXRV1jAeR0rC\n",
       "eu71hnK2G0WpANpRUT2PRmVfrp7WhutQKM32tu2VGbJs8mo6nMicTQLKg1G/w0L5TEXQjgpPopZo\n",
       "gAVsaNjkTv9yx/Fvb0//9wnk0Lvq8wMbvGJTTR6eywD6dcJ8VQ4cXJr5E9N8P9f4BQHu528QpucJ\n",
       "emalR6brVvdZyAH0LYL+j+/Q7W6o/t479B8tYyZVrzm4FwAAAABJRU5ErkJggg==\n",
       "\" style=\"display:inline;vertical-align:middle;\" /></a></span>"
      ],
      "text/plain": [
       "{[not]({1, 2, 3, 4} proper_subset {1, 2, 3})} |- {1, 2, 3, 4} not_proper_subset {1, 2, 3}"
      ]
     },
     "execution_count": 202,
     "metadata": {},
     "output_type": "execute_result"
    }
   ],
   "source": [
    "NotProperSubset(set_1234, set_123).conclude_as_folded(assumptions=[Not(ProperSubset(set_1234, set_123))])"
   ]
  },
  {
   "cell_type": "code",
   "execution_count": 203,
   "metadata": {},
   "outputs": [
    {
     "data": {
      "text/html": [
       "<span style=\"font-size:20px;\"><a class=\"ProveItLink\" href=\"../__pv_it/demonstrations/48830638e1be04c16f16293c644c7384ff50377d0/expr.ipynb\"><img src=\"data:image/png;base64,iVBORw0KGgoAAAANSUhEUgAAANoAAAAVBAMAAADSje2JAAAAMFBMVEX///+6uroQEBCqqqqIiIgy\n",
       "MjJERETu7u6YmJjMzMxUVFTc3Nx2dnYiIiJmZmYAAAAutVgsAAAAAXRSTlMAQObYZgAAAplJREFU\n",
       "SMedlr9rFEEUx1/uh7vJJnfprKK5RkkaxUYQjMFWiFoaRSI2kSBskbMQ0WtsvfwBkgQhQdTgluIP\n",
       "CIekkJwuWAghCwvGHwS9whAOsThn3vye3b0TB/Z4++Z99rvz7s2bBTDHgxr0Hv07foq3C5oCeCS6\n",
       "ug7/MvrGkr6uKAXyge65Ra66EXP36w1uvd68Lr2L5PqSfGB3lAJP9YDL5GpSI3+UOZxl+DDMlh3D\n",
       "GZmnLRFHhrsWRdECmug64WegdLaqibkxR26/azNPyYfcKFqFPSiHPK4wrtS8Kyo7xOU8e+5noBQY\n",
       "nFRqQ4F4isvVciEM/GFpr0D5Ao97Ma3Uitpfga66n4HSWWdURb8BW63YhoHfYlpmcl1T+wwZagkU\n",
       "Zy+q6KmEGl2wMJ1tkfCAqjXYTZillkAReK+iZ+nPiqV2mJe11/zGPfMwLQvQW9bUViw1E0XgPvwk\n",
       "RRVR9Y+0GscstS1pnR3miUS1YoxvPaPEGKqpmSgCp9n9S3JVyJa/GZhqpVgiObYt8guoBmuTZiY5\n",
       "qtRslAJLhhrvEUptSrSZAA7soXUH2NpYDt/a7UWpWSgCmhrNJKwaavkYXqFRbgu1U63Wrx3ZOIrH\n",
       "ldyqoWajCIwotdlkTT4EOMdyMaNKDMZVTTpPDmbUpI02WJWwrIvyRKRAZu+RHeltb+6Gzj7Vr5FN\n",
       "gxYZR7TO1b9hdq7zPmCYhfLZHyoTIwIpPdr/DkOfSJ46nU4IEX3dQ61rwCzY6DxWatZ+2z12tYZh\n",
       "NsqAS2mdC8dJWdp+0spS6w44odWVG/JWnlaDkLTS1Bo9Ab0rw5x+SDlyZh6SljjfmrQ18P+t3hOo\n",
       "2qdpUSzJle5aitVXSa5NopnAnP2lABP//10y0eO7xA3gL1gH/dpXsrjuAAAAAElFTkSuQmCC\n",
       "\" style=\"display:inline;vertical-align:middle;\" /></a> <a class=\"ProveItLink\" href=\"../__pv_it/demonstrations/ce4c42276e0ded4a95978da595f4851d69c749680/proof.ipynb\" style=\"text-decoration: none\">&nbsp;&#x22A2;&nbsp;&nbsp;</a><a class=\"ProveItLink\" href=\"../__pv_it/demonstrations/6a077f7c738f5fcbfea5ff00f252a6ac1c342cf50/expr.ipynb\"><img src=\"data:image/png;base64,iVBORw0KGgoAAAANSUhEUgAAALkAAAAYBAMAAABUw0EkAAAAMFBMVEX///+IiIi6urrc3NxERETM\n",
       "zMwQEBCqqqpUVFQiIiJ2dnYyMjLu7u5mZmaYmJgAAABN0h6tAAAAAXRSTlMAQObYZgAAApJJREFU\n",
       "SMedlc9rE1EQx7/JJtkku0kKgjchJ2/igicVJIhSe8vBkyAUsaWCB08iYjEHf1CENuClW4TuQYIJ\n",
       "qAEvpRfTW7WICXgQ7Jb8AxJRtNQE1t2372cSzLYDy87Ozueb2cm894CjWDF6an4vQlKy05KeqvT+\n",
       "vTsJMDcj1RCfk+pxwvuOMxHI/5BjpnupHHrnGtM8et2/vokkg35HT5H79OUyZJQA2eAz9dv0xTay\n",
       "P4mjtfGQf/eqf9VZ4TP2vB1WQEIMNSt4W5TROlPffjWg7C4wT5zYPgqsvbEFoa5tWnhM40GIo7kW\n",
       "UrMyytWRZ+q3gBWLtO0GCk0avLAh1HcsmE1JnaOpKtK/IKFj1N+3sEIbLzrjSOpP/dq649SNAdK/\n",
       "IaFj1H1bp/+ZucY6bQXqNT6MGYxT9y3DXIISIN1UU+J/aYPruzSyhQ0+IFoFuM9Snw2pn3ZklAB3\n",
       "y0MFVJh3nC5Jh6gbbQKWgHf0vT43pL4KGQ2Aq8+HUlzupcJZ08tEHUtTYWeCHyCrccZS0VxbRQPg\n",
       "pFp7jKZoFhL7xPuIsPbwm94gV1RXI0dPQEEJkC4pKYvBS98KA6Z+z3X/dPjCNO584BU+UtT1Ns5A\n",
       "QnujM5N0ECPqqZIYASyImTGvdDB+Zq4BxyChNa4e858+B8NztvF6iXj5rj+0Zj8Eb0o7QbJv2/JO\n",
       "wFBtrfG1SgCCSvOee9LfQ+ZFsJo87yD0TrkXAZvM/ktvWajH20rtHDU8z6uGAEGl1UTsAUY8vaW2\n",
       "wbdEeST0HyA7yx7Fbs29LEakzotQbTLA93dzCiPelkim+3v9wOZ970UA2NmUF2cP98TJ5m986qkX\n",
       "TKczGdAPda7q8mm32I14EEe1xFGgyKYdJvkfVx3pB+fdelkAAAAASUVORK5CYII=\n",
       "\" style=\"display:inline;vertical-align:middle;\" /></a></span>"
      ],
      "text/plain": [
       "{[not]({1, 2, 3, 4} subset_eq {1, 2, 3})} |- {1, 2, 3, 4} not_subset_eq {1, 2, 3}"
      ]
     },
     "execution_count": 203,
     "metadata": {},
     "output_type": "execute_result"
    }
   ],
   "source": [
    "NotSubsetEq(set_1234, set_123).conclude_as_folded(assumptions=[Not(SubsetEq(set_1234, set_123))])"
   ]
  },
  {
   "cell_type": "markdown",
   "metadata": {},
   "source": [
    "### `NotProperSubset.deduce_in_bool()`, `NotSubsetEq.deduce_in_bool()`\n",
    "\n",
    "<font size=3>The <span style=\"font-family:courier;\">deduce_in_bool()</span> method, called on a NotProperSubset expression such as $A\\not\\subset B$, derives the fact that $A\\not\\subset B \\in \\mathbb{B}$ --- i.e. such subset claims are Boolean values. The method works similarly for the NotSubsetEq class.</font>"
   ]
  },
  {
   "cell_type": "code",
   "execution_count": 204,
   "metadata": {},
   "outputs": [
    {
     "data": {
      "text/html": [
       "<span style=\"font-size:20px;\"> <a class=\"ProveItLink\" href=\"../__pv_it/demonstrations/12770ef494f38dbcbe415562df76867504ebc62f0/proof.ipynb\" style=\"text-decoration: none\">&nbsp;&#x22A2;&nbsp;&nbsp;</a><a class=\"ProveItLink\" href=\"../__pv_it/theorems/3e1f17a38848fe94dda886db30891f08001ee3cb0/expr.ipynb\"><img src=\"data:image/png;base64,iVBORw0KGgoAAAANSUhEUgAAAHEAAAAUCAMAAACNmSILAAAAPFBMVEX///9RUVGurq4bGxsLCwtU\n",
       "VFTMzMx2dna6uroQEBCqqqqIiIgiIiJmZmYyMjJERETu7u6YmJjc3NwAAAB6b+6fAAAAAXRSTlMA\n",
       "QObYZgAAAeBJREFUSMedVtmCgyAMZI9wGQiQ///XBZGKiNouLxWbZJjJgUIIkaJ4XCpc/2eT+GwF\n",
       "6nfSz2zS8W0EZnAOiHTZwgPkgoaIvUFYzYU/2Hue+Wym+zL1mI5lObN/YuWFXDK14Iqc0R1O73mi\n",
       "X6LhheSaCc2rt1oeEEno7LBIUQJhTzFYx0eJIiHi7w+iPOi0WUVesYIRZyf0I6K1BTHhwTTH0of8\n",
       "qTShKKhCBINVEd87SVrClKPSpWaWXlQdhOW+cqsAJEdEhjU0whZadVGCD3NVNUrIkagDCLpkqMuJ\n",
       "s/XM4pRGiHEhtHv6uypL0zwaZDZFit0rUyw6cnfcqviZ4pbGYKC1JPbRrypHxahyme8ZkLnFHPDu\n",
       "kap2IC7SmJFtI71HMb6tEbH+dIj1yfhhNtBZJYaGuJwQ0zXHQh86VbcHNEdV9Zli60YBrbB1p6q5\n",
       "RoQyC16Vk+x56JTO9meKrRvlKwN95bjlhmNOZKvrV19SPwK81W4ysyoNbaj1gVN9S9nZlMsWSjlo\n",
       "egRiXtvI5gfcQQKY77G7wLcxvkf2fTkHIB1uJjneDn77pdaJNUy58frB416vTlfzPbrboR/eufAe\n",
       "J/mQ1RuSVr11w/qPAIcb+T8U6dOPgJuvDv2Of/wI8A/UKhbgKdeHbwAAAABJRU5ErkJggg==\n",
       "\" style=\"display:inline;vertical-align:middle;\" /></a></span>"
      ],
      "text/plain": [
       "|- (A not_proper_subset B) in BOOLEAN"
      ]
     },
     "execution_count": 204,
     "metadata": {},
     "output_type": "execute_result"
    }
   ],
   "source": [
    "# NotProperSubset claims (correct or not) are Boolean values:\n",
    "NotProperSubset(A, B).deduce_in_bool()"
   ]
  },
  {
   "cell_type": "code",
   "execution_count": 205,
   "metadata": {},
   "outputs": [
    {
     "data": {
      "text/html": [
       "<span style=\"font-size:20px;\"> <a class=\"ProveItLink\" href=\"../__pv_it/demonstrations/025eaa7fb27e9604d98f199c0a1ea6ce60e4df6e0/proof.ipynb\" style=\"text-decoration: none\">&nbsp;&#x22A2;&nbsp;&nbsp;</a><a class=\"ProveItLink\" href=\"../__pv_it/demonstrations/477a2d0e27e3d483291c3b42f2f25bf3ecfd00d50/expr.ipynb\"><img src=\"data:image/png;base64,iVBORw0KGgoAAAANSUhEUgAAAOwAAAAVCAMAAABykPL3AAAAPFBMVEX///9RUVGurq4bGxsLCwvM\n",
       "zMxUVFR2dna6uroQEBCqqqqIiIgiIiJmZmYyMjJERETu7u6YmJjc3NwAAABkLMi5AAAAAXRSTlMA\n",
       "QObYZgAAAwVJREFUWMO1WNmWpCAMdWaafcf//9cGBGUJStk9vtQpJPdmIwluW/U45bZfeZASdnHr\n",
       "K84P8PvHH3RWk+3XHsoQ/II0Wr7mLPjcfyZnTfbxfreHyUWnG6bir9KwY9vl95wFH99bKyQzZtdM\n",
       "Ypr+67yd3Jqj1arzdn6DljnPOL/mLJJWP6ijNySC42w6Lk4tER8mrCTYbudo3mwfGHvHeUoSca+P\n",
       "2WgwU6AtUku/QpxNWHgyzIDmjJTy65+UaNXYW85T0jKAR+rOWM6jsV4uERO5msU59zoBr4kfA/sD\n",
       "zuulpk3J6Ov0YSyhsTQJNYp7RZRgjZDGQqguq4gQoqm5QU6gnHukdfiRPwbNVAYo7zkvfKLq6m7B\n",
       "NKYS4SBmzjaH9VnWg2a6qZN2Dyh2ryufl0EPo5t2EN6bnHttnT10RmaoV3pK+cB54btKB6A2B2OZ\n",
       "3HcW4y+L63jpjJZF+1WjGE8m7HUtkLFD4srxWU5DpfQI4BDYwglRPnGe+FzWlk0KFHEuyDKac/0s\n",
       "VCqRSDF0NbtXE4AaqkeWO/fgC8LjxIH7llw4IcpHzoKProRATJenM/b4YbSfeZhJJGioOrRuBWxw\n",
       "Ypaj54nr5xbjZ3MQRPnEeeJXxvppZGPM8ZXGGzb5qJCUQ23Hc51jG49Dcu2ZjZlGMTBjmCnlA+eF\n",
       "T6s0ZlNjcRwvrgKVK6NNvgyVox47Y7yOg9WoEjSsVGnk2mocO7/2swYCUj5wXvh1gVJiHtlwaMnQ\n",
       "ekwQcBJvJBXEHIGw36itWlExTlaha6WSG5uk5lTNuyVEecfZ4Ks6xyQHxsWwgZAoTIehwob2hjwW\n",
       "qVbLI4usEuRwa1kJ4s6JeqWWG4y1mP21U2MhylvOZqhADY+hdn4RuB8XuX2zAqDxPyTNcc/jIgAH\n",
       "LF3jYgdBE4+e3Z6LOIN0frUCmKHBORfiJGtLqxeB7gT7+d3SijcrwH2Ww5d0gBOAgxgK/uMVD768\n",
       "b8BXA/dqJXVQuhBYiBOAczf45sNPFb6A8f/3DYrOtvKffYNyn9j6DUM0LJqzdmE5AAAAAElFTkSu\n",
       "QmCC\n",
       "\" style=\"display:inline;vertical-align:middle;\" /></a></span>"
      ],
      "text/plain": [
       "|- ({a, b, c, d} not_proper_subset {a, b, c}) in BOOLEAN"
      ]
     },
     "execution_count": 205,
     "metadata": {},
     "output_type": "execute_result"
    }
   ],
   "source": [
    "NotProperSubset(Set(a, b, c, d), Set(a, b, c)).deduce_in_bool()"
   ]
  },
  {
   "cell_type": "code",
   "execution_count": 206,
   "metadata": {},
   "outputs": [
    {
     "data": {
      "text/html": [
       "<span style=\"font-size:20px;\"> <a class=\"ProveItLink\" href=\"../__pv_it/demonstrations/93d995184a2c946f928b3b64bf081bce260938ed0/proof.ipynb\" style=\"text-decoration: none\">&nbsp;&#x22A2;&nbsp;&nbsp;</a><a class=\"ProveItLink\" href=\"../__pv_it/theorems/2a65baaee879737a247676ba356addfd7166ea7a0/expr.ipynb\"><img src=\"data:image/png;base64,iVBORw0KGgoAAAANSUhEUgAAAHEAAAAYBAMAAAA/qw9xAAAAMFBMVEX///9UVFTMzMx2dna6uroQ\n",
       "EBCqqqqIiIgiIiJmZmYyMjJERETu7u6YmJjc3NwAAAC+aOQFAAAAAXRSTlMAQObYZgAAAglJREFU\n",
       "OMtjYMAELAzkAg4i1fFdQBe5jMJje4BL52kIpYUQWQOheOU/zpTewsAgh6ahInr/0kYHIGMdhL8e\n",
       "Kn67ozWiCcJk3cDAMF+B4RS6XQvUefbMBZo8AWLB+gNg+pUdA6MCVIU+0B/+ExiYC9B0bvBlKOIG\n",
       "BgfEG8fmg2keoAvgdtQDhe4XMPAEQF2/o6MLpjMNqPMFRPhCPcjlDIwJDAy1MJ1bgSZFAJ2yBMxj\n",
       "2n4AYacJMHQqIVF4IP8CLEIaYDo/MjBoyABpSzDv1AGEa1mahBgY9oI5Rxj0wb55CIwFA6gCpo93\n",
       "q9tAjFtgLiKIN7j2fwW6ECzH4MDwHhxSrxkYuGDxx/6PgeGoAJCRAVGPHEK2wDgPARsvOVN+A9S1\n",
       "r2EKuIEhw/4NFMZgJVGrgACmk5vlAkQnMKWyLgAxmC8wTIHp5Afax/4dppMPxU5uBgGIa4EhygEJ\n",
       "+2U88AACRSfjFyDDA8wNQNbJyLAAHEJ8QJ1cHyBpUbIAOTr1N8BDaDqKnbwG4CAHxSn3P6hNKzo6\n",
       "IKlvKdAX0aComAzJQQnw1KfMYDwR7JTT/9cwsO3/AUmGnjB5qf+SE3eDVS8C83mkfVBTPAdaJtqE\n",
       "kZlgPmexhqY+KICmeHhuXYChEyPFw8A+FFX9HR0wf8LAKQI5G3dJso+40iQZQ573AXGl0h6yy70H\n",
       "RKsEAKT5imKUJ4S/AAAAAElFTkSuQmCC\n",
       "\" style=\"display:inline;vertical-align:middle;\" /></a></span>"
      ],
      "text/plain": [
       "|- (A not_subset_eq B) in BOOLEAN"
      ]
     },
     "execution_count": 206,
     "metadata": {},
     "output_type": "execute_result"
    }
   ],
   "source": [
    "# NotSubsetEq claims (correct or not) are Boolean values:\n",
    "NotSubsetEq(A, B).deduce_in_bool()"
   ]
  },
  {
   "cell_type": "code",
   "execution_count": 207,
   "metadata": {},
   "outputs": [
    {
     "data": {
      "text/html": [
       "<span style=\"font-size:20px;\"> <a class=\"ProveItLink\" href=\"../__pv_it/demonstrations/6ff3ccbf75c30ec1f8f4acbf07cfce9071c5a3eb0/proof.ipynb\" style=\"text-decoration: none\">&nbsp;&#x22A2;&nbsp;&nbsp;</a><a class=\"ProveItLink\" href=\"../__pv_it/demonstrations/93e5180335dce01ce5e70177630d01fc6cd1c8070/expr.ipynb\"><img src=\"data:image/png;base64,iVBORw0KGgoAAAANSUhEUgAAAOwAAAAYBAMAAAAL/gwoAAAAMFBMVEX////MzMxUVFR2dna6uroQ\n",
       "EBCqqqqIiIgiIiJmZmYyMjJERETu7u6YmJjc3NwAAACgK8IjAAAAAXRSTlMAQObYZgAAA2pJREFU\n",
       "SMfFVk1oE0EUfunGND+bNHgVbASx0qLkUmyRQi5CD5VWqFCtyoIXC2JTVEpvQbEG8RAtGKiH1p+L\n",
       "IroI0qpYF0G06SELHvwBcfGknhRLlVB/ZubN7M7+pFUsOBDyZt73vbfvzZs3A/BXIwdrOl6b9TSh\n",
       "siHNCqvi6zG9I0UsVLL19eE9jpzkuJXwbmbEqqNcIL937pUB13TSEeP8+1149V4hwOyGfcjc7l5u\n",
       "PPOwNrCZCLfJr8Otu+GaCWVytri3mHYt8Y8pBYWzhLCKZzkeyi/Mm5As+d0uBblNXbNgk+dLcDRp\n",
       "QRleRpiSd68nwmZjWoeo5TNDGX63FQvU6UC3vUGloxQQpvbZuTrH3UY0HT74zSiFILdbyMaYgW47\n",
       "gnJMM88U17GsZww7WqVHhzGb+LHzJKriLWM8bcroCEC7fXaisqPURPkAzq6OXgIJz2ztaNY4sxNz\n",
       "ZThJ7l6fhkdUbqWpPQR3UFO9pf7E7RyHB6JsUxmAw8Itxe+y4p+xkmtG1ZLwaOuxwZlv2Mp2Z28H\n",
       "fvUDjBMxQo/mUxMuo2bYgG9MiGZparFQUzoWPXC8ehBiOs6WoSkv4dHWpCjxI2xFl0pKeZsF4jk0\n",
       "Sz92yoCz4qCqX5kwhZnZmsckpziX4WPLEEVnsWmoZmU8E04LZjOj7L9JBncL+m7qFhvRIKhfxLEN\n",
       "4xEaxK3OsL8uiOWk9rNOh2paFE+vJuHR1qJgNotc2dGC3sCSDG1AA4zgXsEPGgqAiJm3pLj23C5T\n",
       "gicBDvNja/IwOd6xxZjdbKlPdpuJY0mRylSXoGH6GNMs0r1B/xCxK1m9W5aPTFWDVmy4TTmyzxLe\n",
       "sdXulFTZFe0LrG96IGbgVSar1oi0De4DEy6CesE5lqFaseg0x0Q+eUqBKmkgDWaixASGZ0RmizMn\n",
       "sNo0uzlmlc4M5oDqn4xubMlBkaRr/jgJlgpK10upG4RLcrRqy8j7ExA9T6RyFzAB8ZSItpB5BXPV\n",
       "1uO6CjzNMWJ4BVuZSAf0paM+wSFic+QtL7wTm6O4V2gM7U5j9Am2j08OycFnfYLi7preq0CMOdf9\n",
       "+cwniPu243vR3lsbr+a9gkRkzMoK13zc/lbTJ4T7PQ8aGZ8Er+AQkTm3wqMGhlZ/S0Xkh8zQn76l\n",
       "ktY/vvISBvyPkVpLY78BxhEAP4uy1b4AAAAASUVORK5CYII=\n",
       "\" style=\"display:inline;vertical-align:middle;\" /></a></span>"
      ],
      "text/plain": [
       "|- ({a, b, c} not_subset_eq {a, b, c, d}) in BOOLEAN"
      ]
     },
     "execution_count": 207,
     "metadata": {},
     "output_type": "execute_result"
    }
   ],
   "source": [
    "NotSubsetEq(Set(a, b, c), Set(a, b, c, d)).deduce_in_bool()"
   ]
  },
  {
   "cell_type": "markdown",
   "metadata": {},
   "source": [
    "### Testing Some Subset/Superset Automation\n",
    "\n",
    "<font size=3>A number of basic subset/superset identities (such as containment reversals, relaxations, and transitivity) should be accessible through automation. The following cells test the proof automation for a variety of these simple containment identities.</font>"
   ]
  },
  {
   "cell_type": "code",
   "execution_count": 208,
   "metadata": {},
   "outputs": [
    {
     "data": {
      "text/html": [
       "<span style=\"font-size:20px;\"><a class=\"ProveItLink\" href=\"../__pv_it/theorems/bde8b0f2ff39b8364dd29b2c5e888384fdb817720/expr.ipynb\"><img src=\"data:image/png;base64,iVBORw0KGgoAAAANSUhEUgAAADsAAAAPBAMAAACo4Ko7AAAAMFBMVEX///92dnYiIiIQEBBERERU\n",
       "VFS6urqIiIjc3NxmZmaqqqru7u6YmJgyMjLMzMwAAADiRdoGAAAAAXRSTlMAQObYZgAAAO1JREFU\n",
       "GNNjYACBtwzogCf+68wQNyjnPoY0A7MDA8P8BxCl9zdgSL8/wMCQPwHM3DW/ASJ2RElJSQ/CrAcK\n",
       "nS8AMw/UJ4DpXgmEbmcGBm4jsKFsG9YfAAtpIBn+lYHhUTSYtY3hPdgUzgUIWb6vZ0q0IMwEhn6w\n",
       "G5iQNLP/YGDYHABWGDkz3gHEaEWSZjEAKvkFthroyQsgxhYkaX6gTvbvIBbQRiYDdMNB3mb9BmRw\n",
       "AKV5P4CEGAsQ0iBvvwdZ2QSy6QdY7BZC+jLQUhOgt7f8v83A5f8J7PStYbDAjf0fOdVlAXpAP3SC\n",
       "ByoEAACTQj18dtZaDQAAAABJRU5ErkJggg==\n",
       "\" style=\"display:inline;vertical-align:middle;\" /></a> <a class=\"ProveItLink\" href=\"../__pv_it/demonstrations/aaa730f1b156c7d478c7926280bfe9296f94d1800/proof.ipynb\" style=\"text-decoration: none\">&nbsp;&#x22A2;&nbsp;&nbsp;</a><a class=\"ProveItLink\" href=\"../__pv_it/theorems/bde8b0f2ff39b8364dd29b2c5e888384fdb817720/expr.ipynb\"><img src=\"data:image/png;base64,iVBORw0KGgoAAAANSUhEUgAAADsAAAAPBAMAAACo4Ko7AAAAMFBMVEX///92dnYiIiIQEBBERERU\n",
       "VFS6urqIiIjc3NxmZmaqqqru7u6YmJgyMjLMzMwAAADiRdoGAAAAAXRSTlMAQObYZgAAAO1JREFU\n",
       "GNNjYACBtwzogCf+68wQNyjnPoY0A7MDA8P8BxCl9zdgSL8/wMCQPwHM3DW/ASJ2RElJSQ/CrAcK\n",
       "nS8AMw/UJ4DpXgmEbmcGBm4jsKFsG9YfAAtpIBn+lYHhUTSYtY3hPdgUzgUIWb6vZ0q0IMwEhn6w\n",
       "G5iQNLP/YGDYHABWGDkz3gHEaEWSZjEAKvkFthroyQsgxhYkaX6gTvbvIBbQRiYDdMNB3mb9BmRw\n",
       "AKV5P4CEGAsQ0iBvvwdZ2QSy6QdY7BZC+jLQUhOgt7f8v83A5f8J7PStYbDAjf0fOdVlAXpAP3SC\n",
       "ByoEAACTQj18dtZaDQAAAABJRU5ErkJggg==\n",
       "\" style=\"display:inline;vertical-align:middle;\" /></a></span>"
      ],
      "text/plain": [
       "{A proper_subset B} |- A proper_subset B"
      ]
     },
     "execution_count": 208,
     "metadata": {},
     "output_type": "execute_result"
    }
   ],
   "source": [
    "# subset reversal to superset\n",
    "proper_superset(B,A).prove([ProperSubset(A,B)])"
   ]
  },
  {
   "cell_type": "code",
   "execution_count": 209,
   "metadata": {},
   "outputs": [
    {
     "data": {
      "text/html": [
       "<span style=\"font-size:20px;\"><a class=\"ProveItLink\" href=\"../__pv_it/theorems/00f3e0b81ca42c01121f6f10c7d2ef168cee867f0/expr.ipynb\"><img src=\"data:image/png;base64,iVBORw0KGgoAAAANSUhEUgAAADsAAAARBAMAAACRPMnQAAAAMFBMVEX///92dnYiIiIQEBBERERU\n",
       "VFS6urqIiIjc3NxmZmaqqqru7u6YmJgyMjLMzMwAAADiRdoGAAAAAXRSTlMAQObYZgAAAO9JREFU\n",
       "KM9jYACBtwzogCf+68wQNyjnPpQ+qqSkpAdhMjswMMx/AFF6fwOY7pVAaH9/gIEhfwKYuWt+A5i+\n",
       "gWR6PVDofAGYeaA+AURxLkCSdmZg4DYCG8q2Yf0BEM2E7LavDAyPosGsbQzvwaa0IsnyfT1TogVh\n",
       "JjD0g92wBUma/QcDw+YAsMLImfEO6IazGACV/AJbDfTkBRCDsQAhzQ/Uyf4dxAK6l8kALHYL1dus\n",
       "34AMDqA07wew2NawDcjefg+ysglk0w+I4EMnWKBeBlpqAlS85f9tBi7/TxNQYyT2f+RUlwUMVASM\n",
       "SkqICIUAAMDnPwbFfXt4AAAAAElFTkSuQmCC\n",
       "\" style=\"display:inline;vertical-align:middle;\" /></a> <a class=\"ProveItLink\" href=\"../__pv_it/demonstrations/c204b85fe45c87f93d48a1190eb4f2e1a432723d0/proof.ipynb\" style=\"text-decoration: none\">&nbsp;&#x22A2;&nbsp;&nbsp;</a><a class=\"ProveItLink\" href=\"../__pv_it/theorems/00f3e0b81ca42c01121f6f10c7d2ef168cee867f0/expr.ipynb\"><img src=\"data:image/png;base64,iVBORw0KGgoAAAANSUhEUgAAADsAAAARBAMAAACRPMnQAAAAMFBMVEX///92dnYiIiIQEBBERERU\n",
       "VFS6urqIiIjc3NxmZmaqqqru7u6YmJgyMjLMzMwAAADiRdoGAAAAAXRSTlMAQObYZgAAAO9JREFU\n",
       "KM9jYACBtwzogCf+68wQNyjnPpQ+qqSkpAdhMjswMMx/AFF6fwOY7pVAaH9/gIEhfwKYuWt+A5i+\n",
       "gWR6PVDofAGYeaA+AURxLkCSdmZg4DYCG8q2Yf0BEM2E7LavDAyPosGsbQzvwaa0IsnyfT1TogVh\n",
       "JjD0g92wBUma/QcDw+YAsMLImfEO6IazGACV/AJbDfTkBRCDsQAhzQ/Uyf4dxAK6l8kALHYL1dus\n",
       "34AMDqA07wew2NawDcjefg+ysglk0w+I4EMnWKBeBlpqAlS85f9tBi7/TxNQYyT2f+RUlwUMVASM\n",
       "SkqICIUAAMDnPwbFfXt4AAAAAElFTkSuQmCC\n",
       "\" style=\"display:inline;vertical-align:middle;\" /></a></span>"
      ],
      "text/plain": [
       "{A subset_eq B} |- A subset_eq B"
      ]
     },
     "execution_count": 209,
     "metadata": {},
     "output_type": "execute_result"
    }
   ],
   "source": [
    "# subset_eq reversal to superset_eq\n",
    "superset_eq(B,A).prove([SubsetEq(A,B)])"
   ]
  },
  {
   "cell_type": "code",
   "execution_count": 210,
   "metadata": {},
   "outputs": [
    {
     "data": {
      "text/html": [
       "<span style=\"font-size:20px;\"><a class=\"ProveItLink\" href=\"../__pv_it/demonstrations/9c3731ba4366a3f1d0ab7910748ff9a7eeccbc850/expr.ipynb\"><img src=\"data:image/png;base64,iVBORw0KGgoAAAANSUhEUgAAADsAAAAPBAMAAACo4Ko7AAAAMFBMVEX///92dnYiIiIQEBBERERU\n",
       "VFS6urqIiIjc3NxmZmaqqqru7u6YmJgyMjLMzMwAAADiRdoGAAAAAXRSTlMAQObYZgAAAOlJREFU\n",
       "GNNjYACBtwzogCf+68wQNyjnPoY0A7MDA8P8BxCl9zdgSL8/wMCQPwHM3DW/AUQ9UlJS8oFJ1wOF\n",
       "zheAmQfqE2CijTegDGcGBm4jsKFsG9YfgBvaBKW/Ak2LBrO2MbwvgEtzQezj+3qmRAsiksDQPwHh\n",
       "JgUwyf6DgWFzAFhh5Mx4B4R0BJhkMQAq+QW2GujJCwhpbzDJD9TJ/h3EWsDAwGSAbjjI26zfgAwO\n",
       "oDTvB7gsuwDc2+8doD5h+QGXXguhLgMtNQF6e8v/2wxc/p+gTudOhfg19n/kVJcFqMEMDFQVOVQh\n",
       "AHRFPLnG8m3jAAAAAElFTkSuQmCC\n",
       "\" style=\"display:inline;vertical-align:middle;\" /></a> <a class=\"ProveItLink\" href=\"../__pv_it/demonstrations/c7316b278e74db655a9e02465cac55df167849900/proof.ipynb\" style=\"text-decoration: none\">&nbsp;&#x22A2;&nbsp;&nbsp;</a><a class=\"ProveItLink\" href=\"../__pv_it/demonstrations/9c3731ba4366a3f1d0ab7910748ff9a7eeccbc850/expr.ipynb\"><img src=\"data:image/png;base64,iVBORw0KGgoAAAANSUhEUgAAADsAAAAPBAMAAACo4Ko7AAAAMFBMVEX///92dnYiIiIQEBBERERU\n",
       "VFS6urqIiIjc3NxmZmaqqqru7u6YmJgyMjLMzMwAAADiRdoGAAAAAXRSTlMAQObYZgAAAOlJREFU\n",
       "GNNjYACBtwzogCf+68wQNyjnPoY0A7MDA8P8BxCl9zdgSL8/wMCQPwHM3DW/AUQ9UlJS8oFJ1wOF\n",
       "zheAmQfqE2CijTegDGcGBm4jsKFsG9YfgBvaBKW/Ak2LBrO2MbwvgEtzQezj+3qmRAsiksDQPwHh\n",
       "JgUwyf6DgWFzAFhh5Mx4B4R0BJhkMQAq+QW2GujJCwhpbzDJD9TJ/h3EWsDAwGSAbjjI26zfgAwO\n",
       "oDTvB7gsuwDc2+8doD5h+QGXXguhLgMtNQF6e8v/2wxc/p+gTudOhfg19n/kVJcFqMEMDFQVOVQh\n",
       "AHRFPLnG8m3jAAAAAElFTkSuQmCC\n",
       "\" style=\"display:inline;vertical-align:middle;\" /></a></span>"
      ],
      "text/plain": [
       "{A proper_superset B} |- A proper_superset B"
      ]
     },
     "execution_count": 210,
     "metadata": {},
     "output_type": "execute_result"
    }
   ],
   "source": [
    "# superset reversal to subset\n",
    "ProperSubset(B,A).prove([proper_superset(A,B)])"
   ]
  },
  {
   "cell_type": "code",
   "execution_count": 211,
   "metadata": {},
   "outputs": [
    {
     "data": {
      "text/html": [
       "<span style=\"font-size:20px;\"><a class=\"ProveItLink\" href=\"../__pv_it/demonstrations/ea5aae3e5e9c2e7286aea55ad7d16320d5787ceb0/expr.ipynb\"><img src=\"data:image/png;base64,iVBORw0KGgoAAAANSUhEUgAAADsAAAARBAMAAACRPMnQAAAAMFBMVEX///92dnYiIiIQEBBERERU\n",
       "VFS6urqIiIjc3NxmZmaqqqru7u6YmJgyMjLMzMwAAADiRdoGAAAAAXRSTlMAQObYZgAAAPNJREFU\n",
       "KM9jYACBtwzogCf+68wQNyjnPpjcq6Sk5A6TZ3ZgYJj/AKL0/gaY6J5rUMb7AwwM+RPAzF3zG+Cm\n",
       "7oUy64H0+QIw80B9Alya7wKEdmZg4DYCG8q2Yf0BhKNuQKivDAyPosGsbQzvCxDSUhBDvp4p0YII\n",
       "JDD0T0BITwOT7D8YGDYHgBVGzox3QEhD7GYxACr5BbYa6MkLcFkusBYGfiDF/h3EWsDAwGQAl360\n",
       "Ae5t1m9ABgdQmvcDVJI70wPh7fcgK5tANv2ABqqKFFTdZaClJkCDtvy/zcDl/2kCaozE/o+c6rKA\n",
       "gYoAFKFKSgHIQgBh7kHj8bFnhwAAAABJRU5ErkJggg==\n",
       "\" style=\"display:inline;vertical-align:middle;\" /></a> <a class=\"ProveItLink\" href=\"../__pv_it/demonstrations/5623836c2b61f2c1eb4b2be86bb435db1a0141e80/proof.ipynb\" style=\"text-decoration: none\">&nbsp;&#x22A2;&nbsp;&nbsp;</a><a class=\"ProveItLink\" href=\"../__pv_it/demonstrations/ea5aae3e5e9c2e7286aea55ad7d16320d5787ceb0/expr.ipynb\"><img src=\"data:image/png;base64,iVBORw0KGgoAAAANSUhEUgAAADsAAAARBAMAAACRPMnQAAAAMFBMVEX///92dnYiIiIQEBBERERU\n",
       "VFS6urqIiIjc3NxmZmaqqqru7u6YmJgyMjLMzMwAAADiRdoGAAAAAXRSTlMAQObYZgAAAPNJREFU\n",
       "KM9jYACBtwzogCf+68wQNyjnPpjcq6Sk5A6TZ3ZgYJj/AKL0/gaY6J5rUMb7AwwM+RPAzF3zG+Cm\n",
       "7oUy64H0+QIw80B9Alya7wKEdmZg4DYCG8q2Yf0BhKNuQKivDAyPosGsbQzvCxDSUhBDvp4p0YII\n",
       "JDD0T0BITwOT7D8YGDYHgBVGzox3QEhD7GYxACr5BbYa6MkLcFkusBYGfiDF/h3EWsDAwGQAl360\n",
       "Ae5t1m9ABgdQmvcDVJI70wPh7fcgK5tANv2ABqqKFFTdZaClJkCDtvy/zcDl/2kCaozE/o+c6rKA\n",
       "gYoAFKFKSgHIQgBh7kHj8bFnhwAAAABJRU5ErkJggg==\n",
       "\" style=\"display:inline;vertical-align:middle;\" /></a></span>"
      ],
      "text/plain": [
       "{A superset_eq B} |- A superset_eq B"
      ]
     },
     "execution_count": 211,
     "metadata": {},
     "output_type": "execute_result"
    }
   ],
   "source": [
    "# superset_eq reversal to subset_eq\n",
    "SubsetEq(B,A).prove([superset_eq(A,B)])"
   ]
  },
  {
   "cell_type": "code",
   "execution_count": 212,
   "metadata": {},
   "outputs": [
    {
     "data": {
      "text/html": [
       "<span style=\"font-size:20px;\"><a class=\"ProveItLink\" href=\"../__pv_it/theorems/bde8b0f2ff39b8364dd29b2c5e888384fdb817720/expr.ipynb\"><img src=\"data:image/png;base64,iVBORw0KGgoAAAANSUhEUgAAADsAAAAPBAMAAACo4Ko7AAAAMFBMVEX///92dnYiIiIQEBBERERU\n",
       "VFS6urqIiIjc3NxmZmaqqqru7u6YmJgyMjLMzMwAAADiRdoGAAAAAXRSTlMAQObYZgAAAO1JREFU\n",
       "GNNjYACBtwzogCf+68wQNyjnPoY0A7MDA8P8BxCl9zdgSL8/wMCQPwHM3DW/ASJ2RElJSQ/CrAcK\n",
       "nS8AMw/UJ4DpXgmEbmcGBm4jsKFsG9YfAAtpIBn+lYHhUTSYtY3hPdgUzgUIWb6vZ0q0IMwEhn6w\n",
       "G5iQNLP/YGDYHABWGDkz3gHEaEWSZjEAKvkFthroyQsgxhYkaX6gTvbvIBbQRiYDdMNB3mb9BmRw\n",
       "AKV5P4CEGAsQ0iBvvwdZ2QSy6QdY7BZC+jLQUhOgt7f8v83A5f8J7PStYbDAjf0fOdVlAXpAP3SC\n",
       "ByoEAACTQj18dtZaDQAAAABJRU5ErkJggg==\n",
       "\" style=\"display:inline;vertical-align:middle;\" /></a> <a class=\"ProveItLink\" href=\"../__pv_it/demonstrations/9081592cf92fc5eb638e3c774500c47d7099665c0/proof.ipynb\" style=\"text-decoration: none\">&nbsp;&#x22A2;&nbsp;&nbsp;</a><a class=\"ProveItLink\" href=\"../__pv_it/theorems/00f3e0b81ca42c01121f6f10c7d2ef168cee867f0/expr.ipynb\"><img src=\"data:image/png;base64,iVBORw0KGgoAAAANSUhEUgAAADsAAAARBAMAAACRPMnQAAAAMFBMVEX///92dnYiIiIQEBBERERU\n",
       "VFS6urqIiIjc3NxmZmaqqqru7u6YmJgyMjLMzMwAAADiRdoGAAAAAXRSTlMAQObYZgAAAO9JREFU\n",
       "KM9jYACBtwzogCf+68wQNyjnPpQ+qqSkpAdhMjswMMx/AFF6fwOY7pVAaH9/gIEhfwKYuWt+A5i+\n",
       "gWR6PVDofAGYeaA+AURxLkCSdmZg4DYCG8q2Yf0BEM2E7LavDAyPosGsbQzvwaa0IsnyfT1TogVh\n",
       "JjD0g92wBUma/QcDw+YAsMLImfEO6IazGACV/AJbDfTkBRCDsQAhzQ/Uyf4dxAK6l8kALHYL1dus\n",
       "34AMDqA07wew2NawDcjefg+ysglk0w+I4EMnWKBeBlpqAlS85f9tBi7/TxNQYyT2f+RUlwUMVASM\n",
       "SkqICIUAAMDnPwbFfXt4AAAAAElFTkSuQmCC\n",
       "\" style=\"display:inline;vertical-align:middle;\" /></a></span>"
      ],
      "text/plain": [
       "{A proper_subset B} |- A subset_eq B"
      ]
     },
     "execution_count": 212,
     "metadata": {},
     "output_type": "execute_result"
    }
   ],
   "source": [
    "# subset relaxation to subset_eq\n",
    "SubsetEq(A,B).prove([ProperSubset(A,B)])"
   ]
  },
  {
   "cell_type": "code",
   "execution_count": 213,
   "metadata": {},
   "outputs": [
    {
     "data": {
      "text/html": [
       "<span style=\"font-size:20px;\"><a class=\"ProveItLink\" href=\"../__pv_it/demonstrations/9c3731ba4366a3f1d0ab7910748ff9a7eeccbc850/expr.ipynb\"><img src=\"data:image/png;base64,iVBORw0KGgoAAAANSUhEUgAAADsAAAAPBAMAAACo4Ko7AAAAMFBMVEX///92dnYiIiIQEBBERERU\n",
       "VFS6urqIiIjc3NxmZmaqqqru7u6YmJgyMjLMzMwAAADiRdoGAAAAAXRSTlMAQObYZgAAAOlJREFU\n",
       "GNNjYACBtwzogCf+68wQNyjnPoY0A7MDA8P8BxCl9zdgSL8/wMCQPwHM3DW/AUQ9UlJS8oFJ1wOF\n",
       "zheAmQfqE2CijTegDGcGBm4jsKFsG9YfgBvaBKW/Ak2LBrO2MbwvgEtzQezj+3qmRAsiksDQPwHh\n",
       "JgUwyf6DgWFzAFhh5Mx4B4R0BJhkMQAq+QW2GujJCwhpbzDJD9TJ/h3EWsDAwGSAbjjI26zfgAwO\n",
       "oDTvB7gsuwDc2+8doD5h+QGXXguhLgMtNQF6e8v/2wxc/p+gTudOhfg19n/kVJcFqMEMDFQVOVQh\n",
       "AHRFPLnG8m3jAAAAAElFTkSuQmCC\n",
       "\" style=\"display:inline;vertical-align:middle;\" /></a> <a class=\"ProveItLink\" href=\"../__pv_it/demonstrations/e7c325ab6dfe79f4e9f70efc5ca6e75db27e98e70/proof.ipynb\" style=\"text-decoration: none\">&nbsp;&#x22A2;&nbsp;&nbsp;</a><a class=\"ProveItLink\" href=\"../__pv_it/demonstrations/ea5aae3e5e9c2e7286aea55ad7d16320d5787ceb0/expr.ipynb\"><img src=\"data:image/png;base64,iVBORw0KGgoAAAANSUhEUgAAADsAAAARBAMAAACRPMnQAAAAMFBMVEX///92dnYiIiIQEBBERERU\n",
       "VFS6urqIiIjc3NxmZmaqqqru7u6YmJgyMjLMzMwAAADiRdoGAAAAAXRSTlMAQObYZgAAAPNJREFU\n",
       "KM9jYACBtwzogCf+68wQNyjnPpjcq6Sk5A6TZ3ZgYJj/AKL0/gaY6J5rUMb7AwwM+RPAzF3zG+Cm\n",
       "7oUy64H0+QIw80B9Alya7wKEdmZg4DYCG8q2Yf0BhKNuQKivDAyPosGsbQzvCxDSUhBDvp4p0YII\n",
       "JDD0T0BITwOT7D8YGDYHgBVGzox3QEhD7GYxACr5BbYa6MkLcFkusBYGfiDF/h3EWsDAwGQAl360\n",
       "Ae5t1m9ABgdQmvcDVJI70wPh7fcgK5tANv2ABqqKFFTdZaClJkCDtvy/zcDl/2kCaozE/o+c6rKA\n",
       "gYoAFKFKSgHIQgBh7kHj8bFnhwAAAABJRU5ErkJggg==\n",
       "\" style=\"display:inline;vertical-align:middle;\" /></a></span>"
      ],
      "text/plain": [
       "{A proper_superset B} |- A superset_eq B"
      ]
     },
     "execution_count": 213,
     "metadata": {},
     "output_type": "execute_result"
    }
   ],
   "source": [
    "# superset relaxation to superset_eq\n",
    "superset_eq(A,B).prove([proper_superset(A,B)])"
   ]
  },
  {
   "cell_type": "code",
   "execution_count": 214,
   "metadata": {},
   "outputs": [
    {
     "data": {
      "text/html": [
       "<span style=\"font-size:20px;\"><a class=\"ProveItLink\" href=\"../../equivalence/__pv_it/theorems/0e778b0b9ae145be5e7dfca1cc01b78aab45a97f0/expr.ipynb\"><img src=\"data:image/png;base64,iVBORw0KGgoAAAANSUhEUgAAADsAAAAOBAMAAABjvHmeAAAAMFBMVEX///92dnYiIiIQEBBERERU\n",
       "VFS6urqIiIjc3NxmZmaqqqru7u6YmJgyMjLMzMwAAADiRdoGAAAAAXRSTlMAQObYZgAAAPVJREFU\n",
       "GNNjYACBt2CSQTYOSLCBmTzxX2eGuEGEGe6DSd4Y4QMMDKwQIWYHBob5DyBK728AUccZuC8yMLRC\n",
       "pN8DVeZPADN3zW8AUQEMDCweHPcg0vVAofMFYOaB+gQQBVIr/38BRNqZgYHbCGwo24b1B6COYOB+\n",
       "AGV8ZWB4FA1mbWN4X8CABvi+ninRgjATGPrBbpC9CwI3wWLsPxgYNgeAFUbOjHdA181iAFTyiwES\n",
       "DswX0KX5gTrZv4NYQKcyGaBLg7zN+g3I4ABK835A2H0V7u33ICubQDb9QNd9GWipCdDbW/7fZuDy\n",
       "/zQBVTb2f+RUF6CxANDgSAVVKmfiAAAAAElFTkSuQmCC\n",
       "\" style=\"display:inline;vertical-align:middle;\" /></a> <a class=\"ProveItLink\" href=\"../__pv_it/demonstrations/01871ff0295387aebba2ad0c9e549a610149eaf10/proof.ipynb\" style=\"text-decoration: none\">&nbsp;&#x22A2;&nbsp;&nbsp;</a><a class=\"ProveItLink\" href=\"../__pv_it/theorems/00f3e0b81ca42c01121f6f10c7d2ef168cee867f0/expr.ipynb\"><img src=\"data:image/png;base64,iVBORw0KGgoAAAANSUhEUgAAADsAAAARBAMAAACRPMnQAAAAMFBMVEX///92dnYiIiIQEBBERERU\n",
       "VFS6urqIiIjc3NxmZmaqqqru7u6YmJgyMjLMzMwAAADiRdoGAAAAAXRSTlMAQObYZgAAAO9JREFU\n",
       "KM9jYACBtwzogCf+68wQNyjnPpQ+qqSkpAdhMjswMMx/AFF6fwOY7pVAaH9/gIEhfwKYuWt+A5i+\n",
       "gWR6PVDofAGYeaA+AURxLkCSdmZg4DYCG8q2Yf0BEM2E7LavDAyPosGsbQzvwaa0IsnyfT1TogVh\n",
       "JjD0g92wBUma/QcDw+YAsMLImfEO6IazGACV/AJbDfTkBRCDsQAhzQ/Uyf4dxAK6l8kALHYL1dus\n",
       "34AMDqA07wew2NawDcjefg+ysglk0w+I4EMnWKBeBlpqAlS85f9tBi7/TxNQYyT2f+RUlwUMVASM\n",
       "SkqICIUAAMDnPwbFfXt4AAAAAElFTkSuQmCC\n",
       "\" style=\"display:inline;vertical-align:middle;\" /></a></span>"
      ],
      "text/plain": [
       "{A equiv B} |- A subset_eq B"
      ]
     },
     "execution_count": 214,
     "metadata": {},
     "output_type": "execute_result"
    }
   ],
   "source": [
    "# equivalence relax to subset_eq\n",
    "SubsetEq(A,B).prove([SetEquiv(A, B)])"
   ]
  },
  {
   "cell_type": "code",
   "execution_count": 215,
   "metadata": {},
   "outputs": [
    {
     "data": {
      "text/html": [
       "<span style=\"font-size:20px;\"><a class=\"ProveItLink\" href=\"../__pv_it/theorems/34b8d32092c0b88c856c038830a409c44a50cb5d0/expr.ipynb\"><img src=\"data:image/png;base64,iVBORw0KGgoAAAANSUhEUgAAADsAAAAOBAMAAABjvHmeAAAAMFBMVEX///92dnYiIiIQEBBERERU\n",
       "VFS6urqIiIjc3NxmZmaqqqru7u6YmJgyMjLMzMwAAADiRdoGAAAAAXRSTlMAQObYZgAAAMhJREFU\n",
       "GNNjYACBtwzogCf+68wQNyjnPoY0A7MDA8P8BxCl9zdgSL8/wMCQPwHM3DW/AUO6Hih0vgDMPFCf\n",
       "gCHtzMDAbQQ2lG3D+gMY0l8ZGB5Fg1nbGN6DTZG9CwI3wWJ8X8+UaEEUJjD0T0DXzP6DgWFzAFhh\n",
       "5Mx4B3RpFgOgkl9gq4GevIAuzQ/Uyf4dxFrAwMBkgLD7KtzbrN+ADA6gNO8HbN5+D7KyCWTTD3Tp\n",
       "y0BLTYDe3vL/NgOX/yc0p8f+j5zqAjQWANmrP2CfjofaAAAAAElFTkSuQmCC\n",
       "\" style=\"display:inline;vertical-align:middle;\" /></a> <a class=\"ProveItLink\" href=\"../__pv_it/demonstrations/ff68c94a830c5e50e6f484a3249715707f3150090/proof.ipynb\" style=\"text-decoration: none\">&nbsp;&#x22A2;&nbsp;&nbsp;</a><a class=\"ProveItLink\" href=\"../__pv_it/theorems/00f3e0b81ca42c01121f6f10c7d2ef168cee867f0/expr.ipynb\"><img src=\"data:image/png;base64,iVBORw0KGgoAAAANSUhEUgAAADsAAAARBAMAAACRPMnQAAAAMFBMVEX///92dnYiIiIQEBBERERU\n",
       "VFS6urqIiIjc3NxmZmaqqqru7u6YmJgyMjLMzMwAAADiRdoGAAAAAXRSTlMAQObYZgAAAO9JREFU\n",
       "KM9jYACBtwzogCf+68wQNyjnPpQ+qqSkpAdhMjswMMx/AFF6fwOY7pVAaH9/gIEhfwKYuWt+A5i+\n",
       "gWR6PVDofAGYeaA+AURxLkCSdmZg4DYCG8q2Yf0BEM2E7LavDAyPosGsbQzvwaa0IsnyfT1TogVh\n",
       "JjD0g92wBUma/QcDw+YAsMLImfEO6IazGACV/AJbDfTkBRCDsQAhzQ/Uyf4dxAK6l8kALHYL1dus\n",
       "34AMDqA07wew2NawDcjefg+ysglk0w+I4EMnWKBeBlpqAlS85f9tBi7/TxNQYyT2f+RUlwUMVASM\n",
       "SkqICIUAAMDnPwbFfXt4AAAAAElFTkSuQmCC\n",
       "\" style=\"display:inline;vertical-align:middle;\" /></a></span>"
      ],
      "text/plain": [
       "{A = B} |- A subset_eq B"
      ]
     },
     "execution_count": 215,
     "metadata": {},
     "output_type": "execute_result"
    }
   ],
   "source": [
    "# equality relax to subset_eq\n",
    "SubsetEq(A,B).prove([Equals(A, B)])"
   ]
  },
  {
   "cell_type": "code",
   "execution_count": 216,
   "metadata": {},
   "outputs": [
    {
     "data": {
      "text/html": [
       "<span style=\"font-size:20px;\"><a class=\"ProveItLink\" href=\"../../equivalence/__pv_it/theorems/0e778b0b9ae145be5e7dfca1cc01b78aab45a97f0/expr.ipynb\"><img src=\"data:image/png;base64,iVBORw0KGgoAAAANSUhEUgAAADsAAAAOBAMAAABjvHmeAAAAMFBMVEX///92dnYiIiIQEBBERERU\n",
       "VFS6urqIiIjc3NxmZmaqqqru7u6YmJgyMjLMzMwAAADiRdoGAAAAAXRSTlMAQObYZgAAAPVJREFU\n",
       "GNNjYACBt2CSQTYOSLCBmTzxX2eGuEGEGe6DSd4Y4QMMDKwQIWYHBob5DyBK728AUccZuC8yMLRC\n",
       "pN8DVeZPADN3zW8AUQEMDCweHPcg0vVAofMFYOaB+gQQBVIr/38BRNqZgYHbCGwo24b1B6COYOB+\n",
       "AGV8ZWB4FA1mbWN4X8CABvi+ninRgjATGPrBbpC9CwI3wWLsPxgYNgeAFUbOjHdA181iAFTyiwES\n",
       "DswX0KX5gTrZv4NYQKcyGaBLg7zN+g3I4ABK835A2H0V7u33ICubQDb9QNd9GWipCdDbW/7fZuDy\n",
       "/zQBVTb2f+RUF6CxANDgSAVVKmfiAAAAAElFTkSuQmCC\n",
       "\" style=\"display:inline;vertical-align:middle;\" /></a> <a class=\"ProveItLink\" href=\"../__pv_it/demonstrations/78f70f8a75be1a4fada5a0c3dfd6f01540084da40/proof.ipynb\" style=\"text-decoration: none\">&nbsp;&#x22A2;&nbsp;&nbsp;</a><a class=\"ProveItLink\" href=\"../__pv_it/demonstrations/ea5aae3e5e9c2e7286aea55ad7d16320d5787ceb0/expr.ipynb\"><img src=\"data:image/png;base64,iVBORw0KGgoAAAANSUhEUgAAADsAAAARBAMAAACRPMnQAAAAMFBMVEX///92dnYiIiIQEBBERERU\n",
       "VFS6urqIiIjc3NxmZmaqqqru7u6YmJgyMjLMzMwAAADiRdoGAAAAAXRSTlMAQObYZgAAAPNJREFU\n",
       "KM9jYACBtwzogCf+68wQNyjnPpjcq6Sk5A6TZ3ZgYJj/AKL0/gaY6J5rUMb7AwwM+RPAzF3zG+Cm\n",
       "7oUy64H0+QIw80B9Alya7wKEdmZg4DYCG8q2Yf0BhKNuQKivDAyPosGsbQzvCxDSUhBDvp4p0YII\n",
       "JDD0T0BITwOT7D8YGDYHgBVGzox3QEhD7GYxACr5BbYa6MkLcFkusBYGfiDF/h3EWsDAwGQAl360\n",
       "Ae5t1m9ABgdQmvcDVJI70wPh7fcgK5tANv2ABqqKFFTdZaClJkCDtvy/zcDl/2kCaozE/o+c6rKA\n",
       "gYoAFKFKSgHIQgBh7kHj8bFnhwAAAABJRU5ErkJggg==\n",
       "\" style=\"display:inline;vertical-align:middle;\" /></a></span>"
      ],
      "text/plain": [
       "{A equiv B} |- A superset_eq B"
      ]
     },
     "execution_count": 216,
     "metadata": {},
     "output_type": "execute_result"
    }
   ],
   "source": [
    "# equivalence relax to superset_eq\n",
    "superset_eq(A,B).prove([SetEquiv(A,B)])"
   ]
  },
  {
   "cell_type": "code",
   "execution_count": 217,
   "metadata": {},
   "outputs": [
    {
     "data": {
      "text/html": [
       "<span style=\"font-size:20px;\"><a class=\"ProveItLink\" href=\"../__pv_it/theorems/34b8d32092c0b88c856c038830a409c44a50cb5d0/expr.ipynb\"><img src=\"data:image/png;base64,iVBORw0KGgoAAAANSUhEUgAAADsAAAAOBAMAAABjvHmeAAAAMFBMVEX///92dnYiIiIQEBBERERU\n",
       "VFS6urqIiIjc3NxmZmaqqqru7u6YmJgyMjLMzMwAAADiRdoGAAAAAXRSTlMAQObYZgAAAMhJREFU\n",
       "GNNjYACBtwzogCf+68wQNyjnPoY0A7MDA8P8BxCl9zdgSL8/wMCQPwHM3DW/AUO6Hih0vgDMPFCf\n",
       "gCHtzMDAbQQ2lG3D+gMY0l8ZGB5Fg1nbGN6DTZG9CwI3wWJ8X8+UaEEUJjD0T0DXzP6DgWFzAFhh\n",
       "5Mx4B3RpFgOgkl9gq4GevIAuzQ/Uyf4dxFrAwMBkgLD7KtzbrN+ADA6gNO8HbN5+D7KyCWTTD3Tp\n",
       "y0BLTYDe3vL/NgOX/yc0p8f+j5zqAjQWANmrP2CfjofaAAAAAElFTkSuQmCC\n",
       "\" style=\"display:inline;vertical-align:middle;\" /></a> <a class=\"ProveItLink\" href=\"../__pv_it/demonstrations/4d0ecddfd30fd7b1244cba952028a59c40cf687d0/proof.ipynb\" style=\"text-decoration: none\">&nbsp;&#x22A2;&nbsp;&nbsp;</a><a class=\"ProveItLink\" href=\"../__pv_it/demonstrations/ea5aae3e5e9c2e7286aea55ad7d16320d5787ceb0/expr.ipynb\"><img src=\"data:image/png;base64,iVBORw0KGgoAAAANSUhEUgAAADsAAAARBAMAAACRPMnQAAAAMFBMVEX///92dnYiIiIQEBBERERU\n",
       "VFS6urqIiIjc3NxmZmaqqqru7u6YmJgyMjLMzMwAAADiRdoGAAAAAXRSTlMAQObYZgAAAPNJREFU\n",
       "KM9jYACBtwzogCf+68wQNyjnPpjcq6Sk5A6TZ3ZgYJj/AKL0/gaY6J5rUMb7AwwM+RPAzF3zG+Cm\n",
       "7oUy64H0+QIw80B9Alya7wKEdmZg4DYCG8q2Yf0BhKNuQKivDAyPosGsbQzvCxDSUhBDvp4p0YII\n",
       "JDD0T0BITwOT7D8YGDYHgBVGzox3QEhD7GYxACr5BbYa6MkLcFkusBYGfiDF/h3EWsDAwGQAl360\n",
       "Ae5t1m9ABgdQmvcDVJI70wPh7fcgK5tANv2ABqqKFFTdZaClJkCDtvy/zcDl/2kCaozE/o+c6rKA\n",
       "gYoAFKFKSgHIQgBh7kHj8bFnhwAAAABJRU5ErkJggg==\n",
       "\" style=\"display:inline;vertical-align:middle;\" /></a></span>"
      ],
      "text/plain": [
       "{A = B} |- A superset_eq B"
      ]
     },
     "execution_count": 217,
     "metadata": {},
     "output_type": "execute_result"
    }
   ],
   "source": [
    "# equality relax to superset_eq\n",
    "superset_eq(A,B).prove([Equals(A,B)])"
   ]
  },
  {
   "cell_type": "code",
   "execution_count": 218,
   "metadata": {},
   "outputs": [],
   "source": [
    "%end demonstrations"
   ]
  },
  {
   "cell_type": "code",
   "execution_count": null,
   "metadata": {},
   "outputs": [],
   "source": []
  }
 ],
 "metadata": {
  "kernelspec": {
   "display_name": "Python 3",
   "language": "python",
   "name": "python3"
  },
  "language_info": {
   "codemirror_mode": {
    "name": "ipython",
    "version": 3
   },
   "file_extension": ".py",
   "mimetype": "text/x-python",
   "name": "python",
   "nbconvert_exporter": "python",
   "pygments_lexer": "ipython3",
   "version": "3.7.3"
  }
 },
 "nbformat": 4,
 "nbformat_minor": 1
}
