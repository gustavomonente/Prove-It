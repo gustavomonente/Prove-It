{
 "cells": [
  {
   "cell_type": "markdown",
   "metadata": {},
   "source": [
    "Proof of <a class=\"ProveItLink\" href=\"../../../../../../_theory_nbs_/theory.ipynb\">proveit</a>.<a class=\"ProveItLink\" href=\"../../../../../_theory_nbs_/theory.ipynb\">logic</a>.<a class=\"ProveItLink\" href=\"../../../../_theory_nbs_/theory.ipynb\">sets</a>.<a class=\"ProveItLink\" href=\"../../theory.ipynb\">inclusion</a>.<a class=\"ProveItLink\" href=\"../../theorems.ipynb#transitivity_subset_subset_eq\">transitivity_subset_subset_eq</a> theorem\n",
    "========"
   ]
  },
  {
   "cell_type": "code",
   "execution_count": 1,
   "metadata": {},
   "outputs": [],
   "source": [
    "import sys\n",
    "sys.path.append('..') # allows access to modules in parent theory\n",
    "import proveit"
   ]
  },
  {
   "cell_type": "code",
   "execution_count": 2,
   "metadata": {},
   "outputs": [
    {
     "data": {
      "text/html": [
       "Under these <a href=\"presumptions.txt\">presumptions</a>, we begin our proof of<br><strong id=\"transitivity_subset_subset_eq\">transitivity_subset_subset_eq:</strong> <a class=\"ProveItLink\" href=\"../../../__pv_it/theorems/f35b11b8e3de17d500ddd082eb9fb4ee2962ae740/expr.ipynb\"><img src=\"data:image/png;base64,iVBORw0KGgoAAAANSUhEUgAAAPcAAAAWBAMAAADuuhdHAAAAMFBMVEX///8QEBCIiIhmZma6urrM\n",
       "zMxUVFQiIiJERETc3Nzu7u6qqqp2dnaYmJgyMjIAAAAcRTyBAAAAAXRSTlMAQObYZgAAA3RJREFU\n",
       "SMe1Vk1oE0EUfm6StrvJtr0rGvFgFbSVQPwh2IoXKUprheLBQyAVelCIilTF0ghStyIkXrQgmpVC\n",
       "W4M/gV4sCMaK2lbRVS8toka91YOltVirVd+82Z8xaVQkHdiZN/u+ne/NN29mFmCxyuW/+AfxyTLj\n",
       "dfG5lRg1nuwCrqrIQTlTkgB4zLoTxScvT/BmMt+10gDvBkPBsLqxJ8eKT/6SN2/m8jz9J7CqTcAQ\n",
       "hqYD+NLFJz/OFR74avbH2trajpL1DhlhG8BVAHU0lbpYfG45So0qfeb9KyOWx/WN1Xtw2nUAs5p2\n",
       "svjkUg019d55UQhWkhTWNdQbIfsBuugtr3dM32/luaJ2hiRmua3PyhKW5Y6Hgrlw0jaSWWNiDVK9\n",
       "zjPFp+ss7DO/aaiYcdtBoe2gcoHUSvBVknDvQTlF41ifva2zR3gOcE+AK8OaFkZt/dBfyQGlxOYG\n",
       "eZp3HU06Gk3DG2XvJYqyhwvkCoOXMjSJVGMiuVKLOM+qQADtIMBd3YHvpQFlDF81N84SCrQ5EJyl\n",
       "7gWHfAV9h5UHd6HP4GGNHuEx+sFFSrBEaBLJfX01oByoT6XQPgywVYBzxtIMjugXybFazreXMHOa\n",
       "dSMnl7PNdBT5NfLdaoT1LDaJTT8lkjeVxaCEa6bMgDThwL18RavxO0UXZPficyhX9lqWIj62Jizz\n",
       "ulrYuxLYSL6GdVVhgtsHj0UedkVhp5lwUy86wYG7eModE7KdEu4SPp+4an4n25k5aiYcDFDuv4Jq\n",
       "8j0FWM3aikwOuZqWJuGBuQJZkKIO3MfJvwvkbB/RXo9z30fbwzbfANPHxRgqWCjKhydxUuwcxpY2\n",
       "F1AxBPKboeE52GzGkwGZzgoOd/N5sSy5YW3GKCjxHzrc/slTqbdFt9h7OiOUEOVsCVUKQ4ckrSeO\n",
       "2cCCdcX4ytjkW0CeQX2oVKTBzc9NDud7fhM+md+PV6fsO2Mdr1bps61dOKIhnwV5DuRleN3o0A7K\n",
       "iEDuRhXmraxN6nAeJ2/D+8cpTQy4nsi5WP5Qhux1nQU53u5ZCo+mA60oyu40+CJDukAej0H3F8NN\n",
       "c/R1BIKncYPYcLhDh8zD0FrIPw4LXfi5N73XtoR7rkxE9GqatgC84M9E4ZIX3aA9bKIA+cLw//mN\n",
       "Gs99YViGCv9CbsFllENbhB8SlveL9o/5C/5e7NX/o4ROAAAAAElFTkSuQmCC\n",
       "\" style=\"display:inline;vertical-align:middle;\" /></a><br>(see <a class=\"ProveItLink\" href=\"../../../__pv_it/theorems/9e067db3e6319020d4b546f74ec7121ca3c844bd0/dependencies.ipynb\">dependencies</a>)<br>"
      ],
      "text/plain": [
       "transitivity_subset_subset_eq: forall_{A, B, C | A proper_subset B, B subseteq C} (A proper_subset C)"
      ]
     },
     "execution_count": 2,
     "metadata": {},
     "output_type": "execute_result"
    }
   ],
   "source": [
    "%proving transitivity_subset_subset_eq"
   ]
  },
  {
   "cell_type": "code",
   "execution_count": null,
   "metadata": {},
   "outputs": [],
   "source": []
  }
 ],
 "metadata": {
  "kernelspec": {
   "display_name": "Python 3",
   "language": "python",
   "name": "python3"
  }
 },
 "nbformat": 4,
 "nbformat_minor": 0
}