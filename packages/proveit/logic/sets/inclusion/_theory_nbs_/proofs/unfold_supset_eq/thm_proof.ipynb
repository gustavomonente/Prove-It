{
 "cells": [
  {
   "cell_type": "markdown",
   "metadata": {},
   "source": [
    "Proof of <a class=\"ProveItLink\" href=\"../../../../../../_theory_nbs_/theory.ipynb\">proveit</a>.<a class=\"ProveItLink\" href=\"../../../../../_theory_nbs_/theory.ipynb\">logic</a>.<a class=\"ProveItLink\" href=\"../../../../_theory_nbs_/theory.ipynb\">sets</a>.<a class=\"ProveItLink\" href=\"../../theory.ipynb\">inclusion</a>.<a class=\"ProveItLink\" href=\"../../theorems.ipynb#unfold_supset_eq\">unfold_supset_eq</a> theorem\n",
    "========"
   ]
  },
  {
   "cell_type": "code",
   "execution_count": 1,
   "metadata": {},
   "outputs": [],
   "source": [
    "import proveit\n",
    "from proveit.logic.sets.inclusion  import superset_eq_def"
   ]
  },
  {
   "cell_type": "code",
   "execution_count": 2,
   "metadata": {},
   "outputs": [
    {
     "data": {
      "text/html": [
       "Under these <a href=\"presumptions.txt\">presumptions</a>, we begin our proof of<br><strong id=\"unfold_supset_eq\">unfold_supset_eq:</strong> <a class=\"ProveItLink\" href=\"../../../__pv_it/theorems/9fd94537d5c1ebe5801dad44e0107dcbaa4202130/expr.ipynb\"><img src=\"data:image/png;base64,iVBORw0KGgoAAAANSUhEUgAAAPYAAAAWBAMAAAABeHx5AAAAMFBMVEX///8QEBCIiIhmZma6urrM\n",
       "zMxUVFQiIiJERETc3Nzu7u6qqqp2dnaYmJgyMjIAAAAcRTyBAAAAAXRSTlMAQObYZgAAAzRJREFU\n",
       "SMe9lktoE0EYx/9usiabR9u7HhbFBwXbQrBeigY9qKC0XtSTDWqhFdGihSJq7aHoVoXEk71IFpQi\n",
       "VbTgQStCaysIUTRqQUEsAfVSsA19YB+IfjOzj4m02xrRgd3MfP/85zc7883sAkUWZazO+w83PLRw\n",
       "ChhpQY7VP/05OxL3dobaF1MO0dVE1zO8YM3RYtjezpLUYso4Xfc4u4vuWnsxbG/nu8WE6LhJbp2x\n",
       "S1ittxi2t/NMQetDa2vOqt7ZRjMSKmPsaKan5zqKYXs6tWa5dbDcrWcr43T/wtiYMYxzRbE9nUoV\n",
       "Pdyapu2DPO+krPCb/Vn6GeLsBqCTR8V91+RQI08Tv/3vTsfnaILdIGvMkayptgNBAtzFe72NNVZK\n",
       "eXcL9bTWGOHsHQjxpYhOiVQoQ6SMu+3cmIJqGEZW1gTbdjrlDfDUqgYoETJ4be6Wu2IljjRNCR5y\n",
       "dgAK6xc3f3DNl0B4TjZY8UeyJti2k83qkxhVq4F+UwRW0KKaMERj3xgVMUz1SOwk2xv1nB3JBng0\n",
       "c1oMWIcvJ7OtuJqQNMG2nSyP+3rofgrYCpcNTIhGl7QuJOUctpbbz/vWxSDv16HClNh2HMckTbCF\n",
       "c3Dz+jp/FX/4aSij0pxDnbYG4rIpHGDLtpOz0XmU5wO2cLF208YEJLYdx7CkCTZ3KuaJQLxEPNPE\n",
       "24uQcu2xkgffXD7d2XrELsk7uYYHfCt+RCVXXwEbZLYdxzpJs9jMqeIb5YQI5aDY2zpSBf98MK+J\n",
       "hDhru9h5EJylW41gl7JRhT6/TPLpvAqke122E0e7pFls7gR1dYA2go7gALR5e12bETpcvtZ61XR3\n",
       "iD5u/xxFOPmdVuirYEdZ3GcizV+KZK5NuWwnHtYlzWJzp5pXaWFYKe2Ff3bhM3XPpdaC7RhqFmxe\n",
       "9pI1q12GNgdttTTnPM4IMUiaxWYlHclFEOHDS5u4NrDku0S4dZcdnIGWPK+uwvPJWGPcZVtxwzhO\n",
       "vbuaxO4eHswAV1jkQqy6w+k9mPJii3do4feEVA8ueZ7Lxzdb72V+O9jn9G/svuWzlba/+GaK0qRU\n",
       "tBTGsguz2XluJPD/iu+fE34B7C73U/q3q50AAAAASUVORK5CYII=\n",
       "\" style=\"display:inline;vertical-align:middle;\" /></a><br>(see <a class=\"ProveItLink\" href=\"../../../__pv_it/theorems/9070d8657504fe62bd1cf62080c7b5559afbcd850/dependencies.ipynb\">dependencies</a>)<br>"
      ],
      "text/plain": [
       "unfold_supset_eq: forall_{A, B | A supseteq B} [forall_{x in B} (x in A)]"
      ]
     },
     "execution_count": 2,
     "metadata": {},
     "output_type": "execute_result"
    }
   ],
   "source": [
    "%proving unfold_supset_eq"
   ]
  },
  {
   "cell_type": "code",
   "execution_count": 3,
   "metadata": {},
   "outputs": [
    {
     "data": {
      "text/html": [
       "<span style=\"font-size:20px;\"> <a class=\"ProveItLink\" href=\"../../axioms.ipynb#superset_eq_def\" style=\"text-decoration: none\">&nbsp;&#x22A2;&nbsp;&nbsp;</a><a class=\"ProveItLink\" href=\"../../../__pv_it/axioms/fdffcdb3f24ff74c3b0ffeb5ef5a026247cee4a80/expr.ipynb\"><img src=\"data:image/png;base64,iVBORw0KGgoAAAANSUhEUgAAATUAAAAVBAMAAADV6mS1AAAAMFBMVEX///8QEBCIiIhmZma6urrM\n",
       "zMxUVFQiIiJERETc3Nzu7u6qqqp2dnaYmJgyMjIAAAAcRTyBAAAAAXRSTlMAQObYZgAABBVJREFU\n",
       "SMfNVl1oXEUU/rzZm929ezftQ0FBkUUh6YMmwdX4EtuFPkQESZ7Mm7tQhehDGurDFmprLKXdVcum\n",
       "INQX2WuVGiKuAR9CQGhMBCURWYsPirSumFAM1IakTZsUqWfOzOy92ftTsS8eOPfOnTP3O9/MnDln\n",
       "gChJ1qVGSWrC19W9gnvCRuGlr+YwS82G+L4cMm5SKcnLPmP60GZ25CTwms/yTTSqhgwQ4YXw7Bza\n",
       "acpLoms1ZOifSkmu87NWLBZPaOsD48D+IdQCuEWiasgAEV5qzM2i6X0g1ng8eGS6V6poXnd07+fL\n",
       "qpGnrRnshZ3xc4tC1ZBBFuGF8Igb5oEO8TUdPDQ+IZXks/1uWNVUs4fev2Vg7fZzi0LVkJrP6eJx\n",
       "3WYvhCe4fUSmxampcyEg55SS1HtyzW6zId9vE86DRGLZzy0KFTsM5gnH/ZBelplbB+ntUunNEJDH\n",
       "lQIx52LdFy+bwPDr9F7wc4tCZcjzne8/wbFQ81BTXhaYm007/ypQZot8Pr+xMKLX/IxS4BPkPVG1\n",
       "JGe8eXnvUdG4Ih72Xyy9ilsTVbut9PeVXVhrLn04zsvvPeXKyxXmlibzAT4S1L4ht592WwfQUaVA\n",
       "DlVPAD/NT2OLgqJAjZmAddOoTfkR+NqFtR17O8ZL4D0wyssMc0uNUWTC4O36+G+2txWQ2lZj9yiF\n",
       "eTB7yAMivSZoCsYdcV4DuGlUEuurLDX7gItOE9ZCQuKZj4rVVqGnvOSZm7lGU6jH2bL4hjxEGbQ1\n",
       "WrnFKJm5y5Aq8GsXvYz1EG4aleTn2Sl6Hgb2eWCxS8aIN9FoLy63ZOMlJp0p8YAvhtDttO4pZYO4\n",
       "mymGnWZ6axeBMOCJt4LiJlHnn+kcinEwWDdhrHpgkR+SH54EpL0MMLfYmDgDrwhDO57lAYNP7i2g\n",
       "5Swk6a+ONb1FB8puesuP67PQsm6Majij8VyHXJP1S6c8sCmnh6zi4ym3ymov7lnAl4IgfkUPj/gB\n",
       "6NKjF5SKhJTYUjXryJKy/k4eHxL4/UHcBKqJaxTH3GU3YIy5sIPTFXwoY2jam/bYSz9za5vTO2/9\n",
       "8X2F5/EeUNXDB6RO3l1FqnKrpdKM3j3YV+KRK0HcZDyRq+FSqZRBYg7JOy7shcfOPyfPijXygroA\n",
       "NL2syNwrNj0tOLU5qHIEEMDghL9mRYg1FsSNUc01k4KFQ38asa3AmhX7zq1ZGk9w+7TZ8SL9Xk++\n",
       "g+Q2ko8E1PoICar1Uqp2w4bNU646ODt3z1qv8VStl5K4jWTlmPkwvt3IjriVs4yW9C7uSMViYQdW\n",
       "0B1JyoWf5heBd4W/t7J9J3fAhot7R9p55wy/W4ZLOZSbFEPE27+8Wyo84pZojaXZ/3AnT/sDsut+\n",
       "7uSEZ9Cd/JfW/jr+T/IPCOVB2Jvl8dIAAAAASUVORK5CYII=\n",
       "\" style=\"display:inline;vertical-align:middle;\" /></a></span>"
      ],
      "text/plain": [
       "|- forall_{A, B} ((A supseteq B) = [forall_{x in B} (x in A)])"
      ]
     },
     "execution_count": 3,
     "metadata": {},
     "output_type": "execute_result"
    }
   ],
   "source": [
    "# Pull in the definition of non-proper superset (SupersetEq)\n",
    "superset_eq_def"
   ]
  },
  {
   "cell_type": "code",
   "execution_count": 4,
   "metadata": {},
   "outputs": [
    {
     "data": {
      "text/html": [
       "<strong id=\"SupersetEqDef_inst\">SupersetEqDef_inst:</strong> <span style=\"font-size:20px;\"> <a class=\"ProveItLink\" href=\"../../../__pv_it/_proof_unfold_supset_eq/4c5ac340b528d52fb64d034ddb74c204d048ee820/proof.ipynb\" style=\"text-decoration: none\">&nbsp;&#x22A2;&nbsp;&nbsp;</a><a class=\"ProveItLink\" href=\"../../../__pv_it/axioms/08d634c7caf00d6762c7443cdfbae1c52dc6a6080/expr.ipynb\"><img src=\"data:image/png;base64,iVBORw0KGgoAAAANSUhEUgAAAO0AAAAUBAMAAACT/qdtAAAAMFBMVEX///9UVFTMzMx2dna6uroQ\n",
       "EBCqqqqIiIgiIiJmZmYyMjJERETu7u6YmJjc3NwAAAC+aOQFAAAAAXRSTlMAQObYZgAAAzxJREFU\n",
       "SMellk9IFFEcx7/ujs60O7tKBKGG2k26rIdKJKG9ZRDVoUPUxehiELmdyhI0gloqajcPsXVwEQMJ\n",
       "SyP7A0s60R9IPeyhqBTJSyBEuEpoEGi/9968mdlmZg16h5n3fu/N7/Pe78/7DRDNo2SrmHeJLgyU\n",
       "/gQ/SuuLDMWBKTHc4VoQqV/K1I4Bda6Znciy15yfan3Ub4ZRSF+QuI+EZER8MZRMXk+Yi8rp8/4G\n",
       "THpwd7PXsJ/20LzfDKNMcm4kJQ43Yli7nYmLTow8cCiFYMLN/U7PqO+pvvhNcArpI64m9vau396j\n",
       "bpqgh0RfE9APu7kh9n27n/qbRawXyWuyzymkj7gLQpLviRd7gdpTWnOUAINubqR1enrBDxvtdQwC\n",
       "zw17ICiDjNvFBYrRmXf5Zwlo3EbvFjcXv3O5y35clVynn6vb18wGkw6sSWlh3Jdc8gYxhxeFBQNL\n",
       "cxevsM4Mlz3gLWVyNwPjTpYy0ZeWgjApf43PCW5eZzaYlBnG5ZoRx2LKnt/Eba6uAW+rqNPhcd79\n",
       "0LNFso/ALrOr0bZbsdc4yAbO4DMpHYx7hB+tOlPvWBAS26Z4UldYXHtwNajSMfrJDHXTQKdp0nLa\n",
       "toGccO8xZiXT1SYlZnEVWuzY/gn+rKSzqqs+3GBek6PZM9P0vArchc0FVkWMOY4jKTHLzmQYzc6W\n",
       "wA0rfct+UqfN4d8qkxvNbqdO8+2zDQp3kL4MddhhZwSWxcCRhJLSJuMqSpJQwfL+vXkrfWOjMq7+\n",
       "Oi/Gt5A1jBotLpyirH56DEdcnVYL6GaDO3Z6SQqPK5YkLBPDa/KefGLeB/dJ23Hmsj4v7ilK0gAe\n",
       "Au9FCmShyrQNpqCshAui4GjW7WJR+hiXjDi1PoyKiV+pYuU169XpHP9owItbyfOO1DTmcrkEwk2I\n",
       "rkg/9kLf2t0lyoZee0BIbcqA454s0fReL26EWSJQCKBMBGE7lDXPe1LZY9+TUp9dF0o0r7og2mIw\n",
       "G0SwgXcNfGvasC5IfawOFl07zL/J5KWidV51ULRXH5pbgWdM161MesyaD5e0oaiDsu77t3Ffrnkd\n",
       "M//+Y9039THuRv85Effmz//Pfw7pU4fifwBc6fJlLmOt/gAAAABJRU5ErkJggg==\n",
       "\" style=\"display:inline;vertical-align:middle;\" /></a></span><br>"
      ],
      "text/plain": [
       "SupersetEqDef_inst: |- (A supseteq B) = [forall_{x in B} (x in A)]"
      ]
     },
     "execution_count": 4,
     "metadata": {},
     "output_type": "execute_result"
    }
   ],
   "source": [
    "SupersetEqDef_inst = superset_eq_def.instantiate()"
   ]
  },
  {
   "cell_type": "code",
   "execution_count": 5,
   "metadata": {},
   "outputs": [
    {
     "data": {
      "text/html": [
       "<span style=\"font-size:20px;\"><a class=\"ProveItLink\" href=\"../../../__pv_it/axioms/05e344b7208c2c23dfa6004888e7fe9f4480f8570/expr.ipynb\"><img src=\"data:image/png;base64,iVBORw0KGgoAAAANSUhEUgAAADsAAAARBAMAAACRPMnQAAAAMFBMVEX///92dnYiIiIQEBBERERU\n",
       "VFS6urqIiIjc3NxmZmaqqqru7u6YmJgyMjLMzMwAAADiRdoGAAAAAXRSTlMAQObYZgAAAPNJREFU\n",
       "KM9jYACBtwzogCf+68wQNyjnPpjcq6Sk5A6TZ3ZgYJj/AKL0/gaY6J5rUMb7AwwM+RPAzF3zG+Cm\n",
       "7oUy64H0+QIw80B9Alya7wKEdmZg4DYCG8q2Yf0BhKNuQKivDAyPosGsbQzvCxDSUhBDvp4p0YII\n",
       "JDD0T0BITwOT7D8YGDYHgBVGzox3QEhD7GYxACr5BbYa6MkLcFkusBYGfiDF/h3EWsDAwGQAl360\n",
       "Ae5t1m9ABgdQmvcDVJI70wPh7fcgK5tANv2ABqqKFFTdZaClJkCDtvy/zcDl/2kCaozE/o+c6rKA\n",
       "gYoAFKFKSgHIQgBh7kHj8bFnhwAAAABJRU5ErkJggg==\n",
       "\" style=\"display:inline;vertical-align:middle;\" /></a> <a class=\"ProveItLink\" href=\"../../../__pv_it/_proof_unfold_supset_eq/6c98901ec51a7dbefaab31490ad797bd5a5a43880/proof.ipynb\" style=\"text-decoration: none\">&nbsp;&#x22A2;&nbsp;&nbsp;</a><a class=\"ProveItLink\" href=\"../../../__pv_it/axioms/5fe3ac1ef2ec4c483ac7c2c4656569e4720b9b250/expr.ipynb\"><img src=\"data:image/png;base64,iVBORw0KGgoAAAANSUhEUgAAAHwAAAAUBAMAAAC9l0S6AAAAMFBMVEX///8QEBCIiIhmZma6urrM\n",
       "zMxUVFQiIiJERETc3Nzu7u6qqqp2dnaYmJgyMjIAAAAcRTyBAAAAAXRSTlMAQObYZgAAAghJREFU\n",
       "OMulVL9LHEEU/lx2vd117/QvCIsBCxsPD6+SeCRFSCor7SKogVyjYiOCJCIh2cPCS5U0wYUEkVMO\n",
       "wSIkBNSzCZfC9Qdoo2yhzYF6CKJioW92bm/XkLkEHJiZ9+a9b+a9771doPb4XMPWkAVcJuyLPPRJ\n",
       "keUFzTTwm8klkVMsK7Kc0swDn2jThG9siwzRUxswTMTYtiTyGr8DeT/22pcXuiguvQnRYi73UYTW\n",
       "RkKKMmUHitOWovUQuLSsCRFcitMTzenHBabkQ2jZXnFoWwdeApkwRJ7pTPoHKvksYtf0Yk6HnL6i\n",
       "z6TtAHgC3b3z5CawVhEjREoRG/YzpoT5TWGWAsM3coHk+FX+mSAxCaxU4qyjBG1YPPUHJzQqNAwk\n",
       "htltfUS7E/Hv3Pueo3UUeIQADpxxGkOvy2RyOVxze0godLR0y3EvhHNIpVDwUM650hTA6TjC1Kc0\n",
       "M4NEsT0UScX4zWdb7xCi7odURitT2oN6EjxW5tRhmYqr4Bj44tkMF5JfbiMO+Vota041FG+wPlGv\n",
       "aOmk2chKANJ6Lcsyoa5Cu/ZzHIHe3/qQf1H6q+f8dP6mhIaZC0r1iPUio1kpK6j3jI1LkK/+2rTy\n",
       "r6Bp+YV+lLOGa8Do9kQbH1b/+cnw3MyKMLdTKALT7OhNIvm26qBma8Hzf7Q4y/0/fxdsZIB7/Kyi\n",
       "WdwC4dSAI0sQYN4AAAAASUVORK5CYII=\n",
       "\" style=\"display:inline;vertical-align:middle;\" /></a></span>"
      ],
      "text/plain": [
       "{A supseteq B} |- forall_{x in B} (x in A)"
      ]
     },
     "execution_count": 5,
     "metadata": {},
     "output_type": "execute_result"
    }
   ],
   "source": [
    "SupersetEqDef_inst.derive_right_via_equality([SupersetEqDef_inst.lhs])"
   ]
  },
  {
   "cell_type": "code",
   "execution_count": 6,
   "metadata": {},
   "outputs": [
    {
     "data": {
      "text/html": [
       "<table><tr><th>&nbsp;</th><th>step type</th><th>requirements</th><th>statement</th></tr>\n",
       "<tr><td><a name=\"-0x5bf435130ab7a448_step0\">0</a></td><td>generalizaton</td><td><a href=\"#-0x5bf435130ab7a448_step1\">1</a></td><td><span style=\"font-size:20px;\"> <a class=\"ProveItLink\" href=\"../../../__pv_it/_proof_unfold_supset_eq/6e177c03260924b03895a5c28a49035e05b5d36b0/proof.ipynb\" style=\"text-decoration: none\">&nbsp;&#x22A2;&nbsp;&nbsp;</a><a class=\"ProveItLink\" href=\"../../../__pv_it/theorems/9fd94537d5c1ebe5801dad44e0107dcbaa4202130/expr.ipynb\"><img src=\"data:image/png;base64,iVBORw0KGgoAAAANSUhEUgAAAPYAAAAWBAMAAAABeHx5AAAAMFBMVEX///8QEBCIiIhmZma6urrM\n",
       "zMxUVFQiIiJERETc3Nzu7u6qqqp2dnaYmJgyMjIAAAAcRTyBAAAAAXRSTlMAQObYZgAAAzRJREFU\n",
       "SMe9lktoE0EYx/9usiabR9u7HhbFBwXbQrBeigY9qKC0XtSTDWqhFdGihSJq7aHoVoXEk71IFpQi\n",
       "VbTgQStCaysIUTRqQUEsAfVSsA19YB+IfjOzj4m02xrRgd3MfP/85zc7883sAkUWZazO+w83PLRw\n",
       "ChhpQY7VP/05OxL3dobaF1MO0dVE1zO8YM3RYtjezpLUYso4Xfc4u4vuWnsxbG/nu8WE6LhJbp2x\n",
       "S1ittxi2t/NMQetDa2vOqt7ZRjMSKmPsaKan5zqKYXs6tWa5dbDcrWcr43T/wtiYMYxzRbE9nUoV\n",
       "Pdyapu2DPO+krPCb/Vn6GeLsBqCTR8V91+RQI08Tv/3vTsfnaILdIGvMkayptgNBAtzFe72NNVZK\n",
       "eXcL9bTWGOHsHQjxpYhOiVQoQ6SMu+3cmIJqGEZW1gTbdjrlDfDUqgYoETJ4be6Wu2IljjRNCR5y\n",
       "dgAK6xc3f3DNl0B4TjZY8UeyJti2k83qkxhVq4F+UwRW0KKaMERj3xgVMUz1SOwk2xv1nB3JBng0\n",
       "c1oMWIcvJ7OtuJqQNMG2nSyP+3rofgrYCpcNTIhGl7QuJOUctpbbz/vWxSDv16HClNh2HMckTbCF\n",
       "c3Dz+jp/FX/4aSij0pxDnbYG4rIpHGDLtpOz0XmU5wO2cLF208YEJLYdx7CkCTZ3KuaJQLxEPNPE\n",
       "24uQcu2xkgffXD7d2XrELsk7uYYHfCt+RCVXXwEbZLYdxzpJs9jMqeIb5YQI5aDY2zpSBf98MK+J\n",
       "hDhru9h5EJylW41gl7JRhT6/TPLpvAqke122E0e7pFls7gR1dYA2go7gALR5e12bETpcvtZ61XR3\n",
       "iD5u/xxFOPmdVuirYEdZ3GcizV+KZK5NuWwnHtYlzWJzp5pXaWFYKe2Ff3bhM3XPpdaC7RhqFmxe\n",
       "9pI1q12GNgdttTTnPM4IMUiaxWYlHclFEOHDS5u4NrDku0S4dZcdnIGWPK+uwvPJWGPcZVtxwzhO\n",
       "vbuaxO4eHswAV1jkQqy6w+k9mPJii3do4feEVA8ueZ7Lxzdb72V+O9jn9G/svuWzlba/+GaK0qRU\n",
       "tBTGsguz2XluJPD/iu+fE34B7C73U/q3q50AAAAASUVORK5CYII=\n",
       "\" style=\"display:inline;vertical-align:middle;\" /></a></span></td></tr>\n",
       "<tr><td><a name=\"-0x5bf435130ab7a448_step1\">1</a></td><td>instantiation</td><td><a href=\"#-0x5bf435130ab7a448_step2\">2</a>, <a href=\"#-0x5bf435130ab7a448_step3\">3</a>, <a href=\"#-0x5bf435130ab7a448_step4\">4</a></td><td><span style=\"font-size:20px;\"><a class=\"ProveItLink\" href=\"../../../__pv_it/axioms/05e344b7208c2c23dfa6004888e7fe9f4480f8570/expr.ipynb\"><img src=\"data:image/png;base64,iVBORw0KGgoAAAANSUhEUgAAADsAAAARBAMAAACRPMnQAAAAMFBMVEX///92dnYiIiIQEBBERERU\n",
       "VFS6urqIiIjc3NxmZmaqqqru7u6YmJgyMjLMzMwAAADiRdoGAAAAAXRSTlMAQObYZgAAAPNJREFU\n",
       "KM9jYACBtwzogCf+68wQNyjnPpjcq6Sk5A6TZ3ZgYJj/AKL0/gaY6J5rUMb7AwwM+RPAzF3zG+Cm\n",
       "7oUy64H0+QIw80B9Alya7wKEdmZg4DYCG8q2Yf0BhKNuQKivDAyPosGsbQzvCxDSUhBDvp4p0YII\n",
       "JDD0T0BITwOT7D8YGDYHgBVGzox3QEhD7GYxACr5BbYa6MkLcFkusBYGfiDF/h3EWsDAwGQAl360\n",
       "Ae5t1m9ABgdQmvcDVJI70wPh7fcgK5tANv2ABqqKFFTdZaClJkCDtvy/zcDl/2kCaozE/o+c6rKA\n",
       "gYoAFKFKSgHIQgBh7kHj8bFnhwAAAABJRU5ErkJggg==\n",
       "\" style=\"display:inline;vertical-align:middle;\" /></a> <a class=\"ProveItLink\" href=\"../../../__pv_it/_proof_unfold_supset_eq/6c98901ec51a7dbefaab31490ad797bd5a5a43880/proof.ipynb\" style=\"text-decoration: none\">&nbsp;&#x22A2;&nbsp;&nbsp;</a><a class=\"ProveItLink\" href=\"../../../__pv_it/axioms/5fe3ac1ef2ec4c483ac7c2c4656569e4720b9b250/expr.ipynb\"><img src=\"data:image/png;base64,iVBORw0KGgoAAAANSUhEUgAAAHwAAAAUBAMAAAC9l0S6AAAAMFBMVEX///8QEBCIiIhmZma6urrM\n",
       "zMxUVFQiIiJERETc3Nzu7u6qqqp2dnaYmJgyMjIAAAAcRTyBAAAAAXRSTlMAQObYZgAAAghJREFU\n",
       "OMulVL9LHEEU/lx2vd117/QvCIsBCxsPD6+SeCRFSCor7SKogVyjYiOCJCIh2cPCS5U0wYUEkVMO\n",
       "wSIkBNSzCZfC9Qdoo2yhzYF6CKJioW92bm/XkLkEHJiZ9+a9b+a9771doPb4XMPWkAVcJuyLPPRJ\n",
       "keUFzTTwm8klkVMsK7Kc0swDn2jThG9siwzRUxswTMTYtiTyGr8DeT/22pcXuiguvQnRYi73UYTW\n",
       "RkKKMmUHitOWovUQuLSsCRFcitMTzenHBabkQ2jZXnFoWwdeApkwRJ7pTPoHKvksYtf0Yk6HnL6i\n",
       "z6TtAHgC3b3z5CawVhEjREoRG/YzpoT5TWGWAsM3coHk+FX+mSAxCaxU4qyjBG1YPPUHJzQqNAwk\n",
       "htltfUS7E/Hv3Pueo3UUeIQADpxxGkOvy2RyOVxze0godLR0y3EvhHNIpVDwUM650hTA6TjC1Kc0\n",
       "M4NEsT0UScX4zWdb7xCi7odURitT2oN6EjxW5tRhmYqr4Bj44tkMF5JfbiMO+Vota041FG+wPlGv\n",
       "aOmk2chKANJ6Lcsyoa5Cu/ZzHIHe3/qQf1H6q+f8dP6mhIaZC0r1iPUio1kpK6j3jI1LkK/+2rTy\n",
       "r6Bp+YV+lLOGa8Do9kQbH1b/+cnw3MyKMLdTKALT7OhNIvm26qBma8Hzf7Q4y/0/fxdsZIB7/Kyi\n",
       "WdwC4dSAI0sQYN4AAAAASUVORK5CYII=\n",
       "\" style=\"display:inline;vertical-align:middle;\" /></a></span></td></tr>\n",
       "<tr><td>&nbsp;</td><td colspan=4 style=\"text-align:left\"><span style=\"font-size:20px;\"><a class=\"ProveItLink\" href=\"../../../../../../__pv_it/common/de55da274ba0f49c86925fbf3828021c04d27faf0/expr.ipynb\"><img src=\"data:image/png;base64,iVBORw0KGgoAAAANSUhEUgAAABAAAAAOBAMAAADUAYG5AAAAMFBMVEX///8iIiLc3Ny6urqIiIiq\n",
       "qqp2dnbMzMwQEBDu7u5mZmYyMjJERERUVFSYmJgAAAA4CJ/KAAAAAXRSTlMAQObYZgAAAF5JREFU\n",
       "CNdjYGB4+//s3V0TGIDgNwMDTyeQZv/GwMD6Bchg+QzEQA4DzwcGBl4gh4F/AwOD/gIgoz6BgVUM\n",
       "pMn/WtoSsO7zYBIIPkJp9l9QBsgYMOD+CaG59v91ANEANtEY7WfmSIAAAAAASUVORK5CYII=\n",
       "\" style=\"display:inline;vertical-align:middle;\" /></a> : <a class=\"ProveItLink\" href=\"../../../__pv_it/axioms/05e344b7208c2c23dfa6004888e7fe9f4480f8570/expr.ipynb\"><img src=\"data:image/png;base64,iVBORw0KGgoAAAANSUhEUgAAADsAAAARBAMAAACRPMnQAAAAMFBMVEX///92dnYiIiIQEBBERERU\n",
       "VFS6urqIiIjc3NxmZmaqqqru7u6YmJgyMjLMzMwAAADiRdoGAAAAAXRSTlMAQObYZgAAAPNJREFU\n",
       "KM9jYACBtwzogCf+68wQNyjnPpjcq6Sk5A6TZ3ZgYJj/AKL0/gaY6J5rUMb7AwwM+RPAzF3zG+Cm\n",
       "7oUy64H0+QIw80B9Alya7wKEdmZg4DYCG8q2Yf0BhKNuQKivDAyPosGsbQzvCxDSUhBDvp4p0YII\n",
       "JDD0T0BITwOT7D8YGDYHgBVGzox3QEhD7GYxACr5BbYa6MkLcFkusBYGfiDF/h3EWsDAwGQAl360\n",
       "Ae5t1m9ABgdQmvcDVJI70wPh7fcgK5tANv2ABqqKFFTdZaClJkCDtvy/zcDl/2kCaozE/o+c6rKA\n",
       "gYoAFKFKSgHIQgBh7kHj8bFnhwAAAABJRU5ErkJggg==\n",
       "\" style=\"display:inline;vertical-align:middle;\" /></a>, <a class=\"ProveItLink\" href=\"../../../../../../__pv_it/common/d72bb8b07403efe79afab564c36a28e21330e5f90/expr.ipynb\"><img src=\"data:image/png;base64,iVBORw0KGgoAAAANSUhEUgAAAA8AAAASBAMAAAB2sJk8AAAAMFBMVEX///+qqqq6urrc3NwQEBAy\n",
       "MjJERERUVFTMzMwiIiKYmJh2dnZmZmaIiIju7u4AAABsX1SbAAAAAXRSTlMAQObYZgAAAINJREFU\n",
       "CNdjYGDgu7P7FAMI7GxgYE8A0k8DgILeQEbIAyBRz8DA/Qskvd+AwX4CiHFegWH/BRAjv4FhfgOI\n",
       "8R+IQGoZvzMwTAEJcP5jYCgBMe4DFfY/eHuD4w+Qw3thAff6DSDhvuqbyQxgrQzsDVwGYAbbATUw\n",
       "zcDz/weEwTFFgIEBAOxlJHQBUmidAAAAAElFTkSuQmCC\n",
       "\" style=\"display:inline;vertical-align:middle;\" /></a> : <a class=\"ProveItLink\" href=\"../../../__pv_it/axioms/5fe3ac1ef2ec4c483ac7c2c4656569e4720b9b250/expr.ipynb\"><img src=\"data:image/png;base64,iVBORw0KGgoAAAANSUhEUgAAAHwAAAAUBAMAAAC9l0S6AAAAMFBMVEX///8QEBCIiIhmZma6urrM\n",
       "zMxUVFQiIiJERETc3Nzu7u6qqqp2dnaYmJgyMjIAAAAcRTyBAAAAAXRSTlMAQObYZgAAAghJREFU\n",
       "OMulVL9LHEEU/lx2vd117/QvCIsBCxsPD6+SeCRFSCor7SKogVyjYiOCJCIh2cPCS5U0wYUEkVMO\n",
       "wSIkBNSzCZfC9Qdoo2yhzYF6CKJioW92bm/XkLkEHJiZ9+a9b+a9771doPb4XMPWkAVcJuyLPPRJ\n",
       "keUFzTTwm8klkVMsK7Kc0swDn2jThG9siwzRUxswTMTYtiTyGr8DeT/22pcXuiguvQnRYi73UYTW\n",
       "RkKKMmUHitOWovUQuLSsCRFcitMTzenHBabkQ2jZXnFoWwdeApkwRJ7pTPoHKvksYtf0Yk6HnL6i\n",
       "z6TtAHgC3b3z5CawVhEjREoRG/YzpoT5TWGWAsM3coHk+FX+mSAxCaxU4qyjBG1YPPUHJzQqNAwk\n",
       "htltfUS7E/Hv3Pueo3UUeIQADpxxGkOvy2RyOVxze0godLR0y3EvhHNIpVDwUM650hTA6TjC1Kc0\n",
       "M4NEsT0UScX4zWdb7xCi7odURitT2oN6EjxW5tRhmYqr4Bj44tkMF5JfbiMO+Vota041FG+wPlGv\n",
       "aOmk2chKANJ6Lcsyoa5Cu/ZzHIHe3/qQf1H6q+f8dP6mhIaZC0r1iPUio1kpK6j3jI1LkK/+2rTy\n",
       "r6Bp+YV+lLOGa8Do9kQbH1b/+cnw3MyKMLdTKALT7OhNIvm26qBma8Hzf7Q4y/0/fxdsZIB7/Kyi\n",
       "WdwC4dSAI0sQYN4AAAAASUVORK5CYII=\n",
       "\" style=\"display:inline;vertical-align:middle;\" /></a></span></td></tr><tr><td><a name=\"-0x5bf435130ab7a448_step2\">2</a></td><td>theorem</td><td></td><td><span style=\"font-size:20px;\"> <a class=\"ProveItLink\" href=\"../../../../../equality/_theory_nbs_/proofs/rhs_via_equality/thm_proof.ipynb\" style=\"text-decoration: none\">&nbsp;&#x22A2;&nbsp;&nbsp;</a><a class=\"ProveItLink\" href=\"../../../../../equality/__pv_it/theorems/4546a35b627d4cb8c4df070fccd511b94f50b8070/expr.ipynb\"><img src=\"data:image/png;base64,iVBORw0KGgoAAAANSUhEUgAAAIkAAAAWBAMAAAAGOqJsAAAAMFBMVEX///8QEBCIiIhmZma6urrM\n",
       "zMxUVFQiIiJERETc3Nzu7u6qqqp2dnaYmJgyMjIAAAAcRTyBAAAAAXRSTlMAQObYZgAAAgFJREFU\n",
       "OMutVD9IG1EY/3nR/DnvqkiXVgdFxEUaxyiIBy7ZmnZwcDFCdSiCuhaLgYImhZJsuqjRMUMrdMoi\n",
       "0kIFDXrOIqaLg9BWEKVpbdPve5fcvUsc9OgP3vf78uX3fnfve/ce8F9Q5HDiebraXRgi2uf83LPL\n",
       "bgz+BLBCaSjh1eQ9LUXtAB5kAW3Lq8tXmo0ZQN/L5Za9mmh/OB5mgJ/J5LxXl/VZjsMGMAmkgMb0\n",
       "dOQll7oLg0LQaOmi158XsxJbqIoOOzmmY8AIVN7tI+o30ZqBZ0IdtPR6K7RZiQVs0UKMY5lGAIpJ\n",
       "NAWEabceAb645OKPQ7mQmOGIyuzVfM0dMgNceA0kydIUj3VcqBBMSFypVURz4ucvdi6O8jdYgvIK\n",
       "6KLUembF5UMGvVmJGY5ogkNYNCf1gpt508df8RkNX1FyefqpsGWzP0l4J4nGs5s9TZdC+JG7pokq\n",
       "bmg07EguB3CzW6R0mtqpyNDCbxTsF3mbtVuOyxu42S3C2HRvCmKjdF5vi3UIptTj0EPZ5Tck9n8n\n",
       "fJNEXIvpGdt/nNLQW2w817cNyaWpBFEXXIUjEouI2n8oPwZoSjvUyJd4SHJ5cpkRdcH2nWKLuM3l\n",
       "q5pj0cxPj6/KK7LrLlRFnM7VXgh5fv2/j+tc8rUuVdGt4JOAJaPOxaxTLhl3O/S++9wQ/wC6SI3I\n",
       "rLOAiQAAAABJRU5ErkJggg==\n",
       "\" style=\"display:inline;vertical-align:middle;\" /></a></span></td></tr>\n",
       "<tr><td>&nbsp;</td><td colspan=4 style-\"text-align:left\"><a class=\"ProveItLink\" href=\"../../../../../equality/_theory_nbs_/proofs/rhs_via_equality/thm_proof.ipynb\">proveit.logic.equality.rhs_via_equality</a></td></tr><tr><td><a name=\"-0x5bf435130ab7a448_step3\">3</a></td><td>assumption</td><td></td><td><span style=\"font-size:20px;\"><a class=\"ProveItLink\" href=\"../../../__pv_it/axioms/05e344b7208c2c23dfa6004888e7fe9f4480f8570/expr.ipynb\"><img src=\"data:image/png;base64,iVBORw0KGgoAAAANSUhEUgAAADsAAAARBAMAAACRPMnQAAAAMFBMVEX///92dnYiIiIQEBBERERU\n",
       "VFS6urqIiIjc3NxmZmaqqqru7u6YmJgyMjLMzMwAAADiRdoGAAAAAXRSTlMAQObYZgAAAPNJREFU\n",
       "KM9jYACBtwzogCf+68wQNyjnPpjcq6Sk5A6TZ3ZgYJj/AKL0/gaY6J5rUMb7AwwM+RPAzF3zG+Cm\n",
       "7oUy64H0+QIw80B9Alya7wKEdmZg4DYCG8q2Yf0BhKNuQKivDAyPosGsbQzvCxDSUhBDvp4p0YII\n",
       "JDD0T0BITwOT7D8YGDYHgBVGzox3QEhD7GYxACr5BbYa6MkLcFkusBYGfiDF/h3EWsDAwGQAl360\n",
       "Ae5t1m9ABgdQmvcDVJI70wPh7fcgK5tANv2ABqqKFFTdZaClJkCDtvy/zcDl/2kCaozE/o+c6rKA\n",
       "gYoAFKFKSgHIQgBh7kHj8bFnhwAAAABJRU5ErkJggg==\n",
       "\" style=\"display:inline;vertical-align:middle;\" /></a> <a class=\"ProveItLink\" href=\"../../../__pv_it/_proof_unfold_supset_eq/98e3cf167c79c173b1b9ab6fbd66fda93cf404a50/proof.ipynb\" style=\"text-decoration: none\">&nbsp;&#x22A2;&nbsp;&nbsp;</a><a class=\"ProveItLink\" href=\"../../../__pv_it/axioms/05e344b7208c2c23dfa6004888e7fe9f4480f8570/expr.ipynb\"><img src=\"data:image/png;base64,iVBORw0KGgoAAAANSUhEUgAAADsAAAARBAMAAACRPMnQAAAAMFBMVEX///92dnYiIiIQEBBERERU\n",
       "VFS6urqIiIjc3NxmZmaqqqru7u6YmJgyMjLMzMwAAADiRdoGAAAAAXRSTlMAQObYZgAAAPNJREFU\n",
       "KM9jYACBtwzogCf+68wQNyjnPpjcq6Sk5A6TZ3ZgYJj/AKL0/gaY6J5rUMb7AwwM+RPAzF3zG+Cm\n",
       "7oUy64H0+QIw80B9Alya7wKEdmZg4DYCG8q2Yf0BhKNuQKivDAyPosGsbQzvCxDSUhBDvp4p0YII\n",
       "JDD0T0BITwOT7D8YGDYHgBVGzox3QEhD7GYxACr5BbYa6MkLcFkusBYGfiDF/h3EWsDAwGQAl360\n",
       "Ae5t1m9ABgdQmvcDVJI70wPh7fcgK5tANv2ABqqKFFTdZaClJkCDtvy/zcDl/2kCaozE/o+c6rKA\n",
       "gYoAFKFKSgHIQgBh7kHj8bFnhwAAAABJRU5ErkJggg==\n",
       "\" style=\"display:inline;vertical-align:middle;\" /></a></span></td></tr>\n",
       "<tr><td><a name=\"-0x5bf435130ab7a448_step4\">4</a></td><td>instantiation</td><td><a href=\"#-0x5bf435130ab7a448_step5\">5</a></td><td><span style=\"font-size:20px;\"> <a class=\"ProveItLink\" href=\"../../../__pv_it/_proof_unfold_supset_eq/4c5ac340b528d52fb64d034ddb74c204d048ee820/proof.ipynb\" style=\"text-decoration: none\">&nbsp;&#x22A2;&nbsp;&nbsp;</a><a class=\"ProveItLink\" href=\"../../../__pv_it/axioms/08d634c7caf00d6762c7443cdfbae1c52dc6a6080/expr.ipynb\"><img src=\"data:image/png;base64,iVBORw0KGgoAAAANSUhEUgAAAO0AAAAUBAMAAACT/qdtAAAAMFBMVEX///9UVFTMzMx2dna6uroQ\n",
       "EBCqqqqIiIgiIiJmZmYyMjJERETu7u6YmJjc3NwAAAC+aOQFAAAAAXRSTlMAQObYZgAAAzxJREFU\n",
       "SMellk9IFFEcx7/ujs60O7tKBKGG2k26rIdKJKG9ZRDVoUPUxehiELmdyhI0gloqajcPsXVwEQMJ\n",
       "SyP7A0s60R9IPeyhqBTJSyBEuEpoEGi/9968mdlmZg16h5n3fu/N7/Pe78/7DRDNo2SrmHeJLgyU\n",
       "/gQ/SuuLDMWBKTHc4VoQqV/K1I4Bda6Znciy15yfan3Ub4ZRSF+QuI+EZER8MZRMXk+Yi8rp8/4G\n",
       "THpwd7PXsJ/20LzfDKNMcm4kJQ43Yli7nYmLTow8cCiFYMLN/U7PqO+pvvhNcArpI64m9vau396j\n",
       "bpqgh0RfE9APu7kh9n27n/qbRawXyWuyzymkj7gLQpLviRd7gdpTWnOUAINubqR1enrBDxvtdQwC\n",
       "zw17ICiDjNvFBYrRmXf5Zwlo3EbvFjcXv3O5y35clVynn6vb18wGkw6sSWlh3Jdc8gYxhxeFBQNL\n",
       "cxevsM4Mlz3gLWVyNwPjTpYy0ZeWgjApf43PCW5eZzaYlBnG5ZoRx2LKnt/Eba6uAW+rqNPhcd79\n",
       "0LNFso/ALrOr0bZbsdc4yAbO4DMpHYx7hB+tOlPvWBAS26Z4UldYXHtwNajSMfrJDHXTQKdp0nLa\n",
       "toGccO8xZiXT1SYlZnEVWuzY/gn+rKSzqqs+3GBek6PZM9P0vArchc0FVkWMOY4jKTHLzmQYzc6W\n",
       "wA0rfct+UqfN4d8qkxvNbqdO8+2zDQp3kL4MddhhZwSWxcCRhJLSJuMqSpJQwfL+vXkrfWOjMq7+\n",
       "Oi/Gt5A1jBotLpyirH56DEdcnVYL6GaDO3Z6SQqPK5YkLBPDa/KefGLeB/dJ23Hmsj4v7ilK0gAe\n",
       "Au9FCmShyrQNpqCshAui4GjW7WJR+hiXjDi1PoyKiV+pYuU169XpHP9owItbyfOO1DTmcrkEwk2I\n",
       "rkg/9kLf2t0lyoZee0BIbcqA454s0fReL26EWSJQCKBMBGE7lDXPe1LZY9+TUp9dF0o0r7og2mIw\n",
       "G0SwgXcNfGvasC5IfawOFl07zL/J5KWidV51ULRXH5pbgWdM161MesyaD5e0oaiDsu77t3Ffrnkd\n",
       "M//+Y9039THuRv85Effmz//Pfw7pU4fifwBc6fJlLmOt/gAAAABJRU5ErkJggg==\n",
       "\" style=\"display:inline;vertical-align:middle;\" /></a></span></td></tr>\n",
       "<tr><td>&nbsp;</td><td colspan=4 style=\"text-align:left\"><span style=\"font-size:20px;\"><a class=\"ProveItLink\" href=\"../../../../../../__pv_it/common/09585084922504426caf1db2ff588a23a0932a960/expr.ipynb\"><img src=\"data:image/png;base64,iVBORw0KGgoAAAANSUhEUgAAAA8AAAAOBAMAAAACpFvcAAAALVBMVEX///8iIiIQEBBERERUVFS6\n",
       "urqIiIjc3NxmZmaqqqru7u6YmJgyMjLMzMwAAACK9jtgAAAAAXRSTlMAQObYZgAAAFtJREFUCNdj\n",
       "YACBOwxQcA5Kc59bAGGs7CuAMDbkBYBp1gXzNoAZSxnuJYAZAQx1DSCa16PDzwCshIGB6QCIMYGB\n",
       "gVEBSLMDGTwPgIxCIGZ+zsCw+N0pBk67hw0AfpEVEQi8t+wAAAAASUVORK5CYII=\n",
       "\" style=\"display:inline;vertical-align:middle;\" /></a> : <a class=\"ProveItLink\" href=\"../../../../../../__pv_it/common/09585084922504426caf1db2ff588a23a0932a960/expr.ipynb\"><img src=\"data:image/png;base64,iVBORw0KGgoAAAANSUhEUgAAAA8AAAAOBAMAAAACpFvcAAAALVBMVEX///8iIiIQEBBERERUVFS6\n",
       "urqIiIjc3NxmZmaqqqru7u6YmJgyMjLMzMwAAACK9jtgAAAAAXRSTlMAQObYZgAAAFtJREFUCNdj\n",
       "YACBOwxQcA5Kc59bAGGs7CuAMDbkBYBp1gXzNoAZSxnuJYAZAQx1DSCa16PDzwCshIGB6QCIMYGB\n",
       "gVEBSLMDGTwPgIxCIGZ+zsCw+N0pBk67hw0AfpEVEQi8t+wAAAAASUVORK5CYII=\n",
       "\" style=\"display:inline;vertical-align:middle;\" /></a>, <a class=\"ProveItLink\" href=\"../../../../../../__pv_it/common/a9162d1c3cc0470c02e5daf414500903a7a419230/expr.ipynb\"><img src=\"data:image/png;base64,iVBORw0KGgoAAAANSUhEUgAAABAAAAAOBAMAAADUAYG5AAAALVBMVEX///8yMjKqqqoiIiLu7u7c\n",
       "3NyIiIjMzMwQEBC6urpERERmZmZUVFSYmJgAAACsPVCVAAAAAXRSTlMAQObYZgAAAGxJREFUCNdj\n",
       "YGC48+70nlUTGICgi4GB+zmQZn/LwMD5Gshge8rAwPsMyOBqYGDwMAEy+A4wsNs4ABl1Z68tVgBp\n",
       "ygtgYOkBMVaAOCChNyBGAsQYhnMTIMawvwJyGIHGzFjCwMAj92b3qUUMDAAXABxvZ4rl5AAAAABJ\n",
       "RU5ErkJggg==\n",
       "\" style=\"display:inline;vertical-align:middle;\" /></a> : <a class=\"ProveItLink\" href=\"../../../../../../__pv_it/common/a9162d1c3cc0470c02e5daf414500903a7a419230/expr.ipynb\"><img src=\"data:image/png;base64,iVBORw0KGgoAAAANSUhEUgAAABAAAAAOBAMAAADUAYG5AAAALVBMVEX///8yMjKqqqoiIiLu7u7c\n",
       "3NyIiIjMzMwQEBC6urpERERmZmZUVFSYmJgAAACsPVCVAAAAAXRSTlMAQObYZgAAAGxJREFUCNdj\n",
       "YGC48+70nlUTGICgi4GB+zmQZn/LwMD5Gshge8rAwPsMyOBqYGDwMAEy+A4wsNs4ABl1Z68tVgBp\n",
       "ygtgYOkBMVaAOCChNyBGAsQYhnMTIMawvwJyGIHGzFjCwMAj92b3qUUMDAAXABxvZ4rl5AAAAABJ\n",
       "RU5ErkJggg==\n",
       "\" style=\"display:inline;vertical-align:middle;\" /></a></span></td></tr><tr><td><a name=\"-0x5bf435130ab7a448_step5\">5</a></td><td>axiom</td><td></td><td><span style=\"font-size:20px;\"> <a class=\"ProveItLink\" href=\"../../axioms.ipynb#superset_eq_def\" style=\"text-decoration: none\">&nbsp;&#x22A2;&nbsp;&nbsp;</a><a class=\"ProveItLink\" href=\"../../../__pv_it/axioms/fdffcdb3f24ff74c3b0ffeb5ef5a026247cee4a80/expr.ipynb\"><img src=\"data:image/png;base64,iVBORw0KGgoAAAANSUhEUgAAATUAAAAVBAMAAADV6mS1AAAAMFBMVEX///8QEBCIiIhmZma6urrM\n",
       "zMxUVFQiIiJERETc3Nzu7u6qqqp2dnaYmJgyMjIAAAAcRTyBAAAAAXRSTlMAQObYZgAABBVJREFU\n",
       "SMfNVl1oXEUU/rzZm929ezftQ0FBkUUh6YMmwdX4EtuFPkQESZ7Mm7tQhehDGurDFmprLKXdVcum\n",
       "INQX2WuVGiKuAR9CQGhMBCURWYsPirSumFAM1IakTZsUqWfOzOy92ftTsS8eOPfOnTP3O9/MnDln\n",
       "gChJ1qVGSWrC19W9gnvCRuGlr+YwS82G+L4cMm5SKcnLPmP60GZ25CTwms/yTTSqhgwQ4YXw7Bza\n",
       "acpLoms1ZOifSkmu87NWLBZPaOsD48D+IdQCuEWiasgAEV5qzM2i6X0g1ng8eGS6V6poXnd07+fL\n",
       "qpGnrRnshZ3xc4tC1ZBBFuGF8Igb5oEO8TUdPDQ+IZXks/1uWNVUs4fev2Vg7fZzi0LVkJrP6eJx\n",
       "3WYvhCe4fUSmxampcyEg55SS1HtyzW6zId9vE86DRGLZzy0KFTsM5gnH/ZBelplbB+ntUunNEJDH\n",
       "lQIx52LdFy+bwPDr9F7wc4tCZcjzne8/wbFQ81BTXhaYm007/ypQZot8Pr+xMKLX/IxS4BPkPVG1\n",
       "JGe8eXnvUdG4Ih72Xyy9ilsTVbut9PeVXVhrLn04zsvvPeXKyxXmlibzAT4S1L4ht592WwfQUaVA\n",
       "DlVPAD/NT2OLgqJAjZmAddOoTfkR+NqFtR17O8ZL4D0wyssMc0uNUWTC4O36+G+2txWQ2lZj9yiF\n",
       "eTB7yAMivSZoCsYdcV4DuGlUEuurLDX7gItOE9ZCQuKZj4rVVqGnvOSZm7lGU6jH2bL4hjxEGbQ1\n",
       "WrnFKJm5y5Aq8GsXvYz1EG4aleTn2Sl6Hgb2eWCxS8aIN9FoLy63ZOMlJp0p8YAvhtDttO4pZYO4\n",
       "mymGnWZ6axeBMOCJt4LiJlHnn+kcinEwWDdhrHpgkR+SH54EpL0MMLfYmDgDrwhDO57lAYNP7i2g\n",
       "5Swk6a+ONb1FB8puesuP67PQsm6Majij8VyHXJP1S6c8sCmnh6zi4ym3ymov7lnAl4IgfkUPj/gB\n",
       "6NKjF5SKhJTYUjXryJKy/k4eHxL4/UHcBKqJaxTH3GU3YIy5sIPTFXwoY2jam/bYSz9za5vTO2/9\n",
       "8X2F5/EeUNXDB6RO3l1FqnKrpdKM3j3YV+KRK0HcZDyRq+FSqZRBYg7JOy7shcfOPyfPijXygroA\n",
       "NL2syNwrNj0tOLU5qHIEEMDghL9mRYg1FsSNUc01k4KFQ38asa3AmhX7zq1ZGk9w+7TZ8SL9Xk++\n",
       "g+Q2ko8E1PoICar1Uqp2w4bNU646ODt3z1qv8VStl5K4jWTlmPkwvt3IjriVs4yW9C7uSMViYQdW\n",
       "0B1JyoWf5heBd4W/t7J9J3fAhot7R9p55wy/W4ZLOZSbFEPE27+8Wyo84pZojaXZ/3AnT/sDsut+\n",
       "7uSEZ9Cd/JfW/jr+T/IPCOVB2Jvl8dIAAAAASUVORK5CYII=\n",
       "\" style=\"display:inline;vertical-align:middle;\" /></a></span></td></tr>\n",
       "<tr><td>&nbsp;</td><td colspan=4 style-\"text-align:left\"><a class=\"ProveItLink\" href=\"../../axioms.ipynb#superset_eq_def\">proveit.logic.sets.inclusion.superset_eq_def</a></td></tr></table>"
      ],
      "text/plain": [
       "\tstep type\trequirements\tstatement\n",
       "0\tgeneralizaton\t1\t|- forall_{A, B | A supseteq B} [forall_{x in B} (x in A)]\n",
       "1\tinstantiation\t2, 3, 4\t{A supseteq B} |- forall_{x in B} (x in A)\n",
       "\tP : A supseteq B, Q : forall_{x in B} (x in A)\n",
       "2\ttheorem\t\t|- forall_{P, Q | P, P = Q} Q\n",
       "\tproveit.logic.equality.rhs_via_equality\n",
       "3\tassumption\t\t{A supseteq B} |- A supseteq B\n",
       "4\tinstantiation\t5\t|- (A supseteq B) = [forall_{x in B} (x in A)]\n",
       "\tA : A, B : B\n",
       "5\taxiom\t\t|- forall_{A, B} ((A supseteq B) = [forall_{x in B} (x in A)])\n",
       "\tproveit.logic.sets.inclusion.superset_eq_def"
      ]
     },
     "execution_count": 6,
     "metadata": {},
     "output_type": "execute_result"
    }
   ],
   "source": [
    "%qed"
   ]
  },
  {
   "cell_type": "code",
   "execution_count": null,
   "metadata": {},
   "outputs": [],
   "source": []
  }
 ],
 "metadata": {
  "kernelspec": {
   "display_name": "Python 3",
   "language": "python",
   "name": "python3"
  }
 },
 "nbformat": 4,
 "nbformat_minor": 0
}