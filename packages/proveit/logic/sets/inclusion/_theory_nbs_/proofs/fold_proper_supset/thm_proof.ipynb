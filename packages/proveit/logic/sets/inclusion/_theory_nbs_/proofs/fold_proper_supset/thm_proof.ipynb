{
 "cells": [
  {
   "cell_type": "markdown",
   "metadata": {},
   "source": [
    "Proof of <a class=\"ProveItLink\" href=\"../../../../../../_theory_nbs_/theory.ipynb\">proveit</a>.<a class=\"ProveItLink\" href=\"../../../../../_theory_nbs_/theory.ipynb\">logic</a>.<a class=\"ProveItLink\" href=\"../../../../_theory_nbs_/theory.ipynb\">sets</a>.<a class=\"ProveItLink\" href=\"../../theory.ipynb\">inclusion</a>.<a class=\"ProveItLink\" href=\"../../theorems.ipynb#fold_proper_supset\">fold_proper_supset</a> theorem\n",
    "========"
   ]
  },
  {
   "cell_type": "code",
   "execution_count": 1,
   "metadata": {},
   "outputs": [],
   "source": [
    "import proveit\n",
    "theory = proveit.Theory() # the theorem's theory"
   ]
  },
  {
   "cell_type": "code",
   "execution_count": 2,
   "metadata": {},
   "outputs": [
    {
     "data": {
      "text/html": [
       "Under these <a href=\"presumptions.txt\">presumptions</a>, we begin our proof of<br><strong id=\"fold_proper_supset\">fold_proper_supset:</strong> <a class=\"ProveItLink\" href=\"../../../__pv_it/theorems/423c0979015d3bbef7be8236b3e54f03604376d20/expr.ipynb\"><img src=\"data:image/png;base64,iVBORw0KGgoAAAANSUhEUgAAAOUAAAAYBAMAAAD36yfiAAAAMFBMVEX///8QEBCIiIhmZma6urrM\n",
       "zMxUVFQiIiJERETc3Nzu7u6qqqp2dnaYmJgyMjIAAAAcRTyBAAAAAXRSTlMAQObYZgAAAzBJREFU\n",
       "SMe1Vl1o01AU/kyb2qTtHAxEUKRviqgTChVkamQ+iCArDsbeLPjDXsTpYFNRnCIzm5PUJwciiz8w\n",
       "6YMW9+KenFNRpow6QRB/VvBtL5PVzVqZ8/40yU3LfsR4ITk353y537nnnnMSwONxawn7ELlydPLZ\n",
       "M0q1kwk5V2F5P384rmsIpIDX9HnSM86qFBffKk1rAN8MVOJNH3lSOj3jfMfFl2KFRZ4D/HlghHhk\n",
       "AuGMZ5xneIQHfzKajo6O09mSRSKqyDRwm4jRdPqGZ5RKKxMR6butGePRRrCa8J0lm9SAgq6f84xT\n",
       "2sbE/tBcuRtYlYTcToNKIEeBbs84gyySqiZPO7pBLg4dH79CzzBCkqiepZJHYyXLDD+UvKDjojYF\n",
       "dTWRoVaqkvgx893uyz9rSfEXLd9T1sxv1MXLUKrpgqzQ6L0pFi84nAFuvEh5iUsyKaNwljsS4cce\n",
       "qUa4mq1jvTOhoVnXr9HpW+CpG8UXnNBcnOS2Xog3cwuzlDPKOZVcE9Pd5cfuSyJUFDnV3SwMIVrD\n",
       "ceCJaaNUo8aslxyIFdsQuU6Wx5aWJ04Qb/w0p7qPMOVoG0dE4cuJnOEBnovUs1PALgfl06SayU8C\n",
       "pJRDN8k15XButstTLpRyCIMsmeWozmwPE9hqipwHg7xLBUyoM5AmHRTZ4v35pADhhcCKw7CTIMQz\n",
       "tIocxZ4eGqJhWjhRtiS2M1vDlo1JiJxJX6nONfinx7vgQgVdEBY41fht4vF8W0lz7xjbQWBqNtZy\n",
       "lZEn6GJM+RG1DDMGbBA5IxmJ92spgXAOUqsL9dwFsXuf1WJJ7+tNlJXTgPMN+vrGYNy9QH9G4HxQ\n",
       "96po+RAchvILNiqs6wX9kgBxevwiY8Se+Uz0M4/Img0pgXMHlBk2eUROIQM/a94WileKDXEV80If\n",
       "WKcBHSArZpUeKEUo64TY+kkisiJqJNnRb+I62aqDanRBhG/2It3RdipYgGKcl9fiZT7WogmcRif6\n",
       "fmSb9a4XJCkvxOKXySlZKCnWHovtLEGW+2/yoVwREh1a8DUbdWdTOm3+a4seWhbn0NKQvxjZBThJ\n",
       "v9W7KlF7vf5p9OF/jT9OceaTChDsXwAAAABJRU5ErkJggg==\n",
       "\" style=\"display:inline;vertical-align:middle;\" /></a><br>(see <a class=\"ProveItLink\" href=\"../../../__pv_it/theorems/be7c1df14de5067c1b5611c5ed42d1ac0f7ea14b0/dependencies.ipynb\">dependencies</a>)<br>"
      ],
      "text/plain": [
       "fold_proper_supset: forall_{A, B | A supseteq B, B not_equiv A} (A proper_superset B)"
      ]
     },
     "execution_count": 2,
     "metadata": {},
     "output_type": "execute_result"
    }
   ],
   "source": [
    "%proving fold_proper_supset"
   ]
  },
  {
   "cell_type": "code",
   "execution_count": null,
   "metadata": {},
   "outputs": [],
   "source": []
  }
 ],
 "metadata": {
  "kernelspec": {
   "display_name": "Python 3",
   "language": "python",
   "name": "python3"
  }
 },
 "nbformat": 4,
 "nbformat_minor": 0
}