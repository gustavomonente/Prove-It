{
 "cells": [
  {
   "cell_type": "markdown",
   "metadata": {},
   "source": [
    "Proof of <a class=\"ProveItLink\" href=\"../../../../../../_theory_nbs_/theory.ipynb\">proveit</a>.<a class=\"ProveItLink\" href=\"../../../../../_theory_nbs_/theory.ipynb\">logic</a>.<a class=\"ProveItLink\" href=\"../../../../_theory_nbs_/theory.ipynb\">sets</a>.<a class=\"ProveItLink\" href=\"../../theory.ipynb\">inclusion</a>.<a class=\"ProveItLink\" href=\"../../theorems.ipynb#reverse_proper_superset\">reverse_proper_superset</a> theorem\n",
    "========"
   ]
  },
  {
   "cell_type": "code",
   "execution_count": 1,
   "metadata": {},
   "outputs": [],
   "source": [
    "import proveit\n",
    "theory = proveit.Theory() # the theorem's theory"
   ]
  },
  {
   "cell_type": "code",
   "execution_count": 2,
   "metadata": {},
   "outputs": [
    {
     "data": {
      "text/html": [
       "Under these <a href=\"presumptions.txt\">presumptions</a>, we begin our proof of<br><strong id=\"reverse_proper_superset\">reverse_proper_superset:</strong> <a class=\"ProveItLink\" href=\"../../../__pv_it/theorems/dce26990d0a6961c1a1e1157423230545a729b850/expr.ipynb\"><img src=\"data:image/png;base64,iVBORw0KGgoAAAANSUhEUgAAALoAAAAWBAMAAACF/ptXAAAAMFBMVEX///8QEBCIiIhmZma6urrM\n",
       "zMxUVFQiIiJERETc3Nzu7u6qqqp2dnaYmJgyMjIAAAAcRTyBAAAAAXRSTlMAQObYZgAAAs9JREFU\n",
       "SMetlU1oE0EUx//dpM3udpP2pqCH3OxFUwhE0GADOSiCtHjQmwlUJXqwRQ+lqFjxKxUh8WQvkpUK\n",
       "lgg14EE8tdqDpYpExZPURtRLEVr6/UGp781k2+mHLa4u7OzMvHm/9+a9N7OA6+fhNvLqLFDizrAL\n",
       "uNkB+Ftmwqmbm0lP0XsOeMv9URf0ALmGCjLR0LSJdIzeXqCLPkaHC/onbhJFoLF+o9A/ZgNWEAH+\n",
       "FFzQ27kJ0QZGghJ4p62tzdnG0wYSmLXwD+XzD1zAjVZurxNjhy3Gv7KKtBiKUfsDmEunr7igayIe\n",
       "M8DJ82LsU+Feu49ChgHgDNAppmR7ZHIgJRZ6naX6ip43E410OrOsXjkzXHdZjg+qph8jweH6CsRh\n",
       "iqr0T8nw1cKqFerO0pHYitYH4FW56+NcafPAo6QYt6r0GHK8tRe0DBq7ge4lIfAkUb2g0s2GIrrD\n",
       "4c/cjwB9tpyuYJs6+aEtirAnFXhlc7iFyzBBBVP0iamhS9KnIDwllW49qYeZz8fZmYvAISj0GmJq\n",
       "E87ZWg07iUuSbpROCHvBtJA8a8I+W6Uf16VinBDT0EbVyHC5V01tiAyJfBzdw5zN0zxThf1C0ri3\n",
       "Tm7SoSc9UtFqgnfi422oWeVyT0jjr5ViJXpgXGYVz4X2F4SE6D2wR6X7C9q43G4QVgma46PFkfpG\n",
       "0ztlIgKrJ5KPj075RpSDx8Vjfn+XEcvuAbmCQu+NDi5Ij/qh98NYdGJLZi4sN0fSZap59mhZ0rM8\n",
       "iurMLFn/yd4x1WMjJ44xaTdmFfoBGNPlTaCmAO/8mptALZRB5SaQBldycYz2UDTuwliAsVuJjJfC\n",
       "u+SMczbu96+5xbZ8rKCTozkYmauVu/BmMpyKKfRMB7pmOYHGLVjXwpHVy1zPbkfvXf87Ufq60u9J\n",
       "p2/Ym/w9tn46141f/oHu6s/nX7+54t/Q/+nx/AfGb3O/sH8i0PZmAAAAAElFTkSuQmCC\n",
       "\" style=\"display:inline;vertical-align:middle;\" /></a><br>(see <a class=\"ProveItLink\" href=\"../../../__pv_it/theorems/3636ca520a97b0607eadbb12de1a5f30480990790/dependencies.ipynb\">dependencies</a>)<br>"
      ],
      "text/plain": [
       "reverse_proper_superset: forall_{A, B | A proper_superset B} (B proper_subset A)"
      ]
     },
     "execution_count": 2,
     "metadata": {},
     "output_type": "execute_result"
    }
   ],
   "source": [
    "%proving reverse_proper_superset"
   ]
  },
  {
   "cell_type": "code",
   "execution_count": null,
   "metadata": {},
   "outputs": [],
   "source": []
  }
 ],
 "metadata": {
  "kernelspec": {
   "display_name": "Python 3",
   "language": "python",
   "name": "python3"
  }
 },
 "nbformat": 4,
 "nbformat_minor": 0
}