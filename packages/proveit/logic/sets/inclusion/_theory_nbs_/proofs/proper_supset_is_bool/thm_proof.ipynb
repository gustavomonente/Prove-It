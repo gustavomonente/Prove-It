{
 "cells": [
  {
   "cell_type": "markdown",
   "metadata": {},
   "source": [
    "Proof of <a class=\"ProveItLink\" href=\"../../../../../../_theory_nbs_/theory.ipynb\">proveit</a>.<a class=\"ProveItLink\" href=\"../../../../../_theory_nbs_/theory.ipynb\">logic</a>.<a class=\"ProveItLink\" href=\"../../../../_theory_nbs_/theory.ipynb\">sets</a>.<a class=\"ProveItLink\" href=\"../../theory.ipynb\">inclusion</a>.<a class=\"ProveItLink\" href=\"../../theorems.ipynb#proper_supset_is_bool\">proper_supset_is_bool</a> theorem\n",
    "========"
   ]
  },
  {
   "cell_type": "code",
   "execution_count": 1,
   "metadata": {},
   "outputs": [],
   "source": [
    "import proveit\n",
    "theory = proveit.Theory() # the theorem's theory"
   ]
  },
  {
   "cell_type": "code",
   "execution_count": 2,
   "metadata": {},
   "outputs": [
    {
     "data": {
      "text/html": [
       "Under these <a href=\"presumptions.txt\">presumptions</a>, we begin our proof of<br><strong id=\"proper_supset_is_bool\">proper_supset_is_bool:</strong> <a class=\"ProveItLink\" href=\"../../../__pv_it/theorems/15841d7c5fe6761c162c57dc2c1bf069c7d967110/expr.ipynb\"><img src=\"data:image/png;base64,iVBORw0KGgoAAAANSUhEUgAAALcAAAAVBAMAAAD2lGJJAAAAMFBMVEX///8QEBCIiIhmZma6urrM\n",
       "zMxUVFQiIiJERETc3Nzu7u6qqqp2dnaYmJgyMjIAAAAcRTyBAAAAAXRSTlMAQObYZgAAAt5JREFU\n",
       "OMutVU1oE0EU/sz/bn4PhQiKBDzYi7ZY0IvQgmCkIMmp3mygFdIerOIhQlWiCCbFktzqQUikgqFC\n",
       "LXgQL1oaRKkiexWNRtSDPdhiJbYVrW9+dpNsshHBB29n5r3Zb958780M0EkUTWgn8ebb2x+RVlmn\n",
       "YvFjSSrJqRanf6LWl7wGjDWbbecyv8OjgIsWfcEMKxbgX6SSrLZ6d6SB/jjmTeaAM1Ka1aBS2DfZ\n",
       "7tPtsf29Qll3tdjiHibCYr3wRZrNHodmixPiEq1DP/kW2oO780JJ7vXz9mQqlZrW3T1keh+BGpKh\n",
       "XE9dluDeBQK/TablubkZC1ZmpJJoPQO69ZYkClcANUyxfeIj59WiEblvkMAD9MdGJnPRAnyvVMBR\n",
       "fKI1rcmkRjsZp7bMR/PFOi3RoTjxQYSeBrLcKL7H18tJvbimpQJ3MFxn1ivS4KxVuidZ5x0fjtU5\n",
       "D293MZooo0d5Xqn/XTAXgk+SiEmpwAAKvfUdnRU1t0m8JqjzkA/TDQn1VRYpBprmho3vePYXd9kT\n",
       "8G7JaV1S4Rzpm2ioKBGkh2Kw/WRVw6fs+UoiwZE+QZY1okZz87nL50WFRGCvmsEdVNTVOvgU/wYp\n",
       "ats3HVxpjBxplwBXqkN85UiGu+7HcaBopoVK1R0y08LK3MW4jPJhqBE8EaCI2LTsKDO5cJi7Yvu7\n",
       "EzAlVCHwwFr9gC8aZT6cNhJ6sCnytyKheMADeYMe7noF7NOnlaWy2vNsGuCPRfOBgtvJNnlE8Llg\n",
       "HP9FX5kCtLMYgqzI1I8vc5yNG0BBnxYVWtpegTf3Q5aLemyct2e2Rw5l+MzPwp4cbLq4EIiz4mOg\n",
       "9iIKbABKfyzfevyl0PG/8NR01FSRAjiei+Ovy12jR6UT1JQpKFtQdre5uDqI+eLSZclIwgaU3CXn\n",
       "Ljxb70satwg/tNm/gc+3N6tV86ti/VhYi8Xqnnybp+lfnzm/xTP32mzQ8F/lD8YWwkFufYhqAAAA\n",
       "AElFTkSuQmCC\n",
       "\" style=\"display:inline;vertical-align:middle;\" /></a><br>(see <a class=\"ProveItLink\" href=\"../../../__pv_it/theorems/e52732bd464e291b418f31bb29dc159081e3af060/dependencies.ipynb\">dependencies</a>)<br>"
      ],
      "text/plain": [
       "proper_supset_is_bool: forall_{A, B} ((A proper_superset B) in BOOLEAN)"
      ]
     },
     "execution_count": 2,
     "metadata": {},
     "output_type": "execute_result"
    }
   ],
   "source": [
    "%proving proper_supset_is_bool"
   ]
  },
  {
   "cell_type": "code",
   "execution_count": null,
   "metadata": {},
   "outputs": [],
   "source": []
  }
 ],
 "metadata": {
  "kernelspec": {
   "display_name": "Python 3",
   "language": "python",
   "name": "python3"
  }
 },
 "nbformat": 4,
 "nbformat_minor": 0
}