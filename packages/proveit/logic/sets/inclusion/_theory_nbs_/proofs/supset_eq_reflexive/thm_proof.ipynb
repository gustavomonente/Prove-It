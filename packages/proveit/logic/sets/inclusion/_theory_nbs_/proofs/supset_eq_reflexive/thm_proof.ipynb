{
 "cells": [
  {
   "cell_type": "markdown",
   "metadata": {},
   "source": [
    "Proof of <a class=\"ProveItLink\" href=\"../../../../../../_theory_nbs_/theory.ipynb\">proveit</a>.<a class=\"ProveItLink\" href=\"../../../../../_theory_nbs_/theory.ipynb\">logic</a>.<a class=\"ProveItLink\" href=\"../../../../_theory_nbs_/theory.ipynb\">sets</a>.<a class=\"ProveItLink\" href=\"../../theory.ipynb\">inclusion</a>.<a class=\"ProveItLink\" href=\"../../theorems.ipynb#supset_eq_reflexive\">supset_eq_reflexive</a> theorem\n",
    "========"
   ]
  },
  {
   "cell_type": "code",
   "execution_count": 1,
   "metadata": {},
   "outputs": [],
   "source": [
    "import proveit\n",
    "theory = proveit.Theory() # the theorem's theory"
   ]
  },
  {
   "cell_type": "code",
   "execution_count": 2,
   "metadata": {},
   "outputs": [
    {
     "data": {
      "text/html": [
       "Under these <a href=\"presumptions.txt\">presumptions</a>, we begin our proof of<br><strong id=\"supset_eq_reflexive\">supset_eq_reflexive:</strong> <a class=\"ProveItLink\" href=\"../../../__pv_it/theorems/befbbf49a6d89b2cb717c257e9da4f20e0d739db0/expr.ipynb\"><img src=\"data:image/png;base64,iVBORw0KGgoAAAANSUhEUgAAAGwAAAAUBAMAAACaOcVSAAAAMFBMVEX///8QEBCIiIhmZma6urrM\n",
       "zMxUVFQiIiJERETc3Nzu7u6qqqp2dnaYmJgyMjIAAAAcRTyBAAAAAXRSTlMAQObYZgAAAcNJREFU\n",
       "OMuFVN0rg2EU/9mH7X1n+Au0/2ArhQtl5UIp5WqXXODClWlliNrlVup97yjJW1xoSkrhzoU7XLzl\n",
       "UtYKiZsJZRRznq+9ezKcenbOznN+5+P3nA1oIhv4UyI2UGbGteY2c1wFy80wY3SmgXNmP2o37bZQ\n",
       "TzzHfTY7H/MuK3T2gDVSRk6DXQpV+qiXLyWVGa04QFsM7Uzta7AFEXvw7rX9oKzdAWrF7ET0rFhc\n",
       "1VBGWuT1veoTcXHjrPAtUM3nlzSYL8HVcOTzx7gIOCcuqVNgCihwV0GGhF3eVzL47MHUGNsYZ/SU\n",
       "gEGYnOmo6inEQwIwXjyYX3KSxCbr5Yii4OPpt1RPLTwk1d1TbWhSqOBE9wxjfZzquyHuOstoMPro\n",
       "8mCHcjS6LQuYUU7xRLF8Y5MROrN1VHBRaLoJdZIeYlRMMk8rehspWZcLIYjoE0Qa+3J3iBIc8He6\n",
       "QlyxlpBvZ9lyuVYkj+x9w2wJ+ul0MErNmwvLkQOkYVpfDo5rGX2Ld2qPiFhvlPWOMc/C/Q42R7Xl\n",
       "+kPMtLJGqKqrr/Lv0qZ+EeEqDGtZfbEbM9Ns2eycBttr3kPun2qF5u5//hSiNr4B3YRvuEfIG2kA\n",
       "AAAASUVORK5CYII=\n",
       "\" style=\"display:inline;vertical-align:middle;\" /></a><br>(see <a class=\"ProveItLink\" href=\"../../../__pv_it/theorems/e2e826a30c818fdcdf6083400f19456e91ac6fea0/dependencies.ipynb\">dependencies</a>)<br>"
      ],
      "text/plain": [
       "supset_eq_reflexive: forall_{A} (A supseteq A)"
      ]
     },
     "execution_count": 2,
     "metadata": {},
     "output_type": "execute_result"
    }
   ],
   "source": [
    "%proving supset_eq_reflexive"
   ]
  },
  {
   "cell_type": "code",
   "execution_count": 3,
   "metadata": {},
   "outputs": [
    {
     "data": {
      "text/html": [
       "<table><tr><th>&nbsp;</th><th>step type</th><th>requirements</th><th>statement</th></tr>\n",
       "<tr><td><a name=\"-0x5a888981c1c7f2ee_step0\">0</a></td><td>generalizaton</td><td><a href=\"#-0x5a888981c1c7f2ee_step1\">1</a></td><td><span style=\"font-size:20px;\"> <a class=\"ProveItLink\" href=\"../../../__pv_it/_proof_supset_eq_reflexive/bac7e79f4d291ae3cb6505308a4e880599472ec60/proof.ipynb\" style=\"text-decoration: none\">&nbsp;&#x22A2;&nbsp;&nbsp;</a><a class=\"ProveItLink\" href=\"../../../__pv_it/theorems/befbbf49a6d89b2cb717c257e9da4f20e0d739db0/expr.ipynb\"><img src=\"data:image/png;base64,iVBORw0KGgoAAAANSUhEUgAAAGwAAAAUBAMAAACaOcVSAAAAMFBMVEX///8QEBCIiIhmZma6urrM\n",
       "zMxUVFQiIiJERETc3Nzu7u6qqqp2dnaYmJgyMjIAAAAcRTyBAAAAAXRSTlMAQObYZgAAAcNJREFU\n",
       "OMuFVN0rg2EU/9mH7X1n+Au0/2ArhQtl5UIp5WqXXODClWlliNrlVup97yjJW1xoSkrhzoU7XLzl\n",
       "UtYKiZsJZRRznq+9ezKcenbOznN+5+P3nA1oIhv4UyI2UGbGteY2c1wFy80wY3SmgXNmP2o37bZQ\n",
       "TzzHfTY7H/MuK3T2gDVSRk6DXQpV+qiXLyWVGa04QFsM7Uzta7AFEXvw7rX9oKzdAWrF7ET0rFhc\n",
       "1VBGWuT1veoTcXHjrPAtUM3nlzSYL8HVcOTzx7gIOCcuqVNgCihwV0GGhF3eVzL47MHUGNsYZ/SU\n",
       "gEGYnOmo6inEQwIwXjyYX3KSxCbr5Yii4OPpt1RPLTwk1d1TbWhSqOBE9wxjfZzquyHuOstoMPro\n",
       "8mCHcjS6LQuYUU7xRLF8Y5MROrN1VHBRaLoJdZIeYlRMMk8rehspWZcLIYjoE0Qa+3J3iBIc8He6\n",
       "QlyxlpBvZ9lyuVYkj+x9w2wJ+ul0MErNmwvLkQOkYVpfDo5rGX2Ld2qPiFhvlPWOMc/C/Q42R7Xl\n",
       "+kPMtLJGqKqrr/Lv0qZ+EeEqDGtZfbEbM9Ns2eycBttr3kPun2qF5u5//hSiNr4B3YRvuEfIG2kA\n",
       "AAAASUVORK5CYII=\n",
       "\" style=\"display:inline;vertical-align:middle;\" /></a></span></td></tr>\n",
       "<tr><td><a name=\"-0x5a888981c1c7f2ee_step1\">1</a></td><td>instantiation</td><td><a href=\"#-0x5a888981c1c7f2ee_step2\">2</a>, <a href=\"#-0x5a888981c1c7f2ee_step3\">3</a></td><td><span style=\"font-size:20px;\"> <a class=\"ProveItLink\" href=\"../../../__pv_it/_proof_supset_eq_reflexive/5edb550a1018d5b45296ae5bd26b6808e6b8d2920/proof.ipynb\" style=\"text-decoration: none\">&nbsp;&#x22A2;&nbsp;&nbsp;</a><a class=\"ProveItLink\" href=\"../../../__pv_it/theorems/3e8886cd6025b46eca997875dbf53bdd5f511fb90/expr.ipynb\"><img src=\"data:image/png;base64,iVBORw0KGgoAAAANSUhEUgAAADsAAAARBAMAAACRPMnQAAAAMFBMVEX///92dnYiIiIQEBBERERU\n",
       "VFS6urqIiIjc3NxmZmaqqqru7u6YmJgyMjLMzMwAAADiRdoGAAAAAXRSTlMAQObYZgAAAK9JREFU\n",
       "KM9jYACBtwzYAFz0PpjkvqSkpFKAkL4PpXnub4AJcZ9NYEAX3TW/Aa6F+waMBRc9UJ+AxUaYKNuG\n",
       "9QcQ0rxQPXDRbQzvkRzEuIABVTSBoX8CQpoTahFMlC9yZrwDkuEQCi7KxsDAfAEhvRRqNUwUaBeT\n",
       "AVyWTxtCw0Q5gAzeDzDZbVMgDoeLNgExyw9YoDpC3Q0T3fL/NgOX/6cJqLGBXZQSALJbSUkVWQgA\n",
       "OJQ7cgWoVOYAAAAASUVORK5CYII=\n",
       "\" style=\"display:inline;vertical-align:middle;\" /></a></span></td></tr>\n",
       "<tr><td>&nbsp;</td><td colspan=4 style=\"text-align:left\"><span style=\"font-size:20px;\"><a class=\"ProveItLink\" href=\"../../../../../../__pv_it/common/09585084922504426caf1db2ff588a23a0932a960/expr.ipynb\"><img src=\"data:image/png;base64,iVBORw0KGgoAAAANSUhEUgAAAA8AAAAOBAMAAAACpFvcAAAALVBMVEX///8iIiIQEBBERERUVFS6\n",
       "urqIiIjc3NxmZmaqqqru7u6YmJgyMjLMzMwAAACK9jtgAAAAAXRSTlMAQObYZgAAAFtJREFUCNdj\n",
       "YACBOwxQcA5Kc59bAGGs7CuAMDbkBYBp1gXzNoAZSxnuJYAZAQx1DSCa16PDzwCshIGB6QCIMYGB\n",
       "gVEBSLMDGTwPgIxCIGZ+zsCw+N0pBk67hw0AfpEVEQi8t+wAAAAASUVORK5CYII=\n",
       "\" style=\"display:inline;vertical-align:middle;\" /></a> : <a class=\"ProveItLink\" href=\"../../../../../../__pv_it/common/09585084922504426caf1db2ff588a23a0932a960/expr.ipynb\"><img src=\"data:image/png;base64,iVBORw0KGgoAAAANSUhEUgAAAA8AAAAOBAMAAAACpFvcAAAALVBMVEX///8iIiIQEBBERERUVFS6\n",
       "urqIiIjc3NxmZmaqqqru7u6YmJgyMjLMzMwAAACK9jtgAAAAAXRSTlMAQObYZgAAAFtJREFUCNdj\n",
       "YACBOwxQcA5Kc59bAGGs7CuAMDbkBYBp1gXzNoAZSxnuJYAZAQx1DSCa16PDzwCshIGB6QCIMYGB\n",
       "gVEBSLMDGTwPgIxCIGZ+zsCw+N0pBk67hw0AfpEVEQi8t+wAAAAASUVORK5CYII=\n",
       "\" style=\"display:inline;vertical-align:middle;\" /></a>, <a class=\"ProveItLink\" href=\"../../../../../../__pv_it/common/a9162d1c3cc0470c02e5daf414500903a7a419230/expr.ipynb\"><img src=\"data:image/png;base64,iVBORw0KGgoAAAANSUhEUgAAABAAAAAOBAMAAADUAYG5AAAALVBMVEX///8yMjKqqqoiIiLu7u7c\n",
       "3NyIiIjMzMwQEBC6urpERERmZmZUVFSYmJgAAACsPVCVAAAAAXRSTlMAQObYZgAAAGxJREFUCNdj\n",
       "YGC48+70nlUTGICgi4GB+zmQZn/LwMD5Gshge8rAwPsMyOBqYGDwMAEy+A4wsNs4ABl1Z68tVgBp\n",
       "ygtgYOkBMVaAOCChNyBGAsQYhnMTIMawvwJyGIHGzFjCwMAj92b3qUUMDAAXABxvZ4rl5AAAAABJ\n",
       "RU5ErkJggg==\n",
       "\" style=\"display:inline;vertical-align:middle;\" /></a> : <a class=\"ProveItLink\" href=\"../../../../../../__pv_it/common/09585084922504426caf1db2ff588a23a0932a960/expr.ipynb\"><img src=\"data:image/png;base64,iVBORw0KGgoAAAANSUhEUgAAAA8AAAAOBAMAAAACpFvcAAAALVBMVEX///8iIiIQEBBERERUVFS6\n",
       "urqIiIjc3NxmZmaqqqru7u6YmJgyMjLMzMwAAACK9jtgAAAAAXRSTlMAQObYZgAAAFtJREFUCNdj\n",
       "YACBOwxQcA5Kc59bAGGs7CuAMDbkBYBp1gXzNoAZSxnuJYAZAQx1DSCa16PDzwCshIGB6QCIMYGB\n",
       "gVEBSLMDGTwPgIxCIGZ+zsCw+N0pBk67hw0AfpEVEQi8t+wAAAAASUVORK5CYII=\n",
       "\" style=\"display:inline;vertical-align:middle;\" /></a>, <a class=\"ProveItLink\" href=\"../../../../../../__pv_it/common/a0d9d672aa5e272d907247690c152cc2c6daafb70/expr.ipynb\"><img src=\"data:image/png;base64,iVBORw0KGgoAAAANSUhEUgAAAAsAAAAJBAMAAAAWSsseAAAALVBMVEX///9mZmaqqqrMzMxEREQy\n",
       "MjIiIiKYmJh2dna6urrc3NxUVFSIiIju7u4AAACJHQtQAAAAAXRSTlMAQObYZgAAAEJJREFUCNdj\n",
       "YLhzeuWJAwy8Dew5bAEMHBc43nIuYOBlYHFgAAG+A2DKzgBIMF04x8BzgWGegh/DcgaG22fuiBcw\n",
       "AAATyhBrnyPYZQAAAABJRU5ErkJggg==\n",
       "\" style=\"display:inline;vertical-align:middle;\" /></a> : <a class=\"ProveItLink\" href=\"../../../__pv_it/_proof_supset_eq_reflexive/006c465e50948aa2b52285e2de47974f741255cc0/expr.ipynb\"><img src=\"data:image/png;base64,iVBORw0KGgoAAAANSUhEUgAAABgAAAAJBAMAAADa0/H1AAAAMFBMVEX///9UVFSqqqrMzMwiIiKY\n",
       "mJgyMjIQEBCIiIh2dnZmZmbc3Nzu7u5ERES6uroAAACFTSmKAAAAAXRSTlMAQObYZgAAAElJREFU\n",
       "CNdjYICCXbPaD8DYfNUM+TA2w/EAhrVwzvoDDB5wTi0Dz2cYm+cnA9MHOOcTA2OCNox3gyFEYALD\n",
       "27tAcIDhYIe1xAMAoVgVdfU81nAAAAAASUVORK5CYII=\n",
       "\" style=\"display:inline;vertical-align:middle;\" /></a></span></td></tr><tr><td><a name=\"-0x5a888981c1c7f2ee_step2\">2</a></td><td>theorem</td><td></td><td><span style=\"font-size:20px;\"> <a class=\"ProveItLink\" href=\"../fold_supset_eq/thm_proof.ipynb\" style=\"text-decoration: none\">&nbsp;&#x22A2;&nbsp;&nbsp;</a><a class=\"ProveItLink\" href=\"../../../__pv_it/theorems/62daa790abccb5d81aac5d176d47fbcbdedfeb810/expr.ipynb\"><img src=\"data:image/png;base64,iVBORw0KGgoAAAANSUhEUgAAAO8AAAAWBAMAAADaw9ZbAAAAMFBMVEX///8QEBCIiIhmZma6urrM\n",
       "zMxUVFQiIiJERETc3Nzu7u6qqqp2dnaYmJgyMjIAAAAcRTyBAAAAAXRSTlMAQObYZgAAA2hJREFU\n",
       "SMe1Vl1IVEEUPu3e6+7dvas+RVHEPlVQprRp9LYhVETRPulL0EIJYlSG0JYUbPXQXS32PlUQ4Y3A\n",
       "QMgEIRIKZCsClVgswpBkoV4KynBLNsvszJm5f+umFdvAnTNzZs79znxzzswA/I9yc5nxIfxyrPGm\n",
       "vLiBJAk5t2jk1cLhBi0KFTrAKOt/KC9wpc7FZxL9iUTigjm0CsD7FQLo0nXsKcnyAr/gYmrO0tx9\n",
       "x6U8DyDlATLolgGgDpQX+AwnfPCbrernJHhQFZoBuIVipK/vWnlxlXYSIc8XWyf221+NoJ243ChA\n",
       "QdPO/svfixWy1fLUkdgbnHcMv6e6Kg7yKcYxTmkBSJGS13vyj1uJFmlp4GF3NwXBqNn2Z4npqDzj\n",
       "mEBBDIeOjV9i+xpCAhopxrDNiQlVg1pN5qzyoncVpXArdFeXGe8wO74B7riSd8zYRnWtDoGVKIO4\n",
       "Gz7wkIe3OTHeOATnLGAZF3a1FPBBM2UfRrLCuNccW0Frb4o0FBwGfI/PM3D0S8ZMU7M+0o10cHfD\n",
       "4M1ZwICJVl8KuEXIiaE+07hSdwFjtc6eH4yTmGXAYQ6s5JpobWGNhu7FYIthA09pWskkR6oy9etj\n",
       "Eo8jMubEmVQH8Ttpz282zDSGE+iSxAI/dYQ2DbbTjAM1G7lzflGHHEmu/hg7amaMxzjui1aKHWfG\n",
       "YlEiuG7gN22doY0pK43lggguGKS0m4RaGnsOsMEBrMb84MrG3dSQkpg+H3FvuZ6MJZMaliuUy2ld\n",
       "HJmnR8VZimG7s4tFEkuKqjDz6e1Ymti4DNAzYAMH4vtE3EYiWA3DVg7MVofuN2uaFhbG1p2APAbS\n",
       "Pw14sNBRlArTs5HWbvIgxn5p8LzpYR34jmzrNjC0tYGyuSYOT8lydIJnq5xkASKLVOPGUtx9ZC5V\n",
       "7lit/bjyrNIFyhwoax1Uwy5MLyk5HAhTvBqwmhPRDj1qTsWdsIwZHe5LYomSsQ6bAijpc/IaeJaP\n",
       "tEadwD78tScM0kVGNTp6has7ofdlZgSg2zIGr310uU4Xdi0mEnHXhV18UwcdbTuoVH8sG6Dl3Ae5\n",
       "k+s2mecy22MROcUPgd8Xt2fiSbIY2DueicET5tensQa9eNQqj/786fO6WJEtCWxHtV2k7KL3Tl2Z\n",
       "blXv8u81V/EYf/X7X6JR2veyksOEAAAAAElFTkSuQmCC\n",
       "\" style=\"display:inline;vertical-align:middle;\" /></a></span></td></tr>\n",
       "<tr><td>&nbsp;</td><td colspan=4 style-\"text-align:left\"><a class=\"ProveItLink\" href=\"../fold_supset_eq/thm_proof.ipynb\">proveit.logic.sets.inclusion.fold_supset_eq</a></td></tr><tr><td><a name=\"-0x5a888981c1c7f2ee_step3\">3</a></td><td>generalizaton</td><td><a href=\"#-0x5a888981c1c7f2ee_step4\">4</a></td><td><span style=\"font-size:20px;\"> <a class=\"ProveItLink\" href=\"../../../__pv_it/_proof_supset_eq_reflexive/a52dcdda049dfd613f482c5eeff1026fee96df1d0/proof.ipynb\" style=\"text-decoration: none\">&nbsp;&#x22A2;&nbsp;&nbsp;</a><a class=\"ProveItLink\" href=\"../../../__pv_it/_proof_supset_eq_reflexive/ccd5f6d9c69deaca841ba67cff17ccc7b20edd6b0/expr.ipynb\"><img src=\"data:image/png;base64,iVBORw0KGgoAAAANSUhEUgAAAJQAAAAUBAMAAACZogk/AAAAMFBMVEX///8QEBCIiIhmZma6urrM\n",
       "zMxUVFQiIiJERETc3Nzu7u6qqqp2dnaYmJgyMjIAAAAcRTyBAAAAAXRSTlMAQObYZgAAAghJREFU\n",
       "OMtjYCACcF4gqIR7AgPDAxDjLn51KwiYEwfEmQwMp0HsV/iVviRg1HsgXsfAMAPkgQa8KnkN8JvE\n",
       "+34BAwOPAgMfiNqAVyn7BCza28vrYOzV9kAFXAIMvKdWrZqO31Ys0qxNCxCcC/oOQPIJA8OPjo4a\n",
       "/EYpI8WljZEUiF6HZBLLgv2gGD7MwJDKwNCJ1QS4aC9CzHEC3wcGSHzBwRKGeAUgdY+BwZmB6wHW\n",
       "wPwCY1XDxbhkGZjBUYQcTw4M80Hxsh0YqAxMqCmQa48xSGDxX5iACFyK+RcDO8gFrHLvgAAabMnG\n",
       "+SCT44HRd4Ed1Tk3dq4CUaeKMY1ibGBYH4CWeliAwg8gRnE+CIMLL1Z7ysACSUWsCh2YHlx/gGE/\n",
       "mCGAMAqYkNhBXHdQ8KbAvVbK+ouBD8JmYzDHDPb1GxjyQLmNwQgRp0CjwFEBDHaGzQXwoDBgLWBY\n",
       "DGHfZtCHCR+G6+NQ4C3jAafaDciJjuMnkLABYn4FeFBsYEpgCO/o6FBg4Hp8ph+WdoBOZwEKdnQx\n",
       "cCWpTlMBuz/DC5rT/79i4O7/DgyUp6BYhye39RM4bi1ggzhwAcP8ADwZh+UEIuNAAqcAhcs4Id6X\n",
       "gQdsgi/QtReIzM5gwAPzG5exsbE1A0vSJlsGhm6Q738wcPbXYqR7PGAdNkEmUFiRVPQRax1xBTLv\n",
       "BAYAEJh66BqtObQAAAAASUVORK5CYII=\n",
       "\" style=\"display:inline;vertical-align:middle;\" /></a></span></td></tr>\n",
       "<tr><td><a name=\"-0x5a888981c1c7f2ee_step4\">4</a></td><td>assumption</td><td></td><td><span style=\"font-size:20px;\"><a class=\"ProveItLink\" href=\"../../../__pv_it/_proof_supset_eq_reflexive/8ddfe5c00aba819483045a795139d4c0769c9f330/expr.ipynb\"><img src=\"data:image/png;base64,iVBORw0KGgoAAAANSUhEUgAAAEAAAAAPBAMAAACmSdRUAAAAMFBMVEX///9UVFSqqqrMzMwiIiKY\n",
       "mJgyMjIQEBCIiIh2dnZmZmbc3Nzu7u5ERES6uroAAACFTSmKAAAAAXRSTlMAQObYZgAAAMtJREFU\n",
       "GNNjYMAHmBMY8AO2DwQUhP3BIhjr4gIzmEfrN6a8bQ+CzcrxD8HZNav9AEhTDpLiN0xf4Wy+aoZ8\n",
       "EM24ASHP84D5B5xzPIBhLYjmRTKAj4H7F5yz/gCDB4g2TwMCqCMNVy38C1dQy8DzGUTvRTLhAQND\n",
       "Gdy6nwxM4EBhR8gzAbE7XMEnBsYEbSCDqwGuYBMQ58N5NxhCBCaAGE4wEW4HIHF/A8Pbu0BwgOFg\n",
       "h7XEA5D4wXsHIGbe/3aAQfe/F2ZQvrzighyHALl0NiaDfO06AAAAAElFTkSuQmCC\n",
       "\" style=\"display:inline;vertical-align:middle;\" /></a> <a class=\"ProveItLink\" href=\"../../../__pv_it/_proof_supset_eq_reflexive/938fa389a68e86506528854bc447de64868664e90/proof.ipynb\" style=\"text-decoration: none\">&nbsp;&#x22A2;&nbsp;&nbsp;</a><a class=\"ProveItLink\" href=\"../../../__pv_it/_proof_supset_eq_reflexive/8ddfe5c00aba819483045a795139d4c0769c9f330/expr.ipynb\"><img src=\"data:image/png;base64,iVBORw0KGgoAAAANSUhEUgAAAEAAAAAPBAMAAACmSdRUAAAAMFBMVEX///9UVFSqqqrMzMwiIiKY\n",
       "mJgyMjIQEBCIiIh2dnZmZmbc3Nzu7u5ERES6uroAAACFTSmKAAAAAXRSTlMAQObYZgAAAMtJREFU\n",
       "GNNjYMAHmBMY8AO2DwQUhP3BIhjr4gIzmEfrN6a8bQ+CzcrxD8HZNav9AEhTDpLiN0xf4Wy+aoZ8\n",
       "EM24ASHP84D5B5xzPIBhLYjmRTKAj4H7F5yz/gCDB4g2TwMCqCMNVy38C1dQy8DzGUTvRTLhAQND\n",
       "Gdy6nwxM4EBhR8gzAbE7XMEnBsYEbSCDqwGuYBMQ58N5NxhCBCaAGE4wEW4HIHF/A8Pbu0BwgOFg\n",
       "h7XEA5D4wXsHIGbe/3aAQfe/F2ZQvrzighyHALl0NiaDfO06AAAAAElFTkSuQmCC\n",
       "\" style=\"display:inline;vertical-align:middle;\" /></a></span></td></tr>\n",
       "</table>"
      ],
      "text/plain": [
       "\tstep type\trequirements\tstatement\n",
       "0\tgeneralizaton\t1\t|- forall_{A} (A supseteq A)\n",
       "1\tinstantiation\t2, 3\t|- A supseteq A\n",
       "\tA : A, B : A, x : _a\n",
       "2\ttheorem\t\t|- forall_{A, B | forall_{x in B} (x in A)} (A supseteq B)\n",
       "\tproveit.logic.sets.inclusion.fold_supset_eq\n",
       "3\tgeneralizaton\t4\t|- forall_{_a in A} (_a in A)\n",
       "4\tassumption\t\t{_a in A} |- _a in A"
      ]
     },
     "execution_count": 3,
     "metadata": {},
     "output_type": "execute_result"
    }
   ],
   "source": [
    "%qed"
   ]
  },
  {
   "cell_type": "code",
   "execution_count": null,
   "metadata": {},
   "outputs": [],
   "source": []
  }
 ],
 "metadata": {
  "kernelspec": {
   "display_name": "Python 3",
   "language": "python",
   "name": "python3"
  }
 },
 "nbformat": 4,
 "nbformat_minor": 0
}