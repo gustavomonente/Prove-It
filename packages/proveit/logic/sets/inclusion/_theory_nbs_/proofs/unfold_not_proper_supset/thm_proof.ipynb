{
 "cells": [
  {
   "cell_type": "markdown",
   "metadata": {},
   "source": [
    "Proof of <a class=\"ProveItLink\" href=\"../../../../../../_theory_nbs_/theory.ipynb\">proveit</a>.<a class=\"ProveItLink\" href=\"../../../../../_theory_nbs_/theory.ipynb\">logic</a>.<a class=\"ProveItLink\" href=\"../../../../_theory_nbs_/theory.ipynb\">sets</a>.<a class=\"ProveItLink\" href=\"../../theory.ipynb\">inclusion</a>.<a class=\"ProveItLink\" href=\"../../theorems.ipynb#unfold_not_proper_supset\">unfold_not_proper_supset</a> theorem\n",
    "========"
   ]
  },
  {
   "cell_type": "code",
   "execution_count": 1,
   "metadata": {},
   "outputs": [],
   "source": [
    "import proveit\n",
    "theory = proveit.Theory() # the theorem's theory"
   ]
  },
  {
   "cell_type": "code",
   "execution_count": 2,
   "metadata": {},
   "outputs": [
    {
     "data": {
      "text/html": [
       "Under these <a href=\"presumptions.txt\">presumptions</a>, we begin our proof of<br><strong id=\"unfold_not_proper_supset\">unfold_not_proper_supset:</strong> <a class=\"ProveItLink\" href=\"../../../__pv_it/theorems/775cd359c20646b28a895755f032a3bef1bc3ffa0/expr.ipynb\"><img src=\"data:image/png;base64,iVBORw0KGgoAAAANSUhEUgAAANcAAAAWCAMAAABkF/mWAAAAP1BMVEX///8fHx8tLS1fX18bGxuw\n",
       "sLAQEBCIiIhmZma6urrMzMxUVFQiIiJERETc3Nzu7u6qqqp2dnaYmJgyMjIAAAChI0xtAAAAAXRS\n",
       "TlMAQObYZgAAAsBJREFUWMPVWFmW4yAM9GxG7Ov9zzostpFsMyH9ut1v9BE5EZVQhSQgy/K0mfBu\n",
       "YNKcwT4en4fwBC2rpwIiTnxXkClJAKk1L2/lRqx67/ZR0T7BK5qpQExT37Y2MSCJosymRfVml8no\n",
       "J2gFmAqEmGZUFqnlGE8V7Vn7uPp9mfrCfaUpMxOwDlJ/L1QzfSkUto0KqTKy6wYvPnhbzKhHmoaa\n",
       "CoQ8Y34d489JrNeNh2qLEzdQ9UkXU/4JXgxmAtwuLoUJWZJs6yn3nAPkpajUkRT4mesEPrcc/NHl\n",
       "9zTR0Y6AeeCo5+KA5aVy2G0vB1peMgSmletliTwH1EtatuKZh7rWfkVzuNQ8AYAYAXMVtSmAOsyT\n",
       "wKGbSfcrq27Ky65yp62wLy+s62WB5ABUkEP96cxrA1goFv7IITD35fNaG3kJiLwlgUz37Vmaa3ll\n",
       "fm5fQOx9IDp4q7BWqiYExPF67YDaf/jvX0PgHK/2tN5vzNpeyqvwYne8TMwadbnYotHMbd3yGN60\n",
       "T7wogHsOIyBNN8KrB7YHtb7Mw333WuReB1wRr43scsmS/ijZE8ulKYlmp9QggCyzFwPgTd/YeR0B\n",
       "4/514GD+ZvcSR86SvlG6TJ9XcAWAkqwOYWrIiwJYfsfZANgbMRKdBo5OrtPNDu5Icsa2pHw9khM8\n",
       "9b2p2gjea9wk6hCT3IAXBdTDq/EDYE+Ui7WA1SnVxHX5QZ00sFxKlNQy7ofe/gtRUB+O8WDrZESv\n",
       "TdeSygx4UUDt8cENgNPnqNOSbscoL17dFRT1SLaW5qUgjW4zrq+rH+QhAhzVopcBcP7c+zEj515S\n",
       "1rUCjU4qLGLNgnuVymai+aBvYMDWhY0ust4Cr0eTmcD81S5SP7yAjmYwuhj+/JEPmmA/4175EduV\n",
       "eaGQM+/xwnfv7/gfIBjqh+OWN3mFR25wX2fwH8zxL7CqJ7wF9GkQAAAAAElFTkSuQmCC\n",
       "\" style=\"display:inline;vertical-align:middle;\" /></a><br>(see <a class=\"ProveItLink\" href=\"../../../__pv_it/theorems/b22924972b814f2ffc5930b1297489a14767df410/dependencies.ipynb\">dependencies</a>)<br>"
      ],
      "text/plain": [
       "unfold_not_proper_supset: forall_{A, B | A nsupset B} [not](A proper_superset B)"
      ]
     },
     "execution_count": 2,
     "metadata": {},
     "output_type": "execute_result"
    }
   ],
   "source": [
    "%proving unfold_not_proper_supset"
   ]
  },
  {
   "cell_type": "code",
   "execution_count": null,
   "metadata": {},
   "outputs": [],
   "source": []
  }
 ],
 "metadata": {
  "kernelspec": {
   "display_name": "Python 3",
   "language": "python",
   "name": "python3"
  }
 },
 "nbformat": 4,
 "nbformat_minor": 0
}