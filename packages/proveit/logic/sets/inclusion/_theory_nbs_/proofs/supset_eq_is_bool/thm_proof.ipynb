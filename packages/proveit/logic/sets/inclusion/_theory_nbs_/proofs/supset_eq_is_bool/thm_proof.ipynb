{
 "cells": [
  {
   "cell_type": "markdown",
   "metadata": {},
   "source": [
    "Proof of <a class=\"ProveItLink\" href=\"../../../../../../_theory_nbs_/theory.ipynb\">proveit</a>.<a class=\"ProveItLink\" href=\"../../../../../_theory_nbs_/theory.ipynb\">logic</a>.<a class=\"ProveItLink\" href=\"../../../../_theory_nbs_/theory.ipynb\">sets</a>.<a class=\"ProveItLink\" href=\"../../theory.ipynb\">inclusion</a>.<a class=\"ProveItLink\" href=\"../../theorems.ipynb#supset_eq_is_bool\">supset_eq_is_bool</a> theorem\n",
    "========"
   ]
  },
  {
   "cell_type": "code",
   "execution_count": 1,
   "metadata": {},
   "outputs": [],
   "source": [
    "import proveit\n",
    "theory = proveit.Theory() # the theorem's theory"
   ]
  },
  {
   "cell_type": "code",
   "execution_count": 2,
   "metadata": {},
   "outputs": [
    {
     "data": {
      "text/html": [
       "Under these <a href=\"presumptions.txt\">presumptions</a>, we begin our proof of<br><strong id=\"supset_eq_is_bool\">supset_eq_is_bool:</strong> <a class=\"ProveItLink\" href=\"../../../__pv_it/theorems/ddf009d31179d5f798e7c895d5a167c583f3ad9d0/expr.ipynb\"><img src=\"data:image/png;base64,iVBORw0KGgoAAAANSUhEUgAAALcAAAAVBAMAAAD2lGJJAAAAMFBMVEX///8QEBCIiIhmZma6urrM\n",
       "zMxUVFQiIiJERETc3Nzu7u6qqqp2dnaYmJgyMjIAAAAcRTyBAAAAAXRSTlMAQObYZgAAAuRJREFU\n",
       "OMutVU1oE0EU/sxfs0ma5lCIoEjAg71oghW9CC30UClIcmpvNtAKqQdb8ZBCVWIRTERJbvXWlQqG\n",
       "irHgQTxZmoPSiuxVNBpRD/Zgi5XaVrS++dnd7DYbEHzwdmbfzHzz3vfezACtRNGEtpJgqbn9GWmd\n",
       "dWoOC8tSSc7tGWwf3+zO3ADGrGbXpfyf6Cjgo01XmGHVAfyrVJI1/q1ks9lpfXRfDuhJoWJbFPbG\n",
       "ynMaAuT2XRZ9rjl2e0Io666puvXRZ9kZJsKSCYRi1lV+j+ZKEeIS7UOLQgvNwdtKQkke9pjUVmQ3\n",
       "Tu2HGAIR6crN7DUJHlwg8HtkWp6fn3FgZUYqiRbvNczeumivA4Eo+SYi8U6rhuehAQIP04qtfP6K\n",
       "A/hhqYBHfa5ZU0GyCQxdoLYq4lFNWvoHU8QHEXoeKHCj+J7ZqGZ0Bu5IBe5juIHZFeHqZq1rinXe\n",
       "898xk/PobiejiQLs43ml/g/BXAQhSSKmpAK9mE2Y4CdEzW0Tr2nqPOW/uYaEhmqLdAAmKGNw8Yjn\n",
       "fvMhdxrBHTmtUyq8I93jDRUlOPeTD65frGr4lEPfSCQ4cmfJsk7UaG187vJlUSExuOt2cA8Vdd08\n",
       "k2nedFDj+q6DK42eI+cT4Ep9kO8cy/OhxykcU+20UKm2RQzwIdUocx/jsp//RhrB02HyaIIlcpSZ\n",
       "fDjFh5JHu9KwJVQh8PC6NAb6CmaZD+eMhB63eP5OJBRP2A54izgfeg0c0adVpbJa92/L4z+5Ikc/\n",
       "knP7WRCnBZ8LxvFfDFXJQfci444VWeDTqyKP9jYwq0/rF1reXUWw+DNhPQQXd0dO5vnMLyKizIDl\n",
       "4kI4xYqPgbpVzLIfUPqTpb3Hv4UEJkTreSmOvy4PjB6VToem3IKyA+Vgk4urhdgvLl2WjCRsQSle\n",
       "9R7Ai43ujHmLFIyDq99ZWSZpC0jFIaC6/VVxfiycpdDc7C81eZr+9Zlrd0jKG7tBw3+Vv4LXyJvb\n",
       "eKmAAAAAAElFTkSuQmCC\n",
       "\" style=\"display:inline;vertical-align:middle;\" /></a><br>(see <a class=\"ProveItLink\" href=\"../../../__pv_it/theorems/edae5653e4ec11e0f4b0f018b94b7fa2093888c70/dependencies.ipynb\">dependencies</a>)<br>"
      ],
      "text/plain": [
       "supset_eq_is_bool: forall_{A, B} ((A supseteq B) in BOOLEAN)"
      ]
     },
     "execution_count": 2,
     "metadata": {},
     "output_type": "execute_result"
    }
   ],
   "source": [
    "%proving supset_eq_is_bool"
   ]
  },
  {
   "cell_type": "code",
   "execution_count": null,
   "metadata": {},
   "outputs": [],
   "source": []
  }
 ],
 "metadata": {
  "kernelspec": {
   "display_name": "Python 3",
   "language": "python",
   "name": "python3"
  }
 },
 "nbformat": 4,
 "nbformat_minor": 0
}