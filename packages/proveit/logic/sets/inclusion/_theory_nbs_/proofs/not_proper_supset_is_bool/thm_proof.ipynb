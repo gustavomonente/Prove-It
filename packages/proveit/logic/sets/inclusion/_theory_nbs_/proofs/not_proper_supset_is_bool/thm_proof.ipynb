{
 "cells": [
  {
   "cell_type": "markdown",
   "metadata": {},
   "source": [
    "Proof of <a class=\"ProveItLink\" href=\"../../../../../../_theory_nbs_/theory.ipynb\">proveit</a>.<a class=\"ProveItLink\" href=\"../../../../../_theory_nbs_/theory.ipynb\">logic</a>.<a class=\"ProveItLink\" href=\"../../../../_theory_nbs_/theory.ipynb\">sets</a>.<a class=\"ProveItLink\" href=\"../../theory.ipynb\">inclusion</a>.<a class=\"ProveItLink\" href=\"../../theorems.ipynb#not_proper_supset_is_bool\">not_proper_supset_is_bool</a> theorem\n",
    "========"
   ]
  },
  {
   "cell_type": "code",
   "execution_count": 1,
   "metadata": {},
   "outputs": [],
   "source": [
    "import proveit\n",
    "theory = proveit.Theory() # the theorem's theory"
   ]
  },
  {
   "cell_type": "code",
   "execution_count": 2,
   "metadata": {},
   "outputs": [
    {
     "data": {
      "text/html": [
       "Under these <a href=\"presumptions.txt\">presumptions</a>, we begin our proof of<br><strong id=\"not_proper_supset_is_bool\">not_proper_supset_is_bool:</strong> <a class=\"ProveItLink\" href=\"../../../__pv_it/theorems/536a49ff0c08e54e70b338fd07c18cd3961a58940/expr.ipynb\"><img src=\"data:image/png;base64,iVBORw0KGgoAAAANSUhEUgAAALcAAAAVCAMAAAAzZI9IAAAAPFBMVEX///8NDQ0WFhYfHx++vr4Q\n",
       "EBCIiIhmZma6urrMzMxUVFQiIiJERETc3Nzu7u6qqqp2dnaYmJgyMjIAAAAvkUTxAAAAAXRSTlMA\n",
       "QObYZgAAAtFJREFUSMe9V9eipCAMdXcvPdT8/79eigx1Rp2H5cGIHiEkJ8Xj+H5oP8pPw5n376x+\n",
       "tG2Bh9fc+2dqGxhlGSJsjzg+9RJRMiYBeJrKz4pTRQAwECUzusCdra+DeaZ30KM8Z7jDnju2Qcph\n",
       "GYp08nC11SFotI9h2bQZrqu1NDxT27NRnrOAm+MvawsszuWYv3b0815w8Iin4ijrZHg1czP8vaH0\n",
       "KAtnLMM2F6oMCGJ2/YnymDU2ZLIJpM/CpLe1p94Z7p1JQ6uHQalGeW4YNeIL9udfmBgM5FRAFauF\n",
       "/iMB1Ozs7XgNpQxHSEO5Z3pTNsridnNYXMMbxGwVlMUfsjq7W8WsgZb15kpI0cHLBDqL9PcckLkY\n",
       "+XPIgx9l3pEn5i5cFdFKlo30lt5TULaFRRfDesdvohAJ7+GcTSHtB1f77FJHZnrbUeYzJt4gW82d\n",
       "cBt6GyJrTla9km/i0nnveni60GY2wwZXs7y2ndNEPTtpZxQxJTOJS+6QixVPekf9bXVAg5NQx6R3\n",
       "FRXu/GAOZ1RvMpX9zuYUu9G73JEZWSgGZqF30psueuu39k6ekB08FjMh23npAd2nJlcGusTKypP6\n",
       "YGIUL0urTfY+ZGUk716Tt3rLWt5POOiunsWXrFuFI40RJNel5rjUdl8wSwqkbpO9xYtTfVwy+t7e\n",
       "J8FPuO0U9Tat27EmlBZhaZTYKF+ZDnDIBznqDzuQJxSTcvIiD3MbVw51PgKcY3KEt9xlAnMOuiCE\n",
       "DNE4r1U9W6QBxEwlG2+G8IhPDZeyo5kMtalqaw4F1Ujg5kNf1eD+BWMma9mWKQpz1Lfq/JRJlPr7\n",
       "J5Z5J65ay8md3MFQ5y/gR80zKW40lCPkK3E3+6rFw7eazKu+6goOOVA0oPIxj0ZLO4UpJwPfNWl6\n",
       "ra5Lj3+re7jsY5/B7Tf/Dd+YG5798FzAL3+fbvyn8Vud/DO1r+APf9v+7/gFKqgjnmEbiWYAAAAA\n",
       "SUVORK5CYII=\n",
       "\" style=\"display:inline;vertical-align:middle;\" /></a><br>(see <a class=\"ProveItLink\" href=\"../../../__pv_it/theorems/8d5aafd04acf10c8a360c1aa2f5fd9f014d7bce60/dependencies.ipynb\">dependencies</a>)<br>"
      ],
      "text/plain": [
       "not_proper_supset_is_bool: forall_{A, B} ((A nsupset B) in BOOLEAN)"
      ]
     },
     "execution_count": 2,
     "metadata": {},
     "output_type": "execute_result"
    }
   ],
   "source": [
    "%proving not_proper_supset_is_bool"
   ]
  },
  {
   "cell_type": "code",
   "execution_count": null,
   "metadata": {},
   "outputs": [],
   "source": []
  }
 ],
 "metadata": {
  "kernelspec": {
   "display_name": "Python 3",
   "language": "python",
   "name": "python3"
  }
 },
 "nbformat": 4,
 "nbformat_minor": 0
}