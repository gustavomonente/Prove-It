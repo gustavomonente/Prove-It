{
 "cells": [
  {
   "cell_type": "markdown",
   "metadata": {},
   "source": [
    "Proof of <a class=\"ProveItLink\" href=\"../../../../../../_theory_nbs_/theory.ipynb\">proveit</a>.<a class=\"ProveItLink\" href=\"../../../../../_theory_nbs_/theory.ipynb\">logic</a>.<a class=\"ProveItLink\" href=\"../../../../_theory_nbs_/theory.ipynb\">sets</a>.<a class=\"ProveItLink\" href=\"../../theory.ipynb\">inclusion</a>.<a class=\"ProveItLink\" href=\"../../theorems.ipynb#inclusive_existential_quantification\">inclusive_existential_quantification</a> theorem\n",
    "========"
   ]
  },
  {
   "cell_type": "code",
   "execution_count": 1,
   "metadata": {},
   "outputs": [],
   "source": [
    "import proveit\n",
    "theory = proveit.Theory() # the theorem's theory"
   ]
  },
  {
   "cell_type": "code",
   "execution_count": 2,
   "metadata": {},
   "outputs": [
    {
     "data": {
      "text/html": [
       "Under these <a href=\"presumptions.txt\">presumptions</a>, we begin our proof of<br><strong id=\"inclusive_existential_quantification\">inclusive_existential_quantification:</strong> <a class=\"ProveItLink\" href=\"../../../__pv_it/theorems/19c18dd7f32ad929972f80bb434e18f98a0cf3c80/expr.ipynb\"><img src=\"data:image/png;base64,iVBORw0KGgoAAAANSUhEUgAAAYcAAAAWBAMAAADZfU0fAAAAMFBMVEX///8QEBCIiIhmZma6urrM\n",
       "zMxUVFQiIiJERETc3Nzu7u6qqqp2dnaYmJgyMjIAAAAcRTyBAAAAAXRSTlMAQObYZgAABR9JREFU\n",
       "WMPNV11sU2UYftaftef0tOuFV+hFwxJHCG6NxBHJGA1eyIXYhgtvaYg0mKA0SDIVlPm3dCquJEan\n",
       "xuyIxiEaaOIFISZaGYYfG1IlMSFGqMGFsAtY9sdWQXy/n/PX023VauKbnL7vOeft877P973v930H\n",
       "aF4+gudG6n2S/DKOSlnoEDle3ut+3zn+d1BOAuFrCaZQYfe/NsNB7YeWQHcmk1lR3yG8ez7zzHoy\n",
       "jhhPnqLrtNvx9FIo+PnuQOaqbqG0ElsKzNQP7H6iGRKRPMMycqsnbTRSL1P468aDY4uRWAoFfwLB\n",
       "FRaKWuEkmBpmE9TfDImLWI7EtiLwbQzhuPFAi/0DEv7bVIhTNpRTIjCpCI2QVmiGxPPLkuii111F\n",
       "BMxqV6N2EsF8QyQ8M3TdtqF8LAKTCp8/evS9Zjgo2WVJDNG1OwFbmN/tJPz9DZEITlIfzNhQIgke\n",
       "mBTmc7n9zZDwxJclQcWsTAPtZB6+/501VEtjjnK62BAJ1lkjcYaitsdwSIcW54FJYQcwyJ3E7+bp\n",
       "sZ18wjbPjQ3ozPC5ph2+oZ7uQeNpmZM409fXt1AzdHmrmE9QWxyk8MXwngAlc1lmvK6PyYG4QcKF\n",
       "YqbDOyu0n6Novii6qIgqnAQpPML7m+wZsR5GoUUNI8tzMQCv0D++zOUGyPwR+E4+DRQWm4krCTlX\n",
       "c6Wx1aT3kaOuVX2U1AlnY39TWGwmzHSoq3aVHtQ5yofeCnLU5VkemBQC8PDd45M73NWbRqjKl+E0\n",
       "PJN2EurGMvyvC7ublhtdmC0JF4kvxjZIfzEjVaHvoWcI8gbY5iSh/pZwk+AoZjrUWbqBorfEMEUz\n",
       "PMkDk4JWDvCX558VAxuDl89MoCwDGiS00bhp7wF6sRiJ8Jsf6NJfFHPWJEE3sTok3j3nngmBYqYD\n",
       "3LJQkrp/1kFCqTzBCzeW4z7HU+jklI/n0aHbSWwlTl/LkZuFZ6JeOWntW3dQgZr+opglmX38JsV+\n",
       "H5UZ997gct3Z2JvSeEGimOnAP22h9MJDNeYT5eRjYzT4JK8erOM+yQdWpYVxqiQq1SCR9mbxsGzs\n",
       "qZ8G4GxsEX51a2UvKpa/uU0woZYM6V3w6FZjC3m8ZnUqVv1RiWKmw7cJiYIBBNOOxsZXPNYvrN9J\n",
       "LgAdhgE7iXCBWuScrKwKPFmjyuxLbCpShhq3/LnclN1D62qyMETnRaDHTkKdcJJQPs16+iWKmQ4i\n",
       "VROFWjJJQ+ct8sCkZJWqV0uicd6ixZjPwKs1JI71nK1ik3xUhPKHsdyKze4aLY50sGnLw/9cLveK\n",
       "9Oclc3e78KQa+mzl4Q2s3cftJFpTJgmB4i22xiSKmY735lzMQCGYjbTERVJis2N/D7PkvTpGOBbl\n",
       "lsxLw0FiPZRZY+lvK8C34D528I5NIW35O8R27MjaSSjOsxM5JloMFDOdGhS2rIyKwKPmqy2UWVl5\n",
       "A0oVyn0gw7/gJOGjAbwD9SCHGNFxqOg+AEKZvIAivrf8nUfyxg6AlGcqCYEi0qlFaa2oM44DoEx0\n",
       "HsrQi/57cWZ67c4EyOiczjtIDPVj+FYZobO02WkH1na/Zt+YDRLq04+t0REsWP4OGWzoKE4DsP1t\n",
       "CBSRTi1KoByMOY7iDgm5DPuOveRHkV1WsWquI0fsbJYg8TlfghZH8a18SJ5qKHCw9kvwpMtogAT7\n",
       "PH0p1dCBV85MmOJ21vk87RgXepev0gDKJVp26fP0Uu37ssuoITGcI8F/LVtK/zqkF/93+Qt0tKvq\n",
       "rBGZOgAAAABJRU5ErkJggg==\n",
       "\" style=\"display:inline;vertical-align:middle;\" /></a><br>(see <a class=\"ProveItLink\" href=\"../../../__pv_it/theorems/3c0fafd219fee1ee3e6cc95815933872fb3a22060/dependencies.ipynb\">dependencies</a>)<br>"
      ],
      "text/plain": [
       "inclusive_existential_quantification: forall_{A, B, P | A subset_eq B} ([exists_{x in A} P(x)] => [exists_{y in B} P(y)])"
      ]
     },
     "execution_count": 2,
     "metadata": {},
     "output_type": "execute_result"
    }
   ],
   "source": [
    "%proving inclusive_existential_quantification"
   ]
  },
  {
   "cell_type": "code",
   "execution_count": null,
   "metadata": {},
   "outputs": [],
   "source": []
  }
 ],
 "metadata": {
  "kernelspec": {
   "display_name": "Python 3",
   "language": "python",
   "name": "python3"
  }
 },
 "nbformat": 4,
 "nbformat_minor": 0
}