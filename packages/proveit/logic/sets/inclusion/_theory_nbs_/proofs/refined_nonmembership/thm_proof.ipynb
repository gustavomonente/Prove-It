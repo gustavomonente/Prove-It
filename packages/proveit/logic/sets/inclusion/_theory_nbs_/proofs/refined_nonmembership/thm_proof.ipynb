{
 "cells": [
  {
   "cell_type": "markdown",
   "metadata": {},
   "source": [
    "Proof of <a class=\"ProveItLink\" href=\"../../../../../../_theory_nbs_/theory.ipynb\">proveit</a>.<a class=\"ProveItLink\" href=\"../../../../../_theory_nbs_/theory.ipynb\">logic</a>.<a class=\"ProveItLink\" href=\"../../../../_theory_nbs_/theory.ipynb\">sets</a>.<a class=\"ProveItLink\" href=\"../../theory.ipynb\">inclusion</a>.<a class=\"ProveItLink\" href=\"../../theorems.ipynb#refined_nonmembership\">refined_nonmembership</a> theorem\n",
    "========"
   ]
  },
  {
   "cell_type": "code",
   "execution_count": 1,
   "metadata": {},
   "outputs": [],
   "source": [
    "import proveit\n",
    "theory = proveit.Theory() # the theorem's theory"
   ]
  },
  {
   "cell_type": "code",
   "execution_count": 2,
   "metadata": {},
   "outputs": [
    {
     "data": {
      "text/html": [
       "Under these <a href=\"presumptions.txt\">presumptions</a>, we begin our proof of<br><strong id=\"refined_nonmembership\">refined_nonmembership:</strong> <a class=\"ProveItLink\" href=\"../../../__pv_it/theorems/c66aca9c3462afc3b2b99fcb811d15706f2ab4c50/expr.ipynb\"><img src=\"data:image/png;base64,iVBORw0KGgoAAAANSUhEUgAAAOgAAAAXCAMAAAA2s/OGAAAAV1BMVEX///9jY2MJCQkNDQ0rKysP\n",
       "Dw8WFhYkJCRlZWUoKCgtLS0/Pz9RUVEvLy8QEBCIiIhmZma6urrMzMxUVFQiIiJERETc3Nzu7u6q\n",
       "qqp2dnaYmJgyMjIAAACXTERdAAAAAXRSTlMAQObYZgAAAxFJREFUWMPdWNmy5CAIzex7cENE/f/v\n",
       "HDWxo9nn3qqZnutDqtvAEfAImGF4I0O9FUcG609fm+NXzuZnePz3/pn9JDzfUL03OTuns6fs6nSg\n",
       "Z3Y02NPXQu7pxDlI2WFbI2Xxmf30Yvhj5voQ571jaDZy2dpnHOZkQz2az59M2JDdiThr0ZjFmPKw\n",
       "5qkz0bF1CoEG3ImDHyBWQof8I2Iehv8xN+XZW5iZSwDaSihUrOeP5kO4GpIGF2t+5ayvSwlqY9L+\n",
       "lhgFC43H1NlYuCd7CYOncjhZTGk3vIGh4WnJqADbLJ3MUhEexzVji6GPiY+t7X4sIRmHCxM36sSF\n",
       "KvoWjBWny5kpgXDaPU4ZRtp+9Z2CkW2wsaI6UzMWLEWURGwrqiiWukg3Ha3qCrtm5QyGHP/66c/k\n",
       "xjl2ebluPTWGED5+SI+wqqtCCB2rrCqFhn2XnplMm8tN2X4R7u5oVV9Nn8B4dPYHncqNC8diR9NS\n",
       "FHcKxiQ/hs5RG9rGQkEXNIp5Y2AhB4NQoNWRo1Xd9YtvYBacfHQUH8q11C0m913tuFtEZ3FTT4A0\n",
       "c/bQS8SSy6LRlBE84BKHlMt1GIw8crSqiz6drGEanNBKb+S6ZOQolYxJ+XEkYEoy/Yl3fWs0JaOk\n",
       "33jmkwzEholFBExzSwj+mLoPde4dXcMsOCRajI1cUx5SFNyAcdXfG6fVUdXF2jEIXvOegmDGJhVg\n",
       "EbGxYWK0h44u6rLP+DswM44yiN+/IcKh3IN6pAEIRH/7IP1eUt/+x1io79KPOd2EORb+ISmorLPE\n",
       "aFpSNs7lg60OHG3U+1K4hXngJJ5qOpG7agH9O0ZjTDi7+mxOsZyClQuExcno8hx5mGZsLOzifUcb\n",
       "9RRYvxjXwqxxWJHelbvZ1KO9bLt43VBgKTwWo/GpQqXgsom5HqGcapZLRPGSgWnX0VY9U4drw9DB\n",
       "bHDwayVqL3fPHbq+dVE4f+9uzOx0RjfGCudLDgi88OIN198LLvbc2euZlzm6wrHiNZ9Srpf3F9z2\n",
       "N2aOV7JYxyUyy//jq5V4LYD+G1b+BjXXRiLOG9UlAAAAAElFTkSuQmCC\n",
       "\" style=\"display:inline;vertical-align:middle;\" /></a><br>(see <a class=\"ProveItLink\" href=\"../../../__pv_it/theorems/f7e0862ded9af59125dafb6781f5eb0015fea6700/dependencies.ipynb\">dependencies</a>)<br>"
      ],
      "text/plain": [
       "refined_nonmembership: forall_{A, B, x | A subset_eq B, x not-in B} (x not-in A)"
      ]
     },
     "execution_count": 2,
     "metadata": {},
     "output_type": "execute_result"
    }
   ],
   "source": [
    "%proving refined_nonmembership"
   ]
  },
  {
   "cell_type": "code",
   "execution_count": null,
   "metadata": {},
   "outputs": [],
   "source": []
  }
 ],
 "metadata": {
  "kernelspec": {
   "display_name": "Python 3",
   "language": "python",
   "name": "python3"
  }
 },
 "nbformat": 4,
 "nbformat_minor": 0
}