{
 "cells": [
  {
   "cell_type": "markdown",
   "metadata": {},
   "source": [
    "Proof of <a class=\"ProveItLink\" href=\"../../../../../../_theory_nbs_/theory.ipynb\">proveit</a>.<a class=\"ProveItLink\" href=\"../../../../../_theory_nbs_/theory.ipynb\">logic</a>.<a class=\"ProveItLink\" href=\"../../../../_theory_nbs_/theory.ipynb\">sets</a>.<a class=\"ProveItLink\" href=\"../../theory.ipynb\">inclusion</a>.<a class=\"ProveItLink\" href=\"../../theorems.ipynb#not_subset_eq_is_bool\">not_subset_eq_is_bool</a> theorem\n",
    "========"
   ]
  },
  {
   "cell_type": "code",
   "execution_count": 1,
   "metadata": {},
   "outputs": [],
   "source": [
    "import proveit\n",
    "theory = proveit.Theory() # the theorem's theory"
   ]
  },
  {
   "cell_type": "code",
   "execution_count": 2,
   "metadata": {},
   "outputs": [
    {
     "data": {
      "text/html": [
       "Under these <a href=\"presumptions.txt\">presumptions</a>, we begin our proof of<br><strong id=\"not_subset_eq_is_bool\">not_subset_eq_is_bool:</strong> <a class=\"ProveItLink\" href=\"../../../__pv_it/theorems/5aabaa34b09593c17afd584f72642e8127271c8f0/expr.ipynb\"><img src=\"data:image/png;base64,iVBORw0KGgoAAAANSUhEUgAAALcAAAAYBAMAAABKCnGXAAAAMFBMVEX///8QEBCIiIhmZma6urrM\n",
       "zMxUVFQiIiJERETc3Nzu7u6qqqp2dnaYmJgyMjIAAAAcRTyBAAAAAXRSTlMAQObYZgAAAxpJREFU\n",
       "SMe1VU1oE0EUfk2atLvZpD0UIigS8GAvtcWKXoQWeogUpDnVmwmkQurBtojkUH9WUUyK0pxsTzZS\n",
       "wVIhBjyIIFiag1pF9qjYaERFWsEWK7WtaHzzZmabbLJKwT54Oz9v5pu333vzBmDrUgvbKHX/B0Yx\n",
       "uJbLfNnIk6q+9yFqgXXyNuBTQlGOb84u8sY7sNoeuwzQX77HMZT47e8DcOOhz0uWV8iCUJQlMfUq\n",
       "PuQ/w7s1OkBHCDKWTT5XYGrSABXdHmd/r1fH9rZxZd2lNLU3n4E7JMxhJKynDbRA+a76WsMRQsRZ\n",
       "PAc3aVmbyKW4otztoFbF/zA9bcWpdwFQG4UrV+PnBbgni+C3cGpuenrMhpUxoShGaydr3OhGizRf\n",
       "xMP86NtHGrkupU3PtW4E9+GOtUTirA34HqGY2unHhszCQWleBTh2EtscjTLpTVqCvUidhoSeAEjS\n",
       "JP8eWcnFZHJdFwpwG8LE7A1MvRlhda3mm4dZ5y0N+zc59xebGE0Y0S6KK/a/c+YaQRMkwrBQgE6Y\n",
       "oMBi+H3yaMc68hrBzgMa6iUB1fLogWeQ/amD/njyF5mcEfBsiGVNQsEVbR/QBS3jJgj64PjJsoaW\n",
       "7P6KIsBBP4ozy0iNwa/z3GmeIQFwFqzgWE1qaFIz4IAEb0CvHd8kuFLqOehuDq4UeunkQIJM90Kw\n",
       "L22lBXOkjnP1RTXjydLczbgM0rCxFDziQ4/YymQfJRkcIlNPS3MELAFVENy3zAtCNFCa5mHdDOj+\n",
       "Ms/neUDhPvnyBlrJ9BJgr1yWE8pyvX5d+Ps5HufX/z06t4P95GHOZ9a8/jNaDh10srRqYL6oH16M\n",
       "EhvXACbksiDXqeIieEZ/8DrQJU8+VYweTNDKTzRWY91lhQt8rEx4GagzDRNUMzD8PanK62/KlYqr\n",
       "JqNQ+5Rffyl3zB6mToOhjICyAcquKoXLrPCFCnBr4ZIyawZhDZTRc66d8GSlPdZp2pPmxZVAF+Jx\n",
       "ybmUTHVs1eqGx/6xsH/iktXB61NVnqa/P3OPKou+zTP32jph/PNVHdnOlz+1lcV/AAf8z9ALe8kD\n",
       "AAAAAElFTkSuQmCC\n",
       "\" style=\"display:inline;vertical-align:middle;\" /></a><br>(see <a class=\"ProveItLink\" href=\"../../../__pv_it/theorems/71b4c7d95c4d61b41450663609149255c2fabe190/dependencies.ipynb\">dependencies</a>)<br>"
      ],
      "text/plain": [
       "not_subset_eq_is_bool: forall_{A, B} ((A nsubseteq B) in BOOLEAN)"
      ]
     },
     "execution_count": 2,
     "metadata": {},
     "output_type": "execute_result"
    }
   ],
   "source": [
    "%proving not_subset_eq_is_bool"
   ]
  },
  {
   "cell_type": "code",
   "execution_count": null,
   "metadata": {},
   "outputs": [],
   "source": []
  }
 ],
 "metadata": {
  "kernelspec": {
   "display_name": "Python 3",
   "language": "python",
   "name": "python3"
  }
 },
 "nbformat": 4,
 "nbformat_minor": 0
}