{
 "cells": [
  {
   "cell_type": "markdown",
   "metadata": {},
   "source": [
    "Proof of <a class=\"ProveItLink\" href=\"../../../../../../_theory_nbs_/theory.ipynb\">proveit</a>.<a class=\"ProveItLink\" href=\"../../../../../_theory_nbs_/theory.ipynb\">logic</a>.<a class=\"ProveItLink\" href=\"../../../../_theory_nbs_/theory.ipynb\">sets</a>.<a class=\"ProveItLink\" href=\"../../theory.ipynb\">inclusion</a>.<a class=\"ProveItLink\" href=\"../../theorems.ipynb#subset_eq_is_bool\">subset_eq_is_bool</a> theorem\n",
    "========"
   ]
  },
  {
   "cell_type": "code",
   "execution_count": 1,
   "metadata": {},
   "outputs": [],
   "source": [
    "import proveit\n",
    "from proveit import ExprTuple, IndexedVar, Operation, Variable\n",
    "from proveit import a, k, l, n, x, y, z, A, B, P, Q, Px, Qx\n",
    "# from proveit.logic import iter_q1k_x_iter1l, x_iter1l\n",
    "from proveit.numbers import zero, one, two, Natural, NaturalPos\n",
    "from proveit.logic import And, Equals, Forall, InSet, TRUE, FALSE, Or, Boolean\n",
    "from proveit.core_expr_types import x_1_to_n\n",
    "from proveit.logic.sets.inclusion  import subset_eq_def\n",
    "from proveit.logic.booleans.quantification.universality  import forall_in_bool\n",
    "theory = proveit.Theory() # the theorem's theory"
   ]
  },
  {
   "cell_type": "code",
   "execution_count": 2,
   "metadata": {},
   "outputs": [
    {
     "data": {
      "text/html": [
       "Under these <a href=\"presumptions.txt\">presumptions</a>, we begin our proof of<br><strong id=\"subset_eq_is_bool\">subset_eq_is_bool:</strong> <a class=\"ProveItLink\" href=\"../../../__pv_it/theorems/49c2f2a42f3b34bce6c8376913d0a58c74c945a30/expr.ipynb\"><img src=\"data:image/png;base64,iVBORw0KGgoAAAANSUhEUgAAALcAAAAVBAMAAAD2lGJJAAAAMFBMVEX///8QEBCIiIhmZma6urrM\n",
       "zMxUVFQiIiJERETc3Nzu7u6qqqp2dnaYmJgyMjIAAAAcRTyBAAAAAXRSTlMAQObYZgAAAuRJREFU\n",
       "OMutVU1oE0EU/sz/JmnaQ6GCIgEP9qIJFvQiNOChUpDmVC9iAq2QerARkRyqsorQRJTmZD3ZlYqW\n",
       "CrXgQTwZmoNaRfYkiFYj6sEKbbES24rWNz+72WyzAcEHb2fmvZlv3nzvzSzQTBRdaDMJFRvbH5NW\n",
       "WGfBYeGUVJITW5wtw9WuzBVgqN7sOpP/0zEI+GjTF8yw6AD+VSrJsjS9zuVy50R3mwp0JzFjWxTx\n",
       "RqcmdQQp7Jvs9Gpj7Ja4UNZd1nh763nNnSLC+uIIR+tXBTy6K0mIc7QPLQrPNgb3F4WS3O8ummcx\n",
       "JEamD1EE22Qoo7mLEjw0S+C3yTQ/PT3uwMq4VBI9lmCN2xrGJSDYQbF95iPvZc2MPNxL4BFasZbP\n",
       "n3cA3y0V8GhPeNH4re4qcOwUtWU+mtFqtPT0J4kPIvQkUOBG8T2yWs4YxXVdKnAHKc7sDQu2t7rQ\n",
       "OcI67/lwqMZ5x2Y7o4kyepjnlfo/BHNtCEsSMSIVSGAijlpdippbJ17T1HnEh6oloeGFEl2ALDup\n",
       "i5948jd3udMIbchp7VLhHegaVu20BCgG1y9WNXzKriUSCQ71KFlWiBpdrJg/KyokCnfFDu6houZG\n",
       "a9m1UtSu7wa4Yo0cqk+AK5V+vnM0z10Pktin2WmhGvELrr7Vl7mPcdnDh21W8HSEIsqyRA4ykw8H\n",
       "uatvb2catoQqBB5Z4aa7g5q1zFOqmdD9dZG/EwnFQ7YD3iLGXa+APca0slRW64F1YTs+alz/jxTc\n",
       "drbVIcHnrHn9S+EyBeguMe4Yj8FPL8d4TNeACWNaj9CpzUWExn7G6y/B6c2BA3k+8wsfBzO9dQ8X\n",
       "IklWfAzUrWGCDUDp7ytuvf5NJJgVreeZuP6G3DN7VDqtunIVygaUnQ0eriZif7gMmTOTsAZl7IJ3\n",
       "B56udmUSpr9gXlwDKJerPblSZhwOVLH/VZx/Fs5SaGwOFBv8mv71N9fikJQ3doOO/yp/ATApxewe\n",
       "JdHZAAAAAElFTkSuQmCC\n",
       "\" style=\"display:inline;vertical-align:middle;\" /></a><br>(see <a class=\"ProveItLink\" href=\"../../../__pv_it/theorems/78c26f6c64ff857a3f0149c38b067e9b779726710/dependencies.ipynb\">dependencies</a>)<br>"
      ],
      "text/plain": [
       "subset_eq_is_bool: forall_{A, B} ((A subset_eq B) in BOOLEAN)"
      ]
     },
     "execution_count": 2,
     "metadata": {},
     "output_type": "execute_result"
    }
   ],
   "source": [
    "%proving subset_eq_is_bool"
   ]
  },
  {
   "cell_type": "code",
   "execution_count": 3,
   "metadata": {},
   "outputs": [
    {
     "data": {
      "text/html": [
       "<span style=\"font-size:20px;\"> <a class=\"ProveItLink\" href=\"../../axioms.ipynb#subset_eq_def\" style=\"text-decoration: none\">&nbsp;&#x22A2;&nbsp;&nbsp;</a><a class=\"ProveItLink\" href=\"../../../__pv_it/axioms/d7449297494a795000bc445b03cbe0385e2bd3490/expr.ipynb\"><img src=\"data:image/png;base64,iVBORw0KGgoAAAANSUhEUgAAATUAAAAVBAMAAADV6mS1AAAAMFBMVEX///8QEBCIiIhmZma6urrM\n",
       "zMxUVFQiIiJERETc3Nzu7u6qqqp2dnaYmJgyMjIAAAAcRTyBAAAAAXRSTlMAQObYZgAABCZJREFU\n",
       "SMfNVk1oXFUU/jp/mf90ISjoYjCLhmCbgYAFqWTQRRUqGbtQF2IG20Ja0A40ZZSojFLIxB8yqzYI\n",
       "Nk+UpqZSCy6kbgxNxDapdaDgT39HtAsj2KG16R+lnnPufTNv3n1vFN144Lzz7s/73nfuOfeeC3SS\n",
       "WE1pJ0lUja51lzp/8kGnwaOkF0bF1Ll93mfeQa0kLxiDqZ0rAyN7gO3GyEJaxv2cipc9uzVehH1d\n",
       "ELPE3cs+KL9pJbmsu74vlUq71esq+sdgHodNbskj9ExbPqjpqne/wovXhRubKQ6dtyNIZZXy62X1\n",
       "p/0nWsPDtDBDWSQzBjcBnPKL2mmffo13TLixYe/ETQ/pqiolOTRYba6kLf3UdTGD+GqDmwRiyY/b\n",
       "q22tH0ulehveh4obmdTi7Ow+H5B9Wklq/Tk2QacXb1Lq3Euu/WpyOzc7+0nRb4O1DTzX58ZL54Qb\n",
       "mxuVyms+KD1agZD1lWR2l3N4BXh2B9l5k1t3pTI+54MaoCyJP7j9sWOyL5YNvGRWuLHZBkzIkHo+\n",
       "cXV+xM7V97QCH2NYsmqv4x/hlfO9Y/xygR/JP0Syilskj6gr45vtKHn5KX7IvMGNSNXAS9WFG5vH\n",
       "ZUvQ+58q6VcjaSfQmFYgh+ksWgeK8v8mJUWBXr4w1y2UNbbvxZydxZQXi/jOelKImniJonBj04WA\n",
       "hOujOzIjWEDilp59j1aEtwzsLLtjGiUXArd5f5ncUMRau3Vo/lEO3qB93K0ikhYqqvE0L3a9DS/c\n",
       "EAQ2yZr64eIu5VUGwbqbW4gQpdN5XnSTj4ErPty+hZ3xqXfe5+MnOZN1cAOuqMaUiefgFqs/I0uT\n",
       "UZ58lsc6yx1TikKXCvTv7cdRhBNhoyPfCprb/jC9JXs2b6OcEdkcLTtiivA1TdTEC6mYssHEVklK\n",
       "rJcZQ2t7C3DthRihpRvSdWCr5Tzehsv2XnCtW3QvrU5fpD4KHYRCsOjYC18GGpDDI5iBG8+xF/C5\n",
       "fHQW/TLjFLDGnj2vlc+46E3V9/y4XbN+Jt/uY6YbPLgl2NN8uoa4ritHAg09SodD6Ha0oe8QY82v\n",
       "bLzgnCCwQTdTj/9yclJW5F1g2j5gNyo9eHcZicnr2XYCL9/d8nBFZl7y4KbyqbuK8CuVylvA4Q3H\n",
       "7R1GwYq/2Nej7xcH9lguvHRenb15dokHgxamuQHaKENVs2Z1kHjRi9sZSSHkoTLkEcSuedesTeN2\n",
       "zdIyoxBmmh1PkZO12NuI3ULsAY9a30E8ar0uTo1TmMPXslYUwDt/V+u1tGq9zs8biE2+Hr4f31wd\n",
       "GMk1p000y4XNo1Rq3ZG0eNyR9IK+tOkhC1GO02QZU9dr7grhHYbWHan9Dut/t/SXCT9uWno53/7B\n",
       "3dLJfMF04Oi/uJOnzFVY81/u5D/xpX5UTJvU8H+SvwBVZVBM8dnIYQAAAABJRU5ErkJggg==\n",
       "\" style=\"display:inline;vertical-align:middle;\" /></a></span>"
      ],
      "text/plain": [
       "|- forall_{A, B} ((A subset_eq B) = [forall_{x in A} (x in B)])"
      ]
     },
     "execution_count": 3,
     "metadata": {},
     "output_type": "execute_result"
    }
   ],
   "source": [
    "subset_eq_def"
   ]
  },
  {
   "cell_type": "code",
   "execution_count": 4,
   "metadata": {},
   "outputs": [
    {
     "data": {
      "text/html": [
       "<strong id=\"subset_eq_def_inst\">subset_eq_def_inst:</strong> <span style=\"font-size:20px;\"> <a class=\"ProveItLink\" href=\"../../../__pv_it/_proof_subset_eq_is_bool/eeb70bd6a0c5bf34c514107d9a4c2861b41e70f30/proof.ipynb\" style=\"text-decoration: none\">&nbsp;&#x22A2;&nbsp;&nbsp;</a><a class=\"ProveItLink\" href=\"../../../__pv_it/axioms/21672c5a6910400373b663a24564452f7b76631a0/expr.ipynb\"><img src=\"data:image/png;base64,iVBORw0KGgoAAAANSUhEUgAAAO4AAAAUBAMAAAB4yRxuAAAAMFBMVEX///9UVFTMzMx2dna6uroQ\n",
       "EBCqqqqIiIgiIiJmZmYyMjJERETu7u6YmJjc3NwAAAC+aOQFAAAAAXRSTlMAQObYZgAAAwJJREFU\n",
       "SMelVk1oE0EUfsnGZk12Y5FeWsVGRCh6iOBgEYIUvOhB6sGD4KXgRS+a4kGtQooWXQ9C1Is9SJei\n",
       "glLbHKoUFpsNqEXbQwTx0FKs4KFYpA2ICtXWNzO7zXRnNhV8h8zkvcz3vXl/E4BUBepKw5yk6hms\n",
       "f6QuJMWb7gOY5F/3SD8wW6v920YBdkgWAjZdZsOgJ5VaEY8ADHPtiGd9b1nWNb7dVAQYSMM7Be8B\n",
       "ugyF8Q6r1QIeAbPAnRlx2fr1UO13GQxXZwG0nMy7QKNZDKH1ICUR8AjoPH1vBuYkV/Oo+pQD47jM\n",
       "m0Avta4QXn1dRcxYli3hEZjnukq+gy6bRaznAMZJJHgo85rZqan5sDCvM+y9qsIjcJmpYu55VoO6\n",
       "eKQK0LYd14MyLyw7zvUwXgo50f3lAs2PMaTEI/CSqV5BhmXxs3A8Wp29coNupumH9pRJwePdCjAe\n",
       "oFv7jpDGPvOmTsMbmVPiEWA76IDFQrAD4isArxtxc0Zx36Ng2IFq+u7vEFJztd8xSplU4xE4wVxp\n",
       "7m8tBuOcxPzHf9A6VPDqEPeHg3G6n27f/vHNCGlAklf7bhokW8LzeGPYXMwo9swW9C3+M4RXq6y5\n",
       "OHNuii7ZWwIvnuZIC2o8L85YxTrvlsfr2y1Cg3dEyG+jx5uyd+Km/W53Osa7NZpzhDjj6TSfFWo8\n",
       "Xlcp5E0sMWO5yRXbN1P06ypwXxhvQu/dFr0jwXURuC/UVYObRyttzByo8AhrEtpwyRVu3TXmz8lH\n",
       "GP9T9Ow9Fe/ZXrwjPMO8ct1HyPtmhOzsKsG32uUlPEIvPbk6BA2lX4Hp1rLafMdhY2RQxcvzh862\n",
       "OY6DQ+jJ/pIfKYQsX5x4wOuuPOoq8EhgqKnE6FXxmhQuuhTFALNB58JiWjknD49ZtoRHQod4TVTv\n",
       "ApdFzdZAY3THMAKVDd4FAY8Exo5mWbV30BPVO8il/KE9C/CCVscypEq3pcmlFP4OhjzSqvkn8Xpz\n",
       "iOb3H959EY/Ahv9zTLkALv3P/xyK19P3F/6h9LAXumChAAAAAElFTkSuQmCC\n",
       "\" style=\"display:inline;vertical-align:middle;\" /></a></span><br>"
      ],
      "text/plain": [
       "subset_eq_def_inst: |- (A subset_eq B) = [forall_{x in A} (x in B)]"
      ]
     },
     "execution_count": 4,
     "metadata": {},
     "output_type": "execute_result"
    }
   ],
   "source": [
    "subset_eq_def_inst = subset_eq_def.instantiate()"
   ]
  },
  {
   "cell_type": "code",
   "execution_count": 5,
   "metadata": {},
   "outputs": [
    {
     "data": {
      "text/html": [
       "<strong id=\"subset_eq_def_inst_rhs\">subset_eq_def_inst_rhs:</strong> <a class=\"ProveItLink\" href=\"../../../__pv_it/theorems/da37e6964a74b48aa2408bedce8a776eef733f160/expr.ipynb\"><img src=\"data:image/png;base64,iVBORw0KGgoAAAANSUhEUgAAAHwAAAAUBAMAAAC9l0S6AAAAMFBMVEX///8QEBCIiIhmZma6urrM\n",
       "zMxUVFQiIiJERETc3Nzu7u6qqqp2dnaYmJgyMjIAAAAcRTyBAAAAAXRSTlMAQObYZgAAAgRJREFU\n",
       "OMtjYMALOC/gkeSewMDwAMS4i0vFCqyivPnfjDNaGBgyGRhOg/ivcGl/iV2YsYGBwT6AYR0DwwyQ\n",
       "Extw6OY1wC4eD/STvwEDjwID3wIGBp4NOLSzT0Dm3SgvfwBh6QPF7yswcAkw8J5atWo6LrejSERo\n",
       "wZmNDAxc4kB7nzAw/OjoqMGlXRmIF6lN0VEA0lxIAfSNgSE8C0gfZmBIZWDoRNMF5/cCdR3gLWIH\n",
       "uZkN4RHWb3c1qkGMewwMzgxcD9AC7AuMBVTDs4DnFwtIJwdCAdNPBoaFCUDGdmDwMDDB0gbXHmMQ\n",
       "c/FfmDoRoBgDByReAt8BAcQiDgGgEb9BMQA0/gI7PGh3rgJRp4qRtDMw8CuA2TMQtvMDbWb6BNHO\n",
       "+SAMyDhkqhbAAollVoUOJMcD1QRAkgpqtLOBfOgOCqgUoFkL8tgd+CCSbAzmSEHHvUAfKAtkMyvA\n",
       "tYOiPb4BEnQMmwuANjK8BfoZInmbQR+mDhgx/hv6GeYinAIGDxkYWCRARtrA/QYMzPCOjg5gUnp8\n",
       "pn8BVB3QccuUFtlCgnZZC1Q473+yWQc4oT4FxRNIlPUDK9DVIMC8gGF+ANZE69NejhrFXAVQxnye\n",
       "BzwMPGBdvkD3XCCQZaCABxYcy64cOsXA0A2K0x8MnP21GOkPK1iHymUC+Z2I4oI4wwkVVrwTGABA\n",
       "6n+UZZo/5AAAAABJRU5ErkJggg==\n",
       "\" style=\"display:inline;vertical-align:middle;\" /></a><br>"
      ],
      "text/plain": [
       "subset_eq_def_inst_rhs: forall_{x in A} (x in B)"
      ]
     },
     "execution_count": 5,
     "metadata": {},
     "output_type": "execute_result"
    }
   ],
   "source": [
    "subset_eq_def_inst_rhs = subset_eq_def_inst.rhs"
   ]
  },
  {
   "cell_type": "code",
   "execution_count": 6,
   "metadata": {},
   "outputs": [
    {
     "data": {
      "text/html": [
       "<span style=\"font-size:20px;\"> <a class=\"ProveItLink\" href=\"../../../__pv_it/_proof_subset_eq_is_bool/ef310cbc5781d8d9a9b93510f9d4fbe18d5dacf70/proof.ipynb\" style=\"text-decoration: none\">&nbsp;&#x22A2;&nbsp;&nbsp;</a><a class=\"ProveItLink\" href=\"../../../__pv_it/_proof_subset_eq_is_bool/77443b21fea00dbee034099d494e28e9548309650/expr.ipynb\"><img src=\"data:image/png;base64,iVBORw0KGgoAAAANSUhEUgAAAJYAAAAUBAMAAACdV9kCAAAAMFBMVEX///8QEBBmZmZUVFRERETc\n",
       "3Nzu7u6qqqqYmJgiIiK6urp2dnbMzMwyMjKIiIgAAACRIo6iAAAAAXRSTlMAQObYZgAAAkdJREFU\n",
       "OMuVlMFLFFEcx7+kOzuz7822UBeDIOoSFLKECxFJI+xWXmoPHapLU4o3ZenmbaGLFIoiFCrF1kHy\n",
       "1CJh0EEW/APcSxFhNOQpwozU6KDZ783Me/N2dyx9MMz8vr/3PvP7/d77PaytoGUkyth7JIvA6HSs\n",
       "6y3q4jWia/3xlAe7507lK8j5q/SRnsjvdFwQ6hthvtd97/YI6ShwaBuDLSzY3Ou/Vyb1hsjK0Tzm\n",
       "iXgU/w2kfoJ5Laz2VDldc0i1XYCVNI9V1OeZvVNPw1S2yPoDI6NY0kesZEmwzIWBgVv66gaDX3PV\n",
       "3wly9zHwUbKUj1hsVrCwmc/P6Mu/0DO0evubJ4xBhcLhLPgkmfOSpXzEmluqCfUiUNBZVwGjaj6z\n",
       "/A3ORfry+bFeUYtRycpF9erYPearL2DUddYTqp/LfqX8smmbsl6EcYTew5LlaLVnI1WhWkg3HE76\n",
       "g4H2YCI//olGoPcIHgW2HLIiH7HgvBQqK1toYlFxvKAFtLg2BMuLWAk9LjhtQk3Ul8hePLtaUznS\n",
       "gtDINBwvXKoAczLHjM7K2r5aoPOfdrutiqp90l0nRRidUafQ8eKbeu07G+J65Kv3x2kWPkgP7fmr\n",
       "0nXcDA6uOsU2hfH8Mn2ckSzls3mVzWd9NajNllxEOfR9Hzod7IfRNRuobZ83TnZdEV8rkiV9UW9T\n",
       "K4hs+A8e20Op17KHwmGMqx5q8skuvcPq7D+9HY6Y3m5i9T1cXJBa4Z+smDunibWPu1D7Uzzr60Hv\n",
       "aJOquRZ7R/8FE96kp5e/H2EAAAAASUVORK5CYII=\n",
       "\" style=\"display:inline;vertical-align:middle;\" /></a></span>"
      ],
      "text/plain": [
       "|- [forall_{x} (x in B)] in BOOLEAN"
      ]
     },
     "execution_count": 6,
     "metadata": {},
     "output_type": "execute_result"
    }
   ],
   "source": [
    "# this somehow loses the domain A for x\n",
    "subset_eq_def_inst_rhs.deduce_in_bool()"
   ]
  },
  {
   "cell_type": "code",
   "execution_count": 7,
   "metadata": {},
   "outputs": [
    {
     "data": {
      "text/html": [
       "<a class=\"ProveItLink\" href=\"../../../__pv_it/_proof_subset_eq_is_bool/4048b908d3ba016666b595703940e814d02dadc00/expr.ipynb\"><img src=\"data:image/png;base64,iVBORw0KGgoAAAANSUhEUgAAAK4AAAAUBAMAAADmcxvOAAAAMFBMVEX///8QEBBmZmZUVFRERETc\n",
       "3Nzu7u6qqqqYmJgiIiK6urp2dnbMzMwyMjKIiIgAAACRIo6iAAAAAXRSTlMAQObYZgAAApdJREFU\n",
       "OMullU1oE0EUx5+m2WQzu9scvEQQSr0oSg3SeBCLK2zx42B68KBeurYlt5YgeBAvOQgGpVi9+IUi\n",
       "Hkp7aigSQaEs9NRTo6CIVFisF5EaIVWLoPW9nczuJNmtggNh5/3fzm9m38cE1lZgyxEvbeFMDAFM\n",
       "3g91PYcaPcpRS8dC1eTRRm//KYCcR5CHccv6lTlM6jMy30RxX4fL20yAAw6Md3BB19yxkRKqZ+hr\n",
       "zQhssidcX8bwzPUAczu4XamS4Zio6jYAK0Zw1aGWXU7ee8hnddRvuqCkfa7wITdRJG6yWiiciwpD\n",
       "i0M7bYvpMQAlg9Y7wfV9yGXTxIV1y3oQxf2Av4nV859dMsZ9LDQAlg7hc15wfR9yZxcdUo8ADLbh\n",
       "fPsEnquSfKR6RZMLTt4of7xDk0nBzQXxzWzu9NQnoNTasvVTzHAxs9n3lBfmILnGN4ALWZxcFlxT\n",
       "yhsrV0hVwRDFr1zppenIhngLd1agiy/Sdr3HwRdjvowfVBdNbuBDLpgzpLKSKjBXLxXoUb0tcQG6\n",
       "Xd56wXm78azGb4kbl88LZozUeG0R7YX9q06KV6vmWlIccLHDjXRL+cYoWLMiDmmZm9U9dRD7zrAH\n",
       "1Mc6d8Vgr5S3hF1HLxl9PpfKd9mU89bXct4bnnpxCs8IbzGu3HUN6uItrKO5Yh7O8ibxu+clQGoH\n",
       "7bVPcH2frlXYfNZTefwwxUuWZWETvXqRF9WI3zn6ZWIPz6vSP83Vgc2Duy0PtCK4whfcO1hWRNG+\n",
       "ahgAGtttGHZC+zj1VPSxqJ8pv4/bfOLWGGY1BszDzeAXlP5y7zRHyL3Txh29vlAFOE6BX4d4/m5H\n",
       "54WOkHuyjdvsI4rvP9zr8q7h3E//8z+UxOivhf4P/QEK5rqIkl5FAAAAAABJRU5ErkJggg==\n",
       "\" style=\"display:inline;vertical-align:middle;\" /></a>"
      ],
      "text/plain": [
       "[forall_{x in A} (x in B)] in BOOLEAN"
      ]
     },
     "execution_count": 7,
     "metadata": {},
     "output_type": "execute_result"
    }
   ],
   "source": [
    "# addition 20200730 by wdc\n",
    "InSet(Forall(x, InSet(x, B), domain=A), Boolean)"
   ]
  },
  {
   "cell_type": "code",
   "execution_count": 8,
   "metadata": {},
   "outputs": [
    {
     "data": {
      "text/html": [
       "<span style=\"font-size:20px;\"> <a class=\"ProveItLink\" href=\"../../../__pv_it/_proof_subset_eq_is_bool/ef310cbc5781d8d9a9b93510f9d4fbe18d5dacf70/proof.ipynb\" style=\"text-decoration: none\">&nbsp;&#x22A2;&nbsp;&nbsp;</a><a class=\"ProveItLink\" href=\"../../../__pv_it/_proof_subset_eq_is_bool/77443b21fea00dbee034099d494e28e9548309650/expr.ipynb\"><img src=\"data:image/png;base64,iVBORw0KGgoAAAANSUhEUgAAAJYAAAAUBAMAAACdV9kCAAAAMFBMVEX///8QEBBmZmZUVFRERETc\n",
       "3Nzu7u6qqqqYmJgiIiK6urp2dnbMzMwyMjKIiIgAAACRIo6iAAAAAXRSTlMAQObYZgAAAkdJREFU\n",
       "OMuVlMFLFFEcx7+kOzuz7822UBeDIOoSFLKECxFJI+xWXmoPHapLU4o3ZenmbaGLFIoiFCrF1kHy\n",
       "1CJh0EEW/APcSxFhNOQpwozU6KDZ783Me/N2dyx9MMz8vr/3PvP7/d77PaytoGUkyth7JIvA6HSs\n",
       "6y3q4jWia/3xlAe7507lK8j5q/SRnsjvdFwQ6hthvtd97/YI6ShwaBuDLSzY3Ou/Vyb1hsjK0Tzm\n",
       "iXgU/w2kfoJ5Laz2VDldc0i1XYCVNI9V1OeZvVNPw1S2yPoDI6NY0kesZEmwzIWBgVv66gaDX3PV\n",
       "3wly9zHwUbKUj1hsVrCwmc/P6Mu/0DO0evubJ4xBhcLhLPgkmfOSpXzEmluqCfUiUNBZVwGjaj6z\n",
       "/A3ORfry+bFeUYtRycpF9erYPearL2DUddYTqp/LfqX8smmbsl6EcYTew5LlaLVnI1WhWkg3HE76\n",
       "g4H2YCI//olGoPcIHgW2HLIiH7HgvBQqK1toYlFxvKAFtLg2BMuLWAk9LjhtQk3Ul8hePLtaUznS\n",
       "gtDINBwvXKoAczLHjM7K2r5aoPOfdrutiqp90l0nRRidUafQ8eKbeu07G+J65Kv3x2kWPkgP7fmr\n",
       "0nXcDA6uOsU2hfH8Mn2ckSzls3mVzWd9NajNllxEOfR9Hzod7IfRNRuobZ83TnZdEV8rkiV9UW9T\n",
       "K4hs+A8e20Op17KHwmGMqx5q8skuvcPq7D+9HY6Y3m5i9T1cXJBa4Z+smDunibWPu1D7Uzzr60Hv\n",
       "aJOquRZ7R/8FE96kp5e/H2EAAAAASUVORK5CYII=\n",
       "\" style=\"display:inline;vertical-align:middle;\" /></a></span>"
      ],
      "text/plain": [
       "|- [forall_{x} (x in B)] in BOOLEAN"
      ]
     },
     "execution_count": 8,
     "metadata": {},
     "output_type": "execute_result"
    }
   ],
   "source": [
    "# addition 20200730 by wdc\n",
    "# still loses the domain A for x\n",
    "Forall(x, InSet(x, B), domain=A).deduce_in_bool()"
   ]
  },
  {
   "cell_type": "code",
   "execution_count": 9,
   "metadata": {},
   "outputs": [],
   "source": [
    "# subset_eq_def_spec_r_h_s.deduce_in_bool()"
   ]
  },
  {
   "cell_type": "code",
   "execution_count": 10,
   "metadata": {},
   "outputs": [
    {
     "data": {
      "text/html": [
       "<span style=\"font-size:20px;\"> <a class=\"ProveItLink\" href=\"../../../../../booleans/quantification/universality/_theory_nbs_/axioms.ipynb#forall_in_bool\" style=\"text-decoration: none\">&nbsp;&#x22A2;&nbsp;&nbsp;</a><a class=\"ProveItLink\" href=\"../../../../../booleans/quantification/universality/__pv_it/axioms/77c76a2482da94c8c8ef22af9f6ecb160f42bda40/expr.ipynb\"><img src=\"data:image/png;base64,iVBORw0KGgoAAAANSUhEUgAAAX8AAAAVBAMAAABccvPcAAAAMFBMVEX///8QEBCIiIhmZma6urrM\n",
       "zMxUVFQiIiJERETc3Nzu7u6qqqp2dnaYmJgyMjIAAAAcRTyBAAAAAXRSTlMAQObYZgAABMBJREFU\n",
       "SMe1l21oHEUYx/+93N7L3u4lHyqlgnIm0Eho08MgBWnkqmC0It3mQ/FDIUdQMX5oT1uMqBxnBXtR\n",
       "pIeICYXaNUKtUdtDOarF4nFXQdJWFxoRJS33wVIUrIfB0LSSOjO7O/t6ex7qA7c3O7v/mec388zs\n",
       "M0BbC11TfGrjGgavoHMjuk4sUQIu7/d99AUgX82gQcuXgtqQMkn6Jzt7Pg6c/Qdi0+S915/ac5+u\n",
       "68gmQDtyDOizxdV1TwCREvUN52jdr8EAUpn8JVVH7S+03fZibt0E9hWV6TqyEx4AJIXU8fc1iA0G\n",
       "MEOntRAMwJ7POEc0TdttL+Y2VgW+SjFdRyalPACxsBZSSK81BkAHlo1wAAAb5HOOymiJtttezG1z\n",
       "hvyqTNeRiT0cQD44mTcAEmUC8B7zTZ6fm5tGG4DFubkPc47KaTaz7cXcDpHf3gymO171P5sAwgGV\n",
       "z4C0nQAkM9Q3XC8WX/bRVe0A3cXiwarjcZ8emi3EPrZKgm1J181ueHtjKnDUeyceqJk3dRPghGqF\n",
       "0MgusjNKaQbwJDDl00jaDhBRECNz//By/TWjlTd1gBZirwl/AaeqTCdW5eeiDQit187H+CGVN28u\n",
       "mwAT1hpYd2stDakGA3iQLedggHCa7QZyDyQjkl7SAVqIfT4my+frA7pOUqUb4ZIwlGv58jy+Ux8x\n",
       "b06ZAAXbIpYukcFI5BhAFCH7Di/sO4u7si4A5LCJlCJZhJp65VodwCVubbEbXCciRn0JtwZQUbRt\n",
       "XwaAcOc1YgYACo+RmibzTdKi/OWP6sP4XFK71PrQvqGyDeACaHdRTe/bArCLgz8DOUuH7lQwAPCH\n",
       "FyBunwEUIhwg3tjFN/c3Dqs4k0pL7hDCuwKZFJwsoV91hJAurt27wZttOCvH0pYOY0obAOFPcrn4\n",
       "fS8VjZgh1GMHyCZZC9Q3TJHPsjw82kcjmlil8pYXIPYOfXNH7bw5LcYiZuKQuieawTOuoGeVjs+A\n",
       "oUuom8nTIIDTJFAHsHAH1tsX8T2OGVjkixifkZbkbdqakp7aVKRPdnsAElto6Vurj7oBQMUCfgN2\n",
       "3+4aRFpp2e8q1+0oH8IRfQZOkh7FVegFfhe+GWvGtfhsDnThbDUBomWeSlSlOomIrqoOQCPycD+6\n",
       "VZE5XUG17gHQg/JVy6ERA4CFM1bI70X3OK7YyvffGue6Y72zw5oOEKWi56lzWfMyqUIcH+gjGWIk\n",
       "FaZRc8UEEJ/e7kjmkFR032Q6OOPYBuGFYvEAAThCF6biBPiJlm66UwlDLDQFLwCtvHhm0VVrpRIs\n",
       "hE5782eeM65RuqoKxBxPJcLfTObtr35g+MbsNmwVkNVnIDzqTiUMl1bcyZxuR6WGxABm1Pjr5oVV\n",
       "flpwb1JWMpfIOb73vDdeOoroo4pfMse3CZtv8Sb2V/A1LS4Ai/4Ag0u2TGzKavfYQm2eAewsC+ux\n",
       "s0QvZVYZUR5392p+uONbllMQvRnFLC89hNAF33TaTDgaNt/CWWwkmzxZJuE8yRz8AbwHGrvRELIS\n",
       "U70UxaaMV2ebD2+7mg+wP0Cs5PXtbrIGvFlAvsWRst9+pBxdKrPzn3USpHODL7V/d6SUSUOD/kfK\n",
       "H4lrVzP4L00OGtr/yf4GGa1t6rYvMiUAAAAASUVORK5CYII=\n",
       "\" style=\"display:inline;vertical-align:middle;\" /></a></span>"
      ],
      "text/plain": [
       "|- forall_{n in NaturalPos} [forall_{P} ([forall_{x_{1}, ..x_{_a}.., x_{n}} P(x_{1}, ..x_{_a}.., x_{n})] in BOOLEAN)]"
      ]
     },
     "execution_count": 10,
     "metadata": {},
     "output_type": "execute_result"
    }
   ],
   "source": [
    "forall_in_bool"
   ]
  },
  {
   "cell_type": "code",
   "execution_count": 11,
   "metadata": {},
   "outputs": [
    {
     "data": {
      "text/html": [
       "<strong id=\"forall_in_bool_inst\">forall_in_bool_inst:</strong> <span style=\"font-size:20px;\"> <a class=\"ProveItLink\" href=\"../../../__pv_it/_proof_subset_eq_is_bool/ef310cbc5781d8d9a9b93510f9d4fbe18d5dacf70/proof.ipynb\" style=\"text-decoration: none\">&nbsp;&#x22A2;&nbsp;&nbsp;</a><a class=\"ProveItLink\" href=\"../../../__pv_it/_proof_subset_eq_is_bool/5c3a648e12e1f685037452eedc54a59b1cc10d8a0/expr.ipynb\"><img src=\"data:image/png;base64,iVBORw0KGgoAAAANSUhEUgAAAKgAAAAVBAMAAAAgMbgsAAAAMFBMVEX///8QEBBmZmZUVFRERETc\n",
       "3Nzu7u6qqqqYmJgiIiK6urp2dnbMzMwyMjKIiIgAAACRIo6iAAAAAXRSTlMAQObYZgAAAnZJREFU\n",
       "OMu9lU9oE0EUxj9pkmazm20PIkQQgp5EqUGaHsTWFTYHPUgRD3oy/qEXKQQPQm+Lp1gpxoMVK2IR\n",
       "LOaipUiEHmKwXkSw8SIiFYJKwUM1GKUg2vpmtzM7mc1qT77LznyP+c17M2/eYmUJne0k/mHdw8DE\n",
       "VEfXPOrsU1T1mBVKix9q7ew/CmTd5bKZ1+3fqQNMfcKmb9SVyeHwGLfQhvtqGA1AkTQa5886pJ6g\n",
       "STQQ1+W/JL7oAI/S0BsBaCThmDWL1GQe0AvqwhvBrI/cuuONvlIW1xqI9Qoo9xG0u8Cg8crIyCmV\n",
       "EC2pinEsz4eH6chTNHvHocJHUH2GQfHdtm+rCDNNC79kH1aFMiqYaAEvBug7x6HCR9DyQo2pB4Gc\n",
       "Co3QsV3AlQYl9dxTsn7MreKnm2wwwaFZ/0xT69td9R5idRWq0SFX8DR/H892e4p/leYP4EyGBmMc\n",
       "akkXpRdnmarBdAJVMw3kYbNh2Qtvx3sybyVdkLnKqmAD6vsICusBU3VHQycosOZDpaLroSjNNQka\n",
       "lSOF1cXUaH2B5tW9H2vt6cP45UPR21amXT89z3y7j0EzSVfN0csy84PaNAbki7pkNrEsoH0Cysp0\n",
       "0ZIvqq8t0quuepGK0sBb4OU27tXTSKxGmlFHQDXxPl4Dia2siPZwqPAljVl9LuOqPQ0m0J1iki9M\n",
       "lBAbWv5Q9NOP9c94g8H1/btsl7LEodznNxR6ZGxbo2lIUOmZlvk+j/kz5Y2sJJ6p4uMd4bRe12Wo\n",
       "31DGwvpKh4aiQM+NVysyNMJb3/G7QyHQDq1PgXo2uZkmzS0XCv0s/05efSts/ncSp1xWpvC/7A/8\n",
       "obTQWfAWHAAAAABJRU5ErkJggg==\n",
       "\" style=\"display:inline;vertical-align:middle;\" /></a></span><br>"
      ],
      "text/plain": [
       "forall_in_bool_inst: |- [forall_{x_{1}} (x_{1} in B)] in BOOLEAN"
      ]
     },
     "execution_count": 11,
     "metadata": {},
     "output_type": "execute_result"
    }
   ],
   "source": [
    "forall_in_bool_inst = forall_in_bool.instantiate(\n",
    "        {n:one, Px:InSet(x, B), x:ExprTuple(x)})"
   ]
  },
  {
   "cell_type": "code",
   "execution_count": 12,
   "metadata": {},
   "outputs": [],
   "source": [
    "# from the original, kept here temporarily to guide update\n",
    "# forall_in_bool_spec = forall_in_bool.instantiate({k:one, l:one, Px:InSet(x, B), QQ:[Q]}, relabel_map={xx:[x]})"
   ]
  },
  {
   "cell_type": "code",
   "execution_count": 13,
   "metadata": {},
   "outputs": [],
   "source": [
    "# in proof.py we would likely use the same check_param_var method used in lambda_expr.py"
   ]
  },
  {
   "cell_type": "code",
   "execution_count": 14,
   "metadata": {},
   "outputs": [
    {
     "data": {
      "text/html": [
       "<strong id=\"forall_piece\">forall_piece:</strong> <a class=\"ProveItLink\" href=\"../../../__pv_it/_proof_subset_eq_is_bool/24f43401d0859cf1662fd89626ef24eec50eb6aa0/expr.ipynb\"><img src=\"data:image/png;base64,iVBORw0KGgoAAAANSUhEUgAAAHYAAAAVBAMAAABh6QfWAAAAMFBMVEX///8QEBCIiIhmZma6urrM\n",
       "zMxUVFQiIiJERETc3Nzu7u6qqqp2dnaYmJgyMjIAAAAcRTyBAAAAAXRSTlMAQObYZgAAAd9JREFU\n",
       "OMulVE0oRFEU/ox58/PmDbNQZPWiJClK2BBlYaNmWGChKBQWyGZqWIxSZhYyC2U28sxikoWmLGzF\n",
       "js0sLGyGp1hQJDT5WXDe3N68N3fMUE7d3rnnO98993733Af8aM4kfjFXBFA1J8Uju4VJ7rl0y9QK\n",
       "MA2cafN7PuGuSMWSINDlwz4Q1XYY5NduLsIdpfN4myHJKFMAKcHB9kge48LvV5nXROCVDNED9+ne\n",
       "3iafmBfAcEPWXQbESqp4A7yFQkt8Zi2NWN1Go6wHRJMiaWBohr4nwCQQ5rlrlH3kXrCrEJgUNuMQ\n",
       "QjpVv6g5l0APRJXnEiYp0oc1IrTMZwIOA7O8Aztj5BySLrDkNUIF1YVDK2ll3P5HMlbC4SH+p6Y3\n",
       "FUja8QMXKJcNbtTAyqmm5ZlxneogOcetdb6cPRPmM7gluddreyWnl0Z4ghZSZu3dmDFp5VKaKKpz\n",
       "S7OKZ653NMi0wgHBAh6AkWodJ/m9iXVsZeuynWTsmoJVdL3o0M8FUg8BHaftxGtinUmDG19RmDP7\n",
       "Nd4WyvThrda8WlR4Ekxcoyd1LvpW/blXKerItqRKJq7xFlzzhZ6EpEsQPz8+NXGzneZsT8sFuPu5\n",
       "08Bf3j6/PLOBl8Tf/znuCP5j38J6c8jmB9aeAAAAAElFTkSuQmCC\n",
       "\" style=\"display:inline;vertical-align:middle;\" /></a><br>"
      ],
      "text/plain": [
       "forall_piece: forall_{x_{1}} (x_{1} in B)"
      ]
     },
     "execution_count": 14,
     "metadata": {},
     "output_type": "execute_result"
    }
   ],
   "source": [
    "forall_piece = forall_in_bool_inst.operands[0]"
   ]
  },
  {
   "cell_type": "code",
   "execution_count": 15,
   "metadata": {},
   "outputs": [
    {
     "data": {
      "text/html": [
       "<strong id=\"x_1\">x_1:</strong> <a class=\"ProveItLink\" href=\"../../../__pv_it/_proof_subset_eq_is_bool/6f80868ab520e01404e03423268bb63e166e654f0/expr.ipynb\"><img src=\"data:image/png;base64,iVBORw0KGgoAAAANSUhEUgAAABMAAAAMBAMAAABy/puxAAAALVBMVEX///9mZmaqqqrMzMxEREQy\n",
       "MjIiIiKYmJh2dna6urrc3NxUVFSIiIju7u4AAACJHQtQAAAAAXRSTlMAQObYZgAAAFpJREFUCNdj\n",
       "YLhzeuWJAwwgwNvAnsMWwMDswMDAcYHjLecCZsEEoCgDC1CAgTMBpITvAJxpZwBlMl04x8BzAcyc\n",
       "p+DHsBwievvMHfECmFowQGIywZlcYq8PAAB5LRYu6/PK5gAAAABJRU5ErkJggg==\n",
       "\" style=\"display:inline;vertical-align:middle;\" /></a><br>"
      ],
      "text/plain": [
       "x_1: x_{1}"
      ]
     },
     "execution_count": 15,
     "metadata": {},
     "output_type": "execute_result"
    }
   ],
   "source": [
    "x_1 = IndexedVar(x, one)"
   ]
  },
  {
   "cell_type": "code",
   "execution_count": 16,
   "metadata": {},
   "outputs": [
    {
     "data": {
      "text/html": [
       "<span style=\"font-size:20px;\"><a class=\"ProveItLink\" href=\"../../../__pv_it/_proof_subset_eq_is_bool/24f43401d0859cf1662fd89626ef24eec50eb6aa0/expr.ipynb\"><img src=\"data:image/png;base64,iVBORw0KGgoAAAANSUhEUgAAAHYAAAAVBAMAAABh6QfWAAAAMFBMVEX///8QEBCIiIhmZma6urrM\n",
       "zMxUVFQiIiJERETc3Nzu7u6qqqp2dnaYmJgyMjIAAAAcRTyBAAAAAXRSTlMAQObYZgAAAd9JREFU\n",
       "OMulVE0oRFEU/ox58/PmDbNQZPWiJClK2BBlYaNmWGChKBQWyGZqWIxSZhYyC2U28sxikoWmLGzF\n",
       "js0sLGyGp1hQJDT5WXDe3N68N3fMUE7d3rnnO98993733Af8aM4kfjFXBFA1J8Uju4VJ7rl0y9QK\n",
       "MA2cafN7PuGuSMWSINDlwz4Q1XYY5NduLsIdpfN4myHJKFMAKcHB9kge48LvV5nXROCVDNED9+ne\n",
       "3iafmBfAcEPWXQbESqp4A7yFQkt8Zi2NWN1Go6wHRJMiaWBohr4nwCQQ5rlrlH3kXrCrEJgUNuMQ\n",
       "QjpVv6g5l0APRJXnEiYp0oc1IrTMZwIOA7O8Aztj5BySLrDkNUIF1YVDK2ll3P5HMlbC4SH+p6Y3\n",
       "FUja8QMXKJcNbtTAyqmm5ZlxneogOcetdb6cPRPmM7gluddreyWnl0Z4ghZSZu3dmDFp5VKaKKpz\n",
       "S7OKZ653NMi0wgHBAh6AkWodJ/m9iXVsZeuynWTsmoJVdL3o0M8FUg8BHaftxGtinUmDG19RmDP7\n",
       "Nd4WyvThrda8WlR4Ekxcoyd1LvpW/blXKerItqRKJq7xFlzzhZ6EpEsQPz8+NXGzneZsT8sFuPu5\n",
       "08Bf3j6/PLOBl8Tf/znuCP5j38J6c8jmB9aeAAAAAElFTkSuQmCC\n",
       "\" style=\"display:inline;vertical-align:middle;\" /></a> <a class=\"ProveItLink\" href=\"../../../__pv_it/_proof_subset_eq_is_bool/3f63275417f726a554463a9bcd07af2d8da558e30/proof.ipynb\" style=\"text-decoration: none\">&nbsp;&#x22A2;&nbsp;&nbsp;</a><a class=\"ProveItLink\" href=\"../../../__pv_it/_proof_subset_eq_is_bool/86ff8159b190762465f74fda28eb650ae14da0860/expr.ipynb\"><img src=\"data:image/png;base64,iVBORw0KGgoAAAANSUhEUgAAAD8AAAARBAMAAACY12mqAAAAMFBMVEX///8QEBBmZmaqqqrMzMxE\n",
       "REQyMjIiIiKYmJh2dna6urrc3NxUVFSIiIju7u4AAAA6P00QAAAAAXRSTlMAQObYZgAAAPVJREFU\n",
       "KM9jYMAFOM7/UToaxYAHMAYwMOg74FHg38DAsF4BQ7i1vDwBwrq/gYGh/wK6vOs9ODOQgYFP/AED\n",
       "w9s7u27C1fHlIdT+YWBwPwcUmsBRy57AwBIAFuTZAJdn+dNxtRhIcz7g/Me1gUWpACzKijCA9zcD\n",
       "w8MDQBMYWEGauSAKHNOAAOJIVgGgos8gFv8FhIKtCBP4gbp5/4L964BQwIgaDDy/GBiYH9xn4H0A\n",
       "U8CE8DcoGPyBtq83iGfYATeBoRiuIBEoKAoMhjd332o0IBS8iXoAYRz7f0gn1ABhI0wBw8pwWFCj\n",
       "AuYCBryAW/3PBewyAFEGQhNWaPKNAAAAAElFTkSuQmCC\n",
       "\" style=\"display:inline;vertical-align:middle;\" /></a></span>"
      ],
      "text/plain": [
       "{forall_{x_{1}} (x_{1} in B)} |- x_{1} in B"
      ]
     },
     "execution_count": 16,
     "metadata": {},
     "output_type": "execute_result"
    }
   ],
   "source": [
    "# updated/adapted from original; not clear why this is being done\n",
    "forall_piece.instantiate({x_1:ExprTuple(x)}, assumptions=[forall_piece])"
   ]
  },
  {
   "cell_type": "code",
   "execution_count": 17,
   "metadata": {},
   "outputs": [
    {
     "data": {
      "text/html": [
       "<span style=\"font-size:20px;\"> <a class=\"ProveItLink\" href=\"../../../__pv_it/_proof_subset_eq_is_bool/ef310cbc5781d8d9a9b93510f9d4fbe18d5dacf70/proof.ipynb\" style=\"text-decoration: none\">&nbsp;&#x22A2;&nbsp;&nbsp;</a><a class=\"ProveItLink\" href=\"../../../__pv_it/_proof_subset_eq_is_bool/5c3a648e12e1f685037452eedc54a59b1cc10d8a0/expr.ipynb\"><img src=\"data:image/png;base64,iVBORw0KGgoAAAANSUhEUgAAAKgAAAAVBAMAAAAgMbgsAAAAMFBMVEX///8QEBBmZmZUVFRERETc\n",
       "3Nzu7u6qqqqYmJgiIiK6urp2dnbMzMwyMjKIiIgAAACRIo6iAAAAAXRSTlMAQObYZgAAAnZJREFU\n",
       "OMu9lU9oE0EUxj9pkmazm20PIkQQgp5EqUGaHsTWFTYHPUgRD3oy/qEXKQQPQm+Lp1gpxoMVK2IR\n",
       "LOaipUiEHmKwXkSw8SIiFYJKwUM1GKUg2vpmtzM7mc1qT77LznyP+c17M2/eYmUJne0k/mHdw8DE\n",
       "VEfXPOrsU1T1mBVKix9q7ew/CmTd5bKZ1+3fqQNMfcKmb9SVyeHwGLfQhvtqGA1AkTQa5886pJ6g\n",
       "STQQ1+W/JL7oAI/S0BsBaCThmDWL1GQe0AvqwhvBrI/cuuONvlIW1xqI9Qoo9xG0u8Cg8crIyCmV\n",
       "EC2pinEsz4eH6chTNHvHocJHUH2GQfHdtm+rCDNNC79kH1aFMiqYaAEvBug7x6HCR9DyQo2pB4Gc\n",
       "Co3QsV3AlQYl9dxTsn7MreKnm2wwwaFZ/0xT69td9R5idRWq0SFX8DR/H892e4p/leYP4EyGBmMc\n",
       "akkXpRdnmarBdAJVMw3kYbNh2Qtvx3sybyVdkLnKqmAD6vsICusBU3VHQycosOZDpaLroSjNNQka\n",
       "lSOF1cXUaH2B5tW9H2vt6cP45UPR21amXT89z3y7j0EzSVfN0csy84PaNAbki7pkNrEsoH0Cysp0\n",
       "0ZIvqq8t0quuepGK0sBb4OU27tXTSKxGmlFHQDXxPl4Dia2siPZwqPAljVl9LuOqPQ0m0J1iki9M\n",
       "lBAbWv5Q9NOP9c94g8H1/btsl7LEodznNxR6ZGxbo2lIUOmZlvk+j/kz5Y2sJJ6p4uMd4bRe12Wo\n",
       "31DGwvpKh4aiQM+NVysyNMJb3/G7QyHQDq1PgXo2uZkmzS0XCv0s/05efSts/ncSp1xWpvC/7A/8\n",
       "obTQWfAWHAAAAABJRU5ErkJggg==\n",
       "\" style=\"display:inline;vertical-align:middle;\" /></a></span>"
      ],
      "text/plain": [
       "|- [forall_{x_{1}} (x_{1} in B)] in BOOLEAN"
      ]
     },
     "execution_count": 17,
     "metadata": {},
     "output_type": "execute_result"
    }
   ],
   "source": [
    "# recall:\n",
    "forall_in_bool_inst"
   ]
  },
  {
   "cell_type": "code",
   "execution_count": 18,
   "metadata": {},
   "outputs": [
    {
     "data": {
      "text/html": [
       "<strong id=\"the_inner_expr\">the_inner_expr:</strong> <a class=\"ProveItLink\" href=\"../../../__pv_it/_proof_subset_eq_is_bool/30968a6043143d51048a0551a440cf2d651111390/expr.ipynb\"><img src=\"data:image/png;base64,iVBORw0KGgoAAAANSUhEUgAAARUAAAAyCAMAAABF7r/qAAAANlBMVEX///8oKCgNDQ2IiIiYmJgy\n",
       "MjJUVFRERETc3NyqqqrMzMwiIiIQEBC6urpmZmZ2dnbu7u4AAAAKyl11AAAAAXRSTlMAQObYZgAA\n",
       "BaRJREFUaN7tmuu2oygQhZkp7nfe/2WHmwZEomkT5/Q68U+vk8428FkUuygRqpd3Fv3uizOx/cho\n",
       "JX85FYQ1890HIrweKdLw/gMvjT/QACEfgI+JMm+JFqXaCfDAhjlT4p5DoWHzBUHC0eCc+cxjftN9\n",
       "eaDNXzSMD9lrenAP5Yab/uVUkA1NKAey8w12RGUMpr+eigzQzIb+VCrAb6Xim/zqfy4VYW+mQk9R\n",
       "EQAuRZUk2koACsgAsDwIYjGAFdXuOABZqCySNf/Q56Pn1lnQa2brE796lhxX4c1UhIohbPN/KwYp\n",
       "oYJJO3umolN4M5tTc4LjMpVGUtM2eUrFpNuQMOEg2HQKjfBuKjomZZO3KJZR5D1chsSD0JKg4ogY\n",
       "eexBjeRMpHuNU/Jns+gANjFBrfDuFYQkOJshlJlnk8LzBkbKmo8Jyhfr4mteWSVnqNjMTz2W3L//\n",
       "kO4Kk2zVCm+m4gnjNTRYfip56+qpsGVDK1QayRkqmmXlwyeoPjbMzLe2wpupMFUWjH9CJcVKQ6WR\n",
       "nKBSwkyEWX6VZLaAWuHNVOpPcyN3qGSVSSgIe+SVRnKKSsrTlCDBd6kQPp1AI7yZSg5TFyT2LRVZ\n",
       "qOQRZ9fCtckrHXrJmT0o7Ww4bt6r+cHd+pn7lVZ4F5VY/AXKEacWnAeC899SsBDLI0dCqoEYSn6l\n",
       "jMdbh6NfSbXTKpn5FcOWK3HzNBodTmGSUtuAmwvvi5WfXK/8f972N1JpK0Ie3JcKQqtJrfktmC+V\n",
       "uuU1lYe6CQoC9YkTSnjTCWV2FMsm4QJH32s9liwwnDZfGA2WhMMT6r8oukUUC06v7JdK719zGW61\n",
       "/KJotrOaUKy+nm05LpvBi1sMx9cDvgz+tU6ZmM7YrWca13dmzxbb8KgEMT4re/HCqSSzlrJyfEz5\n",
       "Cc8CSjMWiFa0fItOsJhH6wMuu7ha78eBubWFTfxZ2cuXLjRLT8uTU06OIBmzKPM2PyxPJoV4eJ/j\n",
       "x3YdGF8eP2enZS/nw2q1TOne1IbCARWGTFSBrD2ErgvROH7SVIcX39JQTRAvIeLEadlzdEzFq3u0\n",
       "UJ0WrkeAeo/KVleoCFGpVNEHa2aumnIEO58urs7LnoUFg3Ehlm5DnFg94iVmoDLqChVnllxGzDuo\n",
       "bHpZ7VkS2LZIC/lcSB0vykXmASg3sBfTfjc5leFKtfjP8kJSS2VHl6kYJalsRRepbHtZ7bkjwy2V\n",
       "8rPseHVUmXfppBFQiXbZpaPdrUIGijEwtS5RTLZUdnQsvbkUwlreYHKdytDL6vKDaKnko9ZZjt+R\n",
       "OZ9cgkfpJSFpreqnshdjJa08XiURakuFzbKtw9i1omtUhl5Wt1Ga7pgj/RycsGdVlvuS6zRMO1ip\n",
       "117ZmFYiHbEEz4bKnq5QWf5ZRNeoDL2sJ1Qcft40H2S1czBS2d/dl9HCohqo8GmspCii76Iy9rLm\n",
       "KwjxaJjqDR1YCVQeyGonZaSC9BO3guhiPs2wgvSUCkXVfhv1BirbXtZO2lwHxnj11XF3jJpcoOyc\n",
       "V1SZ8PGply8Pg7UwTSuRDptm2x3dGis1sbwj2w69rK73ZXsqYkmZMQJKW0g6PVIpMhOBJ59dC8XN\n",
       "I1SjFyS6borrywrWDX5l1MUAjl9zbnmHxLo/oXLUy2r8ilE9lSZNoOX0U41Uiizd2YNdaskNFU9Z\n",
       "/7oqJUtp+Jg3GTvwW922OlxEH/S2nePP0ekfSSBHzC6VXcc/LHfj2Nbxb6ei9hz/gc6rI8ePrlJp\n",
       "qsPODgfk4rDcjMpedSheP9U4Vx3uiwYqzZA0uUZlcbKbgXmKjQPnZ1RGA8ytChRePNs5d5KwLxr2\n",
       "tybb0Ku9j8ep03SR+bedOk3QvkRlUpBA68j45UZzPaGcNcEkBCs+c0KJy/xe65RhPjEgrGcE6Ht5\n",
       "tfEPOHzbQkIP5w/e0l8OhT/eQ/oPKctIvNKoy4sAAAAASUVORK5CYII=\n",
       "\" style=\"display:inline;vertical-align:middle;\" /></a><br>"
      ],
      "text/plain": [
       "the_inner_expr: {lambda:[_a -> _a], ${_{-}a}$:([forall_{x_{1}} (x_{1} in B)] in BOOLEAN)}"
      ]
     },
     "execution_count": 18,
     "metadata": {},
     "output_type": "execute_result"
    }
   ],
   "source": [
    "# updated this from original; not clear why this is being done\n",
    "the_inner_expr = forall_in_bool_inst.inner_expr()"
   ]
  },
  {
   "cell_type": "code",
   "execution_count": 19,
   "metadata": {},
   "outputs": [
    {
     "data": {
      "text/html": [
       "<strong id=\"forall_in_bool_inst_expr\">forall_in_bool_inst_expr:</strong> <a class=\"ProveItLink\" href=\"../../../__pv_it/_proof_subset_eq_is_bool/5c3a648e12e1f685037452eedc54a59b1cc10d8a0/expr.ipynb\"><img src=\"data:image/png;base64,iVBORw0KGgoAAAANSUhEUgAAAKgAAAAVBAMAAAAgMbgsAAAAMFBMVEX///8QEBBmZmZUVFRERETc\n",
       "3Nzu7u6qqqqYmJgiIiK6urp2dnbMzMwyMjKIiIgAAACRIo6iAAAAAXRSTlMAQObYZgAAAnZJREFU\n",
       "OMu9lU9oE0EUxj9pkmazm20PIkQQgp5EqUGaHsTWFTYHPUgRD3oy/qEXKQQPQm+Lp1gpxoMVK2IR\n",
       "LOaipUiEHmKwXkSw8SIiFYJKwUM1GKUg2vpmtzM7mc1qT77LznyP+c17M2/eYmUJne0k/mHdw8DE\n",
       "VEfXPOrsU1T1mBVKix9q7ew/CmTd5bKZ1+3fqQNMfcKmb9SVyeHwGLfQhvtqGA1AkTQa5886pJ6g\n",
       "STQQ1+W/JL7oAI/S0BsBaCThmDWL1GQe0AvqwhvBrI/cuuONvlIW1xqI9Qoo9xG0u8Cg8crIyCmV\n",
       "EC2pinEsz4eH6chTNHvHocJHUH2GQfHdtm+rCDNNC79kH1aFMiqYaAEvBug7x6HCR9DyQo2pB4Gc\n",
       "Co3QsV3AlQYl9dxTsn7MreKnm2wwwaFZ/0xT69td9R5idRWq0SFX8DR/H892e4p/leYP4EyGBmMc\n",
       "akkXpRdnmarBdAJVMw3kYbNh2Qtvx3sybyVdkLnKqmAD6vsICusBU3VHQycosOZDpaLroSjNNQka\n",
       "lSOF1cXUaH2B5tW9H2vt6cP45UPR21amXT89z3y7j0EzSVfN0csy84PaNAbki7pkNrEsoH0Cysp0\n",
       "0ZIvqq8t0quuepGK0sBb4OU27tXTSKxGmlFHQDXxPl4Dia2siPZwqPAljVl9LuOqPQ0m0J1iki9M\n",
       "lBAbWv5Q9NOP9c94g8H1/btsl7LEodznNxR6ZGxbo2lIUOmZlvk+j/kz5Y2sJJ6p4uMd4bRe12Wo\n",
       "31DGwvpKh4aiQM+NVysyNMJb3/G7QyHQDq1PgXo2uZkmzS0XCv0s/05efSts/ncSp1xWpvC/7A/8\n",
       "obTQWfAWHAAAAABJRU5ErkJggg==\n",
       "\" style=\"display:inline;vertical-align:middle;\" /></a><br>"
      ],
      "text/plain": [
       "forall_in_bool_inst_expr: [forall_{x_{1}} (x_{1} in B)] in BOOLEAN"
      ]
     },
     "execution_count": 19,
     "metadata": {},
     "output_type": "execute_result"
    }
   ],
   "source": [
    "forall_in_bool_inst_expr = forall_in_bool_inst.expr"
   ]
  },
  {
   "cell_type": "code",
   "execution_count": 20,
   "metadata": {},
   "outputs": [],
   "source": [
    "# from original, but this no longer works:\n",
    "# the_inner_expr.operands[1]"
   ]
  },
  {
   "cell_type": "code",
   "execution_count": 21,
   "metadata": {},
   "outputs": [],
   "source": [
    "# from original, but no longer works:\n",
    "# forall_in_bool_spec_expr.expr_info()"
   ]
  },
  {
   "cell_type": "code",
   "execution_count": 22,
   "metadata": {},
   "outputs": [
    {
     "data": {
      "text/html": [
       "<table><tr><th>&nbsp;</th><th>core type</th><th>sub-expressions</th><th>expression</th></tr>\n",
       "<tr><td>0</td><td>Operation</td><td>operator:&nbsp;8<br>operands:&nbsp;1<br></td><td><a class=\"ProveItLink\" href=\"../../../__pv_it/_proof_subset_eq_is_bool/5c3a648e12e1f685037452eedc54a59b1cc10d8a0/expr.ipynb\"><img src=\"data:image/png;base64,iVBORw0KGgoAAAANSUhEUgAAAKgAAAAVBAMAAAAgMbgsAAAAMFBMVEX///8QEBBmZmZUVFRERETc\n",
       "3Nzu7u6qqqqYmJgiIiK6urp2dnbMzMwyMjKIiIgAAACRIo6iAAAAAXRSTlMAQObYZgAAAnZJREFU\n",
       "OMu9lU9oE0EUxj9pkmazm20PIkQQgp5EqUGaHsTWFTYHPUgRD3oy/qEXKQQPQm+Lp1gpxoMVK2IR\n",
       "LOaipUiEHmKwXkSw8SIiFYJKwUM1GKUg2vpmtzM7mc1qT77LznyP+c17M2/eYmUJne0k/mHdw8DE\n",
       "VEfXPOrsU1T1mBVKix9q7ew/CmTd5bKZ1+3fqQNMfcKmb9SVyeHwGLfQhvtqGA1AkTQa5886pJ6g\n",
       "STQQ1+W/JL7oAI/S0BsBaCThmDWL1GQe0AvqwhvBrI/cuuONvlIW1xqI9Qoo9xG0u8Cg8crIyCmV\n",
       "EC2pinEsz4eH6chTNHvHocJHUH2GQfHdtm+rCDNNC79kH1aFMiqYaAEvBug7x6HCR9DyQo2pB4Gc\n",
       "Co3QsV3AlQYl9dxTsn7MreKnm2wwwaFZ/0xT69td9R5idRWq0SFX8DR/H892e4p/leYP4EyGBmMc\n",
       "akkXpRdnmarBdAJVMw3kYbNh2Qtvx3sybyVdkLnKqmAD6vsICusBU3VHQycosOZDpaLroSjNNQka\n",
       "lSOF1cXUaH2B5tW9H2vt6cP45UPR21amXT89z3y7j0EzSVfN0csy84PaNAbki7pkNrEsoH0Cysp0\n",
       "0ZIvqq8t0quuepGK0sBb4OU27tXTSKxGmlFHQDXxPl4Dia2siPZwqPAljVl9LuOqPQ0m0J1iki9M\n",
       "lBAbWv5Q9NOP9c94g8H1/btsl7LEodznNxR6ZGxbo2lIUOmZlvk+j/kz5Y2sJJ6p4uMd4bRe12Wo\n",
       "31DGwvpKh4aiQM+NVysyNMJb3/G7QyHQDq1PgXo2uZkmzS0XCv0s/05efSts/ncSp1xWpvC/7A/8\n",
       "obTQWfAWHAAAAABJRU5ErkJggg==\n",
       "\" style=\"display:inline;vertical-align:middle;\" /></a></td></tr>\n",
       "<tr><td>1</td><td>ExprTuple</td><td>2, 3</td><td><a class=\"ProveItLink\" href=\"../../../__pv_it/_proof_subset_eq_is_bool/4020dd59fd0e90085ebe6e19a1de46170f154ab60/expr.ipynb\"><img src=\"data:image/png;base64,iVBORw0KGgoAAAANSUhEUgAAAJ8AAAAVBAMAAACqHiFtAAAAMFBMVEX////MzMxUVFR2dna6uroQ\n",
       "EBCqqqqIiIgiIiJmZmYyMjJERETu7u6YmJjc3NwAAACgK8IjAAAAAXRSTlMAQObYZgAAApZJREFU\n",
       "OMutlU1oE0EUx/+bjdl1s0lDPYh4aAShaDXmZCgGzEWMUKWIh6IecqwgErxIoWBQlCJBox7UWwRP\n",
       "4kcvamG1LEpR2x6CCn5AJMeKiGkPlrZofTPT3Z3dNLUH32F35s28376Z97FAvIbV5Qf+IZFGUHOG\n",
       "PaZQZa96cNEcbY96t7zjhpVDyplrl6zFge1AiH3iEfYy3YOgkdFYw7kTwMZZTHqbleLU2xpM8i1W\n",
       "wXfSxFv8+bwGT/kNhBegFh1FNFzTEoTIAHoDhg2ohaDR1RZMbGzkysoR/9BsHma/BIwUCDgBzNBS\n",
       "dnp6JmgdL7W49cx27Yk0UQbuSUC1j4BGDkM0XbKsi0FzrUJxOZc6mHE1ky4PHUkoF2jaKwHznQk6\n",
       "aAUvaLoNGA8Co5RNr/CpSIfcKjQpb7Fr98cxdkdfPODA8jF2K1VcptchHh6/6GSQxX77CLbcFhop\n",
       "bOcbMI/Se1A+cj1NqVkC4+rQWrJ7Qw6wYbFhXlzh8fskYvEJg9IXuyQgRg/TpiYHqjUdqwGBeQ8o\n",
       "J9YcAxaDwBAHsiPHq530zFw/m/AfGcqsB0S/Lw2xJ+euCGDSoOQs8aBgnMpGs3fqOeySg3Jaa2LY\n",
       "NbvlZQClobLkDwp5+J4HhUf+FCWdgofAppPOFkqA8K9ok7WOvOSzKDRy9sBzGtxkNb/ISy+t9iap\n",
       "HtNidwevIfouyo4ROW92Dw/VvSObPX1iEHo8d6fnKRvdZY8R220OMBKs9MhTlrNKU5GAUuk5NxXe\n",
       "55Se05B4NUW8hMcb3hyE/FSrqgz0msNgux4hmoMqaVhdOTXy8kMmKwOjTvv6dq27DVC0r9eSy1Xe\n",
       "YGUpr6vBrojwRaoJ7oTvF7B5obD+X0CspQV/xf+XvwnZq62wPe05AAAAAElFTkSuQmCC\n",
       "\" style=\"display:inline;vertical-align:middle;\" /></a></td></tr>\n",
       "<tr><td>2</td><td>Operation</td><td>operator:&nbsp;4<br>operand:&nbsp;6<br></td><td><a class=\"ProveItLink\" href=\"../../../__pv_it/_proof_subset_eq_is_bool/24f43401d0859cf1662fd89626ef24eec50eb6aa0/expr.ipynb\"><img src=\"data:image/png;base64,iVBORw0KGgoAAAANSUhEUgAAAHYAAAAVBAMAAABh6QfWAAAAMFBMVEX///8QEBCIiIhmZma6urrM\n",
       "zMxUVFQiIiJERETc3Nzu7u6qqqp2dnaYmJgyMjIAAAAcRTyBAAAAAXRSTlMAQObYZgAAAd9JREFU\n",
       "OMulVE0oRFEU/ox58/PmDbNQZPWiJClK2BBlYaNmWGChKBQWyGZqWIxSZhYyC2U28sxikoWmLGzF\n",
       "js0sLGyGp1hQJDT5WXDe3N68N3fMUE7d3rnnO98993733Af8aM4kfjFXBFA1J8Uju4VJ7rl0y9QK\n",
       "MA2cafN7PuGuSMWSINDlwz4Q1XYY5NduLsIdpfN4myHJKFMAKcHB9kge48LvV5nXROCVDNED9+ne\n",
       "3iafmBfAcEPWXQbESqp4A7yFQkt8Zi2NWN1Go6wHRJMiaWBohr4nwCQQ5rlrlH3kXrCrEJgUNuMQ\n",
       "QjpVv6g5l0APRJXnEiYp0oc1IrTMZwIOA7O8Aztj5BySLrDkNUIF1YVDK2ll3P5HMlbC4SH+p6Y3\n",
       "FUja8QMXKJcNbtTAyqmm5ZlxneogOcetdb6cPRPmM7gluddreyWnl0Z4ghZSZu3dmDFp5VKaKKpz\n",
       "S7OKZ653NMi0wgHBAh6AkWodJ/m9iXVsZeuynWTsmoJVdL3o0M8FUg8BHaftxGtinUmDG19RmDP7\n",
       "Nd4WyvThrda8WlR4Ekxcoyd1LvpW/blXKerItqRKJq7xFlzzhZ6EpEsQPz8+NXGzneZsT8sFuPu5\n",
       "08Bf3j6/PLOBl8Tf/znuCP5j38J6c8jmB9aeAAAAAElFTkSuQmCC\n",
       "\" style=\"display:inline;vertical-align:middle;\" /></a></td></tr>\n",
       "<tr><td>3</td><td>Literal</td><td></td><td><a class=\"ProveItLink\" href=\"../../../../../booleans/__pv_it/common/8fc291135425020cce4ba1ad615843f54f1fc6600/expr.ipynb\"><img src=\"data:image/png;base64,iVBORw0KGgoAAAANSUhEUgAAAA0AAAAOBAMAAAAGUYvhAAAALVBMVEX///92dnaqqqqYmJhmZmbu\n",
       "7u7MzMy6urpUVFQyMjJEREQQEBAiIiKIiIgAAADLM1dYAAAAAXRSTlMAQObYZgAAAE5JREFUCNdj\n",
       "uLNr3ewTBQwMDBNyWZc6A+kFxQzXuCC0EpQWjwLT7MfaQHT1udcFEHFhQwjNxW4AoRkawDQHwwQI\n",
       "n1kAaG4ig6AHAwPUHgCe0xzmuIDRVAAAAABJRU5ErkJggg==\n",
       "\" style=\"display:inline;vertical-align:middle;\" /></a></td></tr>\n",
       "<tr><td>4</td><td>Literal</td><td></td><td><a class=\"ProveItLink\" href=\"../../../../../booleans/quantification/universality/__pv_it/common/684d35ba98fcbf8ca5011f865e530a51e77730630/expr.ipynb\"><img src=\"data:image/png;base64,iVBORw0KGgoAAAANSUhEUgAAAAwAAAAQBAMAAADQT4M0AAAALVBMVEX///+IiIhmZma6urrMzMxU\n",
       "VFQiIiJERETc3Nzu7u6qqqp2dnaYmJgyMjIAAACvZ3rBAAAAAXRSTlMAQObYZgAAAFhJREFUCNdj\n",
       "YICACyDiDMMuEHWToR1IchQw8E5gYOBewMCzc+bMNqDI8/LybCAVwsBQAaSMGDhBmtgYGA8AKe4D\n",
       "bCCtHBdcwcZVBIOpRQlgik8ATPEAjQMANugRR9JsrroAAAAASUVORK5CYII=\n",
       "\" style=\"display:inline;vertical-align:middle;\" /></a></td></tr>\n",
       "<tr><td>5</td><td>ExprTuple</td><td>6</td><td><a class=\"ProveItLink\" href=\"../../../__pv_it/_proof_subset_eq_is_bool/5999b289d02abcca0ea9583e6eb29397c3b229500/expr.ipynb\"><img src=\"data:image/png;base64,iVBORw0KGgoAAAANSUhEUgAAAJEAAAAUCAMAAAC6ey96AAAANlBMVEX///8oKCgNDQ3MzMxUVFR2\n",
       "dna6uroQEBCqqqqIiIgiIiJmZmYyMjJERETu7u6YmJjc3NwAAADtE0dfAAAAAXRSTlMAQObYZgAA\n",
       "Ab1JREFUSMfFVtuWgyAMzC4IBgiX///ZRbkIFoutD8vLnGInTpKBCADgHTxYz9j7Wn2Plp5E+47t\n",
       "eAhca04ktp88S8lo/BNF37JlykQHtqVlcno7Ov1E0LdsFlKzRdgDLJi2d1QfJYmnf99iO1JxmS5O\n",
       "SEQXdi1W5iJF9OozE/Y1ucNmhPZlk2RWoNIzI6Ag5ldYRO4FlvK15L4ofcmm7OgNO5AZ+C5W8fxw\n",
       "0RUp9dMusYIKIdWW0aWGtRM4Z9dzdLIRdw5JrbWxpmLeXKLWJVgQkc+0VpeKAKnJec6G4e2QbWQl\n",
       "L4mqijI1cHsLVbJoY/7+mG6FII4zPGUzWYmvNorK1lK0ivIIH3AYU/U+EErAWdEbth/WKPCiCF8U\n",
       "Ha1k+2U1UNQ7oDPqnA3yzW0EvNS7cCJmb6426t1E24mi/o6es0HjpY2iMnp1djp2IvaTQh2bXcxu\n",
       "kor+Ppqz2zoeaaXCCVlPiV4qJrrliBa1c6O6dxmzk6nmbMtJdFbkpozZQ6thB47mgLh9kd9ii4XO\n",
       "U+R8jaoGR7Nyva3oGfvofjtpgc5peq0Cx5uxnrGh/Qqp+B9fbBdpFfz3r1rnG/wD0SEVes1mZSYA\n",
       "AAAASUVORK5CYII=\n",
       "\" style=\"display:inline;vertical-align:middle;\" /></a></td></tr>\n",
       "<tr><td>6</td><td>Lambda</td><td>parameter:&nbsp;10<br>body:&nbsp;7<br></td><td><a class=\"ProveItLink\" href=\"../../../__pv_it/_proof_subset_eq_is_bool/481fee0a01ddbf46107729ae7b1cf315b6fde3290/expr.ipynb\"><img src=\"data:image/png;base64,iVBORw0KGgoAAAANSUhEUgAAAIMAAAAUCAMAAACZIH6vAAAANlBMVEX///8QEBAoKCgNDQ1mZmaq\n",
       "qqrMzMxEREQyMjIiIiKYmJh2dna6urrc3NxUVFSIiIju7u4AAADPT139AAAAAXRSTlMAQObYZgAA\n",
       "AZ9JREFUSMfFltuWgyAMRWEGidwS8v8/WxQvjaK1utYMT7W6w0lyDCp1fyWvnq4uPeMz3KE8MqMx\n",
       "CBCHS3wmor+J66rdsB0S6Z9I8OYeZ7m2MPIYINAXLG3SdlfK4MGVJXIlrqDncfesv7GPzDu5CykD\n",
       "5d2fUDfN2tV7/eCLTIQpUqMo0nRyU5okHdOl17khjHGU53C6GUqgHEpdHKlaMQuHu3ZCEtSuntBt\n",
       "z1tG7wlct7SrkKHoCZxVLIQ1xh1qUARveU1BTmjVfHcnO2SNc2qFGeLC8nh8j/L704vFHNc3rP48\n",
       "oa1ewL0dipZuLszUI2pGcbKf0UW11XBCp2YdGGcNJDTYcVw0NMhOCoutDT2ilT6ZDgrnmg5Ml4um\n",
       "QVj+oEHOxcmTJ7QydGiHogVWT8bSF+DlABJRxJkU5XwIpg67Y/q9VmsitThRL/42QWUkymS8b1VT\n",
       "ZGU35hgteUpnhCgshf18YK3qervdKbqrc7M1q3d0DLCd1dtBtt+wu6yhdWZdp9eebk2TjGO8epBB\n",
       "ekIv8/wfvmE+JfL333J+kPACmXMR6KnG1YwAAAAASUVORK5CYII=\n",
       "\" style=\"display:inline;vertical-align:middle;\" /></a></td></tr>\n",
       "<tr><td>7</td><td>Operation</td><td>operator:&nbsp;8<br>operands:&nbsp;9<br></td><td><a class=\"ProveItLink\" href=\"../../../__pv_it/_proof_subset_eq_is_bool/86ff8159b190762465f74fda28eb650ae14da0860/expr.ipynb\"><img src=\"data:image/png;base64,iVBORw0KGgoAAAANSUhEUgAAAD8AAAARBAMAAACY12mqAAAAMFBMVEX///8QEBBmZmaqqqrMzMxE\n",
       "REQyMjIiIiKYmJh2dna6urrc3NxUVFSIiIju7u4AAAA6P00QAAAAAXRSTlMAQObYZgAAAPVJREFU\n",
       "KM9jYMAFOM7/UToaxYAHMAYwMOg74FHg38DAsF4BQ7i1vDwBwrq/gYGh/wK6vOs9ODOQgYFP/AED\n",
       "w9s7u27C1fHlIdT+YWBwPwcUmsBRy57AwBIAFuTZAJdn+dNxtRhIcz7g/Me1gUWpACzKijCA9zcD\n",
       "w8MDQBMYWEGauSAKHNOAAOJIVgGgos8gFv8FhIKtCBP4gbp5/4L964BQwIgaDDy/GBiYH9xn4H0A\n",
       "U8CE8DcoGPyBtq83iGfYATeBoRiuIBEoKAoMhjd332o0IBS8iXoAYRz7f0gn1ABhI0wBw8pwWFCj\n",
       "AuYCBryAW/3PBewyAFEGQhNWaPKNAAAAAElFTkSuQmCC\n",
       "\" style=\"display:inline;vertical-align:middle;\" /></a></td></tr>\n",
       "<tr><td>8</td><td>Literal</td><td></td><td><a class=\"ProveItLink\" href=\"../../../../membership/__pv_it/common/7171deca84f71f47a6ec7696972d1632274a12880/expr.ipynb\"><img src=\"data:image/png;base64,iVBORw0KGgoAAAANSUhEUgAAAAwAAAAMBAMAAACkW0HUAAAAMFBMVEX///92dna6urqqqqpmZmYQ\n",
       "EBDc3NxUVFTu7u6IiIjMzMwyMjIiIiJERESYmJgAAAAHpoBrAAAAAXRSTlMAQObYZgAAAD1JREFU\n",
       "CNdjYGB4e+bMBgaGtTMYgIBjB4hkYE8AU7xgkmHpbiDYwJAL4bFCKJYJEPowhGq/1ACmFe+c2QAA\n",
       "t5cQC4jqfWMAAAAASUVORK5CYII=\n",
       "\" style=\"display:inline;vertical-align:middle;\" /></a></td></tr>\n",
       "<tr><td>9</td><td>ExprTuple</td><td>10, 11</td><td><a class=\"ProveItLink\" href=\"../../../__pv_it/_proof_subset_eq_is_bool/3be18b4f46e9c24a9ad5d22cf340f07bce3c459d0/expr.ipynb\"><img src=\"data:image/png;base64,iVBORw0KGgoAAAANSUhEUgAAADsAAAAUBAMAAADB8VhjAAAAMFBMVEX////MzMxUVFR2dna6uroQ\n",
       "EBCqqqqIiIgiIiJmZmYyMjJERETu7u6YmJjc3NwAAACgK8IjAAAAAXRSTlMAQObYZgAAATlJREFU\n",
       "KM9jYOC7wIAD5IGI05jivPqfZmpvYWB6AGSvw6KPdQMDw3wBngVAlROwSMsDLfSfwGDOwMDxAIt0\n",
       "PVDwfgHDUQaGF9gctZWBgSfiAAOXA0MlkHe86ElxAbL0JwYGCR0GBuYJDHuBCg142zkWMDBugMky\n",
       "frpb3QbywQIGIMV8gPkPywPGmQ0wafZ/DAxHFRgY2BoYQoC6GbhBGlng0twBQCXfgKZ8AEkzMPAX\n",
       "oEjzA3WyfwdLt4H9KYAiDfI20xewCNBpbAfqGdgPIEmDvC2/Aew0S2D4JOxneAvRfX4BSHopkBN9\n",
       "gIGB04DBg4HhUPnxuRcg0hw9QFmt/5qTdicAGVwCSIEKNjwHOXROIEcJG0jaAFkaGCUM+6Bsvhmf\n",
       "Chh4kMMWFKGoyYEXmcMNshd3YrrHwAAAKkRP6pCnlIoAAAAASUVORK5CYII=\n",
       "\" style=\"display:inline;vertical-align:middle;\" /></a></td></tr>\n",
       "<tr><td>10</td><td>IndexedVar</td><td>variable:&nbsp;12<br>index:&nbsp;14<br></td><td><a class=\"ProveItLink\" href=\"../../../__pv_it/_proof_subset_eq_is_bool/6f80868ab520e01404e03423268bb63e166e654f0/expr.ipynb\"><img src=\"data:image/png;base64,iVBORw0KGgoAAAANSUhEUgAAABMAAAAMBAMAAABy/puxAAAALVBMVEX///9mZmaqqqrMzMxEREQy\n",
       "MjIiIiKYmJh2dna6urrc3NxUVFSIiIju7u4AAACJHQtQAAAAAXRSTlMAQObYZgAAAFpJREFUCNdj\n",
       "YLhzeuWJAwwgwNvAnsMWwMDswMDAcYHjLecCZsEEoCgDC1CAgTMBpITvAJxpZwBlMl04x8BzAcyc\n",
       "p+DHsBwievvMHfECmFowQGIywZlcYq8PAAB5LRYu6/PK5gAAAABJRU5ErkJggg==\n",
       "\" style=\"display:inline;vertical-align:middle;\" /></a></td></tr>\n",
       "<tr><td>11</td><td>Variable</td><td></td><td><a class=\"ProveItLink\" href=\"../../../../../../__pv_it/common/4eca3b30dcf58a58494e201d1b7886d8643a617b0/expr.ipynb\"><img src=\"data:image/png;base64,iVBORw0KGgoAAAANSUhEUgAAABAAAAAOBAMAAADUAYG5AAAALVBMVEX///8yMjKqqqoiIiLu7u7c\n",
       "3NyIiIjMzMwQEBC6urpERERmZmZUVFSYmJgAAACsPVCVAAAAAXRSTlMAQObYZgAAAGxJREFUCNdj\n",
       "YGC48+70nlUTGICgi4GB+zmQZn/LwMD5Gshge8rAwPsMyOBqYGDwMAEy+A4wsNs4ABl1Z68tVgBp\n",
       "ygtgYOkBMVaAOCChNyBGAsQYhnMTIMawvwJyGIHGzFjCwMAj92b3qUUMDAAXABxvZ4rl5AAAAABJ\n",
       "RU5ErkJggg==\n",
       "\" style=\"display:inline;vertical-align:middle;\" /></a></td></tr>\n",
       "<tr><td>12</td><td>Variable</td><td></td><td><a class=\"ProveItLink\" href=\"../../../../../../__pv_it/common/a2581dc5df71d9a30bad37de14965fa5fec97a240/expr.ipynb\"><img src=\"data:image/png;base64,iVBORw0KGgoAAAANSUhEUgAAAAsAAAAJBAMAAAAWSsseAAAALVBMVEX///9mZmaqqqrMzMxEREQy\n",
       "MjIiIiKYmJh2dna6urrc3NxUVFSIiIju7u4AAACJHQtQAAAAAXRSTlMAQObYZgAAAEJJREFUCNdj\n",
       "YLhzeuWJAwy8Dew5bAEMHBc43nIuYOBlYHFgAAG+A2DKzgBIMF04x8BzgWGegh/DcgaG22fuiBcw\n",
       "AAATyhBrnyPYZQAAAABJRU5ErkJggg==\n",
       "\" style=\"display:inline;vertical-align:middle;\" /></a></td></tr>\n",
       "<tr><td>13</td><td>ExprTuple</td><td>14</td><td><a class=\"ProveItLink\" href=\"../../../__pv_it/_proof_subset_eq_is_bool/983fb1abdb7789966ec8b7afe0d4f7ca8578c9e50/expr.ipynb\"><img src=\"data:image/png;base64,iVBORw0KGgoAAAANSUhEUgAAABcAAAAUBAMAAACUkLs9AAAAMFBMVEX////MzMxUVFR2dna6uroQ\n",
       "EBCqqqqIiIgiIiJmZmYyMjJERETu7u6YmJjc3NwAAACgK8IjAAAAAXRSTlMAQObYZgAAAItJREFU\n",
       "GNNjYOC7wAAGeSDiNITNwPQASKwDYrYYBgaeBQwMvBMYGA4Z/QGKmDMwcIBkeUGcowwMLxhgHC4H\n",
       "hko4h3kCw144h3cBQxucw9bAEALnMH5A5SCUsTSgGmAJ4rCDOJwGDB4gSvXXXKClAhDngMEJiEMh\n",
       "AOhQhn1QNsgLcM9xg9TDvH2PgQEA1SMnJpoizf8AAAAASUVORK5CYII=\n",
       "\" style=\"display:inline;vertical-align:middle;\" /></a></td></tr>\n",
       "<tr><td>14</td><td>Literal</td><td></td><td><a class=\"ProveItLink\" href=\"../../../../../../numbers/numerals/__pv_it/common/d278e359da0695d9652dd541d45264f93703e2e40/expr.ipynb\"><img src=\"data:image/png;base64,iVBORw0KGgoAAAANSUhEUgAAAAgAAAAPBAMAAAArJJMAAAAAIVBMVEX///8yMjJmZmaIiIiYmJh2\n",
       "dnZUVFTu7u4QEBCqqqoAAAADAhFxAAAAAXRSTlMAQObYZgAAACBJREFUCNdjYAADznYGhrKw5UAW\n",
       "CykEM5BgylioAjYDAHBOCeDSSky9AAAAAElFTkSuQmCC\n",
       "\" style=\"display:inline;vertical-align:middle;\" /></a></td></tr>\n",
       "</table>\n"
      ],
      "text/plain": [
       "0. [forall_{x_{1}} (x_{1} in B)] in BOOLEAN\n",
       "   core type: Operation\n",
       "   operator: 8\n",
       "   operands: 1\n",
       "1. (forall_{x_{1}} (x_{1} in B), BOOLEAN)\n",
       "   core type: ExprTuple\n",
       "   sub-expressions: 2, 3\n",
       "2. forall_{x_{1}} (x_{1} in B)\n",
       "   core type: Operation\n",
       "   operator: 4\n",
       "   operand: 6\n",
       "3. BOOLEAN\n",
       "   core type: Literal\n",
       "   sub-expressions: \n",
       "4. forall\n",
       "   core type: Literal\n",
       "   sub-expressions: \n",
       "5. (x_{1} -> (x_{1} in B))\n",
       "   core type: ExprTuple\n",
       "   sub-expressions: 6\n",
       "6. x_{1} -> (x_{1} in B)\n",
       "   core type: Lambda\n",
       "   parameter: 10\n",
       "   body: 7\n",
       "7. x_{1} in B\n",
       "   core type: Operation\n",
       "   operator: 8\n",
       "   operands: 9\n",
       "8. in\n",
       "   core type: Literal\n",
       "   sub-expressions: \n",
       "9. (x_{1}, B)\n",
       "   core type: ExprTuple\n",
       "   sub-expressions: 10, 11\n",
       "10. x_{1}\n",
       "    core type: IndexedVar\n",
       "variable: 12\n",
       "index: 14\n",
       "11. B\n",
       "    core type: Variable\n",
       "    sub-expressions: \n",
       "12. x\n",
       "    core type: Variable\n",
       "    sub-expressions: \n",
       "13. (1)\n",
       "    core type: ExprTuple\n",
       "    sub-expressions: 14\n",
       "14. 1\n",
       "    core type: Literal\n",
       "    sub-expressions: "
      ]
     },
     "execution_count": 22,
     "metadata": {},
     "output_type": "execute_result"
    }
   ],
   "source": [
    "forall_in_bool_inst_expr.expr_info()"
   ]
  },
  {
   "cell_type": "code",
   "execution_count": 23,
   "metadata": {},
   "outputs": [],
   "source": [
    "# original\n",
    "# Q1 = Variable('Q1');\n",
    "# Q2 = Variable('Q2');\n",
    "# forall_in_bool_spec_testing = forall_in_bool.instantiate({k:one, l:one, Px:InSet(x, B), QQ:[Q1]})"
   ]
  },
  {
   "cell_type": "code",
   "execution_count": 24,
   "metadata": {},
   "outputs": [
    {
     "data": {
      "text/html": [
       "<span style=\"font-size:20px;\"> <a class=\"ProveItLink\" href=\"../../../../../booleans/quantification/universality/_theory_nbs_/axioms.ipynb#forall_in_bool\" style=\"text-decoration: none\">&nbsp;&#x22A2;&nbsp;&nbsp;</a><a class=\"ProveItLink\" href=\"../../../../../booleans/quantification/universality/__pv_it/axioms/77c76a2482da94c8c8ef22af9f6ecb160f42bda40/expr.ipynb\"><img src=\"data:image/png;base64,iVBORw0KGgoAAAANSUhEUgAAAX8AAAAVBAMAAABccvPcAAAAMFBMVEX///8QEBCIiIhmZma6urrM\n",
       "zMxUVFQiIiJERETc3Nzu7u6qqqp2dnaYmJgyMjIAAAAcRTyBAAAAAXRSTlMAQObYZgAABMBJREFU\n",
       "SMe1l21oHEUYx/+93N7L3u4lHyqlgnIm0Eho08MgBWnkqmC0It3mQ/FDIUdQMX5oT1uMqBxnBXtR\n",
       "pIeICYXaNUKtUdtDOarF4nFXQdJWFxoRJS33wVIUrIfB0LSSOjO7O/t6ex7qA7c3O7v/mec388zs\n",
       "M0BbC11TfGrjGgavoHMjuk4sUQIu7/d99AUgX82gQcuXgtqQMkn6Jzt7Pg6c/Qdi0+S915/ac5+u\n",
       "68gmQDtyDOizxdV1TwCREvUN52jdr8EAUpn8JVVH7S+03fZibt0E9hWV6TqyEx4AJIXU8fc1iA0G\n",
       "MEOntRAMwJ7POEc0TdttL+Y2VgW+SjFdRyalPACxsBZSSK81BkAHlo1wAAAb5HOOymiJtttezG1z\n",
       "hvyqTNeRiT0cQD44mTcAEmUC8B7zTZ6fm5tGG4DFubkPc47KaTaz7cXcDpHf3gymO171P5sAwgGV\n",
       "z4C0nQAkM9Q3XC8WX/bRVe0A3cXiwarjcZ8emi3EPrZKgm1J181ueHtjKnDUeyceqJk3dRPghGqF\n",
       "0MgusjNKaQbwJDDl00jaDhBRECNz//By/TWjlTd1gBZirwl/AaeqTCdW5eeiDQit187H+CGVN28u\n",
       "mwAT1hpYd2stDakGA3iQLedggHCa7QZyDyQjkl7SAVqIfT4my+frA7pOUqUb4ZIwlGv58jy+Ux8x\n",
       "b06ZAAXbIpYukcFI5BhAFCH7Di/sO4u7si4A5LCJlCJZhJp65VodwCVubbEbXCciRn0JtwZQUbRt\n",
       "XwaAcOc1YgYACo+RmibzTdKi/OWP6sP4XFK71PrQvqGyDeACaHdRTe/bArCLgz8DOUuH7lQwAPCH\n",
       "FyBunwEUIhwg3tjFN/c3Dqs4k0pL7hDCuwKZFJwsoV91hJAurt27wZttOCvH0pYOY0obAOFPcrn4\n",
       "fS8VjZgh1GMHyCZZC9Q3TJHPsjw82kcjmlil8pYXIPYOfXNH7bw5LcYiZuKQuieawTOuoGeVjs+A\n",
       "oUuom8nTIIDTJFAHsHAH1tsX8T2OGVjkixifkZbkbdqakp7aVKRPdnsAElto6Vurj7oBQMUCfgN2\n",
       "3+4aRFpp2e8q1+0oH8IRfQZOkh7FVegFfhe+GWvGtfhsDnThbDUBomWeSlSlOomIrqoOQCPycD+6\n",
       "VZE5XUG17gHQg/JVy6ERA4CFM1bI70X3OK7YyvffGue6Y72zw5oOEKWi56lzWfMyqUIcH+gjGWIk\n",
       "FaZRc8UEEJ/e7kjmkFR032Q6OOPYBuGFYvEAAThCF6biBPiJlm66UwlDLDQFLwCtvHhm0VVrpRIs\n",
       "hE5782eeM65RuqoKxBxPJcLfTObtr35g+MbsNmwVkNVnIDzqTiUMl1bcyZxuR6WGxABm1Pjr5oVV\n",
       "flpwb1JWMpfIOb73vDdeOoroo4pfMse3CZtv8Sb2V/A1LS4Ai/4Ag0u2TGzKavfYQm2eAewsC+ux\n",
       "s0QvZVYZUR5392p+uONbllMQvRnFLC89hNAF33TaTDgaNt/CWWwkmzxZJuE8yRz8AbwHGrvRELIS\n",
       "U70UxaaMV2ebD2+7mg+wP0Cs5PXtbrIGvFlAvsWRst9+pBxdKrPzn3USpHODL7V/d6SUSUOD/kfK\n",
       "H4lrVzP4L00OGtr/yf4GGa1t6rYvMiUAAAAASUVORK5CYII=\n",
       "\" style=\"display:inline;vertical-align:middle;\" /></a></span>"
      ],
      "text/plain": [
       "|- forall_{n in NaturalPos} [forall_{P} ([forall_{x_{1}, ..x_{_a}.., x_{n}} P(x_{1}, ..x_{_a}.., x_{n})] in BOOLEAN)]"
      ]
     },
     "execution_count": 24,
     "metadata": {},
     "output_type": "execute_result"
    }
   ],
   "source": [
    "forall_in_bool"
   ]
  },
  {
   "cell_type": "code",
   "execution_count": 25,
   "metadata": {},
   "outputs": [
    {
     "data": {
      "text/html": [
       "<strong id=\"forall_in_bool_spec_testing\">forall_in_bool_spec_testing:</strong> <span style=\"font-size:20px;\"> <a class=\"ProveItLink\" href=\"../../../__pv_it/_proof_subset_eq_is_bool/ef310cbc5781d8d9a9b93510f9d4fbe18d5dacf70/proof.ipynb\" style=\"text-decoration: none\">&nbsp;&#x22A2;&nbsp;&nbsp;</a><a class=\"ProveItLink\" href=\"../../../__pv_it/_proof_subset_eq_is_bool/eb1a9c9f74b20b62acc5af0d427265f426288bb60/expr.ipynb\"><img src=\"data:image/png;base64,iVBORw0KGgoAAAANSUhEUgAAAMMAAAAVBAMAAAAJNkerAAAAMFBMVEX///8QEBBmZmZUVFRERETc\n",
       "3Nzu7u6qqqqYmJgiIiK6urp2dnbMzMwyMjKIiIgAAACRIo6iAAAAAXRSTlMAQObYZgAAAv5JREFU\n",
       "SMe1lV1IVEEUx/+5u9e7u1ddSAz6INGXRLKlNKIit1BLglqjl57SEunFsF6ipzYiCsISDCszXHsI\n",
       "exOJEoOS7CUEXYV6EKWlNyG1/KIP0c6Zu3O/vGo9NHDvnDlnZn4z58ycweQY1ii+GP6upEeBxlZ3\n",
       "Wy8SXN12t9by72Jh9xqkG8u788viKBFz2cpE9snh5jirX3Hzk/v4j/QF24Biqi9Vu/fJBtIWUb8S\n",
       "gcSgUrGD1afZIRHX0WouoIyTUNOlHCh1R2g/gMAMgsmViEgnvnpZnUFDgw2uw/3k4YwcEjzfgHtW\n",
       "hFr56IkuZc5TawlKyEAYNkJcEQj1ZV3dGXcfsPotxyE4b0doJ4yGl+auaQFGJcK0EaK3Vqjnysoe\n",
       "uyO+kAt/spD2y46oN+WsMLRmanZLhGmLdAbaDgo1/ct5x4XdZHxvRRyj9S+JpS7qCC0VsxKzz9C+\n",
       "u5Xs5kaJMG2Rjvbv4kThKRQ6uL5RaDl4V2BFPKBwLIql6rHQ8ppSg80+01EoG6m+KhERa7h77gi1\n",
       "H5nk7yoKbT7w3IrYTJMvsHAtrO8ioCO0beNU9D6HGUPbGEohLDZCeAMxVgdjfmo/pO/6SoQ/xEJ7\n",
       "tQ1hPeOzjEiaCJ9tF16EWe1L9FMkeKppB4Ic5WF9JgfEgkDIdi1QGhcDex02QngoebC6fD8df3IF\n",
       "duqIvZZwawvKVN9QrgNRZEzD10Kbs4a7yLYLtUuoL9PArC4StgjEQI7sQwcRUyp6fou4WhB+46pm\n",
       "0KI7KkgolAjTlhjA63xdnUWu3ECfGtJ30SL7cEM7/+Z+VKOjsH0kZiCU4me64Pk8m1d8lKUxiTBs\n",
       "ZhqkqWl9nvCFhqq4A8EJBHxxbqYUEoHAC5lAUkVpMhKI0yZTl7I1eWtUP94mgtMglSMBeUrSm1bL\n",
       "6W5p0IHAueN7EMWp9kMWhLj1wK7lvtQLVTCbXAXhlsydCKBfvnEt9icJHzat/+yVr46YMB/Ws8N6\n",
       "Ahucafjnh1WlqE22rtvN24r/Uf4AGh7iZKc6NuAAAAAASUVORK5CYII=\n",
       "\" style=\"display:inline;vertical-align:middle;\" /></a></span><br>"
      ],
      "text/plain": [
       "forall_in_bool_spec_testing: |- [forall_{Q1_{1}} (Q1_{1} in B)] in BOOLEAN"
      ]
     },
     "execution_count": 25,
     "metadata": {},
     "output_type": "execute_result"
    }
   ],
   "source": [
    "# new version?\n",
    "Q1 = Variable('Q1');\n",
    "Q2 = Variable('Q2');\n",
    "forall_in_bool_spec_testing = forall_in_bool.instantiate({n:one, Px:InSet(x, B), x:(Q1)})"
   ]
  },
  {
   "cell_type": "code",
   "execution_count": 26,
   "metadata": {},
   "outputs": [],
   "source": [
    "# original; can't seem to relabel now in this way? Even using\n",
    "# a defined IndexedVar(Q1, one)\n",
    "# forall_in_bool_spec_testing.relabel({Q1:Q2})"
   ]
  },
  {
   "cell_type": "code",
   "execution_count": 27,
   "metadata": {},
   "outputs": [],
   "source": [
    "# forall_in_bool_spec_spec = forall_in_bool_spec.instantiate({xx:[x]})"
   ]
  },
  {
   "cell_type": "code",
   "execution_count": 28,
   "metadata": {},
   "outputs": [],
   "source": [
    "# forall_in_bool_spec_spec_spec = forall_in_bool_spec_spec.instantiate({x_iter1l:[x]})"
   ]
  },
  {
   "cell_type": "code",
   "execution_count": 29,
   "metadata": {},
   "outputs": [],
   "source": [
    "# original\n",
    "# subset_eq_def_spec_r_h_s"
   ]
  },
  {
   "cell_type": "code",
   "execution_count": 30,
   "metadata": {},
   "outputs": [
    {
     "data": {
      "text/html": [
       "<a class=\"ProveItLink\" href=\"../../../__pv_it/theorems/da37e6964a74b48aa2408bedce8a776eef733f160/expr.ipynb\"><img src=\"data:image/png;base64,iVBORw0KGgoAAAANSUhEUgAAAHwAAAAUBAMAAAC9l0S6AAAAMFBMVEX///8QEBCIiIhmZma6urrM\n",
       "zMxUVFQiIiJERETc3Nzu7u6qqqp2dnaYmJgyMjIAAAAcRTyBAAAAAXRSTlMAQObYZgAAAgRJREFU\n",
       "OMtjYMALOC/gkeSewMDwAMS4i0vFCqyivPnfjDNaGBgyGRhOg/ivcGl/iV2YsYGBwT6AYR0DwwyQ\n",
       "Extw6OY1wC4eD/STvwEDjwID3wIGBp4NOLSzT0Dm3SgvfwBh6QPF7yswcAkw8J5atWo6LrejSERo\n",
       "wZmNDAxc4kB7nzAw/OjoqMGlXRmIF6lN0VEA0lxIAfSNgSE8C0gfZmBIZWDoRNMF5/cCdR3gLWIH\n",
       "uZkN4RHWb3c1qkGMewwMzgxcD9AC7AuMBVTDs4DnFwtIJwdCAdNPBoaFCUDGdmDwMDDB0gbXHmMQ\n",
       "c/FfmDoRoBgDByReAt8BAcQiDgGgEb9BMQA0/gI7PGh3rgJRp4qRtDMw8CuA2TMQtvMDbWb6BNHO\n",
       "+SAMyDhkqhbAAollVoUOJMcD1QRAkgpqtLOBfOgOCqgUoFkL8tgd+CCSbAzmSEHHvUAfKAtkMyvA\n",
       "tYOiPb4BEnQMmwuANjK8BfoZInmbQR+mDhgx/hv6GeYinAIGDxkYWCRARtrA/QYMzPCOjg5gUnp8\n",
       "pn8BVB3QccuUFtlCgnZZC1Q473+yWQc4oT4FxRNIlPUDK9DVIMC8gGF+ANZE69NejhrFXAVQxnye\n",
       "BzwMPGBdvkD3XCCQZaCABxYcy64cOsXA0A2K0x8MnP21GOkPK1iHymUC+Z2I4oI4wwkVVrwTGABA\n",
       "6n+UZZo/5AAAAABJRU5ErkJggg==\n",
       "\" style=\"display:inline;vertical-align:middle;\" /></a>"
      ],
      "text/plain": [
       "forall_{x in A} (x in B)"
      ]
     },
     "execution_count": 30,
     "metadata": {},
     "output_type": "execute_result"
    }
   ],
   "source": [
    "# new\n",
    "subset_eq_def_inst_rhs"
   ]
  },
  {
   "cell_type": "code",
   "execution_count": 31,
   "metadata": {},
   "outputs": [],
   "source": [
    "# original\n",
    "# subset_eq_def_spec_r_h_s.all_instance_vars()"
   ]
  },
  {
   "cell_type": "code",
   "execution_count": 32,
   "metadata": {},
   "outputs": [
    {
     "data": {
      "text/plain": [
       "[x]"
      ]
     },
     "execution_count": 32,
     "metadata": {},
     "output_type": "execute_result"
    }
   ],
   "source": [
    "# new\n",
    "subset_eq_def_inst_rhs.all_instance_vars()"
   ]
  },
  {
   "cell_type": "code",
   "execution_count": 33,
   "metadata": {},
   "outputs": [],
   "source": [
    "# original\n",
    "# PxNew = Operation(P, [y, *subset_eq_def_spec_r_h_s.all_instance_vars(), z])"
   ]
  },
  {
   "cell_type": "code",
   "execution_count": 34,
   "metadata": {},
   "outputs": [
    {
     "name": "stdout",
     "output_type": "stream",
     "text": [
      "Must implement 'extract_init_arg_value' for the Operation of type <class 'proveit._core_.expression.operation.operation.Operation'> if it does not fall into one of the default cases for 'extract_init_args'\n"
     ]
    },
    {
     "data": {
      "text/plain": [
       "PxNew: y P x P z"
      ]
     },
     "execution_count": 34,
     "metadata": {},
     "output_type": "execute_result"
    }
   ],
   "source": [
    "# new\n",
    "PxNew = Operation(P, [y, *subset_eq_def_inst_rhs.all_instance_vars(), z])"
   ]
  },
  {
   "cell_type": "code",
   "execution_count": 35,
   "metadata": {},
   "outputs": [],
   "source": [
    "# original\n",
    "# subset_eq_def_spec_r_h_s.instance_expr"
   ]
  },
  {
   "cell_type": "code",
   "execution_count": 36,
   "metadata": {},
   "outputs": [
    {
     "data": {
      "text/html": [
       "<a class=\"ProveItLink\" href=\"../../../__pv_it/theorems/458621bff6342e362dd551440bebbe789e1a36680/expr.ipynb\"><img src=\"data:image/png;base64,iVBORw0KGgoAAAANSUhEUgAAADUAAAAPBAMAAAC2KZqIAAAAMFBMVEX///8QEBBmZmaqqqrMzMxE\n",
       "REQyMjIiIiKYmJh2dna6urrc3NxUVFSIiIju7u4AAAA6P00QAAAAAXRSTlMAQObYZgAAANpJREFU\n",
       "GNNjYMACOM7/UToaxYAdMAYwMOg7YJfzb2BgWK+ALNJaXp4AYd3fwMDQfwFJyvUenBnIwMAn/oCB\n",
       "4e2dXTdBSvjyEMr+MDC4nwMKTeCoZQcZxbMBLsXyp+NqMZDmfMD5jwskzIrQxvubgeHhAaA+BtYA\n",
       "sIBjGhBA3MIqAJT/DGLxQxy0FaGPH6iH9y/YMxBPMqJ6j+cXAwPzg/sMvEDnMjAh/APynj/QpvUG\n",
       "8Qw7wCLFcLlEBgYuUaD6N3ffajSARd5EPYBIHft/SCfUADUUV4bDwgwCAHpvO2L/i5h0AAAAAElF\n",
       "TkSuQmCC\n",
       "\" style=\"display:inline;vertical-align:middle;\" /></a>"
      ],
      "text/plain": [
       "x in B"
      ]
     },
     "execution_count": 36,
     "metadata": {},
     "output_type": "execute_result"
    }
   ],
   "source": [
    "# new\n",
    "subset_eq_def_inst_rhs.instance_expr"
   ]
  },
  {
   "cell_type": "code",
   "execution_count": 37,
   "metadata": {},
   "outputs": [],
   "source": [
    "# subset_eq_def_spec_r_h_s.deduce_in_bool()"
   ]
  },
  {
   "cell_type": "code",
   "execution_count": 38,
   "metadata": {},
   "outputs": [
    {
     "data": {
      "text/html": [
       "<span style=\"font-size:20px;\"> <a class=\"ProveItLink\" href=\"../../../__pv_it/_proof_subset_eq_is_bool/ef310cbc5781d8d9a9b93510f9d4fbe18d5dacf70/proof.ipynb\" style=\"text-decoration: none\">&nbsp;&#x22A2;&nbsp;&nbsp;</a><a class=\"ProveItLink\" href=\"../../../__pv_it/_proof_subset_eq_is_bool/77443b21fea00dbee034099d494e28e9548309650/expr.ipynb\"><img src=\"data:image/png;base64,iVBORw0KGgoAAAANSUhEUgAAAJYAAAAUBAMAAACdV9kCAAAAMFBMVEX///8QEBBmZmZUVFRERETc\n",
       "3Nzu7u6qqqqYmJgiIiK6urp2dnbMzMwyMjKIiIgAAACRIo6iAAAAAXRSTlMAQObYZgAAAkdJREFU\n",
       "OMuVlMFLFFEcx7+kOzuz7822UBeDIOoSFLKECxFJI+xWXmoPHapLU4o3ZenmbaGLFIoiFCrF1kHy\n",
       "1CJh0EEW/APcSxFhNOQpwozU6KDZ783Me/N2dyx9MMz8vr/3PvP7/d77PaytoGUkyth7JIvA6HSs\n",
       "6y3q4jWia/3xlAe7507lK8j5q/SRnsjvdFwQ6hthvtd97/YI6ShwaBuDLSzY3Ou/Vyb1hsjK0Tzm\n",
       "iXgU/w2kfoJ5Laz2VDldc0i1XYCVNI9V1OeZvVNPw1S2yPoDI6NY0kesZEmwzIWBgVv66gaDX3PV\n",
       "3wly9zHwUbKUj1hsVrCwmc/P6Mu/0DO0evubJ4xBhcLhLPgkmfOSpXzEmluqCfUiUNBZVwGjaj6z\n",
       "/A3ORfry+bFeUYtRycpF9erYPearL2DUddYTqp/LfqX8smmbsl6EcYTew5LlaLVnI1WhWkg3HE76\n",
       "g4H2YCI//olGoPcIHgW2HLIiH7HgvBQqK1toYlFxvKAFtLg2BMuLWAk9LjhtQk3Ul8hePLtaUznS\n",
       "gtDINBwvXKoAczLHjM7K2r5aoPOfdrutiqp90l0nRRidUafQ8eKbeu07G+J65Kv3x2kWPkgP7fmr\n",
       "0nXcDA6uOsU2hfH8Mn2ckSzls3mVzWd9NajNllxEOfR9Hzod7IfRNRuobZ83TnZdEV8rkiV9UW9T\n",
       "K4hs+A8e20Op17KHwmGMqx5q8skuvcPq7D+9HY6Y3m5i9T1cXJBa4Z+smDunibWPu1D7Uzzr60Hv\n",
       "aJOquRZ7R/8FE96kp5e/H2EAAAAASUVORK5CYII=\n",
       "\" style=\"display:inline;vertical-align:middle;\" /></a></span>"
      ],
      "text/plain": [
       "|- [forall_{x} (x in B)] in BOOLEAN"
      ]
     },
     "execution_count": 38,
     "metadata": {},
     "output_type": "execute_result"
    }
   ],
   "source": [
    "subset_eq_def_inst_rhs.deduce_in_bool()"
   ]
  },
  {
   "cell_type": "code",
   "execution_count": 39,
   "metadata": {},
   "outputs": [],
   "source": [
    "# %qed"
   ]
  },
  {
   "cell_type": "code",
   "execution_count": null,
   "metadata": {},
   "outputs": [],
   "source": []
  }
 ],
 "metadata": {
  "kernelspec": {
   "display_name": "Python 3",
   "language": "python",
   "name": "python3"
  }
 },
 "nbformat": 4,
 "nbformat_minor": 0
}