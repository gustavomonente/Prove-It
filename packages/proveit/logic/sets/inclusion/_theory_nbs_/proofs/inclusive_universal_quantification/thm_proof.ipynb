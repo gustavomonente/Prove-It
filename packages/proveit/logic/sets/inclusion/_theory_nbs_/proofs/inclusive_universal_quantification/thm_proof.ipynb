{
 "cells": [
  {
   "cell_type": "markdown",
   "metadata": {},
   "source": [
    "Proof of <a class=\"ProveItLink\" href=\"../../../../../../_theory_nbs_/theory.ipynb\">proveit</a>.<a class=\"ProveItLink\" href=\"../../../../../_theory_nbs_/theory.ipynb\">logic</a>.<a class=\"ProveItLink\" href=\"../../../../_theory_nbs_/theory.ipynb\">sets</a>.<a class=\"ProveItLink\" href=\"../../theory.ipynb\">inclusion</a>.<a class=\"ProveItLink\" href=\"../../theorems.ipynb#inclusive_universal_quantification\">inclusive_universal_quantification</a> theorem\n",
    "========"
   ]
  },
  {
   "cell_type": "code",
   "execution_count": 1,
   "metadata": {},
   "outputs": [],
   "source": [
    "import proveit\n",
    "theory = proveit.Theory() # the theorem's theory"
   ]
  },
  {
   "cell_type": "code",
   "execution_count": 2,
   "metadata": {},
   "outputs": [
    {
     "data": {
      "text/html": [
       "Under these <a href=\"presumptions.txt\">presumptions</a>, we begin our proof of<br><strong id=\"inclusive_universal_quantification\">inclusive_universal_quantification:</strong> <a class=\"ProveItLink\" href=\"../../../__pv_it/theorems/3a2fa9aef225134247afbd28da63330404d4e3e50/expr.ipynb\"><img src=\"data:image/png;base64,iVBORw0KGgoAAAANSUhEUgAAAYcAAAAWBAMAAADZfU0fAAAAMFBMVEX///8QEBCIiIhmZma6urrM\n",
       "zMxUVFQiIiJERETc3Nzu7u6qqqp2dnaYmJgyMjIAAAAcRTyBAAAAAXRSTlMAQObYZgAABUtJREFU\n",
       "WMPNV1tsVEUY/rr3y9ltH3xSHzY0sYRAu5FYElLKRh/kQewGE8JbN0QIJigbJPECSr1kPVWxS2Kw\n",
       "0WiPaCzUBDb6QHzRldaoUMkqiQlecA0SQx+g6Y2yovjPP+ecPbM3iquJk5yd/8z8+83/zX85M0Dz\n",
       "7W24LieXohgsyD6cBc7vqZ7vvHgrKJ8Akd8TokNRvP/cDIfQALREVEiRQk2FyK7F7Y+tJeGINfII\n",
       "PRPVihONUPD9jcz2C0YZxUdboSW4Oy3ep5ohEc0SlpYTklFbo5V26jmau2QNHKtDoiEK/gICt5dR\n",
       "QkUmIbph4aCBZkicFVgMMVxHoz8PfBZDJG4NaLHaJBqieK9TIM44UE4yCdEJ3rwB/7g9xVjCmafr\n",
       "aHTRUl15+LN2BLY5SQSs8YmGKK45eq47UN6VJKiLnBobe6MZDsE0Y/00NnY0XUdliJ5dCTiW+c1J\n",
       "wjtgk2iEEpimPJhzoEQTTII6LOr6vmZIuOJMolXXX8rXD+bgLNBO4uG7Xl9JsTSuhNNZm0QjFJFZ\n",
       "I3GBEmqP4aABLc4kqMM2YJCV5O+G2fEd7LANC+MZTjFPldvhGerpHrRGC7JIJB3zqr4I5hNk2gFa\n",
       "Ph/Z7Sdjzpsk1jwh2v64RaIKxTaHMyu8j1E0Txu6KIiKTII63Mf5TfKcrIdt0NosgT0bsAB/SWCL\n",
       "rh8Q4rfA5+aoP8ckPHGuOc5G+tJXC5PjK6jfS4qGVvKQUSfUxP40Z5KoQrHNoazaOXm3wShvuYvQ\n",
       "KcvTTII6+OHiwvzen6zqTiFc4jKcgmvaSSK0nvXCIoK7qdyYlbAlIfMrjVXWyh+OryvrE0BJ9rfR\n",
       "GAKcAP0qidCvCUmiCsU2hzLLsFCMlhhmyMPTvDB10Ap+njz1uNzYGNzsGX/BXNAioY1Kr2+mZzfQ\n",
       "C5XEN7AyMvLKm4ZDH61pmwS9xGqQOPS16YkqFNsc4GoZpc/wziskgsXNHLgxnXWOJ9HJlI9n0WE4\n",
       "SWySnOAzEJqHa0oNJ7zjTZHQvmkbBaiij36TzF5+4QPK/SaJ3svcLlk5IVHuTeFpE8U2B97ZMkov\n",
       "XBRjHhlOHkF78GE2DWtYp2/V8pQUTk7KSLVIpNxykyKUADPfZaAmNgKH6GeFr7gHRVWfPxOiUTaF\n",
       "jS64jHJiy/agXZ0kSr7kbTNRbHP4M2GiIINASklsfMxr/SjyndoZoMMS4CQRyckUgSsJrQiX5XZN\n",
       "lliExSYkowWE4qo+rpjZQ3W1LzdE50Wgx0kiNFUmIVCC76ddAyaKbQ6iJRuFUrKPts6d54XdeStK\n",
       "QxcmZeK8SsWYPfBCBYljPV+VrPdAHsE/rHIrP3YQqUZgWXif1PXnHfq9N7ZKTYqhD5YdXifS/aKT\n",
       "hC9ZJsEo7rwvZqLY5rivLMQsFIJZTyUumpQfO/H3iDDebWCEsci2vqwpKCTWIjjPwkdkag6ea+qx\n",
       "A/hBZmwSKVXfbo5jR9pJIggHCYHiT7RYKLY5FSiirIzKhUftqY1kWSH4MoIlBO8ECd5rKgkPbSAX\n",
       "4YfIzyMGDuaVA6BpzvQZ5PGFou+o+Tc9AFp2JvsgUaQ5lSi+YmhOOQCahi4iOPSM9w58Obt6RwIk\n",
       "dM5mFRJDAxi+WtiiZwhc27+6+0Xnh9kiEXr0gZUGAjlbX11/8GZHcStCt74GiSLNqUTxFwIx5Siu\n",
       "tHCV4PxiN7oUKSPLRTTXaEecbBqQOMolqD6KZ9k95qmGFq487PBVTxWWQEJcT5+9petphNbtrHE9\n",
       "7TCvpzs9xSWgnKNCSdfTc5XzhSqhggSdnfQM/uu2cfJfh3Tj/97+BktyspYFM7ljAAAAAElFTkSu\n",
       "QmCC\n",
       "\" style=\"display:inline;vertical-align:middle;\" /></a><br>(see <a class=\"ProveItLink\" href=\"../../../__pv_it/theorems/ea336cf8ea2bbc9d85ac69d7bce251f22c233cd10/dependencies.ipynb\">dependencies</a>)<br>"
      ],
      "text/plain": [
       "inclusive_universal_quantification: forall_{A, B, P | A superset_eq B} ([forall_{x in A} P(x)] => [forall_{y in B} P(y)])"
      ]
     },
     "execution_count": 2,
     "metadata": {},
     "output_type": "execute_result"
    }
   ],
   "source": [
    "%proving inclusive_universal_quantification"
   ]
  },
  {
   "cell_type": "code",
   "execution_count": null,
   "metadata": {},
   "outputs": [],
   "source": []
  }
 ],
 "metadata": {
  "kernelspec": {
   "display_name": "Python 3",
   "language": "python",
   "name": "python3"
  }
 },
 "nbformat": 4,
 "nbformat_minor": 0
}