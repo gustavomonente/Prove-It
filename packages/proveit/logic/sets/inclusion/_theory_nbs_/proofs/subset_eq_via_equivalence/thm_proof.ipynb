{
 "cells": [
  {
   "cell_type": "markdown",
   "metadata": {},
   "source": [
    "Proof of <a class=\"ProveItLink\" href=\"../../../../../../_theory_nbs_/theory.ipynb\">proveit</a>.<a class=\"ProveItLink\" href=\"../../../../../_theory_nbs_/theory.ipynb\">logic</a>.<a class=\"ProveItLink\" href=\"../../../../_theory_nbs_/theory.ipynb\">sets</a>.<a class=\"ProveItLink\" href=\"../../theory.ipynb\">inclusion</a>.<a class=\"ProveItLink\" href=\"../../theorems.ipynb#subset_eq_via_equivalence\">subset_eq_via_equivalence</a> theorem\n",
    "========"
   ]
  },
  {
   "cell_type": "code",
   "execution_count": 1,
   "metadata": {},
   "outputs": [],
   "source": [
    "import proveit\n",
    "theory = proveit.Theory() # the theorem's theory"
   ]
  },
  {
   "cell_type": "code",
   "execution_count": 2,
   "metadata": {},
   "outputs": [
    {
     "data": {
      "text/html": [
       "Under these <a href=\"presumptions.txt\">presumptions</a>, we begin our proof of<br><strong id=\"subset_eq_via_equivalence\">subset_eq_via_equivalence:</strong> <a class=\"ProveItLink\" href=\"../../../__pv_it/theorems/616c1e3b5e5900446c62b0572c84d1717b01474b0/expr.ipynb\"><img src=\"data:image/png;base64,iVBORw0KGgoAAAANSUhEUgAAALkAAAAWCAMAAACrOc1VAAAAM1BMVEX///8/Pz8QEBCIiIhmZma6\n",
       "urrMzMxUVFQiIiJERETc3Nzu7u6qqqp2dnaYmJgyMjIAAAAtmB3VAAAAAXRSTlMAQObYZgAAAnhJ\n",
       "REFUSMfNV1mW4yAM9LAYxKr7n7YNmCAMOP06057RR55xKCiVFvC2/QMz4TO8M+k3vsYhPETcAh3t\n",
       "8RuQoBCVEApApqFK1L2r/0b7EPNouhEOLHWxnb5lxV2B6a1N3poqgIGHiAfRjSJ2ipnozQS0Y8kI\n",
       "iRntOZG6if/Lpikz6wSadUBexs9ZAXmGsfTsbTKjnyrPbqNwcJJkLBb6ASuOMl2EjgmEkEz7h5hz\n",
       "mizSbg5pZ1jphyrnjFY1Q9IqKlcCkCjRZwko/FHU9NWoyCTEE2CZS4hamTKYk4CoOfEdVQgctGvl\n",
       "kbYQtVrr2y5+IcfJM7L3UHMoZ5U4AIuqrtfAoFg1zCHNLaueOV0jxJsSVnTxE3myIx3gunoFSBCG\n",
       "BGUElvbWvNyPFi0UwvtsOdP88MDVIGRZQofwVtNU1DmYIq41PwESZCiC+gXwyrw8MTrD85s0T8w5\n",
       "ZW7i4X0Tgm9AuNnc+jk9pi7MKyAnHXh7xm8CvGTL+aC7fIrupptvqual1GeBqSbE4YMgEZDIj9Lo\n",
       "CufCvAKKGp4xsQL2FWrc7BC1Skm76ub7K7NCCZQjVINLE0n48hSul8wbQOX2Cn8gk5sAWz+jfR36\n",
       "o2jbPVxP/1jCIhlUp8TZxFtjslF4D7Qc8xSDbsF8ANwASZwtIOZEcsdDV1ejqVivW22teLoVXhsL\n",
       "m7dr7padJdWlYz4AboCT0/+n180hlLIkYSoIA4VT/mV+kS0EcGhTLcyBsxvXz2xoQZArwADqsO3s\n",
       "EM1rTC0X5KJCKaBfega8OXEbrtm+lvzNnX51efz0Omw/vk+D+cY30y8w//hrLryplOXyT32C/H0T\n",
       "/wWLL9OTGJuySRYvAAAAAElFTkSuQmCC\n",
       "\" style=\"display:inline;vertical-align:middle;\" /></a><br>(see <a class=\"ProveItLink\" href=\"../../../__pv_it/theorems/ce3b4055c5f3b6ed0f2dca8b14c12ffcd3c88ba20/dependencies.ipynb\">dependencies</a>)<br>"
      ],
      "text/plain": [
       "subset_eq_via_equivalence: forall_{A, B | A equiv B} (A subset_eq B)"
      ]
     },
     "execution_count": 2,
     "metadata": {},
     "output_type": "execute_result"
    }
   ],
   "source": [
    "%proving subset_eq_via_equivalence"
   ]
  },
  {
   "cell_type": "code",
   "execution_count": null,
   "metadata": {},
   "outputs": [],
   "source": []
  }
 ],
 "metadata": {
  "kernelspec": {
   "display_name": "Python 3",
   "language": "python",
   "name": "python3"
  }
 },
 "nbformat": 4,
 "nbformat_minor": 0
}