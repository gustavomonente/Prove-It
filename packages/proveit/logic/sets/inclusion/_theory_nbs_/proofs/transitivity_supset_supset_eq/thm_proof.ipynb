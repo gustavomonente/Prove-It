{
 "cells": [
  {
   "cell_type": "markdown",
   "metadata": {},
   "source": [
    "Proof of <a class=\"ProveItLink\" href=\"../../../../../../_theory_nbs_/theory.ipynb\">proveit</a>.<a class=\"ProveItLink\" href=\"../../../../../_theory_nbs_/theory.ipynb\">logic</a>.<a class=\"ProveItLink\" href=\"../../../../_theory_nbs_/theory.ipynb\">sets</a>.<a class=\"ProveItLink\" href=\"../../theory.ipynb\">inclusion</a>.<a class=\"ProveItLink\" href=\"../../theorems.ipynb#transitivity_supset_supset_eq\">transitivity_supset_supset_eq</a> theorem\n",
    "========"
   ]
  },
  {
   "cell_type": "code",
   "execution_count": 1,
   "metadata": {},
   "outputs": [],
   "source": [
    "import sys\n",
    "sys.path.append('..') # allows access to modules in parent theory\n",
    "import proveit"
   ]
  },
  {
   "cell_type": "code",
   "execution_count": 2,
   "metadata": {},
   "outputs": [
    {
     "data": {
      "text/html": [
       "Under these <a href=\"presumptions.txt\">presumptions</a>, we begin our proof of<br><strong id=\"transitivity_supset_supset_eq\">transitivity_supset_supset_eq:</strong> <a class=\"ProveItLink\" href=\"../../../__pv_it/theorems/5d936c11432f3e52de2b7edba386b315fd5721d50/expr.ipynb\"><img src=\"data:image/png;base64,iVBORw0KGgoAAAANSUhEUgAAAPcAAAAWBAMAAADuuhdHAAAAMFBMVEX///8QEBCIiIhmZma6urrM\n",
       "zMxUVFQiIiJERETc3Nzu7u6qqqp2dnaYmJgyMjIAAAAcRTyBAAAAAXRSTlMAQObYZgAAA3VJREFU\n",
       "SMe1Vl1IFFEU/tofdWZn1PeitofIgtJYsAhJQ4gIQjOw1wULTAosH7RI3KhklGK3p4R+nPBBW/oR\n",
       "fNGX2oz+LGr6AyMqq6d8KTTJLKtzz90ZZ1etiPXC3HN/zr3fud8959wBFqqc/8v8AH0jovE689hq\n",
       "hIV/ZI6pgpr9SiIrBjwQ3dHMg+fGpPg8e2q5hcA6SyWzOqinRDIP/kyKN1OzZnoOU1UawyCZZgJa\n",
       "b+bBD0mG+76x3NXY2HgqOfOOELEZuAjoQ/H4mcxjK/UsdM8XZ+jcRxbe76LeSccuAyYN40jmwT1F\n",
       "LLYFpmfG5Bk72axLxDep7AHaeFTWW8dv1Upf0VtLPKLlsxfnxOyWL1pSnK4uynBNYlVS12LWy/xj\n",
       "M+ABNuhxMNnVyePKoXI46JIgPR9aPhP3HupR3sde/LbM2ecJcHNG3W8YhgC7EERPvlTIZjfyQRl3\n",
       "0cFnbqm0baFuNjxsZZckyBtGgD20k6CG3eBqqYWuUOiFaBcDN8wU9X4yl8zXk4GziA2tDhVPusD3\n",
       "imoZr6PKT1GoWdk8M9QgTQ7Cy0wIR6hyg2vdRVDj8XJB3kFgU6q6P4zsBImgG5yqpS7wdj45n7pS\n",
       "gisj1bw4aLDCtUqsFbZ5xHnibvCqHHmqciJhAp7RFHWgDoXUUE0X7QH6DqTTXipcRBN3Irptu8VY\n",
       "FtazQsWagjCvdhKPDR72yvDRKuEbe9qKFHXgOZpcOOxwZ+n75IqABF+n4GYo6XDo4z1foZA1HgEr\n",
       "hcxLpIHrvR6ZKn1BaCPw1KeoAyvwwwUu4ohjPToTC9eln5Fv9Ql+vAIhT5iifngYZcZOkm2CMnGB\n",
       "quUCv1pyT6ZKJYGcBBTOFY46EGEvuWIHYz3U6E8T/b8abH/dUicbXa017BC5wu11NsNEJ8cA7Vkh\n",
       "jPVG5M044BuhTCQpQF4vfDJv2uoIBLGBRCI1vdqF0mvT7bQ81O20thMDltIOZQrKEnpuTDRDve8C\n",
       "9xEL03a/08RpOryjTv4aIrIsXI6lPSx/KIPOvU5CiTb7F+PueKiWSNnRC61m0HSBRyPo+CquQTkB\n",
       "rSVUfJwAbXVKMvsEbXdKVmN2OpzvwU9/6QNOy/XO5bifQ8M4Zs6hPu/PxPxllnUDzraxucHnUf+f\n",
       "36iX6QOW3dDxL+C2usjtRnhB/gS9C/aP+RunuOsU8/H3vwAAAABJRU5ErkJggg==\n",
       "\" style=\"display:inline;vertical-align:middle;\" /></a><br>(see <a class=\"ProveItLink\" href=\"../../../__pv_it/theorems/e921264e5e7938eeed20f06c18536da1486a8b630/dependencies.ipynb\">dependencies</a>)<br>"
      ],
      "text/plain": [
       "transitivity_supset_supset_eq: forall_{A, B, C | A proper_superset B, B supseteq C} (A proper_superset C)"
      ]
     },
     "execution_count": 2,
     "metadata": {},
     "output_type": "execute_result"
    }
   ],
   "source": [
    "%proving transitivity_supset_supset_eq"
   ]
  },
  {
   "cell_type": "code",
   "execution_count": null,
   "metadata": {},
   "outputs": [],
   "source": []
  }
 ],
 "metadata": {
  "kernelspec": {
   "display_name": "Python 3",
   "language": "python",
   "name": "python3"
  }
 },
 "nbformat": 4,
 "nbformat_minor": 0
}