{
 "cells": [
  {
   "cell_type": "markdown",
   "metadata": {},
   "source": [
    "Proof of <a class=\"ProveItLink\" href=\"../../../../../../_theory_nbs_/theory.ipynb\">proveit</a>.<a class=\"ProveItLink\" href=\"../../../../../_theory_nbs_/theory.ipynb\">logic</a>.<a class=\"ProveItLink\" href=\"../../../../_theory_nbs_/theory.ipynb\">sets</a>.<a class=\"ProveItLink\" href=\"../../theory.ipynb\">inclusion</a>.<a class=\"ProveItLink\" href=\"../../theorems.ipynb#subset_eq_reflexive\">subset_eq_reflexive</a> theorem\n",
    "========"
   ]
  },
  {
   "cell_type": "code",
   "execution_count": 1,
   "metadata": {},
   "outputs": [],
   "source": [
    "import proveit\n",
    "from proveit import A, B, x\n",
    "from proveit.logic.sets.inclusion import fold_subset_eq\n",
    "theory = proveit.Theory() # the theorem's theory"
   ]
  },
  {
   "cell_type": "code",
   "execution_count": 2,
   "metadata": {},
   "outputs": [
    {
     "data": {
      "text/html": [
       "Under these <a href=\"presumptions.txt\">presumptions</a>, we begin our proof of<br><strong id=\"subset_eq_reflexive\">subset_eq_reflexive:</strong> <a class=\"ProveItLink\" href=\"../../../__pv_it/theorems/2f0043d298751dba99884bff4c0d249e0c203e340/expr.ipynb\"><img src=\"data:image/png;base64,iVBORw0KGgoAAAANSUhEUgAAAGwAAAAUBAMAAACaOcVSAAAAMFBMVEX///8QEBCIiIhmZma6urrM\n",
       "zMxUVFQiIiJERETc3Nzu7u6qqqp2dnaYmJgyMjIAAAAcRTyBAAAAAXRSTlMAQObYZgAAAcRJREFU\n",
       "OMuFVDtLA0EQ/oyJyV1yml8g+QcJBLRQMGAhCEKqlEbwhZURi0NQSJlUl05BxAMtJIIIFtoJWijR\n",
       "4sBSlIDaBEHRgFHwMfuI7GLUgb1vd76b2XndAS1kDX9KuARU2eZKU5t5DoFqK5tRWjPAGdvXNKaz\n",
       "JOBRHK1p27bTTfKB1g6wQmDkNbMLAddvHIz7ksJZDy4QiaGTwa5mtiBC3XtV75ayPUBHMwqrUi4v\n",
       "a1ZGTvj11Tn2aaQXT9HzFmgUCosa40twGA6/c8ypnN899AiOgUmgyFVFSYU8HmMq8MTvHlPNNpGN\n",
       "sbSBQZi80lZdUkGeqR/Gs9INKSmss1j26S34uPuNd0m1seiRSfY0fgQZGE/OMjdZKqMX5KrKvGZG\n",
       "j25+PFJTI7YqzIxqhjuKFdQgw7TmRAOU7tA2GCUcYqWYYJoO9KolWZUDQclNDX+3ZlfODpUEezz6\n",
       "S8QlGUnI3jmi0YHT5nCx/obYEPTT6mIlNW/OHVcmkIPpfLg4+JzXp3jrs4aw80Je71jl2evtLtbT\n",
       "2nD9IeZ3dUfoVk8f5d8lEmuWoQHDWWoetOE9sW31w4H4cFrFkP/ntmJr9T8/BauEL2dybp5wiLXZ\n",
       "AAAAAElFTkSuQmCC\n",
       "\" style=\"display:inline;vertical-align:middle;\" /></a><br>(see <a class=\"ProveItLink\" href=\"../../../__pv_it/theorems/81bb73785686f868280f5cf3bf26690a9dd5b0720/dependencies.ipynb\">dependencies</a>)<br>"
      ],
      "text/plain": [
       "subset_eq_reflexive: forall_{A} (A subseteq A)"
      ]
     },
     "execution_count": 2,
     "metadata": {},
     "output_type": "execute_result"
    }
   ],
   "source": [
    "%proving subset_eq_reflexive"
   ]
  },
  {
   "cell_type": "code",
   "execution_count": 3,
   "metadata": {},
   "outputs": [
    {
     "data": {
      "text/html": [
       "<table><tr><th>&nbsp;</th><th>step type</th><th>requirements</th><th>statement</th></tr>\n",
       "<tr><td><a name=\"-0x76f3ff3720625f4e_step0\">0</a></td><td>generalizaton</td><td><a href=\"#-0x76f3ff3720625f4e_step1\">1</a></td><td><span style=\"font-size:20px;\"> <a class=\"ProveItLink\" href=\"../../../__pv_it/_proof_subset_eq_reflexive/26f914799b43864443b670ccc6cf78de01fd552c0/proof.ipynb\" style=\"text-decoration: none\">&nbsp;&#x22A2;&nbsp;&nbsp;</a><a class=\"ProveItLink\" href=\"../../../__pv_it/theorems/2f0043d298751dba99884bff4c0d249e0c203e340/expr.ipynb\"><img src=\"data:image/png;base64,iVBORw0KGgoAAAANSUhEUgAAAGwAAAAUBAMAAACaOcVSAAAAMFBMVEX///8QEBCIiIhmZma6urrM\n",
       "zMxUVFQiIiJERETc3Nzu7u6qqqp2dnaYmJgyMjIAAAAcRTyBAAAAAXRSTlMAQObYZgAAAcRJREFU\n",
       "OMuFVDtLA0EQ/oyJyV1yml8g+QcJBLRQMGAhCEKqlEbwhZURi0NQSJlUl05BxAMtJIIIFtoJWijR\n",
       "4sBSlIDaBEHRgFHwMfuI7GLUgb1vd76b2XndAS1kDX9KuARU2eZKU5t5DoFqK5tRWjPAGdvXNKaz\n",
       "JOBRHK1p27bTTfKB1g6wQmDkNbMLAddvHIz7ksJZDy4QiaGTwa5mtiBC3XtV75ayPUBHMwqrUi4v\n",
       "a1ZGTvj11Tn2aaQXT9HzFmgUCosa40twGA6/c8ypnN899AiOgUmgyFVFSYU8HmMq8MTvHlPNNpGN\n",
       "sbSBQZi80lZdUkGeqR/Gs9INKSmss1j26S34uPuNd0m1seiRSfY0fgQZGE/OMjdZKqMX5KrKvGZG\n",
       "j25+PFJTI7YqzIxqhjuKFdQgw7TmRAOU7tA2GCUcYqWYYJoO9KolWZUDQclNDX+3ZlfODpUEezz6\n",
       "S8QlGUnI3jmi0YHT5nCx/obYEPTT6mIlNW/OHVcmkIPpfLg4+JzXp3jrs4aw80Je71jl2evtLtbT\n",
       "2nD9IeZ3dUfoVk8f5d8lEmuWoQHDWWoetOE9sW31w4H4cFrFkP/ntmJr9T8/BauEL2dybp5wiLXZ\n",
       "AAAAAElFTkSuQmCC\n",
       "\" style=\"display:inline;vertical-align:middle;\" /></a></span></td></tr>\n",
       "<tr><td><a name=\"-0x76f3ff3720625f4e_step1\">1</a></td><td>instantiation</td><td><a href=\"#-0x76f3ff3720625f4e_step2\">2</a>, <a href=\"#-0x76f3ff3720625f4e_step3\">3</a></td><td><span style=\"font-size:20px;\"> <a class=\"ProveItLink\" href=\"../../../__pv_it/_proof_subset_eq_reflexive/14d328a1c40a5af433a326a7031bc25555452d1d0/proof.ipynb\" style=\"text-decoration: none\">&nbsp;&#x22A2;&nbsp;&nbsp;</a><a class=\"ProveItLink\" href=\"../../../__pv_it/theorems/2ef540aa2a8a2f4b30cc3cb36074ffc8ccb79b2c0/expr.ipynb\"><img src=\"data:image/png;base64,iVBORw0KGgoAAAANSUhEUgAAADsAAAARBAMAAACRPMnQAAAAMFBMVEX///92dnYiIiIQEBBERERU\n",
       "VFS6urqIiIjc3NxmZmaqqqru7u6YmJgyMjLMzMwAAADiRdoGAAAAAXRSTlMAQObYZgAAALBJREFU\n",
       "KM9jYACBtwzYAFz0PpTmCVJSUnqAIXp/A5jmuNiApBkmyrBrPkSYF1kWLspwoD4BTM9CsRomyrZh\n",
       "/QEwQwFZFi66jeF9AdjqAGRpmChDAkP/BBDN7YAsDRPli5wZ74BhOFyUjYGB+QJYSBzZapjoAgYG\n",
       "JgOIxxYgpGGiHEAG7wewEHdoNkwWLtoExCw/oBaKwAIVJrrl/20GLv9PE1BjA7soRUBISQk5QoEA\n",
       "ACxSOHcnMr6fAAAAAElFTkSuQmCC\n",
       "\" style=\"display:inline;vertical-align:middle;\" /></a></span></td></tr>\n",
       "<tr><td>&nbsp;</td><td colspan=4 style=\"text-align:left\"><span style=\"font-size:20px;\"><a class=\"ProveItLink\" href=\"../../../../../../__pv_it/common/09585084922504426caf1db2ff588a23a0932a960/expr.ipynb\"><img src=\"data:image/png;base64,iVBORw0KGgoAAAANSUhEUgAAAA8AAAAOBAMAAAACpFvcAAAALVBMVEX///8iIiIQEBBERERUVFS6\n",
       "urqIiIjc3NxmZmaqqqru7u6YmJgyMjLMzMwAAACK9jtgAAAAAXRSTlMAQObYZgAAAFtJREFUCNdj\n",
       "YACBOwxQcA5Kc59bAGGs7CuAMDbkBYBp1gXzNoAZSxnuJYAZAQx1DSCa16PDzwCshIGB6QCIMYGB\n",
       "gVEBSLMDGTwPgIxCIGZ+zsCw+N0pBk67hw0AfpEVEQi8t+wAAAAASUVORK5CYII=\n",
       "\" style=\"display:inline;vertical-align:middle;\" /></a> : <a class=\"ProveItLink\" href=\"../../../../../../__pv_it/common/09585084922504426caf1db2ff588a23a0932a960/expr.ipynb\"><img src=\"data:image/png;base64,iVBORw0KGgoAAAANSUhEUgAAAA8AAAAOBAMAAAACpFvcAAAALVBMVEX///8iIiIQEBBERERUVFS6\n",
       "urqIiIjc3NxmZmaqqqru7u6YmJgyMjLMzMwAAACK9jtgAAAAAXRSTlMAQObYZgAAAFtJREFUCNdj\n",
       "YACBOwxQcA5Kc59bAGGs7CuAMDbkBYBp1gXzNoAZSxnuJYAZAQx1DSCa16PDzwCshIGB6QCIMYGB\n",
       "gVEBSLMDGTwPgIxCIGZ+zsCw+N0pBk67hw0AfpEVEQi8t+wAAAAASUVORK5CYII=\n",
       "\" style=\"display:inline;vertical-align:middle;\" /></a>, <a class=\"ProveItLink\" href=\"../../../../../../__pv_it/common/a9162d1c3cc0470c02e5daf414500903a7a419230/expr.ipynb\"><img src=\"data:image/png;base64,iVBORw0KGgoAAAANSUhEUgAAABAAAAAOBAMAAADUAYG5AAAALVBMVEX///8yMjKqqqoiIiLu7u7c\n",
       "3NyIiIjMzMwQEBC6urpERERmZmZUVFSYmJgAAACsPVCVAAAAAXRSTlMAQObYZgAAAGxJREFUCNdj\n",
       "YGC48+70nlUTGICgi4GB+zmQZn/LwMD5Gshge8rAwPsMyOBqYGDwMAEy+A4wsNs4ABl1Z68tVgBp\n",
       "ygtgYOkBMVaAOCChNyBGAsQYhnMTIMawvwJyGIHGzFjCwMAj92b3qUUMDAAXABxvZ4rl5AAAAABJ\n",
       "RU5ErkJggg==\n",
       "\" style=\"display:inline;vertical-align:middle;\" /></a> : <a class=\"ProveItLink\" href=\"../../../../../../__pv_it/common/09585084922504426caf1db2ff588a23a0932a960/expr.ipynb\"><img src=\"data:image/png;base64,iVBORw0KGgoAAAANSUhEUgAAAA8AAAAOBAMAAAACpFvcAAAALVBMVEX///8iIiIQEBBERERUVFS6\n",
       "urqIiIjc3NxmZmaqqqru7u6YmJgyMjLMzMwAAACK9jtgAAAAAXRSTlMAQObYZgAAAFtJREFUCNdj\n",
       "YACBOwxQcA5Kc59bAGGs7CuAMDbkBYBp1gXzNoAZSxnuJYAZAQx1DSCa16PDzwCshIGB6QCIMYGB\n",
       "gVEBSLMDGTwPgIxCIGZ+zsCw+N0pBk67hw0AfpEVEQi8t+wAAAAASUVORK5CYII=\n",
       "\" style=\"display:inline;vertical-align:middle;\" /></a>, <a class=\"ProveItLink\" href=\"../../../../../../__pv_it/common/a0d9d672aa5e272d907247690c152cc2c6daafb70/expr.ipynb\"><img src=\"data:image/png;base64,iVBORw0KGgoAAAANSUhEUgAAAAsAAAAJBAMAAAAWSsseAAAALVBMVEX///9mZmaqqqrMzMxEREQy\n",
       "MjIiIiKYmJh2dna6urrc3NxUVFSIiIju7u4AAACJHQtQAAAAAXRSTlMAQObYZgAAAEJJREFUCNdj\n",
       "YLhzeuWJAwy8Dew5bAEMHBc43nIuYOBlYHFgAAG+A2DKzgBIMF04x8BzgWGegh/DcgaG22fuiBcw\n",
       "AAATyhBrnyPYZQAAAABJRU5ErkJggg==\n",
       "\" style=\"display:inline;vertical-align:middle;\" /></a> : <a class=\"ProveItLink\" href=\"../../../__pv_it/_proof_subset_eq_reflexive/006c465e50948aa2b52285e2de47974f741255cc0/expr.ipynb\"><img src=\"data:image/png;base64,iVBORw0KGgoAAAANSUhEUgAAABgAAAAJBAMAAADa0/H1AAAAMFBMVEX///9UVFSqqqrMzMwiIiKY\n",
       "mJgyMjIQEBCIiIh2dnZmZmbc3Nzu7u5ERES6uroAAACFTSmKAAAAAXRSTlMAQObYZgAAAElJREFU\n",
       "CNdjYICCXbPaD8DYfNUM+TA2w/EAhrVwzvoDDB5wTi0Dz2cYm+cnA9MHOOcTA2OCNox3gyFEYALD\n",
       "27tAcIDhYIe1xAMAoVgVdfU81nAAAAAASUVORK5CYII=\n",
       "\" style=\"display:inline;vertical-align:middle;\" /></a></span></td></tr><tr><td><a name=\"-0x76f3ff3720625f4e_step2\">2</a></td><td>theorem</td><td></td><td><span style=\"font-size:20px;\"> <a class=\"ProveItLink\" href=\"../fold_subset_eq/thm_proof.ipynb\" style=\"text-decoration: none\">&nbsp;&#x22A2;&nbsp;&nbsp;</a><a class=\"ProveItLink\" href=\"../../../__pv_it/theorems/b410f7e6f7fbf9c617ef0e33526c9102d576c3ba0/expr.ipynb\"><img src=\"data:image/png;base64,iVBORw0KGgoAAAANSUhEUgAAAO8AAAAWBAMAAADaw9ZbAAAAMFBMVEX///8QEBCIiIhmZma6urrM\n",
       "zMxUVFQiIiJERETc3Nzu7u6qqqp2dnaYmJgyMjIAAAAcRTyBAAAAAXRSTlMAQObYZgAAA4VJREFU\n",
       "SMe1VltIFFEY/prd1Z3Z2dW3AiP2qSKyhM3tRWohEOmC+5Q9VC5kYD6YJbFFRUZSYwW7vVQQ5YhQ\n",
       "4YtGEQlCthWSRWwXoqhso6eKSLREjbL/nDOzM3vJLmwH5vzzn9v3z3e+/5wB/kc5/5v+fnpS7OV1\n",
       "YXGVNm5cqZwe786JQGM7iuLAfeZ/KCywLy7MqOE/i0aje8TrHIppdVihkM6SJ7cVFviJMCPTwl64\n",
       "Z3XVJ4HaCiQoLB1Q+woLvE8QfnVKuO9tXcuJjDd+dBHrwz09ZwqLK7eI/ZS+cOuwf9ZhCmiuDl8I\n",
       "mNS0A/+wejynJWy+SBXcrPV857bYPmgCqGsijmnIdqCDt4m6Zvx2I1/UOSuuanecsapgB66ZrjvJ\n",
       "mQ65xrh72jbSNfF68X7GBqlrDRQue68gxlsKtZRP5zSRAoryAe/I8B4Bt+AwSSjuE4HL49y9bBso\n",
       "0bZ3RQBPC2NC4hF2C2IcEXim08CuwcyI05EPmik7EKDZQeCmrkSMtjkhVm8MBCdzqHbTN0nfaD5l\n",
       "mpoUPcOtYpgfjlQaGJRolXmAi8wNfd7fQ/VuYJWlXgFM1QKxK35rXgkFJ40JYDm1kX+DX+NdvWEs\n",
       "0y3gEU3Ll+Qs1kTlwrCT60j5ConOoHI71R56dgn/Y2YaF9GeOpnwOxr4N2Al76otXywocxu1NyPJ\n",
       "B4ShBJT05uKQT4hr7PFRMtft4jpHz2fhX2zQ7Wlc3ybEhas87V5iOe96CCyyAathd8YpvFfYGqII\n",
       "n0gYYlAKUgtvFG6FkcsxQ26bj5lH5luKch6F4WAaKWF7oLx7EONxnQQ6+yxgJbLeON4DAbbmFeFV\n",
       "s4oUWqdpmh/uQcikmK1mdrVAif3QcWOmNWuHmme2BTW2uo9pxKuLvOnkgqEFauMWMJqaIC8tj+Au\n",
       "99b1CtY2MVWMuoxUK+mDc8qIxjoyZyuX0m8baHpSPg55GvJ8G9WopvRytg0qQpoVQrFsYqeaUmkn\n",
       "mNep4xRx9yrrkpilJNL5NQk5dtBVhqHxQGPIDlxMS0t+OI8wqtWqoaRo1XHxaWIYOMH4PxQItpNd\n",
       "kV4t4zxVo1HrWjSkkn1Te+y5bs10h5MKPzG2cOGwE8iUusT22CiprB+BXxd3PM8vSS6w43EijDsM\n",
       "pQwXymAeLNnFk/zjX58X2Q3JvMA2Vds1kV26C3SrOmbt9eRei0v+avmf/xbZW+4CTAIAAAAASUVO\n",
       "RK5CYII=\n",
       "\" style=\"display:inline;vertical-align:middle;\" /></a></span></td></tr>\n",
       "<tr><td>&nbsp;</td><td colspan=4 style-\"text-align:left\"><a class=\"ProveItLink\" href=\"../fold_subset_eq/thm_proof.ipynb\">proveit.logic.sets.inclusion.fold_subset_eq</a></td></tr><tr><td><a name=\"-0x76f3ff3720625f4e_step3\">3</a></td><td>generalizaton</td><td><a href=\"#-0x76f3ff3720625f4e_step4\">4</a></td><td><span style=\"font-size:20px;\"> <a class=\"ProveItLink\" href=\"../../../__pv_it/_proof_subset_eq_reflexive/a52dcdda049dfd613f482c5eeff1026fee96df1d0/proof.ipynb\" style=\"text-decoration: none\">&nbsp;&#x22A2;&nbsp;&nbsp;</a><a class=\"ProveItLink\" href=\"../../../__pv_it/_proof_subset_eq_reflexive/ccd5f6d9c69deaca841ba67cff17ccc7b20edd6b0/expr.ipynb\"><img src=\"data:image/png;base64,iVBORw0KGgoAAAANSUhEUgAAAJQAAAAUBAMAAACZogk/AAAAMFBMVEX///8QEBCIiIhmZma6urrM\n",
       "zMxUVFQiIiJERETc3Nzu7u6qqqp2dnaYmJgyMjIAAAAcRTyBAAAAAXRSTlMAQObYZgAAAghJREFU\n",
       "OMtjYCACcF4gqIR7AgPDAxDjLn51KwiYEwfEmQwMp0HsV/iVviRg1HsgXsfAMAPkgQa8KnkN8JvE\n",
       "+34BAwOPAgMfiNqAVyn7BCza28vrYOzV9kAFXAIMvKdWrZqO31Ys0qxNCxCcC/oOQPIJA8OPjo4a\n",
       "/EYpI8WljZEUiF6HZBLLgv2gGD7MwJDKwNCJ1QS4aC9CzHEC3wcGSHzBwRKGeAUgdY+BwZmB6wHW\n",
       "wPwCY1XDxbhkGZjBUYQcTw4M80Hxsh0YqAxMqCmQa48xSGDxX5iACFyK+RcDO8gFrHLvgAAabMnG\n",
       "+SCT44HRd4Ed1Tk3dq4CUaeKMY1ibGBYH4CWeliAwg8gRnE+CIMLL1Z7ysACSUWsCh2YHlx/gGE/\n",
       "mCGAMAqYkNhBXHdQ8KbAvVbK+ouBD8JmYzDHDPb1GxjyQLmNwQgRp0CjwFEBDHaGzQXwoDBgLWBY\n",
       "DGHfZtCHCR+G6+NQ4C3jAafaDciJjuMnkLABYn4FeFBsYEpgCO/o6FBg4Hp8ph+WdoBOZwEKdnQx\n",
       "cCWpTlMBuz/DC5rT/79i4O7/DgyUp6BYhye39RM4bi1ggzhwAcP8ADwZh+UEIuNAAqcAhcs4Id6X\n",
       "gQdsgi/QtReIzM5gwAPzG5exsbE1A0vSJlsGhm6Q738wcPbXYqR7PGAdNkEmUFiRVPQRax1xBTLv\n",
       "BAYAEJh66BqtObQAAAAASUVORK5CYII=\n",
       "\" style=\"display:inline;vertical-align:middle;\" /></a></span></td></tr>\n",
       "<tr><td><a name=\"-0x76f3ff3720625f4e_step4\">4</a></td><td>assumption</td><td></td><td><span style=\"font-size:20px;\"><a class=\"ProveItLink\" href=\"../../../__pv_it/_proof_subset_eq_reflexive/8ddfe5c00aba819483045a795139d4c0769c9f330/expr.ipynb\"><img src=\"data:image/png;base64,iVBORw0KGgoAAAANSUhEUgAAAEAAAAAPBAMAAACmSdRUAAAAMFBMVEX///9UVFSqqqrMzMwiIiKY\n",
       "mJgyMjIQEBCIiIh2dnZmZmbc3Nzu7u5ERES6uroAAACFTSmKAAAAAXRSTlMAQObYZgAAAMtJREFU\n",
       "GNNjYMAHmBMY8AO2DwQUhP3BIhjr4gIzmEfrN6a8bQ+CzcrxD8HZNav9AEhTDpLiN0xf4Wy+aoZ8\n",
       "EM24ASHP84D5B5xzPIBhLYjmRTKAj4H7F5yz/gCDB4g2TwMCqCMNVy38C1dQy8DzGUTvRTLhAQND\n",
       "Gdy6nwxM4EBhR8gzAbE7XMEnBsYEbSCDqwGuYBMQ58N5NxhCBCaAGE4wEW4HIHF/A8Pbu0BwgOFg\n",
       "h7XEA5D4wXsHIGbe/3aAQfe/F2ZQvrzighyHALl0NiaDfO06AAAAAElFTkSuQmCC\n",
       "\" style=\"display:inline;vertical-align:middle;\" /></a> <a class=\"ProveItLink\" href=\"../../../__pv_it/_proof_subset_eq_reflexive/938fa389a68e86506528854bc447de64868664e90/proof.ipynb\" style=\"text-decoration: none\">&nbsp;&#x22A2;&nbsp;&nbsp;</a><a class=\"ProveItLink\" href=\"../../../__pv_it/_proof_subset_eq_reflexive/8ddfe5c00aba819483045a795139d4c0769c9f330/expr.ipynb\"><img src=\"data:image/png;base64,iVBORw0KGgoAAAANSUhEUgAAAEAAAAAPBAMAAACmSdRUAAAAMFBMVEX///9UVFSqqqrMzMwiIiKY\n",
       "mJgyMjIQEBCIiIh2dnZmZmbc3Nzu7u5ERES6uroAAACFTSmKAAAAAXRSTlMAQObYZgAAAMtJREFU\n",
       "GNNjYMAHmBMY8AO2DwQUhP3BIhjr4gIzmEfrN6a8bQ+CzcrxD8HZNav9AEhTDpLiN0xf4Wy+aoZ8\n",
       "EM24ASHP84D5B5xzPIBhLYjmRTKAj4H7F5yz/gCDB4g2TwMCqCMNVy38C1dQy8DzGUTvRTLhAQND\n",
       "Gdy6nwxM4EBhR8gzAbE7XMEnBsYEbSCDqwGuYBMQ58N5NxhCBCaAGE4wEW4HIHF/A8Pbu0BwgOFg\n",
       "h7XEA5D4wXsHIGbe/3aAQfe/F2ZQvrzighyHALl0NiaDfO06AAAAAElFTkSuQmCC\n",
       "\" style=\"display:inline;vertical-align:middle;\" /></a></span></td></tr>\n",
       "</table>"
      ],
      "text/plain": [
       "\tstep type\trequirements\tstatement\n",
       "0\tgeneralizaton\t1\t|- forall_{A} (A subseteq A)\n",
       "1\tinstantiation\t2, 3\t|- A subseteq A\n",
       "\tA : A, B : A, x : _a\n",
       "2\ttheorem\t\t|- forall_{A, B | forall_{x in A} (x in B)} (A subseteq B)\n",
       "\tproveit.logic.sets.inclusion.fold_subset_eq\n",
       "3\tgeneralizaton\t4\t|- forall_{_a in A} (_a in A)\n",
       "4\tassumption\t\t{_a in A} |- _a in A"
      ]
     },
     "execution_count": 3,
     "metadata": {},
     "output_type": "execute_result"
    }
   ],
   "source": [
    "%qed"
   ]
  },
  {
   "cell_type": "code",
   "execution_count": null,
   "metadata": {},
   "outputs": [],
   "source": []
  }
 ],
 "metadata": {
  "kernelspec": {
   "display_name": "Python 3",
   "language": "python",
   "name": "python3"
  }
 },
 "nbformat": 4,
 "nbformat_minor": 0
}