{
 "cells": [
  {
   "cell_type": "markdown",
   "metadata": {},
   "source": [
    "Proof of <a class=\"ProveItLink\" href=\"../../../../../../_theory_nbs_/theory.ipynb\">proveit</a>.<a class=\"ProveItLink\" href=\"../../../../../_theory_nbs_/theory.ipynb\">logic</a>.<a class=\"ProveItLink\" href=\"../../../../_theory_nbs_/theory.ipynb\">sets</a>.<a class=\"ProveItLink\" href=\"../../theory.ipynb\">inclusion</a>.<a class=\"ProveItLink\" href=\"../../theorems.ipynb#fold_supset_eq\">fold_supset_eq</a> theorem\n",
    "========"
   ]
  },
  {
   "cell_type": "code",
   "execution_count": 1,
   "metadata": {},
   "outputs": [],
   "source": [
    "import proveit\n",
    "from proveit.logic.sets.inclusion  import superset_eq_def"
   ]
  },
  {
   "cell_type": "code",
   "execution_count": 2,
   "metadata": {},
   "outputs": [
    {
     "data": {
      "text/html": [
       "Under these <a href=\"presumptions.txt\">presumptions</a>, we begin our proof of<br><strong id=\"fold_supset_eq\">fold_supset_eq:</strong> <a class=\"ProveItLink\" href=\"../../../__pv_it/theorems/62daa790abccb5d81aac5d176d47fbcbdedfeb810/expr.ipynb\"><img src=\"data:image/png;base64,iVBORw0KGgoAAAANSUhEUgAAAO8AAAAWBAMAAADaw9ZbAAAAMFBMVEX///8QEBCIiIhmZma6urrM\n",
       "zMxUVFQiIiJERETc3Nzu7u6qqqp2dnaYmJgyMjIAAAAcRTyBAAAAAXRSTlMAQObYZgAAA2hJREFU\n",
       "SMe1Vl1IVEEUPu3e6+7dvas+RVHEPlVQprRp9LYhVETRPulL0EIJYlSG0JYUbPXQXS32PlUQ4Y3A\n",
       "QMgEIRIKZCsClVgswpBkoV4KynBLNsvszJm5f+umFdvAnTNzZs79znxzzswA/I9yc5nxIfxyrPGm\n",
       "vLiBJAk5t2jk1cLhBi0KFTrAKOt/KC9wpc7FZxL9iUTigjm0CsD7FQLo0nXsKcnyAr/gYmrO0tx9\n",
       "x6U8DyDlATLolgGgDpQX+AwnfPCbrernJHhQFZoBuIVipK/vWnlxlXYSIc8XWyf221+NoJ243ChA\n",
       "QdPO/svfixWy1fLUkdgbnHcMv6e6Kg7yKcYxTmkBSJGS13vyj1uJFmlp4GF3NwXBqNn2Z4npqDzj\n",
       "mEBBDIeOjV9i+xpCAhopxrDNiQlVg1pN5qzyoncVpXArdFeXGe8wO74B7riSd8zYRnWtDoGVKIO4\n",
       "Gz7wkIe3OTHeOATnLGAZF3a1FPBBM2UfRrLCuNccW0Frb4o0FBwGfI/PM3D0S8ZMU7M+0o10cHfD\n",
       "4M1ZwICJVl8KuEXIiaE+07hSdwFjtc6eH4yTmGXAYQ6s5JpobWGNhu7FYIthA09pWskkR6oy9etj\n",
       "Eo8jMubEmVQH8Ttpz282zDSGE+iSxAI/dYQ2DbbTjAM1G7lzflGHHEmu/hg7amaMxzjui1aKHWfG\n",
       "YlEiuG7gN22doY0pK43lggguGKS0m4RaGnsOsMEBrMb84MrG3dSQkpg+H3FvuZ6MJZMaliuUy2ld\n",
       "HJmnR8VZimG7s4tFEkuKqjDz6e1Ymti4DNAzYAMH4vtE3EYiWA3DVg7MVofuN2uaFhbG1p2APAbS\n",
       "Pw14sNBRlArTs5HWbvIgxn5p8LzpYR34jmzrNjC0tYGyuSYOT8lydIJnq5xkASKLVOPGUtx9ZC5V\n",
       "7lit/bjyrNIFyhwoax1Uwy5MLyk5HAhTvBqwmhPRDj1qTsWdsIwZHe5LYomSsQ6bAijpc/IaeJaP\n",
       "tEadwD78tScM0kVGNTp6has7ofdlZgSg2zIGr310uU4Xdi0mEnHXhV18UwcdbTuoVH8sG6Dl3Ae5\n",
       "k+s2mecy22MROcUPgd8Xt2fiSbIY2DueicET5tensQa9eNQqj/786fO6WJEtCWxHtV2k7KL3Tl2Z\n",
       "blXv8u81V/EYf/X7X6JR2veyksOEAAAAAElFTkSuQmCC\n",
       "\" style=\"display:inline;vertical-align:middle;\" /></a><br>(see <a class=\"ProveItLink\" href=\"../../../__pv_it/theorems/db2c58750441c3aa76faf29c61faec756e9e706b0/dependencies.ipynb\">dependencies</a>)<br>"
      ],
      "text/plain": [
       "fold_supset_eq: forall_{A, B | forall_{x in B} (x in A)} (A supseteq B)"
      ]
     },
     "execution_count": 2,
     "metadata": {},
     "output_type": "execute_result"
    }
   ],
   "source": [
    "%proving fold_supset_eq"
   ]
  },
  {
   "cell_type": "code",
   "execution_count": 3,
   "metadata": {},
   "outputs": [
    {
     "data": {
      "text/html": [
       "<span style=\"font-size:20px;\"> <a class=\"ProveItLink\" href=\"../../axioms.ipynb#superset_eq_def\" style=\"text-decoration: none\">&nbsp;&#x22A2;&nbsp;&nbsp;</a><a class=\"ProveItLink\" href=\"../../../__pv_it/axioms/fdffcdb3f24ff74c3b0ffeb5ef5a026247cee4a80/expr.ipynb\"><img src=\"data:image/png;base64,iVBORw0KGgoAAAANSUhEUgAAATUAAAAVBAMAAADV6mS1AAAAMFBMVEX///8QEBCIiIhmZma6urrM\n",
       "zMxUVFQiIiJERETc3Nzu7u6qqqp2dnaYmJgyMjIAAAAcRTyBAAAAAXRSTlMAQObYZgAABBVJREFU\n",
       "SMfNVl1oXEUU/rzZm929ezftQ0FBkUUh6YMmwdX4EtuFPkQESZ7Mm7tQhehDGurDFmprLKXdVcum\n",
       "INQX2WuVGiKuAR9CQGhMBCURWYsPirSumFAM1IakTZsUqWfOzOy92ftTsS8eOPfOnTP3O9/MnDln\n",
       "gChJ1qVGSWrC19W9gnvCRuGlr+YwS82G+L4cMm5SKcnLPmP60GZ25CTwms/yTTSqhgwQ4YXw7Bza\n",
       "acpLoms1ZOifSkmu87NWLBZPaOsD48D+IdQCuEWiasgAEV5qzM2i6X0g1ng8eGS6V6poXnd07+fL\n",
       "qpGnrRnshZ3xc4tC1ZBBFuGF8Igb5oEO8TUdPDQ+IZXks/1uWNVUs4fev2Vg7fZzi0LVkJrP6eJx\n",
       "3WYvhCe4fUSmxampcyEg55SS1HtyzW6zId9vE86DRGLZzy0KFTsM5gnH/ZBelplbB+ntUunNEJDH\n",
       "lQIx52LdFy+bwPDr9F7wc4tCZcjzne8/wbFQ81BTXhaYm007/ypQZot8Pr+xMKLX/IxS4BPkPVG1\n",
       "JGe8eXnvUdG4Ih72Xyy9ilsTVbut9PeVXVhrLn04zsvvPeXKyxXmlibzAT4S1L4ht592WwfQUaVA\n",
       "DlVPAD/NT2OLgqJAjZmAddOoTfkR+NqFtR17O8ZL4D0wyssMc0uNUWTC4O36+G+2txWQ2lZj9yiF\n",
       "eTB7yAMivSZoCsYdcV4DuGlUEuurLDX7gItOE9ZCQuKZj4rVVqGnvOSZm7lGU6jH2bL4hjxEGbQ1\n",
       "WrnFKJm5y5Aq8GsXvYz1EG4aleTn2Sl6Hgb2eWCxS8aIN9FoLy63ZOMlJp0p8YAvhtDttO4pZYO4\n",
       "mymGnWZ6axeBMOCJt4LiJlHnn+kcinEwWDdhrHpgkR+SH54EpL0MMLfYmDgDrwhDO57lAYNP7i2g\n",
       "5Swk6a+ONb1FB8puesuP67PQsm6Majij8VyHXJP1S6c8sCmnh6zi4ym3ymov7lnAl4IgfkUPj/gB\n",
       "6NKjF5SKhJTYUjXryJKy/k4eHxL4/UHcBKqJaxTH3GU3YIy5sIPTFXwoY2jam/bYSz9za5vTO2/9\n",
       "8X2F5/EeUNXDB6RO3l1FqnKrpdKM3j3YV+KRK0HcZDyRq+FSqZRBYg7JOy7shcfOPyfPijXygroA\n",
       "NL2syNwrNj0tOLU5qHIEEMDghL9mRYg1FsSNUc01k4KFQ38asa3AmhX7zq1ZGk9w+7TZ8SL9Xk++\n",
       "g+Q2ko8E1PoICar1Uqp2w4bNU646ODt3z1qv8VStl5K4jWTlmPkwvt3IjriVs4yW9C7uSMViYQdW\n",
       "0B1JyoWf5heBd4W/t7J9J3fAhot7R9p55wy/W4ZLOZSbFEPE27+8Wyo84pZojaXZ/3AnT/sDsut+\n",
       "7uSEZ9Cd/JfW/jr+T/IPCOVB2Jvl8dIAAAAASUVORK5CYII=\n",
       "\" style=\"display:inline;vertical-align:middle;\" /></a></span>"
      ],
      "text/plain": [
       "|- forall_{A, B} ((A supseteq B) = [forall_{x in B} (x in A)])"
      ]
     },
     "execution_count": 3,
     "metadata": {},
     "output_type": "execute_result"
    }
   ],
   "source": [
    "# pull in the definition of non-proper superset (SupersetEqDef)\n",
    "superset_eq_def"
   ]
  },
  {
   "cell_type": "code",
   "execution_count": 4,
   "metadata": {},
   "outputs": [
    {
     "data": {
      "text/html": [
       "<strong id=\"SupersetEqDef_inst\">SupersetEqDef_inst:</strong> <span style=\"font-size:20px;\"> <a class=\"ProveItLink\" href=\"../../../__pv_it/_proof_fold_supset_eq/4c5ac340b528d52fb64d034ddb74c204d048ee820/proof.ipynb\" style=\"text-decoration: none\">&nbsp;&#x22A2;&nbsp;&nbsp;</a><a class=\"ProveItLink\" href=\"../../../__pv_it/axioms/08d634c7caf00d6762c7443cdfbae1c52dc6a6080/expr.ipynb\"><img src=\"data:image/png;base64,iVBORw0KGgoAAAANSUhEUgAAAO0AAAAUBAMAAACT/qdtAAAAMFBMVEX///9UVFTMzMx2dna6uroQ\n",
       "EBCqqqqIiIgiIiJmZmYyMjJERETu7u6YmJjc3NwAAAC+aOQFAAAAAXRSTlMAQObYZgAAAzxJREFU\n",
       "SMellk9IFFEcx7/ujs60O7tKBKGG2k26rIdKJKG9ZRDVoUPUxehiELmdyhI0gloqajcPsXVwEQMJ\n",
       "SyP7A0s60R9IPeyhqBTJSyBEuEpoEGi/9968mdlmZg16h5n3fu/N7/Pe78/7DRDNo2SrmHeJLgyU\n",
       "/gQ/SuuLDMWBKTHc4VoQqV/K1I4Bda6Znciy15yfan3Ub4ZRSF+QuI+EZER8MZRMXk+Yi8rp8/4G\n",
       "THpwd7PXsJ/20LzfDKNMcm4kJQ43Yli7nYmLTow8cCiFYMLN/U7PqO+pvvhNcArpI64m9vau396j\n",
       "bpqgh0RfE9APu7kh9n27n/qbRawXyWuyzymkj7gLQpLviRd7gdpTWnOUAINubqR1enrBDxvtdQwC\n",
       "zw17ICiDjNvFBYrRmXf5Zwlo3EbvFjcXv3O5y35clVynn6vb18wGkw6sSWlh3Jdc8gYxhxeFBQNL\n",
       "cxevsM4Mlz3gLWVyNwPjTpYy0ZeWgjApf43PCW5eZzaYlBnG5ZoRx2LKnt/Eba6uAW+rqNPhcd79\n",
       "0LNFso/ALrOr0bZbsdc4yAbO4DMpHYx7hB+tOlPvWBAS26Z4UldYXHtwNajSMfrJDHXTQKdp0nLa\n",
       "toGccO8xZiXT1SYlZnEVWuzY/gn+rKSzqqs+3GBek6PZM9P0vArchc0FVkWMOY4jKTHLzmQYzc6W\n",
       "wA0rfct+UqfN4d8qkxvNbqdO8+2zDQp3kL4MddhhZwSWxcCRhJLSJuMqSpJQwfL+vXkrfWOjMq7+\n",
       "Oi/Gt5A1jBotLpyirH56DEdcnVYL6GaDO3Z6SQqPK5YkLBPDa/KefGLeB/dJ23Hmsj4v7ilK0gAe\n",
       "Au9FCmShyrQNpqCshAui4GjW7WJR+hiXjDi1PoyKiV+pYuU169XpHP9owItbyfOO1DTmcrkEwk2I\n",
       "rkg/9kLf2t0lyoZee0BIbcqA454s0fReL26EWSJQCKBMBGE7lDXPe1LZY9+TUp9dF0o0r7og2mIw\n",
       "G0SwgXcNfGvasC5IfawOFl07zL/J5KWidV51ULRXH5pbgWdM161MesyaD5e0oaiDsu77t3Ffrnkd\n",
       "M//+Y9039THuRv85Effmz//Pfw7pU4fifwBc6fJlLmOt/gAAAABJRU5ErkJggg==\n",
       "\" style=\"display:inline;vertical-align:middle;\" /></a></span><br>"
      ],
      "text/plain": [
       "SupersetEqDef_inst: |- (A supseteq B) = [forall_{x in B} (x in A)]"
      ]
     },
     "execution_count": 4,
     "metadata": {},
     "output_type": "execute_result"
    }
   ],
   "source": [
    "SupersetEqDef_inst = superset_eq_def.instantiate()"
   ]
  },
  {
   "cell_type": "code",
   "execution_count": 5,
   "metadata": {},
   "outputs": [
    {
     "data": {
      "text/html": [
       "<span style=\"font-size:20px;\"><a class=\"ProveItLink\" href=\"../../../__pv_it/axioms/5fe3ac1ef2ec4c483ac7c2c4656569e4720b9b250/expr.ipynb\"><img src=\"data:image/png;base64,iVBORw0KGgoAAAANSUhEUgAAAHwAAAAUBAMAAAC9l0S6AAAAMFBMVEX///8QEBCIiIhmZma6urrM\n",
       "zMxUVFQiIiJERETc3Nzu7u6qqqp2dnaYmJgyMjIAAAAcRTyBAAAAAXRSTlMAQObYZgAAAghJREFU\n",
       "OMulVL9LHEEU/lx2vd117/QvCIsBCxsPD6+SeCRFSCor7SKogVyjYiOCJCIh2cPCS5U0wYUEkVMO\n",
       "wSIkBNSzCZfC9Qdoo2yhzYF6CKJioW92bm/XkLkEHJiZ9+a9b+a9771doPb4XMPWkAVcJuyLPPRJ\n",
       "keUFzTTwm8klkVMsK7Kc0swDn2jThG9siwzRUxswTMTYtiTyGr8DeT/22pcXuiguvQnRYi73UYTW\n",
       "RkKKMmUHitOWovUQuLSsCRFcitMTzenHBabkQ2jZXnFoWwdeApkwRJ7pTPoHKvksYtf0Yk6HnL6i\n",
       "z6TtAHgC3b3z5CawVhEjREoRG/YzpoT5TWGWAsM3coHk+FX+mSAxCaxU4qyjBG1YPPUHJzQqNAwk\n",
       "htltfUS7E/Hv3Pueo3UUeIQADpxxGkOvy2RyOVxze0godLR0y3EvhHNIpVDwUM650hTA6TjC1Kc0\n",
       "M4NEsT0UScX4zWdb7xCi7odURitT2oN6EjxW5tRhmYqr4Bj44tkMF5JfbiMO+Vota041FG+wPlGv\n",
       "aOmk2chKANJ6Lcsyoa5Cu/ZzHIHe3/qQf1H6q+f8dP6mhIaZC0r1iPUio1kpK6j3jI1LkK/+2rTy\n",
       "r6Bp+YV+lLOGa8Do9kQbH1b/+cnw3MyKMLdTKALT7OhNIvm26qBma8Hzf7Q4y/0/fxdsZIB7/Kyi\n",
       "WdwC4dSAI0sQYN4AAAAASUVORK5CYII=\n",
       "\" style=\"display:inline;vertical-align:middle;\" /></a> <a class=\"ProveItLink\" href=\"../../../__pv_it/_proof_fold_supset_eq/88a96aeeb1891f27b38a30fc93c279345cf166120/proof.ipynb\" style=\"text-decoration: none\">&nbsp;&#x22A2;&nbsp;&nbsp;</a><a class=\"ProveItLink\" href=\"../../../__pv_it/axioms/05e344b7208c2c23dfa6004888e7fe9f4480f8570/expr.ipynb\"><img src=\"data:image/png;base64,iVBORw0KGgoAAAANSUhEUgAAADsAAAARBAMAAACRPMnQAAAAMFBMVEX///92dnYiIiIQEBBERERU\n",
       "VFS6urqIiIjc3NxmZmaqqqru7u6YmJgyMjLMzMwAAADiRdoGAAAAAXRSTlMAQObYZgAAAPNJREFU\n",
       "KM9jYACBtwzogCf+68wQNyjnPpjcq6Sk5A6TZ3ZgYJj/AKL0/gaY6J5rUMb7AwwM+RPAzF3zG+Cm\n",
       "7oUy64H0+QIw80B9Alya7wKEdmZg4DYCG8q2Yf0BhKNuQKivDAyPosGsbQzvCxDSUhBDvp4p0YII\n",
       "JDD0T0BITwOT7D8YGDYHgBVGzox3QEhD7GYxACr5BbYa6MkLcFkusBYGfiDF/h3EWsDAwGQAl360\n",
       "Ae5t1m9ABgdQmvcDVJI70wPh7fcgK5tANv2ABqqKFFTdZaClJkCDtvy/zcDl/2kCaozE/o+c6rKA\n",
       "gYoAFKFKSgHIQgBh7kHj8bFnhwAAAABJRU5ErkJggg==\n",
       "\" style=\"display:inline;vertical-align:middle;\" /></a></span>"
      ],
      "text/plain": [
       "{forall_{x in B} (x in A)} |- A supseteq B"
      ]
     },
     "execution_count": 5,
     "metadata": {},
     "output_type": "execute_result"
    }
   ],
   "source": [
    "SupersetEqDef_inst.derive_left_via_equality([SupersetEqDef_inst.rhs])"
   ]
  },
  {
   "cell_type": "code",
   "execution_count": 6,
   "metadata": {},
   "outputs": [
    {
     "data": {
      "text/html": [
       "<table><tr><th>&nbsp;</th><th>step type</th><th>requirements</th><th>statement</th></tr>\n",
       "<tr><td><a name=\"-0x3a01f8e132f2179b_step0\">0</a></td><td>generalizaton</td><td><a href=\"#-0x3a01f8e132f2179b_step1\">1</a></td><td><span style=\"font-size:20px;\"> <a class=\"ProveItLink\" href=\"../../../__pv_it/_proof_fold_supset_eq/0fd30054c4bf0db08db4f347f8202db422fe7c4c0/proof.ipynb\" style=\"text-decoration: none\">&nbsp;&#x22A2;&nbsp;&nbsp;</a><a class=\"ProveItLink\" href=\"../../../__pv_it/theorems/62daa790abccb5d81aac5d176d47fbcbdedfeb810/expr.ipynb\"><img src=\"data:image/png;base64,iVBORw0KGgoAAAANSUhEUgAAAO8AAAAWBAMAAADaw9ZbAAAAMFBMVEX///8QEBCIiIhmZma6urrM\n",
       "zMxUVFQiIiJERETc3Nzu7u6qqqp2dnaYmJgyMjIAAAAcRTyBAAAAAXRSTlMAQObYZgAAA2hJREFU\n",
       "SMe1Vl1IVEEUPu3e6+7dvas+RVHEPlVQprRp9LYhVETRPulL0EIJYlSG0JYUbPXQXS32PlUQ4Y3A\n",
       "QMgEIRIKZCsClVgswpBkoV4KynBLNsvszJm5f+umFdvAnTNzZs79znxzzswA/I9yc5nxIfxyrPGm\n",
       "vLiBJAk5t2jk1cLhBi0KFTrAKOt/KC9wpc7FZxL9iUTigjm0CsD7FQLo0nXsKcnyAr/gYmrO0tx9\n",
       "x6U8DyDlATLolgGgDpQX+AwnfPCbrernJHhQFZoBuIVipK/vWnlxlXYSIc8XWyf221+NoJ243ChA\n",
       "QdPO/svfixWy1fLUkdgbnHcMv6e6Kg7yKcYxTmkBSJGS13vyj1uJFmlp4GF3NwXBqNn2Z4npqDzj\n",
       "mEBBDIeOjV9i+xpCAhopxrDNiQlVg1pN5qzyoncVpXArdFeXGe8wO74B7riSd8zYRnWtDoGVKIO4\n",
       "Gz7wkIe3OTHeOATnLGAZF3a1FPBBM2UfRrLCuNccW0Frb4o0FBwGfI/PM3D0S8ZMU7M+0o10cHfD\n",
       "4M1ZwICJVl8KuEXIiaE+07hSdwFjtc6eH4yTmGXAYQ6s5JpobWGNhu7FYIthA09pWskkR6oy9etj\n",
       "Eo8jMubEmVQH8Ttpz282zDSGE+iSxAI/dYQ2DbbTjAM1G7lzflGHHEmu/hg7amaMxzjui1aKHWfG\n",
       "YlEiuG7gN22doY0pK43lggguGKS0m4RaGnsOsMEBrMb84MrG3dSQkpg+H3FvuZ6MJZMaliuUy2ld\n",
       "HJmnR8VZimG7s4tFEkuKqjDz6e1Ymti4DNAzYAMH4vtE3EYiWA3DVg7MVofuN2uaFhbG1p2APAbS\n",
       "Pw14sNBRlArTs5HWbvIgxn5p8LzpYR34jmzrNjC0tYGyuSYOT8lydIJnq5xkASKLVOPGUtx9ZC5V\n",
       "7lit/bjyrNIFyhwoax1Uwy5MLyk5HAhTvBqwmhPRDj1qTsWdsIwZHe5LYomSsQ6bAijpc/IaeJaP\n",
       "tEadwD78tScM0kVGNTp6has7ofdlZgSg2zIGr310uU4Xdi0mEnHXhV18UwcdbTuoVH8sG6Dl3Ae5\n",
       "k+s2mecy22MROcUPgd8Xt2fiSbIY2DueicET5tensQa9eNQqj/786fO6WJEtCWxHtV2k7KL3Tl2Z\n",
       "blXv8u81V/EYf/X7X6JR2veyksOEAAAAAElFTkSuQmCC\n",
       "\" style=\"display:inline;vertical-align:middle;\" /></a></span></td></tr>\n",
       "<tr><td><a name=\"-0x3a01f8e132f2179b_step1\">1</a></td><td>instantiation</td><td><a href=\"#-0x3a01f8e132f2179b_step2\">2</a>, <a href=\"#-0x3a01f8e132f2179b_step3\">3</a>, <a href=\"#-0x3a01f8e132f2179b_step4\">4</a></td><td><span style=\"font-size:20px;\"><a class=\"ProveItLink\" href=\"../../../__pv_it/axioms/5fe3ac1ef2ec4c483ac7c2c4656569e4720b9b250/expr.ipynb\"><img src=\"data:image/png;base64,iVBORw0KGgoAAAANSUhEUgAAAHwAAAAUBAMAAAC9l0S6AAAAMFBMVEX///8QEBCIiIhmZma6urrM\n",
       "zMxUVFQiIiJERETc3Nzu7u6qqqp2dnaYmJgyMjIAAAAcRTyBAAAAAXRSTlMAQObYZgAAAghJREFU\n",
       "OMulVL9LHEEU/lx2vd117/QvCIsBCxsPD6+SeCRFSCor7SKogVyjYiOCJCIh2cPCS5U0wYUEkVMO\n",
       "wSIkBNSzCZfC9Qdoo2yhzYF6CKJioW92bm/XkLkEHJiZ9+a9b+a9771doPb4XMPWkAVcJuyLPPRJ\n",
       "keUFzTTwm8klkVMsK7Kc0swDn2jThG9siwzRUxswTMTYtiTyGr8DeT/22pcXuiguvQnRYi73UYTW\n",
       "RkKKMmUHitOWovUQuLSsCRFcitMTzenHBabkQ2jZXnFoWwdeApkwRJ7pTPoHKvksYtf0Yk6HnL6i\n",
       "z6TtAHgC3b3z5CawVhEjREoRG/YzpoT5TWGWAsM3coHk+FX+mSAxCaxU4qyjBG1YPPUHJzQqNAwk\n",
       "htltfUS7E/Hv3Pueo3UUeIQADpxxGkOvy2RyOVxze0godLR0y3EvhHNIpVDwUM650hTA6TjC1Kc0\n",
       "M4NEsT0UScX4zWdb7xCi7odURitT2oN6EjxW5tRhmYqr4Bj44tkMF5JfbiMO+Vota041FG+wPlGv\n",
       "aOmk2chKANJ6Lcsyoa5Cu/ZzHIHe3/qQf1H6q+f8dP6mhIaZC0r1iPUio1kpK6j3jI1LkK/+2rTy\n",
       "r6Bp+YV+lLOGa8Do9kQbH1b/+cnw3MyKMLdTKALT7OhNIvm26qBma8Hzf7Q4y/0/fxdsZIB7/Kyi\n",
       "WdwC4dSAI0sQYN4AAAAASUVORK5CYII=\n",
       "\" style=\"display:inline;vertical-align:middle;\" /></a> <a class=\"ProveItLink\" href=\"../../../__pv_it/_proof_fold_supset_eq/88a96aeeb1891f27b38a30fc93c279345cf166120/proof.ipynb\" style=\"text-decoration: none\">&nbsp;&#x22A2;&nbsp;&nbsp;</a><a class=\"ProveItLink\" href=\"../../../__pv_it/axioms/05e344b7208c2c23dfa6004888e7fe9f4480f8570/expr.ipynb\"><img src=\"data:image/png;base64,iVBORw0KGgoAAAANSUhEUgAAADsAAAARBAMAAACRPMnQAAAAMFBMVEX///92dnYiIiIQEBBERERU\n",
       "VFS6urqIiIjc3NxmZmaqqqru7u6YmJgyMjLMzMwAAADiRdoGAAAAAXRSTlMAQObYZgAAAPNJREFU\n",
       "KM9jYACBtwzogCf+68wQNyjnPpjcq6Sk5A6TZ3ZgYJj/AKL0/gaY6J5rUMb7AwwM+RPAzF3zG+Cm\n",
       "7oUy64H0+QIw80B9Alya7wKEdmZg4DYCG8q2Yf0BhKNuQKivDAyPosGsbQzvCxDSUhBDvp4p0YII\n",
       "JDD0T0BITwOT7D8YGDYHgBVGzox3QEhD7GYxACr5BbYa6MkLcFkusBYGfiDF/h3EWsDAwGQAl360\n",
       "Ae5t1m9ABgdQmvcDVJI70wPh7fcgK5tANv2ABqqKFFTdZaClJkCDtvy/zcDl/2kCaozE/o+c6rKA\n",
       "gYoAFKFKSgHIQgBh7kHj8bFnhwAAAABJRU5ErkJggg==\n",
       "\" style=\"display:inline;vertical-align:middle;\" /></a></span></td></tr>\n",
       "<tr><td>&nbsp;</td><td colspan=4 style=\"text-align:left\"><span style=\"font-size:20px;\"><a class=\"ProveItLink\" href=\"../../../../../../__pv_it/common/de55da274ba0f49c86925fbf3828021c04d27faf0/expr.ipynb\"><img src=\"data:image/png;base64,iVBORw0KGgoAAAANSUhEUgAAABAAAAAOBAMAAADUAYG5AAAAMFBMVEX///8iIiLc3Ny6urqIiIiq\n",
       "qqp2dnbMzMwQEBDu7u5mZmYyMjJERERUVFSYmJgAAAA4CJ/KAAAAAXRSTlMAQObYZgAAAF5JREFU\n",
       "CNdjYGB4+//s3V0TGIDgNwMDTyeQZv/GwMD6Bchg+QzEQA4DzwcGBl4gh4F/AwOD/gIgoz6BgVUM\n",
       "pMn/WtoSsO7zYBIIPkJp9l9QBsgYMOD+CaG59v91ANEANtEY7WfmSIAAAAAASUVORK5CYII=\n",
       "\" style=\"display:inline;vertical-align:middle;\" /></a> : <a class=\"ProveItLink\" href=\"../../../__pv_it/axioms/05e344b7208c2c23dfa6004888e7fe9f4480f8570/expr.ipynb\"><img src=\"data:image/png;base64,iVBORw0KGgoAAAANSUhEUgAAADsAAAARBAMAAACRPMnQAAAAMFBMVEX///92dnYiIiIQEBBERERU\n",
       "VFS6urqIiIjc3NxmZmaqqqru7u6YmJgyMjLMzMwAAADiRdoGAAAAAXRSTlMAQObYZgAAAPNJREFU\n",
       "KM9jYACBtwzogCf+68wQNyjnPpjcq6Sk5A6TZ3ZgYJj/AKL0/gaY6J5rUMb7AwwM+RPAzF3zG+Cm\n",
       "7oUy64H0+QIw80B9Alya7wKEdmZg4DYCG8q2Yf0BhKNuQKivDAyPosGsbQzvCxDSUhBDvp4p0YII\n",
       "JDD0T0BITwOT7D8YGDYHgBVGzox3QEhD7GYxACr5BbYa6MkLcFkusBYGfiDF/h3EWsDAwGQAl360\n",
       "Ae5t1m9ABgdQmvcDVJI70wPh7fcgK5tANv2ABqqKFFTdZaClJkCDtvy/zcDl/2kCaozE/o+c6rKA\n",
       "gYoAFKFKSgHIQgBh7kHj8bFnhwAAAABJRU5ErkJggg==\n",
       "\" style=\"display:inline;vertical-align:middle;\" /></a>, <a class=\"ProveItLink\" href=\"../../../../../../__pv_it/common/d72bb8b07403efe79afab564c36a28e21330e5f90/expr.ipynb\"><img src=\"data:image/png;base64,iVBORw0KGgoAAAANSUhEUgAAAA8AAAASBAMAAAB2sJk8AAAAMFBMVEX///+qqqq6urrc3NwQEBAy\n",
       "MjJERERUVFTMzMwiIiKYmJh2dnZmZmaIiIju7u4AAABsX1SbAAAAAXRSTlMAQObYZgAAAINJREFU\n",
       "CNdjYGDgu7P7FAMI7GxgYE8A0k8DgILeQEbIAyBRz8DA/Qskvd+AwX4CiHFegWH/BRAjv4FhfgOI\n",
       "8R+IQGoZvzMwTAEJcP5jYCgBMe4DFfY/eHuD4w+Qw3thAff6DSDhvuqbyQxgrQzsDVwGYAbbATUw\n",
       "zcDz/weEwTFFgIEBAOxlJHQBUmidAAAAAElFTkSuQmCC\n",
       "\" style=\"display:inline;vertical-align:middle;\" /></a> : <a class=\"ProveItLink\" href=\"../../../__pv_it/axioms/5fe3ac1ef2ec4c483ac7c2c4656569e4720b9b250/expr.ipynb\"><img src=\"data:image/png;base64,iVBORw0KGgoAAAANSUhEUgAAAHwAAAAUBAMAAAC9l0S6AAAAMFBMVEX///8QEBCIiIhmZma6urrM\n",
       "zMxUVFQiIiJERETc3Nzu7u6qqqp2dnaYmJgyMjIAAAAcRTyBAAAAAXRSTlMAQObYZgAAAghJREFU\n",
       "OMulVL9LHEEU/lx2vd117/QvCIsBCxsPD6+SeCRFSCor7SKogVyjYiOCJCIh2cPCS5U0wYUEkVMO\n",
       "wSIkBNSzCZfC9Qdoo2yhzYF6CKJioW92bm/XkLkEHJiZ9+a9b+a9771doPb4XMPWkAVcJuyLPPRJ\n",
       "keUFzTTwm8klkVMsK7Kc0swDn2jThG9siwzRUxswTMTYtiTyGr8DeT/22pcXuiguvQnRYi73UYTW\n",
       "RkKKMmUHitOWovUQuLSsCRFcitMTzenHBabkQ2jZXnFoWwdeApkwRJ7pTPoHKvksYtf0Yk6HnL6i\n",
       "z6TtAHgC3b3z5CawVhEjREoRG/YzpoT5TWGWAsM3coHk+FX+mSAxCaxU4qyjBG1YPPUHJzQqNAwk\n",
       "htltfUS7E/Hv3Pueo3UUeIQADpxxGkOvy2RyOVxze0godLR0y3EvhHNIpVDwUM650hTA6TjC1Kc0\n",
       "M4NEsT0UScX4zWdb7xCi7odURitT2oN6EjxW5tRhmYqr4Bj44tkMF5JfbiMO+Vota041FG+wPlGv\n",
       "aOmk2chKANJ6Lcsyoa5Cu/ZzHIHe3/qQf1H6q+f8dP6mhIaZC0r1iPUio1kpK6j3jI1LkK/+2rTy\n",
       "r6Bp+YV+lLOGa8Do9kQbH1b/+cnw3MyKMLdTKALT7OhNIvm26qBma8Hzf7Q4y/0/fxdsZIB7/Kyi\n",
       "WdwC4dSAI0sQYN4AAAAASUVORK5CYII=\n",
       "\" style=\"display:inline;vertical-align:middle;\" /></a></span></td></tr><tr><td><a name=\"-0x3a01f8e132f2179b_step2\">2</a></td><td>theorem</td><td></td><td><span style=\"font-size:20px;\"> <a class=\"ProveItLink\" href=\"../../../../../equality/_theory_nbs_/proofs/lhs_via_equality/thm_proof.ipynb\" style=\"text-decoration: none\">&nbsp;&#x22A2;&nbsp;&nbsp;</a><a class=\"ProveItLink\" href=\"../../../../../equality/__pv_it/theorems/616d0b2f7e66734de9dc6e08a83e1658e87b5c020/expr.ipynb\"><img src=\"data:image/png;base64,iVBORw0KGgoAAAANSUhEUgAAAIwAAAAWBAMAAADgE2koAAAAMFBMVEX///8QEBCIiIhmZma6urrM\n",
       "zMxUVFQiIiJERETc3Nzu7u6qqqp2dnaYmJgyMjIAAAAcRTyBAAAAAXRSTlMAQObYZgAAAeBJREFU\n",
       "OMutVD0sQ1EYPfr/qyIWLMRgEcRUpiYWmzBYvYEO0sEsJBIJJRHdWFBrF01MXURISGjkWSwiaSIx\n",
       "SGiD+G3w3ff3XdWB1pe8d79z7rnnvXu/ey/wP5ETr8vKx59/zkevkjgR+U0V//EBeJqwRpl3tnIX\n",
       "ZxHw36M2CQTSldvYHukpInicSq1WMSdPAXCR1Us8Pl2FTYhqtNkNjAOLgGMlFp4QdFu2T+t2GDIT\n",
       "DzwdzCetwSYLjO7BL36jHz5R9DPgiJqNCIY0tUdXWThYh8Ck6WKxQFcs2yNSN2wqNVFiqGaNgF1h\n",
       "G8YuBbaC4cIssGLYBVS3aGaAOHmq2nctG8aUecx9wSzwbFrnRujte4VtCmgVJSywDePtBNrNtWEW\n",
       "zgdzootjYkWLHWI/X9Njz7EN48H9bBquOMWyxGrbRo8dsXIBnaUtiZo9tmF8KhWZWdS+WZVvEaO6\n",
       "tbxer5llw3hOsmHWnn9qMcigmHJIPw9R34W3QbJh/K6V647iVmJLYzRBi72EreHgbkSy0TF1OF8l\n",
       "MatKD1i+l1a9Gb7woeKVbHRMHZ0PCVazqmz4RQWVdcnGwP4f14OhKhsZsY0+mr7ZaDhTqjRVZUMc\n",
       "CixEvtloWP0hXYj87gKw/+m6+AIRhIj+rToaNQAAAABJRU5ErkJggg==\n",
       "\" style=\"display:inline;vertical-align:middle;\" /></a></span></td></tr>\n",
       "<tr><td>&nbsp;</td><td colspan=4 style-\"text-align:left\"><a class=\"ProveItLink\" href=\"../../../../../equality/_theory_nbs_/proofs/lhs_via_equality/thm_proof.ipynb\">proveit.logic.equality.lhs_via_equality</a></td></tr><tr><td><a name=\"-0x3a01f8e132f2179b_step3\">3</a></td><td>assumption</td><td></td><td><span style=\"font-size:20px;\"><a class=\"ProveItLink\" href=\"../../../__pv_it/axioms/5fe3ac1ef2ec4c483ac7c2c4656569e4720b9b250/expr.ipynb\"><img src=\"data:image/png;base64,iVBORw0KGgoAAAANSUhEUgAAAHwAAAAUBAMAAAC9l0S6AAAAMFBMVEX///8QEBCIiIhmZma6urrM\n",
       "zMxUVFQiIiJERETc3Nzu7u6qqqp2dnaYmJgyMjIAAAAcRTyBAAAAAXRSTlMAQObYZgAAAghJREFU\n",
       "OMulVL9LHEEU/lx2vd117/QvCIsBCxsPD6+SeCRFSCor7SKogVyjYiOCJCIh2cPCS5U0wYUEkVMO\n",
       "wSIkBNSzCZfC9Qdoo2yhzYF6CKJioW92bm/XkLkEHJiZ9+a9b+a9771doPb4XMPWkAVcJuyLPPRJ\n",
       "keUFzTTwm8klkVMsK7Kc0swDn2jThG9siwzRUxswTMTYtiTyGr8DeT/22pcXuiguvQnRYi73UYTW\n",
       "RkKKMmUHitOWovUQuLSsCRFcitMTzenHBabkQ2jZXnFoWwdeApkwRJ7pTPoHKvksYtf0Yk6HnL6i\n",
       "z6TtAHgC3b3z5CawVhEjREoRG/YzpoT5TWGWAsM3coHk+FX+mSAxCaxU4qyjBG1YPPUHJzQqNAwk\n",
       "htltfUS7E/Hv3Pueo3UUeIQADpxxGkOvy2RyOVxze0godLR0y3EvhHNIpVDwUM650hTA6TjC1Kc0\n",
       "M4NEsT0UScX4zWdb7xCi7odURitT2oN6EjxW5tRhmYqr4Bj44tkMF5JfbiMO+Vota041FG+wPlGv\n",
       "aOmk2chKANJ6Lcsyoa5Cu/ZzHIHe3/qQf1H6q+f8dP6mhIaZC0r1iPUio1kpK6j3jI1LkK/+2rTy\n",
       "r6Bp+YV+lLOGa8Do9kQbH1b/+cnw3MyKMLdTKALT7OhNIvm26qBma8Hzf7Q4y/0/fxdsZIB7/Kyi\n",
       "WdwC4dSAI0sQYN4AAAAASUVORK5CYII=\n",
       "\" style=\"display:inline;vertical-align:middle;\" /></a> <a class=\"ProveItLink\" href=\"../../../__pv_it/_proof_fold_supset_eq/bd4e04afa6357e13ef0d32749244c85b637f6c600/proof.ipynb\" style=\"text-decoration: none\">&nbsp;&#x22A2;&nbsp;&nbsp;</a><a class=\"ProveItLink\" href=\"../../../__pv_it/axioms/5fe3ac1ef2ec4c483ac7c2c4656569e4720b9b250/expr.ipynb\"><img src=\"data:image/png;base64,iVBORw0KGgoAAAANSUhEUgAAAHwAAAAUBAMAAAC9l0S6AAAAMFBMVEX///8QEBCIiIhmZma6urrM\n",
       "zMxUVFQiIiJERETc3Nzu7u6qqqp2dnaYmJgyMjIAAAAcRTyBAAAAAXRSTlMAQObYZgAAAghJREFU\n",
       "OMulVL9LHEEU/lx2vd117/QvCIsBCxsPD6+SeCRFSCor7SKogVyjYiOCJCIh2cPCS5U0wYUEkVMO\n",
       "wSIkBNSzCZfC9Qdoo2yhzYF6CKJioW92bm/XkLkEHJiZ9+a9b+a9771doPb4XMPWkAVcJuyLPPRJ\n",
       "keUFzTTwm8klkVMsK7Kc0swDn2jThG9siwzRUxswTMTYtiTyGr8DeT/22pcXuiguvQnRYi73UYTW\n",
       "RkKKMmUHitOWovUQuLSsCRFcitMTzenHBabkQ2jZXnFoWwdeApkwRJ7pTPoHKvksYtf0Yk6HnL6i\n",
       "z6TtAHgC3b3z5CawVhEjREoRG/YzpoT5TWGWAsM3coHk+FX+mSAxCaxU4qyjBG1YPPUHJzQqNAwk\n",
       "htltfUS7E/Hv3Pueo3UUeIQADpxxGkOvy2RyOVxze0godLR0y3EvhHNIpVDwUM650hTA6TjC1Kc0\n",
       "M4NEsT0UScX4zWdb7xCi7odURitT2oN6EjxW5tRhmYqr4Bj44tkMF5JfbiMO+Vota041FG+wPlGv\n",
       "aOmk2chKANJ6Lcsyoa5Cu/ZzHIHe3/qQf1H6q+f8dP6mhIaZC0r1iPUio1kpK6j3jI1LkK/+2rTy\n",
       "r6Bp+YV+lLOGa8Do9kQbH1b/+cnw3MyKMLdTKALT7OhNIvm26qBma8Hzf7Q4y/0/fxdsZIB7/Kyi\n",
       "WdwC4dSAI0sQYN4AAAAASUVORK5CYII=\n",
       "\" style=\"display:inline;vertical-align:middle;\" /></a></span></td></tr>\n",
       "<tr><td><a name=\"-0x3a01f8e132f2179b_step4\">4</a></td><td>instantiation</td><td><a href=\"#-0x3a01f8e132f2179b_step5\">5</a></td><td><span style=\"font-size:20px;\"> <a class=\"ProveItLink\" href=\"../../../__pv_it/_proof_fold_supset_eq/4c5ac340b528d52fb64d034ddb74c204d048ee820/proof.ipynb\" style=\"text-decoration: none\">&nbsp;&#x22A2;&nbsp;&nbsp;</a><a class=\"ProveItLink\" href=\"../../../__pv_it/axioms/08d634c7caf00d6762c7443cdfbae1c52dc6a6080/expr.ipynb\"><img src=\"data:image/png;base64,iVBORw0KGgoAAAANSUhEUgAAAO0AAAAUBAMAAACT/qdtAAAAMFBMVEX///9UVFTMzMx2dna6uroQ\n",
       "EBCqqqqIiIgiIiJmZmYyMjJERETu7u6YmJjc3NwAAAC+aOQFAAAAAXRSTlMAQObYZgAAAzxJREFU\n",
       "SMellk9IFFEcx7/ujs60O7tKBKGG2k26rIdKJKG9ZRDVoUPUxehiELmdyhI0gloqajcPsXVwEQMJ\n",
       "SyP7A0s60R9IPeyhqBTJSyBEuEpoEGi/9968mdlmZg16h5n3fu/N7/Pe78/7DRDNo2SrmHeJLgyU\n",
       "/gQ/SuuLDMWBKTHc4VoQqV/K1I4Bda6Znciy15yfan3Ub4ZRSF+QuI+EZER8MZRMXk+Yi8rp8/4G\n",
       "THpwd7PXsJ/20LzfDKNMcm4kJQ43Yli7nYmLTow8cCiFYMLN/U7PqO+pvvhNcArpI64m9vau396j\n",
       "bpqgh0RfE9APu7kh9n27n/qbRawXyWuyzymkj7gLQpLviRd7gdpTWnOUAINubqR1enrBDxvtdQwC\n",
       "zw17ICiDjNvFBYrRmXf5Zwlo3EbvFjcXv3O5y35clVynn6vb18wGkw6sSWlh3Jdc8gYxhxeFBQNL\n",
       "cxevsM4Mlz3gLWVyNwPjTpYy0ZeWgjApf43PCW5eZzaYlBnG5ZoRx2LKnt/Eba6uAW+rqNPhcd79\n",
       "0LNFso/ALrOr0bZbsdc4yAbO4DMpHYx7hB+tOlPvWBAS26Z4UldYXHtwNajSMfrJDHXTQKdp0nLa\n",
       "toGccO8xZiXT1SYlZnEVWuzY/gn+rKSzqqs+3GBek6PZM9P0vArchc0FVkWMOY4jKTHLzmQYzc6W\n",
       "wA0rfct+UqfN4d8qkxvNbqdO8+2zDQp3kL4MddhhZwSWxcCRhJLSJuMqSpJQwfL+vXkrfWOjMq7+\n",
       "Oi/Gt5A1jBotLpyirH56DEdcnVYL6GaDO3Z6SQqPK5YkLBPDa/KefGLeB/dJ23Hmsj4v7ilK0gAe\n",
       "Au9FCmShyrQNpqCshAui4GjW7WJR+hiXjDi1PoyKiV+pYuU169XpHP9owItbyfOO1DTmcrkEwk2I\n",
       "rkg/9kLf2t0lyoZee0BIbcqA454s0fReL26EWSJQCKBMBGE7lDXPe1LZY9+TUp9dF0o0r7og2mIw\n",
       "G0SwgXcNfGvasC5IfawOFl07zL/J5KWidV51ULRXH5pbgWdM161MesyaD5e0oaiDsu77t3Ffrnkd\n",
       "M//+Y9039THuRv85Effmz//Pfw7pU4fifwBc6fJlLmOt/gAAAABJRU5ErkJggg==\n",
       "\" style=\"display:inline;vertical-align:middle;\" /></a></span></td></tr>\n",
       "<tr><td>&nbsp;</td><td colspan=4 style=\"text-align:left\"><span style=\"font-size:20px;\"><a class=\"ProveItLink\" href=\"../../../../../../__pv_it/common/09585084922504426caf1db2ff588a23a0932a960/expr.ipynb\"><img src=\"data:image/png;base64,iVBORw0KGgoAAAANSUhEUgAAAA8AAAAOBAMAAAACpFvcAAAALVBMVEX///8iIiIQEBBERERUVFS6\n",
       "urqIiIjc3NxmZmaqqqru7u6YmJgyMjLMzMwAAACK9jtgAAAAAXRSTlMAQObYZgAAAFtJREFUCNdj\n",
       "YACBOwxQcA5Kc59bAGGs7CuAMDbkBYBp1gXzNoAZSxnuJYAZAQx1DSCa16PDzwCshIGB6QCIMYGB\n",
       "gVEBSLMDGTwPgIxCIGZ+zsCw+N0pBk67hw0AfpEVEQi8t+wAAAAASUVORK5CYII=\n",
       "\" style=\"display:inline;vertical-align:middle;\" /></a> : <a class=\"ProveItLink\" href=\"../../../../../../__pv_it/common/09585084922504426caf1db2ff588a23a0932a960/expr.ipynb\"><img src=\"data:image/png;base64,iVBORw0KGgoAAAANSUhEUgAAAA8AAAAOBAMAAAACpFvcAAAALVBMVEX///8iIiIQEBBERERUVFS6\n",
       "urqIiIjc3NxmZmaqqqru7u6YmJgyMjLMzMwAAACK9jtgAAAAAXRSTlMAQObYZgAAAFtJREFUCNdj\n",
       "YACBOwxQcA5Kc59bAGGs7CuAMDbkBYBp1gXzNoAZSxnuJYAZAQx1DSCa16PDzwCshIGB6QCIMYGB\n",
       "gVEBSLMDGTwPgIxCIGZ+zsCw+N0pBk67hw0AfpEVEQi8t+wAAAAASUVORK5CYII=\n",
       "\" style=\"display:inline;vertical-align:middle;\" /></a>, <a class=\"ProveItLink\" href=\"../../../../../../__pv_it/common/a9162d1c3cc0470c02e5daf414500903a7a419230/expr.ipynb\"><img src=\"data:image/png;base64,iVBORw0KGgoAAAANSUhEUgAAABAAAAAOBAMAAADUAYG5AAAALVBMVEX///8yMjKqqqoiIiLu7u7c\n",
       "3NyIiIjMzMwQEBC6urpERERmZmZUVFSYmJgAAACsPVCVAAAAAXRSTlMAQObYZgAAAGxJREFUCNdj\n",
       "YGC48+70nlUTGICgi4GB+zmQZn/LwMD5Gshge8rAwPsMyOBqYGDwMAEy+A4wsNs4ABl1Z68tVgBp\n",
       "ygtgYOkBMVaAOCChNyBGAsQYhnMTIMawvwJyGIHGzFjCwMAj92b3qUUMDAAXABxvZ4rl5AAAAABJ\n",
       "RU5ErkJggg==\n",
       "\" style=\"display:inline;vertical-align:middle;\" /></a> : <a class=\"ProveItLink\" href=\"../../../../../../__pv_it/common/a9162d1c3cc0470c02e5daf414500903a7a419230/expr.ipynb\"><img src=\"data:image/png;base64,iVBORw0KGgoAAAANSUhEUgAAABAAAAAOBAMAAADUAYG5AAAALVBMVEX///8yMjKqqqoiIiLu7u7c\n",
       "3NyIiIjMzMwQEBC6urpERERmZmZUVFSYmJgAAACsPVCVAAAAAXRSTlMAQObYZgAAAGxJREFUCNdj\n",
       "YGC48+70nlUTGICgi4GB+zmQZn/LwMD5Gshge8rAwPsMyOBqYGDwMAEy+A4wsNs4ABl1Z68tVgBp\n",
       "ygtgYOkBMVaAOCChNyBGAsQYhnMTIMawvwJyGIHGzFjCwMAj92b3qUUMDAAXABxvZ4rl5AAAAABJ\n",
       "RU5ErkJggg==\n",
       "\" style=\"display:inline;vertical-align:middle;\" /></a></span></td></tr><tr><td><a name=\"-0x3a01f8e132f2179b_step5\">5</a></td><td>axiom</td><td></td><td><span style=\"font-size:20px;\"> <a class=\"ProveItLink\" href=\"../../axioms.ipynb#superset_eq_def\" style=\"text-decoration: none\">&nbsp;&#x22A2;&nbsp;&nbsp;</a><a class=\"ProveItLink\" href=\"../../../__pv_it/axioms/fdffcdb3f24ff74c3b0ffeb5ef5a026247cee4a80/expr.ipynb\"><img src=\"data:image/png;base64,iVBORw0KGgoAAAANSUhEUgAAATUAAAAVBAMAAADV6mS1AAAAMFBMVEX///8QEBCIiIhmZma6urrM\n",
       "zMxUVFQiIiJERETc3Nzu7u6qqqp2dnaYmJgyMjIAAAAcRTyBAAAAAXRSTlMAQObYZgAABBVJREFU\n",
       "SMfNVl1oXEUU/rzZm929ezftQ0FBkUUh6YMmwdX4EtuFPkQESZ7Mm7tQhehDGurDFmprLKXdVcum\n",
       "INQX2WuVGiKuAR9CQGhMBCURWYsPirSumFAM1IakTZsUqWfOzOy92ftTsS8eOPfOnTP3O9/MnDln\n",
       "gChJ1qVGSWrC19W9gnvCRuGlr+YwS82G+L4cMm5SKcnLPmP60GZ25CTwms/yTTSqhgwQ4YXw7Bza\n",
       "acpLoms1ZOifSkmu87NWLBZPaOsD48D+IdQCuEWiasgAEV5qzM2i6X0g1ng8eGS6V6poXnd07+fL\n",
       "qpGnrRnshZ3xc4tC1ZBBFuGF8Igb5oEO8TUdPDQ+IZXks/1uWNVUs4fev2Vg7fZzi0LVkJrP6eJx\n",
       "3WYvhCe4fUSmxampcyEg55SS1HtyzW6zId9vE86DRGLZzy0KFTsM5gnH/ZBelplbB+ntUunNEJDH\n",
       "lQIx52LdFy+bwPDr9F7wc4tCZcjzne8/wbFQ81BTXhaYm007/ypQZot8Pr+xMKLX/IxS4BPkPVG1\n",
       "JGe8eXnvUdG4Ih72Xyy9ilsTVbut9PeVXVhrLn04zsvvPeXKyxXmlibzAT4S1L4ht592WwfQUaVA\n",
       "DlVPAD/NT2OLgqJAjZmAddOoTfkR+NqFtR17O8ZL4D0wyssMc0uNUWTC4O36+G+2txWQ2lZj9yiF\n",
       "eTB7yAMivSZoCsYdcV4DuGlUEuurLDX7gItOE9ZCQuKZj4rVVqGnvOSZm7lGU6jH2bL4hjxEGbQ1\n",
       "WrnFKJm5y5Aq8GsXvYz1EG4aleTn2Sl6Hgb2eWCxS8aIN9FoLy63ZOMlJp0p8YAvhtDttO4pZYO4\n",
       "mymGnWZ6axeBMOCJt4LiJlHnn+kcinEwWDdhrHpgkR+SH54EpL0MMLfYmDgDrwhDO57lAYNP7i2g\n",
       "5Swk6a+ONb1FB8puesuP67PQsm6Majij8VyHXJP1S6c8sCmnh6zi4ym3ymov7lnAl4IgfkUPj/gB\n",
       "6NKjF5SKhJTYUjXryJKy/k4eHxL4/UHcBKqJaxTH3GU3YIy5sIPTFXwoY2jam/bYSz9za5vTO2/9\n",
       "8X2F5/EeUNXDB6RO3l1FqnKrpdKM3j3YV+KRK0HcZDyRq+FSqZRBYg7JOy7shcfOPyfPijXygroA\n",
       "NL2syNwrNj0tOLU5qHIEEMDghL9mRYg1FsSNUc01k4KFQ38asa3AmhX7zq1ZGk9w+7TZ8SL9Xk++\n",
       "g+Q2ko8E1PoICar1Uqp2w4bNU646ODt3z1qv8VStl5K4jWTlmPkwvt3IjriVs4yW9C7uSMViYQdW\n",
       "0B1JyoWf5heBd4W/t7J9J3fAhot7R9p55wy/W4ZLOZSbFEPE27+8Wyo84pZojaXZ/3AnT/sDsut+\n",
       "7uSEZ9Cd/JfW/jr+T/IPCOVB2Jvl8dIAAAAASUVORK5CYII=\n",
       "\" style=\"display:inline;vertical-align:middle;\" /></a></span></td></tr>\n",
       "<tr><td>&nbsp;</td><td colspan=4 style-\"text-align:left\"><a class=\"ProveItLink\" href=\"../../axioms.ipynb#superset_eq_def\">proveit.logic.sets.inclusion.superset_eq_def</a></td></tr></table>"
      ],
      "text/plain": [
       "\tstep type\trequirements\tstatement\n",
       "0\tgeneralizaton\t1\t|- forall_{A, B | forall_{x in B} (x in A)} (A supseteq B)\n",
       "1\tinstantiation\t2, 3, 4\t{forall_{x in B} (x in A)} |- A supseteq B\n",
       "\tP : A supseteq B, Q : forall_{x in B} (x in A)\n",
       "2\ttheorem\t\t|- forall_{P, Q | Q, P = Q} P\n",
       "\tproveit.logic.equality.lhs_via_equality\n",
       "3\tassumption\t\t{forall_{x in B} (x in A)} |- forall_{x in B} (x in A)\n",
       "4\tinstantiation\t5\t|- (A supseteq B) = [forall_{x in B} (x in A)]\n",
       "\tA : A, B : B\n",
       "5\taxiom\t\t|- forall_{A, B} ((A supseteq B) = [forall_{x in B} (x in A)])\n",
       "\tproveit.logic.sets.inclusion.superset_eq_def"
      ]
     },
     "execution_count": 6,
     "metadata": {},
     "output_type": "execute_result"
    }
   ],
   "source": [
    "%qed"
   ]
  },
  {
   "cell_type": "code",
   "execution_count": null,
   "metadata": {},
   "outputs": [],
   "source": []
  }
 ],
 "metadata": {
  "kernelspec": {
   "display_name": "Python 3",
   "language": "python",
   "name": "python3"
  }
 },
 "nbformat": 4,
 "nbformat_minor": 0
}