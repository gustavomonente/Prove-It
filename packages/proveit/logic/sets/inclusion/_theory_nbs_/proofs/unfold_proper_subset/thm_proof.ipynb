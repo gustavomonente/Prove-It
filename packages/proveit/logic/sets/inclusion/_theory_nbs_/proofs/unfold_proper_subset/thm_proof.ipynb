{
 "cells": [
  {
   "cell_type": "markdown",
   "metadata": {},
   "source": [
    "Proof of <a class=\"ProveItLink\" href=\"../../../../../../_theory_nbs_/theory.ipynb\">proveit</a>.<a class=\"ProveItLink\" href=\"../../../../../_theory_nbs_/theory.ipynb\">logic</a>.<a class=\"ProveItLink\" href=\"../../../../_theory_nbs_/theory.ipynb\">sets</a>.<a class=\"ProveItLink\" href=\"../../theory.ipynb\">inclusion</a>.<a class=\"ProveItLink\" href=\"../../theorems.ipynb#unfold_proper_subset\">unfold_proper_subset</a> theorem\n",
    "========"
   ]
  },
  {
   "cell_type": "code",
   "execution_count": 1,
   "metadata": {},
   "outputs": [],
   "source": [
    "import proveit\n",
    "from proveit.logic.sets.inclusion  import proper_subset_def\n",
    "theory = proveit.Theory() # the theorem's theory"
   ]
  },
  {
   "cell_type": "code",
   "execution_count": 2,
   "metadata": {},
   "outputs": [
    {
     "data": {
      "text/html": [
       "Under these <a href=\"presumptions.txt\">presumptions</a>, we begin our proof of<br><strong id=\"unfold_proper_subset\">unfold_proper_subset:</strong> <a class=\"ProveItLink\" href=\"../../../__pv_it/theorems/fe0f7b1f8596640bfdabb153ac11da73e278a0950/expr.ipynb\"><img src=\"data:image/png;base64,iVBORw0KGgoAAAANSUhEUgAAAS0AAAAWBAMAAABnB9cHAAAAMFBMVEX///8QEBCIiIhmZma6urrM\n",
       "zMxUVFQiIiJERETc3Nzu7u6qqqp2dnaYmJgyMjIAAAAcRTyBAAAAAXRSTlMAQObYZgAABEJJREFU\n",
       "SMfFVl9ok1cUP35JmnxpUn0YOHBIwIf1RRsIZGyUNWywiSgNe3A+jLWgQpUx4/59DB1GkDUZG4kv\n",
       "KozZTzZs6aAG+qA+WSej2m6STRDGcEbcHto9WFrtP6n13HPuvd9NEwPmxQPnfufe8517f/ecc8+9\n",
       "AE3TD8h2ufE/rcV6Vo3osuSK6NxpAlY4i80Qyx/WaKOH5hN9JwAO1LFSOvWrlgIIpqXIPCkGppvA\n",
       "1SZcMcXyAzl223Gcz1lchwC60jAiNUXTSuok7fGmnEHgFeYzIhrZJnDdEluN844fuPQ9e8NT92CE\n",
       "u+MQiXH3vmGldAD+Y0dxbxFl888yNr8wt+GUkVITuL5EDrIbfu7i75Sh7sChuzEIb+AI9bueldIB\n",
       "vH/5nU3R+JCK8egStueYoxPDw6ebgGVnsJGG5Y6U+PjM7R3HdTYimH+p1/JWzLPSOjiI0O7t+kwl\n",
       "mvVQBDPFvJjLHW0ClyXisIVEv3uFjmXQ1M/jkrgsXKPeCGQ8K60DAbZ/c0qa7GhdwTYSZ94PkKdh\n",
       "brfPXevjqKjfQ/qs+wudybwaFVC+I/En6CFvnDJgBebvtB+hnKHuJJ8vttI68mBFH9VUYFZ4rcL8\n",
       "NqU/yg/ZmRsgwjmhDsPdlF7tD4CrUgyKoB2RGxggNwyZ7sRUOdeLwkXqZuCsZ6V1FGE9ux/sOVHy\n",
       "MsxBsCgKP66Q1tcLrcsmrnAXqgNbEgmUkwBXZAKvE/O9RK7ZmziUXRvHEO7NeizOHm02Bi1pbaV1\n",
       "1VVidyK5KKabYY6Ueb6JT3lHMfBVTFyRwTiEP9oxPIzyJwBvwlpcfuyQhaoJgtajP6xZhSvoQqBX\n",
       "W2kdjDvOguN8ASpvNhu47Mpu2nUsR9oLadjmmrjeC2XlZiH8CKzpmjiiEOTI/19dvlpEZrwreqOq\n",
       "iJCV1glPjukrC/mw2GaGGfL7KM7wGqm7t7bL0Etcvb4M7JQZMPvn17A27+0SF2qk8/tcs3z1ZFXe\n",
       "T0lsbKV17ElJ38t7Q+U9jNIR/hs6SH0T4FUTV7RkzcCvMqQVsDJyGnGUqQiIGhZa4sEP+tU9dA93\n",
       "8bJYs1PEIqsQkJXWIf1eVQ8LiNg3xgzrRVqE7/9WoF+/BRgoGbhGOq8vw+vSR2Ngq3wlV2OQhlan\n",
       "obWwEK+ubh+v7k3maJr/1JmzYtLK08H4YUwvyq9w4YkLl1Yxx9vSzBAVeHwuDFAS4brdRQPXG2A/\n",
       "QmdyMpfAv1TnHmr06sjwyUBK63vII69KaBqUzLQLVy3b34C9DPYrRhz9mBArqjINuHByrM693YDM\n",
       "M6rvbY+211rIe1tGaBHswleBTTA+l+hLGbgKWTizUPZTlY8cSyS9ZxNdA/kqDI7jvXMkjaxZNVTt\n",
       "4alaB8t3TvXz0uyYj5/zuVyuwbvw2ZSvZ+WRW2MggIeKdR6xdXE1+46OPvc7+i/JVVR+HlwviuIv\n",
       "cvGnFLU7xp1WN8kAAAAASUVORK5CYII=\n",
       "\" style=\"display:inline;vertical-align:middle;\" /></a><br>(see <a class=\"ProveItLink\" href=\"../../../__pv_it/theorems/a05481ca83825b1bdd8949220e3cbe19ac4194ea0/dependencies.ipynb\">dependencies</a>)<br>"
      ],
      "text/plain": [
       "unfold_proper_subset: forall_{A, B | A proper_subset B} ((A subseteq B) and (B not_equiv A))"
      ]
     },
     "execution_count": 2,
     "metadata": {},
     "output_type": "execute_result"
    }
   ],
   "source": [
    "%proving unfold_proper_subset"
   ]
  },
  {
   "cell_type": "code",
   "execution_count": 3,
   "metadata": {},
   "outputs": [
    {
     "data": {
      "text/html": [
       "<span style=\"font-size:20px;\"> <a class=\"ProveItLink\" href=\"../../axioms.ipynb#proper_subset_def\" style=\"text-decoration: none\">&nbsp;&#x22A2;&nbsp;&nbsp;</a><a class=\"ProveItLink\" href=\"../../../__pv_it/axioms/dc19bd769da96446823e6eb8658ec92e1c8f526e0/expr.ipynb\"><img src=\"data:image/png;base64,iVBORw0KGgoAAAANSUhEUgAAAWsAAAAVBAMAAAByN9JOAAAAMFBMVEX///8QEBCIiIhmZma6urrM\n",
       "zMxUVFQiIiJERETc3Nzu7u6qqqp2dnaYmJgyMjIAAAAcRTyBAAAAAXRSTlMAQObYZgAAA/FJREFU\n",
       "SMfVV0toFEEQLfeT3Zn9mENAQdFFD3rRLCzEi5AFDxFBkpN6EBNRIXrQDSKLxs8KgokouwdRQTQr\n",
       "igYFXfCgngzmIH6QxYAf/K2oh0QwIQlJjMRY/Znpnp5PEvFiwZuZnao3W11VXd0N4CVamcFLIoV/\n",
       "xbvkTYAHEirkxQcXw24OlG02ZWzfWKr1BMDuf8TTc0JniDn0IPpZVRB4Rl4OuLjdz4EyaNfOw/+p\n",
       "b4Lbs+K9ymazBxx5Gr/HC0JnOJsznuJDOK6KwAVCzDl7HUsykMfBok3djLFoTEI0MQve5SeuvDiz\n",
       "hD5Jh9Iw3oMj6eGcj5N4eSQQx89GS85uhwoMKLfqeSm+EVGrxVefEqBXz4LXL6kV3pZD7H5Q0mGg\n",
       "289uL/XpPKD63Z94vSIQe3rz5nmXGjnPQYqsNm2L2nH83AIc9deZeX45MApv5zJWKxlZB1VFCB6t\n",
       "eZ3m+fONkrykBSY6Og67uL2cAyBQfFgWIeEyBrB5D957Z+aFwJWnV5jSl5R14EOE24yIbIhM4TWa\n",
       "FNgF0ElV7Lp+pLfVaE1nOACuQXNCjVpw7MPKdlp35BL9QSXpzDsHbjysUFaj4bKsY6k1m0w6OExi\n",
       "XhFYR2cmPo+ydFRD1CjWdg6ANHQl1aj5sNyutODDPTXadl63Oy8EGv3/UEnWsfIxHgKgjZBWnxEI\n",
       "gY/m8eoUtfC3QGSSW9dwQHBHal9OjVoYR+f7RWa/6radF3LnvaQJx9aXlnXW9rcpVTdBXgwJRMvs\n",
       "m0/3s8EnwF9R/z6AX62oUZuPUfENe7pt8uQmqfCwj2wy3TZ1EM1mj2HTauFJgyWK21qFsoKJDmpx\n",
       "pwlWF9VkY/5C1WrUSIutIpXVINV2izMPvrvxIkm+0NAiMXVE3pv7AEQbiUJGADppCVXBGmrSuGql\n",
       "WVvG1NJKbJmyRo202OacObUksfPg+s6iM4+4TFxnU9LU8TwwuchXW3lKwl3aMN9BLTV5AbDCMO/l\n",
       "ID04/FON2mcc9kLizFrVbQcebD1pLFNW3hbDQdLVhI68MDYktKPncUD+HgGYTyKof3mep+anAbqM\n",
       "LtfA0D09AJH8eNIatb3TO+o6qOU31W0HnhCFR1O9jFeA0GFtL82y2tbzv4twfxqnXrxJAGLEEX8R\n",
       "uugOBqdxY8G+SJsiomY21YzH4u4hjEeXwaC6klnanyk3JDDZiFEva6dAmwRtscOWyEM8t1Jz4PVZ\n",
       "fwbs+ztpK8V76QRo+SPBRfB4JNWaNu06zcXTQxw2rjZelCRcyZLKC1vzE7elS964Wk8c7tt9d+n0\n",
       "PCbMnqdbw6vbCGRcBmzHnrkermJ/eSiLzflQ9laCRcrwn8gfSH55F75O+poAAAAASUVORK5CYII=\n",
       "\" style=\"display:inline;vertical-align:middle;\" /></a></span>"
      ],
      "text/plain": [
       "|- forall_{A, B} ((A proper_subset B) = ((A subseteq B) and (B not_equiv A)))"
      ]
     },
     "execution_count": 3,
     "metadata": {},
     "output_type": "execute_result"
    }
   ],
   "source": [
    "# pull in the proper subset definition\n",
    "proper_subset_def"
   ]
  },
  {
   "cell_type": "code",
   "execution_count": 4,
   "metadata": {},
   "outputs": [
    {
     "data": {
      "text/html": [
       "<strong id=\"proper_subset_def_inst\">proper_subset_def_inst:</strong> <span style=\"font-size:20px;\"> <a class=\"ProveItLink\" href=\"../../../__pv_it/_proof_unfold_proper_subset/b315a638bb04cc1cb936b84de5a39f515c5fe7ef0/proof.ipynb\" style=\"text-decoration: none\">&nbsp;&#x22A2;&nbsp;&nbsp;</a><a class=\"ProveItLink\" href=\"../../../__pv_it/axioms/4014c5b00a0b83dcf1fc728660b64a9003d8951f0/expr.ipynb\"><img src=\"data:image/png;base64,iVBORw0KGgoAAAANSUhEUgAAASMAAAAUBAMAAAA0Bka/AAAAMFBMVEX///9UVFTMzMx2dna6uroQ\n",
       "EBCqqqqIiIgiIiJmZmYyMjJERETu7u6YmJjc3NwAAAC+aOQFAAAAAXRSTlMAQObYZgAAAxlJREFU\n",
       "SMedlj1oU1EUgE/yYpImL7FIHapiKy5ih3STLJKxmx0yCA5mdNJsUhwaBEsQ0VecOjWIOoi0GRQE\n",
       "aY2gImaJOGgUtYJDEcQWRDu1nnP/330/sT1w817ued955+e+cy9AsQexkl4LzhGze+4nDCYu0k2X\n",
       "/z8ZeKIwtrlw+BHA0SDc3QvntrVOig6L7CCRoECW+NRy8MX70MbiOLwJapaC3Ntms3k1lCuKa25N\n",
       "64Qk28ok2UHCbaHfHg9tuRN4cQljOOOBUw/kwQtwP05Hcjn+JPQNHcrU1iR6OSlNkh0iTgFkeclf\n",
       "LYrSf9LRzuLU1zq407ZLxFjckqG2uIkb/HrT0GGC5r4frPVdmSZmh4iXAOuiqLOVQLSP8aGz6Pxd\n",
       "26V1sLmhGkRyI5d5/RqmDhIdSF6vfqiAaQeJXAVm2Eyqc6mnQxGyCXDiCF7LtkszYmguC5Gc2+LK\n",
       "jGfqIIMjf01GK+wg4XiwwqZeQKluR5vc/Hxljm4+0o/zgAmzuyKG5r5BFAdOzWFG8z1Tx0ui7oQd\n",
       "JAot4A9U4JdnR5vZxsoO480FO0tzYmiuG81lodhi15qp4yVVjLCDRLoBVRbY6MJY2442j4st84e+\n",
       "Etulqhiay0Zz7wEOsNZQMXX+FiDtIJHc4KZTSLTsaPdjNJm/sS4pzmwUFoff2zHlktKB02zewo+b\n",
       "Z0za4S6xAmBOs9N2tNRCEr+pgxhradhXOMXB/Sgu7YkmyQqndCTvFCLtIJFqsGVaxKnchh0ttZBS\n",
       "Wy1TQ+Ty1hw8H+mEc+QOucWXt9KJ/In+Lu3w5V0WPSa/bUd7D10+Ry+6bbtUFsPg4PgT2WL93IR8\n",
       "ueOZOpromX2O2UFiaJJy1d15COlnW54/2kM7o/NP2ed7x3Zpig+T02Jx7KuiZokVMXS4ls43xVrS\n",
       "dpDIjcuNQYmOVu3gjZgNJUY4x9pz0u7C/hZgEq/V9hkjsdvuLri+/2+qHUrgtgurg0yHHE5Wbc6h\n",
       "IljZtbm8P6+5tbA30eHE14pCZTX2CPf/nOtPixtKML8HHVgLezzoFnZ90CXiC8A/90I7Xxz9LRMA\n",
       "AAAASUVORK5CYII=\n",
       "\" style=\"display:inline;vertical-align:middle;\" /></a></span><br>"
      ],
      "text/plain": [
       "proper_subset_def_inst: |- (A proper_subset B) = ((A subseteq B) and (B not_equiv A))"
      ]
     },
     "execution_count": 4,
     "metadata": {},
     "output_type": "execute_result"
    }
   ],
   "source": [
    "proper_subset_def_inst = proper_subset_def.instantiate()"
   ]
  },
  {
   "cell_type": "code",
   "execution_count": 5,
   "metadata": {},
   "outputs": [
    {
     "data": {
      "text/html": [
       "<span style=\"font-size:20px;\"><a class=\"ProveItLink\" href=\"../../../__pv_it/axioms/81f49a06ba9c23797bdfafb3065c419bc23ed9230/expr.ipynb\"><img src=\"data:image/png;base64,iVBORw0KGgoAAAANSUhEUgAAADsAAAAPBAMAAACo4Ko7AAAAMFBMVEX///92dnYiIiIQEBBERERU\n",
       "VFS6urqIiIjc3NxmZmaqqqru7u6YmJgyMjLMzMwAAADiRdoGAAAAAXRSTlMAQObYZgAAAO1JREFU\n",
       "GNNjYACBtwzogCf+68wQNyjnPoY0A7MDA8P8BxCl9zdgSL8/wMCQPwHM3DW/ASJ2RElJSQ/CrAcK\n",
       "nS8AMw/UJ4DpXgmEbmcGBm4jsKFsG9YfAAtpIBn+lYHhUTSYtY3hPdgUzgUIWb6vZ0q0IMwEhn6w\n",
       "G5iQNLP/YGDYHABWGDkz3gHEaEWSZjEAKvkFthroyQsgxhYkaX6gTvbvIBbQRiYDdMNB3mb9BmRw\n",
       "AKV5P4CEGAsQ0iBvvwdZ2QSy6QdY7BZC+jLQUhOgt7f8v83A5f8J7PStYbDAjf0fOdVlAXpAP3SC\n",
       "ByoEAACTQj18dtZaDQAAAABJRU5ErkJggg==\n",
       "\" style=\"display:inline;vertical-align:middle;\" /></a> <a class=\"ProveItLink\" href=\"../../../__pv_it/_proof_unfold_proper_subset/5bb3c03fe648c126146a3742ddad53b02933fc5f0/proof.ipynb\" style=\"text-decoration: none\">&nbsp;&#x22A2;&nbsp;&nbsp;</a><a class=\"ProveItLink\" href=\"../../../__pv_it/axioms/a99d7bd5f394659fa3f35acf995ee6df5adedc230/expr.ipynb\"><img src=\"data:image/png;base64,iVBORw0KGgoAAAANSUhEUgAAAKwAAAAUBAMAAADihsvzAAAAMFBMVEX///9UVFTMzMx2dna6uroQ\n",
       "EBCqqqqIiIgiIiJmZmYyMjJERETu7u6YmJjc3NwAAAC+aOQFAAAAAXRSTlMAQObYZgAAAmtJREFU\n",
       "OMuVVT1oU1EUPs2LfTEviUXiUBWruIgOr2sXydhNhw6Cgxm72U3EoUGwPET0SadOLaU6lTaDgiDW\n",
       "COqQLBUHbUCs4CCCaEC0U+v5ufe+k9dHaw+Ee8/93vnu+b0BqKzDnjK4mT75Af9h0ZH9+V1oeaQ3\n",
       "d+IJwKnUeamZYFYS14iHLFZEXTXH76Ioui3bQ2g/fxraBqmYtbiZYEZyTUdLPGhRjsW11Rav3y8m\n",
       "LoTow6UYvClDJ1/ChsJQxrdG8aZRGyLxoEVBUvd2XtYVFe00Hn2egtJlUS/ck/W+wtDRma/H6hsl\n",
       "6y7zoMU3k5zpGi2H64r2KX5wBS9fErV6Q3LR0BgMtCB3d+JjDTTPEtxkLd+6zlkv6Nr0AM6dxHVM\n",
       "KrUgoB9rDHz8BXfMzZZnDF6w+hpCzuAXxZrrfbo1Q5suq17d41CCdY1JQdzO8HRBwBr8ZCc6itbf\n",
       "BngzhJtJkEAqC7zWNSbpcTaGZxIm2LHhuZFmOgkBlsr/Q1Vn9QPAUW67msb628vyhEKbx6/ZFdtM\n",
       "JEfQG/+vo8U+OONoHQZeFD3AVhfPLU8oScC4CtJGj/vbduA3dSZPZGwGgZPgMJL3zsTyjHPJKqgW\n",
       "fzHwqtrSbRs2bcmIkqilZA4zcZg5tDxd7h7q3WBboLPP7PA+wqCu0iWzPAyWwIs1RgfuQXA8sxRh\n",
       "Z2cZBl9uxf0vyvGd4YfPuaUWXbVpIPINjWFur0UmtwnPoh3ePaTUkNahSrvhVVLNsijH+9Hq7nBP\n",
       "TSL5ZqbFWt8BBWQfRiPtlFHQH19xd7jt1GBlylrGM67VbIv9/nTKB/7TQYt/2RPEapOsWa8AAAAA\n",
       "SUVORK5CYII=\n",
       "\" style=\"display:inline;vertical-align:middle;\" /></a></span>"
      ],
      "text/plain": [
       "{A proper_subset B} |- (A subseteq B) and (B not_equiv A)"
      ]
     },
     "execution_count": 5,
     "metadata": {},
     "output_type": "execute_result"
    }
   ],
   "source": [
    "proper_subset_def_inst.derive_right_via_equality([proper_subset_def_inst.lhs])"
   ]
  },
  {
   "cell_type": "code",
   "execution_count": 6,
   "metadata": {},
   "outputs": [
    {
     "data": {
      "text/html": [
       "<table><tr><th>&nbsp;</th><th>step type</th><th>requirements</th><th>statement</th></tr>\n",
       "<tr><td><a name=\"0x1fa3aa8eb011b311_step0\">0</a></td><td>generalizaton</td><td><a href=\"#0x1fa3aa8eb011b311_step1\">1</a></td><td><span style=\"font-size:20px;\"> <a class=\"ProveItLink\" href=\"../../../__pv_it/_proof_unfold_proper_subset/976559188cfd9198b3c5d4b803e7ac26bf5bea990/proof.ipynb\" style=\"text-decoration: none\">&nbsp;&#x22A2;&nbsp;&nbsp;</a><a class=\"ProveItLink\" href=\"../../../__pv_it/theorems/fe0f7b1f8596640bfdabb153ac11da73e278a0950/expr.ipynb\"><img src=\"data:image/png;base64,iVBORw0KGgoAAAANSUhEUgAAAS0AAAAWBAMAAABnB9cHAAAAMFBMVEX///8QEBCIiIhmZma6urrM\n",
       "zMxUVFQiIiJERETc3Nzu7u6qqqp2dnaYmJgyMjIAAAAcRTyBAAAAAXRSTlMAQObYZgAABEJJREFU\n",
       "SMfFVl9ok1cUP35JmnxpUn0YOHBIwIf1RRsIZGyUNWywiSgNe3A+jLWgQpUx4/59DB1GkDUZG4kv\n",
       "KozZTzZs6aAG+qA+WSej2m6STRDGcEbcHto9WFrtP6n13HPuvd9NEwPmxQPnfufe8517f/ecc8+9\n",
       "AE3TD8h2ufE/rcV6Vo3osuSK6NxpAlY4i80Qyx/WaKOH5hN9JwAO1LFSOvWrlgIIpqXIPCkGppvA\n",
       "1SZcMcXyAzl223Gcz1lchwC60jAiNUXTSuok7fGmnEHgFeYzIhrZJnDdEluN844fuPQ9e8NT92CE\n",
       "u+MQiXH3vmGldAD+Y0dxbxFl888yNr8wt+GUkVITuL5EDrIbfu7i75Sh7sChuzEIb+AI9bueldIB\n",
       "vH/5nU3R+JCK8egStueYoxPDw6ebgGVnsJGG5Y6U+PjM7R3HdTYimH+p1/JWzLPSOjiI0O7t+kwl\n",
       "mvVQBDPFvJjLHW0ClyXisIVEv3uFjmXQ1M/jkrgsXKPeCGQ8K60DAbZ/c0qa7GhdwTYSZ94PkKdh\n",
       "brfPXevjqKjfQ/qs+wudybwaFVC+I/En6CFvnDJgBebvtB+hnKHuJJ8vttI68mBFH9VUYFZ4rcL8\n",
       "NqU/yg/ZmRsgwjmhDsPdlF7tD4CrUgyKoB2RGxggNwyZ7sRUOdeLwkXqZuCsZ6V1FGE9ux/sOVHy\n",
       "MsxBsCgKP66Q1tcLrcsmrnAXqgNbEgmUkwBXZAKvE/O9RK7ZmziUXRvHEO7NeizOHm02Bi1pbaV1\n",
       "1VVidyK5KKabYY6Ueb6JT3lHMfBVTFyRwTiEP9oxPIzyJwBvwlpcfuyQhaoJgtajP6xZhSvoQqBX\n",
       "W2kdjDvOguN8ASpvNhu47Mpu2nUsR9oLadjmmrjeC2XlZiH8CKzpmjiiEOTI/19dvlpEZrwreqOq\n",
       "iJCV1glPjukrC/mw2GaGGfL7KM7wGqm7t7bL0Etcvb4M7JQZMPvn17A27+0SF2qk8/tcs3z1ZFXe\n",
       "T0lsbKV17ElJ38t7Q+U9jNIR/hs6SH0T4FUTV7RkzcCvMqQVsDJyGnGUqQiIGhZa4sEP+tU9dA93\n",
       "8bJYs1PEIqsQkJXWIf1eVQ8LiNg3xgzrRVqE7/9WoF+/BRgoGbhGOq8vw+vSR2Ngq3wlV2OQhlan\n",
       "obWwEK+ubh+v7k3maJr/1JmzYtLK08H4YUwvyq9w4YkLl1Yxx9vSzBAVeHwuDFAS4brdRQPXG2A/\n",
       "QmdyMpfAv1TnHmr06sjwyUBK63vII69KaBqUzLQLVy3b34C9DPYrRhz9mBArqjINuHByrM693YDM\n",
       "M6rvbY+211rIe1tGaBHswleBTTA+l+hLGbgKWTizUPZTlY8cSyS9ZxNdA/kqDI7jvXMkjaxZNVTt\n",
       "4alaB8t3TvXz0uyYj5/zuVyuwbvw2ZSvZ+WRW2MggIeKdR6xdXE1+46OPvc7+i/JVVR+HlwviuIv\n",
       "cvGnFLU7xp1WN8kAAAAASUVORK5CYII=\n",
       "\" style=\"display:inline;vertical-align:middle;\" /></a></span></td></tr>\n",
       "<tr><td><a name=\"0x1fa3aa8eb011b311_step1\">1</a></td><td>instantiation</td><td><a href=\"#0x1fa3aa8eb011b311_step2\">2</a>, <a href=\"#0x1fa3aa8eb011b311_step3\">3</a>, <a href=\"#0x1fa3aa8eb011b311_step4\">4</a></td><td><span style=\"font-size:20px;\"><a class=\"ProveItLink\" href=\"../../../__pv_it/axioms/81f49a06ba9c23797bdfafb3065c419bc23ed9230/expr.ipynb\"><img src=\"data:image/png;base64,iVBORw0KGgoAAAANSUhEUgAAADsAAAAPBAMAAACo4Ko7AAAAMFBMVEX///92dnYiIiIQEBBERERU\n",
       "VFS6urqIiIjc3NxmZmaqqqru7u6YmJgyMjLMzMwAAADiRdoGAAAAAXRSTlMAQObYZgAAAO1JREFU\n",
       "GNNjYACBtwzogCf+68wQNyjnPoY0A7MDA8P8BxCl9zdgSL8/wMCQPwHM3DW/ASJ2RElJSQ/CrAcK\n",
       "nS8AMw/UJ4DpXgmEbmcGBm4jsKFsG9YfAAtpIBn+lYHhUTSYtY3hPdgUzgUIWb6vZ0q0IMwEhn6w\n",
       "G5iQNLP/YGDYHABWGDkz3gHEaEWSZjEAKvkFthroyQsgxhYkaX6gTvbvIBbQRiYDdMNB3mb9BmRw\n",
       "AKV5P4CEGAsQ0iBvvwdZ2QSy6QdY7BZC+jLQUhOgt7f8v83A5f8J7PStYbDAjf0fOdVlAXpAP3SC\n",
       "ByoEAACTQj18dtZaDQAAAABJRU5ErkJggg==\n",
       "\" style=\"display:inline;vertical-align:middle;\" /></a> <a class=\"ProveItLink\" href=\"../../../__pv_it/_proof_unfold_proper_subset/5bb3c03fe648c126146a3742ddad53b02933fc5f0/proof.ipynb\" style=\"text-decoration: none\">&nbsp;&#x22A2;&nbsp;&nbsp;</a><a class=\"ProveItLink\" href=\"../../../__pv_it/axioms/a99d7bd5f394659fa3f35acf995ee6df5adedc230/expr.ipynb\"><img src=\"data:image/png;base64,iVBORw0KGgoAAAANSUhEUgAAAKwAAAAUBAMAAADihsvzAAAAMFBMVEX///9UVFTMzMx2dna6uroQ\n",
       "EBCqqqqIiIgiIiJmZmYyMjJERETu7u6YmJjc3NwAAAC+aOQFAAAAAXRSTlMAQObYZgAAAmtJREFU\n",
       "OMuVVT1oU1EUPs2LfTEviUXiUBWruIgOr2sXydhNhw6Cgxm72U3EoUGwPET0SadOLaU6lTaDgiDW\n",
       "COqQLBUHbUCs4CCCaEC0U+v5ufe+k9dHaw+Ee8/93vnu+b0BqKzDnjK4mT75Af9h0ZH9+V1oeaQ3\n",
       "d+IJwKnUeamZYFYS14iHLFZEXTXH76Ioui3bQ2g/fxraBqmYtbiZYEZyTUdLPGhRjsW11Rav3y8m\n",
       "LoTow6UYvClDJ1/ChsJQxrdG8aZRGyLxoEVBUvd2XtYVFe00Hn2egtJlUS/ck/W+wtDRma/H6hsl\n",
       "6y7zoMU3k5zpGi2H64r2KX5wBS9fErV6Q3LR0BgMtCB3d+JjDTTPEtxkLd+6zlkv6Nr0AM6dxHVM\n",
       "KrUgoB9rDHz8BXfMzZZnDF6w+hpCzuAXxZrrfbo1Q5suq17d41CCdY1JQdzO8HRBwBr8ZCc6itbf\n",
       "BngzhJtJkEAqC7zWNSbpcTaGZxIm2LHhuZFmOgkBlsr/Q1Vn9QPAUW67msb628vyhEKbx6/ZFdtM\n",
       "JEfQG/+vo8U+OONoHQZeFD3AVhfPLU8oScC4CtJGj/vbduA3dSZPZGwGgZPgMJL3zsTyjHPJKqgW\n",
       "fzHwqtrSbRs2bcmIkqilZA4zcZg5tDxd7h7q3WBboLPP7PA+wqCu0iWzPAyWwIs1RgfuQXA8sxRh\n",
       "Z2cZBl9uxf0vyvGd4YfPuaUWXbVpIPINjWFur0UmtwnPoh3ePaTUkNahSrvhVVLNsijH+9Hq7nBP\n",
       "TSL5ZqbFWt8BBWQfRiPtlFHQH19xd7jt1GBlylrGM67VbIv9/nTKB/7TQYt/2RPEapOsWa8AAAAA\n",
       "SUVORK5CYII=\n",
       "\" style=\"display:inline;vertical-align:middle;\" /></a></span></td></tr>\n",
       "<tr><td>&nbsp;</td><td colspan=4 style=\"text-align:left\"><span style=\"font-size:20px;\"><a class=\"ProveItLink\" href=\"../../../../../../__pv_it/common/de55da274ba0f49c86925fbf3828021c04d27faf0/expr.ipynb\"><img src=\"data:image/png;base64,iVBORw0KGgoAAAANSUhEUgAAABAAAAAOBAMAAADUAYG5AAAAMFBMVEX///8iIiLc3Ny6urqIiIiq\n",
       "qqp2dnbMzMwQEBDu7u5mZmYyMjJERERUVFSYmJgAAAA4CJ/KAAAAAXRSTlMAQObYZgAAAF5JREFU\n",
       "CNdjYGB4+//s3V0TGIDgNwMDTyeQZv/GwMD6Bchg+QzEQA4DzwcGBl4gh4F/AwOD/gIgoz6BgVUM\n",
       "pMn/WtoSsO7zYBIIPkJp9l9QBsgYMOD+CaG59v91ANEANtEY7WfmSIAAAAAASUVORK5CYII=\n",
       "\" style=\"display:inline;vertical-align:middle;\" /></a> : <a class=\"ProveItLink\" href=\"../../../__pv_it/axioms/81f49a06ba9c23797bdfafb3065c419bc23ed9230/expr.ipynb\"><img src=\"data:image/png;base64,iVBORw0KGgoAAAANSUhEUgAAADsAAAAPBAMAAACo4Ko7AAAAMFBMVEX///92dnYiIiIQEBBERERU\n",
       "VFS6urqIiIjc3NxmZmaqqqru7u6YmJgyMjLMzMwAAADiRdoGAAAAAXRSTlMAQObYZgAAAO1JREFU\n",
       "GNNjYACBtwzogCf+68wQNyjnPoY0A7MDA8P8BxCl9zdgSL8/wMCQPwHM3DW/ASJ2RElJSQ/CrAcK\n",
       "nS8AMw/UJ4DpXgmEbmcGBm4jsKFsG9YfAAtpIBn+lYHhUTSYtY3hPdgUzgUIWb6vZ0q0IMwEhn6w\n",
       "G5iQNLP/YGDYHABWGDkz3gHEaEWSZjEAKvkFthroyQsgxhYkaX6gTvbvIBbQRiYDdMNB3mb9BmRw\n",
       "AKV5P4CEGAsQ0iBvvwdZ2QSy6QdY7BZC+jLQUhOgt7f8v83A5f8J7PStYbDAjf0fOdVlAXpAP3SC\n",
       "ByoEAACTQj18dtZaDQAAAABJRU5ErkJggg==\n",
       "\" style=\"display:inline;vertical-align:middle;\" /></a>, <a class=\"ProveItLink\" href=\"../../../../../../__pv_it/common/d72bb8b07403efe79afab564c36a28e21330e5f90/expr.ipynb\"><img src=\"data:image/png;base64,iVBORw0KGgoAAAANSUhEUgAAAA8AAAASBAMAAAB2sJk8AAAAMFBMVEX///+qqqq6urrc3NwQEBAy\n",
       "MjJERERUVFTMzMwiIiKYmJh2dnZmZmaIiIju7u4AAABsX1SbAAAAAXRSTlMAQObYZgAAAINJREFU\n",
       "CNdjYGDgu7P7FAMI7GxgYE8A0k8DgILeQEbIAyBRz8DA/Qskvd+AwX4CiHFegWH/BRAjv4FhfgOI\n",
       "8R+IQGoZvzMwTAEJcP5jYCgBMe4DFfY/eHuD4w+Qw3thAff6DSDhvuqbyQxgrQzsDVwGYAbbATUw\n",
       "zcDz/weEwTFFgIEBAOxlJHQBUmidAAAAAElFTkSuQmCC\n",
       "\" style=\"display:inline;vertical-align:middle;\" /></a> : <a class=\"ProveItLink\" href=\"../../../__pv_it/axioms/a99d7bd5f394659fa3f35acf995ee6df5adedc230/expr.ipynb\"><img src=\"data:image/png;base64,iVBORw0KGgoAAAANSUhEUgAAAKwAAAAUBAMAAADihsvzAAAAMFBMVEX///9UVFTMzMx2dna6uroQ\n",
       "EBCqqqqIiIgiIiJmZmYyMjJERETu7u6YmJjc3NwAAAC+aOQFAAAAAXRSTlMAQObYZgAAAmtJREFU\n",
       "OMuVVT1oU1EUPs2LfTEviUXiUBWruIgOr2sXydhNhw6Cgxm72U3EoUGwPET0SadOLaU6lTaDgiDW\n",
       "COqQLBUHbUCs4CCCaEC0U+v5ufe+k9dHaw+Ee8/93vnu+b0BqKzDnjK4mT75Af9h0ZH9+V1oeaQ3\n",
       "d+IJwKnUeamZYFYS14iHLFZEXTXH76Ioui3bQ2g/fxraBqmYtbiZYEZyTUdLPGhRjsW11Rav3y8m\n",
       "LoTow6UYvClDJ1/ChsJQxrdG8aZRGyLxoEVBUvd2XtYVFe00Hn2egtJlUS/ck/W+wtDRma/H6hsl\n",
       "6y7zoMU3k5zpGi2H64r2KX5wBS9fErV6Q3LR0BgMtCB3d+JjDTTPEtxkLd+6zlkv6Nr0AM6dxHVM\n",
       "KrUgoB9rDHz8BXfMzZZnDF6w+hpCzuAXxZrrfbo1Q5suq17d41CCdY1JQdzO8HRBwBr8ZCc6itbf\n",
       "BngzhJtJkEAqC7zWNSbpcTaGZxIm2LHhuZFmOgkBlsr/Q1Vn9QPAUW67msb628vyhEKbx6/ZFdtM\n",
       "JEfQG/+vo8U+OONoHQZeFD3AVhfPLU8oScC4CtJGj/vbduA3dSZPZGwGgZPgMJL3zsTyjHPJKqgW\n",
       "fzHwqtrSbRs2bcmIkqilZA4zcZg5tDxd7h7q3WBboLPP7PA+wqCu0iWzPAyWwIs1RgfuQXA8sxRh\n",
       "Z2cZBl9uxf0vyvGd4YfPuaUWXbVpIPINjWFur0UmtwnPoh3ePaTUkNahSrvhVVLNsijH+9Hq7nBP\n",
       "TSL5ZqbFWt8BBWQfRiPtlFHQH19xd7jt1GBlylrGM67VbIv9/nTKB/7TQYt/2RPEapOsWa8AAAAA\n",
       "SUVORK5CYII=\n",
       "\" style=\"display:inline;vertical-align:middle;\" /></a></span></td></tr><tr><td><a name=\"0x1fa3aa8eb011b311_step2\">2</a></td><td>theorem</td><td></td><td><span style=\"font-size:20px;\"> <a class=\"ProveItLink\" href=\"../../../../../equality/_theory_nbs_/proofs/rhs_via_equality/thm_proof.ipynb\" style=\"text-decoration: none\">&nbsp;&#x22A2;&nbsp;&nbsp;</a><a class=\"ProveItLink\" href=\"../../../../../equality/__pv_it/theorems/4546a35b627d4cb8c4df070fccd511b94f50b8070/expr.ipynb\"><img src=\"data:image/png;base64,iVBORw0KGgoAAAANSUhEUgAAAIkAAAAWBAMAAAAGOqJsAAAAMFBMVEX///8QEBCIiIhmZma6urrM\n",
       "zMxUVFQiIiJERETc3Nzu7u6qqqp2dnaYmJgyMjIAAAAcRTyBAAAAAXRSTlMAQObYZgAAAgFJREFU\n",
       "OMutVD9IG1EY/3nR/DnvqkiXVgdFxEUaxyiIBy7ZmnZwcDFCdSiCuhaLgYImhZJsuqjRMUMrdMoi\n",
       "0kIFDXrOIqaLg9BWEKVpbdPve5fcvUsc9OgP3vf78uX3fnfve/ce8F9Q5HDiebraXRgi2uf83LPL\n",
       "bgz+BLBCaSjh1eQ9LUXtAB5kAW3Lq8tXmo0ZQN/L5Za9mmh/OB5mgJ/J5LxXl/VZjsMGMAmkgMb0\n",
       "dOQll7oLg0LQaOmi158XsxJbqIoOOzmmY8AIVN7tI+o30ZqBZ0IdtPR6K7RZiQVs0UKMY5lGAIpJ\n",
       "NAWEabceAb645OKPQ7mQmOGIyuzVfM0dMgNceA0kydIUj3VcqBBMSFypVURz4ucvdi6O8jdYgvIK\n",
       "6KLUembF5UMGvVmJGY5ogkNYNCf1gpt508df8RkNX1FyefqpsGWzP0l4J4nGs5s9TZdC+JG7pokq\n",
       "bmg07EguB3CzW6R0mtqpyNDCbxTsF3mbtVuOyxu42S3C2HRvCmKjdF5vi3UIptTj0EPZ5Tck9n8n\n",
       "fJNEXIvpGdt/nNLQW2w817cNyaWpBFEXXIUjEouI2n8oPwZoSjvUyJd4SHJ5cpkRdcH2nWKLuM3l\n",
       "q5pj0cxPj6/KK7LrLlRFnM7VXgh5fv2/j+tc8rUuVdGt4JOAJaPOxaxTLhl3O/S++9wQ/wC6SI3I\n",
       "rLOAiQAAAABJRU5ErkJggg==\n",
       "\" style=\"display:inline;vertical-align:middle;\" /></a></span></td></tr>\n",
       "<tr><td>&nbsp;</td><td colspan=4 style-\"text-align:left\"><a class=\"ProveItLink\" href=\"../../../../../equality/_theory_nbs_/proofs/rhs_via_equality/thm_proof.ipynb\">proveit.logic.equality.rhs_via_equality</a></td></tr><tr><td><a name=\"0x1fa3aa8eb011b311_step3\">3</a></td><td>assumption</td><td></td><td><span style=\"font-size:20px;\"><a class=\"ProveItLink\" href=\"../../../__pv_it/axioms/81f49a06ba9c23797bdfafb3065c419bc23ed9230/expr.ipynb\"><img src=\"data:image/png;base64,iVBORw0KGgoAAAANSUhEUgAAADsAAAAPBAMAAACo4Ko7AAAAMFBMVEX///92dnYiIiIQEBBERERU\n",
       "VFS6urqIiIjc3NxmZmaqqqru7u6YmJgyMjLMzMwAAADiRdoGAAAAAXRSTlMAQObYZgAAAO1JREFU\n",
       "GNNjYACBtwzogCf+68wQNyjnPoY0A7MDA8P8BxCl9zdgSL8/wMCQPwHM3DW/ASJ2RElJSQ/CrAcK\n",
       "nS8AMw/UJ4DpXgmEbmcGBm4jsKFsG9YfAAtpIBn+lYHhUTSYtY3hPdgUzgUIWb6vZ0q0IMwEhn6w\n",
       "G5iQNLP/YGDYHABWGDkz3gHEaEWSZjEAKvkFthroyQsgxhYkaX6gTvbvIBbQRiYDdMNB3mb9BmRw\n",
       "AKV5P4CEGAsQ0iBvvwdZ2QSy6QdY7BZC+jLQUhOgt7f8v83A5f8J7PStYbDAjf0fOdVlAXpAP3SC\n",
       "ByoEAACTQj18dtZaDQAAAABJRU5ErkJggg==\n",
       "\" style=\"display:inline;vertical-align:middle;\" /></a> <a class=\"ProveItLink\" href=\"../../../__pv_it/_proof_unfold_proper_subset/cada959656f664532f44fcdc4e43adac3b9e29ad0/proof.ipynb\" style=\"text-decoration: none\">&nbsp;&#x22A2;&nbsp;&nbsp;</a><a class=\"ProveItLink\" href=\"../../../__pv_it/axioms/81f49a06ba9c23797bdfafb3065c419bc23ed9230/expr.ipynb\"><img src=\"data:image/png;base64,iVBORw0KGgoAAAANSUhEUgAAADsAAAAPBAMAAACo4Ko7AAAAMFBMVEX///92dnYiIiIQEBBERERU\n",
       "VFS6urqIiIjc3NxmZmaqqqru7u6YmJgyMjLMzMwAAADiRdoGAAAAAXRSTlMAQObYZgAAAO1JREFU\n",
       "GNNjYACBtwzogCf+68wQNyjnPoY0A7MDA8P8BxCl9zdgSL8/wMCQPwHM3DW/ASJ2RElJSQ/CrAcK\n",
       "nS8AMw/UJ4DpXgmEbmcGBm4jsKFsG9YfAAtpIBn+lYHhUTSYtY3hPdgUzgUIWb6vZ0q0IMwEhn6w\n",
       "G5iQNLP/YGDYHABWGDkz3gHEaEWSZjEAKvkFthroyQsgxhYkaX6gTvbvIBbQRiYDdMNB3mb9BmRw\n",
       "AKV5P4CEGAsQ0iBvvwdZ2QSy6QdY7BZC+jLQUhOgt7f8v83A5f8J7PStYbDAjf0fOdVlAXpAP3SC\n",
       "ByoEAACTQj18dtZaDQAAAABJRU5ErkJggg==\n",
       "\" style=\"display:inline;vertical-align:middle;\" /></a></span></td></tr>\n",
       "<tr><td><a name=\"0x1fa3aa8eb011b311_step4\">4</a></td><td>instantiation</td><td><a href=\"#0x1fa3aa8eb011b311_step5\">5</a></td><td><span style=\"font-size:20px;\"> <a class=\"ProveItLink\" href=\"../../../__pv_it/_proof_unfold_proper_subset/b315a638bb04cc1cb936b84de5a39f515c5fe7ef0/proof.ipynb\" style=\"text-decoration: none\">&nbsp;&#x22A2;&nbsp;&nbsp;</a><a class=\"ProveItLink\" href=\"../../../__pv_it/axioms/4014c5b00a0b83dcf1fc728660b64a9003d8951f0/expr.ipynb\"><img src=\"data:image/png;base64,iVBORw0KGgoAAAANSUhEUgAAASMAAAAUBAMAAAA0Bka/AAAAMFBMVEX///9UVFTMzMx2dna6uroQ\n",
       "EBCqqqqIiIgiIiJmZmYyMjJERETu7u6YmJjc3NwAAAC+aOQFAAAAAXRSTlMAQObYZgAAAxlJREFU\n",
       "SMedlj1oU1EUgE/yYpImL7FIHapiKy5ih3STLJKxmx0yCA5mdNJsUhwaBEsQ0VecOjWIOoi0GRQE\n",
       "aY2gImaJOGgUtYJDEcQWRDu1nnP/330/sT1w817ued955+e+cy9AsQexkl4LzhGze+4nDCYu0k2X\n",
       "/z8ZeKIwtrlw+BHA0SDc3QvntrVOig6L7CCRoECW+NRy8MX70MbiOLwJapaC3Ntms3k1lCuKa25N\n",
       "64Qk28ok2UHCbaHfHg9tuRN4cQljOOOBUw/kwQtwP05Hcjn+JPQNHcrU1iR6OSlNkh0iTgFkeclf\n",
       "LYrSf9LRzuLU1zq407ZLxFjckqG2uIkb/HrT0GGC5r4frPVdmSZmh4iXAOuiqLOVQLSP8aGz6Pxd\n",
       "26V1sLmhGkRyI5d5/RqmDhIdSF6vfqiAaQeJXAVm2Eyqc6mnQxGyCXDiCF7LtkszYmguC5Gc2+LK\n",
       "jGfqIIMjf01GK+wg4XiwwqZeQKluR5vc/Hxljm4+0o/zgAmzuyKG5r5BFAdOzWFG8z1Tx0ui7oQd\n",
       "JAot4A9U4JdnR5vZxsoO480FO0tzYmiuG81lodhi15qp4yVVjLCDRLoBVRbY6MJY2442j4st84e+\n",
       "Etulqhiay0Zz7wEOsNZQMXX+FiDtIJHc4KZTSLTsaPdjNJm/sS4pzmwUFoff2zHlktKB02zewo+b\n",
       "Z0za4S6xAmBOs9N2tNRCEr+pgxhradhXOMXB/Sgu7YkmyQqndCTvFCLtIJFqsGVaxKnchh0ttZBS\n",
       "Wy1TQ+Ty1hw8H+mEc+QOucWXt9KJ/In+Lu3w5V0WPSa/bUd7D10+Ry+6bbtUFsPg4PgT2WL93IR8\n",
       "ueOZOpromX2O2UFiaJJy1d15COlnW54/2kM7o/NP2ed7x3Zpig+T02Jx7KuiZokVMXS4ls43xVrS\n",
       "dpDIjcuNQYmOVu3gjZgNJUY4x9pz0u7C/hZgEq/V9hkjsdvuLri+/2+qHUrgtgurg0yHHE5Wbc6h\n",
       "IljZtbm8P6+5tbA30eHE14pCZTX2CPf/nOtPixtKML8HHVgLezzoFnZ90CXiC8A/90I7Xxz9LRMA\n",
       "AAAASUVORK5CYII=\n",
       "\" style=\"display:inline;vertical-align:middle;\" /></a></span></td></tr>\n",
       "<tr><td>&nbsp;</td><td colspan=4 style=\"text-align:left\"><span style=\"font-size:20px;\"><a class=\"ProveItLink\" href=\"../../../../../../__pv_it/common/09585084922504426caf1db2ff588a23a0932a960/expr.ipynb\"><img src=\"data:image/png;base64,iVBORw0KGgoAAAANSUhEUgAAAA8AAAAOBAMAAAACpFvcAAAALVBMVEX///8iIiIQEBBERERUVFS6\n",
       "urqIiIjc3NxmZmaqqqru7u6YmJgyMjLMzMwAAACK9jtgAAAAAXRSTlMAQObYZgAAAFtJREFUCNdj\n",
       "YACBOwxQcA5Kc59bAGGs7CuAMDbkBYBp1gXzNoAZSxnuJYAZAQx1DSCa16PDzwCshIGB6QCIMYGB\n",
       "gVEBSLMDGTwPgIxCIGZ+zsCw+N0pBk67hw0AfpEVEQi8t+wAAAAASUVORK5CYII=\n",
       "\" style=\"display:inline;vertical-align:middle;\" /></a> : <a class=\"ProveItLink\" href=\"../../../../../../__pv_it/common/09585084922504426caf1db2ff588a23a0932a960/expr.ipynb\"><img src=\"data:image/png;base64,iVBORw0KGgoAAAANSUhEUgAAAA8AAAAOBAMAAAACpFvcAAAALVBMVEX///8iIiIQEBBERERUVFS6\n",
       "urqIiIjc3NxmZmaqqqru7u6YmJgyMjLMzMwAAACK9jtgAAAAAXRSTlMAQObYZgAAAFtJREFUCNdj\n",
       "YACBOwxQcA5Kc59bAGGs7CuAMDbkBYBp1gXzNoAZSxnuJYAZAQx1DSCa16PDzwCshIGB6QCIMYGB\n",
       "gVEBSLMDGTwPgIxCIGZ+zsCw+N0pBk67hw0AfpEVEQi8t+wAAAAASUVORK5CYII=\n",
       "\" style=\"display:inline;vertical-align:middle;\" /></a>, <a class=\"ProveItLink\" href=\"../../../../../../__pv_it/common/a9162d1c3cc0470c02e5daf414500903a7a419230/expr.ipynb\"><img src=\"data:image/png;base64,iVBORw0KGgoAAAANSUhEUgAAABAAAAAOBAMAAADUAYG5AAAALVBMVEX///8yMjKqqqoiIiLu7u7c\n",
       "3NyIiIjMzMwQEBC6urpERERmZmZUVFSYmJgAAACsPVCVAAAAAXRSTlMAQObYZgAAAGxJREFUCNdj\n",
       "YGC48+70nlUTGICgi4GB+zmQZn/LwMD5Gshge8rAwPsMyOBqYGDwMAEy+A4wsNs4ABl1Z68tVgBp\n",
       "ygtgYOkBMVaAOCChNyBGAsQYhnMTIMawvwJyGIHGzFjCwMAj92b3qUUMDAAXABxvZ4rl5AAAAABJ\n",
       "RU5ErkJggg==\n",
       "\" style=\"display:inline;vertical-align:middle;\" /></a> : <a class=\"ProveItLink\" href=\"../../../../../../__pv_it/common/a9162d1c3cc0470c02e5daf414500903a7a419230/expr.ipynb\"><img src=\"data:image/png;base64,iVBORw0KGgoAAAANSUhEUgAAABAAAAAOBAMAAADUAYG5AAAALVBMVEX///8yMjKqqqoiIiLu7u7c\n",
       "3NyIiIjMzMwQEBC6urpERERmZmZUVFSYmJgAAACsPVCVAAAAAXRSTlMAQObYZgAAAGxJREFUCNdj\n",
       "YGC48+70nlUTGICgi4GB+zmQZn/LwMD5Gshge8rAwPsMyOBqYGDwMAEy+A4wsNs4ABl1Z68tVgBp\n",
       "ygtgYOkBMVaAOCChNyBGAsQYhnMTIMawvwJyGIHGzFjCwMAj92b3qUUMDAAXABxvZ4rl5AAAAABJ\n",
       "RU5ErkJggg==\n",
       "\" style=\"display:inline;vertical-align:middle;\" /></a></span></td></tr><tr><td><a name=\"0x1fa3aa8eb011b311_step5\">5</a></td><td>axiom</td><td></td><td><span style=\"font-size:20px;\"> <a class=\"ProveItLink\" href=\"../../axioms.ipynb#proper_subset_def\" style=\"text-decoration: none\">&nbsp;&#x22A2;&nbsp;&nbsp;</a><a class=\"ProveItLink\" href=\"../../../__pv_it/axioms/dc19bd769da96446823e6eb8658ec92e1c8f526e0/expr.ipynb\"><img src=\"data:image/png;base64,iVBORw0KGgoAAAANSUhEUgAAAWsAAAAVBAMAAAByN9JOAAAAMFBMVEX///8QEBCIiIhmZma6urrM\n",
       "zMxUVFQiIiJERETc3Nzu7u6qqqp2dnaYmJgyMjIAAAAcRTyBAAAAAXRSTlMAQObYZgAAA/FJREFU\n",
       "SMfVV0toFEEQLfeT3Zn9mENAQdFFD3rRLCzEi5AFDxFBkpN6EBNRIXrQDSKLxs8KgokouwdRQTQr\n",
       "igYFXfCgngzmIH6QxYAf/K2oh0QwIQlJjMRY/Znpnp5PEvFiwZuZnao3W11VXd0N4CVamcFLIoV/\n",
       "xbvkTYAHEirkxQcXw24OlG02ZWzfWKr1BMDuf8TTc0JniDn0IPpZVRB4Rl4OuLjdz4EyaNfOw/+p\n",
       "b4Lbs+K9ymazBxx5Gr/HC0JnOJsznuJDOK6KwAVCzDl7HUsykMfBok3djLFoTEI0MQve5SeuvDiz\n",
       "hD5Jh9Iw3oMj6eGcj5N4eSQQx89GS85uhwoMKLfqeSm+EVGrxVefEqBXz4LXL6kV3pZD7H5Q0mGg\n",
       "289uL/XpPKD63Z94vSIQe3rz5nmXGjnPQYqsNm2L2nH83AIc9deZeX45MApv5zJWKxlZB1VFCB6t\n",
       "eZ3m+fONkrykBSY6Og67uL2cAyBQfFgWIeEyBrB5D957Z+aFwJWnV5jSl5R14EOE24yIbIhM4TWa\n",
       "FNgF0ElV7Lp+pLfVaE1nOACuQXNCjVpw7MPKdlp35BL9QSXpzDsHbjysUFaj4bKsY6k1m0w6OExi\n",
       "XhFYR2cmPo+ydFRD1CjWdg6ANHQl1aj5sNyutODDPTXadl63Oy8EGv3/UEnWsfIxHgKgjZBWnxEI\n",
       "gY/m8eoUtfC3QGSSW9dwQHBHal9OjVoYR+f7RWa/6radF3LnvaQJx9aXlnXW9rcpVTdBXgwJRMvs\n",
       "m0/3s8EnwF9R/z6AX62oUZuPUfENe7pt8uQmqfCwj2wy3TZ1EM1mj2HTauFJgyWK21qFsoKJDmpx\n",
       "pwlWF9VkY/5C1WrUSIutIpXVINV2izMPvrvxIkm+0NAiMXVE3pv7AEQbiUJGADppCVXBGmrSuGql\n",
       "WVvG1NJKbJmyRo202OacObUksfPg+s6iM4+4TFxnU9LU8TwwuchXW3lKwl3aMN9BLTV5AbDCMO/l\n",
       "ID04/FON2mcc9kLizFrVbQcebD1pLFNW3hbDQdLVhI68MDYktKPncUD+HgGYTyKof3mep+anAbqM\n",
       "LtfA0D09AJH8eNIatb3TO+o6qOU31W0HnhCFR1O9jFeA0GFtL82y2tbzv4twfxqnXrxJAGLEEX8R\n",
       "uugOBqdxY8G+SJsiomY21YzH4u4hjEeXwaC6klnanyk3JDDZiFEva6dAmwRtscOWyEM8t1Jz4PVZ\n",
       "fwbs+ztpK8V76QRo+SPBRfB4JNWaNu06zcXTQxw2rjZelCRcyZLKC1vzE7elS964Wk8c7tt9d+n0\n",
       "PCbMnqdbw6vbCGRcBmzHnrkermJ/eSiLzflQ9laCRcrwn8gfSH55F75O+poAAAAASUVORK5CYII=\n",
       "\" style=\"display:inline;vertical-align:middle;\" /></a></span></td></tr>\n",
       "<tr><td>&nbsp;</td><td colspan=4 style-\"text-align:left\"><a class=\"ProveItLink\" href=\"../../axioms.ipynb#proper_subset_def\">proveit.logic.sets.inclusion.proper_subset_def</a></td></tr></table>"
      ],
      "text/plain": [
       "\tstep type\trequirements\tstatement\n",
       "0\tgeneralizaton\t1\t|- forall_{A, B | A proper_subset B} ((A subseteq B) and (B not_equiv A))\n",
       "1\tinstantiation\t2, 3, 4\t{A proper_subset B} |- (A subseteq B) and (B not_equiv A)\n",
       "\tP : A proper_subset B, Q : (A subseteq B) and (B not_equiv A)\n",
       "2\ttheorem\t\t|- forall_{P, Q | P, P = Q} Q\n",
       "\tproveit.logic.equality.rhs_via_equality\n",
       "3\tassumption\t\t{A proper_subset B} |- A proper_subset B\n",
       "4\tinstantiation\t5\t|- (A proper_subset B) = ((A subseteq B) and (B not_equiv A))\n",
       "\tA : A, B : B\n",
       "5\taxiom\t\t|- forall_{A, B} ((A proper_subset B) = ((A subseteq B) and (B not_equiv A)))\n",
       "\tproveit.logic.sets.inclusion.proper_subset_def"
      ]
     },
     "execution_count": 6,
     "metadata": {},
     "output_type": "execute_result"
    }
   ],
   "source": [
    "%qed"
   ]
  },
  {
   "cell_type": "code",
   "execution_count": null,
   "metadata": {},
   "outputs": [],
   "source": []
  }
 ],
 "metadata": {
  "kernelspec": {
   "display_name": "Python 3",
   "language": "python",
   "name": "python3"
  }
 },
 "nbformat": 4,
 "nbformat_minor": 0
}