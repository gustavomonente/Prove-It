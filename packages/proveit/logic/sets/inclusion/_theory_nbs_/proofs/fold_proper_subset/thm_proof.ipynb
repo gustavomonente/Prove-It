{
 "cells": [
  {
   "cell_type": "markdown",
   "metadata": {},
   "source": [
    "Proof of <a class=\"ProveItLink\" href=\"../../../../../../_theory_nbs_/theory.ipynb\">proveit</a>.<a class=\"ProveItLink\" href=\"../../../../../_theory_nbs_/theory.ipynb\">logic</a>.<a class=\"ProveItLink\" href=\"../../../../_theory_nbs_/theory.ipynb\">sets</a>.<a class=\"ProveItLink\" href=\"../../theory.ipynb\">inclusion</a>.<a class=\"ProveItLink\" href=\"../../theorems.ipynb#fold_proper_subset\">fold_proper_subset</a> theorem\n",
    "========"
   ]
  },
  {
   "cell_type": "code",
   "execution_count": 1,
   "metadata": {},
   "outputs": [],
   "source": [
    "import proveit\n",
    "from proveit import A, B\n",
    "from proveit.logic.sets.inclusion  import proper_subset_def\n",
    "theory = proveit.Theory() # the theorem's theory"
   ]
  },
  {
   "cell_type": "code",
   "execution_count": 2,
   "metadata": {},
   "outputs": [
    {
     "data": {
      "text/html": [
       "Under these <a href=\"presumptions.txt\">presumptions</a>, we begin our proof of<br><strong id=\"fold_proper_subset\">fold_proper_subset:</strong> <a class=\"ProveItLink\" href=\"../../../__pv_it/theorems/a2c031fa2b2b612e9a43a8a843e51ad4b5d36b1b0/expr.ipynb\"><img src=\"data:image/png;base64,iVBORw0KGgoAAAANSUhEUgAAAOUAAAAYBAMAAAD36yfiAAAAMFBMVEX///8QEBCIiIhmZma6urrM\n",
       "zMxUVFQiIiJERETc3Nzu7u6qqqp2dnaYmJgyMjIAAAAcRTyBAAAAAXRSTlMAQObYZgAAAy5JREFU\n",
       "SMe1VktoE1EUPU4yTWaStIWCCIpkpwjaQiCiVo3WhRSkRaFbA37oRowKLYpiFG2nVUlcWRDpqItK\n",
       "EC10Y3FhrYK1ikQFQfwF3BWhpbE1Rmq98958Xhr6EccLk/e5Z9657/4mgMtyYxH9ID05Y/LJNUo1\n",
       "yQY5V6Z5N3sgqsVQkQZeGOsx1zgr03yYKFetADxTUMmaHlopSdc43/Lhc7FMI88A3jwwTBbpQLDf\n",
       "Nc6T3MMDP/ky1Nne3t7MphJthSaBmzSMZjLXXKNUEpxK+s6X39K2yl9NfKfokjGgoGmnXeOU6tjQ\n",
       "GJhho8+hRFUccpvhVIIcArpc4/RnmWtj8iRbbhFU+4+86TRiGKIkamCp5JL4WGZ4oeTZMiGoatNQ\n",
       "l9MYoE0fJGacedvd+Setaf6iZbvtIG+qPjoHpeolkGUx47clEi2wcMYFznMGL5kkUxkFsz4edx72\n",
       "UDWC1ewcC/yFzrmraR00fQ08LkVVpC2IwEk/q4UGwWXa4AxzTiXXwvZu87B74ggURU51exbyRT6P\n",
       "Ao90G6WmavQGyYQIvg3Qc2yub43yxFGyxmtsdh1km6Mn+FtheHIiZ7Cvzp4fB7Y5KE9Mqhn7aEKE\n",
       "HLpOzzhbDgsZTeUpF8wcwgCzRg5rTHe/GRt0kXOvP4mH5pWnII05KLrindm4CTENrDNrNMV8Xuk0\n",
       "m0oKxY5uw0VDRuGEWWCwkema1q/lkbc4454ENpk5NPmmAyUovw0xEQmoqd86Hswyr6mHG01Fxfh0\n",
       "pPUSIzfaUohd6wNqmfIVsEbkDPVLE3hu3iIHKVGCempDSnqfE8URu/dZ0ud8g76+TDHuy0Bvv8B5\n",
       "r36kiJ1mtIag/IKNCmpaQTtvQkp7/ALixNijo5fZQ2c2pQXOzVCmrPqr6oeXN28TxSuFQcqKeb4P\n",
       "rNOA9tCJWaUbShHKKsG3XkrEGahX2FG9Oq7SVR3UPgdS+s1eoDvaRvkLUFJn5JV4lo+0xgTOVBI9\n",
       "P7IIjFBPCJ6NRC9QjCyUFGmLRLZakCX+N3k/dyMgGjTvazbq1rpMRv/XFj24JM7BxSF/Idl5OHs0\n",
       "knLULrf/NHrwv+QPfpDnXGo9vHgAAAAASUVORK5CYII=\n",
       "\" style=\"display:inline;vertical-align:middle;\" /></a><br>(see <a class=\"ProveItLink\" href=\"../../../__pv_it/theorems/600d348360f65b25892abbc46433c13b617d7f010/dependencies.ipynb\">dependencies</a>)<br>"
      ],
      "text/plain": [
       "fold_proper_subset: forall_{A, B | A subset_eq B, B not_equiv A} (A proper_subset B)"
      ]
     },
     "execution_count": 2,
     "metadata": {},
     "output_type": "execute_result"
    }
   ],
   "source": [
    "%proving fold_proper_subset"
   ]
  },
  {
   "cell_type": "code",
   "execution_count": 3,
   "metadata": {},
   "outputs": [
    {
     "data": {
      "text/html": [
       "<span style=\"font-size:20px;\"> <a class=\"ProveItLink\" href=\"../../axioms.ipynb#proper_subset_def\" style=\"text-decoration: none\">&nbsp;&#x22A2;&nbsp;&nbsp;</a><a class=\"ProveItLink\" href=\"../../../__pv_it/axioms/e95bfa29563f2d409f4f144fe6c68968590429550/expr.ipynb\"><img src=\"data:image/png;base64,iVBORw0KGgoAAAANSUhEUgAAAWsAAAAVBAMAAAByN9JOAAAAMFBMVEX///8QEBCIiIhmZma6urrM\n",
       "zMxUVFQiIiJERETc3Nzu7u6qqqp2dnaYmJgyMjIAAAAcRTyBAAAAAXRSTlMAQObYZgAAA/FJREFU\n",
       "SMfVV0toFEEQLfeT3Zn9mENAQdFFD3rRLCzEi5AFDxFBkpN6EBNRIXrQDSKLxs8KgokouwdRQTQr\n",
       "igYFXfCgngzmIH6QxYAf/K2oh0QwIQlJjMRY/Znpnp5PEvFiwZuZnao3W11VXd0N4CVamcFLIoV/\n",
       "xbvkTYAHEirkxQcXw24OlG02ZWzfWKr1BMDuf8TTc0JniDn0IPpZVRB4Rl4OuLjdz4EyaNfOw/+p\n",
       "b4Lbs+K9ymazBxx5Gr/HC0JnOJsznuJDOK6KwAVCzDl7HUsykMfBok3djLFoTEI0MQve5SeuvDiz\n",
       "hD5Jh9Iw3oMj6eGcj5N4eSQQx89GS85uhwoMKLfqeSm+EVGrxVefEqBXz4LXL6kV3pZD7H5Q0mGg\n",
       "289uL/XpPKD63Z94vSIQe3rz5nmXGjnPQYqsNm2L2nH83AIc9deZeX45MApv5zJWKxlZB1VFCB6t\n",
       "eZ3m+fONkrykBSY6Og67uL2cAyBQfFgWIeEyBrB5D957Z+aFwJWnV5jSl5R14EOE24yIbIhM4TWa\n",
       "FNgF0ElV7Lp+pLfVaE1nOACuQXNCjVpw7MPKdlp35BL9QSXpzDsHbjysUFaj4bKsY6k1m0w6OExi\n",
       "XhFYR2cmPo+ydFRD1CjWdg6ANHQl1aj5sNyutODDPTXadl63Oy8EGv3/UEnWsfIxHgKgjZBWnxEI\n",
       "gY/m8eoUtfC3QGSSW9dwQHBHal9OjVoYR+f7RWa/6radF3LnvaQJx9aXlnXW9rcpVTdBXgwJRMvs\n",
       "m0/3s8EnwF9R/z6AX62oUZuPUfENe7pt8uQmqfCwj2wy3TZ1EM1mj2HTauFJgyWK21qFsoKJDmpx\n",
       "pwlWF9VkY/5C1WrUSIutIpXVINV2izMPvrvxIkm+0NAiMXVE3pv7AEQbiUJGADppCVXBGmrSuGql\n",
       "WVvG1NJKbJmyRo202OacObUksfPg+s6iM4+4TFxnU9LU8TwwuchXW3lKwl3aMN9BLTV5AbDCMO/l\n",
       "ID04/FON2mcc9kLizFrVbQcebD1pLFNW3hbDQdLVhI68MDYktKPncUD+HgGYTyKof3mep+anAbqM\n",
       "LtfA0D09AJH8eNIatb3TO+o6qOU31W0HnhCFR1O9jFeA0GFtL82y2tbzv4twfxqnXrxJAGLEEX8R\n",
       "uugOBqdxY8G+SJsiomY21YzH4u4hjEeXwaC6klnanyk3JDDZiFEva6dAmwRtscOWyEM8t1Jz4PVZ\n",
       "fwbs+ztpK8V76QRo+SPBRfB4JNWaNu06zcXTQxw2rjZelCRcyZLKC1vzE7elS964Wk8c7tt9d+n0\n",
       "PCbMnqdbw6vbCGRcBmzHnrkermJ/eSiLzflQ9laCRcrwn8gfSH55F75O+poAAAAASUVORK5CYII=\n",
       "\" style=\"display:inline;vertical-align:middle;\" /></a></span>"
      ],
      "text/plain": [
       "|- forall_{A, B} ((A proper_subset B) = ((A subset_eq B) and (B not_equiv A)))"
      ]
     },
     "execution_count": 3,
     "metadata": {},
     "output_type": "execute_result"
    }
   ],
   "source": [
    "# pull in the proper subset definition\n",
    "proper_subset_def"
   ]
  },
  {
   "cell_type": "code",
   "execution_count": 4,
   "metadata": {},
   "outputs": [
    {
     "data": {
      "text/html": [
       "<strong id=\"proper_subset_def_inst\">proper_subset_def_inst:</strong> <span style=\"font-size:20px;\"> <a class=\"ProveItLink\" href=\"../../../__pv_it/_proof_fold_proper_subset/f268c2e55cf3ceb6a4a9e3307feeefeeb659e0f50/proof.ipynb\" style=\"text-decoration: none\">&nbsp;&#x22A2;&nbsp;&nbsp;</a><a class=\"ProveItLink\" href=\"../../../__pv_it/axioms/36bbbb481040a4723c07145beabe0c7f5a20a23f0/expr.ipynb\"><img src=\"data:image/png;base64,iVBORw0KGgoAAAANSUhEUgAAASMAAAAUBAMAAAA0Bka/AAAAMFBMVEX///9UVFTMzMx2dna6uroQ\n",
       "EBCqqqqIiIgiIiJmZmYyMjJERETu7u6YmJjc3NwAAAC+aOQFAAAAAXRSTlMAQObYZgAAAxlJREFU\n",
       "SMedlj1oU1EUgE/yYpImL7FIHapiKy5ih3STLJKxmx0yCA5mdNJsUhwaBEsQ0VecOjWIOoi0GRQE\n",
       "aY2gImaJOGgUtYJDEcQWRDu1nnP/330/sT1w817ued955+e+cy9AsQexkl4LzhGze+4nDCYu0k2X\n",
       "/z8ZeKIwtrlw+BHA0SDc3QvntrVOig6L7CCRoECW+NRy8MX70MbiOLwJapaC3Ntms3k1lCuKa25N\n",
       "64Qk28ok2UHCbaHfHg9tuRN4cQljOOOBUw/kwQtwP05Hcjn+JPQNHcrU1iR6OSlNkh0iTgFkeclf\n",
       "LYrSf9LRzuLU1zq407ZLxFjckqG2uIkb/HrT0GGC5r4frPVdmSZmh4iXAOuiqLOVQLSP8aGz6Pxd\n",
       "26V1sLmhGkRyI5d5/RqmDhIdSF6vfqiAaQeJXAVm2Eyqc6mnQxGyCXDiCF7LtkszYmguC5Gc2+LK\n",
       "jGfqIIMjf01GK+wg4XiwwqZeQKluR5vc/Hxljm4+0o/zgAmzuyKG5r5BFAdOzWFG8z1Tx0ui7oQd\n",
       "JAot4A9U4JdnR5vZxsoO480FO0tzYmiuG81lodhi15qp4yVVjLCDRLoBVRbY6MJY2442j4st84e+\n",
       "Etulqhiay0Zz7wEOsNZQMXX+FiDtIJHc4KZTSLTsaPdjNJm/sS4pzmwUFoff2zHlktKB02zewo+b\n",
       "Z0za4S6xAmBOs9N2tNRCEr+pgxhradhXOMXB/Sgu7YkmyQqndCTvFCLtIJFqsGVaxKnchh0ttZBS\n",
       "Wy1TQ+Ty1hw8H+mEc+QOucWXt9KJ/In+Lu3w5V0WPSa/bUd7D10+Ry+6bbtUFsPg4PgT2WL93IR8\n",
       "ueOZOpromX2O2UFiaJJy1d15COlnW54/2kM7o/NP2ed7x3Zpig+T02Jx7KuiZokVMXS4ls43xVrS\n",
       "dpDIjcuNQYmOVu3gjZgNJUY4x9pz0u7C/hZgEq/V9hkjsdvuLri+/2+qHUrgtgurg0yHHE5Wbc6h\n",
       "IljZtbm8P6+5tbA30eHE14pCZTX2CPf/nOtPixtKML8HHVgLezzoFnZ90CXiC8A/90I7Xxz9LRMA\n",
       "AAAASUVORK5CYII=\n",
       "\" style=\"display:inline;vertical-align:middle;\" /></a></span><br>"
      ],
      "text/plain": [
       "proper_subset_def_inst: |- (A proper_subset B) = ((A subset_eq B) and (B not_equiv A))"
      ]
     },
     "execution_count": 4,
     "metadata": {},
     "output_type": "execute_result"
    }
   ],
   "source": [
    "proper_subset_def_inst = proper_subset_def.instantiate()"
   ]
  },
  {
   "cell_type": "code",
   "execution_count": 5,
   "metadata": {},
   "outputs": [
    {
     "data": {
      "text/html": [
       "<strong id=\"proper_subset_def_inst_derive_left\">proper_subset_def_inst_derive_left:</strong> <span style=\"font-size:20px;\"><a class=\"ProveItLink\" href=\"../../../__pv_it/axioms/990ad913bfe108c5b921cb343b8df2f124281bd00/expr.ipynb\"><img src=\"data:image/png;base64,iVBORw0KGgoAAAANSUhEUgAAAKwAAAAUBAMAAADihsvzAAAAMFBMVEX///9UVFTMzMx2dna6uroQ\n",
       "EBCqqqqIiIgiIiJmZmYyMjJERETu7u6YmJjc3NwAAAC+aOQFAAAAAXRSTlMAQObYZgAAAmtJREFU\n",
       "OMuVVT1oU1EUPs2LfTEviUXiUBWruIgOr2sXydhNhw6Cgxm72U3EoUGwPET0SadOLaU6lTaDgiDW\n",
       "COqQLBUHbUCs4CCCaEC0U+v5ufe+k9dHaw+Ee8/93vnu+b0BqKzDnjK4mT75Af9h0ZH9+V1oeaQ3\n",
       "d+IJwKnUeamZYFYS14iHLFZEXTXH76Ioui3bQ2g/fxraBqmYtbiZYEZyTUdLPGhRjsW11Rav3y8m\n",
       "LoTow6UYvClDJ1/ChsJQxrdG8aZRGyLxoEVBUvd2XtYVFe00Hn2egtJlUS/ck/W+wtDRma/H6hsl\n",
       "6y7zoMU3k5zpGi2H64r2KX5wBS9fErV6Q3LR0BgMtCB3d+JjDTTPEtxkLd+6zlkv6Nr0AM6dxHVM\n",
       "KrUgoB9rDHz8BXfMzZZnDF6w+hpCzuAXxZrrfbo1Q5suq17d41CCdY1JQdzO8HRBwBr8ZCc6itbf\n",
       "BngzhJtJkEAqC7zWNSbpcTaGZxIm2LHhuZFmOgkBlsr/Q1Vn9QPAUW67msb628vyhEKbx6/ZFdtM\n",
       "JEfQG/+vo8U+OONoHQZeFD3AVhfPLU8oScC4CtJGj/vbduA3dSZPZGwGgZPgMJL3zsTyjHPJKqgW\n",
       "fzHwqtrSbRs2bcmIkqilZA4zcZg5tDxd7h7q3WBboLPP7PA+wqCu0iWzPAyWwIs1RgfuQXA8sxRh\n",
       "Z2cZBl9uxf0vyvGd4YfPuaUWXbVpIPINjWFur0UmtwnPoh3ePaTUkNahSrvhVVLNsijH+9Hq7nBP\n",
       "TSL5ZqbFWt8BBWQfRiPtlFHQH19xd7jt1GBlylrGM67VbIv9/nTKB/7TQYt/2RPEapOsWa8AAAAA\n",
       "SUVORK5CYII=\n",
       "\" style=\"display:inline;vertical-align:middle;\" /></a> <a class=\"ProveItLink\" href=\"../../../__pv_it/_proof_fold_proper_subset/97a7e38d8bf982b625463fa90730614a98b75aaa0/proof.ipynb\" style=\"text-decoration: none\">&nbsp;&#x22A2;&nbsp;&nbsp;</a><a class=\"ProveItLink\" href=\"../../../__pv_it/axioms/6aba98c32035862320afc34f929d47e5e7151b7d0/expr.ipynb\"><img src=\"data:image/png;base64,iVBORw0KGgoAAAANSUhEUgAAADsAAAAPBAMAAACo4Ko7AAAAMFBMVEX///92dnYiIiIQEBBERERU\n",
       "VFS6urqIiIjc3NxmZmaqqqru7u6YmJgyMjLMzMwAAADiRdoGAAAAAXRSTlMAQObYZgAAAO1JREFU\n",
       "GNNjYACBtwzogCf+68wQNyjnPoY0A7MDA8P8BxCl9zdgSL8/wMCQPwHM3DW/ASJ2RElJSQ/CrAcK\n",
       "nS8AMw/UJ4DpXgmEbmcGBm4jsKFsG9YfAAtpIBn+lYHhUTSYtY3hPdgUzgUIWb6vZ0q0IMwEhn6w\n",
       "G5iQNLP/YGDYHABWGDkz3gHEaEWSZjEAKvkFthroyQsgxhYkaX6gTvbvIBbQRiYDdMNB3mb9BmRw\n",
       "AKV5P4CEGAsQ0iBvvwdZ2QSy6QdY7BZC+jLQUhOgt7f8v83A5f8J7PStYbDAjf0fOdVlAXpAP3SC\n",
       "ByoEAACTQj18dtZaDQAAAABJRU5ErkJggg==\n",
       "\" style=\"display:inline;vertical-align:middle;\" /></a></span><br>"
      ],
      "text/plain": [
       "proper_subset_def_inst_derive_left: {(A subset_eq B) and (B not_equiv A)} |- A proper_subset B"
      ]
     },
     "execution_count": 5,
     "metadata": {},
     "output_type": "execute_result"
    }
   ],
   "source": [
    "proper_subset_def_inst_derive_left = proper_subset_def_inst.derive_left_via_equality([proper_subset_def_inst.rhs])"
   ]
  },
  {
   "cell_type": "code",
   "execution_count": 6,
   "metadata": {},
   "outputs": [
    {
     "name": "stdout",
     "output_type": "stream",
     "text": [
      "fold_proper_subset has been proven.  Now simply execute \"%qed\".\n"
     ]
    },
    {
     "data": {
      "text/html": [
       "<span style=\"font-size:20px;\"> <a class=\"ProveItLink\" href=\"../../../__pv_it/_proof_fold_proper_subset/4701d25cca74ee6d6224084664750ac0361301aa0/proof.ipynb\" style=\"text-decoration: none\">&nbsp;&#x22A2;&nbsp;&nbsp;</a><a class=\"ProveItLink\" href=\"../../../__pv_it/theorems/a2c031fa2b2b612e9a43a8a843e51ad4b5d36b1b0/expr.ipynb\"><img src=\"data:image/png;base64,iVBORw0KGgoAAAANSUhEUgAAAOUAAAAYBAMAAAD36yfiAAAAMFBMVEX///8QEBCIiIhmZma6urrM\n",
       "zMxUVFQiIiJERETc3Nzu7u6qqqp2dnaYmJgyMjIAAAAcRTyBAAAAAXRSTlMAQObYZgAAAy5JREFU\n",
       "SMe1VktoE1EUPU4yTWaStIWCCIpkpwjaQiCiVo3WhRSkRaFbA37oRowKLYpiFG2nVUlcWRDpqItK\n",
       "EC10Y3FhrYK1ikQFQfwF3BWhpbE1Rmq98958Xhr6EccLk/e5Z9657/4mgMtyYxH9ID05Y/LJNUo1\n",
       "yQY5V6Z5N3sgqsVQkQZeGOsx1zgr03yYKFetADxTUMmaHlopSdc43/Lhc7FMI88A3jwwTBbpQLDf\n",
       "Nc6T3MMDP/ky1Nne3t7MphJthSaBmzSMZjLXXKNUEpxK+s6X39K2yl9NfKfokjGgoGmnXeOU6tjQ\n",
       "GJhho8+hRFUccpvhVIIcArpc4/RnmWtj8iRbbhFU+4+86TRiGKIkamCp5JL4WGZ4oeTZMiGoatNQ\n",
       "l9MYoE0fJGacedvd+Setaf6iZbvtIG+qPjoHpeolkGUx47clEi2wcMYFznMGL5kkUxkFsz4edx72\n",
       "UDWC1ewcC/yFzrmraR00fQ08LkVVpC2IwEk/q4UGwWXa4AxzTiXXwvZu87B74ggURU51exbyRT6P\n",
       "Ao90G6WmavQGyYQIvg3Qc2yub43yxFGyxmtsdh1km6Mn+FtheHIiZ7Cvzp4fB7Y5KE9Mqhn7aEKE\n",
       "HLpOzzhbDgsZTeUpF8wcwgCzRg5rTHe/GRt0kXOvP4mH5pWnII05KLrindm4CTENrDNrNMV8Xuk0\n",
       "m0oKxY5uw0VDRuGEWWCwkema1q/lkbc4454ENpk5NPmmAyUovw0xEQmoqd86Hswyr6mHG01Fxfh0\n",
       "pPUSIzfaUohd6wNqmfIVsEbkDPVLE3hu3iIHKVGCempDSnqfE8URu/dZ0ud8g76+TDHuy0Bvv8B5\n",
       "r36kiJ1mtIag/IKNCmpaQTtvQkp7/ALixNijo5fZQ2c2pQXOzVCmrPqr6oeXN28TxSuFQcqKeb4P\n",
       "rNOA9tCJWaUbShHKKsG3XkrEGahX2FG9Oq7SVR3UPgdS+s1eoDvaRvkLUFJn5JV4lo+0xgTOVBI9\n",
       "P7IIjFBPCJ6NRC9QjCyUFGmLRLZakCX+N3k/dyMgGjTvazbq1rpMRv/XFj24JM7BxSF/Idl5OHs0\n",
       "knLULrf/NHrwv+QPfpDnXGo9vHgAAAAASUVORK5CYII=\n",
       "\" style=\"display:inline;vertical-align:middle;\" /></a></span>"
      ],
      "text/plain": [
       "|- forall_{A, B | (A subset_eq B) and (B not_equiv A)} (A proper_subset B)"
      ]
     },
     "execution_count": 6,
     "metadata": {},
     "output_type": "execute_result"
    }
   ],
   "source": [
    "proper_subset_def_inst_derive_left.generalize([[A, B]], conditions=[*proper_subset_def_inst_derive_left.assumptions])"
   ]
  },
  {
   "cell_type": "code",
   "execution_count": 7,
   "metadata": {},
   "outputs": [
    {
     "data": {
      "text/html": [
       "<table><tr><th>&nbsp;</th><th>step type</th><th>requirements</th><th>statement</th></tr>\n",
       "<tr><td><a name=\"-0x38bc9022c3d4b7b4_step0\">0</a></td><td>generalizaton</td><td><a href=\"#-0x38bc9022c3d4b7b4_step1\">1</a></td><td><span style=\"font-size:20px;\"> <a class=\"ProveItLink\" href=\"../../../__pv_it/_proof_fold_proper_subset/4701d25cca74ee6d6224084664750ac0361301aa0/proof.ipynb\" style=\"text-decoration: none\">&nbsp;&#x22A2;&nbsp;&nbsp;</a><a class=\"ProveItLink\" href=\"../../../__pv_it/theorems/a2c031fa2b2b612e9a43a8a843e51ad4b5d36b1b0/expr.ipynb\"><img src=\"data:image/png;base64,iVBORw0KGgoAAAANSUhEUgAAAOUAAAAYBAMAAAD36yfiAAAAMFBMVEX///8QEBCIiIhmZma6urrM\n",
       "zMxUVFQiIiJERETc3Nzu7u6qqqp2dnaYmJgyMjIAAAAcRTyBAAAAAXRSTlMAQObYZgAAAy5JREFU\n",
       "SMe1VktoE1EUPU4yTWaStIWCCIpkpwjaQiCiVo3WhRSkRaFbA37oRowKLYpiFG2nVUlcWRDpqItK\n",
       "EC10Y3FhrYK1ikQFQfwF3BWhpbE1Rmq98958Xhr6EccLk/e5Z9657/4mgMtyYxH9ID05Y/LJNUo1\n",
       "yQY5V6Z5N3sgqsVQkQZeGOsx1zgr03yYKFetADxTUMmaHlopSdc43/Lhc7FMI88A3jwwTBbpQLDf\n",
       "Nc6T3MMDP/ky1Nne3t7MphJthSaBmzSMZjLXXKNUEpxK+s6X39K2yl9NfKfokjGgoGmnXeOU6tjQ\n",
       "GJhho8+hRFUccpvhVIIcArpc4/RnmWtj8iRbbhFU+4+86TRiGKIkamCp5JL4WGZ4oeTZMiGoatNQ\n",
       "l9MYoE0fJGacedvd+Setaf6iZbvtIG+qPjoHpeolkGUx47clEi2wcMYFznMGL5kkUxkFsz4edx72\n",
       "UDWC1ewcC/yFzrmraR00fQ08LkVVpC2IwEk/q4UGwWXa4AxzTiXXwvZu87B74ggURU51exbyRT6P\n",
       "Ao90G6WmavQGyYQIvg3Qc2yub43yxFGyxmtsdh1km6Mn+FtheHIiZ7Cvzp4fB7Y5KE9Mqhn7aEKE\n",
       "HLpOzzhbDgsZTeUpF8wcwgCzRg5rTHe/GRt0kXOvP4mH5pWnII05KLrindm4CTENrDNrNMV8Xuk0\n",
       "m0oKxY5uw0VDRuGEWWCwkema1q/lkbc4454ENpk5NPmmAyUovw0xEQmoqd86Hswyr6mHG01Fxfh0\n",
       "pPUSIzfaUohd6wNqmfIVsEbkDPVLE3hu3iIHKVGCempDSnqfE8URu/dZ0ud8g76+TDHuy0Bvv8B5\n",
       "r36kiJ1mtIag/IKNCmpaQTtvQkp7/ALixNijo5fZQ2c2pQXOzVCmrPqr6oeXN28TxSuFQcqKeb4P\n",
       "rNOA9tCJWaUbShHKKsG3XkrEGahX2FG9Oq7SVR3UPgdS+s1eoDvaRvkLUFJn5JV4lo+0xgTOVBI9\n",
       "P7IIjFBPCJ6NRC9QjCyUFGmLRLZakCX+N3k/dyMgGjTvazbq1rpMRv/XFj24JM7BxSF/Idl5OHs0\n",
       "knLULrf/NHrwv+QPfpDnXGo9vHgAAAAASUVORK5CYII=\n",
       "\" style=\"display:inline;vertical-align:middle;\" /></a></span></td></tr>\n",
       "<tr><td><a name=\"-0x38bc9022c3d4b7b4_step1\">1</a></td><td>instantiation</td><td><a href=\"#-0x38bc9022c3d4b7b4_step2\">2</a>, <a href=\"#-0x38bc9022c3d4b7b4_step3\">3</a>, <a href=\"#-0x38bc9022c3d4b7b4_step4\">4</a></td><td><span style=\"font-size:20px;\"><a class=\"ProveItLink\" href=\"../../../__pv_it/axioms/990ad913bfe108c5b921cb343b8df2f124281bd00/expr.ipynb\"><img src=\"data:image/png;base64,iVBORw0KGgoAAAANSUhEUgAAAKwAAAAUBAMAAADihsvzAAAAMFBMVEX///9UVFTMzMx2dna6uroQ\n",
       "EBCqqqqIiIgiIiJmZmYyMjJERETu7u6YmJjc3NwAAAC+aOQFAAAAAXRSTlMAQObYZgAAAmtJREFU\n",
       "OMuVVT1oU1EUPs2LfTEviUXiUBWruIgOr2sXydhNhw6Cgxm72U3EoUGwPET0SadOLaU6lTaDgiDW\n",
       "COqQLBUHbUCs4CCCaEC0U+v5ufe+k9dHaw+Ee8/93vnu+b0BqKzDnjK4mT75Af9h0ZH9+V1oeaQ3\n",
       "d+IJwKnUeamZYFYS14iHLFZEXTXH76Ioui3bQ2g/fxraBqmYtbiZYEZyTUdLPGhRjsW11Rav3y8m\n",
       "LoTow6UYvClDJ1/ChsJQxrdG8aZRGyLxoEVBUvd2XtYVFe00Hn2egtJlUS/ck/W+wtDRma/H6hsl\n",
       "6y7zoMU3k5zpGi2H64r2KX5wBS9fErV6Q3LR0BgMtCB3d+JjDTTPEtxkLd+6zlkv6Nr0AM6dxHVM\n",
       "KrUgoB9rDHz8BXfMzZZnDF6w+hpCzuAXxZrrfbo1Q5suq17d41CCdY1JQdzO8HRBwBr8ZCc6itbf\n",
       "BngzhJtJkEAqC7zWNSbpcTaGZxIm2LHhuZFmOgkBlsr/Q1Vn9QPAUW67msb628vyhEKbx6/ZFdtM\n",
       "JEfQG/+vo8U+OONoHQZeFD3AVhfPLU8oScC4CtJGj/vbduA3dSZPZGwGgZPgMJL3zsTyjHPJKqgW\n",
       "fzHwqtrSbRs2bcmIkqilZA4zcZg5tDxd7h7q3WBboLPP7PA+wqCu0iWzPAyWwIs1RgfuQXA8sxRh\n",
       "Z2cZBl9uxf0vyvGd4YfPuaUWXbVpIPINjWFur0UmtwnPoh3ePaTUkNahSrvhVVLNsijH+9Hq7nBP\n",
       "TSL5ZqbFWt8BBWQfRiPtlFHQH19xd7jt1GBlylrGM67VbIv9/nTKB/7TQYt/2RPEapOsWa8AAAAA\n",
       "SUVORK5CYII=\n",
       "\" style=\"display:inline;vertical-align:middle;\" /></a> <a class=\"ProveItLink\" href=\"../../../__pv_it/_proof_fold_proper_subset/97a7e38d8bf982b625463fa90730614a98b75aaa0/proof.ipynb\" style=\"text-decoration: none\">&nbsp;&#x22A2;&nbsp;&nbsp;</a><a class=\"ProveItLink\" href=\"../../../__pv_it/axioms/6aba98c32035862320afc34f929d47e5e7151b7d0/expr.ipynb\"><img src=\"data:image/png;base64,iVBORw0KGgoAAAANSUhEUgAAADsAAAAPBAMAAACo4Ko7AAAAMFBMVEX///92dnYiIiIQEBBERERU\n",
       "VFS6urqIiIjc3NxmZmaqqqru7u6YmJgyMjLMzMwAAADiRdoGAAAAAXRSTlMAQObYZgAAAO1JREFU\n",
       "GNNjYACBtwzogCf+68wQNyjnPoY0A7MDA8P8BxCl9zdgSL8/wMCQPwHM3DW/ASJ2RElJSQ/CrAcK\n",
       "nS8AMw/UJ4DpXgmEbmcGBm4jsKFsG9YfAAtpIBn+lYHhUTSYtY3hPdgUzgUIWb6vZ0q0IMwEhn6w\n",
       "G5iQNLP/YGDYHABWGDkz3gHEaEWSZjEAKvkFthroyQsgxhYkaX6gTvbvIBbQRiYDdMNB3mb9BmRw\n",
       "AKV5P4CEGAsQ0iBvvwdZ2QSy6QdY7BZC+jLQUhOgt7f8v83A5f8J7PStYbDAjf0fOdVlAXpAP3SC\n",
       "ByoEAACTQj18dtZaDQAAAABJRU5ErkJggg==\n",
       "\" style=\"display:inline;vertical-align:middle;\" /></a></span></td></tr>\n",
       "<tr><td>&nbsp;</td><td colspan=4 style=\"text-align:left\"><span style=\"font-size:20px;\"><a class=\"ProveItLink\" href=\"../../../../../../__pv_it/common/d5fc3066299847984076662ce51556220bdb6cfb0/expr.ipynb\"><img src=\"data:image/png;base64,iVBORw0KGgoAAAANSUhEUgAAABAAAAAOBAMAAADUAYG5AAAAMFBMVEX///8iIiLc3Ny6urqIiIiq\n",
       "qqp2dnbMzMwQEBDu7u5mZmYyMjJERERUVFSYmJgAAAA4CJ/KAAAAAXRSTlMAQObYZgAAAF5JREFU\n",
       "CNdjYGB4+//s3V0TGIDgNwMDTyeQZv/GwMD6Bchg+QzEQA4DzwcGBl4gh4F/AwOD/gIgoz6BgVUM\n",
       "pMn/WtoSsO7zYBIIPkJp9l9QBsgYMOD+CaG59v91ANEANtEY7WfmSIAAAAAASUVORK5CYII=\n",
       "\" style=\"display:inline;vertical-align:middle;\" /></a> : <a class=\"ProveItLink\" href=\"../../../__pv_it/axioms/6aba98c32035862320afc34f929d47e5e7151b7d0/expr.ipynb\"><img src=\"data:image/png;base64,iVBORw0KGgoAAAANSUhEUgAAADsAAAAPBAMAAACo4Ko7AAAAMFBMVEX///92dnYiIiIQEBBERERU\n",
       "VFS6urqIiIjc3NxmZmaqqqru7u6YmJgyMjLMzMwAAADiRdoGAAAAAXRSTlMAQObYZgAAAO1JREFU\n",
       "GNNjYACBtwzogCf+68wQNyjnPoY0A7MDA8P8BxCl9zdgSL8/wMCQPwHM3DW/ASJ2RElJSQ/CrAcK\n",
       "nS8AMw/UJ4DpXgmEbmcGBm4jsKFsG9YfAAtpIBn+lYHhUTSYtY3hPdgUzgUIWb6vZ0q0IMwEhn6w\n",
       "G5iQNLP/YGDYHABWGDkz3gHEaEWSZjEAKvkFthroyQsgxhYkaX6gTvbvIBbQRiYDdMNB3mb9BmRw\n",
       "AKV5P4CEGAsQ0iBvvwdZ2QSy6QdY7BZC+jLQUhOgt7f8v83A5f8J7PStYbDAjf0fOdVlAXpAP3SC\n",
       "ByoEAACTQj18dtZaDQAAAABJRU5ErkJggg==\n",
       "\" style=\"display:inline;vertical-align:middle;\" /></a>, <a class=\"ProveItLink\" href=\"../../../../../../__pv_it/common/50527aea954422d65ebe44b8de200683294751540/expr.ipynb\"><img src=\"data:image/png;base64,iVBORw0KGgoAAAANSUhEUgAAAA8AAAASBAMAAAB2sJk8AAAAMFBMVEX///+qqqq6urrc3NwQEBAy\n",
       "MjJERERUVFTMzMwiIiKYmJh2dnZmZmaIiIju7u4AAABsX1SbAAAAAXRSTlMAQObYZgAAAINJREFU\n",
       "CNdjYGDgu7P7FAMI7GxgYE8A0k8DgILeQEbIAyBRz8DA/Qskvd+AwX4CiHFegWH/BRAjv4FhfgOI\n",
       "8R+IQGoZvzMwTAEJcP5jYCgBMe4DFfY/eHuD4w+Qw3thAff6DSDhvuqbyQxgrQzsDVwGYAbbATUw\n",
       "zcDz/weEwTFFgIEBAOxlJHQBUmidAAAAAElFTkSuQmCC\n",
       "\" style=\"display:inline;vertical-align:middle;\" /></a> : <a class=\"ProveItLink\" href=\"../../../__pv_it/axioms/990ad913bfe108c5b921cb343b8df2f124281bd00/expr.ipynb\"><img src=\"data:image/png;base64,iVBORw0KGgoAAAANSUhEUgAAAKwAAAAUBAMAAADihsvzAAAAMFBMVEX///9UVFTMzMx2dna6uroQ\n",
       "EBCqqqqIiIgiIiJmZmYyMjJERETu7u6YmJjc3NwAAAC+aOQFAAAAAXRSTlMAQObYZgAAAmtJREFU\n",
       "OMuVVT1oU1EUPs2LfTEviUXiUBWruIgOr2sXydhNhw6Cgxm72U3EoUGwPET0SadOLaU6lTaDgiDW\n",
       "COqQLBUHbUCs4CCCaEC0U+v5ufe+k9dHaw+Ee8/93vnu+b0BqKzDnjK4mT75Af9h0ZH9+V1oeaQ3\n",
       "d+IJwKnUeamZYFYS14iHLFZEXTXH76Ioui3bQ2g/fxraBqmYtbiZYEZyTUdLPGhRjsW11Rav3y8m\n",
       "LoTow6UYvClDJ1/ChsJQxrdG8aZRGyLxoEVBUvd2XtYVFe00Hn2egtJlUS/ck/W+wtDRma/H6hsl\n",
       "6y7zoMU3k5zpGi2H64r2KX5wBS9fErV6Q3LR0BgMtCB3d+JjDTTPEtxkLd+6zlkv6Nr0AM6dxHVM\n",
       "KrUgoB9rDHz8BXfMzZZnDF6w+hpCzuAXxZrrfbo1Q5suq17d41CCdY1JQdzO8HRBwBr8ZCc6itbf\n",
       "BngzhJtJkEAqC7zWNSbpcTaGZxIm2LHhuZFmOgkBlsr/Q1Vn9QPAUW67msb628vyhEKbx6/ZFdtM\n",
       "JEfQG/+vo8U+OONoHQZeFD3AVhfPLU8oScC4CtJGj/vbduA3dSZPZGwGgZPgMJL3zsTyjHPJKqgW\n",
       "fzHwqtrSbRs2bcmIkqilZA4zcZg5tDxd7h7q3WBboLPP7PA+wqCu0iWzPAyWwIs1RgfuQXA8sxRh\n",
       "Z2cZBl9uxf0vyvGd4YfPuaUWXbVpIPINjWFur0UmtwnPoh3ePaTUkNahSrvhVVLNsijH+9Hq7nBP\n",
       "TSL5ZqbFWt8BBWQfRiPtlFHQH19xd7jt1GBlylrGM67VbIv9/nTKB/7TQYt/2RPEapOsWa8AAAAA\n",
       "SUVORK5CYII=\n",
       "\" style=\"display:inline;vertical-align:middle;\" /></a></span></td></tr><tr><td><a name=\"-0x38bc9022c3d4b7b4_step2\">2</a></td><td>theorem</td><td></td><td><span style=\"font-size:20px;\"> <a class=\"ProveItLink\" href=\"../../../../../equality/_theory_nbs_/proofs/lhs_via_equality/thm_proof.ipynb\" style=\"text-decoration: none\">&nbsp;&#x22A2;&nbsp;&nbsp;</a><a class=\"ProveItLink\" href=\"../../../../../equality/__pv_it/theorems/fd1735c228dc89ed3ff97dbaf65fa21ba6757a2d0/expr.ipynb\"><img src=\"data:image/png;base64,iVBORw0KGgoAAAANSUhEUgAAAIwAAAAWBAMAAADgE2koAAAAMFBMVEX///8QEBCIiIhmZma6urrM\n",
       "zMxUVFQiIiJERETc3Nzu7u6qqqp2dnaYmJgyMjIAAAAcRTyBAAAAAXRSTlMAQObYZgAAAeBJREFU\n",
       "OMutVD0sQ1EYPfr/qyIWLMRgEcRUpiYWmzBYvYEO0sEsJBIJJRHdWFBrF01MXURISGjkWSwiaSIx\n",
       "SGiD+G3w3ff3XdWB1pe8d79z7rnnvXu/ey/wP5ETr8vKx59/zkevkjgR+U0V//EBeJqwRpl3tnIX\n",
       "ZxHw36M2CQTSldvYHukpInicSq1WMSdPAXCR1Us8Pl2FTYhqtNkNjAOLgGMlFp4QdFu2T+t2GDIT\n",
       "DzwdzCetwSYLjO7BL36jHz5R9DPgiJqNCIY0tUdXWThYh8Ck6WKxQFcs2yNSN2wqNVFiqGaNgF1h\n",
       "G8YuBbaC4cIssGLYBVS3aGaAOHmq2nctG8aUecx9wSzwbFrnRujte4VtCmgVJSywDePtBNrNtWEW\n",
       "zgdzootjYkWLHWI/X9Njz7EN48H9bBquOMWyxGrbRo8dsXIBnaUtiZo9tmF8KhWZWdS+WZVvEaO6\n",
       "tbxer5llw3hOsmHWnn9qMcigmHJIPw9R34W3QbJh/K6V647iVmJLYzRBi72EreHgbkSy0TF1OF8l\n",
       "MatKD1i+l1a9Gb7woeKVbHRMHZ0PCVazqmz4RQWVdcnGwP4f14OhKhsZsY0+mr7ZaDhTqjRVZUMc\n",
       "CixEvtloWP0hXYj87gKw/+m6+AIRhIj+rToaNQAAAABJRU5ErkJggg==\n",
       "\" style=\"display:inline;vertical-align:middle;\" /></a></span></td></tr>\n",
       "<tr><td>&nbsp;</td><td colspan=4 style-\"text-align:left\"><a class=\"ProveItLink\" href=\"../../../../../equality/_theory_nbs_/proofs/lhs_via_equality/thm_proof.ipynb\">proveit.logic.equality.lhs_via_equality</a></td></tr><tr><td><a name=\"-0x38bc9022c3d4b7b4_step3\">3</a></td><td>assumption</td><td></td><td><span style=\"font-size:20px;\"><a class=\"ProveItLink\" href=\"../../../__pv_it/axioms/990ad913bfe108c5b921cb343b8df2f124281bd00/expr.ipynb\"><img src=\"data:image/png;base64,iVBORw0KGgoAAAANSUhEUgAAAKwAAAAUBAMAAADihsvzAAAAMFBMVEX///9UVFTMzMx2dna6uroQ\n",
       "EBCqqqqIiIgiIiJmZmYyMjJERETu7u6YmJjc3NwAAAC+aOQFAAAAAXRSTlMAQObYZgAAAmtJREFU\n",
       "OMuVVT1oU1EUPs2LfTEviUXiUBWruIgOr2sXydhNhw6Cgxm72U3EoUGwPET0SadOLaU6lTaDgiDW\n",
       "COqQLBUHbUCs4CCCaEC0U+v5ufe+k9dHaw+Ee8/93vnu+b0BqKzDnjK4mT75Af9h0ZH9+V1oeaQ3\n",
       "d+IJwKnUeamZYFYS14iHLFZEXTXH76Ioui3bQ2g/fxraBqmYtbiZYEZyTUdLPGhRjsW11Rav3y8m\n",
       "LoTow6UYvClDJ1/ChsJQxrdG8aZRGyLxoEVBUvd2XtYVFe00Hn2egtJlUS/ck/W+wtDRma/H6hsl\n",
       "6y7zoMU3k5zpGi2H64r2KX5wBS9fErV6Q3LR0BgMtCB3d+JjDTTPEtxkLd+6zlkv6Nr0AM6dxHVM\n",
       "KrUgoB9rDHz8BXfMzZZnDF6w+hpCzuAXxZrrfbo1Q5suq17d41CCdY1JQdzO8HRBwBr8ZCc6itbf\n",
       "BngzhJtJkEAqC7zWNSbpcTaGZxIm2LHhuZFmOgkBlsr/Q1Vn9QPAUW67msb628vyhEKbx6/ZFdtM\n",
       "JEfQG/+vo8U+OONoHQZeFD3AVhfPLU8oScC4CtJGj/vbduA3dSZPZGwGgZPgMJL3zsTyjHPJKqgW\n",
       "fzHwqtrSbRs2bcmIkqilZA4zcZg5tDxd7h7q3WBboLPP7PA+wqCu0iWzPAyWwIs1RgfuQXA8sxRh\n",
       "Z2cZBl9uxf0vyvGd4YfPuaUWXbVpIPINjWFur0UmtwnPoh3ePaTUkNahSrvhVVLNsijH+9Hq7nBP\n",
       "TSL5ZqbFWt8BBWQfRiPtlFHQH19xd7jt1GBlylrGM67VbIv9/nTKB/7TQYt/2RPEapOsWa8AAAAA\n",
       "SUVORK5CYII=\n",
       "\" style=\"display:inline;vertical-align:middle;\" /></a> <a class=\"ProveItLink\" href=\"../../../__pv_it/_proof_fold_proper_subset/232bc0f996fb1d6f73600344b9ec4a84962775bf0/proof.ipynb\" style=\"text-decoration: none\">&nbsp;&#x22A2;&nbsp;&nbsp;</a><a class=\"ProveItLink\" href=\"../../../__pv_it/axioms/990ad913bfe108c5b921cb343b8df2f124281bd00/expr.ipynb\"><img src=\"data:image/png;base64,iVBORw0KGgoAAAANSUhEUgAAAKwAAAAUBAMAAADihsvzAAAAMFBMVEX///9UVFTMzMx2dna6uroQ\n",
       "EBCqqqqIiIgiIiJmZmYyMjJERETu7u6YmJjc3NwAAAC+aOQFAAAAAXRSTlMAQObYZgAAAmtJREFU\n",
       "OMuVVT1oU1EUPs2LfTEviUXiUBWruIgOr2sXydhNhw6Cgxm72U3EoUGwPET0SadOLaU6lTaDgiDW\n",
       "COqQLBUHbUCs4CCCaEC0U+v5ufe+k9dHaw+Ee8/93vnu+b0BqKzDnjK4mT75Af9h0ZH9+V1oeaQ3\n",
       "d+IJwKnUeamZYFYS14iHLFZEXTXH76Ioui3bQ2g/fxraBqmYtbiZYEZyTUdLPGhRjsW11Rav3y8m\n",
       "LoTow6UYvClDJ1/ChsJQxrdG8aZRGyLxoEVBUvd2XtYVFe00Hn2egtJlUS/ck/W+wtDRma/H6hsl\n",
       "6y7zoMU3k5zpGi2H64r2KX5wBS9fErV6Q3LR0BgMtCB3d+JjDTTPEtxkLd+6zlkv6Nr0AM6dxHVM\n",
       "KrUgoB9rDHz8BXfMzZZnDF6w+hpCzuAXxZrrfbo1Q5suq17d41CCdY1JQdzO8HRBwBr8ZCc6itbf\n",
       "BngzhJtJkEAqC7zWNSbpcTaGZxIm2LHhuZFmOgkBlsr/Q1Vn9QPAUW67msb628vyhEKbx6/ZFdtM\n",
       "JEfQG/+vo8U+OONoHQZeFD3AVhfPLU8oScC4CtJGj/vbduA3dSZPZGwGgZPgMJL3zsTyjHPJKqgW\n",
       "fzHwqtrSbRs2bcmIkqilZA4zcZg5tDxd7h7q3WBboLPP7PA+wqCu0iWzPAyWwIs1RgfuQXA8sxRh\n",
       "Z2cZBl9uxf0vyvGd4YfPuaUWXbVpIPINjWFur0UmtwnPoh3ePaTUkNahSrvhVVLNsijH+9Hq7nBP\n",
       "TSL5ZqbFWt8BBWQfRiPtlFHQH19xd7jt1GBlylrGM67VbIv9/nTKB/7TQYt/2RPEapOsWa8AAAAA\n",
       "SUVORK5CYII=\n",
       "\" style=\"display:inline;vertical-align:middle;\" /></a></span></td></tr>\n",
       "<tr><td><a name=\"-0x38bc9022c3d4b7b4_step4\">4</a></td><td>instantiation</td><td><a href=\"#-0x38bc9022c3d4b7b4_step5\">5</a></td><td><span style=\"font-size:20px;\"> <a class=\"ProveItLink\" href=\"../../../__pv_it/_proof_fold_proper_subset/f268c2e55cf3ceb6a4a9e3307feeefeeb659e0f50/proof.ipynb\" style=\"text-decoration: none\">&nbsp;&#x22A2;&nbsp;&nbsp;</a><a class=\"ProveItLink\" href=\"../../../__pv_it/axioms/36bbbb481040a4723c07145beabe0c7f5a20a23f0/expr.ipynb\"><img src=\"data:image/png;base64,iVBORw0KGgoAAAANSUhEUgAAASMAAAAUBAMAAAA0Bka/AAAAMFBMVEX///9UVFTMzMx2dna6uroQ\n",
       "EBCqqqqIiIgiIiJmZmYyMjJERETu7u6YmJjc3NwAAAC+aOQFAAAAAXRSTlMAQObYZgAAAxlJREFU\n",
       "SMedlj1oU1EUgE/yYpImL7FIHapiKy5ih3STLJKxmx0yCA5mdNJsUhwaBEsQ0VecOjWIOoi0GRQE\n",
       "aY2gImaJOGgUtYJDEcQWRDu1nnP/330/sT1w817ued955+e+cy9AsQexkl4LzhGze+4nDCYu0k2X\n",
       "/z8ZeKIwtrlw+BHA0SDc3QvntrVOig6L7CCRoECW+NRy8MX70MbiOLwJapaC3Ntms3k1lCuKa25N\n",
       "64Qk28ok2UHCbaHfHg9tuRN4cQljOOOBUw/kwQtwP05Hcjn+JPQNHcrU1iR6OSlNkh0iTgFkeclf\n",
       "LYrSf9LRzuLU1zq407ZLxFjckqG2uIkb/HrT0GGC5r4frPVdmSZmh4iXAOuiqLOVQLSP8aGz6Pxd\n",
       "26V1sLmhGkRyI5d5/RqmDhIdSF6vfqiAaQeJXAVm2Eyqc6mnQxGyCXDiCF7LtkszYmguC5Gc2+LK\n",
       "jGfqIIMjf01GK+wg4XiwwqZeQKluR5vc/Hxljm4+0o/zgAmzuyKG5r5BFAdOzWFG8z1Tx0ui7oQd\n",
       "JAot4A9U4JdnR5vZxsoO480FO0tzYmiuG81lodhi15qp4yVVjLCDRLoBVRbY6MJY2442j4st84e+\n",
       "Etulqhiay0Zz7wEOsNZQMXX+FiDtIJHc4KZTSLTsaPdjNJm/sS4pzmwUFoff2zHlktKB02zewo+b\n",
       "Z0za4S6xAmBOs9N2tNRCEr+pgxhradhXOMXB/Sgu7YkmyQqndCTvFCLtIJFqsGVaxKnchh0ttZBS\n",
       "Wy1TQ+Ty1hw8H+mEc+QOucWXt9KJ/In+Lu3w5V0WPSa/bUd7D10+Ry+6bbtUFsPg4PgT2WL93IR8\n",
       "ueOZOpromX2O2UFiaJJy1d15COlnW54/2kM7o/NP2ed7x3Zpig+T02Jx7KuiZokVMXS4ls43xVrS\n",
       "dpDIjcuNQYmOVu3gjZgNJUY4x9pz0u7C/hZgEq/V9hkjsdvuLri+/2+qHUrgtgurg0yHHE5Wbc6h\n",
       "IljZtbm8P6+5tbA30eHE14pCZTX2CPf/nOtPixtKML8HHVgLezzoFnZ90CXiC8A/90I7Xxz9LRMA\n",
       "AAAASUVORK5CYII=\n",
       "\" style=\"display:inline;vertical-align:middle;\" /></a></span></td></tr>\n",
       "<tr><td>&nbsp;</td><td colspan=4 style=\"text-align:left\"><span style=\"font-size:20px;\"><a class=\"ProveItLink\" href=\"../../../../../../__pv_it/common/e4aad701f7f5516d8e7f0d805d518bf02c13322a0/expr.ipynb\"><img src=\"data:image/png;base64,iVBORw0KGgoAAAANSUhEUgAAAA8AAAAOBAMAAAACpFvcAAAALVBMVEX///8iIiIQEBBERERUVFS6\n",
       "urqIiIjc3NxmZmaqqqru7u6YmJgyMjLMzMwAAACK9jtgAAAAAXRSTlMAQObYZgAAAFtJREFUCNdj\n",
       "YACBOwxQcA5Kc59bAGGs7CuAMDbkBYBp1gXzNoAZSxnuJYAZAQx1DSCa16PDzwCshIGB6QCIMYGB\n",
       "gVEBSLMDGTwPgIxCIGZ+zsCw+N0pBk67hw0AfpEVEQi8t+wAAAAASUVORK5CYII=\n",
       "\" style=\"display:inline;vertical-align:middle;\" /></a> : <a class=\"ProveItLink\" href=\"../../../../../../__pv_it/common/e4aad701f7f5516d8e7f0d805d518bf02c13322a0/expr.ipynb\"><img src=\"data:image/png;base64,iVBORw0KGgoAAAANSUhEUgAAAA8AAAAOBAMAAAACpFvcAAAALVBMVEX///8iIiIQEBBERERUVFS6\n",
       "urqIiIjc3NxmZmaqqqru7u6YmJgyMjLMzMwAAACK9jtgAAAAAXRSTlMAQObYZgAAAFtJREFUCNdj\n",
       "YACBOwxQcA5Kc59bAGGs7CuAMDbkBYBp1gXzNoAZSxnuJYAZAQx1DSCa16PDzwCshIGB6QCIMYGB\n",
       "gVEBSLMDGTwPgIxCIGZ+zsCw+N0pBk67hw0AfpEVEQi8t+wAAAAASUVORK5CYII=\n",
       "\" style=\"display:inline;vertical-align:middle;\" /></a>, <a class=\"ProveItLink\" href=\"../../../../../../__pv_it/common/4eca3b30dcf58a58494e201d1b7886d8643a617b0/expr.ipynb\"><img src=\"data:image/png;base64,iVBORw0KGgoAAAANSUhEUgAAABAAAAAOBAMAAADUAYG5AAAALVBMVEX///8yMjKqqqoiIiLu7u7c\n",
       "3NyIiIjMzMwQEBC6urpERERmZmZUVFSYmJgAAACsPVCVAAAAAXRSTlMAQObYZgAAAGxJREFUCNdj\n",
       "YGC48+70nlUTGICgi4GB+zmQZn/LwMD5Gshge8rAwPsMyOBqYGDwMAEy+A4wsNs4ABl1Z68tVgBp\n",
       "ygtgYOkBMVaAOCChNyBGAsQYhnMTIMawvwJyGIHGzFjCwMAj92b3qUUMDAAXABxvZ4rl5AAAAABJ\n",
       "RU5ErkJggg==\n",
       "\" style=\"display:inline;vertical-align:middle;\" /></a> : <a class=\"ProveItLink\" href=\"../../../../../../__pv_it/common/4eca3b30dcf58a58494e201d1b7886d8643a617b0/expr.ipynb\"><img src=\"data:image/png;base64,iVBORw0KGgoAAAANSUhEUgAAABAAAAAOBAMAAADUAYG5AAAALVBMVEX///8yMjKqqqoiIiLu7u7c\n",
       "3NyIiIjMzMwQEBC6urpERERmZmZUVFSYmJgAAACsPVCVAAAAAXRSTlMAQObYZgAAAGxJREFUCNdj\n",
       "YGC48+70nlUTGICgi4GB+zmQZn/LwMD5Gshge8rAwPsMyOBqYGDwMAEy+A4wsNs4ABl1Z68tVgBp\n",
       "ygtgYOkBMVaAOCChNyBGAsQYhnMTIMawvwJyGIHGzFjCwMAj92b3qUUMDAAXABxvZ4rl5AAAAABJ\n",
       "RU5ErkJggg==\n",
       "\" style=\"display:inline;vertical-align:middle;\" /></a></span></td></tr><tr><td><a name=\"-0x38bc9022c3d4b7b4_step5\">5</a></td><td>axiom</td><td></td><td><span style=\"font-size:20px;\"> <a class=\"ProveItLink\" href=\"../../axioms.ipynb#proper_subset_def\" style=\"text-decoration: none\">&nbsp;&#x22A2;&nbsp;&nbsp;</a><a class=\"ProveItLink\" href=\"../../../__pv_it/axioms/e95bfa29563f2d409f4f144fe6c68968590429550/expr.ipynb\"><img src=\"data:image/png;base64,iVBORw0KGgoAAAANSUhEUgAAAWsAAAAVBAMAAAByN9JOAAAAMFBMVEX///8QEBCIiIhmZma6urrM\n",
       "zMxUVFQiIiJERETc3Nzu7u6qqqp2dnaYmJgyMjIAAAAcRTyBAAAAAXRSTlMAQObYZgAAA/FJREFU\n",
       "SMfVV0toFEEQLfeT3Zn9mENAQdFFD3rRLCzEi5AFDxFBkpN6EBNRIXrQDSKLxs8KgokouwdRQTQr\n",
       "igYFXfCgngzmIH6QxYAf/K2oh0QwIQlJjMRY/Znpnp5PEvFiwZuZnao3W11VXd0N4CVamcFLIoV/\n",
       "xbvkTYAHEirkxQcXw24OlG02ZWzfWKr1BMDuf8TTc0JniDn0IPpZVRB4Rl4OuLjdz4EyaNfOw/+p\n",
       "b4Lbs+K9ymazBxx5Gr/HC0JnOJsznuJDOK6KwAVCzDl7HUsykMfBok3djLFoTEI0MQve5SeuvDiz\n",
       "hD5Jh9Iw3oMj6eGcj5N4eSQQx89GS85uhwoMKLfqeSm+EVGrxVefEqBXz4LXL6kV3pZD7H5Q0mGg\n",
       "289uL/XpPKD63Z94vSIQe3rz5nmXGjnPQYqsNm2L2nH83AIc9deZeX45MApv5zJWKxlZB1VFCB6t\n",
       "eZ3m+fONkrykBSY6Og67uL2cAyBQfFgWIeEyBrB5D957Z+aFwJWnV5jSl5R14EOE24yIbIhM4TWa\n",
       "FNgF0ElV7Lp+pLfVaE1nOACuQXNCjVpw7MPKdlp35BL9QSXpzDsHbjysUFaj4bKsY6k1m0w6OExi\n",
       "XhFYR2cmPo+ydFRD1CjWdg6ANHQl1aj5sNyutODDPTXadl63Oy8EGv3/UEnWsfIxHgKgjZBWnxEI\n",
       "gY/m8eoUtfC3QGSSW9dwQHBHal9OjVoYR+f7RWa/6radF3LnvaQJx9aXlnXW9rcpVTdBXgwJRMvs\n",
       "m0/3s8EnwF9R/z6AX62oUZuPUfENe7pt8uQmqfCwj2wy3TZ1EM1mj2HTauFJgyWK21qFsoKJDmpx\n",
       "pwlWF9VkY/5C1WrUSIutIpXVINV2izMPvrvxIkm+0NAiMXVE3pv7AEQbiUJGADppCVXBGmrSuGql\n",
       "WVvG1NJKbJmyRo202OacObUksfPg+s6iM4+4TFxnU9LU8TwwuchXW3lKwl3aMN9BLTV5AbDCMO/l\n",
       "ID04/FON2mcc9kLizFrVbQcebD1pLFNW3hbDQdLVhI68MDYktKPncUD+HgGYTyKof3mep+anAbqM\n",
       "LtfA0D09AJH8eNIatb3TO+o6qOU31W0HnhCFR1O9jFeA0GFtL82y2tbzv4twfxqnXrxJAGLEEX8R\n",
       "uugOBqdxY8G+SJsiomY21YzH4u4hjEeXwaC6klnanyk3JDDZiFEva6dAmwRtscOWyEM8t1Jz4PVZ\n",
       "fwbs+ztpK8V76QRo+SPBRfB4JNWaNu06zcXTQxw2rjZelCRcyZLKC1vzE7elS964Wk8c7tt9d+n0\n",
       "PCbMnqdbw6vbCGRcBmzHnrkermJ/eSiLzflQ9laCRcrwn8gfSH55F75O+poAAAAASUVORK5CYII=\n",
       "\" style=\"display:inline;vertical-align:middle;\" /></a></span></td></tr>\n",
       "<tr><td>&nbsp;</td><td colspan=4 style-\"text-align:left\"><a class=\"ProveItLink\" href=\"../../axioms.ipynb#proper_subset_def\">proveit.logic.sets.inclusion.proper_subset_def</a></td></tr></table>"
      ],
      "text/plain": [
       "\tstep type\trequirements\tstatement\n",
       "0\tgeneralizaton\t1\t|- forall_{A, B | (A subset_eq B) and (B not_equiv A)} (A proper_subset B)\n",
       "1\tinstantiation\t2, 3, 4\t{(A subset_eq B) and (B not_equiv A)} |- A proper_subset B\n",
       "\tP : A proper_subset B, Q : (A subset_eq B) and (B not_equiv A)\n",
       "2\ttheorem\t\t|- forall_{P, Q | Q, P = Q} P\n",
       "\tproveit.logic.equality.lhs_via_equality\n",
       "3\tassumption\t\t{(A subset_eq B) and (B not_equiv A)} |- (A subset_eq B) and (B not_equiv A)\n",
       "4\tinstantiation\t5\t|- (A proper_subset B) = ((A subset_eq B) and (B not_equiv A))\n",
       "\tA : A, B : B\n",
       "5\taxiom\t\t|- forall_{A, B} ((A proper_subset B) = ((A subset_eq B) and (B not_equiv A)))\n",
       "\tproveit.logic.sets.inclusion.proper_subset_def"
      ]
     },
     "execution_count": 7,
     "metadata": {},
     "output_type": "execute_result"
    }
   ],
   "source": [
    "%qed"
   ]
  },
  {
   "cell_type": "code",
   "execution_count": null,
   "metadata": {},
   "outputs": [],
   "source": []
  }
 ],
 "metadata": {
  "kernelspec": {
   "display_name": "Python 3",
   "language": "python",
   "name": "python3"
  }
 },
 "nbformat": 4,
 "nbformat_minor": 0
}