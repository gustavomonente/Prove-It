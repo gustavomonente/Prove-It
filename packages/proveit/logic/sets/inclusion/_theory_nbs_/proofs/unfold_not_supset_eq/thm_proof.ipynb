{
 "cells": [
  {
   "cell_type": "markdown",
   "metadata": {},
   "source": [
    "Proof of <a class=\"ProveItLink\" href=\"../../../../../../_theory_nbs_/theory.ipynb\">proveit</a>.<a class=\"ProveItLink\" href=\"../../../../../_theory_nbs_/theory.ipynb\">logic</a>.<a class=\"ProveItLink\" href=\"../../../../_theory_nbs_/theory.ipynb\">sets</a>.<a class=\"ProveItLink\" href=\"../../theory.ipynb\">inclusion</a>.<a class=\"ProveItLink\" href=\"../../theorems.ipynb#unfold_not_supset_eq\">unfold_not_supset_eq</a> theorem\n",
    "========"
   ]
  },
  {
   "cell_type": "code",
   "execution_count": 1,
   "metadata": {},
   "outputs": [],
   "source": [
    "import proveit\n",
    "from proveit.logic.sets.inclusion  import not_superset_eq_def"
   ]
  },
  {
   "cell_type": "code",
   "execution_count": 2,
   "metadata": {},
   "outputs": [
    {
     "data": {
      "text/html": [
       "Under these <a href=\"presumptions.txt\">presumptions</a>, we begin our proof of<br><strong id=\"unfold_not_supset_eq\">unfold_not_supset_eq:</strong> <a class=\"ProveItLink\" href=\"../../../__pv_it/theorems/af459c123de8c6d6811a3d28d3cd9e7f38028d580/expr.ipynb\"><img src=\"data:image/png;base64,iVBORw0KGgoAAAANSUhEUgAAANcAAAAaBAMAAADWJdTsAAAAMFBMVEX///8QEBCIiIhmZma6urrM\n",
       "zMxUVFQiIiJERETc3Nzu7u6qqqp2dnaYmJgyMjIAAAAcRTyBAAAAAXRSTlMAQObYZgAAAz9JREFU\n",
       "SMe9Vl9IU1Ec/rzb1d27XfUhIihkEFEvpTBYEVKLHoogHD2ITzWoYD1EK8GVFRmE3Zm121NGhTcK\n",
       "FB9qJIRC0MqHwiKWQRCRDXqIelFc2lqYnT/3bmfItIn5G9/O+Z1z7/nO7+8GLFGUlKDcWeThYQtp\n",
       "qnwqn6xfmKsdbJDT8556P3fYrwdQaYDhFV37Xj7ZN2FebfBhkjF/jUZPe+2tNYBjGiq5BkUPdUlH\n",
       "2Vxag6C848N4Lm/qeIBP5FnAmQGeg6HaBDyJssmqDEE5wxkGfxUcaxkukSVtCrgLBm10YOBG+V4U\n",
       "X1Ei3FjpR2HtIB9ctYSknZgU4Mjq+rnyydYLc4m7dJ97dl4Ya0KQ26jvGjiOArF/Of5mkXZVmLtY\n",
       "FagBeaqwZkXm0PGxy3SmpTl2szxZXI4VaWdJlkWpJEn82MFOKJnCvoNnSL0BdTUZ3RGOKki8Prl9\n",
       "ezMjYYO/bF+cqWqILMUb/ZYXVtnxIssV7OBmnz8ruJEPFykhuYs8yeFJVfH48vBqtfDUMg77vc8B\n",
       "tOh6mJ74FnhWiox81RXIHvNhhpJ5C2RKupmt3+PhdYTgzolk6k5meAUtfD/w1LTdmCdjbnQTnMxz\n",
       "ye35MsMJcg1nhAOxI2xjtJUXkBeOtEjm6WPJ9mSIfJ0CdhQnCCVjCXKLYMLmur/NyJeZnBUSBIOs\n",
       "TGSvzvYfBrHFFMkOuFh/iZHepk5DsjrbiH1ukOc0q7W4YbWrbqtLVJOA7Oqi/kpyoIY1skpsZftN\n",
       "mzeFIJKFHBHW0bQEnFNjndbqHiEziX/U+B8TQ3OtxQlcOTHjC19hrEEOaMyQj6hnD7wBNopkWkKi\n",
       "/dUTkILwpCFFSrarhaTPgpUGX17HGWk30JsQyB40vsyxVCa6Kwnld+lGvIBYjdguQhO91EyQw5oM\n",
       "gWw7lGkyPCIf1BBP2s1W7Dou0Uwas2i0rYjL/omxZD85KqV0QclBWSe40UkyjeZv7DYJb6+J68nS\n",
       "P56lhd6mcCNXFkr8vLwWLzK+cEAgi3eg52eq5VrbBhK3Cz7/pSX9LfhgoUjc4m3EDUcQyy7Dpcj6\n",
       "l58LqRJkLXW63on/KA5RSWPlxJlcQTLVXJZj/gKgUN0YFGFHLwAAAABJRU5ErkJggg==\n",
       "\" style=\"display:inline;vertical-align:middle;\" /></a><br>(see <a class=\"ProveItLink\" href=\"../../../__pv_it/theorems/4eed7adbc37d948c1b330e561b40f5039fabd5cc0/dependencies.ipynb\">dependencies</a>)<br>"
      ],
      "text/plain": [
       "unfold_not_supset_eq: forall_{A, B | A nsupseteq B} [not](A supseteq B)"
      ]
     },
     "execution_count": 2,
     "metadata": {},
     "output_type": "execute_result"
    }
   ],
   "source": [
    "%proving unfold_not_supset_eq"
   ]
  },
  {
   "cell_type": "code",
   "execution_count": 3,
   "metadata": {},
   "outputs": [
    {
     "data": {
      "text/html": [
       "<span style=\"font-size:20px;\"> <a class=\"ProveItLink\" href=\"../../axioms.ipynb#not_superset_eq_def\" style=\"text-decoration: none\">&nbsp;&#x22A2;&nbsp;&nbsp;</a><a class=\"ProveItLink\" href=\"../../../__pv_it/axioms/bd32d99a9b31a185188cbafe63fe5d0c9703a69e0/expr.ipynb\"><img src=\"data:image/png;base64,iVBORw0KGgoAAAANSUhEUgAAARkAAAAYBAMAAAA8FZQ1AAAAMFBMVEX///8QEBCIiIhmZma6urrM\n",
       "zMxUVFQiIiJERETc3Nzu7u6qqqp2dnaYmJgyMjIAAAAcRTyBAAAAAXRSTlMAQObYZgAAA9hJREFU\n",
       "SMfNV21IU1EYft12p/vUH1JCEYN+JIRtMLCgwEU/jCAcBPovByZYUBqCMy00CNpM2X5lEOGkIDEo\n",
       "QegDgiSDQCOGQVChLTRCf6S4MjXM3vN577a7aUTkC8+9Z+fjnue873Pecwbw52aArWT3/9O8ljhD\n",
       "qpWl/LJF9cdJu7XBJE80SJCKySwdBzjQTqq1CfZyNC55G64AnNYfJ8zaSV9KIqPX2/W68pAPzLgc\n",
       "gXFSP5eFzSwH2jwLUjAYnPbw1jycp8KvF7hZTdnJfOdcoNS+BIOtLtFUAmD8DlbkKXCDOLZTn4zD\n",
       "w0CK8zEpmxleqMV4VHnA7tIbJ+0Ne02tSmdN+VhBWQMwJQGeg4QTZ7EP6bPJjzKg3auQ8rhe4GcF\n",
       "N1Z9dIG1SG+ctAuMwvCKGjvuOgNWORYB+kHCMTY42JslUL0caHG3T9S+4EqAy/jh7biYGb1xUtBN\n",
       "zF2Gb2od12ABLqO/DR3iU7EcCl3MwmY3Bzo09iyuipjrdgmg5gy+R/XGyeTEonbMtpYhpcIAKC0k\n",
       "NB4V9QBh2sieR5OjDcLRPRwAd6BWqMPhgr0s7EuTpe1UEuRh/0rNA3IMdwBdhdWnLKp1XBm1Zyeu\n",
       "kpIjoeIIFTOWmSsdRWAXQmjnAPBBn1AmCu2gDHt/AAuP0n2DY4xBYiOoITqzCSxJtd3oE7qzbiMZ\n",
       "q0lFPhgo/dvMlcYA2IT8izlAqfM2in1XLYRJwm74SdaYzqZYaAa55tGZq73ly5pISd2BG8kqCyrs\n",
       "8XzaNtbM9oMLjIl0Nib8qqisB1unCDsYFjfHBh+71PaHUnfgdqWysSSq6fJdIdrlgR/2xdIjhQvI\n",
       "5+HDsNbEZLoxk/BWanQTABldxoZGyoY4L8kobTLdQCPyNDWpgPAp0maG/bRPVVlpANJUbBkSuRRn\n",
       "fX8irKab2k6hYq31aNhQFd+UyZzsiANRqTtlOU3FMEwzwgdw0z6vAfaIcaMcJH8UrLCToaN1nLd+\n",
       "wtWUEDcdSmcjt7yfbVuacyJRfjJ081zrRG8f7iJSHVEBhWTvWqdfRWgAugH6RGquZBhYnwNb5Afb\n",
       "VE/FTOfImUd7fk5nU6kpo/utkV8xeLzenNrJPI+H7jVKy68CHISFMQZ9NOHjJqmKZp4MugciV1LT\n",
       "Jk6GXHZXA2bH0UdxSxdYVsGyU+fUlArMPGA3d2rmMM2pyTPmMlgil5Qd8DLpbZAnEk3P4ZRrXwdJ\n",
       "aoGNroLaMQVaRxHdBIMtqb7V3ChS73HZb1siCLmnzn7bym6ErkDGpTD3TXQi8xL0tzfRdxqkWHzD\n",
       "GM9tqf8L0X/69d8Ahyk2DGj2HgAAAABJRU5ErkJggg==\n",
       "\" style=\"display:inline;vertical-align:middle;\" /></a></span>"
      ],
      "text/plain": [
       "|- forall_{A, B} ((A nsupseteq B) = [not](A supseteq B))"
      ]
     },
     "execution_count": 3,
     "metadata": {},
     "output_type": "execute_result"
    }
   ],
   "source": [
    "# Pull in the definition of not_superset_eq\n",
    "not_superset_eq_def"
   ]
  },
  {
   "cell_type": "code",
   "execution_count": 4,
   "metadata": {},
   "outputs": [
    {
     "data": {
      "text/html": [
       "<strong id=\"not_superset_eq_def_inst\">not_superset_eq_def_inst:</strong> <span style=\"font-size:20px;\"> <a class=\"ProveItLink\" href=\"../../../__pv_it/_proof_unfold_not_supset_eq/12631dc540bd0ffa0af2b366655ed535ba25bd7e0/proof.ipynb\" style=\"text-decoration: none\">&nbsp;&#x22A2;&nbsp;&nbsp;</a><a class=\"ProveItLink\" href=\"../../../__pv_it/axioms/a7d1ae6455f1c05882810706c3eaa4588f67dd890/expr.ipynb\"><img src=\"data:image/png;base64,iVBORw0KGgoAAAANSUhEUgAAANEAAAAYBAMAAACW8wWgAAAAMFBMVEX///9UVFTMzMx2dna6uroQ\n",
       "EBCqqqqIiIgiIiJmZmYyMjJERETu7u6YmJjc3NwAAAC+aOQFAAAAAXRSTlMAQObYZgAAAspJREFU\n",
       "SMe9Vk1oE0EUfk2aTZrNxuCtKja9VS/pQSq95VhB0EMOopeCF0XQnIQi0lyUiGBTFCGnBqkHpbQ5\n",
       "KB4kzR6sSIOQmyj+xIv0IjYg1t/GN29mNjOz5gekffCys68z33v7vZ8pgF/CsFuyvkO48bppuaq9\n",
       "WY0eZz73cHBRKNT4++H2n0r84Yw0i/sfARz0H64p61iZHoGSb5cAGMBQmcIyN69w4vL5/IOC2BlC\n",
       "jIXkv8hcVtZR/s3RTQ/gCWgAMYyBqcNxnRXXS9OiWKSQoxMFCGZ9wRaUl9f88ea3Z3lpABzFJWqE\n",
       "h/R8wUvHRzvJF7No+pCF2EnTU0RN3S3O4fltpaQaGsAaLlE3uLE+m5b7jgjm4TECnMJPXTQ9bajF\n",
       "keOfGf7atsmcCYAoQqPOkG3QvVRvF4SogSbA2AF8TpqeZtTm40wet/748ygAggXSCtmeQUpmw8nC\n",
       "ZR5Z892V65QC9hN8SEK4FQXUpghj6cCWYpzQAJwSKWFBGr7ILEdduMujRebXErg4Z34TnhnKMxnH\n",
       "nE0TJxD/oWy4owFYOdIMeR8ujojkwKhMso2VEP7GSsj0lJE5QpgQ5Xe0OP8LzI6UAIFN0gwPCUKy\n",
       "8/aCxZ3uQZzwVn+e8Oe0MlYSGoDwROwhAxFRy9hjY67XDQOsoqaUPCUEe54nYs9Cvdb2ZAAM5khZ\n",
       "duPTXo9D8O2h1XY3pMqyIlSpKJ6oIj55Q4bFeswAEBUxKfrD3ubDZO7mhDhxHyM5w6K7bXryyj7J\n",
       "S5h6qtoQ08gHMDROitTUWktgVb/z4jsrUfa1huefUmHdMz1NKWukJVb96cKF1g1jlwcQTZJGGp2H\n",
       "p2Aj18c06iYvuGrTEmuk7NvY34TtImLCwqp23c6xhkz0uoLVM7ZGynreByBvDe1WQ2K6w3a+CTsL\n",
       "C4XC0W/3V/6b839v9/dCDVnatf+LGjuG/BdziuSrxytpAAAAAABJRU5ErkJggg==\n",
       "\" style=\"display:inline;vertical-align:middle;\" /></a></span><br>"
      ],
      "text/plain": [
       "not_superset_eq_def_inst: |- (A nsupseteq B) = [not](A supseteq B)"
      ]
     },
     "execution_count": 4,
     "metadata": {},
     "output_type": "execute_result"
    }
   ],
   "source": [
    "not_superset_eq_def_inst = not_superset_eq_def.instantiate()"
   ]
  },
  {
   "cell_type": "code",
   "execution_count": 5,
   "metadata": {},
   "outputs": [
    {
     "data": {
      "text/html": [
       "<span style=\"font-size:20px;\"><a class=\"ProveItLink\" href=\"../../../__pv_it/axioms/683b918f966f1b74bb79621b77d5a6bdb824186c0/expr.ipynb\"><img src=\"data:image/png;base64,iVBORw0KGgoAAAANSUhEUgAAADsAAAAYBAMAAAC2M5gYAAAAMFBMVEX///92dnYiIiIQEBBERERU\n",
       "VFS6urqIiIjc3NxmZmaqqqru7u6YmJgyMjLMzMwAAADiRdoGAAAAAXRSTlMAQObYZgAAASpJREFU\n",
       "KM9jYEAD7Ax4wV780jVYxN4imBcgFE/815khblCx+xBzlZSUbk6ACjE7MDDMfwBRen8D3OprUMb7\n",
       "AwwM+RC1u+Y3wKRbWSA6GOqBQucLwMwD9QkwaTFuBwjDmYGB2whsKNuG9QcQLouAML4yMDyKBrO2\n",
       "MbwvgMryFDBUgRl8X8+UaEHEEhj6Ye7l3cAwCxJ4PxgYNgeAFUbOjIdayPCUgUEDzGAxACr5BbYa\n",
       "6EloYDDEMXBBVPIDdbJ/B7EWMDAwGUBkuS8wPNoA9zbrNyCDAyjN+wEizXj6pQfC2+9BBjWBbPoB\n",
       "CVR9FSmoLZeBlpoADdry/zYDl/8niNMXwrwf+z9yqssC9Ji7gTeu+RzwJhR9YIwqBeCUZ8KfkI7j\n",
       "l76NX7oBQwQAXTxNXj207mgAAAAASUVORK5CYII=\n",
       "\" style=\"display:inline;vertical-align:middle;\" /></a> <a class=\"ProveItLink\" href=\"../../../__pv_it/_proof_unfold_not_supset_eq/95f776f1cd54caea87816a10f3b3b8a0a56c24170/proof.ipynb\" style=\"text-decoration: none\">&nbsp;&#x22A2;&nbsp;&nbsp;</a><a class=\"ProveItLink\" href=\"../../../__pv_it/axioms/0cdeb67830a2e4cf9bc62a2d3b35f45eed9d67410/expr.ipynb\"><img src=\"data:image/png;base64,iVBORw0KGgoAAAANSUhEUgAAAFoAAAAUBAMAAAD/1DctAAAAMFBMVEX///+6uroQEBCqqqqIiIgy\n",
       "MjJERETu7u6YmJjMzMxUVFTc3Nx2dnYiIiJmZmYAAAAutVgsAAAAAXRSTlMAQObYZgAAAWVJREFU\n",
       "KM9jYIAD7gYGvIB5AzKvDEJNxVTX9X/dqzQBhtXIYtEQKh5MssfevXvNASalxsDA95OhFEkxxwMI\n",
       "FV8AE2FvFYAwOH8wMDD+Y+BxQKjmhTir+D3CeexQ61h+A035wsCugFC9F0I1+AsgxKB+YAMqK7rO\n",
       "wBCIkPEDk4wF9khBwwqxh38BA+ctoAPPIWQywGQhw3wk1/EYgKn5K1pyQaxWhrd3geAOkHkZLCHA\n",
       "sP8BQjUfxFX+GxjYtYC0LUR0FxArgn2/7t36BCSXQKgkkA6g4fPRVDMyMDAFIFRbQahfINUOKKrB\n",
       "LgEawIsIJ87r8OBmWA90lCxCNciX3EDVrB9gigufbYAHN+c3sC8huhkgwQMKc7bfsJjPMYC6Hmib\n",
       "UDqQ8QbhRqA1Zf/DGZjz/z5ATVNc8b/eLUsGsSIxYh4PYL+AkarwAORUxZCNYk4sKNZuoaguxZIb\n",
       "cAMU4wjlNI4NDAAlgVqeow4E5wAAAABJRU5ErkJggg==\n",
       "\" style=\"display:inline;vertical-align:middle;\" /></a></span>"
      ],
      "text/plain": [
       "{A nsupseteq B} |- [not](A supseteq B)"
      ]
     },
     "execution_count": 5,
     "metadata": {},
     "output_type": "execute_result"
    }
   ],
   "source": [
    "not_superset_eq_def_inst.derive_right_via_equality([not_superset_eq_def_inst.lhs])"
   ]
  },
  {
   "cell_type": "code",
   "execution_count": 6,
   "metadata": {},
   "outputs": [
    {
     "data": {
      "text/html": [
       "<table><tr><th>&nbsp;</th><th>step type</th><th>requirements</th><th>statement</th></tr>\n",
       "<tr><td><a name=\"0x2bc7bd50e7bcd17d_step0\">0</a></td><td>generalizaton</td><td><a href=\"#0x2bc7bd50e7bcd17d_step1\">1</a></td><td><span style=\"font-size:20px;\"> <a class=\"ProveItLink\" href=\"../../../__pv_it/_proof_unfold_not_supset_eq/1032ce7db7f6bb9da0b88b4349b9a180de1bb8a80/proof.ipynb\" style=\"text-decoration: none\">&nbsp;&#x22A2;&nbsp;&nbsp;</a><a class=\"ProveItLink\" href=\"../../../__pv_it/theorems/af459c123de8c6d6811a3d28d3cd9e7f38028d580/expr.ipynb\"><img src=\"data:image/png;base64,iVBORw0KGgoAAAANSUhEUgAAANcAAAAaBAMAAADWJdTsAAAAMFBMVEX///8QEBCIiIhmZma6urrM\n",
       "zMxUVFQiIiJERETc3Nzu7u6qqqp2dnaYmJgyMjIAAAAcRTyBAAAAAXRSTlMAQObYZgAAAz9JREFU\n",
       "SMe9Vl9IU1Ec/rzb1d27XfUhIihkEFEvpTBYEVKLHoogHD2ITzWoYD1EK8GVFRmE3Zm121NGhTcK\n",
       "FB9qJIRC0MqHwiKWQRCRDXqIelFc2lqYnT/3bmfItIn5G9/O+Z1z7/nO7+8GLFGUlKDcWeThYQtp\n",
       "qnwqn6xfmKsdbJDT8556P3fYrwdQaYDhFV37Xj7ZN2FebfBhkjF/jUZPe+2tNYBjGiq5BkUPdUlH\n",
       "2Vxag6C848N4Lm/qeIBP5FnAmQGeg6HaBDyJssmqDEE5wxkGfxUcaxkukSVtCrgLBm10YOBG+V4U\n",
       "X1Ei3FjpR2HtIB9ctYSknZgU4Mjq+rnyydYLc4m7dJ97dl4Ya0KQ26jvGjiOArF/Of5mkXZVmLtY\n",
       "FagBeaqwZkXm0PGxy3SmpTl2szxZXI4VaWdJlkWpJEn82MFOKJnCvoNnSL0BdTUZ3RGOKki8Prl9\n",
       "ezMjYYO/bF+cqWqILMUb/ZYXVtnxIssV7OBmnz8ruJEPFykhuYs8yeFJVfH48vBqtfDUMg77vc8B\n",
       "tOh6mJ74FnhWiox81RXIHvNhhpJ5C2RKupmt3+PhdYTgzolk6k5meAUtfD/w1LTdmCdjbnQTnMxz\n",
       "ye35MsMJcg1nhAOxI2xjtJUXkBeOtEjm6WPJ9mSIfJ0CdhQnCCVjCXKLYMLmur/NyJeZnBUSBIOs\n",
       "TGSvzvYfBrHFFMkOuFh/iZHepk5DsjrbiH1ukOc0q7W4YbWrbqtLVJOA7Oqi/kpyoIY1skpsZftN\n",
       "mzeFIJKFHBHW0bQEnFNjndbqHiEziX/U+B8TQ3OtxQlcOTHjC19hrEEOaMyQj6hnD7wBNopkWkKi\n",
       "/dUTkILwpCFFSrarhaTPgpUGX17HGWk30JsQyB40vsyxVCa6Kwnld+lGvIBYjdguQhO91EyQw5oM\n",
       "gWw7lGkyPCIf1BBP2s1W7Dou0Uwas2i0rYjL/omxZD85KqV0QclBWSe40UkyjeZv7DYJb6+J68nS\n",
       "P56lhd6mcCNXFkr8vLwWLzK+cEAgi3eg52eq5VrbBhK3Cz7/pSX9LfhgoUjc4m3EDUcQyy7Dpcj6\n",
       "l58LqRJkLXW63on/KA5RSWPlxJlcQTLVXJZj/gKgUN0YFGFHLwAAAABJRU5ErkJggg==\n",
       "\" style=\"display:inline;vertical-align:middle;\" /></a></span></td></tr>\n",
       "<tr><td><a name=\"0x2bc7bd50e7bcd17d_step1\">1</a></td><td>instantiation</td><td><a href=\"#0x2bc7bd50e7bcd17d_step2\">2</a>, <a href=\"#0x2bc7bd50e7bcd17d_step3\">3</a>, <a href=\"#0x2bc7bd50e7bcd17d_step4\">4</a></td><td><span style=\"font-size:20px;\"><a class=\"ProveItLink\" href=\"../../../__pv_it/axioms/683b918f966f1b74bb79621b77d5a6bdb824186c0/expr.ipynb\"><img src=\"data:image/png;base64,iVBORw0KGgoAAAANSUhEUgAAADsAAAAYBAMAAAC2M5gYAAAAMFBMVEX///92dnYiIiIQEBBERERU\n",
       "VFS6urqIiIjc3NxmZmaqqqru7u6YmJgyMjLMzMwAAADiRdoGAAAAAXRSTlMAQObYZgAAASpJREFU\n",
       "KM9jYEAD7Ax4wV780jVYxN4imBcgFE/815khblCx+xBzlZSUbk6ACjE7MDDMfwBRen8D3OprUMb7\n",
       "AwwM+RC1u+Y3wKRbWSA6GOqBQucLwMwD9QkwaTFuBwjDmYGB2whsKNuG9QcQLouAML4yMDyKBrO2\n",
       "MbwvgMryFDBUgRl8X8+UaEHEEhj6Ye7l3cAwCxJ4PxgYNgeAFUbOjIdayPCUgUEDzGAxACr5BbYa\n",
       "6EloYDDEMXBBVPIDdbJ/B7EWMDAwGUBkuS8wPNoA9zbrNyCDAyjN+wEizXj6pQfC2+9BBjWBbPoB\n",
       "CVR9FSmoLZeBlpoADdry/zYDl/8niNMXwrwf+z9yqssC9Ji7gTeu+RzwJhR9YIwqBeCUZ8KfkI7j\n",
       "l76NX7oBQwQAXTxNXj207mgAAAAASUVORK5CYII=\n",
       "\" style=\"display:inline;vertical-align:middle;\" /></a> <a class=\"ProveItLink\" href=\"../../../__pv_it/_proof_unfold_not_supset_eq/95f776f1cd54caea87816a10f3b3b8a0a56c24170/proof.ipynb\" style=\"text-decoration: none\">&nbsp;&#x22A2;&nbsp;&nbsp;</a><a class=\"ProveItLink\" href=\"../../../__pv_it/axioms/0cdeb67830a2e4cf9bc62a2d3b35f45eed9d67410/expr.ipynb\"><img src=\"data:image/png;base64,iVBORw0KGgoAAAANSUhEUgAAAFoAAAAUBAMAAAD/1DctAAAAMFBMVEX///+6uroQEBCqqqqIiIgy\n",
       "MjJERETu7u6YmJjMzMxUVFTc3Nx2dnYiIiJmZmYAAAAutVgsAAAAAXRSTlMAQObYZgAAAWVJREFU\n",
       "KM9jYIAD7gYGvIB5AzKvDEJNxVTX9X/dqzQBhtXIYtEQKh5MssfevXvNASalxsDA95OhFEkxxwMI\n",
       "FV8AE2FvFYAwOH8wMDD+Y+BxQKjmhTir+D3CeexQ61h+A035wsCugFC9F0I1+AsgxKB+YAMqK7rO\n",
       "wBCIkPEDk4wF9khBwwqxh38BA+ctoAPPIWQywGQhw3wk1/EYgKn5K1pyQaxWhrd3geAOkHkZLCHA\n",
       "sP8BQjUfxFX+GxjYtYC0LUR0FxArgn2/7t36BCSXQKgkkA6g4fPRVDMyMDAFIFRbQahfINUOKKrB\n",
       "LgEawIsIJ87r8OBmWA90lCxCNciX3EDVrB9gigufbYAHN+c3sC8huhkgwQMKc7bfsJjPMYC6Hmib\n",
       "UDqQ8QbhRqA1Zf/DGZjz/z5ATVNc8b/eLUsGsSIxYh4PYL+AkarwAORUxZCNYk4sKNZuoaguxZIb\n",
       "cAMU4wjlNI4NDAAlgVqeow4E5wAAAABJRU5ErkJggg==\n",
       "\" style=\"display:inline;vertical-align:middle;\" /></a></span></td></tr>\n",
       "<tr><td>&nbsp;</td><td colspan=4 style=\"text-align:left\"><span style=\"font-size:20px;\"><a class=\"ProveItLink\" href=\"../../../../../../__pv_it/common/de55da274ba0f49c86925fbf3828021c04d27faf0/expr.ipynb\"><img src=\"data:image/png;base64,iVBORw0KGgoAAAANSUhEUgAAABAAAAAOBAMAAADUAYG5AAAAMFBMVEX///8iIiLc3Ny6urqIiIiq\n",
       "qqp2dnbMzMwQEBDu7u5mZmYyMjJERERUVFSYmJgAAAA4CJ/KAAAAAXRSTlMAQObYZgAAAF5JREFU\n",
       "CNdjYGB4+//s3V0TGIDgNwMDTyeQZv/GwMD6Bchg+QzEQA4DzwcGBl4gh4F/AwOD/gIgoz6BgVUM\n",
       "pMn/WtoSsO7zYBIIPkJp9l9QBsgYMOD+CaG59v91ANEANtEY7WfmSIAAAAAASUVORK5CYII=\n",
       "\" style=\"display:inline;vertical-align:middle;\" /></a> : <a class=\"ProveItLink\" href=\"../../../__pv_it/axioms/683b918f966f1b74bb79621b77d5a6bdb824186c0/expr.ipynb\"><img src=\"data:image/png;base64,iVBORw0KGgoAAAANSUhEUgAAADsAAAAYBAMAAAC2M5gYAAAAMFBMVEX///92dnYiIiIQEBBERERU\n",
       "VFS6urqIiIjc3NxmZmaqqqru7u6YmJgyMjLMzMwAAADiRdoGAAAAAXRSTlMAQObYZgAAASpJREFU\n",
       "KM9jYEAD7Ax4wV780jVYxN4imBcgFE/815khblCx+xBzlZSUbk6ACjE7MDDMfwBRen8D3OprUMb7\n",
       "AwwM+RC1u+Y3wKRbWSA6GOqBQucLwMwD9QkwaTFuBwjDmYGB2whsKNuG9QcQLouAML4yMDyKBrO2\n",
       "MbwvgMryFDBUgRl8X8+UaEHEEhj6Ye7l3cAwCxJ4PxgYNgeAFUbOjIdayPCUgUEDzGAxACr5BbYa\n",
       "6EloYDDEMXBBVPIDdbJ/B7EWMDAwGUBkuS8wPNoA9zbrNyCDAyjN+wEizXj6pQfC2+9BBjWBbPoB\n",
       "CVR9FSmoLZeBlpoADdry/zYDl/8niNMXwrwf+z9yqssC9Ji7gTeu+RzwJhR9YIwqBeCUZ8KfkI7j\n",
       "l76NX7oBQwQAXTxNXj207mgAAAAASUVORK5CYII=\n",
       "\" style=\"display:inline;vertical-align:middle;\" /></a>, <a class=\"ProveItLink\" href=\"../../../../../../__pv_it/common/d72bb8b07403efe79afab564c36a28e21330e5f90/expr.ipynb\"><img src=\"data:image/png;base64,iVBORw0KGgoAAAANSUhEUgAAAA8AAAASBAMAAAB2sJk8AAAAMFBMVEX///+qqqq6urrc3NwQEBAy\n",
       "MjJERERUVFTMzMwiIiKYmJh2dnZmZmaIiIju7u4AAABsX1SbAAAAAXRSTlMAQObYZgAAAINJREFU\n",
       "CNdjYGDgu7P7FAMI7GxgYE8A0k8DgILeQEbIAyBRz8DA/Qskvd+AwX4CiHFegWH/BRAjv4FhfgOI\n",
       "8R+IQGoZvzMwTAEJcP5jYCgBMe4DFfY/eHuD4w+Qw3thAff6DSDhvuqbyQxgrQzsDVwGYAbbATUw\n",
       "zcDz/weEwTFFgIEBAOxlJHQBUmidAAAAAElFTkSuQmCC\n",
       "\" style=\"display:inline;vertical-align:middle;\" /></a> : <a class=\"ProveItLink\" href=\"../../../__pv_it/axioms/0cdeb67830a2e4cf9bc62a2d3b35f45eed9d67410/expr.ipynb\"><img src=\"data:image/png;base64,iVBORw0KGgoAAAANSUhEUgAAAFoAAAAUBAMAAAD/1DctAAAAMFBMVEX///+6uroQEBCqqqqIiIgy\n",
       "MjJERETu7u6YmJjMzMxUVFTc3Nx2dnYiIiJmZmYAAAAutVgsAAAAAXRSTlMAQObYZgAAAWVJREFU\n",
       "KM9jYIAD7gYGvIB5AzKvDEJNxVTX9X/dqzQBhtXIYtEQKh5MssfevXvNASalxsDA95OhFEkxxwMI\n",
       "FV8AE2FvFYAwOH8wMDD+Y+BxQKjmhTir+D3CeexQ61h+A035wsCugFC9F0I1+AsgxKB+YAMqK7rO\n",
       "wBCIkPEDk4wF9khBwwqxh38BA+ctoAPPIWQywGQhw3wk1/EYgKn5K1pyQaxWhrd3geAOkHkZLCHA\n",
       "sP8BQjUfxFX+GxjYtYC0LUR0FxArgn2/7t36BCSXQKgkkA6g4fPRVDMyMDAFIFRbQahfINUOKKrB\n",
       "LgEawIsIJ87r8OBmWA90lCxCNciX3EDVrB9gigufbYAHN+c3sC8huhkgwQMKc7bfsJjPMYC6Hmib\n",
       "UDqQ8QbhRqA1Zf/DGZjz/z5ATVNc8b/eLUsGsSIxYh4PYL+AkarwAORUxZCNYk4sKNZuoaguxZIb\n",
       "cAMU4wjlNI4NDAAlgVqeow4E5wAAAABJRU5ErkJggg==\n",
       "\" style=\"display:inline;vertical-align:middle;\" /></a></span></td></tr><tr><td><a name=\"0x2bc7bd50e7bcd17d_step2\">2</a></td><td>theorem</td><td></td><td><span style=\"font-size:20px;\"> <a class=\"ProveItLink\" href=\"../../../../../equality/_theory_nbs_/proofs/rhs_via_equality/thm_proof.ipynb\" style=\"text-decoration: none\">&nbsp;&#x22A2;&nbsp;&nbsp;</a><a class=\"ProveItLink\" href=\"../../../../../equality/__pv_it/theorems/4546a35b627d4cb8c4df070fccd511b94f50b8070/expr.ipynb\"><img src=\"data:image/png;base64,iVBORw0KGgoAAAANSUhEUgAAAIkAAAAWBAMAAAAGOqJsAAAAMFBMVEX///8QEBCIiIhmZma6urrM\n",
       "zMxUVFQiIiJERETc3Nzu7u6qqqp2dnaYmJgyMjIAAAAcRTyBAAAAAXRSTlMAQObYZgAAAgFJREFU\n",
       "OMutVD9IG1EY/3nR/DnvqkiXVgdFxEUaxyiIBy7ZmnZwcDFCdSiCuhaLgYImhZJsuqjRMUMrdMoi\n",
       "0kIFDXrOIqaLg9BWEKVpbdPve5fcvUsc9OgP3vf78uX3fnfve/ce8F9Q5HDiebraXRgi2uf83LPL\n",
       "bgz+BLBCaSjh1eQ9LUXtAB5kAW3Lq8tXmo0ZQN/L5Za9mmh/OB5mgJ/J5LxXl/VZjsMGMAmkgMb0\n",
       "dOQll7oLg0LQaOmi158XsxJbqIoOOzmmY8AIVN7tI+o30ZqBZ0IdtPR6K7RZiQVs0UKMY5lGAIpJ\n",
       "NAWEabceAb645OKPQ7mQmOGIyuzVfM0dMgNceA0kydIUj3VcqBBMSFypVURz4ucvdi6O8jdYgvIK\n",
       "6KLUembF5UMGvVmJGY5ogkNYNCf1gpt508df8RkNX1FyefqpsGWzP0l4J4nGs5s9TZdC+JG7pokq\n",
       "bmg07EguB3CzW6R0mtqpyNDCbxTsF3mbtVuOyxu42S3C2HRvCmKjdF5vi3UIptTj0EPZ5Tck9n8n\n",
       "fJNEXIvpGdt/nNLQW2w817cNyaWpBFEXXIUjEouI2n8oPwZoSjvUyJd4SHJ5cpkRdcH2nWKLuM3l\n",
       "q5pj0cxPj6/KK7LrLlRFnM7VXgh5fv2/j+tc8rUuVdGt4JOAJaPOxaxTLhl3O/S++9wQ/wC6SI3I\n",
       "rLOAiQAAAABJRU5ErkJggg==\n",
       "\" style=\"display:inline;vertical-align:middle;\" /></a></span></td></tr>\n",
       "<tr><td>&nbsp;</td><td colspan=4 style-\"text-align:left\"><a class=\"ProveItLink\" href=\"../../../../../equality/_theory_nbs_/proofs/rhs_via_equality/thm_proof.ipynb\">proveit.logic.equality.rhs_via_equality</a></td></tr><tr><td><a name=\"0x2bc7bd50e7bcd17d_step3\">3</a></td><td>assumption</td><td></td><td><span style=\"font-size:20px;\"><a class=\"ProveItLink\" href=\"../../../__pv_it/axioms/683b918f966f1b74bb79621b77d5a6bdb824186c0/expr.ipynb\"><img src=\"data:image/png;base64,iVBORw0KGgoAAAANSUhEUgAAADsAAAAYBAMAAAC2M5gYAAAAMFBMVEX///92dnYiIiIQEBBERERU\n",
       "VFS6urqIiIjc3NxmZmaqqqru7u6YmJgyMjLMzMwAAADiRdoGAAAAAXRSTlMAQObYZgAAASpJREFU\n",
       "KM9jYEAD7Ax4wV780jVYxN4imBcgFE/815khblCx+xBzlZSUbk6ACjE7MDDMfwBRen8D3OprUMb7\n",
       "AwwM+RC1u+Y3wKRbWSA6GOqBQucLwMwD9QkwaTFuBwjDmYGB2whsKNuG9QcQLouAML4yMDyKBrO2\n",
       "MbwvgMryFDBUgRl8X8+UaEHEEhj6Ye7l3cAwCxJ4PxgYNgeAFUbOjIdayPCUgUEDzGAxACr5BbYa\n",
       "6EloYDDEMXBBVPIDdbJ/B7EWMDAwGUBkuS8wPNoA9zbrNyCDAyjN+wEizXj6pQfC2+9BBjWBbPoB\n",
       "CVR9FSmoLZeBlpoADdry/zYDl/8niNMXwrwf+z9yqssC9Ji7gTeu+RzwJhR9YIwqBeCUZ8KfkI7j\n",
       "l76NX7oBQwQAXTxNXj207mgAAAAASUVORK5CYII=\n",
       "\" style=\"display:inline;vertical-align:middle;\" /></a> <a class=\"ProveItLink\" href=\"../../../__pv_it/_proof_unfold_not_supset_eq/48ee95cc7c9987a9208c62da3b6ee53ce0e6830a0/proof.ipynb\" style=\"text-decoration: none\">&nbsp;&#x22A2;&nbsp;&nbsp;</a><a class=\"ProveItLink\" href=\"../../../__pv_it/axioms/683b918f966f1b74bb79621b77d5a6bdb824186c0/expr.ipynb\"><img src=\"data:image/png;base64,iVBORw0KGgoAAAANSUhEUgAAADsAAAAYBAMAAAC2M5gYAAAAMFBMVEX///92dnYiIiIQEBBERERU\n",
       "VFS6urqIiIjc3NxmZmaqqqru7u6YmJgyMjLMzMwAAADiRdoGAAAAAXRSTlMAQObYZgAAASpJREFU\n",
       "KM9jYEAD7Ax4wV780jVYxN4imBcgFE/815khblCx+xBzlZSUbk6ACjE7MDDMfwBRen8D3OprUMb7\n",
       "AwwM+RC1u+Y3wKRbWSA6GOqBQucLwMwD9QkwaTFuBwjDmYGB2whsKNuG9QcQLouAML4yMDyKBrO2\n",
       "MbwvgMryFDBUgRl8X8+UaEHEEhj6Ye7l3cAwCxJ4PxgYNgeAFUbOjIdayPCUgUEDzGAxACr5BbYa\n",
       "6EloYDDEMXBBVPIDdbJ/B7EWMDAwGUBkuS8wPNoA9zbrNyCDAyjN+wEizXj6pQfC2+9BBjWBbPoB\n",
       "CVR9FSmoLZeBlpoADdry/zYDl/8niNMXwrwf+z9yqssC9Ji7gTeu+RzwJhR9YIwqBeCUZ8KfkI7j\n",
       "l76NX7oBQwQAXTxNXj207mgAAAAASUVORK5CYII=\n",
       "\" style=\"display:inline;vertical-align:middle;\" /></a></span></td></tr>\n",
       "<tr><td><a name=\"0x2bc7bd50e7bcd17d_step4\">4</a></td><td>instantiation</td><td><a href=\"#0x2bc7bd50e7bcd17d_step5\">5</a></td><td><span style=\"font-size:20px;\"> <a class=\"ProveItLink\" href=\"../../../__pv_it/_proof_unfold_not_supset_eq/12631dc540bd0ffa0af2b366655ed535ba25bd7e0/proof.ipynb\" style=\"text-decoration: none\">&nbsp;&#x22A2;&nbsp;&nbsp;</a><a class=\"ProveItLink\" href=\"../../../__pv_it/axioms/a7d1ae6455f1c05882810706c3eaa4588f67dd890/expr.ipynb\"><img src=\"data:image/png;base64,iVBORw0KGgoAAAANSUhEUgAAANEAAAAYBAMAAACW8wWgAAAAMFBMVEX///9UVFTMzMx2dna6uroQ\n",
       "EBCqqqqIiIgiIiJmZmYyMjJERETu7u6YmJjc3NwAAAC+aOQFAAAAAXRSTlMAQObYZgAAAspJREFU\n",
       "SMe9Vk1oE0EUfk2aTZrNxuCtKja9VS/pQSq95VhB0EMOopeCF0XQnIQi0lyUiGBTFCGnBqkHpbQ5\n",
       "KB4kzR6sSIOQmyj+xIv0IjYg1t/GN29mNjOz5gekffCys68z33v7vZ8pgF/CsFuyvkO48bppuaq9\n",
       "WY0eZz73cHBRKNT4++H2n0r84Yw0i/sfARz0H64p61iZHoGSb5cAGMBQmcIyN69w4vL5/IOC2BlC\n",
       "jIXkv8hcVtZR/s3RTQ/gCWgAMYyBqcNxnRXXS9OiWKSQoxMFCGZ9wRaUl9f88ea3Z3lpABzFJWqE\n",
       "h/R8wUvHRzvJF7No+pCF2EnTU0RN3S3O4fltpaQaGsAaLlE3uLE+m5b7jgjm4TECnMJPXTQ9bajF\n",
       "keOfGf7atsmcCYAoQqPOkG3QvVRvF4SogSbA2AF8TpqeZtTm40wet/748ygAggXSCtmeQUpmw8nC\n",
       "ZR5Z892V65QC9hN8SEK4FQXUpghj6cCWYpzQAJwSKWFBGr7ILEdduMujRebXErg4Z34TnhnKMxnH\n",
       "nE0TJxD/oWy4owFYOdIMeR8ujojkwKhMso2VEP7GSsj0lJE5QpgQ5Xe0OP8LzI6UAIFN0gwPCUKy\n",
       "8/aCxZ3uQZzwVn+e8Oe0MlYSGoDwROwhAxFRy9hjY67XDQOsoqaUPCUEe54nYs9Cvdb2ZAAM5khZ\n",
       "duPTXo9D8O2h1XY3pMqyIlSpKJ6oIj55Q4bFeswAEBUxKfrD3ubDZO7mhDhxHyM5w6K7bXryyj7J\n",
       "S5h6qtoQ08gHMDROitTUWktgVb/z4jsrUfa1huefUmHdMz1NKWukJVb96cKF1g1jlwcQTZJGGp2H\n",
       "p2Aj18c06iYvuGrTEmuk7NvY34TtImLCwqp23c6xhkz0uoLVM7ZGynreByBvDe1WQ2K6w3a+CTsL\n",
       "C4XC0W/3V/6b839v9/dCDVnatf+LGjuG/BdziuSrxytpAAAAAABJRU5ErkJggg==\n",
       "\" style=\"display:inline;vertical-align:middle;\" /></a></span></td></tr>\n",
       "<tr><td>&nbsp;</td><td colspan=4 style=\"text-align:left\"><span style=\"font-size:20px;\"><a class=\"ProveItLink\" href=\"../../../../../../__pv_it/common/09585084922504426caf1db2ff588a23a0932a960/expr.ipynb\"><img src=\"data:image/png;base64,iVBORw0KGgoAAAANSUhEUgAAAA8AAAAOBAMAAAACpFvcAAAALVBMVEX///8iIiIQEBBERERUVFS6\n",
       "urqIiIjc3NxmZmaqqqru7u6YmJgyMjLMzMwAAACK9jtgAAAAAXRSTlMAQObYZgAAAFtJREFUCNdj\n",
       "YACBOwxQcA5Kc59bAGGs7CuAMDbkBYBp1gXzNoAZSxnuJYAZAQx1DSCa16PDzwCshIGB6QCIMYGB\n",
       "gVEBSLMDGTwPgIxCIGZ+zsCw+N0pBk67hw0AfpEVEQi8t+wAAAAASUVORK5CYII=\n",
       "\" style=\"display:inline;vertical-align:middle;\" /></a> : <a class=\"ProveItLink\" href=\"../../../../../../__pv_it/common/09585084922504426caf1db2ff588a23a0932a960/expr.ipynb\"><img src=\"data:image/png;base64,iVBORw0KGgoAAAANSUhEUgAAAA8AAAAOBAMAAAACpFvcAAAALVBMVEX///8iIiIQEBBERERUVFS6\n",
       "urqIiIjc3NxmZmaqqqru7u6YmJgyMjLMzMwAAACK9jtgAAAAAXRSTlMAQObYZgAAAFtJREFUCNdj\n",
       "YACBOwxQcA5Kc59bAGGs7CuAMDbkBYBp1gXzNoAZSxnuJYAZAQx1DSCa16PDzwCshIGB6QCIMYGB\n",
       "gVEBSLMDGTwPgIxCIGZ+zsCw+N0pBk67hw0AfpEVEQi8t+wAAAAASUVORK5CYII=\n",
       "\" style=\"display:inline;vertical-align:middle;\" /></a>, <a class=\"ProveItLink\" href=\"../../../../../../__pv_it/common/a9162d1c3cc0470c02e5daf414500903a7a419230/expr.ipynb\"><img src=\"data:image/png;base64,iVBORw0KGgoAAAANSUhEUgAAABAAAAAOBAMAAADUAYG5AAAALVBMVEX///8yMjKqqqoiIiLu7u7c\n",
       "3NyIiIjMzMwQEBC6urpERERmZmZUVFSYmJgAAACsPVCVAAAAAXRSTlMAQObYZgAAAGxJREFUCNdj\n",
       "YGC48+70nlUTGICgi4GB+zmQZn/LwMD5Gshge8rAwPsMyOBqYGDwMAEy+A4wsNs4ABl1Z68tVgBp\n",
       "ygtgYOkBMVaAOCChNyBGAsQYhnMTIMawvwJyGIHGzFjCwMAj92b3qUUMDAAXABxvZ4rl5AAAAABJ\n",
       "RU5ErkJggg==\n",
       "\" style=\"display:inline;vertical-align:middle;\" /></a> : <a class=\"ProveItLink\" href=\"../../../../../../__pv_it/common/a9162d1c3cc0470c02e5daf414500903a7a419230/expr.ipynb\"><img src=\"data:image/png;base64,iVBORw0KGgoAAAANSUhEUgAAABAAAAAOBAMAAADUAYG5AAAALVBMVEX///8yMjKqqqoiIiLu7u7c\n",
       "3NyIiIjMzMwQEBC6urpERERmZmZUVFSYmJgAAACsPVCVAAAAAXRSTlMAQObYZgAAAGxJREFUCNdj\n",
       "YGC48+70nlUTGICgi4GB+zmQZn/LwMD5Gshge8rAwPsMyOBqYGDwMAEy+A4wsNs4ABl1Z68tVgBp\n",
       "ygtgYOkBMVaAOCChNyBGAsQYhnMTIMawvwJyGIHGzFjCwMAj92b3qUUMDAAXABxvZ4rl5AAAAABJ\n",
       "RU5ErkJggg==\n",
       "\" style=\"display:inline;vertical-align:middle;\" /></a></span></td></tr><tr><td><a name=\"0x2bc7bd50e7bcd17d_step5\">5</a></td><td>axiom</td><td></td><td><span style=\"font-size:20px;\"> <a class=\"ProveItLink\" href=\"../../axioms.ipynb#not_superset_eq_def\" style=\"text-decoration: none\">&nbsp;&#x22A2;&nbsp;&nbsp;</a><a class=\"ProveItLink\" href=\"../../../__pv_it/axioms/bd32d99a9b31a185188cbafe63fe5d0c9703a69e0/expr.ipynb\"><img src=\"data:image/png;base64,iVBORw0KGgoAAAANSUhEUgAAARkAAAAYBAMAAAA8FZQ1AAAAMFBMVEX///8QEBCIiIhmZma6urrM\n",
       "zMxUVFQiIiJERETc3Nzu7u6qqqp2dnaYmJgyMjIAAAAcRTyBAAAAAXRSTlMAQObYZgAAA9hJREFU\n",
       "SMfNV21IU1EYft12p/vUH1JCEYN+JIRtMLCgwEU/jCAcBPovByZYUBqCMy00CNpM2X5lEOGkIDEo\n",
       "QegDgiSDQCOGQVChLTRCf6S4MjXM3vN577a7aUTkC8+9Z+fjnue873Pecwbw52aArWT3/9O8ljhD\n",
       "qpWl/LJF9cdJu7XBJE80SJCKySwdBzjQTqq1CfZyNC55G64AnNYfJ8zaSV9KIqPX2/W68pAPzLgc\n",
       "gXFSP5eFzSwH2jwLUjAYnPbw1jycp8KvF7hZTdnJfOdcoNS+BIOtLtFUAmD8DlbkKXCDOLZTn4zD\n",
       "w0CK8zEpmxleqMV4VHnA7tIbJ+0Ne02tSmdN+VhBWQMwJQGeg4QTZ7EP6bPJjzKg3auQ8rhe4GcF\n",
       "N1Z9dIG1SG+ctAuMwvCKGjvuOgNWORYB+kHCMTY42JslUL0caHG3T9S+4EqAy/jh7biYGb1xUtBN\n",
       "zF2Gb2od12ABLqO/DR3iU7EcCl3MwmY3Bzo09iyuipjrdgmg5gy+R/XGyeTEonbMtpYhpcIAKC0k\n",
       "NB4V9QBh2sieR5OjDcLRPRwAd6BWqMPhgr0s7EuTpe1UEuRh/0rNA3IMdwBdhdWnLKp1XBm1Zyeu\n",
       "kpIjoeIIFTOWmSsdRWAXQmjnAPBBn1AmCu2gDHt/AAuP0n2DY4xBYiOoITqzCSxJtd3oE7qzbiMZ\n",
       "q0lFPhgo/dvMlcYA2IT8izlAqfM2in1XLYRJwm74SdaYzqZYaAa55tGZq73ly5pISd2BG8kqCyrs\n",
       "8XzaNtbM9oMLjIl0Nib8qqisB1unCDsYFjfHBh+71PaHUnfgdqWysSSq6fJdIdrlgR/2xdIjhQvI\n",
       "5+HDsNbEZLoxk/BWanQTABldxoZGyoY4L8kobTLdQCPyNDWpgPAp0maG/bRPVVlpANJUbBkSuRRn\n",
       "fX8irKab2k6hYq31aNhQFd+UyZzsiANRqTtlOU3FMEwzwgdw0z6vAfaIcaMcJH8UrLCToaN1nLd+\n",
       "wtWUEDcdSmcjt7yfbVuacyJRfjJ081zrRG8f7iJSHVEBhWTvWqdfRWgAugH6RGquZBhYnwNb5Afb\n",
       "VE/FTOfImUd7fk5nU6kpo/utkV8xeLzenNrJPI+H7jVKy68CHISFMQZ9NOHjJqmKZp4MugciV1LT\n",
       "Jk6GXHZXA2bH0UdxSxdYVsGyU+fUlArMPGA3d2rmMM2pyTPmMlgil5Qd8DLpbZAnEk3P4ZRrXwdJ\n",
       "aoGNroLaMQVaRxHdBIMtqb7V3ChS73HZb1siCLmnzn7bym6ErkDGpTD3TXQi8xL0tzfRdxqkWHzD\n",
       "GM9tqf8L0X/69d8Ahyk2DGj2HgAAAABJRU5ErkJggg==\n",
       "\" style=\"display:inline;vertical-align:middle;\" /></a></span></td></tr>\n",
       "<tr><td>&nbsp;</td><td colspan=4 style-\"text-align:left\"><a class=\"ProveItLink\" href=\"../../axioms.ipynb#not_superset_eq_def\">proveit.logic.sets.inclusion.not_superset_eq_def</a></td></tr></table>"
      ],
      "text/plain": [
       "\tstep type\trequirements\tstatement\n",
       "0\tgeneralizaton\t1\t|- forall_{A, B | A nsupseteq B} [not](A supseteq B)\n",
       "1\tinstantiation\t2, 3, 4\t{A nsupseteq B} |- [not](A supseteq B)\n",
       "\tP : A nsupseteq B, Q : [not](A supseteq B)\n",
       "2\ttheorem\t\t|- forall_{P, Q | P, P = Q} Q\n",
       "\tproveit.logic.equality.rhs_via_equality\n",
       "3\tassumption\t\t{A nsupseteq B} |- A nsupseteq B\n",
       "4\tinstantiation\t5\t|- (A nsupseteq B) = [not](A supseteq B)\n",
       "\tA : A, B : B\n",
       "5\taxiom\t\t|- forall_{A, B} ((A nsupseteq B) = [not](A supseteq B))\n",
       "\tproveit.logic.sets.inclusion.not_superset_eq_def"
      ]
     },
     "execution_count": 6,
     "metadata": {},
     "output_type": "execute_result"
    }
   ],
   "source": [
    "%qed"
   ]
  },
  {
   "cell_type": "code",
   "execution_count": null,
   "metadata": {},
   "outputs": [],
   "source": []
  }
 ],
 "metadata": {
  "kernelspec": {
   "display_name": "Python 3",
   "language": "python",
   "name": "python3"
  }
 },
 "nbformat": 4,
 "nbformat_minor": 0
}