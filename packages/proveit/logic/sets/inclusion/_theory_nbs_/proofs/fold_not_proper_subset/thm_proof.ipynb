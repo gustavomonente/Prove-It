{
 "cells": [
  {
   "cell_type": "markdown",
   "metadata": {},
   "source": [
    "Proof of <a class=\"ProveItLink\" href=\"../../../../../../_theory_nbs_/theory.ipynb\">proveit</a>.<a class=\"ProveItLink\" href=\"../../../../../_theory_nbs_/theory.ipynb\">logic</a>.<a class=\"ProveItLink\" href=\"../../../../_theory_nbs_/theory.ipynb\">sets</a>.<a class=\"ProveItLink\" href=\"../../theory.ipynb\">inclusion</a>.<a class=\"ProveItLink\" href=\"../../theorems.ipynb#fold_not_proper_subset\">fold_not_proper_subset</a> theorem\n",
    "========"
   ]
  },
  {
   "cell_type": "code",
   "execution_count": 1,
   "metadata": {},
   "outputs": [],
   "source": [
    "import proveit\n",
    "from proveit.logic.sets.inclusion  import not_proper_subset_def\n",
    "theory = proveit.Theory() # the theorem's theory"
   ]
  },
  {
   "cell_type": "code",
   "execution_count": 2,
   "metadata": {},
   "outputs": [
    {
     "data": {
      "text/html": [
       "Under these <a href=\"presumptions.txt\">presumptions</a>, we begin our proof of<br><strong id=\"fold_not_proper_subset\">fold_not_proper_subset:</strong> <a class=\"ProveItLink\" href=\"../../../__pv_it/theorems/9ab9abec72e591bf6a0760fa1eb384a4ee8b906c0/expr.ipynb\"><img src=\"data:image/png;base64,iVBORw0KGgoAAAANSUhEUgAAANEAAAAWCAMAAABpCYnRAAAAPFBMVEX///9RUVGurq4bGxsLCwsQ\n",
       "EBCIiIhmZma6urrMzMxUVFQiIiJERETc3Nzu7u6qqqp2dnaYmJgyMjIAAADYQjYbAAAAAXRSTlMA\n",
       "QObYZgAAAuxJREFUWMPNWNeSozAQ5ILSKEv//6+nAGaUAF/tlpcHF2Fo1NOT5G37QYf2D4ycWT6y\n",
       "Ov+G17X3HyZkFL4SYc66ve0hRmAMlOLpCjIlZ4+HwXyYUdDNVZwaAe9ukOoHFkXySaarD8do9WFC\n",
       "njVXIc48PKxSxBpaPObXHUXSnGJ96JBYImNZ1B1jJaX8+0dKge/S3czHTMaQfOpMPrT8dFloFuDT\n",
       "UnmbP07PAkmR6gEiizIhvxRVPqT7ilU9NRTjLYqDjpvNRj8qqIYXIxQ8CTXUXEaBYqXQavA5V5G5\n",
       "VEvwrWVhnUNMoOyIoRABw3OCUPSUlZwQg0QigvdUSftKv/yhTMugougbvX2R1RH07QUh0AuICRQb\n",
       "GEvb+kxHLFoNyVGiPY0Mgb0lycOanh4yrNGbFVuLKs+CkXATCEFZPgYoA/3r5PSBSB2GQUTf0TW2\n",
       "YFukUWJmd82K0/zhg70py8Y7RXwWbjUCMUAYcLzUnREq6DWjekZC33wnoRzhYEQRo9SGEXtBN4XW\n",
       "bHLn2ihuvwtGcoSAJkoaKOqXUbefSNKB81GioxttsIc538NTo06cXmNIMR5pyrwGS91V3wOCt/Wz\n",
       "gbKwqgzaToaG3DrDKNHRjcQRor4KaxEFb7MdgiomVM4ZOVWPkCvZAOHaRG6geO8XxzrPqKbFBsvZ\n",
       "ZHCqOnKi9hhiuxPPQmkCc07hMlBMdLSXGgGKiROiK2gN1DCI1ngxKsYSljad4Hw2QH73YxGEY0w9\n",
       "h9Pdif5ly0z56Onc+n2O/TVn9OoVJ4RvB6sGakwKed2f7S+XxyDZTUHd+D5MPrwGc843rerKyi9x\n",
       "2x2jAwxBtNuDFsq760l1DLAnWwNH++wsCaZVlH4TJLnUyZhbg+I3lSG7tw5WGCIly+n3DopNpoYr\n",
       "keyTKc2E6+erYXxRvenE3kCtHBOX3+34/kcidRO4+j1G2zsbLOvf3JXzJzusm0l5Cb9aOX++rTfs\n",
       "J/2/sbG3VR0j9Pv+AfgHgJkj9/vRE4EAAAAASUVORK5CYII=\n",
       "\" style=\"display:inline;vertical-align:middle;\" /></a><br>(see <a class=\"ProveItLink\" href=\"../../../__pv_it/theorems/56adc9bf4291ae2604a9b312096aeab2f0c684450/dependencies.ipynb\">dependencies</a>)<br>"
      ],
      "text/plain": [
       "fold_not_proper_subset: forall_{A, B | not(A proper_subset B)} (A not_proper_subset B)"
      ]
     },
     "execution_count": 2,
     "metadata": {},
     "output_type": "execute_result"
    }
   ],
   "source": [
    "%proving fold_not_proper_subset"
   ]
  },
  {
   "cell_type": "code",
   "execution_count": 3,
   "metadata": {},
   "outputs": [
    {
     "data": {
      "text/html": [
       "<span style=\"font-size:20px;\"> <a class=\"ProveItLink\" href=\"../../axioms.ipynb#not_proper_subset_def\" style=\"text-decoration: none\">&nbsp;&#x22A2;&nbsp;&nbsp;</a><a class=\"ProveItLink\" href=\"../../../__pv_it/axioms/bcdc43d7690485e4b19a3a7b99db8864dac8e5470/expr.ipynb\"><img src=\"data:image/png;base64,iVBORw0KGgoAAAANSUhEUgAAARkAAAAVCAMAAABFe2rqAAAAPFBMVEX///9RUVGurq4bGxsLCwsQ\n",
       "EBCIiIhmZma6urrMzMxUVFQiIiJERETc3Nzu7u6qqqp2dnaYmJgyMjIAAADYQjYbAAAAAXRSTlMA\n",
       "QObYZgAAAx1JREFUWMPlWNkWnCAMtYuCEPb//9cKiBIWwemc04fmYa6KkjvZCCzL5yIMxifRsj+m\n",
       "xDt98wOTkghgtNe4eTm/BIxRdtvkjp8a5hwjhAFQf8vEG32DgTaBQjoEEGqV3rbynWWswHjeuda7\n",
       "jBYP1vhviNv9X7Nv9A0G2gQqaRJAKJLBBbwzjCEYzzvrGgau5t5dDFDqwtd6m9c3GGgTqKRDAGEK\n",
       "lTt45oQLjNHYijjsWgOc89+/ON/zp9v5lnGBilzn9T0PdAh4mSGA0GjpRfCX5ZdjPGkcKimqL1q0\n",
       "whHWkwCPfrF0Vt9goE2glh4BhA68cP3OMhvBGGNTLsqZyp+wl187FkKasxSwZFbf80CHQC09AghZ\n",
       "4A3ZFPk1BUf0UcRLDWAwBg9Qn8BZzSAhQ3eos5wZswFXd3W413ebCan01d4fE2iVmQ4BhJQUy4NB\n",
       "8WhC3OmyEqRJeabbfyZc5sMY6HXInFkuV5Y6imEun3oIv0RPE2gEWo8ARv+z3ZaXBMUjCR+rsuKv\n",
       "FKN3xNEhEObuCBExZFkvyw+CKvlwuMqWlUiwWQL9MlMTwKgNMq6WPE9dHoKT2GVomXi12qIFA9HJ\n",
       "ck9s+6ZlOgS6ZaZBAOPRoGZ+3bcFsgllaIW2qg2ssyk9WHEwU9ZtJhaW8pbydp1hlb7KMkMCD91M\n",
       "TaBAEFmPynwyZ6nrtqNUsW7huwqgUHUP6humRuuamon9Cnwz7IKrCpwsMyTQLzMNAgWqzBRG+Q+z\n",
       "ucMrW2X8cpm72grIOy2raGO1tdGrdIUUiWTYM9Tr+j5HoLmf6BIo8V7opCVaQ1ZuIbwiXKkBh50E\n",
       "50LCqeMiK1OSrT/LPGQ27ebuOe0+sgzljwN9Aoy+IVCiuT4mMtjhJhpNQp2Y2h3UG/wfGhrNeblb\n",
       "nmjA53YHjZryhkCJmQNi0voCJSAaKfyuenJHWcXt1Ab+izvKz6S5o0RlLlQkAY6bZV+PaNHc+RYB\n",
       "WtuatBrDg8/U1J5j7hSiqwfE3xqmeQrxlAmfnFx9EjLwzZOrT6R08oDQ8BBy4rSTzvAy//q0MxEo\n",
       "sfv+8l/LH6VVMR9UA1rdAAAAAElFTkSuQmCC\n",
       "\" style=\"display:inline;vertical-align:middle;\" /></a></span>"
      ],
      "text/plain": [
       "|- forall_{A, B} ((A not_proper_subset B) = not(A proper_subset B))"
      ]
     },
     "execution_count": 3,
     "metadata": {},
     "output_type": "execute_result"
    }
   ],
   "source": [
    "# pull in the definition of not proper subset\n",
    "not_proper_subset_def"
   ]
  },
  {
   "cell_type": "code",
   "execution_count": 4,
   "metadata": {},
   "outputs": [
    {
     "data": {
      "text/html": [
       "<strong id=\"not_proper_subset_def_inst\">not_proper_subset_def_inst:</strong> <span style=\"font-size:20px;\"> <a class=\"ProveItLink\" href=\"../../../__pv_it/_proof_fold_not_proper_subset/c0140a8d9b752aed11ebeae2da55bfd477aab7790/proof.ipynb\" style=\"text-decoration: none\">&nbsp;&#x22A2;&nbsp;&nbsp;</a><a class=\"ProveItLink\" href=\"../../../__pv_it/axioms/aec0aee2aeac9500493552bfa9f03f57f49160580/expr.ipynb\"><img src=\"data:image/png;base64,iVBORw0KGgoAAAANSUhEUgAAANEAAAAUCAMAAAAkwSjaAAAAPFBMVEX///9RUVGurq4bGxsLCwtU\n",
       "VFTMzMx2dna6uroQEBCqqqqIiIgiIiJmZmYyMjJERETu7u6YmJjc3NwAAAB6b+6fAAAAAXRSTlMA\n",
       "QObYZgAAAmpJREFUWMPFl22X5RAMgO3OatGg+P//damm3suZuedMvuTepnhIJCkhhFhDprKfY5uw\n",
       "ZEmG66wAvAkCoD51bt1Ud83yqaHOUSmp1iz8pUtbKtcZGvoAtZQECHBrVfAo15uAsuoBjxTSbQFp\n",
       "CULZJUMfoJWcAAGiNrLYu3Kd+LL18W4uBgpz1+j9WDhVuWToA7RSEiDApSE/oVNIVx6l0QDw7wtg\n",
       "y58e91vGXVOdfI4AdsXQAkSCIC8ECBC0hWK0f5MV92e3HRcRze8JIB6oYtO0AEuGGuAmaKUiQACv\n",
       "j9zn7CTCmeb89FbP5+jleaB3hOxytqNDrhgagKFrKwIE8Fpn408W4jO7E1Jcw3QbxNSYQ4NI0Z/y\n",
       "vMok0epRhn4FuAl616gkQACvIRsSPGdddmYxIFoX3UF8cooVAabXKK4j4ZG9MPQByGjemgABvOYp\n",
       "ajef4CV1ySM2epaOgtjPK/DIpsm2vmmWNoYG4HlpSoAAXmcTxl9cVaVP20EQh/mOT+6oARhX5Zog\n",
       "21Fy+v0DeOlzRoe1gFDMSwz694jWUdfu6BVgFHUNAQJ4/VxMK9qaHQpWp9RjLdieADHTrqHJDLij\n",
       "V4BR7W4IssyAae8pCzqvcEqwTtZV8RQZ11je5T5tdZt5ttLQB/AE3capJkAAr6O7Tu2cCkbhf0Ba\n",
       "/KT8b92UUIVNYlpMbbMdMXg1jAA8AWULBAgQNLw2zuLPrjs9SN09T5P3ahfUuzMLBAhwafNa7tVS\n",
       "2/jBTvV7UnSqveycXLSvzLf2NTFcR9ufbqj8mhjn/GUX6U9+8X1HEAD1y0cxW5nP/PZXOQJc+j/0\n",
       "JyS+L9v4swAAAABJRU5ErkJggg==\n",
       "\" style=\"display:inline;vertical-align:middle;\" /></a></span><br>"
      ],
      "text/plain": [
       "not_proper_subset_def_inst: |- (A not_proper_subset B) = not(A proper_subset B)"
      ]
     },
     "execution_count": 4,
     "metadata": {},
     "output_type": "execute_result"
    }
   ],
   "source": [
    "not_proper_subset_def_inst = not_proper_subset_def.instantiate()"
   ]
  },
  {
   "cell_type": "code",
   "execution_count": 5,
   "metadata": {},
   "outputs": [
    {
     "data": {
      "text/html": [
       "<span style=\"font-size:20px;\"><a class=\"ProveItLink\" href=\"../../../__pv_it/axioms/bf101b61b8607a203631a70dc26f03bf7a6a740f0/expr.ipynb\"><img src=\"data:image/png;base64,iVBORw0KGgoAAAANSUhEUgAAAFoAAAAUBAMAAAD/1DctAAAAMFBMVEX///+6uroQEBCqqqqIiIgy\n",
       "MjJERETu7u6YmJjMzMxUVFTc3Nx2dnYiIiJmZmYAAAAutVgsAAAAAXRSTlMAQObYZgAAAWNJREFU\n",
       "KM9jYIAD7gYGvIB5AzKvDEJNxVTX9X/dqzQBhtXIYtEQKh6LsWoMDHw/GUqRRDgeQKj4AgzFnD8Y\n",
       "GBj/MfA4IIR4Ic4qfg91Hkfu3bt3J4CZLL+B3C8M7AoI1XshVIO/AMTPMQhPsQGVFV1nYAhEqPYD\n",
       "k4wF9g3IVoEB/wIGzltAB55DCGWAyUKG+RDXPUZy9/wVLbkGQLqV4S3QdXfvAJmXwRICDPshvr2A\n",
       "pNp/AwO7FpC2hXB3AbEi2Pfr3q1PADt7AZLqJJAOoOHz0VQzMjAwBYAY7AlIqn+BVDugqAa7BGgA\n",
       "rwK6S0DBzbAeGFSyCNUgX3IDVbN+AAsdQagGBTfnN7AvIboZIMEDCnO232AhVgO4alagbULpQMYb\n",
       "hAlAa8r+hzMw5/8FBwr7KnGoBFf8r3fLkkGsSIyYR7j2GDzmoYD9AkaqwgOQUxVDNiHVpVhyA26A\n",
       "YhyhnMaxgQEASZBY8iB8LSkAAAAASUVORK5CYII=\n",
       "\" style=\"display:inline;vertical-align:middle;\" /></a> <a class=\"ProveItLink\" href=\"../../../__pv_it/_proof_fold_not_proper_subset/4f3bd7b676449add3ad577a2730e773c3c81167d0/proof.ipynb\" style=\"text-decoration: none\">&nbsp;&#x22A2;&nbsp;&nbsp;</a><a class=\"ProveItLink\" href=\"../../../__pv_it/axioms/d19cf2e42045d2f14790f400adbaef773c8314670/expr.ipynb\"><img src=\"data:image/png;base64,iVBORw0KGgoAAAANSUhEUgAAADsAAAAUCAMAAAAEAbViAAAAPFBMVEX///9RUVGurq4bGxsLCwt2\n",
       "dnYiIiIQEBBERERUVFS6urqIiIjc3NxmZmaqqqru7u6YmJgyMjLMzMwAAAAmQtCcAAAAAXRSTlMA\n",
       "QObYZgAAAQ1JREFUOMulU1tyxCAMcx8YTMAEfP+7FghJCGGbztY/MBpsSWMB8FQqwHOlOEPdFV1J\n",
       "hLwnY2wPR5n1kh0AberhJXUTo0zUOTOqk7WeVvyBBfbirvIMIn5/IaYeXdqrVZbzZUbtxadyE1ow\n",
       "eqPSeKi0Abip2QrreJPGXqGqHOloDbY4OVWA5/rkRpuE1nUxyCdU1LrOPSDMaZvdoOmYllfmSU4W\n",
       "tykjeGE3z+CONm/ujEGoY4yDud3S2wy2Eaivmu2ddt8uUFuK43uwVB4b77T7dlPz53D30ocjsvX3\n",
       "mMVNmtUmVGcisVw4X7DLGenPMaMU94/Av38r/lAllDhk8k8VA7xbrN5u/Q8t2OcnPwQqC3ixxxPt\n",
       "AAAAAElFTkSuQmCC\n",
       "\" style=\"display:inline;vertical-align:middle;\" /></a></span>"
      ],
      "text/plain": [
       "{not(A proper_subset B)} |- A not_proper_subset B"
      ]
     },
     "execution_count": 5,
     "metadata": {},
     "output_type": "execute_result"
    }
   ],
   "source": [
    "not_proper_subset_def_inst.derive_left_via_equality([not_proper_subset_def_inst.rhs])"
   ]
  },
  {
   "cell_type": "code",
   "execution_count": 6,
   "metadata": {},
   "outputs": [
    {
     "data": {
      "text/html": [
       "<table><tr><th>&nbsp;</th><th>step type</th><th>requirements</th><th>statement</th></tr>\n",
       "<tr><td><a name=\"-0x69bf41186534e1b0_step0\">0</a></td><td>generalizaton</td><td><a href=\"#-0x69bf41186534e1b0_step1\">1</a></td><td><span style=\"font-size:20px;\"> <a class=\"ProveItLink\" href=\"../../../__pv_it/_proof_fold_not_proper_subset/bdea887c1308eb82a17a77b615137efce71e36b60/proof.ipynb\" style=\"text-decoration: none\">&nbsp;&#x22A2;&nbsp;&nbsp;</a><a class=\"ProveItLink\" href=\"../../../__pv_it/theorems/9ab9abec72e591bf6a0760fa1eb384a4ee8b906c0/expr.ipynb\"><img src=\"data:image/png;base64,iVBORw0KGgoAAAANSUhEUgAAANEAAAAWCAMAAABpCYnRAAAAPFBMVEX///9RUVGurq4bGxsLCwsQ\n",
       "EBCIiIhmZma6urrMzMxUVFQiIiJERETc3Nzu7u6qqqp2dnaYmJgyMjIAAADYQjYbAAAAAXRSTlMA\n",
       "QObYZgAAAuxJREFUWMPNWNeSozAQ5ILSKEv//6+nAGaUAF/tlpcHF2Fo1NOT5G37QYf2D4ycWT6y\n",
       "Ov+G17X3HyZkFL4SYc66ve0hRmAMlOLpCjIlZ4+HwXyYUdDNVZwaAe9ukOoHFkXySaarD8do9WFC\n",
       "njVXIc48PKxSxBpaPObXHUXSnGJ96JBYImNZ1B1jJaX8+0dKge/S3czHTMaQfOpMPrT8dFloFuDT\n",
       "UnmbP07PAkmR6gEiizIhvxRVPqT7ilU9NRTjLYqDjpvNRj8qqIYXIxQ8CTXUXEaBYqXQavA5V5G5\n",
       "VEvwrWVhnUNMoOyIoRABw3OCUPSUlZwQg0QigvdUSftKv/yhTMugougbvX2R1RH07QUh0AuICRQb\n",
       "GEvb+kxHLFoNyVGiPY0Mgb0lycOanh4yrNGbFVuLKs+CkXATCEFZPgYoA/3r5PSBSB2GQUTf0TW2\n",
       "YFukUWJmd82K0/zhg70py8Y7RXwWbjUCMUAYcLzUnREq6DWjekZC33wnoRzhYEQRo9SGEXtBN4XW\n",
       "bHLn2ihuvwtGcoSAJkoaKOqXUbefSNKB81GioxttsIc538NTo06cXmNIMR5pyrwGS91V3wOCt/Wz\n",
       "gbKwqgzaToaG3DrDKNHRjcQRor4KaxEFb7MdgiomVM4ZOVWPkCvZAOHaRG6geO8XxzrPqKbFBsvZ\n",
       "ZHCqOnKi9hhiuxPPQmkCc07hMlBMdLSXGgGKiROiK2gN1DCI1ngxKsYSljad4Hw2QH73YxGEY0w9\n",
       "h9Pdif5ly0z56Onc+n2O/TVn9OoVJ4RvB6sGakwKed2f7S+XxyDZTUHd+D5MPrwGc843rerKyi9x\n",
       "2x2jAwxBtNuDFsq760l1DLAnWwNH++wsCaZVlH4TJLnUyZhbg+I3lSG7tw5WGCIly+n3DopNpoYr\n",
       "keyTKc2E6+erYXxRvenE3kCtHBOX3+34/kcidRO4+j1G2zsbLOvf3JXzJzusm0l5Cb9aOX++rTfs\n",
       "J/2/sbG3VR0j9Pv+AfgHgJkj9/vRE4EAAAAASUVORK5CYII=\n",
       "\" style=\"display:inline;vertical-align:middle;\" /></a></span></td></tr>\n",
       "<tr><td><a name=\"-0x69bf41186534e1b0_step1\">1</a></td><td>instantiation</td><td><a href=\"#-0x69bf41186534e1b0_step2\">2</a>, <a href=\"#-0x69bf41186534e1b0_step3\">3</a>, <a href=\"#-0x69bf41186534e1b0_step4\">4</a></td><td><span style=\"font-size:20px;\"><a class=\"ProveItLink\" href=\"../../../__pv_it/axioms/bf101b61b8607a203631a70dc26f03bf7a6a740f0/expr.ipynb\"><img src=\"data:image/png;base64,iVBORw0KGgoAAAANSUhEUgAAAFoAAAAUBAMAAAD/1DctAAAAMFBMVEX///+6uroQEBCqqqqIiIgy\n",
       "MjJERETu7u6YmJjMzMxUVFTc3Nx2dnYiIiJmZmYAAAAutVgsAAAAAXRSTlMAQObYZgAAAWNJREFU\n",
       "KM9jYIAD7gYGvIB5AzKvDEJNxVTX9X/dqzQBhtXIYtEQKh6LsWoMDHw/GUqRRDgeQKj4AgzFnD8Y\n",
       "GBj/MfA4IIR4Ic4qfg91Hkfu3bt3J4CZLL+B3C8M7AoI1XshVIO/AMTPMQhPsQGVFV1nYAhEqPYD\n",
       "k4wF9g3IVoEB/wIGzltAB55DCGWAyUKG+RDXPUZy9/wVLbkGQLqV4S3QdXfvAJmXwRICDPshvr2A\n",
       "pNp/AwO7FpC2hXB3AbEi2Pfr3q1PADt7AZLqJJAOoOHz0VQzMjAwBYAY7AlIqn+BVDugqAa7BGgA\n",
       "rwK6S0DBzbAeGFSyCNUgX3IDVbN+AAsdQagGBTfnN7AvIboZIMEDCnO232AhVgO4alagbULpQMYb\n",
       "hAlAa8r+hzMw5/8FBwr7KnGoBFf8r3fLkkGsSIyYR7j2GDzmoYD9AkaqwgOQUxVDNiHVpVhyA26A\n",
       "YhyhnMaxgQEASZBY8iB8LSkAAAAASUVORK5CYII=\n",
       "\" style=\"display:inline;vertical-align:middle;\" /></a> <a class=\"ProveItLink\" href=\"../../../__pv_it/_proof_fold_not_proper_subset/4f3bd7b676449add3ad577a2730e773c3c81167d0/proof.ipynb\" style=\"text-decoration: none\">&nbsp;&#x22A2;&nbsp;&nbsp;</a><a class=\"ProveItLink\" href=\"../../../__pv_it/axioms/d19cf2e42045d2f14790f400adbaef773c8314670/expr.ipynb\"><img src=\"data:image/png;base64,iVBORw0KGgoAAAANSUhEUgAAADsAAAAUCAMAAAAEAbViAAAAPFBMVEX///9RUVGurq4bGxsLCwt2\n",
       "dnYiIiIQEBBERERUVFS6urqIiIjc3NxmZmaqqqru7u6YmJgyMjLMzMwAAAAmQtCcAAAAAXRSTlMA\n",
       "QObYZgAAAQ1JREFUOMulU1tyxCAMcx8YTMAEfP+7FghJCGGbztY/MBpsSWMB8FQqwHOlOEPdFV1J\n",
       "hLwnY2wPR5n1kh0AberhJXUTo0zUOTOqk7WeVvyBBfbirvIMIn5/IaYeXdqrVZbzZUbtxadyE1ow\n",
       "eqPSeKi0Abip2QrreJPGXqGqHOloDbY4OVWA5/rkRpuE1nUxyCdU1LrOPSDMaZvdoOmYllfmSU4W\n",
       "tykjeGE3z+CONm/ujEGoY4yDud3S2wy2Eaivmu2ddt8uUFuK43uwVB4b77T7dlPz53D30ocjsvX3\n",
       "mMVNmtUmVGcisVw4X7DLGenPMaMU94/Av38r/lAllDhk8k8VA7xbrN5u/Q8t2OcnPwQqC3ixxxPt\n",
       "AAAAAElFTkSuQmCC\n",
       "\" style=\"display:inline;vertical-align:middle;\" /></a></span></td></tr>\n",
       "<tr><td>&nbsp;</td><td colspan=4 style=\"text-align:left\"><span style=\"font-size:20px;\"><a class=\"ProveItLink\" href=\"../../../../../../__pv_it/common/d5fc3066299847984076662ce51556220bdb6cfb0/expr.ipynb\"><img src=\"data:image/png;base64,iVBORw0KGgoAAAANSUhEUgAAABAAAAAOBAMAAADUAYG5AAAAMFBMVEX///8iIiLc3Ny6urqIiIiq\n",
       "qqp2dnbMzMwQEBDu7u5mZmYyMjJERERUVFSYmJgAAAA4CJ/KAAAAAXRSTlMAQObYZgAAAF5JREFU\n",
       "CNdjYGB4+//s3V0TGIDgNwMDTyeQZv/GwMD6Bchg+QzEQA4DzwcGBl4gh4F/AwOD/gIgoz6BgVUM\n",
       "pMn/WtoSsO7zYBIIPkJp9l9QBsgYMOD+CaG59v91ANEANtEY7WfmSIAAAAAASUVORK5CYII=\n",
       "\" style=\"display:inline;vertical-align:middle;\" /></a> : <a class=\"ProveItLink\" href=\"../../../__pv_it/axioms/d19cf2e42045d2f14790f400adbaef773c8314670/expr.ipynb\"><img src=\"data:image/png;base64,iVBORw0KGgoAAAANSUhEUgAAADsAAAAUCAMAAAAEAbViAAAAPFBMVEX///9RUVGurq4bGxsLCwt2\n",
       "dnYiIiIQEBBERERUVFS6urqIiIjc3NxmZmaqqqru7u6YmJgyMjLMzMwAAAAmQtCcAAAAAXRSTlMA\n",
       "QObYZgAAAQ1JREFUOMulU1tyxCAMcx8YTMAEfP+7FghJCGGbztY/MBpsSWMB8FQqwHOlOEPdFV1J\n",
       "hLwnY2wPR5n1kh0AberhJXUTo0zUOTOqk7WeVvyBBfbirvIMIn5/IaYeXdqrVZbzZUbtxadyE1ow\n",
       "eqPSeKi0Abip2QrreJPGXqGqHOloDbY4OVWA5/rkRpuE1nUxyCdU1LrOPSDMaZvdoOmYllfmSU4W\n",
       "tykjeGE3z+CONm/ujEGoY4yDud3S2wy2Eaivmu2ddt8uUFuK43uwVB4b77T7dlPz53D30ocjsvX3\n",
       "mMVNmtUmVGcisVw4X7DLGenPMaMU94/Av38r/lAllDhk8k8VA7xbrN5u/Q8t2OcnPwQqC3ixxxPt\n",
       "AAAAAElFTkSuQmCC\n",
       "\" style=\"display:inline;vertical-align:middle;\" /></a>, <a class=\"ProveItLink\" href=\"../../../../../../__pv_it/common/50527aea954422d65ebe44b8de200683294751540/expr.ipynb\"><img src=\"data:image/png;base64,iVBORw0KGgoAAAANSUhEUgAAAA8AAAASBAMAAAB2sJk8AAAAMFBMVEX///+qqqq6urrc3NwQEBAy\n",
       "MjJERERUVFTMzMwiIiKYmJh2dnZmZmaIiIju7u4AAABsX1SbAAAAAXRSTlMAQObYZgAAAINJREFU\n",
       "CNdjYGDgu7P7FAMI7GxgYE8A0k8DgILeQEbIAyBRz8DA/Qskvd+AwX4CiHFegWH/BRAjv4FhfgOI\n",
       "8R+IQGoZvzMwTAEJcP5jYCgBMe4DFfY/eHuD4w+Qw3thAff6DSDhvuqbyQxgrQzsDVwGYAbbATUw\n",
       "zcDz/weEwTFFgIEBAOxlJHQBUmidAAAAAElFTkSuQmCC\n",
       "\" style=\"display:inline;vertical-align:middle;\" /></a> : <a class=\"ProveItLink\" href=\"../../../__pv_it/axioms/bf101b61b8607a203631a70dc26f03bf7a6a740f0/expr.ipynb\"><img src=\"data:image/png;base64,iVBORw0KGgoAAAANSUhEUgAAAFoAAAAUBAMAAAD/1DctAAAAMFBMVEX///+6uroQEBCqqqqIiIgy\n",
       "MjJERETu7u6YmJjMzMxUVFTc3Nx2dnYiIiJmZmYAAAAutVgsAAAAAXRSTlMAQObYZgAAAWNJREFU\n",
       "KM9jYIAD7gYGvIB5AzKvDEJNxVTX9X/dqzQBhtXIYtEQKh6LsWoMDHw/GUqRRDgeQKj4AgzFnD8Y\n",
       "GBj/MfA4IIR4Ic4qfg91Hkfu3bt3J4CZLL+B3C8M7AoI1XshVIO/AMTPMQhPsQGVFV1nYAhEqPYD\n",
       "k4wF9g3IVoEB/wIGzltAB55DCGWAyUKG+RDXPUZy9/wVLbkGQLqV4S3QdXfvAJmXwRICDPshvr2A\n",
       "pNp/AwO7FpC2hXB3AbEi2Pfr3q1PADt7AZLqJJAOoOHz0VQzMjAwBYAY7AlIqn+BVDugqAa7BGgA\n",
       "rwK6S0DBzbAeGFSyCNUgX3IDVbN+AAsdQagGBTfnN7AvIboZIMEDCnO232AhVgO4alagbULpQMYb\n",
       "hAlAa8r+hzMw5/8FBwr7KnGoBFf8r3fLkkGsSIyYR7j2GDzmoYD9AkaqwgOQUxVDNiHVpVhyA26A\n",
       "YhyhnMaxgQEASZBY8iB8LSkAAAAASUVORK5CYII=\n",
       "\" style=\"display:inline;vertical-align:middle;\" /></a></span></td></tr><tr><td><a name=\"-0x69bf41186534e1b0_step2\">2</a></td><td>theorem</td><td></td><td><span style=\"font-size:20px;\"> <a class=\"ProveItLink\" href=\"../../../../../equality/_theory_nbs_/proofs/lhs_via_equality/thm_proof.ipynb\" style=\"text-decoration: none\">&nbsp;&#x22A2;&nbsp;&nbsp;</a><a class=\"ProveItLink\" href=\"../../../../../equality/__pv_it/theorems/fd1735c228dc89ed3ff97dbaf65fa21ba6757a2d0/expr.ipynb\"><img src=\"data:image/png;base64,iVBORw0KGgoAAAANSUhEUgAAAIwAAAAWBAMAAADgE2koAAAAMFBMVEX///8QEBCIiIhmZma6urrM\n",
       "zMxUVFQiIiJERETc3Nzu7u6qqqp2dnaYmJgyMjIAAAAcRTyBAAAAAXRSTlMAQObYZgAAAeBJREFU\n",
       "OMutVD0sQ1EYPfr/qyIWLMRgEcRUpiYWmzBYvYEO0sEsJBIJJRHdWFBrF01MXURISGjkWSwiaSIx\n",
       "SGiD+G3w3ff3XdWB1pe8d79z7rnnvXu/ey/wP5ETr8vKx59/zkevkjgR+U0V//EBeJqwRpl3tnIX\n",
       "ZxHw36M2CQTSldvYHukpInicSq1WMSdPAXCR1Us8Pl2FTYhqtNkNjAOLgGMlFp4QdFu2T+t2GDIT\n",
       "DzwdzCetwSYLjO7BL36jHz5R9DPgiJqNCIY0tUdXWThYh8Ck6WKxQFcs2yNSN2wqNVFiqGaNgF1h\n",
       "G8YuBbaC4cIssGLYBVS3aGaAOHmq2nctG8aUecx9wSzwbFrnRujte4VtCmgVJSywDePtBNrNtWEW\n",
       "zgdzootjYkWLHWI/X9Njz7EN48H9bBquOMWyxGrbRo8dsXIBnaUtiZo9tmF8KhWZWdS+WZVvEaO6\n",
       "tbxer5llw3hOsmHWnn9qMcigmHJIPw9R34W3QbJh/K6V647iVmJLYzRBi72EreHgbkSy0TF1OF8l\n",
       "MatKD1i+l1a9Gb7woeKVbHRMHZ0PCVazqmz4RQWVdcnGwP4f14OhKhsZsY0+mr7ZaDhTqjRVZUMc\n",
       "CixEvtloWP0hXYj87gKw/+m6+AIRhIj+rToaNQAAAABJRU5ErkJggg==\n",
       "\" style=\"display:inline;vertical-align:middle;\" /></a></span></td></tr>\n",
       "<tr><td>&nbsp;</td><td colspan=4 style-\"text-align:left\"><a class=\"ProveItLink\" href=\"../../../../../equality/_theory_nbs_/proofs/lhs_via_equality/thm_proof.ipynb\">proveit.logic.equality.lhs_via_equality</a></td></tr><tr><td><a name=\"-0x69bf41186534e1b0_step3\">3</a></td><td>assumption</td><td></td><td><span style=\"font-size:20px;\"><a class=\"ProveItLink\" href=\"../../../__pv_it/axioms/bf101b61b8607a203631a70dc26f03bf7a6a740f0/expr.ipynb\"><img src=\"data:image/png;base64,iVBORw0KGgoAAAANSUhEUgAAAFoAAAAUBAMAAAD/1DctAAAAMFBMVEX///+6uroQEBCqqqqIiIgy\n",
       "MjJERETu7u6YmJjMzMxUVFTc3Nx2dnYiIiJmZmYAAAAutVgsAAAAAXRSTlMAQObYZgAAAWNJREFU\n",
       "KM9jYIAD7gYGvIB5AzKvDEJNxVTX9X/dqzQBhtXIYtEQKh6LsWoMDHw/GUqRRDgeQKj4AgzFnD8Y\n",
       "GBj/MfA4IIR4Ic4qfg91Hkfu3bt3J4CZLL+B3C8M7AoI1XshVIO/AMTPMQhPsQGVFV1nYAhEqPYD\n",
       "k4wF9g3IVoEB/wIGzltAB55DCGWAyUKG+RDXPUZy9/wVLbkGQLqV4S3QdXfvAJmXwRICDPshvr2A\n",
       "pNp/AwO7FpC2hXB3AbEi2Pfr3q1PADt7AZLqJJAOoOHz0VQzMjAwBYAY7AlIqn+BVDugqAa7BGgA\n",
       "rwK6S0DBzbAeGFSyCNUgX3IDVbN+AAsdQagGBTfnN7AvIboZIMEDCnO232AhVgO4alagbULpQMYb\n",
       "hAlAa8r+hzMw5/8FBwr7KnGoBFf8r3fLkkGsSIyYR7j2GDzmoYD9AkaqwgOQUxVDNiHVpVhyA26A\n",
       "YhyhnMaxgQEASZBY8iB8LSkAAAAASUVORK5CYII=\n",
       "\" style=\"display:inline;vertical-align:middle;\" /></a> <a class=\"ProveItLink\" href=\"../../../__pv_it/_proof_fold_not_proper_subset/c6da6da336a580fd1ba714067b32732bb279faff0/proof.ipynb\" style=\"text-decoration: none\">&nbsp;&#x22A2;&nbsp;&nbsp;</a><a class=\"ProveItLink\" href=\"../../../__pv_it/axioms/bf101b61b8607a203631a70dc26f03bf7a6a740f0/expr.ipynb\"><img src=\"data:image/png;base64,iVBORw0KGgoAAAANSUhEUgAAAFoAAAAUBAMAAAD/1DctAAAAMFBMVEX///+6uroQEBCqqqqIiIgy\n",
       "MjJERETu7u6YmJjMzMxUVFTc3Nx2dnYiIiJmZmYAAAAutVgsAAAAAXRSTlMAQObYZgAAAWNJREFU\n",
       "KM9jYIAD7gYGvIB5AzKvDEJNxVTX9X/dqzQBhtXIYtEQKh6LsWoMDHw/GUqRRDgeQKj4AgzFnD8Y\n",
       "GBj/MfA4IIR4Ic4qfg91Hkfu3bt3J4CZLL+B3C8M7AoI1XshVIO/AMTPMQhPsQGVFV1nYAhEqPYD\n",
       "k4wF9g3IVoEB/wIGzltAB55DCGWAyUKG+RDXPUZy9/wVLbkGQLqV4S3QdXfvAJmXwRICDPshvr2A\n",
       "pNp/AwO7FpC2hXB3AbEi2Pfr3q1PADt7AZLqJJAOoOHz0VQzMjAwBYAY7AlIqn+BVDugqAa7BGgA\n",
       "rwK6S0DBzbAeGFSyCNUgX3IDVbN+AAsdQagGBTfnN7AvIboZIMEDCnO232AhVgO4alagbULpQMYb\n",
       "hAlAa8r+hzMw5/8FBwr7KnGoBFf8r3fLkkGsSIyYR7j2GDzmoYD9AkaqwgOQUxVDNiHVpVhyA26A\n",
       "YhyhnMaxgQEASZBY8iB8LSkAAAAASUVORK5CYII=\n",
       "\" style=\"display:inline;vertical-align:middle;\" /></a></span></td></tr>\n",
       "<tr><td><a name=\"-0x69bf41186534e1b0_step4\">4</a></td><td>instantiation</td><td><a href=\"#-0x69bf41186534e1b0_step5\">5</a></td><td><span style=\"font-size:20px;\"> <a class=\"ProveItLink\" href=\"../../../__pv_it/_proof_fold_not_proper_subset/c0140a8d9b752aed11ebeae2da55bfd477aab7790/proof.ipynb\" style=\"text-decoration: none\">&nbsp;&#x22A2;&nbsp;&nbsp;</a><a class=\"ProveItLink\" href=\"../../../__pv_it/axioms/aec0aee2aeac9500493552bfa9f03f57f49160580/expr.ipynb\"><img src=\"data:image/png;base64,iVBORw0KGgoAAAANSUhEUgAAANEAAAAUCAMAAAAkwSjaAAAAPFBMVEX///9RUVGurq4bGxsLCwtU\n",
       "VFTMzMx2dna6uroQEBCqqqqIiIgiIiJmZmYyMjJERETu7u6YmJjc3NwAAAB6b+6fAAAAAXRSTlMA\n",
       "QObYZgAAAmpJREFUWMPFl22X5RAMgO3OatGg+P//damm3suZuedMvuTepnhIJCkhhFhDprKfY5uw\n",
       "ZEmG66wAvAkCoD51bt1Ud83yqaHOUSmp1iz8pUtbKtcZGvoAtZQECHBrVfAo15uAsuoBjxTSbQFp\n",
       "CULZJUMfoJWcAAGiNrLYu3Kd+LL18W4uBgpz1+j9WDhVuWToA7RSEiDApSE/oVNIVx6l0QDw7wtg\n",
       "y58e91vGXVOdfI4AdsXQAkSCIC8ECBC0hWK0f5MV92e3HRcRze8JIB6oYtO0AEuGGuAmaKUiQACv\n",
       "j9zn7CTCmeb89FbP5+jleaB3hOxytqNDrhgagKFrKwIE8Fpn408W4jO7E1Jcw3QbxNSYQ4NI0Z/y\n",
       "vMok0epRhn4FuAl616gkQACvIRsSPGdddmYxIFoX3UF8cooVAabXKK4j4ZG9MPQByGjemgABvOYp\n",
       "ajef4CV1ySM2epaOgtjPK/DIpsm2vmmWNoYG4HlpSoAAXmcTxl9cVaVP20EQh/mOT+6oARhX5Zog\n",
       "21Fy+v0DeOlzRoe1gFDMSwz694jWUdfu6BVgFHUNAQJ4/VxMK9qaHQpWp9RjLdieADHTrqHJDLij\n",
       "V4BR7W4IssyAae8pCzqvcEqwTtZV8RQZ11je5T5tdZt5ttLQB/AE3capJkAAr6O7Tu2cCkbhf0Ba\n",
       "/KT8b92UUIVNYlpMbbMdMXg1jAA8AWULBAgQNLw2zuLPrjs9SN09T5P3ahfUuzMLBAhwafNa7tVS\n",
       "2/jBTvV7UnSqveycXLSvzLf2NTFcR9ufbqj8mhjn/GUX6U9+8X1HEAD1y0cxW5nP/PZXOQJc+j/0\n",
       "JyS+L9v4swAAAABJRU5ErkJggg==\n",
       "\" style=\"display:inline;vertical-align:middle;\" /></a></span></td></tr>\n",
       "<tr><td>&nbsp;</td><td colspan=4 style=\"text-align:left\"><span style=\"font-size:20px;\"><a class=\"ProveItLink\" href=\"../../../../../../__pv_it/common/e4aad701f7f5516d8e7f0d805d518bf02c13322a0/expr.ipynb\"><img src=\"data:image/png;base64,iVBORw0KGgoAAAANSUhEUgAAAA8AAAAOBAMAAAACpFvcAAAALVBMVEX///8iIiIQEBBERERUVFS6\n",
       "urqIiIjc3NxmZmaqqqru7u6YmJgyMjLMzMwAAACK9jtgAAAAAXRSTlMAQObYZgAAAFtJREFUCNdj\n",
       "YACBOwxQcA5Kc59bAGGs7CuAMDbkBYBp1gXzNoAZSxnuJYAZAQx1DSCa16PDzwCshIGB6QCIMYGB\n",
       "gVEBSLMDGTwPgIxCIGZ+zsCw+N0pBk67hw0AfpEVEQi8t+wAAAAASUVORK5CYII=\n",
       "\" style=\"display:inline;vertical-align:middle;\" /></a> : <a class=\"ProveItLink\" href=\"../../../../../../__pv_it/common/e4aad701f7f5516d8e7f0d805d518bf02c13322a0/expr.ipynb\"><img src=\"data:image/png;base64,iVBORw0KGgoAAAANSUhEUgAAAA8AAAAOBAMAAAACpFvcAAAALVBMVEX///8iIiIQEBBERERUVFS6\n",
       "urqIiIjc3NxmZmaqqqru7u6YmJgyMjLMzMwAAACK9jtgAAAAAXRSTlMAQObYZgAAAFtJREFUCNdj\n",
       "YACBOwxQcA5Kc59bAGGs7CuAMDbkBYBp1gXzNoAZSxnuJYAZAQx1DSCa16PDzwCshIGB6QCIMYGB\n",
       "gVEBSLMDGTwPgIxCIGZ+zsCw+N0pBk67hw0AfpEVEQi8t+wAAAAASUVORK5CYII=\n",
       "\" style=\"display:inline;vertical-align:middle;\" /></a>, <a class=\"ProveItLink\" href=\"../../../../../../__pv_it/common/4eca3b30dcf58a58494e201d1b7886d8643a617b0/expr.ipynb\"><img src=\"data:image/png;base64,iVBORw0KGgoAAAANSUhEUgAAABAAAAAOBAMAAADUAYG5AAAALVBMVEX///8yMjKqqqoiIiLu7u7c\n",
       "3NyIiIjMzMwQEBC6urpERERmZmZUVFSYmJgAAACsPVCVAAAAAXRSTlMAQObYZgAAAGxJREFUCNdj\n",
       "YGC48+70nlUTGICgi4GB+zmQZn/LwMD5Gshge8rAwPsMyOBqYGDwMAEy+A4wsNs4ABl1Z68tVgBp\n",
       "ygtgYOkBMVaAOCChNyBGAsQYhnMTIMawvwJyGIHGzFjCwMAj92b3qUUMDAAXABxvZ4rl5AAAAABJ\n",
       "RU5ErkJggg==\n",
       "\" style=\"display:inline;vertical-align:middle;\" /></a> : <a class=\"ProveItLink\" href=\"../../../../../../__pv_it/common/4eca3b30dcf58a58494e201d1b7886d8643a617b0/expr.ipynb\"><img src=\"data:image/png;base64,iVBORw0KGgoAAAANSUhEUgAAABAAAAAOBAMAAADUAYG5AAAALVBMVEX///8yMjKqqqoiIiLu7u7c\n",
       "3NyIiIjMzMwQEBC6urpERERmZmZUVFSYmJgAAACsPVCVAAAAAXRSTlMAQObYZgAAAGxJREFUCNdj\n",
       "YGC48+70nlUTGICgi4GB+zmQZn/LwMD5Gshge8rAwPsMyOBqYGDwMAEy+A4wsNs4ABl1Z68tVgBp\n",
       "ygtgYOkBMVaAOCChNyBGAsQYhnMTIMawvwJyGIHGzFjCwMAj92b3qUUMDAAXABxvZ4rl5AAAAABJ\n",
       "RU5ErkJggg==\n",
       "\" style=\"display:inline;vertical-align:middle;\" /></a></span></td></tr><tr><td><a name=\"-0x69bf41186534e1b0_step5\">5</a></td><td>axiom</td><td></td><td><span style=\"font-size:20px;\"> <a class=\"ProveItLink\" href=\"../../axioms.ipynb#not_proper_subset_def\" style=\"text-decoration: none\">&nbsp;&#x22A2;&nbsp;&nbsp;</a><a class=\"ProveItLink\" href=\"../../../__pv_it/axioms/bcdc43d7690485e4b19a3a7b99db8864dac8e5470/expr.ipynb\"><img src=\"data:image/png;base64,iVBORw0KGgoAAAANSUhEUgAAARkAAAAVCAMAAABFe2rqAAAAPFBMVEX///9RUVGurq4bGxsLCwsQ\n",
       "EBCIiIhmZma6urrMzMxUVFQiIiJERETc3Nzu7u6qqqp2dnaYmJgyMjIAAADYQjYbAAAAAXRSTlMA\n",
       "QObYZgAAAx1JREFUWMPlWNkWnCAMtYuCEPb//9cKiBIWwemc04fmYa6KkjvZCCzL5yIMxifRsj+m\n",
       "xDt98wOTkghgtNe4eTm/BIxRdtvkjp8a5hwjhAFQf8vEG32DgTaBQjoEEGqV3rbynWWswHjeuda7\n",
       "jBYP1vhviNv9X7Nv9A0G2gQqaRJAKJLBBbwzjCEYzzvrGgau5t5dDFDqwtd6m9c3GGgTqKRDAGEK\n",
       "lTt45oQLjNHYijjsWgOc89+/ON/zp9v5lnGBilzn9T0PdAh4mSGA0GjpRfCX5ZdjPGkcKimqL1q0\n",
       "whHWkwCPfrF0Vt9goE2glh4BhA68cP3OMhvBGGNTLsqZyp+wl187FkKasxSwZFbf80CHQC09AghZ\n",
       "4A3ZFPk1BUf0UcRLDWAwBg9Qn8BZzSAhQ3eos5wZswFXd3W413ebCan01d4fE2iVmQ4BhJQUy4NB\n",
       "8WhC3OmyEqRJeabbfyZc5sMY6HXInFkuV5Y6imEun3oIv0RPE2gEWo8ARv+z3ZaXBMUjCR+rsuKv\n",
       "FKN3xNEhEObuCBExZFkvyw+CKvlwuMqWlUiwWQL9MlMTwKgNMq6WPE9dHoKT2GVomXi12qIFA9HJ\n",
       "ck9s+6ZlOgS6ZaZBAOPRoGZ+3bcFsgllaIW2qg2ssyk9WHEwU9ZtJhaW8pbydp1hlb7KMkMCD91M\n",
       "TaBAEFmPynwyZ6nrtqNUsW7huwqgUHUP6humRuuamon9Cnwz7IKrCpwsMyTQLzMNAgWqzBRG+Q+z\n",
       "ucMrW2X8cpm72grIOy2raGO1tdGrdIUUiWTYM9Tr+j5HoLmf6BIo8V7opCVaQ1ZuIbwiXKkBh50E\n",
       "50LCqeMiK1OSrT/LPGQ27ebuOe0+sgzljwN9Aoy+IVCiuT4mMtjhJhpNQp2Y2h3UG/wfGhrNeblb\n",
       "nmjA53YHjZryhkCJmQNi0voCJSAaKfyuenJHWcXt1Ab+izvKz6S5o0RlLlQkAY6bZV+PaNHc+RYB\n",
       "WtuatBrDg8/U1J5j7hSiqwfE3xqmeQrxlAmfnFx9EjLwzZOrT6R08oDQ8BBy4rSTzvAy//q0MxEo\n",
       "sfv+8l/LH6VVMR9UA1rdAAAAAElFTkSuQmCC\n",
       "\" style=\"display:inline;vertical-align:middle;\" /></a></span></td></tr>\n",
       "<tr><td>&nbsp;</td><td colspan=4 style-\"text-align:left\"><a class=\"ProveItLink\" href=\"../../axioms.ipynb#not_proper_subset_def\">proveit.logic.sets.inclusion.not_proper_subset_def</a></td></tr></table>"
      ],
      "text/plain": [
       "\tstep type\trequirements\tstatement\n",
       "0\tgeneralizaton\t1\t|- forall_{A, B | not(A proper_subset B)} (A not_proper_subset B)\n",
       "1\tinstantiation\t2, 3, 4\t{not(A proper_subset B)} |- A not_proper_subset B\n",
       "\tP : A not_proper_subset B, Q : not(A proper_subset B)\n",
       "2\ttheorem\t\t|- forall_{P, Q | Q, P = Q} P\n",
       "\tproveit.logic.equality.lhs_via_equality\n",
       "3\tassumption\t\t{not(A proper_subset B)} |- not(A proper_subset B)\n",
       "4\tinstantiation\t5\t|- (A not_proper_subset B) = not(A proper_subset B)\n",
       "\tA : A, B : B\n",
       "5\taxiom\t\t|- forall_{A, B} ((A not_proper_subset B) = not(A proper_subset B))\n",
       "\tproveit.logic.sets.inclusion.not_proper_subset_def"
      ]
     },
     "execution_count": 6,
     "metadata": {},
     "output_type": "execute_result"
    }
   ],
   "source": [
    "%qed"
   ]
  },
  {
   "cell_type": "code",
   "execution_count": null,
   "metadata": {},
   "outputs": [],
   "source": []
  }
 ],
 "metadata": {
  "kernelspec": {
   "display_name": "Python 3",
   "language": "python",
   "name": "python3"
  }
 },
 "nbformat": 4,
 "nbformat_minor": 0
}