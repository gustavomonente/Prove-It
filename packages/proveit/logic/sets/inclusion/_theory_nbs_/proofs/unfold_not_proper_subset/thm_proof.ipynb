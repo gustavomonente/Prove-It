{
 "cells": [
  {
   "cell_type": "markdown",
   "metadata": {},
   "source": [
    "Proof of <a class=\"ProveItLink\" href=\"../../../../../../_theory_nbs_/theory.ipynb\">proveit</a>.<a class=\"ProveItLink\" href=\"../../../../../_theory_nbs_/theory.ipynb\">logic</a>.<a class=\"ProveItLink\" href=\"../../../../_theory_nbs_/theory.ipynb\">sets</a>.<a class=\"ProveItLink\" href=\"../../theory.ipynb\">inclusion</a>.<a class=\"ProveItLink\" href=\"../../theorems.ipynb#unfold_not_proper_subset\">unfold_not_proper_subset</a> theorem\n",
    "========"
   ]
  },
  {
   "cell_type": "code",
   "execution_count": 1,
   "metadata": {},
   "outputs": [],
   "source": [
    "import proveit\n",
    "from proveit.logic.sets.inclusion  import not_proper_subset_def\n",
    "theory = proveit.Theory() # the theorem's theory"
   ]
  },
  {
   "cell_type": "code",
   "execution_count": 2,
   "metadata": {},
   "outputs": [
    {
     "data": {
      "text/html": [
       "Under these <a href=\"presumptions.txt\">presumptions</a>, we begin our proof of<br><strong id=\"unfold_not_proper_subset\">unfold_not_proper_subset:</strong> <a class=\"ProveItLink\" href=\"../../../__pv_it/theorems/e34e0a148e64ab046be81cc706ea8dfb8fb1aaec0/expr.ipynb\"><img src=\"data:image/png;base64,iVBORw0KGgoAAAANSUhEUgAAANcAAAAWCAMAAABkF/mWAAAARVBMVEX///8nJyefn586Ojrf398/\n",
       "Pz8hISFYWFgQEBCIiIhmZma6urrMzMxUVFQiIiJERETc3Nzu7u6qqqp2dnaYmJgyMjIAAACaUWiE\n",
       "AAAAAXRSTlMAQObYZgAAAr5JREFUWMPVWNmypCAMdXYJQtj//1OHRSS00k3fmrZq8tDxGo5yshHv\n",
       "stwtyr1rmBSjqPbHfefuoKVxyrD5iWc5EYIAEIg8/Sl2YllbU1d5fQcvr6YMPkw9bS3OgLAlz+y+\n",
       "yFpVNym8g5aDKYPzYcbLWyg5xkNGW1ZuZ13D1AL3SZFqxqANhH6hQ1lko3fZvsqFzEivOzxpZ3US\n",
       "JW9pGnLK4OKOObV6e+kPXHcesgTH76CsAyaR9g5eDGYMXC8muIkoB5GzUYqac0C0yKFFAqXXHAPY\n",
       "2HLorbPfuvfqETAuHPVcatA8VQ5rN8CMyks4x1CaVpZEcyC9pGQr3bnLsbYr2cOp5jsAbCNgdHzZ\n",
       "AshDbGc4/KYCCeAoeffy0quoR5ikOv2w5i8NXQ5ABhnSnx55NcDGAP78hhEw9uXHWCtxMmzxSAIR\n",
       "8LRmVF6Rn6kBpNq6ziVWS5rsMicE+HG8KkALy7X+9VOPgHO8ytXqXx/lQVRe7IqX8tFHzV1sQfIg\n",
       "nY88Rg/th9ccgFyo3I6Bfbp1vJphv5Dryzysp9ciah1w2WlUorlLpPQnyR5YLM0uEx54VUBh5J8A\n",
       "L/pG5XUYlDkPHJY9K6/ID6/6RnQRIeJMApBn5iVMDnkdAJvjY54AWyMmTu8NxzmG9GD2lw3Rl5Dy\n",
       "FWtOgO11a6rag7VIm0ReooIZ8GoAUF0pXABbopykGDSGkBPXxAtS5VoI/jhXCV+H3vYGv/XaHSDQ\n",
       "eTNtWin74tR7Ha8GSIGDp8DpOeqilixezFGPjVn2mritpHkqSIVlx/l3tYM8JIAYK9KRr4Dzc+/X\n",
       "pJt7u7LOFagwSLdsa3S4lSEdJsgHfYMC4oTx44j7JfA8mswY5j/tfK+HH6CjHYwA37/lURP/wXfl\n",
       "V6R65oWHjHqX18w37uf+D+BUr4frljd5uVu+4D4n8B/s8S+iay1rfd6TagAAAABJRU5ErkJggg==\n",
       "\" style=\"display:inline;vertical-align:middle;\" /></a><br>(see <a class=\"ProveItLink\" href=\"../../../__pv_it/theorems/91b78b28b7b9f1f9a2712d3be6eb9dcf3b6055820/dependencies.ipynb\">dependencies</a>)<br>"
      ],
      "text/plain": [
       "unfold_not_proper_subset: forall_{A, B | A not_proper_subset B} [not](A proper_subset B)"
      ]
     },
     "execution_count": 2,
     "metadata": {},
     "output_type": "execute_result"
    }
   ],
   "source": [
    "%proving unfold_not_proper_subset"
   ]
  },
  {
   "cell_type": "code",
   "execution_count": 3,
   "metadata": {},
   "outputs": [
    {
     "data": {
      "text/html": [
       "<span style=\"font-size:20px;\"> <a class=\"ProveItLink\" href=\"../../axioms.ipynb#not_proper_subset_def\" style=\"text-decoration: none\">&nbsp;&#x22A2;&nbsp;&nbsp;</a><a class=\"ProveItLink\" href=\"../../../__pv_it/axioms/47552ff6ee0631fd97025ca9566362aca93064d10/expr.ipynb\"><img src=\"data:image/png;base64,iVBORw0KGgoAAAANSUhEUgAAARkAAAAVCAMAAABFe2rqAAAAPFBMVEX///9RUVGurq4bGxsLCwsQ\n",
       "EBCIiIhmZma6urrMzMxUVFQiIiJERETc3Nzu7u6qqqp2dnaYmJgyMjIAAADYQjYbAAAAAXRSTlMA\n",
       "QObYZgAAAx1JREFUWMPlWNkWnCAMtYuCEPb//9cKiBIWwemc04fmYa6KkjvZCCzL5yIMxifRsj+m\n",
       "xDt98wOTkghgtNe4eTm/BIxRdtvkjp8a5hwjhAFQf8vEG32DgTaBQjoEEGqV3rbynWWswHjeuda7\n",
       "jBYP1vhviNv9X7Nv9A0G2gQqaRJAKJLBBbwzjCEYzzvrGgau5t5dDFDqwtd6m9c3GGgTqKRDAGEK\n",
       "lTt45oQLjNHYijjsWgOc89+/ON/zp9v5lnGBilzn9T0PdAh4mSGA0GjpRfCX5ZdjPGkcKimqL1q0\n",
       "whHWkwCPfrF0Vt9goE2glh4BhA68cP3OMhvBGGNTLsqZyp+wl187FkKasxSwZFbf80CHQC09AghZ\n",
       "4A3ZFPk1BUf0UcRLDWAwBg9Qn8BZzSAhQ3eos5wZswFXd3W413ebCan01d4fE2iVmQ4BhJQUy4NB\n",
       "8WhC3OmyEqRJeabbfyZc5sMY6HXInFkuV5Y6imEun3oIv0RPE2gEWo8ARv+z3ZaXBMUjCR+rsuKv\n",
       "FKN3xNEhEObuCBExZFkvyw+CKvlwuMqWlUiwWQL9MlMTwKgNMq6WPE9dHoKT2GVomXi12qIFA9HJ\n",
       "ck9s+6ZlOgS6ZaZBAOPRoGZ+3bcFsgllaIW2qg2ssyk9WHEwU9ZtJhaW8pbydp1hlb7KMkMCD91M\n",
       "TaBAEFmPynwyZ6nrtqNUsW7huwqgUHUP6humRuuamon9Cnwz7IKrCpwsMyTQLzMNAgWqzBRG+Q+z\n",
       "ucMrW2X8cpm72grIOy2raGO1tdGrdIUUiWTYM9Tr+j5HoLmf6BIo8V7opCVaQ1ZuIbwiXKkBh50E\n",
       "50LCqeMiK1OSrT/LPGQ27ebuOe0+sgzljwN9Aoy+IVCiuT4mMtjhJhpNQp2Y2h3UG/wfGhrNeblb\n",
       "nmjA53YHjZryhkCJmQNi0voCJSAaKfyuenJHWcXt1Ab+izvKz6S5o0RlLlQkAY6bZV+PaNHc+RYB\n",
       "WtuatBrDg8/U1J5j7hSiqwfE3xqmeQrxlAmfnFx9EjLwzZOrT6R08oDQ8BBy4rSTzvAy//q0MxEo\n",
       "sfv+8l/LH6VVMR9UA1rdAAAAAElFTkSuQmCC\n",
       "\" style=\"display:inline;vertical-align:middle;\" /></a></span>"
      ],
      "text/plain": [
       "|- forall_{A, B} ((A not_proper_subset B) = [not](A proper_subset B))"
      ]
     },
     "execution_count": 3,
     "metadata": {},
     "output_type": "execute_result"
    }
   ],
   "source": [
    "# pull in the definition of not proper subset\n",
    "not_proper_subset_def"
   ]
  },
  {
   "cell_type": "code",
   "execution_count": 4,
   "metadata": {},
   "outputs": [
    {
     "data": {
      "text/html": [
       "<strong id=\"not_proper_subset_def_inst\">not_proper_subset_def_inst:</strong> <span style=\"font-size:20px;\"> <a class=\"ProveItLink\" href=\"../../../__pv_it/_proof_unfold_not_proper_subset/8f41735b8320f29d1170ff1f14a4e82e823791f70/proof.ipynb\" style=\"text-decoration: none\">&nbsp;&#x22A2;&nbsp;&nbsp;</a><a class=\"ProveItLink\" href=\"../../../__pv_it/axioms/ee5a1e049a9c200e5308c97e5a2728699b6bc2930/expr.ipynb\"><img src=\"data:image/png;base64,iVBORw0KGgoAAAANSUhEUgAAANEAAAAUCAMAAAAkwSjaAAAAPFBMVEX///9RUVGurq4bGxsLCwtU\n",
       "VFTMzMx2dna6uroQEBCqqqqIiIgiIiJmZmYyMjJERETu7u6YmJjc3NwAAAB6b+6fAAAAAXRSTlMA\n",
       "QObYZgAAAmpJREFUWMPFl22X5RAMgO3OatGg+P//damm3suZuedMvuTepnhIJCkhhFhDprKfY5uw\n",
       "ZEmG66wAvAkCoD51bt1Ud83yqaHOUSmp1iz8pUtbKtcZGvoAtZQECHBrVfAo15uAsuoBjxTSbQFp\n",
       "CULZJUMfoJWcAAGiNrLYu3Kd+LL18W4uBgpz1+j9WDhVuWToA7RSEiDApSE/oVNIVx6l0QDw7wtg\n",
       "y58e91vGXVOdfI4AdsXQAkSCIC8ECBC0hWK0f5MV92e3HRcRze8JIB6oYtO0AEuGGuAmaKUiQACv\n",
       "j9zn7CTCmeb89FbP5+jleaB3hOxytqNDrhgagKFrKwIE8Fpn408W4jO7E1Jcw3QbxNSYQ4NI0Z/y\n",
       "vMok0epRhn4FuAl616gkQACvIRsSPGdddmYxIFoX3UF8cooVAabXKK4j4ZG9MPQByGjemgABvOYp\n",
       "ajef4CV1ySM2epaOgtjPK/DIpsm2vmmWNoYG4HlpSoAAXmcTxl9cVaVP20EQh/mOT+6oARhX5Zog\n",
       "21Fy+v0DeOlzRoe1gFDMSwz694jWUdfu6BVgFHUNAQJ4/VxMK9qaHQpWp9RjLdieADHTrqHJDLij\n",
       "V4BR7W4IssyAae8pCzqvcEqwTtZV8RQZ11je5T5tdZt5ttLQB/AE3capJkAAr6O7Tu2cCkbhf0Ba\n",
       "/KT8b92UUIVNYlpMbbMdMXg1jAA8AWULBAgQNLw2zuLPrjs9SN09T5P3ahfUuzMLBAhwafNa7tVS\n",
       "2/jBTvV7UnSqveycXLSvzLf2NTFcR9ufbqj8mhjn/GUX6U9+8X1HEAD1y0cxW5nP/PZXOQJc+j/0\n",
       "JyS+L9v4swAAAABJRU5ErkJggg==\n",
       "\" style=\"display:inline;vertical-align:middle;\" /></a></span><br>"
      ],
      "text/plain": [
       "not_proper_subset_def_inst: |- (A not_proper_subset B) = [not](A proper_subset B)"
      ]
     },
     "execution_count": 4,
     "metadata": {},
     "output_type": "execute_result"
    }
   ],
   "source": [
    "not_proper_subset_def_inst = not_proper_subset_def.instantiate()"
   ]
  },
  {
   "cell_type": "code",
   "execution_count": 5,
   "metadata": {},
   "outputs": [
    {
     "data": {
      "text/html": [
       "<span style=\"font-size:20px;\"><a class=\"ProveItLink\" href=\"../../../__pv_it/axioms/a7d3a43bd0b08a892564d8e554bb53b1c84f5d470/expr.ipynb\"><img src=\"data:image/png;base64,iVBORw0KGgoAAAANSUhEUgAAADsAAAAUCAMAAAAEAbViAAAAPFBMVEX///9RUVGurq4bGxsLCwt2\n",
       "dnYiIiIQEBBERERUVFS6urqIiIjc3NxmZmaqqqru7u6YmJgyMjLMzMwAAAAmQtCcAAAAAXRSTlMA\n",
       "QObYZgAAAQ1JREFUOMulU1tyxCAMcx8YTMAEfP+7FghJCGGbztY/MBpsSWMB8FQqwHOlOEPdFV1J\n",
       "hLwnY2wPR5n1kh0AberhJXUTo0zUOTOqk7WeVvyBBfbirvIMIn5/IaYeXdqrVZbzZUbtxadyE1ow\n",
       "eqPSeKi0Abip2QrreJPGXqGqHOloDbY4OVWA5/rkRpuE1nUxyCdU1LrOPSDMaZvdoOmYllfmSU4W\n",
       "tykjeGE3z+CONm/ujEGoY4yDud3S2wy2Eaivmu2ddt8uUFuK43uwVB4b77T7dlPz53D30ocjsvX3\n",
       "mMVNmtUmVGcisVw4X7DLGenPMaMU94/Av38r/lAllDhk8k8VA7xbrN5u/Q8t2OcnPwQqC3ixxxPt\n",
       "AAAAAElFTkSuQmCC\n",
       "\" style=\"display:inline;vertical-align:middle;\" /></a> <a class=\"ProveItLink\" href=\"../../../__pv_it/_proof_unfold_not_proper_subset/9cfe686397742c535dc4d10ccafdccca1bc513b00/proof.ipynb\" style=\"text-decoration: none\">&nbsp;&#x22A2;&nbsp;&nbsp;</a><a class=\"ProveItLink\" href=\"../../../__pv_it/axioms/80b49b30ff8d4798fc3aa37ad1ecbd79552215260/expr.ipynb\"><img src=\"data:image/png;base64,iVBORw0KGgoAAAANSUhEUgAAAFoAAAAUBAMAAAD/1DctAAAAMFBMVEX///+6uroQEBCqqqqIiIgy\n",
       "MjJERETu7u6YmJjMzMxUVFTc3Nx2dnYiIiJmZmYAAAAutVgsAAAAAXRSTlMAQObYZgAAAWNJREFU\n",
       "KM9jYIAD7gYGvIB5AzKvDEJNxVTX9X/dqzQBhtXIYtEQKh6LsWoMDHw/GUqRRDgeQKj4AgzFnD8Y\n",
       "GBj/MfA4IIR4Ic4qfg91Hkfu3bt3J4CZLL+B3C8M7AoI1XshVIO/AMTPMQhPsQGVFV1nYAhEqPYD\n",
       "k4wF9g3IVoEB/wIGzltAB55DCGWAyUKG+RDXPUZy9/wVLbkGQLqV4S3QdXfvAJmXwRICDPshvr2A\n",
       "pNp/AwO7FpC2hXB3AbEi2Pfr3q1PADt7AZLqJJAOoOHz0VQzMjAwBYAY7AlIqn+BVDugqAa7BGgA\n",
       "rwK6S0DBzbAeGFSyCNUgX3IDVbN+AAsdQagGBTfnN7AvIboZIMEDCnO232AhVgO4alagbULpQMYb\n",
       "hAlAa8r+hzMw5/8FBwr7KnGoBFf8r3fLkkGsSIyYR7j2GDzmoYD9AkaqwgOQUxVDNiHVpVhyA26A\n",
       "YhyhnMaxgQEASZBY8iB8LSkAAAAASUVORK5CYII=\n",
       "\" style=\"display:inline;vertical-align:middle;\" /></a></span>"
      ],
      "text/plain": [
       "{A not_proper_subset B} |- [not](A proper_subset B)"
      ]
     },
     "execution_count": 5,
     "metadata": {},
     "output_type": "execute_result"
    }
   ],
   "source": [
    "not_proper_subset_def_inst.derive_right_via_equality([not_proper_subset_def_inst.lhs])"
   ]
  },
  {
   "cell_type": "code",
   "execution_count": 6,
   "metadata": {},
   "outputs": [
    {
     "data": {
      "text/html": [
       "<table><tr><th>&nbsp;</th><th>step type</th><th>requirements</th><th>statement</th></tr>\n",
       "<tr><td><a name=\"-0x2fadf6c4a39f6628_step0\">0</a></td><td>generalizaton</td><td><a href=\"#-0x2fadf6c4a39f6628_step1\">1</a></td><td><span style=\"font-size:20px;\"> <a class=\"ProveItLink\" href=\"../../../__pv_it/_proof_unfold_not_proper_subset/06c77ddb4ea05c0c7e2972d3dae2b636c23b52a00/proof.ipynb\" style=\"text-decoration: none\">&nbsp;&#x22A2;&nbsp;&nbsp;</a><a class=\"ProveItLink\" href=\"../../../__pv_it/theorems/e34e0a148e64ab046be81cc706ea8dfb8fb1aaec0/expr.ipynb\"><img src=\"data:image/png;base64,iVBORw0KGgoAAAANSUhEUgAAANcAAAAWCAMAAABkF/mWAAAARVBMVEX///8nJyefn586Ojrf398/\n",
       "Pz8hISFYWFgQEBCIiIhmZma6urrMzMxUVFQiIiJERETc3Nzu7u6qqqp2dnaYmJgyMjIAAACaUWiE\n",
       "AAAAAXRSTlMAQObYZgAAAr5JREFUWMPVWNmypCAMdXYJQtj//1OHRSS00k3fmrZq8tDxGo5yshHv\n",
       "stwtyr1rmBSjqPbHfefuoKVxyrD5iWc5EYIAEIg8/Sl2YllbU1d5fQcvr6YMPkw9bS3OgLAlz+y+\n",
       "yFpVNym8g5aDKYPzYcbLWyg5xkNGW1ZuZ13D1AL3SZFqxqANhH6hQ1lko3fZvsqFzEivOzxpZ3US\n",
       "JW9pGnLK4OKOObV6e+kPXHcesgTH76CsAyaR9g5eDGYMXC8muIkoB5GzUYqac0C0yKFFAqXXHAPY\n",
       "2HLorbPfuvfqETAuHPVcatA8VQ5rN8CMyks4x1CaVpZEcyC9pGQr3bnLsbYr2cOp5jsAbCNgdHzZ\n",
       "AshDbGc4/KYCCeAoeffy0quoR5ikOv2w5i8NXQ5ABhnSnx55NcDGAP78hhEw9uXHWCtxMmzxSAIR\n",
       "8LRmVF6Rn6kBpNq6ziVWS5rsMicE+HG8KkALy7X+9VOPgHO8ytXqXx/lQVRe7IqX8tFHzV1sQfIg\n",
       "nY88Rg/th9ccgFyo3I6Bfbp1vJphv5Dryzysp9ciah1w2WlUorlLpPQnyR5YLM0uEx54VUBh5J8A\n",
       "L/pG5XUYlDkPHJY9K6/ID6/6RnQRIeJMApBn5iVMDnkdAJvjY54AWyMmTu8NxzmG9GD2lw3Rl5Dy\n",
       "FWtOgO11a6rag7VIm0ReooIZ8GoAUF0pXABbopykGDSGkBPXxAtS5VoI/jhXCV+H3vYGv/XaHSDQ\n",
       "eTNtWin74tR7Ha8GSIGDp8DpOeqilixezFGPjVn2mritpHkqSIVlx/l3tYM8JIAYK9KRr4Dzc+/X\n",
       "pJt7u7LOFagwSLdsa3S4lSEdJsgHfYMC4oTx44j7JfA8mswY5j/tfK+HH6CjHYwA37/lURP/wXfl\n",
       "V6R65oWHjHqX18w37uf+D+BUr4frljd5uVu+4D4n8B/s8S+iay1rfd6TagAAAABJRU5ErkJggg==\n",
       "\" style=\"display:inline;vertical-align:middle;\" /></a></span></td></tr>\n",
       "<tr><td><a name=\"-0x2fadf6c4a39f6628_step1\">1</a></td><td>instantiation</td><td><a href=\"#-0x2fadf6c4a39f6628_step2\">2</a>, <a href=\"#-0x2fadf6c4a39f6628_step3\">3</a>, <a href=\"#-0x2fadf6c4a39f6628_step4\">4</a></td><td><span style=\"font-size:20px;\"><a class=\"ProveItLink\" href=\"../../../__pv_it/axioms/a7d3a43bd0b08a892564d8e554bb53b1c84f5d470/expr.ipynb\"><img src=\"data:image/png;base64,iVBORw0KGgoAAAANSUhEUgAAADsAAAAUCAMAAAAEAbViAAAAPFBMVEX///9RUVGurq4bGxsLCwt2\n",
       "dnYiIiIQEBBERERUVFS6urqIiIjc3NxmZmaqqqru7u6YmJgyMjLMzMwAAAAmQtCcAAAAAXRSTlMA\n",
       "QObYZgAAAQ1JREFUOMulU1tyxCAMcx8YTMAEfP+7FghJCGGbztY/MBpsSWMB8FQqwHOlOEPdFV1J\n",
       "hLwnY2wPR5n1kh0AberhJXUTo0zUOTOqk7WeVvyBBfbirvIMIn5/IaYeXdqrVZbzZUbtxadyE1ow\n",
       "eqPSeKi0Abip2QrreJPGXqGqHOloDbY4OVWA5/rkRpuE1nUxyCdU1LrOPSDMaZvdoOmYllfmSU4W\n",
       "tykjeGE3z+CONm/ujEGoY4yDud3S2wy2Eaivmu2ddt8uUFuK43uwVB4b77T7dlPz53D30ocjsvX3\n",
       "mMVNmtUmVGcisVw4X7DLGenPMaMU94/Av38r/lAllDhk8k8VA7xbrN5u/Q8t2OcnPwQqC3ixxxPt\n",
       "AAAAAElFTkSuQmCC\n",
       "\" style=\"display:inline;vertical-align:middle;\" /></a> <a class=\"ProveItLink\" href=\"../../../__pv_it/_proof_unfold_not_proper_subset/9cfe686397742c535dc4d10ccafdccca1bc513b00/proof.ipynb\" style=\"text-decoration: none\">&nbsp;&#x22A2;&nbsp;&nbsp;</a><a class=\"ProveItLink\" href=\"../../../__pv_it/axioms/80b49b30ff8d4798fc3aa37ad1ecbd79552215260/expr.ipynb\"><img src=\"data:image/png;base64,iVBORw0KGgoAAAANSUhEUgAAAFoAAAAUBAMAAAD/1DctAAAAMFBMVEX///+6uroQEBCqqqqIiIgy\n",
       "MjJERETu7u6YmJjMzMxUVFTc3Nx2dnYiIiJmZmYAAAAutVgsAAAAAXRSTlMAQObYZgAAAWNJREFU\n",
       "KM9jYIAD7gYGvIB5AzKvDEJNxVTX9X/dqzQBhtXIYtEQKh6LsWoMDHw/GUqRRDgeQKj4AgzFnD8Y\n",
       "GBj/MfA4IIR4Ic4qfg91Hkfu3bt3J4CZLL+B3C8M7AoI1XshVIO/AMTPMQhPsQGVFV1nYAhEqPYD\n",
       "k4wF9g3IVoEB/wIGzltAB55DCGWAyUKG+RDXPUZy9/wVLbkGQLqV4S3QdXfvAJmXwRICDPshvr2A\n",
       "pNp/AwO7FpC2hXB3AbEi2Pfr3q1PADt7AZLqJJAOoOHz0VQzMjAwBYAY7AlIqn+BVDugqAa7BGgA\n",
       "rwK6S0DBzbAeGFSyCNUgX3IDVbN+AAsdQagGBTfnN7AvIboZIMEDCnO232AhVgO4alagbULpQMYb\n",
       "hAlAa8r+hzMw5/8FBwr7KnGoBFf8r3fLkkGsSIyYR7j2GDzmoYD9AkaqwgOQUxVDNiHVpVhyA26A\n",
       "YhyhnMaxgQEASZBY8iB8LSkAAAAASUVORK5CYII=\n",
       "\" style=\"display:inline;vertical-align:middle;\" /></a></span></td></tr>\n",
       "<tr><td>&nbsp;</td><td colspan=4 style=\"text-align:left\"><span style=\"font-size:20px;\"><a class=\"ProveItLink\" href=\"../../../../../../__pv_it/common/de55da274ba0f49c86925fbf3828021c04d27faf0/expr.ipynb\"><img src=\"data:image/png;base64,iVBORw0KGgoAAAANSUhEUgAAABAAAAAOBAMAAADUAYG5AAAAMFBMVEX///8iIiLc3Ny6urqIiIiq\n",
       "qqp2dnbMzMwQEBDu7u5mZmYyMjJERERUVFSYmJgAAAA4CJ/KAAAAAXRSTlMAQObYZgAAAF5JREFU\n",
       "CNdjYGB4+//s3V0TGIDgNwMDTyeQZv/GwMD6Bchg+QzEQA4DzwcGBl4gh4F/AwOD/gIgoz6BgVUM\n",
       "pMn/WtoSsO7zYBIIPkJp9l9QBsgYMOD+CaG59v91ANEANtEY7WfmSIAAAAAASUVORK5CYII=\n",
       "\" style=\"display:inline;vertical-align:middle;\" /></a> : <a class=\"ProveItLink\" href=\"../../../__pv_it/axioms/a7d3a43bd0b08a892564d8e554bb53b1c84f5d470/expr.ipynb\"><img src=\"data:image/png;base64,iVBORw0KGgoAAAANSUhEUgAAADsAAAAUCAMAAAAEAbViAAAAPFBMVEX///9RUVGurq4bGxsLCwt2\n",
       "dnYiIiIQEBBERERUVFS6urqIiIjc3NxmZmaqqqru7u6YmJgyMjLMzMwAAAAmQtCcAAAAAXRSTlMA\n",
       "QObYZgAAAQ1JREFUOMulU1tyxCAMcx8YTMAEfP+7FghJCGGbztY/MBpsSWMB8FQqwHOlOEPdFV1J\n",
       "hLwnY2wPR5n1kh0AberhJXUTo0zUOTOqk7WeVvyBBfbirvIMIn5/IaYeXdqrVZbzZUbtxadyE1ow\n",
       "eqPSeKi0Abip2QrreJPGXqGqHOloDbY4OVWA5/rkRpuE1nUxyCdU1LrOPSDMaZvdoOmYllfmSU4W\n",
       "tykjeGE3z+CONm/ujEGoY4yDud3S2wy2Eaivmu2ddt8uUFuK43uwVB4b77T7dlPz53D30ocjsvX3\n",
       "mMVNmtUmVGcisVw4X7DLGenPMaMU94/Av38r/lAllDhk8k8VA7xbrN5u/Q8t2OcnPwQqC3ixxxPt\n",
       "AAAAAElFTkSuQmCC\n",
       "\" style=\"display:inline;vertical-align:middle;\" /></a>, <a class=\"ProveItLink\" href=\"../../../../../../__pv_it/common/d72bb8b07403efe79afab564c36a28e21330e5f90/expr.ipynb\"><img src=\"data:image/png;base64,iVBORw0KGgoAAAANSUhEUgAAAA8AAAASBAMAAAB2sJk8AAAAMFBMVEX///+qqqq6urrc3NwQEBAy\n",
       "MjJERERUVFTMzMwiIiKYmJh2dnZmZmaIiIju7u4AAABsX1SbAAAAAXRSTlMAQObYZgAAAINJREFU\n",
       "CNdjYGDgu7P7FAMI7GxgYE8A0k8DgILeQEbIAyBRz8DA/Qskvd+AwX4CiHFegWH/BRAjv4FhfgOI\n",
       "8R+IQGoZvzMwTAEJcP5jYCgBMe4DFfY/eHuD4w+Qw3thAff6DSDhvuqbyQxgrQzsDVwGYAbbATUw\n",
       "zcDz/weEwTFFgIEBAOxlJHQBUmidAAAAAElFTkSuQmCC\n",
       "\" style=\"display:inline;vertical-align:middle;\" /></a> : <a class=\"ProveItLink\" href=\"../../../__pv_it/axioms/80b49b30ff8d4798fc3aa37ad1ecbd79552215260/expr.ipynb\"><img src=\"data:image/png;base64,iVBORw0KGgoAAAANSUhEUgAAAFoAAAAUBAMAAAD/1DctAAAAMFBMVEX///+6uroQEBCqqqqIiIgy\n",
       "MjJERETu7u6YmJjMzMxUVFTc3Nx2dnYiIiJmZmYAAAAutVgsAAAAAXRSTlMAQObYZgAAAWNJREFU\n",
       "KM9jYIAD7gYGvIB5AzKvDEJNxVTX9X/dqzQBhtXIYtEQKh6LsWoMDHw/GUqRRDgeQKj4AgzFnD8Y\n",
       "GBj/MfA4IIR4Ic4qfg91Hkfu3bt3J4CZLL+B3C8M7AoI1XshVIO/AMTPMQhPsQGVFV1nYAhEqPYD\n",
       "k4wF9g3IVoEB/wIGzltAB55DCGWAyUKG+RDXPUZy9/wVLbkGQLqV4S3QdXfvAJmXwRICDPshvr2A\n",
       "pNp/AwO7FpC2hXB3AbEi2Pfr3q1PADt7AZLqJJAOoOHz0VQzMjAwBYAY7AlIqn+BVDugqAa7BGgA\n",
       "rwK6S0DBzbAeGFSyCNUgX3IDVbN+AAsdQagGBTfnN7AvIboZIMEDCnO232AhVgO4alagbULpQMYb\n",
       "hAlAa8r+hzMw5/8FBwr7KnGoBFf8r3fLkkGsSIyYR7j2GDzmoYD9AkaqwgOQUxVDNiHVpVhyA26A\n",
       "YhyhnMaxgQEASZBY8iB8LSkAAAAASUVORK5CYII=\n",
       "\" style=\"display:inline;vertical-align:middle;\" /></a></span></td></tr><tr><td><a name=\"-0x2fadf6c4a39f6628_step2\">2</a></td><td>theorem</td><td></td><td><span style=\"font-size:20px;\"> <a class=\"ProveItLink\" href=\"../../../../../equality/_theory_nbs_/proofs/rhs_via_equality/thm_proof.ipynb\" style=\"text-decoration: none\">&nbsp;&#x22A2;&nbsp;&nbsp;</a><a class=\"ProveItLink\" href=\"../../../../../equality/__pv_it/theorems/4546a35b627d4cb8c4df070fccd511b94f50b8070/expr.ipynb\"><img src=\"data:image/png;base64,iVBORw0KGgoAAAANSUhEUgAAAIkAAAAWBAMAAAAGOqJsAAAAMFBMVEX///8QEBCIiIhmZma6urrM\n",
       "zMxUVFQiIiJERETc3Nzu7u6qqqp2dnaYmJgyMjIAAAAcRTyBAAAAAXRSTlMAQObYZgAAAgFJREFU\n",
       "OMutVD9IG1EY/3nR/DnvqkiXVgdFxEUaxyiIBy7ZmnZwcDFCdSiCuhaLgYImhZJsuqjRMUMrdMoi\n",
       "0kIFDXrOIqaLg9BWEKVpbdPve5fcvUsc9OgP3vf78uX3fnfve/ce8F9Q5HDiebraXRgi2uf83LPL\n",
       "bgz+BLBCaSjh1eQ9LUXtAB5kAW3Lq8tXmo0ZQN/L5Za9mmh/OB5mgJ/J5LxXl/VZjsMGMAmkgMb0\n",
       "dOQll7oLg0LQaOmi158XsxJbqIoOOzmmY8AIVN7tI+o30ZqBZ0IdtPR6K7RZiQVs0UKMY5lGAIpJ\n",
       "NAWEabceAb645OKPQ7mQmOGIyuzVfM0dMgNceA0kydIUj3VcqBBMSFypVURz4ucvdi6O8jdYgvIK\n",
       "6KLUembF5UMGvVmJGY5ogkNYNCf1gpt508df8RkNX1FyefqpsGWzP0l4J4nGs5s9TZdC+JG7pokq\n",
       "bmg07EguB3CzW6R0mtqpyNDCbxTsF3mbtVuOyxu42S3C2HRvCmKjdF5vi3UIptTj0EPZ5Tck9n8n\n",
       "fJNEXIvpGdt/nNLQW2w817cNyaWpBFEXXIUjEouI2n8oPwZoSjvUyJd4SHJ5cpkRdcH2nWKLuM3l\n",
       "q5pj0cxPj6/KK7LrLlRFnM7VXgh5fv2/j+tc8rUuVdGt4JOAJaPOxaxTLhl3O/S++9wQ/wC6SI3I\n",
       "rLOAiQAAAABJRU5ErkJggg==\n",
       "\" style=\"display:inline;vertical-align:middle;\" /></a></span></td></tr>\n",
       "<tr><td>&nbsp;</td><td colspan=4 style-\"text-align:left\"><a class=\"ProveItLink\" href=\"../../../../../equality/_theory_nbs_/proofs/rhs_via_equality/thm_proof.ipynb\">proveit.logic.equality.rhs_via_equality</a></td></tr><tr><td><a name=\"-0x2fadf6c4a39f6628_step3\">3</a></td><td>assumption</td><td></td><td><span style=\"font-size:20px;\"><a class=\"ProveItLink\" href=\"../../../__pv_it/axioms/a7d3a43bd0b08a892564d8e554bb53b1c84f5d470/expr.ipynb\"><img src=\"data:image/png;base64,iVBORw0KGgoAAAANSUhEUgAAADsAAAAUCAMAAAAEAbViAAAAPFBMVEX///9RUVGurq4bGxsLCwt2\n",
       "dnYiIiIQEBBERERUVFS6urqIiIjc3NxmZmaqqqru7u6YmJgyMjLMzMwAAAAmQtCcAAAAAXRSTlMA\n",
       "QObYZgAAAQ1JREFUOMulU1tyxCAMcx8YTMAEfP+7FghJCGGbztY/MBpsSWMB8FQqwHOlOEPdFV1J\n",
       "hLwnY2wPR5n1kh0AberhJXUTo0zUOTOqk7WeVvyBBfbirvIMIn5/IaYeXdqrVZbzZUbtxadyE1ow\n",
       "eqPSeKi0Abip2QrreJPGXqGqHOloDbY4OVWA5/rkRpuE1nUxyCdU1LrOPSDMaZvdoOmYllfmSU4W\n",
       "tykjeGE3z+CONm/ujEGoY4yDud3S2wy2Eaivmu2ddt8uUFuK43uwVB4b77T7dlPz53D30ocjsvX3\n",
       "mMVNmtUmVGcisVw4X7DLGenPMaMU94/Av38r/lAllDhk8k8VA7xbrN5u/Q8t2OcnPwQqC3ixxxPt\n",
       "AAAAAElFTkSuQmCC\n",
       "\" style=\"display:inline;vertical-align:middle;\" /></a> <a class=\"ProveItLink\" href=\"../../../__pv_it/_proof_unfold_not_proper_subset/fafb59179e267cfc2f6b13e3e3be2fa6c075c9070/proof.ipynb\" style=\"text-decoration: none\">&nbsp;&#x22A2;&nbsp;&nbsp;</a><a class=\"ProveItLink\" href=\"../../../__pv_it/axioms/a7d3a43bd0b08a892564d8e554bb53b1c84f5d470/expr.ipynb\"><img src=\"data:image/png;base64,iVBORw0KGgoAAAANSUhEUgAAADsAAAAUCAMAAAAEAbViAAAAPFBMVEX///9RUVGurq4bGxsLCwt2\n",
       "dnYiIiIQEBBERERUVFS6urqIiIjc3NxmZmaqqqru7u6YmJgyMjLMzMwAAAAmQtCcAAAAAXRSTlMA\n",
       "QObYZgAAAQ1JREFUOMulU1tyxCAMcx8YTMAEfP+7FghJCGGbztY/MBpsSWMB8FQqwHOlOEPdFV1J\n",
       "hLwnY2wPR5n1kh0AberhJXUTo0zUOTOqk7WeVvyBBfbirvIMIn5/IaYeXdqrVZbzZUbtxadyE1ow\n",
       "eqPSeKi0Abip2QrreJPGXqGqHOloDbY4OVWA5/rkRpuE1nUxyCdU1LrOPSDMaZvdoOmYllfmSU4W\n",
       "tykjeGE3z+CONm/ujEGoY4yDud3S2wy2Eaivmu2ddt8uUFuK43uwVB4b77T7dlPz53D30ocjsvX3\n",
       "mMVNmtUmVGcisVw4X7DLGenPMaMU94/Av38r/lAllDhk8k8VA7xbrN5u/Q8t2OcnPwQqC3ixxxPt\n",
       "AAAAAElFTkSuQmCC\n",
       "\" style=\"display:inline;vertical-align:middle;\" /></a></span></td></tr>\n",
       "<tr><td><a name=\"-0x2fadf6c4a39f6628_step4\">4</a></td><td>instantiation</td><td><a href=\"#-0x2fadf6c4a39f6628_step5\">5</a></td><td><span style=\"font-size:20px;\"> <a class=\"ProveItLink\" href=\"../../../__pv_it/_proof_unfold_not_proper_subset/8f41735b8320f29d1170ff1f14a4e82e823791f70/proof.ipynb\" style=\"text-decoration: none\">&nbsp;&#x22A2;&nbsp;&nbsp;</a><a class=\"ProveItLink\" href=\"../../../__pv_it/axioms/ee5a1e049a9c200e5308c97e5a2728699b6bc2930/expr.ipynb\"><img src=\"data:image/png;base64,iVBORw0KGgoAAAANSUhEUgAAANEAAAAUCAMAAAAkwSjaAAAAPFBMVEX///9RUVGurq4bGxsLCwtU\n",
       "VFTMzMx2dna6uroQEBCqqqqIiIgiIiJmZmYyMjJERETu7u6YmJjc3NwAAAB6b+6fAAAAAXRSTlMA\n",
       "QObYZgAAAmpJREFUWMPFl22X5RAMgO3OatGg+P//damm3suZuedMvuTepnhIJCkhhFhDprKfY5uw\n",
       "ZEmG66wAvAkCoD51bt1Ud83yqaHOUSmp1iz8pUtbKtcZGvoAtZQECHBrVfAo15uAsuoBjxTSbQFp\n",
       "CULZJUMfoJWcAAGiNrLYu3Kd+LL18W4uBgpz1+j9WDhVuWToA7RSEiDApSE/oVNIVx6l0QDw7wtg\n",
       "y58e91vGXVOdfI4AdsXQAkSCIC8ECBC0hWK0f5MV92e3HRcRze8JIB6oYtO0AEuGGuAmaKUiQACv\n",
       "j9zn7CTCmeb89FbP5+jleaB3hOxytqNDrhgagKFrKwIE8Fpn408W4jO7E1Jcw3QbxNSYQ4NI0Z/y\n",
       "vMok0epRhn4FuAl616gkQACvIRsSPGdddmYxIFoX3UF8cooVAabXKK4j4ZG9MPQByGjemgABvOYp\n",
       "ajef4CV1ySM2epaOgtjPK/DIpsm2vmmWNoYG4HlpSoAAXmcTxl9cVaVP20EQh/mOT+6oARhX5Zog\n",
       "21Fy+v0DeOlzRoe1gFDMSwz694jWUdfu6BVgFHUNAQJ4/VxMK9qaHQpWp9RjLdieADHTrqHJDLij\n",
       "V4BR7W4IssyAae8pCzqvcEqwTtZV8RQZ11je5T5tdZt5ttLQB/AE3capJkAAr6O7Tu2cCkbhf0Ba\n",
       "/KT8b92UUIVNYlpMbbMdMXg1jAA8AWULBAgQNLw2zuLPrjs9SN09T5P3ahfUuzMLBAhwafNa7tVS\n",
       "2/jBTvV7UnSqveycXLSvzLf2NTFcR9ufbqj8mhjn/GUX6U9+8X1HEAD1y0cxW5nP/PZXOQJc+j/0\n",
       "JyS+L9v4swAAAABJRU5ErkJggg==\n",
       "\" style=\"display:inline;vertical-align:middle;\" /></a></span></td></tr>\n",
       "<tr><td>&nbsp;</td><td colspan=4 style=\"text-align:left\"><span style=\"font-size:20px;\"><a class=\"ProveItLink\" href=\"../../../../../../__pv_it/common/09585084922504426caf1db2ff588a23a0932a960/expr.ipynb\"><img src=\"data:image/png;base64,iVBORw0KGgoAAAANSUhEUgAAAA8AAAAOBAMAAAACpFvcAAAALVBMVEX///8iIiIQEBBERERUVFS6\n",
       "urqIiIjc3NxmZmaqqqru7u6YmJgyMjLMzMwAAACK9jtgAAAAAXRSTlMAQObYZgAAAFtJREFUCNdj\n",
       "YACBOwxQcA5Kc59bAGGs7CuAMDbkBYBp1gXzNoAZSxnuJYAZAQx1DSCa16PDzwCshIGB6QCIMYGB\n",
       "gVEBSLMDGTwPgIxCIGZ+zsCw+N0pBk67hw0AfpEVEQi8t+wAAAAASUVORK5CYII=\n",
       "\" style=\"display:inline;vertical-align:middle;\" /></a> : <a class=\"ProveItLink\" href=\"../../../../../../__pv_it/common/09585084922504426caf1db2ff588a23a0932a960/expr.ipynb\"><img src=\"data:image/png;base64,iVBORw0KGgoAAAANSUhEUgAAAA8AAAAOBAMAAAACpFvcAAAALVBMVEX///8iIiIQEBBERERUVFS6\n",
       "urqIiIjc3NxmZmaqqqru7u6YmJgyMjLMzMwAAACK9jtgAAAAAXRSTlMAQObYZgAAAFtJREFUCNdj\n",
       "YACBOwxQcA5Kc59bAGGs7CuAMDbkBYBp1gXzNoAZSxnuJYAZAQx1DSCa16PDzwCshIGB6QCIMYGB\n",
       "gVEBSLMDGTwPgIxCIGZ+zsCw+N0pBk67hw0AfpEVEQi8t+wAAAAASUVORK5CYII=\n",
       "\" style=\"display:inline;vertical-align:middle;\" /></a>, <a class=\"ProveItLink\" href=\"../../../../../../__pv_it/common/a9162d1c3cc0470c02e5daf414500903a7a419230/expr.ipynb\"><img src=\"data:image/png;base64,iVBORw0KGgoAAAANSUhEUgAAABAAAAAOBAMAAADUAYG5AAAALVBMVEX///8yMjKqqqoiIiLu7u7c\n",
       "3NyIiIjMzMwQEBC6urpERERmZmZUVFSYmJgAAACsPVCVAAAAAXRSTlMAQObYZgAAAGxJREFUCNdj\n",
       "YGC48+70nlUTGICgi4GB+zmQZn/LwMD5Gshge8rAwPsMyOBqYGDwMAEy+A4wsNs4ABl1Z68tVgBp\n",
       "ygtgYOkBMVaAOCChNyBGAsQYhnMTIMawvwJyGIHGzFjCwMAj92b3qUUMDAAXABxvZ4rl5AAAAABJ\n",
       "RU5ErkJggg==\n",
       "\" style=\"display:inline;vertical-align:middle;\" /></a> : <a class=\"ProveItLink\" href=\"../../../../../../__pv_it/common/a9162d1c3cc0470c02e5daf414500903a7a419230/expr.ipynb\"><img src=\"data:image/png;base64,iVBORw0KGgoAAAANSUhEUgAAABAAAAAOBAMAAADUAYG5AAAALVBMVEX///8yMjKqqqoiIiLu7u7c\n",
       "3NyIiIjMzMwQEBC6urpERERmZmZUVFSYmJgAAACsPVCVAAAAAXRSTlMAQObYZgAAAGxJREFUCNdj\n",
       "YGC48+70nlUTGICgi4GB+zmQZn/LwMD5Gshge8rAwPsMyOBqYGDwMAEy+A4wsNs4ABl1Z68tVgBp\n",
       "ygtgYOkBMVaAOCChNyBGAsQYhnMTIMawvwJyGIHGzFjCwMAj92b3qUUMDAAXABxvZ4rl5AAAAABJ\n",
       "RU5ErkJggg==\n",
       "\" style=\"display:inline;vertical-align:middle;\" /></a></span></td></tr><tr><td><a name=\"-0x2fadf6c4a39f6628_step5\">5</a></td><td>axiom</td><td></td><td><span style=\"font-size:20px;\"> <a class=\"ProveItLink\" href=\"../../axioms.ipynb#not_proper_subset_def\" style=\"text-decoration: none\">&nbsp;&#x22A2;&nbsp;&nbsp;</a><a class=\"ProveItLink\" href=\"../../../__pv_it/axioms/47552ff6ee0631fd97025ca9566362aca93064d10/expr.ipynb\"><img src=\"data:image/png;base64,iVBORw0KGgoAAAANSUhEUgAAARkAAAAVCAMAAABFe2rqAAAAPFBMVEX///9RUVGurq4bGxsLCwsQ\n",
       "EBCIiIhmZma6urrMzMxUVFQiIiJERETc3Nzu7u6qqqp2dnaYmJgyMjIAAADYQjYbAAAAAXRSTlMA\n",
       "QObYZgAAAx1JREFUWMPlWNkWnCAMtYuCEPb//9cKiBIWwemc04fmYa6KkjvZCCzL5yIMxifRsj+m\n",
       "xDt98wOTkghgtNe4eTm/BIxRdtvkjp8a5hwjhAFQf8vEG32DgTaBQjoEEGqV3rbynWWswHjeuda7\n",
       "jBYP1vhviNv9X7Nv9A0G2gQqaRJAKJLBBbwzjCEYzzvrGgau5t5dDFDqwtd6m9c3GGgTqKRDAGEK\n",
       "lTt45oQLjNHYijjsWgOc89+/ON/zp9v5lnGBilzn9T0PdAh4mSGA0GjpRfCX5ZdjPGkcKimqL1q0\n",
       "whHWkwCPfrF0Vt9goE2glh4BhA68cP3OMhvBGGNTLsqZyp+wl187FkKasxSwZFbf80CHQC09AghZ\n",
       "4A3ZFPk1BUf0UcRLDWAwBg9Qn8BZzSAhQ3eos5wZswFXd3W413ebCan01d4fE2iVmQ4BhJQUy4NB\n",
       "8WhC3OmyEqRJeabbfyZc5sMY6HXInFkuV5Y6imEun3oIv0RPE2gEWo8ARv+z3ZaXBMUjCR+rsuKv\n",
       "FKN3xNEhEObuCBExZFkvyw+CKvlwuMqWlUiwWQL9MlMTwKgNMq6WPE9dHoKT2GVomXi12qIFA9HJ\n",
       "ck9s+6ZlOgS6ZaZBAOPRoGZ+3bcFsgllaIW2qg2ssyk9WHEwU9ZtJhaW8pbydp1hlb7KMkMCD91M\n",
       "TaBAEFmPynwyZ6nrtqNUsW7huwqgUHUP6humRuuamon9Cnwz7IKrCpwsMyTQLzMNAgWqzBRG+Q+z\n",
       "ucMrW2X8cpm72grIOy2raGO1tdGrdIUUiWTYM9Tr+j5HoLmf6BIo8V7opCVaQ1ZuIbwiXKkBh50E\n",
       "50LCqeMiK1OSrT/LPGQ27ebuOe0+sgzljwN9Aoy+IVCiuT4mMtjhJhpNQp2Y2h3UG/wfGhrNeblb\n",
       "nmjA53YHjZryhkCJmQNi0voCJSAaKfyuenJHWcXt1Ab+izvKz6S5o0RlLlQkAY6bZV+PaNHc+RYB\n",
       "WtuatBrDg8/U1J5j7hSiqwfE3xqmeQrxlAmfnFx9EjLwzZOrT6R08oDQ8BBy4rSTzvAy//q0MxEo\n",
       "sfv+8l/LH6VVMR9UA1rdAAAAAElFTkSuQmCC\n",
       "\" style=\"display:inline;vertical-align:middle;\" /></a></span></td></tr>\n",
       "<tr><td>&nbsp;</td><td colspan=4 style-\"text-align:left\"><a class=\"ProveItLink\" href=\"../../axioms.ipynb#not_proper_subset_def\">proveit.logic.sets.inclusion.not_proper_subset_def</a></td></tr></table>"
      ],
      "text/plain": [
       "\tstep type\trequirements\tstatement\n",
       "0\tgeneralizaton\t1\t|- forall_{A, B | A not_proper_subset B} [not](A proper_subset B)\n",
       "1\tinstantiation\t2, 3, 4\t{A not_proper_subset B} |- [not](A proper_subset B)\n",
       "\tP : A not_proper_subset B, Q : [not](A proper_subset B)\n",
       "2\ttheorem\t\t|- forall_{P, Q | P, P = Q} Q\n",
       "\tproveit.logic.equality.rhs_via_equality\n",
       "3\tassumption\t\t{A not_proper_subset B} |- A not_proper_subset B\n",
       "4\tinstantiation\t5\t|- (A not_proper_subset B) = [not](A proper_subset B)\n",
       "\tA : A, B : B\n",
       "5\taxiom\t\t|- forall_{A, B} ((A not_proper_subset B) = [not](A proper_subset B))\n",
       "\tproveit.logic.sets.inclusion.not_proper_subset_def"
      ]
     },
     "execution_count": 6,
     "metadata": {},
     "output_type": "execute_result"
    }
   ],
   "source": [
    "%qed"
   ]
  },
  {
   "cell_type": "code",
   "execution_count": null,
   "metadata": {},
   "outputs": [],
   "source": []
  }
 ],
 "metadata": {
  "kernelspec": {
   "display_name": "Python 3",
   "language": "python",
   "name": "python3"
  }
 },
 "nbformat": 4,
 "nbformat_minor": 0
}