{
 "cells": [
  {
   "cell_type": "markdown",
   "metadata": {},
   "source": [
    "Proof of <a class=\"ProveItLink\" href=\"../../../../../../_theory_nbs_/theory.ipynb\">proveit</a>.<a class=\"ProveItLink\" href=\"../../../../../_theory_nbs_/theory.ipynb\">logic</a>.<a class=\"ProveItLink\" href=\"../../../../_theory_nbs_/theory.ipynb\">sets</a>.<a class=\"ProveItLink\" href=\"../../theory.ipynb\">inclusion</a>.<a class=\"ProveItLink\" href=\"../../theorems.ipynb#subset_eq_via_equality\">subset_eq_via_equality</a> theorem\n",
    "========\n",
    "*** see <a href=\"../__pv_it/25e91905b7f122ed31887b2ec5caefd3bc7bd0470/dependencies.ipynb\" class=\"ProveItLink\">dependencies</a> ***"
   ]
  },
  {
   "cell_type": "code",
   "execution_count": 1,
   "metadata": {},
   "outputs": [
    {
     "data": {
      "text/html": [
       "Under these <a href=\"presumptions.txt\">presumptions</a>, we begin our proof of<br><strong id=\"subset_eq_via_equality\">subset_eq_via_equality:</strong> <a class=\"ProveItLink\" href=\"../../../__pv_it/theorems/42f44de55ed1d8e8fa016588bb2214787237a9a30/expr.ipynb\"><img src=\"data:image/png;base64,iVBORw0KGgoAAAANSUhEUgAAALkAAAAWBAMAAABuySBUAAAAMFBMVEX///8QEBCIiIhmZma6urrM\n",
       "zMxUVFQiIiJERETc3Nzu7u6qqqp2dnaYmJgyMjIAAAAcRTyBAAAAAXRSTlMAQObYZgAAArxJREFU\n",
       "SMetVU1oE0EU/tzstt38tD2JoEhuetEWAhG0aMSLFKTFQ68G/MtFjRYMimIE0bQKiScLIol4KPSg\n",
       "C73oyVgPLVVkrSCIqAFvRWxpbE0jtb55k10nDbZ19cHum5k3833z3nw7C3i2e2vEn9BTEo0PHsD9\n",
       "aXZGqSHydvloNBNDUw54IfrTHtBbc9LNym7oZCqV6pXtTYBvHn7iHaKemfaA/ka6j1V25pecGzGW\n",
       "AL0MjBF3AQhaHtAvyPqMLqqZsGk0FJoD7pObHBm54wHcTMqCaN/Y71FCLe2EfJEYY0Alk7nkAV3r\n",
       "ZNcdWGKfVEJtcRjnRUloynFggAfl+2D5eYKz1N2tuEnr2a7ogDNqc2FixhxnElfQj5yauiFqHaJj\n",
       "PcCHS22ZYqgdwXZe7kz+FHPXvQae1ZrNltyCWVbkKa0jB/9G8gFKqBkab+OBTNEXR6Cqovv32e66\n",
       "KPC0IJsbmLMvEq00VOaqYCByg8QatJt5bLJf7ikMX0lFDw53uuvOAXuhotNrK3fHFPQFgR6W6Gap\n",
       "j0UaznDoUS92FlT0wy1u1v55aNNqZQL0nJWKtOrkjjPEq4uEBo6JsSbs4ljPju3yhBz0uC+JRIbM\n",
       "hj43dR3qqd6lZ0YSn+hW5W5UaqeKUa7Ze3Rw7BWwTUUPWdqssy5YguYUWMiNNZ+VkjImnJuglUSx\n",
       "f1AcYVHIMyy4P7/MckFuAXlLQX/YNVF191uE+cNRZxL+7M8CHi/3138ITTMLkcRNphFkIYHqKyDP\n",
       "zLS6J6eg74Y5j9NfyWy0WdAX62+C1WzYbR2iHGxzEGYV5halMjqVd8mZlC/gdnHFLbaKuTpqqcDM\n",
       "XjY2Y7wcScQU9GwaQ99rgg9eiUSvofETFjaeSv2+gWsKW3nzB9S7aH1/jz9bPX3tZ7Ve9DX/fO9W\n",
       "Dth/g/5P5vsPGL8ARgi0WRAlBzIAAAAASUVORK5CYII=\n",
       "\" style=\"display:inline;vertical-align:middle;\" /></a><br>(see <a class=\"ProveItLink\" href=\"../../../__pv_it/theorems/e77e19284e3cc76d0a3c1fae614208d2e46576730/dependencies.ipynb\">dependencies</a>)<br>"
      ],
      "text/plain": [
       "subset_eq_via_equality: forall_{A, B | A = B} (A subseteq B)"
      ]
     },
     "execution_count": 1,
     "metadata": {},
     "output_type": "execute_result"
    }
   ],
   "source": [
    "import proveit\n",
    "from proveit import defaults\n",
    "from proveit import x, y, A, B, C, Px\n",
    "from proveit.logic import And, Equals, Forall, Implies, SubsetEq\n",
    "from proveit.logic.equality import sub_right_side_into\n",
    "from proveit.logic.sets.inclusion  import subset_eq_def\n",
    "from proveit.logic.sets.inclusion import subset_eq_reflexive\n",
    "%proving subset_eq_via_equality"
   ]
  },
  {
   "cell_type": "code",
   "execution_count": 2,
   "metadata": {},
   "outputs": [
    {
     "data": {
      "text/html": [
       "<span style=\"font-size:20px;\"> <a class=\"ProveItLink\" href=\"../subset_eq_reflexive/thm_proof.ipynb\" style=\"text-decoration: none\">&nbsp;&#x22A2;&nbsp;&nbsp;</a><a class=\"ProveItLink\" href=\"../../../__pv_it/theorems/2f0043d298751dba99884bff4c0d249e0c203e340/expr.ipynb\"><img src=\"data:image/png;base64,iVBORw0KGgoAAAANSUhEUgAAAGwAAAAUBAMAAACaOcVSAAAAMFBMVEX///8QEBCIiIhmZma6urrM\n",
       "zMxUVFQiIiJERETc3Nzu7u6qqqp2dnaYmJgyMjIAAAAcRTyBAAAAAXRSTlMAQObYZgAAAcRJREFU\n",
       "OMuFVDtLA0EQ/oyJyV1yml8g+QcJBLRQMGAhCEKqlEbwhZURi0NQSJlUl05BxAMtJIIIFtoJWijR\n",
       "4sBSlIDaBEHRgFHwMfuI7GLUgb1vd76b2XndAS1kDX9KuARU2eZKU5t5DoFqK5tRWjPAGdvXNKaz\n",
       "JOBRHK1p27bTTfKB1g6wQmDkNbMLAddvHIz7ksJZDy4QiaGTwa5mtiBC3XtV75ayPUBHMwqrUi4v\n",
       "a1ZGTvj11Tn2aaQXT9HzFmgUCosa40twGA6/c8ypnN899AiOgUmgyFVFSYU8HmMq8MTvHlPNNpGN\n",
       "sbSBQZi80lZdUkGeqR/Gs9INKSmss1j26S34uPuNd0m1seiRSfY0fgQZGE/OMjdZKqMX5KrKvGZG\n",
       "j25+PFJTI7YqzIxqhjuKFdQgw7TmRAOU7tA2GCUcYqWYYJoO9KolWZUDQclNDX+3ZlfODpUEezz6\n",
       "S8QlGUnI3jmi0YHT5nCx/obYEPTT6mIlNW/OHVcmkIPpfLg4+JzXp3jrs4aw80Je71jl2evtLtbT\n",
       "2nD9IeZ3dUfoVk8f5d8lEmuWoQHDWWoetOE9sW31w4H4cFrFkP/ntmJr9T8/BauEL2dybp5wiLXZ\n",
       "AAAAAElFTkSuQmCC\n",
       "\" style=\"display:inline;vertical-align:middle;\" /></a></span>"
      ],
      "text/plain": [
       "|- forall_{A} (A subseteq A)"
      ]
     },
     "execution_count": 2,
     "metadata": {},
     "output_type": "execute_result"
    }
   ],
   "source": [
    "subset_eq_reflexive"
   ]
  },
  {
   "cell_type": "code",
   "execution_count": 3,
   "metadata": {},
   "outputs": [
    {
     "data": {
      "text/html": [
       "<strong id=\"subset_eq_reflexive_spec\">subset_eq_reflexive_spec:</strong> <span style=\"font-size:20px;\"> <a class=\"ProveItLink\" href=\"../../../__pv_it/_proof_subset_eq_via_equality/329617acc025803812f482b6878d1d58bdbfbaac0/proof.ipynb\" style=\"text-decoration: none\">&nbsp;&#x22A2;&nbsp;&nbsp;</a><a class=\"ProveItLink\" href=\"../../../__pv_it/theorems/2ef540aa2a8a2f4b30cc3cb36074ffc8ccb79b2c0/expr.ipynb\"><img src=\"data:image/png;base64,iVBORw0KGgoAAAANSUhEUgAAADsAAAARBAMAAACRPMnQAAAAMFBMVEX///92dnYiIiIQEBBERERU\n",
       "VFS6urqIiIjc3NxmZmaqqqru7u6YmJgyMjLMzMwAAADiRdoGAAAAAXRSTlMAQObYZgAAALBJREFU\n",
       "KM9jYACBtwzYAFz0PpTmCVJSUnqAIXp/A5jmuNiApBkmyrBrPkSYF1kWLspwoD4BTM9CsRomyrZh\n",
       "/QEwQwFZFi66jeF9AdjqAGRpmChDAkP/BBDN7YAsDRPli5wZ74BhOFyUjYGB+QJYSBzZapjoAgYG\n",
       "JgOIxxYgpGGiHEAG7wewEHdoNkwWLtoExCw/oBaKwAIVJrrl/20GLv9PE1BjA7soRUBISQk5QoEA\n",
       "ACxSOHcnMr6fAAAAAElFTkSuQmCC\n",
       "\" style=\"display:inline;vertical-align:middle;\" /></a></span><br>"
      ],
      "text/plain": [
       "subset_eq_reflexive_spec: |- A subseteq A"
      ]
     },
     "execution_count": 3,
     "metadata": {},
     "output_type": "execute_result"
    }
   ],
   "source": [
    "subset_eq_reflexive_spec = subset_eq_reflexive.instantiate()"
   ]
  },
  {
   "cell_type": "code",
   "execution_count": 4,
   "metadata": {},
   "outputs": [
    {
     "data": {
      "text/html": [
       "<span style=\"font-size:20px;\"> <a class=\"ProveItLink\" href=\"../../../../../equality/_theory_nbs_/proofs/sub_right_side_into/thm_proof.ipynb\" style=\"text-decoration: none\">&nbsp;&#x22A2;&nbsp;&nbsp;</a><a class=\"ProveItLink\" href=\"../../../../../equality/__pv_it/theorems/7a9b2c4886327c7a880f6690c6b8bb5488c2412c0/expr.ipynb\"><img src=\"data:image/png;base64,iVBORw0KGgoAAAANSUhEUgAAAL4AAAAWBAMAAACMFTstAAAAMFBMVEX///8QEBCIiIhmZma6urrM\n",
       "zMxUVFQiIiJERETc3Nzu7u6qqqp2dnaYmJgyMjIAAAAcRTyBAAAAAXRSTlMAQObYZgAAAu1JREFU\n",
       "SMe1VU1oE1EQ/rrZ3WQ3aVo82kukoFCrlqKgIBIrqAel0YMnMaHYglJLD14sCkGhpIXa3OxFGlQE\n",
       "e7ABRfEW2oNQS4konlQW1INCbbCl2lp/Zt57m2yNCypxYDPzJvO+nTfzvVngf8h1qcJZwGHjVW1g\n",
       "X/wY7HmTA+y0cpwBnrD+UKO8vwOhjUA0q9Z3gTFSVro28MYa1eQT8Mx1RGKI0nki+drga0v00Dsu\n",
       "uA67EfUzExPXalSeUAkwl2D1lz1vgS+ZzMU/226J34R/QAORZbwNWhtwox0WdWIa6AaGAH20d/fZ\n",
       "qg26VIeXpwepjAWxuO+PnywgTLmGihS7Hxqd5jVwADZz9CnwuPrAUtU3ItIPU7IikPXF39E72055\n",
       "BPOw8vsQItY8pBU0eh966G8/fDPFyZxUPUv54o/mhKqLw8YGNMToRESeYpCdl4CMH36wyMl0K+d7\n",
       "X/zPcPGhryKZEPiWc4KzWoE2QC9rPs4wHSkMePAns9iSA7FiatfmBLaxS1hS3GAYiyodonvAwSYy\n",
       "D9EzdJo7udbKN7nFdM6TKqwajR78zqnZPLNOy/UF43jATGfLzJCMlIMF/cUuqncohUGI/uIe0zXi\n",
       "SPJFuRfWrX4t7cGfE1xKw8A8s4lTFZZkrRuM6Kq6tcTPQEr/RuZeZm2MkdoUhQU7AgUz5sG/IvC5\n",
       "ryv0nBK+lXLV3eDAwnJMspoStruaOeIds4+73qBGRFLcn2C8LuHB/yqqS0kaJQM4KFZkmR9J5svB\n",
       "FRHzgToAu3yTk5S3NWyV5lCwhhFMdHr4Y4hcKXY84kSAlxjLSUu1UwVXhOZbHybjYr6pybSwh3Ca\n",
       "7HNHWnNGE/Suqx787YuiaAO4/XxqBtiJY3lpqUuugj20zhLdL8v57JWwq+5gxMt/KVuVpnOvm7du\n",
       "cEXo+9LRzDUbWu9/5Kpe3anGV4twUXz3KuIGV38f638ZJUVXHZ1FNb4u/75J+9btcoP/QQK/OV7L\n",
       "XyH8BE6swAxF4PihAAAAAElFTkSuQmCC\n",
       "\" style=\"display:inline;vertical-align:middle;\" /></a></span>"
      ],
      "text/plain": [
       "|- forall_{P, x, y | P(x), x = y} P(y)"
      ]
     },
     "execution_count": 4,
     "metadata": {},
     "output_type": "execute_result"
    }
   ],
   "source": [
    "sub_right_side_into"
   ]
  },
  {
   "cell_type": "code",
   "execution_count": 5,
   "metadata": {},
   "outputs": [
    {
     "data": {
      "text/html": [
       "<span style=\"font-size:20px;\"><a class=\"ProveItLink\" href=\"../../../__pv_it/theorems/c2956ea7322468548324be16fbc890b1ca6c3ef90/expr.ipynb\"><img src=\"data:image/png;base64,iVBORw0KGgoAAAANSUhEUgAAADsAAAAOBAMAAABjvHmeAAAAMFBMVEX///92dnYiIiIQEBBERERU\n",
       "VFS6urqIiIjc3NxmZmaqqqru7u6YmJgyMjLMzMwAAADiRdoGAAAAAXRSTlMAQObYZgAAAMhJREFU\n",
       "GNNjYACBtwzogCf+68wQNyjnPoY0A7MDA8P8BxCl9zdgSL8/wMCQPwHM3DW/AUO6Hih0vgDMPFCf\n",
       "gCHtzMDAbQQ2lG3D+gMY0l8ZGB5Fg1nbGN6DTZG9CwI3wWJ8X8+UaEEUJjD0T0DXzP6DgWFzAFhh\n",
       "5Mx4B3RpFgOgkl9gq4GevIAuzQ/Uyf4dxFrAwMBkgLD7KtzbrN+ADA6gNO8HbN5+D7KyCWTTD3Tp\n",
       "y0BLTYDe3vL/NgOX/yc0p8f+j5zqAjQWANmrP2CfjofaAAAAAElFTkSuQmCC\n",
       "\" style=\"display:inline;vertical-align:middle;\" /></a> <a class=\"ProveItLink\" href=\"../../../__pv_it/_proof_subset_eq_via_equality/5ed3a0537dd3ad20a9b748e484733be8e6502b970/proof.ipynb\" style=\"text-decoration: none\">&nbsp;&#x22A2;&nbsp;&nbsp;</a><a class=\"ProveItLink\" href=\"../../../__pv_it/axioms/288bdfb6b256f35e627359603e28f6025e9822ce0/expr.ipynb\"><img src=\"data:image/png;base64,iVBORw0KGgoAAAANSUhEUgAAADsAAAARBAMAAACRPMnQAAAAMFBMVEX///92dnYiIiIQEBBERERU\n",
       "VFS6urqIiIjc3NxmZmaqqqru7u6YmJgyMjLMzMwAAADiRdoGAAAAAXRSTlMAQObYZgAAAO9JREFU\n",
       "KM9jYACBtwzogCf+68wQNyjnPpQ+qqSkpAdhMjswMMx/AFF6fwOY7pVAaH9/gIEhfwKYuWt+A5i+\n",
       "gWR6PVDofAGYeaA+AURxLkCSdmZg4DYCG8q2Yf0BEM2E7LavDAyPosGsbQzvwaa0IsnyfT1TogVh\n",
       "JjD0g92wBUma/QcDw+YAsMLImfEO6IazGACV/AJbDfTkBRCDsQAhzQ/Uyf4dxAK6l8kALHYL1dus\n",
       "34AMDqA07wew2NawDcjefg+ysglk0w+I4EMnWKBeBlpqAlS85f9tBi7/TxNQYyT2f+RUlwUMVASM\n",
       "SkqICIUAAMDnPwbFfXt4AAAAAElFTkSuQmCC\n",
       "\" style=\"display:inline;vertical-align:middle;\" /></a></span>"
      ],
      "text/plain": [
       "{A = B} |- A subseteq B"
      ]
     },
     "execution_count": 5,
     "metadata": {},
     "output_type": "execute_result"
    }
   ],
   "source": [
    "sub_right_side_into.instantiate({Px:SubsetEq(A, x), x:A, y:B}, assumptions=[Equals(A, B)])"
   ]
  },
  {
   "cell_type": "code",
   "execution_count": 6,
   "metadata": {},
   "outputs": [
    {
     "data": {
      "text/html": [
       "<table><tr><th>&nbsp;</th><th>step type</th><th>requirements</th><th>statement</th></tr>\n",
       "<tr><td><a name=\"0x5314e9cea4d3ef68_step0\">0</a></td><td>generalizaton</td><td><a href=\"#0x5314e9cea4d3ef68_step1\">1</a></td><td><span style=\"font-size:20px;\"> <a class=\"ProveItLink\" href=\"../../../__pv_it/_proof_subset_eq_via_equality/0f49db3691c213659d9b17a90fafbeddf5267bd80/proof.ipynb\" style=\"text-decoration: none\">&nbsp;&#x22A2;&nbsp;&nbsp;</a><a class=\"ProveItLink\" href=\"../../../__pv_it/theorems/42f44de55ed1d8e8fa016588bb2214787237a9a30/expr.ipynb\"><img src=\"data:image/png;base64,iVBORw0KGgoAAAANSUhEUgAAALkAAAAWBAMAAABuySBUAAAAMFBMVEX///8QEBCIiIhmZma6urrM\n",
       "zMxUVFQiIiJERETc3Nzu7u6qqqp2dnaYmJgyMjIAAAAcRTyBAAAAAXRSTlMAQObYZgAAArxJREFU\n",
       "SMetVU1oE0EU/tzstt38tD2JoEhuetEWAhG0aMSLFKTFQ68G/MtFjRYMimIE0bQKiScLIol4KPSg\n",
       "C73oyVgPLVVkrSCIqAFvRWxpbE0jtb55k10nDbZ19cHum5k3833z3nw7C3i2e2vEn9BTEo0PHsD9\n",
       "aXZGqSHydvloNBNDUw54IfrTHtBbc9LNym7oZCqV6pXtTYBvHn7iHaKemfaA/ka6j1V25pecGzGW\n",
       "AL0MjBF3AQhaHtAvyPqMLqqZsGk0FJoD7pObHBm54wHcTMqCaN/Y71FCLe2EfJEYY0Alk7nkAV3r\n",
       "ZNcdWGKfVEJtcRjnRUloynFggAfl+2D5eYKz1N2tuEnr2a7ogDNqc2FixhxnElfQj5yauiFqHaJj\n",
       "PcCHS22ZYqgdwXZe7kz+FHPXvQae1ZrNltyCWVbkKa0jB/9G8gFKqBkab+OBTNEXR6Cqovv32e66\n",
       "KPC0IJsbmLMvEq00VOaqYCByg8QatJt5bLJf7ikMX0lFDw53uuvOAXuhotNrK3fHFPQFgR6W6Gap\n",
       "j0UaznDoUS92FlT0wy1u1v55aNNqZQL0nJWKtOrkjjPEq4uEBo6JsSbs4ljPju3yhBz0uC+JRIbM\n",
       "hj43dR3qqd6lZ0YSn+hW5W5UaqeKUa7Ze3Rw7BWwTUUPWdqssy5YguYUWMiNNZ+VkjImnJuglUSx\n",
       "f1AcYVHIMyy4P7/MckFuAXlLQX/YNVF191uE+cNRZxL+7M8CHi/3138ITTMLkcRNphFkIYHqKyDP\n",
       "zLS6J6eg74Y5j9NfyWy0WdAX62+C1WzYbR2iHGxzEGYV5halMjqVd8mZlC/gdnHFLbaKuTpqqcDM\n",
       "XjY2Y7wcScQU9GwaQ99rgg9eiUSvofETFjaeSv2+gWsKW3nzB9S7aH1/jz9bPX3tZ7Ve9DX/fO9W\n",
       "Dth/g/5P5vsPGL8ARgi0WRAlBzIAAAAASUVORK5CYII=\n",
       "\" style=\"display:inline;vertical-align:middle;\" /></a></span></td></tr>\n",
       "<tr><td><a name=\"0x5314e9cea4d3ef68_step1\">1</a></td><td>instantiation</td><td><a href=\"#0x5314e9cea4d3ef68_step2\">2</a>, <a href=\"#0x5314e9cea4d3ef68_step3\">3</a>, <a href=\"#0x5314e9cea4d3ef68_step4\">4</a></td><td><span style=\"font-size:20px;\"><a class=\"ProveItLink\" href=\"../../../__pv_it/theorems/c2956ea7322468548324be16fbc890b1ca6c3ef90/expr.ipynb\"><img src=\"data:image/png;base64,iVBORw0KGgoAAAANSUhEUgAAADsAAAAOBAMAAABjvHmeAAAAMFBMVEX///92dnYiIiIQEBBERERU\n",
       "VFS6urqIiIjc3NxmZmaqqqru7u6YmJgyMjLMzMwAAADiRdoGAAAAAXRSTlMAQObYZgAAAMhJREFU\n",
       "GNNjYACBtwzogCf+68wQNyjnPoY0A7MDA8P8BxCl9zdgSL8/wMCQPwHM3DW/AUO6Hih0vgDMPFCf\n",
       "gCHtzMDAbQQ2lG3D+gMY0l8ZGB5Fg1nbGN6DTZG9CwI3wWJ8X8+UaEEUJjD0T0DXzP6DgWFzAFhh\n",
       "5Mx4B3RpFgOgkl9gq4GevIAuzQ/Uyf4dxFrAwMBkgLD7KtzbrN+ADA6gNO8HbN5+D7KyCWTTD3Tp\n",
       "y0BLTYDe3vL/NgOX/yc0p8f+j5zqAjQWANmrP2CfjofaAAAAAElFTkSuQmCC\n",
       "\" style=\"display:inline;vertical-align:middle;\" /></a> <a class=\"ProveItLink\" href=\"../../../__pv_it/_proof_subset_eq_via_equality/5ed3a0537dd3ad20a9b748e484733be8e6502b970/proof.ipynb\" style=\"text-decoration: none\">&nbsp;&#x22A2;&nbsp;&nbsp;</a><a class=\"ProveItLink\" href=\"../../../__pv_it/axioms/288bdfb6b256f35e627359603e28f6025e9822ce0/expr.ipynb\"><img src=\"data:image/png;base64,iVBORw0KGgoAAAANSUhEUgAAADsAAAARBAMAAACRPMnQAAAAMFBMVEX///92dnYiIiIQEBBERERU\n",
       "VFS6urqIiIjc3NxmZmaqqqru7u6YmJgyMjLMzMwAAADiRdoGAAAAAXRSTlMAQObYZgAAAO9JREFU\n",
       "KM9jYACBtwzogCf+68wQNyjnPpQ+qqSkpAdhMjswMMx/AFF6fwOY7pVAaH9/gIEhfwKYuWt+A5i+\n",
       "gWR6PVDofAGYeaA+AURxLkCSdmZg4DYCG8q2Yf0BEM2E7LavDAyPosGsbQzvwaa0IsnyfT1TogVh\n",
       "JjD0g92wBUma/QcDw+YAsMLImfEO6IazGACV/AJbDfTkBRCDsQAhzQ/Uyf4dxAK6l8kALHYL1dus\n",
       "34AMDqA07wew2NawDcjefg+ysglk0w+I4EMnWKBeBlpqAlS85f9tBi7/TxNQYyT2f+RUlwUMVASM\n",
       "SkqICIUAAMDnPwbFfXt4AAAAAElFTkSuQmCC\n",
       "\" style=\"display:inline;vertical-align:middle;\" /></a></span></td></tr>\n",
       "<tr><td>&nbsp;</td><td colspan=4 style=\"text-align:left\"><span style=\"font-size:20px;\"><a class=\"ProveItLink\" href=\"../../../../../../__pv_it/common/092306009c5b4f395713919312834ddc22e2c3df0/expr.ipynb\"><img src=\"data:image/png;base64,iVBORw0KGgoAAAANSUhEUgAAACoAAAAUBAMAAAAJnbK1AAAAMFBMVEX///8iIiLc3Ny6urqIiIiq\n",
       "qqp2dnbMzMwQEBDu7u5mZmYyMjJERERUVFSYmJgAAAA4CJ/KAAAAAXRSTlMAQObYZgAAAPdJREFU\n",
       "GNNjYIADpgcQmlUBRL79f/burgkMDHNg0pfA5G8GBp5OBoZNMNHZIIL9G1DXFwa+BTBRNgcgwfIZ\n",
       "iL8xMCrARDkbgATPBwYG3s8Migh7NwMx/wYGBv0FDF5A5hRfZTeg9iwgsz6BgVWMgeEcUGsCnwgj\n",
       "UM1roKj/tbQlQIeJAq2ZwPaTGWh8IFD0/ASwYc1AtQw8B0DMeiD+yAATBdrhABVl/wURFQXzC0Ck\n",
       "IcS5IAC0jXWCPwPLBLBt3D8hokDn2AecZ9ADMpcxcO3/CzYLpG2uy5R1oIDbjvAQko8FEKJooQMD\n",
       "h1BCEgbmYEgjxxCfAgMAYuY5gBp34ugAAAAASUVORK5CYII=\n",
       "\" style=\"display:inline;vertical-align:middle;\" /></a> : <a class=\"ProveItLink\" href=\"../../../__pv_it/_proof_subset_eq_via_equality/9f91e6dbc87454670502d25e826c4719913b5f780/expr.ipynb\"><img src=\"data:image/png;base64,iVBORw0KGgoAAAANSUhEUgAAADYAAAARBAMAAABkwkJgAAAAMFBMVEX///92dnYiIiIQEBBERERU\n",
       "VFS6urqIiIjc3NxmZmaqqqru7u6YmJgyMjLMzMwAAADiRdoGAAAAAXRSTlMAQObYZgAAAMdJREFU\n",
       "GNNjYACBtwy4wX0ofVRJSUkPVYrn/gYw3SuBqW3X/AYwfQOLkQfqE0AU5wJMKbYN6w+AaCaEEHd5\n",
       "RLo4iLGN4X0BiG5FyG1kOFSgC2IkMPRPANFbEHLSDPIbMoA0X+TMeAc0MzcwuECsY2BgvgBiMBYg\n",
       "OeI7mAS6jskAzLqFkOL7ByI5gHK8H8ACW8M2QKVWs39gqGZgaAIyWX5AhB46QcKM7RfLB44DDFv+\n",
       "32bg8v80AcXH3OHVlWcYqAEYlZRQ4ggAlUswS0lXekgAAAAASUVORK5CYII=\n",
       "\" style=\"display:inline;vertical-align:middle;\" /></a>, <a class=\"ProveItLink\" href=\"../../../../../../__pv_it/common/a0d9d672aa5e272d907247690c152cc2c6daafb70/expr.ipynb\"><img src=\"data:image/png;base64,iVBORw0KGgoAAAANSUhEUgAAAAsAAAAJBAMAAAAWSsseAAAALVBMVEX///9mZmaqqqrMzMxEREQy\n",
       "MjIiIiKYmJh2dna6urrc3NxUVFSIiIju7u4AAACJHQtQAAAAAXRSTlMAQObYZgAAAEJJREFUCNdj\n",
       "YLhzeuWJAwy8Dew5bAEMHBc43nIuYOBlYHFgAAG+A2DKzgBIMF04x8BzgWGegh/DcgaG22fuiBcw\n",
       "AAATyhBrnyPYZQAAAABJRU5ErkJggg==\n",
       "\" style=\"display:inline;vertical-align:middle;\" /></a> : <a class=\"ProveItLink\" href=\"../../../../../../__pv_it/common/09585084922504426caf1db2ff588a23a0932a960/expr.ipynb\"><img src=\"data:image/png;base64,iVBORw0KGgoAAAANSUhEUgAAAA8AAAAOBAMAAAACpFvcAAAALVBMVEX///8iIiIQEBBERERUVFS6\n",
       "urqIiIjc3NxmZmaqqqru7u6YmJgyMjLMzMwAAACK9jtgAAAAAXRSTlMAQObYZgAAAFtJREFUCNdj\n",
       "YACBOwxQcA5Kc59bAGGs7CuAMDbkBYBp1gXzNoAZSxnuJYAZAQx1DSCa16PDzwCshIGB6QCIMYGB\n",
       "gVEBSLMDGTwPgIxCIGZ+zsCw+N0pBk67hw0AfpEVEQi8t+wAAAAASUVORK5CYII=\n",
       "\" style=\"display:inline;vertical-align:middle;\" /></a>, <a class=\"ProveItLink\" href=\"../../../../../../__pv_it/common/ff7dba4ef0bbe791ab573bf2d9c220a304399ac80/expr.ipynb\"><img src=\"data:image/png;base64,iVBORw0KGgoAAAANSUhEUgAAAAsAAAANBAMAAACN24kIAAAAMFBMVEX///8iIiKYmJhUVFTMzMxE\n",
       "REQyMjKqqqq6urp2dnYQEBDc3NxmZmaIiIju7u4AAACH5sGpAAAAAXRSTlMAQObYZgAAAFlJREFU\n",
       "CNdj4LtzgWHXAwZOjgUM9xkYtvMkMIQyMDzgusDwl4GBof8ByxcgdYyBdwGQCmZgNQBShxn6FYDU\n",
       "47vnNzAwgGUZGJgT+H4AKUYF1gtAiuPuESAJAJGkFvXVdzA+AAAAAElFTkSuQmCC\n",
       "\" style=\"display:inline;vertical-align:middle;\" /></a> : <a class=\"ProveItLink\" href=\"../../../../../../__pv_it/common/a9162d1c3cc0470c02e5daf414500903a7a419230/expr.ipynb\"><img src=\"data:image/png;base64,iVBORw0KGgoAAAANSUhEUgAAABAAAAAOBAMAAADUAYG5AAAALVBMVEX///8yMjKqqqoiIiLu7u7c\n",
       "3NyIiIjMzMwQEBC6urpERERmZmZUVFSYmJgAAACsPVCVAAAAAXRSTlMAQObYZgAAAGxJREFUCNdj\n",
       "YGC48+70nlUTGICgi4GB+zmQZn/LwMD5Gshge8rAwPsMyOBqYGDwMAEy+A4wsNs4ABl1Z68tVgBp\n",
       "ygtgYOkBMVaAOCChNyBGAsQYhnMTIMawvwJyGIHGzFjCwMAj92b3qUUMDAAXABxvZ4rl5AAAAABJ\n",
       "RU5ErkJggg==\n",
       "\" style=\"display:inline;vertical-align:middle;\" /></a></span></td></tr><tr><td><a name=\"0x5314e9cea4d3ef68_step2\">2</a></td><td>theorem</td><td></td><td><span style=\"font-size:20px;\"> <a class=\"ProveItLink\" href=\"../../../../../equality/_theory_nbs_/proofs/sub_right_side_into/thm_proof.ipynb\" style=\"text-decoration: none\">&nbsp;&#x22A2;&nbsp;&nbsp;</a><a class=\"ProveItLink\" href=\"../../../../../equality/__pv_it/theorems/7a9b2c4886327c7a880f6690c6b8bb5488c2412c0/expr.ipynb\"><img src=\"data:image/png;base64,iVBORw0KGgoAAAANSUhEUgAAAL4AAAAWBAMAAACMFTstAAAAMFBMVEX///8QEBCIiIhmZma6urrM\n",
       "zMxUVFQiIiJERETc3Nzu7u6qqqp2dnaYmJgyMjIAAAAcRTyBAAAAAXRSTlMAQObYZgAAAu1JREFU\n",
       "SMe1VU1oE1EQ/rrZ3WQ3aVo82kukoFCrlqKgIBIrqAel0YMnMaHYglJLD14sCkGhpIXa3OxFGlQE\n",
       "e7ABRfEW2oNQS4konlQW1INCbbCl2lp/Zt57m2yNCypxYDPzJvO+nTfzvVngf8h1qcJZwGHjVW1g\n",
       "X/wY7HmTA+y0cpwBnrD+UKO8vwOhjUA0q9Z3gTFSVro28MYa1eQT8Mx1RGKI0nki+drga0v00Dsu\n",
       "uA67EfUzExPXalSeUAkwl2D1lz1vgS+ZzMU/226J34R/QAORZbwNWhtwox0WdWIa6AaGAH20d/fZ\n",
       "qg26VIeXpwepjAWxuO+PnywgTLmGihS7Hxqd5jVwADZz9CnwuPrAUtU3ItIPU7IikPXF39E72055\n",
       "BPOw8vsQItY8pBU0eh966G8/fDPFyZxUPUv54o/mhKqLw8YGNMToRESeYpCdl4CMH36wyMl0K+d7\n",
       "X/zPcPGhryKZEPiWc4KzWoE2QC9rPs4wHSkMePAns9iSA7FiatfmBLaxS1hS3GAYiyodonvAwSYy\n",
       "D9EzdJo7udbKN7nFdM6TKqwajR78zqnZPLNOy/UF43jATGfLzJCMlIMF/cUuqncohUGI/uIe0zXi\n",
       "SPJFuRfWrX4t7cGfE1xKw8A8s4lTFZZkrRuM6Kq6tcTPQEr/RuZeZm2MkdoUhQU7AgUz5sG/IvC5\n",
       "ryv0nBK+lXLV3eDAwnJMspoStruaOeIds4+73qBGRFLcn2C8LuHB/yqqS0kaJQM4KFZkmR9J5svB\n",
       "FRHzgToAu3yTk5S3NWyV5lCwhhFMdHr4Y4hcKXY84kSAlxjLSUu1UwVXhOZbHybjYr6pybSwh3Ca\n",
       "7HNHWnNGE/Suqx787YuiaAO4/XxqBtiJY3lpqUuugj20zhLdL8v57JWwq+5gxMt/KVuVpnOvm7du\n",
       "cEXo+9LRzDUbWu9/5Kpe3anGV4twUXz3KuIGV38f638ZJUVXHZ1FNb4u/75J+9btcoP/QQK/OV7L\n",
       "XyH8BE6swAxF4PihAAAAAElFTkSuQmCC\n",
       "\" style=\"display:inline;vertical-align:middle;\" /></a></span></td></tr>\n",
       "<tr><td>&nbsp;</td><td colspan=4 style-\"text-align:left\"><a class=\"ProveItLink\" href=\"../../../../../equality/_theory_nbs_/proofs/sub_right_side_into/thm_proof.ipynb\">proveit.logic.equality.sub_right_side_into</a></td></tr><tr><td><a name=\"0x5314e9cea4d3ef68_step3\">3</a></td><td>instantiation</td><td><a href=\"#0x5314e9cea4d3ef68_step5\">5</a></td><td><span style=\"font-size:20px;\"> <a class=\"ProveItLink\" href=\"../../../__pv_it/_proof_subset_eq_via_equality/329617acc025803812f482b6878d1d58bdbfbaac0/proof.ipynb\" style=\"text-decoration: none\">&nbsp;&#x22A2;&nbsp;&nbsp;</a><a class=\"ProveItLink\" href=\"../../../__pv_it/theorems/2ef540aa2a8a2f4b30cc3cb36074ffc8ccb79b2c0/expr.ipynb\"><img src=\"data:image/png;base64,iVBORw0KGgoAAAANSUhEUgAAADsAAAARBAMAAACRPMnQAAAAMFBMVEX///92dnYiIiIQEBBERERU\n",
       "VFS6urqIiIjc3NxmZmaqqqru7u6YmJgyMjLMzMwAAADiRdoGAAAAAXRSTlMAQObYZgAAALBJREFU\n",
       "KM9jYACBtwzYAFz0PpTmCVJSUnqAIXp/A5jmuNiApBkmyrBrPkSYF1kWLspwoD4BTM9CsRomyrZh\n",
       "/QEwQwFZFi66jeF9AdjqAGRpmChDAkP/BBDN7YAsDRPli5wZ74BhOFyUjYGB+QJYSBzZapjoAgYG\n",
       "JgOIxxYgpGGiHEAG7wewEHdoNkwWLtoExCw/oBaKwAIVJrrl/20GLv9PE1BjA7soRUBISQk5QoEA\n",
       "ACxSOHcnMr6fAAAAAElFTkSuQmCC\n",
       "\" style=\"display:inline;vertical-align:middle;\" /></a></span></td></tr>\n",
       "<tr><td>&nbsp;</td><td colspan=4 style=\"text-align:left\"><span style=\"font-size:20px;\"><a class=\"ProveItLink\" href=\"../../../../../../__pv_it/common/09585084922504426caf1db2ff588a23a0932a960/expr.ipynb\"><img src=\"data:image/png;base64,iVBORw0KGgoAAAANSUhEUgAAAA8AAAAOBAMAAAACpFvcAAAALVBMVEX///8iIiIQEBBERERUVFS6\n",
       "urqIiIjc3NxmZmaqqqru7u6YmJgyMjLMzMwAAACK9jtgAAAAAXRSTlMAQObYZgAAAFtJREFUCNdj\n",
       "YACBOwxQcA5Kc59bAGGs7CuAMDbkBYBp1gXzNoAZSxnuJYAZAQx1DSCa16PDzwCshIGB6QCIMYGB\n",
       "gVEBSLMDGTwPgIxCIGZ+zsCw+N0pBk67hw0AfpEVEQi8t+wAAAAASUVORK5CYII=\n",
       "\" style=\"display:inline;vertical-align:middle;\" /></a> : <a class=\"ProveItLink\" href=\"../../../../../../__pv_it/common/09585084922504426caf1db2ff588a23a0932a960/expr.ipynb\"><img src=\"data:image/png;base64,iVBORw0KGgoAAAANSUhEUgAAAA8AAAAOBAMAAAACpFvcAAAALVBMVEX///8iIiIQEBBERERUVFS6\n",
       "urqIiIjc3NxmZmaqqqru7u6YmJgyMjLMzMwAAACK9jtgAAAAAXRSTlMAQObYZgAAAFtJREFUCNdj\n",
       "YACBOwxQcA5Kc59bAGGs7CuAMDbkBYBp1gXzNoAZSxnuJYAZAQx1DSCa16PDzwCshIGB6QCIMYGB\n",
       "gVEBSLMDGTwPgIxCIGZ+zsCw+N0pBk67hw0AfpEVEQi8t+wAAAAASUVORK5CYII=\n",
       "\" style=\"display:inline;vertical-align:middle;\" /></a></span></td></tr><tr><td><a name=\"0x5314e9cea4d3ef68_step4\">4</a></td><td>assumption</td><td></td><td><span style=\"font-size:20px;\"><a class=\"ProveItLink\" href=\"../../../__pv_it/theorems/c2956ea7322468548324be16fbc890b1ca6c3ef90/expr.ipynb\"><img src=\"data:image/png;base64,iVBORw0KGgoAAAANSUhEUgAAADsAAAAOBAMAAABjvHmeAAAAMFBMVEX///92dnYiIiIQEBBERERU\n",
       "VFS6urqIiIjc3NxmZmaqqqru7u6YmJgyMjLMzMwAAADiRdoGAAAAAXRSTlMAQObYZgAAAMhJREFU\n",
       "GNNjYACBtwzogCf+68wQNyjnPoY0A7MDA8P8BxCl9zdgSL8/wMCQPwHM3DW/AUO6Hih0vgDMPFCf\n",
       "gCHtzMDAbQQ2lG3D+gMY0l8ZGB5Fg1nbGN6DTZG9CwI3wWJ8X8+UaEEUJjD0T0DXzP6DgWFzAFhh\n",
       "5Mx4B3RpFgOgkl9gq4GevIAuzQ/Uyf4dxFrAwMBkgLD7KtzbrN+ADA6gNO8HbN5+D7KyCWTTD3Tp\n",
       "y0BLTYDe3vL/NgOX/yc0p8f+j5zqAjQWANmrP2CfjofaAAAAAElFTkSuQmCC\n",
       "\" style=\"display:inline;vertical-align:middle;\" /></a> <a class=\"ProveItLink\" href=\"../../../__pv_it/_proof_subset_eq_via_equality/225ac7eaa6bb6848664321c0c51691e9b48030bf0/proof.ipynb\" style=\"text-decoration: none\">&nbsp;&#x22A2;&nbsp;&nbsp;</a><a class=\"ProveItLink\" href=\"../../../__pv_it/theorems/c2956ea7322468548324be16fbc890b1ca6c3ef90/expr.ipynb\"><img src=\"data:image/png;base64,iVBORw0KGgoAAAANSUhEUgAAADsAAAAOBAMAAABjvHmeAAAAMFBMVEX///92dnYiIiIQEBBERERU\n",
       "VFS6urqIiIjc3NxmZmaqqqru7u6YmJgyMjLMzMwAAADiRdoGAAAAAXRSTlMAQObYZgAAAMhJREFU\n",
       "GNNjYACBtwzogCf+68wQNyjnPoY0A7MDA8P8BxCl9zdgSL8/wMCQPwHM3DW/AUO6Hih0vgDMPFCf\n",
       "gCHtzMDAbQQ2lG3D+gMY0l8ZGB5Fg1nbGN6DTZG9CwI3wWJ8X8+UaEEUJjD0T0DXzP6DgWFzAFhh\n",
       "5Mx4B3RpFgOgkl9gq4GevIAuzQ/Uyf4dxFrAwMBkgLD7KtzbrN+ADA6gNO8HbN5+D7KyCWTTD3Tp\n",
       "y0BLTYDe3vL/NgOX/yc0p8f+j5zqAjQWANmrP2CfjofaAAAAAElFTkSuQmCC\n",
       "\" style=\"display:inline;vertical-align:middle;\" /></a></span></td></tr>\n",
       "<tr><td><a name=\"0x5314e9cea4d3ef68_step5\">5</a></td><td>theorem</td><td></td><td><span style=\"font-size:20px;\"> <a class=\"ProveItLink\" href=\"../subset_eq_reflexive/thm_proof.ipynb\" style=\"text-decoration: none\">&nbsp;&#x22A2;&nbsp;&nbsp;</a><a class=\"ProveItLink\" href=\"../../../__pv_it/theorems/2f0043d298751dba99884bff4c0d249e0c203e340/expr.ipynb\"><img src=\"data:image/png;base64,iVBORw0KGgoAAAANSUhEUgAAAGwAAAAUBAMAAACaOcVSAAAAMFBMVEX///8QEBCIiIhmZma6urrM\n",
       "zMxUVFQiIiJERETc3Nzu7u6qqqp2dnaYmJgyMjIAAAAcRTyBAAAAAXRSTlMAQObYZgAAAcRJREFU\n",
       "OMuFVDtLA0EQ/oyJyV1yml8g+QcJBLRQMGAhCEKqlEbwhZURi0NQSJlUl05BxAMtJIIIFtoJWijR\n",
       "4sBSlIDaBEHRgFHwMfuI7GLUgb1vd76b2XndAS1kDX9KuARU2eZKU5t5DoFqK5tRWjPAGdvXNKaz\n",
       "JOBRHK1p27bTTfKB1g6wQmDkNbMLAddvHIz7ksJZDy4QiaGTwa5mtiBC3XtV75ayPUBHMwqrUi4v\n",
       "a1ZGTvj11Tn2aaQXT9HzFmgUCosa40twGA6/c8ypnN899AiOgUmgyFVFSYU8HmMq8MTvHlPNNpGN\n",
       "sbSBQZi80lZdUkGeqR/Gs9INKSmss1j26S34uPuNd0m1seiRSfY0fgQZGE/OMjdZKqMX5KrKvGZG\n",
       "j25+PFJTI7YqzIxqhjuKFdQgw7TmRAOU7tA2GCUcYqWYYJoO9KolWZUDQclNDX+3ZlfODpUEezz6\n",
       "S8QlGUnI3jmi0YHT5nCx/obYEPTT6mIlNW/OHVcmkIPpfLg4+JzXp3jrs4aw80Je71jl2evtLtbT\n",
       "2nD9IeZ3dUfoVk8f5d8lEmuWoQHDWWoetOE9sW31w4H4cFrFkP/ntmJr9T8/BauEL2dybp5wiLXZ\n",
       "AAAAAElFTkSuQmCC\n",
       "\" style=\"display:inline;vertical-align:middle;\" /></a></span></td></tr>\n",
       "<tr><td>&nbsp;</td><td colspan=4 style-\"text-align:left\"><a class=\"ProveItLink\" href=\"../subset_eq_reflexive/thm_proof.ipynb\">proveit.logic.sets.inclusion.subset_eq_reflexive</a></td></tr></table>"
      ],
      "text/plain": [
       "\tstep type\trequirements\tstatement\n",
       "0\tgeneralizaton\t1\t|- forall_{A, B | A = B} (A subseteq B)\n",
       "1\tinstantiation\t2, 3, 4\t{A = B} |- A subseteq B\n",
       "\tP(x) : A subseteq x, x : A, y : B\n",
       "2\ttheorem\t\t|- forall_{P, x, y | P(x), x = y} P(y)\n",
       "\tproveit.logic.equality.sub_right_side_into\n",
       "3\tinstantiation\t5\t|- A subseteq A\n",
       "\tA : A\n",
       "4\tassumption\t\t{A = B} |- A = B\n",
       "5\ttheorem\t\t|- forall_{A} (A subseteq A)\n",
       "\tproveit.logic.sets.inclusion.subset_eq_reflexive"
      ]
     },
     "execution_count": 6,
     "metadata": {},
     "output_type": "execute_result"
    }
   ],
   "source": [
    "%qed"
   ]
  },
  {
   "cell_type": "code",
   "execution_count": null,
   "metadata": {},
   "outputs": [],
   "source": []
  }
 ],
 "metadata": {
  "kernelspec": {
   "display_name": "Python 3",
   "language": "python",
   "name": "python3"
  }
 },
 "nbformat": 4,
 "nbformat_minor": 0
}