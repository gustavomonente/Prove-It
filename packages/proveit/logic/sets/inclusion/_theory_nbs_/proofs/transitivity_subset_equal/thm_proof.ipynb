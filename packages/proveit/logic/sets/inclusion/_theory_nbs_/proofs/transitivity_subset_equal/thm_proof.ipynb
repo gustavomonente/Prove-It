{
 "cells": [
  {
   "cell_type": "markdown",
   "metadata": {},
   "source": [
    "Proof of <a class=\"ProveItLink\" href=\"../../../../../../_theory_nbs_/theory.ipynb\">proveit</a>.<a class=\"ProveItLink\" href=\"../../../../../_theory_nbs_/theory.ipynb\">logic</a>.<a class=\"ProveItLink\" href=\"../../../../_theory_nbs_/theory.ipynb\">sets</a>.<a class=\"ProveItLink\" href=\"../../theory.ipynb\">inclusion</a>.<a class=\"ProveItLink\" href=\"../../theorems.ipynb#transitivity_subset_equal\">transitivity_subset_equal</a> theorem\n",
    "========"
   ]
  },
  {
   "cell_type": "code",
   "execution_count": 1,
   "metadata": {},
   "outputs": [],
   "source": [
    "import proveit\n",
    "from proveit import defaults\n",
    "from proveit import A, B, C\n",
    "from proveit.logic import Equals, ProperSubset\n",
    "theory = proveit.Theory() # the theorem's theory"
   ]
  },
  {
   "cell_type": "code",
   "execution_count": 2,
   "metadata": {},
   "outputs": [
    {
     "data": {
      "text/html": [
       "Under these <a href=\"presumptions.txt\">presumptions</a>, we begin our proof of<br><strong id=\"transitivity_subset_equal\">transitivity_subset_equal:</strong> <a class=\"ProveItLink\" href=\"../../../__pv_it/theorems/150aa0abd65f94cdbddc99b79dedeacc49eac3e20/expr.ipynb\"><img src=\"data:image/png;base64,iVBORw0KGgoAAAANSUhEUgAAAPcAAAAWBAMAAADuuhdHAAAAMFBMVEX///8QEBCIiIhmZma6urrM\n",
       "zMxUVFQiIiJERETc3Nzu7u6qqqp2dnaYmJgyMjIAAAAcRTyBAAAAAXRSTlMAQObYZgAAA15JREFU\n",
       "SMe1Vl1IFFEU/tq/nNmd9L2ojR6yoDQW7AdJo5eQQjPwqQdhDXwo2IqwInGDsDWK3V5KiHJDUFv6\n",
       "WfAln9qMfrSoqV6MqKzejEo0ySyrc8+dmZ3ddStiPTD3njv3zP3O/c459w4wX3LxL/MD9IwK5VXh\n",
       "sdUwd+7ROaZKg/uUlCcGPBTDscKDL4rJbjx3arkO7zpdJbc6aaSECw/+XHavZ3Jm+o5SUxXDILkW\n",
       "B3zJwoMfkQz3fzPGIy0tLYdYe0uI2AJcBrThROJ84bGVEHea44scXxoyZ5zfRbuLtl0NTEcixwoP\n",
       "7ijnrsY7aydCSBe7dYX4JpM9QAe/le22yTvNMle09kqH0FzmZ0UxU3NFKyuyzZnbYGqVYasz69Xu\n",
       "CbnddGCf+A1Fo4zbCpXLQZMEaSXwlTBx76Ae53XMz95UWys8BW5nmjO3fvQZg4WM5oIyKYdpTtrq\n",
       "DMUbEu8d7GW3JMjZCC9naBdBjdjB1Sqyc68IBEivAG7FM8yFu+S+ZhTOAna0IVAxzcNzafBl/B01\n",
       "bqpCny7dGj4offTDyUyIRKi3g/t6y6HurUkkSD8AbM40F3qKVvTbwalZKsvLtnPedZ0EV0Yb+Cjy\n",
       "R3juRh3WCt8cYj8JO3h9URgeyZk6BcdYhrmQMlLUuI12Lz37s2mvEiniEzERmdfRJN55sJ7nateU\n",
       "NrK5dfCY4I3OELYbCTfxrB1pc0+E5AwO27KdE+4CPZ8la/50tgt12Eg49HPuv0QZzz0GVoq+OJUF\n",
       "riUd47hrRGAUjlCGuZAfNnBRR1zrUVkLH6wZUXz9gh+nQCgWrqjvH0WZsdPkW9IIoKrbwK9XPpjB\n",
       "RsOfFBQ+KyxzM0uumcUYghr9GcfNXzKVeprM4KC7PcgJsUiEUGM34ujieNKatcJZZ1hGxgLfBGWK\n",
       "+GEpTsIlz00293wi+YgNNE5lHq9p2X3SPF5N6bW0HbSirpyCMgNlCV03cbRCHbKBu4iFWTNru+I4\n",
       "S5u3zI0k03E1lnWx/EEGrbhOQ4m2uhfj/mSgmUjZmYQvOBi3gUfD6Pyqu/hc87UFKk5QgVjmhtyr\n",
       "XI3c4zDfhZ9903stzXbPFdkteiiv5zDP+zORX3K8G7CWjeUBn9v8f36jXmS/0E1Fw7+A65h3cc7b\n",
       "yr8B3tfn3I59ypIAAAAASUVORK5CYII=\n",
       "\" style=\"display:inline;vertical-align:middle;\" /></a><br>(see <a class=\"ProveItLink\" href=\"../../../__pv_it/theorems/a2dffddc83fe5ab973ec3bbbde1482ef63d84e9d0/dependencies.ipynb\">dependencies</a>)<br>"
      ],
      "text/plain": [
       "transitivity_subset_equal: forall_{A, B, C | A proper_subset B, B = C} (A proper_subset C)"
      ]
     },
     "execution_count": 2,
     "metadata": {},
     "output_type": "execute_result"
    }
   ],
   "source": [
    "%proving transitivity_subset_equal"
   ]
  },
  {
   "cell_type": "code",
   "execution_count": 3,
   "metadata": {},
   "outputs": [
    {
     "data": {
      "text/html": [
       "<strong id=\"defaults.assumptions\">defaults.assumptions:</strong> <a class=\"ProveItLink\" href=\"../../../__pv_it/theorems/b0e3cdd501f66ce74cfb4d8e348f05baa44c518c0/expr.ipynb\"><img src=\"data:image/png;base64,iVBORw0KGgoAAAANSUhEUgAAAI4AAAAUBAMAAACpLhgeAAAAMFBMVEX///9UVFTMzMx2dna6uroQ\n",
       "EBCqqqqIiIgiIiJmZmYyMjJERETu7u6YmJjc3NwAAAC+aOQFAAAAAXRSTlMAQObYZgAAAdxJREFU\n",
       "OMtjYOC7wEApYHsAJE5D2FoYsrzyH2dKb8HGQQCeaklZPgMGOSBzHURkPaY1rBsYGOYrYOPAQekF\n",
       "BrapFxhOAS2aALFv/QEMc/SBPvafgI0DA6d7gMT8BwzMBQwcD8Aix+ZDaIbbHR0dTRBmPVDofgED\n",
       "Fg4MLAVZ7gr0XgDDC4jIhXoHMP3KDqFqK1BBxAFsHCjg/AYiNYF4CUMlWITlQD4k2vqQlH1kYNCQ\n",
       "wcqBgvcNIPIcEFsy7AWLHGHQB7uZMwGhiunj3eo2TI7VKhBYCWLaw/15iwEi6cDwHhyGHEi2sf9j\n",
       "YDgqgI0DA/3w+MtgCAHbJjlTfgOI8RBJFXcAUPs3bBwYiAeHF4jQh5jDAkwfCxgQiRIM+IHWs3/H\n",
       "xoG7B5yYFcDmgP0FDBWOAHR/gVIM4xcMDiR8FjJAUg4DAzOI5QEOZz6gOVwfQHxmpBQCSjH6G7Bx\n",
       "4PEFUm0DCWdLIAlKQ9z/wFLLkBIZ0L/RBxh4fiFx0PLnXwaGTLDgZKCLGE7/X8PAtv8HOMIOisAU\n",
       "S/2XnLgblAw6DiBxUMHJjZKQ5LsIli/gQHkHPF/AbD1AsODgaYDlUzyAmXABBArWfYQUHSdszim0\n",
       "JIMVEFFegtxChXKV9wEDAKcBlLPWOvdOAAAAAElFTkSuQmCC\n",
       "\" style=\"display:inline;vertical-align:middle;\" /></a><br>"
      ],
      "text/plain": [
       "defaults.assumptions: (A proper_subset B, B = C)"
      ]
     },
     "execution_count": 3,
     "metadata": {},
     "output_type": "execute_result"
    }
   ],
   "source": [
    "defaults.assumptions = transitivity_subset_equal.all_conditions()"
   ]
  },
  {
   "cell_type": "code",
   "execution_count": 4,
   "metadata": {},
   "outputs": [
    {
     "data": {
      "text/html": [
       "<strong id=\"A_properSubset_B\">A_properSubset_B:</strong> <span style=\"font-size:20px;\"><a class=\"ProveItLink\" href=\"../../../__pv_it/theorems/81f49a06ba9c23797bdfafb3065c419bc23ed9230/expr.ipynb\"><img src=\"data:image/png;base64,iVBORw0KGgoAAAANSUhEUgAAADsAAAAPBAMAAACo4Ko7AAAAMFBMVEX///92dnYiIiIQEBBERERU\n",
       "VFS6urqIiIjc3NxmZmaqqqru7u6YmJgyMjLMzMwAAADiRdoGAAAAAXRSTlMAQObYZgAAAO1JREFU\n",
       "GNNjYACBtwzogCf+68wQNyjnPoY0A7MDA8P8BxCl9zdgSL8/wMCQPwHM3DW/ASJ2RElJSQ/CrAcK\n",
       "nS8AMw/UJ4DpXgmEbmcGBm4jsKFsG9YfAAtpIBn+lYHhUTSYtY3hPdgUzgUIWb6vZ0q0IMwEhn6w\n",
       "G5iQNLP/YGDYHABWGDkz3gHEaEWSZjEAKvkFthroyQsgxhYkaX6gTvbvIBbQRiYDdMNB3mb9BmRw\n",
       "AKV5P4CEGAsQ0iBvvwdZ2QSy6QdY7BZC+jLQUhOgt7f8v83A5f8J7PStYbDAjf0fOdVlAXpAP3SC\n",
       "ByoEAACTQj18dtZaDQAAAABJRU5ErkJggg==\n",
       "\" style=\"display:inline;vertical-align:middle;\" /></a> <a class=\"ProveItLink\" href=\"../../../__pv_it/_proof_transitivity_subset_equal/4b01a0767344c7ced5782ca7f3a2b4796e1e524f0/proof.ipynb\" style=\"text-decoration: none\">&nbsp;&#x22A2;&nbsp;&nbsp;</a><a class=\"ProveItLink\" href=\"../../../__pv_it/theorems/81f49a06ba9c23797bdfafb3065c419bc23ed9230/expr.ipynb\"><img src=\"data:image/png;base64,iVBORw0KGgoAAAANSUhEUgAAADsAAAAPBAMAAACo4Ko7AAAAMFBMVEX///92dnYiIiIQEBBERERU\n",
       "VFS6urqIiIjc3NxmZmaqqqru7u6YmJgyMjLMzMwAAADiRdoGAAAAAXRSTlMAQObYZgAAAO1JREFU\n",
       "GNNjYACBtwzogCf+68wQNyjnPoY0A7MDA8P8BxCl9zdgSL8/wMCQPwHM3DW/ASJ2RElJSQ/CrAcK\n",
       "nS8AMw/UJ4DpXgmEbmcGBm4jsKFsG9YfAAtpIBn+lYHhUTSYtY3hPdgUzgUIWb6vZ0q0IMwEhn6w\n",
       "G5iQNLP/YGDYHABWGDkz3gHEaEWSZjEAKvkFthroyQsgxhYkaX6gTvbvIBbQRiYDdMNB3mb9BmRw\n",
       "AKV5P4CEGAsQ0iBvvwdZ2QSy6QdY7BZC+jLQUhOgt7f8v83A5f8J7PStYbDAjf0fOdVlAXpAP3SC\n",
       "ByoEAACTQj18dtZaDQAAAABJRU5ErkJggg==\n",
       "\" style=\"display:inline;vertical-align:middle;\" /></a></span><br>"
      ],
      "text/plain": [
       "A_properSubset_B: {A proper_subset B} |- A proper_subset B"
      ]
     },
     "execution_count": 4,
     "metadata": {},
     "output_type": "execute_result"
    }
   ],
   "source": [
    "A_properSubset_B = ProperSubset(A, B).prove()"
   ]
  },
  {
   "cell_type": "code",
   "execution_count": 5,
   "metadata": {},
   "outputs": [
    {
     "data": {
      "text/html": [
       "<strong id=\"B_equals_C\">B_equals_C:</strong> <span style=\"font-size:20px;\"><a class=\"ProveItLink\" href=\"../../../__pv_it/theorems/decac31b4597cfb516bcca9bd2fe8038edd99bc40/expr.ipynb\"><img src=\"data:image/png;base64,iVBORw0KGgoAAAANSUhEUgAAAD0AAAAOBAMAAABuognZAAAAMFBMVEX///92dnYyMjKqqqoiIiLu\n",
       "7u7c3NyIiIjMzMwQEBC6urpERERmZmZUVFSYmJgAAADEjrHzAAAAAXRSTlMAQObYZgAAANBJREFU\n",
       "GNNjYGB4+//O2d0LGNABa/Wde2wCINZsBgaeHxjylQ8YmE8+ADI4/jEwcP1Bl452BRLnE4AE+zcG\n",
       "Br7v6PKaAUBiJYjFPYGBIdIVTZrnM4jsARH8Fxg4fAPQ5PMdQGQYiOi/93yLAVhQSAkEdEBM+QK4\n",
       "0voEBta56Nb7N8CZO0FqDNDk54MtBBN/QfIF6PpBBHMD1PsM9xcg7NdlgPmckQHqfY7f6PbngwwU\n",
       "BbGYgN5fuRVdnhloqg3Iel79v2dub8YIfYaYvXdAdgIAMjE1zLn66vUAAAAASUVORK5CYII=\n",
       "\" style=\"display:inline;vertical-align:middle;\" /></a> <a class=\"ProveItLink\" href=\"../../../__pv_it/_proof_transitivity_subset_equal/95f5f3b4bab70205337ea00932cdb368f591c9e00/proof.ipynb\" style=\"text-decoration: none\">&nbsp;&#x22A2;&nbsp;&nbsp;</a><a class=\"ProveItLink\" href=\"../../../__pv_it/theorems/decac31b4597cfb516bcca9bd2fe8038edd99bc40/expr.ipynb\"><img src=\"data:image/png;base64,iVBORw0KGgoAAAANSUhEUgAAAD0AAAAOBAMAAABuognZAAAAMFBMVEX///92dnYyMjKqqqoiIiLu\n",
       "7u7c3NyIiIjMzMwQEBC6urpERERmZmZUVFSYmJgAAADEjrHzAAAAAXRSTlMAQObYZgAAANBJREFU\n",
       "GNNjYGB4+//O2d0LGNABa/Wde2wCINZsBgaeHxjylQ8YmE8+ADI4/jEwcP1Bl452BRLnE4AE+zcG\n",
       "Br7v6PKaAUBiJYjFPYGBIdIVTZrnM4jsARH8Fxg4fAPQ5PMdQGQYiOi/93yLAVhQSAkEdEBM+QK4\n",
       "0voEBta56Nb7N8CZO0FqDNDk54MtBBN/QfIF6PpBBHMD1PsM9xcg7NdlgPmckQHqfY7f6PbngwwU\n",
       "BbGYgN5fuRVdnhloqg3Iel79v2dub8YIfYaYvXdAdgIAMjE1zLn66vUAAAAASUVORK5CYII=\n",
       "\" style=\"display:inline;vertical-align:middle;\" /></a></span><br>"
      ],
      "text/plain": [
       "B_equals_C: {B = C} |- B = C"
      ]
     },
     "execution_count": 5,
     "metadata": {},
     "output_type": "execute_result"
    }
   ],
   "source": [
    "B_equals_C = Equals(B, C).prove()"
   ]
  },
  {
   "cell_type": "code",
   "execution_count": 6,
   "metadata": {},
   "outputs": [
    {
     "data": {
      "text/html": [
       "<span style=\"font-size:20px;\"><a class=\"ProveItLink\" href=\"../../../__pv_it/theorems/81f49a06ba9c23797bdfafb3065c419bc23ed9230/expr.ipynb\"><img src=\"data:image/png;base64,iVBORw0KGgoAAAANSUhEUgAAADsAAAAPBAMAAACo4Ko7AAAAMFBMVEX///92dnYiIiIQEBBERERU\n",
       "VFS6urqIiIjc3NxmZmaqqqru7u6YmJgyMjLMzMwAAADiRdoGAAAAAXRSTlMAQObYZgAAAO1JREFU\n",
       "GNNjYACBtwzogCf+68wQNyjnPoY0A7MDA8P8BxCl9zdgSL8/wMCQPwHM3DW/ASJ2RElJSQ/CrAcK\n",
       "nS8AMw/UJ4DpXgmEbmcGBm4jsKFsG9YfAAtpIBn+lYHhUTSYtY3hPdgUzgUIWb6vZ0q0IMwEhn6w\n",
       "G5iQNLP/YGDYHABWGDkz3gHEaEWSZjEAKvkFthroyQsgxhYkaX6gTvbvIBbQRiYDdMNB3mb9BmRw\n",
       "AKV5P4CEGAsQ0iBvvwdZ2QSy6QdY7BZC+jLQUhOgt7f8v83A5f8J7PStYbDAjf0fOdVlAXpAP3SC\n",
       "ByoEAACTQj18dtZaDQAAAABJRU5ErkJggg==\n",
       "\" style=\"display:inline;vertical-align:middle;\" /></a>, <a class=\"ProveItLink\" href=\"../../../__pv_it/theorems/decac31b4597cfb516bcca9bd2fe8038edd99bc40/expr.ipynb\"><img src=\"data:image/png;base64,iVBORw0KGgoAAAANSUhEUgAAAD0AAAAOBAMAAABuognZAAAAMFBMVEX///92dnYyMjKqqqoiIiLu\n",
       "7u7c3NyIiIjMzMwQEBC6urpERERmZmZUVFSYmJgAAADEjrHzAAAAAXRSTlMAQObYZgAAANBJREFU\n",
       "GNNjYGB4+//O2d0LGNABa/Wde2wCINZsBgaeHxjylQ8YmE8+ADI4/jEwcP1Bl452BRLnE4AE+zcG\n",
       "Br7v6PKaAUBiJYjFPYGBIdIVTZrnM4jsARH8Fxg4fAPQ5PMdQGQYiOi/93yLAVhQSAkEdEBM+QK4\n",
       "0voEBta56Nb7N8CZO0FqDNDk54MtBBN/QfIF6PpBBHMD1PsM9xcg7NdlgPmckQHqfY7f6PbngwwU\n",
       "BbGYgN5fuRVdnhloqg3Iel79v2dub8YIfYaYvXdAdgIAMjE1zLn66vUAAAAASUVORK5CYII=\n",
       "\" style=\"display:inline;vertical-align:middle;\" /></a> <a class=\"ProveItLink\" href=\"../../../__pv_it/_proof_transitivity_subset_equal/3a49eaa2630db4c785419be06f85cf783bc829ce0/proof.ipynb\" style=\"text-decoration: none\">&nbsp;&#x22A2;&nbsp;&nbsp;</a><a class=\"ProveItLink\" href=\"../../../__pv_it/theorems/7d3069e199791c25389a812f4ca9748b3064207b0/expr.ipynb\"><img src=\"data:image/png;base64,iVBORw0KGgoAAAANSUhEUgAAADsAAAAPBAMAAACo4Ko7AAAAMFBMVEX///92dnYiIiIQEBBERERU\n",
       "VFS6urqIiIjc3NxmZmaqqqru7u6YmJgyMjLMzMwAAADiRdoGAAAAAXRSTlMAQObYZgAAANtJREFU\n",
       "GNNjYACBtwwYgLskMoZDAMK+jyldfICBa/IBMJPn/gZ02S3aQGJ+A5i9C0ozHFFSUtIDsy6DNCRD\n",
       "RA/UJ4DpXgmYZs5fIPIlmM22YT3EEg242f0KIHIHmL2N4X0BWMsCuLR8AcIZCQz9E0A0E0JI/wGc\n",
       "yRc5M94BxGhFSNuDvQIm2BgYmC+APYOkG0RwgY0A2shkgGY42KeMIBYHUJr3A4jFiHBPP4gpDWI1\n",
       "ATHLD7DgLbg01x8GhpUgq7f8v83A5f8J7PStYfDA3ekamYARDw+dYIEKBQCOpjXOgAe5jAAAAABJ\n",
       "RU5ErkJggg==\n",
       "\" style=\"display:inline;vertical-align:middle;\" /></a></span>"
      ],
      "text/plain": [
       "{A proper_subset B, B = C} |- A proper_subset C"
      ]
     },
     "execution_count": 6,
     "metadata": {},
     "output_type": "execute_result"
    }
   ],
   "source": [
    "B_equals_C.sub_right_side_into(A_properSubset_B)"
   ]
  },
  {
   "cell_type": "code",
   "execution_count": 7,
   "metadata": {},
   "outputs": [
    {
     "data": {
      "text/html": [
       "<table><tr><th>&nbsp;</th><th>step type</th><th>requirements</th><th>statement</th></tr>\n",
       "<tr><td><a name=\"0x2cfc4e36f47c348d_step0\">0</a></td><td>generalizaton</td><td><a href=\"#0x2cfc4e36f47c348d_step1\">1</a></td><td><span style=\"font-size:20px;\"> <a class=\"ProveItLink\" href=\"../../../__pv_it/_proof_transitivity_subset_equal/30abff34f6b27900518113443d64d5a8ae19e3120/proof.ipynb\" style=\"text-decoration: none\">&nbsp;&#x22A2;&nbsp;&nbsp;</a><a class=\"ProveItLink\" href=\"../../../__pv_it/theorems/150aa0abd65f94cdbddc99b79dedeacc49eac3e20/expr.ipynb\"><img src=\"data:image/png;base64,iVBORw0KGgoAAAANSUhEUgAAAPcAAAAWBAMAAADuuhdHAAAAMFBMVEX///8QEBCIiIhmZma6urrM\n",
       "zMxUVFQiIiJERETc3Nzu7u6qqqp2dnaYmJgyMjIAAAAcRTyBAAAAAXRSTlMAQObYZgAAA15JREFU\n",
       "SMe1Vl1IFFEU/tq/nNmd9L2ojR6yoDQW7AdJo5eQQjPwqQdhDXwo2IqwInGDsDWK3V5KiHJDUFv6\n",
       "WfAln9qMfrSoqV6MqKzejEo0ySyrc8+dmZ3ddStiPTD3njv3zP3O/c459w4wX3LxL/MD9IwK5VXh\n",
       "sdUwd+7ROaZKg/uUlCcGPBTDscKDL4rJbjx3arkO7zpdJbc6aaSECw/+XHavZ3Jm+o5SUxXDILkW\n",
       "B3zJwoMfkQz3fzPGIy0tLYdYe0uI2AJcBrThROJ84bGVEHea44scXxoyZ5zfRbuLtl0NTEcixwoP\n",
       "7ijnrsY7aydCSBe7dYX4JpM9QAe/le22yTvNMle09kqH0FzmZ0UxU3NFKyuyzZnbYGqVYasz69Xu\n",
       "CbnddGCf+A1Fo4zbCpXLQZMEaSXwlTBx76Ae53XMz95UWys8BW5nmjO3fvQZg4WM5oIyKYdpTtrq\n",
       "DMUbEu8d7GW3JMjZCC9naBdBjdjB1Sqyc68IBEivAG7FM8yFu+S+ZhTOAna0IVAxzcNzafBl/B01\n",
       "bqpCny7dGj4offTDyUyIRKi3g/t6y6HurUkkSD8AbM40F3qKVvTbwalZKsvLtnPedZ0EV0Yb+Cjy\n",
       "R3juRh3WCt8cYj8JO3h9URgeyZk6BcdYhrmQMlLUuI12Lz37s2mvEiniEzERmdfRJN55sJ7nateU\n",
       "NrK5dfCY4I3OELYbCTfxrB1pc0+E5AwO27KdE+4CPZ8la/50tgt12Eg49HPuv0QZzz0GVoq+OJUF\n",
       "riUd47hrRGAUjlCGuZAfNnBRR1zrUVkLH6wZUXz9gh+nQCgWrqjvH0WZsdPkW9IIoKrbwK9XPpjB\n",
       "RsOfFBQ+KyxzM0uumcUYghr9GcfNXzKVeprM4KC7PcgJsUiEUGM34ujieNKatcJZZ1hGxgLfBGWK\n",
       "+GEpTsIlz00293wi+YgNNE5lHq9p2X3SPF5N6bW0HbSirpyCMgNlCV03cbRCHbKBu4iFWTNru+I4\n",
       "S5u3zI0k03E1lnWx/EEGrbhOQ4m2uhfj/mSgmUjZmYQvOBi3gUfD6Pyqu/hc87UFKk5QgVjmhtyr\n",
       "XI3c4zDfhZ9903stzXbPFdkteiiv5zDP+zORX3K8G7CWjeUBn9v8f36jXmS/0E1Fw7+A65h3cc7b\n",
       "yr8B3tfn3I59ypIAAAAASUVORK5CYII=\n",
       "\" style=\"display:inline;vertical-align:middle;\" /></a></span></td></tr>\n",
       "<tr><td><a name=\"0x2cfc4e36f47c348d_step1\">1</a></td><td>instantiation</td><td><a href=\"#0x2cfc4e36f47c348d_step2\">2</a>, <a href=\"#0x2cfc4e36f47c348d_step3\">3</a>, <a href=\"#0x2cfc4e36f47c348d_step4\">4</a></td><td><span style=\"font-size:20px;\"><a class=\"ProveItLink\" href=\"../../../__pv_it/theorems/81f49a06ba9c23797bdfafb3065c419bc23ed9230/expr.ipynb\"><img src=\"data:image/png;base64,iVBORw0KGgoAAAANSUhEUgAAADsAAAAPBAMAAACo4Ko7AAAAMFBMVEX///92dnYiIiIQEBBERERU\n",
       "VFS6urqIiIjc3NxmZmaqqqru7u6YmJgyMjLMzMwAAADiRdoGAAAAAXRSTlMAQObYZgAAAO1JREFU\n",
       "GNNjYACBtwzogCf+68wQNyjnPoY0A7MDA8P8BxCl9zdgSL8/wMCQPwHM3DW/ASJ2RElJSQ/CrAcK\n",
       "nS8AMw/UJ4DpXgmEbmcGBm4jsKFsG9YfAAtpIBn+lYHhUTSYtY3hPdgUzgUIWb6vZ0q0IMwEhn6w\n",
       "G5iQNLP/YGDYHABWGDkz3gHEaEWSZjEAKvkFthroyQsgxhYkaX6gTvbvIBbQRiYDdMNB3mb9BmRw\n",
       "AKV5P4CEGAsQ0iBvvwdZ2QSy6QdY7BZC+jLQUhOgt7f8v83A5f8J7PStYbDAjf0fOdVlAXpAP3SC\n",
       "ByoEAACTQj18dtZaDQAAAABJRU5ErkJggg==\n",
       "\" style=\"display:inline;vertical-align:middle;\" /></a>, <a class=\"ProveItLink\" href=\"../../../__pv_it/theorems/decac31b4597cfb516bcca9bd2fe8038edd99bc40/expr.ipynb\"><img src=\"data:image/png;base64,iVBORw0KGgoAAAANSUhEUgAAAD0AAAAOBAMAAABuognZAAAAMFBMVEX///92dnYyMjKqqqoiIiLu\n",
       "7u7c3NyIiIjMzMwQEBC6urpERERmZmZUVFSYmJgAAADEjrHzAAAAAXRSTlMAQObYZgAAANBJREFU\n",
       "GNNjYGB4+//O2d0LGNABa/Wde2wCINZsBgaeHxjylQ8YmE8+ADI4/jEwcP1Bl452BRLnE4AE+zcG\n",
       "Br7v6PKaAUBiJYjFPYGBIdIVTZrnM4jsARH8Fxg4fAPQ5PMdQGQYiOi/93yLAVhQSAkEdEBM+QK4\n",
       "0voEBta56Nb7N8CZO0FqDNDk54MtBBN/QfIF6PpBBHMD1PsM9xcg7NdlgPmckQHqfY7f6PbngwwU\n",
       "BbGYgN5fuRVdnhloqg3Iel79v2dub8YIfYaYvXdAdgIAMjE1zLn66vUAAAAASUVORK5CYII=\n",
       "\" style=\"display:inline;vertical-align:middle;\" /></a> <a class=\"ProveItLink\" href=\"../../../__pv_it/_proof_transitivity_subset_equal/3a49eaa2630db4c785419be06f85cf783bc829ce0/proof.ipynb\" style=\"text-decoration: none\">&nbsp;&#x22A2;&nbsp;&nbsp;</a><a class=\"ProveItLink\" href=\"../../../__pv_it/theorems/7d3069e199791c25389a812f4ca9748b3064207b0/expr.ipynb\"><img src=\"data:image/png;base64,iVBORw0KGgoAAAANSUhEUgAAADsAAAAPBAMAAACo4Ko7AAAAMFBMVEX///92dnYiIiIQEBBERERU\n",
       "VFS6urqIiIjc3NxmZmaqqqru7u6YmJgyMjLMzMwAAADiRdoGAAAAAXRSTlMAQObYZgAAANtJREFU\n",
       "GNNjYACBtwwYgLskMoZDAMK+jyldfICBa/IBMJPn/gZ02S3aQGJ+A5i9C0ozHFFSUtIDsy6DNCRD\n",
       "RA/UJ4DpXgmYZs5fIPIlmM22YT3EEg242f0KIHIHmL2N4X0BWMsCuLR8AcIZCQz9E0A0E0JI/wGc\n",
       "yRc5M94BxGhFSNuDvQIm2BgYmC+APYOkG0RwgY0A2shkgGY42KeMIBYHUJr3A4jFiHBPP4gpDWI1\n",
       "ATHLD7DgLbg01x8GhpUgq7f8v83A5f8J7PStYfDA3ekamYARDw+dYIEKBQCOpjXOgAe5jAAAAABJ\n",
       "RU5ErkJggg==\n",
       "\" style=\"display:inline;vertical-align:middle;\" /></a></span></td></tr>\n",
       "<tr><td>&nbsp;</td><td colspan=4 style=\"text-align:left\"><span style=\"font-size:20px;\"><a class=\"ProveItLink\" href=\"../../../__pv_it/_proof_transitivity_subset_equal/f7c00ab253a0854833b7e2e433c52d2d5254155b0/expr.ipynb\"><img src=\"data:image/png;base64,iVBORw0KGgoAAAANSUhEUgAAADcAAAAUBAMAAADbzbjtAAAAMFBMVEX///8iIiLc3Ny6urqIiIiq\n",
       "qqp2dnbMzMwQEBDu7u5mZmYyMjJERERUVFSYmJgAAAA4CJ/KAAAAAXRSTlMAQObYZgAAAQ1JREFU\n",
       "KM9jYIADpgcMyCAITL79f/burgkMDHNQ5Bh4FcDUbwYGnk4Ghk2okpwbQCT7NwYG1i8MfAtQJRlS\n",
       "QATLZyD+xsCogCY5A0TwfABa8JlBEU2OgdsASPADDddfwOCF5O5lS4BuYAPZU5/AwCrGwHAOIWmh\n",
       "wA00jQ/kIv9raUuAPhFFuLOPgesA0JECQPb5CWChZrgk108GRgegL4C6GT4yoElyHGCYXwCRZP8F\n",
       "EUIYOz+BIR5IMQtAvAkCCAfND2C4zaoAdhD3T4hQFlySx4FPlg1odQID1/6/DmAhQ6BBZ4DgJAPn\n",
       "FXddZ6CuAoTnMIJvIhIbe8DDwCFsUQYDaJHNg2INWjJ5xMAAAHA6PhPQZp1jAAAAAElFTkSuQmCC\n",
       "\" style=\"display:inline;vertical-align:middle;\" /></a> : <a class=\"ProveItLink\" href=\"../../../__pv_it/_proof_transitivity_subset_equal/dfd3a813dc08409bd2918424903bcc571a8754b80/expr.ipynb\"><img src=\"data:image/png;base64,iVBORw0KGgoAAAANSUhEUgAAAEQAAAAPBAMAAACvonQuAAAAMFBMVEX///92dnYiIiIQEBBERERU\n",
       "VFS6urqIiIjc3NxmZmaqqqru7u6YmJgyMjLMzMwAAADiRdoGAAAAAXRSTlMAQObYZgAAAMdJREFU\n",
       "KM9jYACBtwwEwX2CKnjubyCkZNf8BgjjiJKSkh5WJQfqE8B0rwQuQ9g2rD8AZmhgSHVKFoPdsI3h\n",
       "fQGI5lyAodkC6pMEhv4JIJoJw5DNBximgGi+yJnxDiBGK4aS+RsY1MGmMTAwXwAxtmAoMWHg/gei\n",
       "gS5gMsBqEfdHBq4PQJoDqIQXxGBgLEBX8ouB9cIKBoYmIJvlB1joFrox7gyHAgQYtvy/zcDl/wns\n",
       "pa1hsIhIcQGCDQxby1+EJ6DqeuiEJQIA/I4ygRA7P+AAAAAASUVORK5CYII=\n",
       "\" style=\"display:inline;vertical-align:middle;\" /></a>, <a class=\"ProveItLink\" href=\"../../../../../../__pv_it/common/a0d9d672aa5e272d907247690c152cc2c6daafb70/expr.ipynb\"><img src=\"data:image/png;base64,iVBORw0KGgoAAAANSUhEUgAAAAsAAAAJBAMAAAAWSsseAAAALVBMVEX///9mZmaqqqrMzMxEREQy\n",
       "MjIiIiKYmJh2dna6urrc3NxUVFSIiIju7u4AAACJHQtQAAAAAXRSTlMAQObYZgAAAEJJREFUCNdj\n",
       "YLhzeuWJAwy8Dew5bAEMHBc43nIuYOBlYHFgAAG+A2DKzgBIMF04x8BzgWGegh/DcgaG22fuiBcw\n",
       "AAATyhBrnyPYZQAAAABJRU5ErkJggg==\n",
       "\" style=\"display:inline;vertical-align:middle;\" /></a> : <a class=\"ProveItLink\" href=\"../../../../../../__pv_it/common/a9162d1c3cc0470c02e5daf414500903a7a419230/expr.ipynb\"><img src=\"data:image/png;base64,iVBORw0KGgoAAAANSUhEUgAAABAAAAAOBAMAAADUAYG5AAAALVBMVEX///8yMjKqqqoiIiLu7u7c\n",
       "3NyIiIjMzMwQEBC6urpERERmZmZUVFSYmJgAAACsPVCVAAAAAXRSTlMAQObYZgAAAGxJREFUCNdj\n",
       "YGC48+70nlUTGICgi4GB+zmQZn/LwMD5Gshge8rAwPsMyOBqYGDwMAEy+A4wsNs4ABl1Z68tVgBp\n",
       "ygtgYOkBMVaAOCChNyBGAsQYhnMTIMawvwJyGIHGzFjCwMAj92b3qUUMDAAXABxvZ4rl5AAAAABJ\n",
       "RU5ErkJggg==\n",
       "\" style=\"display:inline;vertical-align:middle;\" /></a>, <a class=\"ProveItLink\" href=\"../../../../../../__pv_it/common/ff7dba4ef0bbe791ab573bf2d9c220a304399ac80/expr.ipynb\"><img src=\"data:image/png;base64,iVBORw0KGgoAAAANSUhEUgAAAAsAAAANBAMAAACN24kIAAAAMFBMVEX///8iIiKYmJhUVFTMzMxE\n",
       "REQyMjKqqqq6urp2dnYQEBDc3NxmZmaIiIju7u4AAACH5sGpAAAAAXRSTlMAQObYZgAAAFlJREFU\n",
       "CNdj4LtzgWHXAwZOjgUM9xkYtvMkMIQyMDzgusDwl4GBof8ByxcgdYyBdwGQCmZgNQBShxn6FYDU\n",
       "47vnNzAwgGUZGJgT+H4AKUYF1gtAiuPuESAJAJGkFvXVdzA+AAAAAElFTkSuQmCC\n",
       "\" style=\"display:inline;vertical-align:middle;\" /></a> : <a class=\"ProveItLink\" href=\"../../../../../../__pv_it/common/9fba9f29e823606ff4fdf2f1c6d5d08d906e850a0/expr.ipynb\"><img src=\"data:image/png;base64,iVBORw0KGgoAAAANSUhEUgAAAA8AAAAOBAMAAAACpFvcAAAAMFBMVEX////MzMy6uroyMjIiIiKq\n",
       "qqoQEBB2dnbc3NyYmJhmZmZUVFRERESIiIju7u4AAACOKgoaAAAAAXRSTlMAQObYZgAAAGRJREFU\n",
       "CNdjYGDgu7NrJ0cBAwPDtQkMrMsmMDC88QNy1jcwMJg9ADLUGBi4vgJpBikGhn4HEOMFA0P9BQYI\n",
       "8BeAMvJBahmAhD+IZhWAmMDADsT9IMV1INGfDAxRYHWvTu9SAFIARRcYB3lKsPwAAAAASUVORK5C\n",
       "YII=\n",
       "\" style=\"display:inline;vertical-align:middle;\" /></a></span></td></tr><tr><td><a name=\"0x2cfc4e36f47c348d_step2\">2</a></td><td>theorem</td><td></td><td><span style=\"font-size:20px;\"> <a class=\"ProveItLink\" href=\"../../../../../equality/_theory_nbs_/proofs/sub_right_side_into/thm_proof.ipynb\" style=\"text-decoration: none\">&nbsp;&#x22A2;&nbsp;&nbsp;</a><a class=\"ProveItLink\" href=\"../../../../../equality/__pv_it/theorems/7a9b2c4886327c7a880f6690c6b8bb5488c2412c0/expr.ipynb\"><img src=\"data:image/png;base64,iVBORw0KGgoAAAANSUhEUgAAAL4AAAAWBAMAAACMFTstAAAAMFBMVEX///8QEBCIiIhmZma6urrM\n",
       "zMxUVFQiIiJERETc3Nzu7u6qqqp2dnaYmJgyMjIAAAAcRTyBAAAAAXRSTlMAQObYZgAAAu1JREFU\n",
       "SMe1VU1oE1EQ/rrZ3WQ3aVo82kukoFCrlqKgIBIrqAel0YMnMaHYglJLD14sCkGhpIXa3OxFGlQE\n",
       "e7ABRfEW2oNQS4konlQW1INCbbCl2lp/Zt57m2yNCypxYDPzJvO+nTfzvVngf8h1qcJZwGHjVW1g\n",
       "X/wY7HmTA+y0cpwBnrD+UKO8vwOhjUA0q9Z3gTFSVro28MYa1eQT8Mx1RGKI0nki+drga0v00Dsu\n",
       "uA67EfUzExPXalSeUAkwl2D1lz1vgS+ZzMU/226J34R/QAORZbwNWhtwox0WdWIa6AaGAH20d/fZ\n",
       "qg26VIeXpwepjAWxuO+PnywgTLmGihS7Hxqd5jVwADZz9CnwuPrAUtU3ItIPU7IikPXF39E72055\n",
       "BPOw8vsQItY8pBU0eh966G8/fDPFyZxUPUv54o/mhKqLw8YGNMToRESeYpCdl4CMH36wyMl0K+d7\n",
       "X/zPcPGhryKZEPiWc4KzWoE2QC9rPs4wHSkMePAns9iSA7FiatfmBLaxS1hS3GAYiyodonvAwSYy\n",
       "D9EzdJo7udbKN7nFdM6TKqwajR78zqnZPLNOy/UF43jATGfLzJCMlIMF/cUuqncohUGI/uIe0zXi\n",
       "SPJFuRfWrX4t7cGfE1xKw8A8s4lTFZZkrRuM6Kq6tcTPQEr/RuZeZm2MkdoUhQU7AgUz5sG/IvC5\n",
       "ryv0nBK+lXLV3eDAwnJMspoStruaOeIds4+73qBGRFLcn2C8LuHB/yqqS0kaJQM4KFZkmR9J5svB\n",
       "FRHzgToAu3yTk5S3NWyV5lCwhhFMdHr4Y4hcKXY84kSAlxjLSUu1UwVXhOZbHybjYr6pybSwh3Ca\n",
       "7HNHWnNGE/Suqx787YuiaAO4/XxqBtiJY3lpqUuugj20zhLdL8v57JWwq+5gxMt/KVuVpnOvm7du\n",
       "cEXo+9LRzDUbWu9/5Kpe3anGV4twUXz3KuIGV38f638ZJUVXHZ1FNb4u/75J+9btcoP/QQK/OV7L\n",
       "XyH8BE6swAxF4PihAAAAAElFTkSuQmCC\n",
       "\" style=\"display:inline;vertical-align:middle;\" /></a></span></td></tr>\n",
       "<tr><td>&nbsp;</td><td colspan=4 style-\"text-align:left\"><a class=\"ProveItLink\" href=\"../../../../../equality/_theory_nbs_/proofs/sub_right_side_into/thm_proof.ipynb\">proveit.logic.equality.sub_right_side_into</a></td></tr><tr><td><a name=\"0x2cfc4e36f47c348d_step3\">3</a></td><td>assumption</td><td></td><td><span style=\"font-size:20px;\"><a class=\"ProveItLink\" href=\"../../../__pv_it/theorems/81f49a06ba9c23797bdfafb3065c419bc23ed9230/expr.ipynb\"><img src=\"data:image/png;base64,iVBORw0KGgoAAAANSUhEUgAAADsAAAAPBAMAAACo4Ko7AAAAMFBMVEX///92dnYiIiIQEBBERERU\n",
       "VFS6urqIiIjc3NxmZmaqqqru7u6YmJgyMjLMzMwAAADiRdoGAAAAAXRSTlMAQObYZgAAAO1JREFU\n",
       "GNNjYACBtwzogCf+68wQNyjnPoY0A7MDA8P8BxCl9zdgSL8/wMCQPwHM3DW/ASJ2RElJSQ/CrAcK\n",
       "nS8AMw/UJ4DpXgmEbmcGBm4jsKFsG9YfAAtpIBn+lYHhUTSYtY3hPdgUzgUIWb6vZ0q0IMwEhn6w\n",
       "G5iQNLP/YGDYHABWGDkz3gHEaEWSZjEAKvkFthroyQsgxhYkaX6gTvbvIBbQRiYDdMNB3mb9BmRw\n",
       "AKV5P4CEGAsQ0iBvvwdZ2QSy6QdY7BZC+jLQUhOgt7f8v83A5f8J7PStYbDAjf0fOdVlAXpAP3SC\n",
       "ByoEAACTQj18dtZaDQAAAABJRU5ErkJggg==\n",
       "\" style=\"display:inline;vertical-align:middle;\" /></a> <a class=\"ProveItLink\" href=\"../../../__pv_it/_proof_transitivity_subset_equal/4b01a0767344c7ced5782ca7f3a2b4796e1e524f0/proof.ipynb\" style=\"text-decoration: none\">&nbsp;&#x22A2;&nbsp;&nbsp;</a><a class=\"ProveItLink\" href=\"../../../__pv_it/theorems/81f49a06ba9c23797bdfafb3065c419bc23ed9230/expr.ipynb\"><img src=\"data:image/png;base64,iVBORw0KGgoAAAANSUhEUgAAADsAAAAPBAMAAACo4Ko7AAAAMFBMVEX///92dnYiIiIQEBBERERU\n",
       "VFS6urqIiIjc3NxmZmaqqqru7u6YmJgyMjLMzMwAAADiRdoGAAAAAXRSTlMAQObYZgAAAO1JREFU\n",
       "GNNjYACBtwzogCf+68wQNyjnPoY0A7MDA8P8BxCl9zdgSL8/wMCQPwHM3DW/ASJ2RElJSQ/CrAcK\n",
       "nS8AMw/UJ4DpXgmEbmcGBm4jsKFsG9YfAAtpIBn+lYHhUTSYtY3hPdgUzgUIWb6vZ0q0IMwEhn6w\n",
       "G5iQNLP/YGDYHABWGDkz3gHEaEWSZjEAKvkFthroyQsgxhYkaX6gTvbvIBbQRiYDdMNB3mb9BmRw\n",
       "AKV5P4CEGAsQ0iBvvwdZ2QSy6QdY7BZC+jLQUhOgt7f8v83A5f8J7PStYbDAjf0fOdVlAXpAP3SC\n",
       "ByoEAACTQj18dtZaDQAAAABJRU5ErkJggg==\n",
       "\" style=\"display:inline;vertical-align:middle;\" /></a></span></td></tr>\n",
       "<tr><td><a name=\"0x2cfc4e36f47c348d_step4\">4</a></td><td>assumption</td><td></td><td><span style=\"font-size:20px;\"><a class=\"ProveItLink\" href=\"../../../__pv_it/theorems/decac31b4597cfb516bcca9bd2fe8038edd99bc40/expr.ipynb\"><img src=\"data:image/png;base64,iVBORw0KGgoAAAANSUhEUgAAAD0AAAAOBAMAAABuognZAAAAMFBMVEX///92dnYyMjKqqqoiIiLu\n",
       "7u7c3NyIiIjMzMwQEBC6urpERERmZmZUVFSYmJgAAADEjrHzAAAAAXRSTlMAQObYZgAAANBJREFU\n",
       "GNNjYGB4+//O2d0LGNABa/Wde2wCINZsBgaeHxjylQ8YmE8+ADI4/jEwcP1Bl452BRLnE4AE+zcG\n",
       "Br7v6PKaAUBiJYjFPYGBIdIVTZrnM4jsARH8Fxg4fAPQ5PMdQGQYiOi/93yLAVhQSAkEdEBM+QK4\n",
       "0voEBta56Nb7N8CZO0FqDNDk54MtBBN/QfIF6PpBBHMD1PsM9xcg7NdlgPmckQHqfY7f6PbngwwU\n",
       "BbGYgN5fuRVdnhloqg3Iel79v2dub8YIfYaYvXdAdgIAMjE1zLn66vUAAAAASUVORK5CYII=\n",
       "\" style=\"display:inline;vertical-align:middle;\" /></a> <a class=\"ProveItLink\" href=\"../../../__pv_it/_proof_transitivity_subset_equal/95f5f3b4bab70205337ea00932cdb368f591c9e00/proof.ipynb\" style=\"text-decoration: none\">&nbsp;&#x22A2;&nbsp;&nbsp;</a><a class=\"ProveItLink\" href=\"../../../__pv_it/theorems/decac31b4597cfb516bcca9bd2fe8038edd99bc40/expr.ipynb\"><img src=\"data:image/png;base64,iVBORw0KGgoAAAANSUhEUgAAAD0AAAAOBAMAAABuognZAAAAMFBMVEX///92dnYyMjKqqqoiIiLu\n",
       "7u7c3NyIiIjMzMwQEBC6urpERERmZmZUVFSYmJgAAADEjrHzAAAAAXRSTlMAQObYZgAAANBJREFU\n",
       "GNNjYGB4+//O2d0LGNABa/Wde2wCINZsBgaeHxjylQ8YmE8+ADI4/jEwcP1Bl452BRLnE4AE+zcG\n",
       "Br7v6PKaAUBiJYjFPYGBIdIVTZrnM4jsARH8Fxg4fAPQ5PMdQGQYiOi/93yLAVhQSAkEdEBM+QK4\n",
       "0voEBta56Nb7N8CZO0FqDNDk54MtBBN/QfIF6PpBBHMD1PsM9xcg7NdlgPmckQHqfY7f6PbngwwU\n",
       "BbGYgN5fuRVdnhloqg3Iel79v2dub8YIfYaYvXdAdgIAMjE1zLn66vUAAAAASUVORK5CYII=\n",
       "\" style=\"display:inline;vertical-align:middle;\" /></a></span></td></tr>\n",
       "</table>"
      ],
      "text/plain": [
       "\tstep type\trequirements\tstatement\n",
       "0\tgeneralizaton\t1\t|- forall_{A, B, C | A proper_subset B, B = C} (A proper_subset C)\n",
       "1\tinstantiation\t2, 3, 4\t{A proper_subset B, B = C} |- A proper_subset C\n",
       "\tP(_a) : A proper_subset _a, x : B, y : C\n",
       "2\ttheorem\t\t|- forall_{P, x, y | P(x), x = y} P(y)\n",
       "\tproveit.logic.equality.sub_right_side_into\n",
       "3\tassumption\t\t{A proper_subset B} |- A proper_subset B\n",
       "4\tassumption\t\t{B = C} |- B = C"
      ]
     },
     "execution_count": 7,
     "metadata": {},
     "output_type": "execute_result"
    }
   ],
   "source": [
    "%qed"
   ]
  },
  {
   "cell_type": "code",
   "execution_count": null,
   "metadata": {},
   "outputs": [],
   "source": []
  }
 ],
 "metadata": {
  "kernelspec": {
   "display_name": "Python 3",
   "language": "python",
   "name": "python3"
  }
 },
 "nbformat": 4,
 "nbformat_minor": 0
}