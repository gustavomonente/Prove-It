{
 "cells": [
  {
   "cell_type": "markdown",
   "metadata": {},
   "source": [
    "Proof of <a class=\"ProveItLink\" href=\"../../../../../../_theory_nbs_/theory.ipynb\">proveit</a>.<a class=\"ProveItLink\" href=\"../../../../../_theory_nbs_/theory.ipynb\">logic</a>.<a class=\"ProveItLink\" href=\"../../../../_theory_nbs_/theory.ipynb\">sets</a>.<a class=\"ProveItLink\" href=\"../../theory.ipynb\">inclusion</a>.<a class=\"ProveItLink\" href=\"../../theorems.ipynb#transitivity_subset_eq_equal\">transitivity_subset_eq_equal</a> theorem\n",
    "========"
   ]
  },
  {
   "cell_type": "code",
   "execution_count": 1,
   "metadata": {},
   "outputs": [],
   "source": [
    "import proveit\n",
    "from proveit import defaults\n",
    "from proveit import A, B, C\n",
    "from proveit.logic import Equals, SubsetEq\n",
    "theory = proveit.Theory() # the theorem's theory"
   ]
  },
  {
   "cell_type": "code",
   "execution_count": 2,
   "metadata": {},
   "outputs": [
    {
     "data": {
      "text/html": [
       "Under these <a href=\"presumptions.txt\">presumptions</a>, we begin our proof of<br><strong id=\"transitivity_subset_eq_equal\">transitivity_subset_eq_equal:</strong> <a class=\"ProveItLink\" href=\"../../../__pv_it/theorems/bfee29b9c1bea06b0a932b4a8bb21fe5f1de51d20/expr.ipynb\"><img src=\"data:image/png;base64,iVBORw0KGgoAAAANSUhEUgAAAPcAAAAWBAMAAADuuhdHAAAAMFBMVEX///8QEBCIiIhmZma6urrM\n",
       "zMxUVFQiIiJERETc3Nzu7u6qqqp2dnaYmJgyMjIAAAAcRTyBAAAAAXRSTlMAQObYZgAAA2ZJREFU\n",
       "SMe1Vl1IVFEQ/tof897dq70XtT31A6Uh2A+SVi8RhGbgUw+CBr4EWxJbkbhB2RbFbi8lRO2GkCb9\n",
       "LPhS9NBmUGpRt4IwotrqKaMSTTLLas6cc+/eXTOD1oF7Zs6dOeebM3dmzgVmi87NoL9BT1oIL/OP\n",
       "rYeZedN/UC1t2KWlCmLAfTEdyj94UUyyYTV/FgqF9kpxsQnfKlMnt9pppoXzD/5UslcTkp/vtzVd\n",
       "B2iojKGXXEsA/mT+wffLCPd8k9P3Gc0bQsQG4AJgDHR3n8k/thZkZri+MHdnjuf+LsbtdOwqYDwS\n",
       "OZh/cFcpsy2+SeZzM5o4u3WJ4k0mO4Fj/FaOm0fvNMlcMdoqXELyWMsKY5bkiVaU55oLGmxILVO2\n",
       "Jke9yjvC09MZ8EcBJRiUcZugczkYMkDGPPjnceDeQj/E+1jLXlOcLkcibSQ+Bm5nm3NWBdClJnM5\n",
       "zh5oozLJMuCtNUrwBUVEXOxlhwyQux4+ztA4QQ06wfVKE94jUi4HbiWyzIW75L6hCmdOlRjrysrH\n",
       "c8O+iNfR4KUq9JtSM9AszQJwcyREItQ6wf2dpba8B1ifbS7kFO0YcILTsFCuDWROzqeukeBauo5b\n",
       "USDCums1WCl8c4nzdDvBawvDuKmCMAbXUJa5oBIS9IQj7D56dsv5Bxu8UqSIX3wTkXnHGsW7Aqxm\n",
       "XfWKpfW82m48Fni9O4i1KuFGnrQhY14QITqJfY5s54Q7S89nOb/YaLkYF0EYUAmHHs79Fyhh3UNg\n",
       "ieDFqRxwI+kahupT/jRcwSxzQT8c4KKOuNajqhZ2HFXtVRRfj/DELRCKhSv6uwdR9u0E+ZZUH1A3\n",
       "HeBXK/omsFH5k4LGvcI2t7LkilWMQejRnwlc/9Wc2wI62ho4IYpE2hvsRgJxrgHas1o46w7LL2OD\n",
       "r4M2ZpV6cRIe2TfZvOAT0UesoXkqu73+jTptaSvtaGrHoU1AW0DXTQIt0Psd4B6KwiT0k4weT+AU\n",
       "Hd42V0lm4nIs52L5C/Xa33UcWrTFOx/3RsuaKCjbkvA39CYc4NEw2r/SXdhHTcbfWlZ+mArENld0\n",
       "t2I5prZDToFQKHOlqorJvel9tuS45wqn9d0388/E9JTtnfq1kdvG/gX8xv/8Rj3PfWFagoE/g7eL\n",
       "ip5qPnvknrWdfwNnq+25cPMBDQAAAABJRU5ErkJggg==\n",
       "\" style=\"display:inline;vertical-align:middle;\" /></a><br>(see <a class=\"ProveItLink\" href=\"../../../__pv_it/theorems/ad29a16f62bc42c3ab7848cd47277f2f538dd6f70/dependencies.ipynb\">dependencies</a>)<br>"
      ],
      "text/plain": [
       "transitivity_subset_eq_equal: forall_{A, B, C | A subseteq B, B = C} (A subseteq C)"
      ]
     },
     "execution_count": 2,
     "metadata": {},
     "output_type": "execute_result"
    }
   ],
   "source": [
    "%proving transitivity_subset_eq_equal"
   ]
  },
  {
   "cell_type": "code",
   "execution_count": 3,
   "metadata": {},
   "outputs": [
    {
     "data": {
      "text/html": [
       "<strong id=\"defaults.assumptions\">defaults.assumptions:</strong> <a class=\"ProveItLink\" href=\"../../../__pv_it/theorems/20b30a1f76b8fce4b14bcc1e84f8baa39bc545780/expr.ipynb\"><img src=\"data:image/png;base64,iVBORw0KGgoAAAANSUhEUgAAAI4AAAAUBAMAAACpLhgeAAAAMFBMVEX///9UVFTMzMx2dna6uroQ\n",
       "EBCqqqqIiIgiIiJmZmYyMjJERETu7u6YmJjc3NwAAAC+aOQFAAAAAXRSTlMAQObYZgAAAd5JREFU\n",
       "OMtjYOC7wEApYHsAJE5D2FoYsrzyH2dKb8HGQQCeaklZPgMGOSBzHURkPVTmYkdHRxOEybqBgWG+\n",
       "AgMWDhyUXmBgm3qB4RTQogkQ+9YfANOv7BCK9IE+9p+AjQMDp3uAxPwHDMwFDBwPwCLH5kPodUiq\n",
       "6oFC9wuwcWBgKchyV6D3AhheQEQu1DuAKM4EJFVbgQoiDmDjQAHnNxCpCcRLGCrBIiwH8sHRxoGs\n",
       "7CMDg4YMVg4UvG8AkeeA2JJhL1jkCIM+2M0PkVQxfbxb3YbJsVoFAitBTHu4P28xQCQdGN6Dw/A0\n",
       "kjns/xgYjgpg48BAPzz+MhhCwLZJzpTfgO4v7gCg9m/YODAQDw4vEKEPMYcFmD4WgBjMSDHCD7Se\n",
       "/Ts2Dtw94MSsADYH7C9gLHEEgKWWoSYfxi8YHEj4LGSApByg1SCWBzic+YDmcH0Aqz8ocgA5+ehv\n",
       "wMaBxxfI9TaQcLYEkqA0xP0PIqe8A5YvlgL9G32AgecXEgctf/5lYMgEC04Guojh9P81DGz7f6Al\n",
       "eqn/khN3g5JlxwEkDio4uVESnHwZFsHyBb5S4QDBgoOnAZZP8QBmwgUQKJr3oQh0dCDKDSg4Ttic\n",
       "U2hJGCsgorwEuYUK5SrvAwYAKyKX9mbcq0YAAAAASUVORK5CYII=\n",
       "\" style=\"display:inline;vertical-align:middle;\" /></a><br>"
      ],
      "text/plain": [
       "defaults.assumptions: (A subseteq B, B = C)"
      ]
     },
     "execution_count": 3,
     "metadata": {},
     "output_type": "execute_result"
    }
   ],
   "source": [
    "defaults.assumptions = transitivity_subset_eq_equal.all_conditions()"
   ]
  },
  {
   "cell_type": "code",
   "execution_count": 4,
   "metadata": {},
   "outputs": [
    {
     "data": {
      "text/html": [
       "<strong id=\"A_subset_eq_B\">A_subset_eq_B:</strong> <span style=\"font-size:20px;\"><a class=\"ProveItLink\" href=\"../../../__pv_it/theorems/288bdfb6b256f35e627359603e28f6025e9822ce0/expr.ipynb\"><img src=\"data:image/png;base64,iVBORw0KGgoAAAANSUhEUgAAADsAAAARBAMAAACRPMnQAAAAMFBMVEX///92dnYiIiIQEBBERERU\n",
       "VFS6urqIiIjc3NxmZmaqqqru7u6YmJgyMjLMzMwAAADiRdoGAAAAAXRSTlMAQObYZgAAAO9JREFU\n",
       "KM9jYACBtwzogCf+68wQNyjnPpQ+qqSkpAdhMjswMMx/AFF6fwOY7pVAaH9/gIEhfwKYuWt+A5i+\n",
       "gWR6PVDofAGYeaA+AURxLkCSdmZg4DYCG8q2Yf0BEM2E7LavDAyPosGsbQzvwaa0IsnyfT1TogVh\n",
       "JjD0g92wBUma/QcDw+YAsMLImfEO6IazGACV/AJbDfTkBRCDsQAhzQ/Uyf4dxAK6l8kALHYL1dus\n",
       "34AMDqA07wew2NawDcjefg+ysglk0w+I4EMnWKBeBlpqAlS85f9tBi7/TxNQYyT2f+RUlwUMVASM\n",
       "SkqICIUAAMDnPwbFfXt4AAAAAElFTkSuQmCC\n",
       "\" style=\"display:inline;vertical-align:middle;\" /></a> <a class=\"ProveItLink\" href=\"../../../__pv_it/_proof_transitivity_subset_eq_equal/13abfef09a74244dfc3658fb98be891abb9ca35b0/proof.ipynb\" style=\"text-decoration: none\">&nbsp;&#x22A2;&nbsp;&nbsp;</a><a class=\"ProveItLink\" href=\"../../../__pv_it/theorems/288bdfb6b256f35e627359603e28f6025e9822ce0/expr.ipynb\"><img src=\"data:image/png;base64,iVBORw0KGgoAAAANSUhEUgAAADsAAAARBAMAAACRPMnQAAAAMFBMVEX///92dnYiIiIQEBBERERU\n",
       "VFS6urqIiIjc3NxmZmaqqqru7u6YmJgyMjLMzMwAAADiRdoGAAAAAXRSTlMAQObYZgAAAO9JREFU\n",
       "KM9jYACBtwzogCf+68wQNyjnPpQ+qqSkpAdhMjswMMx/AFF6fwOY7pVAaH9/gIEhfwKYuWt+A5i+\n",
       "gWR6PVDofAGYeaA+AURxLkCSdmZg4DYCG8q2Yf0BEM2E7LavDAyPosGsbQzvwaa0IsnyfT1TogVh\n",
       "JjD0g92wBUma/QcDw+YAsMLImfEO6IazGACV/AJbDfTkBRCDsQAhzQ/Uyf4dxAK6l8kALHYL1dus\n",
       "34AMDqA07wew2NawDcjefg+ysglk0w+I4EMnWKBeBlpqAlS85f9tBi7/TxNQYyT2f+RUlwUMVASM\n",
       "SkqICIUAAMDnPwbFfXt4AAAAAElFTkSuQmCC\n",
       "\" style=\"display:inline;vertical-align:middle;\" /></a></span><br>"
      ],
      "text/plain": [
       "A_subset_eq_B: {A subseteq B} |- A subseteq B"
      ]
     },
     "execution_count": 4,
     "metadata": {},
     "output_type": "execute_result"
    }
   ],
   "source": [
    "A_subset_eq_B = SubsetEq(A, B).prove()"
   ]
  },
  {
   "cell_type": "code",
   "execution_count": 5,
   "metadata": {},
   "outputs": [
    {
     "data": {
      "text/html": [
       "<strong id=\"B_equals_C\">B_equals_C:</strong> <span style=\"font-size:20px;\"><a class=\"ProveItLink\" href=\"../../../__pv_it/theorems/decac31b4597cfb516bcca9bd2fe8038edd99bc40/expr.ipynb\"><img src=\"data:image/png;base64,iVBORw0KGgoAAAANSUhEUgAAAD0AAAAOBAMAAABuognZAAAAMFBMVEX///92dnYyMjKqqqoiIiLu\n",
       "7u7c3NyIiIjMzMwQEBC6urpERERmZmZUVFSYmJgAAADEjrHzAAAAAXRSTlMAQObYZgAAANBJREFU\n",
       "GNNjYGB4+//O2d0LGNABa/Wde2wCINZsBgaeHxjylQ8YmE8+ADI4/jEwcP1Bl452BRLnE4AE+zcG\n",
       "Br7v6PKaAUBiJYjFPYGBIdIVTZrnM4jsARH8Fxg4fAPQ5PMdQGQYiOi/93yLAVhQSAkEdEBM+QK4\n",
       "0voEBta56Nb7N8CZO0FqDNDk54MtBBN/QfIF6PpBBHMD1PsM9xcg7NdlgPmckQHqfY7f6PbngwwU\n",
       "BbGYgN5fuRVdnhloqg3Iel79v2dub8YIfYaYvXdAdgIAMjE1zLn66vUAAAAASUVORK5CYII=\n",
       "\" style=\"display:inline;vertical-align:middle;\" /></a> <a class=\"ProveItLink\" href=\"../../../__pv_it/_proof_transitivity_subset_eq_equal/95f5f3b4bab70205337ea00932cdb368f591c9e00/proof.ipynb\" style=\"text-decoration: none\">&nbsp;&#x22A2;&nbsp;&nbsp;</a><a class=\"ProveItLink\" href=\"../../../__pv_it/theorems/decac31b4597cfb516bcca9bd2fe8038edd99bc40/expr.ipynb\"><img src=\"data:image/png;base64,iVBORw0KGgoAAAANSUhEUgAAAD0AAAAOBAMAAABuognZAAAAMFBMVEX///92dnYyMjKqqqoiIiLu\n",
       "7u7c3NyIiIjMzMwQEBC6urpERERmZmZUVFSYmJgAAADEjrHzAAAAAXRSTlMAQObYZgAAANBJREFU\n",
       "GNNjYGB4+//O2d0LGNABa/Wde2wCINZsBgaeHxjylQ8YmE8+ADI4/jEwcP1Bl452BRLnE4AE+zcG\n",
       "Br7v6PKaAUBiJYjFPYGBIdIVTZrnM4jsARH8Fxg4fAPQ5PMdQGQYiOi/93yLAVhQSAkEdEBM+QK4\n",
       "0voEBta56Nb7N8CZO0FqDNDk54MtBBN/QfIF6PpBBHMD1PsM9xcg7NdlgPmckQHqfY7f6PbngwwU\n",
       "BbGYgN5fuRVdnhloqg3Iel79v2dub8YIfYaYvXdAdgIAMjE1zLn66vUAAAAASUVORK5CYII=\n",
       "\" style=\"display:inline;vertical-align:middle;\" /></a></span><br>"
      ],
      "text/plain": [
       "B_equals_C: {B = C} |- B = C"
      ]
     },
     "execution_count": 5,
     "metadata": {},
     "output_type": "execute_result"
    }
   ],
   "source": [
    "B_equals_C = Equals(B, C).prove()"
   ]
  },
  {
   "cell_type": "code",
   "execution_count": 6,
   "metadata": {},
   "outputs": [
    {
     "data": {
      "text/html": [
       "<span style=\"font-size:20px;\"><a class=\"ProveItLink\" href=\"../../../__pv_it/theorems/288bdfb6b256f35e627359603e28f6025e9822ce0/expr.ipynb\"><img src=\"data:image/png;base64,iVBORw0KGgoAAAANSUhEUgAAADsAAAARBAMAAACRPMnQAAAAMFBMVEX///92dnYiIiIQEBBERERU\n",
       "VFS6urqIiIjc3NxmZmaqqqru7u6YmJgyMjLMzMwAAADiRdoGAAAAAXRSTlMAQObYZgAAAO9JREFU\n",
       "KM9jYACBtwzogCf+68wQNyjnPpQ+qqSkpAdhMjswMMx/AFF6fwOY7pVAaH9/gIEhfwKYuWt+A5i+\n",
       "gWR6PVDofAGYeaA+AURxLkCSdmZg4DYCG8q2Yf0BEM2E7LavDAyPosGsbQzvwaa0IsnyfT1TogVh\n",
       "JjD0g92wBUma/QcDw+YAsMLImfEO6IazGACV/AJbDfTkBRCDsQAhzQ/Uyf4dxAK6l8kALHYL1dus\n",
       "34AMDqA07wew2NawDcjefg+ysglk0w+I4EMnWKBeBlpqAlS85f9tBi7/TxNQYyT2f+RUlwUMVASM\n",
       "SkqICIUAAMDnPwbFfXt4AAAAAElFTkSuQmCC\n",
       "\" style=\"display:inline;vertical-align:middle;\" /></a>, <a class=\"ProveItLink\" href=\"../../../__pv_it/theorems/decac31b4597cfb516bcca9bd2fe8038edd99bc40/expr.ipynb\"><img src=\"data:image/png;base64,iVBORw0KGgoAAAANSUhEUgAAAD0AAAAOBAMAAABuognZAAAAMFBMVEX///92dnYyMjKqqqoiIiLu\n",
       "7u7c3NyIiIjMzMwQEBC6urpERERmZmZUVFSYmJgAAADEjrHzAAAAAXRSTlMAQObYZgAAANBJREFU\n",
       "GNNjYGB4+//O2d0LGNABa/Wde2wCINZsBgaeHxjylQ8YmE8+ADI4/jEwcP1Bl452BRLnE4AE+zcG\n",
       "Br7v6PKaAUBiJYjFPYGBIdIVTZrnM4jsARH8Fxg4fAPQ5PMdQGQYiOi/93yLAVhQSAkEdEBM+QK4\n",
       "0voEBta56Nb7N8CZO0FqDNDk54MtBBN/QfIF6PpBBHMD1PsM9xcg7NdlgPmckQHqfY7f6PbngwwU\n",
       "BbGYgN5fuRVdnhloqg3Iel79v2dub8YIfYaYvXdAdgIAMjE1zLn66vUAAAAASUVORK5CYII=\n",
       "\" style=\"display:inline;vertical-align:middle;\" /></a> <a class=\"ProveItLink\" href=\"../../../__pv_it/_proof_transitivity_subset_eq_equal/91ff0e0858d9cb86ee7114c4740d932c12fe69870/proof.ipynb\" style=\"text-decoration: none\">&nbsp;&#x22A2;&nbsp;&nbsp;</a><a class=\"ProveItLink\" href=\"../../../__pv_it/theorems/f2aa334591d158c6c8bf36606d47cf73c05cca490/expr.ipynb\"><img src=\"data:image/png;base64,iVBORw0KGgoAAAANSUhEUgAAADsAAAARBAMAAACRPMnQAAAAMFBMVEX///92dnYiIiIQEBBERERU\n",
       "VFS6urqIiIjc3NxmZmaqqqru7u6YmJgyMjLMzMwAAADiRdoGAAAAAXRSTlMAQObYZgAAAONJREFU\n",
       "KM9jYACBtwwYgLskMoZDAMK+DxU7qqSkpAdhFh9g4Jp8AMzkub8BTPdKwDVv0QYS8xvA7F1Q+gbC\n",
       "7MsgDckQ9oH6BBDFuQAuy/kLRL4Es9k2rAdbwoTQ3K8AIneA2dsY3heA6FaEtHwBgp3A0D8B7ByE\n",
       "kP4DOJMvcma8A5rh9mCvgAk2BgbmCyAGI8JEfRDBBTYC6F4mA7DgLbg02KeMIBYHUJr3A1hwa9gG\n",
       "mMtBBkmDWE1AzPIDIvrQCRqoXH8YGFaC1G75f5uBy//TBLQY2ekamcBATcCopISIUAgAAOAJN1hw\n",
       "1nLzAAAAAElFTkSuQmCC\n",
       "\" style=\"display:inline;vertical-align:middle;\" /></a></span>"
      ],
      "text/plain": [
       "{A subseteq B, B = C} |- A subseteq C"
      ]
     },
     "execution_count": 6,
     "metadata": {},
     "output_type": "execute_result"
    }
   ],
   "source": [
    "B_equals_C.sub_right_side_into(A_subset_eq_B)"
   ]
  },
  {
   "cell_type": "code",
   "execution_count": 7,
   "metadata": {},
   "outputs": [
    {
     "data": {
      "text/html": [
       "<table><tr><th>&nbsp;</th><th>step type</th><th>requirements</th><th>statement</th></tr>\n",
       "<tr><td><a name=\"0x546190ebd583221f_step0\">0</a></td><td>generalizaton</td><td><a href=\"#0x546190ebd583221f_step1\">1</a></td><td><span style=\"font-size:20px;\"> <a class=\"ProveItLink\" href=\"../../../__pv_it/_proof_transitivity_subset_eq_equal/d7fba21b64aa560d15408c74fa2f4e9f772133be0/proof.ipynb\" style=\"text-decoration: none\">&nbsp;&#x22A2;&nbsp;&nbsp;</a><a class=\"ProveItLink\" href=\"../../../__pv_it/theorems/bfee29b9c1bea06b0a932b4a8bb21fe5f1de51d20/expr.ipynb\"><img src=\"data:image/png;base64,iVBORw0KGgoAAAANSUhEUgAAAPcAAAAWBAMAAADuuhdHAAAAMFBMVEX///8QEBCIiIhmZma6urrM\n",
       "zMxUVFQiIiJERETc3Nzu7u6qqqp2dnaYmJgyMjIAAAAcRTyBAAAAAXRSTlMAQObYZgAAA2ZJREFU\n",
       "SMe1Vl1IVFEQ/tof897dq70XtT31A6Uh2A+SVi8RhGbgUw+CBr4EWxJbkbhB2RbFbi8lRO2GkCb9\n",
       "LPhS9NBmUGpRt4IwotrqKaMSTTLLas6cc+/eXTOD1oF7Zs6dOeebM3dmzgVmi87NoL9BT1oIL/OP\n",
       "rYeZedN/UC1t2KWlCmLAfTEdyj94UUyyYTV/FgqF9kpxsQnfKlMnt9pppoXzD/5UslcTkp/vtzVd\n",
       "B2iojKGXXEsA/mT+wffLCPd8k9P3Gc0bQsQG4AJgDHR3n8k/thZkZri+MHdnjuf+LsbtdOwqYDwS\n",
       "OZh/cFcpsy2+SeZzM5o4u3WJ4k0mO4Fj/FaOm0fvNMlcMdoqXELyWMsKY5bkiVaU55oLGmxILVO2\n",
       "Jke9yjvC09MZ8EcBJRiUcZugczkYMkDGPPjnceDeQj/E+1jLXlOcLkcibSQ+Bm5nm3NWBdClJnM5\n",
       "zh5oozLJMuCtNUrwBUVEXOxlhwyQux4+ztA4QQ06wfVKE94jUi4HbiWyzIW75L6hCmdOlRjrysrH\n",
       "c8O+iNfR4KUq9JtSM9AszQJwcyREItQ6wf2dpba8B1ifbS7kFO0YcILTsFCuDWROzqeukeBauo5b\n",
       "USDCums1WCl8c4nzdDvBawvDuKmCMAbXUJa5oBIS9IQj7D56dsv5Bxu8UqSIX3wTkXnHGsW7Aqxm\n",
       "XfWKpfW82m48Fni9O4i1KuFGnrQhY14QITqJfY5s54Q7S89nOb/YaLkYF0EYUAmHHs79Fyhh3UNg\n",
       "ieDFqRxwI+kahupT/jRcwSxzQT8c4KKOuNajqhZ2HFXtVRRfj/DELRCKhSv6uwdR9u0E+ZZUH1A3\n",
       "HeBXK/omsFH5k4LGvcI2t7LkilWMQejRnwlc/9Wc2wI62ho4IYpE2hvsRgJxrgHas1o46w7LL2OD\n",
       "r4M2ZpV6cRIe2TfZvOAT0UesoXkqu73+jTptaSvtaGrHoU1AW0DXTQIt0Psd4B6KwiT0k4weT+AU\n",
       "Hd42V0lm4nIs52L5C/Xa33UcWrTFOx/3RsuaKCjbkvA39CYc4NEw2r/SXdhHTcbfWlZ+mArENld0\n",
       "t2I5prZDToFQKHOlqorJvel9tuS45wqn9d0388/E9JTtnfq1kdvG/gX8xv/8Rj3PfWFagoE/g7eL\n",
       "ip5qPnvknrWdfwNnq+25cPMBDQAAAABJRU5ErkJggg==\n",
       "\" style=\"display:inline;vertical-align:middle;\" /></a></span></td></tr>\n",
       "<tr><td><a name=\"0x546190ebd583221f_step1\">1</a></td><td>instantiation</td><td><a href=\"#0x546190ebd583221f_step2\">2</a>, <a href=\"#0x546190ebd583221f_step3\">3</a>, <a href=\"#0x546190ebd583221f_step4\">4</a></td><td><span style=\"font-size:20px;\"><a class=\"ProveItLink\" href=\"../../../__pv_it/theorems/288bdfb6b256f35e627359603e28f6025e9822ce0/expr.ipynb\"><img src=\"data:image/png;base64,iVBORw0KGgoAAAANSUhEUgAAADsAAAARBAMAAACRPMnQAAAAMFBMVEX///92dnYiIiIQEBBERERU\n",
       "VFS6urqIiIjc3NxmZmaqqqru7u6YmJgyMjLMzMwAAADiRdoGAAAAAXRSTlMAQObYZgAAAO9JREFU\n",
       "KM9jYACBtwzogCf+68wQNyjnPpQ+qqSkpAdhMjswMMx/AFF6fwOY7pVAaH9/gIEhfwKYuWt+A5i+\n",
       "gWR6PVDofAGYeaA+AURxLkCSdmZg4DYCG8q2Yf0BEM2E7LavDAyPosGsbQzvwaa0IsnyfT1TogVh\n",
       "JjD0g92wBUma/QcDw+YAsMLImfEO6IazGACV/AJbDfTkBRCDsQAhzQ/Uyf4dxAK6l8kALHYL1dus\n",
       "34AMDqA07wew2NawDcjefg+ysglk0w+I4EMnWKBeBlpqAlS85f9tBi7/TxNQYyT2f+RUlwUMVASM\n",
       "SkqICIUAAMDnPwbFfXt4AAAAAElFTkSuQmCC\n",
       "\" style=\"display:inline;vertical-align:middle;\" /></a>, <a class=\"ProveItLink\" href=\"../../../__pv_it/theorems/decac31b4597cfb516bcca9bd2fe8038edd99bc40/expr.ipynb\"><img src=\"data:image/png;base64,iVBORw0KGgoAAAANSUhEUgAAAD0AAAAOBAMAAABuognZAAAAMFBMVEX///92dnYyMjKqqqoiIiLu\n",
       "7u7c3NyIiIjMzMwQEBC6urpERERmZmZUVFSYmJgAAADEjrHzAAAAAXRSTlMAQObYZgAAANBJREFU\n",
       "GNNjYGB4+//O2d0LGNABa/Wde2wCINZsBgaeHxjylQ8YmE8+ADI4/jEwcP1Bl452BRLnE4AE+zcG\n",
       "Br7v6PKaAUBiJYjFPYGBIdIVTZrnM4jsARH8Fxg4fAPQ5PMdQGQYiOi/93yLAVhQSAkEdEBM+QK4\n",
       "0voEBta56Nb7N8CZO0FqDNDk54MtBBN/QfIF6PpBBHMD1PsM9xcg7NdlgPmckQHqfY7f6PbngwwU\n",
       "BbGYgN5fuRVdnhloqg3Iel79v2dub8YIfYaYvXdAdgIAMjE1zLn66vUAAAAASUVORK5CYII=\n",
       "\" style=\"display:inline;vertical-align:middle;\" /></a> <a class=\"ProveItLink\" href=\"../../../__pv_it/_proof_transitivity_subset_eq_equal/91ff0e0858d9cb86ee7114c4740d932c12fe69870/proof.ipynb\" style=\"text-decoration: none\">&nbsp;&#x22A2;&nbsp;&nbsp;</a><a class=\"ProveItLink\" href=\"../../../__pv_it/theorems/f2aa334591d158c6c8bf36606d47cf73c05cca490/expr.ipynb\"><img src=\"data:image/png;base64,iVBORw0KGgoAAAANSUhEUgAAADsAAAARBAMAAACRPMnQAAAAMFBMVEX///92dnYiIiIQEBBERERU\n",
       "VFS6urqIiIjc3NxmZmaqqqru7u6YmJgyMjLMzMwAAADiRdoGAAAAAXRSTlMAQObYZgAAAONJREFU\n",
       "KM9jYACBtwwYgLskMoZDAMK+DxU7qqSkpAdhFh9g4Jp8AMzkub8BTPdKwDVv0QYS8xvA7F1Q+gbC\n",
       "7MsgDckQ9oH6BBDFuQAuy/kLRL4Es9k2rAdbwoTQ3K8AIneA2dsY3heA6FaEtHwBgp3A0D8B7ByE\n",
       "kP4DOJMvcma8A5rh9mCvgAk2BgbmCyAGI8JEfRDBBTYC6F4mA7DgLbg02KeMIBYHUJr3A1hwa9gG\n",
       "mMtBBkmDWE1AzPIDIvrQCRqoXH8YGFaC1G75f5uBy//TBLQY2ekamcBATcCopISIUAgAAOAJN1hw\n",
       "1nLzAAAAAElFTkSuQmCC\n",
       "\" style=\"display:inline;vertical-align:middle;\" /></a></span></td></tr>\n",
       "<tr><td>&nbsp;</td><td colspan=4 style=\"text-align:left\"><span style=\"font-size:20px;\"><a class=\"ProveItLink\" href=\"../../../__pv_it/_proof_transitivity_subset_eq_equal/f7c00ab253a0854833b7e2e433c52d2d5254155b0/expr.ipynb\"><img src=\"data:image/png;base64,iVBORw0KGgoAAAANSUhEUgAAADcAAAAUBAMAAADbzbjtAAAAMFBMVEX///8iIiLc3Ny6urqIiIiq\n",
       "qqp2dnbMzMwQEBDu7u5mZmYyMjJERERUVFSYmJgAAAA4CJ/KAAAAAXRSTlMAQObYZgAAAQ1JREFU\n",
       "KM9jYIADpgcMyCAITL79f/burgkMDHNQ5Bh4FcDUbwYGnk4Ghk2okpwbQCT7NwYG1i8MfAtQJRlS\n",
       "QATLZyD+xsCogCY5A0TwfABa8JlBEU2OgdsASPADDddfwOCF5O5lS4BuYAPZU5/AwCrGwHAOIWmh\n",
       "wA00jQ/kIv9raUuAPhFFuLOPgesA0JECQPb5CWChZrgk108GRgegL4C6GT4yoElyHGCYXwCRZP8F\n",
       "EUIYOz+BIR5IMQtAvAkCCAfND2C4zaoAdhD3T4hQFlySx4FPlg1odQID1/6/DmAhQ6BBZ4DgJAPn\n",
       "FXddZ6CuAoTnMIJvIhIbe8DDwCFsUQYDaJHNg2INWjJ5xMAAAHA6PhPQZp1jAAAAAElFTkSuQmCC\n",
       "\" style=\"display:inline;vertical-align:middle;\" /></a> : <a class=\"ProveItLink\" href=\"../../../__pv_it/_proof_transitivity_subset_eq_equal/4c09c446f2014ef3d38df4801f5d3bb328b34aec0/expr.ipynb\"><img src=\"data:image/png;base64,iVBORw0KGgoAAAANSUhEUgAAAEQAAAARBAMAAACWfhfFAAAAMFBMVEX///92dnYiIiIQEBBERERU\n",
       "VFS6urqIiIjc3NxmZmaqqqru7u6YmJgyMjLMzMwAAADiRdoGAAAAAXRSTlMAQObYZgAAAM9JREFU\n",
       "KM9jYACBtwwEwX0ofVRJSUkPqwqe+xvAdK8ETkN2zW8A0zdw23OgPgFEcS7AqYJtw/oDIJoJU6pT\n",
       "shjshm0M7wtAdCumZguoTxIY+ieA6C0YSjYfYJgCovkiZ8Y7YLdo/gYGdbBpDAzMF0AMxgJ0JSYM\n",
       "3P9ANNAfTAZgkVtoKrg/MnB9ANIcQCW8H8BCW8M2oCr5xcB6YQUDQxOQzfIDIvbQCTUC3BkOBQgw\n",
       "bPl/m4HL/9MEVCtSXIBgA8PW8hfhCQxUB4xKStgSAwCExTQLNgvWDAAAAABJRU5ErkJggg==\n",
       "\" style=\"display:inline;vertical-align:middle;\" /></a>, <a class=\"ProveItLink\" href=\"../../../../../../__pv_it/common/a0d9d672aa5e272d907247690c152cc2c6daafb70/expr.ipynb\"><img src=\"data:image/png;base64,iVBORw0KGgoAAAANSUhEUgAAAAsAAAAJBAMAAAAWSsseAAAALVBMVEX///9mZmaqqqrMzMxEREQy\n",
       "MjIiIiKYmJh2dna6urrc3NxUVFSIiIju7u4AAACJHQtQAAAAAXRSTlMAQObYZgAAAEJJREFUCNdj\n",
       "YLhzeuWJAwy8Dew5bAEMHBc43nIuYOBlYHFgAAG+A2DKzgBIMF04x8BzgWGegh/DcgaG22fuiBcw\n",
       "AAATyhBrnyPYZQAAAABJRU5ErkJggg==\n",
       "\" style=\"display:inline;vertical-align:middle;\" /></a> : <a class=\"ProveItLink\" href=\"../../../../../../__pv_it/common/a9162d1c3cc0470c02e5daf414500903a7a419230/expr.ipynb\"><img src=\"data:image/png;base64,iVBORw0KGgoAAAANSUhEUgAAABAAAAAOBAMAAADUAYG5AAAALVBMVEX///8yMjKqqqoiIiLu7u7c\n",
       "3NyIiIjMzMwQEBC6urpERERmZmZUVFSYmJgAAACsPVCVAAAAAXRSTlMAQObYZgAAAGxJREFUCNdj\n",
       "YGC48+70nlUTGICgi4GB+zmQZn/LwMD5Gshge8rAwPsMyOBqYGDwMAEy+A4wsNs4ABl1Z68tVgBp\n",
       "ygtgYOkBMVaAOCChNyBGAsQYhnMTIMawvwJyGIHGzFjCwMAj92b3qUUMDAAXABxvZ4rl5AAAAABJ\n",
       "RU5ErkJggg==\n",
       "\" style=\"display:inline;vertical-align:middle;\" /></a>, <a class=\"ProveItLink\" href=\"../../../../../../__pv_it/common/ff7dba4ef0bbe791ab573bf2d9c220a304399ac80/expr.ipynb\"><img src=\"data:image/png;base64,iVBORw0KGgoAAAANSUhEUgAAAAsAAAANBAMAAACN24kIAAAAMFBMVEX///8iIiKYmJhUVFTMzMxE\n",
       "REQyMjKqqqq6urp2dnYQEBDc3NxmZmaIiIju7u4AAACH5sGpAAAAAXRSTlMAQObYZgAAAFlJREFU\n",
       "CNdj4LtzgWHXAwZOjgUM9xkYtvMkMIQyMDzgusDwl4GBof8ByxcgdYyBdwGQCmZgNQBShxn6FYDU\n",
       "47vnNzAwgGUZGJgT+H4AKUYF1gtAiuPuESAJAJGkFvXVdzA+AAAAAElFTkSuQmCC\n",
       "\" style=\"display:inline;vertical-align:middle;\" /></a> : <a class=\"ProveItLink\" href=\"../../../../../../__pv_it/common/9fba9f29e823606ff4fdf2f1c6d5d08d906e850a0/expr.ipynb\"><img src=\"data:image/png;base64,iVBORw0KGgoAAAANSUhEUgAAAA8AAAAOBAMAAAACpFvcAAAAMFBMVEX////MzMy6uroyMjIiIiKq\n",
       "qqoQEBB2dnbc3NyYmJhmZmZUVFRERESIiIju7u4AAACOKgoaAAAAAXRSTlMAQObYZgAAAGRJREFU\n",
       "CNdjYGDgu7NrJ0cBAwPDtQkMrMsmMDC88QNy1jcwMJg9ADLUGBi4vgJpBikGhn4HEOMFA0P9BQYI\n",
       "8BeAMvJBahmAhD+IZhWAmMDADsT9IMV1INGfDAxRYHWvTu9SAFIARRcYB3lKsPwAAAAASUVORK5C\n",
       "YII=\n",
       "\" style=\"display:inline;vertical-align:middle;\" /></a></span></td></tr><tr><td><a name=\"0x546190ebd583221f_step2\">2</a></td><td>theorem</td><td></td><td><span style=\"font-size:20px;\"> <a class=\"ProveItLink\" href=\"../../../../../equality/_theory_nbs_/proofs/sub_right_side_into/thm_proof.ipynb\" style=\"text-decoration: none\">&nbsp;&#x22A2;&nbsp;&nbsp;</a><a class=\"ProveItLink\" href=\"../../../../../equality/__pv_it/theorems/7a9b2c4886327c7a880f6690c6b8bb5488c2412c0/expr.ipynb\"><img src=\"data:image/png;base64,iVBORw0KGgoAAAANSUhEUgAAAL4AAAAWBAMAAACMFTstAAAAMFBMVEX///8QEBCIiIhmZma6urrM\n",
       "zMxUVFQiIiJERETc3Nzu7u6qqqp2dnaYmJgyMjIAAAAcRTyBAAAAAXRSTlMAQObYZgAAAu1JREFU\n",
       "SMe1VU1oE1EQ/rrZ3WQ3aVo82kukoFCrlqKgIBIrqAel0YMnMaHYglJLD14sCkGhpIXa3OxFGlQE\n",
       "e7ABRfEW2oNQS4konlQW1INCbbCl2lp/Zt57m2yNCypxYDPzJvO+nTfzvVngf8h1qcJZwGHjVW1g\n",
       "X/wY7HmTA+y0cpwBnrD+UKO8vwOhjUA0q9Z3gTFSVro28MYa1eQT8Mx1RGKI0nki+drga0v00Dsu\n",
       "uA67EfUzExPXalSeUAkwl2D1lz1vgS+ZzMU/226J34R/QAORZbwNWhtwox0WdWIa6AaGAH20d/fZ\n",
       "qg26VIeXpwepjAWxuO+PnywgTLmGihS7Hxqd5jVwADZz9CnwuPrAUtU3ItIPU7IikPXF39E72055\n",
       "BPOw8vsQItY8pBU0eh966G8/fDPFyZxUPUv54o/mhKqLw8YGNMToRESeYpCdl4CMH36wyMl0K+d7\n",
       "X/zPcPGhryKZEPiWc4KzWoE2QC9rPs4wHSkMePAns9iSA7FiatfmBLaxS1hS3GAYiyodonvAwSYy\n",
       "D9EzdJo7udbKN7nFdM6TKqwajR78zqnZPLNOy/UF43jATGfLzJCMlIMF/cUuqncohUGI/uIe0zXi\n",
       "SPJFuRfWrX4t7cGfE1xKw8A8s4lTFZZkrRuM6Kq6tcTPQEr/RuZeZm2MkdoUhQU7AgUz5sG/IvC5\n",
       "ryv0nBK+lXLV3eDAwnJMspoStruaOeIds4+73qBGRFLcn2C8LuHB/yqqS0kaJQM4KFZkmR9J5svB\n",
       "FRHzgToAu3yTk5S3NWyV5lCwhhFMdHr4Y4hcKXY84kSAlxjLSUu1UwVXhOZbHybjYr6pybSwh3Ca\n",
       "7HNHWnNGE/Suqx787YuiaAO4/XxqBtiJY3lpqUuugj20zhLdL8v57JWwq+5gxMt/KVuVpnOvm7du\n",
       "cEXo+9LRzDUbWu9/5Kpe3anGV4twUXz3KuIGV38f638ZJUVXHZ1FNb4u/75J+9btcoP/QQK/OV7L\n",
       "XyH8BE6swAxF4PihAAAAAElFTkSuQmCC\n",
       "\" style=\"display:inline;vertical-align:middle;\" /></a></span></td></tr>\n",
       "<tr><td>&nbsp;</td><td colspan=4 style-\"text-align:left\"><a class=\"ProveItLink\" href=\"../../../../../equality/_theory_nbs_/proofs/sub_right_side_into/thm_proof.ipynb\">proveit.logic.equality.sub_right_side_into</a></td></tr><tr><td><a name=\"0x546190ebd583221f_step3\">3</a></td><td>assumption</td><td></td><td><span style=\"font-size:20px;\"><a class=\"ProveItLink\" href=\"../../../__pv_it/theorems/288bdfb6b256f35e627359603e28f6025e9822ce0/expr.ipynb\"><img src=\"data:image/png;base64,iVBORw0KGgoAAAANSUhEUgAAADsAAAARBAMAAACRPMnQAAAAMFBMVEX///92dnYiIiIQEBBERERU\n",
       "VFS6urqIiIjc3NxmZmaqqqru7u6YmJgyMjLMzMwAAADiRdoGAAAAAXRSTlMAQObYZgAAAO9JREFU\n",
       "KM9jYACBtwzogCf+68wQNyjnPpQ+qqSkpAdhMjswMMx/AFF6fwOY7pVAaH9/gIEhfwKYuWt+A5i+\n",
       "gWR6PVDofAGYeaA+AURxLkCSdmZg4DYCG8q2Yf0BEM2E7LavDAyPosGsbQzvwaa0IsnyfT1TogVh\n",
       "JjD0g92wBUma/QcDw+YAsMLImfEO6IazGACV/AJbDfTkBRCDsQAhzQ/Uyf4dxAK6l8kALHYL1dus\n",
       "34AMDqA07wew2NawDcjefg+ysglk0w+I4EMnWKBeBlpqAlS85f9tBi7/TxNQYyT2f+RUlwUMVASM\n",
       "SkqICIUAAMDnPwbFfXt4AAAAAElFTkSuQmCC\n",
       "\" style=\"display:inline;vertical-align:middle;\" /></a> <a class=\"ProveItLink\" href=\"../../../__pv_it/_proof_transitivity_subset_eq_equal/13abfef09a74244dfc3658fb98be891abb9ca35b0/proof.ipynb\" style=\"text-decoration: none\">&nbsp;&#x22A2;&nbsp;&nbsp;</a><a class=\"ProveItLink\" href=\"../../../__pv_it/theorems/288bdfb6b256f35e627359603e28f6025e9822ce0/expr.ipynb\"><img src=\"data:image/png;base64,iVBORw0KGgoAAAANSUhEUgAAADsAAAARBAMAAACRPMnQAAAAMFBMVEX///92dnYiIiIQEBBERERU\n",
       "VFS6urqIiIjc3NxmZmaqqqru7u6YmJgyMjLMzMwAAADiRdoGAAAAAXRSTlMAQObYZgAAAO9JREFU\n",
       "KM9jYACBtwzogCf+68wQNyjnPpQ+qqSkpAdhMjswMMx/AFF6fwOY7pVAaH9/gIEhfwKYuWt+A5i+\n",
       "gWR6PVDofAGYeaA+AURxLkCSdmZg4DYCG8q2Yf0BEM2E7LavDAyPosGsbQzvwaa0IsnyfT1TogVh\n",
       "JjD0g92wBUma/QcDw+YAsMLImfEO6IazGACV/AJbDfTkBRCDsQAhzQ/Uyf4dxAK6l8kALHYL1dus\n",
       "34AMDqA07wew2NawDcjefg+ysglk0w+I4EMnWKBeBlpqAlS85f9tBi7/TxNQYyT2f+RUlwUMVASM\n",
       "SkqICIUAAMDnPwbFfXt4AAAAAElFTkSuQmCC\n",
       "\" style=\"display:inline;vertical-align:middle;\" /></a></span></td></tr>\n",
       "<tr><td><a name=\"0x546190ebd583221f_step4\">4</a></td><td>assumption</td><td></td><td><span style=\"font-size:20px;\"><a class=\"ProveItLink\" href=\"../../../__pv_it/theorems/decac31b4597cfb516bcca9bd2fe8038edd99bc40/expr.ipynb\"><img src=\"data:image/png;base64,iVBORw0KGgoAAAANSUhEUgAAAD0AAAAOBAMAAABuognZAAAAMFBMVEX///92dnYyMjKqqqoiIiLu\n",
       "7u7c3NyIiIjMzMwQEBC6urpERERmZmZUVFSYmJgAAADEjrHzAAAAAXRSTlMAQObYZgAAANBJREFU\n",
       "GNNjYGB4+//O2d0LGNABa/Wde2wCINZsBgaeHxjylQ8YmE8+ADI4/jEwcP1Bl452BRLnE4AE+zcG\n",
       "Br7v6PKaAUBiJYjFPYGBIdIVTZrnM4jsARH8Fxg4fAPQ5PMdQGQYiOi/93yLAVhQSAkEdEBM+QK4\n",
       "0voEBta56Nb7N8CZO0FqDNDk54MtBBN/QfIF6PpBBHMD1PsM9xcg7NdlgPmckQHqfY7f6PbngwwU\n",
       "BbGYgN5fuRVdnhloqg3Iel79v2dub8YIfYaYvXdAdgIAMjE1zLn66vUAAAAASUVORK5CYII=\n",
       "\" style=\"display:inline;vertical-align:middle;\" /></a> <a class=\"ProveItLink\" href=\"../../../__pv_it/_proof_transitivity_subset_eq_equal/95f5f3b4bab70205337ea00932cdb368f591c9e00/proof.ipynb\" style=\"text-decoration: none\">&nbsp;&#x22A2;&nbsp;&nbsp;</a><a class=\"ProveItLink\" href=\"../../../__pv_it/theorems/decac31b4597cfb516bcca9bd2fe8038edd99bc40/expr.ipynb\"><img src=\"data:image/png;base64,iVBORw0KGgoAAAANSUhEUgAAAD0AAAAOBAMAAABuognZAAAAMFBMVEX///92dnYyMjKqqqoiIiLu\n",
       "7u7c3NyIiIjMzMwQEBC6urpERERmZmZUVFSYmJgAAADEjrHzAAAAAXRSTlMAQObYZgAAANBJREFU\n",
       "GNNjYGB4+//O2d0LGNABa/Wde2wCINZsBgaeHxjylQ8YmE8+ADI4/jEwcP1Bl452BRLnE4AE+zcG\n",
       "Br7v6PKaAUBiJYjFPYGBIdIVTZrnM4jsARH8Fxg4fAPQ5PMdQGQYiOi/93yLAVhQSAkEdEBM+QK4\n",
       "0voEBta56Nb7N8CZO0FqDNDk54MtBBN/QfIF6PpBBHMD1PsM9xcg7NdlgPmckQHqfY7f6PbngwwU\n",
       "BbGYgN5fuRVdnhloqg3Iel79v2dub8YIfYaYvXdAdgIAMjE1zLn66vUAAAAASUVORK5CYII=\n",
       "\" style=\"display:inline;vertical-align:middle;\" /></a></span></td></tr>\n",
       "</table>"
      ],
      "text/plain": [
       "\tstep type\trequirements\tstatement\n",
       "0\tgeneralizaton\t1\t|- forall_{A, B, C | A subseteq B, B = C} (A subseteq C)\n",
       "1\tinstantiation\t2, 3, 4\t{A subseteq B, B = C} |- A subseteq C\n",
       "\tP(_a) : A subseteq _a, x : B, y : C\n",
       "2\ttheorem\t\t|- forall_{P, x, y | P(x), x = y} P(y)\n",
       "\tproveit.logic.equality.sub_right_side_into\n",
       "3\tassumption\t\t{A subseteq B} |- A subseteq B\n",
       "4\tassumption\t\t{B = C} |- B = C"
      ]
     },
     "execution_count": 7,
     "metadata": {},
     "output_type": "execute_result"
    }
   ],
   "source": [
    "%qed"
   ]
  },
  {
   "cell_type": "code",
   "execution_count": null,
   "metadata": {},
   "outputs": [],
   "source": []
  }
 ],
 "metadata": {
  "kernelspec": {
   "display_name": "Python 3",
   "language": "python",
   "name": "python3"
  }
 },
 "nbformat": 4,
 "nbformat_minor": 0
}