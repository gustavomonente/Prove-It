{
 "cells": [
  {
   "cell_type": "markdown",
   "metadata": {},
   "source": [
    "Proof of <a class=\"ProveItLink\" href=\"../../../../../../_theory_nbs_/theory.ipynb\">proveit</a>.<a class=\"ProveItLink\" href=\"../../../../../_theory_nbs_/theory.ipynb\">logic</a>.<a class=\"ProveItLink\" href=\"../../../../_theory_nbs_/theory.ipynb\">sets</a>.<a class=\"ProveItLink\" href=\"../../theory.ipynb\">inclusion</a>.<a class=\"ProveItLink\" href=\"../../theorems.ipynb#fold_subset_eq\">fold_subset_eq</a> theorem\n",
    "========\n",
    "*** see <a href=\"../__pv_it/9e39e5069264337bcc9caf90d2c6140d2119a5b20/dependencies.ipynb\" class=\"ProveItLink\">dependencies</a> ***"
   ]
  },
  {
   "cell_type": "code",
   "execution_count": 1,
   "metadata": {},
   "outputs": [
    {
     "data": {
      "text/html": [
       "Under these <a href=\"presumptions.txt\">presumptions</a>, we begin our proof of<br><strong id=\"fold_subset_eq\">fold_subset_eq:</strong> <a class=\"ProveItLink\" href=\"../../../__pv_it/theorems/8bd4129ceadc8fdcc2276cb35423983c6739f2e70/expr.ipynb\"><img src=\"data:image/png;base64,iVBORw0KGgoAAAANSUhEUgAAAO8AAAAWBAMAAADaw9ZbAAAAMFBMVEX///8QEBCIiIhmZma6urrM\n",
       "zMxUVFQiIiJERETc3Nzu7u6qqqp2dnaYmJgyMjIAAAAcRTyBAAAAAXRSTlMAQObYZgAAA4VJREFU\n",
       "SMe1VltIFFEY/prd1Z3Z2dW3AiP2qSKyhM3tRWohEOmC+5Q9VC5kYD6YJbFFRUZSYwW7vVQQ5YhQ\n",
       "4YtGEQlCthWSRWwXoqhso6eKSLREjbL/nDOzM3vJLmwH5vzzn9v3z3e+/5wB/kc5/5v+fnpS7OV1\n",
       "YXGVNm5cqZwe786JQGM7iuLAfeZ/KCywLy7MqOE/i0aje8TrHIppdVihkM6SJ7cVFviJMCPTwl64\n",
       "Z3XVJ4HaCiQoLB1Q+woLvE8QfnVKuO9tXcuJjDd+dBHrwz09ZwqLK7eI/ZS+cOuwf9ZhCmiuDl8I\n",
       "mNS0A/+wejynJWy+SBXcrPV857bYPmgCqGsijmnIdqCDt4m6Zvx2I1/UOSuuanecsapgB66ZrjvJ\n",
       "mQ65xrh72jbSNfF68X7GBqlrDRQue68gxlsKtZRP5zSRAoryAe/I8B4Bt+AwSSjuE4HL49y9bBso\n",
       "0bZ3RQBPC2NC4hF2C2IcEXim08CuwcyI05EPmik7EKDZQeCmrkSMtjkhVm8MBCdzqHbTN0nfaD5l\n",
       "mpoUPcOtYpgfjlQaGJRolXmAi8wNfd7fQ/VuYJWlXgFM1QKxK35rXgkFJ40JYDm1kX+DX+NdvWEs\n",
       "0y3gEU3Ll+Qs1kTlwrCT60j5ConOoHI71R56dgn/Y2YaF9GeOpnwOxr4N2Al76otXywocxu1NyPJ\n",
       "B4ShBJT05uKQT4hr7PFRMtft4jpHz2fhX2zQ7Wlc3ybEhas87V5iOe96CCyyAathd8YpvFfYGqII\n",
       "n0gYYlAKUgtvFG6FkcsxQ26bj5lH5luKch6F4WAaKWF7oLx7EONxnQQ6+yxgJbLeON4DAbbmFeFV\n",
       "s4oUWqdpmh/uQcikmK1mdrVAif3QcWOmNWuHmme2BTW2uo9pxKuLvOnkgqEFauMWMJqaIC8tj+Au\n",
       "99b1CtY2MVWMuoxUK+mDc8qIxjoyZyuX0m8baHpSPg55GvJ8G9WopvRytg0qQpoVQrFsYqeaUmkn\n",
       "mNep4xRx9yrrkpilJNL5NQk5dtBVhqHxQGPIDlxMS0t+OI8wqtWqoaRo1XHxaWIYOMH4PxQItpNd\n",
       "kV4t4zxVo1HrWjSkkn1Te+y5bs10h5MKPzG2cOGwE8iUusT22CiprB+BXxd3PM8vSS6w43EijDsM\n",
       "pQwXymAeLNnFk/zjX58X2Q3JvMA2Vds1kV26C3SrOmbt9eRei0v+avmf/xbZW+4CTAIAAAAASUVO\n",
       "RK5CYII=\n",
       "\" style=\"display:inline;vertical-align:middle;\" /></a><br>(see <a class=\"ProveItLink\" href=\"../../../__pv_it/theorems/7b766ca6a08c0522d18f80476619dd85bd44d4fd0/dependencies.ipynb\">dependencies</a>)<br>"
      ],
      "text/plain": [
       "fold_subset_eq: forall_{A, B | forall_{x in A} (x in B)} (A subset_eq B)"
      ]
     },
     "execution_count": 1,
     "metadata": {},
     "output_type": "execute_result"
    }
   ],
   "source": [
    "import proveit\n",
    "from proveit.logic.sets.inclusion  import subset_eq_def\n",
    "%proving fold_subset_eq"
   ]
  },
  {
   "cell_type": "code",
   "execution_count": 2,
   "metadata": {},
   "outputs": [
    {
     "data": {
      "text/html": [
       "<span style=\"font-size:20px;\"> <a class=\"ProveItLink\" href=\"../../axioms.ipynb#subset_eq_def\" style=\"text-decoration: none\">&nbsp;&#x22A2;&nbsp;&nbsp;</a><a class=\"ProveItLink\" href=\"../../../__pv_it/axioms/d7449297494a795000bc445b03cbe0385e2bd3490/expr.ipynb\"><img src=\"data:image/png;base64,iVBORw0KGgoAAAANSUhEUgAAATUAAAAVBAMAAADV6mS1AAAAMFBMVEX///8QEBCIiIhmZma6urrM\n",
       "zMxUVFQiIiJERETc3Nzu7u6qqqp2dnaYmJgyMjIAAAAcRTyBAAAAAXRSTlMAQObYZgAABCZJREFU\n",
       "SMfNVk1oXFUU/jp/mf90ISjoYjCLhmCbgYAFqWTQRRUqGbtQF2IG20Ja0A40ZZSojFLIxB8yqzYI\n",
       "Nk+UpqZSCy6kbgxNxDapdaDgT39HtAsj2KG16R+lnnPufTNv3n1vFN144Lzz7s/73nfuOfeeC3SS\n",
       "WE1pJ0lUja51lzp/8kGnwaOkF0bF1Ll93mfeQa0kLxiDqZ0rAyN7gO3GyEJaxv2cipc9uzVehH1d\n",
       "ELPE3cs+KL9pJbmsu74vlUq71esq+sdgHodNbskj9ExbPqjpqne/wovXhRubKQ6dtyNIZZXy62X1\n",
       "p/0nWsPDtDBDWSQzBjcBnPKL2mmffo13TLixYe/ETQ/pqiolOTRYba6kLf3UdTGD+GqDmwRiyY/b\n",
       "q22tH0ulehveh4obmdTi7Ow+H5B9Wklq/Tk2QacXb1Lq3Euu/WpyOzc7+0nRb4O1DTzX58ZL54Qb\n",
       "mxuVyms+KD1agZD1lWR2l3N4BXh2B9l5k1t3pTI+54MaoCyJP7j9sWOyL5YNvGRWuLHZBkzIkHo+\n",
       "cXV+xM7V97QCH2NYsmqv4x/hlfO9Y/xygR/JP0Syilskj6gr45vtKHn5KX7IvMGNSNXAS9WFG5vH\n",
       "ZUvQ+58q6VcjaSfQmFYgh+ksWgeK8v8mJUWBXr4w1y2UNbbvxZydxZQXi/jOelKImniJonBj04WA\n",
       "hOujOzIjWEDilp59j1aEtwzsLLtjGiUXArd5f5ncUMRau3Vo/lEO3qB93K0ikhYqqvE0L3a9DS/c\n",
       "EAQ2yZr64eIu5VUGwbqbW4gQpdN5XnSTj4ErPty+hZ3xqXfe5+MnOZN1cAOuqMaUiefgFqs/I0uT\n",
       "UZ58lsc6yx1TikKXCvTv7cdRhBNhoyPfCprb/jC9JXs2b6OcEdkcLTtiivA1TdTEC6mYssHEVklK\n",
       "rJcZQ2t7C3DthRihpRvSdWCr5Tzehsv2XnCtW3QvrU5fpD4KHYRCsOjYC18GGpDDI5iBG8+xF/C5\n",
       "fHQW/TLjFLDGnj2vlc+46E3V9/y4XbN+Jt/uY6YbPLgl2NN8uoa4ritHAg09SodD6Ha0oe8QY82v\n",
       "bLzgnCCwQTdTj/9yclJW5F1g2j5gNyo9eHcZicnr2XYCL9/d8nBFZl7y4KbyqbuK8CuVylvA4Q3H\n",
       "7R1GwYq/2Nej7xcH9lguvHRenb15dokHgxamuQHaKENVs2Z1kHjRi9sZSSHkoTLkEcSuedesTeN2\n",
       "zdIyoxBmmh1PkZO12NuI3ULsAY9a30E8ar0uTo1TmMPXslYUwDt/V+u1tGq9zs8biE2+Hr4f31wd\n",
       "GMk1p000y4XNo1Rq3ZG0eNyR9IK+tOkhC1GO02QZU9dr7grhHYbWHan9Dut/t/SXCT9uWno53/7B\n",
       "3dLJfMF04Oi/uJOnzFVY81/u5D/xpX5UTJvU8H+SvwBVZVBM8dnIYQAAAABJRU5ErkJggg==\n",
       "\" style=\"display:inline;vertical-align:middle;\" /></a></span>"
      ],
      "text/plain": [
       "|- forall_{A, B} ((A subset_eq B) = [forall_{x in A} (x in B)])"
      ]
     },
     "execution_count": 2,
     "metadata": {},
     "output_type": "execute_result"
    }
   ],
   "source": [
    "subset_eq_def"
   ]
  },
  {
   "cell_type": "code",
   "execution_count": 3,
   "metadata": {},
   "outputs": [
    {
     "data": {
      "text/html": [
       "<strong id=\"subset_eq_def_inst\">subset_eq_def_inst:</strong> <span style=\"font-size:20px;\"> <a class=\"ProveItLink\" href=\"../../../__pv_it/_proof_fold_subset_eq/eeb70bd6a0c5bf34c514107d9a4c2861b41e70f30/proof.ipynb\" style=\"text-decoration: none\">&nbsp;&#x22A2;&nbsp;&nbsp;</a><a class=\"ProveItLink\" href=\"../../../__pv_it/axioms/21672c5a6910400373b663a24564452f7b76631a0/expr.ipynb\"><img src=\"data:image/png;base64,iVBORw0KGgoAAAANSUhEUgAAAO4AAAAUBAMAAAB4yRxuAAAAMFBMVEX///9UVFTMzMx2dna6uroQ\n",
       "EBCqqqqIiIgiIiJmZmYyMjJERETu7u6YmJjc3NwAAAC+aOQFAAAAAXRSTlMAQObYZgAAAwJJREFU\n",
       "SMelVk1oE0EUfsnGZk12Y5FeWsVGRCh6iOBgEYIUvOhB6sGD4KXgRS+a4kGtQooWXQ9C1Is9SJei\n",
       "glLbHKoUFpsNqEXbQwTx0FKs4KFYpA2ICtXWNzO7zXRnNhV8h8zkvcz3vXl/E4BUBepKw5yk6hms\n",
       "f6QuJMWb7gOY5F/3SD8wW6v920YBdkgWAjZdZsOgJ5VaEY8ADHPtiGd9b1nWNb7dVAQYSMM7Be8B\n",
       "ugyF8Q6r1QIeAbPAnRlx2fr1UO13GQxXZwG0nMy7QKNZDKH1ICUR8AjoPH1vBuYkV/Oo+pQD47jM\n",
       "m0Avta4QXn1dRcxYli3hEZjnukq+gy6bRaznAMZJJHgo85rZqan5sDCvM+y9qsIjcJmpYu55VoO6\n",
       "eKQK0LYd14MyLyw7zvUwXgo50f3lAs2PMaTEI/CSqV5BhmXxs3A8Wp29coNupumH9pRJwePdCjAe\n",
       "oFv7jpDGPvOmTsMbmVPiEWA76IDFQrAD4isArxtxc0Zx36Ng2IFq+u7vEFJztd8xSplU4xE4wVxp\n",
       "7m8tBuOcxPzHf9A6VPDqEPeHg3G6n27f/vHNCGlAklf7bhokW8LzeGPYXMwo9swW9C3+M4RXq6y5\n",
       "OHNuii7ZWwIvnuZIC2o8L85YxTrvlsfr2y1Cg3dEyG+jx5uyd+Km/W53Osa7NZpzhDjj6TSfFWo8\n",
       "Xlcp5E0sMWO5yRXbN1P06ypwXxhvQu/dFr0jwXURuC/UVYObRyttzByo8AhrEtpwyRVu3TXmz8lH\n",
       "GP9T9Ow9Fe/ZXrwjPMO8ct1HyPtmhOzsKsG32uUlPEIvPbk6BA2lX4Hp1rLafMdhY2RQxcvzh862\n",
       "OY6DQ+jJ/pIfKYQsX5x4wOuuPOoq8EhgqKnE6FXxmhQuuhTFALNB58JiWjknD49ZtoRHQod4TVTv\n",
       "ApdFzdZAY3THMAKVDd4FAY8Exo5mWbV30BPVO8il/KE9C/CCVscypEq3pcmlFP4OhjzSqvkn8Xpz\n",
       "iOb3H959EY/Ahv9zTLkALv3P/xyK19P3F/6h9LAXumChAAAAAElFTkSuQmCC\n",
       "\" style=\"display:inline;vertical-align:middle;\" /></a></span><br>"
      ],
      "text/plain": [
       "subset_eq_def_inst: |- (A subset_eq B) = [forall_{x in A} (x in B)]"
      ]
     },
     "execution_count": 3,
     "metadata": {},
     "output_type": "execute_result"
    }
   ],
   "source": [
    "subset_eq_def_inst = subset_eq_def.instantiate()"
   ]
  },
  {
   "cell_type": "code",
   "execution_count": 4,
   "metadata": {},
   "outputs": [
    {
     "data": {
      "text/html": [
       "<span style=\"font-size:20px;\"><a class=\"ProveItLink\" href=\"../../../__pv_it/axioms/da37e6964a74b48aa2408bedce8a776eef733f160/expr.ipynb\"><img src=\"data:image/png;base64,iVBORw0KGgoAAAANSUhEUgAAAHwAAAAUBAMAAAC9l0S6AAAAMFBMVEX///8QEBCIiIhmZma6urrM\n",
       "zMxUVFQiIiJERETc3Nzu7u6qqqp2dnaYmJgyMjIAAAAcRTyBAAAAAXRSTlMAQObYZgAAAgRJREFU\n",
       "OMtjYMALOC/gkeSewMDwAMS4i0vFCqyivPnfjDNaGBgyGRhOg/ivcGl/iV2YsYGBwT6AYR0DwwyQ\n",
       "Extw6OY1wC4eD/STvwEDjwID3wIGBp4NOLSzT0Dm3SgvfwBh6QPF7yswcAkw8J5atWo6LrejSERo\n",
       "wZmNDAxc4kB7nzAw/OjoqMGlXRmIF6lN0VEA0lxIAfSNgSE8C0gfZmBIZWDoRNMF5/cCdR3gLWIH\n",
       "uZkN4RHWb3c1qkGMewwMzgxcD9AC7AuMBVTDs4DnFwtIJwdCAdNPBoaFCUDGdmDwMDDB0gbXHmMQ\n",
       "c/FfmDoRoBgDByReAt8BAcQiDgGgEb9BMQA0/gI7PGh3rgJRp4qRtDMw8CuA2TMQtvMDbWb6BNHO\n",
       "+SAMyDhkqhbAAollVoUOJMcD1QRAkgpqtLOBfOgOCqgUoFkL8tgd+CCSbAzmSEHHvUAfKAtkMyvA\n",
       "tYOiPb4BEnQMmwuANjK8BfoZInmbQR+mDhgx/hv6GeYinAIGDxkYWCRARtrA/QYMzPCOjg5gUnp8\n",
       "pn8BVB3QccuUFtlCgnZZC1Q473+yWQc4oT4FxRNIlPUDK9DVIMC8gGF+ANZE69NejhrFXAVQxnye\n",
       "BzwMPGBdvkD3XCCQZaCABxYcy64cOsXA0A2K0x8MnP21GOkPK1iHymUC+Z2I4oI4wwkVVrwTGABA\n",
       "6n+UZZo/5AAAAABJRU5ErkJggg==\n",
       "\" style=\"display:inline;vertical-align:middle;\" /></a> <a class=\"ProveItLink\" href=\"../../../__pv_it/_proof_fold_subset_eq/2a482939cc8914ab3892d4de470b4db037b321c30/proof.ipynb\" style=\"text-decoration: none\">&nbsp;&#x22A2;&nbsp;&nbsp;</a><a class=\"ProveItLink\" href=\"../../../__pv_it/axioms/e95a006f2b74a09b90987eb3cf94c9d5b15f5eda0/expr.ipynb\"><img src=\"data:image/png;base64,iVBORw0KGgoAAAANSUhEUgAAADsAAAARBAMAAACRPMnQAAAAMFBMVEX///92dnYiIiIQEBBERERU\n",
       "VFS6urqIiIjc3NxmZmaqqqru7u6YmJgyMjLMzMwAAADiRdoGAAAAAXRSTlMAQObYZgAAAO9JREFU\n",
       "KM9jYACBtwzogCf+68wQNyjnPpQ+qqSkpAdhMjswMMx/AFF6fwOY7pVAaH9/gIEhfwKYuWt+A5i+\n",
       "gWR6PVDofAGYeaA+AURxLkCSdmZg4DYCG8q2Yf0BEM2E7LavDAyPosGsbQzvwaa0IsnyfT1TogVh\n",
       "JjD0g92wBUma/QcDw+YAsMLImfEO6IazGACV/AJbDfTkBRCDsQAhzQ/Uyf4dxAK6l8kALHYL1dus\n",
       "34AMDqA07wew2NawDcjefg+ysglk0w+I4EMnWKBeBlpqAlS85f9tBi7/TxNQYyT2f+RUlwUMVASM\n",
       "SkqICIUAAMDnPwbFfXt4AAAAAElFTkSuQmCC\n",
       "\" style=\"display:inline;vertical-align:middle;\" /></a></span>"
      ],
      "text/plain": [
       "{forall_{x in A} (x in B)} |- A subset_eq B"
      ]
     },
     "execution_count": 4,
     "metadata": {},
     "output_type": "execute_result"
    }
   ],
   "source": [
    "subset_eq_def_inst.derive_left_via_equality([subset_eq_def_inst.rhs])"
   ]
  },
  {
   "cell_type": "code",
   "execution_count": 5,
   "metadata": {},
   "outputs": [
    {
     "data": {
      "text/html": [
       "<table><tr><th>&nbsp;</th><th>step type</th><th>requirements</th><th>statement</th></tr>\n",
       "<tr><td><a name=\"0x44ece4af0722e8b2_step0\">0</a></td><td>generalizaton</td><td><a href=\"#0x44ece4af0722e8b2_step1\">1</a></td><td><span style=\"font-size:20px;\"> <a class=\"ProveItLink\" href=\"../../../__pv_it/_proof_fold_subset_eq/c45f715e21377b6a4c60e46a1ac7c13ec2809a320/proof.ipynb\" style=\"text-decoration: none\">&nbsp;&#x22A2;&nbsp;&nbsp;</a><a class=\"ProveItLink\" href=\"../../../__pv_it/theorems/8bd4129ceadc8fdcc2276cb35423983c6739f2e70/expr.ipynb\"><img src=\"data:image/png;base64,iVBORw0KGgoAAAANSUhEUgAAAO8AAAAWBAMAAADaw9ZbAAAAMFBMVEX///8QEBCIiIhmZma6urrM\n",
       "zMxUVFQiIiJERETc3Nzu7u6qqqp2dnaYmJgyMjIAAAAcRTyBAAAAAXRSTlMAQObYZgAAA4VJREFU\n",
       "SMe1VltIFFEY/prd1Z3Z2dW3AiP2qSKyhM3tRWohEOmC+5Q9VC5kYD6YJbFFRUZSYwW7vVQQ5YhQ\n",
       "4YtGEQlCthWSRWwXoqhso6eKSLREjbL/nDOzM3vJLmwH5vzzn9v3z3e+/5wB/kc5/5v+fnpS7OV1\n",
       "YXGVNm5cqZwe786JQGM7iuLAfeZ/KCywLy7MqOE/i0aje8TrHIppdVihkM6SJ7cVFviJMCPTwl64\n",
       "Z3XVJ4HaCiQoLB1Q+woLvE8QfnVKuO9tXcuJjDd+dBHrwz09ZwqLK7eI/ZS+cOuwf9ZhCmiuDl8I\n",
       "mNS0A/+wejynJWy+SBXcrPV857bYPmgCqGsijmnIdqCDt4m6Zvx2I1/UOSuuanecsapgB66ZrjvJ\n",
       "mQ65xrh72jbSNfF68X7GBqlrDRQue68gxlsKtZRP5zSRAoryAe/I8B4Bt+AwSSjuE4HL49y9bBso\n",
       "0bZ3RQBPC2NC4hF2C2IcEXim08CuwcyI05EPmik7EKDZQeCmrkSMtjkhVm8MBCdzqHbTN0nfaD5l\n",
       "mpoUPcOtYpgfjlQaGJRolXmAi8wNfd7fQ/VuYJWlXgFM1QKxK35rXgkFJ40JYDm1kX+DX+NdvWEs\n",
       "0y3gEU3Ll+Qs1kTlwrCT60j5ConOoHI71R56dgn/Y2YaF9GeOpnwOxr4N2Al76otXywocxu1NyPJ\n",
       "B4ShBJT05uKQT4hr7PFRMtft4jpHz2fhX2zQ7Wlc3ybEhas87V5iOe96CCyyAathd8YpvFfYGqII\n",
       "n0gYYlAKUgtvFG6FkcsxQ26bj5lH5luKch6F4WAaKWF7oLx7EONxnQQ6+yxgJbLeON4DAbbmFeFV\n",
       "s4oUWqdpmh/uQcikmK1mdrVAif3QcWOmNWuHmme2BTW2uo9pxKuLvOnkgqEFauMWMJqaIC8tj+Au\n",
       "99b1CtY2MVWMuoxUK+mDc8qIxjoyZyuX0m8baHpSPg55GvJ8G9WopvRytg0qQpoVQrFsYqeaUmkn\n",
       "mNep4xRx9yrrkpilJNL5NQk5dtBVhqHxQGPIDlxMS0t+OI8wqtWqoaRo1XHxaWIYOMH4PxQItpNd\n",
       "kV4t4zxVo1HrWjSkkn1Te+y5bs10h5MKPzG2cOGwE8iUusT22CiprB+BXxd3PM8vSS6w43EijDsM\n",
       "pQwXymAeLNnFk/zjX58X2Q3JvMA2Vds1kV26C3SrOmbt9eRei0v+avmf/xbZW+4CTAIAAAAASUVO\n",
       "RK5CYII=\n",
       "\" style=\"display:inline;vertical-align:middle;\" /></a></span></td></tr>\n",
       "<tr><td><a name=\"0x44ece4af0722e8b2_step1\">1</a></td><td>instantiation</td><td><a href=\"#0x44ece4af0722e8b2_step2\">2</a>, <a href=\"#0x44ece4af0722e8b2_step3\">3</a>, <a href=\"#0x44ece4af0722e8b2_step4\">4</a></td><td><span style=\"font-size:20px;\"><a class=\"ProveItLink\" href=\"../../../__pv_it/axioms/da37e6964a74b48aa2408bedce8a776eef733f160/expr.ipynb\"><img src=\"data:image/png;base64,iVBORw0KGgoAAAANSUhEUgAAAHwAAAAUBAMAAAC9l0S6AAAAMFBMVEX///8QEBCIiIhmZma6urrM\n",
       "zMxUVFQiIiJERETc3Nzu7u6qqqp2dnaYmJgyMjIAAAAcRTyBAAAAAXRSTlMAQObYZgAAAgRJREFU\n",
       "OMtjYMALOC/gkeSewMDwAMS4i0vFCqyivPnfjDNaGBgyGRhOg/ivcGl/iV2YsYGBwT6AYR0DwwyQ\n",
       "Extw6OY1wC4eD/STvwEDjwID3wIGBp4NOLSzT0Dm3SgvfwBh6QPF7yswcAkw8J5atWo6LrejSERo\n",
       "wZmNDAxc4kB7nzAw/OjoqMGlXRmIF6lN0VEA0lxIAfSNgSE8C0gfZmBIZWDoRNMF5/cCdR3gLWIH\n",
       "uZkN4RHWb3c1qkGMewwMzgxcD9AC7AuMBVTDs4DnFwtIJwdCAdNPBoaFCUDGdmDwMDDB0gbXHmMQ\n",
       "c/FfmDoRoBgDByReAt8BAcQiDgGgEb9BMQA0/gI7PGh3rgJRp4qRtDMw8CuA2TMQtvMDbWb6BNHO\n",
       "+SAMyDhkqhbAAollVoUOJMcD1QRAkgpqtLOBfOgOCqgUoFkL8tgd+CCSbAzmSEHHvUAfKAtkMyvA\n",
       "tYOiPb4BEnQMmwuANjK8BfoZInmbQR+mDhgx/hv6GeYinAIGDxkYWCRARtrA/QYMzPCOjg5gUnp8\n",
       "pn8BVB3QccuUFtlCgnZZC1Q473+yWQc4oT4FxRNIlPUDK9DVIMC8gGF+ANZE69NejhrFXAVQxnye\n",
       "BzwMPGBdvkD3XCCQZaCABxYcy64cOsXA0A2K0x8MnP21GOkPK1iHymUC+Z2I4oI4wwkVVrwTGABA\n",
       "6n+UZZo/5AAAAABJRU5ErkJggg==\n",
       "\" style=\"display:inline;vertical-align:middle;\" /></a> <a class=\"ProveItLink\" href=\"../../../__pv_it/_proof_fold_subset_eq/2a482939cc8914ab3892d4de470b4db037b321c30/proof.ipynb\" style=\"text-decoration: none\">&nbsp;&#x22A2;&nbsp;&nbsp;</a><a class=\"ProveItLink\" href=\"../../../__pv_it/axioms/e95a006f2b74a09b90987eb3cf94c9d5b15f5eda0/expr.ipynb\"><img src=\"data:image/png;base64,iVBORw0KGgoAAAANSUhEUgAAADsAAAARBAMAAACRPMnQAAAAMFBMVEX///92dnYiIiIQEBBERERU\n",
       "VFS6urqIiIjc3NxmZmaqqqru7u6YmJgyMjLMzMwAAADiRdoGAAAAAXRSTlMAQObYZgAAAO9JREFU\n",
       "KM9jYACBtwzogCf+68wQNyjnPpQ+qqSkpAdhMjswMMx/AFF6fwOY7pVAaH9/gIEhfwKYuWt+A5i+\n",
       "gWR6PVDofAGYeaA+AURxLkCSdmZg4DYCG8q2Yf0BEM2E7LavDAyPosGsbQzvwaa0IsnyfT1TogVh\n",
       "JjD0g92wBUma/QcDw+YAsMLImfEO6IazGACV/AJbDfTkBRCDsQAhzQ/Uyf4dxAK6l8kALHYL1dus\n",
       "34AMDqA07wew2NawDcjefg+ysglk0w+I4EMnWKBeBlpqAlS85f9tBi7/TxNQYyT2f+RUlwUMVASM\n",
       "SkqICIUAAMDnPwbFfXt4AAAAAElFTkSuQmCC\n",
       "\" style=\"display:inline;vertical-align:middle;\" /></a></span></td></tr>\n",
       "<tr><td>&nbsp;</td><td colspan=4 style=\"text-align:left\"><span style=\"font-size:20px;\"><a class=\"ProveItLink\" href=\"../../../../../../__pv_it/common/d5fc3066299847984076662ce51556220bdb6cfb0/expr.ipynb\"><img src=\"data:image/png;base64,iVBORw0KGgoAAAANSUhEUgAAABAAAAAOBAMAAADUAYG5AAAAMFBMVEX///8iIiLc3Ny6urqIiIiq\n",
       "qqp2dnbMzMwQEBDu7u5mZmYyMjJERERUVFSYmJgAAAA4CJ/KAAAAAXRSTlMAQObYZgAAAF5JREFU\n",
       "CNdjYGB4+//s3V0TGIDgNwMDTyeQZv/GwMD6Bchg+QzEQA4DzwcGBl4gh4F/AwOD/gIgoz6BgVUM\n",
       "pMn/WtoSsO7zYBIIPkJp9l9QBsgYMOD+CaG59v91ANEANtEY7WfmSIAAAAAASUVORK5CYII=\n",
       "\" style=\"display:inline;vertical-align:middle;\" /></a> : <a class=\"ProveItLink\" href=\"../../../__pv_it/axioms/e95a006f2b74a09b90987eb3cf94c9d5b15f5eda0/expr.ipynb\"><img src=\"data:image/png;base64,iVBORw0KGgoAAAANSUhEUgAAADsAAAARBAMAAACRPMnQAAAAMFBMVEX///92dnYiIiIQEBBERERU\n",
       "VFS6urqIiIjc3NxmZmaqqqru7u6YmJgyMjLMzMwAAADiRdoGAAAAAXRSTlMAQObYZgAAAO9JREFU\n",
       "KM9jYACBtwzogCf+68wQNyjnPpQ+qqSkpAdhMjswMMx/AFF6fwOY7pVAaH9/gIEhfwKYuWt+A5i+\n",
       "gWR6PVDofAGYeaA+AURxLkCSdmZg4DYCG8q2Yf0BEM2E7LavDAyPosGsbQzvwaa0IsnyfT1TogVh\n",
       "JjD0g92wBUma/QcDw+YAsMLImfEO6IazGACV/AJbDfTkBRCDsQAhzQ/Uyf4dxAK6l8kALHYL1dus\n",
       "34AMDqA07wew2NawDcjefg+ysglk0w+I4EMnWKBeBlpqAlS85f9tBi7/TxNQYyT2f+RUlwUMVASM\n",
       "SkqICIUAAMDnPwbFfXt4AAAAAElFTkSuQmCC\n",
       "\" style=\"display:inline;vertical-align:middle;\" /></a>, <a class=\"ProveItLink\" href=\"../../../../../../__pv_it/common/50527aea954422d65ebe44b8de200683294751540/expr.ipynb\"><img src=\"data:image/png;base64,iVBORw0KGgoAAAANSUhEUgAAAA8AAAASBAMAAAB2sJk8AAAAMFBMVEX///+qqqq6urrc3NwQEBAy\n",
       "MjJERERUVFTMzMwiIiKYmJh2dnZmZmaIiIju7u4AAABsX1SbAAAAAXRSTlMAQObYZgAAAINJREFU\n",
       "CNdjYGDgu7P7FAMI7GxgYE8A0k8DgILeQEbIAyBRz8DA/Qskvd+AwX4CiHFegWH/BRAjv4FhfgOI\n",
       "8R+IQGoZvzMwTAEJcP5jYCgBMe4DFfY/eHuD4w+Qw3thAff6DSDhvuqbyQxgrQzsDVwGYAbbATUw\n",
       "zcDz/weEwTFFgIEBAOxlJHQBUmidAAAAAElFTkSuQmCC\n",
       "\" style=\"display:inline;vertical-align:middle;\" /></a> : <a class=\"ProveItLink\" href=\"../../../__pv_it/axioms/da37e6964a74b48aa2408bedce8a776eef733f160/expr.ipynb\"><img src=\"data:image/png;base64,iVBORw0KGgoAAAANSUhEUgAAAHwAAAAUBAMAAAC9l0S6AAAAMFBMVEX///8QEBCIiIhmZma6urrM\n",
       "zMxUVFQiIiJERETc3Nzu7u6qqqp2dnaYmJgyMjIAAAAcRTyBAAAAAXRSTlMAQObYZgAAAgRJREFU\n",
       "OMtjYMALOC/gkeSewMDwAMS4i0vFCqyivPnfjDNaGBgyGRhOg/ivcGl/iV2YsYGBwT6AYR0DwwyQ\n",
       "Extw6OY1wC4eD/STvwEDjwID3wIGBp4NOLSzT0Dm3SgvfwBh6QPF7yswcAkw8J5atWo6LrejSERo\n",
       "wZmNDAxc4kB7nzAw/OjoqMGlXRmIF6lN0VEA0lxIAfSNgSE8C0gfZmBIZWDoRNMF5/cCdR3gLWIH\n",
       "uZkN4RHWb3c1qkGMewwMzgxcD9AC7AuMBVTDs4DnFwtIJwdCAdNPBoaFCUDGdmDwMDDB0gbXHmMQ\n",
       "c/FfmDoRoBgDByReAt8BAcQiDgGgEb9BMQA0/gI7PGh3rgJRp4qRtDMw8CuA2TMQtvMDbWb6BNHO\n",
       "+SAMyDhkqhbAAollVoUOJMcD1QRAkgpqtLOBfOgOCqgUoFkL8tgd+CCSbAzmSEHHvUAfKAtkMyvA\n",
       "tYOiPb4BEnQMmwuANjK8BfoZInmbQR+mDhgx/hv6GeYinAIGDxkYWCRARtrA/QYMzPCOjg5gUnp8\n",
       "pn8BVB3QccuUFtlCgnZZC1Q473+yWQc4oT4FxRNIlPUDK9DVIMC8gGF+ANZE69NejhrFXAVQxnye\n",
       "BzwMPGBdvkD3XCCQZaCABxYcy64cOsXA0A2K0x8MnP21GOkPK1iHymUC+Z2I4oI4wwkVVrwTGABA\n",
       "6n+UZZo/5AAAAABJRU5ErkJggg==\n",
       "\" style=\"display:inline;vertical-align:middle;\" /></a></span></td></tr><tr><td><a name=\"0x44ece4af0722e8b2_step2\">2</a></td><td>theorem</td><td></td><td><span style=\"font-size:20px;\"> <a class=\"ProveItLink\" href=\"../../../../../equality/_theory_nbs_/proofs/lhs_via_equality/thm_proof.ipynb\" style=\"text-decoration: none\">&nbsp;&#x22A2;&nbsp;&nbsp;</a><a class=\"ProveItLink\" href=\"../../../../../equality/__pv_it/theorems/fd1735c228dc89ed3ff97dbaf65fa21ba6757a2d0/expr.ipynb\"><img src=\"data:image/png;base64,iVBORw0KGgoAAAANSUhEUgAAAIwAAAAWBAMAAADgE2koAAAAMFBMVEX///8QEBCIiIhmZma6urrM\n",
       "zMxUVFQiIiJERETc3Nzu7u6qqqp2dnaYmJgyMjIAAAAcRTyBAAAAAXRSTlMAQObYZgAAAeBJREFU\n",
       "OMutVD0sQ1EYPfr/qyIWLMRgEcRUpiYWmzBYvYEO0sEsJBIJJRHdWFBrF01MXURISGjkWSwiaSIx\n",
       "SGiD+G3w3ff3XdWB1pe8d79z7rnnvXu/ey/wP5ETr8vKx59/zkevkjgR+U0V//EBeJqwRpl3tnIX\n",
       "ZxHw36M2CQTSldvYHukpInicSq1WMSdPAXCR1Us8Pl2FTYhqtNkNjAOLgGMlFp4QdFu2T+t2GDIT\n",
       "DzwdzCetwSYLjO7BL36jHz5R9DPgiJqNCIY0tUdXWThYh8Ck6WKxQFcs2yNSN2wqNVFiqGaNgF1h\n",
       "G8YuBbaC4cIssGLYBVS3aGaAOHmq2nctG8aUecx9wSzwbFrnRujte4VtCmgVJSywDePtBNrNtWEW\n",
       "zgdzootjYkWLHWI/X9Njz7EN48H9bBquOMWyxGrbRo8dsXIBnaUtiZo9tmF8KhWZWdS+WZVvEaO6\n",
       "tbxer5llw3hOsmHWnn9qMcigmHJIPw9R34W3QbJh/K6V647iVmJLYzRBi72EreHgbkSy0TF1OF8l\n",
       "MatKD1i+l1a9Gb7woeKVbHRMHZ0PCVazqmz4RQWVdcnGwP4f14OhKhsZsY0+mr7ZaDhTqjRVZUMc\n",
       "CixEvtloWP0hXYj87gKw/+m6+AIRhIj+rToaNQAAAABJRU5ErkJggg==\n",
       "\" style=\"display:inline;vertical-align:middle;\" /></a></span></td></tr>\n",
       "<tr><td>&nbsp;</td><td colspan=4 style-\"text-align:left\"><a class=\"ProveItLink\" href=\"../../../../../equality/_theory_nbs_/proofs/lhs_via_equality/thm_proof.ipynb\">proveit.logic.equality.lhs_via_equality</a></td></tr><tr><td><a name=\"0x44ece4af0722e8b2_step3\">3</a></td><td>assumption</td><td></td><td><span style=\"font-size:20px;\"><a class=\"ProveItLink\" href=\"../../../__pv_it/axioms/da37e6964a74b48aa2408bedce8a776eef733f160/expr.ipynb\"><img src=\"data:image/png;base64,iVBORw0KGgoAAAANSUhEUgAAAHwAAAAUBAMAAAC9l0S6AAAAMFBMVEX///8QEBCIiIhmZma6urrM\n",
       "zMxUVFQiIiJERETc3Nzu7u6qqqp2dnaYmJgyMjIAAAAcRTyBAAAAAXRSTlMAQObYZgAAAgRJREFU\n",
       "OMtjYMALOC/gkeSewMDwAMS4i0vFCqyivPnfjDNaGBgyGRhOg/ivcGl/iV2YsYGBwT6AYR0DwwyQ\n",
       "Extw6OY1wC4eD/STvwEDjwID3wIGBp4NOLSzT0Dm3SgvfwBh6QPF7yswcAkw8J5atWo6LrejSERo\n",
       "wZmNDAxc4kB7nzAw/OjoqMGlXRmIF6lN0VEA0lxIAfSNgSE8C0gfZmBIZWDoRNMF5/cCdR3gLWIH\n",
       "uZkN4RHWb3c1qkGMewwMzgxcD9AC7AuMBVTDs4DnFwtIJwdCAdNPBoaFCUDGdmDwMDDB0gbXHmMQ\n",
       "c/FfmDoRoBgDByReAt8BAcQiDgGgEb9BMQA0/gI7PGh3rgJRp4qRtDMw8CuA2TMQtvMDbWb6BNHO\n",
       "+SAMyDhkqhbAAollVoUOJMcD1QRAkgpqtLOBfOgOCqgUoFkL8tgd+CCSbAzmSEHHvUAfKAtkMyvA\n",
       "tYOiPb4BEnQMmwuANjK8BfoZInmbQR+mDhgx/hv6GeYinAIGDxkYWCRARtrA/QYMzPCOjg5gUnp8\n",
       "pn8BVB3QccuUFtlCgnZZC1Q473+yWQc4oT4FxRNIlPUDK9DVIMC8gGF+ANZE69NejhrFXAVQxnye\n",
       "BzwMPGBdvkD3XCCQZaCABxYcy64cOsXA0A2K0x8MnP21GOkPK1iHymUC+Z2I4oI4wwkVVrwTGABA\n",
       "6n+UZZo/5AAAAABJRU5ErkJggg==\n",
       "\" style=\"display:inline;vertical-align:middle;\" /></a> <a class=\"ProveItLink\" href=\"../../../__pv_it/_proof_fold_subset_eq/2dcecc90b76b0517909812123452d482121dff510/proof.ipynb\" style=\"text-decoration: none\">&nbsp;&#x22A2;&nbsp;&nbsp;</a><a class=\"ProveItLink\" href=\"../../../__pv_it/axioms/da37e6964a74b48aa2408bedce8a776eef733f160/expr.ipynb\"><img src=\"data:image/png;base64,iVBORw0KGgoAAAANSUhEUgAAAHwAAAAUBAMAAAC9l0S6AAAAMFBMVEX///8QEBCIiIhmZma6urrM\n",
       "zMxUVFQiIiJERETc3Nzu7u6qqqp2dnaYmJgyMjIAAAAcRTyBAAAAAXRSTlMAQObYZgAAAgRJREFU\n",
       "OMtjYMALOC/gkeSewMDwAMS4i0vFCqyivPnfjDNaGBgyGRhOg/ivcGl/iV2YsYGBwT6AYR0DwwyQ\n",
       "Extw6OY1wC4eD/STvwEDjwID3wIGBp4NOLSzT0Dm3SgvfwBh6QPF7yswcAkw8J5atWo6LrejSERo\n",
       "wZmNDAxc4kB7nzAw/OjoqMGlXRmIF6lN0VEA0lxIAfSNgSE8C0gfZmBIZWDoRNMF5/cCdR3gLWIH\n",
       "uZkN4RHWb3c1qkGMewwMzgxcD9AC7AuMBVTDs4DnFwtIJwdCAdNPBoaFCUDGdmDwMDDB0gbXHmMQ\n",
       "c/FfmDoRoBgDByReAt8BAcQiDgGgEb9BMQA0/gI7PGh3rgJRp4qRtDMw8CuA2TMQtvMDbWb6BNHO\n",
       "+SAMyDhkqhbAAollVoUOJMcD1QRAkgpqtLOBfOgOCqgUoFkL8tgd+CCSbAzmSEHHvUAfKAtkMyvA\n",
       "tYOiPb4BEnQMmwuANjK8BfoZInmbQR+mDhgx/hv6GeYinAIGDxkYWCRARtrA/QYMzPCOjg5gUnp8\n",
       "pn8BVB3QccuUFtlCgnZZC1Q473+yWQc4oT4FxRNIlPUDK9DVIMC8gGF+ANZE69NejhrFXAVQxnye\n",
       "BzwMPGBdvkD3XCCQZaCABxYcy64cOsXA0A2K0x8MnP21GOkPK1iHymUC+Z2I4oI4wwkVVrwTGABA\n",
       "6n+UZZo/5AAAAABJRU5ErkJggg==\n",
       "\" style=\"display:inline;vertical-align:middle;\" /></a></span></td></tr>\n",
       "<tr><td><a name=\"0x44ece4af0722e8b2_step4\">4</a></td><td>instantiation</td><td><a href=\"#0x44ece4af0722e8b2_step5\">5</a></td><td><span style=\"font-size:20px;\"> <a class=\"ProveItLink\" href=\"../../../__pv_it/_proof_fold_subset_eq/eeb70bd6a0c5bf34c514107d9a4c2861b41e70f30/proof.ipynb\" style=\"text-decoration: none\">&nbsp;&#x22A2;&nbsp;&nbsp;</a><a class=\"ProveItLink\" href=\"../../../__pv_it/axioms/21672c5a6910400373b663a24564452f7b76631a0/expr.ipynb\"><img src=\"data:image/png;base64,iVBORw0KGgoAAAANSUhEUgAAAO4AAAAUBAMAAAB4yRxuAAAAMFBMVEX///9UVFTMzMx2dna6uroQ\n",
       "EBCqqqqIiIgiIiJmZmYyMjJERETu7u6YmJjc3NwAAAC+aOQFAAAAAXRSTlMAQObYZgAAAwJJREFU\n",
       "SMelVk1oE0EUfsnGZk12Y5FeWsVGRCh6iOBgEYIUvOhB6sGD4KXgRS+a4kGtQooWXQ9C1Is9SJei\n",
       "glLbHKoUFpsNqEXbQwTx0FKs4KFYpA2ICtXWNzO7zXRnNhV8h8zkvcz3vXl/E4BUBepKw5yk6hms\n",
       "f6QuJMWb7gOY5F/3SD8wW6v920YBdkgWAjZdZsOgJ5VaEY8ADHPtiGd9b1nWNb7dVAQYSMM7Be8B\n",
       "ugyF8Q6r1QIeAbPAnRlx2fr1UO13GQxXZwG0nMy7QKNZDKH1ICUR8AjoPH1vBuYkV/Oo+pQD47jM\n",
       "m0Avta4QXn1dRcxYli3hEZjnukq+gy6bRaznAMZJJHgo85rZqan5sDCvM+y9qsIjcJmpYu55VoO6\n",
       "eKQK0LYd14MyLyw7zvUwXgo50f3lAs2PMaTEI/CSqV5BhmXxs3A8Wp29coNupumH9pRJwePdCjAe\n",
       "oFv7jpDGPvOmTsMbmVPiEWA76IDFQrAD4isArxtxc0Zx36Ng2IFq+u7vEFJztd8xSplU4xE4wVxp\n",
       "7m8tBuOcxPzHf9A6VPDqEPeHg3G6n27f/vHNCGlAklf7bhokW8LzeGPYXMwo9swW9C3+M4RXq6y5\n",
       "OHNuii7ZWwIvnuZIC2o8L85YxTrvlsfr2y1Cg3dEyG+jx5uyd+Km/W53Osa7NZpzhDjj6TSfFWo8\n",
       "Xlcp5E0sMWO5yRXbN1P06ypwXxhvQu/dFr0jwXURuC/UVYObRyttzByo8AhrEtpwyRVu3TXmz8lH\n",
       "GP9T9Ow9Fe/ZXrwjPMO8ct1HyPtmhOzsKsG32uUlPEIvPbk6BA2lX4Hp1rLafMdhY2RQxcvzh862\n",
       "OY6DQ+jJ/pIfKYQsX5x4wOuuPOoq8EhgqKnE6FXxmhQuuhTFALNB58JiWjknD49ZtoRHQod4TVTv\n",
       "ApdFzdZAY3THMAKVDd4FAY8Exo5mWbV30BPVO8il/KE9C/CCVscypEq3pcmlFP4OhjzSqvkn8Xpz\n",
       "iOb3H959EY/Ahv9zTLkALv3P/xyK19P3F/6h9LAXumChAAAAAElFTkSuQmCC\n",
       "\" style=\"display:inline;vertical-align:middle;\" /></a></span></td></tr>\n",
       "<tr><td>&nbsp;</td><td colspan=4 style=\"text-align:left\"><span style=\"font-size:20px;\"><a class=\"ProveItLink\" href=\"../../../../../../__pv_it/common/e4aad701f7f5516d8e7f0d805d518bf02c13322a0/expr.ipynb\"><img src=\"data:image/png;base64,iVBORw0KGgoAAAANSUhEUgAAAA8AAAAOBAMAAAACpFvcAAAALVBMVEX///8iIiIQEBBERERUVFS6\n",
       "urqIiIjc3NxmZmaqqqru7u6YmJgyMjLMzMwAAACK9jtgAAAAAXRSTlMAQObYZgAAAFtJREFUCNdj\n",
       "YACBOwxQcA5Kc59bAGGs7CuAMDbkBYBp1gXzNoAZSxnuJYAZAQx1DSCa16PDzwCshIGB6QCIMYGB\n",
       "gVEBSLMDGTwPgIxCIGZ+zsCw+N0pBk67hw0AfpEVEQi8t+wAAAAASUVORK5CYII=\n",
       "\" style=\"display:inline;vertical-align:middle;\" /></a> : <a class=\"ProveItLink\" href=\"../../../../../../__pv_it/common/e4aad701f7f5516d8e7f0d805d518bf02c13322a0/expr.ipynb\"><img src=\"data:image/png;base64,iVBORw0KGgoAAAANSUhEUgAAAA8AAAAOBAMAAAACpFvcAAAALVBMVEX///8iIiIQEBBERERUVFS6\n",
       "urqIiIjc3NxmZmaqqqru7u6YmJgyMjLMzMwAAACK9jtgAAAAAXRSTlMAQObYZgAAAFtJREFUCNdj\n",
       "YACBOwxQcA5Kc59bAGGs7CuAMDbkBYBp1gXzNoAZSxnuJYAZAQx1DSCa16PDzwCshIGB6QCIMYGB\n",
       "gVEBSLMDGTwPgIxCIGZ+zsCw+N0pBk67hw0AfpEVEQi8t+wAAAAASUVORK5CYII=\n",
       "\" style=\"display:inline;vertical-align:middle;\" /></a>, <a class=\"ProveItLink\" href=\"../../../../../../__pv_it/common/4eca3b30dcf58a58494e201d1b7886d8643a617b0/expr.ipynb\"><img src=\"data:image/png;base64,iVBORw0KGgoAAAANSUhEUgAAABAAAAAOBAMAAADUAYG5AAAALVBMVEX///8yMjKqqqoiIiLu7u7c\n",
       "3NyIiIjMzMwQEBC6urpERERmZmZUVFSYmJgAAACsPVCVAAAAAXRSTlMAQObYZgAAAGxJREFUCNdj\n",
       "YGC48+70nlUTGICgi4GB+zmQZn/LwMD5Gshge8rAwPsMyOBqYGDwMAEy+A4wsNs4ABl1Z68tVgBp\n",
       "ygtgYOkBMVaAOCChNyBGAsQYhnMTIMawvwJyGIHGzFjCwMAj92b3qUUMDAAXABxvZ4rl5AAAAABJ\n",
       "RU5ErkJggg==\n",
       "\" style=\"display:inline;vertical-align:middle;\" /></a> : <a class=\"ProveItLink\" href=\"../../../../../../__pv_it/common/4eca3b30dcf58a58494e201d1b7886d8643a617b0/expr.ipynb\"><img src=\"data:image/png;base64,iVBORw0KGgoAAAANSUhEUgAAABAAAAAOBAMAAADUAYG5AAAALVBMVEX///8yMjKqqqoiIiLu7u7c\n",
       "3NyIiIjMzMwQEBC6urpERERmZmZUVFSYmJgAAACsPVCVAAAAAXRSTlMAQObYZgAAAGxJREFUCNdj\n",
       "YGC48+70nlUTGICgi4GB+zmQZn/LwMD5Gshge8rAwPsMyOBqYGDwMAEy+A4wsNs4ABl1Z68tVgBp\n",
       "ygtgYOkBMVaAOCChNyBGAsQYhnMTIMawvwJyGIHGzFjCwMAj92b3qUUMDAAXABxvZ4rl5AAAAABJ\n",
       "RU5ErkJggg==\n",
       "\" style=\"display:inline;vertical-align:middle;\" /></a></span></td></tr><tr><td><a name=\"0x44ece4af0722e8b2_step5\">5</a></td><td>axiom</td><td></td><td><span style=\"font-size:20px;\"> <a class=\"ProveItLink\" href=\"../../axioms.ipynb#subset_eq_def\" style=\"text-decoration: none\">&nbsp;&#x22A2;&nbsp;&nbsp;</a><a class=\"ProveItLink\" href=\"../../../__pv_it/axioms/d7449297494a795000bc445b03cbe0385e2bd3490/expr.ipynb\"><img src=\"data:image/png;base64,iVBORw0KGgoAAAANSUhEUgAAATUAAAAVBAMAAADV6mS1AAAAMFBMVEX///8QEBCIiIhmZma6urrM\n",
       "zMxUVFQiIiJERETc3Nzu7u6qqqp2dnaYmJgyMjIAAAAcRTyBAAAAAXRSTlMAQObYZgAABCZJREFU\n",
       "SMfNVk1oXFUU/jp/mf90ISjoYjCLhmCbgYAFqWTQRRUqGbtQF2IG20Ja0A40ZZSojFLIxB8yqzYI\n",
       "Nk+UpqZSCy6kbgxNxDapdaDgT39HtAsj2KG16R+lnnPufTNv3n1vFN144Lzz7s/73nfuOfeeC3SS\n",
       "WE1pJ0lUja51lzp/8kGnwaOkF0bF1Ll93mfeQa0kLxiDqZ0rAyN7gO3GyEJaxv2cipc9uzVehH1d\n",
       "ELPE3cs+KL9pJbmsu74vlUq71esq+sdgHodNbskj9ExbPqjpqne/wovXhRubKQ6dtyNIZZXy62X1\n",
       "p/0nWsPDtDBDWSQzBjcBnPKL2mmffo13TLixYe/ETQ/pqiolOTRYba6kLf3UdTGD+GqDmwRiyY/b\n",
       "q22tH0ulehveh4obmdTi7Ow+H5B9Wklq/Tk2QacXb1Lq3Euu/WpyOzc7+0nRb4O1DTzX58ZL54Qb\n",
       "mxuVyms+KD1agZD1lWR2l3N4BXh2B9l5k1t3pTI+54MaoCyJP7j9sWOyL5YNvGRWuLHZBkzIkHo+\n",
       "cXV+xM7V97QCH2NYsmqv4x/hlfO9Y/xygR/JP0Syilskj6gr45vtKHn5KX7IvMGNSNXAS9WFG5vH\n",
       "ZUvQ+58q6VcjaSfQmFYgh+ksWgeK8v8mJUWBXr4w1y2UNbbvxZydxZQXi/jOelKImniJonBj04WA\n",
       "hOujOzIjWEDilp59j1aEtwzsLLtjGiUXArd5f5ncUMRau3Vo/lEO3qB93K0ikhYqqvE0L3a9DS/c\n",
       "EAQ2yZr64eIu5VUGwbqbW4gQpdN5XnSTj4ErPty+hZ3xqXfe5+MnOZN1cAOuqMaUiefgFqs/I0uT\n",
       "UZ58lsc6yx1TikKXCvTv7cdRhBNhoyPfCprb/jC9JXs2b6OcEdkcLTtiivA1TdTEC6mYssHEVklK\n",
       "rJcZQ2t7C3DthRihpRvSdWCr5Tzehsv2XnCtW3QvrU5fpD4KHYRCsOjYC18GGpDDI5iBG8+xF/C5\n",
       "fHQW/TLjFLDGnj2vlc+46E3V9/y4XbN+Jt/uY6YbPLgl2NN8uoa4ritHAg09SodD6Ha0oe8QY82v\n",
       "bLzgnCCwQTdTj/9yclJW5F1g2j5gNyo9eHcZicnr2XYCL9/d8nBFZl7y4KbyqbuK8CuVylvA4Q3H\n",
       "7R1GwYq/2Nej7xcH9lguvHRenb15dokHgxamuQHaKENVs2Z1kHjRi9sZSSHkoTLkEcSuedesTeN2\n",
       "zdIyoxBmmh1PkZO12NuI3ULsAY9a30E8ar0uTo1TmMPXslYUwDt/V+u1tGq9zs8biE2+Hr4f31wd\n",
       "GMk1p000y4XNo1Rq3ZG0eNyR9IK+tOkhC1GO02QZU9dr7grhHYbWHan9Dut/t/SXCT9uWno53/7B\n",
       "3dLJfMF04Oi/uJOnzFVY81/u5D/xpX5UTJvU8H+SvwBVZVBM8dnIYQAAAABJRU5ErkJggg==\n",
       "\" style=\"display:inline;vertical-align:middle;\" /></a></span></td></tr>\n",
       "<tr><td>&nbsp;</td><td colspan=4 style-\"text-align:left\"><a class=\"ProveItLink\" href=\"../../axioms.ipynb#subset_eq_def\">proveit.logic.sets.inclusion.subset_eq_def</a></td></tr></table>"
      ],
      "text/plain": [
       "\tstep type\trequirements\tstatement\n",
       "0\tgeneralizaton\t1\t|- forall_{A, B | forall_{x in A} (x in B)} (A subset_eq B)\n",
       "1\tinstantiation\t2, 3, 4\t{forall_{x in A} (x in B)} |- A subset_eq B\n",
       "\tP : A subset_eq B, Q : forall_{x in A} (x in B)\n",
       "2\ttheorem\t\t|- forall_{P, Q | Q, P = Q} P\n",
       "\tproveit.logic.equality.lhs_via_equality\n",
       "3\tassumption\t\t{forall_{x in A} (x in B)} |- forall_{x in A} (x in B)\n",
       "4\tinstantiation\t5\t|- (A subset_eq B) = [forall_{x in A} (x in B)]\n",
       "\tA : A, B : B\n",
       "5\taxiom\t\t|- forall_{A, B} ((A subset_eq B) = [forall_{x in A} (x in B)])\n",
       "\tproveit.logic.sets.inclusion.subset_eq_def"
      ]
     },
     "execution_count": 5,
     "metadata": {},
     "output_type": "execute_result"
    }
   ],
   "source": [
    "%qed"
   ]
  },
  {
   "cell_type": "code",
   "execution_count": null,
   "metadata": {},
   "outputs": [],
   "source": []
  }
 ],
 "metadata": {
  "kernelspec": {
   "display_name": "Python 3",
   "language": "python",
   "name": "python3"
  }
 },
 "nbformat": 4,
 "nbformat_minor": 0
}