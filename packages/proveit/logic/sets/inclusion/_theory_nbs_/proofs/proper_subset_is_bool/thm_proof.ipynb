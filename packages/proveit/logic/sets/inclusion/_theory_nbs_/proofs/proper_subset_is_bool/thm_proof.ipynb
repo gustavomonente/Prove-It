{
 "cells": [
  {
   "cell_type": "markdown",
   "metadata": {},
   "source": [
    "Proof of <a class=\"ProveItLink\" href=\"../../../../../../_theory_nbs_/theory.ipynb\">proveit</a>.<a class=\"ProveItLink\" href=\"../../../../../_theory_nbs_/theory.ipynb\">logic</a>.<a class=\"ProveItLink\" href=\"../../../../_theory_nbs_/theory.ipynb\">sets</a>.<a class=\"ProveItLink\" href=\"../../theory.ipynb\">inclusion</a>.<a class=\"ProveItLink\" href=\"../../theorems.ipynb#proper_subset_is_bool\">proper_subset_is_bool</a> theorem\n",
    "========"
   ]
  },
  {
   "cell_type": "code",
   "execution_count": 1,
   "metadata": {},
   "outputs": [],
   "source": [
    "import proveit\n",
    "theory = proveit.Theory() # the theorem's theory"
   ]
  },
  {
   "cell_type": "code",
   "execution_count": 2,
   "metadata": {},
   "outputs": [
    {
     "data": {
      "text/html": [
       "Under these <a href=\"presumptions.txt\">presumptions</a>, we begin our proof of<br><strong id=\"proper_subset_is_bool\">proper_subset_is_bool:</strong> <a class=\"ProveItLink\" href=\"../../../__pv_it/theorems/e3396ec932794e84a3fa05061950ef16a563dc230/expr.ipynb\"><img src=\"data:image/png;base64,iVBORw0KGgoAAAANSUhEUgAAALcAAAAVBAMAAAD2lGJJAAAAMFBMVEX///8QEBCIiIhmZma6urrM\n",
       "zMxUVFQiIiJERETc3Nzu7u6qqqp2dnaYmJgyMjIAAAAcRTyBAAAAAXRSTlMAQObYZgAAAuBJREFU\n",
       "OMutVU1oE1EQ/sxfs5s0zaEQQZGAB3vRFgt6ERrwUClIcqoXsYFWSD3YikiQqkQRmorSnKwnE6lo\n",
       "qBALHsSTpTmoVWSPikYj6sEKtliJbUXjvJ/dbDbZgOAHs/vezHvzZr+Z2Qe0gqIJaQVfprn+EUmZ\n",
       "DUo2G/NSCMcajO1jld7EZWC0Xu04lf4TGgE8dOhzpli2cf5FCmGl0bolBfTFULCoA+5wflaDSmHf\n",
       "YF+fau67vUcIG67kGsxDRFi0B/5wvdrr0hwx8rhI59Am/3xz520ZIYR7fZLaV8lk8owYdpPqfRhq\n",
       "UIYymbwgnfvmyfktUi3Nzc3YsDIjhaB1R/j75rOa+SKghii2T3zmvpQzIvcPkPMA7VhPp8/ZON8p\n",
       "BXDlHouiOWsyV4AjJ+hd5LNCrkZL/2CM+CBCjwNTXCmeh9aKCb24rkkBbmOIM+s0EeiulLom2OAd\n",
       "n47WOA9VOxlNlNGDPK80/iGYC8IvScSEFCCCLE9sm7nmNojXOA0e8mnKlFB/aYEaYJytd/Avnv3N\n",
       "Tc44fJtyWacUuId7x/jm6+aqoBgcv1jV8CU7vhGkc6QOk2aVqNFEOEunRYWE4SxbnbuoqMuodRRH\n",
       "B0Xt+K47V8yRI+URzpXyID85nOam+zHsyVlpIabbglZaWJl7GJf9fBo0O48HKKJxlsgRpvJgPzdF\n",
       "d3fFYUmoQs4Dq0xjbhhW5kMpI6F76yJ/KxKKB+wEvEE3N70EdunLilJYrXs3uOprzfkHCm4r+8gD\n",
       "gs95o/0X/EUK0LnAuGPRqB9fTHM2rgJZfVm/kHx1Gb7pn7xc7ozonJ2sDu9L85Wf+VxNDNT9uBCI\n",
       "seJjy505ZNkElP5oprH9DRydNNpfQh0Xb9dT0f467hojKp0OTbkCZRPK9iY/rhaw/rh0LBpJWIcy\n",
       "fd69DU/WehMRwz5lNG4LFJqr1bL1VrG/LOxhc7o30+Rq+tdrrt3mmnttVWj4r/gLpCfCqvXZkQMA\n",
       "AAAASUVORK5CYII=\n",
       "\" style=\"display:inline;vertical-align:middle;\" /></a><br>(see <a class=\"ProveItLink\" href=\"../../../__pv_it/theorems/51cd189f72d9eb913d54b16415b2f8e6bfe86b410/dependencies.ipynb\">dependencies</a>)<br>"
      ],
      "text/plain": [
       "proper_subset_is_bool: forall_{A, B} ((A proper_subset B) in BOOLEAN)"
      ]
     },
     "execution_count": 2,
     "metadata": {},
     "output_type": "execute_result"
    }
   ],
   "source": [
    "%proving proper_subset_is_bool"
   ]
  },
  {
   "cell_type": "code",
   "execution_count": null,
   "metadata": {},
   "outputs": [],
   "source": []
  }
 ],
 "metadata": {
  "kernelspec": {
   "display_name": "Python 3",
   "language": "python",
   "name": "python3"
  }
 },
 "nbformat": 4,
 "nbformat_minor": 0
}