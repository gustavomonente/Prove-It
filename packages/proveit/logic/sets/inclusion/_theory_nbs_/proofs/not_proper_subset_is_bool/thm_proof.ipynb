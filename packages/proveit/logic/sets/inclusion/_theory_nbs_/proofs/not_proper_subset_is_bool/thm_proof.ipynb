{
 "cells": [
  {
   "cell_type": "markdown",
   "metadata": {},
   "source": [
    "Proof of <a class=\"ProveItLink\" href=\"../../../../../../_theory_nbs_/theory.ipynb\">proveit</a>.<a class=\"ProveItLink\" href=\"../../../../../_theory_nbs_/theory.ipynb\">logic</a>.<a class=\"ProveItLink\" href=\"../../../../_theory_nbs_/theory.ipynb\">sets</a>.<a class=\"ProveItLink\" href=\"../../theory.ipynb\">inclusion</a>.<a class=\"ProveItLink\" href=\"../../theorems.ipynb#not_proper_subset_is_bool\">not_proper_subset_is_bool</a> theorem\n",
    "========"
   ]
  },
  {
   "cell_type": "code",
   "execution_count": 1,
   "metadata": {},
   "outputs": [],
   "source": [
    "import proveit\n",
    "theory = proveit.Theory() # the theorem's theory"
   ]
  },
  {
   "cell_type": "code",
   "execution_count": 2,
   "metadata": {},
   "outputs": [
    {
     "data": {
      "text/html": [
       "Under these <a href=\"presumptions.txt\">presumptions</a>, we begin our proof of<br><strong id=\"not_proper_subset_is_bool\">not_proper_subset_is_bool:</strong> <a class=\"ProveItLink\" href=\"../../../__pv_it/theorems/a124b9a0b951142155104573fb513d16f6fed16e0/expr.ipynb\"><img src=\"data:image/png;base64,iVBORw0KGgoAAAANSUhEUgAAALcAAAAVCAMAAAAzZI9IAAAAPFBMVEX///9RUVGurq4bGxsLCwsQ\n",
       "EBCIiIhmZma6urrMzMxUVFQiIiJERETc3Nzu7u6qqqp2dnaYmJgyMjIAAADYQjYbAAAAAXRSTlMA\n",
       "QObYZgAAAtJJREFUSMe9V9eipCAMdQvSQs3//+tSxwA66n1YHiY6HuCQzrb9fJgwym/D2+tvzrza\n",
       "tsLj5z2Ed7QtjLIOGU+POP4bFKLiXAGI/Kq+E981A8DItCroCveuf472He9oRtne8AzbdjwGq4fl\n",
       "KPPJ491Wm9yTfiwvqi1w07Vl4B3twEfZ3iKeHH9ZW2I1rsAy2+/f94JNJPwut7pOgXc1H4p/NrQZ\n",
       "ZfUZx3E0egCt9d8/WsvB9A0VsDC2bFsn6Tjxdq7xLvDgbR5GvwxKPcq2YWIkBr/25syUwBoBXbUW\n",
       "6SQJuz3Ttxc9lAocIQ/t3/He+Sir2e3mMCxGATnPRlUIatWNTVaxa6AV3kJLJQm8vgAxL30WgNyn\n",
       "yJ9DHsIoy44iey7xVe6q/rbFvVUIO2h3hAWJYXPm30wjMkHhgk8hHQZTh2JSz2b3dqMsZ8yegUR1\n",
       "1YdWdTf3tkz1nKwpyYu49CF4Cs8/+6E2ywdT87K2m9NEPzs7zihTSuYKj31N9Qa1Xbh34u+6AY5V\n",
       "WOxj4t1Fh/vQNdNKm6Y+q4vd+ZxiT3jXJxanygSr3VF13vvC21zqO1tCEXgqZkQnKcMDmWpLZdiX\n",
       "WFn9pP/BRj8Rq7p79t5U90hB9MYueate3hscDKln6SMnqwjcUwSdmHqOS+PWgpkLRFzV3bO3/PgU\n",
       "jUu+X+u7OXiDO0I0uLwu2TrWFmFplPgoP3kcaOGJTvCTsl1VKhh0K3J/YsqhzieA91yN8CN32ci9\n",
       "BxKEUCAG57W6Zau0gFhcyaUHEh5Wsd+zh6nYm6pjzUhTjlUg7Je+6oCHD4zbwvJYphIWaB7V+bXp\n",
       "/OVLzZ7q/NxaTuYUZVJ8Ct96nslxY6Aeofwy/7CvWiz8qMm866vu4FACxQDqkPJo0rTXmHMyiLMm\n",
       "zazVdVH3o+7hto99B3c/uTf8RN3w7sJzA7+9Pj24p4lHnfw72nfwl9e2/zv+AbGvI6N61LC3AAAA\n",
       "AElFTkSuQmCC\n",
       "\" style=\"display:inline;vertical-align:middle;\" /></a><br>(see <a class=\"ProveItLink\" href=\"../../../__pv_it/theorems/2acf9ce5a62fc7db8b477901e9e8b073e7cf76d20/dependencies.ipynb\">dependencies</a>)<br>"
      ],
      "text/plain": [
       "not_proper_subset_is_bool: forall_{A, B} ((A not_proper_subset B) in BOOLEAN)"
      ]
     },
     "execution_count": 2,
     "metadata": {},
     "output_type": "execute_result"
    }
   ],
   "source": [
    "%proving not_proper_subset_is_bool"
   ]
  },
  {
   "cell_type": "code",
   "execution_count": null,
   "metadata": {},
   "outputs": [],
   "source": []
  }
 ],
 "metadata": {
  "kernelspec": {
   "display_name": "Python 3",
   "language": "python",
   "name": "python3"
  }
 },
 "nbformat": 4,
 "nbformat_minor": 0
}