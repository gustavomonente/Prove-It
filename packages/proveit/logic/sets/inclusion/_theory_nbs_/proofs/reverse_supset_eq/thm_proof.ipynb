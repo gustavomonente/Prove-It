{
 "cells": [
  {
   "cell_type": "markdown",
   "metadata": {},
   "source": [
    "Proof of <a class=\"ProveItLink\" href=\"../../../../../../_theory_nbs_/theory.ipynb\">proveit</a>.<a class=\"ProveItLink\" href=\"../../../../../_theory_nbs_/theory.ipynb\">logic</a>.<a class=\"ProveItLink\" href=\"../../../../_theory_nbs_/theory.ipynb\">sets</a>.<a class=\"ProveItLink\" href=\"../../theory.ipynb\">inclusion</a>.<a class=\"ProveItLink\" href=\"../../theorems.ipynb#reverse_supset_eq\">reverse_supset_eq</a> theorem\n",
    "========"
   ]
  },
  {
   "cell_type": "code",
   "execution_count": 1,
   "metadata": {},
   "outputs": [],
   "source": [
    "import proveit\n",
    "from proveit import x, A, B\n",
    "from proveit.logic import InSet, SupersetEq\n",
    "from proveit.logic.sets.inclusion import fold_subset_eq, unfold_supset_eq"
   ]
  },
  {
   "cell_type": "code",
   "execution_count": 2,
   "metadata": {},
   "outputs": [
    {
     "data": {
      "text/html": [
       "Under these <a href=\"presumptions.txt\">presumptions</a>, we begin our proof of<br><strong id=\"reverse_supset_eq\">reverse_supset_eq:</strong> <a class=\"ProveItLink\" href=\"../../../__pv_it/theorems/92dc7ebf108e9ba96bde8cf6665d4cc5aace11f50/expr.ipynb\"><img src=\"data:image/png;base64,iVBORw0KGgoAAAANSUhEUgAAALoAAAAWBAMAAACF/ptXAAAAMFBMVEX///8QEBCIiIhmZma6urrM\n",
       "zMxUVFQiIiJERETc3Nzu7u6qqqp2dnaYmJgyMjIAAAAcRTyBAAAAAXRSTlMAQObYZgAAAtZJREFU\n",
       "SMetVU1oE1EQ/rpJ2t1NNvamoIfc7EUrBCJosQEPiiANCrUnE6g/1YMtegiiYgUpW1EST/YiWVFQ\n",
       "KtSgB/HUapGWKhL1KLUR9VKEltb+I3XmvW760mqrSx/s23lv3nwz75vZWcDzuLuOPpgFiiwMewA3\n",
       "2wGrdTracv1P2uP0nAHesDzqAT1MoaGCXNQnxNo6nU6nE652jJ4eoIteRrsH9I88JQtAwy6WjB9Z\n",
       "RWmNOUAogjC/8h7QL/JUS5AjkdJVSuNxPS3NalhD3d13PIAbbTxfI4zNDkt7y7SF2jjN34BZ277s\n",
       "AV0TfEwDx86KdZuq9Du9RBn6gZNAp9iS88HJ/hZxSb97VC/d2Z+pi3W6u2wemB6uuSSvklLRHyDJ\n",
       "dH0G9sMUVWn9lPmoRqhamLtHR+Josu1bLL4HXi7tVnGutDngXsqtz+URR46v9pyOQeMwcP+XUPhS\n",
       "CM6r6Ga9UAfZPAb0OnK7gonVKQ5tYRUzgeZoKx9PUsEUqsTW0AUZUwS+oooeeigYRiM954F9UNA3\n",
       "UdzahFi/UmkndVGiG8VG4S9iC82TBHY6KvoRXV660oE5BW1UZYbLvVIyGlaqmsQqZvcAZ/OEMMZu\n",
       "oWnYUSMT5KKnfPLSVhz+iQ8dULPK5Z6Uzs1Th0rFSujhcZlVPBPWn1ArVO+A7Sq6ldfGZQkmECpC\n",
       "c/kNMV9fiIUtS4kIDLqdgD8fnfKNOiaPi8f8+jYjjt0EcnkFvaducN71pvfBWHC5JTfnFptj9qrv\n",
       "/NHiKIKZGfL+naNjVJ+DnHBM1g1ZBX0PjCkhPKU48vDPlXWCtbtoqY4Ok23BuAFjHsY2hRk/0StK\n",
       "9SjFknNwu6+si605QhE3R7MwMlcCWzEwGW2JK+iZdnTNFJrsjtd0+mo0ttzM9bK2hYF0Wu3AkB24\n",
       "/HeiyPo//D3WHp0r1i/+A33dP5+VXbFR+As69Rm7Axs5fBuA8RuYnbRgQbcVWQAAAABJRU5ErkJg\n",
       "gg==\n",
       "\" style=\"display:inline;vertical-align:middle;\" /></a><br>(see <a class=\"ProveItLink\" href=\"../../../__pv_it/theorems/854bbee157245b2831aedec123b3084d4405b6950/dependencies.ipynb\">dependencies</a>)<br>"
      ],
      "text/plain": [
       "reverse_supset_eq: forall_{A, B | A supseteq B} (B subseteq A)"
      ]
     },
     "execution_count": 2,
     "metadata": {},
     "output_type": "execute_result"
    }
   ],
   "source": [
    "%proving reverse_supset_eq"
   ]
  },
  {
   "cell_type": "code",
   "execution_count": 3,
   "metadata": {},
   "outputs": [
    {
     "data": {
      "text/html": [
       "<span style=\"font-size:20px;\"> <a class=\"ProveItLink\" href=\"../unfold_supset_eq/thm_proof.ipynb\" style=\"text-decoration: none\">&nbsp;&#x22A2;&nbsp;&nbsp;</a><a class=\"ProveItLink\" href=\"../../../__pv_it/theorems/9fd94537d5c1ebe5801dad44e0107dcbaa4202130/expr.ipynb\"><img src=\"data:image/png;base64,iVBORw0KGgoAAAANSUhEUgAAAPYAAAAWBAMAAAABeHx5AAAAMFBMVEX///8QEBCIiIhmZma6urrM\n",
       "zMxUVFQiIiJERETc3Nzu7u6qqqp2dnaYmJgyMjIAAAAcRTyBAAAAAXRSTlMAQObYZgAAAzRJREFU\n",
       "SMe9lktoE0EYx/9usiabR9u7HhbFBwXbQrBeigY9qKC0XtSTDWqhFdGihSJq7aHoVoXEk71IFpQi\n",
       "VbTgQStCaysIUTRqQUEsAfVSsA19YB+IfjOzj4m02xrRgd3MfP/85zc7883sAkUWZazO+w83PLRw\n",
       "ChhpQY7VP/05OxL3dobaF1MO0dVE1zO8YM3RYtjezpLUYso4Xfc4u4vuWnsxbG/nu8WE6LhJbp2x\n",
       "S1ittxi2t/NMQetDa2vOqt7ZRjMSKmPsaKan5zqKYXs6tWa5dbDcrWcr43T/wtiYMYxzRbE9nUoV\n",
       "Pdyapu2DPO+krPCb/Vn6GeLsBqCTR8V91+RQI08Tv/3vTsfnaILdIGvMkayptgNBAtzFe72NNVZK\n",
       "eXcL9bTWGOHsHQjxpYhOiVQoQ6SMu+3cmIJqGEZW1gTbdjrlDfDUqgYoETJ4be6Wu2IljjRNCR5y\n",
       "dgAK6xc3f3DNl0B4TjZY8UeyJti2k83qkxhVq4F+UwRW0KKaMERj3xgVMUz1SOwk2xv1nB3JBng0\n",
       "c1oMWIcvJ7OtuJqQNMG2nSyP+3rofgrYCpcNTIhGl7QuJOUctpbbz/vWxSDv16HClNh2HMckTbCF\n",
       "c3Dz+jp/FX/4aSij0pxDnbYG4rIpHGDLtpOz0XmU5wO2cLF208YEJLYdx7CkCTZ3KuaJQLxEPNPE\n",
       "24uQcu2xkgffXD7d2XrELsk7uYYHfCt+RCVXXwEbZLYdxzpJs9jMqeIb5YQI5aDY2zpSBf98MK+J\n",
       "hDhru9h5EJylW41gl7JRhT6/TPLpvAqke122E0e7pFls7gR1dYA2go7gALR5e12bETpcvtZ61XR3\n",
       "iD5u/xxFOPmdVuirYEdZ3GcizV+KZK5NuWwnHtYlzWJzp5pXaWFYKe2Ff3bhM3XPpdaC7RhqFmxe\n",
       "9pI1q12GNgdttTTnPM4IMUiaxWYlHclFEOHDS5u4NrDku0S4dZcdnIGWPK+uwvPJWGPcZVtxwzhO\n",
       "vbuaxO4eHswAV1jkQqy6w+k9mPJii3do4feEVA8ueZ7Lxzdb72V+O9jn9G/svuWzlba/+GaK0qRU\n",
       "tBTGsguz2XluJPD/iu+fE34B7C73U/q3q50AAAAASUVORK5CYII=\n",
       "\" style=\"display:inline;vertical-align:middle;\" /></a></span>"
      ],
      "text/plain": [
       "|- forall_{A, B | A supseteq B} [forall_{x in B} (x in A)]"
      ]
     },
     "execution_count": 3,
     "metadata": {},
     "output_type": "execute_result"
    }
   ],
   "source": [
    "unfold_supset_eq"
   ]
  },
  {
   "cell_type": "code",
   "execution_count": 4,
   "metadata": {},
   "outputs": [
    {
     "data": {
      "text/html": [
       "<strong id=\"unfold_supset_eq_inst\">unfold_supset_eq_inst:</strong> <span style=\"font-size:20px;\"><a class=\"ProveItLink\" href=\"../../../__pv_it/theorems/05e344b7208c2c23dfa6004888e7fe9f4480f8570/expr.ipynb\"><img src=\"data:image/png;base64,iVBORw0KGgoAAAANSUhEUgAAADsAAAARBAMAAACRPMnQAAAAMFBMVEX///92dnYiIiIQEBBERERU\n",
       "VFS6urqIiIjc3NxmZmaqqqru7u6YmJgyMjLMzMwAAADiRdoGAAAAAXRSTlMAQObYZgAAAPNJREFU\n",
       "KM9jYACBtwzogCf+68wQNyjnPpjcq6Sk5A6TZ3ZgYJj/AKL0/gaY6J5rUMb7AwwM+RPAzF3zG+Cm\n",
       "7oUy64H0+QIw80B9Alya7wKEdmZg4DYCG8q2Yf0BhKNuQKivDAyPosGsbQzvCxDSUhBDvp4p0YII\n",
       "JDD0T0BITwOT7D8YGDYHgBVGzox3QEhD7GYxACr5BbYa6MkLcFkusBYGfiDF/h3EWsDAwGQAl360\n",
       "Ae5t1m9ABgdQmvcDVJI70wPh7fcgK5tANv2ABqqKFFTdZaClJkCDtvy/zcDl/2kCaozE/o+c6rKA\n",
       "gYoAFKFKSgHIQgBh7kHj8bFnhwAAAABJRU5ErkJggg==\n",
       "\" style=\"display:inline;vertical-align:middle;\" /></a> <a class=\"ProveItLink\" href=\"../../../__pv_it/_proof_reverse_supset_eq/1c74b1baeae784e66a2e3672faa6078f67a70f980/proof.ipynb\" style=\"text-decoration: none\">&nbsp;&#x22A2;&nbsp;&nbsp;</a><a class=\"ProveItLink\" href=\"../../../__pv_it/theorems/5fe3ac1ef2ec4c483ac7c2c4656569e4720b9b250/expr.ipynb\"><img src=\"data:image/png;base64,iVBORw0KGgoAAAANSUhEUgAAAHwAAAAUBAMAAAC9l0S6AAAAMFBMVEX///8QEBCIiIhmZma6urrM\n",
       "zMxUVFQiIiJERETc3Nzu7u6qqqp2dnaYmJgyMjIAAAAcRTyBAAAAAXRSTlMAQObYZgAAAghJREFU\n",
       "OMulVL9LHEEU/lx2vd117/QvCIsBCxsPD6+SeCRFSCor7SKogVyjYiOCJCIh2cPCS5U0wYUEkVMO\n",
       "wSIkBNSzCZfC9Qdoo2yhzYF6CKJioW92bm/XkLkEHJiZ9+a9b+a9771doPb4XMPWkAVcJuyLPPRJ\n",
       "keUFzTTwm8klkVMsK7Kc0swDn2jThG9siwzRUxswTMTYtiTyGr8DeT/22pcXuiguvQnRYi73UYTW\n",
       "RkKKMmUHitOWovUQuLSsCRFcitMTzenHBabkQ2jZXnFoWwdeApkwRJ7pTPoHKvksYtf0Yk6HnL6i\n",
       "z6TtAHgC3b3z5CawVhEjREoRG/YzpoT5TWGWAsM3coHk+FX+mSAxCaxU4qyjBG1YPPUHJzQqNAwk\n",
       "htltfUS7E/Hv3Pueo3UUeIQADpxxGkOvy2RyOVxze0godLR0y3EvhHNIpVDwUM650hTA6TjC1Kc0\n",
       "M4NEsT0UScX4zWdb7xCi7odURitT2oN6EjxW5tRhmYqr4Bj44tkMF5JfbiMO+Vota041FG+wPlGv\n",
       "aOmk2chKANJ6Lcsyoa5Cu/ZzHIHe3/qQf1H6q+f8dP6mhIaZC0r1iPUio1kpK6j3jI1LkK/+2rTy\n",
       "r6Bp+YV+lLOGa8Do9kQbH1b/+cnw3MyKMLdTKALT7OhNIvm26qBma8Hzf7Q4y/0/fxdsZIB7/Kyi\n",
       "WdwC4dSAI0sQYN4AAAAASUVORK5CYII=\n",
       "\" style=\"display:inline;vertical-align:middle;\" /></a></span><br>"
      ],
      "text/plain": [
       "unfold_supset_eq_inst: {A supseteq B} |- forall_{x in B} (x in A)"
      ]
     },
     "execution_count": 4,
     "metadata": {},
     "output_type": "execute_result"
    }
   ],
   "source": [
    "unfold_supset_eq_inst = unfold_supset_eq.instantiate(assumptions=[SupersetEq(A, B)])"
   ]
  },
  {
   "cell_type": "code",
   "execution_count": 5,
   "metadata": {},
   "outputs": [
    {
     "data": {
      "text/html": [
       "<table><tr><th>&nbsp;</th><th>step type</th><th>requirements</th><th>statement</th></tr>\n",
       "<tr><td><a name=\"0x4b17d35366824e7b_step0\">0</a></td><td>generalizaton</td><td><a href=\"#0x4b17d35366824e7b_step1\">1</a></td><td><span style=\"font-size:20px;\"> <a class=\"ProveItLink\" href=\"../../../__pv_it/_proof_reverse_supset_eq/4575ecb0256ef9ba6e062444aa8c49eb910cfd2f0/proof.ipynb\" style=\"text-decoration: none\">&nbsp;&#x22A2;&nbsp;&nbsp;</a><a class=\"ProveItLink\" href=\"../../../__pv_it/theorems/92dc7ebf108e9ba96bde8cf6665d4cc5aace11f50/expr.ipynb\"><img src=\"data:image/png;base64,iVBORw0KGgoAAAANSUhEUgAAALoAAAAWBAMAAACF/ptXAAAAMFBMVEX///8QEBCIiIhmZma6urrM\n",
       "zMxUVFQiIiJERETc3Nzu7u6qqqp2dnaYmJgyMjIAAAAcRTyBAAAAAXRSTlMAQObYZgAAAtZJREFU\n",
       "SMetVU1oE1EQ/rpJ2t1NNvamoIfc7EUrBCJosQEPiiANCrUnE6g/1YMtegiiYgUpW1EST/YiWVFQ\n",
       "KtSgB/HUapGWKhL1KLUR9VKEltb+I3XmvW760mqrSx/s23lv3nwz75vZWcDzuLuOPpgFiiwMewA3\n",
       "2wGrdTracv1P2uP0nAHesDzqAT1MoaGCXNQnxNo6nU6nE652jJ4eoIteRrsH9I88JQtAwy6WjB9Z\n",
       "RWmNOUAogjC/8h7QL/JUS5AjkdJVSuNxPS3NalhD3d13PIAbbTxfI4zNDkt7y7SF2jjN34BZ277s\n",
       "AV0TfEwDx86KdZuq9Du9RBn6gZNAp9iS88HJ/hZxSb97VC/d2Z+pi3W6u2wemB6uuSSvklLRHyDJ\n",
       "dH0G9sMUVWn9lPmoRqhamLtHR+Josu1bLL4HXi7tVnGutDngXsqtz+URR46v9pyOQeMwcP+XUPhS\n",
       "CM6r6Ga9UAfZPAb0OnK7gonVKQ5tYRUzgeZoKx9PUsEUqsTW0AUZUwS+oooeeigYRiM954F9UNA3\n",
       "UdzahFi/UmkndVGiG8VG4S9iC82TBHY6KvoRXV660oE5BW1UZYbLvVIyGlaqmsQqZvcAZ/OEMMZu\n",
       "oWnYUSMT5KKnfPLSVhz+iQ8dULPK5Z6Uzs1Th0rFSujhcZlVPBPWn1ArVO+A7Sq6ldfGZQkmECpC\n",
       "c/kNMV9fiIUtS4kIDLqdgD8fnfKNOiaPi8f8+jYjjt0EcnkFvaducN71pvfBWHC5JTfnFptj9qrv\n",
       "/NHiKIKZGfL+naNjVJ+DnHBM1g1ZBX0PjCkhPKU48vDPlXWCtbtoqY4Ok23BuAFjHsY2hRk/0StK\n",
       "9SjFknNwu6+si605QhE3R7MwMlcCWzEwGW2JK+iZdnTNFJrsjtd0+mo0ttzM9bK2hYF0Wu3AkB24\n",
       "/HeiyPo//D3WHp0r1i/+A33dP5+VXbFR+As69Rm7Axs5fBuA8RuYnbRgQbcVWQAAAABJRU5ErkJg\n",
       "gg==\n",
       "\" style=\"display:inline;vertical-align:middle;\" /></a></span></td></tr>\n",
       "<tr><td><a name=\"0x4b17d35366824e7b_step1\">1</a></td><td>instantiation</td><td><a href=\"#0x4b17d35366824e7b_step2\">2</a>, <a href=\"#0x4b17d35366824e7b_step3\">3</a></td><td><span style=\"font-size:20px;\"><a class=\"ProveItLink\" href=\"../../../__pv_it/theorems/05e344b7208c2c23dfa6004888e7fe9f4480f8570/expr.ipynb\"><img src=\"data:image/png;base64,iVBORw0KGgoAAAANSUhEUgAAADsAAAARBAMAAACRPMnQAAAAMFBMVEX///92dnYiIiIQEBBERERU\n",
       "VFS6urqIiIjc3NxmZmaqqqru7u6YmJgyMjLMzMwAAADiRdoGAAAAAXRSTlMAQObYZgAAAPNJREFU\n",
       "KM9jYACBtwzogCf+68wQNyjnPpjcq6Sk5A6TZ3ZgYJj/AKL0/gaY6J5rUMb7AwwM+RPAzF3zG+Cm\n",
       "7oUy64H0+QIw80B9Alya7wKEdmZg4DYCG8q2Yf0BhKNuQKivDAyPosGsbQzvCxDSUhBDvp4p0YII\n",
       "JDD0T0BITwOT7D8YGDYHgBVGzox3QEhD7GYxACr5BbYa6MkLcFkusBYGfiDF/h3EWsDAwGQAl360\n",
       "Ae5t1m9ABgdQmvcDVJI70wPh7fcgK5tANv2ABqqKFFTdZaClJkCDtvy/zcDl/2kCaozE/o+c6rKA\n",
       "gYoAFKFKSgHIQgBh7kHj8bFnhwAAAABJRU5ErkJggg==\n",
       "\" style=\"display:inline;vertical-align:middle;\" /></a> <a class=\"ProveItLink\" href=\"../../../__pv_it/_proof_reverse_supset_eq/4d7a4981985948885e9e1f3e1c9c61b35740af5f0/proof.ipynb\" style=\"text-decoration: none\">&nbsp;&#x22A2;&nbsp;&nbsp;</a><a class=\"ProveItLink\" href=\"../../../__pv_it/theorems/d5b0af4e04f985ab73bddb2ee7a9efe9e2ef36c20/expr.ipynb\"><img src=\"data:image/png;base64,iVBORw0KGgoAAAANSUhEUgAAADsAAAARBAMAAACRPMnQAAAAMFBMVEX///92dnYyMjKqqqoiIiLu\n",
       "7u7c3NyIiIjMzMwQEBC6urpERERmZmZUVFSYmJgAAADEjrHzAAAAAXRSTlMAQObYZgAAAO5JREFU\n",
       "KM9jYGB4+//O2d0LGDBBE4SazcDA8wPM4rvi4uLSAJPWB5Mc/xgYuP6AWGyKCUia+fQDQBT7NyDz\n",
       "O4jFhCzLEHwezOWewMAQ6QpiHUax+kE92EH8Fxg4fMHmOCDLcgXYPwDR/feebzEAW30BWTqKob8A\n",
       "RNcnMLDOBTFYNyBLL2DIPwCid4KUGKAbznHnzH2w8r8gabA54shWMzBwKkC9zXAf7EgmA4Q0kMky\n",
       "Aeptjt9gIda7S2GybEBppg8gLUA1K7dCLZSGBWoKKECAGnn1/565vRk9NqL/qzIw7/9ygIF6QMTF\n",
       "BTlCgQAAZho+lB/Z+SsAAAAASUVORK5CYII=\n",
       "\" style=\"display:inline;vertical-align:middle;\" /></a></span></td></tr>\n",
       "<tr><td>&nbsp;</td><td colspan=4 style=\"text-align:left\"><span style=\"font-size:20px;\"><a class=\"ProveItLink\" href=\"../../../../../../__pv_it/common/09585084922504426caf1db2ff588a23a0932a960/expr.ipynb\"><img src=\"data:image/png;base64,iVBORw0KGgoAAAANSUhEUgAAAA8AAAAOBAMAAAACpFvcAAAALVBMVEX///8iIiIQEBBERERUVFS6\n",
       "urqIiIjc3NxmZmaqqqru7u6YmJgyMjLMzMwAAACK9jtgAAAAAXRSTlMAQObYZgAAAFtJREFUCNdj\n",
       "YACBOwxQcA5Kc59bAGGs7CuAMDbkBYBp1gXzNoAZSxnuJYAZAQx1DSCa16PDzwCshIGB6QCIMYGB\n",
       "gVEBSLMDGTwPgIxCIGZ+zsCw+N0pBk67hw0AfpEVEQi8t+wAAAAASUVORK5CYII=\n",
       "\" style=\"display:inline;vertical-align:middle;\" /></a> : <a class=\"ProveItLink\" href=\"../../../../../../__pv_it/common/a9162d1c3cc0470c02e5daf414500903a7a419230/expr.ipynb\"><img src=\"data:image/png;base64,iVBORw0KGgoAAAANSUhEUgAAABAAAAAOBAMAAADUAYG5AAAALVBMVEX///8yMjKqqqoiIiLu7u7c\n",
       "3NyIiIjMzMwQEBC6urpERERmZmZUVFSYmJgAAACsPVCVAAAAAXRSTlMAQObYZgAAAGxJREFUCNdj\n",
       "YGC48+70nlUTGICgi4GB+zmQZn/LwMD5Gshge8rAwPsMyOBqYGDwMAEy+A4wsNs4ABl1Z68tVgBp\n",
       "ygtgYOkBMVaAOCChNyBGAsQYhnMTIMawvwJyGIHGzFjCwMAj92b3qUUMDAAXABxvZ4rl5AAAAABJ\n",
       "RU5ErkJggg==\n",
       "\" style=\"display:inline;vertical-align:middle;\" /></a>, <a class=\"ProveItLink\" href=\"../../../../../../__pv_it/common/a9162d1c3cc0470c02e5daf414500903a7a419230/expr.ipynb\"><img src=\"data:image/png;base64,iVBORw0KGgoAAAANSUhEUgAAABAAAAAOBAMAAADUAYG5AAAALVBMVEX///8yMjKqqqoiIiLu7u7c\n",
       "3NyIiIjMzMwQEBC6urpERERmZmZUVFSYmJgAAACsPVCVAAAAAXRSTlMAQObYZgAAAGxJREFUCNdj\n",
       "YGC48+70nlUTGICgi4GB+zmQZn/LwMD5Gshge8rAwPsMyOBqYGDwMAEy+A4wsNs4ABl1Z68tVgBp\n",
       "ygtgYOkBMVaAOCChNyBGAsQYhnMTIMawvwJyGIHGzFjCwMAj92b3qUUMDAAXABxvZ4rl5AAAAABJ\n",
       "RU5ErkJggg==\n",
       "\" style=\"display:inline;vertical-align:middle;\" /></a> : <a class=\"ProveItLink\" href=\"../../../../../../__pv_it/common/09585084922504426caf1db2ff588a23a0932a960/expr.ipynb\"><img src=\"data:image/png;base64,iVBORw0KGgoAAAANSUhEUgAAAA8AAAAOBAMAAAACpFvcAAAALVBMVEX///8iIiIQEBBERERUVFS6\n",
       "urqIiIjc3NxmZmaqqqru7u6YmJgyMjLMzMwAAACK9jtgAAAAAXRSTlMAQObYZgAAAFtJREFUCNdj\n",
       "YACBOwxQcA5Kc59bAGGs7CuAMDbkBYBp1gXzNoAZSxnuJYAZAQx1DSCa16PDzwCshIGB6QCIMYGB\n",
       "gVEBSLMDGTwPgIxCIGZ+zsCw+N0pBk67hw0AfpEVEQi8t+wAAAAASUVORK5CYII=\n",
       "\" style=\"display:inline;vertical-align:middle;\" /></a>, <a class=\"ProveItLink\" href=\"../../../../../../__pv_it/common/a0d9d672aa5e272d907247690c152cc2c6daafb70/expr.ipynb\"><img src=\"data:image/png;base64,iVBORw0KGgoAAAANSUhEUgAAAAsAAAAJBAMAAAAWSsseAAAALVBMVEX///9mZmaqqqrMzMxEREQy\n",
       "MjIiIiKYmJh2dna6urrc3NxUVFSIiIju7u4AAACJHQtQAAAAAXRSTlMAQObYZgAAAEJJREFUCNdj\n",
       "YLhzeuWJAwy8Dew5bAEMHBc43nIuYOBlYHFgAAG+A2DKzgBIMF04x8BzgWGegh/DcgaG22fuiBcw\n",
       "AAATyhBrnyPYZQAAAABJRU5ErkJggg==\n",
       "\" style=\"display:inline;vertical-align:middle;\" /></a> : <a class=\"ProveItLink\" href=\"../../../__pv_it/_proof_reverse_supset_eq/006c465e50948aa2b52285e2de47974f741255cc0/expr.ipynb\"><img src=\"data:image/png;base64,iVBORw0KGgoAAAANSUhEUgAAABgAAAAJBAMAAADa0/H1AAAAMFBMVEX///9UVFSqqqrMzMwiIiKY\n",
       "mJgyMjIQEBCIiIh2dnZmZmbc3Nzu7u5ERES6uroAAACFTSmKAAAAAXRSTlMAQObYZgAAAElJREFU\n",
       "CNdjYICCXbPaD8DYfNUM+TA2w/EAhrVwzvoDDB5wTi0Dz2cYm+cnA9MHOOcTA2OCNox3gyFEYALD\n",
       "27tAcIDhYIe1xAMAoVgVdfU81nAAAAAASUVORK5CYII=\n",
       "\" style=\"display:inline;vertical-align:middle;\" /></a></span></td></tr><tr><td><a name=\"0x4b17d35366824e7b_step2\">2</a></td><td>theorem</td><td></td><td><span style=\"font-size:20px;\"> <a class=\"ProveItLink\" href=\"../fold_subset_eq/thm_proof.ipynb\" style=\"text-decoration: none\">&nbsp;&#x22A2;&nbsp;&nbsp;</a><a class=\"ProveItLink\" href=\"../../../__pv_it/theorems/b410f7e6f7fbf9c617ef0e33526c9102d576c3ba0/expr.ipynb\"><img src=\"data:image/png;base64,iVBORw0KGgoAAAANSUhEUgAAAO8AAAAWBAMAAADaw9ZbAAAAMFBMVEX///8QEBCIiIhmZma6urrM\n",
       "zMxUVFQiIiJERETc3Nzu7u6qqqp2dnaYmJgyMjIAAAAcRTyBAAAAAXRSTlMAQObYZgAAA4VJREFU\n",
       "SMe1VltIFFEY/prd1Z3Z2dW3AiP2qSKyhM3tRWohEOmC+5Q9VC5kYD6YJbFFRUZSYwW7vVQQ5YhQ\n",
       "4YtGEQlCthWSRWwXoqhso6eKSLREjbL/nDOzM3vJLmwH5vzzn9v3z3e+/5wB/kc5/5v+fnpS7OV1\n",
       "YXGVNm5cqZwe786JQGM7iuLAfeZ/KCywLy7MqOE/i0aje8TrHIppdVihkM6SJ7cVFviJMCPTwl64\n",
       "Z3XVJ4HaCiQoLB1Q+woLvE8QfnVKuO9tXcuJjDd+dBHrwz09ZwqLK7eI/ZS+cOuwf9ZhCmiuDl8I\n",
       "mNS0A/+wejynJWy+SBXcrPV857bYPmgCqGsijmnIdqCDt4m6Zvx2I1/UOSuuanecsapgB66ZrjvJ\n",
       "mQ65xrh72jbSNfF68X7GBqlrDRQue68gxlsKtZRP5zSRAoryAe/I8B4Bt+AwSSjuE4HL49y9bBso\n",
       "0bZ3RQBPC2NC4hF2C2IcEXim08CuwcyI05EPmik7EKDZQeCmrkSMtjkhVm8MBCdzqHbTN0nfaD5l\n",
       "mpoUPcOtYpgfjlQaGJRolXmAi8wNfd7fQ/VuYJWlXgFM1QKxK35rXgkFJ40JYDm1kX+DX+NdvWEs\n",
       "0y3gEU3Ll+Qs1kTlwrCT60j5ConOoHI71R56dgn/Y2YaF9GeOpnwOxr4N2Al76otXywocxu1NyPJ\n",
       "B4ShBJT05uKQT4hr7PFRMtft4jpHz2fhX2zQ7Wlc3ybEhas87V5iOe96CCyyAathd8YpvFfYGqII\n",
       "n0gYYlAKUgtvFG6FkcsxQ26bj5lH5luKch6F4WAaKWF7oLx7EONxnQQ6+yxgJbLeON4DAbbmFeFV\n",
       "s4oUWqdpmh/uQcikmK1mdrVAif3QcWOmNWuHmme2BTW2uo9pxKuLvOnkgqEFauMWMJqaIC8tj+Au\n",
       "99b1CtY2MVWMuoxUK+mDc8qIxjoyZyuX0m8baHpSPg55GvJ8G9WopvRytg0qQpoVQrFsYqeaUmkn\n",
       "mNep4xRx9yrrkpilJNL5NQk5dtBVhqHxQGPIDlxMS0t+OI8wqtWqoaRo1XHxaWIYOMH4PxQItpNd\n",
       "kV4t4zxVo1HrWjSkkn1Te+y5bs10h5MKPzG2cOGwE8iUusT22CiprB+BXxd3PM8vSS6w43EijDsM\n",
       "pQwXymAeLNnFk/zjX58X2Q3JvMA2Vds1kV26C3SrOmbt9eRei0v+avmf/xbZW+4CTAIAAAAASUVO\n",
       "RK5CYII=\n",
       "\" style=\"display:inline;vertical-align:middle;\" /></a></span></td></tr>\n",
       "<tr><td>&nbsp;</td><td colspan=4 style-\"text-align:left\"><a class=\"ProveItLink\" href=\"../fold_subset_eq/thm_proof.ipynb\">proveit.logic.sets.inclusion.fold_subset_eq</a></td></tr><tr><td><a name=\"0x4b17d35366824e7b_step3\">3</a></td><td>instantiation</td><td><a href=\"#0x4b17d35366824e7b_step4\">4</a>, <a href=\"#0x4b17d35366824e7b_step5\">5</a></td><td><span style=\"font-size:20px;\"><a class=\"ProveItLink\" href=\"../../../__pv_it/theorems/05e344b7208c2c23dfa6004888e7fe9f4480f8570/expr.ipynb\"><img src=\"data:image/png;base64,iVBORw0KGgoAAAANSUhEUgAAADsAAAARBAMAAACRPMnQAAAAMFBMVEX///92dnYiIiIQEBBERERU\n",
       "VFS6urqIiIjc3NxmZmaqqqru7u6YmJgyMjLMzMwAAADiRdoGAAAAAXRSTlMAQObYZgAAAPNJREFU\n",
       "KM9jYACBtwzogCf+68wQNyjnPpjcq6Sk5A6TZ3ZgYJj/AKL0/gaY6J5rUMb7AwwM+RPAzF3zG+Cm\n",
       "7oUy64H0+QIw80B9Alya7wKEdmZg4DYCG8q2Yf0BhKNuQKivDAyPosGsbQzvCxDSUhBDvp4p0YII\n",
       "JDD0T0BITwOT7D8YGDYHgBVGzox3QEhD7GYxACr5BbYa6MkLcFkusBYGfiDF/h3EWsDAwGQAl360\n",
       "Ae5t1m9ABgdQmvcDVJI70wPh7fcgK5tANv2ABqqKFFTdZaClJkCDtvy/zcDl/2kCaozE/o+c6rKA\n",
       "gYoAFKFKSgHIQgBh7kHj8bFnhwAAAABJRU5ErkJggg==\n",
       "\" style=\"display:inline;vertical-align:middle;\" /></a> <a class=\"ProveItLink\" href=\"../../../__pv_it/_proof_reverse_supset_eq/1c74b1baeae784e66a2e3672faa6078f67a70f980/proof.ipynb\" style=\"text-decoration: none\">&nbsp;&#x22A2;&nbsp;&nbsp;</a><a class=\"ProveItLink\" href=\"../../../__pv_it/theorems/5fe3ac1ef2ec4c483ac7c2c4656569e4720b9b250/expr.ipynb\"><img src=\"data:image/png;base64,iVBORw0KGgoAAAANSUhEUgAAAHwAAAAUBAMAAAC9l0S6AAAAMFBMVEX///8QEBCIiIhmZma6urrM\n",
       "zMxUVFQiIiJERETc3Nzu7u6qqqp2dnaYmJgyMjIAAAAcRTyBAAAAAXRSTlMAQObYZgAAAghJREFU\n",
       "OMulVL9LHEEU/lx2vd117/QvCIsBCxsPD6+SeCRFSCor7SKogVyjYiOCJCIh2cPCS5U0wYUEkVMO\n",
       "wSIkBNSzCZfC9Qdoo2yhzYF6CKJioW92bm/XkLkEHJiZ9+a9b+a9771doPb4XMPWkAVcJuyLPPRJ\n",
       "keUFzTTwm8klkVMsK7Kc0swDn2jThG9siwzRUxswTMTYtiTyGr8DeT/22pcXuiguvQnRYi73UYTW\n",
       "RkKKMmUHitOWovUQuLSsCRFcitMTzenHBabkQ2jZXnFoWwdeApkwRJ7pTPoHKvksYtf0Yk6HnL6i\n",
       "z6TtAHgC3b3z5CawVhEjREoRG/YzpoT5TWGWAsM3coHk+FX+mSAxCaxU4qyjBG1YPPUHJzQqNAwk\n",
       "htltfUS7E/Hv3Pueo3UUeIQADpxxGkOvy2RyOVxze0godLR0y3EvhHNIpVDwUM650hTA6TjC1Kc0\n",
       "M4NEsT0UScX4zWdb7xCi7odURitT2oN6EjxW5tRhmYqr4Bj44tkMF5JfbiMO+Vota041FG+wPlGv\n",
       "aOmk2chKANJ6Lcsyoa5Cu/ZzHIHe3/qQf1H6q+f8dP6mhIaZC0r1iPUio1kpK6j3jI1LkK/+2rTy\n",
       "r6Bp+YV+lLOGa8Do9kQbH1b/+cnw3MyKMLdTKALT7OhNIvm26qBma8Hzf7Q4y/0/fxdsZIB7/Kyi\n",
       "WdwC4dSAI0sQYN4AAAAASUVORK5CYII=\n",
       "\" style=\"display:inline;vertical-align:middle;\" /></a></span></td></tr>\n",
       "<tr><td>&nbsp;</td><td colspan=4 style=\"text-align:left\"><span style=\"font-size:20px;\"><a class=\"ProveItLink\" href=\"../../../../../../__pv_it/common/09585084922504426caf1db2ff588a23a0932a960/expr.ipynb\"><img src=\"data:image/png;base64,iVBORw0KGgoAAAANSUhEUgAAAA8AAAAOBAMAAAACpFvcAAAALVBMVEX///8iIiIQEBBERERUVFS6\n",
       "urqIiIjc3NxmZmaqqqru7u6YmJgyMjLMzMwAAACK9jtgAAAAAXRSTlMAQObYZgAAAFtJREFUCNdj\n",
       "YACBOwxQcA5Kc59bAGGs7CuAMDbkBYBp1gXzNoAZSxnuJYAZAQx1DSCa16PDzwCshIGB6QCIMYGB\n",
       "gVEBSLMDGTwPgIxCIGZ+zsCw+N0pBk67hw0AfpEVEQi8t+wAAAAASUVORK5CYII=\n",
       "\" style=\"display:inline;vertical-align:middle;\" /></a> : <a class=\"ProveItLink\" href=\"../../../../../../__pv_it/common/09585084922504426caf1db2ff588a23a0932a960/expr.ipynb\"><img src=\"data:image/png;base64,iVBORw0KGgoAAAANSUhEUgAAAA8AAAAOBAMAAAACpFvcAAAALVBMVEX///8iIiIQEBBERERUVFS6\n",
       "urqIiIjc3NxmZmaqqqru7u6YmJgyMjLMzMwAAACK9jtgAAAAAXRSTlMAQObYZgAAAFtJREFUCNdj\n",
       "YACBOwxQcA5Kc59bAGGs7CuAMDbkBYBp1gXzNoAZSxnuJYAZAQx1DSCa16PDzwCshIGB6QCIMYGB\n",
       "gVEBSLMDGTwPgIxCIGZ+zsCw+N0pBk67hw0AfpEVEQi8t+wAAAAASUVORK5CYII=\n",
       "\" style=\"display:inline;vertical-align:middle;\" /></a>, <a class=\"ProveItLink\" href=\"../../../../../../__pv_it/common/a9162d1c3cc0470c02e5daf414500903a7a419230/expr.ipynb\"><img src=\"data:image/png;base64,iVBORw0KGgoAAAANSUhEUgAAABAAAAAOBAMAAADUAYG5AAAALVBMVEX///8yMjKqqqoiIiLu7u7c\n",
       "3NyIiIjMzMwQEBC6urpERERmZmZUVFSYmJgAAACsPVCVAAAAAXRSTlMAQObYZgAAAGxJREFUCNdj\n",
       "YGC48+70nlUTGICgi4GB+zmQZn/LwMD5Gshge8rAwPsMyOBqYGDwMAEy+A4wsNs4ABl1Z68tVgBp\n",
       "ygtgYOkBMVaAOCChNyBGAsQYhnMTIMawvwJyGIHGzFjCwMAj92b3qUUMDAAXABxvZ4rl5AAAAABJ\n",
       "RU5ErkJggg==\n",
       "\" style=\"display:inline;vertical-align:middle;\" /></a> : <a class=\"ProveItLink\" href=\"../../../../../../__pv_it/common/a9162d1c3cc0470c02e5daf414500903a7a419230/expr.ipynb\"><img src=\"data:image/png;base64,iVBORw0KGgoAAAANSUhEUgAAABAAAAAOBAMAAADUAYG5AAAALVBMVEX///8yMjKqqqoiIiLu7u7c\n",
       "3NyIiIjMzMwQEBC6urpERERmZmZUVFSYmJgAAACsPVCVAAAAAXRSTlMAQObYZgAAAGxJREFUCNdj\n",
       "YGC48+70nlUTGICgi4GB+zmQZn/LwMD5Gshge8rAwPsMyOBqYGDwMAEy+A4wsNs4ABl1Z68tVgBp\n",
       "ygtgYOkBMVaAOCChNyBGAsQYhnMTIMawvwJyGIHGzFjCwMAj92b3qUUMDAAXABxvZ4rl5AAAAABJ\n",
       "RU5ErkJggg==\n",
       "\" style=\"display:inline;vertical-align:middle;\" /></a></span></td></tr><tr><td><a name=\"0x4b17d35366824e7b_step4\">4</a></td><td>theorem</td><td></td><td><span style=\"font-size:20px;\"> <a class=\"ProveItLink\" href=\"../unfold_supset_eq/thm_proof.ipynb\" style=\"text-decoration: none\">&nbsp;&#x22A2;&nbsp;&nbsp;</a><a class=\"ProveItLink\" href=\"../../../__pv_it/theorems/9fd94537d5c1ebe5801dad44e0107dcbaa4202130/expr.ipynb\"><img src=\"data:image/png;base64,iVBORw0KGgoAAAANSUhEUgAAAPYAAAAWBAMAAAABeHx5AAAAMFBMVEX///8QEBCIiIhmZma6urrM\n",
       "zMxUVFQiIiJERETc3Nzu7u6qqqp2dnaYmJgyMjIAAAAcRTyBAAAAAXRSTlMAQObYZgAAAzRJREFU\n",
       "SMe9lktoE0EYx/9usiabR9u7HhbFBwXbQrBeigY9qKC0XtSTDWqhFdGihSJq7aHoVoXEk71IFpQi\n",
       "VbTgQStCaysIUTRqQUEsAfVSsA19YB+IfjOzj4m02xrRgd3MfP/85zc7883sAkUWZazO+w83PLRw\n",
       "ChhpQY7VP/05OxL3dobaF1MO0dVE1zO8YM3RYtjezpLUYso4Xfc4u4vuWnsxbG/nu8WE6LhJbp2x\n",
       "S1ittxi2t/NMQetDa2vOqt7ZRjMSKmPsaKan5zqKYXs6tWa5dbDcrWcr43T/wtiYMYxzRbE9nUoV\n",
       "Pdyapu2DPO+krPCb/Vn6GeLsBqCTR8V91+RQI08Tv/3vTsfnaILdIGvMkayptgNBAtzFe72NNVZK\n",
       "eXcL9bTWGOHsHQjxpYhOiVQoQ6SMu+3cmIJqGEZW1gTbdjrlDfDUqgYoETJ4be6Wu2IljjRNCR5y\n",
       "dgAK6xc3f3DNl0B4TjZY8UeyJti2k83qkxhVq4F+UwRW0KKaMERj3xgVMUz1SOwk2xv1nB3JBng0\n",
       "c1oMWIcvJ7OtuJqQNMG2nSyP+3rofgrYCpcNTIhGl7QuJOUctpbbz/vWxSDv16HClNh2HMckTbCF\n",
       "c3Dz+jp/FX/4aSij0pxDnbYG4rIpHGDLtpOz0XmU5wO2cLF208YEJLYdx7CkCTZ3KuaJQLxEPNPE\n",
       "24uQcu2xkgffXD7d2XrELsk7uYYHfCt+RCVXXwEbZLYdxzpJs9jMqeIb5YQI5aDY2zpSBf98MK+J\n",
       "hDhru9h5EJylW41gl7JRhT6/TPLpvAqke122E0e7pFls7gR1dYA2go7gALR5e12bETpcvtZ61XR3\n",
       "iD5u/xxFOPmdVuirYEdZ3GcizV+KZK5NuWwnHtYlzWJzp5pXaWFYKe2Ff3bhM3XPpdaC7RhqFmxe\n",
       "9pI1q12GNgdttTTnPM4IMUiaxWYlHclFEOHDS5u4NrDku0S4dZcdnIGWPK+uwvPJWGPcZVtxwzhO\n",
       "vbuaxO4eHswAV1jkQqy6w+k9mPJii3do4feEVA8ueZ7Lxzdb72V+O9jn9G/svuWzlba/+GaK0qRU\n",
       "tBTGsguz2XluJPD/iu+fE34B7C73U/q3q50AAAAASUVORK5CYII=\n",
       "\" style=\"display:inline;vertical-align:middle;\" /></a></span></td></tr>\n",
       "<tr><td>&nbsp;</td><td colspan=4 style-\"text-align:left\"><a class=\"ProveItLink\" href=\"../unfold_supset_eq/thm_proof.ipynb\">proveit.logic.sets.inclusion.unfold_supset_eq</a></td></tr><tr><td><a name=\"0x4b17d35366824e7b_step5\">5</a></td><td>assumption</td><td></td><td><span style=\"font-size:20px;\"><a class=\"ProveItLink\" href=\"../../../__pv_it/theorems/05e344b7208c2c23dfa6004888e7fe9f4480f8570/expr.ipynb\"><img src=\"data:image/png;base64,iVBORw0KGgoAAAANSUhEUgAAADsAAAARBAMAAACRPMnQAAAAMFBMVEX///92dnYiIiIQEBBERERU\n",
       "VFS6urqIiIjc3NxmZmaqqqru7u6YmJgyMjLMzMwAAADiRdoGAAAAAXRSTlMAQObYZgAAAPNJREFU\n",
       "KM9jYACBtwzogCf+68wQNyjnPpjcq6Sk5A6TZ3ZgYJj/AKL0/gaY6J5rUMb7AwwM+RPAzF3zG+Cm\n",
       "7oUy64H0+QIw80B9Alya7wKEdmZg4DYCG8q2Yf0BhKNuQKivDAyPosGsbQzvCxDSUhBDvp4p0YII\n",
       "JDD0T0BITwOT7D8YGDYHgBVGzox3QEhD7GYxACr5BbYa6MkLcFkusBYGfiDF/h3EWsDAwGQAl360\n",
       "Ae5t1m9ABgdQmvcDVJI70wPh7fcgK5tANv2ABqqKFFTdZaClJkCDtvy/zcDl/2kCaozE/o+c6rKA\n",
       "gYoAFKFKSgHIQgBh7kHj8bFnhwAAAABJRU5ErkJggg==\n",
       "\" style=\"display:inline;vertical-align:middle;\" /></a> <a class=\"ProveItLink\" href=\"../../../__pv_it/_proof_reverse_supset_eq/7858ae1b60a31c5c22dec1a315aba1886a4a2fde0/proof.ipynb\" style=\"text-decoration: none\">&nbsp;&#x22A2;&nbsp;&nbsp;</a><a class=\"ProveItLink\" href=\"../../../__pv_it/theorems/05e344b7208c2c23dfa6004888e7fe9f4480f8570/expr.ipynb\"><img src=\"data:image/png;base64,iVBORw0KGgoAAAANSUhEUgAAADsAAAARBAMAAACRPMnQAAAAMFBMVEX///92dnYiIiIQEBBERERU\n",
       "VFS6urqIiIjc3NxmZmaqqqru7u6YmJgyMjLMzMwAAADiRdoGAAAAAXRSTlMAQObYZgAAAPNJREFU\n",
       "KM9jYACBtwzogCf+68wQNyjnPpjcq6Sk5A6TZ3ZgYJj/AKL0/gaY6J5rUMb7AwwM+RPAzF3zG+Cm\n",
       "7oUy64H0+QIw80B9Alya7wKEdmZg4DYCG8q2Yf0BhKNuQKivDAyPosGsbQzvCxDSUhBDvp4p0YII\n",
       "JDD0T0BITwOT7D8YGDYHgBVGzox3QEhD7GYxACr5BbYa6MkLcFkusBYGfiDF/h3EWsDAwGQAl360\n",
       "Ae5t1m9ABgdQmvcDVJI70wPh7fcgK5tANv2ABqqKFFTdZaClJkCDtvy/zcDl/2kCaozE/o+c6rKA\n",
       "gYoAFKFKSgHIQgBh7kHj8bFnhwAAAABJRU5ErkJggg==\n",
       "\" style=\"display:inline;vertical-align:middle;\" /></a></span></td></tr>\n",
       "</table>"
      ],
      "text/plain": [
       "\tstep type\trequirements\tstatement\n",
       "0\tgeneralizaton\t1\t|- forall_{A, B | A supseteq B} (B subseteq A)\n",
       "1\tinstantiation\t2, 3\t{A supseteq B} |- B subseteq A\n",
       "\tA : B, B : A, x : _a\n",
       "2\ttheorem\t\t|- forall_{A, B | forall_{x in A} (x in B)} (A subseteq B)\n",
       "\tproveit.logic.sets.inclusion.fold_subset_eq\n",
       "3\tinstantiation\t4, 5\t{A supseteq B} |- forall_{x in B} (x in A)\n",
       "\tA : A, B : B\n",
       "4\ttheorem\t\t|- forall_{A, B | A supseteq B} [forall_{x in B} (x in A)]\n",
       "\tproveit.logic.sets.inclusion.unfold_supset_eq\n",
       "5\tassumption\t\t{A supseteq B} |- A supseteq B"
      ]
     },
     "execution_count": 5,
     "metadata": {},
     "output_type": "execute_result"
    }
   ],
   "source": [
    "%qed"
   ]
  },
  {
   "cell_type": "code",
   "execution_count": null,
   "metadata": {},
   "outputs": [],
   "source": []
  }
 ],
 "metadata": {
  "kernelspec": {
   "display_name": "Python 3",
   "language": "python",
   "name": "python3"
  }
 },
 "nbformat": 4,
 "nbformat_minor": 0
}