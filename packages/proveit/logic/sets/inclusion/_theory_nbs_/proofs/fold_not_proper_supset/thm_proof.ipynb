{
 "cells": [
  {
   "cell_type": "markdown",
   "metadata": {},
   "source": [
    "Proof of <a class=\"ProveItLink\" href=\"../../../../../../_theory_nbs_/theory.ipynb\">proveit</a>.<a class=\"ProveItLink\" href=\"../../../../../_theory_nbs_/theory.ipynb\">logic</a>.<a class=\"ProveItLink\" href=\"../../../../_theory_nbs_/theory.ipynb\">sets</a>.<a class=\"ProveItLink\" href=\"../../theory.ipynb\">inclusion</a>.<a class=\"ProveItLink\" href=\"../../theorems.ipynb#fold_not_proper_supset\">fold_not_proper_supset</a> theorem\n",
    "========"
   ]
  },
  {
   "cell_type": "code",
   "execution_count": 1,
   "metadata": {},
   "outputs": [],
   "source": [
    "import proveit\n",
    "theory = proveit.Theory() # the theorem's theory"
   ]
  },
  {
   "cell_type": "code",
   "execution_count": 2,
   "metadata": {},
   "outputs": [
    {
     "data": {
      "text/html": [
       "Under these <a href=\"presumptions.txt\">presumptions</a>, we begin our proof of<br><strong id=\"fold_not_proper_supset\">fold_not_proper_supset:</strong> <a class=\"ProveItLink\" href=\"../../../__pv_it/theorems/660a94f54eef12763e12d6a992a14876f2b76d350/expr.ipynb\"><img src=\"data:image/png;base64,iVBORw0KGgoAAAANSUhEUgAAANEAAAAWCAMAAABpCYnRAAAAPFBMVEX///8NDQ0WFhYfHx++vr4Q\n",
       "EBCIiIhmZma6urrMzMxUVFQiIiJERETc3Nzu7u6qqqp2dnaYmJgyMjIAAAAvkUTxAAAAAXRSTlMA\n",
       "QObYZgAAAupJREFUWMPNWFeS4yAQ1QbR5Hj/uy4NstUkyd6aKQ8fLiE1D15nvG0/aJjwgpC3y0/O\n",
       "4G98zkP4MCGr6UzEOev2dZApSQCpNc8ziZS8e3yM9sOMomlmaSokefdir3qAJLJOkK55KMboDxMK\n",
       "0Mximml4OKVI1bV4wuWeEdOcxvrQUNRE1kEic6Hq0FF0q9ghFhKSsTs+eovDqE+nheYAIR+Vj0J/\n",
       "/7SuuW16rxrYVbFMxEVJ41D+K071qqAYXzHqdNxuLk0ylRa95pOsNpTV1TyiyAKvyWnoM9cJfM4l\n",
       "9NUysc4hJlBuxNCEgOUYIGxURI4iB20YyRCYVu4ZfrgRiliSFENj71DM6ney94KQNAuICRQMjJVr\n",
       "dWYSTEyEgpMwsrs8SlL5ij/s1JCFxt5QZB3JPAtGwvcQFnAEMYGysl++nzoQucKATMM+QnaKe4ZR\n",
       "ZuYOmxWlhYa4t4pqRxXjQ7y1kRQDRMk5HGAC1Uc4ZVSf9qHEVlfWdggjZMQIo1yGxakywTZNzmyx\n",
       "cm2Mlt8FI7WCqH7dQbGw9LrjQe19HMpun7MabfJwc64O7qQS52VAFvHEcuQ1PqLvsm8HkW0mBign\n",
       "V5nBuEXTUM3K/KQaiYeLhmpYR/YPDuXIYYoIU3NGXtcRMZOtIPI3NkDxXi8eOs3o1DpmtbRrfDFW\n",
       "O/L94Ypw8D0TpY3gvaZpoIiY5C5tJJ8+MYHIy/0ANTSi1V+sTqm4pcsPTTxjc2O5lARXxkebejan\n",
       "RzCHpxjYsukZ5HV/TvU1ZyT0CqJarYPi8rIL6rOcUr9/5SbIi5v2feh8eHVmjDej68nK7+63O0YP\n",
       "MALRrmihgr/uVMfO/JWrge+rsi4BZnRSYRN7VqlXCUuD5jeZAdVbGysK8eyXUbMdFEy6hqsmyr3S\n",
       "pdl4/X3VjC+yN3PjFa4MmGk33t34/sdE+rqxdOY9Rts7FywX3ryV81duWDed8hJ+dXL++rXewk/6\n",
       "f2ODt606euj3/QPwD5+oI+ogPvljAAAAAElFTkSuQmCC\n",
       "\" style=\"display:inline;vertical-align:middle;\" /></a><br>(see <a class=\"ProveItLink\" href=\"../../../__pv_it/theorems/e20e990df51cd0a6bae221228afa0c1e6a8423ef0/dependencies.ipynb\">dependencies</a>)<br>"
      ],
      "text/plain": [
       "fold_not_proper_supset: forall_{A, B | [not](A proper_superset B)} (A nsupset B)"
      ]
     },
     "execution_count": 2,
     "metadata": {},
     "output_type": "execute_result"
    }
   ],
   "source": [
    "%proving fold_not_proper_supset"
   ]
  },
  {
   "cell_type": "code",
   "execution_count": null,
   "metadata": {},
   "outputs": [],
   "source": []
  }
 ],
 "metadata": {
  "kernelspec": {
   "display_name": "Python 3",
   "language": "python",
   "name": "python3"
  }
 },
 "nbformat": 4,
 "nbformat_minor": 0
}