{
 "cells": [
  {
   "cell_type": "markdown",
   "metadata": {},
   "source": [
    "Proof of <a class=\"ProveItLink\" href=\"../../../../../../_theory_nbs_/theory.ipynb\">proveit</a>.<a class=\"ProveItLink\" href=\"../../../../../_theory_nbs_/theory.ipynb\">logic</a>.<a class=\"ProveItLink\" href=\"../../../../_theory_nbs_/theory.ipynb\">sets</a>.<a class=\"ProveItLink\" href=\"../../theory.ipynb\">inclusion</a>.<a class=\"ProveItLink\" href=\"../../theorems.ipynb#unfold_subset_eq_contrapositive\">unfold_subset_eq_contrapositive</a> theorem\n",
    "========"
   ]
  },
  {
   "cell_type": "code",
   "execution_count": 1,
   "metadata": {},
   "outputs": [],
   "source": [
    "import proveit\n",
    "from proveit import x, A, B\n",
    "from proveit.logic import Boolean, InSet, SubsetEq\n",
    "from proveit.logic.sets.inclusion import unfold_subset_eq\n",
    "theory = proveit.Theory() # the theorem's theory"
   ]
  },
  {
   "cell_type": "code",
   "execution_count": 2,
   "metadata": {},
   "outputs": [
    {
     "data": {
      "text/html": [
       "Under these <a href=\"presumptions.txt\">presumptions</a>, we begin our proof of<br><strong id=\"unfold_subset_eq_contrapositive\">unfold_subset_eq_contrapositive:</strong> <a class=\"ProveItLink\" href=\"../../../__pv_it/theorems/58da3b60c6db4ac26ec126153aa23a0e703dbb140/expr.ipynb\"><img src=\"data:image/png;base64,iVBORw0KGgoAAAANSUhEUgAAARYAAAAZCAMAAADDsvEcAAAAV1BMVEX///9jY2MJCQkNDQ0rKysP\n",
       "Dw8WFhYkJCRlZWUoKCgtLS0/Pz9RUVEvLy8QEBCIiIhmZma6urrMzMxUVFQiIiJERETc3Nzu7u6q\n",
       "qqp2dnaYmJgyMjIAAACXTERdAAAAAXRSTlMAQObYZgAAA4ZJREFUWMPlWdeypCAQdXOWTJP+/zsX\n",
       "QZIC3rDj3qrLw5QldJ/2QCdmWe4fjHMul7c6iLdO/w9gvrzxIdm7o4W+U1qkeSm4koUWm98acyMt\n",
       "D4MFMT8svYNAd2uYzLRolSYt3EjLw2DtPJhj0pNxO6U20yITu1Lc6USPgjX4+Q5srNu3RqMcW9Ju\n",
       "lf27JbY8CHaW+Y3gX79we3I7hd0uBWumxWjYhrwvPwSkx8BO1FGBYBEd1syCXHItS3ImcmIbN5Yw\n",
       "0fQXwhoym0W7DwFCTBK0O0WMG1CCR1O+waJcCvsaZ1pYSOU1j/UzEQ5rzJpXJ9W9TegINrScYWcI\n",
       "BWqqXcTvA0+24WipPCZkGYTOmctjUYdymMm0ELy0PBpXm2WCv+n1ZNlZAHQ4AWwk2NBygl0mCMVL\n",
       "8DLTzmOk0v5kaB9HiWxVdrLeZrl0SavipZzbHlGpHgC7upTAYY1yMDQ6CVDRlJBnwTYbHGCfQAso\n",
       "/ee3mWlf9/3ZdDRK6Gqt/fzJ/9hDHYMxZi6tpa7Qok2TuDTwOsvxcMCwHRudBA7vz4ItLQfYa1qM\n",
       "UPIXTLWv5Zy7xmFCHdDJenH9aju0SFsXfxQ1RIPbjgCqj9/B6CSgWtCOYEtLBasRpojRLkKe27yO\n",
       "6rl2nm2gru1+1m7Rsi/na26fq55ISFZY9q9wJU8cMkiwyV4mAdyGv47goaTKsD5zMrtw0kMoc7bG\n",
       "GGjfQ64Cn3SjcHZpFKNZG6lUW+bWIddrqXgwfiVy1WaFhYgPackCuqWlI3igJcP6fbVmQHyeA1xP\n",
       "DLTHBEucWoQ7dI1cMTqqckSq57CuO+jih2Cx1qKOr3GhUwNaigBps19H8FiAV+7v5Pg8xjnKhfj5\n",
       "Qwg00x6dABhCgHDbhAL7SKBtKp0LTqj8wx5OLa1pMXk9hoBWeI3ApDa7MboSaIuIjuCRlgK7hTo6\n",
       "QEhz3lYGV9onxb/5oAXn3M7ab96/byGR4C3hShE/OPyuerCXlYCn3xSjeoKDdk264BO6h1DNaQrs\n",
       "UvukVRTXF6VVq9hIhgQuhePGZ3q/IZq7La8LMjjitcB2HHUq57qCA1qAGaKR7ua6ek58Ty4z0T78\n",
       "eLhu1auLhclQy3Oqin95OzdA+LaRjl54DYWur7uEfAItSr4xWiR+zaXltdVGPuUu1zxzL6VI40G0\n",
       "aHJTi/+yK2782tNy+T9RH+Ge+/jtfyL2FwdSUf0AMS7lAAAAAElFTkSuQmCC\n",
       "\" style=\"display:inline;vertical-align:middle;\" /></a><br>(see <a class=\"ProveItLink\" href=\"../../../__pv_it/theorems/25ec826c378e2cd523b7d737d5ed673dbffd1d960/dependencies.ipynb\">dependencies</a>)<br>"
      ],
      "text/plain": [
       "unfold_subset_eq_contrapositive: forall_{A, B | A subset_eq B} [forall_{x | x not-in B} (x not-in A)]"
      ]
     },
     "execution_count": 2,
     "metadata": {},
     "output_type": "execute_result"
    }
   ],
   "source": [
    "%proving unfold_subset_eq_contrapositive"
   ]
  },
  {
   "cell_type": "code",
   "execution_count": 3,
   "metadata": {},
   "outputs": [
    {
     "data": {
      "text/html": [
       "<span style=\"font-size:20px;\"> <a class=\"ProveItLink\" href=\"../unfold_subset_eq/thm_proof.ipynb\" style=\"text-decoration: none\">&nbsp;&#x22A2;&nbsp;&nbsp;</a><a class=\"ProveItLink\" href=\"../../../__pv_it/theorems/0460b4d524fce3cf0601ed706f203efe4d72eccf0/expr.ipynb\"><img src=\"data:image/png;base64,iVBORw0KGgoAAAANSUhEUgAAAPcAAAAWBAMAAADuuhdHAAAAMFBMVEX///8QEBCIiIhmZma6urrM\n",
       "zMxUVFQiIiJERETc3Nzu7u6qqqp2dnaYmJgyMjIAAAAcRTyBAAAAAXRSTlMAQObYZgAAA4FJREFU\n",
       "SMe9lk1oE0EUx/8m2TS7SZqeRNBDsAdLsRooVJSqsV4UKo09iDeDWqgHMahYv42idtsqiRctgnZF\n",
       "sFhLDXhSD8YWsbZ+xAp+iwseCj3U0BqtlaLzsclOQ1JtRN9hd2bem/d7M/Pe7AIFimU0MLPBpZmU\n",
       "twH3sB86bX+YPdzlL6YvdyKPXgnnHH75c1uV6oc9Sj1gkA6NFAJ3xcirWMujL47mHp8HWFNQdAZv\n",
       "JwNyuBA4m9WeT/8i97A0BdjGgV4Gp6GzNcwazvZrMJ/+wLTe66YmnafKd3JUY8AV5sE90NV1AQXB\n",
       "33d1XQ/lUcvTFJvL0y1HCQEfJKfipx4woaqHC4N7VLU5nq8YfCTnFu6o6WXJZ+aUJwhpH91sH4M3\n",
       "AC1snD/Xjfc1slyxZYLNpI4tUl3VYsLtAUGXZesgVdCNV96jtGM3rbbsHGqmh+zWGXwtSz3S/cK0\n",
       "7hK4Stj0tP1HYtStqqdJ8zlw34TbfOjJWjC1ZVJECAN4pq2f5gpYGoUyl7ydIQYvgoXV6tUpprUG\n",
       "4ZwUZyirE5BO8XYVcE/LwBFCRdrpjb6Vhi2XOUStQeWdjaNEeMIdpwGQwKQk8+BKFLHhgT08ZC+s\n",
       "ugh3dfoy7d3AKnPleIJ0WrnbLmqGrQkHxnhHqMevFO7NwGV9EytALw/zZgBLNBFe7wjjrrEJKVhG\n",
       "BPhlKUgapfUN5Owytua2Q0oZkUwrc+wiU21829GynSUFljF1XUVZECI8aA1huZFwY0OnhWyH4zx5\n",
       "lNv1vfyS5rZmwt2xJMFqzOrNFAEpc2nCTDjcYhPeYSlTPwUWiXB3jLh4ZAB1WEIC3EnjDRQnoPhM\n",
       "W0Ptg+2HIynzHDiUuXRJLq9ppfHEOdxD41I+PY6w3T4DdMQEeE91/yRqjOXEIf8Q4PxMPVFI+1X1\n",
       "hGFrbFIIytbyUuOLde0kT1P756+VjW0sigD34KYKq4YO9o0kzuuiAnwF5FS6fD0x2L6L8LesdBFA\n",
       "0LTNeb3WNhvXa1o6DQ9MNhDXCbkV8iTkBcK228i+TUE5y+gdGs7FRTi9R5NPEccD03bmD0taegW4\n",
       "YwJy5Ig0Hw/HKxv9AjwSRvu3BJz95JJxHausOoksuLKzdrEGR8y0zb4Xc37tdXHlXJziTfnbu12U\n",
       "Mnrmf/AzIYSWDb/953DL0b/5jXpDHAxnwRN54O0qEfxHsf57xC8BVPer1lKnkwAAAABJRU5ErkJg\n",
       "gg==\n",
       "\" style=\"display:inline;vertical-align:middle;\" /></a></span>"
      ],
      "text/plain": [
       "|- forall_{A, B | A subset_eq B} [forall_{x in A} (x in B)]"
      ]
     },
     "execution_count": 3,
     "metadata": {},
     "output_type": "execute_result"
    }
   ],
   "source": [
    "unfold_subset_eq"
   ]
  },
  {
   "cell_type": "code",
   "execution_count": 4,
   "metadata": {},
   "outputs": [
    {
     "data": {
      "text/html": [
       "<strong id=\"unfold_subset_eq_spec\">unfold_subset_eq_spec:</strong> <span style=\"font-size:20px;\"><a class=\"ProveItLink\" href=\"../../../__pv_it/theorems/e95a006f2b74a09b90987eb3cf94c9d5b15f5eda0/expr.ipynb\"><img src=\"data:image/png;base64,iVBORw0KGgoAAAANSUhEUgAAADsAAAARBAMAAACRPMnQAAAAMFBMVEX///92dnYiIiIQEBBERERU\n",
       "VFS6urqIiIjc3NxmZmaqqqru7u6YmJgyMjLMzMwAAADiRdoGAAAAAXRSTlMAQObYZgAAAO9JREFU\n",
       "KM9jYACBtwzogCf+68wQNyjnPpQ+qqSkpAdhMjswMMx/AFF6fwOY7pVAaH9/gIEhfwKYuWt+A5i+\n",
       "gWR6PVDofAGYeaA+AURxLkCSdmZg4DYCG8q2Yf0BEM2E7LavDAyPosGsbQzvwaa0IsnyfT1TogVh\n",
       "JjD0g92wBUma/QcDw+YAsMLImfEO6IazGACV/AJbDfTkBRCDsQAhzQ/Uyf4dxAK6l8kALHYL1dus\n",
       "34AMDqA07wew2NawDcjefg+ysglk0w+I4EMnWKBeBlpqAlS85f9tBi7/TxNQYyT2f+RUlwUMVASM\n",
       "SkqICIUAAMDnPwbFfXt4AAAAAElFTkSuQmCC\n",
       "\" style=\"display:inline;vertical-align:middle;\" /></a>, <a class=\"ProveItLink\" href=\"../../../__pv_it/theorems/5f054c7bcf30cd149db2c9cc7f9d8bc46ddfda8a0/expr.ipynb\"><img src=\"data:image/png;base64,iVBORw0KGgoAAAANSUhEUgAAADUAAAAPBAMAAAC2KZqIAAAAMFBMVEX///8QEBBmZmaqqqrMzMxE\n",
       "REQyMjIiIiKYmJh2dna6urrc3NxUVFSIiIju7u4AAAA6P00QAAAAAXRSTlMAQObYZgAAAMZJREFU\n",
       "GNNjYMAB3Bhwg3zcUhz5D1D54eVlMPZj/Q3IUiyxSEob7i8Akm/v7Lp5AcR9hiTF9cC+gYGBbwJH\n",
       "LXsCiH8ayYxXDP5A9ZwPOP9xgc0OQJJbwLBfAaiPgRUiyCKWBgRQqw8pnQeL8oNtY+BG0sfFwMAI\n",
       "tsffASIggJAzYGBgB3KZH9xn4AW7UBcuxQ2UY/vAwLDeIJ5hB1iE3QAmtx2IWX8zMLy5+1ajASzC\n",
       "d3QdROrp/zwG5vjvCsgBwzUVEWYgAACVrTGb/6vh/gAAAABJRU5ErkJggg==\n",
       "\" style=\"display:inline;vertical-align:middle;\" /></a> <a class=\"ProveItLink\" href=\"../../../__pv_it/_proof_unfold_subset_eq_contrapositive/d32b4af7461978f7ad4dbfcc5773867c76d55fe10/proof.ipynb\" style=\"text-decoration: none\">&nbsp;&#x22A2;&nbsp;&nbsp;</a><a class=\"ProveItLink\" href=\"../../../__pv_it/theorems/458621bff6342e362dd551440bebbe789e1a36680/expr.ipynb\"><img src=\"data:image/png;base64,iVBORw0KGgoAAAANSUhEUgAAADUAAAAPBAMAAAC2KZqIAAAAMFBMVEX///8QEBBmZmaqqqrMzMxE\n",
       "REQyMjIiIiKYmJh2dna6urrc3NxUVFSIiIju7u4AAAA6P00QAAAAAXRSTlMAQObYZgAAANpJREFU\n",
       "GNNjYMACOM7/UToaxYAdMAYwMOg7YJfzb2BgWK+ALNJaXp4AYd3fwMDQfwFJyvUenBnIwMAn/oCB\n",
       "4e2dXTdBSvjyEMr+MDC4nwMKTeCoZQcZxbMBLsXyp+NqMZDmfMD5jwskzIrQxvubgeHhAaA+BtYA\n",
       "sIBjGhBA3MIqAJT/DGLxQxy0FaGPH6iH9y/YMxBPMqJ6j+cXAwPzg/sMvEDnMjAh/APynj/QpvUG\n",
       "8Qw7wCLFcLlEBgYuUaD6N3ffajSARd5EPYBIHft/SCfUADUUV4bDwgwCAHpvO2L/i5h0AAAAAElF\n",
       "TkSuQmCC\n",
       "\" style=\"display:inline;vertical-align:middle;\" /></a></span><br>"
      ],
      "text/plain": [
       "unfold_subset_eq_spec: {A subset_eq B, x in A} |- x in B"
      ]
     },
     "execution_count": 4,
     "metadata": {},
     "output_type": "execute_result"
    }
   ],
   "source": [
    "unfold_subset_eq_spec = unfold_subset_eq.instantiate(\n",
    "        {x:x}, assumptions=[SubsetEq(A, B), InSet(x, A)])"
   ]
  },
  {
   "cell_type": "code",
   "execution_count": 5,
   "metadata": {},
   "outputs": [
    {
     "data": {
      "text/html": [
       "<strong id=\"unfold_subset_eq_spec_as_imp\">unfold_subset_eq_spec_as_imp:</strong> <span style=\"font-size:20px;\"><a class=\"ProveItLink\" href=\"../../../__pv_it/theorems/e95a006f2b74a09b90987eb3cf94c9d5b15f5eda0/expr.ipynb\"><img src=\"data:image/png;base64,iVBORw0KGgoAAAANSUhEUgAAADsAAAARBAMAAACRPMnQAAAAMFBMVEX///92dnYiIiIQEBBERERU\n",
       "VFS6urqIiIjc3NxmZmaqqqru7u6YmJgyMjLMzMwAAADiRdoGAAAAAXRSTlMAQObYZgAAAO9JREFU\n",
       "KM9jYACBtwzogCf+68wQNyjnPpQ+qqSkpAdhMjswMMx/AFF6fwOY7pVAaH9/gIEhfwKYuWt+A5i+\n",
       "gWR6PVDofAGYeaA+AURxLkCSdmZg4DYCG8q2Yf0BEM2E7LavDAyPosGsbQzvwaa0IsnyfT1TogVh\n",
       "JjD0g92wBUma/QcDw+YAsMLImfEO6IazGACV/AJbDfTkBRCDsQAhzQ/Uyf4dxAK6l8kALHYL1dus\n",
       "34AMDqA07wew2NawDcjefg+ysglk0w+I4EMnWKBeBlpqAlS85f9tBi7/TxNQYyT2f+RUlwUMVASM\n",
       "SkqICIUAAMDnPwbFfXt4AAAAAElFTkSuQmCC\n",
       "\" style=\"display:inline;vertical-align:middle;\" /></a> <a class=\"ProveItLink\" href=\"../../../__pv_it/_proof_unfold_subset_eq_contrapositive/76287ca77fec9332a632af97f7d214206f3732520/proof.ipynb\" style=\"text-decoration: none\">&nbsp;&#x22A2;&nbsp;&nbsp;</a><a class=\"ProveItLink\" href=\"../../../__pv_it/_proof_unfold_subset_eq_contrapositive/e1b9b941bf3e2376a078f99f650b988d1f824d070/expr.ipynb\"><img src=\"data:image/png;base64,iVBORw0KGgoAAAANSUhEUgAAAKcAAAAUBAMAAAAaZjAEAAAAMFBMVEX////MzMxUVFR2dna6uroQ\n",
       "EBCqqqqIiIgiIiJmZmYyMjJERETu7u6YmJjc3NwAAACgK8IjAAAAAXRSTlMAQObYZgAAAmVJREFU\n",
       "OMtjYOC7wIAb5GEVfctASMtpXLKMCxgYmB5gkeDZgFU9r/6nmdpbIFrW4TKU6wNQ/wJsEg+wa2AF\n",
       "WjZfAKSFdwIuQ2/9ARLmWCRu4tAgDwxI/wkgLRwo1vLu6OiCeTLzH5A8ipDjhqnsQzHqdkcH1Dv1\n",
       "QAX3C0BaXqAE4/YDCPPZv4C86oCQhAYlXwOyFukaOHMr0CURB0BaKoG840VPigtAwqcQZjL4sP0F\n",
       "kswTMLzNDhTiKddzB4cMzxqE/CcGBgkdsJa9QAkD3nYOsBf0kKLYgfE7yL1g8RkdINAPsYAbGHSH\n",
       "GW4UgMMJKXkwfrpb3QbRAqSYDzD/YQFLIqUVFga+n0CKDdmvWQkgkgNI2jDYH/AD24CQZQfGwVEF\n",
       "sJYQoKMYuCGmMUatAgKIEqGZk36DhD4gJ9CloBBmBRIHGHZDhERBOiARxR0ANPgbWEsIiM9fAIkC\n",
       "JJcCdUahG/rIjgFqKAPDd4jQa4QsP9CV7N/BWtrAKUwAIh4AV8EGxK2gUAB7f9YqMIDkE5D3GRg/\n",
       "QhM8ajJl+gLWAowotgP1DOzgeJ8OV/EMiNfDIwoCvBjgEZXD/oEBnJY4C+DSoGQqvwGsxRKYCxL2\n",
       "Q8sIsCPgaXE/UBWnASJEoakHmGRYvnF/gBZEbXD5pUBHRh8Aa/FgYDhUfnwuRAWPtg+E3v/rAEP2\n",
       "/05g4heAa2KCMoHe41GvqbwL4R3aAk3bWv81J+0GOQqoBTWbsljDsykEnEAw+RiwZlPnHR0L0LXg\n",
       "LlDAgJQCBUnLPnwKsBZ93A8IajmNTwU3CYU0sha81ck90qsToBYAT9KtlUnYBMwAAAAASUVORK5C\n",
       "YII=\n",
       "\" style=\"display:inline;vertical-align:middle;\" /></a></span><br>"
      ],
      "text/plain": [
       "unfold_subset_eq_spec_as_imp: {A subset_eq B} |- (x in A) => (x in B)"
      ]
     },
     "execution_count": 5,
     "metadata": {},
     "output_type": "execute_result"
    }
   ],
   "source": [
    "unfold_subset_eq_spec_as_imp = unfold_subset_eq_spec.as_implication(hypothesis=InSet(x,A))"
   ]
  },
  {
   "cell_type": "code",
   "execution_count": 6,
   "metadata": {},
   "outputs": [
    {
     "data": {
      "text/html": [
       "<span style=\"font-size:20px;\"><a class=\"ProveItLink\" href=\"../../../__pv_it/theorems/e95a006f2b74a09b90987eb3cf94c9d5b15f5eda0/expr.ipynb\"><img src=\"data:image/png;base64,iVBORw0KGgoAAAANSUhEUgAAADsAAAARBAMAAACRPMnQAAAAMFBMVEX///92dnYiIiIQEBBERERU\n",
       "VFS6urqIiIjc3NxmZmaqqqru7u6YmJgyMjLMzMwAAADiRdoGAAAAAXRSTlMAQObYZgAAAO9JREFU\n",
       "KM9jYACBtwzogCf+68wQNyjnPpQ+qqSkpAdhMjswMMx/AFF6fwOY7pVAaH9/gIEhfwKYuWt+A5i+\n",
       "gWR6PVDofAGYeaA+AURxLkCSdmZg4DYCG8q2Yf0BEM2E7LavDAyPosGsbQzvwaa0IsnyfT1TogVh\n",
       "JjD0g92wBUma/QcDw+YAsMLImfEO6IazGACV/AJbDfTkBRCDsQAhzQ/Uyf4dxAK6l8kALHYL1dus\n",
       "34AMDqA07wew2NawDcjefg+ysglk0w+I4EMnWKBeBlpqAlS85f9tBi7/TxNQYyT2f+RUlwUMVASM\n",
       "SkqICIUAAMDnPwbFfXt4AAAAAElFTkSuQmCC\n",
       "\" style=\"display:inline;vertical-align:middle;\" /></a>, <a class=\"ProveItLink\" href=\"../../../__pv_it/_proof_unfold_subset_eq_contrapositive/3d4268746a23516cf464b8420d31e40de57179c30/expr.ipynb\"><img src=\"data:image/png;base64,iVBORw0KGgoAAAANSUhEUgAAAGkAAAAUBAMAAAB8EA4WAAAAMFBMVEX////MzMxUVFR2dna6uroQ\n",
       "EBCqqqqIiIgiIiJmZmYyMjJERETu7u6YmJjc3NwAAACgK8IjAAAAAXRSTlMAQObYZgAAAa5JREFU\n",
       "OMtjYOC7wIAb5OGSOI1LgnEBAwPTA1Sxiuj9S5scgIx1uHRxfWBg4FmAJrhAnGfPXAYG3gm4dN36\n",
       "AyTM0QQ3+DIUcjMwcKC44XZHB8x0nsx/QPIohMO7o6MLpisNqOsFsibpGgSbl/0LyJkOYC9uP4Cw\n",
       "ywQYEpVA5vGiJ8UFIOPXIJngw/YXSDKDPXDqAMKFLI2KDAx7gYoNeNs5QA5DDjEeB8bvIBvBDtZD\n",
       "+Mu1/yvQ+jageQeY/7CANHAjWcXCwPcTSLE1gNUih4btZQaGEKCxDNwQYdFVQAANDaGZk36DfPQB\n",
       "RESBJGC6uFkugHQxMPAXgIVeI9kFdEYUTBcfil3cDAogFzIwyAuAhVgRmtiAuBXkULALA5B1MTEs\n",
       "AIUG24F6BnZQKHEWwGWfAfF6eGhMR7GL14DBkoHBP2E/w1uwWBtMkg9kxX5gCHEagLgcCfAUJcxg\n",
       "PImBwYOB4VD58bmQhH9oCyRiePb/OsCQ/b8TGMtgt/No+6CmXtQU5byjAzW9noDGgzU0RcESzgQG\n",
       "fMAch/g+fJowcgrBXAkC3A9wSOAtAe5hFwYAWyt0BHl/hXEAAAAASUVORK5CYII=\n",
       "\" style=\"display:inline;vertical-align:middle;\" /></a> <a class=\"ProveItLink\" href=\"../../../__pv_it/_proof_unfold_subset_eq_contrapositive/36935c97850d4d5a73b4c53f15e59a7aeb35ca5e0/proof.ipynb\" style=\"text-decoration: none\">&nbsp;&#x22A2;&nbsp;&nbsp;</a><a class=\"ProveItLink\" href=\"../../../__pv_it/_proof_unfold_subset_eq_contrapositive/ecf6dc73972fa83cafabe758b50df9e52d6e00d00/expr.ipynb\"><img src=\"data:image/png;base64,iVBORw0KGgoAAAANSUhEUgAAAOoAAAAUBAMAAABxIrwUAAAAMFBMVEX////MzMxUVFR2dna6uroQ\n",
       "EBCqqqqIiIgiIiJmZmYyMjJERETu7u6YmJjc3NwAAACgK8IjAAAAAXRSTlMAQObYZgAAAp1JREFU\n",
       "SMelVkFoE1EQfRuTJu1u01y86CG9SRHb3qQgGhCxeBARb148iojmJoVCg0IIIjXYi/ViBL2UYnpQ\n",
       "KdTWRa2IvRQvWkUJOQlSTHuwimidP7O7+ZvsJoE8eJRMZ978zJ+ZHyC5jjo20QJXHDZjEx1q9FSE\n",
       "WNOM1kKg7/vdoTtLGUTIXbEJvrAQDcI+4rDDx5q9rxLsfx7o3YJVArMJvrAwDaBMfCfsL2r2jWB3\n",
       "4y8Q/Q0chrARG2ivQZnKNrAny0zoR5v2uX0uFOSbxf9RzA6wCqEDsxIUFqIBvLlP/tYZ5jfNJZnT\n",
       "A/ZPevLkunqLipcRuiVYCAgL0wDWp1ToQ+aE5hOnalvXhk9yFa15zz4wCOO6Kk9R2FDMeLEDDUTt\n",
       "q2paxpjLWoRJ5lf4mL2pPmjdmj70YfGCupmSELhbULhd9MLaauA10nSn+MTMU3uyxCiQIOkjOGaf\n",
       "5vB6wFQF1lk1bTmhh0vqLBzGx7iBcA1k8EMd8iLznHsfg0CMCm9jSQx75wjSCU9VZlIzasL6bD5S\n",
       "VxVzr7qKcA1jaHZE9UGa2ZgV2BHD97r4tsqaDchaPYqgrEEaUfpXycua17Kq6sDYEkPMN64YIbVo\n",
       "Tgjcm2PIhuEwN2uIBsicoFHAOHNZy6o64XK8Bm733qzXljSuxh9fNwlOwd9NVYRqJClrX83rpjHX\n",
       "nuKpiP40a857kPd2HJ3xxHMlMip0b9WZC2+YDIRqqLVg0ukxwxzXromqZx2YnPgin14+sflvpLw9\n",
       "e/AZp08JHURSXlg7jbXdefS8+EXHewDFFhvx+GLBv+vfOnSrhvYbsVHDyjE72f4uutv+chuy/bGC\n",
       "gH0eiNCXzhfWWsN56Tp51TU9s4tXXWHFYee/YL467OIXTH+F+R8lK+nQQtHaIAAAAABJRU5ErkJg\n",
       "gg==\n",
       "\" style=\"display:inline;vertical-align:middle;\" /></a></span>"
      ],
      "text/plain": [
       "{A subset_eq B, (x in A) in BOOLEAN} |- not(x in B) => not(x in A)"
      ]
     },
     "execution_count": 6,
     "metadata": {},
     "output_type": "execute_result"
    }
   ],
   "source": [
    "unfold_subset_eq_spec_as_imp.contrapose(assumptions=[InSet(InSet(x, A), Boolean)])"
   ]
  },
  {
   "cell_type": "code",
   "execution_count": null,
   "metadata": {},
   "outputs": [],
   "source": []
  }
 ],
 "metadata": {
  "kernelspec": {
   "display_name": "Python 3",
   "language": "python",
   "name": "python3"
  }
 },
 "nbformat": 4,
 "nbformat_minor": 0
}