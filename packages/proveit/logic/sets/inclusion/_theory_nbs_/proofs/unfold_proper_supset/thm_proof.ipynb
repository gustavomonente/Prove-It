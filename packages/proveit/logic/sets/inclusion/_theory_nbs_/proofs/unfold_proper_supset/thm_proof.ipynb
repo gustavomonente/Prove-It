{
 "cells": [
  {
   "cell_type": "markdown",
   "metadata": {},
   "source": [
    "Proof of <a class=\"ProveItLink\" href=\"../../../../../../_theory_nbs_/theory.ipynb\">proveit</a>.<a class=\"ProveItLink\" href=\"../../../../../_theory_nbs_/theory.ipynb\">logic</a>.<a class=\"ProveItLink\" href=\"../../../../_theory_nbs_/theory.ipynb\">sets</a>.<a class=\"ProveItLink\" href=\"../../theory.ipynb\">inclusion</a>.<a class=\"ProveItLink\" href=\"../../theorems.ipynb#unfold_proper_supset\">unfold_proper_supset</a> theorem\n",
    "========"
   ]
  },
  {
   "cell_type": "code",
   "execution_count": 1,
   "metadata": {},
   "outputs": [],
   "source": [
    "import proveit\n",
    "theory = proveit.Theory() # the theorem's theory"
   ]
  },
  {
   "cell_type": "code",
   "execution_count": 2,
   "metadata": {},
   "outputs": [
    {
     "data": {
      "text/html": [
       "Under these <a href=\"presumptions.txt\">presumptions</a>, we begin our proof of<br><strong id=\"unfold_proper_supset\">unfold_proper_supset:</strong> <a class=\"ProveItLink\" href=\"../../../__pv_it/theorems/0314ba4b33302a852ad23025782df794114b59fc0/expr.ipynb\"><img src=\"data:image/png;base64,iVBORw0KGgoAAAANSUhEUgAAAS0AAAAWBAMAAABnB9cHAAAAMFBMVEX///8QEBCIiIhmZma6urrM\n",
       "zMxUVFQiIiJERETc3Nzu7u6qqqp2dnaYmJgyMjIAAAAcRTyBAAAAAXRSTlMAQObYZgAABD9JREFU\n",
       "SMfFVk2IW1UU/pq8meRlXmZmIShUygMXdqMTiESQwRkc0CKUCS5aV06gCqMLm6r4lFaa+tdElMSV\n",
       "BdF5pUKHEWNgFtpVo12MdFSi4kKkNqW6mNm0zLTzJ+147j333vcyiYFm0wPn5tx3cu797vm7F+iZ\n",
       "PiO2G93/M1DpZNWNziluismlHmAlCjTMsvxcmzZ5eC09/S7wYgcrrdN/NVIfgemvMC+KD8s94BoU\n",
       "rlhi+Zocq57nva3VuwjAWBZVNa2ErZRO0bPBktcJeJP5lIhGoQdcv4mjpvjE13z99au/lTBFEZ5M\n",
       "wXF5ejVkpXWAdfwYnc3Rxn9t0fA98yAt6dR6wPUmcYzd8OVYkEZVJY7Q72UXiWGO0Ek/sNI64OC5\n",
       "J3cnU7M6xvObNJ5mTl6cm/ukB1h2ngZl2BgZb8kRQSdon3sJDPuv/wk3sDI6vETQrux/TSda5IYI\n",
       "5jjzRrF4rAdcERGHB6Ro+edDZalSbo22pG1xgb2IfGBldBBgT+7Rh3p64BaNTor5BaAkP/O4b/XC\n",
       "NIdC/z1ugmSVRzMl/VVA+UiKX2DKDXAtstvWLu09KnNGfVwMrIxOerBpSnW8b0V4rck8IdOf5Bvs\n",
       "zGE4nBO6GC4HQfoF+E6JMZGTR9UBZlIBrkfYMZQqp3MkfCOneXweWBmdjLBZ3YK9KlpenjmGiIzC\n",
       "mVtSG81hYCuMKzHWwJl0+nchZ4DzKoF3ifXuka45lD4cKmg+f5zOFvlX1J48rIv+rLEyutYucSCd\n",
       "2RDLXWd2GjH5+eKrfCIX0WYYl3M2hcTc3IRwySvA49iJy6JJM+jw7Igh+omsaFwxH305Y2V0WPC8\n",
       "dc97HTpv9oRw2c0D8tRuUWq/zuJhP4zrmTgLE+S6m4gst8WRhNiwwXXQN+2rX2TGU2I2r+tBWhmd\n",
       "8GTdHIj4iDhmnhml52Wc8ahUTz60V4Ve4cpFuZScLKyVX9/Hzry3a9yoOegTpaB9TRV03i8pbGxl\n",
       "dOxJRZ+qe0PnPeblvn9iRKp/Bh4M40rWIryp5cJpIpJXy4hSlk1A9LD4prqH3lhU6itkcJ/Yc1TE\n",
       "oqARSCujI/qppR+WCXG0zowhUeSJqz+W5V8/BGZqIVzV0R+4DOw64nXYOl+lqylIs9vLGCivp1q7\n",
       "28vbhzJFucw/uuYirrIKdFg4Qukl8ytRvu3j223K8cEsM5ICT9THjKwY2neyEsL1GOybynEYqsHa\n",
       "7HAPdXt15LkyiLLmHgoo6BKGzipm2k9+a9gfwN6CfX8ojhYlBDeQODnSx8f1Dvd2F3Lc9ts+RPva\n",
       "LdS9rbJ4A3b5rb7dWFhNT4+HcJULOLUuktV+D87xdCZ4NslroBReUbxzPC/Xskt1x67xVg8vtTtY\n",
       "vXNan5fhSahXzhaL7/hd3oX/T6VOVgH5bQYCeLzS4RHbCVfP7+jkHb+j/1DcQo07wXW3KHU3N/8P\n",
       "UAg/TlEDGrYAAAAASUVORK5CYII=\n",
       "\" style=\"display:inline;vertical-align:middle;\" /></a><br>(see <a class=\"ProveItLink\" href=\"../../../__pv_it/theorems/45b21ba8dc94dcbf2a9270c032e2596a53dcfb990/dependencies.ipynb\">dependencies</a>)<br>"
      ],
      "text/plain": [
       "unfold_proper_supset: forall_{A, B | A proper_superset B} ((A supseteq B) and (B not_equiv A))"
      ]
     },
     "execution_count": 2,
     "metadata": {},
     "output_type": "execute_result"
    }
   ],
   "source": [
    "%proving unfold_proper_supset"
   ]
  },
  {
   "cell_type": "code",
   "execution_count": null,
   "metadata": {},
   "outputs": [],
   "source": []
  }
 ],
 "metadata": {
  "kernelspec": {
   "display_name": "Python 3",
   "language": "python",
   "name": "python3"
  }
 },
 "nbformat": 4,
 "nbformat_minor": 0
}