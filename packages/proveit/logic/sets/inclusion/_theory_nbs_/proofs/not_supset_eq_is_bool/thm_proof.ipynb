{
 "cells": [
  {
   "cell_type": "markdown",
   "metadata": {},
   "source": [
    "Proof of <a class=\"ProveItLink\" href=\"../../../../../../_theory_nbs_/theory.ipynb\">proveit</a>.<a class=\"ProveItLink\" href=\"../../../../../_theory_nbs_/theory.ipynb\">logic</a>.<a class=\"ProveItLink\" href=\"../../../../_theory_nbs_/theory.ipynb\">sets</a>.<a class=\"ProveItLink\" href=\"../../theory.ipynb\">inclusion</a>.<a class=\"ProveItLink\" href=\"../../theorems.ipynb#not_supset_eq_is_bool\">not_supset_eq_is_bool</a> theorem\n",
    "========"
   ]
  },
  {
   "cell_type": "code",
   "execution_count": 1,
   "metadata": {},
   "outputs": [],
   "source": [
    "import proveit\n",
    "theory = proveit.Theory() # the theorem's theory"
   ]
  },
  {
   "cell_type": "code",
   "execution_count": 2,
   "metadata": {},
   "outputs": [
    {
     "data": {
      "text/html": [
       "Under these <a href=\"presumptions.txt\">presumptions</a>, we begin our proof of<br><strong id=\"not_supset_eq_is_bool\">not_supset_eq_is_bool:</strong> <a class=\"ProveItLink\" href=\"../../../__pv_it/theorems/05986a4b2856ffc1ae5fa2d0a567120941da75840/expr.ipynb\"><img src=\"data:image/png;base64,iVBORw0KGgoAAAANSUhEUgAAALcAAAAYBAMAAABKCnGXAAAAMFBMVEX///8QEBCIiIhmZma6urrM\n",
       "zMxUVFQiIiJERETc3Nzu7u6qqqp2dnaYmJgyMjIAAAAcRTyBAAAAAXRSTlMAQObYZgAAAxNJREFU\n",
       "SMe1VU1IVFEU/po/5715M7oQDIoYaJEQ5pBQiwKFFoYQDgS6ywEVxhZptJjCyimCZqJwVtnOFwaJ\n",
       "QQktIggSJyg04tGuH2vCWuQiJcPUKDv3741vfiohD5z37j333O+e+51z7wU2Li5sotz9PzCaJdQp\n",
       "dY5eIFN67kPSHGvMlAEflUpyLG/NiV+wd6khfgnoKSDtZOpXTRfgo0WnmWGuDPhnqSTzgpFEIjEb\n",
       "kaNbkkBjtIilkDc8OmJBpxhusN0nS2MHI0JZc960Kf8oGx1EWGsERtg5y++xXFFCnKR1aJIxXhq8\n",
       "IiOU5E6jTe11f1Q06sn0Pgy9SoZyOXFeggfGCfwmmabGxobKsDIklcSqb1LWJ7rc6AVAr6HYxE68\n",
       "F007cqOFXEI0YzmVOlsGfKdUwGM+tvL5lClcAtqP0z8r2DLztDS30eYMIrQbSHOj+B5ezMYVA9ek\n",
       "ArfQoZgNhrFbhLo0U9vPGu94tyfPec1aNXOkjB7ieaX2NzG3CoYkEf1SgSYMqxqhJB0QNbdCvMao\n",
       "8YB3k+sSasxM0AHoo4zBxXc88pMPuWMIrEq3aqnwdjb0qsltwBkBQjG4frCq4S47vpBIcCSPkGWB\n",
       "qLEquO/UKVEhYbhzheAeKmpl7EZArFNJUbu+KnBtfeRI+gS4lmvjK4dTfOheFHvMQlqoVCskV8Rh\n",
       "u2mXuY9x2cy7VevBYyGKqI8lsouZfNjPh1rramMoSKhG4KEFYTNeH03ny7wjaSd0ryPytyKhuM9W\n",
       "wBvU86EXwC7llpXKat2/Io7/wOlpOfqBgtvKNnFQ8DluH/8JI0sBuicYd6zI9Nnng3y3V4Fh5dYs\n",
       "dHRtDoHB76JcHqmVT6x17ktxz0+Cr3iL4+JCiB3kIAN1mxjmp5rS35opPv6Ou8wpep/4e56J46/k\n",
       "tt2i0qm0tCvQVqFtL3FxKfEW33GFF5eSSTsJy9AGz3m34eliQ9y+RfihTTseoQG6cxOxf3mY9FyB\n",
       "IVD+sVBMFaOkS4P7MyWepj8/cy+LL/0yz9yrQoP111d1bjNf/sxGnH8Dy43SfE5/nm8AAAAASUVO\n",
       "RK5CYII=\n",
       "\" style=\"display:inline;vertical-align:middle;\" /></a><br>(see <a class=\"ProveItLink\" href=\"../../../__pv_it/theorems/5c7f1159512a75dcffe4e5ac246e3b333a7350200/dependencies.ipynb\">dependencies</a>)<br>"
      ],
      "text/plain": [
       "not_supset_eq_is_bool: forall_{A, B} ((A nsupseteq B) in BOOLEAN)"
      ]
     },
     "execution_count": 2,
     "metadata": {},
     "output_type": "execute_result"
    }
   ],
   "source": [
    "%proving not_supset_eq_is_bool"
   ]
  },
  {
   "cell_type": "code",
   "execution_count": null,
   "metadata": {},
   "outputs": [],
   "source": []
  }
 ],
 "metadata": {
  "kernelspec": {
   "display_name": "Python 3",
   "language": "python",
   "name": "python3"
  }
 },
 "nbformat": 4,
 "nbformat_minor": 0
}