{
 "cells": [
  {
   "cell_type": "markdown",
   "metadata": {},
   "source": [
    "Proof of <a class=\"ProveItLink\" href=\"../../../../../../_theory_nbs_/theory.ipynb\">proveit</a>.<a class=\"ProveItLink\" href=\"../../../../../_theory_nbs_/theory.ipynb\">logic</a>.<a class=\"ProveItLink\" href=\"../../../../_theory_nbs_/theory.ipynb\">sets</a>.<a class=\"ProveItLink\" href=\"../../theory.ipynb\">inclusion</a>.<a class=\"ProveItLink\" href=\"../../theorems.ipynb#unfold_not_subset_eq\">unfold_not_subset_eq</a> theorem\n",
    "========"
   ]
  },
  {
   "cell_type": "code",
   "execution_count": 1,
   "metadata": {},
   "outputs": [],
   "source": [
    "import proveit\n",
    "from proveit.logic.sets.inclusion  import not_subset_eq_def"
   ]
  },
  {
   "cell_type": "code",
   "execution_count": 2,
   "metadata": {},
   "outputs": [
    {
     "data": {
      "text/html": [
       "Under these <a href=\"presumptions.txt\">presumptions</a>, we begin our proof of<br><strong id=\"unfold_not_subset_eq\">unfold_not_subset_eq:</strong> <a class=\"ProveItLink\" href=\"../../../__pv_it/theorems/089be483574f2f8bd4d0139e236c875559dbb8f50/expr.ipynb\"><img src=\"data:image/png;base64,iVBORw0KGgoAAAANSUhEUgAAANcAAAAaBAMAAADWJdTsAAAAMFBMVEX///8QEBCIiIhmZma6urrM\n",
       "zMxUVFQiIiJERETc3Nzu7u6qqqp2dnaYmJgyMjIAAAAcRTyBAAAAAXRSTlMAQObYZgAAAzVJREFU\n",
       "SMe9Vl9IU1EY/3W3q7t3u9OHiKCIQQ/1UgqDRSW16KEQwtGDT0GD/vkSrYRG/2hC2bRk66WECBc+\n",
       "GD7UyJd8ammhWcQqCEKqQS8VgaJpc2F2zvnu1TPkahPtg9/O+c6/33e+P+cOWKJoWUm5u8jiXhM5\n",
       "rnwsney+1NdjolFz81a9nzkSiAdRloTASz72vXSyb1Lfm6RmlFTjRDQaDVF/LeCYgM7M4GjnLomV\n",
       "zGVUS8o7aj4VyME/krMz6jTgHAf6IOBNAZ50yWTlSUk5R87smZLvKURhQ8YYcA8CxlB39+3SvShv\n",
       "0SJ0WeWnaHdKU65KRnKeGRAk5OPxi6WTbZT6Crm01j0t2og0VRGGepb7rppwDGj5l+ODRVqbbL6o\n",
       "Aj2ojol7hqWpwyffXuMxMnKEvSJPFpfiJLrAsizKJcPiJ0LuhDYu1QFJVRL6Gta6I4RyKFSfdL/9\n",
       "4/0NSdpsGU6qjyFREzC9sNqKF7vHKnHpen8gP8+NTZyQ2aKOEjzZcoovhdeohKdScFgbPrOzOuNN\n",
       "zaz7BnhqR8Z+NoihPolskpP55si0XL0Y76TwOsJwF2QyfXcW6lXc4v0A8CRluXGWTLjRzXCaUj9d\n",
       "VGY4xcxwRghoOSomhhqpgHxw5GQyT1c1vMAz3j8D7CpOEE4mEuQOwwhZd7xWLjM1LyUIeoSTVV9c\n",
       "zD8MYWtKJjvoimGY3lB9Aor5svVb54Uop0WtJaic1UHrufKygOxp5f7KEFDh4+Nl2CZW1m3ZTLlr\n",
       "kYUdEWyHmy9yjr1tNkf3SYFh/tETf1J4PNNYnMBlI5P+huuCNUSAIS4yjCqx4DWwSSYz0sooXsDF\n",
       "F3lyUCK2z9VC0mXCTIMvrxKC9AbQkZbIHtQMFvCI8sOVgfbb/iFeQPqKstSRQodwMzusLimR7YA2\n",
       "wUrtuXh80nBOmRvkV8clXxMDothD8pD1iTHlADsqq7VCK0BbL7nRyTJtGnqbWNmRws2M/cfTXrg1\n",
       "cxa58tASl9R1GBj3NwQlskQM7b+ycHyNN8Nz2R+4sqS/BR9MFIlbtgZ2yjJJr935h1aALGtD1s4+\n",
       "enGsoDhKyYDlFCX4H8m05TnmL1zU2/n7Oqc7AAAAAElFTkSuQmCC\n",
       "\" style=\"display:inline;vertical-align:middle;\" /></a><br>(see <a class=\"ProveItLink\" href=\"../../../__pv_it/theorems/6d4dd4ab340b83f9a3011714cce2af312434cdcc0/dependencies.ipynb\">dependencies</a>)<br>"
      ],
      "text/plain": [
       "unfold_not_subset_eq: forall_{A, B | A nsubseteq B} [not](A subseteq B)"
      ]
     },
     "execution_count": 2,
     "metadata": {},
     "output_type": "execute_result"
    }
   ],
   "source": [
    "%proving unfold_not_subset_eq"
   ]
  },
  {
   "cell_type": "code",
   "execution_count": 3,
   "metadata": {},
   "outputs": [
    {
     "data": {
      "text/html": [
       "<span style=\"font-size:20px;\"> <a class=\"ProveItLink\" href=\"../../axioms.ipynb#not_subset_eq_def\" style=\"text-decoration: none\">&nbsp;&#x22A2;&nbsp;&nbsp;</a><a class=\"ProveItLink\" href=\"../../../__pv_it/axioms/41eed7a91b1632948006533bffef4efa8ad801280/expr.ipynb\"><img src=\"data:image/png;base64,iVBORw0KGgoAAAANSUhEUgAAARkAAAAYBAMAAAA8FZQ1AAAAMFBMVEX///8QEBCIiIhmZma6urrM\n",
       "zMxUVFQiIiJERETc3Nzu7u6qqqp2dnaYmJgyMjIAAAAcRTyBAAAAAXRSTlMAQObYZgAAA95JREFU\n",
       "SMfNV19IU1EY/9y809390QdJoYhBD/liCgt7KHDhgyGEe7K3FOyPBeVEbJRFCkWbJfMphSgnBYlB\n",
       "CT5UECT6YFnEKIiirEVFZJGitaZh9p1z7jn33O1OjYj64HfP3flzz+/7c77zDeD3JRv+J8n5R/va\n",
       "YwxGeWn45eg2Xyfk4gqb3JYQJx2TGSYOaEDZrfdOscbVlPA2ngI4YL6Oi9pOGyWeNuvpUkN5yAc2\n",
       "VIfjgfT9NPmoAWVa63oWbC5sZa9ZuE+FH66br+PiZrZzz2g67A8Gg372XgRg/QYq8uToJYZtNyfj\n",
       "KmMgr9NR2l66DzbtW1CH/qgpA6fHbJ2QJ6x5tcB8+Fl3rLKIJ2IOYBQE3LiLcyhDuHYzoFyroK2K\n",
       "WgtblGLXaw+o+WbrhBxl/hqely1FxYJdrlmAfhBwTQwO9mRwVI8GlFipjzQ25F3Chztwk0JU5p3Z\n",
       "OhHQAWYuy1fabpWGclGN/mPI0KcjGQodz8BmgwY0aPRujB/uAB9OAOw6iO2Y2TphAOa1ascibQPS\n",
       "UF49KEeIa8p07AUI00H23DE31sit2aUB4ArU0eg4jyd6hLs9MVncRkOCPJxfqJSBWKMZgGqh+pRZ\n",
       "aql6aaju0OMzJEZccR2VNJjxnZnSlQ9OHghtGgB80Ef36ZU8T9zeT75+M9U2uMYaJILEc4ZY+rbP\n",
       "ScddxJ26hmSsgI4csFD6l5kprfXgWNCmF2gApcHb1K55qld2u+UH0TGVTQGPGeSaReOt1lueTPNU\n",
       "B2GEZJUZHc4Yy/QTLew8eMAaT2WDN1MW7XTGYLPkdrDMro4NPtbTrlFpWoKw8RjZ2OO1VH1PiE65\n",
       "4YdN0VRPoQI5zH2fVKEdSTc24t4qKW7qQXiXsaGeciCa2QkfMqQbaEKe2QEdEN5Dzy5soXNqSopF\n",
       "pPEotg+JXDrQ4JHTTV07j2JZuiQ2NIoviGSu7quW042STIliGKbavoBSOucRwEY+f0wDyR+585pF\n",
       "PgSD7GZ4g9oUETNuS2UjjryfHVuacyIs+pV7/GZwo7W3d5JQHdEBeURb9e3DCHXQOYA+bs0qhoGl\n",
       "KXBEvrPEUcl3OkzuPDrzfSqbKrkYCoAa+RmFW0stxkm2abx0z1Jafh3gIiysUeijjPGQ1HSn3wxC\n",
       "TqflSDWwipthObkqgclOtFHM3gn2BbCvM7k1RaJPLwxWd2suI9KtqeWOJNgjJ5S1MD7nbfSJeWGR\n",
       "ovnOJ0lSazV8zKSikNfkGow7TrOi32BbqaIw1nGZq63MVWh4VdVWZiF0OdKKwuUr0TvpRdCfVqLP\n",
       "JRgktqKPO/+r/wvdf/XrvwBAgCVwL40pgQAAAABJRU5ErkJggg==\n",
       "\" style=\"display:inline;vertical-align:middle;\" /></a></span>"
      ],
      "text/plain": [
       "|- forall_{A, B} ((A nsubseteq B) = [not](A subseteq B))"
      ]
     },
     "execution_count": 3,
     "metadata": {},
     "output_type": "execute_result"
    }
   ],
   "source": [
    "# Pull in the definition for NotSubsetEq\n",
    "not_subset_eq_def"
   ]
  },
  {
   "cell_type": "code",
   "execution_count": 4,
   "metadata": {},
   "outputs": [
    {
     "data": {
      "text/html": [
       "<strong id=\"not_subset_eq_def_inst\">not_subset_eq_def_inst:</strong> <span style=\"font-size:20px;\"> <a class=\"ProveItLink\" href=\"../../../__pv_it/_proof_unfold_not_subset_eq/adf049ba6514f42933d71d2af07676747fd269a60/proof.ipynb\" style=\"text-decoration: none\">&nbsp;&#x22A2;&nbsp;&nbsp;</a><a class=\"ProveItLink\" href=\"../../../__pv_it/axioms/f29e63ade2ceac43ca65811e5058009ad29ef67c0/expr.ipynb\"><img src=\"data:image/png;base64,iVBORw0KGgoAAAANSUhEUgAAANEAAAAYBAMAAACW8wWgAAAAMFBMVEX///9UVFTMzMx2dna6uroQ\n",
       "EBCqqqqIiIgiIiJmZmYyMjJERETu7u6YmJjc3NwAAAC+aOQFAAAAAXRSTlMAQObYZgAAAs5JREFU\n",
       "SMe9Vk1oU0EQniTN/0vswUtUbMSLeElv0ovkWEHQQw5FLwEviqC5FpE+hMrzoil6yalFtIiUNoiC\n",
       "oGkiWBFziXhSUetFikVsQKz/cd7s7Mu+3ZoWpB2Y7M/b/WZ2fgNgUh9sFcU2CTfd0nde+FaRxXXu\n",
       "fFpHwBlmaIr1/u6nGTGkBtqVnXcBdpuXm8rcqtIQnDJOMUAAVXUZZsX2HH9+7YyPXBDTMGJMZuGZ\n",
       "KWlWmSfEmxMrvH7uOI4PwEIdXE6Vhfy5Bo0fD0Igy3dyaKMjZQiVDGXLyuKlGF79AgngEQMcwCly\n",
       "TKj0ZJJGC7X13jCGW+9KYB01QkZ13WVhw1N/zOcywAJOkZfEZmss7w6BIsB5efAeAozgU2/okpbU\n",
       "4LDFM6NfaIwXlW8MkEBo5FGRQo2zLRngtjzYBti3C8chXdKoMo8KSx6O/DYzhAFCZeIa7T2GHHnj\n",
       "PUb1IJ8Ltt+cu0gucH9Ct4kIt6agJUlDKx9cBQbwSAKkpogJC/LwmTCWvVhCbdHyC/04Oam/Ce/E\n",
       "HZdQqVhRlJX0dyP+JUDEJi6Q9ExloMqPX/a0xUiIfnVDSJdUkD5CmDD5d09l4qdhPQkQXCEucKUL\n",
       "U+aFWnBNHtyGONHVjUnCn2O0paaEBGBJZD20QEzE8rRlq9kQcCNqWPFTP1vPk0TWiyCPi71pfzq5\n",
       "AH02sevddNHL8WampGZDriojQqWaIoki4kO3yDza3tABOCKGOD+SnHm5W7KY3ERNjrvXruqSvLDP\n",
       "ihCmnKpzJO29rwPEB4nRNM3ODETq30RiHJIoOzqZiQcUWNd1ScNqM7PBqv9owOnOJe2UB5DIEse0\n",
       "pnDHKKddz/WoRr3oqWBftURDmMV/YxW2B3GFhXkf6hWnW/SZ1uga6p2kzyghxwCQXcOX1Wt29vkN\n",
       "dcJ/k6sKqePv7ifMzvm/3f0ts0YPt+x/0eKmIf8Fn/vhKMyl8C8AAAAASUVORK5CYII=\n",
       "\" style=\"display:inline;vertical-align:middle;\" /></a></span><br>"
      ],
      "text/plain": [
       "not_subset_eq_def_inst: |- (A nsubseteq B) = [not](A subseteq B)"
      ]
     },
     "execution_count": 4,
     "metadata": {},
     "output_type": "execute_result"
    }
   ],
   "source": [
    "not_subset_eq_def_inst = not_subset_eq_def.instantiate()"
   ]
  },
  {
   "cell_type": "code",
   "execution_count": 5,
   "metadata": {},
   "outputs": [
    {
     "data": {
      "text/html": [
       "<span style=\"font-size:20px;\"><a class=\"ProveItLink\" href=\"../../../__pv_it/axioms/7575defc0d1b60013b67a1c756513e01789124070/expr.ipynb\"><img src=\"data:image/png;base64,iVBORw0KGgoAAAANSUhEUgAAADsAAAAYBAMAAAC2M5gYAAAAMFBMVEX///92dnYiIiIQEBBERERU\n",
       "VFS6urqIiIjc3NxmZmaqqqru7u6YmJgyMjLMzMwAAADiRdoGAAAAAXRSTlMAQObYZgAAASlJREFU\n",
       "KM9jYEADbAx4ARN+6YNYxN4imLchFE/815khblCx+1D6iJKykR6EyezAwDD/AUTp/Q1guleCgfUB\n",
       "VOX7AwwM+RPAzF3zG0AU9w0Ghr0wS+qBQucLwMwD9QkginUBA0MNTNoZqNwIbCjbhvUHYH5SgEl/\n",
       "ZWB4FA1mbWN4DzallYGBSwAqy/f1TIkWhJnA0A92QwsDA28DVJr9BwPD5gCwwsiZ8Q5Qw1tgZrMY\n",
       "AJX8goYy8wUQg/EAwzSYND9QJ/t3EAvoXiYDsNgtbrjLQN5m/QZkcACleT+AxbZEFiB7+z3IyiaQ\n",
       "TT+gei4pKUEC9TLQUhOgt7f8v83A5f8JEnyZMM2x/yOnuixAjzk/vHHNcQGfLKO+khLMbjIS0kL8\n",
       "0t74pRswRABOwUh1xsJekAAAAABJRU5ErkJggg==\n",
       "\" style=\"display:inline;vertical-align:middle;\" /></a> <a class=\"ProveItLink\" href=\"../../../__pv_it/_proof_unfold_not_subset_eq/65a8180adf2e7cd2885ab2ac1247976730322f200/proof.ipynb\" style=\"text-decoration: none\">&nbsp;&#x22A2;&nbsp;&nbsp;</a><a class=\"ProveItLink\" href=\"../../../__pv_it/axioms/e2cbdef7929317005163961fb22446f0a3190a220/expr.ipynb\"><img src=\"data:image/png;base64,iVBORw0KGgoAAAANSUhEUgAAAFoAAAAUBAMAAAD/1DctAAAAMFBMVEX///+6uroQEBCqqqqIiIgy\n",
       "MjJERETu7u6YmJjMzMxUVFTc3Nx2dnYiIiJmZmYAAAAutVgsAAAAAXRSTlMAQObYZgAAAWZJREFU\n",
       "KM9jYIAD7gYGvIB5AzKvDEJNxVTX9X/dqzQBhtXIYtEQKh7K5Vh79+7dCRC2GgMD30+GUiTFHA8g\n",
       "VHwBxF0xCIs5fzAwMP5j4HFAqOaFyBa/h9CsSK5k+Q005QsDuwJCaC+EavAXANOPkaxlAyorus7A\n",
       "EIgQ8gOTjAX2kKC5gKSafwED5y2gA88hhDLAZCHDfLDruBcgqZ6/oiXXAEi3MrwF+vzuHSDzMlhC\n",
       "gGE/2LfsCUiq/TcwsGsBaVsIdxcQK4J9v+7d+gQMlySBdAANn4+mmpGBgSkALHQESfUvkGoHFNVg\n",
       "lwAN4IWEE6sBSnAzrAcGlSxCNciX3EAlrB/AQuyrxJGDm/Mb2JcQ3QyQ4AGFOdtvqNgxWMyzAm0T\n",
       "Sgcy3iAcB7Sm7H84A3P+3weoaYor/te7ZckgViRGzOMB7BcwUhUegJyqGLJRpM6CYg2WYiGgFEtu\n",
       "wA1QjCOU0zg2MAAAuRte2LZ9nhEAAAAASUVORK5CYII=\n",
       "\" style=\"display:inline;vertical-align:middle;\" /></a></span>"
      ],
      "text/plain": [
       "{A nsubseteq B} |- [not](A subseteq B)"
      ]
     },
     "execution_count": 5,
     "metadata": {},
     "output_type": "execute_result"
    }
   ],
   "source": [
    "not_subset_eq_def_inst.derive_right_via_equality([not_subset_eq_def_inst.lhs])"
   ]
  },
  {
   "cell_type": "code",
   "execution_count": 6,
   "metadata": {},
   "outputs": [
    {
     "data": {
      "text/html": [
       "<table><tr><th>&nbsp;</th><th>step type</th><th>requirements</th><th>statement</th></tr>\n",
       "<tr><td><a name=\"-0x3fb846ab287b40f1_step0\">0</a></td><td>generalizaton</td><td><a href=\"#-0x3fb846ab287b40f1_step1\">1</a></td><td><span style=\"font-size:20px;\"> <a class=\"ProveItLink\" href=\"../../../__pv_it/_proof_unfold_not_subset_eq/3517ba8d07b6fe9aee45dd66c0b7dda6cfb780230/proof.ipynb\" style=\"text-decoration: none\">&nbsp;&#x22A2;&nbsp;&nbsp;</a><a class=\"ProveItLink\" href=\"../../../__pv_it/theorems/089be483574f2f8bd4d0139e236c875559dbb8f50/expr.ipynb\"><img src=\"data:image/png;base64,iVBORw0KGgoAAAANSUhEUgAAANcAAAAaBAMAAADWJdTsAAAAMFBMVEX///8QEBCIiIhmZma6urrM\n",
       "zMxUVFQiIiJERETc3Nzu7u6qqqp2dnaYmJgyMjIAAAAcRTyBAAAAAXRSTlMAQObYZgAAAzVJREFU\n",
       "SMe9Vl9IU1EY/3W3q7t3u9OHiKCIQQ/1UgqDRSW16KEQwtGDT0GD/vkSrYRG/2hC2bRk66WECBc+\n",
       "GD7UyJd8ammhWcQqCEKqQS8VgaJpc2F2zvnu1TPkahPtg9/O+c6/33e+P+cOWKJoWUm5u8jiXhM5\n",
       "rnwsney+1NdjolFz81a9nzkSiAdRloTASz72vXSyb1Lfm6RmlFTjRDQaDVF/LeCYgM7M4GjnLomV\n",
       "zGVUS8o7aj4VyME/krMz6jTgHAf6IOBNAZ50yWTlSUk5R87smZLvKURhQ8YYcA8CxlB39+3SvShv\n",
       "0SJ0WeWnaHdKU65KRnKeGRAk5OPxi6WTbZT6Crm01j0t2og0VRGGepb7rppwDGj5l+ODRVqbbL6o\n",
       "Aj2ojol7hqWpwyffXuMxMnKEvSJPFpfiJLrAsizKJcPiJ0LuhDYu1QFJVRL6Gta6I4RyKFSfdL/9\n",
       "4/0NSdpsGU6qjyFREzC9sNqKF7vHKnHpen8gP8+NTZyQ2aKOEjzZcoovhdeohKdScFgbPrOzOuNN\n",
       "zaz7BnhqR8Z+NoihPolskpP55si0XL0Y76TwOsJwF2QyfXcW6lXc4v0A8CRluXGWTLjRzXCaUj9d\n",
       "VGY4xcxwRghoOSomhhqpgHxw5GQyT1c1vMAz3j8D7CpOEE4mEuQOwwhZd7xWLjM1LyUIeoSTVV9c\n",
       "zD8MYWtKJjvoimGY3lB9Aor5svVb54Uop0WtJaic1UHrufKygOxp5f7KEFDh4+Nl2CZW1m3ZTLlr\n",
       "kYUdEWyHmy9yjr1tNkf3SYFh/tETf1J4PNNYnMBlI5P+huuCNUSAIS4yjCqx4DWwSSYz0sooXsDF\n",
       "F3lyUCK2z9VC0mXCTIMvrxKC9AbQkZbIHtQMFvCI8sOVgfbb/iFeQPqKstSRQodwMzusLimR7YA2\n",
       "wUrtuXh80nBOmRvkV8clXxMDothD8pD1iTHlADsqq7VCK0BbL7nRyTJtGnqbWNmRws2M/cfTXrg1\n",
       "cxa58tASl9R1GBj3NwQlskQM7b+ycHyNN8Nz2R+4sqS/BR9MFIlbtgZ2yjJJr935h1aALGtD1s4+\n",
       "enGsoDhKyYDlFCX4H8m05TnmL1zU2/n7Oqc7AAAAAElFTkSuQmCC\n",
       "\" style=\"display:inline;vertical-align:middle;\" /></a></span></td></tr>\n",
       "<tr><td><a name=\"-0x3fb846ab287b40f1_step1\">1</a></td><td>instantiation</td><td><a href=\"#-0x3fb846ab287b40f1_step2\">2</a>, <a href=\"#-0x3fb846ab287b40f1_step3\">3</a>, <a href=\"#-0x3fb846ab287b40f1_step4\">4</a></td><td><span style=\"font-size:20px;\"><a class=\"ProveItLink\" href=\"../../../__pv_it/axioms/7575defc0d1b60013b67a1c756513e01789124070/expr.ipynb\"><img src=\"data:image/png;base64,iVBORw0KGgoAAAANSUhEUgAAADsAAAAYBAMAAAC2M5gYAAAAMFBMVEX///92dnYiIiIQEBBERERU\n",
       "VFS6urqIiIjc3NxmZmaqqqru7u6YmJgyMjLMzMwAAADiRdoGAAAAAXRSTlMAQObYZgAAASlJREFU\n",
       "KM9jYEADbAx4ARN+6YNYxN4imLchFE/815khblCx+1D6iJKykR6EyezAwDD/AUTp/Q1guleCgfUB\n",
       "VOX7AwwM+RPAzF3zG0AU9w0Ghr0wS+qBQucLwMwD9QkginUBA0MNTNoZqNwIbCjbhvUHYH5SgEl/\n",
       "ZWB4FA1mbWN4DzallYGBSwAqy/f1TIkWhJnA0A92QwsDA28DVJr9BwPD5gCwwsiZ8Q5Qw1tgZrMY\n",
       "AJX8goYy8wUQg/EAwzSYND9QJ/t3EAvoXiYDsNgtbrjLQN5m/QZkcACleT+AxbZEFiB7+z3IyiaQ\n",
       "TT+gei4pKUEC9TLQUhOgt7f8v83A5f8JEnyZMM2x/yOnuixAjzk/vHHNcQGfLKO+khLMbjIS0kL8\n",
       "0t74pRswRABOwUh1xsJekAAAAABJRU5ErkJggg==\n",
       "\" style=\"display:inline;vertical-align:middle;\" /></a> <a class=\"ProveItLink\" href=\"../../../__pv_it/_proof_unfold_not_subset_eq/65a8180adf2e7cd2885ab2ac1247976730322f200/proof.ipynb\" style=\"text-decoration: none\">&nbsp;&#x22A2;&nbsp;&nbsp;</a><a class=\"ProveItLink\" href=\"../../../__pv_it/axioms/e2cbdef7929317005163961fb22446f0a3190a220/expr.ipynb\"><img src=\"data:image/png;base64,iVBORw0KGgoAAAANSUhEUgAAAFoAAAAUBAMAAAD/1DctAAAAMFBMVEX///+6uroQEBCqqqqIiIgy\n",
       "MjJERETu7u6YmJjMzMxUVFTc3Nx2dnYiIiJmZmYAAAAutVgsAAAAAXRSTlMAQObYZgAAAWZJREFU\n",
       "KM9jYIAD7gYGvIB5AzKvDEJNxVTX9X/dqzQBhtXIYtEQKh7K5Vh79+7dCRC2GgMD30+GUiTFHA8g\n",
       "VHwBxF0xCIs5fzAwMP5j4HFAqOaFyBa/h9CsSK5k+Q005QsDuwJCaC+EavAXANOPkaxlAyorus7A\n",
       "EIgQ8gOTjAX2kKC5gKSafwED5y2gA88hhDLAZCHDfLDruBcgqZ6/oiXXAEi3MrwF+vzuHSDzMlhC\n",
       "gGE/2LfsCUiq/TcwsGsBaVsIdxcQK4J9v+7d+gQMlySBdAANn4+mmpGBgSkALHQESfUvkGoHFNVg\n",
       "lwAN4IWEE6sBSnAzrAcGlSxCNciX3EAlrB/AQuyrxJGDm/Mb2JcQ3QyQ4AGFOdtvqNgxWMyzAm0T\n",
       "Sgcy3iAcB7Sm7H84A3P+3weoaYor/te7ZckgViRGzOMB7BcwUhUegJyqGLJRpM6CYg2WYiGgFEtu\n",
       "wA1QjCOU0zg2MAAAuRte2LZ9nhEAAAAASUVORK5CYII=\n",
       "\" style=\"display:inline;vertical-align:middle;\" /></a></span></td></tr>\n",
       "<tr><td>&nbsp;</td><td colspan=4 style=\"text-align:left\"><span style=\"font-size:20px;\"><a class=\"ProveItLink\" href=\"../../../../../../__pv_it/common/de55da274ba0f49c86925fbf3828021c04d27faf0/expr.ipynb\"><img src=\"data:image/png;base64,iVBORw0KGgoAAAANSUhEUgAAABAAAAAOBAMAAADUAYG5AAAAMFBMVEX///8iIiLc3Ny6urqIiIiq\n",
       "qqp2dnbMzMwQEBDu7u5mZmYyMjJERERUVFSYmJgAAAA4CJ/KAAAAAXRSTlMAQObYZgAAAF5JREFU\n",
       "CNdjYGB4+//s3V0TGIDgNwMDTyeQZv/GwMD6Bchg+QzEQA4DzwcGBl4gh4F/AwOD/gIgoz6BgVUM\n",
       "pMn/WtoSsO7zYBIIPkJp9l9QBsgYMOD+CaG59v91ANEANtEY7WfmSIAAAAAASUVORK5CYII=\n",
       "\" style=\"display:inline;vertical-align:middle;\" /></a> : <a class=\"ProveItLink\" href=\"../../../__pv_it/axioms/7575defc0d1b60013b67a1c756513e01789124070/expr.ipynb\"><img src=\"data:image/png;base64,iVBORw0KGgoAAAANSUhEUgAAADsAAAAYBAMAAAC2M5gYAAAAMFBMVEX///92dnYiIiIQEBBERERU\n",
       "VFS6urqIiIjc3NxmZmaqqqru7u6YmJgyMjLMzMwAAADiRdoGAAAAAXRSTlMAQObYZgAAASlJREFU\n",
       "KM9jYEADbAx4ARN+6YNYxN4imLchFE/815khblCx+1D6iJKykR6EyezAwDD/AUTp/Q1guleCgfUB\n",
       "VOX7AwwM+RPAzF3zG0AU9w0Ghr0wS+qBQucLwMwD9QkginUBA0MNTNoZqNwIbCjbhvUHYH5SgEl/\n",
       "ZWB4FA1mbWN4DzallYGBSwAqy/f1TIkWhJnA0A92QwsDA28DVJr9BwPD5gCwwsiZ8Q5Qw1tgZrMY\n",
       "AJX8goYy8wUQg/EAwzSYND9QJ/t3EAvoXiYDsNgtbrjLQN5m/QZkcACleT+AxbZEFiB7+z3IyiaQ\n",
       "TT+gei4pKUEC9TLQUhOgt7f8v83A5f8JEnyZMM2x/yOnuixAjzk/vHHNcQGfLKO+khLMbjIS0kL8\n",
       "0t74pRswRABOwUh1xsJekAAAAABJRU5ErkJggg==\n",
       "\" style=\"display:inline;vertical-align:middle;\" /></a>, <a class=\"ProveItLink\" href=\"../../../../../../__pv_it/common/d72bb8b07403efe79afab564c36a28e21330e5f90/expr.ipynb\"><img src=\"data:image/png;base64,iVBORw0KGgoAAAANSUhEUgAAAA8AAAASBAMAAAB2sJk8AAAAMFBMVEX///+qqqq6urrc3NwQEBAy\n",
       "MjJERERUVFTMzMwiIiKYmJh2dnZmZmaIiIju7u4AAABsX1SbAAAAAXRSTlMAQObYZgAAAINJREFU\n",
       "CNdjYGDgu7P7FAMI7GxgYE8A0k8DgILeQEbIAyBRz8DA/Qskvd+AwX4CiHFegWH/BRAjv4FhfgOI\n",
       "8R+IQGoZvzMwTAEJcP5jYCgBMe4DFfY/eHuD4w+Qw3thAff6DSDhvuqbyQxgrQzsDVwGYAbbATUw\n",
       "zcDz/weEwTFFgIEBAOxlJHQBUmidAAAAAElFTkSuQmCC\n",
       "\" style=\"display:inline;vertical-align:middle;\" /></a> : <a class=\"ProveItLink\" href=\"../../../__pv_it/axioms/e2cbdef7929317005163961fb22446f0a3190a220/expr.ipynb\"><img src=\"data:image/png;base64,iVBORw0KGgoAAAANSUhEUgAAAFoAAAAUBAMAAAD/1DctAAAAMFBMVEX///+6uroQEBCqqqqIiIgy\n",
       "MjJERETu7u6YmJjMzMxUVFTc3Nx2dnYiIiJmZmYAAAAutVgsAAAAAXRSTlMAQObYZgAAAWZJREFU\n",
       "KM9jYIAD7gYGvIB5AzKvDEJNxVTX9X/dqzQBhtXIYtEQKh7K5Vh79+7dCRC2GgMD30+GUiTFHA8g\n",
       "VHwBxF0xCIs5fzAwMP5j4HFAqOaFyBa/h9CsSK5k+Q005QsDuwJCaC+EavAXANOPkaxlAyorus7A\n",
       "EIgQ8gOTjAX2kKC5gKSafwED5y2gA88hhDLAZCHDfLDruBcgqZ6/oiXXAEi3MrwF+vzuHSDzMlhC\n",
       "gGE/2LfsCUiq/TcwsGsBaVsIdxcQK4J9v+7d+gQMlySBdAANn4+mmpGBgSkALHQESfUvkGoHFNVg\n",
       "lwAN4IWEE6sBSnAzrAcGlSxCNciX3EAlrB/AQuyrxJGDm/Mb2JcQ3QyQ4AGFOdtvqNgxWMyzAm0T\n",
       "Sgcy3iAcB7Sm7H84A3P+3weoaYor/te7ZckgViRGzOMB7BcwUhUegJyqGLJRpM6CYg2WYiGgFEtu\n",
       "wA1QjCOU0zg2MAAAuRte2LZ9nhEAAAAASUVORK5CYII=\n",
       "\" style=\"display:inline;vertical-align:middle;\" /></a></span></td></tr><tr><td><a name=\"-0x3fb846ab287b40f1_step2\">2</a></td><td>theorem</td><td></td><td><span style=\"font-size:20px;\"> <a class=\"ProveItLink\" href=\"../../../../../equality/_theory_nbs_/proofs/rhs_via_equality/thm_proof.ipynb\" style=\"text-decoration: none\">&nbsp;&#x22A2;&nbsp;&nbsp;</a><a class=\"ProveItLink\" href=\"../../../../../equality/__pv_it/theorems/4546a35b627d4cb8c4df070fccd511b94f50b8070/expr.ipynb\"><img src=\"data:image/png;base64,iVBORw0KGgoAAAANSUhEUgAAAIkAAAAWBAMAAAAGOqJsAAAAMFBMVEX///8QEBCIiIhmZma6urrM\n",
       "zMxUVFQiIiJERETc3Nzu7u6qqqp2dnaYmJgyMjIAAAAcRTyBAAAAAXRSTlMAQObYZgAAAgFJREFU\n",
       "OMutVD9IG1EY/3nR/DnvqkiXVgdFxEUaxyiIBy7ZmnZwcDFCdSiCuhaLgYImhZJsuqjRMUMrdMoi\n",
       "0kIFDXrOIqaLg9BWEKVpbdPve5fcvUsc9OgP3vf78uX3fnfve/ce8F9Q5HDiebraXRgi2uf83LPL\n",
       "bgz+BLBCaSjh1eQ9LUXtAB5kAW3Lq8tXmo0ZQN/L5Za9mmh/OB5mgJ/J5LxXl/VZjsMGMAmkgMb0\n",
       "dOQll7oLg0LQaOmi158XsxJbqIoOOzmmY8AIVN7tI+o30ZqBZ0IdtPR6K7RZiQVs0UKMY5lGAIpJ\n",
       "NAWEabceAb645OKPQ7mQmOGIyuzVfM0dMgNceA0kydIUj3VcqBBMSFypVURz4ucvdi6O8jdYgvIK\n",
       "6KLUembF5UMGvVmJGY5ogkNYNCf1gpt508df8RkNX1FyefqpsGWzP0l4J4nGs5s9TZdC+JG7pokq\n",
       "bmg07EguB3CzW6R0mtqpyNDCbxTsF3mbtVuOyxu42S3C2HRvCmKjdF5vi3UIptTj0EPZ5Tck9n8n\n",
       "fJNEXIvpGdt/nNLQW2w817cNyaWpBFEXXIUjEouI2n8oPwZoSjvUyJd4SHJ5cpkRdcH2nWKLuM3l\n",
       "q5pj0cxPj6/KK7LrLlRFnM7VXgh5fv2/j+tc8rUuVdGt4JOAJaPOxaxTLhl3O/S++9wQ/wC6SI3I\n",
       "rLOAiQAAAABJRU5ErkJggg==\n",
       "\" style=\"display:inline;vertical-align:middle;\" /></a></span></td></tr>\n",
       "<tr><td>&nbsp;</td><td colspan=4 style-\"text-align:left\"><a class=\"ProveItLink\" href=\"../../../../../equality/_theory_nbs_/proofs/rhs_via_equality/thm_proof.ipynb\">proveit.logic.equality.rhs_via_equality</a></td></tr><tr><td><a name=\"-0x3fb846ab287b40f1_step3\">3</a></td><td>assumption</td><td></td><td><span style=\"font-size:20px;\"><a class=\"ProveItLink\" href=\"../../../__pv_it/axioms/7575defc0d1b60013b67a1c756513e01789124070/expr.ipynb\"><img src=\"data:image/png;base64,iVBORw0KGgoAAAANSUhEUgAAADsAAAAYBAMAAAC2M5gYAAAAMFBMVEX///92dnYiIiIQEBBERERU\n",
       "VFS6urqIiIjc3NxmZmaqqqru7u6YmJgyMjLMzMwAAADiRdoGAAAAAXRSTlMAQObYZgAAASlJREFU\n",
       "KM9jYEADbAx4ARN+6YNYxN4imLchFE/815khblCx+1D6iJKykR6EyezAwDD/AUTp/Q1guleCgfUB\n",
       "VOX7AwwM+RPAzF3zG0AU9w0Ghr0wS+qBQucLwMwD9QkginUBA0MNTNoZqNwIbCjbhvUHYH5SgEl/\n",
       "ZWB4FA1mbWN4DzallYGBSwAqy/f1TIkWhJnA0A92QwsDA28DVJr9BwPD5gCwwsiZ8Q5Qw1tgZrMY\n",
       "AJX8goYy8wUQg/EAwzSYND9QJ/t3EAvoXiYDsNgtbrjLQN5m/QZkcACleT+AxbZEFiB7+z3IyiaQ\n",
       "TT+gei4pKUEC9TLQUhOgt7f8v83A5f8JEnyZMM2x/yOnuixAjzk/vHHNcQGfLKO+khLMbjIS0kL8\n",
       "0t74pRswRABOwUh1xsJekAAAAABJRU5ErkJggg==\n",
       "\" style=\"display:inline;vertical-align:middle;\" /></a> <a class=\"ProveItLink\" href=\"../../../__pv_it/_proof_unfold_not_subset_eq/3d18117ba9065246226956f2ab221c6e615defc00/proof.ipynb\" style=\"text-decoration: none\">&nbsp;&#x22A2;&nbsp;&nbsp;</a><a class=\"ProveItLink\" href=\"../../../__pv_it/axioms/7575defc0d1b60013b67a1c756513e01789124070/expr.ipynb\"><img src=\"data:image/png;base64,iVBORw0KGgoAAAANSUhEUgAAADsAAAAYBAMAAAC2M5gYAAAAMFBMVEX///92dnYiIiIQEBBERERU\n",
       "VFS6urqIiIjc3NxmZmaqqqru7u6YmJgyMjLMzMwAAADiRdoGAAAAAXRSTlMAQObYZgAAASlJREFU\n",
       "KM9jYEADbAx4ARN+6YNYxN4imLchFE/815khblCx+1D6iJKykR6EyezAwDD/AUTp/Q1guleCgfUB\n",
       "VOX7AwwM+RPAzF3zG0AU9w0Ghr0wS+qBQucLwMwD9QkginUBA0MNTNoZqNwIbCjbhvUHYH5SgEl/\n",
       "ZWB4FA1mbWN4DzallYGBSwAqy/f1TIkWhJnA0A92QwsDA28DVJr9BwPD5gCwwsiZ8Q5Qw1tgZrMY\n",
       "AJX8goYy8wUQg/EAwzSYND9QJ/t3EAvoXiYDsNgtbrjLQN5m/QZkcACleT+AxbZEFiB7+z3IyiaQ\n",
       "TT+gei4pKUEC9TLQUhOgt7f8v83A5f8JEnyZMM2x/yOnuixAjzk/vHHNcQGfLKO+khLMbjIS0kL8\n",
       "0t74pRswRABOwUh1xsJekAAAAABJRU5ErkJggg==\n",
       "\" style=\"display:inline;vertical-align:middle;\" /></a></span></td></tr>\n",
       "<tr><td><a name=\"-0x3fb846ab287b40f1_step4\">4</a></td><td>instantiation</td><td><a href=\"#-0x3fb846ab287b40f1_step5\">5</a></td><td><span style=\"font-size:20px;\"> <a class=\"ProveItLink\" href=\"../../../__pv_it/_proof_unfold_not_subset_eq/adf049ba6514f42933d71d2af07676747fd269a60/proof.ipynb\" style=\"text-decoration: none\">&nbsp;&#x22A2;&nbsp;&nbsp;</a><a class=\"ProveItLink\" href=\"../../../__pv_it/axioms/f29e63ade2ceac43ca65811e5058009ad29ef67c0/expr.ipynb\"><img src=\"data:image/png;base64,iVBORw0KGgoAAAANSUhEUgAAANEAAAAYBAMAAACW8wWgAAAAMFBMVEX///9UVFTMzMx2dna6uroQ\n",
       "EBCqqqqIiIgiIiJmZmYyMjJERETu7u6YmJjc3NwAAAC+aOQFAAAAAXRSTlMAQObYZgAAAs5JREFU\n",
       "SMe9Vk1oU0EQniTN/0vswUtUbMSLeElv0ovkWEHQQw5FLwEviqC5FpE+hMrzoil6yalFtIiUNoiC\n",
       "oGkiWBFziXhSUetFikVsQKz/cd7s7Mu+3ZoWpB2Y7M/b/WZ2fgNgUh9sFcU2CTfd0nde+FaRxXXu\n",
       "fFpHwBlmaIr1/u6nGTGkBtqVnXcBdpuXm8rcqtIQnDJOMUAAVXUZZsX2HH9+7YyPXBDTMGJMZuGZ\n",
       "KWlWmSfEmxMrvH7uOI4PwEIdXE6Vhfy5Bo0fD0Igy3dyaKMjZQiVDGXLyuKlGF79AgngEQMcwCly\n",
       "TKj0ZJJGC7X13jCGW+9KYB01QkZ13WVhw1N/zOcywAJOkZfEZmss7w6BIsB5efAeAozgU2/okpbU\n",
       "4LDFM6NfaIwXlW8MkEBo5FGRQo2zLRngtjzYBti3C8chXdKoMo8KSx6O/DYzhAFCZeIa7T2GHHnj\n",
       "PUb1IJ8Ltt+cu0gucH9Ct4kIt6agJUlDKx9cBQbwSAKkpogJC/LwmTCWvVhCbdHyC/04Oam/Ce/E\n",
       "HZdQqVhRlJX0dyP+JUDEJi6Q9ExloMqPX/a0xUiIfnVDSJdUkD5CmDD5d09l4qdhPQkQXCEucKUL\n",
       "U+aFWnBNHtyGONHVjUnCn2O0paaEBGBJZD20QEzE8rRlq9kQcCNqWPFTP1vPk0TWiyCPi71pfzq5\n",
       "AH02sevddNHL8WampGZDriojQqWaIoki4kO3yDza3tABOCKGOD+SnHm5W7KY3ERNjrvXruqSvLDP\n",
       "ihCmnKpzJO29rwPEB4nRNM3ODETq30RiHJIoOzqZiQcUWNd1ScNqM7PBqv9owOnOJe2UB5DIEse0\n",
       "pnDHKKddz/WoRr3oqWBftURDmMV/YxW2B3GFhXkf6hWnW/SZ1uga6p2kzyghxwCQXcOX1Wt29vkN\n",
       "dcJ/k6sKqePv7ifMzvm/3f0ts0YPt+x/0eKmIf8Fn/vhKMyl8C8AAAAASUVORK5CYII=\n",
       "\" style=\"display:inline;vertical-align:middle;\" /></a></span></td></tr>\n",
       "<tr><td>&nbsp;</td><td colspan=4 style=\"text-align:left\"><span style=\"font-size:20px;\"><a class=\"ProveItLink\" href=\"../../../../../../__pv_it/common/09585084922504426caf1db2ff588a23a0932a960/expr.ipynb\"><img src=\"data:image/png;base64,iVBORw0KGgoAAAANSUhEUgAAAA8AAAAOBAMAAAACpFvcAAAALVBMVEX///8iIiIQEBBERERUVFS6\n",
       "urqIiIjc3NxmZmaqqqru7u6YmJgyMjLMzMwAAACK9jtgAAAAAXRSTlMAQObYZgAAAFtJREFUCNdj\n",
       "YACBOwxQcA5Kc59bAGGs7CuAMDbkBYBp1gXzNoAZSxnuJYAZAQx1DSCa16PDzwCshIGB6QCIMYGB\n",
       "gVEBSLMDGTwPgIxCIGZ+zsCw+N0pBk67hw0AfpEVEQi8t+wAAAAASUVORK5CYII=\n",
       "\" style=\"display:inline;vertical-align:middle;\" /></a> : <a class=\"ProveItLink\" href=\"../../../../../../__pv_it/common/09585084922504426caf1db2ff588a23a0932a960/expr.ipynb\"><img src=\"data:image/png;base64,iVBORw0KGgoAAAANSUhEUgAAAA8AAAAOBAMAAAACpFvcAAAALVBMVEX///8iIiIQEBBERERUVFS6\n",
       "urqIiIjc3NxmZmaqqqru7u6YmJgyMjLMzMwAAACK9jtgAAAAAXRSTlMAQObYZgAAAFtJREFUCNdj\n",
       "YACBOwxQcA5Kc59bAGGs7CuAMDbkBYBp1gXzNoAZSxnuJYAZAQx1DSCa16PDzwCshIGB6QCIMYGB\n",
       "gVEBSLMDGTwPgIxCIGZ+zsCw+N0pBk67hw0AfpEVEQi8t+wAAAAASUVORK5CYII=\n",
       "\" style=\"display:inline;vertical-align:middle;\" /></a>, <a class=\"ProveItLink\" href=\"../../../../../../__pv_it/common/a9162d1c3cc0470c02e5daf414500903a7a419230/expr.ipynb\"><img src=\"data:image/png;base64,iVBORw0KGgoAAAANSUhEUgAAABAAAAAOBAMAAADUAYG5AAAALVBMVEX///8yMjKqqqoiIiLu7u7c\n",
       "3NyIiIjMzMwQEBC6urpERERmZmZUVFSYmJgAAACsPVCVAAAAAXRSTlMAQObYZgAAAGxJREFUCNdj\n",
       "YGC48+70nlUTGICgi4GB+zmQZn/LwMD5Gshge8rAwPsMyOBqYGDwMAEy+A4wsNs4ABl1Z68tVgBp\n",
       "ygtgYOkBMVaAOCChNyBGAsQYhnMTIMawvwJyGIHGzFjCwMAj92b3qUUMDAAXABxvZ4rl5AAAAABJ\n",
       "RU5ErkJggg==\n",
       "\" style=\"display:inline;vertical-align:middle;\" /></a> : <a class=\"ProveItLink\" href=\"../../../../../../__pv_it/common/a9162d1c3cc0470c02e5daf414500903a7a419230/expr.ipynb\"><img src=\"data:image/png;base64,iVBORw0KGgoAAAANSUhEUgAAABAAAAAOBAMAAADUAYG5AAAALVBMVEX///8yMjKqqqoiIiLu7u7c\n",
       "3NyIiIjMzMwQEBC6urpERERmZmZUVFSYmJgAAACsPVCVAAAAAXRSTlMAQObYZgAAAGxJREFUCNdj\n",
       "YGC48+70nlUTGICgi4GB+zmQZn/LwMD5Gshge8rAwPsMyOBqYGDwMAEy+A4wsNs4ABl1Z68tVgBp\n",
       "ygtgYOkBMVaAOCChNyBGAsQYhnMTIMawvwJyGIHGzFjCwMAj92b3qUUMDAAXABxvZ4rl5AAAAABJ\n",
       "RU5ErkJggg==\n",
       "\" style=\"display:inline;vertical-align:middle;\" /></a></span></td></tr><tr><td><a name=\"-0x3fb846ab287b40f1_step5\">5</a></td><td>axiom</td><td></td><td><span style=\"font-size:20px;\"> <a class=\"ProveItLink\" href=\"../../axioms.ipynb#not_subset_eq_def\" style=\"text-decoration: none\">&nbsp;&#x22A2;&nbsp;&nbsp;</a><a class=\"ProveItLink\" href=\"../../../__pv_it/axioms/41eed7a91b1632948006533bffef4efa8ad801280/expr.ipynb\"><img src=\"data:image/png;base64,iVBORw0KGgoAAAANSUhEUgAAARkAAAAYBAMAAAA8FZQ1AAAAMFBMVEX///8QEBCIiIhmZma6urrM\n",
       "zMxUVFQiIiJERETc3Nzu7u6qqqp2dnaYmJgyMjIAAAAcRTyBAAAAAXRSTlMAQObYZgAAA95JREFU\n",
       "SMfNV19IU1EY/9y809390QdJoYhBD/liCgt7KHDhgyGEe7K3FOyPBeVEbJRFCkWbJfMphSgnBYlB\n",
       "CT5UECT6YFnEKIiirEVFZJGitaZh9p1z7jn33O1OjYj64HfP3flzz+/7c77zDeD3JRv+J8n5R/va\n",
       "YwxGeWn45eg2Xyfk4gqb3JYQJx2TGSYOaEDZrfdOscbVlPA2ngI4YL6Oi9pOGyWeNuvpUkN5yAc2\n",
       "VIfjgfT9NPmoAWVa63oWbC5sZa9ZuE+FH66br+PiZrZzz2g67A8Gg372XgRg/QYq8uToJYZtNyfj\n",
       "KmMgr9NR2l66DzbtW1CH/qgpA6fHbJ2QJ6x5tcB8+Fl3rLKIJ2IOYBQE3LiLcyhDuHYzoFyroK2K\n",
       "WgtblGLXaw+o+WbrhBxl/hqely1FxYJdrlmAfhBwTQwO9mRwVI8GlFipjzQ25F3Chztwk0JU5p3Z\n",
       "OhHQAWYuy1fabpWGclGN/mPI0KcjGQodz8BmgwY0aPRujB/uAB9OAOw6iO2Y2TphAOa1ascibQPS\n",
       "UF49KEeIa8p07AUI00H23DE31sit2aUB4ArU0eg4jyd6hLs9MVncRkOCPJxfqJSBWKMZgGqh+pRZ\n",
       "aql6aaju0OMzJEZccR2VNJjxnZnSlQ9OHghtGgB80Ef36ZU8T9zeT75+M9U2uMYaJILEc4ZY+rbP\n",
       "ScddxJ26hmSsgI4csFD6l5kprfXgWNCmF2gApcHb1K55qld2u+UH0TGVTQGPGeSaReOt1lueTPNU\n",
       "B2GEZJUZHc4Yy/QTLew8eMAaT2WDN1MW7XTGYLPkdrDMro4NPtbTrlFpWoKw8RjZ2OO1VH1PiE65\n",
       "4YdN0VRPoQI5zH2fVKEdSTc24t4qKW7qQXiXsaGeciCa2QkfMqQbaEKe2QEdEN5Dzy5soXNqSopF\n",
       "pPEotg+JXDrQ4JHTTV07j2JZuiQ2NIoviGSu7quW042STIliGKbavoBSOucRwEY+f0wDyR+585pF\n",
       "PgSD7GZ4g9oUETNuS2UjjryfHVuacyIs+pV7/GZwo7W3d5JQHdEBeURb9e3DCHXQOYA+bs0qhoGl\n",
       "KXBEvrPEUcl3OkzuPDrzfSqbKrkYCoAa+RmFW0stxkm2abx0z1Jafh3gIiysUeijjPGQ1HSn3wxC\n",
       "TqflSDWwipthObkqgclOtFHM3gn2BbCvM7k1RaJPLwxWd2suI9KtqeWOJNgjJ5S1MD7nbfSJeWGR\n",
       "ovnOJ0lSazV8zKSikNfkGow7TrOi32BbqaIw1nGZq63MVWh4VdVWZiF0OdKKwuUr0TvpRdCfVqLP\n",
       "JRgktqKPO/+r/wvdf/XrvwBAgCVwL40pgQAAAABJRU5ErkJggg==\n",
       "\" style=\"display:inline;vertical-align:middle;\" /></a></span></td></tr>\n",
       "<tr><td>&nbsp;</td><td colspan=4 style-\"text-align:left\"><a class=\"ProveItLink\" href=\"../../axioms.ipynb#not_subset_eq_def\">proveit.logic.sets.inclusion.not_subset_eq_def</a></td></tr></table>"
      ],
      "text/plain": [
       "\tstep type\trequirements\tstatement\n",
       "0\tgeneralizaton\t1\t|- forall_{A, B | A nsubseteq B} [not](A subseteq B)\n",
       "1\tinstantiation\t2, 3, 4\t{A nsubseteq B} |- [not](A subseteq B)\n",
       "\tP : A nsubseteq B, Q : [not](A subseteq B)\n",
       "2\ttheorem\t\t|- forall_{P, Q | P, P = Q} Q\n",
       "\tproveit.logic.equality.rhs_via_equality\n",
       "3\tassumption\t\t{A nsubseteq B} |- A nsubseteq B\n",
       "4\tinstantiation\t5\t|- (A nsubseteq B) = [not](A subseteq B)\n",
       "\tA : A, B : B\n",
       "5\taxiom\t\t|- forall_{A, B} ((A nsubseteq B) = [not](A subseteq B))\n",
       "\tproveit.logic.sets.inclusion.not_subset_eq_def"
      ]
     },
     "execution_count": 6,
     "metadata": {},
     "output_type": "execute_result"
    }
   ],
   "source": [
    "%qed"
   ]
  },
  {
   "cell_type": "code",
   "execution_count": null,
   "metadata": {},
   "outputs": [],
   "source": []
  }
 ],
 "metadata": {
  "kernelspec": {
   "display_name": "Python 3",
   "language": "python",
   "name": "python3"
  }
 },
 "nbformat": 4,
 "nbformat_minor": 0
}