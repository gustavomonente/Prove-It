{
 "cells": [
  {
   "cell_type": "markdown",
   "metadata": {},
   "source": [
    "Demonstrations for the theory of <a class=\"ProveItLink\" href=\"theory.ipynb\">proveit.logic.sets.inclusion</a>\n",
    "========"
   ]
  },
  {
   "cell_type": "code",
   "execution_count": 1,
   "metadata": {},
   "outputs": [],
   "source": [
    "import proveit\n",
    "from proveit import free_vars, ProofFailure, used_vars\n",
    "from proveit import x, y, A, B, C, D, E, F, X, Y\n",
    "from proveit.logic import Equals, Forall, Implies, InSet, Not, NotInSet, Set\n",
    "from proveit.logic import (Intersect, NotProperSubset,\n",
    "                           SubsetEq, NotSubsetEq, NotSupersetEq,\n",
    "                           ProperSubset, ProperSuperset, NotProperSuperset,\n",
    "                           SubsetProper, StrictSubset, SupersetEq)\n",
    "from proveit.numbers import zero, one, two, three, four, five\n",
    "from proveit.numbers import (Integer, Natural, NaturalPos, Real,\n",
    "                            RealNeg, RealPos)\n",
    "from proveit.numbers.number_sets.real_numbers import int_within_real\n",
    "from proveit.logic.sets.inclusion  import (\n",
    "        subset_eq_def, proper_subset_def, not_proper_subset_def, proper_superset_def, superset_eq_def)\n",
    "from proveit.logic.sets.inclusion import (\n",
    "        fold_not_subset_eq, fold_supset_eq, reverse_proper_subset)\n",
    "%begin demonstrations"
   ]
  },
  {
   "cell_type": "markdown",
   "metadata": {},
   "source": [
    "# Containment $\\in$, $\\subset$, $\\subseteq$, $\\supset$, $\\supseteq$"
   ]
  },
  {
   "cell_type": "markdown",
   "metadata": {},
   "source": [
    "<div style=\"line-height:1.4; font-size:14pt\">\n",
    "\n",
    "<a href='#introduction'>Introduction</a><br>\n",
    "<a href='#simple_expressions'>Simple Expressions involving Membership $(\\in)$, Subsets $(\\subset, \\subseteq)$, and Supersets $(\\supset, \\supseteq )$</a><br>\n",
    "<a href='#common_attributes'>Common Attributes of the Subset $(\\subseteq)$ Expression</a><br>\n",
    "<a href='#axioms'>Axioms</a><br>\n",
    "<a href='#theorems_and_conjectures'>Theorems & Conjectures</a><br>\n",
    "<a href='#further_demonstrations'>Further Demonstrations</a><br>\n",
    "    <ol>\n",
    "        <li><a href='#demo01'>$(x\\in A)\\wedge(A\\subset B)\\Rightarrow (x\\in B)$</a></li>\n",
    "        <li><a href='#demo02'>$\\forall_{x\\in A}(x\\in B) \\Rightarrow (A \\subseteq B)$</a></li>\n",
    "        <li><a href='#demo03'>$(x\\in B)\\wedge(A\\supset B)\\Rightarrow (x\\in A)$</a></li>\n",
    "        <li><a href='#demo04'>$\\forall_{x\\in Y}(x\\in X) \\Rightarrow (X \\supseteq Y)$</a></li>\n",
    "        <li><a href='#demo05'>Folding and Unfolding the Definitions of $\\not\\subseteq$ and $\\not\\supseteq$</a>\n",
    "        <li><a href='#demo06'>Containment Reversals (such as $A \\subset B \\Rightarrow B \\supset A$)</a></li>\n",
    "        <li><a href='#demo07'>Deducing $\\{1, 3\\} \\subset \\{1, 2, 3, 4, 5\\}$</a></li>\n",
    "        <li><a href='#demo08'>Manually Proving $\\{1, 3, 5\\} \\subseteq \\{1, 2, 3, 4, 5\\}$</a></li>\n",
    "    </ol>\n",
    "<a href='#miscellaneous_testing'>Miscellaneous Testing</a><br>\n",
    "</div>\n"
   ]
  },
  {
   "cell_type": "markdown",
   "metadata": {},
   "source": [
    "## Introduction <a id='introduction'></a>"
   ]
  },
  {
   "cell_type": "markdown",
   "metadata": {},
   "source": [
    "<font size=3>Set membership (*e.g.*, $x \\in S$), subset ($A \\subset B$), and superset ($B \\supset A$) concepts are often critical in proofs, either as goals in themselves or as conditions or assumptions appearing in a proof. This ``_demonstrations_`` notebook explores subset ($\\subset$, $\\subseteq$), and superset ($\\supset$, $\\supseteq$) expressions and related methods. (Set membership ($\\in$) itself is explored more thoroughly in its own ``_demonstrations_`` notebook in the ``proveit.logic.sets.membership`` theory.)</font>"
   ]
  },
  {
   "cell_type": "markdown",
   "metadata": {},
   "source": [
    "## Simple Expressions Involving Membership ($\\in$), Subsets ($\\subset$, $\\subseteq$), and Supersets ($\\supset$, $\\supseteq$) <a id='simple_expressions'></a>"
   ]
  },
  {
   "cell_type": "markdown",
   "metadata": {},
   "source": [
    "<font size=3>It is straightforward to construct membership, subset, and superset expressions. Here are some basic examples of such expressions:</font>"
   ]
  },
  {
   "cell_type": "code",
   "execution_count": 2,
   "metadata": {},
   "outputs": [
    {
     "data": {
      "text/html": [
       "<a class=\"ProveItLink\" href=\"../__pv_it/theorems/89c58886785a6f188ade8c2a1dcacf7288396a140/expr.ipynb\"><img src=\"data:image/png;base64,iVBORw0KGgoAAAANSUhEUgAAADUAAAAPBAMAAAC2KZqIAAAAMFBMVEX///8QEBBmZmaqqqrMzMxE\n",
       "REQyMjIiIiKYmJh2dna6urrc3NxUVFSIiIju7u4AAAA6P00QAAAAAXRSTlMAQObYZgAAAMZJREFU\n",
       "GNNjYMAB3Bhwg3zcUhz5D1D54eVlMPZj/Q3IUiyxSEob7i8Akm/v7Lp5AcR9hiTF9cC+gYGBbwJH\n",
       "LXsCiH8ayYxXDP5A9ZwPOP9xgc0OQJJbwLBfAaiPgRUiyCKWBgRQqw8pnQeL8oNtY+BG0sfFwMAI\n",
       "tsffASIggJAzYGBgB3KZH9xn4AW7UBcuxQ2UY/vAwLDeIJ5hB1iE3QAmtx2IWX8zMLy5+1ajASzC\n",
       "d3QdROrp/zwG5vjvCsgBwzUVEWYgAACVrTGb/6vh/gAAAABJRU5ErkJggg==\n",
       "\" style=\"display:inline;vertical-align:middle;\" /></a>"
      ],
      "text/plain": [
       "x in A"
      ]
     },
     "execution_count": 2,
     "metadata": {},
     "output_type": "execute_result"
    }
   ],
   "source": [
    "# a simple set membership claim\n",
    "InSet(x, A)"
   ]
  },
  {
   "cell_type": "code",
   "execution_count": 3,
   "metadata": {},
   "outputs": [
    {
     "data": {
      "text/html": [
       "<strong id=\"example_1\">example_1:</strong> <a class=\"ProveItLink\" href=\"../__pv_it/theorems/81f49a06ba9c23797bdfafb3065c419bc23ed9230/expr.ipynb\"><img src=\"data:image/png;base64,iVBORw0KGgoAAAANSUhEUgAAADsAAAAPBAMAAACo4Ko7AAAAMFBMVEX///92dnYiIiIQEBBERERU\n",
       "VFS6urqIiIjc3NxmZmaqqqru7u6YmJgyMjLMzMwAAADiRdoGAAAAAXRSTlMAQObYZgAAAO1JREFU\n",
       "GNNjYACBtwzogCf+68wQNyjnPoY0A7MDA8P8BxCl9zdgSL8/wMCQPwHM3DW/ASJ2RElJSQ/CrAcK\n",
       "nS8AMw/UJ4DpXgmEbmcGBm4jsKFsG9YfAAtpIBn+lYHhUTSYtY3hPdgUzgUIWb6vZ0q0IMwEhn6w\n",
       "G5iQNLP/YGDYHABWGDkz3gHEaEWSZjEAKvkFthroyQsgxhYkaX6gTvbvIBbQRiYDdMNB3mb9BmRw\n",
       "AKV5P4CEGAsQ0iBvvwdZ2QSy6QdY7BZC+jLQUhOgt7f8v83A5f8J7PStYbDAjf0fOdVlAXpAP3SC\n",
       "ByoEAACTQj18dtZaDQAAAABJRU5ErkJggg==\n",
       "\" style=\"display:inline;vertical-align:middle;\" /></a><br>\n",
       "<strong id=\"example_2\">example_2:</strong> <a class=\"ProveItLink\" href=\"../__pv_it/theorems/81f49a06ba9c23797bdfafb3065c419bc23ed9230/expr.ipynb\"><img src=\"data:image/png;base64,iVBORw0KGgoAAAANSUhEUgAAADsAAAAPBAMAAACo4Ko7AAAAMFBMVEX///92dnYiIiIQEBBERERU\n",
       "VFS6urqIiIjc3NxmZmaqqqru7u6YmJgyMjLMzMwAAADiRdoGAAAAAXRSTlMAQObYZgAAAO1JREFU\n",
       "GNNjYACBtwzogCf+68wQNyjnPoY0A7MDA8P8BxCl9zdgSL8/wMCQPwHM3DW/ASJ2RElJSQ/CrAcK\n",
       "nS8AMw/UJ4DpXgmEbmcGBm4jsKFsG9YfAAtpIBn+lYHhUTSYtY3hPdgUzgUIWb6vZ0q0IMwEhn6w\n",
       "G5iQNLP/YGDYHABWGDkz3gHEaEWSZjEAKvkFthroyQsgxhYkaX6gTvbvIBbQRiYDdMNB3mb9BmRw\n",
       "AKV5P4CEGAsQ0iBvvwdZ2QSy6QdY7BZC+jLQUhOgt7f8v83A5f8J7PStYbDAjf0fOdVlAXpAP3SC\n",
       "ByoEAACTQj18dtZaDQAAAABJRU5ErkJggg==\n",
       "\" style=\"display:inline;vertical-align:middle;\" /></a><br>\n",
       "<strong id=\"example_3\">example_3:</strong> <a class=\"ProveItLink\" href=\"../__pv_it/theorems/81f49a06ba9c23797bdfafb3065c419bc23ed9230/expr.ipynb\"><img src=\"data:image/png;base64,iVBORw0KGgoAAAANSUhEUgAAADsAAAAPBAMAAACo4Ko7AAAAMFBMVEX///92dnYiIiIQEBBERERU\n",
       "VFS6urqIiIjc3NxmZmaqqqru7u6YmJgyMjLMzMwAAADiRdoGAAAAAXRSTlMAQObYZgAAAO1JREFU\n",
       "GNNjYACBtwzogCf+68wQNyjnPoY0A7MDA8P8BxCl9zdgSL8/wMCQPwHM3DW/ASJ2RElJSQ/CrAcK\n",
       "nS8AMw/UJ4DpXgmEbmcGBm4jsKFsG9YfAAtpIBn+lYHhUTSYtY3hPdgUzgUIWb6vZ0q0IMwEhn6w\n",
       "G5iQNLP/YGDYHABWGDkz3gHEaEWSZjEAKvkFthroyQsgxhYkaX6gTvbvIBbQRiYDdMNB3mb9BmRw\n",
       "AKV5P4CEGAsQ0iBvvwdZ2QSy6QdY7BZC+jLQUhOgt7f8v83A5f8J7PStYbDAjf0fOdVlAXpAP3SC\n",
       "ByoEAACTQj18dtZaDQAAAABJRU5ErkJggg==\n",
       "\" style=\"display:inline;vertical-align:middle;\" /></a><br>"
      ],
      "text/plain": [
       "example_1: A proper_subset B\n",
       "example_2: A proper_subset B\n",
       "example_3: A proper_subset B"
      ]
     },
     "execution_count": 3,
     "metadata": {},
     "output_type": "execute_result"
    }
   ],
   "source": [
    "# proper subset claims, 3 different options\n",
    "example_1, example_2, example_3 = ProperSubset(A, B), SubsetProper(A, B), StrictSubset(A, B)"
   ]
  },
  {
   "cell_type": "code",
   "execution_count": 4,
   "metadata": {},
   "outputs": [
    {
     "data": {
      "text/html": [
       "<a class=\"ProveItLink\" href=\"../__pv_it/demonstrations/3708a535e2403c7f0638e41077b7db716b0974680/expr.ipynb\"><img src=\"data:image/png;base64,iVBORw0KGgoAAAANSUhEUgAAAD0AAAARBAMAAACcIrmXAAAAMFBMVEX///92dnYyMjKqqqoiIiLu\n",
       "7u7c3NyIiIjMzMwQEBC6urpERERmZmZUVFSYmJgAAADEjrHzAAAAAXRSTlMAQObYZgAAAPZJREFU\n",
       "KM9jYGB4+//O2d0LGNABa/Wde2wCINZsBgaeHxDBty4uLh4QZuUDBuaTD4AMjn8MDFx/wGJJYnDt\n",
       "0a5A4nwCkGD/xsDA9x0sqIYwXjMASKwEsbgnMDBEglQz8BjApXk+g8geEMF/gYHDF6SagQWhPd8B\n",
       "RIaBiP57z7dANOYi5OUL4Mz6BAbWuRA3IeT9G+DMnSA1BmjmzwdbCCb+guTBxjEiDPUHEcwNUO8z\n",
       "3IeEnzJcHuxzRgao9zl+Q0RjbwXA3A8yShTEYgJ6f+VWqHDjFmj4MgNNtQEp5tX/e+b2ZozYYYjZ\n",
       "ewczzigEjC4uiPiFAAClfT1j6lc/fwAAAABJRU5ErkJggg==\n",
       "\" style=\"display:inline;vertical-align:middle;\" /></a>"
      ],
      "text/plain": [
       "B subseteq C"
      ]
     },
     "execution_count": 4,
     "metadata": {},
     "output_type": "execute_result"
    }
   ],
   "source": [
    "# improper subset\n",
    "SubsetEq(B, C)"
   ]
  },
  {
   "cell_type": "code",
   "execution_count": 5,
   "metadata": {},
   "outputs": [
    {
     "data": {
      "text/html": [
       "<a class=\"ProveItLink\" href=\"../__pv_it/demonstrations/9dbe0d5b51e0692bc3dabd73af2ed9f02871b6020/expr.ipynb\"><img src=\"data:image/png;base64,iVBORw0KGgoAAAANSUhEUgAAADsAAAAPBAMAAACo4Ko7AAAAMFBMVEX////MzMy6uroyMjIiIiKq\n",
       "qqoQEBB2dnbc3NyYmJhmZmZUVFRERESIiIju7u4AAACOKgoaAAAAAXRSTlMAQObYZgAAAPNJREFU\n",
       "GNNjYGDgu7NrJ0cBAyrg3P971Z5DINa1CQysyyagSTOwHWBgWC/AwPDGD8hZ34AuLQ/UoL+AgcHs\n",
       "AZCjBhIRcXFxOQmTvg/UMP8CA9dXEEcKJtpuAWUcAzoq5QFDvwOI8wJuaAuU/g00bR8DQ/0FVDtZ\n",
       "F4Apxt8z77gCaX8BNDeBTWPg/cHA8GwDA0M+yGUMDxDSO8AkTwJQCdBZ/mATkYw4Byb5gTp5/0J9\n",
       "zI5hOMjb3J8YGPpBTqtDyPIWwL0tDww41p8MDFFIVgdDKDMGBqYckPCr07sU4JJ82vvA9Ob/u1af\n",
       "CUD1EjBQfQpRhQBJ9ECIpOX3KwAAAABJRU5ErkJggg==\n",
       "\" style=\"display:inline;vertical-align:middle;\" /></a>"
      ],
      "text/plain": [
       "C proper_superset B"
      ]
     },
     "execution_count": 5,
     "metadata": {},
     "output_type": "execute_result"
    }
   ],
   "source": [
    "# proper superset\n",
    "ProperSuperset(C, B)"
   ]
  },
  {
   "cell_type": "code",
   "execution_count": 6,
   "metadata": {},
   "outputs": [
    {
     "data": {
      "text/html": [
       "<a class=\"ProveItLink\" href=\"../__pv_it/demonstrations/5dbcc3c75df933ff54827bec44f40ac9496287e20/expr.ipynb\"><img src=\"data:image/png;base64,iVBORw0KGgoAAAANSUhEUgAAADsAAAARBAMAAACRPMnQAAAAMFBMVEX////MzMy6uroyMjIiIiKq\n",
       "qqoQEBB2dnbc3NyYmJhmZmZUVFRERESIiIju7u4AAACOKgoaAAAAAXRSTlMAQObYZgAAAPxJREFU\n",
       "KM9jYGDgu7NrJ0cBAyrg3P971Z5DINa1CQysyyYAGY9dXFzOwuTZDjAwrBdgYHjjB+Ssb4CKvjSC\n",
       "MuSBGvQXMDCYPQBy1OCmPoYqvA+k519g4PoK4kjBpRkNIPQxoKNSHjD0O4A4LxCOsoBQvxkYRPYx\n",
       "MNRfQHNzKcSQ3zPvuAJpfwE06UVgkvcHA8OzDQwM+SCXMTxASEPs5kkAKgE6yx/EYUUYwboBTPED\n",
       "Kd6/UB+zIzSLPIB7m/sTA0M/yGl1MEk+rRMIb8sDA471JwNDFEQHMFB9SqHqzBgYmHJAwq9O71Jg\n",
       "QAeb/+9afSaAgYoAFKEuLhuQhQCs00Y3UXordgAAAABJRU5ErkJggg==\n",
       "\" style=\"display:inline;vertical-align:middle;\" /></a>"
      ],
      "text/plain": [
       "C supseteq B"
      ]
     },
     "execution_count": 6,
     "metadata": {},
     "output_type": "execute_result"
    }
   ],
   "source": [
    "# improper superset\n",
    "SupersetEq(C, B)"
   ]
  },
  {
   "cell_type": "code",
   "execution_count": 7,
   "metadata": {},
   "outputs": [
    {
     "data": {
      "text/html": [
       "<a class=\"ProveItLink\" href=\"../__pv_it/demonstrations/031b777eee3e80cb4a662845f6db01984a2fe2430/expr.ipynb\"><img src=\"data:image/png;base64,iVBORw0KGgoAAAANSUhEUgAAAD0AAAAUCAMAAAAJH8UlAAAAPFBMVEX///9RUVGurq4bGxsLCwsi\n",
       "IiLu7u52dna6uroQEBBmZmaIiIjMzMyqqqoyMjLc3NxERERUVFSYmJgAAADZihnPAAAAAXRSTlMA\n",
       "QObYZgAAARBJREFUOMulU+l6hDAITA/IsTFCeP93reZATdxuvy5/VBgyzASNeR0Wfy1nFiFmIl5v\n",
       "qmu6fD5oA4fADNIL7SXLMnezGxK9K1N9RnnUl+BnahoSroMxtGkk9ko+KyIA+P4CiBcbOhjbKSSd\n",
       "SOxJr11vqE0q4B3XXBLSqVhRUIoUx+4CzseMKnuToNyhGBgnaicpsJfjdlS2YVGDwdxTV9mnW1TZ\n",
       "RtTztUiIbJ7LjoPsfFiOJUfz+lQwquUqG/1J5T65m6n1tvsCd9mYzjtpN1SaqfW2u6iqxDgIV4GL\n",
       "C/PeQvPI+XIKJxHelp7CQITsP3FMFXBgOn6RZ7F82H1VYdjUP0ZC8/9Y7BvN71Eb9xryA0irDG+7\n",
       "g96JAAAAAElFTkSuQmCC\n",
       "\" style=\"display:inline;vertical-align:middle;\" /></a>"
      ],
      "text/plain": [
       "D not_proper_subset E"
      ]
     },
     "execution_count": 7,
     "metadata": {},
     "output_type": "execute_result"
    }
   ],
   "source": [
    "# not a proper subset\n",
    "NotProperSubset(D, E)"
   ]
  },
  {
   "cell_type": "code",
   "execution_count": 8,
   "metadata": {},
   "outputs": [
    {
     "data": {
      "text/html": [
       "<a class=\"ProveItLink\" href=\"../__pv_it/demonstrations/4b3ac176dd4a3685aad6ad5d80caf427ac4e300d0/expr.ipynb\"><img src=\"data:image/png;base64,iVBORw0KGgoAAAANSUhEUgAAAD0AAAAYBAMAAAC7LehfAAAAMFBMVEX///8iIiLu7u52dna6uroQ\n",
       "EBBmZmaIiIjMzMyqqqoyMjLc3NxERERUVFSYmJgAAAAdjRNVAAAAAXRSTlMAQObYZgAAATZJREFU\n",
       "KM9jYEAHLAz4ASMB+cfoAm//n71zdgOcuwhCsZ//k3ZXfgGI+YuBge8nRPSNoGigBITJD5TjOwBk\n",
       "cHwHEqlgsV3WDLwNUHP8CxgYmBJAJv0A8R4ACabVDAxaMHvsgQqZgGoYeD4Aif0GQIJ3AgNDHUx+\n",
       "PQODAQPIWfwgS/wvQL0mAJP/w8D3AMzoBxlSD9K/l4GB0wAWTL9y4yGeqge56L4DkNjDwMAF8yjz\n",
       "DwYuCOs8iPgKDbo9MOO5PjAwM3BALAJ69B9YzwOGFJg80FVMDOow76seAAuuZII7D+R9BiOo95lW\n",
       "QQR1rhUge5/jAsQiBscEqGj/QkFBSPjKA7ErUA3v+r+5d7JhutygNNOt/9dyD/7CiNwT+OOeewFe\n",
       "aWZ5QUGY/WSlrckE5A8RkN+AIQIAoplKWbSLOsoAAAAASUVORK5CYII=\n",
       "\" style=\"display:inline;vertical-align:middle;\" /></a>"
      ],
      "text/plain": [
       "D nsubseteq E"
      ]
     },
     "execution_count": 8,
     "metadata": {},
     "output_type": "execute_result"
    }
   ],
   "source": [
    "# not a subset\n",
    "NotSubsetEq(D, E)"
   ]
  },
  {
   "cell_type": "code",
   "execution_count": 9,
   "metadata": {},
   "outputs": [
    {
     "data": {
      "text/html": [
       "<a class=\"ProveItLink\" href=\"../__pv_it/demonstrations/d2d61b47a5c53cf98977af87ca96633fc1ef8b190/expr.ipynb\"><img src=\"data:image/png;base64,iVBORw0KGgoAAAANSUhEUgAAAD0AAAAUCAMAAAAJH8UlAAAAPFBMVEX///8NDQ0WFhYfHx++vr4i\n",
       "IiLu7u52dna6uroQEBBmZmaIiIjMzMyqqqoyMjLc3NxERERUVFSYmJgAAAAuWWslAAAAAXRSTlMA\n",
       "QObYZgAAAQ1JREFUOMulk9mSxCAIRZ1FNIYQkP//17Hd0iGp6apuHrLIRTyAzr22AP+6s6iyCLPs\n",
       "N96dTr8rF3FKIl6Ho39k3a7REs3CiMrc3qhr+0jLNTWbhTjEkPppFIcndw36ZkxoyzDE0HdhHYk0\n",
       "GO3vD5liUBU/dN2hPE8lJppx9wb7Ic55/k/sgmByY5Fu6YxNSRY9DjSxnWi0qcvDX7GfujixnZqa\n",
       "YwU5jcGBjQY7azapaxyDxXYwSz6xYTG9ja2G/q7bY4AHNhCZgrdmreGu2yjPJC76ZKeqLmynPX2v\n",
       "UVzqLkKqUoae0+WKEDiIIgc1NHESPq7IrZVJ/f4qgxrQvWcE7n3bwgfBn6V28bXkD+2aDGW+1wk/\n",
       "AAAAAElFTkSuQmCC\n",
       "\" style=\"display:inline;vertical-align:middle;\" /></a>"
      ],
      "text/plain": [
       "D nsupset E"
      ]
     },
     "execution_count": 9,
     "metadata": {},
     "output_type": "execute_result"
    }
   ],
   "source": [
    "# not a proper superset\n",
    "NotProperSuperset(D, E)"
   ]
  },
  {
   "cell_type": "code",
   "execution_count": 10,
   "metadata": {},
   "outputs": [
    {
     "data": {
      "text/html": [
       "<a class=\"ProveItLink\" href=\"../__pv_it/demonstrations/dff4882c0d0b5d9c80f991c2913690de6dbbb7720/expr.ipynb\"><img src=\"data:image/png;base64,iVBORw0KGgoAAAANSUhEUgAAAD0AAAAYBAMAAAC7LehfAAAAMFBMVEX///8iIiLu7u52dna6uroQ\n",
       "EBBmZmaIiIjMzMyqqqoyMjLc3NxERERUVFSYmJgAAAAdjRNVAAAAAXRSTlMAQObYZgAAATBJREFU\n",
       "KM9jYEAH7Az4gRYB+Tp0gbf/z945uwHOXQC15vyftLvyYM4vBga+n2CjBQUFlyVA1fED5fgOABkc\n",
       "34FEKtz6JVCGfwEDAxNIMfsPEO8BVHgvTwOEYQ+kmYBqGHg+AIn9BlB5E6YDEMZ6BgYDBpCz+EEC\n",
       "/hfgzrsNYfxh4IOY2Q8ypB6qn6+AoRLMYPmVGw/xVD3IwvsOEHkuBYZMMIP5BwMXROg8iPgKNb6X\n",
       "gUEaovADAzMDB8QioLH/oPI3GDgh7gO6iolBHeZ9VaijmRYwNCrAvc9gBPU+0yqoduZHbacR3ue4\n",
       "ALGIwRESqFqC8jKWUJXyQOwKVMO7/m/unWxY6E6G0ky3/l/LPfgLI3JX4497jgP4k448MIIFL+BW\n",
       "wEggbT0nIL+IgPwGDBEACjFMXaAIDsoAAAAASUVORK5CYII=\n",
       "\" style=\"display:inline;vertical-align:middle;\" /></a>"
      ],
      "text/plain": [
       "D nsupseteq E"
      ]
     },
     "execution_count": 10,
     "metadata": {},
     "output_type": "execute_result"
    }
   ],
   "source": [
    "# not a superset\n",
    "NotSupersetEq(D, E)"
   ]
  },
  {
   "cell_type": "markdown",
   "metadata": {},
   "source": [
    "<font size=3>At the time of this writing, portions of Prove-It code might still have the more ambiguous `Subset` notation or terminology, but in general we will use `SubsetEq()` to form general or “improper” subset expressions (*e.g.*, $A \\subseteq$ B) and `ProperSubset()` or `SubsetProper()` to form “proper” or “strict” subset expressions (such as $A \\subset$ B), with similar notation used for the negations.</font>"
   ]
  },
  {
   "cell_type": "markdown",
   "metadata": {},
   "source": [
    "## Common Attributes of a Subset expression <a id='common_attributes'></a>"
   ]
  },
  {
   "cell_type": "markdown",
   "metadata": {},
   "source": [
    "<font size=3>Let's define a simple example subset expression, $(A \\cap B) \\subseteq B$, and look at some of its attributes. (The results should be similar for proper subset ($\\subset$) and the various supersets ($\\supset$, $\\supseteq$) and their negations.)</font>"
   ]
  },
  {
   "cell_type": "code",
   "execution_count": 11,
   "metadata": {},
   "outputs": [
    {
     "data": {
      "text/html": [
       "<strong id=\"A_intersect_B_subset_of_B\">A_intersect_B_subset_of_B:</strong> <a class=\"ProveItLink\" href=\"../__pv_it/demonstrations/b48a421e11344d60b86cb4d00517fcc98fccd5780/expr.ipynb\"><img src=\"data:image/png;base64,iVBORw0KGgoAAAANSUhEUgAAAHEAAAAUBAMAAABIac8KAAAAMFBMVEX///9UVFTMzMx2dna6uroQ\n",
       "EBCqqqqIiIgiIiJmZmYyMjJERETu7u6YmJjc3NwAAAC+aOQFAAAAAXRSTlMAQObYZgAAAdxJREFU\n",
       "OMt9VDtLA0EQ/nKJeSda2MQHCdiITexEBEkj2KlgIaTxF2hasTBahAMtYmmljVaSpFAJ+IqgImih\n",
       "lZUaO7HRiPhATJzZvSR7kcs2czM73+zMNzMHBK/R5Mw0ubuUoq/BfFMJre7HYCv+AwTCpbXOHfrI\n",
       "SD1r2K+qDnHA8wb/RjWSrutL8rMlB6xHEEjLQNkCC0d+fzkmDNovad/AgPR+Hq4/GqX6xtJwy3TO\n",
       "14UcKkILCYOrTOE+gTPpnVHSXSDXhwSepHa9wE+JBGzTbPCNE2oF8IoUPNMKchfwTxUwJxRHYZYp\n",
       "9nHKwRxbWtugLZJqF9W4VYpKQG8XcCiUU0QTNYekKKb7Ns8PBQRFjwpQK93Np0imhBbDS9qMpGL8\n",
       "EySdSaV1NQbO2oBJESa0Fs6ZkbuMpke118ZsmQHXh4F0UJM2zMgSIxNVpD1RRxIDcH0a2VJs97gJ\n",
       "ye1EmHh1iDjYMrfT9i4ZChLS+2pCcjHaT40hnLQX1HZGqbZB+uae+sompJdSGDngTvZL/558dfo2\n",
       "KZE4xRkl4irbcB5/pRWkLUtTvceKN9Iw8B28Ctwvt7oMATlPquOF5ZIZE295BqyvjpoCjS2z63p9\n",
       "yxo22+L4itZ3zf8m95Y3f/WIgMZUuvEkAAAAAElFTkSuQmCC\n",
       "\" style=\"display:inline;vertical-align:middle;\" /></a><br>"
      ],
      "text/plain": [
       "A_intersect_B_subset_of_B: (A intersect B) subseteq B"
      ]
     },
     "execution_count": 11,
     "metadata": {},
     "output_type": "execute_result"
    }
   ],
   "source": [
    "# define a subset expression\n",
    "A_intersect_B_subset_of_B = SubsetEq(Intersect(A, B), B)"
   ]
  },
  {
   "cell_type": "markdown",
   "metadata": {},
   "source": [
    "<font size=3>We can look at the construction of such an expression by calling <font style=\"font-family:courier\">expr_info()</font> to see the tabular representation of the expression's underlying directed acyclic graph (DAG) representation:</font>"
   ]
  },
  {
   "cell_type": "code",
   "execution_count": 12,
   "metadata": {},
   "outputs": [
    {
     "data": {
      "text/html": [
       "<table><tr><th>&nbsp;</th><th>core type</th><th>sub-expressions</th><th>expression</th></tr>\n",
       "<tr><td>0</td><td>Operation</td><td>operator:&nbsp;1<br>operands:&nbsp;2<br></td><td><a class=\"ProveItLink\" href=\"../__pv_it/demonstrations/b48a421e11344d60b86cb4d00517fcc98fccd5780/expr.ipynb\"><img src=\"data:image/png;base64,iVBORw0KGgoAAAANSUhEUgAAAHEAAAAUBAMAAABIac8KAAAAMFBMVEX///9UVFTMzMx2dna6uroQ\n",
       "EBCqqqqIiIgiIiJmZmYyMjJERETu7u6YmJjc3NwAAAC+aOQFAAAAAXRSTlMAQObYZgAAAdxJREFU\n",
       "OMt9VDtLA0EQ/nKJeSda2MQHCdiITexEBEkj2KlgIaTxF2hasTBahAMtYmmljVaSpFAJ+IqgImih\n",
       "lZUaO7HRiPhATJzZvSR7kcs2czM73+zMNzMHBK/R5Mw0ubuUoq/BfFMJre7HYCv+AwTCpbXOHfrI\n",
       "SD1r2K+qDnHA8wb/RjWSrutL8rMlB6xHEEjLQNkCC0d+fzkmDNovad/AgPR+Hq4/GqX6xtJwy3TO\n",
       "14UcKkILCYOrTOE+gTPpnVHSXSDXhwSepHa9wE+JBGzTbPCNE2oF8IoUPNMKchfwTxUwJxRHYZYp\n",
       "9nHKwRxbWtugLZJqF9W4VYpKQG8XcCiUU0QTNYekKKb7Ns8PBQRFjwpQK93Np0imhBbDS9qMpGL8\n",
       "EySdSaV1NQbO2oBJESa0Fs6ZkbuMpke118ZsmQHXh4F0UJM2zMgSIxNVpD1RRxIDcH0a2VJs97gJ\n",
       "ye1EmHh1iDjYMrfT9i4ZChLS+2pCcjHaT40hnLQX1HZGqbZB+uae+sompJdSGDngTvZL/558dfo2\n",
       "KZE4xRkl4irbcB5/pRWkLUtTvceKN9Iw8B28Ctwvt7oMATlPquOF5ZIZE295BqyvjpoCjS2z63p9\n",
       "yxo22+L4itZ3zf8m95Y3f/WIgMZUuvEkAAAAAElFTkSuQmCC\n",
       "\" style=\"display:inline;vertical-align:middle;\" /></a></td></tr>\n",
       "<tr><td>1</td><td>Literal</td><td></td><td><a class=\"ProveItLink\" href=\"../__pv_it/common/eca8e8ce8b5c9b5f2fd72b64773d376f3904e9670/expr.ipynb\"><img src=\"data:image/png;base64,iVBORw0KGgoAAAANSUhEUgAAAA4AAAAQBAMAAADUulMJAAAALVBMVEX///+6urqIiIhERETu7u6q\n",
       "qqpmZmZ2dnYyMjLc3NzMzMwiIiJUVFSYmJgAAAA3GxFCAAAAAXRSTlMAQObYZgAAAD5JREFUCNdj\n",
       "YGC4s3v37l0MDDMqGcCgE0KxBUBobgjFMAdKOzOgirMrQBmtUNrnoAOEsdwabC4OwL4bBHYBANdZ\n",
       "ECDi+TJmAAAAAElFTkSuQmCC\n",
       "\" style=\"display:inline;vertical-align:middle;\" /></a></td></tr>\n",
       "<tr><td>2</td><td>ExprTuple</td><td>3, 7</td><td><a class=\"ProveItLink\" href=\"../__pv_it/demonstrations/52aee1d535c669cc2c0878620293362fc54231a90/expr.ipynb\"><img src=\"data:image/png;base64,iVBORw0KGgoAAAANSUhEUgAAAF0AAAAUBAMAAAAdCCxUAAAAMFBMVEX///9UVFTMzMx2dna6uroQ\n",
       "EBCqqqqIiIgiIiJmZmYyMjJERETu7u6YmJjc3NwAAAC+aOQFAAAAAXRSTlMAQObYZgAAAX1JREFU\n",
       "KM+Vk78vQ1EUx7+tp62+tqxF0o5iaTcRS0ebDgaJxR8gdBVDO1kYntHUt9hE30AiafAGFQmJ/gPo\n",
       "aNMmgql1zv3BvZIKd7jvfc793F/nnQdk2vhr2+DuVr7P/hhL53oHUyc2RDr0fixDDTV0pyeMBkA9\n",
       "b0HKp6meXKER8sM5a+6WpFKgcy55sGAOSHRE4LoungsdRLNSqVLgqQILWsCzDLSrvKzYLLImIqdA\n",
       "aiVUvoJkCVuCnXCT0+TyeCYQoR4wM60vo2DEw7ngKxR464SAGnfR3sP2jtY1pH3IWAkvnu3H+0Br\n",
       "QvkaYjUsi/nZg1xg+26ZtDfla4h2pe9Qhn3bH6fl4u/K10C+OA9lJFG2fc545NVIP4NTE/fNkJ/s\n",
       "2j5nvBAY6Weg+85DfgO3b/uHtNpqiHvfAIwVsUgVNzhC7PLDM/3JQXa/ycfcMwDJvK4HVYfyW5t1\n",
       "um7CzVe9DW1FE6jecPGrnqqY4H//L0Na2gSXz/6P//ER+AQQvXU46iXh6QAAAABJRU5ErkJggg==\n",
       "\" style=\"display:inline;vertical-align:middle;\" /></a></td></tr>\n",
       "<tr><td>3</td><td>Operation</td><td>operator:&nbsp;4<br>operands:&nbsp;5<br></td><td><a class=\"ProveItLink\" href=\"../__pv_it/demonstrations/fea04695d0f8e4820ac8880b66c4c2f37aa7fff50/expr.ipynb\"><img src=\"data:image/png;base64,iVBORw0KGgoAAAANSUhEUgAAADcAAAAPBAMAAACy3Eq1AAAAMFBMVEX///92dnYiIiIQEBBERERU\n",
       "VFS6urqIiIjc3NxmZmaqqqru7u6YmJgyMjLMzMwAAADiRdoGAAAAAXRSTlMAQObYZgAAAOdJREFU\n",
       "GNNjYACBtwyogCf+68wQNyjnPpTeDZNldmBgmP8AovD+BhDF5uSikgCRfH+AgSF/Api5a34DiBJp\n",
       "YOCLhEjWAwXOF4CZB+pBGnhAKlkXgEWcGRi4jSDGbVgPNIWBBcThcABLfmVgeBQNZm1jeA8ygQnM\n",
       "UQARfF/PlGhBLEhg6J+AKsn+g4FhcwBYWeTMeAdUSRYDoIJfYCuB3rqAKskP1MX+HcQCuo/JAFUS\n",
       "5E3WbyD3ASV5P6BKgrz5HmRVE8iOH6iSl4GWmQB9tuX/bQYu/08TkCVj/0dOdVmAGhWQ0EISAQAy\n",
       "/Du16EDOeQAAAABJRU5ErkJggg==\n",
       "\" style=\"display:inline;vertical-align:middle;\" /></a></td></tr>\n",
       "<tr><td>4</td><td>Literal</td><td></td><td><a class=\"ProveItLink\" href=\"../../intersection/__pv_it/common/718e30c398d699c56b1af99739a377f200f9d3cd0/expr.ipynb\"><img src=\"data:image/png;base64,iVBORw0KGgoAAAANSUhEUgAAAAwAAAAOBAMAAADpk+DfAAAAJ1BMVEX///+qqqqYmJhmZmZUVFTM\n",
       "zMzc3Nx2dnYiIiJERES6urru7u4AAAAeXC/DAAAAAXRSTlMAQObYZgAAADBJREFUCNdjYGDg3sAA\n",
       "BCs7Z8xiYGCfxsAQYsCgDBJxZJgNojIZGkAUB+mUAohiAgBwowoLBPINVwAAAABJRU5ErkJggg==\n",
       "\" style=\"display:inline;vertical-align:middle;\" /></a></td></tr>\n",
       "<tr><td>5</td><td>ExprTuple</td><td>6, 7</td><td><a class=\"ProveItLink\" href=\"../__pv_it/theorems/8168c562b942d2349bc15878d637d47dc90786870/expr.ipynb\"><img src=\"data:image/png;base64,iVBORw0KGgoAAAANSUhEUgAAADUAAAAUBAMAAADfOGjQAAAAMFBMVEX///9UVFTMzMx2dna6uroQ\n",
       "EBCqqqqIiIgiIiJmZmYyMjJERETu7u6YmJjc3NwAAAC+aOQFAAAAAXRSTlMAQObYZgAAATdJREFU\n",
       "KM91kq9Pw0AUx79jo4O2DOyAZJMEUxzBVeKYQJBg+AvGLEFsakEecmo1OMIqQBGgYgMSzP4BoBLH\n",
       "mixAEBvv3vXKCTjRvPf9vHf3fhQoDfHXqcvPk7LXtbhQSTorl8jFZF8oqZdlzIZAt+oGFCZUdC/S\n",
       "zKNHdgQ2gbmYhfturFmTrNcGBsCbEoZNX7MrwN2LYPs4Yr8QHWblJsDaKpAXuGG/D6+Ropnk+bgt\n",
       "KwjQZsHHu0hZcQIMlgCrhV2OLXcqYcqcGvEP0kaKFairIGWLlFP8ZMZ3HlAvNaO93JjiW1xLiZg9\n",
       "MtrzQq5lC6pHZwL3W7IzStmnIc1vYJumPT2HdfclcELS8rR8ek33wK7qmfGxImNJj9ms+eTNBdKs\n",
       "cfvrPhhI7kjvlgduMEe+9c8/8QL8AG6DT0/USQHQAAAAAElFTkSuQmCC\n",
       "\" style=\"display:inline;vertical-align:middle;\" /></a></td></tr>\n",
       "<tr><td>6</td><td>Variable</td><td></td><td><a class=\"ProveItLink\" href=\"../../../../__pv_it/common/09585084922504426caf1db2ff588a23a0932a960/expr.ipynb\"><img src=\"data:image/png;base64,iVBORw0KGgoAAAANSUhEUgAAAA8AAAAOBAMAAAACpFvcAAAALVBMVEX///8iIiIQEBBERERUVFS6\n",
       "urqIiIjc3NxmZmaqqqru7u6YmJgyMjLMzMwAAACK9jtgAAAAAXRSTlMAQObYZgAAAFtJREFUCNdj\n",
       "YACBOwxQcA5Kc59bAGGs7CuAMDbkBYBp1gXzNoAZSxnuJYAZAQx1DSCa16PDzwCshIGB6QCIMYGB\n",
       "gVEBSLMDGTwPgIxCIGZ+zsCw+N0pBk67hw0AfpEVEQi8t+wAAAAASUVORK5CYII=\n",
       "\" style=\"display:inline;vertical-align:middle;\" /></a></td></tr>\n",
       "<tr><td>7</td><td>Variable</td><td></td><td><a class=\"ProveItLink\" href=\"../../../../__pv_it/common/a9162d1c3cc0470c02e5daf414500903a7a419230/expr.ipynb\"><img src=\"data:image/png;base64,iVBORw0KGgoAAAANSUhEUgAAABAAAAAOBAMAAADUAYG5AAAALVBMVEX///8yMjKqqqoiIiLu7u7c\n",
       "3NyIiIjMzMwQEBC6urpERERmZmZUVFSYmJgAAACsPVCVAAAAAXRSTlMAQObYZgAAAGxJREFUCNdj\n",
       "YGC48+70nlUTGICgi4GB+zmQZn/LwMD5Gshge8rAwPsMyOBqYGDwMAEy+A4wsNs4ABl1Z68tVgBp\n",
       "ygtgYOkBMVaAOCChNyBGAsQYhnMTIMawvwJyGIHGzFjCwMAj92b3qUUMDAAXABxvZ4rl5AAAAABJ\n",
       "RU5ErkJggg==\n",
       "\" style=\"display:inline;vertical-align:middle;\" /></a></td></tr>\n",
       "</table>\n"
      ],
      "text/plain": [
       "0. (A intersect B) subseteq B\n",
       "   core type: Operation\n",
       "   operator: 1\n",
       "   operands: 2\n",
       "1. subseteq\n",
       "   core type: Literal\n",
       "   sub-expressions: \n",
       "2. (A intersect B, B)\n",
       "   core type: ExprTuple\n",
       "   sub-expressions: 3, 7\n",
       "3. A intersect B\n",
       "   core type: Operation\n",
       "   operator: 4\n",
       "   operands: 5\n",
       "4. intersect\n",
       "   core type: Literal\n",
       "   sub-expressions: \n",
       "5. (A, B)\n",
       "   core type: ExprTuple\n",
       "   sub-expressions: 6, 7\n",
       "6. A\n",
       "   core type: Variable\n",
       "   sub-expressions: \n",
       "7. B\n",
       "   core type: Variable\n",
       "   sub-expressions: "
      ]
     },
     "execution_count": 12,
     "metadata": {},
     "output_type": "execute_result"
    }
   ],
   "source": [
    "A_intersect_B_subset_of_B.expr_info()"
   ]
  },
  {
   "cell_type": "markdown",
   "metadata": {},
   "source": [
    "<font size=3>We can access the left-hand and right-hand sides of such expressions, as well as the specific operator:</font>"
   ]
  },
  {
   "cell_type": "code",
   "execution_count": 13,
   "metadata": {},
   "outputs": [
    {
     "data": {
      "text/html": [
       "<a class=\"ProveItLink\" href=\"../__pv_it/demonstrations/fea04695d0f8e4820ac8880b66c4c2f37aa7fff50/expr.ipynb\"><img src=\"data:image/png;base64,iVBORw0KGgoAAAANSUhEUgAAADcAAAAPBAMAAACy3Eq1AAAAMFBMVEX///92dnYiIiIQEBBERERU\n",
       "VFS6urqIiIjc3NxmZmaqqqru7u6YmJgyMjLMzMwAAADiRdoGAAAAAXRSTlMAQObYZgAAAOdJREFU\n",
       "GNNjYACBtwyogCf+68wQNyjnPpTeDZNldmBgmP8AovD+BhDF5uSikgCRfH+AgSF/Api5a34DiBJp\n",
       "YOCLhEjWAwXOF4CZB+pBGnhAKlkXgEWcGRi4jSDGbVgPNIWBBcThcABLfmVgeBQNZm1jeA8ygQnM\n",
       "UQARfF/PlGhBLEhg6J+AKsn+g4FhcwBYWeTMeAdUSRYDoIJfYCuB3rqAKskP1MX+HcQCuo/JAFUS\n",
       "5E3WbyD3ASV5P6BKgrz5HmRVE8iOH6iSl4GWmQB9tuX/bQYu/08TkCVj/0dOdVmAGhWQ0EISAQAy\n",
       "/Du16EDOeQAAAABJRU5ErkJggg==\n",
       "\" style=\"display:inline;vertical-align:middle;\" /></a>"
      ],
      "text/plain": [
       "A intersect B"
      ]
     },
     "execution_count": 13,
     "metadata": {},
     "output_type": "execute_result"
    }
   ],
   "source": [
    "A_intersect_B_subset_of_B.lhs"
   ]
  },
  {
   "cell_type": "code",
   "execution_count": 14,
   "metadata": {},
   "outputs": [
    {
     "data": {
      "text/html": [
       "<a class=\"ProveItLink\" href=\"../../../../__pv_it/common/a9162d1c3cc0470c02e5daf414500903a7a419230/expr.ipynb\"><img src=\"data:image/png;base64,iVBORw0KGgoAAAANSUhEUgAAABAAAAAOBAMAAADUAYG5AAAALVBMVEX///8yMjKqqqoiIiLu7u7c\n",
       "3NyIiIjMzMwQEBC6urpERERmZmZUVFSYmJgAAACsPVCVAAAAAXRSTlMAQObYZgAAAGxJREFUCNdj\n",
       "YGC48+70nlUTGICgi4GB+zmQZn/LwMD5Gshge8rAwPsMyOBqYGDwMAEy+A4wsNs4ABl1Z68tVgBp\n",
       "ygtgYOkBMVaAOCChNyBGAsQYhnMTIMawvwJyGIHGzFjCwMAj92b3qUUMDAAXABxvZ4rl5AAAAABJ\n",
       "RU5ErkJggg==\n",
       "\" style=\"display:inline;vertical-align:middle;\" /></a>"
      ],
      "text/plain": [
       "B"
      ]
     },
     "execution_count": 14,
     "metadata": {},
     "output_type": "execute_result"
    }
   ],
   "source": [
    "A_intersect_B_subset_of_B.rhs"
   ]
  },
  {
   "cell_type": "code",
   "execution_count": 15,
   "metadata": {},
   "outputs": [
    {
     "data": {
      "text/html": [
       "<a class=\"ProveItLink\" href=\"../__pv_it/common/eca8e8ce8b5c9b5f2fd72b64773d376f3904e9670/expr.ipynb\"><img src=\"data:image/png;base64,iVBORw0KGgoAAAANSUhEUgAAAA4AAAAQBAMAAADUulMJAAAALVBMVEX///+6urqIiIhERETu7u6q\n",
       "qqpmZmZ2dnYyMjLc3NzMzMwiIiJUVFSYmJgAAAA3GxFCAAAAAXRSTlMAQObYZgAAAD5JREFUCNdj\n",
       "YGC4s3v37l0MDDMqGcCgE0KxBUBobgjFMAdKOzOgirMrQBmtUNrnoAOEsdwabC4OwL4bBHYBANdZ\n",
       "ECDi+TJmAAAAAElFTkSuQmCC\n",
       "\" style=\"display:inline;vertical-align:middle;\" /></a>"
      ],
      "text/plain": [
       "subseteq"
      ]
     },
     "execution_count": 15,
     "metadata": {},
     "output_type": "execute_result"
    }
   ],
   "source": [
    "A_intersect_B_subset_of_B.operator"
   ]
  },
  {
   "cell_type": "markdown",
   "metadata": {},
   "source": [
    "<font size=3>We can get both sides of the expression simultaneously (the operands of the $\\subseteq$ operator) as a tuple of expressions. We can also get a list of the variables and a separate list of the *free* variables in the expression (of course, in this expression, all the variables are also free variables):</font>"
   ]
  },
  {
   "cell_type": "code",
   "execution_count": 16,
   "metadata": {},
   "outputs": [
    {
     "data": {
      "text/html": [
       "<a class=\"ProveItLink\" href=\"../__pv_it/demonstrations/52aee1d535c669cc2c0878620293362fc54231a90/expr.ipynb\"><img src=\"data:image/png;base64,iVBORw0KGgoAAAANSUhEUgAAAF0AAAAUBAMAAAAdCCxUAAAAMFBMVEX///9UVFTMzMx2dna6uroQ\n",
       "EBCqqqqIiIgiIiJmZmYyMjJERETu7u6YmJjc3NwAAAC+aOQFAAAAAXRSTlMAQObYZgAAAX1JREFU\n",
       "KM+Vk78vQ1EUx7+tp62+tqxF0o5iaTcRS0ebDgaJxR8gdBVDO1kYntHUt9hE30AiafAGFQmJ/gPo\n",
       "aNMmgql1zv3BvZIKd7jvfc793F/nnQdk2vhr2+DuVr7P/hhL53oHUyc2RDr0fixDDTV0pyeMBkA9\n",
       "b0HKp6meXKER8sM5a+6WpFKgcy55sGAOSHRE4LoungsdRLNSqVLgqQILWsCzDLSrvKzYLLImIqdA\n",
       "aiVUvoJkCVuCnXCT0+TyeCYQoR4wM60vo2DEw7ngKxR464SAGnfR3sP2jtY1pH3IWAkvnu3H+0Br\n",
       "QvkaYjUsi/nZg1xg+26ZtDfla4h2pe9Qhn3bH6fl4u/K10C+OA9lJFG2fc545NVIP4NTE/fNkJ/s\n",
       "2j5nvBAY6Weg+85DfgO3b/uHtNpqiHvfAIwVsUgVNzhC7PLDM/3JQXa/ycfcMwDJvK4HVYfyW5t1\n",
       "um7CzVe9DW1FE6jecPGrnqqY4H//L0Na2gSXz/6P//ER+AQQvXU46iXh6QAAAABJRU5ErkJggg==\n",
       "\" style=\"display:inline;vertical-align:middle;\" /></a>"
      ],
      "text/plain": [
       "(A intersect B, B)"
      ]
     },
     "execution_count": 16,
     "metadata": {},
     "output_type": "execute_result"
    }
   ],
   "source": [
    "A_intersect_B_subset_of_B.operands"
   ]
  },
  {
   "cell_type": "code",
   "execution_count": 17,
   "metadata": {},
   "outputs": [
    {
     "data": {
      "text/plain": [
       "{A, B}"
      ]
     },
     "execution_count": 17,
     "metadata": {},
     "output_type": "execute_result"
    }
   ],
   "source": [
    "used_vars(A_intersect_B_subset_of_B)"
   ]
  },
  {
   "cell_type": "code",
   "execution_count": 18,
   "metadata": {},
   "outputs": [
    {
     "data": {
      "text/plain": [
       "{A, B}"
      ]
     },
     "execution_count": 18,
     "metadata": {},
     "output_type": "execute_result"
    }
   ],
   "source": [
    "free_vars(A_intersect_B_subset_of_B, err_inclusively=True)"
   ]
  },
  {
   "cell_type": "markdown",
   "metadata": {},
   "source": [
    "<font size=3>By the way, notice that our expression $(A \\cap B) \\subseteq B$ is always true, and Prove-It can automatically prove this:</font>"
   ]
  },
  {
   "cell_type": "code",
   "execution_count": 19,
   "metadata": {},
   "outputs": [
    {
     "data": {
      "text/html": [
       "<strong id=\"A_intersect_B_subset_of_B_judgment\">A_intersect_B_subset_of_B_judgment:</strong> <span style=\"font-size:20px;\"> <a class=\"ProveItLink\" href=\"../__pv_it/demonstrations/793e35533e0e99bca45cc71e815cdd4389b354d50/proof.ipynb\" style=\"text-decoration: none\">&nbsp;&#x22A2;&nbsp;&nbsp;</a><a class=\"ProveItLink\" href=\"../__pv_it/demonstrations/b48a421e11344d60b86cb4d00517fcc98fccd5780/expr.ipynb\"><img src=\"data:image/png;base64,iVBORw0KGgoAAAANSUhEUgAAAHEAAAAUBAMAAABIac8KAAAAMFBMVEX///9UVFTMzMx2dna6uroQ\n",
       "EBCqqqqIiIgiIiJmZmYyMjJERETu7u6YmJjc3NwAAAC+aOQFAAAAAXRSTlMAQObYZgAAAdxJREFU\n",
       "OMt9VDtLA0EQ/nKJeSda2MQHCdiITexEBEkj2KlgIaTxF2hasTBahAMtYmmljVaSpFAJ+IqgImih\n",
       "lZUaO7HRiPhATJzZvSR7kcs2czM73+zMNzMHBK/R5Mw0ubuUoq/BfFMJre7HYCv+AwTCpbXOHfrI\n",
       "SD1r2K+qDnHA8wb/RjWSrutL8rMlB6xHEEjLQNkCC0d+fzkmDNovad/AgPR+Hq4/GqX6xtJwy3TO\n",
       "14UcKkILCYOrTOE+gTPpnVHSXSDXhwSepHa9wE+JBGzTbPCNE2oF8IoUPNMKchfwTxUwJxRHYZYp\n",
       "9nHKwRxbWtugLZJqF9W4VYpKQG8XcCiUU0QTNYekKKb7Ns8PBQRFjwpQK93Np0imhBbDS9qMpGL8\n",
       "EySdSaV1NQbO2oBJESa0Fs6ZkbuMpke118ZsmQHXh4F0UJM2zMgSIxNVpD1RRxIDcH0a2VJs97gJ\n",
       "ye1EmHh1iDjYMrfT9i4ZChLS+2pCcjHaT40hnLQX1HZGqbZB+uae+sompJdSGDngTvZL/558dfo2\n",
       "KZE4xRkl4irbcB5/pRWkLUtTvceKN9Iw8B28Ctwvt7oMATlPquOF5ZIZE295BqyvjpoCjS2z63p9\n",
       "yxo22+L4itZ3zf8m95Y3f/WIgMZUuvEkAAAAAElFTkSuQmCC\n",
       "\" style=\"display:inline;vertical-align:middle;\" /></a></span><br>"
      ],
      "text/plain": [
       "A_intersect_B_subset_of_B_judgment: |- (A intersect B) subseteq B"
      ]
     },
     "execution_count": 19,
     "metadata": {},
     "output_type": "execute_result"
    }
   ],
   "source": [
    "A_intersect_B_subset_of_B_judgment = A_intersect_B_subset_of_B.prove()"
   ]
  },
  {
   "cell_type": "markdown",
   "metadata": {},
   "source": [
    "<font size=3>A peek at the proof shows that Prove-It has applied the ``fold_subset_eq`` theorem:<br>\n",
    "> $\\forall_{A,B} \\left([\\forall_{x\\in A}(x\\in B)] \\implies (A \\subseteq B)\\right)$<br>\n",
    "    \n",
    "by using a suitable instantiation to get something like this:<br>\n",
    "> $[\\forall_{x\\in A\\cap B}(x\\in B)] \\implies ((A\\cap B) \\subseteq B)$<br>\n",
    "\n",
    "See Line 3 in the proof below for the ``fold_subset_eq`` theorem, then Line 1 for the instantiation step.</font>"
   ]
  },
  {
   "cell_type": "code",
   "execution_count": 20,
   "metadata": {},
   "outputs": [
    {
     "data": {
      "text/html": [
       "<table><tr><th>&nbsp;</th><th>step type</th><th>requirements</th><th>statement</th></tr>\n",
       "<tr><td><a name=\"0x623c87245c8c5bb1_step0\">0</a></td><td>instantiation</td><td><a href=\"#0x623c87245c8c5bb1_step1\">1</a>, <a href=\"#0x623c87245c8c5bb1_step2\">2</a></td><td><span style=\"font-size:20px;\"> <a class=\"ProveItLink\" href=\"../__pv_it/demonstrations/793e35533e0e99bca45cc71e815cdd4389b354d50/proof.ipynb\" style=\"text-decoration: none\">&nbsp;&#x22A2;&nbsp;&nbsp;</a><a class=\"ProveItLink\" href=\"../__pv_it/demonstrations/b48a421e11344d60b86cb4d00517fcc98fccd5780/expr.ipynb\"><img src=\"data:image/png;base64,iVBORw0KGgoAAAANSUhEUgAAAHEAAAAUBAMAAABIac8KAAAAMFBMVEX///9UVFTMzMx2dna6uroQ\n",
       "EBCqqqqIiIgiIiJmZmYyMjJERETu7u6YmJjc3NwAAAC+aOQFAAAAAXRSTlMAQObYZgAAAdxJREFU\n",
       "OMt9VDtLA0EQ/nKJeSda2MQHCdiITexEBEkj2KlgIaTxF2hasTBahAMtYmmljVaSpFAJ+IqgImih\n",
       "lZUaO7HRiPhATJzZvSR7kcs2czM73+zMNzMHBK/R5Mw0ubuUoq/BfFMJre7HYCv+AwTCpbXOHfrI\n",
       "SD1r2K+qDnHA8wb/RjWSrutL8rMlB6xHEEjLQNkCC0d+fzkmDNovad/AgPR+Hq4/GqX6xtJwy3TO\n",
       "14UcKkILCYOrTOE+gTPpnVHSXSDXhwSepHa9wE+JBGzTbPCNE2oF8IoUPNMKchfwTxUwJxRHYZYp\n",
       "9nHKwRxbWtugLZJqF9W4VYpKQG8XcCiUU0QTNYekKKb7Ns8PBQRFjwpQK93Np0imhBbDS9qMpGL8\n",
       "EySdSaV1NQbO2oBJESa0Fs6ZkbuMpke118ZsmQHXh4F0UJM2zMgSIxNVpD1RRxIDcH0a2VJs97gJ\n",
       "ye1EmHh1iDjYMrfT9i4ZChLS+2pCcjHaT40hnLQX1HZGqbZB+uae+sompJdSGDngTvZL/558dfo2\n",
       "KZE4xRkl4irbcB5/pRWkLUtTvceKN9Iw8B28Ctwvt7oMATlPquOF5ZIZE295BqyvjpoCjS2z63p9\n",
       "yxo22+L4itZ3zf8m95Y3f/WIgMZUuvEkAAAAAElFTkSuQmCC\n",
       "\" style=\"display:inline;vertical-align:middle;\" /></a></span></td></tr>\n",
       "<tr><td>&nbsp;</td><td colspan=4 style=\"text-align:left\"><span style=\"font-size:20px;\"><a class=\"ProveItLink\" href=\"../../../../__pv_it/common/09585084922504426caf1db2ff588a23a0932a960/expr.ipynb\"><img src=\"data:image/png;base64,iVBORw0KGgoAAAANSUhEUgAAAA8AAAAOBAMAAAACpFvcAAAALVBMVEX///8iIiIQEBBERERUVFS6\n",
       "urqIiIjc3NxmZmaqqqru7u6YmJgyMjLMzMwAAACK9jtgAAAAAXRSTlMAQObYZgAAAFtJREFUCNdj\n",
       "YACBOwxQcA5Kc59bAGGs7CuAMDbkBYBp1gXzNoAZSxnuJYAZAQx1DSCa16PDzwCshIGB6QCIMYGB\n",
       "gVEBSLMDGTwPgIxCIGZ+zsCw+N0pBk67hw0AfpEVEQi8t+wAAAAASUVORK5CYII=\n",
       "\" style=\"display:inline;vertical-align:middle;\" /></a> : <a class=\"ProveItLink\" href=\"../__pv_it/demonstrations/fea04695d0f8e4820ac8880b66c4c2f37aa7fff50/expr.ipynb\"><img src=\"data:image/png;base64,iVBORw0KGgoAAAANSUhEUgAAADcAAAAPBAMAAACy3Eq1AAAAMFBMVEX///92dnYiIiIQEBBERERU\n",
       "VFS6urqIiIjc3NxmZmaqqqru7u6YmJgyMjLMzMwAAADiRdoGAAAAAXRSTlMAQObYZgAAAOdJREFU\n",
       "GNNjYACBtwyogCf+68wQNyjnPpTeDZNldmBgmP8AovD+BhDF5uSikgCRfH+AgSF/Api5a34DiBJp\n",
       "YOCLhEjWAwXOF4CZB+pBGnhAKlkXgEWcGRi4jSDGbVgPNIWBBcThcABLfmVgeBQNZm1jeA8ygQnM\n",
       "UQARfF/PlGhBLEhg6J+AKsn+g4FhcwBYWeTMeAdUSRYDoIJfYCuB3rqAKskP1MX+HcQCuo/JAFUS\n",
       "5E3WbyD3ASV5P6BKgrz5HmRVE8iOH6iSl4GWmQB9tuX/bQYu/08TkCVj/0dOdVmAGhWQ0EISAQAy\n",
       "/Du16EDOeQAAAABJRU5ErkJggg==\n",
       "\" style=\"display:inline;vertical-align:middle;\" /></a>, <a class=\"ProveItLink\" href=\"../../../../__pv_it/common/a9162d1c3cc0470c02e5daf414500903a7a419230/expr.ipynb\"><img src=\"data:image/png;base64,iVBORw0KGgoAAAANSUhEUgAAABAAAAAOBAMAAADUAYG5AAAALVBMVEX///8yMjKqqqoiIiLu7u7c\n",
       "3NyIiIjMzMwQEBC6urpERERmZmZUVFSYmJgAAACsPVCVAAAAAXRSTlMAQObYZgAAAGxJREFUCNdj\n",
       "YGC48+70nlUTGICgi4GB+zmQZn/LwMD5Gshge8rAwPsMyOBqYGDwMAEy+A4wsNs4ABl1Z68tVgBp\n",
       "ygtgYOkBMVaAOCChNyBGAsQYhnMTIMawvwJyGIHGzFjCwMAj92b3qUUMDAAXABxvZ4rl5AAAAABJ\n",
       "RU5ErkJggg==\n",
       "\" style=\"display:inline;vertical-align:middle;\" /></a> : <a class=\"ProveItLink\" href=\"../../../../__pv_it/common/a9162d1c3cc0470c02e5daf414500903a7a419230/expr.ipynb\"><img src=\"data:image/png;base64,iVBORw0KGgoAAAANSUhEUgAAABAAAAAOBAMAAADUAYG5AAAALVBMVEX///8yMjKqqqoiIiLu7u7c\n",
       "3NyIiIjMzMwQEBC6urpERERmZmZUVFSYmJgAAACsPVCVAAAAAXRSTlMAQObYZgAAAGxJREFUCNdj\n",
       "YGC48+70nlUTGICgi4GB+zmQZn/LwMD5Gshge8rAwPsMyOBqYGDwMAEy+A4wsNs4ABl1Z68tVgBp\n",
       "ygtgYOkBMVaAOCChNyBGAsQYhnMTIMawvwJyGIHGzFjCwMAj92b3qUUMDAAXABxvZ4rl5AAAAABJ\n",
       "RU5ErkJggg==\n",
       "\" style=\"display:inline;vertical-align:middle;\" /></a>, <a class=\"ProveItLink\" href=\"../../../../__pv_it/common/a0d9d672aa5e272d907247690c152cc2c6daafb70/expr.ipynb\"><img src=\"data:image/png;base64,iVBORw0KGgoAAAANSUhEUgAAAAsAAAAJBAMAAAAWSsseAAAALVBMVEX///9mZmaqqqrMzMxEREQy\n",
       "MjIiIiKYmJh2dna6urrc3NxUVFSIiIju7u4AAACJHQtQAAAAAXRSTlMAQObYZgAAAEJJREFUCNdj\n",
       "YLhzeuWJAwy8Dew5bAEMHBc43nIuYOBlYHFgAAG+A2DKzgBIMF04x8BzgWGegh/DcgaG22fuiBcw\n",
       "AAATyhBrnyPYZQAAAABJRU5ErkJggg==\n",
       "\" style=\"display:inline;vertical-align:middle;\" /></a> : <a class=\"ProveItLink\" href=\"../../../../core_expr_types/__pv_it/common/006c465e50948aa2b52285e2de47974f741255cc0/expr.ipynb\"><img src=\"data:image/png;base64,iVBORw0KGgoAAAANSUhEUgAAABgAAAAJBAMAAADa0/H1AAAAMFBMVEX///9UVFSqqqrMzMwiIiKY\n",
       "mJgyMjIQEBCIiIh2dnZmZmbc3Nzu7u5ERES6uroAAACFTSmKAAAAAXRSTlMAQObYZgAAAElJREFU\n",
       "CNdjYICCXbPaD8DYfNUM+TA2w/EAhrVwzvoDDB5wTi0Dz2cYm+cnA9MHOOcTA2OCNox3gyFEYALD\n",
       "27tAcIDhYIe1xAMAoVgVdfU81nAAAAAASUVORK5CYII=\n",
       "\" style=\"display:inline;vertical-align:middle;\" /></a></span></td></tr><tr><td><a name=\"0x623c87245c8c5bb1_step1\">1</a></td><td>theorem</td><td></td><td><span style=\"font-size:20px;\"> <a class=\"ProveItLink\" href=\"proofs/fold_subset_eq/thm_proof.ipynb\" style=\"text-decoration: none\">&nbsp;&#x22A2;&nbsp;&nbsp;</a><a class=\"ProveItLink\" href=\"../__pv_it/theorems/b410f7e6f7fbf9c617ef0e33526c9102d576c3ba0/expr.ipynb\"><img src=\"data:image/png;base64,iVBORw0KGgoAAAANSUhEUgAAAO8AAAAWBAMAAADaw9ZbAAAAMFBMVEX///8QEBCIiIhmZma6urrM\n",
       "zMxUVFQiIiJERETc3Nzu7u6qqqp2dnaYmJgyMjIAAAAcRTyBAAAAAXRSTlMAQObYZgAAA4VJREFU\n",
       "SMe1VltIFFEY/prd1Z3Z2dW3AiP2qSKyhM3tRWohEOmC+5Q9VC5kYD6YJbFFRUZSYwW7vVQQ5YhQ\n",
       "4YtGEQlCthWSRWwXoqhso6eKSLREjbL/nDOzM3vJLmwH5vzzn9v3z3e+/5wB/kc5/5v+fnpS7OV1\n",
       "YXGVNm5cqZwe786JQGM7iuLAfeZ/KCywLy7MqOE/i0aje8TrHIppdVihkM6SJ7cVFviJMCPTwl64\n",
       "Z3XVJ4HaCiQoLB1Q+woLvE8QfnVKuO9tXcuJjDd+dBHrwz09ZwqLK7eI/ZS+cOuwf9ZhCmiuDl8I\n",
       "mNS0A/+wejynJWy+SBXcrPV857bYPmgCqGsijmnIdqCDt4m6Zvx2I1/UOSuuanecsapgB66ZrjvJ\n",
       "mQ65xrh72jbSNfF68X7GBqlrDRQue68gxlsKtZRP5zSRAoryAe/I8B4Bt+AwSSjuE4HL49y9bBso\n",
       "0bZ3RQBPC2NC4hF2C2IcEXim08CuwcyI05EPmik7EKDZQeCmrkSMtjkhVm8MBCdzqHbTN0nfaD5l\n",
       "mpoUPcOtYpgfjlQaGJRolXmAi8wNfd7fQ/VuYJWlXgFM1QKxK35rXgkFJ40JYDm1kX+DX+NdvWEs\n",
       "0y3gEU3Ll+Qs1kTlwrCT60j5ConOoHI71R56dgn/Y2YaF9GeOpnwOxr4N2Al76otXywocxu1NyPJ\n",
       "B4ShBJT05uKQT4hr7PFRMtft4jpHz2fhX2zQ7Wlc3ybEhas87V5iOe96CCyyAathd8YpvFfYGqII\n",
       "n0gYYlAKUgtvFG6FkcsxQ26bj5lH5luKch6F4WAaKWF7oLx7EONxnQQ6+yxgJbLeON4DAbbmFeFV\n",
       "s4oUWqdpmh/uQcikmK1mdrVAif3QcWOmNWuHmme2BTW2uo9pxKuLvOnkgqEFauMWMJqaIC8tj+Au\n",
       "99b1CtY2MVWMuoxUK+mDc8qIxjoyZyuX0m8baHpSPg55GvJ8G9WopvRytg0qQpoVQrFsYqeaUmkn\n",
       "mNep4xRx9yrrkpilJNL5NQk5dtBVhqHxQGPIDlxMS0t+OI8wqtWqoaRo1XHxaWIYOMH4PxQItpNd\n",
       "kV4t4zxVo1HrWjSkkn1Te+y5bs10h5MKPzG2cOGwE8iUusT22CiprB+BXxd3PM8vSS6w43EijDsM\n",
       "pQwXymAeLNnFk/zjX58X2Q3JvMA2Vds1kV26C3SrOmbt9eRei0v+avmf/xbZW+4CTAIAAAAASUVO\n",
       "RK5CYII=\n",
       "\" style=\"display:inline;vertical-align:middle;\" /></a></span></td></tr>\n",
       "<tr><td>&nbsp;</td><td colspan=4 style-\"text-align:left\"><a class=\"ProveItLink\" href=\"proofs/fold_subset_eq/thm_proof.ipynb\">proveit.logic.sets.inclusion.fold_subset_eq</a></td></tr><tr><td><a name=\"0x623c87245c8c5bb1_step2\">2</a></td><td>generalizaton</td><td><a href=\"#0x623c87245c8c5bb1_step3\">3</a></td><td><span style=\"font-size:20px;\"> <a class=\"ProveItLink\" href=\"../__pv_it/demonstrations/c298c25fd11f3bd23adee98cf421ee37f5c708970/proof.ipynb\" style=\"text-decoration: none\">&nbsp;&#x22A2;&nbsp;&nbsp;</a><a class=\"ProveItLink\" href=\"../__pv_it/demonstrations/a833ac28647cf3d21768bb3d376a66cd77ce744c0/expr.ipynb\"><img src=\"data:image/png;base64,iVBORw0KGgoAAAANSUhEUgAAAK0AAAAUBAMAAAANRKDNAAAAMFBMVEX///8QEBCIiIhmZma6urrM\n",
       "zMxUVFQiIiJERETc3Nzu7u6qqqp2dnaYmJgyMjIAAAAcRTyBAAAAAXRSTlMAQObYZgAAAnZJREFU\n",
       "OMu1VU1oE0EU/rqb302y7UFQRGHBvyJogwv1oGLFgx4siRfrLaEqBA81UDSHKkQouP6U7kl765ZA\n",
       "lXhI0FNBsLQHoYrk6A/FiHjQg4iVUCOibzK7kyZZ4npwYNiXeW++ee/73kyAfxzhyt9jFmhWmbHq\n",
       "HfdBN2fsUk3PTCJgAs/Z78/ecT919fbkgaNJhZKdYbXlPcPG4l3dKWIpEccSoFpAtOwZN2i6LL7K\n",
       "5arcGiD3Ow1zlMBKsXjPOw1uoWf3CvM6oGy2oA4B64Zx1Tvujg2dcfjAVvZVNqhTA0YuEgHE1gXg\n",
       "piuEWD25tpxxyp9q+o+Z6lf2DTSp8ddW+yeYCkTLcShVV4W+C6sP0T7bnhB+ZTvkht6h5h7pBzCX\n",
       "BiJZUgJSa6srT3S2UPhF/sEjZMlpROq2c5MIk+sIasw4/YUGTy1Ex0s/KW8qJFoJtqm7UGSflXEo\n",
       "U9ZDYoO2y9UOXGrVUpIZM82tvZSr9I3jhqtnxHph90f4eIf6NQMyMTcPtn2/1cFDaRFP+QGt7Rsg\n",
       "/nxZps95wcBlfx0qtwM42GCOZmJffxodupXKGIswyWRNrLH2TeW5bnicFZTF/VkUuP0WAw7uS2CP\n",
       "E7IsMEJa7Eq0rYb3lOoWKk1eZKSI83rKUhojhmFoUD68mLZs3DvArHMjT9BOCjBuQRnddXdnY21+\n",
       "0mZp7Pe5QYNFqoz4mCVKM0NvrABP3cJs0sYlgRNmt3t86kautVXvt71GZmoY0YbIw1RHheOG6whv\n",
       "8/ju2GNJKKbr+iH4Rh9Rv95maOsIT1/juM/W9MxQ5y3sMtwvmsT45X57en7XHUlN4H/8D70G/gCz\n",
       "G5op24hJmgAAAABJRU5ErkJggg==\n",
       "\" style=\"display:inline;vertical-align:middle;\" /></a></span></td></tr>\n",
       "<tr><td><a name=\"0x623c87245c8c5bb1_step3\">3</a></td><td>instantiation</td><td><a href=\"#0x623c87245c8c5bb1_step4\">4</a>, <a href=\"#0x623c87245c8c5bb1_step5\">5</a></td><td><span style=\"font-size:20px;\"><a class=\"ProveItLink\" href=\"../__pv_it/demonstrations/4d1da70de4e887f44adb57886eba1a2cb36192a50/expr.ipynb\"><img src=\"data:image/png;base64,iVBORw0KGgoAAAANSUhEUgAAAHcAAAAUBAMAAABFd79NAAAAMFBMVEX///9UVFSqqqrMzMwiIiKY\n",
       "mJgyMjIQEBCIiIh2dnZmZmbc3Nzu7u5ERES6uroAAACFTSmKAAAAAXRSTlMAQObYZgAAAblJREFU\n",
       "OMtjYMANtjLgA9p4ZXkugCnmBDTxwP9SC+8+YGDcgE8zG0SW7QPUrAMwiVoGBq7PDDwJ+DRHQaiw\n",
       "P2Dqre+VexAB5q8MDHy/GBhmYNET6+ICMdMbYqHWbxDFeZuBwXABWIQDKMD6g4HhOKZe2x4og9sB\n",
       "TLFy/IM7QwgswlsA1OgD9M8DuKZds9pBnuLJgQlwQOx5w/QVRN0BEXvBIvwCDMyOQLWcC2BK+aoZ\n",
       "8kE0Igx5A8CufsD8A0SDncEClrAXjbiiAHITPMSOBzCsBWuBO4VFAWwoA/cvNM39Gxh4CoE0kwNM\n",
       "6foDDB4g2jwNCMBGsoO9ZLhq4V80zddBBgBNZv6AiDuezwhvITQDiTI0zR9BmhuQNPP8ZGACs9lR\n",
       "nc0ExO6omkHRzCAPNJQP5myeTwyMCaDUytWAEmCbgDgfVTMompn/ogTYDYYQgQkghhNMBBQT4Li+\n",
       "vwFFMxswmp+DYo5rAsPbu0BwgOFgh7UE2JMH70HTMNBVPPe/HWDQ/e+FrJkx/+Mq2UtgUwwwk9jL\n",
       "KyjJEwrAkc6KovAIERkDJ5iBT5J3A/7snkBEYUCm2fiLoWgGBgD2SXHQAhjvcgAAAABJRU5ErkJg\n",
       "gg==\n",
       "\" style=\"display:inline;vertical-align:middle;\" /></a> <a class=\"ProveItLink\" href=\"../__pv_it/demonstrations/90383c59dd656058e47f0194b81ec2ebfdf1eb640/proof.ipynb\" style=\"text-decoration: none\">&nbsp;&#x22A2;&nbsp;&nbsp;</a><a class=\"ProveItLink\" href=\"../__pv_it/demonstrations/9fdac702474219dd137e5ae05e3b282de15c893c0/expr.ipynb\"><img src=\"data:image/png;base64,iVBORw0KGgoAAAANSUhEUgAAAEEAAAAPBAMAAABJi79qAAAAMFBMVEX///9UVFSqqqrMzMwiIiKY\n",
       "mJgyMjIQEBCIiIh2dnZmZmbc3Nzu7u5ERES6uroAAACFTSmKAAAAAXRSTlMAQObYZgAAAOBJREFU\n",
       "GNNjYMAJWOU/rpK9x4APsF9gYFhvgE+FfQADw/sFWAy/4uIGYfVvYGCIb8BQwHzjAIx5nYGBpwTO\n",
       "Y9g1qx3MOYYQ+sjAYCID5/FVM+SDGdII0z6G9johDD8ewLAWzLgAF+L4DRQWgHPXH2DwAGssSwMC\n",
       "sBBvAVDVJ7iKWgaezyCaG2EGP1A/xw8Yj+cnA9MHMKsAJTgY/8FVfGJgTNAGsVbAVYCCwx5h5A2G\n",
       "EIEJIAaLAkwoHejDWqDf394FggMMBzusJR6ATZN9A1Eg9l9q4V0FbLHBNxcW6hAAAIksPD1BUp5n\n",
       "AAAAAElFTkSuQmCC\n",
       "\" style=\"display:inline;vertical-align:middle;\" /></a></span></td></tr>\n",
       "<tr><td>&nbsp;</td><td colspan=4 style=\"text-align:left\"><span style=\"font-size:20px;\"><a class=\"ProveItLink\" href=\"../../../../__pv_it/common/09585084922504426caf1db2ff588a23a0932a960/expr.ipynb\"><img src=\"data:image/png;base64,iVBORw0KGgoAAAANSUhEUgAAAA8AAAAOBAMAAAACpFvcAAAALVBMVEX///8iIiIQEBBERERUVFS6\n",
       "urqIiIjc3NxmZmaqqqru7u6YmJgyMjLMzMwAAACK9jtgAAAAAXRSTlMAQObYZgAAAFtJREFUCNdj\n",
       "YACBOwxQcA5Kc59bAGGs7CuAMDbkBYBp1gXzNoAZSxnuJYAZAQx1DSCa16PDzwCshIGB6QCIMYGB\n",
       "gVEBSLMDGTwPgIxCIGZ+zsCw+N0pBk67hw0AfpEVEQi8t+wAAAAASUVORK5CYII=\n",
       "\" style=\"display:inline;vertical-align:middle;\" /></a> : <a class=\"ProveItLink\" href=\"../__pv_it/demonstrations/eafe3bd99992ce5e50a8f4fea6f74280efdcaadd0/expr.ipynb\"><img src=\"data:image/png;base64,iVBORw0KGgoAAAANSUhEUgAAAEAAAAAPBAMAAACmSdRUAAAAMFBMVEX///9UVFSqqqrMzMwiIiKY\n",
       "mJgyMjIQEBCIiIh2dnZmZmbc3Nzu7u5ERES6uroAAACFTSmKAAAAAXRSTlMAQObYZgAAAMtJREFU\n",
       "GNNjYMAHmBMY8AO2DwQUhP3BIhjr4gIzmEfrN6a8bQ+CzcrxD8HZNav9AEhTDpLiN0xf4Wy+aoZ8\n",
       "EM24ASHP84D5B5xzPIBhLYjmRTKAj4H7F5yz/gCDB4g2TwMCqCMNVy38C1dQy8DzGUTvRTLhAQND\n",
       "Gdy6nwxM4EBhR8gzAbE7XMEnBsYEbSCDqwGuYBMQ58N5NxhCBCaAGE4wEW4HIHF/A8Pbu0BwgOFg\n",
       "h7XEA5D4wXsHIGbe/3aAQfe/F2ZQvrzighyHALl0NiaDfO06AAAAAElFTkSuQmCC\n",
       "\" style=\"display:inline;vertical-align:middle;\" /></a>, <a class=\"ProveItLink\" href=\"../../../../__pv_it/common/a9162d1c3cc0470c02e5daf414500903a7a419230/expr.ipynb\"><img src=\"data:image/png;base64,iVBORw0KGgoAAAANSUhEUgAAABAAAAAOBAMAAADUAYG5AAAALVBMVEX///8yMjKqqqoiIiLu7u7c\n",
       "3NyIiIjMzMwQEBC6urpERERmZmZUVFSYmJgAAACsPVCVAAAAAXRSTlMAQObYZgAAAGxJREFUCNdj\n",
       "YGC48+70nlUTGICgi4GB+zmQZn/LwMD5Gshge8rAwPsMyOBqYGDwMAEy+A4wsNs4ABl1Z68tVgBp\n",
       "ygtgYOkBMVaAOCChNyBGAsQYhnMTIMawvwJyGIHGzFjCwMAj92b3qUUMDAAXABxvZ4rl5AAAAABJ\n",
       "RU5ErkJggg==\n",
       "\" style=\"display:inline;vertical-align:middle;\" /></a> : <a class=\"ProveItLink\" href=\"../__pv_it/demonstrations/9fdac702474219dd137e5ae05e3b282de15c893c0/expr.ipynb\"><img src=\"data:image/png;base64,iVBORw0KGgoAAAANSUhEUgAAAEEAAAAPBAMAAABJi79qAAAAMFBMVEX///9UVFSqqqrMzMwiIiKY\n",
       "mJgyMjIQEBCIiIh2dnZmZmbc3Nzu7u5ERES6uroAAACFTSmKAAAAAXRSTlMAQObYZgAAAOBJREFU\n",
       "GNNjYMAJWOU/rpK9x4APsF9gYFhvgE+FfQADw/sFWAy/4uIGYfVvYGCIb8BQwHzjAIx5nYGBpwTO\n",
       "Y9g1qx3MOYYQ+sjAYCID5/FVM+SDGdII0z6G9johDD8ewLAWzLgAF+L4DRQWgHPXH2DwAGssSwMC\n",
       "sBBvAVDVJ7iKWgaezyCaG2EGP1A/xw8Yj+cnA9MHMKsAJTgY/8FVfGJgTNAGsVbAVYCCwx5h5A2G\n",
       "EIEJIAaLAkwoHejDWqDf394FggMMBzusJR6ATZN9A1Eg9l9q4V0FbLHBNxcW6hAAAIksPD1BUp5n\n",
       "AAAAAElFTkSuQmCC\n",
       "\" style=\"display:inline;vertical-align:middle;\" /></a></span></td></tr><tr><td><a name=\"0x623c87245c8c5bb1_step4\">4</a></td><td>theorem</td><td></td><td><span style=\"font-size:20px;\"> <a class=\"ProveItLink\" href=\"../../../booleans/conjunction/_theory_nbs_/proofs/right_from_and/thm_proof.ipynb\" style=\"text-decoration: none\">&nbsp;&#x22A2;&nbsp;&nbsp;</a><a class=\"ProveItLink\" href=\"../../../booleans/conjunction/__pv_it/theorems/99b60132ced78c3acf3bbddedfbd9ec829eab93e0/expr.ipynb\"><img src=\"data:image/png;base64,iVBORw0KGgoAAAANSUhEUgAAAHMAAAAWBAMAAAABVL48AAAAMFBMVEX///8QEBCIiIhmZma6urrM\n",
       "zMxUVFQiIiJERETc3Nzu7u6qqqp2dnaYmJgyMjIAAAAcRTyBAAAAAXRSTlMAQObYZgAAAYZJREFU\n",
       "OMudkz9Iw0AUxj8T+ydtYrsp6JDNLlqhoKOCi4u0k44NqFAcVHBUoYJDKkK76daKWxcLTp0dhCqS\n",
       "XYoVN0crpVZE7y6UHjlDOd/w7t3v7rt3914C/N9a1DWlJMZuJ5U7Ae7p5E0u3UgeWMzggoRaXk6a\n",
       "dYD0HMYqgF6TkyZLwLMJo1GtnkvW5xiIjJOUXds+lJR2gPVtMm4BBQZcv9K+zZVoMNrf6OFAoNNM\n",
       "HNBgGRHWIOPDrXwcepwG4X4rPBxQPoFLiwQhKA4FV9+MqxaiPV7q5WSFHKF8kUB3Qgw09tkQMqG2\n",
       "eKmXAzGSUXmnTW2tsQeYNuPXGcxWOKnA3bYG2TMKm9QHscB4eiZhgZMK3G1rln1FN3vUPyHJ+CMw\n",
       "zUsFDryQ8k+wG8RM4iKvD0U2OwPKtYFU5Nj52Zi33dCgS2oF5QydkcqlSwOpyAVbJdkd7RRaD9oU\n",
       "d2GRey3chVY8Ckzirp3KLQ2kf3Afi/Kn+XAfq/tI68Oljo/Ukfuz1GEbfgEUVW+4LH+JngAAAABJ\n",
       "RU5ErkJggg==\n",
       "\" style=\"display:inline;vertical-align:middle;\" /></a></span></td></tr>\n",
       "<tr><td>&nbsp;</td><td colspan=4 style-\"text-align:left\"><a class=\"ProveItLink\" href=\"../../../booleans/conjunction/_theory_nbs_/proofs/right_from_and/thm_proof.ipynb\">proveit.logic.booleans.conjunction.right_from_and</a></td></tr><tr><td><a name=\"0x623c87245c8c5bb1_step5\">5</a></td><td>instantiation</td><td><a href=\"#0x623c87245c8c5bb1_step6\">6</a>, <a href=\"#0x623c87245c8c5bb1_step7\">7</a>, <a href=\"#0x623c87245c8c5bb1_step8\">8</a>, <a href=\"#0x623c87245c8c5bb1_step9\">9</a></td><td><span style=\"font-size:20px;\"><a class=\"ProveItLink\" href=\"../__pv_it/demonstrations/4d1da70de4e887f44adb57886eba1a2cb36192a50/expr.ipynb\"><img src=\"data:image/png;base64,iVBORw0KGgoAAAANSUhEUgAAAHcAAAAUBAMAAABFd79NAAAAMFBMVEX///9UVFSqqqrMzMwiIiKY\n",
       "mJgyMjIQEBCIiIh2dnZmZmbc3Nzu7u5ERES6uroAAACFTSmKAAAAAXRSTlMAQObYZgAAAblJREFU\n",
       "OMtjYMANtjLgA9p4ZXkugCnmBDTxwP9SC+8+YGDcgE8zG0SW7QPUrAMwiVoGBq7PDDwJ+DRHQaiw\n",
       "P2Dqre+VexAB5q8MDHy/GBhmYNET6+ICMdMbYqHWbxDFeZuBwXABWIQDKMD6g4HhOKZe2x4og9sB\n",
       "TLFy/IM7QwgswlsA1OgD9M8DuKZds9pBnuLJgQlwQOx5w/QVRN0BEXvBIvwCDMyOQLWcC2BK+aoZ\n",
       "8kE0Igx5A8CufsD8A0SDncEClrAXjbiiAHITPMSOBzCsBWuBO4VFAWwoA/cvNM39Gxh4CoE0kwNM\n",
       "6foDDB4g2jwNCMBGsoO9ZLhq4V80zddBBgBNZv6AiDuezwhvITQDiTI0zR9BmhuQNPP8ZGACs9lR\n",
       "nc0ExO6omkHRzCAPNJQP5myeTwyMCaDUytWAEmCbgDgfVTMompn/ogTYDYYQgQkghhNMBBQT4Li+\n",
       "vwFFMxswmp+DYo5rAsPbu0BwgOFgh7UE2JMH70HTMNBVPPe/HWDQ/e+FrJkx/+Mq2UtgUwwwk9jL\n",
       "KyjJEwrAkc6KovAIERkDJ5iBT5J3A/7snkBEYUCm2fiLoWgGBgD2SXHQAhjvcgAAAABJRU5ErkJg\n",
       "gg==\n",
       "\" style=\"display:inline;vertical-align:middle;\" /></a> <a class=\"ProveItLink\" href=\"../__pv_it/demonstrations/24217af2dc8bd1de029f63d74d12e0a3bf71d6890/proof.ipynb\" style=\"text-decoration: none\">&nbsp;&#x22A2;&nbsp;&nbsp;</a><a class=\"ProveItLink\" href=\"../__pv_it/demonstrations/44a174036160d4125e63a1b70fb7566f6d05cab50/expr.ipynb\"><img src=\"data:image/png;base64,iVBORw0KGgoAAAANSUhEUgAAALgAAAAUBAMAAADMw+phAAAAMFBMVEX///9UVFTMzMx2dna6uroQ\n",
       "EBCqqqqIiIgiIiJmZmYyMjJERETu7u6YmJjc3NwAAAC+aOQFAAAAAXRSTlMAQObYZgAAAo5JREFU\n",
       "OMudlU1oE1EQgGc322Tb3Y25lbZicxFEwfQkBC8BEQUFe+hBrEqPerGLKCIWGi81eJBKD6V4SCh6\n",
       "UEqbQ6WBat2CekgOydEqYrz5g2hUqgexzszb7NukMVl9YfPezM43O29m3i5AtAKdRrjarPkEwaBS\n",
       "B6O9eO1q0pn5NoA1WJsbWBbQYgfnS3gV3XV9Bz3VdkQXPjobJ8iabu/bWnIAQrYQ7rvKjbZIAhN9\n",
       "YpogvUUQViFzs75+nkUDc5jXasERylstXL7KZHJiNYnEG5ugd9vN1BVHCpXJFP7f5bVyROwgmt4O\n",
       "7Zvwlg8xmpMOQVfl/ejM7Gmaiz7fmjNO3ZRkoQjCa8SXyvfJy2RuLkhVDWDPToYeS+Xhas8XaOqN\n",
       "p5CgaF+ycAB/NAzZvdpZrjgoMrtq7fW1KWBoSvbXGejmFvP3WQo+U5jnWEjDB571Me/+swrc4edJ\n",
       "JPIb1TGGRjxl9y/QKUr11AMcbhR9c4P0rATX2QYlzr2W8qCsAzdo3k2MKKiB1Y9sMjTib88ysVFf\n",
       "5Bqqc3XnugNqrMn5KJhfaf4omR1oE/nBkExLeQjGeTEsDXH/OolHSThfP3IyLeY3CHOduhrbXPnO\n",
       "kCxoeQz6+YUwK/sHvXCRuaCL7gN8BTU3QcldoJzaHkRtnsgzlPSUhm1dDzUGRofAwPrADOU/L1KD\n",
       "B1a24gq8iA3RQmbgHmZz1GEIN6yt4ngEZu/Ft5c4nIHjwqy0tQDhJz/R1Tx1G2U6QhFq2O7HCHJg\n",
       "/cr+Xq7A+rJ7Ovq3+m6vcnjzLY+/dlAef7H7tCgujvjfjv+hQv34S6jTi4tHyG6UNyAgtBbArtgk\n",
       "G9WAUCmA3dq/fCz8UIDPnPU/nzmE/gDcAbAsK6Pp5wAAAABJRU5ErkJggg==\n",
       "\" style=\"display:inline;vertical-align:middle;\" /></a></span></td></tr>\n",
       "<tr><td>&nbsp;</td><td colspan=4 style=\"text-align:left\"><span style=\"font-size:20px;\"><a class=\"ProveItLink\" href=\"../../../../__pv_it/common/674a03b9c3ca221b3aabd5636837b31528ff33830/expr.ipynb\"><img src=\"data:image/png;base64,iVBORw0KGgoAAAANSUhEUgAAABIAAAAJBAMAAADN8WE8AAAAMFBMVEX///9mZmaYmJgyMjIiIiIQ\n",
       "EBCqqqru7u5ERETMzMyIiIjc3NxUVFR2dna6uroAAAAPJcEmAAAAAXRSTlMAQObYZgAAAGNJREFU\n",
       "CNdj4Luze9UpzlvnGBh4OboY6tcxpDIwTGMxYNh/gUGfgaGg/gFDfgHDCQYGhnwGBhEGhiggS5iB\n",
       "wZeB7zc7A0MsA/s/BkaDbQzc/xjYPjAwX7jAwOfAwCXAwCa0AQBn+hZiKtaxkQAAAABJRU5ErkJg\n",
       "gg==\n",
       "\" style=\"display:inline;vertical-align:middle;\" /></a> : <a class=\"ProveItLink\" href=\"../../../../numbers/numerals/__pv_it/common/ba3b059982e8b49413dc653e957beb11e974e4bc0/expr.ipynb\"><img src=\"data:image/png;base64,iVBORw0KGgoAAAANSUhEUgAAAAkAAAAOBAMAAAAPuiubAAAALVBMVEX///+qqqqIiIgyMjLc3Nwi\n",
       "IiIQEBC6urp2dnZUVFTMzMxERERmZmbu7u4AAAAQI6y7AAAAAXRSTlMAQObYZgAAAFJJREFUCNdj\n",
       "4D2zewEDw00GjucMDGcZGNIYGFIZGOY5MNhdYJgHlGBgiLsAJNhfgJisE0DkGRDBdABEyjCwODBw\n",
       "NTAwOTC4dvRMZWCwe/fuKQMANh0TGKpG4roAAAAASUVORK5CYII=\n",
       "\" style=\"display:inline;vertical-align:middle;\" /></a>, <a class=\"ProveItLink\" href=\"../../../../__pv_it/common/a0d9d672aa5e272d907247690c152cc2c6daafb70/expr.ipynb\"><img src=\"data:image/png;base64,iVBORw0KGgoAAAANSUhEUgAAAAsAAAAJBAMAAAAWSsseAAAALVBMVEX///9mZmaqqqrMzMxEREQy\n",
       "MjIiIiKYmJh2dna6urrc3NxUVFSIiIju7u4AAACJHQtQAAAAAXRSTlMAQObYZgAAAEJJREFUCNdj\n",
       "YLhzeuWJAwy8Dew5bAEMHBc43nIuYOBlYHFgAAG+A2DKzgBIMF04x8BzgWGegh/DcgaG22fuiBcw\n",
       "AAATyhBrnyPYZQAAAABJRU5ErkJggg==\n",
       "\" style=\"display:inline;vertical-align:middle;\" /></a> : <a class=\"ProveItLink\" href=\"../../../../core_expr_types/__pv_it/common/006c465e50948aa2b52285e2de47974f741255cc0/expr.ipynb\"><img src=\"data:image/png;base64,iVBORw0KGgoAAAANSUhEUgAAABgAAAAJBAMAAADa0/H1AAAAMFBMVEX///9UVFSqqqrMzMwiIiKY\n",
       "mJgyMjIQEBCIiIh2dnZmZmbc3Nzu7u5ERES6uroAAACFTSmKAAAAAXRSTlMAQObYZgAAAElJREFU\n",
       "CNdjYICCXbPaD8DYfNUM+TA2w/EAhrVwzvoDDB5wTi0Dz2cYm+cnA9MHOOcTA2OCNox3gyFEYALD\n",
       "27tAcIDhYIe1xAMAoVgVdfU81nAAAAAASUVORK5CYII=\n",
       "\" style=\"display:inline;vertical-align:middle;\" /></a>, <a class=\"ProveItLink\" href=\"../../../../__pv_it/common/09585084922504426caf1db2ff588a23a0932a960/expr.ipynb\"><img src=\"data:image/png;base64,iVBORw0KGgoAAAANSUhEUgAAAA8AAAAOBAMAAAACpFvcAAAALVBMVEX///8iIiIQEBBERERUVFS6\n",
       "urqIiIjc3NxmZmaqqqru7u6YmJgyMjLMzMwAAACK9jtgAAAAAXRSTlMAQObYZgAAAFtJREFUCNdj\n",
       "YACBOwxQcA5Kc59bAGGs7CuAMDbkBYBp1gXzNoAZSxnuJYAZAQx1DSCa16PDzwCshIGB6QCIMYGB\n",
       "gVEBSLMDGTwPgIxCIGZ+zsCw+N0pBk67hw0AfpEVEQi8t+wAAAAASUVORK5CYII=\n",
       "\" style=\"display:inline;vertical-align:middle;\" /></a> : <a class=\"ProveItLink\" href=\"../__pv_it/theorems/8168c562b942d2349bc15878d637d47dc90786870/expr.ipynb\"><img src=\"data:image/png;base64,iVBORw0KGgoAAAANSUhEUgAAADUAAAAUBAMAAADfOGjQAAAAMFBMVEX///9UVFTMzMx2dna6uroQ\n",
       "EBCqqqqIiIgiIiJmZmYyMjJERETu7u6YmJjc3NwAAAC+aOQFAAAAAXRSTlMAQObYZgAAATdJREFU\n",
       "KM91kq9Pw0AUx79jo4O2DOyAZJMEUxzBVeKYQJBg+AvGLEFsakEecmo1OMIqQBGgYgMSzP4BoBLH\n",
       "mixAEBvv3vXKCTjRvPf9vHf3fhQoDfHXqcvPk7LXtbhQSTorl8jFZF8oqZdlzIZAt+oGFCZUdC/S\n",
       "zKNHdgQ2gbmYhfturFmTrNcGBsCbEoZNX7MrwN2LYPs4Yr8QHWblJsDaKpAXuGG/D6+Ropnk+bgt\n",
       "KwjQZsHHu0hZcQIMlgCrhV2OLXcqYcqcGvEP0kaKFairIGWLlFP8ZMZ3HlAvNaO93JjiW1xLiZg9\n",
       "MtrzQq5lC6pHZwL3W7IzStmnIc1vYJumPT2HdfclcELS8rR8ek33wK7qmfGxImNJj9ms+eTNBdKs\n",
       "cfvrPhhI7kjvlgduMEe+9c8/8QL8AG6DT0/USQHQAAAAAElFTkSuQmCC\n",
       "\" style=\"display:inline;vertical-align:middle;\" /></a></span></td></tr><tr><td><a name=\"0x623c87245c8c5bb1_step6\">6</a></td><td>conjecture</td><td></td><td><span style=\"font-size:20px;\"> <a class=\"ProveItLink\" href=\"../../intersection/_theory_nbs_/proofs/membership_unfolding/thm_proof.ipynb\" style=\"text-decoration: none\">&nbsp;&#x22A2;&nbsp;&nbsp;</a><a class=\"ProveItLink\" href=\"../../intersection/__pv_it/theorems/16fb4898c8c9dac45a43f94f8cc422c3b957f3760/expr.ipynb\"><img src=\"data:image/png;base64,iVBORw0KGgoAAAANSUhEUgAAAkQAAAAZBAMAAAAiQSxpAAAAMFBMVEX///8QEBCIiIhmZma6urrM\n",
       "zMxUVFQiIiJERETc3Nzu7u6qqqp2dnaYmJgyMjIAAAAcRTyBAAAAAXRSTlMAQObYZgAABjxJREFU\n",
       "WMPlWW+IFGUYf252Z29nZuf0QwklxXLGFVdxC2cK/sHN6C9Fe/fhNBRdTD8oUVuCh57FfghcC9n9\n",
       "EOdR1E0ap2jY0kVlGF0XQaxBg6dk9McF68MJ5ZKaenHa+/fmnZl3bueOFhQfeGbed+d5fzPzm+d5\n",
       "3ud9FyCMxHq3w60p0d6d4Qyb4daV/puDoneZTitHw6Jpdn0bo0QVU1TFp1/rUxTKrkGi56nKZR3P\n",
       "BqWQcAeDLqhVp72ZKaLoOD6dq09RKLsGSUuJqlzOcyL5CwZYarwxHnifmtM+whRRNIAH5+tTFMqu\n",
       "QTLGVCrmeYu1Rtn5bAABKTYgFQT124TTTiSpIopa0A0S5foUhbJrkGxn6sjp3l7uM4dXcK95n4XL\n",
       "LkuKsnoHe5lSAJI+fFUI7rlUEUVm5dChvSHSdSi7xoiWoyq8bbvTtjvS3E1oI7YyKYXZ2ErPe4OQ\n",
       "TOWicOV3pmhGu1Io7AxBUSi7xoiSoqq3bl5JgkkXcmLU+opPUIkUyyI5ac6vsnl5AdJ9bW89kPQg\n",
       "wVPGpND7himiaBPAbumTJdwUBdrNyCFmYJvhjbhN9UP4Mfmad+76ANZzpzFpxBynU4vvdcosT+xB\n",
       "zIyYrzRXPUh6Wv1bTExMEUWPOFOBWyJuirx2cr7irkBPey+P+G0CAT6ZunuZagV+sJ4kNq5bDCLn\n",
       "UfFEYlDvycF78kjQ6PP3IbqsxES05EGKgnZB6H7GtB8PVTyl1KplaWWejyKPnXlR+oZnXKx4Z0D6\n",
       "0c6kp6HIuRjhZDWlqVpQoD90/YWEvq/6fOdLeVA7MTsqmbPNJMQyEuATJBCQ3IYcBuJ5LxL0dC66\n",
       "ItivZ4ooSthi7awf67SNfAWW+Chy28H+SWnAr7ADKMLAsNZlYyxaLpSztCMA6FkPRQAsEAbETw9N\n",
       "6BWjDkXNFqhZyaOh+ayHUwQwJ+lFwi5/t5wirdojzoFHD4FxIgIjic7FnUtFitx2UNkqDfgDqQCK\n",
       "MDD9jNxG32MdnopW3hEBxj2BBuolxpkDiy/NZRSRAwzLi0MjxcvPPkJAxotkIH1ZGPA4U7xG270R\n",
       "eefy7gVKWwai+AGNNc8lR3xeROxg9KE2Aq4mCzKKuuN5P0V4DAGmUw23wYE0JEbVkAfgQU+6/kKp\n",
       "AZmjI1OzulamNTFhh6brcUaTpEI3UixdG1YHKJYLCd6hhfrYqdZU6yZ3uoZhBG8+bDdtUbLQQvjM\n",
       "VE5JKMJ2ivViM3H5GCxGB1+Nlo3kfBSRMS28wGE2W2iqnEqXvCMCfCpM5kij/8ZrbAXax01wjRO/\n",
       "yiiK4MmAJG4UbKBfA3b4CFO3mgUbmcmfLRfZsrhPLL6gWIKTd8E8qw21lzHtZ2H59r0wJ41usZ9S\n",
       "lMBP5aUI26nwJ/3lZ+gA9WsvRWZZqfkoImMIcDTPbdbeKafIBfAEzzc5ovqG9gVsHT30Or3zwevn\n",
       "wCheTlGKWrB/x/AXVLBzbAN2aMapCYcAtLIIGmrdt9x2IenFaxZ8fn2rti8HFwk1fzDFFJnYaAN0\n",
       "4XhfVSgUkkZGs3N+iogd0BpdP/t90SIfyyVHln03IclFaAwBjmanbHbIKXIBrAtegDy9q9dVgRCK\n",
       "DrD8LdZU7vpD9S9AvEixpDoX+5aeo+rsF90O98GgiuKHeBE8mmR43v0itUZ+jlgwmPFTtAS0SzD2\n",
       "5diab0WK8BgCTIKA2ARR5AJ4LNQy1qFoNFxJGryMJQk8o+S1WkZcxrJIrCE/Op2ABKbfTIM5It9S\n",
       "G0xUEzBgwTMo7mxMkfYG6vJDFDnvJHxcbSofEygiYwgw/irUxqGIjaYdN8AvYjk5bb1JqsaACtgv\n",
       "0y4SBpEfmfkRcTOEfYUsmgn6KwBv4mBFq7esnKKhk6MV6CrHr4BWfJWUIPOhq6TegQ/zoZiHgct2\n",
       "LHMAFgoUkTEEGBNDbRyK2GjacQMsDLelhr/w4n+SdUgMs6UGxHVbStoLFuFxt3RjVkEpo+7GLN8T\n",
       "wYFmuAoLajwMubK3LiLA94uFnA5UKQtChwNUZ7Yx+9P/uTFrlqjOcu/aYJ9L7Vgq7hjz1hDcAxtK\n",
       "0gXIVOrpvjDN1hMDMGy4EWRWFJlix5a0Atdo0Zm89X64qSia5f9oqVn/S4Gk/UYgKNq77T8ZvOPV\n",
       "sG+BUAAAAABJRU5ErkJggg==\n",
       "\" style=\"display:inline;vertical-align:middle;\" /></a></span></td></tr>\n",
       "<tr><td>&nbsp;</td><td colspan=4 style-\"text-align:left\"><a class=\"ProveItLink\" href=\"../../intersection/_theory_nbs_/proofs/membership_unfolding/thm_proof.ipynb\">proveit.logic.sets.intersection.membership_unfolding</a></td></tr><tr><td><a name=\"0x623c87245c8c5bb1_step7\">7</a></td><td>conjecture</td><td></td><td><span style=\"font-size:20px;\"> <a class=\"ProveItLink\" href=\"../../../../numbers/numerals/decimals/_theory_nbs_/proofs/posnat2/thm_proof.ipynb\" style=\"text-decoration: none\">&nbsp;&#x22A2;&nbsp;&nbsp;</a><a class=\"ProveItLink\" href=\"../../../../numbers/numerals/decimals/__pv_it/theorems/5db1fd392f01abb5a4164fcd36996a76cd3c48920/expr.ipynb\"><img src=\"data:image/png;base64,iVBORw0KGgoAAAANSUhEUgAAAD4AAAAUBAMAAAAn2JMnAAAAMFBMVEX///+YmJiqqqqIiIgyMjLc\n",
       "3NwiIiIQEBC6urp2dnZUVFTMzMxERERmZmbu7u4AAADrYmUNAAAAAXRSTlMAQObYZgAAAPRJREFU\n",
       "KM9jYKAALCAgf4AK8nx3z2xAEeTzP+PHwFlfAZV/xcD5A1UXj8AuBob3DFwuLiUujgz3GBjKUeW5\n",
       "spkNGNhh5pcxMKwPAIszHktLAcv3PFjNwAaT93/AsB7sAO7DD6D6oxc8ecCG5P58sMSTBzDzA5S5\n",
       "FyDJc/wEU0vh9gdwNggjybMtQA0MrgCGdVzbQCyIu+6CSe4SFyCAyr9icId7h/kCmGJF1s89YTtc\n",
       "XpeBFWxOAZI8gxAPjMc9gYEZLH8ZLg/0LmcMjBc2c+4yiDMVoCIsIMYVmLz////fIPGypg9iYH4N\n",
       "KDQwY5NjDiR8UQAAMMdAv/oJq5oAAAAASUVORK5CYII=\n",
       "\" style=\"display:inline;vertical-align:middle;\" /></a></span></td></tr>\n",
       "<tr><td>&nbsp;</td><td colspan=4 style-\"text-align:left\"><a class=\"ProveItLink\" href=\"../../../../numbers/numerals/decimals/_theory_nbs_/proofs/posnat2/thm_proof.ipynb\">proveit.numbers.numerals.decimals.posnat2</a></td></tr><tr><td><a name=\"0x623c87245c8c5bb1_step8\">8</a></td><td>instantiation</td><td><a href=\"#0x623c87245c8c5bb1_step10\">10</a></td><td><span style=\"font-size:20px;\"> <a class=\"ProveItLink\" href=\"../__pv_it/demonstrations/1686d11b963e8f5ba74a9cecf7200db38abd360e0/proof.ipynb\" style=\"text-decoration: none\">&nbsp;&#x22A2;&nbsp;&nbsp;</a><a class=\"ProveItLink\" href=\"../__pv_it/demonstrations/8647e4d50bc4817bc583c3941b0beb6f1a72325a0/expr.ipynb\"><img src=\"data:image/png;base64,iVBORw0KGgoAAAANSUhEUgAAAMoAAAAVBAMAAAD1I2xhAAAAMFBMVEX///9UVFQQEBCqqqoiIiJm\n",
       "ZmYyMjJERESYmJjc3NyIiIi6urp2dnbu7u7MzMwAAAADGpxCAAAAAXRSTlMAQObYZgAAAlpJREFU\n",
       "SMellT2IE0EUx//JJpvNx+4FQdTKs9FKsFDEQtgTLQSFpDi0sEhlI3iigljonYWCVy3YaJfGwiYG\n",
       "sRVjYeMJxkOvsFF7j7srLvchufXN20x2sslMAj6YyWTf+78f8/UGqxhrq2M/jE2wxL/PR7vPcL+U\n",
       "/GzUqGYFvXhWuLf4n1eT7kfh/uq9JlKBntLTaO37lYfAIZViR0x7vR9zDMjuwa3pKUJjHddC3DK+\n",
       "NLGiUh5HniddGeNtA8VN4JOeQpqvH7paSraN9DRKdYVyMcKf2pExBRo5u8CyniI0jp6S9pHagTsd\n",
       "U/I+O5zCXxmTI+/yZVqWpo7CGgPF7iK1B9yIKYUKO95Z2zJmqgxvpg2UKjoKawwUsgx5P8aU3AIv\n",
       "WNPblQFrBxfvnhBpapJSus5WkRTWmCnvW7TVMSUjEqKI/KYMeB3APSIOvK+bC2vMlBlqJ2NKWqw+\n",
       "fs9Wt2TAbUGiPN66jsIaIyUr5r2WpFB3VEZsCEr9/ygvMUjh2VvUzinXBYcpT9FP7Et54hWzKngB\n",
       "vE3s/jNqc8p18bYGdj85l7G7/wd4NbD74rzy+Z8P8FPktem6vHkg1ralo/AZLxCFBaJzO+ogf+lz\n",
       "lVJeiym0Lu58p43T4QVk6C6m5jZmD9zhu/VLRxFrmd3XucoCZMq9M8WD83TT7DAMKeTmUIWJ7Kya\n",
       "75u5wgwLoi1p92umP1wt2VpqvLlajhCwleKRWi1zQVyx62r5NlR+qRkQRPajP1oZ8YpxyVTDcxO8\n",
       "Ys7w8Vroj+734hum1/Up943k58akL7ITzbfxD8R5zd3ooCiSAAAAAElFTkSuQmCC\n",
       "\" style=\"display:inline;vertical-align:middle;\" /></a></span></td></tr>\n",
       "<tr><td>&nbsp;</td><td colspan=4 style=\"text-align:left\"><span style=\"font-size:20px;\"><a class=\"ProveItLink\" href=\"../../../../__pv_it/common/c06c606ec12678c58933ac85412ecadc2ae28be60/expr.ipynb\"><img src=\"data:image/png;base64,iVBORw0KGgoAAAANSUhEUgAAAAsAAAAJBAMAAAAWSsseAAAAMFBMVEX///9UVFSqqqrMzMwiIiJE\n",
       "RESYmJgyMjK6urru7u4QEBCIiIh2dnZmZmbc3NwAAABRgo0vAAAAAXRSTlMAQObYZgAAAEdJREFU\n",
       "CNdjYOC7c3slAwND1wP2DwwMnMsYeAMYGHh/MrBsYGDgCmCYb8DAMP8Agz5QxXwFBnGmBwysG9gc\n",
       "eYAqpTc/3MEAAP4BD32xAXDqAAAAAElFTkSuQmCC\n",
       "\" style=\"display:inline;vertical-align:middle;\" /></a> : <a class=\"ProveItLink\" href=\"../../../../__pv_it/common/09585084922504426caf1db2ff588a23a0932a960/expr.ipynb\"><img src=\"data:image/png;base64,iVBORw0KGgoAAAANSUhEUgAAAA8AAAAOBAMAAAACpFvcAAAALVBMVEX///8iIiIQEBBERERUVFS6\n",
       "urqIiIjc3NxmZmaqqqru7u6YmJgyMjLMzMwAAACK9jtgAAAAAXRSTlMAQObYZgAAAFtJREFUCNdj\n",
       "YACBOwxQcA5Kc59bAGGs7CuAMDbkBYBp1gXzNoAZSxnuJYAZAQx1DSCa16PDzwCshIGB6QCIMYGB\n",
       "gVEBSLMDGTwPgIxCIGZ+zsCw+N0pBk67hw0AfpEVEQi8t+wAAAAASUVORK5CYII=\n",
       "\" style=\"display:inline;vertical-align:middle;\" /></a>, <a class=\"ProveItLink\" href=\"../../../../__pv_it/common/195236b98c6c564a75b5dbada74b173bc52d5c3e0/expr.ipynb\"><img src=\"data:image/png;base64,iVBORw0KGgoAAAANSUhEUgAAAAkAAAAOBAMAAAAPuiubAAAALVBMVEX///+YmJjc3NyIiIhUVFR2\n",
       "dna6urqqqqpmZmYyMjIiIiIQEBBERETu7u4AAAALjtrwAAAAAXRSTlMAQObYZgAAAE9JREFUCNdj\n",
       "4D29gAEIOBtAJF8BiMy7ACKjQATDFON2BgbelxfuKTCwv2XgM2DgmMBwLwCkPK+AgU+Aoe8CA18C\n",
       "70YGBhYBHqARvM2BDAwAqXgQspq5HJAAAAAASUVORK5CYII=\n",
       "\" style=\"display:inline;vertical-align:middle;\" /></a> : <a class=\"ProveItLink\" href=\"../../../../__pv_it/common/a9162d1c3cc0470c02e5daf414500903a7a419230/expr.ipynb\"><img src=\"data:image/png;base64,iVBORw0KGgoAAAANSUhEUgAAABAAAAAOBAMAAADUAYG5AAAALVBMVEX///8yMjKqqqoiIiLu7u7c\n",
       "3NyIiIjMzMwQEBC6urpERERmZmZUVFSYmJgAAACsPVCVAAAAAXRSTlMAQObYZgAAAGxJREFUCNdj\n",
       "YGC48+70nlUTGICgi4GB+zmQZn/LwMD5Gshge8rAwPsMyOBqYGDwMAEy+A4wsNs4ABl1Z68tVgBp\n",
       "ygtgYOkBMVaAOCChNyBGAsQYhnMTIMawvwJyGIHGzFjCwMAj92b3qUUMDAAXABxvZ4rl5AAAAABJ\n",
       "RU5ErkJggg==\n",
       "\" style=\"display:inline;vertical-align:middle;\" /></a></span></td></tr><tr><td><a name=\"0x623c87245c8c5bb1_step9\">9</a></td><td>assumption</td><td></td><td><span style=\"font-size:20px;\"><a class=\"ProveItLink\" href=\"../__pv_it/demonstrations/4d1da70de4e887f44adb57886eba1a2cb36192a50/expr.ipynb\"><img src=\"data:image/png;base64,iVBORw0KGgoAAAANSUhEUgAAAHcAAAAUBAMAAABFd79NAAAAMFBMVEX///9UVFSqqqrMzMwiIiKY\n",
       "mJgyMjIQEBCIiIh2dnZmZmbc3Nzu7u5ERES6uroAAACFTSmKAAAAAXRSTlMAQObYZgAAAblJREFU\n",
       "OMtjYMANtjLgA9p4ZXkugCnmBDTxwP9SC+8+YGDcgE8zG0SW7QPUrAMwiVoGBq7PDDwJ+DRHQaiw\n",
       "P2Dqre+VexAB5q8MDHy/GBhmYNET6+ICMdMbYqHWbxDFeZuBwXABWIQDKMD6g4HhOKZe2x4og9sB\n",
       "TLFy/IM7QwgswlsA1OgD9M8DuKZds9pBnuLJgQlwQOx5w/QVRN0BEXvBIvwCDMyOQLWcC2BK+aoZ\n",
       "8kE0Igx5A8CufsD8A0SDncEClrAXjbiiAHITPMSOBzCsBWuBO4VFAWwoA/cvNM39Gxh4CoE0kwNM\n",
       "6foDDB4g2jwNCMBGsoO9ZLhq4V80zddBBgBNZv6AiDuezwhvITQDiTI0zR9BmhuQNPP8ZGACs9lR\n",
       "nc0ExO6omkHRzCAPNJQP5myeTwyMCaDUytWAEmCbgDgfVTMompn/ogTYDYYQgQkghhNMBBQT4Li+\n",
       "vwFFMxswmp+DYo5rAsPbu0BwgOFgh7UE2JMH70HTMNBVPPe/HWDQ/e+FrJkx/+Mq2UtgUwwwk9jL\n",
       "KyjJEwrAkc6KovAIERkDJ5iBT5J3A/7snkBEYUCm2fiLoWgGBgD2SXHQAhjvcgAAAABJRU5ErkJg\n",
       "gg==\n",
       "\" style=\"display:inline;vertical-align:middle;\" /></a> <a class=\"ProveItLink\" href=\"../__pv_it/demonstrations/2e2f48824e35358683d37ebe3505b4aae48bf6420/proof.ipynb\" style=\"text-decoration: none\">&nbsp;&#x22A2;&nbsp;&nbsp;</a><a class=\"ProveItLink\" href=\"../__pv_it/demonstrations/4d1da70de4e887f44adb57886eba1a2cb36192a50/expr.ipynb\"><img src=\"data:image/png;base64,iVBORw0KGgoAAAANSUhEUgAAAHcAAAAUBAMAAABFd79NAAAAMFBMVEX///9UVFSqqqrMzMwiIiKY\n",
       "mJgyMjIQEBCIiIh2dnZmZmbc3Nzu7u5ERES6uroAAACFTSmKAAAAAXRSTlMAQObYZgAAAblJREFU\n",
       "OMtjYMANtjLgA9p4ZXkugCnmBDTxwP9SC+8+YGDcgE8zG0SW7QPUrAMwiVoGBq7PDDwJ+DRHQaiw\n",
       "P2Dqre+VexAB5q8MDHy/GBhmYNET6+ICMdMbYqHWbxDFeZuBwXABWIQDKMD6g4HhOKZe2x4og9sB\n",
       "TLFy/IM7QwgswlsA1OgD9M8DuKZds9pBnuLJgQlwQOx5w/QVRN0BEXvBIvwCDMyOQLWcC2BK+aoZ\n",
       "8kE0Igx5A8CufsD8A0SDncEClrAXjbiiAHITPMSOBzCsBWuBO4VFAWwoA/cvNM39Gxh4CoE0kwNM\n",
       "6foDDB4g2jwNCMBGsoO9ZLhq4V80zddBBgBNZv6AiDuezwhvITQDiTI0zR9BmhuQNPP8ZGACs9lR\n",
       "nc0ExO6omkHRzCAPNJQP5myeTwyMCaDUytWAEmCbgDgfVTMompn/ogTYDYYQgQkghhNMBBQT4Li+\n",
       "vwFFMxswmp+DYo5rAsPbu0BwgOFgh7UE2JMH70HTMNBVPPe/HWDQ/e+FrJkx/+Mq2UtgUwwwk9jL\n",
       "KyjJEwrAkc6KovAIERkDJ5iBT5J3A/7snkBEYUCm2fiLoWgGBgD2SXHQAhjvcgAAAABJRU5ErkJg\n",
       "gg==\n",
       "\" style=\"display:inline;vertical-align:middle;\" /></a></span></td></tr>\n",
       "<tr><td><a name=\"0x623c87245c8c5bb1_step10\">10</a></td><td>conjecture</td><td></td><td><span style=\"font-size:20px;\"> <a class=\"ProveItLink\" href=\"../../../../numbers/numerals/decimals/_theory_nbs_/proofs/tuple_len_2_typical_eq/thm_proof.ipynb\" style=\"text-decoration: none\">&nbsp;&#x22A2;&nbsp;&nbsp;</a><a class=\"ProveItLink\" href=\"../../../../numbers/numerals/decimals/__pv_it/theorems/bb1c1a418873d36ac86831cd16ffb643d1ab33940/expr.ipynb\"><img src=\"data:image/png;base64,iVBORw0KGgoAAAANSUhEUgAAAPsAAAAWBAMAAAD0hvfJAAAAMFBMVEX///8QEBCIiIhmZma6urrM\n",
       "zMxUVFQiIiJERETc3Nzu7u6qqqp2dnaYmJgyMjIAAAAcRTyBAAAAAXRSTlMAQObYZgAAAxVJREFU\n",
       "SMe9lk9o01Acx39N1iZNk3YHT4JQ1A68hR1EcMOKh52k9eJBhNWhB0EkFyfOHeZBWA9CTm4ehKjg\n",
       "xg426EH0YnFFwT9Y8KKC0oMTpjCGILgeWt/v5b0mbfrSiuCDpl/e++X7Sd775fcegLidgr8ZjIwO\n",
       "t7gTOZysQ42L7vaEXmu9N3gdtweDUzZe9Tw1aqD+HA5a5YargU7tmgWQsMV4bSEafe/QdYDzDI9G\n",
       "r1F/DwducsJmsDdtEkRDjE8Tx9RuIV0rwbs8PGB4NFrG+Q0/s2EyQxR+y7jk8lyMfw9w/0VTiJcd\n",
       "iI2CnvXwaJQmKaC7oUDFZoaKHewuYMLcEeOv4AOL8TELEjugjTI8MTJera0thQOXuGH32Es6w3kR\n",
       "PmlF49NNSPwC+MrwaPR7cXE+HLiPE1AkJ8bZen7be5jcaYrwkhmNx9kko+sMj0bnAMp8bGSLqxuc\n",
       "gOKond72UqflVGwwGnxQ36LN5Hi1PhBfqAJ8YXg0OsZSmbZ1Lq5yAhHaHpC95Ew1IZOFlCV6e8Ud\n",
       "iJ8lv8cMj0YKSH5h+cHFLk4gQm6CkvUytwGVKsS3RfhYfhBexpmaZng00uuKP7rTDx9bgEqRf/YF\n",
       "95/wmEpd+GTjJJajsQ0sxD/HnPDkkxd+xj77OhxxYMTqWfvS0JOfMuEWwBTDU6PyWbK8l+J4kzQn\n",
       "meHUq7hw0SvUmTzJg0Dq9b79wNQ7DXCgO/XgkYVLEscnUbNGw8/BGhOkd1aHChlJ1FXyeHJVhKef\n",
       "pETwGEwvWisokvNvDhLOBMNTI5LLEHOlEl07ueSZTXECEdpM7uZ+UOaIGn+LGVAU4XE25TOtSRoM\n",
       "SollOhWXybKm2+02CdngZQeNDNJfsdVP5C/jxFxh0X3KxUp00e0O9pe9s8FrFsOvdIqxPX0clh3F\n",
       "+SDecqpcRG85PcGdpvsqsOWwcjfzcBJOuPELndvKnMBLopblImLDVe2eYL/d7ajghhtsbtRxw+Aj\n",
       "6hDHDSOc9H5tKzO8avc5BfmHrVz/w9ZHes312ueGPWwZFCMVmZHfD/+9/QF9Af9Lm1VaRQAAAABJ\n",
       "RU5ErkJggg==\n",
       "\" style=\"display:inline;vertical-align:middle;\" /></a></span></td></tr>\n",
       "<tr><td>&nbsp;</td><td colspan=4 style-\"text-align:left\"><a class=\"ProveItLink\" href=\"../../../../numbers/numerals/decimals/_theory_nbs_/proofs/tuple_len_2_typical_eq/thm_proof.ipynb\">proveit.numbers.numerals.decimals.tuple_len_2_typical_eq</a></td></tr></table>"
      ],
      "text/plain": [
       "\tstep type\trequirements\tstatement\n",
       "0\tinstantiation\t1, 2\t|- (A intersect B) subseteq B\n",
       "\tA : A intersect B, B : B, x : _a\n",
       "1\ttheorem\t\t|- forall_{A, B | forall_{x in A} (x in B)} (A subseteq B)\n",
       "\tproveit.logic.sets.inclusion.fold_subset_eq\n",
       "2\tgeneralizaton\t3\t|- forall_{_a in A intersect B} (_a in B)\n",
       "3\tinstantiation\t4, 5\t{_a in (A intersect B)} |- _a in B\n",
       "\tA : _a in A, B : _a in B\n",
       "4\ttheorem\t\t|- forall_{A, B | A, B} B\n",
       "\tproveit.logic.booleans.conjunction.right_from_and\n",
       "5\tinstantiation\t6, 7, 8, 9\t{_a in (A intersect B)} |- (_a in A) and (_a in B)\n",
       "\tm : 2, x : _a, A : (A, B)\n",
       "6\tconjecture\t\t|- forall_{m in NaturalPos} [forall_{x, A_{1}, ..A_{_a}.., A_{m} | x in (A_{1} intersect ..A_{_a}.. intersect A_{m})} ((x in A_{1}) and ..(x in A_{i}).. and (x in A_{m}))]\n",
       "7\tconjecture\t\t|- 2 in NaturalPos\n",
       "8\tinstantiation\t10\t|- |(A, B)| = |(1, ..k.., 2)|\n",
       "\ta : A, b : B\n",
       "9\tassumption\t\t{_a in (A intersect B)} |- _a in (A intersect B)\n",
       "10\tconjecture\t\t|- forall_{a, b} (|(a, b)| = |(1, ..k.., 2)|)"
      ]
     },
     "execution_count": 20,
     "metadata": {},
     "output_type": "execute_result"
    }
   ],
   "source": [
    "A_intersect_B_subset_of_B_judgment.proof()"
   ]
  },
  {
   "cell_type": "markdown",
   "metadata": {},
   "source": [
    "<font size=3>And we can ``unfold()`` the subset expression to produce an equivalent judgment in terms of set memberships. Notice here that the ``unfold()`` process *automatically* produces a Known Truth instead of just another expression (and it would have done this even if we had not previously proven the expression to be true):</font>"
   ]
  },
  {
   "cell_type": "code",
   "execution_count": 21,
   "metadata": {},
   "outputs": [
    {
     "data": {
      "text/html": [
       "<a class=\"ProveItLink\" href=\"../__pv_it/demonstrations/b48a421e11344d60b86cb4d00517fcc98fccd5780/expr.ipynb\"><img src=\"data:image/png;base64,iVBORw0KGgoAAAANSUhEUgAAAHEAAAAUBAMAAABIac8KAAAAMFBMVEX///9UVFTMzMx2dna6uroQ\n",
       "EBCqqqqIiIgiIiJmZmYyMjJERETu7u6YmJjc3NwAAAC+aOQFAAAAAXRSTlMAQObYZgAAAdxJREFU\n",
       "OMt9VDtLA0EQ/nKJeSda2MQHCdiITexEBEkj2KlgIaTxF2hasTBahAMtYmmljVaSpFAJ+IqgImih\n",
       "lZUaO7HRiPhATJzZvSR7kcs2czM73+zMNzMHBK/R5Mw0ubuUoq/BfFMJre7HYCv+AwTCpbXOHfrI\n",
       "SD1r2K+qDnHA8wb/RjWSrutL8rMlB6xHEEjLQNkCC0d+fzkmDNovad/AgPR+Hq4/GqX6xtJwy3TO\n",
       "14UcKkILCYOrTOE+gTPpnVHSXSDXhwSepHa9wE+JBGzTbPCNE2oF8IoUPNMKchfwTxUwJxRHYZYp\n",
       "9nHKwRxbWtugLZJqF9W4VYpKQG8XcCiUU0QTNYekKKb7Ns8PBQRFjwpQK93Np0imhBbDS9qMpGL8\n",
       "EySdSaV1NQbO2oBJESa0Fs6ZkbuMpke118ZsmQHXh4F0UJM2zMgSIxNVpD1RRxIDcH0a2VJs97gJ\n",
       "ye1EmHh1iDjYMrfT9i4ZChLS+2pCcjHaT40hnLQX1HZGqbZB+uae+sompJdSGDngTvZL/558dfo2\n",
       "KZE4xRkl4irbcB5/pRWkLUtTvceKN9Iw8B28Ctwvt7oMATlPquOF5ZIZE295BqyvjpoCjS2z63p9\n",
       "yxo22+L4itZ3zf8m95Y3f/WIgMZUuvEkAAAAAElFTkSuQmCC\n",
       "\" style=\"display:inline;vertical-align:middle;\" /></a>"
      ],
      "text/plain": [
       "(A intersect B) subseteq B"
      ]
     },
     "execution_count": 21,
     "metadata": {},
     "output_type": "execute_result"
    }
   ],
   "source": [
    "# the original expression\n",
    "A_intersect_B_subset_of_B"
   ]
  },
  {
   "cell_type": "code",
   "execution_count": 22,
   "metadata": {},
   "outputs": [
    {
     "data": {
      "text/html": [
       "<span style=\"font-size:20px;\"> <a class=\"ProveItLink\" href=\"../__pv_it/demonstrations/c298c25fd11f3bd23adee98cf421ee37f5c708970/proof.ipynb\" style=\"text-decoration: none\">&nbsp;&#x22A2;&nbsp;&nbsp;</a><a class=\"ProveItLink\" href=\"../__pv_it/demonstrations/b4832d7a1a5710711766d3a1b3affb2599a4dfa00/expr.ipynb\"><img src=\"data:image/png;base64,iVBORw0KGgoAAAANSUhEUgAAAJUAAAAUBAMAAAB2YGIBAAAAMFBMVEX///8QEBCIiIhmZma6urrM\n",
       "zMxUVFQiIiJERETc3Nzu7u6qqqp2dnaYmJgyMjIAAAAcRTyBAAAAAXRSTlMAQObYZgAAAmJJREFU\n",
       "OMuVlE1oE0EUx//uZrMf2dScxIOHRUGlYFsIrSch6kVBMV7Um8EPiIeqIDRYP6ggdOsH3Zu9SFaE\n",
       "CFFQ8FTxIOtBiKJBxQ9ECHgT1NDYEltE3+zsbDYl1HVg2fdmdn/z3v+9GSD+uLnS4iw9DWZ8joMy\n",
       "JnpOv/tzdMTOIekAz5n/NQ6rz+k9vxaQ52FQUDPk6RNxWG96Tyu/gUQL8Gg3FzAfxGGd7fI+lEq+\n",
       "PJB+Aek54Ba9atXqjTgo/XTUO9QvLC1DnHEKKge0bft8HJY0RPKvP7HD8+vQUXh1AcoYS47WjwNT\n",
       "y34L/V2tp0WhuFYH7uG9dZE5yU4dDo++nmQapSnlnX4JoiP9M7QyMDOBrdIPNbxyd/vgzteDDow1\n",
       "9E6RBiqkuuigx1lm3qbKpEa2kSUXkFoMFleRHi5s7uz/ToOHcInxaB+lSXnW1bA2s1X2qp2Bcd29\n",
       "S5mqFuRGhAXMcWemE9cCY1mcpTcOkOcNb8wnhnjDWDZk0qMC3M9jwI3kCGU+AHe1F07RPglW56lj\n",
       "VCT3pJrr46tJbPX1oGffls0FRLR/JDXhN4NsheWl9lLagfZ4SEAF30gnvvoJg4L1EtgkfqKaJ5a0\n",
       "ps7FPReeLKrN9isM/4Q1iL8H4Q/atm3B+PJi2g1Y14CyOBOUg3Gkf0NwDVQu89yTPxayxas+NM+C\n",
       "Y7NKU6Hk/PBdlPMBa4nSdHqfoT2Tpe5WuiOMstkwYTIy9lKkdc7SF6Gv+9fZFsMTRuWtVwNYrFob\n",
       "+vQFznrWyhZz4ceas+LttqzhJaYXXwmeGHdhrJ3+747+CPwF2r+aSUzTPAEAAAAASUVORK5CYII=\n",
       "\" style=\"display:inline;vertical-align:middle;\" /></a></span>"
      ],
      "text/plain": [
       "|- forall_{x in A intersect B} (x in B)"
      ]
     },
     "execution_count": 22,
     "metadata": {},
     "output_type": "execute_result"
    }
   ],
   "source": [
    "# unfold to express in terms of set memberships\n",
    "A_intersect_B_subset_of_B.unfold()"
   ]
  },
  {
   "cell_type": "code",
   "execution_count": 23,
   "metadata": {},
   "outputs": [
    {
     "data": {
      "text/html": [
       "<span style=\"font-size:20px;\"> <a class=\"ProveItLink\" href=\"../__pv_it/demonstrations/c298c25fd11f3bd23adee98cf421ee37f5c708970/proof.ipynb\" style=\"text-decoration: none\">&nbsp;&#x22A2;&nbsp;&nbsp;</a><a class=\"ProveItLink\" href=\"../__pv_it/demonstrations/c9a0e87daa3b9d3025f4c87ffc41b5cf6d479f1a0/expr.ipynb\"><img src=\"data:image/png;base64,iVBORw0KGgoAAAANSUhEUgAAAJMAAAAVBAMAAACwIsHjAAAAMFBMVEX///8QEBCIiIhmZma6urrM\n",
       "zMxUVFQiIiJERETc3Nzu7u6qqqp2dnaYmJgyMjIAAAAcRTyBAAAAAXRSTlMAQObYZgAAAndJREFU\n",
       "OMulVEtoE1EUPc18MpmkaRYqLlwMLWgQtEIwbrRGBOtCTbpRdwY/kI1Y0BrwAwpix09pXFl00ZFC\n",
       "lLhQcFVwEdqFUEWCC1FUCLjShZamLbEi9d75ZiSRgT54vPs+c9455907QOAWqf1nc5p6nYMvQaCe\n",
       "tF19v3oqrWcgl4DXPP8eBOpb++WNgLAElShNMPVrAZC6d7Rdlv4AYgOYAeIGEHseACpcap19KBZN\n",
       "axD6RbcsAI9omKtU7gfR5zt0fKsTKQmCuUSUMkBT168EgeoD1D4N90gFVM/cnjyki6yM9J8Bbv3z\n",
       "lTs/2JgtOLrG6LiYQD/Hsif2xNl3o+xPN+ndb7rvM3jRjRKIJez4MvBQqEM3VXmH+0tQN9AYHSY7\n",
       "EXJyT32Z4nCKHiWa3kORkEd0xd5cBxhdGhY4HvpBzSJwneGIljRPrGth91mmKzzMnYc6ZjwlmWEN\n",
       "Qt2DQtaQljie8FgtM5RmQUXqRykzNiNsiFbmSJoOgcwoA89y2G54AjGAkKm3y5dWOEevJw6zyaeJ\n",
       "Wo8xhLi1K2OXaQb17LZkHp7tuAnFnAuas8ppJTVt2/GC8B4MIokpa/cTvZIN9RbY4nw0Sz2NbM2l\n",
       "aLY4sdx3m9GrnBl8xW6cxDFd1zWoX9+MGzbUXWDSqYRB6uXevVYalG9YuuWfy6nCHRMzx9R49QLW\n",
       "kzKTvIHJnA31mzSWfIUzYM8OjRb9KfTYjUbEecQYGIeJZ82CiqwgsqmlnOW6utipGGbc6ECSLmGm\n",
       "ShOR8asW1KtGqpBpqYFwTdE6IHlprpYU8jPEXllzu/t/fWLvzk6kFLeU5OqRtf2QP7qR+LmKtba/\n",
       "GFSZd44Xr7AAAAAASUVORK5CYII=\n",
       "\" style=\"display:inline;vertical-align:middle;\" /></a></span>"
      ],
      "text/plain": [
       "|- forall_{y in A intersect B} (y in B)"
      ]
     },
     "execution_count": 23,
     "metadata": {},
     "output_type": "execute_result"
    }
   ],
   "source": [
    "# unfold to  express in terms of set memberships\n",
    "# and simultaneously change the instance variable\n",
    "A_intersect_B_subset_of_B.unfold(elem_instance_var=y)"
   ]
  },
  {
   "cell_type": "markdown",
   "metadata": {},
   "source": [
    "## Axioms <a id='axioms'></a>"
   ]
  },
  {
   "cell_type": "markdown",
   "metadata": {},
   "source": [
    "<font size=3>The ``axioms`` for containment establish the basic definitions of subset ($\\subseteq$), proper subset ($\\subset$), proper superset ($\\supset$), *etc.* A few of the axioms are shown below as illustrations (the rest can be accessed on the [containment axioms](./_axioms_.ipynb) page.)</font>"
   ]
  },
  {
   "cell_type": "code",
   "execution_count": 24,
   "metadata": {},
   "outputs": [
    {
     "data": {
      "text/html": [
       "<span style=\"font-size:20px;\"> <a class=\"ProveItLink\" href=\"axioms.ipynb#subset_eq_def\" style=\"text-decoration: none\">&nbsp;&#x22A2;&nbsp;&nbsp;</a><a class=\"ProveItLink\" href=\"../__pv_it/axioms/7a59274882f4df50c95c1e6d7694eb9e867fca2c0/expr.ipynb\"><img src=\"data:image/png;base64,iVBORw0KGgoAAAANSUhEUgAAATUAAAAVBAMAAADV6mS1AAAAMFBMVEX///8QEBCIiIhmZma6urrM\n",
       "zMxUVFQiIiJERETc3Nzu7u6qqqp2dnaYmJgyMjIAAAAcRTyBAAAAAXRSTlMAQObYZgAABCZJREFU\n",
       "SMfNVk1oXFUU/jp/mf90ISjoYjCLhmCbgYAFqWTQRRUqGbtQF2IG20Ja0A40ZZSojFLIxB8yqzYI\n",
       "Nk+UpqZSCy6kbgxNxDapdaDgT39HtAsj2KG16R+lnnPufTNv3n1vFN144Lzz7s/73nfuOfeeC3SS\n",
       "WE1pJ0lUja51lzp/8kGnwaOkF0bF1Ll93mfeQa0kLxiDqZ0rAyN7gO3GyEJaxv2cipc9uzVehH1d\n",
       "ELPE3cs+KL9pJbmsu74vlUq71esq+sdgHodNbskj9ExbPqjpqne/wovXhRubKQ6dtyNIZZXy62X1\n",
       "p/0nWsPDtDBDWSQzBjcBnPKL2mmffo13TLixYe/ETQ/pqiolOTRYba6kLf3UdTGD+GqDmwRiyY/b\n",
       "q22tH0ulehveh4obmdTi7Ow+H5B9Wklq/Tk2QacXb1Lq3Euu/WpyOzc7+0nRb4O1DTzX58ZL54Qb\n",
       "mxuVyms+KD1agZD1lWR2l3N4BXh2B9l5k1t3pTI+54MaoCyJP7j9sWOyL5YNvGRWuLHZBkzIkHo+\n",
       "cXV+xM7V97QCH2NYsmqv4x/hlfO9Y/xygR/JP0Syilskj6gr45vtKHn5KX7IvMGNSNXAS9WFG5vH\n",
       "ZUvQ+58q6VcjaSfQmFYgh+ksWgeK8v8mJUWBXr4w1y2UNbbvxZydxZQXi/jOelKImniJonBj04WA\n",
       "hOujOzIjWEDilp59j1aEtwzsLLtjGiUXArd5f5ncUMRau3Vo/lEO3qB93K0ikhYqqvE0L3a9DS/c\n",
       "EAQ2yZr64eIu5VUGwbqbW4gQpdN5XnSTj4ErPty+hZ3xqXfe5+MnOZN1cAOuqMaUiefgFqs/I0uT\n",
       "UZ58lsc6yx1TikKXCvTv7cdRhBNhoyPfCprb/jC9JXs2b6OcEdkcLTtiivA1TdTEC6mYssHEVklK\n",
       "rJcZQ2t7C3DthRihpRvSdWCr5Tzehsv2XnCtW3QvrU5fpD4KHYRCsOjYC18GGpDDI5iBG8+xF/C5\n",
       "fHQW/TLjFLDGnj2vlc+46E3V9/y4XbN+Jt/uY6YbPLgl2NN8uoa4ritHAg09SodD6Ha0oe8QY82v\n",
       "bLzgnCCwQTdTj/9yclJW5F1g2j5gNyo9eHcZicnr2XYCL9/d8nBFZl7y4KbyqbuK8CuVylvA4Q3H\n",
       "7R1GwYq/2Nej7xcH9lguvHRenb15dokHgxamuQHaKENVs2Z1kHjRi9sZSSHkoTLkEcSuedesTeN2\n",
       "zdIyoxBmmh1PkZO12NuI3ULsAY9a30E8ar0uTo1TmMPXslYUwDt/V+u1tGq9zs8biE2+Hr4f31wd\n",
       "GMk1p000y4XNo1Rq3ZG0eNyR9IK+tOkhC1GO02QZU9dr7grhHYbWHan9Dut/t/SXCT9uWno53/7B\n",
       "3dLJfMF04Oi/uJOnzFVY81/u5D/xpX5UTJvU8H+SvwBVZVBM8dnIYQAAAABJRU5ErkJggg==\n",
       "\" style=\"display:inline;vertical-align:middle;\" /></a></span>"
      ],
      "text/plain": [
       "|- forall_{A, B} ((A subseteq B) = [forall_{x in A} (x in B)])"
      ]
     },
     "execution_count": 24,
     "metadata": {},
     "output_type": "execute_result"
    }
   ],
   "source": [
    "# def of (non-proper) subset\n",
    "subset_eq_def"
   ]
  },
  {
   "cell_type": "code",
   "execution_count": 25,
   "metadata": {},
   "outputs": [
    {
     "data": {
      "text/html": [
       "<span style=\"font-size:20px;\"> <a class=\"ProveItLink\" href=\"axioms.ipynb#proper_subset_def\" style=\"text-decoration: none\">&nbsp;&#x22A2;&nbsp;&nbsp;</a><a class=\"ProveItLink\" href=\"../__pv_it/axioms/dc19bd769da96446823e6eb8658ec92e1c8f526e0/expr.ipynb\"><img src=\"data:image/png;base64,iVBORw0KGgoAAAANSUhEUgAAAWsAAAAVBAMAAAByN9JOAAAAMFBMVEX///8QEBCIiIhmZma6urrM\n",
       "zMxUVFQiIiJERETc3Nzu7u6qqqp2dnaYmJgyMjIAAAAcRTyBAAAAAXRSTlMAQObYZgAAA/FJREFU\n",
       "SMfVV0toFEEQLfeT3Zn9mENAQdFFD3rRLCzEi5AFDxFBkpN6EBNRIXrQDSKLxs8KgokouwdRQTQr\n",
       "igYFXfCgngzmIH6QxYAf/K2oh0QwIQlJjMRY/Znpnp5PEvFiwZuZnao3W11VXd0N4CVamcFLIoV/\n",
       "xbvkTYAHEirkxQcXw24OlG02ZWzfWKr1BMDuf8TTc0JniDn0IPpZVRB4Rl4OuLjdz4EyaNfOw/+p\n",
       "b4Lbs+K9ymazBxx5Gr/HC0JnOJsznuJDOK6KwAVCzDl7HUsykMfBok3djLFoTEI0MQve5SeuvDiz\n",
       "hD5Jh9Iw3oMj6eGcj5N4eSQQx89GS85uhwoMKLfqeSm+EVGrxVefEqBXz4LXL6kV3pZD7H5Q0mGg\n",
       "289uL/XpPKD63Z94vSIQe3rz5nmXGjnPQYqsNm2L2nH83AIc9deZeX45MApv5zJWKxlZB1VFCB6t\n",
       "eZ3m+fONkrykBSY6Og67uL2cAyBQfFgWIeEyBrB5D957Z+aFwJWnV5jSl5R14EOE24yIbIhM4TWa\n",
       "FNgF0ElV7Lp+pLfVaE1nOACuQXNCjVpw7MPKdlp35BL9QSXpzDsHbjysUFaj4bKsY6k1m0w6OExi\n",
       "XhFYR2cmPo+ydFRD1CjWdg6ANHQl1aj5sNyutODDPTXadl63Oy8EGv3/UEnWsfIxHgKgjZBWnxEI\n",
       "gY/m8eoUtfC3QGSSW9dwQHBHal9OjVoYR+f7RWa/6radF3LnvaQJx9aXlnXW9rcpVTdBXgwJRMvs\n",
       "m0/3s8EnwF9R/z6AX62oUZuPUfENe7pt8uQmqfCwj2wy3TZ1EM1mj2HTauFJgyWK21qFsoKJDmpx\n",
       "pwlWF9VkY/5C1WrUSIutIpXVINV2izMPvrvxIkm+0NAiMXVE3pv7AEQbiUJGADppCVXBGmrSuGql\n",
       "WVvG1NJKbJmyRo202OacObUksfPg+s6iM4+4TFxnU9LU8TwwuchXW3lKwl3aMN9BLTV5AbDCMO/l\n",
       "ID04/FON2mcc9kLizFrVbQcebD1pLFNW3hbDQdLVhI68MDYktKPncUD+HgGYTyKof3mep+anAbqM\n",
       "LtfA0D09AJH8eNIatb3TO+o6qOU31W0HnhCFR1O9jFeA0GFtL82y2tbzv4twfxqnXrxJAGLEEX8R\n",
       "uugOBqdxY8G+SJsiomY21YzH4u4hjEeXwaC6klnanyk3JDDZiFEva6dAmwRtscOWyEM8t1Jz4PVZ\n",
       "fwbs+ztpK8V76QRo+SPBRfB4JNWaNu06zcXTQxw2rjZelCRcyZLKC1vzE7elS964Wk8c7tt9d+n0\n",
       "PCbMnqdbw6vbCGRcBmzHnrkermJ/eSiLzflQ9laCRcrwn8gfSH55F75O+poAAAAASUVORK5CYII=\n",
       "\" style=\"display:inline;vertical-align:middle;\" /></a></span>"
      ],
      "text/plain": [
       "|- forall_{A, B} ((A proper_subset B) = ((A subseteq B) and (B not_equiv A)))"
      ]
     },
     "execution_count": 25,
     "metadata": {},
     "output_type": "execute_result"
    }
   ],
   "source": [
    "# def of (proper) subset\n",
    "proper_subset_def"
   ]
  },
  {
   "cell_type": "code",
   "execution_count": 26,
   "metadata": {},
   "outputs": [
    {
     "data": {
      "text/html": [
       "<span style=\"font-size:20px;\"> <a class=\"ProveItLink\" href=\"axioms.ipynb#superset_eq_def\" style=\"text-decoration: none\">&nbsp;&#x22A2;&nbsp;&nbsp;</a><a class=\"ProveItLink\" href=\"../__pv_it/axioms/fdffcdb3f24ff74c3b0ffeb5ef5a026247cee4a80/expr.ipynb\"><img src=\"data:image/png;base64,iVBORw0KGgoAAAANSUhEUgAAATUAAAAVBAMAAADV6mS1AAAAMFBMVEX///8QEBCIiIhmZma6urrM\n",
       "zMxUVFQiIiJERETc3Nzu7u6qqqp2dnaYmJgyMjIAAAAcRTyBAAAAAXRSTlMAQObYZgAABBVJREFU\n",
       "SMfNVl1oXEUU/rzZm929ezftQ0FBkUUh6YMmwdX4EtuFPkQESZ7Mm7tQhehDGurDFmprLKXdVcum\n",
       "INQX2WuVGiKuAR9CQGhMBCURWYsPirSumFAM1IakTZsUqWfOzOy92ftTsS8eOPfOnTP3O9/MnDln\n",
       "gChJ1qVGSWrC19W9gnvCRuGlr+YwS82G+L4cMm5SKcnLPmP60GZ25CTwms/yTTSqhgwQ4YXw7Bza\n",
       "acpLoms1ZOifSkmu87NWLBZPaOsD48D+IdQCuEWiasgAEV5qzM2i6X0g1ng8eGS6V6poXnd07+fL\n",
       "qpGnrRnshZ3xc4tC1ZBBFuGF8Igb5oEO8TUdPDQ+IZXks/1uWNVUs4fev2Vg7fZzi0LVkJrP6eJx\n",
       "3WYvhCe4fUSmxampcyEg55SS1HtyzW6zId9vE86DRGLZzy0KFTsM5gnH/ZBelplbB+ntUunNEJDH\n",
       "lQIx52LdFy+bwPDr9F7wc4tCZcjzne8/wbFQ81BTXhaYm007/ypQZot8Pr+xMKLX/IxS4BPkPVG1\n",
       "JGe8eXnvUdG4Ih72Xyy9ilsTVbut9PeVXVhrLn04zsvvPeXKyxXmlibzAT4S1L4ht592WwfQUaVA\n",
       "DlVPAD/NT2OLgqJAjZmAddOoTfkR+NqFtR17O8ZL4D0wyssMc0uNUWTC4O36+G+2txWQ2lZj9yiF\n",
       "eTB7yAMivSZoCsYdcV4DuGlUEuurLDX7gItOE9ZCQuKZj4rVVqGnvOSZm7lGU6jH2bL4hjxEGbQ1\n",
       "WrnFKJm5y5Aq8GsXvYz1EG4aleTn2Sl6Hgb2eWCxS8aIN9FoLy63ZOMlJp0p8YAvhtDttO4pZYO4\n",
       "mymGnWZ6axeBMOCJt4LiJlHnn+kcinEwWDdhrHpgkR+SH54EpL0MMLfYmDgDrwhDO57lAYNP7i2g\n",
       "5Swk6a+ONb1FB8puesuP67PQsm6Majij8VyHXJP1S6c8sCmnh6zi4ym3ymov7lnAl4IgfkUPj/gB\n",
       "6NKjF5SKhJTYUjXryJKy/k4eHxL4/UHcBKqJaxTH3GU3YIy5sIPTFXwoY2jam/bYSz9za5vTO2/9\n",
       "8X2F5/EeUNXDB6RO3l1FqnKrpdKM3j3YV+KRK0HcZDyRq+FSqZRBYg7JOy7shcfOPyfPijXygroA\n",
       "NL2syNwrNj0tOLU5qHIEEMDghL9mRYg1FsSNUc01k4KFQ38asa3AmhX7zq1ZGk9w+7TZ8SL9Xk++\n",
       "g+Q2ko8E1PoICar1Uqp2w4bNU646ODt3z1qv8VStl5K4jWTlmPkwvt3IjriVs4yW9C7uSMViYQdW\n",
       "0B1JyoWf5heBd4W/t7J9J3fAhot7R9p55wy/W4ZLOZSbFEPE27+8Wyo84pZojaXZ/3AnT/sDsut+\n",
       "7uSEZ9Cd/JfW/jr+T/IPCOVB2Jvl8dIAAAAASUVORK5CYII=\n",
       "\" style=\"display:inline;vertical-align:middle;\" /></a></span>"
      ],
      "text/plain": [
       "|- forall_{A, B} ((A supseteq B) = [forall_{x in B} (x in A)])"
      ]
     },
     "execution_count": 26,
     "metadata": {},
     "output_type": "execute_result"
    }
   ],
   "source": [
    "# def of (non-proper) superset\n",
    "superset_eq_def"
   ]
  },
  {
   "cell_type": "code",
   "execution_count": 27,
   "metadata": {},
   "outputs": [
    {
     "data": {
      "text/html": [
       "<span style=\"font-size:20px;\"> <a class=\"ProveItLink\" href=\"axioms.ipynb#not_proper_subset_def\" style=\"text-decoration: none\">&nbsp;&#x22A2;&nbsp;&nbsp;</a><a class=\"ProveItLink\" href=\"../__pv_it/axioms/47552ff6ee0631fd97025ca9566362aca93064d10/expr.ipynb\"><img src=\"data:image/png;base64,iVBORw0KGgoAAAANSUhEUgAAARkAAAAVCAMAAABFe2rqAAAAPFBMVEX///9RUVGurq4bGxsLCwsQ\n",
       "EBCIiIhmZma6urrMzMxUVFQiIiJERETc3Nzu7u6qqqp2dnaYmJgyMjIAAADYQjYbAAAAAXRSTlMA\n",
       "QObYZgAAAx1JREFUWMPlWNkWnCAMtYuCEPb//9cKiBIWwemc04fmYa6KkjvZCCzL5yIMxifRsj+m\n",
       "xDt98wOTkghgtNe4eTm/BIxRdtvkjp8a5hwjhAFQf8vEG32DgTaBQjoEEGqV3rbynWWswHjeuda7\n",
       "jBYP1vhviNv9X7Nv9A0G2gQqaRJAKJLBBbwzjCEYzzvrGgau5t5dDFDqwtd6m9c3GGgTqKRDAGEK\n",
       "lTt45oQLjNHYijjsWgOc89+/ON/zp9v5lnGBilzn9T0PdAh4mSGA0GjpRfCX5ZdjPGkcKimqL1q0\n",
       "whHWkwCPfrF0Vt9goE2glh4BhA68cP3OMhvBGGNTLsqZyp+wl187FkKasxSwZFbf80CHQC09AghZ\n",
       "4A3ZFPk1BUf0UcRLDWAwBg9Qn8BZzSAhQ3eos5wZswFXd3W413ebCan01d4fE2iVmQ4BhJQUy4NB\n",
       "8WhC3OmyEqRJeabbfyZc5sMY6HXInFkuV5Y6imEun3oIv0RPE2gEWo8ARv+z3ZaXBMUjCR+rsuKv\n",
       "FKN3xNEhEObuCBExZFkvyw+CKvlwuMqWlUiwWQL9MlMTwKgNMq6WPE9dHoKT2GVomXi12qIFA9HJ\n",
       "ck9s+6ZlOgS6ZaZBAOPRoGZ+3bcFsgllaIW2qg2ssyk9WHEwU9ZtJhaW8pbydp1hlb7KMkMCD91M\n",
       "TaBAEFmPynwyZ6nrtqNUsW7huwqgUHUP6humRuuamon9Cnwz7IKrCpwsMyTQLzMNAgWqzBRG+Q+z\n",
       "ucMrW2X8cpm72grIOy2raGO1tdGrdIUUiWTYM9Tr+j5HoLmf6BIo8V7opCVaQ1ZuIbwiXKkBh50E\n",
       "50LCqeMiK1OSrT/LPGQ27ebuOe0+sgzljwN9Aoy+IVCiuT4mMtjhJhpNQp2Y2h3UG/wfGhrNeblb\n",
       "nmjA53YHjZryhkCJmQNi0voCJSAaKfyuenJHWcXt1Ab+izvKz6S5o0RlLlQkAY6bZV+PaNHc+RYB\n",
       "WtuatBrDg8/U1J5j7hSiqwfE3xqmeQrxlAmfnFx9EjLwzZOrT6R08oDQ8BBy4rSTzvAy//q0MxEo\n",
       "sfv+8l/LH6VVMR9UA1rdAAAAAElFTkSuQmCC\n",
       "\" style=\"display:inline;vertical-align:middle;\" /></a></span>"
      ],
      "text/plain": [
       "|- forall_{A, B} ((A not_proper_subset B) = [not](A proper_subset B))"
      ]
     },
     "execution_count": 27,
     "metadata": {},
     "output_type": "execute_result"
    }
   ],
   "source": [
    "# negation of (proper) subset\n",
    "not_proper_subset_def"
   ]
  },
  {
   "cell_type": "markdown",
   "metadata": {},
   "source": [
    "## Theorems & Conjectures<a id='theorems_and_conjectures'></a>"
   ]
  },
  {
   "cell_type": "markdown",
   "metadata": {},
   "source": [
    "<font size=3>The `logic.sets.inclusion` theory already has a substantial number of related theorems and conjectures established, covering a wide range of containment-related concepts, most of which would typically be used implicitly behind-the-scenes when utilizing the various related containment class methods instead of being used directly and explicitly in theorem form. The theorems and conjectures cover topics such as transitivity of containment relations, folding/unfolding of containment definitions, relaxation of strict containments, and containment claims being in the Boolean set. Some illustrative examples of the theorems are shown below, and the remainder can be found in the [containment theorems notebook](./\\_theorems\\_.ipynb).</font>"
   ]
  },
  {
   "cell_type": "code",
   "execution_count": 28,
   "metadata": {},
   "outputs": [],
   "source": [
    "from proveit.logic.sets.inclusion import (\n",
    "        unfold_subset_eq, fold_subset_eq, subset_eq_reflexive, reverse_supset_eq,\n",
    "        relax_proper_subset, transitivity_subset_eq_subset_eq, proper_subset_is_bool)"
   ]
  },
  {
   "cell_type": "code",
   "execution_count": 29,
   "metadata": {},
   "outputs": [
    {
     "data": {
      "text/html": [
       "<span style=\"font-size:20px;\"> <a class=\"ProveItLink\" href=\"proofs/unfold_subset_eq/thm_proof.ipynb\" style=\"text-decoration: none\">&nbsp;&#x22A2;&nbsp;&nbsp;</a><a class=\"ProveItLink\" href=\"../__pv_it/theorems/5858156414a270279730f76d36638b81164d2dfe0/expr.ipynb\"><img src=\"data:image/png;base64,iVBORw0KGgoAAAANSUhEUgAAAPcAAAAWBAMAAADuuhdHAAAAMFBMVEX///8QEBCIiIhmZma6urrM\n",
       "zMxUVFQiIiJERETc3Nzu7u6qqqp2dnaYmJgyMjIAAAAcRTyBAAAAAXRSTlMAQObYZgAAA4FJREFU\n",
       "SMe9lk1oE0EUx/8m2TS7SZqeRNBDsAdLsRooVJSqsV4UKo09iDeDWqgHMahYv42idtsqiRctgnZF\n",
       "sFhLDXhSD8YWsbZ+xAp+iwseCj3U0BqtlaLzsclOQ1JtRN9hd2bem/d7M/Pe7AIFimU0MLPBpZmU\n",
       "twH3sB86bX+YPdzlL6YvdyKPXgnnHH75c1uV6oc9Sj1gkA6NFAJ3xcirWMujL47mHp8HWFNQdAZv\n",
       "JwNyuBA4m9WeT/8i97A0BdjGgV4Gp6GzNcwazvZrMJ/+wLTe66YmnafKd3JUY8AV5sE90NV1AQXB\n",
       "33d1XQ/lUcvTFJvL0y1HCQEfJKfipx4woaqHC4N7VLU5nq8YfCTnFu6o6WXJZ+aUJwhpH91sH4M3\n",
       "AC1snD/Xjfc1slyxZYLNpI4tUl3VYsLtAUGXZesgVdCNV96jtGM3rbbsHGqmh+zWGXwtSz3S/cK0\n",
       "7hK4Stj0tP1HYtStqqdJ8zlw34TbfOjJWjC1ZVJECAN4pq2f5gpYGoUyl7ydIQYvgoXV6tUpprUG\n",
       "4ZwUZyirE5BO8XYVcE/LwBFCRdrpjb6Vhi2XOUStQeWdjaNEeMIdpwGQwKQk8+BKFLHhgT08ZC+s\n",
       "ugh3dfoy7d3AKnPleIJ0WrnbLmqGrQkHxnhHqMevFO7NwGV9EytALw/zZgBLNBFe7wjjrrEJKVhG\n",
       "BPhlKUgapfUN5Owytua2Q0oZkUwrc+wiU21829GynSUFljF1XUVZECI8aA1huZFwY0OnhWyH4zx5\n",
       "lNv1vfyS5rZmwt2xJMFqzOrNFAEpc2nCTDjcYhPeYSlTPwUWiXB3jLh4ZAB1WEIC3EnjDRQnoPhM\n",
       "W0Ptg+2HIynzHDiUuXRJLq9ppfHEOdxD41I+PY6w3T4DdMQEeE91/yRqjOXEIf8Q4PxMPVFI+1X1\n",
       "hGFrbFIIytbyUuOLde0kT1P756+VjW0sigD34KYKq4YO9o0kzuuiAnwF5FS6fD0x2L6L8LesdBFA\n",
       "0LTNeb3WNhvXa1o6DQ9MNhDXCbkV8iTkBcK228i+TUE5y+gdGs7FRTi9R5NPEccD03bmD0taegW4\n",
       "YwJy5Ig0Hw/HKxv9AjwSRvu3BJz95JJxHausOoksuLKzdrEGR8y0zb4Xc37tdXHlXJziTfnbu12U\n",
       "Mnrmf/AzIYSWDb/953DL0b/5jXpDHAxnwRN54O0qEfxHsf57xC8BVPer1lKnkwAAAABJRU5ErkJg\n",
       "gg==\n",
       "\" style=\"display:inline;vertical-align:middle;\" /></a></span>"
      ],
      "text/plain": [
       "|- forall_{A, B | A subseteq B} [forall_{x in A} (x in B)]"
      ]
     },
     "execution_count": 29,
     "metadata": {},
     "output_type": "execute_result"
    }
   ],
   "source": [
    "# if A is a (non-strict) subset of B, then\n",
    "# every element of A is also an element of B\n",
    "unfold_subset_eq"
   ]
  },
  {
   "cell_type": "code",
   "execution_count": 30,
   "metadata": {},
   "outputs": [
    {
     "data": {
      "text/html": [
       "<span style=\"font-size:20px;\"> <a class=\"ProveItLink\" href=\"proofs/fold_subset_eq/thm_proof.ipynb\" style=\"text-decoration: none\">&nbsp;&#x22A2;&nbsp;&nbsp;</a><a class=\"ProveItLink\" href=\"../__pv_it/theorems/b410f7e6f7fbf9c617ef0e33526c9102d576c3ba0/expr.ipynb\"><img src=\"data:image/png;base64,iVBORw0KGgoAAAANSUhEUgAAAO8AAAAWBAMAAADaw9ZbAAAAMFBMVEX///8QEBCIiIhmZma6urrM\n",
       "zMxUVFQiIiJERETc3Nzu7u6qqqp2dnaYmJgyMjIAAAAcRTyBAAAAAXRSTlMAQObYZgAAA4VJREFU\n",
       "SMe1VltIFFEY/prd1Z3Z2dW3AiP2qSKyhM3tRWohEOmC+5Q9VC5kYD6YJbFFRUZSYwW7vVQQ5YhQ\n",
       "4YtGEQlCthWSRWwXoqhso6eKSLREjbL/nDOzM3vJLmwH5vzzn9v3z3e+/5wB/kc5/5v+fnpS7OV1\n",
       "YXGVNm5cqZwe786JQGM7iuLAfeZ/KCywLy7MqOE/i0aje8TrHIppdVihkM6SJ7cVFviJMCPTwl64\n",
       "Z3XVJ4HaCiQoLB1Q+woLvE8QfnVKuO9tXcuJjDd+dBHrwz09ZwqLK7eI/ZS+cOuwf9ZhCmiuDl8I\n",
       "mNS0A/+wejynJWy+SBXcrPV857bYPmgCqGsijmnIdqCDt4m6Zvx2I1/UOSuuanecsapgB66ZrjvJ\n",
       "mQ65xrh72jbSNfF68X7GBqlrDRQue68gxlsKtZRP5zSRAoryAe/I8B4Bt+AwSSjuE4HL49y9bBso\n",
       "0bZ3RQBPC2NC4hF2C2IcEXim08CuwcyI05EPmik7EKDZQeCmrkSMtjkhVm8MBCdzqHbTN0nfaD5l\n",
       "mpoUPcOtYpgfjlQaGJRolXmAi8wNfd7fQ/VuYJWlXgFM1QKxK35rXgkFJ40JYDm1kX+DX+NdvWEs\n",
       "0y3gEU3Ll+Qs1kTlwrCT60j5ConOoHI71R56dgn/Y2YaF9GeOpnwOxr4N2Al76otXywocxu1NyPJ\n",
       "B4ShBJT05uKQT4hr7PFRMtft4jpHz2fhX2zQ7Wlc3ybEhas87V5iOe96CCyyAathd8YpvFfYGqII\n",
       "n0gYYlAKUgtvFG6FkcsxQ26bj5lH5luKch6F4WAaKWF7oLx7EONxnQQ6+yxgJbLeON4DAbbmFeFV\n",
       "s4oUWqdpmh/uQcikmK1mdrVAif3QcWOmNWuHmme2BTW2uo9pxKuLvOnkgqEFauMWMJqaIC8tj+Au\n",
       "99b1CtY2MVWMuoxUK+mDc8qIxjoyZyuX0m8baHpSPg55GvJ8G9WopvRytg0qQpoVQrFsYqeaUmkn\n",
       "mNep4xRx9yrrkpilJNL5NQk5dtBVhqHxQGPIDlxMS0t+OI8wqtWqoaRo1XHxaWIYOMH4PxQItpNd\n",
       "kV4t4zxVo1HrWjSkkn1Te+y5bs10h5MKPzG2cOGwE8iUusT22CiprB+BXxd3PM8vSS6w43EijDsM\n",
       "pQwXymAeLNnFk/zjX58X2Q3JvMA2Vds1kV26C3SrOmbt9eRei0v+avmf/xbZW+4CTAIAAAAASUVO\n",
       "RK5CYII=\n",
       "\" style=\"display:inline;vertical-align:middle;\" /></a></span>"
      ],
      "text/plain": [
       "|- forall_{A, B | forall_{x in A} (x in B)} (A subseteq B)"
      ]
     },
     "execution_count": 30,
     "metadata": {},
     "output_type": "execute_result"
    }
   ],
   "source": [
    "# if every element of A is also an element of B,\n",
    "# then A is a (non-strict) subset of B\n",
    "fold_subset_eq"
   ]
  },
  {
   "cell_type": "code",
   "execution_count": 31,
   "metadata": {},
   "outputs": [
    {
     "data": {
      "text/html": [
       "<span style=\"font-size:20px;\"> <a class=\"ProveItLink\" href=\"proofs/subset_eq_reflexive/thm_proof.ipynb\" style=\"text-decoration: none\">&nbsp;&#x22A2;&nbsp;&nbsp;</a><a class=\"ProveItLink\" href=\"../__pv_it/theorems/2f0043d298751dba99884bff4c0d249e0c203e340/expr.ipynb\"><img src=\"data:image/png;base64,iVBORw0KGgoAAAANSUhEUgAAAGwAAAAUBAMAAACaOcVSAAAAMFBMVEX///8QEBCIiIhmZma6urrM\n",
       "zMxUVFQiIiJERETc3Nzu7u6qqqp2dnaYmJgyMjIAAAAcRTyBAAAAAXRSTlMAQObYZgAAAcRJREFU\n",
       "OMuFVDtLA0EQ/oyJyV1yml8g+QcJBLRQMGAhCEKqlEbwhZURi0NQSJlUl05BxAMtJIIIFtoJWijR\n",
       "4sBSlIDaBEHRgFHwMfuI7GLUgb1vd76b2XndAS1kDX9KuARU2eZKU5t5DoFqK5tRWjPAGdvXNKaz\n",
       "JOBRHK1p27bTTfKB1g6wQmDkNbMLAddvHIz7ksJZDy4QiaGTwa5mtiBC3XtV75ayPUBHMwqrUi4v\n",
       "a1ZGTvj11Tn2aaQXT9HzFmgUCosa40twGA6/c8ypnN899AiOgUmgyFVFSYU8HmMq8MTvHlPNNpGN\n",
       "sbSBQZi80lZdUkGeqR/Gs9INKSmss1j26S34uPuNd0m1seiRSfY0fgQZGE/OMjdZKqMX5KrKvGZG\n",
       "j25+PFJTI7YqzIxqhjuKFdQgw7TmRAOU7tA2GCUcYqWYYJoO9KolWZUDQclNDX+3ZlfODpUEezz6\n",
       "S8QlGUnI3jmi0YHT5nCx/obYEPTT6mIlNW/OHVcmkIPpfLg4+JzXp3jrs4aw80Je71jl2evtLtbT\n",
       "2nD9IeZ3dUfoVk8f5d8lEmuWoQHDWWoetOE9sW31w4H4cFrFkP/ntmJr9T8/BauEL2dybp5wiLXZ\n",
       "AAAAAElFTkSuQmCC\n",
       "\" style=\"display:inline;vertical-align:middle;\" /></a></span>"
      ],
      "text/plain": [
       "|- forall_{A} (A subseteq A)"
      ]
     },
     "execution_count": 31,
     "metadata": {},
     "output_type": "execute_result"
    }
   ],
   "source": [
    "# a set is always a (non-strict) subset of itself\n",
    "subset_eq_reflexive"
   ]
  },
  {
   "cell_type": "code",
   "execution_count": 32,
   "metadata": {},
   "outputs": [
    {
     "data": {
      "text/html": [
       "<span style=\"font-size:20px;\"> <a class=\"ProveItLink\" href=\"proofs/reverse_supset_eq/thm_proof.ipynb\" style=\"text-decoration: none\">&nbsp;&#x22A2;&nbsp;&nbsp;</a><a class=\"ProveItLink\" href=\"../__pv_it/theorems/92dc7ebf108e9ba96bde8cf6665d4cc5aace11f50/expr.ipynb\"><img src=\"data:image/png;base64,iVBORw0KGgoAAAANSUhEUgAAALoAAAAWBAMAAACF/ptXAAAAMFBMVEX///8QEBCIiIhmZma6urrM\n",
       "zMxUVFQiIiJERETc3Nzu7u6qqqp2dnaYmJgyMjIAAAAcRTyBAAAAAXRSTlMAQObYZgAAAtZJREFU\n",
       "SMetVU1oE1EQ/rpJ2t1NNvamoIfc7EUrBCJosQEPiiANCrUnE6g/1YMtegiiYgUpW1EST/YiWVFQ\n",
       "KtSgB/HUapGWKhL1KLUR9VKEltb+I3XmvW760mqrSx/s23lv3nwz75vZWcDzuLuOPpgFiiwMewA3\n",
       "2wGrdTracv1P2uP0nAHesDzqAT1MoaGCXNQnxNo6nU6nE652jJ4eoIteRrsH9I88JQtAwy6WjB9Z\n",
       "RWmNOUAogjC/8h7QL/JUS5AjkdJVSuNxPS3NalhD3d13PIAbbTxfI4zNDkt7y7SF2jjN34BZ277s\n",
       "AV0TfEwDx86KdZuq9Du9RBn6gZNAp9iS88HJ/hZxSb97VC/d2Z+pi3W6u2wemB6uuSSvklLRHyDJ\n",
       "dH0G9sMUVWn9lPmoRqhamLtHR+Josu1bLL4HXi7tVnGutDngXsqtz+URR46v9pyOQeMwcP+XUPhS\n",
       "CM6r6Ga9UAfZPAb0OnK7gonVKQ5tYRUzgeZoKx9PUsEUqsTW0AUZUwS+oooeeigYRiM954F9UNA3\n",
       "UdzahFi/UmkndVGiG8VG4S9iC82TBHY6KvoRXV660oE5BW1UZYbLvVIyGlaqmsQqZvcAZ/OEMMZu\n",
       "oWnYUSMT5KKnfPLSVhz+iQ8dULPK5Z6Uzs1Th0rFSujhcZlVPBPWn1ArVO+A7Sq6ldfGZQkmECpC\n",
       "c/kNMV9fiIUtS4kIDLqdgD8fnfKNOiaPi8f8+jYjjt0EcnkFvaducN71pvfBWHC5JTfnFptj9qrv\n",
       "/NHiKIKZGfL+naNjVJ+DnHBM1g1ZBX0PjCkhPKU48vDPlXWCtbtoqY4Ok23BuAFjHsY2hRk/0StK\n",
       "9SjFknNwu6+si605QhE3R7MwMlcCWzEwGW2JK+iZdnTNFJrsjtd0+mo0ttzM9bK2hYF0Wu3AkB24\n",
       "/HeiyPo//D3WHp0r1i/+A33dP5+VXbFR+As69Rm7Axs5fBuA8RuYnbRgQbcVWQAAAABJRU5ErkJg\n",
       "gg==\n",
       "\" style=\"display:inline;vertical-align:middle;\" /></a></span>"
      ],
      "text/plain": [
       "|- forall_{A, B | A supseteq B} (B subseteq A)"
      ]
     },
     "execution_count": 32,
     "metadata": {},
     "output_type": "execute_result"
    }
   ],
   "source": [
    "# supersets and subsets are related to each other in the\n",
    "# expected way\n",
    "reverse_supset_eq"
   ]
  },
  {
   "cell_type": "code",
   "execution_count": 33,
   "metadata": {},
   "outputs": [
    {
     "data": {
      "text/html": [
       "<span style=\"font-size:20px;\"> <a class=\"ProveItLink\" href=\"proofs/relax_proper_subset/thm_proof.ipynb\" style=\"text-decoration: none\">&nbsp;&#x22A2;&nbsp;&nbsp;</a><a class=\"ProveItLink\" href=\"../__pv_it/theorems/7ffc508d85358e43f8b36ad2fe2274af22b02ba80/expr.ipynb\"><img src=\"data:image/png;base64,iVBORw0KGgoAAAANSUhEUgAAALkAAAAWBAMAAABuySBUAAAAMFBMVEX///8QEBCIiIhmZma6urrM\n",
       "zMxUVFQiIiJERETc3Nzu7u6qqqp2dnaYmJgyMjIAAAAcRTyBAAAAAXRSTlMAQObYZgAAAs1JREFU\n",
       "SMetVU1oE0EU/tyfNLtJak8iKBLwoBdtIBBRika8SFFaPPQkGLBCD4rRokFRjCB2W4XEixZEuyK0\n",
       "koMGetGTtSJqFYkVBBE14Ml6aGlsTSO1vpnZTSdtrbg6sPvemzfzvd+ZATyPG3/QP6CvyJgPHsDN\n",
       "NCd6cZHm7dzBmBWHLwu8YPKYB/T6rCATLmYqlToh2NWAOgWT7PaSZKQ9oL8R5GNF0JvPqxp9FtBK\n",
       "wDDZtoFg3gP6KZGfwRkhfpnXKDQVmgRuERnJ5a55ADeSnISUb5yqkoP+BkI+TY7HgbJlnfGArkQ4\n",
       "aQ7MclonqVYmoJ9kKaElh4BuPin+u0uPO3i9tKorWZfTMk2xbne2wBMT1ye5eFVCP3BktIuFEqKy\n",
       "7uLFJV6EGGpAsIFvdxd/ilf3vQYeOWxdXrhglLh4R0JvzMJcRTSQZDEp3I3bIkQ1gUBFRjd3kFpf\n",
       "H40SHwMe2mJ6BbfZFo2VF2XmPLNAxnVq1mBBaEY6xbIw1KKMHhyIwDzcnMsRfxzYDhmdfuvEqvA8\n",
       "+jRDDwt0o9jGmzRscdW9Vmy2ZfR9/jR8rSKMKShjcmYC9B0T8teadsdRsquxtupuZ3M+bOG6lk0b\n",
       "E5DRE2oSe5yqTo5ehFzV6/SNC7m/3ZbaXS87VcUg79z3aOS6V8AGGT2UVybwxElSEUrSTVjE6fmM\n",
       "01L7u5yboJ6aYmcPK+EQa0+WMvPzyww3fhnoy0vod5ueVbDV8XcIxg+3O5MwMz9t3J/rrD0IvvHp\n",
       "aMclboblM8RQVRt9PLm0uyUroW+DMUWBiWOShzZTexMsNwaq3F7aWzB6YFRgrJUyo1F6Z91u7rNx\n",
       "ZWjBLbbMGK7WqAwjc1Zfg6elaEdcQs+k0fu9oPETGjwXjV3A4iPMdanU/A3sHJSFN39A4v2yot+y\n",
       "rKVfj9+PWvPOY7UkupeX793CicLfoP/TUP8Dxi9bSbT1CXT83gAAAABJRU5ErkJggg==\n",
       "\" style=\"display:inline;vertical-align:middle;\" /></a></span>"
      ],
      "text/plain": [
       "|- forall_{A, B | A proper_subset B} (A subseteq B)"
      ]
     },
     "execution_count": 33,
     "metadata": {},
     "output_type": "execute_result"
    }
   ],
   "source": [
    "# we can \"relax\" a strict subset claim into an improper subset claim\n",
    "relax_proper_subset"
   ]
  },
  {
   "cell_type": "code",
   "execution_count": 34,
   "metadata": {},
   "outputs": [
    {
     "data": {
      "text/html": [
       "<span style=\"font-size:20px;\"> <a class=\"ProveItLink\" href=\"proofs/transitivity_subset_eq_subset_eq/thm_proof.ipynb\" style=\"text-decoration: none\">&nbsp;&#x22A2;&nbsp;&nbsp;</a><a class=\"ProveItLink\" href=\"../__pv_it/theorems/ebd6274bb8413d83fd4ba6bedca9b5b35737ec490/expr.ipynb\"><img src=\"data:image/png;base64,iVBORw0KGgoAAAANSUhEUgAAAPcAAAAWBAMAAADuuhdHAAAAMFBMVEX///8QEBCIiIhmZma6urrM\n",
       "zMxUVFQiIiJERETc3Nzu7u6qqqp2dnaYmJgyMjIAAAAcRTyBAAAAAXRSTlMAQObYZgAAA3hJREFU\n",
       "SMe1Vl1IVEEUPt27q96/9L2o7SkLSkPYfljS6iWC0Aykhx4W1sCXYEtiKxI3qG2NYreXEqL2hpAm\n",
       "Vgu+JAVtBqUWdSsIJaqtnrKHRJPMsjpz5v65/gWtA3fmzJ0z8505850zA7BY5coC4z34ZZnwNv/Y\n",
       "cpQab3aWodLQQSlTkAR4wrrD+QdfmuTNiNl/HYlEjnBxlQHKBkNGs1qxJ0XzD/6KN+8meXu13x7p\n",
       "OI5VZRJ60TQdQE3nH/wY93D3D9797Ix8QETYBnANQBvo7LyUf2wpTI0mfKNWdLYn/mT1Xtx2FcBE\n",
       "PH4i/+BCOTW7lClqC52RFJl1A/2NKgcAWugvr3eOPWzgXNFiAYFJHmtaUdKSPImAP1edlcFQZo2p\n",
       "a5DXq7yj1L3ogD/3mYKGjNsBMoWDxh2klYBaQo77CPJJWsea9h791BWPx1B8AfDApS73xeNBZJUP\n",
       "Okq4biH52QPSGCeZA95cYwpKmHlEICvbuIPEICjE0BRCDbrB5UoDvKe57Ae4rzvq+2hBCc3XzMBZ\n",
       "UsXqugr/RK7bV9I8rLwYharBRwYauZoPRPIEI0KtG1xtL7flwwBbXeocsTCDK/rc4Fit4HN9zs5p\n",
       "1zUcXMrWUSryxWnsdg2sZ7YJbPudbvDaoijcNZ0wDsKwo65wLpfhPFl3uV3B7xDvf7HBKxlFVHYm\n",
       "jHkt9exfAWyksep1pUGabSceCzwohmGzSbjRlzFw1EVOuaMuthPhLuP3lfev1+sW25kTBkzCQTdx\n",
       "/w2U0dgzgNWsLc7kgGtpYQTMPKVmQQg76ioH/+UCZ3FEsZ4wY2H/GTO9suDrZpaIDKGYmSJ/epog\n",
       "286hbWnzAGXDBX4r0DcJ2017MiBRruDqHn6ijCU3rWAMg5z4rcOdP425KaAtFiJCLGUs1cgMHVJE\n",
       "WVyzmhkrRvnJ2OBbQBq3Qr04DR6eN7k6j/lN+GWmp9f5Srst7cYVDeksSJMgLcfrRocmkPtd4B70\n",
       "whTI5wk9pcMF3Lyt3jFENDGgK5lzscxTeu1znQAp0eRdBo/HKhrQKXvSoIZ6dRd4Igqt3/Eu7MMk\n",
       "ozZX+E9hgNjqcI+SzKPAWpiZDokCkYhzpZoRk3vTK7bkuueK5rRdWfgxMXeZbp35tOHLJv8FvOd/\n",
       "nlFDuT8MS9BgdvDWOJYZ6hL7uwgPEsb7RXtj/gWHMvKyA0iD+AAAAABJRU5ErkJggg==\n",
       "\" style=\"display:inline;vertical-align:middle;\" /></a></span>"
      ],
      "text/plain": [
       "|- forall_{A, B, C | A subseteq B, B subseteq C} (A subseteq C)"
      ]
     },
     "execution_count": 34,
     "metadata": {},
     "output_type": "execute_result"
    }
   ],
   "source": [
    "# the subset relation is transitive\n",
    "transitivity_subset_eq_subset_eq"
   ]
  },
  {
   "cell_type": "code",
   "execution_count": 35,
   "metadata": {},
   "outputs": [
    {
     "data": {
      "text/html": [
       "<span style=\"font-size:20px;\"> <a class=\"ProveItLink\" href=\"proofs/proper_subset_is_bool/thm_proof.ipynb\" style=\"text-decoration: none\">&nbsp;&#x22A2;&nbsp;&nbsp;</a><a class=\"ProveItLink\" href=\"../__pv_it/theorems/d281045225e51c3d0b2d4e8ebdcc52f3696eaa960/expr.ipynb\"><img src=\"data:image/png;base64,iVBORw0KGgoAAAANSUhEUgAAALcAAAAVBAMAAAD2lGJJAAAAMFBMVEX///8QEBCIiIhmZma6urrM\n",
       "zMxUVFQiIiJERETc3Nzu7u6qqqp2dnaYmJgyMjIAAAAcRTyBAAAAAXRSTlMAQObYZgAAAuBJREFU\n",
       "OMutVU1oE1EQ/sxfs5s0zaEQQZGAB3vRFgt6ERrwUClIcqoXsYFWSD3YikiQqkQRmorSnKwnE6lo\n",
       "qBALHsSTpTmoVWSPikYj6sEKtliJbUXjvJ/dbDbZgOAHs/vezHvzZr+Z2Qe0gqIJaQVfprn+EUmZ\n",
       "DUo2G/NSCMcajO1jld7EZWC0Xu04lf4TGgE8dOhzpli2cf5FCmGl0bolBfTFULCoA+5wflaDSmHf\n",
       "YF+fau67vUcIG67kGsxDRFi0B/5wvdrr0hwx8rhI59Am/3xz520ZIYR7fZLaV8lk8owYdpPqfRhq\n",
       "UIYymbwgnfvmyfktUi3Nzc3YsDIjhaB1R/j75rOa+SKghii2T3zmvpQzIvcPkPMA7VhPp8/ZON8p\n",
       "BXDlHouiOWsyV4AjJ+hd5LNCrkZL/2CM+CBCjwNTXCmeh9aKCb24rkkBbmOIM+s0EeiulLom2OAd\n",
       "n47WOA9VOxlNlNGDPK80/iGYC8IvScSEFCCCLE9sm7nmNojXOA0e8mnKlFB/aYEaYJytd/Avnv3N\n",
       "Tc44fJtyWacUuId7x/jm6+aqoBgcv1jV8CU7vhGkc6QOk2aVqNFEOEunRYWE4SxbnbuoqMuodRRH\n",
       "B0Xt+K47V8yRI+URzpXyID85nOam+zHsyVlpIabbglZaWJl7GJf9fBo0O48HKKJxlsgRpvJgPzdF\n",
       "d3fFYUmoQs4Dq0xjbhhW5kMpI6F76yJ/KxKKB+wEvEE3N70EdunLilJYrXs3uOprzfkHCm4r+8gD\n",
       "gs95o/0X/EUK0LnAuGPRqB9fTHM2rgJZfVm/kHx1Gb7pn7xc7ozonJ2sDu9L85Wf+VxNDNT9uBCI\n",
       "seJjy505ZNkElP5oprH9DRydNNpfQh0Xb9dT0f467hojKp0OTbkCZRPK9iY/rhaw/rh0LBpJWIcy\n",
       "fd69DU/WehMRwz5lNG4LFJqr1bL1VrG/LOxhc7o30+Rq+tdrrt3mmnttVWj4r/gLpCfCqvXZkQMA\n",
       "AAAASUVORK5CYII=\n",
       "\" style=\"display:inline;vertical-align:middle;\" /></a></span>"
      ],
      "text/plain": [
       "|- forall_{A, B} ((A proper_subset B) in BOOLEAN)"
      ]
     },
     "execution_count": 35,
     "metadata": {},
     "output_type": "execute_result"
    }
   ],
   "source": [
    "# a subset claim is a Boolean value\n",
    "proper_subset_is_bool"
   ]
  },
  {
   "cell_type": "markdown",
   "metadata": {},
   "source": [
    "## Demonstrations <a id='further_demonstrations'></a>"
   ]
  },
  {
   "cell_type": "markdown",
   "metadata": {},
   "source": [
    "<div style=\"width: 90%; border: 5px solid green; padding: 10px; margin: 0px;\"><a id='demo01'></a><font size=4><font size=4><b>1.</b> Some subset relationships among standard numerical sets, deducing some standard memberships, and deriving $\\{x\\in A, A \\subseteq B\\} \\vdash x\\in B$.</font></div><br>\n",
    "<font size=3>We begin with some simple expressions involving well-known numerical sets. Many standard subset and membership relationships involving common numerical sets are available as theorems, with many such theorems automatically imported and utilized. For example:</font>"
   ]
  },
  {
   "cell_type": "code",
   "execution_count": 36,
   "metadata": {},
   "outputs": [
    {
     "data": {
      "text/html": [
       "<span style=\"font-size:20px;\"> <a class=\"ProveItLink\" href=\"../../../../numbers/number_sets/natural_numbers/_theory_nbs_/proofs/nat_pos_within_nat/thm_proof.ipynb\" style=\"text-decoration: none\">&nbsp;&#x22A2;&nbsp;&nbsp;</a><a class=\"ProveItLink\" href=\"../../../../numbers/number_sets/natural_numbers/__pv_it/theorems/9f9d3482e0a0bd2266ab91f773870128780d9ae70/expr.ipynb\"><img src=\"data:image/png;base64,iVBORw0KGgoAAAANSUhEUgAAAEcAAAAUBAMAAAAthD11AAAAMFBMVEX///9mZmaqqqrc3NyIiIgi\n",
       "IiJUVFTMzMyYmJi6uroQEBB2dnZEREQyMjLu7u4AAAA1o4RqAAAAAXRSTlMAQObYZgAAANRJREFU\n",
       "KM9jYCANsBGjiIceit7+OfuAYdevCdgUIeROsCcw8H1gyL176+7dBjRVUDkGhtQCFwaGBditg8tl\n",
       "nmMrYAhAUdQTGhoazoAsl1zGdw9Vke1mGAsul8zkUIaqKBhuJFwumWEnhwOyIkYFhCKYXDID24N0\n",
       "EIMZKsPKgKQIKpfMwJfAuwDJS2bIiqByyQwM1ezIit4gK4LKARkcCgeQFKFYB5VLB+LNyIq4HeBM\n",
       "uNwlkIcuIIfzJRQWSK70F1AlH4qiZ5kPIAwscghQfRQaLVAAAIRnSmUaYQ4LAAAAAElFTkSuQmCC\n",
       "\" style=\"display:inline;vertical-align:middle;\" /></a></span>"
      ],
      "text/plain": [
       "|- NaturalPos proper_subset Natural"
      ]
     },
     "execution_count": 36,
     "metadata": {},
     "output_type": "execute_result"
    }
   ],
   "source": [
    "ProperSubset(NaturalPos, Natural).prove()"
   ]
  },
  {
   "cell_type": "code",
   "execution_count": 37,
   "metadata": {},
   "outputs": [
    {
     "data": {
      "text/html": [
       "<span style=\"font-size:20px;\"> <a class=\"ProveItLink\" href=\"../../../../numbers/number_sets/integers/_theory_nbs_/proofs/nat_within_int/thm_proof.ipynb\" style=\"text-decoration: none\">&nbsp;&#x22A2;&nbsp;&nbsp;</a><a class=\"ProveItLink\" href=\"../../../../numbers/number_sets/integers/__pv_it/theorems/d41d654a59eae2353d0659866c1e7bfe3eb3ac620/expr.ipynb\"><img src=\"data:image/png;base64,iVBORw0KGgoAAAANSUhEUgAAADkAAAAPBAMAAACsFXoGAAAAMFBMVEX///9mZmaqqqrc3NyIiIgi\n",
       "IiJUVFTMzMyYmJi6uroQEBB2dnZEREQyMjLu7u4AAAA1o4RqAAAAAXRSTlMAQObYZgAAAPZJREFU\n",
       "GNNjePvn7AOGXb8mMKCAqevX3opdAWScYE9g4PuAKsngI87Ay3AAyEgtcGFgWIAmK83AsIkbZF7m\n",
       "ObYChgCIYE9oaGg4iCHHwJxQCGIkl/Hdg8rabkbo5nlwDizL5FAGlQ1GMruFowEsy7CTwwEsy6iA\n",
       "kOQ78IYBIsv2IB0sy4qkla0gGSrLl8ALdrMZkuxEzg1QWYZqdrDsGyTZCzwMDNwPwLIcCgfQTOZW\n",
       "2MnAwAVkpAPxZrAstwNc1ow5gYFBCsi4BHLtBbDYJbjsOZ4HDM96GBhKfwH18UFkn2U+gEhyrrl1\n",
       "5tSvg2jBW30UGpJQAADwfUE6b5/KAQAAAABJRU5ErkJggg==\n",
       "\" style=\"display:inline;vertical-align:middle;\" /></a></span>"
      ],
      "text/plain": [
       "|- Natural proper_subset Integer"
      ]
     },
     "execution_count": 37,
     "metadata": {},
     "output_type": "execute_result"
    }
   ],
   "source": [
    "ProperSubset(Natural, Integer).prove()"
   ]
  },
  {
   "cell_type": "code",
   "execution_count": 38,
   "metadata": {},
   "outputs": [
    {
     "data": {
      "text/html": [
       "<span style=\"font-size:20px;\"> <a class=\"ProveItLink\" href=\"../../../../numbers/number_sets/integers/_theory_nbs_/proofs/nat_pos_within_int/thm_proof.ipynb\" style=\"text-decoration: none\">&nbsp;&#x22A2;&nbsp;&nbsp;</a><a class=\"ProveItLink\" href=\"../../../../numbers/number_sets/integers/__pv_it/theorems/5e11a48546876402e3ef8a407706f2b7166abb220/expr.ipynb\"><img src=\"data:image/png;base64,iVBORw0KGgoAAAANSUhEUgAAAEYAAAAUBAMAAADCRlZLAAAAMFBMVEX///9mZmaqqqrc3NyIiIgi\n",
       "IiJUVFTMzMyYmJi6uroQEBB2dnZEREQyMjLu7u4AAAA1o4RqAAAAAXRSTlMAQObYZgAAAQ1JREFU\n",
       "KM9jYCAJsBGhhofmat7+OfuAYdevCdjUcEb9urv0VgMDwwn2BAa+Dwy5d2/dvduAqoblYAHDBZDW\n",
       "1AIXBoYFWO1i3MDArbATyMg8x1bAEICshuNoaGhoAUjNAwYzdgEgI7mM7x6KGubbBgijzvE8AKlh\n",
       "cihDUcOKpITDoQNEJTPs5HBAViOE5KI3fAcgatgepIPUMEPFA5DUpLMZQNTwJfAuQAgzJyAFkMBs\n",
       "Bogahmp2JDUQ0yGAlwHI2QdWw6GAJI5s1ybuCeCwSweyNyOr2YJkrRkwkIBqLoEC6wKSGl4FeCw/\n",
       "OMfAl3GAofQX0Aw+ZDV8afOgrFln15xZv0YAW1Jg3wONCygAACzQRrKr0tMGAAAAAElFTkSuQmCC\n",
       "\" style=\"display:inline;vertical-align:middle;\" /></a></span>"
      ],
      "text/plain": [
       "|- NaturalPos proper_subset Integer"
      ]
     },
     "execution_count": 38,
     "metadata": {},
     "output_type": "execute_result"
    }
   ],
   "source": [
    "ProperSubset(NaturalPos, Integer).prove()"
   ]
  },
  {
   "cell_type": "code",
   "execution_count": 39,
   "metadata": {},
   "outputs": [
    {
     "data": {
      "text/html": [
       "<span style=\"font-size:20px;\"> <a class=\"ProveItLink\" href=\"../../../../numbers/numerals/decimals/_theory_nbs_/proofs/nat1/thm_proof.ipynb\" style=\"text-decoration: none\">&nbsp;&#x22A2;&nbsp;&nbsp;</a><a class=\"ProveItLink\" href=\"../../../../numbers/numerals/decimals/__pv_it/theorems/7fb9a05424b991456a1d535347793e2786ff41910/expr.ipynb\"><img src=\"data:image/png;base64,iVBORw0KGgoAAAANSUhEUgAAADIAAAAPBAMAAABU9YHxAAAAMFBMVEX///+6urrc3NzMzMwiIiJE\n",
       "REQyMjJmZmaIiIiYmJh2dnZUVFTu7u4QEBCqqqoAAABhZHJKAAAAAXRSTlMAQObYZgAAALJJREFU\n",
       "GNNjYEAHPPmhOQxc9y8yMPDdQZNinWDNwHCegeH06j9oMtzOHA0MvEAGJ0xmqotLAlhG9MBmBhYk\n",
       "GdMemB7lDccOIMnw5MBNU3jBvAFJhlsBIcMlMANJhhXhAgWGPdwmCBnbNCBIgMqcZshFyKgi62Fe\n",
       "YIuQ4UWWYZjHipBhb4DLGDAwcIGM4ID6xw8mw/YASJQB1e79VgkWOB14AEwz+18FkseQw0sqBBI6\n",
       "UAAAZMEtCDaxdO0AAAAASUVORK5CYII=\n",
       "\" style=\"display:inline;vertical-align:middle;\" /></a></span>"
      ],
      "text/plain": [
       "|- 1 in Natural"
      ]
     },
     "execution_count": 39,
     "metadata": {},
     "output_type": "execute_result"
    }
   ],
   "source": [
    "InSet(one, Natural).prove()"
   ]
  },
  {
   "cell_type": "markdown",
   "metadata": {},
   "source": [
    "<font size=3>Given that $1 \\in \\mathbb{N}$ and $\\mathbb{N} \\subset \\mathbb{Z}$, we should be able to show that $1 \\in \\mathbb{Z}$, and Prove-It can do this automatically:</font>"
   ]
  },
  {
   "cell_type": "code",
   "execution_count": 40,
   "metadata": {},
   "outputs": [
    {
     "data": {
      "text/html": [
       "<strong id=\"one_is_an_integer\">one_is_an_integer:</strong> <span style=\"font-size:20px;\"> <a class=\"ProveItLink\" href=\"../__pv_it/demonstrations/6c820da00b0fc5e5a82790e29eb44a574cc763d60/proof.ipynb\" style=\"text-decoration: none\">&nbsp;&#x22A2;&nbsp;&nbsp;</a><a class=\"ProveItLink\" href=\"../__pv_it/demonstrations/01e2e8262b124835ebfc2d77a794e7dae8a261780/expr.ipynb\"><img src=\"data:image/png;base64,iVBORw0KGgoAAAANSUhEUgAAADEAAAAPBAMAAAC/wjryAAAAMFBMVEX///+6urrc3NzMzMwiIiJE\n",
       "REQyMjJmZmaIiIiYmJh2dnZUVFTu7u4QEBCqqqoAAABhZHJKAAAAAXRSTlMAQObYZgAAALZJREFU\n",
       "GNNjYMAAIvev5brdBDL47qDJtBYzsDEEMDCcXv0HTaaKgWEdlwCQwQmTmerikgCiaxiYNpgzIMmY\n",
       "9sB1sR6IQZLhyUGYN4NzApIMtwJcgifgKAOSDCtCC7fBJmQZ2zQgALuAQZxxAbKMKkJPAlA/1wG4\n",
       "DC9cguvBQggXKsPeAJPRZtrAwFALZHBA/eMHk4lhPcBweipQ7d5vlWCB04EHwDTj1dzQ2L/hyOEl\n",
       "FQIJHSgAAKR1Lx76K3s7AAAAAElFTkSuQmCC\n",
       "\" style=\"display:inline;vertical-align:middle;\" /></a></span><br>"
      ],
      "text/plain": [
       "one_is_an_integer: |- 1 in Integer"
      ]
     },
     "execution_count": 40,
     "metadata": {},
     "output_type": "execute_result"
    }
   ],
   "source": [
    "one_is_an_integer = InSet(one, Integer).prove()"
   ]
  },
  {
   "cell_type": "markdown",
   "metadata": {},
   "source": [
    "<font size=3>In the detailed proof of that conclusion, Prove-It instantiates the ``unfold_subset_eq`` theorem<br>\n",
    "> $\\forall_{A,B\\rvert A\\subseteq B} \\left[ \\forall_{x \\in A} (x \\in B) \\right]$\n",
    "    \n",
    "to eliminate both universal quantifiers by instantiating $A$ to $\\mathbb{N^{+}}$, $B$ to $\\mathbb{Z}$, and $x$ to $1$. The theorem appears in Line 1 in the proof below. The ''fold'' and ''unfold'' language often appears in theorems that ''fold'' or ''unfold'' axiomatic definitions, and here in the cases of subsets ($\\subseteq$) and supersets ($\\supseteq$) move between set-containment versus element-membership notation.<br/>\n",
    "Notice also the ``relax_subset`` theorem cited on line 4 and instantiated on line 2, illustrating the use of another containment-related theorem in the proof process.\n",
    "</font>"
   ]
  },
  {
   "cell_type": "code",
   "execution_count": 41,
   "metadata": {},
   "outputs": [
    {
     "data": {
      "text/html": [
       "<table><tr><th>&nbsp;</th><th>step type</th><th>requirements</th><th>statement</th></tr>\n",
       "<tr><td><a name=\"0x10eac230f125a869_step0\">0</a></td><td>instantiation</td><td><a href=\"#0x10eac230f125a869_step1\">1</a>, <a href=\"#0x10eac230f125a869_step2\">2</a>, <a href=\"#0x10eac230f125a869_step3\">3</a></td><td><span style=\"font-size:20px;\"> <a class=\"ProveItLink\" href=\"../__pv_it/demonstrations/6c820da00b0fc5e5a82790e29eb44a574cc763d60/proof.ipynb\" style=\"text-decoration: none\">&nbsp;&#x22A2;&nbsp;&nbsp;</a><a class=\"ProveItLink\" href=\"../__pv_it/demonstrations/01e2e8262b124835ebfc2d77a794e7dae8a261780/expr.ipynb\"><img src=\"data:image/png;base64,iVBORw0KGgoAAAANSUhEUgAAADEAAAAPBAMAAAC/wjryAAAAMFBMVEX///+6urrc3NzMzMwiIiJE\n",
       "REQyMjJmZmaIiIiYmJh2dnZUVFTu7u4QEBCqqqoAAABhZHJKAAAAAXRSTlMAQObYZgAAALZJREFU\n",
       "GNNjYMAAIvev5brdBDL47qDJtBYzsDEEMDCcXv0HTaaKgWEdlwCQwQmTmerikgCiaxiYNpgzIMmY\n",
       "9sB1sR6IQZLhyUGYN4NzApIMtwJcgifgKAOSDCtCC7fBJmQZ2zQgALuAQZxxAbKMKkJPAlA/1wG4\n",
       "DC9cguvBQggXKsPeAJPRZtrAwFALZHBA/eMHk4lhPcBweipQ7d5vlWCB04EHwDTj1dzQ2L/hyOEl\n",
       "FQIJHSgAAKR1Lx76K3s7AAAAAElFTkSuQmCC\n",
       "\" style=\"display:inline;vertical-align:middle;\" /></a></span></td></tr>\n",
       "<tr><td>&nbsp;</td><td colspan=4 style=\"text-align:left\"><span style=\"font-size:20px;\"><a class=\"ProveItLink\" href=\"../../../../__pv_it/common/09585084922504426caf1db2ff588a23a0932a960/expr.ipynb\"><img src=\"data:image/png;base64,iVBORw0KGgoAAAANSUhEUgAAAA8AAAAOBAMAAAACpFvcAAAALVBMVEX///8iIiIQEBBERERUVFS6\n",
       "urqIiIjc3NxmZmaqqqru7u6YmJgyMjLMzMwAAACK9jtgAAAAAXRSTlMAQObYZgAAAFtJREFUCNdj\n",
       "YACBOwxQcA5Kc59bAGGs7CuAMDbkBYBp1gXzNoAZSxnuJYAZAQx1DSCa16PDzwCshIGB6QCIMYGB\n",
       "gVEBSLMDGTwPgIxCIGZ+zsCw+N0pBk67hw0AfpEVEQi8t+wAAAAASUVORK5CYII=\n",
       "\" style=\"display:inline;vertical-align:middle;\" /></a> : <a class=\"ProveItLink\" href=\"../../../../numbers/number_sets/natural_numbers/__pv_it/common/8b7c321957f52ed3b05b36af612eeae4fa4783bc0/expr.ipynb\"><img src=\"data:image/png;base64,iVBORw0KGgoAAAANSUhEUgAAAA8AAAAOBAMAAAACpFvcAAAAMFBMVEX///9mZmaqqqrc3NyIiIgi\n",
       "IiJUVFTMzMyYmJi6uroQEBB2dnZEREQyMjLu7u4AAAA1o4RqAAAAAXRSTlMAQObYZgAAAGVJREFU\n",
       "CNdjePvn7AOGXb8mMDCcYE9g4PvAwMCQWuDCwLAAyMg8x1bAEABkJJfx3YMwmBzKIAyGnRwOEAbb\n",
       "g3QIgy+BdwGYwVDNDmVwKBwAMtKBeDOIcQmIGS8wMJT+AvL4LjAAADA2HcoIlkTkAAAAAElFTkSu\n",
       "QmCC\n",
       "\" style=\"display:inline;vertical-align:middle;\" /></a>, <a class=\"ProveItLink\" href=\"../../../../__pv_it/common/a9162d1c3cc0470c02e5daf414500903a7a419230/expr.ipynb\"><img src=\"data:image/png;base64,iVBORw0KGgoAAAANSUhEUgAAABAAAAAOBAMAAADUAYG5AAAALVBMVEX///8yMjKqqqoiIiLu7u7c\n",
       "3NyIiIjMzMwQEBC6urpERERmZmZUVFSYmJgAAACsPVCVAAAAAXRSTlMAQObYZgAAAGxJREFUCNdj\n",
       "YGC48+70nlUTGICgi4GB+zmQZn/LwMD5Gshge8rAwPsMyOBqYGDwMAEy+A4wsNs4ABl1Z68tVgBp\n",
       "ygtgYOkBMVaAOCChNyBGAsQYhnMTIMawvwJyGIHGzFjCwMAj92b3qUUMDAAXABxvZ4rl5AAAAABJ\n",
       "RU5ErkJggg==\n",
       "\" style=\"display:inline;vertical-align:middle;\" /></a> : <a class=\"ProveItLink\" href=\"../../../../numbers/number_sets/integers/__pv_it/common/e6b4e90f9467053e055a4fd2f735c0bb79cb79300/expr.ipynb\"><img src=\"data:image/png;base64,iVBORw0KGgoAAAANSUhEUgAAAA4AAAAOBAMAAADtZjDiAAAAMFBMVEX///9UVFTc3Nzu7u6qqqp2\n",
       "dnbMzMxmZmZERESIiIiYmJgyMjIQEBAiIiK6uroAAABqpg13AAAAAXRSTlMAQObYZgAAAGVJREFU\n",
       "CNdj4LvzZ/fZPQsYONsTGDZwMDCwBzCwOsQBaQMGRbYCBhBo5jAAUVwTVoG5FswNYFqMUQFE8RU8\n",
       "BXO5GYDCwQwMIawPGBgOMDAJKAINOcDAYdDMwCzVwPCm+0TH+RMFANGWFoagnRaJAAAAAElFTkSu\n",
       "QmCC\n",
       "\" style=\"display:inline;vertical-align:middle;\" /></a>, <a class=\"ProveItLink\" href=\"../../../../__pv_it/common/a0d9d672aa5e272d907247690c152cc2c6daafb70/expr.ipynb\"><img src=\"data:image/png;base64,iVBORw0KGgoAAAANSUhEUgAAAAsAAAAJBAMAAAAWSsseAAAALVBMVEX///9mZmaqqqrMzMxEREQy\n",
       "MjIiIiKYmJh2dna6urrc3NxUVFSIiIju7u4AAACJHQtQAAAAAXRSTlMAQObYZgAAAEJJREFUCNdj\n",
       "YLhzeuWJAwy8Dew5bAEMHBc43nIuYOBlYHFgAAG+A2DKzgBIMF04x8BzgWGegh/DcgaG22fuiBcw\n",
       "AAATyhBrnyPYZQAAAABJRU5ErkJggg==\n",
       "\" style=\"display:inline;vertical-align:middle;\" /></a> : <a class=\"ProveItLink\" href=\"../../../../numbers/numerals/__pv_it/common/2778428c7f555b2bdc06aa0530bc142c6e6335100/expr.ipynb\"><img src=\"data:image/png;base64,iVBORw0KGgoAAAANSUhEUgAAAAgAAAAPBAMAAAArJJMAAAAAIVBMVEX///8yMjJmZmaIiIiYmJh2\n",
       "dnZUVFTu7u4QEBCqqqoAAAADAhFxAAAAAXRSTlMAQObYZgAAACBJREFUCNdjYAADznYGhrKw5UAW\n",
       "CykEM5BgylioAjYDAHBOCeDSSky9AAAAAElFTkSuQmCC\n",
       "\" style=\"display:inline;vertical-align:middle;\" /></a></span></td></tr><tr><td><a name=\"0x10eac230f125a869_step1\">1</a></td><td>theorem</td><td></td><td><span style=\"font-size:20px;\"> <a class=\"ProveItLink\" href=\"proofs/superset_membership_from_proper_subset/thm_proof.ipynb\" style=\"text-decoration: none\">&nbsp;&#x22A2;&nbsp;&nbsp;</a><a class=\"ProveItLink\" href=\"../__pv_it/theorems/301575c0019a5beac29617bed7eb9fe46c3f48960/expr.ipynb\"><img src=\"data:image/png;base64,iVBORw0KGgoAAAANSUhEUgAAAPcAAAAWBAMAAADuuhdHAAAAMFBMVEX///8QEBCIiIhmZma6urrM\n",
       "zMxUVFQiIiJERETc3Nzu7u6qqqp2dnaYmJgyMjIAAAAcRTyBAAAAAXRSTlMAQObYZgAAA4ZJREFU\n",
       "SMe1lktoE1EUhn+TmTQzTdquRNBFsAul+AgEKoqPqBuVitGFuDP4gAqKQcX3o0qx0yo0brQI2hHB\n",
       "RxQNuNKNsSJK6yMq+BYHXBS60NJarZWi9547mblNk2Ij3kXm3nvOPd+Zc885E6DE4fkSG1vh3FjC\n",
       "20CwOwqLzz+OHx6IVvBHMFtErjcU3H71e2OtEYUvyS2gi2/1lAIPpNmjwiwir0gW3p8EeAegWwRv\n",
       "YxtaQylwOtVWTP6y8LY6DCj9QAfBuev0DuOGU7y6isn3jVi92bPHEqnyk11VH3CBLAQ7U6kzKAn+\n",
       "IZW6migi1kYI1tXkZv4qBt7PbiXKLWDQMA6WBq80jKZMsWIIs5ybumVJByWfm1OVcai7ebDDBN8M\n",
       "NNO++F3Wf7+eckVxnHVSR2mdX9vswn0xSZan62dVcB2vQ4f5wudqrd/2oolfctAi+FJKPbb8RtJg\n",
       "FQJVdDyn/ynqHH0O3HPhShg38l7Y0S1jhE48M5ePMAXMTkKfyJ7lCYKXwUO1enGYpN44yofkE/oi\n",
       "JlarIxE2rwXumg4cCczMGb12f0FOl8YEJjZhiMXqL2yIhDvKHWCOqb1kIZAto+3OncLlELyWDA9c\n",
       "DkPfuiKVYvMdwEL3zfEEubQKnjhr2rouHOgTC6kev3N4yIFr1loqwJBw82YMs0wZvsbfwG+XgjAA\n",
       "T48EP6/G2aR6zWZ2d46uG3aoA7YnI8oc29lRRYQdzZsoKTCHxKtmTo9Dhse9CdTZCdf34riU7fCf\n",
       "Zj81PmuXaNJC1024O55eUI15Q04RsDJXB92Ewy068B6zSfwUmCbDg2lm4oENtOBJSPBy7m+sIgs9\n",
       "7Ora4jCUX/5eTeTAAafpslxe3ML9yQh4JfdL//y4laJ9EmhPS/Ab8x8NYa79OhlovyS4uNPKJNS9\n",
       "hnHM1rWDlIC+oaba/mJdahRp6vv6PVJ/gryICQtBLvCaaKeLZcZXJSX4PGgDLCyiQ6Sh/JTh76h0\n",
       "EUPc1S3YXuua7PaaG5dtCzRWMtNZrQXaELQpUtgVFrdhXBFK7SZOZWQ476O9T5ER9yJ0x/6w5EaH\n",
       "BPcPQms9pE7Gw/5IfVSCtzag7UdWob4WOBKpbUQeXN9WN8OEP+3ojuqLBb/2lvzmYpTLnVIWXDIM\n",
       "Y1Rvl8d0fud/8WdCci0ffrsYvMCX4/C//I16ywx058Gzfw//v8P7/xF/AAdz9RArGsNxAAAAAElF\n",
       "TkSuQmCC\n",
       "\" style=\"display:inline;vertical-align:middle;\" /></a></span></td></tr>\n",
       "<tr><td>&nbsp;</td><td colspan=4 style-\"text-align:left\"><a class=\"ProveItLink\" href=\"proofs/superset_membership_from_proper_subset/thm_proof.ipynb\">proveit.logic.sets.inclusion.superset_membership_from_proper_subset</a></td></tr><tr><td><a name=\"0x10eac230f125a869_step2\">2</a></td><td>conjecture</td><td></td><td><span style=\"font-size:20px;\"> <a class=\"ProveItLink\" href=\"../../../../numbers/number_sets/integers/_theory_nbs_/proofs/nat_within_int/thm_proof.ipynb\" style=\"text-decoration: none\">&nbsp;&#x22A2;&nbsp;&nbsp;</a><a class=\"ProveItLink\" href=\"../../../../numbers/number_sets/integers/__pv_it/theorems/d41d654a59eae2353d0659866c1e7bfe3eb3ac620/expr.ipynb\"><img src=\"data:image/png;base64,iVBORw0KGgoAAAANSUhEUgAAADkAAAAPBAMAAACsFXoGAAAAMFBMVEX///9mZmaqqqrc3NyIiIgi\n",
       "IiJUVFTMzMyYmJi6uroQEBB2dnZEREQyMjLu7u4AAAA1o4RqAAAAAXRSTlMAQObYZgAAAPZJREFU\n",
       "GNNjePvn7AOGXb8mMKCAqevX3opdAWScYE9g4PuAKsngI87Ay3AAyEgtcGFgWIAmK83AsIkbZF7m\n",
       "ObYChgCIYE9oaGg4iCHHwJxQCGIkl/Hdg8rabkbo5nlwDizL5FAGlQ1GMruFowEsy7CTwwEsy6iA\n",
       "kOQ78IYBIsv2IB0sy4qkla0gGSrLl8ALdrMZkuxEzg1QWYZqdrDsGyTZCzwMDNwPwLIcCgfQTOZW\n",
       "2MnAwAVkpAPxZrAstwNc1ow5gYFBCsi4BHLtBbDYJbjsOZ4HDM96GBhKfwH18UFkn2U+gEhyrrl1\n",
       "5tSvg2jBW30UGpJQAADwfUE6b5/KAQAAAABJRU5ErkJggg==\n",
       "\" style=\"display:inline;vertical-align:middle;\" /></a></span></td></tr>\n",
       "<tr><td>&nbsp;</td><td colspan=4 style-\"text-align:left\"><a class=\"ProveItLink\" href=\"../../../../numbers/number_sets/integers/_theory_nbs_/proofs/nat_within_int/thm_proof.ipynb\">proveit.numbers.number_sets.integers.nat_within_int</a></td></tr><tr><td><a name=\"0x10eac230f125a869_step3\">3</a></td><td>theorem</td><td></td><td><span style=\"font-size:20px;\"> <a class=\"ProveItLink\" href=\"../../../../numbers/numerals/decimals/_theory_nbs_/proofs/nat1/thm_proof.ipynb\" style=\"text-decoration: none\">&nbsp;&#x22A2;&nbsp;&nbsp;</a><a class=\"ProveItLink\" href=\"../../../../numbers/numerals/decimals/__pv_it/theorems/7fb9a05424b991456a1d535347793e2786ff41910/expr.ipynb\"><img src=\"data:image/png;base64,iVBORw0KGgoAAAANSUhEUgAAADIAAAAPBAMAAABU9YHxAAAAMFBMVEX///+6urrc3NzMzMwiIiJE\n",
       "REQyMjJmZmaIiIiYmJh2dnZUVFTu7u4QEBCqqqoAAABhZHJKAAAAAXRSTlMAQObYZgAAALJJREFU\n",
       "GNNjYEAHPPmhOQxc9y8yMPDdQZNinWDNwHCegeH06j9oMtzOHA0MvEAGJ0xmqotLAlhG9MBmBhYk\n",
       "GdMemB7lDccOIMnw5MBNU3jBvAFJhlsBIcMlMANJhhXhAgWGPdwmCBnbNCBIgMqcZshFyKgi62Fe\n",
       "YIuQ4UWWYZjHipBhb4DLGDAwcIGM4ID6xw8mw/YASJQB1e79VgkWOB14AEwz+18FkseQw0sqBBI6\n",
       "UAAAZMEtCDaxdO0AAAAASUVORK5CYII=\n",
       "\" style=\"display:inline;vertical-align:middle;\" /></a></span></td></tr>\n",
       "<tr><td>&nbsp;</td><td colspan=4 style-\"text-align:left\"><a class=\"ProveItLink\" href=\"../../../../numbers/numerals/decimals/_theory_nbs_/proofs/nat1/thm_proof.ipynb\">proveit.numbers.numerals.decimals.nat1</a></td></tr></table>"
      ],
      "text/plain": [
       "\tstep type\trequirements\tstatement\n",
       "0\tinstantiation\t1, 2, 3\t|- 1 in Integer\n",
       "\tA : Natural, B : Integer, x : 1\n",
       "1\ttheorem\t\t|- forall_{A, B | A proper_subset B} [forall_{x in A} (x in B)]\n",
       "\tproveit.logic.sets.inclusion.superset_membership_from_proper_subset\n",
       "2\tconjecture\t\t|- Natural proper_subset Integer\n",
       "3\ttheorem\t\t|- 1 in Natural\n",
       "\tproveit.numbers.numerals.decimals.nat1"
      ]
     },
     "execution_count": 41,
     "metadata": {},
     "output_type": "execute_result"
    }
   ],
   "source": [
    "one_is_an_integer.proof()"
   ]
  },
  {
   "cell_type": "markdown",
   "metadata": {},
   "source": [
    "<font size=3>As an exercise, we can obtain the result more generally for arbitrary sets $X$ and $Y$ any time we assume $X \\subseteq Y$ and $x \\in X$:\n",
    "</font>"
   ]
  },
  {
   "cell_type": "code",
   "execution_count": 42,
   "metadata": {},
   "outputs": [
    {
     "data": {
      "text/html": [
       "<strong id=\"x_in_x\">x_in_x:</strong> <a class=\"ProveItLink\" href=\"../__pv_it/demonstrations/b6d64c1d83558991149f993830cfd46609c3c9b10/expr.ipynb\"><img src=\"data:image/png;base64,iVBORw0KGgoAAAANSUhEUgAAADcAAAAPBAMAAACy3Eq1AAAAMFBMVEX///8QEBBmZmaqqqrMzMxE\n",
       "REQyMjIiIiKYmJh2dna6urrc3NxUVFSIiIju7u4AAAA6P00QAAAAAXRSTlMAQObYZgAAAM1JREFU\n",
       "GNNjYMACOOK/N/DlfzVgwAp4PjMw9DzALsfA8o2B5QCqUGt5eQKUme+wB1XO9R6CbX8aovHtnV03\n",
       "LwBpvjwkhYxfwTbyTeCoZQeZxrMBSZLzL4R6wPmPCyTOiuLcj2CKj4E1AMxwTAMCmIO0z0M9yX8B\n",
       "TG1F0sjk4A/RweDvAHEDkuQsBvbfIJr5wX0GXpDTmC7A5XgXMHB8AjHWG8Qz7AALFcMlDwHxf5CG\n",
       "N3ffajSAhd5EQUKTJf+jA4Pb/xrUIFoZDg8+CAAAVf44pLZZXVIAAAAASUVORK5CYII=\n",
       "\" style=\"display:inline;vertical-align:middle;\" /></a><br>\n",
       "<strong id=\"x_subset_eq_ofy\">x_subset_eq_ofy:</strong> <a class=\"ProveItLink\" href=\"../__pv_it/demonstrations/bdeee4b14bb417e0dbfdb9ad10ab111ea51bf7360/expr.ipynb\"><img src=\"data:image/png;base64,iVBORw0KGgoAAAANSUhEUgAAAD8AAAARBAMAAACY12mqAAAAMFBMVEX///+6urpmZmaIiIh2dnYQ\n",
       "EBDc3NzMzMxUVFSqqqoyMjLu7u4iIiJERESYmJgAAADufbLkAAAAAXRSTlMAQObYZgAAAOdJREFU\n",
       "KM9jYGB4+/8cw67/NxlQAHfr/zYGhqlfDUCc/gkMfN1QiRdnzpw5DmKw/wISXBPAgvULGCqg8llu\n",
       "cDPOJzAwOEKYXN/ZGqCiyxCW2Dsw8EEMYOD8kQEVZJqAULA/gEEYxo6/DWXwIDmT9yO7A4ztbwBl\n",
       "ZCAp4PyxCc7uD4Ay9iL7NB7mMAamjJ9YrGC4vwHGUmf/C2WxGCApiIIxWATAfgaDlQh5ti8wliED\n",
       "w3sFKHtHI9xcvo9QBgdQkv83TLjkDjSoGXg/QESq/oczsK//08CABjjW/zVgoAFgOXMGFt0wAAAM\n",
       "qT6QEYBk9AAAAABJRU5ErkJggg==\n",
       "\" style=\"display:inline;vertical-align:middle;\" /></a><br>\n",
       "<strong id=\"x_in_y\">x_in_y:</strong> <a class=\"ProveItLink\" href=\"../__pv_it/demonstrations/e897f7df99614566482219fa767df0a342fc396d0/expr.ipynb\"><img src=\"data:image/png;base64,iVBORw0KGgoAAAANSUhEUgAAADUAAAAPBAMAAAC2KZqIAAAAMFBMVEX///8QEBBmZmaqqqrMzMxE\n",
       "REQyMjIiIiKYmJh2dna6urrc3NxUVFSIiIju7u4AAAA6P00QAAAAAXRSTlMAQObYZgAAAMFJREFU\n",
       "GNNjYMAAfAf/n2ZgMPx4gQELYPkGJNgMGLCC+g0MDLNQhVrLyxPAjPsTGDhQtbneg7HeCzCsBTPe\n",
       "3tl1E2QtXx5cFesvlglgV03gqGUHGcWzAS7H/OcRmOZ8wPmPCyTMimS8/AGIbxhYA8AMxzQggLiF\n",
       "If4BVBE/xJNbkfSJwRj+DmCKESHF/RNq74P7DLwgI5gQYcTxC0KvN4hn2AFmFSP88AFCv7n7VqMB\n",
       "woqCuoAn/ytGOK8Mh4YZFAAA68M0U3Gl9N8AAAAASUVORK5CYII=\n",
       "\" style=\"display:inline;vertical-align:middle;\" /></a><br>"
      ],
      "text/plain": [
       "x_in_x: x in X\n",
       "x_subset_eq_ofy: X subseteq Y\n",
       "x_in_y: x in Y"
      ]
     },
     "execution_count": 42,
     "metadata": {},
     "output_type": "execute_result"
    }
   ],
   "source": [
    "# Define some conditions\n",
    "x_in_x, x_subset_eq_ofy, x_in_y = InSet(x, X), SubsetEq(X, Y), InSet(x, Y)"
   ]
  },
  {
   "cell_type": "code",
   "execution_count": 43,
   "metadata": {},
   "outputs": [
    {
     "data": {
      "text/html": [
       "<strong id=\"demo_01_assumptions\">demo_01_assumptions:</strong> <a class=\"ProveItLink\" href=\"../__pv_it/demonstrations/64cfa0e51adcf716d33391d914dec4fa1f6c1c1f0/expr.ipynb\"><img src=\"data:image/png;base64,iVBORw0KGgoAAAANSUhEUgAAAIsAAAAUBAMAAABPB9NaAAAAMFBMVEX////MzMxUVFR2dna6uroQ\n",
       "EBCqqqqIiIgiIiJmZmYyMjJERETu7u6YmJjc3NwAAACgK8IjAAAAAXRSTlMAQObYZgAAAh5JREFU\n",
       "OMtjYOC7wEAhyAMRp7FK8e7/cYFn/e8ECO/2/16GU/+3oSrhUf2vx8CQ+rWA6QGQtw67FUzfGBgu\n",
       "HYDx9BMYeHWg7EsdHR2NIAbjLyDBlcDAswBo7QTsxgDVMCrAefILGISgzFd2cNF+oDNMgLQ5AwPH\n",
       "AxS/7OjogjLXCzxCiHN95IOZieT6egMGXpC3jzIwvEBxwna4Nxjy9RCOYWD7BDOTMwEhej6AwR1s\n",
       "iQNDJZA6XvSkuADEP4UwhYH1NxKHIX4PlMGBJMj9hdEARDNPYNgLDHID3naOBSC+HpIa5u/I7rQv\n",
       "gDKQfAp040lIUCxgaANqOMD8hwUcRBuQo+orsjH6AVAGSvqIh/ibrYEhBOgaBm6IfsaoVUAAVTJP\n",
       "HykUOB99w+Iphv0QfzN+ABnDwMAPcTIfkms4BeSReBMZf8P8WoBkTBQDzJg2cLIQgPADECpMGDj+\n",
       "IcLJAZxGwGAZQg3fZwjN0gAKYrYD9QzsYOdNh6tgd2Dg/QnnlTAw3Icl00Mq8Bjk/cIAC2JLBgb/\n",
       "hP0MbyEehweHJhD/B6o/D4pBJqAR/H9gUsI7oJmBgfsDNAAMGDyA5pcfnwvJ5jzaPhDPrv8qwCD1\n",
       "vwlocA8DkBEIFPmhgJHt1v+GBBSXAFpmYLGGZwYoyCGipDiBO2vCgAERxgCzJsM+vCp4CtAEmDs6\n",
       "YAUFXM0CnMUWPDKIcAw3KFwoL0TvMTAAAEqAivepFcOOAAAAAElFTkSuQmCC\n",
       "\" style=\"display:inline;vertical-align:middle;\" /></a><br>"
      ],
      "text/plain": [
       "demo_01_assumptions: (x in X, X subseteq Y)"
      ]
     },
     "execution_count": 43,
     "metadata": {},
     "output_type": "execute_result"
    }
   ],
   "source": [
    "# bundle the first 2 conditions into a list of assumptions\n",
    "demo_01_assumptions = [x_in_x, x_subset_eq_ofy]"
   ]
  },
  {
   "cell_type": "code",
   "execution_count": 44,
   "metadata": {},
   "outputs": [
    {
     "data": {
      "text/html": [
       "<strong id=\"x_in_y_k_t\">x_in_y_k_t:</strong> <span style=\"font-size:20px;\"><a class=\"ProveItLink\" href=\"../__pv_it/demonstrations/bdeee4b14bb417e0dbfdb9ad10ab111ea51bf7360/expr.ipynb\"><img src=\"data:image/png;base64,iVBORw0KGgoAAAANSUhEUgAAAD8AAAARBAMAAACY12mqAAAAMFBMVEX///+6urpmZmaIiIh2dnYQ\n",
       "EBDc3NzMzMxUVFSqqqoyMjLu7u4iIiJERESYmJgAAADufbLkAAAAAXRSTlMAQObYZgAAAOdJREFU\n",
       "KM9jYGB4+/8cw67/NxlQAHfr/zYGhqlfDUCc/gkMfN1QiRdnzpw5DmKw/wISXBPAgvULGCqg8llu\n",
       "cDPOJzAwOEKYXN/ZGqCiyxCW2Dsw8EEMYOD8kQEVZJqAULA/gEEYxo6/DWXwIDmT9yO7A4ztbwBl\n",
       "ZCAp4PyxCc7uD4Ay9iL7NB7mMAamjJ9YrGC4vwHGUmf/C2WxGCApiIIxWATAfgaDlQh5ti8wliED\n",
       "w3sFKHtHI9xcvo9QBgdQkv83TLjkDjSoGXg/QESq/oczsK//08CABjjW/zVgoAFgOXMGFt0wAAAM\n",
       "qT6QEYBk9AAAAABJRU5ErkJggg==\n",
       "\" style=\"display:inline;vertical-align:middle;\" /></a>, <a class=\"ProveItLink\" href=\"../__pv_it/demonstrations/b6d64c1d83558991149f993830cfd46609c3c9b10/expr.ipynb\"><img src=\"data:image/png;base64,iVBORw0KGgoAAAANSUhEUgAAADcAAAAPBAMAAACy3Eq1AAAAMFBMVEX///8QEBBmZmaqqqrMzMxE\n",
       "REQyMjIiIiKYmJh2dna6urrc3NxUVFSIiIju7u4AAAA6P00QAAAAAXRSTlMAQObYZgAAAM1JREFU\n",
       "GNNjYMACOOK/N/DlfzVgwAp4PjMw9DzALsfA8o2B5QCqUGt5eQKUme+wB1XO9R6CbX8aovHtnV03\n",
       "LwBpvjwkhYxfwTbyTeCoZQeZxrMBSZLzL4R6wPmPCyTOiuLcj2CKj4E1AMxwTAMCmIO0z0M9yX8B\n",
       "TG1F0sjk4A/RweDvAHEDkuQsBvbfIJr5wX0GXpDTmC7A5XgXMHB8AjHWG8Qz7AALFcMlDwHxf5CG\n",
       "N3ffajSAhd5EQUKTJf+jA4Pb/xrUIFoZDg8+CAAAVf44pLZZXVIAAAAASUVORK5CYII=\n",
       "\" style=\"display:inline;vertical-align:middle;\" /></a> <a class=\"ProveItLink\" href=\"../__pv_it/demonstrations/5c13af59cbe45dfba73d82d9f87748a18d3bb23b0/proof.ipynb\" style=\"text-decoration: none\">&nbsp;&#x22A2;&nbsp;&nbsp;</a><a class=\"ProveItLink\" href=\"../__pv_it/demonstrations/e897f7df99614566482219fa767df0a342fc396d0/expr.ipynb\"><img src=\"data:image/png;base64,iVBORw0KGgoAAAANSUhEUgAAADUAAAAPBAMAAAC2KZqIAAAAMFBMVEX///8QEBBmZmaqqqrMzMxE\n",
       "REQyMjIiIiKYmJh2dna6urrc3NxUVFSIiIju7u4AAAA6P00QAAAAAXRSTlMAQObYZgAAAMFJREFU\n",
       "GNNjYMAAfAf/n2ZgMPx4gQELYPkGJNgMGLCC+g0MDLNQhVrLyxPAjPsTGDhQtbneg7HeCzCsBTPe\n",
       "3tl1E2QtXx5cFesvlglgV03gqGUHGcWzAS7H/OcRmOZ8wPmPCyTMimS8/AGIbxhYA8AMxzQggLiF\n",
       "If4BVBE/xJNbkfSJwRj+DmCKESHF/RNq74P7DLwgI5gQYcTxC0KvN4hn2AFmFSP88AFCv7n7VqMB\n",
       "woqCuoAn/ytGOK8Mh4YZFAAA68M0U3Gl9N8AAAAASUVORK5CYII=\n",
       "\" style=\"display:inline;vertical-align:middle;\" /></a></span><br>"
      ],
      "text/plain": [
       "x_in_y_k_t: {X subseteq Y, x in X} |- x in Y"
      ]
     },
     "execution_count": 44,
     "metadata": {},
     "output_type": "execute_result"
    }
   ],
   "source": [
    "# prove set membership based on the assumptions\n",
    "x_in_y_k_t = x_in_y.prove(demo_01_assumptions)"
   ]
  },
  {
   "cell_type": "markdown",
   "metadata": {},
   "source": [
    "<font size=3>As an extra step, we can also re-express that result in terms of implications:\n",
    "</font>"
   ]
  },
  {
   "cell_type": "code",
   "execution_count": 45,
   "metadata": {},
   "outputs": [
    {
     "data": {
      "text/html": [
       "<span style=\"font-size:20px;\"><a class=\"ProveItLink\" href=\"../__pv_it/demonstrations/b6d64c1d83558991149f993830cfd46609c3c9b10/expr.ipynb\"><img src=\"data:image/png;base64,iVBORw0KGgoAAAANSUhEUgAAADcAAAAPBAMAAACy3Eq1AAAAMFBMVEX///8QEBBmZmaqqqrMzMxE\n",
       "REQyMjIiIiKYmJh2dna6urrc3NxUVFSIiIju7u4AAAA6P00QAAAAAXRSTlMAQObYZgAAAM1JREFU\n",
       "GNNjYMACOOK/N/DlfzVgwAp4PjMw9DzALsfA8o2B5QCqUGt5eQKUme+wB1XO9R6CbX8aovHtnV03\n",
       "LwBpvjwkhYxfwTbyTeCoZQeZxrMBSZLzL4R6wPmPCyTOiuLcj2CKj4E1AMxwTAMCmIO0z0M9yX8B\n",
       "TG1F0sjk4A/RweDvAHEDkuQsBvbfIJr5wX0GXpDTmC7A5XgXMHB8AjHWG8Qz7AALFcMlDwHxf5CG\n",
       "N3ffajSAhd5EQUKTJf+jA4Pb/xrUIFoZDg8+CAAAVf44pLZZXVIAAAAASUVORK5CYII=\n",
       "\" style=\"display:inline;vertical-align:middle;\" /></a> <a class=\"ProveItLink\" href=\"../__pv_it/demonstrations/2d0fb1e55dadd2ccbb637f042ec566e6f8cb13630/proof.ipynb\" style=\"text-decoration: none\">&nbsp;&#x22A2;&nbsp;&nbsp;</a><a class=\"ProveItLink\" href=\"../__pv_it/demonstrations/7a752d34e5e4aff344f213fde6cf8a9cb26cf9cf0/expr.ipynb\"><img src=\"data:image/png;base64,iVBORw0KGgoAAAANSUhEUgAAALEAAAAUBAMAAAAw1sGrAAAAMFBMVEX////MzMxUVFR2dna6uroQ\n",
       "EBCqqqqIiIgiIiJmZmYyMjJERETu7u6YmJjc3NwAAACgK8IjAAAAAXRSTlMAQObYZgAAAnRJREFU\n",
       "OMtjYOC7wEAA5GEVfUtQy2kgvv2/l+HU/22osofiPz1gYIsPZ2B6gEUvzwZsgqr/9RgYUr8WgLWs\n",
       "AwnpJzDw6kClL3V0dDSCGPILgMQyoPoFWAzhwmYdA+MvkFQCWAvvBKghQlDJV3YwZRz/GBiYHYAM\n",
       "cyxm3MQeDP1AC00gWjjAdnN95FOAyq2Dq2L/zMBwDcQ4itDJDXNqH4qBtzs6IB6rN2DgTYBoeQEW\n",
       "YPv0CKqGMwERal8ZWArA9jogvAsNXr4GZIOla2Cs8wEM7lAtlRCR+D2wIEDSsN9BGEwzT8AIBXaQ\n",
       "0PGiJ8Ugq3nWIPz0hdEAqmUvRMS+ACr1CMnkfB2Ikbxgn87oAIF+iBA3MK3yGPC2c4CkkBIP26eT\n",
       "MC1tEBH9AKjUaSSTWT9BlSN7PQscXBxAkvkA8x8WkKHcSNLxCjAtIZDQffQNS2hw/4EG7gfkNLsU\n",
       "FOqsQIKHgRsS6qKrgACaNPcfgGmBmDyR8TdUI3MBkpsXYDH5EThVsoIjlR+i+DWSdBRcCzg0gKm2\n",
       "HxZWyxCq3htAaBZwaMxaBQaQVMkBDhN5AYgLEFr4PsO1gGOwhIHhPiz+D6kcgCm7D01tvEiZ0IsB\n",
       "HoNsB+oZ2EGKORH+5P0C12IJilugqfx/YJLCO6C5m2E/LI0bIEIZmsBACdE/YT+0XGpDRM0HuBYP\n",
       "Bgap/4EMjOt/KKDnVK3/26FlhABcjEkAEUCHyo/PhRSUh7ZA/cm0/ncBTAvHAwaC4ARSODJgzd3O\n",
       "OzoWoGvhnUDYZBJKJGQt+1CFmME5rRGl1MVWinLj9StYy2mCTuYmuuRH1UK4trpHem0F1AIAvbqu\n",
       "BA+vKvUAAAAASUVORK5CYII=\n",
       "\" style=\"display:inline;vertical-align:middle;\" /></a></span>"
      ],
      "text/plain": [
       "{x in X} |- (X subseteq Y) => (x in Y)"
      ]
     },
     "execution_count": 45,
     "metadata": {},
     "output_type": "execute_result"
    }
   ],
   "source": [
    "x_in_y_k_t.as_implication(hypothesis=SubsetEq(X, Y))"
   ]
  },
  {
   "cell_type": "code",
   "execution_count": 46,
   "metadata": {},
   "outputs": [
    {
     "data": {
      "text/html": [
       "<span style=\"font-size:20px;\"><a class=\"ProveItLink\" href=\"../__pv_it/demonstrations/bdeee4b14bb417e0dbfdb9ad10ab111ea51bf7360/expr.ipynb\"><img src=\"data:image/png;base64,iVBORw0KGgoAAAANSUhEUgAAAD8AAAARBAMAAACY12mqAAAAMFBMVEX///+6urpmZmaIiIh2dnYQ\n",
       "EBDc3NzMzMxUVFSqqqoyMjLu7u4iIiJERESYmJgAAADufbLkAAAAAXRSTlMAQObYZgAAAOdJREFU\n",
       "KM9jYGB4+/8cw67/NxlQAHfr/zYGhqlfDUCc/gkMfN1QiRdnzpw5DmKw/wISXBPAgvULGCqg8llu\n",
       "cDPOJzAwOEKYXN/ZGqCiyxCW2Dsw8EEMYOD8kQEVZJqAULA/gEEYxo6/DWXwIDmT9yO7A4ztbwBl\n",
       "ZCAp4PyxCc7uD4Ay9iL7NB7mMAamjJ9YrGC4vwHGUmf/C2WxGCApiIIxWATAfgaDlQh5ti8wliED\n",
       "w3sFKHtHI9xcvo9QBgdQkv83TLjkDjSoGXg/QESq/oczsK//08CABjjW/zVgoAFgOXMGFt0wAAAM\n",
       "qT6QEYBk9AAAAABJRU5ErkJggg==\n",
       "\" style=\"display:inline;vertical-align:middle;\" /></a> <a class=\"ProveItLink\" href=\"../__pv_it/demonstrations/28b67593ec7a08831e8410b0b52486b212228d980/proof.ipynb\" style=\"text-decoration: none\">&nbsp;&#x22A2;&nbsp;&nbsp;</a><a class=\"ProveItLink\" href=\"../__pv_it/demonstrations/ec8b30015f555c6cc66c2969535129e4c00dbc1b0/expr.ipynb\"><img src=\"data:image/png;base64,iVBORw0KGgoAAAANSUhEUgAAAKsAAAAUBAMAAAAAWtCKAAAAMFBMVEX////MzMxUVFR2dna6uroQ\n",
       "EBCqqqqIiIgiIiJmZmYyMjJERETu7u6YmJjc3NwAAACgK8IjAAAAAXRSTlMAQObYZgAAAjVJREFU\n",
       "OMtjYOC7wIAP5GEVfUtQy2nscrf/9zKc+r+NgekBFkmeDVgED8V/esDAFh8O0bIOh536CQy8OkAT\n",
       "FmCR48JmF4M8SOkyiBbeCTiMBSoSAtHmWORuYtXB8Y+BgdkBooUDxWLeHR1dMBd95FMA0UcRsvtg\n",
       "jD7U8OroAHuJ/TMDwzWolhfIChi3H4Cz2T49ghjvABeShtJ8DciapGtgIf6VgaUAqqUSxC/Xcwf7\n",
       "9dQBJOXxe8AUMyKUYAHGPgFJD88auPx+B2GYlr1A6jDDjQKw3/WQXWFfADEL5EHODjD4CZHhvoCk\n",
       "Bymp5OtMgGlpA1I2DPYH/EB8lHSjHwAJDCQfsy2DxE0Ckh5uhDTrJwaYlhAgdYBhNyRoo1YBAVQN\n",
       "56NvEMEPSFadCgFrd0DoYRAF6YGkQu4/DDAtYHUM3yFRgezaiYy/MYzlU34AMxamh+E1kmsXwI1t\n",
       "A9MfIfwAhBJgAuwHm8ECCgTOVRDwAB4IcD2sCD3vDSA0UAsoynLYPzCAU8l0hJISBob7E+BRBlW+\n",
       "ABFlcD2cBXD5+9C0CNRiCVT9jfsDpMABOwMMmIBG8oODitMAEbLQ9AdMQAg9EP9CEhgsWgwYPIAp\n",
       "T72m8i4kQWv7QCSk/gcyMK7/AcpmXAJwbYoMcE8i9DAc2gK1Tev/dmgGFUDLvCzW8MwLAycQzAfY\n",
       "M6/zjo4F6FpwFjUwQHxRg6JlH34lWAtG7gcEtZzGbyw30cU4qhYClc490isdoBYA6UCn8mitQ24A\n",
       "AAAASUVORK5CYII=\n",
       "\" style=\"display:inline;vertical-align:middle;\" /></a></span>"
      ],
      "text/plain": [
       "{X subseteq Y} |- (x in X) => (x in Y)"
      ]
     },
     "execution_count": 46,
     "metadata": {},
     "output_type": "execute_result"
    }
   ],
   "source": [
    "x_in_y_k_t.as_implication(hypothesis=InSet(x, X))"
   ]
  },
  {
   "cell_type": "markdown",
   "metadata": {},
   "source": [
    "<div style=\"width: 90%; border: 5px solid green; padding: 10px; margin: 0px;\"><a id='demo02'></a><font size=4><font size=4><b>2.</b> $\\forall_{x\\in A}(x\\in B) \\Rightarrow (A \\subseteq B)$.</font></div><br>\n",
    "<font size=\"3\">When we know that $x$ is in $B$ whenever $x$ is in $A$, we have $A \\subseteq B$. That is a theorem in Prove-It that can be instantiated to prove a subset relationship for two arbitrary sets given the right conditions:</font>"
   ]
  },
  {
   "cell_type": "code",
   "execution_count": 47,
   "metadata": {},
   "outputs": [
    {
     "data": {
      "text/html": [
       "<strong id=\"CSubsetOfD\">CSubsetOfD:</strong> <a class=\"ProveItLink\" href=\"../__pv_it/demonstrations/110386be544bd8f4a46ca6bd4f9526e1f06af8420/expr.ipynb\"><img src=\"data:image/png;base64,iVBORw0KGgoAAAANSUhEUgAAADwAAAARBAMAAABz4NKpAAAAMFBMVEX////MzMy6uroyMjIiIiKq\n",
       "qqoQEBB2dnbc3NyYmJhmZmZUVFRERESIiIju7u4AAACOKgoaAAAAAXRSTlMAQObYZgAAAPdJREFU\n",
       "KM9jYGDgu7NrJ0cBAyrg3P9n95kdINa1CQysyyaABWe7uLg4QuT5DRgY5gcwMLzxA3LWN4CEmisQ\n",
       "2uUvMDBwJTAwmD0ActTAQhZIpt8XYGBg+snA9RXEkQIRXAFI0ueBmOM7Q78DiPMCRLAgu+0PEDP9\n",
       "Zqi/ABfpRpJl/AskeL8z+AvAhd4gSfN+BBLcnxjyQS5jeIBuOM8HkOcSGPxBHFawEewIexj4DwCJ\n",
       "+RMgPmaHiJmiepsvh4GhH6SlDiL2etMDZG8/BgYc608GhiiYqPgRWKDaA73lBWK8Or1LgQEdbP6/\n",
       "a/epBgYqAnYXF0SEQgAABXI/jEXQuAYAAAAASUVORK5CYII=\n",
       "\" style=\"display:inline;vertical-align:middle;\" /></a><br>"
      ],
      "text/plain": [
       "CSubsetOfD: C subseteq D"
      ]
     },
     "execution_count": 47,
     "metadata": {},
     "output_type": "execute_result"
    }
   ],
   "source": [
    "# define our conclusion\n",
    "CSubsetOfD = SubsetEq(C, D)"
   ]
  },
  {
   "cell_type": "code",
   "execution_count": 48,
   "metadata": {},
   "outputs": [
    {
     "data": {
      "text/html": [
       "<strong id=\"demo_02_assumptions\">demo_02_assumptions:</strong> <a class=\"ProveItLink\" href=\"../__pv_it/demonstrations/15d7026acbaa3102d3cb300e508cea6065b282400/expr.ipynb\"><img src=\"data:image/png;base64,iVBORw0KGgoAAAANSUhEUgAAAIwAAAAUBAMAAACt28gjAAAAMFBMVEX////MzMxUVFR2dna6uroQ\n",
       "EBCqqqqIiIgiIiJmZmYyMjJERETu7u6YmJjc3NwAAACgK8IjAAAAAXRSTlMAQObYZgAAAktJREFU\n",
       "OMulVEtoE1EUPZMXMtN0UoMb3VXBjQZqVobSIllWENKFK1cFN7opoS7EVQqCiiCoRaQLJYIgiFYJ\n",
       "+IFgOhRKtc0iiCuLMgsXBZFUQQVbP+fOm08imSj4YO577543Z+65c+8DhlroO/rj03xSLs0aqrJ/\n",
       "G3dwrbf71a9aruYiIRQjfBZwSNz342gWYvzfgcxX2BLDKpdX8EFCfxRzmnjPYXyjuQ4UOKkyLBdp\n",
       "h6upGBrL7SJ9dvGSXpmfaEotLHOyJ7FBbLzZ3IjT1AUYT51gObhJ084jXeR8B2dpt+r1c3E0gq/M\n",
       "vD9dls1qyIIdkoXSHigRPYrntHuBRndCanOmL4a4nc9csLzfORIdGRbeSh4ZAd7gPO0RnfCoVO7C\n",
       "fuyviStHbSc91o7/UMnSHCwiNcv5JI5JGmEGNWafmG+hTb3rvoO4jUH9vnH8Hof2L4r5Qp/kaNij\n",
       "US0r+Mj6dBOQRO2KaJiIso6yI5ot0f4jpBFRQ9WdtIWrM9mkJMzcpmlGongsqzeT3WWzTNqkiJrw\n",
       "UozGPr7sHLCKaa9UOkuReMqpEJXNjdAtZWOLPj/Fo+I8RUoDD4CXnoR8Bw3x0tQiPupaDIs0TS0T\n",
       "EvqAHJ5jPKH2n8Duer1etojYQc6JL51Zuam3du6o9iYefr6Wu+Xxid7butgzErKxaSAhyABFqd7N\n",
       "kBwLmiEYL4R9Nmq9tqoqKC+Xl2Ef/ltrBsNvzbB+l14XxoEnslT7C1HVN/qyBBfFH9eSydz807UV\n",
       "dKjrf+n/LtF3otvFb+2enDDvGeN8AAAAAElFTkSuQmCC\n",
       "\" style=\"display:inline;vertical-align:middle;\" /></a><br>"
      ],
      "text/plain": [
       "demo_02_assumptions: (forall_{x in C} (x in D))"
      ]
     },
     "execution_count": 48,
     "metadata": {},
     "output_type": "execute_result"
    }
   ],
   "source": [
    "# define our assumption (or perhaps this would be proven elsewhere first)\n",
    "demo_02_assumptions = [Forall(x, InSet(x,D), domain=C)]"
   ]
  },
  {
   "cell_type": "code",
   "execution_count": 49,
   "metadata": {},
   "outputs": [
    {
     "data": {
      "text/html": [
       "<span style=\"font-size:20px;\"><a class=\"ProveItLink\" href=\"../__pv_it/demonstrations/253cb031a19a53eea76676a69248733b4ef554150/expr.ipynb\"><img src=\"data:image/png;base64,iVBORw0KGgoAAAANSUhEUgAAAH0AAAAUBAMAAABSVS+EAAAAMFBMVEX///8QEBCIiIhmZma6urrM\n",
       "zMxUVFQiIiJERETc3Nzu7u6qqqp2dnaYmJgyMjIAAAAcRTyBAAAAAXRSTlMAQObYZgAAAhBJREFU\n",
       "OMulVDtoFFEUPWx2dpLJm9XCWhYDqYT1g4IQYcEiYJMlhZYGjLA2KjYWflCLdRaRbCFoIzuJEGWL\n",
       "ELAKWAxjo0mzhUgshCVdBDUKSoz4OXfevt0Z2FkFH8zj3vPevXPOvXcGGLhGWoNOV/i0xXiXduNp\n",
       "f/jN72qlWkeuDqyJ/z4tfjMF/wW4P+Dw5Q+F5c2Ua+6B/rj1hdtBIATyPqCWU+LteiLbnSs3tJX5\n",
       "ym2qhXmCq83mgzT6iQPrtm/M4S1ujQD5ErDtedfS4sf4LIzf318QZ6kbjl0ieGoGivrOAbWk6OpE\n",
       "psP7HuAE7mU7atL53pUzkrAYwOXBiaiMsZZvwLnVsa+yNr7ayUbpYkUulrldLGH0EmuEjBkS5/nh\n",
       "FhrUtN4B9hDDsA609n7k0vicbJ+JsQ6qZZu06ytNQIox3Yun2ILmFXv/tsj8qeNH2qfohUfGy1np\n",
       "dmaHW7PHn2LL2tmdbP8882XJH7VZRvkX7FI+anl8lli/Ub/IU3EOdWFpvyNSpH54xiQWPgCPI7ZB\n",
       "LP4Fu7Q8h0d6mLpTliftSSE7FHT1fQdOe55XsAk5pqCTwOK+hePadSonNZr79O1o5ViUSKS5ws7a\n",
       "spATaIj8Vf/5zb4082vWE2M0VFtBRYW6DufV374fs0JjLL4OV4G7YqqzYW9QawPDk4PHulL/P/0/\n",
       "zGdUB/7n//UW+AMtrIGdhtHGtAAAAABJRU5ErkJggg==\n",
       "\" style=\"display:inline;vertical-align:middle;\" /></a> <a class=\"ProveItLink\" href=\"../__pv_it/demonstrations/812473f60623d7fd4ecb9145f889a02d276969780/proof.ipynb\" style=\"text-decoration: none\">&nbsp;&#x22A2;&nbsp;&nbsp;</a><a class=\"ProveItLink\" href=\"../__pv_it/demonstrations/110386be544bd8f4a46ca6bd4f9526e1f06af8420/expr.ipynb\"><img src=\"data:image/png;base64,iVBORw0KGgoAAAANSUhEUgAAADwAAAARBAMAAABz4NKpAAAAMFBMVEX////MzMy6uroyMjIiIiKq\n",
       "qqoQEBB2dnbc3NyYmJhmZmZUVFRERESIiIju7u4AAACOKgoaAAAAAXRSTlMAQObYZgAAAPdJREFU\n",
       "KM9jYGDgu7NrJ0cBAyrg3P9n95kdINa1CQysyyaABWe7uLg4QuT5DRgY5gcwMLzxA3LWN4CEmisQ\n",
       "2uUvMDBwJTAwmD0ActTAQhZIpt8XYGBg+snA9RXEkQIRXAFI0ueBmOM7Q78DiPMCRLAgu+0PEDP9\n",
       "Zqi/ABfpRpJl/AskeL8z+AvAhd4gSfN+BBLcnxjyQS5jeIBuOM8HkOcSGPxBHFawEewIexj4DwCJ\n",
       "+RMgPmaHiJmiepsvh4GhH6SlDiL2etMDZG8/BgYc608GhiiYqPgRWKDaA73lBWK8Or1LgQEdbP6/\n",
       "a/epBgYqAnYXF0SEQgAABXI/jEXQuAYAAAAASUVORK5CYII=\n",
       "\" style=\"display:inline;vertical-align:middle;\" /></a></span>"
      ],
      "text/plain": [
       "{forall_{x in C} (x in D)} |- C subseteq D"
      ]
     },
     "execution_count": 49,
     "metadata": {},
     "output_type": "execute_result"
    }
   ],
   "source": [
    "# prove the conclusion from the assumptions\n",
    "CSubsetOfD.prove(demo_02_assumptions)"
   ]
  },
  {
   "cell_type": "markdown",
   "metadata": {},
   "source": [
    "<font size=4>And we can re-express that judgment as a logical implication:</font>"
   ]
  },
  {
   "cell_type": "code",
   "execution_count": 50,
   "metadata": {},
   "outputs": [
    {
     "data": {
      "text/html": [
       "<span style=\"font-size:20px;\"> <a class=\"ProveItLink\" href=\"../__pv_it/demonstrations/782ba71d8840cd7761977f2cb399ffa770e3c1a20/proof.ipynb\" style=\"text-decoration: none\">&nbsp;&#x22A2;&nbsp;&nbsp;</a><a class=\"ProveItLink\" href=\"../__pv_it/demonstrations/39a2bf5d4cba7f59c4de3a3df755e4806cdb14620/expr.ipynb\"><img src=\"data:image/png;base64,iVBORw0KGgoAAAANSUhEUgAAAPUAAAAUBAMAAACnh2ZxAAAAMFBMVEX///8QEBBmZmZUVFRERETc\n",
       "3Nzu7u6qqqqYmJgiIiK6urp2dnbMzMwyMjKIiIgAAACRIo6iAAAAAXRSTlMAQObYZgAAAz1JREFU\n",
       "SMelVktoE1EUPW2SaSYziV1JEYRq/X+LrQtFsZIU7cYWdOFn0dRKoAtLKXSlYqgVxFU3okHU4ELo\n",
       "QhqkrTiLEHDlRuNCUfwVuxLRVqxVoVbvfTOTvElmEtG3eMy7b8479537mcGn16g4AslKu0NA8GXa\n",
       "ZeMoqgxCwkCeHy95vXPK3Xzhd7Q12gVfF6C5cCttPPdHm5InKiAN3GfLcy/uZx72X3Tj71Dy7txh\n",
       "OhmRBmCwQayDu1KpVK4UaeAIK9vmQRFsdLfrSzStArLu3MN89444UPtNBO5VlxvSQJhe0QY8uNUu\n",
       "hycdqRvmU2SRpvEkehzcfvvtK3z35TSF6gsyoAxpIDiVSBzzktyxoR+KF1jmaOrOIJyWuXVLvsAo\n",
       "Tdv5PrrQbb10iIQ0gPlY7LoX93tOmZnjH6d5cbpAjWXMMt4MrdGh+bB1N2IM/BRJJ248Kp0oIYl7\n",
       "D9DuDHJ0c8RS6SDBM8GbqiiGncVXnrAzsxkE8xb3xhSPW2Z6+KkwtaVinTbDFUnct0XSSSX9Fsp+\n",
       "6/kqHRLXFkLCFSkhZzlp96VRN+rMtXMicVSa1cWSiitHEreKiN1AlDOrk+imw0YswwqywW9i9ZVv\n",
       "aJj2Tp6+kG3Oya085VUNTTULYo1SzSUkcWtJ1d4YGUoAHPzHRW4K0bSph+T+PIfmRzn34UlY3Crn\n",
       "FM4KaxauSOIO5B/y/paZXIjDFWGHE0XNKURWV6h3FmkP+RKyNd/6RgyzFbHmZmVnzFYz4IokbrTv\n",
       "Jsb4XjUdFkA5OpRrdfFZ2uXFNkeRKix/IdfMcReFXAswiWZWhtJyxw3J3IMUDx0vgJNC4YzEfY/q\n",
       "YaDT+jSoBffDJOgYi1SbkbkVqzVrvHU+ibp19m0n7J4qI41CPEmjR7FYbFolbsVOvjGg93P/BnOp\n",
       "tFru+959bWpdK47Kydw+KzghTi5lTcumsn7hQDJ3kJXR53T42FhLmmvuPTU0YfdUe/Q5emoAUk+t\n",
       "MvoguHl0a3kNmvD7GpTJat8Se1T4lqAq0ubuvZydAg6IaO3IFptne8UDvL6hfodceCCaXq4UaThe\n",
       "ilC8/+rfQeLw/neohvzwX/9MF8ndf/tnIuQfL3X7/jXzmXYAAAAASUVORK5CYII=\n",
       "\" style=\"display:inline;vertical-align:middle;\" /></a></span>"
      ],
      "text/plain": [
       "|- [forall_{x in C} (x in D)] => (C subseteq D)"
      ]
     },
     "execution_count": 50,
     "metadata": {},
     "output_type": "execute_result"
    }
   ],
   "source": [
    "CSubsetOfD.prove(demo_02_assumptions).as_implication(*demo_02_assumptions)"
   ]
  },
  {
   "cell_type": "markdown",
   "metadata": {},
   "source": [
    "<font size=3>Or we could have proven the implication form directly (shown here with new set variables $E$ and $F$ so as not to simply derive from the previous result):</font>"
   ]
  },
  {
   "cell_type": "code",
   "execution_count": 51,
   "metadata": {},
   "outputs": [
    {
     "data": {
      "text/html": [
       "<strong id=\"an_implication\">an_implication:</strong> <a class=\"ProveItLink\" href=\"../__pv_it/demonstrations/5ef7de47f1b278942f12bcb17f23ffe8b155090a0/expr.ipynb\"><img src=\"data:image/png;base64,iVBORw0KGgoAAAANSUhEUgAAAPMAAAAUBAMAAACqmRY2AAAAMFBMVEX///8QEBBmZmZUVFRERETc\n",
       "3Nzu7u6qqqqYmJgiIiK6urp2dnbMzMwyMjKIiIgAAACRIo6iAAAAAXRSTlMAQObYZgAAA2xJREFU\n",
       "SMelVktoE2EQHttm89gkrVcfGBI8iA9sSQ/WKlFSbC+6oAc9iGsjVZFKEVoQPRStoIVCLiLRSoOg\n",
       "4EVD0Qoe0kBFEA9dClqRlo1VCh6qoa2KfTr/Y19xdxUdyL//Y2a+zMw3/y7MTIC7HHU580oAfbdt\n",
       "Djzdf/Daib/noJDpdScdIWG7/Wl1f2zfCtRTD7/LKa6ya7n8JHxoPhrfVKyUiOEzsvPWCTok2e8T\n",
       "n83Q7gD9RlPpYeurmUymn02rMdSqbkEhhkdIghJO0Ffst4OLOPSCWLSF9kVwCKzg0ErXx58aZ6M5\n",
       "PM9CnhiGZACxwwn6psVlS+Yuz9sCDpdBqLFAN/Gnn6RKXMLhvJEELl+zyJECnCSGvqG2tmNOyJ60\n",
       "OdSDsl6H7+CBLoD3FugX/EndhUogohJKhTkwVQbJK0MoSwznk8k7TtBhTJ3wpf5RnizadWSoTjPq\n",
       "D1qgaaJRpqhKQiOv3+zxJ6O/GCGGjUamWMuodTGVs6sK1c7BjSLNc72h8zjCVn0cuiJDZZadNlOV\n",
       "sdpvbHnY5DwwC4Td4FOI4T0QFEuoHxCSB+jHXA3BsHyfLExcHB6rrSHPi1aaecfp4xZVKYBitJom\n",
       "4nJsLdVME0M/hLUbQLgUxWkcNfjGGiSFDElW6o2TKFrFhJ2Ur2UMb19HRjqoADkolCccSZKizkrE\n",
       "UOzWz3o623BcDy99JmiAFUa5hLliQocNtGe3pEPP458WijTSIphJctqA9igjOM9v+1gIUJoIC0Zq\n",
       "ScIhuMQWNUbFFvnkoVbrSSaSnnDa1iKr27iJJDnugSYcmhqQyvIefzbECja7RYcmNOsKl2CaLHYY\n",
       "FVvgkz5L1AHFoBlt6xG2TjXovTGc5c1AaQYXsHmD8E67e8S0oGcIeyDwo6rEXgd+vT/9JT7ZaoHW\n",
       "um+QqwQ28IPXLdpFOsB3KnLUsJoiYSe8SiaTRQhFBOkM6HkR9k5PsQYV4g/Ybqs6t5nNJizQjUYZ\n",
       "UupcND6glL+Mtq/WsZqECtTQJ9O6B6GSMYE2lN1FGniiXaSaq7QFWjJfpO5y1jA8ISoiiLQXRiXw\n",
       "Rv7w+tDq4fL6cJe8YZjqzWOkB4i7gWhMLeg8cw3A6aXZZP2D9Kbrt6RLKTcMk1r/zaeCCcLpU8FV\n",
       "SESf/+cDyYcOZv7pA+kawC9k9/3s6IQIsgAAAABJRU5ErkJggg==\n",
       "\" style=\"display:inline;vertical-align:middle;\" /></a><br>"
      ],
      "text/plain": [
       "an_implication: [forall_{x in E} (x in F)] => (E subseteq F)"
      ]
     },
     "execution_count": 51,
     "metadata": {},
     "output_type": "execute_result"
    }
   ],
   "source": [
    "an_implication = Implies(Forall(x, InSet(x,F), domain=E),SubsetEq(E,F))"
   ]
  },
  {
   "cell_type": "code",
   "execution_count": 52,
   "metadata": {},
   "outputs": [
    {
     "data": {
      "text/html": [
       "<span style=\"font-size:20px;\"> <a class=\"ProveItLink\" href=\"../__pv_it/demonstrations/05faba0e7409c3f07e021306f3a5dde618f9d34f0/proof.ipynb\" style=\"text-decoration: none\">&nbsp;&#x22A2;&nbsp;&nbsp;</a><a class=\"ProveItLink\" href=\"../__pv_it/demonstrations/5ef7de47f1b278942f12bcb17f23ffe8b155090a0/expr.ipynb\"><img src=\"data:image/png;base64,iVBORw0KGgoAAAANSUhEUgAAAPMAAAAUBAMAAACqmRY2AAAAMFBMVEX///8QEBBmZmZUVFRERETc\n",
       "3Nzu7u6qqqqYmJgiIiK6urp2dnbMzMwyMjKIiIgAAACRIo6iAAAAAXRSTlMAQObYZgAAA2xJREFU\n",
       "SMelVktoE2EQHttm89gkrVcfGBI8iA9sSQ/WKlFSbC+6oAc9iGsjVZFKEVoQPRStoIVCLiLRSoOg\n",
       "4EVD0Qoe0kBFEA9dClqRlo1VCh6qoa2KfTr/Y19xdxUdyL//Y2a+zMw3/y7MTIC7HHU580oAfbdt\n",
       "Djzdf/Daib/noJDpdScdIWG7/Wl1f2zfCtRTD7/LKa6ya7n8JHxoPhrfVKyUiOEzsvPWCTok2e8T\n",
       "n83Q7gD9RlPpYeurmUymn02rMdSqbkEhhkdIghJO0Ffst4OLOPSCWLSF9kVwCKzg0ErXx58aZ6M5\n",
       "PM9CnhiGZACxwwn6psVlS+Yuz9sCDpdBqLFAN/Gnn6RKXMLhvJEELl+zyJECnCSGvqG2tmNOyJ60\n",
       "OdSDsl6H7+CBLoD3FugX/EndhUogohJKhTkwVQbJK0MoSwznk8k7TtBhTJ3wpf5RnizadWSoTjPq\n",
       "D1qgaaJRpqhKQiOv3+zxJ6O/GCGGjUamWMuodTGVs6sK1c7BjSLNc72h8zjCVn0cuiJDZZadNlOV\n",
       "sdpvbHnY5DwwC4Td4FOI4T0QFEuoHxCSB+jHXA3BsHyfLExcHB6rrSHPi1aaecfp4xZVKYBitJom\n",
       "4nJsLdVME0M/hLUbQLgUxWkcNfjGGiSFDElW6o2TKFrFhJ2Ur2UMb19HRjqoADkolCccSZKizkrE\n",
       "UOzWz3o623BcDy99JmiAFUa5hLliQocNtGe3pEPP458WijTSIphJctqA9igjOM9v+1gIUJoIC0Zq\n",
       "ScIhuMQWNUbFFvnkoVbrSSaSnnDa1iKr27iJJDnugSYcmhqQyvIefzbECja7RYcmNOsKl2CaLHYY\n",
       "FVvgkz5L1AHFoBlt6xG2TjXovTGc5c1AaQYXsHmD8E67e8S0oGcIeyDwo6rEXgd+vT/9JT7ZaoHW\n",
       "um+QqwQ28IPXLdpFOsB3KnLUsJoiYSe8SiaTRQhFBOkM6HkR9k5PsQYV4g/Ybqs6t5nNJizQjUYZ\n",
       "UupcND6glL+Mtq/WsZqECtTQJ9O6B6GSMYE2lN1FGniiXaSaq7QFWjJfpO5y1jA8ISoiiLQXRiXw\n",
       "Rv7w+tDq4fL6cJe8YZjqzWOkB4i7gWhMLeg8cw3A6aXZZP2D9Kbrt6RLKTcMk1r/zaeCCcLpU8FV\n",
       "SESf/+cDyYcOZv7pA+kawC9k9/3s6IQIsgAAAABJRU5ErkJggg==\n",
       "\" style=\"display:inline;vertical-align:middle;\" /></a></span>"
      ],
      "text/plain": [
       "|- [forall_{x in E} (x in F)] => (E subseteq F)"
      ]
     },
     "execution_count": 52,
     "metadata": {},
     "output_type": "execute_result"
    }
   ],
   "source": [
    "an_implication.prove()"
   ]
  },
  {
   "cell_type": "markdown",
   "metadata": {},
   "source": [
    "<div style=\"width: 90%; border: 5px solid green; padding: 10px; margin: 0px;\"><a id='demo03'></a><font size=4><b>3.</b> $(x\\in B) \\wedge (A \\supset B) \\Rightarrow (x \\in A)$.</font></div><br>\n",
    "<font size=3>This is a variant of <a href='#demo01'>Demo (1)</a> above. When we know that $x$ is in $B$ and $A$ contains $B$, then $x$ must also be in $A$.<br>\n",
    "Let's define some useful expressions, let Prove-It prove the implication, then look at the proof:</font>"
   ]
  },
  {
   "cell_type": "code",
   "execution_count": 53,
   "metadata": {},
   "outputs": [
    {
     "data": {
      "text/html": [
       "<strong id=\"x_in_a\">x_in_a:</strong> <a class=\"ProveItLink\" href=\"../__pv_it/theorems/89c58886785a6f188ade8c2a1dcacf7288396a140/expr.ipynb\"><img src=\"data:image/png;base64,iVBORw0KGgoAAAANSUhEUgAAADUAAAAPBAMAAAC2KZqIAAAAMFBMVEX///8QEBBmZmaqqqrMzMxE\n",
       "REQyMjIiIiKYmJh2dna6urrc3NxUVFSIiIju7u4AAAA6P00QAAAAAXRSTlMAQObYZgAAAMZJREFU\n",
       "GNNjYMAB3Bhwg3zcUhz5D1D54eVlMPZj/Q3IUiyxSEob7i8Akm/v7Lp5AcR9hiTF9cC+gYGBbwJH\n",
       "LXsCiH8ayYxXDP5A9ZwPOP9xgc0OQJJbwLBfAaiPgRUiyCKWBgRQqw8pnQeL8oNtY+BG0sfFwMAI\n",
       "tsffASIggJAzYGBgB3KZH9xn4AW7UBcuxQ2UY/vAwLDeIJ5hB1iE3QAmtx2IWX8zMLy5+1ajASzC\n",
       "d3QdROrp/zwG5vjvCsgBwzUVEWYgAACVrTGb/6vh/gAAAABJRU5ErkJggg==\n",
       "\" style=\"display:inline;vertical-align:middle;\" /></a><br>\n",
       "<strong id=\"x_in_b\">x_in_b:</strong> <a class=\"ProveItLink\" href=\"../__pv_it/theorems/2b6b67c6dcbdfcb6a177ea6eafd4c81308a6b77e0/expr.ipynb\"><img src=\"data:image/png;base64,iVBORw0KGgoAAAANSUhEUgAAADUAAAAPBAMAAAC2KZqIAAAAMFBMVEX///8QEBBmZmaqqqrMzMxE\n",
       "REQyMjIiIiKYmJh2dna6urrc3NxUVFSIiIju7u4AAAA6P00QAAAAAXRSTlMAQObYZgAAANpJREFU\n",
       "GNNjYMACOM7/UToaxYAdMAYwMOg7YJfzb2BgWK+ALNJaXp4AYd3fwMDQfwFJyvUenBnIwMAn/oCB\n",
       "4e2dXTdBSvjyEMr+MDC4nwMKTeCoZQcZxbMBLsXyp+NqMZDmfMD5jwskzIrQxvubgeHhAaA+BtYA\n",
       "sIBjGhBA3MIqAJT/DGLxQxy0FaGPH6iH9y/YMxBPMqJ6j+cXAwPzg/sMvEDnMjAh/APynj/QpvUG\n",
       "8Qw7wCLFcLlEBgYuUaD6N3ffajSARd5EPYBIHft/SCfUADUUV4bDwgwCAHpvO2L/i5h0AAAAAElF\n",
       "TkSuQmCC\n",
       "\" style=\"display:inline;vertical-align:middle;\" /></a><br>\n",
       "<strong id=\"ASupersetOfB\">ASupersetOfB:</strong> <a class=\"ProveItLink\" href=\"../__pv_it/theorems/2fced9727b6076180192dd37cb5cd3a2262487000/expr.ipynb\"><img src=\"data:image/png;base64,iVBORw0KGgoAAAANSUhEUgAAADsAAAAPBAMAAACo4Ko7AAAAMFBMVEX///92dnYiIiIQEBBERERU\n",
       "VFS6urqIiIjc3NxmZmaqqqru7u6YmJgyMjLMzMwAAADiRdoGAAAAAXRSTlMAQObYZgAAAOlJREFU\n",
       "GNNjYACBtwzogCf+68wQNyjnPoY0A7MDA8P8BxCl9zdgSL8/wMCQPwHM3DW/AUQ9UlJS8oFJ1wOF\n",
       "zheAmQfqE2CijTegDGcGBm4jsKFsG9YfgBvaBKW/Ak2LBrO2MbwvgEtzQezj+3qmRAsiksDQPwHh\n",
       "JgUwyf6DgWFzAFhh5Mx4B4R0BJhkMQAq+QW2GujJCwhpbzDJD9TJ/h3EWsDAwGSAbjjI26zfgAwO\n",
       "oDTvB7gsuwDc2+8doD5h+QGXXguhLgMtNQF6e8v/2wxc/p+gTudOhfg19n/kVJcFqMEMDFQVOVQh\n",
       "AHRFPLnG8m3jAAAAAElFTkSuQmCC\n",
       "\" style=\"display:inline;vertical-align:middle;\" /></a><br>"
      ],
      "text/plain": [
       "x_in_a: x in A\n",
       "x_in_b: x in B\n",
       "ASupersetOfB: A proper_superset B"
      ]
     },
     "execution_count": 53,
     "metadata": {},
     "output_type": "execute_result"
    }
   ],
   "source": [
    "# define some expressions\n",
    "x_in_a, x_in_b, ASupersetOfB = InSet(x, A), InSet(x, B),ProperSuperset(A, B)"
   ]
  },
  {
   "cell_type": "code",
   "execution_count": 54,
   "metadata": {},
   "outputs": [
    {
     "data": {
      "text/html": [
       "<strong id=\"x_in_a_kt\">x_in_a_kt:</strong> <span style=\"font-size:20px;\"><a class=\"ProveItLink\" href=\"../__pv_it/theorems/2fced9727b6076180192dd37cb5cd3a2262487000/expr.ipynb\"><img src=\"data:image/png;base64,iVBORw0KGgoAAAANSUhEUgAAADsAAAAPBAMAAACo4Ko7AAAAMFBMVEX///92dnYiIiIQEBBERERU\n",
       "VFS6urqIiIjc3NxmZmaqqqru7u6YmJgyMjLMzMwAAADiRdoGAAAAAXRSTlMAQObYZgAAAOlJREFU\n",
       "GNNjYACBtwzogCf+68wQNyjnPoY0A7MDA8P8BxCl9zdgSL8/wMCQPwHM3DW/AUQ9UlJS8oFJ1wOF\n",
       "zheAmQfqE2CijTegDGcGBm4jsKFsG9YfgBvaBKW/Ak2LBrO2MbwvgEtzQezj+3qmRAsiksDQPwHh\n",
       "JgUwyf6DgWFzAFhh5Mx4B4R0BJhkMQAq+QW2GujJCwhpbzDJD9TJ/h3EWsDAwGSAbjjI26zfgAwO\n",
       "oDTvB7gsuwDc2+8doD5h+QGXXguhLgMtNQF6e8v/2wxc/p+gTudOhfg19n/kVJcFqMEMDFQVOVQh\n",
       "AHRFPLnG8m3jAAAAAElFTkSuQmCC\n",
       "\" style=\"display:inline;vertical-align:middle;\" /></a>, <a class=\"ProveItLink\" href=\"../__pv_it/theorems/2b6b67c6dcbdfcb6a177ea6eafd4c81308a6b77e0/expr.ipynb\"><img src=\"data:image/png;base64,iVBORw0KGgoAAAANSUhEUgAAADUAAAAPBAMAAAC2KZqIAAAAMFBMVEX///8QEBBmZmaqqqrMzMxE\n",
       "REQyMjIiIiKYmJh2dna6urrc3NxUVFSIiIju7u4AAAA6P00QAAAAAXRSTlMAQObYZgAAANpJREFU\n",
       "GNNjYMACOM7/UToaxYAdMAYwMOg7YJfzb2BgWK+ALNJaXp4AYd3fwMDQfwFJyvUenBnIwMAn/oCB\n",
       "4e2dXTdBSvjyEMr+MDC4nwMKTeCoZQcZxbMBLsXyp+NqMZDmfMD5jwskzIrQxvubgeHhAaA+BtYA\n",
       "sIBjGhBA3MIqAJT/DGLxQxy0FaGPH6iH9y/YMxBPMqJ6j+cXAwPzg/sMvEDnMjAh/APynj/QpvUG\n",
       "8Qw7wCLFcLlEBgYuUaD6N3ffajSARd5EPYBIHft/SCfUADUUV4bDwgwCAHpvO2L/i5h0AAAAAElF\n",
       "TkSuQmCC\n",
       "\" style=\"display:inline;vertical-align:middle;\" /></a> <a class=\"ProveItLink\" href=\"../__pv_it/demonstrations/e7b439fa18e009cb2b4080b2e927f5b4a77124a90/proof.ipynb\" style=\"text-decoration: none\">&nbsp;&#x22A2;&nbsp;&nbsp;</a><a class=\"ProveItLink\" href=\"../__pv_it/theorems/89c58886785a6f188ade8c2a1dcacf7288396a140/expr.ipynb\"><img src=\"data:image/png;base64,iVBORw0KGgoAAAANSUhEUgAAADUAAAAPBAMAAAC2KZqIAAAAMFBMVEX///8QEBBmZmaqqqrMzMxE\n",
       "REQyMjIiIiKYmJh2dna6urrc3NxUVFSIiIju7u4AAAA6P00QAAAAAXRSTlMAQObYZgAAAMZJREFU\n",
       "GNNjYMAB3Bhwg3zcUhz5D1D54eVlMPZj/Q3IUiyxSEob7i8Akm/v7Lp5AcR9hiTF9cC+gYGBbwJH\n",
       "LXsCiH8ayYxXDP5A9ZwPOP9xgc0OQJJbwLBfAaiPgRUiyCKWBgRQqw8pnQeL8oNtY+BG0sfFwMAI\n",
       "tsffASIggJAzYGBgB3KZH9xn4AW7UBcuxQ2UY/vAwLDeIJ5hB1iE3QAmtx2IWX8zMLy5+1ajASzC\n",
       "d3QdROrp/zwG5vjvCsgBwzUVEWYgAACVrTGb/6vh/gAAAABJRU5ErkJggg==\n",
       "\" style=\"display:inline;vertical-align:middle;\" /></a></span><br>"
      ],
      "text/plain": [
       "x_in_a_kt: {A proper_superset B, x in B} |- x in A"
      ]
     },
     "execution_count": 54,
     "metadata": {},
     "output_type": "execute_result"
    }
   ],
   "source": [
    "# establish the Known Truth\n",
    "x_in_a_kt = x_in_a.prove([x_in_b, ASupersetOfB])"
   ]
  },
  {
   "cell_type": "markdown",
   "metadata": {},
   "source": [
    "<a id='demo03'></a><font size=3>In the proof, we see the relaxation theorem taking $A \\supset B$ to $A \\supseteq B$, and then the reversal theorem taking $A \\supseteq B$ to $B \\subseteq A$, then proceeding as it would for the example in <a href='#demo01'>Demo (1)</a> earlier:</font>"
   ]
  },
  {
   "cell_type": "code",
   "execution_count": 55,
   "metadata": {},
   "outputs": [
    {
     "data": {
      "text/html": [
       "<table><tr><th>&nbsp;</th><th>step type</th><th>requirements</th><th>statement</th></tr>\n",
       "<tr><td><a name=\"-0x2c8d087eecae1051_step0\">0</a></td><td>instantiation</td><td><a href=\"#-0x2c8d087eecae1051_step1\">1</a>, <a href=\"#-0x2c8d087eecae1051_step2\">2</a>, <a href=\"#-0x2c8d087eecae1051_step3\">3</a></td><td><span style=\"font-size:20px;\"><a class=\"ProveItLink\" href=\"../__pv_it/theorems/2fced9727b6076180192dd37cb5cd3a2262487000/expr.ipynb\"><img src=\"data:image/png;base64,iVBORw0KGgoAAAANSUhEUgAAADsAAAAPBAMAAACo4Ko7AAAAMFBMVEX///92dnYiIiIQEBBERERU\n",
       "VFS6urqIiIjc3NxmZmaqqqru7u6YmJgyMjLMzMwAAADiRdoGAAAAAXRSTlMAQObYZgAAAOlJREFU\n",
       "GNNjYACBtwzogCf+68wQNyjnPoY0A7MDA8P8BxCl9zdgSL8/wMCQPwHM3DW/AUQ9UlJS8oFJ1wOF\n",
       "zheAmQfqE2CijTegDGcGBm4jsKFsG9YfgBvaBKW/Ak2LBrO2MbwvgEtzQezj+3qmRAsiksDQPwHh\n",
       "JgUwyf6DgWFzAFhh5Mx4B4R0BJhkMQAq+QW2GujJCwhpbzDJD9TJ/h3EWsDAwGSAbjjI26zfgAwO\n",
       "oDTvB7gsuwDc2+8doD5h+QGXXguhLgMtNQF6e8v/2wxc/p+gTudOhfg19n/kVJcFqMEMDFQVOVQh\n",
       "AHRFPLnG8m3jAAAAAElFTkSuQmCC\n",
       "\" style=\"display:inline;vertical-align:middle;\" /></a>, <a class=\"ProveItLink\" href=\"../__pv_it/theorems/2b6b67c6dcbdfcb6a177ea6eafd4c81308a6b77e0/expr.ipynb\"><img src=\"data:image/png;base64,iVBORw0KGgoAAAANSUhEUgAAADUAAAAPBAMAAAC2KZqIAAAAMFBMVEX///8QEBBmZmaqqqrMzMxE\n",
       "REQyMjIiIiKYmJh2dna6urrc3NxUVFSIiIju7u4AAAA6P00QAAAAAXRSTlMAQObYZgAAANpJREFU\n",
       "GNNjYMACOM7/UToaxYAdMAYwMOg7YJfzb2BgWK+ALNJaXp4AYd3fwMDQfwFJyvUenBnIwMAn/oCB\n",
       "4e2dXTdBSvjyEMr+MDC4nwMKTeCoZQcZxbMBLsXyp+NqMZDmfMD5jwskzIrQxvubgeHhAaA+BtYA\n",
       "sIBjGhBA3MIqAJT/DGLxQxy0FaGPH6iH9y/YMxBPMqJ6j+cXAwPzg/sMvEDnMjAh/APynj/QpvUG\n",
       "8Qw7wCLFcLlEBgYuUaD6N3ffajSARd5EPYBIHft/SCfUADUUV4bDwgwCAHpvO2L/i5h0AAAAAElF\n",
       "TkSuQmCC\n",
       "\" style=\"display:inline;vertical-align:middle;\" /></a> <a class=\"ProveItLink\" href=\"../__pv_it/demonstrations/e7b439fa18e009cb2b4080b2e927f5b4a77124a90/proof.ipynb\" style=\"text-decoration: none\">&nbsp;&#x22A2;&nbsp;&nbsp;</a><a class=\"ProveItLink\" href=\"../__pv_it/theorems/89c58886785a6f188ade8c2a1dcacf7288396a140/expr.ipynb\"><img src=\"data:image/png;base64,iVBORw0KGgoAAAANSUhEUgAAADUAAAAPBAMAAAC2KZqIAAAAMFBMVEX///8QEBBmZmaqqqrMzMxE\n",
       "REQyMjIiIiKYmJh2dna6urrc3NxUVFSIiIju7u4AAAA6P00QAAAAAXRSTlMAQObYZgAAAMZJREFU\n",
       "GNNjYMAB3Bhwg3zcUhz5D1D54eVlMPZj/Q3IUiyxSEob7i8Akm/v7Lp5AcR9hiTF9cC+gYGBbwJH\n",
       "LXsCiH8ayYxXDP5A9ZwPOP9xgc0OQJJbwLBfAaiPgRUiyCKWBgRQqw8pnQeL8oNtY+BG0sfFwMAI\n",
       "tsffASIggJAzYGBgB3KZH9xn4AW7UBcuxQ2UY/vAwLDeIJ5hB1iE3QAmtx2IWX8zMLy5+1ajASzC\n",
       "d3QdROrp/zwG5vjvCsgBwzUVEWYgAACVrTGb/6vh/gAAAABJRU5ErkJggg==\n",
       "\" style=\"display:inline;vertical-align:middle;\" /></a></span></td></tr>\n",
       "<tr><td>&nbsp;</td><td colspan=4 style=\"text-align:left\"><span style=\"font-size:20px;\"><a class=\"ProveItLink\" href=\"../../../../__pv_it/common/09585084922504426caf1db2ff588a23a0932a960/expr.ipynb\"><img src=\"data:image/png;base64,iVBORw0KGgoAAAANSUhEUgAAAA8AAAAOBAMAAAACpFvcAAAALVBMVEX///8iIiIQEBBERERUVFS6\n",
       "urqIiIjc3NxmZmaqqqru7u6YmJgyMjLMzMwAAACK9jtgAAAAAXRSTlMAQObYZgAAAFtJREFUCNdj\n",
       "YACBOwxQcA5Kc59bAGGs7CuAMDbkBYBp1gXzNoAZSxnuJYAZAQx1DSCa16PDzwCshIGB6QCIMYGB\n",
       "gVEBSLMDGTwPgIxCIGZ+zsCw+N0pBk67hw0AfpEVEQi8t+wAAAAASUVORK5CYII=\n",
       "\" style=\"display:inline;vertical-align:middle;\" /></a> : <a class=\"ProveItLink\" href=\"../../../../__pv_it/common/a9162d1c3cc0470c02e5daf414500903a7a419230/expr.ipynb\"><img src=\"data:image/png;base64,iVBORw0KGgoAAAANSUhEUgAAABAAAAAOBAMAAADUAYG5AAAALVBMVEX///8yMjKqqqoiIiLu7u7c\n",
       "3NyIiIjMzMwQEBC6urpERERmZmZUVFSYmJgAAACsPVCVAAAAAXRSTlMAQObYZgAAAGxJREFUCNdj\n",
       "YGC48+70nlUTGICgi4GB+zmQZn/LwMD5Gshge8rAwPsMyOBqYGDwMAEy+A4wsNs4ABl1Z68tVgBp\n",
       "ygtgYOkBMVaAOCChNyBGAsQYhnMTIMawvwJyGIHGzFjCwMAj92b3qUUMDAAXABxvZ4rl5AAAAABJ\n",
       "RU5ErkJggg==\n",
       "\" style=\"display:inline;vertical-align:middle;\" /></a>, <a class=\"ProveItLink\" href=\"../../../../__pv_it/common/a9162d1c3cc0470c02e5daf414500903a7a419230/expr.ipynb\"><img src=\"data:image/png;base64,iVBORw0KGgoAAAANSUhEUgAAABAAAAAOBAMAAADUAYG5AAAALVBMVEX///8yMjKqqqoiIiLu7u7c\n",
       "3NyIiIjMzMwQEBC6urpERERmZmZUVFSYmJgAAACsPVCVAAAAAXRSTlMAQObYZgAAAGxJREFUCNdj\n",
       "YGC48+70nlUTGICgi4GB+zmQZn/LwMD5Gshge8rAwPsMyOBqYGDwMAEy+A4wsNs4ABl1Z68tVgBp\n",
       "ygtgYOkBMVaAOCChNyBGAsQYhnMTIMawvwJyGIHGzFjCwMAj92b3qUUMDAAXABxvZ4rl5AAAAABJ\n",
       "RU5ErkJggg==\n",
       "\" style=\"display:inline;vertical-align:middle;\" /></a> : <a class=\"ProveItLink\" href=\"../../../../__pv_it/common/09585084922504426caf1db2ff588a23a0932a960/expr.ipynb\"><img src=\"data:image/png;base64,iVBORw0KGgoAAAANSUhEUgAAAA8AAAAOBAMAAAACpFvcAAAALVBMVEX///8iIiIQEBBERERUVFS6\n",
       "urqIiIjc3NxmZmaqqqru7u6YmJgyMjLMzMwAAACK9jtgAAAAAXRSTlMAQObYZgAAAFtJREFUCNdj\n",
       "YACBOwxQcA5Kc59bAGGs7CuAMDbkBYBp1gXzNoAZSxnuJYAZAQx1DSCa16PDzwCshIGB6QCIMYGB\n",
       "gVEBSLMDGTwPgIxCIGZ+zsCw+N0pBk67hw0AfpEVEQi8t+wAAAAASUVORK5CYII=\n",
       "\" style=\"display:inline;vertical-align:middle;\" /></a>, <a class=\"ProveItLink\" href=\"../../../../__pv_it/common/a0d9d672aa5e272d907247690c152cc2c6daafb70/expr.ipynb\"><img src=\"data:image/png;base64,iVBORw0KGgoAAAANSUhEUgAAAAsAAAAJBAMAAAAWSsseAAAALVBMVEX///9mZmaqqqrMzMxEREQy\n",
       "MjIiIiKYmJh2dna6urrc3NxUVFSIiIju7u4AAACJHQtQAAAAAXRSTlMAQObYZgAAAEJJREFUCNdj\n",
       "YLhzeuWJAwy8Dew5bAEMHBc43nIuYOBlYHFgAAG+A2DKzgBIMF04x8BzgWGegh/DcgaG22fuiBcw\n",
       "AAATyhBrnyPYZQAAAABJRU5ErkJggg==\n",
       "\" style=\"display:inline;vertical-align:middle;\" /></a> : <a class=\"ProveItLink\" href=\"../../../../__pv_it/common/a0d9d672aa5e272d907247690c152cc2c6daafb70/expr.ipynb\"><img src=\"data:image/png;base64,iVBORw0KGgoAAAANSUhEUgAAAAsAAAAJBAMAAAAWSsseAAAALVBMVEX///9mZmaqqqrMzMxEREQy\n",
       "MjIiIiKYmJh2dna6urrc3NxUVFSIiIju7u4AAACJHQtQAAAAAXRSTlMAQObYZgAAAEJJREFUCNdj\n",
       "YLhzeuWJAwy8Dew5bAEMHBc43nIuYOBlYHFgAAG+A2DKzgBIMF04x8BzgWGegh/DcgaG22fuiBcw\n",
       "AAATyhBrnyPYZQAAAABJRU5ErkJggg==\n",
       "\" style=\"display:inline;vertical-align:middle;\" /></a></span></td></tr><tr><td><a name=\"-0x2c8d087eecae1051_step1\">1</a></td><td>theorem</td><td></td><td><span style=\"font-size:20px;\"> <a class=\"ProveItLink\" href=\"proofs/unfold_subset_eq/thm_proof.ipynb\" style=\"text-decoration: none\">&nbsp;&#x22A2;&nbsp;&nbsp;</a><a class=\"ProveItLink\" href=\"../__pv_it/theorems/5858156414a270279730f76d36638b81164d2dfe0/expr.ipynb\"><img src=\"data:image/png;base64,iVBORw0KGgoAAAANSUhEUgAAAPcAAAAWBAMAAADuuhdHAAAAMFBMVEX///8QEBCIiIhmZma6urrM\n",
       "zMxUVFQiIiJERETc3Nzu7u6qqqp2dnaYmJgyMjIAAAAcRTyBAAAAAXRSTlMAQObYZgAAA4FJREFU\n",
       "SMe9lk1oE0EUx/8m2TS7SZqeRNBDsAdLsRooVJSqsV4UKo09iDeDWqgHMahYv42idtsqiRctgnZF\n",
       "sFhLDXhSD8YWsbZ+xAp+iwseCj3U0BqtlaLzsclOQ1JtRN9hd2bem/d7M/Pe7AIFimU0MLPBpZmU\n",
       "twH3sB86bX+YPdzlL6YvdyKPXgnnHH75c1uV6oc9Sj1gkA6NFAJ3xcirWMujL47mHp8HWFNQdAZv\n",
       "JwNyuBA4m9WeT/8i97A0BdjGgV4Gp6GzNcwazvZrMJ/+wLTe66YmnafKd3JUY8AV5sE90NV1AQXB\n",
       "33d1XQ/lUcvTFJvL0y1HCQEfJKfipx4woaqHC4N7VLU5nq8YfCTnFu6o6WXJZ+aUJwhpH91sH4M3\n",
       "AC1snD/Xjfc1slyxZYLNpI4tUl3VYsLtAUGXZesgVdCNV96jtGM3rbbsHGqmh+zWGXwtSz3S/cK0\n",
       "7hK4Stj0tP1HYtStqqdJ8zlw34TbfOjJWjC1ZVJECAN4pq2f5gpYGoUyl7ydIQYvgoXV6tUpprUG\n",
       "4ZwUZyirE5BO8XYVcE/LwBFCRdrpjb6Vhi2XOUStQeWdjaNEeMIdpwGQwKQk8+BKFLHhgT08ZC+s\n",
       "ugh3dfoy7d3AKnPleIJ0WrnbLmqGrQkHxnhHqMevFO7NwGV9EytALw/zZgBLNBFe7wjjrrEJKVhG\n",
       "BPhlKUgapfUN5Owytua2Q0oZkUwrc+wiU21829GynSUFljF1XUVZECI8aA1huZFwY0OnhWyH4zx5\n",
       "lNv1vfyS5rZmwt2xJMFqzOrNFAEpc2nCTDjcYhPeYSlTPwUWiXB3jLh4ZAB1WEIC3EnjDRQnoPhM\n",
       "W0Ptg+2HIynzHDiUuXRJLq9ppfHEOdxD41I+PY6w3T4DdMQEeE91/yRqjOXEIf8Q4PxMPVFI+1X1\n",
       "hGFrbFIIytbyUuOLde0kT1P756+VjW0sigD34KYKq4YO9o0kzuuiAnwF5FS6fD0x2L6L8LesdBFA\n",
       "0LTNeb3WNhvXa1o6DQ9MNhDXCbkV8iTkBcK228i+TUE5y+gdGs7FRTi9R5NPEccD03bmD0taegW4\n",
       "YwJy5Ig0Hw/HKxv9AjwSRvu3BJz95JJxHausOoksuLKzdrEGR8y0zb4Xc37tdXHlXJziTfnbu12U\n",
       "Mnrmf/AzIYSWDb/953DL0b/5jXpDHAxnwRN54O0qEfxHsf57xC8BVPer1lKnkwAAAABJRU5ErkJg\n",
       "gg==\n",
       "\" style=\"display:inline;vertical-align:middle;\" /></a></span></td></tr>\n",
       "<tr><td>&nbsp;</td><td colspan=4 style-\"text-align:left\"><a class=\"ProveItLink\" href=\"proofs/unfold_subset_eq/thm_proof.ipynb\">proveit.logic.sets.inclusion.unfold_subset_eq</a></td></tr><tr><td><a name=\"-0x2c8d087eecae1051_step2\">2</a></td><td>instantiation</td><td><a href=\"#-0x2c8d087eecae1051_step4\">4</a>, <a href=\"#-0x2c8d087eecae1051_step5\">5</a></td><td><span style=\"font-size:20px;\"><a class=\"ProveItLink\" href=\"../__pv_it/theorems/2fced9727b6076180192dd37cb5cd3a2262487000/expr.ipynb\"><img src=\"data:image/png;base64,iVBORw0KGgoAAAANSUhEUgAAADsAAAAPBAMAAACo4Ko7AAAAMFBMVEX///92dnYiIiIQEBBERERU\n",
       "VFS6urqIiIjc3NxmZmaqqqru7u6YmJgyMjLMzMwAAADiRdoGAAAAAXRSTlMAQObYZgAAAOlJREFU\n",
       "GNNjYACBtwzogCf+68wQNyjnPoY0A7MDA8P8BxCl9zdgSL8/wMCQPwHM3DW/AUQ9UlJS8oFJ1wOF\n",
       "zheAmQfqE2CijTegDGcGBm4jsKFsG9YfgBvaBKW/Ak2LBrO2MbwvgEtzQezj+3qmRAsiksDQPwHh\n",
       "JgUwyf6DgWFzAFhh5Mx4B4R0BJhkMQAq+QW2GujJCwhpbzDJD9TJ/h3EWsDAwGSAbjjI26zfgAwO\n",
       "oDTvB7gsuwDc2+8doD5h+QGXXguhLgMtNQF6e8v/2wxc/p+gTudOhfg19n/kVJcFqMEMDFQVOVQh\n",
       "AHRFPLnG8m3jAAAAAElFTkSuQmCC\n",
       "\" style=\"display:inline;vertical-align:middle;\" /></a> <a class=\"ProveItLink\" href=\"../__pv_it/demonstrations/92eef88679ee3f40e61cbc9bc1c77f899e3728ab0/proof.ipynb\" style=\"text-decoration: none\">&nbsp;&#x22A2;&nbsp;&nbsp;</a><a class=\"ProveItLink\" href=\"../__pv_it/theorems/d5b0af4e04f985ab73bddb2ee7a9efe9e2ef36c20/expr.ipynb\"><img src=\"data:image/png;base64,iVBORw0KGgoAAAANSUhEUgAAADsAAAARBAMAAACRPMnQAAAAMFBMVEX///92dnYyMjKqqqoiIiLu\n",
       "7u7c3NyIiIjMzMwQEBC6urpERERmZmZUVFSYmJgAAADEjrHzAAAAAXRSTlMAQObYZgAAAO5JREFU\n",
       "KM9jYGB4+//O2d0LGDBBE4SazcDA8wPM4rvi4uLSAJPWB5Mc/xgYuP6AWGyKCUia+fQDQBT7NyDz\n",
       "O4jFhCzLEHwezOWewMAQ6QpiHUax+kE92EH8Fxg4fMHmOCDLcgXYPwDR/feebzEAW30BWTqKob8A\n",
       "RNcnMLDOBTFYNyBLL2DIPwCid4KUGKAbznHnzH2w8r8gabA54shWMzBwKkC9zXAf7EgmA4Q0kMky\n",
       "Aeptjt9gIda7S2GybEBppg8gLUA1K7dCLZSGBWoKKECAGnn1/565vRk9NqL/qzIw7/9ygIF6QMTF\n",
       "BTlCgQAAZho+lB/Z+SsAAAAASUVORK5CYII=\n",
       "\" style=\"display:inline;vertical-align:middle;\" /></a></span></td></tr>\n",
       "<tr><td>&nbsp;</td><td colspan=4 style=\"text-align:left\"><span style=\"font-size:20px;\"><a class=\"ProveItLink\" href=\"../../../../__pv_it/common/09585084922504426caf1db2ff588a23a0932a960/expr.ipynb\"><img src=\"data:image/png;base64,iVBORw0KGgoAAAANSUhEUgAAAA8AAAAOBAMAAAACpFvcAAAALVBMVEX///8iIiIQEBBERERUVFS6\n",
       "urqIiIjc3NxmZmaqqqru7u6YmJgyMjLMzMwAAACK9jtgAAAAAXRSTlMAQObYZgAAAFtJREFUCNdj\n",
       "YACBOwxQcA5Kc59bAGGs7CuAMDbkBYBp1gXzNoAZSxnuJYAZAQx1DSCa16PDzwCshIGB6QCIMYGB\n",
       "gVEBSLMDGTwPgIxCIGZ+zsCw+N0pBk67hw0AfpEVEQi8t+wAAAAASUVORK5CYII=\n",
       "\" style=\"display:inline;vertical-align:middle;\" /></a> : <a class=\"ProveItLink\" href=\"../../../../__pv_it/common/09585084922504426caf1db2ff588a23a0932a960/expr.ipynb\"><img src=\"data:image/png;base64,iVBORw0KGgoAAAANSUhEUgAAAA8AAAAOBAMAAAACpFvcAAAALVBMVEX///8iIiIQEBBERERUVFS6\n",
       "urqIiIjc3NxmZmaqqqru7u6YmJgyMjLMzMwAAACK9jtgAAAAAXRSTlMAQObYZgAAAFtJREFUCNdj\n",
       "YACBOwxQcA5Kc59bAGGs7CuAMDbkBYBp1gXzNoAZSxnuJYAZAQx1DSCa16PDzwCshIGB6QCIMYGB\n",
       "gVEBSLMDGTwPgIxCIGZ+zsCw+N0pBk67hw0AfpEVEQi8t+wAAAAASUVORK5CYII=\n",
       "\" style=\"display:inline;vertical-align:middle;\" /></a>, <a class=\"ProveItLink\" href=\"../../../../__pv_it/common/a9162d1c3cc0470c02e5daf414500903a7a419230/expr.ipynb\"><img src=\"data:image/png;base64,iVBORw0KGgoAAAANSUhEUgAAABAAAAAOBAMAAADUAYG5AAAALVBMVEX///8yMjKqqqoiIiLu7u7c\n",
       "3NyIiIjMzMwQEBC6urpERERmZmZUVFSYmJgAAACsPVCVAAAAAXRSTlMAQObYZgAAAGxJREFUCNdj\n",
       "YGC48+70nlUTGICgi4GB+zmQZn/LwMD5Gshge8rAwPsMyOBqYGDwMAEy+A4wsNs4ABl1Z68tVgBp\n",
       "ygtgYOkBMVaAOCChNyBGAsQYhnMTIMawvwJyGIHGzFjCwMAj92b3qUUMDAAXABxvZ4rl5AAAAABJ\n",
       "RU5ErkJggg==\n",
       "\" style=\"display:inline;vertical-align:middle;\" /></a> : <a class=\"ProveItLink\" href=\"../../../../__pv_it/common/a9162d1c3cc0470c02e5daf414500903a7a419230/expr.ipynb\"><img src=\"data:image/png;base64,iVBORw0KGgoAAAANSUhEUgAAABAAAAAOBAMAAADUAYG5AAAALVBMVEX///8yMjKqqqoiIiLu7u7c\n",
       "3NyIiIjMzMwQEBC6urpERERmZmZUVFSYmJgAAACsPVCVAAAAAXRSTlMAQObYZgAAAGxJREFUCNdj\n",
       "YGC48+70nlUTGICgi4GB+zmQZn/LwMD5Gshge8rAwPsMyOBqYGDwMAEy+A4wsNs4ABl1Z68tVgBp\n",
       "ygtgYOkBMVaAOCChNyBGAsQYhnMTIMawvwJyGIHGzFjCwMAj92b3qUUMDAAXABxvZ4rl5AAAAABJ\n",
       "RU5ErkJggg==\n",
       "\" style=\"display:inline;vertical-align:middle;\" /></a></span></td></tr><tr><td><a name=\"-0x2c8d087eecae1051_step3\">3</a></td><td>assumption</td><td></td><td><span style=\"font-size:20px;\"><a class=\"ProveItLink\" href=\"../__pv_it/theorems/2b6b67c6dcbdfcb6a177ea6eafd4c81308a6b77e0/expr.ipynb\"><img src=\"data:image/png;base64,iVBORw0KGgoAAAANSUhEUgAAADUAAAAPBAMAAAC2KZqIAAAAMFBMVEX///8QEBBmZmaqqqrMzMxE\n",
       "REQyMjIiIiKYmJh2dna6urrc3NxUVFSIiIju7u4AAAA6P00QAAAAAXRSTlMAQObYZgAAANpJREFU\n",
       "GNNjYMACOM7/UToaxYAdMAYwMOg7YJfzb2BgWK+ALNJaXp4AYd3fwMDQfwFJyvUenBnIwMAn/oCB\n",
       "4e2dXTdBSvjyEMr+MDC4nwMKTeCoZQcZxbMBLsXyp+NqMZDmfMD5jwskzIrQxvubgeHhAaA+BtYA\n",
       "sIBjGhBA3MIqAJT/DGLxQxy0FaGPH6iH9y/YMxBPMqJ6j+cXAwPzg/sMvEDnMjAh/APynj/QpvUG\n",
       "8Qw7wCLFcLlEBgYuUaD6N3ffajSARd5EPYBIHft/SCfUADUUV4bDwgwCAHpvO2L/i5h0AAAAAElF\n",
       "TkSuQmCC\n",
       "\" style=\"display:inline;vertical-align:middle;\" /></a> <a class=\"ProveItLink\" href=\"../__pv_it/demonstrations/502a28191d16671958fdd48e9c9c1ab0b14244b70/proof.ipynb\" style=\"text-decoration: none\">&nbsp;&#x22A2;&nbsp;&nbsp;</a><a class=\"ProveItLink\" href=\"../__pv_it/theorems/2b6b67c6dcbdfcb6a177ea6eafd4c81308a6b77e0/expr.ipynb\"><img src=\"data:image/png;base64,iVBORw0KGgoAAAANSUhEUgAAADUAAAAPBAMAAAC2KZqIAAAAMFBMVEX///8QEBBmZmaqqqrMzMxE\n",
       "REQyMjIiIiKYmJh2dna6urrc3NxUVFSIiIju7u4AAAA6P00QAAAAAXRSTlMAQObYZgAAANpJREFU\n",
       "GNNjYMACOM7/UToaxYAdMAYwMOg7YJfzb2BgWK+ALNJaXp4AYd3fwMDQfwFJyvUenBnIwMAn/oCB\n",
       "4e2dXTdBSvjyEMr+MDC4nwMKTeCoZQcZxbMBLsXyp+NqMZDmfMD5jwskzIrQxvubgeHhAaA+BtYA\n",
       "sIBjGhBA3MIqAJT/DGLxQxy0FaGPH6iH9y/YMxBPMqJ6j+cXAwPzg/sMvEDnMjAh/APynj/QpvUG\n",
       "8Qw7wCLFcLlEBgYuUaD6N3ffajSARd5EPYBIHft/SCfUADUUV4bDwgwCAHpvO2L/i5h0AAAAAElF\n",
       "TkSuQmCC\n",
       "\" style=\"display:inline;vertical-align:middle;\" /></a></span></td></tr>\n",
       "<tr><td><a name=\"-0x2c8d087eecae1051_step4\">4</a></td><td>theorem</td><td></td><td><span style=\"font-size:20px;\"> <a class=\"ProveItLink\" href=\"proofs/reverse_supset_eq/thm_proof.ipynb\" style=\"text-decoration: none\">&nbsp;&#x22A2;&nbsp;&nbsp;</a><a class=\"ProveItLink\" href=\"../__pv_it/theorems/92dc7ebf108e9ba96bde8cf6665d4cc5aace11f50/expr.ipynb\"><img src=\"data:image/png;base64,iVBORw0KGgoAAAANSUhEUgAAALoAAAAWBAMAAACF/ptXAAAAMFBMVEX///8QEBCIiIhmZma6urrM\n",
       "zMxUVFQiIiJERETc3Nzu7u6qqqp2dnaYmJgyMjIAAAAcRTyBAAAAAXRSTlMAQObYZgAAAtZJREFU\n",
       "SMetVU1oE1EQ/rpJ2t1NNvamoIfc7EUrBCJosQEPiiANCrUnE6g/1YMtegiiYgUpW1EST/YiWVFQ\n",
       "KtSgB/HUapGWKhL1KLUR9VKEltb+I3XmvW760mqrSx/s23lv3nwz75vZWcDzuLuOPpgFiiwMewA3\n",
       "2wGrdTracv1P2uP0nAHesDzqAT1MoaGCXNQnxNo6nU6nE652jJ4eoIteRrsH9I88JQtAwy6WjB9Z\n",
       "RWmNOUAogjC/8h7QL/JUS5AjkdJVSuNxPS3NalhD3d13PIAbbTxfI4zNDkt7y7SF2jjN34BZ277s\n",
       "AV0TfEwDx86KdZuq9Du9RBn6gZNAp9iS88HJ/hZxSb97VC/d2Z+pi3W6u2wemB6uuSSvklLRHyDJ\n",
       "dH0G9sMUVWn9lPmoRqhamLtHR+Josu1bLL4HXi7tVnGutDngXsqtz+URR46v9pyOQeMwcP+XUPhS\n",
       "CM6r6Ga9UAfZPAb0OnK7gonVKQ5tYRUzgeZoKx9PUsEUqsTW0AUZUwS+oooeeigYRiM954F9UNA3\n",
       "UdzahFi/UmkndVGiG8VG4S9iC82TBHY6KvoRXV660oE5BW1UZYbLvVIyGlaqmsQqZvcAZ/OEMMZu\n",
       "oWnYUSMT5KKnfPLSVhz+iQ8dULPK5Z6Uzs1Th0rFSujhcZlVPBPWn1ArVO+A7Sq6ldfGZQkmECpC\n",
       "c/kNMV9fiIUtS4kIDLqdgD8fnfKNOiaPi8f8+jYjjt0EcnkFvaducN71pvfBWHC5JTfnFptj9qrv\n",
       "/NHiKIKZGfL+naNjVJ+DnHBM1g1ZBX0PjCkhPKU48vDPlXWCtbtoqY4Ok23BuAFjHsY2hRk/0StK\n",
       "9SjFknNwu6+si605QhE3R7MwMlcCWzEwGW2JK+iZdnTNFJrsjtd0+mo0ttzM9bK2hYF0Wu3AkB24\n",
       "/HeiyPo//D3WHp0r1i/+A33dP5+VXbFR+As69Rm7Axs5fBuA8RuYnbRgQbcVWQAAAABJRU5ErkJg\n",
       "gg==\n",
       "\" style=\"display:inline;vertical-align:middle;\" /></a></span></td></tr>\n",
       "<tr><td>&nbsp;</td><td colspan=4 style-\"text-align:left\"><a class=\"ProveItLink\" href=\"proofs/reverse_supset_eq/thm_proof.ipynb\">proveit.logic.sets.inclusion.reverse_supset_eq</a></td></tr><tr><td><a name=\"-0x2c8d087eecae1051_step5\">5</a></td><td>instantiation</td><td><a href=\"#-0x2c8d087eecae1051_step6\">6</a>, <a href=\"#-0x2c8d087eecae1051_step7\">7</a></td><td><span style=\"font-size:20px;\"><a class=\"ProveItLink\" href=\"../__pv_it/theorems/2fced9727b6076180192dd37cb5cd3a2262487000/expr.ipynb\"><img src=\"data:image/png;base64,iVBORw0KGgoAAAANSUhEUgAAADsAAAAPBAMAAACo4Ko7AAAAMFBMVEX///92dnYiIiIQEBBERERU\n",
       "VFS6urqIiIjc3NxmZmaqqqru7u6YmJgyMjLMzMwAAADiRdoGAAAAAXRSTlMAQObYZgAAAOlJREFU\n",
       "GNNjYACBtwzogCf+68wQNyjnPoY0A7MDA8P8BxCl9zdgSL8/wMCQPwHM3DW/AUQ9UlJS8oFJ1wOF\n",
       "zheAmQfqE2CijTegDGcGBm4jsKFsG9YfgBvaBKW/Ak2LBrO2MbwvgEtzQezj+3qmRAsiksDQPwHh\n",
       "JgUwyf6DgWFzAFhh5Mx4B4R0BJhkMQAq+QW2GujJCwhpbzDJD9TJ/h3EWsDAwGSAbjjI26zfgAwO\n",
       "oDTvB7gsuwDc2+8doD5h+QGXXguhLgMtNQF6e8v/2wxc/p+gTudOhfg19n/kVJcFqMEMDFQVOVQh\n",
       "AHRFPLnG8m3jAAAAAElFTkSuQmCC\n",
       "\" style=\"display:inline;vertical-align:middle;\" /></a> <a class=\"ProveItLink\" href=\"../__pv_it/demonstrations/8b9f918d915dccdd353e8a9b26b8e6a131f762990/proof.ipynb\" style=\"text-decoration: none\">&nbsp;&#x22A2;&nbsp;&nbsp;</a><a class=\"ProveItLink\" href=\"../__pv_it/theorems/05e344b7208c2c23dfa6004888e7fe9f4480f8570/expr.ipynb\"><img src=\"data:image/png;base64,iVBORw0KGgoAAAANSUhEUgAAADsAAAARBAMAAACRPMnQAAAAMFBMVEX///92dnYiIiIQEBBERERU\n",
       "VFS6urqIiIjc3NxmZmaqqqru7u6YmJgyMjLMzMwAAADiRdoGAAAAAXRSTlMAQObYZgAAAPNJREFU\n",
       "KM9jYACBtwzogCf+68wQNyjnPpjcq6Sk5A6TZ3ZgYJj/AKL0/gaY6J5rUMb7AwwM+RPAzF3zG+Cm\n",
       "7oUy64H0+QIw80B9Alya7wKEdmZg4DYCG8q2Yf0BhKNuQKivDAyPosGsbQzvCxDSUhBDvp4p0YII\n",
       "JDD0T0BITwOT7D8YGDYHgBVGzox3QEhD7GYxACr5BbYa6MkLcFkusBYGfiDF/h3EWsDAwGQAl360\n",
       "Ae5t1m9ABgdQmvcDVJI70wPh7fcgK5tANv2ABqqKFFTdZaClJkCDtvy/zcDl/2kCaozE/o+c6rKA\n",
       "gYoAFKFKSgHIQgBh7kHj8bFnhwAAAABJRU5ErkJggg==\n",
       "\" style=\"display:inline;vertical-align:middle;\" /></a></span></td></tr>\n",
       "<tr><td>&nbsp;</td><td colspan=4 style=\"text-align:left\"><span style=\"font-size:20px;\"><a class=\"ProveItLink\" href=\"../../../../__pv_it/common/09585084922504426caf1db2ff588a23a0932a960/expr.ipynb\"><img src=\"data:image/png;base64,iVBORw0KGgoAAAANSUhEUgAAAA8AAAAOBAMAAAACpFvcAAAALVBMVEX///8iIiIQEBBERERUVFS6\n",
       "urqIiIjc3NxmZmaqqqru7u6YmJgyMjLMzMwAAACK9jtgAAAAAXRSTlMAQObYZgAAAFtJREFUCNdj\n",
       "YACBOwxQcA5Kc59bAGGs7CuAMDbkBYBp1gXzNoAZSxnuJYAZAQx1DSCa16PDzwCshIGB6QCIMYGB\n",
       "gVEBSLMDGTwPgIxCIGZ+zsCw+N0pBk67hw0AfpEVEQi8t+wAAAAASUVORK5CYII=\n",
       "\" style=\"display:inline;vertical-align:middle;\" /></a> : <a class=\"ProveItLink\" href=\"../../../../__pv_it/common/09585084922504426caf1db2ff588a23a0932a960/expr.ipynb\"><img src=\"data:image/png;base64,iVBORw0KGgoAAAANSUhEUgAAAA8AAAAOBAMAAAACpFvcAAAALVBMVEX///8iIiIQEBBERERUVFS6\n",
       "urqIiIjc3NxmZmaqqqru7u6YmJgyMjLMzMwAAACK9jtgAAAAAXRSTlMAQObYZgAAAFtJREFUCNdj\n",
       "YACBOwxQcA5Kc59bAGGs7CuAMDbkBYBp1gXzNoAZSxnuJYAZAQx1DSCa16PDzwCshIGB6QCIMYGB\n",
       "gVEBSLMDGTwPgIxCIGZ+zsCw+N0pBk67hw0AfpEVEQi8t+wAAAAASUVORK5CYII=\n",
       "\" style=\"display:inline;vertical-align:middle;\" /></a>, <a class=\"ProveItLink\" href=\"../../../../__pv_it/common/a9162d1c3cc0470c02e5daf414500903a7a419230/expr.ipynb\"><img src=\"data:image/png;base64,iVBORw0KGgoAAAANSUhEUgAAABAAAAAOBAMAAADUAYG5AAAALVBMVEX///8yMjKqqqoiIiLu7u7c\n",
       "3NyIiIjMzMwQEBC6urpERERmZmZUVFSYmJgAAACsPVCVAAAAAXRSTlMAQObYZgAAAGxJREFUCNdj\n",
       "YGC48+70nlUTGICgi4GB+zmQZn/LwMD5Gshge8rAwPsMyOBqYGDwMAEy+A4wsNs4ABl1Z68tVgBp\n",
       "ygtgYOkBMVaAOCChNyBGAsQYhnMTIMawvwJyGIHGzFjCwMAj92b3qUUMDAAXABxvZ4rl5AAAAABJ\n",
       "RU5ErkJggg==\n",
       "\" style=\"display:inline;vertical-align:middle;\" /></a> : <a class=\"ProveItLink\" href=\"../../../../__pv_it/common/a9162d1c3cc0470c02e5daf414500903a7a419230/expr.ipynb\"><img src=\"data:image/png;base64,iVBORw0KGgoAAAANSUhEUgAAABAAAAAOBAMAAADUAYG5AAAALVBMVEX///8yMjKqqqoiIiLu7u7c\n",
       "3NyIiIjMzMwQEBC6urpERERmZmZUVFSYmJgAAACsPVCVAAAAAXRSTlMAQObYZgAAAGxJREFUCNdj\n",
       "YGC48+70nlUTGICgi4GB+zmQZn/LwMD5Gshge8rAwPsMyOBqYGDwMAEy+A4wsNs4ABl1Z68tVgBp\n",
       "ygtgYOkBMVaAOCChNyBGAsQYhnMTIMawvwJyGIHGzFjCwMAj92b3qUUMDAAXABxvZ4rl5AAAAABJ\n",
       "RU5ErkJggg==\n",
       "\" style=\"display:inline;vertical-align:middle;\" /></a></span></td></tr><tr><td><a name=\"-0x2c8d087eecae1051_step6\">6</a></td><td>theorem</td><td></td><td><span style=\"font-size:20px;\"> <a class=\"ProveItLink\" href=\"proofs/relax_proper_superset/thm_proof.ipynb\" style=\"text-decoration: none\">&nbsp;&#x22A2;&nbsp;&nbsp;</a><a class=\"ProveItLink\" href=\"../__pv_it/theorems/49aadf2c0116571ab1d6a1ea478f3217ba48d4880/expr.ipynb\"><img src=\"data:image/png;base64,iVBORw0KGgoAAAANSUhEUgAAALkAAAAWBAMAAABuySBUAAAAMFBMVEX///8QEBCIiIhmZma6urrM\n",
       "zMxUVFQiIiJERETc3Nzu7u6qqqp2dnaYmJgyMjIAAAAcRTyBAAAAAXRSTlMAQObYZgAAAtNJREFU\n",
       "SMetVU1oE0EU/tzsJtlkY3MSQZHc9KINRCJI0UguIkiDh3o0oEIuYrRgVBTjf1KFxJMFkaz0UAkY\n",
       "A73oyVgPSisSKwoiakAv9lJJTE0jsc7PbjJJa8XVgZ335s2+7837mTeA5XH7D/sPyVehzHsL4K4k\n",
       "I0plyc6bxYPBVAj2LDBN17MW0FdnOfnKSCGRSFwwt9YCtjpcxO4oWalJC+ivOPnQbEvufeZUaQFy\n",
       "DZgktnVAK1pAP8XjM7HQERW4OxIRearAHUKm8vmbFsDVOCMe6VtHZuTA6SXIp8nBQ0AjlTpjAV3y\n",
       "M7LH3RKEX9jcF4VygoaE/HIYSDMhn3fXnsSYg7Kp4syanJwZCKZNaZkFJqRUBXRWIjhwZOYqjbWH\n",
       "uBJmySU8d9HjheZl6qbKx1Bb+yXw2GAdRX4EtSagb2VzfxauNYS6SfAckNgxxriLtijcTRHdtbOM\n",
       "sUDgNeWDwCOdi1cxm0OBYENA53E/Ty0Q4wopVq3sYLKpYX4mH2wVEV0b98OVz4dpnI8DOyCik2lD\n",
       "B9wdZWSeovs4uloZYvn2pdjW/Qi26CL6Pie/DWHiRh3SrBgZN/mOddD362a54yixK9OySh+iMju2\n",
       "sT8GN2/iJzDRozZee1oEcnXmCsSs3iLfXLs1hNPtclcaRlYxwbTfoZ/tvQA2iuieosTvuuyDVoEU\n",
       "NwPmN2o+kzU6wclpo0WQotg1QlNYouXpo4Y/Pc8wv64DuaKAXhh4xu+6WoKzBPWHWZ1xuDI/dTxY\n",
       "HO6+CPa5+UDsGjMToaejqDYdOboA0R7MCujbodYNJ9BXhLzQ3QlWGuNtbi/xoayOQG1CXS9ERibh\n",
       "bZnrnI4bpZ4utsKYbOeoATVzVlmHp7VALCSgZ5IY/U4TqF6Gdi4QvISlV9jswIlEtOsB6O38boF3\n",
       "CvzdVOqivvzr8fvRbd54rJZDt/Tyve0VlP8G/Z+G7T9g/AI0iLh9jVPL6gAAAABJRU5ErkJggg==\n",
       "\" style=\"display:inline;vertical-align:middle;\" /></a></span></td></tr>\n",
       "<tr><td>&nbsp;</td><td colspan=4 style-\"text-align:left\"><a class=\"ProveItLink\" href=\"proofs/relax_proper_superset/thm_proof.ipynb\">proveit.logic.sets.inclusion.relax_proper_superset</a></td></tr><tr><td><a name=\"-0x2c8d087eecae1051_step7\">7</a></td><td>assumption</td><td></td><td><span style=\"font-size:20px;\"><a class=\"ProveItLink\" href=\"../__pv_it/theorems/2fced9727b6076180192dd37cb5cd3a2262487000/expr.ipynb\"><img src=\"data:image/png;base64,iVBORw0KGgoAAAANSUhEUgAAADsAAAAPBAMAAACo4Ko7AAAAMFBMVEX///92dnYiIiIQEBBERERU\n",
       "VFS6urqIiIjc3NxmZmaqqqru7u6YmJgyMjLMzMwAAADiRdoGAAAAAXRSTlMAQObYZgAAAOlJREFU\n",
       "GNNjYACBtwzogCf+68wQNyjnPoY0A7MDA8P8BxCl9zdgSL8/wMCQPwHM3DW/AUQ9UlJS8oFJ1wOF\n",
       "zheAmQfqE2CijTegDGcGBm4jsKFsG9YfgBvaBKW/Ak2LBrO2MbwvgEtzQezj+3qmRAsiksDQPwHh\n",
       "JgUwyf6DgWFzAFhh5Mx4B4R0BJhkMQAq+QW2GujJCwhpbzDJD9TJ/h3EWsDAwGSAbjjI26zfgAwO\n",
       "oDTvB7gsuwDc2+8doD5h+QGXXguhLgMtNQF6e8v/2wxc/p+gTudOhfg19n/kVJcFqMEMDFQVOVQh\n",
       "AHRFPLnG8m3jAAAAAElFTkSuQmCC\n",
       "\" style=\"display:inline;vertical-align:middle;\" /></a> <a class=\"ProveItLink\" href=\"../__pv_it/demonstrations/4373ef36b57219e03ce0fe35a1b5351147c94b010/proof.ipynb\" style=\"text-decoration: none\">&nbsp;&#x22A2;&nbsp;&nbsp;</a><a class=\"ProveItLink\" href=\"../__pv_it/theorems/2fced9727b6076180192dd37cb5cd3a2262487000/expr.ipynb\"><img src=\"data:image/png;base64,iVBORw0KGgoAAAANSUhEUgAAADsAAAAPBAMAAACo4Ko7AAAAMFBMVEX///92dnYiIiIQEBBERERU\n",
       "VFS6urqIiIjc3NxmZmaqqqru7u6YmJgyMjLMzMwAAADiRdoGAAAAAXRSTlMAQObYZgAAAOlJREFU\n",
       "GNNjYACBtwzogCf+68wQNyjnPoY0A7MDA8P8BxCl9zdgSL8/wMCQPwHM3DW/AUQ9UlJS8oFJ1wOF\n",
       "zheAmQfqE2CijTegDGcGBm4jsKFsG9YfgBvaBKW/Ak2LBrO2MbwvgEtzQezj+3qmRAsiksDQPwHh\n",
       "JgUwyf6DgWFzAFhh5Mx4B4R0BJhkMQAq+QW2GujJCwhpbzDJD9TJ/h3EWsDAwGSAbjjI26zfgAwO\n",
       "oDTvB7gsuwDc2+8doD5h+QGXXguhLgMtNQF6e8v/2wxc/p+gTudOhfg19n/kVJcFqMEMDFQVOVQh\n",
       "AHRFPLnG8m3jAAAAAElFTkSuQmCC\n",
       "\" style=\"display:inline;vertical-align:middle;\" /></a></span></td></tr>\n",
       "</table>"
      ],
      "text/plain": [
       "\tstep type\trequirements\tstatement\n",
       "0\tinstantiation\t1, 2, 3\t{A proper_superset B, x in B} |- x in A\n",
       "\tA : B, B : A, x : x\n",
       "1\ttheorem\t\t|- forall_{A, B | A subseteq B} [forall_{x in A} (x in B)]\n",
       "\tproveit.logic.sets.inclusion.unfold_subset_eq\n",
       "2\tinstantiation\t4, 5\t{A proper_superset B} |- B subseteq A\n",
       "\tA : A, B : B\n",
       "3\tassumption\t\t{x in B} |- x in B\n",
       "4\ttheorem\t\t|- forall_{A, B | A supseteq B} (B subseteq A)\n",
       "\tproveit.logic.sets.inclusion.reverse_supset_eq\n",
       "5\tinstantiation\t6, 7\t{A proper_superset B} |- A supseteq B\n",
       "\tA : A, B : B\n",
       "6\ttheorem\t\t|- forall_{A, B | A proper_superset B} (A supseteq B)\n",
       "\tproveit.logic.sets.inclusion.relax_proper_superset\n",
       "7\tassumption\t\t{A proper_superset B} |- A proper_superset B"
      ]
     },
     "execution_count": 55,
     "metadata": {},
     "output_type": "execute_result"
    }
   ],
   "source": [
    "# take a look at the proof:\n",
    "x_in_a_kt.proof()"
   ]
  },
  {
   "cell_type": "markdown",
   "metadata": {},
   "source": [
    "<font size=3>As in <a href=\"#demo01\">Demo 1</a>, we can re-express our judgment as a logical implication:</font>"
   ]
  },
  {
   "cell_type": "code",
   "execution_count": 56,
   "metadata": {},
   "outputs": [
    {
     "data": {
      "text/html": [
       "<span style=\"font-size:20px;\"><a class=\"ProveItLink\" href=\"../__pv_it/theorems/2fced9727b6076180192dd37cb5cd3a2262487000/expr.ipynb\"><img src=\"data:image/png;base64,iVBORw0KGgoAAAANSUhEUgAAADsAAAAPBAMAAACo4Ko7AAAAMFBMVEX///92dnYiIiIQEBBERERU\n",
       "VFS6urqIiIjc3NxmZmaqqqru7u6YmJgyMjLMzMwAAADiRdoGAAAAAXRSTlMAQObYZgAAAOlJREFU\n",
       "GNNjYACBtwzogCf+68wQNyjnPoY0A7MDA8P8BxCl9zdgSL8/wMCQPwHM3DW/AUQ9UlJS8oFJ1wOF\n",
       "zheAmQfqE2CijTegDGcGBm4jsKFsG9YfgBvaBKW/Ak2LBrO2MbwvgEtzQezj+3qmRAsiksDQPwHh\n",
       "JgUwyf6DgWFzAFhh5Mx4B4R0BJhkMQAq+QW2GujJCwhpbzDJD9TJ/h3EWsDAwGSAbjjI26zfgAwO\n",
       "oDTvB7gsuwDc2+8doD5h+QGXXguhLgMtNQF6e8v/2wxc/p+gTudOhfg19n/kVJcFqMEMDFQVOVQh\n",
       "AHRFPLnG8m3jAAAAAElFTkSuQmCC\n",
       "\" style=\"display:inline;vertical-align:middle;\" /></a>, <a class=\"ProveItLink\" href=\"../__pv_it/theorems/2b6b67c6dcbdfcb6a177ea6eafd4c81308a6b77e0/expr.ipynb\"><img src=\"data:image/png;base64,iVBORw0KGgoAAAANSUhEUgAAADUAAAAPBAMAAAC2KZqIAAAAMFBMVEX///8QEBBmZmaqqqrMzMxE\n",
       "REQyMjIiIiKYmJh2dna6urrc3NxUVFSIiIju7u4AAAA6P00QAAAAAXRSTlMAQObYZgAAANpJREFU\n",
       "GNNjYMACOM7/UToaxYAdMAYwMOg7YJfzb2BgWK+ALNJaXp4AYd3fwMDQfwFJyvUenBnIwMAn/oCB\n",
       "4e2dXTdBSvjyEMr+MDC4nwMKTeCoZQcZxbMBLsXyp+NqMZDmfMD5jwskzIrQxvubgeHhAaA+BtYA\n",
       "sIBjGhBA3MIqAJT/DGLxQxy0FaGPH6iH9y/YMxBPMqJ6j+cXAwPzg/sMvEDnMjAh/APynj/QpvUG\n",
       "8Qw7wCLFcLlEBgYuUaD6N3ffajSARd5EPYBIHft/SCfUADUUV4bDwgwCAHpvO2L/i5h0AAAAAElF\n",
       "TkSuQmCC\n",
       "\" style=\"display:inline;vertical-align:middle;\" /></a> <a class=\"ProveItLink\" href=\"../__pv_it/demonstrations/e7b439fa18e009cb2b4080b2e927f5b4a77124a90/proof.ipynb\" style=\"text-decoration: none\">&nbsp;&#x22A2;&nbsp;&nbsp;</a><a class=\"ProveItLink\" href=\"../__pv_it/theorems/89c58886785a6f188ade8c2a1dcacf7288396a140/expr.ipynb\"><img src=\"data:image/png;base64,iVBORw0KGgoAAAANSUhEUgAAADUAAAAPBAMAAAC2KZqIAAAAMFBMVEX///8QEBBmZmaqqqrMzMxE\n",
       "REQyMjIiIiKYmJh2dna6urrc3NxUVFSIiIju7u4AAAA6P00QAAAAAXRSTlMAQObYZgAAAMZJREFU\n",
       "GNNjYMAB3Bhwg3zcUhz5D1D54eVlMPZj/Q3IUiyxSEob7i8Akm/v7Lp5AcR9hiTF9cC+gYGBbwJH\n",
       "LXsCiH8ayYxXDP5A9ZwPOP9xgc0OQJJbwLBfAaiPgRUiyCKWBgRQqw8pnQeL8oNtY+BG0sfFwMAI\n",
       "tsffASIggJAzYGBgB3KZH9xn4AW7UBcuxQ2UY/vAwLDeIJ5hB1iE3QAmtx2IWX8zMLy5+1ajASzC\n",
       "d3QdROrp/zwG5vjvCsgBwzUVEWYgAACVrTGb/6vh/gAAAABJRU5ErkJggg==\n",
       "\" style=\"display:inline;vertical-align:middle;\" /></a></span>"
      ],
      "text/plain": [
       "{A proper_superset B, x in B} |- x in A"
      ]
     },
     "execution_count": 56,
     "metadata": {},
     "output_type": "execute_result"
    }
   ],
   "source": [
    "# our judgment\n",
    "x_in_a_kt"
   ]
  },
  {
   "cell_type": "code",
   "execution_count": 57,
   "metadata": {},
   "outputs": [
    {
     "data": {
      "text/html": [
       "<span style=\"font-size:20px;\"><a class=\"ProveItLink\" href=\"../__pv_it/theorems/2fced9727b6076180192dd37cb5cd3a2262487000/expr.ipynb\"><img src=\"data:image/png;base64,iVBORw0KGgoAAAANSUhEUgAAADsAAAAPBAMAAACo4Ko7AAAAMFBMVEX///92dnYiIiIQEBBERERU\n",
       "VFS6urqIiIjc3NxmZmaqqqru7u6YmJgyMjLMzMwAAADiRdoGAAAAAXRSTlMAQObYZgAAAOlJREFU\n",
       "GNNjYACBtwzogCf+68wQNyjnPoY0A7MDA8P8BxCl9zdgSL8/wMCQPwHM3DW/AUQ9UlJS8oFJ1wOF\n",
       "zheAmQfqE2CijTegDGcGBm4jsKFsG9YfgBvaBKW/Ak2LBrO2MbwvgEtzQezj+3qmRAsiksDQPwHh\n",
       "JgUwyf6DgWFzAFhh5Mx4B4R0BJhkMQAq+QW2GujJCwhpbzDJD9TJ/h3EWsDAwGSAbjjI26zfgAwO\n",
       "oDTvB7gsuwDc2+8doD5h+QGXXguhLgMtNQF6e8v/2wxc/p+gTudOhfg19n/kVJcFqMEMDFQVOVQh\n",
       "AHRFPLnG8m3jAAAAAElFTkSuQmCC\n",
       "\" style=\"display:inline;vertical-align:middle;\" /></a> <a class=\"ProveItLink\" href=\"../__pv_it/demonstrations/750af55ee1a5eba67b3b3eacdd0d199fab19075b0/proof.ipynb\" style=\"text-decoration: none\">&nbsp;&#x22A2;&nbsp;&nbsp;</a><a class=\"ProveItLink\" href=\"../__pv_it/demonstrations/a87e31a91e7bd1fcc298f990101b5054f95490780/expr.ipynb\"><img src=\"data:image/png;base64,iVBORw0KGgoAAAANSUhEUgAAAKgAAAAUBAMAAADrbWuJAAAAMFBMVEX////MzMxUVFR2dna6uroQ\n",
       "EBCqqqqIiIgiIiJmZmYyMjJERETu7u6YmJjc3NwAAACgK8IjAAAAAXRSTlMAQObYZgAAAkBJREFU\n",
       "OMuVlU1oE0EUx/9r1mw12bRH0UMUD1IrbW9SFOxND2Jz6EH0kmMPQoMeSrEQTxp6WvQgPZRGUA9F\n",
       "2hwUhWK6+FVILjlKoTQHD17EGKRVkNY3b3Yzu9vZlAxk5mXe+72ZefPmLZBpIL4lm7rZw5G6VmWP\n",
       "tBeGXgPDOmU91uNJSGRFrz5aAZYGUNPpVmKdrtKPENvRq7N0xAkHiYLmFE6cT3vVhUD6QlGz35Xm\n",
       "pVSk+e0C0jmlrHpjHAJ8WSIVId+DBsZb1xffkPYm/XuutKe8MQ4BGsVxCGSW+o273+7xMWvKoA2c\n",
       "uEDj2MFjCyQ9M3z1YgSB6U43GHlPBqP2o74yELxro711/6EQNkV3rMTtr9QRgo/4WpgPI8AnZAuM\n",
       "EJlwE/9MjlOlo7f2gM+nSZgKpuBLHsRil3HFvRFGgHH8dBiZpJ0iJVXGrWVqLKbogqwdkQXBANYm\n",
       "RS86F2tRBMbgwkiFETbrl4mTUcv20y6t3YjTzNmm7xTYjSIwKbvLjHDgsgNyOhdK0yO/SbjGMV2W\n",
       "rdk5PoxfUQR5yrYcIxT1pFuExZf4tGMg0jRb8S/K20lZXdQdq4W5MJIhp8dbjFDKTOTX8UOmdd63\n",
       "eEE+bouFngQi6mUPIeZOqiXLikJE+qb2GKHjfZjZWJR1Jz10XRqc3x98vMbmz5TTM95ISPrc3OxW\n",
       "GKnvv0Jy/Y8jkPCbMy+pNyeZB0puap+pDomvDtx6KygdpNrVQlv6DkfqXS2qvRVpH+n6bbB7/5wQ\n",
       "8h8v9quX0qbnaQAAAABJRU5ErkJggg==\n",
       "\" style=\"display:inline;vertical-align:middle;\" /></a></span>"
      ],
      "text/plain": [
       "{A proper_superset B} |- (x in B) => (x in A)"
      ]
     },
     "execution_count": 57,
     "metadata": {},
     "output_type": "execute_result"
    }
   ],
   "source": [
    "# one option for the implication\n",
    "x_in_a_kt.as_implication(hypothesis=x_in_b)"
   ]
  },
  {
   "cell_type": "code",
   "execution_count": 58,
   "metadata": {},
   "outputs": [
    {
     "data": {
      "text/html": [
       "<span style=\"font-size:20px;\"><a class=\"ProveItLink\" href=\"../__pv_it/theorems/2b6b67c6dcbdfcb6a177ea6eafd4c81308a6b77e0/expr.ipynb\"><img src=\"data:image/png;base64,iVBORw0KGgoAAAANSUhEUgAAADUAAAAPBAMAAAC2KZqIAAAAMFBMVEX///8QEBBmZmaqqqrMzMxE\n",
       "REQyMjIiIiKYmJh2dna6urrc3NxUVFSIiIju7u4AAAA6P00QAAAAAXRSTlMAQObYZgAAANpJREFU\n",
       "GNNjYMACOM7/UToaxYAdMAYwMOg7YJfzb2BgWK+ALNJaXp4AYd3fwMDQfwFJyvUenBnIwMAn/oCB\n",
       "4e2dXTdBSvjyEMr+MDC4nwMKTeCoZQcZxbMBLsXyp+NqMZDmfMD5jwskzIrQxvubgeHhAaA+BtYA\n",
       "sIBjGhBA3MIqAJT/DGLxQxy0FaGPH6iH9y/YMxBPMqJ6j+cXAwPzg/sMvEDnMjAh/APynj/QpvUG\n",
       "8Qw7wCLFcLlEBgYuUaD6N3ffajSARd5EPYBIHft/SCfUADUUV4bDwgwCAHpvO2L/i5h0AAAAAElF\n",
       "TkSuQmCC\n",
       "\" style=\"display:inline;vertical-align:middle;\" /></a> <a class=\"ProveItLink\" href=\"../__pv_it/demonstrations/dec70987458271b737d8c6629f9f77d3b2a60f210/proof.ipynb\" style=\"text-decoration: none\">&nbsp;&#x22A2;&nbsp;&nbsp;</a><a class=\"ProveItLink\" href=\"../__pv_it/demonstrations/d576d99c13ade7bf8eb1916ee0a4722d1f43b45e0/expr.ipynb\"><img src=\"data:image/png;base64,iVBORw0KGgoAAAANSUhEUgAAAK4AAAAUBAMAAADmcxvOAAAAMFBMVEX///9UVFTMzMx2dna6uroQ\n",
       "EBCqqqqIiIgiIiJmZmYyMjJERETu7u6YmJjc3NwAAAC+aOQFAAAAAXRSTlMAQObYZgAAAlFJREFU\n",
       "OMuVlT9MU0Ecx3/U2lfpazU4GISAo5HhGRdDIBEnGQwyMBhdGIkxsZshksBEXnTBMBgmCAEHYqCD\n",
       "RhOgNFEc2oXRNCE2YWGjNQZ0AX9/7t6dfa80veF+93t3n2/v97vfXQEye3BuS1Sivp5LMVKS8a3Q\n",
       "bLq3ttD1EaAnCi01FCUhQtbF3QivuJgDWLwBxSh6vaEuCSGSnpPNbRRCKzyM9dEcXMiGYUVFNBZC\n",
       "JCnp+77I9qbv+9t6yTR++pkFd9RQeWWT/yU9/cV/rccshMihuHvTQ3rmQMf4CRc8xl9fMQp9yh7a\n",
       "srHPVqwitAKT7MULL8wBa6iG++9G2x+Onyj3Zc+Du+QULVkl1A8S9TfwTBYTAsdq+69maVCm7pLP\n",
       "7a8sIeor/Mhy+HbBKKEyMAlDcGSdxAz3zinA7hUcTNil+Z4NUYNwrzBCTs6aV0ITMMZb61zotWZl\n",
       "Ayk8L+eY6sJOZpEB6gqwKXE9WcOmUq2EPNGNY7EuGXaL+8u4V+ekTjdztaJ1AU7kk7UjLeRJHsax\n",
       "ckbr80Dl2/YbB8Oc3zVplSAPEPslyy1SCw3zCWTQba8Gk87toHy9nD43tZ8lc27PnSpMkfPORKOF\n",
       "ylxEVFip02D2mZhVlHlKJTRvZVeVFFLx41RVXp/kuF2hLDRPQZbOPkBi548qCPd+N9vrZ51vN5lY\n",
       "NrodyiLlXpua3Bei66F6jAKh5bobiff4zZ26G+/OmHEl8h7HB8w91kjjF0S31t6dAMk30418J/NN\n",
       "kVIz3Xxr77pGmv0PpVv/H0LkH3uQrvzmpuFUAAAAAElFTkSuQmCC\n",
       "\" style=\"display:inline;vertical-align:middle;\" /></a></span>"
      ],
      "text/plain": [
       "{x in B} |- (A proper_superset B) => (x in A)"
      ]
     },
     "execution_count": 58,
     "metadata": {},
     "output_type": "execute_result"
    }
   ],
   "source": [
    "# another option for the implication\n",
    "x_in_a_kt.as_implication(hypothesis=ASupersetOfB)"
   ]
  },
  {
   "cell_type": "markdown",
   "metadata": {},
   "source": [
    "<div style=\"width: 90%; border: 5px solid green; padding: 10px; margin: 0px;\"><a id='demo04'></a><font size=4><b>4.</b> $\\forall_{x\\in Y}(x\\in X) \\Rightarrow (X \\supseteq Y)$</font>.</div><br>\n",
    "<font size=3>When we know that $x$ is in $X$ whenever $x$ is in $Y$, we have $X \\supseteq Y$ (<i>i.e.</i>, $X$ contains $Y$ or $X$ is a superset of $Y$). That is a theorem in Prove-It that can be instantiated to prove a containment or superset relationship for two arbitrary sets given the right conditions:</font>\n",
    "\n",
    "The following has been commented out because theorems have changed (implications were change to using conditions) -- this must be updated."
   ]
  },
  {
   "cell_type": "code",
   "execution_count": 59,
   "metadata": {},
   "outputs": [],
   "source": [
    "# # our fold_supset_eq theorem\n",
    "# fold_supset_eq"
   ]
  },
  {
   "cell_type": "code",
   "execution_count": 60,
   "metadata": {},
   "outputs": [],
   "source": [
    "# instantiate the fold_supset_eq theorem\n",
    "# fold_supset_eq_spec = fold_supset_eq.instantiate({A:X, B:Y}, assumptions=fold_supset_eq.conditions)"
   ]
  },
  {
   "cell_type": "code",
   "execution_count": 61,
   "metadata": {},
   "outputs": [],
   "source": [
    "# then we can even generalize back into universal X and Y\n",
    "# fold_supset_eq_spec.generalize([X, Y])"
   ]
  },
  {
   "cell_type": "markdown",
   "metadata": {},
   "source": [
    "<font size=3>Alternatively we can prove the rhs of the implication given the antecedent as an assumption.</font>"
   ]
  },
  {
   "cell_type": "code",
   "execution_count": 62,
   "metadata": {},
   "outputs": [],
   "source": [
    "# peel off our desired conclusion:\n",
    "# XSupersetOfY = fold_supset_eq_spec.rhs"
   ]
  },
  {
   "cell_type": "code",
   "execution_count": 63,
   "metadata": {},
   "outputs": [],
   "source": [
    "# prove our conclusion based on the antecedent\n",
    "# XSupersetOfYKT = XSupersetOfY.prove([Forall(x, InSet(x, X), domain=Y)])"
   ]
  },
  {
   "cell_type": "markdown",
   "metadata": {},
   "source": [
    "<font size=3>And we can take a quick look at the simple proof, which also involves a instantiation of that ``fold_supset_eq`` theorem and an application of *modus ponens:*</font>"
   ]
  },
  {
   "cell_type": "code",
   "execution_count": 64,
   "metadata": {},
   "outputs": [],
   "source": [
    "# XSupersetOfYKT.proof()"
   ]
  },
  {
   "cell_type": "markdown",
   "metadata": {},
   "source": [
    "<div style=\"width: 90%; border: 5px solid green; padding: 10px; margin: 0px;\"><a id='demo05'></a><font size = 4><b>5.</b> Folding and Unfolding the Definitions of $\\not\\subseteq$ and $\\not\\supseteq$</font>.</font></div><br/>\n",
    "<font size=3>$\\not\\subseteq$ is axiomatically defined by $\\forall_{A, B} (A\\not\\subseteq B) = \\neg(A \\subseteq B)$, and we have theorems to automatically fold and unfold the definition, allowing us to express and use the definition in a variety of ways. For example, we can automatically derive the statements that $\\{C\\not\\subseteq D\\} \\vdash \\neg(C\\subseteq D)$, and $\\{\\neg(C\\subseteq D)\\} \\vdash C\\not\\subseteq D$</font>"
   ]
  },
  {
   "cell_type": "code",
   "execution_count": 65,
   "metadata": {},
   "outputs": [
    {
     "data": {
      "text/html": [
       "<span style=\"font-size:20px;\"><a class=\"ProveItLink\" href=\"../__pv_it/demonstrations/1b4ddff07d2c61ff6654681ef4e07d863e209a1b0/expr.ipynb\"><img src=\"data:image/png;base64,iVBORw0KGgoAAAANSUhEUgAAADwAAAAYBAMAAABU74NhAAAAMFBMVEX////MzMy6uroyMjIiIiKq\n",
       "qqoQEBB2dnbc3NyYmJhmZmZUVFRERESIiIju7u4AAACOKgoaAAAAAXRSTlMAQObYZgAAATFJREFU\n",
       "KM9jYEADTAx4AQt+6enoAnx3du3kKIDx7CAU5/4/u8/sALGuTWBgXTYBLDjHxS3FESLPb8DAMD+A\n",
       "geGNH5CzvgEk1FzBwC0ANUX+AgMDVwIDg9kDIEcNbIsFA8NjmCX3geqYfjJwfQVxpEAEN9CsmzDp\n",
       "80DM8Z2h3wHEeQHzkwNM+g8oDH4z1F+Ae6GbgYEV5gPGv0CC9zuDvwBcuoeBgbkByub9CLLtE0M+\n",
       "yGUMD6CG98CU8nwAeS6BwR/EYQUbwT6BYRFMmv8AkJg/AeJjdoiYKR/cZSBv8+UwMPSDnFYHEXuz\n",
       "6wKytx8DA471JwND1AOYHhMXF0ig2gO95QVivDq9SwGmRwvG2Px/1+5TDeiRdxBvXHMY4JNl93dx\n",
       "gdlNRkIKxy99Dr80hk8YACO/Rsz/sWlrAAAAAElFTkSuQmCC\n",
       "\" style=\"display:inline;vertical-align:middle;\" /></a> <a class=\"ProveItLink\" href=\"../__pv_it/demonstrations/cc5f3cd544fac96d833a2905744c49541e7a76520/proof.ipynb\" style=\"text-decoration: none\">&nbsp;&#x22A2;&nbsp;&nbsp;</a><a class=\"ProveItLink\" href=\"../__pv_it/demonstrations/4f64b99ce79f8bbf1300b9a78c66cf6419aa2e450/expr.ipynb\"><img src=\"data:image/png;base64,iVBORw0KGgoAAAANSUhEUgAAAFwAAAAUBAMAAADyykdqAAAAMFBMVEX///+6uroQEBCqqqqIiIgy\n",
       "MjJERETu7u6YmJjMzMxUVFTc3Nx2dnYiIiJmZmYAAAAutVgsAAAAAXRSTlMAQObYZgAAAW1JREFU\n",
       "KM9jYIAD7gYG/IB5AzKvDESUZL1q2IOurut/1rIsoNrVyILRQMyiwcBgpwFVdPfu3ZsQ5lcGBo7P\n",
       "DAylSKo5HjAwsOcWMDDw/Qbzt56GS3F+ARKPGBh4HBDKeYG2saoDGYwKcMuggOUnkJBvYGBXQIjt\n",
       "BeL3BiCzHoC4fAYIKbYPQGL/AQaGQISYHzBs/oIY7OAA4EVyJ38CyPQFDAznEGIZQLd9QXB3ISmf\n",
       "D3KzP9D0Voa3QP/fvQPkXgaa+BMtWKHAfwKQWC/AwGCLMEqRgYHpO9gxDOiOyQcRn0DWoCjnBXmJ\n",
       "wRIshBxo30Dh/ANV+WVYiB+AiAWjBnsRyLuyCOVAr3KDxHkKIGJVCwuQgp09FMRqhepngASSfQMD\n",
       "83OYoXNyoYmAFehGWXBkvEE4EGQR+7NVDzESIlf8r1fLXoOZkaiJgABgv4CaxAgA5NBiyEaVAkUf\n",
       "LAFDQSlG9sALUAwkmPk4NjAAAOGFYSMjByPaAAAAAElFTkSuQmCC\n",
       "\" style=\"display:inline;vertical-align:middle;\" /></a></span>"
      ],
      "text/plain": [
       "{C nsubseteq D} |- [not](C subseteq D)"
      ]
     },
     "execution_count": 65,
     "metadata": {},
     "output_type": "execute_result"
    }
   ],
   "source": [
    "# unfold the definition to produce a new judgment\n",
    "NotSubsetEq(C, D).unfold([NotSubsetEq(C, D)])"
   ]
  },
  {
   "cell_type": "code",
   "execution_count": 66,
   "metadata": {},
   "outputs": [
    {
     "data": {
      "text/html": [
       "<strong id=\"NotSubsetEqKT\">NotSubsetEqKT:</strong> <span style=\"font-size:20px;\"><a class=\"ProveItLink\" href=\"../__pv_it/demonstrations/4f64b99ce79f8bbf1300b9a78c66cf6419aa2e450/expr.ipynb\"><img src=\"data:image/png;base64,iVBORw0KGgoAAAANSUhEUgAAAFwAAAAUBAMAAADyykdqAAAAMFBMVEX///+6uroQEBCqqqqIiIgy\n",
       "MjJERETu7u6YmJjMzMxUVFTc3Nx2dnYiIiJmZmYAAAAutVgsAAAAAXRSTlMAQObYZgAAAW1JREFU\n",
       "KM9jYIAD7gYG/IB5AzKvDESUZL1q2IOurut/1rIsoNrVyILRQMyiwcBgpwFVdPfu3ZsQ5lcGBo7P\n",
       "DAylSKo5HjAwsOcWMDDw/Qbzt56GS3F+ARKPGBh4HBDKeYG2saoDGYwKcMuggOUnkJBvYGBXQIjt\n",
       "BeL3BiCzHoC4fAYIKbYPQGL/AQaGQISYHzBs/oIY7OAA4EVyJ38CyPQFDAznEGIZQLd9QXB3ISmf\n",
       "D3KzP9D0Voa3QP/fvQPkXgaa+BMtWKHAfwKQWC/AwGCLMEqRgYHpO9gxDOiOyQcRn0DWoCjnBXmJ\n",
       "wRIshBxo30Dh/ANV+WVYiB+AiAWjBnsRyLuyCOVAr3KDxHkKIGJVCwuQgp09FMRqhepngASSfQMD\n",
       "83OYoXNyoYmAFehGWXBkvEE4EGQR+7NVDzESIlf8r1fLXoOZkaiJgABgv4CaxAgA5NBiyEaVAkUf\n",
       "LAFDQSlG9sALUAwkmPk4NjAAAOGFYSMjByPaAAAAAElFTkSuQmCC\n",
       "\" style=\"display:inline;vertical-align:middle;\" /></a> <a class=\"ProveItLink\" href=\"../__pv_it/demonstrations/b174733bd20e0710434710bda6f58a5dfe20f9bc0/proof.ipynb\" style=\"text-decoration: none\">&nbsp;&#x22A2;&nbsp;&nbsp;</a><a class=\"ProveItLink\" href=\"../__pv_it/demonstrations/1b4ddff07d2c61ff6654681ef4e07d863e209a1b0/expr.ipynb\"><img src=\"data:image/png;base64,iVBORw0KGgoAAAANSUhEUgAAADwAAAAYBAMAAABU74NhAAAAMFBMVEX////MzMy6uroyMjIiIiKq\n",
       "qqoQEBB2dnbc3NyYmJhmZmZUVFRERESIiIju7u4AAACOKgoaAAAAAXRSTlMAQObYZgAAATFJREFU\n",
       "KM9jYEADTAx4AQt+6enoAnx3du3kKIDx7CAU5/4/u8/sALGuTWBgXTYBLDjHxS3FESLPb8DAMD+A\n",
       "geGNH5CzvgEk1FzBwC0ANUX+AgMDVwIDg9kDIEcNbIsFA8NjmCX3geqYfjJwfQVxpEAEN9CsmzDp\n",
       "80DM8Z2h3wHEeQHzkwNM+g8oDH4z1F+Ae6GbgYEV5gPGv0CC9zuDvwBcuoeBgbkByub9CLLtE0M+\n",
       "yGUMD6CG98CU8nwAeS6BwR/EYQUbwT6BYRFMmv8AkJg/AeJjdoiYKR/cZSBv8+UwMPSDnFYHEXuz\n",
       "6wKytx8DA471JwND1AOYHhMXF0ig2gO95QVivDq9SwGmRwvG2Px/1+5TDeiRdxBvXHMY4JNl93dx\n",
       "gdlNRkIKxy99Dr80hk8YACO/Rsz/sWlrAAAAAElFTkSuQmCC\n",
       "\" style=\"display:inline;vertical-align:middle;\" /></a></span><br>"
      ],
      "text/plain": [
       "NotSubsetEqKT: {[not](C subseteq D)} |- C nsubseteq D"
      ]
     },
     "execution_count": 66,
     "metadata": {},
     "output_type": "execute_result"
    }
   ],
   "source": [
    "# or automatically fold the definition when deriving the alternative judgment\n",
    "NotSubsetEqKT = NotSubsetEq(C, D).prove([Not(SubsetEq(C, D))])"
   ]
  },
  {
   "cell_type": "markdown",
   "metadata": {},
   "source": [
    "<font size=3>In the proof for that second derivation, we see the use of the ``fold_not_subset_eq`` theorem, which we can manually invoke and instantiate to accomplish the same thing:</font>"
   ]
  },
  {
   "cell_type": "code",
   "execution_count": 67,
   "metadata": {},
   "outputs": [
    {
     "data": {
      "text/html": [
       "<span style=\"font-size:20px;\"> <a class=\"ProveItLink\" href=\"proofs/fold_not_subset_eq/thm_proof.ipynb\" style=\"text-decoration: none\">&nbsp;&#x22A2;&nbsp;&nbsp;</a><a class=\"ProveItLink\" href=\"../__pv_it/theorems/8143820b637fa0c3eb844f733863abcc60e893740/expr.ipynb\"><img src=\"data:image/png;base64,iVBORw0KGgoAAAANSUhEUgAAANEAAAAYBAMAAACW8wWgAAAAMFBMVEX///8QEBCIiIhmZma6urrM\n",
       "zMxUVFQiIiJERETc3Nzu7u6qqqp2dnaYmJgyMjIAAAAcRTyBAAAAAXRSTlMAQObYZgAAA1tJREFU\n",
       "SMe9VUtIVFEY/pyXc+eh7gyKmF1SmIIxUUgOBSFBKC1sEzlggrSosYihF06gcZVipk0NRDniwpCw\n",
       "ASOKgswWqUXcclOUOdEitEWiaTZh9p9z7r0zc2eGqMEO3PP4/3vO9z++/xxgjZoF/6sVr9G5N7Ik\n",
       "7zNWD+hLsMlUgUCOEB+siZRoVgzu40s1bZ2wRYDnaeJ/biURMcyp6zfB9vJTYlpERtQ1OsiGKK2k\n",
       "UIFIk2L4kBTjzXHYGlVVswI0VGOU7IgBrniBSKdFDId/iHEGGNJUVeTutAd9FMiJwcFrBQJJAZET\n",
       "0zc+2sjwSk13gZDLYyjxAcuyfO7PZ+USagGCqZoP+5wrOsEDmm4JOHiUwka/tALdXCb6+oWnbZGs\n",
       "0hthnT2il2W41tuNu9rSrvCg+azzfHkVcI6oKuvSVMVZ5i9RYg8cnJxu4bq7DK4yvj0NyMYxpikC\n",
       "t2X5Ik1fAU9g1pCL48I0aYEvozoZyV1KXZ+foAPMVxM3qV+4bvbDmTQiHeI21ymwdgmBF3gcc/hV\n",
       "dZGP9U013mUtelHdXbLa9JN8owJwKeLimDgpfvPAnDAitbLONVCtC08Au4CZDCTqNvKlS8E2bWcp\n",
       "WWOaF0hSookH1CNz1Z1GbI0ZkXh+D9hDeKjeCYswzaYIxqPnpK9drL84dEKwcrJRXixM0n2EpwLb\n",
       "uaqhskIExW5ksd8cwA6VEfOvWbbupTPiOn1fxfpWiye9nJpDghEY5ue8QxVXvQQ2pSGNybKcsLA7\n",
       "xB03zWFc7HclYKJd9epxjMLcmrBKhObPwaC4jT6SWesoRmZGxlJmgOPTizAP2iWgN57pk9/CvByq\n",
       "HUtit+rECCRK82GN9AE4wr9iuL8qck18Vtux1RavzI4rYcXnZgjmGHp5JdIBDREDkpX5tBPSolZS\n",
       "pXFYiL57M2+jVOvKqvIBfbaftitSD6QkpA2GPPlZgi2UixU4LnOo3hiujKS9QZOGGyWRhTSq034Z\n",
       "Uvi8dT2eLdS0+QxIEZyhFIQQ/a7AOUaV6+qo8XaSQudy6vbgaesIBrU8aQ+YEduZNk9n+Zbct2HC\n",
       "8BLmf9kzTVEf4VxI9pxATiXP6/4o69e3RoGS53SLpogS6WVN2p/v5u/5u0fHnM9ZvW3OtzWSS/gb\n",
       "uO3WhJob99sAAAAASUVORK5CYII=\n",
       "\" style=\"display:inline;vertical-align:middle;\" /></a></span>"
      ],
      "text/plain": [
       "|- forall_{A, B | [not](A subseteq B)} (A nsubseteq B)"
      ]
     },
     "execution_count": 67,
     "metadata": {},
     "output_type": "execute_result"
    }
   ],
   "source": [
    "# the theorem\n",
    "fold_not_subset_eq"
   ]
  },
  {
   "cell_type": "code",
   "execution_count": 68,
   "metadata": {},
   "outputs": [
    {
     "data": {
      "text/html": [
       "<strong id=\"fold_not_subset_eq_spec\">fold_not_subset_eq_spec:</strong> <span style=\"font-size:20px;\"><a class=\"ProveItLink\" href=\"../__pv_it/demonstrations/4f64b99ce79f8bbf1300b9a78c66cf6419aa2e450/expr.ipynb\"><img src=\"data:image/png;base64,iVBORw0KGgoAAAANSUhEUgAAAFwAAAAUBAMAAADyykdqAAAAMFBMVEX///+6uroQEBCqqqqIiIgy\n",
       "MjJERETu7u6YmJjMzMxUVFTc3Nx2dnYiIiJmZmYAAAAutVgsAAAAAXRSTlMAQObYZgAAAW1JREFU\n",
       "KM9jYIAD7gYG/IB5AzKvDESUZL1q2IOurut/1rIsoNrVyILRQMyiwcBgpwFVdPfu3ZsQ5lcGBo7P\n",
       "DAylSKo5HjAwsOcWMDDw/Qbzt56GS3F+ARKPGBh4HBDKeYG2saoDGYwKcMuggOUnkJBvYGBXQIjt\n",
       "BeL3BiCzHoC4fAYIKbYPQGL/AQaGQISYHzBs/oIY7OAA4EVyJ38CyPQFDAznEGIZQLd9QXB3ISmf\n",
       "D3KzP9D0Voa3QP/fvQPkXgaa+BMtWKHAfwKQWC/AwGCLMEqRgYHpO9gxDOiOyQcRn0DWoCjnBXmJ\n",
       "wRIshBxo30Dh/ANV+WVYiB+AiAWjBnsRyLuyCOVAr3KDxHkKIGJVCwuQgp09FMRqhepngASSfQMD\n",
       "83OYoXNyoYmAFehGWXBkvEE4EGQR+7NVDzESIlf8r1fLXoOZkaiJgABgv4CaxAgA5NBiyEaVAkUf\n",
       "LAFDQSlG9sALUAwkmPk4NjAAAOGFYSMjByPaAAAAAElFTkSuQmCC\n",
       "\" style=\"display:inline;vertical-align:middle;\" /></a> <a class=\"ProveItLink\" href=\"../__pv_it/demonstrations/b174733bd20e0710434710bda6f58a5dfe20f9bc0/proof.ipynb\" style=\"text-decoration: none\">&nbsp;&#x22A2;&nbsp;&nbsp;</a><a class=\"ProveItLink\" href=\"../__pv_it/demonstrations/1b4ddff07d2c61ff6654681ef4e07d863e209a1b0/expr.ipynb\"><img src=\"data:image/png;base64,iVBORw0KGgoAAAANSUhEUgAAADwAAAAYBAMAAABU74NhAAAAMFBMVEX////MzMy6uroyMjIiIiKq\n",
       "qqoQEBB2dnbc3NyYmJhmZmZUVFRERESIiIju7u4AAACOKgoaAAAAAXRSTlMAQObYZgAAATFJREFU\n",
       "KM9jYEADTAx4AQt+6enoAnx3du3kKIDx7CAU5/4/u8/sALGuTWBgXTYBLDjHxS3FESLPb8DAMD+A\n",
       "geGNH5CzvgEk1FzBwC0ANUX+AgMDVwIDg9kDIEcNbIsFA8NjmCX3geqYfjJwfQVxpEAEN9CsmzDp\n",
       "80DM8Z2h3wHEeQHzkwNM+g8oDH4z1F+Ae6GbgYEV5gPGv0CC9zuDvwBcuoeBgbkByub9CLLtE0M+\n",
       "yGUMD6CG98CU8nwAeS6BwR/EYQUbwT6BYRFMmv8AkJg/AeJjdoiYKR/cZSBv8+UwMPSDnFYHEXuz\n",
       "6wKytx8DA471JwND1AOYHhMXF0ig2gO95QVivDq9SwGmRwvG2Px/1+5TDeiRdxBvXHMY4JNl93dx\n",
       "gdlNRkIKxy99Dr80hk8YACO/Rsz/sWlrAAAAAElFTkSuQmCC\n",
       "\" style=\"display:inline;vertical-align:middle;\" /></a></span><br>"
      ],
      "text/plain": [
       "fold_not_subset_eq_spec: {[not](C subseteq D)} |- C nsubseteq D"
      ]
     },
     "execution_count": 68,
     "metadata": {},
     "output_type": "execute_result"
    }
   ],
   "source": [
    "# instantiation\n",
    "fold_not_subset_eq_spec = fold_not_subset_eq.instantiate({A:C, B:D}, assumptions=[Not(SubsetEq(C, D))])"
   ]
  },
  {
   "cell_type": "markdown",
   "metadata": {},
   "source": [
    "<font size=3>We can look at the proof resulting from the earlier automated ``prove()`` approach and see the same steps reflected in the automation:</font>"
   ]
  },
  {
   "cell_type": "code",
   "execution_count": 69,
   "metadata": {},
   "outputs": [
    {
     "data": {
      "text/html": [
       "<table><tr><th>&nbsp;</th><th>step type</th><th>requirements</th><th>statement</th></tr>\n",
       "<tr><td><a name=\"0x4a8cb98ab772e383_step0\">0</a></td><td>instantiation</td><td><a href=\"#0x4a8cb98ab772e383_step1\">1</a>, <a href=\"#0x4a8cb98ab772e383_step2\">2</a></td><td><span style=\"font-size:20px;\"><a class=\"ProveItLink\" href=\"../__pv_it/demonstrations/4f64b99ce79f8bbf1300b9a78c66cf6419aa2e450/expr.ipynb\"><img src=\"data:image/png;base64,iVBORw0KGgoAAAANSUhEUgAAAFwAAAAUBAMAAADyykdqAAAAMFBMVEX///+6uroQEBCqqqqIiIgy\n",
       "MjJERETu7u6YmJjMzMxUVFTc3Nx2dnYiIiJmZmYAAAAutVgsAAAAAXRSTlMAQObYZgAAAW1JREFU\n",
       "KM9jYIAD7gYG/IB5AzKvDESUZL1q2IOurut/1rIsoNrVyILRQMyiwcBgpwFVdPfu3ZsQ5lcGBo7P\n",
       "DAylSKo5HjAwsOcWMDDw/Qbzt56GS3F+ARKPGBh4HBDKeYG2saoDGYwKcMuggOUnkJBvYGBXQIjt\n",
       "BeL3BiCzHoC4fAYIKbYPQGL/AQaGQISYHzBs/oIY7OAA4EVyJ38CyPQFDAznEGIZQLd9QXB3ISmf\n",
       "D3KzP9D0Voa3QP/fvQPkXgaa+BMtWKHAfwKQWC/AwGCLMEqRgYHpO9gxDOiOyQcRn0DWoCjnBXmJ\n",
       "wRIshBxo30Dh/ANV+WVYiB+AiAWjBnsRyLuyCOVAr3KDxHkKIGJVCwuQgp09FMRqhepngASSfQMD\n",
       "83OYoXNyoYmAFehGWXBkvEE4EGQR+7NVDzESIlf8r1fLXoOZkaiJgABgv4CaxAgA5NBiyEaVAkUf\n",
       "LAFDQSlG9sALUAwkmPk4NjAAAOGFYSMjByPaAAAAAElFTkSuQmCC\n",
       "\" style=\"display:inline;vertical-align:middle;\" /></a> <a class=\"ProveItLink\" href=\"../__pv_it/demonstrations/b174733bd20e0710434710bda6f58a5dfe20f9bc0/proof.ipynb\" style=\"text-decoration: none\">&nbsp;&#x22A2;&nbsp;&nbsp;</a><a class=\"ProveItLink\" href=\"../__pv_it/demonstrations/1b4ddff07d2c61ff6654681ef4e07d863e209a1b0/expr.ipynb\"><img src=\"data:image/png;base64,iVBORw0KGgoAAAANSUhEUgAAADwAAAAYBAMAAABU74NhAAAAMFBMVEX////MzMy6uroyMjIiIiKq\n",
       "qqoQEBB2dnbc3NyYmJhmZmZUVFRERESIiIju7u4AAACOKgoaAAAAAXRSTlMAQObYZgAAATFJREFU\n",
       "KM9jYEADTAx4AQt+6enoAnx3du3kKIDx7CAU5/4/u8/sALGuTWBgXTYBLDjHxS3FESLPb8DAMD+A\n",
       "geGNH5CzvgEk1FzBwC0ANUX+AgMDVwIDg9kDIEcNbIsFA8NjmCX3geqYfjJwfQVxpEAEN9CsmzDp\n",
       "80DM8Z2h3wHEeQHzkwNM+g8oDH4z1F+Ae6GbgYEV5gPGv0CC9zuDvwBcuoeBgbkByub9CLLtE0M+\n",
       "yGUMD6CG98CU8nwAeS6BwR/EYQUbwT6BYRFMmv8AkJg/AeJjdoiYKR/cZSBv8+UwMPSDnFYHEXuz\n",
       "6wKytx8DA471JwND1AOYHhMXF0ig2gO95QVivDq9SwGmRwvG2Px/1+5TDeiRdxBvXHMY4JNl93dx\n",
       "gdlNRkIKxy99Dr80hk8YACO/Rsz/sWlrAAAAAElFTkSuQmCC\n",
       "\" style=\"display:inline;vertical-align:middle;\" /></a></span></td></tr>\n",
       "<tr><td>&nbsp;</td><td colspan=4 style=\"text-align:left\"><span style=\"font-size:20px;\"><a class=\"ProveItLink\" href=\"../../../../__pv_it/common/09585084922504426caf1db2ff588a23a0932a960/expr.ipynb\"><img src=\"data:image/png;base64,iVBORw0KGgoAAAANSUhEUgAAAA8AAAAOBAMAAAACpFvcAAAALVBMVEX///8iIiIQEBBERERUVFS6\n",
       "urqIiIjc3NxmZmaqqqru7u6YmJgyMjLMzMwAAACK9jtgAAAAAXRSTlMAQObYZgAAAFtJREFUCNdj\n",
       "YACBOwxQcA5Kc59bAGGs7CuAMDbkBYBp1gXzNoAZSxnuJYAZAQx1DSCa16PDzwCshIGB6QCIMYGB\n",
       "gVEBSLMDGTwPgIxCIGZ+zsCw+N0pBk67hw0AfpEVEQi8t+wAAAAASUVORK5CYII=\n",
       "\" style=\"display:inline;vertical-align:middle;\" /></a> : <a class=\"ProveItLink\" href=\"../../../../__pv_it/common/9fba9f29e823606ff4fdf2f1c6d5d08d906e850a0/expr.ipynb\"><img src=\"data:image/png;base64,iVBORw0KGgoAAAANSUhEUgAAAA8AAAAOBAMAAAACpFvcAAAAMFBMVEX////MzMy6uroyMjIiIiKq\n",
       "qqoQEBB2dnbc3NyYmJhmZmZUVFRERESIiIju7u4AAACOKgoaAAAAAXRSTlMAQObYZgAAAGRJREFU\n",
       "CNdjYGDgu7NrJ0cBAwPDtQkMrMsmMDC88QNy1jcwMJg9ADLUGBi4vgJpBikGhn4HEOMFA0P9BQYI\n",
       "8BeAMvJBahmAhD+IZhWAmMDADsT9IMV1INGfDAxRYHWvTu9SAFIARRcYB3lKsPwAAAAASUVORK5C\n",
       "YII=\n",
       "\" style=\"display:inline;vertical-align:middle;\" /></a>, <a class=\"ProveItLink\" href=\"../../../../__pv_it/common/a9162d1c3cc0470c02e5daf414500903a7a419230/expr.ipynb\"><img src=\"data:image/png;base64,iVBORw0KGgoAAAANSUhEUgAAABAAAAAOBAMAAADUAYG5AAAALVBMVEX///8yMjKqqqoiIiLu7u7c\n",
       "3NyIiIjMzMwQEBC6urpERERmZmZUVFSYmJgAAACsPVCVAAAAAXRSTlMAQObYZgAAAGxJREFUCNdj\n",
       "YGC48+70nlUTGICgi4GB+zmQZn/LwMD5Gshge8rAwPsMyOBqYGDwMAEy+A4wsNs4ABl1Z68tVgBp\n",
       "ygtgYOkBMVaAOCChNyBGAsQYhnMTIMawvwJyGIHGzFjCwMAj92b3qUUMDAAXABxvZ4rl5AAAAABJ\n",
       "RU5ErkJggg==\n",
       "\" style=\"display:inline;vertical-align:middle;\" /></a> : <a class=\"ProveItLink\" href=\"../../../../__pv_it/common/8d36d28f3636cdaa66f8b7d56eb3bbf0b50f70200/expr.ipynb\"><img src=\"data:image/png;base64,iVBORw0KGgoAAAANSUhEUgAAABEAAAAOBAMAAAA7w+qHAAAAMFBMVEX///8iIiLu7u52dna6uroQ\n",
       "EBBmZmaIiIjMzMyqqqoyMjLc3NxERERUVFSYmJgAAAAdjRNVAAAAAXRSTlMAQObYZgAAAGlJREFU\n",
       "CNdjYGB4+//snbMbGEDgFwMD308Qg+M7kEgFsdh/AAn/B0CC5wOQ2G8AJPgPgMQuAIn+AiBRDxKr\n",
       "bwAS9x2AxHmQtq8g4g8Q8/2DGad6AGoc0yqQJBfQOMcEIIN3/d/cO9lABgDT4B6ufsfOGgAAAABJ\n",
       "RU5ErkJggg==\n",
       "\" style=\"display:inline;vertical-align:middle;\" /></a></span></td></tr><tr><td><a name=\"0x4a8cb98ab772e383_step1\">1</a></td><td>theorem</td><td></td><td><span style=\"font-size:20px;\"> <a class=\"ProveItLink\" href=\"proofs/fold_not_subset_eq/thm_proof.ipynb\" style=\"text-decoration: none\">&nbsp;&#x22A2;&nbsp;&nbsp;</a><a class=\"ProveItLink\" href=\"../__pv_it/theorems/8143820b637fa0c3eb844f733863abcc60e893740/expr.ipynb\"><img src=\"data:image/png;base64,iVBORw0KGgoAAAANSUhEUgAAANEAAAAYBAMAAACW8wWgAAAAMFBMVEX///8QEBCIiIhmZma6urrM\n",
       "zMxUVFQiIiJERETc3Nzu7u6qqqp2dnaYmJgyMjIAAAAcRTyBAAAAAXRSTlMAQObYZgAAA1tJREFU\n",
       "SMe9VUtIVFEY/pyXc+eh7gyKmF1SmIIxUUgOBSFBKC1sEzlggrSosYihF06gcZVipk0NRDniwpCw\n",
       "ASOKgswWqUXcclOUOdEitEWiaTZh9p9z7r0zc2eGqMEO3PP4/3vO9z++/xxgjZoF/6sVr9G5N7Ik\n",
       "7zNWD+hLsMlUgUCOEB+siZRoVgzu40s1bZ2wRYDnaeJ/biURMcyp6zfB9vJTYlpERtQ1OsiGKK2k\n",
       "UIFIk2L4kBTjzXHYGlVVswI0VGOU7IgBrniBSKdFDId/iHEGGNJUVeTutAd9FMiJwcFrBQJJAZET\n",
       "0zc+2sjwSk13gZDLYyjxAcuyfO7PZ+USagGCqZoP+5wrOsEDmm4JOHiUwka/tALdXCb6+oWnbZGs\n",
       "0hthnT2il2W41tuNu9rSrvCg+azzfHkVcI6oKuvSVMVZ5i9RYg8cnJxu4bq7DK4yvj0NyMYxpikC\n",
       "t2X5Ik1fAU9g1pCL48I0aYEvozoZyV1KXZ+foAPMVxM3qV+4bvbDmTQiHeI21ymwdgmBF3gcc/hV\n",
       "dZGP9U013mUtelHdXbLa9JN8owJwKeLimDgpfvPAnDAitbLONVCtC08Au4CZDCTqNvKlS8E2bWcp\n",
       "WWOaF0hSookH1CNz1Z1GbI0ZkXh+D9hDeKjeCYswzaYIxqPnpK9drL84dEKwcrJRXixM0n2EpwLb\n",
       "uaqhskIExW5ksd8cwA6VEfOvWbbupTPiOn1fxfpWiye9nJpDghEY5ue8QxVXvQQ2pSGNybKcsLA7\n",
       "xB03zWFc7HclYKJd9epxjMLcmrBKhObPwaC4jT6SWesoRmZGxlJmgOPTizAP2iWgN57pk9/CvByq\n",
       "HUtit+rECCRK82GN9AE4wr9iuL8qck18Vtux1RavzI4rYcXnZgjmGHp5JdIBDREDkpX5tBPSolZS\n",
       "pXFYiL57M2+jVOvKqvIBfbaftitSD6QkpA2GPPlZgi2UixU4LnOo3hiujKS9QZOGGyWRhTSq034Z\n",
       "Uvi8dT2eLdS0+QxIEZyhFIQQ/a7AOUaV6+qo8XaSQudy6vbgaesIBrU8aQ+YEduZNk9n+Zbct2HC\n",
       "8BLmf9kzTVEf4VxI9pxATiXP6/4o69e3RoGS53SLpogS6WVN2p/v5u/5u0fHnM9ZvW3OtzWSS/gb\n",
       "uO3WhJob99sAAAAASUVORK5CYII=\n",
       "\" style=\"display:inline;vertical-align:middle;\" /></a></span></td></tr>\n",
       "<tr><td>&nbsp;</td><td colspan=4 style-\"text-align:left\"><a class=\"ProveItLink\" href=\"proofs/fold_not_subset_eq/thm_proof.ipynb\">proveit.logic.sets.inclusion.fold_not_subset_eq</a></td></tr><tr><td><a name=\"0x4a8cb98ab772e383_step2\">2</a></td><td>assumption</td><td></td><td><span style=\"font-size:20px;\"><a class=\"ProveItLink\" href=\"../__pv_it/demonstrations/4f64b99ce79f8bbf1300b9a78c66cf6419aa2e450/expr.ipynb\"><img src=\"data:image/png;base64,iVBORw0KGgoAAAANSUhEUgAAAFwAAAAUBAMAAADyykdqAAAAMFBMVEX///+6uroQEBCqqqqIiIgy\n",
       "MjJERETu7u6YmJjMzMxUVFTc3Nx2dnYiIiJmZmYAAAAutVgsAAAAAXRSTlMAQObYZgAAAW1JREFU\n",
       "KM9jYIAD7gYG/IB5AzKvDESUZL1q2IOurut/1rIsoNrVyILRQMyiwcBgpwFVdPfu3ZsQ5lcGBo7P\n",
       "DAylSKo5HjAwsOcWMDDw/Qbzt56GS3F+ARKPGBh4HBDKeYG2saoDGYwKcMuggOUnkJBvYGBXQIjt\n",
       "BeL3BiCzHoC4fAYIKbYPQGL/AQaGQISYHzBs/oIY7OAA4EVyJ38CyPQFDAznEGIZQLd9QXB3ISmf\n",
       "D3KzP9D0Voa3QP/fvQPkXgaa+BMtWKHAfwKQWC/AwGCLMEqRgYHpO9gxDOiOyQcRn0DWoCjnBXmJ\n",
       "wRIshBxo30Dh/ANV+WVYiB+AiAWjBnsRyLuyCOVAr3KDxHkKIGJVCwuQgp09FMRqhepngASSfQMD\n",
       "83OYoXNyoYmAFehGWXBkvEE4EGQR+7NVDzESIlf8r1fLXoOZkaiJgABgv4CaxAgA5NBiyEaVAkUf\n",
       "LAFDQSlG9sALUAwkmPk4NjAAAOGFYSMjByPaAAAAAElFTkSuQmCC\n",
       "\" style=\"display:inline;vertical-align:middle;\" /></a> <a class=\"ProveItLink\" href=\"../__pv_it/demonstrations/43e0255ec930707600688fee059746a69e08791c0/proof.ipynb\" style=\"text-decoration: none\">&nbsp;&#x22A2;&nbsp;&nbsp;</a><a class=\"ProveItLink\" href=\"../__pv_it/demonstrations/4f64b99ce79f8bbf1300b9a78c66cf6419aa2e450/expr.ipynb\"><img src=\"data:image/png;base64,iVBORw0KGgoAAAANSUhEUgAAAFwAAAAUBAMAAADyykdqAAAAMFBMVEX///+6uroQEBCqqqqIiIgy\n",
       "MjJERETu7u6YmJjMzMxUVFTc3Nx2dnYiIiJmZmYAAAAutVgsAAAAAXRSTlMAQObYZgAAAW1JREFU\n",
       "KM9jYIAD7gYG/IB5AzKvDESUZL1q2IOurut/1rIsoNrVyILRQMyiwcBgpwFVdPfu3ZsQ5lcGBo7P\n",
       "DAylSKo5HjAwsOcWMDDw/Qbzt56GS3F+ARKPGBh4HBDKeYG2saoDGYwKcMuggOUnkJBvYGBXQIjt\n",
       "BeL3BiCzHoC4fAYIKbYPQGL/AQaGQISYHzBs/oIY7OAA4EVyJ38CyPQFDAznEGIZQLd9QXB3ISmf\n",
       "D3KzP9D0Voa3QP/fvQPkXgaa+BMtWKHAfwKQWC/AwGCLMEqRgYHpO9gxDOiOyQcRn0DWoCjnBXmJ\n",
       "wRIshBxo30Dh/ANV+WVYiB+AiAWjBnsRyLuyCOVAr3KDxHkKIGJVCwuQgp09FMRqhepngASSfQMD\n",
       "83OYoXNyoYmAFehGWXBkvEE4EGQR+7NVDzESIlf8r1fLXoOZkaiJgABgv4CaxAgA5NBiyEaVAkUf\n",
       "LAFDQSlG9sALUAwkmPk4NjAAAOGFYSMjByPaAAAAAElFTkSuQmCC\n",
       "\" style=\"display:inline;vertical-align:middle;\" /></a></span></td></tr>\n",
       "</table>"
      ],
      "text/plain": [
       "\tstep type\trequirements\tstatement\n",
       "0\tinstantiation\t1, 2\t{[not](C subseteq D)} |- C nsubseteq D\n",
       "\tA : C, B : D\n",
       "1\ttheorem\t\t|- forall_{A, B | [not](A subseteq B)} (A nsubseteq B)\n",
       "\tproveit.logic.sets.inclusion.fold_not_subset_eq\n",
       "2\tassumption\t\t{[not](C subseteq D)} |- [not](C subseteq D)"
      ]
     },
     "execution_count": 69,
     "metadata": {},
     "output_type": "execute_result"
    }
   ],
   "source": [
    "NotSubsetEqKT.proof()"
   ]
  },
  {
   "cell_type": "markdown",
   "metadata": {},
   "source": [
    "<font size=3>And of course we have similar fold and unfold theorems for the negated superset or negated containment relation $\\not\\supseteq$. For example:</font>"
   ]
  },
  {
   "cell_type": "code",
   "execution_count": 70,
   "metadata": {},
   "outputs": [
    {
     "data": {
      "text/html": [
       "<span style=\"font-size:20px;\"><a class=\"ProveItLink\" href=\"../__pv_it/demonstrations/3d1336774fce2f43981b7e15d97ebc38e9081ced0/expr.ipynb\"><img src=\"data:image/png;base64,iVBORw0KGgoAAAANSUhEUgAAADwAAAAYBAMAAABU74NhAAAAMFBMVEX////MzMy6uroyMjIiIiKq\n",
       "qqoQEBB2dnbc3NyYmJhmZmZUVFRERESIiIju7u4AAACOKgoaAAAAAXRSTlMAQObYZgAAAS9JREFU\n",
       "KM9jYEADvAx4wWP80jfRBfju7NrJUQDjGUAozv1/dp/ZAWJdm8DAumwCyFwXFxerBVBl/EB18wMY\n",
       "GN74ATnrG2BWG0EZ8hcYGLgSGBjMHgA5ajCzu3kEIIz7QJrpJwPXVxBHCiZdxHcAwjgPxBzfGfod\n",
       "QJwXCJftgDD+ADHTb4b6C8i+4LzAcBXMYPwLCqLvDP4CyNLMDxiWQgLvI5Dg/sSQD3IZwwOotDQD\n",
       "gweYwfMB5LkEBn8QhxVmxEYGVojT+EHU/AkQH7PDAtCAQeQB3Nt8OQwM/SCn1UGl2edJnUB4+zEw\n",
       "4Fh/MjBEQXQ8dvH3KYUqtAd6ywvEeHV6lwLM4eEwxub/u3afakCPPAu8cc14AG9C8QfGqMsGnPIs\n",
       "+BPSXPzSdvilMXzCAADOTEwVSzq29gAAAABJRU5ErkJggg==\n",
       "\" style=\"display:inline;vertical-align:middle;\" /></a> <a class=\"ProveItLink\" href=\"../__pv_it/demonstrations/62eb37f4eff35ee93c948b5d5bff5f3b333289cd0/proof.ipynb\" style=\"text-decoration: none\">&nbsp;&#x22A2;&nbsp;&nbsp;</a><a class=\"ProveItLink\" href=\"../__pv_it/demonstrations/d7a0ad26194ec4b9b20af2ce9a9843310ffcd3290/expr.ipynb\"><img src=\"data:image/png;base64,iVBORw0KGgoAAAANSUhEUgAAAFwAAAAUBAMAAADyykdqAAAAMFBMVEX///+6uroQEBCqqqqIiIgy\n",
       "MjJERETu7u6YmJjMzMxUVFTc3Nx2dnYiIiJmZmYAAAAutVgsAAAAAXRSTlMAQObYZgAAAXdJREFU\n",
       "KM9jYIAD7gYG/IB5AzKvDESUZL1q2IOurut/1rIsoNrVyILRQMyiwcBgpwHild69ezcFJvWVgYHj\n",
       "M1AMSTXHAwYG9twCBga+3zChikAIzfkFSDxiYOBxQCjnBdrGqg5kMCrAxUohrmX5CSTkGxjYETIM\n",
       "e4H4vQHIrAdwMc4AMMX2AUjsP8DAEIhQ7gcMm78gBvsGVP8wMPAngExfwMBwDiGTAXTbF/QwOQwm\n",
       "54Pc7A80vZXhLTAE7t4Bci8Dnf8TXflDMOk/AUisF2BgsIWI7gJiRQYGpu9gxyAph7g9H0R8AlmD\n",
       "opwX5CUGS6R4XACmvoHC+Qeq8suwED+AUD63AB7sRSDvyiKUA73KDRLnKYApZpfLhgc7eyiI1QoN\n",
       "XwZIINk3MDA/h8bQ3bvXIOHCwAp0oyw4Mt4gLAZZxP5s1UOMhMgV/+vVstdgZiRqIiAA2C+gJjEC\n",
       "ADmJMWSjSIES8N27C1DFMLIHXoBiIMHMx7GBAQBXy2I+sBI4ggAAAABJRU5ErkJggg==\n",
       "\" style=\"display:inline;vertical-align:middle;\" /></a></span>"
      ],
      "text/plain": [
       "{C nsupseteq D} |- [not](C supseteq D)"
      ]
     },
     "execution_count": 70,
     "metadata": {},
     "output_type": "execute_result"
    }
   ],
   "source": [
    "# unfold the definition to produce a new judgment\n",
    "NotSupersetEq(C, D).unfold([NotSupersetEq(C, D)])"
   ]
  },
  {
   "cell_type": "code",
   "execution_count": 71,
   "metadata": {},
   "outputs": [
    {
     "data": {
      "text/html": [
       "<strong id=\"NotSupersetEqKT\">NotSupersetEqKT:</strong> <span style=\"font-size:20px;\"><a class=\"ProveItLink\" href=\"../__pv_it/demonstrations/d7a0ad26194ec4b9b20af2ce9a9843310ffcd3290/expr.ipynb\"><img src=\"data:image/png;base64,iVBORw0KGgoAAAANSUhEUgAAAFwAAAAUBAMAAADyykdqAAAAMFBMVEX///+6uroQEBCqqqqIiIgy\n",
       "MjJERETu7u6YmJjMzMxUVFTc3Nx2dnYiIiJmZmYAAAAutVgsAAAAAXRSTlMAQObYZgAAAXdJREFU\n",
       "KM9jYIAD7gYG/IB5AzKvDESUZL1q2IOurut/1rIsoNrVyILRQMyiwcBgpwHild69ezcFJvWVgYHj\n",
       "M1AMSTXHAwYG9twCBga+3zChikAIzfkFSDxiYOBxQCjnBdrGqg5kMCrAxUohrmX5CSTkGxjYETIM\n",
       "e4H4vQHIrAdwMc4AMMX2AUjsP8DAEIhQ7gcMm78gBvsGVP8wMPAngExfwMBwDiGTAXTbF/QwOQwm\n",
       "54Pc7A80vZXhLTAE7t4Bci8Dnf8TXflDMOk/AUisF2BgsIWI7gJiRQYGpu9gxyAph7g9H0R8AlmD\n",
       "opwX5CUGS6R4XACmvoHC+Qeq8suwED+AUD63AB7sRSDvyiKUA73KDRLnKYApZpfLhgc7eyiI1QoN\n",
       "XwZIINk3MDA/h8bQ3bvXIOHCwAp0oyw4Mt4gLAZZxP5s1UOMhMgV/+vVstdgZiRqIiAA2C+gJjEC\n",
       "ADmJMWSjSIES8N27C1DFMLIHXoBiIMHMx7GBAQBXy2I+sBI4ggAAAABJRU5ErkJggg==\n",
       "\" style=\"display:inline;vertical-align:middle;\" /></a> <a class=\"ProveItLink\" href=\"../__pv_it/demonstrations/26cb3c5aea10374d195761b218e877f6e1d871df0/proof.ipynb\" style=\"text-decoration: none\">&nbsp;&#x22A2;&nbsp;&nbsp;</a><a class=\"ProveItLink\" href=\"../__pv_it/demonstrations/3d1336774fce2f43981b7e15d97ebc38e9081ced0/expr.ipynb\"><img src=\"data:image/png;base64,iVBORw0KGgoAAAANSUhEUgAAADwAAAAYBAMAAABU74NhAAAAMFBMVEX////MzMy6uroyMjIiIiKq\n",
       "qqoQEBB2dnbc3NyYmJhmZmZUVFRERESIiIju7u4AAACOKgoaAAAAAXRSTlMAQObYZgAAAS9JREFU\n",
       "KM9jYEADvAx4wWP80jfRBfju7NrJUQDjGUAozv1/dp/ZAWJdm8DAumwCyFwXFxerBVBl/EB18wMY\n",
       "GN74ATnrG2BWG0EZ8hcYGLgSGBjMHgA5ajCzu3kEIIz7QJrpJwPXVxBHCiZdxHcAwjgPxBzfGfod\n",
       "QJwXCJftgDD+ADHTb4b6C8i+4LzAcBXMYPwLCqLvDP4CyNLMDxiWQgLvI5Dg/sSQD3IZwwOotDQD\n",
       "gweYwfMB5LkEBn8QhxVmxEYGVojT+EHU/AkQH7PDAtCAQeQB3Nt8OQwM/SCn1UGl2edJnUB4+zEw\n",
       "4Fh/MjBEQXQ8dvH3KYUqtAd6ywvEeHV6lwLM4eEwxub/u3afakCPPAu8cc14AG9C8QfGqMsGnPIs\n",
       "+BPSXPzSdvilMXzCAADOTEwVSzq29gAAAABJRU5ErkJggg==\n",
       "\" style=\"display:inline;vertical-align:middle;\" /></a></span><br>"
      ],
      "text/plain": [
       "NotSupersetEqKT: {[not](C supseteq D)} |- C nsupseteq D"
      ]
     },
     "execution_count": 71,
     "metadata": {},
     "output_type": "execute_result"
    }
   ],
   "source": [
    "# or automatically fold the definition when deriving the alternative judgment\n",
    "NotSupersetEqKT = NotSupersetEq(C, D).prove([Not(SupersetEq(C, D))])"
   ]
  },
  {
   "cell_type": "markdown",
   "metadata": {},
   "source": [
    "<div style=\"width: 90%; border: 5px solid green; padding: 10px; margin: 0px;\"><a id='demo06'></a><font size=4><b>6.</b> Containment Reversals (such as $A \\subset B \\Rightarrow B \\supset A$).</font></div><br/>\n",
    "<font size=3>All of the standard containment reversals are available as individual theorems (such as $A \\subset B \\Rightarrow B \\supset A$ or $C \\supseteq D \\Rightarrow D \\subseteq C$) in the set_theory theory, and we can easily apply them to re-express containment expressions in a desired direction.\n",
    "</font>"
   ]
  },
  {
   "cell_type": "markdown",
   "metadata": {},
   "source": [
    "<font size=3>We have a theorem, ``int_within_real``, that the integer numbers are a proper subset of the real numbers: $\\mathbb{Z} \\subset \\mathbb{R}$:\n",
    "</font>"
   ]
  },
  {
   "cell_type": "code",
   "execution_count": 72,
   "metadata": {},
   "outputs": [
    {
     "data": {
      "text/html": [
       "<span style=\"font-size:20px;\"> <a class=\"ProveItLink\" href=\"../../../../numbers/number_sets/real_numbers/_theory_nbs_/proofs/int_within_real/thm_proof.ipynb\" style=\"text-decoration: none\">&nbsp;&#x22A2;&nbsp;&nbsp;</a><a class=\"ProveItLink\" href=\"../../../../numbers/number_sets/real_numbers/__pv_it/theorems/44671df9a41ced1f3b48ad02c756a464460c9a220/expr.ipynb\"><img src=\"data:image/png;base64,iVBORw0KGgoAAAANSUhEUgAAADkAAAAPBAMAAACsFXoGAAAAMFBMVEX///9UVFTc3Nzu7u6qqqp2\n",
       "dnbMzMxmZmZERESIiIiYmJgyMjIQEBAiIiK6uroAAABqpg13AAAAAXRSTlMAQObYZgAAAOlJREFU\n",
       "GNNj4LvzZ/fZPQsYUMDaE/27T4DEONsTGDZwMKCBDYYMGSsMGBjYAxhYHeLQZRtUGTiYBICyBgyK\n",
       "bAUQMa7eu3fvJkBl2RU2gAWbOQzANNNWBSS97AoNYB0TVkGEeBWQTWbkEwCxLJgbIEIlKPb6VoNN\n",
       "FGOE6rmAJKtz97YDiMFX8BQiwiSArPc5xDHcDECDg4EMmAUQWfZnYG4I6wMGhgPoJqsyNK8Em6cI\n",
       "9DRYNhJFNpEd6HMOg2YGZimwKdwOyCHJ6iDGwPCm+0TH+RPgwGIWfIyIhW0MHfsdUEKXLQIWklAA\n",
       "AIXKPhbaD7N+AAAAAElFTkSuQmCC\n",
       "\" style=\"display:inline;vertical-align:middle;\" /></a></span>"
      ],
      "text/plain": [
       "|- Integer proper_subset Real"
      ]
     },
     "execution_count": 72,
     "metadata": {},
     "output_type": "execute_result"
    }
   ],
   "source": [
    "int_within_real"
   ]
  },
  {
   "cell_type": "markdown",
   "metadata": {},
   "source": [
    "<font size=3>We also have a general theorem, ``reverse_subset``, that allows us to convert a proper subset claim into the equivalent proper superset claim:\n",
    "</font>"
   ]
  },
  {
   "cell_type": "code",
   "execution_count": 73,
   "metadata": {},
   "outputs": [
    {
     "data": {
      "text/html": [
       "<span style=\"font-size:20px;\"> <a class=\"ProveItLink\" href=\"proofs/reverse_proper_subset/thm_proof.ipynb\" style=\"text-decoration: none\">&nbsp;&#x22A2;&nbsp;&nbsp;</a><a class=\"ProveItLink\" href=\"../__pv_it/theorems/4dadf128a5d8039046b4b860256240e5797230c70/expr.ipynb\"><img src=\"data:image/png;base64,iVBORw0KGgoAAAANSUhEUgAAALoAAAAWBAMAAACF/ptXAAAAMFBMVEX///8QEBCIiIhmZma6urrM\n",
       "zMxUVFQiIiJERETc3Nzu7u6qqqp2dnaYmJgyMjIAAAAcRTyBAAAAAXRSTlMAQObYZgAAAtJJREFU\n",
       "SMetVU9IFGEU/zk7qzvjrnorqMNChzxUCgsbheRChyIKpUPdWsEKi0ipg0VFG0SMIayd8hI7kZRs\n",
       "YAseopOGRGEhUx3D3KguXhT/a4i9983Mzue6Gk09mO978715v/e933vfN4BvefQHe2UPkGdl3Ae4\n",
       "ngIi7QuxtrulrGfouQC8Z33SB3oVbQ1lFKKxuYR1ip4BoJcmLeUD/TMPSQtoqt9ojEyZQDiKKp5y\n",
       "PtCv81BHCUxESQl2dnZeswrG541k0GsQGc1mH/oA1zp4vEMY20x3aazHtVp1CRp/AEuGcdMHuiL4\n",
       "WABOXyyKSKKaQ5zHCHAO6BJL9nh0dqRNbEF1fUKFHanphniXu8ruwYXx2htSyEFn7kOS6foKHIYu\n",
       "ujIyZ9ejBuEa4e66TCQK3h+B145awbVSloHHLR56hTMnkOHUXvKKIqrxZFUYAi2oXJHR9UYyB3fF\n",
       "YqTHgSGH5TKOGaJ9KL889HI7zWBrrJ3bMEkNY9kRR6/a4aMI5GX08LN66JeOZbOkXwEOQUKvpn0r\n",
       "Mx56yA5NpJblbXQtf0rEixrC8qIZ+0wZ/WQohXL7wOjzUCZlZrjdy+c2MEOmCmb3CFfzrEgK+4Wl\n",
       "aW+tTaSL3hLowHGnqjOf7kGuKrd7UjqKe+zWIfSqabuqGBR99AV1wjQG7JbRIzllGm8ckvJQ3KYL\n",
       "c9m+UcTtpndvCUrBxydE9UYDk8fNo3//kBafdQOZnIQ+0PBuBQec/Q5Dc2uoUpjLa61xwzvnfecF\n",
       "Qv/aJCrTixT9J++O1wImMoJc8m7qkdAPQpunxIRU56Aur7sJCsI3QXfRdaa7eeIE+VrafWgr0HZK\n",
       "zKhE7yr67Y8yJh4Mr7vFtpRw1K3RErT0reAOvJ2NtSUk9HQKvYuWKk5o+HYs7l3m3hHeTAaKfyeS\n",
       "HpINTw3DKPH32Fq6it5fbYbu588XKU7O+hv0f5LAf8D4DaB9sA+u/zZ0AAAAAElFTkSuQmCC\n",
       "\" style=\"display:inline;vertical-align:middle;\" /></a></span>"
      ],
      "text/plain": [
       "|- forall_{A, B | A proper_subset B} (B proper_superset A)"
      ]
     },
     "execution_count": 73,
     "metadata": {},
     "output_type": "execute_result"
    }
   ],
   "source": [
    "reverse_proper_subset"
   ]
  },
  {
   "cell_type": "markdown",
   "metadata": {},
   "source": [
    "<font size=3>We can create the equivalent superset expression, $\\mathbb{R} \\supset \\mathbb{Z}$, then have Prove-It establish the claim as a judgment based on the subset relation judgment. The proof uses the ``reverse_subset`` theorem as we would expect:\n",
    "</font>"
   ]
  },
  {
   "cell_type": "code",
   "execution_count": 74,
   "metadata": {},
   "outputs": [
    {
     "data": {
      "text/html": [
       "<strong id=\"reals_contain_integer_kt\">reals_contain_integer_kt:</strong> <span style=\"font-size:20px;\"> <a class=\"ProveItLink\" href=\"../__pv_it/demonstrations/389e2f7e197be8be8301737cb621ca88ce1d33cb0/proof.ipynb\" style=\"text-decoration: none\">&nbsp;&#x22A2;&nbsp;&nbsp;</a><a class=\"ProveItLink\" href=\"../__pv_it/demonstrations/d5ff9ffe57e9357578298225f560bcf38fcca61a0/expr.ipynb\"><img src=\"data:image/png;base64,iVBORw0KGgoAAAANSUhEUgAAADkAAAAPBAMAAACsFXoGAAAAMFBMVEX///+IiIiqqqq6urpmZmZ2\n",
       "dnbc3NzMzMxUVFTu7u4yMjJEREQQEBAiIiKYmJgAAACIyPRpAAAAAXRSTlMAQObYZgAAAOhJREFU\n",
       "GNNjeHt6/6rTDxjQgO35U2tunQMyFsxgqH49AU1W2p2Bi2EDkLEhlYGbrQFN1pWBIYjVACLLkrAA\n",
       "JFR79+7dfRBZTwa2hhIGmOwGmKbUZVAG94SdUFkOZoTJuVD6Id8DqKyuF8JVTA5ginPDbDC9Iefu\n",
       "LQUkB10AkxwFbRDZVBNuZA9BRE2YA6CyLOYbkGTBjmFYwM3AwDoBbO/Oh+gmsyoEMzDwQFxVwVIA\n",
       "l2QEm5gBCh8fSEiyKrTDZbUgxgOdMuM1AwMwFpYz7F4PdTWnRSeIYj69ZveeP1tQAhcYkrfDUUQA\n",
       "TdtIkvMa5fkAAAAASUVORK5CYII=\n",
       "\" style=\"display:inline;vertical-align:middle;\" /></a></span><br>"
      ],
      "text/plain": [
       "reals_contain_integer_kt: |- Real proper_superset Integer"
      ]
     },
     "execution_count": 74,
     "metadata": {},
     "output_type": "execute_result"
    }
   ],
   "source": [
    "reals_contain_integer_kt =ProperSuperset(Real, Integer).prove()"
   ]
  },
  {
   "cell_type": "code",
   "execution_count": 75,
   "metadata": {},
   "outputs": [
    {
     "data": {
      "text/html": [
       "<table><tr><th>&nbsp;</th><th>step type</th><th>requirements</th><th>statement</th></tr>\n",
       "<tr><td><a name=\"-0x4977e7b99c61f653_step0\">0</a></td><td>instantiation</td><td><a href=\"#-0x4977e7b99c61f653_step1\">1</a>, <a href=\"#-0x4977e7b99c61f653_step2\">2</a></td><td><span style=\"font-size:20px;\"> <a class=\"ProveItLink\" href=\"../__pv_it/demonstrations/389e2f7e197be8be8301737cb621ca88ce1d33cb0/proof.ipynb\" style=\"text-decoration: none\">&nbsp;&#x22A2;&nbsp;&nbsp;</a><a class=\"ProveItLink\" href=\"../__pv_it/demonstrations/d5ff9ffe57e9357578298225f560bcf38fcca61a0/expr.ipynb\"><img src=\"data:image/png;base64,iVBORw0KGgoAAAANSUhEUgAAADkAAAAPBAMAAACsFXoGAAAAMFBMVEX///+IiIiqqqq6urpmZmZ2\n",
       "dnbc3NzMzMxUVFTu7u4yMjJEREQQEBAiIiKYmJgAAACIyPRpAAAAAXRSTlMAQObYZgAAAOhJREFU\n",
       "GNNjeHt6/6rTDxjQgO35U2tunQMyFsxgqH49AU1W2p2Bi2EDkLEhlYGbrQFN1pWBIYjVACLLkrAA\n",
       "JFR79+7dfRBZTwa2hhIGmOwGmKbUZVAG94SdUFkOZoTJuVD6Id8DqKyuF8JVTA5ginPDbDC9Iefu\n",
       "LQUkB10AkxwFbRDZVBNuZA9BRE2YA6CyLOYbkGTBjmFYwM3AwDoBbO/Oh+gmsyoEMzDwQFxVwVIA\n",
       "l2QEm5gBCh8fSEiyKrTDZbUgxgOdMuM1AwMwFpYz7F4PdTWnRSeIYj69ZveeP1tQAhcYkrfDUUQA\n",
       "TdtIkvMa5fkAAAAASUVORK5CYII=\n",
       "\" style=\"display:inline;vertical-align:middle;\" /></a></span></td></tr>\n",
       "<tr><td>&nbsp;</td><td colspan=4 style=\"text-align:left\"><span style=\"font-size:20px;\"><a class=\"ProveItLink\" href=\"../../../../__pv_it/common/09585084922504426caf1db2ff588a23a0932a960/expr.ipynb\"><img src=\"data:image/png;base64,iVBORw0KGgoAAAANSUhEUgAAAA8AAAAOBAMAAAACpFvcAAAALVBMVEX///8iIiIQEBBERERUVFS6\n",
       "urqIiIjc3NxmZmaqqqru7u6YmJgyMjLMzMwAAACK9jtgAAAAAXRSTlMAQObYZgAAAFtJREFUCNdj\n",
       "YACBOwxQcA5Kc59bAGGs7CuAMDbkBYBp1gXzNoAZSxnuJYAZAQx1DSCa16PDzwCshIGB6QCIMYGB\n",
       "gVEBSLMDGTwPgIxCIGZ+zsCw+N0pBk67hw0AfpEVEQi8t+wAAAAASUVORK5CYII=\n",
       "\" style=\"display:inline;vertical-align:middle;\" /></a> : <a class=\"ProveItLink\" href=\"../../../../numbers/number_sets/integers/__pv_it/common/e6b4e90f9467053e055a4fd2f735c0bb79cb79300/expr.ipynb\"><img src=\"data:image/png;base64,iVBORw0KGgoAAAANSUhEUgAAAA4AAAAOBAMAAADtZjDiAAAAMFBMVEX///9UVFTc3Nzu7u6qqqp2\n",
       "dnbMzMxmZmZERESIiIiYmJgyMjIQEBAiIiK6uroAAABqpg13AAAAAXRSTlMAQObYZgAAAGVJREFU\n",
       "CNdj4LvzZ/fZPQsYONsTGDZwMDCwBzCwOsQBaQMGRbYCBhBo5jAAUVwTVoG5FswNYFqMUQFE8RU8\n",
       "BXO5GYDCwQwMIawPGBgOMDAJKAINOcDAYdDMwCzVwPCm+0TH+RMFANGWFoagnRaJAAAAAElFTkSu\n",
       "QmCC\n",
       "\" style=\"display:inline;vertical-align:middle;\" /></a>, <a class=\"ProveItLink\" href=\"../../../../__pv_it/common/a9162d1c3cc0470c02e5daf414500903a7a419230/expr.ipynb\"><img src=\"data:image/png;base64,iVBORw0KGgoAAAANSUhEUgAAABAAAAAOBAMAAADUAYG5AAAALVBMVEX///8yMjKqqqoiIiLu7u7c\n",
       "3NyIiIjMzMwQEBC6urpERERmZmZUVFSYmJgAAACsPVCVAAAAAXRSTlMAQObYZgAAAGxJREFUCNdj\n",
       "YGC48+70nlUTGICgi4GB+zmQZn/LwMD5Gshge8rAwPsMyOBqYGDwMAEy+A4wsNs4ABl1Z68tVgBp\n",
       "ygtgYOkBMVaAOCChNyBGAsQYhnMTIMawvwJyGIHGzFjCwMAj92b3qUUMDAAXABxvZ4rl5AAAAABJ\n",
       "RU5ErkJggg==\n",
       "\" style=\"display:inline;vertical-align:middle;\" /></a> : <a class=\"ProveItLink\" href=\"../../../../numbers/number_sets/real_numbers/__pv_it/common/93cac87a1a47e613f7a83b23ef7891599a1a4cca0/expr.ipynb\"><img src=\"data:image/png;base64,iVBORw0KGgoAAAANSUhEUgAAAA8AAAAOBAMAAAACpFvcAAAAMFBMVEX///+IiIiqqqq6urpmZmZ2\n",
       "dnbc3NzMzMxUVFTu7u4yMjJEREQQEBAiIiKYmJgAAACIyPRpAAAAAXRSTlMAQObYZgAAAFlJREFU\n",
       "CNdjeHt6/6rTDxiAYMEMhurXE4CMDakM3GwNEAZLwgIYYwOEwcEMldL1AivOuXtLgQEsYsI9AcJg\n",
       "Md8AYTDsfAhlVLAUQKxgVWhnYABaupxh93oFAP7MI7KHKGXxAAAAAElFTkSuQmCC\n",
       "\" style=\"display:inline;vertical-align:middle;\" /></a></span></td></tr><tr><td><a name=\"-0x4977e7b99c61f653_step1\">1</a></td><td>conjecture</td><td></td><td><span style=\"font-size:20px;\"> <a class=\"ProveItLink\" href=\"proofs/reverse_proper_subset/thm_proof.ipynb\" style=\"text-decoration: none\">&nbsp;&#x22A2;&nbsp;&nbsp;</a><a class=\"ProveItLink\" href=\"../__pv_it/theorems/4dadf128a5d8039046b4b860256240e5797230c70/expr.ipynb\"><img src=\"data:image/png;base64,iVBORw0KGgoAAAANSUhEUgAAALoAAAAWBAMAAACF/ptXAAAAMFBMVEX///8QEBCIiIhmZma6urrM\n",
       "zMxUVFQiIiJERETc3Nzu7u6qqqp2dnaYmJgyMjIAAAAcRTyBAAAAAXRSTlMAQObYZgAAAtJJREFU\n",
       "SMetVU9IFGEU/zk7qzvjrnorqMNChzxUCgsbheRChyIKpUPdWsEKi0ipg0VFG0SMIayd8hI7kZRs\n",
       "YAseopOGRGEhUx3D3KguXhT/a4i9983Mzue6Gk09mO978715v/e933vfN4BvefQHe2UPkGdl3Ae4\n",
       "ngIi7QuxtrulrGfouQC8Z33SB3oVbQ1lFKKxuYR1ip4BoJcmLeUD/TMPSQtoqt9ojEyZQDiKKp5y\n",
       "PtCv81BHCUxESQl2dnZeswrG541k0GsQGc1mH/oA1zp4vEMY20x3aazHtVp1CRp/AEuGcdMHuiL4\n",
       "WABOXyyKSKKaQ5zHCHAO6BJL9nh0dqRNbEF1fUKFHanphniXu8ruwYXx2htSyEFn7kOS6foKHIYu\n",
       "ujIyZ9ejBuEa4e66TCQK3h+B145awbVSloHHLR56hTMnkOHUXvKKIqrxZFUYAi2oXJHR9UYyB3fF\n",
       "YqTHgSGH5TKOGaJ9KL889HI7zWBrrJ3bMEkNY9kRR6/a4aMI5GX08LN66JeOZbOkXwEOQUKvpn0r\n",
       "Mx56yA5NpJblbXQtf0rEixrC8qIZ+0wZ/WQohXL7wOjzUCZlZrjdy+c2MEOmCmb3CFfzrEgK+4Wl\n",
       "aW+tTaSL3hLowHGnqjOf7kGuKrd7UjqKe+zWIfSqabuqGBR99AV1wjQG7JbRIzllGm8ckvJQ3KYL\n",
       "c9m+UcTtpndvCUrBxydE9UYDk8fNo3//kBafdQOZnIQ+0PBuBQec/Q5Dc2uoUpjLa61xwzvnfecF\n",
       "Qv/aJCrTixT9J++O1wImMoJc8m7qkdAPQpunxIRU56Aur7sJCsI3QXfRdaa7eeIE+VrafWgr0HZK\n",
       "zKhE7yr67Y8yJh4Mr7vFtpRw1K3RErT0reAOvJ2NtSUk9HQKvYuWKk5o+HYs7l3m3hHeTAaKfyeS\n",
       "HpINTw3DKPH32Fq6it5fbYbu588XKU7O+hv0f5LAf8D4DaB9sA+u/zZ0AAAAAElFTkSuQmCC\n",
       "\" style=\"display:inline;vertical-align:middle;\" /></a></span></td></tr>\n",
       "<tr><td>&nbsp;</td><td colspan=4 style-\"text-align:left\"><a class=\"ProveItLink\" href=\"proofs/reverse_proper_subset/thm_proof.ipynb\">proveit.logic.sets.inclusion.reverse_proper_subset</a></td></tr><tr><td><a name=\"-0x4977e7b99c61f653_step2\">2</a></td><td>conjecture</td><td></td><td><span style=\"font-size:20px;\"> <a class=\"ProveItLink\" href=\"../../../../numbers/number_sets/real_numbers/_theory_nbs_/proofs/int_within_real/thm_proof.ipynb\" style=\"text-decoration: none\">&nbsp;&#x22A2;&nbsp;&nbsp;</a><a class=\"ProveItLink\" href=\"../../../../numbers/number_sets/real_numbers/__pv_it/theorems/44671df9a41ced1f3b48ad02c756a464460c9a220/expr.ipynb\"><img src=\"data:image/png;base64,iVBORw0KGgoAAAANSUhEUgAAADkAAAAPBAMAAACsFXoGAAAAMFBMVEX///9UVFTc3Nzu7u6qqqp2\n",
       "dnbMzMxmZmZERESIiIiYmJgyMjIQEBAiIiK6uroAAABqpg13AAAAAXRSTlMAQObYZgAAAOlJREFU\n",
       "GNNj4LvzZ/fZPQsYUMDaE/27T4DEONsTGDZwMKCBDYYMGSsMGBjYAxhYHeLQZRtUGTiYBICyBgyK\n",
       "bAUQMa7eu3fvJkBl2RU2gAWbOQzANNNWBSS97AoNYB0TVkGEeBWQTWbkEwCxLJgbIEIlKPb6VoNN\n",
       "FGOE6rmAJKtz97YDiMFX8BQiwiSArPc5xDHcDECDg4EMmAUQWfZnYG4I6wMGhgPoJqsyNK8Em6cI\n",
       "9DRYNhJFNpEd6HMOg2YGZimwKdwOyCHJ6iDGwPCm+0TH+RPgwGIWfIyIhW0MHfsdUEKXLQIWklAA\n",
       "AIXKPhbaD7N+AAAAAElFTkSuQmCC\n",
       "\" style=\"display:inline;vertical-align:middle;\" /></a></span></td></tr>\n",
       "<tr><td>&nbsp;</td><td colspan=4 style-\"text-align:left\"><a class=\"ProveItLink\" href=\"../../../../numbers/number_sets/real_numbers/_theory_nbs_/proofs/int_within_real/thm_proof.ipynb\">proveit.numbers.number_sets.real_numbers.int_within_real</a></td></tr></table>"
      ],
      "text/plain": [
       "\tstep type\trequirements\tstatement\n",
       "0\tinstantiation\t1, 2\t|- Real proper_superset Integer\n",
       "\tA : Integer, B : Real\n",
       "1\tconjecture\t\t|- forall_{A, B | A proper_subset B} (B proper_superset A)\n",
       "2\tconjecture\t\t|- Integer proper_subset Real"
      ]
     },
     "execution_count": 75,
     "metadata": {},
     "output_type": "execute_result"
    }
   ],
   "source": [
    "reals_contain_integer_kt.proof()"
   ]
  },
  {
   "cell_type": "markdown",
   "metadata": {},
   "source": [
    "<div style=\"width: 90%; border: 5px solid green; padding: 10px; margin: 0px;\"><a id='demo07'></a><font size=4><b>7.</b> Deducing $\\{1, 3\\} \\subset \\{1, 2, 3, 4, 5\\}$</font></div><br/>\n",
    "<font size=3>For a variety of finite enumerated sets, represented by the <span style=\"font-family:courier;\">Set</span> class in the <span style=\"font-family:courier;\">set_theory/enumeration</span> theory, membership and containment claims can be proven with just a little effort. For example, we can define two enumerated Sets as shown below:\n",
    "</font>"
   ]
  },
  {
   "cell_type": "code",
   "execution_count": 76,
   "metadata": {},
   "outputs": [
    {
     "data": {
      "text/html": [
       "<strong id=\"set_13\">set_13:</strong> <a class=\"ProveItLink\" href=\"../__pv_it/demonstrations/583bab243b91edf95291b6b1e221b502ce15d4230/expr.ipynb\"><img src=\"data:image/png;base64,iVBORw0KGgoAAAANSUhEUgAAADAAAAAVBAMAAADyTXAxAAAAMFBMVEX///+IiIi6urrc3NxERETM\n",
       "zMwQEBCqqqpUVFQiIiJ2dnYyMjLu7u5mZmaYmJgAAABN0h6tAAAAAXRSTlMAQObYZgAAANhJREFU\n",
       "KM9jYGDgu8eABmJlQCTPLgYMoBYAJPg+IAsxr1pSwMDAuwHI5JoAEig7AJGwZWD/BxUDETxd/VAJ\n",
       "+QKGn0gSDAzvoRJqCgy/sUowoBqFLHFyAVAsAcjg2IAiYTX3ANSlZQGoOhiTgMReBoaQyQyoEgxp\n",
       "QCbHRKgv4RLGDAz+QB/uANnhgCzx/wBIAmwHqqtSGBjmH4C4CiIhf4CBB+gzhndo/riRv/cBw0yg\n",
       "Lqa7VxRQPAj2M9xlEIkEOJcBRQIRHwfhEuD4YIDH4ANEDCqAjcYa5wB8I0pFFMHetQAAAABJRU5E\n",
       "rkJggg==\n",
       "\" style=\"display:inline;vertical-align:middle;\" /></a><br>\n",
       "<strong id=\"set_12345\">set_12345:</strong> <a class=\"ProveItLink\" href=\"../__pv_it/demonstrations/38a11ebeae978542ea46343294f4662de69f56ac0/expr.ipynb\"><img src=\"data:image/png;base64,iVBORw0KGgoAAAANSUhEUgAAAGsAAAAVBAMAAACzuQ2OAAAAMFBMVEX///+IiIi6urrc3NxERETM\n",
       "zMwQEBCqqqpUVFQiIiJ2dnYyMjLu7u5mZmaYmJgAAABN0h6tAAAAAXRSTlMAQObYZgAAAa9JREFU\n",
       "OMudlL9Lw0AUx79p1dg2Cf0P7OQccFLwx+Ao2MG1IKKiINhJHBR0EVyq4KKgmEFEBaGjdNB0Uxcr\n",
       "6KQpujiqKAhWMd7l3uUHlEq94d0nL3xy7+4lAWBU0cxovbb5pJXQ3IhN8Gi8hnOaM5gVFD/ay8ts\n",
       "juZTO8dydxyT6yyoM3TjHMk3Qb1Qf6S2SfOsW2PxUGrnB9904x6YFNSRxycllSmC0rIZ1mBIbRpY\n",
       "Mz3qzOCLkn0nBEterKOd2VijzQVFWn9qbOzaBBeWmA1TaoXHWxb3ObYXo1qsRtCzQ34ZUhtCfwZ4\n",
       "4TiXjWqJJUnKGNXoa0ALqy1VAUY2ENWcoNxJbzk1G9L0dxZW0+zEoqspFYIuYNjr9yWkxvbDu5ri\n",
       "9bQPRLRFxEUDXJu0ecf5uPZSbUXo37S36Em2WlCENh46U2q3znZepJP0NIVpV/xIu4+OVwU98755\n",
       "xB+h8dbHK3gyQ33TV76qSGzzdrvup6CYc5MRhD23gC2+cu/BfaTd3lhAA1JtPye0UXlpoQElEdX8\n",
       "701LowGVA+1OfA10Zfj5evQQvH3i5VH/8S/5BR+sidboQXJrAAAAAElFTkSuQmCC\n",
       "\" style=\"display:inline;vertical-align:middle;\" /></a><br>"
      ],
      "text/plain": [
       "set_13: {1, 3}\n",
       "set_12345: {1, 2, 3, 4, 5}"
      ]
     },
     "execution_count": 76,
     "metadata": {},
     "output_type": "execute_result"
    }
   ],
   "source": [
    "set_13, set_12345 = Set(one, three), Set(one, two, three, four, five)"
   ]
  },
  {
   "cell_type": "markdown",
   "metadata": {},
   "source": [
    "<font size=3>and define the proper subset relationship between them:\n",
    "</font>"
   ]
  },
  {
   "cell_type": "code",
   "execution_count": 77,
   "metadata": {},
   "outputs": [
    {
     "data": {
      "text/html": [
       "<strong id=\"set_13_properSubset_set_12345\">set_13_properSubset_set_12345:</strong> <a class=\"ProveItLink\" href=\"../__pv_it/demonstrations/e2b7b1219092f44ad732af2b938779ad02370d670/expr.ipynb\"><img src=\"data:image/png;base64,iVBORw0KGgoAAAANSUhEUgAAALkAAAAVBAMAAADoXVL6AAAAMFBMVEX///+IiIi6urrc3NxERETM\n",
       "zMwQEBCqqqpUVFQiIiJ2dnYyMjLu7u5mZmaYmJgAAABN0h6tAAAAAXRSTlMAQObYZgAAAnZJREFU\n",
       "OMudlb9rFEEUx7+XM96P7Ib8AUKuSr1g4w+iFjaCkC2shEAQDQpCrhKLCNFCiEVOkYAHShYMEgPC\n",
       "dkogZg4sTptcQEFINpwglioKQn7gOr92981N7gi+Yvbdm/f93OzbNzMABrfRYePHYJud1tP6N5h4\n",
       "OCv21IhvhQ5K62l91+SaftJYfnmxCrihvXQjzYnO+1Sg31k/37JxHtsUbvkhHwo39cQoCn91zDQV\n",
       "usXUrybKv6hA2RP9nIp3+fgykTWX9vXEcBU7XenOg5qmbwGTVCAtd107K3c9SsdgQh+pYI/Qv9br\n",
       "9Xmy9h+afgOoeUQg7cwb7czI8QA6jMqcft5RmYS+xlDziUBacAj6+4DHJpT/GF3o3BYYEcjv7iX0\n",
       "uS+f+PhCuMXQoJ96xtIGcasZXaYRet8uFQhrIKFfxNkKz5Vt4Jtrz13hw6p0S+SryjRCL80YAlGY\n",
       "lA4c4W860AIuybcndExyQvGR8E5kQZVG6JEp4OX3Cd39zYfZIb0vU/pxYIzXQ+W9s7ZvSs+1TAHw\n",
       "IVGJIordMCDerniO0mMmknXdaWVkWka/g7xHBNxuR9GfDRk6GsLd13U3e+aqbAbdM+Whbj3THyDn\n",
       "EYEyvZtcvq5Q94yU5Th9XXTFd6PfX3fShxkcsXlOLr+aJYL1UP+TnMy38M0j/e7e39tG6alotOhj\n",
       "JaM37zGD/nlqtY06j63F8Q4RSA+L8ZycxOjSlrGbpE13LJTb5QvmSSCbg9mCaXtS0yeSn4FNJ5VJ\n",
       "08qwBYE9qejpwe1k37Dn+d6AJci8RqbYVOdloifNXbHvmvRuasMSZF47u5vUFi4c7l4t/Me9+g89\n",
       "Qt+fFEnMKgAAAABJRU5ErkJggg==\n",
       "\" style=\"display:inline;vertical-align:middle;\" /></a><br>"
      ],
      "text/plain": [
       "set_13_properSubset_set_12345: {1, 3} proper_subset {1, 2, 3, 4, 5}"
      ]
     },
     "execution_count": 77,
     "metadata": {},
     "output_type": "execute_result"
    }
   ],
   "source": [
    "set_13_properSubset_set_12345 = ProperSubset(set_13, set_12345)"
   ]
  },
  {
   "cell_type": "markdown",
   "metadata": {},
   "source": [
    "<font size=3>If we ask Prove-It to prove the proper subset relationship automatically, we run into some difficulty:\n",
    "</font>"
   ]
  },
  {
   "cell_type": "code",
   "execution_count": 78,
   "metadata": {},
   "outputs": [
    {
     "name": "stdout",
     "output_type": "stream",
     "text": [
      "Proof Failure: Unable to prove {1, 3} proper_subset {1, 2, 3, 4, 5}:\n",
      "Insufficient known transitive relations to sort the remaining items: {{1, 3}, {1, 2, 3, 4, 5}}\n"
     ]
    }
   ],
   "source": [
    "try:\n",
    "    set_13_properSubset_set_12345.prove()\n",
    "    assert False, \"Expecting a Proof Failure; should not make it to this point.\"\n",
    "except ProofFailure as e:\n",
    "    print(\"Proof Failure: {}\".format(e))"
   ]
  },
  {
   "cell_type": "markdown",
   "metadata": {},
   "source": [
    "<font size=3>But the enumerated Set class has some special machinery to help us out:\n",
    "</font>"
   ]
  },
  {
   "cell_type": "code",
   "execution_count": 79,
   "metadata": {},
   "outputs": [
    {
     "data": {
      "text/html": [
       "<span style=\"font-size:20px;\"> <a class=\"ProveItLink\" href=\"../__pv_it/demonstrations/a2b6f1a18e4491d085a2b422fb4069dcb021a0430/proof.ipynb\" style=\"text-decoration: none\">&nbsp;&#x22A2;&nbsp;&nbsp;</a><a class=\"ProveItLink\" href=\"../__pv_it/demonstrations/e2b7b1219092f44ad732af2b938779ad02370d670/expr.ipynb\"><img src=\"data:image/png;base64,iVBORw0KGgoAAAANSUhEUgAAALkAAAAVBAMAAADoXVL6AAAAMFBMVEX///+IiIi6urrc3NxERETM\n",
       "zMwQEBCqqqpUVFQiIiJ2dnYyMjLu7u5mZmaYmJgAAABN0h6tAAAAAXRSTlMAQObYZgAAAnZJREFU\n",
       "OMudlb9rFEEUx7+XM96P7Ib8AUKuSr1g4w+iFjaCkC2shEAQDQpCrhKLCNFCiEVOkYAHShYMEgPC\n",
       "dkogZg4sTptcQEFINpwglioKQn7gOr92981N7gi+Yvbdm/f93OzbNzMABrfRYePHYJud1tP6N5h4\n",
       "OCv21IhvhQ5K62l91+SaftJYfnmxCrihvXQjzYnO+1Sg31k/37JxHtsUbvkhHwo39cQoCn91zDQV\n",
       "usXUrybKv6hA2RP9nIp3+fgykTWX9vXEcBU7XenOg5qmbwGTVCAtd107K3c9SsdgQh+pYI/Qv9br\n",
       "9Xmy9h+afgOoeUQg7cwb7czI8QA6jMqcft5RmYS+xlDziUBacAj6+4DHJpT/GF3o3BYYEcjv7iX0\n",
       "uS+f+PhCuMXQoJ96xtIGcasZXaYRet8uFQhrIKFfxNkKz5Vt4Jtrz13hw6p0S+SryjRCL80YAlGY\n",
       "lA4c4W860AIuybcndExyQvGR8E5kQZVG6JEp4OX3Cd39zYfZIb0vU/pxYIzXQ+W9s7ZvSs+1TAHw\n",
       "IVGJIordMCDerniO0mMmknXdaWVkWka/g7xHBNxuR9GfDRk6GsLd13U3e+aqbAbdM+Whbj3THyDn\n",
       "EYEyvZtcvq5Q94yU5Th9XXTFd6PfX3fShxkcsXlOLr+aJYL1UP+TnMy38M0j/e7e39tG6alotOhj\n",
       "JaM37zGD/nlqtY06j63F8Q4RSA+L8ZycxOjSlrGbpE13LJTb5QvmSSCbg9mCaXtS0yeSn4FNJ5VJ\n",
       "08qwBYE9qejpwe1k37Dn+d6AJci8RqbYVOdloifNXbHvmvRuasMSZF47u5vUFi4c7l4t/Me9+g89\n",
       "Qt+fFEnMKgAAAABJRU5ErkJggg==\n",
       "\" style=\"display:inline;vertical-align:middle;\" /></a></span>"
      ],
      "text/plain": [
       "|- {1, 3} proper_subset {1, 2, 3, 4, 5}"
      ]
     },
     "execution_count": 79,
     "metadata": {},
     "output_type": "execute_result"
    }
   ],
   "source": [
    "set_12345.deduce_enum_proper_subset(subset=set_13)"
   ]
  },
  {
   "cell_type": "markdown",
   "metadata": {},
   "source": [
    "<font size=3>And a membership claim such as $2\\in\\{1, 2, 3, 4, 5\\}$ can be proven automatically:\n",
    "</font>"
   ]
  },
  {
   "cell_type": "code",
   "execution_count": 80,
   "metadata": {},
   "outputs": [
    {
     "data": {
      "text/html": [
       "<span style=\"font-size:20px;\"> <a class=\"ProveItLink\" href=\"../__pv_it/demonstrations/44104d8af855a46280168f7f3eef6a9462d924930/proof.ipynb\" style=\"text-decoration: none\">&nbsp;&#x22A2;&nbsp;&nbsp;</a><a class=\"ProveItLink\" href=\"../__pv_it/demonstrations/556eb1c098b3e48db8ffaca7130e1c7ef85d918d0/expr.ipynb\"><img src=\"data:image/png;base64,iVBORw0KGgoAAAANSUhEUgAAAI8AAAAVBAMAAACNsKCFAAAAMFBMVEX///+YmJiqqqqIiIgyMjLc\n",
       "3NwiIiIQEBC6urp2dnZUVFTMzMxERERmZmbu7u4AAADrYmUNAAAAAXRSTlMAQObYZgAAAhVJREFU\n",
       "OMudlD9II0EUxr8kGk10k4CFjaCdIJzaXXesYKOFro0gKIYDA2dxXqXHKXd2YiGkyqGcoAhams5G\n",
       "QSzEQiQhdseGBauzUcQ/Z5P45u9ms2uhDzL5dvLNL2/emx0gIEJFvCVaSk7wD4khvC2aF9kq+zxf\n",
       "n9CtB6sNE+snevZIfg84R13AJalrxP7XgWJpGsI/5ZM2NBbQl1KeWfn9q/pMY44+ZWAhAHS9UZFP\n",
       "2hC5QzItJyM/pBjasSRoHti3+FxHJmO6GYUUSBuavyNpysmxYSm2+MhAow72eQ0OP3m2pkHaQKG3\n",
       "lvWDKOZY9xIjCAYpA/N8Ue2wFGi77S+Nv0XzWLkQt/S6uOkFCQNVO1eWM1dQoAtMLwOdXEd5eq1u\n",
       "At15L0gYWHxcljvTIFpI+TcUmLL588EgBa/l4Qy8IFurJnEmwvkakPFAw24/dZLTMOlmtOLNSBrQ\n",
       "aKH1jqt/UCCqAjtlDSznD8xBf+aC4scekDQgWVGgHtt+KokUTRgVUaOWLCLMZ/S/0jVlQNMxopou\n",
       "D6RBFTRF18bXN3f53GcvKEJrbkxlYCqUonOUuBeeJXBFr027JQ9ktfoo3qkzpwZk7N0XEf2qDFyt\n",
       "2WdAhrv+VLeFmtoouwdSxupp7SvCoxc+FXb8qg7kbu2bUln4VAx+9RpI30cJ3QBXXcGv+H0UFOqG\n",
       "DLlsrVIBiu6F4Ai/485+AaCGnXrUYaUgAAAAAElFTkSuQmCC\n",
       "\" style=\"display:inline;vertical-align:middle;\" /></a></span>"
      ],
      "text/plain": [
       "|- 2 in {1, 2, 3, 4, 5}"
      ]
     },
     "execution_count": 80,
     "metadata": {},
     "output_type": "execute_result"
    }
   ],
   "source": [
    "InSet(two, set_12345).prove()"
   ]
  },
  {
   "cell_type": "markdown",
   "metadata": {},
   "source": [
    "<font size=3>Enumerated Sets and related axioms, theorems, conjectures, and methods are discussed in much more detail in the set_theory/enumeration theory and the [enumeration demonstrations page](../enumeration/\\_demonstrations\\_.ipynb) page.\n",
    "</font>"
   ]
  },
  {
   "cell_type": "markdown",
   "metadata": {},
   "source": [
    "<div style=\"width: 90%; border: 5px solid green; padding: 10px; margin: 0px;\"><a id='demo08'></a><font size=4><b>8.</b> Manually Proving $\\{1, 3, 5\\} \\subseteq \\{1, 2, 3, 4, 5\\}$</font></div><br/>\n",
    "<font size=3><p>Although the enumerated <span style=\"font-family:courier;\">Set</span> class has machinery to make subset deductions fairly easy (as seen above in <a href=\"#demo07\">Demo 7</a>), it can be a useful exercise to consider a more manual approach. So let's consider a possible alternative effort to prove that $\\{1, 3, 5\\} \\subseteq \\{1, 2, 3, 4, 5\\}$.</p></font>"
   ]
  },
  {
   "cell_type": "markdown",
   "metadata": {},
   "source": [
    "<font size=3>We begin by defining our enumerated Sets and the subset relationship:</font>"
   ]
  },
  {
   "cell_type": "code",
   "execution_count": 81,
   "metadata": {},
   "outputs": [
    {
     "data": {
      "text/html": [
       "<strong id=\"set_135\">set_135:</strong> <a class=\"ProveItLink\" href=\"../__pv_it/demonstrations/e9271ab2e96854fc5a1ad4bee80c039ec8501aa30/expr.ipynb\"><img src=\"data:image/png;base64,iVBORw0KGgoAAAANSUhEUgAAAEMAAAAVBAMAAADvM06qAAAAMFBMVEX///+IiIi6urrc3NxERETM\n",
       "zMwQEBCqqqpUVFQiIiJ2dnYyMjLu7u5mZmaYmJgAAABN0h6tAAAAAXRSTlMAQObYZgAAAStJREFU\n",
       "KM9jYGDgu8eAC7BePACieHYx4AZMqSCS7wOyGPOqJQUQ1r4DsUDWbRCTawKQYM+BKrFlYP8HYeX/\n",
       "/wUkV8KUnFjxB6pEvoDhJ4S1q9EAWQkDH0yJmgLDbwirAUxiUcIAtwiPkpMLIHTfw6tAchmIybEB\n",
       "RYnV3AMQhg+DvQIDw3sQsywA1RTGJBiLBWg+9wUGhpDJDKhKGNKgxjDwfgYSnQJAP6CYYszA4F8A\n",
       "tZ/rE9AUkKs5HJCV/D8AVcK2gYH3D9QtqD5KYWCYD7aIl4GBcwPUR2AljEAl50FeewcKFxCL+QLD\n",
       "MwOkcOFt+32PgXMOKGrvXlGAsGxX3EEJOjCoYcBkQZQkwLgLGDBZK1HSC48AAwYLkl4YYKmODy6O\n",
       "YDFBgpqdQNoFAGwDXLAf1OGbAAAAAElFTkSuQmCC\n",
       "\" style=\"display:inline;vertical-align:middle;\" /></a><br>\n",
       "<strong id=\"set_12345\">set_12345:</strong> <a class=\"ProveItLink\" href=\"../__pv_it/demonstrations/38a11ebeae978542ea46343294f4662de69f56ac0/expr.ipynb\"><img src=\"data:image/png;base64,iVBORw0KGgoAAAANSUhEUgAAAGsAAAAVBAMAAACzuQ2OAAAAMFBMVEX///+IiIi6urrc3NxERETM\n",
       "zMwQEBCqqqpUVFQiIiJ2dnYyMjLu7u5mZmaYmJgAAABN0h6tAAAAAXRSTlMAQObYZgAAAa9JREFU\n",
       "OMudlL9Lw0AUx79p1dg2Cf0P7OQccFLwx+Ao2MG1IKKiINhJHBR0EVyq4KKgmEFEBaGjdNB0Uxcr\n",
       "6KQpujiqKAhWMd7l3uUHlEq94d0nL3xy7+4lAWBU0cxovbb5pJXQ3IhN8Gi8hnOaM5gVFD/ay8ts\n",
       "juZTO8dydxyT6yyoM3TjHMk3Qb1Qf6S2SfOsW2PxUGrnB9904x6YFNSRxycllSmC0rIZ1mBIbRpY\n",
       "Mz3qzOCLkn0nBEterKOd2VijzQVFWn9qbOzaBBeWmA1TaoXHWxb3ObYXo1qsRtCzQ34ZUhtCfwZ4\n",
       "4TiXjWqJJUnKGNXoa0ALqy1VAUY2ENWcoNxJbzk1G9L0dxZW0+zEoqspFYIuYNjr9yWkxvbDu5ri\n",
       "9bQPRLRFxEUDXJu0ecf5uPZSbUXo37S36Em2WlCENh46U2q3znZepJP0NIVpV/xIu4+OVwU98755\n",
       "xB+h8dbHK3gyQ33TV76qSGzzdrvup6CYc5MRhD23gC2+cu/BfaTd3lhAA1JtPye0UXlpoQElEdX8\n",
       "701LowGVA+1OfA10Zfj5evQQvH3i5VH/8S/5BR+sidboQXJrAAAAAElFTkSuQmCC\n",
       "\" style=\"display:inline;vertical-align:middle;\" /></a><br>"
      ],
      "text/plain": [
       "set_135: {1, 3, 5}\n",
       "set_12345: {1, 2, 3, 4, 5}"
      ]
     },
     "execution_count": 81,
     "metadata": {},
     "output_type": "execute_result"
    }
   ],
   "source": [
    "set_135, set_12345 = Set(one, three, five), Set(one, two, three, four, five)"
   ]
  },
  {
   "cell_type": "code",
   "execution_count": 82,
   "metadata": {},
   "outputs": [
    {
     "data": {
      "text/html": [
       "<strong id=\"demo_08_subset\">demo_08_subset:</strong> <a class=\"ProveItLink\" href=\"../__pv_it/demonstrations/0611e0697f2e4b8c005f311cb231b3ec2ba96b870/expr.ipynb\"><img src=\"data:image/png;base64,iVBORw0KGgoAAAANSUhEUgAAAM0AAAAVBAMAAAAX/3cYAAAAMFBMVEX///+IiIi6urrc3NxERETM\n",
       "zMwQEBCqqqpUVFQiIiJ2dnYyMjLu7u5mZmaYmJgAAABN0h6tAAAAAXRSTlMAQObYZgAAApRJREFU\n",
       "SMedlk1oE0EYht80xk022VDwqphTzwte/CHqwUtBMAdPQqH4UxQFcxIPCtWDUMRWEcFFxQWLxIIY\n",
       "8KAUtFvwEL2YgiLYbtWLeJAqFYT+4HZmd3b+drOoA5l9s5sn73wz3zezAKqL6NmGtqbczAJSWmHO\n",
       "o5fKdNaPBhqJW9lASus7EY7up3wvPzXZjFT5e+EDYLWT4ShAxT/Q0FEyD+z60hsi9+apNK+TzjjD\n",
       "HtRh/InU5iBw2VPavjmOcwtJoANzWUeB2+x6Nlgl/aMY67TW2YPtTayweFpbIHz2POARqMACMKKj\n",
       "yJ1kYvqSLfugGmMDNaxFqigGT9pTKD4COAVM2BqKvc+ZGA37FB/w4BUfq9nLZ8bDREND4f6Fz2uX\n",
       "+SxtI7w5HH4poZcPafc9Da3asc/4l/ekfxj+X1vBdt9j1CYvv8yTa6fkowHoW9XRWcQ+B7GvBvyg\n",
       "8lxDxXJHuRwknxeheiX56EBpVEdd7kOGS6Ivd4HDN6FNw0g8DfhEFrh4Q5u3BODrqNGQfKxfpBvr\n",
       "ZxXPsR3AoWjNrwJPSMwRYfZrW4TwyXV19E1M0Smm1VWmERf3y1jgxT6nSTweL/5n0vooAC4ib6vo\n",
       "ed//PRfVehvWOlsfNX2O8/Qhw7zD8w2dy156vhVc5GwNBVidWmTG2yzfQixHsLc0j5ZoEYSqjuox\n",
       "ad85MqjsOxzYNfV4TEepZ4XWbL6Lr7ZUP9aVtUWU7tIk9d/VIpX/eM2TfNT6EcBMEKzoKCaDcTg0\n",
       "tnprQanTsF1AUvXw6Q1wZfCJZj7D8VcXSZXmkwlwZUL14cdJheeuUPH5YzoOPxcyAaFmhc98tHfH\n",
       "55c4yaRiqSXPxyxAqM9iY4q2CeNf3w+M/3g/2AC1B/BmYi1oJgAAAABJRU5ErkJggg==\n",
       "\" style=\"display:inline;vertical-align:middle;\" /></a><br>"
      ],
      "text/plain": [
       "demo_08_subset: {1, 3, 5} subseteq {1, 2, 3, 4, 5}"
      ]
     },
     "execution_count": 82,
     "metadata": {},
     "output_type": "execute_result"
    }
   ],
   "source": [
    "demo_08_subset = SubsetEq(set_135, set_12345)"
   ]
  },
  {
   "cell_type": "markdown",
   "metadata": {},
   "source": [
    "<font size=3>It turns out that Prove-It can automatically prove that subset relationship for us. WE can just call the following, which we've temporarily left commented-out for pedagogical purposes so its proof doesn't interfere with our looking at an alternative manual approach further below:</font>"
   ]
  },
  {
   "cell_type": "code",
   "execution_count": 83,
   "metadata": {},
   "outputs": [],
   "source": [
    "# demo_08_subset.prove()"
   ]
  },
  {
   "cell_type": "markdown",
   "metadata": {},
   "source": [
    "<font size=3>Instead of allowing the automation to do it for us, and instead of utilizing the direct <span style=\"font-family:courier\">Set.deduce_enum_subset_eq()</span> method, consider the <span style=\"font-family:courier\">subset_eq_def</span> axiom, which provides a definition of what it means to say that one set is a (non-strict) subset of another:</font>"
   ]
  },
  {
   "cell_type": "code",
   "execution_count": 84,
   "metadata": {},
   "outputs": [
    {
     "data": {
      "text/html": [
       "<span style=\"font-size:20px;\"> <a class=\"ProveItLink\" href=\"axioms.ipynb#subset_eq_def\" style=\"text-decoration: none\">&nbsp;&#x22A2;&nbsp;&nbsp;</a><a class=\"ProveItLink\" href=\"../__pv_it/axioms/7a59274882f4df50c95c1e6d7694eb9e867fca2c0/expr.ipynb\"><img src=\"data:image/png;base64,iVBORw0KGgoAAAANSUhEUgAAATUAAAAVBAMAAADV6mS1AAAAMFBMVEX///8QEBCIiIhmZma6urrM\n",
       "zMxUVFQiIiJERETc3Nzu7u6qqqp2dnaYmJgyMjIAAAAcRTyBAAAAAXRSTlMAQObYZgAABCZJREFU\n",
       "SMfNVk1oXFUU/jp/mf90ISjoYjCLhmCbgYAFqWTQRRUqGbtQF2IG20Ja0A40ZZSojFLIxB8yqzYI\n",
       "Nk+UpqZSCy6kbgxNxDapdaDgT39HtAsj2KG16R+lnnPufTNv3n1vFN144Lzz7s/73nfuOfeeC3SS\n",
       "WE1pJ0lUja51lzp/8kGnwaOkF0bF1Ll93mfeQa0kLxiDqZ0rAyN7gO3GyEJaxv2cipc9uzVehH1d\n",
       "ELPE3cs+KL9pJbmsu74vlUq71esq+sdgHodNbskj9ExbPqjpqne/wovXhRubKQ6dtyNIZZXy62X1\n",
       "p/0nWsPDtDBDWSQzBjcBnPKL2mmffo13TLixYe/ETQ/pqiolOTRYba6kLf3UdTGD+GqDmwRiyY/b\n",
       "q22tH0ulehveh4obmdTi7Ow+H5B9Wklq/Tk2QacXb1Lq3Euu/WpyOzc7+0nRb4O1DTzX58ZL54Qb\n",
       "mxuVyms+KD1agZD1lWR2l3N4BXh2B9l5k1t3pTI+54MaoCyJP7j9sWOyL5YNvGRWuLHZBkzIkHo+\n",
       "cXV+xM7V97QCH2NYsmqv4x/hlfO9Y/xygR/JP0Syilskj6gr45vtKHn5KX7IvMGNSNXAS9WFG5vH\n",
       "ZUvQ+58q6VcjaSfQmFYgh+ksWgeK8v8mJUWBXr4w1y2UNbbvxZydxZQXi/jOelKImniJonBj04WA\n",
       "hOujOzIjWEDilp59j1aEtwzsLLtjGiUXArd5f5ncUMRau3Vo/lEO3qB93K0ikhYqqvE0L3a9DS/c\n",
       "EAQ2yZr64eIu5VUGwbqbW4gQpdN5XnSTj4ErPty+hZ3xqXfe5+MnOZN1cAOuqMaUiefgFqs/I0uT\n",
       "UZ58lsc6yx1TikKXCvTv7cdRhBNhoyPfCprb/jC9JXs2b6OcEdkcLTtiivA1TdTEC6mYssHEVklK\n",
       "rJcZQ2t7C3DthRihpRvSdWCr5Tzehsv2XnCtW3QvrU5fpD4KHYRCsOjYC18GGpDDI5iBG8+xF/C5\n",
       "fHQW/TLjFLDGnj2vlc+46E3V9/y4XbN+Jt/uY6YbPLgl2NN8uoa4ritHAg09SodD6Ha0oe8QY82v\n",
       "bLzgnCCwQTdTj/9yclJW5F1g2j5gNyo9eHcZicnr2XYCL9/d8nBFZl7y4KbyqbuK8CuVylvA4Q3H\n",
       "7R1GwYq/2Nej7xcH9lguvHRenb15dokHgxamuQHaKENVs2Z1kHjRi9sZSSHkoTLkEcSuedesTeN2\n",
       "zdIyoxBmmh1PkZO12NuI3ULsAY9a30E8ar0uTo1TmMPXslYUwDt/V+u1tGq9zs8biE2+Hr4f31wd\n",
       "GMk1p000y4XNo1Rq3ZG0eNyR9IK+tOkhC1GO02QZU9dr7grhHYbWHan9Dut/t/SXCT9uWno53/7B\n",
       "3dLJfMF04Oi/uJOnzFVY81/u5D/xpX5UTJvU8H+SvwBVZVBM8dnIYQAAAABJRU5ErkJggg==\n",
       "\" style=\"display:inline;vertical-align:middle;\" /></a></span>"
      ],
      "text/plain": [
       "|- forall_{A, B} ((A subseteq B) = [forall_{x in A} (x in B)])"
      ]
     },
     "execution_count": 84,
     "metadata": {},
     "output_type": "execute_result"
    }
   ],
   "source": [
    "from proveit.logic.sets.inclusion  import subset_eq_def\n",
    "subset_eq_def"
   ]
  },
  {
   "cell_type": "markdown",
   "metadata": {},
   "source": [
    "<font size=3>We can instantiate the <span style=\"font-family:courier\">subset_eq_def</span> axiom for our particular case:</font>"
   ]
  },
  {
   "cell_type": "code",
   "execution_count": 85,
   "metadata": {},
   "outputs": [
    {
     "data": {
      "text/html": [
       "<strong id=\"subset_eq_def_specialized\">subset_eq_def_specialized:</strong> <span style=\"font-size:20px;\"> <a class=\"ProveItLink\" href=\"../__pv_it/demonstrations/10439043b8030a2b8dfac402f7ee28058d39bc9a0/proof.ipynb\" style=\"text-decoration: none\">&nbsp;&#x22A2;&nbsp;&nbsp;</a><a class=\"ProveItLink\" href=\"../__pv_it/demonstrations/2cad9f3a866b10e0c94c9e44a2b0b3244833a0080/expr.ipynb\"><img src=\"data:image/png;base64,iVBORw0KGgoAAAANSUhEUgAAAgkAAAAZBAMAAABJBaB5AAAAMFBMVEX////MzMxUVFR2dna6uroQ\n",
       "EBCqqqqIiIgiIiJmZmYyMjJERETu7u6YmJjc3NwAAACgK8IjAAAAAXRSTlMAQObYZgAABiNJREFU\n",
       "WMPNWX1oHEUUf3eb3Fd2N0dL0RAx0SqNlbZHQk1CA0akkoKQVqqIlhgUoQlSQ0VKodTQgD1E7LWB\n",
       "1miCV1MQpZ9QSiU1LpESTAvNH4qYWlywYEKoqbQGqdFzZnbnc2evXrHGgdzO3c7b+f1+8+bN2xeA\n",
       "xW11WXeREUBbNrPYEHph8Ztd63e+nwwdEznkaH4tYqBrVbvuvgrWUEnDOS+sgo34TBTzibJNwd8m\n",
       "SnWi9WmAmPvvqGBrV8AcLvExmBeBhFW4gK4/Srd/ajjj9445VZ0AHwSfIBt8/eGpgClaf++S+iFy\n",
       "ECCZR93VOhXwDbhSCvwLele4LmkyMJIOhSTwWu2rcBxdm/Ct2BZf6hy87qv9UuEGvYvnqctms96z\n",
       "JQOzFh5vVU0B9niX8kIBOY6BF31Cp8Jj+HK0FBWOa38lM1BIMAbGzVBIAq8JTwUr538fq1/whsTn\n",
       "odJ31OEVLlfBHuYeLRkkHSjfqJpC/BnfF+p3U4xGj0aFWfzok6Xs/1yoCgwSDAI8GwpJ4IUhIRUS\n",
       "jKflP6FsM1TmvW4tX3hER9jWkkF5L0T/Uk3h2sfeNcpXytyoUSGFgpTRWYIKCSm8XM5m83wGCgme\n",
       "B1jjhkESeGFISIXpACnUqA9JKhyEEBVSCxD9VTWFTFAFOKJRwWq5eHG6lA0hDa7eJe0IxuGEA2vS\n",
       "YZBEXkeICjs1Kph9fmfVd/vR59pgOFdlSyyoppZLVbiyE8ExiBs0686IP0ZG+kpRASMe3371Dby9\n",
       "zKOgVwG1fU4YJJFXM1HhC9xdKZGymwb93jmYa6UHAsstggYA7RnVdBz8KSsc+yaN4FME7mek5agK\n",
       "DwCMSjSXorWrJr3GA5jJkvuvwD18zyDEZsbam8B+HuW7I5qXIZXdCIUk8poizN7GkXWTQurNVtqr\n",
       "QDBTBLApRLCAwZ6AaYZNCXAW/X2KO1t1vrABzLyUDqA4X/U+CbuTSTxpewEtwHJ2HyE2HGOhDAtQ\n",
       "wc1eTSvuWVsMEuO1laiwGWVRZ12FVDk9cCCJw15dj7wjAgbJnGoaSwtTfoSGR/eiTo1OhQTE6cY1\n",
       "XxmYhBjWpI08NkNc6Kn70Ec3M0GITajw1mQZ9iqiYfV7CoeBopAYrxqqgp8d0ifYLlTMUyfDp27K\n",
       "U7VRTSf5lDtBNf0K6JRo8+BsgnzTqmBMJljA33YRBBUQWEz2CVBVAKj0Dt1ZOTsVIMVz4ZBEXjVs\n",
       "R8CjIqnKBWpXnofkAksUU8JxJhlALAe/KKYvDwz8doj0XkC+4PhxoU2IC7VUBTu/BGu8f3u6jCAX\n",
       "VTiPqW3YMSiqQBDXeAdAOYcUPSmp0IX5h0ASebXx6Cgf/ydpyE8id82zM8J88OmQM2IpwG7FFDU/\n",
       "RUHM3qFnxJT2PWL0IbR0zspEawoUFeKf4M+rcFlUASGOOW8hC4ywJ+SMiGQg7oZBEnl50bGZkYqj\n",
       "wZfQTWsSnbDmLS/7/NblGXRknZxBUwO7r+FALzHgpqi9CKQ3A1YHzRf6tSp0oY8IHEPvI96iZpQd\n",
       "gVbehfPsNECI2zu/hGvcMbgKFBJMNzTXKWw4JJFXP1GhjZJKPnxrCBLvYg8cOA2QxVLP1A8K7xFK\n",
       "vsAMUoVCodcz4KawrrCK9Oz+RxyqwmGtCt4eR+Hq3pGRkZ7I58BVsOdJNnypFSIsp0C3xnaMD3kR\n",
       "dey0I6jAOZwoFH5X2TBIIq/DSgZN2mvsMHRk9w+qEGqg63kZdK9WBQuPilyP+Gkm94XzaftPdOmA\n",
       "OUfwBTmDfvKsmEHLkIqD8zLoXv42tZbdYXUDA4qpUNRA2wt9m/LanJE3wEizuICO8Vkn4Vpb7HPQ\n",
       "gjdB923fpjYGIBUHJ75NkbyNlQtMhnOcj/brC03ZLIsLRQ10PVJfmAivsox909gCcIaqMLNvBSzr\n",
       "jDTWu5HnwGjOiCoomWagvsAhFQdHeE0IVZYUFc1iQ3g9p2xzcMqiBrre+lY9fHmPxFFc8HwBN+9k\n",
       "jnlfum9XZYHhAKTi4AivUaHiBl2l1h277qDuaP2zihtVwS/QbQuooK+4QewO6o6Wq74h/V9q0GaH\n",
       "tJI+5eX/QQ160VpW8/+InzVrvbTzrkFoy9b+DbQxGuSFdEedAAAAAElFTkSuQmCC\n",
       "\" style=\"display:inline;vertical-align:middle;\" /></a></span><br>"
      ],
      "text/plain": [
       "subset_eq_def_specialized: |- ({1, 3, 5} subseteq {1, 2, 3, 4, 5}) = [forall_{x in {1, 3, 5}} (x in {1, 2, 3, 4, 5})]"
      ]
     },
     "execution_count": 85,
     "metadata": {},
     "output_type": "execute_result"
    }
   ],
   "source": [
    "subset_eq_def_specialized = subset_eq_def.instantiate(\n",
    "        {A:set_135, B:set_12345})"
   ]
  },
  {
   "cell_type": "markdown",
   "metadata": {},
   "source": [
    "<font size=3>If we can prove the rhs of that instantiated form, we can use the equality to conclude the lhs. To get there, we consider the <span style=\"font-family:courier;\">equivalence()</span> method for set membership, which unfolds a set membership claim into a disjunction of equalities, like this:</font>"
   ]
  },
  {
   "cell_type": "code",
   "execution_count": 86,
   "metadata": {},
   "outputs": [
    {
     "data": {
      "text/html": [
       "<strong id=\"InSmallerSetDef\">InSmallerSetDef:</strong> <span style=\"font-size:20px;\"> <a class=\"ProveItLink\" href=\"../__pv_it/demonstrations/57d372a316e4f212ac6e3f4458f09435a5f5506b0/proof.ipynb\" style=\"text-decoration: none\">&nbsp;&#x22A2;&nbsp;&nbsp;</a><a class=\"ProveItLink\" href=\"../__pv_it/demonstrations/248ffae659a870e02fa68eae4c8e7ce33a6266e60/expr.ipynb\"><img src=\"data:image/png;base64,iVBORw0KGgoAAAANSUhEUgAAAZgAAAAVBAMAAACJTOXUAAAAMFBMVEX////MzMxUVFR2dna6uroQ\n",
       "EBCqqqqIiIgiIiJmZmYyMjJERETu7u6YmJjc3NwAAACgK8IjAAAAAXRSTlMAQObYZgAABGpJREFU\n",
       "WMPNWE1oFEkUfvPj/Njdk0HwIEGisLKuBxkU/AcHRNSL60EvKstcBAXRQZEQCDogxB9EBwKCaHD8\n",
       "uSgiWRAJLMYmIko8mJu7qwkDevCfCBJFRmLVe1Xd1d1VHedmQXWqp+r73vuqXr2uCoChOANgLPN6\n",
       "4RcthTHdr/a1OMzGIsABze8fRDWUAz9nG0umqSOPIUbAE/3CTAaMLl9bodbsF4nzAPkGQLIZnYFB\n",
       "qqYSgehtw8vldwGWasg1BR1CYg64rR2TqnGxu8XbG8h8p9as6ekS9dqNKHGTqnamd0tIAt+LYLRd\n",
       "qMPBMRj1hyUkuaagQ0jMAE7dKGZkWUu8HavAV+HvsqNS6soI6D9RNYW4EJLkDjpVMNrOTkFHDVJ8\n",
       "BCzkj2dgJiaHODED5AKCn5882fBXxpFiNpbhm4gUv/dhhPisqNq4bUlIYgF75Fz+0E92ejt0NMDe\n",
       "xttz+OMMmInJIU7MAK/Vns7eQJh5YsALM0XM7HI4PGpUzWIIwoNrC2+8Nu4uFmZwXQZXug5mYnII\n",
       "ia9DD3s+OvTqMF9U+xaYxDwuCex4D4uSFJ+1VDhIsnWqdvfSTSu1Ygiyj9Vh3lBtBzf7cfZYjZPI\n",
       "EFZTkOsGC4fqCLjHoCXnRK4RzDbJRkDMy1MuNSy38FnkOgcDcs1NXm5g3xjVB/Bv9XSoj7gIkmOh\n",
       "hqlJtZ3CsTdRbWHVJfb8H3FsUjsluTdYNUoONRDQx3jcVCvNdVi+4D3F4Mpkt3vNIVY5Tya88LkK\n",
       "1XWw3t2qXRmCZKuQxHhTbQfLEda/F1vdAL9JcsPgIUG8F5iTNliUw+dyvTh5nWchKAZ2uLJ1mdEl\n",
       "T7DZnQxnyTJVF/4x7BmC2DWRd1XbISqWyLsovkVC58SGwcwhJO4CnPEOCsR3wW+8L+YjwH36ai4B\n",
       "WM9or0KMGIAvsWLgPKyQYjzbaiJpgjUlxeQrqYok1w0mh4SYPv5LV5G8UfbVoCpm2pVidrKJcGnP\n",
       "pGv+vriqhhkkPhFM6SMugsBboL+qbbFneNruaKGYzaSskfNi2BusEJNDSLyZb8KMewyyPIryVUM2\n",
       "2wVwjsKMbdDTIps54SOATAD7s5PQq10ZAbHmkyHVtrrCg5BryQQAfz/zyHWDySGRAFgC/LNyX5zi\n",
       "+oJisozyKR82zr8z2HoDzl+iN18KnxrqWNNT1mT0BMm5JCSxmDwK2FZ0j+F3pp/e5pzxyHWDySEk\n",
       "7ueLOdL9aICMj9xxFTH5Rd8GIMe50hculqlV6P/DlR/NYvjLXcNq/97bMx7WglwehLJ10LZStly4\n",
       "w55XxHml7pHrBpNDSHwldKTYMKQeZ7Dsh2gLex+3dZwRqYnKe5HLmzFjbeFBwfXJY4kZwHTQ3CZb\n",
       "fjCVgmLaOmhSCUEMtoWNapQ8lpgDhuPvM7bH6bfwPqO5AvBzhxUz2xHIcIx/oxryWOJR8wVJ3jQd\n",
       "X5/yFSpryWe6nFk/eTnTCp2ReNh8dc3M9D+AifavzRNtXJuddq7NEwT4AcloiJRAkE3qAAAAAElF\n",
       "TkSuQmCC\n",
       "\" style=\"display:inline;vertical-align:middle;\" /></a></span><br>"
      ],
      "text/plain": [
       "InSmallerSetDef: |- (x in {1, 3, 5}) = ((x = 1) or (x = 3) or (x = 5))"
      ]
     },
     "execution_count": 86,
     "metadata": {},
     "output_type": "execute_result"
    }
   ],
   "source": [
    "InSmallerSetDef = InSet(x, set_135).equivalence()"
   ]
  },
  {
   "cell_type": "code",
   "execution_count": 87,
   "metadata": {},
   "outputs": [
    {
     "data": {
      "text/html": [
       "<strong id=\"InLargerSetDef\">InLargerSetDef:</strong> <span style=\"font-size:20px;\"> <a class=\"ProveItLink\" href=\"../__pv_it/demonstrations/e75a6528290690fbee29f313800e10841243a3cf0/proof.ipynb\" style=\"text-decoration: none\">&nbsp;&#x22A2;&nbsp;&nbsp;</a><a class=\"ProveItLink\" href=\"../__pv_it/demonstrations/8e87034fe94f34782f2806f5986bdc661d723c790/expr.ipynb\"><img src=\"data:image/png;base64,iVBORw0KGgoAAAANSUhEUgAAAnEAAAAVBAMAAADbWaVuAAAAMFBMVEX////MzMxUVFR2dna6uroQ\n",
       "EBCqqqqIiIgiIiJmZmYyMjJERETu7u6YmJjc3NwAAACgK8IjAAAAAXRSTlMAQObYZgAABdVJREFU\n",
       "WMPlmV+IVFUcx3/zZ+fvvdPgm0jsRoFroTsotdoGzotUEGWiUAY5BYKCyFDEsiDt0oOZiG0JLlOK\n",
       "09rLCun2lGDtXpRYWR/cl1iVdh2oh93oz5ZWEtZ0zu93zv17zpmZXjvwu/PbO7/5nO/93fN/ATTF\n",
       "Pg2dlNiYA/+3UphT3bXOdohJvsguBxVf/CRMXVKN9vRgOaiEtxtsAEdVtAAj/Jq6ya0E8li7VBTV\n",
       "bxqouO1slD4/c1azex8xL96IvoJJMl3ZEL6h1oMKIngNGEVGgq/pJKyOqtCAc9/GTiIY4eeVMYkR\n",
       "ft0ruuBlSNwlbxlSf8uYTA997mneYdfNvMJ6tLIGmapw/Cx6+F5i6Kr1oAKB94I1YBRJwTHvF+d1\n",
       "mXsnqkID7mo2SwjmZo9qM2c93CcydwpgF3nDFbgnY94SmTu7tiEyB/0R0E1himaE+ESV+w/xyzw2\n",
       "drUeUkB4L1gNFiIxOM6zYVf1YID0jqgKDTi38W3xkMwygezaF48c9bW52yJzLwH0Udy2Mvwl+8Qt\n",
       "kTn6wMx9HansuDBV4XhrO/dW8csxbMjqt00KCO8Fa8AkEoNjXFzG0YPZkDYeVaEBx0E+JLOlwAz5\n",
       "hRPorTJzFxzoK8rRVPbWRC6auVw5POSMkGkzB5/K3pHERrGkDiUFhHeDtWAUScG8jz5rAAOUxiMq\n",
       "dGDKHAczG2LuzBvfv4nNddYBZeZYeV+6V0vCWZSZWz//Abs+jj8Ld4n0KJk1uOHpfmXmtuCTspA8\n",
       "NoqAnkBhCgjvBmvBKJKC9zObMoHtxnhEhQ4cXxgqEpjZVyymZL+bqQcnung9mLnkHeF89564Z1Vl\n",
       "5r6EX9hbuI0y8GdPnuNlgrv5ObIrcKPKx4EEfnVu1MvcLXTZi1qDjl9PIJgrILwb7Af7KyWRFJxh\n",
       "PWnSBJ6B8YgKHTjvFO4SmNlhxnES95P4wr25eG8xmDk5j7L3sVO0Ssi59/KsyhzXkQo380yF7CnY\n",
       "6jyvbHP70B0EeASdgJ4AqcfFy2AtGEVScLoK8bIJXMLM7WsTDBcJzIxVYUGeUhbbzbPLvTXHIZi5\n",
       "mvfbXXTzNV/msv+wSy/rB7GV8DxeJnPgkmac66buJZccfj2BwhUIvAzWglEkBVsjYsmhAaeKmLnu\n",
       "dsFnGghmhi3oAer8BY+7Ldjm0nL8+hlgGpfCVklmjnVsvtrDv7SZA/jTmLlsJVGRD+jqCQ+YEi+D\n",
       "dWASKYJPwhMm8BXwZa4V+FGArWWZucP8TreYOLd749xkIHP7oUCtvOmIzKXW1c68jDq66pC9L8a5\n",
       "5Ig3Moz7eyvEfqU+TiNMj5e5Z+il1TMge6urxx+MCgjvBvvB/kpJpAj+AUZM4Ndrtd/Hwip04N2s\n",
       "zTkIZsYGzpQzDGnM0Rio59ZYCdKUuVd8s2wXPX+W1VQXc6sd3kTIGeJAegUOKdscjc3w+TzIGcLT\n",
       "41svoQKJF8E6MIkUwfkHqyYwKzsiKnRg1u6PujMEm45fqEyLHW6mEszcsAMWX/gubdrSC9e5kgW+\n",
       "VLpOmrom0SuMwjcNsZ7LlsJ7EZrBk3/kV6I77mH+FCfIX3WMPgN6vIIKXLwI1oFRpAyO9TomMCU6\n",
       "pEIHXgb7VQIzY8308uDMaYqxHnvOn7kP90zMwRFW8YVm8x5kODVZ+7hMHiSmf5tDb3njKXclXAwf\n",
       "oVDLttYeGloIK0Y8fCI2NmIkDejxrYS5AhcvgnVgFOkGTxjBAAPN9WEVOnDhxDqHwMyCm5LkQGD3\n",
       "hQOa27wPgMnbTJNTJ7svMfeRKFGNdpPkx8tgE9gN/rENcFhFS/BV/Y7fnSwSvpWPyet4xy/wodlO\n",
       "uzFX4U3gcLARHFbREtwvtyaG87kZ971UTR6ezylOmfhuJm943bPhG1OGllFXwNsONoAjKlqBEa45\n",
       "8HPPhN2BwQaTl9yprrDVyeZUeyeb6ucxgfON9sERFa3ACNccMqf+y/8hFjs+Tbc7OU1f7OQ0fbED\n",
       "sN3oEMzsX4svVtJodPzpAAAAAElFTkSuQmCC\n",
       "\" style=\"display:inline;vertical-align:middle;\" /></a></span><br>"
      ],
      "text/plain": [
       "InLargerSetDef: |- (x in {1, 2, 3, 4, 5}) = ((x = 1) or (x = 2) or (x = 3) or (x = 4) or (x = 5))"
      ]
     },
     "execution_count": 87,
     "metadata": {},
     "output_type": "execute_result"
    }
   ],
   "source": [
    "InLargerSetDef = InSet(x, set_12345).equivalence()"
   ]
  },
  {
   "cell_type": "markdown",
   "metadata": {},
   "source": [
    "<font size=3>We can show that the smaller disjunction $((x=1)\\lor (x=3)\\lor (x=5))$ logically implies the larger disjunction $((x=1)\\lor (x=2)\\lor (x=3)\\lor (x=4)\\lor (x=5))$, and thus that membership in $\\{1, 3, 5\\}$ implies membership in $\\{1, 2, 3, 4, 5\\}$. To get there, we proceed as follows:</font>"
   ]
  },
  {
   "cell_type": "code",
   "execution_count": 88,
   "metadata": {},
   "outputs": [
    {
     "data": {
      "text/html": [
       "<a class=\"ProveItLink\" href=\"../__pv_it/demonstrations/8cd73136b081cfd4a6ca692184b4f79fd141635c0/expr.ipynb\"><img src=\"data:image/png;base64,iVBORw0KGgoAAAANSUhEUgAAAO8AAAAUBAMAAACXC3dQAAAAMFBMVEX////MzMxUVFR2dna6uroQ\n",
       "EBCqqqqIiIgiIiJmZmYyMjJERETu7u6YmJjc3NwAAACgK8IjAAAAAXRSTlMAQObYZgAAAtBJREFU\n",
       "SMeVlk1oE1EQx//5aLLJfqT0KlIFxY9DCRWsitDetBf1kJOI5KggGhQJgaIBoUIppVAoCBajeGkP\n",
       "EkFEEOtSkUq95FYrVhb0oKIQQSJIoM6bt2tg897GLmR29u2837yZnXl5gNOA7rrcNfJDa5vywiO9\n",
       "wG+1rxEPw6y60u7ToafAUHhUDc5+iM1L8CNNBOfIT01oMX7u51meytSZxZUG1jpmcoYa3Le1lWew\n",
       "Pat8vzLcJjnCcQuYXRLqhtI23UKuigRb7BZiXQgNODt8Q4INTx2xLRy/5vXvImG4Qp1RmiYLyNVg\n",
       "nRH6gBDTQmjAcZYE/oIIx9mxIGfjnNOqrhoo1XgYfIwkx6oBS8cErtBt9ernayWV4wQjLtJvmXNK\n",
       "j1Z56MRImGbdInGUS4NMTI5VA45vVvoZ/IKm5e3bhqijY0viWuw4trm6DEo3l7NJcb3Cu9KUWBPb\n",
       "LvHKnCN3Sb7neZSUHaxowKbr/GLwJDHcRDvpqSJOcW7TJcQ550YROI5R91RXAq/T+wuslYE9rOjA\n",
       "wDMGF2hhMOvqbxxrciKrfq/0Ed7Fc1WTUPMNsvbGb0ItGLjnCXBBqLlSlGPM4/A/x8Dvrj72YLYC\n",
       "x5liohg4VoEPAqNjAjwpnga57/1P8aDjOCnL+BvkXaQasZ+s+99YtFquzY5PylXUDASpVoHPUsSu\n",
       "AFMNpNybSLuqiGVxwdwpFy6K61K6iYlQnusw2kFx4fE6guJSgakapxhMTXC6+LJ7908Lx5k867H9\n",
       "cjY1QbJlNsO7v93gPp6TTwPT8q4Bf4V9nsGUoJXy6kL4nySz988C9bnMFBb9LaoKa99EZTO8yPE7\n",
       "T0je9/dEf6vUgJ25Ay6DdVumX6Ly+u7fZyJsLX9bc/zc9gJr9nJ5hbeojQjbRKiAe4KXI4KohQbM\n",
       "iCjWwgO9wBEHAfM/DwJqP73AESeUj9s4+tjbOfoQ+C9pLd1Wy47PsgAAAABJRU5ErkJggg==\n",
       "\" style=\"display:inline;vertical-align:middle;\" /></a>"
      ],
      "text/plain": [
       "(x = 1) or (x = 3) or (x = 5)"
      ]
     },
     "metadata": {},
     "output_type": "display_data"
    },
    {
     "data": {
      "text/html": [
       "<a class=\"ProveItLink\" href=\"../__pv_it/demonstrations/c3d094a89ea9aa95b976b217aeb00f02b06034170/expr.ipynb\"><img src=\"data:image/png;base64,iVBORw0KGgoAAAANSUhEUgAAAaMAAAAUBAMAAADSA0++AAAAMFBMVEX////MzMxUVFR2dna6uroQ\n",
       "EBCqqqqIiIgiIiJmZmYyMjJERETu7u6YmJjc3NwAAACgK8IjAAAAAXRSTlMAQObYZgAAA45JREFU\n",
       "WMPFl09IFFEcx7/u7Lrb7uwfvEa0UZB20CUhMwL3Vl6qg0FF1HYICqKWQkSQXAgMRGxJEBYMLbrY\n",
       "IQ0iAkkHIxS77M2UtIE6WBRYiXUQtvd+b9aV2Tfj82AO7MxvZ77zee/3e7/3m/eASB5OR6Vpv+Mi\n",
       "vll258f/Bwvxe+fnqLXfkIv13FgMHns39VGp+HP9K2UwUJFVBgc/VvQL8XMH2FUDmCErRmwy5eJJ\n",
       "aCvQh0oyeiNoyrSRLG7lVcFAIK4Khq9QSJA4nJUHfn8dc0lLc3sfP83yk4N4ADgLNHDTwxsN02tz\n",
       "Uq1/FdGMKhhojauCETx8FyQOmA6wT8wl/Qy3qviph2ImF58D6ky8o2DGuczgZq9U621BdEgVjMg8\n",
       "46mB4aEzEy/BxSU8LQ60l8LoIB4xUBdDMFnMoGbqTcaJzBJPEQwtyDxRBAuXmLidZ1lb7YkGqUuN\n",
       "VJ9YqyEKIxdP3f5yJ13Ge2BAo85dZ79xyrCsA1i/pw5e5C4pgj0L7TESv2F/3uJDupvH5Bkd2ZJL\n",
       "82SysOwmg4n1RPh+gE/YY6QdttLpN0t0msYBliNUkUJ5OThydEAZrKe5Sy7gjeKQEVkhcRf7cxxN\n",
       "xinpKF0jsw04QAYTa4a25jUlhQmVlBD+NDyUKIGUAxitSVWwhuBWwHhN4hZmGRhzmEt7yZy2CikX\n",
       "6whJPgs5PoGXKbAZq0L7kg5g+C6qgq+QS8pgDJpc3EL2H1eXdqW0VLFlIFo+k3h6Wy2jH0fWW5aA\n",
       "IyZCq4pgPbHBpc3AOAQ0Jbm4iyrkTzHOIuXjJZdOim4MBVDMD9Yb+t5ZWfwEYuqynnpFJfoGceX5\n",
       "IQFH18glJXBlTW7wfNoNvLEXF9goGVzMy8MN/zI6pKMkZjFezKI4iyuNTvgN26olAb9pzWKE9ohg\n",
       "81ksAftGEVhTBTP5ennYDAyWKd0kZtXUuxpaLl82dnJ8n7CresSViU+nJsqWjUv1jdUsixLCv2rR\n",
       "L1ZNZeBwnr5LamCKgCIYXxG+RGKWAfrBjvYFO+vh5WH2zmNrrWGtV5h4sm3qkR02Uij8ZSKRNyjW\n",
       "9Ywc3Jx7CVUwtIlfeVVwpK/GoF44LoisKiPUVkK4iqet63fr2rsTYC52XDBSkGw1yFVs/5rP7QSY\n",
       "xOMuz2fsN1zE1hemdITMHQCT2G0LOK66U5M15LBT214wiV22yOGt7KcXt7Cf3jYwF/8DEex5gtQg\n",
       "FnkAAAAASUVORK5CYII=\n",
       "\" style=\"display:inline;vertical-align:middle;\" /></a>"
      ],
      "text/plain": [
       "(x = 1) or (x = 2) or (x = 3) or (x = 4) or (x = 5)"
      ]
     },
     "metadata": {},
     "output_type": "display_data"
    }
   ],
   "source": [
    "# notice we can grab the disjunction expressions from the equivalence expressions above:\n",
    "display(InSmallerSetDef.rhs)\n",
    "display(InLargerSetDef.rhs)"
   ]
  },
  {
   "cell_type": "markdown",
   "metadata": {},
   "source": [
    "<font size=3>We use the Or.conclude_via_some method to show that the smaller conjunction allows the derivation of the larger conjunction:</font>"
   ]
  },
  {
   "cell_type": "code",
   "execution_count": 89,
   "metadata": {},
   "outputs": [
    {
     "data": {
      "text/html": [
       "<strong id=\"small_disj_gives_larger_disj\">small_disj_gives_larger_disj:</strong> <span style=\"font-size:20px;\"><a class=\"ProveItLink\" href=\"../__pv_it/demonstrations/8cd73136b081cfd4a6ca692184b4f79fd141635c0/expr.ipynb\"><img src=\"data:image/png;base64,iVBORw0KGgoAAAANSUhEUgAAAO8AAAAUBAMAAACXC3dQAAAAMFBMVEX////MzMxUVFR2dna6uroQ\n",
       "EBCqqqqIiIgiIiJmZmYyMjJERETu7u6YmJjc3NwAAACgK8IjAAAAAXRSTlMAQObYZgAAAtBJREFU\n",
       "SMeVlk1oE1EQx//5aLLJfqT0KlIFxY9DCRWsitDetBf1kJOI5KggGhQJgaIBoUIppVAoCBajeGkP\n",
       "EkFEEOtSkUq95FYrVhb0oKIQQSJIoM6bt2tg897GLmR29u2837yZnXl5gNOA7rrcNfJDa5vywiO9\n",
       "wG+1rxEPw6y60u7ToafAUHhUDc5+iM1L8CNNBOfIT01oMX7u51meytSZxZUG1jpmcoYa3Le1lWew\n",
       "Pat8vzLcJjnCcQuYXRLqhtI23UKuigRb7BZiXQgNODt8Q4INTx2xLRy/5vXvImG4Qp1RmiYLyNVg\n",
       "nRH6gBDTQmjAcZYE/oIIx9mxIGfjnNOqrhoo1XgYfIwkx6oBS8cErtBt9ernayWV4wQjLtJvmXNK\n",
       "j1Z56MRImGbdInGUS4NMTI5VA45vVvoZ/IKm5e3bhqijY0viWuw4trm6DEo3l7NJcb3Cu9KUWBPb\n",
       "LvHKnCN3Sb7neZSUHaxowKbr/GLwJDHcRDvpqSJOcW7TJcQ550YROI5R91RXAq/T+wuslYE9rOjA\n",
       "wDMGF2hhMOvqbxxrciKrfq/0Ed7Fc1WTUPMNsvbGb0ItGLjnCXBBqLlSlGPM4/A/x8Dvrj72YLYC\n",
       "x5liohg4VoEPAqNjAjwpnga57/1P8aDjOCnL+BvkXaQasZ+s+99YtFquzY5PylXUDASpVoHPUsSu\n",
       "AFMNpNybSLuqiGVxwdwpFy6K61K6iYlQnusw2kFx4fE6guJSgakapxhMTXC6+LJ7908Lx5k867H9\n",
       "cjY1QbJlNsO7v93gPp6TTwPT8q4Bf4V9nsGUoJXy6kL4nySz988C9bnMFBb9LaoKa99EZTO8yPE7\n",
       "T0je9/dEf6vUgJ25Ay6DdVumX6Ly+u7fZyJsLX9bc/zc9gJr9nJ5hbeojQjbRKiAe4KXI4KohQbM\n",
       "iCjWwgO9wBEHAfM/DwJqP73AESeUj9s4+tjbOfoQ+C9pLd1Wy47PsgAAAABJRU5ErkJggg==\n",
       "\" style=\"display:inline;vertical-align:middle;\" /></a> <a class=\"ProveItLink\" href=\"../__pv_it/demonstrations/716e4021b397978648b2297c347c7229f9d1bdc90/proof.ipynb\" style=\"text-decoration: none\">&nbsp;&#x22A2;&nbsp;&nbsp;</a><a class=\"ProveItLink\" href=\"../__pv_it/demonstrations/c3d094a89ea9aa95b976b217aeb00f02b06034170/expr.ipynb\"><img src=\"data:image/png;base64,iVBORw0KGgoAAAANSUhEUgAAAaMAAAAUBAMAAADSA0++AAAAMFBMVEX////MzMxUVFR2dna6uroQ\n",
       "EBCqqqqIiIgiIiJmZmYyMjJERETu7u6YmJjc3NwAAACgK8IjAAAAAXRSTlMAQObYZgAAA45JREFU\n",
       "WMPFl09IFFEcx7/u7Lrb7uwfvEa0UZB20CUhMwL3Vl6qg0FF1HYICqKWQkSQXAgMRGxJEBYMLbrY\n",
       "IQ0iAkkHIxS77M2UtIE6WBRYiXUQtvd+b9aV2Tfj82AO7MxvZ77zee/3e7/3m/eASB5OR6Vpv+Mi\n",
       "vll258f/Bwvxe+fnqLXfkIv13FgMHns39VGp+HP9K2UwUJFVBgc/VvQL8XMH2FUDmCErRmwy5eJJ\n",
       "aCvQh0oyeiNoyrSRLG7lVcFAIK4Khq9QSJA4nJUHfn8dc0lLc3sfP83yk4N4ADgLNHDTwxsN02tz\n",
       "Uq1/FdGMKhhojauCETx8FyQOmA6wT8wl/Qy3qviph2ImF58D6ky8o2DGuczgZq9U621BdEgVjMg8\n",
       "46mB4aEzEy/BxSU8LQ60l8LoIB4xUBdDMFnMoGbqTcaJzBJPEQwtyDxRBAuXmLidZ1lb7YkGqUuN\n",
       "VJ9YqyEKIxdP3f5yJ13Ge2BAo85dZ79xyrCsA1i/pw5e5C4pgj0L7TESv2F/3uJDupvH5Bkd2ZJL\n",
       "82SysOwmg4n1RPh+gE/YY6QdttLpN0t0msYBliNUkUJ5OThydEAZrKe5Sy7gjeKQEVkhcRf7cxxN\n",
       "xinpKF0jsw04QAYTa4a25jUlhQmVlBD+NDyUKIGUAxitSVWwhuBWwHhN4hZmGRhzmEt7yZy2CikX\n",
       "6whJPgs5PoGXKbAZq0L7kg5g+C6qgq+QS8pgDJpc3EL2H1eXdqW0VLFlIFo+k3h6Wy2jH0fWW5aA\n",
       "IyZCq4pgPbHBpc3AOAQ0Jbm4iyrkTzHOIuXjJZdOim4MBVDMD9Yb+t5ZWfwEYuqynnpFJfoGceX5\n",
       "IQFH18glJXBlTW7wfNoNvLEXF9goGVzMy8MN/zI6pKMkZjFezKI4iyuNTvgN26olAb9pzWKE9ohg\n",
       "81ksAftGEVhTBTP5ennYDAyWKd0kZtXUuxpaLl82dnJ8n7CresSViU+nJsqWjUv1jdUsixLCv2rR\n",
       "L1ZNZeBwnr5LamCKgCIYXxG+RGKWAfrBjvYFO+vh5WH2zmNrrWGtV5h4sm3qkR02Uij8ZSKRNyjW\n",
       "9Ywc3Jx7CVUwtIlfeVVwpK/GoF44LoisKiPUVkK4iqet63fr2rsTYC52XDBSkGw1yFVs/5rP7QSY\n",
       "xOMuz2fsN1zE1hemdITMHQCT2G0LOK66U5M15LBT214wiV22yOGt7KcXt7Cf3jYwF/8DEex5gtQg\n",
       "FnkAAAAASUVORK5CYII=\n",
       "\" style=\"display:inline;vertical-align:middle;\" /></a></span><br>"
      ],
      "text/plain": [
       "small_disj_gives_larger_disj: {(x = 1) or (x = 3) or (x = 5)} |- (x = 1) or (x = 2) or (x = 3) or (x = 4) or (x = 5)"
      ]
     },
     "execution_count": 89,
     "metadata": {},
     "output_type": "execute_result"
    }
   ],
   "source": [
    "small_disj_gives_larger_disj = InLargerSetDef.rhs.conclude_via_some(\n",
    "        InSmallerSetDef.rhs, assumptions=[InSmallerSetDef.rhs])"
   ]
  },
  {
   "cell_type": "markdown",
   "metadata": {},
   "source": [
    "<font size=3>Then re-express that judgment as an implication:</font>"
   ]
  },
  {
   "cell_type": "code",
   "execution_count": 90,
   "metadata": {},
   "outputs": [
    {
     "data": {
      "text/html": [
       "<strong id=\"small_disj_implies_larger_disj\">small_disj_implies_larger_disj:</strong> <span style=\"font-size:20px;\"> <a class=\"ProveItLink\" href=\"../__pv_it/demonstrations/059cd2bb8aa3a5eee1ab1d34dcd564610f23d63c0/proof.ipynb\" style=\"text-decoration: none\">&nbsp;&#x22A2;&nbsp;&nbsp;</a><a class=\"ProveItLink\" href=\"../__pv_it/demonstrations/8e08bd1f4fc4737f1316f17376b546a6d297bf4d0/expr.ipynb\"><img src=\"data:image/png;base64,iVBORw0KGgoAAAANSUhEUgAAAtcAAAAUBAMAAAC0QwxdAAAAMFBMVEX////MzMxUVFR2dna6uroQ\n",
       "EBCqqqqIiIgiIiJmZmYyMjJERETu7u6YmJjc3NwAAACgK8IjAAAAAXRSTlMAQObYZgAABUpJREFU\n",
       "WMO1WV1oHFUYPclu9nd2E/omItlSpa1gElKwRoTmTfuifYigIjY+CC2ILoqEQLELgkopdTVQCLR0\n",
       "q0VoQBtBRKimQ6W0pC/7IrHF1gF9aEUx2hJ/CK73fvfO7szsvXfuDu7AN7s7e75zzn5z/+YuUG6C\n",
       "QnO80nXlVy0240WvGIg5uDvBT4pJtFbpm/1eiAlMCVdlaI7BqANnWYn7cdcXwFj0qob4E/eeWQKP\n",
       "qb6NcWSr4iyeH+mPfQzUrYkL3w8cJzAlfCpDdaufZxwNYqfPI5Stbo11vNrEKiJgDfH+1h0QeFX1\n",
       "rcERXnL9pJGOlBp8Eam7SezHEgO5ii0xhlqtCQLzKNVFqNxObrLzbmrfnK9U5W+vKbHZDQzXkKqG\n",
       "wRpifLSdOeNgkRA+DI6cbeOun7SVn9agVzkBPJ3Efiwx8EbFlhiFyTdlEVnkPBGqo8SLfYnuYIXf\n",
       "T5e/PaaEpmcw3ICzLwzWEVeocvsgE8Sx4jcbgyP84PpJW/jpKPQqzwDjXgL7scQoX6/Y1gWDdL4k\n",
       "4hZEaItdmPY71F4SqumGUtYPcQYhsI6Yik3gM52L98pXkyMqtkji3TZdN6icczE+ksB+LDFShYp1\n",
       "XUSxOZjFPHvL4/JrP71eVRU7RboH/aaXZR+dubHHd3d18bfYaQohsI74obX3JXgqPHz4STyUKlRs\n",
       "SsoweNEzqQDvuQnsxxPf5MW2JB68MT8iwCy+ZhdYOBOld3J8zH90iR9nO8Uu0UyQY12GptsiawDf\n",
       "4LvqEYTB5UfYGInrCIGDxCnCLpHFr/DbtABTQv5dOv4W9qSjtkowURRbqNT8zqCzj/Qdo/0gcdC+\n",
       "kjgAdqq82JZ1KbrluwLM4m12gUXKTW2mPVXLzlD/yFYxSP0mNws8hj3uk92zBvv+AEJgHTHzUBPg\n",
       "A8HFz8eQSRRKFSq2SJoD7odRhS0aktiPI06h0AsxvhRgFjPsEwsHxWX1mD2wTr2sJhdGQ4zaxXnV\n",
       "IoctFEcRAuuIWWP+V4BHgxdXZ2QShVKFii2Srsjll15lMZn9OOIXqdjWxDjlEZiF/9MwXDUVG8fx\n",
       "cJsU+LNrgvZQ3GjXzgdriAcbfAncVezyNi9YbIVKqNj52dSsSYWG0ST2Y4idiUCx44jxILBn2i+2\n",
       "32kxSktzOdx82Cl2WkyzP0O88u6Cgd8RAQ9vktsnEAIHieWgxxciQw3kNwWYEvLiqyUvNIz4KoFE\n",
       "WWyhUm7k0KUStH+Q19BgP0Acsq8k7oAzOxdPPVu1rAueYy3bJTALOR1l3MPIuqqWLSYCFO8Td5hP\n",
       "BC9n13Eo0gmXkdv0Z5g2WEOcZ94agQlSTmeN8ASpUAlNkPhsDSaVgQlkvUT2Y4gZvGJbF7DedaQ9\n",
       "Qcr111OzF7p3UrK82PkJYX2HkGQLmPRGcT26RVNq0kJ1ASGwhpg9HH/rCfBCYMSWv0k6UqkAh91O\n",
       "0pajMKnc2jW1I5n9GGK6N5bEuI3SCwLMQvbli3OXT0Zx+Qf+OcnW4qIbwV9O1eBsPzR/I6q/d/Fz\n",
       "dj6NEFhDjNuTJyT4dOfiVrSTeChVPth/ttlOKtSNKudarb+S2Y8hRurCH01b4vLCTle4YGF8OBZz\n",
       "szh+ka/HDFinFgYbiTnYCTx3eTaP60GVsmuhksT+/05M4CvGbR9xRB+Jrhmw0X0lI3GCjagEKn2z\n",
       "3wuxvxFFD5srhrvdiD6OGG53146pgVi/xbpikWir0jf7PRH7W6xxW/VFy01ytTnTfwDaml61SLRV\n",
       "6Zv9nog5mBJi/oS62cPfP6Ve/lfi4JJ6J78Zm2it0jf7vRATmMV/ncOaIhJSzL0AAAAASUVORK5C\n",
       "YII=\n",
       "\" style=\"display:inline;vertical-align:middle;\" /></a></span><br>"
      ],
      "text/plain": [
       "small_disj_implies_larger_disj: |- ((x = 1) or (x = 3) or (x = 5)) => ((x = 1) or (x = 2) or (x = 3) or (x = 4) or (x = 5))"
      ]
     },
     "execution_count": 90,
     "metadata": {},
     "output_type": "execute_result"
    }
   ],
   "source": [
    "small_disj_implies_larger_disj = small_disj_gives_larger_disj.as_implication(\n",
    "        hypothesis=InSmallerSetDef.rhs)"
   ]
  },
  {
   "cell_type": "markdown",
   "metadata": {},
   "source": [
    "<font size=3>Now we use our earlier equivalence definitions to back-substitute:</font>"
   ]
  },
  {
   "cell_type": "code",
   "execution_count": 91,
   "metadata": {},
   "outputs": [
    {
     "data": {
      "text/html": [
       "<strong id=\"small_membership_implies_larger_disj\">small_membership_implies_larger_disj:</strong> <span style=\"font-size:20px;\"> <a class=\"ProveItLink\" href=\"../__pv_it/demonstrations/e536f9ba47aa12890c033884f24d351f396151590/proof.ipynb\" style=\"text-decoration: none\">&nbsp;&#x22A2;&nbsp;&nbsp;</a><a class=\"ProveItLink\" href=\"../__pv_it/demonstrations/9b56f34f8b6dba6f505482b74c389452f8d456360/expr.ipynb\"><img src=\"data:image/png;base64,iVBORw0KGgoAAAANSUhEUgAAAk8AAAAVBAMAAACtYxflAAAAMFBMVEX////MzMxUVFR2dna6uroQ\n",
       "EBCqqqqIiIgiIiJmZmYyMjJERETu7u6YmJjc3NwAAACgK8IjAAAAAXRSTlMAQObYZgAABT9JREFU\n",
       "WMPlWF1oXEUUPpu72d3s3r1Z+iYiplSwtZAEi6ZRoXkppiD+QAQtouuDYKHoopQQCGZBSEMpdbFQ\n",
       "CVS6igjtQ60gGihNL5WS0L7sW5tgmwv6kIpC1BJ/CMSZc2bu3J+ZzaRQ8+DAuXeSPd8353x3/gFM\n",
       "ZaFl/OmBcfgfFk8vyLX+Npj9FYBcYGLzzBKnQW2c30n959f/nhidEXBd//tS7K8f93xLleIPmVMA\n",
       "XU1W7dXBrpsZsfTqAOniTl+sQEcyefeC1hmDsyQGyDSsiTFZ7oyA83q+vfzxli++TgPepQ/Uub7O\n",
       "uppT531OBztvZkQ2AlUw4hCQLlfAuQtuU7khoqjvxBicJTFAoceWmJLlztzKDaNQ7o4+IVR+Fbrr\n",
       "JPLjH4AQyqmlUZzNwEhsBNrOHzckQFNOA7wMMMCrHTyVMsIWtL4UnCUxwJEeW2KR7ABZISZmeWbq\n",
       "WKRHLQmhsiPQjV8BOvCJQrkvKtys/FxBkjE6mn0J2sYfxyVAU14B6AvgKn74Hu6GgZzQ+lJwlsTg\n",
       "LTI+O2KR7FWy5dj4/c6PDb2l8E859CJCwRcK+KB4L0OCMSkUgXhXzzbA7PyVD30VKA7JMXQAc6yb\n",
       "mHlwdsTgFJk+lsSULHdmNsaqc+/99D52wWs+GIRyPxTYW2Osxzr4+QbjQ46XMWHuaO+zA1qhEJRj\n",
       "7qVAAsLmY+UjHxxkPSR7bL5hIMbgLIlvc6EsiUWyDbRLzKe/fLTQTKxJj8WE8vaepkrJ9+4yXVZ4\n",
       "fZE/uqaw/E0/XxL2Pdys8THsnMPSUEIhCOqyE0abfwp9z4oB9QdrBoMqsJ6Oq1KppSem4OyI3RoX\n",
       "qg1x1Fkk20SbZI36zloWP4NaJXMvJYbekSFZm2GGPG9H9zFf4mtS2DOwz39e26MINArwiASo5hOL\n",
       "E+RwSORr0IGNF6oGYgzOjtiB4maIebLcmdkIUxlKpFDmIBcTazNBQqjO12TtDN9YHGWVh2Mb1BH+\n",
       "HBHmw0XDHEWgebFEx5qPlWkeBXZcty7W/s4hAzEGZ0f8JgplTcyT5c7MML9uGsme4s3GepQXQGlV\n",
       "jsh9jPZzSAjl7QiiQgH82VaorqpTlfmEzcfW/EYoFJyCJ8N8NMQiOCtitz8i1EbEIlkh1CSmXKFf\n",
       "Igv+7qhQ3WtSqINMZF/MUcMYGU0W54LY0IPMb9TT6cceJdQwJdcsQAiQzdPsgN+ATbQs/yytRj8D\n",
       "vfkI0RCL4KyIc7umz7xaa0ccjYKS5c7M2KSX8ycgj5J8AvpVr/MCFNawxj70MbnqLUb2Ms34ZH44\n",
       "vwLj2h4lQF/fCAGq+cg+pR/ygZhzofQQdQw+52qIRXB2xMw9nMw3IhbJismcraovVC+LU2GhGhdq\n",
       "wgf3H776t9hWBWt3oPy63EedjMxQIp5BsuxqaSV9KJ3wFWjb8RCgmldlec/gTtZb6WCe2UnsbI3W\n",
       "EWNwtsSoqyWxSJY7M2M99sro3Kfk4+5+LirUx2+cbcEUJzsw/Q1gzTu5y5dCfaYot4v3MJn76PjY\n",
       "rWSEyCZBxUYIUM1HNpzr638xJzEjyB1DXU+MwVkSg3P595YtMSXLnZnFt/rZp2NHGFz4/XSNjjCR\n",
       "/Wxgc4SBCMjzFcBY5sX7F/E+sRXE6DxvPjw+oXYemto9HIoFspYGGEtyp7ywFcTyUByeZ033UXOQ\n",
       "ruF9lPaaZdbMSJOZDmDqJM3EP0rBFhDLaxbTBVdR3nCqUa5q+4dMkWx0cTdre7+mC99wv3Z/ibkz\n",
       "AkxXpoc2uDMv38tVcHkzN7a3N3Fje9+I0ZnZv0b+MDKWs6SbAAAAAElFTkSuQmCC\n",
       "\" style=\"display:inline;vertical-align:middle;\" /></a></span><br>"
      ],
      "text/plain": [
       "small_membership_implies_larger_disj: |- (x in {1, 3, 5}) => ((x = 1) or (x = 2) or (x = 3) or (x = 4) or (x = 5))"
      ]
     },
     "execution_count": 91,
     "metadata": {},
     "output_type": "execute_result"
    }
   ],
   "source": [
    "small_membership_implies_larger_disj = InSmallerSetDef.sub_left_side_into(small_disj_implies_larger_disj)"
   ]
  },
  {
   "cell_type": "code",
   "execution_count": 92,
   "metadata": {},
   "outputs": [
    {
     "data": {
      "text/html": [
       "<span style=\"font-size:20px;\"> <a class=\"ProveItLink\" href=\"../__pv_it/demonstrations/a07c7c8e1b06f91207ed63d5b48048034622f3670/proof.ipynb\" style=\"text-decoration: none\">&nbsp;&#x22A2;&nbsp;&nbsp;</a><a class=\"ProveItLink\" href=\"../__pv_it/demonstrations/9d4b205f6203df9f0901cf1362eefa92845648740/expr.ipynb\"><img src=\"data:image/png;base64,iVBORw0KGgoAAAANSUhEUgAAATsAAAAVBAMAAADLI1QGAAAAMFBMVEX////MzMxUVFR2dna6uroQ\n",
       "EBCqqqqIiIgiIiJmZmYyMjJERETu7u6YmJjc3NwAAACgK8IjAAAAAXRSTlMAQObYZgAAA8NJREFU\n",
       "SMedV1tIFFEY/vfqXmZnhZ6khwwfyqRaFMnwoX0RCgIV7CGL3B6CgigpJITQJUFNgjaFxDTcLgQK\n",
       "hUGUD5VDEJo95EtEkjpgD/lQ2QWp2NrO+c85szO7M7ujB3bON5f/m2/+2zkLYDXez1neKrkI6x15\n",
       "2EyGY1ARUDY3nI3kMa8rBvCqZnc2wmYy3I3kcIai1+YPLBnOlqseMxD44LgO4E8SuMvMzBbbq+GH\n",
       "/GOqamOaxxJsvq+UkGs3CHJSBzwwJ6yhhxPcx3ICzjK3eNJp4ghXnHrEzMwOm1QK+6KIVsD7Vzzi\n",
       "K2VzS/oHN5CIE0IJS0KpbDcnLFqDcJx5r7IDuDxXa66VLTa/Ap4GRJ0x+CUeaePy7mxTxffsIaIN\n",
       "KRSa7O3Tfe8SJ3Q3QTiJyIlHlCc1ZOyeCxfYYfPEwfmP5XAU/oiknefySjMGLwE+GSrmiWIIx5J2\n",
       "KoKrkwd3M4ab+WyLLZAC5zd+QwuuK5ArLxCFdjJNn/t4HiM1q4CFPKmLzc6FdlK1LnTc3tyg2mQD\n",
       "X4qDGVHSi0LeznfXyLEaJSfgGXl1JNTjw9jpinGHgVCuGWEgqMg/iZpViucxkXpx/Ga37bEB1HNV\n",
       "y5dFubQKeU/ha5SXeigJ3USk4kq5MWkmNHtvYxZhW1SgSfIbo+CkLpDeezjZZbskQFETjy0IecQF\n",
       "JHUCNBzeOJDbEgQZk6N5nAxEk2oWoeeoQKPklrOHgC2GxovvscnmzxT4IXbxuE6en9bNdpIfjlVA\n",
       "1jDrEfKEsW1rhLIKwTURJdqzbkOWPLlM5fIKs7EUpeMLwBT2ZSki5DmT4CLpg2dEXje+qJg9rmsV\n",
       "FXrCcErIaybeU3ju7cdPHWdDFcEtzAbeBBVGRlrh8rzlQ6OH8as8SfCneO654zSZvUonFKHpIJjX\n",
       "mmdC1BqJSp+o3HndGpnUSqMwG2wC6EBwBOCquOhh3vOTsk7yyiWlQbpDfWwKPrN6jxkJOxWQaN8M\n",
       "zZG+h2gFQsdE3xvQZR5/iS02uauqP45ogfa9N0nhAorI+vlW5Qb+CI3QiwvTN1nTlSoO6gn7W8bm\n",
       "oJe++cDQI0AkD5QrQt6tjLytfLbFFkin03FE7qHhKPiuYOlOfZ9DtFI5orXl4qxlyF1rWIYwLZRc\n",
       "xBa1eMZONV3UbLKdhlyEBjPWi3i1JgVM0Hq3BHnZIiZIbAm01dxqhzYNuQj3e6Ybqg2wSa25CPd7\n",
       "dENltYEMiC/JbH8zqC5qpWQDbCHIRW7aQIOq9fYbThX4rxFaz2Y+H5vlf41FgP8mj1HnYXTu5QAA\n",
       "AABJRU5ErkJggg==\n",
       "\" style=\"display:inline;vertical-align:middle;\" /></a></span>"
      ],
      "text/plain": [
       "|- (x in {1, 3, 5}) => (x in {1, 2, 3, 4, 5})"
      ]
     },
     "execution_count": 92,
     "metadata": {},
     "output_type": "execute_result"
    }
   ],
   "source": [
    "InLargerSetDef.sub_left_side_into(small_membership_implies_larger_disj)"
   ]
  },
  {
   "cell_type": "markdown",
   "metadata": {},
   "source": [
    "<font size=3>This gives Prove-It all it needs to prove the rhs of our earlier instantiated axiom, $\\forall_{x\\in\\{1, 3, 5\\} } (x\\in\\{1, 2, 3, 4, 5\\})$:</font>"
   ]
  },
  {
   "cell_type": "code",
   "execution_count": 93,
   "metadata": {},
   "outputs": [
    {
     "data": {
      "text/html": [
       "<strong id=\"subset_eq_def_specialized_r_h_s_kt\">subset_eq_def_specialized_r_h_s_kt:</strong> <span style=\"font-size:20px;\"> <a class=\"ProveItLink\" href=\"../__pv_it/demonstrations/4a94682f832afa1d8dbf714ec0c3a8b2a91b01d10/proof.ipynb\" style=\"text-decoration: none\">&nbsp;&#x22A2;&nbsp;&nbsp;</a><a class=\"ProveItLink\" href=\"../__pv_it/demonstrations/11593fb717dbfd3127bae6e11315d921cec441280/expr.ipynb\"><img src=\"data:image/png;base64,iVBORw0KGgoAAAANSUhEUgAAAQAAAAAXBAMAAAAW+IzCAAAAMFBMVEX///8QEBCIiIhmZma6urrM\n",
       "zMxUVFQiIiJERETc3Nzu7u6qqqp2dnaYmJgyMjIAAAAcRTyBAAAAAXRSTlMAQObYZgAAA9dJREFU\n",
       "SMe1llloU1kYx/9ZbpK7JBVGH1SQaECwioQpLowVqz6IIFgR1IeCO1gfJPgwxQUp6NBUHybMPEwF\n",
       "pZcZ6EMRLYiIIlgrKNSCVxRcQA24PAgzlGGmaAvG76y5N0mF63Ihud8538n5fufbcoBv9Tz0Qi3f\n",
       "2vzFls43nL04HHKbte2AXQLKbPA8xA+t7obTLwOjv1b+IqVzY2fUpJEX78wzYxUQY5Y7gXts6l0I\n",
       "gEyp4fRd9mXPkZC7cL+NS2YeN1VskrvEO1KpkLucAvMb0MdWdYeJNaYFGLgzKQYxF5EZXIpOoakg\n",
       "l8yXAJk7iyABnCwyLr2GQgAcCYyedHWVqx5IS4BIAYkPXIrPRJNYAPOFBEjwbw5gzUB6dHDwjxD2\n",
       "zYJ/tKM5EAIFkJlE4n+lUSFwMvUAeA28LxaPhwCIUiZZCzrXjfBYv0NDABZwJVpq96ca4HmOKsDh\n",
       "MboN7Ad6AyY6PBg8KZzcQZa7+897xmKtTdF5LuBx9gTfqpqQh2oANsuyNO/+JEGyCiDlmv/R2nEm\n",
       "vwDWwyoHfDwHRgt3z2qsZFGsTJAlXeVJypdR3Hc38q30r+xZNQA/a2m+qAcHCoCeHvq8YsJV2hFR\n",
       "VSfWjRYPNuHEOUArL+74FUpTWzNGaDsXRTHY8g89TGX0lIIAsbw2FhG1ecUPsIaWJw6TsJPIvKRO\n",
       "6WuD8AFAeKAdtQDAv2LQp3eM13ggp/xZQmqKH25YA1C0WJd4CwFglreRMLJsYXucU/sALLZr/Mec\n",
       "6wNgIYAhUzxSjdyBAICdx1kuNE1KAHtvy5ofsnxuHnnAlTmwgT69+yi33UPJtgxqAJayH5ht6W4f\n",
       "AEvC69Fx8PqLZaepgg5gkUDsrtZDRHqAznlCVQElIS6TNQN/UwMXRTIcDAEpP8CarQw5ecSnUuOm\n",
       "yJtjQYAo2bpErObxseUF6yND8qgPcInDMCV+R3q26gOtzEv8GNS4theLxaxxElWA/iHWVi0qmu2q\n",
       "DEhl7WnOyb+vgVOuDyC2++NqJI9SI6pUKgV0Md36llMQkvPrhMeUMFv3ugrgDYNkWmPckB1Ke4Ay\n",
       "oJ/OGSmZkz4P1LTiTT3+Vsyf67o03XpJK2UrVn213yk7cNpVDtgFmKfJ1AO3z3Vc8no1B6b7M7ql\n",
       "Jd0yHNRLw0EARyXRwKORUeCMBDBXTGSNuehY0oktQxhr9ZchUqXP3wcsnZh/ok6qKsV94GJNn6cc\n",
       "0LZs8RrSpfH5C0lGnS2tp7x6Ke27EbGG0ttgJ2XrmhiVagGmuZLh8hfcCdONvKnyzfMjJ8Le+L7m\n",
       "+a3+KMa972btE5iLDY4+RCJTAAAAAElFTkSuQmCC\n",
       "\" style=\"display:inline;vertical-align:middle;\" /></a></span><br>"
      ],
      "text/plain": [
       "subset_eq_def_specialized_r_h_s_kt: |- forall_{x in {1, 3, 5}} (x in {1, 2, 3, 4, 5})"
      ]
     },
     "execution_count": 93,
     "metadata": {},
     "output_type": "execute_result"
    }
   ],
   "source": [
    "subset_eq_def_specialized_r_h_s_kt = subset_eq_def_specialized.rhs.prove()"
   ]
  },
  {
   "cell_type": "markdown",
   "metadata": {},
   "source": [
    "<font size=3>And finally we can substitute in for that universally quantified expression our desired subset expression:</font>"
   ]
  },
  {
   "cell_type": "code",
   "execution_count": 94,
   "metadata": {},
   "outputs": [
    {
     "data": {
      "text/html": [
       "<span style=\"font-size:20px;\"> <a class=\"ProveItLink\" href=\"../__pv_it/demonstrations/31537814e64d3967dd7dcc342a9901fd960b4c530/proof.ipynb\" style=\"text-decoration: none\">&nbsp;&#x22A2;&nbsp;&nbsp;</a><a class=\"ProveItLink\" href=\"../__pv_it/demonstrations/0611e0697f2e4b8c005f311cb231b3ec2ba96b870/expr.ipynb\"><img src=\"data:image/png;base64,iVBORw0KGgoAAAANSUhEUgAAAM0AAAAVBAMAAAAX/3cYAAAAMFBMVEX///+IiIi6urrc3NxERETM\n",
       "zMwQEBCqqqpUVFQiIiJ2dnYyMjLu7u5mZmaYmJgAAABN0h6tAAAAAXRSTlMAQObYZgAAApRJREFU\n",
       "SMedlk1oE0EYht80xk022VDwqphTzwte/CHqwUtBMAdPQqH4UxQFcxIPCtWDUMRWEcFFxQWLxIIY\n",
       "8KAUtFvwEL2YgiLYbtWLeJAqFYT+4HZmd3b+drOoA5l9s5sn73wz3zezAKqL6NmGtqbczAJSWmHO\n",
       "o5fKdNaPBhqJW9lASus7EY7up3wvPzXZjFT5e+EDYLWT4ShAxT/Q0FEyD+z60hsi9+apNK+TzjjD\n",
       "HtRh/InU5iBw2VPavjmOcwtJoANzWUeB2+x6Nlgl/aMY67TW2YPtTayweFpbIHz2POARqMACMKKj\n",
       "yJ1kYvqSLfugGmMDNaxFqigGT9pTKD4COAVM2BqKvc+ZGA37FB/w4BUfq9nLZ8bDREND4f6Fz2uX\n",
       "+SxtI7w5HH4poZcPafc9Da3asc/4l/ekfxj+X1vBdt9j1CYvv8yTa6fkowHoW9XRWcQ+B7GvBvyg\n",
       "8lxDxXJHuRwknxeheiX56EBpVEdd7kOGS6Ivd4HDN6FNw0g8DfhEFrh4Q5u3BODrqNGQfKxfpBvr\n",
       "ZxXPsR3AoWjNrwJPSMwRYfZrW4TwyXV19E1M0Smm1VWmERf3y1jgxT6nSTweL/5n0vooAC4ib6vo\n",
       "ed//PRfVehvWOlsfNX2O8/Qhw7zD8w2dy156vhVc5GwNBVidWmTG2yzfQixHsLc0j5ZoEYSqjuox\n",
       "ad85MqjsOxzYNfV4TEepZ4XWbL6Lr7ZUP9aVtUWU7tIk9d/VIpX/eM2TfNT6EcBMEKzoKCaDcTg0\n",
       "tnprQanTsF1AUvXw6Q1wZfCJZj7D8VcXSZXmkwlwZUL14cdJheeuUPH5YzoOPxcyAaFmhc98tHfH\n",
       "55c4yaRiqSXPxyxAqM9iY4q2CeNf3w+M/3g/2AC1B/BmYi1oJgAAAABJRU5ErkJggg==\n",
       "\" style=\"display:inline;vertical-align:middle;\" /></a></span>"
      ],
      "text/plain": [
       "|- {1, 3, 5} subseteq {1, 2, 3, 4, 5}"
      ]
     },
     "execution_count": 94,
     "metadata": {},
     "output_type": "execute_result"
    }
   ],
   "source": [
    "subset_eq_def_specialized.sub_left_side_into(subset_eq_def_specialized_r_h_s_kt)"
   ]
  },
  {
   "cell_type": "markdown",
   "metadata": {},
   "source": [
    "<font size=3><i>Et voila!</i> Although a bit effortful, and although Prove-It can accomplish the same deduction automatically in this case, the exercise is useful in illustrating a number of typically steps and strategies, including an interplay between manual steps and automation, the instantiation of axioms and theorems, and the use of substitutions (in this case via <span style=\"font-family:courier;\">sub_left_side_into()</span>) between established judgments.</font>"
   ]
  },
  {
   "cell_type": "markdown",
   "metadata": {},
   "source": [
    "## Miscellaneous Testing\n",
    "<font size=3>The material below was developed to test various containment-related methods. Some of this material could be integrated into the `_demonstrations_` page eventually and/or deleted as development continues.</font>"
   ]
  },
  {
   "cell_type": "markdown",
   "metadata": {},
   "source": [
    "### Some Example `Sets` For Testing"
   ]
  },
  {
   "cell_type": "code",
   "execution_count": 95,
   "metadata": {},
   "outputs": [
    {
     "data": {
      "text/html": [
       "<strong id=\"set_123\">set_123:</strong> <a class=\"ProveItLink\" href=\"../__pv_it/demonstrations/60b69ec521a6f7ababdf9ad4a4a17c44ffd7f86c0/expr.ipynb\"><img src=\"data:image/png;base64,iVBORw0KGgoAAAANSUhEUgAAAEMAAAAVBAMAAADvM06qAAAAMFBMVEX///+IiIi6urrc3NxERETM\n",
       "zMwQEBCqqqpUVFQiIiJ2dnYyMjLu7u5mZmaYmJgAAABN0h6tAAAAAXRSTlMAQObYZgAAATBJREFU\n",
       "KM9jYGDgu8eAC7BePACieHYx4AZMqSCS7wOyGM9dlwAIy2qVO5C8DWJyTQAS7DlQJScYuD6BGcwX\n",
       "GOofMDCshCk5seIPVMkdBoY0MIPxOwP/BCQlDHwwJZkMDP0GYFckMfBvwKpk/wGGfqhjUC1CKAGC\n",
       "+QegLp8FJJaBWBwbUJUw/YLQzCuB7mJ4D2KWBaAq4WyAscQUGBi4LzAwhExmQFVyF85iA4VEpwAD\n",
       "gxqqKYwXoPYYMLB8B5oCMpPDAUVJLUgSCPj/gJW8x/QR6wIGRrASNgcGzj9QH4GVMAJ550Fes1y1\n",
       "thPM4nuAGi68bb/vMXDOAQXd//8/ISzdu04MyEEHBjUMmCyIkgQYdwEDJmslSnrhEWDAYEHSCwMs\n",
       "1fHBxREsYHyDADuBtAsAUu9bLZmwvqYAAAAASUVORK5CYII=\n",
       "\" style=\"display:inline;vertical-align:middle;\" /></a><br>\n",
       "<strong id=\"set_12345\">set_12345:</strong> <a class=\"ProveItLink\" href=\"../__pv_it/demonstrations/38a11ebeae978542ea46343294f4662de69f56ac0/expr.ipynb\"><img src=\"data:image/png;base64,iVBORw0KGgoAAAANSUhEUgAAAGsAAAAVBAMAAACzuQ2OAAAAMFBMVEX///+IiIi6urrc3NxERETM\n",
       "zMwQEBCqqqpUVFQiIiJ2dnYyMjLu7u5mZmaYmJgAAABN0h6tAAAAAXRSTlMAQObYZgAAAa9JREFU\n",
       "OMudlL9Lw0AUx79p1dg2Cf0P7OQccFLwx+Ao2MG1IKKiINhJHBR0EVyq4KKgmEFEBaGjdNB0Uxcr\n",
       "6KQpujiqKAhWMd7l3uUHlEq94d0nL3xy7+4lAWBU0cxovbb5pJXQ3IhN8Gi8hnOaM5gVFD/ay8ts\n",
       "juZTO8dydxyT6yyoM3TjHMk3Qb1Qf6S2SfOsW2PxUGrnB9904x6YFNSRxycllSmC0rIZ1mBIbRpY\n",
       "Mz3qzOCLkn0nBEterKOd2VijzQVFWn9qbOzaBBeWmA1TaoXHWxb3ObYXo1qsRtCzQ34ZUhtCfwZ4\n",
       "4TiXjWqJJUnKGNXoa0ALqy1VAUY2ENWcoNxJbzk1G9L0dxZW0+zEoqspFYIuYNjr9yWkxvbDu5ri\n",
       "9bQPRLRFxEUDXJu0ecf5uPZSbUXo37S36Em2WlCENh46U2q3znZepJP0NIVpV/xIu4+OVwU98755\n",
       "xB+h8dbHK3gyQ33TV76qSGzzdrvup6CYc5MRhD23gC2+cu/BfaTd3lhAA1JtPye0UXlpoQElEdX8\n",
       "701LowGVA+1OfA10Zfj5evQQvH3i5VH/8S/5BR+sidboQXJrAAAAAElFTkSuQmCC\n",
       "\" style=\"display:inline;vertical-align:middle;\" /></a><br>\n",
       "<strong id=\"set_1234567\">set_1234567:</strong> <a class=\"ProveItLink\" href=\"../__pv_it/demonstrations/649098a63d8b13854d5bc85423158efe4242dfd90/expr.ipynb\"><img src=\"data:image/png;base64,iVBORw0KGgoAAAANSUhEUgAAAJIAAAAVBAMAAABf4KrdAAAAMFBMVEX///+IiIi6urrc3NxERETM\n",
       "zMwQEBCqqqpUVFQiIiJ2dnYyMjLu7u5mZmaYmJgAAABN0h6tAAAAAXRSTlMAQObYZgAAAj1JREFU\n",
       "OMutlEFoE0EUhv8kbZLd7m5y6kEKzSnngiAoFHPwqDQHLx6KpZSCYGku9qQYDx5aqIl4EhS3oCCB\n",
       "Si6CFNpuL6XiIUEriBiNCF4ELXqxtrjuzHuzsysxlzqH2Z+XN1/mvflnADjvcdQxOSJmaw1HH8Vy\n",
       "MDl70ZDVOVMmlWo8rKjoYJu+G96kiq0co7wLy42GC7sZSLMuAgseJezA/E5qHJnfimRU6Tvv/+LI\n",
       "i4JcDHzzfb9KEDFZSzUmvQNmSY1WsK9Iw0xauzHGkXMYKEnxCshCkwI0ky4BNcouFnDAy1JfmFRV\n",
       "6OQPpVzgUU/SpocaN0pXZw79TRqY0q1N5nuSgvFAyecui0+KdOvjaxK5pysvQ6qACHK2GSclVVNP\n",
       "3eeYlVekszhdkKK1AUOd4hNlgIVynGSEJSSmuTgM6bLqRNqDfZn/R7poHTh/B3FSR3dgloJXIiSb\n",
       "Wp2rw2G3JGRN2dtsT01KsAlxHJiQBViuIgWNYLcZTTh8HoZ0wzPxcylGuoYUucD3mJRZ7nyYywuV\n",
       "bsI+JOZUuKdcVfUpfnaDLhJEmomcYpr2ZMvNyLRD2GyEi211dkQa9WAJI55srC6iJdK/Cj+1aGG6\n",
       "JFWqjc9jMg1L2K6Quu4i6qc38+td3A22sOn7+zDuCTd0dgukYE787Eo1/ji4TSIN5tubrE5UYiTy\n",
       "dHh+V9FH6TStiBQa30TkMv1b6bSIqsfep63wkcr3U2FaRNETE76ZXSUc9FPdHqooL1Hm/7zjfwDA\n",
       "OLhVTonENwAAAABJRU5ErkJggg==\n",
       "\" style=\"display:inline;vertical-align:middle;\" /></a><br>"
      ],
      "text/plain": [
       "set_123: {1, 2, 3}\n",
       "set_12345: {1, 2, 3, 4, 5}\n",
       "set_1234567: {1, 2, 3, 4, 5, 6, 7}"
      ]
     },
     "execution_count": 95,
     "metadata": {},
     "output_type": "execute_result"
    }
   ],
   "source": [
    "from proveit.numbers import one, two, three, four, five, six, seven\n",
    "# define some enumerated Sets for use in testing, containing literals\n",
    "set_123, set_12345, set_1234567 = (\n",
    "        Set(one, two , three),\n",
    "        Set(one, two , three, four, five),\n",
    "        Set(one, two , three, four, five, six, seven))"
   ]
  },
  {
   "cell_type": "code",
   "execution_count": 96,
   "metadata": {},
   "outputs": [
    {
     "data": {
      "text/html": [
       "<strong id=\"set_abc\">set_abc:</strong> <a class=\"ProveItLink\" href=\"../__pv_it/demonstrations/63bb772823822bdc10f0c79ef985a85895a2b2880/expr.ipynb\"><img src=\"data:image/png;base64,iVBORw0KGgoAAAANSUhEUgAAAEEAAAAVBAMAAADrxp6XAAAAMFBMVEX///+IiIi6urrc3NxERETM\n",
       "zMwQEBCqqqpUVFQiIiJ2dnYyMjLu7u5mZmaYmJgAAABN0h6tAAAAAXRSTlMAQObYZgAAAR9JREFU\n",
       "KM9jYGDgu8eAA7BePACieHYx4ARMqSCS7wOy2JFMFCW3QQTXBBSxvSi8lVhUfCekgukPIRVoJiJU\n",
       "2K4VA3uMgbtRtgCqVlCUgWEZiMWxAWh2MsN+iPj5PTyfwQzm6QzeDAzvQcyyAAaGYw8YrkBU1B9g\n",
       "+AhmcC5gaAcaeYGBIWQykHv/AMNEWADw/AIz7kNs7RRgYFADmpHCwPMVFhxMEP+mQJzVAHKHA0gb\n",
       "OzRk/zHwgv0LNek91C8834HuLQYLfQK5CaKUgR3qF5BvHRleNizg+Q3k9TH4MoAZNxh4riKFxwnB\n",
       "4EYFhplAx52VAhoBYnCte4gZpuwH0BlQFQnwEMdgQFQg0sdBDAYkfTDA09gDDAZTEsRW/OkUAEa5\n",
       "WAU8AAzjAAAAAElFTkSuQmCC\n",
       "\" style=\"display:inline;vertical-align:middle;\" /></a><br>\n",
       "<strong id=\"set_abcde\">set_abcde:</strong> <a class=\"ProveItLink\" href=\"../__pv_it/demonstrations/0c4b4f43b83c7c9f87345202592cc87ab173b5600/expr.ipynb\"><img src=\"data:image/png;base64,iVBORw0KGgoAAAANSUhEUgAAAGkAAAAVBAMAAAC3TN2zAAAAMFBMVEX///+IiIi6urrc3NxERETM\n",
       "zMwQEBCqqqpUVFQiIiJ2dnYyMjLu7u5mZmaYmJgAAABN0h6tAAAAAXRSTlMAQObYZgAAAY1JREFU\n",
       "OMuVVDFPwkAYfdIKBY5STBhJmEic6KgbEzODP8CYGBdDmJxMxNG4mLgY4wCLCQ6G0ZiY8AdIYTLB\n",
       "RPkBBtwcZPDu+1q4Jq2GG+7efe973/Xe3RWA/Y412uZ4oAbxjLVa4lD19pceE/WriPr1kTZ7U10m\n",
       "nJYdRdTPt7RJL0IVSghadfCPKpQQSvxL1Yty4CVaZUzGxxx7Krz6bLfQoNGYFL99q7olF7hX0OrL\n",
       "ruJm2UrxM/BcQrsts0+g4poLVm27RgeYK3giK4omcjUiUgvkHUK3sMgYxbFcHGHYYJf3ruU8t0Ca\n",
       "c2WC1wGHuCmOIrCahU81XsjUipQna/AawXFVaYlkzVcprsyH0uYUNViSluXP/OOa4oO85xUR4jg0\n",
       "Dzz0WrhMkQn5styHLwctuuLUhzq+h0plOvZNBp7ctDU1RwRybbl1BVbcRh9DVzsvcV7c2UL6TqLx\n",
       "IwjgYeZwZMmhNJtG3I3TeKAhVu0v5514oKFe+H0JJxZoiN8Xlm/ZjgcaShzwJVr/v/ELQQhyN2KQ\n",
       "K64AAAAASUVORK5CYII=\n",
       "\" style=\"display:inline;vertical-align:middle;\" /></a><br>"
      ],
      "text/plain": [
       "set_abc: {a, b, c}\n",
       "set_abcde: {a, b, c, d, e}"
      ]
     },
     "execution_count": 96,
     "metadata": {},
     "output_type": "execute_result"
    }
   ],
   "source": [
    "from proveit import a, b, c, d, e\n",
    "# define some enumerated Sets for use in testing, containing variables\n",
    "set_abc, set_abcde = (\n",
    "        Set(a, b, c),\n",
    "        Set(a, b, c, d, e))"
   ]
  },
  {
   "cell_type": "code",
   "execution_count": 97,
   "metadata": {},
   "outputs": [
    {
     "data": {
      "text/plain": [
       "(Integer, Natural, NaturalPos, Real)"
      ]
     },
     "execution_count": 97,
     "metadata": {},
     "output_type": "execute_result"
    }
   ],
   "source": [
    "# recall some other basic sets already defined:\n",
    "Integer, Natural, NaturalPos, Real"
   ]
  },
  {
   "cell_type": "markdown",
   "metadata": {},
   "source": [
    "### Testing the `ProperSubset` class methods\n",
    "<br/>\n",
    "<font size =3>The <span style=\"font-family=courier\">ProperSubset</span> class has the following class methods:<br/>\n",
    "    <div style=\"width: 50%; border: 1px solid green; padding: 5px; margin: 20px; background-color: gainsboro; font-family:courier\">derive_reversed(self, assumptions=USE_DEFAULTS)<br/>\n",
    "    derive_relaxed(self, assumptions=USE_DEFAULTS)<br/>\n",
    "    apply_transitivity(self, other, assumptions=USE_DEFAULTS)<br/>\n",
    "    deduce_in_bool(self, assumptions=USE_DEFAULTS)</div>\n",
    "</font>"
   ]
  },
  {
   "cell_type": "code",
   "execution_count": 98,
   "metadata": {},
   "outputs": [
    {
     "data": {
      "text/html": [
       "<strong id=\"set_123_properSubset_set_12345\">set_123_properSubset_set_12345:</strong> <a class=\"ProveItLink\" href=\"../__pv_it/demonstrations/700a5f1320384f27f70997aa30e8c2691f8ec0eb0/expr.ipynb\"><img src=\"data:image/png;base64,iVBORw0KGgoAAAANSUhEUgAAAM0AAAAVBAMAAAAX/3cYAAAAMFBMVEX///+IiIi6urrc3NxERETM\n",
       "zMwQEBCqqqpUVFQiIiJ2dnYyMjLu7u5mZmaYmJgAAABN0h6tAAAAAXRSTlMAQObYZgAAAltJREFU\n",
       "SMedlr1rFEEYxp+9M+7lchvyBwheZX1g4wdRCxtB8AorIRBEg4LgVWKhEC2ENIkiQg4UDwwSA8J2\n",
       "SkDdgMVpkwtolWxQEEsVBSEfuM7Huzsztztz6FvMPjdzv3l2Z953dgGMbsIaE/sKOl1AQQytRfxS\n",
       "W3b96UAz1+UGCqJ0UdzdD2OS+CTNXF5aaAFBmH8cJ0DrQNfX0QTrW+eyepc1/hUa6KL6U6px+H9o\n",
       "1Aw3IGOerleTbdY+S7Hu4i4NbABTUu1vYcvqYwdEeJdILN9q6D4YTbHLwFxD7kwdO5rPl3a7/QCD\n",
       "ARHHXpKYFm2Bz5sIc+nW6+t29Im5blZARGegD4vHEYl3HTY6KfV9WHz6AZEpjdRn9vNH1j7lshKa\n",
       "WGmbxJFHUZZcQUtN6wZ4rCD1OY3jdeA7l9eaJjY8nSrvPGteyU4tDwYAfNkyH2APe/qRHnBWrIiG\n",
       "xWrGKXZ/lXtcHVKdgwC2TU3NJ/jFmpkxqniFeT0SB4EzbLUk8bb/iLADwPuU4kvMq2uEP3HlhIHd\n",
       "RFmmaRJxjPZHXzc3wOJ6HP9eE117QwS7tD9m+gx14EnsgkgkyrfqmC3f+gEZVKcBu8OQ8k1gHsNW\n",
       "eR4dXno+I9U3o35e9PnYgNWQPGu8Zss9fG1o9RPc2dnE8ENedkmyJVUp/lBXPt3bke5jBYTCQjKL\n",
       "NgfGFzeMOhVxA3mVjZ47ZZw7ViBTfnZj5DOZ/uwgr4rOUSeQqSpMn+x1Usv2Winn+6cIUGpFEevy\n",
       "7E55NZNWLPX8+9EFKPVJHUzymPD/9fvA/4/vg79pmO8uDvKXhgAAAABJRU5ErkJggg==\n",
       "\" style=\"display:inline;vertical-align:middle;\" /></a><br>\n",
       "<strong id=\"set_12345_properSubset_set_1234567\">set_12345_properSubset_set_1234567:</strong> <a class=\"ProveItLink\" href=\"../__pv_it/demonstrations/45f2f2c2b61b9161e629b3212b4aacd3b070cf410/expr.ipynb\"><img src=\"data:image/png;base64,iVBORw0KGgoAAAANSUhEUgAAARsAAAAVBAMAAACEflfWAAAAMFBMVEX///+IiIi6urrc3NxERETM\n",
       "zMwQEBCqqqpUVFQiIiJ2dnYyMjLu7u5mZmaYmJgAAABN0h6tAAAAAXRSTlMAQObYZgAAA6hJREFU\n",
       "SMetVl1IVEEUPuu6P+79cSHooZDspaeiCz0VWEsUIRTtQ0+BIJX9UOG+JD0kbVCRhrpQD64FrSCi\n",
       "C9G+BCFk60tIEq5RKObaRtBLP4pSmm7d5s6cmfu3iqLDcu+358755pszc84MAKjTsJ7mG8uWsP4o\n",
       "wAYb8soD6/Qra3DbRlKw4cZ41VmrTc4fiTJ0IH1MWOvwPZitiwF8dFPN2P69fX8UXCS+HHtL333j\n",
       "aOrexsbydU6m08gbSpBH4Ar2GIbQHAXeHNwUC9CJ70Z9iTz73XKoqQlXUY7Ds2oXSUWcvf26jqEc\n",
       "qVYyFKi6ri8iiSFnuK+ITlMA5ynwLEBlAo2eiwgGbmkrypFbO1COkgV/vYtkK8qR+rag5QSUR5gD\n",
       "YY1b5IDK5VwC6NDoSp6BygwaD75AEDdDYTjVJpPJqGmaQTn+BATnwUHi/YZygmKvzHMUIr9oSTmv\n",
       "stCBm8eMc6qkHO+AZl8sLkcqQvAXOEhCklNOeb0lvDuhpBzSnvAt0MWjoHE57Z8/kGcvbgYNSssx\n",
       "vnE+QfJFyPlZxeZb+bz7nXCIcN5gxi6nbAkn3z+FliHgco7DoWqRRuOWyd13yNmbcpDIYS6nPOtl\n",
       "yTI6CBUxvlwFnp5NUbscngFk81XjWgk5hIzEUmIpmzDVBBoccjrBQRICSfBCLZMzCwpP6FG6yIT3\n",
       "1AOwy8kL5GedA1GLHMXYfy1hY+Imva9Ws8tRck6Sa1Y5n2h3knPqHFq206fBu8seHQ8yeTUoX6Do\n",
       "DXA5ZF2NqsSI5YizoJpyqsBBIqeEHLKurCpVZED9hx0f0ugYPYIRm5xmg8PQXuRyrufzv8fYTDOg\n",
       "FMXesSwW3LbJCeRgH9hIAm35T1fD1HaZRId2DNab0VkUpd2eWb4UeKgcf8RMD8AyqNAp8czqhpUy\n",
       "6zQAK3VWEj9Gh0T/ERuqCArmuu8v8MyicjzEadRIsf3ppy0UqQVSMuRl1v0cUERq/ldN1B0p5pCz\n",
       "I4vdutITCYqsJEQaHaEG1LMMtcLrGPsYWAJr3VHuLk9DxWOjDOr6H4b25A8DJOmEe/R2hmr6pswy\n",
       "KN/bbZMz0fiyQLtJ5AhKMAeTJHRysUB5vZNtWTZCaPIOfvResMlh7Qa4UCDrRuKQ8PXYD4mVHEy0\n",
       "6ggoR9Rq886SspwmLlTqCO1dzSEEaxqB8Yr7jhwGFxoCN1r1vlPKYQjWNALy8tugKuwmKpRA5Jh2\n",
       "NSm1ikMB1jQC8gY2467cvDl35f/GP0zdLHLZFQAAAABJRU5ErkJggg==\n",
       "\" style=\"display:inline;vertical-align:middle;\" /></a><br>"
      ],
      "text/plain": [
       "set_123_properSubset_set_12345: {1, 2, 3} proper_subset {1, 2, 3, 4, 5}\n",
       "set_12345_properSubset_set_1234567: {1, 2, 3, 4, 5} proper_subset {1, 2, 3, 4, 5, 6, 7}"
      ]
     },
     "execution_count": 98,
     "metadata": {},
     "output_type": "execute_result"
    }
   ],
   "source": [
    "# define a few proper subset relations for testing\n",
    "set_123_properSubset_set_12345, set_12345_properSubset_set_1234567 = (\n",
    "        ProperSubset(set_123, set_12345),\n",
    "        ProperSubset(set_12345, set_1234567))"
   ]
  },
  {
   "cell_type": "code",
   "execution_count": 99,
   "metadata": {},
   "outputs": [
    {
     "data": {
      "text/html": [
       "<strong id=\"set_abc_properSubset_set_abcde\">set_abc_properSubset_set_abcde:</strong> <a class=\"ProveItLink\" href=\"../__pv_it/demonstrations/16a0eebe1dc82b8eccfb8485ea1c6c8d472ece8b0/expr.ipynb\"><img src=\"data:image/png;base64,iVBORw0KGgoAAAANSUhEUgAAAMkAAAAVBAMAAAAeFNdiAAAAMFBMVEX///+IiIi6urrc3NxERETM\n",
       "zMwQEBCqqqpUVFQiIiJ2dnYyMjLu7u5mZmaYmJgAAABN0h6tAAAAAXRSTlMAQObYZgAAAmdJREFU\n",
       "SMeVVU1o1EAYfW7XZjed7GaFerKwpwVPzbEiQr0UvC3oSRCKP3iREhA8CW69iReLCF3xkCIIKyh7\n",
       "swhiBJFeynZBEBQ0By+CtL1Iwe7BzHyTZJLMZu0ckjcz7/uZb97MAKh9x7h25ZRmsICvaceHPv+x\n",
       "twWcVjs3VMjXtNINkdp+ysfSI7Vr9fNLKeLL/Jd2lN43/jHTtBmVkJ2cyJet7iqdnsYqRfiPKGm+\n",
       "bPP+hCgpQjL5s9vtPsFEvuq4KEpPm/jZ5+PW0tPt+Dt9lKmvw1s0ttn4Imc3Gm2Yy4QfZwKfe3XS\n",
       "1/EhfM0eSGlszDnACw4rXEYtZ4akww79gSPQGbfcjwRlKcXn/NI1vIeOL9TvlEc0edqZ8oA9Du+E\n",
       "GbAVWItiwhihbgv0FBU3WntVKQDnfwrwGVo++aJw7Ca226TCS7wY1ghVOzogAw80JDJf49+FJIjg\n",
       "//CxBi2ffHlku9L4zf8PbDre04sYtCP5z4uUpmltm+L7MXMdXAf7Ay2ffDVJ5B2i8F8lnA7TuSfl\n",
       "H/BEAZmh3Be1YiGf/YWxr+Uj5YuG9iLNDFw8NMQm1pthXaU53Ehjpp3SGDsINXAbGj5UX7xwttQY\n",
       "j1K2a+smBuGmVYLyjgBWh29ddDjepJV8Hr86HjtEls9B4utYH9uOcl7Y6uzCCVSfhWj4GgLg5a6d\n",
       "HMGt+74aZatxcbWJrp/lCw+xL8ztBpqzfzcH4snLF/I3jOGPN1QQRVmO+14O6G7LmG8WGCqol34v\n",
       "mJ0Fxe/LhwLDBNH7gvjtq+UAWs38VRjzgwLDBJWuUnmP+O4bR3/3/wFIr9CnZcSn1gAAAABJRU5E\n",
       "rkJggg==\n",
       "\" style=\"display:inline;vertical-align:middle;\" /></a><br>"
      ],
      "text/plain": [
       "set_abc_properSubset_set_abcde: {a, b, c} proper_subset {a, b, c, d, e}"
      ]
     },
     "execution_count": 99,
     "metadata": {},
     "output_type": "execute_result"
    }
   ],
   "source": [
    "# define a few proper subset relations for testing\n",
    "set_abc_properSubset_set_abcde =ProperSubset(set_abc, set_abcde)"
   ]
  },
  {
   "cell_type": "markdown",
   "metadata": {},
   "source": [
    "### `ProperSubset.derive_reversed()`"
   ]
  },
  {
   "cell_type": "code",
   "execution_count": 100,
   "metadata": {},
   "outputs": [
    {
     "data": {
      "text/html": [
       "<span style=\"font-size:20px;\"> <a class=\"ProveItLink\" href=\"../__pv_it/demonstrations/0285efc69e74558d2e07dbd1d68245af842f69e30/proof.ipynb\" style=\"text-decoration: none\">&nbsp;&#x22A2;&nbsp;&nbsp;</a><a class=\"ProveItLink\" href=\"../__pv_it/demonstrations/161c1a5f68b827426b84bc9576a3be37bcf7d13b0/expr.ipynb\"><img src=\"data:image/png;base64,iVBORw0KGgoAAAANSUhEUgAAAM0AAAAVBAMAAAAX/3cYAAAAMFBMVEX///+IiIi6urrc3NxERETM\n",
       "zMwQEBCqqqpUVFQiIiJ2dnYyMjLu7u5mZmaYmJgAAABN0h6tAAAAAXRSTlMAQObYZgAAArtJREFU\n",
       "SMetVk1oE0EUfpu/zc/upiB4EMQ99SYueFKoFlFEEczBk1AowRaFgj2JB4MRiliEdqEemqKYQwlt\n",
       "RMxRetCtp6qIKVQQzJZ48aYVRUub4Dq/OzvJmlBwDrvfvJ3vfW9m3ptZADA2YS8tvu6EWL82+xG0\n",
       "Fdhbi4x1296W+xKM70Gb5p7OURStLk5y6wh7v3BGkO1Tt6stqfdu4wxDx6tngRHSNnqoE+zDGqR/\n",
       "UDQE6h9OnGfv694uei536xATd6IV4ZlJY63D7Sb7inXWltqM0AAYp+jQJOwwo3KVgZU71r91fCe6\n",
       "A4lRStyGrB3QAYPrXAOYtQgaNKHFjCeeM1AUwUO8VCo9aAbnw50kbEj+pDuTh2wtVOelA7Nsg8S6\n",
       "lcN0yLo8sUJ0Mm1I/uJDpHUTOqg95nn7miWRYXGdmc8f0LMixkbtEB3UUhxqC5yQrMlDIrs8Vx4x\n",
       "wVXgOhfgpCknV4G+7nfoHGEhRpcbPBtv5DpCKXKk5Nmy+ToAMTSBTF3opOgKj3XozPtov0kJl+Y6\n",
       "hrjCyTiZkJoL6Oh4g6cH/H4Sb1D8nCU70UUkiQlGGJTno/AhRwEukkJ9A1wHLTGurkxRhBJzAhXv\n",
       "OznIt8+C2DYjJIelIQX8ETfPYTo3Xff3Oo2tBnpb3h+6bjAl6ah1HCVq2TbR2erOt3gZFKpzJZB5\n",
       "rE515Lcm5RscCMu3ywD7aGDDJPMqvo6Ceu9x4h2rPp2m6BuuH4Kwptaix8gXSzoP1FpAhzuJLlQ/\n",
       "2oRgNOX60e+2NiH1ENep5+1QFHE3TIpg0ZuBEp7b0FJDqtNX9xyh4zvJeJ5nU8Jh9xQE65S0W9AD\n",
       "qY58aJJz53xOMvUkpEd5V9whISjdcTjLrdKf4N8/ml8VYWhV0HrdPz0I/D41fHsYEvdyJN+tkyn3\n",
       "J6j/4/+g0Of/4C+Kg/L94tm2XAAAAABJRU5ErkJggg==\n",
       "\" style=\"display:inline;vertical-align:middle;\" /></a></span>"
      ],
      "text/plain": [
       "|- {1, 2, 3, 4, 5} proper_superset {1, 2, 3}"
      ]
     },
     "execution_count": 100,
     "metadata": {},
     "output_type": "execute_result"
    }
   ],
   "source": [
    "# if A is a proper subset of B, then B is a proper superset of A\n",
    "set_12345.deduce_enum_proper_subset(subset=set_123)\n",
    "set_123_properSubset_set_12345.derive_reversed()"
   ]
  },
  {
   "cell_type": "code",
   "execution_count": 101,
   "metadata": {},
   "outputs": [
    {
     "data": {
      "text/html": [
       "<span style=\"font-size:20px;\"><a class=\"ProveItLink\" href=\"../__pv_it/demonstrations/18f081e58cd34774ad10c60f967884fc64e1380e0/expr.ipynb\"><img src=\"data:image/png;base64,iVBORw0KGgoAAAANSUhEUgAAAGYAAAAVCAMAAACDt2s/AAAAQlBMVEX///9jY2MJCQkNDQ0rKysP\n",
       "Dw8WFhZUVFSYmJiIiIjc3NwyMjIiIiJ2dnbu7u66urqqqqpmZmYQEBBERETMzMwAAADVO6QiAAAA\n",
       "AXRSTlMAQObYZgAAAZ5JREFUSMelVu2WhSAIdD+VVBSx93/VtW7dULPu7vqjc8RRBhg0pYYjN3ND\n",
       "Rv12ZAK8gbhqhtarv4yQJN3MiRoiuo5lHp6EnNzYD9lqOsdmOVRTf3GSsjReqzeGGa9ydu2mpTje\n",
       "WM0Mu+8vZ19101EcbxRxZy7y4On1aC4jfS5O5CEfcaPF5XOBJkgVfasBqMmbB4BVYz7tkivE+Yhb\n",
       "L3EANG60FWhbyQ7nQgxnGf7kile2QqKYTC07Xgk22Y6b/Dc0V2srxVkSc0uT6SjKQSvIPZsvJ2vt\n",
       "50f5WFEtt3Hd0NB1Bs6ifanShF7giVfQs0umZe7joJk3dO7UE6SoE1eVe7KIItmpb5qFEqtT9JIu\n",
       "0wRQRfaoDa4sSoHjXkICFWigyx69uAl7zSrHhY5QGpfEGafVQcBFnUfyF+gisC3QciiTEhZa80RZ\n",
       "bMQi+jxpOK4w1O8BB24k2rkHCgn8g/5uUd4bA3e9a948O3d/2US8t1y4aS8a2cyV7QXL2A3yWYT9\n",
       "e4Nwb+nem2PA6WPcv549zJy9nmGUs3Nz/Me/wA8byRZzI7+IVgAAAABJRU5ErkJggg==\n",
       "\" style=\"display:inline;vertical-align:middle;\" /></a> <a class=\"ProveItLink\" href=\"../__pv_it/demonstrations/4b2246c179a5b4050d058cbbca523db292cc62bf0/proof.ipynb\" style=\"text-decoration: none\">&nbsp;&#x22A2;&nbsp;&nbsp;</a><a class=\"ProveItLink\" href=\"../__pv_it/demonstrations/e9d37f247043fed3c295d0d0a03649148c67aa100/expr.ipynb\"><img src=\"data:image/png;base64,iVBORw0KGgoAAAANSUhEUgAAAMkAAAAVBAMAAAAeFNdiAAAAMFBMVEX///+IiIi6urrc3NxERETM\n",
       "zMwQEBCqqqpUVFQiIiJ2dnYyMjLu7u5mZmaYmJgAAABN0h6tAAAAAXRSTlMAQObYZgAAAoJJREFU\n",
       "SMetVc9rE0EUfk023c1mkmyEXAqBngKeske99VRQKeTgHyDSIoKUnDxZmoJQpSAFBY142F4KaaHk\n",
       "WMTCKsWLhE0OolTQ7V1bfxwEDcXZmdmdmcykIeAedr9579vvvZl5bwYACp9hgifT9zXWb+EYPnoJ\n",
       "Ez2pJdX2zhvHL3wXbWh+U5PPfE8YfVIJp9Lo8LY0JHxbls31NPkUG8KgrfqHTAeqcyiKJBg/NX+i\n",
       "KL/HRqnpNretDjKtVutJqI2SGoyN0tbt4IGekd51dT/pFIktfdS/Q237pQ/Mu1WqU62jMlsCtFXB\n",
       "sttcIL3JhbhEbq3Clt0ulRnf6uBX1c3RUkN//YAmeLlhdAiougZbgotu2pMLaoV+NkQJCF6hXzSJ\n",
       "p3CN8e/ijNEy5OeIwxxA0SHoOVgko8hHw6Fb0K3LVZilPy2JErDqww/q9WCd8q8/xsP8ALJUGwsG\n",
       "pMXy8RZGPtp01nLpa/R96CRRrGjemSuuKIEbBP0h4AutpIhfxelNz0FQj9ulRqYwzRIjvlla5E1K\n",
       "afK5GH7c3lwC10qKbuQi51tYDqe/ytolZBkE8aEh+Dyl0emKwX2RBmdsIdiMTuMaCxqwYZJNL87i\n",
       "BWbhgEyK+6KFc6Qag5mkxjgNfsLbkIUDk/GjKIZTeGZDgDfZCo0eAfkm3uoIcN9UB7qu1BxmJ4nC\n",
       "afAIFnCtYvAR0HuhX9Ba+dIFyL7AqL8HBMDOiUMtiQ8qJ6HUgm8e+EkUgdadwbQWdtl7x5revzca\n",
       "CIifMFfrynGQ0Exf7v0bCcUbDQSkOYO2VZot8/n9gpyRQEDn3i+c9nqIn9yVhdFAQKmbapScp9DC\n",
       "Ib75H+79lfPv/X86JdFMcg0JrQAAAABJRU5ErkJggg==\n",
       "\" style=\"display:inline;vertical-align:middle;\" /></a></span>"
      ],
      "text/plain": [
       "{d not-in {a, b, c}} |- {a, b, c, d, e} proper_superset {a, b, c}"
      ]
     },
     "execution_count": 101,
     "metadata": {},
     "output_type": "execute_result"
    }
   ],
   "source": [
    "set_abcde.deduce_enum_proper_subset(subset=set_abc, assumptions=[NotInSet(d, set_abc)])\n",
    "set_abc_properSubset_set_abcde.derive_reversed(assumptions=[NotInSet(d, set_abc)])"
   ]
  },
  {
   "cell_type": "markdown",
   "metadata": {},
   "source": [
    "### `ProperSubset.derive_relaxed()`"
   ]
  },
  {
   "cell_type": "code",
   "execution_count": 102,
   "metadata": {},
   "outputs": [
    {
     "data": {
      "text/html": [
       "<span style=\"font-size:20px;\"> <a class=\"ProveItLink\" href=\"../__pv_it/demonstrations/826a2358a6eed727bfdddae7a967ce5200a2bbbb0/proof.ipynb\" style=\"text-decoration: none\">&nbsp;&#x22A2;&nbsp;&nbsp;</a><a class=\"ProveItLink\" href=\"../__pv_it/demonstrations/58a6f71534c87d621fa60cec91c2d5681ce4f9ba0/expr.ipynb\"><img src=\"data:image/png;base64,iVBORw0KGgoAAAANSUhEUgAAAM0AAAAVBAMAAAAX/3cYAAAAMFBMVEX///+IiIi6urrc3NxERETM\n",
       "zMwQEBCqqqpUVFQiIiJ2dnYyMjLu7u5mZmaYmJgAAABN0h6tAAAAAXRSTlMAQObYZgAAAmNJREFU\n",
       "SMedlr1rFEEYxp+9M+7d5jbkDxC8yvrAxg+iFjaCkCushEAQDQqCV4mFQrQQ0iSKCC4oOTBIDAgL\n",
       "FkpA3YDFaZMLaJVs0EasVBSEfOA637OzH3PoW8w+N3u/fXZm3ndmAYxsojQm9hV02oCCGFqL6KWx\n",
       "bPvTgXauyw4UROUCe7sfxkPik+LJ1aWFDuCH+eFYATEP4vo6miB961R6d0jjXhY3evB+cjUG94+4\n",
       "S+NrEAT3MRjg8UBcryTbpH0qsd7irrixAUxxtb+DLe1z9LEagR1g4VwUYvlmK+2DEYldAuZafGWa\n",
       "2NE+z2H4lAMsjr0UYpq1BT5vIszJpU/Nm98p88kCLLoDfUjMR0K865K7k0zWUeaTBVimtKTP7OeP\n",
       "pH1CZS00scq2EEceRSq5DqV87ACNFUif0zjeBL5TebVtYvVpqZxzpHnF5NuUzwCATpvyAfaQ0Q/3\n",
       "gTP3YGKxfuIUeb/a3cy8DQLIMrVTPv4v0syMiorXmNMX4iAwTlafE95oZosoB4D3kqJTTKtrmI64\n",
       "dsLAbqDK0zSJKCaL/0VqfawAiWtx/HuNde0N4e+K9THTZ6gLh2PnWSKJfEPvVlScb1mAh6hTn8x4\n",
       "KPKNYQ7BVmkeHV56NsPVN3PfOXvK2HfKgNVQeDZozVb7+NJK1Y9/e2cT9Ye07JJki6tK/KGZ8jHr\n",
       "pxRgCgvJLAI6trHFDaNOWVxHXpX4lANKuWqihc+k/NlFXhX5WAGlPJg+6jhpqNzVSp4/XhCoc8EK\n",
       "aLWifdb53i3PL32SpYqlmT8fbYBWn/TGxLcJ91+/D9z/+D74C3r98u7UHtjWAAAAAElFTkSuQmCC\n",
       "\" style=\"display:inline;vertical-align:middle;\" /></a></span>"
      ],
      "text/plain": [
       "|- {1, 2, 3} subseteq {1, 2, 3, 4, 5}"
      ]
     },
     "execution_count": 102,
     "metadata": {},
     "output_type": "execute_result"
    }
   ],
   "source": [
    "set_123_properSubset_set_12345.derive_relaxed()"
   ]
  },
  {
   "cell_type": "code",
   "execution_count": 103,
   "metadata": {},
   "outputs": [
    {
     "data": {
      "text/html": [
       "<span style=\"font-size:20px;\"><a class=\"ProveItLink\" href=\"../__pv_it/demonstrations/18f081e58cd34774ad10c60f967884fc64e1380e0/expr.ipynb\"><img src=\"data:image/png;base64,iVBORw0KGgoAAAANSUhEUgAAAGYAAAAVCAMAAACDt2s/AAAAQlBMVEX///9jY2MJCQkNDQ0rKysP\n",
       "Dw8WFhZUVFSYmJiIiIjc3NwyMjIiIiJ2dnbu7u66urqqqqpmZmYQEBBERETMzMwAAADVO6QiAAAA\n",
       "AXRSTlMAQObYZgAAAZ5JREFUSMelVu2WhSAIdD+VVBSx93/VtW7dULPu7vqjc8RRBhg0pYYjN3ND\n",
       "Rv12ZAK8gbhqhtarv4yQJN3MiRoiuo5lHp6EnNzYD9lqOsdmOVRTf3GSsjReqzeGGa9ydu2mpTje\n",
       "WM0Mu+8vZ19101EcbxRxZy7y4On1aC4jfS5O5CEfcaPF5XOBJkgVfasBqMmbB4BVYz7tkivE+Yhb\n",
       "L3EANG60FWhbyQ7nQgxnGf7kile2QqKYTC07Xgk22Y6b/Dc0V2srxVkSc0uT6SjKQSvIPZsvJ2vt\n",
       "50f5WFEtt3Hd0NB1Bs6ifanShF7giVfQs0umZe7joJk3dO7UE6SoE1eVe7KIItmpb5qFEqtT9JIu\n",
       "0wRQRfaoDa4sSoHjXkICFWigyx69uAl7zSrHhY5QGpfEGafVQcBFnUfyF+gisC3QciiTEhZa80RZ\n",
       "bMQi+jxpOK4w1O8BB24k2rkHCgn8g/5uUd4bA3e9a948O3d/2US8t1y4aS8a2cyV7QXL2A3yWYT9\n",
       "e4Nwb+nem2PA6WPcv549zJy9nmGUs3Nz/Me/wA8byRZzI7+IVgAAAABJRU5ErkJggg==\n",
       "\" style=\"display:inline;vertical-align:middle;\" /></a> <a class=\"ProveItLink\" href=\"../__pv_it/demonstrations/6224290b9974358a75440301fa783147508dc6df0/proof.ipynb\" style=\"text-decoration: none\">&nbsp;&#x22A2;&nbsp;&nbsp;</a><a class=\"ProveItLink\" href=\"../__pv_it/demonstrations/3e966888b440b944efa74015ca79bdde244a73b20/expr.ipynb\"><img src=\"data:image/png;base64,iVBORw0KGgoAAAANSUhEUgAAAMkAAAAVBAMAAAAeFNdiAAAAMFBMVEX///+IiIi6urrc3NxERETM\n",
       "zMwQEBCqqqpUVFQiIiJ2dnYyMjLu7u5mZmaYmJgAAABN0h6tAAAAAXRSTlMAQObYZgAAAm5JREFU\n",
       "SMeVVU1o1EAU/txuu7vp7G5WqCcLe1rw1BwrIqyXgrcFexKE4g9epAQET4Jbb+LFIkIjHlIEYQVl\n",
       "wUOLIEYQ6aWkC4KgoDkqSNuLFOwemvlLJskkpXNIvpn3zXtvZr43A6DxE3nt2lnNYAFf0yZHHv2R\n",
       "9wWcTi8zVMjXtNItltp+wsfCE7VbH2aXUsQX+S/sKL0f9GMkadMqITb+dhznGY7li9a0lc5AMytB\n",
       "iIwXXmYD6/iizXnHREkQIuM75EVJ8lXHRVESBGms27lRBroT/6CPMvF9dIePbba+Cet6qwdjicFa\n",
       "OvDFN2c8HR/M18yBkMb6rAW8orBKZdSxprl0yKHnWwydt8tDKah5JQrll27gI3R8pn6rPObGc9aE\n",
       "C+xReC/MgCyj3mWGyhhNk6HnqNpy7Z+VKJT/JcBXaPncFw9HbmO7x1W4+JTu+xg1UxaI74IPscxX\n",
       "UzvG+L88rELL575cPne59Zf+H5m8vKe68HtS/nMspSm+tk1+FmbyOrgJ8g9aPvfV5iLvcwr9VUNz\n",
       "mM4DIf+AJgqIDGWhbyjn0gX5j8q+lo+ELz60JzXj23hcYYfYbIf7KqbDlhrD1kNP0Rg5CDVwFxo+\n",
       "VF9040yhMRqlbDbWDPjhoVWD8g4D9T49uqg4rl5Wb5hL+NN3ySHSfApiX6eG2LaUeiErM/OnUXsR\n",
       "otFbMIDXu2amBCV/q3VlpQ3HS/OZh8gXZncDTe3fz4CcKELFXv5EBfEoS1HfzQBdlIhvFExU0CD5\n",
       "XhAzDWR9GY4T3fwx/1PBxBjx9wXR29fIAHTa2asw4gcFE2NUus6394TvfuXk7/4RFYjUZ8xY+W8A\n",
       "AAAASUVORK5CYII=\n",
       "\" style=\"display:inline;vertical-align:middle;\" /></a></span>"
      ],
      "text/plain": [
       "{d not-in {a, b, c}} |- {a, b, c} subseteq {a, b, c, d, e}"
      ]
     },
     "execution_count": 103,
     "metadata": {},
     "output_type": "execute_result"
    }
   ],
   "source": [
    "set_abc_properSubset_set_abcde.derive_relaxed(assumptions=[NotInSet(d, set_abc)])"
   ]
  },
  {
   "cell_type": "code",
   "execution_count": 104,
   "metadata": {},
   "outputs": [
    {
     "name": "stdout",
     "output_type": "stream",
     "text": [
      "Proof Failure: Proof step failed:\n",
      "Attempting to instantiate |- forall_{A, B | A proper_subset B} (A subseteq B) with {A: {a, b}, B: {a, b, c}}:\n",
      "Unsatisfied condition: {a, b} proper_subset {a, b, c}\n"
     ]
    }
   ],
   "source": [
    "# derive_relaxed() method only works for actual proper subsets.\n",
    "# If the proper subset is not true or not provably true, derive_relaxed() will fail:\n",
    "try:\n",
    "    ProperSubset(Set(a, b), Set(a, b, c)).derive_relaxed()\n",
    "    assert False, \"Expecting a ProofFailure. Should not make it to this point.\"\n",
    "except ProofFailure as e:\n",
    "    print(\"Proof Failure: {}\".format(e))"
   ]
  },
  {
   "cell_type": "code",
   "execution_count": 105,
   "metadata": {},
   "outputs": [
    {
     "data": {
      "text/html": [
       "<span style=\"font-size:20px;\"><a class=\"ProveItLink\" href=\"../__pv_it/demonstrations/1052b8d759a357e6ce1fa7166764e68147410a720/expr.ipynb\"><img src=\"data:image/png;base64,iVBORw0KGgoAAAANSUhEUgAAAFMAAAAVCAMAAAANbSJDAAAARVBMVEX///8/Pz9vb28YGBgNDQ0r\n",
       "KysPDw8WFha6urqYmJgQEBDu7u5mZmZUVFQyMjJERESqqqoiIiLc3NzMzMyIiIh2dnYAAADeLP6z\n",
       "AAAAAXRSTlMAQObYZgAAAWxJREFUOMuNVdm2hSAI9c4qOCX6/596zawjJ614aEVsmdyQEDOJXFWo\n",
       "xI1EJLhGhF4Bm8QDkTpeBjUsyzxHgtNHfLRXPlH2WgpXWIvPcNx4jc3+FqdcCH+/9rFPmeEGF916\n",
       "e255nmdnfL0mIorHDUN9To4tmJA0p4w1RLiVn3SDhaK73YmpCRJxn8buZClmy0kAuaQBeen5EVbq\n",
       "mb3NbgvNM/GNd6BX4qPjxtrOTB0FMPfno7ZFfr7Lo+twaN3dsIEXUTkJuQ2FWa2aRV2qlvx4PioW\n",
       "cjyzUzY+WdMHaKLP5FyjO3Fg/dtMZfWqtvUzb7thzwxL6hLHdIGaTLkv3zMty73Rx71jzRaPegoL\n",
       "TJxQ0JWAKhiR6m3vNRR3DjnnUlKq6zoY9wUTn1CYGBdD6y4IoaEAKam72fj8KMMZbmfTw+VIcXmb\n",
       "y34+2Dfx3Ce4wVo570+g0Yac7E8a/STOe14N97yclD786p//j/4B7SYT3k+uSeAAAAAASUVORK5C\n",
       "YII=\n",
       "\" style=\"display:inline;vertical-align:middle;\" /></a> <a class=\"ProveItLink\" href=\"../__pv_it/demonstrations/01661cfcb82ca611134e916cc5d0d1667b2f93d10/proof.ipynb\" style=\"text-decoration: none\">&nbsp;&#x22A2;&nbsp;&nbsp;</a><a class=\"ProveItLink\" href=\"../__pv_it/demonstrations/7c8194d7895a9abf67923826c59fd32efe454a6b0/expr.ipynb\"><img src=\"data:image/png;base64,iVBORw0KGgoAAAANSUhEUgAAAI8AAAAVBAMAAACNsKCFAAAAMFBMVEX///+IiIi6urrc3NxERETM\n",
       "zMwQEBCqqqpUVFQiIiJ2dnYyMjLu7u5mZmaYmJgAAABN0h6tAAAAAXRSTlMAQObYZgAAAcxJREFU\n",
       "OMtjYGDgu8eAClgvHmDABG8fMOAAUPU8uzBkmFIxVZ9ewIATQNTzfUAWO5IJIm9jKn7PgKkMDsDq\n",
       "uSagiO0FESthvBczZ86cyoAihKQMDlZiMeg7si7rxahq0ZThM4jpD7KuzQw4DIIow2cQhAfVxVuA\n",
       "yyA0byAMsl0rBoly7kZZoO5lEHlOdLVoysDaBUWh6jk2AF2azLAfIn5+D89neBRZIBnUzYCpDAiY\n",
       "pzN4Q9WXBTAwHHvAcAWiov4Aw0eghRcgkYwwhx2UVNCVgRy9gKEdoj5kMpB7/wDDRFiK4PkFpDoF\n",
       "UL3G6mmATRlYiAGqXg3oohQGnq+w9MEEjFnuBoj/BVATL7oysBA4yEDqORxAprND0/c/Bt4/iGS8\n",
       "HeG3FgZMZQwwd72HxhrPd2CQF4OFPoECAhZrDCeaDiDFGoYysIkM7FD1oOh3ZHjZsIDnN5DXx+CL\n",
       "nGiiPJGzCKoyMOMGA89VpHR0QjC4UYFhJtD6s1IPMPMDzCA0ZSAG17qHmCmb/QCOjIUqBFeGpp4r\n",
       "AZ7uGfAYtIwBQxmaekR5dBC1fAGqnDkTXowgyqODuNTDS0h4WcqUhOki7gUYytDVsxNXZtfiL7MB\n",
       "IU2yqGEH1lkAAAAASUVORK5CYII=\n",
       "\" style=\"display:inline;vertical-align:middle;\" /></a></span>"
      ],
      "text/plain": [
       "{c not-in {a, b}} |- {a, b} subseteq {a, b, c}"
      ]
     },
     "execution_count": 105,
     "metadata": {},
     "output_type": "execute_result"
    }
   ],
   "source": [
    "# But if we first establish the proper subset as a judgment\n",
    "# (with the appropriate assumptions), then we can relax as expected:\n",
    "Set(a, b, c).deduce_enum_proper_subset(subset=Set(a, b), assumptions=[NotInSet(c, Set(a, b))])\n",
    "ProperSubset(Set(a, b), Set(a, b, c)).derive_relaxed(assumptions=[NotInSet(c, Set(a, b))])"
   ]
  },
  {
   "cell_type": "markdown",
   "metadata": {},
   "source": [
    "### `ProperSubset.apply_transitivity()`"
   ]
  },
  {
   "cell_type": "code",
   "execution_count": 106,
   "metadata": {},
   "outputs": [
    {
     "data": {
      "text/html": [
       "<span style=\"font-size:20px;\"> <a class=\"ProveItLink\" href=\"../__pv_it/demonstrations/a3ce68ef93d0ae814abcfbdd5eb94c83b9fa3edd0/proof.ipynb\" style=\"text-decoration: none\">&nbsp;&#x22A2;&nbsp;&nbsp;</a><a class=\"ProveItLink\" href=\"../__pv_it/demonstrations/700a5f1320384f27f70997aa30e8c2691f8ec0eb0/expr.ipynb\"><img src=\"data:image/png;base64,iVBORw0KGgoAAAANSUhEUgAAAM0AAAAVBAMAAAAX/3cYAAAAMFBMVEX///+IiIi6urrc3NxERETM\n",
       "zMwQEBCqqqpUVFQiIiJ2dnYyMjLu7u5mZmaYmJgAAABN0h6tAAAAAXRSTlMAQObYZgAAAltJREFU\n",
       "SMedlr1rFEEYxp+9M+7lchvyBwheZX1g4wdRCxtB8AorIRBEg4LgVWKhEC2ENIkiQg4UDwwSA8J2\n",
       "SkDdgMVpkwtolWxQEEsVBSEfuM7Huzsztztz6FvMPjdzv3l2Z953dgGMbsIaE/sKOl1AQQytRfxS\n",
       "W3b96UAz1+UGCqJ0UdzdD2OS+CTNXF5aaAFBmH8cJ0DrQNfX0QTrW+eyepc1/hUa6KL6U6px+H9o\n",
       "1Aw3IGOerleTbdY+S7Hu4i4NbABTUu1vYcvqYwdEeJdILN9q6D4YTbHLwFxD7kwdO5rPl3a7/QCD\n",
       "ARHHXpKYFm2Bz5sIc+nW6+t29Im5blZARGegD4vHEYl3HTY6KfV9WHz6AZEpjdRn9vNH1j7lshKa\n",
       "WGmbxJFHUZZcQUtN6wZ4rCD1OY3jdeA7l9eaJjY8nSrvPGteyU4tDwYAfNkyH2APe/qRHnBWrIiG\n",
       "xWrGKXZ/lXtcHVKdgwC2TU3NJ/jFmpkxqniFeT0SB4EzbLUk8bb/iLADwPuU4kvMq2uEP3HlhIHd\n",
       "RFmmaRJxjPZHXzc3wOJ6HP9eE117QwS7tD9m+gx14EnsgkgkyrfqmC3f+gEZVKcBu8OQ8k1gHsNW\n",
       "eR4dXno+I9U3o35e9PnYgNWQPGu8Zss9fG1o9RPc2dnE8ENedkmyJVUp/lBXPt3bke5jBYTCQjKL\n",
       "NgfGFzeMOhVxA3mVjZ47ZZw7ViBTfnZj5DOZ/uwgr4rOUSeQqSpMn+x1Usv2Winn+6cIUGpFEevy\n",
       "7E55NZNWLPX8+9EFKPVJHUzymPD/9fvA/4/vg79pmO8uDvKXhgAAAABJRU5ErkJggg==\n",
       "\" style=\"display:inline;vertical-align:middle;\" /></a></span>"
      ],
      "text/plain": [
       "|- {1, 2, 3} proper_subset {1, 2, 3, 4, 5}"
      ]
     },
     "execution_count": 106,
     "metadata": {},
     "output_type": "execute_result"
    }
   ],
   "source": [
    "# establish a proper subset judgement:\n",
    "set_12345.deduce_enum_proper_subset(subset=set_123)"
   ]
  },
  {
   "cell_type": "code",
   "execution_count": 107,
   "metadata": {},
   "outputs": [
    {
     "data": {
      "text/html": [
       "<span style=\"font-size:20px;\"> <a class=\"ProveItLink\" href=\"../__pv_it/demonstrations/b95dd58c9e5b5bf6e3f952837e35bbb8c1d919a40/proof.ipynb\" style=\"text-decoration: none\">&nbsp;&#x22A2;&nbsp;&nbsp;</a><a class=\"ProveItLink\" href=\"../__pv_it/demonstrations/45f2f2c2b61b9161e629b3212b4aacd3b070cf410/expr.ipynb\"><img src=\"data:image/png;base64,iVBORw0KGgoAAAANSUhEUgAAARsAAAAVBAMAAACEflfWAAAAMFBMVEX///+IiIi6urrc3NxERETM\n",
       "zMwQEBCqqqpUVFQiIiJ2dnYyMjLu7u5mZmaYmJgAAABN0h6tAAAAAXRSTlMAQObYZgAAA6hJREFU\n",
       "SMetVl1IVEEUPuu6P+79cSHooZDspaeiCz0VWEsUIRTtQ0+BIJX9UOG+JD0kbVCRhrpQD64FrSCi\n",
       "C9G+BCFk60tIEq5RKObaRtBLP4pSmm7d5s6cmfu3iqLDcu+358755pszc84MAKjTsJ7mG8uWsP4o\n",
       "wAYb8soD6/Qra3DbRlKw4cZ41VmrTc4fiTJ0IH1MWOvwPZitiwF8dFPN2P69fX8UXCS+HHtL333j\n",
       "aOrexsbydU6m08gbSpBH4Ar2GIbQHAXeHNwUC9CJ70Z9iTz73XKoqQlXUY7Ds2oXSUWcvf26jqEc\n",
       "qVYyFKi6ri8iiSFnuK+ITlMA5ynwLEBlAo2eiwgGbmkrypFbO1COkgV/vYtkK8qR+rag5QSUR5gD\n",
       "YY1b5IDK5VwC6NDoSp6BygwaD75AEDdDYTjVJpPJqGmaQTn+BATnwUHi/YZygmKvzHMUIr9oSTmv\n",
       "stCBm8eMc6qkHO+AZl8sLkcqQvAXOEhCklNOeb0lvDuhpBzSnvAt0MWjoHE57Z8/kGcvbgYNSssx\n",
       "vnE+QfJFyPlZxeZb+bz7nXCIcN5gxi6nbAkn3z+FliHgco7DoWqRRuOWyd13yNmbcpDIYS6nPOtl\n",
       "yTI6CBUxvlwFnp5NUbscngFk81XjWgk5hIzEUmIpmzDVBBoccjrBQRICSfBCLZMzCwpP6FG6yIT3\n",
       "1AOwy8kL5GedA1GLHMXYfy1hY+Imva9Ws8tRck6Sa1Y5n2h3knPqHFq206fBu8seHQ8yeTUoX6Do\n",
       "DXA5ZF2NqsSI5YizoJpyqsBBIqeEHLKurCpVZED9hx0f0ugYPYIRm5xmg8PQXuRyrufzv8fYTDOg\n",
       "FMXesSwW3LbJCeRgH9hIAm35T1fD1HaZRId2DNab0VkUpd2eWb4UeKgcf8RMD8AyqNAp8czqhpUy\n",
       "6zQAK3VWEj9Gh0T/ERuqCArmuu8v8MyicjzEadRIsf3ppy0UqQVSMuRl1v0cUERq/ldN1B0p5pCz\n",
       "I4vdutITCYqsJEQaHaEG1LMMtcLrGPsYWAJr3VHuLk9DxWOjDOr6H4b25A8DJOmEe/R2hmr6pswy\n",
       "KN/bbZMz0fiyQLtJ5AhKMAeTJHRysUB5vZNtWTZCaPIOfvResMlh7Qa4UCDrRuKQ8PXYD4mVHEy0\n",
       "6ggoR9Rq886SspwmLlTqCO1dzSEEaxqB8Yr7jhwGFxoCN1r1vlPKYQjWNALy8tugKuwmKpRA5Jh2\n",
       "NSm1ikMB1jQC8gY2467cvDl35f/GP0zdLHLZFQAAAABJRU5ErkJggg==\n",
       "\" style=\"display:inline;vertical-align:middle;\" /></a></span>"
      ],
      "text/plain": [
       "|- {1, 2, 3, 4, 5} proper_subset {1, 2, 3, 4, 5, 6, 7}"
      ]
     },
     "execution_count": 107,
     "metadata": {},
     "output_type": "execute_result"
    }
   ],
   "source": [
    "# establish a related proper subset judgement:\n",
    "set_1234567.deduce_enum_proper_subset(subset=set_12345)"
   ]
  },
  {
   "cell_type": "code",
   "execution_count": 108,
   "metadata": {},
   "outputs": [
    {
     "data": {
      "text/html": [
       "<span style=\"font-size:20px;\"> <a class=\"ProveItLink\" href=\"../__pv_it/demonstrations/3feb6633f2702cc321bc6e98bbe0c576836879ca0/proof.ipynb\" style=\"text-decoration: none\">&nbsp;&#x22A2;&nbsp;&nbsp;</a><a class=\"ProveItLink\" href=\"../__pv_it/demonstrations/6c40087cbf16854e15dcec77f244d0b125de4d380/expr.ipynb\"><img src=\"data:image/png;base64,iVBORw0KGgoAAAANSUhEUgAAAPQAAAAVBAMAAACDGd7qAAAAMFBMVEX///+IiIi6urrc3NxERETM\n",
       "zMwQEBCqqqpUVFQiIiJ2dnYyMjLu7u5mZmaYmJgAAABN0h6tAAAAAXRSTlMAQObYZgAAAt1JREFU\n",
       "SMetVk1oE0EU/pK0SXbbTXPyIEJz6rkgiD8Uc/AiKO3Bi0KxiBQEpbnYk2IUPFiorYiHgGKKChJQ\n",
       "chGl0HYFkYqHBH9AxGhE8SJo0YvV0nVm3szuzmZ3W8F3SL5O3/d9896+mSyA3HtExui2kMU4wiaD\n",
       "dHvn43IGRjqW4gmbDKGbW9F0W/ukWap2uwRY9c6iYwkU3U36XrRH1drcVso7PF2rVUnXnOULkzYl\n",
       "LMP8QWgImXX1Xy3iCRRGmb4nnN9y5XlBVvHdcZwyifCP3qkZqfQOGCfUX8JqpHU0gWKLtJ4/PyhX\n",
       "DqKrKMBLIAvPmu1FKp0AZih7oIA/PuvPlUrlmq/qKAL1/qu0Lqu9JH8qVAXuhFov2ZhRk+Vv+J5b\n",
       "gYZHESilJ2jdNea1LZkPtWZxU8FnbIOmpFxFhHWQIOKTsr788TWBvgdzL9xtQOpm67pSUg3G7hu2\n",
       "O85WybOOJ4ipzyvrA9hbEKCxCENp3FfHZHJEVzLcJiWOsY8FWvSN2QYEXhJ6vE7TE2uswDopNyaq\n",
       "YbqHqJWeUsszGWeL2Ssc7fQWNyKwOO2ztmi++maRk4cwIbrGdQf0IhLyMsB2YJi16JH440nHBRdJ\n",
       "YGVVlTV7NvLUG3Xk5BAa4pBx3WxRUzqLFJ0Vx+ZK8ln7Gx5P4IM+3fpwKs9Rug5rjUhjbtV9ZfWs\n",
       "9YHtriJBSsfF6MoJN/NREx4kUKSpakuUK9LWYMnDcrSpJpyU+m308gthV+3eJTR4+jftXD8MWkcQ\n",
       "GuSULgqUauLLoEjDFJ6WCJ2rwn+u30wstFFhe15ynFUY1/mZab0qeNbLF2zNOoogEMzhX22Bhu6y\n",
       "i5anwXx7UaIdJc2aLiNX/UygRBZH9usXaRQhBHlpGX3/pnvFmfDds0FrX8NjCSHISzN1Xe/n97H7\n",
       "G+wNVezvdQghDLlpPkS67ktH2xX3HeJC5xtGHCEMtUMQ6Wb+9d0s83/ezf4Cspklh6LPM0YAAAAA\n",
       "SUVORK5CYII=\n",
       "\" style=\"display:inline;vertical-align:middle;\" /></a></span>"
      ],
      "text/plain": [
       "|- {1, 2, 3} proper_subset {1, 2, 3, 4, 5, 6, 7}"
      ]
     },
     "execution_count": 108,
     "metadata": {},
     "output_type": "execute_result"
    }
   ],
   "source": [
    "# use transitivity to go from first set to 3rd set:\n",
    "set_123_properSubset_set_12345.apply_transitivity(set_12345_properSubset_set_1234567)"
   ]
  },
  {
   "cell_type": "code",
   "execution_count": 109,
   "metadata": {},
   "outputs": [
    {
     "data": {
      "text/html": [
       "<strong id=\"A_properSubset_B\">A_properSubset_B:</strong> <a class=\"ProveItLink\" href=\"../__pv_it/theorems/81f49a06ba9c23797bdfafb3065c419bc23ed9230/expr.ipynb\"><img src=\"data:image/png;base64,iVBORw0KGgoAAAANSUhEUgAAADsAAAAPBAMAAACo4Ko7AAAAMFBMVEX///92dnYiIiIQEBBERERU\n",
       "VFS6urqIiIjc3NxmZmaqqqru7u6YmJgyMjLMzMwAAADiRdoGAAAAAXRSTlMAQObYZgAAAO1JREFU\n",
       "GNNjYACBtwzogCf+68wQNyjnPoY0A7MDA8P8BxCl9zdgSL8/wMCQPwHM3DW/ASJ2RElJSQ/CrAcK\n",
       "nS8AMw/UJ4DpXgmEbmcGBm4jsKFsG9YfAAtpIBn+lYHhUTSYtY3hPdgUzgUIWb6vZ0q0IMwEhn6w\n",
       "G5iQNLP/YGDYHABWGDkz3gHEaEWSZjEAKvkFthroyQsgxhYkaX6gTvbvIBbQRiYDdMNB3mb9BmRw\n",
       "AKV5P4CEGAsQ0iBvvwdZ2QSy6QdY7BZC+jLQUhOgt7f8v83A5f8J7PStYbDAjf0fOdVlAXpAP3SC\n",
       "ByoEAACTQj18dtZaDQAAAABJRU5ErkJggg==\n",
       "\" style=\"display:inline;vertical-align:middle;\" /></a><br>\n",
       "<strong id=\"B_subset_eq_C\">B_subset_eq_C:</strong> <a class=\"ProveItLink\" href=\"../__pv_it/demonstrations/3708a535e2403c7f0638e41077b7db716b0974680/expr.ipynb\"><img src=\"data:image/png;base64,iVBORw0KGgoAAAANSUhEUgAAAD0AAAARBAMAAACcIrmXAAAAMFBMVEX///92dnYyMjKqqqoiIiLu\n",
       "7u7c3NyIiIjMzMwQEBC6urpERERmZmZUVFSYmJgAAADEjrHzAAAAAXRSTlMAQObYZgAAAPZJREFU\n",
       "KM9jYGB4+//O2d0LGNABa/Wde2wCINZsBgaeHxDBty4uLh4QZuUDBuaTD4AMjn8MDFx/wGJJYnDt\n",
       "0a5A4nwCkGD/xsDA9x0sqIYwXjMASKwEsbgnMDBEglQz8BjApXk+g8geEMF/gYHDF6SagQWhPd8B\n",
       "RIaBiP57z7dANOYi5OUL4Mz6BAbWuRA3IeT9G+DMnSA1BmjmzwdbCCb+guTBxjEiDPUHEcwNUO8z\n",
       "3IeEnzJcHuxzRgao9zl+Q0RjbwXA3A8yShTEYgJ6f+VWqHDjFmj4MgNNtQEp5tX/e+b2ZozYYYjZ\n",
       "ewczzigEjC4uiPiFAAClfT1j6lc/fwAAAABJRU5ErkJggg==\n",
       "\" style=\"display:inline;vertical-align:middle;\" /></a><br>\n",
       "<strong id=\"B_equals_D\">B_equals_D:</strong> <a class=\"ProveItLink\" href=\"../__pv_it/demonstrations/aa07d04aa34af5def795608f4ebeb61718afb3d10/expr.ipynb\"><img src=\"data:image/png;base64,iVBORw0KGgoAAAANSUhEUgAAAD0AAAAOBAMAAABuognZAAAAMFBMVEX///92dnYyMjKqqqoiIiLu\n",
       "7u7c3NyIiIjMzMwQEBC6urpERERmZmZUVFSYmJgAAADEjrHzAAAAAXRSTlMAQObYZgAAANVJREFU\n",
       "GNNjYGB4+//O2d0LGNDA2/97b+9NADNnMzDw/ECXZ/jEwMD3GcTg+MfAwPUHXZrjO5A4CWKxfwOq\n",
       "/I4uzw4ycf0DIME9gYEh0hVdnvsDkMgXABL8Fxg4fAPQ5fk3gPRfABL9955vMQAJMSqBwQGwfH8B\n",
       "kKgH6a9PYGCdi+H8+gYgcR/k7Z0gngG6/H4Q8RNE/AXJF6DL/wZivn9Q70MMgtp/Ae79yA1Q73P8\n",
       "xuZ9ViUQiwno/ZVb0eWZgN5fAvIJr/7fM7c3o0sDRc/ePgZkAADK8kIyXFvIfAAAAABJRU5ErkJg\n",
       "gg==\n",
       "\" style=\"display:inline;vertical-align:middle;\" /></a><br>\n",
       "<strong id=\"C_superset_eq_B\">C_superset_eq_B:</strong> <a class=\"ProveItLink\" href=\"../__pv_it/demonstrations/5dbcc3c75df933ff54827bec44f40ac9496287e20/expr.ipynb\"><img src=\"data:image/png;base64,iVBORw0KGgoAAAANSUhEUgAAADsAAAARBAMAAACRPMnQAAAAMFBMVEX////MzMy6uroyMjIiIiKq\n",
       "qqoQEBB2dnbc3NyYmJhmZmZUVFRERESIiIju7u4AAACOKgoaAAAAAXRSTlMAQObYZgAAAPxJREFU\n",
       "KM9jYGDgu7NrJ0cBAyrg3P971Z5DINa1CQysyyYAGY9dXFzOwuTZDjAwrBdgYHjjB+Ssb4CKvjSC\n",
       "MuSBGvQXMDCYPQBy1OCmPoYqvA+k519g4PoK4kjBpRkNIPQxoKNSHjD0O4A4LxCOsoBQvxkYRPYx\n",
       "MNRfQHNzKcSQ3zPvuAJpfwE06UVgkvcHA8OzDQwM+SCXMTxASEPs5kkAKgE6yx/EYUUYwboBTPED\n",
       "Kd6/UB+zIzSLPIB7m/sTA0M/yGl1MEk+rRMIb8sDA471JwNDFEQHMFB9SqHqzBgYmHJAwq9O71Jg\n",
       "QAeb/+9afSaAgYoAFKEuLhuQhQCs00Y3UXordgAAAABJRU5ErkJggg==\n",
       "\" style=\"display:inline;vertical-align:middle;\" /></a><br>\n",
       "<strong id=\"F_superset_B\">F_superset_B:</strong> <a class=\"ProveItLink\" href=\"../__pv_it/demonstrations/ac767654c18c1524162f75468a0e3c159bd7bd780/expr.ipynb\"><img src=\"data:image/png;base64,iVBORw0KGgoAAAANSUhEUgAAADwAAAAPBAMAAABKPLFCAAAAMFBMVEX///8iIiLc3Nzu7u6qqqq6\n",
       "urp2dnbMzMyYmJgyMjIQEBBUVFRmZmZERESIiIgAAABzTYE0AAAAAXRSTlMAQObYZgAAAPJJREFU\n",
       "GNNjYGB4+//O6Vv/GNBA9/89p+8GgFg/gfgGujTDWgYGnu9Amv0bkGhFl2X/wcDA+gfI4PsKJNxB\n",
       "IoKCgrINUGm+TwwMHCArOT8zMDE4Q0WZMhUgDN4FDAxWwkAGvwCDBsJQJgEIzb+BgV3aAMiIP8Cw\n",
       "CclSHwhVv6PvogOIkT9n1wIkaUYI9V6BgXk1iDHfgHkDkjQ3xPJbICUg7R8ZmB2QpHkNwNRvkPQD\n",
       "oOe+oXqYEe5thv3AUGP7iir9DO5t9r8g1R9QZFkmgClOoGujLjMw2Mz/fQhJ1nQ32Gru+b/P7L2C\n",
       "FszAQL1WgCIEAOrpPY/B6IuoAAAAAElFTkSuQmCC\n",
       "\" style=\"display:inline;vertical-align:middle;\" /></a><br>"
      ],
      "text/plain": [
       "A_properSubset_B: A proper_subset B\n",
       "B_subset_eq_C: B subseteq C\n",
       "B_equals_D: B = D\n",
       "C_superset_eq_B: C supseteq B\n",
       "F_superset_B: F proper_superset B"
      ]
     },
     "execution_count": 109,
     "metadata": {},
     "output_type": "execute_result"
    }
   ],
   "source": [
    "# This process can work more generally.\n",
    "# First define some set relations for convenience:\n",
    "A_properSubset_B, B_subset_eq_C, B_equals_D, C_superset_eq_B, F_superset_B = (\n",
    "    ProperSubset(A, B), SubsetEq(B, C), Equals(B, D),\n",
    "    SupersetEq(C, B), ProperSuperset(F, B))"
   ]
  },
  {
   "cell_type": "code",
   "execution_count": 110,
   "metadata": {},
   "outputs": [
    {
     "data": {
      "text/html": [
       "<span style=\"font-size:20px;\"><a class=\"ProveItLink\" href=\"../__pv_it/theorems/81f49a06ba9c23797bdfafb3065c419bc23ed9230/expr.ipynb\"><img src=\"data:image/png;base64,iVBORw0KGgoAAAANSUhEUgAAADsAAAAPBAMAAACo4Ko7AAAAMFBMVEX///92dnYiIiIQEBBERERU\n",
       "VFS6urqIiIjc3NxmZmaqqqru7u6YmJgyMjLMzMwAAADiRdoGAAAAAXRSTlMAQObYZgAAAO1JREFU\n",
       "GNNjYACBtwzogCf+68wQNyjnPoY0A7MDA8P8BxCl9zdgSL8/wMCQPwHM3DW/ASJ2RElJSQ/CrAcK\n",
       "nS8AMw/UJ4DpXgmEbmcGBm4jsKFsG9YfAAtpIBn+lYHhUTSYtY3hPdgUzgUIWb6vZ0q0IMwEhn6w\n",
       "G5iQNLP/YGDYHABWGDkz3gHEaEWSZjEAKvkFthroyQsgxhYkaX6gTvbvIBbQRiYDdMNB3mb9BmRw\n",
       "AKV5P4CEGAsQ0iBvvwdZ2QSy6QdY7BZC+jLQUhOgt7f8v83A5f8J7PStYbDAjf0fOdVlAXpAP3SC\n",
       "ByoEAACTQj18dtZaDQAAAABJRU5ErkJggg==\n",
       "\" style=\"display:inline;vertical-align:middle;\" /></a>, <a class=\"ProveItLink\" href=\"../__pv_it/demonstrations/3708a535e2403c7f0638e41077b7db716b0974680/expr.ipynb\"><img src=\"data:image/png;base64,iVBORw0KGgoAAAANSUhEUgAAAD0AAAARBAMAAACcIrmXAAAAMFBMVEX///92dnYyMjKqqqoiIiLu\n",
       "7u7c3NyIiIjMzMwQEBC6urpERERmZmZUVFSYmJgAAADEjrHzAAAAAXRSTlMAQObYZgAAAPZJREFU\n",
       "KM9jYGB4+//O2d0LGNABa/Wde2wCINZsBgaeHxDBty4uLh4QZuUDBuaTD4AMjn8MDFx/wGJJYnDt\n",
       "0a5A4nwCkGD/xsDA9x0sqIYwXjMASKwEsbgnMDBEglQz8BjApXk+g8geEMF/gYHDF6SagQWhPd8B\n",
       "RIaBiP57z7dANOYi5OUL4Mz6BAbWuRA3IeT9G+DMnSA1BmjmzwdbCCb+guTBxjEiDPUHEcwNUO8z\n",
       "3IeEnzJcHuxzRgao9zl+Q0RjbwXA3A8yShTEYgJ6f+VWqHDjFmj4MgNNtQEp5tX/e+b2ZozYYYjZ\n",
       "ewczzigEjC4uiPiFAAClfT1j6lc/fwAAAABJRU5ErkJggg==\n",
       "\" style=\"display:inline;vertical-align:middle;\" /></a> <a class=\"ProveItLink\" href=\"../__pv_it/demonstrations/660df75e97f9c524f740534149553baea44d727e0/proof.ipynb\" style=\"text-decoration: none\">&nbsp;&#x22A2;&nbsp;&nbsp;</a><a class=\"ProveItLink\" href=\"../__pv_it/theorems/7d3069e199791c25389a812f4ca9748b3064207b0/expr.ipynb\"><img src=\"data:image/png;base64,iVBORw0KGgoAAAANSUhEUgAAADsAAAAPBAMAAACo4Ko7AAAAMFBMVEX///92dnYiIiIQEBBERERU\n",
       "VFS6urqIiIjc3NxmZmaqqqru7u6YmJgyMjLMzMwAAADiRdoGAAAAAXRSTlMAQObYZgAAANtJREFU\n",
       "GNNjYACBtwwYgLskMoZDAMK+jyldfICBa/IBMJPn/gZ02S3aQGJ+A5i9C0ozHFFSUtIDsy6DNCRD\n",
       "RA/UJ4DpXgmYZs5fIPIlmM22YT3EEg242f0KIHIHmL2N4X0BWMsCuLR8AcIZCQz9E0A0E0JI/wGc\n",
       "yRc5M94BxGhFSNuDvQIm2BgYmC+APYOkG0RwgY0A2shkgGY42KeMIBYHUJr3A4jFiHBPP4gpDWI1\n",
       "ATHLD7DgLbg01x8GhpUgq7f8v83A5f8J7PStYfDA3ekamYARDw+dYIEKBQCOpjXOgAe5jAAAAABJ\n",
       "RU5ErkJggg==\n",
       "\" style=\"display:inline;vertical-align:middle;\" /></a></span>"
      ],
      "text/plain": [
       "{A proper_subset B, B subseteq C} |- A proper_subset C"
      ]
     },
     "execution_count": 110,
     "metadata": {},
     "output_type": "execute_result"
    }
   ],
   "source": [
    "A_properSubset_B.apply_transitivity(\n",
    "    B_subset_eq_C, assumptions=[ProperSubset(A, B), SubsetEq(B, C)])"
   ]
  },
  {
   "cell_type": "code",
   "execution_count": 111,
   "metadata": {},
   "outputs": [
    {
     "data": {
      "text/html": [
       "<span style=\"font-size:20px;\"><a class=\"ProveItLink\" href=\"../__pv_it/theorems/81f49a06ba9c23797bdfafb3065c419bc23ed9230/expr.ipynb\"><img src=\"data:image/png;base64,iVBORw0KGgoAAAANSUhEUgAAADsAAAAPBAMAAACo4Ko7AAAAMFBMVEX///92dnYiIiIQEBBERERU\n",
       "VFS6urqIiIjc3NxmZmaqqqru7u6YmJgyMjLMzMwAAADiRdoGAAAAAXRSTlMAQObYZgAAAO1JREFU\n",
       "GNNjYACBtwzogCf+68wQNyjnPoY0A7MDA8P8BxCl9zdgSL8/wMCQPwHM3DW/ASJ2RElJSQ/CrAcK\n",
       "nS8AMw/UJ4DpXgmEbmcGBm4jsKFsG9YfAAtpIBn+lYHhUTSYtY3hPdgUzgUIWb6vZ0q0IMwEhn6w\n",
       "G5iQNLP/YGDYHABWGDkz3gHEaEWSZjEAKvkFthroyQsgxhYkaX6gTvbvIBbQRiYDdMNB3mb9BmRw\n",
       "AKV5P4CEGAsQ0iBvvwdZ2QSy6QdY7BZC+jLQUhOgt7f8v83A5f8J7PStYbDAjf0fOdVlAXpAP3SC\n",
       "ByoEAACTQj18dtZaDQAAAABJRU5ErkJggg==\n",
       "\" style=\"display:inline;vertical-align:middle;\" /></a>, <a class=\"ProveItLink\" href=\"../__pv_it/demonstrations/aa07d04aa34af5def795608f4ebeb61718afb3d10/expr.ipynb\"><img src=\"data:image/png;base64,iVBORw0KGgoAAAANSUhEUgAAAD0AAAAOBAMAAABuognZAAAAMFBMVEX///92dnYyMjKqqqoiIiLu\n",
       "7u7c3NyIiIjMzMwQEBC6urpERERmZmZUVFSYmJgAAADEjrHzAAAAAXRSTlMAQObYZgAAANVJREFU\n",
       "GNNjYGB4+//O2d0LGNDA2/97b+9NADNnMzDw/ECXZ/jEwMD3GcTg+MfAwPUHXZrjO5A4CWKxfwOq\n",
       "/I4uzw4ycf0DIME9gYEh0hVdnvsDkMgXABL8Fxg4fAPQ5fk3gPRfABL9955vMQAJMSqBwQGwfH8B\n",
       "kKgH6a9PYGCdi+H8+gYgcR/k7Z0gngG6/H4Q8RNE/AXJF6DL/wZivn9Q70MMgtp/Ae79yA1Q73P8\n",
       "xuZ9ViUQiwno/ZVb0eWZgN5fAvIJr/7fM7c3o0sDRc/ePgZkAADK8kIyXFvIfAAAAABJRU5ErkJg\n",
       "gg==\n",
       "\" style=\"display:inline;vertical-align:middle;\" /></a> <a class=\"ProveItLink\" href=\"../__pv_it/demonstrations/63b9f78511c5191f587d1e49908744b6533b6c320/proof.ipynb\" style=\"text-decoration: none\">&nbsp;&#x22A2;&nbsp;&nbsp;</a><a class=\"ProveItLink\" href=\"../__pv_it/demonstrations/1bcedf908b86005c9ec3bec6d7e05ec7720fbfc30/expr.ipynb\"><img src=\"data:image/png;base64,iVBORw0KGgoAAAANSUhEUgAAADwAAAAPBAMAAABKPLFCAAAAMFBMVEX///92dnYiIiIQEBBERERU\n",
       "VFS6urqIiIjc3NxmZmaqqqru7u6YmJgyMjLMzMwAAADiRdoGAAAAAXRSTlMAQObYZgAAAOpJREFU\n",
       "GNNjYACBtwzogCf+S6hLBJRzH0Oagf8CA8P5BRCl9zdgSL8vYGDgNAAzd81vgBrppKSk9ADMrAdS\n",
       "bH/AzAP1CWCa42IDXLc/iP8RxGLbsP4AWIgJIcvwBSTxFcTaBrYICGYhZPm+Awl2sO4Ehv4JYDEF\n",
       "hDT7PyDB+g2kMHJmvAPY6gCENMsHkOdALmdjYGC+ABLidkDyNoh9HuQkoN+ZDNANB7mG2wRkJFCa\n",
       "9wNYTBwhDfL2XpCZTSCbfoDFeBfApYHBzKYJpLf8v83A5f8J7HTu0GyobOz/yFDPBvSA5hOBByoE\n",
       "AACybDqZ9wimeQAAAABJRU5ErkJggg==\n",
       "\" style=\"display:inline;vertical-align:middle;\" /></a></span>"
      ],
      "text/plain": [
       "{A proper_subset B, B = D} |- A proper_subset D"
      ]
     },
     "execution_count": 111,
     "metadata": {},
     "output_type": "execute_result"
    }
   ],
   "source": [
    "# transitivity when other relation is an equality\n",
    "A_properSubset_B.apply_transitivity(\n",
    "        B_equals_D, assumptions=[A_properSubset_B, B_equals_D])"
   ]
  },
  {
   "cell_type": "code",
   "execution_count": 112,
   "metadata": {},
   "outputs": [
    {
     "data": {
      "text/html": [
       "<span style=\"font-size:20px;\"><a class=\"ProveItLink\" href=\"../__pv_it/theorems/81f49a06ba9c23797bdfafb3065c419bc23ed9230/expr.ipynb\"><img src=\"data:image/png;base64,iVBORw0KGgoAAAANSUhEUgAAADsAAAAPBAMAAACo4Ko7AAAAMFBMVEX///92dnYiIiIQEBBERERU\n",
       "VFS6urqIiIjc3NxmZmaqqqru7u6YmJgyMjLMzMwAAADiRdoGAAAAAXRSTlMAQObYZgAAAO1JREFU\n",
       "GNNjYACBtwzogCf+68wQNyjnPoY0A7MDA8P8BxCl9zdgSL8/wMCQPwHM3DW/ASJ2RElJSQ/CrAcK\n",
       "nS8AMw/UJ4DpXgmEbmcGBm4jsKFsG9YfAAtpIBn+lYHhUTSYtY3hPdgUzgUIWb6vZ0q0IMwEhn6w\n",
       "G5iQNLP/YGDYHABWGDkz3gHEaEWSZjEAKvkFthroyQsgxhYkaX6gTvbvIBbQRiYDdMNB3mb9BmRw\n",
       "AKV5P4CEGAsQ0iBvvwdZ2QSy6QdY7BZC+jLQUhOgt7f8v83A5f8J7PStYbDAjf0fOdVlAXpAP3SC\n",
       "ByoEAACTQj18dtZaDQAAAABJRU5ErkJggg==\n",
       "\" style=\"display:inline;vertical-align:middle;\" /></a>, <a class=\"ProveItLink\" href=\"../__pv_it/demonstrations/5dbcc3c75df933ff54827bec44f40ac9496287e20/expr.ipynb\"><img src=\"data:image/png;base64,iVBORw0KGgoAAAANSUhEUgAAADsAAAARBAMAAACRPMnQAAAAMFBMVEX////MzMy6uroyMjIiIiKq\n",
       "qqoQEBB2dnbc3NyYmJhmZmZUVFRERESIiIju7u4AAACOKgoaAAAAAXRSTlMAQObYZgAAAPxJREFU\n",
       "KM9jYGDgu7NrJ0cBAyrg3P971Z5DINa1CQysyyYAGY9dXFzOwuTZDjAwrBdgYHjjB+Ssb4CKvjSC\n",
       "MuSBGvQXMDCYPQBy1OCmPoYqvA+k519g4PoK4kjBpRkNIPQxoKNSHjD0O4A4LxCOsoBQvxkYRPYx\n",
       "MNRfQHNzKcSQ3zPvuAJpfwE06UVgkvcHA8OzDQwM+SCXMTxASEPs5kkAKgE6yx/EYUUYwboBTPED\n",
       "Kd6/UB+zIzSLPIB7m/sTA0M/yGl1MEk+rRMIb8sDA471JwNDFEQHMFB9SqHqzBgYmHJAwq9O71Jg\n",
       "QAeb/+9afSaAgYoAFKEuLhuQhQCs00Y3UXordgAAAABJRU5ErkJggg==\n",
       "\" style=\"display:inline;vertical-align:middle;\" /></a> <a class=\"ProveItLink\" href=\"../__pv_it/demonstrations/d312caf2beb8059322e8d4cca042e7b680e9ace80/proof.ipynb\" style=\"text-decoration: none\">&nbsp;&#x22A2;&nbsp;&nbsp;</a><a class=\"ProveItLink\" href=\"../__pv_it/theorems/7d3069e199791c25389a812f4ca9748b3064207b0/expr.ipynb\"><img src=\"data:image/png;base64,iVBORw0KGgoAAAANSUhEUgAAADsAAAAPBAMAAACo4Ko7AAAAMFBMVEX///92dnYiIiIQEBBERERU\n",
       "VFS6urqIiIjc3NxmZmaqqqru7u6YmJgyMjLMzMwAAADiRdoGAAAAAXRSTlMAQObYZgAAANtJREFU\n",
       "GNNjYACBtwwYgLskMoZDAMK+jyldfICBa/IBMJPn/gZ02S3aQGJ+A5i9C0ozHFFSUtIDsy6DNCRD\n",
       "RA/UJ4DpXgmYZs5fIPIlmM22YT3EEg242f0KIHIHmL2N4X0BWMsCuLR8AcIZCQz9E0A0E0JI/wGc\n",
       "yRc5M94BxGhFSNuDvQIm2BgYmC+APYOkG0RwgY0A2shkgGY42KeMIBYHUJr3A4jFiHBPP4gpDWI1\n",
       "ATHLD7DgLbg01x8GhpUgq7f8v83A5f8J7PStYfDA3ekamYARDw+dYIEKBQCOpjXOgAe5jAAAAABJ\n",
       "RU5ErkJggg==\n",
       "\" style=\"display:inline;vertical-align:middle;\" /></a></span>"
      ],
      "text/plain": [
       "{A proper_subset B, C supseteq B} |- A proper_subset C"
      ]
     },
     "execution_count": 112,
     "metadata": {},
     "output_type": "execute_result"
    }
   ],
   "source": [
    "# transitivity when other relation is a SupersetEq\n",
    "# ProperSubset(A, B) and SupersetEq(C, B)?\n",
    "A_properSubset_B.apply_transitivity(\n",
    "        C_superset_eq_B, assumptions=[A_properSubset_B, C_superset_eq_B])"
   ]
  },
  {
   "cell_type": "code",
   "execution_count": 113,
   "metadata": {},
   "outputs": [
    {
     "data": {
      "text/html": [
       "<span style=\"font-size:20px;\"><a class=\"ProveItLink\" href=\"../__pv_it/theorems/81f49a06ba9c23797bdfafb3065c419bc23ed9230/expr.ipynb\"><img src=\"data:image/png;base64,iVBORw0KGgoAAAANSUhEUgAAADsAAAAPBAMAAACo4Ko7AAAAMFBMVEX///92dnYiIiIQEBBERERU\n",
       "VFS6urqIiIjc3NxmZmaqqqru7u6YmJgyMjLMzMwAAADiRdoGAAAAAXRSTlMAQObYZgAAAO1JREFU\n",
       "GNNjYACBtwzogCf+68wQNyjnPoY0A7MDA8P8BxCl9zdgSL8/wMCQPwHM3DW/ASJ2RElJSQ/CrAcK\n",
       "nS8AMw/UJ4DpXgmEbmcGBm4jsKFsG9YfAAtpIBn+lYHhUTSYtY3hPdgUzgUIWb6vZ0q0IMwEhn6w\n",
       "G5iQNLP/YGDYHABWGDkz3gHEaEWSZjEAKvkFthroyQsgxhYkaX6gTvbvIBbQRiYDdMNB3mb9BmRw\n",
       "AKV5P4CEGAsQ0iBvvwdZ2QSy6QdY7BZC+jLQUhOgt7f8v83A5f8J7PStYbDAjf0fOdVlAXpAP3SC\n",
       "ByoEAACTQj18dtZaDQAAAABJRU5ErkJggg==\n",
       "\" style=\"display:inline;vertical-align:middle;\" /></a>, <a class=\"ProveItLink\" href=\"../__pv_it/demonstrations/ac767654c18c1524162f75468a0e3c159bd7bd780/expr.ipynb\"><img src=\"data:image/png;base64,iVBORw0KGgoAAAANSUhEUgAAADwAAAAPBAMAAABKPLFCAAAAMFBMVEX///8iIiLc3Nzu7u6qqqq6\n",
       "urp2dnbMzMyYmJgyMjIQEBBUVFRmZmZERESIiIgAAABzTYE0AAAAAXRSTlMAQObYZgAAAPJJREFU\n",
       "GNNjYGB4+//O6Vv/GNBA9/89p+8GgFg/gfgGujTDWgYGnu9Amv0bkGhFl2X/wcDA+gfI4PsKJNxB\n",
       "IoKCgrINUGm+TwwMHCArOT8zMDE4Q0WZMhUgDN4FDAxWwkAGvwCDBsJQJgEIzb+BgV3aAMiIP8Cw\n",
       "CclSHwhVv6PvogOIkT9n1wIkaUYI9V6BgXk1iDHfgHkDkjQ3xPJbICUg7R8ZmB2QpHkNwNRvkPQD\n",
       "oOe+oXqYEe5thv3AUGP7iir9DO5t9r8g1R9QZFkmgClOoGujLjMw2Mz/fQhJ1nQ32Gru+b/P7L2C\n",
       "FszAQL1WgCIEAOrpPY/B6IuoAAAAAElFTkSuQmCC\n",
       "\" style=\"display:inline;vertical-align:middle;\" /></a> <a class=\"ProveItLink\" href=\"../__pv_it/demonstrations/429b8f999ef51b44699cc836da6c9fc5692f34e40/proof.ipynb\" style=\"text-decoration: none\">&nbsp;&#x22A2;&nbsp;&nbsp;</a><a class=\"ProveItLink\" href=\"../__pv_it/demonstrations/c6bb0cbe7647393949aa1794c4af9e2e73ee99cf0/expr.ipynb\"><img src=\"data:image/png;base64,iVBORw0KGgoAAAANSUhEUgAAADsAAAAPBAMAAACo4Ko7AAAAMFBMVEX///92dnYiIiIQEBBERERU\n",
       "VFS6urqIiIjc3NxmZmaqqqru7u6YmJgyMjLMzMwAAADiRdoGAAAAAXRSTlMAQObYZgAAAN1JREFU\n",
       "GNNjYACBtwzogN3/y8wQ+wII5z6GNAP/BQYGlgNgJs/9DRjS7wWA4glg5q75DRCxI0pKSnoQZj1Q\n",
       "iusBmHmgHqKsVwKhG2hgAxfYULYN6yGWaCAZ/omBAyLIsI3hPdiJnAsQsmw/GVihNiYw9E8A0UxI\n",
       "mhn/TjWGsPgiZ8Y7gBitSNK8vxm2Qs1hYGC+AGJsQfa2AsMuCAtoI5MBuuH5AlAGB1Ca9wPYvgKE\n",
       "tHwClNEExCw/wMxbCGl9KL3l/20GLv9PYKdvDYMGLvfc/5ENmPHw0AkeqBAAAL/NNfL4EznGAAAA\n",
       "AElFTkSuQmCC\n",
       "\" style=\"display:inline;vertical-align:middle;\" /></a></span>"
      ],
      "text/plain": [
       "{A proper_subset B, F proper_superset B} |- A proper_subset F"
      ]
     },
     "execution_count": 113,
     "metadata": {},
     "output_type": "execute_result"
    }
   ],
   "source": [
    "# transitivity when other relation is a Superse\n",
    "# SubsetEq(A, B) and ProperSuperset(F, B)?\n",
    "A_properSubset_B.apply_transitivity(\n",
    "        F_superset_B, assumptions=[A_properSubset_B, F_superset_B])"
   ]
  },
  {
   "cell_type": "markdown",
   "metadata": {},
   "source": [
    "### `ProperSubset.deduce_in_bool()`"
   ]
  },
  {
   "cell_type": "code",
   "execution_count": 114,
   "metadata": {},
   "outputs": [
    {
     "data": {
      "text/html": [
       "<span style=\"font-size:20px;\"> <a class=\"ProveItLink\" href=\"../__pv_it/demonstrations/52e6946c7710e115100f2c2b2cd61f25265b65710/proof.ipynb\" style=\"text-decoration: none\">&nbsp;&#x22A2;&nbsp;&nbsp;</a><a class=\"ProveItLink\" href=\"../__pv_it/theorems/4f34fa454fb26ab0d4fa298f333718752f9ac0780/expr.ipynb\"><img src=\"data:image/png;base64,iVBORw0KGgoAAAANSUhEUgAAAHEAAAAUBAMAAABIac8KAAAAMFBMVEX///9UVFTMzMx2dna6uroQ\n",
       "EBCqqqqIiIgiIiJmZmYyMjJERETu7u6YmJjc3NwAAAC+aOQFAAAAAXRSTlMAQObYZgAAAcxJREFU\n",
       "OMtjYOC7wIAXsD3AJXMaQmlhSPDKf5wpvYWBQQ5NvCJ6/9JGByBjHYS/HtNM1g0MDPMVGE6hiy9Q\n",
       "59kzF2jyBIgF6w9g6NQH+sN/AgNzAZr4Bl+GIm4GBg6IN47Nh3rndkdHRxOEWQ8Uul/AwBMAdf2O\n",
       "ji6YzjSgzhcQ4Qv1DmD6lR3C7K0MDDwRQKcsAfOYth9A2GkCDJ1KMIflQD4kiPuQXPWRgUFDBkhb\n",
       "gnmnDiBcy9IkxMCwF8w5wqAP9g1nAkIj08e71W0gxi0wFxHEG1z7vwJdCJZjcGB4Dw4pDiQr2f8x\n",
       "MBwVADIyIOqRQ8j2MgNDCNh4yZnyYJmHSDq5gSHD/g0UxmAlUauAAKaTm+UCRCcLMPIWICULMOAH\n",
       "2sf+HaaTD8VObgYBiGuBvuMIQHctKDoZvwAZHmBuALJORoYF4BDiA+rk+gASRI51UHTqb4CH0HQU\n",
       "O3kNwEEOilPuf2DRZQidS4G+iAZFxWQwlwMe7AuUGYwngp1y+v8aBrb9P8CBe1AEFm1S/yUn7gar\n",
       "XgTm80j7oKZ4DrRMpLwDnvqggKcBQrNYQ1MfLC9NYCAAMFI8DOwjpPMUgZyNG+A0mlBpwoujNAEA\n",
       "7Ap8tIEbFGYAAAAASUVORK5CYII=\n",
       "\" style=\"display:inline;vertical-align:middle;\" /></a></span>"
      ],
      "text/plain": [
       "|- (A proper_subset B) in BOOLEAN"
      ]
     },
     "execution_count": 114,
     "metadata": {},
     "output_type": "execute_result"
    }
   ],
   "source": [
    "# Proper subset claims are Boolean values\n",
    "A_properSubset_B.deduce_in_bool()"
   ]
  },
  {
   "cell_type": "code",
   "execution_count": 115,
   "metadata": {},
   "outputs": [
    {
     "data": {
      "text/html": [
       "<span style=\"font-size:20px;\"> <a class=\"ProveItLink\" href=\"../__pv_it/demonstrations/02020174fa9dfab65933c2c8e6a44b08784929e70/proof.ipynb\" style=\"text-decoration: none\">&nbsp;&#x22A2;&nbsp;&nbsp;</a><a class=\"ProveItLink\" href=\"../__pv_it/demonstrations/5012f349a5ecf3c91948904bd82ecbbf88c652810/expr.ipynb\"><img src=\"data:image/png;base64,iVBORw0KGgoAAAANSUhEUgAAAP8AAAAVBAMAAAB7+SUdAAAAMFBMVEX////MzMxUVFR2dna6uroQ\n",
       "EBCqqqqIiIgiIiJmZmYyMjJERETu7u6YmJjc3NwAAACgK8IjAAAAAXRSTlMAQObYZgAAAxlJREFU\n",
       "SMeVVk1oE0EUft2kMcnuJgEPIh6MXpQWJFBLIqWQS6CHSiIUD2phL4pCwRSEGPCgFTSIaDDQgCCu\n",
       "jR70IHsp9uBPro2HBDwpFhdPPXrRg+Tg7LzZn9ndWczAsm/mfW/2m5n3vR0A2r6OQNAO3woZVJ/B\n",
       "BG2q249yZ8i3BwWxv5ILDCk9mKjFzwEkTJH3M3l+cNNv3/Z2U3pwA35F4Nmqt9ue3lPynPIhbl78\n",
       "9GqjTIy35ClxrrQ3FmLB6X1DPJ61rObpWPMP/Aj9kPKeHKXaDhDgYv+DAI9nrdr3EYjVfQjjLKzL\n",
       "AEkzQICLdb+m7rRarVwIgWpYjpX8HaXmTPPAJnCFENgPoH09+2uZninYgVJYar0OIF5icrzruztw\n",
       "miRg0wZkOt1L6NlqbDJMsZGDGGOeNHlOIjwl21n/wzK02CRx85Z5hg4M+u4RxO8cA/hg2TOW3Mw0\n",
       "Jrfytz/Ej+1rsu6k/Ka7IEmPwFPpmvIYoUtmpsBU9o0OuGIwKo9/ExXcI2aC6FRZhZRBHYkxZDFh\n",
       "7oKkOZvp2fbLuSg8+pCJch52c0wnV/Gz3iRc/AKwQo5lhywgNYZk3Rb+kBamFK5Cuk93Ne9EHnkE\n",
       "UXj0YWmTVhvfrfdJAj1KU+DCG9JsAnJ8ZBGglWragGHOlnWVLmQa2W7hWgy+OIrx6CujQpF22npR\n",
       "AhluB2TI0yOAWbAWcZ3JegTPaabguuwc8ByBZETggfPhEM2BJWrWvAQk0DEJiQqGGsxgvc6WyRmy\n",
       "mUFzVFDklSnEg9dnnUSdqQCTsMvtgFpAcRACcl3diMGQ5I40ktvUSOWtDLJFn9Y4AiK8Zbi+Azrs\n",
       "mqwOdFDNzjT6QZh7wjaGAJQT6z9vQPIhsbqLQA2Y26u7VUc5vuwlIMLTEccHzb2RXYhe4DSzy/zP\n",
       "yFeK1wKGU/amFkJK8ZrY8Fi0FLOg+AIrxXaFtyQ673QLASPsZ1SLwBeCvvCfkd0+eu8DSt1vRN8H\n",
       "gng30LXofWAQdSFJ22RV8BtQKQdjeiDEu4GuFV9hCxVeyeDaZHfCxOR3QlVwJfsHhtD9OjNlSMoA\n",
       "AAAASUVORK5CYII=\n",
       "\" style=\"display:inline;vertical-align:middle;\" /></a></span>"
      ],
      "text/plain": [
       "|- ({a, b, c} proper_subset {a, b, c, d, e}) in BOOLEAN"
      ]
     },
     "execution_count": 115,
     "metadata": {},
     "output_type": "execute_result"
    }
   ],
   "source": [
    "# Proper subset claims are Boolean values\n",
    "set_abc_properSubset_set_abcde.deduce_in_bool()"
   ]
  },
  {
   "cell_type": "markdown",
   "metadata": {},
   "source": [
    "### Testing the `SubsetEq` class methods\n",
    "<br/>\n",
    "<font size =3>The <span style=\"font-family=courier\">SubsetEq</span> class has the following class methods:<br/>\n",
    "    <div style=\"width: 50%; border: 1px solid green; padding: 5px; margin: 20px; background-color: gainsboro; font-family:courier;\">\n",
    "    <ul>\n",
    "    <li>derive_reversed(self, assumptions=USE_DEFAULTS)</li>\n",
    "    <li>conclude(self, assumptions=USE_DEFAULTS)</li>\n",
    "    <li>conclude_via_equality(self, assumptions)</li>\n",
    "    <li>unfold(self, elem_instance_var=x, assumptions=USE_DEFAULTS)</li>\n",
    "    <li>derive_superset_membership(self, element, assumptions=USE_DEFAULTS)</li>\n",
    "    <li>conclude_as_folded(self, elem_instance_var=x, assumptions=USE_DEFAULTS)</li>\n",
    "    <li>apply_transitivity(self, other, assumptions=USE_DEFAULTS)</li>\n",
    "    <li>deduce_in_bool(self, assumptions=USE_DEFAULTS)</li>\n",
    "    </ul>\n",
    "    </div>\n",
    "</font>"
   ]
  },
  {
   "cell_type": "markdown",
   "metadata": {},
   "source": [
    "### `SubsetEq.derive_reversed()`"
   ]
  },
  {
   "cell_type": "code",
   "execution_count": 116,
   "metadata": {},
   "outputs": [
    {
     "data": {
      "text/html": [
       "<strong id=\"set_13\">set_13:</strong> <a class=\"ProveItLink\" href=\"../__pv_it/demonstrations/583bab243b91edf95291b6b1e221b502ce15d4230/expr.ipynb\"><img src=\"data:image/png;base64,iVBORw0KGgoAAAANSUhEUgAAADAAAAAVBAMAAADyTXAxAAAAMFBMVEX///+IiIi6urrc3NxERETM\n",
       "zMwQEBCqqqpUVFQiIiJ2dnYyMjLu7u5mZmaYmJgAAABN0h6tAAAAAXRSTlMAQObYZgAAANhJREFU\n",
       "KM9jYGDgu8eABmJlQCTPLgYMoBYAJPg+IAsxr1pSwMDAuwHI5JoAEig7AJGwZWD/BxUDETxd/VAJ\n",
       "+QKGn0gSDAzvoRJqCgy/sUowoBqFLHFyAVAsAcjg2IAiYTX3ANSlZQGoOhiTgMReBoaQyQyoEgxp\n",
       "QCbHRKgv4RLGDAz+QB/uANnhgCzx/wBIAmwHqqtSGBjmH4C4CiIhf4CBB+gzhndo/riRv/cBw0yg\n",
       "Lqa7VxRQPAj2M9xlEIkEOJcBRQIRHwfhEuD4YIDH4ANEDCqAjcYa5wB8I0pFFMHetQAAAABJRU5E\n",
       "rkJggg==\n",
       "\" style=\"display:inline;vertical-align:middle;\" /></a><br>\n",
       "<strong id=\"set_1234\">set_1234:</strong> <a class=\"ProveItLink\" href=\"../__pv_it/demonstrations/fb85f5a90f0d7a54e867010d97cbd5fbcdf682870/expr.ipynb\"><img src=\"data:image/png;base64,iVBORw0KGgoAAAANSUhEUgAAAFcAAAAVBAMAAADBdm84AAAAMFBMVEX///+IiIi6urrc3NxERETM\n",
       "zMwQEBCqqqpUVFQiIiJ2dnYyMjLu7u5mZmaYmJgAAABN0h6tAAAAAXRSTlMAQObYZgAAAXFJREFU\n",
       "KM+Nk71Lw0AYxp+09tOYdHJ2chOy6iBFBNcMroIUlQrO4qDoJHSxBRcVwQ4itlDoKC6mW3GxnW1K\n",
       "/gPFwaIt1PtMckSxL9zdk4cflzdP7gAYffxfia5DF/0Rk1Rsm87Ge9jT3VWbq6X6mu9ukPFKRbZC\n",
       "ptSesNvIfjAR7+DYk/AFGTUJt+9Hwu4BO0xoA5gVYWrFMAxDwrtA2WI9FmA2hbn88Dv85KAsmg7a\n",
       "qP4Bk7pxxLdeCcOwKHxHZbqpwrFvvsZrPeG0QOE3KvdtFc6cSDU7J7pg8HQHWD+HCru+SvI8UzaD\n",
       "UcoB8+rOWkd0YWFqwNQz+M70jem8Ah9RjJQ5kvCB6352Rc9qGokqNAYn88j4OxRlGgzWiP9CY1ms\n",
       "N0pMGR7JWR9yeCuc88zpsI/MNf0p4/EXVwvuCnDJMr8dn4V/CqtDRFTK8T0Ob8rHKiIqCxX2z7Oe\n",
       "Q0S1ApidZ8ibYvh+oLzgFBR4XxPfwR9wqXD5z5LFIAAAAABJRU5ErkJggg==\n",
       "\" style=\"display:inline;vertical-align:middle;\" /></a><br>"
      ],
      "text/plain": [
       "set_13: {1, 3}\n",
       "set_1234: {1, 2, 3, 4}"
      ]
     },
     "execution_count": 116,
     "metadata": {},
     "output_type": "execute_result"
    }
   ],
   "source": [
    "set_13, set_1234 = Set(one, three), Set(one, two, three, four)"
   ]
  },
  {
   "cell_type": "code",
   "execution_count": 117,
   "metadata": {},
   "outputs": [],
   "source": [
    "# Needs to already know or be able to prove the SubsetEq before\n",
    "# deriving the reverse:\n",
    "# try:\n",
    "#     SubsetEq(set_13, set_1234).derive_reversed()\n",
    "#     assert False, \"ProofFailure expected. Should not make it to this point.\"\n",
    "# except ProofFailure as e:\n",
    "#     print(\"Proof Failure: {}\".format(e))"
   ]
  },
  {
   "cell_type": "code",
   "execution_count": 118,
   "metadata": {},
   "outputs": [
    {
     "data": {
      "text/html": [
       "<span style=\"font-size:20px;\"> <a class=\"ProveItLink\" href=\"../__pv_it/demonstrations/790ae6e1bae33c9402ea374af65e38e975931f0e0/proof.ipynb\" style=\"text-decoration: none\">&nbsp;&#x22A2;&nbsp;&nbsp;</a><a class=\"ProveItLink\" href=\"../__pv_it/demonstrations/c7e1fd66c046b78c57e7e88a8c151f31ea2955e30/expr.ipynb\"><img src=\"data:image/png;base64,iVBORw0KGgoAAAANSUhEUgAAAKUAAAAVBAMAAADVzzOcAAAAMFBMVEX///+IiIi6urrc3NxERETM\n",
       "zMwQEBCqqqpUVFQiIiJ2dnYyMjLu7u5mZmaYmJgAAABN0h6tAAAAAXRSTlMAQObYZgAAAi9JREFU\n",
       "OMudlT1IHEEUx99qzvXu1j2r1KnSBbZNiiAiiFZX2IVACDkxYHFVuCJHLIIggSjEwhXBLeTwhICQ\n",
       "xqTxTHWYIh7YnSv2IhcsFPXg3H3z5mt3oiEDu/vmzfv/dj7ezACAewz3l0yrYfCenZjDnB/wL6Wv\n",
       "lPb9Cv4S5v5RfU44VmTWs61x4X0ZPe00s6PVmADDckvRy56lhibkztHoP4APYmQr0VNn//zu+8vD\n",
       "5EYXl5KgzpnNzS6FHQFMo2FdQmGJnNaMYCL39JFkCikJBBNcznwLsOjhxLyGwjY5n+9oTHC+Kf3k\n",
       "UhIYmLsNWKQJlWMPEkx4YWCSwMCMyjpljbNKDteLmTWFmfdMTBRg2OC2zuy7pjmvH5FnD3YSi5wr\n",
       "4+eTxmQCDHtX1JnZOW49pKUIkJk/kMwhbLFLibHHgjhs6kuiIRTWAMsSu4hMWBiWY8c9M+ElpCiI\n",
       "wx7r/bSoO/0ePLhEax9YP+dkPyvqnulqAgwbHNGY1bgxKoUuZ1bC8KKlzWdmjX0/qkwSdNLrngnA\n",
       "QubACGTFj2a0df956BlyiQQ1wbSi2u84AZ5ufV1Ayz2J0s25YfFvtL05WVb3JpeiQMnPofmbY8jG\n",
       "I9rt9a6Y9SQcBfAxVzd6n/WcV5hSigIl57G8h5RlNzSAgZmUMuYrXpWnobBycBezlhbQHPPz0xH5\n",
       "J609CWiL+fT9lcT5KQUUxs95V/ilJe+G6NhJlXyQElCY/f/3UdV4H90C2IvFprwslrEAAAAASUVO\n",
       "RK5CYII=\n",
       "\" style=\"display:inline;vertical-align:middle;\" /></a></span>"
      ],
      "text/plain": [
       "|- {1, 2, 3, 4} supseteq {1, 3}"
      ]
     },
     "execution_count": 118,
     "metadata": {},
     "output_type": "execute_result"
    }
   ],
   "source": [
    "# but if we establish the SubsetEq manually first, works fine:\n",
    "set_1234.deduce_enum_subset_eq(subset=set_13)\n",
    "SubsetEq(set_13, set_1234).derive_reversed()"
   ]
  },
  {
   "cell_type": "code",
   "execution_count": 119,
   "metadata": {},
   "outputs": [],
   "source": [
    "# shouldn't work with variables until we supply more info\n",
    "# try:\n",
    "#     SubsetEq(set_abc, set_abcde).derive_reversed()\n",
    "#     assert False, \"Expecting a ProofFailure. Should not make it to this point.\"\n",
    "# except ProofFailure as e:\n",
    "#     print(\"Proof Failure: {}\".format(e))"
   ]
  },
  {
   "cell_type": "code",
   "execution_count": 120,
   "metadata": {},
   "outputs": [
    {
     "data": {
      "text/html": [
       "<span style=\"font-size:20px;\"><a class=\"ProveItLink\" href=\"../__pv_it/demonstrations/18f081e58cd34774ad10c60f967884fc64e1380e0/expr.ipynb\"><img src=\"data:image/png;base64,iVBORw0KGgoAAAANSUhEUgAAAGYAAAAVCAMAAACDt2s/AAAAQlBMVEX///9jY2MJCQkNDQ0rKysP\n",
       "Dw8WFhZUVFSYmJiIiIjc3NwyMjIiIiJ2dnbu7u66urqqqqpmZmYQEBBERETMzMwAAADVO6QiAAAA\n",
       "AXRSTlMAQObYZgAAAZ5JREFUSMelVu2WhSAIdD+VVBSx93/VtW7dULPu7vqjc8RRBhg0pYYjN3ND\n",
       "Rv12ZAK8gbhqhtarv4yQJN3MiRoiuo5lHp6EnNzYD9lqOsdmOVRTf3GSsjReqzeGGa9ydu2mpTje\n",
       "WM0Mu+8vZ19101EcbxRxZy7y4On1aC4jfS5O5CEfcaPF5XOBJkgVfasBqMmbB4BVYz7tkivE+Yhb\n",
       "L3EANG60FWhbyQ7nQgxnGf7kile2QqKYTC07Xgk22Y6b/Dc0V2srxVkSc0uT6SjKQSvIPZsvJ2vt\n",
       "50f5WFEtt3Hd0NB1Bs6ifanShF7giVfQs0umZe7joJk3dO7UE6SoE1eVe7KIItmpb5qFEqtT9JIu\n",
       "0wRQRfaoDa4sSoHjXkICFWigyx69uAl7zSrHhY5QGpfEGafVQcBFnUfyF+gisC3QciiTEhZa80RZ\n",
       "bMQi+jxpOK4w1O8BB24k2rkHCgn8g/5uUd4bA3e9a948O3d/2US8t1y4aS8a2cyV7QXL2A3yWYT9\n",
       "e4Nwb+nem2PA6WPcv549zJy9nmGUs3Nz/Me/wA8byRZzI7+IVgAAAABJRU5ErkJggg==\n",
       "\" style=\"display:inline;vertical-align:middle;\" /></a> <a class=\"ProveItLink\" href=\"../__pv_it/demonstrations/91059992ed42307e7ff567a274d8d5918fc55a550/proof.ipynb\" style=\"text-decoration: none\">&nbsp;&#x22A2;&nbsp;&nbsp;</a><a class=\"ProveItLink\" href=\"../__pv_it/demonstrations/caa493851adebba84568c68ec5266a0e71a8040f0/expr.ipynb\"><img src=\"data:image/png;base64,iVBORw0KGgoAAAANSUhEUgAAAMkAAAAVBAMAAAAeFNdiAAAAMFBMVEX///+IiIi6urrc3NxERETM\n",
       "zMwQEBCqqqpUVFQiIiJ2dnYyMjLu7u5mZmaYmJgAAABN0h6tAAAAAXRSTlMAQObYZgAAAoxJREFU\n",
       "SMetVU1oE0EUfiZpd7OZJJtCLkKgp4Cn7FFvPRVUhBy8eSnFIoKUnMSD0hQEkYIICnbFw/ZSWA8l\n",
       "4EXFwlbEi4RNQFEq6HpWW38OggZx/nZnJjvbUHAOu9+89+17b97PDgBUPsAh1tQw0Ei/RhP46Ckc\n",
       "auWW0rJX3iR+5ZssQ/O3NfHMD6Td+zRhX9m9uKhsKd9SzZYGmniqHWnjs3CeuO5dWxEla1vZ+Rov\n",
       "isF4tYKUF+rp86zWy6+JXlq64voZG/RI5yU3mujF11VwO4txTveRziKV5XeHl5jsce0t127U2vSd\n",
       "363zFKCNhgOwKVfRSQwJE6XVBk+7VatzvtnDj6ZTYq2G/gQh+/JEp9CjoOkUeAqOOXlPbSiLmVuT\n",
       "TUD4DP1k8d2D05x/GUeMlqE8RxXGCKqsc+6DSU0QHXOHLkC/rXZhmZbfWJJNwEoA3ykoenCD8c/e\n",
       "IeQRFJltbDCkI1aOS0h0bOjM5doX8r5pi4zRcTrpyCbwgKDfFHxknUT4TRze9ByE7XhcWvQI0zww\n",
       "qmMNW+0ySlec5Uoy3sIE7pUcK+R5wTexORz+Ch+XiEcQxj8NSeeND/rUA/a+LtPgL08EP9F+3GNh\n",
       "B9YMWvTqLE4wdwf0UEJHEmfLPfb8tZM0q6DBD3gZcXdgcD7xUrAr6xaEuMhmVBhQUO7iUhMgdEd6\n",
       "0HfkP8ypjhgJQYNbcAb3KgbvAL2R5gWt1o/PQBGfHw23gAJ4uGczSaKDxl6kn1tfofWPYpqL825t\n",
       "fdLM/tVsICH/oD9QQjMCdfYXEoqXDSSk8bKZplkqX9wvyM4EEuL3C6mL666P3S+CtjPGT+7KSjaQ\n",
       "UG4xfZaSl6JFY3zjP9z71w6+9/8B3xbU0aozqMgAAAAASUVORK5CYII=\n",
       "\" style=\"display:inline;vertical-align:middle;\" /></a></span>"
      ],
      "text/plain": [
       "{d not-in {a, b, c}} |- {a, b, c, d, e} supseteq {a, b, c}"
      ]
     },
     "execution_count": 120,
     "metadata": {},
     "output_type": "execute_result"
    }
   ],
   "source": [
    "# OK once we have enough info about the variables\n",
    "SubsetEq(set_abc, set_abcde).derive_reversed(assumptions=[NotInSet(d, set_abc)])"
   ]
  },
  {
   "cell_type": "markdown",
   "metadata": {},
   "source": [
    "### `SubsetEq.conclude()`"
   ]
  },
  {
   "cell_type": "code",
   "execution_count": 121,
   "metadata": {},
   "outputs": [
    {
     "data": {
      "text/html": [
       "<a class=\"ProveItLink\" href=\"../__pv_it/demonstrations/f6e0d279a8f3dca3a3696eec21322c656dc4fa5e0/expr.ipynb\"><img src=\"data:image/png;base64,iVBORw0KGgoAAAANSUhEUgAAAM0AAAAVBAMAAAAX/3cYAAAAMFBMVEX///+IiIi6urrc3NxERETM\n",
       "zMwQEBCqqqpUVFQiIiJ2dnYyMjLu7u5mZmaYmJgAAABN0h6tAAAAAXRSTlMAQObYZgAAAopJREFU\n",
       "SMedlj1oFEEUx/9352Vzm9twlZXgVakPbPwgmsJGCOQKKyEQJAYFxWsUC4XTQkhhooiQBcUFg8SA\n",
       "cGChBNQNWJw2XkCrZGNEEEFQURDzgefM7puv7IfoK2bezu5v/ztv3ptZAP2rSLXRXQmDWUCCFZd8\n",
       "3pUXsh4aqMeGsoEEy58Iv+6b8ZLgsHxzsQM4rfh0UoDC/GxDxoH6Z/4oG1vmrn2dNdZputGG/V08\n",
       "XGrSXW6fXNe9hSxgENZvgc5Qf7a7wdoHAmvPbdGNFWBCPLxT0zlwT84gDdjdwDoN5k6Ss3C5puug\n",
       "X2CngOkaxeGzpvMIhk4SMFDFJg0efEJOM2wTdJ77mKZ4231Kx2mk6WiAipv3Vx1md/2o/xDqjEVL\n",
       "hTQdDcBLjzKlJnSm3r9l7X3u9rZMLL9BiVThOpRcezWdNAD775DgIoTOMA5Vga/cPV83sVKTPhtc\n",
       "B0/DixeaThrAlv84hU3qADvY7PtYgRy9CRMLqD8X6fTe2Ba3VIDZRDghq67pOD9YM1mhildYrkNh\n",
       "8yKdiLAr27aIOIA9wEiYLq8ExUPMqyv64CEDu4RCmKbWteDdmYos/sfa+iQD6PqkcyEIfi6FQz0t\n",
       "OFu0Pmb6FD3kqH7Qo/IN7St+cr4pYFzLPKpTh0W8RfkWYjmGveZ5tG/+4WTkMZ0hbd85dsTYdxKA\n",
       "L7x+CB1HmddsoYOPNa1+nKubqyjd5mXX7a5HHuyRX2tKx6yfJCAfvKkSOtudgsvnNji3YtRpaBcR\n",
       "91J00gHpWTLQpDMmLj3EvSSdTEB6NkwdeZyUZe4qT5w/tuvKcyETUN6i0lmO9m5xfqmTTCuWavx8\n",
       "zAKUt6Y2pmibsP71/8D6j/+DP2x+7T053pLPAAAAAElFTkSuQmCC\n",
       "\" style=\"display:inline;vertical-align:middle;\" /></a>"
      ],
      "text/plain": [
       "{1, 2, 4} subseteq {1, 2, 3, 4, 5}"
      ]
     },
     "execution_count": 121,
     "metadata": {},
     "output_type": "execute_result"
    }
   ],
   "source": [
    "SubsetEq(Set(one, two, four), Set(one, two, three, four, five))"
   ]
  },
  {
   "cell_type": "code",
   "execution_count": 122,
   "metadata": {},
   "outputs": [
    {
     "data": {
      "text/html": [
       "<span style=\"font-size:20px;\"> <a class=\"ProveItLink\" href=\"../__pv_it/demonstrations/db46c44f7300d45ff2d63f2e5bd8cb4a54ea030a0/proof.ipynb\" style=\"text-decoration: none\">&nbsp;&#x22A2;&nbsp;&nbsp;</a><a class=\"ProveItLink\" href=\"../__pv_it/demonstrations/b24337c053d7380f5f648bc7ac063da54f271c0f0/expr.ipynb\"><img src=\"data:image/png;base64,iVBORw0KGgoAAAANSUhEUgAAAKUAAAAVBAMAAADVzzOcAAAAMFBMVEX///+IiIi6urrc3NxERETM\n",
       "zMwQEBCqqqpUVFQiIiJ2dnYyMjLu7u5mZmaYmJgAAABN0h6tAAAAAXRSTlMAQObYZgAAAZ9JREFU\n",
       "OMtjYGDgu8eAC7BePIBFlLAGnl0MuAFTKqYYERr4PqBouOsSAGPHAvFtLM4krIFrApBgz4EKn2Dg\n",
       "+gRTMgOIV8I4L2bOnDmVgUgNICUnVvyBCt9hYEiDMhkzkMy0Xgx3GREawNbywZRkMjD0G0CYdjuQ\n",
       "zNzMgGImAQ2oSvYfYOiHhs8CJDN5C3CZiVUDqhIgmA9JP3wGICXLIGKcDLjMxKqBYwOqEqZfEPog\n",
       "A0jJewjHAslMIjSUBaAq4WyA+gSshPsCmHMEyUzCGkImM6AquQuh2APAShg6BdD8TowGNVRrGSEO\n",
       "YzjFALEW4gguAYShRGjgcEBRUsvADE4aFXfvfrsID0+G7UjhSVgDajSyLmBghCY3hgxEvDOcaDqA\n",
       "Pd6xagArYQQqOQ+KT8tVazshLAaGFOS8GeWJkjfxawAp4W37fY+Bcw4oCf///xPCYljyvw/JTNT0\n",
       "SUAD2FowqGHAZOEwk4AGrgQYdwEDJgubmYQ1wItDHnh6QbBg5SfXzJnwso4YDbBimw9R6iLyXRKW\n",
       "spwIDeyk1keENAAAP9vCypfPI4YAAAAASUVORK5CYII=\n",
       "\" style=\"display:inline;vertical-align:middle;\" /></a></span>"
      ],
      "text/plain": [
       "|- {1, 2, 4} subseteq {1, 2, 4}"
      ]
     },
     "execution_count": 122,
     "metadata": {},
     "output_type": "execute_result"
    }
   ],
   "source": [
    "# very simple things working OK\n",
    "SubsetEq(Set(one, two, four), Set(one, two, four)).conclude()"
   ]
  },
  {
   "cell_type": "code",
   "execution_count": 123,
   "metadata": {},
   "outputs": [
    {
     "data": {
      "text/html": [
       "<span style=\"font-size:20px;\"> <a class=\"ProveItLink\" href=\"../__pv_it/demonstrations/609147cdbfc24c5c366756174e77c5c7bbd328850/proof.ipynb\" style=\"text-decoration: none\">&nbsp;&#x22A2;&nbsp;&nbsp;</a><a class=\"ProveItLink\" href=\"../__pv_it/theorems/2ef540aa2a8a2f4b30cc3cb36074ffc8ccb79b2c0/expr.ipynb\"><img src=\"data:image/png;base64,iVBORw0KGgoAAAANSUhEUgAAADsAAAARBAMAAACRPMnQAAAAMFBMVEX///92dnYiIiIQEBBERERU\n",
       "VFS6urqIiIjc3NxmZmaqqqru7u6YmJgyMjLMzMwAAADiRdoGAAAAAXRSTlMAQObYZgAAALBJREFU\n",
       "KM9jYACBtwzYAFz0PpTmCVJSUnqAIXp/A5jmuNiApBkmyrBrPkSYF1kWLspwoD4BTM9CsRomyrZh\n",
       "/QEwQwFZFi66jeF9AdjqAGRpmChDAkP/BBDN7YAsDRPli5wZ74BhOFyUjYGB+QJYSBzZapjoAgYG\n",
       "JgOIxxYgpGGiHEAG7wewEHdoNkwWLtoExCw/oBaKwAIVJrrl/20GLv9PE1BjA7soRUBISQk5QoEA\n",
       "ACxSOHcnMr6fAAAAAElFTkSuQmCC\n",
       "\" style=\"display:inline;vertical-align:middle;\" /></a></span>"
      ],
      "text/plain": [
       "|- A subseteq A"
      ]
     },
     "execution_count": 123,
     "metadata": {},
     "output_type": "execute_result"
    }
   ],
   "source": [
    "# very simple things working OK\n",
    "SubsetEq(A, A).conclude()"
   ]
  },
  {
   "cell_type": "code",
   "execution_count": 124,
   "metadata": {},
   "outputs": [],
   "source": [
    "# but having trouble with other simple things, which seems related\n",
    "# to calling the conclude_as_folded() method:\n",
    "# try:\n",
    "#     SubsetEq(Set(one, two, four), Set(one, two, three, four, five)).conclude()\n",
    "#     assert False, \"Expecting a ProofFailure. Should not make it to this point.\"\n",
    "# except ProofFailure as e:\n",
    "#     print(\"Proof Failure: {}\".format(e))"
   ]
  },
  {
   "cell_type": "code",
   "execution_count": 125,
   "metadata": {},
   "outputs": [
    {
     "data": {
      "text/html": [
       "<strong id=\"example_forall\">example_forall:</strong> <a class=\"ProveItLink\" href=\"../__pv_it/demonstrations/cd5a422f82c0decfbc27853efecabedc1d7364e70/expr.ipynb\"><img src=\"data:image/png;base64,iVBORw0KGgoAAAANSUhEUgAAAawAAAAXBAMAAAClnGadAAAAMFBMVEX///8QEBCIiIhmZma6urrM\n",
       "zMxUVFQiIiJERETc3Nzu7u6qqqp2dnaYmJgyMjIAAAAcRTyBAAAAAXRSTlMAQObYZgAABQ1JREFU\n",
       "WMPVWF1oHFUUPpvZ2d35TcH0IRF064LQKLI0VEtN29U+iCCYUrA+BIytQSNaFh8MaikBK9m0Dw72\n",
       "wQiWjBUqBKkLpUiLYFohhTTQrQpaoXXBn4dqS/An2I10Pfd/ZvZnsrUPeuDM3J0795vz3XvOuecu\n",
       "wO2Uryotu/QN/m1EayY7+/+V7Ue4NsrxuTbDkmvxcqolYodozeSRIQDLY1olDy53MNicYNpEvg/9\n",
       "en/xEG9d83eWAbZiK+W1QIxF+3DTWw24oOfZ3f1OfxhAI1zGmJ4nj692QMv1mDaRc+Ri9bEfRh4+\n",
       "5150d/1v3mtWWyDGoZkjcKEQxYX0CLsn6nVcWrtI1pjpNHlzohOP59rCkGPzNfajawW6i6z5625P\n",
       "mHm2BWIcmuZDYk0UF9ZxWu78euC07CxVFyPZLndA6zWuSr4dH6+q+XW4Icke6OZrM6J6P1DDpoKI\n",
       "cWiJIqRuRHGNK5xWil4pLXMNVWdhdvbdDlgZRaZKnu4PuY0wBEU4S4CWW1DjAoixaG4NUn9GcW23\n",
       "kRb8yPSvUmlfB7S68kzNe8YepR5lXoUWtEyB+/KXG/F6hn46L9928gpxFWiQrkVxL0lal3OYBW3q\n",
       "pV8wHQ24A5XhCug02OzciyTbjB6p6PfJ3kyF6cfwTXY/hJPb3pAhxrnNvHUQZgo8sznEf7RxKr8r\n",
       "xHg0gCfnIrhmVtDK+MYf+O4SaV9huj2Snow+0Afocm6BTcSX68v4NbmHpMtMF+CC/ziFlCOttRFD\n",
       "1kmPyyCgS1bHCnic9YtEXA3aq1FcGwQtlEnUH0jjU6Zp6BL50vxsoAIWkkzSjw/SCU6exKRiSeaJ\n",
       "AlMfSuzBjusopFuf9CKGJPpESyPh/jwmKX0puOH2CMRVoGn5KO7JIK1t+HrqFWw8w9SupGUSOjUL\n",
       "AVrAVmsImtEC+I09mA7XEdIQw4PMCvP8KtjoI9SGIC3jJU8gxqIB5CCCa85JWuivZFf7GRQto/oU\n",
       "2U823juUpPMRoGUS5OSGnB+gJZwQdJ6YEsrOF4KGdNcErUQVtBqPLYqsXWfiScRYNLDy8F4Y19oz\n",
       "sO2OLH12F66Wz2PrMa5Tz2E28vemCy5EaD1ABhkFZyJAS6SM011LQHOxlm2euxITIndpaHqVZ0JH\n",
       "xXGyqhBj0WAYYH0EF9t8tXA99otMyFMGnEAOOlzDsou5zFzYCbHzBpi94mMkQ6MmVzJLBovJN8KG\n",
       "dOE3P0GLnQruL+ZNVu5c9HivpurX475EjEcz9i0+WKRoCpdSJJ1wGJxesW8Ncu2mE4QxvatUKmX1\n",
       "N0HRmimTssXEwNglzCFdqObu/hwvkI8d8AOGaM/e3ALp17G1feAAwDjpOzy/WW7HQ9LsUYUYj+bW\n",
       "6/UiQ1O49tvLFfopY3CPL2j9xNXxaSjrfK+Wq4WRNYMzmPCMWmC1mhRPT0wGyx0qp2Wa9sOz/5Ea\n",
       "5jUvnlaHplqykxdPRaZsWeyqDfaQiC3cXYyD+LmL/rRv++glKrbalbpnZEu6mh2pyDsoddui2Y2d\n",
       "oVKXL/3XZxcADnFaxkPLWf1OGL5/DHaUYXEwmOAh4zFtd0IyZeAfVb1bWx1MbgXtaGMnO2/xg0mo\n",
       "3sPYkgwsdivL9Bh/jHTFzDnykTq3J3taMbgVNNlyAqfjAj8XTDVBEwzY+dzyorTaHPrhRNx/GZc6\n",
       "OPS3Q2v5X4bjMW2cu97gfPDJSHX6v8J/T95pnCT9/P+Mwz8Uosa5or8oBQAAAABJRU5ErkJggg==\n",
       "\" style=\"display:inline;vertical-align:middle;\" /></a><br>"
      ],
      "text/plain": [
       "example_forall: forall_{x in {1, 3, 5}} ((x in {1, 3, 5}) => (x in {1, 2, 3, 4, 5}))"
      ]
     },
     "execution_count": 125,
     "metadata": {},
     "output_type": "execute_result"
    }
   ],
   "source": [
    "set_135 = Set(one, three, five)\n",
    "set_12345 = Set(one, two, three, four, five)\n",
    "example_forall = Forall(\n",
    "        x,\n",
    "        Implies(InSet(x, set_135), InSet(x, set_12345)),\n",
    "        domain=set_135)"
   ]
  },
  {
   "cell_type": "code",
   "execution_count": 126,
   "metadata": {},
   "outputs": [
    {
     "name": "stdout",
     "output_type": "stream",
     "text": [
      "Attribute Error: 'Set' object has no attribute 'fold_as_forall'\n"
     ]
    }
   ],
   "source": [
    "# apparently, the only domain that has the necessary 'fold_as_forall'\n",
    "# is the Boolean set?\n",
    "try:\n",
    "    example_forall.conclude_as_folded()\n",
    "    assert False, \"Expecting AttributeError; should not make it to this point.\"\n",
    "except AttributeError as e:\n",
    "    print(\"Attribute Error: {}\".format(e))"
   ]
  },
  {
   "cell_type": "code",
   "execution_count": 127,
   "metadata": {},
   "outputs": [
    {
     "data": {
      "text/html": [
       "<strong id=\"non_zero_ints\">non_zero_ints:</strong> <a class=\"ProveItLink\" href=\"../__pv_it/demonstrations/b66022ed9d62cbcfb346bccf2881b10e8deccc970/expr.ipynb\"><img src=\"data:image/png;base64,iVBORw0KGgoAAAANSUhEUgAAAIMAAAAXCAMAAAAftAwBAAAAOVBMVEX///8kJCQNDQ0oKCiIiIi6\n",
       "urrc3NxERETMzMwQEBCqqqpUVFQiIiJ2dnYyMjLu7u5mZmaYmJgAAACs2H6dAAAAAXRSTlMAQObY\n",
       "ZgAAAetJREFUSMfFVtt2wyAMY5u5BDAG/v9jxyVpoSEJp9np/NCHmoAQkoCxXMEHNixF7P1SHqY/\n",
       "J4dHLeRzU+B4Mb6oSQwhspsYhOs+goDr2t5NYkB7F4NphzmdqLXiauo/xiBky+pSPnQfxmDaU5cm\n",
       "/+pIH8XQ0cBiwcCjfgsDARjBAeEAw6Bfd97SQNFXDGUULpMYTD07Sg4NFph1Ywy7PrpSP9/512+k\n",
       "xGJ0VTGcWK4rvZo4exzTMXIxxjDq72hIGHzFUDPnge00zORqI5ZFJOWxHkb9PIHpA687i0SyhQkU\n",
       "bZhFONdk3E8oX2iJqy905cFM6uGxORXVKYa+X/TwtVRVPNaqVIXqzTM9mEWil963vtDEIH/SXjQt\n",
       "hlE/bVS8Jn+XUQNfkEaf78isAaR1toohO1qmNUQY8zDsM77XnM1Zvel8nw9BakF54TRMhW22OpAM\n",
       "AIEP4eAshn3m9hcmYcoR9RJ/CF6VfzvQnuH9nNR+Lv4S4ymFbJqtvUiD0Ju+TsLsCoOjOQxpKVcI\n",
       "JN/m7oOGG+8HjReWa94PsYhXWVkqexxL7Im6jbffUVc08IU/bV3YYM+84FplalBsx3rwnoTztxif\n",
       "fE+KWMyat4rqKch8Lnz2Zr1bZAJHqI9OqVcFGGMQnTXsHwo2PWz1C9iRFg+Id8SyAAAAAElFTkSu\n",
       "QmCC\n",
       "\" style=\"display:inline;vertical-align:middle;\" /></a><br>"
      ],
      "text/plain": [
       "non_zero_ints: {x s.t. x != 0}_{x in Integer}"
      ]
     },
     "execution_count": 127,
     "metadata": {},
     "output_type": "execute_result"
    }
   ],
   "source": [
    "from proveit.logic import NotEquals, SetOfAll\n",
    "non_zero_ints = SetOfAll(x, x, conditions=[NotEquals(x, zero)], domain=Integer)"
   ]
  },
  {
   "cell_type": "code",
   "execution_count": 128,
   "metadata": {},
   "outputs": [],
   "source": [
    "# Some issue here involving SetOfAll sets not yet understood.\n",
    "# SubsetEq(non_zero_ints, Integer).conclude()"
   ]
  },
  {
   "cell_type": "markdown",
   "metadata": {},
   "source": [
    "### `SubsetEq.conclude_via_equality()`"
   ]
  },
  {
   "cell_type": "code",
   "execution_count": 129,
   "metadata": {},
   "outputs": [
    {
     "data": {
      "text/html": [
       "<span style=\"font-size:20px;\"> <a class=\"ProveItLink\" href=\"../__pv_it/demonstrations/609147cdbfc24c5c366756174e77c5c7bbd328850/proof.ipynb\" style=\"text-decoration: none\">&nbsp;&#x22A2;&nbsp;&nbsp;</a><a class=\"ProveItLink\" href=\"../__pv_it/theorems/2ef540aa2a8a2f4b30cc3cb36074ffc8ccb79b2c0/expr.ipynb\"><img src=\"data:image/png;base64,iVBORw0KGgoAAAANSUhEUgAAADsAAAARBAMAAACRPMnQAAAAMFBMVEX///92dnYiIiIQEBBERERU\n",
       "VFS6urqIiIjc3NxmZmaqqqru7u6YmJgyMjLMzMwAAADiRdoGAAAAAXRSTlMAQObYZgAAALBJREFU\n",
       "KM9jYACBtwzYAFz0PpTmCVJSUnqAIXp/A5jmuNiApBkmyrBrPkSYF1kWLspwoD4BTM9CsRomyrZh\n",
       "/QEwQwFZFi66jeF9AdjqAGRpmChDAkP/BBDN7YAsDRPli5wZ74BhOFyUjYGB+QJYSBzZapjoAgYG\n",
       "JgOIxxYgpGGiHEAG7wewEHdoNkwWLtoExCw/oBaKwAIVJrrl/20GLv9PE1BjA7soRUBISQk5QoEA\n",
       "ACxSOHcnMr6fAAAAAElFTkSuQmCC\n",
       "\" style=\"display:inline;vertical-align:middle;\" /></a></span>"
      ],
      "text/plain": [
       "|- A subseteq A"
      ]
     },
     "execution_count": 129,
     "metadata": {},
     "output_type": "execute_result"
    }
   ],
   "source": [
    "SubsetEq(A, A).conclude_via_equality()"
   ]
  },
  {
   "cell_type": "code",
   "execution_count": 130,
   "metadata": {},
   "outputs": [
    {
     "data": {
      "text/html": [
       "<span style=\"font-size:20px;\"> <a class=\"ProveItLink\" href=\"../__pv_it/demonstrations/6c299043d79b1ccf38c218d59b383c697f29f6f90/proof.ipynb\" style=\"text-decoration: none\">&nbsp;&#x22A2;&nbsp;&nbsp;</a><a class=\"ProveItLink\" href=\"../__pv_it/demonstrations/3f6faeaa3258ee8d1ba667d9c5ee26cae68f47e50/expr.ipynb\"><img src=\"data:image/png;base64,iVBORw0KGgoAAAANSUhEUgAAAKUAAAAVBAMAAADVzzOcAAAAMFBMVEX///+IiIi6urrc3NxERETM\n",
       "zMwQEBCqqqpUVFQiIiJ2dnYyMjLu7u5mZmaYmJgAAABN0h6tAAAAAXRSTlMAQObYZgAAAkhJREFU\n",
       "OMuVVU1oE0EU/lyra5JJshX0IIo59docCyLEi+BBKOhJEII/B6FoQPAktPEgqKAtIrjgISCIHhTB\n",
       "g6UYnEKRXGQbEBQLdY96MipSsEF8s7M7Ozu7m+AeZt/Oe983b97fAqhsIvc5ezBjcwRgV5+LF1vB\n",
       "iGdqNrU1EmBdDE4dZGvZ8UVayy/TbuYA1i6JdUMsxcWk6hoPhdK6rv3quu4DZADsuUjqiuVZ2oTd\n",
       "vhdxVlua9shjZZIE9J4OI3ErhxP4HnFOc037CjmcqESc1nA8p64tt8Zzyv0YtfNzf87kXJ78SNpm\n",
       "IBdgcB59vp8bnKX2ITr5iRD3iMxO1UsDg5Ntc68eJXlG4xQA6zzemn56b9gvggd5pgpkl1FuGJz2\n",
       "EFUnTCbW9MIgwDsfH0zOeY4fslpO3xfhGqLgGJxUmV6HvFoy7h4AvnAsmZwbYH/odcuRnbK7AW/W\n",
       "4KQDpyk+yzKGTrK1LoD9Njm7sKiaSgsiPHRpcmjezHvVF95ETfNai2dDOGQPTM6/4royniKNXgt3\n",
       "7LrBWaMoR3lH7wbX8s62KFNXDc6fIsoy74Jzwqk8LMILevswp5QLd/yJda0Yz5zQe/MYvi10AjPs\n",
       "IM4AeRcn9fpk7X0ze1F4RJ+frnR9uOQU67/I6Ihwqzd5ql0LzMo3tzcl8v0BP6OPrqu5wHOaJrkV\n",
       "mylkyNlU3x0FwyjOZtqsk+SMxyFTBbOqTML5WXRdNetiwGoaKecn1NiuKIUfF2MtPXxXUmYx0jon\n",
       "o/K//yN7zP/oH425xRKe9hFqAAAAAElFTkSuQmCC\n",
       "\" style=\"display:inline;vertical-align:middle;\" /></a></span>"
      ],
      "text/plain": [
       "|- {a, 1, b} subseteq {a, 1, b}"
      ]
     },
     "execution_count": 130,
     "metadata": {},
     "output_type": "execute_result"
    }
   ],
   "source": [
    "SubsetEq(Set(a, one, b), Set(a, one, b)).conclude_via_equality()"
   ]
  },
  {
   "cell_type": "markdown",
   "metadata": {},
   "source": [
    "### `SubsetEq.unfold()`"
   ]
  },
  {
   "cell_type": "code",
   "execution_count": 131,
   "metadata": {},
   "outputs": [
    {
     "data": {
      "text/html": [
       "<span style=\"font-size:20px;\"> <a class=\"ProveItLink\" href=\"../__pv_it/demonstrations/cec60c09ab68fe8da8fdfd96c2cdc0d54b82f73d0/proof.ipynb\" style=\"text-decoration: none\">&nbsp;&#x22A2;&nbsp;&nbsp;</a><a class=\"ProveItLink\" href=\"../__pv_it/demonstrations/692906b0324d2e38648bd0e0a22edc3c0d2168cc0/expr.ipynb\"><img src=\"data:image/png;base64,iVBORw0KGgoAAAANSUhEUgAAAQAAAAAXBAMAAAAW+IzCAAAAMFBMVEX///8QEBCIiIhmZma6urrM\n",
       "zMxUVFQiIiJERETc3Nzu7u6qqqp2dnaYmJgyMjIAAAAcRTyBAAAAAXRSTlMAQObYZgAAA9tJREFU\n",
       "SMe1lltoFFcYx/97md2dy24C1gcjtBsDBdOXQKgVazHqQxEKXSmoD6GJ2kJ9kSUUQ1uRQJVsmgcX\n",
       "fTCCxamFPIRiA6FobMFtCgkmggMK1ULiYqsPQksQK21C3X7nujO7m8CkdWDnfOey5/ud7zYH+L+e\n",
       "216o5e+1r1nTlw1HL5dCbrMzB9hFoMw68yH+aA00HL4f6H299ZSULtwcVoNGh2gzvxhvAjGm+Qgw\n",
       "x4YehwDIFBsOz7CX3SIhe3Gri0tmB64r3yR7RRupVMhcTp7ZDRhhqwbC+BorAoxOL4lOzEWkmUvR\n",
       "ZTTl5ZJWCZCZ3gwJ4GSRcakZDwHwSaB3t7+/XLVAWgJE8kj8zaX4S2gSC2AuSIAEf3MAqxnp2bGx\n",
       "cyH0m3l/70B7wAUKILOExJ9qRrnAydQD4Dfgr0LheAiAKEWStenIrinu68doCMAcrkRL7X5PA8y3\n",
       "UQY43Ec/AR8CQwEV3R4MHhTO1m2smdriGq/p2RSd5xv8nD3Bt6oG5NEagHdlWpoz2yRIVgGkXPMp\n",
       "rV1k8gKwG1Y5YOMWGJ3cPDf4rjEvNoCEzvIkxcssbrl7+Fb6X/b6GoBjWmoV+eBAAdAzSL9fmXCF\n",
       "dkRU5Yn1Q6cHm3DieRFuPXTCWIlYbc0Yoe1cFERn7x/0sCljsBgEiHVoZRGRm9/5AXbQ8kQfCT1E\n",
       "5iV1SE+OwQfwMS5yeLJAEAB4Ijojesd4jQXalD2LSC3zw5U0ANmVVYlHEABmeR9z9Ouv5uKcugpA\n",
       "Aeyy91c5HwBzAQwZ4pGq5z4KANgdOM+FpiUJYB/u3LEuy8deJgu4Mgbept/QBxTb7tFkVwa1AH08\n",
       "7h/AB8CC8Fp0ETz/YtkVsqAb2CwQB6r5EJEWoHOeUFlAQYgJ0mbgdyrgIklKGsARjiQXWBuUIhqL\n",
       "L6cWTRE3nwUBoqTrW2I1j9/ckreeMySP6gCXOAybxFmkN6g6sJ1ZiR+DCtf+QqGQNT6HBpBV1yQb\n",
       "7ldpQFPWofY2+fkaPen6AGIHn7+F5KdUiCqVSh79bG5350kIyTn9zGOTMLcfdhXAQwbJZo1FQ1ao\n",
       "qgXipXiORYD5j88CNaX4nUF/KebPNZ2abr2kJ2UpVnX1olN24ORUDNh5mF/g/e+vuiNusphu8cXA\n",
       "Sh+jH7WkS4aDeqkUBHBUEI3emZoFhiWA+cazrLERr1Qq2DtuTE0X/QCp4ur3AUsH5iXUSdVJcR+4\n",
       "XFPnKQa0Lls04zo1Vr+QZNTZ0nrIq5fSvhsRKyhDDXZSuiZFr1gLsMKVDBNruBOmG1lTxZvnR06E\n",
       "vfH9l+dM/VGMuRem7V9yBhG2D+rigQAAAABJRU5ErkJggg==\n",
       "\" style=\"display:inline;vertical-align:middle;\" /></a></span>"
      ],
      "text/plain": [
       "|- forall_{x in {1, 2, 3}} (x in {1, 2, 3, 4, 5})"
      ]
     },
     "execution_count": 131,
     "metadata": {},
     "output_type": "execute_result"
    }
   ],
   "source": [
    "SubsetEq(set_123, set_12345).unfold()"
   ]
  },
  {
   "cell_type": "code",
   "execution_count": 132,
   "metadata": {},
   "outputs": [
    {
     "data": {
      "text/html": [
       "<span style=\"font-size:20px;\"> <a class=\"ProveItLink\" href=\"../__pv_it/demonstrations/96ba51e3cead51cef21238afe6ee02e3ce97bfc10/proof.ipynb\" style=\"text-decoration: none\">&nbsp;&#x22A2;&nbsp;&nbsp;</a><a class=\"ProveItLink\" href=\"../__pv_it/demonstrations/4b5422e641fa2f34a320c6106246559616ca3bb30/expr.ipynb\"><img src=\"data:image/png;base64,iVBORw0KGgoAAAANSUhEUgAAAOoAAAAXBAMAAAD3ts66AAAAMFBMVEX///8QEBCIiIhmZma6urrM\n",
       "zMxUVFQiIiJERETc3Nzu7u6qqqp2dnaYmJgyMjIAAAAcRTyBAAAAAXRSTlMAQObYZgAAA1hJREFU\n",
       "SMe1lk9IFFEcx7/7Z/bP/Fk91CGlGNYysMuiVIeUtA5RUG4Edgk0KdAOIkFFIrHZobUuQ4f0Eg0I\n",
       "HSTcJQ+hBG0GFWq0UFAE1kLlISiWoKgNpPfe/J/ZTTdsYHd+7zdv3uf9/r4B1ut6mV99zrGmf17+\n",
       "VlntVG4t73YkAUEBCnSwVAWUT5VVv68w+/KgfRiguH5ggQ4+V0GNKWXVT51Doc6YnrCrRbqHKWCc\n",
       "3KKpauKHNVDvPCnpUk3WQxVlxFRyy1ZBvWgfSFcvXCprq2RQO1UPla+FND85OVYFNGqPEzeiVvCw\n",
       "SXXqGRUfgZ/p9HAVVD+JEx/v3zfHEld1eDja2lznpi7H9+jSXDwJsZZKj4HTwKhj3RNm4XEs3kcK\n",
       "4HaYTyPk6V28lplj+623BmhdKLGii8qvqBkt/caykQIk9vwdsB98weHCOhPawvwhEutCZjWGSQ7M\n",
       "44V6kA6sLBQ2EsJmBFIuqlBCjcykYYTIqx+oeJ8sA79hHP+gJQ/B2kOQUWNksqX0tQMq0tq2tnwl\n",
       "F5OuEoMCJYRlF5UUaIbtOKApQmfJXzcxJR82VnwzMwkvtUZxU4FvmlssW4PEVl8KmaSLSsq1k1WI\n",
       "T5u7DI0aLXTRUO9sTAZZQVPAROMni9odP2OjUg+D+64Naq3A9IEa9dCdwzV57GUpp1msxfUA+Y2e\n",
       "IpmpDoTbY9Cp/DmuZFG3qw02Ks2mWX8RrI83O7pEJosBQXFR20m0dTyyeg6TbMI0WZvDF2Kh5vkc\n",
       "Aglu0KKOkFn8JrPiEgj+jhSjedNwkxqRpfMiMmyDfkKlUigfSTAh0IOJpF6vrXQXLAN+AcfT6bTM\n",
       "XSExyPp7LOoG7CLPclas+d6mBu284PsO2ah877abWxEeorlzcqWNSXzzc2iqxSXZ6BI0fBL1O1fk\n",
       "EDJszSiRt6pJLaHeZquzIwafeTvirFeadXZEo73dFgsixKQeV5/SfRjjKoRBRK9hSErZE7tC939k\n",
       "SjmvlHN3f/2MeDU3D1zXqcHee204mo3u/iFz9ehadJRTRPn7+crLHslSsfN1ytVjSVwtgJYpgpHY\n",
       "q5zqMcMeyToBPAI6aLWPlnndAOg1MOOmVviCwfRav5ukcs4yEkffYN5Isf983fBumltYX8QfCwjw\n",
       "Lu+ejGQAAAAASUVORK5CYII=\n",
       "\" style=\"display:inline;vertical-align:middle;\" /></a></span>"
      ],
      "text/plain": [
       "|- forall_{x in {a, 1, b}} (x in {a, 1, b, c})"
      ]
     },
     "execution_count": 132,
     "metadata": {},
     "output_type": "execute_result"
    }
   ],
   "source": [
    "# Works, but often have to explicitly pre-establish that\n",
    "# the subset_eq relationship is actually true\n",
    "Set(a, one, b, c).deduce_enum_subset_eq(subset=Set(a, one, b))\n",
    "SubsetEq(Set(a, one, b), Set(a, one, b, c)).unfold()"
   ]
  },
  {
   "cell_type": "markdown",
   "metadata": {},
   "source": [
    "### `SubsetEq.derive_superset_membership()`"
   ]
  },
  {
   "cell_type": "code",
   "execution_count": 133,
   "metadata": {},
   "outputs": [
    {
     "data": {
      "text/html": [
       "<span style=\"font-size:20px;\"> <a class=\"ProveItLink\" href=\"../__pv_it/demonstrations/44104d8af855a46280168f7f3eef6a9462d924930/proof.ipynb\" style=\"text-decoration: none\">&nbsp;&#x22A2;&nbsp;&nbsp;</a><a class=\"ProveItLink\" href=\"../__pv_it/demonstrations/556eb1c098b3e48db8ffaca7130e1c7ef85d918d0/expr.ipynb\"><img src=\"data:image/png;base64,iVBORw0KGgoAAAANSUhEUgAAAI8AAAAVBAMAAACNsKCFAAAAMFBMVEX///+YmJiqqqqIiIgyMjLc\n",
       "3NwiIiIQEBC6urp2dnZUVFTMzMxERERmZmbu7u4AAADrYmUNAAAAAXRSTlMAQObYZgAAAhVJREFU\n",
       "OMudlD9II0EUxr8kGk10k4CFjaCdIJzaXXesYKOFro0gKIYDA2dxXqXHKXd2YiGkyqGcoAhams5G\n",
       "QSzEQiQhdseGBauzUcQ/Z5P45u9ms2uhDzL5dvLNL2/emx0gIEJFvCVaSk7wD4khvC2aF9kq+zxf\n",
       "n9CtB6sNE+snevZIfg84R13AJalrxP7XgWJpGsI/5ZM2NBbQl1KeWfn9q/pMY44+ZWAhAHS9UZFP\n",
       "2hC5QzItJyM/pBjasSRoHti3+FxHJmO6GYUUSBuavyNpysmxYSm2+MhAow72eQ0OP3m2pkHaQKG3\n",
       "lvWDKOZY9xIjCAYpA/N8Ue2wFGi77S+Nv0XzWLkQt/S6uOkFCQNVO1eWM1dQoAtMLwOdXEd5eq1u\n",
       "At15L0gYWHxcljvTIFpI+TcUmLL588EgBa/l4Qy8IFurJnEmwvkakPFAw24/dZLTMOlmtOLNSBrQ\n",
       "aKH1jqt/UCCqAjtlDSznD8xBf+aC4scekDQgWVGgHtt+KokUTRgVUaOWLCLMZ/S/0jVlQNMxopou\n",
       "D6RBFTRF18bXN3f53GcvKEJrbkxlYCqUonOUuBeeJXBFr027JQ9ktfoo3qkzpwZk7N0XEf2qDFyt\n",
       "2WdAhrv+VLeFmtoouwdSxupp7SvCoxc+FXb8qg7kbu2bUln4VAx+9RpI30cJ3QBXXcGv+H0UFOqG\n",
       "DLlsrVIBiu6F4Ai/485+AaCGnXrUYaUgAAAAAElFTkSuQmCC\n",
       "\" style=\"display:inline;vertical-align:middle;\" /></a></span>"
      ],
      "text/plain": [
       "|- 2 in {1, 2, 3, 4, 5}"
      ]
     },
     "execution_count": 133,
     "metadata": {},
     "output_type": "execute_result"
    }
   ],
   "source": [
    "# given a known subset_eq relationship, and an element in the\n",
    "# subset, derive the element as being in the superset\n",
    "SubsetEq(set_123, set_12345).derive_superset_membership(two)"
   ]
  },
  {
   "cell_type": "code",
   "execution_count": 134,
   "metadata": {},
   "outputs": [
    {
     "data": {
      "text/html": [
       "<span style=\"font-size:20px;\"> <a class=\"ProveItLink\" href=\"../__pv_it/demonstrations/369c1aa8dd41bf202be923925f63442a46adc3a70/proof.ipynb\" style=\"text-decoration: none\">&nbsp;&#x22A2;&nbsp;&nbsp;</a><a class=\"ProveItLink\" href=\"../__pv_it/demonstrations/f74b9e6ca0da3c17e1d8da31606fbb44c20e7c4b0/expr.ipynb\"><img src=\"data:image/png;base64,iVBORw0KGgoAAAANSUhEUgAAAHoAAAAVBAMAAAB71edYAAAAMFBMVEX///9UVFSqqqrMzMwiIiJE\n",
       "RESYmJgyMjK6urru7u4QEBCIiIh2dnZmZmbc3NwAAABRgo0vAAAAAXRSTlMAQObYZgAAAZdJREFU\n",
       "OMtjYMAGchMYCALbnTgkph9gIAJ0GWAXz8cuzBnlgMzlLcCu7Agql2kllMF+AVmYx4EY3RMP/oSy\n",
       "+BVw62YLcXHHajcbTHf/BJy6maMn4HA5XDeqOFg3353bYH9Nn4Dicpgwsu7C3ZegrNO7DRh4FoAC\n",
       "/gH7B5CAHMJUcSRhJN2c3yfMfwBmPVFgLWBgA8pzLmPgDQCJBCDCeDGSMJJupp8M/BvALB8GRmAA\n",
       "1gJj7ScDC0iIeXk5EIADIOQBQhhZNzCC54PTES9EgNGbgSuAYT4o0fAh7OYA2g0TRtYNjO5+cJxx\n",
       "QdQWMoBM0wezFyD8LYokjKSbP4HhPjhoIS4A+Xu+AoM4EygsbqOkFrgwsu4GYGhAjWFQAIc56wY2\n",
       "Rx6QEIsCsm6I8HxwUuYG6gaxGBNYL4AZvAIMcw3A8c0pvfnhDnB8iHYi6YYIs3iCwkjq+zUwi/P2\n",
       "MQaI0Jm0DegpleMoZkrVxGRpEsolp+CsA5isA4R0w/M35wYMFkIIV/5mh5nPhsgpGAyGrgYchY4u\n",
       "keUaALwFeHoDRdoQAAAAAElFTkSuQmCC\n",
       "\" style=\"display:inline;vertical-align:middle;\" /></a></span>"
      ],
      "text/plain": [
       "|- a in {a, 1, b, c}"
      ]
     },
     "execution_count": 134,
     "metadata": {},
     "output_type": "execute_result"
    }
   ],
   "source": [
    "SubsetEq(Set(a, one, b), Set(a, one, b, c)).derive_superset_membership(a)"
   ]
  },
  {
   "cell_type": "code",
   "execution_count": 135,
   "metadata": {},
   "outputs": [
    {
     "data": {
      "text/html": [
       "<span style=\"font-size:20px;\"><a class=\"ProveItLink\" href=\"../__pv_it/demonstrations/43831c258d1382a55342f3025ea6f9eac4c5b6b20/expr.ipynb\"><img src=\"data:image/png;base64,iVBORw0KGgoAAAANSUhEUgAAAGcAAAAVBAMAAACphe0AAAAAMFBMVEX///8yMjJERETMzMwQEBCY\n",
       "mJgiIiK6urqqqqp2dnZUVFTc3NyIiIhmZmbu7u4AAADOOTK3AAAAAXRSTlMAQObYZgAAAZRJREFU\n",
       "OMtjYMAGWK8y4ADMdx7gkOGTZMAJ2J0h9NuzG9As+oDMe+SGInkRQq3sb0DVxJmAwpVF4U2DOOb7\n",
       "cwa8mn5g0cQBc0xQWpoAFk3s/7BogikxOofdJjR7wZpYr+ReALtSDlXZ3rlHIKHLuOYs1M+cZw4z\n",
       "MEwBM/kPgCkuRBByAV3J7s0gD+G9l+P7DWZwZzAoMjDEg9n7DcAUE8IFLUCRJwEMlyC8/gcMf8AM\n",
       "tgkMK4AWg93VD5EzEQQCcEAYZQOJ+w8YcmARw/cTzLgPce6yA/DgYNiEsKkEaJMTA99nWDSxQwLd\n",
       "CeLFBSBSCyLHgtDEpQAyHBYVXxl4wYEOtQ/iJx+IHO8B5NDj+wEMjm4w7zvIfxDdDBzQ0OP7DlWa\n",
       "gRLkOgxhCybwfQTyljLoMoAZtxj4LkN9ww5LEK/UHyBpenXGek0BQxpQ6O1JoEUgBufUGFgQcCrA\n",
       "LKhUw0hGHA/QGWBNXYwBGHmG0wHOwmCANSU9xJJx4fnpDQYDnJ9ibmPJnvCcG4DBYHfHlac58JcR\n",
       "AIEKbJN49n53AAAAAElFTkSuQmCC\n",
       "\" style=\"display:inline;vertical-align:middle;\" /></a> <a class=\"ProveItLink\" href=\"../__pv_it/demonstrations/f1394cb7f65bf300637a5001143d5cc9ade760db0/proof.ipynb\" style=\"text-decoration: none\">&nbsp;&#x22A2;&nbsp;&nbsp;</a><a class=\"ProveItLink\" href=\"../__pv_it/demonstrations/3f56f65121096bf98813dc294768d9ace130ca0a0/expr.ipynb\"><img src=\"data:image/png;base64,iVBORw0KGgoAAAANSUhEUgAAAHsAAAAVBAMAAACUF4xmAAAAMFBMVEX///8yMjJERETMzMwQEBCY\n",
       "mJgiIiK6urqqqqp2dnZUVFTc3NyIiIhmZmbu7u4AAADOOTK3AAAAAXRSTlMAQObYZgAAAc5JREFU\n",
       "OMtjYMAGWK8yEATMdx7gkOGTZCACsDtD6LdnN6BZ/gGZ98gNi14jXwaGixDmyv4GVDnOBBSuLDa7\n",
       "fzAwTIM49ftzBrzaf2Bz+T+Ydg6YU4PS0gSwaAepxAAgJdNQFBudw247mlsggPECVDvrldwLYD/I\n",
       "oWrYO/cIJGYY15yFhg3nmcMQxt459kChKWA2/wEwxYUIfi6gH9i9GeQhvPdyfL/BDO4MBkWId7wZ\n",
       "9IFGx4M5+w3AFBPCZS1AkScBDJcgvP4HDH/ADLYJDCvADKDcRagHgNIQVSaCQAAOOqNsIHH/AUMO\n",
       "ROIiA99PMOM+LJkBGZkgehnI3ZAAZNiEsL0EaLsTA99nWLSzQ6LOCSYPlPsOsn0BiKMFEWNBaOdS\n",
       "AFkIi9CvDLzgqIO6gQEuB/G7D0SQ9wByyPP9AAZgN5j3HeRXiDkMHGDtULkpkEQH1ZSBEnE6DGEL\n",
       "JvB9BPKWMugygBm3GPgugxlgOaiv2WGJ7pX6AyTtr85YrylgSAMKvT0JtBzE4JwaA2FA5CDaORVg\n",
       "llaqYSRajgc4GRDtXYwBmAnaAc7CzYBoT3qIpbCB5/c3uBmQ/B5zG0uGgJc2AbgZDOzuuMohDmLL\n",
       "OgCYO4YR/IJSygAAAABJRU5ErkJggg==\n",
       "\" style=\"display:inline;vertical-align:middle;\" /></a></span>"
      ],
      "text/plain": [
       "{f in {a, b, c}} |- f in {a, b, c, d}"
      ]
     },
     "execution_count": 135,
     "metadata": {},
     "output_type": "execute_result"
    }
   ],
   "source": [
    "# and this works more generally, where we can assume an elem in the subset\n",
    "from proveit import f\n",
    "Set(a, b, c, d).deduce_enum_subset_eq(subset=set_abc)\n",
    "SubsetEq(Set(a, b, c), Set(a, b, c, d)).derive_superset_membership(f, assumptions=[InSet(f, set_abc)])"
   ]
  },
  {
   "cell_type": "markdown",
   "metadata": {},
   "source": [
    "### `SubsetEq.conclude_as_folded()`"
   ]
  },
  {
   "cell_type": "code",
   "execution_count": 136,
   "metadata": {},
   "outputs": [
    {
     "data": {
      "text/html": [
       "<span style=\"font-size:20px;\"><a class=\"ProveItLink\" href=\"../__pv_it/demonstrations/0710c1d1b6b0f3b24a85a4cd0b7f77cfce4e971e0/expr.ipynb\"><img src=\"data:image/png;base64,iVBORw0KGgoAAAANSUhEUgAAAMoAAAAXBAMAAAC4681qAAAAMFBMVEX///8QEBCIiIhmZma6urrM\n",
       "zMxUVFQiIiJERETc3Nzu7u6qqqp2dnaYmJgyMjIAAAAcRTyBAAAAAXRSTlMAQObYZgAAA0ZJREFU\n",
       "SMetVU1oE0EU/vKz+dls0oIUrafQQoTqoVS8iNRUDyJ4SBW0QiEhKFiwJXgp/iDBCk3xYFDQXrSr\n",
       "hSJF2kAPUpE2xoNSRYMK7UUN+HOoWEKpYFMV38zuJrMhsRE7MDvvvdmZb+a9770B/ru9yVadOtLy\n",
       "79vdqmidSP9lSUcI8CSBHFPe1QIixyuaP1C/t7mkd20SJm1s+x7gOVMWa0HxJSuan7LPR8GwJshK\n",
       "jN0WGKbBHa/J/6iOIuxsL5SjKH74VBpStaCcNWkL/f25Ioq4M9/YpMj18M6Nj9+sBcQtrkZXi3gX\n",
       "cWdfazkKPgE/EokLtaBYabXc1LMvw5mwaPKYL9qsu+N6JqxLnrbtcSj1THwCnASGTNt1Z+1LReVw\n",
       "0ZkuSov7mPdfZIqjxIQ+6pOL8qoWlEZcVTX7M4y0wptn4ntgP+ScyTNbObjRThuCk/Dm8Eo9yCGL\n",
       "854G+syqWObanSzadXsBdSmdfA9oNaxG8sqPdmbhIcyvJZQZQ7AEARUJTelcosYOJw2yW7VD/snt\n",
       "e1Xo7rfEEaZbOc6QHKYAZZ1F3kyPg6OsVkGBfmTOf524DTxd7BqXt0Be0ezhLLbR8AUaijt3lITM\n",
       "rkDIztlBKNJygDnXmwkIKMxjkL7rkKVjnKL+CzbOZbqRJ6+XhCQGoMflAPWhE0Qgtc8Z9EFHsZ5j\n",
       "hEKA/TcjRv+hNQ9OYZvfxLEVFhCGsgZHbpqbZ3mqahyj6GOKOC3hGzDKpx1puPxecpt7FVcongab\n",
       "lFZyiyvv1oJ43oTSS+eRf5NwCfORNJcmk46CkS97qNfxc1EojiUSCb80wEJgi9BtY6D/JCOZ7DHI\n",
       "0ZZmvbCOXVYFlNEdhN1PlrGm49Egl+zRFzED5TNzP/tfyktwGHepUy0UBCUi1Qt3KaswhwaFCqO5\n",
       "WjVLrlajwhiVYUTJKVBCelyc6gKGVU/EERHiUq1aPi5WE4hSCJPBUrXUHfA2MwcWBo1jp9PoTKHt\n",
       "ZVZEcSWrvi+83YUgKQVGHe19mSgrVRQXni+skc8sIRGlyivmM97K0sNMkr2XV7YOlmRDFVbpKJ7k\n",
       "DY4ws96LjKl13n1vJR/IjXzw4vbr3WId2+B2TTxbd2ojtvwDjBjuBDjNqdAAAAAASUVORK5CYII=\n",
       "\" style=\"display:inline;vertical-align:middle;\" /></a> <a class=\"ProveItLink\" href=\"../__pv_it/demonstrations/96db51d637565f1ed594a21f1e1a4a768f9c5de70/proof.ipynb\" style=\"text-decoration: none\">&nbsp;&#x22A2;&nbsp;&nbsp;</a><a class=\"ProveItLink\" href=\"../__pv_it/demonstrations/7e1746015f80a2efa8bc98a9b42e85f565b6acc70/expr.ipynb\"><img src=\"data:image/png;base64,iVBORw0KGgoAAAANSUhEUgAAAJEAAAAVBAMAAAC01xHeAAAAMFBMVEX///+IiIi6urrc3NxERETM\n",
       "zMwQEBCqqqpUVFQiIiJ2dnYyMjLu7u5mZmaYmJgAAABN0h6tAAAAAXRSTlMAQObYZgAAAk1JREFU\n",
       "OMuNVD1oFEEUfq6ed24291OJAeEqSZcrAxI8m0CK4IGp0pz4U1goB4qVkpydTXIgFispEpTAWWjA\n",
       "IiEYGCFIGtm7yiKga6dVLrniwJzB997M7M1mR5KFO968+b5vZr73ZgAg+x3iX6otIPklYAmCt5mY\n",
       "ce4l0RbYcUK2g7DJRmxm17IlhG3fH4xnHiQILokMtWK0pg5++b7/CiLYloHpJQgMydWsSlffRCmG\n",
       "GWynb1caE1aljxBTMtluw67UBJvScC3ONNlxPwZKG4VvKves8BhgVcYXIK40VL+stCdWqipKty+W\n",
       "FSGzhrU7FEFJEspn/wLsSdS4oUSw4JPXlSbdgRvKj7dwraUITyoo3IdcnifmBNmqtr5tKBEMJ/d5\n",
       "8CXUjULMmiTMvCRD1iBY5pm7kCJbX+SPnY5hu+D94dEPAa9l/nwZqkIRrlRYcozPnTqCM2TIvDxq\n",
       "fiBFsC1wemo970CmqyFcAkXIoGG5kJahTu7CuVbkE6wbPiHsCIa5D3Bn6Y5M75VgGhSBipIreg/l\n",
       "sTt8bFU72HkuzNodkEGk1MMCPJK+ynZd1ZBMiDsJqIhdWBRGe81OmbdlAdf3DnFwHX7PL3MUlDJ9\n",
       "s5+89nv0dwlHoyPNZKNq2NcR3JKPK+0UbtaLHDn1d41YZ/L3lP+n/68kDYgOLCPyVSnd0jPYBylZ\n",
       "FJuShrmDFP4qEBQ1IdvRbxnW/IPgJVTbub4fvSoR7HOkhJHb5zMogn4Ms2TTT7p/zm3Lu6hhYZTB\n",
       "yFngm6gI6dO94+kT3vF/3AC9HvZwPaMAAAAASUVORK5CYII=\n",
       "\" style=\"display:inline;vertical-align:middle;\" /></a></span>"
      ],
      "text/plain": [
       "{forall_{x in {b, g}} (x in {b, d, g})} |- {b, g} subseteq {b, d, g}"
      ]
     },
     "execution_count": 136,
     "metadata": {},
     "output_type": "execute_result"
    }
   ],
   "source": [
    "from proveit import g\n",
    "SubsetEq(Set(b, g), Set(b, d, g)).conclude_as_folded(\n",
    "        assumptions=[Forall(x, InSet(x, Set(b, d, g)), domain=Set(b, g))])"
   ]
  },
  {
   "cell_type": "markdown",
   "metadata": {},
   "source": [
    "### `SubsetEq.apply_transitivity()`"
   ]
  },
  {
   "cell_type": "code",
   "execution_count": 137,
   "metadata": {},
   "outputs": [
    {
     "data": {
      "text/html": [
       "<strong id=\"set_123_subset_eq_set_12345\">set_123_subset_eq_set_12345:</strong> <span style=\"font-size:20px;\"> <a class=\"ProveItLink\" href=\"../__pv_it/demonstrations/4f36c494e18d6611661e440f61fda3b03c98e7370/proof.ipynb\" style=\"text-decoration: none\">&nbsp;&#x22A2;&nbsp;&nbsp;</a><a class=\"ProveItLink\" href=\"../__pv_it/demonstrations/58a6f71534c87d621fa60cec91c2d5681ce4f9ba0/expr.ipynb\"><img src=\"data:image/png;base64,iVBORw0KGgoAAAANSUhEUgAAAM0AAAAVBAMAAAAX/3cYAAAAMFBMVEX///+IiIi6urrc3NxERETM\n",
       "zMwQEBCqqqpUVFQiIiJ2dnYyMjLu7u5mZmaYmJgAAABN0h6tAAAAAXRSTlMAQObYZgAAAmNJREFU\n",
       "SMedlr1rFEEYxp+9M+7d5jbkDxC8yvrAxg+iFjaCkCushEAQDQqCV4mFQrQQ0iSKCC4oOTBIDAgL\n",
       "FkpA3YDFaZMLaJVs0EasVBSEfOA637OzH3PoW8w+N3u/fXZm3ndmAYxsojQm9hV02oCCGFqL6KWx\n",
       "bPvTgXauyw4UROUCe7sfxkPik+LJ1aWFDuCH+eFYATEP4vo6miB961R6d0jjXhY3evB+cjUG94+4\n",
       "S+NrEAT3MRjg8UBcryTbpH0qsd7irrixAUxxtb+DLe1z9LEagR1g4VwUYvlmK+2DEYldAuZafGWa\n",
       "2NE+z2H4lAMsjr0UYpq1BT5vIszJpU/Nm98p88kCLLoDfUjMR0K865K7k0zWUeaTBVimtKTP7OeP\n",
       "pH1CZS00scq2EEceRSq5DqV87ACNFUif0zjeBL5TebVtYvVpqZxzpHnF5NuUzwCATpvyAfaQ0Q/3\n",
       "gTP3YGKxfuIUeb/a3cy8DQLIMrVTPv4v0syMiorXmNMX4iAwTlafE95oZosoB4D3kqJTTKtrmI64\n",
       "dsLAbqDK0zSJKCaL/0VqfawAiWtx/HuNde0N4e+K9THTZ6gLh2PnWSKJfEPvVlScb1mAh6hTn8x4\n",
       "KPKNYQ7BVmkeHV56NsPVN3PfOXvK2HfKgNVQeDZozVb7+NJK1Y9/e2cT9Ye07JJki6tK/KGZ8jHr\n",
       "pxRgCgvJLAI6trHFDaNOWVxHXpX4lANKuWqihc+k/NlFXhX5WAGlPJg+6jhpqNzVSp4/XhCoc8EK\n",
       "aLWifdb53i3PL32SpYqlmT8fbYBWn/TGxLcJ91+/D9z/+D74C3r98u7UHtjWAAAAAElFTkSuQmCC\n",
       "\" style=\"display:inline;vertical-align:middle;\" /></a></span><br>"
      ],
      "text/plain": [
       "set_123_subset_eq_set_12345: |- {1, 2, 3} subseteq {1, 2, 3, 4, 5}"
      ]
     },
     "execution_count": 137,
     "metadata": {},
     "output_type": "execute_result"
    }
   ],
   "source": [
    "# establish a subset_eq judgement:\n",
    "set_123_subset_eq_set_12345 = set_12345.deduce_enum_subset_eq(subset=set_123)"
   ]
  },
  {
   "cell_type": "code",
   "execution_count": 138,
   "metadata": {},
   "outputs": [
    {
     "data": {
      "text/html": [
       "<strong id=\"set_12345_subset_eq_set_1234567\">set_12345_subset_eq_set_1234567:</strong> <span style=\"font-size:20px;\"> <a class=\"ProveItLink\" href=\"../__pv_it/demonstrations/b95dd58c9e5b5bf6e3f952837e35bbb8c1d919a40/proof.ipynb\" style=\"text-decoration: none\">&nbsp;&#x22A2;&nbsp;&nbsp;</a><a class=\"ProveItLink\" href=\"../__pv_it/demonstrations/45f2f2c2b61b9161e629b3212b4aacd3b070cf410/expr.ipynb\"><img src=\"data:image/png;base64,iVBORw0KGgoAAAANSUhEUgAAARsAAAAVBAMAAACEflfWAAAAMFBMVEX///+IiIi6urrc3NxERETM\n",
       "zMwQEBCqqqpUVFQiIiJ2dnYyMjLu7u5mZmaYmJgAAABN0h6tAAAAAXRSTlMAQObYZgAAA6hJREFU\n",
       "SMetVl1IVEEUPuu6P+79cSHooZDspaeiCz0VWEsUIRTtQ0+BIJX9UOG+JD0kbVCRhrpQD64FrSCi\n",
       "C9G+BCFk60tIEq5RKObaRtBLP4pSmm7d5s6cmfu3iqLDcu+358755pszc84MAKjTsJ7mG8uWsP4o\n",
       "wAYb8soD6/Qra3DbRlKw4cZ41VmrTc4fiTJ0IH1MWOvwPZitiwF8dFPN2P69fX8UXCS+HHtL333j\n",
       "aOrexsbydU6m08gbSpBH4Ar2GIbQHAXeHNwUC9CJ70Z9iTz73XKoqQlXUY7Ds2oXSUWcvf26jqEc\n",
       "qVYyFKi6ri8iiSFnuK+ITlMA5ynwLEBlAo2eiwgGbmkrypFbO1COkgV/vYtkK8qR+rag5QSUR5gD\n",
       "YY1b5IDK5VwC6NDoSp6BygwaD75AEDdDYTjVJpPJqGmaQTn+BATnwUHi/YZygmKvzHMUIr9oSTmv\n",
       "stCBm8eMc6qkHO+AZl8sLkcqQvAXOEhCklNOeb0lvDuhpBzSnvAt0MWjoHE57Z8/kGcvbgYNSssx\n",
       "vnE+QfJFyPlZxeZb+bz7nXCIcN5gxi6nbAkn3z+FliHgco7DoWqRRuOWyd13yNmbcpDIYS6nPOtl\n",
       "yTI6CBUxvlwFnp5NUbscngFk81XjWgk5hIzEUmIpmzDVBBoccjrBQRICSfBCLZMzCwpP6FG6yIT3\n",
       "1AOwy8kL5GedA1GLHMXYfy1hY+Imva9Ws8tRck6Sa1Y5n2h3knPqHFq206fBu8seHQ8yeTUoX6Do\n",
       "DXA5ZF2NqsSI5YizoJpyqsBBIqeEHLKurCpVZED9hx0f0ugYPYIRm5xmg8PQXuRyrufzv8fYTDOg\n",
       "FMXesSwW3LbJCeRgH9hIAm35T1fD1HaZRId2DNab0VkUpd2eWb4UeKgcf8RMD8AyqNAp8czqhpUy\n",
       "6zQAK3VWEj9Gh0T/ERuqCArmuu8v8MyicjzEadRIsf3ppy0UqQVSMuRl1v0cUERq/ldN1B0p5pCz\n",
       "I4vdutITCYqsJEQaHaEG1LMMtcLrGPsYWAJr3VHuLk9DxWOjDOr6H4b25A8DJOmEe/R2hmr6pswy\n",
       "KN/bbZMz0fiyQLtJ5AhKMAeTJHRysUB5vZNtWTZCaPIOfvResMlh7Qa4UCDrRuKQ8PXYD4mVHEy0\n",
       "6ggoR9Rq886SspwmLlTqCO1dzSEEaxqB8Yr7jhwGFxoCN1r1vlPKYQjWNALy8tugKuwmKpRA5Jh2\n",
       "NSm1ikMB1jQC8gY2467cvDl35f/GP0zdLHLZFQAAAABJRU5ErkJggg==\n",
       "\" style=\"display:inline;vertical-align:middle;\" /></a></span><br>"
      ],
      "text/plain": [
       "set_12345_subset_eq_set_1234567: |- {1, 2, 3, 4, 5} proper_subset {1, 2, 3, 4, 5, 6, 7}"
      ]
     },
     "execution_count": 138,
     "metadata": {},
     "output_type": "execute_result"
    }
   ],
   "source": [
    "# establish a related proper subset judgement:\n",
    "set_12345_subset_eq_set_1234567 = set_1234567.deduce_enum_proper_subset(subset=set_12345)"
   ]
  },
  {
   "cell_type": "code",
   "execution_count": 139,
   "metadata": {},
   "outputs": [
    {
     "data": {
      "text/html": [
       "<span style=\"font-size:20px;\"> <a class=\"ProveItLink\" href=\"../__pv_it/demonstrations/1e5ed5959301d15052b8f43ff7f6c75486eb3e8e0/proof.ipynb\" style=\"text-decoration: none\">&nbsp;&#x22A2;&nbsp;&nbsp;</a><a class=\"ProveItLink\" href=\"../__pv_it/demonstrations/79c88b7ef52ab758a8de95c460393f8df214b06f0/expr.ipynb\"><img src=\"data:image/png;base64,iVBORw0KGgoAAAANSUhEUgAAAPQAAAAVBAMAAACDGd7qAAAAMFBMVEX///+IiIi6urrc3NxERETM\n",
       "zMwQEBCqqqpUVFQiIiJ2dnYyMjLu7u5mZmaYmJgAAABN0h6tAAAAAXRSTlMAQObYZgAAAuFJREFU\n",
       "SMetVk1oE0EU/pK0SXabTXLyIEJzyrkgiD8Uc/AiKO3Bi0KxiBQEpbnYk2IUPFioqYiHgGKKChJQ\n",
       "AiJKoe0KIhUPCf6AiNGIIIKgRS9Wi+vsvJndnc3utoLvsHlM3vd982bfezsAsu8QamNbAhajABs0\n",
       "4s3MR8UUR3uWogEbNM6bXVF4O3uEWKJxswwYzd6kIwFk/W36XTTH5NrcZoo7ONNo1IlXn7UXpkwK\n",
       "WIb+nbxhpP7If5l9rtVqV7gXDSDTKvQ7af0SK88KIotvlmVViMR+ZKarguktMEHeYBmrrvSuG06e\n",
       "0QCyTUJ6/uyQWNmPvhJ3XgBpuNJsL4LpGFCl6GIBv13pe1CkwwF09l+EdEWC4j+kVwduBUovmajK\n",
       "yvIcuFEOk/YDKGTAL9037hLE84HSzK5L9ynboE4QDWHSfgC3j1L64odX5OTuzz13tgHBm26qTHFZ\n",
       "GDuvmU45b/dIRwN41eel9D7sLnCntQhNntxd2SZToyqT5hxS7Ah7LHD3sUd6HYCdEgbck6Y31lqB\n",
       "cVxsjGfDeA9chsrUcUUm2GL6ku/A1wMwO+mRNqi+crPIiiaM8VOzeYtqEjExDLAVGGFH9JDyyPsH\n",
       "XCiApVWX0uzdiK7XmsiKItR4k9m86ZLCdBoJ6hXLtJnk6HrgedeRALvQZzrvT/C9Jpsw1gg07mSd\n",
       "q8h3rRZsfx0xYjrKS1dUOJbPmcEV7geQJSlrg6fLw9ZgCKrDbVnhxDRoImMPhB2NOxfQssO/qoP0\n",
       "0F51kIYAWqSULHEv0canIR6GaTwpk3emDm9fv55c6KLG9rxkWavQrto903lZ8Ej7+joMwD3oIz+7\n",
       "3Bu+zQatHQb9zXnhbSsr0jSMnDM95ZsfvdKhgADPDUupb013RpwOz5yNkI4EBHhumK7yup/fR843\n",
       "2G0l8aXTazXnoxkJCPKcMI9HvM6lo+tcBjxNXOi9YUQBgrxugEe8qX+9m6X+z93sL3L9KUfSdB30\n",
       "AAAAAElFTkSuQmCC\n",
       "\" style=\"display:inline;vertical-align:middle;\" /></a></span>"
      ],
      "text/plain": [
       "|- {1, 2, 3} subseteq {1, 2, 3, 4, 5, 6, 7}"
      ]
     },
     "execution_count": 139,
     "metadata": {},
     "output_type": "execute_result"
    }
   ],
   "source": [
    "# use transitivity to go from first set to 3rd set\n",
    "# (even though using expressions, the expressions have to be true or provable)\n",
    "SubsetEq(set_123, set_12345).apply_transitivity(SubsetEq(set_12345, set_1234567))"
   ]
  },
  {
   "cell_type": "code",
   "execution_count": 140,
   "metadata": {},
   "outputs": [
    {
     "data": {
      "text/html": [
       "<strong id=\"A_subset_eq_B\">A_subset_eq_B:</strong> <a class=\"ProveItLink\" href=\"../__pv_it/theorems/288bdfb6b256f35e627359603e28f6025e9822ce0/expr.ipynb\"><img src=\"data:image/png;base64,iVBORw0KGgoAAAANSUhEUgAAADsAAAARBAMAAACRPMnQAAAAMFBMVEX///92dnYiIiIQEBBERERU\n",
       "VFS6urqIiIjc3NxmZmaqqqru7u6YmJgyMjLMzMwAAADiRdoGAAAAAXRSTlMAQObYZgAAAO9JREFU\n",
       "KM9jYACBtwzogCf+68wQNyjnPpQ+qqSkpAdhMjswMMx/AFF6fwOY7pVAaH9/gIEhfwKYuWt+A5i+\n",
       "gWR6PVDofAGYeaA+AURxLkCSdmZg4DYCG8q2Yf0BEM2E7LavDAyPosGsbQzvwaa0IsnyfT1TogVh\n",
       "JjD0g92wBUma/QcDw+YAsMLImfEO6IazGACV/AJbDfTkBRCDsQAhzQ/Uyf4dxAK6l8kALHYL1dus\n",
       "34AMDqA07wew2NawDcjefg+ysglk0w+I4EMnWKBeBlpqAlS85f9tBi7/TxNQYyT2f+RUlwUMVASM\n",
       "SkqICIUAAMDnPwbFfXt4AAAAAElFTkSuQmCC\n",
       "\" style=\"display:inline;vertical-align:middle;\" /></a><br>\n",
       "<strong id=\"B_subset_eq_C\">B_subset_eq_C:</strong> <a class=\"ProveItLink\" href=\"../__pv_it/demonstrations/3708a535e2403c7f0638e41077b7db716b0974680/expr.ipynb\"><img src=\"data:image/png;base64,iVBORw0KGgoAAAANSUhEUgAAAD0AAAARBAMAAACcIrmXAAAAMFBMVEX///92dnYyMjKqqqoiIiLu\n",
       "7u7c3NyIiIjMzMwQEBC6urpERERmZmZUVFSYmJgAAADEjrHzAAAAAXRSTlMAQObYZgAAAPZJREFU\n",
       "KM9jYGB4+//O2d0LGNABa/Wde2wCINZsBgaeHxDBty4uLh4QZuUDBuaTD4AMjn8MDFx/wGJJYnDt\n",
       "0a5A4nwCkGD/xsDA9x0sqIYwXjMASKwEsbgnMDBEglQz8BjApXk+g8geEMF/gYHDF6SagQWhPd8B\n",
       "RIaBiP57z7dANOYi5OUL4Mz6BAbWuRA3IeT9G+DMnSA1BmjmzwdbCCb+guTBxjEiDPUHEcwNUO8z\n",
       "3IeEnzJcHuxzRgao9zl+Q0RjbwXA3A8yShTEYgJ6f+VWqHDjFmj4MgNNtQEp5tX/e+b2ZozYYYjZ\n",
       "ewczzigEjC4uiPiFAAClfT1j6lc/fwAAAABJRU5ErkJggg==\n",
       "\" style=\"display:inline;vertical-align:middle;\" /></a><br>\n",
       "<strong id=\"B_equals_D\">B_equals_D:</strong> <a class=\"ProveItLink\" href=\"../__pv_it/demonstrations/aa07d04aa34af5def795608f4ebeb61718afb3d10/expr.ipynb\"><img src=\"data:image/png;base64,iVBORw0KGgoAAAANSUhEUgAAAD0AAAAOBAMAAABuognZAAAAMFBMVEX///92dnYyMjKqqqoiIiLu\n",
       "7u7c3NyIiIjMzMwQEBC6urpERERmZmZUVFSYmJgAAADEjrHzAAAAAXRSTlMAQObYZgAAANVJREFU\n",
       "GNNjYGB4+//O2d0LGNDA2/97b+9NADNnMzDw/ECXZ/jEwMD3GcTg+MfAwPUHXZrjO5A4CWKxfwOq\n",
       "/I4uzw4ycf0DIME9gYEh0hVdnvsDkMgXABL8Fxg4fAPQ5fk3gPRfABL9955vMQAJMSqBwQGwfH8B\n",
       "kKgH6a9PYGCdi+H8+gYgcR/k7Z0gngG6/H4Q8RNE/AXJF6DL/wZivn9Q70MMgtp/Ae79yA1Q73P8\n",
       "xuZ9ViUQiwno/ZVb0eWZgN5fAvIJr/7fM7c3o0sDRc/ePgZkAADK8kIyXFvIfAAAAABJRU5ErkJg\n",
       "gg==\n",
       "\" style=\"display:inline;vertical-align:middle;\" /></a><br>\n",
       "<strong id=\"D_equals_B\">D_equals_B:</strong> <a class=\"ProveItLink\" href=\"../__pv_it/demonstrations/88e3cc08aa40baee45acedba07bfbede928f692a0/expr.ipynb\"><img src=\"data:image/png;base64,iVBORw0KGgoAAAANSUhEUgAAAD0AAAAOBAMAAABuognZAAAAMFBMVEX///8iIiLu7u52dna6uroQ\n",
       "EBBmZmaIiIjMzMyqqqoyMjLc3NxERERUVFSYmJgAAAAdjRNVAAAAAXRSTlMAQObYZgAAANhJREFU\n",
       "GNNjYGB4+//snbMbGNAA3/2/aXeOgJm/gLyf6PIMrAcYGPIbgAyO70AiFUO+/wEDg38CkMH+A0j4\n",
       "P0CXrwda+b4AyOD5ACT2G6DLH2VgYApUADL4D4D0X0CX/8vA0HgJbBHIkHqQfqtVILAMLM3x912N\n",
       "JMQikCPvO6BpZ//NwKAKNvQ8iPiKbjxPAFAN2Nd/QKHxD12eH6iX/TvM+6ogN0LtXwv3Pu8XqPeZ\n",
       "VjFg834/SBcX0PuOCRjySxkYWGKA3udd/zf3TjaG9K3/13LPTGBgAADjW0c0eJFbMgAAAABJRU5E\n",
       "rkJggg==\n",
       "\" style=\"display:inline;vertical-align:middle;\" /></a><br>\n",
       "<strong id=\"C_superset_eq_B\">C_superset_eq_B:</strong> <a class=\"ProveItLink\" href=\"../__pv_it/demonstrations/5dbcc3c75df933ff54827bec44f40ac9496287e20/expr.ipynb\"><img src=\"data:image/png;base64,iVBORw0KGgoAAAANSUhEUgAAADsAAAARBAMAAACRPMnQAAAAMFBMVEX////MzMy6uroyMjIiIiKq\n",
       "qqoQEBB2dnbc3NyYmJhmZmZUVFRERESIiIju7u4AAACOKgoaAAAAAXRSTlMAQObYZgAAAPxJREFU\n",
       "KM9jYGDgu7NrJ0cBAyrg3P971Z5DINa1CQysyyYAGY9dXFzOwuTZDjAwrBdgYHjjB+Ssb4CKvjSC\n",
       "MuSBGvQXMDCYPQBy1OCmPoYqvA+k519g4PoK4kjBpRkNIPQxoKNSHjD0O4A4LxCOsoBQvxkYRPYx\n",
       "MNRfQHNzKcSQ3zPvuAJpfwE06UVgkvcHA8OzDQwM+SCXMTxASEPs5kkAKgE6yx/EYUUYwboBTPED\n",
       "Kd6/UB+zIzSLPIB7m/sTA0M/yGl1MEk+rRMIb8sDA471JwNDFEQHMFB9SqHqzBgYmHJAwq9O71Jg\n",
       "QAeb/+9afSaAgYoAFKEuLhuQhQCs00Y3UXordgAAAABJRU5ErkJggg==\n",
       "\" style=\"display:inline;vertical-align:middle;\" /></a><br>\n",
       "<strong id=\"F_superset_B\">F_superset_B:</strong> <a class=\"ProveItLink\" href=\"../__pv_it/demonstrations/ac767654c18c1524162f75468a0e3c159bd7bd780/expr.ipynb\"><img src=\"data:image/png;base64,iVBORw0KGgoAAAANSUhEUgAAADwAAAAPBAMAAABKPLFCAAAAMFBMVEX///8iIiLc3Nzu7u6qqqq6\n",
       "urp2dnbMzMyYmJgyMjIQEBBUVFRmZmZERESIiIgAAABzTYE0AAAAAXRSTlMAQObYZgAAAPJJREFU\n",
       "GNNjYGB4+//O6Vv/GNBA9/89p+8GgFg/gfgGujTDWgYGnu9Amv0bkGhFl2X/wcDA+gfI4PsKJNxB\n",
       "IoKCgrINUGm+TwwMHCArOT8zMDE4Q0WZMhUgDN4FDAxWwkAGvwCDBsJQJgEIzb+BgV3aAMiIP8Cw\n",
       "CclSHwhVv6PvogOIkT9n1wIkaUYI9V6BgXk1iDHfgHkDkjQ3xPJbICUg7R8ZmB2QpHkNwNRvkPQD\n",
       "oOe+oXqYEe5thv3AUGP7iir9DO5t9r8g1R9QZFkmgClOoGujLjMw2Mz/fQhJ1nQ32Gru+b/P7L2C\n",
       "FszAQL1WgCIEAOrpPY/B6IuoAAAAAElFTkSuQmCC\n",
       "\" style=\"display:inline;vertical-align:middle;\" /></a><br>"
      ],
      "text/plain": [
       "A_subset_eq_B: A subseteq B\n",
       "B_subset_eq_C: B subseteq C\n",
       "B_equals_D: B = D\n",
       "D_equals_B: D = B\n",
       "C_superset_eq_B: C supseteq B\n",
       "F_superset_B: F proper_superset B"
      ]
     },
     "execution_count": 140,
     "metadata": {},
     "output_type": "execute_result"
    }
   ],
   "source": [
    "# this process can work more generally:\n",
    "A_subset_eq_B, B_subset_eq_C, B_equals_D, D_equals_B, C_superset_eq_B, F_superset_B = (\n",
    "    SubsetEq(A, B), SubsetEq(B, C), Equals(B, D), Equals(D, B),\n",
    "    SupersetEq(C, B),ProperSuperset(F, B))"
   ]
  },
  {
   "cell_type": "code",
   "execution_count": 141,
   "metadata": {},
   "outputs": [
    {
     "data": {
      "text/html": [
       "<span style=\"font-size:20px;\"><a class=\"ProveItLink\" href=\"../__pv_it/theorems/288bdfb6b256f35e627359603e28f6025e9822ce0/expr.ipynb\"><img src=\"data:image/png;base64,iVBORw0KGgoAAAANSUhEUgAAADsAAAARBAMAAACRPMnQAAAAMFBMVEX///92dnYiIiIQEBBERERU\n",
       "VFS6urqIiIjc3NxmZmaqqqru7u6YmJgyMjLMzMwAAADiRdoGAAAAAXRSTlMAQObYZgAAAO9JREFU\n",
       "KM9jYACBtwzogCf+68wQNyjnPpQ+qqSkpAdhMjswMMx/AFF6fwOY7pVAaH9/gIEhfwKYuWt+A5i+\n",
       "gWR6PVDofAGYeaA+AURxLkCSdmZg4DYCG8q2Yf0BEM2E7LavDAyPosGsbQzvwaa0IsnyfT1TogVh\n",
       "JjD0g92wBUma/QcDw+YAsMLImfEO6IazGACV/AJbDfTkBRCDsQAhzQ/Uyf4dxAK6l8kALHYL1dus\n",
       "34AMDqA07wew2NawDcjefg+ysglk0w+I4EMnWKBeBlpqAlS85f9tBi7/TxNQYyT2f+RUlwUMVASM\n",
       "SkqICIUAAMDnPwbFfXt4AAAAAElFTkSuQmCC\n",
       "\" style=\"display:inline;vertical-align:middle;\" /></a>, <a class=\"ProveItLink\" href=\"../__pv_it/demonstrations/3708a535e2403c7f0638e41077b7db716b0974680/expr.ipynb\"><img src=\"data:image/png;base64,iVBORw0KGgoAAAANSUhEUgAAAD0AAAARBAMAAACcIrmXAAAAMFBMVEX///92dnYyMjKqqqoiIiLu\n",
       "7u7c3NyIiIjMzMwQEBC6urpERERmZmZUVFSYmJgAAADEjrHzAAAAAXRSTlMAQObYZgAAAPZJREFU\n",
       "KM9jYGB4+//O2d0LGNABa/Wde2wCINZsBgaeHxDBty4uLh4QZuUDBuaTD4AMjn8MDFx/wGJJYnDt\n",
       "0a5A4nwCkGD/xsDA9x0sqIYwXjMASKwEsbgnMDBEglQz8BjApXk+g8geEMF/gYHDF6SagQWhPd8B\n",
       "RIaBiP57z7dANOYi5OUL4Mz6BAbWuRA3IeT9G+DMnSA1BmjmzwdbCCb+guTBxjEiDPUHEcwNUO8z\n",
       "3IeEnzJcHuxzRgao9zl+Q0RjbwXA3A8yShTEYgJ6f+VWqHDjFmj4MgNNtQEp5tX/e+b2ZozYYYjZ\n",
       "ewczzigEjC4uiPiFAAClfT1j6lc/fwAAAABJRU5ErkJggg==\n",
       "\" style=\"display:inline;vertical-align:middle;\" /></a> <a class=\"ProveItLink\" href=\"../__pv_it/demonstrations/d6c6e50f9d1e583c1bbf3aeacd75c9f45736ad100/proof.ipynb\" style=\"text-decoration: none\">&nbsp;&#x22A2;&nbsp;&nbsp;</a><a class=\"ProveItLink\" href=\"../__pv_it/theorems/f2aa334591d158c6c8bf36606d47cf73c05cca490/expr.ipynb\"><img src=\"data:image/png;base64,iVBORw0KGgoAAAANSUhEUgAAADsAAAARBAMAAACRPMnQAAAAMFBMVEX///92dnYiIiIQEBBERERU\n",
       "VFS6urqIiIjc3NxmZmaqqqru7u6YmJgyMjLMzMwAAADiRdoGAAAAAXRSTlMAQObYZgAAAONJREFU\n",
       "KM9jYACBtwwYgLskMoZDAMK+DxU7qqSkpAdhFh9g4Jp8AMzkub8BTPdKwDVv0QYS8xvA7F1Q+gbC\n",
       "7MsgDckQ9oH6BBDFuQAuy/kLRL4Es9k2rAdbwoTQ3K8AIneA2dsY3heA6FaEtHwBgp3A0D8B7ByE\n",
       "kP4DOJMvcma8A5rh9mCvgAk2BgbmCyAGI8JEfRDBBTYC6F4mA7DgLbg02KeMIBYHUJr3A1hwa9gG\n",
       "mMtBBkmDWE1AzPIDIvrQCRqoXH8YGFaC1G75f5uBy//TBLQY2ekamcBATcCopISIUAgAAOAJN1hw\n",
       "1nLzAAAAAElFTkSuQmCC\n",
       "\" style=\"display:inline;vertical-align:middle;\" /></a></span>"
      ],
      "text/plain": [
       "{A subseteq B, B subseteq C} |- A subseteq C"
      ]
     },
     "execution_count": 141,
     "metadata": {},
     "output_type": "execute_result"
    }
   ],
   "source": [
    "A_subset_eq_B.apply_transitivity(\n",
    "        B_subset_eq_C, assumptions=[A_subset_eq_B, B_subset_eq_C])"
   ]
  },
  {
   "cell_type": "code",
   "execution_count": 142,
   "metadata": {},
   "outputs": [
    {
     "data": {
      "text/html": [
       "<span style=\"font-size:20px;\"><a class=\"ProveItLink\" href=\"../__pv_it/theorems/288bdfb6b256f35e627359603e28f6025e9822ce0/expr.ipynb\"><img src=\"data:image/png;base64,iVBORw0KGgoAAAANSUhEUgAAADsAAAARBAMAAACRPMnQAAAAMFBMVEX///92dnYiIiIQEBBERERU\n",
       "VFS6urqIiIjc3NxmZmaqqqru7u6YmJgyMjLMzMwAAADiRdoGAAAAAXRSTlMAQObYZgAAAO9JREFU\n",
       "KM9jYACBtwzogCf+68wQNyjnPpQ+qqSkpAdhMjswMMx/AFF6fwOY7pVAaH9/gIEhfwKYuWt+A5i+\n",
       "gWR6PVDofAGYeaA+AURxLkCSdmZg4DYCG8q2Yf0BEM2E7LavDAyPosGsbQzvwaa0IsnyfT1TogVh\n",
       "JjD0g92wBUma/QcDw+YAsMLImfEO6IazGACV/AJbDfTkBRCDsQAhzQ/Uyf4dxAK6l8kALHYL1dus\n",
       "34AMDqA07wew2NawDcjefg+ysglk0w+I4EMnWKBeBlpqAlS85f9tBi7/TxNQYyT2f+RUlwUMVASM\n",
       "SkqICIUAAMDnPwbFfXt4AAAAAElFTkSuQmCC\n",
       "\" style=\"display:inline;vertical-align:middle;\" /></a>, <a class=\"ProveItLink\" href=\"../__pv_it/demonstrations/aa07d04aa34af5def795608f4ebeb61718afb3d10/expr.ipynb\"><img src=\"data:image/png;base64,iVBORw0KGgoAAAANSUhEUgAAAD0AAAAOBAMAAABuognZAAAAMFBMVEX///92dnYyMjKqqqoiIiLu\n",
       "7u7c3NyIiIjMzMwQEBC6urpERERmZmZUVFSYmJgAAADEjrHzAAAAAXRSTlMAQObYZgAAANVJREFU\n",
       "GNNjYGB4+//O2d0LGNDA2/97b+9NADNnMzDw/ECXZ/jEwMD3GcTg+MfAwPUHXZrjO5A4CWKxfwOq\n",
       "/I4uzw4ycf0DIME9gYEh0hVdnvsDkMgXABL8Fxg4fAPQ5fk3gPRfABL9955vMQAJMSqBwQGwfH8B\n",
       "kKgH6a9PYGCdi+H8+gYgcR/k7Z0gngG6/H4Q8RNE/AXJF6DL/wZivn9Q70MMgtp/Ae79yA1Q73P8\n",
       "xuZ9ViUQiwno/ZVb0eWZgN5fAvIJr/7fM7c3o0sDRc/ePgZkAADK8kIyXFvIfAAAAABJRU5ErkJg\n",
       "gg==\n",
       "\" style=\"display:inline;vertical-align:middle;\" /></a> <a class=\"ProveItLink\" href=\"../__pv_it/demonstrations/5b0586a9efe27d7b617026b536b4afe68fc2c75a0/proof.ipynb\" style=\"text-decoration: none\">&nbsp;&#x22A2;&nbsp;&nbsp;</a><a class=\"ProveItLink\" href=\"../__pv_it/demonstrations/2c3502d653c31b9114346e4fc72aa9ef2c9fd8960/expr.ipynb\"><img src=\"data:image/png;base64,iVBORw0KGgoAAAANSUhEUgAAADwAAAARBAMAAABz4NKpAAAAMFBMVEX///92dnYiIiIQEBBERERU\n",
       "VFS6urqIiIjc3NxmZmaqqqru7u6YmJgyMjLMzMwAAADiRdoGAAAAAXRSTlMAQObYZgAAAOtJREFU\n",
       "KM9jYACBtwzogCf+S6hLBJRzHyYYpKSk9ADM5L/AwHB+AUT0/gYwzXGxAa79fQEDA6cBmLlrPkSY\n",
       "FyHLUA80hO0PmHmgPgFMz0Ky3B9k2kcQi23D+gNgIQUk6S8gia8g1jawRUDFAQhZvu9Agh2sO4Gh\n",
       "fwKI5nZASLP/AxKs30AKI2fGO6AbzvIB5DmQy9kYGJgvgMXEEdL8IA3nQU4C+p0J4kHeBSje5jYB\n",
       "OQgoxvsBLMYdmo3s7b0gM5tANv2AulcEFqjAYGbTBNJb/t9m4PL/NAE1RmL/R4Z6NjBQEwgpKcEj\n",
       "FAIAE1Q8UO24WhoAAAAASUVORK5CYII=\n",
       "\" style=\"display:inline;vertical-align:middle;\" /></a></span>"
      ],
      "text/plain": [
       "{A subseteq B, B = D} |- A subseteq D"
      ]
     },
     "execution_count": 142,
     "metadata": {},
     "output_type": "execute_result"
    }
   ],
   "source": [
    "A_subset_eq_B.apply_transitivity(\n",
    "        B_equals_D, assumptions=[A_subset_eq_B, B_equals_D])"
   ]
  },
  {
   "cell_type": "code",
   "execution_count": 143,
   "metadata": {},
   "outputs": [
    {
     "data": {
      "text/html": [
       "<span style=\"font-size:20px;\"><a class=\"ProveItLink\" href=\"../__pv_it/theorems/288bdfb6b256f35e627359603e28f6025e9822ce0/expr.ipynb\"><img src=\"data:image/png;base64,iVBORw0KGgoAAAANSUhEUgAAADsAAAARBAMAAACRPMnQAAAAMFBMVEX///92dnYiIiIQEBBERERU\n",
       "VFS6urqIiIjc3NxmZmaqqqru7u6YmJgyMjLMzMwAAADiRdoGAAAAAXRSTlMAQObYZgAAAO9JREFU\n",
       "KM9jYACBtwzogCf+68wQNyjnPpQ+qqSkpAdhMjswMMx/AFF6fwOY7pVAaH9/gIEhfwKYuWt+A5i+\n",
       "gWR6PVDofAGYeaA+AURxLkCSdmZg4DYCG8q2Yf0BEM2E7LavDAyPosGsbQzvwaa0IsnyfT1TogVh\n",
       "JjD0g92wBUma/QcDw+YAsMLImfEO6IazGACV/AJbDfTkBRCDsQAhzQ/Uyf4dxAK6l8kALHYL1dus\n",
       "34AMDqA07wew2NawDcjefg+ysglk0w+I4EMnWKBeBlpqAlS85f9tBi7/TxNQYyT2f+RUlwUMVASM\n",
       "SkqICIUAAMDnPwbFfXt4AAAAAElFTkSuQmCC\n",
       "\" style=\"display:inline;vertical-align:middle;\" /></a>, <a class=\"ProveItLink\" href=\"../__pv_it/demonstrations/88e3cc08aa40baee45acedba07bfbede928f692a0/expr.ipynb\"><img src=\"data:image/png;base64,iVBORw0KGgoAAAANSUhEUgAAAD0AAAAOBAMAAABuognZAAAAMFBMVEX///8iIiLu7u52dna6uroQ\n",
       "EBBmZmaIiIjMzMyqqqoyMjLc3NxERERUVFSYmJgAAAAdjRNVAAAAAXRSTlMAQObYZgAAANhJREFU\n",
       "GNNjYGB4+//snbMbGNAA3/2/aXeOgJm/gLyf6PIMrAcYGPIbgAyO70AiFUO+/wEDg38CkMH+A0j4\n",
       "P0CXrwda+b4AyOD5ACT2G6DLH2VgYApUADL4D4D0X0CX/8vA0HgJbBHIkHqQfqtVILAMLM3x912N\n",
       "JMQikCPvO6BpZ//NwKAKNvQ8iPiKbjxPAFAN2Nd/QKHxD12eH6iX/TvM+6ogN0LtXwv3Pu8XqPeZ\n",
       "VjFg834/SBcX0PuOCRjySxkYWGKA3udd/zf3TjaG9K3/13LPTGBgAADjW0c0eJFbMgAAAABJRU5E\n",
       "rkJggg==\n",
       "\" style=\"display:inline;vertical-align:middle;\" /></a> <a class=\"ProveItLink\" href=\"../__pv_it/demonstrations/fb65807bed1803c97f51d2d0c62824808b45c6f00/proof.ipynb\" style=\"text-decoration: none\">&nbsp;&#x22A2;&nbsp;&nbsp;</a><a class=\"ProveItLink\" href=\"../__pv_it/demonstrations/2c3502d653c31b9114346e4fc72aa9ef2c9fd8960/expr.ipynb\"><img src=\"data:image/png;base64,iVBORw0KGgoAAAANSUhEUgAAADwAAAARBAMAAABz4NKpAAAAMFBMVEX///92dnYiIiIQEBBERERU\n",
       "VFS6urqIiIjc3NxmZmaqqqru7u6YmJgyMjLMzMwAAADiRdoGAAAAAXRSTlMAQObYZgAAAOtJREFU\n",
       "KM9jYACBtwzogCf+S6hLBJRzHyYYpKSk9ADM5L/AwHB+AUT0/gYwzXGxAa79fQEDA6cBmLlrPkSY\n",
       "FyHLUA80hO0PmHmgPgFMz0Ky3B9k2kcQi23D+gNgIQUk6S8gia8g1jawRUDFAQhZvu9Agh2sO4Gh\n",
       "fwKI5nZASLP/AxKs30AKI2fGO6AbzvIB5DmQy9kYGJgvgMXEEdL8IA3nQU4C+p0J4kHeBSje5jYB\n",
       "OQgoxvsBLMYdmo3s7b0gM5tANv2AulcEFqjAYGbTBNJb/t9m4PL/NAE1RmL/R4Z6NjBQEwgpKcEj\n",
       "FAIAE1Q8UO24WhoAAAAASUVORK5CYII=\n",
       "\" style=\"display:inline;vertical-align:middle;\" /></a></span>"
      ],
      "text/plain": [
       "{A subseteq B, D = B} |- A subseteq D"
      ]
     },
     "execution_count": 143,
     "metadata": {},
     "output_type": "execute_result"
    }
   ],
   "source": [
    "A_subset_eq_B.apply_transitivity(\n",
    "        D_equals_B, assumptions=[A_subset_eq_B, D_equals_B])"
   ]
  },
  {
   "cell_type": "code",
   "execution_count": 144,
   "metadata": {},
   "outputs": [
    {
     "data": {
      "text/html": [
       "<span style=\"font-size:20px;\"><a class=\"ProveItLink\" href=\"../__pv_it/theorems/288bdfb6b256f35e627359603e28f6025e9822ce0/expr.ipynb\"><img src=\"data:image/png;base64,iVBORw0KGgoAAAANSUhEUgAAADsAAAARBAMAAACRPMnQAAAAMFBMVEX///92dnYiIiIQEBBERERU\n",
       "VFS6urqIiIjc3NxmZmaqqqru7u6YmJgyMjLMzMwAAADiRdoGAAAAAXRSTlMAQObYZgAAAO9JREFU\n",
       "KM9jYACBtwzogCf+68wQNyjnPpQ+qqSkpAdhMjswMMx/AFF6fwOY7pVAaH9/gIEhfwKYuWt+A5i+\n",
       "gWR6PVDofAGYeaA+AURxLkCSdmZg4DYCG8q2Yf0BEM2E7LavDAyPosGsbQzvwaa0IsnyfT1TogVh\n",
       "JjD0g92wBUma/QcDw+YAsMLImfEO6IazGACV/AJbDfTkBRCDsQAhzQ/Uyf4dxAK6l8kALHYL1dus\n",
       "34AMDqA07wew2NawDcjefg+ysglk0w+I4EMnWKBeBlpqAlS85f9tBi7/TxNQYyT2f+RUlwUMVASM\n",
       "SkqICIUAAMDnPwbFfXt4AAAAAElFTkSuQmCC\n",
       "\" style=\"display:inline;vertical-align:middle;\" /></a>, <a class=\"ProveItLink\" href=\"../__pv_it/demonstrations/5dbcc3c75df933ff54827bec44f40ac9496287e20/expr.ipynb\"><img src=\"data:image/png;base64,iVBORw0KGgoAAAANSUhEUgAAADsAAAARBAMAAACRPMnQAAAAMFBMVEX////MzMy6uroyMjIiIiKq\n",
       "qqoQEBB2dnbc3NyYmJhmZmZUVFRERESIiIju7u4AAACOKgoaAAAAAXRSTlMAQObYZgAAAPxJREFU\n",
       "KM9jYGDgu7NrJ0cBAyrg3P971Z5DINa1CQysyyYAGY9dXFzOwuTZDjAwrBdgYHjjB+Ssb4CKvjSC\n",
       "MuSBGvQXMDCYPQBy1OCmPoYqvA+k519g4PoK4kjBpRkNIPQxoKNSHjD0O4A4LxCOsoBQvxkYRPYx\n",
       "MNRfQHNzKcSQ3zPvuAJpfwE06UVgkvcHA8OzDQwM+SCXMTxASEPs5kkAKgE6yx/EYUUYwboBTPED\n",
       "Kd6/UB+zIzSLPIB7m/sTA0M/yGl1MEk+rRMIb8sDA471JwNDFEQHMFB9SqHqzBgYmHJAwq9O71Jg\n",
       "QAeb/+9afSaAgYoAFKEuLhuQhQCs00Y3UXordgAAAABJRU5ErkJggg==\n",
       "\" style=\"display:inline;vertical-align:middle;\" /></a> <a class=\"ProveItLink\" href=\"../__pv_it/demonstrations/fa7ca78087a28ffb1b24c594e4ad0528d9468cac0/proof.ipynb\" style=\"text-decoration: none\">&nbsp;&#x22A2;&nbsp;&nbsp;</a><a class=\"ProveItLink\" href=\"../__pv_it/theorems/f2aa334591d158c6c8bf36606d47cf73c05cca490/expr.ipynb\"><img src=\"data:image/png;base64,iVBORw0KGgoAAAANSUhEUgAAADsAAAARBAMAAACRPMnQAAAAMFBMVEX///92dnYiIiIQEBBERERU\n",
       "VFS6urqIiIjc3NxmZmaqqqru7u6YmJgyMjLMzMwAAADiRdoGAAAAAXRSTlMAQObYZgAAAONJREFU\n",
       "KM9jYACBtwwYgLskMoZDAMK+DxU7qqSkpAdhFh9g4Jp8AMzkub8BTPdKwDVv0QYS8xvA7F1Q+gbC\n",
       "7MsgDckQ9oH6BBDFuQAuy/kLRL4Es9k2rAdbwoTQ3K8AIneA2dsY3heA6FaEtHwBgp3A0D8B7ByE\n",
       "kP4DOJMvcma8A5rh9mCvgAk2BgbmCyAGI8JEfRDBBTYC6F4mA7DgLbg02KeMIBYHUJr3A1hwa9gG\n",
       "mMtBBkmDWE1AzPIDIvrQCRqoXH8YGFaC1G75f5uBy//TBLQY2ekamcBATcCopISIUAgAAOAJN1hw\n",
       "1nLzAAAAAElFTkSuQmCC\n",
       "\" style=\"display:inline;vertical-align:middle;\" /></a></span>"
      ],
      "text/plain": [
       "{A subseteq B, C supseteq B} |- A subseteq C"
      ]
     },
     "execution_count": 144,
     "metadata": {},
     "output_type": "execute_result"
    }
   ],
   "source": [
    "# SubsetEq(A, B) and SupersetEq(C, B)?\n",
    "A_subset_eq_B.apply_transitivity(\n",
    "        C_superset_eq_B, assumptions=[A_subset_eq_B, C_superset_eq_B])"
   ]
  },
  {
   "cell_type": "code",
   "execution_count": 145,
   "metadata": {},
   "outputs": [
    {
     "data": {
      "text/html": [
       "<span style=\"font-size:20px;\"><a class=\"ProveItLink\" href=\"../__pv_it/theorems/288bdfb6b256f35e627359603e28f6025e9822ce0/expr.ipynb\"><img src=\"data:image/png;base64,iVBORw0KGgoAAAANSUhEUgAAADsAAAARBAMAAACRPMnQAAAAMFBMVEX///92dnYiIiIQEBBERERU\n",
       "VFS6urqIiIjc3NxmZmaqqqru7u6YmJgyMjLMzMwAAADiRdoGAAAAAXRSTlMAQObYZgAAAO9JREFU\n",
       "KM9jYACBtwzogCf+68wQNyjnPpQ+qqSkpAdhMjswMMx/AFF6fwOY7pVAaH9/gIEhfwKYuWt+A5i+\n",
       "gWR6PVDofAGYeaA+AURxLkCSdmZg4DYCG8q2Yf0BEM2E7LavDAyPosGsbQzvwaa0IsnyfT1TogVh\n",
       "JjD0g92wBUma/QcDw+YAsMLImfEO6IazGACV/AJbDfTkBRCDsQAhzQ/Uyf4dxAK6l8kALHYL1dus\n",
       "34AMDqA07wew2NawDcjefg+ysglk0w+I4EMnWKBeBlpqAlS85f9tBi7/TxNQYyT2f+RUlwUMVASM\n",
       "SkqICIUAAMDnPwbFfXt4AAAAAElFTkSuQmCC\n",
       "\" style=\"display:inline;vertical-align:middle;\" /></a>, <a class=\"ProveItLink\" href=\"../__pv_it/demonstrations/ac767654c18c1524162f75468a0e3c159bd7bd780/expr.ipynb\"><img src=\"data:image/png;base64,iVBORw0KGgoAAAANSUhEUgAAADwAAAAPBAMAAABKPLFCAAAAMFBMVEX///8iIiLc3Nzu7u6qqqq6\n",
       "urp2dnbMzMyYmJgyMjIQEBBUVFRmZmZERESIiIgAAABzTYE0AAAAAXRSTlMAQObYZgAAAPJJREFU\n",
       "GNNjYGB4+//O6Vv/GNBA9/89p+8GgFg/gfgGujTDWgYGnu9Amv0bkGhFl2X/wcDA+gfI4PsKJNxB\n",
       "IoKCgrINUGm+TwwMHCArOT8zMDE4Q0WZMhUgDN4FDAxWwkAGvwCDBsJQJgEIzb+BgV3aAMiIP8Cw\n",
       "CclSHwhVv6PvogOIkT9n1wIkaUYI9V6BgXk1iDHfgHkDkjQ3xPJbICUg7R8ZmB2QpHkNwNRvkPQD\n",
       "oOe+oXqYEe5thv3AUGP7iir9DO5t9r8g1R9QZFkmgClOoGujLjMw2Mz/fQhJ1nQ32Gru+b/P7L2C\n",
       "FszAQL1WgCIEAOrpPY/B6IuoAAAAAElFTkSuQmCC\n",
       "\" style=\"display:inline;vertical-align:middle;\" /></a> <a class=\"ProveItLink\" href=\"../__pv_it/demonstrations/9663f092838e9611a233360706b1ecfde8fcc1140/proof.ipynb\" style=\"text-decoration: none\">&nbsp;&#x22A2;&nbsp;&nbsp;</a><a class=\"ProveItLink\" href=\"../__pv_it/demonstrations/c6bb0cbe7647393949aa1794c4af9e2e73ee99cf0/expr.ipynb\"><img src=\"data:image/png;base64,iVBORw0KGgoAAAANSUhEUgAAADsAAAAPBAMAAACo4Ko7AAAAMFBMVEX///92dnYiIiIQEBBERERU\n",
       "VFS6urqIiIjc3NxmZmaqqqru7u6YmJgyMjLMzMwAAADiRdoGAAAAAXRSTlMAQObYZgAAAN1JREFU\n",
       "GNNjYACBtwzogN3/y8wQ+wII5z6GNAP/BQYGlgNgJs/9DRjS7wWA4glg5q75DRCxI0pKSnoQZj1Q\n",
       "iusBmHmgHqKsVwKhG2hgAxfYULYN6yGWaCAZ/omBAyLIsI3hPdiJnAsQsmw/GVihNiYw9E8A0UxI\n",
       "mhn/TjWGsPgiZ8Y7gBitSNK8vxm2Qs1hYGC+AGJsQfa2AsMuCAtoI5MBuuH5AlAGB1Ca9wPYvgKE\n",
       "tHwClNEExCw/wMxbCGl9KL3l/20GLv9PYKdvDYMGLvfc/5ENmPHw0AkeqBAAAL/NNfL4EznGAAAA\n",
       "AElFTkSuQmCC\n",
       "\" style=\"display:inline;vertical-align:middle;\" /></a></span>"
      ],
      "text/plain": [
       "{A subseteq B, F proper_superset B} |- A proper_subset F"
      ]
     },
     "execution_count": 145,
     "metadata": {},
     "output_type": "execute_result"
    }
   ],
   "source": [
    "# SubsetEq(A, B) and_proper_superset(F, B)?\n",
    "A_subset_eq_B.apply_transitivity(\n",
    "        F_superset_B, assumptions=[A_subset_eq_B, F_superset_B])"
   ]
  },
  {
   "cell_type": "markdown",
   "metadata": {},
   "source": [
    "### `SubsetEq.deduce_in_bool()`"
   ]
  },
  {
   "cell_type": "code",
   "execution_count": 146,
   "metadata": {},
   "outputs": [
    {
     "data": {
      "text/html": [
       "<span style=\"font-size:20px;\"> <a class=\"ProveItLink\" href=\"../__pv_it/demonstrations/c168e23ca6b2f1e8d775d0e4ccc90e9c045dace10/proof.ipynb\" style=\"text-decoration: none\">&nbsp;&#x22A2;&nbsp;&nbsp;</a><a class=\"ProveItLink\" href=\"../__pv_it/theorems/e19e8e49333d81f03b5449f5eb550d542a49cdb80/expr.ipynb\"><img src=\"data:image/png;base64,iVBORw0KGgoAAAANSUhEUgAAAHEAAAAUBAMAAABIac8KAAAAMFBMVEX///9UVFTMzMx2dna6uroQ\n",
       "EBCqqqqIiIgiIiJmZmYyMjJERETu7u6YmJjc3NwAAAC+aOQFAAAAAXRSTlMAQObYZgAAAdBJREFU\n",
       "OMtjYOC7wIAXsD3AJXMaQmlhSPDKf5wpvYWBQQ5NvCJ6/9JGByBjHYS/Hip+saOjownCZN3AwDBf\n",
       "geEUupEL1Hn2zAWaPAFiwfoDYPqVHUKFPtAf/hMYmAvQdG7wZSjiZmDggHjj2HwIvQ5JRT1Q6H4B\n",
       "A08A1PU7OrpgOtOAOl9AhC/Ug1zOwJmApHMrAwNPBNApS8A8pu0HEHaaAEOnEsxhOZAPDmIOZFd9\n",
       "ZGDQkAHSlmDeqQMI17I0CTEw7AVzjjDog33zEEkj08e71W0gxi0wFxHEG1z7vwJdCJZjcGB4PwEp\n",
       "isCA/R8Dw1EBICMDoh45hGwvMzCEgI2XnCm/Ad213MCQYf8GCmOwkqhVQADTyc1yAaKTBRh5C0AM\n",
       "5BjgB9rH/h2mkw/FTm4GAYhrgSHKAQn7ZajRyfgFyPAAcwOQdTIyLACHEB9QJ9cHsOhBkQPI0am/\n",
       "AR5C01Hs5DUABzkoTrn/QYSVd8BS31KgL6JB5kwGczngUb1AmcF4Itgpp/+vYWDb/2MCahqT+i85\n",
       "cTdY9SIwn0faBzXFczxgIAB4GiA0izU09cHy0gRCOjFSPAzsQ1HV0YHIZVBwikDOxg324ZIgVJrw\n",
       "4ggIAIrPf/dOa0YHAAAAAElFTkSuQmCC\n",
       "\" style=\"display:inline;vertical-align:middle;\" /></a></span>"
      ],
      "text/plain": [
       "|- (A subseteq B) in BOOLEAN"
      ]
     },
     "execution_count": 146,
     "metadata": {},
     "output_type": "execute_result"
    }
   ],
   "source": [
    "# A subset_eq B should be a Boolean\n",
    "SubsetEq(A, B).deduce_in_bool()"
   ]
  },
  {
   "cell_type": "code",
   "execution_count": 147,
   "metadata": {},
   "outputs": [
    {
     "data": {
      "text/html": [
       "<span style=\"font-size:20px;\"> <a class=\"ProveItLink\" href=\"../__pv_it/demonstrations/7a381f95eab07472a257f5c5a62bf102939611710/proof.ipynb\" style=\"text-decoration: none\">&nbsp;&#x22A2;&nbsp;&nbsp;</a><a class=\"ProveItLink\" href=\"../__pv_it/demonstrations/0846d3046cc0cae3bfdb91180517529baaab39fd0/expr.ipynb\"><img src=\"data:image/png;base64,iVBORw0KGgoAAAANSUhEUgAAAOwAAAAVBAMAAAC3YB/2AAAAMFBMVEX////MzMxUVFR2dna6uroQ\n",
       "EBCqqqqIiIgiIiJmZmYyMjJERETu7u6YmJjc3NwAAACgK8IjAAAAAXRSTlMAQObYZgAAAzVJREFU\n",
       "SMeVVk1IFVEUPs95jc9x3vPRNshHRIpSzEZURHATuDA0cGFZ8ZYJkU8qxN2jyIZoYQk9sIX2symi\n",
       "ZhNakQ1BhLp4Ay36gejRqnZFYiD2c+89987cOz9WFwa+Off7zpl77rnnDgAb7zxIGKmKG2NN5v9N\n",
       "KUaOeFi1kufTh6O27fiqUq8lTK6R56NqGVFe56IahW8+Kse43XUElQdUc/3Fp5sjewl4QJ4ude6u\n",
       "8iYms622becVEw5jJm45G0hbDZmNVGltxYPsTDTsRlzY3O1a5EtwNBXjMryFNK2k2hvTXn3egUwt\n",
       "4oYqomGNGiSEHYwrHa2MNHOI52rJvszD6kUHPkfdaOW4sNchKWxXXI5p5tnEHSzrRddfrTbgwJQv\n",
       "/NJ9DqeMlimeNm1yAqADcTkUKDdbOYZvtybFJzE+89XZXOTKbqx9N0hy/848PKO4jab2BDzEmep9\n",
       "8xdu5zQ8EWWbK0hhKf9gzfiKlbzpVmsSH309d7nyPbMcCPZ25PcwwDSBOj2aLz24gTPjLvxgIGPB\n",
       "PlGophNEpXzzODSgSd+CppLER19zosRPMosjlZT2wQISObVEP3behUvioJrfGZjHzLSW1CQzfsMW\n",
       "ZDBYwwJULZnPwAWhbGaSo/fI4GHBOUTDYiMaBfObOLZpPEKjuNWY3k61/exwoJoXxTNYlPjoa10o\n",
       "WdicvFpw6liSoR3oAnXcK/hJlwIg1sxbkiGdTsInCxznx9bjy+T8wBdT9jPTkBy2YGBJkco0N6Bu\n",
       "4TSbWad7g/FB9yvZ3DMgV3K1CG3YcJv6yD5L/MBXR1BSFWW1r7G+6YFYhLcFy9wkaD88BgaugXk1\n",
       "OJapHrk5Npay5zWoLgDUeY0zDDA+EzJfXDmL1Vb0m6OldRcwB3T+xeTulj6wSbpWzpDFUqD1vonv\n",
       "BjQ7LROfzkLmCkGVXmAA+VSIvlB5E3PVPqBcBaHmqLthkBCWj1MREAixOfITkO7B5ijuFXq2OoLG\n",
       "GAFxYQO+FQGa+nXhq0CMZeX+fBUB4r7tsm1/b32+WQoDSciUq9tc84b/rV4EpIdj+rzgZyEMAiEq\n",
       "l7f5qYGx//yXGvvXf6ls/E/NH2gD8/Z4jAZkAAAAAElFTkSuQmCC\n",
       "\" style=\"display:inline;vertical-align:middle;\" /></a></span>"
      ],
      "text/plain": [
       "|- ({a, b, c} subseteq {a, b, c, d}) in BOOLEAN"
      ]
     },
     "execution_count": 147,
     "metadata": {},
     "output_type": "execute_result"
    }
   ],
   "source": [
    "SubsetEq(Set(a, b, c), Set(a, b, c, d)).deduce_in_bool()"
   ]
  },
  {
   "cell_type": "markdown",
   "metadata": {},
   "source": [
    "### Testing the `ProperSuperset` class methods\n",
    "<br/>\n",
    "<font size =3>The <span style=\"font-family=courier\">ProperSuperset</span> class has the following class methods:<br/>\n",
    "    <div style=\"width: 70%; border: 1px solid green; padding: 5px; margin: 20px; background-color: gainsboro; font-family:courier\">\n",
    "        <ul>\n",
    "            <li>derive_reversed(self, assumptions=USE_DEFAULTS)</li>\n",
    "            <li>derive_relaxed(self, assumptions=USE_DEFAULTS)</li>\n",
    "            <li>apply_transitivity(self, other, assumptions=USE_DEFAULTS)</li>\n",
    "            <li>deduce_in_bool(self, assumptions=USE_DEFAULTS)</li>\n",
    "        </ul>\n",
    "    </div>\n",
    "</font>"
   ]
  },
  {
   "cell_type": "code",
   "execution_count": 148,
   "metadata": {},
   "outputs": [
    {
     "data": {
      "text/html": [
       "<strong id=\"set_134_properSuperset_set_13\">set_134_properSuperset_set_13:</strong> <a class=\"ProveItLink\" href=\"../__pv_it/demonstrations/a49cce6cb780b6b8b7eeca8f9ecd9838a8c87bf10/expr.ipynb\"><img src=\"data:image/png;base64,iVBORw0KGgoAAAANSUhEUgAAAJIAAAAVBAMAAABf4KrdAAAAMFBMVEX///+IiIi6urrc3NxERETM\n",
       "zMwQEBCqqqpUVFQiIiJ2dnYyMjLu7u5mZmaYmJgAAABN0h6tAAAAAXRSTlMAQObYZgAAAbhJREFU\n",
       "OMuVVL9Lw1AQvio2bYylk5PQTMXdyYLQP0BsBxcHQUTcxC520UFwE0VFl4BiBl2cCi4iFNLRyQ4O\n",
       "LtWCo6COiqD2/cjLXXIt+Ibkcfd937t7d+8AIPcEfdfiBGNMEhTMuYUBq1hNmDiChOU+sGn46qIW\n",
       "7kfaAGONZEgMQcLsQ2GoB8oxA9ZPCMpuh16yOIK0iY+ze6AdhRp8hZTx/kpxglECeNeOogvfYdyv\n",
       "kdKC53lzJCZKYJQgys4epTGVrjkloNlhx52vNy9SaSlKa5pXEgQJyzSIo3Smd05eKOFCWW354wgS\n",
       "Vq/SI1LL+mgQStBEd60yZQk92PwxUAesqu2GUsocRUo74sMTBKxIjpgCqMjWdHyldINimkVtHyMI\n",
       "WKaMHb+BVrL2O89redrQKjuOIGG0FCsA52Hc6VjtUj5TO0WQMOUoBOCIlnwT7XGvHlu6THt8E3cB\n",
       "IaB+elxvdsHrHTPUeXAheyoZlc8uUnIm95ASJeDOlFdjyrEVe67itZxcUhMhKCVzE7bh+3El8oIZ\n",
       "goRF1WmZRPIGMnA+tWIwMwK7BouGoZsckEmChln/neMWO8f/AKy5sZMhDsPCAAAAAElFTkSuQmCC\n",
       "\" style=\"display:inline;vertical-align:middle;\" /></a><br>\n",
       "<strong id=\"set_1346_properSuperset_set_134\">set_1346_properSuperset_set_134:</strong> <a class=\"ProveItLink\" href=\"../__pv_it/demonstrations/e5fd6bcba931e8dc4ed7a053833c8754f743d5830/expr.ipynb\"><img src=\"data:image/png;base64,iVBORw0KGgoAAAANSUhEUgAAALkAAAAVBAMAAADoXVL6AAAAMFBMVEX///+IiIi6urrc3NxERETM\n",
       "zMwQEBCqqqpUVFQiIiJ2dnYyMjLu7u5mZmaYmJgAAABN0h6tAAAAAXRSTlMAQObYZgAAAmVJREFU\n",
       "OMudlctrE1EUxr+8OplkMnHVRTdm1Z0QcFdQghtRKM2iWyEEK124yEq6sOhCxQdIQBeNKKZQiqmb\n",
       "2QjiQqYuxMcirbjSpuQf0BYFiyRYZ+7cx7mZaUa8i9wzh/v7cubMd+8FYO8ifmS23Yjst34cYL3C\n",
       "v4zkQjj3sR0L2Ps0l9pYa4j4gghWp6rA17DAnvY0s3EWFGVArun9GJd5+hSMP2LJiiixVHCATlid\n",
       "pQSa2sK1PkU7Qv3dsyFPH2/gNw8TizyYRbpypLpEEwcoNikq1WEL9ekSBjw8/ZI38KcqFJlWq/Ww\n",
       "T2sXaLKOokPRCHWozrS5erpG1FkPnpcj1L0hO9M+Uv09N4Jd5urFF6ufvGmdfPpmpLr1CBRlQNbR\n",
       "lsw84cbeBFfvvobZ0A2yHEz3NPVUZwcUZcCVql57os7fTqrvo+D5Ir+l1M2ghwsjnZksUdQH5h+M\n",
       "LMElVrxRFeqeE+wf3nznmFyS9RufOVceQScCcwrUB6a12k8Cc2w7fYBQNx3Y3pfOX1cFpF2yGzma\n",
       "KiN9AIIyIFuh6ocuV1/q9X5tB4XWWO2070FncIOqF4dCnaN7Yc9cBJ6K84rvpswQhZrmGUxFeGai\n",
       "AlM2aVF4hqknvHzXN8933+9dh/+TxXbWXbxtaHvVcIi6QO2+53drIItUfi/cGuzCfOz3sve5FERY\n",
       "O7yPlv8euS83td305rar1BV6oncGAcBQspvYuIpQZLj6kcVOgvNVLTUWyNXEozqtZZQbORD1sR4P\n",
       "yPPdkn5W0aZaPO58HwOIu8mWeRWpmy1ZD6vn2/GA8f/36nLMvfoXb1DaYaRW0UsAAAAASUVORK5C\n",
       "YII=\n",
       "\" style=\"display:inline;vertical-align:middle;\" /></a><br>"
      ],
      "text/plain": [
       "set_134_properSuperset_set_13: {1, 3, 4} proper_superset {1, 3}\n",
       "set_1346_properSuperset_set_134: {1, 3, 4, 6} proper_superset {1, 3, 4}"
      ]
     },
     "execution_count": 148,
     "metadata": {},
     "output_type": "execute_result"
    }
   ],
   "source": [
    "# define a few proper supersetset relations for testing\n",
    "set_13, set_134, set_1346 = (\n",
    "    Set(one, three), Set(one, three, four), Set(one, three, four, six))\n",
    "set_134_properSuperset_set_13, set_1346_properSuperset_set_134 = (\n",
    "        ProperSuperset(set_134, set_13), ProperSuperset(set_1346, set_134))"
   ]
  },
  {
   "cell_type": "code",
   "execution_count": 149,
   "metadata": {},
   "outputs": [
    {
     "data": {
      "text/html": [
       "<strong id=\"set_bcf_properSuperset_set_bc\">set_bcf_properSuperset_set_bc:</strong> <a class=\"ProveItLink\" href=\"../__pv_it/demonstrations/9cf7ceb031d94efab86a43c9c5922afa551bfd1a0/expr.ipynb\"><img src=\"data:image/png;base64,iVBORw0KGgoAAAANSUhEUgAAAI8AAAAVBAMAAACNsKCFAAAAMFBMVEX///+IiIi6urrc3NxERETM\n",
       "zMwQEBCqqqpUVFQiIiJ2dnYyMjLu7u5mZmaYmJgAAABN0h6tAAAAAXRSTlMAQObYZgAAAiZJREFU\n",
       "OMuVVM9r1FAQ/tgfTTabze4evBQKe/IkbK/ePAn+gj34B4jooRfpyVNLVyhUEcqCgqx4WEEUWyg5\n",
       "iliJIl6kpIuIBVHXP0C7rUhBS+lk3kte3r7k4IMkky8z35vMfG8AeN+Qt8rDIAP9Ocr0cl8ifxWu\n",
       "m9iHQbaXNyaysz0zwB1+BL6Y+C5d7+Y0iL2ciKO6bQbYzw6A5ybO0KYJMVF93gwIT7XyiQ5yiNoZ\n",
       "RV1KXFDu9/v3R6mowmEOUcbGAlMfiuuzCnd6OUQvmp8l9rjZkU2e+0r3p8q72FNR1VszshhO84T0\n",
       "sn1q0L8gFPudni/5MnAvblG8FsXjblS/V+5vwf4AF6TXTcrAOkS9wR8ewpZbFf9gop0VvluRaJYC\n",
       "sQ8qA6wIr8v36LXmI2SZ1VQRrTE/7jSUHqKky+dmWTjuX8a+B4nXyQ4ztjmRqTNJmKhntasyKgWJ\n",
       "jDdREAK4hsTLptj6SFKHSv6l7mSNxK9hma4jmbvMazfeud5ybzBCjJA1muJ/SnUN06pr+3gvZHVE\n",
       "NZBeEZE9Km0jpHbVutjqhNy3sKXrCJaviFZxiVpNxg7cTykducMNyvwRva39aggDbehEb28Himhr\n",
       "mhLqE+Bs/NAEyWtBM55APyLnO2kZc4qBruwr8esgZVjd1xMZJSspm6MfEW8cz59Gyqhc9NWkMecR\n",
       "rzf6PEI8IT2kDG+Gj0zhqklUjTNPJq70sv53Zi9mzexjrXOjMb+s/4wAAAAASUVORK5CYII=\n",
       "\" style=\"display:inline;vertical-align:middle;\" /></a><br>\n",
       "<strong id=\"set_bcdfg_properSuperset_set_bcf\">set_bcdfg_properSuperset_set_bcf:</strong> <a class=\"ProveItLink\" href=\"../__pv_it/demonstrations/dba6a7aacd1f7519aa21db6101f7ce8e9363e05a0/expr.ipynb\"><img src=\"data:image/png;base64,iVBORw0KGgoAAAANSUhEUgAAAMsAAAAVBAMAAAAa4QdfAAAAMFBMVEX///+IiIi6urrc3NxERETM\n",
       "zMwQEBCqqqpUVFQiIiJ2dnYyMjLu7u5mZmaYmJgAAABN0h6tAAAAAXRSTlMAQObYZgAAAqVJREFU\n",
       "SMetVj1rU1EYfpvcmOTmGm+ELKWFTCWDYEZ16uTSVjq4OAgi7dBFMoiLSlIcRBQ/sFBTOqRQK9dB\n",
       "Cy4itlxBupXbIqIoavoDtNoiBT+C5z3fJ/ekWvAMNw8n53ne73MvAOQ/wl7W6T7L5i4aqfUQf7xn\n",
       "sLc1MBrb2lUjMU4d+QrwcsLmxvE1obL+StvfvxgPppsGZb5H5N4mjyWbGweqHGQe7GjblGCurhqU\n",
       "GcgjOzYzh0MOokOlfzBj06BMaSbxy2YmEKAW1wQ41Wg0TmhbVo2a1MEjFgf1LAQ2M7iOPVFbVo3A\n",
       "MJOb7Bd1mCuwRkq+K4osfJ74wNHlwnlCOKNkjiozSsMtFA3mAq0SaZzoubfNeVWHNdJAxZFZ+Cbi\n",
       "GEz+Zm0lVpo1o6GRnIYhg7mJjwvE+1oopGYgQ33yzqnGTX4XmQ5pnfWWYpkyNLJNuGowc8SXk3cB\n",
       "O9v7wWZCREAAOc5dFu6PQQr/z9xRZq7gw9T4FKpgGfOaz4Z6CRKsEPsG+QEColJHzVNt6EH4VItm\n",
       "WF4MUmOss1tydfSNKLdFGJGIgADZxk6dz/o2OGtmbXjSdA0ek8bcFBa3YKXFBp/80NpEVbiervDI\n",
       "fJkCvBj0TutpQkyjTU6CzlwQR27CCHg/sSR1WB2NSO0dP3/PhYh2AWYPEemkW6E5IBdVcqTGW/Be\n",
       "UwA873JuVnuJIw0s3cMvPmRnieRk8chBisilg+2DqNwbGOPplW8oM1LDfbTBxShTv9NoTmSHXAID\n",
       "zau9EeOymbrfeTFIDQbmNTMi1a4Ub+ooXV/mKAXeVperM6aBgDOZGdk4L2QufB1lhxc5ehxio3V7\n",
       "35gaCBiTv29AvPlakgQ6yvdXOCpvvKFDUopfkTGNlmRC4ixL43/4Fkj/5VvgD/r64Oc3lgIYAAAA\n",
       "AElFTkSuQmCC\n",
       "\" style=\"display:inline;vertical-align:middle;\" /></a><br>"
      ],
      "text/plain": [
       "set_bcf_properSuperset_set_bc: {b, c, f} proper_superset {b, c}\n",
       "set_bcdfg_properSuperset_set_bcf: {b, c, d, f, g} proper_superset {b, c, f}"
      ]
     },
     "execution_count": 149,
     "metadata": {},
     "output_type": "execute_result"
    }
   ],
   "source": [
    "# define a few proper supersetset relations for testing\n",
    "from proveit import g\n",
    "set_bc, set_bcf, set_bcdfg = Set(b, c), Set(b, c, f), Set(b, c, d, f, g)\n",
    "set_bcf_properSuperset_set_bc, set_bcdfg_properSuperset_set_bcf = (\n",
    "        ProperSuperset(set_bcf, set_bc), ProperSuperset(set_bcdfg, set_bcf))"
   ]
  },
  {
   "cell_type": "code",
   "execution_count": 150,
   "metadata": {},
   "outputs": [
    {
     "data": {
      "text/html": [
       "<strong id=\"set_bc_properSubset_set_bcf\">set_bc_properSubset_set_bcf:</strong> <a class=\"ProveItLink\" href=\"../__pv_it/demonstrations/f177329a5bbcb755cea7d0fb3892843c13e1490b0/expr.ipynb\"><img src=\"data:image/png;base64,iVBORw0KGgoAAAANSUhEUgAAAI8AAAAVBAMAAACNsKCFAAAAMFBMVEX///+IiIi6urrc3NxERETM\n",
       "zMwQEBCqqqpUVFQiIiJ2dnYyMjLu7u5mZmaYmJgAAABN0h6tAAAAAXRSTlMAQObYZgAAAi5JREFU\n",
       "OMuNVD1IHEEU/riod9lbvb0iTVCwstVSsYhVMEjgilSBwBm0sJGtJIVwJo2YQgwqchLhQkAwhdhF\n",
       "Qg42QUJAjvMQf+DArGCtFy0CKpKZN7M3s86i94rZN2+++fbN+94MgLYjhO1VO0wzUMqaKx7/2N+M\n",
       "la6MEYpAKYuN0q9qDPZ0Tl9o3TATYqitsQiSUkcPUOWexTmSO/qiNWfgKVSMIHqfc4G1OiTlNkL0\n",
       "z+Sxz39CJ+r2IolO8vn8Yj0UuzaJ4jWEiNYQRdT/ORSKSFTGFNFm+kCufEpnYGWFPx/ekHzbIStg\n",
       "pR9JDfZXeHVXuZ9gEtlXXrmHVvrcpg2SiIunFY6jyt/tC5o8WMKQjKccPp7xYYI1TfxaRrCMhBvI\n",
       "81A7AkflPPwVCwVMy/gTajku+ot50TjlAiUh6pn4wMdexUOoKuxLmv1R0uTEZ8YRbcwYu+kcLQMU\n",
       "36Rx61azFxETDTCi4kKl5BT/O9ub8uVfRF6yRvrROOpGJizzIhtEvUZcj1SnPS5q5wNuoJrlhFU7\n",
       "xy+fJjesqjI+TONqAEn4TTsoM2Fap1DK1Bvma5hoFs+ZvmxyCHuPHNbYCPWRXVlnJ/nIZl9OHdV5\n",
       "v995OlHpMUsoz0LW+rFwEKuFiYRNGlfk5TP9iog74emONaARZYP9hbsubYCyoDlvkr4ikhKx8zn3\n",
       "vEdkP6A5C9vCp/cIwdvXppqm07ydAcqH5hzvihfytThsQ292/J43+z8SyqCd0WuW9gAAAABJRU5E\n",
       "rkJggg==\n",
       "\" style=\"display:inline;vertical-align:middle;\" /></a><br>\n",
       "<strong id=\"set_bcf_subset_eq_set_bcdfg\">set_bcf_subset_eq_set_bcdfg:</strong> <a class=\"ProveItLink\" href=\"../__pv_it/demonstrations/56114645f669258af7b15480af4123adcc63a4700/expr.ipynb\"><img src=\"data:image/png;base64,iVBORw0KGgoAAAANSUhEUgAAAMsAAAAVBAMAAAAa4QdfAAAAMFBMVEX///+IiIi6urrc3NxERETM\n",
       "zMwQEBCqqqpUVFQiIiJ2dnYyMjLu7u5mZmaYmJgAAABN0h6tAAAAAXRSTlMAQObYZgAAAsdJREFU\n",
       "SMeVVk1oE0EUfmySbpJd0+QgolDIyVPBvXqQxpuiYsDe40899CAEBPGgJAFBW6EEFGSLQgKlkh4k\n",
       "56ISRUQoIQnFHxA1PXrQ1oosaCjOz5uZ3c2kkIFsvn0z3/dm3nszswCQ+gqjWqzX0lh/9GGMhhr2\n",
       "+j5jjKvDto0ajNW4RmoH4M28ptvubQJ8HrZvwwjC7DWB2lOOz840klXyeKFhxZ96AA18SS24rptn\n",
       "kJl0BPAEWCwVfeaGdONpSJ3prHQTWXeCLB3BGIg47L4GnRs5wN9KcgiA5QRZWgKbMG3mDmjdyAFD\n",
       "vejmY8iuJVjdsL+QG6syJYJZz+SxbOe/kOcqf6mGWIqQzBzk4ES9gKbUhyfo0OwdyqFGvEnS8Nz+\n",
       "zTuOF6NNlPslyoqkpuxzcx98hMgjOMMTcwXOi002mUawAjNd1LhBZl9qcVGAZYjjnCJ/VCDsnPJi\n",
       "0m0gCYka3GXgbV8V/wwGxBzAZJFrzD5glW3/ZR0HVGoxjwvpYNBipx0/4ZtYAQHLgeIhbSIHhRZq\n",
       "HM3TXWB4oiNYNxYPVz20qSVhTpjnSBkHck5aoQ+HhUacKO+JZXTUQRItq9yA5dtud0ARcE0MqDI+\n",
       "Jc4LB84JDTrrXRpaljzyh4oTLFpYafa96UClScIeiS4b4JFauo4jLqngeUKDulkiXu1/NDdlaOc7\n",
       "rNY6Wf/6YyuBw0YSPoH9noGT8L1cY4hFj6GOEx/49037CJmbS7O19jMNicfUfiwQ5tC+kYTksy0O\n",
       "3mUuVLJcw6DRo8iorFUDZxorLXm33OI1v4+bIEExGUrmpC3alW4uitKSQqQOzPLLUW5WIUxQTIpu\n",
       "Wn1EeR75hrhvWHslLxqS/MTZproryEjXlbnZhjBBAoYebiBKDlihoYa4PeXVm6I/fjEZlzUnZC1M\n",
       "UJc2RVubiIwldvChhjnut8Dt8b8F/gNWVPG4VTFm7wAAAABJRU5ErkJggg==\n",
       "\" style=\"display:inline;vertical-align:middle;\" /></a><br>"
      ],
      "text/plain": [
       "set_bc_properSubset_set_bcf: {b, c} proper_subset {b, c, f}\n",
       "set_bcf_subset_eq_set_bcdfg: {b, c, f} subseteq {b, c, d, f, g}"
      ]
     },
     "execution_count": 150,
     "metadata": {},
     "output_type": "execute_result"
    }
   ],
   "source": [
    "# define a few subset relations for testing (when a reverse is desired)\n",
    "from proveit import g\n",
    "set_bc, set_bcf, set_bcdfg = Set(b, c), Set(b, c, f), Set(b, c, d, f, g)\n",
    "set_bc_properSubset_set_bcf, set_bcf_subset_eq_set_bcdfg = (\n",
    "        ProperSubset(set_bc, set_bcf), SubsetEq(set_bcf, set_bcdfg))"
   ]
  },
  {
   "cell_type": "markdown",
   "metadata": {},
   "source": [
    "### `ProperSuperset.derive_reversed()`"
   ]
  },
  {
   "cell_type": "code",
   "execution_count": 151,
   "metadata": {},
   "outputs": [
    {
     "data": {
      "text/html": [
       "<span style=\"font-size:20px;\"><a class=\"ProveItLink\" href=\"../__pv_it/demonstrations/e5fd6bcba931e8dc4ed7a053833c8754f743d5830/expr.ipynb\"><img src=\"data:image/png;base64,iVBORw0KGgoAAAANSUhEUgAAALkAAAAVBAMAAADoXVL6AAAAMFBMVEX///+IiIi6urrc3NxERETM\n",
       "zMwQEBCqqqpUVFQiIiJ2dnYyMjLu7u5mZmaYmJgAAABN0h6tAAAAAXRSTlMAQObYZgAAAmVJREFU\n",
       "OMudlctrE1EUxr+8OplkMnHVRTdm1Z0QcFdQghtRKM2iWyEEK124yEq6sOhCxQdIQBeNKKZQiqmb\n",
       "2QjiQqYuxMcirbjSpuQf0BYFiyRYZ+7cx7mZaUa8i9wzh/v7cubMd+8FYO8ifmS23Yjst34cYL3C\n",
       "v4zkQjj3sR0L2Ps0l9pYa4j4gghWp6rA17DAnvY0s3EWFGVArun9GJd5+hSMP2LJiiixVHCATlid\n",
       "pQSa2sK1PkU7Qv3dsyFPH2/gNw8TizyYRbpypLpEEwcoNikq1WEL9ekSBjw8/ZI38KcqFJlWq/Ww\n",
       "T2sXaLKOokPRCHWozrS5erpG1FkPnpcj1L0hO9M+Uv09N4Jd5urFF6ufvGmdfPpmpLr1CBRlQNbR\n",
       "lsw84cbeBFfvvobZ0A2yHEz3NPVUZwcUZcCVql57os7fTqrvo+D5Ir+l1M2ghwsjnZksUdQH5h+M\n",
       "LMElVrxRFeqeE+wf3nznmFyS9RufOVceQScCcwrUB6a12k8Cc2w7fYBQNx3Y3pfOX1cFpF2yGzma\n",
       "KiN9AIIyIFuh6ocuV1/q9X5tB4XWWO2070FncIOqF4dCnaN7Yc9cBJ6K84rvpswQhZrmGUxFeGai\n",
       "AlM2aVF4hqknvHzXN8933+9dh/+TxXbWXbxtaHvVcIi6QO2+53drIItUfi/cGuzCfOz3sve5FERY\n",
       "O7yPlv8euS83td305rar1BV6oncGAcBQspvYuIpQZLj6kcVOgvNVLTUWyNXEozqtZZQbORD1sR4P\n",
       "yPPdkn5W0aZaPO58HwOIu8mWeRWpmy1ZD6vn2/GA8f/36nLMvfoXb1DaYaRW0UsAAAAASUVORK5C\n",
       "YII=\n",
       "\" style=\"display:inline;vertical-align:middle;\" /></a> <a class=\"ProveItLink\" href=\"../__pv_it/demonstrations/06bfa325157244649955cdf1a79f2e7f91c396cc0/proof.ipynb\" style=\"text-decoration: none\">&nbsp;&#x22A2;&nbsp;&nbsp;</a><a class=\"ProveItLink\" href=\"../__pv_it/demonstrations/661a5aaa6bae3b0ef69129c462be43a7bb92dd530/expr.ipynb\"><img src=\"data:image/png;base64,iVBORw0KGgoAAAANSUhEUgAAALkAAAAVBAMAAADoXVL6AAAAMFBMVEX///+IiIi6urrc3NxERETM\n",
       "zMwQEBCqqqpUVFQiIiJ2dnYyMjLu7u5mZmaYmJgAAABN0h6tAAAAAXRSTlMAQObYZgAAAgdJREFU\n",
       "OMuVlT1Iw0AUx1+1Ehub6Oxip86CiyiKq4PYwUkQiqh0cMgkDg4iKOggBREsKFYUUacuojhICyJV\n",
       "Bz9wUioOzlYUBLG03l0uubskd+qDJC+X/+/x7vLuHQCYTyCzhtt8wKgC8KHRE4Wmbtw/pgS8qPnG\n",
       "j9Uf7FiOP4Kux4DUlQCxrdYERfU0ummTdLwHtKqjWUPXvj+6GsB2FTNyFMXi4l6Ffmiz4Iu6oZQ8\n",
       "uhzANgDhPi46mI44HoNv6vYe89FfMpnMKvwO4BX/II+A6MAmmuWjd2+LKyMFkIWT8ugXWfrz2rF4\n",
       "l46ugDS6CCBrPty6c9DGnCDu2qAlXgAsLtsvhsWiqwFk16cQsSg6lRBTCY3SeRJx0w15iXB/VQ3g\n",
       "6G9gTNroEJkzJ4YJkouWsMWLLfjeyT7/BqCVSYP5TtG4kEoHwCBZhUuwc58lw2dc7moATzQHZpWi\n",
       "jX28uJan4ulS6fPWXXd+ZdQAFiRJ7mV/CYwBbDqdK8VqRm+R1YwXwA2sAkaSokQcQuJrXAuvuHyJ\n",
       "R0C33o880SVAlOysJTi3uHo3Fr6fILKO91npPmZ7sFNbZtGLc3k+uhTIYJn+MC/sJmIz4PfcTjDc\n",
       "L3QCGaDlRVRPOq9Z8HtBXUwF6CCibruOun+Oecr+HgQUwIM6R43JeHbAjAacOirg2Ytq/z1XtT+f\n",
       "qz+Wq9kX56ldlQAAAABJRU5ErkJggg==\n",
       "\" style=\"display:inline;vertical-align:middle;\" /></a></span>"
      ],
      "text/plain": [
       "{{1, 3, 4, 6} proper_superset {1, 3, 4}} |- {1, 3, 4} proper_subset {1, 3, 4, 6}"
      ]
     },
     "execution_count": 151,
     "metadata": {},
     "output_type": "execute_result"
    }
   ],
   "source": [
    "# if A is a proper superset of B, then B is a proper superset of A\n",
    "set_1346_properSuperset_set_134.derive_reversed(\n",
    "    assumptions=[set_1346_properSuperset_set_134])"
   ]
  },
  {
   "cell_type": "code",
   "execution_count": 152,
   "metadata": {},
   "outputs": [
    {
     "data": {
      "text/html": [
       "<span style=\"font-size:20px;\"><a class=\"ProveItLink\" href=\"../__pv_it/demonstrations/dba6a7aacd1f7519aa21db6101f7ce8e9363e05a0/expr.ipynb\"><img src=\"data:image/png;base64,iVBORw0KGgoAAAANSUhEUgAAAMsAAAAVBAMAAAAa4QdfAAAAMFBMVEX///+IiIi6urrc3NxERETM\n",
       "zMwQEBCqqqpUVFQiIiJ2dnYyMjLu7u5mZmaYmJgAAABN0h6tAAAAAXRSTlMAQObYZgAAAqVJREFU\n",
       "SMetVj1rU1EYfpvcmOTmGm+ELKWFTCWDYEZ16uTSVjq4OAgi7dBFMoiLSlIcRBQ/sFBTOqRQK9dB\n",
       "Cy4itlxBupXbIqIoavoDtNoiBT+C5z3fJ/ekWvAMNw8n53ne73MvAOQ/wl7W6T7L5i4aqfUQf7xn\n",
       "sLc1MBrb2lUjMU4d+QrwcsLmxvE1obL+StvfvxgPppsGZb5H5N4mjyWbGweqHGQe7GjblGCurhqU\n",
       "GcgjOzYzh0MOokOlfzBj06BMaSbxy2YmEKAW1wQ41Wg0TmhbVo2a1MEjFgf1LAQ2M7iOPVFbVo3A\n",
       "MJOb7Bd1mCuwRkq+K4osfJ74wNHlwnlCOKNkjiozSsMtFA3mAq0SaZzoubfNeVWHNdJAxZFZ+Cbi\n",
       "GEz+Zm0lVpo1o6GRnIYhg7mJjwvE+1oopGYgQ33yzqnGTX4XmQ5pnfWWYpkyNLJNuGowc8SXk3cB\n",
       "O9v7wWZCREAAOc5dFu6PQQr/z9xRZq7gw9T4FKpgGfOaz4Z6CRKsEPsG+QEColJHzVNt6EH4VItm\n",
       "WF4MUmOss1tydfSNKLdFGJGIgADZxk6dz/o2OGtmbXjSdA0ek8bcFBa3YKXFBp/80NpEVbiervDI\n",
       "fJkCvBj0TutpQkyjTU6CzlwQR27CCHg/sSR1WB2NSO0dP3/PhYh2AWYPEemkW6E5IBdVcqTGW/Be\n",
       "UwA873JuVnuJIw0s3cMvPmRnieRk8chBisilg+2DqNwbGOPplW8oM1LDfbTBxShTv9NoTmSHXAID\n",
       "zau9EeOymbrfeTFIDQbmNTMi1a4Ub+ooXV/mKAXeVperM6aBgDOZGdk4L2QufB1lhxc5ehxio3V7\n",
       "35gaCBiTv29AvPlakgQ6yvdXOCpvvKFDUopfkTGNlmRC4ixL43/4Fkj/5VvgD/r64Oc3lgIYAAAA\n",
       "AElFTkSuQmCC\n",
       "\" style=\"display:inline;vertical-align:middle;\" /></a> <a class=\"ProveItLink\" href=\"../__pv_it/demonstrations/0d696e949e4a8fda4d79018230e4a8e5a2035e700/proof.ipynb\" style=\"text-decoration: none\">&nbsp;&#x22A2;&nbsp;&nbsp;</a><a class=\"ProveItLink\" href=\"../__pv_it/demonstrations/26e5c5e92a647e156785c5fa2a782d93912df9cb0/expr.ipynb\"><img src=\"data:image/png;base64,iVBORw0KGgoAAAANSUhEUgAAAMsAAAAVBAMAAAAa4QdfAAAAMFBMVEX///+IiIi6urrc3NxERETM\n",
       "zMwQEBCqqqpUVFQiIiJ2dnYyMjLu7u5mZmaYmJgAAABN0h6tAAAAAXRSTlMAQObYZgAAAsBJREFU\n",
       "SMeVVk1oE0EUfmzSbn7WtDmIKBRy8lRwrx6k8WZRMWDv8aceehACgniwJAFBrVAKCpKikECptAfJ\n",
       "uahEERFKSELxB0RNjx60tSILGoozb/43EyEPknx5M997s+99M7MAkPoCg2yk07B4v3dhCOMxvI3/\n",
       "zHGu9Ps2qzCUsRipXYDXc5Zhr7MF8KnfvwMDCDNXBWpO+JofYySWyNdzCyv2JABY6/ejy0aAQICF\n",
       "YiFMwDSBhdSazAxOYyM4PVGHvVdgSyMn6FaUU2hppyuVSk6yrARcMDV3F6xp5IS+UZ4msuEbfish\n",
       "2Q7nC6VJlidEMWvpHJft3Gfyvcr+xH2TpQiJ9EEGTtTy3JV6/5gndDuHsjxGrE7a8Mz7xQaOF6J1\n",
       "Hu6nkBWxD9ri7oFGiDyE06wxl+Gc2GRj4xyswFSbx7hOVl9ssKAAyxDja4r81gqhVcGl20AS4lW4\n",
       "jeBNV4l/ihfE7cFYgcWYuY/K9v7gwAHVWt7Hu3RlkZLa1NO+TvgqnoCAZUM8xEazkG/wGEdzdBc4\n",
       "gRgwdZPEBF42tKklYVa4Z4mMjZ4Ty3fhsIgRIyH2xWO01EESLWm90aVzCxSBPxMCJeNT4rzw4ayI\n",
       "QVe9R0uLzSM/vDej2EeutFpIn5KwT6qLaQKipWt8xkVVvEDEoGkWSVbvL+1NCZq5FmqtldGeP1kw\n",
       "00jCR/DeITgJ30pVRFg9RC0/1tP3TfMIWVuFdmv9xzjEH1H/Mb3M3p1JI40kJJ5uM/A2fb6cYTEc\n",
       "Wj2KnPL6knGmobTk3XKTaV7v5siKcdiYBMVElMhKX7Qt01wQ0pLrJTpwSy/MmMpWIUxQTIpuJLsc\n",
       "5Vjl18R9g/ZSXjSk+fEzdXVX9N83JkECRA82OUr0UGg8hrg95dWboh92MTmXLCdkNUxQlzZF21sc\n",
       "OYt48PEY7rDvAvPDvwv8A4ig7YDovTanAAAAAElFTkSuQmCC\n",
       "\" style=\"display:inline;vertical-align:middle;\" /></a></span>"
      ],
      "text/plain": [
       "{{b, c, d, f, g} proper_superset {b, c, f}} |- {b, c, f} proper_subset {b, c, d, f, g}"
      ]
     },
     "execution_count": 152,
     "metadata": {},
     "output_type": "execute_result"
    }
   ],
   "source": [
    "set_bcdfg_properSuperset_set_bcf.derive_reversed(\n",
    "    assumptions=[set_bcdfg_properSuperset_set_bcf])"
   ]
  },
  {
   "cell_type": "markdown",
   "metadata": {},
   "source": [
    "### `ProperSuperset.derive_relaxed()`"
   ]
  },
  {
   "cell_type": "code",
   "execution_count": 153,
   "metadata": {},
   "outputs": [
    {
     "data": {
      "text/html": [
       "<span style=\"font-size:20px;\"><a class=\"ProveItLink\" href=\"../__pv_it/demonstrations/e5fd6bcba931e8dc4ed7a053833c8754f743d5830/expr.ipynb\"><img src=\"data:image/png;base64,iVBORw0KGgoAAAANSUhEUgAAALkAAAAVBAMAAADoXVL6AAAAMFBMVEX///+IiIi6urrc3NxERETM\n",
       "zMwQEBCqqqpUVFQiIiJ2dnYyMjLu7u5mZmaYmJgAAABN0h6tAAAAAXRSTlMAQObYZgAAAmVJREFU\n",
       "OMudlctrE1EUxr+8OplkMnHVRTdm1Z0QcFdQghtRKM2iWyEEK124yEq6sOhCxQdIQBeNKKZQiqmb\n",
       "2QjiQqYuxMcirbjSpuQf0BYFiyRYZ+7cx7mZaUa8i9wzh/v7cubMd+8FYO8ifmS23Yjst34cYL3C\n",
       "v4zkQjj3sR0L2Ps0l9pYa4j4gghWp6rA17DAnvY0s3EWFGVArun9GJd5+hSMP2LJiiixVHCATlid\n",
       "pQSa2sK1PkU7Qv3dsyFPH2/gNw8TizyYRbpypLpEEwcoNikq1WEL9ekSBjw8/ZI38KcqFJlWq/Ww\n",
       "T2sXaLKOokPRCHWozrS5erpG1FkPnpcj1L0hO9M+Uv09N4Jd5urFF6ufvGmdfPpmpLr1CBRlQNbR\n",
       "lsw84cbeBFfvvobZ0A2yHEz3NPVUZwcUZcCVql57os7fTqrvo+D5Ir+l1M2ghwsjnZksUdQH5h+M\n",
       "LMElVrxRFeqeE+wf3nznmFyS9RufOVceQScCcwrUB6a12k8Cc2w7fYBQNx3Y3pfOX1cFpF2yGzma\n",
       "KiN9AIIyIFuh6ocuV1/q9X5tB4XWWO2070FncIOqF4dCnaN7Yc9cBJ6K84rvpswQhZrmGUxFeGai\n",
       "AlM2aVF4hqknvHzXN8933+9dh/+TxXbWXbxtaHvVcIi6QO2+53drIItUfi/cGuzCfOz3sve5FERY\n",
       "O7yPlv8euS83td305rar1BV6oncGAcBQspvYuIpQZLj6kcVOgvNVLTUWyNXEozqtZZQbORD1sR4P\n",
       "yPPdkn5W0aZaPO58HwOIu8mWeRWpmy1ZD6vn2/GA8f/36nLMvfoXb1DaYaRW0UsAAAAASUVORK5C\n",
       "YII=\n",
       "\" style=\"display:inline;vertical-align:middle;\" /></a> <a class=\"ProveItLink\" href=\"../__pv_it/demonstrations/c63b46b997a8770fb966d85857e0d24d55344a200/proof.ipynb\" style=\"text-decoration: none\">&nbsp;&#x22A2;&nbsp;&nbsp;</a><a class=\"ProveItLink\" href=\"../__pv_it/demonstrations/26f28bba4740653897eff4d83d296ef06e57fe860/expr.ipynb\"><img src=\"data:image/png;base64,iVBORw0KGgoAAAANSUhEUgAAALkAAAAVBAMAAADoXVL6AAAAMFBMVEX///+IiIi6urrc3NxERETM\n",
       "zMwQEBCqqqpUVFQiIiJ2dnYyMjLu7u5mZmaYmJgAAABN0h6tAAAAAXRSTlMAQObYZgAAAmtJREFU\n",
       "OMudlT1o1GAYx//31dzlklwnBxczdRMCbgXlcBEL4g1uIhyHlQ4ON0kHRQcVVJCCDo1YvEIpXqeA\n",
       "COogVwfxY7hWOlmv3C7aomCRO6zJm/fjSS5txAyXJ8+9v3+e98n/fV8A1hbSr8J6JyH7rZ8GGK/w\n",
       "L1d2ejT3sZUKWDs0l1tZaor4gggWD9eAzVGB7cjT5MopUJQB+pz/o13m6ePQ/ogh86JE2/SANouN\n",
       "l677cJz/wVICza3hep+ibaH+7umQp4808ZuHmRkenEG+KtTZG77aSl2imV1U5igq1WEJ9QkbAx6e\n",
       "eMEb+FMVyuWfkdoFmm2g4lE0QR2qMy2unq/H1XE+Qd2/ZGda+6q/50awHK5eeb74yb8tE/Wyk6Ru\n",
       "PAJFGVD0IkMmF7ixV8HVu69RakYNooe+uhdRz7W/gKIMuFKL1p5p8NlJ9R2Yvi/Ka0rdZJ9Vm451\n",
       "5pBN0QA49yA2BJdY8VpNqPtOsH749zvjqjNsNZ52YuhYaE6BBsBEpPZjwFk27Q8Q6iUPlv+lyzdU\n",
       "AbN0NXI05yC/C4IyoFil6nsdrj7b6/1aZ6lindVO+l54HN5vUvXKUKhzdHvUMxeBJ2K/4qupMIRZ\n",
       "p555s+EkOHKsipJs0ozwDFPP+PluYJ7vgd+7Hn+TwVbWXbxt0p1gqkl3AoFafd/vxkAWqfxu3h5s\n",
       "oRTMN9vbsMMIS3v34Qbz0D/fiq0moq7Qo72TCAGGktXErqsYibRORCpBPQXQ6+JR7dYy0nGQ+nI6\n",
       "IPd3Q/pZRatq8Kbsu+vOx/b3AwBxNlkyryJ1smUbo7WXW+mA9v/n6rWUc/UvTcbd5sc+mYMAAAAA\n",
       "SUVORK5CYII=\n",
       "\" style=\"display:inline;vertical-align:middle;\" /></a></span>"
      ],
      "text/plain": [
       "{{1, 3, 4, 6} proper_superset {1, 3, 4}} |- {1, 3, 4, 6} supseteq {1, 3, 4}"
      ]
     },
     "execution_count": 153,
     "metadata": {},
     "output_type": "execute_result"
    }
   ],
   "source": [
    "set_1346_properSuperset_set_134.derive_relaxed(\n",
    "    assumptions=[set_1346_properSuperset_set_134])"
   ]
  },
  {
   "cell_type": "code",
   "execution_count": 154,
   "metadata": {},
   "outputs": [
    {
     "data": {
      "text/html": [
       "<span style=\"font-size:20px;\"><a class=\"ProveItLink\" href=\"../__pv_it/demonstrations/dba6a7aacd1f7519aa21db6101f7ce8e9363e05a0/expr.ipynb\"><img src=\"data:image/png;base64,iVBORw0KGgoAAAANSUhEUgAAAMsAAAAVBAMAAAAa4QdfAAAAMFBMVEX///+IiIi6urrc3NxERETM\n",
       "zMwQEBCqqqpUVFQiIiJ2dnYyMjLu7u5mZmaYmJgAAABN0h6tAAAAAXRSTlMAQObYZgAAAqVJREFU\n",
       "SMetVj1rU1EYfpvcmOTmGm+ELKWFTCWDYEZ16uTSVjq4OAgi7dBFMoiLSlIcRBQ/sFBTOqRQK9dB\n",
       "Cy4itlxBupXbIqIoavoDtNoiBT+C5z3fJ/ekWvAMNw8n53ne73MvAOQ/wl7W6T7L5i4aqfUQf7xn\n",
       "sLc1MBrb2lUjMU4d+QrwcsLmxvE1obL+StvfvxgPppsGZb5H5N4mjyWbGweqHGQe7GjblGCurhqU\n",
       "GcgjOzYzh0MOokOlfzBj06BMaSbxy2YmEKAW1wQ41Wg0TmhbVo2a1MEjFgf1LAQ2M7iOPVFbVo3A\n",
       "MJOb7Bd1mCuwRkq+K4osfJ74wNHlwnlCOKNkjiozSsMtFA3mAq0SaZzoubfNeVWHNdJAxZFZ+Cbi\n",
       "GEz+Zm0lVpo1o6GRnIYhg7mJjwvE+1oopGYgQ33yzqnGTX4XmQ5pnfWWYpkyNLJNuGowc8SXk3cB\n",
       "O9v7wWZCREAAOc5dFu6PQQr/z9xRZq7gw9T4FKpgGfOaz4Z6CRKsEPsG+QEColJHzVNt6EH4VItm\n",
       "WF4MUmOss1tydfSNKLdFGJGIgADZxk6dz/o2OGtmbXjSdA0ek8bcFBa3YKXFBp/80NpEVbiervDI\n",
       "fJkCvBj0TutpQkyjTU6CzlwQR27CCHg/sSR1WB2NSO0dP3/PhYh2AWYPEemkW6E5IBdVcqTGW/Be\n",
       "UwA873JuVnuJIw0s3cMvPmRnieRk8chBisilg+2DqNwbGOPplW8oM1LDfbTBxShTv9NoTmSHXAID\n",
       "zau9EeOymbrfeTFIDQbmNTMi1a4Ub+ooXV/mKAXeVperM6aBgDOZGdk4L2QufB1lhxc5ehxio3V7\n",
       "35gaCBiTv29AvPlakgQ6yvdXOCpvvKFDUopfkTGNlmRC4ixL43/4Fkj/5VvgD/r64Oc3lgIYAAAA\n",
       "AElFTkSuQmCC\n",
       "\" style=\"display:inline;vertical-align:middle;\" /></a> <a class=\"ProveItLink\" href=\"../__pv_it/demonstrations/8b5453e2baed6551788e7cf1d537a27ddf1b50fd0/proof.ipynb\" style=\"text-decoration: none\">&nbsp;&#x22A2;&nbsp;&nbsp;</a><a class=\"ProveItLink\" href=\"../__pv_it/demonstrations/b795612fcbf5a8d3612916304a72b54efb0915eb0/expr.ipynb\"><img src=\"data:image/png;base64,iVBORw0KGgoAAAANSUhEUgAAAMsAAAAVBAMAAAAa4QdfAAAAMFBMVEX///+IiIi6urrc3NxERETM\n",
       "zMwQEBCqqqpUVFQiIiJ2dnYyMjLu7u5mZmaYmJgAAABN0h6tAAAAAXRSTlMAQObYZgAAAqpJREFU\n",
       "SMetVk1rE0EYfkx23WSzxkTIpVjIqfSgmKPeKoIXLfTgxYMgUg+9SA7iScn2JCL4gYKueKhQGuJB\n",
       "g15EjKwgXkrdVhFFUdMfoNUWKfgRnO+d7WwiBeew+zA7z/O+837MLIDiJ2xmHNuZMjlAw14K6ct7\n",
       "jM2NkQljaqBG5iRz5BvwfCrNjYOLUmXptTa/rW1upp8GY36gyL1CHp00N7bXBcg117VpRgDmgyDY\n",
       "r0+laTBmSy1ZTzOzJxQg2lU1zdDx8oE2labBmMpM5neamZYEjcS0ZgbzNQzUaCgdukRnxqNj2DPM\n",
       "2G0M1GglzBSmh2Ue7pR5IWXfV2QUvkx9FOhc+TQhHNd0HsLUcMuVBHOOZYk4FD3x1viHfXWLOzhS\n",
       "s1QUvst9jGX/8LJSowlDI3sDhxLMFfo4Q7xvhFLqFnLMJ+9UXLjZHzLSIcuzXlKvYGjkZ3A+wSyQ\n",
       "xjhyDbSyvZ+8J+QOCCDL+XCk+5Ow6ffc1dgMcyWp8TlUXwXzQok3dQcZnoitY2IBAVF1Q87tHrZQ\n",
       "+Ci24vjqYFAakxurpUAX5YhyT24jkjsgQJWx5YteX4O1mMzNUe65riH2pDFXpMVVvOjyxicvlpuo\n",
       "jotOTeyspEJAD4a40rzdB2KvlUaPrITOnJNLLmEc3i+aEh8LExEJuFUq3nQRsdDT6FFEKulyqB82\n",
       "15tacJTGO3hvGICIu+qbhSHiSEADcPdrCfnbRHK6sncHQ+TQoeVD0ehQC6l9mNBw7y0LMcbUzzQW\n",
       "E1UhZ5FAs/HceH8zSQ0OZjUzMtSuYs3oyPGfCmTDW+1jxtBwoZjcjCqcZyqzJR3lD7cFuh/SQpNt\n",
       "Sy+CIPCRrkEBZ4r7BvLm66pLCjoqDtcEGl1+y5qkah6RhkZXMZE5wcP4H/4FnH/8C/wF5hzoaFPK\n",
       "s2IAAAAASUVORK5CYII=\n",
       "\" style=\"display:inline;vertical-align:middle;\" /></a></span>"
      ],
      "text/plain": [
       "{{b, c, d, f, g} proper_superset {b, c, f}} |- {b, c, d, f, g} supseteq {b, c, f}"
      ]
     },
     "execution_count": 154,
     "metadata": {},
     "output_type": "execute_result"
    }
   ],
   "source": [
    "set_bcdfg_properSuperset_set_bcf.derive_relaxed(\n",
    "    assumptions=[set_bcdfg_properSuperset_set_bcf])"
   ]
  },
  {
   "cell_type": "markdown",
   "metadata": {},
   "source": [
    "### `ProperSuperset.apply_transitivity()`"
   ]
  },
  {
   "cell_type": "code",
   "execution_count": 155,
   "metadata": {},
   "outputs": [
    {
     "data": {
      "text/html": [
       "<strong id=\"set_13_properSubset_set_12345\">set_13_properSubset_set_12345:</strong> <span style=\"font-size:20px;\"> <a class=\"ProveItLink\" href=\"../__pv_it/demonstrations/a2b6f1a18e4491d085a2b422fb4069dcb021a0430/proof.ipynb\" style=\"text-decoration: none\">&nbsp;&#x22A2;&nbsp;&nbsp;</a><a class=\"ProveItLink\" href=\"../__pv_it/demonstrations/e2b7b1219092f44ad732af2b938779ad02370d670/expr.ipynb\"><img src=\"data:image/png;base64,iVBORw0KGgoAAAANSUhEUgAAALkAAAAVBAMAAADoXVL6AAAAMFBMVEX///+IiIi6urrc3NxERETM\n",
       "zMwQEBCqqqpUVFQiIiJ2dnYyMjLu7u5mZmaYmJgAAABN0h6tAAAAAXRSTlMAQObYZgAAAnZJREFU\n",
       "OMudlb9rFEEUx7+XM96P7Ib8AUKuSr1g4w+iFjaCkC2shEAQDQpCrhKLCNFCiEVOkYAHShYMEgPC\n",
       "dkogZg4sTptcQEFINpwglioKQn7gOr92981N7gi+Yvbdm/f93OzbNzMABrfRYePHYJud1tP6N5h4\n",
       "OCv21IhvhQ5K62l91+SaftJYfnmxCrihvXQjzYnO+1Sg31k/37JxHtsUbvkhHwo39cQoCn91zDQV\n",
       "usXUrybKv6hA2RP9nIp3+fgykTWX9vXEcBU7XenOg5qmbwGTVCAtd107K3c9SsdgQh+pYI/Qv9br\n",
       "9Xmy9h+afgOoeUQg7cwb7czI8QA6jMqcft5RmYS+xlDziUBacAj6+4DHJpT/GF3o3BYYEcjv7iX0\n",
       "uS+f+PhCuMXQoJ96xtIGcasZXaYRet8uFQhrIKFfxNkKz5Vt4Jtrz13hw6p0S+SryjRCL80YAlGY\n",
       "lA4c4W860AIuybcndExyQvGR8E5kQZVG6JEp4OX3Cd39zYfZIb0vU/pxYIzXQ+W9s7ZvSs+1TAHw\n",
       "IVGJIordMCDerniO0mMmknXdaWVkWka/g7xHBNxuR9GfDRk6GsLd13U3e+aqbAbdM+Whbj3THyDn\n",
       "EYEyvZtcvq5Q94yU5Th9XXTFd6PfX3fShxkcsXlOLr+aJYL1UP+TnMy38M0j/e7e39tG6alotOhj\n",
       "JaM37zGD/nlqtY06j63F8Q4RSA+L8ZycxOjSlrGbpE13LJTb5QvmSSCbg9mCaXtS0yeSn4FNJ5VJ\n",
       "08qwBYE9qejpwe1k37Dn+d6AJci8RqbYVOdloifNXbHvmvRuasMSZF47u5vUFi4c7l4t/Me9+g89\n",
       "Qt+fFEnMKgAAAABJRU5ErkJggg==\n",
       "\" style=\"display:inline;vertical-align:middle;\" /></a></span><br>"
      ],
      "text/plain": [
       "set_13_properSubset_set_12345: |- {1, 3} proper_subset {1, 2, 3, 4, 5}"
      ]
     },
     "execution_count": 155,
     "metadata": {},
     "output_type": "execute_result"
    }
   ],
   "source": [
    "# establish a ProperSubset judgement: \n",
    "set_13_properSubset_set_12345 = set_12345.deduce_enum_proper_subset(subset=set_13)"
   ]
  },
  {
   "cell_type": "code",
   "execution_count": 156,
   "metadata": {},
   "outputs": [
    {
     "data": {
      "text/html": [
       "<strong id=\"set_12345_ProperSuperset_set_13\">set_12345_ProperSuperset_set_13:</strong> <span style=\"font-size:20px;\"> <a class=\"ProveItLink\" href=\"../__pv_it/demonstrations/94212e599eeacbdfa8fd0cbe9aa197324b7ccb460/proof.ipynb\" style=\"text-decoration: none\">&nbsp;&#x22A2;&nbsp;&nbsp;</a><a class=\"ProveItLink\" href=\"../__pv_it/demonstrations/1b43bd51c1fe3828753c7ffc38dd8659f8b722910/expr.ipynb\"><img src=\"data:image/png;base64,iVBORw0KGgoAAAANSUhEUgAAALkAAAAVBAMAAADoXVL6AAAAMFBMVEX///+IiIi6urrc3NxERETM\n",
       "zMwQEBCqqqpUVFQiIiJ2dnYyMjLu7u5mZmaYmJgAAABN0h6tAAAAAXRSTlMAQObYZgAAAmxJREFU\n",
       "OMutlU9oE0EUxt82STd/NhtPHrzYkzdhrwpqEUEUDzl4LYhYURDqqXgwGEHEKjQBPRgRzEFCUxH2\n",
       "KAV166nowfYgCCZlvXiTiILFNhBn37yZ2elMhIJzmP3m7fd+mTzezAKAvwl7GbmNyBL9Httt3grs\n",
       "bUzMmrEP7TE2/0c65vVPVbk6unxaRmfo+SaauQ7wxaQPtBVPRVuxySb3Gr1Yg+JPFJl1uCX/7WN6\n",
       "zo222dw16Riap5JRalfQ15aGZOsBXEbhbEGlSUHnComV28FYune/QXRKlXTwBf0qQCPAsl2ESkjB\n",
       "469I1NVGIddqtR7F6b0PiE6pFvrbCBpUeFWZto2ONXgRWOiUaqGz8YxM3hMK+IGgL379xOaO8maa\n",
       "Vjqmoi0f6vSJbUrs9iiyCoJ+Dk5M6Q1S448HGp2nom2+qtMLdaH2T1FhJB0gyzZbWlf0As7u7K7K\n",
       "JKmJ7fxD0Ol9qSZ5m7rVFL38i00L++Q6nxQ+dybYRcfUxHZI37tDG8sEkN1C9R4EnRUxOQ2lutp7\n",
       "NlLnUtApFW35aY1eS16yURkK+o1+//cG31EI5aFed14ZuJOmU+rA7JlcGxykT05DQf4knaYyo4Va\n",
       "z8ABS89QakfSHbb6mDTPkeWXC6j8mDWtt8P9lwAVO+LfAu2sumGKfjDiNkxN9Xv57s4mFJ4mp2k0\n",
       "+sPV4f5JgBZu5/lokatjSz3tNL27Fyn657nXMbdhauo04bgJhnIjU6VugrNVLWSxFS+IpbqjpSqC\n",
       "qWy3WGecTd7vnuxipVbBVP+83w2b+Db5Mq5UbFHsCjRGqT3O5v6P72rN+l39C+i24kKcE+zJAAAA\n",
       "AElFTkSuQmCC\n",
       "\" style=\"display:inline;vertical-align:middle;\" /></a></span><br>"
      ],
      "text/plain": [
       "set_12345_ProperSuperset_set_13: |- {1, 2, 3, 4, 5} proper_superset {1, 3}"
      ]
     },
     "execution_count": 156,
     "metadata": {},
     "output_type": "execute_result"
    }
   ],
   "source": [
    "# establish the ProperSuperset relation by reversing:\n",
    "set_12345_ProperSuperset_set_13 = set_13_properSubset_set_12345.derive_reversed()"
   ]
  },
  {
   "cell_type": "code",
   "execution_count": 157,
   "metadata": {},
   "outputs": [
    {
     "data": {
      "text/html": [
       "<strong id=\"set_12345_ProperSubset_set_1234567\">set_12345_ProperSubset_set_1234567:</strong> <span style=\"font-size:20px;\"> <a class=\"ProveItLink\" href=\"../__pv_it/demonstrations/b95dd58c9e5b5bf6e3f952837e35bbb8c1d919a40/proof.ipynb\" style=\"text-decoration: none\">&nbsp;&#x22A2;&nbsp;&nbsp;</a><a class=\"ProveItLink\" href=\"../__pv_it/demonstrations/45f2f2c2b61b9161e629b3212b4aacd3b070cf410/expr.ipynb\"><img src=\"data:image/png;base64,iVBORw0KGgoAAAANSUhEUgAAARsAAAAVBAMAAACEflfWAAAAMFBMVEX///+IiIi6urrc3NxERETM\n",
       "zMwQEBCqqqpUVFQiIiJ2dnYyMjLu7u5mZmaYmJgAAABN0h6tAAAAAXRSTlMAQObYZgAAA6hJREFU\n",
       "SMetVl1IVEEUPuu6P+79cSHooZDspaeiCz0VWEsUIRTtQ0+BIJX9UOG+JD0kbVCRhrpQD64FrSCi\n",
       "C9G+BCFk60tIEq5RKObaRtBLP4pSmm7d5s6cmfu3iqLDcu+358755pszc84MAKjTsJ7mG8uWsP4o\n",
       "wAYb8soD6/Qra3DbRlKw4cZ41VmrTc4fiTJ0IH1MWOvwPZitiwF8dFPN2P69fX8UXCS+HHtL333j\n",
       "aOrexsbydU6m08gbSpBH4Ar2GIbQHAXeHNwUC9CJ70Z9iTz73XKoqQlXUY7Ds2oXSUWcvf26jqEc\n",
       "qVYyFKi6ri8iiSFnuK+ITlMA5ynwLEBlAo2eiwgGbmkrypFbO1COkgV/vYtkK8qR+rag5QSUR5gD\n",
       "YY1b5IDK5VwC6NDoSp6BygwaD75AEDdDYTjVJpPJqGmaQTn+BATnwUHi/YZygmKvzHMUIr9oSTmv\n",
       "stCBm8eMc6qkHO+AZl8sLkcqQvAXOEhCklNOeb0lvDuhpBzSnvAt0MWjoHE57Z8/kGcvbgYNSssx\n",
       "vnE+QfJFyPlZxeZb+bz7nXCIcN5gxi6nbAkn3z+FliHgco7DoWqRRuOWyd13yNmbcpDIYS6nPOtl\n",
       "yTI6CBUxvlwFnp5NUbscngFk81XjWgk5hIzEUmIpmzDVBBoccjrBQRICSfBCLZMzCwpP6FG6yIT3\n",
       "1AOwy8kL5GedA1GLHMXYfy1hY+Imva9Ws8tRck6Sa1Y5n2h3knPqHFq206fBu8seHQ8yeTUoX6Do\n",
       "DXA5ZF2NqsSI5YizoJpyqsBBIqeEHLKurCpVZED9hx0f0ugYPYIRm5xmg8PQXuRyrufzv8fYTDOg\n",
       "FMXesSwW3LbJCeRgH9hIAm35T1fD1HaZRId2DNab0VkUpd2eWb4UeKgcf8RMD8AyqNAp8czqhpUy\n",
       "6zQAK3VWEj9Gh0T/ERuqCArmuu8v8MyicjzEadRIsf3ppy0UqQVSMuRl1v0cUERq/ldN1B0p5pCz\n",
       "I4vdutITCYqsJEQaHaEG1LMMtcLrGPsYWAJr3VHuLk9DxWOjDOr6H4b25A8DJOmEe/R2hmr6pswy\n",
       "KN/bbZMz0fiyQLtJ5AhKMAeTJHRysUB5vZNtWTZCaPIOfvResMlh7Qa4UCDrRuKQ8PXYD4mVHEy0\n",
       "6ggoR9Rq886SspwmLlTqCO1dzSEEaxqB8Yr7jhwGFxoCN1r1vlPKYQjWNALy8tugKuwmKpRA5Jh2\n",
       "NSm1ikMB1jQC8gY2467cvDl35f/GP0zdLHLZFQAAAABJRU5ErkJggg==\n",
       "\" style=\"display:inline;vertical-align:middle;\" /></a></span><br>"
      ],
      "text/plain": [
       "set_12345_ProperSubset_set_1234567: |- {1, 2, 3, 4, 5} proper_subset {1, 2, 3, 4, 5, 6, 7}"
      ]
     },
     "execution_count": 157,
     "metadata": {},
     "output_type": "execute_result"
    }
   ],
   "source": [
    "# establish a related proper subset judgement:\n",
    "set_12345_ProperSubset_set_1234567 = set_1234567.deduce_enum_proper_subset(subset=set_12345)"
   ]
  },
  {
   "cell_type": "code",
   "execution_count": 158,
   "metadata": {},
   "outputs": [
    {
     "data": {
      "text/html": [
       "<strong id=\"set_1234567_ProperSuperset_set_12345\">set_1234567_ProperSuperset_set_12345:</strong> <span style=\"font-size:20px;\"> <a class=\"ProveItLink\" href=\"../__pv_it/demonstrations/e28b836d3e0f3b0d3294e73c8993f50cf643f1d60/proof.ipynb\" style=\"text-decoration: none\">&nbsp;&#x22A2;&nbsp;&nbsp;</a><a class=\"ProveItLink\" href=\"../__pv_it/demonstrations/c98ab40d0353da6696d24e223b91eeed3d09c21c0/expr.ipynb\"><img src=\"data:image/png;base64,iVBORw0KGgoAAAANSUhEUgAAARsAAAAVBAMAAACEflfWAAAAMFBMVEX///+IiIi6urrc3NxERETM\n",
       "zMwQEBCqqqpUVFQiIiJ2dnYyMjLu7u5mZmaYmJgAAABN0h6tAAAAAXRSTlMAQObYZgAAA1FJREFU\n",
       "SMe1Vk9IFFEc/mb9s7s6u2uXToV7ki7RQhAkWBJSF6k9dDEQRcwKAvcUQYZGIBilRUFtf2gOKrpg\n",
       "SF1EsMabdWmlkiBXtkvHNgoSW2maef/mzcxzw6R3mPl4M9/3+97vvfd7D0B8DTttnXsUndvUrVk2\n",
       "nZc+j523pnSga9u6obNkEN88IoU2ptycO+GOnr1fmp0Ziup2TVDQcSuXMxCbDSZnC92q3HhGrfuJ\n",
       "CN+2H+GL7MMS6r5TVh6DRU57wN791i+m/pySgZJlWUNUxNto1yXTp4sWhH+rdac5bWlqk31YBfoI\n",
       "0NaR4DG08wzMX0tRUJ1HG0XvgAi2sqPfGDN9umjMYEOtK+wgzu1cAMZIyFAPEnwGjswxMMRjHUhx\n",
       "ZAATwk5HNps96clOyfTpoimJslpXYeeViTG+LMVkGQE7x+Ul2ODJTvMLlR1ZV0yW8Vc7dnvKFPSH\n",
       "fFGmOG308wcKymf2Jvn/1Y5It8s/rLIj6eK1odaddGBk1msnxFZr1fQq61kEp7XjKHGhl4u4zwnP\n",
       "fNsonIfQlexwXTQ/MdW6JbL20147UTEju5N8ecyJr9VkzLoFrPAkEicL0uzRiSO6kh1XV+tR69bb\n",
       "4zh9F147BYFq6e4PpyVa7Ad52XujxMxqJAuRO66d686D6kp2XF30mWrdkQZWUF07Wp7NVQrV6wS9\n",
       "AafZ+WfV45EdiC30aKvznJOy0y4VamGH6+IgcCqj1K138hdp9di56hixW2KT27lcKPxcpumaRYz+\n",
       "OOxmJzHkL8F0soiua4frwjKZnYBuKbizagxohFbbiqjwyMpVzM4FrUVdJlbYt668b2dphmJnCV30\n",
       "SnvMqzspaJod+a0T6XBuZoSgeNGuOzorWL0gyD44vqQIihj6OUrAoAFvVb4ib/RGk1KFLr46dYdS\n",
       "PbpS3YkNl9cQfeyUK8vaoGh/4RiQJeMYt0YpaplaZX0zU2n6Gw5lPHb0fTclOx/7F4qE4OqGCu+T\n",
       "jOrVlcogaQMIoLBZCQ34zkvnkLg34e3agqCIwOx0S8ePH9WhEjL8djxHaHclgiICtSM2hd6AAFpE\n",
       "BeT+Vvm+oyCoIrArC7+1xV0lgYqVUFy6DSaDt7v5CgRVhBAt1uH/dFcO/8Nd+Q86UVAW6AZ3agAA\n",
       "AABJRU5ErkJggg==\n",
       "\" style=\"display:inline;vertical-align:middle;\" /></a></span><br>"
      ],
      "text/plain": [
       "set_1234567_ProperSuperset_set_12345: |- {1, 2, 3, 4, 5, 6, 7} proper_superset {1, 2, 3, 4, 5}"
      ]
     },
     "execution_count": 158,
     "metadata": {},
     "output_type": "execute_result"
    }
   ],
   "source": [
    "# establish the ProperSuperset relation by reversing:\n",
    "set_1234567_ProperSuperset_set_12345 = set_12345_ProperSubset_set_1234567.derive_reversed()"
   ]
  },
  {
   "cell_type": "code",
   "execution_count": 159,
   "metadata": {},
   "outputs": [
    {
     "data": {
      "text/html": [
       "<span style=\"font-size:20px;\"> <a class=\"ProveItLink\" href=\"../__pv_it/demonstrations/a43de95d64c277858665186a758e359f36a323120/proof.ipynb\" style=\"text-decoration: none\">&nbsp;&#x22A2;&nbsp;&nbsp;</a><a class=\"ProveItLink\" href=\"../__pv_it/demonstrations/ee43fc0f6b2d23c320ccee326a1226cb4853e1620/expr.ipynb\"><img src=\"data:image/png;base64,iVBORw0KGgoAAAANSUhEUgAAAOEAAAAVBAMAAABCnpRGAAAAMFBMVEX///+IiIi6urrc3NxERETM\n",
       "zMwQEBCqqqpUVFQiIiJ2dnYyMjLu7u5mZmaYmJgAAABN0h6tAAAAAXRSTlMAQObYZgAAAw9JREFU\n",
       "SMe1Vk1IVFEU/ubPmTfOvHHVQgJn5S4YCIIESyKIomgWbVpIIikFgbOSFokGBWmkRi2aKBrBJCeK\n",
       "twlEUJ8top/FjP1AlBPTpl0pBYk19Hr39933kxvpLt775px7z3fPPd898wDon7Dd0b0zyPq17jHE\n",
       "VkzySs1j+6M977e9KvlM4T7y1NdVW6p2kC+OlKcLMgf+XjS7hW2qlc07ea1cLiFt+BnXXL86yofs\n",
       "50cCk5PkOWgyx3MkvzPUifgfMf0Wfw9Yv0QCWU6yZlnWCA/iHrNq3EgVw3VuI5NTYxPcswr0M9RW\n",
       "wCZfGzrDwfzFHEfHEO2i4A2QwL8YnbihDWQmFUZ7q9xzFphgUduz+M3X7pvjYEQW5IdAdrHuS8ZY\n",
       "sVi8WVdzFHHDvcgYgYxLJiaECuSplnyM0R5FDi2uHCMPcwGM9nCdqstzT8AXXGx6TjCOf37HQObJ\n",
       "1GvJToIoO4hMBjKmbtuPGYIShtsTFuLouMttyxCMR7E/S0FlEZpQ7WOv4IfY66orbmR2Veh3MO9m\n",
       "1OTRhXpFqeZktChLoLKO9Dm+d0q2oDBqrCZ9nrPbYW+2uQqcuAG3p+Ys7afGeF5hTDPJ2LrT+S0K\n",
       "0TNKXHeWJUghY4dzHsYmssXRFtEupCdU5WA3cJwe3EsIRrsA/LZqBnSuK43ekjklx6jp9BcRN5JD\n",
       "dMPOkRxgosvFOEScZFgmZzxfq/1cYbs0kG4w7h6ZY2bEW0d2qrikxs00KOOaX6uxEkKM8bSiWt4B\n",
       "0jQ5Oq2BNJfnqapHq2gN0GpTF7QG1ypjbDORIhd+b/nRKCok7DdyHysGZ6dOu1V9yVGEMTwrMDRc\n",
       "grvnxA2FUcTV6577+H5goY6ivZ8ly9qEdofUofY2yxCmrXHqROcDW+IUJT9c5mhPwc349IrpMMq4\n",
       "2FU7AFcHoJuTuroAH3KcQUjpckfyapdzT+OMsgRJKM3SixxnIAro5DP+aYzRkdmybEgtfiSdgWjL\n",
       "/0dnGvt/hPwGkB8JOvyoviVqz/oZm0u+aWHWxeL/6ztnKPA75y8ArRUXcbfSJgAAAABJRU5ErkJg\n",
       "gg==\n",
       "\" style=\"display:inline;vertical-align:middle;\" /></a></span>"
      ],
      "text/plain": [
       "|- {1, 2, 3, 4, 5, 6, 7} proper_superset {1, 3}"
      ]
     },
     "execution_count": 159,
     "metadata": {},
     "output_type": "execute_result"
    }
   ],
   "source": [
    "# use transitivity to go from largest set to smallest set\n",
    "# (even though using expressions, the expressions have to be true or provable)\n",
    "set_1234567_ProperSuperset_set_12345.apply_transitivity(set_12345_ProperSuperset_set_13.expr)"
   ]
  },
  {
   "cell_type": "code",
   "execution_count": 160,
   "metadata": {},
   "outputs": [
    {
     "data": {
      "text/html": [
       "<strong id=\"A_properSuperset_B\">A_properSuperset_B:</strong> <a class=\"ProveItLink\" href=\"../__pv_it/theorems/2fced9727b6076180192dd37cb5cd3a2262487000/expr.ipynb\"><img src=\"data:image/png;base64,iVBORw0KGgoAAAANSUhEUgAAADsAAAAPBAMAAACo4Ko7AAAAMFBMVEX///92dnYiIiIQEBBERERU\n",
       "VFS6urqIiIjc3NxmZmaqqqru7u6YmJgyMjLMzMwAAADiRdoGAAAAAXRSTlMAQObYZgAAAOlJREFU\n",
       "GNNjYACBtwzogCf+68wQNyjnPoY0A7MDA8P8BxCl9zdgSL8/wMCQPwHM3DW/AUQ9UlJS8oFJ1wOF\n",
       "zheAmQfqE2CijTegDGcGBm4jsKFsG9YfgBvaBKW/Ak2LBrO2MbwvgEtzQezj+3qmRAsiksDQPwHh\n",
       "JgUwyf6DgWFzAFhh5Mx4B4R0BJhkMQAq+QW2GujJCwhpbzDJD9TJ/h3EWsDAwGSAbjjI26zfgAwO\n",
       "oDTvB7gsuwDc2+8doD5h+QGXXguhLgMtNQF6e8v/2wxc/p+gTudOhfg19n/kVJcFqMEMDFQVOVQh\n",
       "AHRFPLnG8m3jAAAAAElFTkSuQmCC\n",
       "\" style=\"display:inline;vertical-align:middle;\" /></a><br>\n",
       "<strong id=\"B_properSuperset_C\">B_properSuperset_C:</strong> <a class=\"ProveItLink\" href=\"../__pv_it/theorems/0be1b691926a6b87f52af94a2c8b49be782c46d40/expr.ipynb\"><img src=\"data:image/png;base64,iVBORw0KGgoAAAANSUhEUgAAAD0AAAAPBAMAAACl/tp8AAAAMFBMVEX///92dnYyMjKqqqoiIiLu\n",
       "7u7c3NyIiIjMzMwQEBC6urpERERmZmZUVFSYmJgAAADEjrHzAAAAAXRSTlMAQObYZgAAAO5JREFU\n",
       "GNNjYGB4+//O2d0LGNABa/Wde2wCINZsBgaeHxjylQ8YmE8+ADI4/jEwcP1Bl452BRLnE4AE+zcG\n",
       "Br7vILEWFxeXfVB5zQAgsRLE4p7AwBDpCtOXqAameD6DyB4QwX+BgcM3AG5wCpjMdwCRYSCi/97z\n",
       "LQYIi5kPgEj5ArhAfQID61wkl4F1+jfA+TtBapAMuAYi5oMtBBN/QfII4xi2gvWDrWqAep/h/gI0\n",
       "88E+Z2SAep/jN0KaHRym+SADRUEsJqD3V25FyBtBfAE01QZkPa/+3zO3NyNiZe1VCCNm7x2MOAOG\n",
       "r7cEqhAAWfk9AS45K60AAAAASUVORK5CYII=\n",
       "\" style=\"display:inline;vertical-align:middle;\" /></a><br>\n",
       "<strong id=\"B_equals_D\">B_equals_D:</strong> <a class=\"ProveItLink\" href=\"../__pv_it/demonstrations/aa07d04aa34af5def795608f4ebeb61718afb3d10/expr.ipynb\"><img src=\"data:image/png;base64,iVBORw0KGgoAAAANSUhEUgAAAD0AAAAOBAMAAABuognZAAAAMFBMVEX///92dnYyMjKqqqoiIiLu\n",
       "7u7c3NyIiIjMzMwQEBC6urpERERmZmZUVFSYmJgAAADEjrHzAAAAAXRSTlMAQObYZgAAANVJREFU\n",
       "GNNjYGB4+//O2d0LGNDA2/97b+9NADNnMzDw/ECXZ/jEwMD3GcTg+MfAwPUHXZrjO5A4CWKxfwOq\n",
       "/I4uzw4ycf0DIME9gYEh0hVdnvsDkMgXABL8Fxg4fAPQ5fk3gPRfABL9955vMQAJMSqBwQGwfH8B\n",
       "kKgH6a9PYGCdi+H8+gYgcR/k7Z0gngG6/H4Q8RNE/AXJF6DL/wZivn9Q70MMgtp/Ae79yA1Q73P8\n",
       "xuZ9ViUQiwno/ZVb0eWZgN5fAvIJr/7fM7c3o0sDRc/ePgZkAADK8kIyXFvIfAAAAABJRU5ErkJg\n",
       "gg==\n",
       "\" style=\"display:inline;vertical-align:middle;\" /></a><br>\n",
       "<strong id=\"C_properSubset_B\">C_properSubset_B:</strong> <a class=\"ProveItLink\" href=\"../__pv_it/demonstrations/8ad3a3343be412c4e4fd88a755d4d64f6fb7eba40/expr.ipynb\"><img src=\"data:image/png;base64,iVBORw0KGgoAAAANSUhEUgAAADsAAAAPBAMAAACo4Ko7AAAAMFBMVEX////MzMy6uroyMjIiIiKq\n",
       "qqoQEBB2dnbc3NyYmJhmZmZUVFRERESIiIju7u4AAACOKgoaAAAAAXRSTlMAQObYZgAAAPZJREFU\n",
       "GNNjYGDgu7NrJ0cBAyrg3P971Z5DINa1CQysyyagSTOwHWBgWC/AwPDGD8hZ34AuLQ/UoL+AgcHs\n",
       "AZCjBhGb4+Li4ghh3gdqmH+BgesriCMFFmquQOg+BnRUygOGfgcQ5wVYyAPJ8N8MDCL7GBjqL8BF\n",
       "uAIQsoy/Z95xBdL+AnAhFiTNvD8YGJ5tYGDIB7mMAUx0I0nzJACVAJ3lD+Kwgo14gyTND9TJ+xfq\n",
       "Y3YMw0He5v7EwNAPclodWIgd4Uqwt+WBAcf6k4Eh6gFEzBQhbcbAwJQDEn51epcCVOz1Jqg6hs3/\n",
       "d60+E4Ae0OJH4IEKAQAc1UHDebzd9gAAAABJRU5ErkJggg==\n",
       "\" style=\"display:inline;vertical-align:middle;\" /></a><br>\n",
       "<strong id=\"C_subset_eq_D\">C_subset_eq_D:</strong> <a class=\"ProveItLink\" href=\"../__pv_it/demonstrations/110386be544bd8f4a46ca6bd4f9526e1f06af8420/expr.ipynb\"><img src=\"data:image/png;base64,iVBORw0KGgoAAAANSUhEUgAAADwAAAARBAMAAABz4NKpAAAAMFBMVEX////MzMy6uroyMjIiIiKq\n",
       "qqoQEBB2dnbc3NyYmJhmZmZUVFRERESIiIju7u4AAACOKgoaAAAAAXRSTlMAQObYZgAAAPdJREFU\n",
       "KM9jYGDgu7NrJ0cBAyrg3P9n95kdINa1CQysyyaABWe7uLg4QuT5DRgY5gcwMLzxA3LWN4CEmisQ\n",
       "2uUvMDBwJTAwmD0ActTAQhZIpt8XYGBg+snA9RXEkQIRXAFI0ueBmOM7Q78DiPMCRLAgu+0PEDP9\n",
       "Zqi/ABfpRpJl/AskeL8z+AvAhd4gSfN+BBLcnxjyQS5jeIBuOM8HkOcSGPxBHFawEewIexj4DwCJ\n",
       "+RMgPmaHiJmiepsvh4GhH6SlDiL2etMDZG8/BgYc608GhiiYqPgRWKDaA73lBWK8Or1LgQEdbP6/\n",
       "a/epBgYqAnYXF0SEQgAABXI/jEXQuAYAAAAASUVORK5CYII=\n",
       "\" style=\"display:inline;vertical-align:middle;\" /></a><br>"
      ],
      "text/plain": [
       "A_properSuperset_B: A proper_superset B\n",
       "B_properSuperset_C: B proper_superset C\n",
       "B_equals_D: B = D\n",
       "C_properSubset_B: C proper_subset B\n",
       "C_subset_eq_D: C subseteq D"
      ]
     },
     "execution_count": 160,
     "metadata": {},
     "output_type": "execute_result"
    }
   ],
   "source": [
    "# this process can work more generally:\n",
    "A_properSuperset_B, B_properSuperset_C, B_equals_D, C_properSubset_B, C_subset_eq_D = (\n",
    "    ProperSuperset(A, B), ProperSuperset(B, C), Equals(B, D),\n",
    "    ProperSubset(C, B), SubsetEq(C, D))"
   ]
  },
  {
   "cell_type": "code",
   "execution_count": 161,
   "metadata": {},
   "outputs": [
    {
     "data": {
      "text/html": [
       "<span style=\"font-size:20px;\"><a class=\"ProveItLink\" href=\"../__pv_it/theorems/2fced9727b6076180192dd37cb5cd3a2262487000/expr.ipynb\"><img src=\"data:image/png;base64,iVBORw0KGgoAAAANSUhEUgAAADsAAAAPBAMAAACo4Ko7AAAAMFBMVEX///92dnYiIiIQEBBERERU\n",
       "VFS6urqIiIjc3NxmZmaqqqru7u6YmJgyMjLMzMwAAADiRdoGAAAAAXRSTlMAQObYZgAAAOlJREFU\n",
       "GNNjYACBtwzogCf+68wQNyjnPoY0A7MDA8P8BxCl9zdgSL8/wMCQPwHM3DW/AUQ9UlJS8oFJ1wOF\n",
       "zheAmQfqE2CijTegDGcGBm4jsKFsG9YfgBvaBKW/Ak2LBrO2MbwvgEtzQezj+3qmRAsiksDQPwHh\n",
       "JgUwyf6DgWFzAFhh5Mx4B4R0BJhkMQAq+QW2GujJCwhpbzDJD9TJ/h3EWsDAwGSAbjjI26zfgAwO\n",
       "oDTvB7gsuwDc2+8doD5h+QGXXguhLgMtNQF6e8v/2wxc/p+gTudOhfg19n/kVJcFqMEMDFQVOVQh\n",
       "AHRFPLnG8m3jAAAAAElFTkSuQmCC\n",
       "\" style=\"display:inline;vertical-align:middle;\" /></a>, <a class=\"ProveItLink\" href=\"../__pv_it/theorems/0be1b691926a6b87f52af94a2c8b49be782c46d40/expr.ipynb\"><img src=\"data:image/png;base64,iVBORw0KGgoAAAANSUhEUgAAAD0AAAAPBAMAAACl/tp8AAAAMFBMVEX///92dnYyMjKqqqoiIiLu\n",
       "7u7c3NyIiIjMzMwQEBC6urpERERmZmZUVFSYmJgAAADEjrHzAAAAAXRSTlMAQObYZgAAAO5JREFU\n",
       "GNNjYGB4+//O2d0LGNABa/Wde2wCINZsBgaeHxjylQ8YmE8+ADI4/jEwcP1Bl452BRLnE4AE+zcG\n",
       "Br7vILEWFxeXfVB5zQAgsRLE4p7AwBDpCtOXqAameD6DyB4QwX+BgcM3AG5wCpjMdwCRYSCi/97z\n",
       "LQYIi5kPgEj5ArhAfQID61wkl4F1+jfA+TtBapAMuAYi5oMtBBN/QfII4xi2gvWDrWqAep/h/gI0\n",
       "88E+Z2SAep/jN0KaHRym+SADRUEsJqD3V25FyBtBfAE01QZkPa/+3zO3NyNiZe1VCCNm7x2MOAOG\n",
       "r7cEqhAAWfk9AS45K60AAAAASUVORK5CYII=\n",
       "\" style=\"display:inline;vertical-align:middle;\" /></a> <a class=\"ProveItLink\" href=\"../__pv_it/demonstrations/13b06f8d8569c0cdb310284d6c678426cc393edf0/proof.ipynb\" style=\"text-decoration: none\">&nbsp;&#x22A2;&nbsp;&nbsp;</a><a class=\"ProveItLink\" href=\"../__pv_it/theorems/cf6938cc79ea065d4e8dca1fa239d11b9e282cdc0/expr.ipynb\"><img src=\"data:image/png;base64,iVBORw0KGgoAAAANSUhEUgAAADsAAAAPBAMAAACo4Ko7AAAAMFBMVEX///92dnYiIiIQEBBERERU\n",
       "VFS6urqIiIjc3NxmZmaqqqru7u6YmJgyMjLMzMwAAADiRdoGAAAAAXRSTlMAQObYZgAAANpJREFU\n",
       "GNNjYACBtwwYgLskMoZDAMK+jyldfICBa/IBMJPn/gZ02S3aQGJ+A5i9C0I/UlJS8oFKXwZpSIaw\n",
       "D9QnwHQ13gBTnL9A5Eswm23D+gNwU5vAZL8CiNwBZm9jeF8Al+aaACLlEQIMCQz9ExA8sD79B3A+\n",
       "X+TMeAeEdASIsAd7BUywMTAwX0BIe4N1g+0BG7GAgYHJAM1wsE8ZQSwOoDTvB7gsOzgg+0FOk4b5\n",
       "hOUHXHotxP1/GBhWgqze8v82A5f/J6jTuVOjIYydrpEJaOEMDFQVOVQhAG+pNQv3LJVHAAAAAElF\n",
       "TkSuQmCC\n",
       "\" style=\"display:inline;vertical-align:middle;\" /></a></span>"
      ],
      "text/plain": [
       "{A proper_superset B, B proper_superset C} |- A proper_superset C"
      ]
     },
     "execution_count": 161,
     "metadata": {},
     "output_type": "execute_result"
    }
   ],
   "source": [
    "A_properSuperset_B.apply_transitivity(\n",
    "        B_properSuperset_C, assumptions=[A_properSuperset_B, B_properSuperset_C])"
   ]
  },
  {
   "cell_type": "code",
   "execution_count": 162,
   "metadata": {},
   "outputs": [
    {
     "data": {
      "text/html": [
       "<span style=\"font-size:20px;\"><a class=\"ProveItLink\" href=\"../__pv_it/theorems/2fced9727b6076180192dd37cb5cd3a2262487000/expr.ipynb\"><img src=\"data:image/png;base64,iVBORw0KGgoAAAANSUhEUgAAADsAAAAPBAMAAACo4Ko7AAAAMFBMVEX///92dnYiIiIQEBBERERU\n",
       "VFS6urqIiIjc3NxmZmaqqqru7u6YmJgyMjLMzMwAAADiRdoGAAAAAXRSTlMAQObYZgAAAOlJREFU\n",
       "GNNjYACBtwzogCf+68wQNyjnPoY0A7MDA8P8BxCl9zdgSL8/wMCQPwHM3DW/AUQ9UlJS8oFJ1wOF\n",
       "zheAmQfqE2CijTegDGcGBm4jsKFsG9YfgBvaBKW/Ak2LBrO2MbwvgEtzQezj+3qmRAsiksDQPwHh\n",
       "JgUwyf6DgWFzAFhh5Mx4B4R0BJhkMQAq+QW2GujJCwhpbzDJD9TJ/h3EWsDAwGSAbjjI26zfgAwO\n",
       "oDTvB7gsuwDc2+8doD5h+QGXXguhLgMtNQF6e8v/2wxc/p+gTudOhfg19n/kVJcFqMEMDFQVOVQh\n",
       "AHRFPLnG8m3jAAAAAElFTkSuQmCC\n",
       "\" style=\"display:inline;vertical-align:middle;\" /></a>, <a class=\"ProveItLink\" href=\"../__pv_it/demonstrations/aa07d04aa34af5def795608f4ebeb61718afb3d10/expr.ipynb\"><img src=\"data:image/png;base64,iVBORw0KGgoAAAANSUhEUgAAAD0AAAAOBAMAAABuognZAAAAMFBMVEX///92dnYyMjKqqqoiIiLu\n",
       "7u7c3NyIiIjMzMwQEBC6urpERERmZmZUVFSYmJgAAADEjrHzAAAAAXRSTlMAQObYZgAAANVJREFU\n",
       "GNNjYGB4+//O2d0LGNDA2/97b+9NADNnMzDw/ECXZ/jEwMD3GcTg+MfAwPUHXZrjO5A4CWKxfwOq\n",
       "/I4uzw4ycf0DIME9gYEh0hVdnvsDkMgXABL8Fxg4fAPQ5fk3gPRfABL9955vMQAJMSqBwQGwfH8B\n",
       "kKgH6a9PYGCdi+H8+gYgcR/k7Z0gngG6/H4Q8RNE/AXJF6DL/wZivn9Q70MMgtp/Ae79yA1Q73P8\n",
       "xuZ9ViUQiwno/ZVb0eWZgN5fAvIJr/7fM7c3o0sDRc/ePgZkAADK8kIyXFvIfAAAAABJRU5ErkJg\n",
       "gg==\n",
       "\" style=\"display:inline;vertical-align:middle;\" /></a> <a class=\"ProveItLink\" href=\"../__pv_it/demonstrations/39e2ffc7d6b5676d9118053bce2bc03697346b6c0/proof.ipynb\" style=\"text-decoration: none\">&nbsp;&#x22A2;&nbsp;&nbsp;</a><a class=\"ProveItLink\" href=\"../__pv_it/demonstrations/1e75847e6cd3d0007d14fb1cd2fcc79b55439c540/expr.ipynb\"><img src=\"data:image/png;base64,iVBORw0KGgoAAAANSUhEUgAAADwAAAAPBAMAAABKPLFCAAAAMFBMVEX///92dnYiIiIQEBBERERU\n",
       "VFS6urqIiIjc3NxmZmaqqqru7u6YmJgyMjLMzMwAAADiRdoGAAAAAXRSTlMAQObYZgAAAOhJREFU\n",
       "GNNjYACBtwzogCf+S6hLBJRzH0Oagf8CA8P5BRCl9zdgSL8vYGDgNAAzd81vAFF8SkpKKgeg0vUP\n",
       "GBjY/oCZB+oTYJo4ZBsgDH8Q5yOIxbZh/QG4oRwKEPoLSOIriLUNbBEMrASTfN+BBDtYdwJD/wSE\n",
       "NBOYZP8HJFi/gRRGzox3QEizgi1n+QDyHMjlbAwMzBcQ0ixgT/KDNJwHOQnodyYDdMNBruE2ATkV\n",
       "KM37ASFdCPf2XpCZTSADf8BluS7AgplNE0hv+X+bgcv/E8zp20LBVsf+jwz1bEANZlCgOj5AEQIA\n",
       "ses7XDQ3hYYAAAAASUVORK5CYII=\n",
       "\" style=\"display:inline;vertical-align:middle;\" /></a></span>"
      ],
      "text/plain": [
       "{A proper_superset B, B = D} |- A proper_superset D"
      ]
     },
     "execution_count": 162,
     "metadata": {},
     "output_type": "execute_result"
    }
   ],
   "source": [
    "A_properSuperset_B.apply_transitivity(\n",
    "        B_equals_D, assumptions=[A_properSuperset_B, B_equals_D])"
   ]
  },
  {
   "cell_type": "code",
   "execution_count": 163,
   "metadata": {},
   "outputs": [
    {
     "data": {
      "text/html": [
       "<span style=\"font-size:20px;\"><a class=\"ProveItLink\" href=\"../__pv_it/theorems/2fced9727b6076180192dd37cb5cd3a2262487000/expr.ipynb\"><img src=\"data:image/png;base64,iVBORw0KGgoAAAANSUhEUgAAADsAAAAPBAMAAACo4Ko7AAAAMFBMVEX///92dnYiIiIQEBBERERU\n",
       "VFS6urqIiIjc3NxmZmaqqqru7u6YmJgyMjLMzMwAAADiRdoGAAAAAXRSTlMAQObYZgAAAOlJREFU\n",
       "GNNjYACBtwzogCf+68wQNyjnPoY0A7MDA8P8BxCl9zdgSL8/wMCQPwHM3DW/AUQ9UlJS8oFJ1wOF\n",
       "zheAmQfqE2CijTegDGcGBm4jsKFsG9YfgBvaBKW/Ak2LBrO2MbwvgEtzQezj+3qmRAsiksDQPwHh\n",
       "JgUwyf6DgWFzAFhh5Mx4B4R0BJhkMQAq+QW2GujJCwhpbzDJD9TJ/h3EWsDAwGSAbjjI26zfgAwO\n",
       "oDTvB7gsuwDc2+8doD5h+QGXXguhLgMtNQF6e8v/2wxc/p+gTudOhfg19n/kVJcFqMEMDFQVOVQh\n",
       "AHRFPLnG8m3jAAAAAElFTkSuQmCC\n",
       "\" style=\"display:inline;vertical-align:middle;\" /></a>, <a class=\"ProveItLink\" href=\"../__pv_it/demonstrations/88e3cc08aa40baee45acedba07bfbede928f692a0/expr.ipynb\"><img src=\"data:image/png;base64,iVBORw0KGgoAAAANSUhEUgAAAD0AAAAOBAMAAABuognZAAAAMFBMVEX///8iIiLu7u52dna6uroQ\n",
       "EBBmZmaIiIjMzMyqqqoyMjLc3NxERERUVFSYmJgAAAAdjRNVAAAAAXRSTlMAQObYZgAAANhJREFU\n",
       "GNNjYGB4+//snbMbGNAA3/2/aXeOgJm/gLyf6PIMrAcYGPIbgAyO70AiFUO+/wEDg38CkMH+A0j4\n",
       "P0CXrwda+b4AyOD5ACT2G6DLH2VgYApUADL4D4D0X0CX/8vA0HgJbBHIkHqQfqtVILAMLM3x912N\n",
       "JMQikCPvO6BpZ//NwKAKNvQ8iPiKbjxPAFAN2Nd/QKHxD12eH6iX/TvM+6ogN0LtXwv3Pu8XqPeZ\n",
       "VjFg834/SBcX0PuOCRjySxkYWGKA3udd/zf3TjaG9K3/13LPTGBgAADjW0c0eJFbMgAAAABJRU5E\n",
       "rkJggg==\n",
       "\" style=\"display:inline;vertical-align:middle;\" /></a> <a class=\"ProveItLink\" href=\"../__pv_it/demonstrations/c549fadc7f6947bd31a4354f36ce420a5b8166d40/proof.ipynb\" style=\"text-decoration: none\">&nbsp;&#x22A2;&nbsp;&nbsp;</a><a class=\"ProveItLink\" href=\"../__pv_it/demonstrations/1e75847e6cd3d0007d14fb1cd2fcc79b55439c540/expr.ipynb\"><img src=\"data:image/png;base64,iVBORw0KGgoAAAANSUhEUgAAADwAAAAPBAMAAABKPLFCAAAAMFBMVEX///92dnYiIiIQEBBERERU\n",
       "VFS6urqIiIjc3NxmZmaqqqru7u6YmJgyMjLMzMwAAADiRdoGAAAAAXRSTlMAQObYZgAAAOhJREFU\n",
       "GNNjYACBtwzogCf+S6hLBJRzH0Oagf8CA8P5BRCl9zdgSL8vYGDgNAAzd81vAFF8SkpKKgeg0vUP\n",
       "GBjY/oCZB+oTYJo4ZBsgDH8Q5yOIxbZh/QG4oRwKEPoLSOIriLUNbBEMrASTfN+BBDtYdwJD/wSE\n",
       "NBOYZP8HJFi/gRRGzox3QEizgi1n+QDyHMjlbAwMzBcQ0ixgT/KDNJwHOQnodyYDdMNBruE2ATkV\n",
       "KM37ASFdCPf2XpCZTSADf8BluS7AgplNE0hv+X+bgcv/E8zp20LBVsf+jwz1bEANZlCgOj5AEQIA\n",
       "ses7XDQ3hYYAAAAASUVORK5CYII=\n",
       "\" style=\"display:inline;vertical-align:middle;\" /></a></span>"
      ],
      "text/plain": [
       "{A proper_superset B, D = B} |- A proper_superset D"
      ]
     },
     "execution_count": 163,
     "metadata": {},
     "output_type": "execute_result"
    }
   ],
   "source": [
    "A_properSuperset_B.apply_transitivity(\n",
    "        D_equals_B, assumptions=[A_properSuperset_B, D_equals_B])"
   ]
  },
  {
   "cell_type": "code",
   "execution_count": 164,
   "metadata": {},
   "outputs": [
    {
     "data": {
      "text/html": [
       "<span style=\"font-size:20px;\"><a class=\"ProveItLink\" href=\"../__pv_it/theorems/2fced9727b6076180192dd37cb5cd3a2262487000/expr.ipynb\"><img src=\"data:image/png;base64,iVBORw0KGgoAAAANSUhEUgAAADsAAAAPBAMAAACo4Ko7AAAAMFBMVEX///92dnYiIiIQEBBERERU\n",
       "VFS6urqIiIjc3NxmZmaqqqru7u6YmJgyMjLMzMwAAADiRdoGAAAAAXRSTlMAQObYZgAAAOlJREFU\n",
       "GNNjYACBtwzogCf+68wQNyjnPoY0A7MDA8P8BxCl9zdgSL8/wMCQPwHM3DW/AUQ9UlJS8oFJ1wOF\n",
       "zheAmQfqE2CijTegDGcGBm4jsKFsG9YfgBvaBKW/Ak2LBrO2MbwvgEtzQezj+3qmRAsiksDQPwHh\n",
       "JgUwyf6DgWFzAFhh5Mx4B4R0BJhkMQAq+QW2GujJCwhpbzDJD9TJ/h3EWsDAwGSAbjjI26zfgAwO\n",
       "oDTvB7gsuwDc2+8doD5h+QGXXguhLgMtNQF6e8v/2wxc/p+gTudOhfg19n/kVJcFqMEMDFQVOVQh\n",
       "AHRFPLnG8m3jAAAAAElFTkSuQmCC\n",
       "\" style=\"display:inline;vertical-align:middle;\" /></a>, <a class=\"ProveItLink\" href=\"../__pv_it/demonstrations/8ad3a3343be412c4e4fd88a755d4d64f6fb7eba40/expr.ipynb\"><img src=\"data:image/png;base64,iVBORw0KGgoAAAANSUhEUgAAADsAAAAPBAMAAACo4Ko7AAAAMFBMVEX////MzMy6uroyMjIiIiKq\n",
       "qqoQEBB2dnbc3NyYmJhmZmZUVFRERESIiIju7u4AAACOKgoaAAAAAXRSTlMAQObYZgAAAPZJREFU\n",
       "GNNjYGDgu7NrJ0cBAyrg3P971Z5DINa1CQysyyagSTOwHWBgWC/AwPDGD8hZ34AuLQ/UoL+AgcHs\n",
       "AZCjBhGb4+Li4ghh3gdqmH+BgesriCMFFmquQOg+BnRUygOGfgcQ5wVYyAPJ8N8MDCL7GBjqL8BF\n",
       "uAIQsoy/Z95xBdL+AnAhFiTNvD8YGJ5tYGDIB7mMAUx0I0nzJACVAJ3lD+Kwgo14gyTND9TJ+xfq\n",
       "Y3YMw0He5v7EwNAPclodWIgd4Uqwt+WBAcf6k4Eh6gFEzBQhbcbAwJQDEn51epcCVOz1Jqg6hs3/\n",
       "d60+E4Ae0OJH4IEKAQAc1UHDebzd9gAAAABJRU5ErkJggg==\n",
       "\" style=\"display:inline;vertical-align:middle;\" /></a> <a class=\"ProveItLink\" href=\"../__pv_it/demonstrations/1f2a3b35063485c951b5db7ef49d701e5a9d517c0/proof.ipynb\" style=\"text-decoration: none\">&nbsp;&#x22A2;&nbsp;&nbsp;</a><a class=\"ProveItLink\" href=\"../__pv_it/theorems/cf6938cc79ea065d4e8dca1fa239d11b9e282cdc0/expr.ipynb\"><img src=\"data:image/png;base64,iVBORw0KGgoAAAANSUhEUgAAADsAAAAPBAMAAACo4Ko7AAAAMFBMVEX///92dnYiIiIQEBBERERU\n",
       "VFS6urqIiIjc3NxmZmaqqqru7u6YmJgyMjLMzMwAAADiRdoGAAAAAXRSTlMAQObYZgAAANpJREFU\n",
       "GNNjYACBtwwYgLskMoZDAMK+jyldfICBa/IBMJPn/gZ02S3aQGJ+A5i9C0I/UlJS8oFKXwZpSIaw\n",
       "D9QnwHQ13gBTnL9A5Eswm23D+gNwU5vAZL8CiNwBZm9jeF8Al+aaACLlEQIMCQz9ExA8sD79B3A+\n",
       "X+TMeAeEdASIsAd7BUywMTAwX0BIe4N1g+0BG7GAgYHJAM1wsE8ZQSwOoDTvB7gsOzgg+0FOk4b5\n",
       "hOUHXHotxP1/GBhWgqze8v82A5f/J6jTuVOjIYydrpEJaOEMDFQVOVQhAG+pNQv3LJVHAAAAAElF\n",
       "TkSuQmCC\n",
       "\" style=\"display:inline;vertical-align:middle;\" /></a></span>"
      ],
      "text/plain": [
       "{A proper_superset B, C proper_subset B} |- A proper_superset C"
      ]
     },
     "execution_count": 164,
     "metadata": {},
     "output_type": "execute_result"
    }
   ],
   "source": [
    "## Now need to try calling when the other needs reversed\n",
    "A_properSuperset_B.apply_transitivity(\n",
    "        C_properSubset_B, assumptions=[A_properSuperset_B, C_properSubset_B])"
   ]
  },
  {
   "cell_type": "markdown",
   "metadata": {},
   "source": [
    "### Testing the `SupersetEq` class methods\n",
    "<br/>\n",
    "<font size =3>The <span style=\"font-family=courier\">SupersetEq</span> class has the following class methods:<br/>\n",
    "    <div style=\"width: 50%; border: 1px solid green; padding: 5px; margin: 20px; background-color: gainsboro; font-family:courier\">\n",
    "        <ul>\n",
    "            <li>derive_reversed(self, assumptions=USE_DEFAULTS)</li>\n",
    "            <li>conclude(self, assumptions=USE_DEFAULTS)</li>\n",
    "            <li>conclude_via_equality(self, assumptions)</li>\n",
    "            <li>unfold(self, elem_instance_var=x, assumptions=USE_DEFAULTS)</li>\n",
    "            <li>derive_superset_membership(self, element, assumptions=USE_DEFAULTS)</li>\n",
    "            <li>conclude_as_folded(self, elem_instance_var=x, assumptions=USE_DEFAULTS)</li>\n",
    "            <li>apply_transitivity(self, other, assumptions=USE_DEFAULTS)</li>\n",
    "            <li>deduce_in_bool(self, assumptions=USE_DEFAULTS)</li>\n",
    "        </ul>\n",
    "    </div>\n",
    "</font>"
   ]
  },
  {
   "cell_type": "code",
   "execution_count": 165,
   "metadata": {},
   "outputs": [
    {
     "data": {
      "text/html": [
       "<strong id=\"set_134_superset_eq_set_13\">set_134_superset_eq_set_13:</strong> <a class=\"ProveItLink\" href=\"../__pv_it/demonstrations/4ca3f64bc3783086e47e53061ce3b021a271667f0/expr.ipynb\"><img src=\"data:image/png;base64,iVBORw0KGgoAAAANSUhEUgAAAJIAAAAVBAMAAABf4KrdAAAAMFBMVEX///+IiIi6urrc3NxERETM\n",
       "zMwQEBCqqqpUVFQiIiJ2dnYyMjLu7u5mZmaYmJgAAABN0h6tAAAAAXRSTlMAQObYZgAAAcBJREFU\n",
       "OMuVlL1LA0EQxZ9Kckk8QyorIanSCYKdICj+AUlhYyGIiJ2YxlQWqQVR0eZAMYUQsAraiBBISgmo\n",
       "iIVNNGApqKUiqNnZvb2duzXgFcsy895vv+YGQPoRf36LY5Zg1CBl7iX6fPliJGQzkCz9boaGTk9K\n",
       "/jx2C4zUo1uyGEiW2hWBclMmpuF8+6Jkxc+i7XnerArbDBQTg7u1oxLZEj590mhAEt/1WUAKGzQJ\n",
       "eFOJfA5f/r5fOAntCWNP3GAhIThdajhEitUtJPDTmYmrqpo8E2nJuN1zK0kYSJaos8TUkZq5GUFi\n",
       "D1Wj0WYgWbnIlxhYVoeDIKFhkO5otBp6svl98ARW5XRDkhJ7AYk2YzcIWZ4tMQkUqDTdqiRdBCCn\n",
       "YpR9yCBkiRkz8dNUJGe787SWYfe0IDU2A8n4U6wAx/6+4+zt3PE5WN5OGkgmE9kmXFGSr6I8bmTh\n",
       "xGfMv+Wgxv4WZjDq6WG90YXXW2awc59D8pAchY8uq0yTxA1mZdLV6OfY5DYLKWSQJH0TKS2u9iVZ\n",
       "DCQLXqelLzejJao/ia7ieZVQf2qFZLoFdnUvM5phLtogowYlc/7bxx1rH/8FOIO5FILulWEAAAAA\n",
       "SUVORK5CYII=\n",
       "\" style=\"display:inline;vertical-align:middle;\" /></a><br>\n",
       "<strong id=\"set_1346_superset_eq_set_134\">set_1346_superset_eq_set_134:</strong> <a class=\"ProveItLink\" href=\"../__pv_it/demonstrations/26f28bba4740653897eff4d83d296ef06e57fe860/expr.ipynb\"><img src=\"data:image/png;base64,iVBORw0KGgoAAAANSUhEUgAAALkAAAAVBAMAAADoXVL6AAAAMFBMVEX///+IiIi6urrc3NxERETM\n",
       "zMwQEBCqqqpUVFQiIiJ2dnYyMjLu7u5mZmaYmJgAAABN0h6tAAAAAXRSTlMAQObYZgAAAmtJREFU\n",
       "OMudlT1o1GAYx//31dzlklwnBxczdRMCbgXlcBEL4g1uIhyHlQ4ON0kHRQcVVJCCDo1YvEIpXqeA\n",
       "COogVwfxY7hWOlmv3C7aomCRO6zJm/fjSS5txAyXJ8+9v3+e98n/fV8A1hbSr8J6JyH7rZ8GGK/w\n",
       "L1d2ejT3sZUKWDs0l1tZaor4gggWD9eAzVGB7cjT5MopUJQB+pz/o13m6ePQ/ogh86JE2/SANouN\n",
       "l677cJz/wVICza3hep+ibaH+7umQp4808ZuHmRkenEG+KtTZG77aSl2imV1U5igq1WEJ9QkbAx6e\n",
       "eMEb+FMVyuWfkdoFmm2g4lE0QR2qMy2unq/H1XE+Qd2/ZGda+6q/50awHK5eeb74yb8tE/Wyk6Ru\n",
       "PAJFGVD0IkMmF7ixV8HVu69RakYNooe+uhdRz7W/gKIMuFKL1p5p8NlJ9R2Yvi/Ka0rdZJ9Vm451\n",
       "5pBN0QA49yA2BJdY8VpNqPtOsH749zvjqjNsNZ52YuhYaE6BBsBEpPZjwFk27Q8Q6iUPlv+lyzdU\n",
       "AbN0NXI05yC/C4IyoFil6nsdrj7b6/1aZ6lindVO+l54HN5vUvXKUKhzdHvUMxeBJ2K/4qupMIRZ\n",
       "p555s+EkOHKsipJs0ozwDFPP+PluYJ7vgd+7Hn+TwVbWXbxt0p1gqkl3AoFafd/vxkAWqfxu3h5s\n",
       "oRTMN9vbsMMIS3v34Qbz0D/fiq0moq7Qo72TCAGGktXErqsYibRORCpBPQXQ6+JR7dYy0nGQ+nI6\n",
       "IPd3Q/pZRatq8Kbsu+vOx/b3AwBxNlkyryJ1smUbo7WXW+mA9v/n6rWUc/UvTcbd5sc+mYMAAAAA\n",
       "SUVORK5CYII=\n",
       "\" style=\"display:inline;vertical-align:middle;\" /></a><br>"
      ],
      "text/plain": [
       "set_134_superset_eq_set_13: {1, 3, 4} supseteq {1, 3}\n",
       "set_1346_superset_eq_set_134: {1, 3, 4, 6} supseteq {1, 3, 4}"
      ]
     },
     "execution_count": 165,
     "metadata": {},
     "output_type": "execute_result"
    }
   ],
   "source": [
    "# define a few proper subset relations for testing\n",
    "set_13, set_134, set_1346 = Set(one, three), Set(one, three, four), Set(one, three, four, six)\n",
    "set_134_superset_eq_set_13, set_1346_superset_eq_set_134 = (\n",
    "        SupersetEq(set_134, set_13), SupersetEq(set_1346, set_134))"
   ]
  },
  {
   "cell_type": "code",
   "execution_count": 166,
   "metadata": {},
   "outputs": [
    {
     "data": {
      "text/html": [
       "<strong id=\"set_bcf_superset_eq_set_bc\">set_bcf_superset_eq_set_bc:</strong> <a class=\"ProveItLink\" href=\"../__pv_it/demonstrations/8f892635517f67c0bdfe25e79dab25db1d7641f70/expr.ipynb\"><img src=\"data:image/png;base64,iVBORw0KGgoAAAANSUhEUgAAAI8AAAAVBAMAAACNsKCFAAAAMFBMVEX///+IiIi6urrc3NxERETM\n",
       "zMwQEBCqqqpUVFQiIiJ2dnYyMjLu7u5mZmaYmJgAAABN0h6tAAAAAXRSTlMAQObYZgAAAi9JREFU\n",
       "OMtjYGDgu8eAC7BePIBF9O0DrKp4djHgBkypmGKnF2BXxfcBaJjbBEwNPBcvMzDcxhR/D8RHMlGE\n",
       "wKq4QGZwX8DUwLH8OwPDSoiZO2fOnCIAFQcL7UVRuhJuEH8BpkHndRRgBoENe62ApOs7DoP0sQRq\n",
       "PVwJ1KTNCF1Mf3AYtBJLQK9EM4ghGiHONQGHQTsEr0PFFgoGQCM58y6QXIaknNsArou7URYaGFyC\n",
       "olBVHBuArv594DxElWUBywaovo+wKIIBLojeblD47eH5DOYwT2fwhqoqA7qA/Q8DPyRSZjFwQK1i\n",
       "/sqAFp284NBmByWa+gMQexg4FzC0Q1SFTAYp2cBwHpzMeBGByP4BTHUKILwGTsaeBuCEw/MLLHb/\n",
       "AFyVWgDYRH2wQ9gcEB4Bhyd3A8JFFYhkvJeBCZIAUhjgqjiAevkfQI0+j0j+LA1oYcQ6B0K3APE/\n",
       "qNuh7noPs5lfgScPLAI0kQEaRmxgPyFi7dAVA0Rcf2I4Bsm5/4BhAFUFMojjAcsFhvPA6OJtYDgb\n",
       "cB4cb+cVEOkIlEW8CpASTR+DLzCqgYwbDDxXkdIRz8V1wAgAOX3VOwEIg0GfgQF7SgUJnZUCOmgm\n",
       "MDS41j1ESZBgUIPCWILPIEi8HkBN2Qkw7gIkBnvDPlwGwYONC9Vsvg+wTCmAxOD02YAoacBhNHPm\n",
       "DER5BAYHUcsjBlgJyceAxOCTBccRUxKmi7hhLoeXuFBV7KSW2bXYymwAUtSmtoT2IBgAAAAASUVO\n",
       "RK5CYII=\n",
       "\" style=\"display:inline;vertical-align:middle;\" /></a><br>\n",
       "<strong id=\"set_bcdfg_superset_eq_set_bcf\">set_bcdfg_superset_eq_set_bcf:</strong> <a class=\"ProveItLink\" href=\"../__pv_it/demonstrations/b795612fcbf5a8d3612916304a72b54efb0915eb0/expr.ipynb\"><img src=\"data:image/png;base64,iVBORw0KGgoAAAANSUhEUgAAAMsAAAAVBAMAAAAa4QdfAAAAMFBMVEX///+IiIi6urrc3NxERETM\n",
       "zMwQEBCqqqpUVFQiIiJ2dnYyMjLu7u5mZmaYmJgAAABN0h6tAAAAAXRSTlMAQObYZgAAAqpJREFU\n",
       "SMetVk1rE0EYfkx23WSzxkTIpVjIqfSgmKPeKoIXLfTgxYMgUg+9SA7iScn2JCL4gYKueKhQGuJB\n",
       "g15EjKwgXkrdVhFFUdMfoNUWKfgRnO+d7WwiBeew+zA7z/O+837MLIDiJ2xmHNuZMjlAw14K6ct7\n",
       "jM2NkQljaqBG5iRz5BvwfCrNjYOLUmXptTa/rW1upp8GY36gyL1CHp00N7bXBcg117VpRgDmgyDY\n",
       "r0+laTBmSy1ZTzOzJxQg2lU1zdDx8oE2labBmMpM5neamZYEjcS0ZgbzNQzUaCgdukRnxqNj2DPM\n",
       "2G0M1GglzBSmh2Ue7pR5IWXfV2QUvkx9FOhc+TQhHNd0HsLUcMuVBHOOZYk4FD3x1viHfXWLOzhS\n",
       "s1QUvst9jGX/8LJSowlDI3sDhxLMFfo4Q7xvhFLqFnLMJ+9UXLjZHzLSIcuzXlKvYGjkZ3A+wSyQ\n",
       "xjhyDbSyvZ+8J+QOCCDL+XCk+5Ow6ffc1dgMcyWp8TlUXwXzQok3dQcZnoitY2IBAVF1Q87tHrZQ\n",
       "+Ci24vjqYFAakxurpUAX5YhyT24jkjsgQJWx5YteX4O1mMzNUe65riH2pDFXpMVVvOjyxicvlpuo\n",
       "jotOTeyspEJAD4a40rzdB2KvlUaPrITOnJNLLmEc3i+aEh8LExEJuFUq3nQRsdDT6FFEKulyqB82\n",
       "15tacJTGO3hvGICIu+qbhSHiSEADcPdrCfnbRHK6sncHQ+TQoeVD0ehQC6l9mNBw7y0LMcbUzzQW\n",
       "E1UhZ5FAs/HceH8zSQ0OZjUzMtSuYs3oyPGfCmTDW+1jxtBwoZjcjCqcZyqzJR3lD7cFuh/SQpNt\n",
       "Sy+CIPCRrkEBZ4r7BvLm66pLCjoqDtcEGl1+y5qkah6RhkZXMZE5wcP4H/4FnH/8C/wF5hzoaFPK\n",
       "s2IAAAAASUVORK5CYII=\n",
       "\" style=\"display:inline;vertical-align:middle;\" /></a><br>"
      ],
      "text/plain": [
       "set_bcf_superset_eq_set_bc: {b, c, f} supseteq {b, c}\n",
       "set_bcdfg_superset_eq_set_bcf: {b, c, d, f, g} supseteq {b, c, f}"
      ]
     },
     "execution_count": 166,
     "metadata": {},
     "output_type": "execute_result"
    }
   ],
   "source": [
    "# define a few proper subset relations for testing\n",
    "from proveit import g\n",
    "set_bc, set_bcf, set_bcdfg = Set(b, c), Set(b, c, f), Set(b, c, d, f, g)\n",
    "set_bcf_superset_eq_set_bc, set_bcdfg_superset_eq_set_bcf = (\n",
    "        SupersetEq(set_bcf, set_bc), SupersetEq(set_bcdfg, set_bcf))"
   ]
  },
  {
   "cell_type": "markdown",
   "metadata": {},
   "source": [
    "### `SupersetEq.derive_reversed()`"
   ]
  },
  {
   "cell_type": "code",
   "execution_count": 167,
   "metadata": {},
   "outputs": [
    {
     "data": {
      "text/html": [
       "<span style=\"font-size:20px;\"> <a class=\"ProveItLink\" href=\"../__pv_it/demonstrations/b71c2333c8375e754a347a841777490376cf73db0/proof.ipynb\" style=\"text-decoration: none\">&nbsp;&#x22A2;&nbsp;&nbsp;</a><a class=\"ProveItLink\" href=\"../__pv_it/demonstrations/95b42481e2a5070aeb99c1c932f7c10eb217e8020/expr.ipynb\"><img src=\"data:image/png;base64,iVBORw0KGgoAAAANSUhEUgAAALkAAAAVBAMAAADoXVL6AAAAMFBMVEX///+IiIi6urrc3NxERETM\n",
       "zMwQEBCqqqpUVFQiIiJ2dnYyMjLu7u5mZmaYmJgAAABN0h6tAAAAAXRSTlMAQObYZgAAAhVJREFU\n",
       "OMtjYGDgu8eAC7BePIBFFI8GDK08u/CoYUrFFMOrAV0r3wdkMeZVSwpg7Fggvo3F6Xg1gMFCqQCo\n",
       "Vq4JQII9Bypuy8D+D6ZmBhCvhHFezJw5cyoDYQ0gcFqBdwNUK0jxiRV/oBLyBQw/oUzGDCTTrRfD\n",
       "XYtfAwj4MrA4IJnOwAdTrKbA8BvKtNuBZPpmBhTTcWsAhfhnMIXFdAaERxcgmc5bgMt0dA1AwJKA\n",
       "2/STC6CRZwBSvAzC4WTAbTqqBiDg37rwEkwrxwYUxVZzoUn8IANI8XsIxwLJdPwagOD8PgbOAqjW\n",
       "sgBUpzAmQf0JVsx9Acw5gmQ6fg0g0z8w8OZAtIZMZkBVzJAGdgt7AERxpwBayBDSAAyZCQx8n6Ba\n",
       "1VCcYszA4A+OwVMMELc3QMJaAGEYfg0gp2xg4PsH1crhgKz4/wGo4oq7d79dhIc7w3akcMerAaQg\n",
       "Aez295hJIIWBYT6s5MpApBmGE00HsKcZdA2gAuwPA28CVCtYMSNQ8XlQWngHSr5gFlgjoiSI8kQp\n",
       "CXBo4AHnrC6GYwVI6Z237fc9Bs45oHx294oChMWw5H8fkumo6R2nhpkgf3DdakXJTWBQw4DJwmE6\n",
       "Tg3sB1C1ciXAuAsYMFnYTMengYsBVSu8uOaBpzoEC1a+c82cCS+B8Wo4yICmFVbV8CHqB0QFk4Sl\n",
       "1sGn4QG6VnZS61V2outVAD6F3NfzM+ESAAAAAElFTkSuQmCC\n",
       "\" style=\"display:inline;vertical-align:middle;\" /></a></span>"
      ],
      "text/plain": [
       "|- {1, 3, 4} subseteq {1, 3, 4, 6}"
      ]
     },
     "execution_count": 167,
     "metadata": {},
     "output_type": "execute_result"
    }
   ],
   "source": [
    "# if A is a superset_eq of B, then B is a subset_eq of A\n",
    "set_1346.deduce_enum_subset_eq(subset=set_134)\n",
    "set_1346_superset_eq_set_134.derive_reversed()"
   ]
  },
  {
   "cell_type": "code",
   "execution_count": 168,
   "metadata": {},
   "outputs": [
    {
     "data": {
      "text/html": [
       "<span style=\"font-size:20px;\"><a class=\"ProveItLink\" href=\"../__pv_it/demonstrations/b795612fcbf5a8d3612916304a72b54efb0915eb0/expr.ipynb\"><img src=\"data:image/png;base64,iVBORw0KGgoAAAANSUhEUgAAAMsAAAAVBAMAAAAa4QdfAAAAMFBMVEX///+IiIi6urrc3NxERETM\n",
       "zMwQEBCqqqpUVFQiIiJ2dnYyMjLu7u5mZmaYmJgAAABN0h6tAAAAAXRSTlMAQObYZgAAAqpJREFU\n",
       "SMetVk1rE0EYfkx23WSzxkTIpVjIqfSgmKPeKoIXLfTgxYMgUg+9SA7iScn2JCL4gYKueKhQGuJB\n",
       "g15EjKwgXkrdVhFFUdMfoNUWKfgRnO+d7WwiBeew+zA7z/O+837MLIDiJ2xmHNuZMjlAw14K6ct7\n",
       "jM2NkQljaqBG5iRz5BvwfCrNjYOLUmXptTa/rW1upp8GY36gyL1CHp00N7bXBcg117VpRgDmgyDY\n",
       "r0+laTBmSy1ZTzOzJxQg2lU1zdDx8oE2labBmMpM5neamZYEjcS0ZgbzNQzUaCgdukRnxqNj2DPM\n",
       "2G0M1GglzBSmh2Ue7pR5IWXfV2QUvkx9FOhc+TQhHNd0HsLUcMuVBHOOZYk4FD3x1viHfXWLOzhS\n",
       "s1QUvst9jGX/8LJSowlDI3sDhxLMFfo4Q7xvhFLqFnLMJ+9UXLjZHzLSIcuzXlKvYGjkZ3A+wSyQ\n",
       "xjhyDbSyvZ+8J+QOCCDL+XCk+5Ow6ffc1dgMcyWp8TlUXwXzQok3dQcZnoitY2IBAVF1Q87tHrZQ\n",
       "+Ci24vjqYFAakxurpUAX5YhyT24jkjsgQJWx5YteX4O1mMzNUe65riH2pDFXpMVVvOjyxicvlpuo\n",
       "jotOTeyspEJAD4a40rzdB2KvlUaPrITOnJNLLmEc3i+aEh8LExEJuFUq3nQRsdDT6FFEKulyqB82\n",
       "15tacJTGO3hvGICIu+qbhSHiSEADcPdrCfnbRHK6sncHQ+TQoeVD0ehQC6l9mNBw7y0LMcbUzzQW\n",
       "E1UhZ5FAs/HceH8zSQ0OZjUzMtSuYs3oyPGfCmTDW+1jxtBwoZjcjCqcZyqzJR3lD7cFuh/SQpNt\n",
       "Sy+CIPCRrkEBZ4r7BvLm66pLCjoqDtcEGl1+y5qkah6RhkZXMZE5wcP4H/4FnH/8C/wF5hzoaFPK\n",
       "s2IAAAAASUVORK5CYII=\n",
       "\" style=\"display:inline;vertical-align:middle;\" /></a> <a class=\"ProveItLink\" href=\"../__pv_it/demonstrations/9e663537a14572e2938c74fc85f1cd77e9604f990/proof.ipynb\" style=\"text-decoration: none\">&nbsp;&#x22A2;&nbsp;&nbsp;</a><a class=\"ProveItLink\" href=\"../__pv_it/demonstrations/56114645f669258af7b15480af4123adcc63a4700/expr.ipynb\"><img src=\"data:image/png;base64,iVBORw0KGgoAAAANSUhEUgAAAMsAAAAVBAMAAAAa4QdfAAAAMFBMVEX///+IiIi6urrc3NxERETM\n",
       "zMwQEBCqqqpUVFQiIiJ2dnYyMjLu7u5mZmaYmJgAAABN0h6tAAAAAXRSTlMAQObYZgAAAsdJREFU\n",
       "SMeVVk1oE0EUfmySbpJd0+QgolDIyVPBvXqQxpuiYsDe40899CAEBPGgJAFBW6EEFGSLQgKlkh4k\n",
       "56ISRUQoIQnFHxA1PXrQ1oosaCjOz5uZ3c2kkIFsvn0z3/dm3nszswCQ+gqjWqzX0lh/9GGMhhr2\n",
       "+j5jjKvDto0ajNW4RmoH4M28ptvubQJ8HrZvwwjC7DWB2lOOz840klXyeKFhxZ96AA18SS24rptn\n",
       "kJl0BPAEWCwVfeaGdONpSJ3prHQTWXeCLB3BGIg47L4GnRs5wN9KcgiA5QRZWgKbMG3mDmjdyAFD\n",
       "vejmY8iuJVjdsL+QG6syJYJZz+SxbOe/kOcqf6mGWIqQzBzk4ES9gKbUhyfo0OwdyqFGvEnS8Nz+\n",
       "zTuOF6NNlPslyoqkpuxzcx98hMgjOMMTcwXOi002mUawAjNd1LhBZl9qcVGAZYjjnCJ/VCDsnPJi\n",
       "0m0gCYka3GXgbV8V/wwGxBzAZJFrzD5glW3/ZR0HVGoxjwvpYNBipx0/4ZtYAQHLgeIhbSIHhRZq\n",
       "HM3TXWB4oiNYNxYPVz20qSVhTpjnSBkHck5aoQ+HhUacKO+JZXTUQRItq9yA5dtud0ARcE0MqDI+\n",
       "Jc4LB84JDTrrXRpaljzyh4oTLFpYafa96UClScIeiS4b4JFauo4jLqngeUKDulkiXu1/NDdlaOc7\n",
       "rNY6Wf/6YyuBw0YSPoH9noGT8L1cY4hFj6GOEx/49037CJmbS7O19jMNicfUfiwQ5tC+kYTksy0O\n",
       "3mUuVLJcw6DRo8iorFUDZxorLXm33OI1v4+bIEExGUrmpC3alW4uitKSQqQOzPLLUW5WIUxQTIpu\n",
       "Wn1EeR75hrhvWHslLxqS/MTZproryEjXlbnZhjBBAoYebiBKDlihoYa4PeXVm6I/fjEZlzUnZC1M\n",
       "UJc2RVubiIwldvChhjnut8Dt8b8F/gNWVPG4VTFm7wAAAABJRU5ErkJggg==\n",
       "\" style=\"display:inline;vertical-align:middle;\" /></a></span>"
      ],
      "text/plain": [
       "{{b, c, d, f, g} supseteq {b, c, f}} |- {b, c, f} subseteq {b, c, d, f, g}"
      ]
     },
     "execution_count": 168,
     "metadata": {},
     "output_type": "execute_result"
    }
   ],
   "source": [
    "set_bcdfg_superset_eq_set_bcf.derive_reversed(assumptions=[set_bcdfg_superset_eq_set_bcf])"
   ]
  },
  {
   "cell_type": "markdown",
   "metadata": {},
   "source": [
    "### `SupersetEq.conclude()`"
   ]
  },
  {
   "cell_type": "code",
   "execution_count": 169,
   "metadata": {},
   "outputs": [
    {
     "data": {
      "text/html": [
       "<span style=\"font-size:20px;\"> <a class=\"ProveItLink\" href=\"../__pv_it/demonstrations/77fc1e15570d61933dca6dda23460ad8b0d58c270/proof.ipynb\" style=\"text-decoration: none\">&nbsp;&#x22A2;&nbsp;&nbsp;</a><a class=\"ProveItLink\" href=\"../__pv_it/demonstrations/4ca3f64bc3783086e47e53061ce3b021a271667f0/expr.ipynb\"><img src=\"data:image/png;base64,iVBORw0KGgoAAAANSUhEUgAAAJIAAAAVBAMAAABf4KrdAAAAMFBMVEX///+IiIi6urrc3NxERETM\n",
       "zMwQEBCqqqpUVFQiIiJ2dnYyMjLu7u5mZmaYmJgAAABN0h6tAAAAAXRSTlMAQObYZgAAAcBJREFU\n",
       "OMuVlL1LA0EQxZ9Kckk8QyorIanSCYKdICj+AUlhYyGIiJ2YxlQWqQVR0eZAMYUQsAraiBBISgmo\n",
       "iIVNNGApqKUiqNnZvb2duzXgFcsy895vv+YGQPoRf36LY5Zg1CBl7iX6fPliJGQzkCz9boaGTk9K\n",
       "/jx2C4zUo1uyGEiW2hWBclMmpuF8+6Jkxc+i7XnerArbDBQTg7u1oxLZEj590mhAEt/1WUAKGzQJ\n",
       "eFOJfA5f/r5fOAntCWNP3GAhIThdajhEitUtJPDTmYmrqpo8E2nJuN1zK0kYSJaos8TUkZq5GUFi\n",
       "D1Wj0WYgWbnIlxhYVoeDIKFhkO5otBp6svl98ARW5XRDkhJ7AYk2YzcIWZ4tMQkUqDTdqiRdBCCn\n",
       "YpR9yCBkiRkz8dNUJGe787SWYfe0IDU2A8n4U6wAx/6+4+zt3PE5WN5OGkgmE9kmXFGSr6I8bmTh\n",
       "xGfMv+Wgxv4WZjDq6WG90YXXW2awc59D8pAchY8uq0yTxA1mZdLV6OfY5DYLKWSQJH0TKS2u9iVZ\n",
       "DCQLXqelLzejJao/ia7ieZVQf2qFZLoFdnUvM5phLtogowYlc/7bxx1rH/8FOIO5FILulWEAAAAA\n",
       "SUVORK5CYII=\n",
       "\" style=\"display:inline;vertical-align:middle;\" /></a></span>"
      ],
      "text/plain": [
       "|- {1, 3, 4} supseteq {1, 3}"
      ]
     },
     "execution_count": 169,
     "metadata": {},
     "output_type": "execute_result"
    }
   ],
   "source": [
    "set_134.deduce_enum_subset_eq(subset = set_13)\n",
    "set_134_superset_eq_set_13.conclude()"
   ]
  },
  {
   "cell_type": "code",
   "execution_count": 170,
   "metadata": {},
   "outputs": [
    {
     "data": {
      "text/html": [
       "<span style=\"font-size:20px;\"><a class=\"ProveItLink\" href=\"../__pv_it/demonstrations/434f35ac161eed6b65064c7893ef82dd8d957f2d0/expr.ipynb\"><img src=\"data:image/png;base64,iVBORw0KGgoAAAANSUhEUgAAAI8AAAAVBAMAAACNsKCFAAAAMFBMVEX///+IiIi6urrc3NxERETM\n",
       "zMwQEBCqqqpUVFQiIiJ2dnYyMjLu7u5mZmaYmJgAAABN0h6tAAAAAXRSTlMAQObYZgAAAjRJREFU\n",
       "OMuNVD1oFEEU/jijd87N5faKNGIglW1SRixMJUoIXJFKCERJChvZSiyEi2mCFhJRkRUDJ0IgKULA\n",
       "IkEMrBIkEI5LEH8goJvOSi9JEdAQfPN3M3uzqK+YffPm22/fvu/NA9D9FWkbOwvfPJS1k9uxePDX\n",
       "3sm5qhfKQFnLTcpPtQh2adY9KC37CRFq/UYGSaN3ANgRHhMcxS33kBna71EUPbGhtQyi+7UQWGhD\n",
       "ymEW0YWX6dChz8P338El6o+ziF6lQ7kjnyjfQopoARlEpTAdYrM+kYpZotXKZ33yolIFG5fu6Y4X\n",
       "ind7NTWr9GgNPs2J6s4Lv0AS8d9xc0CenA+7lqVEZIMOkUA13/ADuTnxFMM6Xg7E+lMst6hp8kc6\n",
       "gmcohEaedYdIoGox9lSqdczo+EXZckL00UeqcZp1WRZVz8LDjl+TqB3wX3L3zUpTU497gWpjYuyX\n",
       "v39qSMZXVSWCdLOvIacaYMLGlUrFKfF1erec6K+ovHSNsOLUiFDHOmGdl7TLaNdI6FHu4zdV7RIg\n",
       "NKphYzp2VdvH+0RujqmqOn5NrvMGUki6ttAkYUpTaFRtw1y94l6RBxghfWnzBfyjdKixkeojvr1E\n",
       "tX1Ou8UfQWbniVDjDCUUUZJsaVc5yLXSRMrueJc24x7nY9dhQw7RuAHX/0ZkUAyOc7uYWCIjEXjQ\n",
       "MY9YFLXHSBv1Fo7zeFP5ch7BzL5u2zR9/u00qASOs/tBTcjr6mf/a2bn/zGz/wDsiqRd/cSObQAA\n",
       "AABJRU5ErkJggg==\n",
       "\" style=\"display:inline;vertical-align:middle;\" /></a> <a class=\"ProveItLink\" href=\"../__pv_it/demonstrations/7d436c273694fffd7c67b9c706fb8ec5927aabd60/proof.ipynb\" style=\"text-decoration: none\">&nbsp;&#x22A2;&nbsp;&nbsp;</a><a class=\"ProveItLink\" href=\"../__pv_it/demonstrations/8f892635517f67c0bdfe25e79dab25db1d7641f70/expr.ipynb\"><img src=\"data:image/png;base64,iVBORw0KGgoAAAANSUhEUgAAAI8AAAAVBAMAAACNsKCFAAAAMFBMVEX///+IiIi6urrc3NxERETM\n",
       "zMwQEBCqqqpUVFQiIiJ2dnYyMjLu7u5mZmaYmJgAAABN0h6tAAAAAXRSTlMAQObYZgAAAi9JREFU\n",
       "OMtjYGDgu8eAC7BePIBF9O0DrKp4djHgBkypmGKnF2BXxfcBaJjbBEwNPBcvMzDcxhR/D8RHMlGE\n",
       "wKq4QGZwX8DUwLH8OwPDSoiZO2fOnCIAFQcL7UVRuhJuEH8BpkHndRRgBoENe62ApOs7DoP0sQRq\n",
       "PVwJ1KTNCF1Mf3AYtBJLQK9EM4ghGiHONQGHQTsEr0PFFgoGQCM58y6QXIaknNsArou7URYaGFyC\n",
       "olBVHBuArv594DxElWUBywaovo+wKIIBLojeblD47eH5DOYwT2fwhqoqA7qA/Q8DPyRSZjFwQK1i\n",
       "/sqAFp284NBmByWa+gMQexg4FzC0Q1SFTAYp2cBwHpzMeBGByP4BTHUKILwGTsaeBuCEw/MLLHb/\n",
       "AFyVWgDYRH2wQ9gcEB4Bhyd3A8JFFYhkvJeBCZIAUhjgqjiAevkfQI0+j0j+LA1oYcQ6B0K3APE/\n",
       "qNuh7noPs5lfgScPLAI0kQEaRmxgPyFi7dAVA0Rcf2I4Bsm5/4BhAFUFMojjAcsFhvPA6OJtYDgb\n",
       "cB4cb+cVEOkIlEW8CpASTR+DLzCqgYwbDDxXkdIRz8V1wAgAOX3VOwEIg0GfgQF7SgUJnZUCOmgm\n",
       "MDS41j1ESZBgUIPCWILPIEi8HkBN2Qkw7gIkBnvDPlwGwYONC9Vsvg+wTCmAxOD02YAoacBhNHPm\n",
       "DER5BAYHUcsjBlgJyceAxOCTBccRUxKmi7hhLoeXuFBV7KSW2bXYymwAUtSmtoT2IBgAAAAASUVO\n",
       "RK5CYII=\n",
       "\" style=\"display:inline;vertical-align:middle;\" /></a></span>"
      ],
      "text/plain": [
       "{{b, c} subseteq {b, c, f}} |- {b, c, f} supseteq {b, c}"
      ]
     },
     "execution_count": 170,
     "metadata": {},
     "output_type": "execute_result"
    }
   ],
   "source": [
    "set_bcf_superset_eq_set_bc.conclude(assumptions=[SubsetEq(set_bc, set_bcf)])"
   ]
  },
  {
   "cell_type": "markdown",
   "metadata": {},
   "source": [
    "### `SupersetEq.conclude_via_equality()`"
   ]
  },
  {
   "cell_type": "code",
   "execution_count": 171,
   "metadata": {},
   "outputs": [
    {
     "data": {
      "text/html": [
       "<span style=\"font-size:20px;\"> <a class=\"ProveItLink\" href=\"../__pv_it/demonstrations/717ca17cf54513200500e369a1e1b3ccc79660920/proof.ipynb\" style=\"text-decoration: none\">&nbsp;&#x22A2;&nbsp;&nbsp;</a><a class=\"ProveItLink\" href=\"../__pv_it/demonstrations/547644a1158f84d3f8188004a6d91e6a6ab71f570/expr.ipynb\"><img src=\"data:image/png;base64,iVBORw0KGgoAAAANSUhEUgAAAD0AAAARBAMAAACcIrmXAAAAMFBMVEX///92dnYyMjKqqqoiIiLu\n",
       "7u7c3NyIiIjMzMwQEBC6urpERERmZmZUVFSYmJgAAADEjrHzAAAAAXRSTlMAQObYZgAAAP5JREFU\n",
       "KM9jYGB4+//O2d0LGNAA3/2/Z27vAjNnMzDw/AAxglxcXLbDFHBuYGA43wBkcPxjYOD6AxOO04Iy\n",
       "+h8wMKw/AGSwfwOa9h1ucFAChK4H0u8LgAzuCQwMka5weQ4FCL2TgYF1SgCQwX+BgcM3AOEyNQj1\n",
       "l4Gh5SrYonvPtxgguVwYYszfd9XOMItY5yLJnwKTIFdFXoBaxFCPZADEfpCr2D9DLWKoL4BLM4M1\n",
       "gVzFwP4d6n2G+4jwawmAe5/3F9Qijt8wWdY12xDe7wcGIQMT0KKVWxmg4estDFWoCQzU2UCjePWB\n",
       "8bAZPXYYLoEizYCBugAUvy4uF5CFAGQxTE0qJmgSAAAAAElFTkSuQmCC\n",
       "\" style=\"display:inline;vertical-align:middle;\" /></a></span>"
      ],
      "text/plain": [
       "|- B supseteq B"
      ]
     },
     "execution_count": 171,
     "metadata": {},
     "output_type": "execute_result"
    }
   ],
   "source": [
    "SupersetEq(B, B).conclude_via_equality()"
   ]
  },
  {
   "cell_type": "code",
   "execution_count": 172,
   "metadata": {},
   "outputs": [
    {
     "data": {
      "text/html": [
       "<span style=\"font-size:20px;\"> <a class=\"ProveItLink\" href=\"../__pv_it/demonstrations/f8220fb63b71d013d0f290c2a7399383fad81cc90/proof.ipynb\" style=\"text-decoration: none\">&nbsp;&#x22A2;&nbsp;&nbsp;</a><a class=\"ProveItLink\" href=\"../__pv_it/demonstrations/e720edbb9f05cde750a8c224457f733f3c197f300/expr.ipynb\"><img src=\"data:image/png;base64,iVBORw0KGgoAAAANSUhEUgAAAKQAAAAVBAMAAAA6DViiAAAAMFBMVEX///+IiIi6urrc3NxERETM\n",
       "zMwQEBCqqqpUVFQiIiJ2dnYyMjLu7u5mZmaYmJgAAABN0h6tAAAAAXRSTlMAQObYZgAAAr1JREFU\n",
       "OMuVVUtoE1EUPU3SfGYmnyrdiIWssk3AjS6EClpQEAt2pYjiD1woAUFcWJqCm1KwEV0kRTBuCi34\n",
       "ATdVDJ2KSEFKUigoajVbEbFWpFiD8b7/JGkCvsW8mfvuPe/ec897AyD2CZ1G74q7jfVbrWPAqd3s\n",
       "6TxH5+G70G57U+oSkBqmR2wdeHVJWpy1g8N6eeQy8KE96ju5DeXlx/LqIVPTUBXRJ/RisdWytC7B\n",
       "2jDBm8Cs2OlZsXg3Ia3MZFdlCjk8Tmr/eFag8cemNH4ELpqq6wqSR39NGkgK5iPqInhGu6RdA8mC\n",
       "+SACpjLKg60YSDhPDWRati2YR/in9piFgbQUNQsupjSZrDoPJE4aSGW26wj/0g5lD6Q9PpBV9vsy\n",
       "gf0PTpNtxgNpZzTkfN9bZY3ICv3v+4k+i9EQph5VXjgqfd+WnM/hmMvbq4cltp0kDv64FcVPWmoq\n",
       "lQnUhX5wjQodc/FDbZoT8+saF5BqLe8F70+IpBqqI64EUJBMXxECouJH7oCpz5HJYU3On11Ms3ki\n",
       "YQrn4jtM6VFwRSYXlXtG64gwU/i20HsZPimjHpXVeThMoXbOZHldHyjKPS3JH5CLwUFUWBXzDHYQ\n",
       "+Ms24WMUfk4SZR1aRxOXvffEfJNkWWNVcBqq2MNfKOsxeRZ5xzcYdTyshB4BuUl9u+rt+MvVjBZR\n",
       "PEnU8XEC2Ckgs5gMZUTHGeQtHKUu0se+uYcTqDCaD+BLruQ9kEeyRtDhWqDK3fzTc+/yPDKQiBUs\n",
       "jy6Xd1GSRSplodH4jQircKnv+HiyWeoG0ll5BO5mNxqNPI90xvv37vBAClr03XijKX4byBY3Eykh\n",
       "1bG3tL3UFXKmzc1CMyTvERuL+n4wUpT3JeOyWCzo+7LFbdFzHFgfoG51ff3HPLf62fYs7VKrm+fH\n",
       "kRIn7H//PaPd/z3/AOR10SaYIfLYAAAAAElFTkSuQmCC\n",
       "\" style=\"display:inline;vertical-align:middle;\" /></a></span>"
      ],
      "text/plain": [
       "|- {b, 2, d} supseteq {b, 2, d}"
      ]
     },
     "execution_count": 172,
     "metadata": {},
     "output_type": "execute_result"
    }
   ],
   "source": [
    "SupersetEq(Set(b, two, d), Set(b, two, d)).conclude_via_equality()"
   ]
  },
  {
   "cell_type": "markdown",
   "metadata": {},
   "source": [
    "### `SupersetEq.unfold()`"
   ]
  },
  {
   "cell_type": "code",
   "execution_count": 173,
   "metadata": {},
   "outputs": [
    {
     "data": {
      "text/html": [
       "<span style=\"font-size:20px;\"> <a class=\"ProveItLink\" href=\"../__pv_it/demonstrations/6a36302d0b148b5501dd89d456d83dadc04010580/proof.ipynb\" style=\"text-decoration: none\">&nbsp;&#x22A2;&nbsp;&nbsp;</a><a class=\"ProveItLink\" href=\"../__pv_it/demonstrations/b1b26004fb109f49b158cd2beae594215e682e1b0/expr.ipynb\"><img src=\"data:image/png;base64,iVBORw0KGgoAAAANSUhEUgAAAO0AAAAXBAMAAAAVatXDAAAAMFBMVEX///8QEBCIiIhmZma6urrM\n",
       "zMxUVFQiIiJERETc3Nzu7u6qqqp2dnaYmJgyMjIAAAAcRTyBAAAAAXRSTlMAQObYZgAAA4JJREFU\n",
       "SMe1lk1oE0EUx1+bbDbJbtKIClovUaGHUmixfh1aTfHgRTBV0B4KfhYvRYoeilZooIKpIg1WsILi\n",
       "pkIqReyKiFSkxBSqVA85eLAHNQgeLFYKStWI1Tdf+5FuaiN1YHfe7O7Mb968/5tZgOUqgcYlfCRt\n",
       "0v4Z4Ms6PfV/WlJn92q8jeKVI603pXDvOLs7a5vby+e64WMdNzI1UYAdaHgSAC/Ik+lSuB8dn6od\n",
       "eFMqeasflF/ijXyY1fciLnTyGVkbrAfI7GKlxLGuKDc1keetWh2+iTfrObcHvDHGhQxAEAOt6iVw\n",
       "5YS19bqzM2f6GxDcpgjMiyV/y7juH7Si3CR+Ojk8fK2UZbZ93FJtW2eDC+Y6q0HG9YZMbjAC8D0e\n",
       "P1cKdyNeg1VXa8IkUNNQjDuU5sYU51Z8yGzG6in9GGPVBtBrG7gV86SFCXAry7YY7DMjcRlx6cAp\n",
       "OceFyYsnZ+PeOM0T1R/m3JEZkHGUd1Qj+PEuKi9LCqAm928jlivrooJTMEXajfddOF1NzbsJ0mt2\n",
       "ux+1+1u+iq8DCO4suHDoIJGlgosjQ7nYCPxP6rOgkFnsptw0S8q7eB8zBsTx/FSZWJo/Y6GzbjkD\n",
       "di6sYA4/FNyKDgh8xfoEBkjCEdWsbIhzdBgsXCTT4asLuThImNoDJqbJ5u91gD4aGn9acDEwAdQa\n",
       "bRGuL3eAhHJLVdRNM9PKTZLBJN3G7SK3Q1Fql5lcT8zK/a1xrnKsfudKOklPiPpL4+smIuw9jtHQ\n",
       "TsqRIBRwy9+zCNm4qCtFq8UeZD3CRfS8BqBbnABlzF8pD64Q1zPRFTzAHhLMANxmE08XrPMU4SYN\n",
       "5Y4D7NX74KbpvMktR+5Ijm74mL8jTK9lMWa1Q1Ln+etKG7HC3eRgPB4PSz1gcn0/SSIQrmTkOL5K\n",
       "bRhsZFpMndcsXNeR+UaQz5KFrN8eYRaofXNZaqkNbca+QcWg0UhL4CnwNxn1oRCUhvEvWYu/9n1y\n",
       "zwXrPknLY1jMotwh0bql5lRQo0Z8H6FWNTkRqPRdRK/z1vgWOxdCwkrDYpY4F1hJvcpMAlwS3P7u\n",
       "o9CsS5mJhLQO02tOt3ALdrcF56/f0JqTRc9f+0aFssD4Mn9JYVujwhpjfzv3QfxvBMypOFhukv7e\n",
       "hEN/wVXYy9EFXOf/HFCW/n815fijtNY2Rw5ph/9erjj406ovM+QPDnUCTQaw9XcAAAAASUVORK5C\n",
       "YII=\n",
       "\" style=\"display:inline;vertical-align:middle;\" /></a></span>"
      ],
      "text/plain": [
       "|- forall_{x in {1, 3, 4}} (x in {1, 3, 4, 6})"
      ]
     },
     "execution_count": 173,
     "metadata": {},
     "output_type": "execute_result"
    }
   ],
   "source": [
    "SupersetEq(set_1346, set_134).unfold()"
   ]
  },
  {
   "cell_type": "code",
   "execution_count": 174,
   "metadata": {},
   "outputs": [
    {
     "data": {
      "text/html": [
       "<span style=\"font-size:20px;\"> <a class=\"ProveItLink\" href=\"../__pv_it/demonstrations/96ba51e3cead51cef21238afe6ee02e3ce97bfc10/proof.ipynb\" style=\"text-decoration: none\">&nbsp;&#x22A2;&nbsp;&nbsp;</a><a class=\"ProveItLink\" href=\"../__pv_it/demonstrations/4b5422e641fa2f34a320c6106246559616ca3bb30/expr.ipynb\"><img src=\"data:image/png;base64,iVBORw0KGgoAAAANSUhEUgAAAOoAAAAXBAMAAAD3ts66AAAAMFBMVEX///8QEBCIiIhmZma6urrM\n",
       "zMxUVFQiIiJERETc3Nzu7u6qqqp2dnaYmJgyMjIAAAAcRTyBAAAAAXRSTlMAQObYZgAAA1hJREFU\n",
       "SMe1lk9IFFEcx7/7Z/bP/Fk91CGlGNYysMuiVIeUtA5RUG4Edgk0KdAOIkFFIrHZobUuQ4f0Eg0I\n",
       "HSTcJQ+hBG0GFWq0UFAE1kLlISiWoKgNpPfe/J/ZTTdsYHd+7zdv3uf9/r4B1ut6mV99zrGmf17+\n",
       "VlntVG4t73YkAUEBCnSwVAWUT5VVv68w+/KgfRiguH5ggQ4+V0GNKWXVT51Doc6YnrCrRbqHKWCc\n",
       "3KKpauKHNVDvPCnpUk3WQxVlxFRyy1ZBvWgfSFcvXCprq2RQO1UPla+FND85OVYFNGqPEzeiVvCw\n",
       "SXXqGRUfgZ/p9HAVVD+JEx/v3zfHEld1eDja2lznpi7H9+jSXDwJsZZKj4HTwKhj3RNm4XEs3kcK\n",
       "4HaYTyPk6V28lplj+623BmhdKLGii8qvqBkt/caykQIk9vwdsB98weHCOhPawvwhEutCZjWGSQ7M\n",
       "44V6kA6sLBQ2EsJmBFIuqlBCjcykYYTIqx+oeJ8sA79hHP+gJQ/B2kOQUWNksqX0tQMq0tq2tnwl\n",
       "F5OuEoMCJYRlF5UUaIbtOKApQmfJXzcxJR82VnwzMwkvtUZxU4FvmlssW4PEVl8KmaSLSsq1k1WI\n",
       "T5u7DI0aLXTRUO9sTAZZQVPAROMni9odP2OjUg+D+64Naq3A9IEa9dCdwzV57GUpp1msxfUA+Y2e\n",
       "IpmpDoTbY9Cp/DmuZFG3qw02Ks2mWX8RrI83O7pEJosBQXFR20m0dTyyeg6TbMI0WZvDF2Kh5vkc\n",
       "Aglu0KKOkFn8JrPiEgj+jhSjedNwkxqRpfMiMmyDfkKlUigfSTAh0IOJpF6vrXQXLAN+AcfT6bTM\n",
       "XSExyPp7LOoG7CLPclas+d6mBu284PsO2ah877abWxEeorlzcqWNSXzzc2iqxSXZ6BI0fBL1O1fk\n",
       "EDJszSiRt6pJLaHeZquzIwafeTvirFeadXZEo73dFgsixKQeV5/SfRjjKoRBRK9hSErZE7tC939k\n",
       "SjmvlHN3f/2MeDU3D1zXqcHee204mo3u/iFz9ehadJRTRPn7+crLHslSsfN1ytVjSVwtgJYpgpHY\n",
       "q5zqMcMeyToBPAI6aLWPlnndAOg1MOOmVviCwfRav5ukcs4yEkffYN5Isf983fBumltYX8QfCwjw\n",
       "Lu+ejGQAAAAASUVORK5CYII=\n",
       "\" style=\"display:inline;vertical-align:middle;\" /></a></span>"
      ],
      "text/plain": [
       "|- forall_{x in {a, 1, b}} (x in {a, 1, b, c})"
      ]
     },
     "execution_count": 174,
     "metadata": {},
     "output_type": "execute_result"
    }
   ],
   "source": [
    "# Works, but often have to explicitly pre-establish that\n",
    "# the superset_eq relationship is actually true\n",
    "a1b_subset_eq_a1bc = Set(a, one, b, c).deduce_enum_subset_eq(subset=Set(a, one, b))\n",
    "# a1b_subset_eq_a1bc.derive_reversed()\n",
    "SupersetEq(Set(a, one, b, c), Set(a, one, b)).unfold()"
   ]
  },
  {
   "cell_type": "markdown",
   "metadata": {},
   "source": [
    "### `SupersetEq.derive_superset_membership()`"
   ]
  },
  {
   "cell_type": "code",
   "execution_count": 175,
   "metadata": {},
   "outputs": [
    {
     "data": {
      "text/html": [
       "<span style=\"font-size:20px;\"> <a class=\"ProveItLink\" href=\"../__pv_it/demonstrations/44104d8af855a46280168f7f3eef6a9462d924930/proof.ipynb\" style=\"text-decoration: none\">&nbsp;&#x22A2;&nbsp;&nbsp;</a><a class=\"ProveItLink\" href=\"../__pv_it/demonstrations/556eb1c098b3e48db8ffaca7130e1c7ef85d918d0/expr.ipynb\"><img src=\"data:image/png;base64,iVBORw0KGgoAAAANSUhEUgAAAI8AAAAVBAMAAACNsKCFAAAAMFBMVEX///+YmJiqqqqIiIgyMjLc\n",
       "3NwiIiIQEBC6urp2dnZUVFTMzMxERERmZmbu7u4AAADrYmUNAAAAAXRSTlMAQObYZgAAAhVJREFU\n",
       "OMudlD9II0EUxr8kGk10k4CFjaCdIJzaXXesYKOFro0gKIYDA2dxXqXHKXd2YiGkyqGcoAhams5G\n",
       "QSzEQiQhdseGBauzUcQ/Z5P45u9ms2uhDzL5dvLNL2/emx0gIEJFvCVaSk7wD4khvC2aF9kq+zxf\n",
       "n9CtB6sNE+snevZIfg84R13AJalrxP7XgWJpGsI/5ZM2NBbQl1KeWfn9q/pMY44+ZWAhAHS9UZFP\n",
       "2hC5QzItJyM/pBjasSRoHti3+FxHJmO6GYUUSBuavyNpysmxYSm2+MhAow72eQ0OP3m2pkHaQKG3\n",
       "lvWDKOZY9xIjCAYpA/N8Ue2wFGi77S+Nv0XzWLkQt/S6uOkFCQNVO1eWM1dQoAtMLwOdXEd5eq1u\n",
       "At15L0gYWHxcljvTIFpI+TcUmLL588EgBa/l4Qy8IFurJnEmwvkakPFAw24/dZLTMOlmtOLNSBrQ\n",
       "aKH1jqt/UCCqAjtlDSznD8xBf+aC4scekDQgWVGgHtt+KokUTRgVUaOWLCLMZ/S/0jVlQNMxopou\n",
       "D6RBFTRF18bXN3f53GcvKEJrbkxlYCqUonOUuBeeJXBFr027JQ9ktfoo3qkzpwZk7N0XEf2qDFyt\n",
       "2WdAhrv+VLeFmtoouwdSxupp7SvCoxc+FXb8qg7kbu2bUln4VAx+9RpI30cJ3QBXXcGv+H0UFOqG\n",
       "DLlsrVIBiu6F4Ai/485+AaCGnXrUYaUgAAAAAElFTkSuQmCC\n",
       "\" style=\"display:inline;vertical-align:middle;\" /></a></span>"
      ],
      "text/plain": [
       "|- 2 in {1, 2, 3, 4, 5}"
      ]
     },
     "execution_count": 175,
     "metadata": {},
     "output_type": "execute_result"
    }
   ],
   "source": [
    "# given a known superset_eq relationship, and an element in the\n",
    "# subset, derive the element as being in the superset\n",
    "SupersetEq(set_12345, set_123).derive_superset_membership(two)"
   ]
  },
  {
   "cell_type": "code",
   "execution_count": 176,
   "metadata": {},
   "outputs": [
    {
     "data": {
      "text/html": [
       "<span style=\"font-size:20px;\"> <a class=\"ProveItLink\" href=\"../__pv_it/demonstrations/369c1aa8dd41bf202be923925f63442a46adc3a70/proof.ipynb\" style=\"text-decoration: none\">&nbsp;&#x22A2;&nbsp;&nbsp;</a><a class=\"ProveItLink\" href=\"../__pv_it/demonstrations/f74b9e6ca0da3c17e1d8da31606fbb44c20e7c4b0/expr.ipynb\"><img src=\"data:image/png;base64,iVBORw0KGgoAAAANSUhEUgAAAHoAAAAVBAMAAAB71edYAAAAMFBMVEX///9UVFSqqqrMzMwiIiJE\n",
       "RESYmJgyMjK6urru7u4QEBCIiIh2dnZmZmbc3NwAAABRgo0vAAAAAXRSTlMAQObYZgAAAZdJREFU\n",
       "OMtjYMAGchMYCALbnTgkph9gIAJ0GWAXz8cuzBnlgMzlLcCu7Agql2kllMF+AVmYx4EY3RMP/oSy\n",
       "+BVw62YLcXHHajcbTHf/BJy6maMn4HA5XDeqOFg3353bYH9Nn4Dicpgwsu7C3ZegrNO7DRh4FoAC\n",
       "/gH7B5CAHMJUcSRhJN2c3yfMfwBmPVFgLWBgA8pzLmPgDQCJBCDCeDGSMJJupp8M/BvALB8GRmAA\n",
       "1gJj7ScDC0iIeXk5EIADIOQBQhhZNzCC54PTES9EgNGbgSuAYT4o0fAh7OYA2g0TRtYNjO5+cJxx\n",
       "QdQWMoBM0wezFyD8LYokjKSbP4HhPjhoIS4A+Xu+AoM4EygsbqOkFrgwsu4GYGhAjWFQAIc56wY2\n",
       "Rx6QEIsCsm6I8HxwUuYG6gaxGBNYL4AZvAIMcw3A8c0pvfnhDnB8iHYi6YYIs3iCwkjq+zUwi/P2\n",
       "MQaI0Jm0DegpleMoZkrVxGRpEsolp+CsA5isA4R0w/M35wYMFkIIV/5mh5nPhsgpGAyGrgYchY4u\n",
       "keUaALwFeHoDRdoQAAAAAElFTkSuQmCC\n",
       "\" style=\"display:inline;vertical-align:middle;\" /></a></span>"
      ],
      "text/plain": [
       "|- a in {a, 1, b, c}"
      ]
     },
     "execution_count": 176,
     "metadata": {},
     "output_type": "execute_result"
    }
   ],
   "source": [
    "SupersetEq(Set(a, one, b, c), Set(a, one, b)).derive_superset_membership(a)"
   ]
  },
  {
   "cell_type": "code",
   "execution_count": 177,
   "metadata": {},
   "outputs": [
    {
     "data": {
      "text/html": [
       "<span style=\"font-size:20px;\"><a class=\"ProveItLink\" href=\"../__pv_it/demonstrations/43831c258d1382a55342f3025ea6f9eac4c5b6b20/expr.ipynb\"><img src=\"data:image/png;base64,iVBORw0KGgoAAAANSUhEUgAAAGcAAAAVBAMAAACphe0AAAAAMFBMVEX///8yMjJERETMzMwQEBCY\n",
       "mJgiIiK6urqqqqp2dnZUVFTc3NyIiIhmZmbu7u4AAADOOTK3AAAAAXRSTlMAQObYZgAAAZRJREFU\n",
       "OMtjYMAGWK8y4ADMdx7gkOGTZMAJ2J0h9NuzG9As+oDMe+SGInkRQq3sb0DVxJmAwpVF4U2DOOb7\n",
       "cwa8mn5g0cQBc0xQWpoAFk3s/7BogikxOofdJjR7wZpYr+ReALtSDlXZ3rlHIKHLuOYs1M+cZw4z\n",
       "MEwBM/kPgCkuRBByAV3J7s0gD+G9l+P7DWZwZzAoMjDEg9n7DcAUE8IFLUCRJwEMlyC8/gcMf8AM\n",
       "tgkMK4AWg93VD5EzEQQCcEAYZQOJ+w8YcmARw/cTzLgPce6yA/DgYNiEsKkEaJMTA99nWDSxQwLd\n",
       "CeLFBSBSCyLHgtDEpQAyHBYVXxl4wYEOtQ/iJx+IHO8B5NDj+wEMjm4w7zvIfxDdDBzQ0OP7DlWa\n",
       "gRLkOgxhCybwfQTyljLoMoAZtxj4LkN9ww5LEK/UHyBpenXGek0BQxpQ6O1JoEUgBufUGFgQcCrA\n",
       "LKhUw0hGHA/QGWBNXYwBGHmG0wHOwmCANSU9xJJx4fnpDQYDnJ9ibmPJnvCcG4DBYHfHlac58JcR\n",
       "AIEKbJN49n53AAAAAElFTkSuQmCC\n",
       "\" style=\"display:inline;vertical-align:middle;\" /></a> <a class=\"ProveItLink\" href=\"../__pv_it/demonstrations/f1394cb7f65bf300637a5001143d5cc9ade760db0/proof.ipynb\" style=\"text-decoration: none\">&nbsp;&#x22A2;&nbsp;&nbsp;</a><a class=\"ProveItLink\" href=\"../__pv_it/demonstrations/3f56f65121096bf98813dc294768d9ace130ca0a0/expr.ipynb\"><img src=\"data:image/png;base64,iVBORw0KGgoAAAANSUhEUgAAAHsAAAAVBAMAAACUF4xmAAAAMFBMVEX///8yMjJERETMzMwQEBCY\n",
       "mJgiIiK6urqqqqp2dnZUVFTc3NyIiIhmZmbu7u4AAADOOTK3AAAAAXRSTlMAQObYZgAAAc5JREFU\n",
       "OMtjYMAGWK8yEATMdx7gkOGTZCACsDtD6LdnN6BZ/gGZ98gNi14jXwaGixDmyv4GVDnOBBSuLDa7\n",
       "fzAwTIM49ftzBrzaf2Bz+T+Ydg6YU4PS0gSwaAepxAAgJdNQFBudw247mlsggPECVDvrldwLYD/I\n",
       "oWrYO/cIJGYY15yFhg3nmcMQxt459kChKWA2/wEwxYUIfi6gH9i9GeQhvPdyfL/BDO4MBkWId7wZ\n",
       "9IFGx4M5+w3AFBPCZS1AkScBDJcgvP4HDH/ADLYJDCvADKDcRagHgNIQVSaCQAAOOqNsIHH/AUMO\n",
       "ROIiA99PMOM+LJkBGZkgehnI3ZAAZNiEsL0EaLsTA99nWLSzQ6LOCSYPlPsOsn0BiKMFEWNBaOdS\n",
       "AFkIi9CvDLzgqIO6gQEuB/G7D0SQ9wByyPP9AAZgN5j3HeRXiDkMHGDtULkpkEQH1ZSBEnE6DGEL\n",
       "JvB9BPKWMugygBm3GPgugxlgOaiv2WGJ7pX6AyTtr85YrylgSAMKvT0JtBzE4JwaA2FA5CDaORVg\n",
       "llaqYSRajgc4GRDtXYwBmAnaAc7CzYBoT3qIpbCB5/c3uBmQ/B5zG0uGgJc2AbgZDOzuuMohDmLL\n",
       "OgCYO4YR/IJSygAAAABJRU5ErkJggg==\n",
       "\" style=\"display:inline;vertical-align:middle;\" /></a></span>"
      ],
      "text/plain": [
       "{f in {a, b, c}} |- f in {a, b, c, d}"
      ]
     },
     "execution_count": 177,
     "metadata": {},
     "output_type": "execute_result"
    }
   ],
   "source": [
    "# and this works more generally, where we can assume an elem in the subset\n",
    "from proveit import f\n",
    "Set(a, b, c, d).deduce_enum_subset_eq(subset=set_abc)\n",
    "SupersetEq(Set(a, b, c, d), Set(a, b, c)).derive_superset_membership(f, assumptions=[InSet(f, set_abc)])"
   ]
  },
  {
   "cell_type": "markdown",
   "metadata": {},
   "source": [
    "### `SupersetEq.derive_subset_nonmembership()`"
   ]
  },
  {
   "cell_type": "code",
   "execution_count": 178,
   "metadata": {},
   "outputs": [
    {
     "data": {
      "text/html": [
       "<span style=\"font-size:20px;\"> <a class=\"ProveItLink\" href=\"../__pv_it/demonstrations/2c7f84191961219c0e247a8cc74eb889a2ae1dde0/proof.ipynb\" style=\"text-decoration: none\">&nbsp;&#x22A2;&nbsp;&nbsp;</a><a class=\"ProveItLink\" href=\"../__pv_it/demonstrations/c979f7cf91ac0f593f41a8fc96386c60e74370360/expr.ipynb\"><img src=\"data:image/png;base64,iVBORw0KGgoAAAANSUhEUgAAAGgAAAAVCAMAAACdfluMAAAAQlBMVEX///9jY2MJCQkNDQ0rKysP\n",
       "Dw8WFhZUVFSqqqoiIiKYmJgQEBDc3NxERERmZma6uroyMjLu7u7MzMyIiIh2dnYAAABc0KJCAAAA\n",
       "AXRSTlMAQObYZgAAAcNJREFUSMelVuuahCAIda+GJkrC+7/qpjmlaW3frj9qJORwOeAodbmWdmvQ\n",
       "qD+sBSP9ogL1hgKrPy5vd5c5Rl46V3QTj1xbIkTnTudnZnbT9hvDy1l/bI6Fvt7xEd9k21xQ8oil\n",
       "UZ8xKYppzrokdO42c7syadbSAmHeWlvLoqRoBOqzXuYuGcbB9xeEcUTmBGTzJ92Y8TYFKKE+62xX\n",
       "HbcSxc1KPQMKea+lq/IpdRIWjnVBKFB6qKdAJdOdlKAQlXMoJCHhwrQr6BRLjO0pHe6BvPCZdoBU\n",
       "M5Ykv/CgUqZFaI1NRy+MgUD3smhLngKqnRpmp+diQwifH+sjHEWDWd0CIY4azL6817AmaCOXkdeA\n",
       "mVNEPF129wgonnHm7JiTzUzI4WrbRqRs10RJy90ATbjbLkuyTgEqU2XJMjxIjlH5LhN3rFsyD2IN\n",
       "ZF3FRC629apHtsoVTHq5AYrbcSrtqGZY5xpqqETKmMEIUozcWCb97ukKCLWVkG8MACoNmxdUorWo\n",
       "uE5a3zl5nkBv7ACuRtBRGnoiugNy/fRjOzDwSHQDRG4QZH8fUXwiUqMr6FXt0Z3d37ADLTO+Yf1V\n",
       "5obS6X//GX4AIQoY9pSpst8AAAAASUVORK5CYII=\n",
       "\" style=\"display:inline;vertical-align:middle;\" /></a></span>"
      ],
      "text/plain": [
       "|- 6 not-in {1, 2, 3}"
      ]
     },
     "execution_count": 178,
     "metadata": {},
     "output_type": "execute_result"
    }
   ],
   "source": [
    "# given a known superset_eq relationship, and an element NOT in the superset,\n",
    "# derive the element as NOT being in the subset\n",
    "SupersetEq(set_12345, set_123).derive_subset_nonmembership(six)"
   ]
  },
  {
   "cell_type": "code",
   "execution_count": 179,
   "metadata": {},
   "outputs": [
    {
     "data": {
      "text/html": [
       "<span style=\"font-size:20px;\"><a class=\"ProveItLink\" href=\"../__pv_it/demonstrations/28d07de3e15163755f22862ababb64b5a1860ac70/expr.ipynb\"><img src=\"data:image/png;base64,iVBORw0KGgoAAAANSUhEUgAAADEAAAAUCAMAAAATIyWrAAAAOVBMVEX///8kJCQNDQ0oKChUVFSq\n",
       "qqrMzMwiIiJERESYmJgyMjK6urru7u4QEBCIiIh2dnZmZmbc3NwAAACwiO0fAAAAAXRSTlMAQObY\n",
       "ZgAAAM9JREFUKM+1k8sSwyAIRW3rKyqC/v/HVsiiGluTLMoiM+pcDlyIUqvApO5FCd0hEXlvTxQ6\n",
       "dgLNzBrXCN8dSAoEWCP6GsDJVS1XESrUJArJUggpw2TLtzad6CIUTvGxNEi8nvylQRArsgmwcWP+\n",
       "EkKLCQJy+fBo9SygnQicPdVjRj+bkndBktJMVWMfD9i76UiGBaU0hWHXgjJD0jAhLAqn3fvWwdZa\n",
       "wsEUmqbjEJG0k4XJ2Radh40J03RClXA/xm3o5pZ/QZyEwb8j1PK3eQOFDggVTu+ACgAAAABJRU5E\n",
       "rkJggg==\n",
       "\" style=\"display:inline;vertical-align:middle;\" /></a>, <a class=\"ProveItLink\" href=\"../__pv_it/demonstrations/3d449b4149b792f7c4e5434dde800b8f1f5a40c20/expr.ipynb\"><img src=\"data:image/png;base64,iVBORw0KGgoAAAANSUhEUgAAAC8AAAAUCAMAAAAqRJTwAAAAOVBMVEX///8kJCQNDQ0oKCjMzMyY\n",
       "mJjc3NyIiIhUVFR2dna6urqqqqpmZmYyMjIiIiIQEBBERETu7u4AAABpMeEWAAAAAXRSTlMAQObY\n",
       "ZgAAANRJREFUKM+1UskWAyEIs61VVHDh/z+2wnRxqt0O5cAbmRBixJjXEdqq2mrJS7ijEYVYq92+\n",
       "CZd4iAMcZB5vFU5L+jocUKWVIjnyUifY4bBJBnYyJn+kN6ScwMJB4D1OkqqdObJ0NabWk7uZSBqn\n",
       "o+S9EZFDz0lHsf+CHvTqYnPT1kdYmOGID/fjk6fVTXB/Fcdn6b17qvoPZbvFMCUJ3HUaebRWzjsu\n",
       "muit6vW9Dh1an4yYFsTlEAJC1k3yYc9uaHpwYo31YiY0PwW1n+Ap/JXexHc/L2UoCMA/J5W5AAAA\n",
       "AElFTkSuQmCC\n",
       "\" style=\"display:inline;vertical-align:middle;\" /></a>, <a class=\"ProveItLink\" href=\"../__pv_it/demonstrations/6d078cdd4489382d341e57316e5519e812adf1b40/expr.ipynb\"><img src=\"data:image/png;base64,iVBORw0KGgoAAAANSUhEUgAAAC8AAAAUCAMAAAAqRJTwAAAAOVBMVEX///8kJCQNDQ0oKCi6urqY\n",
       "mJgQEBDu7u5mZmZUVFQyMjJERESqqqoiIiLc3NzMzMyIiIh2dnYAAACLQYzIAAAAAXRSTlMAQObY\n",
       "ZgAAAMNJREFUKM+1U8sSwyAItK1R8A3//7GNOJ2aapzkUA7OgOvCAip1bmTVHUuucyyA93mJR93B\n",
       "seZjvaL3nQNSmjEr+j67iRLidI1eObaCbxxUSvnVMhMX5VWKYb/+NIOc2OtZTzjANZO8qieGC/Qo\n",
       "0nkyloxjDFo24ydq/diI0uC2FfVdglr3wzQVXZZQ4Wmn4a35h/YN9FlYyx4HlPXo9WkYphGJCFCm\n",
       "RrRt5XDrhg44FovT0Qa4tccT+qUF+iu9Wn0K9QYuKQcocUqbOwAAAABJRU5ErkJggg==\n",
       "\" style=\"display:inline;vertical-align:middle;\" /></a> <a class=\"ProveItLink\" href=\"../__pv_it/demonstrations/71a82a51c45bffb5db919c379a3eb5a631d61c430/proof.ipynb\" style=\"text-decoration: none\">&nbsp;&#x22A2;&nbsp;&nbsp;</a><a class=\"ProveItLink\" href=\"../__pv_it/demonstrations/50e4a1c73335af4b89e1859cef065e09b561d8f80/expr.ipynb\"><img src=\"data:image/png;base64,iVBORw0KGgoAAAANSUhEUgAAAGcAAAAVCAMAAABsdQABAAAARVBMVEX///8/Pz9vb28YGBgNDQ0r\n",
       "KysPDw8WFhaYmJiqqqqIiIgyMjLc3NwiIiIQEBC6urp2dnZUVFTMzMxERERmZmbu7u4AAABfBXdG\n",
       "AAAAAXRSTlMAQObYZgAAAahJREFUSMelVteWhCAMZbtUKQn//6mLwQKC4uzmwXPMJN6Um2QYuxRf\n",
       "v04wsdfFg8CBiS5fUFr2N5lNDhgBQvCdSFyVTXzp4xjMHiZI0iyfs3FuTKFSWX33WW6a4kioXYEs\n",
       "jLkv2x0OOutigxN57Zrzc1GVRQpa/3zL5/lMDc58aLKrJIWLR4d8WCgSFPsPTmFfuurDECXS88JP\n",
       "gQVxbkeLI50QkEtnTZHlwVpHiQhR+zm5sVQtNRjlgzFFi7kZBVV1weGQ48ETodYhMMuwQhjhcFJE\n",
       "UVMPoBgbI5N8faZH0TG9dgvIX4sRDs0MblVy2UEUMExRrJb3h9oE8vcjHEphXrktc7X4olM7vUw7\n",
       "PEtIge0R8jjkW5z25Lf+eEpO7DiQcpyBdXmKFGHiBFcDnHnr5cY3pa214EqOc+Z8H4eFFMSUWGOJ\n",
       "UvuvIuMcKpcgAtRzSqLLPRI+8AIH01h45cSy+7RercCZKOlq7CoEYafhiL+/pcWjh3uH4xPVDc5p\n",
       "55yG+tA9Ul3jYOhtsNZMPFFt96cjoneg23vasZq693S+Klv/lv3r/8EvVaYZqxX4LtoAAAAASUVO\n",
       "RK5CYII=\n",
       "\" style=\"display:inline;vertical-align:middle;\" /></a></span>"
      ],
      "text/plain": [
       "{a != 2, b != 2, c != 2} |- 2 not-in {a, 1, b}"
      ]
     },
     "execution_count": 179,
     "metadata": {},
     "output_type": "execute_result"
    }
   ],
   "source": [
    "SupersetEq(Set(a, one, b, c), Set(a, one, b)).derive_subset_nonmembership(\n",
    "        two, assumptions=[NotEquals(a, two), NotEquals(b, two), NotEquals(c, two)])"
   ]
  },
  {
   "cell_type": "code",
   "execution_count": 180,
   "metadata": {},
   "outputs": [
    {
     "data": {
      "text/html": [
       "<span style=\"font-size:20px;\"><a class=\"ProveItLink\" href=\"../__pv_it/demonstrations/48daf3bce2eb15547131de4ef2697e97c206f46b0/expr.ipynb\"><img src=\"data:image/png;base64,iVBORw0KGgoAAAANSUhEUgAAAHsAAAAVCAMAAABR52FnAAAAQlBMVEX///9jY2MJCQkNDQ0rKysP\n",
       "Dw8WFhYyMjJERETMzMwQEBCYmJgiIiK6urqqqqp2dnZUVFTc3NyIiIhmZmbu7u4AAAADO/pvAAAA\n",
       "AXRSTlMAQObYZgAAAe9JREFUSMetVtmShCAMZE/uQxL+/1cXGNQAMmtNDQ9aRnJ00gkwtl5y+Nag\n",
       "2TuWhIj/7THdF3LP3rWsIrgQImxjeKFHnZamUChzE7JQUN7AT1nwLrlhH9ju0z8zz+Eu5IcbYgyT\n",
       "Rfs85c99T4Evs51wMObGfGphfn8Mv+u7WbyxmhVibLArRSai2O7j9uZuyltxDgUNygBQRmN5rOxv\n",
       "4CGqDigPMcKQdh9j7Lo060XZiuPVWa5IN4WCOMbBd+B7f+TfvCsSphwtJpqozWQngnd9lf+LVpyz\n",
       "abbUBSgqlKGCrrUkqjJgQHT/qsUOgCnDIJBUND0+NkZPNak4599f+cEJA0xDBdWP6bJSLWIiswcm\n",
       "8jW9Y09oJnqqbAWTd4tRpET1IycCWdpnSowka3r2YMie5H6Cqbm5S6CCHeiGnkx6gNrlgF3onfVW\n",
       "Pa8gMguLPsKKLvPOEWYVNI96dtFkX8R3p3fw/MzEThQX5KqHRY5Tm8B8pXdLSfYkgBEJhHpIyFNC\n",
       "9GiV7TjVMHxaXPjG3MpyC7GEawzuJ5F/AN0lzHutI5VQPeLbT8TQH14Y8/9MdfiK5DDmAuPTlWCc\n",
       "p8MoOmUvSQ7fRkzTM5/HF9svzm+Mr0jO81vPlwYWL+9G871l3nZHUoeFXR024lrs3nxf+wOnDxuR\n",
       "3iEovAAAAABJRU5ErkJggg==\n",
       "\" style=\"display:inline;vertical-align:middle;\" /></a> <a class=\"ProveItLink\" href=\"../__pv_it/demonstrations/eae2422709f3d096e56b4beb132212368fec344c0/proof.ipynb\" style=\"text-decoration: none\">&nbsp;&#x22A2;&nbsp;&nbsp;</a><a class=\"ProveItLink\" href=\"../__pv_it/demonstrations/779d6449249c02e92249c646dcc0ab833ff884e80/expr.ipynb\"><img src=\"data:image/png;base64,iVBORw0KGgoAAAANSUhEUgAAAGcAAAAVCAMAAABsdQABAAAAQlBMVEX///9jY2MJCQkNDQ0rKysP\n",
       "Dw8WFhYyMjJERETMzMwQEBCYmJgiIiK6urqqqqp2dnZUVFTc3NyIiIhmZmbu7u4AAAADO/pvAAAA\n",
       "AXRSTlMAQObYZgAAAbRJREFUSMelVtl2hSAMpCv7YhL+/1eLVCsBUdvy4LkESCbLJFeI+dLd3qIV\n",
       "v10age7uOLYjGcVfljcNXkLApYeSuDd5qoqUcXNDKI/fKYYc+nPPtvFClZA4P2seUvbkr8N2bWcA\n",
       "ef4w9DGxyn1+OPnUjs/0yE6nQ6tSJGp57s+lrz+HFo1DbCuL1s/s+oIRwTAHZALALnQRAGqlRXOE\n",
       "F9obafUEoLOT5F6n5ViyQFMuyCi3AVhcMaskL9QlM0qqCrGLeNhoQGYlKyp2VtPDwLqVbCnwYuRl\n",
       "oI2U8v2tfGSTMbehxarTwcAQyg2PkRVG2q7zNC4r1hgmtDaq6tQDe3xb20ax7O2B4sw3I3lWUEr8\n",
       "oO54kG3nAvPtyI/hOUcQHiflSRV1qYnQZD37PW/McsHD6o1y1wtcSHpGA1UwWZdErGW2uVq0KhSN\n",
       "BFNtmpplxffdgNKrp4kdKlTRS4IVmnO0d+H47cAuETFaCx3xoup12peonLvvO4HuJdvDkIQcxlff\n",
       "czpaH7IHks2OU0OHKfPkpE2dzB+Ce8k+f+w44ASczudxno7X7Nk89bMOq87F4R//D74AcaYWwvl0\n",
       "iUAAAAAASUVORK5CYII=\n",
       "\" style=\"display:inline;vertical-align:middle;\" /></a></span>"
      ],
      "text/plain": [
       "{f not-in {a, b, c, d}} |- f not-in {a, b, c}"
      ]
     },
     "execution_count": 180,
     "metadata": {},
     "output_type": "execute_result"
    }
   ],
   "source": [
    "# and this works more generally, where we can assume some elem not in the superset\n",
    "# which means it must not be in the subset\n",
    "from proveit import f\n",
    "Set(a, b, c, d).deduce_enum_subset_eq(subset=set_abc)\n",
    "SupersetEq(Set(a, b, c, d), Set(a, b, c)).derive_subset_nonmembership(f, assumptions=[NotInSet(f, Set(a, b, c, d))])"
   ]
  },
  {
   "cell_type": "markdown",
   "metadata": {},
   "source": [
    "### `SupersetEq.conclude_as_folded()`"
   ]
  },
  {
   "cell_type": "code",
   "execution_count": 181,
   "metadata": {},
   "outputs": [
    {
     "data": {
      "text/html": [
       "<span style=\"font-size:20px;\"><a class=\"ProveItLink\" href=\"../__pv_it/demonstrations/0710c1d1b6b0f3b24a85a4cd0b7f77cfce4e971e0/expr.ipynb\"><img src=\"data:image/png;base64,iVBORw0KGgoAAAANSUhEUgAAAMoAAAAXBAMAAAC4681qAAAAMFBMVEX///8QEBCIiIhmZma6urrM\n",
       "zMxUVFQiIiJERETc3Nzu7u6qqqp2dnaYmJgyMjIAAAAcRTyBAAAAAXRSTlMAQObYZgAAA0ZJREFU\n",
       "SMetVU1oE0EU/vKz+dls0oIUrafQQoTqoVS8iNRUDyJ4SBW0QiEhKFiwJXgp/iDBCk3xYFDQXrSr\n",
       "hSJF2kAPUpE2xoNSRYMK7UUN+HOoWEKpYFMV38zuJrMhsRE7MDvvvdmZb+a9770B/ru9yVadOtLy\n",
       "79vdqmidSP9lSUcI8CSBHFPe1QIixyuaP1C/t7mkd20SJm1s+x7gOVMWa0HxJSuan7LPR8GwJshK\n",
       "jN0WGKbBHa/J/6iOIuxsL5SjKH74VBpStaCcNWkL/f25Ioq4M9/YpMj18M6Nj9+sBcQtrkZXi3gX\n",
       "cWdfazkKPgE/EokLtaBYabXc1LMvw5mwaPKYL9qsu+N6JqxLnrbtcSj1THwCnASGTNt1Z+1LReVw\n",
       "0ZkuSov7mPdfZIqjxIQ+6pOL8qoWlEZcVTX7M4y0wptn4ntgP+ScyTNbObjRThuCk/Dm8Eo9yCGL\n",
       "854G+syqWObanSzadXsBdSmdfA9oNaxG8sqPdmbhIcyvJZQZQ7AEARUJTelcosYOJw2yW7VD/snt\n",
       "e1Xo7rfEEaZbOc6QHKYAZZ1F3kyPg6OsVkGBfmTOf524DTxd7BqXt0Be0ezhLLbR8AUaijt3lITM\n",
       "rkDIztlBKNJygDnXmwkIKMxjkL7rkKVjnKL+CzbOZbqRJ6+XhCQGoMflAPWhE0Qgtc8Z9EFHsZ5j\n",
       "hEKA/TcjRv+hNQ9OYZvfxLEVFhCGsgZHbpqbZ3mqahyj6GOKOC3hGzDKpx1puPxecpt7FVcongab\n",
       "lFZyiyvv1oJ43oTSS+eRf5NwCfORNJcmk46CkS97qNfxc1EojiUSCb80wEJgi9BtY6D/JCOZ7DHI\n",
       "0ZZmvbCOXVYFlNEdhN1PlrGm49Egl+zRFzED5TNzP/tfyktwGHepUy0UBCUi1Qt3KaswhwaFCqO5\n",
       "WjVLrlajwhiVYUTJKVBCelyc6gKGVU/EERHiUq1aPi5WE4hSCJPBUrXUHfA2MwcWBo1jp9PoTKHt\n",
       "ZVZEcSWrvi+83YUgKQVGHe19mSgrVRQXni+skc8sIRGlyivmM97K0sNMkr2XV7YOlmRDFVbpKJ7k\n",
       "DY4ws96LjKl13n1vJR/IjXzw4vbr3WId2+B2TTxbd2ojtvwDjBjuBDjNqdAAAAAASUVORK5CYII=\n",
       "\" style=\"display:inline;vertical-align:middle;\" /></a> <a class=\"ProveItLink\" href=\"../__pv_it/demonstrations/5e5fe40246e028cb8b6d835db26ace3719ad0e920/proof.ipynb\" style=\"text-decoration: none\">&nbsp;&#x22A2;&nbsp;&nbsp;</a><a class=\"ProveItLink\" href=\"../__pv_it/demonstrations/f091230cfec73fea4f3ad08d891582f74e7053070/expr.ipynb\"><img src=\"data:image/png;base64,iVBORw0KGgoAAAANSUhEUgAAAJEAAAAVBAMAAAC01xHeAAAAMFBMVEX///+IiIi6urrc3NxERETM\n",
       "zMwQEBCqqqpUVFQiIiJ2dnYyMjLu7u5mZmaYmJgAAABN0h6tAAAAAXRSTlMAQObYZgAAAlBJREFU\n",
       "OMuVVL9rE3EU/3hNvGt6JqlQxKKQKbhIM7oZEboVOrg4SEV0cJEM4qS0GUWoFR08cMggLXHQoouI\n",
       "gRPEpWgaF8GCxr+gtR0Eexbfj/vxPS4n+IUkj/e9z+e9fN7nHoDyN+SeSydGJDOA4sDnH/cN/nHq\n",
       "85nUCIB1TSrs0OXsSlJgdtN45sh6tiUCvL+ezm3xV4lJJgx0pWU8UtISG57nnTNTvTRTN74w0TN+\n",
       "lonPp5dG6lcek4nuYjQTNhpxygrymEx0L4+puB6nzHSa6fXkF02NfZ2KGr8zeZNuLxvPv4qZJton\n",
       "Qz3swbEmsMqhQ5Xcfb+vrdcbhbDxUnPsjw4qPmuIAP237p7mnuIsTWubw1vkGDtApSpeuRHPfdEX\n",
       "Wc3/+hkRgC5/akuBTItnf+GhuqbfEfsEGO8o7CqK3J3zIGGSGgLYgvtbUoebWOBp3a2qi4lyphVe\n",
       "9Gsq7wEOiYIJkb0U274HS+VcGOI4+5GvHBKsMsR38QF1thg6eQ+FzbROF9UqDDjg7vlsNzCHUCce\n",
       "RaVGAglTC/ds0d7eEQGS2bmnzyfG2MWHoaqpJl2NLpwh1e+TDIVq+XFJIprNfd98Wx6tGRZbpk7c\n",
       "fS7dcALTT+7gOTD+hIL21JmjEuHUdBdZC4apj9PUkkeVrPazlZQz5dxGOprLZ9IJiG6sZsgUK9GB\n",
       "ERXh7uYwRYASfeZ11t1o3aikVRjRC1+KhT7lreJ5S0gB3hFZIJ3rfkK0AsvJLmOZfsibWK9l92gE\n",
       "IKmsZXn/rCv6d/93j9sj9/hfiku26R8tdZkAAAAASUVORK5CYII=\n",
       "\" style=\"display:inline;vertical-align:middle;\" /></a></span>"
      ],
      "text/plain": [
       "{forall_{x in {b, g}} (x in {b, d, g})} |- {b, d, g} supseteq {b, g}"
      ]
     },
     "execution_count": 181,
     "metadata": {},
     "output_type": "execute_result"
    }
   ],
   "source": [
    "SupersetEq(Set(b, d, g), Set(b, g)).conclude_as_folded(\n",
    "        assumptions=[Forall(x, InSet(x, Set(b, d, g)), domain=Set(b, g))])"
   ]
  },
  {
   "cell_type": "markdown",
   "metadata": {},
   "source": [
    "### `SupersetEq.apply_transitivity()`"
   ]
  },
  {
   "cell_type": "code",
   "execution_count": 182,
   "metadata": {},
   "outputs": [
    {
     "data": {
      "text/html": [
       "<strong id=\"set_13_subset_eq_set_12345\">set_13_subset_eq_set_12345:</strong> <span style=\"font-size:20px;\"> <a class=\"ProveItLink\" href=\"../__pv_it/demonstrations/66e2921454f6af25c37b1e0951a38a8e8c4a907d0/proof.ipynb\" style=\"text-decoration: none\">&nbsp;&#x22A2;&nbsp;&nbsp;</a><a class=\"ProveItLink\" href=\"../__pv_it/demonstrations/e6fe506a961ff395ce211c9c2bd0820175b9785e0/expr.ipynb\"><img src=\"data:image/png;base64,iVBORw0KGgoAAAANSUhEUgAAALkAAAAVBAMAAADoXVL6AAAAMFBMVEX///+IiIi6urrc3NxERETM\n",
       "zMwQEBCqqqpUVFQiIiJ2dnYyMjLu7u5mZmaYmJgAAABN0h6tAAAAAXRSTlMAQObYZgAAAn9JREFU\n",
       "OMudlc9r1EAUx7/pWnc3TUr/AKF76jngxR9Ue/AiCObgSSgU0aIgdE/ioUL1INRDV5GCAcWARWpB\n",
       "CHhQCrVZ8LB66RYUhDZlvYgnFQWhPzDOTCbJm8x2Kb7D5O2b9/3sZPLeDIDBLRRs/Ah009N6Wv96\n",
       "yB/Wsj414mqhbmk9re+KWNNPGistLdQBO9CXrqRZ0RmXCuQ7y+fbcJzFNrhr3mdD+bqcGEX5r4xx\n",
       "++Z53jyyNNwIk3gL5i8qSOyRfE7FO2x8kcpai3tyYriO7Zx+8lm2Wh6y7jUkfROYpAJhxlXpLN92\n",
       "KB2DKX2kht2c/goKHfgh6deAhkMEwk69kc6MGLvQQXfGru9HXw3RcIlAmH8A+nufxSaEW8V+dGZP\n",
       "QyIQ391J6XNfPrHxOXcrgUI/8STMCuQYoYs0Qu/boQJuTaT0czhdY7miDFx17cYlNqwI9x2hizRC\n",
       "r84oAr4xGR04xN50oA1ceAiVjklGqDwo7EySRuiRKmDb7xK6/ZsNs0OyLzP6UeA8+5ZJnjlUbN+M\n",
       "brRVAfAhVfFN5N0wwN+uMkbpcciT08Z8TfZ9TKHfQskhAmY3o+jPuggdDmDvyX1Xa+ayKAZZM2jd\n",
       "CbvXTL8PwyGCxGQ32WxPA1kzQmYw+hqviu/qSXDxrHoSDIewePMcX3o5SwRrgfwnMVlq46tD6t2+\n",
       "u7uF6mNeaNHHGqEX6v3z1EoHHlvqahxvE4HwsBDPiUmMLm4q3SRsutA6Oj3pzVAXTOuTkj6R/vR7\n",
       "0rM0E7rA1ycTenZwW3n9yfPd9LzsBM7P9yY0Qe41c/pGcl6m9wMp7pp+12R3UweaIPc6+d2UtHD5\n",
       "YPdq+T/u1X8KnONfBIhgiAAAAABJRU5ErkJggg==\n",
       "\" style=\"display:inline;vertical-align:middle;\" /></a></span><br>"
      ],
      "text/plain": [
       "set_13_subset_eq_set_12345: |- {1, 3} subseteq {1, 2, 3, 4, 5}"
      ]
     },
     "execution_count": 182,
     "metadata": {},
     "output_type": "execute_result"
    }
   ],
   "source": [
    "# establish a SubsetEq judgement: \n",
    "set_13_subset_eq_set_12345 = set_12345.deduce_enum_subset_eq(subset=set_13)"
   ]
  },
  {
   "cell_type": "code",
   "execution_count": 183,
   "metadata": {},
   "outputs": [
    {
     "data": {
      "text/html": [
       "<strong id=\"set_12345_superset_eq_set_13\">set_12345_superset_eq_set_13:</strong> <span style=\"font-size:20px;\"> <a class=\"ProveItLink\" href=\"../__pv_it/demonstrations/855e279396cba27541b51d5a754a2c17c3ba39410/proof.ipynb\" style=\"text-decoration: none\">&nbsp;&#x22A2;&nbsp;&nbsp;</a><a class=\"ProveItLink\" href=\"../__pv_it/demonstrations/f6918c252ce01f556e9bce3f231b925edeef921a0/expr.ipynb\"><img src=\"data:image/png;base64,iVBORw0KGgoAAAANSUhEUgAAALkAAAAVBAMAAADoXVL6AAAAMFBMVEX///+IiIi6urrc3NxERETM\n",
       "zMwQEBCqqqpUVFQiIiJ2dnYyMjLu7u5mZmaYmJgAAABN0h6tAAAAAXRSTlMAQObYZgAAAnhJREFU\n",
       "OMutlUFo1EAUhl/abtPNJtmevNqTNyFXBbWIIIqHPXiTgogVBaF7Kj1YXEGEKnQLemhEMAdZugVh\n",
       "wYsWtKmnogdbUBDclPXiRWRFwWK7sE7evJlMNpNDwTkkf17+92Xy8mYCAO4OHGQUtkNN9EdHb7PX\n",
       "4GBjaDobex/k2NyfasyOzlS4Or56Vkan6PwmnKoCfMnSu6krnoo2a4kdzJt0YxOsXyiGt+C2fNtl\n",
       "Os/099ixyefxyvcfjdMNDM1SySi1KeibKz2ytQGuoTB2obxEQeM6ibU7nqTjE75PSLp9v050SpV0\n",
       "cAX9BkDdw7JdgXKLgidfkqglEyX8C2XuXaJTqoa+HkKdCp9UJsilwyUNnVI1dDaeksl+TAHXE/TF\n",
       "r5/YsaHQS56OjqloG2ul6UN79G2abYpsgKBfgFMT6Qaxqnh6kKLzVLTNVtL0Yk2oQ/TJAkkHGGFv\n",
       "WtpK6A56zOmBysSpse3iQ0jTI6lGeZuaFYXu/GaHhfGkMrguz3kDdEyNbUfSczdoYsMejOyiegeC\n",
       "zooYr4ZSLZn7nLIuBZ1S0TY2maLPxzfZKPcEfS6K/mzzGbXA6aXqXnjCz3dVOqV2sz1TCMBA+ugk\n",
       "FOUjaTU57Ku01J55+9HTdCSlNiTdYFcf4uY5tvp8AZXbYU1r73P/VUDFlvg3T90JzlfVneBwyG2Y\n",
       "qvS7c29/B4rxW673+3+5OhqdBvBxOs/6i1ydWGkPrCaF/nnmdYfbMFVZTThuQUaZYVbl0bU267K4\n",
       "TPZoqSzIKh29kWeT+7stuzhRG5BVtL/Hdff95YH9PWMT/yZXxhPV0Si2BWZGKcizmf/jvzqv/a/+\n",
       "A6P65cdclTY/AAAAAElFTkSuQmCC\n",
       "\" style=\"display:inline;vertical-align:middle;\" /></a></span><br>"
      ],
      "text/plain": [
       "set_12345_superset_eq_set_13: |- {1, 2, 3, 4, 5} supseteq {1, 3}"
      ]
     },
     "execution_count": 183,
     "metadata": {},
     "output_type": "execute_result"
    }
   ],
   "source": [
    "# establish the superset_eq relation by reversing:\n",
    "set_12345_superset_eq_set_13 = set_13_subset_eq_set_12345.derive_reversed()"
   ]
  },
  {
   "cell_type": "code",
   "execution_count": 184,
   "metadata": {},
   "outputs": [
    {
     "data": {
      "text/html": [
       "<a class=\"ProveItLink\" href=\"../__pv_it/demonstrations/f6918c252ce01f556e9bce3f231b925edeef921a0/expr.ipynb\"><img src=\"data:image/png;base64,iVBORw0KGgoAAAANSUhEUgAAALkAAAAVBAMAAADoXVL6AAAAMFBMVEX///+IiIi6urrc3NxERETM\n",
       "zMwQEBCqqqpUVFQiIiJ2dnYyMjLu7u5mZmaYmJgAAABN0h6tAAAAAXRSTlMAQObYZgAAAnhJREFU\n",
       "OMutlUFo1EAUhl/abtPNJtmevNqTNyFXBbWIIIqHPXiTgogVBaF7Kj1YXEGEKnQLemhEMAdZugVh\n",
       "wYsWtKmnogdbUBDclPXiRWRFwWK7sE7evJlMNpNDwTkkf17+92Xy8mYCAO4OHGQUtkNN9EdHb7PX\n",
       "4GBjaDobex/k2NyfasyOzlS4Or56Vkan6PwmnKoCfMnSu6krnoo2a4kdzJt0YxOsXyiGt+C2fNtl\n",
       "Os/099ixyefxyvcfjdMNDM1SySi1KeibKz2ytQGuoTB2obxEQeM6ibU7nqTjE75PSLp9v050SpV0\n",
       "cAX9BkDdw7JdgXKLgidfkqglEyX8C2XuXaJTqoa+HkKdCp9UJsilwyUNnVI1dDaeksl+TAHXE/TF\n",
       "r5/YsaHQS56OjqloG2ul6UN79G2abYpsgKBfgFMT6Qaxqnh6kKLzVLTNVtL0Yk2oQ/TJAkkHGGFv\n",
       "WtpK6A56zOmBysSpse3iQ0jTI6lGeZuaFYXu/GaHhfGkMrguz3kDdEyNbUfSczdoYsMejOyiegeC\n",
       "zooYr4ZSLZn7nLIuBZ1S0TY2maLPxzfZKPcEfS6K/mzzGbXA6aXqXnjCz3dVOqV2sz1TCMBA+ugk\n",
       "FOUjaTU57Ku01J55+9HTdCSlNiTdYFcf4uY5tvp8AZXbYU1r73P/VUDFlvg3T90JzlfVneBwyG2Y\n",
       "qvS7c29/B4rxW673+3+5OhqdBvBxOs/6i1ydWGkPrCaF/nnmdYfbMFVZTThuQUaZYVbl0bU267K4\n",
       "TPZoqSzIKh29kWeT+7stuzhRG5BVtL/Hdff95YH9PWMT/yZXxhPV0Si2BWZGKcizmf/jvzqv/a/+\n",
       "A6P65cdclTY/AAAAAElFTkSuQmCC\n",
       "\" style=\"display:inline;vertical-align:middle;\" /></a>"
      ],
      "text/plain": [
       "{1, 2, 3, 4, 5} supseteq {1, 3}"
      ]
     },
     "execution_count": 184,
     "metadata": {},
     "output_type": "execute_result"
    }
   ],
   "source": [
    "set_12345_superset_eq_set_13.expr"
   ]
  },
  {
   "cell_type": "code",
   "execution_count": 185,
   "metadata": {},
   "outputs": [
    {
     "data": {
      "text/html": [
       "<strong id=\"set_12345_subset_eq_set_1234567\">set_12345_subset_eq_set_1234567:</strong> <span style=\"font-size:20px;\"> <a class=\"ProveItLink\" href=\"../__pv_it/demonstrations/d4bd09567d305cd3af731e5a66e97a1ad82e19ea0/proof.ipynb\" style=\"text-decoration: none\">&nbsp;&#x22A2;&nbsp;&nbsp;</a><a class=\"ProveItLink\" href=\"../__pv_it/demonstrations/4a3018f98a78f15c9ab2282febccf08c15eca9d90/expr.ipynb\"><img src=\"data:image/png;base64,iVBORw0KGgoAAAANSUhEUgAAARsAAAAVBAMAAACEflfWAAAAMFBMVEX///+IiIi6urrc3NxERETM\n",
       "zMwQEBCqqqpUVFQiIiJ2dnYyMjLu7u5mZmaYmJgAAABN0h6tAAAAAXRSTlMAQObYZgAAA6tJREFU\n",
       "SMetll1IVEEUx8+633s/FAIfCml76alooacCa4kihKJ96CkQpLIPKvQl6SFpg4o01IV6cC1oBRFd\n",
       "iPYlCCFbX0KSUKNQzNWNoJc+FKU03brNnTkz92tXFB2We889O/Of3z0z58wFAHUGNtK849ki3h95\n",
       "2GRDXXlgg+PK6p2+kRRsujFddd7sk3NHY8w6mD4uvLV4H8zWNgJ8ckrNWZ7efTgGDhHvGLtL370T\n",
       "6Orezubydk6l06gbSpCL/yr2GIbQAjXcY3BLLEAn3hu0FXLtxye1JZlMMkHqasJVlOPwPOwQCcbZ\n",
       "3adpGMqRsJJhQpqmLaOIjjPcV8BB0wAXqOFagvIEOl2X0Bi4HTFw3AMREQ/ikls7EEfJgq/OIVKJ\n",
       "OFLfNvScBE+UDSBCcRMOqBznMkAHnaXsLJRn0HnoJRpxIxRE16BhrjnE8SUgsAg2Efc3xAmIvbLI\n",
       "rRD5xYrivM5CB24eI86pojgTUAJHKkDgF9hEQpIdx1NnEtgFRXFIe8q3QBffIxGO0/75I7n2sodE\n",
       "KRx9o3A9IfJF4PysYu9b/qL7vRgQ5bqBjBWnbAWj2z+NniHgOCfgcJinkTtuwnlgw9mXsonIFRzH\n",
       "k3WzZBkdhGAjX648T8+mmBUnKKapDONaCRwiRmIi0ZSVowaNv96G0wk2kRBIBn4Nw5kHhSf0KF1k\n",
       "onv6IVhxcsLysc7+mAlH0fdfS4V1sbw1ESuOMmYXuW7GmaXdSc6pC+jZQa+67m5rdFyo5I6AZ4la\n",
       "b4HjkHXVqxIKd9sLqoFTBTYROSVwyLqyqhTMgPoPOz6i0dF7BKIWnGZdQ2cvcJwbudzvcfamGVAK\n",
       "ogRLjQbPHQuOfwz2g0XE35abvUZjCldIdGjHQJ0RnWVR2q2Z5U2Bi+L4okZ6AJZBhb4Szyz5/p4S\n",
       "mXUGgJU6s4gPo0Oi/5hNVQAFc937F3hmURwXGTSqp9iB9LMWaql5UjLkVdb9PFCL1PyvEeOQ8PZY\n",
       "D4mdWezWlZ5MUMssQtDoDNWgnmNWK7xpZH/6V8Bcd5R7qzMQfKKXQU37w6y9uSMASfrCPVo7s6r7\n",
       "pk1nlq3uTDa8ytNuEjmCEmyAIRI6tZynuu6ptiybITR1F/90X7TgsHYTHJY/67RK4ZQcYFhrzoA4\n",
       "olYb3ywp02nisIrh9K41IATrmoHpiu8duQIc1hA4Lf69059Mir0zt9aAIVjXDKjLvwZV4TesfBGL\n",
       "HNOOJqXWGJCHdc2Auv6t+FZu3ppv5f9DnVEV8l0jzgAAAABJRU5ErkJggg==\n",
       "\" style=\"display:inline;vertical-align:middle;\" /></a></span><br>"
      ],
      "text/plain": [
       "set_12345_subset_eq_set_1234567: |- {1, 2, 3, 4, 5} subseteq {1, 2, 3, 4, 5, 6, 7}"
      ]
     },
     "execution_count": 185,
     "metadata": {},
     "output_type": "execute_result"
    }
   ],
   "source": [
    "# establish a related proper subset judgement:\n",
    "set_12345_subset_eq_set_1234567 = set_1234567.deduce_enum_subset_eq(subset=set_12345)"
   ]
  },
  {
   "cell_type": "code",
   "execution_count": 186,
   "metadata": {},
   "outputs": [
    {
     "data": {
      "text/html": [
       "<strong id=\"set_1234567_superset_eq_set_12345\">set_1234567_superset_eq_set_12345:</strong> <span style=\"font-size:20px;\"> <a class=\"ProveItLink\" href=\"../__pv_it/demonstrations/22e3e9e9f851e2fdca017229b5b824def5eb298d0/proof.ipynb\" style=\"text-decoration: none\">&nbsp;&#x22A2;&nbsp;&nbsp;</a><a class=\"ProveItLink\" href=\"../__pv_it/demonstrations/2135ee60d979364b05867eefeac6a320c7734e250/expr.ipynb\"><img src=\"data:image/png;base64,iVBORw0KGgoAAAANSUhEUgAAARsAAAAVBAMAAACEflfWAAAAMFBMVEX///+IiIi6urrc3NxERETM\n",
       "zMwQEBCqqqpUVFQiIiJ2dnYyMjLu7u5mZmaYmJgAAABN0h6tAAAAAXRSTlMAQObYZgAAA1pJREFU\n",
       "SMe1lk1IFGEYx/+7ru6uzu7apVPhnrxJC0GQYFlJXYL20MVAFDErCNxTdCjcLoJBahTU9kFz8HPB\n",
       "ELuIYI03S6i1DwlyZbt0bKMgsZWmmfdr3tl53TDpPcz8eWee3/Of9+OZF0B0HbttHfsUnTvkVq8Y\n",
       "9k2bx+5bY9LTtWOu/zz5iG8uSL6NkZuzp5yvZ/fnRkeKqto9Y1S038pmdURmvIOzDbcqO5pScz8R\n",
       "8Ih1CV5mD5ZQ+51G5dBf4GH32b3P/MXoszQYKJqmmaYQYDmTyRxj79KuK0YZFy0I/lZzp3jY0uQW\n",
       "e7AG9BLh20BshHX6LjIxfyNBRSCHNqreASGem7TXs44d7eawUcZFQwqbaq6wgyi3cwkYJin93Yjx\n",
       "GTgyx0Sa5zyQ4EoHxlx2sJyQRqdolHHRGEdJzVXYeWFgmC9LMVm6x85JeQnWu+1UzyjsyFwxWfpf\n",
       "7VjtCSNoD/iiTPCwoc8fqCid2x/n7wdsSJfk75nCjsTFS13NHbdlaMZtx89Wa9XUGutZBA87jaPE\n",
       "hVYq4B4PeFq+jSYguJIdzkXzY0PNLZK1n3TbCYsZ2Rvny2NOPA2Qb9ZMYJUPInGyINl5C8GV7Dhc\n",
       "X7eaW5cDzt6B205eqBq6+4NJKSzyg9ysvVFkZn1kFEK3HTukg3IlOw4XvYaaO1jPCqpjx5djc5VA\n",
       "YIOoV+Bh1viz6vHQSsQWerjVvjpgBNNSoRZ2OBcHgTMpJbfODgy1uuxct41YLbbF7VzN53+u0OGa\n",
       "QYS+OOCMTixdtnbaqQPCdexwLkyD2fFwi96dVa3DR8JqWhEWHlm5ilhjQXdxp4FV9qwz59pZWtMJ\n",
       "KHaW4KJH2mNu7rgI81mZ39iZDmenB4mKFqy6o7GC1QOirB/HlwRRIV27QAPQr4vc9k/i7oTrJ9Fg\n",
       "0FDBxVe77tBQF1eqO5GB0jrCj+xyZZqbVDXljwMZ8h2j5hBVLZNrrG96Mklfw6EU3GVQtvOxb6FA\n",
       "AhyuP/8+zkLdXKkMknYNHhU0Kqlr7twKO9sGKDIwO13S76dc1aKS0iva6aoUoMhA7YhNodXDoxZR\n",
       "QTmv8fOOfcDIZNJl5x1FgCoDO7LwU1vUOTkJVaikotJpMO493c1XCFBl8NNiHfxPZ+XgP5yV/wDg\n",
       "XFeXY14Q/gAAAABJRU5ErkJggg==\n",
       "\" style=\"display:inline;vertical-align:middle;\" /></a></span><br>"
      ],
      "text/plain": [
       "set_1234567_superset_eq_set_12345: |- {1, 2, 3, 4, 5, 6, 7} supseteq {1, 2, 3, 4, 5}"
      ]
     },
     "execution_count": 186,
     "metadata": {},
     "output_type": "execute_result"
    }
   ],
   "source": [
    "set_1234567_superset_eq_set_12345 = set_12345_subset_eq_set_1234567.derive_reversed()"
   ]
  },
  {
   "cell_type": "code",
   "execution_count": 187,
   "metadata": {},
   "outputs": [
    {
     "data": {
      "text/html": [
       "<span style=\"font-size:20px;\"> <a class=\"ProveItLink\" href=\"../__pv_it/demonstrations/274fd0978d8af5a20320009550c664ca22a6fc710/proof.ipynb\" style=\"text-decoration: none\">&nbsp;&#x22A2;&nbsp;&nbsp;</a><a class=\"ProveItLink\" href=\"../__pv_it/demonstrations/7e9bb136ecaa859e6351b15a908f3bbbfe6badc80/expr.ipynb\"><img src=\"data:image/png;base64,iVBORw0KGgoAAAANSUhEUgAAAOEAAAAVBAMAAABCnpRGAAAAMFBMVEX///+IiIi6urrc3NxERETM\n",
       "zMwQEBCqqqpUVFQiIiJ2dnYyMjLu7u5mZmaYmJgAAABN0h6tAAAAAXRSTlMAQObYZgAAAxpJREFU\n",
       "SMe1Vk1IVFEU/ubH5sc3P6sWETgrd8FAECRYEkEURS7aREgiKQWBsxIXiQa10EiNWjhRNIJJDhQD\n",
       "EZigji2in8WMZRDlxLRpE6UUJNbQ6917z71z309tpLd475tzzpzv3HO/e94DEP+ArV4dO72sX6oO\n",
       "Q8NykT2MOWz9am53217mXCZ/N7vH13WbUTlIfw7kpzJqDfRcKHZI2+QOEXfyaj6fQ6zgZlyz/WrJ\n",
       "H7Lu7xmMjrN7X1E4niH6TaBWhH7L8Al69po/5QJSRLJmmuYQJYHxOJu9kaSQGT1voIzBKtlYsDEy\n",
       "Rp5VoEegpgw26b++swTmLqYJHUOwjYPXQFiWLVg/pxRjPa9vA4lxjdEqlTzngDGRtTmFX5Rk3yyB\n",
       "IbUh3yWyNuuujRHGQ22NMq+/C4mCJ+NiEWNSBaqrORdjsFOTQ9LOiFMejNZl66rNc0fC5yS2eFoy\n",
       "jn58I0Di0eQrxc6SaBWgMe3FaNy0btMMhQt2j1+Ko+U22ZYgGY9iv9ik0gIiUrUPnIKPCs8VW97A\n",
       "zKrUb1+7nTGiWufrkls1q7IFRftK64idp9o52bzGGONVhbodvdtumRvLwInrsHsq9b/2cGOoXWOM\n",
       "CclYuovTKfLxHoWvaV3l8+Vw2sG4jZU4nJTjQnl8ZQK7geO8PS8gGa0NoNMaKSBOuorwUzKrrbFf\n",
       "my8ybyCN4IZVDGtguM3GOMCc7DKLxNhfqfxYFlUWEKsJ7k61xsSQYx8bbonnJT1vosYZ19xabcjB\n",
       "JxjPaKqlCRDji+NhNcRInqfLdq0+WUl7nI5tbYjUSKuCsakIgx34vfn7wyixtF/ZeSwViJ07rVH1\n",
       "Kc0RRvA0I9BgTiXhU+5IRp9yMm+86jiPb3vnq8ha9Sya5iYirC/+ykpKIEyZo9yJ1nuWxDmKvrtM\n",
       "aE8GjgmgMaq82FU5ANsE4KJUuroAF6o7vdDfGB1hxKi2IAptWDpR3emJPBin3WGCsS6zJTWQkm6k\n",
       "nJ6IXl1sH7PZCcf7sR4m3o9Q3wDqIyEON6r+EzWn3GtszLnC/GKKhf7Xd86A53fOH7UAGJxPbo9o\n",
       "AAAAAElFTkSuQmCC\n",
       "\" style=\"display:inline;vertical-align:middle;\" /></a></span>"
      ],
      "text/plain": [
       "|- {1, 2, 3, 4, 5, 6, 7} supseteq {1, 3}"
      ]
     },
     "execution_count": 187,
     "metadata": {},
     "output_type": "execute_result"
    }
   ],
   "source": [
    "# use transitivity to go from largest set to smallest set\n",
    "# (even though using expressions, the expressions have to be true or provable)\n",
    "set_1234567_superset_eq_set_12345.apply_transitivity(set_12345_superset_eq_set_13.expr)"
   ]
  },
  {
   "cell_type": "code",
   "execution_count": 188,
   "metadata": {},
   "outputs": [
    {
     "data": {
      "text/html": [
       "<strong id=\"A_superset_eq_B\">A_superset_eq_B:</strong> <a class=\"ProveItLink\" href=\"../__pv_it/theorems/05e344b7208c2c23dfa6004888e7fe9f4480f8570/expr.ipynb\"><img src=\"data:image/png;base64,iVBORw0KGgoAAAANSUhEUgAAADsAAAARBAMAAACRPMnQAAAAMFBMVEX///92dnYiIiIQEBBERERU\n",
       "VFS6urqIiIjc3NxmZmaqqqru7u6YmJgyMjLMzMwAAADiRdoGAAAAAXRSTlMAQObYZgAAAPNJREFU\n",
       "KM9jYACBtwzogCf+68wQNyjnPpjcq6Sk5A6TZ3ZgYJj/AKL0/gaY6J5rUMb7AwwM+RPAzF3zG+Cm\n",
       "7oUy64H0+QIw80B9Alya7wKEdmZg4DYCG8q2Yf0BhKNuQKivDAyPosGsbQzvCxDSUhBDvp4p0YII\n",
       "JDD0T0BITwOT7D8YGDYHgBVGzox3QEhD7GYxACr5BbYa6MkLcFkusBYGfiDF/h3EWsDAwGQAl360\n",
       "Ae5t1m9ABgdQmvcDVJI70wPh7fcgK5tANv2ABqqKFFTdZaClJkCDtvy/zcDl/2kCaozE/o+c6rKA\n",
       "gYoAFKFKSgHIQgBh7kHj8bFnhwAAAABJRU5ErkJggg==\n",
       "\" style=\"display:inline;vertical-align:middle;\" /></a><br>\n",
       "<strong id=\"B_superset_eq_C\">B_superset_eq_C:</strong> <a class=\"ProveItLink\" href=\"../__pv_it/theorems/d335a18acd88d2791445c24e13e46c30cb745b030/expr.ipynb\"><img src=\"data:image/png;base64,iVBORw0KGgoAAAANSUhEUgAAAD0AAAARBAMAAACcIrmXAAAAMFBMVEX///92dnYyMjKqqqoiIiLu\n",
       "7u7c3NyIiIjMzMwQEBC6urpERERmZmZUVFSYmJgAAADEjrHzAAAAAXRSTlMAQObYZgAAAPlJREFU\n",
       "KM9jYGB4+//O2d0LGNABa/Wde2wCINZsBgaeHyBGkIuLy3aYfOUDBuaTD4AMjn8MDFx/YMJxWhA6\n",
       "2hVInE8AEuzfGBj4vsPNDUoAU5oBQGIliMU9gYEh0hUuz6EAInk+g8geEMF/gYHDNwDhMDUQke8A\n",
       "IsNARP+951sMkBwuDCLkC+D8+gQG1rlI8qdAhH8DnL8TpAbJALD988EWgom/IHmEccwXwPrBzAao\n",
       "9xnuI8KvBawJ7HNGBqj3OX7DQ3XNNjCdDzJQFMRiAnp/5VYGaPh6C0NtAZpqAzKJV//vmdubMWKH\n",
       "IWbvHcw4oxCA4tfF5QKyEAD2zz8RRwA20AAAAABJRU5ErkJggg==\n",
       "\" style=\"display:inline;vertical-align:middle;\" /></a><br>\n",
       "<strong id=\"B_equals_D\">B_equals_D:</strong> <a class=\"ProveItLink\" href=\"../__pv_it/demonstrations/aa07d04aa34af5def795608f4ebeb61718afb3d10/expr.ipynb\"><img src=\"data:image/png;base64,iVBORw0KGgoAAAANSUhEUgAAAD0AAAAOBAMAAABuognZAAAAMFBMVEX///92dnYyMjKqqqoiIiLu\n",
       "7u7c3NyIiIjMzMwQEBC6urpERERmZmZUVFSYmJgAAADEjrHzAAAAAXRSTlMAQObYZgAAANVJREFU\n",
       "GNNjYGB4+//O2d0LGNDA2/97b+9NADNnMzDw/ECXZ/jEwMD3GcTg+MfAwPUHXZrjO5A4CWKxfwOq\n",
       "/I4uzw4ycf0DIME9gYEh0hVdnvsDkMgXABL8Fxg4fAPQ5fk3gPRfABL9955vMQAJMSqBwQGwfH8B\n",
       "kKgH6a9PYGCdi+H8+gYgcR/k7Z0gngG6/H4Q8RNE/AXJF6DL/wZivn9Q70MMgtp/Ae79yA1Q73P8\n",
       "xuZ9ViUQiwno/ZVb0eWZgN5fAvIJr/7fM7c3o0sDRc/ePgZkAADK8kIyXFvIfAAAAABJRU5ErkJg\n",
       "gg==\n",
       "\" style=\"display:inline;vertical-align:middle;\" /></a><br>\n",
       "<strong id=\"C_properSubset_B\">C_properSubset_B:</strong> <a class=\"ProveItLink\" href=\"../__pv_it/demonstrations/8ad3a3343be412c4e4fd88a755d4d64f6fb7eba40/expr.ipynb\"><img src=\"data:image/png;base64,iVBORw0KGgoAAAANSUhEUgAAADsAAAAPBAMAAACo4Ko7AAAAMFBMVEX////MzMy6uroyMjIiIiKq\n",
       "qqoQEBB2dnbc3NyYmJhmZmZUVFRERESIiIju7u4AAACOKgoaAAAAAXRSTlMAQObYZgAAAPZJREFU\n",
       "GNNjYGDgu7NrJ0cBAyrg3P971Z5DINa1CQysyyagSTOwHWBgWC/AwPDGD8hZ34AuLQ/UoL+AgcHs\n",
       "AZCjBhGb4+Li4ghh3gdqmH+BgesriCMFFmquQOg+BnRUygOGfgcQ5wVYyAPJ8N8MDCL7GBjqL8BF\n",
       "uAIQsoy/Z95xBdL+AnAhFiTNvD8YGJ5tYGDIB7mMAUx0I0nzJACVAJ3lD+Kwgo14gyTND9TJ+xfq\n",
       "Y3YMw0He5v7EwNAPclodWIgd4Uqwt+WBAcf6k4Eh6gFEzBQhbcbAwJQDEn51epcCVOz1Jqg6hs3/\n",
       "d60+E4Ae0OJH4IEKAQAc1UHDebzd9gAAAABJRU5ErkJggg==\n",
       "\" style=\"display:inline;vertical-align:middle;\" /></a><br>\n",
       "<strong id=\"D_subset_eq_B\">D_subset_eq_B:</strong> <a class=\"ProveItLink\" href=\"../__pv_it/demonstrations/fe0e90751d36af35504ee4fdf5fc45c5b8d3ef8e0/expr.ipynb\"><img src=\"data:image/png;base64,iVBORw0KGgoAAAANSUhEUgAAAD0AAAARBAMAAACcIrmXAAAAMFBMVEX///8iIiLu7u52dna6uroQ\n",
       "EBBmZmaIiIjMzMyqqqoyMjLc3NxERERUVFSYmJgAAAAdjRNVAAAAAXRSTlMAQObYZgAAAQBJREFU\n",
       "KM9jYGB4+//snbMbGNAA3/2/aXeOgJm/gLyfENG3goKCEhAm6wEGhvwGIIPjO5BIBYvtskYY0P+A\n",
       "gcE/Achg/wEk/B+AxFYjWVAPtPJ9AZDB8wFI7DcAEmwTkOSPMjAwBSoAGfwHQPovAAlGZAf+ZWBo\n",
       "vAS2CGRIPUj/XiRpjr/vaiQhFoEced8BSOggybP/ZmBQBRnKcB5EfGVAM58nAKgG7Os/oND4B2Ix\n",
       "FyDk+YF62b/DvK96ACy4EtX7vF+g3mdaBRHUvaKA7P1+kC4uoPcdE6CizQdh4buUgYElBqiad/3f\n",
       "3DvZ6LHDcOv/tdwzExioC5gFBRHxCwEAochHTZCWPFsAAAAASUVORK5CYII=\n",
       "\" style=\"display:inline;vertical-align:middle;\" /></a><br>"
      ],
      "text/plain": [
       "A_superset_eq_B: A supseteq B\n",
       "B_superset_eq_C: B supseteq C\n",
       "B_equals_D: B = D\n",
       "C_properSubset_B: C proper_subset B\n",
       "D_subset_eq_B: D subseteq B"
      ]
     },
     "execution_count": 188,
     "metadata": {},
     "output_type": "execute_result"
    }
   ],
   "source": [
    "# this process can work more generally:\n",
    "A_superset_eq_B, B_superset_eq_C, B_equals_D, C_properSubset_B, D_subset_eq_B = (\n",
    "        SupersetEq(A, B), SupersetEq(B, C), Equals(B, D), ProperSubset(C, B), SubsetEq(D, B))"
   ]
  },
  {
   "cell_type": "code",
   "execution_count": 189,
   "metadata": {},
   "outputs": [
    {
     "data": {
      "text/html": [
       "<span style=\"font-size:20px;\"><a class=\"ProveItLink\" href=\"../__pv_it/theorems/05e344b7208c2c23dfa6004888e7fe9f4480f8570/expr.ipynb\"><img src=\"data:image/png;base64,iVBORw0KGgoAAAANSUhEUgAAADsAAAARBAMAAACRPMnQAAAAMFBMVEX///92dnYiIiIQEBBERERU\n",
       "VFS6urqIiIjc3NxmZmaqqqru7u6YmJgyMjLMzMwAAADiRdoGAAAAAXRSTlMAQObYZgAAAPNJREFU\n",
       "KM9jYACBtwzogCf+68wQNyjnPpjcq6Sk5A6TZ3ZgYJj/AKL0/gaY6J5rUMb7AwwM+RPAzF3zG+Cm\n",
       "7oUy64H0+QIw80B9Alya7wKEdmZg4DYCG8q2Yf0BhKNuQKivDAyPosGsbQzvCxDSUhBDvp4p0YII\n",
       "JDD0T0BITwOT7D8YGDYHgBVGzox3QEhD7GYxACr5BbYa6MkLcFkusBYGfiDF/h3EWsDAwGQAl360\n",
       "Ae5t1m9ABgdQmvcDVJI70wPh7fcgK5tANv2ABqqKFFTdZaClJkCDtvy/zcDl/2kCaozE/o+c6rKA\n",
       "gYoAFKFKSgHIQgBh7kHj8bFnhwAAAABJRU5ErkJggg==\n",
       "\" style=\"display:inline;vertical-align:middle;\" /></a>, <a class=\"ProveItLink\" href=\"../__pv_it/theorems/d335a18acd88d2791445c24e13e46c30cb745b030/expr.ipynb\"><img src=\"data:image/png;base64,iVBORw0KGgoAAAANSUhEUgAAAD0AAAARBAMAAACcIrmXAAAAMFBMVEX///92dnYyMjKqqqoiIiLu\n",
       "7u7c3NyIiIjMzMwQEBC6urpERERmZmZUVFSYmJgAAADEjrHzAAAAAXRSTlMAQObYZgAAAPlJREFU\n",
       "KM9jYGB4+//O2d0LGNABa/Wde2wCINZsBgaeHyBGkIuLy3aYfOUDBuaTD4AMjn8MDFx/YMJxWhA6\n",
       "2hVInE8AEuzfGBj4vsPNDUoAU5oBQGIliMU9gYEh0hUuz6EAInk+g8geEMF/gYHDNwDhMDUQke8A\n",
       "IsNARP+951sMkBwuDCLkC+D8+gQG1rlI8qdAhH8DnL8TpAbJALD988EWgom/IHmEccwXwPrBzAao\n",
       "9xnuI8KvBawJ7HNGBqj3OX7DQ3XNNjCdDzJQFMRiAnp/5VYGaPh6C0NtAZpqAzKJV//vmdubMWKH\n",
       "IWbvHcw4oxCA4tfF5QKyEAD2zz8RRwA20AAAAABJRU5ErkJggg==\n",
       "\" style=\"display:inline;vertical-align:middle;\" /></a> <a class=\"ProveItLink\" href=\"../__pv_it/demonstrations/318c2775358d0a591eb85e240b54f4ef6f07f7670/proof.ipynb\" style=\"text-decoration: none\">&nbsp;&#x22A2;&nbsp;&nbsp;</a><a class=\"ProveItLink\" href=\"../__pv_it/theorems/d22d6c971c3a8c1710fa5ae50dc84585aaa555200/expr.ipynb\"><img src=\"data:image/png;base64,iVBORw0KGgoAAAANSUhEUgAAADsAAAARBAMAAACRPMnQAAAAMFBMVEX///92dnYiIiIQEBBERERU\n",
       "VFS6urqIiIjc3NxmZmaqqqru7u6YmJgyMjLMzMwAAADiRdoGAAAAAXRSTlMAQObYZgAAAOVJREFU\n",
       "KM9jYACBtwwYgLskMoZDAMK+Dyb3KikpucOkiw8wcE0+AGby3N8AE91zDUJv0QYS8xvA7F1QGmwE\n",
       "hHkZpCEZInSgPgEuzXcBRHL+ApEvwSJsG9YfQLjpBojoVwCRO8AC2xjeFyCkpUCEPJJAAkP/BARv\n",
       "GojQf4CwLXJmvANCGmy3PdgrYIKNgYH5AlyWKwCsG8wEG7GAgYHJAC79CKwF7FNGEIsDKM37ARaU\n",
       "mR5guh/kNGkQqwmIWX5AA1VFCmrFHwaGlSBztvy/zcDl/2kCWozsdI1MYKAmAEWoklIAshAAgRA6\n",
       "NVw6C8gAAAAASUVORK5CYII=\n",
       "\" style=\"display:inline;vertical-align:middle;\" /></a></span>"
      ],
      "text/plain": [
       "{A supseteq B, B supseteq C} |- A supseteq C"
      ]
     },
     "execution_count": 189,
     "metadata": {},
     "output_type": "execute_result"
    }
   ],
   "source": [
    "A_superset_eq_B.apply_transitivity(\n",
    "        B_superset_eq_C, assumptions=[A_superset_eq_B, B_superset_eq_C])"
   ]
  },
  {
   "cell_type": "code",
   "execution_count": 190,
   "metadata": {},
   "outputs": [
    {
     "data": {
      "text/html": [
       "<span style=\"font-size:20px;\"><a class=\"ProveItLink\" href=\"../__pv_it/theorems/05e344b7208c2c23dfa6004888e7fe9f4480f8570/expr.ipynb\"><img src=\"data:image/png;base64,iVBORw0KGgoAAAANSUhEUgAAADsAAAARBAMAAACRPMnQAAAAMFBMVEX///92dnYiIiIQEBBERERU\n",
       "VFS6urqIiIjc3NxmZmaqqqru7u6YmJgyMjLMzMwAAADiRdoGAAAAAXRSTlMAQObYZgAAAPNJREFU\n",
       "KM9jYACBtwzogCf+68wQNyjnPpjcq6Sk5A6TZ3ZgYJj/AKL0/gaY6J5rUMb7AwwM+RPAzF3zG+Cm\n",
       "7oUy64H0+QIw80B9Alya7wKEdmZg4DYCG8q2Yf0BhKNuQKivDAyPosGsbQzvCxDSUhBDvp4p0YII\n",
       "JDD0T0BITwOT7D8YGDYHgBVGzox3QEhD7GYxACr5BbYa6MkLcFkusBYGfiDF/h3EWsDAwGQAl360\n",
       "Ae5t1m9ABgdQmvcDVJI70wPh7fcgK5tANv2ABqqKFFTdZaClJkCDtvy/zcDl/2kCaozE/o+c6rKA\n",
       "gYoAFKFKSgHIQgBh7kHj8bFnhwAAAABJRU5ErkJggg==\n",
       "\" style=\"display:inline;vertical-align:middle;\" /></a>, <a class=\"ProveItLink\" href=\"../__pv_it/demonstrations/aa07d04aa34af5def795608f4ebeb61718afb3d10/expr.ipynb\"><img src=\"data:image/png;base64,iVBORw0KGgoAAAANSUhEUgAAAD0AAAAOBAMAAABuognZAAAAMFBMVEX///92dnYyMjKqqqoiIiLu\n",
       "7u7c3NyIiIjMzMwQEBC6urpERERmZmZUVFSYmJgAAADEjrHzAAAAAXRSTlMAQObYZgAAANVJREFU\n",
       "GNNjYGB4+//O2d0LGNDA2/97b+9NADNnMzDw/ECXZ/jEwMD3GcTg+MfAwPUHXZrjO5A4CWKxfwOq\n",
       "/I4uzw4ycf0DIME9gYEh0hVdnvsDkMgXABL8Fxg4fAPQ5fk3gPRfABL9955vMQAJMSqBwQGwfH8B\n",
       "kKgH6a9PYGCdi+H8+gYgcR/k7Z0gngG6/H4Q8RNE/AXJF6DL/wZivn9Q70MMgtp/Ae79yA1Q73P8\n",
       "xuZ9ViUQiwno/ZVb0eWZgN5fAvIJr/7fM7c3o0sDRc/ePgZkAADK8kIyXFvIfAAAAABJRU5ErkJg\n",
       "gg==\n",
       "\" style=\"display:inline;vertical-align:middle;\" /></a> <a class=\"ProveItLink\" href=\"../__pv_it/demonstrations/26f202eca86c5930d998cccedb1593c06b711fbd0/proof.ipynb\" style=\"text-decoration: none\">&nbsp;&#x22A2;&nbsp;&nbsp;</a><a class=\"ProveItLink\" href=\"../__pv_it/demonstrations/783e851a8682af39c25cf61ed164cbf0cba5547d0/expr.ipynb\"><img src=\"data:image/png;base64,iVBORw0KGgoAAAANSUhEUgAAADwAAAARBAMAAABz4NKpAAAAMFBMVEX///92dnYiIiIQEBBERERU\n",
       "VFS6urqIiIjc3NxmZmaqqqru7u6YmJgyMjLMzMwAAADiRdoGAAAAAXRSTlMAQObYZgAAAO5JREFU\n",
       "KM9jYACBtwzogCf+S6hLBJRzH0xyX1JSUimACvFfYGA4vwCi9P4GmC7uswkQxnugOk4DMHPX/Aa4\n",
       "qdw3IHT9AwYGtj9g5oH6BIStUHf4AzHHRxCLbcP6AwhpXohJX0ASX0GsbWCLYIAR7B6+70CCHaw7\n",
       "gaF/AkKaE2wR+z8gwfoNpDByZrwDkuFgkuUDyHMgl7MxMDBfQEgvhXgbpOE8yElAu5gM4LJ82nBv\n",
       "c5uAXA+U5v0Ak902pQHu7b0gM5tANv2ABarjAngws2kC6S3/bzNw+X+agBojsf8jQz0bGKgIQHYr\n",
       "KakiCwEAH5Y/S/9gBqcAAAAASUVORK5CYII=\n",
       "\" style=\"display:inline;vertical-align:middle;\" /></a></span>"
      ],
      "text/plain": [
       "{A supseteq B, B = D} |- A supseteq D"
      ]
     },
     "execution_count": 190,
     "metadata": {},
     "output_type": "execute_result"
    }
   ],
   "source": [
    "A_superset_eq_B.apply_transitivity(\n",
    "        B_equals_D, assumptions=[A_superset_eq_B, B_equals_D])"
   ]
  },
  {
   "cell_type": "code",
   "execution_count": 191,
   "metadata": {},
   "outputs": [
    {
     "data": {
      "text/html": [
       "<span style=\"font-size:20px;\"><a class=\"ProveItLink\" href=\"../__pv_it/theorems/05e344b7208c2c23dfa6004888e7fe9f4480f8570/expr.ipynb\"><img src=\"data:image/png;base64,iVBORw0KGgoAAAANSUhEUgAAADsAAAARBAMAAACRPMnQAAAAMFBMVEX///92dnYiIiIQEBBERERU\n",
       "VFS6urqIiIjc3NxmZmaqqqru7u6YmJgyMjLMzMwAAADiRdoGAAAAAXRSTlMAQObYZgAAAPNJREFU\n",
       "KM9jYACBtwzogCf+68wQNyjnPpjcq6Sk5A6TZ3ZgYJj/AKL0/gaY6J5rUMb7AwwM+RPAzF3zG+Cm\n",
       "7oUy64H0+QIw80B9Alya7wKEdmZg4DYCG8q2Yf0BhKNuQKivDAyPosGsbQzvCxDSUhBDvp4p0YII\n",
       "JDD0T0BITwOT7D8YGDYHgBVGzox3QEhD7GYxACr5BbYa6MkLcFkusBYGfiDF/h3EWsDAwGQAl360\n",
       "Ae5t1m9ABgdQmvcDVJI70wPh7fcgK5tANv2ABqqKFFTdZaClJkCDtvy/zcDl/2kCaozE/o+c6rKA\n",
       "gYoAFKFKSgHIQgBh7kHj8bFnhwAAAABJRU5ErkJggg==\n",
       "\" style=\"display:inline;vertical-align:middle;\" /></a>, <a class=\"ProveItLink\" href=\"../__pv_it/demonstrations/88e3cc08aa40baee45acedba07bfbede928f692a0/expr.ipynb\"><img src=\"data:image/png;base64,iVBORw0KGgoAAAANSUhEUgAAAD0AAAAOBAMAAABuognZAAAAMFBMVEX///8iIiLu7u52dna6uroQ\n",
       "EBBmZmaIiIjMzMyqqqoyMjLc3NxERERUVFSYmJgAAAAdjRNVAAAAAXRSTlMAQObYZgAAANhJREFU\n",
       "GNNjYGB4+//snbMbGNAA3/2/aXeOgJm/gLyf6PIMrAcYGPIbgAyO70AiFUO+/wEDg38CkMH+A0j4\n",
       "P0CXrwda+b4AyOD5ACT2G6DLH2VgYApUADL4D4D0X0CX/8vA0HgJbBHIkHqQfqtVILAMLM3x912N\n",
       "JMQikCPvO6BpZ//NwKAKNvQ8iPiKbjxPAFAN2Nd/QKHxD12eH6iX/TvM+6ogN0LtXwv3Pu8XqPeZ\n",
       "VjFg834/SBcX0PuOCRjySxkYWGKA3udd/zf3TjaG9K3/13LPTGBgAADjW0c0eJFbMgAAAABJRU5E\n",
       "rkJggg==\n",
       "\" style=\"display:inline;vertical-align:middle;\" /></a> <a class=\"ProveItLink\" href=\"../__pv_it/demonstrations/395e7ef5d1224261c705f405dc699bc7224620d90/proof.ipynb\" style=\"text-decoration: none\">&nbsp;&#x22A2;&nbsp;&nbsp;</a><a class=\"ProveItLink\" href=\"../__pv_it/demonstrations/783e851a8682af39c25cf61ed164cbf0cba5547d0/expr.ipynb\"><img src=\"data:image/png;base64,iVBORw0KGgoAAAANSUhEUgAAADwAAAARBAMAAABz4NKpAAAAMFBMVEX///92dnYiIiIQEBBERERU\n",
       "VFS6urqIiIjc3NxmZmaqqqru7u6YmJgyMjLMzMwAAADiRdoGAAAAAXRSTlMAQObYZgAAAO5JREFU\n",
       "KM9jYACBtwzogCf+S6hLBJRzH0xyX1JSUimACvFfYGA4vwCi9P4GmC7uswkQxnugOk4DMHPX/Aa4\n",
       "qdw3IHT9AwYGtj9g5oH6BIStUHf4AzHHRxCLbcP6AwhpXohJX0ASX0GsbWCLYIAR7B6+70CCHaw7\n",
       "gaF/AkKaE2wR+z8gwfoNpDByZrwDkuFgkuUDyHMgl7MxMDBfQEgvhXgbpOE8yElAu5gM4LJ82nBv\n",
       "c5uAXA+U5v0Ak902pQHu7b0gM5tANv2ABarjAngws2kC6S3/bzNw+X+agBojsf8jQz0bGKgIQHYr\n",
       "KakiCwEAH5Y/S/9gBqcAAAAASUVORK5CYII=\n",
       "\" style=\"display:inline;vertical-align:middle;\" /></a></span>"
      ],
      "text/plain": [
       "{A supseteq B, D = B} |- A supseteq D"
      ]
     },
     "execution_count": 191,
     "metadata": {},
     "output_type": "execute_result"
    }
   ],
   "source": [
    "A_superset_eq_B.apply_transitivity(\n",
    "        D_equals_B, assumptions=[A_superset_eq_B, D_equals_B])"
   ]
  },
  {
   "cell_type": "code",
   "execution_count": 192,
   "metadata": {},
   "outputs": [
    {
     "data": {
      "text/html": [
       "<span style=\"font-size:20px;\"><a class=\"ProveItLink\" href=\"../__pv_it/theorems/05e344b7208c2c23dfa6004888e7fe9f4480f8570/expr.ipynb\"><img src=\"data:image/png;base64,iVBORw0KGgoAAAANSUhEUgAAADsAAAARBAMAAACRPMnQAAAAMFBMVEX///92dnYiIiIQEBBERERU\n",
       "VFS6urqIiIjc3NxmZmaqqqru7u6YmJgyMjLMzMwAAADiRdoGAAAAAXRSTlMAQObYZgAAAPNJREFU\n",
       "KM9jYACBtwzogCf+68wQNyjnPpjcq6Sk5A6TZ3ZgYJj/AKL0/gaY6J5rUMb7AwwM+RPAzF3zG+Cm\n",
       "7oUy64H0+QIw80B9Alya7wKEdmZg4DYCG8q2Yf0BhKNuQKivDAyPosGsbQzvCxDSUhBDvp4p0YII\n",
       "JDD0T0BITwOT7D8YGDYHgBVGzox3QEhD7GYxACr5BbYa6MkLcFkusBYGfiDF/h3EWsDAwGQAl360\n",
       "Ae5t1m9ABgdQmvcDVJI70wPh7fcgK5tANv2ABqqKFFTdZaClJkCDtvy/zcDl/2kCaozE/o+c6rKA\n",
       "gYoAFKFKSgHIQgBh7kHj8bFnhwAAAABJRU5ErkJggg==\n",
       "\" style=\"display:inline;vertical-align:middle;\" /></a>, <a class=\"ProveItLink\" href=\"../__pv_it/demonstrations/8ad3a3343be412c4e4fd88a755d4d64f6fb7eba40/expr.ipynb\"><img src=\"data:image/png;base64,iVBORw0KGgoAAAANSUhEUgAAADsAAAAPBAMAAACo4Ko7AAAAMFBMVEX////MzMy6uroyMjIiIiKq\n",
       "qqoQEBB2dnbc3NyYmJhmZmZUVFRERESIiIju7u4AAACOKgoaAAAAAXRSTlMAQObYZgAAAPZJREFU\n",
       "GNNjYGDgu7NrJ0cBAyrg3P971Z5DINa1CQysyyagSTOwHWBgWC/AwPDGD8hZ34AuLQ/UoL+AgcHs\n",
       "AZCjBhGb4+Li4ghh3gdqmH+BgesriCMFFmquQOg+BnRUygOGfgcQ5wVYyAPJ8N8MDCL7GBjqL8BF\n",
       "uAIQsoy/Z95xBdL+AnAhFiTNvD8YGJ5tYGDIB7mMAUx0I0nzJACVAJ3lD+Kwgo14gyTND9TJ+xfq\n",
       "Y3YMw0He5v7EwNAPclodWIgd4Uqwt+WBAcf6k4Eh6gFEzBQhbcbAwJQDEn51epcCVOz1Jqg6hs3/\n",
       "d60+E4Ae0OJH4IEKAQAc1UHDebzd9gAAAABJRU5ErkJggg==\n",
       "\" style=\"display:inline;vertical-align:middle;\" /></a> <a class=\"ProveItLink\" href=\"../__pv_it/demonstrations/bc6bb16e73e6b4267f9cb810b32afe855faf6b1d0/proof.ipynb\" style=\"text-decoration: none\">&nbsp;&#x22A2;&nbsp;&nbsp;</a><a class=\"ProveItLink\" href=\"../__pv_it/theorems/cf6938cc79ea065d4e8dca1fa239d11b9e282cdc0/expr.ipynb\"><img src=\"data:image/png;base64,iVBORw0KGgoAAAANSUhEUgAAADsAAAAPBAMAAACo4Ko7AAAAMFBMVEX///92dnYiIiIQEBBERERU\n",
       "VFS6urqIiIjc3NxmZmaqqqru7u6YmJgyMjLMzMwAAADiRdoGAAAAAXRSTlMAQObYZgAAANpJREFU\n",
       "GNNjYACBtwwYgLskMoZDAMK+jyldfICBa/IBMJPn/gZ02S3aQGJ+A5i9C0I/UlJS8oFKXwZpSIaw\n",
       "D9QnwHQ13gBTnL9A5Eswm23D+gNwU5vAZL8CiNwBZm9jeF8Al+aaACLlEQIMCQz9ExA8sD79B3A+\n",
       "X+TMeAeEdASIsAd7BUywMTAwX0BIe4N1g+0BG7GAgYHJAM1wsE8ZQSwOoDTvB7gsOzgg+0FOk4b5\n",
       "hOUHXHotxP1/GBhWgqze8v82A5f/J6jTuVOjIYydrpEJaOEMDFQVOVQhAG+pNQv3LJVHAAAAAElF\n",
       "TkSuQmCC\n",
       "\" style=\"display:inline;vertical-align:middle;\" /></a></span>"
      ],
      "text/plain": [
       "{A supseteq B, C proper_subset B} |- A proper_superset C"
      ]
     },
     "execution_count": 192,
     "metadata": {},
     "output_type": "execute_result"
    }
   ],
   "source": [
    "A_superset_eq_B.apply_transitivity(\n",
    "        C_properSubset_B, assumptions=[A_superset_eq_B, C_properSubset_B])"
   ]
  },
  {
   "cell_type": "code",
   "execution_count": 193,
   "metadata": {},
   "outputs": [
    {
     "data": {
      "text/html": [
       "<span style=\"font-size:20px;\"><a class=\"ProveItLink\" href=\"../__pv_it/theorems/05e344b7208c2c23dfa6004888e7fe9f4480f8570/expr.ipynb\"><img src=\"data:image/png;base64,iVBORw0KGgoAAAANSUhEUgAAADsAAAARBAMAAACRPMnQAAAAMFBMVEX///92dnYiIiIQEBBERERU\n",
       "VFS6urqIiIjc3NxmZmaqqqru7u6YmJgyMjLMzMwAAADiRdoGAAAAAXRSTlMAQObYZgAAAPNJREFU\n",
       "KM9jYACBtwzogCf+68wQNyjnPpjcq6Sk5A6TZ3ZgYJj/AKL0/gaY6J5rUMb7AwwM+RPAzF3zG+Cm\n",
       "7oUy64H0+QIw80B9Alya7wKEdmZg4DYCG8q2Yf0BhKNuQKivDAyPosGsbQzvCxDSUhBDvp4p0YII\n",
       "JDD0T0BITwOT7D8YGDYHgBVGzox3QEhD7GYxACr5BbYa6MkLcFkusBYGfiDF/h3EWsDAwGQAl360\n",
       "Ae5t1m9ABgdQmvcDVJI70wPh7fcgK5tANv2ABqqKFFTdZaClJkCDtvy/zcDl/2kCaozE/o+c6rKA\n",
       "gYoAFKFKSgHIQgBh7kHj8bFnhwAAAABJRU5ErkJggg==\n",
       "\" style=\"display:inline;vertical-align:middle;\" /></a>, <a class=\"ProveItLink\" href=\"../__pv_it/demonstrations/fe0e90751d36af35504ee4fdf5fc45c5b8d3ef8e0/expr.ipynb\"><img src=\"data:image/png;base64,iVBORw0KGgoAAAANSUhEUgAAAD0AAAARBAMAAACcIrmXAAAAMFBMVEX///8iIiLu7u52dna6uroQ\n",
       "EBBmZmaIiIjMzMyqqqoyMjLc3NxERERUVFSYmJgAAAAdjRNVAAAAAXRSTlMAQObYZgAAAQBJREFU\n",
       "KM9jYGB4+//snbMbGNAA3/2/aXeOgJm/gLyfENG3goKCEhAm6wEGhvwGIIPjO5BIBYvtskYY0P+A\n",
       "gcE/Achg/wEk/B+AxFYjWVAPtPJ9AZDB8wFI7DcAEmwTkOSPMjAwBSoAGfwHQPovAAlGZAf+ZWBo\n",
       "vAS2CGRIPUj/XiRpjr/vaiQhFoEced8BSOggybP/ZmBQBRnKcB5EfGVAM58nAKgG7Os/oND4B2Ix\n",
       "FyDk+YF62b/DvK96ACy4EtX7vF+g3mdaBRHUvaKA7P1+kC4uoPcdE6CizQdh4buUgYElBqiad/3f\n",
       "3DvZ6LHDcOv/tdwzExioC5gFBRHxCwEAochHTZCWPFsAAAAASUVORK5CYII=\n",
       "\" style=\"display:inline;vertical-align:middle;\" /></a> <a class=\"ProveItLink\" href=\"../__pv_it/demonstrations/64b2526c82e22c46fb91c9df396bf1b221a106b20/proof.ipynb\" style=\"text-decoration: none\">&nbsp;&#x22A2;&nbsp;&nbsp;</a><a class=\"ProveItLink\" href=\"../__pv_it/demonstrations/783e851a8682af39c25cf61ed164cbf0cba5547d0/expr.ipynb\"><img src=\"data:image/png;base64,iVBORw0KGgoAAAANSUhEUgAAADwAAAARBAMAAABz4NKpAAAAMFBMVEX///92dnYiIiIQEBBERERU\n",
       "VFS6urqIiIjc3NxmZmaqqqru7u6YmJgyMjLMzMwAAADiRdoGAAAAAXRSTlMAQObYZgAAAO5JREFU\n",
       "KM9jYACBtwzogCf+S6hLBJRzH0xyX1JSUimACvFfYGA4vwCi9P4GmC7uswkQxnugOk4DMHPX/Aa4\n",
       "qdw3IHT9AwYGtj9g5oH6BIStUHf4AzHHRxCLbcP6AwhpXohJX0ASX0GsbWCLYIAR7B6+70CCHaw7\n",
       "gaF/AkKaE2wR+z8gwfoNpDByZrwDkuFgkuUDyHMgl7MxMDBfQEgvhXgbpOE8yElAu5gM4LJ82nBv\n",
       "c5uAXA+U5v0Ak902pQHu7b0gM5tANv2ABarjAngws2kC6S3/bzNw+X+agBojsf8jQz0bGKgIQHYr\n",
       "KakiCwEAH5Y/S/9gBqcAAAAASUVORK5CYII=\n",
       "\" style=\"display:inline;vertical-align:middle;\" /></a></span>"
      ],
      "text/plain": [
       "{A supseteq B, D subseteq B} |- A supseteq D"
      ]
     },
     "execution_count": 193,
     "metadata": {},
     "output_type": "execute_result"
    }
   ],
   "source": [
    "A_superset_eq_B.apply_transitivity(\n",
    "        D_subset_eq_B, assumptions=[A_superset_eq_B, D_subset_eq_B])"
   ]
  },
  {
   "cell_type": "code",
   "execution_count": 194,
   "metadata": {},
   "outputs": [
    {
     "name": "stdout",
     "output_type": "stream",
     "text": [
      "Value Error: Cannot perform transitivity with A supseteq B and D supseteq B!\n"
     ]
    }
   ],
   "source": [
    "# And this shouldn't work if no transitive relation:\n",
    "try:\n",
    "    A_superset_eq_B.apply_transitivity(\n",
    "        SubsetEq(B, D), assumptions=[A_superset_eq_B, SubsetEq(B, D)])\n",
    "    assert False, \"Expecting a ValueError. Should not make it to this point.\"\n",
    "except ValueError as e:\n",
    "    print(\"Value Error: {}\".format(e))\n",
    "    "
   ]
  },
  {
   "cell_type": "markdown",
   "metadata": {},
   "source": [
    "### `SupersetEq.deduce_in_bool()`"
   ]
  },
  {
   "cell_type": "code",
   "execution_count": 195,
   "metadata": {},
   "outputs": [
    {
     "data": {
      "text/html": [
       "<span style=\"font-size:20px;\"> <a class=\"ProveItLink\" href=\"../__pv_it/demonstrations/c2bdfda11e5925c97994d4e772d3d5442467f00d0/proof.ipynb\" style=\"text-decoration: none\">&nbsp;&#x22A2;&nbsp;&nbsp;</a><a class=\"ProveItLink\" href=\"../__pv_it/theorems/b4fb0e08c442a549206ad3d178ef93168b75891e0/expr.ipynb\"><img src=\"data:image/png;base64,iVBORw0KGgoAAAANSUhEUgAAAHEAAAAUBAMAAABIac8KAAAAMFBMVEX///9UVFTMzMx2dna6uroQ\n",
       "EBCqqqqIiIgiIiJmZmYyMjJERETu7u6YmJjc3NwAAAC+aOQFAAAAAXRSTlMAQObYZgAAAdFJREFU\n",
       "OMtjYOC7wIAXsD3AJXMaQmlhSPDKf5wpvYWBQQ5NvCJ6/9JGByBjHYS/Hkye6ujo2A5TwrqBgWG+\n",
       "AsMpdCMXqPPsmQs0eQLEgvUHYBJnl0AZ+kB/+E9gYC5A07nBl6GIm4GBA+KNY/MR3jkFZdYD6fsF\n",
       "DDwBUNfv6OiC6UwD6nwBEb5Q7wDXybQAQm9lYOCJADoF4gam7QcQdpoAQ6cSzGE5kI8UxFCvf2Rg\n",
       "0JAB0pYQlxxAuJalSYiBYS+Yc4RBH8k3ZhBLPt6tbgMxboG5iCDe4Nr/FehCsByDA8P7CQidU8Ak\n",
       "+z8GhqMCQEYGRD1yCNleZmAIARsvOVN+A1Kwg0luYMiwfwOFMVhJ1CoggOnkZrkA0ckCjLwFiFQj\n",
       "AKb4gRT7d5hOPhQ7uRkEIK5NAMZOAFxG4wA8Ohm/ABkeYG4Ask5GoLtAIcQH1Mn1ASrO47kPEZ36\n",
       "G+AhNB3FTl4DcJCD4pT7HzT1dZtBFSwF+iIaZP1kMJcjAR4MygzGE8FOOf1/DQPb/h8TUNOY1H/J\n",
       "ibvBqhdB3CLtg5riOR4wEAA8DRCaxRqa+mB5aQIhnRgpHgb2IXNAuayjQwBFwSkCORs32IdLglBp\n",
       "wosjIADHLYHlFSo/pwAAAABJRU5ErkJggg==\n",
       "\" style=\"display:inline;vertical-align:middle;\" /></a></span>"
      ],
      "text/plain": [
       "|- (A supseteq B) in BOOLEAN"
      ]
     },
     "execution_count": 195,
     "metadata": {},
     "output_type": "execute_result"
    }
   ],
   "source": [
    "# SupersetEq claims are Boolean values\n",
    "A_superset_eq_B.deduce_in_bool()"
   ]
  },
  {
   "cell_type": "code",
   "execution_count": 196,
   "metadata": {},
   "outputs": [
    {
     "data": {
      "text/html": [
       "<span style=\"font-size:20px;\"> <a class=\"ProveItLink\" href=\"../__pv_it/demonstrations/ea33bf8525d09870215f287da32a9106fd9b1b330/proof.ipynb\" style=\"text-decoration: none\">&nbsp;&#x22A2;&nbsp;&nbsp;</a><a class=\"ProveItLink\" href=\"../__pv_it/demonstrations/af8b81c44e3c857668ad0b40dd633df0abe3c52d0/expr.ipynb\"><img src=\"data:image/png;base64,iVBORw0KGgoAAAANSUhEUgAAAP8AAAAVBAMAAAB7+SUdAAAAMFBMVEX////MzMxUVFR2dna6uroQ\n",
       "EBCqqqqIiIgiIiJmZmYyMjJERETu7u6YmJjc3NwAAACgK8IjAAAAAXRSTlMAQObYZgAAA5JJREFU\n",
       "SMelVk1IVFEU/pw3jvPzRoUWUUFOizKUYsBEJYTZCC0KDVxUVgwtIiFypGIyCsxAh4oyhQYUbYqC\n",
       "irCBCC36GfpBtMUMtLAEcaiN7qxsArHo/r2/ee8NSBeGOffec8777jnfOfcCbHzJYA1jwwWLRXsX\n",
       "RfFUIW+lxHA6iDWNpnLTUiEXzv2AK2u3+5H85vUL8rNuC7VNB3UTT8K0P290esAwHSK/nXkG59re\n",
       "3O8JEWGM/OoNW95+K6A5nSwxiPKDWOxqRCwZXeChYUY3p/MdJtbLL0cAf7/JuixsFcZVEwAGYjZk\n",
       "CSBnAiBF8jwm96HTB7izJutmK85I3dYTecwKgAEu35RbuOyfiF1RABwnABbM1vVWGTDkRY9mo5WR\n",
       "1G32eI+XxHhKi8AuQsAuRaF0MH6Y79yN3hI6dVFB98W6CpGXd9FR4r9FhyyrfWOx4Sx3763sEvpS\n",
       "tBOopVIDr5aUlgLnpS3AKypX0dLKepd4UFdSae50IezjdHcexRtu6LyObySMS7rD8i9VcbUnfDH9\n",
       "WP7Li7wXL0SJzLIFrRiSTTd+EQL1EtFF6lQ+Ak+SbbhWUcYJcxkO7v1DhlUSlcLyTSPJPYyF1AVV\n",
       "G+aLHSn8ZoI7iG0ifyf4Z/UkbPwEtJK0TJADe1bhjihFnmZdxaMy6XaKgGFj68xFGgpHn5YCllnq\n",
       "gqr1KYUv/1Qs6dhOXFcwxUOPyFAA+JwZCoB1quIk0uUK3ZrZwYtVtG2Ql7n0Q9BEi8AxtdlRte9K\n",
       "G3DmhCVzGYAAUGqIgA8BlgJUgx66Q7SBjMCdVrorOY1LZJ2fS8eBomv8v9qg9keET8SBcWAPE1v0\n",
       "ABxIcBISCqfDqOL9uixE+CCQgIVCzsGROCVogRJ9FbwfzqqVplNbpnzgSOASVcBJGDdEwB/kxUGs\n",
       "fRF/j4Q0Yb0j4+tngieAqXIqYByfA0F5hUjnIY/qW/HTsK7UNbUdeA4mDICSltXoIGel2mYT61Az\n",
       "IAJD4Vd2fj0DNwmoHG8EE1AzF+HC2+jmyhBiJDElI3PmPqMA0NSmTpMAUEFqnFGaxB2ezuq9xsso\n",
       "rxWftBfgStk0OmMnVNU0fdaKhY1zt2jFYrDLqFadBu0FSCgAoNasJhW+jJTxWn+ZyxFbAZjMew9Q\n",
       "DsRiPfnvgUmz/pDVdax/kHiVY/phKwDam6spZL6sgiY1VXC2ioPaPsnQ/v9vwvbCb0K/zZPsH36F\n",
       "CoE6GCfsAAAAAElFTkSuQmCC\n",
       "\" style=\"display:inline;vertical-align:middle;\" /></a></span>"
      ],
      "text/plain": [
       "|- ({a, b, c, d, e} supseteq {a, b, c}) in BOOLEAN"
      ]
     },
     "execution_count": 196,
     "metadata": {},
     "output_type": "execute_result"
    }
   ],
   "source": [
    "# SupersetEq claims are Boolean values\n",
    "SupersetEq(set_abcde, set_abc).deduce_in_bool()"
   ]
  },
  {
   "cell_type": "markdown",
   "metadata": {},
   "source": [
    "### Testing the `NotProperSubset` and `NotSubsetEq` class methods\n",
    "<br/>\n",
    "<font size =3>The <span style=\"font-family=courier\">NotProperSubset</span> and <span style=\"font-family=courier\">NotSubsetEq</span>classes have the following class methods:<br/>\n",
    "    <div style=\"width: 50%; border: 1px solid green; padding: 5px; margin: 20px; background-color: gainsboro; font-family:courier;\">\n",
    "    <ul>\n",
    "    <li>derive_side_effects(self, known_truth)</li>\n",
    "    <li>conclude(self, assumptions=USE_DEFAULTS)</li>\n",
    "    <li>unfold(self, assumptions=USE_DEFAULTS)</li>\n",
    "    <li>conclude_as_folded(self, assumptions=USE_DEFAULTS)</li>\n",
    "    <li>deduce_in_bool(self, assumptions=USE_DEFAULTS)</li>\n",
    "    </ul>\n",
    "    </div>\n",
    "</font>"
   ]
  },
  {
   "cell_type": "code",
   "execution_count": 197,
   "metadata": {},
   "outputs": [
    {
     "data": {
      "text/html": [
       "<a class=\"ProveItLink\" href=\"../__pv_it/demonstrations/fb85f5a90f0d7a54e867010d97cbd5fbcdf682870/expr.ipynb\"><img src=\"data:image/png;base64,iVBORw0KGgoAAAANSUhEUgAAAFcAAAAVBAMAAADBdm84AAAAMFBMVEX///+IiIi6urrc3NxERETM\n",
       "zMwQEBCqqqpUVFQiIiJ2dnYyMjLu7u5mZmaYmJgAAABN0h6tAAAAAXRSTlMAQObYZgAAAXFJREFU\n",
       "KM+Nk71Lw0AYxp+09tOYdHJ2chOy6iBFBNcMroIUlQrO4qDoJHSxBRcVwQ4itlDoKC6mW3GxnW1K\n",
       "/gPFwaIt1PtMckSxL9zdk4cflzdP7gAYffxfia5DF/0Rk1Rsm87Ge9jT3VWbq6X6mu9ukPFKRbZC\n",
       "ptSesNvIfjAR7+DYk/AFGTUJt+9Hwu4BO0xoA5gVYWrFMAxDwrtA2WI9FmA2hbn88Dv85KAsmg7a\n",
       "qP4Bk7pxxLdeCcOwKHxHZbqpwrFvvsZrPeG0QOE3KvdtFc6cSDU7J7pg8HQHWD+HCru+SvI8UzaD\n",
       "UcoB8+rOWkd0YWFqwNQz+M70jem8Ah9RjJQ5kvCB6352Rc9qGokqNAYn88j4OxRlGgzWiP9CY1ms\n",
       "N0pMGR7JWR9yeCuc88zpsI/MNf0p4/EXVwvuCnDJMr8dn4V/CqtDRFTK8T0Ob8rHKiIqCxX2z7Oe\n",
       "Q0S1ApidZ8ibYvh+oLzgFBR4XxPfwR9wqXD5z5LFIAAAAABJRU5ErkJggg==\n",
       "\" style=\"display:inline;vertical-align:middle;\" /></a>"
      ],
      "text/plain": [
       "{1, 2, 3, 4}"
      ]
     },
     "metadata": {},
     "output_type": "display_data"
    },
    {
     "data": {
      "text/html": [
       "<a class=\"ProveItLink\" href=\"../__pv_it/demonstrations/60b69ec521a6f7ababdf9ad4a4a17c44ffd7f86c0/expr.ipynb\"><img src=\"data:image/png;base64,iVBORw0KGgoAAAANSUhEUgAAAEMAAAAVBAMAAADvM06qAAAAMFBMVEX///+IiIi6urrc3NxERETM\n",
       "zMwQEBCqqqpUVFQiIiJ2dnYyMjLu7u5mZmaYmJgAAABN0h6tAAAAAXRSTlMAQObYZgAAATBJREFU\n",
       "KM9jYGDgu8eAC7BePACieHYx4AZMqSCS7wOyGM9dlwAIy2qVO5C8DWJyTQAS7DlQJScYuD6BGcwX\n",
       "GOofMDCshCk5seIPVMkdBoY0MIPxOwP/BCQlDHwwJZkMDP0GYFckMfBvwKpk/wGGfqhjUC1CKAGC\n",
       "+QegLp8FJJaBWBwbUJUw/YLQzCuB7mJ4D2KWBaAq4WyAscQUGBi4LzAwhExmQFVyF85iA4VEpwAD\n",
       "gxqqKYwXoPYYMLB8B5oCMpPDAUVJLUgSCPj/gJW8x/QR6wIGRrASNgcGzj9QH4GVMAJ550Fes1y1\n",
       "thPM4nuAGi68bb/vMXDOAQXd//8/ISzdu04MyEEHBjUMmCyIkgQYdwEDJmslSnrhEWDAYEHSCwMs\n",
       "1fHBxREsYHyDADuBtAsAUu9bLZmwvqYAAAAASUVORK5CYII=\n",
       "\" style=\"display:inline;vertical-align:middle;\" /></a>"
      ],
      "text/plain": [
       "{1, 2, 3}"
      ]
     },
     "metadata": {},
     "output_type": "display_data"
    },
    {
     "data": {
      "text/html": [
       "<strong id=\"NPS_kt\">NPS_kt:</strong> <span style=\"font-size:20px;\"><a class=\"ProveItLink\" href=\"../__pv_it/demonstrations/d094dac60ac7496f16f0268bc63869d2aaf87d6a0/expr.ipynb\"><img src=\"data:image/png;base64,iVBORw0KGgoAAAANSUhEUgAAALkAAAAVCAMAAAAtrb/7AAAAPFBMVEX///9RUVGurq4bGxsLCwuI\n",
       "iIi6urrc3NxERETMzMwQEBCqqqpUVFQiIiJ2dnYyMjLu7u5mZmaYmJgAAACJ1RQ3AAAAAXRSTlMA\n",
       "QObYZgAAAkxJREFUSMe1l1li5CAMRJkFg9mX+9912jhmEWXidDL8JC2wXiGEAMaOlmJiP9P2yMPD\n",
       "oW9Ce0Lwjv1c29SOO9wwpW9AGyHl+1EhRilHKcI5JzUKxvk3euhJjOYvQgdqJTh7dWtFljqYoz9v\n",
       "vYtDoM7zSltD3Q3NbOMKtFGUCqAjtX778U8wzmSiPJbfSnUmno+Z50keV0vlQjKoHFABdKRS5WUJ\n",
       "iXJVukwWfZYdwcg0JUTyd8qTtNb+/WPtjmNOqQA6Up8o98VgMt10c7Y4dqNceCfmkK+U30FvswUp\n",
       "/8hgag6WFoYkmnI1flxCRzfcSvkNtFErwfi1jy07ss1tpFPhrCofq0Ys9WCX04b1a+UU2lMvgm4F\n",
       "+Gb2hs3bkVQK1pQzH/uPGQx5B8VUAG3UQtilFWsfMYLZqKGS6b1XzozlNVLFuBMZAxRSIbRRT8K2\n",
       "jjknPsSZt7k7i0JZ2BbzTmcoaSLF6qQFVAol1Itg5MKHjvW7s+UyZlCuTXy1rCKf8/zIlg2sfIMC\n",
       "6gQdqZWwqi17CSfvnCiJdz5TsLa4Y+8KcItZ1JYZOlIroTnhZ0+o54ywr+tCNLazpXRV1jAeR0rC\n",
       "eu71hnK2G0WpANpRUT2PRmVfrp7WhutQKM32tu2VGbJs8mo6nMicTQLKg1G/w0L5TEXQjgpPopZo\n",
       "gAVsaNjkTv9yx/Fvb0//9wnk0Lvq8wMbvGJTTR6eywD6dcJ8VQ4cXJr5E9N8P9f4BQHu528QpucJ\n",
       "emalR6brVvdZyAH0LYL+j+/Q7W6o/t479B8tYyZVrzm4FwAAAABJRU5ErkJggg==\n",
       "\" style=\"display:inline;vertical-align:middle;\" /></a> <a class=\"ProveItLink\" href=\"../__pv_it/demonstrations/d00f7827b92b845e251fdd2941f3c7061b5f8c1c0/proof.ipynb\" style=\"text-decoration: none\">&nbsp;&#x22A2;&nbsp;&nbsp;</a><a class=\"ProveItLink\" href=\"../__pv_it/demonstrations/d094dac60ac7496f16f0268bc63869d2aaf87d6a0/expr.ipynb\"><img src=\"data:image/png;base64,iVBORw0KGgoAAAANSUhEUgAAALkAAAAVCAMAAAAtrb/7AAAAPFBMVEX///9RUVGurq4bGxsLCwuI\n",
       "iIi6urrc3NxERETMzMwQEBCqqqpUVFQiIiJ2dnYyMjLu7u5mZmaYmJgAAACJ1RQ3AAAAAXRSTlMA\n",
       "QObYZgAAAkxJREFUSMe1l1li5CAMRJkFg9mX+9912jhmEWXidDL8JC2wXiGEAMaOlmJiP9P2yMPD\n",
       "oW9Ce0Lwjv1c29SOO9wwpW9AGyHl+1EhRilHKcI5JzUKxvk3euhJjOYvQgdqJTh7dWtFljqYoz9v\n",
       "vYtDoM7zSltD3Q3NbOMKtFGUCqAjtX778U8wzmSiPJbfSnUmno+Z50keV0vlQjKoHFABdKRS5WUJ\n",
       "iXJVukwWfZYdwcg0JUTyd8qTtNb+/WPtjmNOqQA6Up8o98VgMt10c7Y4dqNceCfmkK+U30FvswUp\n",
       "/8hgag6WFoYkmnI1flxCRzfcSvkNtFErwfi1jy07ss1tpFPhrCofq0Ys9WCX04b1a+UU2lMvgm4F\n",
       "+Gb2hs3bkVQK1pQzH/uPGQx5B8VUAG3UQtilFWsfMYLZqKGS6b1XzozlNVLFuBMZAxRSIbRRT8K2\n",
       "jjknPsSZt7k7i0JZ2BbzTmcoaSLF6qQFVAol1Itg5MKHjvW7s+UyZlCuTXy1rCKf8/zIlg2sfIMC\n",
       "6gQdqZWwqi17CSfvnCiJdz5TsLa4Y+8KcItZ1JYZOlIroTnhZ0+o54ywr+tCNLazpXRV1jAeR0rC\n",
       "eu71hnK2G0WpANpRUT2PRmVfrp7WhutQKM32tu2VGbJs8mo6nMicTQLKg1G/w0L5TEXQjgpPopZo\n",
       "gAVsaNjkTv9yx/Fvb0//9wnk0Lvq8wMbvGJTTR6eywD6dcJ8VQ4cXJr5E9N8P9f4BQHu528QpucJ\n",
       "emalR6brVvdZyAH0LYL+j+/Q7W6o/t479B8tYyZVrzm4FwAAAABJRU5ErkJggg==\n",
       "\" style=\"display:inline;vertical-align:middle;\" /></a></span><br>"
      ],
      "text/plain": [
       "NPS_kt: {{1, 2, 3, 4} not_proper_subset {1, 2, 3}} |- {1, 2, 3, 4} not_proper_subset {1, 2, 3}"
      ]
     },
     "execution_count": 197,
     "metadata": {},
     "output_type": "execute_result"
    }
   ],
   "source": [
    "display(set_1234)\n",
    "display(set_123)\n",
    "NPS_kt = NotProperSubset(set_1234, set_123).prove(assumptions=[NotProperSubset(set_1234, set_123)])"
   ]
  },
  {
   "cell_type": "markdown",
   "metadata": {},
   "source": [
    "### `NotProperSubset.derive_side_effects()`"
   ]
  },
  {
   "cell_type": "code",
   "execution_count": 198,
   "metadata": {},
   "outputs": [],
   "source": [
    "# Not quite clear how to test the derive_side_effects() method\n",
    "# NotProperSubset(set_1234, set_123).derive_side_effects(NPS_kt)"
   ]
  },
  {
   "cell_type": "markdown",
   "metadata": {},
   "source": [
    "### `NotProperSubset.conclude()`, `NotSubsetEq.conclude()`\n",
    "\n",
    "<font size=3>The <span style=\"font-family:courier;\">conclude()</span> method, called on a NotProperSubset expression such as $A\\not\\subset B$, derives the NotProperSubset as a judgment from the unfolded Not(ProperSubset()) relationship $\\neg(A\\subset B)$, if the unfolded version is known or assumed to be true. This works similarly for a NotSubsetEq expression.</font>"
   ]
  },
  {
   "cell_type": "code",
   "execution_count": 199,
   "metadata": {},
   "outputs": [
    {
     "data": {
      "text/html": [
       "<span style=\"font-size:20px;\"><a class=\"ProveItLink\" href=\"../__pv_it/demonstrations/7f7b74af8d9204eff305cac1d70efc1e6219261d0/expr.ipynb\"><img src=\"data:image/png;base64,iVBORw0KGgoAAAANSUhEUgAAANoAAAAVBAMAAADSje2JAAAAMFBMVEX///+6uroQEBCqqqqIiIgy\n",
       "MjJERETu7u6YmJjMzMxUVFTc3Nx2dnYiIiJmZmYAAAAutVgsAAAAAXRSTlMAQObYZgAAApJJREFU\n",
       "SMedlr9rFEEUx1/uh7vJJnfprKK5RkkaxUYQjGIrRC2NIhGbSAhskbMQ0WtsTf4A0SBExB+4pfgD\n",
       "wiEpJNEFCyFk4cD4g6BXGMIhFufMm98zu3viwB5v37zPfm/evnmzAOa404Deo38rTPHmoClAQKLr\n",
       "K/Avo2/M9eWiFChGuucauRaMmJtfr3Lr9doV6b1Hri/uA/NRCjzRAy6Qa50axYPM4S3Bh2G27Bac\n",
       "kHnaEHHmQNeRMAOls3Ut2m9x5Pq7DvNUQiiMolXagWrM40rjmWre0+dhBkqBwZMqeigST/G5WiGG\n",
       "gT8s7TWonuVxL6Y0NX8uSZJFtbaFMAOls96oUnsDtlq5AwO/xbTM5IqmFlyMzEwKNQfF2XNKbdJR\n",
       "owsWprcpVhNRtaaWjzQ1B0XgvYqeoT/Lltp+XtbB+jfumYcpVYCftfe2bKmZKAK34SdJfELVP9Jq\n",
       "HLPUNqR1apgnEtXKLbyJlRhDNTUTReA4u39JrhrZ8nORqVZpSaTAtkVxEdXgGa2vYEl1C4YqNRul\n",
       "wH1DjfcIpTYp2kwEe3bQugFsbajjTdvtRalZKAKaGs0kPDTUii14hUa1I9SOtdu/tuR70zLJUKlm\n",
       "owiMKLUZtybvApxmuZhWJQbjqibfQlZN2miTVQnLuihPREpk9hbZkcHm2nbs7VL9Btk0aJFxQO23\n",
       "8mFL7UwIGGahfPaHih4RSOXB7ncY+kSe1e12Y0jo393XvgzMgtXuI6nmPd5rqG0futTAMBtlwPm0\n",
       "zoXjqCzt0LVkXP+q2blyAS+2unJT3srTahBcK60rN3sCeleGWf2Q8uTMPLhW7vmWCdTt07QsluRL\n",
       "dyPF6qu5ahLNBGbtLwWY+P/vkoke3yV+BH8BIYb39F6VwQ0AAAAASUVORK5CYII=\n",
       "\" style=\"display:inline;vertical-align:middle;\" /></a> <a class=\"ProveItLink\" href=\"../__pv_it/demonstrations/9705f39c360e7c8282b218a21884fa9d6ed0174e0/proof.ipynb\" style=\"text-decoration: none\">&nbsp;&#x22A2;&nbsp;&nbsp;</a><a class=\"ProveItLink\" href=\"../__pv_it/demonstrations/d094dac60ac7496f16f0268bc63869d2aaf87d6a0/expr.ipynb\"><img src=\"data:image/png;base64,iVBORw0KGgoAAAANSUhEUgAAALkAAAAVCAMAAAAtrb/7AAAAPFBMVEX///9RUVGurq4bGxsLCwuI\n",
       "iIi6urrc3NxERETMzMwQEBCqqqpUVFQiIiJ2dnYyMjLu7u5mZmaYmJgAAACJ1RQ3AAAAAXRSTlMA\n",
       "QObYZgAAAkxJREFUSMe1l1li5CAMRJkFg9mX+9912jhmEWXidDL8JC2wXiGEAMaOlmJiP9P2yMPD\n",
       "oW9Ce0Lwjv1c29SOO9wwpW9AGyHl+1EhRilHKcI5JzUKxvk3euhJjOYvQgdqJTh7dWtFljqYoz9v\n",
       "vYtDoM7zSltD3Q3NbOMKtFGUCqAjtX778U8wzmSiPJbfSnUmno+Z50keV0vlQjKoHFABdKRS5WUJ\n",
       "iXJVukwWfZYdwcg0JUTyd8qTtNb+/WPtjmNOqQA6Up8o98VgMt10c7Y4dqNceCfmkK+U30FvswUp\n",
       "/8hgag6WFoYkmnI1flxCRzfcSvkNtFErwfi1jy07ss1tpFPhrCofq0Ys9WCX04b1a+UU2lMvgm4F\n",
       "+Gb2hs3bkVQK1pQzH/uPGQx5B8VUAG3UQtilFWsfMYLZqKGS6b1XzozlNVLFuBMZAxRSIbRRT8K2\n",
       "jjknPsSZt7k7i0JZ2BbzTmcoaSLF6qQFVAol1Itg5MKHjvW7s+UyZlCuTXy1rCKf8/zIlg2sfIMC\n",
       "6gQdqZWwqi17CSfvnCiJdz5TsLa4Y+8KcItZ1JYZOlIroTnhZ0+o54ywr+tCNLazpXRV1jAeR0rC\n",
       "eu71hnK2G0WpANpRUT2PRmVfrp7WhutQKM32tu2VGbJs8mo6nMicTQLKg1G/w0L5TEXQjgpPopZo\n",
       "gAVsaNjkTv9yx/Fvb0//9wnk0Lvq8wMbvGJTTR6eywD6dcJ8VQ4cXJr5E9N8P9f4BQHu528QpucJ\n",
       "emalR6brVvdZyAH0LYL+j+/Q7W6o/t479B8tYyZVrzm4FwAAAABJRU5ErkJggg==\n",
       "\" style=\"display:inline;vertical-align:middle;\" /></a></span>"
      ],
      "text/plain": [
       "{[not]({1, 2, 3, 4} proper_subset {1, 2, 3})} |- {1, 2, 3, 4} not_proper_subset {1, 2, 3}"
      ]
     },
     "execution_count": 199,
     "metadata": {},
     "output_type": "execute_result"
    }
   ],
   "source": [
    "NotProperSubset(set_1234, set_123).conclude(assumptions=[Not(ProperSubset(set_1234, set_123))])"
   ]
  },
  {
   "cell_type": "code",
   "execution_count": 200,
   "metadata": {},
   "outputs": [
    {
     "data": {
      "text/html": [
       "<span style=\"font-size:20px;\"><a class=\"ProveItLink\" href=\"../__pv_it/demonstrations/da714ca4c6f7e0d69c70419ca40a362697ba43520/expr.ipynb\"><img src=\"data:image/png;base64,iVBORw0KGgoAAAANSUhEUgAAANoAAAAVBAMAAADSje2JAAAAMFBMVEX///+6uroQEBCqqqqIiIgy\n",
       "MjJERETu7u6YmJjMzMxUVFTc3Nx2dnYiIiJmZmYAAAAutVgsAAAAAXRSTlMAQObYZgAAAplJREFU\n",
       "SMedlr9rFEEUx1/uh7vJJnfprKK5RkkaxUYQjMFWiFoaRSI2kSBskbMQ0WtsvfwBkgQhQdTgluIP\n",
       "CIekkJwuWAghCwvGHwS9whAOsThn3vye3b0TB/Z4++Z99rvz7s2bBTDHgxr0Hv07foq3C5oCeCS6\n",
       "ug7/MvrGkr6uKAXyge65Ra66EXP36w1uvd68Lr2L5PqSfGB3lAJP9YDL5GpSI3+UOZxl+DDMlh3D\n",
       "GZmnLRFHhrsWRdECmug64WegdLaqibkxR26/azNPyYfcKFqFPSiHPK4wrtS8Kyo7xOU8e+5noBQY\n",
       "nFRqQ4F4isvVciEM/GFpr0D5Ao97Ma3Uitpfga66n4HSWWdURb8BW63YhoHfYlpmcl1T+wwZagkU\n",
       "Zy+q6KmEGl2wMJ1tkfCAqjXYTZillkAReK+iZ+nPiqV2mJe11/zGPfMwLQvQW9bUViw1E0XgPvwk\n",
       "RRVR9Y+0GscstS1pnR3miUS1YoxvPaPEGKqpmSgCp9n9S3JVyJa/GZhqpVgiObYt8guoBmuTZiY5\n",
       "qtRslAJLhhrvEUptSrSZAA7soXUH2NpYDt/a7UWpWSgCmhrNJKwaavkYXqFRbgu1U63Wrx3ZOIrH\n",
       "ldyqoWajCIwotdlkTT4EOMdyMaNKDMZVTTpPDmbUpI02WJWwrIvyRKRAZu+RHeltb+6Gzj7Vr5FN\n",
       "gxYZR7TO1b9hdq7zPmCYhfLZHyoTIwIpPdr/DkOfSJ46nU4IEX3dQ61rwCzY6DxWatZ+2z12tYZh\n",
       "NsqAS2mdC8dJWdp+0spS6w44odWVG/JWnlaDkLTS1Bo9Ab0rw5x+SDlyZh6SljjfmrQ18P+t3hOo\n",
       "2qdpUSzJle5aitVXSa5NopnAnP2lABP//10y0eO7xA3gL1gH/dpXsrjuAAAAAElFTkSuQmCC\n",
       "\" style=\"display:inline;vertical-align:middle;\" /></a> <a class=\"ProveItLink\" href=\"../__pv_it/demonstrations/0afe8cfe59ca153f3a93ae761909b4ca758686640/proof.ipynb\" style=\"text-decoration: none\">&nbsp;&#x22A2;&nbsp;&nbsp;</a><a class=\"ProveItLink\" href=\"../__pv_it/demonstrations/869c9d5ef3f09a4f9a909c8b512f3b4b2304c6370/expr.ipynb\"><img src=\"data:image/png;base64,iVBORw0KGgoAAAANSUhEUgAAALkAAAAYBAMAAABUw0EkAAAAMFBMVEX///+IiIi6urrc3NxERETM\n",
       "zMwQEBCqqqpUVFQiIiJ2dnYyMjLu7u5mZmaYmJgAAABN0h6tAAAAAXRSTlMAQObYZgAAApJJREFU\n",
       "SMedlc9rE1EQx7/JJtkku0kKgjchJ2/igicVJIhSe8vBkyAUsaWCB08iYjEHf1CENuClW4TuQYIJ\n",
       "qAEvpRfTW7WICXgQ7Jb8AxJRtNQE1t2372cSzLYDy87Ozueb2cm894CjWDF6an4vQlKy05KeqvT+\n",
       "vTsJMDcj1RCfk+pxwvuOMxHI/5BjpnupHHrnGtM8et2/vokkg35HT5H79OUyZJQA2eAz9dv0xTay\n",
       "P4mjtfGQf/eqf9VZ4TP2vB1WQEIMNSt4W5TROlPffjWg7C4wT5zYPgqsvbEFoa5tWnhM40GIo7kW\n",
       "UrMyytWRZ+q3gBWLtO0GCk0avLAh1HcsmE1JnaOpKtK/IKFj1N+3sEIbLzrjSOpP/dq649SNAdK/\n",
       "IaFj1H1bp/+ZucY6bQXqNT6MGYxT9y3DXIISIN1UU+J/aYPruzSyhQ0+IFoFuM9Snw2pn3ZklAB3\n",
       "y0MFVJh3nC5Jh6gbbQKWgHf0vT43pL4KGQ2Aq8+HUlzupcJZ08tEHUtTYWeCHyCrccZS0VxbRQPg\n",
       "pFp7jKZoFhL7xPuIsPbwm94gV1RXI0dPQEEJkC4pKYvBS98KA6Z+z3X/dPjCNO584BU+UtT1Ns5A\n",
       "QnujM5N0ECPqqZIYASyImTGvdDB+Zq4BxyChNa4e858+B8NztvF6iXj5rj+0Zj8Eb0o7QbJv2/JO\n",
       "wFBtrfG1SgCCSvOee9LfQ+ZFsJo87yD0TrkXAZvM/ktvWajH20rtHDU8z6uGAEGl1UTsAUY8vaW2\n",
       "wbdEeST0HyA7yx7Fbs29LEakzotQbTLA93dzCiPelkim+3v9wOZ970UA2NmUF2cP98TJ5m986qkX\n",
       "TKczGdAPda7q8mm32I14EEe1xFGgyKYdJvkfVx3pB+fdelkAAAAASUVORK5CYII=\n",
       "\" style=\"display:inline;vertical-align:middle;\" /></a></span>"
      ],
      "text/plain": [
       "{[not]({1, 2, 3, 4} subseteq {1, 2, 3})} |- {1, 2, 3, 4} nsubseteq {1, 2, 3}"
      ]
     },
     "execution_count": 200,
     "metadata": {},
     "output_type": "execute_result"
    }
   ],
   "source": [
    "NotSubsetEq(set_1234, set_123).conclude(assumptions=[Not(SubsetEq(set_1234, set_123))])"
   ]
  },
  {
   "cell_type": "markdown",
   "metadata": {},
   "source": [
    "### `NotProperSubset.unfold()`, `NotSubsetEq.unfold()`\n",
    "\n",
    "<font size=3>The <span style=\"font-family:courier;\">unfold()</span> method, called on a NotProperSubset expression such as $A\\not\\subset B$, derives the “unfolded” version $\\neg(A\\subset B)$ as a judgment, if the original (self) folded version is known or assumed to be true. The method works similarly for NotSubsetEq expressions.</font>"
   ]
  },
  {
   "cell_type": "code",
   "execution_count": 201,
   "metadata": {},
   "outputs": [
    {
     "data": {
      "text/html": [
       "<span style=\"font-size:20px;\"><a class=\"ProveItLink\" href=\"../__pv_it/demonstrations/d094dac60ac7496f16f0268bc63869d2aaf87d6a0/expr.ipynb\"><img src=\"data:image/png;base64,iVBORw0KGgoAAAANSUhEUgAAALkAAAAVCAMAAAAtrb/7AAAAPFBMVEX///9RUVGurq4bGxsLCwuI\n",
       "iIi6urrc3NxERETMzMwQEBCqqqpUVFQiIiJ2dnYyMjLu7u5mZmaYmJgAAACJ1RQ3AAAAAXRSTlMA\n",
       "QObYZgAAAkxJREFUSMe1l1li5CAMRJkFg9mX+9912jhmEWXidDL8JC2wXiGEAMaOlmJiP9P2yMPD\n",
       "oW9Ce0Lwjv1c29SOO9wwpW9AGyHl+1EhRilHKcI5JzUKxvk3euhJjOYvQgdqJTh7dWtFljqYoz9v\n",
       "vYtDoM7zSltD3Q3NbOMKtFGUCqAjtX778U8wzmSiPJbfSnUmno+Z50keV0vlQjKoHFABdKRS5WUJ\n",
       "iXJVukwWfZYdwcg0JUTyd8qTtNb+/WPtjmNOqQA6Up8o98VgMt10c7Y4dqNceCfmkK+U30FvswUp\n",
       "/8hgag6WFoYkmnI1flxCRzfcSvkNtFErwfi1jy07ss1tpFPhrCofq0Ys9WCX04b1a+UU2lMvgm4F\n",
       "+Gb2hs3bkVQK1pQzH/uPGQx5B8VUAG3UQtilFWsfMYLZqKGS6b1XzozlNVLFuBMZAxRSIbRRT8K2\n",
       "jjknPsSZt7k7i0JZ2BbzTmcoaSLF6qQFVAol1Itg5MKHjvW7s+UyZlCuTXy1rCKf8/zIlg2sfIMC\n",
       "6gQdqZWwqi17CSfvnCiJdz5TsLa4Y+8KcItZ1JYZOlIroTnhZ0+o54ywr+tCNLazpXRV1jAeR0rC\n",
       "eu71hnK2G0WpANpRUT2PRmVfrp7WhutQKM32tu2VGbJs8mo6nMicTQLKg1G/w0L5TEXQjgpPopZo\n",
       "gAVsaNjkTv9yx/Fvb0//9wnk0Lvq8wMbvGJTTR6eywD6dcJ8VQ4cXJr5E9N8P9f4BQHu528QpucJ\n",
       "emalR6brVvdZyAH0LYL+j+/Q7W6o/t479B8tYyZVrzm4FwAAAABJRU5ErkJggg==\n",
       "\" style=\"display:inline;vertical-align:middle;\" /></a> <a class=\"ProveItLink\" href=\"../__pv_it/demonstrations/31676e5c3312c0960f6454521232c552e056c6910/proof.ipynb\" style=\"text-decoration: none\">&nbsp;&#x22A2;&nbsp;&nbsp;</a><a class=\"ProveItLink\" href=\"../__pv_it/demonstrations/7f7b74af8d9204eff305cac1d70efc1e6219261d0/expr.ipynb\"><img src=\"data:image/png;base64,iVBORw0KGgoAAAANSUhEUgAAANoAAAAVBAMAAADSje2JAAAAMFBMVEX///+6uroQEBCqqqqIiIgy\n",
       "MjJERETu7u6YmJjMzMxUVFTc3Nx2dnYiIiJmZmYAAAAutVgsAAAAAXRSTlMAQObYZgAAApJJREFU\n",
       "SMedlr9rFEEUx1/uh7vJJnfprKK5RkkaxUYQjGIrRC2NIhGbSAhskbMQ0WtsTf4A0SBExB+4pfgD\n",
       "wiEpJNEFCyFk4cD4g6BXGMIhFufMm98zu3viwB5v37zPfm/evnmzAOa404Deo38rTPHmoClAQKLr\n",
       "K/Avo2/M9eWiFChGuucauRaMmJtfr3Lr9doV6b1Hri/uA/NRCjzRAy6Qa50axYPM4S3Bh2G27Bac\n",
       "kHnaEHHmQNeRMAOls3Ut2m9x5Pq7DvNUQiiMolXagWrM40rjmWre0+dhBkqBwZMqeigST/G5WiGG\n",
       "gT8s7TWonuVxL6Y0NX8uSZJFtbaFMAOls96oUnsDtlq5AwO/xbTM5IqmFlyMzEwKNQfF2XNKbdJR\n",
       "owsWprcpVhNRtaaWjzQ1B0XgvYqeoT/Lltp+XtbB+jfumYcpVYCftfe2bKmZKAK34SdJfELVP9Jq\n",
       "HLPUNqR1apgnEtXKLbyJlRhDNTUTReA4u39JrhrZ8nORqVZpSaTAtkVxEdXgGa2vYEl1C4YqNRul\n",
       "wH1DjfcIpTYp2kwEe3bQugFsbajjTdvtRalZKAKaGs0kPDTUii14hUa1I9SOtdu/tuR70zLJUKlm\n",
       "owiMKLUZtybvApxmuZhWJQbjqibfQlZN2miTVQnLuihPREpk9hbZkcHm2nbs7VL9Btk0aJFxQO23\n",
       "8mFL7UwIGGahfPaHih4RSOXB7ncY+kSe1e12Y0jo393XvgzMgtXuI6nmPd5rqG0futTAMBtlwPm0\n",
       "zoXjqCzt0LVkXP+q2blyAS+2unJT3srTahBcK60rN3sCeleGWf2Q8uTMPLhW7vmWCdTt07QsluRL\n",
       "dyPF6qu5ahLNBGbtLwWY+P/vkoke3yV+BH8BIYb39F6VwQ0AAAAASUVORK5CYII=\n",
       "\" style=\"display:inline;vertical-align:middle;\" /></a></span>"
      ],
      "text/plain": [
       "{{1, 2, 3, 4} not_proper_subset {1, 2, 3}} |- [not]({1, 2, 3, 4} proper_subset {1, 2, 3})"
      ]
     },
     "execution_count": 201,
     "metadata": {},
     "output_type": "execute_result"
    }
   ],
   "source": [
    "NotProperSubset(set_1234, set_123).unfold(assumptions=[NotProperSubset(set_1234, set_123)])"
   ]
  },
  {
   "cell_type": "code",
   "execution_count": 202,
   "metadata": {},
   "outputs": [
    {
     "data": {
      "text/html": [
       "<span style=\"font-size:20px;\"><a class=\"ProveItLink\" href=\"../__pv_it/demonstrations/8087e0bd3f9d5d7a8531a716ce1c58b5302b9b160/expr.ipynb\"><img src=\"data:image/png;base64,iVBORw0KGgoAAAANSUhEUgAAADsAAAAUCAMAAAAEAbViAAAAPFBMVEX///9RUVGurq4bGxsLCwt2\n",
       "dnYyMjKqqqoiIiLu7u7c3NyIiIjMzMwQEBC6urpERERmZmZUVFSYmJgAAAAAibtpAAAAAXRSTlMA\n",
       "QObYZgAAAQpJREFUOMulU1sSwyAItA8RTRQJ979r1aRWq21mWn5MEFh2QaVOTdtvtxuLcIxMFMZL\n",
       "B5OMtXF6KkeUdQjjST0F8iojWzmDxAGWZo2CVCKLuN0nSxtBiHi/Ib43Y008EpKR330ebcNTu0+w\n",
       "CawyES6dIzeSYqlMowAqWGUOkpkub9tCaJqAWH7WCawNOWPp6VrPDaz6CJsJVVEPuqlGRXY7C56M\n",
       "Nm1CZKGObs6tMttyR24OmxYC+ukqfqlXeg4T2KMz9P10V2mU0akFGGGd6RcL9hrBU7v1YEIcU/Ep\n",
       "UcFjeD4E04+C/fXtBVkSgewz6QPjl9dlLjovJY47eW5g1a9m9M+p/8CqcBrxADNPC7f7HWyRAAAA\n",
       "AElFTkSuQmCC\n",
       "\" style=\"display:inline;vertical-align:middle;\" /></a> <a class=\"ProveItLink\" href=\"../__pv_it/demonstrations/b9244e9e649a22124d0f929eb6ba675e7056adb00/proof.ipynb\" style=\"text-decoration: none\">&nbsp;&#x22A2;&nbsp;&nbsp;</a><a class=\"ProveItLink\" href=\"../__pv_it/demonstrations/00c9109a5beb2a5cfff6980bc976a5dcefb17efe0/expr.ipynb\"><img src=\"data:image/png;base64,iVBORw0KGgoAAAANSUhEUgAAAFsAAAAUBAMAAAAQFlwTAAAAMFBMVEX///+6uroQEBCqqqqIiIgy\n",
       "MjJERETu7u6YmJjMzMxUVFTc3Nx2dnYiIiJmZmYAAAAutVgsAAAAAXRSTlMAQObYZgAAAWdJREFU\n",
       "KM9jYIAD7gYG/MAahVcGxF3/171KE8CilDOAgYFrA7JINIhQY2Dg+4lFOesHBgb2ACQBjgcgQ34w\n",
       "MDD+w6K89TuQOIIkwAuyiuU3UN8XiEDb3bt3b0Il2e2AEgxFSMr3ggg2BaDgdTB/62lkq1k+glyE\n",
       "5Cs/EMG/gIHzVgGYfxvZLeLMQFcy8DxAiGSAiPkrWnINwFw+AyTV7AKcIBdyBDC8Bbrw7h0g+zJI\n",
       "3H8DA7sWxCvIhjMycIP8z3wBwt0FxIogRhJIiwFMCA5mvXv1DRRuH9CU/wIpd4BFGhwAvaiKpvwy\n",
       "NNgZ1gugO4YZiC+B3ITkmAxosHN+AwvxOCCUbwbieIhXISkCiM+BAhYY7ELpELFgRNoDGZoPjEW+\n",
       "AwgjZIFpKP7Xu2XJUH7VwgJoKOZ/LWAw+38PaNoEtESADObkIhIBBNSiJzH8ADmJMWQTUo2SgFFD\n",
       "GhtgQ3EuwczXzcAAAKIsWh5tk6PkAAAAAElFTkSuQmCC\n",
       "\" style=\"display:inline;vertical-align:middle;\" /></a></span>"
      ],
      "text/plain": [
       "{B not_proper_subset A} |- [not](B proper_subset A)"
      ]
     },
     "execution_count": 202,
     "metadata": {},
     "output_type": "execute_result"
    }
   ],
   "source": [
    "NotProperSubset(B, A).unfold(assumptions=[NotProperSubset(B, A)])"
   ]
  },
  {
   "cell_type": "code",
   "execution_count": 203,
   "metadata": {},
   "outputs": [
    {
     "data": {
      "text/html": [
       "<span style=\"font-size:20px;\"><a class=\"ProveItLink\" href=\"../__pv_it/demonstrations/869c9d5ef3f09a4f9a909c8b512f3b4b2304c6370/expr.ipynb\"><img src=\"data:image/png;base64,iVBORw0KGgoAAAANSUhEUgAAALkAAAAYBAMAAABUw0EkAAAAMFBMVEX///+IiIi6urrc3NxERETM\n",
       "zMwQEBCqqqpUVFQiIiJ2dnYyMjLu7u5mZmaYmJgAAABN0h6tAAAAAXRSTlMAQObYZgAAApJJREFU\n",
       "SMedlc9rE1EQx7/JJtkku0kKgjchJ2/igicVJIhSe8vBkyAUsaWCB08iYjEHf1CENuClW4TuQYIJ\n",
       "qAEvpRfTW7WICXgQ7Jb8AxJRtNQE1t2372cSzLYDy87Ozueb2cm894CjWDF6an4vQlKy05KeqvT+\n",
       "vTsJMDcj1RCfk+pxwvuOMxHI/5BjpnupHHrnGtM8et2/vokkg35HT5H79OUyZJQA2eAz9dv0xTay\n",
       "P4mjtfGQf/eqf9VZ4TP2vB1WQEIMNSt4W5TROlPffjWg7C4wT5zYPgqsvbEFoa5tWnhM40GIo7kW\n",
       "UrMyytWRZ+q3gBWLtO0GCk0avLAh1HcsmE1JnaOpKtK/IKFj1N+3sEIbLzrjSOpP/dq649SNAdK/\n",
       "IaFj1H1bp/+ZucY6bQXqNT6MGYxT9y3DXIISIN1UU+J/aYPruzSyhQ0+IFoFuM9Snw2pn3ZklAB3\n",
       "y0MFVJh3nC5Jh6gbbQKWgHf0vT43pL4KGQ2Aq8+HUlzupcJZ08tEHUtTYWeCHyCrccZS0VxbRQPg\n",
       "pFp7jKZoFhL7xPuIsPbwm94gV1RXI0dPQEEJkC4pKYvBS98KA6Z+z3X/dPjCNO584BU+UtT1Ns5A\n",
       "QnujM5N0ECPqqZIYASyImTGvdDB+Zq4BxyChNa4e858+B8NztvF6iXj5rj+0Zj8Eb0o7QbJv2/JO\n",
       "wFBtrfG1SgCCSvOee9LfQ+ZFsJo87yD0TrkXAZvM/ktvWajH20rtHDU8z6uGAEGl1UTsAUY8vaW2\n",
       "wbdEeST0HyA7yx7Fbs29LEakzotQbTLA93dzCiPelkim+3v9wOZ970UA2NmUF2cP98TJ5m986qkX\n",
       "TKczGdAPda7q8mm32I14EEe1xFGgyKYdJvkfVx3pB+fdelkAAAAASUVORK5CYII=\n",
       "\" style=\"display:inline;vertical-align:middle;\" /></a> <a class=\"ProveItLink\" href=\"../__pv_it/demonstrations/fdc3519f9f563ad75034590eb87d5e41bc8ff9930/proof.ipynb\" style=\"text-decoration: none\">&nbsp;&#x22A2;&nbsp;&nbsp;</a><a class=\"ProveItLink\" href=\"../__pv_it/demonstrations/da714ca4c6f7e0d69c70419ca40a362697ba43520/expr.ipynb\"><img src=\"data:image/png;base64,iVBORw0KGgoAAAANSUhEUgAAANoAAAAVBAMAAADSje2JAAAAMFBMVEX///+6uroQEBCqqqqIiIgy\n",
       "MjJERETu7u6YmJjMzMxUVFTc3Nx2dnYiIiJmZmYAAAAutVgsAAAAAXRSTlMAQObYZgAAAplJREFU\n",
       "SMedlr9rFEEUx1/uh7vJJnfprKK5RkkaxUYQjMFWiFoaRSI2kSBskbMQ0WtsvfwBkgQhQdTgluIP\n",
       "CIekkJwuWAghCwvGHwS9whAOsThn3vye3b0TB/Z4++Z99rvz7s2bBTDHgxr0Hv07foq3C5oCeCS6\n",
       "ug7/MvrGkr6uKAXyge65Ra66EXP36w1uvd68Lr2L5PqSfGB3lAJP9YDL5GpSI3+UOZxl+DDMlh3D\n",
       "GZmnLRFHhrsWRdECmug64WegdLaqibkxR26/azNPyYfcKFqFPSiHPK4wrtS8Kyo7xOU8e+5noBQY\n",
       "nFRqQ4F4isvVciEM/GFpr0D5Ao97Ma3Uitpfga66n4HSWWdURb8BW63YhoHfYlpmcl1T+wwZagkU\n",
       "Zy+q6KmEGl2wMJ1tkfCAqjXYTZillkAReK+iZ+nPiqV2mJe11/zGPfMwLQvQW9bUViw1E0XgPvwk\n",
       "RRVR9Y+0GscstS1pnR3miUS1YoxvPaPEGKqpmSgCp9n9S3JVyJa/GZhqpVgiObYt8guoBmuTZiY5\n",
       "qtRslAJLhhrvEUptSrSZAA7soXUH2NpYDt/a7UWpWSgCmhrNJKwaavkYXqFRbgu1U63Wrx3ZOIrH\n",
       "ldyqoWajCIwotdlkTT4EOMdyMaNKDMZVTTpPDmbUpI02WJWwrIvyRKRAZu+RHeltb+6Gzj7Vr5FN\n",
       "gxYZR7TO1b9hdq7zPmCYhfLZHyoTIwIpPdr/DkOfSJ46nU4IEX3dQ61rwCzY6DxWatZ+2z12tYZh\n",
       "NsqAS2mdC8dJWdp+0spS6w44odWVG/JWnlaDkLTS1Bo9Ab0rw5x+SDlyZh6SljjfmrQ18P+t3hOo\n",
       "2qdpUSzJle5aitVXSa5NopnAnP2lABP//10y0eO7xA3gL1gH/dpXsrjuAAAAAElFTkSuQmCC\n",
       "\" style=\"display:inline;vertical-align:middle;\" /></a></span>"
      ],
      "text/plain": [
       "{{1, 2, 3, 4} nsubseteq {1, 2, 3}} |- [not]({1, 2, 3, 4} subseteq {1, 2, 3})"
      ]
     },
     "execution_count": 203,
     "metadata": {},
     "output_type": "execute_result"
    }
   ],
   "source": [
    "NotSubsetEq(set_1234, set_123).unfold(assumptions=[NotSubsetEq(set_1234, set_123)])"
   ]
  },
  {
   "cell_type": "code",
   "execution_count": 204,
   "metadata": {},
   "outputs": [
    {
     "data": {
      "text/html": [
       "<span style=\"font-size:20px;\"><a class=\"ProveItLink\" href=\"../__pv_it/demonstrations/b8ba7a758c65b36f39cc2addcb458ef124189f6c0/expr.ipynb\"><img src=\"data:image/png;base64,iVBORw0KGgoAAAANSUhEUgAAADsAAAAYBAMAAAC2M5gYAAAAMFBMVEX///92dnYyMjKqqqoiIiLu\n",
       "7u7c3NyIiIjMzMwQEBC6urpERERmZmZUVFSYmJgAAADEjrHzAAAAAXRSTlMAQObYZgAAASVJREFU\n",
       "KM9jYEAHCxjwAge8snwCaAJv/985uxtuJFMAXKIJQs1mYOD5AdG6xWWmSwNMWh9McvxjYOD6A2Kx\n",
       "KSYw3EBYow82iP0bkPkdxApKYGBVgEsHn08AUdwTGBgiXUGsy0C1D+DSD+rBDuK/wMDhGwD1Ewtc\n",
       "livAHqy0/97zLQZgqy8wMBjCpaMY+gtAdD3Qxrlg6Q0MDGpIoZd/AETvBCkxgBgOUgEBHHfO3Adz\n",
       "/oKkwebIMfDAg4eLgYFTAepthvtgYSaDELjZQONYJkC9zfEbLMS69zhMlg0ozfQBpAWoZuVWqIWf\n",
       "XFwggZoCChCgRl79v2dub4ZZeADKiP6vysC8/8sB1MjjbsAb2Ul4ZUW+uMDsJiMhMQvgleYOwCvN\n",
       "hiECAHiESGorWx5SAAAAAElFTkSuQmCC\n",
       "\" style=\"display:inline;vertical-align:middle;\" /></a> <a class=\"ProveItLink\" href=\"../__pv_it/demonstrations/b15315b5536224b164a1f07d37d605e139f10fd40/proof.ipynb\" style=\"text-decoration: none\">&nbsp;&#x22A2;&nbsp;&nbsp;</a><a class=\"ProveItLink\" href=\"../__pv_it/demonstrations/5b91a8eeb56f20fb2eb2b1f072af26df19e8e6030/expr.ipynb\"><img src=\"data:image/png;base64,iVBORw0KGgoAAAANSUhEUgAAAFsAAAAUBAMAAAAQFlwTAAAAMFBMVEX///+6uroQEBCqqqqIiIgy\n",
       "MjJERETu7u6YmJjMzMxUVFTc3Nx2dnYiIiJmZmYAAAAutVgsAAAAAXRSTlMAQObYZgAAAWtJREFU\n",
       "KM9jYIAD7gYG/MAahVcGxF3/171KE8CilDOAgYFrA7JINIhQY2Dg+wnhd929e/cmTJL1AwMDewCS\n",
       "ao4HIEN+MDAw/gPzt55GNqv1O5A4giTAC7KK5TdQ3xeEZTDAbgeUYChCEtkLItgUgILXQSw+A2Tl\n",
       "HCwfQS5C8pUfiOBfwMB5qwBsGYpPxZmBrmTgeYAQyQAR81e05EKM3YXiFgFOkAs5AhjeAv1/9w6Q\n",
       "fRkk7r+BgV0LHqxwwMjADfI/8wUGuFGKIEYSSIsBhmNmvXv1DRRuH9CU/wIpdwCxeByQlAO9qIqm\n",
       "/DI02BnWQ/wfjFDNDMSXQG5CckwGNNg5v0HEqhYWwJRvBuJ4iFchKQKIz4ECFhjsQulQRXNyoYmA\n",
       "G2RoPjAW+Q4gbJQFpqH4X++WJaOnLvb8rwUMZv/vAU2bgJYI8INa9CSGHyAnMYZsFCkeUPQhEjDY\n",
       "VQHo2QMvYENxLsHM183AAACPI17YLso1ogAAAABJRU5ErkJggg==\n",
       "\" style=\"display:inline;vertical-align:middle;\" /></a></span>"
      ],
      "text/plain": [
       "{B nsubseteq A} |- [not](B subseteq A)"
      ]
     },
     "execution_count": 204,
     "metadata": {},
     "output_type": "execute_result"
    }
   ],
   "source": [
    "NotSubsetEq(B, A).unfold(assumptions=[NotSubsetEq(B, A)])"
   ]
  },
  {
   "cell_type": "markdown",
   "metadata": {},
   "source": [
    "### `NotProperSubset.conclude_as_folded()`, `NotSubsetEq.conclude_as_folded()`\n",
    "\n",
    "<font size=3>The <span style=\"font-family:courier;\">conclude_as_folded()</span> method, called on a NotProperSubset expression such as $A\\not\\subset B$, derives the (self) “folded” version $A\\not\\subset B$, from the unfolded version $\\neg(A\\subset B)$ being known or assumed to be true. This method is also being called from the <span style=\"font-family:courier;\">conclude()</span> method. The method works similarly for the NotSubsetEq class.</font>"
   ]
  },
  {
   "cell_type": "code",
   "execution_count": 205,
   "metadata": {},
   "outputs": [
    {
     "data": {
      "text/html": [
       "<span style=\"font-size:20px;\"><a class=\"ProveItLink\" href=\"../__pv_it/demonstrations/7f7b74af8d9204eff305cac1d70efc1e6219261d0/expr.ipynb\"><img src=\"data:image/png;base64,iVBORw0KGgoAAAANSUhEUgAAANoAAAAVBAMAAADSje2JAAAAMFBMVEX///+6uroQEBCqqqqIiIgy\n",
       "MjJERETu7u6YmJjMzMxUVFTc3Nx2dnYiIiJmZmYAAAAutVgsAAAAAXRSTlMAQObYZgAAApJJREFU\n",
       "SMedlr9rFEEUx1/uh7vJJnfprKK5RkkaxUYQjGIrRC2NIhGbSAhskbMQ0WtsTf4A0SBExB+4pfgD\n",
       "wiEpJNEFCyFk4cD4g6BXGMIhFufMm98zu3viwB5v37zPfm/evnmzAOa404Deo38rTPHmoClAQKLr\n",
       "K/Avo2/M9eWiFChGuucauRaMmJtfr3Lr9doV6b1Hri/uA/NRCjzRAy6Qa50axYPM4S3Bh2G27Bac\n",
       "kHnaEHHmQNeRMAOls3Ut2m9x5Pq7DvNUQiiMolXagWrM40rjmWre0+dhBkqBwZMqeigST/G5WiGG\n",
       "gT8s7TWonuVxL6Y0NX8uSZJFtbaFMAOls96oUnsDtlq5AwO/xbTM5IqmFlyMzEwKNQfF2XNKbdJR\n",
       "owsWprcpVhNRtaaWjzQ1B0XgvYqeoT/Lltp+XtbB+jfumYcpVYCftfe2bKmZKAK34SdJfELVP9Jq\n",
       "HLPUNqR1apgnEtXKLbyJlRhDNTUTReA4u39JrhrZ8nORqVZpSaTAtkVxEdXgGa2vYEl1C4YqNRul\n",
       "wH1DjfcIpTYp2kwEe3bQugFsbajjTdvtRalZKAKaGs0kPDTUii14hUa1I9SOtdu/tuR70zLJUKlm\n",
       "owiMKLUZtybvApxmuZhWJQbjqibfQlZN2miTVQnLuihPREpk9hbZkcHm2nbs7VL9Btk0aJFxQO23\n",
       "8mFL7UwIGGahfPaHih4RSOXB7ncY+kSe1e12Y0jo393XvgzMgtXuI6nmPd5rqG0futTAMBtlwPm0\n",
       "zoXjqCzt0LVkXP+q2blyAS+2unJT3srTahBcK60rN3sCeleGWf2Q8uTMPLhW7vmWCdTt07QsluRL\n",
       "dyPF6qu5ahLNBGbtLwWY+P/vkoke3yV+BH8BIYb39F6VwQ0AAAAASUVORK5CYII=\n",
       "\" style=\"display:inline;vertical-align:middle;\" /></a> <a class=\"ProveItLink\" href=\"../__pv_it/demonstrations/9705f39c360e7c8282b218a21884fa9d6ed0174e0/proof.ipynb\" style=\"text-decoration: none\">&nbsp;&#x22A2;&nbsp;&nbsp;</a><a class=\"ProveItLink\" href=\"../__pv_it/demonstrations/d094dac60ac7496f16f0268bc63869d2aaf87d6a0/expr.ipynb\"><img src=\"data:image/png;base64,iVBORw0KGgoAAAANSUhEUgAAALkAAAAVCAMAAAAtrb/7AAAAPFBMVEX///9RUVGurq4bGxsLCwuI\n",
       "iIi6urrc3NxERETMzMwQEBCqqqpUVFQiIiJ2dnYyMjLu7u5mZmaYmJgAAACJ1RQ3AAAAAXRSTlMA\n",
       "QObYZgAAAkxJREFUSMe1l1li5CAMRJkFg9mX+9912jhmEWXidDL8JC2wXiGEAMaOlmJiP9P2yMPD\n",
       "oW9Ce0Lwjv1c29SOO9wwpW9AGyHl+1EhRilHKcI5JzUKxvk3euhJjOYvQgdqJTh7dWtFljqYoz9v\n",
       "vYtDoM7zSltD3Q3NbOMKtFGUCqAjtX778U8wzmSiPJbfSnUmno+Z50keV0vlQjKoHFABdKRS5WUJ\n",
       "iXJVukwWfZYdwcg0JUTyd8qTtNb+/WPtjmNOqQA6Up8o98VgMt10c7Y4dqNceCfmkK+U30FvswUp\n",
       "/8hgag6WFoYkmnI1flxCRzfcSvkNtFErwfi1jy07ss1tpFPhrCofq0Ys9WCX04b1a+UU2lMvgm4F\n",
       "+Gb2hs3bkVQK1pQzH/uPGQx5B8VUAG3UQtilFWsfMYLZqKGS6b1XzozlNVLFuBMZAxRSIbRRT8K2\n",
       "jjknPsSZt7k7i0JZ2BbzTmcoaSLF6qQFVAol1Itg5MKHjvW7s+UyZlCuTXy1rCKf8/zIlg2sfIMC\n",
       "6gQdqZWwqi17CSfvnCiJdz5TsLa4Y+8KcItZ1JYZOlIroTnhZ0+o54ywr+tCNLazpXRV1jAeR0rC\n",
       "eu71hnK2G0WpANpRUT2PRmVfrp7WhutQKM32tu2VGbJs8mo6nMicTQLKg1G/w0L5TEXQjgpPopZo\n",
       "gAVsaNjkTv9yx/Fvb0//9wnk0Lvq8wMbvGJTTR6eywD6dcJ8VQ4cXJr5E9N8P9f4BQHu528QpucJ\n",
       "emalR6brVvdZyAH0LYL+j+/Q7W6o/t479B8tYyZVrzm4FwAAAABJRU5ErkJggg==\n",
       "\" style=\"display:inline;vertical-align:middle;\" /></a></span>"
      ],
      "text/plain": [
       "{[not]({1, 2, 3, 4} proper_subset {1, 2, 3})} |- {1, 2, 3, 4} not_proper_subset {1, 2, 3}"
      ]
     },
     "execution_count": 205,
     "metadata": {},
     "output_type": "execute_result"
    }
   ],
   "source": [
    "NotProperSubset(set_1234, set_123).conclude_as_folded(assumptions=[Not(ProperSubset(set_1234, set_123))])"
   ]
  },
  {
   "cell_type": "code",
   "execution_count": 206,
   "metadata": {},
   "outputs": [
    {
     "data": {
      "text/html": [
       "<span style=\"font-size:20px;\"><a class=\"ProveItLink\" href=\"../__pv_it/demonstrations/da714ca4c6f7e0d69c70419ca40a362697ba43520/expr.ipynb\"><img src=\"data:image/png;base64,iVBORw0KGgoAAAANSUhEUgAAANoAAAAVBAMAAADSje2JAAAAMFBMVEX///+6uroQEBCqqqqIiIgy\n",
       "MjJERETu7u6YmJjMzMxUVFTc3Nx2dnYiIiJmZmYAAAAutVgsAAAAAXRSTlMAQObYZgAAAplJREFU\n",
       "SMedlr9rFEEUx1/uh7vJJnfprKK5RkkaxUYQjMFWiFoaRSI2kSBskbMQ0WtsvfwBkgQhQdTgluIP\n",
       "CIekkJwuWAghCwvGHwS9whAOsThn3vye3b0TB/Z4++Z99rvz7s2bBTDHgxr0Hv07foq3C5oCeCS6\n",
       "ug7/MvrGkr6uKAXyge65Ra66EXP36w1uvd68Lr2L5PqSfGB3lAJP9YDL5GpSI3+UOZxl+DDMlh3D\n",
       "GZmnLRFHhrsWRdECmug64WegdLaqibkxR26/azNPyYfcKFqFPSiHPK4wrtS8Kyo7xOU8e+5noBQY\n",
       "nFRqQ4F4isvVciEM/GFpr0D5Ao97Ma3Uitpfga66n4HSWWdURb8BW63YhoHfYlpmcl1T+wwZagkU\n",
       "Zy+q6KmEGl2wMJ1tkfCAqjXYTZillkAReK+iZ+nPiqV2mJe11/zGPfMwLQvQW9bUViw1E0XgPvwk\n",
       "RRVR9Y+0GscstS1pnR3miUS1YoxvPaPEGKqpmSgCp9n9S3JVyJa/GZhqpVgiObYt8guoBmuTZiY5\n",
       "qtRslAJLhhrvEUptSrSZAA7soXUH2NpYDt/a7UWpWSgCmhrNJKwaavkYXqFRbgu1U63Wrx3ZOIrH\n",
       "ldyqoWajCIwotdlkTT4EOMdyMaNKDMZVTTpPDmbUpI02WJWwrIvyRKRAZu+RHeltb+6Gzj7Vr5FN\n",
       "gxYZR7TO1b9hdq7zPmCYhfLZHyoTIwIpPdr/DkOfSJ46nU4IEX3dQ61rwCzY6DxWatZ+2z12tYZh\n",
       "NsqAS2mdC8dJWdp+0spS6w44odWVG/JWnlaDkLTS1Bo9Ab0rw5x+SDlyZh6SljjfmrQ18P+t3hOo\n",
       "2qdpUSzJle5aitVXSa5NopnAnP2lABP//10y0eO7xA3gL1gH/dpXsrjuAAAAAElFTkSuQmCC\n",
       "\" style=\"display:inline;vertical-align:middle;\" /></a> <a class=\"ProveItLink\" href=\"../__pv_it/demonstrations/0afe8cfe59ca153f3a93ae761909b4ca758686640/proof.ipynb\" style=\"text-decoration: none\">&nbsp;&#x22A2;&nbsp;&nbsp;</a><a class=\"ProveItLink\" href=\"../__pv_it/demonstrations/869c9d5ef3f09a4f9a909c8b512f3b4b2304c6370/expr.ipynb\"><img src=\"data:image/png;base64,iVBORw0KGgoAAAANSUhEUgAAALkAAAAYBAMAAABUw0EkAAAAMFBMVEX///+IiIi6urrc3NxERETM\n",
       "zMwQEBCqqqpUVFQiIiJ2dnYyMjLu7u5mZmaYmJgAAABN0h6tAAAAAXRSTlMAQObYZgAAApJJREFU\n",
       "SMedlc9rE1EQx7/JJtkku0kKgjchJ2/igicVJIhSe8vBkyAUsaWCB08iYjEHf1CENuClW4TuQYIJ\n",
       "qAEvpRfTW7WICXgQ7Jb8AxJRtNQE1t2372cSzLYDy87Ozueb2cm894CjWDF6an4vQlKy05KeqvT+\n",
       "vTsJMDcj1RCfk+pxwvuOMxHI/5BjpnupHHrnGtM8et2/vokkg35HT5H79OUyZJQA2eAz9dv0xTay\n",
       "P4mjtfGQf/eqf9VZ4TP2vB1WQEIMNSt4W5TROlPffjWg7C4wT5zYPgqsvbEFoa5tWnhM40GIo7kW\n",
       "UrMyytWRZ+q3gBWLtO0GCk0avLAh1HcsmE1JnaOpKtK/IKFj1N+3sEIbLzrjSOpP/dq649SNAdK/\n",
       "IaFj1H1bp/+ZucY6bQXqNT6MGYxT9y3DXIISIN1UU+J/aYPruzSyhQ0+IFoFuM9Snw2pn3ZklAB3\n",
       "y0MFVJh3nC5Jh6gbbQKWgHf0vT43pL4KGQ2Aq8+HUlzupcJZ08tEHUtTYWeCHyCrccZS0VxbRQPg\n",
       "pFp7jKZoFhL7xPuIsPbwm94gV1RXI0dPQEEJkC4pKYvBS98KA6Z+z3X/dPjCNO584BU+UtT1Ns5A\n",
       "QnujM5N0ECPqqZIYASyImTGvdDB+Zq4BxyChNa4e858+B8NztvF6iXj5rj+0Zj8Eb0o7QbJv2/JO\n",
       "wFBtrfG1SgCCSvOee9LfQ+ZFsJo87yD0TrkXAZvM/ktvWajH20rtHDU8z6uGAEGl1UTsAUY8vaW2\n",
       "wbdEeST0HyA7yx7Fbs29LEakzotQbTLA93dzCiPelkim+3v9wOZ970UA2NmUF2cP98TJ5m986qkX\n",
       "TKczGdAPda7q8mm32I14EEe1xFGgyKYdJvkfVx3pB+fdelkAAAAASUVORK5CYII=\n",
       "\" style=\"display:inline;vertical-align:middle;\" /></a></span>"
      ],
      "text/plain": [
       "{[not]({1, 2, 3, 4} subseteq {1, 2, 3})} |- {1, 2, 3, 4} nsubseteq {1, 2, 3}"
      ]
     },
     "execution_count": 206,
     "metadata": {},
     "output_type": "execute_result"
    }
   ],
   "source": [
    "NotSubsetEq(set_1234, set_123).conclude_as_folded(assumptions=[Not(SubsetEq(set_1234, set_123))])"
   ]
  },
  {
   "cell_type": "markdown",
   "metadata": {},
   "source": [
    "### `NotProperSubset.deduce_in_bool()`, `NotSubsetEq.deduce_in_bool()`\n",
    "\n",
    "<font size=3>The <span style=\"font-family:courier;\">deduce_in_bool()</span> method, called on a NotProperSubset expression such as $A\\not\\subset B$, derives the fact that $A\\not\\subset B \\in \\mathbb{B}$ --- i.e. such subset claims are Boolean values. The method works similarly for the NotSubsetEq class.</font>"
   ]
  },
  {
   "cell_type": "code",
   "execution_count": 207,
   "metadata": {},
   "outputs": [
    {
     "data": {
      "text/html": [
       "<span style=\"font-size:20px;\"> <a class=\"ProveItLink\" href=\"../__pv_it/demonstrations/17f535e5a798aa21fe33bff0ad49f2726549cc680/proof.ipynb\" style=\"text-decoration: none\">&nbsp;&#x22A2;&nbsp;&nbsp;</a><a class=\"ProveItLink\" href=\"../__pv_it/theorems/77c59931c2e585f0ea3539c605e1175fa643023b0/expr.ipynb\"><img src=\"data:image/png;base64,iVBORw0KGgoAAAANSUhEUgAAAHEAAAAUCAMAAACNmSILAAAAPFBMVEX///9RUVGurq4bGxsLCwtU\n",
       "VFTMzMx2dna6uroQEBCqqqqIiIgiIiJmZmYyMjJERETu7u6YmJjc3NwAAAB6b+6fAAAAAXRSTlMA\n",
       "QObYZgAAAeBJREFUSMedVtmCgyAMZI9wGQiQ///XBZGKiNouLxWbZJjJgUIIkaJ4XCpc/2eT+GwF\n",
       "6nfSz2zS8W0EZnAOiHTZwgPkgoaIvUFYzYU/2Hue+Wym+zL1mI5lObN/YuWFXDK14Iqc0R1O73mi\n",
       "X6LhheSaCc2rt1oeEEno7LBIUQJhTzFYx0eJIiHi7w+iPOi0WUVesYIRZyf0I6K1BTHhwTTH0of8\n",
       "qTShKKhCBINVEd87SVrClKPSpWaWXlQdhOW+cqsAJEdEhjU0whZadVGCD3NVNUrIkagDCLpkqMuJ\n",
       "s/XM4pRGiHEhtHv6uypL0zwaZDZFit0rUyw6cnfcqviZ4pbGYKC1JPbRrypHxahyme8ZkLnFHPDu\n",
       "kap2IC7SmJFtI71HMb6tEbH+dIj1yfhhNtBZJYaGuJwQ0zXHQh86VbcHNEdV9Zli60YBrbB1p6q5\n",
       "RoQyC16Vk+x56JTO9meKrRvlKwN95bjlhmNOZKvrV19SPwK81W4ysyoNbaj1gVN9S9nZlMsWSjlo\n",
       "egRiXtvI5gfcQQKY77G7wLcxvkf2fTkHIB1uJjneDn77pdaJNUy58frB416vTlfzPbrboR/eufAe\n",
       "J/mQ1RuSVr11w/qPAIcb+T8U6dOPgJuvDv2Of/wI8A/UKhbgKdeHbwAAAABJRU5ErkJggg==\n",
       "\" style=\"display:inline;vertical-align:middle;\" /></a></span>"
      ],
      "text/plain": [
       "|- (A not_proper_subset B) in BOOLEAN"
      ]
     },
     "execution_count": 207,
     "metadata": {},
     "output_type": "execute_result"
    }
   ],
   "source": [
    "# NotProperSubset claims (correct or not) are Boolean values:\n",
    "NotProperSubset(A, B).deduce_in_bool()"
   ]
  },
  {
   "cell_type": "code",
   "execution_count": 208,
   "metadata": {},
   "outputs": [
    {
     "data": {
      "text/html": [
       "<span style=\"font-size:20px;\"> <a class=\"ProveItLink\" href=\"../__pv_it/demonstrations/704acf61ee2c63aa2f962d5d4b922f81a49d3d060/proof.ipynb\" style=\"text-decoration: none\">&nbsp;&#x22A2;&nbsp;&nbsp;</a><a class=\"ProveItLink\" href=\"../__pv_it/demonstrations/2d9814e08f53a26175bc2cc98a2ec6c8feef14950/expr.ipynb\"><img src=\"data:image/png;base64,iVBORw0KGgoAAAANSUhEUgAAAOwAAAAVCAMAAABykPL3AAAAPFBMVEX///9RUVGurq4bGxsLCwvM\n",
       "zMxUVFR2dna6uroQEBCqqqqIiIgiIiJmZmYyMjJERETu7u6YmJjc3NwAAABkLMi5AAAAAXRSTlMA\n",
       "QObYZgAAAwVJREFUWMO1WNmWpCAMdWaafcf//9cGBGUJStk9vtQpJPdmIwluW/U45bZfeZASdnHr\n",
       "K84P8PvHH3RWk+3XHsoQ/II0Wr7mLPjcfyZnTfbxfreHyUWnG6bir9KwY9vl95wFH99bKyQzZtdM\n",
       "Ypr+67yd3Jqj1arzdn6DljnPOL/mLJJWP6ijNySC42w6Lk4tER8mrCTYbudo3mwfGHvHeUoSca+P\n",
       "2WgwU6AtUku/QpxNWHgyzIDmjJTy65+UaNXYW85T0jKAR+rOWM6jsV4uERO5msU59zoBr4kfA/sD\n",
       "zuulpk3J6Ov0YSyhsTQJNYp7RZRgjZDGQqguq4gQoqm5QU6gnHukdfiRPwbNVAYo7zkvfKLq6m7B\n",
       "NKYS4SBmzjaH9VnWg2a6qZN2Dyh2ryufl0EPo5t2EN6bnHttnT10RmaoV3pK+cB54btKB6A2B2OZ\n",
       "3HcW4y+L63jpjJZF+1WjGE8m7HUtkLFD4srxWU5DpfQI4BDYwglRPnGe+FzWlk0KFHEuyDKac/0s\n",
       "VCqRSDF0NbtXE4AaqkeWO/fgC8LjxIH7llw4IcpHzoKProRATJenM/b4YbSfeZhJJGioOrRuBWxw\n",
       "Ypaj54nr5xbjZ3MQRPnEeeJXxvppZGPM8ZXGGzb5qJCUQ23Hc51jG49Dcu2ZjZlGMTBjmCnlA+eF\n",
       "T6s0ZlNjcRwvrgKVK6NNvgyVox47Y7yOg9WoEjSsVGnk2mocO7/2swYCUj5wXvh1gVJiHtlwaMnQ\n",
       "ekwQcBJvJBXEHIGw36itWlExTlaha6WSG5uk5lTNuyVEecfZ4Ks6xyQHxsWwgZAoTIehwob2hjwW\n",
       "qVbLI4usEuRwa1kJ4s6JeqWWG4y1mP21U2MhylvOZqhADY+hdn4RuB8XuX2zAqDxPyTNcc/jIgAH\n",
       "LF3jYgdBE4+e3Z6LOIN0frUCmKHBORfiJGtLqxeB7gT7+d3SijcrwH2Ww5d0gBOAgxgK/uMVD768\n",
       "b8BXA/dqJXVQuhBYiBOAczf45sNPFb6A8f/3DYrOtvKffYNyn9j6DUM0LJqzdmE5AAAAAElFTkSu\n",
       "QmCC\n",
       "\" style=\"display:inline;vertical-align:middle;\" /></a></span>"
      ],
      "text/plain": [
       "|- ({a, b, c, d} not_proper_subset {a, b, c}) in BOOLEAN"
      ]
     },
     "execution_count": 208,
     "metadata": {},
     "output_type": "execute_result"
    }
   ],
   "source": [
    "NotProperSubset(Set(a, b, c, d), Set(a, b, c)).deduce_in_bool()"
   ]
  },
  {
   "cell_type": "code",
   "execution_count": 209,
   "metadata": {},
   "outputs": [
    {
     "data": {
      "text/html": [
       "<span style=\"font-size:20px;\"> <a class=\"ProveItLink\" href=\"../__pv_it/demonstrations/9bd9755b66e41b6e76154f1c76c317f25437f83a0/proof.ipynb\" style=\"text-decoration: none\">&nbsp;&#x22A2;&nbsp;&nbsp;</a><a class=\"ProveItLink\" href=\"../__pv_it/theorems/5669bcc71b00f253ac432d88bcff56c84eeb07030/expr.ipynb\"><img src=\"data:image/png;base64,iVBORw0KGgoAAAANSUhEUgAAAHEAAAAYBAMAAAA/qw9xAAAAMFBMVEX///9UVFTMzMx2dna6uroQ\n",
       "EBCqqqqIiIgiIiJmZmYyMjJERETu7u6YmJjc3NwAAAC+aOQFAAAAAXRSTlMAQObYZgAAAglJREFU\n",
       "OMtjYMAELAzkAg4i1fFdQBe5jMJje4BL52kIpYUQWQOheOU/zpTewsAgh6ahInr/0kYHIGMdhL8e\n",
       "Kn67ozWiCcJk3cDAMF+B4RS6XQvUefbMBZo8AWLB+gNg+pUdA6MCVIU+0B/+ExiYC9B0bvBlKOIG\n",
       "BgfEG8fmg2keoAvgdtQDhe4XMPAEQF2/o6MLpjMNqPMFRPhCPcjlDIwJDAy1MJ1bgSZFAJ2yBMxj\n",
       "2n4AYacJMHQqIVF4IP8CLEIaYDo/MjBoyABpSzDv1AGEa1mahBgY9oI5Rxj0wb55CIwFA6gCpo93\n",
       "q9tAjFtgLiKIN7j2fwW6ECzH4MDwHhxSrxkYuGDxx/6PgeGoAJCRAVGPHEK2wDgPARsvOVN+A9S1\n",
       "r2EKuIEhw/4NFMZgJVGrgACmk5vlAkQnMKWyLgAxmC8wTIHp5Afax/4dppMPxU5uBgGIa4EhygEJ\n",
       "+2U88AACRSfjFyDDA8wNQNbJyLAAHEJ8QJ1cHyBpUbIAOTr1N8BDaDqKnbwG4CAHxSn3P6hNKzo6\n",
       "IKlvKdAX0aComAzJQQnw1KfMYDwR7JTT/9cwsO3/AUmGnjB5qf+SE3eDVS8C83mkfVBTPAdaJtqE\n",
       "kZlgPmexhqY+KICmeHhuXYChEyPFw8A+FFX9HR0wf8LAKQI5G3dJso+40iQZQ573AXGl0h6yy70H\n",
       "RKsEAKT5imKUJ4S/AAAAAElFTkSuQmCC\n",
       "\" style=\"display:inline;vertical-align:middle;\" /></a></span>"
      ],
      "text/plain": [
       "|- (A nsubseteq B) in BOOLEAN"
      ]
     },
     "execution_count": 209,
     "metadata": {},
     "output_type": "execute_result"
    }
   ],
   "source": [
    "# NotSubsetEq claims (correct or not) are Boolean values:\n",
    "NotSubsetEq(A, B).deduce_in_bool()"
   ]
  },
  {
   "cell_type": "code",
   "execution_count": 210,
   "metadata": {},
   "outputs": [
    {
     "data": {
      "text/html": [
       "<span style=\"font-size:20px;\"> <a class=\"ProveItLink\" href=\"../__pv_it/demonstrations/b388ef68f58b79656a3b0e7e78b21843faba21c80/proof.ipynb\" style=\"text-decoration: none\">&nbsp;&#x22A2;&nbsp;&nbsp;</a><a class=\"ProveItLink\" href=\"../__pv_it/demonstrations/3566fb0f5ce85ffa921a3f0c0f2b03d9998db3a80/expr.ipynb\"><img src=\"data:image/png;base64,iVBORw0KGgoAAAANSUhEUgAAAOwAAAAYBAMAAAAL/gwoAAAAMFBMVEX////MzMxUVFR2dna6uroQ\n",
       "EBCqqqqIiIgiIiJmZmYyMjJERETu7u6YmJjc3NwAAACgK8IjAAAAAXRSTlMAQObYZgAAA2pJREFU\n",
       "SMfFVk1oE0EUfunGND+bNHgVbASx0qLkUmyRQi5CD5VWqFCtyoIXC2JTVEpvQbEG8RAtGKiH1p+L\n",
       "IroI0qpYF0G06SELHvwBcfGknhRLlVB/ZubN7M7+pFUsOBDyZt73vbfvzZs3A/BXIwdrOl6b9TSh\n",
       "siHNCqvi6zG9I0UsVLL19eE9jpzkuJXwbmbEqqNcIL937pUB13TSEeP8+1149V4hwOyGfcjc7l5u\n",
       "PPOwNrCZCLfJr8Otu+GaCWVytri3mHYt8Y8pBYWzhLCKZzkeyi/Mm5As+d0uBblNXbNgk+dLcDRp\n",
       "QRleRpiSd68nwmZjWoeo5TNDGX63FQvU6UC3vUGloxQQpvbZuTrH3UY0HT74zSiFILdbyMaYgW47\n",
       "gnJMM88U17GsZww7WqVHhzGb+LHzJKriLWM8bcroCEC7fXaisqPURPkAzq6OXgIJz2ztaNY4sxNz\n",
       "ZThJ7l6fhkdUbqWpPQR3UFO9pf7E7RyHB6JsUxmAw8Itxe+y4p+xkmtG1ZLwaOuxwZlv2Mp2Z28H\n",
       "fvUDjBMxQo/mUxMuo2bYgG9MiGZparFQUzoWPXC8ehBiOs6WoSkv4dHWpCjxI2xFl0pKeZsF4jk0\n",
       "Sz92yoCz4qCqX5kwhZnZmsckpziX4WPLEEVnsWmoZmU8E04LZjOj7L9JBncL+m7qFhvRIKhfxLEN\n",
       "4xEaxK3OsL8uiOWk9rNOh2paFE+vJuHR1qJgNotc2dGC3sCSDG1AA4zgXsEPGgqAiJm3pLj23C5T\n",
       "gicBDvNja/IwOd6xxZjdbKlPdpuJY0mRylSXoGH6GNMs0r1B/xCxK1m9W5aPTFWDVmy4TTmyzxLe\n",
       "sdXulFTZFe0LrG96IGbgVSar1oi0De4DEy6CesE5lqFaseg0x0Q+eUqBKmkgDWaixASGZ0RmizMn\n",
       "sNo0uzlmlc4M5oDqn4xubMlBkaRr/jgJlgpK10upG4RLcrRqy8j7ExA9T6RyFzAB8ZSItpB5BXPV\n",
       "1uO6CjzNMWJ4BVuZSAf0paM+wSFic+QtL7wTm6O4V2gM7U5j9Am2j08OycFnfYLi7preq0CMOdf9\n",
       "+cwniPu243vR3lsbr+a9gkRkzMoK13zc/lbTJ4T7PQ8aGZ8Er+AQkTm3wqMGhlZ/S0Xkh8zQn76l\n",
       "ktY/vvISBvyPkVpLY78BxhEAP4uy1b4AAAAASUVORK5CYII=\n",
       "\" style=\"display:inline;vertical-align:middle;\" /></a></span>"
      ],
      "text/plain": [
       "|- ({a, b, c} nsubseteq {a, b, c, d}) in BOOLEAN"
      ]
     },
     "execution_count": 210,
     "metadata": {},
     "output_type": "execute_result"
    }
   ],
   "source": [
    "NotSubsetEq(Set(a, b, c), Set(a, b, c, d)).deduce_in_bool()"
   ]
  },
  {
   "cell_type": "markdown",
   "metadata": {},
   "source": [
    "### Testing Some Subset/Superset Automation\n",
    "\n",
    "<font size=3>A number of basic subset/superset identities (such as containment reversals, relaxations, and transitivity) should be accessible through automation. The following cells test the proof automation for a variety of these simple containment identities.</font>"
   ]
  },
  {
   "cell_type": "code",
   "execution_count": 211,
   "metadata": {},
   "outputs": [
    {
     "data": {
      "text/html": [
       "<span style=\"font-size:20px;\"><a class=\"ProveItLink\" href=\"../__pv_it/theorems/81f49a06ba9c23797bdfafb3065c419bc23ed9230/expr.ipynb\"><img src=\"data:image/png;base64,iVBORw0KGgoAAAANSUhEUgAAADsAAAAPBAMAAACo4Ko7AAAAMFBMVEX///92dnYiIiIQEBBERERU\n",
       "VFS6urqIiIjc3NxmZmaqqqru7u6YmJgyMjLMzMwAAADiRdoGAAAAAXRSTlMAQObYZgAAAO1JREFU\n",
       "GNNjYACBtwzogCf+68wQNyjnPoY0A7MDA8P8BxCl9zdgSL8/wMCQPwHM3DW/ASJ2RElJSQ/CrAcK\n",
       "nS8AMw/UJ4DpXgmEbmcGBm4jsKFsG9YfAAtpIBn+lYHhUTSYtY3hPdgUzgUIWb6vZ0q0IMwEhn6w\n",
       "G5iQNLP/YGDYHABWGDkz3gHEaEWSZjEAKvkFthroyQsgxhYkaX6gTvbvIBbQRiYDdMNB3mb9BmRw\n",
       "AKV5P4CEGAsQ0iBvvwdZ2QSy6QdY7BZC+jLQUhOgt7f8v83A5f8J7PStYbDAjf0fOdVlAXpAP3SC\n",
       "ByoEAACTQj18dtZaDQAAAABJRU5ErkJggg==\n",
       "\" style=\"display:inline;vertical-align:middle;\" /></a> <a class=\"ProveItLink\" href=\"../__pv_it/demonstrations/ee7e4d1d3ce9602b5ac9cec704a6eaae01a64a680/proof.ipynb\" style=\"text-decoration: none\">&nbsp;&#x22A2;&nbsp;&nbsp;</a><a class=\"ProveItLink\" href=\"../__pv_it/theorems/e2f1ccd7211781d17ebb691b7b672159fa13b6cb0/expr.ipynb\"><img src=\"data:image/png;base64,iVBORw0KGgoAAAANSUhEUgAAADsAAAAPBAMAAACo4Ko7AAAAMFBMVEX///92dnYyMjKqqqoiIiLu\n",
       "7u7c3NyIiIjMzMwQEBC6urpERERmZmZUVFSYmJgAAADEjrHzAAAAAXRSTlMAQObYZgAAAOlJREFU\n",
       "GNNjYGB4+//O2d0LGDBBE4SazcDA8wOLtD6Y5PjHwMD1B1OWTz8ARLF/AzK/g9S5uLh4P4BLB59P\n",
       "AFHcExgYIl2hYmxCCTDpB/VgB/FfYODwDYAJsjlAGVwB9mCT+u8932KAsNIGSkcx9BeA6PoEBta5\n",
       "CGkWKL2AIf8AiN4JUoLQzguxnOPOmfsbQIy/IOkCuDQ3xBlcDAycClBvM9xfgG440DiWCVBvc/xG\n",
       "2F0I8QBQmukDkMEEVLNyK1yWWQFMpYCsAWrk1f975vZmuGzUXbDV0f9VGZj3fzmAHMigQN3YgBLu\n",
       "AJjiO3HaUrtcAAAAAElFTkSuQmCC\n",
       "\" style=\"display:inline;vertical-align:middle;\" /></a></span>"
      ],
      "text/plain": [
       "{A proper_subset B} |- B proper_superset A"
      ]
     },
     "execution_count": 211,
     "metadata": {},
     "output_type": "execute_result"
    }
   ],
   "source": [
    "# subset reversal to superset\n",
    "ProperSuperset(B,A).prove([ProperSubset(A,B)])"
   ]
  },
  {
   "cell_type": "code",
   "execution_count": 212,
   "metadata": {},
   "outputs": [
    {
     "data": {
      "text/html": [
       "<span style=\"font-size:20px;\"><a class=\"ProveItLink\" href=\"../__pv_it/theorems/288bdfb6b256f35e627359603e28f6025e9822ce0/expr.ipynb\"><img src=\"data:image/png;base64,iVBORw0KGgoAAAANSUhEUgAAADsAAAARBAMAAACRPMnQAAAAMFBMVEX///92dnYiIiIQEBBERERU\n",
       "VFS6urqIiIjc3NxmZmaqqqru7u6YmJgyMjLMzMwAAADiRdoGAAAAAXRSTlMAQObYZgAAAO9JREFU\n",
       "KM9jYACBtwzogCf+68wQNyjnPpQ+qqSkpAdhMjswMMx/AFF6fwOY7pVAaH9/gIEhfwKYuWt+A5i+\n",
       "gWR6PVDofAGYeaA+AURxLkCSdmZg4DYCG8q2Yf0BEM2E7LavDAyPosGsbQzvwaa0IsnyfT1TogVh\n",
       "JjD0g92wBUma/QcDw+YAsMLImfEO6IazGACV/AJbDfTkBRCDsQAhzQ/Uyf4dxAK6l8kALHYL1dus\n",
       "34AMDqA07wew2NawDcjefg+ysglk0w+I4EMnWKBeBlpqAlS85f9tBi7/TxNQYyT2f+RUlwUMVASM\n",
       "SkqICIUAAMDnPwbFfXt4AAAAAElFTkSuQmCC\n",
       "\" style=\"display:inline;vertical-align:middle;\" /></a> <a class=\"ProveItLink\" href=\"../__pv_it/demonstrations/af32fd7db3447fe6bdbc05558728c9fcb49ee2000/proof.ipynb\" style=\"text-decoration: none\">&nbsp;&#x22A2;&nbsp;&nbsp;</a><a class=\"ProveItLink\" href=\"../__pv_it/theorems/bac9de8359582e7b68d748037578386806d1a7340/expr.ipynb\"><img src=\"data:image/png;base64,iVBORw0KGgoAAAANSUhEUgAAADsAAAARBAMAAACRPMnQAAAAMFBMVEX///92dnYyMjKqqqoiIiLu\n",
       "7u7c3NyIiIjMzMwQEBC6urpERERmZmZUVFSYmJgAAADEjrHzAAAAAXRSTlMAQObYZgAAAO9JREFU\n",
       "KM9jYGB4+//O2d0LGDBBE4SazcDA8wNIs6q4uHgXIKT1wSTHPwYGrj9QIdZHcHP49ANAFPs3IPM7\n",
       "TJBVDcYKPp8AorgnMDBEuqLbyMDwoB5sEP8FBg7fALg0UwKE5gqwfwCi++8932KAcBAjlB3F0A92\n",
       "Zn0CA+tchDQP1G0LGPIPgOidICUI7UwQiuPOmfsbQIy/IGmEd22hVjMwcCpAvc1wH+5bDqgfgMax\n",
       "TIB6m+M3TDbqNMThbEBppg8gu4BqVm5lgAbqRqgjUkABAtTIq//3zO3N6LER/V+VgXn/lwMMVAMg\n",
       "u11cfJGFAEbyPZDmp242AAAAAElFTkSuQmCC\n",
       "\" style=\"display:inline;vertical-align:middle;\" /></a></span>"
      ],
      "text/plain": [
       "{A subseteq B} |- B supseteq A"
      ]
     },
     "execution_count": 212,
     "metadata": {},
     "output_type": "execute_result"
    }
   ],
   "source": [
    "# subset_eq reversal to superset_eq\n",
    "SupersetEq(B,A).prove([SubsetEq(A,B)])"
   ]
  },
  {
   "cell_type": "code",
   "execution_count": 213,
   "metadata": {},
   "outputs": [
    {
     "data": {
      "text/html": [
       "<span style=\"font-size:20px;\"><a class=\"ProveItLink\" href=\"../__pv_it/theorems/2fced9727b6076180192dd37cb5cd3a2262487000/expr.ipynb\"><img src=\"data:image/png;base64,iVBORw0KGgoAAAANSUhEUgAAADsAAAAPBAMAAACo4Ko7AAAAMFBMVEX///92dnYiIiIQEBBERERU\n",
       "VFS6urqIiIjc3NxmZmaqqqru7u6YmJgyMjLMzMwAAADiRdoGAAAAAXRSTlMAQObYZgAAAOlJREFU\n",
       "GNNjYACBtwzogCf+68wQNyjnPoY0A7MDA8P8BxCl9zdgSL8/wMCQPwHM3DW/AUQ9UlJS8oFJ1wOF\n",
       "zheAmQfqE2CijTegDGcGBm4jsKFsG9YfgBvaBKW/Ak2LBrO2MbwvgEtzQezj+3qmRAsiksDQPwHh\n",
       "JgUwyf6DgWFzAFhh5Mx4B4R0BJhkMQAq+QW2GujJCwhpbzDJD9TJ/h3EWsDAwGSAbjjI26zfgAwO\n",
       "oDTvB7gsuwDc2+8doD5h+QGXXguhLgMtNQF6e8v/2wxc/p+gTudOhfg19n/kVJcFqMEMDFQVOVQh\n",
       "AHRFPLnG8m3jAAAAAElFTkSuQmCC\n",
       "\" style=\"display:inline;vertical-align:middle;\" /></a> <a class=\"ProveItLink\" href=\"../__pv_it/demonstrations/2e1efbb0de2fa3971a31cafea974dd3e51af53f80/proof.ipynb\" style=\"text-decoration: none\">&nbsp;&#x22A2;&nbsp;&nbsp;</a><a class=\"ProveItLink\" href=\"../__pv_it/theorems/da2bb270ff0394c66ecd9688e1ff83ec7193e9a10/expr.ipynb\"><img src=\"data:image/png;base64,iVBORw0KGgoAAAANSUhEUgAAADsAAAAPBAMAAACo4Ko7AAAAMFBMVEX///92dnYyMjKqqqoiIiLu\n",
       "7u7c3NyIiIjMzMwQEBC6urpERERmZmZUVFSYmJgAAADEjrHzAAAAAXRSTlMAQObYZgAAAOpJREFU\n",
       "GNNjYGB4+//O2d0LGDBBE4SazcDA8wOLtD6Y5PjHwMD1B1OWTz8ARLF/AzK/Q0S2uLi4NEClg88n\n",
       "gCjuCQwMka4gFptiApLuB/VgB/FfYODwBZvDgizLFWD/AET333u+xQAschjZ6iiG/gIQXZ/AwDoX\n",
       "LOKALL2AIf8AiN4JUgLSznYBSZbjzpn7G0CMvyBpkDmsG5CtZmDgVIB6m+H+AnTDgcaxTIB6m+M3\n",
       "WEgcIcsGlGb6AGQwAdWs3AoWYzKAS6eAAgSokVf/75nbmyFirHeXQmWj/6syMO//cgA1mDmkkQIV\n",
       "BAA3GTyOwI02cgAAAABJRU5ErkJggg==\n",
       "\" style=\"display:inline;vertical-align:middle;\" /></a></span>"
      ],
      "text/plain": [
       "{A proper_superset B} |- B proper_subset A"
      ]
     },
     "execution_count": 213,
     "metadata": {},
     "output_type": "execute_result"
    }
   ],
   "source": [
    "# superset reversal to subset\n",
    "ProperSubset(B,A).prove([ProperSuperset(A,B)])"
   ]
  },
  {
   "cell_type": "code",
   "execution_count": 214,
   "metadata": {},
   "outputs": [
    {
     "data": {
      "text/html": [
       "<span style=\"font-size:20px;\"><a class=\"ProveItLink\" href=\"../__pv_it/theorems/05e344b7208c2c23dfa6004888e7fe9f4480f8570/expr.ipynb\"><img src=\"data:image/png;base64,iVBORw0KGgoAAAANSUhEUgAAADsAAAARBAMAAACRPMnQAAAAMFBMVEX///92dnYiIiIQEBBERERU\n",
       "VFS6urqIiIjc3NxmZmaqqqru7u6YmJgyMjLMzMwAAADiRdoGAAAAAXRSTlMAQObYZgAAAPNJREFU\n",
       "KM9jYACBtwzogCf+68wQNyjnPpjcq6Sk5A6TZ3ZgYJj/AKL0/gaY6J5rUMb7AwwM+RPAzF3zG+Cm\n",
       "7oUy64H0+QIw80B9Alya7wKEdmZg4DYCG8q2Yf0BhKNuQKivDAyPosGsbQzvCxDSUhBDvp4p0YII\n",
       "JDD0T0BITwOT7D8YGDYHgBVGzox3QEhD7GYxACr5BbYa6MkLcFkusBYGfiDF/h3EWsDAwGQAl360\n",
       "Ae5t1m9ABgdQmvcDVJI70wPh7fcgK5tANv2ABqqKFFTdZaClJkCDtvy/zcDl/2kCaozE/o+c6rKA\n",
       "gYoAFKFKSgHIQgBh7kHj8bFnhwAAAABJRU5ErkJggg==\n",
       "\" style=\"display:inline;vertical-align:middle;\" /></a> <a class=\"ProveItLink\" href=\"../__pv_it/demonstrations/8c3212d30f67405140da9dec2886c4811eb603d20/proof.ipynb\" style=\"text-decoration: none\">&nbsp;&#x22A2;&nbsp;&nbsp;</a><a class=\"ProveItLink\" href=\"../__pv_it/theorems/d5b0af4e04f985ab73bddb2ee7a9efe9e2ef36c20/expr.ipynb\"><img src=\"data:image/png;base64,iVBORw0KGgoAAAANSUhEUgAAADsAAAARBAMAAACRPMnQAAAAMFBMVEX///92dnYyMjKqqqoiIiLu\n",
       "7u7c3NyIiIjMzMwQEBC6urpERERmZmZUVFSYmJgAAADEjrHzAAAAAXRSTlMAQObYZgAAAO5JREFU\n",
       "KM9jYGB4+//O2d0LGDBBE4SazcDA8wPM4rvi4uLSAJPWB5Mc/xgYuP6AWGyKCUia+fQDQBT7NyDz\n",
       "O4jFhCzLEHwezOWewMAQ6QpiHUax+kE92EH8Fxg4fMHmOCDLcgXYPwDR/feebzEAW30BWTqKob8A\n",
       "RNcnMLDOBTFYNyBLL2DIPwCid4KUGKAbznHnzH2w8r8gabA54shWMzBwKkC9zXAf7EgmA4Q0kMky\n",
       "Aeptjt9gIda7S2GybEBppg8gLUA1K7dCLZSGBWoKKECAGnn1/565vRk9NqL/qzIw7/9ygIF6QMTF\n",
       "BTlCgQAAZho+lB/Z+SsAAAAASUVORK5CYII=\n",
       "\" style=\"display:inline;vertical-align:middle;\" /></a></span>"
      ],
      "text/plain": [
       "{A supseteq B} |- B subseteq A"
      ]
     },
     "execution_count": 214,
     "metadata": {},
     "output_type": "execute_result"
    }
   ],
   "source": [
    "# superset_eq reversal to subset_eq\n",
    "SubsetEq(B,A).prove([SupersetEq(A,B)])"
   ]
  },
  {
   "cell_type": "code",
   "execution_count": 215,
   "metadata": {},
   "outputs": [
    {
     "data": {
      "text/html": [
       "<span style=\"font-size:20px;\"><a class=\"ProveItLink\" href=\"../__pv_it/theorems/81f49a06ba9c23797bdfafb3065c419bc23ed9230/expr.ipynb\"><img src=\"data:image/png;base64,iVBORw0KGgoAAAANSUhEUgAAADsAAAAPBAMAAACo4Ko7AAAAMFBMVEX///92dnYiIiIQEBBERERU\n",
       "VFS6urqIiIjc3NxmZmaqqqru7u6YmJgyMjLMzMwAAADiRdoGAAAAAXRSTlMAQObYZgAAAO1JREFU\n",
       "GNNjYACBtwzogCf+68wQNyjnPoY0A7MDA8P8BxCl9zdgSL8/wMCQPwHM3DW/ASJ2RElJSQ/CrAcK\n",
       "nS8AMw/UJ4DpXgmEbmcGBm4jsKFsG9YfAAtpIBn+lYHhUTSYtY3hPdgUzgUIWb6vZ0q0IMwEhn6w\n",
       "G5iQNLP/YGDYHABWGDkz3gHEaEWSZjEAKvkFthroyQsgxhYkaX6gTvbvIBbQRiYDdMNB3mb9BmRw\n",
       "AKV5P4CEGAsQ0iBvvwdZ2QSy6QdY7BZC+jLQUhOgt7f8v83A5f8J7PStYbDAjf0fOdVlAXpAP3SC\n",
       "ByoEAACTQj18dtZaDQAAAABJRU5ErkJggg==\n",
       "\" style=\"display:inline;vertical-align:middle;\" /></a> <a class=\"ProveItLink\" href=\"../__pv_it/demonstrations/7b9238429c438732615a10028d5111320b87994e0/proof.ipynb\" style=\"text-decoration: none\">&nbsp;&#x22A2;&nbsp;&nbsp;</a><a class=\"ProveItLink\" href=\"../__pv_it/theorems/288bdfb6b256f35e627359603e28f6025e9822ce0/expr.ipynb\"><img src=\"data:image/png;base64,iVBORw0KGgoAAAANSUhEUgAAADsAAAARBAMAAACRPMnQAAAAMFBMVEX///92dnYiIiIQEBBERERU\n",
       "VFS6urqIiIjc3NxmZmaqqqru7u6YmJgyMjLMzMwAAADiRdoGAAAAAXRSTlMAQObYZgAAAO9JREFU\n",
       "KM9jYACBtwzogCf+68wQNyjnPpQ+qqSkpAdhMjswMMx/AFF6fwOY7pVAaH9/gIEhfwKYuWt+A5i+\n",
       "gWR6PVDofAGYeaA+AURxLkCSdmZg4DYCG8q2Yf0BEM2E7LavDAyPosGsbQzvwaa0IsnyfT1TogVh\n",
       "JjD0g92wBUma/QcDw+YAsMLImfEO6IazGACV/AJbDfTkBRCDsQAhzQ/Uyf4dxAK6l8kALHYL1dus\n",
       "34AMDqA07wew2NawDcjefg+ysglk0w+I4EMnWKBeBlpqAlS85f9tBi7/TxNQYyT2f+RUlwUMVASM\n",
       "SkqICIUAAMDnPwbFfXt4AAAAAElFTkSuQmCC\n",
       "\" style=\"display:inline;vertical-align:middle;\" /></a></span>"
      ],
      "text/plain": [
       "{A proper_subset B} |- A subseteq B"
      ]
     },
     "execution_count": 215,
     "metadata": {},
     "output_type": "execute_result"
    }
   ],
   "source": [
    "# subset relaxation to subset_eq\n",
    "SubsetEq(A,B).prove([ProperSubset(A,B)])"
   ]
  },
  {
   "cell_type": "code",
   "execution_count": 216,
   "metadata": {},
   "outputs": [
    {
     "data": {
      "text/html": [
       "<span style=\"font-size:20px;\"><a class=\"ProveItLink\" href=\"../__pv_it/theorems/2fced9727b6076180192dd37cb5cd3a2262487000/expr.ipynb\"><img src=\"data:image/png;base64,iVBORw0KGgoAAAANSUhEUgAAADsAAAAPBAMAAACo4Ko7AAAAMFBMVEX///92dnYiIiIQEBBERERU\n",
       "VFS6urqIiIjc3NxmZmaqqqru7u6YmJgyMjLMzMwAAADiRdoGAAAAAXRSTlMAQObYZgAAAOlJREFU\n",
       "GNNjYACBtwzogCf+68wQNyjnPoY0A7MDA8P8BxCl9zdgSL8/wMCQPwHM3DW/AUQ9UlJS8oFJ1wOF\n",
       "zheAmQfqE2CijTegDGcGBm4jsKFsG9YfgBvaBKW/Ak2LBrO2MbwvgEtzQezj+3qmRAsiksDQPwHh\n",
       "JgUwyf6DgWFzAFhh5Mx4B4R0BJhkMQAq+QW2GujJCwhpbzDJD9TJ/h3EWsDAwGSAbjjI26zfgAwO\n",
       "oDTvB7gsuwDc2+8doD5h+QGXXguhLgMtNQF6e8v/2wxc/p+gTudOhfg19n/kVJcFqMEMDFQVOVQh\n",
       "AHRFPLnG8m3jAAAAAElFTkSuQmCC\n",
       "\" style=\"display:inline;vertical-align:middle;\" /></a> <a class=\"ProveItLink\" href=\"../__pv_it/demonstrations/8b9f918d915dccdd353e8a9b26b8e6a131f762990/proof.ipynb\" style=\"text-decoration: none\">&nbsp;&#x22A2;&nbsp;&nbsp;</a><a class=\"ProveItLink\" href=\"../__pv_it/theorems/05e344b7208c2c23dfa6004888e7fe9f4480f8570/expr.ipynb\"><img src=\"data:image/png;base64,iVBORw0KGgoAAAANSUhEUgAAADsAAAARBAMAAACRPMnQAAAAMFBMVEX///92dnYiIiIQEBBERERU\n",
       "VFS6urqIiIjc3NxmZmaqqqru7u6YmJgyMjLMzMwAAADiRdoGAAAAAXRSTlMAQObYZgAAAPNJREFU\n",
       "KM9jYACBtwzogCf+68wQNyjnPpjcq6Sk5A6TZ3ZgYJj/AKL0/gaY6J5rUMb7AwwM+RPAzF3zG+Cm\n",
       "7oUy64H0+QIw80B9Alya7wKEdmZg4DYCG8q2Yf0BhKNuQKivDAyPosGsbQzvCxDSUhBDvp4p0YII\n",
       "JDD0T0BITwOT7D8YGDYHgBVGzox3QEhD7GYxACr5BbYa6MkLcFkusBYGfiDF/h3EWsDAwGQAl360\n",
       "Ae5t1m9ABgdQmvcDVJI70wPh7fcgK5tANv2ABqqKFFTdZaClJkCDtvy/zcDl/2kCaozE/o+c6rKA\n",
       "gYoAFKFKSgHIQgBh7kHj8bFnhwAAAABJRU5ErkJggg==\n",
       "\" style=\"display:inline;vertical-align:middle;\" /></a></span>"
      ],
      "text/plain": [
       "{A proper_superset B} |- A supseteq B"
      ]
     },
     "execution_count": 216,
     "metadata": {},
     "output_type": "execute_result"
    }
   ],
   "source": [
    "# superset relaxation to superset_eq\n",
    "SupersetEq(A,B).prove([ProperSuperset(A,B)])"
   ]
  },
  {
   "cell_type": "code",
   "execution_count": 217,
   "metadata": {},
   "outputs": [
    {
     "data": {
      "text/html": [
       "<span style=\"font-size:20px;\"><a class=\"ProveItLink\" href=\"../__pv_it/theorems/c2956ea7322468548324be16fbc890b1ca6c3ef90/expr.ipynb\"><img src=\"data:image/png;base64,iVBORw0KGgoAAAANSUhEUgAAADsAAAAOBAMAAABjvHmeAAAAMFBMVEX///92dnYiIiIQEBBERERU\n",
       "VFS6urqIiIjc3NxmZmaqqqru7u6YmJgyMjLMzMwAAADiRdoGAAAAAXRSTlMAQObYZgAAAMhJREFU\n",
       "GNNjYACBtwzogCf+68wQNyjnPoY0A7MDA8P8BxCl9zdgSL8/wMCQPwHM3DW/AUO6Hih0vgDMPFCf\n",
       "gCHtzMDAbQQ2lG3D+gMY0l8ZGB5Fg1nbGN6DTZG9CwI3wWJ8X8+UaEEUJjD0T0DXzP6DgWFzAFhh\n",
       "5Mx4B3RpFgOgkl9gq4GevIAuzQ/Uyf4dxFrAwMBkgLD7KtzbrN+ADA6gNO8HbN5+D7KyCWTTD3Tp\n",
       "y0BLTYDe3vL/NgOX/yc0p8f+j5zqAjQWANmrP2CfjofaAAAAAElFTkSuQmCC\n",
       "\" style=\"display:inline;vertical-align:middle;\" /></a> <a class=\"ProveItLink\" href=\"../__pv_it/demonstrations/95da4f95f578fc1d2571a62d7f79ea5a758790470/proof.ipynb\" style=\"text-decoration: none\">&nbsp;&#x22A2;&nbsp;&nbsp;</a><a class=\"ProveItLink\" href=\"../__pv_it/theorems/288bdfb6b256f35e627359603e28f6025e9822ce0/expr.ipynb\"><img src=\"data:image/png;base64,iVBORw0KGgoAAAANSUhEUgAAADsAAAARBAMAAACRPMnQAAAAMFBMVEX///92dnYiIiIQEBBERERU\n",
       "VFS6urqIiIjc3NxmZmaqqqru7u6YmJgyMjLMzMwAAADiRdoGAAAAAXRSTlMAQObYZgAAAO9JREFU\n",
       "KM9jYACBtwzogCf+68wQNyjnPpQ+qqSkpAdhMjswMMx/AFF6fwOY7pVAaH9/gIEhfwKYuWt+A5i+\n",
       "gWR6PVDofAGYeaA+AURxLkCSdmZg4DYCG8q2Yf0BEM2E7LavDAyPosGsbQzvwaa0IsnyfT1TogVh\n",
       "JjD0g92wBUma/QcDw+YAsMLImfEO6IazGACV/AJbDfTkBRCDsQAhzQ/Uyf4dxAK6l8kALHYL1dus\n",
       "34AMDqA07wew2NawDcjefg+ysglk0w+I4EMnWKBeBlpqAlS85f9tBi7/TxNQYyT2f+RUlwUMVASM\n",
       "SkqICIUAAMDnPwbFfXt4AAAAAElFTkSuQmCC\n",
       "\" style=\"display:inline;vertical-align:middle;\" /></a></span>"
      ],
      "text/plain": [
       "{A = B} |- A subseteq B"
      ]
     },
     "execution_count": 217,
     "metadata": {},
     "output_type": "execute_result"
    }
   ],
   "source": [
    "# equality relax to subset_eq\n",
    "SubsetEq(A,B).prove([Equals(A, B)])"
   ]
  },
  {
   "cell_type": "code",
   "execution_count": 218,
   "metadata": {},
   "outputs": [
    {
     "data": {
      "text/html": [
       "<span style=\"font-size:20px;\"><a class=\"ProveItLink\" href=\"../__pv_it/theorems/c2956ea7322468548324be16fbc890b1ca6c3ef90/expr.ipynb\"><img src=\"data:image/png;base64,iVBORw0KGgoAAAANSUhEUgAAADsAAAAOBAMAAABjvHmeAAAAMFBMVEX///92dnYiIiIQEBBERERU\n",
       "VFS6urqIiIjc3NxmZmaqqqru7u6YmJgyMjLMzMwAAADiRdoGAAAAAXRSTlMAQObYZgAAAMhJREFU\n",
       "GNNjYACBtwzogCf+68wQNyjnPoY0A7MDA8P8BxCl9zdgSL8/wMCQPwHM3DW/AUO6Hih0vgDMPFCf\n",
       "gCHtzMDAbQQ2lG3D+gMY0l8ZGB5Fg1nbGN6DTZG9CwI3wWJ8X8+UaEEUJjD0T0DXzP6DgWFzAFhh\n",
       "5Mx4B3RpFgOgkl9gq4GevIAuzQ/Uyf4dxFrAwMBkgLD7KtzbrN+ADA6gNO8HbN5+D7KyCWTTD3Tp\n",
       "y0BLTYDe3vL/NgOX/yc0p8f+j5zqAjQWANmrP2CfjofaAAAAAElFTkSuQmCC\n",
       "\" style=\"display:inline;vertical-align:middle;\" /></a> <a class=\"ProveItLink\" href=\"../__pv_it/demonstrations/15628ba9fab0d08f10dfa1b172c7aeaf4f57b9b20/proof.ipynb\" style=\"text-decoration: none\">&nbsp;&#x22A2;&nbsp;&nbsp;</a><a class=\"ProveItLink\" href=\"../__pv_it/theorems/05e344b7208c2c23dfa6004888e7fe9f4480f8570/expr.ipynb\"><img src=\"data:image/png;base64,iVBORw0KGgoAAAANSUhEUgAAADsAAAARBAMAAACRPMnQAAAAMFBMVEX///92dnYiIiIQEBBERERU\n",
       "VFS6urqIiIjc3NxmZmaqqqru7u6YmJgyMjLMzMwAAADiRdoGAAAAAXRSTlMAQObYZgAAAPNJREFU\n",
       "KM9jYACBtwzogCf+68wQNyjnPpjcq6Sk5A6TZ3ZgYJj/AKL0/gaY6J5rUMb7AwwM+RPAzF3zG+Cm\n",
       "7oUy64H0+QIw80B9Alya7wKEdmZg4DYCG8q2Yf0BhKNuQKivDAyPosGsbQzvCxDSUhBDvp4p0YII\n",
       "JDD0T0BITwOT7D8YGDYHgBVGzox3QEhD7GYxACr5BbYa6MkLcFkusBYGfiDF/h3EWsDAwGQAl360\n",
       "Ae5t1m9ABgdQmvcDVJI70wPh7fcgK5tANv2ABqqKFFTdZaClJkCDtvy/zcDl/2kCaozE/o+c6rKA\n",
       "gYoAFKFKSgHIQgBh7kHj8bFnhwAAAABJRU5ErkJggg==\n",
       "\" style=\"display:inline;vertical-align:middle;\" /></a></span>"
      ],
      "text/plain": [
       "{A = B} |- A supseteq B"
      ]
     },
     "execution_count": 218,
     "metadata": {},
     "output_type": "execute_result"
    }
   ],
   "source": [
    "# equality relax to superset_eq\n",
    "SupersetEq(A,B).prove([Equals(A,B)])"
   ]
  },
  {
   "cell_type": "code",
   "execution_count": 219,
   "metadata": {},
   "outputs": [],
   "source": [
    "%end demonstrations"
   ]
  },
  {
   "cell_type": "code",
   "execution_count": null,
   "metadata": {},
   "outputs": [],
   "source": []
  }
 ],
 "metadata": {
  "kernelspec": {
   "display_name": "Python 3",
   "language": "python",
   "name": "python3"
  }
 },
 "nbformat": 4,
 "nbformat_minor": 0
}