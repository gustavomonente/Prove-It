{
 "cells": [
  {
   "cell_type": "markdown",
   "metadata": {},
   "source": [
    "Proof of <a class=\"ProveItLink\" href=\"../../../../../_theory_.ipynb\">proveit</a>.<a class=\"ProveItLink\" href=\"../../../../_theory_.ipynb\">logic</a>.<a class=\"ProveItLink\" href=\"../../../_theory_.ipynb\">sets</a>.<a class=\"ProveItLink\" href=\"../../_theory_.ipynb\">inclusion</a>.<a class=\"ProveItLink\" href=\"../../_theorems_.ipynb#transitivitySupsetEqSupsetEq\">transitivitySupsetEqSupsetEq</a> theorem\n",
    "========"
   ]
  },
  {
   "cell_type": "code",
   "execution_count": null,
   "metadata": {},
   "outputs": [],
   "source": [
    "import proveit\n",
    "from proveit._common_ import x, A, B, C\n",
    "from proveit.logic import InSet, SupersetEq\n",
    "from proveit.logic.sets.inclusion._axioms_ import supersetEqDef"
   ]
  },
  {
   "cell_type": "code",
   "execution_count": null,
   "metadata": {},
   "outputs": [],
   "source": [
    "%proving transitivitySupsetEqSupsetEq"
   ]
  },
  {
   "cell_type": "code",
   "execution_count": null,
   "metadata": {},
   "outputs": [],
   "source": [
    "supersetEqDef"
   ]
  },
  {
   "cell_type": "code",
   "execution_count": null,
   "metadata": {},
   "outputs": [],
   "source": [
    "supersetEqDef_inst_AB = supersetEqDef.instantiate({A:A, B:B})"
   ]
  },
  {
   "cell_type": "code",
   "execution_count": null,
   "metadata": {},
   "outputs": [],
   "source": [
    "supersetEqDef_inst_BC = supersetEqDef.instantiate({A:B, B:C})"
   ]
  },
  {
   "cell_type": "code",
   "execution_count": null,
   "metadata": {},
   "outputs": [],
   "source": [
    "supersetEqDef_inst_AC = supersetEqDef.instantiate({A:A, B:C})"
   ]
  },
  {
   "cell_type": "code",
   "execution_count": null,
   "metadata": {},
   "outputs": [],
   "source": [
    "# We work the opposite direction we worked for the Subset case\n",
    "supersetEqDef_inst_BC.deriveRightViaEquality([supersetEqDef_inst_BC.lhs]).instantiate(assumptions=[InSet(x, C)])"
   ]
  },
  {
   "cell_type": "code",
   "execution_count": null,
   "metadata": {},
   "outputs": [],
   "source": [
    "supersetEqDef_inst_AB.deriveRightViaEquality([supersetEqDef_inst_AB.lhs]).instantiate(assumptions=[InSet(x, C), SupersetEq(B, C)])"
   ]
  },
  {
   "cell_type": "code",
   "execution_count": null,
   "metadata": {},
   "outputs": [],
   "source": [
    "supersetEqDef_inst_AC.rhs.prove(assumptions=[SupersetEq(A,B), SupersetEq(B,C)])"
   ]
  },
  {
   "cell_type": "code",
   "execution_count": null,
   "metadata": {},
   "outputs": [],
   "source": [
    "%qed"
   ]
  },
  {
   "cell_type": "code",
   "execution_count": null,
   "metadata": {},
   "outputs": [],
   "source": []
  }
 ],
 "metadata": {
  "kernelspec": {
   "display_name": "Python 3",
   "language": "python",
   "name": "python3"
  }
 },
 "nbformat": 4,
 "nbformat_minor": 0
}
