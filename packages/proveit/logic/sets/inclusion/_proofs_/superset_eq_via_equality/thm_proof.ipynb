{
 "cells": [
  {
   "cell_type": "markdown",
   "metadata": {},
   "source": [
    "Proof of <a class=\"ProveItLink\" href=\"../../../../../_theory_.ipynb\">proveit</a>.<a class=\"ProveItLink\" href=\"../../../../_theory_.ipynb\">logic</a>.<a class=\"ProveItLink\" href=\"../../../_theory_.ipynb\">sets</a>.<a class=\"ProveItLink\" href=\"../../_theory_.ipynb\">inclusion</a>.<a class=\"ProveItLink\" href=\"../../_theorems_.ipynb#superset_eq_via_equality\">superset_eq_via_equality</a> theorem\n",
    "========\n",
    "*** see <a href=\"../__pv_it/47693a3681f83c1d3a81ca1cb74bc485125038e40/dependencies.ipynb\" class=\"ProveItLink\">dependencies</a> ***"
   ]
  },
  {
   "cell_type": "code",
   "execution_count": null,
   "metadata": {},
   "outputs": [],
   "source": [
    "import proveit\n",
    "from proveit._common_ import x, y, A, B, Px\n",
    "from proveit.logic import Equals, SupersetEq\n",
    "from proveit.logic.equality._theorems_ import sub_right_side_into\n",
    "from proveit.logic.sets.inclusion._theorems_ import supset_eq_reflexive\n",
    "%proving superset_eq_via_equality"
   ]
  },
  {
   "cell_type": "markdown",
   "metadata": {},
   "source": [
    "This proceeded automatically but with a 7-step proof using the subset_eq_via_equality.\n",
    "By introducing the sub_right_side_into thm, and the reflexiveness of supersets, we nudge the proof to be a bit shorter."
   ]
  },
  {
   "cell_type": "code",
   "execution_count": null,
   "metadata": {},
   "outputs": [],
   "source": [
    "supset_eq_reflexive"
   ]
  },
  {
   "cell_type": "code",
   "execution_count": null,
   "metadata": {},
   "outputs": [],
   "source": [
    "supset_eq_reflexive.instantiate()"
   ]
  },
  {
   "cell_type": "code",
   "execution_count": null,
   "metadata": {},
   "outputs": [],
   "source": [
    "sub_right_side_into"
   ]
  },
  {
   "cell_type": "code",
   "execution_count": null,
   "metadata": {},
   "outputs": [],
   "source": [
    "sub_right_side_into.instantiate({Px:SupersetEq(A, x), x:A, y:B }, assumptions=[Equals(A, B)])"
   ]
  },
  {
   "cell_type": "code",
   "execution_count": null,
   "metadata": {},
   "outputs": [],
   "source": [
    "%qed"
   ]
  }
 ],
 "metadata": {
  "kernelspec": {
   "display_name": "Python 3",
   "language": "python",
   "name": "python3"
  }
 },
 "nbformat": 4,
 "nbformat_minor": 0
}
