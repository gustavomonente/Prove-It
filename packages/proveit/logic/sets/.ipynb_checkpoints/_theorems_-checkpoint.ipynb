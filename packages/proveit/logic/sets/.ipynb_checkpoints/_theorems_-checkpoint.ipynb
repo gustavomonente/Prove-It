{
 "cells": [
  {
   "cell_type": "markdown",
   "metadata": {},
   "source": [
    "Theorems (or conjectures) for the theory of <a class=\"ProveItLink\" href=\"_theory_.ipynb\">proveit.logic.sets</a>\n",
    "========"
   ]
  },
  {
   "cell_type": "code",
   "execution_count": 1,
   "metadata": {},
   "outputs": [
    {
     "name": "stdout",
     "output_type": "stream",
     "text": [
      "Defining theorems for theory 'proveit.logic.sets'\n",
      "Subsequent end-of-cell assignments will define theorems\n",
      "'%end theorems' will finalize the definitions\n"
     ]
    }
   ],
   "source": [
    "import proveit\n",
    "# Prepare this notebook for defining the theorems of a theory:\n",
    "%theorems_notebook # Keep this at the top following 'import proveit'.\n",
    "from proveit import x, A, B, S\n",
    "from proveit.logic import Boolean, EmptySet, Forall, Intersect, InSet, NotInSet\n",
    "from proveit.logic import SetEquiv, SubsetEq, SupersetEq, Union\n",
    "\n",
    "%begin theorems"
   ]
  },
  {
   "cell_type": "markdown",
   "metadata": {},
   "source": [
    "**Nothing is in the empty set (everything is *not* in the empty set):**"
   ]
  },
  {
   "cell_type": "code",
   "execution_count": 2,
   "metadata": {},
   "outputs": [
    {
     "data": {
      "text/html": [
       "<strong id=\"all_not_is_empty\"><a class=\"ProveItLink\" href=\"_proofs_/all_not_is_empty/thm_proof.ipynb\">all_not_is_empty</a> (conjecture without proof):<br></strong> <a class=\"ProveItLink\" href=\"__pv_it/theorems/592087ebdac0ca5f75f0df1f878ef8c9d6c8508d0/theorem_expr.ipynb\"><img src=\"data:image/png;base64,iVBORw0KGgoAAAANSUhEUgAAAF0AAAAVCAMAAAATpBLwAAAAQlBMVEX///9jY2MJCQkNDQ0rKysP\n",
       "Dw8WFhYQEBCIiIhmZma6urrMzMxUVFQiIiJERETc3Nzu7u6qqqp2dnaYmJgyMjIAAADRR/RZAAAA\n",
       "AXRSTlMAQObYZgAAAcBJREFUOMutVduypCAMZK9GJBAS+P9fXQLe0JH1VB0eplSg0+l0MsZ8w1ou\n",
       "7/5r14MMt/H0HBlY0WPQt7R/l0cIGpNZ3PHMYAxUTKfwHLeNRE/XUxiiz/ZIUtPwDpSSxggbr/BI\n",
       "UGbzVph6FC1uaeyUjyRutwfUxePfP7jL6wuinSkrJk26z6Qr4GNJ8VlxD2T8KfgkKhTl6qKkimWv\n",
       "C/kJAlZhCMAFCzXh9YvmTel0NscqVK6VYL3oaiD/mL5vXqISXhDMIUOzBUCPrvXLVWXRk3Y2FwYX\n",
       "2VtBuPDkIqgNfdd0VstiQDb0iFvN4blfpmY4BfGdr5YppfT7V/lJJ901WlNmyZWV9O32Gb1Sg67c\n",
       "/mY1BBVhrWpDD2lvN4Z5Abd8UqYe73cmc6XlOPIGa5rtS0Vd41f85VLphk9VjWQgtzN7k0Ir2tn+\n",
       "Sk2agNIEizPuwy7dClCNZWyplM+XgYbxkqdB3IxegvNNz3xzZkuQHADB3I86cj9tP50iBto6Iq2R\n",
       "hQ5p7+N6MAnkB3vEUwuwWFmP08UpIRsuB/n9FLv1YOyHcZ+o2DL86b8Ybwb/oD9fggx6cDBa3v7z\n",
       "DahX9f8BCuUWgBfXvsoAAAAASUVORK5CYII=\n",
       "\" style=\"display:inline;vertical-align:middle;\" /></a><br>"
      ],
      "text/plain": [
       "all_not_is_empty: forall_{x} (x not-in emptyset)"
      ]
     },
     "execution_count": 2,
     "metadata": {},
     "output_type": "execute_result"
    }
   ],
   "source": [
    "all_not_is_empty = Forall(x, NotInSet(x, EmptySet))"
   ]
  },
  {
   "cell_type": "markdown",
   "metadata": {},
   "source": [
    "### Identities Involving Unions, Intersections, and Equivalences"
   ]
  },
  {
   "cell_type": "code",
   "execution_count": 3,
   "metadata": {},
   "outputs": [
    {
     "data": {
      "text/html": [
       "<strong id=\"union_with_superset_is_superset\"><a class=\"ProveItLink\" href=\"_proofs_/union_with_superset_is_superset/thm_proof.ipynb\">union_with_superset_is_superset</a> (conjecture without proof):<br></strong> <a class=\"ProveItLink\" href=\"__pv_it/theorems/e7f92b16cbf24eaf9fd53f24319ec2a6e35426a30/theorem_expr.ipynb\"><img src=\"data:image/png;base64,iVBORw0KGgoAAAANSUhEUgAAAOcAAAAWBAMAAADJFJavAAAAMFBMVEX///8QEBCIiIhmZma6urrM\n",
       "zMxUVFQiIiJERETc3Nzu7u6qqqp2dnaYmJgyMjIAAAAcRTyBAAAAAXRSTlMAQObYZgAAA0tJREFU\n",
       "SMe9VltrE1EQ/sylzW4u9cEnFVvwBzRaaW0JNCj4IIhBsC8KRrwjQsQnRSEvSlooCQi1IGJEtKVo\n",
       "GymCRcRaL9Q21OANRNRIUUREW7VaqzXOnLObbrZJmwg6MGfnnO/sfnNm5kwC/KWc0bSQ9M0FpNl4\n",
       "UTKnGpZKYk+bwd5k/+OymLRHdtFgk7bTl3T7GRjm2fuSST0xqWyO8RgXrogFRwqdY6p0xXPgVgoo\n",
       "ky+1Qo2CgXaaKOGSSR9pSvJyCnrEPGKhBnCnMSDsh1A/AG3CtnppMxjwkIuuRMmkhzWl0/X+4EeI\n",
       "h3KxMEHxrMI5gQbp4M3KG2H3BIA1YMA91NV1qmROJSSVxG35mktqm6Y8B+Dx84QOhwcZeaiNFOjN\n",
       "EMBkJHK0ZFKLVyrJeue06aSZu/xwebNFF5DPnl8BHaDqahZrcrQnh59gpuAoOrEs1dbkDe19qhWh\n",
       "9EW//XMuKaoz32IirWZPM5l9kMBayEJziyjR1Cmq0aFvfUXRuBSJnCA/vLipLZYnpLJzyhcTqfq0\n",
       "cjHdD7Ey8pFlVL51eft4XALlsAiXz4so4QgQNpKqjSnYj0umeHZ1gV8q0FRTO2kipTr9SSEby5OW\n",
       "xoQEXCm5deiQeFApJoykrg6vblfE4JxFSsOyXNJ+8jQfqYvTqpEq6SaRy6qIgF7f0bKmbd3kCOO6\n",
       "1hCW+mEOL3txMHtPuzk0dEvsdHVtIRPpRdJtcQ1o3slLZagT0PnKRTmkQWsI9VqkV4zrrNlCOk36\n",
       "iVdWif7Hbiyk8PbrhSRz+pbNK6Q+rZDQK1x6jmrtCu4xkroTljHc151t073nsmcVdzXK9d1NdW3j\n",
       "dmqlNN2DJM6ROi9cQR2oqOJTjCaj3D4vUNyNpN2+wSluI/K6qXqeOESkavR3HNcyXA3Ku6tb9vIX\n",
       "rLYduznwnoCJ1Luudj90wC22xnGWJ5S+JiNpA5QJ7ao6E7AHZ7dBXezLV8aM845CjWUG2EAnTikt\n",
       "WA21xUBqo7xNQ23lz1nD6IznafgFZGBewDEJJXrMvgT1vttxA2k0jPbvKTgHqTlYTyYbYOxTjthc\n",
       "P7jpYgHnjOko+kc8vxT0aBbQVzTpvH9XnhUNpPKTtkdI8B/E+g+//QeGce/AeteLIAAAAABJRU5E\n",
       "rkJggg==\n",
       "\" style=\"display:inline;vertical-align:middle;\" /></a><br>"
      ],
      "text/plain": [
       "union_with_superset_is_superset: forall_{A, S | A subseteq S} ((A union S) equiv S)"
      ]
     },
     "execution_count": 3,
     "metadata": {},
     "output_type": "execute_result"
    }
   ],
   "source": [
    "union_with_superset_is_superset = Forall(\n",
    "        (A, S),\n",
    "        SetEquiv(Union(A, S), S),\n",
    "        conditions=[SubsetEq(A, S)])"
   ]
  },
  {
   "cell_type": "code",
   "execution_count": 4,
   "metadata": {},
   "outputs": [
    {
     "data": {
      "text/html": [
       "<strong id=\"intersection_with_superset_is_set\"><a class=\"ProveItLink\" href=\"_proofs_/intersection_with_superset_is_set/thm_proof.ipynb\">intersection_with_superset_is_set</a> (conjecture without proof):<br></strong> <a class=\"ProveItLink\" href=\"__pv_it/theorems/ff9560987ec433d26871904f136d0d602ddb61c10/theorem_expr.ipynb\"><img src=\"data:image/png;base64,iVBORw0KGgoAAAANSUhEUgAAAOkAAAAWBAMAAADX3aYcAAAAMFBMVEX///8QEBCIiIhmZma6urrM\n",
       "zMxUVFQiIiJERETc3Nzu7u6qqqp2dnaYmJgyMjIAAAAcRTyBAAAAAXRSTlMAQObYZgAAAz1JREFU\n",
       "SMe9Vs1rE1EQH7PZNrubtB48qdj+B40U1JaCQQ+KIBQPPQkW/EJEiPSiopCDH0lBEhBqQMRIkZYi\n",
       "NdCDFhFrq1LboItfIGKNtPUgovWjWis1zsx7u242WWsEHZj3Nb+3v3nvzUwC8JdyXqqXGCkvyyBq\n",
       "ngYvKibVY0JR1LzbOJAbegz7xPj+bmz8loWwVejPOE3eVMxakxJKwxnpSEbaAib0zkC/MB64ZSKR\n",
       "vQ2xOjKncazFKmZ9JBVlYp67zYdOHRcLjQChPATrafwQ9LcAXdY2xg4jO3oYzFbMelgquj7wjbpg\n",
       "AqAtzAuzeKX1oC+lSTsePaFNW+/C2Ivo1Vhf39mKSbWoUJSQ77N1eNhPjX8B368VYIom5MeDgnUq\n",
       "ga2JAMzF40crZvWFhaJsMRao66QmzQcq3GHDiB15rdZIYIO4EWMswUuiVXPjT8AZdoFfKbA9d6PV\n",
       "DhhW/GRE/Ug9H7yajQ2FL7RnojTwBRYfHTZyUOGYLwqnBsdkwIK+xPu4HI+fREfCcFMuVmeFknfa\n",
       "Jxer/rRuOXZXOXHekUyKXRJrRAnpY6e7+aLgCEDMyaqvN0E9Iagy9uqSiFCMoMY1cy5WAOU7NjtK\n",
       "ziqxKh4raArsWAd3GGRZJ2uwJ2yNa1NglLBis6qYdQhdLc8qscSq5dv4PevjbHl1W76cRG4LxOC6\n",
       "TPGVEXDfMLlxsIhVx2RRKS03lRRJifUTNrGLlqpgLZu665YVsbYrUWiSl736QwRc0XQO9X0Rq4F5\n",
       "qgxZ0STe9TVvsrAUTTDAG55Dg0zFvU7WUNY3A/csb7ui1r2HhXLOJlNOVgVf6i5NWsrkOGPZp1oq\n",
       "XfpkLkl19BLAFSdrf8voPGyw0k6XJZcvCVVP/sjAtUJHEat/5x6OjGlX2tjYGkq/ELEpGbhAE3zC\n",
       "NidrM2izMmWNLKjtpRVRCudByMkS9SoxPfZoK57Z1DphHeidDlY/fmwB9NNEq8SgN1Om+nuIqP7l\n",
       "ZNguQHOgJY+pK6CpZSTjYE3GIP3VBGMUq4RyJtcMzooVSP2Otd/zpzlfJrahOHMW/1X3kISXocTZ\n",
       "wT9mXfQfTMjzIp65F8zyrOk4CvwPUf7lx38CFl3qAvOYsjsAAAAASUVORK5CYII=\n",
       "\" style=\"display:inline;vertical-align:middle;\" /></a><br>"
      ],
      "text/plain": [
       "intersection_with_superset_is_set: forall_{A, S | A subseteq S} ((A intersect S) equiv A)"
      ]
     },
     "execution_count": 4,
     "metadata": {},
     "output_type": "execute_result"
    }
   ],
   "source": [
    "intersection_with_superset_is_set = Forall(\n",
    "        (A, S),\n",
    "        SetEquiv(Intersect(A, S), A),\n",
    "        conditions=[SubsetEq(A, S)])"
   ]
  },
  {
   "cell_type": "code",
   "execution_count": 5,
   "metadata": {},
   "outputs": [
    {
     "data": {
      "text/html": [
       "<strong id=\"set_subset_eq_of_union_with_set\"><a class=\"ProveItLink\" href=\"_proofs_/set_subset_eq_of_union_with_set/thm_proof.ipynb\">set_subset_eq_of_union_with_set</a> (conjecture with conjecture-based proof):<br></strong> <a class=\"ProveItLink\" href=\"__pv_it/theorems/0b5357b48eb1ffea14824ae453e08d06460bbb6e0/theorem_expr.ipynb\"><img src=\"data:image/png;base64,iVBORw0KGgoAAAANSUhEUgAAATMAAAAWBAMAAABeYGZcAAAAMFBMVEX///8QEBCIiIhmZma6urrM\n",
       "zMxUVFQiIiJERETc3Nzu7u6qqqp2dnaYmJgyMjIAAAAcRTyBAAAAAXRSTlMAQObYZgAABE9JREFU\n",
       "SMe1V2+IVFUUP86bP+/vuB+EhEIe+MHNXHdgTD+IuBDoIto+hKwP4Q6YuS2UGxuMpcIUfZjVdOaL\n",
       "JYbuE4PEiAYsqU8tu4RlIo/6FKW9WvqgBC5urNtKrueec+f9mZkdopgD59577j333d/5c897D6CD\n",
       "dHapBc1rt+0ryb4QbnYEmV6iLuU3rVzkbm/DtHVwLj/0LqSrQPy9mLvTEWjZKncz8uADxWLRoeFt\n",
       "nrlLBtDQpXYZGrPV0dEWwaeFf0sdgfYjd7cWOIh/VgPv5Li7KwBlacyeHcRAD+RgEofIWVw2ax2B\n",
       "9iaH9fLfUR8KyvDwk62iz9B4hNpenPjVhvM4RLauXbr0QUeQaXyclfiL+s3hijzP6+1rgPY2WvKY\n",
       "C1mcFzxfLh/516chV5tmndZSgsO2w/gncjjRamqT7tdeA7Q5gOeHMYo55v0AYzTPbf/s1BCdnmwB\n",
       "bQK3RGVW/jymE0gqVQi9L3WPrCqEKieo/QgG7Ti01NzN7sPC0T7zM3QbcMx+t7rA7KIni0bBTEwH\n",
       "jxQ3+pXYbSdlRTrS+n16tBZIkKmxhdpspJIQHaa2D8ZzcWgJzMrzaIIxwpyBBJl3gf2uFMBYCKCl\n",
       "0E/vB498kSc4h6e21JX1gpTtibNfsESVQGQS7MlvnG8M6Ap69L78wVIcmoo+STzApRlm0+PFa6Ns\n",
       "qw2KH0AD3Px08EiMfVqmknX8jBso35aybZufBkVLQsNmFYmTDdAwYZb5cWjL0arEvRCa5u8hI+wy\n",
       "6XzmwHo3hHarXA4jQT4Gc/Xu/ZgGEeUeYNm2d31HUhhQA/l1Lh61eEBRzHTV6xrnlChracyr5Agz\n",
       "jL1EeQSbaNtATzdHRJWtVYtWA7z3a9P+G7JESuUrsmTa+VUOSeE1+LBe9EF/eUf0Gmg1+Z5QhHON\n",
       "XL2sDZbCawCXyZk/Qy9tuwGwJgLNdNTA2CTu6sfqkPVAz0WV+6Vs28opUuGtOVnbKnwxUt/WX1RT\n",
       "srapohjrf2DzLAXqNzxjJY6UCWZYLq6wPn29QsvvAYzXQmh6YWcIDT20TWyoQupQufxOoLxXyphr\n",
       "ifCljSHRKw9d+HJxtKEGbccX/OIdMCr3hUXnjj935ZiYfm1x38ayODvrMIPlcpUYJ4vwggxUQ2gw\n",
       "PAzauh6KcQq99oJICSyrHHSpjHgL7DVTYfSRF1ULysTL9u78k/H1jyUz7UJneNox0BZAeyISUNiG\n",
       "9SFZopKhj4gd2swNLL3fUPJJ5V+AZXvCvE5S7PXeTPL1viRNRi+0Og9a5Wjqcbg6mx/qi0LLoC8T\n",
       "No/fQtHVX925zgVVOL6uvAFIto5Mn/RIkg+NOedqsRh8FI21/87z61c2QkZkHKa/qTr8VfoUoqzf\n",
       "126Ra5L8mOw3fEq2oIttoQmT1GqLT99maMoPk04w1eI4w1tC+o8f4D9JjpHXElp4RT1Kyka60Ebq\n",
       "CCmtfyiM5o+itW2k/0GPAAMRKz0uVe91AAAAAElFTkSuQmCC\n",
       "\" style=\"display:inline;vertical-align:middle;\" /></a><br>"
      ],
      "text/plain": [
       "set_subset_eq_of_union_with_set: forall_{A, B | forall_{x} ((x in B) in BOOLEAN)} (A subseteq (A union B))"
      ]
     },
     "execution_count": 5,
     "metadata": {},
     "output_type": "execute_result"
    }
   ],
   "source": [
    "set_subset_eq_of_union_with_set = Forall(\n",
    "    (A, B),\n",
    "    SubsetEq(A, Union(A, B)),\n",
    "    condition=Forall(x, InSet(InSet(x, B), Boolean)))"
   ]
  },
  {
   "cell_type": "code",
   "execution_count": 6,
   "metadata": {},
   "outputs": [
    {
     "data": {
      "text/html": [
       "<strong id=\"intersection_is_subset_eq\"><a class=\"ProveItLink\" href=\"_proofs_/intersection_is_subset_eq/thm_proof.ipynb\">intersection_is_subset_eq</a> (conjecture with conjecture-based proof):<br></strong> <a class=\"ProveItLink\" href=\"__pv_it/theorems/852c82149d725fe1694a05ec2c4c925affd284970/theorem_expr.ipynb\"><img src=\"data:image/png;base64,iVBORw0KGgoAAAANSUhEUgAAATQAAAAWBAMAAAC8vH0lAAAAMFBMVEX///8QEBCIiIhmZma6urrM\n",
       "zMxUVFQiIiJERETc3Nzu7u6qqqp2dnaYmJgyMjIAAAAcRTyBAAAAAXRSTlMAQObYZgAABC1JREFU\n",
       "SMe1V11oFFcUPu5mNzOzMzFvChYZ8KHBmmZhW/tgxYWCDaJk6IP1oZgFa40p1pUU1lqFVYRubHH3\n",
       "xR9aJFsstFhsF+yfTw0Gsf4ggz5W7bZpHxRBMZLGSBvPPefOzJ3N7DZQ9sCZ2e+ec2e+Oefcc+8C\n",
       "tFFOSW0qqUorS138uN0WZkaRFSVRD5us3dOZocMAOyMnbgWyXBW/77WFWleFVfx8KNlWpW0RUl7n\n",
       "wDce1R2FQsHxJj5ARctJvOnFtlC7KRXlzizd+vd+dJgHBl2AgTSYNiH9vppZ6wF+AFq6xK3WFmof\n",
       "SMVgnXsibuYowOY0jfQhl99sMLr9+Aby9TqEaLGunDlzoi3M9DyriEPssRdGeJdGDuLLl2BU/iS0\n",
       "JjTR7csCWWZKpf0Lfhvq/EXlRKNYmhVlQ+ofcTsiLidpZBrgzWG8TxDKqw/oqP7ssmU7wCgN8bV/\n",
       "amKI3t4RQW0ck6Jidv4u5OMjzWXF+GQTj3wGnbRip2/3fEhFSF+cUx/wBQzabHkNDFrZ1mOOfTeY\n",
       "VACauMQx5kl/UrLSsNzZOS4Daf0xOVLzEXTWWMVX6lNhajGsvc8FoR+9LhNIFsbSbOmEGH3aaYo5\n",
       "xHOQmvWpJTBOx/1Jb/EA1+rEWs/ZyElsj5/6nhH1hywrln5m9UyYmoZfH3sqVuq8hCa2ZXYX2WK6\n",
       "5AxXRvhbbYjXfWqATi/7szD3SVlK1sefVn3nuxLbtnmWUAM1vCwPU1uM/GOPfGoX1FLDWXW26PXN\n",
       "RNYukeVbB16sBtTulEpBtPP0YHPFG9uxDBTnXmBs25suEwonNIW6J0xNtLWkqKDXuXko3UvM6paW\n",
       "0bepjuAVsgz09nBGNHm1amo3wD6zMll/n/c3z/kHud/ZmeUOofAy+Ew2eIWaaGuDRW8ZgPHOBv8l\n",
       "Nbl3CMs5mvEr9JHpOsDzCjXT0YJQ47P6sTt0uWCkVed+iW07foxceGqalXpbuRKi9js+balIzquy\n",
       "wH7xNirRY7Un0rJYLFVj8lqZ8vgJwFgtoGbkNgbUMELrxYQKJPaWSod8560SY63FeHMm9zypUf63\n",
       "Cj/NjajU3pvbtrpEb/mroT19NXcPUuW/02yxqtwlxog1LpuBSkANhodBX9VLOU5g1LZQgTrASZfO\n",
       "yDfHUTPjzL5ho/LaPC2g0OEk3/TY4ls2YTBc/Qjos6A/pyQU1mN/6CiOe95fgv7wOrbei1QX0vkW\n",
       "MLbHzWuE5m3vzURu760s2gzo5QOJZXBpKjOUVal1Yixj0m0fwqqxa+OqKmgiHZ7zS0DY2j951CUk\n",
       "H1phbSHyUHSpUFAPRYolOFsqv4PyNzWHUgEvIEtvvfaIWpNSD+F6xFGymYwu2HI+klr8xgXHH4p4\n",
       "Vcptgv7zAG5VFmxxI6kFS9SlomyU0y1QWyQeMXY+8p/Gyhbof8gzcxslEbLxAfUAAAAASUVORK5C\n",
       "YII=\n",
       "\" style=\"display:inline;vertical-align:middle;\" /></a><br>"
      ],
      "text/plain": [
       "intersection_is_subset_eq: forall_{A, B | forall_{x} ((x in B) in BOOLEAN)} ((A intersect B) subseteq A)"
      ]
     },
     "execution_count": 6,
     "metadata": {},
     "output_type": "execute_result"
    }
   ],
   "source": [
    "intersection_is_subset_eq = Forall(\n",
    "        (A, B),\n",
    "        SubsetEq(Intersect(A, B), A),\n",
    "    condition=Forall(x, InSet(InSet(x, B), Boolean)))"
   ]
  },
  {
   "cell_type": "code",
   "execution_count": 7,
   "metadata": {},
   "outputs": [
    {
     "data": {
      "text/html": [
       "<strong id=\"intersection_subset_eq_union\"><a class=\"ProveItLink\" href=\"_proofs_/intersection_subset_eq_union/thm_proof.ipynb\">intersection_subset_eq_union</a> (conjecture with conjecture-based proof):<br></strong> <a class=\"ProveItLink\" href=\"__pv_it/theorems/2adbbff9aff106bf043a6ea85aada51fcb35cf8a0/theorem_expr.ipynb\"><img src=\"data:image/png;base64,iVBORw0KGgoAAAANSUhEUgAAAO8AAAAVBAMAAABcV6T1AAAAMFBMVEX///8QEBCIiIhmZma6urrM\n",
       "zMxUVFQiIiJERETc3Nzu7u6qqqp2dnaYmJgyMjIAAAAcRTyBAAAAAXRSTlMAQObYZgAAA4RJREFU\n",
       "SMe9Vl9IU1EY/9x25+7dH/cQJRQx6CF7KAcDewlc9GAEpQTZS7SBBhaUi6hlFigETi22pwwinRQl\n",
       "BiUIlU9FPlQWMQqCCGtRPmQPipqpYfZ93zl3273zCr30we/c8//3ne/PORdgLVEzAtbiThX33Vxz\n",
       "zxGJLDXGLSYNSKAcNQ15m+dDTZcBjhct0tr4o2RN/e9XGqoSYXCiqoRX1DdpQfxdAmVKdg3qYyW4\n",
       "f3Ud3Ne3jcfjZ7nmE0bwTbMWXE9zWQ5g/wkaKkS4ThZtW53XGxSg6hQvdnQkzofFYARdUBsET4Bb\n",
       "vS9zq96Jz6clpuc6H15ZxvWzAM+A4cMNPUOrE5emBFDuVfP3RQqUBjFYiR2fA6D5c7aR0iIMPrzI\n",
       "W3AjRoUNO7wzAP3A8I4NDvZYWLpHAiVTGZYmAKdQsx0334Baf6OGPa+6GhMmss2ZiF2oYv8FPGpY\n",
       "YCGRuGhBvEUCTZR+QsHtSucdMw9w+AR+R/P7s9iEb/a5l03EZVFQzpF9gwLHADp5VJR7Z0eb9BS5\n",
       "KgFwGyIB4zbK/HhFK/uSimt5YhennxZWZkzEkZNvO8gw3qzAHo4xrM8JE/nB45d7tEoAhKEvWOyx\n",
       "/ihWHkE+55iKre4AddZEjEGhrafUjwmUgo11vMWmAXsU3Etyj3USGFCh5rZij9l+00FMpi7hqK8P\n",
       "VS2YiNuJHLVSpgU8GTE4dkYoHAB71kzswP2yRR4D24xOLJMqT4zFZhPxPBEH8sRqtp4PFUjwnAd1\n",
       "sCNtNjXqWeo3eQzN5CTv1HDfD6Op3YjTuTxmX1IaQzMq5IgJQGcjDTphJ6+r3V4RBVNwqUPyIjJ6\n",
       "DCJtenDBncZ0YXDd0O86O53fHZRBoSwUBBcM80YfoZLXvQHYqhOPSlAuuxaNxF9Q7XIi2yXmHumQ\n",
       "VyZlCudykpJDm8DiAM3zocl2d5EuTwWgjPyjfX2dZJ2vAPTpt0GNwMDKJLiTv4KFxKfoxud5E6bk\n",
       "RytqyT9peLzCQdPbfegh0Tmn8FHpZuvXCYCXCO1p6KMGYKDWpoqvTHl5i1vM8BbFzNdOi7F5MLTN\n",
       "2HFXQsh+PHlG7QJ1CdRNqzwSllIQz8ZHwlLkIyEjYgHU5CVlIzyfDTWFc3M6cxeapYhn0ROP555F\n",
       "V2rNBfqzaPyfsP4RsJJOqx8BKyG9inQb+edfH+8///p8kDBIBv6b/AVsXfrTCtxVNwAAAABJRU5E\n",
       "rkJggg==\n",
       "\" style=\"display:inline;vertical-align:middle;\" /></a><br>"
      ],
      "text/plain": [
       "intersection_subset_eq_union: forall_{A, B} ((A intersect B) subseteq (A union B))"
      ]
     },
     "execution_count": 7,
     "metadata": {},
     "output_type": "execute_result"
    }
   ],
   "source": [
    "intersection_subset_eq_union = Forall(\n",
    "        (A, B),\n",
    "        SubsetEq(Intersect(A, B), Union(A, B)))"
   ]
  },
  {
   "cell_type": "code",
   "execution_count": 8,
   "metadata": {},
   "outputs": [
    {
     "name": "stdout",
     "output_type": "stream",
     "text": [
      "Modifying theorem set_subset_eq_of_union_with_set in proveit.logic.sets theory\n",
      "Modifying theorem intersection_is_subset_eq in proveit.logic.sets theory\n",
      "Modifying theorem intersection_subset_eq_union in proveit.logic.sets theory\n",
      "Removing theorem set_subset_eq_of_union_with_set from proveit.logic.sets theory\n",
      "Removing theorem intersection_is_subset_eq from proveit.logic.sets theory\n",
      "Removing theorem intersection_subset_eq_union from proveit.logic.sets theory\n",
      "set_subset_eq_of_union_with_set expression notebook is being updated\n",
      "intersection_is_subset_eq expression notebook is being updated\n",
      "intersection_subset_eq_union expression notebook is being updated\n",
      "Theorems may be imported from autogenerated _theorems_.py\n"
     ]
    }
   ],
   "source": [
    "%end theorems"
   ]
  },
  {
   "cell_type": "code",
   "execution_count": null,
   "metadata": {},
   "outputs": [],
   "source": []
  }
 ],
 "metadata": {
  "kernelspec": {
   "display_name": "Python 3",
   "language": "python",
   "name": "python3"
  },
  "language_info": {
   "codemirror_mode": {
    "name": "ipython",
    "version": 3
   },
   "file_extension": ".py",
   "mimetype": "text/x-python",
   "name": "python",
   "nbconvert_exporter": "python",
   "pygments_lexer": "ipython3",
   "version": "3.7.3"
  }
 },
 "nbformat": 4,
 "nbformat_minor": 1
}
