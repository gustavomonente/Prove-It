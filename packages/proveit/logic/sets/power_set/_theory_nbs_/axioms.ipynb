{
 "cells": [
  {
   "cell_type": "markdown",
   "metadata": {},
   "source": [
    "Axioms for the theory of <a class=\"ProveItLink\" href=\"theory.ipynb\">proveit.logic.sets.power_set</a>\n",
    "========"
   ]
  },
  {
   "cell_type": "code",
   "execution_count": 1,
   "metadata": {},
   "outputs": [],
   "source": [
    "import proveit\n",
    "# Prepare this notebook for defining the axioms of a theory:\n",
    "%axioms_notebook # Keep this at the top following 'import proveit'.\n",
    "from proveit import x, S\n",
    "from proveit.logic import Equals, Forall, InSet, PowerSet, SubsetEq"
   ]
  },
  {
   "cell_type": "code",
   "execution_count": 2,
   "metadata": {},
   "outputs": [
    {
     "name": "stdout",
     "output_type": "stream",
     "text": [
      "Defining axioms for theory 'proveit.logic.sets.power_set'\n",
      "Subsequent end-of-cell assignments will define axioms\n",
      "%end_axioms will finalize the definitions\n"
     ]
    }
   ],
   "source": [
    "%begin axioms"
   ]
  },
  {
   "cell_type": "code",
   "execution_count": 3,
   "metadata": {},
   "outputs": [
    {
     "data": {
      "text/html": [
       "<strong id=\"power_set_def\">power_set_def:</strong> <a class=\"ProveItLink\" href=\"../__pv_it/axioms/f4afcce0a1c175f019c0e53cd8c839c925b0a31a0/axiom_expr.ipynb\"><img src=\"data:image/png;base64,iVBORw0KGgoAAAANSUhEUgAAAQAAAAAVBAMAAABbMC3JAAAAMFBMVEX///8QEBCIiIhmZma6urrM\n",
       "zMxUVFQiIiJERETc3Nzu7u6qqqp2dnaYmJgyMjIAAAAcRTyBAAAAAXRSTlMAQObYZgAAAyNJREFU\n",
       "SMfFVjFoFEEU/eR2c3dzu2cKKxE9FFIJOZU0GiGQQkjj2VgJBtRoGjm12EIJwcacoB4oJo24pogh\n",
       "xXGQQizEI6KGmOKKIIgYtlBBUTkLRSNJnJn/d2f2du+MlQ/e7dz8/2b//v93ZgFaIl1HtnWQyJSR\n",
       "LR3i8IiEnvjzNs5jhtgM+/z4utPrG+eWasswwgcj8SvEQog6yyh6KSY+xXl9JEaQMmudA3U0puow\n",
       "04AKH1XiV1Bxn3Ecp4ALCBHzUDQpUjUW96B5ZEwARt3IldC4nzt5YOVAMrqCKsdnVSMUzYMUZV1+\n",
       "qcbcJllGagtedUYpgHTtjTSy7wBGDlgXSEZXCJBVf0h0H6TIXpydnYh7zgliAPOKG2TA5IUXRmON\n",
       "z/O8vgNkZIUAB9WQRNl+FP0cH78cF8Bu4lT37T0yuxVXlSBTvyaNbOOZnHpKjKwQqItqnkRWHkWn\n",
       "AUrKeHzpMTYKXEeymn0hKV+VEa0HKisF6QA9Gz9EbleIYH2VyEOTOj2kRYYi20PRAMh+pOzk4QkN\n",
       "LyEt11o1ZP3GVACjH3LoAOzVzm388pAYgq5mep+jKFNEURI61H6RdCFFw61IBinUmjvEo1EGfAeO\n",
       "xG/+c4IYgq7WS0Ais4Eiq55Uhi1lyIQD4HP4fqW1DAQB1Pg92gUQqOVLRyCRH0DaOybsvd2i9tnt\n",
       "/RAuAfehpuhqCoAbGa+sucrHh4l+DwxBszobvOq+yCiSqHQKoMM9lxS3Znu/+RFQE2bcHm4VE/ua\n",
       "AhBGHlSipjehjpCaDQ/6JweJ/CaEOR6JCV/IfMcvFr1ZR6o34S72R1VtxeSQuAjwXIz7iCGE1GAu\n",
       "0Fbsi2TkfUGVfskwC8AaJKesTu+aOoRNys4O0mF0Y91FY8I4OSzDek8MIaTWGpBE2QKJbLGa2TBF\n",
       "dqpgDrXcio0F3IqjOy0rIttsxVE8AE10z/IsmHQTYzDj/vUwip41mziMoqDDCDG9PL8IR6uJW0sH\n",
       "AocShPbIKJSxxXGsq184TnAcY9a8qKi6qQ+SmO+NFrG2VafKEVHTV9XmP8nsMvKfPsleQ0Rkw3/A\n",
       "H0UhDH9st8JNAAAAAElFTkSuQmCC\n",
       "\" style=\"display:inline;vertical-align:middle;\" /></a><br>"
      ],
      "text/plain": [
       "power_set_def: forall_{x, S} ((x in power_set(S)) = (x subset_eq S))"
      ]
     },
     "execution_count": 3,
     "metadata": {},
     "output_type": "execute_result"
    }
   ],
   "source": [
    "power_set_def = Forall((x, S), Equals(InSet(x, PowerSet(S)),\n",
    "                                      SubsetEq(x, S)))"
   ]
  },
  {
   "cell_type": "code",
   "execution_count": 4,
   "metadata": {},
   "outputs": [
    {
     "name": "stdout",
     "output_type": "stream",
     "text": [
      "These axioms may now be imported from the theory package: proveit.logic.sets.power_set\n"
     ]
    }
   ],
   "source": [
    "%end axioms"
   ]
  }
 ],
 "metadata": {
  "kernelspec": {
   "display_name": "Python 3",
   "language": "python",
   "name": "python3"
  }
 },
 "nbformat": 4,
 "nbformat_minor": 0
}