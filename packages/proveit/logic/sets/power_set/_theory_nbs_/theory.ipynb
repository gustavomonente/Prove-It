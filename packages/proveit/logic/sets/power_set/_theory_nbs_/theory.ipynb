{
 "cells": [
  {
   "cell_type": "markdown",
   "metadata": {},
   "source": [
    "Theory of <a class=\"ProveItLink\" href=\"../../../../_theory_nbs_/theory.ipynb\">proveit</a>.<a class=\"ProveItLink\" href=\"../../../_theory_nbs_/theory.ipynb\">logic</a>.<a class=\"ProveItLink\" href=\"../../_theory_nbs_/theory.ipynb\">sets</a>.power_set\n",
    "========\n",
    "\n",
    "Provide description here."
   ]
  },
  {
   "cell_type": "code",
   "execution_count": 1,
   "metadata": {},
   "outputs": [
    {
     "data": {
      "text/html": [
       "<h3>Local content of this theory</h3>"
      ],
      "text/plain": [
       "<IPython.core.display.HTML object>"
      ]
     },
     "metadata": {},
     "output_type": "display_data"
    },
    {
     "data": {
      "text/html": [
       "<table><tr>\n",
       "<th><a class=\"ProveItLink\" href=\"common.ipynb\">common expressions</a></th>\n",
       "<th><a class=\"ProveItLink\" href=\"axioms.ipynb\">axioms</a></th>\n",
       "<th><a class=\"ProveItLink\" href=\"theorems.ipynb\">theorems</a></th>\n",
       "<th><a class=\"ProveItLink\" href=\"demonstrations.ipynb\">demonstrations</a></th>\n",
       "</tr></table>\n",
       "<h3>Sub-theories</h3>\n"
      ],
      "text/plain": [
       "<IPython.core.display.HTML object>"
      ]
     },
     "metadata": {},
     "output_type": "display_data"
    },
    {
     "data": {
      "text/html": [
       "<h3>All axioms contained within this theory</h3>"
      ],
      "text/plain": [
       "<IPython.core.display.HTML object>"
      ]
     },
     "metadata": {},
     "output_type": "display_data"
    },
    {
     "data": {
      "text/html": [
       "<dt><a class=\"ProveItLink\" href=\"axioms.ipynb#power_set_def\">proveit.logic.sets.power_set.power_set_def</a></dt><dd><a class=\"ProveItLink\" href=\"../__pv_it/axioms/e0001e1eae209d19b79e22eff2656a46c5cb02ee0/expr.ipynb\"><img src=\"data:image/png;base64,iVBORw0KGgoAAAANSUhEUgAAAQAAAAAVBAMAAABbMC3JAAAAMFBMVEX///8QEBCIiIhmZma6urrM\n",
       "zMxUVFQiIiJERETc3Nzu7u6qqqp2dnaYmJgyMjIAAAAcRTyBAAAAAXRSTlMAQObYZgAAAyNJREFU\n",
       "SMfFVjFoFEEU/eR2c3dzu2cKKxE9FFIJOZU0GiGQQkjj2VgJBtRoGjm12EIJwcacoB4oJo24pogh\n",
       "xXGQQizEI6KGmOKKIIgYtlBBUTkLRSNJnJn/d2f2du+MlQ/e7dz8/2b//v93ZgFaIl1HtnWQyJSR\n",
       "LR3i8IiEnvjzNs5jhtgM+/z4utPrG+eWasswwgcj8SvEQog6yyh6KSY+xXl9JEaQMmudA3U0puow\n",
       "04AKH1XiV1Bxn3Ecp4ALCBHzUDQpUjUW96B5ZEwARt3IldC4nzt5YOVAMrqCKsdnVSMUzYMUZV1+\n",
       "qcbcJllGagtedUYpgHTtjTSy7wBGDlgXSEZXCJBVf0h0H6TIXpydnYh7zgliAPOKG2TA5IUXRmON\n",
       "z/O8vgNkZIUAB9WQRNl+FP0cH78cF8Bu4lT37T0yuxVXlSBTvyaNbOOZnHpKjKwQqItqnkRWHkWn\n",
       "AUrKeHzpMTYKXEeymn0hKV+VEa0HKisF6QA9Gz9EbleIYH2VyEOTOj2kRYYi20PRAMh+pOzk4QkN\n",
       "LyEt11o1ZP3GVACjH3LoAOzVzm388pAYgq5mep+jKFNEURI61H6RdCFFw61IBinUmjvEo1EGfAeO\n",
       "xG/+c4IYgq7WS0Ais4Eiq55Uhi1lyIQD4HP4fqW1DAQB1Pg92gUQqOVLRyCRH0DaOybsvd2i9tnt\n",
       "/RAuAfehpuhqCoAbGa+sucrHh4l+DwxBszobvOq+yCiSqHQKoMM9lxS3Znu/+RFQE2bcHm4VE/ua\n",
       "AhBGHlSipjehjpCaDQ/6JweJ/CaEOR6JCV/IfMcvFr1ZR6o34S72R1VtxeSQuAjwXIz7iCGE1GAu\n",
       "0Fbsi2TkfUGVfskwC8AaJKesTu+aOoRNys4O0mF0Y91FY8I4OSzDek8MIaTWGpBE2QKJbLGa2TBF\n",
       "dqpgDrXcio0F3IqjOy0rIttsxVE8AE10z/IsmHQTYzDj/vUwip41mziMoqDDCDG9PL8IR6uJW0sH\n",
       "AocShPbIKJSxxXGsq184TnAcY9a8qKi6qQ+SmO+NFrG2VafKEVHTV9XmP8nsMvKfPsleQ0Rkw3/A\n",
       "H0UhDH9st8JNAAAAAElFTkSuQmCC\n",
       "\" style=\"display:inline;vertical-align:middle;\" /></a></dd>"
      ],
      "text/plain": [
       "<IPython.core.display.HTML object>"
      ]
     },
     "metadata": {},
     "output_type": "display_data"
    }
   ],
   "source": [
    "import proveit\n",
    "%theory # toggles between interactive and static modes"
   ]
  },
  {
   "cell_type": "code",
   "execution_count": null,
   "metadata": {},
   "outputs": [],
   "source": []
  }
 ],
 "metadata": {
  "kernelspec": {
   "display_name": "Python 3",
   "language": "python",
   "name": "python3"
  }
 },
 "nbformat": 4,
 "nbformat_minor": 0
}