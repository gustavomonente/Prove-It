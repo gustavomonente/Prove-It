{
 "cells": [
  {
   "cell_type": "markdown",
   "metadata": {},
   "source": [
    "Proof of <a class=\"ProveItLink\" href=\"../../../../../_theory_nbs_/theory.ipynb\">proveit</a>.<a class=\"ProveItLink\" href=\"../../../../_theory_nbs_/theory.ipynb\">logic</a>.<a class=\"ProveItLink\" href=\"../../theory.ipynb\">sets</a>.<a class=\"ProveItLink\" href=\"../../theorems.ipynb#intersection_with_superset_is_set\">intersection_with_superset_is_set</a> theorem\n",
    "========"
   ]
  },
  {
   "cell_type": "code",
   "execution_count": 1,
   "metadata": {},
   "outputs": [],
   "source": [
    "import proveit\n",
    "theory = proveit.Theory() # the theorem's theory"
   ]
  },
  {
   "cell_type": "code",
   "execution_count": 2,
   "metadata": {},
   "outputs": [
    {
     "data": {
      "text/html": [
       "Under these <a href=\"presumptions.txt\">presumptions</a>, we begin our proof of<br><strong id=\"intersection_with_superset_is_set\">intersection_with_superset_is_set:</strong> <a class=\"ProveItLink\" href=\"../../../__pv_it/theorems/5296810444640144df716ff2f4d0aa6f56de184d0/expr.ipynb\"><img src=\"data:image/png;base64,iVBORw0KGgoAAAANSUhEUgAAAOkAAAAWBAMAAADX3aYcAAAAMFBMVEX///8QEBCIiIhmZma6urrM\n",
       "zMxUVFQiIiJERETc3Nzu7u6qqqp2dnaYmJgyMjIAAAAcRTyBAAAAAXRSTlMAQObYZgAAAz1JREFU\n",
       "SMe9Vs1rE1EQH7PZNrubtB48qdj+B40U1JaCQQ+KIBQPPQkW/EJEiPSiopCDH0lBEhBqQMRIkZYi\n",
       "NdCDFhFrq1LboItfIGKNtPUgovWjWis1zsx7u242WWsEHZj3Nb+3v3nvzUwC8JdyXqqXGCkvyyBq\n",
       "ngYvKibVY0JR1LzbOJAbegz7xPj+bmz8loWwVejPOE3eVMxakxJKwxnpSEbaAib0zkC/MB64ZSKR\n",
       "vQ2xOjKncazFKmZ9JBVlYp67zYdOHRcLjQChPATrafwQ9LcAXdY2xg4jO3oYzFbMelgquj7wjbpg\n",
       "AqAtzAuzeKX1oC+lSTsePaFNW+/C2Ivo1Vhf39mKSbWoUJSQ77N1eNhPjX8B368VYIom5MeDgnUq\n",
       "ga2JAMzF40crZvWFhaJsMRao66QmzQcq3GHDiB15rdZIYIO4EWMswUuiVXPjT8AZdoFfKbA9d6PV\n",
       "DhhW/GRE/Ug9H7yajQ2FL7RnojTwBRYfHTZyUOGYLwqnBsdkwIK+xPu4HI+fREfCcFMuVmeFknfa\n",
       "Jxer/rRuOXZXOXHekUyKXRJrRAnpY6e7+aLgCEDMyaqvN0E9Iagy9uqSiFCMoMY1cy5WAOU7NjtK\n",
       "ziqxKh4raArsWAd3GGRZJ2uwJ2yNa1NglLBis6qYdQhdLc8qscSq5dv4PevjbHl1W76cRG4LxOC6\n",
       "TPGVEXDfMLlxsIhVx2RRKS03lRRJifUTNrGLlqpgLZu665YVsbYrUWiSl736QwRc0XQO9X0Rq4F5\n",
       "qgxZ0STe9TVvsrAUTTDAG55Dg0zFvU7WUNY3A/csb7ui1r2HhXLOJlNOVgVf6i5NWsrkOGPZp1oq\n",
       "XfpkLkl19BLAFSdrf8voPGyw0k6XJZcvCVVP/sjAtUJHEat/5x6OjGlX2tjYGkq/ELEpGbhAE3zC\n",
       "NidrM2izMmWNLKjtpRVRCudByMkS9SoxPfZoK57Z1DphHeidDlY/fmwB9NNEq8SgN1Om+nuIqP7l\n",
       "ZNguQHOgJY+pK6CpZSTjYE3GIP3VBGMUq4RyJtcMzooVSP2Otd/zpzlfJrahOHMW/1X3kISXocTZ\n",
       "wT9mXfQfTMjzIp65F8zyrOk4CvwPUf7lx38CFl3qAvOYsjsAAAAASUVORK5CYII=\n",
       "\" style=\"display:inline;vertical-align:middle;\" /></a><br>(see <a class=\"ProveItLink\" href=\"../../../__pv_it/theorems/11b69a1ea254a62616176871fd2eb1d706d524a20/dependencies.ipynb\">dependencies</a>)<br>"
      ],
      "text/plain": [
       "intersection_with_superset_is_set: forall_{A, S | A subseteq S} ((A intersect S) equiv A)"
      ]
     },
     "execution_count": 2,
     "metadata": {},
     "output_type": "execute_result"
    }
   ],
   "source": [
    "%proving intersection_with_superset_is_set"
   ]
  },
  {
   "cell_type": "code",
   "execution_count": null,
   "metadata": {},
   "outputs": [],
   "source": []
  }
 ],
 "metadata": {
  "kernelspec": {
   "display_name": "Python 3",
   "language": "python",
   "name": "python3"
  }
 },
 "nbformat": 4,
 "nbformat_minor": 0
}