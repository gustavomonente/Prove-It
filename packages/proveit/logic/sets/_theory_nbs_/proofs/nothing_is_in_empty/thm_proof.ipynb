{
 "cells": [
  {
   "cell_type": "markdown",
   "metadata": {},
   "source": [
    "Proof of <a class=\"ProveItLink\" href=\"../../../../../_theory_nbs_/theory.ipynb\">proveit</a>.<a class=\"ProveItLink\" href=\"../../../../_theory_nbs_/theory.ipynb\">logic</a>.<a class=\"ProveItLink\" href=\"../../theory.ipynb\">sets</a>.<a class=\"ProveItLink\" href=\"../../theorems.ipynb#nothing_is_in_empty\">nothing_is_in_empty</a> theorem\n",
    "========"
   ]
  },
  {
   "cell_type": "code",
   "execution_count": 1,
   "metadata": {},
   "outputs": [],
   "source": [
    "import proveit\n",
    "theory = proveit.Theory() # the theorem's theory"
   ]
  },
  {
   "cell_type": "code",
   "execution_count": 2,
   "metadata": {},
   "outputs": [
    {
     "data": {
      "text/html": [
       "Under these <a href=\"presumptions.txt\">presumptions</a>, we begin our proof of<br><strong id=\"nothing_is_in_empty\">nothing_is_in_empty:</strong> <a class=\"ProveItLink\" href=\"../../../__pv_it/theorems/510af512a310b349ac445393de99548d4e3de53a0/expr.ipynb\"><img src=\"data:image/png;base64,iVBORw0KGgoAAAANSUhEUgAAAF0AAAAVCAMAAAATpBLwAAAAQlBMVEX///9jY2MJCQkNDQ0rKysP\n",
       "Dw8WFhYQEBCIiIhmZma6urrMzMxUVFQiIiJERETc3Nzu7u6qqqp2dnaYmJgyMjIAAADRR/RZAAAA\n",
       "AXRSTlMAQObYZgAAAcBJREFUOMutVduypCAMZK9GJBAS+P9fXQLe0JH1VB0eplSg0+l0MsZ8w1ou\n",
       "7/5r14MMt/H0HBlY0WPQt7R/l0cIGpNZ3PHMYAxUTKfwHLeNRE/XUxiiz/ZIUtPwDpSSxggbr/BI\n",
       "UGbzVph6FC1uaeyUjyRutwfUxePfP7jL6wuinSkrJk26z6Qr4GNJ8VlxD2T8KfgkKhTl6qKkimWv\n",
       "C/kJAlZhCMAFCzXh9YvmTel0NscqVK6VYL3oaiD/mL5vXqISXhDMIUOzBUCPrvXLVWXRk3Y2FwYX\n",
       "2VtBuPDkIqgNfdd0VstiQDb0iFvN4blfpmY4BfGdr5YppfT7V/lJJ901WlNmyZWV9O32Gb1Sg67c\n",
       "/mY1BBVhrWpDD2lvN4Z5Abd8UqYe73cmc6XlOPIGa5rtS0Vd41f85VLphk9VjWQgtzN7k0Ir2tn+\n",
       "Sk2agNIEizPuwy7dClCNZWyplM+XgYbxkqdB3IxegvNNz3xzZkuQHADB3I86cj9tP50iBto6Iq2R\n",
       "hQ5p7+N6MAnkB3vEUwuwWFmP08UpIRsuB/n9FLv1YOyHcZ+o2DL86b8Ybwb/oD9fggx6cDBa3v7z\n",
       "DahX9f8BCuUWgBfXvsoAAAAASUVORK5CYII=\n",
       "\" style=\"display:inline;vertical-align:middle;\" /></a><br>(see <a class=\"ProveItLink\" href=\"../../../__pv_it/theorems/a9a5fecdd347a2bfa6c6c1e0268954b23a3cad7a0/dependencies.ipynb\">dependencies</a>)<br>"
      ],
      "text/plain": [
       "nothing_is_in_empty: forall_{x} (x not-in emptyset)"
      ]
     },
     "execution_count": 2,
     "metadata": {},
     "output_type": "execute_result"
    }
   ],
   "source": [
    "%proving nothing_is_in_empty"
   ]
  },
  {
   "cell_type": "code",
   "execution_count": null,
   "metadata": {},
   "outputs": [],
   "source": []
  }
 ],
 "metadata": {
  "kernelspec": {
   "display_name": "Python 3",
   "language": "python",
   "name": "python3"
  }
 },
 "nbformat": 4,
 "nbformat_minor": 0
}