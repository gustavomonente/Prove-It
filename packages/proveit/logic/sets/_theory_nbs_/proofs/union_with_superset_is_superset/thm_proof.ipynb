{
 "cells": [
  {
   "cell_type": "markdown",
   "metadata": {},
   "source": [
    "Proof of <a class=\"ProveItLink\" href=\"../../../../../_theory_nbs_/theory.ipynb\">proveit</a>.<a class=\"ProveItLink\" href=\"../../../../_theory_nbs_/theory.ipynb\">logic</a>.<a class=\"ProveItLink\" href=\"../../theory.ipynb\">sets</a>.<a class=\"ProveItLink\" href=\"../../theorems.ipynb#union_with_superset_is_superset\">union_with_superset_is_superset</a> theorem\n",
    "========"
   ]
  },
  {
   "cell_type": "code",
   "execution_count": 1,
   "metadata": {},
   "outputs": [],
   "source": [
    "import proveit\n",
    "from proveit import defaults\n",
    "from proveit import m, x, y, A, B, S\n",
    "from proveit.numbers import two\n",
    "from proveit.logic import SetEquiv, Union\n",
    "from proveit.logic.sets.equivalence  import set_equiv_def\n",
    "from proveit.logic.sets.inclusion  import subset_eq_def\n",
    "from proveit.logic.sets.unification  import union_def\n",
    "\n",
    "theory = proveit.Theory() # the theorem's theory"
   ]
  },
  {
   "cell_type": "code",
   "execution_count": 2,
   "metadata": {},
   "outputs": [
    {
     "data": {
      "text/html": [
       "Under these <a href=\"presumptions.txt\">presumptions</a>, we begin our proof of<br><strong id=\"union_with_superset_is_superset\">union_with_superset_is_superset:</strong> <a class=\"ProveItLink\" href=\"../../../__pv_it/theorems/c1522314cbc4875a253d4a175f32e2909ab127870/expr.ipynb\"><img src=\"data:image/png;base64,iVBORw0KGgoAAAANSUhEUgAAAOcAAAAWBAMAAADJFJavAAAAMFBMVEX///8QEBCIiIhmZma6urrM\n",
       "zMxUVFQiIiJERETc3Nzu7u6qqqp2dnaYmJgyMjIAAAAcRTyBAAAAAXRSTlMAQObYZgAAA0tJREFU\n",
       "SMe9VltrE1EQ/sylzW4u9cEnFVvwBzRaaW0JNCj4IIhBsC8KRrwjQsQnRSEvSlooCQi1IGJEtKVo\n",
       "GymCRcRaL9Q21OANRNRIUUREW7VaqzXOnLObbrZJmwg6MGfnnO/sfnNm5kwC/KWc0bSQ9M0FpNl4\n",
       "UTKnGpZKYk+bwd5k/+OymLRHdtFgk7bTl3T7GRjm2fuSST0xqWyO8RgXrogFRwqdY6p0xXPgVgoo\n",
       "ky+1Qo2CgXaaKOGSSR9pSvJyCnrEPGKhBnCnMSDsh1A/AG3CtnppMxjwkIuuRMmkhzWl0/X+4EeI\n",
       "h3KxMEHxrMI5gQbp4M3KG2H3BIA1YMA91NV1qmROJSSVxG35mktqm6Y8B+Dx84QOhwcZeaiNFOjN\n",
       "EMBkJHK0ZFKLVyrJeue06aSZu/xwebNFF5DPnl8BHaDqahZrcrQnh59gpuAoOrEs1dbkDe19qhWh\n",
       "9EW//XMuKaoz32IirWZPM5l9kMBayEJziyjR1Cmq0aFvfUXRuBSJnCA/vLipLZYnpLJzyhcTqfq0\n",
       "cjHdD7Ey8pFlVL51eft4XALlsAiXz4so4QgQNpKqjSnYj0umeHZ1gV8q0FRTO2kipTr9SSEby5OW\n",
       "xoQEXCm5deiQeFApJoykrg6vblfE4JxFSsOyXNJ+8jQfqYvTqpEq6SaRy6qIgF7f0bKmbd3kCOO6\n",
       "1hCW+mEOL3txMHtPuzk0dEvsdHVtIRPpRdJtcQ1o3slLZagT0PnKRTmkQWsI9VqkV4zrrNlCOk36\n",
       "iVdWif7Hbiyk8PbrhSRz+pbNK6Q+rZDQK1x6jmrtCu4xkroTljHc151t073nsmcVdzXK9d1NdW3j\n",
       "dmqlNN2DJM6ROi9cQR2oqOJTjCaj3D4vUNyNpN2+wSluI/K6qXqeOESkavR3HNcyXA3Ku6tb9vIX\n",
       "rLYduznwnoCJ1Luudj90wC22xnGWJ5S+JiNpA5QJ7ao6E7AHZ7dBXezLV8aM845CjWUG2EAnTikt\n",
       "WA21xUBqo7xNQ23lz1nD6IznafgFZGBewDEJJXrMvgT1vttxA2k0jPbvKTgHqTlYTyYbYOxTjthc\n",
       "P7jpYgHnjOko+kc8vxT0aBbQVzTpvH9XnhUNpPKTtkdI8B/E+g+//QeGce/AeteLIAAAAABJRU5E\n",
       "rkJggg==\n",
       "\" style=\"display:inline;vertical-align:middle;\" /></a><br>(see <a class=\"ProveItLink\" href=\"../../../__pv_it/theorems/d2c955cc800246cb0192de8f63808da38d89bfde0/dependencies.ipynb\">dependencies</a>)<br>"
      ],
      "text/plain": [
       "union_with_superset_is_superset: forall_{A, S | A subseteq S} ((A union S) equiv S)"
      ]
     },
     "execution_count": 2,
     "metadata": {},
     "output_type": "execute_result"
    }
   ],
   "source": [
    "%proving union_with_superset_is_superset"
   ]
  },
  {
   "cell_type": "code",
   "execution_count": 3,
   "metadata": {},
   "outputs": [
    {
     "data": {
      "text/html": [
       "<strong id=\"defaults.assumptions\">defaults.assumptions:</strong> <a class=\"ProveItLink\" href=\"../../../__pv_it/_proof_union_with_superset_is_superset/3daa3ed07324f7325f579957de1fc6f90ac211950/expr.ipynb\"><img src=\"data:image/png;base64,iVBORw0KGgoAAAANSUhEUgAAAEUAAAAUBAMAAAApce1IAAAAMFBMVEX///9UVFTMzMx2dna6uroQ\n",
       "EBCqqqqIiIgiIiJmZmYyMjJERETu7u6YmJjc3NwAAAC+aOQFAAAAAXRSTlMAQObYZgAAAUxJREFU\n",
       "KM9jYOC7wIAP5IGI0xC2FqY022RjXgfGB0DWOojAeqjExY6OjiYIcy8Dz34GngUMDLwTwHze9QfA\n",
       "9Cs7uDGcQJlbDAzmDAwcD8ACx+ZD6HUIq84rMDC4MzAcZWB4ARG4UO8A1puAUOMP9IwSAwOXA0Ml\n",
       "mM9yIB/sPQ4kJ5//rACimCcAHQYCRxj0C0D0QyQ17P//y4FcuoChDcx3YHg/ASkgIOCs6FegR9ga\n",
       "GEJAPCbJmfIb0O0CgvlA5zF9gKhhYWBgXQC2vAAuzwxyEkQN2C4gkyMALLMMruYgEOsD7WJpALuZ\n",
       "D6iG6wNERuQAVE0qEE+GuNmSARJG3P8gUso7oHExYwIDswAoyAwYPICe+b+GgW3/jwmo7p3gOFEM\n",
       "RHMpwOICNzgBj1PcABinDPuQBZg7OhBpAwxAaQM1aDEBN8gtBNLqPQYGAD8qUvukbMBiAAAAAElF\n",
       "TkSuQmCC\n",
       "\" style=\"display:inline;vertical-align:middle;\" /></a><br>"
      ],
      "text/plain": [
       "defaults.assumptions: (A subseteq S)"
      ]
     },
     "execution_count": 3,
     "metadata": {},
     "output_type": "execute_result"
    }
   ],
   "source": [
    "defaults.assumptions = union_with_superset_is_superset.all_conditions()"
   ]
  },
  {
   "cell_type": "code",
   "execution_count": 4,
   "metadata": {},
   "outputs": [
    {
     "data": {
      "text/html": [
       "<span style=\"font-size:20px;\"> <a class=\"ProveItLink\" href=\"../../../equivalence/_theory_nbs_/axioms.ipynb#set_equiv_def\" style=\"text-decoration: none\">&nbsp;&#x22A2;&nbsp;&nbsp;</a><a class=\"ProveItLink\" href=\"../../../equivalence/__pv_it/axioms/cf9c5d456c7f17112978a98ad1fda6deb1c418670/expr.ipynb\"><img src=\"data:image/png;base64,iVBORw0KGgoAAAANSUhEUgAAAY4AAAAVBAMAAACj/BR7AAAAMFBMVEX///8QEBCIiIhmZma6urrM\n",
       "zMxUVFQiIiJERETc3Nzu7u6qqqp2dnaYmJgyMjIAAAAcRTyBAAAAAXRSTlMAQObYZgAABNlJREFU\n",
       "WMPVV11oHFUUPu7vzOxOkgfRglKGBrSEtlkM1BfFVR/UUsnqQ/Wti7WQCLGrDQatllYK2a3K7oPU\n",
       "gmgnFaoGiYE++PMU2wEl1XSpoFZtXakVFEmXxIaYUuO559zZ3dl7d7vtmwfOnNmZu9/c7/zNGYB2\n",
       "8o7UdvKZciU0n7kBKBUHzHKb9YkS6/lRMhVx7Zx+qbWPFSVa4UtzO/EQodPvVndszqchVmr+WzLd\n",
       "JYxd1kNpRKCrOPCBdrG9a2lg6ADAMLB6ZE6JW3/q4btKrOK0ymbkC9xdjG+vAQhfBqui8khOi7Wu\n",
       "Hkr3IERXceAP/eqb0B/3ZWAKT6eYB5rDIn4tHPWtVJTzK2TOgPUXwCF24lWMzCLACZUHAR5uAaUR\n",
       "Qldw7JR+9XZ05WAKkg6QemSE18h9GnlRKjrr+D9kswBGwbzIZYCX7AWACZUHBfiUHsqXH8bG/Agw\n",
       "uoITD8TPHh/by2f9eP0XB6weIPXI2LOTk2/paZg5VgES+pus8NDpVaZtIMbES5gUaZXHz5OTH+b0\n",
       "UFKe7GvYIqErOIFtRV+tpel+3Pit+Os3IPXYLOfzL+t5hFKsKFsSV+slK7tRdxaiL4hoplQe3fn8\n",
       "+IwGylo3/ADlj9VYkoyu4PSiHr3jzQ2O+DFVr7YlgCeeQXuS1WODDahAt/n48OLJIRlPo8yKT01H\n",
       "F9Q0HTkzLiJjU3rMzQu5IHnEMmA0ZoUP9RF871B2NHYniU44SYKZJ0pv4K0Z+/k44Q/XI7N0bv0e\n",
       "qipWj82DslPYnDl2DyR7ZH5Os4pGay5C025Fmlq3iEaeU+MRSVErqae6hJqF0+4jRKzhpkRXcHCz\n",
       "STe5EiHK9VYk6nICCxU+YfXYxCFEPn+PMyechcSK7G9pVoBtA5uXlXjsF1xwb9GqygNysDHQKiWU\n",
       "C3m+8Jjwh6xzia7g3IzxAEO+v9aKP9TqMnRFJASrxyZZjtPt2d3sOQfClWYeeFir8FgSPJwWPL6B\n",
       "nI4HgMzPxqYs0XU8sAodbhT1eGBdQmhB4WFWthFhhz31cQY2uU15lUB9TnkHi/jtwj1EcvWM+93n\n",
       "8W4Un5bsfXxnE1T0siTWMGBIdMKR9ZGVeYU7lF2lJ/D6iIkieIjVk6eFp6nw4G5aNbhxfbapOOFt\n",
       "1EvQtFuRptHlWp03xcM4hIe+WGU0CPV5qArUcMNObbmPruBgnSfcfgiRW++qXRavj+37lDqH4+TP\n",
       "n6Cfdwpwp7+fFCs1/mLzUNGFHrr/oNjSjIZHQngl01UOQkWuGFU5/O1pfLUQuoKDzXRwuiiny3jt\n",
       "Xf0rhm6N4HYPqydPKQOtC18XiffrAEfkX0SgUa3ivy58uro7+JDYJZzWXiNCGQ0ProNun7wP9VRf\n",
       "r5xJjx3g7K2jKziYLMfWHb2XeVtDW/jqs2I8pR1eZPXkqS0Awy4cIRxsBIOllsOETt4HHY8fKZUh\n",
       "0xJq6/hYpT1OcC6JfOXPJf5rJ8fqsWF5FJ1XNg+CuQLm7Z0Nd76c0PIQGVOdg5nOoTqeE/3HBOZE\n",
       "WYfLYBZfid4GXy4ODNXmHPFKNkrXoKGb2+Wdka0b3I6hNHN7oe2Dg3N78Bur5XdUazFKrXhcH5TR\n",
       "6XdUI8sC8yhc49uyk+/as+p8ufdGvmvPXud3rV1i3TRKJiBl+L/KfzsFnGr1z7ZrAAAAAElFTkSu\n",
       "QmCC\n",
       "\" style=\"display:inline;vertical-align:middle;\" /></a></span>"
      ],
      "text/plain": [
       "|- forall_{A, B} ((A equiv B) = [forall_{x} ((x in A) = (x in B))])"
      ]
     },
     "execution_count": 4,
     "metadata": {},
     "output_type": "execute_result"
    }
   ],
   "source": [
    "set_equiv_def"
   ]
  },
  {
   "cell_type": "code",
   "execution_count": 5,
   "metadata": {},
   "outputs": [
    {
     "data": {
      "text/html": [
       "<strong id=\"set_equiv_def_spec\">set_equiv_def_spec:</strong> <span style=\"font-size:20px;\"> <a class=\"ProveItLink\" href=\"../../../__pv_it/_proof_union_with_superset_is_superset/d5b0b00f2e96aa0cf1ac3d0c329135d2f74a52f00/proof.ipynb\" style=\"text-decoration: none\">&nbsp;&#x22A2;&nbsp;&nbsp;</a><a class=\"ProveItLink\" href=\"../../../__pv_it/_proof_union_with_superset_is_superset/ffb6ee8cc8adb9410ebf9fa2557aa0679f0a4ed40/expr.ipynb\"><img src=\"data:image/png;base64,iVBORw0KGgoAAAANSUhEUgAAAawAAAAUBAMAAAAjCBQzAAAAMFBMVEX///9UVFTMzMx2dna6uroQ\n",
       "EBCqqqqIiIgiIiJmZmYyMjJERETu7u6YmJjc3NwAAAC+aOQFAAAAAXRSTlMAQObYZgAABE1JREFU\n",
       "WMOtV01oVFcUPs4bx5nMe/EHW7DFOLoRujHqs8EYMF21lYJZuJKCcSHoxia4sLowASVaV9EsahbF\n",
       "0XbTYmtWbUGdjKBVEktHCAgBJYKLYCmJilIwOp5z7n2T89699xnBC+e9mXPe+77v3HvfufcCNNeA\n",
       "zdkOOvy5KcN19KL5WAp+Gi2hWxhS3zmobfIEwDgow/aJgT20OehcpMHbV+AlKwItBm4IZbrdlz6B\n",
       "n2wu2gObWyeA0Fuc7ziVstoQ4DdQhu0yXXz+WeXrNfBHwWep0LR6C3bUIpgPjFnS+pRul6RP4Ceb\n",
       "g7ZYg/FZRh9zvpNsDaWsNoRgENiwBZcJtYl/cyoF9E8CtLHnHvg/AjyE+YDXY6b1L82TEeES+Mnm\n",
       "oh1GX5nRTQYHlFDaxjryOGh5Nc3+Ok/3PP/up8s/JYDPAW6yZxl2Y6VZfTwq4HeZaTWhRK9buAR+\n",
       "pOzPU6cbIQut/xTneg+jmwwOKKH0JuuYxuu0eqjW1xlPayfOunXYkeQG6qbtdaVYB34y0wo67tyZ\n",
       "li6Br1rmj6oIWWizr/ChkkI3GBxQQilZCEfQeYRD2eo3tcRoPSvRzWsMvF9Sdx3YaqYFL69cOS5d\n",
       "Ef6t3keHeEqNVWXIQuvXN0GEbjA4oIRSshC/NWADuAEbeuJpLanXqRYF5SS4Dkwy1C/cBnVaWC4r\n",
       "8W+ZzW8NTuYZpyUWstH21Z9MaXSDwQEllJKFMID/BjjUCTODcXz4+4Pn2CE5/tPO2D+DCOy3jNaX\n",
       "UeXUTeN7VW8uy9/FSCxko/Xv7vkaFLrB4IASSslC2IW+XTxRVw2vGUmkBXAeP6bMrKX2UGCDJa08\n",
       "LIktmBrfh6ISkdlNvdMI2WkLL0ChGwwOKKGUTKSFC+3icgzfo0lrSysK2NLyanmwpAWwVBVrUf0d\n",
       "tK2oPC0tC5RUqtJqTEL05ruiBYQn0nXCxaHN9iewo8AXYuYv02k1l9fS4nG2txSbhPiCdnTFJ6FB\n",
       "6yNSZg4UusFgh5JKs/2yZDQjfhMNS4HKbY6m+z60oUbJUN/WBRCBSctoQWUlfsHVj/KdsZKRq/ah\n",
       "lxzfx0qGSZtDsYVWWTISFcgCJZWqkhGVUVoQiq+px2jF3UGvnRsEj7qISWSLAkO2tA5gb2Xg18il\n",
       "8Xd2j8J/akHtliGTtvAdwEbQ6AaDHUoqJQujoR6vX4Lc6P80SI9/X7f3Ki/An535kHeDpQR2FLho\n",
       "S0tN/NeRS+NfP3zrB1VK/I+/mg9ZaAvZVcu7I3SDwQ4llZKFls0NrB8+Fvt/23EO8PttaQU00JnZ\n",
       "jHPzlN0W3zw5aAndZHBACaW3k1tdV2tz+G1bXdVmvLK34K1uCvqCt7pCqdrq8p6gkvasX3YEbAcT\n",
       "XZkm2joiXwp+Kq3jYFJ5i1J9MEk75qlWnIKFqgodZ8X0Y6QbvfJu75DSoj5GvvXQ/8DhD8x0v31/\n",
       "h35CD97x0P9A29ETbwBLtatJVdwCBwAAAABJRU5ErkJggg==\n",
       "\" style=\"display:inline;vertical-align:middle;\" /></a></span><br>"
      ],
      "text/plain": [
       "set_equiv_def_spec: |- ((A union S) equiv S) = [forall_{x} ((x in (A union S)) = (x in S))]"
      ]
     },
     "execution_count": 5,
     "metadata": {},
     "output_type": "execute_result"
    }
   ],
   "source": [
    "set_equiv_def_spec = set_equiv_def.instantiate({A:Union(A, S), B:S})"
   ]
  },
  {
   "cell_type": "code",
   "execution_count": 6,
   "metadata": {},
   "outputs": [
    {
     "data": {
      "text/html": [
       "<strong id=\"set_equiv_def_spec_r_h_s\">set_equiv_def_spec_r_h_s:</strong> <a class=\"ProveItLink\" href=\"../../../__pv_it/_proof_union_with_superset_is_superset/968941c62dd424987069e5ce754acb4b8091927c0/expr.ipynb\"><img src=\"data:image/png;base64,iVBORw0KGgoAAAANSUhEUgAAAQcAAAAUBAMAAABysOUVAAAAMFBMVEX///8QEBCIiIhmZma6urrM\n",
       "zMxUVFQiIiJERETc3Nzu7u6qqqp2dnaYmJgyMjIAAAAcRTyBAAAAAXRSTlMAQObYZgAAAxhJREFU\n",
       "SMetVk9IFFEY/6WzzTo7u3no1KGkQAgCl6S6GC4FBR1yCeyYhhVJUIsdOhQhXXKLcA+BXcpJwsRI\n",
       "DaHo1GIUYR72IEGHZA95SCi3Q3+0Yvven1nfG98sLfSD38yb75vvN99873tvBliHhoIgzK4wxHKC\n",
       "tcQ8lyyyiw+qZ0zSAGk+EbRPz+Xn0UuD3tCYdTm3zcVTGylpxrfMsqS6P0kaIM3L7ODwoccO0QLG\n",
       "Spig0URoTBC34AzCoRIw3mEV61e88aSgAdIcX2aPTvAxL2Qr2Ypwm8BpjAminswLwAw4EyToTilu\n",
       "Oyeo6Fy/dLXiIjxqZ2ebjzOsJt8AqwlOIzh1hEhNpoEDwH1wxmfHx4fU+4YkK4hc8xQXodCS0pKw\n",
       "/tBNJPoRggjKGaQ6qF07qQQpwZ8DA1fUG3dIjjTf3sWLO+GpLnqm96KgV6L8io9fSiIoZ5Ca/J1m\n",
       "JzcpeBrI6h3D6eTjfTaf8V7NBTxAV5OWBFrK31nRFyThfuFIIlyqrlxmF9RKnAd5f67hsqDruasW\n",
       "n89+zQWkMJzUk3DebdtCp2eSCMiZpPD45FcqSywjaKNO2042CzqIipDIVvZWFRciPa0X+vUkqNl/\n",
       "0aFLEgE5kxShnZZDpCToFmwYkgA2ieWmrF9utoANRS2JPD2nWhIGKZe1hZJEQ/E4W6x7mtPadJCe\n",
       "NDTq00GhdqO/T/DdppuEVunisKTfE90IlRplRpoOKyOI7CnqE++8ndIaM+a1kJUZdmuN2UBJJEps\n",
       "Btj9MeqOGEnX59XGDPS5QeoJsU1pTExTJhF89v1yoXVMDeKu2G6mVBdb99EVVoRFOhwl7fqLwGtI\n",
       "1bZgEmapfUm4rFAsef4CYsJW/ChZ1NHtI/tFwzpnj6y5xspLiA3+YMvj3s3OpzeYkNVzhosvSmow\n",
       "SyUP7T3Hzom0IOKsUpFSJHTbtt7o27aPY6071UsnI1ht265ISTyU5Bh2i+4/f8BCUNMHTEJ+wGS3\n",
       "zs/M+uMsAnvoGrLVBEM+5dVi/E+5+S+k+k9NeIbZ2mKiOcH/9nsXzwnWEvNe8C8BCQKdiHBlcQAA\n",
       "AABJRU5ErkJggg==\n",
       "\" style=\"display:inline;vertical-align:middle;\" /></a><br>"
      ],
      "text/plain": [
       "set_equiv_def_spec_r_h_s: forall_{x} ((x in (A union S)) = (x in S))"
      ]
     },
     "execution_count": 6,
     "metadata": {},
     "output_type": "execute_result"
    }
   ],
   "source": [
    "set_equiv_def_spec_r_h_s = set_equiv_def_spec.rhs"
   ]
  },
  {
   "cell_type": "markdown",
   "metadata": {},
   "source": [
    "### First, let's focus on the easiest: $S \\subseteq (A\\cup S)$"
   ]
  },
  {
   "cell_type": "code",
   "execution_count": 7,
   "metadata": {},
   "outputs": [
    {
     "data": {
      "text/html": [
       "<span style=\"font-size:20px;\"> <a class=\"ProveItLink\" href=\"../../../inclusion/_theory_nbs_/axioms.ipynb#subset_eq_def\" style=\"text-decoration: none\">&nbsp;&#x22A2;&nbsp;&nbsp;</a><a class=\"ProveItLink\" href=\"../../../inclusion/__pv_it/axioms/7a59274882f4df50c95c1e6d7694eb9e867fca2c0/expr.ipynb\"><img src=\"data:image/png;base64,iVBORw0KGgoAAAANSUhEUgAAATUAAAAVBAMAAADV6mS1AAAAMFBMVEX///8QEBCIiIhmZma6urrM\n",
       "zMxUVFQiIiJERETc3Nzu7u6qqqp2dnaYmJgyMjIAAAAcRTyBAAAAAXRSTlMAQObYZgAABCZJREFU\n",
       "SMfNVk1oXFUU/jp/mf90ISjoYjCLhmCbgYAFqWTQRRUqGbtQF2IG20Ja0A40ZZSojFLIxB8yqzYI\n",
       "Nk+UpqZSCy6kbgxNxDapdaDgT39HtAsj2KG16R+lnnPufTNv3n1vFN144Lzz7s/73nfuOfeeC3SS\n",
       "WE1pJ0lUja51lzp/8kGnwaOkF0bF1Ll93mfeQa0kLxiDqZ0rAyN7gO3GyEJaxv2cipc9uzVehH1d\n",
       "ELPE3cs+KL9pJbmsu74vlUq71esq+sdgHodNbskj9ExbPqjpqne/wovXhRubKQ6dtyNIZZXy62X1\n",
       "p/0nWsPDtDBDWSQzBjcBnPKL2mmffo13TLixYe/ETQ/pqiolOTRYba6kLf3UdTGD+GqDmwRiyY/b\n",
       "q22tH0ulehveh4obmdTi7Ow+H5B9Wklq/Tk2QacXb1Lq3Euu/WpyOzc7+0nRb4O1DTzX58ZL54Qb\n",
       "mxuVyms+KD1agZD1lWR2l3N4BXh2B9l5k1t3pTI+54MaoCyJP7j9sWOyL5YNvGRWuLHZBkzIkHo+\n",
       "cXV+xM7V97QCH2NYsmqv4x/hlfO9Y/xygR/JP0Syilskj6gr45vtKHn5KX7IvMGNSNXAS9WFG5vH\n",
       "ZUvQ+58q6VcjaSfQmFYgh+ksWgeK8v8mJUWBXr4w1y2UNbbvxZydxZQXi/jOelKImniJonBj04WA\n",
       "hOujOzIjWEDilp59j1aEtwzsLLtjGiUXArd5f5ncUMRau3Vo/lEO3qB93K0ikhYqqvE0L3a9DS/c\n",
       "EAQ2yZr64eIu5VUGwbqbW4gQpdN5XnSTj4ErPty+hZ3xqXfe5+MnOZN1cAOuqMaUiefgFqs/I0uT\n",
       "UZ58lsc6yx1TikKXCvTv7cdRhBNhoyPfCprb/jC9JXs2b6OcEdkcLTtiivA1TdTEC6mYssHEVklK\n",
       "rJcZQ2t7C3DthRihpRvSdWCr5Tzehsv2XnCtW3QvrU5fpD4KHYRCsOjYC18GGpDDI5iBG8+xF/C5\n",
       "fHQW/TLjFLDGnj2vlc+46E3V9/y4XbN+Jt/uY6YbPLgl2NN8uoa4ritHAg09SodD6Ha0oe8QY82v\n",
       "bLzgnCCwQTdTj/9yclJW5F1g2j5gNyo9eHcZicnr2XYCL9/d8nBFZl7y4KbyqbuK8CuVylvA4Q3H\n",
       "7R1GwYq/2Nej7xcH9lguvHRenb15dokHgxamuQHaKENVs2Z1kHjRi9sZSSHkoTLkEcSuedesTeN2\n",
       "zdIyoxBmmh1PkZO12NuI3ULsAY9a30E8ar0uTo1TmMPXslYUwDt/V+u1tGq9zs8biE2+Hr4f31wd\n",
       "GMk1p000y4XNo1Rq3ZG0eNyR9IK+tOkhC1GO02QZU9dr7grhHYbWHan9Dut/t/SXCT9uWno53/7B\n",
       "3dLJfMF04Oi/uJOnzFVY81/u5D/xpX5UTJvU8H+SvwBVZVBM8dnIYQAAAABJRU5ErkJggg==\n",
       "\" style=\"display:inline;vertical-align:middle;\" /></a></span>"
      ],
      "text/plain": [
       "|- forall_{A, B} ((A subseteq B) = [forall_{x in A} (x in B)])"
      ]
     },
     "execution_count": 7,
     "metadata": {},
     "output_type": "execute_result"
    }
   ],
   "source": [
    "subset_eq_def"
   ]
  },
  {
   "cell_type": "code",
   "execution_count": 8,
   "metadata": {},
   "outputs": [
    {
     "data": {
      "text/html": [
       "<strong id=\"subset_eq_def_inst_S_subset_eq_AUS\">subset_eq_def_inst_S_subset_eq_AUS:</strong> <span style=\"font-size:20px;\"> <a class=\"ProveItLink\" href=\"../../../__pv_it/_proof_union_with_superset_is_superset/207987960c5132563af0dae4d110c25570063bdf0/proof.ipynb\" style=\"text-decoration: none\">&nbsp;&#x22A2;&nbsp;&nbsp;</a><a class=\"ProveItLink\" href=\"../../../__pv_it/_proof_union_with_superset_is_superset/31a1713c6b2bad9efe75b0fa34698268d9a0b1ae0/expr.ipynb\"><img src=\"data:image/png;base64,iVBORw0KGgoAAAANSUhEUgAAAVIAAAAUBAMAAAAtjagZAAAAMFBMVEX///9UVFTMzMx2dna6uroQ\n",
       "EBCqqqqIiIgiIiJmZmYyMjJERETu7u6YmJjc3NwAAAC+aOQFAAAAAXRSTlMAQObYZgAAA5xJREFU\n",
       "SMetV01IFVEUPr43je9n3tOiRRHJqxYutbwIFoXQpkLIhSsJfG0iaWO4KO3HR1g9K+KFi5IwRKpF\n",
       "hLlS4ZmOLZJUSquN0uIJEWIFFlFUmt177p15M/e90ZnowJn7M2fOd+495557BiA6DfnpMziTmuEs\n",
       "UWsvrEUOUG6A5toBJtlEY0X5W0lG68fG1yN/jLIltFOSo5eE2DPitPbJvLPugAhAH23C0zC5hG9n\n",
       "ksnkJeyF+JaFcF7Dvg6m7ATtTeRa6o+zT3QHS/vyzroDIhBJ0aaLbgQuafGAqWCWN3PLqAb7KMJl\n",
       "/U2ALFkaZfvz0cFQhMold0AEAnRF2lcApUla9U3umsY/rAngIAGmrFYLyJKl8Jg+Kx0sDdgCOzKU\n",
       "vOYBiMACnVRWaJjEaCcYz0Z/gusr/GZXYMjeB86SpW+mpl4mHCxdsA58g7onIAItzPzVPWLVWU2F\n",
       "3FU16oq0VCFbJViytCidHip3sJRBjZ9+34zem9C9ARF4ykZtq1/QM/NZtWE8wFq174ddgSE7Jxj8\n",
       "j5BS3NKCGIRtTvZVVL4WXQqllUeuBjAKSzwCEbiCcjMNx6Q0EsBAUCD6U1IgZE8KlvZUSUkp4TCo\n",
       "S6JLofy6f1nBlfR7BCJQx+WD3yXvb6hmzx1dt35LCoRsmWDJUipzwRg9r+oGuJE1qo4lobDInvXM\n",
       "ER6AuKU0sDS01JJ3uAL6qLcrMGSdLN1vwEBk4BONRXqi41lLAYo4RLTfIxB6Xyuma8RsBg/t3lcp\n",
       "XzbTnNZjkT0k2IjTYmHpoo/2/C2lm6jfGT0gpkoMtLIYH9R6BMITpdKvgvzAjm3WrYH+gfIT9ANb\n",
       "uJqyyJonStrT8DwVPV/Q087TN7xoqIPsiVL1NihEiNvgDYiwBBDsANgtvts1JG5Tf0qkulF2ADRW\n",
       "ehzRLbKdgmVL1Tu0jYWmQRM3UnSL8ZZCHY2PioIkYMSESyDCNjaobN0Yl0GVBGijv3Q4tdqB1+zA\n",
       "zuPDYJHtFSxbCphsijLgu55OD8IzgFfGWwo1dma8m9cv2rYaT0BEuuJAvk1NKu26aCuAEpxzLX2H\n",
       "0QgxwMg9QY91/ttU2We7TdcDIk5lg1k4OJBDhSIcvrSXHl28Yu6CNuyuQlkHiKoesU4nk2bVF86s\n",
       "pcCh6hP7sP1gsw5h5rx7nVXZGnAkryp3QMSpvDULXAcayQtMbKNzNE7dV9LrABH4t7+TSIazRGf/\n",
       "+9+JAdTa/hd1I1GEj64VyQAAAABJRU5ErkJggg==\n",
       "\" style=\"display:inline;vertical-align:middle;\" /></a></span><br>"
      ],
      "text/plain": [
       "subset_eq_def_inst_S_subset_eq_AUS: |- (S subseteq (A union S)) = [forall_{x in S} (x in (A union S))]"
      ]
     },
     "execution_count": 8,
     "metadata": {},
     "output_type": "execute_result"
    }
   ],
   "source": [
    "subset_eq_def_inst_S_subset_eq_AUS = subset_eq_def.instantiate({A:S, B:Union(A, S)})"
   ]
  },
  {
   "cell_type": "code",
   "execution_count": 9,
   "metadata": {},
   "outputs": [
    {
     "data": {
      "text/html": [
       "<a class=\"ProveItLink\" href=\"../../../__pv_it/_proof_union_with_superset_is_superset/28f91fc1218f1fe420a08cc04212019f4df293df0/expr.ipynb\"><img src=\"data:image/png;base64,iVBORw0KGgoAAAANSUhEUgAAAK8AAAAUBAMAAAAJsXDwAAAAMFBMVEX///8QEBCIiIhmZma6urrM\n",
       "zMxUVFQiIiJERETc3Nzu7u6qqqp2dnaYmJgyMjIAAAAcRTyBAAAAAXRSTlMAQObYZgAAAqxJREFU\n",
       "OMulVU1oE0EU/kx2u8lmk3rw6CFYEOzFlaCCFLpUUATRVah6EFv/DkWwuRWpSA6CG0tpQNBetCtK\n",
       "LVGxIggVpRJvMWBAQT0ouXiwoE0FUVGI82Z2192wGxQHvjfz3s5+8+a9t2+BjuNqqDVZ7/DKgoMG\n",
       "Ke8iNqmFUPOcmI6021N9tbTRVQIIz8myFEGcKYWaP4ppmZ/NlzaXk1CnoDJXCdN0tUIE8ctQa1oX\n",
       "0zLRZfia3zvO7O+BCjgy7Kk2H0F8JqC9GRvjBIq4x+1+mhW+zpO4ZwIDwHVwpKvl8pUI3mTerx3q\n",
       "dRbO9vpGI0i8l+V0kLlqCHy3rLMRxDF2N3XdyECFB9NLRA+Xkr1Yb/P4l0mTpgucBIoBusO1J6ZY\n",
       "Jdibd/A6e46ULi+Rk1zexFA2SBxrtUYo9g2B7TyHf4akY9FZKiz2Vbywd/FTvB3jXBqY0YPEuHt0\n",
       "hWUslRdQEHPrXX2cq0OxPY5VBhWSJZR9n9ngLqwhIR/PjRbaiIF+5orcFNDqipf2hTLQXULKRwx8\n",
       "Ecq05zEnltjjRoBYozD7iJONA1R4m9ebEq/PzFoDvlBA/uqcEgwFe6SsduuYB3OWYYiFQsoLoHiC\n",
       "xd0+rRii1tVNKy4zJe9RrAleZ/GsP3lJRpxpkpk2p8il+wx9vuThAWOX8Qm44bx42Y0YKxrpZ6Lp\n",
       "9Jxxl/iZU8uJH+THByb20De4VYc2TEc9FUA3d4VtOmhZVlY1oTbdAslDPdbb47So2fOiI2Ana0Ot\n",
       "JaSmvpGj1yYGH14ks75jyykeS1MAadovN2V08Q41D3k4/JPefSHwSbtjf25DQL/lgI8ZraFBo2Pi\n",
       "BczZf9WEoobThJxrvqpUgQkivlTb5u1JhLfNYidet20GegOL8T80+vBBzkQ49H+/prcCvwEnPrd7\n",
       "4hoA3wAAAABJRU5ErkJggg==\n",
       "\" style=\"display:inline;vertical-align:middle;\" /></a>"
      ],
      "text/plain": [
       "forall_{x in S} (x in (A union S))"
      ]
     },
     "execution_count": 9,
     "metadata": {},
     "output_type": "execute_result"
    }
   ],
   "source": [
    "subset_eq_def_inst_S_subset_eq_AUS.rhs"
   ]
  },
  {
   "cell_type": "code",
   "execution_count": 10,
   "metadata": {},
   "outputs": [
    {
     "data": {
      "text/html": [
       "<span style=\"font-size:20px;\"> <a class=\"ProveItLink\" href=\"../../../unification/_theory_nbs_/axioms.ipynb#union_def\" style=\"text-decoration: none\">&nbsp;&#x22A2;&nbsp;&nbsp;</a><a class=\"ProveItLink\" href=\"../../../unification/__pv_it/axioms/39721993b1dfda56d214e08718cb566208f76ad10/expr.ipynb\"><img src=\"data:image/png;base64,iVBORw0KGgoAAAANSUhEUgAAAfIAAAAyBAMAAABVIETjAAAAMFBMVEX///8QEBCIiIhmZma6urrM\n",
       "zMxUVFQiIiJERETc3Nzu7u6qqqp2dnaYmJgyMjIAAAAcRTyBAAAAAXRSTlMAQObYZgAACEJJREFU\n",
       "aN7NWmtoHFUUPtnd2cfMbpoftb6wLAlELWIWU1swiquiovjY+MMHogmtRSuiWwvGR5X1ReOLrCC2\n",
       "Kpq1lapVYiSIRgpdW39IFLpUxYpoF6qgBe22TTVJrfHOfczc1+zOGhz2wpmZPXv3znz3njn3nPMt\n",
       "gK/WNj9fhgW0z6E1mjlIznvmD/v8RdvkK6UF3DBZbhHkcB05vfvKh36R5xZ0v25F87q2X6KyUGST\n",
       "VLxaqkov+gNBbnUoVlfQdnyHnG5vbnij6l5Hi0Q82/OBIn8zK2va9Q/3GzkdchT4FTPVjoK+vcZN\n",
       "aZVIw2cJBvmTiuZrvSlmyOmQ41Mwhna1p6D/aY77ZheVRvYXCHJrTlE9JADeOPQYvogRS3jvYsci\n",
       "8litDsnrzYlZfk2peLYNASKPZRRPludf0yfYEm8ip0pPthnkqdA0/x5liXi2ncXgkO9XXuoQmguz\n",
       "c+2l2CzHHNvuwsdIaWelGeRXWyf4DTRDpNE6BIL8QUUTR9Deh+/S2MjXOuoX8PEtGEgjSyj4RG5m\n",
       "jSPStoW3ruQfuCmTkJoLDLkxrc77OMAU7CldZX9wN7hH8DELoxkwevM+kUcgcZR3Knki3mHckcCQ\n",
       "hzvU4bL2xjRMJmapvTT4cjH+vLr3PjQZEb/Ib+xdMcPPc42Id/sjMORtg1rkAGTyE+6aLyZrCG3V\n",
       "JpCjoZY2hbynGBTygYrW2sE4Rj50iNaOvop1MOR43x7z2M+x3kKyDgUI33ZmOtcA+R3+LX3P1Wkf\n",
       "rQSFvKeo9XCfhmqwzP5wnuDhEuMkKCPIl9uHCXVMV/8aifm+OQOWlLp5D9fABoNA/rgmd8tA5Hi8\n",
       "RhIUbAC47aZ7enyWIR9D940ctP3SP+jwQZVeuHocGYwUE1vyMA0X2l6lTMS7xfMEOZ6eH30g99dR\n",
       "005RVQiWuWpZFxnNvOtqqr4S5SzzB8Ea+StDkSd+/ejWu/B+/4A9R4P0wtGbI/+U4JP59RBNGx34\n",
       "bWnPEamTMtcI8i/t00EfyP111OwiRzVKIXqNfCFGr2xysMPqOk+b3Mj6tlyokKghxG8DkTqJ6jGC\n",
       "fLPoXr2R++uoecYjGmXdjMXZl5too2jVU4Vy44yFPVA/tCObSY77QO6voyZfOa571/RZ6jNuZL/y\n",
       "z3Qzd7kCJb6Je0qNs1RmhP2Qmtq+fZMfD+evo5dxNVWZWECzpzRerN/nT+rbZ4aHN/jy7b46qi00\n",
       "q9P+X9Wo76nUazMU+RreyAQfKCGXO+p/paiTc9BibSlFfpnXexGWkEsdU9N645bV4ZZDfjJFHoOQ\n",
       "ZGM3XZgNLVGRSx23ntAOq6ijtVZDvo4iT1b4jMDc0VuxClNwgYpc7AhT67XDKurWRZ6o3shp901u\n",
       "B2tvGMrJ3pW9fQJy0nHX+d04QjLSw9rNUlG3nrUPsbj9mTvQ23nRDV0hBClixxLWrbeky+qa446h\n",
       "0r0xnGJGYSU6lORRsVr0cLOyT3+90aNN+sXgZy+wikRUDwcTKFpKXVJpuzs0SAq5Vm7qWx1yu6MB\n",
       "vxPND9ADxmcKclst7WrHpH3c9AwEGcMQLfpE7rn/8+TDWqHihdoShnwRCpZePRMWZVGKs5UgT9o1\n",
       "PAX5IhxVkSU0D3w1UoKYjJyovZ29zTC0e+JiDAPZQwx8rSYfOffL37xG4smHMTnFP8qQp+xHXYUu\n",
       "Ubp40/DwcNrKJSp5DXLc0ajhm4ZLMJpTkWN1qu/H83c4T2xNS/H6157RnsMw4MA7iu+pxrB2/QH2\n",
       "ynG+2HjyIZkm4qzO30J+fhKcBaMGek3xmsPlaTatUn4+mqwmYXMJrkUmUMHIN5cSz7IDUVvnwumW\n",
       "kyIbJ6QcTcjTYN/QELNMl2HAVIFh56TK3AJgh/ywnNsJIwnkg9lBRM5YqKuooVXfl4QknucspMoe\n",
       "lYlt3+yagv7x+AwkRh7Fz9U/bpwK/UX7wNRrzHw4KxoXvU1eYhng5mXutcswEKrAtuXLNJaM8GJP\n",
       "DJu8RhLJh5+pCCkUQx4ZRPd5eQrgObtAgLoN1q3JsJQNr8i4os5bmZjlaB/jvF1GYhlMLuHnGAZC\n",
       "FUzoQ2Qrw5ISm5nY0v3SOWlpJIl82E1F2GyUalQIvecNq1FskzB6+vgdg12Zg6Fs9Gyn98Vi/U1g\n",
       "GXgvzjEMpJAWY3yDWni9mdXtzHLq/lhVGkkiH36iIoRW/60Ol9J/SOl/u78k1FwFliHO9eMYBlKW\n",
       "CKUhmtUM2AlwB6vVJkvJuUhRGkkiHz6mwrAUAqs6u6+DXWfnWQbotwvDxC/xDAMpmJt5XcHZLjbR\n",
       "1GmxzaHHC/JIMvkwQIU56XRQyDmmgSFnLAMucTkL5TIMlCroI8U/JYkcp7UhzEyQKIMfSSYfJOTB\n",
       "MQ3hmmLtDsvQJnhNh2Gg5cc3QFuMS1Rp6oSZiYGcPJJMPlxJhbaNEBTyyLTi4RyWIey4U4FhoFRB\n",
       "/DZ9Le7pvcA8nFXqQbmEMJJCPkgeLjhGEdy8lZLbLstA6VOQGAZKFRh3YueIyQWHarDf44ed7er6\n",
       "8RGaAT3CBw0C+cCE7l7Bscicc6ekl8sywLanyJciw8CoggPk9AA7xIjLaKdRKzLhbZ1bLqoII6nk\n",
       "wy9UBLcTCPK2cp3o9ZqNQ0IxDCNnVMGrHskpnUoxepVHYuQD2iKw0Bbkv0W4fwjVzVhI5zw0ogrc\n",
       "AKLev0Ic8kHKWKgdBfOvsAP+y+GYYWhAFTQs/5LGyAcxS7VOCxL5izl/lQl+fhZWmZCnx52iYP8J\n",
       "yHFkvqpR3/sd2E81KlUkQttqCBI5rGiZ6mOq0Czyhf3LO5puFeTN/8t7gf/sX94iwM27yXnP/OF/\n",
       "Af8+kJiV/IheAAAAAElFTkSuQmCC\n",
       "\" style=\"display:inline;vertical-align:middle;\" /></a></span>"
      ],
      "text/plain": [
       "|- forall_{m in NaturalPos} [forall_{x, A_{1}, ..A_{_a}.., A_{m}} ((x in (A_{1} union ..A_{_a}.. union A_{m})) =  \\\\ ((x in A_{1}) or ..(x in A_{i}).. or (x in A_{m})))]"
      ]
     },
     "execution_count": 10,
     "metadata": {},
     "output_type": "execute_result"
    }
   ],
   "source": [
    "union_def"
   ]
  },
  {
   "cell_type": "code",
   "execution_count": 11,
   "metadata": {},
   "outputs": [
    {
     "data": {
      "text/html": [
       "<strong id=\"union_def_inst_AUS\">union_def_inst_AUS:</strong> <span style=\"font-size:20px;\"> <a class=\"ProveItLink\" href=\"../../../__pv_it/_proof_union_with_superset_is_superset/3cea5db5c06f77efeccda540bce34f9bfef357970/proof.ipynb\" style=\"text-decoration: none\">&nbsp;&#x22A2;&nbsp;&nbsp;</a><a class=\"ProveItLink\" href=\"../../../__pv_it/_proof_union_with_superset_is_superset/110fb2fda2c68a4e03c7034dac562039474d80670/expr.ipynb\"><img src=\"data:image/png;base64,iVBORw0KGgoAAAANSUhEUgAAAT4AAAAUBAMAAADmVkznAAAAMFBMVEX///9UVFTMzMx2dna6uroQ\n",
       "EBCqqqqIiIgiIiJmZmYyMjJERETu7u6YmJjc3NwAAAC+aOQFAAAAAXRSTlMAQObYZgAAA+VJREFU\n",
       "SMedVk1oVFcU/pyZTDKZN0MVK4SCNYIIujDqQqSbKS4qRXAWWUnBdFGoCHZ2ISBmNg1RRCZmoXHj\n",
       "EFyVENNSWqGaTEBFDKVTEMQIMpuKKNLUn9b60/Gcc899eXfmvog98N15c+/5zjn355x7gXwdHvH3\n",
       "qhxReDjv5DnyOF433TDAgndYe7e00cZ35gqriMfwcBbi/CWq7Zxgxq97aGffLaynD8a0V0V7L4oZ\n",
       "+axJewXBHALyxfBwpuPi616ynA0SrvQ1vKrZOhaWcJO+CLmKT0V7cxc5qm75FtsZ6l8EdsGgjeO3\n",
       "xrL42nLWcHObmzt+1QmyU0WyBEZXdA65S6Mn5EN7r5/n3y75LnPzG03+M+AaDBxhjmMNd0dH7SoH\n",
       "h/6znF5uTnJzCj7fwRMgVUJQBONB9Iz8XNMv7a0PF9z49tPx30grWjBw5MEyz8jWoxHvnc+gHN7V\n",
       "FK9zvuz1nXpD/2gdLoAxRFEOlfAHj960KtzLmrVv6i3r91ROT7Ji4MiQQWgtmIoM7ku/UR7S1GR5\n",
       "nTsrXt9Bc4f87hZcIVaqiGFoukDTgOUqtpXc+DqbTVai4yFA8juRiuVErUWzNSgk/lGeWNqqeeDz\n",
       "jeHmX0xdFIwA9zNV/MIDy+k+Im0Bf1bc+PDrh89poumygSMjBqG1bGQshfy/sJxBYK0c2AGvbwS/\n",
       "H/yCfr4W9FPl6CiBZ5c4wGshKv1yJHomPp5piQ84T1YTSwaO9BtYa9jE1jQ/eifGXsFybmih6Sh4\n",
       "fXOZ+JuabQK2ur+WeMLndcbxRZNGR9WJL8lH8B3xWWt4FBmjSA6E8WUGkgM2Po/vPlrB5fh4V86h\n",
       "s8gjRXd/yUhX0dY/mfI8U2h/U2UDe/4+iOxvaK0jcusQvoVykK+aGfP+tvsOyFiCi+VeAZ/q75EV\n",
       "D2ec/MgPmKqPTEGzDl8RxqP5ERXNj9BaphQO3derSDk/3Lb3hMd3miLN9IX5wVk8JnVNJxTmNtey\n",
       "LFfVYJKazzn/z1aQZGvMFxtR2a2w1jTJbKGba4ScXqnOptq0+c4cB7ZDF2JcVnF+UO4JBB/tUyXq\n",
       "XWhOIT33gm08/Gnjl5e5u/Lp2Dq5ODcYOLJXYa1h/kdT04K5lzUcbh4POd2mdMput/nOpHpWS6yT\n",
       "AnMjndMy8Il7v1nZPHHM+X9DEXO/qTXsuTRabePxemotNvdbq297DssCutFXVYNn/vdBnKz0PvBY\n",
       "c3gRofdBvLa+DzCLrnq21Do6u1J4Me+rWcRZi/Cch1RjBW19X9GLMjV4Ou596he+PbNx71OftQiv\n",
       "5X0arz2r+B/v+3uK933f33uP932uIXgL83dVImDTzOEAAAAASUVORK5CYII=\n",
       "\" style=\"display:inline;vertical-align:middle;\" /></a></span><br>"
      ],
      "text/plain": [
       "union_def_inst_AUS: |- (y in (A union S)) = ((y in A) or (y in S))"
      ]
     },
     "execution_count": 11,
     "metadata": {},
     "output_type": "execute_result"
    }
   ],
   "source": [
    "union_def_inst_AUS = union_def.instantiate({m:two, x:y, A:[A,S]})"
   ]
  },
  {
   "cell_type": "code",
   "execution_count": 12,
   "metadata": {},
   "outputs": [
    {
     "data": {
      "text/html": [
       "<span style=\"font-size:20px;\"> <a class=\"ProveItLink\" href=\"../../../__pv_it/_proof_union_with_superset_is_superset/207987960c5132563af0dae4d110c25570063bdf0/proof.ipynb\" style=\"text-decoration: none\">&nbsp;&#x22A2;&nbsp;&nbsp;</a><a class=\"ProveItLink\" href=\"../../../__pv_it/_proof_union_with_superset_is_superset/31a1713c6b2bad9efe75b0fa34698268d9a0b1ae0/expr.ipynb\"><img src=\"data:image/png;base64,iVBORw0KGgoAAAANSUhEUgAAAVIAAAAUBAMAAAAtjagZAAAAMFBMVEX///9UVFTMzMx2dna6uroQ\n",
       "EBCqqqqIiIgiIiJmZmYyMjJERETu7u6YmJjc3NwAAAC+aOQFAAAAAXRSTlMAQObYZgAAA5xJREFU\n",
       "SMetV01IFVEUPr43je9n3tOiRRHJqxYutbwIFoXQpkLIhSsJfG0iaWO4KO3HR1g9K+KFi5IwRKpF\n",
       "hLlS4ZmOLZJUSquN0uIJEWIFFlFUmt177p15M/e90ZnowJn7M2fOd+495557BiA6DfnpMziTmuEs\n",
       "UWsvrEUOUG6A5toBJtlEY0X5W0lG68fG1yN/jLIltFOSo5eE2DPitPbJvLPugAhAH23C0zC5hG9n\n",
       "ksnkJeyF+JaFcF7Dvg6m7ATtTeRa6o+zT3QHS/vyzroDIhBJ0aaLbgQuafGAqWCWN3PLqAb7KMJl\n",
       "/U2ALFkaZfvz0cFQhMold0AEAnRF2lcApUla9U3umsY/rAngIAGmrFYLyJKl8Jg+Kx0sDdgCOzKU\n",
       "vOYBiMACnVRWaJjEaCcYz0Z/gusr/GZXYMjeB86SpW+mpl4mHCxdsA58g7onIAItzPzVPWLVWU2F\n",
       "3FU16oq0VCFbJViytCidHip3sJRBjZ9+34zem9C9ARF4ykZtq1/QM/NZtWE8wFq174ddgSE7Jxj8\n",
       "j5BS3NKCGIRtTvZVVL4WXQqllUeuBjAKSzwCEbiCcjMNx6Q0EsBAUCD6U1IgZE8KlvZUSUkp4TCo\n",
       "S6JLofy6f1nBlfR7BCJQx+WD3yXvb6hmzx1dt35LCoRsmWDJUipzwRg9r+oGuJE1qo4lobDInvXM\n",
       "ER6AuKU0sDS01JJ3uAL6qLcrMGSdLN1vwEBk4BONRXqi41lLAYo4RLTfIxB6Xyuma8RsBg/t3lcp\n",
       "XzbTnNZjkT0k2IjTYmHpoo/2/C2lm6jfGT0gpkoMtLIYH9R6BMITpdKvgvzAjm3WrYH+gfIT9ANb\n",
       "uJqyyJonStrT8DwVPV/Q087TN7xoqIPsiVL1NihEiNvgDYiwBBDsANgtvts1JG5Tf0qkulF2ADRW\n",
       "ehzRLbKdgmVL1Tu0jYWmQRM3UnSL8ZZCHY2PioIkYMSESyDCNjaobN0Yl0GVBGijv3Q4tdqB1+zA\n",
       "zuPDYJHtFSxbCphsijLgu55OD8IzgFfGWwo1dma8m9cv2rYaT0BEuuJAvk1NKu26aCuAEpxzLX2H\n",
       "0QgxwMg9QY91/ttU2We7TdcDIk5lg1k4OJBDhSIcvrSXHl28Yu6CNuyuQlkHiKoesU4nk2bVF86s\n",
       "pcCh6hP7sP1gsw5h5rx7nVXZGnAkryp3QMSpvDULXAcayQtMbKNzNE7dV9LrABH4t7+TSIazRGf/\n",
       "+9+JAdTa/hd1I1GEj64VyQAAAABJRU5ErkJggg==\n",
       "\" style=\"display:inline;vertical-align:middle;\" /></a></span>"
      ],
      "text/plain": [
       "|- (S subseteq (A union S)) = [forall_{x in S} (x in (A union S))]"
      ]
     },
     "execution_count": 12,
     "metadata": {},
     "output_type": "execute_result"
    }
   ],
   "source": [
    "union_def_inst_AUS.sub_right_side_into(subset_eq_def_inst_S_subset_eq_AUS)"
   ]
  },
  {
   "cell_type": "code",
   "execution_count": null,
   "metadata": {},
   "outputs": [],
   "source": []
  },
  {
   "cell_type": "code",
   "execution_count": 13,
   "metadata": {},
   "outputs": [
    {
     "data": {
      "text/html": [
       "<span style=\"font-size:20px;\"> <a class=\"ProveItLink\" href=\"../../../inclusion/_theory_nbs_/axioms.ipynb#subset_eq_def\" style=\"text-decoration: none\">&nbsp;&#x22A2;&nbsp;&nbsp;</a><a class=\"ProveItLink\" href=\"../../../inclusion/__pv_it/axioms/7a59274882f4df50c95c1e6d7694eb9e867fca2c0/expr.ipynb\"><img src=\"data:image/png;base64,iVBORw0KGgoAAAANSUhEUgAAATUAAAAVBAMAAADV6mS1AAAAMFBMVEX///8QEBCIiIhmZma6urrM\n",
       "zMxUVFQiIiJERETc3Nzu7u6qqqp2dnaYmJgyMjIAAAAcRTyBAAAAAXRSTlMAQObYZgAABCZJREFU\n",
       "SMfNVk1oXFUU/jp/mf90ISjoYjCLhmCbgYAFqWTQRRUqGbtQF2IG20Ja0A40ZZSojFLIxB8yqzYI\n",
       "Nk+UpqZSCy6kbgxNxDapdaDgT39HtAsj2KG16R+lnnPufTNv3n1vFN144Lzz7s/73nfuOfeeC3SS\n",
       "WE1pJ0lUja51lzp/8kGnwaOkF0bF1Ll93mfeQa0kLxiDqZ0rAyN7gO3GyEJaxv2cipc9uzVehH1d\n",
       "ELPE3cs+KL9pJbmsu74vlUq71esq+sdgHodNbskj9ExbPqjpqne/wovXhRubKQ6dtyNIZZXy62X1\n",
       "p/0nWsPDtDBDWSQzBjcBnPKL2mmffo13TLixYe/ETQ/pqiolOTRYba6kLf3UdTGD+GqDmwRiyY/b\n",
       "q22tH0ulehveh4obmdTi7Ow+H5B9Wklq/Tk2QacXb1Lq3Euu/WpyOzc7+0nRb4O1DTzX58ZL54Qb\n",
       "mxuVyms+KD1agZD1lWR2l3N4BXh2B9l5k1t3pTI+54MaoCyJP7j9sWOyL5YNvGRWuLHZBkzIkHo+\n",
       "cXV+xM7V97QCH2NYsmqv4x/hlfO9Y/xygR/JP0Syilskj6gr45vtKHn5KX7IvMGNSNXAS9WFG5vH\n",
       "ZUvQ+58q6VcjaSfQmFYgh+ksWgeK8v8mJUWBXr4w1y2UNbbvxZydxZQXi/jOelKImniJonBj04WA\n",
       "hOujOzIjWEDilp59j1aEtwzsLLtjGiUXArd5f5ncUMRau3Vo/lEO3qB93K0ikhYqqvE0L3a9DS/c\n",
       "EAQ2yZr64eIu5VUGwbqbW4gQpdN5XnSTj4ErPty+hZ3xqXfe5+MnOZN1cAOuqMaUiefgFqs/I0uT\n",
       "UZ58lsc6yx1TikKXCvTv7cdRhBNhoyPfCprb/jC9JXs2b6OcEdkcLTtiivA1TdTEC6mYssHEVklK\n",
       "rJcZQ2t7C3DthRihpRvSdWCr5Tzehsv2XnCtW3QvrU5fpD4KHYRCsOjYC18GGpDDI5iBG8+xF/C5\n",
       "fHQW/TLjFLDGnj2vlc+46E3V9/y4XbN+Jt/uY6YbPLgl2NN8uoa4ritHAg09SodD6Ha0oe8QY82v\n",
       "bLzgnCCwQTdTj/9yclJW5F1g2j5gNyo9eHcZicnr2XYCL9/d8nBFZl7y4KbyqbuK8CuVylvA4Q3H\n",
       "7R1GwYq/2Nej7xcH9lguvHRenb15dokHgxamuQHaKENVs2Z1kHjRi9sZSSHkoTLkEcSuedesTeN2\n",
       "zdIyoxBmmh1PkZO12NuI3ULsAY9a30E8ar0uTo1TmMPXslYUwDt/V+u1tGq9zs8biE2+Hr4f31wd\n",
       "GMk1p000y4XNo1Rq3ZG0eNyR9IK+tOkhC1GO02QZU9dr7grhHYbWHan9Dut/t/SXCT9uWno53/7B\n",
       "3dLJfMF04Oi/uJOnzFVY81/u5D/xpX5UTJvU8H+SvwBVZVBM8dnIYQAAAABJRU5ErkJggg==\n",
       "\" style=\"display:inline;vertical-align:middle;\" /></a></span>"
      ],
      "text/plain": [
       "|- forall_{A, B} ((A subseteq B) = [forall_{x in A} (x in B)])"
      ]
     },
     "execution_count": 13,
     "metadata": {},
     "output_type": "execute_result"
    }
   ],
   "source": [
    "subset_eq_def"
   ]
  },
  {
   "cell_type": "code",
   "execution_count": 14,
   "metadata": {},
   "outputs": [
    {
     "data": {
      "text/html": [
       "<strong id=\"subset_eq_def_inst_01\">subset_eq_def_inst_01:</strong> <span style=\"font-size:20px;\"> <a class=\"ProveItLink\" href=\"../../../__pv_it/_proof_union_with_superset_is_superset/33c3f6e0d25b9f558668e5f2f2ad4db9a420ca3d0/proof.ipynb\" style=\"text-decoration: none\">&nbsp;&#x22A2;&nbsp;&nbsp;</a><a class=\"ProveItLink\" href=\"../../../__pv_it/_proof_union_with_superset_is_superset/74f99db1359f156360c0eaab8b83f319a8e2e9e90/expr.ipynb\"><img src=\"data:image/png;base64,iVBORw0KGgoAAAANSUhEUgAAAOgAAAAUBAMAAAB112wpAAAAMFBMVEX///9UVFTMzMx2dna6uroQ\n",
       "EBCqqqqIiIgiIiJmZmYyMjJERETu7u6YmJjc3NwAAAC+aOQFAAAAAXRSTlMAQObYZgAAA1lJREFU\n",
       "SMedVl1IVEEUPu697d+9d92iHySypR6EXrSURO1nowcLonzoKYJ8CQqiFnoIy/ASEptBbPiQQuEW\n",
       "ESSi+5TCortSibiWK/VQ0s/6Flq0bWQ+aNuZmfvn/dFoYHdmzjkz35xzvjlzAQJZWK1dtEg8vaFV\n",
       "V8A3Z5U7BzDTDpBh0102Fp3VUrgkZxZzYT/pJKfDigl7+fnqqrdQjoMagH4mGlBU09Fo9AYbDoOY\n",
       "AjFuBeWasfOnHUD9OVuxkIVMHiYoqBSjImmA7TF3QLPyoWYGoNYKGiC+zDuF8L29uBtB4sBFCKiX\n",
       "nWush/X9utUUpq4R4KUVFPqw2+sEesc4kYaiHSzoBQA+AmITAf3ClNm2MPWuWbc/gUnbgdEKW0Hf\n",
       "TE6+lh0wA0aFa1BNAr+MM3TjMQFtYaL0JcoLr2HB1E/KUi5mBS1NJoeqHEA9aC9eKW+kaZnQEi8W\n",
       "99C+joAO0+ELqIyQfta4ulgkXJMok+p7SXuqgJaEQDDRRZsjYeA5vIvQqJbrBm3FH8RkhoDepJIw\n",
       "fKcOZYz7vNr0Cw/qlq2e8jFKQ2P7rGbBixnaBwfTx8nEcHvE6TOnsTtHQE/S0Jd1b0+Yw4utBzdw\n",
       "5a2gIMN1dTpW94Bs2aNe23WoTkOSpfQUiY92HRbwr1ID5dGWRpGL6HuTtDqB7gfVf+nZV5I3bjxm\n",
       "AAX4zUile4oUEDVQGl7c29tEdU80q1Figfvxsp7ThyronCuIg5aKDXCUWVcICUN4wVVgkyYtuGjv\n",
       "WsLBEZVIAbTzM4dGN6p8O4u/To1IJk+FWfxrLYm3g6IN+mQDkS548tBKJve0korwviqVSEhheleF\n",
       "P0y7c0gpg10x4IKgmJpB3V04CPmzICoFrdmjZgGvGL8g5Nk74lXvve8WwG5gftQQdzPFPnCnFk33\n",
       "MXbo7mZaSkM2oCxnpTlw3U4mB/E+djYsqVVABnFLa8tHFtWtxxRQvmw9PcAjQxl0buNgB/oBKClC\n",
       "EKSy+xAo2JZBvkEpg2puZUPBd261tqCECfl65CStMzzGcnmNgq8spgUfRlbIolH9aWNHizuBitsO\n",
       "X06DQIKWSsD8YtZcm+wae9pWFiGbZzDnBKq0aySn//KI0zbCQNf4XPlkregd//+5IqELV9v/Apuw\n",
       "5synB780AAAAAElFTkSuQmCC\n",
       "\" style=\"display:inline;vertical-align:middle;\" /></a></span><br>"
      ],
      "text/plain": [
       "subset_eq_def_inst_01: |- (A subseteq S) = [forall_{x in A} (x in S)]"
      ]
     },
     "execution_count": 14,
     "metadata": {},
     "output_type": "execute_result"
    }
   ],
   "source": [
    "subset_eq_def_inst_01 = subset_eq_def.instantiate({A:A, B:S})"
   ]
  },
  {
   "cell_type": "code",
   "execution_count": 15,
   "metadata": {},
   "outputs": [
    {
     "data": {
      "text/html": [
       "<strong id=\"subset_eq_def_inst_01_kt\">subset_eq_def_inst_01_kt:</strong> <span style=\"font-size:20px;\"><a class=\"ProveItLink\" href=\"../../../__pv_it/theorems/f04144572f71e89ff3a052387ff9df901693710e0/expr.ipynb\"><img src=\"data:image/png;base64,iVBORw0KGgoAAAANSUhEUgAAADkAAAARBAMAAACVyRntAAAAMFBMVEX///92dnYiIiIQEBBERERU\n",
       "VFS6urqIiIjc3NxmZmaqqqru7u6YmJgyMjLMzMwAAADiRdoGAAAAAXRSTlMAQObYZgAAAOVJREFU\n",
       "GNNjYACBtwwYgGuiIE8ChHkfKnRUSUlJD8L0YeD2h7B47m8A070ScK2cExgYzkKYu+Y3gOkbCIP3\n",
       "P2BgSIcwD9SDbeBcgJDNP8DA8A7MYtuw/gCIZkJy1P6PD6CsbQzvC0B0K5Is+///ERBWAkP/BBC9\n",
       "BdlHe4I/g53KFzkz3gHdZCCYD3YGGwMD8wUQg7EALsMIshosCySYDMBit+CyW4H4PchkDqAs7weI\n",
       "WNgGqOxiIJ4IYjQBMcsPiOBDJ2hITprAwBgAcuj/2wxc/p8moLpoQurUKAbqAUYlJUQMggEAQDg6\n",
       "A0dXurgAAAAASUVORK5CYII=\n",
       "\" style=\"display:inline;vertical-align:middle;\" /></a> <a class=\"ProveItLink\" href=\"../../../__pv_it/_proof_union_with_superset_is_superset/3584b2bfe5eb6c2f6020cb1bfd74429cfccc11f00/proof.ipynb\" style=\"text-decoration: none\">&nbsp;&#x22A2;&nbsp;&nbsp;</a><a class=\"ProveItLink\" href=\"../../../__pv_it/_proof_union_with_superset_is_superset/3ff8feade68f8c5c715fc339b02b810ec5d3c4480/expr.ipynb\"><img src=\"data:image/png;base64,iVBORw0KGgoAAAANSUhEUgAAAHkAAAAUBAMAAABbvo/+AAAAMFBMVEX///8QEBCIiIhmZma6urrM\n",
       "zMxUVFQiIiJERETc3Nzu7u6qqqp2dnaYmJgyMjIAAAAcRTyBAAAAAXRSTlMAQObYZgAAAftJREFU\n",
       "OMtjYMALOC/gltsJxA9AjLu4VKzALsxtc4bXgW0CA8NpEO8VLt0vsQv3MnD1M3ABLZ4Bcl8DDs28\n",
       "BliFmYHC9xgYDjEw8C1gYODZgEM3+wQUs9rL68CM9QEMDE4MDAuBQqdWrZqOy+EoEqxNC6Asf2BY\n",
       "hgItdmBg+NHRUYNLtzIQL1KboqMA4qyDaWZY/ycARPEAPZDKwNCJpqkTEToMXAd4i9jBEZMJl2f6\n",
       "/x/E4QUKO4MDD8V/X2CsaqAFC3h+sYC9jxS0axM/Ah3CXQAMGQYmWJLg2mMMYi7+C1MlAhRj4IBo\n",
       "Y5V7BwQwGXtgQLN+ABp+gR0mdGPnKhB1qhhJNwMDvwIk2cHt5gF5Haqb80EYkHfIVC2ABRK7rAod\n",
       "SC5nYIgPgHAEYKLLQIJAl7MUgMIoBRgOC/LYHfggkmwM5kihxr1AHygL4hjBRDcCsQ001Bg2A41g\n",
       "ZXgL9C9E8jaDPkzdYWDcbuhnmAtJOrA0ZW7AwJMASnIH4P76ycAQ3tHRocDA9fhMPyxm3YHOVFpk\n",
       "CwlVrgwviKiBm1k2iOYDeYkXpJb1AyvQyeBEvIBhfgDWlMpyAppSoWA5jDGf5wEPAw9Yky/QNRfw\n",
       "5xIoOAQPxiuHTjEwdANZHD8YOPtrMVIdFoCeyJhA/iamdAADjgkMDOSXTDcZGABQWXsh9Cbe1QAA\n",
       "AABJRU5ErkJggg==\n",
       "\" style=\"display:inline;vertical-align:middle;\" /></a></span><br>"
      ],
      "text/plain": [
       "subset_eq_def_inst_01_kt: {A subseteq S} |- forall_{x in A} (x in S)"
      ]
     },
     "execution_count": 15,
     "metadata": {},
     "output_type": "execute_result"
    }
   ],
   "source": [
    "subset_eq_def_inst_01_kt = subset_eq_def_inst_01.rhs.prove()"
   ]
  },
  {
   "cell_type": "code",
   "execution_count": 16,
   "metadata": {},
   "outputs": [
    {
     "data": {
      "text/html": [
       "<strong id=\"subset_eq_def_inst_02\">subset_eq_def_inst_02:</strong> <span style=\"font-size:20px;\"> <a class=\"ProveItLink\" href=\"../../../__pv_it/_proof_union_with_superset_is_superset/c9198d63e2be95f61ffcf9d572af6160909ae3e40/proof.ipynb\" style=\"text-decoration: none\">&nbsp;&#x22A2;&nbsp;&nbsp;</a><a class=\"ProveItLink\" href=\"../../../__pv_it/_proof_union_with_superset_is_superset/52ab5a144cfe3e0bf421f4a3824a9886fac89e1d0/expr.ipynb\"><img src=\"data:image/png;base64,iVBORw0KGgoAAAANSUhEUgAAATQAAAAUBAMAAADxdNwuAAAAMFBMVEX///9UVFTMzMx2dna6uroQ\n",
       "EBCqqqqIiIgiIiJmZmYyMjJERETu7u6YmJjc3NwAAAC+aOQFAAAAAXRSTlMAQObYZgAABAhJREFU\n",
       "SMetVk1oHFUc/2VmuplNZtcPYjG2xE08KL0kNUNDMMh60oiSHHISoSmikEvc0kNND6bYUrdiYTUH\n",
       "G6RmERSUNK2XNLBpdiJqExNxI8VDS0sKPYSIJNpahDbd/v/vzczO249mBB+8eR//N7/3e/+v94B4\n",
       "AaLWLMPhBUe+RNjysC0Z+MpxYAmyUtlTviYy1hlL1q1W/lxDYCPLzbUQ1JZqzA91dlwWwDYwBVmp\n",
       "nOOPJbqO+F6ElYeVdf9aSafTH6CKIEBtHzeTIahNVZ9uLGBpUwDbiGUgKpXYOSbUIPpi1yjNXwG6\n",
       "5F/rL/oAqiBI7Q+21fntmblbVpRxEmUFsA2TlGdKy/w0wa0p+kf582sCeBn4seKcqiBIrYFOpw9u\n",
       "T81UnCE2k/5IdKy/ASMlgG2s0XdNLiiMJlVqfeSqbaTHpNBUYENFoFCL9Swvr4Wwp7JGu+C4PWOL\n",
       "RgkBbGOEJkbktPNuoUxrtxLc6EL5ZgBLESjUcDeXOxaCGm956eDNQyke/Owxg1V83gO2yaEhKvAD\n",
       "2lMqtfpisQXC+FRuBICDAv1bUTIutceBuTIa/ljr3PcbvDiC1RH70BTQLaW1o8W/ViWwjRM0PiFm\n",
       "k9jIqNTwyxP/0IEiRyuiPShQtdZbEbix216vF5FNt0tb6o5+zxAuFwgba2X/mxLYxgCNB8SRmsef\n",
       "Pl9GDZggD9M2yw2qCFRqJuq9ZGq9Nc7dxS1E2VeBj0ssBjhLNcqR9gar3Y/+OxI4QM0AdmQVajp7\n",
       "lc9AT/kMVIFKTS/4Z7g6vMxNz0k0csYC7gODJWrAIxIykGw6iLFPzTco/WT2e3lNGGWeajvZzZAq\n",
       "/NoHUASurz3qUotnW6nT9enBhCGDREvlPGpf2T6E2LI9IQf9vjkJRbsngUthECdqDayFKGeECMO+\n",
       "TXXMDwPMN3mBVCZQtIa5JgoT5ykzKXM36nDao7a4fwClMIg4o7SQB5/59x+RjHZ4YdBNM91uomm8\n",
       "z8z5in6Vfzmdgc7K4MVcnplxL6pygUJtiE6s4SwRkXO/Y9SjhviT3krasm8wjz9l/vXMHD0J7HWB\n",
       "bbxCPapLxUlE8v+ystan2w7M8sLMS5/s5LYhUcagpsD2HYgO+Vwul0vB+qYz70hq35OHeitpy/nD\n",
       "l87IiLF2veZSM5ofG3SBlYvKK8+Ov6+MF2rlzQVUoRZjhWubGllS7OZgI1EnDPsO0Fr9ojJecC+q\n",
       "ALByvdcqXaEFnptv6FkdutDp66THgrEbOIPPYc1ud72XgG2Zq+cets5NoXo6XXoUBQVVqM1f7uoB\n",
       "ptmMdxHPn0Lrd7kkvhjrdiqviFo72spTssYTajW0wFZG9exr//Up6QPb2P4Bfj284L3/5wHOwEeO\n",
       "PwDpKzA0Tv+oZgAAAABJRU5ErkJggg==\n",
       "\" style=\"display:inline;vertical-align:middle;\" /></a></span><br>"
      ],
      "text/plain": [
       "subset_eq_def_inst_02: |- ((A union S) subseteq S) = [forall_{x in A union S} (x in S)]"
      ]
     },
     "execution_count": 16,
     "metadata": {},
     "output_type": "execute_result"
    }
   ],
   "source": [
    "subset_eq_def_inst_02 = subset_eq_def.instantiate({A:Union(A, S), B:S})"
   ]
  },
  {
   "cell_type": "code",
   "execution_count": 17,
   "metadata": {},
   "outputs": [
    {
     "data": {
      "text/html": [
       "<strong id=\"subset_eq_def_inst_03\">subset_eq_def_inst_03:</strong> <span style=\"font-size:20px;\"> <a class=\"ProveItLink\" href=\"../../../__pv_it/_proof_union_with_superset_is_superset/207987960c5132563af0dae4d110c25570063bdf0/proof.ipynb\" style=\"text-decoration: none\">&nbsp;&#x22A2;&nbsp;&nbsp;</a><a class=\"ProveItLink\" href=\"../../../__pv_it/_proof_union_with_superset_is_superset/31a1713c6b2bad9efe75b0fa34698268d9a0b1ae0/expr.ipynb\"><img src=\"data:image/png;base64,iVBORw0KGgoAAAANSUhEUgAAAVIAAAAUBAMAAAAtjagZAAAAMFBMVEX///9UVFTMzMx2dna6uroQ\n",
       "EBCqqqqIiIgiIiJmZmYyMjJERETu7u6YmJjc3NwAAAC+aOQFAAAAAXRSTlMAQObYZgAAA5xJREFU\n",
       "SMetV01IFVEUPr43je9n3tOiRRHJqxYutbwIFoXQpkLIhSsJfG0iaWO4KO3HR1g9K+KFi5IwRKpF\n",
       "hLlS4ZmOLZJUSquN0uIJEWIFFlFUmt177p15M/e90ZnowJn7M2fOd+495557BiA6DfnpMziTmuEs\n",
       "UWsvrEUOUG6A5toBJtlEY0X5W0lG68fG1yN/jLIltFOSo5eE2DPitPbJvLPugAhAH23C0zC5hG9n\n",
       "ksnkJeyF+JaFcF7Dvg6m7ATtTeRa6o+zT3QHS/vyzroDIhBJ0aaLbgQuafGAqWCWN3PLqAb7KMJl\n",
       "/U2ALFkaZfvz0cFQhMold0AEAnRF2lcApUla9U3umsY/rAngIAGmrFYLyJKl8Jg+Kx0sDdgCOzKU\n",
       "vOYBiMACnVRWaJjEaCcYz0Z/gusr/GZXYMjeB86SpW+mpl4mHCxdsA58g7onIAItzPzVPWLVWU2F\n",
       "3FU16oq0VCFbJViytCidHip3sJRBjZ9+34zem9C9ARF4ykZtq1/QM/NZtWE8wFq174ddgSE7Jxj8\n",
       "j5BS3NKCGIRtTvZVVL4WXQqllUeuBjAKSzwCEbiCcjMNx6Q0EsBAUCD6U1IgZE8KlvZUSUkp4TCo\n",
       "S6JLofy6f1nBlfR7BCJQx+WD3yXvb6hmzx1dt35LCoRsmWDJUipzwRg9r+oGuJE1qo4lobDInvXM\n",
       "ER6AuKU0sDS01JJ3uAL6qLcrMGSdLN1vwEBk4BONRXqi41lLAYo4RLTfIxB6Xyuma8RsBg/t3lcp\n",
       "XzbTnNZjkT0k2IjTYmHpoo/2/C2lm6jfGT0gpkoMtLIYH9R6BMITpdKvgvzAjm3WrYH+gfIT9ANb\n",
       "uJqyyJonStrT8DwVPV/Q087TN7xoqIPsiVL1NihEiNvgDYiwBBDsANgtvts1JG5Tf0qkulF2ADRW\n",
       "ehzRLbKdgmVL1Tu0jYWmQRM3UnSL8ZZCHY2PioIkYMSESyDCNjaobN0Yl0GVBGijv3Q4tdqB1+zA\n",
       "zuPDYJHtFSxbCphsijLgu55OD8IzgFfGWwo1dma8m9cv2rYaT0BEuuJAvk1NKu26aCuAEpxzLX2H\n",
       "0QgxwMg9QY91/ttU2We7TdcDIk5lg1k4OJBDhSIcvrSXHl28Yu6CNuyuQlkHiKoesU4nk2bVF86s\n",
       "pcCh6hP7sP1gsw5h5rx7nVXZGnAkryp3QMSpvDULXAcayQtMbKNzNE7dV9LrABH4t7+TSIazRGf/\n",
       "+9+JAdTa/hd1I1GEj64VyQAAAABJRU5ErkJggg==\n",
       "\" style=\"display:inline;vertical-align:middle;\" /></a></span><br>"
      ],
      "text/plain": [
       "subset_eq_def_inst_03: |- (S subseteq (A union S)) = [forall_{x in S} (x in (A union S))]"
      ]
     },
     "execution_count": 17,
     "metadata": {},
     "output_type": "execute_result"
    }
   ],
   "source": [
    "subset_eq_def_inst_03 = subset_eq_def.instantiate({A:S, B:Union(A, S)})"
   ]
  },
  {
   "cell_type": "code",
   "execution_count": 18,
   "metadata": {},
   "outputs": [
    {
     "data": {
      "text/html": [
       "<span style=\"font-size:20px;\"> <a class=\"ProveItLink\" href=\"../../../unification/_theory_nbs_/axioms.ipynb#union_def\" style=\"text-decoration: none\">&nbsp;&#x22A2;&nbsp;&nbsp;</a><a class=\"ProveItLink\" href=\"../../../unification/__pv_it/axioms/39721993b1dfda56d214e08718cb566208f76ad10/expr.ipynb\"><img src=\"data:image/png;base64,iVBORw0KGgoAAAANSUhEUgAAAfIAAAAyBAMAAABVIETjAAAAMFBMVEX///8QEBCIiIhmZma6urrM\n",
       "zMxUVFQiIiJERETc3Nzu7u6qqqp2dnaYmJgyMjIAAAAcRTyBAAAAAXRSTlMAQObYZgAACEJJREFU\n",
       "aN7NWmtoHFUUPtnd2cfMbpoftb6wLAlELWIWU1swiquiovjY+MMHogmtRSuiWwvGR5X1ReOLrCC2\n",
       "Kpq1lapVYiSIRgpdW39IFLpUxYpoF6qgBe22TTVJrfHOfczc1+zOGhz2wpmZPXv3znz3njn3nPMt\n",
       "gK/WNj9fhgW0z6E1mjlIznvmD/v8RdvkK6UF3DBZbhHkcB05vfvKh36R5xZ0v25F87q2X6KyUGST\n",
       "VLxaqkov+gNBbnUoVlfQdnyHnG5vbnij6l5Hi0Q82/OBIn8zK2va9Q/3GzkdchT4FTPVjoK+vcZN\n",
       "aZVIw2cJBvmTiuZrvSlmyOmQ41Mwhna1p6D/aY77ZheVRvYXCHJrTlE9JADeOPQYvogRS3jvYsci\n",
       "8litDsnrzYlZfk2peLYNASKPZRRPludf0yfYEm8ip0pPthnkqdA0/x5liXi2ncXgkO9XXuoQmguz\n",
       "c+2l2CzHHNvuwsdIaWelGeRXWyf4DTRDpNE6BIL8QUUTR9Deh+/S2MjXOuoX8PEtGEgjSyj4RG5m\n",
       "jSPStoW3ruQfuCmTkJoLDLkxrc77OMAU7CldZX9wN7hH8DELoxkwevM+kUcgcZR3Knki3mHckcCQ\n",
       "hzvU4bL2xjRMJmapvTT4cjH+vLr3PjQZEb/Ib+xdMcPPc42Id/sjMORtg1rkAGTyE+6aLyZrCG3V\n",
       "JpCjoZY2hbynGBTygYrW2sE4Rj50iNaOvop1MOR43x7z2M+x3kKyDgUI33ZmOtcA+R3+LX3P1Wkf\n",
       "rQSFvKeo9XCfhmqwzP5wnuDhEuMkKCPIl9uHCXVMV/8aifm+OQOWlLp5D9fABoNA/rgmd8tA5Hi8\n",
       "RhIUbAC47aZ7enyWIR9D940ctP3SP+jwQZVeuHocGYwUE1vyMA0X2l6lTMS7xfMEOZ6eH30g99dR\n",
       "005RVQiWuWpZFxnNvOtqqr4S5SzzB8Ea+StDkSd+/ejWu/B+/4A9R4P0wtGbI/+U4JP59RBNGx34\n",
       "bWnPEamTMtcI8i/t00EfyP111OwiRzVKIXqNfCFGr2xysMPqOk+b3Mj6tlyokKghxG8DkTqJ6jGC\n",
       "fLPoXr2R++uoecYjGmXdjMXZl5too2jVU4Vy44yFPVA/tCObSY77QO6voyZfOa571/RZ6jNuZL/y\n",
       "z3Qzd7kCJb6Je0qNs1RmhP2Qmtq+fZMfD+evo5dxNVWZWECzpzRerN/nT+rbZ4aHN/jy7b46qi00\n",
       "q9P+X9Wo76nUazMU+RreyAQfKCGXO+p/paiTc9BibSlFfpnXexGWkEsdU9N645bV4ZZDfjJFHoOQ\n",
       "ZGM3XZgNLVGRSx23ntAOq6ijtVZDvo4iT1b4jMDc0VuxClNwgYpc7AhT67XDKurWRZ6o3shp901u\n",
       "B2tvGMrJ3pW9fQJy0nHX+d04QjLSw9rNUlG3nrUPsbj9mTvQ23nRDV0hBClixxLWrbeky+qa446h\n",
       "0r0xnGJGYSU6lORRsVr0cLOyT3+90aNN+sXgZy+wikRUDwcTKFpKXVJpuzs0SAq5Vm7qWx1yu6MB\n",
       "vxPND9ADxmcKclst7WrHpH3c9AwEGcMQLfpE7rn/8+TDWqHihdoShnwRCpZePRMWZVGKs5UgT9o1\n",
       "PAX5IhxVkSU0D3w1UoKYjJyovZ29zTC0e+JiDAPZQwx8rSYfOffL37xG4smHMTnFP8qQp+xHXYUu\n",
       "Ubp40/DwcNrKJSp5DXLc0ajhm4ZLMJpTkWN1qu/H83c4T2xNS/H6157RnsMw4MA7iu+pxrB2/QH2\n",
       "ynG+2HjyIZkm4qzO30J+fhKcBaMGek3xmsPlaTatUn4+mqwmYXMJrkUmUMHIN5cSz7IDUVvnwumW\n",
       "kyIbJ6QcTcjTYN/QELNMl2HAVIFh56TK3AJgh/ywnNsJIwnkg9lBRM5YqKuooVXfl4QknucspMoe\n",
       "lYlt3+yagv7x+AwkRh7Fz9U/bpwK/UX7wNRrzHw4KxoXvU1eYhng5mXutcswEKrAtuXLNJaM8GJP\n",
       "DJu8RhLJh5+pCCkUQx4ZRPd5eQrgObtAgLoN1q3JsJQNr8i4os5bmZjlaB/jvF1GYhlMLuHnGAZC\n",
       "FUzoQ2Qrw5ISm5nY0v3SOWlpJIl82E1F2GyUalQIvecNq1FskzB6+vgdg12Zg6Fs9Gyn98Vi/U1g\n",
       "GXgvzjEMpJAWY3yDWni9mdXtzHLq/lhVGkkiH36iIoRW/60Ol9J/SOl/u78k1FwFliHO9eMYBlKW\n",
       "CKUhmtUM2AlwB6vVJkvJuUhRGkkiHz6mwrAUAqs6u6+DXWfnWQbotwvDxC/xDAMpmJt5XcHZLjbR\n",
       "1GmxzaHHC/JIMvkwQIU56XRQyDmmgSFnLAMucTkL5TIMlCroI8U/JYkcp7UhzEyQKIMfSSYfJOTB\n",
       "MQ3hmmLtDsvQJnhNh2Gg5cc3QFuMS1Rp6oSZiYGcPJJMPlxJhbaNEBTyyLTi4RyWIey4U4FhoFRB\n",
       "/DZ9Le7pvcA8nFXqQbmEMJJCPkgeLjhGEdy8lZLbLstA6VOQGAZKFRh3YueIyQWHarDf44ed7er6\n",
       "8RGaAT3CBw0C+cCE7l7Bscicc6ekl8sywLanyJciw8CoggPk9AA7xIjLaKdRKzLhbZ1bLqoII6nk\n",
       "wy9UBLcTCPK2cp3o9ZqNQ0IxDCNnVMGrHskpnUoxepVHYuQD2iKw0Bbkv0W4fwjVzVhI5zw0ogrc\n",
       "AKLev0Ic8kHKWKgdBfOvsAP+y+GYYWhAFTQs/5LGyAcxS7VOCxL5izl/lQl+fhZWmZCnx52iYP8J\n",
       "yHFkvqpR3/sd2E81KlUkQttqCBI5rGiZ6mOq0Czyhf3LO5puFeTN/8t7gf/sX94iwM27yXnP/OF/\n",
       "Af8+kJiV/IheAAAAAElFTkSuQmCC\n",
       "\" style=\"display:inline;vertical-align:middle;\" /></a></span>"
      ],
      "text/plain": [
       "|- forall_{m in NaturalPos} [forall_{x, A_{1}, ..A_{_a}.., A_{m}} ((x in (A_{1} union ..A_{_a}.. union A_{m})) =  \\\\ ((x in A_{1}) or ..(x in A_{i}).. or (x in A_{m})))]"
      ]
     },
     "execution_count": 18,
     "metadata": {},
     "output_type": "execute_result"
    }
   ],
   "source": [
    "union_def"
   ]
  },
  {
   "cell_type": "code",
   "execution_count": 19,
   "metadata": {},
   "outputs": [
    {
     "data": {
      "text/html": [
       "<strong id=\"union_def_spec\">union_def_spec:</strong> <span style=\"font-size:20px;\"> <a class=\"ProveItLink\" href=\"../../../__pv_it/_proof_union_with_superset_is_superset/eb6e70de1370054793b3e0daba2f27d4d98753bd0/proof.ipynb\" style=\"text-decoration: none\">&nbsp;&#x22A2;&nbsp;&nbsp;</a><a class=\"ProveItLink\" href=\"../../../__pv_it/_proof_union_with_superset_is_superset/3beda7c48ec4fdc520fc0248f881a915c30964210/expr.ipynb\"><img src=\"data:image/png;base64,iVBORw0KGgoAAAANSUhEUgAAAUEAAAAUBAMAAADhFJLyAAAAMFBMVEX////MzMxUVFR2dna6uroQ\n",
       "EBCqqqqIiIgiIiJmZmYyMjJERETu7u6YmJjc3NwAAACgK8IjAAAAAXRSTlMAQObYZgAAA3BJREFU\n",
       "SMedV01IVFEUPjav+X0zaZsWLbSoIAKZciHRZmhThKALVxI0BEEShNRC3ORssgyJQRflIhqhVQuz\n",
       "TbVIfQihOIQSgeRCZhEhQWD/ZNp0zrn33fHO3PtED3z33XnvO9+ce+85990HkFoEk30Bu4VLAtVG\n",
       "UhY5YddNHkFkdigaH7sTfKkrVD/obkm/h2bsNNc6Fa1yUmpPyeBhmoKRlmSGyOwwbuTEhVZ8jcPl\n",
       "vkdNYhGKazCPvflap3GrnJRyecD1HLDyMNgkuNNMJiTzRs4HcVneYHHus/ooehQg1AMM3UjKIudL\n",
       "tVLvEDVLvofBYnh7WZARUW3ik6/u3uPOfbHW3f/oEuUfObrxFcDpAbcDGLqRlEXOl3pD3f3UDPke\n",
       "BvYCzvI5QUasarny0pMZnBM+kR96hM4mktD/CQhotgo2OSUVz8gMcvJgZ7dj/TQIMqIP78ze+HiT\n",
       "12ze50TE9LeFN6vmsHyS+6clNOuTqJVTUiHSDWOTKIGdvfCdU5XIiEn823TyTpSzTNVngncBN1P3\n",
       "W48Q+svfSHtZAkJP2fIiv8Eip6SSBal0UFaEkR0pl5slGTGA/+KFNhwe04RKqSy1DqT+VEXovrt0\n",
       "ES9XJTQbEDDIKakwi/QCHPE9jOy3R396gozopM0kIXe/LpoP6u3NcEqPDv+tihAL7Rc2jRKadQoY\n",
       "5JRUHe9ec3LbsbIBHmcFGUGysE/sHCk1DBEhNl16hGmU3C5Cg5ySEhHGsqGs8qhlhygVKxHS0kBj\n",
       "vXjWoa1yGHFb7Ye8gTahD+1r5yX8PGzassoGOSXl8EKkCtFKXtSyZ+imJ8gITNaw1w8RLqQHWqV8\n",
       "QjzjMWdkBYZRJZbeWin6mwAsckpKVAo8X1IeBvYVxEilUnDPaM9Oy4OCKBBZ6LwnTlMSu2PYXECZ\n",
       "2CDAKZACI9URyi3IIKekeHiYlUPKw8B+mIcQLQqREbhWM72zj8QZwz3RJksvh2/GdQ+ulQfp5+cX\n",
       "DZdfk49z/DDrjEloJpe+Vq4iFRcrGs8rD8Of588OH2NWPUN/8ThntLeesgOjt7STT05gu7eekvNt\n",
       "Ts6pV/Gws+cEgk8OFtvNyYGttdYjmEyYMj5NlIJ8LaevKaucP/cFg0cQmR0CT7AWs4QSeII1jru4\n",
       "DZkddvEVkCwJ7PgrYGUnXwErAv8BvYFFCushwj0AAAAASUVORK5CYII=\n",
       "\" style=\"display:inline;vertical-align:middle;\" /></a></span><br>"
      ],
      "text/plain": [
       "union_def_spec: |- (x in (A union S)) = ((x in A) or (x in S))"
      ]
     },
     "execution_count": 19,
     "metadata": {},
     "output_type": "execute_result"
    }
   ],
   "source": [
    "# union_def_spec = union_def.instantiate({m:two, x:x, AA:[A, S]})\n",
    "union_def_spec = union_def.instantiate({m:two, x:x, A:[A, S]})"
   ]
  },
  {
   "cell_type": "code",
   "execution_count": 20,
   "metadata": {},
   "outputs": [],
   "source": [
    "# %qed"
   ]
  },
  {
   "cell_type": "code",
   "execution_count": null,
   "metadata": {},
   "outputs": [],
   "source": []
  }
 ],
 "metadata": {
  "kernelspec": {
   "display_name": "Python 3",
   "language": "python",
   "name": "python3"
  }
 },
 "nbformat": 4,
 "nbformat_minor": 0
}