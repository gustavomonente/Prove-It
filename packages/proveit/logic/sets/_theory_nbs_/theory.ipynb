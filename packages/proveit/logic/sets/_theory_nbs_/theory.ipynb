{
 "cells": [
  {
   "cell_type": "markdown",
   "metadata": {},
   "source": [
    "Theory of <a class=\"ProveItLink\" href=\"../../../_theory_nbs_/theory.ipynb\">proveit</a>.<a class=\"ProveItLink\" href=\"../../_theory_nbs_/theory.ipynb\">logic</a>.sets\n",
    "========\n",
    "\n",
    "Basic set theory theory dealing with membership (e.g., $x \\in S$), enumeration (e.g., $\\{e_1, e_2, e_3\\}$), containment (e.g., $A \\subseteq B$), unification (e.g., $A \\cup B \\cup C$), intersection (e.g., $A \\cap B \\cap C$), subtraction (e.g., $A - B$), comprehension (e.g., $\\{f(x)~|~Q(x)\\}_{x \\in S}$), and cardinatly (e.g., $|S|$)."
   ]
  },
  {
   "cell_type": "code",
   "execution_count": 1,
   "metadata": {},
   "outputs": [
    {
     "data": {
      "text/html": [
       "<h3>Local content of this theory</h3>"
      ],
      "text/plain": [
       "<IPython.core.display.HTML object>"
      ]
     },
     "metadata": {},
     "output_type": "display_data"
    },
    {
     "data": {
      "text/html": [
       "<table><tr>\n",
       "<th><a class=\"ProveItLink\" href=\"common.ipynb\">common expressions</a></th>\n",
       "<th><a class=\"ProveItLink\" href=\"axioms.ipynb\">axioms</a></th>\n",
       "<th><a class=\"ProveItLink\" href=\"theorems.ipynb\">theorems</a></th>\n",
       "<th><a class=\"ProveItLink\" href=\"demonstrations.ipynb\">demonstrations</a></th>\n",
       "</tr></table>\n",
       "<h3>Sub-theories</h3>\n",
       "<table>\n",
       "<tr><th><a class=\"ProveItLink\" href=\"../membership/_theory_nbs_/theory.ipynb\">membership</a></th><td>Is an element a member of a set?  Not a member of a set?</td></tr>\n",
       "<tr><th><a class=\"ProveItLink\" href=\"../equivalence/_theory_nbs_/theory.ipynb\">equivalence</a></th><td>Do sets have the same elements?</td></tr>\n",
       "<tr><th><a class=\"ProveItLink\" href=\"../enumeration/_theory_nbs_/theory.ipynb\">enumeration</a></th><td>Define a set by enumerating its contents.</td></tr>\n",
       "<tr><th><a class=\"ProveItLink\" href=\"../inclusion/_theory_nbs_/theory.ipynb\">inclusion</a></th><td>Is one set included in another (as a subset)?</td></tr>\n",
       "<tr><th><a class=\"ProveItLink\" href=\"../unification/_theory_nbs_/theory.ipynb\">unification</a></th><td>Define a set as the union of sets.</td></tr>\n",
       "<tr><th><a class=\"ProveItLink\" href=\"../intersection/_theory_nbs_/theory.ipynb\">intersection</a></th><td>Define a set as the intersection of sets.</td></tr>\n",
       "<tr><th><a class=\"ProveItLink\" href=\"../subtraction/_theory_nbs_/theory.ipynb\">subtraction</a></th><td>Define a set by removing elements from an original set.</td></tr>\n",
       "<tr><th><a class=\"ProveItLink\" href=\"../comprehension/_theory_nbs_/theory.ipynb\">comprehension</a></th><td>Define a set according to the properties of its members.</td></tr>\n",
       "<tr><th><a class=\"ProveItLink\" href=\"../power_set/_theory_nbs_/theory.ipynb\">power_set</a></th><td>Define a set as the power set of another set.</td></tr>\n",
       "<tr><th><a class=\"ProveItLink\" href=\"../disjointness/_theory_nbs_/theory.ipynb\">disjointness</a></th><td>Are there common elements between sets?  Also defines \"distinct\".</td></tr>\n",
       "<tr><th><a class=\"ProveItLink\" href=\"../cardinality/_theory_nbs_/theory.ipynb\">cardinality</a></th><td>How large is a set?</td></tr>\n",
       "</table>\n"
      ],
      "text/plain": [
       "<IPython.core.display.HTML object>"
      ]
     },
     "metadata": {},
     "output_type": "display_data"
    },
    {
     "data": {
      "text/html": [
       "<h3>All axioms contained within this theory</h3>"
      ],
      "text/plain": [
       "<IPython.core.display.HTML object>"
      ]
     },
     "metadata": {},
     "output_type": "display_data"
    },
    {
     "data": {
      "text/html": [
       "This theory contains no axioms directly."
      ],
      "text/plain": [
       "<IPython.core.display.HTML object>"
      ]
     },
     "metadata": {},
     "output_type": "display_data"
    },
    {
     "data": {
      "text/html": [
       "<h4>proveit.logic.sets.membership</h4>"
      ],
      "text/plain": [
       "<IPython.core.display.HTML object>"
      ]
     },
     "metadata": {},
     "output_type": "display_data"
    },
    {
     "data": {
      "text/html": [
       "<dt><a class=\"ProveItLink\" href=\"../membership/_theory_nbs_/axioms.ipynb#not_in_set_def\">proveit.logic.sets.membership.not_in_set_def</a></dt><dd><a class=\"ProveItLink\" href=\"../membership/__pv_it/axioms/5ba5c5d56055da711dab842b48d1f2f9ee4c55ce0/expr.ipynb\"><img src=\"data:image/png;base64,iVBORw0KGgoAAAANSUhEUgAAAQIAAAAWCAMAAAAcoWJbAAAAQlBMVEX///9jY2MJCQkNDQ0rKysP\n",
       "Dw8WFhYQEBCIiIhmZma6urrMzMxUVFQiIiJERETc3Nzu7u6qqqp2dnaYmJgyMjIAAADRR/RZAAAA\n",
       "AXRSTlMAQObYZgAAAt5JREFUWMPlWO2y1CAMRa9aoHwEKO//qlLa0gZIy65endH82DO7sBwIyYHA\n",
       "2CfazP5dswEjYZr43dnXaMYbHuwgxriU9jA8LhiMVBCoagLCe8+CZEzZV2jGG6iVN8QIvTs6LjA6\n",
       "5GIxEiYk+mpCnn1cP5dXaMYb+tYhRmgPj9ph1waBcSwPxNY7ZHLPx2nGG4id6BEjPDb/DIcn0xZj\n",
       "d5pG//iuL5sNcRNHmblhGqcZb9h4k12DrE+MMHhYzephLdQYeypgODCDZirjJjXzNqFFjtKMN+y8\n",
       "lRHECKNZTftRF3CBEThXVvJLbMMaWVW+Q4z+ckh6MUpDNhC8jXb2iRGq3MF0o2tOUurC3KrLiZB8\n",
       "FzRnl+jLOsurdOcxWTkKwtnbLxcTDU1f3Wje1mVdYoRSkBqdm1ysUtEh9MnzPgKTJ7/pHjAQ1BSn\n",
       "/Vf3mHf78EIX80O8nTjoEWNcP3jX5xo6I08S4drFoC7zlLbz28e6qY06x91/c3xywVSrhVUjvJux\n",
       "R2KMPlAXuZg97G5dkPuhoM/Ha3XA+CMxf5sLCN7aKGKMdikXOc/FzFXJ/WXykorQguswWC2m5lIA\n",
       "6ui5x6PUfS1QDU3jgnveOgko4gqNVdtK05GiFqbLskGkJJJ9OTrQQRKc7b8l6vimIpcr6j474Vs5\n",
       "vFe91gW3vM3dmCKu0AldSrsl1MR1juBjRaYIW++eqHLRTuH9ETp39mWTxeMZ3B6b8wBvowEUcY2X\n",
       "nIqnwMK8ZVF9TKAQAsU5cIFrLFBfJToQBJNKKHXOcHkspKW+bSB4DealiWsMcKbXWeY716v3hi7I\n",
       "4Ys31UUVp+jAXfStC7K85y3ENZagj0mbsohak5wiTK6w4I0yyTzUcn+yTOoS13jGUZCer3eOeUoR\n",
       "IGyqswXQCyQX+lTQjxXL5PDGvuuBbrFMPjP8ypMJD28u7nOeTOjNu5vI/dvW08PZwxTD33o4O4hr\n",
       "7Hdm/439BJP2M3paqy+JAAAAAElFTkSuQmCC\n",
       "\" style=\"display:inline;vertical-align:middle;\" /></a></dd>"
      ],
      "text/plain": [
       "<IPython.core.display.HTML object>"
      ]
     },
     "metadata": {},
     "output_type": "display_data"
    },
    {
     "data": {
      "text/html": [
       "<h4>proveit.logic.sets.equivalence</h4>"
      ],
      "text/plain": [
       "<IPython.core.display.HTML object>"
      ]
     },
     "metadata": {},
     "output_type": "display_data"
    },
    {
     "data": {
      "text/html": [
       "<dt><a class=\"ProveItLink\" href=\"../equivalence/_theory_nbs_/axioms.ipynb#set_equiv_def\">proveit.logic.sets.equivalence.set_equiv_def</a></dt><dd><a class=\"ProveItLink\" href=\"../equivalence/__pv_it/axioms/51cbac677b181b50a1c78ce62baa887012870ac30/expr.ipynb\"><img src=\"data:image/png;base64,iVBORw0KGgoAAAANSUhEUgAAAY4AAAAVBAMAAACj/BR7AAAAMFBMVEX///8QEBCIiIhmZma6urrM\n",
       "zMxUVFQiIiJERETc3Nzu7u6qqqp2dnaYmJgyMjIAAAAcRTyBAAAAAXRSTlMAQObYZgAABNlJREFU\n",
       "WMPVV11oHFUUPu7vzOxOkgfRglKGBrSEtlkM1BfFVR/UUsnqQ/Wti7WQCLGrDQatllYK2a3K7oPU\n",
       "gmgnFaoGiYE++PMU2wEl1XSpoFZtXakVFEmXxIaYUuO559zZ3dl7d7vtmwfOnNmZu9/c7/zNGYB2\n",
       "8o7UdvKZciU0n7kBKBUHzHKb9YkS6/lRMhVx7Zx+qbWPFSVa4UtzO/EQodPvVndszqchVmr+WzLd\n",
       "JYxd1kNpRKCrOPCBdrG9a2lg6ADAMLB6ZE6JW3/q4btKrOK0ymbkC9xdjG+vAQhfBqui8khOi7Wu\n",
       "Hkr3IERXceAP/eqb0B/3ZWAKT6eYB5rDIn4tHPWtVJTzK2TOgPUXwCF24lWMzCLACZUHAR5uAaUR\n",
       "Qldw7JR+9XZ05WAKkg6QemSE18h9GnlRKjrr+D9kswBGwbzIZYCX7AWACZUHBfiUHsqXH8bG/Agw\n",
       "uoITD8TPHh/by2f9eP0XB6weIPXI2LOTk2/paZg5VgES+pus8NDpVaZtIMbES5gUaZXHz5OTH+b0\n",
       "UFKe7GvYIqErOIFtRV+tpel+3Pit+Os3IPXYLOfzL+t5hFKsKFsSV+slK7tRdxaiL4hoplQe3fn8\n",
       "+IwGylo3/ADlj9VYkoyu4PSiHr3jzQ2O+DFVr7YlgCeeQXuS1WODDahAt/n48OLJIRlPo8yKT01H\n",
       "F9Q0HTkzLiJjU3rMzQu5IHnEMmA0ZoUP9RF871B2NHYniU44SYKZJ0pv4K0Z+/k44Q/XI7N0bv0e\n",
       "qipWj82DslPYnDl2DyR7ZH5Os4pGay5C025Fmlq3iEaeU+MRSVErqae6hJqF0+4jRKzhpkRXcHCz\n",
       "STe5EiHK9VYk6nICCxU+YfXYxCFEPn+PMyechcSK7G9pVoBtA5uXlXjsF1xwb9GqygNysDHQKiWU\n",
       "C3m+8Jjwh6xzia7g3IzxAEO+v9aKP9TqMnRFJASrxyZZjtPt2d3sOQfClWYeeFir8FgSPJwWPL6B\n",
       "nI4HgMzPxqYs0XU8sAodbhT1eGBdQmhB4WFWthFhhz31cQY2uU15lUB9TnkHi/jtwj1EcvWM+93n\n",
       "8W4Un5bsfXxnE1T0siTWMGBIdMKR9ZGVeYU7lF2lJ/D6iIkieIjVk6eFp6nw4G5aNbhxfbapOOFt\n",
       "1EvQtFuRptHlWp03xcM4hIe+WGU0CPV5qArUcMNObbmPruBgnSfcfgiRW++qXRavj+37lDqH4+TP\n",
       "n6Cfdwpwp7+fFCs1/mLzUNGFHrr/oNjSjIZHQngl01UOQkWuGFU5/O1pfLUQuoKDzXRwuiiny3jt\n",
       "Xf0rhm6N4HYPqydPKQOtC18XiffrAEfkX0SgUa3ivy58uro7+JDYJZzWXiNCGQ0ProNun7wP9VRf\n",
       "r5xJjx3g7K2jKziYLMfWHb2XeVtDW/jqs2I8pR1eZPXkqS0Awy4cIRxsBIOllsOETt4HHY8fKZUh\n",
       "0xJq6/hYpT1OcC6JfOXPJf5rJ8fqsWF5FJ1XNg+CuQLm7Z0Nd76c0PIQGVOdg5nOoTqeE/3HBOZE\n",
       "WYfLYBZfid4GXy4ODNXmHPFKNkrXoKGb2+Wdka0b3I6hNHN7oe2Dg3N78Bur5XdUazFKrXhcH5TR\n",
       "6XdUI8sC8yhc49uyk+/as+p8ufdGvmvPXud3rV1i3TRKJiBl+L/KfzsFnGr1z7ZrAAAAAElFTkSu\n",
       "QmCC\n",
       "\" style=\"display:inline;vertical-align:middle;\" /></a></dd>"
      ],
      "text/plain": [
       "<IPython.core.display.HTML object>"
      ]
     },
     "metadata": {},
     "output_type": "display_data"
    },
    {
     "data": {
      "text/html": [
       "<dt><a class=\"ProveItLink\" href=\"../equivalence/_theory_nbs_/axioms.ipynb#set_not_equiv_def\">proveit.logic.sets.equivalence.set_not_equiv_def</a></dt><dd><a class=\"ProveItLink\" href=\"../equivalence/__pv_it/axioms/9fbba3aef70e62e8b026689ec2d661fa9b201a500/expr.ipynb\"><img src=\"data:image/png;base64,iVBORw0KGgoAAAANSUhEUgAAARkAAAAVBAMAAACAi4frAAAAMFBMVEX///8QEBCIiIhmZma6urrM\n",
       "zMxUVFQiIiJERETc3Nzu7u6qqqp2dnaYmJgyMjIAAAAcRTyBAAAAAXRSTlMAQObYZgAAA8ZJREFU\n",
       "SMfFVk1IVFEUPs74Znwz89SFlGDFQIvalAOCbQIngpRAnJW1agYqsKBUDIfSSCFwtGRmZxDlSEVi\n",
       "UEGLapXkQuiPoSCIskYqIRcpav6FTeeee+97zzdvJqNFH3zvPu7vd88599wLkA9qijMfvAn7cTqu\n",
       "5R8Pj01Ms4qJHB2HBRFHjFpNFM2LVU0XAU7Yj5PwdFGh0ELgmwrhN0j/bzNHq2NBcOF2JJ+z+ukc\n",
       "ar4JImaM2sOiLMB1akJw136cRDG3XfEsFVMftuI3wpvKAZw/wIM6Ja8ww3bZi9ECnOx3JsmKwgud\n",
       "uJaPN4fRHw0B8Pntxul4w4uPq9Tih7ujoHI1yhpOOA/wFHQW4yq++/Zq3AlOxJ0aKg89PlChBYQj\n",
       "KrHqkx88pXbjdJzl/nqwwgoXMpa4HqI6B1ZpcwBDoFN7NjIykMNRA4KIVCX5+iQKmqw/w+u6cZHN\n",
       "uJkvduP0gG7h5nIssMLJQifzkzcV4TaGzqFBggaXY7HOHGq2C6JBk0/omDCn9GzjQQiLKA3lwZjd\n",
       "OAkH99pB75pedUuUJRFQ2plrAgaPA/RSI//WzY81SUP3CwLchLCMDjUtfpTFiZ0dFBJ0WL4TAqCP\n",
       "EQagXXiCylzWZsOnXvewGNHSBvdTMOP/AjdpKfhkIHQIsiM5KCPTFZS7RrcPsXh8aF0GxzijDKMY\n",
       "QxSThaDOWzWzuPNsYhmrxaAbHCT/BjelMwLeVTFrmSAoR6uauyznm9zuYCEQtqopk2ZErQUkvrGq\n",
       "ejnLNt1MEYpVZg36Um5qe9bGz4MfnGmrmkKclSrHo9GlaLRduh0ccxtTg59tWWoWmRr/ejVqupG2\n",
       "749Rl3sh2J20ego34Bbu00Z1t6NJXcy9tSYfRED3LldDnvIiW61iWLqBZtRZ2GIQeo/xTLCH+jTs\n",
       "2hkBSxSr9/VcCm4pldJNuEtGsRn9JjUUxVdlMjdrZnGnLFuiGB5QRngPlTTDK4AdctYxQZY/ilZ4\n",
       "3Ut9zUncTTnTtteqRj/yIX5sKefErbdrMVp7Xx8L1VGDUMLOrufzizjt+jLAoEzNtZzDmWnwxpfY\n",
       "QRhvxbDhcXOa3XnU86tVTa3pH83vif9KwqNM2/pOrhm8dC+RrJBB0JgKZxIGKV/jIWlIZN8MYD3f\n",
       "pku6ZQM3Qz7cNpGjHm2UUvtAXQV1i82tKVGXPdnGbs08MN2aIncsgxo/r1TA+HxVk7H9Xj1F270V\n",
       "BGxeFOYxRYk/iDG/KNa/43K/tgSS+ZfO/drKDSZXMutR+LcvUe1fX6LvTFyHFPxf/AayoiqRoMJc\n",
       "BAAAAABJRU5ErkJggg==\n",
       "\" style=\"display:inline;vertical-align:middle;\" /></a></dd>"
      ],
      "text/plain": [
       "<IPython.core.display.HTML object>"
      ]
     },
     "metadata": {},
     "output_type": "display_data"
    },
    {
     "data": {
      "text/html": [
       "<h4>proveit.logic.sets.enumeration</h4>"
      ],
      "text/plain": [
       "<IPython.core.display.HTML object>"
      ]
     },
     "metadata": {},
     "output_type": "display_data"
    },
    {
     "data": {
      "text/html": [
       "<dt><a class=\"ProveItLink\" href=\"../enumeration/_theory_nbs_/axioms.ipynb#enum_set_def\">proveit.logic.sets.enumeration.enum_set_def</a></dt><dd><a class=\"ProveItLink\" href=\"../enumeration/__pv_it/axioms/79bb8ca92b7af1b2e5d8b1e86b277c8f104959270/expr.ipynb\"><img src=\"data:image/png;base64,iVBORw0KGgoAAAANSUhEUgAAAeAAAAAyBAMAAAB2exU2AAAAMFBMVEX///8QEBCIiIhmZma6urrM\n",
       "zMxUVFQiIiJERETc3Nzu7u6qqqp2dnaYmJgyMjIAAAAcRTyBAAAAAXRSTlMAQObYZgAAB5RJREFU\n",
       "aN7dWmtsFFUUPrs7s4/Z2dIYX0DUoU2QEE03RPQHUFpMIEaFXUxIf2i6qRCCMWQNaAERKyoUX1n0\n",
       "h1BTOxJSAz4okkYlEheKMcEHG4rRHwibACYSJAsUAwXEO/fe2Z07c3d2dsokqzfpvHr6zf3uPffc\n",
       "c74OgG2758Y1cNcOQg01KUXOh2+cr2A5cWuPu1fIWSdWsVnVYIrTVLeM55PTjq27Kxje5vYNk9nb\n",
       "Xv7An60OVEDdiWbcdCeWpxdJjwhH61lmXfxuFKqEbUY/y1x16C2PCX/UwtzW8adFTlcJ+z36+XxM\n",
       "HfKK8Kvs7TDcPMKyMhaX84hwdJS9X83c/dbZmXdPWKp31aW1nhIOxZnbCEOsbeqYZhhOuerStxkv\n",
       "CZ9g16wf8Zcals05gAPYGcalt02DyAQ7LKPBfu0wNJY58IjwKvY2nAP4FH5V1mk3wdJgBJFnZ1vB\n",
       "X4C28ljEgA6kdjiOx+ocbnHnG9Ooh4TFEdPoDgAcgsPqI5h96fnuBEQGmiHc9cRDZbGIgR7tNYJf\n",
       "uku2LnhIOGCKKz60J6jQTcOGNjM4aLWhWCbBLTBOgXnlO0oMaFuKrtrded05Dwn7UlbCAGSIYUvp\n",
       "eWsCZU+j0J6wIUwN6AxrwC4JN2W8I9yes7o0iJco+9LzIHLVQB4mgR1hbDD8S0NcX8PzDGs45bxT\n",
       "fTnvCDdlrEFrL4o8eD8KKEyUDqdggy1hbHD0LhivR+njMAa384bwK+aMKg7C1XAhQib+RYZwICVc\n",
       "x4Slf4AeduUNF9ggsi0No/o+PNMd4XCaEMbh43cbwvYG3HaneRmmQeqY2khB+l9TDYSljsYrZIY7\n",
       "tccvaCsgpV+sAWoQVIR6nfBplwVrgRD+QTudsSFsb8ANrBfNT9jU8rGNTGqJFikmHLVWu3v1VexL\n",
       "BLIJmlqm3RGOXSKEtaAZ6bIhbG/A3YYvmJ+UKx7QrC2HXS1kb5U5SQdQgz4IPZoYS/Gg9yoJdWhc\n",
       "5QEbwvYG3NLhqmX9ZMrWwy/BeoD3Xu5AOaTVVTRu2GAu+H+i9bC78lD3uyTEDu3c+b5d0LI3KO88\n",
       "DgQAOAswp1HfZHNWIO1QMgDhVnTY5FaE+ZtG6cvd3Wtto7StAa/5r1ge9Zbxheo1rVjGLeHLlPAS\n",
       "u0HTCC+pdlTlUajFdjcl/DBIeeMwrjgIk1JGwiYDB6l0bRK+gxIOgb+4ej4ZmgVfyWpANRI2Gjhq\n",
       "wUJNEn6OEpZzoWKQeLNHhX1KXGZc2mDwvyAcyS/SFPGFjZrzojY4+C5LGBvAgemTtdpmMoQs+cGc\n",
       "FKz5D7h0p55Lb1qMCLfmfBmSRQ7Knz3J5tKagV9dHkIJgjxOTULQRDk7KjIFsMyP0r0Vdm/H4bcX\n",
       "KiNx0PSgBXtQrtZzL4xTJSyYDEJ2iCWsGYjwl3bZMw+miPtZwpHtaT+zz/q5+7BUKVtzqrBXBMJI\n",
       "VrTbdcJYT+iAVhBXdXevR4R7QyxhIjiQaZuJLM1OHcgGmXQvNmJ+lybE11WaQZJC4SxDtO7BpV9W\n",
       "BMJI1oTsok44pmJmM0VIkRkWFrKEsYFYwO9ciR6ZCYdafInhfcdKLjXCy6WHK27feNSWaIcj1kCo\n",
       "cY0p4AQII1lSbumasR6OFGDlIHynXR4FOGath/vkvAxbVHheKGDCW9TIG/iATqHEAviiq+QW4nVe\n",
       "tbS6oqviQKAFSDYGEkxtMshIrwYnSBa9Xi8eaJaagvtyEEY1grCuBYJWwv1HDxyC5ADMnZLH700O\n",
       "iOMhmRHHixNB6HgHzUCbyXmMqzxtFuO57ZTusAJHff0T6C7iAAgjneKWNCbFYwpaw3aKx4CUCefI\n",
       "QBfrpyjsgLdRdnJ/S9FsnTm5jpvEeEMz6Ow4Vkbj/OJqj143lAGSGhXYrK+1IbDq9WTvqE7iiWaC\n",
       "2fkgNs0whv2v4VkhD/3wTSkdmw1WTYsR43/GCtxJvKeVhHgiVqEJ5MnyaMWIXToYB0gW6qFJNz7O\n",
       "kb6CheoJx0A4ljVUbrSqe/xH01+dUK2qJSPGG7zdIMQThb0BYDGvBFMg2KKDcYA+COR15ZsgmfV6\n",
       "X5eHMq1JL9B0aUaMN3iiQYgngvPH/FpFStOdpgyQ6lOgqLS0g1W+7lO8I8wT4hkx3ijwlYR40sXA\n",
       "AF9fmUHUtbJAC1Txkh1hL4X4QIHv0kUxniy9P6hCpwvxRJyO5Pm1yoeQLoLxgJrBX09KAoJklro3\n",
       "gneEhRF+0CqK8cbflYR4GmZeP8LXlZ9SimA8oA0IipQE/KDl5T/TYIVpR4ibxXiDN+hCfFFhX0TS\n",
       "DlaTR5O6VNXBuEAPwoIcLgkokkmv93v571JzmBbSZjHeEIyKQryusNfRtIPR5FE7WQTjAvU3zM7g\n",
       "koAinebGFY8I+7JVpJa6EK8r7BGVb9djAOO2ZloSYCSzXu/tJw/mj1psigeDEK84A+cDBfPSCC0J\n",
       "uMUD9Q+vPls6aQo4mbJifEmId6qw84FCubBCSwJeeRid4C3hzQmnAkBJZ3eqBfOBhIbpxetNVjSv\n",
       "P0yLpquWeGI3TeLRkMxoT4O3hNEmUVMt1uWQsOvPh4NKTRF2/Pmw+w/EH6glvtIz5Hz4xvl/ARx7\n",
       "Q2J1NQsZAAAAAElFTkSuQmCC\n",
       "\" style=\"display:inline;vertical-align:middle;\" /></a></dd>"
      ],
      "text/plain": [
       "<IPython.core.display.HTML object>"
      ]
     },
     "metadata": {},
     "output_type": "display_data"
    },
    {
     "data": {
      "text/html": [
       "<dt><a class=\"ProveItLink\" href=\"../enumeration/_theory_nbs_/axioms.ipynb#empty_set_def\">proveit.logic.sets.enumeration.empty_set_def</a></dt><dd><a class=\"ProveItLink\" href=\"../enumeration/__pv_it/axioms/757f0658d3467d1cdf19ddbca18f587272d75b170/expr.ipynb\"><img src=\"data:image/png;base64,iVBORw0KGgoAAAANSUhEUgAAADoAAAAVBAMAAADlb+D4AAAAMFBMVEX////MzMwQEBDu7u66urpm\n",
       "ZmaYmJhUVFQiIiLc3NwyMjKIiIh2dnaqqqpEREQAAABVi3StAAAAAXRSTlMAQObYZgAAANRJREFU\n",
       "KM9jYGBg4GPAAKkJDKKbQQze0+cwJK0OAAknASBxmmEXhmw+iGBdwMDA2cDwfAO67AkQwdPAwMAW\n",
       "wNDSgFOWbwNL8GecskwJrM4fccryX+Bg+IJdVgEkO4/hL4i9CgwCwLJVIILtA1A2YRtYFhnwKoKp\n",
       "pSB7F6ObzPhiAphm72bg2LyAGd1VLBC9y4EKzh5g/ICwtwAsXgezl+25ANsDnG5m6GDgcsDpX4Yb\n",
       "k08z4JY95jYBj+wFzLhnOASXxQbg8YsVcIHThgMOWYarkHQFANuAQxxgY/+kAAAAAElFTkSuQmCC\n",
       "\" style=\"display:inline;vertical-align:middle;\" /></a></dd>"
      ],
      "text/plain": [
       "<IPython.core.display.HTML object>"
      ]
     },
     "metadata": {},
     "output_type": "display_data"
    },
    {
     "data": {
      "text/html": [
       "<h4>proveit.logic.sets.inclusion</h4>"
      ],
      "text/plain": [
       "<IPython.core.display.HTML object>"
      ]
     },
     "metadata": {},
     "output_type": "display_data"
    },
    {
     "data": {
      "text/html": [
       "<dt><a class=\"ProveItLink\" href=\"../inclusion/_theory_nbs_/axioms.ipynb#subset_eq_def\">proveit.logic.sets.inclusion.subset_eq_def</a></dt><dd><a class=\"ProveItLink\" href=\"../inclusion/__pv_it/axioms/d7449297494a795000bc445b03cbe0385e2bd3490/expr.ipynb\"><img src=\"data:image/png;base64,iVBORw0KGgoAAAANSUhEUgAAATUAAAAVBAMAAADV6mS1AAAAMFBMVEX///8QEBCIiIhmZma6urrM\n",
       "zMxUVFQiIiJERETc3Nzu7u6qqqp2dnaYmJgyMjIAAAAcRTyBAAAAAXRSTlMAQObYZgAABCZJREFU\n",
       "SMfNVk1oXFUU/jp/mf90ISjoYjCLhmCbgYAFqWTQRRUqGbtQF2IG20Ja0A40ZZSojFLIxB8yqzYI\n",
       "Nk+UpqZSCy6kbgxNxDapdaDgT39HtAsj2KG16R+lnnPufTNv3n1vFN144Lzz7s/73nfuOfeeC3SS\n",
       "WE1pJ0lUja51lzp/8kGnwaOkF0bF1Ll93mfeQa0kLxiDqZ0rAyN7gO3GyEJaxv2cipc9uzVehH1d\n",
       "ELPE3cs+KL9pJbmsu74vlUq71esq+sdgHodNbskj9ExbPqjpqne/wovXhRubKQ6dtyNIZZXy62X1\n",
       "p/0nWsPDtDBDWSQzBjcBnPKL2mmffo13TLixYe/ETQ/pqiolOTRYba6kLf3UdTGD+GqDmwRiyY/b\n",
       "q22tH0ulehveh4obmdTi7Ow+H5B9Wklq/Tk2QacXb1Lq3Euu/WpyOzc7+0nRb4O1DTzX58ZL54Qb\n",
       "mxuVyms+KD1agZD1lWR2l3N4BXh2B9l5k1t3pTI+54MaoCyJP7j9sWOyL5YNvGRWuLHZBkzIkHo+\n",
       "cXV+xM7V97QCH2NYsmqv4x/hlfO9Y/xygR/JP0Syilskj6gr45vtKHn5KX7IvMGNSNXAS9WFG5vH\n",
       "ZUvQ+58q6VcjaSfQmFYgh+ksWgeK8v8mJUWBXr4w1y2UNbbvxZydxZQXi/jOelKImniJonBj04WA\n",
       "hOujOzIjWEDilp59j1aEtwzsLLtjGiUXArd5f5ncUMRau3Vo/lEO3qB93K0ikhYqqvE0L3a9DS/c\n",
       "EAQ2yZr64eIu5VUGwbqbW4gQpdN5XnSTj4ErPty+hZ3xqXfe5+MnOZN1cAOuqMaUiefgFqs/I0uT\n",
       "UZ58lsc6yx1TikKXCvTv7cdRhBNhoyPfCprb/jC9JXs2b6OcEdkcLTtiivA1TdTEC6mYssHEVklK\n",
       "rJcZQ2t7C3DthRihpRvSdWCr5Tzehsv2XnCtW3QvrU5fpD4KHYRCsOjYC18GGpDDI5iBG8+xF/C5\n",
       "fHQW/TLjFLDGnj2vlc+46E3V9/y4XbN+Jt/uY6YbPLgl2NN8uoa4ritHAg09SodD6Ha0oe8QY82v\n",
       "bLzgnCCwQTdTj/9yclJW5F1g2j5gNyo9eHcZicnr2XYCL9/d8nBFZl7y4KbyqbuK8CuVylvA4Q3H\n",
       "7R1GwYq/2Nej7xcH9lguvHRenb15dokHgxamuQHaKENVs2Z1kHjRi9sZSSHkoTLkEcSuedesTeN2\n",
       "zdIyoxBmmh1PkZO12NuI3ULsAY9a30E8ar0uTo1TmMPXslYUwDt/V+u1tGq9zs8biE2+Hr4f31wd\n",
       "GMk1p000y4XNo1Rq3ZG0eNyR9IK+tOkhC1GO02QZU9dr7grhHYbWHan9Dut/t/SXCT9uWno53/7B\n",
       "3dLJfMF04Oi/uJOnzFVY81/u5D/xpX5UTJvU8H+SvwBVZVBM8dnIYQAAAABJRU5ErkJggg==\n",
       "\" style=\"display:inline;vertical-align:middle;\" /></a></dd>"
      ],
      "text/plain": [
       "<IPython.core.display.HTML object>"
      ]
     },
     "metadata": {},
     "output_type": "display_data"
    },
    {
     "data": {
      "text/html": [
       "<dt><a class=\"ProveItLink\" href=\"../inclusion/_theory_nbs_/axioms.ipynb#not_subset_eq_def\">proveit.logic.sets.inclusion.not_subset_eq_def</a></dt><dd><a class=\"ProveItLink\" href=\"../inclusion/__pv_it/axioms/265c02fa7dcd9c567ef4be3ae0723216331dc0330/expr.ipynb\"><img src=\"data:image/png;base64,iVBORw0KGgoAAAANSUhEUgAAARkAAAAYBAMAAAA8FZQ1AAAAMFBMVEX///8QEBCIiIhmZma6urrM\n",
       "zMxUVFQiIiJERETc3Nzu7u6qqqp2dnaYmJgyMjIAAAAcRTyBAAAAAXRSTlMAQObYZgAAA95JREFU\n",
       "SMfNV19IU1EY/9y809390QdJoYhBD/liCgt7KHDhgyGEe7K3FOyPBeVEbJRFCkWbJfMphSgnBYlB\n",
       "CT5UECT6YFnEKIiirEVFZJGitaZh9p1z7jn33O1OjYj64HfP3flzz+/7c77zDeD3JRv+J8n5R/va\n",
       "YwxGeWn45eg2Xyfk4gqb3JYQJx2TGSYOaEDZrfdOscbVlPA2ngI4YL6Oi9pOGyWeNuvpUkN5yAc2\n",
       "VIfjgfT9NPmoAWVa63oWbC5sZa9ZuE+FH66br+PiZrZzz2g67A8Gg372XgRg/QYq8uToJYZtNyfj\n",
       "KmMgr9NR2l66DzbtW1CH/qgpA6fHbJ2QJ6x5tcB8+Fl3rLKIJ2IOYBQE3LiLcyhDuHYzoFyroK2K\n",
       "WgtblGLXaw+o+WbrhBxl/hqely1FxYJdrlmAfhBwTQwO9mRwVI8GlFipjzQ25F3Chztwk0JU5p3Z\n",
       "OhHQAWYuy1fabpWGclGN/mPI0KcjGQodz8BmgwY0aPRujB/uAB9OAOw6iO2Y2TphAOa1ascibQPS\n",
       "UF49KEeIa8p07AUI00H23DE31sit2aUB4ArU0eg4jyd6hLs9MVncRkOCPJxfqJSBWKMZgGqh+pRZ\n",
       "aql6aaju0OMzJEZccR2VNJjxnZnSlQ9OHghtGgB80Ef36ZU8T9zeT75+M9U2uMYaJILEc4ZY+rbP\n",
       "ScddxJ26hmSsgI4csFD6l5kprfXgWNCmF2gApcHb1K55qld2u+UH0TGVTQGPGeSaReOt1lueTPNU\n",
       "B2GEZJUZHc4Yy/QTLew8eMAaT2WDN1MW7XTGYLPkdrDMro4NPtbTrlFpWoKw8RjZ2OO1VH1PiE65\n",
       "4YdN0VRPoQI5zH2fVKEdSTc24t4qKW7qQXiXsaGeciCa2QkfMqQbaEKe2QEdEN5Dzy5soXNqSopF\n",
       "pPEotg+JXDrQ4JHTTV07j2JZuiQ2NIoviGSu7quW042STIliGKbavoBSOucRwEY+f0wDyR+585pF\n",
       "PgSD7GZ4g9oUETNuS2UjjryfHVuacyIs+pV7/GZwo7W3d5JQHdEBeURb9e3DCHXQOYA+bs0qhoGl\n",
       "KXBEvrPEUcl3OkzuPDrzfSqbKrkYCoAa+RmFW0stxkm2abx0z1Jafh3gIiysUeijjPGQ1HSn3wxC\n",
       "TqflSDWwipthObkqgclOtFHM3gn2BbCvM7k1RaJPLwxWd2suI9KtqeWOJNgjJ5S1MD7nbfSJeWGR\n",
       "ovnOJ0lSazV8zKSikNfkGow7TrOi32BbqaIw1nGZq63MVWh4VdVWZiF0OdKKwuUr0TvpRdCfVqLP\n",
       "JRgktqKPO/+r/wvdf/XrvwBAgCVwL40pgQAAAABJRU5ErkJggg==\n",
       "\" style=\"display:inline;vertical-align:middle;\" /></a></dd>"
      ],
      "text/plain": [
       "<IPython.core.display.HTML object>"
      ]
     },
     "metadata": {},
     "output_type": "display_data"
    },
    {
     "data": {
      "text/html": [
       "<dt><a class=\"ProveItLink\" href=\"../inclusion/_theory_nbs_/axioms.ipynb#proper_subset_def\">proveit.logic.sets.inclusion.proper_subset_def</a></dt><dd><a class=\"ProveItLink\" href=\"../inclusion/__pv_it/axioms/e95bfa29563f2d409f4f144fe6c68968590429550/expr.ipynb\"><img src=\"data:image/png;base64,iVBORw0KGgoAAAANSUhEUgAAAWsAAAAVBAMAAAByN9JOAAAAMFBMVEX///8QEBCIiIhmZma6urrM\n",
       "zMxUVFQiIiJERETc3Nzu7u6qqqp2dnaYmJgyMjIAAAAcRTyBAAAAAXRSTlMAQObYZgAAA/FJREFU\n",
       "SMfVV0toFEEQLfeT3Zn9mENAQdFFD3rRLCzEi5AFDxFBkpN6EBNRIXrQDSKLxs8KgokouwdRQTQr\n",
       "igYFXfCgngzmIH6QxYAf/K2oh0QwIQlJjMRY/Znpnp5PEvFiwZuZnao3W11VXd0N4CVamcFLIoV/\n",
       "xbvkTYAHEirkxQcXw24OlG02ZWzfWKr1BMDuf8TTc0JniDn0IPpZVRB4Rl4OuLjdz4EyaNfOw/+p\n",
       "b4Lbs+K9ymazBxx5Gr/HC0JnOJsznuJDOK6KwAVCzDl7HUsykMfBok3djLFoTEI0MQve5SeuvDiz\n",
       "hD5Jh9Iw3oMj6eGcj5N4eSQQx89GS85uhwoMKLfqeSm+EVGrxVefEqBXz4LXL6kV3pZD7H5Q0mGg\n",
       "289uL/XpPKD63Z94vSIQe3rz5nmXGjnPQYqsNm2L2nH83AIc9deZeX45MApv5zJWKxlZB1VFCB6t\n",
       "eZ3m+fONkrykBSY6Og67uL2cAyBQfFgWIeEyBrB5D957Z+aFwJWnV5jSl5R14EOE24yIbIhM4TWa\n",
       "FNgF0ElV7Lp+pLfVaE1nOACuQXNCjVpw7MPKdlp35BL9QSXpzDsHbjysUFaj4bKsY6k1m0w6OExi\n",
       "XhFYR2cmPo+ydFRD1CjWdg6ANHQl1aj5sNyutODDPTXadl63Oy8EGv3/UEnWsfIxHgKgjZBWnxEI\n",
       "gY/m8eoUtfC3QGSSW9dwQHBHal9OjVoYR+f7RWa/6radF3LnvaQJx9aXlnXW9rcpVTdBXgwJRMvs\n",
       "m0/3s8EnwF9R/z6AX62oUZuPUfENe7pt8uQmqfCwj2wy3TZ1EM1mj2HTauFJgyWK21qFsoKJDmpx\n",
       "pwlWF9VkY/5C1WrUSIutIpXVINV2izMPvrvxIkm+0NAiMXVE3pv7AEQbiUJGADppCVXBGmrSuGql\n",
       "WVvG1NJKbJmyRo202OacObUksfPg+s6iM4+4TFxnU9LU8TwwuchXW3lKwl3aMN9BLTV5AbDCMO/l\n",
       "ID04/FON2mcc9kLizFrVbQcebD1pLFNW3hbDQdLVhI68MDYktKPncUD+HgGYTyKof3mep+anAbqM\n",
       "LtfA0D09AJH8eNIatb3TO+o6qOU31W0HnhCFR1O9jFeA0GFtL82y2tbzv4twfxqnXrxJAGLEEX8R\n",
       "uugOBqdxY8G+SJsiomY21YzH4u4hjEeXwaC6klnanyk3JDDZiFEva6dAmwRtscOWyEM8t1Jz4PVZ\n",
       "fwbs+ztpK8V76QRo+SPBRfB4JNWaNu06zcXTQxw2rjZelCRcyZLKC1vzE7elS964Wk8c7tt9d+n0\n",
       "PCbMnqdbw6vbCGRcBmzHnrkermJ/eSiLzflQ9laCRcrwn8gfSH55F75O+poAAAAASUVORK5CYII=\n",
       "\" style=\"display:inline;vertical-align:middle;\" /></a></dd>"
      ],
      "text/plain": [
       "<IPython.core.display.HTML object>"
      ]
     },
     "metadata": {},
     "output_type": "display_data"
    },
    {
     "data": {
      "text/html": [
       "<dt><a class=\"ProveItLink\" href=\"../inclusion/_theory_nbs_/axioms.ipynb#not_proper_subset_def\">proveit.logic.sets.inclusion.not_proper_subset_def</a></dt><dd><a class=\"ProveItLink\" href=\"../inclusion/__pv_it/axioms/bcdc43d7690485e4b19a3a7b99db8864dac8e5470/expr.ipynb\"><img src=\"data:image/png;base64,iVBORw0KGgoAAAANSUhEUgAAARkAAAAVCAMAAABFe2rqAAAAPFBMVEX///9RUVGurq4bGxsLCwsQ\n",
       "EBCIiIhmZma6urrMzMxUVFQiIiJERETc3Nzu7u6qqqp2dnaYmJgyMjIAAADYQjYbAAAAAXRSTlMA\n",
       "QObYZgAAAx1JREFUWMPlWNkWnCAMtYuCEPb//9cKiBIWwemc04fmYa6KkjvZCCzL5yIMxifRsj+m\n",
       "xDt98wOTkghgtNe4eTm/BIxRdtvkjp8a5hwjhAFQf8vEG32DgTaBQjoEEGqV3rbynWWswHjeuda7\n",
       "jBYP1vhviNv9X7Nv9A0G2gQqaRJAKJLBBbwzjCEYzzvrGgau5t5dDFDqwtd6m9c3GGgTqKRDAGEK\n",
       "lTt45oQLjNHYijjsWgOc89+/ON/zp9v5lnGBilzn9T0PdAh4mSGA0GjpRfCX5ZdjPGkcKimqL1q0\n",
       "whHWkwCPfrF0Vt9goE2glh4BhA68cP3OMhvBGGNTLsqZyp+wl187FkKasxSwZFbf80CHQC09AghZ\n",
       "4A3ZFPk1BUf0UcRLDWAwBg9Qn8BZzSAhQ3eos5wZswFXd3W413ebCan01d4fE2iVmQ4BhJQUy4NB\n",
       "8WhC3OmyEqRJeabbfyZc5sMY6HXInFkuV5Y6imEun3oIv0RPE2gEWo8ARv+z3ZaXBMUjCR+rsuKv\n",
       "FKN3xNEhEObuCBExZFkvyw+CKvlwuMqWlUiwWQL9MlMTwKgNMq6WPE9dHoKT2GVomXi12qIFA9HJ\n",
       "ck9s+6ZlOgS6ZaZBAOPRoGZ+3bcFsgllaIW2qg2ssyk9WHEwU9ZtJhaW8pbydp1hlb7KMkMCD91M\n",
       "TaBAEFmPynwyZ6nrtqNUsW7huwqgUHUP6humRuuamon9Cnwz7IKrCpwsMyTQLzMNAgWqzBRG+Q+z\n",
       "ucMrW2X8cpm72grIOy2raGO1tdGrdIUUiWTYM9Tr+j5HoLmf6BIo8V7opCVaQ1ZuIbwiXKkBh50E\n",
       "50LCqeMiK1OSrT/LPGQ27ebuOe0+sgzljwN9Aoy+IVCiuT4mMtjhJhpNQp2Y2h3UG/wfGhrNeblb\n",
       "nmjA53YHjZryhkCJmQNi0voCJSAaKfyuenJHWcXt1Ab+izvKz6S5o0RlLlQkAY6bZV+PaNHc+RYB\n",
       "WtuatBrDg8/U1J5j7hSiqwfE3xqmeQrxlAmfnFx9EjLwzZOrT6R08oDQ8BBy4rSTzvAy//q0MxEo\n",
       "sfv+8l/LH6VVMR9UA1rdAAAAAElFTkSuQmCC\n",
       "\" style=\"display:inline;vertical-align:middle;\" /></a></dd>"
      ],
      "text/plain": [
       "<IPython.core.display.HTML object>"
      ]
     },
     "metadata": {},
     "output_type": "display_data"
    },
    {
     "data": {
      "text/html": [
       "<h4>proveit.logic.sets.unification</h4>"
      ],
      "text/plain": [
       "<IPython.core.display.HTML object>"
      ]
     },
     "metadata": {},
     "output_type": "display_data"
    },
    {
     "data": {
      "text/html": [
       "<dt><a class=\"ProveItLink\" href=\"../unification/_theory_nbs_/axioms.ipynb#union_def\">proveit.logic.sets.unification.union_def</a></dt><dd><a class=\"ProveItLink\" href=\"../unification/__pv_it/axioms/da0d86783977271e3fe9fafd955912b032759f670/expr.ipynb\"><img src=\"data:image/png;base64,iVBORw0KGgoAAAANSUhEUgAAAgYAAAAyBAMAAADVZQ4BAAAAMFBMVEX///8QEBCIiIhmZma6urrM\n",
       "zMxUVFQiIiJERETc3Nzu7u6qqqp2dnaYmJgyMjIAAAAcRTyBAAAAAXRSTlMAQObYZgAACFBJREFU\n",
       "aN7VW3tsU1UY/9b29t2xPwaKRGyGmUpM1jiEhEeoGiUaHx2JgCG6hUcUYrRIAgpIatSwgWY1MTIw\n",
       "ugpmKJpZXXxgMFTQxEwjDYOIMUITxMgSocCAMRjz3PNo7zn33HJK4804yXfu69zTe373O9/5vu93\n",
       "C6BUbhm5DJWUH2C0FX8L2e4fOa14x4QtWyv5wWBm1GEAj5LNx1s+V7xhbGW/V88fvidt5MtWOqxd\n",
       "VJRKKEd3mmzBIFDDq2FC2uojsnmqvL61XHHfnSSiVt6wFYMPotxhtfwxT5DNqSJWuE6ZGqaKF1Fn\n",
       "eQO4OSLlPZU9GLzKH/bJdTNCNqcKg67GtXlMueJFgCNDhit7qZSlnbZgEBjij1/ijg6vXo0H5SHa\n",
       "8cnsgpZ4cB039RcvXgR/z0Xjq6WiVtbZiIEnwts+blQLJtOdzWSTbYiWg0HIMWCcZVEiamVP0j4M\n",
       "jvLz34Eg8dctuxcrrb+fnZ6Ea1dqT7YcDB4KDBvX4AiRst6NLRi8yB960SA/hd/C65kpJ+VNXH8I\n",
       "zWFk7BOKGPij2hlhvSNr3q8n9XKs9Oo4ZBsG2oAAfxqgF/anHsSAFE6vxXUUOiOgNcYVMXCB76zR\n",
       "8sSJKLqKZ2zDwMl7B1AV1Ze3VmqQ9NeF31wtxmtx4/NIB1yqGMxrnDpohDtPRLGctA2DqhYzBgBU\n",
       "hTsKp2vJe4WqXBkYoK4mXjsGDUm7MGjOmucCaOcoIPxcQJc8NQyDaub3yPyDbqz7SFYgh+NQXaRu\n",
       "KZD7yL3EHvxd+sk6s3Zh0JA028RvHXnAi6IzbLSJvjRx/Mg4nLrCBMxmfope9ejVu8SvPHgzjEvV\n",
       "czaxDA21A4NXxCAyAq5L3jwNkday0/uoj+C9yDDwH9fDO+Q2+q+gnc9yrOqOoRb9zNNoT/q2xWEA\n",
       "ZuqoZYgoFm+cYIBR+1MBA7WGknKjcIwG6F80eRLtqus16hvPQVHTSD8E2i9EKAbw/qbHv9qo76zS\n",
       "p1ALq3z/fLnwGR2a9isp+GZkJbjDWg0GszpGRDWkzxMMftY3/QoYqDWUrEBnxTO8r/zwBs5XZjDh\n",
       "MrfxDulqO+kubn5VxRwJXx6NfQcQUQ2fzxEMdMPsSyhgoNZQ8sBnxDMlY6bCOl9G6USaEEpkyoyZ\n",
       "2KM1QTVSqmBaAQO1hpKI6ZJpGspj57ZiRDHtfLicn3gAheO+Z1Nlxs5MRZsg1Ltz52YVm6jW0Erh\n",
       "1HMoFRQdXG+yjBvO03VhsLV1ndK6oNTQXBwXTaf+r1za71SUyyDFYKlRCzmrKWAgNmyzfBd8N0Mw\n",
       "astEisF9VlPIKWAgNAwNyANlMXx3jmIMbqAYeMAhKOH8mVHHODMGQsPtw1IzM1vUaHd+9GKwgmIQ\n",
       "zHqMY9jdmA0kemG6GQO+IfSulE6gHZHrEANfbp4xu7drJwQOOCETbJzWOIPDgDTce3c9dsS0cKus\n",
       "17nexHU0F1azeKFtCZrcs+ZOcqDBufS3GFj4RDhj1gPc0JF6zoNnvBumoSol9triFN2boHxdeO9q\n",
       "z6dMlqisJ4EkEQubCD3oqUP3ZKuWO1pIuBqI9R6SYaA31OBfcuYPaADtexGDUNohqr5D6h/4LT1O\n",
       "xrEokyWWfoWRfllGhS/jGAZjkE+29TYYE0UR13aCQVBPTJowGIOdN/Ja/cd+aU+BR8Sge+ZPouqb\n",
       "1w+dY6m2HCHjWMgipOF9cxgUK148YdWTkX7pZikHrpxlGIT0gSxCu540zG9tbQ0HYr5sXIIBbqjl\n",
       "8S87U9AZM2MwHXznoO+7voU/FtVwQBYv9Fm6lQWOBTv+bn2wIbPnrGdM4IAYZ/DFSL8Ew0R4hbzM\n",
       "5Q/Gwu3QqaFZjvUA7g8zlIX8QWcwF4SOFDyC1CKLMehI+TbiCm1caGoOwxe5qvTuokYOy+JGOc8C\n",
       "Ro4FkyUajphNZgewHV8jxptcTxz94q8hIo2ZqF3JI004HIQghj0KoYxFDqXr4N5eaEp7B8HX/jJ+\n",
       "uKa0Nh6aktp4bQK0J6DjQtYd20FyPQaFM9qwuCXPAkaOhZAlJ7B3BrL5hA04bLbqiadf/qJiDucY\n",
       "Bq4W9GPv9AJs0rMZqG1LyTwSCx/xCyrEkgF2FnogXoww14tGMmLJs3AcCyFLeuReuZ5iI265zs1s\n",
       "q3/7zrDQk0C/7KNiXrJMuTQHsgdXzaWxVUZrmGFccthq1gW3wqKihs4Gcz7RgmfhOBaSGPQwxsWc\n",
       "XF7A8pD+TOgFT07oSaBfjlAxu2/Xlk8MyQ8s1umjKXNe2YJn4TgWkkhxhMEdlfRaB7CEJSSDqeCQ\n",
       "Kyn0JNAvX1Ph8k8Ju3KqzULiRecXLHgWjmMhRIE/LlnTcMqMRnC1+rcI1Ds19CTSL81UuPxT2C4M\n",
       "ZByLBc/CcSyULJlBMpmmqDZNk1q1RdfF2JNIv8gwsI9jceblc0HCs3AcC0sugzS56MvRCA4n55tj\n",
       "Yk8i/TKHirFsALswcA3IbaKEZ+E4FkqWeJ+U5xZfPwDMJgZSDSiQ4Xoy0S8ym2gf5wpCkE0/EpDx\n",
       "LBzHQskS7WlsUzHPUiRb0HxfU1j0Hku30xhsrdEJ4egXJsY10D7uXVwYKCko4Vl4joWRJfQjglWs\n",
       "8hD7Uk19ZKTgXXXbZmW5nsz0y3EqZkNlCwZVmav5yoxnMcJUIEssvg71UWR5X1nsidEvaHnBYix2\n",
       "fosjfpNVMmYid8RBmSwJlfz2htEvspiJKpg93+YdM6eeS9IAmGNRJkvaSl1k9Iskdg7cZCcGb8XK\n",
       "yKEYkaoshyICJYBl7zeaIn2olEtTJktUcmmhJBFjWQx2YgBTR2E+NZQoE4MKv913h0cfBmV/u1/p\n",
       "fzimjDoI/MvJdv/I6f8Af7CK6RsMFv0AAAAASUVORK5CYII=\n",
       "\" style=\"display:inline;vertical-align:middle;\" /></a></dd>"
      ],
      "text/plain": [
       "<IPython.core.display.HTML object>"
      ]
     },
     "metadata": {},
     "output_type": "display_data"
    },
    {
     "data": {
      "text/html": [
       "<dt><a class=\"ProveItLink\" href=\"../unification/_theory_nbs_/axioms.ipynb#intersect_all_def\">proveit.logic.sets.unification.intersect_all_def</a></dt><dd><a class=\"ProveItLink\" href=\"../unification/__pv_it/axioms/879f17462e1d77150833e1c6e9e581f73ab52ad10/expr.ipynb\"><img src=\"data:image/png;base64,iVBORw0KGgoAAAANSUhEUgAAAvIAAABABAMAAACKKI4oAAAAMFBMVEX///8QEBCIiIhmZma6urrM\n",
       "zMxUVFQiIiJERETc3Nzu7u6qqqp2dnaYmJgyMjIAAAAcRTyBAAAAAXRSTlMAQObYZgAADeVJREFU\n",
       "eNrtnH+QG2UZx58ku0l28+MKAzi9goZ2pnYQvANEQUpJYaZlFLxcHbB/dLxY7RVUbIDCyc+GjgMH\n",
       "iKSiUGCwS4u14sBFoWI5aoNFh5ECKQXF4UfDFGHAGTivXLm7Us73x+677+77ZjeR0L2evjN73U2e\n",
       "vPu+n7z7vO/zvN8GIOiSqspe1Q87rAKHbDnxsHaAjR+7GmVi4qMWtup51/XnpVb6NDikCyKv1IRX\n",
       "zzb/jU9M7G+E/P7BR1rXpETBVXu7nHzhkCcPs4VX4xmz04ODDZEfamWT1uSc1/flpiz5tOBH9SPY\n",
       "6YyDTv5S13UvTFnymvg4zy8FRj7pcn7q2NQlLxlVkVpg5Ndlndfp/BQm32MI3dofGPl+9zdRmsLk\n",
       "0xnh9SeCIp9wO5d5MIXJp8Sl8UAmIPLpouuFwz3If4/OBMXAMd7b1OAqMfLa++I8Nx4Q+R7XQksb\n",
       "8SB/NI1xh4ICnlqx78J+1GC9ue/+Ikbe7IGjwwcCIr/C3bmhSUwe2oqgHYUe1FJTn3rIJv8D8d13\n",
       "gyGv73OvsgqTmXwPcsorcrCryYVzhpHvEN/tKAVCPuV2fDHXg/xSX19t8pDHlFaV4Momh9c0Rn6b\n",
       "+LQMVAIhH3dX1dbpuFx83KQa89ej+XIUtGaXWW8w8j1lcY0xLRDybe65qo0sstbP/tnx+ER/Z3J5\n",
       "G+Qbf5uHMBod60+S5QK4cT4rA2usuGk7Iz8gZsCTI4GQ76q4nz3cNL2SujSGnUy0NKnIq/ueX3EK\n",
       "elBRGyvzIezVjqQyzXbqrzHybWIopQwHQv65rDuExeSTRnJcwdDjk2uGDY9DCj2FsTJo5XkQL8Li\n",
       "uqb3RGp2eP6oTb4iPh2jgZB/z53III5Qx73CpftdVCbPDBtHLvlDgFAWtfBwNH6//qW6pkYoA8Os\n",
       "Uzb5TtH0kkDIfwAy8uypXHtQxrzP6tzeL2jLg7aPkAdlHHpysNDDjxrqSGPkV5QCIK+NgszbAO4V\n",
       "LqHGyC/ZsTXndyuHjenjwnO3o2cu6fPJR/iAO7GXeBuc3T0WvMjPgzBL0iy0Z9iKZKlaDYA87ock\n",
       "gZQwOiCM/VAk0wh5pRO2+bbZYUN9mfYGqO1mcO9RIuyZ6MhBchgMPMPG83CDJ/kbkEnqjEWznDPs\n",
       "Osnu/u5KAOTDw8IyEzejq3ybmZS62oe8/vjJVYgZ/FQsTmGiDSW/BiH9IqgVv0Aoz2YlNCiGtXIS\n",
       "uYxIXjlAyOtYDED+DNS4E1RxVzU1vxrCX9tcr/U8dOVN8mRCe9WPvL9VIyUibPuGcDM2zlx/Bh0c\n",
       "G39kcOQvows2LtX60pYH0LdVgoTHTSQ2lPy16NgJUV9H9bblQCYuBnhqJiioKfrSWWN0zPfhFl6B\n",
       "w++8dXIV6cOZpbs/C2343X8y8l1Zsfp1NZP80/ifd/zI+1s1UqJC1jRec16feyOXPVhOg76iMhuP\n",
       "YepD8AtHS/pzVh6ugno2hDzxwx0Q42z5Tlr3ADjB/R7JHuB9vIXENQr3fsz09LAU5ptNN8nvNiTR\n",
       "5DSTPF5PaEU/8v5WjZS0sOmanOaRMesiz2pXNdlmdEMUdSJN3zrx31lyyZfKuEqr4myc5Mm+4zy4\n",
       "07T9rqsh+B60/N7dll046TiQpeQlEzTyX9GajkbVkTBXdWTMnpD0LDRkkk/j6b7sR97fqpESGhfm\n",
       "3HEP8uSL0j8Fdy+EOeoTqAUbzDfvKJBLftV0fyFMB4Zt4yJPppSj4Rxqu8SVC8D3ME/PER7MEvJU\n",
       "q80Qab3YVEQ6Vo1nQBuClZsdWeI360OYAam/PvDAnb4zrL9VQ2kbYa7WD3iQ11ehPu2cjqespcQX\n",
       "fKO/vz+j50AfYq6BTSGVKF0YcTZO8ijWwdtzC0xbt7/B96Dlm0JbinDWLDQ93L4KmYirlRRmNPMU\n",
       "9CcPx6O3b2Lkpb2LjVlrm9H+/mv81za+Vv8debxWq0seNk3suX4UIV6JnmOMOkoekzKoeYF8LBvK\n",
       "7dr6Cm+TOv3VCkc+mn+wvCaLMwDYViCP7mF+YIHQmKZ2A1P2bmBizJP8MvNbEp0XT960kgYx6o6n\n",
       "X7RXjiRcQZ+67dsXZvzJ7/QiD0ve2oNvd7lCB3kSX0SKsMnAl9rNsNaw/sRyXfC7Yoy3ScyBAkde\n",
       "PzLz8hsAvwJii8nbFaw18D3MD7zSigV0uzUri5PdiEX+bNBlBp1O8tRKHsScDQmG1AxXKNNr/MkP\n",
       "lL3Im2XBnBod5Lfg7ty+48uAL9UZ0F1Sp+M/M0BZ+hO0YFzssFlmbZ6bM8CPe6GEP4htMXm7gu4y\n",
       "uQf9wBdaRj4k61yckY9BmPdd6mVPwrF5gTy1kgcxV1l9Y+EKkNjCXBZymMWVTLjmT14vxauUfBj5\n",
       "cPOZRZf2ij0Bv4ZbURtPyPI2hfALPHmAC7QqhMvElngbu4IyuQf9QK1l5I+V5uHet8gnqzH26m+2\n",
       "nwF/SBoRQyBPreRBDHJc7Mu9lnmQS0VJh4Q88uC+5KOVr4HacbrDweHLLexyC3xfqcFGeLzqCEYT\n",
       "zzjJr3vdwBfYdtHeMldBooTvQT+QqLaM/DHe5LXaBWxyuOVuA7ZmOpOw/eTLTi7z5KmVNIiB15+0\n",
       "hzANV3C/R2ADHnvJWYuWMfKSPMRr/uSVV+QRf5U7O2+HBwaLfHwl+nOebVu1lyf2PTZAq8jLn2eb\n",
       "PNz0HXRrkuwhwvrNm3+aFP08sZIHMbDhM0ycbIYr+FPDs6bjf4+L1lZ6+HkmKffy8x+3OHK1CZ8s\n",
       "8XEtI79Geid7hoWHUSdpsod8R5uTDy6RkH+4UCeIwQ/EckcGjGS6kjUgGwk5TkUuI69f/smTD6Ag\n",
       "8vrV4EMeb0uQZI9OaG+GynYJeWwlD2J+idwIC9AylpowXoHdFHfJkzzcKR0Z+mh/5tDlPqd/nO7f\n",
       "ytbzNvkUJomTPeoP+/tXI/L3xiTksZU8iBlEiwYgUQwLVzDlMpxIM6X2Lk9IlivQ5MnD888vHbrk\n",
       "f34+6tT98vfsSMpaYsxVIU/HvLII+E0xOz8vD2JOBf1mGsWsNcxwBUUmPQYsV++6WRt61g7KYuNe\n",
       "icy+K2HKFaXvmroZM3PgkWTPn/HpC+4ojiMvDWJOw1EriWJQQELDle5yctVFsHimOkO/+NzjDVcQ\n",
       "UWcswJQsd9RJoVjkabInjhaSynVZmvuQkJcHMSY3HMWUzXCFre+dq//I/v+Th4GC09tYM8PqOhkz\n",
       "jyCGFBLFkAUbDlfYym2LM2A94E1euwuVwBhp3iFUU2kz0vEtUvI9RRn5+rlKjyDGmS8l4UpK9i56\n",
       "Aj70Jh/p7e39lhEU+U3yl/820dt/a9MieiyXI5I5gfy2zo9F/r8r6j5/bxMNbEnzdp3XR1FMlG9W\n",
       "RI/ziyQTKZAPRPUBH01i8qnOOsNlGDVqpFkRPfzJPATyZ+aCIL9qEpOPOW6curHvOnNyGiNr8GaX\n",
       "vPeZh0D+PQiC/Jm5yUvesdmprraXwigk31ZsWkSfztJDIP9BIOS3VQ86ec1n6mFnWB5mCfnhIXue\n",
       "b8tD4qiGRPQOA6yPwoebvLo3EPIDeef1s1g8/O4ei3yyr69vlZu8Y6+xXuF3KRULJQ77uF1NaUlk\n",
       "rbNbOSE/LwHsuXj23hwnoq8v5Xao7FM1erjJh/cHQj5WaH7M83uNdZvI71Kau2a/yEK34f8InWad\n",
       "XM0J+YFbQnYY8Jphi+g9pNymyt78Sgv0cJOPDgVCPjnWFHm8RebYa5Qt3wQZJT3TpmM1JCzxaxL7\n",
       "5aUjOCG/+mn8LNLXrye5byai95C1mgbmozpEDzf5UDEQ8tpwM+TJFpljr1FSRBklJR+rknz1Mt+Z\n",
       "sGSTZ0J+Xk6HYpB1+cZE9NTAm3xXNRDy8JbMz7/pJM8kjvS3p7i9RrtJTAUpkVFS8nj3GTndAq+Y\n",
       "lFXAtv/JPoYFzt4wVg+QsLMhET0x2PXiTNwmrINVJN5mhREM+d05/zHPZJRkrqN7jXVVkBIZJSX/\n",
       "JiGBFoOsOnkFibw9wzIhP5xkz4gjAM9l9IZE9MTghWNguscMa/0XgoNNvq3iT96SUepmUKkth/oq\n",
       "SImMkpLHKaJQRSnaqkx5BYrlWLbzQv4Yc3Bp1PttmXscInqXdp5dYQNtfQHwNkSkQg8X+dRIQOST\n",
       "7V7k02hVeYlhySjpFhnda6yrgpTIKCl5rDjZibPfTJUpr0Ctma8s5IX8+oVfMR3Ie/uqkFydcYro\n",
       "iWSeiejJH6yrJwbRjIJ9VTpHDxf5dC0g8pJfv3CNebBllMQPkL3G+ipIiYySku/VX9aOID/RYlUn\n",
       "r0DJS7MHylNW9sAsDhG9KZl3BAaGaRDKRSo5oiIkh4t8Vy4o8jItv5u8JaMkW2RkrxGTt7cfeRWk\n",
       "REZJyd+3KPXHLJEwWNXJK0hVfDJmZmEi+kdBGp9hpQwxWAexr+bqZsz2QFDk0xV/8paMEm+R0b1G\n",
       "TL67TLcfp4NDBSnKKCl5/dS/5DXyQas6eQURNjXf5NlwS0RPpNx6RswcAFCDBRB+pm6WONEeGHl1\n",
       "zJe8LaO0t8iwt7FX9bwKUpRRWjGVmkez5ee46qQVpNmLmzwbbono6fMhvo/nB9sAf1HkcJEPVQMj\n",
       "D3/3JS+RUWIVpK0N41WQHBrr2iKvfdSOL1h18gq22mFeK3cD/2EeLvL27ygefPLRTj/ydWSUKe6s\n",
       "ntLSQR5uxHFnldlKK9A7P+Hks4N8qtAc+db+IvS/6pFvld4m4rja4m0cNj5R7krfFfylpbRs8Beh\n",
       "9cFW/iI0XqD/zxZLWKEMDj72Hyero2hg2/EzAAAAAElFTkSuQmCC\n",
       "\" style=\"display:inline;vertical-align:middle;\" /></a></dd>"
      ],
      "text/plain": [
       "<IPython.core.display.HTML object>"
      ]
     },
     "metadata": {},
     "output_type": "display_data"
    },
    {
     "data": {
      "text/html": [
       "<h4>proveit.logic.sets.intersection</h4>"
      ],
      "text/plain": [
       "<IPython.core.display.HTML object>"
      ]
     },
     "metadata": {},
     "output_type": "display_data"
    },
    {
     "data": {
      "text/html": [
       "<dt><a class=\"ProveItLink\" href=\"../intersection/_theory_nbs_/axioms.ipynb#intersection_def\">proveit.logic.sets.intersection.intersection_def</a></dt><dd><a class=\"ProveItLink\" href=\"../intersection/__pv_it/axioms/bbac6a66e0cf05a4bfb9b31784209edb1c1eae0b0/expr.ipynb\"><img src=\"data:image/png;base64,iVBORw0KGgoAAAANSUhEUgAAAgYAAAAyBAMAAADVZQ4BAAAAMFBMVEX///8QEBCIiIhmZma6urrM\n",
       "zMxUVFQiIiJERETc3Nzu7u6qqqp2dnaYmJgyMjIAAAAcRTyBAAAAAXRSTlMAQObYZgAACD9JREFU\n",
       "aN7VW2tsU1Uc/6/r7btjHwBFIjbDTENM1mQICY9QMYoaHx0fBobENTw+gEaLJIKCpEaSdShZTYwM\n",
       "DO6KBnQarO6DYjBU0IQMIw2DiDFCE9QEEqHAgDEY89xzzm3vedxxSuPNOMn/Ps896/nd//m/fncA\n",
       "Su2+kRtQTfsJxloLJMj+yMgFxScmb9tezR8M5cYcBvAs2X2+7WvFByZU9/ca2dMd0k7+fLXT2ktF\n",
       "qYUL9KDFEQyC9awapqS9PiO7FyobWyuUjz0ZImrtXUcx+DjGnNbJf+YZsjtvvdZjs5j18mBFy+UC\n",
       "kcp+lTMYvM2e9st1M0p258vzc7en18UkXZ9Y177JPD45ZLlxgEpF2ukIBsEh9vx15uzE2rX41XmJ\n",
       "dnwxr6wlhzKgLZNY2A6A1ih99b3XrK+Wilrb4CAG3ihr+5LWs8XT6MFWsss3xRjN8GSF8bAevUj7\n",
       "uAasqyxGRK3tzziHwSl2/bvQ1AINK+djpQ2cNS9PJeqv7y+5B5+xKvyiAd1sbLrI8VPBYauGRIlU\n",
       "9G4cwWAde+pDk/wSfotsNE05aVvw9lNoiyBjjyfuxVeSwnjJ8s1ATLvI+Tvi8349Z7TTo3vHIccw\n",
       "0AY4+JF298ER/UkMSOnyeryNQXcUtOakIgZu8F+yWp4kEcVQ8aJjGNSy0QHUoAWrQ5oaJON14Tc3\n",
       "HuO1rPkVpANuVQxam2cMWuEuElFs5xzDoCYhYgBAVbirdHk8ea9QU6gAAzTUlNvHoCnjFAZteXEt\n",
       "gHaZAsKuBXTLW6+OQRDJauQojjdEG1YAeY48S+zBP6P/su68Uxg0ZUSb+L2rCNgp1kasNtGfJYGf\n",
       "KgYfkrjy2L0wUW9kbGIFGuoEBm/xIU4U3Nd9RZoirTcvH6Qxgu+agEHgJtp/VTA3pZs40ujM+Hcm\n",
       "YQDmGIjmiCg2X5JggFH7UwEDtY6Sdjd3jiYYWDptKh1q1yYaGy9AWdPIWQh2Xo0KevCacZYwN+bN\n",
       "QOdNHb4bWQOeiFaPwayLE1FN6YsEg8PG7qwCBmodJR7oEn+FjZWfbmdiZRMmQ7NJ4CiMmC/fpDod\n",
       "d6X8RTT33UBENX2+TDDoksdiIgZqHSXhwUVprGuXM5X8fAWtG2lCOJWrMGcyf1oL1CFVDGUVMFDr\n",
       "KMmYrgvLUJ47d5QziplXIpX8icdROu5/Sa8wdzZVtAXCfT09W1VsolpHO4VTr6FU0QxwfZkKHrhC\n",
       "/cJgOr1ByS8odRSb65pw6f+qpf1ORbkNUgxWWLWQsZocBnzHDtt3wQ4zBGO2TaEYPGq3hGo5DLiO\n",
       "4QF5osyn77VjGIO7KAZecHFKuGhOzDVRxIDr+Mmw1MzM4zXaUxy7GKymGITyXusc9jXng6k+mCVi\n",
       "wHaEvjXSBbQ7egdi4C+0Wqt7e3sgeLQWcqHmmc2zGQxIxwMPN+JATIukZaMu9KXuoLWw1swXOpaj\n",
       "xT134VQXmpzbeIvBJc9HcqIe4I4u/WUvXvEemIk2Oj9qopYPb0Jyv7DjVr9PmSxR8SfBDBEbmwi9\n",
       "6FeHH8nXrHIloA4/EO87LsPA6KjBv+TKH9AE2o88BuGsi1d9lzQ+CNhGnCbHokyW2MYVVvplJRW2\n",
       "TTQxGIdisu0PwLgYyrg+IRiEjMKkgME4HLyR1xo4/UunDl4egz1zDvGqL/oPg2Ops52hybGUnJBN\n",
       "T795cMZuJCv9socK2y6ZGISNiSxFh94sLEqn05Fg3J9PSjDAHbWihle5Dt1xEYNZ4L8M/T/0L/m5\n",
       "rIYDsnyh3zasLHEsZuBvUxiti4p5Btus9EsoQoRVyBtM/WACPAjdGlrlWA/gsYih9pL6QXeoEIIu\n",
       "HZ5BapHHGHTp/s14g3ZutDSH4ZtCTXZfWSOHZXmjnGcBK8dCyRKtXZfOcPEbtCyVsRmJoV8C9USk\n",
       "ORNVrCLShBMhCBk2PxyDcM6mhrLr2IE+aMn6BsHf+SbGoCWrTYKWjDZJmwydKei6mvfEd8N0TuGs\n",
       "Spy05VnAyrFQssQzX54/LW8g+612I7H0y19UxHTOxMCdQMvqgz6Ad4xqBuqbGLWOZKaPeC2Ucsmg\n",
       "eRV6IVnOMDfyRjJqy7MwHAslS/aANJEOFGi0YnAzOxvffyjCjcTRLwepiC5LqKW5kD24ZS3N9DJa\n",
       "02yryzG92S64H5aWNXQeiPVEG56F4VhoYfAwqd4IwViWJvJb0NRz4Ve9BW4kjn45SUUM326vnhiW\n",
       "n9j46VO6WFe24VkYjoUWUpLwkWxUL4rZzIJkSA8NuTPcSBz98i0Vpqaacqqm2sYVXgx+wYZnYTgW\n",
       "QhSEI+CRVQiP4kQWMC8RABqdWkbi6Zc2Kkz9KeIUBjKOxYZnYTgWggEyOVpCMiryCq0mBmboYh2J\n",
       "p19kGDjHsdQW5WtBwrMwHAsprPbKo6Bg1IyzcHG+Lc6PxNMvC6hYWzs4hYF7QG4TJTwLw7EQm3iG\n",
       "4iCJNYNRahODehNKZJiRBPpFZhOd41yBS7LpRwIynoXhWDBZgj2E4YIxz1ImWxbT9YAd3nPZTpqD\n",
       "rbcGIQz9YorVBzrHvfOOgZKCEp6F5VgwWeIxDIfLeL0Gz1ImW5YbZzhKQgq+q2Hn3Dwzkki//E1F\n",
       "NFSOYFCTu1WsbPIsVpgIWeLG56JjwDZVE2NlfiSTfgkYlB0XbDn5LQ7/TdaoORN5IgnKZEl41G9v\n",
       "TPpFljPRZMyZb/NOi6XnUWkAzLEokyUdo9006RdJ7hy8x0kM3otXUEOxIlVdDYUHigPL2W80efpQ\n",
       "qZamTJao1NLCGSLWZn756AwGMGMM1lPDqQoxqPLbfU9k7GFQ8bf71f4Px/QxB0FgFdkfGbnwH4MN\n",
       "h4a7q/OFAAAAAElFTkSuQmCC\n",
       "\" style=\"display:inline;vertical-align:middle;\" /></a></dd>"
      ],
      "text/plain": [
       "<IPython.core.display.HTML object>"
      ]
     },
     "metadata": {},
     "output_type": "display_data"
    },
    {
     "data": {
      "text/html": [
       "<dt><a class=\"ProveItLink\" href=\"../intersection/_theory_nbs_/axioms.ipynb#intersect_all_def\">proveit.logic.sets.intersection.intersect_all_def</a></dt><dd><a class=\"ProveItLink\" href=\"../intersection/__pv_it/axioms/143cb37173616ba75dccd025ff3608a2ba5b6a8e0/expr.ipynb\"><img src=\"data:image/png;base64,iVBORw0KGgoAAAANSUhEUgAAA9wAAABABAMAAAAaMmKLAAAAMFBMVEX///8QEBCIiIhmZma6urrM\n",
       "zMxUVFQiIiJERETc3Nzu7u6qqqp2dnaYmJgyMjIAAAAcRTyBAAAAAXRSTlMAQObYZgAADp9JREFU\n",
       "eNrtnQuMXFUZx795z9x57EIoEQoy7CZYK7gDqyICZQpJi4p0WgPWhLhjsRSIyCiFxRddGwMDaDvV\n",
       "CAXEvbTKYwU6Iqu2S7MDxcRAS8cUBLSlgyFGjNItfdgn63ndc+7jzH20287uXk8yszN3v/v83fud\n",
       "7/zP9+0C+LNtky595ITTJu4phU44QQWleLSbCY+OfjDR6aazxu/Bhhz3xD7LgApwpZVfjv6Mj44e\n",
       "dIP74NCzEx33703fZ6pSs8cmPu6g9fFeyjgODbnCPTLhXXdiivG7MgUmK274j9Vn5bVPU/2BO2by\n",
       "5dHi5MW9wuK4wqf4DPcrpu89lcmLW3Irz/AX7sRu04J/wOTFHTlgWb6m6ivc8T4T/v2TGDf83bI8\n",
       "1e4r3MMm3x1qTGbcf7YsV973Fe5/mi9L1g538qs7fzweeqC6F+u1And/3vLbzaqPcEcOmxb0F2xw\n",
       "J3bc1rnj1tYd7V9Gryvj2+1xT2tFKxx3oGb5bX/dR7ij5hPYDja4V6BrEl5SaN3h7kPHgKLrdz2t\n",
       "pDQ47qi1q8o0fIR7jXlocr4d7m/iaxZrb50vQh1tdA+kc95We4HjDlp5Bff7CPd2c2d2u/Fr+q7e\n",
       "Ozju5G7tmreoYTSx/RCreFvtEY47aR13KId8hHu5ecEu4+O0VNU93XHq95a1btSIHMtwH9zvcbVM\n",
       "XsMdkSjjb/sI9z7zAvLoKh03XIo9IDyt6p15jDrRzS072rYiJE8G6ERH2JmVSKK6tuo8SJyqja1z\n",
       "Gm7lsNVyc8E3uMOHzK6NXI8n4fUs8eE3GPpuFtdub9nh9tx01i4EBwXnqXA7dNmZ1maKjjrd0HCD\n",
       "pCOak/UN7pRZQk0Q3C+h0ehn8Ye+8YW7S4W3ELbvAjwUakAZIn1NR+bVGUIwTJY47kOSaLXPN7gz\n",
       "ZhGZdm4qupTk24ffQ2384P4B8ufoGE5CRxjIwvuR7lLTwRecCG1Z7aRGOO5dVlM20vAD7raSFLfm\n",
       "9BLH5el2iLMj4uNegP4iwQ1z1MgeCJeakzkAPQVXuKP7fYO7v0/qzAFdStLaXeG+ZuN6R+klsvHl\n",
       "18RlY+OqizYgCCmHNZN8rIglwOEcceYwA4LtdriRsz+T7447c0XizIOHfYN72CxY0BmDdSjKmY4/\n",
       "nOcGdzgHw457ugyS4lrF6a31DkRONYSD8nYBB4Nuws1ZBYdqcCfEi3a40W/vhC2vdeQMoVpCEpmn\n",
       "D/kGd1fWvASfe/hgfITOQsSq9riV57rrEFMZvybt1xsuBviOPu6j5iuQF/8URGpOB/kojzTQ1R7O\n",
       "PgQbAK84p05wr0EsFZwfSt74t1AxfBhePR1wtkqoZjfuDu9luImqsM0Jt7PV+G2XVM1LTsYXbsH0\n",
       "TnpCyvWfs8X9xtoBFABUIGmzj/S9D6JLjTrIqgn39wHPSEYd+4EM69xDO/bWIbU0C7PxPdBxSYXg\n",
       "jqEbCW4D9hZDXTv0qvgcOvcnVpUAx6KZgoY7vFsSxH/AcL+Mf/zLCbez1fhtN+fNS0ySWfhPOhGV\n",
       "4760iJ9WLW83c1pecmXOwk89deNEu3pR72mJa8aBQRfEgG/O0MTCoHm6k4qoM2inDOusvb3Keu9o\n",
       "NtxOD53hTh+QXISdDPdKU3Aqx+1sNX7bDktU/HwzUz3u2oFIO9yIQFMXcO7OPERNEleqTZ1LPxHv\n",
       "B6vPOMmEO1MkzO4HvjmjToIXUnpFs7/IQbSh7Ga4rZ0BDv6+AWvyECiEagX9FElKNr1zBsOdwXFj\n",
       "1Qm3s9X4bWeoluBNdcad+GUp2HcNirJWs9/dV4o8b1rvwdkwjd4MLBpMLDLhxiNoOA0uB745g4vF\n",
       "C9lFtjxLd0OsHs9S/USxhB+wivQUS9HAA2KfL+gnQDPFphdhKqRfGhi43zFUc7Yav23UqjHVXTzd\n",
       "oVo0i13tl8rlclZBF3RE89yiXQQL6Ojp9nJ5KfwKbdmEO4A4pdthFvDNGUdSeCHdQsN8LI9DuOOT\n",
       "6JY4f28W0tZDxadwaSd6rGdBcBPam0hvkJ7dkgqLzPeVy99zjswdrSYS7njRBe5YPlDAfKLE11Yh\n",
       "UrTiXgxT0hduQ2uQDQ4BXA1b1m/V4Y4Wn6quyMN84JszdtBoIV0hbDkkb8lLbwLHPVyxw70Q+w1r\n",
       "qxlxN7FqXXOQqQp2uNPtzXGn6JpfhFhhDhlakQWhPnhcJbhXqol7tDe4NTySnAbI2/4Rr/NpUO6B\n",
       "Z/piOtzKlOzf3qEzbWxzYgPoB15IV0jXxuCaUNwzpAFMgeG+jPp9c8sZcTMrqbZkEJOoioTWWn7t\n",
       "9YYeJz9GnN3JVM/a4VYONsctTnvBMsrnXoz7pxs/AwT33GrkFJhbwW9VmDWtAQvxHEYcxzUX4COL\n",
       "FubrB2Krf3QdujPRinxzfAORqWQhXSGUHzPcUi1luYY7ZhwERG55Ec4sWnBTK7m2pBeTmIpERptg\n",
       "cP8kFomWy3cd3Sm5lKlC/OlXdlp/+3EXuJ/AwhbmE0R9N/O9+HKKgLWqVOJ1KAVfRZ+nlVnhXQzO\n",
       "yetwI/+OvHKwKjYnNpAkC+kKGRgr3EGp61qeZ7hT9ZhBG/pDSg2pFtzUSq4t6cUkqiIBkYRgkQU3\n",
       "sL7wyJtLmUrUOctwBwrOuL8ebsC8XfrRSKTrQsSI30fJSrR2JdpRcpNRHnuubsDd/7aKT55vTmxg\n",
       "LVlIV1g/ZrgDdVvcicbVBm1ofTaXgg3dt3RX9biplVxb0otJVEXC7VsAJx4D3G5lKp7IqYxKRLCG\n",
       "M+4vbJTrZ7pP4a02d52GO74Yb0xsLq0LrvlCJTdmuOWei+OGu7+GjuHieZ1MGxoc/EnK2ncTK7m2\n",
       "pBeTmIqET2APrMY+MNU5b+EY4nYtU51j03fzkmc73EfbQgYNzCGyDKpjhTtxCtiGavBbFFmmZ9YD\n",
       "FaoNDaaeukaCG1vJtSW9mMRUJLzW+51kx9OjjcUCd7C7+1zT2vPO/pjDWegtXMtUv7PF/VjhmONu\n",
       "QcO4H6s64MYJEQ9+BNpU6lEGobZBgpulTUi0Jb2YxFQk/FQ3aDp3IVPXO/OBAVN1RKLmFHYZLFzL\n",
       "VJfb4k58W7qrNeWlExd2sLxcJTlusraE405jfAtgJtOGBuHhmAQ3tpJrS3oxialIuMuqsVmltkrT\n",
       "vntLdw6SWbshmsXCtUz1FRsRFbWfSXcXuerLExd34qqrEKImF5PLLLRNgYsiVBsahPA8g04h5rvl\n",
       "2pJeTGIqEqZcBeq2e9imBO5nsiiMuVFTNJZ9FMz9AzEgLoJbaM21TDVLnKldv7iotwKTrs3utYSQ\n",
       "2hQJuzNGYPEg1YbQKHKrVUSlz46mLQlhCb0JMWmlylSklSr0qLAo8sA9iZFXmEAncD+buxqwG15F\n",
       "d/1Wwdw/YAPSuIUYYFlkKsOxCJlqq0lhaNJKMBlboihXkjXc4SKcXSfaUPiOvCl41uHWtKXIVCYs\n",
       "VdAnISbNrTIVaW41teQGmN8RmarcdMXZqklmCVXPIaAu70au+gE8hjY5DGxAnlFuQZVpqUxlOBYh\n",
       "U32Cb+2S6v9xK/8FieA2TRaqmJOXMBsx+k7qxaQqU5H4ODxpHXfj2dR3Cagn8ZdtECyQOwj3H+St\n",
       "QAzIM8otqDItl6n0xyJkKjGy7qqPZ9wP23PzXOS9Voo7sg+a6qv2uIm2tNawC01MIqNLrCLxYeZa\n",
       "Ge50RzudfMCd/KaNL5I7aIWaKKHxVaKUOJUYkGdUWCwU2fVmmUp/LFymSorrNFyzxU3ky3S9RbSV\n",
       "PuniIy/yJoXeFtzJXUeKmwlC1k9MMMIqUlryW3FeDydr9LnEcbfmMMQzWiUG9BnlFlSZlspUdZlM\n",
       "tVrsuKdoi5tkbWTUFuHONIkUj7jIm8xkWXAf/8RjMbL7eQeAMaY24cYGXHumJ2JSph1lquniY1vD\n",
       "FjfJyVrZKl++Rb74KIq8X5DhDu053rhNSpl+8oH0D8esxUbs+26ccflyq3Ab5Z43envpvXkURd6P\n",
       "yHBnRlqL+zg2dmc3xb11YOCJVkVsCcOO53OfdBRF3vhlwc0Kp/yAO3nYHncbGhzWxnifbnNtgjld\n",
       "obkiMrs9FHnrDXCRN35ZcPfkfINb2Wv8nnqPtJyGO1qgiX2G5qYkzGDDxEuPuTbxuq7QPCqOwlzk\n",
       "3bzq11AFjid28cuCu6vqG9zQa/90h3PwtOWcXZSEGW0oD6+5NrhgiRea6zJHTEXeNlW/rAqcObIS\n",
       "fVlw3wz+wb25Yi+zlHST4+5KwiQ2FLfXXJtAXhSaw1zsdGioZirytqsLpAYs5h2hLwvuD/kId3/W\n",
       "Hvcmg7bmpiRMYkNxe821CZA+gNHSjQY9FHlTA3vc4cM+wp0pyfruIsf9i0gR3JSE8VQZmQ3B7TnX\n",
       "hlSfarQCYmTqocibGNBsJGIWljjz6AEf4U7vsX+64/flwU1JGE+V0dkYcXvOtcGhGi80D3Ev5KXI\n",
       "mxjQbKSmoVpbzke4ZX+bRo87eT6Ai5IwkSojbEy4PefaoFGTKDQnDzNXRSxF3sbabvyBvmEDko1E\n",
       "i7zxy4x7e8FPuJ9XbXGTvtNFSRhPldHZGHGjqMlbrg3CKArN4dEf0j3Ki7xJSTep7eZF3qTumxjg\n",
       "bCRa5I1fZtzsLw35BHegZo/7rwBuSsJ4qoywEfPwBLf3XBujiHrFXUxE1VYwFHknrXftOtZ702wk\n",
       "klpJ/mqzEXd4j69wSwvcdbjJlZWWhMlTZYSNmIcnuL3n2myxP3CtyBsPpmXiTQ2oAc1GajZFksn5\n",
       "Cjf82xm3vCSsSaqMsOHz8KxX95prE7eXW1mRN6n6ZalchvE7WkoMaDZSswnQ36j+wt1TccTdpCRM\n",
       "niojbPg8vKZyesy1UfpsD5wVedNmTcHAeQU6A3zvxCXpDaeDv3CnS464m5SESVNl9PKYNg+vYfOa\n",
       "azOWyUtvspcJt/hXUz7BDdc64m5SEiZNlZE1DbfXXJtj0oy4XwdPuCfBv3zNNMtG7R2rPHND3omH\n",
       "XJtj0Wb36nFrVWMu/+WrMjTx/+WrUgDftgS798JDQ+v+BypRc/mGE4s7AAAAAElFTkSuQmCC\n",
       "\" style=\"display:inline;vertical-align:middle;\" /></a></dd>"
      ],
      "text/plain": [
       "<IPython.core.display.HTML object>"
      ]
     },
     "metadata": {},
     "output_type": "display_data"
    },
    {
     "data": {
      "text/html": [
       "<h4>proveit.logic.sets.subtraction</h4>"
      ],
      "text/plain": [
       "<IPython.core.display.HTML object>"
      ]
     },
     "metadata": {},
     "output_type": "display_data"
    },
    {
     "data": {
      "text/html": [
       "<dt><a class=\"ProveItLink\" href=\"../subtraction/_theory_nbs_/axioms.ipynb#difference_def\">proveit.logic.sets.subtraction.difference_def</a></dt><dd><a class=\"ProveItLink\" href=\"../subtraction/__pv_it/axioms/c93e4bdf91cac3b41b97d3e742a6faba2698054a0/expr.ipynb\"><img src=\"data:image/png;base64,iVBORw0KGgoAAAANSUhEUgAAAZ8AAAAWCAMAAAAo9GECAAAAQlBMVEX///9jY2MJCQkNDQ0rKysP\n",
       "Dw8WFhYQEBCIiIhmZma6urrMzMxUVFQiIiJERETc3Nzu7u6qqqp2dnaYmJgyMjIAAADRR/RZAAAA\n",
       "AXRSTlMAQObYZgAABC1JREFUaN7tWcmipCAMdFYB2Zf//9URECWAIjr95jIcurptSaoEkoDT9L99\n",
       "ZVv+mWdhIA51etaUgPgRii2HzxWx+2oi2v1/8+pZSQ5xqNM2t2y3g6HOUYwp58T/pJsUKj5GEVLr\n",
       "OurYXuiAmoBapbutfDM+VkAc6rT9cje6zPEBYOcjhdwem7QfowipVY7EpaKqYTKgJqBIAy74m+Ex\n",
       "GOJQp+2Xdf0Zsri4yokLfTWKlxP+dYoltdKRxReKuuGtoyZgWjbHQnrSmIDYVMnZ2mzdKc4WhV1/\n",
       "YqPtHuOCBjlvnecPUSypFY4WzmTLx4nt37+g7Y6agEZL3wR7VRwwiK2Zz5Fsd9ror2xJ1xGfN+bb\n",
       "c7FbF0s+QrGmBh1RgtCpoto2F2NqAjruG9NvxgdhiBIhKgjKooGs0xvKgwGRk3L9CsWFBLswmlY9\n",
       "hviXKdbUgCOfIVjDx4ntKnv11ASkoSbnpysz/4dwh/VacJQ3cwNQroNtGJqy1dyofHg2HJL4aNzN\n",
       "IoujxiDO1JEZIHpRNmv4HcWamsmfsc8JeV7o2EZoUE1Agi8rIAOijgkrUpfhPrnYUK/zQa8plRyK\n",
       "G9UHy5R5H8L1F0EM2HJOdapiEC/SzxOKNTXgyH8XtvJxZrtcn101Ef0HOgstEoOog4MpVVZaMwHo\n",
       "/+VwbzPvU7rqFPYFeN0HOJ7Fg6wtZcBelak0BSFeFOZPKNbUckcmrAe6lD5ObP/8UdjuqomozcW+\n",
       "VkuWz2oWKGF7LT7EVrCYW9V7dnP8Ntt76ccrQi/H5x7FmlruKGb1bM95bbuqkLtqIq4rNPnQCC8o\n",
       "mxDTgsBMkGEjhapEWgSPYBoeNc1X8S31nrvpZ1vLNAVdwiCW+Ye+o1hTyxwpXO5Jr22zYTUbckHj\n",
       "DWsJSO3EsoSz6sOZXeLQmtDoaarfUMl1TkR7e2BE5/WBUDcPENJ+YdnDTaM+OCtznlCsqWWO0rgo\n",
       "XPho2yZ4WM2GKg3BOuYWJCKjpuhqn5vBcBUNYWFI1njKXXFWyNRZp33XwHsbVBtnMZl5Uo41xPP2\n",
       "iGJN7XC0cBjnerbpMqwmYRYswSOSFmvNs2KAhw7ClULggpQUIYkwPHCVlBPZ6CS5cyFeqvULu6rg\n",
       "qE3HiYf7VDvY7sH9A4otaocjuoeZvW6+tP0dyr+jJqGRU5b+DqlYhtE4LsSBIfU8v3N4QjS/ON95\n",
       "dmrOIL4936konjncC4cUd7q2zbee7UpNqUq4EMC0rzf8yJA4A3waixdEWEpi1p84H33Svuh8tHY4\n",
       "roiLYTWlM0kN0cjvrpZZ+ZjLQ2nomIkXNHN+L8DJhXs+sib4ywU09n7hEcW2w3FFN146Nd8vnDXV\n",
       "vdD2/+L93Hgbe+Iv3s/dnlCntpEZVnPlrHqT2321+w/ebxsBcfoExZbDB4r4sJpLZ6Z74X/7ivYH\n",
       "3sdS30T0azsAAAAASUVORK5CYII=\n",
       "\" style=\"display:inline;vertical-align:middle;\" /></a></dd>"
      ],
      "text/plain": [
       "<IPython.core.display.HTML object>"
      ]
     },
     "metadata": {},
     "output_type": "display_data"
    },
    {
     "data": {
      "text/html": [
       "<h4>proveit.logic.sets.comprehension</h4>"
      ],
      "text/plain": [
       "<IPython.core.display.HTML object>"
      ]
     },
     "metadata": {},
     "output_type": "display_data"
    },
    {
     "data": {
      "text/html": [
       "<dt><a class=\"ProveItLink\" href=\"../comprehension/_theory_nbs_/axioms.ipynb#comprehension_def\">proveit.logic.sets.comprehension.comprehension_def</a></dt><dd><a class=\"ProveItLink\" href=\"../comprehension/__pv_it/axioms/31d5de131e6a5e1e9d3d1b92a5eb5a7668ad0d1b0/expr.ipynb\"><img src=\"data:image/png;base64,iVBORw0KGgoAAAANSUhEUgAAAu0AAABABAMAAABcjVRNAAAAMFBMVEX///8QEBCIiIhmZma6urrM\n",
       "zMxUVFQiIiJERETc3Nzu7u6qqqp2dnaYmJgyMjIAAAAcRTyBAAAAAXRSTlMAQObYZgAADcZJREFU\n",
       "eNrtnH+QHEUVx9/+vp3dvbuiEi0C6nJXQArBnIkIyCXZQBWHUHKbWIUUlTJLygShKFh+eRCFXOUP\n",
       "uICQjaggFt4QNCBKbhVODAGzJKgUhMpqQLD4tWjQUhHOhARyRzj7dc+Pnu6emdu75eZqtat2d2bu\n",
       "bc/0Z3pe93v9vQUIuLwKzVq0wtS+Hx0f/7BhF/NHYT9ca1rucJ6wf6bxuWF8vDwR7mPbHmnUpaSK\n",
       "woElevNyDwsdviXLPs/dtn1C3Ecadykb88KzOBuauPxbaOwscys03dyvEvbjhWbmvlF4mJeUAuKe\n",
       "Fr35ilIzcxd7VaQWEPfBnHDgb82MHWKjgqMZC4j7gLCfPNTU3OEvwv6TwXBPiZgjbrPIzMIpnurC\n",
       "KffV+Q2Yaf1B2B/KBsK9tV84EMq6hBxvcc9EtZ5TbDU+nxKO31NX/8BRJ9qAqZboV9OjgXBfISIc\n",
       "zLt0d3ZKbf5pAA/UN5SVnNy1zl346Gj9ddVyCb4tmnqDQxXBrx4OhPsV4oHX3eY9LLyKP0sGon/U\n",
       "F5zXnNx/n4c4Yd5a37xpC/1qAyY0oh99Owju2kHxyCne3IfOyUGmq76T7HBw30Iarh0NsKfO+W62\n",
       "MdzDIrp5pQC4Z94Vj1wnGNzcdyPPfTt5Jeqc4d/r4P6Gzh6z6+vsIe2N4S5NJIYqAXBvkSra75xC\n",
       "rNOd/R1bfme9Y3eO456m/nR3KVmss5a9jeEeGxOvrj0A7m3S4LYP3zYd990T6bxmi+70M3s+vgCg\n",
       "E8fGrBRyO7snZ5Du4rgP0noW58Lk4Kb5kJzjdXm8wU5usj0Vz3pYdGAHAuDeW1FdllbJXJWoWbMI\n",
       "fjzC23IbudhoO8zzdMecQabGcd9N7+eGfAuZSFWWyO7WUXiD1zwG/XrKPpHlvgC47xazBHRaldbT\n",
       "o1HqxO3H4Rd0fpnEzvFNgB+S8GoAYu5TQWZguNQix30trWccEmVIlhdBSz9c4FqJYcDKo+gTuqbe\n",
       "5A/EnvZ+ANzf0VXuTzNbG/vk26Tg1gVsGEzhiWcB6CS82hdb4O6jqYFZ5wjHfRzPmDoIoRw5zRHQ\n",
       "lv3yKe4+gRqYkQa+XZydcpP3iweuDID7ey7DjtHapN2hl+QtL4856149dgCiHmMjNVBwp61MjCJ3\n",
       "iI7Cijz0eLSTGtjcWwvQeO5XlKade/J9AGX4Zra23fbv9Ba0FJifIZFjuN2TOzUwrpb3MxfROXMW\n",
       "/Qzmgo4BL+7MgJUetX9fvuuJvO8cZtezL1jPkOhnYF512rmnpJuvoXNI6fMgTD3QfCFuotkbMq7C\n",
       "TXgLvLijQWbhsk5xXF2hbzo2Rk6L4yqp4iZP7tRgzwsdXca4Ks9nol00pPAuZzL/6MgLcBF6Zdq5\n",
       "h/cph53e8gYja5UoO7kP5YwZ3eeht0q5a7jAPlQTN6hBZkk1RB7iSIXjHs5W09hSnFxGCtHDjLtc\n",
       "AX2jBs9/Ao4k293i/F17fEEVEjq0eLXwZzsXAqzhJgjS/B16CwZ32j1e9ePub+VfItJFwMfIa3PH\n",
       "poUsX6Z9/RwH917zid/csbjE+nsfeTASeOnfAGMDj1CDu4+HNrLdmufj1QsvO3495Nk9W9l5iFWX\n",
       "WMNXgBu0FjRIbioC5gzfFLm/tPVBMhCVIOUVj996N6mGnMTqP1EpQh+sGdyfxc9/+nH3t5pAkki6\n",
       "CLhdONPTjjzB02DlCRYZjjslhU/GEWKwEpaQjfudeTGI5zMlI0+A2X7qZx4DdS3EIJ4lsQBoRYP7\n",
       "GQXsv9TD4Eh7dE6B5zh8DpiHoakJLgWdGZVix3aD+13OmYQLd3+rCUTw8uKSW0iYJleXKtDl+EwX\n",
       "iaK0dw3uadmUhlloMBu6Y2JejHjtrrOB5sUup36Lcq8oa6EGoXykkrfzYpXRWDtcSq6dPZCf/U8O\n",
       "4sKtT7fpS9kWG1nu+9QsRzucJTRicG8l1aTLftz9rfxLSLr5sN0l+sf8e+IW1o71kKii8oQGRJvk\n",
       "6B6fCTRIjsA1w1IeGCLjOMNsKcENsM4IiLSsshZqMAiJc/MsD0weoeSPi+H+5XMITMPu+8XYk8I1\n",
       "390Dc9ldMeKs5MV2VyuoIRDumWcefPBO33HV32oC6Rl5fB5yW0t6i5yyk2UiH4Box8mkNaccJLhk\n",
       "ezxCDaIFOLGKgJ3cY1did9H64YxO4vnvWLuS1AzKWqjBWRB+Du81qQ+7baQSz6Kn+crAwEBWy4M2\n",
       "YjoVu3QTD0fPdN3AwDr4CWmVR/sSh8z5zPsDA9/yn8/4Wk2Ke4tbaJKy11frW+f7s/F5rHC8rnU+\n",
       "HBHY+moiF8oj9zi9qDLECjL3a2B25vRXie+ijdkGcD7seeIV9jyX3LmvYrdXyhI5uRtWysCBjxQg\n",
       "3L3TuLDuqi/3TDvM7JLI99KZYRpbHemHB3TK/S49eYv5BtdGR1JzgXjB3+I3TgXtFvhlf8Ic7cVB\n",
       "7oDJ/UzLJzpKl5M7s1IHDo5IYS/EWDI13VHx5a6NzXDu0ZW3U+5wK3K/Y9cXgHJfWo4dCUtL+FaG\n",
       "s+bWYBVm7VrQo52G/S6eZ/m3o+Qn3OKegDDfMWNXPwXHFCTuzEodOPCRwsYSRjH0zopzriFF5/7M\n",
       "DOf+U4yXkXuY+HfjEcDH2Z5ilLUSiYaL4efJ9tyBdYYNnIStD8stbnnX5J6uJhwB16/TekSXuDMr\n",
       "deDARwo3gKkaadMnwD2Un9ncL4vWYNl+fiIXm3e6IfRgA1EpXjkPtELqOf5rm+Fx7Muhqgf3ZO18\n",
       "R8D1RLYrDTsXXL2gzHNnVsrAgY8U6B2mSxCZDXRo3HHycSbaIUW+IVOb2dy/tEs98HJb0Vcqbt9W\n",
       "PM02d1j/NdRnYVKJBlzDw99Jy/6dWqkDBz5SoBNWNpq8RO+Dfnki5+7fAdZB85bkkeAxrsLDZChm\n",
       "SSXa+YbTDy1XcH+46BY48JFCG977o+nmAvpUchpwJff7883L/f6yJ3dcdqBJJRZwDUNlp4I7WqkD\n",
       "Bz5SwNStMTm8zXL+XtyT1zcv99tUE1ObewY5YlKJBVzDcE9CwR2t1IEDHynECw+VNzLHwuSFsZGY\n",
       "R56AlO81LXZNNRbacRMYlLpjLOAahugy8pEXuAMfONhRA3mzI4W7dG129uW9uAHaKH4MpmtWKisx\n",
       "6nWVF/c1378g9PRVXPNixuNOk0o04CIT0VfkPAHjbgYOsaOMqKFEtuxIgQQR9317NZRwA9OHS8ub\n",
       "n9/xjDNkcCvFZuzyyYI6WWJxN5JKZDd6Y45lIxTc7cDBnsWn+EgBqzsfEyplpmt0DCyRsf9zh6Gi\n",
       "08+wYgVcHtxp4LDV2t3KRQo0nBh8QycbrX/K8+EFnVMe9uae/AEpwSGqTv6vUlavZLRd5r6iX8Xd\n",
       "PR+pyJuKW0Y40XINbqQ7QEy4pj7w5h5ZvXr1RXpQ3F1l9pMQ4VPl2yVK7tu7psR9MiV20N/PxAMb\n",
       "XF1l9pMQ4dN1ky1K7gHoOODDGczdXWY/GRE+rhPiS+a+OD/93NfOYO7uMvvJiPBRP48vmfs7MP3c\n",
       "F+dnLnf3RczJiPCpfn6vivt7AXDfXp127kmfv1s9AaVmWsclZ+wQLSYlwqdqq50K7rH9AXAfEq4i\n",
       "/TYtXQb3dF9f31qRu2MN0a3wq49REySGeArFhrM8wudSfg4vZm8Ur8spwvcQgztU+q+xl8Q9PBYA\n",
       "90Sx/v7OryG6XiC/+mish/0oB0t1/8cnYhqg/PUZ2K1/UXpieBG+lxicF+FTucijCu7xkQC4pw/V\n",
       "xV1SG6oebkm2yLYw9R0pwHLfAdAEgysIuvR//CCI8L3EsczADI/YS+Ie6g+Ae3JfPdxltaGiyLJF\n",
       "xj1RpfnoVROets+yfIrYWSYjwnfl3lsNgDv8XenfCw7ultxQVhtaF2QpEhWyRcYdhezhEVKpbaus\n",
       "AE7i/AwY3BzXVZ8I3xCDUzlgj4L7FXoQ3F/P+/d3KjfEpcQaPUDXEC8V7pelSORki07u+PsqkVqy\n",
       "CFZ16grgV9y4+hi5UyeI10W8Rz0ifCYGdx1XjX8BmGbubRV/7ig3xKVETm24XPj3R0uRyMkWBe6Y\n",
       "CgpVov1gVudSAZxtT/yiYy0jcv7LT4Rv7VEDQwxO9fPdMvfMgUC4p+d4cW8l88grdSo3xBQ/pzZc\n",
       "I9iaikRetujkfgSgnCRaALM6lwrgq8ZnD+rfT+iUJf5+InwmpF9jGjAxONXPvylzb60Fwt1Y8fbo\n",
       "70DlhhQUvWS6hihxtxSJtmyR7VvcV2svJ2fR2bZZnboCOMsvTzAhEb6hqF9kisFRP48vkXtvPhju\n",
       "r+v+3K+NsqVzW22I3O2VRV6RaMsW2b7F/d5lmd/kaNPN6tSSRmtpzSXzJYrwU2oRPsZn1ICt27nm\n",
       "xf4KwXBvrfhzR7khgrLVhsjdXlnkFYmcbHGVEUoy7tqpvysk6RfN6tSSRvicedr16lDPKcJnYnBZ\n",
       "hI+KemrA1u3c8sCpOQFxjx3y5U7lhtQx2Itf6GfsGTqvSLRli2zfileJ67kH4NNcdWpJY808qF7Z\n",
       "EET4rMhpJlzg4QzoTVwvc7d0e9P++5Ev+nJHuSFdSrQLFShaK4tqRaK1b3JPfjgHd6zq1JLGlMWw\n",
       "ket8qJ/PKNb5VkNQ3ONdftzd5IZVu295KBJt7nAzmQBGq5atWtJ430ebXXZyzxTr497I32X+l9sf\n",
       "+hqkn4k49rb6WJ/wkWLv6XNw32i0cIK/y6xta9zvMuOE/H+2mGKJc7dt0/8LGh++aYYYp0oAAAAA\n",
       "SUVORK5CYII=\n",
       "\" style=\"display:inline;vertical-align:middle;\" /></a></dd>"
      ],
      "text/plain": [
       "<IPython.core.display.HTML object>"
      ]
     },
     "metadata": {},
     "output_type": "display_data"
    },
    {
     "data": {
      "text/html": [
       "<h4>proveit.logic.sets.power_set</h4>"
      ],
      "text/plain": [
       "<IPython.core.display.HTML object>"
      ]
     },
     "metadata": {},
     "output_type": "display_data"
    },
    {
     "data": {
      "text/html": [
       "<dt><a class=\"ProveItLink\" href=\"../power_set/_theory_nbs_/axioms.ipynb#power_set_def\">proveit.logic.sets.power_set.power_set_def</a></dt><dd><a class=\"ProveItLink\" href=\"../power_set/__pv_it/axioms/253de81970440c0a17267267b015bbc8a7cf0cf90/expr.ipynb\"><img src=\"data:image/png;base64,iVBORw0KGgoAAAANSUhEUgAAAQAAAAAVBAMAAABbMC3JAAAAMFBMVEX///8QEBCIiIhmZma6urrM\n",
       "zMxUVFQiIiJERETc3Nzu7u6qqqp2dnaYmJgyMjIAAAAcRTyBAAAAAXRSTlMAQObYZgAAAyNJREFU\n",
       "SMfFVjFoFEEU/eR2c3dzu2cKKxE9FFIJOZU0GiGQQkjj2VgJBtRoGjm12EIJwcacoB4oJo24pogh\n",
       "xXGQQizEI6KGmOKKIIgYtlBBUTkLRSNJnJn/d2f2du+MlQ/e7dz8/2b//v93ZgFaIl1HtnWQyJSR\n",
       "LR3i8IiEnvjzNs5jhtgM+/z4utPrG+eWasswwgcj8SvEQog6yyh6KSY+xXl9JEaQMmudA3U0puow\n",
       "04AKH1XiV1Bxn3Ecp4ALCBHzUDQpUjUW96B5ZEwARt3IldC4nzt5YOVAMrqCKsdnVSMUzYMUZV1+\n",
       "qcbcJllGagtedUYpgHTtjTSy7wBGDlgXSEZXCJBVf0h0H6TIXpydnYh7zgliAPOKG2TA5IUXRmON\n",
       "z/O8vgNkZIUAB9WQRNl+FP0cH78cF8Bu4lT37T0yuxVXlSBTvyaNbOOZnHpKjKwQqItqnkRWHkWn\n",
       "AUrKeHzpMTYKXEeymn0hKV+VEa0HKisF6QA9Gz9EbleIYH2VyEOTOj2kRYYi20PRAMh+pOzk4QkN\n",
       "LyEt11o1ZP3GVACjH3LoAOzVzm388pAYgq5mep+jKFNEURI61H6RdCFFw61IBinUmjvEo1EGfAeO\n",
       "xG/+c4IYgq7WS0Ais4Eiq55Uhi1lyIQD4HP4fqW1DAQB1Pg92gUQqOVLRyCRH0DaOybsvd2i9tnt\n",
       "/RAuAfehpuhqCoAbGa+sucrHh4l+DwxBszobvOq+yCiSqHQKoMM9lxS3Znu/+RFQE2bcHm4VE/ua\n",
       "AhBGHlSipjehjpCaDQ/6JweJ/CaEOR6JCV/IfMcvFr1ZR6o34S72R1VtxeSQuAjwXIz7iCGE1GAu\n",
       "0Fbsi2TkfUGVfskwC8AaJKesTu+aOoRNys4O0mF0Y91FY8I4OSzDek8MIaTWGpBE2QKJbLGa2TBF\n",
       "dqpgDrXcio0F3IqjOy0rIttsxVE8AE10z/IsmHQTYzDj/vUwip41mziMoqDDCDG9PL8IR6uJW0sH\n",
       "AocShPbIKJSxxXGsq184TnAcY9a8qKi6qQ+SmO+NFrG2VafKEVHTV9XmP8nsMvKfPsleQ0Rkw3/A\n",
       "H0UhDH9st8JNAAAAAElFTkSuQmCC\n",
       "\" style=\"display:inline;vertical-align:middle;\" /></a></dd>"
      ],
      "text/plain": [
       "<IPython.core.display.HTML object>"
      ]
     },
     "metadata": {},
     "output_type": "display_data"
    },
    {
     "data": {
      "text/html": [
       "<h4>proveit.logic.sets.disjointness</h4>"
      ],
      "text/plain": [
       "<IPython.core.display.HTML object>"
      ]
     },
     "metadata": {},
     "output_type": "display_data"
    },
    {
     "data": {
      "text/html": [
       "<dt><a class=\"ProveItLink\" href=\"../disjointness/_theory_nbs_/axioms.ipynb#vacuously_disjoint\">proveit.logic.sets.disjointness.vacuously_disjoint</a></dt><dd><a class=\"ProveItLink\" href=\"../disjointness/__pv_it/axioms/d5a48997ca2fbdc3c926129bede975e15b8a170a0/expr.ipynb\"><img src=\"data:image/png;base64,iVBORw0KGgoAAAANSUhEUgAAAFEAAAAUBAMAAAAHNMzaAAAAMFBMVEX///8iIiJUVFSYmJhmZmZE\n",
       "REQQEBCIiIh2dnbc3NwyMjKqqqq6urrMzMzu7u4AAAB+UOZAAAAAAXRSTlMAQObYZgAAAaBJREFU\n",
       "KM+NkrtLw1AUxr/YpG2iiRl06FZ0cvAxCNUtm4OCRVDQxUE3FYKLiAgRh6o4FNRVgn9BHBx00Umd\n",
       "pHQRRFFBxUVa1PqASD03N/FR4uPATe738eOec+49AHB3hN9jBdt8s+NCHuHbuQvvF0geWhpVWe67\n",
       "UF+42cqdQAJ7tJQsNJtL98e8mkGfdlqZv8gIIxO0bgJSPuN1nPp1nvnkLpGyziqgMm4zsy7W7qHO\n",
       "pOzYsIPbqWUmT0aPJ81Ib103YuzcuAFtDHHKvoFrQEetoyYgmSRRb8qvEIiS2lgZNiSb9Y4+7F/A\n",
       "JFKwoL6RxADw4JGCQ2S1joIFzSOF0jSIPCf/hZFDwLNHRtlNqUWcmz6pLZUNInfJLzGyv5IsBOQ6\n",
       "Iq5/5uMXMsaz1+hQ0n6dB0AjkVEDqvtBKknxoyN5HOIz86mjQdb7BBSLYR4p2iK7IEC0gKv52adk\n",
       "vtxymOrYIxKrCz0gmS83bz0l0bDIEtPN5yper9YJeVL2mpffrZq2Qi6E/DIhQUjFzbAxkT6nLgi1\n",
       "qyl09NIM/lesoBN4B5bmgniv4p3TAAAAAElFTkSuQmCC\n",
       "\" style=\"display:inline;vertical-align:middle;\" /></a></dd>"
      ],
      "text/plain": [
       "<IPython.core.display.HTML object>"
      ]
     },
     "metadata": {},
     "output_type": "display_data"
    },
    {
     "data": {
      "text/html": [
       "<dt><a class=\"ProveItLink\" href=\"../disjointness/_theory_nbs_/axioms.ipynb#disjoint_pair_def\">proveit.logic.sets.disjointness.disjoint_pair_def</a></dt><dd><a class=\"ProveItLink\" href=\"../disjointness/__pv_it/axioms/0c32137f24da5649a3febff6ac329f0d7c462c280/expr.ipynb\"><img src=\"data:image/png;base64,iVBORw0KGgoAAAANSUhEUgAAAV8AAAAWBAMAAACVu4KiAAAAMFBMVEX///8QEBCIiIhmZma6urrM\n",
       "zMxUVFQiIiJERETc3Nzu7u6qqqp2dnaYmJgyMjIAAAAcRTyBAAAAAXRSTlMAQObYZgAABONJREFU\n",
       "SMfVV1toHFUY/rKzk81MdjYB6wVqy6DUK2kXIxVUcKsPlmDpKm0ezYJW0mppJNI2XiAFSXfrJQuC\n",
       "hkrpliJKKG6gD2l9sEsq9B6WFBTxwkK10j7YNrsJ29i4nv+cOXPZnckWX8QfZnfO+f/vnO+c/3LO\n",
       "AP8LabtNO63Ifr7oaWJ1wL/7eKDxgSWHa8S1T51Ge9ZSlajnlwDsV/TzbQXaCtE+lRPrWOE20of5\n",
       "n1qSHd/XXlmbTqA16zMiGTcAmuGmsBrYyl5IdY56rgYQvsLpVaDeEu0dYizZBBLsiYnO2HUbdg+g\n",
       "zEEv+YxIxnUAPdcEpw1gxMTXZMpUY9Qz7M/XiPO/SqD3dDK4KN5/XZC96iIQLtPGNMrFBsD63Xvf\n",
       "XxrHaLw1gKjJ9xoxtr7ohD+fSLYJYb6iIcH96E3ZG2JvxixwSO4qe3qt96F6QDTDlHFfnJ1xZvjJ\n",
       "Beid4Crj7Pj4ZwF8rH4Ww5uFbzZZMbzZMjgR5w7j3EP2utrY0IfeZkQTot1FfUnp3ToA3+7XfXFS\n",
       "WopKzxzwG4Sqmk6/G0D4fvYcmVpVwdg81EdnSqHRCRy57ztqvnzHSw+YxjODTyEktqenfVHCOlJQ\n",
       "d5LjhEalgNNFmpCxF7CPfsb8cLZ0TETIyychVFuADO8Xv+vLJ/tlmn7EJlqOKDO+TAVjgEHVIeYh\n",
       "1sRuU7uJCMO3FbmDE+qsnKBv+8xeCjJDZM+Ld+9ispI7h4y9AL7dER/c9J8klzjhMfzFYt5SPWel\n",
       "pSFcanQi2mnN/A4bvURVAiNYl4NJay1AnWNN7AEWOeEIT4AwtLIkvCYL/S4qn5xMaJvY5w84s4l6\n",
       "gIuwF+fa4WIXEZ60VBGE+JIPC5cqKbTLfF8G5AvQOeFI9WFaax+b7RYR/hiY5YRbeMT1dq+tygn2\n",
       "0OTMTqW6pe+UGUyRQcZegIuwB+eJ4asUEn0QqmhRmJ8dFOOaUEoO4T7TIqxP1+KM8AmKeiKc9hJm\n",
       "PyvlBPM0sSkn/rQgisIb8BCWABdhL85VrB4p6XMOYa3ES45qprk2n8TqnBMSeUl4P8WM2OGyi3BI\n",
       "eLidPW+6yjB2MEJh4dofeDD+kfSEhA1wCNfhRAxfpvPtXIGIPg9LlXmV9K14gg+/seuhFJykiw1b\n",
       "MfwssJ0RbolDrdiEYylF5NDn7LnmKsNq1Uk6Xqz1K/AknQ1wCNfjnGo/kjSGnaTDUY75CWu4dhp4\n",
       "UFqyQqItgzJL9FjSZahK3IlYgdhywkpJ4ZWGl9bRLPI0Xozl7DqqVooIBtCGKOJsImM3wE24AWfL\n",
       "Ll5/n5aqDjrz9EvnR3kkfAgclAcfOeHwhVU3Ur21bS/M/JxghPHJ+cfBmr21LcdupPDaGfKSPvp3\n",
       "Dsdqg4iwst96bb67n5eEmDgs+C1AVFruUjfARbgRZ8vkfjqtf5cqg4gqORzkdqx+bMx6j2Z3Cfc5\n",
       "XoZc79+4FV/Kywt7xhuOZkt4hTLgh7PlwgZGRB/wqDZQudP2QVuAdm/d5UdKuJhPBtxnpBS8t8Il\n",
       "Lz+B0oDj2yQvP9bxX4U2+p66HKfK3f3OUZ7xXkKuT/p+DTh+0E33Va4UYNyWXZKvLw729dJ7tfe7\n",
       "wNuiPrYVAXdy6ZKAhfhe4AM/h/zXk/FTHff7RGoqAV88P/7LTyR/nJH1U90Wv/9W/gEsVqIFAFbL\n",
       "0AAAAABJRU5ErkJggg==\n",
       "\" style=\"display:inline;vertical-align:middle;\" /></a></dd>"
      ],
      "text/plain": [
       "<IPython.core.display.HTML object>"
      ]
     },
     "metadata": {},
     "output_type": "display_data"
    },
    {
     "data": {
      "text/html": [
       "<dt><a class=\"ProveItLink\" href=\"../disjointness/_theory_nbs_/axioms.ipynb#disjoint_induction\">proveit.logic.sets.disjointness.disjoint_induction</a></dt><dd><a class=\"ProveItLink\" href=\"../disjointness/__pv_it/axioms/8df63f0dbd46f74f734aeece815cf97c8c84538d0/expr.ipynb\"><img src=\"data:image/png;base64,iVBORw0KGgoAAAANSUhEUgAAAvwAAAAyBAMAAADSCxJRAAAAMFBMVEX///8QEBCIiIhmZma6urrM\n",
       "zMxUVFQiIiJERETc3Nzu7u6qqqp2dnaYmJgyMjIAAAAcRTyBAAAAAXRSTlMAQObYZgAADA9JREFU\n",
       "eNrtnH+QE+UZx59Lskl2N5ujI2DlWk1RKQ7VS3uCHbl60U6HGaeWgAp2cMgOlP5gbC+UaU9QS0qt\n",
       "HNZ6QUc86dQLRQUpc5f2/lA7WCLaacuPEqGd2hZKrNYpTEfguF9waPr+2N28++5mc5rbTJzyzlx2\n",
       "37139/b97Ps+z/N+98kBOJcrihegqhKKwcViLpJKt4eKZyo1bXpqS3V/68BF3JbyFbp5/qlfVWo5\n",
       "pcq/5FHN9WdvrXDCz6vunJyud/xKQdtZ4DZ+/vn+dhDET9Ld32fIRq9qEzNFNkKh8qWXWnrVPtzy\n",
       "zQcBvlX3w/+RGuGXJnMHxEEQNG/STkepYDgX7CXC9GD4dOVrn7IcaUDPri0OvXWPf2usNviDUf7I\n",
       "YPlHhdseofv/PF95Bp/K8IcSeYD5UQhF6h2/PKk2+Pdkxo9fwfjX0CfRf67ipX/ZZrHxzejI8QhI\n",
       "WucAWTBBrUv+99cG/2qw4hfvpGboDs3236k/KoRfTNIn4RmseOl8syWk/SF6cJeiq76tuX00GeDH\n",
       "dYl/T7oW+BVuEO/ae/UgdA+DMOtwwdOVhV3TX8PVpZcsnBFR2lbPBQ81VrfK71W6tC+zJ88fGwZY\n",
       "vBJtX6XVu/BHb6Ye8QeitcAfSJmtexOE0LB+B3YAJKExK6yBYARV4d6IeI7cUpAglWLCgI6vXHkG\n",
       "EryJF4aPzbyPeA5a/VgHKqtO1mXoeb4W+BNm+xAs4MgHHoKbMxBB+AM5EIZQFVuN9wj+QJaMbBDP\n",
       "Atx+g9OlY9DDu3UPmmtbsa1/gVRn0HF/V7YeF74DtcD/WXO1LwcSwR8YvQYQ/gQicwHjfxRggOBv\n",
       "IM9rUcucUbSZ53BlYXlLe4oPs5DL9Yzhp45r23Wne289Dv93a4F/KjcZIhp+6U/FKMK/B8Eexfg7\n",
       "zfjRx+UV8PtQW35p1oiAewZ0/OI99OhzuXrE35x2H7/AOdA+Hf8WUAa10X+Wwe+hxkdGP6sq4Eft\n",
       "ApNA+cLCKz0z4kzY7x80TlR+8C4u36vL0Kcn7z5+Dxf4hFOa7b8F4NsIf0MUhEEDf1j1Utf7M21J\n",
       "64BfzJKVsXJzvmGlISvhEZVIGa6XLuF661MBalDdxx+cxEGbDN4BDBu53o048pkC4RxmT/B7C14I\n",
       "6bF/V5rgl97Hk6agfZRqT+Krn4Mtn4bGmDdHfwFvIpv0cexvW+mf82NLNrc+173BJMVPDOgxJ/wV\n",
       "Wjg9Yt45bjt49Rl1UXHllw8fjSH88PiB6wFVFxVXvHhGha//EXxJkLrez8CLxdV09HcgnAE8UsjH\n",
       "9/HOWoAdxZMgd41EYRnqATZYuNl3isvndJIw599aeIHuXEzVJ/7QaYp/P96cdMJfoYVD6Ys6/bbR\n",
       "LiJcw+xj/LJ11fQb0+3NhB6BayYltR00g6RMfeJXhij+bnAcIgh/hRZOYb+D9uXL98VtDh9h9nH4\n",
       "HrI2YSIZ8TQa/2+EuGb1L7mhqGSA4g+j4RHKOuGv0MJJ2XA4K3j6BdvDJU/5+LplAL+wrlgYuD4V\n",
       "TsDmfVyz+hecUS/OUvzKvp07n3R0vRVaOJTjcYfH/znbtyISN83y1mlrq7+xlY0fAfxYnyKRz2hn\n",
       "5/3OkY9zi4priw9Wqn/ZqKQ/CvhHNfwrHIcLxm+0sG8XZLvr62qdYzQ7lIGLpUy5XMP/RRKgsWVx\n",
       "a8wzlcGvt1DsRfjjJl3tdYBX9P22i/jLlks1/AH6WkK3vbtb8nJqH9zI4NdbbLMV4aU2k+Gdw7zi\n",
       "arcx+bHa9fAbHXVghuZ15MBjc3yVhj+UDzBH33hpJ8iHvUZ0h/HrLfattl1AbDdF998FuAnK419U\n",
       "w54n62KYiyoO0MriFwsIia5d+TBKeclXIyx+0gIN3Ein3eUXBtlgRRoCz0kH43Py/xE/HLQe7tA1\n",
       "n41fA0O7CuODcnzfX1j8pAWAH25AHxaiqpftpm/g8ENG5ZBl8ntJ0O5OrtVLbuGX7qjgw8S8/XGS\n",
       "8IXxBzJlXS/0o9vUtattFH8oFGXx95OO/AOaQXiFv5CS9bA5OaECeIxuN1vi/h5yuju5Vv60BT8Z\n",
       "TUq+SvzyqRhsohcJraWHNpmuuQNb7eID0Fv8iQaFSfjC+D1W9WWqjr8Rj0hNu1rc2dkZkeNiPsni\n",
       "Jy2ktw50ZazPsbf1D2xOTjAH4ph9TIQLfQnuTq6VEcClDfxksR6uOv7qiUGCmgO/JqEndOvgwx8n\n",
       "SE+yoKzUz2ASvjB+0dqTszp+JVPSrvx09MOXIix+0sKbgZ64Ff+NIA7BkZePLPmdrqP5DJV/jwV/\n",
       "E924k2u1V9u+ZeAnUlV31dansXy4hs0FSVCCRIGJK5iEL4wf7rP084KOn9WuQthcKDFQTLaflNvQ\n",
       "beQxfvFh6M7oH748fkv+60JDdjfqaAZbl0059ibMRvJ8JfzV5Fpt1WLbDRnD9mNPv99N/HikBMg9\n",
       "hIdE1bTe1xK+yNHPl5PcOO0KG695byOHyuMPjoLY9QDGLzTBgrRwGf5ogq4UdI/k/fHtcD26Wja0\n",
       "rmXOg6Xb5k2eMknH70auVZju+2+JGPiP7tz5fHIi8D9B3dgTWtCgVUHGNoQKYvLw5tIZTMIXwf8p\n",
       "iz8ZY/EbxYNsPy86sAUbH7l0Ef0o9EMyS97AmhrzvtOLD7iWa6XFC716yIM2jZ2dG3JVxj0Hpidi\n",
       "YpcKC1++DmaOgbT3M7gqvDl7+jI4MtKShStpwyseNglqesIXwT+ft9mhc7b47TQfds40z2UjPH3v\n",
       "ObgKlqUtmfVe3uPgJYJ7uVZa2vx+3dwg/P64WZL6EGVrFg7FIKyicAytPsdgcRrWoyoE1kNPmmRR\n",
       "/lQLs0u3wiZ8EfwJPgb0n/4w+OmMt9mj/edtDe870V27mGslJzXqTxv40TISRx9/HUkHR3UzdXfe\n",
       "IhSWiiEXCrO0nUdJ5BNUfdOweDCGs2MT8aCKX2QjX7i65FfbS2+22YQvgr+H9x70PazLiSZjvOmK\n",
       "uplrJZARpUTwmNeXXUm4lsYZxnfMxGllgmJOVfTnjBClD+OHdevRExvDfWrMYfwFHJBj/PQ7DN7N\n",
       "pd6yCV8Efx//13oi7uPn06wgHHUz14rix8GBauA/SB1BG/xZ0xNBLtgIhUYcWXI3tB0JUSj+XafQ\n",
       "bByT0b03pjD+lBn/bGG05KvVUsKX/eivRZoV6jVn+1U3c618hHS/vg4i4J+mj6JnVkzTEzWsnFCo\n",
       "F0ZV1PBLOn4xg2cMHf1RBn+EGh80u9al2YhbT/iitp83dRugBvjncw/dn3Iz14q63hPaI6D4g5vJ\n",
       "Lfjxeo/oiRpWs1BozB9GVdTww39024+MWh7Z/ktw5rCB/x2IUtd7FbJnUXZs6wlf9pFPTVJsA9wQ\n",
       "80yqKtfKnHTF51oB/gEhBbrEhS8hU9dNYtgwg5UIhSv5+yWqIod/UwzaIgg2cr3IXY/Bgjj8F7On\n",
       "+G9C+LGS4kf33HgebBK+CP7X+fi+JgnmfOjjw/Uqcq1ImhXesc21CmOPS1LbPBFD8aTD7LENmkCg\n",
       "uVQiFN49jb9frCoa8f5l2rb1cGKq0D78zMFrX8ORj9j6agxVn20fXtI1Ffz3pPEtLi1OAeHUiGqT\n",
       "8GW76qU5hq5/uegTXH2yZUE5gblW2w0NDOIG/r8ThDlsBomeKPyoJBSu5VdYRFXUy2K79dqY3Rxn\n",
       "Dbsl4Yvg/xd3Sm2+XGT5al0rNxsmNNdqb1m9fxf5no2/NPqJUGjBT1RFZe6x2bvjpdHPltukoXI6\n",
       "lbGcNa1tNclN4hdAmiroNv4wZ/y5vzehuVZ8xkAJP1qwyogb0ROJTadCIcZf0g+7M1RVlK+DJjlX\n",
       "sv1s6ZKTjms1sEn4wvgVlVN8ptUGv8id7zfbmgnNtQqmy+CX2tdC70iE6okEKxUKMf6Sfrggq6mK\n",
       "K6SkN2aP//YZtmvlHeXudaOGP8DN8Vp9rRq40S0VxnXWh3rZ+Dcoa3xYPZHBuhZY/VAfGUk5GpDt\n",
       "8ZcbZGXepyn6y8aj3C+WQ43we7lp1w+1K/ZKcwnrwrNZRj/U9UJJ9cT813wg/M7PRrUkKCup8eKv\n",
       "+h/KLOM6H6sd/g7bPB/OpebL2TN/bkJuYl6Hil26qYz/H8pU/e+UvDXkPb7y2LhevQv7XbsBSVvu\n",
       "HSqe+R8aziomVWXLugAAAABJRU5ErkJggg==\n",
       "\" style=\"display:inline;vertical-align:middle;\" /></a></dd>"
      ],
      "text/plain": [
       "<IPython.core.display.HTML object>"
      ]
     },
     "metadata": {},
     "output_type": "display_data"
    },
    {
     "data": {
      "text/html": [
       "<dt><a class=\"ProveItLink\" href=\"../disjointness/_theory_nbs_/axioms.ipynb#distinct_def\">proveit.logic.sets.disjointness.distinct_def</a></dt><dd><a class=\"ProveItLink\" href=\"../disjointness/__pv_it/axioms/6cabe19e695cf4ee56d41dd99091bfe6376d25d40/expr.ipynb\"><img src=\"data:image/png;base64,iVBORw0KGgoAAAANSUhEUgAAAlYAAAAXBAMAAAA7EBzMAAAAMFBMVEX///8QEBCIiIhmZma6urrM\n",
       "zMxUVFQiIiJERETc3Nzu7u6qqqp2dnaYmJgyMjIAAAAcRTyBAAAAAXRSTlMAQObYZgAABlVJREFU\n",
       "WMPtWG9sFEUUf1zvute7vWsTKYl8OksChJR6kRA/2MpWPxBNjEcxSiLJXeo/MAYa2qBUA02/2Gq0\n",
       "V5VASAgrKjGIcKFpaoiNpXeGgH+4CIlfgJ4BjBqFxgqKZ4zvzezO7s7t7XUTPqkvmb252d/ub95v\n",
       "Z97MG4B/uZ0r2v6E7tF9oGH9Cr9sbVd9wfdjiTymzwPlw6LZyraaJA3o+NEpR1Ow2fMJCQ2dKU5N\n",
       "5VIflKjtotcLCvPA2DwYINeuazBqfaLRoivKj2120c8iUfvdiD7EMiM9dL8ni4yuKxnUm5kOX1Db\n",
       "T95a1cZYFmcj4IAGaeMbaSCqxrcVKB921KXNIqm/xVsEEXHAj1hOSc+c8mSR76o9BvVRpsNeGqwD\n",
       "3lrVxthmPLs2amIEJWXEewLlw9REZZtFAm4cseTt0YqoqRQgjpNezXlrVRtj2Q7JjVjSTc0dfrWK\n",
       "NPnSijiU7O3RiqipFCB25vDhPeCtVW2MFU97TDd2p1jtM9TKqBphZk6g/NgVV62MN+9+mLeYRMQB\n",
       "e+D2aMWor5AO8MfQ0Cs1tKqNERZAaSJftqS1hpEMdE22xdb03ofV0HerW7rxTns+d+73VTmGatn8\n",
       "wLTnuw4ufadVTL28PNBsJLC8DJHpVk0QEQcsMb23M52sqZWdVW0yqfNMh2cAhl0em7JrVQXjYmFc\n",
       "id7NwVkN4hlc7BRQUJZ4BpRBOJCF0VzoTujlqCPwbWKn57Sbim1TSua/S3T5+hrZZao6SKAMT2Rh\n",
       "0CJCDniDYFvAyTTj2fstEmts1qS+xHR4ECIll8eSdq2qYFxMwbD2JluiwpngYggwrcIZCDdBYxGu\n",
       "QbSZ/CDUGTirPwSwoXo419U/g2K9nJDuOkhQKxz36ZQgIq1epslI+yk7UzzptYtrllkvm9QTTAcF\n",
       "Ao6tbW8B7spIWkkYD1ugQeQvgGPkBuwazAqtStCYiFAYIT8QBToM0db43urjCsK2tTct3XSQQDlU\n",
       "xvg1ZRIxrRaiM6+S1w6m5xJVCRnayVq/zaBOMx3UoiJufZTvgE9UvU6XtLJjamoV+tV048j1OaHV\n",
       "ALpAd4RWAOzfWo+XNSaqauUkgXL0N4QPmESmVuY+3WLCWVrdONrO+j04tGooPS7W99f36TCZSKqQ\n",
       "X9W7KmdpZcPUnoMR040GHWY0JRkQWpnjKkFzEEI3ammVtq2fa614RQ44SYxxlbRplWBzEDaBk8k7\n",
       "Xm2SWHm8WssL6gDDT2NjR9cSCkto4+NvqXK8YhiYXr00VfF6qZGi9g9mKElAfTGeqRNaYbyCKH6r\n",
       "JKFOBGZhhZdWUf1uCOi8Z0Zst5mDBOPVHeikJoiQg8d2WtnsTDXXQQcrXwet2A5juImIdRYXZHne\n",
       "N65+vLFCK8IE9C2KBs9LewTWaAvI+NyoBmsS2GkMu+FsXamO+s9dwHztNKZkSUQFy+FZSm7Rg8jf\n",
       "+OCxknER/x7NjWCKzXsG0C655SBBrdal4GeLCDn4LgO9tzEZOyhB4WRmdx2sfH/VzkvBmJ/7lkGj\n",
       "ztORcZjKV2hFmBD8ArBxsRQ3qNE+5XtoF/VNelFo6833v1qJzz57GqsfbL355MgiiDzVmoX6F7KI\n",
       "inSvWHLRGOAvYnxUKJCwy3aqYDJ8qOVgR5H3DFvkww4nSRka2vOaRYQcQhs7k7HbFITbTVKl37jr\n",
       "YOVaXeWFdIhRV7qhE0IvDQ0Nolb7lQqtGAYoQ+2Xx+0ttxxnfpmQGQyilYcrJ0SNeoYOe+/0y26h\n",
       "U8pxbFpVIzwlsfIcp4eXgnmvGdpDkOHjKtiFPymHVnwMzYYqtaLGc5MXpNx5fhm26YHqtRVmPXPN\n",
       "nYU9Ernh0soy0ZOuWlUjPCmzOnNnI42bhb5x+Jyq5wEuyDkOPwJRSyrTaq/e8Jp5YY3HB6wtRXhe\n",
       "py1hxx7zYOXeSkjDe+Z6JiNsJOo66oad696EdX5VjXBGYmXnV9aZjBFmMtBahDAu5cGdGtS7anXo\n",
       "/PQZptU6ylTWZemSY431qQ0+T/EE6u1dmCZW7nNjVgBkPfNOsdYvdf1AdNYXFwOUMQUXsno1QoE2\n",
       "WDs1Q/Jh+/zithzjVYUtc4RVmoPW8QyvKbBS83k67PMMOeb3bNA8Q4YxX+ftY5Xn7URNpa3PL3/X\n",
       "XM52+G3UDsGnRfjfXD+yS+2/YP8Aj55K7WWCYHsAAAAASUVORK5CYII=\n",
       "\" style=\"display:inline;vertical-align:middle;\" /></a></dd>"
      ],
      "text/plain": [
       "<IPython.core.display.HTML object>"
      ]
     },
     "metadata": {},
     "output_type": "display_data"
    },
    {
     "data": {
      "text/html": [
       "<h4>proveit.logic.sets.cardinality</h4>"
      ],
      "text/plain": [
       "<IPython.core.display.HTML object>"
      ]
     },
     "metadata": {},
     "output_type": "display_data"
    },
    {
     "data": {
      "text/html": [
       "<dt><a class=\"ProveItLink\" href=\"../cardinality/_theory_nbs_/axioms.ipynb#empty_card\">proveit.logic.sets.cardinality.empty_card</a></dt><dd><a class=\"ProveItLink\" href=\"../cardinality/__pv_it/axioms/a058e32c108964aeded3e84c3fe993472e417ec30/expr.ipynb\"><img src=\"data:image/png;base64,iVBORw0KGgoAAAANSUhEUgAAADkAAAAVBAMAAAAOWFv7AAAAMFBMVEX///8QEBBmZmaYmJhUVFQi\n",
       "IiLc3NwyMjKqqqpERESIiIi6urp2dnbu7u7MzMwAAADii+d4AAAAAXRSTlMAQObYZgAAAN1JREFU\n",
       "KM9jeMsABJwMDGAaA5xmYOA4dRJMY5c9xbAci+wpmwcgUbYAhikLMGTZG3jDQLLMCgzRARiyhgwM\n",
       "x0GynAu4df9iyE5hYOi/ABRlNGDa+w9D9gsDw/4GoCh/AyvDb3RZ3k9A2QVg2UyGHxDZ4+UgUARk\n",
       "sf1hYHgPljVYDJNFADag3vcHwPbW4jGZdW0BL1ZX9YNcxXLiAN8HZHtLQMyZDAz2IB8xT3nAPAFn\n",
       "aDCEMrBvwJBlbeCVA8u25p7CjAXeU0vAscBweHMCnhhsgNLYZRnIlV2HRqMAAE/6Xh2wFdchAAAA\n",
       "AElFTkSuQmCC\n",
       "\" style=\"display:inline;vertical-align:middle;\" /></a></dd>"
      ],
      "text/plain": [
       "<IPython.core.display.HTML object>"
      ]
     },
     "metadata": {},
     "output_type": "display_data"
    },
    {
     "data": {
      "text/html": [
       "<dt><a class=\"ProveItLink\" href=\"../cardinality/_theory_nbs_/axioms.ipynb#card_induction\">proveit.logic.sets.cardinality.card_induction</a></dt><dd><a class=\"ProveItLink\" href=\"../cardinality/__pv_it/axioms/a0416f86a949b329077314f56d61608e818010ac0/expr.ipynb\"><img src=\"data:image/png;base64,iVBORw0KGgoAAAANSUhEUgAAAV4AAAAXCAMAAAB01dc4AAAAQlBMVEX///8SEhIoKCgtLS0/Pz96\n",
       "enovLy8QEBCIiIhmZma6urrMzMxUVFQiIiJERETc3Nzu7u6qqqp2dnaYmJgyMjIAAABQsGWnAAAA\n",
       "AXRSTlMAQObYZgAABBJJREFUWMPlWdm25CYM9GQyMftq/v9XY3ZhA206naTPGR7ulW1ZBWUhCfW2\n",
       "ffGgakndYnt5HyP1jrme4uJcvnxIz5QhC2+ow9xvkp3WiyfmhrhP56JlIxz149vvYVeJdkkaG2M2\n",
       "O1uidb27+FhiaIz7+FMzCQWj8/3ji9z/kM0yhQ1LTwSCeQLR8J4hePcBQ2Pcly/rXaVdVLaT3w0i\n",
       "bwvxPexa3PCB46VNEwcOeXyW3gnu5WWNWq9nhrn0rU1+FITstNWN///BJVymcjGAkjRvwBj/LL0T\n",
       "3Dm9ITglItW+AcEa5YfkX5TXeMMHcTErUPov0zvDfU7vdhAoOOEHN//x/p+sFeGt9SJn6NbltEOv\n",
       "QohJgtIWNfsCvTPcBXoNhgILJoTsVoBn4tS2rg1gkIsGWaNX9AFqRgFLQu4cJSMP6GUxDqvTTSxH\n",
       "Gz9u9URlyBxg4Ee4C/TmHBEFgmG+a8tG/0i7GylVrBptZqQc+wmhnQ32Ie4DRNL0hQ9l2e52NaNX\n",
       "pwrXnFrmXClJXwOw99J7Z7gL9GreCP4P6ha9XHU5BWLVSI+UNtifnrQIK8Wdas+r/PWrDxDGTjp8\n",
       "YKfH9FKRslIo1QQ0yDh6Su8Mt9yLns/38I/16KWuEYxtpgyGC3PWE3qrRry2QkvlcbRF2+k4nYge\n",
       "VP4cAHSWmUyoGb3t+cwB1wIMLNLb4i5474VeeWyU5VINU8TKRI/9YvVGb9UQZbNHfKqpRJXeYjmo\n",
       "UDMAuG9SxfJc1a3YhSGNlblRR7tnuUHsZY9wF+glvBWEZPFlpHyG4MWSwmfoITN6q4ZoV67pGRxs\n",
       "phFYDipYDgDuKUan3I/Ll8LgzHqrHLQ6M1IEXK4cZrhvpzY/y8T3+dWPSxCWjM/orRoisAXpPV23\n",
       "1CjFclQRI4CmsglLwjxcGQZ8NnknOW6HYnJuZX+IlfaNuneG+5JeVOgtjpAFEKxcLdAUjbFnTC/U\n",
       "EKFeCDW0QJHec438GsiDys8/vEoPoNldcZkbYZgxGJ/lITSlmgl1O0AohpBCuLSnluid4b6gF58l\n",
       "xpEaovnrF8GqDUTj/FQH05SN6YUa4RFrvHcjtM4iW/YqTI0AeofTXj2OMEZyeD77zKF41pC8e2/1\n",
       "Sn4Vsle4M+iHlCm9Y+DgoI2LXOiFGrGVR9tTmU22qmWvkrNGB6DbWnk0YJT9UEtnQq8atxfblk7T\n",
       "97HEIF+u0l37/IONaQvXK71AIz4SOu+zePJm0Va17FVsUuoAZONymd6P9HvHuI/n0jYkh+3L2VG2\n",
       "dxZI1yjF3okt9OOu8qKt/ahH3P21gvyjdvob9JbuQr/NkBiRb9L7wJbED5pmPksgutTG0C9+a3ti\n",
       "boj7dC5WXoWu1vY5eu27jvDbDdwVu9fjwX4fvv4GiltIZTzXl0IAAAAASUVORK5CYII=\n",
       "\" style=\"display:inline;vertical-align:middle;\" /></a></dd>"
      ],
      "text/plain": [
       "<IPython.core.display.HTML object>"
      ]
     },
     "metadata": {},
     "output_type": "display_data"
    }
   ],
   "source": [
    "import proveit\n",
    "%theory"
   ]
  },
  {
   "cell_type": "code",
   "execution_count": null,
   "metadata": {},
   "outputs": [],
   "source": []
  }
 ],
 "metadata": {
  "kernelspec": {
   "display_name": "Python 3",
   "language": "python",
   "name": "python3"
  }
 },
 "nbformat": 4,
 "nbformat_minor": 0
}