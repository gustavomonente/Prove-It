{
 "cells": [
  {
   "cell_type": "markdown",
   "metadata": {},
   "source": [
    "Theory of <a class=\"ProveItLink\" href=\"../../../../_theory_nbs_/theory.ipynb\">proveit</a>.<a class=\"ProveItLink\" href=\"../../../_theory_nbs_/theory.ipynb\">logic</a>.<a class=\"ProveItLink\" href=\"../../_theory_nbs_/theory.ipynb\">sets</a>.subtraction\n",
    "========\n",
    "\n",
    "Subtraction is an operation for building a set that includes elements of one set except those that are members of some other set.  For example, $A - B$ is the set that includes all members of $A$ except those that are members of $B$ and no other members."
   ]
  },
  {
   "cell_type": "code",
   "execution_count": 1,
   "metadata": {},
   "outputs": [
    {
     "data": {
      "text/html": [
       "<h3>Local content of this theory</h3>"
      ],
      "text/plain": [
       "<IPython.core.display.HTML object>"
      ]
     },
     "metadata": {},
     "output_type": "display_data"
    },
    {
     "data": {
      "text/html": [
       "<table><tr>\n",
       "<th><a class=\"ProveItLink\" href=\"common.ipynb\">common expressions</a></th>\n",
       "<th><a class=\"ProveItLink\" href=\"axioms.ipynb\">axioms</a></th>\n",
       "<th><a class=\"ProveItLink\" href=\"theorems.ipynb\">theorems</a></th>\n",
       "<th><a class=\"ProveItLink\" href=\"demonstrations.ipynb\">demonstrations</a></th>\n",
       "</tr></table>\n",
       "<h3>Sub-theories</h3>\n"
      ],
      "text/plain": [
       "<IPython.core.display.HTML object>"
      ]
     },
     "metadata": {},
     "output_type": "display_data"
    },
    {
     "data": {
      "text/html": [
       "<h3>All axioms contained within this theory</h3>"
      ],
      "text/plain": [
       "<IPython.core.display.HTML object>"
      ]
     },
     "metadata": {},
     "output_type": "display_data"
    },
    {
     "data": {
      "text/html": [
       "<dt><a class=\"ProveItLink\" href=\"axioms.ipynb#difference_def\">proveit.logic.sets.subtraction.difference_def</a></dt><dd><a class=\"ProveItLink\" href=\"../__pv_it/axioms/7735faa9da929ce810416b9eb79514b083550b6f0/expr.ipynb\"><img src=\"data:image/png;base64,iVBORw0KGgoAAAANSUhEUgAAAZ8AAAAWCAMAAAAo9GECAAAAQlBMVEX///9jY2MJCQkNDQ0rKysP\n",
       "Dw8WFhYQEBCIiIhmZma6urrMzMxUVFQiIiJERETc3Nzu7u6qqqp2dnaYmJgyMjIAAADRR/RZAAAA\n",
       "AXRSTlMAQObYZgAABC1JREFUaN7tWcmipCAMdFYB2Zf//9URECWAIjr95jIcurptSaoEkoDT9L99\n",
       "ZVv+mWdhIA51etaUgPgRii2HzxWx+2oi2v1/8+pZSQ5xqNM2t2y3g6HOUYwp58T/pJsUKj5GEVLr\n",
       "OurYXuiAmoBapbutfDM+VkAc6rT9cje6zPEBYOcjhdwem7QfowipVY7EpaKqYTKgJqBIAy74m+Ex\n",
       "GOJQp+2Xdf0Zsri4yokLfTWKlxP+dYoltdKRxReKuuGtoyZgWjbHQnrSmIDYVMnZ2mzdKc4WhV1/\n",
       "YqPtHuOCBjlvnecPUSypFY4WzmTLx4nt37+g7Y6agEZL3wR7VRwwiK2Zz5Fsd9ror2xJ1xGfN+bb\n",
       "c7FbF0s+QrGmBh1RgtCpoto2F2NqAjruG9NvxgdhiBIhKgjKooGs0xvKgwGRk3L9CsWFBLswmlY9\n",
       "hviXKdbUgCOfIVjDx4ntKnv11ASkoSbnpysz/4dwh/VacJQ3cwNQroNtGJqy1dyofHg2HJL4aNzN\n",
       "IoujxiDO1JEZIHpRNmv4HcWamsmfsc8JeV7o2EZoUE1Agi8rIAOijgkrUpfhPrnYUK/zQa8plRyK\n",
       "G9UHy5R5H8L1F0EM2HJOdapiEC/SzxOKNTXgyH8XtvJxZrtcn101Ef0HOgstEoOog4MpVVZaMwHo\n",
       "/+VwbzPvU7rqFPYFeN0HOJ7Fg6wtZcBelak0BSFeFOZPKNbUckcmrAe6lD5ObP/8UdjuqomozcW+\n",
       "VkuWz2oWKGF7LT7EVrCYW9V7dnP8Ntt76ccrQi/H5x7FmlruKGb1bM95bbuqkLtqIq4rNPnQCC8o\n",
       "mxDTgsBMkGEjhapEWgSPYBoeNc1X8S31nrvpZ1vLNAVdwiCW+Ye+o1hTyxwpXO5Jr22zYTUbckHj\n",
       "DWsJSO3EsoSz6sOZXeLQmtDoaarfUMl1TkR7e2BE5/WBUDcPENJ+YdnDTaM+OCtznlCsqWWO0rgo\n",
       "XPho2yZ4WM2GKg3BOuYWJCKjpuhqn5vBcBUNYWFI1njKXXFWyNRZp33XwHsbVBtnMZl5Uo41xPP2\n",
       "iGJN7XC0cBjnerbpMqwmYRYswSOSFmvNs2KAhw7ClULggpQUIYkwPHCVlBPZ6CS5cyFeqvULu6rg\n",
       "qE3HiYf7VDvY7sH9A4otaocjuoeZvW6+tP0dyr+jJqGRU5b+DqlYhtE4LsSBIfU8v3N4QjS/ON95\n",
       "dmrOIL4936konjncC4cUd7q2zbee7UpNqUq4EMC0rzf8yJA4A3waixdEWEpi1p84H33Svuh8tHY4\n",
       "roiLYTWlM0kN0cjvrpZZ+ZjLQ2nomIkXNHN+L8DJhXs+sib4ywU09n7hEcW2w3FFN146Nd8vnDXV\n",
       "vdD2/+L93Hgbe+Iv3s/dnlCntpEZVnPlrHqT2321+w/ebxsBcfoExZbDB4r4sJpLZ6Z74X/7ivYH\n",
       "3sdS30T0azsAAAAASUVORK5CYII=\n",
       "\" style=\"display:inline;vertical-align:middle;\" /></a></dd>"
      ],
      "text/plain": [
       "<IPython.core.display.HTML object>"
      ]
     },
     "metadata": {},
     "output_type": "display_data"
    }
   ],
   "source": [
    "import proveit\n",
    "%theory"
   ]
  },
  {
   "cell_type": "code",
   "execution_count": null,
   "metadata": {},
   "outputs": [],
   "source": []
  }
 ],
 "metadata": {
  "kernelspec": {
   "display_name": "Python 3",
   "language": "python",
   "name": "python3"
  }
 },
 "nbformat": 4,
 "nbformat_minor": 0
}