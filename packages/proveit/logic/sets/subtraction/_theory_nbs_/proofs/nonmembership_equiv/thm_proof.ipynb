{
 "cells": [
  {
   "cell_type": "markdown",
   "metadata": {},
   "source": [
    "Proof of <a class=\"ProveItLink\" href=\"../../../../../../_theory_nbs_/theory.ipynb\">proveit</a>.<a class=\"ProveItLink\" href=\"../../../../../_theory_nbs_/theory.ipynb\">logic</a>.<a class=\"ProveItLink\" href=\"../../../../_theory_nbs_/theory.ipynb\">sets</a>.<a class=\"ProveItLink\" href=\"../../theory.ipynb\">subtraction</a>.<a class=\"ProveItLink\" href=\"../../theorems.ipynb#nonmembership_equiv\">nonmembership_equiv</a> theorem\n",
    "========\n",
    "*** see <a href=\"../__pv_it/535084f5575f2896033e67a90d0a117da06a03c70/dependencies.ipynb\" class=\"ProveItLink\">dependencies</a> ***"
   ]
  },
  {
   "cell_type": "code",
   "execution_count": 1,
   "metadata": {},
   "outputs": [
    {
     "data": {
      "text/html": [
       "Under these <a href=\"presumptions.txt\">presumptions</a>, we begin our proof of<br><strong id=\"nonmembership_equiv\">nonmembership_equiv:</strong> <a class=\"ProveItLink\" href=\"../../../__pv_it/theorems/06a4a8483d2a140ea261b805c9de81dfc96d86d50/expr.ipynb\"><img src=\"data:image/png;base64,iVBORw0KGgoAAAANSUhEUgAAAZ8AAAAWCAMAAAAo9GECAAAAQlBMVEX///9jY2MJCQkNDQ0rKysP\n",
       "Dw8WFhYQEBCIiIhmZma6urrMzMxUVFQiIiJERETc3Nzu7u6qqqp2dnaYmJgyMjIAAADRR/RZAAAA\n",
       "AXRSTlMAQObYZgAABEZJREFUaN7tWemStCgQdE8BuY/3f9XlkJYCFJXpL3Yjlh9Tjm2RmVIUBS7L\n",
       "L27b8q9v/wGKL5ow0J401nV615SA9isUe4A3MObVJGs/v5updyU5tGexSXtO+292iGKocxRjyjkJ\n",
       "/9JdChVfowipDYEGfT9SE61W+WkrZ8bHCmhPGiY9p/0/dwNnTS8Au5CF5P7apP0aRUitBNp6l1Y8\n",
       "emuXaqIVecAFnxkeg6G9lTvgw8a6cYRsLs1y4qKvRul2tj9OsaZWANHPqBjUVzSrJto8bY6J9KYx\n",
       "AW33BXH291/Mtk4pWhR24+BD+zPGRQ1y3Z3XL1GsqRVARx5ksquo7ds3+0BNtEbL0ASbKg4YtL1Y\n",
       "4UguXHScdvqeLRkC8XVnvr8Tu7tY8hWKLbUCKOcygvuK2r6fqonW8dCYnhkfhKGVCFFBUJENZJin\n",
       "cJ1AZTIgclFuXKG4GLQbo3nWY2h/mGJLrQBS++UxooO+H6uJNuVRfjozy18Id1j7gqN+mBtgpR9s\n",
       "w9BSzOZYjCDUc4oeJGRjNE7Y1BjEmTpWBmiDKFs0PEexpWZsvVJtvMY46/uxmmjj9DyvgAzIOibO\n",
       "SF2n+wyxW+3jQfsllRyseFsismLFCxjCjSdBSthyzblfMWgvlp83FFtqJVAaS0pqjLO+H6tJNvxB\n",
       "Z6lFYpB1cOxK1ZXWSoANv3K4t1l9MP/5RwjpximutdjvAxwv8kHRtjphe2UqhyC0F6XsG4ottRJI\n",
       "siqyr/tOrV1+ztUkq83FnllLVkY1iyGD7bX4mFtBoojVe1UiFg+nq9XeW36CIjQ5PvcottQAEFbQ\n",
       "47rv52qSFfZTK2qEN0TLnRcCkSDjRgo1SaBKHrFreIy1tjuL4+HsvQ6Xn30u05x0CYO2Xn/oHMWW\n",
       "Gimf8G8OeFz3/VzNbrnYc6gvAaldWLHgeH24YEAc8gtaewBSLb5K+phI/X1CDRV1aFUfCHXzACHv\n",
       "F7ZPuunUB2dlzhuKLTUIxDeDWox+3y/U7FblIfBjbsFCZNSSoD6xGTtuogwWhsTnU+6qs0Km6NZ3\n",
       "+uwa+GiDalMYkpVn5VhDe95eUWypQaCNMtlgnPT9Qk22RbIEr0harDUvigEeHYSrweCElBQhiTA8\n",
       "cJX0dyI7TpI7F/Ol8hfsqoKjNh8nHvC5drDDjwIvKPaoVUAWdxT1++ZQ/h012Rq5FMvfwQDLOBrH\n",
       "jTQwpI3zG4cn5jfN4QEHe3aY2KsuGbST5zstxTPAzwSTXYxugIz6btQ0YC4mMB3qjYBLUgSEZSzd\n",
       "EHEqiVW/OXxsd8APTxN7Setnz0e5uAs4wPgZNTWYpIZoFHZX26pCzuWxNHTMpBuaubAX4ORC2qnE\n",
       "3pcRPjmBnn1feEWxDzgxwvfVXIKp4Y2+tlONvR2w5HPjM3zj8xQfvv4ZRbWaK7DmS+7w0+7o4zG/\n",
       "cnrXjIB2+QbFHuANjHk1l2BmeOP/9ivaP/XbVDb8QRTHAAAAAElFTkSuQmCC\n",
       "\" style=\"display:inline;vertical-align:middle;\" /></a><br>(see <a class=\"ProveItLink\" href=\"../../../__pv_it/theorems/3684210c87c89e9593a28713d90369e7e0c5ed1e0/dependencies.ipynb\">dependencies</a>)<br>"
      ],
      "text/plain": [
       "nonmembership_equiv: forall_{x, A, B} ((x not-in (A - B)) = ((x not-in A) or (x in B)))"
      ]
     },
     "execution_count": 1,
     "metadata": {},
     "output_type": "execute_result"
    }
   ],
   "source": [
    "import proveit\n",
    "%proving nonmembership_equiv"
   ]
  },
  {
   "cell_type": "code",
   "execution_count": null,
   "metadata": {},
   "outputs": [],
   "source": []
  }
 ],
 "metadata": {
  "kernelspec": {
   "display_name": "Python 3",
   "language": "python",
   "name": "python3"
  }
 },
 "nbformat": 4,
 "nbformat_minor": 0
}