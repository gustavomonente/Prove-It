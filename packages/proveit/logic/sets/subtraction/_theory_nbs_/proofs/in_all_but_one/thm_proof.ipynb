{
 "cells": [
  {
   "cell_type": "markdown",
   "metadata": {},
   "source": [
    "Proof of <a class=\"ProveItLink\" href=\"../../../../../../_theory_nbs_/theory.ipynb\">proveit</a>.<a class=\"ProveItLink\" href=\"../../../../../_theory_nbs_/theory.ipynb\">logic</a>.<a class=\"ProveItLink\" href=\"../../../../_theory_nbs_/theory.ipynb\">sets</a>.<a class=\"ProveItLink\" href=\"../../theory.ipynb\">subtraction</a>.<a class=\"ProveItLink\" href=\"../../theorems.ipynb#in_all_but_one\">in_all_but_one</a> theorem\n",
    "========\n",
    "*** see <a href=\"../__pv_it/b1b4ffd6baaa57210b30d83dcaa354021ee7fd9a0/dependencies.ipynb\" class=\"ProveItLink\">dependencies</a> ***"
   ]
  },
  {
   "cell_type": "code",
   "execution_count": 1,
   "metadata": {},
   "outputs": [
    {
     "data": {
      "text/html": [
       "Under these <a href=\"presumptions.txt\">presumptions</a>, we begin our proof of<br><strong id=\"in_all_but_one\">in_all_but_one:</strong> <a class=\"ProveItLink\" href=\"../../../__pv_it/theorems/bd808c4c8fcf0a6015dfcf77bdb9f5c6f25c32540/expr.ipynb\"><img src=\"data:image/png;base64,iVBORw0KGgoAAAANSUhEUgAAAaUAAAAWCAMAAABXJXPzAAAAOVBMVEX///8kJCQNDQ0oKCgQEBCI\n",
       "iIhmZma6urrMzMxUVFQiIiJERETc3Nzu7u6qqqp2dnaYmJgyMjIAAAD9T1yxAAAAAXRSTlMAQObY\n",
       "ZgAABLNJREFUaN7tWueS3CAMJonp3e//sMEFg2Rwvc1NZk4/TutdW/qEUEE+Qv4TCiyAa8GoJT90\n",
       "mUyA/N5T18hGv/uOD2L54AzknwO90RVVZ6K9PZIMeSy79RlgqyG/91SCwbz3JPDjSBobX7KMXRrI\n",
       "PwW6Anuu6ky0ie3vsTEz9y7/HJ9lkGggv/cU0WG2aDzZd+roSxsh/xToCuxOlela2CHJe2mjwU12\n",
       "udGPnBQY5PeeImz5EOIbLxFPIf8MaAAWq4qsY2EvlLrLjY2ZeQ6hElS3SBnIm4uiVaLYeMqOS23h\n",
       "9JWX7AB5Wbu11ZBfARqARaqEVrapohtKopsqhwYP3k5k1LPWQUHeIKF33dh2Nx+XYijEKy+RyCFf\n",
       "ieZSq8V70AgsVCU5pU0Lb4fS3piZj3oi5R95iTLILaXScFrlA9uod/nutD1HLy6oWR1iKZsEm2EW\n",
       "6ct29gzyvNRtEM9AI7BA1VQ8VMvCvejWtkF2sYZRS+zpZoSK1NK4IE7qaeE2+TooSqpM0eqG9NZO\n",
       "0jHRecMkF3k+td/zQ7jxy3UN1DcxDCrTUC/7M9AILFA1lQtQMnqifZzpz+/p7+ZnZFdsGMVZtz2a\n",
       "f3JH/ZdygE9nAD9awouV+uCpSXGQwzictJduORoZt3TfWuOK7RTk85pKC+LKvQSNwNaq5jgCrXVf\n",
       "dCsDQ7uwMQtXdQaHq2kPIM80cMBttYZ5Q8dM+6dy7zS6LXNUJEplNln6MGWGMecPqdZPYoQ83ask\n",
       "Nka/A43AimrzBoobgq7oVjeD7MLGLNwHlFQ3GufVcde9ROo17JfJfLfPCf+kv9zGDDzty4R6vYqb\n",
       "sXsvESNBpbXV5TPQCGztpWU312vfFU2a5QXY1fZSCtWswFMmaNkTcfBFG6dyA9RLHqRaw4y3n/Gs\n",
       "zI+cHailrsYNdNgNJLiCfPldVYGpxEvQGGylyrHdQbYneq5Lv9ZQlXCMku3Cxqxcm/UgnLrPVKfV\n",
       "5hnLUhrm215K+MRw2D04u5TAqo1ltNs9uFUYO+0vc9OtZf4De7xm91CdLC2YBDwCjcFWqrJwx3YW\n",
       "7kU3xxLArmb3MElfFyF5PaICZWQ+XNjJpxTlAtg18pQNpvkJGDSqfTpbn2Jq5l5e7cQJk+XYUp+X\n",
       "8tIhf29TGOZeg8Zgi6rS8JdEcyB66cmQ8NoubEzmVeoci5+tWPJwvRQSbTIYlVZSmnp/OLe1UnPb\n",
       "fIoRLpmUF4Ye2SGTApYh1qdaATmaiaE68wg0BltUlYlcOdkeiG4NTIFd2JjMg63LcFbvHKyJUyYc\n",
       "xIMJEfe6MyG6SvXsYRuFVxMiBTmegVr7FaDhuhZVVcMqLljoOhO+bBc2BhtlxlTd5mbG6GQX0/ME\n",
       "2K6XJBVgPn7xtPWql4btcGtH/l3T1tZM9L6FjVACdjWnrSDuAvd0OomJIcURM8x7Zsl6mSKe6tjt\n",
       "KvWt8Lh3d27nVEodmu6C6v6bi2egG7n0voWu0SrVdjXfXHTjcndpTT3aKXhfvgW8Rsu7Wp6ytyiH\n",
       "KP54zZ++Bbyxy3qiWxPC2i5szJEm9Mp4ukzHQt7y6794oz5l8+7/PQQD+R31D9+oh+dv1Pk1yZeM\n",
       "CvtLHrwnP/Qd9BffbEQaF6NexwAAAABJRU5ErkJggg==\n",
       "\" style=\"display:inline;vertical-align:middle;\" /></a><br>(see <a class=\"ProveItLink\" href=\"../../../__pv_it/theorems/c687acf0645624e05b1c597c87f2b58e2eb7a5000/dependencies.ipynb\">dependencies</a>)<br>"
      ],
      "text/plain": [
       "in_all_but_one: forall_{x, S, y} ((x in (S - {y})) <=> ((x in S) and (x != y)))"
      ]
     },
     "execution_count": 1,
     "metadata": {},
     "output_type": "execute_result"
    }
   ],
   "source": [
    "import proveit\n",
    "%proving in_all_but_one"
   ]
  },
  {
   "cell_type": "code",
   "execution_count": null,
   "metadata": {},
   "outputs": [],
   "source": []
  }
 ],
 "metadata": {
  "kernelspec": {
   "display_name": "Python 3",
   "language": "python",
   "name": "python3"
  }
 },
 "nbformat": 4,
 "nbformat_minor": 0
}