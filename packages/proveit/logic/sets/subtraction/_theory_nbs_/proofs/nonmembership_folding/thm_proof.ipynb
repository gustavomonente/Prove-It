{
 "cells": [
  {
   "cell_type": "markdown",
   "metadata": {},
   "source": [
    "Proof of <a class=\"ProveItLink\" href=\"../../../../../../_theory_nbs_/theory.ipynb\">proveit</a>.<a class=\"ProveItLink\" href=\"../../../../../_theory_nbs_/theory.ipynb\">logic</a>.<a class=\"ProveItLink\" href=\"../../../../_theory_nbs_/theory.ipynb\">sets</a>.<a class=\"ProveItLink\" href=\"../../theory.ipynb\">subtraction</a>.<a class=\"ProveItLink\" href=\"../../theorems.ipynb#nonmembership_folding\">nonmembership_folding</a> theorem\n",
    "========\n",
    "*** see <a href=\"../__pv_it/0452ef6f32e5f09e4d3cbe4c2789cce71d6948f90/dependencies.ipynb\" class=\"ProveItLink\">dependencies</a> ***"
   ]
  },
  {
   "cell_type": "code",
   "execution_count": 1,
   "metadata": {},
   "outputs": [
    {
     "data": {
      "text/html": [
       "Under these <a href=\"presumptions.txt\">presumptions</a>, we begin our proof of<br><strong id=\"nonmembership_folding\">nonmembership_folding:</strong> <a class=\"ProveItLink\" href=\"../../../__pv_it/theorems/eb42e2117dc043a9cbfc2755607f049a47fde27a0/expr.ipynb\"><img src=\"data:image/png;base64,iVBORw0KGgoAAAANSUhEUgAAATwAAAAXCAMAAAChxwN1AAAAVFBMVEX///9jY2MJCQkNDQ0rKysP\n",
       "Dw8WFhYSEhIoKCgtLS0/Pz96enovLy8QEBCIiIhmZma6urrMzMxUVFQiIiJERETc3Nzu7u6qqqp2\n",
       "dnaYmJgyMjIAAACDrDx5AAAAAXRSTlMAQObYZgAABDtJREFUWMPtWFeS3CAQxTkKEKFJ97+nCWKg\n",
       "EQr2uMoel/lYZlEH6PiAkH9+rOT/OB7anX6WP0V9MYzuZ/9Yd+41bQfqPPDECfXqL8U7EYJgTCjF\n",
       "079is16eralUHl7TeF6ffmb8hNqHGwqWYm8WUgGAzdx51tUTWr2m7RwjP5G1mNr5cB0xaygpyUPm\n",
       "tbQs57kGXAvB1xryJPCckh8/SH9EDYYFfamAbjQuZLPBsjGn2VlIQ8sX7RbH+14VBaL0MbWLhuGX\n",
       "GtSyGUuWMPMbS56DSkPa33SYif/5Heyg70jfs9Kah0Cp0JzWrEpVCVqJGqlzHgIx4bpLhtxxVilq\n",
       "irJuFnlH6nDz/ReuArOx8/RLiHjmAjXIMjNvH/uu17lnVdvpIQpwkpKWpLkfUjqlzhw81TN6XfKE\n",
       "c1RJ0wplN3NGdh7q4wZFtssxbJepaVojRyHFRllsTyXOKlenc8daD2VjXNhY/rlGGxsghDTY6zqw\n",
       "myUPlgp5jOzn9IcehS8wFNksizBdk+qNt47xA8ay799GWSBKxamVZ8KYOZnb6QQx4ojNtemjQntZ\n",
       "vPfv38U/fk+d8R+L6C2oluXdWHclLxrR1FDsZ+t2MLxLJ5C9c2QOc+bnkSfWsdsZDV/3sjLYouUg\n",
       "WkwYCydMdI6orjMHQTmYodcIITrq8mvx90peMh6dGU/7Bwy3lK20P8lKkT8hA0XaJ4PaYaqHkFwQ\n",
       "WlA1WSXON+ypGxjDnFOdY4p0ibgG5IJlfzXrqLcfcrmJ8oio5YtLNCstyofY2oUnsnNmNCrrdsAD\n",
       "jcVTHLSDAgSaEI+rVJNlsgTLa+BtCGLgnOo0Yt4wDMTYKDJqhaHIB7hhaHPzilFR3vpIcNQwouJq\n",
       "n+g5jzzrDCl7qomXGaicG48rJAQY+t7JKoT5mpltW/4fOac6+XAR2oADjxVJBXztl2ZXDSrMeOA9\n",
       "dYWSfQlNvqjqFWbx3BULJAw8s1b13SEz6GDmxhNIyCojfvzyWdGdrO0+HkOvNIAHY88ZB93rHK/y\n",
       "W/KAoBQoQ48bIN5ymFGDCiFXARN/yLN+K3x9FWgnrt2kzg5aivdIlEHedlsoJ+C9hVUP6bGQ3Apg\n",
       "ImszVgw9tvaMiHOuk4v71zP3xiopj69nv/aII/H8qFkh54hNrSodlRc/ppJZFnQOHL3YedpmeU0I\n",
       "sWuDFp2sdCXcssiJbiOYs20K6XT2/sPABPg79qzx0MMAinPHLU1wc11Mqgcqt/wgXVmwMiRspPhB\n",
       "wyDp9teExG/GmVpbmqz2TAQ1qCWQkbPuddDJ+A0TnTz0qSdDDz1JHT6ZXi5MjEdHIvqpVi5chR9b\n",
       "OWIkVE05ib//GDoF/vDky1s1/pkTjL5amF7P1PHVrJflzqWc+dTdf4afy3zuGd5pPM+JLhemW+QD\n",
       "meXTG9/k9n/vSPB0yfq7BjsLUDFNJ7gT6uQ26x8bPwDjZlnuTcAEKwAAAABJRU5ErkJggg==\n",
       "\" style=\"display:inline;vertical-align:middle;\" /></a><br>(see <a class=\"ProveItLink\" href=\"../../../__pv_it/theorems/a82ccc02186527b38d5919db167f8fadb03fe83b0/dependencies.ipynb\">dependencies</a>)<br>"
      ],
      "text/plain": [
       "nonmembership_folding: forall_{x, A, B | (x not-in A) or (x in B)} (x not-in (A - B))"
      ]
     },
     "execution_count": 1,
     "metadata": {},
     "output_type": "execute_result"
    }
   ],
   "source": [
    "import proveit\n",
    "%proving nonmembership_folding"
   ]
  },
  {
   "cell_type": "code",
   "execution_count": null,
   "metadata": {},
   "outputs": [],
   "source": []
  }
 ],
 "metadata": {
  "kernelspec": {
   "display_name": "Python 3",
   "language": "python",
   "name": "python3"
  }
 },
 "nbformat": 4,
 "nbformat_minor": 0
}