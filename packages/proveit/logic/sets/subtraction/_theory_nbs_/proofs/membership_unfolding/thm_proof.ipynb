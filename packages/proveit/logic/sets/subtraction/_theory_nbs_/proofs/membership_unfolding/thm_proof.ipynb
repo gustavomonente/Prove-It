{
 "cells": [
  {
   "cell_type": "markdown",
   "metadata": {},
   "source": [
    "Proof of <a class=\"ProveItLink\" href=\"../../../../../../_theory_nbs_/theory.ipynb\">proveit</a>.<a class=\"ProveItLink\" href=\"../../../../../_theory_nbs_/theory.ipynb\">logic</a>.<a class=\"ProveItLink\" href=\"../../../../_theory_nbs_/theory.ipynb\">sets</a>.<a class=\"ProveItLink\" href=\"../../theory.ipynb\">subtraction</a>.<a class=\"ProveItLink\" href=\"../../theorems.ipynb#membership_unfolding\">membership_unfolding</a> theorem\n",
    "========\n",
    "*** see <a href=\"../__pv_it/9bceb393aee24cba97a1db82cc1f39fc094c33800/dependencies.ipynb\" class=\"ProveItLink\">dependencies</a> ***"
   ]
  },
  {
   "cell_type": "code",
   "execution_count": 1,
   "metadata": {},
   "outputs": [
    {
     "data": {
      "text/html": [
       "Under these <a href=\"presumptions.txt\">presumptions</a>, we begin our proof of<br><strong id=\"membership_unfolding\">membership_unfolding:</strong> <a class=\"ProveItLink\" href=\"../../../__pv_it/theorems/e24576b878cb6b461f0e3d101aad777babd2309c0/expr.ipynb\"><img src=\"data:image/png;base64,iVBORw0KGgoAAAANSUhEUgAAAU8AAAAXCAMAAAC8uT3uAAAAQlBMVEX///9jY2MJCQkNDQ0rKysP\n",
       "Dw8WFhYQEBCIiIhmZma6urrMzMxUVFQiIiJERETc3Nzu7u6qqqp2dnaYmJgyMjIAAADRR/RZAAAA\n",
       "AXRSTlMAQObYZgAABCNJREFUWMPtWdu2pCgMda4G5BJu//+rjSBKEArrnJ61qnsND50+KjuwTXYi\n",
       "tSz/jydj+502ox21bw+jH/sYDDkHz9af1537UDpRUftOWB3bE/qhjxGOqP9yIgTBmFCK1+DJWlOe\n",
       "8vihfHpN7TtTw0GXb8Nx4GMwGKd/r5l+FrYKPFldXoxWH0qnY9S+M9WHI0gsNPyxro+H6b6FnMs8\n",
       "sBo82RKWV6B+2JCa2i5xSsbRBiEaFo5JuFJClMSejwH2v/9QbDhgXYAaPFlncR9afmoxktT21E1B\n",
       "V6tc3HhJVE8yVnCAjo8RtmroVuvB3/FWCniyQe1D2v+Qku+0JcCoRQChOVQJjAPl57iYUIqsrTN6\n",
       "VzrZ8THAvqlvSOVpkwIpeLIibUINN13f4SowGwtb/TCfkWT7WD1McwdTjliMaE7CUiXgoHgj34UO\n",
       "TimtV2Sovk2wAVr5FM6BkmZpwJPlrFcAr6QJ9R5dinRbq9GsjlXbpVg9THbjpqz6sDaGhI1VhuvZ\n",
       "AnZXOpSwNLIpL9rffIyw2/g/5BNX0YBnu/8Do+YTWahvsQRhAs74RGMZ22dudoTVw0TR3l05sftD\n",
       "irjcVl8GbRlZbBGDOmOqeoEp3sTW+hhg//1Xg33IZ+TVUPBsrXvR/1uUtfLItBTmZ/HplNGIzbIb\n",
       "rC7mrRFs+EzyRfJv0Ojlx1ff4TNXkapHf41963yCKHxCj88Y+QXbAtugYmDZgLwxTA0skASobp/T\n",
       "Oeu0bg1WH/OWKE2+p1XTsrV2vwKPWeUmv9ZhWNvDv8ZuY610n4so8lXAD6u0yDdiayD8IiuRizyz\n",
       "Co8HiEJMc/Ki6Jrue61Ig9XHNOJ1PTIYwyL7OvUCOi2FoR9IdT0qPBrW+Ohj8zanSve5nWJC6tEO\n",
       "LM92xZP4cGbJLkoApgkg+3ye05FV1XuE1cfkbQSTXiSSbxYVmuMLaUZNa3z2II/Zq6OkeT/DFm0T\n",
       "53PM81WV+QW82Eo0giZ9GrNWVcVHpQk6mJF+5umbTD2tirBc3LC4KgPvmFvbaNBcQgGAwOjZDQrF\n",
       "kRxuhJDkw8T/HJLtt6uXPwMNlgfYfxLsmIHlMOQioYAX63CpZPt6HwzTTq8LedOckK6ItOTpYrlF\n",
       "ww2rj8nFV743uVWd782aFtnrl7cH35vujxn2CY6NmumQks/udW3fPc9vapfffEGnUNWr7eb7NX2x\n",
       "W+urwmqdEkxnf+J5SF0pH525TD5nJuCtExSOW9i72m01u/ao1DIE6fIFK8Pe0yner0fX9HjRUJGq\n",
       "sehaGkzGhztS+st0op88MMR+cOhKzuuGp87TC6/7eTj0c4H3zq38Tz1PfhxkQ2xwj8FfObn9QjD+\n",
       "yWC2y7dYML3lf/v3Dvf13zvUY/CXTtz0wmOP/A0W8Dsa+ZuMKQXmue4B/uJk/ACY3kItuPVLugAA\n",
       "AABJRU5ErkJggg==\n",
       "\" style=\"display:inline;vertical-align:middle;\" /></a><br>(see <a class=\"ProveItLink\" href=\"../../../__pv_it/theorems/154c3f5987acbc590aa7ac34c06e1b28aaaa1e0e0/dependencies.ipynb\">dependencies</a>)<br>"
      ],
      "text/plain": [
       "membership_unfolding: forall_{x, A, B | x in (A - B)} ((x in A) and (x not-in B))"
      ]
     },
     "execution_count": 1,
     "metadata": {},
     "output_type": "execute_result"
    }
   ],
   "source": [
    "import proveit\n",
    "%proving membership_unfolding"
   ]
  },
  {
   "cell_type": "code",
   "execution_count": null,
   "metadata": {},
   "outputs": [],
   "source": []
  }
 ],
 "metadata": {
  "kernelspec": {
   "display_name": "Python 3",
   "language": "python",
   "name": "python3"
  }
 },
 "nbformat": 4,
 "nbformat_minor": 0
}