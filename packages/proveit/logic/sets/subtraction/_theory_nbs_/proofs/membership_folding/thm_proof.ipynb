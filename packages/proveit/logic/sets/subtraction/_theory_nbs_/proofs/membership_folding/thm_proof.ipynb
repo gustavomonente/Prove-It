{
 "cells": [
  {
   "cell_type": "markdown",
   "metadata": {},
   "source": [
    "Proof of <a class=\"ProveItLink\" href=\"../../../../../../_theory_nbs_/theory.ipynb\">proveit</a>.<a class=\"ProveItLink\" href=\"../../../../../_theory_nbs_/theory.ipynb\">logic</a>.<a class=\"ProveItLink\" href=\"../../../../_theory_nbs_/theory.ipynb\">sets</a>.<a class=\"ProveItLink\" href=\"../../theory.ipynb\">subtraction</a>.<a class=\"ProveItLink\" href=\"../../theorems.ipynb#membership_folding\">membership_folding</a> theorem\n",
    "========\n",
    "*** see <a href=\"../__pv_it/20cc5e063b108349a91332c1a63324af257d5c2e0/dependencies.ipynb\" class=\"ProveItLink\">dependencies</a> ***"
   ]
  },
  {
   "cell_type": "code",
   "execution_count": 1,
   "metadata": {},
   "outputs": [
    {
     "data": {
      "text/html": [
       "Under these <a href=\"presumptions.txt\">presumptions</a>, we begin our proof of<br><strong id=\"membership_folding\">membership_folding:</strong> <a class=\"ProveItLink\" href=\"../../../__pv_it/theorems/f22b81aa7dfa434a5f6c54d45a63cec264b285820/expr.ipynb\"><img src=\"data:image/png;base64,iVBORw0KGgoAAAANSUhEUgAAARwAAAAWCAMAAAAlxtMAAAAARVBMVEX///8kJCRlZWUoKCgtLS0/\n",
       "Pz9RUVEvLy8QEBCIiIhmZma6urrMzMxUVFQiIiJERETc3Nzu7u6qqqp2dnaYmJgyMjIAAABvI+bm\n",
       "AAAAAXRSTlMAQObYZgAAA3VJREFUWMPdWNm2pCAMZHZZQ9j+/1OHRRQU1Ok7S5/h4Z5cTEoskiI0\n",
       "Ie8/tPtz3odhdGf47YFz78kNwuvewt8GOBmCZEwC8PifrOxkw5rq5fE9yfH6dW8fHoQshU8WROS2\n",
       "spkNXZnW8J7cOPa6t/PhfsdFKCXDQ4q1dJ3ORk2YPYXea6iLxHGg4vAzbzQs3KcdXX1cSHTgUoOT\n",
       "4SymodWbqvF8XQIoXnq7+OH89g2wrGSojOZrRDYCpKHsP6uby/XTtU6QUqk53bI+qQJOvUudIDHh\n",
       "/pQJMjOtZIGzFSIbUmT+pvnXPuEQmI3K3k49YmAOT2AKnZ+Wr8O4d05R0tSQHEBCwwXypCf0XnKk\n",
       "cxSU2XSqNTgjjUqfN7bLTJdz0C6nb7vJjnl6azaFziJSFm3jttqorlxfvliZftd0YA8lBxe5dji1\n",
       "MouR/tBZ+iHrMpNlCNMcAhNy0FjG3Bik8/rx3c2g8zlbWE2T0Lcwi6/j5J2fx+aFyQB7FTZDnCQn\n",
       "kmTWTNpSKu+KKwQNh0XVkq9ymjJ/lzkOjEacgHRe33AKffjcvkSGrUfjXazFP5OcRA4dkaN9pLke\n",
       "7kxQ2fAqaLdhmBolQlspbNe4hfOOix5kf0fyEnYO3ReKCKIn4rKsVkMtD7scItfK5zVPVgO0LA/i\n",
       "0Sg9UY0+RNJYk1U80ChecqCnfXi/Xx1I847kxfQcupFYg3FrS/RW4fRCkLV52CLXLkfUAuwFOb65\n",
       "Lj1uje/EwRlSFlV3PQdQNSZnC0c2B9nfkb3gAno/WXkUBAiHW6U6t631HN76HbjrAn1JLb7ASjur\n",
       "qVyNppo7MPTMWmjVNwfoYGaaU8KFyr0T0CFIfUfy+vpl9RpB78mNklKkrL8bowSOQ28IIZeniYa6\n",
       "Oq+kr7fO/YopDoZD0qjQXtoM83r3ibJ03jLYHyFreFsdJ5DtHdFL4gX07fWBW7i6Prz0G4A6GrVQ\n",
       "Q05um46CtGheNipJVpnQef/1YodltYcTu1NxAGmcohfKPfgM/eGL5wujv3h2eeq4panfEotJ9Qr5\n",
       "yAzKlQmrQuodgI8FeQ+Ps2Yr+h6kdSLwuboNoW+ba/JR73Pi+KMx/E3sduK6CaSb5lyBfBp6/b4f\n",
       "u355bNxekWz03cQvXR8mIPpREfzFn0mdPhpDr9uJV8g5glhO/u/xEQWU7/1pPwHOXTp/YJ3DggAA\n",
       "AABJRU5ErkJggg==\n",
       "\" style=\"display:inline;vertical-align:middle;\" /></a><br>(see <a class=\"ProveItLink\" href=\"../../../__pv_it/theorems/01e0fe8b82a90ae2f2feb232ec3c3f473b2895720/dependencies.ipynb\">dependencies</a>)<br>"
      ],
      "text/plain": [
       "membership_folding: forall_{x, A, B | x in A, x not-in B} (x in (A - B))"
      ]
     },
     "execution_count": 1,
     "metadata": {},
     "output_type": "execute_result"
    }
   ],
   "source": [
    "import proveit\n",
    "%proving membership_folding"
   ]
  },
  {
   "cell_type": "code",
   "execution_count": null,
   "metadata": {},
   "outputs": [],
   "source": []
  }
 ],
 "metadata": {
  "kernelspec": {
   "display_name": "Python 3",
   "language": "python",
   "name": "python3"
  }
 },
 "nbformat": 4,
 "nbformat_minor": 0
}