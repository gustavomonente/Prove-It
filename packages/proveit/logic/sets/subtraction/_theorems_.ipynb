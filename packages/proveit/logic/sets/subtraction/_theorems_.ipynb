{
 "cells": [
  {
   "cell_type": "markdown",
   "metadata": {},
   "source": [
    "Theorems (or conjectures) for the theory of <a class=\"ProveItLink\" href=\"_theory_.ipynb\">proveit.logic.sets.subtraction</a>\n",
    "========"
   ]
  },
  {
   "cell_type": "code",
   "execution_count": null,
   "metadata": {},
   "outputs": [],
   "source": [
    "import proveit\n",
    "# Prepare this notebook for defining the theorems of a theory:\n",
    "%theorems_notebook # Keep this at the top following 'import proveit'.\n",
    "from proveit.logic import Forall, Iff, InSet, NotInSet, Set, Difference, And, Or, Equals, NotEquals\n",
    "from proveit._common_ import x, y, S, A, B\n",
    "%begin theorems"
   ]
  },
  {
   "cell_type": "code",
   "execution_count": null,
   "metadata": {},
   "outputs": [],
   "source": [
    "membershipUnfolding = Forall((x, A, B), And(InSet(x, A), NotInSet(x, B)), \n",
    "                             conditions=[InSet(x, Difference(A, B))])"
   ]
  },
  {
   "cell_type": "code",
   "execution_count": null,
   "metadata": {},
   "outputs": [],
   "source": [
    "membershipFolding = Forall((x, A, B), InSet(x, Difference(A, B)), \n",
    "                           conditions=[InSet(x, A), NotInSet(x, B)])"
   ]
  },
  {
   "cell_type": "code",
   "execution_count": null,
   "metadata": {},
   "outputs": [],
   "source": [
    "nonmembershipEquiv = Forall((x, A, B), Equals(NotInSet(x, Difference(A, B)), \n",
    "                                              Or(NotInSet(x, A), InSet(x, B))))"
   ]
  },
  {
   "cell_type": "code",
   "execution_count": null,
   "metadata": {},
   "outputs": [],
   "source": [
    "nonmembershipFolding = Forall((x, A, B), NotInSet(x, Difference(A, B)), \n",
    "                              conditions=[Or(NotInSet(x, A), InSet(x, B))])"
   ]
  },
  {
   "cell_type": "code",
   "execution_count": null,
   "metadata": {},
   "outputs": [],
   "source": [
    "inAllButOne = Forall((x, S, y), Iff(InSet(x, Difference(S, Set(y))), \n",
    "                                    And(InSet(x, S), NotEquals(x, y))))"
   ]
  },
  {
   "cell_type": "code",
   "execution_count": null,
   "metadata": {},
   "outputs": [],
   "source": [
    "%end theorems"
   ]
  }
 ],
 "metadata": {
  "kernelspec": {
   "display_name": "Python 3",
   "language": "python",
   "name": "python3"
  }
 },
 "nbformat": 4,
 "nbformat_minor": 0
}
