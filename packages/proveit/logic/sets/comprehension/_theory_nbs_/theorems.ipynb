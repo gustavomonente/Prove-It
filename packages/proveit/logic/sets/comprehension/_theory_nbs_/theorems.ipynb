{
 "cells": [
  {
   "cell_type": "markdown",
   "metadata": {},
   "source": [
    "Theorems (or conjectures) for the theory of <a class=\"ProveItLink\" href=\"theory.ipynb\">proveit.logic.sets.comprehension</a>\n",
    "========"
   ]
  },
  {
   "cell_type": "code",
   "execution_count": 1,
   "metadata": {},
   "outputs": [
    {
     "name": "stdout",
     "output_type": "stream",
     "text": [
      "Defining theorems for theory 'proveit.logic.sets.comprehension'\n",
      "Subsequent end-of-cell assignments will define theorems\n",
      "'%end theorems' will finalize the definitions\n"
     ]
    }
   ],
   "source": [
    "import proveit\n",
    "# Prepare this notebook for defining the theorems of a theory:\n",
    "%theorems_notebook # Keep this at the top following 'import proveit'.\n",
    "from proveit.logic import And, Implies, Forall, Equals, InSet, SetOfAll, Exists, SubsetEq\n",
    "from proveit import k, l, x, y, S, f\n",
    "#from proveit.logic import y_iter1l, f_y_iter1l, iter_q1k, iter_q1k_x, iter_q1k_y_iter1l\n",
    "#from proveit.logic.sets import general_comprehension_fy, basic_comprehension_y\n",
    "from proveit.numbers import Exp, Natural, NaturalPos\n",
    "%begin theorems"
   ]
  },
  {
   "cell_type": "markdown",
   "metadata": {},
   "source": [
    "unfold = Forall((k, l), Forall((S, iter_q1k, f, x), \n",
    "                               Implies(InSet(x, general_comprehension_fy),\n",
    "                                       Exists(yy, Equals(x, f_y_iter1l),\n",
    "                                              domain=Exp(S, l),\n",
    "                                              conditions=[iter_q1k_y_iter1l])).with_wrap_before_operator()),\n",
    "                domains=(Natural, NaturalPos))"
   ]
  },
  {
   "cell_type": "raw",
   "metadata": {},
   "source": [
    "fold = Forall((k, l), Forall((S, iter_q1k, f, x), \n",
    "                             Implies(Exists(yy, Equals(x, f_y_iter1l),\n",
    "                                            domain=Exp(S, l),\n",
    "                                            conditions=[iter_q1k_y_iter1l]),\n",
    "                                     InSet(x, general_comprehension_fy)).with_wrap_after_operator()),\n",
    "              domains=(Natural, NaturalPos))"
   ]
  },
  {
   "cell_type": "raw",
   "metadata": {},
   "source": [
    "basic_comprehension = Forall((k, l), Forall((S, iter_q1k, x),\n",
    "                                           Equals(InSet(x, basic_comprehension_y),\n",
    "                                                  And(InSet(x, S), iter_q1k_x)).with_wrap_before_operator()),\n",
    "                          domains=(Natural, NaturalPos))"
   ]
  },
  {
   "cell_type": "raw",
   "metadata": {},
   "source": [
    "unfold_basic_comprehension = Forall(k, Forall((S, iter_q1k), \n",
    "                                            Forall(x, And(InSet(x, S), iter_q1k_x),\n",
    "                                                   domain=basic_comprehension_y)),\n",
    "                                  domain=NaturalPos)"
   ]
  },
  {
   "cell_type": "raw",
   "metadata": {},
   "source": [
    "in_superset_if_in_comprehension = Forall(k, Forall((S, iter_q1k), \n",
    "                                               Forall(x, InSet(x, S), \n",
    "                                                      domain=basic_comprehension_y)),\n",
    "                                    domain=NaturalPos)"
   ]
  },
  {
   "cell_type": "raw",
   "metadata": {},
   "source": [
    "comprehension_is_subset = Forall(k, Forall((S, iter_q1k), \n",
    "                                         SubsetEq(basic_comprehension_y, S)),\n",
    "                               domain=NaturalPos)"
   ]
  },
  {
   "cell_type": "raw",
   "metadata": {},
   "source": [
    "fold_basic_comprehension = Forall(k, Forall((S, iter_q1k), \n",
    "                                          Forall(x, InSet(x, basic_comprehension_y),\n",
    "                                                 domain=S, conditions=[iter_q1k_x])))"
   ]
  },
  {
   "cell_type": "code",
   "execution_count": 2,
   "metadata": {},
   "outputs": [
    {
     "name": "stdout",
     "output_type": "stream",
     "text": [
      "Theory proveit.logic.sets.comprehension has no theorems\n"
     ]
    }
   ],
   "source": [
    "%end theorems"
   ]
  },
  {
   "cell_type": "code",
   "execution_count": null,
   "metadata": {},
   "outputs": [],
   "source": []
  }
 ],
 "metadata": {
  "kernelspec": {
   "display_name": "Python 3",
   "language": "python",
   "name": "python3"
  }
 },
 "nbformat": 4,
 "nbformat_minor": 0
}