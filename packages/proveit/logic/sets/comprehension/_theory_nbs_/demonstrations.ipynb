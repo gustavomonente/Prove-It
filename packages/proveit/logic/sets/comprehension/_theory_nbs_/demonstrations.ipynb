{
 "cells": [
  {
   "cell_type": "markdown",
   "metadata": {},
   "source": [
    "Demonstrations for the theory of <a class=\"ProveItLink\" href=\"theory.ipynb\">proveit.logic.sets.comprehension</a>\n",
    "========"
   ]
  },
  {
   "cell_type": "code",
   "execution_count": 1,
   "metadata": {},
   "outputs": [],
   "source": [
    "import proveit\n",
    "%begin demonstrations"
   ]
  },
  {
   "cell_type": "code",
   "execution_count": 2,
   "metadata": {},
   "outputs": [],
   "source": [
    "from proveit.logic import Forall, SetOfAll, NotEquals\n",
    "from proveit import a, b\n",
    "from proveit.numbers import Integer, Real, frac, zero"
   ]
  },
  {
   "cell_type": "markdown",
   "metadata": {},
   "source": [
    "Just some formatting checks below.  Nothing important.  Remove them when we put in something serious."
   ]
  },
  {
   "cell_type": "code",
   "execution_count": 3,
   "metadata": {},
   "outputs": [
    {
     "data": {
      "text/html": [
       "<a class=\"ProveItLink\" href=\"../__pv_it/demonstrations/d069dd11322602b824addfc7db35e49000f2d8fd0/expr.ipynb\"><img src=\"data:image/png;base64,iVBORw0KGgoAAAANSUhEUgAAAKsAAAAqCAMAAAD72ltWAAAAOVBMVEX///8kJCQNDQ0oKCh2dnaI\n",
       "iIiqqqpUVFRmZmYQEBDu7u66uroiIiIyMjLc3NzMzMxERESYmJgAAACPrtK6AAAAAXRSTlMAQObY\n",
       "ZgAAAvBJREFUWMPVWNmWoyAQZaZZi53//9gBjAoGNZ6UnUw95HTSWFxvbRcImSwGT26xKDSuQ2fN\n",
       "4tFJKpkCNN8sCUyooMLyt1aOEJswiVAW0ZtMsMKO5YeASQVPHM9ZQ+sE2zDUFEsSEavoYUPCLTQl\n",
       "7vAFidagkf8Ca0ktYQl3X4+VhJyp0QhC2/97+EqsIBjzTrCugdOX2jmFX8Y6RtFghaDMzjzpHmGR\n",
       "+k9jzYNi3IG6WWpz2oNxH8c67uyuHR9R1cfsDVjTFaw6DfNStC05iGlewQ1Y5QWs1JzS+nh5PUfA\n",
       "4o3s03ndYbW5U8inBzpJCdPL6/QY1TShyTZz9tpdH0gW8sdcNtRW+/lbPufwuDr9iJ+xgkISBO48\n",
       "Qi3WKQkTO6A1Y5UT1nmiOIMClqs2nmm1HazSLrKhGWx98WxzoChuhTC0QQR3hdcaaL3J8K2LJDZ1\n",
       "wHGIJTHpC1hT7MR5zdc/asrahd0QJsewsIolMuVZmXZY9Xx4aLjeRmYzC3SKaMetxF7HKvK2oQ+o\n",
       "fo6vKTN2ITMYxBlLL/QsyeiGJfscFqCMrZNMIR7f2hk40lHHmpDLK/5xtcuzjjrGauFzWJ8n7iFW\n",
       "TsnHsA501CHWc1rvwzrQUeyoO2qCilVb+7qvsY66T8sLFagMcikSKg8XdH2g11H3YQVOpczdr5x0\n",
       "KDBojz8HC1pfYx2FjzUG7qBslaH56NaWPdO0s6D1NdRReHclkgnrt7NONtcRWfQyAfsLrDnRUe/O\n",
       "8HknMD6DKWS1BRQdX4uXGSBM7i9oldZGR2EYXbK/FIg3ld/mVVh7y1MvfuzBArHyONJR70JdnBdd\n",
       "z0pCeBOqlbKg9cbGzbWT95fiYEEWcXNLH+iot8wb49dkyASHWCpmrRDNfWGGPrgvES2vtLug/AK7\n",
       "Ouo9rO0cyQcZn3Td2a91UyvElHN7xpDTNYadBb9qWjDOZKUiPBIjCiEotSbz6AufPn8jOws+ZmxO\n",
       "x1YHnS34HkO9oL7ZTurkH261IigZIsmwAAAAAElFTkSuQmCC\n",
       "\" style=\"display:inline;vertical-align:middle;\" /></a>"
      ],
      "text/plain": [
       "{(a / b) s.t. b != 0}_{a in Integer, b in Integer}"
      ]
     },
     "execution_count": 3,
     "metadata": {},
     "output_type": "execute_result"
    }
   ],
   "source": [
    "SetOfAll((a, b), frac(a, b), conditions=[NotEquals(b, zero)], domain=Integer)"
   ]
  },
  {
   "cell_type": "code",
   "execution_count": 4,
   "metadata": {},
   "outputs": [
    {
     "data": {
      "text/html": [
       "<a class=\"ProveItLink\" href=\"../__pv_it/demonstrations/d3f7ecbf3792c96a742d194fcddbab189a5fee4c0/expr.ipynb\"><img src=\"data:image/png;base64,iVBORw0KGgoAAAANSUhEUgAAAKwAAAAqCAMAAAAZBkAvAAAAOVBMVEX///8kJCQNDQ0oKCh2dnaI\n",
       "iIiqqqpUVFRmZmYQEBDu7u66uroiIiIyMjLc3NzMzMxERESYmJgAAACPrtK6AAAAAXRSTlMAQObY\n",
       "ZgAAAx5JREFUWMPVWNuy2yAMpC0CLO78/8cW8A0cEh9P5CblITPJKPJ6kbQLjM0rBs9uWVFq4ozO\n",
       "mj2lU1zBhFS5IUlSrDiF/YueHGM2ETIxWUqwKmEDPJZfAmF6kQRhtpbYGbgBSjKSogQrD8Axkbbb\n",
       "JO9JhonXjWP/B9hSX9Iy4b4fLAu5WqORjLcBHr8TLEoA7yR0o5z/ZLBz/OdgxzgasBgmMxaW7h8Q\n",
       "uf882KwYw0nUyarNlY/GfQHY4Yx3rYzEqf7L3gE2XQKr06g4ZTuZg5yVC+8Aq66A5eaM2OXt9boF\n",
       "llC8z7W7A2vzvFDHf3QOE+e312kRbZ7IPBwzpy/eTYNkMX8szcNtXX9+l891g1yVQeZXsDhRmQP3\n",
       "g01qwc6VmOA5sRmsmsGuyuIMDVoxdTua9vUErLKbhdgVru+gYxkUCz5RyDfK4C4xWzdb92V+TJHk\n",
       "oRcEEbUsJn0FbIqtXa81+2uaK3fjN4Q5MW68kllOddqsHVi9Hid2so97cxAFnSLdESzBBbAyPzh0\n",
       "m6oft9gUud3oDIZSbvmV0aWA90TZx41BDrBr2kR5ouvkcOSqXlpEoS7lJzYyj67qJViLnwT7qL6v\n",
       "wArOPgh24KpegT0n9k6wA1cFL8akZqRgtbVXkg1d1X3mXk6Bq6C2PuGHjhEGglQWxtOgc1X3gUXB\n",
       "lcozsBx+OAK2J6IuAMpJO0eMkg1dFT3YGITD8qSMzUe3T+6Vpi2ggo0YR8lGrooMbFYUaf1R9VRz\n",
       "S5FNMEhsAxawa4g17LWrelfO1weh8RlNoavtoujE3sBgkIFqAypYtRV157t6V0Wx+NYA5YneVIab\n",
       "d4H2+qfeCNk2AJiSsrnslg2RA1f1LtYteTH6UGrCm1BX6Qxe73LcehLOj1eyDcjv4iDq1tNts/3R\n",
       "Vb21vDF+r4dMcYilbfYu0cIXZvjCftnS8k6yKwPhu8spjU9d1XtgWz3JZxufdMXm9+6qTWLKcT5j\n",
       "yCUbQxewjC7Kjv+ZPEkQoCoVYamNKKXk3JrMpC+M+vyNtQHCcMszhcqyzy1Ya7ad8WcBX7QoL7Bv\n",
       "X2et8hcsViIM3zl8vgAAAABJRU5ErkJggg==\n",
       "\" style=\"display:inline;vertical-align:middle;\" /></a>"
      ],
      "text/plain": [
       "{(a / b) s.t. b != 0}_{a in Integer, b in Real}"
      ]
     },
     "execution_count": 4,
     "metadata": {},
     "output_type": "execute_result"
    }
   ],
   "source": [
    "SetOfAll((a, b), frac(a, b), conditions=[NotEquals(b, zero)], domains=(Integer, Real))"
   ]
  },
  {
   "cell_type": "code",
   "execution_count": 5,
   "metadata": {},
   "outputs": [
    {
     "data": {
      "text/html": [
       "<a class=\"ProveItLink\" href=\"../__pv_it/demonstrations/e6d83500fd376d68efd3fc5beb690eb6b712cfc20/expr.ipynb\"><img src=\"data:image/png;base64,iVBORw0KGgoAAAANSUhEUgAAAGEAAAAlBAMAAACg4ZrqAAAAMFBMVEX///8QEBCIiIhmZma6urrM\n",
       "zMxUVFQiIiJERETc3Nzu7u6qqqp2dnaYmJgyMjIAAAAcRTyBAAAAAXRSTlMAQObYZgAAAgRJREFU\n",
       "OMtjYCABcNoYSTGQBBwn8H0gSQOXLANzA0k6mH8xsCuQpIOxgWF9AEk61h9g2E+ax9dvYMjjnkCK\n",
       "Dg4F3jIe0sIqSXWaCgPDAxD7LikaT4OIV6TomAGKfZLihW8BAwPPBlJ08J5atWo6aaH8o6OjhjQd\n",
       "qQwMnViE/R7g1OHMwIUsySZxuNkASPMYQPjcRW12aMmPnYHpAiyK9hhfYJ/As2gBKERAobH6sC2D\n",
       "wgGeRRDp/yAAzCA8F9hhmm/sXMXAzRA7F8TmByYg3u5ZC4A6eNeiZcUHYUBysdpTBhaIQwwOgMh4\n",
       "pSygg4EAqGMNmkc6U4DuKWX9xcAHCe7Z4DygvkAZkoIUDjAbo+nYXADMXgasBQyLwdxFkOTZxHCP\n",
       "C2ynglm6A5oOfmBQMG5gSmAI7+joUGA4cIphFlBUhMGMtaKjo4lB4aQuug5eYNCsn8BxawEbiMey\n",
       "9QLDSSD9i0GaIQHiqq2noCpXiCNl4Qnxvgw8IA8wMzOwFHB2MVTxNjAchejggfv8MUIHS9ImWwaG\n",
       "biDrWtqZ5wms0gxhZ4CZDhgn3DVvuIxhUfwbPfqZQP6AxDSE0gD6Awmw/MKd2HZiFeUpwK3jAva8\n",
       "lKS8gcTi5xXXT9J07F/A8Ik0HXYMXH9I0/GYgeU3aTr+gop3ksAXhoUXSNORy9BMmgaGxTpAKwC2\n",
       "Z4JL1WoAcwAAAABJRU5ErkJggg==\n",
       "\" style=\"display:inline;vertical-align:middle;\" /></a>"
      ],
      "text/plain": [
       "forall_{a in Integer, b in Real} (a / b)"
      ]
     },
     "execution_count": 5,
     "metadata": {},
     "output_type": "execute_result"
    }
   ],
   "source": [
    "Forall((a, b), frac(a, b), domains=(Integer, Real))"
   ]
  },
  {
   "cell_type": "code",
   "execution_count": 6,
   "metadata": {},
   "outputs": [],
   "source": [
    "%end demonstrations"
   ]
  }
 ],
 "metadata": {
  "kernelspec": {
   "display_name": "Python 3",
   "language": "python",
   "name": "python3"
  }
 },
 "nbformat": 4,
 "nbformat_minor": 0
}