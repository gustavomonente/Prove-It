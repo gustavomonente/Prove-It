{
 "cells": [
  {
   "cell_type": "markdown",
   "metadata": {},
   "source": [
    "Theory of <a class=\"ProveItLink\" href=\"../../../../_theory_nbs_/theory.ipynb\">proveit</a>.<a class=\"ProveItLink\" href=\"../../../_theory_nbs_/theory.ipynb\">logic</a>.<a class=\"ProveItLink\" href=\"../../_theory_nbs_/theory.ipynb\">sets</a>.comprehension\n",
    "========\n",
    "\n",
    "Subset comprehension is a way to define a subset of a set by listing properties/conditions of the elements of the subset.  For example, $\\{x~|~Q(x)\\}_{x \\in S}$, is the subset of $S$ for which every element $x$ satisfies the condition $Q(x)$.  It is important that **no** universal set be defined or it would be possible to define Russel's set which would introduce a parodox into the system (and allow $\\top = \\bot$ to be proven).  As long as all sets are properly defined, subset comprehension will be safe.\n",
    "\n",
    "More generally, comprehension may define a set by mapping subset elements via some function.  For example, $\\{f(x)~|~Q(x)\\}_{x \\in S}$ is the set that contains only and all $f(x)$ elements such that $x \\in S$ and $Q(x)$ is `TRUE`.  This furthermore generalizes to mapping any number of elements and specifying any number of conditions.  For example, $\\{f(x, y)~|~Q(x, y), R(x, y)\\}_{x, y \\in S}$ is the set that contains only and all of $f(x, y)$ elements such that $x \\in S$, $y \\in S$, $Q(x, y)$, and $R(x, y)$.  It is also possible not to specify any conditions and simply define a direct map of a set: $\\{f(x)\\}_{x \\in S}$ or $\\{f(x, y)\\}_{x, y \\in S}$."
   ]
  },
  {
   "cell_type": "code",
   "execution_count": 1,
   "metadata": {},
   "outputs": [
    {
     "data": {
      "text/html": [
       "<h3>Local content of this theory</h3>"
      ],
      "text/plain": [
       "<IPython.core.display.HTML object>"
      ]
     },
     "metadata": {},
     "output_type": "display_data"
    },
    {
     "data": {
      "text/html": [
       "<table><tr>\n",
       "<th><a class=\"ProveItLink\" href=\"common.ipynb\">common expressions</a></th>\n",
       "<th><a class=\"ProveItLink\" href=\"axioms.ipynb\">axioms</a></th>\n",
       "<th><a class=\"ProveItLink\" href=\"theorems.ipynb\">theorems</a></th>\n",
       "<th><a class=\"ProveItLink\" href=\"demonstrations.ipynb\">demonstrations</a></th>\n",
       "</tr></table>\n",
       "<h3>Sub-theories</h3>\n"
      ],
      "text/plain": [
       "<IPython.core.display.HTML object>"
      ]
     },
     "metadata": {},
     "output_type": "display_data"
    },
    {
     "data": {
      "text/html": [
       "<h3>All axioms contained within this theory</h3>"
      ],
      "text/plain": [
       "<IPython.core.display.HTML object>"
      ]
     },
     "metadata": {},
     "output_type": "display_data"
    },
    {
     "data": {
      "text/html": [
       "<dt><a class=\"ProveItLink\" href=\"axioms.ipynb#comprehension_def\">proveit.logic.sets.comprehension.comprehension_def</a></dt><dd><a class=\"ProveItLink\" href=\"../__pv_it/axioms/31d5de131e6a5e1e9d3d1b92a5eb5a7668ad0d1b0/expr.ipynb\"><img src=\"data:image/png;base64,iVBORw0KGgoAAAANSUhEUgAAAu0AAABABAMAAABcjVRNAAAAMFBMVEX///8QEBCIiIhmZma6urrM\n",
       "zMxUVFQiIiJERETc3Nzu7u6qqqp2dnaYmJgyMjIAAAAcRTyBAAAAAXRSTlMAQObYZgAADcZJREFU\n",
       "eNrtnH+QHEUVx9/+vp3dvbuiEi0C6nJXQArBnIkIyCXZQBWHUHKbWIUUlTJLygShKFh+eRCFXOUP\n",
       "uICQjaggFt4QNCBKbhVODAGzJKgUhMpqQLD4tWjQUhHOhARyRzj7dc+Pnu6emdu75eZqtat2d2bu\n",
       "bc/0Z3pe93v9vQUIuLwKzVq0wtS+Hx0f/7BhF/NHYT9ca1rucJ6wf6bxuWF8vDwR7mPbHmnUpaSK\n",
       "woElevNyDwsdviXLPs/dtn1C3Ecadykb88KzOBuauPxbaOwscys03dyvEvbjhWbmvlF4mJeUAuKe\n",
       "Fr35ilIzcxd7VaQWEPfBnHDgb82MHWKjgqMZC4j7gLCfPNTU3OEvwv6TwXBPiZgjbrPIzMIpnurC\n",
       "KffV+Q2Yaf1B2B/KBsK9tV84EMq6hBxvcc9EtZ5TbDU+nxKO31NX/8BRJ9qAqZboV9OjgXBfISIc\n",
       "zLt0d3ZKbf5pAA/UN5SVnNy1zl346Gj9ddVyCb4tmnqDQxXBrx4OhPsV4oHX3eY9LLyKP0sGon/U\n",
       "F5zXnNx/n4c4Yd5a37xpC/1qAyY0oh99Owju2kHxyCne3IfOyUGmq76T7HBw30Iarh0NsKfO+W62\n",
       "MdzDIrp5pQC4Z94Vj1wnGNzcdyPPfTt5Jeqc4d/r4P6Gzh6z6+vsIe2N4S5NJIYqAXBvkSra75xC\n",
       "rNOd/R1bfme9Y3eO456m/nR3KVmss5a9jeEeGxOvrj0A7m3S4LYP3zYd990T6bxmi+70M3s+vgCg\n",
       "E8fGrBRyO7snZ5Du4rgP0noW58Lk4Kb5kJzjdXm8wU5usj0Vz3pYdGAHAuDeW1FdllbJXJWoWbMI\n",
       "fjzC23IbudhoO8zzdMecQabGcd9N7+eGfAuZSFWWyO7WUXiD1zwG/XrKPpHlvgC47xazBHRaldbT\n",
       "o1HqxO3H4Rd0fpnEzvFNgB+S8GoAYu5TQWZguNQix30trWccEmVIlhdBSz9c4FqJYcDKo+gTuqbe\n",
       "5A/EnvZ+ANzf0VXuTzNbG/vk26Tg1gVsGEzhiWcB6CS82hdb4O6jqYFZ5wjHfRzPmDoIoRw5zRHQ\n",
       "lv3yKe4+gRqYkQa+XZydcpP3iweuDID7ey7DjtHapN2hl+QtL4856149dgCiHmMjNVBwp61MjCJ3\n",
       "iI7Cijz0eLSTGtjcWwvQeO5XlKade/J9AGX4Zra23fbv9Ba0FJifIZFjuN2TOzUwrpb3MxfROXMW\n",
       "/Qzmgo4BL+7MgJUetX9fvuuJvO8cZtezL1jPkOhnYF512rmnpJuvoXNI6fMgTD3QfCFuotkbMq7C\n",
       "TXgLvLijQWbhsk5xXF2hbzo2Rk6L4yqp4iZP7tRgzwsdXca4Ks9nol00pPAuZzL/6MgLcBF6Zdq5\n",
       "h/cph53e8gYja5UoO7kP5YwZ3eeht0q5a7jAPlQTN6hBZkk1RB7iSIXjHs5W09hSnFxGCtHDjLtc\n",
       "AX2jBs9/Ao4k293i/F17fEEVEjq0eLXwZzsXAqzhJgjS/B16CwZ32j1e9ePub+VfItJFwMfIa3PH\n",
       "poUsX6Z9/RwH917zid/csbjE+nsfeTASeOnfAGMDj1CDu4+HNrLdmufj1QsvO3495Nk9W9l5iFWX\n",
       "WMNXgBu0FjRIbioC5gzfFLm/tPVBMhCVIOUVj996N6mGnMTqP1EpQh+sGdyfxc9/+nH3t5pAkki6\n",
       "CLhdONPTjjzB02DlCRYZjjslhU/GEWKwEpaQjfudeTGI5zMlI0+A2X7qZx4DdS3EIJ4lsQBoRYP7\n",
       "GQXsv9TD4Eh7dE6B5zh8DpiHoakJLgWdGZVix3aD+13OmYQLd3+rCUTw8uKSW0iYJleXKtDl+EwX\n",
       "iaK0dw3uadmUhlloMBu6Y2JejHjtrrOB5sUup36Lcq8oa6EGoXykkrfzYpXRWDtcSq6dPZCf/U8O\n",
       "4sKtT7fpS9kWG1nu+9QsRzucJTRicG8l1aTLftz9rfxLSLr5sN0l+sf8e+IW1o71kKii8oQGRJvk\n",
       "6B6fCTRIjsA1w1IeGCLjOMNsKcENsM4IiLSsshZqMAiJc/MsD0weoeSPi+H+5XMITMPu+8XYk8I1\n",
       "390Dc9ldMeKs5MV2VyuoIRDumWcefPBO33HV32oC6Rl5fB5yW0t6i5yyk2UiH4Box8mkNaccJLhk\n",
       "ezxCDaIFOLGKgJ3cY1did9H64YxO4vnvWLuS1AzKWqjBWRB+Du81qQ+7baQSz6Kn+crAwEBWy4M2\n",
       "YjoVu3QTD0fPdN3AwDr4CWmVR/sSh8z5zPsDA9/yn8/4Wk2Ke4tbaJKy11frW+f7s/F5rHC8rnU+\n",
       "HBHY+moiF8oj9zi9qDLECjL3a2B25vRXie+ijdkGcD7seeIV9jyX3LmvYrdXyhI5uRtWysCBjxQg\n",
       "3L3TuLDuqi/3TDvM7JLI99KZYRpbHemHB3TK/S49eYv5BtdGR1JzgXjB3+I3TgXtFvhlf8Ic7cVB\n",
       "7oDJ/UzLJzpKl5M7s1IHDo5IYS/EWDI13VHx5a6NzXDu0ZW3U+5wK3K/Y9cXgHJfWo4dCUtL+FaG\n",
       "s+bWYBVm7VrQo52G/S6eZ/m3o+Qn3OKegDDfMWNXPwXHFCTuzEodOPCRwsYSRjH0zopzriFF5/7M\n",
       "DOf+U4yXkXuY+HfjEcDH2Z5ilLUSiYaL4efJ9tyBdYYNnIStD8stbnnX5J6uJhwB16/TekSXuDMr\n",
       "deDARwo3gKkaadMnwD2Un9ncL4vWYNl+fiIXm3e6IfRgA1EpXjkPtELqOf5rm+Fx7Muhqgf3ZO18\n",
       "R8D1RLYrDTsXXL2gzHNnVsrAgY8U6B2mSxCZDXRo3HHycSbaIUW+IVOb2dy/tEs98HJb0Vcqbt9W\n",
       "PM02d1j/NdRnYVKJBlzDw99Jy/6dWqkDBz5SoBNWNpq8RO+Dfnki5+7fAdZB85bkkeAxrsLDZChm\n",
       "SSXa+YbTDy1XcH+46BY48JFCG977o+nmAvpUchpwJff7883L/f6yJ3dcdqBJJRZwDUNlp4I7WqkD\n",
       "Bz5SwNStMTm8zXL+XtyT1zcv99tUE1ObewY5YlKJBVzDcE9CwR2t1IEDHynECw+VNzLHwuSFsZGY\n",
       "R56AlO81LXZNNRbacRMYlLpjLOAahugy8pEXuAMfONhRA3mzI4W7dG129uW9uAHaKH4MpmtWKisx\n",
       "6nWVF/c1378g9PRVXPNixuNOk0o04CIT0VfkPAHjbgYOsaOMqKFEtuxIgQQR9317NZRwA9OHS8ub\n",
       "n9/xjDNkcCvFZuzyyYI6WWJxN5JKZDd6Y45lIxTc7cDBnsWn+EgBqzsfEyplpmt0DCyRsf9zh6Gi\n",
       "08+wYgVcHtxp4LDV2t3KRQo0nBh8QycbrX/K8+EFnVMe9uae/AEpwSGqTv6vUlavZLRd5r6iX8Xd\n",
       "PR+pyJuKW0Y40XINbqQ7QEy4pj7w5h5ZvXr1RXpQ3F1l9pMQ4VPl2yVK7tu7psR9MiV20N/PxAMb\n",
       "XF1l9pMQ4dN1ky1K7gHoOODDGczdXWY/GRE+rhPiS+a+OD/93NfOYO7uMvvJiPBRP48vmfs7MP3c\n",
       "F+dnLnf3RczJiPCpfn6vivt7AXDfXp127kmfv1s9AaVmWsclZ+wQLSYlwqdqq50K7rH9AXAfEq4i\n",
       "/TYtXQb3dF9f31qRu2MN0a3wq49REySGeArFhrM8wudSfg4vZm8Ur8spwvcQgztU+q+xl8Q9PBYA\n",
       "90Sx/v7OryG6XiC/+mish/0oB0t1/8cnYhqg/PUZ2K1/UXpieBG+lxicF+FTucijCu7xkQC4pw/V\n",
       "xV1SG6oebkm2yLYw9R0pwHLfAdAEgysIuvR//CCI8L3EsczADI/YS+Ie6g+Ae3JfPdxltaGiyLJF\n",
       "xj1RpfnoVROets+yfIrYWSYjwnfl3lsNgDv8XenfCw7ultxQVhtaF2QpEhWyRcYdhezhEVKpbaus\n",
       "AE7i/AwY3BzXVZ8I3xCDUzlgj4L7FXoQ3F/P+/d3KjfEpcQaPUDXEC8V7pelSORki07u+PsqkVqy\n",
       "CFZ16grgV9y4+hi5UyeI10W8Rz0ifCYGdx1XjX8BmGbubRV/7ig3xKVETm24XPj3R0uRyMkWBe6Y\n",
       "CgpVov1gVudSAZxtT/yiYy0jcv7LT4Rv7VEDQwxO9fPdMvfMgUC4p+d4cW8l88grdSo3xBQ/pzZc\n",
       "I9iaikRetujkfgSgnCRaALM6lwrgq8ZnD+rfT+iUJf5+InwmpF9jGjAxONXPvylzb60Fwt1Y8fbo\n",
       "70DlhhQUvWS6hihxtxSJtmyR7VvcV2svJ2fR2bZZnboCOMsvTzAhEb6hqF9kisFRP48vkXtvPhju\n",
       "r+v+3K+NsqVzW22I3O2VRV6RaMsW2b7F/d5lmd/kaNPN6tSSRmtpzSXzJYrwU2oRPsZn1ICt27nm\n",
       "xf4KwXBvrfhzR7khgrLVhsjdXlnkFYmcbHGVEUoy7tqpvysk6RfN6tSSRvicedr16lDPKcJnYnBZ\n",
       "hI+KemrA1u3c8sCpOQFxjx3y5U7lhtQx2Itf6GfsGTqvSLRli2zfileJ67kH4NNcdWpJY808qF7Z\n",
       "EET4rMhpJlzg4QzoTVwvc7d0e9P++5Ev+nJHuSFdSrQLFShaK4tqRaK1b3JPfjgHd6zq1JLGlMWw\n",
       "ket8qJ/PKNb5VkNQ3ONdftzd5IZVu295KBJt7nAzmQBGq5atWtJ430ebXXZyzxTr497I32X+l9sf\n",
       "+hqkn4k49rb6WJ/wkWLv6XNw32i0cIK/y6xta9zvMuOE/H+2mGKJc7dt0/8LGh++aYYYp0oAAAAA\n",
       "SUVORK5CYII=\n",
       "\" style=\"display:inline;vertical-align:middle;\" /></a></dd>"
      ],
      "text/plain": [
       "<IPython.core.display.HTML object>"
      ]
     },
     "metadata": {},
     "output_type": "display_data"
    }
   ],
   "source": [
    "import proveit\n",
    "%theory"
   ]
  },
  {
   "cell_type": "code",
   "execution_count": null,
   "metadata": {},
   "outputs": [],
   "source": []
  }
 ],
 "metadata": {
  "kernelspec": {
   "display_name": "Python 3",
   "language": "python",
   "name": "python3"
  }
 },
 "nbformat": 4,
 "nbformat_minor": 0
}