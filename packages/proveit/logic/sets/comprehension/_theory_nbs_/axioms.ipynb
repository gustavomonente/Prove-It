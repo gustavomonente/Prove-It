{
 "cells": [
  {
   "cell_type": "markdown",
   "metadata": {},
   "source": [
    "Axioms for the theory of <a class=\"ProveItLink\" href=\"theory.ipynb\">proveit.logic.sets.comprehension</a>\n",
    "========"
   ]
  },
  {
   "cell_type": "code",
   "execution_count": 1,
   "metadata": {},
   "outputs": [
    {
     "name": "stdout",
     "output_type": "stream",
     "text": [
      "Defining axioms for theory 'proveit.logic.sets.comprehension'\n",
      "Subsequent end-of-cell assignments will define axioms\n",
      "%end_axioms will finalize the definitions\n"
     ]
    }
   ],
   "source": [
    "import proveit\n",
    "# Prepare this notebook for defining the axioms of a theory:\n",
    "%axioms_notebook # Keep this at the top following 'import proveit'.\n",
    "from proveit.logic import Forall, And, Equals, InSet, SetOfAll, Exists\n",
    "from proveit import n, x, Q, f, Qy\n",
    "from proveit.core_expr_types import y_1_to_n, f__y_1_to_n, Q__y_1_to_n, S_1_to_n\n",
    "from proveit.logic.sets import general_comprehension_fyn\n",
    "from proveit.numbers import Exp, Natural, NaturalPos\n",
    "%begin axioms"
   ]
  },
  {
   "cell_type": "markdown",
   "metadata": {},
   "source": [
    "**Define general set comprehension any mapping $y \\mapsto f(y)$ applied to the set of elements $y$ of $S$ such that $Q(y)$:**\n",
    "TODO: CHANGE THIS TO A DEFINITION USING UnionOfAll:\n",
    "{f(x) | Q(x)}_{x in S} = Union_{x in S | Q(x)} {f(x)}"
   ]
  },
  {
   "cell_type": "code",
   "execution_count": 2,
   "metadata": {},
   "outputs": [
    {
     "data": {
      "text/html": [
       "<strong id=\"comprehension_def\">comprehension_def:</strong> <a class=\"ProveItLink\" href=\"../__pv_it/axioms/1731950385e10d23d08fc41da3aa31bcd9ae2fa50/axiom_expr.ipynb\"><img src=\"data:image/png;base64,iVBORw0KGgoAAAANSUhEUgAAAu0AAABABAMAAABcjVRNAAAAMFBMVEX///8QEBCIiIhmZma6urrM\n",
       "zMxUVFQiIiJERETc3Nzu7u6qqqp2dnaYmJgyMjIAAAAcRTyBAAAAAXRSTlMAQObYZgAADcZJREFU\n",
       "eNrtnH+QHEUVx9/+vp3dvbuiEi0C6nJXQArBnIkIyCXZQBWHUHKbWIUUlTJLygShKFh+eRCFXOUP\n",
       "uICQjaggFt4QNCBKbhVODAGzJKgUhMpqQLD4tWjQUhHOhARyRzj7dc+Pnu6emdu75eZqtat2d2bu\n",
       "bc/0Z3pe93v9vQUIuLwKzVq0wtS+Hx0f/7BhF/NHYT9ca1rucJ6wf6bxuWF8vDwR7mPbHmnUpaSK\n",
       "woElevNyDwsdviXLPs/dtn1C3Ecadykb88KzOBuauPxbaOwscys03dyvEvbjhWbmvlF4mJeUAuKe\n",
       "Fr35ilIzcxd7VaQWEPfBnHDgb82MHWKjgqMZC4j7gLCfPNTU3OEvwv6TwXBPiZgjbrPIzMIpnurC\n",
       "KffV+Q2Yaf1B2B/KBsK9tV84EMq6hBxvcc9EtZ5TbDU+nxKO31NX/8BRJ9qAqZboV9OjgXBfISIc\n",
       "zLt0d3ZKbf5pAA/UN5SVnNy1zl346Gj9ddVyCb4tmnqDQxXBrx4OhPsV4oHX3eY9LLyKP0sGon/U\n",
       "F5zXnNx/n4c4Yd5a37xpC/1qAyY0oh99Owju2kHxyCne3IfOyUGmq76T7HBw30Iarh0NsKfO+W62\n",
       "MdzDIrp5pQC4Z94Vj1wnGNzcdyPPfTt5Jeqc4d/r4P6Gzh6z6+vsIe2N4S5NJIYqAXBvkSra75xC\n",
       "rNOd/R1bfme9Y3eO456m/nR3KVmss5a9jeEeGxOvrj0A7m3S4LYP3zYd990T6bxmi+70M3s+vgCg\n",
       "E8fGrBRyO7snZ5Du4rgP0noW58Lk4Kb5kJzjdXm8wU5usj0Vz3pYdGAHAuDeW1FdllbJXJWoWbMI\n",
       "fjzC23IbudhoO8zzdMecQabGcd9N7+eGfAuZSFWWyO7WUXiD1zwG/XrKPpHlvgC47xazBHRaldbT\n",
       "o1HqxO3H4Rd0fpnEzvFNgB+S8GoAYu5TQWZguNQix30trWccEmVIlhdBSz9c4FqJYcDKo+gTuqbe\n",
       "5A/EnvZ+ANzf0VXuTzNbG/vk26Tg1gVsGEzhiWcB6CS82hdb4O6jqYFZ5wjHfRzPmDoIoRw5zRHQ\n",
       "lv3yKe4+gRqYkQa+XZydcpP3iweuDID7ey7DjtHapN2hl+QtL4856149dgCiHmMjNVBwp61MjCJ3\n",
       "iI7Cijz0eLSTGtjcWwvQeO5XlKade/J9AGX4Zra23fbv9Ba0FJifIZFjuN2TOzUwrpb3MxfROXMW\n",
       "/Qzmgo4BL+7MgJUetX9fvuuJvO8cZtezL1jPkOhnYF512rmnpJuvoXNI6fMgTD3QfCFuotkbMq7C\n",
       "TXgLvLijQWbhsk5xXF2hbzo2Rk6L4yqp4iZP7tRgzwsdXca4Ks9nol00pPAuZzL/6MgLcBF6Zdq5\n",
       "h/cph53e8gYja5UoO7kP5YwZ3eeht0q5a7jAPlQTN6hBZkk1RB7iSIXjHs5W09hSnFxGCtHDjLtc\n",
       "AX2jBs9/Ao4k293i/F17fEEVEjq0eLXwZzsXAqzhJgjS/B16CwZ32j1e9ePub+VfItJFwMfIa3PH\n",
       "poUsX6Z9/RwH917zid/csbjE+nsfeTASeOnfAGMDj1CDu4+HNrLdmufj1QsvO3495Nk9W9l5iFWX\n",
       "WMNXgBu0FjRIbioC5gzfFLm/tPVBMhCVIOUVj996N6mGnMTqP1EpQh+sGdyfxc9/+nH3t5pAkki6\n",
       "CLhdONPTjjzB02DlCRYZjjslhU/GEWKwEpaQjfudeTGI5zMlI0+A2X7qZx4DdS3EIJ4lsQBoRYP7\n",
       "GQXsv9TD4Eh7dE6B5zh8DpiHoakJLgWdGZVix3aD+13OmYQLd3+rCUTw8uKSW0iYJleXKtDl+EwX\n",
       "iaK0dw3uadmUhlloMBu6Y2JejHjtrrOB5sUup36Lcq8oa6EGoXykkrfzYpXRWDtcSq6dPZCf/U8O\n",
       "4sKtT7fpS9kWG1nu+9QsRzucJTRicG8l1aTLftz9rfxLSLr5sN0l+sf8e+IW1o71kKii8oQGRJvk\n",
       "6B6fCTRIjsA1w1IeGCLjOMNsKcENsM4IiLSsshZqMAiJc/MsD0weoeSPi+H+5XMITMPu+8XYk8I1\n",
       "390Dc9ldMeKs5MV2VyuoIRDumWcefPBO33HV32oC6Rl5fB5yW0t6i5yyk2UiH4Box8mkNaccJLhk\n",
       "ezxCDaIFOLGKgJ3cY1did9H64YxO4vnvWLuS1AzKWqjBWRB+Du81qQ+7baQSz6Kn+crAwEBWy4M2\n",
       "YjoVu3QTD0fPdN3AwDr4CWmVR/sSh8z5zPsDA9/yn8/4Wk2Ke4tbaJKy11frW+f7s/F5rHC8rnU+\n",
       "HBHY+moiF8oj9zi9qDLECjL3a2B25vRXie+ijdkGcD7seeIV9jyX3LmvYrdXyhI5uRtWysCBjxQg\n",
       "3L3TuLDuqi/3TDvM7JLI99KZYRpbHemHB3TK/S49eYv5BtdGR1JzgXjB3+I3TgXtFvhlf8Ic7cVB\n",
       "7oDJ/UzLJzpKl5M7s1IHDo5IYS/EWDI13VHx5a6NzXDu0ZW3U+5wK3K/Y9cXgHJfWo4dCUtL+FaG\n",
       "s+bWYBVm7VrQo52G/S6eZ/m3o+Qn3OKegDDfMWNXPwXHFCTuzEodOPCRwsYSRjH0zopzriFF5/7M\n",
       "DOf+U4yXkXuY+HfjEcDH2Z5ilLUSiYaL4efJ9tyBdYYNnIStD8stbnnX5J6uJhwB16/TekSXuDMr\n",
       "deDARwo3gKkaadMnwD2Un9ncL4vWYNl+fiIXm3e6IfRgA1EpXjkPtELqOf5rm+Fx7Muhqgf3ZO18\n",
       "R8D1RLYrDTsXXL2gzHNnVsrAgY8U6B2mSxCZDXRo3HHycSbaIUW+IVOb2dy/tEs98HJb0Vcqbt9W\n",
       "PM02d1j/NdRnYVKJBlzDw99Jy/6dWqkDBz5SoBNWNpq8RO+Dfnki5+7fAdZB85bkkeAxrsLDZChm\n",
       "SSXa+YbTDy1XcH+46BY48JFCG977o+nmAvpUchpwJff7883L/f6yJ3dcdqBJJRZwDUNlp4I7WqkD\n",
       "Bz5SwNStMTm8zXL+XtyT1zcv99tUE1ObewY5YlKJBVzDcE9CwR2t1IEDHynECw+VNzLHwuSFsZGY\n",
       "R56AlO81LXZNNRbacRMYlLpjLOAahugy8pEXuAMfONhRA3mzI4W7dG129uW9uAHaKH4MpmtWKisx\n",
       "6nWVF/c1378g9PRVXPNixuNOk0o04CIT0VfkPAHjbgYOsaOMqKFEtuxIgQQR9317NZRwA9OHS8ub\n",
       "n9/xjDNkcCvFZuzyyYI6WWJxN5JKZDd6Y45lIxTc7cDBnsWn+EgBqzsfEyplpmt0DCyRsf9zh6Gi\n",
       "08+wYgVcHtxp4LDV2t3KRQo0nBh8QycbrX/K8+EFnVMe9uae/AEpwSGqTv6vUlavZLRd5r6iX8Xd\n",
       "PR+pyJuKW0Y40XINbqQ7QEy4pj7w5h5ZvXr1RXpQ3F1l9pMQ4VPl2yVK7tu7psR9MiV20N/PxAMb\n",
       "XF1l9pMQ4dN1ky1K7gHoOODDGczdXWY/GRE+rhPiS+a+OD/93NfOYO7uMvvJiPBRP48vmfs7MP3c\n",
       "F+dnLnf3RczJiPCpfn6vivt7AXDfXp127kmfv1s9AaVmWsclZ+wQLSYlwqdqq50K7rH9AXAfEq4i\n",
       "/TYtXQb3dF9f31qRu2MN0a3wq49REySGeArFhrM8wudSfg4vZm8Ur8spwvcQgztU+q+xl8Q9PBYA\n",
       "90Sx/v7OryG6XiC/+mish/0oB0t1/8cnYhqg/PUZ2K1/UXpieBG+lxicF+FTucijCu7xkQC4pw/V\n",
       "xV1SG6oebkm2yLYw9R0pwHLfAdAEgysIuvR//CCI8L3EsczADI/YS+Ie6g+Ae3JfPdxltaGiyLJF\n",
       "xj1RpfnoVROets+yfIrYWSYjwnfl3lsNgDv8XenfCw7ultxQVhtaF2QpEhWyRcYdhezhEVKpbaus\n",
       "AE7i/AwY3BzXVZ8I3xCDUzlgj4L7FXoQ3F/P+/d3KjfEpcQaPUDXEC8V7pelSORki07u+PsqkVqy\n",
       "CFZ16grgV9y4+hi5UyeI10W8Rz0ifCYGdx1XjX8BmGbubRV/7ig3xKVETm24XPj3R0uRyMkWBe6Y\n",
       "CgpVov1gVudSAZxtT/yiYy0jcv7LT4Rv7VEDQwxO9fPdMvfMgUC4p+d4cW8l88grdSo3xBQ/pzZc\n",
       "I9iaikRetujkfgSgnCRaALM6lwrgq8ZnD+rfT+iUJf5+InwmpF9jGjAxONXPvylzb60Fwt1Y8fbo\n",
       "70DlhhQUvWS6hihxtxSJtmyR7VvcV2svJ2fR2bZZnboCOMsvTzAhEb6hqF9kisFRP48vkXtvPhju\n",
       "r+v+3K+NsqVzW22I3O2VRV6RaMsW2b7F/d5lmd/kaNPN6tSSRmtpzSXzJYrwU2oRPsZn1ICt27nm\n",
       "xf4KwXBvrfhzR7khgrLVhsjdXlnkFYmcbHGVEUoy7tqpvysk6RfN6tSSRvicedr16lDPKcJnYnBZ\n",
       "hI+KemrA1u3c8sCpOQFxjx3y5U7lhtQx2Itf6GfsGTqvSLRli2zfileJ67kH4NNcdWpJY808qF7Z\n",
       "EET4rMhpJlzg4QzoTVwvc7d0e9P++5Ev+nJHuSFdSrQLFShaK4tqRaK1b3JPfjgHd6zq1JLGlMWw\n",
       "ket8qJ/PKNb5VkNQ3ONdftzd5IZVu295KBJt7nAzmQBGq5atWtJ430ebXXZyzxTr497I32X+l9sf\n",
       "+hqkn4k49rb6WJ/wkWLv6XNw32i0cIK/y6xta9zvMuOE/H+2mGKJc7dt0/8LGh++aYYYp0oAAAAA\n",
       "SUVORK5CYII=\n",
       "\" style=\"display:inline;vertical-align:middle;\" /></a><br>"
      ],
      "text/plain": [
       "comprehension_def: forall_{n in NaturalPos} [forall_{S_{1}, ..S_{_a}.., S_{n}, Q, f, x} ((x in {f(y_{1}, ..y_{_a}.., y_{n}) s.t. Q(y_{1}, ..y_{_a}.., y_{n})}_{y_{1} in S_{1}, ..y_{_a} in S_{_a}.., y_{n} in S_{n}}) \\\\  = [exists_{y_{1} in S_{1}, ..y_{_a} in S_{_a}.., y_{n} in S_{n} | Q(y_{1}, ..y_{_a}.., y_{n})} (x = f(y_{1}, ..y_{_a}.., y_{n}))])]"
      ]
     },
     "execution_count": 2,
     "metadata": {},
     "output_type": "execute_result"
    }
   ],
   "source": [
    "comprehension_def = Forall(n, \n",
    "                           Forall((S_1_to_n, Q, f, x), \n",
    "                                  Equals(InSet(x, general_comprehension_fyn),\n",
    "                                         Exists(y_1_to_n, Equals(x, f__y_1_to_n), \n",
    "                                                domains=[S_1_to_n], conditions=[Q__y_1_to_n]))\\\n",
    "                                  .with_wrap_before_operator()),\n",
    "                          domain=NaturalPos)"
   ]
  },
  {
   "cell_type": "markdown",
   "metadata": {},
   "source": [
    "NOTE: Comprehension defines a subset of some set $S$, and a \"universal\" set must not be allowed.  Otherwise you could define Russel's set,  $R = \\{x~|~x \\notin x\\}_x$, which results in paradox upon asking whether or not $R \\in R$ (if it is, then it cannot be; if it is not, then it must be).  But if $x \\in S$ can only be true if $S$ is a \"proper\" set (the universal set is not a proper set), then this can be avoided.  Comprehension can then only be used to define a subset of a \"proper\" set and Russel's set cannot be defined without additional axioms making improper definitions."
   ]
  },
  {
   "cell_type": "code",
   "execution_count": 3,
   "metadata": {},
   "outputs": [
    {
     "name": "stdout",
     "output_type": "stream",
     "text": [
      "These axioms may now be imported from the theory package: proveit.logic.sets.comprehension\n"
     ]
    }
   ],
   "source": [
    "%end axioms"
   ]
  },
  {
   "cell_type": "code",
   "execution_count": null,
   "metadata": {},
   "outputs": [],
   "source": []
  }
 ],
 "metadata": {
  "kernelspec": {
   "display_name": "Python 3",
   "language": "python",
   "name": "python3"
  }
 },
 "nbformat": 4,
 "nbformat_minor": 0
}