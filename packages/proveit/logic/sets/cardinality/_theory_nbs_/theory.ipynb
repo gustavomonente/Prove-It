{
 "cells": [
  {
   "cell_type": "markdown",
   "metadata": {},
   "source": [
    "Theory of <a class=\"ProveItLink\" href=\"../../../../_theory_nbs_/theory.ipynb\">proveit</a>.<a class=\"ProveItLink\" href=\"../../../_theory_nbs_/theory.ipynb\">logic</a>.<a class=\"ProveItLink\" href=\"../../_theory_nbs_/theory.ipynb\">sets</a>.cardinality\n",
    "========\n",
    "\n",
    "The cardinality of set $S$, $|S|$, is the number of unique elements of $S$ if $S$ is a finite set. The cardinality of infinite sets are specially defined quantities such as $\\aleph_0$ that are appropriately defined where these infinite sets are defined (see `proveit.numberss.sets`)."
   ]
  },
  {
   "cell_type": "code",
   "execution_count": 1,
   "metadata": {},
   "outputs": [
    {
     "data": {
      "text/html": [
       "<h3>Local content of this theory</h3>"
      ],
      "text/plain": [
       "<IPython.core.display.HTML object>"
      ]
     },
     "metadata": {},
     "output_type": "display_data"
    },
    {
     "data": {
      "text/html": [
       "<table><tr>\n",
       "<th><a class=\"ProveItLink\" href=\"common.ipynb\">common expressions</a></th>\n",
       "<th><a class=\"ProveItLink\" href=\"axioms.ipynb\">axioms</a></th>\n",
       "<th><a class=\"ProveItLink\" href=\"theorems.ipynb\">theorems</a></th>\n",
       "<th><a class=\"ProveItLink\" href=\"demonstrations.ipynb\">demonstrations</a></th>\n",
       "</tr></table>\n",
       "<h3>Sub-theories</h3>\n"
      ],
      "text/plain": [
       "<IPython.core.display.HTML object>"
      ]
     },
     "metadata": {},
     "output_type": "display_data"
    },
    {
     "data": {
      "text/html": [
       "<h3>All axioms contained within this theory</h3>"
      ],
      "text/plain": [
       "<IPython.core.display.HTML object>"
      ]
     },
     "metadata": {},
     "output_type": "display_data"
    },
    {
     "data": {
      "text/html": [
       "<dt><a class=\"ProveItLink\" href=\"axioms.ipynb#empty_card\">proveit.logic.sets.cardinality.empty_card</a></dt><dd><a class=\"ProveItLink\" href=\"../__pv_it/axioms/362148cc6ff0c76e4bdc3413008bcc6042246cb40/expr.ipynb\"><img src=\"data:image/png;base64,iVBORw0KGgoAAAANSUhEUgAAADkAAAAVBAMAAAAOWFv7AAAAMFBMVEX///8QEBBmZmaYmJhUVFQi\n",
       "IiLc3NwyMjKqqqpERESIiIi6urp2dnbu7u7MzMwAAADii+d4AAAAAXRSTlMAQObYZgAAAN1JREFU\n",
       "KM9jeMsABJwMDGAaA5xmYOA4dRJMY5c9xbAci+wpmwcgUbYAhikLMGTZG3jDQLLMCgzRARiyhgwM\n",
       "x0GynAu4df9iyE5hYOi/ABRlNGDa+w9D9gsDw/4GoCh/AyvDb3RZ3k9A2QVg2UyGHxDZ4+UgUARk\n",
       "sf1hYHgPljVYDJNFADag3vcHwPbW4jGZdW0BL1ZX9YNcxXLiAN8HZHtLQMyZDAz2IB8xT3nAPAFn\n",
       "aDCEMrBvwJBlbeCVA8u25p7CjAXeU0vAscBweHMCnhhsgNLYZRnIlV2HRqMAAE/6Xh2wFdchAAAA\n",
       "AElFTkSuQmCC\n",
       "\" style=\"display:inline;vertical-align:middle;\" /></a></dd>"
      ],
      "text/plain": [
       "<IPython.core.display.HTML object>"
      ]
     },
     "metadata": {},
     "output_type": "display_data"
    },
    {
     "data": {
      "text/html": [
       "<dt><a class=\"ProveItLink\" href=\"axioms.ipynb#card_induction\">proveit.logic.sets.cardinality.card_induction</a></dt><dd><a class=\"ProveItLink\" href=\"../__pv_it/axioms/bc57591fe4c33467fbbf21df1423ec774183c3870/expr.ipynb\"><img src=\"data:image/png;base64,iVBORw0KGgoAAAANSUhEUgAAAV4AAAAXCAMAAAB01dc4AAAAQlBMVEX///8SEhIoKCgtLS0/Pz96\n",
       "enovLy8QEBCIiIhmZma6urrMzMxUVFQiIiJERETc3Nzu7u6qqqp2dnaYmJgyMjIAAABQsGWnAAAA\n",
       "AXRSTlMAQObYZgAABBJJREFUWMPlWdm25CYM9GQyMftq/v9XY3ZhA206naTPGR7ulW1ZBWUhCfW2\n",
       "ffGgakndYnt5HyP1jrme4uJcvnxIz5QhC2+ow9xvkp3WiyfmhrhP56JlIxz149vvYVeJdkkaG2M2\n",
       "O1uidb27+FhiaIz7+FMzCQWj8/3ji9z/kM0yhQ1LTwSCeQLR8J4hePcBQ2Pcly/rXaVdVLaT3w0i\n",
       "bwvxPexa3PCB46VNEwcOeXyW3gnu5WWNWq9nhrn0rU1+FITstNWN///BJVymcjGAkjRvwBj/LL0T\n",
       "3Dm9ITglItW+AcEa5YfkX5TXeMMHcTErUPov0zvDfU7vdhAoOOEHN//x/p+sFeGt9SJn6NbltEOv\n",
       "QohJgtIWNfsCvTPcBXoNhgILJoTsVoBn4tS2rg1gkIsGWaNX9AFqRgFLQu4cJSMP6GUxDqvTTSxH\n",
       "Gz9u9URlyBxg4Ee4C/TmHBEFgmG+a8tG/0i7GylVrBptZqQc+wmhnQ32Ie4DRNL0hQ9l2e52NaNX\n",
       "pwrXnFrmXClJXwOw99J7Z7gL9GreCP4P6ha9XHU5BWLVSI+UNtifnrQIK8Wdas+r/PWrDxDGTjp8\n",
       "YKfH9FKRslIo1QQ0yDh6Su8Mt9yLns/38I/16KWuEYxtpgyGC3PWE3qrRry2QkvlcbRF2+k4nYge\n",
       "VP4cAHSWmUyoGb3t+cwB1wIMLNLb4i5474VeeWyU5VINU8TKRI/9YvVGb9UQZbNHfKqpRJXeYjmo\n",
       "UDMAuG9SxfJc1a3YhSGNlblRR7tnuUHsZY9wF+glvBWEZPFlpHyG4MWSwmfoITN6q4ZoV67pGRxs\n",
       "phFYDipYDgDuKUan3I/Ll8LgzHqrHLQ6M1IEXK4cZrhvpzY/y8T3+dWPSxCWjM/orRoisAXpPV23\n",
       "1CjFclQRI4CmsglLwjxcGQZ8NnknOW6HYnJuZX+IlfaNuneG+5JeVOgtjpAFEKxcLdAUjbFnTC/U\n",
       "EKFeCDW0QJHec438GsiDys8/vEoPoNldcZkbYZgxGJ/lITSlmgl1O0AohpBCuLSnluid4b6gF58l\n",
       "xpEaovnrF8GqDUTj/FQH05SN6YUa4RFrvHcjtM4iW/YqTI0AeofTXj2OMEZyeD77zKF41pC8e2/1\n",
       "Sn4Vsle4M+iHlCm9Y+DgoI2LXOiFGrGVR9tTmU22qmWvkrNGB6DbWnk0YJT9UEtnQq8atxfblk7T\n",
       "97HEIF+u0l37/IONaQvXK71AIz4SOu+zePJm0Va17FVsUuoAZONymd6P9HvHuI/n0jYkh+3L2VG2\n",
       "dxZI1yjF3okt9OOu8qKt/ahH3P21gvyjdvob9JbuQr/NkBiRb9L7wJbED5pmPksgutTG0C9+a3ti\n",
       "boj7dC5WXoWu1vY5eu27jvDbDdwVu9fjwX4fvv4GiltIZTzXl0IAAAAASUVORK5CYII=\n",
       "\" style=\"display:inline;vertical-align:middle;\" /></a></dd>"
      ],
      "text/plain": [
       "<IPython.core.display.HTML object>"
      ]
     },
     "metadata": {},
     "output_type": "display_data"
    }
   ],
   "source": [
    "import proveit\n",
    "%theory"
   ]
  },
  {
   "cell_type": "code",
   "execution_count": null,
   "metadata": {},
   "outputs": [],
   "source": []
  }
 ],
 "metadata": {
  "kernelspec": {
   "display_name": "Python 3",
   "language": "python",
   "name": "python3"
  }
 },
 "nbformat": 4,
 "nbformat_minor": 0
}