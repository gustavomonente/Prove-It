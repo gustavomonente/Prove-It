{
 "cells": [
  {
   "cell_type": "markdown",
   "metadata": {},
   "source": [
    "Proof of <a class=\"ProveItLink\" href=\"../../../../../../_theory_nbs_/theory.ipynb\">proveit</a>.<a class=\"ProveItLink\" href=\"../../../../../_theory_nbs_/theory.ipynb\">logic</a>.<a class=\"ProveItLink\" href=\"../../../../_theory_nbs_/theory.ipynb\">sets</a>.<a class=\"ProveItLink\" href=\"../../theory.ipynb\">cardinality</a>.<a class=\"ProveItLink\" href=\"../../theorems.ipynb#distinct_pair_existence\">distinct_pair_existence</a> theorem\n",
    "========"
   ]
  },
  {
   "cell_type": "code",
   "execution_count": 1,
   "metadata": {},
   "outputs": [],
   "source": [
    "import proveit\n",
    "theory = proveit.Theory() # the theorem's theory"
   ]
  },
  {
   "cell_type": "code",
   "execution_count": 2,
   "metadata": {},
   "outputs": [
    {
     "data": {
      "text/html": [
       "Under these <a href=\"presumptions.txt\">presumptions</a>, we begin our proof of<br><strong id=\"distinct_pair_existence\">distinct_pair_existence:</strong> <a class=\"ProveItLink\" href=\"../../../__pv_it/theorems/00d201e58caaa6c3013f5a122dea94540d28be5e0/expr.ipynb\"><img src=\"data:image/png;base64,iVBORw0KGgoAAAANSUhEUgAAAOoAAAAWCAMAAAD5GvAeAAAAOVBMVEX///8kJCQNDQ0oKCgQEBCI\n",
       "iIhmZma6urrMzMxUVFQiIiJERETc3Nzu7u6qqqp2dnaYmJgyMjIAAAD9T1yxAAAAAXRSTlMAQObY\n",
       "ZgAAAyRJREFUWMPNWFey2zAMZBKxE2z3P+xjryrjePzG+PCQFkTtoksIfViwcwypKm8dpez9dQP7\n",
       "fzo/0jpBkWv/WvsJqoaGH8KzHPDGSSAfLOFG3UPkFVcNh9H1soOPUa3C33Gre7iZ00mbFNKu4VDV\n",
       "Vkqir6ZqyYNTZ/y+utDghqM6s7v3O6mKJ6eycUd9jVE4Gg5rIIoS6KupPuFbnGq6uqMNh5dRhPlu\n",
       "qrjGryKG4L2+STYnNseY5Dg1pOHInpcFBTPGaNvuG4HSRYPuvIgkcELViCx+o0qd22ktGDKV0h/o\n",
       "Ec5wvp/vkvz7G39bOoMPeQn5cdY1HJQMhSptdD9pDAu5aMQ9HR1lwpq717xq9mqzYsipqkvmRcpE\n",
       "PjhVp1T1qSJp0XHEJS5GEzAT3Kl2DZnjqdeDWDnY4rknqq5WQ9CGEHuGIcmRzyGJg8BrHPB5T1xy\n",
       "bUpK5jsOYzPdVKMTGH1DtWvImjzVpGEiQcrTl6hWy1ipFcAphpHqIRMHtjp1OTiFMs0NZ6Qaxoxm\n",
       "FXdM2E6odo12DYykc+jcUQWCuatYmceYQwnaCwxDAGdHjcGdcvXPkTO2+dbbFgGIDgEcbNImDSCH\n",
       "P+gd1a4xXANT2/MaWxtVECwQrPbAIVpjcR0zfMUwlCVIjgr1QKvbQSqGVk7rqSwFK5GxaSku7qh2\n",
       "DTkO9faiymxUSdBg7QkSJyyw3DZhGA9O+oIjs9WxeZ4IcGT5l5gRhy+uAJZNd0111KjXAEt9Ob2l\n",
       "R7jSbGI7PIIu5mMKEh64p+YeiewYUA9DBKFfMsXxPO9uXTYkialvLzlZKlVbdLVey9lKddSQW6LS\n",
       "YEDKrr2aOKgYjaUCIV/I90fuGJ4GQ307HYM4xZH6FUi4pjpqpCXpRBFzWmsJt1RRGAGYpzaOcpAa\n",
       "i43nGHaN4Wncv38lG8b9iWqYusw072xUB424Z6MPDx8F3VOlHGscGyiL3mTc5LRrObBjuGgozam3\n",
       "I+3wEvcg8mJ9tn+egVeQ05BbcvXlV/N7p0r1a1SxcOyK6YvD/8UHl1sOVpUOId6mqmWV179hfOQD\n",
       "z/8LuVif7b9cfgC+gicRhmUWKAAAAABJRU5ErkJggg==\n",
       "\" style=\"display:inline;vertical-align:middle;\" /></a><br>(see <a class=\"ProveItLink\" href=\"../../../__pv_it/theorems/e94b6b12d59da1aaacb0dcea4815d5b3440fd4a00/dependencies.ipynb\">dependencies</a>)<br>"
      ],
      "text/plain": [
       "distinct_pair_existence: forall_{S | |S| >= 2} [exists_{a, b in S} (a != b)]"
      ]
     },
     "execution_count": 2,
     "metadata": {},
     "output_type": "execute_result"
    }
   ],
   "source": [
    "%proving distinct_pair_existence"
   ]
  },
  {
   "cell_type": "code",
   "execution_count": null,
   "metadata": {},
   "outputs": [],
   "source": []
  }
 ],
 "metadata": {
  "kernelspec": {
   "display_name": "Python 3",
   "language": "python",
   "name": "python3"
  }
 },
 "nbformat": 4,
 "nbformat_minor": 0
}