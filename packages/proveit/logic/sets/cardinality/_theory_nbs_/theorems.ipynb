{
 "cells": [
  {
   "cell_type": "markdown",
   "metadata": {},
   "source": [
    "Theorems (or conjectures) for the theory of <a class=\"ProveItLink\" href=\"theory.ipynb\">proveit.logic.sets.cardinality</a>\n",
    "========"
   ]
  },
  {
   "cell_type": "code",
   "execution_count": 1,
   "metadata": {},
   "outputs": [
    {
     "name": "stdout",
     "output_type": "stream",
     "text": [
      "Defining theorems for theory 'proveit.logic.sets.cardinality'\n",
      "Subsequent end-of-cell assignments will define theorems\n",
      "'%end theorems' will finalize the definitions\n"
     ]
    }
   ],
   "source": [
    "import proveit\n",
    "# Prepare this notebook for defining the theorems of a theory:\n",
    "%theorems_notebook # Keep this at the top following 'import proveit'.\n",
    "from proveit.logic import Forall, Exists, Implies, Equals, NotEquals, Card, Set, Distinct\n",
    "from proveit.numbers import greater_eq, num\n",
    "from proveit import a, b, n, N, S\n",
    "from proveit.core_expr_types import Len\n",
    "from proveit.core_expr_types import x_1_to_n\n",
    "from proveit.numbers import NaturalPos\n",
    "%begin theorems"
   ]
  },
  {
   "cell_type": "markdown",
   "metadata": {},
   "source": [
    "**The cardinality of an enumerated set of unique elements is the number of these unique elements:**"
   ]
  },
  {
   "cell_type": "code",
   "execution_count": 2,
   "metadata": {},
   "outputs": [
    {
     "data": {
      "text/html": [
       "<strong id=\"enum_set_card\"><a class=\"ProveItLink\" href=\"proofs/enum_set_card/thm_proof.ipynb\">enum_set_card</a> (conjecture without proof):<br></strong> <a class=\"ProveItLink\" href=\"../__pv_it/theorems/b06a366be37abaec4aba73a117b9a67b742439610/theorem_expr.ipynb\"><img src=\"data:image/png;base64,iVBORw0KGgoAAAANSUhEUgAAAmQAAAAZBAMAAABtHC+5AAAAMFBMVEX///8QEBCIiIhmZma6urrM\n",
       "zMxUVFQiIiJERETc3Nzu7u6qqqp2dnaYmJgyMjIAAAAcRTyBAAAAAXRSTlMAQObYZgAABiRJREFU\n",
       "WMPtmW9oHEUUwF8uu3t3e7uXfGg/1CCcCUlLjGYxSJE2clEwikKvEaRooUc0iIJ62NJoWmrwixel\n",
       "9PzDNVRqtvmQpvFPTyRqA4VrLiqkjZ40IkqD50dFZTEoGkWdf7u3t3u7exvIGcSB7Lydm3kz89uZ\n",
       "N29eALyTMPws/J9o4oaP1lIt+C8O8UHylHv9teJvUU2tberWlXiqErKbGlm4CAs4F3/wvRi2kmzB\n",
       "Wk4LTvtTdoE8pTgVslDC2YoHsij51MV6I5tmc5Q1301vd0EmjvrTJWQYMiJk4TJ+/d4DmZRDWVSt\n",
       "N7Lv2ByllO+mn7ggi2b86RJLDBkRsjCON8CoBzJSYbzexGRlY5Bd9atsniEjQpasHbKIXG0ZXoaX\n",
       "640smNkYZL7P/zM6sjMEmbw4M3PS0/xfm5k5l6o3spOwIcjCvrVF4wwZFtCJ+Vs6fdQTWVM6/UK+\n",
       "3sjaKpBNdrzWFXM1Oa2P3TGvv1xyRhZQLHWrJnN3ksKQYQEhGwIYq9IkX4FMSEDIj9E853xUhL38\n",
       "H0M6rk9aQGZXzMtPB0tuDd+CL2PH9Jdvysikn0hS9IJQ0VK3Kn9zd3KJIcMCQnYnOxEsSalAxinw\n",
       "Tk2s4jTrzsn68pdTjt+iaorEdemIPul3E2jEqrTGZYB3PqkW4TP1HmMvKY6rLJgz6u5zVMa6Y0NK\n",
       "MWRYyGIgAbPDxR9cgBuSVmSQgptqQsZmFM1xSQaICWQchpPjlm7ThS1sjvuwvRYhhHTzPc6GSIW0\n",
       "6e3RmBOyhrhe9/6dzquMdKcz0RgyLCBkUrHs3b9Z6IUPJbVRtSFbgpQfZCH9DK5YwNgj3u+pYsqK\n",
       "DPoS+NmEIXBuw/jZ1FUS3JCxuv0uyppijsjCpQcMR+ilUypcjCkSFHoO9uTMyN7gk/6QidRlbgax\n",
       "vKywTR7yPp8y1o0pEK0HEh7I+F/Kst2WJc0bk9V1Q0a6Y9cvfWNydGPC2CP43jvQhs0aSrOzr0g2\n",
       "WwahLD4w2gbsM64sJJMLLN2cm9ag9Vrs/T8Xp7XwtwMdAFcKrz91RcWLdf7WjoSLGsNOHDefmBG1\n",
       "GwKqG7K5gAadcPWLVsX9xMTmn9Z1QUa7o1hs5h/eQ6OQ+4oNGbqLZqW399uRRfC27xRKh0CwHIak\n",
       "sBLZbmjIiRqXD8d4tMo0mMhFc0JeyO8lTlFAfTIYh8fBSU1EX88FM7I9uRP4Oo2RnccH6F9ABeON\n",
       "+yOkoXv88vWwzd0vQ54Cq4uRGYqIYLzR7igWaMwzZFjIsk17ajs0qSLBNAv5gh0Z2fuJaBH4SxZk\n",
       "uLASmbiGzL+ohVfnVIrsvCrEJlAzhIwbRV7Ej8ikXQdOajjd7vabkU21TvYWKbLgCCo7jAeW1B/D\n",
       "KoiDnW0rEJ5MwZo7MqSC1qU9oKZUB9ZI1Y7o3REsyFQkdFc2QZHJmMEg9AH/TDr9PEJ2OlgF2dfE\n",
       "JCLkQavL1ZSxIOM0ggzu/jvOkIEQ2wMUGR7c7+hvBJzU8CWXCxPZmHNV9pERdohxzTVfmPormpa3\n",
       "uCFhLABn9QvTWXO8bCvs5iFJVxk3gL96tXjZAVRsQ4YK5V0r+TKyMF1lfCaS4ptlhmwig5EVsV/F\n",
       "a3wVZIYawyspX8ubK5HZXTvJkBoSjflErdfy/oqmVVxHgsV6LWcuuQaHZuEjLC6jG2X1EGNY+xRp\n",
       "Q8jCL8K4yh6kMLJD90FG6bd5uShqEQVGRe0hbMsQMkERY+f5nJiCCakkEWQOamRjxGP2eBl2JkX7\n",
       "vWnSkCYgeG/CPV5Wvsd8UNHU8MkM/RSLNfjDPl4SuorEm+KOxUGojkx84r4uFSPjW2Bvht+GHy20\n",
       "cEj3ykkmLW1vmVqNzHdl4GNlalU8kfz8CBRaQXoYo5panl8kyBzUNMatIUYworLhnb/GQLavi7I5\n",
       "vQud12gWW2oJMb763KC5qeFrldc0xaKHGEMZeyB7B7JlXoFsvDEj5a9Os1RgucIvc043snwEnNRE\n",
       "zYHsdvrzOmP/7dYf2tcTyP6K+j4JKviP/fPdu/RoeDkuLiYjSzUiC9FsYDXnpOYibOq0zn+XFKtI\n",
       "NSLjih5qROW/gMzH/zG953vB4/eAupmBccOH/wF0OAi+eOKjDAAAAABJRU5ErkJggg==\n",
       "\" style=\"display:inline;vertical-align:middle;\" /></a><br>"
      ],
      "text/plain": [
       "enum_set_card: forall_{n in NaturalPos} [forall_{x_{1}, ..x_{_a}.., x_{n} | distinct(x_{1}, ..x_{_a}.., x_{n})} (|{x_{1}, ..x_{_a}.., x_{n}}| = |(x_{1}, ..x_{_a}.., x_{n})|)]"
      ]
     },
     "execution_count": 2,
     "metadata": {},
     "output_type": "execute_result"
    }
   ],
   "source": [
    "enum_set_card = Forall(n, Forall(x_1_to_n, Equals(Card(Set(x_1_to_n)), Len(x_1_to_n)), \n",
    "                               conditions=[Distinct(x_1_to_n)]),\n",
    "                    domain=NaturalPos)"
   ]
  },
  {
   "cell_type": "markdown",
   "metadata": {},
   "source": [
    "**If there are two or more elements in a set, there exists a pair of elements in the set that are not the same:**"
   ]
  },
  {
   "cell_type": "code",
   "execution_count": 3,
   "metadata": {},
   "outputs": [
    {
     "data": {
      "text/html": [
       "<strong id=\"distinct_subset_existence\"><a class=\"ProveItLink\" href=\"proofs/distinct_subset_existence/thm_proof.ipynb\">distinct_subset_existence</a> (conjecture without proof):<br></strong> <a class=\"ProveItLink\" href=\"../__pv_it/theorems/3e3ff056077748ca82bb23e815590b6e0f70a3b10/theorem_expr.ipynb\"><img src=\"data:image/png;base64,iVBORw0KGgoAAAANSUhEUgAAAnIAAAAZBAMAAABHrN4WAAAAMFBMVEX///8QEBCIiIhmZma6urrM\n",
       "zMxUVFQiIiJERETc3Nzu7u6qqqp2dnaYmJgyMjIAAAAcRTyBAAAAAXRSTlMAQObYZgAABvhJREFU\n",
       "WMPdmX9sk0UYx7+0ffvj7dvOKMYgECsLiBOlOA3gQAsmooKhLHH6B2GVuJERMcURikhwGoUCQRox\n",
       "MEmQN1tEnNPVyBRQpGyYCGzY8CMSA1oTNcEEM2AiAxHv7n37/ujb9qVdBMctu/fufe95nvf93HP3\n",
       "3F0B8zQvEkN/kj3yMm6gNC2SgC2y7GqahvtpyoEbK7lCJNtwjci53iXpOnzk+0+aUUgWpM8dU8ml\n",
       "6I2TJuS89OJJFk/OWltb+5x47cl93QvXcBXTcEODbQUqrFPJHaT1303ICXFy8Yr9G6322HUYWL3g\n",
       "/paKNihFOQXI/6kCFX6ikmukxQYTcqxBIwYeOfQqpebMR7yfjCN/gfoEn0KOehJzqbzzHHXKgwOb\n",
       "3JHMR5Sao9B34m9SyHkOtLRsNI0QJ1paPgwPTHKup6W5/RzSRTntIeQ2FqzwFzW2XohGl5mSK4lG\n",
       "VyYGHLnWjpG9aDwP7p7DqSN/lcdJcc4tlaPIgGvuqvA8Ul+BUtKqadQ7Y3x5/WxE3dSOdKVTJVcD\n",
       "rMrSPKEjZw/CGesHOSESibxatAIzwWCOLx4KgYzW32gADaMetIglPlcfXEMxK+YgPreWtEp4XnKk\n",
       "8nYAvvctT1d+VMk9Cj6bnF9HzuZnUYXrOniMev66JKYNkwOWnM/u2h20KSI7LsO2MFGcz1FN6dDH\n",
       "csFMYnv6RfSmnSkaW7ECU0T4GLkVwGvAZXhT+DRIyb1CtIvCRVsMXO4oeQDfiU+kK1+o5BywaBdq\n",
       "XP0+3BnKJEf+7wWl7O6hd46HYWFf54ScE7R7yNVWJ8++K4GRxY1WpommhnReZyZijckvojfdlgDP\n",
       "yDku3I00ubeAs2ijX0fJDSY+ByexwZXnnsZFRNVKtUpOSKq7o486J2OHIFpFA7luli+Vv2d/L6zQ\n",
       "kXOIJCfX9TVS8N4SUDVcNTn+q/KkpElLjjOdYPmQhpxqutonk+MPXfGnyUUpuWqfSo5M4rRmyxcA\n",
       "z2Yl50pVKd21ZpOI3T6/gM7y+vK4ltx7HG3eB7C7iWgmuZIY3Ky2/k32+qQfCyd3fGeLrElLzh40\n",
       "9dNTWnKK6bY0uU3w9BJyPoWc7HMWOloJjKAJOe5PzX5fs29d9TxhNrmylA5Gktrb3xYM8xycG+i0\n",
       "8/M+qY99M2NNenLeYQG51voGjVe2Pt5nJNfx4CgDBqG0skYZp5A1ack5tG2yCpKZRCWnmvY2yPPc\n",
       "VGABiQ5+hRyZ5xD3hqw0QrjFsbCI+cjtsvSgDEeOjfDrIwQ+IzKeKclBMWkP2y58PNtIzj2ercPv\n",
       "YO7tJrPrdj05ftyZgFxrJcvmdtS7AwZyFvFFRwDz9e9VZk8tkkpeqVuoJi25jXIbu5hLEJ8T0/Yo\n",
       "SWu1pl2DYT1LWZEIsQoPk0+KyuTIBlaIWVNWusaYGV+HzZLPtREA/D+Qs3TNdsnZ40ri6HAMIXcn\n",
       "acjRYb7pLpSIPKPVjkSnkZw81F3zWG/DczGhJ0dUheXafUm6pvmpVbsq8ZJVyUKRw2kSOm/PWFJ4\n",
       "kxn7ow1hHbnHpTbcXjGXIGni1CynFNPN3SPPhKquzJ9x+EQA9hdipFh1pWbHmRC23r8fqN1Px97W\n",
       "EU2TkxI5B5nHsRhy5qCAIiL4uWWlJ+FqCuMiufGrhpyHvtFcTAG3JBp9nZDb7MhC7gd6ZkM6gsUy\n",
       "4Ga/jhwfBN/DavzoOJMeVJrtfK5PCjO6VJKe/54hTuOTNGnJPSa3cYi5BDFHQ05n2nSpqahgo3WX\n",
       "8VhJMWr32cjOiw9nns/dikkcQpLP2Sr1q0tlBvgSqJJ8Dnv1PueOg2MBjv82IHW8MCwLOa6HM5Kr\n",
       "RtBTcZLos7NXZZq05J6V2hjJKYIELhmtf5B0OsO0WVJ3/IycMYqra8lBQWsiqN3xy6cxPVjUjm9o\n",
       "8SjZpeY42ZwAfjUaRUwnvhfXkbM2YBtdTfATGDhbHPwlI7ktQkpg5BpF12qWkb+eQ0i4R1MjAu0t\n",
       "SZOW3AdgbRi57ILkhRWf05s2Tcr2yR2mkc/wvEkpbYFjelB7yiTbC2FMEk6Cw7Y8IHV+FnITJ3WK\n",
       "mBW33hagi08dufVdD9ErJ7nqODJ1TzSS23q04wAjNyvODSH7H24IN5RfMGOMiBq2hF9DyTFNutgq\n",
       "Sm0ouRyCD6jk9KZNU/pk0zX+vA8e43N1k/AYLN0S6Wyn6aPJPGd6mq49ktJECM01/+8QS7U63LIJ\n",
       "C3F1WMg8p7ZLk7PIjdlozS6YymXa/OizsINuT6wfv0O4Y/0jV3kurtGxU94EuLsNYsruSypwYyuQ\n",
       "Q9CdLJpcUbSLJKdz6UxybrqoWp3f53Q68nS5Qu4pM8Fm/E/JRXL/3mrV5Oo1k1xxv7f607nbbNtW\n",
       "ltP0f5GmRUKwRRb/C0JnGfeUU/t2AAAAAElFTkSuQmCC\n",
       "\" style=\"display:inline;vertical-align:middle;\" /></a><br>"
      ],
      "text/plain": [
       "distinct_subset_existence: forall_{n in NaturalPos} [forall_{S, N | |S| >= N} [exists_{x_{1}, ..x_{_a}.., x_{n} in S | |(x_{1}, ..x_{_a}.., x_{n})| = N} distinct(x_{1}, ..x_{_a}.., x_{n})]]"
      ]
     },
     "execution_count": 3,
     "metadata": {},
     "output_type": "execute_result"
    }
   ],
   "source": [
    "distinct_subset_existence = Forall(n, Forall((S, N), \n",
    "                                           Exists(x_1_to_n, Distinct(x_1_to_n), domain=S,\n",
    "                                                  conditions=[Equals(Len(x_1_to_n), N)]),\n",
    "                                           conditions=[greater_eq(Card(S), N)]),\n",
    "                                 domain=NaturalPos)"
   ]
  },
  {
   "cell_type": "code",
   "execution_count": 4,
   "metadata": {},
   "outputs": [
    {
     "data": {
      "text/html": [
       "<strong id=\"distinct_pair_existence\"><a class=\"ProveItLink\" href=\"proofs/distinct_pair_existence/thm_proof.ipynb\">distinct_pair_existence</a> (conjecture without proof):<br></strong> <a class=\"ProveItLink\" href=\"../__pv_it/theorems/e94b6b12d59da1aaacb0dcea4815d5b3440fd4a00/theorem_expr.ipynb\"><img src=\"data:image/png;base64,iVBORw0KGgoAAAANSUhEUgAAAOoAAAAWCAMAAAD5GvAeAAAAOVBMVEX///8kJCQNDQ0oKCgQEBCI\n",
       "iIhmZma6urrMzMxUVFQiIiJERETc3Nzu7u6qqqp2dnaYmJgyMjIAAAD9T1yxAAAAAXRSTlMAQObY\n",
       "ZgAAAyRJREFUWMPNWFey2zAMZBKxE2z3P+xjryrjePzG+PCQFkTtoksIfViwcwypKm8dpez9dQP7\n",
       "fzo/0jpBkWv/WvsJqoaGH8KzHPDGSSAfLOFG3UPkFVcNh9H1soOPUa3C33Gre7iZ00mbFNKu4VDV\n",
       "Vkqir6ZqyYNTZ/y+utDghqM6s7v3O6mKJ6eycUd9jVE4Gg5rIIoS6KupPuFbnGq6uqMNh5dRhPlu\n",
       "qrjGryKG4L2+STYnNseY5Dg1pOHInpcFBTPGaNvuG4HSRYPuvIgkcELViCx+o0qd22ktGDKV0h/o\n",
       "Ec5wvp/vkvz7G39bOoMPeQn5cdY1HJQMhSptdD9pDAu5aMQ9HR1lwpq717xq9mqzYsipqkvmRcpE\n",
       "PjhVp1T1qSJp0XHEJS5GEzAT3Kl2DZnjqdeDWDnY4rknqq5WQ9CGEHuGIcmRzyGJg8BrHPB5T1xy\n",
       "bUpK5jsOYzPdVKMTGH1DtWvImjzVpGEiQcrTl6hWy1ipFcAphpHqIRMHtjp1OTiFMs0NZ6Qaxoxm\n",
       "FXdM2E6odo12DYykc+jcUQWCuatYmceYQwnaCwxDAGdHjcGdcvXPkTO2+dbbFgGIDgEcbNImDSCH\n",
       "P+gd1a4xXANT2/MaWxtVECwQrPbAIVpjcR0zfMUwlCVIjgr1QKvbQSqGVk7rqSwFK5GxaSku7qh2\n",
       "DTkO9faiymxUSdBg7QkSJyyw3DZhGA9O+oIjs9WxeZ4IcGT5l5gRhy+uAJZNd0111KjXAEt9Ob2l\n",
       "R7jSbGI7PIIu5mMKEh64p+YeiewYUA9DBKFfMsXxPO9uXTYkialvLzlZKlVbdLVey9lKddSQW6LS\n",
       "YEDKrr2aOKgYjaUCIV/I90fuGJ4GQ307HYM4xZH6FUi4pjpqpCXpRBFzWmsJt1RRGAGYpzaOcpAa\n",
       "i43nGHaN4Wncv38lG8b9iWqYusw072xUB424Z6MPDx8F3VOlHGscGyiL3mTc5LRrObBjuGgozam3\n",
       "I+3wEvcg8mJ9tn+egVeQ05BbcvXlV/N7p0r1a1SxcOyK6YvD/8UHl1sOVpUOId6mqmWV179hfOQD\n",
       "z/8LuVif7b9cfgC+gicRhmUWKAAAAABJRU5ErkJggg==\n",
       "\" style=\"display:inline;vertical-align:middle;\" /></a><br>"
      ],
      "text/plain": [
       "distinct_pair_existence: forall_{S | |S| >= 2} [exists_{a, b in S} (a != b)]"
      ]
     },
     "execution_count": 4,
     "metadata": {},
     "output_type": "execute_result"
    }
   ],
   "source": [
    "distinct_pair_existence = Forall(S, Exists((a, b), NotEquals(a, b), domain=S),\n",
    "                               conditions=[greater_eq(Card(S), num(2))])"
   ]
  },
  {
   "cell_type": "code",
   "execution_count": 5,
   "metadata": {},
   "outputs": [
    {
     "name": "stdout",
     "output_type": "stream",
     "text": [
      "These theorems may now be imported from the theory package: proveit.logic.sets.cardinality\n"
     ]
    }
   ],
   "source": [
    "%end theorems"
   ]
  },
  {
   "cell_type": "code",
   "execution_count": null,
   "metadata": {},
   "outputs": [],
   "source": []
  }
 ],
 "metadata": {
  "kernelspec": {
   "display_name": "Python 3",
   "language": "python",
   "name": "python3"
  }
 },
 "nbformat": 4,
 "nbformat_minor": 0
}