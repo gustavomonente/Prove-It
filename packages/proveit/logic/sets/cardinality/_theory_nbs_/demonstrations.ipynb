{
 "cells": [
  {
   "cell_type": "markdown",
   "metadata": {},
   "source": [
    "Demonstrations for the theory of <a class=\"ProveItLink\" href=\"theory.ipynb\">proveit.logic.sets.cardinality</a>\n",
    "========"
   ]
  },
  {
   "cell_type": "code",
   "execution_count": 1,
   "metadata": {},
   "outputs": [],
   "source": [
    "import proveit\n",
    "from proveit.logic import Forall, Exists, Implies, Equals, NotEquals, Card, Set, Distinct, InSet\n",
    "from proveit.numbers import greater_eq, num, four\n",
    "from proveit import a, b, n, A, B, C, D, N, S\n",
    "from proveit.numbers import NaturalPos\n",
    "%begin demonstrations"
   ]
  },
  {
   "cell_type": "markdown",
   "metadata": {},
   "source": [
    "enum_set_card"
   ]
  },
  {
   "cell_type": "code",
   "execution_count": 2,
   "metadata": {},
   "outputs": [],
   "source": [
    "#Equals(Card(Set(x_iter1l)), Len(x_iter1l)).prove([Distinct(x_iter1l)])"
   ]
  },
  {
   "cell_type": "code",
   "execution_count": 3,
   "metadata": {},
   "outputs": [
    {
     "data": {
      "text/html": [
       "<span style=\"font-size:20px;\"> <a class=\"ProveItLink\" href=\"proofs/distinct_subset_existence/thm_proof.ipynb\" style=\"text-decoration: none\">&nbsp;&#x22A2;&nbsp;&nbsp;</a><a class=\"ProveItLink\" href=\"../__pv_it/theorems/66cee47fc6983de3be85f98047217dc17ecea7b50/expr.ipynb\"><img src=\"data:image/png;base64,iVBORw0KGgoAAAANSUhEUgAAAnIAAAAZBAMAAABHrN4WAAAAMFBMVEX///8QEBCIiIhmZma6urrM\n",
       "zMxUVFQiIiJERETc3Nzu7u6qqqp2dnaYmJgyMjIAAAAcRTyBAAAAAXRSTlMAQObYZgAABvhJREFU\n",
       "WMPdmX9sk0UYx7+0ffvj7dvOKMYgECsLiBOlOA3gQAsmooKhLHH6B2GVuJERMcURikhwGoUCQRox\n",
       "MEmQN1tEnNPVyBRQpGyYCGzY8CMSA1oTNcEEM2AiAxHv7n37/ujb9qVdBMctu/fufe95nvf93HP3\n",
       "3F0B8zQvEkN/kj3yMm6gNC2SgC2y7GqahvtpyoEbK7lCJNtwjci53iXpOnzk+0+aUUgWpM8dU8ml\n",
       "6I2TJuS89OJJFk/OWltb+5x47cl93QvXcBXTcEODbQUqrFPJHaT1303ICXFy8Yr9G6322HUYWL3g\n",
       "/paKNihFOQXI/6kCFX6ikmukxQYTcqxBIwYeOfQqpebMR7yfjCN/gfoEn0KOehJzqbzzHHXKgwOb\n",
       "3JHMR5Sao9B34m9SyHkOtLRsNI0QJ1paPgwPTHKup6W5/RzSRTntIeQ2FqzwFzW2XohGl5mSK4lG\n",
       "VyYGHLnWjpG9aDwP7p7DqSN/lcdJcc4tlaPIgGvuqvA8Ul+BUtKqadQ7Y3x5/WxE3dSOdKVTJVcD\n",
       "rMrSPKEjZw/CGesHOSESibxatAIzwWCOLx4KgYzW32gADaMetIglPlcfXEMxK+YgPreWtEp4XnKk\n",
       "8nYAvvctT1d+VMk9Cj6bnF9HzuZnUYXrOniMev66JKYNkwOWnM/u2h20KSI7LsO2MFGcz1FN6dDH\n",
       "csFMYnv6RfSmnSkaW7ECU0T4GLkVwGvAZXhT+DRIyb1CtIvCRVsMXO4oeQDfiU+kK1+o5BywaBdq\n",
       "XP0+3BnKJEf+7wWl7O6hd46HYWFf54ScE7R7yNVWJ8++K4GRxY1WpommhnReZyZijckvojfdlgDP\n",
       "yDku3I00ubeAs2ijX0fJDSY+ByexwZXnnsZFRNVKtUpOSKq7o486J2OHIFpFA7luli+Vv2d/L6zQ\n",
       "kXOIJCfX9TVS8N4SUDVcNTn+q/KkpElLjjOdYPmQhpxqutonk+MPXfGnyUUpuWqfSo5M4rRmyxcA\n",
       "z2Yl50pVKd21ZpOI3T6/gM7y+vK4ltx7HG3eB7C7iWgmuZIY3Ky2/k32+qQfCyd3fGeLrElLzh40\n",
       "9dNTWnKK6bY0uU3w9BJyPoWc7HMWOloJjKAJOe5PzX5fs29d9TxhNrmylA5Gktrb3xYM8xycG+i0\n",
       "8/M+qY99M2NNenLeYQG51voGjVe2Pt5nJNfx4CgDBqG0skYZp5A1ack5tG2yCpKZRCWnmvY2yPPc\n",
       "VGABiQ5+hRyZ5xD3hqw0QrjFsbCI+cjtsvSgDEeOjfDrIwQ+IzKeKclBMWkP2y58PNtIzj2ercPv\n",
       "YO7tJrPrdj05ftyZgFxrJcvmdtS7AwZyFvFFRwDz9e9VZk8tkkpeqVuoJi25jXIbu5hLEJ8T0/Yo\n",
       "SWu1pl2DYT1LWZEIsQoPk0+KyuTIBlaIWVNWusaYGV+HzZLPtREA/D+Qs3TNdsnZ40ri6HAMIXcn\n",
       "acjRYb7pLpSIPKPVjkSnkZw81F3zWG/DczGhJ0dUheXafUm6pvmpVbsq8ZJVyUKRw2kSOm/PWFJ4\n",
       "kxn7ow1hHbnHpTbcXjGXIGni1CynFNPN3SPPhKquzJ9x+EQA9hdipFh1pWbHmRC23r8fqN1Px97W\n",
       "EU2TkxI5B5nHsRhy5qCAIiL4uWWlJ+FqCuMiufGrhpyHvtFcTAG3JBp9nZDb7MhC7gd6ZkM6gsUy\n",
       "4Ga/jhwfBN/DavzoOJMeVJrtfK5PCjO6VJKe/54hTuOTNGnJPSa3cYi5BDFHQ05n2nSpqahgo3WX\n",
       "8VhJMWr32cjOiw9nns/dikkcQpLP2Sr1q0tlBvgSqJJ8Dnv1PueOg2MBjv82IHW8MCwLOa6HM5Kr\n",
       "RtBTcZLos7NXZZq05J6V2hjJKYIELhmtf5B0OsO0WVJ3/IycMYqra8lBQWsiqN3xy6cxPVjUjm9o\n",
       "8SjZpeY42ZwAfjUaRUwnvhfXkbM2YBtdTfATGDhbHPwlI7ktQkpg5BpF12qWkb+eQ0i4R1MjAu0t\n",
       "SZOW3AdgbRi57ILkhRWf05s2Tcr2yR2mkc/wvEkpbYFjelB7yiTbC2FMEk6Cw7Y8IHV+FnITJ3WK\n",
       "mBW33hagi08dufVdD9ErJ7nqODJ1TzSS23q04wAjNyvODSH7H24IN5RfMGOMiBq2hF9DyTFNutgq\n",
       "Sm0ouRyCD6jk9KZNU/pk0zX+vA8e43N1k/AYLN0S6Wyn6aPJPGd6mq49ktJECM01/+8QS7U63LIJ\n",
       "C3F1WMg8p7ZLk7PIjdlozS6YymXa/OizsINuT6wfv0O4Y/0jV3kurtGxU94EuLsNYsruSypwYyuQ\n",
       "Q9CdLJpcUbSLJKdz6UxybrqoWp3f53Q68nS5Qu4pM8Fm/E/JRXL/3mrV5Oo1k1xxv7f607nbbNtW\n",
       "ltP0f5GmRUKwRRb/C0JnGfeUU/t2AAAAAElFTkSuQmCC\n",
       "\" style=\"display:inline;vertical-align:middle;\" /></a></span>"
      ],
      "text/plain": [
       "|- forall_{n in NaturalPos} [forall_{S, N | |S| >= N} [exists_{x_{1}, ..x_{_a}.., x_{n} in S | |(x_{1}, ..x_{_a}.., x_{n})| = N} distinct(x_{1}, ..x_{_a}.., x_{n})]]"
      ]
     },
     "execution_count": 3,
     "metadata": {},
     "output_type": "execute_result"
    }
   ],
   "source": [
    "from proveit.logic.sets.cardinality import distinct_subset_existence\n",
    "distinct_subset_existence"
   ]
  },
  {
   "cell_type": "code",
   "execution_count": 4,
   "metadata": {},
   "outputs": [
    {
     "data": {
      "text/html": [
       "<span style=\"font-size:20px;\"><a class=\"ProveItLink\" href=\"../../../../numbers/number_sets/natural_numbers/__pv_it/theorems/c137fc4bdb69d9d8200a128e712a550420acc4790/expr.ipynb\"><img src=\"data:image/png;base64,iVBORw0KGgoAAAANSUhEUgAAAEEAAAAUBAMAAAAgmk0yAAAAMFBMVEX///8QEBCYmJgyMjIiIiKq\n",
       "qqrMzMzu7u5ERERmZmaIiIjc3NxUVFR2dna6uroAAABXsXCEAAAAAXRSTlMAQObYZgAAAO5JREFU\n",
       "KM9jYKAM8BBUwUFDFcU/mgsYLn58gMeMJrYDDOwfGA4bGxobK2BVcSRhFQODADZbNFxcDED0uXae\n",
       "BAYHLCoylkMZp3PYzREq+O7sXjULLA4UhalgXZCDUMHL0cVQvwEcgBvgKhjuMS2Aq0hlMWDYn4Dq\n",
       "+dMMPAXHQCq4QbyC+gcM+mDxRGMgMICoYD/ALADXEM/AcBjM2IFkBkMuG0LFZAaGT+wgBiOyCqaA\n",
       "BjhXloH1Oy+IwbkAJnQMiG/DVXD/Y+A1UAMzXWFipiD1BjAenwMD96EAMLOmrwBMp3wE6mc3wBYf\n",
       "b1tcMMUBZP03a848vAYAAAAASUVORK5CYII=\n",
       "\" style=\"display:inline;vertical-align:middle;\" /></a> <a class=\"ProveItLink\" href=\"../__pv_it/demonstrations/139be1aa78108ee80244a6eda8f1526b6a67d0750/proof.ipynb\" style=\"text-decoration: none\">&nbsp;&#x22A2;&nbsp;&nbsp;</a><a class=\"ProveItLink\" href=\"../__pv_it/demonstrations/a905b0de63d6a1a78b17f98ef2df3ba69ac86d170/expr.ipynb\"><img src=\"data:image/png;base64,iVBORw0KGgoAAAANSUhEUgAAAh4AAAAZBAMAAACMdzroAAAAMFBMVEX///8QEBCIiIhmZma6urrM\n",
       "zMxUVFQiIiJERETc3Nzu7u6qqqp2dnaYmJgyMjIAAAAcRTyBAAAAAXRSTlMAQObYZgAABZ1JREFU\n",
       "WMPtmWtoHFUUgE93djI7ry34QLQVlpZGrFVXi4jW6qaC8Uk3EWN/FLMGG23REq10tRa7/imbCnah\n",
       "ksaCOKaYliBkfKENjV3zq4lRh0awQiuDP/whRJJ21aY+4rl3Xnd2djPZpBpavJCZOyfn3HPul3PP\n",
       "nbkBmFd7OluAS6dFszvnOUIHXFqt638eF5iH+Ba2BYj8vQfDNN6ubcAjFg+T3E7PnQfX3t7+pPbf\n",
       "8/i8BOK17hPTdZqUq23AugLl8SXp/zy/9VK3AEVVLAH/p10Gwe3aLYU/8RqDkkzKo5uMnbv4eEDJ\n",
       "7R0MTC2Jl7FaBxyiPOKY64p+UfMIzFwlPF6udcB3KQ91pK9vP1yUPMTHaEc+C07XbseQh1jz1hdP\n",
       "0f3lXD6/c8F4hBnyVeTvD60oQfdvwN9wwhz7fbWO3Scub65P4OIZXaPes20NRJCJtGzzuqEZx++p\n",
       "f3NVwu4rScpjE0AnPm0cHUwj670GNC51a5JPQAsX1YsyPJRsNrtrljwsH9Y41IESZiGnnEB8sUhL\n",
       "QMH18hMcJiFsA9KFlxLiFIhLoKkg4MxiBlKD7xKvAmyoXkOL6guC6awyk/K4l1bWaBKOEeHJDojQ\n",
       "mMGusa5AzkHM1ovNLT8cH7Y9OtgcanOHGwgbS8wk+wvshgYNEpTHboDXAP6CuAkfpAkPAWviCHyj\n",
       "PQCP3l51dEVTzked4OUOykOACKIUNCvK4RJwwPJwBPKPdB5Ur3Ye0tHVhuvD5cEXQ3n0sjzc4PqL\n",
       "IFEewrnrweHxBsAZ6CellPBYhGmlQZ5oN1YPC2Le6PwE5aEYAj4sLoBMhMV8GQ9boI5b86B6tfM4\n",
       "eaTP8+HyqEuHF7kCw8MNrjVh85C+nk46PPKER2uC4UEEM/LAmBLlPESzhfhdSu2lxPpCD8vDFkTG\n",
       "7XlQvQo8hm6rD07OFUaT4PnweAisTkVDkrsuDy+4fofHAVBLyCPh8rDzI0LXC/C/hvFoRT/q2ubl\n",
       "JEhrvUDnU8TXLZMkWBnX3scsD0sQfcWZB9UL8ohoW4UUbPH7soSUhDUfy4fHY7+jU9UQ5AzqPZPH\n",
       "ZjDBxXN2/VgH8BzW0qTLA+sH6PEMR+vpQGQCVs7EQ9ZuRmdqg7Go4NZT+MiaVBe5KaCeL7I8LIF0\n",
       "POXOA/WCPHjABNp4TflmOV72BtnV4eNxv61T3RCiOS8/vODEK4A7QwhgPe2Eu5FH3uaBHzJKgTM5\n",
       "sntG/4hNiAblIf1NsspkOvSyXt+Ln30HroPF+FbKFS0eZAlJaZBw+ZDleVmS5WELpOM6nYelx/KI\n",
       "4377PI42hU87yvlP2ffH8e+bcHx4PO5zdKoaAm96PJjgDn61YjLTMr3l4ROnUlD3bAG7LdObPpvM\n",
       "QO+twwDtwyT7pbaVy0/b6yWLIQoZ7GwHuyOg095lPWsRWBs0kKRLWzxUVJV14DP0TwBflOWHLbhJ\n",
       "J/Ow9GLB8w9+gg9OiwjHBk9hAtHktH14PDaEGkKUrJetv2Az2OBm0bz39Ua6MgIKA27vSrgLgzjE\n",
       "nH9wOTisdWvwEOaRzvLwBD8YOA+qV4HHO4qp0Gl1a+Ie50KFH+awaippx4ePx6FQQ1CLXn4wwc2i\n",
       "eV81n0LFNz8XrTgBL37ifM/ZPPaN3glNOndVCrgCw4MVDBAeRK8Cj95vh0botJp0/mp8QyQXnQrr\n",
       "0iQLXnd8+PcXLdSQS7k82Fhm0WKO6r5dbfhiHnz3cHdazMFVhvO9zzYf/ApnALGye/l54Q7fGFZP\n",
       "gBuxFkewfpSPk4OIHmoYrxjIrM4zfHZG4PdqJX4+HnJhfjyaz+rMGHavF44alcfJuT5mMBycM49a\n",
       "zwu/D5yf+omxYcjkBWBPaH74xlBnSGXHwSNhhuRkZ86HVRf2PDkZFHFld9zG5vT/F85xIIdZR7SK\n",
       "gfxLLZrd/g8ageR8VBvcpAAAAABJRU5ErkJggg==\n",
       "\" style=\"display:inline;vertical-align:middle;\" /></a></span>"
      ],
      "text/plain": [
       "{n in NaturalPos} |- forall_{S, N | N <= |S|} [exists_{x_{1}, ..x_{_a}.., x_{n} in S | |(x_{1}, ..x_{_a}.., x_{n})| = N} distinct(x_{1}, ..x_{_a}.., x_{n})]"
      ]
     },
     "execution_count": 4,
     "metadata": {},
     "output_type": "execute_result"
    }
   ],
   "source": [
    "distinct_subset_existence.instantiate(assumptions=[InSet(n, NaturalPos)])"
   ]
  },
  {
   "cell_type": "markdown",
   "metadata": {},
   "source": [
    "distinct_subset_existence"
   ]
  },
  {
   "cell_type": "code",
   "execution_count": 5,
   "metadata": {},
   "outputs": [],
   "source": [
    "#Card(S).distinct_subset_existence(elems = [A,B,C,D], assumptions=[Equals(Len([A,B,C,D]), N), greater_eq(Card(S), N),  InSet(l, NaturalPos), greater_eq(Len(S),four)])"
   ]
  },
  {
   "cell_type": "markdown",
   "metadata": {},
   "source": [
    "distinct_pair_existence"
   ]
  },
  {
   "cell_type": "code",
   "execution_count": 6,
   "metadata": {},
   "outputs": [],
   "source": [
    "#Card(S).distinct_subset_existence(elems = [A,B], assumptions=[greater_eq(Card(S), num(2)), InSet(l, NaturalPos)])"
   ]
  },
  {
   "cell_type": "code",
   "execution_count": 7,
   "metadata": {},
   "outputs": [],
   "source": [
    "%end demonstrations"
   ]
  }
 ],
 "metadata": {
  "kernelspec": {
   "display_name": "Python 3",
   "language": "python",
   "name": "python3"
  }
 },
 "nbformat": 4,
 "nbformat_minor": 0
}