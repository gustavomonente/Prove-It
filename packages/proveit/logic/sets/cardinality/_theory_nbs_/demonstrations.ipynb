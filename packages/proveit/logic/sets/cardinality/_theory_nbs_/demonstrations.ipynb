{
 "cells": [
  {
   "cell_type": "markdown",
   "metadata": {},
   "source": [
    "Demonstrations for the theory of <a class=\"ProveItLink\" href=\"theory.ipynb\">proveit.logic.sets.cardinality</a>\n",
    "========"
   ]
  },
  {
   "cell_type": "code",
   "execution_count": 1,
   "metadata": {},
   "outputs": [],
   "source": [
    "import proveit\n",
    "from proveit.logic import Forall, Exists, Implies, Equals, NotEquals, Card, Set, Distinct, InSet\n",
    "from proveit.numbers import GreaterEq, num, four\n",
    "from proveit import a, b, n, A, B, C, D, N, S\n",
    "from proveit.numbers import NaturalPos\n",
    "%begin demonstrations"
   ]
  },
  {
   "cell_type": "markdown",
   "metadata": {},
   "source": [
    "enum_set_card"
   ]
  },
  {
   "cell_type": "code",
   "execution_count": 2,
   "metadata": {},
   "outputs": [],
   "source": [
    "#Equals(Card(Set(x_iter1l)), Len(x_iter1l)).prove([Distinct(x_iter1l)])"
   ]
  },
  {
   "cell_type": "code",
   "execution_count": 3,
   "metadata": {},
   "outputs": [
    {
     "data": {
      "text/html": [
       "<span style=\"font-size:20px;\"> <a class=\"ProveItLink\" href=\"proofs/distinct_subset_existence/thm_proof.ipynb\" style=\"text-decoration: none\">&nbsp;&#x22A2;&nbsp;&nbsp;</a><a class=\"ProveItLink\" href=\"../__pv_it/theorems/a6ae3035e90daecfdebb327b23a7d4b307b29a8c0/expr.ipynb\"><img src=\"data:image/png;base64,iVBORw0KGgoAAAANSUhEUgAAAnIAAAAZBAMAAABHrN4WAAAAMFBMVEX///8QEBCIiIhmZma6urrM\n",
       "zMxUVFQiIiJERETc3Nzu7u6qqqp2dnaYmJgyMjIAAAAcRTyBAAAAAXRSTlMAQObYZgAABvhJREFU\n",
       "WMPdmX9sk0UYx7+0ffvj7dvOKMYgECsLiBOlOA3gQAsmooKhLHH6B2GVuJERMcURikhwGoUCQRox\n",
       "MEmQN1tEnNPVyBRQpGyYCGzY8CMSA1oTNcEEM2AiAxHv7n37/ujb9qVdBMctu/fufe95nvf93HP3\n",
       "3F0B8zQvEkN/kj3yMm6gNC2SgC2y7GqahvtpyoEbK7lCJNtwjci53iXpOnzk+0+aUUgWpM8dU8ml\n",
       "6I2TJuS89OJJFk/OWltb+5x47cl93QvXcBXTcEODbQUqrFPJHaT1303ICXFy8Yr9G6322HUYWL3g\n",
       "/paKNihFOQXI/6kCFX6ikmukxQYTcqxBIwYeOfQqpebMR7yfjCN/gfoEn0KOehJzqbzzHHXKgwOb\n",
       "3JHMR5Sao9B34m9SyHkOtLRsNI0QJ1paPgwPTHKup6W5/RzSRTntIeQ2FqzwFzW2XohGl5mSK4lG\n",
       "VyYGHLnWjpG9aDwP7p7DqSN/lcdJcc4tlaPIgGvuqvA8Ul+BUtKqadQ7Y3x5/WxE3dSOdKVTJVcD\n",
       "rMrSPKEjZw/CGesHOSESibxatAIzwWCOLx4KgYzW32gADaMetIglPlcfXEMxK+YgPreWtEp4XnKk\n",
       "8nYAvvctT1d+VMk9Cj6bnF9HzuZnUYXrOniMev66JKYNkwOWnM/u2h20KSI7LsO2MFGcz1FN6dDH\n",
       "csFMYnv6RfSmnSkaW7ECU0T4GLkVwGvAZXhT+DRIyb1CtIvCRVsMXO4oeQDfiU+kK1+o5BywaBdq\n",
       "XP0+3BnKJEf+7wWl7O6hd46HYWFf54ScE7R7yNVWJ8++K4GRxY1WpommhnReZyZijckvojfdlgDP\n",
       "yDku3I00ubeAs2ijX0fJDSY+ByexwZXnnsZFRNVKtUpOSKq7o486J2OHIFpFA7luli+Vv2d/L6zQ\n",
       "kXOIJCfX9TVS8N4SUDVcNTn+q/KkpElLjjOdYPmQhpxqutonk+MPXfGnyUUpuWqfSo5M4rRmyxcA\n",
       "z2Yl50pVKd21ZpOI3T6/gM7y+vK4ltx7HG3eB7C7iWgmuZIY3Ky2/k32+qQfCyd3fGeLrElLzh40\n",
       "9dNTWnKK6bY0uU3w9BJyPoWc7HMWOloJjKAJOe5PzX5fs29d9TxhNrmylA5Gktrb3xYM8xycG+i0\n",
       "8/M+qY99M2NNenLeYQG51voGjVe2Pt5nJNfx4CgDBqG0skYZp5A1ack5tG2yCpKZRCWnmvY2yPPc\n",
       "VGABiQ5+hRyZ5xD3hqw0QrjFsbCI+cjtsvSgDEeOjfDrIwQ+IzKeKclBMWkP2y58PNtIzj2ercPv\n",
       "YO7tJrPrdj05ftyZgFxrJcvmdtS7AwZyFvFFRwDz9e9VZk8tkkpeqVuoJi25jXIbu5hLEJ8T0/Yo\n",
       "SWu1pl2DYT1LWZEIsQoPk0+KyuTIBlaIWVNWusaYGV+HzZLPtREA/D+Qs3TNdsnZ40ri6HAMIXcn\n",
       "acjRYb7pLpSIPKPVjkSnkZw81F3zWG/DczGhJ0dUheXafUm6pvmpVbsq8ZJVyUKRw2kSOm/PWFJ4\n",
       "kxn7ow1hHbnHpTbcXjGXIGni1CynFNPN3SPPhKquzJ9x+EQA9hdipFh1pWbHmRC23r8fqN1Px97W\n",
       "EU2TkxI5B5nHsRhy5qCAIiL4uWWlJ+FqCuMiufGrhpyHvtFcTAG3JBp9nZDb7MhC7gd6ZkM6gsUy\n",
       "4Ga/jhwfBN/DavzoOJMeVJrtfK5PCjO6VJKe/54hTuOTNGnJPSa3cYi5BDFHQ05n2nSpqahgo3WX\n",
       "8VhJMWr32cjOiw9nns/dikkcQpLP2Sr1q0tlBvgSqJJ8Dnv1PueOg2MBjv82IHW8MCwLOa6HM5Kr\n",
       "RtBTcZLos7NXZZq05J6V2hjJKYIELhmtf5B0OsO0WVJ3/IycMYqra8lBQWsiqN3xy6cxPVjUjm9o\n",
       "8SjZpeY42ZwAfjUaRUwnvhfXkbM2YBtdTfATGDhbHPwlI7ktQkpg5BpF12qWkb+eQ0i4R1MjAu0t\n",
       "SZOW3AdgbRi57ILkhRWf05s2Tcr2yR2mkc/wvEkpbYFjelB7yiTbC2FMEk6Cw7Y8IHV+FnITJ3WK\n",
       "mBW33hagi08dufVdD9ErJ7nqODJ1TzSS23q04wAjNyvODSH7H24IN5RfMGOMiBq2hF9DyTFNutgq\n",
       "Sm0ouRyCD6jk9KZNU/pk0zX+vA8e43N1k/AYLN0S6Wyn6aPJPGd6mq49ktJECM01/+8QS7U63LIJ\n",
       "C3F1WMg8p7ZLk7PIjdlozS6YymXa/OizsINuT6wfv0O4Y/0jV3kurtGxU94EuLsNYsruSypwYyuQ\n",
       "Q9CdLJpcUbSLJKdz6UxybrqoWp3f53Q68nS5Qu4pM8Fm/E/JRXL/3mrV5Oo1k1xxv7f607nbbNtW\n",
       "ltP0f5GmRUKwRRb/C0JnGfeUU/t2AAAAAElFTkSuQmCC\n",
       "\" style=\"display:inline;vertical-align:middle;\" /></a></span>"
      ],
      "text/plain": [
       "|- forall_{n in NaturalPos} [forall_{S, N | |S| >= N} [exists_{x_{1}, ..x_{_a}.., x_{n} in S | |(x_{1}, ..x_{_a}.., x_{n})| = N} distinct(x_{1}, ..x_{_a}.., x_{n})]]"
      ]
     },
     "execution_count": 3,
     "metadata": {},
     "output_type": "execute_result"
    }
   ],
   "source": [
    "from proveit.logic.sets.cardinality import distinct_subset_existence\n",
    "distinct_subset_existence"
   ]
  },
  {
   "cell_type": "code",
   "execution_count": 4,
   "metadata": {},
   "outputs": [
    {
     "data": {
      "text/html": [
       "<span style=\"font-size:20px;\"><a class=\"ProveItLink\" href=\"../../../../numbers/number_sets/natural_numbers/__pv_it/theorems/2c629b73e558dcaacbf71c0a050e9fdf89a4ad830/expr.ipynb\"><img src=\"data:image/png;base64,iVBORw0KGgoAAAANSUhEUgAAAEEAAAAUBAMAAAAgmk0yAAAAMFBMVEX///8QEBCYmJgyMjIiIiKq\n",
       "qqrMzMzu7u5ERERmZmaIiIjc3NxUVFR2dna6uroAAABXsXCEAAAAAXRSTlMAQObYZgAAAO5JREFU\n",
       "KM9jYKAM8BBUwUFDFcU/mgsYLn58gMeMJrYDDOwfGA4bGxobK2BVcSRhFQODADZbNFxcDED0uXae\n",
       "BAYHLCoylkMZp3PYzREq+O7sXjULLA4UhalgXZCDUMHL0cVQvwEcgBvgKhjuMS2Aq0hlMWDYn4Dq\n",
       "+dMMPAXHQCq4QbyC+gcM+mDxRGMgMICoYD/ALADXEM/AcBjM2IFkBkMuG0LFZAaGT+wgBiOyCqaA\n",
       "BjhXloH1Oy+IwbkAJnQMiG/DVXD/Y+A1UAMzXWFipiD1BjAenwMD96EAMLOmrwBMp3wE6mc3wBYf\n",
       "b1tcMMUBZP03a848vAYAAAAASUVORK5CYII=\n",
       "\" style=\"display:inline;vertical-align:middle;\" /></a> <a class=\"ProveItLink\" href=\"../__pv_it/demonstrations/41922dcc566a998d158ab17c9d298ec8540adf690/proof.ipynb\" style=\"text-decoration: none\">&nbsp;&#x22A2;&nbsp;&nbsp;</a><a class=\"ProveItLink\" href=\"../__pv_it/theorems/314e90129c091e8520704a52e5602aab3a486a540/expr.ipynb\"><img src=\"data:image/png;base64,iVBORw0KGgoAAAANSUhEUgAAAh4AAAAZBAMAAACMdzroAAAAMFBMVEX///8QEBCIiIhmZma6urrM\n",
       "zMxUVFQiIiJERETc3Nzu7u6qqqp2dnaYmJgyMjIAAAAcRTyBAAAAAXRSTlMAQObYZgAABapJREFU\n",
       "WMPtmWtsVEUUx//s7u3tvXt3SRRjFIwbCDUixlWigoBuIaE+w7bGygdi10aKECVVDKuEyJoYsoVE\n",
       "NsGUSmK8tqGQhqTrKwJSWasfbKm4oRoxgWT94gcTzBZWpfioZ+a+d7u9bouSEifpzJnpOXNmfp05\n",
       "M3cKTCmtj6dw9SRffNsUe2jF1ZXa/+dxmXlIb1G6AiPf/7CbxtuVdXhE45FjxdnJ8/C2tLQ8rf73\n",
       "PD4tQLrJrNlEI8mJyjqsSnEeJ5j809T2S9UVCKpSAcIfehiEKeopQj/BCgcl5ziPDtZ3YvrxQMGU\n",
       "ukqmFqZsuNIO+zmPIK11JT2teZTMPMB4vFJph+9yHoHBnp69mJY8pCe44L8AQ9TTceIhVXz0BSP8\n",
       "fLmYTG67YjzcDIUy7Yf65xfQ8SuE207lhn9blCbxqWsbakK0eYaWBh7YvBQeYiLP3bCif8L+O2ve\n",
       "XBjSZSXMeawD2qi2dqgvSqx3Z1E3x4xJPBeGTnyr1+DQ4DyUeDy+/R/y0HzwAKh1rbhZ+CMYz7U8\n",
       "Gwrtlx9xkA1hM5iIl0PSKKTZqE+JNLPqLFHDd6FXgTXlY2gm8KKYM3ZZjvNYySOrL4zjrPF0Kzx8\n",
       "zEgY+Ur481Su0idtaVS6PgwfqDa63uBqs8QYiMN1dY6dL9iBWhUhzmMH8BrwJ4I5vBdlPESKiYP4\n",
       "Wn0Ij99btndFVS75jMH7WzkPER5CKaraKAcK8MLJYyvLE5Du0ShYGhXwkI8typo+TB5CxpVHt52H\n",
       "6bo3A5nzEC/eCoPHG8B59LJQynjMoGWlIsm068oPC9VW70Ke81CyIlVmpuBnjZlkCY9RIM1KaXHU\n",
       "qVEBj9NHeiwfJo+qqHuQS9l4mK6bQjoP+eRY2OCRZDyaQjYerGFCHjSmUDEPKdfI/M7h9nJodaqz\n",
       "iMcPX+g1+cuIQ8POo//umtLJmY2+MCwfFg/RrjOuIVu7Jg/Lda/BYx8CBeIRMnno68PD9wuEX9x4\n",
       "NJGfwPKGeWyQ2n5B2zPM150jbLB+2nsfFvHounmWXpNPqnYNGw+PukmMYKPTl9bISWjz0XxYPPYa\n",
       "OmUN4Y+R3rNJSlmb62BCjx8rgOcploZNHhQ/kA7GvDyeHvXksWAiHn71DnIWqM3OSJnxFB9ok2pn\n",
       "hYLApUwRD0jr9ZrnnEPDxkMA/WrtjcWH5bmiG2R7q4PHg7pOeUP4Etb6sFxLs+A9zwhQPG3D/cQj\n",
       "qfOgDxkl5c152enp+706L2U5D/kvtqpyNoFnq9O76bNv3y2YSbdSb0bjwbaQHIVM24dtz2vCTh77\n",
       "yVSrde5yanAeQTpvX1B5lGGR15lG9fJJ+vuGDB8Wj1WGTllDCDmLh81111fzR2KNYxsfPXUmgqrn\n",
       "UiQ2jq07PBJD910DQMsAW/1y84J5Z/X9EqchijEStkAXRHLaPbdzOQFrRi1bdFGNR4BU/WkIMf4n\n",
       "wGdF6+MToJHXDr0Op4b9/UPIC6XTYo3DfWdoAfHFqfuweKxxNYSP7ZdNP1PKFrl2S9Z9vY7vjBKF\n",
       "o6Z0HZbRIA7Y3j+8CRxUO1Q8Qosh7eSxGPJOVnZxHHYNG493lJzCp9WhSjuNjDe+n6CoqUQNHw4e\n",
       "B1wNEchY68Pp2i1ZXzUfY9ybn4lWyuOlj4zvOZ3HnqH7UJ/2Xh+BN+XksWTZ5yortS8Eu4aNR/c3\n",
       "/YN8WvVp4Qa6IbIszRuromwV7DJ8OM8X1dXQGzF5FLl2S9WG6p7tzbTXS+8e5klLa3Bh1vjetycH\n",
       "/IQtt1+KJngv3OroQ5NE3E5HhYfih22oepeetKthsKxr1yugwy5b8vvAePwcPPypqfFouJC29aFL\n",
       "3ThWMhbzvp5wNeybNI9K3wu/L3k/dRIr5nGYXQJUt/fkQFn+4/F4zM2QvexM+rHq8r4nh225VRal\n",
       "+KT+/+I1uvS7WXvUsq7/heSLb/kbWL7y3aGIy9sAAAAASUVORK5CYII=\n",
       "\" style=\"display:inline;vertical-align:middle;\" /></a></span>"
      ],
      "text/plain": [
       "{n in NaturalPos} |- forall_{S, N | |S| >= N} [exists_{x_{1}, ..x_{_a}.., x_{n} in S | |(x_{1}, ..x_{_a}.., x_{n})| = N} distinct(x_{1}, ..x_{_a}.., x_{n})]"
      ]
     },
     "execution_count": 4,
     "metadata": {},
     "output_type": "execute_result"
    }
   ],
   "source": [
    "distinct_subset_existence.instantiate(assumptions=[InSet(n, NaturalPos)])"
   ]
  },
  {
   "cell_type": "markdown",
   "metadata": {},
   "source": [
    "distinct_subset_existence"
   ]
  },
  {
   "cell_type": "code",
   "execution_count": 5,
   "metadata": {},
   "outputs": [],
   "source": [
    "#Card(S).distinct_subset_existence(elems = [A,B,C,D], assumptions=[Equals(Len([A,B,C,D]), N), GreaterEq(Card(S), N),  InSet(l, NaturalPos), GreaterEq(Len(S),four)])"
   ]
  },
  {
   "cell_type": "markdown",
   "metadata": {},
   "source": [
    "distinct_pair_existence"
   ]
  },
  {
   "cell_type": "code",
   "execution_count": 6,
   "metadata": {},
   "outputs": [],
   "source": [
    "#Card(S).distinct_subset_existence(elems = [A,B], assumptions=[GreaterEq(Card(S), num(2)), InSet(l, NaturalPos)])"
   ]
  },
  {
   "cell_type": "code",
   "execution_count": 7,
   "metadata": {},
   "outputs": [],
   "source": [
    "%end demonstrations"
   ]
  }
 ],
 "metadata": {
  "kernelspec": {
   "display_name": "Python 3",
   "language": "python",
   "name": "python3"
  }
 },
 "nbformat": 4,
 "nbformat_minor": 0
}