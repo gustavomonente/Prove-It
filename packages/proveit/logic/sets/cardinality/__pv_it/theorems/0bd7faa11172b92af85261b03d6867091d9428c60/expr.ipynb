{
 "cells": [
  {
   "cell_type": "markdown",
   "metadata": {},
   "source": [
    "Expression of type <a class=\"ProveItLink\" href=\"../../../../../../../../doc/html/api/proveit.ExprTuple.html\">ExprTuple</a>\n",
    "=======================\n",
    "# from the theory of <a class=\"ProveItLink\" href=\"../../../_theory_nbs_/theory.ipynb\">proveit.logic.sets.cardinality</a>"
   ]
  },
  {
   "cell_type": "code",
   "execution_count": 1,
   "metadata": {},
   "outputs": [],
   "source": [
    "import proveit\n",
    "# Automation is not needed when building an expression:\n",
    "proveit.defaults.automation = False # This will speed things up.\n",
    "proveit.defaults.inline_pngs = False # Makes files smaller.\n",
    "%load_expr # Load the stored expression as 'stored_expr'\n",
    "# import Expression classes needed to build the expression\n",
    "from proveit import Conditional, ExprTuple, Lambda, S, a, b\n",
    "from proveit.logic import And, InSet, NotEquals"
   ]
  },
  {
   "cell_type": "code",
   "execution_count": 2,
   "metadata": {},
   "outputs": [
    {
     "data": {
      "text/html": [
       "<strong id=\"expr\">expr:</strong> <a class=\"ProveItLink\" href=\"expr.ipynb\"><img src=\"expr.png\" style=\"display:inline;vertical-align:middle;\" /></a><br>"
      ],
      "text/plain": [
       "expr: ((a, b) -> {a != b if a in S ,  b in S.)"
      ]
     },
     "execution_count": 2,
     "metadata": {},
     "output_type": "execute_result"
    }
   ],
   "source": [
    "# build up the expression from sub-expressions\n",
    "expr = ExprTuple(Lambda([a, b], Conditional(NotEquals(a, b), And(InSet(a, S), InSet(b, S)))))"
   ]
  },
  {
   "cell_type": "code",
   "execution_count": 3,
   "metadata": {},
   "outputs": [
    {
     "name": "stdout",
     "output_type": "stream",
     "text": [
      "Passed sanity check: expr matches stored_expr\n"
     ]
    }
   ],
   "source": [
    "# check that the built expression is the same as the stored expression\n",
    "assert expr == stored_expr\n",
    "assert expr._style_id == stored_expr._style_id\n",
    "print(\"Passed sanity check: expr matches stored_expr\")"
   ]
  },
  {
   "cell_type": "code",
   "execution_count": 4,
   "metadata": {},
   "outputs": [
    {
     "name": "stdout",
     "output_type": "stream",
     "text": [
      "\\left(\\left(a, b\\right) \\mapsto \\left\\{a \\neq b \\textrm{ if } a \\in S ,  b \\in S\\right..\\right)\n"
     ]
    }
   ],
   "source": [
    "# Show the LaTeX representation of the expression for convenience if you need it.\n",
    "print(expr.latex())"
   ]
  },
  {
   "cell_type": "code",
   "execution_count": 5,
   "metadata": {},
   "outputs": [
    {
     "data": {
      "text/html": [
       "no style options"
      ],
      "text/plain": [
       "no style options"
      ]
     },
     "execution_count": 5,
     "metadata": {},
     "output_type": "execute_result"
    }
   ],
   "source": [
    "expr.style_options()"
   ]
  },
  {
   "cell_type": "code",
   "execution_count": 6,
   "metadata": {},
   "outputs": [
    {
     "data": {
      "text/html": [
       "<table><tr><th>&nbsp;</th><th>core type</th><th>sub-expressions</th><th>expression</th></tr>\n",
       "<tr><td>0</td><td>ExprTuple</td><td>1</td><td><a class=\"ProveItLink\" href=\"expr.ipynb\"><img src=\"expr.png\" style=\"display:inline;vertical-align:middle;\" /></a></td></tr>\n",
       "<tr><td>1</td><td>Lambda</td><td>parameters:&nbsp;6<br>body:&nbsp;2<br></td><td><a class=\"ProveItLink\" href=\"../791fa22b65b762bf482382b8f3812597381ec9c70/expr.ipynb\"><img src=\"../791fa22b65b762bf482382b8f3812597381ec9c70/expr.png\" style=\"display:inline;vertical-align:middle;\" /></a></td></tr>\n",
       "<tr><td>2</td><td>Conditional</td><td>value:&nbsp;3<br>condition:&nbsp;4<br></td><td><a class=\"ProveItLink\" href=\"../5b150e883de27d80a232217df47e3de40e4011150/expr.ipynb\"><img src=\"../5b150e883de27d80a232217df47e3de40e4011150/expr.png\" style=\"display:inline;vertical-align:middle;\" /></a></td></tr>\n",
       "<tr><td>3</td><td>Operation</td><td>operator:&nbsp;5<br>operands:&nbsp;6<br></td><td><a class=\"ProveItLink\" href=\"../000cd5e0638a1e62d09b3d50fcb9451aebd38cc70/expr.ipynb\"><img src=\"../000cd5e0638a1e62d09b3d50fcb9451aebd38cc70/expr.png\" style=\"display:inline;vertical-align:middle;\" /></a></td></tr>\n",
       "<tr><td>4</td><td>Operation</td><td>operator:&nbsp;7<br>operands:&nbsp;8<br></td><td><a class=\"ProveItLink\" href=\"../a2fcb8355922e7cdee990d8a2a163a418637f7fa0/expr.ipynb\"><img src=\"../a2fcb8355922e7cdee990d8a2a163a418637f7fa0/expr.png\" style=\"display:inline;vertical-align:middle;\" /></a></td></tr>\n",
       "<tr><td>5</td><td>Literal</td><td></td><td><a class=\"ProveItLink\" href=\"../../../../../equality/__pv_it/common/8dab0e450b6dad95cf65833220bcc832732dfd3c0/expr.ipynb\"><img src=\"../../../../../equality/__pv_it/common/8dab0e450b6dad95cf65833220bcc832732dfd3c0/expr.png\" style=\"display:inline;vertical-align:middle;\" /></a></td></tr>\n",
       "<tr><td>6</td><td>ExprTuple</td><td>14, 15</td><td><a class=\"ProveItLink\" href=\"../1bdfc8550dcba21649b1aca02603584957f865fb0/expr.ipynb\"><img src=\"../1bdfc8550dcba21649b1aca02603584957f865fb0/expr.png\" style=\"display:inline;vertical-align:middle;\" /></a></td></tr>\n",
       "<tr><td>7</td><td>Literal</td><td></td><td><a class=\"ProveItLink\" href=\"../../../../../booleans/conjunction/__pv_it/common/26b94b53e70b1d77b70f0d9d4236347db37731060/expr.ipynb\"><img src=\"../../../../../booleans/conjunction/__pv_it/common/26b94b53e70b1d77b70f0d9d4236347db37731060/expr.png\" style=\"display:inline;vertical-align:middle;\" /></a></td></tr>\n",
       "<tr><td>8</td><td>ExprTuple</td><td>9, 10</td><td><a class=\"ProveItLink\" href=\"../a65888b086d9fe87724028670b7b52bb3bb976350/expr.ipynb\"><img src=\"../a65888b086d9fe87724028670b7b52bb3bb976350/expr.png\" style=\"display:inline;vertical-align:middle;\" /></a></td></tr>\n",
       "<tr><td>9</td><td>Operation</td><td>operator:&nbsp;12<br>operands:&nbsp;11<br></td><td><a class=\"ProveItLink\" href=\"../80dc0a110edc0a5eb5e6d80b8b4617ee14fe4ec60/expr.ipynb\"><img src=\"../80dc0a110edc0a5eb5e6d80b8b4617ee14fe4ec60/expr.png\" style=\"display:inline;vertical-align:middle;\" /></a></td></tr>\n",
       "<tr><td>10</td><td>Operation</td><td>operator:&nbsp;12<br>operands:&nbsp;13<br></td><td><a class=\"ProveItLink\" href=\"../63783137d057f46d3aabb812cbe09fbd74e1465e0/expr.ipynb\"><img src=\"../63783137d057f46d3aabb812cbe09fbd74e1465e0/expr.png\" style=\"display:inline;vertical-align:middle;\" /></a></td></tr>\n",
       "<tr><td>11</td><td>ExprTuple</td><td>14, 16</td><td><a class=\"ProveItLink\" href=\"../37251b1fecaa811d0673e1f43a0d0fe2807188050/expr.ipynb\"><img src=\"../37251b1fecaa811d0673e1f43a0d0fe2807188050/expr.png\" style=\"display:inline;vertical-align:middle;\" /></a></td></tr>\n",
       "<tr><td>12</td><td>Literal</td><td></td><td><a class=\"ProveItLink\" href=\"../../../../membership/__pv_it/common/7171deca84f71f47a6ec7696972d1632274a12880/expr.ipynb\"><img src=\"../../../../membership/__pv_it/common/7171deca84f71f47a6ec7696972d1632274a12880/expr.png\" style=\"display:inline;vertical-align:middle;\" /></a></td></tr>\n",
       "<tr><td>13</td><td>ExprTuple</td><td>15, 16</td><td><a class=\"ProveItLink\" href=\"../e6eec8ee7537e36b9ebad82a8fbc07f9b6dcbecf0/expr.ipynb\"><img src=\"../e6eec8ee7537e36b9ebad82a8fbc07f9b6dcbecf0/expr.png\" style=\"display:inline;vertical-align:middle;\" /></a></td></tr>\n",
       "<tr><td>14</td><td>Variable</td><td></td><td><a class=\"ProveItLink\" href=\"../../../../../../__pv_it/common/66c90e66682f107a881f2d666959f64e2e72ad750/expr.ipynb\"><img src=\"../../../../../../__pv_it/common/66c90e66682f107a881f2d666959f64e2e72ad750/expr.png\" style=\"display:inline;vertical-align:middle;\" /></a></td></tr>\n",
       "<tr><td>15</td><td>Variable</td><td></td><td><a class=\"ProveItLink\" href=\"../../../../../../__pv_it/common/4a5db8cc5c67969ec864bd3ea598be37cb6f5e550/expr.ipynb\"><img src=\"../../../../../../__pv_it/common/4a5db8cc5c67969ec864bd3ea598be37cb6f5e550/expr.png\" style=\"display:inline;vertical-align:middle;\" /></a></td></tr>\n",
       "<tr><td>16</td><td>Variable</td><td></td><td><a class=\"ProveItLink\" href=\"../../../../../../__pv_it/common/259d0846cd49c4882c35ec84d7a0b180713721cc0/expr.ipynb\"><img src=\"../../../../../../__pv_it/common/259d0846cd49c4882c35ec84d7a0b180713721cc0/expr.png\" style=\"display:inline;vertical-align:middle;\" /></a></td></tr>\n",
       "</table>\n"
      ],
      "text/plain": [
       "0. ((a, b) -> {a != b if a in S ,  b in S.)\n",
       "   core type: ExprTuple\n",
       "   sub-expressions: 1\n",
       "1. (a, b) -> {a != b if a in S ,  b in S.\n",
       "   core type: Lambda\n",
       "   parameters: 6\\n   body: 2\n",
       "2. {a != b if a in S ,  b in S.\n",
       "   core type: Conditional\n",
       "   value: 3\n",
       "   condition: 4\n",
       "3. a != b\n",
       "   core type: Operation\n",
       "   operator: 5\n",
       "   operands: 6\n",
       "4. (a in S) and (b in S)\n",
       "   core type: Operation\n",
       "   operator: 7\n",
       "   operands: 8\n",
       "5. !=\n",
       "   core type: Literal\n",
       "   sub-expressions: \n",
       "6. (a, b)\n",
       "   core type: ExprTuple\n",
       "   sub-expressions: 14, 15\n",
       "7. and\n",
       "   core type: Literal\n",
       "   sub-expressions: \n",
       "8. (a in S, b in S)\n",
       "   core type: ExprTuple\n",
       "   sub-expressions: 9, 10\n",
       "9. a in S\n",
       "   core type: Operation\n",
       "   operator: 12\n",
       "   operands: 11\n",
       "10. b in S\n",
       "    core type: Operation\n",
       "    operator: 12\n",
       "    operands: 13\n",
       "11. (a, S)\n",
       "    core type: ExprTuple\n",
       "    sub-expressions: 14, 16\n",
       "12. in\n",
       "    core type: Literal\n",
       "    sub-expressions: \n",
       "13. (b, S)\n",
       "    core type: ExprTuple\n",
       "    sub-expressions: 15, 16\n",
       "14. a\n",
       "    core type: Variable\n",
       "    sub-expressions: \n",
       "15. b\n",
       "    core type: Variable\n",
       "    sub-expressions: \n",
       "16. S\n",
       "    core type: Variable\n",
       "    sub-expressions: "
      ]
     },
     "execution_count": 6,
     "metadata": {},
     "output_type": "execute_result"
    }
   ],
   "source": [
    "# display the expression information\n",
    "expr.expr_info()"
   ]
  },
  {
   "cell_type": "code",
   "execution_count": null,
   "metadata": {},
   "outputs": [],
   "source": []
  }
 ],
 "metadata": {
  "kernelspec": {
   "display_name": "Python 3",
   "language": "python",
   "name": "python3"
  }
 },
 "nbformat": 4,
 "nbformat_minor": 0
}