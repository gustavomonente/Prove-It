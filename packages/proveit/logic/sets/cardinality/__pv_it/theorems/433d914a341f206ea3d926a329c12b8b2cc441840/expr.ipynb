{
 "cells": [
  {
   "cell_type": "markdown",
   "metadata": {},
   "source": [
    "Expression of type <a class=\"ProveItLink\" href=\"../../../../../../../../doc/html/api/proveit.logic.Exists.html\">Exists</a>\n",
    "=======================\n",
    "# from the theory of <a class=\"ProveItLink\" href=\"../../../_theory_nbs_/theory.ipynb\">proveit.logic.sets.cardinality</a>"
   ]
  },
  {
   "cell_type": "code",
   "execution_count": 1,
   "metadata": {},
   "outputs": [],
   "source": [
    "import proveit\n",
    "# Automation is not needed when building an expression:\n",
    "proveit.defaults.automation = False # This will speed things up.\n",
    "proveit.defaults.inline_pngs = False # Makes files smaller.\n",
    "%load_expr # Load the stored expression as 'stored_expr'\n",
    "# import Expression classes needed to build the expression\n",
    "from proveit import N, S\n",
    "from proveit.core_expr_types import Len, x_1_to_n\n",
    "from proveit.logic import Distinct, Equals, Exists"
   ]
  },
  {
   "cell_type": "code",
   "execution_count": 2,
   "metadata": {},
   "outputs": [
    {
     "data": {
      "text/html": [
       "<strong id=\"expr\">expr:</strong> <a class=\"ProveItLink\" href=\"expr.ipynb\"><img src=\"expr.png\" style=\"display:inline;vertical-align:middle;\" /></a><br>"
      ],
      "text/plain": [
       "expr: exists_{x_{1}, ..x_{_a}.., x_{n} in S | |(x_{1}, ..x_{_a}.., x_{n})| = N} distinct(x_{1}, ..x_{_a}.., x_{n})"
      ]
     },
     "execution_count": 2,
     "metadata": {},
     "output_type": "execute_result"
    }
   ],
   "source": [
    "# build up the expression from sub-expressions\n",
    "sub_expr1 = [x_1_to_n]\n",
    "expr = Exists(sub_expr1, Distinct(x_1_to_n), domains = [S], condition = Equals(Len(sub_expr1), N))"
   ]
  },
  {
   "cell_type": "code",
   "execution_count": 3,
   "metadata": {},
   "outputs": [
    {
     "name": "stdout",
     "output_type": "stream",
     "text": [
      "Passed sanity check: expr matches stored_expr\n"
     ]
    }
   ],
   "source": [
    "# check that the built expression is the same as the stored expression\n",
    "assert expr == stored_expr\n",
    "assert expr._style_id == stored_expr._style_id\n",
    "print(\"Passed sanity check: expr matches stored_expr\")"
   ]
  },
  {
   "cell_type": "code",
   "execution_count": 4,
   "metadata": {},
   "outputs": [
    {
     "name": "stdout",
     "output_type": "stream",
     "text": [
      "\\exists_{x_{1}, \\ldots, x_{n} \\in S~|~|\\left(x_{1}, \\ldots, x_{n}\\right)| = N}~\\textrm{distinct}(x_{1}, \\ldots, x_{n})\n"
     ]
    }
   ],
   "source": [
    "# Show the LaTeX representation of the expression for convenience if you need it.\n",
    "print(expr.latex())"
   ]
  },
  {
   "cell_type": "code",
   "execution_count": 5,
   "metadata": {},
   "outputs": [
    {
     "data": {
      "text/html": [
       "<table>\n",
       "<tr><th>name</th><th>description</th><th>default</th><th>current value</th><th>related methods</th></tr><tr><td>with_wrapping</td><td>If 'True', wrap the Expression after the parameters</td><td>None</td><td>None/False</td><td>('with_wrapping',)</td></tr>\n",
       "<tr><td>wrap_params</td><td>If 'True', wraps every two parameters AND wraps the Expression after the parameters</td><td>None</td><td>None/False</td><td>('with_params',)</td></tr>\n",
       "<tr><td>justification</td><td>justify to the 'left', 'center', or 'right' in the array cells</td><td>center</td><td>center</td><td>('with_justification',)</td></tr>\n",
       "</table>\n"
      ],
      "text/plain": [
       "style name: with_wrapping\n",
       "description: If 'True', wrap the Expression after the parameters\n",
       "default: None\n",
       "current value: None/False\n",
       "related methods: ('with_wrapping',)\n",
       "style name: wrap_params\n",
       "description: If 'True', wraps every two parameters AND wraps the Expression after the parameters\n",
       "default: None\n",
       "current value: None/False\n",
       "related methods: ('with_params',)\n",
       "style name: justification\n",
       "description: justify to the 'left', 'center', or 'right' in the array cells\n",
       "default: center\n",
       "current value: center\n",
       "related methods: ('with_justification',)"
      ]
     },
     "execution_count": 5,
     "metadata": {},
     "output_type": "execute_result"
    }
   ],
   "source": [
    "expr.style_options()"
   ]
  },
  {
   "cell_type": "code",
   "execution_count": 6,
   "metadata": {},
   "outputs": [
    {
     "data": {
      "text/html": [
       "<table><tr><th>&nbsp;</th><th>core type</th><th>sub-expressions</th><th>expression</th></tr>\n",
       "<tr><td>0</td><td>Operation</td><td>operator:&nbsp;1<br>operand:&nbsp;3<br></td><td><a class=\"ProveItLink\" href=\"expr.ipynb\"><img src=\"expr.png\" style=\"display:inline;vertical-align:middle;\" /></a></td></tr>\n",
       "<tr><td>1</td><td>Literal</td><td></td><td><a class=\"ProveItLink\" href=\"../../../../../booleans/quantification/existence/__pv_it/common/9b6e04766908a750ceb2bcebb9ad722de073d35c0/expr.ipynb\"><img src=\"../../../../../booleans/quantification/existence/__pv_it/common/9b6e04766908a750ceb2bcebb9ad722de073d35c0/expr.png\" style=\"display:inline;vertical-align:middle;\" /></a></td></tr>\n",
       "<tr><td>2</td><td>ExprTuple</td><td>3</td><td><a class=\"ProveItLink\" href=\"../e2776a899d2ebf261e4e89b62c06f796e8ab674b0/expr.ipynb\"><img src=\"../e2776a899d2ebf261e4e89b62c06f796e8ab674b0/expr.png\" style=\"display:inline;vertical-align:middle;\" /></a></td></tr>\n",
       "<tr><td>3</td><td>Lambda</td><td>parameters:&nbsp;23<br>body:&nbsp;4<br></td><td><a class=\"ProveItLink\" href=\"../009f28e1c14d6270725c3beaa5cc84e0c01a82190/expr.ipynb\"><img src=\"../009f28e1c14d6270725c3beaa5cc84e0c01a82190/expr.png\" style=\"display:inline;vertical-align:middle;\" /></a></td></tr>\n",
       "<tr><td>4</td><td>Conditional</td><td>value:&nbsp;5<br>condition:&nbsp;6<br></td><td><a class=\"ProveItLink\" href=\"../520e8771ae0ed83a0a667b75e7166e15aa20d0af0/expr.ipynb\"><img src=\"../520e8771ae0ed83a0a667b75e7166e15aa20d0af0/expr.png\" style=\"display:inline;vertical-align:middle;\" /></a></td></tr>\n",
       "<tr><td>5</td><td>Operation</td><td>operator:&nbsp;7<br>operands:&nbsp;23<br></td><td><a class=\"ProveItLink\" href=\"../9ff929b7b815ded7f44ed4f11562f16f778b6e8b0/expr.ipynb\"><img src=\"../9ff929b7b815ded7f44ed4f11562f16f778b6e8b0/expr.png\" style=\"display:inline;vertical-align:middle;\" /></a></td></tr>\n",
       "<tr><td>6</td><td>Operation</td><td>operator:&nbsp;8<br>operands:&nbsp;9<br></td><td><a class=\"ProveItLink\" href=\"../e22be9583e27930a7a112d97ba97c9f7e7ea76d20/expr.ipynb\"><img src=\"../e22be9583e27930a7a112d97ba97c9f7e7ea76d20/expr.png\" style=\"display:inline;vertical-align:middle;\" /></a></td></tr>\n",
       "<tr><td>7</td><td>Literal</td><td></td><td><a class=\"ProveItLink\" href=\"../../../../disjointness/__pv_it/common/1758b71e6f260155e2790ec997d1eee94217692a0/expr.ipynb\"><img src=\"../../../../disjointness/__pv_it/common/1758b71e6f260155e2790ec997d1eee94217692a0/expr.png\" style=\"display:inline;vertical-align:middle;\" /></a></td></tr>\n",
       "<tr><td>8</td><td>Literal</td><td></td><td><a class=\"ProveItLink\" href=\"../../../../../booleans/conjunction/__pv_it/common/26b94b53e70b1d77b70f0d9d4236347db37731060/expr.ipynb\"><img src=\"../../../../../booleans/conjunction/__pv_it/common/26b94b53e70b1d77b70f0d9d4236347db37731060/expr.png\" style=\"display:inline;vertical-align:middle;\" /></a></td></tr>\n",
       "<tr><td>9</td><td>ExprTuple</td><td>10, 11</td><td><a class=\"ProveItLink\" href=\"../79cfe79597c2002f52fc4f4c58c4593a82980e230/expr.ipynb\"><img src=\"../79cfe79597c2002f52fc4f4c58c4593a82980e230/expr.png\" style=\"display:inline;vertical-align:middle;\" /></a></td></tr>\n",
       "<tr><td>10</td><td>ExprRange</td><td>lambda_map:&nbsp;12<br>start_index:&nbsp;26<br>end_index:&nbsp;27<br></td><td><a class=\"ProveItLink\" href=\"../2cedea200da49be7f65933a0651a08beeee194540/expr.ipynb\"><img src=\"../2cedea200da49be7f65933a0651a08beeee194540/expr.png\" style=\"display:inline;vertical-align:middle;\" /></a></td></tr>\n",
       "<tr><td>11</td><td>Operation</td><td>operator:&nbsp;13<br>operands:&nbsp;14<br></td><td><a class=\"ProveItLink\" href=\"../ab0b2329fe7176cc284dc6fbee28643e41dd6d3c0/expr.ipynb\"><img src=\"../ab0b2329fe7176cc284dc6fbee28643e41dd6d3c0/expr.png\" style=\"display:inline;vertical-align:middle;\" /></a></td></tr>\n",
       "<tr><td>12</td><td>Lambda</td><td>parameter:&nbsp;31<br>body:&nbsp;15<br></td><td><a class=\"ProveItLink\" href=\"../4e0d4360347efec14b96930888d76beca0ecc0410/expr.ipynb\"><img src=\"../4e0d4360347efec14b96930888d76beca0ecc0410/expr.png\" style=\"display:inline;vertical-align:middle;\" /></a></td></tr>\n",
       "<tr><td>13</td><td>Literal</td><td></td><td><a class=\"ProveItLink\" href=\"../../../../../equality/__pv_it/common/731dd3955b346c1320ed5c0ba7a618bcda61457d0/expr.ipynb\"><img src=\"../../../../../equality/__pv_it/common/731dd3955b346c1320ed5c0ba7a618bcda61457d0/expr.png\" style=\"display:inline;vertical-align:middle;\" /></a></td></tr>\n",
       "<tr><td>14</td><td>ExprTuple</td><td>16, 17</td><td><a class=\"ProveItLink\" href=\"../973895bdcb4a6706ff32d70cc5005a40cce065770/expr.ipynb\"><img src=\"../973895bdcb4a6706ff32d70cc5005a40cce065770/expr.png\" style=\"display:inline;vertical-align:middle;\" /></a></td></tr>\n",
       "<tr><td>15</td><td>Operation</td><td>operator:&nbsp;18<br>operands:&nbsp;19<br></td><td><a class=\"ProveItLink\" href=\"../dcaeecc6ab50e4287edeb4e52b4cb90142402e670/expr.ipynb\"><img src=\"../dcaeecc6ab50e4287edeb4e52b4cb90142402e670/expr.png\" style=\"display:inline;vertical-align:middle;\" /></a></td></tr>\n",
       "<tr><td>16</td><td>Operation</td><td>operator:&nbsp;20<br>operand:&nbsp;23<br></td><td><a class=\"ProveItLink\" href=\"../5599efcd51244c15e9d03cc13023e2531c1fd5c90/expr.ipynb\"><img src=\"../5599efcd51244c15e9d03cc13023e2531c1fd5c90/expr.png\" style=\"display:inline;vertical-align:middle;\" /></a></td></tr>\n",
       "<tr><td>17</td><td>Variable</td><td></td><td><a class=\"ProveItLink\" href=\"../../../../../../__pv_it/common/c401de8fd84b016d9ef2a311a2de841ba60c23a50/expr.ipynb\"><img src=\"../../../../../../__pv_it/common/c401de8fd84b016d9ef2a311a2de841ba60c23a50/expr.png\" style=\"display:inline;vertical-align:middle;\" /></a></td></tr>\n",
       "<tr><td>18</td><td>Literal</td><td></td><td><a class=\"ProveItLink\" href=\"../../../../membership/__pv_it/common/7171deca84f71f47a6ec7696972d1632274a12880/expr.ipynb\"><img src=\"../../../../membership/__pv_it/common/7171deca84f71f47a6ec7696972d1632274a12880/expr.png\" style=\"display:inline;vertical-align:middle;\" /></a></td></tr>\n",
       "<tr><td>19</td><td>ExprTuple</td><td>28, 22</td><td><a class=\"ProveItLink\" href=\"../d5b9a527872abbe7095fe6b41851d67917c6b38b0/expr.ipynb\"><img src=\"../d5b9a527872abbe7095fe6b41851d67917c6b38b0/expr.png\" style=\"display:inline;vertical-align:middle;\" /></a></td></tr>\n",
       "<tr><td>20</td><td>Literal</td><td></td><td><a class=\"ProveItLink\" href=\"../../../../../../core_expr_types/tuples/__pv_it/common/29138a46bfd9f58652485fe2e3b1ee46d90d773e0/expr.ipynb\"><img src=\"../../../../../../core_expr_types/tuples/__pv_it/common/29138a46bfd9f58652485fe2e3b1ee46d90d773e0/expr.png\" style=\"display:inline;vertical-align:middle;\" /></a></td></tr>\n",
       "<tr><td>21</td><td>ExprTuple</td><td>23</td><td><a class=\"ProveItLink\" href=\"../18fa293a06a803ae3790f35208581880bfd6351d0/expr.ipynb\"><img src=\"../18fa293a06a803ae3790f35208581880bfd6351d0/expr.png\" style=\"display:inline;vertical-align:middle;\" /></a></td></tr>\n",
       "<tr><td>22</td><td>Variable</td><td></td><td><a class=\"ProveItLink\" href=\"../../../../../../__pv_it/common/259d0846cd49c4882c35ec84d7a0b180713721cc0/expr.ipynb\"><img src=\"../../../../../../__pv_it/common/259d0846cd49c4882c35ec84d7a0b180713721cc0/expr.png\" style=\"display:inline;vertical-align:middle;\" /></a></td></tr>\n",
       "<tr><td>23</td><td>ExprTuple</td><td>24</td><td><a class=\"ProveItLink\" href=\"../68879e82f57b50f8b10ac886a15df49e26599dca0/expr.ipynb\"><img src=\"../68879e82f57b50f8b10ac886a15df49e26599dca0/expr.png\" style=\"display:inline;vertical-align:middle;\" /></a></td></tr>\n",
       "<tr><td>24</td><td>ExprRange</td><td>lambda_map:&nbsp;25<br>start_index:&nbsp;26<br>end_index:&nbsp;27<br></td><td><a class=\"ProveItLink\" href=\"../../../../../../core_expr_types/__pv_it/common/787727f81f9180661d3864875ecab8ab340921c50/expr.ipynb\"><img src=\"../../../../../../core_expr_types/__pv_it/common/787727f81f9180661d3864875ecab8ab340921c50/expr.png\" style=\"display:inline;vertical-align:middle;\" /></a></td></tr>\n",
       "<tr><td>25</td><td>Lambda</td><td>parameter:&nbsp;31<br>body:&nbsp;28<br></td><td><a class=\"ProveItLink\" href=\"../../../../../../core_expr_types/__pv_it/common/9f9da64a6f3f7f4d7d39593366f06c70046127720/expr.ipynb\"><img src=\"../../../../../../core_expr_types/__pv_it/common/9f9da64a6f3f7f4d7d39593366f06c70046127720/expr.png\" style=\"display:inline;vertical-align:middle;\" /></a></td></tr>\n",
       "<tr><td>26</td><td>Literal</td><td></td><td><a class=\"ProveItLink\" href=\"../../../../../../numbers/numerals/__pv_it/common/d278e359da0695d9652dd541d45264f93703e2e40/expr.ipynb\"><img src=\"../../../../../../numbers/numerals/__pv_it/common/d278e359da0695d9652dd541d45264f93703e2e40/expr.png\" style=\"display:inline;vertical-align:middle;\" /></a></td></tr>\n",
       "<tr><td>27</td><td>Variable</td><td></td><td><a class=\"ProveItLink\" href=\"../../../../../../__pv_it/common/6165c9bb82ce3c7097cdba4440a1aeeb6eaca8a40/expr.ipynb\"><img src=\"../../../../../../__pv_it/common/6165c9bb82ce3c7097cdba4440a1aeeb6eaca8a40/expr.png\" style=\"display:inline;vertical-align:middle;\" /></a></td></tr>\n",
       "<tr><td>28</td><td>IndexedVar</td><td>variable:&nbsp;29<br>index:&nbsp;31<br></td><td><a class=\"ProveItLink\" href=\"../../../../../../core_expr_types/__pv_it/common/2b235eefbcbf7d9287528d44110903b9cfed0a2a0/expr.ipynb\"><img src=\"../../../../../../core_expr_types/__pv_it/common/2b235eefbcbf7d9287528d44110903b9cfed0a2a0/expr.png\" style=\"display:inline;vertical-align:middle;\" /></a></td></tr>\n",
       "<tr><td>29</td><td>Variable</td><td></td><td><a class=\"ProveItLink\" href=\"../../../../../../__pv_it/common/a2581dc5df71d9a30bad37de14965fa5fec97a240/expr.ipynb\"><img src=\"../../../../../../__pv_it/common/a2581dc5df71d9a30bad37de14965fa5fec97a240/expr.png\" style=\"display:inline;vertical-align:middle;\" /></a></td></tr>\n",
       "<tr><td>30</td><td>ExprTuple</td><td>31</td><td><a class=\"ProveItLink\" href=\"../../../../../../core_expr_types/__pv_it/common/ecf50ade416ab41c42c9f4e777b4c862cd9469670/expr.ipynb\"><img src=\"../../../../../../core_expr_types/__pv_it/common/ecf50ade416ab41c42c9f4e777b4c862cd9469670/expr.png\" style=\"display:inline;vertical-align:middle;\" /></a></td></tr>\n",
       "<tr><td>31</td><td>Variable</td><td></td><td><a class=\"ProveItLink\" href=\"../../../../../../core_expr_types/__pv_it/common/9e6d9d5d7eeb0342cf5bca68def0eb165a1a9bb10/expr.ipynb\"><img src=\"../../../../../../core_expr_types/__pv_it/common/9e6d9d5d7eeb0342cf5bca68def0eb165a1a9bb10/expr.png\" style=\"display:inline;vertical-align:middle;\" /></a></td></tr>\n",
       "</table>\n"
      ],
      "text/plain": [
       "0. exists_{x_{1}, ..x_{_a}.., x_{n} in S | |(x_{1}, ..x_{_a}.., x_{n})| = N} distinct(x_{1}, ..x_{_a}.., x_{n})\n",
       "   core type: Operation\n",
       "   operator: 1\n",
       "   operand: 3\n",
       "1. exists\n",
       "   core type: Literal\n",
       "   sub-expressions: \n",
       "2. ((x_{1}, ..x_{_a}.., x_{n}) -> {distinct(x_{1}, ..x_{_a}.., x_{n}) if x_{1} in S ,  ..x_{_a} in S.. ,  x_{n} in S ,  |(x_{1}, ..x_{_a}.., x_{n})| = N.)\n",
       "   core type: ExprTuple\n",
       "   sub-expressions: 3\n",
       "3. (x_{1}, ..x_{_a}.., x_{n}) -> {distinct(x_{1}, ..x_{_a}.., x_{n}) if x_{1} in S ,  ..x_{_a} in S.. ,  x_{n} in S ,  |(x_{1}, ..x_{_a}.., x_{n})| = N.\n",
       "   core type: Lambda\n",
       "   parameters: 23\\n   body: 4\n",
       "4. {distinct(x_{1}, ..x_{_a}.., x_{n}) if x_{1} in S ,  ..x_{_a} in S.. ,  x_{n} in S ,  |(x_{1}, ..x_{_a}.., x_{n})| = N.\n",
       "   core type: Conditional\n",
       "   value: 5\n",
       "   condition: 6\n",
       "5. distinct(x_{1}, ..x_{_a}.., x_{n})\n",
       "   core type: Operation\n",
       "   operator: 7\n",
       "   operands: 23\n",
       "6. (x_{1} in S) and ..(x_{_a} in S).. and (x_{n} in S) and (|(x_{1}, ..x_{_a}.., x_{n})| = N)\n",
       "   core type: Operation\n",
       "   operator: 8\n",
       "   operands: 9\n",
       "7. distinct\n",
       "   core type: Literal\n",
       "   sub-expressions: \n",
       "8. and\n",
       "   core type: Literal\n",
       "   sub-expressions: \n",
       "9. (x_{1} in S, ..x_{_a} in S.., x_{n} in S, |(x_{1}, ..x_{_a}.., x_{n})| = N)\n",
       "   core type: ExprTuple\n",
       "   sub-expressions: 10, 11\n",
       "10. (x_{1} in S), ..(x_{_a} in S).., (x_{n} in S)\n",
       "    core type: ExprRange\n",
       "    lambda_map: 12\n",
       "    start_index: 26\n",
       "    end_index: 27\n",
       "11. |(x_{1}, ..x_{_a}.., x_{n})| = N\n",
       "    core type: Operation\n",
       "    operator: 13\n",
       "    operands: 14\n",
       "12. _a -> (x_{_a} in S)\n",
       "    core type: Lambda\n",
       "    parameter: 31\n",
       "    body: 15\n",
       "13. =\n",
       "    core type: Literal\n",
       "    sub-expressions: \n",
       "14. (|(x_{1}, ..x_{_a}.., x_{n})|, N)\n",
       "    core type: ExprTuple\n",
       "    sub-expressions: 16, 17\n",
       "15. x_{_a} in S\n",
       "    core type: Operation\n",
       "    operator: 18\n",
       "    operands: 19\n",
       "16. |(x_{1}, ..x_{_a}.., x_{n})|\n",
       "    core type: Operation\n",
       "    operator: 20\n",
       "    operand: 23\n",
       "17. N\n",
       "    core type: Variable\n",
       "    sub-expressions: \n",
       "18. in\n",
       "    core type: Literal\n",
       "    sub-expressions: \n",
       "19. (x_{_a}, S)\n",
       "    core type: ExprTuple\n",
       "    sub-expressions: 28, 22\n",
       "20. length\n",
       "    core type: Literal\n",
       "    sub-expressions: \n",
       "21. ((x_{1}, ..x_{_a}.., x_{n}))\n",
       "    core type: ExprTuple\n",
       "    sub-expressions: 23\n",
       "22. S\n",
       "    core type: Variable\n",
       "    sub-expressions: \n",
       "23. (x_{1}, ..x_{_a}.., x_{n})\n",
       "    core type: ExprTuple\n",
       "    sub-expressions: 24\n",
       "24. x_{1}, ..x_{_a}.., x_{n}\n",
       "    core type: ExprRange\n",
       "    lambda_map: 25\n",
       "    start_index: 26\n",
       "    end_index: 27\n",
       "25. _a -> x_{_a}\n",
       "    core type: Lambda\n",
       "    parameter: 31\n",
       "    body: 28\n",
       "26. 1\n",
       "    core type: Literal\n",
       "    sub-expressions: \n",
       "27. n\n",
       "    core type: Variable\n",
       "    sub-expressions: \n",
       "28. x_{_a}\n",
       "    core type: IndexedVar\n",
       "variable: 29\n",
       "index: 31\n",
       "29. x\n",
       "    core type: Variable\n",
       "    sub-expressions: \n",
       "30. (_a)\n",
       "    core type: ExprTuple\n",
       "    sub-expressions: 31\n",
       "31. _a\n",
       "    core type: Variable\n",
       "    sub-expressions: "
      ]
     },
     "execution_count": 6,
     "metadata": {},
     "output_type": "execute_result"
    }
   ],
   "source": [
    "# display the expression information\n",
    "expr.expr_info()"
   ]
  },
  {
   "cell_type": "code",
   "execution_count": null,
   "metadata": {},
   "outputs": [],
   "source": []
  }
 ],
 "metadata": {
  "kernelspec": {
   "display_name": "Python 3",
   "language": "python",
   "name": "python3"
  }
 },
 "nbformat": 4,
 "nbformat_minor": 0
}