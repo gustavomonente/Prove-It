{
 "cells": [
  {
   "cell_type": "markdown",
   "metadata": {},
   "source": [
    "Expression of type <a class=\"ProveItLink\" href=\"../../../../../../../../doc/html/api/proveit.ExprTuple.html\">ExprTuple</a>\n",
    "=======================\n",
    "# from the theory of <a class=\"ProveItLink\" href=\"../../../_theory_nbs_/theory.ipynb\">proveit.logic.sets.cardinality</a>"
   ]
  },
  {
   "cell_type": "code",
   "execution_count": 1,
   "metadata": {},
   "outputs": [],
   "source": [
    "import proveit\n",
    "# Automation is not needed when building an expression:\n",
    "proveit.defaults.automation = False # This will speed things up.\n",
    "proveit.defaults.inline_pngs = False # Makes files smaller.\n",
    "%load_expr # Load the stored expression as 'stored_expr'\n",
    "# import Expression classes needed to build the expression\n",
    "from proveit import Conditional, ExprTuple, Lambda, n\n",
    "from proveit.core_expr_types import Len, x_1_to_n\n",
    "from proveit.logic import Card, Distinct, Equals, Forall, InSet, Set\n",
    "from proveit.numbers import NaturalPos"
   ]
  },
  {
   "cell_type": "code",
   "execution_count": 2,
   "metadata": {},
   "outputs": [
    {
     "data": {
      "text/html": [
       "<strong id=\"expr\">expr:</strong> <a class=\"ProveItLink\" href=\"expr.ipynb\"><img src=\"expr.png\" style=\"display:inline;vertical-align:middle;\" /></a><br>"
      ],
      "text/plain": [
       "expr: (n -> {forall_{x_{1}, ..x_{_a}.., x_{n} | distinct(x_{1}, ..x_{_a}.., x_{n})} (|{x_{1}, ..x_{_a}.., x_{n}}| = |(x_{1}, ..x_{_a}.., x_{n})|) if n in NaturalPos.)"
      ]
     },
     "execution_count": 2,
     "metadata": {},
     "output_type": "execute_result"
    }
   ],
   "source": [
    "# build up the expression from sub-expressions\n",
    "sub_expr1 = [x_1_to_n]\n",
    "expr = ExprTuple(Lambda(n, Conditional(Forall(sub_expr1, Equals(Card(Set(x_1_to_n)), Len(sub_expr1)), condition = Distinct(x_1_to_n)), InSet(n, NaturalPos))))"
   ]
  },
  {
   "cell_type": "code",
   "execution_count": 3,
   "metadata": {},
   "outputs": [
    {
     "name": "stdout",
     "output_type": "stream",
     "text": [
      "Passed sanity check: expr matches stored_expr\n"
     ]
    }
   ],
   "source": [
    "# check that the built expression is the same as the stored expression\n",
    "assert expr == stored_expr\n",
    "assert expr._style_id == stored_expr._style_id\n",
    "print(\"Passed sanity check: expr matches stored_expr\")"
   ]
  },
  {
   "cell_type": "code",
   "execution_count": 4,
   "metadata": {},
   "outputs": [
    {
     "name": "stdout",
     "output_type": "stream",
     "text": [
      "\\left(n \\mapsto \\left\\{\\forall_{x_{1}, \\ldots, x_{n}~|~\\textrm{distinct}(x_{1}, \\ldots, x_{n})}~\\left(|\\left\\{x_{1}, \\ldots, x_{n}\\right\\}| = |\\left(x_{1}, \\ldots, x_{n}\\right)|\\right) \\textrm{ if } n \\in \\mathbb{N}^+\\right..\\right)\n"
     ]
    }
   ],
   "source": [
    "# Show the LaTeX representation of the expression for convenience if you need it.\n",
    "print(expr.latex())"
   ]
  },
  {
   "cell_type": "code",
   "execution_count": 5,
   "metadata": {},
   "outputs": [
    {
     "data": {
      "text/html": [
       "no style options"
      ],
      "text/plain": [
       "no style options"
      ]
     },
     "execution_count": 5,
     "metadata": {},
     "output_type": "execute_result"
    }
   ],
   "source": [
    "expr.style_options()"
   ]
  },
  {
   "cell_type": "code",
   "execution_count": 6,
   "metadata": {},
   "outputs": [
    {
     "data": {
      "text/html": [
       "<table><tr><th>&nbsp;</th><th>core type</th><th>sub-expressions</th><th>expression</th></tr>\n",
       "<tr><td>0</td><td>ExprTuple</td><td>1</td><td><a class=\"ProveItLink\" href=\"expr.ipynb\"><img src=\"expr.png\" style=\"display:inline;vertical-align:middle;\" /></a></td></tr>\n",
       "<tr><td>1</td><td>Lambda</td><td>parameter:&nbsp;29<br>body:&nbsp;2<br></td><td><a class=\"ProveItLink\" href=\"../77fa66670ae1ae9fc8df2de4c7ee7747fb50c0940/expr.ipynb\"><img src=\"../77fa66670ae1ae9fc8df2de4c7ee7747fb50c0940/expr.png\" style=\"display:inline;vertical-align:middle;\" /></a></td></tr>\n",
       "<tr><td>2</td><td>Conditional</td><td>value:&nbsp;3<br>condition:&nbsp;4<br></td><td><a class=\"ProveItLink\" href=\"../c1f649bc62376da03f1b02dd746d658bafb299b80/expr.ipynb\"><img src=\"../c1f649bc62376da03f1b02dd746d658bafb299b80/expr.png\" style=\"display:inline;vertical-align:middle;\" /></a></td></tr>\n",
       "<tr><td>3</td><td>Operation</td><td>operator:&nbsp;5<br>operand:&nbsp;9<br></td><td><a class=\"ProveItLink\" href=\"../10ffff16c44f3603f6c21825c2a7d2e2927959840/expr.ipynb\"><img src=\"../10ffff16c44f3603f6c21825c2a7d2e2927959840/expr.png\" style=\"display:inline;vertical-align:middle;\" /></a></td></tr>\n",
       "<tr><td>4</td><td>Operation</td><td>operator:&nbsp;7<br>operands:&nbsp;8<br></td><td><a class=\"ProveItLink\" href=\"../ae59bd0f03e1fa8f7acebab16a13247bdc6eea470/expr.ipynb\"><img src=\"../ae59bd0f03e1fa8f7acebab16a13247bdc6eea470/expr.png\" style=\"display:inline;vertical-align:middle;\" /></a></td></tr>\n",
       "<tr><td>5</td><td>Literal</td><td></td><td><a class=\"ProveItLink\" href=\"../../../../../booleans/quantification/universality/__pv_it/common/684d35ba98fcbf8ca5011f865e530a51e77730630/expr.ipynb\"><img src=\"../../../../../booleans/quantification/universality/__pv_it/common/684d35ba98fcbf8ca5011f865e530a51e77730630/expr.png\" style=\"display:inline;vertical-align:middle;\" /></a></td></tr>\n",
       "<tr><td>6</td><td>ExprTuple</td><td>9</td><td><a class=\"ProveItLink\" href=\"../0be3c4e90b7d46e71a3d360c1e11b0088a47ccdb0/expr.ipynb\"><img src=\"../0be3c4e90b7d46e71a3d360c1e11b0088a47ccdb0/expr.png\" style=\"display:inline;vertical-align:middle;\" /></a></td></tr>\n",
       "<tr><td>7</td><td>Literal</td><td></td><td><a class=\"ProveItLink\" href=\"../../../../membership/__pv_it/common/7171deca84f71f47a6ec7696972d1632274a12880/expr.ipynb\"><img src=\"../../../../membership/__pv_it/common/7171deca84f71f47a6ec7696972d1632274a12880/expr.png\" style=\"display:inline;vertical-align:middle;\" /></a></td></tr>\n",
       "<tr><td>8</td><td>ExprTuple</td><td>29, 10</td><td><a class=\"ProveItLink\" href=\"../080dd91cc3570be1095df8a1115684c8dda0284e0/expr.ipynb\"><img src=\"../080dd91cc3570be1095df8a1115684c8dda0284e0/expr.png\" style=\"display:inline;vertical-align:middle;\" /></a></td></tr>\n",
       "<tr><td>9</td><td>Lambda</td><td>parameters:&nbsp;25<br>body:&nbsp;11<br></td><td><a class=\"ProveItLink\" href=\"../bb09edf0dafefcb9c8b36dbadcc3a2fc77e740500/expr.ipynb\"><img src=\"../bb09edf0dafefcb9c8b36dbadcc3a2fc77e740500/expr.png\" style=\"display:inline;vertical-align:middle;\" /></a></td></tr>\n",
       "<tr><td>10</td><td>Literal</td><td></td><td><a class=\"ProveItLink\" href=\"../../../../../../numbers/number_sets/natural_numbers/__pv_it/common/a2a7252783c385c028dad802e97575c19e456b990/expr.ipynb\"><img src=\"../../../../../../numbers/number_sets/natural_numbers/__pv_it/common/a2a7252783c385c028dad802e97575c19e456b990/expr.png\" style=\"display:inline;vertical-align:middle;\" /></a></td></tr>\n",
       "<tr><td>11</td><td>Conditional</td><td>value:&nbsp;12<br>condition:&nbsp;13<br></td><td><a class=\"ProveItLink\" href=\"../45c5a974f73da223ba242b3bb07afa94c18441c90/expr.ipynb\"><img src=\"../45c5a974f73da223ba242b3bb07afa94c18441c90/expr.png\" style=\"display:inline;vertical-align:middle;\" /></a></td></tr>\n",
       "<tr><td>12</td><td>Operation</td><td>operator:&nbsp;14<br>operands:&nbsp;15<br></td><td><a class=\"ProveItLink\" href=\"../fe8668a55cc2af1677f07bdfc4c6084d277011950/expr.ipynb\"><img src=\"../fe8668a55cc2af1677f07bdfc4c6084d277011950/expr.png\" style=\"display:inline;vertical-align:middle;\" /></a></td></tr>\n",
       "<tr><td>13</td><td>Operation</td><td>operator:&nbsp;16<br>operands:&nbsp;25<br></td><td><a class=\"ProveItLink\" href=\"../9ff929b7b815ded7f44ed4f11562f16f778b6e8b0/expr.ipynb\"><img src=\"../9ff929b7b815ded7f44ed4f11562f16f778b6e8b0/expr.png\" style=\"display:inline;vertical-align:middle;\" /></a></td></tr>\n",
       "<tr><td>14</td><td>Literal</td><td></td><td><a class=\"ProveItLink\" href=\"../../../../../equality/__pv_it/common/731dd3955b346c1320ed5c0ba7a618bcda61457d0/expr.ipynb\"><img src=\"../../../../../equality/__pv_it/common/731dd3955b346c1320ed5c0ba7a618bcda61457d0/expr.png\" style=\"display:inline;vertical-align:middle;\" /></a></td></tr>\n",
       "<tr><td>15</td><td>ExprTuple</td><td>17, 18</td><td><a class=\"ProveItLink\" href=\"../1fe477b729908589c0cfd67fabb5a69a0e5f74250/expr.ipynb\"><img src=\"../1fe477b729908589c0cfd67fabb5a69a0e5f74250/expr.png\" style=\"display:inline;vertical-align:middle;\" /></a></td></tr>\n",
       "<tr><td>16</td><td>Literal</td><td></td><td><a class=\"ProveItLink\" href=\"../../../../disjointness/__pv_it/common/1758b71e6f260155e2790ec997d1eee94217692a0/expr.ipynb\"><img src=\"../../../../disjointness/__pv_it/common/1758b71e6f260155e2790ec997d1eee94217692a0/expr.png\" style=\"display:inline;vertical-align:middle;\" /></a></td></tr>\n",
       "<tr><td>17</td><td>Operation</td><td>operator:&nbsp;19<br>operand:&nbsp;23<br></td><td><a class=\"ProveItLink\" href=\"../2a505fe1d3eb88b72f146c68fb83d50f6adb48000/expr.ipynb\"><img src=\"../2a505fe1d3eb88b72f146c68fb83d50f6adb48000/expr.png\" style=\"display:inline;vertical-align:middle;\" /></a></td></tr>\n",
       "<tr><td>18</td><td>Operation</td><td>operator:&nbsp;21<br>operand:&nbsp;25<br></td><td><a class=\"ProveItLink\" href=\"../5599efcd51244c15e9d03cc13023e2531c1fd5c90/expr.ipynb\"><img src=\"../5599efcd51244c15e9d03cc13023e2531c1fd5c90/expr.png\" style=\"display:inline;vertical-align:middle;\" /></a></td></tr>\n",
       "<tr><td>19</td><td>Literal</td><td></td><td><a class=\"ProveItLink\" href=\"../../common/6854c4c2207f4ca54756849f3e4818a683a1efce0/expr.ipynb\"><img src=\"../../common/6854c4c2207f4ca54756849f3e4818a683a1efce0/expr.png\" style=\"display:inline;vertical-align:middle;\" /></a></td></tr>\n",
       "<tr><td>20</td><td>ExprTuple</td><td>23</td><td><a class=\"ProveItLink\" href=\"../eba4d7085ee106113314464309d17bacd589f5aa0/expr.ipynb\"><img src=\"../eba4d7085ee106113314464309d17bacd589f5aa0/expr.png\" style=\"display:inline;vertical-align:middle;\" /></a></td></tr>\n",
       "<tr><td>21</td><td>Literal</td><td></td><td><a class=\"ProveItLink\" href=\"../../../../../../core_expr_types/tuples/__pv_it/common/29138a46bfd9f58652485fe2e3b1ee46d90d773e0/expr.ipynb\"><img src=\"../../../../../../core_expr_types/tuples/__pv_it/common/29138a46bfd9f58652485fe2e3b1ee46d90d773e0/expr.png\" style=\"display:inline;vertical-align:middle;\" /></a></td></tr>\n",
       "<tr><td>22</td><td>ExprTuple</td><td>25</td><td><a class=\"ProveItLink\" href=\"../18fa293a06a803ae3790f35208581880bfd6351d0/expr.ipynb\"><img src=\"../18fa293a06a803ae3790f35208581880bfd6351d0/expr.png\" style=\"display:inline;vertical-align:middle;\" /></a></td></tr>\n",
       "<tr><td>23</td><td>Operation</td><td>operator:&nbsp;24<br>operands:&nbsp;25<br></td><td><a class=\"ProveItLink\" href=\"../d53882de2abdd08416aeb6a4e243c988240d17cc0/expr.ipynb\"><img src=\"../d53882de2abdd08416aeb6a4e243c988240d17cc0/expr.png\" style=\"display:inline;vertical-align:middle;\" /></a></td></tr>\n",
       "<tr><td>24</td><td>Literal</td><td></td><td><a class=\"ProveItLink\" href=\"../../../../enumeration/__pv_it/common/f7caf702081f903a6ea3d95d680568dd78698f5a0/expr.ipynb\"><img src=\"../../../../enumeration/__pv_it/common/f7caf702081f903a6ea3d95d680568dd78698f5a0/expr.png\" style=\"display:inline;vertical-align:middle;\" /></a></td></tr>\n",
       "<tr><td>25</td><td>ExprTuple</td><td>26</td><td><a class=\"ProveItLink\" href=\"../68879e82f57b50f8b10ac886a15df49e26599dca0/expr.ipynb\"><img src=\"../68879e82f57b50f8b10ac886a15df49e26599dca0/expr.png\" style=\"display:inline;vertical-align:middle;\" /></a></td></tr>\n",
       "<tr><td>26</td><td>ExprRange</td><td>lambda_map:&nbsp;27<br>start_index:&nbsp;28<br>end_index:&nbsp;29<br></td><td><a class=\"ProveItLink\" href=\"../../../../../../core_expr_types/__pv_it/common/787727f81f9180661d3864875ecab8ab340921c50/expr.ipynb\"><img src=\"../../../../../../core_expr_types/__pv_it/common/787727f81f9180661d3864875ecab8ab340921c50/expr.png\" style=\"display:inline;vertical-align:middle;\" /></a></td></tr>\n",
       "<tr><td>27</td><td>Lambda</td><td>parameter:&nbsp;33<br>body:&nbsp;30<br></td><td><a class=\"ProveItLink\" href=\"../../../../../../core_expr_types/__pv_it/common/9f9da64a6f3f7f4d7d39593366f06c70046127720/expr.ipynb\"><img src=\"../../../../../../core_expr_types/__pv_it/common/9f9da64a6f3f7f4d7d39593366f06c70046127720/expr.png\" style=\"display:inline;vertical-align:middle;\" /></a></td></tr>\n",
       "<tr><td>28</td><td>Literal</td><td></td><td><a class=\"ProveItLink\" href=\"../../../../../../numbers/numerals/__pv_it/common/d278e359da0695d9652dd541d45264f93703e2e40/expr.ipynb\"><img src=\"../../../../../../numbers/numerals/__pv_it/common/d278e359da0695d9652dd541d45264f93703e2e40/expr.png\" style=\"display:inline;vertical-align:middle;\" /></a></td></tr>\n",
       "<tr><td>29</td><td>Variable</td><td></td><td><a class=\"ProveItLink\" href=\"../../../../../../__pv_it/common/6165c9bb82ce3c7097cdba4440a1aeeb6eaca8a40/expr.ipynb\"><img src=\"../../../../../../__pv_it/common/6165c9bb82ce3c7097cdba4440a1aeeb6eaca8a40/expr.png\" style=\"display:inline;vertical-align:middle;\" /></a></td></tr>\n",
       "<tr><td>30</td><td>IndexedVar</td><td>variable:&nbsp;31<br>index:&nbsp;33<br></td><td><a class=\"ProveItLink\" href=\"../../../../../../core_expr_types/__pv_it/common/2b235eefbcbf7d9287528d44110903b9cfed0a2a0/expr.ipynb\"><img src=\"../../../../../../core_expr_types/__pv_it/common/2b235eefbcbf7d9287528d44110903b9cfed0a2a0/expr.png\" style=\"display:inline;vertical-align:middle;\" /></a></td></tr>\n",
       "<tr><td>31</td><td>Variable</td><td></td><td><a class=\"ProveItLink\" href=\"../../../../../../__pv_it/common/a2581dc5df71d9a30bad37de14965fa5fec97a240/expr.ipynb\"><img src=\"../../../../../../__pv_it/common/a2581dc5df71d9a30bad37de14965fa5fec97a240/expr.png\" style=\"display:inline;vertical-align:middle;\" /></a></td></tr>\n",
       "<tr><td>32</td><td>ExprTuple</td><td>33</td><td><a class=\"ProveItLink\" href=\"../../../../../../core_expr_types/__pv_it/common/ecf50ade416ab41c42c9f4e777b4c862cd9469670/expr.ipynb\"><img src=\"../../../../../../core_expr_types/__pv_it/common/ecf50ade416ab41c42c9f4e777b4c862cd9469670/expr.png\" style=\"display:inline;vertical-align:middle;\" /></a></td></tr>\n",
       "<tr><td>33</td><td>Variable</td><td></td><td><a class=\"ProveItLink\" href=\"../../../../../../core_expr_types/__pv_it/common/9e6d9d5d7eeb0342cf5bca68def0eb165a1a9bb10/expr.ipynb\"><img src=\"../../../../../../core_expr_types/__pv_it/common/9e6d9d5d7eeb0342cf5bca68def0eb165a1a9bb10/expr.png\" style=\"display:inline;vertical-align:middle;\" /></a></td></tr>\n",
       "</table>\n"
      ],
      "text/plain": [
       "0. (n -> {forall_{x_{1}, ..x_{_a}.., x_{n} | distinct(x_{1}, ..x_{_a}.., x_{n})} (|{x_{1}, ..x_{_a}.., x_{n}}| = |(x_{1}, ..x_{_a}.., x_{n})|) if n in NaturalPos.)\n",
       "   core type: ExprTuple\n",
       "   sub-expressions: 1\n",
       "1. n -> {forall_{x_{1}, ..x_{_a}.., x_{n} | distinct(x_{1}, ..x_{_a}.., x_{n})} (|{x_{1}, ..x_{_a}.., x_{n}}| = |(x_{1}, ..x_{_a}.., x_{n})|) if n in NaturalPos.\n",
       "   core type: Lambda\n",
       "   parameter: 29\n",
       "   body: 2\n",
       "2. {forall_{x_{1}, ..x_{_a}.., x_{n} | distinct(x_{1}, ..x_{_a}.., x_{n})} (|{x_{1}, ..x_{_a}.., x_{n}}| = |(x_{1}, ..x_{_a}.., x_{n})|) if n in NaturalPos.\n",
       "   core type: Conditional\n",
       "   value: 3\n",
       "   condition: 4\n",
       "3. forall_{x_{1}, ..x_{_a}.., x_{n} | distinct(x_{1}, ..x_{_a}.., x_{n})} (|{x_{1}, ..x_{_a}.., x_{n}}| = |(x_{1}, ..x_{_a}.., x_{n})|)\n",
       "   core type: Operation\n",
       "   operator: 5\n",
       "   operand: 9\n",
       "4. n in NaturalPos\n",
       "   core type: Operation\n",
       "   operator: 7\n",
       "   operands: 8\n",
       "5. forall\n",
       "   core type: Literal\n",
       "   sub-expressions: \n",
       "6. ((x_{1}, ..x_{_a}.., x_{n}) -> {|{x_{1}, ..x_{_a}.., x_{n}}| = |(x_{1}, ..x_{_a}.., x_{n})| if distinct(x_{1}, ..x_{_a}.., x_{n}).)\n",
       "   core type: ExprTuple\n",
       "   sub-expressions: 9\n",
       "7. in\n",
       "   core type: Literal\n",
       "   sub-expressions: \n",
       "8. (n, NaturalPos)\n",
       "   core type: ExprTuple\n",
       "   sub-expressions: 29, 10\n",
       "9. (x_{1}, ..x_{_a}.., x_{n}) -> {|{x_{1}, ..x_{_a}.., x_{n}}| = |(x_{1}, ..x_{_a}.., x_{n})| if distinct(x_{1}, ..x_{_a}.., x_{n}).\n",
       "   core type: Lambda\n",
       "   parameters: 25\\n   body: 11\n",
       "10. NaturalPos\n",
       "    core type: Literal\n",
       "    sub-expressions: \n",
       "11. {|{x_{1}, ..x_{_a}.., x_{n}}| = |(x_{1}, ..x_{_a}.., x_{n})| if distinct(x_{1}, ..x_{_a}.., x_{n}).\n",
       "    core type: Conditional\n",
       "    value: 12\n",
       "    condition: 13\n",
       "12. |{x_{1}, ..x_{_a}.., x_{n}}| = |(x_{1}, ..x_{_a}.., x_{n})|\n",
       "    core type: Operation\n",
       "    operator: 14\n",
       "    operands: 15\n",
       "13. distinct(x_{1}, ..x_{_a}.., x_{n})\n",
       "    core type: Operation\n",
       "    operator: 16\n",
       "    operands: 25\n",
       "14. =\n",
       "    core type: Literal\n",
       "    sub-expressions: \n",
       "15. (|{x_{1}, ..x_{_a}.., x_{n}}|, |(x_{1}, ..x_{_a}.., x_{n})|)\n",
       "    core type: ExprTuple\n",
       "    sub-expressions: 17, 18\n",
       "16. distinct\n",
       "    core type: Literal\n",
       "    sub-expressions: \n",
       "17. |{x_{1}, ..x_{_a}.., x_{n}}|\n",
       "    core type: Operation\n",
       "    operator: 19\n",
       "    operand: 23\n",
       "18. |(x_{1}, ..x_{_a}.., x_{n})|\n",
       "    core type: Operation\n",
       "    operator: 21\n",
       "    operand: 25\n",
       "19. card\n",
       "    core type: Literal\n",
       "    sub-expressions: \n",
       "20. ({x_{1}, ..x_{_a}.., x_{n}})\n",
       "    core type: ExprTuple\n",
       "    sub-expressions: 23\n",
       "21. length\n",
       "    core type: Literal\n",
       "    sub-expressions: \n",
       "22. ((x_{1}, ..x_{_a}.., x_{n}))\n",
       "    core type: ExprTuple\n",
       "    sub-expressions: 25\n",
       "23. {x_{1}, ..x_{_a}.., x_{n}}\n",
       "    core type: Operation\n",
       "    operator: 24\n",
       "    operands: 25\n",
       "24. Set\n",
       "    core type: Literal\n",
       "    sub-expressions: \n",
       "25. (x_{1}, ..x_{_a}.., x_{n})\n",
       "    core type: ExprTuple\n",
       "    sub-expressions: 26\n",
       "26. x_{1}, ..x_{_a}.., x_{n}\n",
       "    core type: ExprRange\n",
       "    lambda_map: 27\n",
       "    start_index: 28\n",
       "    end_index: 29\n",
       "27. _a -> x_{_a}\n",
       "    core type: Lambda\n",
       "    parameter: 33\n",
       "    body: 30\n",
       "28. 1\n",
       "    core type: Literal\n",
       "    sub-expressions: \n",
       "29. n\n",
       "    core type: Variable\n",
       "    sub-expressions: \n",
       "30. x_{_a}\n",
       "    core type: IndexedVar\n",
       "variable: 31\n",
       "index: 33\n",
       "31. x\n",
       "    core type: Variable\n",
       "    sub-expressions: \n",
       "32. (_a)\n",
       "    core type: ExprTuple\n",
       "    sub-expressions: 33\n",
       "33. _a\n",
       "    core type: Variable\n",
       "    sub-expressions: "
      ]
     },
     "execution_count": 6,
     "metadata": {},
     "output_type": "execute_result"
    }
   ],
   "source": [
    "# display the expression information\n",
    "expr.expr_info()"
   ]
  },
  {
   "cell_type": "code",
   "execution_count": null,
   "metadata": {},
   "outputs": [],
   "source": []
  }
 ],
 "metadata": {
  "kernelspec": {
   "display_name": "Python 3",
   "language": "python",
   "name": "python3"
  }
 },
 "nbformat": 4,
 "nbformat_minor": 0
}