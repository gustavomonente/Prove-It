{
 "cells": [
  {
   "cell_type": "markdown",
   "metadata": {},
   "source": [
    "Expression of type <a class=\"ProveItLink\" href=\"../../../../../../../../doc/html/api/proveit.Lambda.html\">Lambda</a>\n",
    "=======================\n",
    "# from the theory of <a class=\"ProveItLink\" href=\"../../../_theory_nbs_/theory.ipynb\">proveit.logic.sets.cardinality</a>"
   ]
  },
  {
   "cell_type": "code",
   "execution_count": 1,
   "metadata": {},
   "outputs": [],
   "source": [
    "import proveit\n",
    "# Automation is not needed when building an expression:\n",
    "proveit.defaults.automation = False # This will speed things up.\n",
    "proveit.defaults.inline_pngs = False # Makes files smaller.\n",
    "%load_expr # Load the stored expression as 'stored_expr'\n",
    "# import Expression classes needed to build the expression\n",
    "from proveit import Conditional, Lambda, N, S, n\n",
    "from proveit.core_expr_types import Len, x_1_to_n\n",
    "from proveit.logic import Card, Distinct, Equals, Exists, Forall, InSet\n",
    "from proveit.numbers import NaturalPos, greater_eq"
   ]
  },
  {
   "cell_type": "code",
   "execution_count": 2,
   "metadata": {},
   "outputs": [
    {
     "data": {
      "text/html": [
       "<strong id=\"expr\">expr:</strong> <a class=\"ProveItLink\" href=\"expr.ipynb\"><img src=\"expr.png\" style=\"display:inline;vertical-align:middle;\" /></a><br>"
      ],
      "text/plain": [
       "expr: n -> {forall_{S, N | |S| >= N} [exists_{x_{1}, ..x_{_a}.., x_{n} in S | |(x_{1}, ..x_{_a}.., x_{n})| = N} distinct(x_{1}, ..x_{_a}.., x_{n})] if n in NaturalPos."
      ]
     },
     "execution_count": 2,
     "metadata": {},
     "output_type": "execute_result"
    }
   ],
   "source": [
    "# build up the expression from sub-expressions\n",
    "sub_expr1 = [x_1_to_n]\n",
    "expr = Lambda(n, Conditional(Forall([S, N], Exists(sub_expr1, Distinct(x_1_to_n), domains = [S], condition = Equals(Len(sub_expr1), N)), condition = greater_eq(Card(S), N)), InSet(n, NaturalPos)))"
   ]
  },
  {
   "cell_type": "code",
   "execution_count": 3,
   "metadata": {},
   "outputs": [
    {
     "name": "stdout",
     "output_type": "stream",
     "text": [
      "Passed sanity check: expr matches stored_expr\n"
     ]
    }
   ],
   "source": [
    "# check that the built expression is the same as the stored expression\n",
    "assert expr == stored_expr\n",
    "assert expr._style_id == stored_expr._style_id\n",
    "print(\"Passed sanity check: expr matches stored_expr\")"
   ]
  },
  {
   "cell_type": "code",
   "execution_count": 4,
   "metadata": {},
   "outputs": [
    {
     "name": "stdout",
     "output_type": "stream",
     "text": [
      "n \\mapsto \\left\\{\\forall_{S, N~|~|S| \\geq N}~\\left[\\exists_{x_{1}, \\ldots, x_{n} \\in S~|~|\\left(x_{1}, \\ldots, x_{n}\\right)| = N}~\\textrm{distinct}(x_{1}, \\ldots, x_{n})\\right] \\textrm{ if } n \\in \\mathbb{N}^+\\right..\n"
     ]
    }
   ],
   "source": [
    "# Show the LaTeX representation of the expression for convenience if you need it.\n",
    "print(expr.latex())"
   ]
  },
  {
   "cell_type": "code",
   "execution_count": 5,
   "metadata": {},
   "outputs": [
    {
     "data": {
      "text/html": [
       "no style options"
      ],
      "text/plain": [
       "no style options"
      ]
     },
     "execution_count": 5,
     "metadata": {},
     "output_type": "execute_result"
    }
   ],
   "source": [
    "expr.style_options()"
   ]
  },
  {
   "cell_type": "code",
   "execution_count": 6,
   "metadata": {},
   "outputs": [
    {
     "data": {
      "text/html": [
       "<table><tr><th>&nbsp;</th><th>core type</th><th>sub-expressions</th><th>expression</th></tr>\n",
       "<tr><td>0</td><td>Lambda</td><td>parameter:&nbsp;44<br>body:&nbsp;1<br></td><td><a class=\"ProveItLink\" href=\"expr.ipynb\"><img src=\"expr.png\" style=\"display:inline;vertical-align:middle;\" /></a></td></tr>\n",
       "<tr><td>1</td><td>Conditional</td><td>value:&nbsp;2<br>condition:&nbsp;3<br></td><td><a class=\"ProveItLink\" href=\"../00660f32a5ffb1c3137c362bcf8c04792f1d19590/expr.ipynb\"><img src=\"../00660f32a5ffb1c3137c362bcf8c04792f1d19590/expr.png\" style=\"display:inline;vertical-align:middle;\" /></a></td></tr>\n",
       "<tr><td>2</td><td>Operation</td><td>operator:&nbsp;4<br>operand:&nbsp;7<br></td><td><a class=\"ProveItLink\" href=\"../ec0077d011010afdac7b6faf6e3822798509387f0/expr.ipynb\"><img src=\"../ec0077d011010afdac7b6faf6e3822798509387f0/expr.png\" style=\"display:inline;vertical-align:middle;\" /></a></td></tr>\n",
       "<tr><td>3</td><td>Operation</td><td>operator:&nbsp;35<br>operands:&nbsp;6<br></td><td><a class=\"ProveItLink\" href=\"../ae59bd0f03e1fa8f7acebab16a13247bdc6eea470/expr.ipynb\"><img src=\"../ae59bd0f03e1fa8f7acebab16a13247bdc6eea470/expr.png\" style=\"display:inline;vertical-align:middle;\" /></a></td></tr>\n",
       "<tr><td>4</td><td>Literal</td><td></td><td><a class=\"ProveItLink\" href=\"../../../../../booleans/quantification/universality/__pv_it/common/684d35ba98fcbf8ca5011f865e530a51e77730630/expr.ipynb\"><img src=\"../../../../../booleans/quantification/universality/__pv_it/common/684d35ba98fcbf8ca5011f865e530a51e77730630/expr.png\" style=\"display:inline;vertical-align:middle;\" /></a></td></tr>\n",
       "<tr><td>5</td><td>ExprTuple</td><td>7</td><td><a class=\"ProveItLink\" href=\"../5e16e17d3ec1f174d9b3360b3a4b4338220cd9f00/expr.ipynb\"><img src=\"../5e16e17d3ec1f174d9b3360b3a4b4338220cd9f00/expr.png\" style=\"display:inline;vertical-align:middle;\" /></a></td></tr>\n",
       "<tr><td>6</td><td>ExprTuple</td><td>44, 8</td><td><a class=\"ProveItLink\" href=\"../080dd91cc3570be1095df8a1115684c8dda0284e0/expr.ipynb\"><img src=\"../080dd91cc3570be1095df8a1115684c8dda0284e0/expr.png\" style=\"display:inline;vertical-align:middle;\" /></a></td></tr>\n",
       "<tr><td>7</td><td>Lambda</td><td>parameters:&nbsp;9<br>body:&nbsp;10<br></td><td><a class=\"ProveItLink\" href=\"../6afb0e20fb180f89995e175f0fd6ef83739032230/expr.ipynb\"><img src=\"../6afb0e20fb180f89995e175f0fd6ef83739032230/expr.png\" style=\"display:inline;vertical-align:middle;\" /></a></td></tr>\n",
       "<tr><td>8</td><td>Literal</td><td></td><td><a class=\"ProveItLink\" href=\"../../../../../../numbers/number_sets/natural_numbers/__pv_it/common/a2a7252783c385c028dad802e97575c19e456b990/expr.ipynb\"><img src=\"../../../../../../numbers/number_sets/natural_numbers/__pv_it/common/a2a7252783c385c028dad802e97575c19e456b990/expr.png\" style=\"display:inline;vertical-align:middle;\" /></a></td></tr>\n",
       "<tr><td>9</td><td>ExprTuple</td><td>39, 34</td><td><a class=\"ProveItLink\" href=\"../49898c7b6190213351e56b923197bf24fa0e090c0/expr.ipynb\"><img src=\"../49898c7b6190213351e56b923197bf24fa0e090c0/expr.png\" style=\"display:inline;vertical-align:middle;\" /></a></td></tr>\n",
       "<tr><td>10</td><td>Conditional</td><td>value:&nbsp;11<br>condition:&nbsp;12<br></td><td><a class=\"ProveItLink\" href=\"../148280d5a38d68f015777016ef1e9ac88f65a5a60/expr.ipynb\"><img src=\"../148280d5a38d68f015777016ef1e9ac88f65a5a60/expr.png\" style=\"display:inline;vertical-align:middle;\" /></a></td></tr>\n",
       "<tr><td>11</td><td>Operation</td><td>operator:&nbsp;13<br>operand:&nbsp;17<br></td><td><a class=\"ProveItLink\" href=\"../433d914a341f206ea3d926a329c12b8b2cc441840/expr.ipynb\"><img src=\"../433d914a341f206ea3d926a329c12b8b2cc441840/expr.png\" style=\"display:inline;vertical-align:middle;\" /></a></td></tr>\n",
       "<tr><td>12</td><td>Operation</td><td>operator:&nbsp;15<br>operands:&nbsp;16<br></td><td><a class=\"ProveItLink\" href=\"../0b4dd4f900a531b0c039660483afcdebfb967c9f0/expr.ipynb\"><img src=\"../0b4dd4f900a531b0c039660483afcdebfb967c9f0/expr.png\" style=\"display:inline;vertical-align:middle;\" /></a></td></tr>\n",
       "<tr><td>13</td><td>Literal</td><td></td><td><a class=\"ProveItLink\" href=\"../../../../../booleans/quantification/existence/__pv_it/common/9b6e04766908a750ceb2bcebb9ad722de073d35c0/expr.ipynb\"><img src=\"../../../../../booleans/quantification/existence/__pv_it/common/9b6e04766908a750ceb2bcebb9ad722de073d35c0/expr.png\" style=\"display:inline;vertical-align:middle;\" /></a></td></tr>\n",
       "<tr><td>14</td><td>ExprTuple</td><td>17</td><td><a class=\"ProveItLink\" href=\"../e2776a899d2ebf261e4e89b62c06f796e8ab674b0/expr.ipynb\"><img src=\"../e2776a899d2ebf261e4e89b62c06f796e8ab674b0/expr.png\" style=\"display:inline;vertical-align:middle;\" /></a></td></tr>\n",
       "<tr><td>15</td><td>Literal</td><td></td><td><a class=\"ProveItLink\" href=\"../../../../../../numbers/ordering/__pv_it/common/b7491c9b87613cffc9e4ec0625a0f1afacbe2cbd0/expr.ipynb\"><img src=\"../../../../../../numbers/ordering/__pv_it/common/b7491c9b87613cffc9e4ec0625a0f1afacbe2cbd0/expr.png\" style=\"display:inline;vertical-align:middle;\" /></a></td></tr>\n",
       "<tr><td>16</td><td>ExprTuple</td><td>34, 18</td><td><a class=\"ProveItLink\" href=\"../52f026e70af42973dd9b2769d313cea5a76f24910/expr.ipynb\"><img src=\"../52f026e70af42973dd9b2769d313cea5a76f24910/expr.png\" style=\"display:inline;vertical-align:middle;\" /></a></td></tr>\n",
       "<tr><td>17</td><td>Lambda</td><td>parameters:&nbsp;40<br>body:&nbsp;19<br></td><td><a class=\"ProveItLink\" href=\"../009f28e1c14d6270725c3beaa5cc84e0c01a82190/expr.ipynb\"><img src=\"../009f28e1c14d6270725c3beaa5cc84e0c01a82190/expr.png\" style=\"display:inline;vertical-align:middle;\" /></a></td></tr>\n",
       "<tr><td>18</td><td>Operation</td><td>operator:&nbsp;20<br>operand:&nbsp;39<br></td><td><a class=\"ProveItLink\" href=\"../646d0bd34c888f326fb307df49b96172579a994c0/expr.ipynb\"><img src=\"../646d0bd34c888f326fb307df49b96172579a994c0/expr.png\" style=\"display:inline;vertical-align:middle;\" /></a></td></tr>\n",
       "<tr><td>19</td><td>Conditional</td><td>value:&nbsp;22<br>condition:&nbsp;23<br></td><td><a class=\"ProveItLink\" href=\"../520e8771ae0ed83a0a667b75e7166e15aa20d0af0/expr.ipynb\"><img src=\"../520e8771ae0ed83a0a667b75e7166e15aa20d0af0/expr.png\" style=\"display:inline;vertical-align:middle;\" /></a></td></tr>\n",
       "<tr><td>20</td><td>Literal</td><td></td><td><a class=\"ProveItLink\" href=\"../../common/6854c4c2207f4ca54756849f3e4818a683a1efce0/expr.ipynb\"><img src=\"../../common/6854c4c2207f4ca54756849f3e4818a683a1efce0/expr.png\" style=\"display:inline;vertical-align:middle;\" /></a></td></tr>\n",
       "<tr><td>21</td><td>ExprTuple</td><td>39</td><td><a class=\"ProveItLink\" href=\"../6b6054f46a6e8d1e619e665c255c06c65fc92cb20/expr.ipynb\"><img src=\"../6b6054f46a6e8d1e619e665c255c06c65fc92cb20/expr.png\" style=\"display:inline;vertical-align:middle;\" /></a></td></tr>\n",
       "<tr><td>22</td><td>Operation</td><td>operator:&nbsp;24<br>operands:&nbsp;40<br></td><td><a class=\"ProveItLink\" href=\"../9ff929b7b815ded7f44ed4f11562f16f778b6e8b0/expr.ipynb\"><img src=\"../9ff929b7b815ded7f44ed4f11562f16f778b6e8b0/expr.png\" style=\"display:inline;vertical-align:middle;\" /></a></td></tr>\n",
       "<tr><td>23</td><td>Operation</td><td>operator:&nbsp;25<br>operands:&nbsp;26<br></td><td><a class=\"ProveItLink\" href=\"../e22be9583e27930a7a112d97ba97c9f7e7ea76d20/expr.ipynb\"><img src=\"../e22be9583e27930a7a112d97ba97c9f7e7ea76d20/expr.png\" style=\"display:inline;vertical-align:middle;\" /></a></td></tr>\n",
       "<tr><td>24</td><td>Literal</td><td></td><td><a class=\"ProveItLink\" href=\"../../../../disjointness/__pv_it/common/1758b71e6f260155e2790ec997d1eee94217692a0/expr.ipynb\"><img src=\"../../../../disjointness/__pv_it/common/1758b71e6f260155e2790ec997d1eee94217692a0/expr.png\" style=\"display:inline;vertical-align:middle;\" /></a></td></tr>\n",
       "<tr><td>25</td><td>Literal</td><td></td><td><a class=\"ProveItLink\" href=\"../../../../../booleans/conjunction/__pv_it/common/26b94b53e70b1d77b70f0d9d4236347db37731060/expr.ipynb\"><img src=\"../../../../../booleans/conjunction/__pv_it/common/26b94b53e70b1d77b70f0d9d4236347db37731060/expr.png\" style=\"display:inline;vertical-align:middle;\" /></a></td></tr>\n",
       "<tr><td>26</td><td>ExprTuple</td><td>27, 28</td><td><a class=\"ProveItLink\" href=\"../79cfe79597c2002f52fc4f4c58c4593a82980e230/expr.ipynb\"><img src=\"../79cfe79597c2002f52fc4f4c58c4593a82980e230/expr.png\" style=\"display:inline;vertical-align:middle;\" /></a></td></tr>\n",
       "<tr><td>27</td><td>ExprRange</td><td>lambda_map:&nbsp;29<br>start_index:&nbsp;43<br>end_index:&nbsp;44<br></td><td><a class=\"ProveItLink\" href=\"../2cedea200da49be7f65933a0651a08beeee194540/expr.ipynb\"><img src=\"../2cedea200da49be7f65933a0651a08beeee194540/expr.png\" style=\"display:inline;vertical-align:middle;\" /></a></td></tr>\n",
       "<tr><td>28</td><td>Operation</td><td>operator:&nbsp;30<br>operands:&nbsp;31<br></td><td><a class=\"ProveItLink\" href=\"../ab0b2329fe7176cc284dc6fbee28643e41dd6d3c0/expr.ipynb\"><img src=\"../ab0b2329fe7176cc284dc6fbee28643e41dd6d3c0/expr.png\" style=\"display:inline;vertical-align:middle;\" /></a></td></tr>\n",
       "<tr><td>29</td><td>Lambda</td><td>parameter:&nbsp;48<br>body:&nbsp;32<br></td><td><a class=\"ProveItLink\" href=\"../4e0d4360347efec14b96930888d76beca0ecc0410/expr.ipynb\"><img src=\"../4e0d4360347efec14b96930888d76beca0ecc0410/expr.png\" style=\"display:inline;vertical-align:middle;\" /></a></td></tr>\n",
       "<tr><td>30</td><td>Literal</td><td></td><td><a class=\"ProveItLink\" href=\"../../../../../equality/__pv_it/common/731dd3955b346c1320ed5c0ba7a618bcda61457d0/expr.ipynb\"><img src=\"../../../../../equality/__pv_it/common/731dd3955b346c1320ed5c0ba7a618bcda61457d0/expr.png\" style=\"display:inline;vertical-align:middle;\" /></a></td></tr>\n",
       "<tr><td>31</td><td>ExprTuple</td><td>33, 34</td><td><a class=\"ProveItLink\" href=\"../973895bdcb4a6706ff32d70cc5005a40cce065770/expr.ipynb\"><img src=\"../973895bdcb4a6706ff32d70cc5005a40cce065770/expr.png\" style=\"display:inline;vertical-align:middle;\" /></a></td></tr>\n",
       "<tr><td>32</td><td>Operation</td><td>operator:&nbsp;35<br>operands:&nbsp;36<br></td><td><a class=\"ProveItLink\" href=\"../dcaeecc6ab50e4287edeb4e52b4cb90142402e670/expr.ipynb\"><img src=\"../dcaeecc6ab50e4287edeb4e52b4cb90142402e670/expr.png\" style=\"display:inline;vertical-align:middle;\" /></a></td></tr>\n",
       "<tr><td>33</td><td>Operation</td><td>operator:&nbsp;37<br>operand:&nbsp;40<br></td><td><a class=\"ProveItLink\" href=\"../5599efcd51244c15e9d03cc13023e2531c1fd5c90/expr.ipynb\"><img src=\"../5599efcd51244c15e9d03cc13023e2531c1fd5c90/expr.png\" style=\"display:inline;vertical-align:middle;\" /></a></td></tr>\n",
       "<tr><td>34</td><td>Variable</td><td></td><td><a class=\"ProveItLink\" href=\"../../../../../../__pv_it/common/c401de8fd84b016d9ef2a311a2de841ba60c23a50/expr.ipynb\"><img src=\"../../../../../../__pv_it/common/c401de8fd84b016d9ef2a311a2de841ba60c23a50/expr.png\" style=\"display:inline;vertical-align:middle;\" /></a></td></tr>\n",
       "<tr><td>35</td><td>Literal</td><td></td><td><a class=\"ProveItLink\" href=\"../../../../membership/__pv_it/common/7171deca84f71f47a6ec7696972d1632274a12880/expr.ipynb\"><img src=\"../../../../membership/__pv_it/common/7171deca84f71f47a6ec7696972d1632274a12880/expr.png\" style=\"display:inline;vertical-align:middle;\" /></a></td></tr>\n",
       "<tr><td>36</td><td>ExprTuple</td><td>45, 39</td><td><a class=\"ProveItLink\" href=\"../d5b9a527872abbe7095fe6b41851d67917c6b38b0/expr.ipynb\"><img src=\"../d5b9a527872abbe7095fe6b41851d67917c6b38b0/expr.png\" style=\"display:inline;vertical-align:middle;\" /></a></td></tr>\n",
       "<tr><td>37</td><td>Literal</td><td></td><td><a class=\"ProveItLink\" href=\"../../../../../../core_expr_types/tuples/__pv_it/common/29138a46bfd9f58652485fe2e3b1ee46d90d773e0/expr.ipynb\"><img src=\"../../../../../../core_expr_types/tuples/__pv_it/common/29138a46bfd9f58652485fe2e3b1ee46d90d773e0/expr.png\" style=\"display:inline;vertical-align:middle;\" /></a></td></tr>\n",
       "<tr><td>38</td><td>ExprTuple</td><td>40</td><td><a class=\"ProveItLink\" href=\"../18fa293a06a803ae3790f35208581880bfd6351d0/expr.ipynb\"><img src=\"../18fa293a06a803ae3790f35208581880bfd6351d0/expr.png\" style=\"display:inline;vertical-align:middle;\" /></a></td></tr>\n",
       "<tr><td>39</td><td>Variable</td><td></td><td><a class=\"ProveItLink\" href=\"../../../../../../__pv_it/common/259d0846cd49c4882c35ec84d7a0b180713721cc0/expr.ipynb\"><img src=\"../../../../../../__pv_it/common/259d0846cd49c4882c35ec84d7a0b180713721cc0/expr.png\" style=\"display:inline;vertical-align:middle;\" /></a></td></tr>\n",
       "<tr><td>40</td><td>ExprTuple</td><td>41</td><td><a class=\"ProveItLink\" href=\"../68879e82f57b50f8b10ac886a15df49e26599dca0/expr.ipynb\"><img src=\"../68879e82f57b50f8b10ac886a15df49e26599dca0/expr.png\" style=\"display:inline;vertical-align:middle;\" /></a></td></tr>\n",
       "<tr><td>41</td><td>ExprRange</td><td>lambda_map:&nbsp;42<br>start_index:&nbsp;43<br>end_index:&nbsp;44<br></td><td><a class=\"ProveItLink\" href=\"../../../../../../core_expr_types/__pv_it/common/787727f81f9180661d3864875ecab8ab340921c50/expr.ipynb\"><img src=\"../../../../../../core_expr_types/__pv_it/common/787727f81f9180661d3864875ecab8ab340921c50/expr.png\" style=\"display:inline;vertical-align:middle;\" /></a></td></tr>\n",
       "<tr><td>42</td><td>Lambda</td><td>parameter:&nbsp;48<br>body:&nbsp;45<br></td><td><a class=\"ProveItLink\" href=\"../../../../../../core_expr_types/__pv_it/common/9f9da64a6f3f7f4d7d39593366f06c70046127720/expr.ipynb\"><img src=\"../../../../../../core_expr_types/__pv_it/common/9f9da64a6f3f7f4d7d39593366f06c70046127720/expr.png\" style=\"display:inline;vertical-align:middle;\" /></a></td></tr>\n",
       "<tr><td>43</td><td>Literal</td><td></td><td><a class=\"ProveItLink\" href=\"../../../../../../numbers/numerals/__pv_it/common/d278e359da0695d9652dd541d45264f93703e2e40/expr.ipynb\"><img src=\"../../../../../../numbers/numerals/__pv_it/common/d278e359da0695d9652dd541d45264f93703e2e40/expr.png\" style=\"display:inline;vertical-align:middle;\" /></a></td></tr>\n",
       "<tr><td>44</td><td>Variable</td><td></td><td><a class=\"ProveItLink\" href=\"../../../../../../__pv_it/common/6165c9bb82ce3c7097cdba4440a1aeeb6eaca8a40/expr.ipynb\"><img src=\"../../../../../../__pv_it/common/6165c9bb82ce3c7097cdba4440a1aeeb6eaca8a40/expr.png\" style=\"display:inline;vertical-align:middle;\" /></a></td></tr>\n",
       "<tr><td>45</td><td>IndexedVar</td><td>variable:&nbsp;46<br>index:&nbsp;48<br></td><td><a class=\"ProveItLink\" href=\"../../../../../../core_expr_types/__pv_it/common/2b235eefbcbf7d9287528d44110903b9cfed0a2a0/expr.ipynb\"><img src=\"../../../../../../core_expr_types/__pv_it/common/2b235eefbcbf7d9287528d44110903b9cfed0a2a0/expr.png\" style=\"display:inline;vertical-align:middle;\" /></a></td></tr>\n",
       "<tr><td>46</td><td>Variable</td><td></td><td><a class=\"ProveItLink\" href=\"../../../../../../__pv_it/common/a2581dc5df71d9a30bad37de14965fa5fec97a240/expr.ipynb\"><img src=\"../../../../../../__pv_it/common/a2581dc5df71d9a30bad37de14965fa5fec97a240/expr.png\" style=\"display:inline;vertical-align:middle;\" /></a></td></tr>\n",
       "<tr><td>47</td><td>ExprTuple</td><td>48</td><td><a class=\"ProveItLink\" href=\"../../../../../../core_expr_types/__pv_it/common/ecf50ade416ab41c42c9f4e777b4c862cd9469670/expr.ipynb\"><img src=\"../../../../../../core_expr_types/__pv_it/common/ecf50ade416ab41c42c9f4e777b4c862cd9469670/expr.png\" style=\"display:inline;vertical-align:middle;\" /></a></td></tr>\n",
       "<tr><td>48</td><td>Variable</td><td></td><td><a class=\"ProveItLink\" href=\"../../../../../../core_expr_types/__pv_it/common/9e6d9d5d7eeb0342cf5bca68def0eb165a1a9bb10/expr.ipynb\"><img src=\"../../../../../../core_expr_types/__pv_it/common/9e6d9d5d7eeb0342cf5bca68def0eb165a1a9bb10/expr.png\" style=\"display:inline;vertical-align:middle;\" /></a></td></tr>\n",
       "</table>\n"
      ],
      "text/plain": [
       "0. n -> {forall_{S, N | |S| >= N} [exists_{x_{1}, ..x_{_a}.., x_{n} in S | |(x_{1}, ..x_{_a}.., x_{n})| = N} distinct(x_{1}, ..x_{_a}.., x_{n})] if n in NaturalPos.\n",
       "   core type: Lambda\n",
       "   parameter: 44\n",
       "   body: 1\n",
       "1. {forall_{S, N | |S| >= N} [exists_{x_{1}, ..x_{_a}.., x_{n} in S | |(x_{1}, ..x_{_a}.., x_{n})| = N} distinct(x_{1}, ..x_{_a}.., x_{n})] if n in NaturalPos.\n",
       "   core type: Conditional\n",
       "   value: 2\n",
       "   condition: 3\n",
       "2. forall_{S, N | |S| >= N} [exists_{x_{1}, ..x_{_a}.., x_{n} in S | |(x_{1}, ..x_{_a}.., x_{n})| = N} distinct(x_{1}, ..x_{_a}.., x_{n})]\n",
       "   core type: Operation\n",
       "   operator: 4\n",
       "   operand: 7\n",
       "3. n in NaturalPos\n",
       "   core type: Operation\n",
       "   operator: 35\n",
       "   operands: 6\n",
       "4. forall\n",
       "   core type: Literal\n",
       "   sub-expressions: \n",
       "5. ((S, N) -> {exists_{x_{1}, ..x_{_a}.., x_{n} in S | |(x_{1}, ..x_{_a}.., x_{n})| = N} distinct(x_{1}, ..x_{_a}.., x_{n}) if |S| >= N.)\n",
       "   core type: ExprTuple\n",
       "   sub-expressions: 7\n",
       "6. (n, NaturalPos)\n",
       "   core type: ExprTuple\n",
       "   sub-expressions: 44, 8\n",
       "7. (S, N) -> {exists_{x_{1}, ..x_{_a}.., x_{n} in S | |(x_{1}, ..x_{_a}.., x_{n})| = N} distinct(x_{1}, ..x_{_a}.., x_{n}) if |S| >= N.\n",
       "   core type: Lambda\n",
       "   parameters: 9\\n   body: 10\n",
       "8. NaturalPos\n",
       "   core type: Literal\n",
       "   sub-expressions: \n",
       "9. (S, N)\n",
       "   core type: ExprTuple\n",
       "   sub-expressions: 39, 34\n",
       "10. {exists_{x_{1}, ..x_{_a}.., x_{n} in S | |(x_{1}, ..x_{_a}.., x_{n})| = N} distinct(x_{1}, ..x_{_a}.., x_{n}) if |S| >= N.\n",
       "    core type: Conditional\n",
       "    value: 11\n",
       "    condition: 12\n",
       "11. exists_{x_{1}, ..x_{_a}.., x_{n} in S | |(x_{1}, ..x_{_a}.., x_{n})| = N} distinct(x_{1}, ..x_{_a}.., x_{n})\n",
       "    core type: Operation\n",
       "    operator: 13\n",
       "    operand: 17\n",
       "12. |S| >= N\n",
       "    core type: Operation\n",
       "    operator: 15\n",
       "    operands: 16\n",
       "13. exists\n",
       "    core type: Literal\n",
       "    sub-expressions: \n",
       "14. ((x_{1}, ..x_{_a}.., x_{n}) -> {distinct(x_{1}, ..x_{_a}.., x_{n}) if x_{1} in S ,  ..x_{_a} in S.. ,  x_{n} in S ,  |(x_{1}, ..x_{_a}.., x_{n})| = N.)\n",
       "    core type: ExprTuple\n",
       "    sub-expressions: 17\n",
       "15. <=\n",
       "    core type: Literal\n",
       "    sub-expressions: \n",
       "16. (N, |S|)\n",
       "    core type: ExprTuple\n",
       "    sub-expressions: 34, 18\n",
       "17. (x_{1}, ..x_{_a}.., x_{n}) -> {distinct(x_{1}, ..x_{_a}.., x_{n}) if x_{1} in S ,  ..x_{_a} in S.. ,  x_{n} in S ,  |(x_{1}, ..x_{_a}.., x_{n})| = N.\n",
       "    core type: Lambda\n",
       "    parameters: 40\\n    body: 19\n",
       "18. |S|\n",
       "    core type: Operation\n",
       "    operator: 20\n",
       "    operand: 39\n",
       "19. {distinct(x_{1}, ..x_{_a}.., x_{n}) if x_{1} in S ,  ..x_{_a} in S.. ,  x_{n} in S ,  |(x_{1}, ..x_{_a}.., x_{n})| = N.\n",
       "    core type: Conditional\n",
       "    value: 22\n",
       "    condition: 23\n",
       "20. card\n",
       "    core type: Literal\n",
       "    sub-expressions: \n",
       "21. (S)\n",
       "    core type: ExprTuple\n",
       "    sub-expressions: 39\n",
       "22. distinct(x_{1}, ..x_{_a}.., x_{n})\n",
       "    core type: Operation\n",
       "    operator: 24\n",
       "    operands: 40\n",
       "23. (x_{1} in S) and ..(x_{_a} in S).. and (x_{n} in S) and (|(x_{1}, ..x_{_a}.., x_{n})| = N)\n",
       "    core type: Operation\n",
       "    operator: 25\n",
       "    operands: 26\n",
       "24. distinct\n",
       "    core type: Literal\n",
       "    sub-expressions: \n",
       "25. and\n",
       "    core type: Literal\n",
       "    sub-expressions: \n",
       "26. (x_{1} in S, ..x_{_a} in S.., x_{n} in S, |(x_{1}, ..x_{_a}.., x_{n})| = N)\n",
       "    core type: ExprTuple\n",
       "    sub-expressions: 27, 28\n",
       "27. (x_{1} in S), ..(x_{_a} in S).., (x_{n} in S)\n",
       "    core type: ExprRange\n",
       "    lambda_map: 29\n",
       "    start_index: 43\n",
       "    end_index: 44\n",
       "28. |(x_{1}, ..x_{_a}.., x_{n})| = N\n",
       "    core type: Operation\n",
       "    operator: 30\n",
       "    operands: 31\n",
       "29. _a -> (x_{_a} in S)\n",
       "    core type: Lambda\n",
       "    parameter: 48\n",
       "    body: 32\n",
       "30. =\n",
       "    core type: Literal\n",
       "    sub-expressions: \n",
       "31. (|(x_{1}, ..x_{_a}.., x_{n})|, N)\n",
       "    core type: ExprTuple\n",
       "    sub-expressions: 33, 34\n",
       "32. x_{_a} in S\n",
       "    core type: Operation\n",
       "    operator: 35\n",
       "    operands: 36\n",
       "33. |(x_{1}, ..x_{_a}.., x_{n})|\n",
       "    core type: Operation\n",
       "    operator: 37\n",
       "    operand: 40\n",
       "34. N\n",
       "    core type: Variable\n",
       "    sub-expressions: \n",
       "35. in\n",
       "    core type: Literal\n",
       "    sub-expressions: \n",
       "36. (x_{_a}, S)\n",
       "    core type: ExprTuple\n",
       "    sub-expressions: 45, 39\n",
       "37. length\n",
       "    core type: Literal\n",
       "    sub-expressions: \n",
       "38. ((x_{1}, ..x_{_a}.., x_{n}))\n",
       "    core type: ExprTuple\n",
       "    sub-expressions: 40\n",
       "39. S\n",
       "    core type: Variable\n",
       "    sub-expressions: \n",
       "40. (x_{1}, ..x_{_a}.., x_{n})\n",
       "    core type: ExprTuple\n",
       "    sub-expressions: 41\n",
       "41. x_{1}, ..x_{_a}.., x_{n}\n",
       "    core type: ExprRange\n",
       "    lambda_map: 42\n",
       "    start_index: 43\n",
       "    end_index: 44\n",
       "42. _a -> x_{_a}\n",
       "    core type: Lambda\n",
       "    parameter: 48\n",
       "    body: 45\n",
       "43. 1\n",
       "    core type: Literal\n",
       "    sub-expressions: \n",
       "44. n\n",
       "    core type: Variable\n",
       "    sub-expressions: \n",
       "45. x_{_a}\n",
       "    core type: IndexedVar\n",
       "variable: 46\n",
       "index: 48\n",
       "46. x\n",
       "    core type: Variable\n",
       "    sub-expressions: \n",
       "47. (_a)\n",
       "    core type: ExprTuple\n",
       "    sub-expressions: 48\n",
       "48. _a\n",
       "    core type: Variable\n",
       "    sub-expressions: "
      ]
     },
     "execution_count": 6,
     "metadata": {},
     "output_type": "execute_result"
    }
   ],
   "source": [
    "# display the expression information\n",
    "expr.expr_info()"
   ]
  },
  {
   "cell_type": "code",
   "execution_count": null,
   "metadata": {},
   "outputs": [],
   "source": []
  }
 ],
 "metadata": {
  "kernelspec": {
   "display_name": "Python 3",
   "language": "python",
   "name": "python3"
  }
 },
 "nbformat": 4,
 "nbformat_minor": 0
}