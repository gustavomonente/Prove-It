{
 "cells": [
  {
   "cell_type": "markdown",
   "metadata": {},
   "source": [
    "Expression of type <a class=\"ProveItLink\" href=\"../../../../../../../../doc/html/api/proveit.Lambda.html\">Lambda</a>\n",
    "=======================\n",
    "# from the theory of <a class=\"ProveItLink\" href=\"../../../_theory_nbs_/theory.ipynb\">proveit.logic.sets.cardinality</a>"
   ]
  },
  {
   "cell_type": "code",
   "execution_count": 1,
   "metadata": {},
   "outputs": [],
   "source": [
    "import proveit\n",
    "# Automation is not needed when building an expression:\n",
    "proveit.defaults.automation = False # This will speed things up.\n",
    "proveit.defaults.inline_pngs = False # Makes files smaller.\n",
    "%load_expr # Load the stored expression as 'stored_expr'\n",
    "# import Expression classes needed to build the expression\n",
    "from proveit import Conditional, Lambda, S, a, b\n",
    "from proveit.logic import Card, Exists, NotEquals\n",
    "from proveit.numbers import GreaterEq, two"
   ]
  },
  {
   "cell_type": "code",
   "execution_count": 2,
   "metadata": {},
   "outputs": [
    {
     "data": {
      "text/html": [
       "<strong id=\"expr\">expr:</strong> <a class=\"ProveItLink\" href=\"expr.ipynb\"><img src=\"expr.png\" style=\"display:inline;vertical-align:middle;\" /></a><br>"
      ],
      "text/plain": [
       "expr: S -> {exists_{a, b in S} (a != b) if |S| >= 2."
      ]
     },
     "execution_count": 2,
     "metadata": {},
     "output_type": "execute_result"
    }
   ],
   "source": [
    "# build up the expression from sub-expressions\n",
    "expr = Lambda(S, Conditional(Exists([a, b], NotEquals(a, b), domains = [S, S]), GreaterEq(Card(S), two)))"
   ]
  },
  {
   "cell_type": "code",
   "execution_count": 3,
   "metadata": {},
   "outputs": [
    {
     "name": "stdout",
     "output_type": "stream",
     "text": [
      "Passed sanity check: expr matches stored_expr\n"
     ]
    }
   ],
   "source": [
    "# check that the built expression is the same as the stored expression\n",
    "assert expr == stored_expr\n",
    "assert expr._style_id == stored_expr._style_id\n",
    "print(\"Passed sanity check: expr matches stored_expr\")"
   ]
  },
  {
   "cell_type": "code",
   "execution_count": 4,
   "metadata": {},
   "outputs": [
    {
     "name": "stdout",
     "output_type": "stream",
     "text": [
      "S \\mapsto \\left\\{\\exists_{a, b \\in S}~\\left(a \\neq b\\right) \\textrm{ if } |S| \\geq 2\\right..\n"
     ]
    }
   ],
   "source": [
    "# Show the LaTeX representation of the expression for convenience if you need it.\n",
    "print(expr.latex())"
   ]
  },
  {
   "cell_type": "code",
   "execution_count": 5,
   "metadata": {},
   "outputs": [
    {
     "data": {
      "text/html": [
       "<table><tr><th>&nbsp;</th><th>core type</th><th>sub-expressions</th><th>expression</th></tr>\n",
       "<tr><td>0</td><td>Lambda</td><td>parameter:&nbsp;25<br>body:&nbsp;1<br></td><td><a class=\"ProveItLink\" href=\"expr.ipynb\"><img src=\"expr.png\" style=\"display:inline;vertical-align:middle;\" /></a></td></tr>\n",
       "<tr><td>1</td><td>Conditional</td><td>value:&nbsp;2<br>condition:&nbsp;3<br></td><td><a class=\"ProveItLink\" href=\"../0915d2957c81d3c58feb813ab11bc4bacc9bf1610/expr.ipynb\"><img src=\"../0915d2957c81d3c58feb813ab11bc4bacc9bf1610/expr.png\" style=\"display:inline;vertical-align:middle;\" /></a></td></tr>\n",
       "<tr><td>2</td><td>Operation</td><td>operator:&nbsp;4<br>operand:&nbsp;5<br></td><td><a class=\"ProveItLink\" href=\"../84c09ee10a18a002b16d0484d3ebd712519d806c0/expr.ipynb\"><img src=\"../84c09ee10a18a002b16d0484d3ebd712519d806c0/expr.png\" style=\"display:inline;vertical-align:middle;\" /></a></td></tr>\n",
       "<tr><td>3</td><td>Operation</td><td>operator:&nbsp;6<br>operands:&nbsp;7<br></td><td><a class=\"ProveItLink\" href=\"../2deab5300adad9a0666101d8e0cc038988c5a7520/expr.ipynb\"><img src=\"../2deab5300adad9a0666101d8e0cc038988c5a7520/expr.png\" style=\"display:inline;vertical-align:middle;\" /></a></td></tr>\n",
       "<tr><td>4</td><td>Literal</td><td></td><td><a class=\"ProveItLink\" href=\"../../../../../booleans/quantification/existence/__pv_it/common/fedc3809ed9823aab11264c156786a59540352e70/expr.ipynb\"><img src=\"../../../../../booleans/quantification/existence/__pv_it/common/fedc3809ed9823aab11264c156786a59540352e70/expr.png\" style=\"display:inline;vertical-align:middle;\" /></a></td></tr>\n",
       "<tr><td>5</td><td>Lambda</td><td>parameters:&nbsp;15<br>body:&nbsp;8<br></td><td><a class=\"ProveItLink\" href=\"../9fdf30df228e59dab547335cf10ab0649fc46e500/expr.ipynb\"><img src=\"../9fdf30df228e59dab547335cf10ab0649fc46e500/expr.png\" style=\"display:inline;vertical-align:middle;\" /></a></td></tr>\n",
       "<tr><td>6</td><td>Literal</td><td></td><td><a class=\"ProveItLink\" href=\"../../../../../../numbers/ordering/__pv_it/common/56e138890b2b12c3a40604810660982a612f33050/expr.ipynb\"><img src=\"../../../../../../numbers/ordering/__pv_it/common/56e138890b2b12c3a40604810660982a612f33050/expr.png\" style=\"display:inline;vertical-align:middle;\" /></a></td></tr>\n",
       "<tr><td>7</td><td>ExprTuple</td><td>9, 10</td><td><a class=\"ProveItLink\" href=\"../c953dfc57d73f1a050706b9b7d39b04e780ece080/expr.ipynb\"><img src=\"../c953dfc57d73f1a050706b9b7d39b04e780ece080/expr.png\" style=\"display:inline;vertical-align:middle;\" /></a></td></tr>\n",
       "<tr><td>8</td><td>Conditional</td><td>value:&nbsp;11<br>condition:&nbsp;12<br></td><td><a class=\"ProveItLink\" href=\"../d3da02075e61d01a6051d4232996475efd892e630/expr.ipynb\"><img src=\"../d3da02075e61d01a6051d4232996475efd892e630/expr.png\" style=\"display:inline;vertical-align:middle;\" /></a></td></tr>\n",
       "<tr><td>9</td><td>Operation</td><td>operator:&nbsp;13<br>operand:&nbsp;25<br></td><td><a class=\"ProveItLink\" href=\"../f49578d0b38882278e06509a26d0e9f293c5e6b00/expr.ipynb\"><img src=\"../f49578d0b38882278e06509a26d0e9f293c5e6b00/expr.png\" style=\"display:inline;vertical-align:middle;\" /></a></td></tr>\n",
       "<tr><td>10</td><td>Literal</td><td></td><td><a class=\"ProveItLink\" href=\"../../../../../../numbers/numerals/__pv_it/common/ba3b059982e8b49413dc653e957beb11e974e4bc0/expr.ipynb\"><img src=\"../../../../../../numbers/numerals/__pv_it/common/ba3b059982e8b49413dc653e957beb11e974e4bc0/expr.png\" style=\"display:inline;vertical-align:middle;\" /></a></td></tr>\n",
       "<tr><td>11</td><td>Operation</td><td>operator:&nbsp;14<br>operands:&nbsp;15<br></td><td><a class=\"ProveItLink\" href=\"../be47b9297fa278e9be961afdaf14bc85859cfc960/expr.ipynb\"><img src=\"../be47b9297fa278e9be961afdaf14bc85859cfc960/expr.png\" style=\"display:inline;vertical-align:middle;\" /></a></td></tr>\n",
       "<tr><td>12</td><td>Operation</td><td>operator:&nbsp;16<br>operands:&nbsp;17<br></td><td><a class=\"ProveItLink\" href=\"../5eddc1a8d40829728c2428be0db217c51bd7b5fb0/expr.ipynb\"><img src=\"../5eddc1a8d40829728c2428be0db217c51bd7b5fb0/expr.png\" style=\"display:inline;vertical-align:middle;\" /></a></td></tr>\n",
       "<tr><td>13</td><td>Literal</td><td></td><td><a class=\"ProveItLink\" href=\"../../common/37cc8d68272d88ace1dbf77a85e417fe7e7954e60/expr.ipynb\"><img src=\"../../common/37cc8d68272d88ace1dbf77a85e417fe7e7954e60/expr.png\" style=\"display:inline;vertical-align:middle;\" /></a></td></tr>\n",
       "<tr><td>14</td><td>Literal</td><td></td><td><a class=\"ProveItLink\" href=\"../../../../../equality/__pv_it/common/d96270bc9bb1bad54f773b1c04bfb343a739642c0/expr.ipynb\"><img src=\"../../../../../equality/__pv_it/common/d96270bc9bb1bad54f773b1c04bfb343a739642c0/expr.png\" style=\"display:inline;vertical-align:middle;\" /></a></td></tr>\n",
       "<tr><td>15</td><td>ExprTuple</td><td>23, 24</td><td><a class=\"ProveItLink\" href=\"../0e00cf301f391b9db3f5ff72911e8e2539c94fb00/expr.ipynb\"><img src=\"../0e00cf301f391b9db3f5ff72911e8e2539c94fb00/expr.png\" style=\"display:inline;vertical-align:middle;\" /></a></td></tr>\n",
       "<tr><td>16</td><td>Literal</td><td></td><td><a class=\"ProveItLink\" href=\"../../../../../booleans/conjunction/__pv_it/common/42118ff318bd65d98b1393f64ce7c2269feef76e0/expr.ipynb\"><img src=\"../../../../../booleans/conjunction/__pv_it/common/42118ff318bd65d98b1393f64ce7c2269feef76e0/expr.png\" style=\"display:inline;vertical-align:middle;\" /></a></td></tr>\n",
       "<tr><td>17</td><td>ExprTuple</td><td>18, 19</td><td><a class=\"ProveItLink\" href=\"../93be43197039dae67ed296a491cda6f9fcb81a060/expr.ipynb\"><img src=\"../93be43197039dae67ed296a491cda6f9fcb81a060/expr.png\" style=\"display:inline;vertical-align:middle;\" /></a></td></tr>\n",
       "<tr><td>18</td><td>Operation</td><td>operator:&nbsp;21<br>operands:&nbsp;20<br></td><td><a class=\"ProveItLink\" href=\"../d9a1bfabe24e5d3e734396d917e52b0de967f3740/expr.ipynb\"><img src=\"../d9a1bfabe24e5d3e734396d917e52b0de967f3740/expr.png\" style=\"display:inline;vertical-align:middle;\" /></a></td></tr>\n",
       "<tr><td>19</td><td>Operation</td><td>operator:&nbsp;21<br>operands:&nbsp;22<br></td><td><a class=\"ProveItLink\" href=\"../6f4f3d71589bedf9cf07b1db3527a5863614e77a0/expr.ipynb\"><img src=\"../6f4f3d71589bedf9cf07b1db3527a5863614e77a0/expr.png\" style=\"display:inline;vertical-align:middle;\" /></a></td></tr>\n",
       "<tr><td>20</td><td>ExprTuple</td><td>23, 25</td><td><a class=\"ProveItLink\" href=\"../2c0e8e90c56bd7b782ea835c4786b5e0b8b357580/expr.ipynb\"><img src=\"../2c0e8e90c56bd7b782ea835c4786b5e0b8b357580/expr.png\" style=\"display:inline;vertical-align:middle;\" /></a></td></tr>\n",
       "<tr><td>21</td><td>Literal</td><td></td><td><a class=\"ProveItLink\" href=\"../../../../membership/__pv_it/common/477487d8796864d23d5810f83761435f25167f690/expr.ipynb\"><img src=\"../../../../membership/__pv_it/common/477487d8796864d23d5810f83761435f25167f690/expr.png\" style=\"display:inline;vertical-align:middle;\" /></a></td></tr>\n",
       "<tr><td>22</td><td>ExprTuple</td><td>24, 25</td><td><a class=\"ProveItLink\" href=\"../075666f4aba7d286fbabd7cae500ed3db14cf3c60/expr.ipynb\"><img src=\"../075666f4aba7d286fbabd7cae500ed3db14cf3c60/expr.png\" style=\"display:inline;vertical-align:middle;\" /></a></td></tr>\n",
       "<tr><td>23</td><td>Variable</td><td></td><td><a class=\"ProveItLink\" href=\"../../../../../../__pv_it/common/c06c606ec12678c58933ac85412ecadc2ae28be60/expr.ipynb\"><img src=\"../../../../../../__pv_it/common/c06c606ec12678c58933ac85412ecadc2ae28be60/expr.png\" style=\"display:inline;vertical-align:middle;\" /></a></td></tr>\n",
       "<tr><td>24</td><td>Variable</td><td></td><td><a class=\"ProveItLink\" href=\"../../../../../../__pv_it/common/195236b98c6c564a75b5dbada74b173bc52d5c3e0/expr.ipynb\"><img src=\"../../../../../../__pv_it/common/195236b98c6c564a75b5dbada74b173bc52d5c3e0/expr.png\" style=\"display:inline;vertical-align:middle;\" /></a></td></tr>\n",
       "<tr><td>25</td><td>Variable</td><td></td><td><a class=\"ProveItLink\" href=\"../../../../../../__pv_it/common/38f47c5670ea8c5b56253448e95d8afb56bc09b40/expr.ipynb\"><img src=\"../../../../../../__pv_it/common/38f47c5670ea8c5b56253448e95d8afb56bc09b40/expr.png\" style=\"display:inline;vertical-align:middle;\" /></a></td></tr>\n",
       "</table>\n"
      ],
      "text/plain": [
       "0. S -> {exists_{a, b in S} (a != b) if |S| >= 2.\n",
       "   core type: Lambda\n",
       "   parameter: 25\n",
       "   body: 1\n",
       "1. {exists_{a, b in S} (a != b) if |S| >= 2.\n",
       "   core type: Conditional\n",
       "   value: 2\n",
       "   condition: 3\n",
       "2. exists_{a, b in S} (a != b)\n",
       "   core type: Operation\n",
       "   operator: 4\n",
       "   operand: 5\n",
       "3. |S| >= 2\n",
       "   core type: Operation\n",
       "   operator: 6\n",
       "   operands: 7\n",
       "4. exists\n",
       "   core type: Literal\n",
       "   sub-expressions: \n",
       "5. (a, b) -> {a != b if a in S ,  b in S.\n",
       "   core type: Lambda\n",
       "   parameters: 15\\n   body: 8\n",
       "6. >=\n",
       "   core type: Literal\n",
       "   sub-expressions: \n",
       "7. (|S|, 2)\n",
       "   core type: ExprTuple\n",
       "   sub-expressions: 9, 10\n",
       "8. {a != b if a in S ,  b in S.\n",
       "   core type: Conditional\n",
       "   value: 11\n",
       "   condition: 12\n",
       "9. |S|\n",
       "   core type: Operation\n",
       "   operator: 13\n",
       "   operand: 25\n",
       "10. 2\n",
       "    core type: Literal\n",
       "    sub-expressions: \n",
       "11. a != b\n",
       "    core type: Operation\n",
       "    operator: 14\n",
       "    operands: 15\n",
       "12. (a in S) and (b in S)\n",
       "    core type: Operation\n",
       "    operator: 16\n",
       "    operands: 17\n",
       "13. card\n",
       "    core type: Literal\n",
       "    sub-expressions: \n",
       "14. !=\n",
       "    core type: Literal\n",
       "    sub-expressions: \n",
       "15. (a, b)\n",
       "    core type: ExprTuple\n",
       "    sub-expressions: 23, 24\n",
       "16. and\n",
       "    core type: Literal\n",
       "    sub-expressions: \n",
       "17. (a in S, b in S)\n",
       "    core type: ExprTuple\n",
       "    sub-expressions: 18, 19\n",
       "18. a in S\n",
       "    core type: Operation\n",
       "    operator: 21\n",
       "    operands: 20\n",
       "19. b in S\n",
       "    core type: Operation\n",
       "    operator: 21\n",
       "    operands: 22\n",
       "20. (a, S)\n",
       "    core type: ExprTuple\n",
       "    sub-expressions: 23, 25\n",
       "21. in\n",
       "    core type: Literal\n",
       "    sub-expressions: \n",
       "22. (b, S)\n",
       "    core type: ExprTuple\n",
       "    sub-expressions: 24, 25\n",
       "23. a\n",
       "    core type: Variable\n",
       "    sub-expressions: \n",
       "24. b\n",
       "    core type: Variable\n",
       "    sub-expressions: \n",
       "25. S\n",
       "    core type: Variable\n",
       "    sub-expressions: "
      ]
     },
     "execution_count": 5,
     "metadata": {},
     "output_type": "execute_result"
    }
   ],
   "source": [
    "# display the expression information\n",
    "expr.expr_info()"
   ]
  },
  {
   "cell_type": "code",
   "execution_count": null,
   "metadata": {},
   "outputs": [],
   "source": []
  }
 ],
 "metadata": {
  "kernelspec": {
   "display_name": "Python 3",
   "language": "python",
   "name": "python3"
  }
 },
 "nbformat": 4,
 "nbformat_minor": 0
}