{
 "cells": [
  {
   "cell_type": "markdown",
   "metadata": {},
   "source": [
    "Show the Proof\n",
    "========"
   ]
  },
  {
   "cell_type": "code",
   "execution_count": 1,
   "metadata": {},
   "outputs": [
    {
     "data": {
      "text/html": [
       "<table><tr><th>&nbsp;</th><th>step type</th><th>requirements</th><th>statement</th></tr>\n",
       "<tr><td><a name=\"proveit.logic.sets._proof_intersection_subset_eq_union.30cbe7c327ddbcaf64862ba588d0c05108de6ae60_step0\">0</a></td><td>instantiation</td><td><a href=\"#proveit.logic.sets._proof_intersection_subset_eq_union.30cbe7c327ddbcaf64862ba588d0c05108de6ae60_step1\">1</a>, <a href=\"#proveit.logic.sets._proof_intersection_subset_eq_union.30cbe7c327ddbcaf64862ba588d0c05108de6ae60_step2\">2</a>, <a href=\"#proveit.logic.sets._proof_intersection_subset_eq_union.30cbe7c327ddbcaf64862ba588d0c05108de6ae60_step3\">3</a></td><td><span style=\"font-size:20px;\"><a class=\"ProveItLink\" href=\"../9f1dfe37b723352b64adac7bff078e755c18d9d90/expr.ipynb\"><img src=\"../9f1dfe37b723352b64adac7bff078e755c18d9d90/expr.png\" style=\"display:inline;vertical-align:middle;\" /></a> <a class=\"ProveItLink\" href=\"proof.ipynb\" style=\"text-decoration: none\">&nbsp;&#x22A2;&nbsp;&nbsp;</a><a class=\"ProveItLink\" href=\"../b17ac0fa40911835b142a0251838a8473c6c54150/expr.ipynb\"><img src=\"../b17ac0fa40911835b142a0251838a8473c6c54150/expr.png\" style=\"display:inline;vertical-align:middle;\" /></a></span></td></tr>\n",
       "<tr><td>&nbsp;</td><td colspan=4 style=\"text-align:left\"><span style=\"font-size:20px;\"><a class=\"ProveItLink\" href=\"../../../../../__pv_it/common/d5fc3066299847984076662ce51556220bdb6cfb0/expr.ipynb\"><img src=\"../../../../../__pv_it/common/d5fc3066299847984076662ce51556220bdb6cfb0/expr.png\" style=\"display:inline;vertical-align:middle;\" /></a> : <a class=\"ProveItLink\" href=\"../9f1dfe37b723352b64adac7bff078e755c18d9d90/expr.ipynb\"><img src=\"../9f1dfe37b723352b64adac7bff078e755c18d9d90/expr.png\" style=\"display:inline;vertical-align:middle;\" /></a>, <a class=\"ProveItLink\" href=\"../../../../../__pv_it/common/50527aea954422d65ebe44b8de200683294751540/expr.ipynb\"><img src=\"../../../../../__pv_it/common/50527aea954422d65ebe44b8de200683294751540/expr.png\" style=\"display:inline;vertical-align:middle;\" /></a> : <a class=\"ProveItLink\" href=\"../b17ac0fa40911835b142a0251838a8473c6c54150/expr.ipynb\"><img src=\"../b17ac0fa40911835b142a0251838a8473c6c54150/expr.png\" style=\"display:inline;vertical-align:middle;\" /></a></span></td></tr><tr><td><a name=\"proveit.logic.sets._proof_intersection_subset_eq_union.30cbe7c327ddbcaf64862ba588d0c05108de6ae60_step1\">1</a></td><td>theorem</td><td></td><td><span style=\"font-size:20px;\"> <a class=\"ProveItLink\" href=\"../../../../equality/_theory_nbs_/proofs/rhs_via_equality/thm_proof.ipynb\" style=\"text-decoration: none\">&nbsp;&#x22A2;&nbsp;&nbsp;</a><a class=\"ProveItLink\" href=\"../../../../equality/__pv_it/theorems/05e66cbd347a7127d5119c3c454fa90d2e3f9bae0/expr.ipynb\"><img src=\"../../../../equality/__pv_it/theorems/05e66cbd347a7127d5119c3c454fa90d2e3f9bae0/expr.png\" style=\"display:inline;vertical-align:middle;\" /></a></span></td></tr>\n",
       "<tr><td>&nbsp;</td><td colspan=4 style-\"text-align:left\"><a class=\"ProveItLink\" href=\"../../../../equality/_theory_nbs_/proofs/rhs_via_equality/thm_proof.ipynb\">proveit.logic.equality.rhs_via_equality</a></td></tr><tr><td><a name=\"proveit.logic.sets._proof_intersection_subset_eq_union.30cbe7c327ddbcaf64862ba588d0c05108de6ae60_step2\">2</a></td><td>assumption</td><td></td><td><span style=\"font-size:20px;\"><a class=\"ProveItLink\" href=\"../9f1dfe37b723352b64adac7bff078e755c18d9d90/expr.ipynb\"><img src=\"../9f1dfe37b723352b64adac7bff078e755c18d9d90/expr.png\" style=\"display:inline;vertical-align:middle;\" /></a> <a class=\"ProveItLink\" href=\"../64ecd41294ff18f9d7d06aaa9a6b50e76cd3fe880/proof.ipynb\" style=\"text-decoration: none\">&nbsp;&#x22A2;&nbsp;&nbsp;</a><a class=\"ProveItLink\" href=\"../9f1dfe37b723352b64adac7bff078e755c18d9d90/expr.ipynb\"><img src=\"../9f1dfe37b723352b64adac7bff078e755c18d9d90/expr.png\" style=\"display:inline;vertical-align:middle;\" /></a></span></td></tr>\n",
       "<tr><td><a name=\"proveit.logic.sets._proof_intersection_subset_eq_union.30cbe7c327ddbcaf64862ba588d0c05108de6ae60_step3\">3</a></td><td>instantiation</td><td><a href=\"#proveit.logic.sets._proof_intersection_subset_eq_union.30cbe7c327ddbcaf64862ba588d0c05108de6ae60_step4\">4</a>, <a href=\"#proveit.logic.sets._proof_intersection_subset_eq_union.30cbe7c327ddbcaf64862ba588d0c05108de6ae60_step5\">5</a>, <a href=\"#proveit.logic.sets._proof_intersection_subset_eq_union.30cbe7c327ddbcaf64862ba588d0c05108de6ae60_step6\">6</a></td><td><span style=\"font-size:20px;\"> <a class=\"ProveItLink\" href=\"../15015a58a12137036a7db34e34b6508b35cd158d0/proof.ipynb\" style=\"text-decoration: none\">&nbsp;&#x22A2;&nbsp;&nbsp;</a><a class=\"ProveItLink\" href=\"../320e8b92fc9ed4229b5e7c03af6f8d2f63716b8e0/expr.ipynb\"><img src=\"../320e8b92fc9ed4229b5e7c03af6f8d2f63716b8e0/expr.png\" style=\"display:inline;vertical-align:middle;\" /></a></span></td></tr>\n",
       "<tr><td>&nbsp;</td><td colspan=4 style=\"text-align:left\"><span style=\"font-size:20px;\"><a class=\"ProveItLink\" href=\"../../../../../__pv_it/common/2dc4f15b3407a25e8d70754a86bf74f1871f92650/expr.ipynb\"><img src=\"../../../../../__pv_it/common/2dc4f15b3407a25e8d70754a86bf74f1871f92650/expr.png\" style=\"display:inline;vertical-align:middle;\" /></a> : <a class=\"ProveItLink\" href=\"../../../../../numbers/numerals/__pv_it/common/3829356ce3fdf8f35810c63c00bc1a19e838663e0/expr.ipynb\"><img src=\"../../../../../numbers/numerals/__pv_it/common/3829356ce3fdf8f35810c63c00bc1a19e838663e0/expr.png\" style=\"display:inline;vertical-align:middle;\" /></a>, <a class=\"ProveItLink\" href=\"../../../../../__pv_it/common/a2581dc5df71d9a30bad37de14965fa5fec97a240/expr.ipynb\"><img src=\"../../../../../__pv_it/common/a2581dc5df71d9a30bad37de14965fa5fec97a240/expr.png\" style=\"display:inline;vertical-align:middle;\" /></a> : <a class=\"ProveItLink\" href=\"../../../../../__pv_it/common/a2581dc5df71d9a30bad37de14965fa5fec97a240/expr.ipynb\"><img src=\"../../../../../__pv_it/common/a2581dc5df71d9a30bad37de14965fa5fec97a240/expr.png\" style=\"display:inline;vertical-align:middle;\" /></a>, <a class=\"ProveItLink\" href=\"../../../../../__pv_it/common/e4aad701f7f5516d8e7f0d805d518bf02c13322a0/expr.ipynb\"><img src=\"../../../../../__pv_it/common/e4aad701f7f5516d8e7f0d805d518bf02c13322a0/expr.png\" style=\"display:inline;vertical-align:middle;\" /></a> : <a class=\"ProveItLink\" href=\"../../../equivalence/__pv_it/theorems/7aa24190517d6a40e915c207672cefb0d36c3b690/expr.ipynb\"><img src=\"../../../equivalence/__pv_it/theorems/7aa24190517d6a40e915c207672cefb0d36c3b690/expr.png\" style=\"display:inline;vertical-align:middle;\" /></a></span></td></tr><tr><td><a name=\"proveit.logic.sets._proof_intersection_subset_eq_union.30cbe7c327ddbcaf64862ba588d0c05108de6ae60_step4\">4</a></td><td>axiom</td><td></td><td><span style=\"font-size:20px;\"> <a class=\"ProveItLink\" href=\"../../../intersection/_theory_nbs_/axioms.ipynb#intersection_def\" style=\"text-decoration: none\">&nbsp;&#x22A2;&nbsp;&nbsp;</a><a class=\"ProveItLink\" href=\"../../../intersection/__pv_it/axioms/bbac6a66e0cf05a4bfb9b31784209edb1c1eae0b0/expr.ipynb\"><img src=\"../../../intersection/__pv_it/axioms/bbac6a66e0cf05a4bfb9b31784209edb1c1eae0b0/expr.png\" style=\"display:inline;vertical-align:middle;\" /></a></span></td></tr>\n",
       "<tr><td>&nbsp;</td><td colspan=4 style-\"text-align:left\"><a class=\"ProveItLink\" href=\"../../../intersection/_theory_nbs_/axioms.ipynb#intersection_def\">proveit.logic.sets.intersection.intersection_def</a></td></tr><tr><td><a name=\"proveit.logic.sets._proof_intersection_subset_eq_union.30cbe7c327ddbcaf64862ba588d0c05108de6ae60_step5\">5</a></td><td>theorem</td><td></td><td><span style=\"font-size:20px;\"> <a class=\"ProveItLink\" href=\"../../../../../numbers/numerals/decimals/_theory_nbs_/proofs/posnat2/thm_proof.ipynb\" style=\"text-decoration: none\">&nbsp;&#x22A2;&nbsp;&nbsp;</a><a class=\"ProveItLink\" href=\"../../../../../numbers/numerals/decimals/__pv_it/theorems/93960371d3014f11077b11b089e2a3a6f3652d8a0/expr.ipynb\"><img src=\"../../../../../numbers/numerals/decimals/__pv_it/theorems/93960371d3014f11077b11b089e2a3a6f3652d8a0/expr.png\" style=\"display:inline;vertical-align:middle;\" /></a></span></td></tr>\n",
       "<tr><td>&nbsp;</td><td colspan=4 style-\"text-align:left\"><a class=\"ProveItLink\" href=\"../../../../../numbers/numerals/decimals/_theory_nbs_/proofs/posnat2/thm_proof.ipynb\">proveit.numbers.numerals.decimals.posnat2</a></td></tr><tr><td><a name=\"proveit.logic.sets._proof_intersection_subset_eq_union.30cbe7c327ddbcaf64862ba588d0c05108de6ae60_step6\">6</a></td><td>instantiation</td><td><a href=\"#proveit.logic.sets._proof_intersection_subset_eq_union.30cbe7c327ddbcaf64862ba588d0c05108de6ae60_step7\">7</a></td><td><span style=\"font-size:20px;\"> <a class=\"ProveItLink\" href=\"../957d2a3f9a4fb328b6aefb09e02bfab7cfe4664c0/proof.ipynb\" style=\"text-decoration: none\">&nbsp;&#x22A2;&nbsp;&nbsp;</a><a class=\"ProveItLink\" href=\"../d06203ead7761d8ce5b112a2a51bdef997e7509b0/expr.ipynb\"><img src=\"../d06203ead7761d8ce5b112a2a51bdef997e7509b0/expr.png\" style=\"display:inline;vertical-align:middle;\" /></a></span></td></tr>\n",
       "<tr><td>&nbsp;</td><td colspan=4 style=\"text-align:left\"><span style=\"font-size:20px;\"><a class=\"ProveItLink\" href=\"../../../../../__pv_it/common/66c90e66682f107a881f2d666959f64e2e72ad750/expr.ipynb\"><img src=\"../../../../../__pv_it/common/66c90e66682f107a881f2d666959f64e2e72ad750/expr.png\" style=\"display:inline;vertical-align:middle;\" /></a> : <a class=\"ProveItLink\" href=\"../../../../../__pv_it/common/e4aad701f7f5516d8e7f0d805d518bf02c13322a0/expr.ipynb\"><img src=\"../../../../../__pv_it/common/e4aad701f7f5516d8e7f0d805d518bf02c13322a0/expr.png\" style=\"display:inline;vertical-align:middle;\" /></a>, <a class=\"ProveItLink\" href=\"../../../../../__pv_it/common/4a5db8cc5c67969ec864bd3ea598be37cb6f5e550/expr.ipynb\"><img src=\"../../../../../__pv_it/common/4a5db8cc5c67969ec864bd3ea598be37cb6f5e550/expr.png\" style=\"display:inline;vertical-align:middle;\" /></a> : <a class=\"ProveItLink\" href=\"../../../../../__pv_it/common/4eca3b30dcf58a58494e201d1b7886d8643a617b0/expr.ipynb\"><img src=\"../../../../../__pv_it/common/4eca3b30dcf58a58494e201d1b7886d8643a617b0/expr.png\" style=\"display:inline;vertical-align:middle;\" /></a></span></td></tr><tr><td><a name=\"proveit.logic.sets._proof_intersection_subset_eq_union.30cbe7c327ddbcaf64862ba588d0c05108de6ae60_step7\">7</a></td><td>theorem</td><td></td><td><span style=\"font-size:20px;\"> <a class=\"ProveItLink\" href=\"../../../../../numbers/numerals/decimals/_theory_nbs_/proofs/tuple_len_2_typical_eq/thm_proof.ipynb\" style=\"text-decoration: none\">&nbsp;&#x22A2;&nbsp;&nbsp;</a><a class=\"ProveItLink\" href=\"../../../../../numbers/numerals/decimals/__pv_it/theorems/b56994510623f1b534ae67f3cc44762f6d45f3ce0/expr.ipynb\"><img src=\"../../../../../numbers/numerals/decimals/__pv_it/theorems/b56994510623f1b534ae67f3cc44762f6d45f3ce0/expr.png\" style=\"display:inline;vertical-align:middle;\" /></a></span></td></tr>\n",
       "<tr><td>&nbsp;</td><td colspan=4 style-\"text-align:left\"><a class=\"ProveItLink\" href=\"../../../../../numbers/numerals/decimals/_theory_nbs_/proofs/tuple_len_2_typical_eq/thm_proof.ipynb\">proveit.numbers.numerals.decimals.tuple_len_2_typical_eq</a></td></tr></table>"
      ],
      "text/plain": [
       "<proveit._core_.proof._ShowProof at 0x7f8694908c88>"
      ]
     },
     "execution_count": 1,
     "metadata": {},
     "output_type": "execute_result"
    }
   ],
   "source": [
    "import proveit\n",
    "# Automation is not needed when only showing a stored proof:\n",
    "proveit.defaults.automation = False # This will speed things up.\n",
    "proveit.defaults.inline_pngs = False # Makes files smaller.\n",
    "%show_proof"
   ]
  },
  {
   "cell_type": "code",
   "execution_count": null,
   "metadata": {},
   "outputs": [],
   "source": []
  }
 ],
 "metadata": {
  "kernelspec": {
   "display_name": "Python 3",
   "language": "python",
   "name": "python3"
  },
  "language_info": {
   "codemirror_mode": {
    "name": "ipython",
    "version": 3
   },
   "file_extension": ".py",
   "mimetype": "text/x-python",
   "name": "python",
   "nbconvert_exporter": "python",
   "pygments_lexer": "ipython3",
   "version": "3.7.3"
  }
 },
 "nbformat": 4,
 "nbformat_minor": 1
}