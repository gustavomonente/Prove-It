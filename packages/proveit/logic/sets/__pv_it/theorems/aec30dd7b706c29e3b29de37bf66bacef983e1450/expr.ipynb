{
 "cells": [
  {
   "cell_type": "markdown",
   "metadata": {},
   "source": [
    "Expression of type <a class=\"ProveItLink\" href=\"../../../../../../../doc/html/api/proveit.Lambda.html\">Lambda</a>\n",
    "=======================\n",
    "# from the theory of <a class=\"ProveItLink\" href=\"../../../_theory_nbs_/theory.ipynb\">proveit.logic.sets</a>"
   ]
  },
  {
   "cell_type": "code",
   "execution_count": 1,
   "metadata": {},
   "outputs": [],
   "source": [
    "import proveit\n",
    "# Automation is not needed when building an expression:\n",
    "proveit.defaults.automation = False # This will speed things up.\n",
    "proveit.defaults.inline_pngs = False # Makes files smaller.\n",
    "%load_expr # Load the stored expression as 'stored_expr'\n",
    "# import Expression classes needed to build the expression\n",
    "from proveit import A, Conditional, Lambda, S\n",
    "from proveit.logic import SetEquiv, SubsetEq, Union"
   ]
  },
  {
   "cell_type": "code",
   "execution_count": 2,
   "metadata": {},
   "outputs": [
    {
     "data": {
      "text/html": [
       "<strong id=\"expr\">expr:</strong> <a class=\"ProveItLink\" href=\"expr.ipynb\"><img src=\"expr.png\" style=\"display:inline;vertical-align:middle;\" /></a><br>"
      ],
      "text/plain": [
       "expr: (A, S) -> {(A union S) equiv S if A subset_eq S."
      ]
     },
     "execution_count": 2,
     "metadata": {},
     "output_type": "execute_result"
    }
   ],
   "source": [
    "# build up the expression from sub-expressions\n",
    "expr = Lambda([A, S], Conditional(SetEquiv(Union(A, S), S), SubsetEq(A, S)))"
   ]
  },
  {
   "cell_type": "code",
   "execution_count": 3,
   "metadata": {},
   "outputs": [
    {
     "name": "stdout",
     "output_type": "stream",
     "text": [
      "Passed sanity check: expr matches stored_expr\n"
     ]
    }
   ],
   "source": [
    "# check that the built expression is the same as the stored expression\n",
    "assert expr == stored_expr\n",
    "assert expr._style_id == stored_expr._style_id\n",
    "print(\"Passed sanity check: expr matches stored_expr\")"
   ]
  },
  {
   "cell_type": "code",
   "execution_count": 4,
   "metadata": {},
   "outputs": [
    {
     "name": "stdout",
     "output_type": "stream",
     "text": [
      "\\left(A, S\\right) \\mapsto \\left\\{\\left(A \\cup S\\right) \\cong S \\textrm{ if } A \\subseteq S\\right..\n"
     ]
    }
   ],
   "source": [
    "# Show the LaTeX representation of the expression for convenience if you need it.\n",
    "print(expr.latex())"
   ]
  },
  {
   "cell_type": "code",
   "execution_count": 5,
   "metadata": {},
   "outputs": [
    {
     "data": {
      "text/html": [
       "no style options"
      ],
      "text/plain": [
       "no style options"
      ]
     },
     "execution_count": 5,
     "metadata": {},
     "output_type": "execute_result"
    }
   ],
   "source": [
    "expr.style_options()"
   ]
  },
  {
   "cell_type": "code",
   "execution_count": 6,
   "metadata": {},
   "outputs": [
    {
     "data": {
      "text/html": [
       "<table><tr><th>&nbsp;</th><th>core type</th><th>sub-expressions</th><th>expression</th></tr>\n",
       "<tr><td>0</td><td>Lambda</td><td>parameters:&nbsp;9<br>body:&nbsp;1<br></td><td><a class=\"ProveItLink\" href=\"expr.ipynb\"><img src=\"expr.png\" style=\"display:inline;vertical-align:middle;\" /></a></td></tr>\n",
       "<tr><td>1</td><td>Conditional</td><td>value:&nbsp;2<br>condition:&nbsp;3<br></td><td><a class=\"ProveItLink\" href=\"../a5cbaa1274544c6d9d1a39d1239bde60a176831b0/expr.ipynb\"><img src=\"../a5cbaa1274544c6d9d1a39d1239bde60a176831b0/expr.png\" style=\"display:inline;vertical-align:middle;\" /></a></td></tr>\n",
       "<tr><td>2</td><td>Operation</td><td>operator:&nbsp;4<br>operands:&nbsp;5<br></td><td><a class=\"ProveItLink\" href=\"../183334402e0eee813f25cbafbc0e36c681befb6b0/expr.ipynb\"><img src=\"../183334402e0eee813f25cbafbc0e36c681befb6b0/expr.png\" style=\"display:inline;vertical-align:middle;\" /></a></td></tr>\n",
       "<tr><td>3</td><td>Operation</td><td>operator:&nbsp;6<br>operands:&nbsp;9<br></td><td><a class=\"ProveItLink\" href=\"../02af8e5bb8b9389301d0854814594908b951fe3e0/expr.ipynb\"><img src=\"../02af8e5bb8b9389301d0854814594908b951fe3e0/expr.png\" style=\"display:inline;vertical-align:middle;\" /></a></td></tr>\n",
       "<tr><td>4</td><td>Literal</td><td></td><td><a class=\"ProveItLink\" href=\"../../../equivalence/__pv_it/common/dbd10406f4612c0fe98e6d4c138567f59cfa19830/expr.ipynb\"><img src=\"../../../equivalence/__pv_it/common/dbd10406f4612c0fe98e6d4c138567f59cfa19830/expr.png\" style=\"display:inline;vertical-align:middle;\" /></a></td></tr>\n",
       "<tr><td>5</td><td>ExprTuple</td><td>7, 11</td><td><a class=\"ProveItLink\" href=\"../f27e5ba2a69f0a81adfd3e3d1447da6978d312d30/expr.ipynb\"><img src=\"../f27e5ba2a69f0a81adfd3e3d1447da6978d312d30/expr.png\" style=\"display:inline;vertical-align:middle;\" /></a></td></tr>\n",
       "<tr><td>6</td><td>Literal</td><td></td><td><a class=\"ProveItLink\" href=\"../../../inclusion/__pv_it/common/cf84c19b596da29088866bd9d56a4b5a100c324f0/expr.ipynb\"><img src=\"../../../inclusion/__pv_it/common/cf84c19b596da29088866bd9d56a4b5a100c324f0/expr.png\" style=\"display:inline;vertical-align:middle;\" /></a></td></tr>\n",
       "<tr><td>7</td><td>Operation</td><td>operator:&nbsp;8<br>operands:&nbsp;9<br></td><td><a class=\"ProveItLink\" href=\"../b91e80e2ada1fd22fd6a40cb7bd5a6eb6b0dfbb10/expr.ipynb\"><img src=\"../b91e80e2ada1fd22fd6a40cb7bd5a6eb6b0dfbb10/expr.png\" style=\"display:inline;vertical-align:middle;\" /></a></td></tr>\n",
       "<tr><td>8</td><td>Literal</td><td></td><td><a class=\"ProveItLink\" href=\"../../../unification/__pv_it/common/4091ac1d846f3dfe92e51edd5bbf6e1cb0dd9d8a0/expr.ipynb\"><img src=\"../../../unification/__pv_it/common/4091ac1d846f3dfe92e51edd5bbf6e1cb0dd9d8a0/expr.png\" style=\"display:inline;vertical-align:middle;\" /></a></td></tr>\n",
       "<tr><td>9</td><td>ExprTuple</td><td>10, 11</td><td><a class=\"ProveItLink\" href=\"../8cef3d907e01869fed176cd08c1babce86d223050/expr.ipynb\"><img src=\"../8cef3d907e01869fed176cd08c1babce86d223050/expr.png\" style=\"display:inline;vertical-align:middle;\" /></a></td></tr>\n",
       "<tr><td>10</td><td>Variable</td><td></td><td><a class=\"ProveItLink\" href=\"../../../../../__pv_it/common/e4aad701f7f5516d8e7f0d805d518bf02c13322a0/expr.ipynb\"><img src=\"../../../../../__pv_it/common/e4aad701f7f5516d8e7f0d805d518bf02c13322a0/expr.png\" style=\"display:inline;vertical-align:middle;\" /></a></td></tr>\n",
       "<tr><td>11</td><td>Variable</td><td></td><td><a class=\"ProveItLink\" href=\"../../../../../__pv_it/common/259d0846cd49c4882c35ec84d7a0b180713721cc0/expr.ipynb\"><img src=\"../../../../../__pv_it/common/259d0846cd49c4882c35ec84d7a0b180713721cc0/expr.png\" style=\"display:inline;vertical-align:middle;\" /></a></td></tr>\n",
       "</table>\n"
      ],
      "text/plain": [
       "0. (A, S) -> {(A union S) equiv S if A subset_eq S.\n",
       "   core type: Lambda\n",
       "   parameters: 9\\n   body: 1\n",
       "1. {(A union S) equiv S if A subset_eq S.\n",
       "   core type: Conditional\n",
       "   value: 2\n",
       "   condition: 3\n",
       "2. (A union S) equiv S\n",
       "   core type: Operation\n",
       "   operator: 4\n",
       "   operands: 5\n",
       "3. A subset_eq S\n",
       "   core type: Operation\n",
       "   operator: 6\n",
       "   operands: 9\n",
       "4. equiv\n",
       "   core type: Literal\n",
       "   sub-expressions: \n",
       "5. (A union S, S)\n",
       "   core type: ExprTuple\n",
       "   sub-expressions: 7, 11\n",
       "6. subset_eq\n",
       "   core type: Literal\n",
       "   sub-expressions: \n",
       "7. A union S\n",
       "   core type: Operation\n",
       "   operator: 8\n",
       "   operands: 9\n",
       "8. union\n",
       "   core type: Literal\n",
       "   sub-expressions: \n",
       "9. (A, S)\n",
       "   core type: ExprTuple\n",
       "   sub-expressions: 10, 11\n",
       "10. A\n",
       "    core type: Variable\n",
       "    sub-expressions: \n",
       "11. S\n",
       "    core type: Variable\n",
       "    sub-expressions: "
      ]
     },
     "execution_count": 6,
     "metadata": {},
     "output_type": "execute_result"
    }
   ],
   "source": [
    "# display the expression information\n",
    "expr.expr_info()"
   ]
  },
  {
   "cell_type": "code",
   "execution_count": null,
   "metadata": {},
   "outputs": [],
   "source": []
  }
 ],
 "metadata": {
  "kernelspec": {
   "display_name": "Python 3",
   "language": "python",
   "name": "python3"
  }
 },
 "nbformat": 4,
 "nbformat_minor": 0
}