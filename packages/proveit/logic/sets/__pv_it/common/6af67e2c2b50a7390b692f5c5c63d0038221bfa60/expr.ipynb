{
 "cells": [
  {
   "cell_type": "markdown",
   "metadata": {},
   "source": [
    "Expression of type <a class=\"ProveItLink\" href=\"../../../../../../../doc/html/api/proveit.Conditional.html\">Conditional</a>\n",
    "=======================\n",
    "# from the theory of <a class=\"ProveItLink\" href=\"../../../_theory_nbs_/theory.ipynb\">proveit.logic.sets</a>"
   ]
  },
  {
   "cell_type": "code",
   "execution_count": 1,
   "metadata": {},
   "outputs": [],
   "source": [
    "import proveit\n",
    "# Automation is not needed when building an expression:\n",
    "proveit.defaults.automation = False # This will speed things up.\n",
    "proveit.defaults.inline_pngs = False # Makes files smaller.\n",
    "%load_expr # Load the stored expression as 'stored_expr'\n",
    "# import Expression classes needed to build the expression\n",
    "from proveit import Conditional, ExprRange, IndexedVar, S, Variable, n, y\n",
    "from proveit.core_expr_types import Q__y_1_to_n, f__y_1_to_n\n",
    "from proveit.logic import And, InSet\n",
    "from proveit.numbers import one"
   ]
  },
  {
   "cell_type": "code",
   "execution_count": 2,
   "metadata": {},
   "outputs": [
    {
     "data": {
      "text/html": [
       "<strong id=\"expr\">expr:</strong> <a class=\"ProveItLink\" href=\"expr.ipynb\"><img src=\"expr.png\" style=\"display:inline;vertical-align:middle;\" /></a><br>"
      ],
      "text/plain": [
       "expr: {f(y_{1}, ..y_{_a}.., y_{n}) if y_{1} in S_{1} ,  ..y_{_a} in S_{_a}.. ,  y_{n} in S_{n} ,  Q(y_{1}, ..y_{_a}.., y_{n})."
      ]
     },
     "execution_count": 2,
     "metadata": {},
     "output_type": "execute_result"
    }
   ],
   "source": [
    "# build up the expression from sub-expressions\n",
    "sub_expr1 = Variable(\"_a\", latex_format = r\"{_{-}a}\")\n",
    "expr = Conditional(f__y_1_to_n, And(ExprRange(sub_expr1, InSet(IndexedVar(y, sub_expr1), IndexedVar(S, sub_expr1)), one, n), Q__y_1_to_n))"
   ]
  },
  {
   "cell_type": "code",
   "execution_count": 3,
   "metadata": {},
   "outputs": [
    {
     "name": "stdout",
     "output_type": "stream",
     "text": [
      "Passed sanity check: expr matches stored_expr\n"
     ]
    }
   ],
   "source": [
    "# check that the built expression is the same as the stored expression\n",
    "assert expr == stored_expr\n",
    "assert expr._style_id == stored_expr._style_id\n",
    "print(\"Passed sanity check: expr matches stored_expr\")"
   ]
  },
  {
   "cell_type": "code",
   "execution_count": 4,
   "metadata": {},
   "outputs": [
    {
     "name": "stdout",
     "output_type": "stream",
     "text": [
      "\\left\\{f(y_{1}, \\ldots, y_{n}) \\textrm{ if } y_{1} \\in S_{1} ,  \\ldots ,  y_{n} \\in S_{n} ,  Q(y_{1}, \\ldots, y_{n})\\right..\n"
     ]
    }
   ],
   "source": [
    "# Show the LaTeX representation of the expression for convenience if you need it.\n",
    "print(expr.latex())"
   ]
  },
  {
   "cell_type": "code",
   "execution_count": 5,
   "metadata": {},
   "outputs": [
    {
     "data": {
      "text/html": [
       "<table>\n",
       "<tr><th>name</th><th>description</th><th>default</th><th>current value</th><th>related methods</th></tr><tr><td>condition_delimiter</td><td>'comma' or 'and'</td><td>comma</td><td>comma</td><td>('with_comma_delimiter', 'with_conjunction_delimiter')</td></tr>\n",
       "</table>\n"
      ],
      "text/plain": [
       "style name: condition_delimiter\n",
       "description: 'comma' or 'and'\n",
       "default: comma\n",
       "current value: comma\n",
       "related methods: ('with_comma_delimiter', 'with_conjunction_delimiter')"
      ]
     },
     "execution_count": 5,
     "metadata": {},
     "output_type": "execute_result"
    }
   ],
   "source": [
    "expr.style_options()"
   ]
  },
  {
   "cell_type": "code",
   "execution_count": 6,
   "metadata": {},
   "outputs": [
    {
     "data": {
      "text/html": [
       "<table><tr><th>&nbsp;</th><th>core type</th><th>sub-expressions</th><th>expression</th></tr>\n",
       "<tr><td>0</td><td>Conditional</td><td>value:&nbsp;1<br>condition:&nbsp;2<br></td><td><a class=\"ProveItLink\" href=\"expr.ipynb\"><img src=\"expr.png\" style=\"display:inline;vertical-align:middle;\" /></a></td></tr>\n",
       "<tr><td>1</td><td>Operation</td><td>operator:&nbsp;3<br>operands:&nbsp;10<br></td><td><a class=\"ProveItLink\" href=\"../../../../../core_expr_types/__pv_it/common/b650a12f3a5c50dfb23fd396da3734dc5205fa960/expr.ipynb\"><img src=\"../../../../../core_expr_types/__pv_it/common/b650a12f3a5c50dfb23fd396da3734dc5205fa960/expr.png\" style=\"display:inline;vertical-align:middle;\" /></a></td></tr>\n",
       "<tr><td>2</td><td>Operation</td><td>operator:&nbsp;4<br>operands:&nbsp;5<br></td><td><a class=\"ProveItLink\" href=\"../bae853b16a0d6937d7284a3611f004ebe83eb73c0/expr.ipynb\"><img src=\"../bae853b16a0d6937d7284a3611f004ebe83eb73c0/expr.png\" style=\"display:inline;vertical-align:middle;\" /></a></td></tr>\n",
       "<tr><td>3</td><td>Variable</td><td></td><td><a class=\"ProveItLink\" href=\"../../../../../__pv_it/common/c03f8781a34c741744d7dee8670bbb5419fe0ac50/expr.ipynb\"><img src=\"../../../../../__pv_it/common/c03f8781a34c741744d7dee8670bbb5419fe0ac50/expr.png\" style=\"display:inline;vertical-align:middle;\" /></a></td></tr>\n",
       "<tr><td>4</td><td>Literal</td><td></td><td><a class=\"ProveItLink\" href=\"../../../../booleans/conjunction/__pv_it/common/26b94b53e70b1d77b70f0d9d4236347db37731060/expr.ipynb\"><img src=\"../../../../booleans/conjunction/__pv_it/common/26b94b53e70b1d77b70f0d9d4236347db37731060/expr.png\" style=\"display:inline;vertical-align:middle;\" /></a></td></tr>\n",
       "<tr><td>5</td><td>ExprTuple</td><td>6, 7</td><td><a class=\"ProveItLink\" href=\"../e20aac231bc867274a8580ff59352e4b56683c600/expr.ipynb\"><img src=\"../e20aac231bc867274a8580ff59352e4b56683c600/expr.png\" style=\"display:inline;vertical-align:middle;\" /></a></td></tr>\n",
       "<tr><td>6</td><td>ExprRange</td><td>lambda_map:&nbsp;8<br>start_index:&nbsp;16<br>end_index:&nbsp;17<br></td><td><a class=\"ProveItLink\" href=\"../660e35c5820f17c931cc111aee84cee6e475a4fe0/expr.ipynb\"><img src=\"../660e35c5820f17c931cc111aee84cee6e475a4fe0/expr.png\" style=\"display:inline;vertical-align:middle;\" /></a></td></tr>\n",
       "<tr><td>7</td><td>Operation</td><td>operator:&nbsp;9<br>operands:&nbsp;10<br></td><td><a class=\"ProveItLink\" href=\"../../../../../core_expr_types/__pv_it/common/90c2130c86e621c95872d7ba9e877513c9092aaa0/expr.ipynb\"><img src=\"../../../../../core_expr_types/__pv_it/common/90c2130c86e621c95872d7ba9e877513c9092aaa0/expr.png\" style=\"display:inline;vertical-align:middle;\" /></a></td></tr>\n",
       "<tr><td>8</td><td>Lambda</td><td>parameter:&nbsp;23<br>body:&nbsp;11<br></td><td><a class=\"ProveItLink\" href=\"../e6aaaffb2d966b22a3f1ffa08a8cb6b4dd846f0f0/expr.ipynb\"><img src=\"../e6aaaffb2d966b22a3f1ffa08a8cb6b4dd846f0f0/expr.png\" style=\"display:inline;vertical-align:middle;\" /></a></td></tr>\n",
       "<tr><td>9</td><td>Variable</td><td></td><td><a class=\"ProveItLink\" href=\"../../../../../__pv_it/common/50527aea954422d65ebe44b8de200683294751540/expr.ipynb\"><img src=\"../../../../../__pv_it/common/50527aea954422d65ebe44b8de200683294751540/expr.png\" style=\"display:inline;vertical-align:middle;\" /></a></td></tr>\n",
       "<tr><td>10</td><td>ExprTuple</td><td>12</td><td><a class=\"ProveItLink\" href=\"../../../../../core_expr_types/__pv_it/common/34a946761b1de134871ee6cbf0f53773974067990/expr.ipynb\"><img src=\"../../../../../core_expr_types/__pv_it/common/34a946761b1de134871ee6cbf0f53773974067990/expr.png\" style=\"display:inline;vertical-align:middle;\" /></a></td></tr>\n",
       "<tr><td>11</td><td>Operation</td><td>operator:&nbsp;13<br>operands:&nbsp;14<br></td><td><a class=\"ProveItLink\" href=\"../921f62e345ea5fa05e4a0732f60d8a90f02f08370/expr.ipynb\"><img src=\"../921f62e345ea5fa05e4a0732f60d8a90f02f08370/expr.png\" style=\"display:inline;vertical-align:middle;\" /></a></td></tr>\n",
       "<tr><td>12</td><td>ExprRange</td><td>lambda_map:&nbsp;15<br>start_index:&nbsp;16<br>end_index:&nbsp;17<br></td><td><a class=\"ProveItLink\" href=\"../../../../../core_expr_types/__pv_it/common/d4ccfa4c92b5be548893c8e9f8a96b24fc2db46d0/expr.ipynb\"><img src=\"../../../../../core_expr_types/__pv_it/common/d4ccfa4c92b5be548893c8e9f8a96b24fc2db46d0/expr.png\" style=\"display:inline;vertical-align:middle;\" /></a></td></tr>\n",
       "<tr><td>13</td><td>Literal</td><td></td><td><a class=\"ProveItLink\" href=\"../../../membership/__pv_it/common/7171deca84f71f47a6ec7696972d1632274a12880/expr.ipynb\"><img src=\"../../../membership/__pv_it/common/7171deca84f71f47a6ec7696972d1632274a12880/expr.png\" style=\"display:inline;vertical-align:middle;\" /></a></td></tr>\n",
       "<tr><td>14</td><td>ExprTuple</td><td>19, 18</td><td><a class=\"ProveItLink\" href=\"../17c2ca590f288b7e3ea54bebeebeed67b5c709620/expr.ipynb\"><img src=\"../17c2ca590f288b7e3ea54bebeebeed67b5c709620/expr.png\" style=\"display:inline;vertical-align:middle;\" /></a></td></tr>\n",
       "<tr><td>15</td><td>Lambda</td><td>parameter:&nbsp;23<br>body:&nbsp;19<br></td><td><a class=\"ProveItLink\" href=\"../../../../../core_expr_types/__pv_it/common/e85c6dca3c2891a25500913ce6fa75404b16995d0/expr.ipynb\"><img src=\"../../../../../core_expr_types/__pv_it/common/e85c6dca3c2891a25500913ce6fa75404b16995d0/expr.png\" style=\"display:inline;vertical-align:middle;\" /></a></td></tr>\n",
       "<tr><td>16</td><td>Literal</td><td></td><td><a class=\"ProveItLink\" href=\"../../../../../numbers/numerals/__pv_it/common/d278e359da0695d9652dd541d45264f93703e2e40/expr.ipynb\"><img src=\"../../../../../numbers/numerals/__pv_it/common/d278e359da0695d9652dd541d45264f93703e2e40/expr.png\" style=\"display:inline;vertical-align:middle;\" /></a></td></tr>\n",
       "<tr><td>17</td><td>Variable</td><td></td><td><a class=\"ProveItLink\" href=\"../../../../../__pv_it/common/6165c9bb82ce3c7097cdba4440a1aeeb6eaca8a40/expr.ipynb\"><img src=\"../../../../../__pv_it/common/6165c9bb82ce3c7097cdba4440a1aeeb6eaca8a40/expr.png\" style=\"display:inline;vertical-align:middle;\" /></a></td></tr>\n",
       "<tr><td>18</td><td>IndexedVar</td><td>variable:&nbsp;20<br>index:&nbsp;23<br></td><td><a class=\"ProveItLink\" href=\"../../../../../core_expr_types/__pv_it/common/9ae62306c0350232439fc7dabd61da10fd45e91a0/expr.ipynb\"><img src=\"../../../../../core_expr_types/__pv_it/common/9ae62306c0350232439fc7dabd61da10fd45e91a0/expr.png\" style=\"display:inline;vertical-align:middle;\" /></a></td></tr>\n",
       "<tr><td>19</td><td>IndexedVar</td><td>variable:&nbsp;21<br>index:&nbsp;23<br></td><td><a class=\"ProveItLink\" href=\"../../../../../core_expr_types/__pv_it/common/cfe245429f738680263dd9e15adfb363654edf9a0/expr.ipynb\"><img src=\"../../../../../core_expr_types/__pv_it/common/cfe245429f738680263dd9e15adfb363654edf9a0/expr.png\" style=\"display:inline;vertical-align:middle;\" /></a></td></tr>\n",
       "<tr><td>20</td><td>Variable</td><td></td><td><a class=\"ProveItLink\" href=\"../../../../../__pv_it/common/259d0846cd49c4882c35ec84d7a0b180713721cc0/expr.ipynb\"><img src=\"../../../../../__pv_it/common/259d0846cd49c4882c35ec84d7a0b180713721cc0/expr.png\" style=\"display:inline;vertical-align:middle;\" /></a></td></tr>\n",
       "<tr><td>21</td><td>Variable</td><td></td><td><a class=\"ProveItLink\" href=\"../../../../../__pv_it/common/0f21cbfd5644a1cae6781c1d58354abc2ffbc9000/expr.ipynb\"><img src=\"../../../../../__pv_it/common/0f21cbfd5644a1cae6781c1d58354abc2ffbc9000/expr.png\" style=\"display:inline;vertical-align:middle;\" /></a></td></tr>\n",
       "<tr><td>22</td><td>ExprTuple</td><td>23</td><td><a class=\"ProveItLink\" href=\"../../../../../core_expr_types/__pv_it/common/ecf50ade416ab41c42c9f4e777b4c862cd9469670/expr.ipynb\"><img src=\"../../../../../core_expr_types/__pv_it/common/ecf50ade416ab41c42c9f4e777b4c862cd9469670/expr.png\" style=\"display:inline;vertical-align:middle;\" /></a></td></tr>\n",
       "<tr><td>23</td><td>Variable</td><td></td><td><a class=\"ProveItLink\" href=\"../../../../../core_expr_types/__pv_it/common/9e6d9d5d7eeb0342cf5bca68def0eb165a1a9bb10/expr.ipynb\"><img src=\"../../../../../core_expr_types/__pv_it/common/9e6d9d5d7eeb0342cf5bca68def0eb165a1a9bb10/expr.png\" style=\"display:inline;vertical-align:middle;\" /></a></td></tr>\n",
       "</table>\n"
      ],
      "text/plain": [
       "0. {f(y_{1}, ..y_{_a}.., y_{n}) if y_{1} in S_{1} ,  ..y_{_a} in S_{_a}.. ,  y_{n} in S_{n} ,  Q(y_{1}, ..y_{_a}.., y_{n}).\n",
       "   core type: Conditional\n",
       "   value: 1\n",
       "   condition: 2\n",
       "1. f(y_{1}, ..y_{_a}.., y_{n})\n",
       "   core type: Operation\n",
       "   operator: 3\n",
       "   operands: 10\n",
       "2. (y_{1} in S_{1}) and ..(y_{_a} in S_{_a}).. and (y_{n} in S_{n}) and Q(y_{1}, ..y_{_a}.., y_{n})\n",
       "   core type: Operation\n",
       "   operator: 4\n",
       "   operands: 5\n",
       "3. f\n",
       "   core type: Variable\n",
       "   sub-expressions: \n",
       "4. and\n",
       "   core type: Literal\n",
       "   sub-expressions: \n",
       "5. (y_{1} in S_{1}, ..y_{_a} in S_{_a}.., y_{n} in S_{n}, Q(y_{1}, ..y_{_a}.., y_{n}))\n",
       "   core type: ExprTuple\n",
       "   sub-expressions: 6, 7\n",
       "6. (y_{1} in S_{1}), ..(y_{_a} in S_{_a}).., (y_{n} in S_{n})\n",
       "   core type: ExprRange\n",
       "   lambda_map: 8\n",
       "   start_index: 16\n",
       "   end_index: 17\n",
       "7. Q(y_{1}, ..y_{_a}.., y_{n})\n",
       "   core type: Operation\n",
       "   operator: 9\n",
       "   operands: 10\n",
       "8. _a -> (y_{_a} in S_{_a})\n",
       "   core type: Lambda\n",
       "   parameter: 23\n",
       "   body: 11\n",
       "9. Q\n",
       "   core type: Variable\n",
       "   sub-expressions: \n",
       "10. (y_{1}, ..y_{_a}.., y_{n})\n",
       "    core type: ExprTuple\n",
       "    sub-expressions: 12\n",
       "11. y_{_a} in S_{_a}\n",
       "    core type: Operation\n",
       "    operator: 13\n",
       "    operands: 14\n",
       "12. y_{1}, ..y_{_a}.., y_{n}\n",
       "    core type: ExprRange\n",
       "    lambda_map: 15\n",
       "    start_index: 16\n",
       "    end_index: 17\n",
       "13. in\n",
       "    core type: Literal\n",
       "    sub-expressions: \n",
       "14. (y_{_a}, S_{_a})\n",
       "    core type: ExprTuple\n",
       "    sub-expressions: 19, 18\n",
       "15. _a -> y_{_a}\n",
       "    core type: Lambda\n",
       "    parameter: 23\n",
       "    body: 19\n",
       "16. 1\n",
       "    core type: Literal\n",
       "    sub-expressions: \n",
       "17. n\n",
       "    core type: Variable\n",
       "    sub-expressions: \n",
       "18. S_{_a}\n",
       "    core type: IndexedVar\n",
       "variable: 20\n",
       "index: 23\n",
       "19. y_{_a}\n",
       "    core type: IndexedVar\n",
       "variable: 21\n",
       "index: 23\n",
       "20. S\n",
       "    core type: Variable\n",
       "    sub-expressions: \n",
       "21. y\n",
       "    core type: Variable\n",
       "    sub-expressions: \n",
       "22. (_a)\n",
       "    core type: ExprTuple\n",
       "    sub-expressions: 23\n",
       "23. _a\n",
       "    core type: Variable\n",
       "    sub-expressions: "
      ]
     },
     "execution_count": 6,
     "metadata": {},
     "output_type": "execute_result"
    }
   ],
   "source": [
    "# display the expression information\n",
    "expr.expr_info()"
   ]
  },
  {
   "cell_type": "code",
   "execution_count": null,
   "metadata": {},
   "outputs": [],
   "source": []
  }
 ],
 "metadata": {
  "kernelspec": {
   "display_name": "Python 3",
   "language": "python",
   "name": "python3"
  }
 },
 "nbformat": 4,
 "nbformat_minor": 0
}