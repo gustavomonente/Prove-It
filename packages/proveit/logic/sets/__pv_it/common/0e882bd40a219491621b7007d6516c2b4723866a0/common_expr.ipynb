{
 "cells": [
  {
   "cell_type": "markdown",
   "metadata": {},
   "source": [
    "Common <a class=\"ProveItLink\" href=\"../../../_common_.ipynb#x_notequals_all_y\">x_notequals_all_y</a> of type <a class=\"ProveItLink\" href=\"../../../../../../../doc/html/api/proveit.logic.And.html\">And</a>\n",
    "=======================\n",
    "# from the theory of <a class=\"ProveItLink\" href=\"../../../_theory_nbs_/theory.ipynb\">proveit.logic.sets</a>"
   ]
  },
  {
   "cell_type": "code",
   "execution_count": 1,
   "metadata": {},
   "outputs": [],
   "source": [
    "import proveit\n",
    "# Automation is not needed when only building an expression:\n",
    "proveit.defaults.automation = False # This will speed things up.\n",
    "proveit.defaults.inline_pngs = False # Makes files smaller.\n",
    "%load_expr # Load the stored expression as 'stored_expr'\n",
    "# import the special expression\n",
    "from proveit.logic.sets import x_notequals_all_y"
   ]
  },
  {
   "cell_type": "code",
   "execution_count": 2,
   "metadata": {},
   "outputs": [
    {
     "name": "stdout",
     "output_type": "stream",
     "text": [
      "Passed sanity check: x_notequals_all_y matches stored_expr\n"
     ]
    }
   ],
   "source": [
    "# check that the built expression is the same as the stored expression\n",
    "assert x_notequals_all_y == stored_expr\n",
    "assert x_notequals_all_y._style_id == stored_expr._style_id\n",
    "print(\"Passed sanity check: x_notequals_all_y matches stored_expr\")"
   ]
  },
  {
   "cell_type": "code",
   "execution_count": 3,
   "metadata": {},
   "outputs": [
    {
     "name": "stdout",
     "output_type": "stream",
     "text": [
      "\\left(x \\neq y_{1}\\right) \\land \\ldots \\land \\left(x \\neq y_{n}\\right)\n"
     ]
    }
   ],
   "source": [
    "# Show the LaTeX representation of the expression for convenience if you need it.\n",
    "print(x_notequals_all_y.latex())"
   ]
  },
  {
   "cell_type": "code",
   "execution_count": 4,
   "metadata": {},
   "outputs": [
    {
     "data": {
      "text/html": [
       "<table><tr><th>&nbsp;</th><th>core type</th><th>sub-expressions</th><th>expression</th></tr>\n",
       "<tr><td>0</td><td>Operation</td><td>operator:&nbsp;1<br>operands:&nbsp;2<br></td><td><a class=\"ProveItLink\" href=\"expr.ipynb\"><img src=\"expr.png\" style=\"display:inline;vertical-align:middle;\" /></a></td></tr>\n",
       "<tr><td>1</td><td>Literal</td><td></td><td><a class=\"ProveItLink\" href=\"../../../../booleans/conjunction/__pv_it/common/42118ff318bd65d98b1393f64ce7c2269feef76e0/expr.ipynb\"><img src=\"../../../../booleans/conjunction/__pv_it/common/42118ff318bd65d98b1393f64ce7c2269feef76e0/expr.png\" style=\"display:inline;vertical-align:middle;\" /></a></td></tr>\n",
       "<tr><td>2</td><td>ExprTuple</td><td>3</td><td><a class=\"ProveItLink\" href=\"../d5abfd4c4e18b6efc3cef4964ae08eb5ac67dab00/expr.ipynb\"><img src=\"../d5abfd4c4e18b6efc3cef4964ae08eb5ac67dab00/expr.png\" style=\"display:inline;vertical-align:middle;\" /></a></td></tr>\n",
       "<tr><td>3</td><td>ExprRange</td><td>lambda_map:&nbsp;4<br>start_index:&nbsp;5<br>end_index:&nbsp;6<br></td><td><a class=\"ProveItLink\" href=\"../f42b42017676971b3db50b7582d1a7be075676e90/expr.ipynb\"><img src=\"../f42b42017676971b3db50b7582d1a7be075676e90/expr.png\" style=\"display:inline;vertical-align:middle;\" /></a></td></tr>\n",
       "<tr><td>4</td><td>Lambda</td><td>parameter:&nbsp;13<br>body:&nbsp;7<br></td><td><a class=\"ProveItLink\" href=\"../14abceb56d7e76b01d86d5198629d74d20755ae90/expr.ipynb\"><img src=\"../14abceb56d7e76b01d86d5198629d74d20755ae90/expr.png\" style=\"display:inline;vertical-align:middle;\" /></a></td></tr>\n",
       "<tr><td>5</td><td>Literal</td><td></td><td><a class=\"ProveItLink\" href=\"../../../../../numbers/numerals/__pv_it/common/2778428c7f555b2bdc06aa0530bc142c6e6335100/expr.ipynb\"><img src=\"../../../../../numbers/numerals/__pv_it/common/2778428c7f555b2bdc06aa0530bc142c6e6335100/expr.png\" style=\"display:inline;vertical-align:middle;\" /></a></td></tr>\n",
       "<tr><td>6</td><td>Variable</td><td></td><td><a class=\"ProveItLink\" href=\"../../../../../__pv_it/common/8968bb04eb3f7dfa02353397ce929b025bbd79c20/expr.ipynb\"><img src=\"../../../../../__pv_it/common/8968bb04eb3f7dfa02353397ce929b025bbd79c20/expr.png\" style=\"display:inline;vertical-align:middle;\" /></a></td></tr>\n",
       "<tr><td>7</td><td>Operation</td><td>operator:&nbsp;8<br>operands:&nbsp;9<br></td><td><a class=\"ProveItLink\" href=\"../d989946abc4da1ec9a65f8a20fdd722140b89b9d0/expr.ipynb\"><img src=\"../d989946abc4da1ec9a65f8a20fdd722140b89b9d0/expr.png\" style=\"display:inline;vertical-align:middle;\" /></a></td></tr>\n",
       "<tr><td>8</td><td>Literal</td><td></td><td><a class=\"ProveItLink\" href=\"../../../../equality/__pv_it/common/d96270bc9bb1bad54f773b1c04bfb343a739642c0/expr.ipynb\"><img src=\"../../../../equality/__pv_it/common/d96270bc9bb1bad54f773b1c04bfb343a739642c0/expr.png\" style=\"display:inline;vertical-align:middle;\" /></a></td></tr>\n",
       "<tr><td>9</td><td>ExprTuple</td><td>10, 11</td><td><a class=\"ProveItLink\" href=\"../8d2f511a06e0b55a68e1fdcf7136e303da9b59490/expr.ipynb\"><img src=\"../8d2f511a06e0b55a68e1fdcf7136e303da9b59490/expr.png\" style=\"display:inline;vertical-align:middle;\" /></a></td></tr>\n",
       "<tr><td>10</td><td>Variable</td><td></td><td><a class=\"ProveItLink\" href=\"../../../../../__pv_it/common/a0d9d672aa5e272d907247690c152cc2c6daafb70/expr.ipynb\"><img src=\"../../../../../__pv_it/common/a0d9d672aa5e272d907247690c152cc2c6daafb70/expr.png\" style=\"display:inline;vertical-align:middle;\" /></a></td></tr>\n",
       "<tr><td>11</td><td>IndexedVar</td><td>variable:&nbsp;12<br>index:&nbsp;13<br></td><td><a class=\"ProveItLink\" href=\"../2e0e7682a6d7383c5609f98c40ed52d4f68a4fe70/expr.ipynb\"><img src=\"../2e0e7682a6d7383c5609f98c40ed52d4f68a4fe70/expr.png\" style=\"display:inline;vertical-align:middle;\" /></a></td></tr>\n",
       "<tr><td>12</td><td>Variable</td><td></td><td><a class=\"ProveItLink\" href=\"../../../../../__pv_it/common/ff7dba4ef0bbe791ab573bf2d9c220a304399ac80/expr.ipynb\"><img src=\"../../../../../__pv_it/common/ff7dba4ef0bbe791ab573bf2d9c220a304399ac80/expr.png\" style=\"display:inline;vertical-align:middle;\" /></a></td></tr>\n",
       "<tr><td>13</td><td>Variable</td><td></td><td><a class=\"ProveItLink\" href=\"../../../../../__pv_it/common/ae955345c83abf786c3aff8681cd5465beae262d0/expr.ipynb\"><img src=\"../../../../../__pv_it/common/ae955345c83abf786c3aff8681cd5465beae262d0/expr.png\" style=\"display:inline;vertical-align:middle;\" /></a></td></tr>\n",
       "</table>\n"
      ],
      "text/plain": [
       "0. (x != y_{1}) and ..(x != y_{i}).. and (x != y_{n})\n",
       "   core type: Operation\n",
       "   operator: 1\n",
       "   operands: 2\n",
       "1. and\n",
       "   core type: Literal\n",
       "   sub-expressions: \n",
       "2. (x != y_{1}, ..x != y_{i}.., x != y_{n})\n",
       "   core type: ExprTuple\n",
       "   sub-expressions: 3\n",
       "3. (x != y_{1}), ..(x != y_{i}).., (x != y_{n})\n",
       "   core type: ExprRange\n",
       "   lambda_map: 4\n",
       "   start_index: 5\n",
       "   end_index: 6\n",
       "4. i -> (x != y_{i})\n",
       "   core type: Lambda\n",
       "   parameter: 13\n",
       "   body: 7\n",
       "5. 1\n",
       "   core type: Literal\n",
       "   sub-expressions: \n",
       "6. n\n",
       "   core type: Variable\n",
       "   sub-expressions: \n",
       "7. x != y_{i}\n",
       "   core type: Operation\n",
       "   operator: 8\n",
       "   operands: 9\n",
       "8. !=\n",
       "   core type: Literal\n",
       "   sub-expressions: \n",
       "9. (x, y_{i})\n",
       "   core type: ExprTuple\n",
       "   sub-expressions: 10, 11\n",
       "10. x\n",
       "    core type: Variable\n",
       "    sub-expressions: \n",
       "11. y_{i}\n",
       "    core type: IndexedVar\n",
       "variable: 12\n",
       "index: 13\n",
       "12. y\n",
       "    core type: Variable\n",
       "    sub-expressions: \n",
       "13. i\n",
       "    core type: Variable\n",
       "    sub-expressions: "
      ]
     },
     "execution_count": 4,
     "metadata": {},
     "output_type": "execute_result"
    }
   ],
   "source": [
    "# display the expression information\n",
    "x_notequals_all_y.expr_info()"
   ]
  },
  {
   "cell_type": "code",
   "execution_count": null,
   "metadata": {},
   "outputs": [],
   "source": []
  }
 ],
 "metadata": {
  "kernelspec": {
   "display_name": "Python 3",
   "language": "python",
   "name": "python3"
  }
 },
 "nbformat": 4,
 "nbformat_minor": 0
}