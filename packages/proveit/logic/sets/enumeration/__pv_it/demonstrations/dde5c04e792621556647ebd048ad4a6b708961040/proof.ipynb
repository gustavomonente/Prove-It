{
 "cells": [
  {
   "cell_type": "markdown",
   "metadata": {},
   "source": [
    "Show the Proof\n",
    "========"
   ]
  },
  {
   "cell_type": "code",
   "execution_count": 1,
   "metadata": {},
   "outputs": [
    {
     "data": {
      "text/html": [
       "<table><tr><th>&nbsp;</th><th>step type</th><th>requirements</th><th>statement</th></tr>\n",
       "<tr><td><a name=\"proveit.logic.sets.enumeration.demonstrations.dde5c04e792621556647ebd048ad4a6b708961040_step0\">0</a></td><td>instantiation</td><td><a href=\"#proveit.logic.sets.enumeration.demonstrations.dde5c04e792621556647ebd048ad4a6b708961040_step1\">1</a>, <a href=\"#proveit.logic.sets.enumeration.demonstrations.dde5c04e792621556647ebd048ad4a6b708961040_step2\">2</a>, <a href=\"#proveit.logic.sets.enumeration.demonstrations.dde5c04e792621556647ebd048ad4a6b708961040_step3\">3</a>, <a href=\"#proveit.logic.sets.enumeration.demonstrations.dde5c04e792621556647ebd048ad4a6b708961040_step4\">4</a>, <a href=\"#proveit.logic.sets.enumeration.demonstrations.dde5c04e792621556647ebd048ad4a6b708961040_step5\">5</a></td><td><span style=\"font-size:20px;\"> <a class=\"ProveItLink\" href=\"proof.ipynb\" style=\"text-decoration: none\">&nbsp;&#x22A2;&nbsp;&nbsp;</a><a class=\"ProveItLink\" href=\"../84f374f3a18bf1bf69785cd95ff8effca98febdd0/expr.ipynb\"><img src=\"../84f374f3a18bf1bf69785cd95ff8effca98febdd0/expr.png\" style=\"display:inline;vertical-align:middle;\" /></a></span></td></tr>\n",
       "<tr><td>&nbsp;</td><td colspan=4 style=\"text-align:left\"><span style=\"font-size:20px;\"><a class=\"ProveItLink\" href=\"../../../../../../__pv_it/common/2dc4f15b3407a25e8d70754a86bf74f1871f92650/expr.ipynb\"><img src=\"../../../../../../__pv_it/common/2dc4f15b3407a25e8d70754a86bf74f1871f92650/expr.png\" style=\"display:inline;vertical-align:middle;\" /></a> : <a class=\"ProveItLink\" href=\"../../../../../../numbers/numerals/__pv_it/common/1477ef887611bedb97dfb89bcacde217bb43e8ed0/expr.ipynb\"><img src=\"../../../../../../numbers/numerals/__pv_it/common/1477ef887611bedb97dfb89bcacde217bb43e8ed0/expr.png\" style=\"display:inline;vertical-align:middle;\" /></a>, <a class=\"ProveItLink\" href=\"../../../../../../__pv_it/common/6165c9bb82ce3c7097cdba4440a1aeeb6eaca8a40/expr.ipynb\"><img src=\"../../../../../../__pv_it/common/6165c9bb82ce3c7097cdba4440a1aeeb6eaca8a40/expr.png\" style=\"display:inline;vertical-align:middle;\" /></a> : <a class=\"ProveItLink\" href=\"../../../../../../numbers/numerals/__pv_it/common/c35fdf7268947ca3e24174d2909dc9d0a7f3aac60/expr.ipynb\"><img src=\"../../../../../../numbers/numerals/__pv_it/common/c35fdf7268947ca3e24174d2909dc9d0a7f3aac60/expr.png\" style=\"display:inline;vertical-align:middle;\" /></a>, <a class=\"ProveItLink\" href=\"../../../../../../__pv_it/common/66c90e66682f107a881f2d666959f64e2e72ad750/expr.ipynb\"><img src=\"../../../../../../__pv_it/common/66c90e66682f107a881f2d666959f64e2e72ad750/expr.png\" style=\"display:inline;vertical-align:middle;\" /></a> : <a class=\"ProveItLink\" href=\"../2b94b2e0e33bd8f0c95acf910c4845e1d4735a340/expr.ipynb\"><img src=\"../2b94b2e0e33bd8f0c95acf910c4845e1d4735a340/expr.png\" style=\"display:inline;vertical-align:middle;\" /></a>, <a class=\"ProveItLink\" href=\"../../../../../../__pv_it/common/4a5db8cc5c67969ec864bd3ea598be37cb6f5e550/expr.ipynb\"><img src=\"../../../../../../__pv_it/common/4a5db8cc5c67969ec864bd3ea598be37cb6f5e550/expr.png\" style=\"display:inline;vertical-align:middle;\" /></a> : <a class=\"ProveItLink\" href=\"../309a0578e332a4b9c66676f8234112dc1fe1c60b0/expr.ipynb\"><img src=\"../309a0578e332a4b9c66676f8234112dc1fe1c60b0/expr.png\" style=\"display:inline;vertical-align:middle;\" /></a>, <a class=\"ProveItLink\" href=\"../../../../../../__pv_it/common/9a9d28748f90dec84e90f2ace4610208194e524e0/expr.ipynb\"><img src=\"../../../../../../__pv_it/common/9a9d28748f90dec84e90f2ace4610208194e524e0/expr.png\" style=\"display:inline;vertical-align:middle;\" /></a> : <a class=\"ProveItLink\" href=\"../1a4193f1deeaf7a4a6b6289328d46189ae6a257f0/expr.ipynb\"><img src=\"../1a4193f1deeaf7a4a6b6289328d46189ae6a257f0/expr.png\" style=\"display:inline;vertical-align:middle;\" /></a></span></td></tr><tr><td><a name=\"proveit.logic.sets.enumeration.demonstrations.dde5c04e792621556647ebd048ad4a6b708961040_step1\">1</a></td><td>theorem</td><td></td><td><span style=\"font-size:20px;\"> <a class=\"ProveItLink\" href=\"../../../_theory_nbs_/proofs/in_enumerated_set/thm_proof.ipynb\" style=\"text-decoration: none\">&nbsp;&#x22A2;&nbsp;&nbsp;</a><a class=\"ProveItLink\" href=\"../../theorems/5193be5de7a0ecb4da86a96de06f8376b69e84fc0/expr.ipynb\"><img src=\"../../theorems/5193be5de7a0ecb4da86a96de06f8376b69e84fc0/expr.png\" style=\"display:inline;vertical-align:middle;\" /></a></span></td></tr>\n",
       "<tr><td>&nbsp;</td><td colspan=4 style-\"text-align:left\"><a class=\"ProveItLink\" href=\"../../../_theory_nbs_/proofs/in_enumerated_set/thm_proof.ipynb\">proveit.logic.sets.enumeration.in_enumerated_set</a></td></tr><tr><td><a name=\"proveit.logic.sets.enumeration.demonstrations.dde5c04e792621556647ebd048ad4a6b708961040_step2\">2</a></td><td>theorem</td><td></td><td><span style=\"font-size:20px;\"> <a class=\"ProveItLink\" href=\"../../../../../../numbers/numerals/decimals/_theory_nbs_/proofs/nat3/thm_proof.ipynb\" style=\"text-decoration: none\">&nbsp;&#x22A2;&nbsp;&nbsp;</a><a class=\"ProveItLink\" href=\"../../../../../../numbers/numerals/decimals/__pv_it/theorems/e4ad650ff99f925d2910dde36e2627a56625cb1f0/expr.ipynb\"><img src=\"../../../../../../numbers/numerals/decimals/__pv_it/theorems/e4ad650ff99f925d2910dde36e2627a56625cb1f0/expr.png\" style=\"display:inline;vertical-align:middle;\" /></a></span></td></tr>\n",
       "<tr><td>&nbsp;</td><td colspan=4 style-\"text-align:left\"><a class=\"ProveItLink\" href=\"../../../../../../numbers/numerals/decimals/_theory_nbs_/proofs/nat3/thm_proof.ipynb\">proveit.numbers.numerals.decimals.nat3</a></td></tr><tr><td><a name=\"proveit.logic.sets.enumeration.demonstrations.dde5c04e792621556647ebd048ad4a6b708961040_step3\">3</a></td><td>axiom</td><td></td><td><span style=\"font-size:20px;\"> <a class=\"ProveItLink\" href=\"../../../../../../numbers/number_sets/natural_numbers/_theory_nbs_/axioms.ipynb#zero_in_nats\" style=\"text-decoration: none\">&nbsp;&#x22A2;&nbsp;&nbsp;</a><a class=\"ProveItLink\" href=\"../../../../../../numbers/number_sets/natural_numbers/__pv_it/axioms/0b15b4387138326157a681ee81e504aafbe547fc0/expr.ipynb\"><img src=\"../../../../../../numbers/number_sets/natural_numbers/__pv_it/axioms/0b15b4387138326157a681ee81e504aafbe547fc0/expr.png\" style=\"display:inline;vertical-align:middle;\" /></a></span></td></tr>\n",
       "<tr><td>&nbsp;</td><td colspan=4 style-\"text-align:left\"><a class=\"ProveItLink\" href=\"../../../../../../numbers/number_sets/natural_numbers/_theory_nbs_/axioms.ipynb#zero_in_nats\">proveit.numbers.number_sets.natural_numbers.zero_in_nats</a></td></tr><tr><td><a name=\"proveit.logic.sets.enumeration.demonstrations.dde5c04e792621556647ebd048ad4a6b708961040_step4\">4</a></td><td>instantiation</td><td><a href=\"#proveit.logic.sets.enumeration.demonstrations.dde5c04e792621556647ebd048ad4a6b708961040_step6\">6</a></td><td><span style=\"font-size:20px;\"> <a class=\"ProveItLink\" href=\"../d5aa223aec7b9ca525bbf33fd130c3b2af8d85d70/proof.ipynb\" style=\"text-decoration: none\">&nbsp;&#x22A2;&nbsp;&nbsp;</a><a class=\"ProveItLink\" href=\"../1982c87e72945ece030ae052a510ef8f75814e4d0/expr.ipynb\"><img src=\"../1982c87e72945ece030ae052a510ef8f75814e4d0/expr.png\" style=\"display:inline;vertical-align:middle;\" /></a></span></td></tr>\n",
       "<tr><td>&nbsp;</td><td colspan=4 style=\"text-align:left\"><span style=\"font-size:20px;\"><a class=\"ProveItLink\" href=\"../../../../../../__pv_it/common/66c90e66682f107a881f2d666959f64e2e72ad750/expr.ipynb\"><img src=\"../../../../../../__pv_it/common/66c90e66682f107a881f2d666959f64e2e72ad750/expr.png\" style=\"display:inline;vertical-align:middle;\" /></a> : <a class=\"ProveItLink\" href=\"../909b89a3e95f0d80c1388462401e454b69046bc50/expr.ipynb\"><img src=\"../909b89a3e95f0d80c1388462401e454b69046bc50/expr.png\" style=\"display:inline;vertical-align:middle;\" /></a>, <a class=\"ProveItLink\" href=\"../../../../../../__pv_it/common/4a5db8cc5c67969ec864bd3ea598be37cb6f5e550/expr.ipynb\"><img src=\"../../../../../../__pv_it/common/4a5db8cc5c67969ec864bd3ea598be37cb6f5e550/expr.png\" style=\"display:inline;vertical-align:middle;\" /></a> : <a class=\"ProveItLink\" href=\"../35d21446925b9fdca8fdf7569e9b3e58fec7c2850/expr.ipynb\"><img src=\"../35d21446925b9fdca8fdf7569e9b3e58fec7c2850/expr.png\" style=\"display:inline;vertical-align:middle;\" /></a>, <a class=\"ProveItLink\" href=\"../../../../../../__pv_it/common/9a9d28748f90dec84e90f2ace4610208194e524e0/expr.ipynb\"><img src=\"../../../../../../__pv_it/common/9a9d28748f90dec84e90f2ace4610208194e524e0/expr.png\" style=\"display:inline;vertical-align:middle;\" /></a> : <a class=\"ProveItLink\" href=\"../93d8dc5c772818803dd86ad3e00ae63e78bbd69e0/expr.ipynb\"><img src=\"../93d8dc5c772818803dd86ad3e00ae63e78bbd69e0/expr.png\" style=\"display:inline;vertical-align:middle;\" /></a></span></td></tr><tr><td><a name=\"proveit.logic.sets.enumeration.demonstrations.dde5c04e792621556647ebd048ad4a6b708961040_step5\">5</a></td><td>theorem</td><td></td><td><span style=\"font-size:20px;\"> <a class=\"ProveItLink\" href=\"../../../../../../core_expr_types/tuples/_theory_nbs_/proofs/tuple_len_0_typical_eq/thm_proof.ipynb\" style=\"text-decoration: none\">&nbsp;&#x22A2;&nbsp;&nbsp;</a><a class=\"ProveItLink\" href=\"../../../../../../core_expr_types/tuples/__pv_it/theorems/f54d4023c967cc1c07815a58425e67c5b8a1a22c0/expr.ipynb\"><img src=\"../../../../../../core_expr_types/tuples/__pv_it/theorems/f54d4023c967cc1c07815a58425e67c5b8a1a22c0/expr.png\" style=\"display:inline;vertical-align:middle;\" /></a></span></td></tr>\n",
       "<tr><td>&nbsp;</td><td colspan=4 style-\"text-align:left\"><a class=\"ProveItLink\" href=\"../../../../../../core_expr_types/tuples/_theory_nbs_/proofs/tuple_len_0_typical_eq/thm_proof.ipynb\">proveit.core_expr_types.tuples.tuple_len_0_typical_eq</a></td></tr><tr><td><a name=\"proveit.logic.sets.enumeration.demonstrations.dde5c04e792621556647ebd048ad4a6b708961040_step6\">6</a></td><td>theorem</td><td></td><td><span style=\"font-size:20px;\"> <a class=\"ProveItLink\" href=\"../../../../../../numbers/numerals/decimals/_theory_nbs_/proofs/tuple_len_3_typical_eq/thm_proof.ipynb\" style=\"text-decoration: none\">&nbsp;&#x22A2;&nbsp;&nbsp;</a><a class=\"ProveItLink\" href=\"../../../../../../numbers/numerals/decimals/__pv_it/theorems/b5f37ec1c83033091c2dde2bd9414b675cc635660/expr.ipynb\"><img src=\"../../../../../../numbers/numerals/decimals/__pv_it/theorems/b5f37ec1c83033091c2dde2bd9414b675cc635660/expr.png\" style=\"display:inline;vertical-align:middle;\" /></a></span></td></tr>\n",
       "<tr><td>&nbsp;</td><td colspan=4 style-\"text-align:left\"><a class=\"ProveItLink\" href=\"../../../../../../numbers/numerals/decimals/_theory_nbs_/proofs/tuple_len_3_typical_eq/thm_proof.ipynb\">proveit.numbers.numerals.decimals.tuple_len_3_typical_eq</a></td></tr></table>"
      ],
      "text/plain": [
       "<proveit._core_.proof._ShowProof at 0x7ff5f28d1588>"
      ]
     },
     "execution_count": 1,
     "metadata": {},
     "output_type": "execute_result"
    }
   ],
   "source": [
    "import proveit\n",
    "# Automation is not needed when only showing a stored proof:\n",
    "proveit.defaults.automation = False # This will speed things up.\n",
    "proveit.defaults.inline_pngs = False # Makes files smaller.\n",
    "%show_proof"
   ]
  },
  {
   "cell_type": "code",
   "execution_count": null,
   "metadata": {},
   "outputs": [],
   "source": []
  }
 ],
 "metadata": {
  "kernelspec": {
   "display_name": "Python 3",
   "language": "python",
   "name": "python3"
  },
  "language_info": {
   "codemirror_mode": {
    "name": "ipython",
    "version": 3
   },
   "file_extension": ".py",
   "mimetype": "text/x-python",
   "name": "python",
   "nbconvert_exporter": "python",
   "pygments_lexer": "ipython3",
   "version": "3.7.3"
  }
 },
 "nbformat": 4,
 "nbformat_minor": 1
}