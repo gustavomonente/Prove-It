{
 "cells": [
  {
   "cell_type": "markdown",
   "metadata": {},
   "source": [
    "Expression of type <a class=\"ProveItLink\" href=\"../../../../../../../../doc/html/api/proveit.logic.Forall.html\">Forall</a>\n",
    "=======================\n",
    "# from the theory of <a class=\"ProveItLink\" href=\"../../../_theory_nbs_/theory.ipynb\">proveit.logic.sets.enumeration</a>"
   ]
  },
  {
   "cell_type": "code",
   "execution_count": 1,
   "metadata": {},
   "outputs": [],
   "source": [
    "import proveit\n",
    "# Automation is not needed when building an expression:\n",
    "proveit.defaults.automation = False # This will speed things up.\n",
    "proveit.defaults.inline_pngs = False # Makes files smaller.\n",
    "%load_expr # Load the stored expression as 'stored_expr'\n",
    "# import Expression classes needed to build the expression\n",
    "from proveit import ExprRange, IndexedVar, Variable, i, k, x, y\n",
    "from proveit.logic import Equals, Forall, InSet, Or, Set\n",
    "from proveit.numbers import Natural, one"
   ]
  },
  {
   "cell_type": "code",
   "execution_count": 2,
   "metadata": {},
   "outputs": [
    {
     "data": {
      "text/html": [
       "<strong id=\"expr\">expr:</strong> <a class=\"ProveItLink\" href=\"expr.ipynb\"><img src=\"expr.png\" style=\"display:inline;vertical-align:middle;\" /></a><br>"
      ],
      "text/plain": [
       "expr: forall_{k in Natural} [forall_{x, y_{1}, ..y_{_a}.., y_{k}} ((x in {y_{1}, ..y_{_a}.., y_{k}}) = ((x = y_{1}) or ..(x = y_{i}).. or (x = y_{k})))]"
      ]
     },
     "execution_count": 2,
     "metadata": {},
     "output_type": "execute_result"
    }
   ],
   "source": [
    "# build up the expression from sub-expressions\n",
    "sub_expr1 = Variable(\"_a\", latex_format = r\"{_{-}a}\")\n",
    "sub_expr2 = ExprRange(sub_expr1, IndexedVar(y, sub_expr1), one, k)\n",
    "expr = Forall([k], Forall([x, sub_expr2], Equals(InSet(x, Set(sub_expr2)), Or(ExprRange(i, Equals(x, IndexedVar(y, i)), one, k)))), domains = [Natural])"
   ]
  },
  {
   "cell_type": "code",
   "execution_count": 3,
   "metadata": {},
   "outputs": [
    {
     "name": "stdout",
     "output_type": "stream",
     "text": [
      "Passed sanity check: expr matches stored_expr\n"
     ]
    }
   ],
   "source": [
    "# check that the built expression is the same as the stored expression\n",
    "assert expr == stored_expr\n",
    "assert expr._style_id == stored_expr._style_id\n",
    "print(\"Passed sanity check: expr matches stored_expr\")"
   ]
  },
  {
   "cell_type": "code",
   "execution_count": 4,
   "metadata": {},
   "outputs": [
    {
     "name": "stdout",
     "output_type": "stream",
     "text": [
      "\\forall_{k \\in \\mathbb{N}}~\\left[\\forall_{x, y_{1}, \\ldots, y_{k}}~\\left(\\left(x \\in \\left\\{y_{1}, \\ldots, y_{k}\\right\\}\\right) = \\left(\\left(x = y_{1}\\right) \\lor \\ldots \\lor \\left(x = y_{k}\\right)\\right)\\right)\\right]\n"
     ]
    }
   ],
   "source": [
    "# Show the LaTeX representation of the expression for convenience if you need it.\n",
    "print(expr.latex())"
   ]
  },
  {
   "cell_type": "code",
   "execution_count": 5,
   "metadata": {},
   "outputs": [
    {
     "data": {
      "text/html": [
       "<table>\n",
       "<tr><th>name</th><th>description</th><th>default</th><th>current value</th><th>related methods</th></tr><tr><td>with_wrapping</td><td>If 'True', wrap the Expression after the parameters</td><td>None</td><td>None/False</td><td>('with_wrapping',)</td></tr>\n",
       "<tr><td>wrap_params</td><td>If 'True', wraps every two parameters AND wraps the Expression after the parameters</td><td>None</td><td>None/False</td><td>('with_params',)</td></tr>\n",
       "<tr><td>justification</td><td>justify to the 'left', 'center', or 'right' in the array cells</td><td>center</td><td>center</td><td>('with_justification',)</td></tr>\n",
       "</table>\n"
      ],
      "text/plain": [
       "style name: with_wrapping\n",
       "description: If 'True', wrap the Expression after the parameters\n",
       "default: None\n",
       "current value: None/False\n",
       "related methods: ('with_wrapping',)\n",
       "style name: wrap_params\n",
       "description: If 'True', wraps every two parameters AND wraps the Expression after the parameters\n",
       "default: None\n",
       "current value: None/False\n",
       "related methods: ('with_params',)\n",
       "style name: justification\n",
       "description: justify to the 'left', 'center', or 'right' in the array cells\n",
       "default: center\n",
       "current value: center\n",
       "related methods: ('with_justification',)"
      ]
     },
     "execution_count": 5,
     "metadata": {},
     "output_type": "execute_result"
    }
   ],
   "source": [
    "expr.style_options()"
   ]
  },
  {
   "cell_type": "code",
   "execution_count": 6,
   "metadata": {},
   "outputs": [
    {
     "data": {
      "text/html": [
       "<table><tr><th>&nbsp;</th><th>core type</th><th>sub-expressions</th><th>expression</th></tr>\n",
       "<tr><td>0</td><td>Operation</td><td>operator:&nbsp;6<br>operand:&nbsp;2<br></td><td><a class=\"ProveItLink\" href=\"expr.ipynb\"><img src=\"expr.png\" style=\"display:inline;vertical-align:middle;\" /></a></td></tr>\n",
       "<tr><td>1</td><td>ExprTuple</td><td>2</td><td><a class=\"ProveItLink\" href=\"../1a39ceb05607758ac3676d072f91e73307f9423d0/expr.ipynb\"><img src=\"../1a39ceb05607758ac3676d072f91e73307f9423d0/expr.png\" style=\"display:inline;vertical-align:middle;\" /></a></td></tr>\n",
       "<tr><td>2</td><td>Lambda</td><td>parameter:&nbsp;29<br>body:&nbsp;3<br></td><td><a class=\"ProveItLink\" href=\"../8ad059bfa51e35ed57e2999a7866a2599fbf31d80/expr.ipynb\"><img src=\"../8ad059bfa51e35ed57e2999a7866a2599fbf31d80/expr.png\" style=\"display:inline;vertical-align:middle;\" /></a></td></tr>\n",
       "<tr><td>3</td><td>Conditional</td><td>value:&nbsp;4<br>condition:&nbsp;5<br></td><td><a class=\"ProveItLink\" href=\"../b89952e8bff3970f3a19d1dc43e31b66724bd3e30/expr.ipynb\"><img src=\"../b89952e8bff3970f3a19d1dc43e31b66724bd3e30/expr.png\" style=\"display:inline;vertical-align:middle;\" /></a></td></tr>\n",
       "<tr><td>4</td><td>Operation</td><td>operator:&nbsp;6<br>operand:&nbsp;9<br></td><td><a class=\"ProveItLink\" href=\"../1f4f7a5ee828d1dd3e6167fac78061f9c9ade5a40/expr.ipynb\"><img src=\"../1f4f7a5ee828d1dd3e6167fac78061f9c9ade5a40/expr.png\" style=\"display:inline;vertical-align:middle;\" /></a></td></tr>\n",
       "<tr><td>5</td><td>Operation</td><td>operator:&nbsp;16<br>operands:&nbsp;8<br></td><td><a class=\"ProveItLink\" href=\"../bfb51b20218eda15111bf9094481a2c5d106a87b0/expr.ipynb\"><img src=\"../bfb51b20218eda15111bf9094481a2c5d106a87b0/expr.png\" style=\"display:inline;vertical-align:middle;\" /></a></td></tr>\n",
       "<tr><td>6</td><td>Literal</td><td></td><td><a class=\"ProveItLink\" href=\"../../../../../booleans/quantification/universality/__pv_it/common/684d35ba98fcbf8ca5011f865e530a51e77730630/expr.ipynb\"><img src=\"../../../../../booleans/quantification/universality/__pv_it/common/684d35ba98fcbf8ca5011f865e530a51e77730630/expr.png\" style=\"display:inline;vertical-align:middle;\" /></a></td></tr>\n",
       "<tr><td>7</td><td>ExprTuple</td><td>9</td><td><a class=\"ProveItLink\" href=\"../effe9846082e7004678587d5c644e79f05643f510/expr.ipynb\"><img src=\"../effe9846082e7004678587d5c644e79f05643f510/expr.png\" style=\"display:inline;vertical-align:middle;\" /></a></td></tr>\n",
       "<tr><td>8</td><td>ExprTuple</td><td>29, 10</td><td><a class=\"ProveItLink\" href=\"../bc9a6db39205d2144977c53a440fb629f2bbebe70/expr.ipynb\"><img src=\"../bc9a6db39205d2144977c53a440fb629f2bbebe70/expr.png\" style=\"display:inline;vertical-align:middle;\" /></a></td></tr>\n",
       "<tr><td>9</td><td>Lambda</td><td>parameters:&nbsp;11<br>body:&nbsp;12<br></td><td><a class=\"ProveItLink\" href=\"../2aa4a6e5045d66bc6b0136e0b6bc1ec6641406830/expr.ipynb\"><img src=\"../2aa4a6e5045d66bc6b0136e0b6bc1ec6641406830/expr.png\" style=\"display:inline;vertical-align:middle;\" /></a></td></tr>\n",
       "<tr><td>10</td><td>Literal</td><td></td><td><a class=\"ProveItLink\" href=\"../../../../../../numbers/number_sets/natural_numbers/__pv_it/common/85c8b43c90a7392ebb5459360d343dfa7c7408b50/expr.ipynb\"><img src=\"../../../../../../numbers/number_sets/natural_numbers/__pv_it/common/85c8b43c90a7392ebb5459360d343dfa7c7408b50/expr.png\" style=\"display:inline;vertical-align:middle;\" /></a></td></tr>\n",
       "<tr><td>11</td><td>ExprTuple</td><td>33, 25</td><td><a class=\"ProveItLink\" href=\"../4aa41c3c1dbb1adda4ba099f6f06d43eeab7ae240/expr.ipynb\"><img src=\"../4aa41c3c1dbb1adda4ba099f6f06d43eeab7ae240/expr.png\" style=\"display:inline;vertical-align:middle;\" /></a></td></tr>\n",
       "<tr><td>12</td><td>Operation</td><td>operator:&nbsp;30<br>operands:&nbsp;13<br></td><td><a class=\"ProveItLink\" href=\"../723d79506ede40e77ba107f1d9025da105692fbb0/expr.ipynb\"><img src=\"../723d79506ede40e77ba107f1d9025da105692fbb0/expr.png\" style=\"display:inline;vertical-align:middle;\" /></a></td></tr>\n",
       "<tr><td>13</td><td>ExprTuple</td><td>14, 15</td><td><a class=\"ProveItLink\" href=\"../746b3471658e251175ced7dd0b998c06af4ec4b70/expr.ipynb\"><img src=\"../746b3471658e251175ced7dd0b998c06af4ec4b70/expr.png\" style=\"display:inline;vertical-align:middle;\" /></a></td></tr>\n",
       "<tr><td>14</td><td>Operation</td><td>operator:&nbsp;16<br>operands:&nbsp;17<br></td><td><a class=\"ProveItLink\" href=\"../3593333fd44f711913cdc8491ba295d3026900970/expr.ipynb\"><img src=\"../3593333fd44f711913cdc8491ba295d3026900970/expr.png\" style=\"display:inline;vertical-align:middle;\" /></a></td></tr>\n",
       "<tr><td>15</td><td>Operation</td><td>operator:&nbsp;18<br>operands:&nbsp;19<br></td><td><a class=\"ProveItLink\" href=\"../c929022876257c0c5949e4b597ac44762df8a9de0/expr.ipynb\"><img src=\"../c929022876257c0c5949e4b597ac44762df8a9de0/expr.png\" style=\"display:inline;vertical-align:middle;\" /></a></td></tr>\n",
       "<tr><td>16</td><td>Literal</td><td></td><td><a class=\"ProveItLink\" href=\"../../../../membership/__pv_it/common/7171deca84f71f47a6ec7696972d1632274a12880/expr.ipynb\"><img src=\"../../../../membership/__pv_it/common/7171deca84f71f47a6ec7696972d1632274a12880/expr.png\" style=\"display:inline;vertical-align:middle;\" /></a></td></tr>\n",
       "<tr><td>17</td><td>ExprTuple</td><td>33, 20</td><td><a class=\"ProveItLink\" href=\"../31520efbff204d5df1a6bd7f30b9de48981d8d300/expr.ipynb\"><img src=\"../31520efbff204d5df1a6bd7f30b9de48981d8d300/expr.png\" style=\"display:inline;vertical-align:middle;\" /></a></td></tr>\n",
       "<tr><td>18</td><td>Literal</td><td></td><td><a class=\"ProveItLink\" href=\"../../../../../booleans/disjunction/__pv_it/common/0e5dcae3232d8ebdc0777b8ce92ce453a450f6c30/expr.ipynb\"><img src=\"../../../../../booleans/disjunction/__pv_it/common/0e5dcae3232d8ebdc0777b8ce92ce453a450f6c30/expr.png\" style=\"display:inline;vertical-align:middle;\" /></a></td></tr>\n",
       "<tr><td>19</td><td>ExprTuple</td><td>21</td><td><a class=\"ProveItLink\" href=\"../6a845854e7f40b9c378a6a07b85eb65455b78e250/expr.ipynb\"><img src=\"../6a845854e7f40b9c378a6a07b85eb65455b78e250/expr.png\" style=\"display:inline;vertical-align:middle;\" /></a></td></tr>\n",
       "<tr><td>20</td><td>Operation</td><td>operator:&nbsp;22<br>operands:&nbsp;23<br></td><td><a class=\"ProveItLink\" href=\"../bc00196864f005f6669f7a70e4acbe52e105e4ec0/expr.ipynb\"><img src=\"../bc00196864f005f6669f7a70e4acbe52e105e4ec0/expr.png\" style=\"display:inline;vertical-align:middle;\" /></a></td></tr>\n",
       "<tr><td>21</td><td>ExprRange</td><td>lambda_map:&nbsp;24<br>start_index:&nbsp;28<br>end_index:&nbsp;29<br></td><td><a class=\"ProveItLink\" href=\"../3c021e3379cc1b684f2fafdbe6f92c51bfa193660/expr.ipynb\"><img src=\"../3c021e3379cc1b684f2fafdbe6f92c51bfa193660/expr.png\" style=\"display:inline;vertical-align:middle;\" /></a></td></tr>\n",
       "<tr><td>22</td><td>Literal</td><td></td><td><a class=\"ProveItLink\" href=\"../../common/f7caf702081f903a6ea3d95d680568dd78698f5a0/expr.ipynb\"><img src=\"../../common/f7caf702081f903a6ea3d95d680568dd78698f5a0/expr.png\" style=\"display:inline;vertical-align:middle;\" /></a></td></tr>\n",
       "<tr><td>23</td><td>ExprTuple</td><td>25</td><td><a class=\"ProveItLink\" href=\"../b6838984a8d88380ecced73908f5f068c5a1114d0/expr.ipynb\"><img src=\"../b6838984a8d88380ecced73908f5f068c5a1114d0/expr.png\" style=\"display:inline;vertical-align:middle;\" /></a></td></tr>\n",
       "<tr><td>24</td><td>Lambda</td><td>parameter:&nbsp;39<br>body:&nbsp;26<br></td><td><a class=\"ProveItLink\" href=\"../../../../__pv_it/common/b2570550f0d30ebba51296587a4d53e7362190ff0/expr.ipynb\"><img src=\"../../../../__pv_it/common/b2570550f0d30ebba51296587a4d53e7362190ff0/expr.png\" style=\"display:inline;vertical-align:middle;\" /></a></td></tr>\n",
       "<tr><td>25</td><td>ExprRange</td><td>lambda_map:&nbsp;27<br>start_index:&nbsp;28<br>end_index:&nbsp;29<br></td><td><a class=\"ProveItLink\" href=\"../c518141455f8c02e267b6ada7cd444e4563fdd7c0/expr.ipynb\"><img src=\"../c518141455f8c02e267b6ada7cd444e4563fdd7c0/expr.png\" style=\"display:inline;vertical-align:middle;\" /></a></td></tr>\n",
       "<tr><td>26</td><td>Operation</td><td>operator:&nbsp;30<br>operands:&nbsp;31<br></td><td><a class=\"ProveItLink\" href=\"../../../../__pv_it/common/0922ab4dd803b93ac30bf04fc70178e63cff48050/expr.ipynb\"><img src=\"../../../../__pv_it/common/0922ab4dd803b93ac30bf04fc70178e63cff48050/expr.png\" style=\"display:inline;vertical-align:middle;\" /></a></td></tr>\n",
       "<tr><td>27</td><td>Lambda</td><td>parameter:&nbsp;38<br>body:&nbsp;32<br></td><td><a class=\"ProveItLink\" href=\"../../../../../../core_expr_types/__pv_it/common/e85c6dca3c2891a25500913ce6fa75404b16995d0/expr.ipynb\"><img src=\"../../../../../../core_expr_types/__pv_it/common/e85c6dca3c2891a25500913ce6fa75404b16995d0/expr.png\" style=\"display:inline;vertical-align:middle;\" /></a></td></tr>\n",
       "<tr><td>28</td><td>Literal</td><td></td><td><a class=\"ProveItLink\" href=\"../../../../../../numbers/numerals/__pv_it/common/d278e359da0695d9652dd541d45264f93703e2e40/expr.ipynb\"><img src=\"../../../../../../numbers/numerals/__pv_it/common/d278e359da0695d9652dd541d45264f93703e2e40/expr.png\" style=\"display:inline;vertical-align:middle;\" /></a></td></tr>\n",
       "<tr><td>29</td><td>Variable</td><td></td><td><a class=\"ProveItLink\" href=\"../../../../../../__pv_it/common/b9fd37fc619babc74a6203459f110251586df6970/expr.ipynb\"><img src=\"../../../../../../__pv_it/common/b9fd37fc619babc74a6203459f110251586df6970/expr.png\" style=\"display:inline;vertical-align:middle;\" /></a></td></tr>\n",
       "<tr><td>30</td><td>Literal</td><td></td><td><a class=\"ProveItLink\" href=\"../../../../../equality/__pv_it/common/731dd3955b346c1320ed5c0ba7a618bcda61457d0/expr.ipynb\"><img src=\"../../../../../equality/__pv_it/common/731dd3955b346c1320ed5c0ba7a618bcda61457d0/expr.png\" style=\"display:inline;vertical-align:middle;\" /></a></td></tr>\n",
       "<tr><td>31</td><td>ExprTuple</td><td>33, 34</td><td><a class=\"ProveItLink\" href=\"../../../../__pv_it/common/6f48e522cd0d8710de0f39cfd216848533e6b5e70/expr.ipynb\"><img src=\"../../../../__pv_it/common/6f48e522cd0d8710de0f39cfd216848533e6b5e70/expr.png\" style=\"display:inline;vertical-align:middle;\" /></a></td></tr>\n",
       "<tr><td>32</td><td>IndexedVar</td><td>variable:&nbsp;36<br>index:&nbsp;38<br></td><td><a class=\"ProveItLink\" href=\"../../../../../../core_expr_types/__pv_it/common/cfe245429f738680263dd9e15adfb363654edf9a0/expr.ipynb\"><img src=\"../../../../../../core_expr_types/__pv_it/common/cfe245429f738680263dd9e15adfb363654edf9a0/expr.png\" style=\"display:inline;vertical-align:middle;\" /></a></td></tr>\n",
       "<tr><td>33</td><td>Variable</td><td></td><td><a class=\"ProveItLink\" href=\"../../../../../../__pv_it/common/a2581dc5df71d9a30bad37de14965fa5fec97a240/expr.ipynb\"><img src=\"../../../../../../__pv_it/common/a2581dc5df71d9a30bad37de14965fa5fec97a240/expr.png\" style=\"display:inline;vertical-align:middle;\" /></a></td></tr>\n",
       "<tr><td>34</td><td>IndexedVar</td><td>variable:&nbsp;36<br>index:&nbsp;39<br></td><td><a class=\"ProveItLink\" href=\"../../../../__pv_it/common/c12ddb1857655994d0cbbf949bbf75ffd4b4652e0/expr.ipynb\"><img src=\"../../../../__pv_it/common/c12ddb1857655994d0cbbf949bbf75ffd4b4652e0/expr.png\" style=\"display:inline;vertical-align:middle;\" /></a></td></tr>\n",
       "<tr><td>35</td><td>ExprTuple</td><td>38</td><td><a class=\"ProveItLink\" href=\"../../../../../../core_expr_types/__pv_it/common/ecf50ade416ab41c42c9f4e777b4c862cd9469670/expr.ipynb\"><img src=\"../../../../../../core_expr_types/__pv_it/common/ecf50ade416ab41c42c9f4e777b4c862cd9469670/expr.png\" style=\"display:inline;vertical-align:middle;\" /></a></td></tr>\n",
       "<tr><td>36</td><td>Variable</td><td></td><td><a class=\"ProveItLink\" href=\"../../../../../../__pv_it/common/0f21cbfd5644a1cae6781c1d58354abc2ffbc9000/expr.ipynb\"><img src=\"../../../../../../__pv_it/common/0f21cbfd5644a1cae6781c1d58354abc2ffbc9000/expr.png\" style=\"display:inline;vertical-align:middle;\" /></a></td></tr>\n",
       "<tr><td>37</td><td>ExprTuple</td><td>39</td><td><a class=\"ProveItLink\" href=\"../../../../__pv_it/common/6420c4d2520c27c1137ad22005291620057456040/expr.ipynb\"><img src=\"../../../../__pv_it/common/6420c4d2520c27c1137ad22005291620057456040/expr.png\" style=\"display:inline;vertical-align:middle;\" /></a></td></tr>\n",
       "<tr><td>38</td><td>Variable</td><td></td><td><a class=\"ProveItLink\" href=\"../../../../../../core_expr_types/__pv_it/common/9e6d9d5d7eeb0342cf5bca68def0eb165a1a9bb10/expr.ipynb\"><img src=\"../../../../../../core_expr_types/__pv_it/common/9e6d9d5d7eeb0342cf5bca68def0eb165a1a9bb10/expr.png\" style=\"display:inline;vertical-align:middle;\" /></a></td></tr>\n",
       "<tr><td>39</td><td>Variable</td><td></td><td><a class=\"ProveItLink\" href=\"../../../../../../__pv_it/common/575a6156bb1c87c5beeaf38c302b5905ad57f5780/expr.ipynb\"><img src=\"../../../../../../__pv_it/common/575a6156bb1c87c5beeaf38c302b5905ad57f5780/expr.png\" style=\"display:inline;vertical-align:middle;\" /></a></td></tr>\n",
       "</table>\n"
      ],
      "text/plain": [
       "0. forall_{k in Natural} [forall_{x, y_{1}, ..y_{_a}.., y_{k}} ((x in {y_{1}, ..y_{_a}.., y_{k}}) = ((x = y_{1}) or ..(x = y_{i}).. or (x = y_{k})))]\n",
       "   core type: Operation\n",
       "   operator: 6\n",
       "   operand: 2\n",
       "1. (k -> {forall_{x, y_{1}, ..y_{_a}.., y_{k}} ((x in {y_{1}, ..y_{_a}.., y_{k}}) = ((x = y_{1}) or ..(x = y_{i}).. or (x = y_{k}))) if k in Natural.)\n",
       "   core type: ExprTuple\n",
       "   sub-expressions: 2\n",
       "2. k -> {forall_{x, y_{1}, ..y_{_a}.., y_{k}} ((x in {y_{1}, ..y_{_a}.., y_{k}}) = ((x = y_{1}) or ..(x = y_{i}).. or (x = y_{k}))) if k in Natural.\n",
       "   core type: Lambda\n",
       "   parameter: 29\n",
       "   body: 3\n",
       "3. {forall_{x, y_{1}, ..y_{_a}.., y_{k}} ((x in {y_{1}, ..y_{_a}.., y_{k}}) = ((x = y_{1}) or ..(x = y_{i}).. or (x = y_{k}))) if k in Natural.\n",
       "   core type: Conditional\n",
       "   value: 4\n",
       "   condition: 5\n",
       "4. forall_{x, y_{1}, ..y_{_a}.., y_{k}} ((x in {y_{1}, ..y_{_a}.., y_{k}}) = ((x = y_{1}) or ..(x = y_{i}).. or (x = y_{k})))\n",
       "   core type: Operation\n",
       "   operator: 6\n",
       "   operand: 9\n",
       "5. k in Natural\n",
       "   core type: Operation\n",
       "   operator: 16\n",
       "   operands: 8\n",
       "6. forall\n",
       "   core type: Literal\n",
       "   sub-expressions: \n",
       "7. ((x, y_{1}, ..y_{_a}.., y_{k}) -> ((x in {y_{1}, ..y_{_a}.., y_{k}}) = ((x = y_{1}) or ..(x = y_{i}).. or (x = y_{k}))))\n",
       "   core type: ExprTuple\n",
       "   sub-expressions: 9\n",
       "8. (k, Natural)\n",
       "   core type: ExprTuple\n",
       "   sub-expressions: 29, 10\n",
       "9. (x, y_{1}, ..y_{_a}.., y_{k}) -> ((x in {y_{1}, ..y_{_a}.., y_{k}}) = ((x = y_{1}) or ..(x = y_{i}).. or (x = y_{k})))\n",
       "   core type: Lambda\n",
       "   parameters: 11\\n   body: 12\n",
       "10. Natural\n",
       "    core type: Literal\n",
       "    sub-expressions: \n",
       "11. (x, y_{1}, ..y_{_a}.., y_{k})\n",
       "    core type: ExprTuple\n",
       "    sub-expressions: 33, 25\n",
       "12. (x in {y_{1}, ..y_{_a}.., y_{k}}) = ((x = y_{1}) or ..(x = y_{i}).. or (x = y_{k}))\n",
       "    core type: Operation\n",
       "    operator: 30\n",
       "    operands: 13\n",
       "13. (x in {y_{1}, ..y_{_a}.., y_{k}}, (x = y_{1}) or ..(x = y_{i}).. or (x = y_{k}))\n",
       "    core type: ExprTuple\n",
       "    sub-expressions: 14, 15\n",
       "14. x in {y_{1}, ..y_{_a}.., y_{k}}\n",
       "    core type: Operation\n",
       "    operator: 16\n",
       "    operands: 17\n",
       "15. (x = y_{1}) or ..(x = y_{i}).. or (x = y_{k})\n",
       "    core type: Operation\n",
       "    operator: 18\n",
       "    operands: 19\n",
       "16. in\n",
       "    core type: Literal\n",
       "    sub-expressions: \n",
       "17. (x, {y_{1}, ..y_{_a}.., y_{k}})\n",
       "    core type: ExprTuple\n",
       "    sub-expressions: 33, 20\n",
       "18. or\n",
       "    core type: Literal\n",
       "    sub-expressions: \n",
       "19. (x = y_{1}, ..x = y_{i}.., x = y_{k})\n",
       "    core type: ExprTuple\n",
       "    sub-expressions: 21\n",
       "20. {y_{1}, ..y_{_a}.., y_{k}}\n",
       "    core type: Operation\n",
       "    operator: 22\n",
       "    operands: 23\n",
       "21. (x = y_{1}), ..(x = y_{i}).., (x = y_{k})\n",
       "    core type: ExprRange\n",
       "    lambda_map: 24\n",
       "    start_index: 28\n",
       "    end_index: 29\n",
       "22. Set\n",
       "    core type: Literal\n",
       "    sub-expressions: \n",
       "23. (y_{1}, ..y_{_a}.., y_{k})\n",
       "    core type: ExprTuple\n",
       "    sub-expressions: 25\n",
       "24. i -> (x = y_{i})\n",
       "    core type: Lambda\n",
       "    parameter: 39\n",
       "    body: 26\n",
       "25. y_{1}, ..y_{_a}.., y_{k}\n",
       "    core type: ExprRange\n",
       "    lambda_map: 27\n",
       "    start_index: 28\n",
       "    end_index: 29\n",
       "26. x = y_{i}\n",
       "    core type: Operation\n",
       "    operator: 30\n",
       "    operands: 31\n",
       "27. _a -> y_{_a}\n",
       "    core type: Lambda\n",
       "    parameter: 38\n",
       "    body: 32\n",
       "28. 1\n",
       "    core type: Literal\n",
       "    sub-expressions: \n",
       "29. k\n",
       "    core type: Variable\n",
       "    sub-expressions: \n",
       "30. =\n",
       "    core type: Literal\n",
       "    sub-expressions: \n",
       "31. (x, y_{i})\n",
       "    core type: ExprTuple\n",
       "    sub-expressions: 33, 34\n",
       "32. y_{_a}\n",
       "    core type: IndexedVar\n",
       "variable: 36\n",
       "index: 38\n",
       "33. x\n",
       "    core type: Variable\n",
       "    sub-expressions: \n",
       "34. y_{i}\n",
       "    core type: IndexedVar\n",
       "variable: 36\n",
       "index: 39\n",
       "35. (_a)\n",
       "    core type: ExprTuple\n",
       "    sub-expressions: 38\n",
       "36. y\n",
       "    core type: Variable\n",
       "    sub-expressions: \n",
       "37. (i)\n",
       "    core type: ExprTuple\n",
       "    sub-expressions: 39\n",
       "38. _a\n",
       "    core type: Variable\n",
       "    sub-expressions: \n",
       "39. i\n",
       "    core type: Variable\n",
       "    sub-expressions: "
      ]
     },
     "execution_count": 6,
     "metadata": {},
     "output_type": "execute_result"
    }
   ],
   "source": [
    "# display the expression information\n",
    "expr.expr_info()"
   ]
  },
  {
   "cell_type": "code",
   "execution_count": null,
   "metadata": {},
   "outputs": [],
   "source": []
  }
 ],
 "metadata": {
  "kernelspec": {
   "display_name": "Python 3",
   "language": "python",
   "name": "python3"
  }
 },
 "nbformat": 4,
 "nbformat_minor": 0
}