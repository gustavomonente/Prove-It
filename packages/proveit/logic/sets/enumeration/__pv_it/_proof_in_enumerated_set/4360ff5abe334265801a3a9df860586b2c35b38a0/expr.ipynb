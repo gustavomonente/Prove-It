{
 "cells": [
  {
   "cell_type": "markdown",
   "metadata": {},
   "source": [
    "Expression of type <a class=\"ProveItLink\" href=\"../../../../../../../../doc/html/api/proveit.logic.Equals.html\">Equals</a>\n",
    "=======================\n",
    "# from the theory of <a class=\"ProveItLink\" href=\"../../../_theory_nbs_/theory.ipynb\">proveit.logic.sets.enumeration</a>"
   ]
  },
  {
   "cell_type": "code",
   "execution_count": 1,
   "metadata": {},
   "outputs": [],
   "source": [
    "import proveit\n",
    "# Automation is not needed when building an expression:\n",
    "proveit.defaults.automation = False # This will speed things up.\n",
    "proveit.defaults.inline_pngs = False # Makes files smaller.\n",
    "%load_expr # Load the stored expression as 'stored_expr'\n",
    "# import Expression classes needed to build the expression\n",
    "from proveit import ExprRange, IndexedVar, a, b, c, i, m, n\n",
    "from proveit.core_expr_types import a_1_to_m, c_1_to_n\n",
    "from proveit.logic import Equals, InSet, Or, Set\n",
    "from proveit.numbers import one"
   ]
  },
  {
   "cell_type": "code",
   "execution_count": 2,
   "metadata": {},
   "outputs": [
    {
     "data": {
      "text/html": [
       "<strong id=\"expr\">expr:</strong> <a class=\"ProveItLink\" href=\"expr.ipynb\"><img src=\"expr.png\" style=\"display:inline;vertical-align:middle;\" /></a><br>"
      ],
      "text/plain": [
       "expr: (b in {a_{1}, ..a_{_a}.., a_{m}, b, c_{1}, ..c_{_a}.., c_{n}}) = ((b = a_{1}) or ..(b = a_{i}).. or (b = a_{m}) or (b = b) or (b = c_{1}) or ..(b = c_{i}).. or (b = c_{n}))"
      ]
     },
     "execution_count": 2,
     "metadata": {},
     "output_type": "execute_result"
    }
   ],
   "source": [
    "# build up the expression from sub-expressions\n",
    "expr = Equals(InSet(b, Set(a_1_to_m, b, c_1_to_n)), Or(ExprRange(i, Equals(b, IndexedVar(a, i)), one, m), Equals(b, b), ExprRange(i, Equals(b, IndexedVar(c, i)), one, n)))"
   ]
  },
  {
   "cell_type": "code",
   "execution_count": 3,
   "metadata": {},
   "outputs": [
    {
     "name": "stdout",
     "output_type": "stream",
     "text": [
      "Passed sanity check: expr matches stored_expr\n"
     ]
    }
   ],
   "source": [
    "# check that the built expression is the same as the stored expression\n",
    "assert expr == stored_expr\n",
    "assert expr._style_id == stored_expr._style_id\n",
    "print(\"Passed sanity check: expr matches stored_expr\")"
   ]
  },
  {
   "cell_type": "code",
   "execution_count": 4,
   "metadata": {},
   "outputs": [
    {
     "name": "stdout",
     "output_type": "stream",
     "text": [
      "\\left(b \\in \\left\\{a_{1}, \\ldots, a_{m}, b, c_{1}, \\ldots, c_{n}\\right\\}\\right) = \\left(\\left(b = a_{1}\\right) \\lor \\ldots \\lor \\left(b = a_{m}\\right) \\lor \\left(b = b\\right) \\lor \\left(b = c_{1}\\right) \\lor \\ldots \\lor \\left(b = c_{n}\\right)\\right)\n"
     ]
    }
   ],
   "source": [
    "# Show the LaTeX representation of the expression for convenience if you need it.\n",
    "print(expr.latex())"
   ]
  },
  {
   "cell_type": "code",
   "execution_count": 5,
   "metadata": {},
   "outputs": [
    {
     "data": {
      "text/html": [
       "<table>\n",
       "<tr><th>name</th><th>description</th><th>default</th><th>current value</th><th>related methods</th></tr><tr><td>operation</td><td>'infix' or 'function' style formatting</td><td>infix</td><td>infix</td><td></td></tr>\n",
       "<tr><td>wrap_positions</td><td>position(s) at which wrapping is to occur; '2 n - 1' is after the nth operand, '2 n' is after the nth operation.</td><td>()</td><td>()</td><td>('with_wrapping_at', 'with_wrap_before_operator', 'with_wrap_after_operator', 'wrap_positions')</td></tr>\n",
       "<tr><td>justification</td><td>if any wrap positions are set, justify to the 'left', 'center', or 'right'</td><td>center</td><td>center</td><td>('with_justification',)</td></tr>\n",
       "<tr><td>direction</td><td>Direction of the relation (normal or reversed)</td><td>normal</td><td>normal</td><td>('with_direction_reversed', 'is_reversed')</td></tr>\n",
       "</table>\n"
      ],
      "text/plain": [
       "style name: operation\n",
       "description: 'infix' or 'function' style formatting\n",
       "default: infix\n",
       "current value: infix\n",
       "related methods: ()\n",
       "style name: wrap_positions\n",
       "description: position(s) at which wrapping is to occur; '2 n - 1' is after the nth operand, '2 n' is after the nth operation.\n",
       "default: ()\n",
       "current value: ()\n",
       "related methods: ('with_wrapping_at', 'with_wrap_before_operator', 'with_wrap_after_operator', 'wrap_positions')\n",
       "style name: justification\n",
       "description: if any wrap positions are set, justify to the 'left', 'center', or 'right'\n",
       "default: center\n",
       "current value: center\n",
       "related methods: ('with_justification',)\n",
       "style name: direction\n",
       "description: Direction of the relation (normal or reversed)\n",
       "default: normal\n",
       "current value: normal\n",
       "related methods: ('with_direction_reversed', 'is_reversed')"
      ]
     },
     "execution_count": 5,
     "metadata": {},
     "output_type": "execute_result"
    }
   ],
   "source": [
    "expr.style_options()"
   ]
  },
  {
   "cell_type": "code",
   "execution_count": 6,
   "metadata": {},
   "outputs": [
    {
     "data": {
      "text/html": [
       "<table><tr><th>&nbsp;</th><th>core type</th><th>sub-expressions</th><th>expression</th></tr>\n",
       "<tr><td>0</td><td>Operation</td><td>operator:&nbsp;27<br>operands:&nbsp;1<br></td><td><a class=\"ProveItLink\" href=\"expr.ipynb\"><img src=\"expr.png\" style=\"display:inline;vertical-align:middle;\" /></a></td></tr>\n",
       "<tr><td>1</td><td>ExprTuple</td><td>2, 3</td><td><a class=\"ProveItLink\" href=\"../917ff7aa00740711d04434b408df28bf7dad71e90/expr.ipynb\"><img src=\"../917ff7aa00740711d04434b408df28bf7dad71e90/expr.png\" style=\"display:inline;vertical-align:middle;\" /></a></td></tr>\n",
       "<tr><td>2</td><td>Operation</td><td>operator:&nbsp;4<br>operands:&nbsp;5<br></td><td><a class=\"ProveItLink\" href=\"../../theorems/11ec0841d9d8978aeadb97f645cc95fe719c49f30/expr.ipynb\"><img src=\"../../theorems/11ec0841d9d8978aeadb97f645cc95fe719c49f30/expr.png\" style=\"display:inline;vertical-align:middle;\" /></a></td></tr>\n",
       "<tr><td>3</td><td>Operation</td><td>operator:&nbsp;6<br>operands:&nbsp;7<br></td><td><a class=\"ProveItLink\" href=\"../2fe0df6962b6dc897de5c6957980d552b35289740/expr.ipynb\"><img src=\"../2fe0df6962b6dc897de5c6957980d552b35289740/expr.png\" style=\"display:inline;vertical-align:middle;\" /></a></td></tr>\n",
       "<tr><td>4</td><td>Literal</td><td></td><td><a class=\"ProveItLink\" href=\"../../../../membership/__pv_it/common/7171deca84f71f47a6ec7696972d1632274a12880/expr.ipynb\"><img src=\"../../../../membership/__pv_it/common/7171deca84f71f47a6ec7696972d1632274a12880/expr.png\" style=\"display:inline;vertical-align:middle;\" /></a></td></tr>\n",
       "<tr><td>5</td><td>ExprTuple</td><td>32, 8</td><td><a class=\"ProveItLink\" href=\"../../theorems/717da9f793074fdcc593ef31dd6f03c8890d34650/expr.ipynb\"><img src=\"../../theorems/717da9f793074fdcc593ef31dd6f03c8890d34650/expr.png\" style=\"display:inline;vertical-align:middle;\" /></a></td></tr>\n",
       "<tr><td>6</td><td>Literal</td><td></td><td><a class=\"ProveItLink\" href=\"../../../../../booleans/disjunction/__pv_it/common/0e5dcae3232d8ebdc0777b8ce92ce453a450f6c30/expr.ipynb\"><img src=\"../../../../../booleans/disjunction/__pv_it/common/0e5dcae3232d8ebdc0777b8ce92ce453a450f6c30/expr.png\" style=\"display:inline;vertical-align:middle;\" /></a></td></tr>\n",
       "<tr><td>7</td><td>ExprTuple</td><td>9, 10, 11</td><td><a class=\"ProveItLink\" href=\"../12218adccbac1809dcbf0ff03baba363932cdb200/expr.ipynb\"><img src=\"../12218adccbac1809dcbf0ff03baba363932cdb200/expr.png\" style=\"display:inline;vertical-align:middle;\" /></a></td></tr>\n",
       "<tr><td>8</td><td>Operation</td><td>operator:&nbsp;12<br>operands:&nbsp;13<br></td><td><a class=\"ProveItLink\" href=\"../../theorems/527926a0ef1f99b251884c0645575116a8f4a8590/expr.ipynb\"><img src=\"../../theorems/527926a0ef1f99b251884c0645575116a8f4a8590/expr.png\" style=\"display:inline;vertical-align:middle;\" /></a></td></tr>\n",
       "<tr><td>9</td><td>ExprRange</td><td>lambda_map:&nbsp;14<br>start_index:&nbsp;24<br>end_index:&nbsp;22<br></td><td><a class=\"ProveItLink\" href=\"../91505c4c6b401aea561599e2fc1ae2f4414424bc0/expr.ipynb\"><img src=\"../91505c4c6b401aea561599e2fc1ae2f4414424bc0/expr.png\" style=\"display:inline;vertical-align:middle;\" /></a></td></tr>\n",
       "<tr><td>10</td><td>Operation</td><td>operator:&nbsp;27<br>operands:&nbsp;15<br></td><td><a class=\"ProveItLink\" href=\"../137abbb4976d99c620fd7d0ca8c04c94e613f20b0/expr.ipynb\"><img src=\"../137abbb4976d99c620fd7d0ca8c04c94e613f20b0/expr.png\" style=\"display:inline;vertical-align:middle;\" /></a></td></tr>\n",
       "<tr><td>11</td><td>ExprRange</td><td>lambda_map:&nbsp;16<br>start_index:&nbsp;24<br>end_index:&nbsp;25<br></td><td><a class=\"ProveItLink\" href=\"../0d0fb3331de2a5152848208954630dd67d4ea8ce0/expr.ipynb\"><img src=\"../0d0fb3331de2a5152848208954630dd67d4ea8ce0/expr.png\" style=\"display:inline;vertical-align:middle;\" /></a></td></tr>\n",
       "<tr><td>12</td><td>Literal</td><td></td><td><a class=\"ProveItLink\" href=\"../../common/f7caf702081f903a6ea3d95d680568dd78698f5a0/expr.ipynb\"><img src=\"../../common/f7caf702081f903a6ea3d95d680568dd78698f5a0/expr.png\" style=\"display:inline;vertical-align:middle;\" /></a></td></tr>\n",
       "<tr><td>13</td><td>ExprTuple</td><td>17, 32, 18</td><td><a class=\"ProveItLink\" href=\"../../theorems/11a1d03da0b3f5909673a3809069233d420c07a30/expr.ipynb\"><img src=\"../../theorems/11a1d03da0b3f5909673a3809069233d420c07a30/expr.png\" style=\"display:inline;vertical-align:middle;\" /></a></td></tr>\n",
       "<tr><td>14</td><td>Lambda</td><td>parameter:&nbsp;39<br>body:&nbsp;19<br></td><td><a class=\"ProveItLink\" href=\"../58bca7e5e231ac16076ac31c6980324da950d8c70/expr.ipynb\"><img src=\"../58bca7e5e231ac16076ac31c6980324da950d8c70/expr.png\" style=\"display:inline;vertical-align:middle;\" /></a></td></tr>\n",
       "<tr><td>15</td><td>ExprTuple</td><td>32, 32</td><td><a class=\"ProveItLink\" href=\"../55c31717998f825912ca20364a61e0318d3fa5620/expr.ipynb\"><img src=\"../55c31717998f825912ca20364a61e0318d3fa5620/expr.png\" style=\"display:inline;vertical-align:middle;\" /></a></td></tr>\n",
       "<tr><td>16</td><td>Lambda</td><td>parameter:&nbsp;39<br>body:&nbsp;20<br></td><td><a class=\"ProveItLink\" href=\"../57208928c03d6894c26238b13efdded4f2f3a6090/expr.ipynb\"><img src=\"../57208928c03d6894c26238b13efdded4f2f3a6090/expr.png\" style=\"display:inline;vertical-align:middle;\" /></a></td></tr>\n",
       "<tr><td>17</td><td>ExprRange</td><td>lambda_map:&nbsp;21<br>start_index:&nbsp;24<br>end_index:&nbsp;22<br></td><td><a class=\"ProveItLink\" href=\"../../../../../../core_expr_types/__pv_it/common/6d03a7680b874582b3f3b8ea945d11a3cdc501820/expr.ipynb\"><img src=\"../../../../../../core_expr_types/__pv_it/common/6d03a7680b874582b3f3b8ea945d11a3cdc501820/expr.png\" style=\"display:inline;vertical-align:middle;\" /></a></td></tr>\n",
       "<tr><td>18</td><td>ExprRange</td><td>lambda_map:&nbsp;23<br>start_index:&nbsp;24<br>end_index:&nbsp;25<br></td><td><a class=\"ProveItLink\" href=\"../../../../../../core_expr_types/__pv_it/common/c25829cf90180d2c762a17e2c5a50bd70d0d94b50/expr.ipynb\"><img src=\"../../../../../../core_expr_types/__pv_it/common/c25829cf90180d2c762a17e2c5a50bd70d0d94b50/expr.png\" style=\"display:inline;vertical-align:middle;\" /></a></td></tr>\n",
       "<tr><td>19</td><td>Operation</td><td>operator:&nbsp;27<br>operands:&nbsp;26<br></td><td><a class=\"ProveItLink\" href=\"../60b11199ca22dc5838f6f83792393b1d2637eb0d0/expr.ipynb\"><img src=\"../60b11199ca22dc5838f6f83792393b1d2637eb0d0/expr.png\" style=\"display:inline;vertical-align:middle;\" /></a></td></tr>\n",
       "<tr><td>20</td><td>Operation</td><td>operator:&nbsp;27<br>operands:&nbsp;28<br></td><td><a class=\"ProveItLink\" href=\"../af4d61ca320a368bff47eec1a5d283499a936dc20/expr.ipynb\"><img src=\"../af4d61ca320a368bff47eec1a5d283499a936dc20/expr.png\" style=\"display:inline;vertical-align:middle;\" /></a></td></tr>\n",
       "<tr><td>21</td><td>Lambda</td><td>parameter:&nbsp;38<br>body:&nbsp;29<br></td><td><a class=\"ProveItLink\" href=\"../../../../../../core_expr_types/__pv_it/common/99ea59f1b92e70eddeee736182b1abeb9f49c91b0/expr.ipynb\"><img src=\"../../../../../../core_expr_types/__pv_it/common/99ea59f1b92e70eddeee736182b1abeb9f49c91b0/expr.png\" style=\"display:inline;vertical-align:middle;\" /></a></td></tr>\n",
       "<tr><td>22</td><td>Variable</td><td></td><td><a class=\"ProveItLink\" href=\"../../../../../../__pv_it/common/2dc4f15b3407a25e8d70754a86bf74f1871f92650/expr.ipynb\"><img src=\"../../../../../../__pv_it/common/2dc4f15b3407a25e8d70754a86bf74f1871f92650/expr.png\" style=\"display:inline;vertical-align:middle;\" /></a></td></tr>\n",
       "<tr><td>23</td><td>Lambda</td><td>parameter:&nbsp;38<br>body:&nbsp;30<br></td><td><a class=\"ProveItLink\" href=\"../../../../../../core_expr_types/__pv_it/common/a194210cc943a5475599de362bce34740df0415a0/expr.ipynb\"><img src=\"../../../../../../core_expr_types/__pv_it/common/a194210cc943a5475599de362bce34740df0415a0/expr.png\" style=\"display:inline;vertical-align:middle;\" /></a></td></tr>\n",
       "<tr><td>24</td><td>Literal</td><td></td><td><a class=\"ProveItLink\" href=\"../../../../../../numbers/numerals/__pv_it/common/d278e359da0695d9652dd541d45264f93703e2e40/expr.ipynb\"><img src=\"../../../../../../numbers/numerals/__pv_it/common/d278e359da0695d9652dd541d45264f93703e2e40/expr.png\" style=\"display:inline;vertical-align:middle;\" /></a></td></tr>\n",
       "<tr><td>25</td><td>Variable</td><td></td><td><a class=\"ProveItLink\" href=\"../../../../../../__pv_it/common/6165c9bb82ce3c7097cdba4440a1aeeb6eaca8a40/expr.ipynb\"><img src=\"../../../../../../__pv_it/common/6165c9bb82ce3c7097cdba4440a1aeeb6eaca8a40/expr.png\" style=\"display:inline;vertical-align:middle;\" /></a></td></tr>\n",
       "<tr><td>26</td><td>ExprTuple</td><td>32, 31</td><td><a class=\"ProveItLink\" href=\"../38e5982c78220d2fb823670536a50d6549d8f8bb0/expr.ipynb\"><img src=\"../38e5982c78220d2fb823670536a50d6549d8f8bb0/expr.png\" style=\"display:inline;vertical-align:middle;\" /></a></td></tr>\n",
       "<tr><td>27</td><td>Literal</td><td></td><td><a class=\"ProveItLink\" href=\"../../../../../equality/__pv_it/common/731dd3955b346c1320ed5c0ba7a618bcda61457d0/expr.ipynb\"><img src=\"../../../../../equality/__pv_it/common/731dd3955b346c1320ed5c0ba7a618bcda61457d0/expr.png\" style=\"display:inline;vertical-align:middle;\" /></a></td></tr>\n",
       "<tr><td>28</td><td>ExprTuple</td><td>32, 33</td><td><a class=\"ProveItLink\" href=\"../b4bff1cace8e74f1c13c0a9e194a909687ef00240/expr.ipynb\"><img src=\"../b4bff1cace8e74f1c13c0a9e194a909687ef00240/expr.png\" style=\"display:inline;vertical-align:middle;\" /></a></td></tr>\n",
       "<tr><td>29</td><td>IndexedVar</td><td>variable:&nbsp;35<br>index:&nbsp;38<br></td><td><a class=\"ProveItLink\" href=\"../../../../../../core_expr_types/__pv_it/common/d8d3053e77ba1db68c0cd106952422881db586670/expr.ipynb\"><img src=\"../../../../../../core_expr_types/__pv_it/common/d8d3053e77ba1db68c0cd106952422881db586670/expr.png\" style=\"display:inline;vertical-align:middle;\" /></a></td></tr>\n",
       "<tr><td>30</td><td>IndexedVar</td><td>variable:&nbsp;36<br>index:&nbsp;38<br></td><td><a class=\"ProveItLink\" href=\"../../../../../../core_expr_types/__pv_it/common/9bc0e9f465041db0a300264677d344fd5e47b7ea0/expr.ipynb\"><img src=\"../../../../../../core_expr_types/__pv_it/common/9bc0e9f465041db0a300264677d344fd5e47b7ea0/expr.png\" style=\"display:inline;vertical-align:middle;\" /></a></td></tr>\n",
       "<tr><td>31</td><td>IndexedVar</td><td>variable:&nbsp;35<br>index:&nbsp;39<br></td><td><a class=\"ProveItLink\" href=\"../aed3612103150400caacd2326758ce0e7069d2580/expr.ipynb\"><img src=\"../aed3612103150400caacd2326758ce0e7069d2580/expr.png\" style=\"display:inline;vertical-align:middle;\" /></a></td></tr>\n",
       "<tr><td>32</td><td>Variable</td><td></td><td><a class=\"ProveItLink\" href=\"../../../../../../__pv_it/common/4a5db8cc5c67969ec864bd3ea598be37cb6f5e550/expr.ipynb\"><img src=\"../../../../../../__pv_it/common/4a5db8cc5c67969ec864bd3ea598be37cb6f5e550/expr.png\" style=\"display:inline;vertical-align:middle;\" /></a></td></tr>\n",
       "<tr><td>33</td><td>IndexedVar</td><td>variable:&nbsp;36<br>index:&nbsp;39<br></td><td><a class=\"ProveItLink\" href=\"../9965d4b7814a93b1a1c0049adb25296c4d3061d00/expr.ipynb\"><img src=\"../9965d4b7814a93b1a1c0049adb25296c4d3061d00/expr.png\" style=\"display:inline;vertical-align:middle;\" /></a></td></tr>\n",
       "<tr><td>34</td><td>ExprTuple</td><td>38</td><td><a class=\"ProveItLink\" href=\"../../../../../../core_expr_types/__pv_it/common/ecf50ade416ab41c42c9f4e777b4c862cd9469670/expr.ipynb\"><img src=\"../../../../../../core_expr_types/__pv_it/common/ecf50ade416ab41c42c9f4e777b4c862cd9469670/expr.png\" style=\"display:inline;vertical-align:middle;\" /></a></td></tr>\n",
       "<tr><td>35</td><td>Variable</td><td></td><td><a class=\"ProveItLink\" href=\"../../../../../../__pv_it/common/66c90e66682f107a881f2d666959f64e2e72ad750/expr.ipynb\"><img src=\"../../../../../../__pv_it/common/66c90e66682f107a881f2d666959f64e2e72ad750/expr.png\" style=\"display:inline;vertical-align:middle;\" /></a></td></tr>\n",
       "<tr><td>36</td><td>Variable</td><td></td><td><a class=\"ProveItLink\" href=\"../../../../../../__pv_it/common/9a9d28748f90dec84e90f2ace4610208194e524e0/expr.ipynb\"><img src=\"../../../../../../__pv_it/common/9a9d28748f90dec84e90f2ace4610208194e524e0/expr.png\" style=\"display:inline;vertical-align:middle;\" /></a></td></tr>\n",
       "<tr><td>37</td><td>ExprTuple</td><td>39</td><td><a class=\"ProveItLink\" href=\"../../../../__pv_it/common/6420c4d2520c27c1137ad22005291620057456040/expr.ipynb\"><img src=\"../../../../__pv_it/common/6420c4d2520c27c1137ad22005291620057456040/expr.png\" style=\"display:inline;vertical-align:middle;\" /></a></td></tr>\n",
       "<tr><td>38</td><td>Variable</td><td></td><td><a class=\"ProveItLink\" href=\"../../../../../../core_expr_types/__pv_it/common/9e6d9d5d7eeb0342cf5bca68def0eb165a1a9bb10/expr.ipynb\"><img src=\"../../../../../../core_expr_types/__pv_it/common/9e6d9d5d7eeb0342cf5bca68def0eb165a1a9bb10/expr.png\" style=\"display:inline;vertical-align:middle;\" /></a></td></tr>\n",
       "<tr><td>39</td><td>Variable</td><td></td><td><a class=\"ProveItLink\" href=\"../../../../../../__pv_it/common/575a6156bb1c87c5beeaf38c302b5905ad57f5780/expr.ipynb\"><img src=\"../../../../../../__pv_it/common/575a6156bb1c87c5beeaf38c302b5905ad57f5780/expr.png\" style=\"display:inline;vertical-align:middle;\" /></a></td></tr>\n",
       "</table>\n"
      ],
      "text/plain": [
       "0. (b in {a_{1}, ..a_{_a}.., a_{m}, b, c_{1}, ..c_{_a}.., c_{n}}) = ((b = a_{1}) or ..(b = a_{i}).. or (b = a_{m}) or (b = b) or (b = c_{1}) or ..(b = c_{i}).. or (b = c_{n}))\n",
       "   core type: Operation\n",
       "   operator: 27\n",
       "   operands: 1\n",
       "1. (b in {a_{1}, ..a_{_a}.., a_{m}, b, c_{1}, ..c_{_a}.., c_{n}}, (b = a_{1}) or ..(b = a_{i}).. or (b = a_{m}) or (b = b) or (b = c_{1}) or ..(b = c_{i}).. or (b = c_{n}))\n",
       "   core type: ExprTuple\n",
       "   sub-expressions: 2, 3\n",
       "2. b in {a_{1}, ..a_{_a}.., a_{m}, b, c_{1}, ..c_{_a}.., c_{n}}\n",
       "   core type: Operation\n",
       "   operator: 4\n",
       "   operands: 5\n",
       "3. (b = a_{1}) or ..(b = a_{i}).. or (b = a_{m}) or (b = b) or (b = c_{1}) or ..(b = c_{i}).. or (b = c_{n})\n",
       "   core type: Operation\n",
       "   operator: 6\n",
       "   operands: 7\n",
       "4. in\n",
       "   core type: Literal\n",
       "   sub-expressions: \n",
       "5. (b, {a_{1}, ..a_{_a}.., a_{m}, b, c_{1}, ..c_{_a}.., c_{n}})\n",
       "   core type: ExprTuple\n",
       "   sub-expressions: 32, 8\n",
       "6. or\n",
       "   core type: Literal\n",
       "   sub-expressions: \n",
       "7. (b = a_{1}, ..b = a_{i}.., b = a_{m}, b = b, b = c_{1}, ..b = c_{i}.., b = c_{n})\n",
       "   core type: ExprTuple\n",
       "   sub-expressions: 9, 10, 11\n",
       "8. {a_{1}, ..a_{_a}.., a_{m}, b, c_{1}, ..c_{_a}.., c_{n}}\n",
       "   core type: Operation\n",
       "   operator: 12\n",
       "   operands: 13\n",
       "9. (b = a_{1}), ..(b = a_{i}).., (b = a_{m})\n",
       "   core type: ExprRange\n",
       "   lambda_map: 14\n",
       "   start_index: 24\n",
       "   end_index: 22\n",
       "10. b = b\n",
       "    core type: Operation\n",
       "    operator: 27\n",
       "    operands: 15\n",
       "11. (b = c_{1}), ..(b = c_{i}).., (b = c_{n})\n",
       "    core type: ExprRange\n",
       "    lambda_map: 16\n",
       "    start_index: 24\n",
       "    end_index: 25\n",
       "12. Set\n",
       "    core type: Literal\n",
       "    sub-expressions: \n",
       "13. (a_{1}, ..a_{_a}.., a_{m}, b, c_{1}, ..c_{_a}.., c_{n})\n",
       "    core type: ExprTuple\n",
       "    sub-expressions: 17, 32, 18\n",
       "14. i -> (b = a_{i})\n",
       "    core type: Lambda\n",
       "    parameter: 39\n",
       "    body: 19\n",
       "15. (b, b)\n",
       "    core type: ExprTuple\n",
       "    sub-expressions: 32, 32\n",
       "16. i -> (b = c_{i})\n",
       "    core type: Lambda\n",
       "    parameter: 39\n",
       "    body: 20\n",
       "17. a_{1}, ..a_{_a}.., a_{m}\n",
       "    core type: ExprRange\n",
       "    lambda_map: 21\n",
       "    start_index: 24\n",
       "    end_index: 22\n",
       "18. c_{1}, ..c_{_a}.., c_{n}\n",
       "    core type: ExprRange\n",
       "    lambda_map: 23\n",
       "    start_index: 24\n",
       "    end_index: 25\n",
       "19. b = a_{i}\n",
       "    core type: Operation\n",
       "    operator: 27\n",
       "    operands: 26\n",
       "20. b = c_{i}\n",
       "    core type: Operation\n",
       "    operator: 27\n",
       "    operands: 28\n",
       "21. _a -> a_{_a}\n",
       "    core type: Lambda\n",
       "    parameter: 38\n",
       "    body: 29\n",
       "22. m\n",
       "    core type: Variable\n",
       "    sub-expressions: \n",
       "23. _a -> c_{_a}\n",
       "    core type: Lambda\n",
       "    parameter: 38\n",
       "    body: 30\n",
       "24. 1\n",
       "    core type: Literal\n",
       "    sub-expressions: \n",
       "25. n\n",
       "    core type: Variable\n",
       "    sub-expressions: \n",
       "26. (b, a_{i})\n",
       "    core type: ExprTuple\n",
       "    sub-expressions: 32, 31\n",
       "27. =\n",
       "    core type: Literal\n",
       "    sub-expressions: \n",
       "28. (b, c_{i})\n",
       "    core type: ExprTuple\n",
       "    sub-expressions: 32, 33\n",
       "29. a_{_a}\n",
       "    core type: IndexedVar\n",
       "variable: 35\n",
       "index: 38\n",
       "30. c_{_a}\n",
       "    core type: IndexedVar\n",
       "variable: 36\n",
       "index: 38\n",
       "31. a_{i}\n",
       "    core type: IndexedVar\n",
       "variable: 35\n",
       "index: 39\n",
       "32. b\n",
       "    core type: Variable\n",
       "    sub-expressions: \n",
       "33. c_{i}\n",
       "    core type: IndexedVar\n",
       "variable: 36\n",
       "index: 39\n",
       "34. (_a)\n",
       "    core type: ExprTuple\n",
       "    sub-expressions: 38\n",
       "35. a\n",
       "    core type: Variable\n",
       "    sub-expressions: \n",
       "36. c\n",
       "    core type: Variable\n",
       "    sub-expressions: \n",
       "37. (i)\n",
       "    core type: ExprTuple\n",
       "    sub-expressions: 39\n",
       "38. _a\n",
       "    core type: Variable\n",
       "    sub-expressions: \n",
       "39. i\n",
       "    core type: Variable\n",
       "    sub-expressions: "
      ]
     },
     "execution_count": 6,
     "metadata": {},
     "output_type": "execute_result"
    }
   ],
   "source": [
    "# display the expression information\n",
    "expr.expr_info()"
   ]
  },
  {
   "cell_type": "code",
   "execution_count": null,
   "metadata": {},
   "outputs": [],
   "source": []
  }
 ],
 "metadata": {
  "kernelspec": {
   "display_name": "Python 3",
   "language": "python",
   "name": "python3"
  }
 },
 "nbformat": 4,
 "nbformat_minor": 0
}