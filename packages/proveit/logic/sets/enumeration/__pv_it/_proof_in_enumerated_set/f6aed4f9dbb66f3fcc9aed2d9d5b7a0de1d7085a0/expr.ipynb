{
 "cells": [
  {
   "cell_type": "markdown",
   "metadata": {},
   "source": [
    "Expression of type <a class=\"ProveItLink\" href=\"../../../../../../../../doc/html/api/proveit.ExprTuple.html\">ExprTuple</a>\n",
    "=======================\n",
    "# from the theory of <a class=\"ProveItLink\" href=\"../../../_theory_nbs_/theory.ipynb\">proveit.logic.sets.enumeration</a>"
   ]
  },
  {
   "cell_type": "code",
   "execution_count": 1,
   "metadata": {},
   "outputs": [],
   "source": [
    "import proveit\n",
    "# Automation is not needed when building an expression:\n",
    "proveit.defaults.automation = False # This will speed things up.\n",
    "proveit.defaults.inline_pngs = False # Makes files smaller.\n",
    "%load_expr # Load the stored expression as 'stored_expr'\n",
    "# import Expression classes needed to build the expression\n",
    "from proveit import ExprRange, ExprTuple, IndexedVar, a, b, c, n\n",
    "from proveit.logic import Equals\n",
    "from proveit.numbers import one"
   ]
  },
  {
   "cell_type": "code",
   "execution_count": 2,
   "metadata": {},
   "outputs": [
    {
     "data": {
      "text/html": [
       "<strong id=\"expr\">expr:</strong> <a class=\"ProveItLink\" href=\"expr.ipynb\"><img src=\"expr.png\" style=\"display:inline;vertical-align:middle;\" /></a><br>"
      ],
      "text/plain": [
       "expr: ((b = c_{1}, ..b = c_{a}.., b = c_{n}))"
      ]
     },
     "execution_count": 2,
     "metadata": {},
     "output_type": "execute_result"
    }
   ],
   "source": [
    "# build up the expression from sub-expressions\n",
    "expr = ExprTuple([ExprRange(a, Equals(b, IndexedVar(c, a)), one, n)])"
   ]
  },
  {
   "cell_type": "code",
   "execution_count": 3,
   "metadata": {},
   "outputs": [
    {
     "name": "stdout",
     "output_type": "stream",
     "text": [
      "Passed sanity check: expr matches stored_expr\n"
     ]
    }
   ],
   "source": [
    "# check that the built expression is the same as the stored expression\n",
    "assert expr == stored_expr\n",
    "assert expr._style_id == stored_expr._style_id\n",
    "print(\"Passed sanity check: expr matches stored_expr\")"
   ]
  },
  {
   "cell_type": "code",
   "execution_count": 4,
   "metadata": {},
   "outputs": [
    {
     "name": "stdout",
     "output_type": "stream",
     "text": [
      "\\left(\\left(b = c_{1}, \\ldots, b = c_{n}\\right)\\right)\n"
     ]
    }
   ],
   "source": [
    "# Show the LaTeX representation of the expression for convenience if you need it.\n",
    "print(expr.latex())"
   ]
  },
  {
   "cell_type": "code",
   "execution_count": 5,
   "metadata": {},
   "outputs": [
    {
     "data": {
      "text/html": [
       "no style options"
      ],
      "text/plain": [
       "no style options"
      ]
     },
     "execution_count": 5,
     "metadata": {},
     "output_type": "execute_result"
    }
   ],
   "source": [
    "expr.style_options()"
   ]
  },
  {
   "cell_type": "code",
   "execution_count": 6,
   "metadata": {},
   "outputs": [
    {
     "data": {
      "text/html": [
       "<table><tr><th>&nbsp;</th><th>core type</th><th>sub-expressions</th><th>expression</th></tr>\n",
       "<tr><td>0</td><td>ExprTuple</td><td>1</td><td><a class=\"ProveItLink\" href=\"expr.ipynb\"><img src=\"expr.png\" style=\"display:inline;vertical-align:middle;\" /></a></td></tr>\n",
       "<tr><td>1</td><td>ExprTuple</td><td>2</td><td><a class=\"ProveItLink\" href=\"../548c15e0baea3130b162f9077364bcb02f827c070/expr.ipynb\"><img src=\"../548c15e0baea3130b162f9077364bcb02f827c070/expr.png\" style=\"display:inline;vertical-align:middle;\" /></a></td></tr>\n",
       "<tr><td>2</td><td>ExprRange</td><td>lambda_map:&nbsp;3<br>start_index:&nbsp;4<br>end_index:&nbsp;5<br></td><td><a class=\"ProveItLink\" href=\"../efd562b21c00c6fc04f2c136dd9062d7148e53920/expr.ipynb\"><img src=\"../efd562b21c00c6fc04f2c136dd9062d7148e53920/expr.png\" style=\"display:inline;vertical-align:middle;\" /></a></td></tr>\n",
       "<tr><td>3</td><td>Lambda</td><td>parameter:&nbsp;13<br>body:&nbsp;6<br></td><td><a class=\"ProveItLink\" href=\"../9526bc3947a32c3162ff4e137fa7bc96fce485fb0/expr.ipynb\"><img src=\"../9526bc3947a32c3162ff4e137fa7bc96fce485fb0/expr.png\" style=\"display:inline;vertical-align:middle;\" /></a></td></tr>\n",
       "<tr><td>4</td><td>Literal</td><td></td><td><a class=\"ProveItLink\" href=\"../../../../../../numbers/numerals/__pv_it/common/d278e359da0695d9652dd541d45264f93703e2e40/expr.ipynb\"><img src=\"../../../../../../numbers/numerals/__pv_it/common/d278e359da0695d9652dd541d45264f93703e2e40/expr.png\" style=\"display:inline;vertical-align:middle;\" /></a></td></tr>\n",
       "<tr><td>5</td><td>Variable</td><td></td><td><a class=\"ProveItLink\" href=\"../../../../../../__pv_it/common/6165c9bb82ce3c7097cdba4440a1aeeb6eaca8a40/expr.ipynb\"><img src=\"../../../../../../__pv_it/common/6165c9bb82ce3c7097cdba4440a1aeeb6eaca8a40/expr.png\" style=\"display:inline;vertical-align:middle;\" /></a></td></tr>\n",
       "<tr><td>6</td><td>Operation</td><td>operator:&nbsp;7<br>operands:&nbsp;8<br></td><td><a class=\"ProveItLink\" href=\"../955d6fdb28d283900d1f11e6d6d3d1cba304a81a0/expr.ipynb\"><img src=\"../955d6fdb28d283900d1f11e6d6d3d1cba304a81a0/expr.png\" style=\"display:inline;vertical-align:middle;\" /></a></td></tr>\n",
       "<tr><td>7</td><td>Literal</td><td></td><td><a class=\"ProveItLink\" href=\"../../../../../equality/__pv_it/common/731dd3955b346c1320ed5c0ba7a618bcda61457d0/expr.ipynb\"><img src=\"../../../../../equality/__pv_it/common/731dd3955b346c1320ed5c0ba7a618bcda61457d0/expr.png\" style=\"display:inline;vertical-align:middle;\" /></a></td></tr>\n",
       "<tr><td>8</td><td>ExprTuple</td><td>9, 10</td><td><a class=\"ProveItLink\" href=\"../7bb10997ef3e9db772a34f8bfaa79c132813725a0/expr.ipynb\"><img src=\"../7bb10997ef3e9db772a34f8bfaa79c132813725a0/expr.png\" style=\"display:inline;vertical-align:middle;\" /></a></td></tr>\n",
       "<tr><td>9</td><td>Variable</td><td></td><td><a class=\"ProveItLink\" href=\"../../../../../../__pv_it/common/4a5db8cc5c67969ec864bd3ea598be37cb6f5e550/expr.ipynb\"><img src=\"../../../../../../__pv_it/common/4a5db8cc5c67969ec864bd3ea598be37cb6f5e550/expr.png\" style=\"display:inline;vertical-align:middle;\" /></a></td></tr>\n",
       "<tr><td>10</td><td>IndexedVar</td><td>variable:&nbsp;11<br>index:&nbsp;13<br></td><td><a class=\"ProveItLink\" href=\"../368d39f97d91face325edc6f61ff8a0e6d1ea8080/expr.ipynb\"><img src=\"../368d39f97d91face325edc6f61ff8a0e6d1ea8080/expr.png\" style=\"display:inline;vertical-align:middle;\" /></a></td></tr>\n",
       "<tr><td>11</td><td>Variable</td><td></td><td><a class=\"ProveItLink\" href=\"../../../../../../__pv_it/common/9a9d28748f90dec84e90f2ace4610208194e524e0/expr.ipynb\"><img src=\"../../../../../../__pv_it/common/9a9d28748f90dec84e90f2ace4610208194e524e0/expr.png\" style=\"display:inline;vertical-align:middle;\" /></a></td></tr>\n",
       "<tr><td>12</td><td>ExprTuple</td><td>13</td><td><a class=\"ProveItLink\" href=\"../../../../../../numbers/addition/subtraction/__pv_it/theorems/d44dc3f84a5035a3c448121a02d4b2964d58a7910/expr.ipynb\"><img src=\"../../../../../../numbers/addition/subtraction/__pv_it/theorems/d44dc3f84a5035a3c448121a02d4b2964d58a7910/expr.png\" style=\"display:inline;vertical-align:middle;\" /></a></td></tr>\n",
       "<tr><td>13</td><td>Variable</td><td></td><td><a class=\"ProveItLink\" href=\"../../../../../../__pv_it/common/66c90e66682f107a881f2d666959f64e2e72ad750/expr.ipynb\"><img src=\"../../../../../../__pv_it/common/66c90e66682f107a881f2d666959f64e2e72ad750/expr.png\" style=\"display:inline;vertical-align:middle;\" /></a></td></tr>\n",
       "</table>\n"
      ],
      "text/plain": [
       "0. ((b = c_{1}, ..b = c_{a}.., b = c_{n}))\n",
       "   core type: ExprTuple\n",
       "   sub-expressions: 1\n",
       "1. (b = c_{1}, ..b = c_{a}.., b = c_{n})\n",
       "   core type: ExprTuple\n",
       "   sub-expressions: 2\n",
       "2. (b = c_{1}), ..(b = c_{a}).., (b = c_{n})\n",
       "   core type: ExprRange\n",
       "   lambda_map: 3\n",
       "   start_index: 4\n",
       "   end_index: 5\n",
       "3. a -> (b = c_{a})\n",
       "   core type: Lambda\n",
       "   parameter: 13\n",
       "   body: 6\n",
       "4. 1\n",
       "   core type: Literal\n",
       "   sub-expressions: \n",
       "5. n\n",
       "   core type: Variable\n",
       "   sub-expressions: \n",
       "6. b = c_{a}\n",
       "   core type: Operation\n",
       "   operator: 7\n",
       "   operands: 8\n",
       "7. =\n",
       "   core type: Literal\n",
       "   sub-expressions: \n",
       "8. (b, c_{a})\n",
       "   core type: ExprTuple\n",
       "   sub-expressions: 9, 10\n",
       "9. b\n",
       "   core type: Variable\n",
       "   sub-expressions: \n",
       "10. c_{a}\n",
       "    core type: IndexedVar\n",
       "variable: 11\n",
       "index: 13\n",
       "11. c\n",
       "    core type: Variable\n",
       "    sub-expressions: \n",
       "12. (a)\n",
       "    core type: ExprTuple\n",
       "    sub-expressions: 13\n",
       "13. a\n",
       "    core type: Variable\n",
       "    sub-expressions: "
      ]
     },
     "execution_count": 6,
     "metadata": {},
     "output_type": "execute_result"
    }
   ],
   "source": [
    "# display the expression information\n",
    "expr.expr_info()"
   ]
  },
  {
   "cell_type": "code",
   "execution_count": null,
   "metadata": {},
   "outputs": [],
   "source": []
  }
 ],
 "metadata": {
  "kernelspec": {
   "display_name": "Python 3",
   "language": "python",
   "name": "python3"
  }
 },
 "nbformat": 4,
 "nbformat_minor": 0
}