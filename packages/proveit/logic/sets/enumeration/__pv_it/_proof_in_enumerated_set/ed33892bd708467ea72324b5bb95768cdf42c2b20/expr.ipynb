{
 "cells": [
  {
   "cell_type": "markdown",
   "metadata": {},
   "source": [
    "Expression of type <a class=\"ProveItLink\" href=\"../../../../../../../../doc/html/api/proveit.logic.Equals.html\">Equals</a>\n",
    "=======================\n",
    "# from the theory of <a class=\"ProveItLink\" href=\"../../../_theory_nbs_/theory.ipynb\">proveit.logic.sets.enumeration</a>"
   ]
  },
  {
   "cell_type": "code",
   "execution_count": 1,
   "metadata": {},
   "outputs": [],
   "source": [
    "import proveit\n",
    "# Automation is not needed when building an expression:\n",
    "proveit.defaults.automation = False # This will speed things up.\n",
    "proveit.defaults.inline_pngs = False # Makes files smaller.\n",
    "%load_expr # Load the stored expression as 'stored_expr'\n",
    "# import Expression classes needed to build the expression\n",
    "from proveit import ExprRange, b, c, k\n",
    "from proveit.core_expr_types import Len\n",
    "from proveit.logic import Equals\n",
    "from proveit.numbers import one, two"
   ]
  },
  {
   "cell_type": "code",
   "execution_count": 2,
   "metadata": {},
   "outputs": [
    {
     "data": {
      "text/html": [
       "<strong id=\"expr\">expr:</strong> <a class=\"ProveItLink\" href=\"expr.ipynb\"><img src=\"expr.png\" style=\"display:inline;vertical-align:middle;\" /></a><br>"
      ],
      "text/plain": [
       "expr: |(b = b, b = c)| = |(1, ..k.., 2)|"
      ]
     },
     "execution_count": 2,
     "metadata": {},
     "output_type": "execute_result"
    }
   ],
   "source": [
    "# build up the expression from sub-expressions\n",
    "expr = Equals(Len([Equals(b, b), Equals(b, c)]), Len([ExprRange(k, k, one, two)]))"
   ]
  },
  {
   "cell_type": "code",
   "execution_count": 3,
   "metadata": {},
   "outputs": [
    {
     "name": "stdout",
     "output_type": "stream",
     "text": [
      "Passed sanity check: expr matches stored_expr\n"
     ]
    }
   ],
   "source": [
    "# check that the built expression is the same as the stored expression\n",
    "assert expr == stored_expr\n",
    "assert expr._style_id == stored_expr._style_id\n",
    "print(\"Passed sanity check: expr matches stored_expr\")"
   ]
  },
  {
   "cell_type": "code",
   "execution_count": 4,
   "metadata": {},
   "outputs": [
    {
     "name": "stdout",
     "output_type": "stream",
     "text": [
      "|\\left(b = b, b = c\\right)| = |\\left(1, \\ldots, 2\\right)|\n"
     ]
    }
   ],
   "source": [
    "# Show the LaTeX representation of the expression for convenience if you need it.\n",
    "print(expr.latex())"
   ]
  },
  {
   "cell_type": "code",
   "execution_count": 5,
   "metadata": {},
   "outputs": [
    {
     "data": {
      "text/html": [
       "<table><tr><th>&nbsp;</th><th>core type</th><th>sub-expressions</th><th>expression</th></tr>\n",
       "<tr><td>0</td><td>Operation</td><td>operator:&nbsp;13<br>operands:&nbsp;1<br></td><td><a class=\"ProveItLink\" href=\"expr.ipynb\"><img src=\"expr.png\" style=\"display:inline;vertical-align:middle;\" /></a></td></tr>\n",
       "<tr><td>1</td><td>ExprTuple</td><td>2, 3</td><td><a class=\"ProveItLink\" href=\"../1aa91ce2d53bf1f04071fa017466167d6ee06ab40/expr.ipynb\"><img src=\"../1aa91ce2d53bf1f04071fa017466167d6ee06ab40/expr.png\" style=\"display:inline;vertical-align:middle;\" /></a></td></tr>\n",
       "<tr><td>2</td><td>Operation</td><td>operator:&nbsp;5<br>operand:&nbsp;7<br></td><td><a class=\"ProveItLink\" href=\"../18b011d693a718925caa89620a6f6bb5c2c75e110/expr.ipynb\"><img src=\"../18b011d693a718925caa89620a6f6bb5c2c75e110/expr.png\" style=\"display:inline;vertical-align:middle;\" /></a></td></tr>\n",
       "<tr><td>3</td><td>Operation</td><td>operator:&nbsp;5<br>operand:&nbsp;8<br></td><td><a class=\"ProveItLink\" href=\"../../../../../../numbers/numerals/decimals/__pv_it/theorems/4101caf0a75ed777a63ca4a8bfc32f729d4636570/expr.ipynb\"><img src=\"../../../../../../numbers/numerals/decimals/__pv_it/theorems/4101caf0a75ed777a63ca4a8bfc32f729d4636570/expr.png\" style=\"display:inline;vertical-align:middle;\" /></a></td></tr>\n",
       "<tr><td>4</td><td>ExprTuple</td><td>7</td><td><a class=\"ProveItLink\" href=\"../16f6008535acaddd0e3183e46141146e12fd67430/expr.ipynb\"><img src=\"../16f6008535acaddd0e3183e46141146e12fd67430/expr.png\" style=\"display:inline;vertical-align:middle;\" /></a></td></tr>\n",
       "<tr><td>5</td><td>Literal</td><td></td><td><a class=\"ProveItLink\" href=\"../../../../../../core_expr_types/tuples/__pv_it/common/43df765abf1294d8f1fd177863f57f08bf5ad0080/expr.ipynb\"><img src=\"../../../../../../core_expr_types/tuples/__pv_it/common/43df765abf1294d8f1fd177863f57f08bf5ad0080/expr.png\" style=\"display:inline;vertical-align:middle;\" /></a></td></tr>\n",
       "<tr><td>6</td><td>ExprTuple</td><td>8</td><td><a class=\"ProveItLink\" href=\"../../../../../../numbers/numerals/decimals/__pv_it/theorems/379b56738ce5b2b46ca91db3b3806966f615e2da0/expr.ipynb\"><img src=\"../../../../../../numbers/numerals/decimals/__pv_it/theorems/379b56738ce5b2b46ca91db3b3806966f615e2da0/expr.png\" style=\"display:inline;vertical-align:middle;\" /></a></td></tr>\n",
       "<tr><td>7</td><td>ExprTuple</td><td>9, 10</td><td><a class=\"ProveItLink\" href=\"../34dea405da9d2715f07b67c6c8ec98b4c8525dd90/expr.ipynb\"><img src=\"../34dea405da9d2715f07b67c6c8ec98b4c8525dd90/expr.png\" style=\"display:inline;vertical-align:middle;\" /></a></td></tr>\n",
       "<tr><td>8</td><td>ExprTuple</td><td>11</td><td><a class=\"ProveItLink\" href=\"../../../../../../numbers/numerals/decimals/__pv_it/theorems/3413070cd8c39bcf72e72698c04fed80c670084e0/expr.ipynb\"><img src=\"../../../../../../numbers/numerals/decimals/__pv_it/theorems/3413070cd8c39bcf72e72698c04fed80c670084e0/expr.png\" style=\"display:inline;vertical-align:middle;\" /></a></td></tr>\n",
       "<tr><td>9</td><td>Operation</td><td>operator:&nbsp;13<br>operands:&nbsp;12<br></td><td><a class=\"ProveItLink\" href=\"../97b99d769907ec3739f4823d4a13d21e51190fcc0/expr.ipynb\"><img src=\"../97b99d769907ec3739f4823d4a13d21e51190fcc0/expr.png\" style=\"display:inline;vertical-align:middle;\" /></a></td></tr>\n",
       "<tr><td>10</td><td>Operation</td><td>operator:&nbsp;13<br>operands:&nbsp;14<br></td><td><a class=\"ProveItLink\" href=\"../bb93ed6484590d892f14cd8e7e92733d8a10d8d40/expr.ipynb\"><img src=\"../bb93ed6484590d892f14cd8e7e92733d8a10d8d40/expr.png\" style=\"display:inline;vertical-align:middle;\" /></a></td></tr>\n",
       "<tr><td>11</td><td>ExprRange</td><td>lambda_map:&nbsp;15<br>start_index:&nbsp;16<br>end_index:&nbsp;17<br></td><td><a class=\"ProveItLink\" href=\"../../../../../../numbers/numerals/decimals/__pv_it/theorems/414b1a643868559945d348502f1a753b744b92260/expr.ipynb\"><img src=\"../../../../../../numbers/numerals/decimals/__pv_it/theorems/414b1a643868559945d348502f1a753b744b92260/expr.png\" style=\"display:inline;vertical-align:middle;\" /></a></td></tr>\n",
       "<tr><td>12</td><td>ExprTuple</td><td>18, 18</td><td><a class=\"ProveItLink\" href=\"../36883df4fe34709a1af6d1b15e9431f70b7e17ec0/expr.ipynb\"><img src=\"../36883df4fe34709a1af6d1b15e9431f70b7e17ec0/expr.png\" style=\"display:inline;vertical-align:middle;\" /></a></td></tr>\n",
       "<tr><td>13</td><td>Literal</td><td></td><td><a class=\"ProveItLink\" href=\"../../../../../equality/__pv_it/common/fb96dc12b2aa8801dda64d0132b396c63d1502bb0/expr.ipynb\"><img src=\"../../../../../equality/__pv_it/common/fb96dc12b2aa8801dda64d0132b396c63d1502bb0/expr.png\" style=\"display:inline;vertical-align:middle;\" /></a></td></tr>\n",
       "<tr><td>14</td><td>ExprTuple</td><td>18, 19</td><td><a class=\"ProveItLink\" href=\"../ea14791db14e0ed368912e6780268cd495c4577d0/expr.ipynb\"><img src=\"../ea14791db14e0ed368912e6780268cd495c4577d0/expr.png\" style=\"display:inline;vertical-align:middle;\" /></a></td></tr>\n",
       "<tr><td>15</td><td>Lambda</td><td>parameter:&nbsp;20<br>body:&nbsp;20<br></td><td><a class=\"ProveItLink\" href=\"../../../../../../numbers/numerals/decimals/__pv_it/theorems/f3fe62f840bd4f6a2324bee5141c1f534c325cd30/expr.ipynb\"><img src=\"../../../../../../numbers/numerals/decimals/__pv_it/theorems/f3fe62f840bd4f6a2324bee5141c1f534c325cd30/expr.png\" style=\"display:inline;vertical-align:middle;\" /></a></td></tr>\n",
       "<tr><td>16</td><td>Literal</td><td></td><td><a class=\"ProveItLink\" href=\"../../../../../../numbers/numerals/__pv_it/common/2778428c7f555b2bdc06aa0530bc142c6e6335100/expr.ipynb\"><img src=\"../../../../../../numbers/numerals/__pv_it/common/2778428c7f555b2bdc06aa0530bc142c6e6335100/expr.png\" style=\"display:inline;vertical-align:middle;\" /></a></td></tr>\n",
       "<tr><td>17</td><td>Literal</td><td></td><td><a class=\"ProveItLink\" href=\"../../../../../../numbers/numerals/__pv_it/common/ba3b059982e8b49413dc653e957beb11e974e4bc0/expr.ipynb\"><img src=\"../../../../../../numbers/numerals/__pv_it/common/ba3b059982e8b49413dc653e957beb11e974e4bc0/expr.png\" style=\"display:inline;vertical-align:middle;\" /></a></td></tr>\n",
       "<tr><td>18</td><td>Variable</td><td></td><td><a class=\"ProveItLink\" href=\"../../../../../../__pv_it/common/195236b98c6c564a75b5dbada74b173bc52d5c3e0/expr.ipynb\"><img src=\"../../../../../../__pv_it/common/195236b98c6c564a75b5dbada74b173bc52d5c3e0/expr.png\" style=\"display:inline;vertical-align:middle;\" /></a></td></tr>\n",
       "<tr><td>19</td><td>Variable</td><td></td><td><a class=\"ProveItLink\" href=\"../../../../../../__pv_it/common/ceef4280a2f1cc604b455b54e735507244cc62cd0/expr.ipynb\"><img src=\"../../../../../../__pv_it/common/ceef4280a2f1cc604b455b54e735507244cc62cd0/expr.png\" style=\"display:inline;vertical-align:middle;\" /></a></td></tr>\n",
       "<tr><td>20</td><td>Variable</td><td></td><td><a class=\"ProveItLink\" href=\"../../../../../../__pv_it/common/63b7c64bf9ec7a04ecc396c7a1670f3f12fb59490/expr.ipynb\"><img src=\"../../../../../../__pv_it/common/63b7c64bf9ec7a04ecc396c7a1670f3f12fb59490/expr.png\" style=\"display:inline;vertical-align:middle;\" /></a></td></tr>\n",
       "</table>\n"
      ],
      "text/plain": [
       "0. |(b = b, b = c)| = |(1, ..k.., 2)|\n",
       "   core type: Operation\n",
       "   operator: 13\n",
       "   operands: 1\n",
       "1. (|(b = b, b = c)|, |(1, ..k.., 2)|)\n",
       "   core type: ExprTuple\n",
       "   sub-expressions: 2, 3\n",
       "2. |(b = b, b = c)|\n",
       "   core type: Operation\n",
       "   operator: 5\n",
       "   operand: 7\n",
       "3. |(1, ..k.., 2)|\n",
       "   core type: Operation\n",
       "   operator: 5\n",
       "   operand: 8\n",
       "4. ((b = b, b = c))\n",
       "   core type: ExprTuple\n",
       "   sub-expressions: 7\n",
       "5. length\n",
       "   core type: Literal\n",
       "   sub-expressions: \n",
       "6. ((1, ..k.., 2))\n",
       "   core type: ExprTuple\n",
       "   sub-expressions: 8\n",
       "7. (b = b, b = c)\n",
       "   core type: ExprTuple\n",
       "   sub-expressions: 9, 10\n",
       "8. (1, ..k.., 2)\n",
       "   core type: ExprTuple\n",
       "   sub-expressions: 11\n",
       "9. b = b\n",
       "   core type: Operation\n",
       "   operator: 13\n",
       "   operands: 12\n",
       "10. b = c\n",
       "    core type: Operation\n",
       "    operator: 13\n",
       "    operands: 14\n",
       "11. 1, ..k.., 2\n",
       "    core type: ExprRange\n",
       "    lambda_map: 15\n",
       "    start_index: 16\n",
       "    end_index: 17\n",
       "12. (b, b)\n",
       "    core type: ExprTuple\n",
       "    sub-expressions: 18, 18\n",
       "13. =\n",
       "    core type: Literal\n",
       "    sub-expressions: \n",
       "14. (b, c)\n",
       "    core type: ExprTuple\n",
       "    sub-expressions: 18, 19\n",
       "15. k -> k\n",
       "    core type: Lambda\n",
       "    parameter: 20\n",
       "    body: 20\n",
       "16. 1\n",
       "    core type: Literal\n",
       "    sub-expressions: \n",
       "17. 2\n",
       "    core type: Literal\n",
       "    sub-expressions: \n",
       "18. b\n",
       "    core type: Variable\n",
       "    sub-expressions: \n",
       "19. c\n",
       "    core type: Variable\n",
       "    sub-expressions: \n",
       "20. k\n",
       "    core type: Variable\n",
       "    sub-expressions: "
      ]
     },
     "execution_count": 5,
     "metadata": {},
     "output_type": "execute_result"
    }
   ],
   "source": [
    "# display the expression information\n",
    "expr.expr_info()"
   ]
  },
  {
   "cell_type": "code",
   "execution_count": null,
   "metadata": {},
   "outputs": [],
   "source": []
  }
 ],
 "metadata": {
  "kernelspec": {
   "display_name": "Python 3",
   "language": "python",
   "name": "python3"
  }
 },
 "nbformat": 4,
 "nbformat_minor": 0
}